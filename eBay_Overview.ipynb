{
 "cells": [
  {
   "cell_type": "code",
   "execution_count": 1,
   "id": "reverse-picking",
   "metadata": {
    "execution": {
     "iopub.execute_input": "2021-09-26T13:30:07.321742Z",
     "iopub.status.busy": "2021-09-26T13:30:07.319793Z",
     "iopub.status.idle": "2021-09-26T13:30:08.123789Z",
     "shell.execute_reply": "2021-09-26T13:30:08.122025Z"
    },
    "papermill": {
     "duration": 0.852754,
     "end_time": "2021-09-26T13:30:08.124246",
     "exception": false,
     "start_time": "2021-09-26T13:30:07.271492",
     "status": "completed"
    },
    "tags": []
   },
   "outputs": [],
   "source": [
    "import pandas as pd\n",
    "import sqlite3"
   ]
  },
  {
   "cell_type": "code",
   "execution_count": 2,
   "id": "innovative-syndrome",
   "metadata": {
    "execution": {
     "iopub.execute_input": "2021-09-26T13:30:08.174890Z",
     "iopub.status.busy": "2021-09-26T13:30:08.172789Z",
     "iopub.status.idle": "2021-09-26T13:30:08.552499Z",
     "shell.execute_reply": "2021-09-26T13:30:08.553702Z"
    },
    "papermill": {
     "duration": 0.409735,
     "end_time": "2021-09-26T13:30:08.554099",
     "exception": false,
     "start_time": "2021-09-26T13:30:08.144364",
     "status": "completed"
    },
    "tags": []
   },
   "outputs": [],
   "source": [
    "timestamps = pd.read_sql(\"select distinct record_time from EBAY_TOP_BERLIN order by record_time desc limit 2\", sqlite3.connect(\"UsedObjects.db\"))"
   ]
  },
  {
   "cell_type": "code",
   "execution_count": 3,
   "id": "periodic-identification",
   "metadata": {
    "execution": {
     "iopub.execute_input": "2021-09-26T13:30:08.618054Z",
     "iopub.status.busy": "2021-09-26T13:30:08.616027Z",
     "iopub.status.idle": "2021-09-26T13:30:08.636052Z",
     "shell.execute_reply": "2021-09-26T13:30:08.637399Z"
    },
    "papermill": {
     "duration": 0.062923,
     "end_time": "2021-09-26T13:30:08.637811",
     "exception": false,
     "start_time": "2021-09-26T13:30:08.574888",
     "status": "completed"
    },
    "tags": []
   },
   "outputs": [
    {
     "data": {
      "text/html": [
       "<div>\n",
       "<style scoped>\n",
       "    .dataframe tbody tr th:only-of-type {\n",
       "        vertical-align: middle;\n",
       "    }\n",
       "\n",
       "    .dataframe tbody tr th {\n",
       "        vertical-align: top;\n",
       "    }\n",
       "\n",
       "    .dataframe thead th {\n",
       "        text-align: right;\n",
       "    }\n",
       "</style>\n",
       "<table border=\"1\" class=\"dataframe\">\n",
       "  <thead>\n",
       "    <tr style=\"text-align: right;\">\n",
       "      <th></th>\n",
       "      <th>RECORD_TIME</th>\n",
       "    </tr>\n",
       "  </thead>\n",
       "  <tbody>\n",
       "    <tr>\n",
       "      <th>0</th>\n",
       "      <td>2021-09-26 15:30</td>\n",
       "    </tr>\n",
       "    <tr>\n",
       "      <th>1</th>\n",
       "      <td>2021-09-26 15:00</td>\n",
       "    </tr>\n",
       "  </tbody>\n",
       "</table>\n",
       "</div>"
      ],
      "text/plain": [
       "        RECORD_TIME\n",
       "0  2021-09-26 15:30\n",
       "1  2021-09-26 15:00"
      ]
     },
     "execution_count": 3,
     "metadata": {},
     "output_type": "execute_result"
    }
   ],
   "source": [
    "timestamps"
   ]
  },
  {
   "cell_type": "code",
   "execution_count": 4,
   "id": "alternate-victory",
   "metadata": {
    "execution": {
     "iopub.execute_input": "2021-09-26T13:30:08.689329Z",
     "iopub.status.busy": "2021-09-26T13:30:08.686772Z",
     "iopub.status.idle": "2021-09-26T13:30:09.260291Z",
     "shell.execute_reply": "2021-09-26T13:30:09.261495Z"
    },
    "papermill": {
     "duration": 0.603043,
     "end_time": "2021-09-26T13:30:09.261886",
     "exception": false,
     "start_time": "2021-09-26T13:30:08.658843",
     "status": "completed"
    },
    "tags": []
   },
   "outputs": [],
   "source": [
    "df = pd.read_sql(\"select * from EBAY_TOP_BERLIN where record_time in (select distinct record_time from EBAY_TOP_BERLIN order by record_time desc limit 2)\", sqlite3.connect(\"UsedObjects.db\"))"
   ]
  },
  {
   "cell_type": "code",
   "execution_count": 5,
   "id": "popular-active",
   "metadata": {
    "execution": {
     "iopub.execute_input": "2021-09-26T13:30:09.341868Z",
     "iopub.status.busy": "2021-09-26T13:30:09.330255Z",
     "iopub.status.idle": "2021-09-26T13:30:09.359477Z",
     "shell.execute_reply": "2021-09-26T13:30:09.360863Z"
    },
    "papermill": {
     "duration": 0.071513,
     "end_time": "2021-09-26T13:30:09.361298",
     "exception": false,
     "start_time": "2021-09-26T13:30:09.289785",
     "status": "completed"
    },
    "tags": []
   },
   "outputs": [],
   "source": [
    "df_pivot = df.pivot_table(index=\"PRODUCT\", columns = \"RECORD_TIME\", values = \"LISTING_COUNT\")"
   ]
  },
  {
   "cell_type": "code",
   "execution_count": 6,
   "id": "union-huntington",
   "metadata": {
    "execution": {
     "iopub.execute_input": "2021-09-26T13:30:09.418043Z",
     "iopub.status.busy": "2021-09-26T13:30:09.415583Z",
     "iopub.status.idle": "2021-09-26T13:30:09.421562Z",
     "shell.execute_reply": "2021-09-26T13:30:09.422991Z"
    },
    "papermill": {
     "duration": 0.042057,
     "end_time": "2021-09-26T13:30:09.423441",
     "exception": false,
     "start_time": "2021-09-26T13:30:09.381384",
     "status": "completed"
    },
    "tags": []
   },
   "outputs": [],
   "source": [
    "df_pivot.columns = [\"stamp_1\", \"stamp_2\"]\n",
    "df_pivot_diff = df_pivot.diff(axis=1)"
   ]
  },
  {
   "cell_type": "code",
   "execution_count": 7,
   "id": "fifth-motion",
   "metadata": {
    "execution": {
     "iopub.execute_input": "2021-09-26T13:30:09.478087Z",
     "iopub.status.busy": "2021-09-26T13:30:09.475796Z",
     "iopub.status.idle": "2021-09-26T13:30:10.954123Z",
     "shell.execute_reply": "2021-09-26T13:30:10.955402Z"
    },
    "papermill": {
     "duration": 1.51124,
     "end_time": "2021-09-26T13:30:10.955837",
     "exception": false,
     "start_time": "2021-09-26T13:30:09.444597",
     "status": "completed"
    },
    "tags": []
   },
   "outputs": [
    {
     "data": {
      "text/plain": [
       "<AxesSubplot:ylabel='PRODUCT'>"
      ]
     },
     "execution_count": 7,
     "metadata": {},
     "output_type": "execute_result"
    },
    {
     "data": {
      "image/png": "[encoded data removed]",
      "text/plain": [
       "<Figure size 432x288 with 1 Axes>"
      ]
     },
     "metadata": {
      "needs_background": "light"
     },
     "output_type": "display_data"
    }
   ],
   "source": [
    "df_pivot_diff.sort_values(\"stamp_2\", ascending = False)[\"stamp_2\"].head(10).plot.barh()"
   ]
  },
  {
   "cell_type": "code",
   "execution_count": null,
   "id": "extra-executive",
   "metadata": {
    "papermill": {
     "duration": 0.021905,
     "end_time": "2021-09-26T13:30:11.001588",
     "exception": false,
     "start_time": "2021-09-26T13:30:10.979683",
     "status": "completed"
    },
    "tags": []
   },
   "outputs": [],
   "source": []
  }
 ],
 "metadata": {
  "kernelspec": {
   "display_name": "Python 3",
   "language": "python",
   "name": "python3"
  },
  "language_info": {
   "codemirror_mode": {
    "name": "ipython",
    "version": 3
   },
   "file_extension": ".py",
   "mimetype": "text/x-python",
   "name": "python",
   "nbconvert_exporter": "python",
   "pygments_lexer": "ipython3",
   "version": "3.9.5"
  },
  "papermill": {
   "default_parameters": {},
   "duration": 6.772185,
   "end_time": "2021-09-26T13:30:11.643160",
   "environment_variables": {},
   "exception": null,
   "input_path": "eBay_Overview.ipynb",
   "output_path": "eBay_Overview.ipynb",
   "parameters": {},
   "start_time": "2021-09-26T13:30:04.870975",
   "version": "2.3.3"
  }
 },
 "nbformat": 4,
 "nbformat_minor": 5
}