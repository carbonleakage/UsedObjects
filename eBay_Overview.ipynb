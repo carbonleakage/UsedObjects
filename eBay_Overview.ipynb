{
 "cells": [
  {
   "cell_type": "code",
   "execution_count": 1,
   "id": "reverse-picking",
   "metadata": {
    "execution": {
     "iopub.execute_input": "2021-08-21T21:30:07.393507Z",
     "iopub.status.busy": "2021-08-21T21:30:07.391562Z",
     "iopub.status.idle": "2021-08-21T21:30:08.196850Z",
     "shell.execute_reply": "2021-08-21T21:30:08.198242Z"
    },
    "papermill": {
     "duration": 0.857378,
     "end_time": "2021-08-21T21:30:08.198921",
     "exception": false,
     "start_time": "2021-08-21T21:30:07.341543",
     "status": "completed"
    },
    "tags": []
   },
   "outputs": [],
   "source": [
    "import pandas as pd\n",
    "import sqlite3"
   ]
  },
  {
   "cell_type": "code",
   "execution_count": 2,
   "id": "innovative-syndrome",
   "metadata": {
    "execution": {
     "iopub.execute_input": "2021-08-21T21:30:08.250206Z",
     "iopub.status.busy": "2021-08-21T21:30:08.248186Z",
     "iopub.status.idle": "2021-08-21T21:30:08.349720Z",
     "shell.execute_reply": "2021-08-21T21:30:08.351829Z"
    },
    "papermill": {
     "duration": 0.132228,
     "end_time": "2021-08-21T21:30:08.352287",
     "exception": false,
     "start_time": "2021-08-21T21:30:08.220059",
     "status": "completed"
    },
    "tags": []
   },
   "outputs": [],
   "source": [
    "timestamps = pd.read_sql(\"select distinct record_time from EBAY_TOP_BERLIN order by record_time desc limit 2\", sqlite3.connect(\"UsedObjects.db\"))"
   ]
  },
  {
   "cell_type": "code",
   "execution_count": 3,
   "id": "periodic-identification",
   "metadata": {
    "execution": {
     "iopub.execute_input": "2021-08-21T21:30:08.417188Z",
     "iopub.status.busy": "2021-08-21T21:30:08.415168Z",
     "iopub.status.idle": "2021-08-21T21:30:08.434909Z",
     "shell.execute_reply": "2021-08-21T21:30:08.436306Z"
    },
    "papermill": {
     "duration": 0.065366,
     "end_time": "2021-08-21T21:30:08.436749",
     "exception": false,
     "start_time": "2021-08-21T21:30:08.371383",
     "status": "completed"
    },
    "tags": []
   },
   "outputs": [
    {
     "data": {
      "text/html": [
       "<div>\n",
       "<style scoped>\n",
       "    .dataframe tbody tr th:only-of-type {\n",
       "        vertical-align: middle;\n",
       "    }\n",
       "\n",
       "    .dataframe tbody tr th {\n",
       "        vertical-align: top;\n",
       "    }\n",
       "\n",
       "    .dataframe thead th {\n",
       "        text-align: right;\n",
       "    }\n",
       "</style>\n",
       "<table border=\"1\" class=\"dataframe\">\n",
       "  <thead>\n",
       "    <tr style=\"text-align: right;\">\n",
       "      <th></th>\n",
       "      <th>RECORD_TIME</th>\n",
       "    </tr>\n",
       "  </thead>\n",
       "  <tbody>\n",
       "    <tr>\n",
       "      <th>0</th>\n",
       "      <td>2021-08-21 23:30</td>\n",
       "    </tr>\n",
       "    <tr>\n",
       "      <th>1</th>\n",
       "      <td>2021-08-21 23:00</td>\n",
       "    </tr>\n",
       "  </tbody>\n",
       "</table>\n",
       "</div>"
      ],
      "text/plain": [
       "        RECORD_TIME\n",
       "0  2021-08-21 23:30\n",
       "1  2021-08-21 23:00"
      ]
     },
     "execution_count": 3,
     "metadata": {},
     "output_type": "execute_result"
    }
   ],
   "source": [
    "timestamps"
   ]
  },
  {
   "cell_type": "code",
   "execution_count": 4,
   "id": "alternate-victory",
   "metadata": {
    "execution": {
     "iopub.execute_input": "2021-08-21T21:30:08.487695Z",
     "iopub.status.busy": "2021-08-21T21:30:08.485432Z",
     "iopub.status.idle": "2021-08-21T21:30:08.641799Z",
     "shell.execute_reply": "2021-08-21T21:30:08.640409Z"
    },
    "papermill": {
     "duration": 0.185091,
     "end_time": "2021-08-21T21:30:08.642232",
     "exception": false,
     "start_time": "2021-08-21T21:30:08.457141",
     "status": "completed"
    },
    "tags": []
   },
   "outputs": [],
   "source": [
    "df = pd.read_sql(\"select * from EBAY_TOP_BERLIN where record_time in (select distinct record_time from EBAY_TOP_BERLIN order by record_time desc limit 2)\", sqlite3.connect(\"UsedObjects.db\"))"
   ]
  },
  {
   "cell_type": "code",
   "execution_count": 5,
   "id": "popular-active",
   "metadata": {
    "execution": {
     "iopub.execute_input": "2021-08-21T21:30:08.712213Z",
     "iopub.status.busy": "2021-08-21T21:30:08.699962Z",
     "iopub.status.idle": "2021-08-21T21:30:08.727581Z",
     "shell.execute_reply": "2021-08-21T21:30:08.728782Z"
    },
    "papermill": {
     "duration": 0.066573,
     "end_time": "2021-08-21T21:30:08.729181",
     "exception": false,
     "start_time": "2021-08-21T21:30:08.662608",
     "status": "completed"
    },
    "tags": []
   },
   "outputs": [],
   "source": [
    "df_pivot = df.pivot_table(index=\"PRODUCT\", columns = \"RECORD_TIME\", values = \"LISTING_COUNT\")"
   ]
  },
  {
   "cell_type": "code",
   "execution_count": 6,
   "id": "union-huntington",
   "metadata": {
    "execution": {
     "iopub.execute_input": "2021-08-21T21:30:08.788813Z",
     "iopub.status.busy": "2021-08-21T21:30:08.786335Z",
     "iopub.status.idle": "2021-08-21T21:30:08.792186Z",
     "shell.execute_reply": "2021-08-21T21:30:08.793462Z"
    },
    "papermill": {
     "duration": 0.042686,
     "end_time": "2021-08-21T21:30:08.793885",
     "exception": false,
     "start_time": "2021-08-21T21:30:08.751199",
     "status": "completed"
    },
    "tags": []
   },
   "outputs": [],
   "source": [
    "df_pivot.columns = [\"stamp_1\", \"stamp_2\"]\n",
    "df_pivot_diff = df_pivot.diff(axis=1)"
   ]
  },
  {
   "cell_type": "code",
   "execution_count": 7,
   "id": "fifth-motion",
   "metadata": {
    "execution": {
     "iopub.execute_input": "2021-08-21T21:30:08.869274Z",
     "iopub.status.busy": "2021-08-21T21:30:08.866629Z",
     "iopub.status.idle": "2021-08-21T21:30:10.362658Z",
     "shell.execute_reply": "2021-08-21T21:30:10.363949Z"
    },
    "papermill": {
     "duration": 1.536004,
     "end_time": "2021-08-21T21:30:10.364375",
     "exception": false,
     "start_time": "2021-08-21T21:30:08.828371",
     "status": "completed"
    },
    "tags": []
   },
   "outputs": [
    {
     "data": {
      "text/plain": [
       "<AxesSubplot:ylabel='PRODUCT'>"
      ]
     },
     "execution_count": 7,
     "metadata": {},
     "output_type": "execute_result"
    },
    {
     "data": {
      "image/png": "[encoded data removed]",
      "text/plain": [
       "<Figure size 432x288 with 1 Axes>"
      ]
     },
     "metadata": {
      "needs_background": "light"
     },
     "output_type": "display_data"
    }
   ],
   "source": [
    "df_pivot_diff.sort_values(\"stamp_2\", ascending = False)[\"stamp_2\"].head(10).plot.barh()"
   ]
  },
  {
   "cell_type": "code",
   "execution_count": null,
   "id": "extra-executive",
   "metadata": {
    "papermill": {
     "duration": 0.02219,
     "end_time": "2021-08-21T21:30:10.411168",
     "exception": false,
     "start_time": "2021-08-21T21:30:10.388978",
     "status": "completed"
    },
    "tags": []
   },
   "outputs": [],
   "source": []
  }
 ],
 "metadata": {
  "kernelspec": {
   "display_name": "Python 3",
   "language": "python",
   "name": "python3"
  },
  "language_info": {
   "codemirror_mode": {
    "name": "ipython",
    "version": 3
   },
   "file_extension": ".py",
   "mimetype": "text/x-python",
   "name": "python",
   "nbconvert_exporter": "python",
   "pygments_lexer": "ipython3",
   "version": "3.9.5"
  },
  "papermill": {
   "default_parameters": {},
   "duration": 6.838481,
   "end_time": "2021-08-21T21:30:11.771646",
   "environment_variables": {},
   "exception": null,
   "input_path": "eBay_Overview.ipynb",
   "output_path": "eBay_Overview.ipynb",
   "parameters": {},
   "start_time": "2021-08-21T21:30:04.933165",
   "version": "2.3.3"
  }
 },
 "nbformat": 4,
 "nbformat_minor": 5
}