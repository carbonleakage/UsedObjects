{
 "cells": [
  {
   "cell_type": "code",
   "execution_count": 1,
   "id": "reverse-picking",
   "metadata": {
    "execution": {
     "iopub.execute_input": "2021-11-12T14:00:07.408794Z",
     "iopub.status.busy": "2021-11-12T14:00:07.398799Z",
     "iopub.status.idle": "2021-11-12T14:00:08.322950Z",
     "shell.execute_reply": "2021-11-12T14:00:08.324531Z"
    },
    "papermill": {
     "duration": 0.97416,
     "end_time": "2021-11-12T14:00:08.325358",
     "exception": false,
     "start_time": "2021-11-12T14:00:07.351198",
     "status": "completed"
    },
    "tags": []
   },
   "outputs": [],
   "source": [
    "import pandas as pd\n",
    "import sqlite3"
   ]
  },
  {
   "cell_type": "code",
   "execution_count": 2,
   "id": "innovative-syndrome",
   "metadata": {
    "execution": {
     "iopub.execute_input": "2021-11-12T14:00:08.388128Z",
     "iopub.status.busy": "2021-11-12T14:00:08.385937Z",
     "iopub.status.idle": "2021-11-12T14:00:09.204891Z",
     "shell.execute_reply": "2021-11-12T14:00:09.206448Z"
    },
    "papermill": {
     "duration": 0.854337,
     "end_time": "2021-11-12T14:00:09.206959",
     "exception": false,
     "start_time": "2021-11-12T14:00:08.352622",
     "status": "completed"
    },
    "tags": []
   },
   "outputs": [],
   "source": [
    "timestamps = pd.read_sql(\"select distinct record_time from EBAY_TOP_BERLIN order by record_time desc limit 2\", sqlite3.connect(\"UsedObjects.db\"))"
   ]
  },
  {
   "cell_type": "code",
   "execution_count": 3,
   "id": "periodic-identification",
   "metadata": {
    "execution": {
     "iopub.execute_input": "2021-11-12T14:00:09.280521Z",
     "iopub.status.busy": "2021-11-12T14:00:09.278177Z",
     "iopub.status.idle": "2021-11-12T14:00:09.301758Z",
     "shell.execute_reply": "2021-11-12T14:00:09.303307Z"
    },
    "papermill": {
     "duration": 0.076337,
     "end_time": "2021-11-12T14:00:09.303827",
     "exception": false,
     "start_time": "2021-11-12T14:00:09.227490",
     "status": "completed"
    },
    "tags": []
   },
   "outputs": [
    {
     "data": {
      "text/html": [
       "<div>\n",
       "<style scoped>\n",
       "    .dataframe tbody tr th:only-of-type {\n",
       "        vertical-align: middle;\n",
       "    }\n",
       "\n",
       "    .dataframe tbody tr th {\n",
       "        vertical-align: top;\n",
       "    }\n",
       "\n",
       "    .dataframe thead th {\n",
       "        text-align: right;\n",
       "    }\n",
       "</style>\n",
       "<table border=\"1\" class=\"dataframe\">\n",
       "  <thead>\n",
       "    <tr style=\"text-align: right;\">\n",
       "      <th></th>\n",
       "      <th>RECORD_TIME</th>\n",
       "    </tr>\n",
       "  </thead>\n",
       "  <tbody>\n",
       "    <tr>\n",
       "      <th>0</th>\n",
       "      <td>2021-11-12 15:00</td>\n",
       "    </tr>\n",
       "    <tr>\n",
       "      <th>1</th>\n",
       "      <td>2021-11-12 14:30</td>\n",
       "    </tr>\n",
       "  </tbody>\n",
       "</table>\n",
       "</div>"
      ],
      "text/plain": [
       "        RECORD_TIME\n",
       "0  2021-11-12 15:00\n",
       "1  2021-11-12 14:30"
      ]
     },
     "execution_count": 3,
     "metadata": {},
     "output_type": "execute_result"
    }
   ],
   "source": [
    "timestamps"
   ]
  },
  {
   "cell_type": "code",
   "execution_count": 4,
   "id": "alternate-victory",
   "metadata": {
    "execution": {
     "iopub.execute_input": "2021-11-12T14:00:09.360315Z",
     "iopub.status.busy": "2021-11-12T14:00:09.358054Z",
     "iopub.status.idle": "2021-11-12T14:00:10.532145Z",
     "shell.execute_reply": "2021-11-12T14:00:10.533761Z"
    },
    "papermill": {
     "duration": 1.208902,
     "end_time": "2021-11-12T14:00:10.534225",
     "exception": false,
     "start_time": "2021-11-12T14:00:09.325323",
     "status": "completed"
    },
    "tags": []
   },
   "outputs": [],
   "source": [
    "df = pd.read_sql(\"select * from EBAY_TOP_BERLIN where record_time in (select distinct record_time from EBAY_TOP_BERLIN order by record_time desc limit 2)\", sqlite3.connect(\"UsedObjects.db\"))"
   ]
  },
  {
   "cell_type": "code",
   "execution_count": 5,
   "id": "popular-active",
   "metadata": {
    "execution": {
     "iopub.execute_input": "2021-11-12T14:00:10.609934Z",
     "iopub.status.busy": "2021-11-12T14:00:10.596924Z",
     "iopub.status.idle": "2021-11-12T14:00:10.633420Z",
     "shell.execute_reply": "2021-11-12T14:00:10.635297Z"
    },
    "papermill": {
     "duration": 0.081232,
     "end_time": "2021-11-12T14:00:10.636069",
     "exception": false,
     "start_time": "2021-11-12T14:00:10.554837",
     "status": "completed"
    },
    "tags": []
   },
   "outputs": [],
   "source": [
    "df_pivot = df.pivot_table(index=\"PRODUCT\", columns = \"RECORD_TIME\", values = \"LISTING_COUNT\")"
   ]
  },
  {
   "cell_type": "code",
   "execution_count": 6,
   "id": "union-huntington",
   "metadata": {
    "execution": {
     "iopub.execute_input": "2021-11-12T14:00:10.721172Z",
     "iopub.status.busy": "2021-11-12T14:00:10.718495Z",
     "iopub.status.idle": "2021-11-12T14:00:10.725205Z",
     "shell.execute_reply": "2021-11-12T14:00:10.726981Z"
    },
    "papermill": {
     "duration": 0.057939,
     "end_time": "2021-11-12T14:00:10.727539",
     "exception": false,
     "start_time": "2021-11-12T14:00:10.669600",
     "status": "completed"
    },
    "tags": []
   },
   "outputs": [],
   "source": [
    "df_pivot.columns = [\"stamp_1\", \"stamp_2\"]\n",
    "df_pivot_diff = df_pivot.diff(axis=1)"
   ]
  },
  {
   "cell_type": "code",
   "execution_count": 7,
   "id": "fifth-motion",
   "metadata": {
    "execution": {
     "iopub.execute_input": "2021-11-12T14:00:10.786518Z",
     "iopub.status.busy": "2021-11-12T14:00:10.783671Z",
     "iopub.status.idle": "2021-11-12T14:00:12.587131Z",
     "shell.execute_reply": "2021-11-12T14:00:12.590320Z"
    },
    "papermill": {
     "duration": 1.842873,
     "end_time": "2021-11-12T14:00:12.591547",
     "exception": false,
     "start_time": "2021-11-12T14:00:10.748674",
     "status": "completed"
    },
    "tags": []
   },
   "outputs": [
    {
     "data": {
      "text/plain": [
       "<AxesSubplot:ylabel='PRODUCT'>"
      ]
     },
     "execution_count": 7,
     "metadata": {},
     "output_type": "execute_result"
    },
    {
     "data": {
      "image/png": "[encoded data removed]",
      "text/plain": [
       "<Figure size 432x288 with 1 Axes>"
      ]
     },
     "metadata": {
      "needs_background": "light"
     },
     "output_type": "display_data"
    }
   ],
   "source": [
    "df_pivot_diff.sort_values(\"stamp_2\", ascending = False)[\"stamp_2\"].head(10).plot.barh()"
   ]
  },
  {
   "cell_type": "code",
   "execution_count": null,
   "id": "extra-executive",
   "metadata": {
    "papermill": {
     "duration": 0.034517,
     "end_time": "2021-11-12T14:00:12.665790",
     "exception": false,
     "start_time": "2021-11-12T14:00:12.631273",
     "status": "completed"
    },
    "tags": []
   },
   "outputs": [],
   "source": []
  }
 ],
 "metadata": {
  "kernelspec": {
   "display_name": "Python 3",
   "language": "python",
   "name": "python3"
  },
  "language_info": {
   "codemirror_mode": {
    "name": "ipython",
    "version": 3
   },
   "file_extension": ".py",
   "mimetype": "text/x-python",
   "name": "python",
   "nbconvert_exporter": "python",
   "pygments_lexer": "ipython3",
   "version": "3.9.5"
  },
  "papermill": {
   "default_parameters": {},
   "duration": 8.895314,
   "end_time": "2021-11-12T14:00:13.532948",
   "environment_variables": {},
   "exception": null,
   "input_path": "eBay_Overview.ipynb",
   "output_path": "eBay_Overview.ipynb",
   "parameters": {},
   "start_time": "2021-11-12T14:00:04.637634",
   "version": "2.3.3"
  }
 },
 "nbformat": 4,
 "nbformat_minor": 5
}