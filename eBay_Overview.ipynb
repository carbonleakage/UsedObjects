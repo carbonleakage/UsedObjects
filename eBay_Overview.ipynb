{
 "cells": [
  {
   "cell_type": "code",
   "execution_count": 1,
   "id": "reverse-picking",
   "metadata": {
    "execution": {
     "iopub.execute_input": "2021-09-14T13:00:06.853434Z",
     "iopub.status.busy": "2021-09-14T13:00:06.851362Z",
     "iopub.status.idle": "2021-09-14T13:00:07.655868Z",
     "shell.execute_reply": "2021-09-14T13:00:07.657142Z"
    },
    "papermill": {
     "duration": 0.856053,
     "end_time": "2021-09-14T13:00:07.657760",
     "exception": false,
     "start_time": "2021-09-14T13:00:06.801707",
     "status": "completed"
    },
    "tags": []
   },
   "outputs": [],
   "source": [
    "import pandas as pd\n",
    "import sqlite3"
   ]
  },
  {
   "cell_type": "code",
   "execution_count": 2,
   "id": "innovative-syndrome",
   "metadata": {
    "execution": {
     "iopub.execute_input": "2021-09-14T13:00:07.711469Z",
     "iopub.status.busy": "2021-09-14T13:00:07.709038Z",
     "iopub.status.idle": "2021-09-14T13:00:07.993728Z",
     "shell.execute_reply": "2021-09-14T13:00:07.995017Z"
    },
    "papermill": {
     "duration": 0.315088,
     "end_time": "2021-09-14T13:00:07.995470",
     "exception": false,
     "start_time": "2021-09-14T13:00:07.680382",
     "status": "completed"
    },
    "tags": []
   },
   "outputs": [],
   "source": [
    "timestamps = pd.read_sql(\"select distinct record_time from EBAY_TOP_BERLIN order by record_time desc limit 2\", sqlite3.connect(\"UsedObjects.db\"))"
   ]
  },
  {
   "cell_type": "code",
   "execution_count": 3,
   "id": "periodic-identification",
   "metadata": {
    "execution": {
     "iopub.execute_input": "2021-09-14T13:00:08.061358Z",
     "iopub.status.busy": "2021-09-14T13:00:08.059336Z",
     "iopub.status.idle": "2021-09-14T13:00:08.079424Z",
     "shell.execute_reply": "2021-09-14T13:00:08.080717Z"
    },
    "papermill": {
     "duration": 0.066192,
     "end_time": "2021-09-14T13:00:08.081169",
     "exception": false,
     "start_time": "2021-09-14T13:00:08.014977",
     "status": "completed"
    },
    "tags": []
   },
   "outputs": [
    {
     "data": {
      "text/html": [
       "<div>\n",
       "<style scoped>\n",
       "    .dataframe tbody tr th:only-of-type {\n",
       "        vertical-align: middle;\n",
       "    }\n",
       "\n",
       "    .dataframe tbody tr th {\n",
       "        vertical-align: top;\n",
       "    }\n",
       "\n",
       "    .dataframe thead th {\n",
       "        text-align: right;\n",
       "    }\n",
       "</style>\n",
       "<table border=\"1\" class=\"dataframe\">\n",
       "  <thead>\n",
       "    <tr style=\"text-align: right;\">\n",
       "      <th></th>\n",
       "      <th>RECORD_TIME</th>\n",
       "    </tr>\n",
       "  </thead>\n",
       "  <tbody>\n",
       "    <tr>\n",
       "      <th>0</th>\n",
       "      <td>2021-09-14 15:00</td>\n",
       "    </tr>\n",
       "    <tr>\n",
       "      <th>1</th>\n",
       "      <td>2021-09-14 14:30</td>\n",
       "    </tr>\n",
       "  </tbody>\n",
       "</table>\n",
       "</div>"
      ],
      "text/plain": [
       "        RECORD_TIME\n",
       "0  2021-09-14 15:00\n",
       "1  2021-09-14 14:30"
      ]
     },
     "execution_count": 3,
     "metadata": {},
     "output_type": "execute_result"
    }
   ],
   "source": [
    "timestamps"
   ]
  },
  {
   "cell_type": "code",
   "execution_count": 4,
   "id": "alternate-victory",
   "metadata": {
    "execution": {
     "iopub.execute_input": "2021-09-14T13:00:08.132542Z",
     "iopub.status.busy": "2021-09-14T13:00:08.130558Z",
     "iopub.status.idle": "2021-09-14T13:00:08.558058Z",
     "shell.execute_reply": "2021-09-14T13:00:08.559444Z"
    },
    "papermill": {
     "duration": 0.457712,
     "end_time": "2021-09-14T13:00:08.559874",
     "exception": false,
     "start_time": "2021-09-14T13:00:08.102162",
     "status": "completed"
    },
    "tags": []
   },
   "outputs": [],
   "source": [
    "df = pd.read_sql(\"select * from EBAY_TOP_BERLIN where record_time in (select distinct record_time from EBAY_TOP_BERLIN order by record_time desc limit 2)\", sqlite3.connect(\"UsedObjects.db\"))"
   ]
  },
  {
   "cell_type": "code",
   "execution_count": 5,
   "id": "popular-active",
   "metadata": {
    "execution": {
     "iopub.execute_input": "2021-09-14T13:00:08.641162Z",
     "iopub.status.busy": "2021-09-14T13:00:08.629992Z",
     "iopub.status.idle": "2021-09-14T13:00:08.658123Z",
     "shell.execute_reply": "2021-09-14T13:00:08.659836Z"
    },
    "papermill": {
     "duration": 0.074514,
     "end_time": "2021-09-14T13:00:08.660315",
     "exception": false,
     "start_time": "2021-09-14T13:00:08.585801",
     "status": "completed"
    },
    "tags": []
   },
   "outputs": [],
   "source": [
    "df_pivot = df.pivot_table(index=\"PRODUCT\", columns = \"RECORD_TIME\", values = \"LISTING_COUNT\")"
   ]
  },
  {
   "cell_type": "code",
   "execution_count": 6,
   "id": "union-huntington",
   "metadata": {
    "execution": {
     "iopub.execute_input": "2021-09-14T13:00:08.719346Z",
     "iopub.status.busy": "2021-09-14T13:00:08.717233Z",
     "iopub.status.idle": "2021-09-14T13:00:08.722375Z",
     "shell.execute_reply": "2021-09-14T13:00:08.723731Z"
    },
    "papermill": {
     "duration": 0.040749,
     "end_time": "2021-09-14T13:00:08.724148",
     "exception": false,
     "start_time": "2021-09-14T13:00:08.683399",
     "status": "completed"
    },
    "tags": []
   },
   "outputs": [],
   "source": [
    "df_pivot.columns = [\"stamp_1\", \"stamp_2\"]\n",
    "df_pivot_diff = df_pivot.diff(axis=1)"
   ]
  },
  {
   "cell_type": "code",
   "execution_count": 7,
   "id": "fifth-motion",
   "metadata": {
    "execution": {
     "iopub.execute_input": "2021-09-14T13:00:08.778629Z",
     "iopub.status.busy": "2021-09-14T13:00:08.776216Z",
     "iopub.status.idle": "2021-09-14T13:00:10.244765Z",
     "shell.execute_reply": "2021-09-14T13:00:10.246056Z"
    },
    "papermill": {
     "duration": 1.501697,
     "end_time": "2021-09-14T13:00:10.246466",
     "exception": false,
     "start_time": "2021-09-14T13:00:08.744769",
     "status": "completed"
    },
    "tags": []
   },
   "outputs": [
    {
     "data": {
      "text/plain": [
       "<AxesSubplot:ylabel='PRODUCT'>"
      ]
     },
     "execution_count": 7,
     "metadata": {},
     "output_type": "execute_result"
    },
    {
     "data": {
      "image/png": "[encoded data removed]",
      "text/plain": [
       "<Figure size 432x288 with 1 Axes>"
      ]
     },
     "metadata": {
      "needs_background": "light"
     },
     "output_type": "display_data"
    }
   ],
   "source": [
    "df_pivot_diff.sort_values(\"stamp_2\", ascending = False)[\"stamp_2\"].head(10).plot.barh()"
   ]
  },
  {
   "cell_type": "code",
   "execution_count": null,
   "id": "extra-executive",
   "metadata": {
    "papermill": {
     "duration": 0.022209,
     "end_time": "2021-09-14T13:00:10.293186",
     "exception": false,
     "start_time": "2021-09-14T13:00:10.270977",
     "status": "completed"
    },
    "tags": []
   },
   "outputs": [],
   "source": []
  }
 ],
 "metadata": {
  "kernelspec": {
   "display_name": "Python 3",
   "language": "python",
   "name": "python3"
  },
  "language_info": {
   "codemirror_mode": {
    "name": "ipython",
    "version": 3
   },
   "file_extension": ".py",
   "mimetype": "text/x-python",
   "name": "python",
   "nbconvert_exporter": "python",
   "pygments_lexer": "ipython3",
   "version": "3.9.5"
  },
  "papermill": {
   "default_parameters": {},
   "duration": 6.535962,
   "end_time": "2021-09-14T13:00:10.935987",
   "environment_variables": {},
   "exception": null,
   "input_path": "eBay_Overview.ipynb",
   "output_path": "eBay_Overview.ipynb",
   "parameters": {},
   "start_time": "2021-09-14T13:00:04.400025",
   "version": "2.3.3"
  }
 },
 "nbformat": 4,
 "nbformat_minor": 5
}