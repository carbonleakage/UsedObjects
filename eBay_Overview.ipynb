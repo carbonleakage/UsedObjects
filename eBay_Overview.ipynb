{
 "cells": [
  {
   "cell_type": "code",
   "execution_count": 1,
   "id": "reverse-picking",
   "metadata": {
    "execution": {
     "iopub.execute_input": "2021-11-28T19:00:08.041304Z",
     "iopub.status.busy": "2021-11-28T19:00:08.023417Z",
     "iopub.status.idle": "2021-11-28T19:00:08.998775Z",
     "shell.execute_reply": "2021-11-28T19:00:09.000367Z"
    },
    "papermill": {
     "duration": 1.008539,
     "end_time": "2021-11-28T19:00:09.001199",
     "exception": false,
     "start_time": "2021-11-28T19:00:07.992660",
     "status": "completed"
    },
    "tags": []
   },
   "outputs": [],
   "source": [
    "import pandas as pd\n",
    "import sqlite3"
   ]
  },
  {
   "cell_type": "code",
   "execution_count": 2,
   "id": "innovative-syndrome",
   "metadata": {
    "execution": {
     "iopub.execute_input": "2021-11-28T19:00:09.064369Z",
     "iopub.status.busy": "2021-11-28T19:00:09.061917Z",
     "iopub.status.idle": "2021-11-28T19:00:10.009255Z",
     "shell.execute_reply": "2021-11-28T19:00:10.010825Z"
    },
    "papermill": {
     "duration": 0.981302,
     "end_time": "2021-11-28T19:00:10.011404",
     "exception": false,
     "start_time": "2021-11-28T19:00:09.030102",
     "status": "completed"
    },
    "tags": []
   },
   "outputs": [],
   "source": [
    "timestamps = pd.read_sql(\"select distinct record_time from EBAY_TOP_BERLIN order by record_time desc limit 2\", sqlite3.connect(\"UsedObjects.db\"))"
   ]
  },
  {
   "cell_type": "code",
   "execution_count": 3,
   "id": "periodic-identification",
   "metadata": {
    "execution": {
     "iopub.execute_input": "2021-11-28T19:00:10.079581Z",
     "iopub.status.busy": "2021-11-28T19:00:10.077412Z",
     "iopub.status.idle": "2021-11-28T19:00:10.098928Z",
     "shell.execute_reply": "2021-11-28T19:00:10.100082Z"
    },
    "papermill": {
     "duration": 0.06638,
     "end_time": "2021-11-28T19:00:10.100500",
     "exception": false,
     "start_time": "2021-11-28T19:00:10.034120",
     "status": "completed"
    },
    "tags": []
   },
   "outputs": [
    {
     "data": {
      "text/html": [
       "<div>\n",
       "<style scoped>\n",
       "    .dataframe tbody tr th:only-of-type {\n",
       "        vertical-align: middle;\n",
       "    }\n",
       "\n",
       "    .dataframe tbody tr th {\n",
       "        vertical-align: top;\n",
       "    }\n",
       "\n",
       "    .dataframe thead th {\n",
       "        text-align: right;\n",
       "    }\n",
       "</style>\n",
       "<table border=\"1\" class=\"dataframe\">\n",
       "  <thead>\n",
       "    <tr style=\"text-align: right;\">\n",
       "      <th></th>\n",
       "      <th>RECORD_TIME</th>\n",
       "    </tr>\n",
       "  </thead>\n",
       "  <tbody>\n",
       "    <tr>\n",
       "      <th>0</th>\n",
       "      <td>2021-11-28 20:00</td>\n",
       "    </tr>\n",
       "    <tr>\n",
       "      <th>1</th>\n",
       "      <td>2021-11-28 19:30</td>\n",
       "    </tr>\n",
       "  </tbody>\n",
       "</table>\n",
       "</div>"
      ],
      "text/plain": [
       "        RECORD_TIME\n",
       "0  2021-11-28 20:00\n",
       "1  2021-11-28 19:30"
      ]
     },
     "execution_count": 3,
     "metadata": {},
     "output_type": "execute_result"
    }
   ],
   "source": [
    "timestamps"
   ]
  },
  {
   "cell_type": "code",
   "execution_count": 4,
   "id": "alternate-victory",
   "metadata": {
    "execution": {
     "iopub.execute_input": "2021-11-28T19:00:10.155182Z",
     "iopub.status.busy": "2021-11-28T19:00:10.153115Z",
     "iopub.status.idle": "2021-11-28T19:00:11.517967Z",
     "shell.execute_reply": "2021-11-28T19:00:11.519785Z"
    },
    "papermill": {
     "duration": 1.396186,
     "end_time": "2021-11-28T19:00:11.520259",
     "exception": false,
     "start_time": "2021-11-28T19:00:10.124073",
     "status": "completed"
    },
    "tags": []
   },
   "outputs": [],
   "source": [
    "df = pd.read_sql(\"select * from EBAY_TOP_BERLIN where record_time in (select distinct record_time from EBAY_TOP_BERLIN order by record_time desc limit 2)\", sqlite3.connect(\"UsedObjects.db\"))"
   ]
  },
  {
   "cell_type": "code",
   "execution_count": 5,
   "id": "popular-active",
   "metadata": {
    "execution": {
     "iopub.execute_input": "2021-11-28T19:00:11.601491Z",
     "iopub.status.busy": "2021-11-28T19:00:11.586693Z",
     "iopub.status.idle": "2021-11-28T19:00:11.620979Z",
     "shell.execute_reply": "2021-11-28T19:00:11.622602Z"
    },
    "papermill": {
     "duration": 0.082078,
     "end_time": "2021-11-28T19:00:11.623115",
     "exception": false,
     "start_time": "2021-11-28T19:00:11.541037",
     "status": "completed"
    },
    "tags": []
   },
   "outputs": [],
   "source": [
    "df_pivot = df.pivot_table(index=\"PRODUCT\", columns = \"RECORD_TIME\", values = \"LISTING_COUNT\")"
   ]
  },
  {
   "cell_type": "code",
   "execution_count": 6,
   "id": "union-huntington",
   "metadata": {
    "execution": {
     "iopub.execute_input": "2021-11-28T19:00:11.690473Z",
     "iopub.status.busy": "2021-11-28T19:00:11.687996Z",
     "iopub.status.idle": "2021-11-28T19:00:11.697922Z",
     "shell.execute_reply": "2021-11-28T19:00:11.699371Z"
    },
    "papermill": {
     "duration": 0.054667,
     "end_time": "2021-11-28T19:00:11.699866",
     "exception": false,
     "start_time": "2021-11-28T19:00:11.645199",
     "status": "completed"
    },
    "tags": []
   },
   "outputs": [],
   "source": [
    "df_pivot.columns = [\"stamp_1\", \"stamp_2\"]\n",
    "df_pivot_diff = df_pivot.diff(axis=1)"
   ]
  },
  {
   "cell_type": "code",
   "execution_count": 7,
   "id": "fifth-motion",
   "metadata": {
    "execution": {
     "iopub.execute_input": "2021-11-28T19:00:11.758830Z",
     "iopub.status.busy": "2021-11-28T19:00:11.756285Z",
     "iopub.status.idle": "2021-11-28T19:00:13.794539Z",
     "shell.execute_reply": "2021-11-28T19:00:13.796400Z"
    },
    "papermill": {
     "duration": 2.07425,
     "end_time": "2021-11-28T19:00:13.797083",
     "exception": false,
     "start_time": "2021-11-28T19:00:11.722833",
     "status": "completed"
    },
    "tags": []
   },
   "outputs": [
    {
     "data": {
      "text/plain": [
       "<AxesSubplot:ylabel='PRODUCT'>"
      ]
     },
     "execution_count": 7,
     "metadata": {},
     "output_type": "execute_result"
    },
    {
     "data": {
      "image/png": "[encoded data removed]",
      "text/plain": [
       "<Figure size 432x288 with 1 Axes>"
      ]
     },
     "metadata": {
      "needs_background": "light"
     },
     "output_type": "display_data"
    }
   ],
   "source": [
    "df_pivot_diff.sort_values(\"stamp_2\", ascending = False)[\"stamp_2\"].head(10).plot.barh()"
   ]
  },
  {
   "cell_type": "code",
   "execution_count": null,
   "id": "extra-executive",
   "metadata": {
    "papermill": {
     "duration": 0.028593,
     "end_time": "2021-11-28T19:00:13.854754",
     "exception": false,
     "start_time": "2021-11-28T19:00:13.826161",
     "status": "completed"
    },
    "tags": []
   },
   "outputs": [],
   "source": []
  }
 ],
 "metadata": {
  "kernelspec": {
   "display_name": "Python 3",
   "language": "python",
   "name": "python3"
  },
  "language_info": {
   "codemirror_mode": {
    "name": "ipython",
    "version": 3
   },
   "file_extension": ".py",
   "mimetype": "text/x-python",
   "name": "python",
   "nbconvert_exporter": "python",
   "pygments_lexer": "ipython3",
   "version": "3.9.5"
  },
  "papermill": {
   "default_parameters": {},
   "duration": 9.947664,
   "end_time": "2021-11-28T19:00:15.201444",
   "environment_variables": {},
   "exception": null,
   "input_path": "eBay_Overview.ipynb",
   "output_path": "eBay_Overview.ipynb",
   "parameters": {},
   "start_time": "2021-11-28T19:00:05.253780",
   "version": "2.3.3"
  }
 },
 "nbformat": 4,
 "nbformat_minor": 5
}