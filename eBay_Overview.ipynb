{
 "cells": [
  {
   "cell_type": "code",
   "execution_count": 1,
   "id": "reverse-picking",
   "metadata": {
    "execution": {
     "iopub.execute_input": "2021-10-06T07:00:07.297100Z",
     "iopub.status.busy": "2021-10-06T07:00:07.295143Z",
     "iopub.status.idle": "2021-10-06T07:00:08.104533Z",
     "shell.execute_reply": "2021-10-06T07:00:08.105770Z"
    },
    "papermill": {
     "duration": 0.861813,
     "end_time": "2021-10-06T07:00:08.106388",
     "exception": false,
     "start_time": "2021-10-06T07:00:07.244575",
     "status": "completed"
    },
    "tags": []
   },
   "outputs": [],
   "source": [
    "import pandas as pd\n",
    "import sqlite3"
   ]
  },
  {
   "cell_type": "code",
   "execution_count": 2,
   "id": "innovative-syndrome",
   "metadata": {
    "execution": {
     "iopub.execute_input": "2021-10-06T07:00:08.159696Z",
     "iopub.status.busy": "2021-10-06T07:00:08.157303Z",
     "iopub.status.idle": "2021-10-06T07:00:08.615893Z",
     "shell.execute_reply": "2021-10-06T07:00:08.617098Z"
    },
    "papermill": {
     "duration": 0.488648,
     "end_time": "2021-10-06T07:00:08.617493",
     "exception": false,
     "start_time": "2021-10-06T07:00:08.128845",
     "status": "completed"
    },
    "tags": []
   },
   "outputs": [],
   "source": [
    "timestamps = pd.read_sql(\"select distinct record_time from EBAY_TOP_BERLIN order by record_time desc limit 2\", sqlite3.connect(\"UsedObjects.db\"))"
   ]
  },
  {
   "cell_type": "code",
   "execution_count": 3,
   "id": "periodic-identification",
   "metadata": {
    "execution": {
     "iopub.execute_input": "2021-10-06T07:00:08.683024Z",
     "iopub.status.busy": "2021-10-06T07:00:08.680827Z",
     "iopub.status.idle": "2021-10-06T07:00:08.701348Z",
     "shell.execute_reply": "2021-10-06T07:00:08.702465Z"
    },
    "papermill": {
     "duration": 0.066172,
     "end_time": "2021-10-06T07:00:08.703066",
     "exception": false,
     "start_time": "2021-10-06T07:00:08.636894",
     "status": "completed"
    },
    "tags": []
   },
   "outputs": [
    {
     "data": {
      "text/html": [
       "<div>\n",
       "<style scoped>\n",
       "    .dataframe tbody tr th:only-of-type {\n",
       "        vertical-align: middle;\n",
       "    }\n",
       "\n",
       "    .dataframe tbody tr th {\n",
       "        vertical-align: top;\n",
       "    }\n",
       "\n",
       "    .dataframe thead th {\n",
       "        text-align: right;\n",
       "    }\n",
       "</style>\n",
       "<table border=\"1\" class=\"dataframe\">\n",
       "  <thead>\n",
       "    <tr style=\"text-align: right;\">\n",
       "      <th></th>\n",
       "      <th>RECORD_TIME</th>\n",
       "    </tr>\n",
       "  </thead>\n",
       "  <tbody>\n",
       "    <tr>\n",
       "      <th>0</th>\n",
       "      <td>2021-10-06 09:00</td>\n",
       "    </tr>\n",
       "    <tr>\n",
       "      <th>1</th>\n",
       "      <td>2021-10-06 08:30</td>\n",
       "    </tr>\n",
       "  </tbody>\n",
       "</table>\n",
       "</div>"
      ],
      "text/plain": [
       "        RECORD_TIME\n",
       "0  2021-10-06 09:00\n",
       "1  2021-10-06 08:30"
      ]
     },
     "execution_count": 3,
     "metadata": {},
     "output_type": "execute_result"
    }
   ],
   "source": [
    "timestamps"
   ]
  },
  {
   "cell_type": "code",
   "execution_count": 4,
   "id": "alternate-victory",
   "metadata": {
    "execution": {
     "iopub.execute_input": "2021-10-06T07:00:08.770648Z",
     "iopub.status.busy": "2021-10-06T07:00:08.768718Z",
     "iopub.status.idle": "2021-10-06T07:00:09.440710Z",
     "shell.execute_reply": "2021-10-06T07:00:09.441904Z"
    },
    "papermill": {
     "duration": 0.70749,
     "end_time": "2021-10-06T07:00:09.442294",
     "exception": false,
     "start_time": "2021-10-06T07:00:08.734804",
     "status": "completed"
    },
    "tags": []
   },
   "outputs": [],
   "source": [
    "df = pd.read_sql(\"select * from EBAY_TOP_BERLIN where record_time in (select distinct record_time from EBAY_TOP_BERLIN order by record_time desc limit 2)\", sqlite3.connect(\"UsedObjects.db\"))"
   ]
  },
  {
   "cell_type": "code",
   "execution_count": 5,
   "id": "popular-active",
   "metadata": {
    "execution": {
     "iopub.execute_input": "2021-10-06T07:00:09.513712Z",
     "iopub.status.busy": "2021-10-06T07:00:09.501077Z",
     "iopub.status.idle": "2021-10-06T07:00:09.529435Z",
     "shell.execute_reply": "2021-10-06T07:00:09.530701Z"
    },
    "papermill": {
     "duration": 0.068621,
     "end_time": "2021-10-06T07:00:09.531168",
     "exception": false,
     "start_time": "2021-10-06T07:00:09.462547",
     "status": "completed"
    },
    "tags": []
   },
   "outputs": [],
   "source": [
    "df_pivot = df.pivot_table(index=\"PRODUCT\", columns = \"RECORD_TIME\", values = \"LISTING_COUNT\")"
   ]
  },
  {
   "cell_type": "code",
   "execution_count": 6,
   "id": "union-huntington",
   "metadata": {
    "execution": {
     "iopub.execute_input": "2021-10-06T07:00:09.588134Z",
     "iopub.status.busy": "2021-10-06T07:00:09.585930Z",
     "iopub.status.idle": "2021-10-06T07:00:09.591567Z",
     "shell.execute_reply": "2021-10-06T07:00:09.592923Z"
    },
    "papermill": {
     "duration": 0.041057,
     "end_time": "2021-10-06T07:00:09.593356",
     "exception": false,
     "start_time": "2021-10-06T07:00:09.552299",
     "status": "completed"
    },
    "tags": []
   },
   "outputs": [],
   "source": [
    "df_pivot.columns = [\"stamp_1\", \"stamp_2\"]\n",
    "df_pivot_diff = df_pivot.diff(axis=1)"
   ]
  },
  {
   "cell_type": "code",
   "execution_count": 7,
   "id": "fifth-motion",
   "metadata": {
    "execution": {
     "iopub.execute_input": "2021-10-06T07:00:09.651158Z",
     "iopub.status.busy": "2021-10-06T07:00:09.648413Z",
     "iopub.status.idle": "2021-10-06T07:00:11.118141Z",
     "shell.execute_reply": "2021-10-06T07:00:11.119549Z"
    },
    "papermill": {
     "duration": 1.503491,
     "end_time": "2021-10-06T07:00:11.120000",
     "exception": false,
     "start_time": "2021-10-06T07:00:09.616509",
     "status": "completed"
    },
    "tags": []
   },
   "outputs": [
    {
     "data": {
      "text/plain": [
       "<AxesSubplot:ylabel='PRODUCT'>"
      ]
     },
     "execution_count": 7,
     "metadata": {},
     "output_type": "execute_result"
    },
    {
     "data": {
      "image/png": "[encoded data removed]",
      "text/plain": [
       "<Figure size 432x288 with 1 Axes>"
      ]
     },
     "metadata": {
      "needs_background": "light"
     },
     "output_type": "display_data"
    }
   ],
   "source": [
    "df_pivot_diff.sort_values(\"stamp_2\", ascending = False)[\"stamp_2\"].head(10).plot.barh()"
   ]
  },
  {
   "cell_type": "code",
   "execution_count": null,
   "id": "extra-executive",
   "metadata": {
    "papermill": {
     "duration": 0.022223,
     "end_time": "2021-10-06T07:00:11.166226",
     "exception": false,
     "start_time": "2021-10-06T07:00:11.144003",
     "status": "completed"
    },
    "tags": []
   },
   "outputs": [],
   "source": []
  }
 ],
 "metadata": {
  "kernelspec": {
   "display_name": "Python 3",
   "language": "python",
   "name": "python3"
  },
  "language_info": {
   "codemirror_mode": {
    "name": "ipython",
    "version": 3
   },
   "file_extension": ".py",
   "mimetype": "text/x-python",
   "name": "python",
   "nbconvert_exporter": "python",
   "pygments_lexer": "ipython3",
   "version": "3.9.5"
  },
  "papermill": {
   "default_parameters": {},
   "duration": 7.823315,
   "end_time": "2021-10-06T07:00:12.658686",
   "environment_variables": {},
   "exception": null,
   "input_path": "eBay_Overview.ipynb",
   "output_path": "eBay_Overview.ipynb",
   "parameters": {},
   "start_time": "2021-10-06T07:00:04.835371",
   "version": "2.3.3"
  }
 },
 "nbformat": 4,
 "nbformat_minor": 5
}