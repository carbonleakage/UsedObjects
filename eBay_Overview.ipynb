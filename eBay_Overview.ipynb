{
 "cells": [
  {
   "cell_type": "code",
   "execution_count": 1,
   "id": "reverse-picking",
   "metadata": {
    "execution": {
     "iopub.execute_input": "2021-10-24T20:00:07.235092Z",
     "iopub.status.busy": "2021-10-24T20:00:07.233135Z",
     "iopub.status.idle": "2021-10-24T20:00:08.046459Z",
     "shell.execute_reply": "2021-10-24T20:00:08.044104Z"
    },
    "papermill": {
     "duration": 0.866146,
     "end_time": "2021-10-24T20:00:08.046913",
     "exception": false,
     "start_time": "2021-10-24T20:00:07.180767",
     "status": "completed"
    },
    "tags": []
   },
   "outputs": [],
   "source": [
    "import pandas as pd\n",
    "import sqlite3"
   ]
  },
  {
   "cell_type": "code",
   "execution_count": 2,
   "id": "innovative-syndrome",
   "metadata": {
    "execution": {
     "iopub.execute_input": "2021-10-24T20:00:08.099002Z",
     "iopub.status.busy": "2021-10-24T20:00:08.096610Z",
     "iopub.status.idle": "2021-10-24T20:00:08.742024Z",
     "shell.execute_reply": "2021-10-24T20:00:08.743322Z"
    },
    "papermill": {
     "duration": 0.675526,
     "end_time": "2021-10-24T20:00:08.743745",
     "exception": false,
     "start_time": "2021-10-24T20:00:08.068219",
     "status": "completed"
    },
    "tags": []
   },
   "outputs": [],
   "source": [
    "timestamps = pd.read_sql(\"select distinct record_time from EBAY_TOP_BERLIN order by record_time desc limit 2\", sqlite3.connect(\"UsedObjects.db\"))"
   ]
  },
  {
   "cell_type": "code",
   "execution_count": 3,
   "id": "periodic-identification",
   "metadata": {
    "execution": {
     "iopub.execute_input": "2021-10-24T20:00:08.814549Z",
     "iopub.status.busy": "2021-10-24T20:00:08.812382Z",
     "iopub.status.idle": "2021-10-24T20:00:08.832509Z",
     "shell.execute_reply": "2021-10-24T20:00:08.833941Z"
    },
    "papermill": {
     "duration": 0.067396,
     "end_time": "2021-10-24T20:00:08.834377",
     "exception": false,
     "start_time": "2021-10-24T20:00:08.766981",
     "status": "completed"
    },
    "tags": []
   },
   "outputs": [
    {
     "data": {
      "text/html": [
       "<div>\n",
       "<style scoped>\n",
       "    .dataframe tbody tr th:only-of-type {\n",
       "        vertical-align: middle;\n",
       "    }\n",
       "\n",
       "    .dataframe tbody tr th {\n",
       "        vertical-align: top;\n",
       "    }\n",
       "\n",
       "    .dataframe thead th {\n",
       "        text-align: right;\n",
       "    }\n",
       "</style>\n",
       "<table border=\"1\" class=\"dataframe\">\n",
       "  <thead>\n",
       "    <tr style=\"text-align: right;\">\n",
       "      <th></th>\n",
       "      <th>RECORD_TIME</th>\n",
       "    </tr>\n",
       "  </thead>\n",
       "  <tbody>\n",
       "    <tr>\n",
       "      <th>0</th>\n",
       "      <td>2021-10-24 22:00</td>\n",
       "    </tr>\n",
       "    <tr>\n",
       "      <th>1</th>\n",
       "      <td>2021-10-24 21:30</td>\n",
       "    </tr>\n",
       "  </tbody>\n",
       "</table>\n",
       "</div>"
      ],
      "text/plain": [
       "        RECORD_TIME\n",
       "0  2021-10-24 22:00\n",
       "1  2021-10-24 21:30"
      ]
     },
     "execution_count": 3,
     "metadata": {},
     "output_type": "execute_result"
    }
   ],
   "source": [
    "timestamps"
   ]
  },
  {
   "cell_type": "code",
   "execution_count": 4,
   "id": "alternate-victory",
   "metadata": {
    "execution": {
     "iopub.execute_input": "2021-10-24T20:00:08.885869Z",
     "iopub.status.busy": "2021-10-24T20:00:08.883940Z",
     "iopub.status.idle": "2021-10-24T20:00:09.816429Z",
     "shell.execute_reply": "2021-10-24T20:00:09.817717Z"
    },
    "papermill": {
     "duration": 0.962528,
     "end_time": "2021-10-24T20:00:09.818126",
     "exception": false,
     "start_time": "2021-10-24T20:00:08.855598",
     "status": "completed"
    },
    "tags": []
   },
   "outputs": [],
   "source": [
    "df = pd.read_sql(\"select * from EBAY_TOP_BERLIN where record_time in (select distinct record_time from EBAY_TOP_BERLIN order by record_time desc limit 2)\", sqlite3.connect(\"UsedObjects.db\"))"
   ]
  },
  {
   "cell_type": "code",
   "execution_count": 5,
   "id": "popular-active",
   "metadata": {
    "execution": {
     "iopub.execute_input": "2021-10-24T20:00:09.888163Z",
     "iopub.status.busy": "2021-10-24T20:00:09.876542Z",
     "iopub.status.idle": "2021-10-24T20:00:09.904621Z",
     "shell.execute_reply": "2021-10-24T20:00:09.905944Z"
    },
    "papermill": {
     "duration": 0.067348,
     "end_time": "2021-10-24T20:00:09.906354",
     "exception": false,
     "start_time": "2021-10-24T20:00:09.839006",
     "status": "completed"
    },
    "tags": []
   },
   "outputs": [],
   "source": [
    "df_pivot = df.pivot_table(index=\"PRODUCT\", columns = \"RECORD_TIME\", values = \"LISTING_COUNT\")"
   ]
  },
  {
   "cell_type": "code",
   "execution_count": 6,
   "id": "union-huntington",
   "metadata": {
    "execution": {
     "iopub.execute_input": "2021-10-24T20:00:09.963312Z",
     "iopub.status.busy": "2021-10-24T20:00:09.961267Z",
     "iopub.status.idle": "2021-10-24T20:00:09.966540Z",
     "shell.execute_reply": "2021-10-24T20:00:09.967828Z"
    },
    "papermill": {
     "duration": 0.040257,
     "end_time": "2021-10-24T20:00:09.968247",
     "exception": false,
     "start_time": "2021-10-24T20:00:09.927990",
     "status": "completed"
    },
    "tags": []
   },
   "outputs": [],
   "source": [
    "df_pivot.columns = [\"stamp_1\", \"stamp_2\"]\n",
    "df_pivot_diff = df_pivot.diff(axis=1)"
   ]
  },
  {
   "cell_type": "code",
   "execution_count": 7,
   "id": "fifth-motion",
   "metadata": {
    "execution": {
     "iopub.execute_input": "2021-10-24T20:00:10.024375Z",
     "iopub.status.busy": "2021-10-24T20:00:10.021735Z",
     "iopub.status.idle": "2021-10-24T20:00:11.522048Z",
     "shell.execute_reply": "2021-10-24T20:00:11.523486Z"
    },
    "papermill": {
     "duration": 1.53433,
     "end_time": "2021-10-24T20:00:11.523937",
     "exception": false,
     "start_time": "2021-10-24T20:00:09.989607",
     "status": "completed"
    },
    "tags": []
   },
   "outputs": [
    {
     "data": {
      "text/plain": [
       "<AxesSubplot:ylabel='PRODUCT'>"
      ]
     },
     "execution_count": 7,
     "metadata": {},
     "output_type": "execute_result"
    },
    {
     "data": {
      "image/png": "[encoded data removed]",
      "text/plain": [
       "<Figure size 432x288 with 1 Axes>"
      ]
     },
     "metadata": {
      "needs_background": "light"
     },
     "output_type": "display_data"
    }
   ],
   "source": [
    "df_pivot_diff.sort_values(\"stamp_2\", ascending = False)[\"stamp_2\"].head(10).plot.barh()"
   ]
  },
  {
   "cell_type": "code",
   "execution_count": null,
   "id": "extra-executive",
   "metadata": {
    "papermill": {
     "duration": 0.022409,
     "end_time": "2021-10-24T20:00:11.570936",
     "exception": false,
     "start_time": "2021-10-24T20:00:11.548527",
     "status": "completed"
    },
    "tags": []
   },
   "outputs": [],
   "source": []
  }
 ],
 "metadata": {
  "kernelspec": {
   "display_name": "Python 3",
   "language": "python",
   "name": "python3"
  },
  "language_info": {
   "codemirror_mode": {
    "name": "ipython",
    "version": 3
   },
   "file_extension": ".py",
   "mimetype": "text/x-python",
   "name": "python",
   "nbconvert_exporter": "python",
   "pygments_lexer": "ipython3",
   "version": "3.9.5"
  },
  "papermill": {
   "default_parameters": {},
   "duration": 7.457617,
   "end_time": "2021-10-24T20:00:12.213462",
   "environment_variables": {},
   "exception": null,
   "input_path": "eBay_Overview.ipynb",
   "output_path": "eBay_Overview.ipynb",
   "parameters": {},
   "start_time": "2021-10-24T20:00:04.755845",
   "version": "2.3.3"
  }
 },
 "nbformat": 4,
 "nbformat_minor": 5
}