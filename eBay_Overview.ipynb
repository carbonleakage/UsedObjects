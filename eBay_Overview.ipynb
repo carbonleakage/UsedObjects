{
 "cells": [
  {
   "cell_type": "code",
   "execution_count": 1,
   "id": "reverse-picking",
   "metadata": {
    "execution": {
     "iopub.execute_input": "2021-10-11T03:30:07.342850Z",
     "iopub.status.busy": "2021-10-11T03:30:07.340904Z",
     "iopub.status.idle": "2021-10-11T03:30:08.146958Z",
     "shell.execute_reply": "2021-10-11T03:30:08.148415Z"
    },
    "papermill": {
     "duration": 0.858885,
     "end_time": "2021-10-11T03:30:08.149090",
     "exception": false,
     "start_time": "2021-10-11T03:30:07.290205",
     "status": "completed"
    },
    "tags": []
   },
   "outputs": [],
   "source": [
    "import pandas as pd\n",
    "import sqlite3"
   ]
  },
  {
   "cell_type": "code",
   "execution_count": 2,
   "id": "innovative-syndrome",
   "metadata": {
    "execution": {
     "iopub.execute_input": "2021-10-11T03:30:08.199443Z",
     "iopub.status.busy": "2021-10-11T03:30:08.197497Z",
     "iopub.status.idle": "2021-10-11T03:30:08.709957Z",
     "shell.execute_reply": "2021-10-11T03:30:08.711229Z"
    },
    "papermill": {
     "duration": 0.542098,
     "end_time": "2021-10-11T03:30:08.711637",
     "exception": false,
     "start_time": "2021-10-11T03:30:08.169539",
     "status": "completed"
    },
    "tags": []
   },
   "outputs": [],
   "source": [
    "timestamps = pd.read_sql(\"select distinct record_time from EBAY_TOP_BERLIN order by record_time desc limit 2\", sqlite3.connect(\"UsedObjects.db\"))"
   ]
  },
  {
   "cell_type": "code",
   "execution_count": 3,
   "id": "periodic-identification",
   "metadata": {
    "execution": {
     "iopub.execute_input": "2021-10-11T03:30:08.777984Z",
     "iopub.status.busy": "2021-10-11T03:30:08.773114Z",
     "iopub.status.idle": "2021-10-11T03:30:08.794480Z",
     "shell.execute_reply": "2021-10-11T03:30:08.795897Z"
    },
    "papermill": {
     "duration": 0.065123,
     "end_time": "2021-10-11T03:30:08.796329",
     "exception": false,
     "start_time": "2021-10-11T03:30:08.731206",
     "status": "completed"
    },
    "tags": []
   },
   "outputs": [
    {
     "data": {
      "text/html": [
       "<div>\n",
       "<style scoped>\n",
       "    .dataframe tbody tr th:only-of-type {\n",
       "        vertical-align: middle;\n",
       "    }\n",
       "\n",
       "    .dataframe tbody tr th {\n",
       "        vertical-align: top;\n",
       "    }\n",
       "\n",
       "    .dataframe thead th {\n",
       "        text-align: right;\n",
       "    }\n",
       "</style>\n",
       "<table border=\"1\" class=\"dataframe\">\n",
       "  <thead>\n",
       "    <tr style=\"text-align: right;\">\n",
       "      <th></th>\n",
       "      <th>RECORD_TIME</th>\n",
       "    </tr>\n",
       "  </thead>\n",
       "  <tbody>\n",
       "    <tr>\n",
       "      <th>0</th>\n",
       "      <td>2021-10-11 05:30</td>\n",
       "    </tr>\n",
       "    <tr>\n",
       "      <th>1</th>\n",
       "      <td>2021-10-11 05:00</td>\n",
       "    </tr>\n",
       "  </tbody>\n",
       "</table>\n",
       "</div>"
      ],
      "text/plain": [
       "        RECORD_TIME\n",
       "0  2021-10-11 05:30\n",
       "1  2021-10-11 05:00"
      ]
     },
     "execution_count": 3,
     "metadata": {},
     "output_type": "execute_result"
    }
   ],
   "source": [
    "timestamps"
   ]
  },
  {
   "cell_type": "code",
   "execution_count": 4,
   "id": "alternate-victory",
   "metadata": {
    "execution": {
     "iopub.execute_input": "2021-10-11T03:30:08.857435Z",
     "iopub.status.busy": "2021-10-11T03:30:08.855596Z",
     "iopub.status.idle": "2021-10-11T03:30:09.601139Z",
     "shell.execute_reply": "2021-10-11T03:30:09.599766Z"
    },
    "papermill": {
     "duration": 0.777792,
     "end_time": "2021-10-11T03:30:09.601476",
     "exception": false,
     "start_time": "2021-10-11T03:30:08.823684",
     "status": "completed"
    },
    "tags": []
   },
   "outputs": [],
   "source": [
    "df = pd.read_sql(\"select * from EBAY_TOP_BERLIN where record_time in (select distinct record_time from EBAY_TOP_BERLIN order by record_time desc limit 2)\", sqlite3.connect(\"UsedObjects.db\"))"
   ]
  },
  {
   "cell_type": "code",
   "execution_count": 5,
   "id": "popular-active",
   "metadata": {
    "execution": {
     "iopub.execute_input": "2021-10-11T03:30:09.672983Z",
     "iopub.status.busy": "2021-10-11T03:30:09.660276Z",
     "iopub.status.idle": "2021-10-11T03:30:09.688722Z",
     "shell.execute_reply": "2021-10-11T03:30:09.690012Z"
    },
    "papermill": {
     "duration": 0.068603,
     "end_time": "2021-10-11T03:30:09.690430",
     "exception": false,
     "start_time": "2021-10-11T03:30:09.621827",
     "status": "completed"
    },
    "tags": []
   },
   "outputs": [],
   "source": [
    "df_pivot = df.pivot_table(index=\"PRODUCT\", columns = \"RECORD_TIME\", values = \"LISTING_COUNT\")"
   ]
  },
  {
   "cell_type": "code",
   "execution_count": 6,
   "id": "union-huntington",
   "metadata": {
    "execution": {
     "iopub.execute_input": "2021-10-11T03:30:09.747661Z",
     "iopub.status.busy": "2021-10-11T03:30:09.745470Z",
     "iopub.status.idle": "2021-10-11T03:30:09.751178Z",
     "shell.execute_reply": "2021-10-11T03:30:09.752512Z"
    },
    "papermill": {
     "duration": 0.041195,
     "end_time": "2021-10-11T03:30:09.753098",
     "exception": false,
     "start_time": "2021-10-11T03:30:09.711903",
     "status": "completed"
    },
    "tags": []
   },
   "outputs": [],
   "source": [
    "df_pivot.columns = [\"stamp_1\", \"stamp_2\"]\n",
    "df_pivot_diff = df_pivot.diff(axis=1)"
   ]
  },
  {
   "cell_type": "code",
   "execution_count": 7,
   "id": "fifth-motion",
   "metadata": {
    "execution": {
     "iopub.execute_input": "2021-10-11T03:30:09.808808Z",
     "iopub.status.busy": "2021-10-11T03:30:09.806375Z",
     "iopub.status.idle": "2021-10-11T03:30:11.289536Z",
     "shell.execute_reply": "2021-10-11T03:30:11.290724Z"
    },
    "papermill": {
     "duration": 1.516434,
     "end_time": "2021-10-11T03:30:11.291211",
     "exception": false,
     "start_time": "2021-10-11T03:30:09.774777",
     "status": "completed"
    },
    "tags": []
   },
   "outputs": [
    {
     "data": {
      "text/plain": [
       "<AxesSubplot:ylabel='PRODUCT'>"
      ]
     },
     "execution_count": 7,
     "metadata": {},
     "output_type": "execute_result"
    },
    {
     "data": {
      "image/png": "[encoded data removed]",
      "text/plain": [
       "<Figure size 432x288 with 1 Axes>"
      ]
     },
     "metadata": {
      "needs_background": "light"
     },
     "output_type": "display_data"
    }
   ],
   "source": [
    "df_pivot_diff.sort_values(\"stamp_2\", ascending = False)[\"stamp_2\"].head(10).plot.barh()"
   ]
  },
  {
   "cell_type": "code",
   "execution_count": null,
   "id": "extra-executive",
   "metadata": {
    "papermill": {
     "duration": 0.022154,
     "end_time": "2021-10-11T03:30:11.337098",
     "exception": false,
     "start_time": "2021-10-11T03:30:11.314944",
     "status": "completed"
    },
    "tags": []
   },
   "outputs": [],
   "source": []
  }
 ],
 "metadata": {
  "kernelspec": {
   "display_name": "Python 3",
   "language": "python",
   "name": "python3"
  },
  "language_info": {
   "codemirror_mode": {
    "name": "ipython",
    "version": 3
   },
   "file_extension": ".py",
   "mimetype": "text/x-python",
   "name": "python",
   "nbconvert_exporter": "python",
   "pygments_lexer": "ipython3",
   "version": "3.9.5"
  },
  "papermill": {
   "default_parameters": {},
   "duration": 7.832535,
   "end_time": "2021-10-11T03:30:12.714241",
   "environment_variables": {},
   "exception": null,
   "input_path": "eBay_Overview.ipynb",
   "output_path": "eBay_Overview.ipynb",
   "parameters": {},
   "start_time": "2021-10-11T03:30:04.881706",
   "version": "2.3.3"
  }
 },
 "nbformat": 4,
 "nbformat_minor": 5
}