{
 "cells": [
  {
   "cell_type": "code",
   "execution_count": 1,
   "id": "reverse-picking",
   "metadata": {
    "execution": {
     "iopub.execute_input": "2021-08-18T05:30:07.879784Z",
     "iopub.status.busy": "2021-08-18T05:30:07.877759Z",
     "iopub.status.idle": "2021-08-18T05:30:08.682319Z",
     "shell.execute_reply": "2021-08-18T05:30:08.683671Z"
    },
    "papermill": {
     "duration": 0.856668,
     "end_time": "2021-08-18T05:30:08.684311",
     "exception": false,
     "start_time": "2021-08-18T05:30:07.827643",
     "status": "completed"
    },
    "tags": []
   },
   "outputs": [],
   "source": [
    "import pandas as pd\n",
    "import sqlite3"
   ]
  },
  {
   "cell_type": "code",
   "execution_count": 2,
   "id": "innovative-syndrome",
   "metadata": {
    "execution": {
     "iopub.execute_input": "2021-08-18T05:30:08.734864Z",
     "iopub.status.busy": "2021-08-18T05:30:08.732868Z",
     "iopub.status.idle": "2021-08-18T05:30:08.807462Z",
     "shell.execute_reply": "2021-08-18T05:30:08.808639Z"
    },
    "papermill": {
     "duration": 0.103957,
     "end_time": "2021-08-18T05:30:08.809063",
     "exception": false,
     "start_time": "2021-08-18T05:30:08.705106",
     "status": "completed"
    },
    "tags": []
   },
   "outputs": [],
   "source": [
    "timestamps = pd.read_sql(\"select distinct record_time from EBAY_TOP_BERLIN order by record_time desc limit 2\", sqlite3.connect(\"UsedObjects.db\"))"
   ]
  },
  {
   "cell_type": "code",
   "execution_count": 3,
   "id": "periodic-identification",
   "metadata": {
    "execution": {
     "iopub.execute_input": "2021-08-18T05:30:08.875215Z",
     "iopub.status.busy": "2021-08-18T05:30:08.873137Z",
     "iopub.status.idle": "2021-08-18T05:30:08.892910Z",
     "shell.execute_reply": "2021-08-18T05:30:08.894585Z"
    },
    "papermill": {
     "duration": 0.066839,
     "end_time": "2021-08-18T05:30:08.895056",
     "exception": false,
     "start_time": "2021-08-18T05:30:08.828217",
     "status": "completed"
    },
    "tags": []
   },
   "outputs": [
    {
     "data": {
      "text/html": [
       "<div>\n",
       "<style scoped>\n",
       "    .dataframe tbody tr th:only-of-type {\n",
       "        vertical-align: middle;\n",
       "    }\n",
       "\n",
       "    .dataframe tbody tr th {\n",
       "        vertical-align: top;\n",
       "    }\n",
       "\n",
       "    .dataframe thead th {\n",
       "        text-align: right;\n",
       "    }\n",
       "</style>\n",
       "<table border=\"1\" class=\"dataframe\">\n",
       "  <thead>\n",
       "    <tr style=\"text-align: right;\">\n",
       "      <th></th>\n",
       "      <th>RECORD_TIME</th>\n",
       "    </tr>\n",
       "  </thead>\n",
       "  <tbody>\n",
       "    <tr>\n",
       "      <th>0</th>\n",
       "      <td>2021-08-18 07:30</td>\n",
       "    </tr>\n",
       "    <tr>\n",
       "      <th>1</th>\n",
       "      <td>2021-08-18 07:00</td>\n",
       "    </tr>\n",
       "  </tbody>\n",
       "</table>\n",
       "</div>"
      ],
      "text/plain": [
       "        RECORD_TIME\n",
       "0  2021-08-18 07:30\n",
       "1  2021-08-18 07:00"
      ]
     },
     "execution_count": 3,
     "metadata": {},
     "output_type": "execute_result"
    }
   ],
   "source": [
    "timestamps"
   ]
  },
  {
   "cell_type": "code",
   "execution_count": 4,
   "id": "alternate-victory",
   "metadata": {
    "execution": {
     "iopub.execute_input": "2021-08-18T05:30:08.947751Z",
     "iopub.status.busy": "2021-08-18T05:30:08.945827Z",
     "iopub.status.idle": "2021-08-18T05:30:09.055848Z",
     "shell.execute_reply": "2021-08-18T05:30:09.056973Z"
    },
    "papermill": {
     "duration": 0.139744,
     "end_time": "2021-08-18T05:30:09.057380",
     "exception": false,
     "start_time": "2021-08-18T05:30:08.917636",
     "status": "completed"
    },
    "tags": []
   },
   "outputs": [],
   "source": [
    "df = pd.read_sql(\"select * from EBAY_TOP_BERLIN where record_time in (select distinct record_time from EBAY_TOP_BERLIN order by record_time desc limit 2)\", sqlite3.connect(\"UsedObjects.db\"))"
   ]
  },
  {
   "cell_type": "code",
   "execution_count": 5,
   "id": "popular-active",
   "metadata": {
    "execution": {
     "iopub.execute_input": "2021-08-18T05:30:09.130296Z",
     "iopub.status.busy": "2021-08-18T05:30:09.118912Z",
     "iopub.status.idle": "2021-08-18T05:30:09.146679Z",
     "shell.execute_reply": "2021-08-18T05:30:09.147899Z"
    },
    "papermill": {
     "duration": 0.068193,
     "end_time": "2021-08-18T05:30:09.148291",
     "exception": false,
     "start_time": "2021-08-18T05:30:09.080098",
     "status": "completed"
    },
    "tags": []
   },
   "outputs": [],
   "source": [
    "df_pivot = df.pivot_table(index=\"PRODUCT\", columns = \"RECORD_TIME\", values = \"LISTING_COUNT\")"
   ]
  },
  {
   "cell_type": "code",
   "execution_count": 6,
   "id": "union-huntington",
   "metadata": {
    "execution": {
     "iopub.execute_input": "2021-08-18T05:30:09.205836Z",
     "iopub.status.busy": "2021-08-18T05:30:09.203578Z",
     "iopub.status.idle": "2021-08-18T05:30:09.209351Z",
     "shell.execute_reply": "2021-08-18T05:30:09.210606Z"
    },
    "papermill": {
     "duration": 0.041307,
     "end_time": "2021-08-18T05:30:09.211043",
     "exception": false,
     "start_time": "2021-08-18T05:30:09.169736",
     "status": "completed"
    },
    "tags": []
   },
   "outputs": [],
   "source": [
    "df_pivot.columns = [\"stamp_1\", \"stamp_2\"]\n",
    "df_pivot_diff = df_pivot.diff(axis=1)"
   ]
  },
  {
   "cell_type": "code",
   "execution_count": 7,
   "id": "fifth-motion",
   "metadata": {
    "execution": {
     "iopub.execute_input": "2021-08-18T05:30:09.264764Z",
     "iopub.status.busy": "2021-08-18T05:30:09.262506Z",
     "iopub.status.idle": "2021-08-18T05:30:10.751435Z",
     "shell.execute_reply": "2021-08-18T05:30:10.752719Z"
    },
    "papermill": {
     "duration": 1.522127,
     "end_time": "2021-08-18T05:30:10.753132",
     "exception": false,
     "start_time": "2021-08-18T05:30:09.231005",
     "status": "completed"
    },
    "tags": []
   },
   "outputs": [
    {
     "data": {
      "text/plain": [
       "<AxesSubplot:ylabel='PRODUCT'>"
      ]
     },
     "execution_count": 7,
     "metadata": {},
     "output_type": "execute_result"
    },
    {
     "data": {
      "image/png": "[encoded data removed]",
      "text/plain": [
       "<Figure size 432x288 with 1 Axes>"
      ]
     },
     "metadata": {
      "needs_background": "light"
     },
     "output_type": "display_data"
    }
   ],
   "source": [
    "df_pivot_diff.sort_values(\"stamp_2\", ascending = False)[\"stamp_2\"].head(10).plot.barh()"
   ]
  },
  {
   "cell_type": "code",
   "execution_count": null,
   "id": "extra-executive",
   "metadata": {
    "papermill": {
     "duration": 0.022294,
     "end_time": "2021-08-18T05:30:10.799387",
     "exception": false,
     "start_time": "2021-08-18T05:30:10.777093",
     "status": "completed"
    },
    "tags": []
   },
   "outputs": [],
   "source": []
  }
 ],
 "metadata": {
  "kernelspec": {
   "display_name": "Python 3",
   "language": "python",
   "name": "python3"
  },
  "language_info": {
   "codemirror_mode": {
    "name": "ipython",
    "version": 3
   },
   "file_extension": ".py",
   "mimetype": "text/x-python",
   "name": "python",
   "nbconvert_exporter": "python",
   "pygments_lexer": "ipython3",
   "version": "3.9.5"
  },
  "papermill": {
   "default_parameters": {},
   "duration": 6.836977,
   "end_time": "2021-08-18T05:30:12.250485",
   "environment_variables": {},
   "exception": null,
   "input_path": "eBay_Overview.ipynb",
   "output_path": "eBay_Overview.ipynb",
   "parameters": {},
   "start_time": "2021-08-18T05:30:05.413508",
   "version": "2.3.3"
  }
 },
 "nbformat": 4,
 "nbformat_minor": 5
}