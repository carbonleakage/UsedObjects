{
 "cells": [
  {
   "cell_type": "code",
   "execution_count": 1,
   "id": "reverse-picking",
   "metadata": {
    "execution": {
     "iopub.execute_input": "2021-10-22T15:30:07.511116Z",
     "iopub.status.busy": "2021-10-22T15:30:07.509093Z",
     "iopub.status.idle": "2021-10-22T15:30:08.313250Z",
     "shell.execute_reply": "2021-10-22T15:30:08.314521Z"
    },
    "papermill": {
     "duration": 0.855056,
     "end_time": "2021-10-22T15:30:08.315148",
     "exception": false,
     "start_time": "2021-10-22T15:30:07.460092",
     "status": "completed"
    },
    "tags": []
   },
   "outputs": [],
   "source": [
    "import pandas as pd\n",
    "import sqlite3"
   ]
  },
  {
   "cell_type": "code",
   "execution_count": 2,
   "id": "innovative-syndrome",
   "metadata": {
    "execution": {
     "iopub.execute_input": "2021-10-22T15:30:08.367307Z",
     "iopub.status.busy": "2021-10-22T15:30:08.365103Z",
     "iopub.status.idle": "2021-10-22T15:30:08.982267Z",
     "shell.execute_reply": "2021-10-22T15:30:08.983469Z"
    },
    "papermill": {
     "duration": 0.646896,
     "end_time": "2021-10-22T15:30:08.983860",
     "exception": false,
     "start_time": "2021-10-22T15:30:08.336964",
     "status": "completed"
    },
    "tags": []
   },
   "outputs": [],
   "source": [
    "timestamps = pd.read_sql(\"select distinct record_time from EBAY_TOP_BERLIN order by record_time desc limit 2\", sqlite3.connect(\"UsedObjects.db\"))"
   ]
  },
  {
   "cell_type": "code",
   "execution_count": 3,
   "id": "periodic-identification",
   "metadata": {
    "execution": {
     "iopub.execute_input": "2021-10-22T15:30:09.061021Z",
     "iopub.status.busy": "2021-10-22T15:30:09.055786Z",
     "iopub.status.idle": "2021-10-22T15:30:09.078953Z",
     "shell.execute_reply": "2021-10-22T15:30:09.080409Z"
    },
    "papermill": {
     "duration": 0.071805,
     "end_time": "2021-10-22T15:30:09.080942",
     "exception": false,
     "start_time": "2021-10-22T15:30:09.009137",
     "status": "completed"
    },
    "tags": []
   },
   "outputs": [
    {
     "data": {
      "text/html": [
       "<div>\n",
       "<style scoped>\n",
       "    .dataframe tbody tr th:only-of-type {\n",
       "        vertical-align: middle;\n",
       "    }\n",
       "\n",
       "    .dataframe tbody tr th {\n",
       "        vertical-align: top;\n",
       "    }\n",
       "\n",
       "    .dataframe thead th {\n",
       "        text-align: right;\n",
       "    }\n",
       "</style>\n",
       "<table border=\"1\" class=\"dataframe\">\n",
       "  <thead>\n",
       "    <tr style=\"text-align: right;\">\n",
       "      <th></th>\n",
       "      <th>RECORD_TIME</th>\n",
       "    </tr>\n",
       "  </thead>\n",
       "  <tbody>\n",
       "    <tr>\n",
       "      <th>0</th>\n",
       "      <td>2021-10-22 17:30</td>\n",
       "    </tr>\n",
       "    <tr>\n",
       "      <th>1</th>\n",
       "      <td>2021-10-22 17:00</td>\n",
       "    </tr>\n",
       "  </tbody>\n",
       "</table>\n",
       "</div>"
      ],
      "text/plain": [
       "        RECORD_TIME\n",
       "0  2021-10-22 17:30\n",
       "1  2021-10-22 17:00"
      ]
     },
     "execution_count": 3,
     "metadata": {},
     "output_type": "execute_result"
    }
   ],
   "source": [
    "timestamps"
   ]
  },
  {
   "cell_type": "code",
   "execution_count": 4,
   "id": "alternate-victory",
   "metadata": {
    "execution": {
     "iopub.execute_input": "2021-10-22T15:30:09.133179Z",
     "iopub.status.busy": "2021-10-22T15:30:09.131193Z",
     "iopub.status.idle": "2021-10-22T15:30:10.022401Z",
     "shell.execute_reply": "2021-10-22T15:30:10.023875Z"
    },
    "papermill": {
     "duration": 0.921298,
     "end_time": "2021-10-22T15:30:10.024342",
     "exception": false,
     "start_time": "2021-10-22T15:30:09.103044",
     "status": "completed"
    },
    "tags": []
   },
   "outputs": [],
   "source": [
    "df = pd.read_sql(\"select * from EBAY_TOP_BERLIN where record_time in (select distinct record_time from EBAY_TOP_BERLIN order by record_time desc limit 2)\", sqlite3.connect(\"UsedObjects.db\"))"
   ]
  },
  {
   "cell_type": "code",
   "execution_count": 5,
   "id": "popular-active",
   "metadata": {
    "execution": {
     "iopub.execute_input": "2021-10-22T15:30:10.085346Z",
     "iopub.status.busy": "2021-10-22T15:30:10.083215Z",
     "iopub.status.idle": "2021-10-22T15:30:10.111066Z",
     "shell.execute_reply": "2021-10-22T15:30:10.112269Z"
    },
    "papermill": {
     "duration": 0.066726,
     "end_time": "2021-10-22T15:30:10.112663",
     "exception": false,
     "start_time": "2021-10-22T15:30:10.045937",
     "status": "completed"
    },
    "tags": []
   },
   "outputs": [],
   "source": [
    "df_pivot = df.pivot_table(index=\"PRODUCT\", columns = \"RECORD_TIME\", values = \"LISTING_COUNT\")"
   ]
  },
  {
   "cell_type": "code",
   "execution_count": 6,
   "id": "union-huntington",
   "metadata": {
    "execution": {
     "iopub.execute_input": "2021-10-22T15:30:10.172348Z",
     "iopub.status.busy": "2021-10-22T15:30:10.169911Z",
     "iopub.status.idle": "2021-10-22T15:30:10.175803Z",
     "shell.execute_reply": "2021-10-22T15:30:10.177126Z"
    },
    "papermill": {
     "duration": 0.04242,
     "end_time": "2021-10-22T15:30:10.177551",
     "exception": false,
     "start_time": "2021-10-22T15:30:10.135131",
     "status": "completed"
    },
    "tags": []
   },
   "outputs": [],
   "source": [
    "df_pivot.columns = [\"stamp_1\", \"stamp_2\"]\n",
    "df_pivot_diff = df_pivot.diff(axis=1)"
   ]
  },
  {
   "cell_type": "code",
   "execution_count": 7,
   "id": "fifth-motion",
   "metadata": {
    "execution": {
     "iopub.execute_input": "2021-10-22T15:30:10.231570Z",
     "iopub.status.busy": "2021-10-22T15:30:10.229204Z",
     "iopub.status.idle": "2021-10-22T15:30:11.711269Z",
     "shell.execute_reply": "2021-10-22T15:30:11.712556Z"
    },
    "papermill": {
     "duration": 1.514877,
     "end_time": "2021-10-22T15:30:11.713056",
     "exception": false,
     "start_time": "2021-10-22T15:30:10.198179",
     "status": "completed"
    },
    "tags": []
   },
   "outputs": [
    {
     "data": {
      "text/plain": [
       "<AxesSubplot:ylabel='PRODUCT'>"
      ]
     },
     "execution_count": 7,
     "metadata": {},
     "output_type": "execute_result"
    },
    {
     "data": {
      "image/png": "[encoded data removed]",
      "text/plain": [
       "<Figure size 432x288 with 1 Axes>"
      ]
     },
     "metadata": {
      "needs_background": "light"
     },
     "output_type": "display_data"
    }
   ],
   "source": [
    "df_pivot_diff.sort_values(\"stamp_2\", ascending = False)[\"stamp_2\"].head(10).plot.barh()"
   ]
  },
  {
   "cell_type": "code",
   "execution_count": null,
   "id": "extra-executive",
   "metadata": {
    "papermill": {
     "duration": 0.022526,
     "end_time": "2021-10-22T15:30:11.760254",
     "exception": false,
     "start_time": "2021-10-22T15:30:11.737728",
     "status": "completed"
    },
    "tags": []
   },
   "outputs": [],
   "source": []
  }
 ],
 "metadata": {
  "kernelspec": {
   "display_name": "Python 3",
   "language": "python",
   "name": "python3"
  },
  "language_info": {
   "codemirror_mode": {
    "name": "ipython",
    "version": 3
   },
   "file_extension": ".py",
   "mimetype": "text/x-python",
   "name": "python",
   "nbconvert_exporter": "python",
   "pygments_lexer": "ipython3",
   "version": "3.9.5"
  },
  "papermill": {
   "default_parameters": {},
   "duration": 7.350346,
   "end_time": "2021-10-22T15:30:12.402800",
   "environment_variables": {},
   "exception": null,
   "input_path": "eBay_Overview.ipynb",
   "output_path": "eBay_Overview.ipynb",
   "parameters": {},
   "start_time": "2021-10-22T15:30:05.052454",
   "version": "2.3.3"
  }
 },
 "nbformat": 4,
 "nbformat_minor": 5
}