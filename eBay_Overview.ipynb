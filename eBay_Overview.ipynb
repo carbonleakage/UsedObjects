{
 "cells": [
  {
   "cell_type": "code",
   "execution_count": 1,
   "id": "reverse-picking",
   "metadata": {
    "execution": {
     "iopub.execute_input": "2021-11-30T22:00:08.603597Z",
     "iopub.status.busy": "2021-11-30T22:00:08.601338Z",
     "iopub.status.idle": "2021-11-30T22:00:09.569457Z",
     "shell.execute_reply": "2021-11-30T22:00:09.570969Z"
    },
    "papermill": {
     "duration": 1.0178,
     "end_time": "2021-11-30T22:00:09.571657",
     "exception": false,
     "start_time": "2021-11-30T22:00:08.553857",
     "status": "completed"
    },
    "tags": []
   },
   "outputs": [],
   "source": [
    "import pandas as pd\n",
    "import sqlite3"
   ]
  },
  {
   "cell_type": "code",
   "execution_count": 2,
   "id": "innovative-syndrome",
   "metadata": {
    "execution": {
     "iopub.execute_input": "2021-11-30T22:00:09.625342Z",
     "iopub.status.busy": "2021-11-30T22:00:09.623125Z",
     "iopub.status.idle": "2021-11-30T22:00:10.559583Z",
     "shell.execute_reply": "2021-11-30T22:00:10.560867Z"
    },
    "papermill": {
     "duration": 0.968986,
     "end_time": "2021-11-30T22:00:10.561324",
     "exception": false,
     "start_time": "2021-11-30T22:00:09.592338",
     "status": "completed"
    },
    "tags": []
   },
   "outputs": [],
   "source": [
    "timestamps = pd.read_sql(\"select distinct record_time from EBAY_TOP_BERLIN order by record_time desc limit 2\", sqlite3.connect(\"UsedObjects.db\"))"
   ]
  },
  {
   "cell_type": "code",
   "execution_count": 3,
   "id": "periodic-identification",
   "metadata": {
    "execution": {
     "iopub.execute_input": "2021-11-30T22:00:10.633059Z",
     "iopub.status.busy": "2021-11-30T22:00:10.630525Z",
     "iopub.status.idle": "2021-11-30T22:00:10.653997Z",
     "shell.execute_reply": "2021-11-30T22:00:10.655565Z"
    },
    "papermill": {
     "duration": 0.074236,
     "end_time": "2021-11-30T22:00:10.656111",
     "exception": false,
     "start_time": "2021-11-30T22:00:10.581875",
     "status": "completed"
    },
    "tags": []
   },
   "outputs": [
    {
     "data": {
      "text/html": [
       "<div>\n",
       "<style scoped>\n",
       "    .dataframe tbody tr th:only-of-type {\n",
       "        vertical-align: middle;\n",
       "    }\n",
       "\n",
       "    .dataframe tbody tr th {\n",
       "        vertical-align: top;\n",
       "    }\n",
       "\n",
       "    .dataframe thead th {\n",
       "        text-align: right;\n",
       "    }\n",
       "</style>\n",
       "<table border=\"1\" class=\"dataframe\">\n",
       "  <thead>\n",
       "    <tr style=\"text-align: right;\">\n",
       "      <th></th>\n",
       "      <th>RECORD_TIME</th>\n",
       "    </tr>\n",
       "  </thead>\n",
       "  <tbody>\n",
       "    <tr>\n",
       "      <th>0</th>\n",
       "      <td>2021-11-30 23:00</td>\n",
       "    </tr>\n",
       "    <tr>\n",
       "      <th>1</th>\n",
       "      <td>2021-11-30 22:30</td>\n",
       "    </tr>\n",
       "  </tbody>\n",
       "</table>\n",
       "</div>"
      ],
      "text/plain": [
       "        RECORD_TIME\n",
       "0  2021-11-30 23:00\n",
       "1  2021-11-30 22:30"
      ]
     },
     "execution_count": 3,
     "metadata": {},
     "output_type": "execute_result"
    }
   ],
   "source": [
    "timestamps"
   ]
  },
  {
   "cell_type": "code",
   "execution_count": 4,
   "id": "alternate-victory",
   "metadata": {
    "execution": {
     "iopub.execute_input": "2021-11-30T22:00:10.713373Z",
     "iopub.status.busy": "2021-11-30T22:00:10.711087Z",
     "iopub.status.idle": "2021-11-30T22:00:12.102007Z",
     "shell.execute_reply": "2021-11-30T22:00:12.103457Z"
    },
    "papermill": {
     "duration": 1.42617,
     "end_time": "2021-11-30T22:00:12.103951",
     "exception": false,
     "start_time": "2021-11-30T22:00:10.677781",
     "status": "completed"
    },
    "tags": []
   },
   "outputs": [],
   "source": [
    "df = pd.read_sql(\"select * from EBAY_TOP_BERLIN where record_time in (select distinct record_time from EBAY_TOP_BERLIN order by record_time desc limit 2)\", sqlite3.connect(\"UsedObjects.db\"))"
   ]
  },
  {
   "cell_type": "code",
   "execution_count": 5,
   "id": "popular-active",
   "metadata": {
    "execution": {
     "iopub.execute_input": "2021-11-30T22:00:12.181380Z",
     "iopub.status.busy": "2021-11-30T22:00:12.179025Z",
     "iopub.status.idle": "2021-11-30T22:00:12.198051Z",
     "shell.execute_reply": "2021-11-30T22:00:12.199423Z"
    },
    "papermill": {
     "duration": 0.074385,
     "end_time": "2021-11-30T22:00:12.199895",
     "exception": false,
     "start_time": "2021-11-30T22:00:12.125510",
     "status": "completed"
    },
    "tags": []
   },
   "outputs": [],
   "source": [
    "df_pivot = df.pivot_table(index=\"PRODUCT\", columns = \"RECORD_TIME\", values = \"LISTING_COUNT\")"
   ]
  },
  {
   "cell_type": "code",
   "execution_count": 6,
   "id": "union-huntington",
   "metadata": {
    "execution": {
     "iopub.execute_input": "2021-11-30T22:00:12.262303Z",
     "iopub.status.busy": "2021-11-30T22:00:12.259746Z",
     "iopub.status.idle": "2021-11-30T22:00:12.265834Z",
     "shell.execute_reply": "2021-11-30T22:00:12.267240Z"
    },
    "papermill": {
     "duration": 0.047566,
     "end_time": "2021-11-30T22:00:12.267723",
     "exception": false,
     "start_time": "2021-11-30T22:00:12.220157",
     "status": "completed"
    },
    "tags": []
   },
   "outputs": [],
   "source": [
    "df_pivot.columns = [\"stamp_1\", \"stamp_2\"]\n",
    "df_pivot_diff = df_pivot.diff(axis=1)"
   ]
  },
  {
   "cell_type": "code",
   "execution_count": 7,
   "id": "fifth-motion",
   "metadata": {
    "execution": {
     "iopub.execute_input": "2021-11-30T22:00:12.326399Z",
     "iopub.status.busy": "2021-11-30T22:00:12.323872Z",
     "iopub.status.idle": "2021-11-30T22:00:14.331100Z",
     "shell.execute_reply": "2021-11-30T22:00:14.332435Z"
    },
    "papermill": {
     "duration": 2.042699,
     "end_time": "2021-11-30T22:00:14.332964",
     "exception": false,
     "start_time": "2021-11-30T22:00:12.290265",
     "status": "completed"
    },
    "tags": []
   },
   "outputs": [
    {
     "data": {
      "text/plain": [
       "<AxesSubplot:ylabel='PRODUCT'>"
      ]
     },
     "execution_count": 7,
     "metadata": {},
     "output_type": "execute_result"
    },
    {
     "data": {
      "image/png": "[encoded data removed]",
      "text/plain": [
       "<Figure size 432x288 with 1 Axes>"
      ]
     },
     "metadata": {
      "needs_background": "light"
     },
     "output_type": "display_data"
    }
   ],
   "source": [
    "df_pivot_diff.sort_values(\"stamp_2\", ascending = False)[\"stamp_2\"].head(10).plot.barh()"
   ]
  },
  {
   "cell_type": "code",
   "execution_count": null,
   "id": "extra-executive",
   "metadata": {
    "papermill": {
     "duration": 0.022111,
     "end_time": "2021-11-30T22:00:14.379891",
     "exception": false,
     "start_time": "2021-11-30T22:00:14.357780",
     "status": "completed"
    },
    "tags": []
   },
   "outputs": [],
   "source": []
  }
 ],
 "metadata": {
  "kernelspec": {
   "display_name": "Python 3",
   "language": "python",
   "name": "python3"
  },
  "language_info": {
   "codemirror_mode": {
    "name": "ipython",
    "version": 3
   },
   "file_extension": ".py",
   "mimetype": "text/x-python",
   "name": "python",
   "nbconvert_exporter": "python",
   "pygments_lexer": "ipython3",
   "version": "3.9.5"
  },
  "papermill": {
   "default_parameters": {},
   "duration": 9.955977,
   "end_time": "2021-11-30T22:00:15.738279",
   "environment_variables": {},
   "exception": null,
   "input_path": "eBay_Overview.ipynb",
   "output_path": "eBay_Overview.ipynb",
   "parameters": {},
   "start_time": "2021-11-30T22:00:05.782302",
   "version": "2.3.3"
  }
 },
 "nbformat": 4,
 "nbformat_minor": 5
}