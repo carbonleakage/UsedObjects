{
 "cells": [
  {
   "cell_type": "code",
   "execution_count": 1,
   "id": "reverse-picking",
   "metadata": {
    "execution": {
     "iopub.execute_input": "2021-11-09T16:30:08.170226Z",
     "iopub.status.busy": "2021-11-09T16:30:08.167672Z",
     "iopub.status.idle": "2021-11-09T16:30:09.122466Z",
     "shell.execute_reply": "2021-11-09T16:30:09.124117Z"
    },
    "papermill": {
     "duration": 1.005883,
     "end_time": "2021-11-09T16:30:09.124961",
     "exception": false,
     "start_time": "2021-11-09T16:30:08.119078",
     "status": "completed"
    },
    "tags": []
   },
   "outputs": [],
   "source": [
    "import pandas as pd\n",
    "import sqlite3"
   ]
  },
  {
   "cell_type": "code",
   "execution_count": 2,
   "id": "innovative-syndrome",
   "metadata": {
    "execution": {
     "iopub.execute_input": "2021-11-09T16:30:09.200023Z",
     "iopub.status.busy": "2021-11-09T16:30:09.197812Z",
     "iopub.status.idle": "2021-11-09T16:30:09.969360Z",
     "shell.execute_reply": "2021-11-09T16:30:09.971082Z"
    },
    "papermill": {
     "duration": 0.818506,
     "end_time": "2021-11-09T16:30:09.971637",
     "exception": false,
     "start_time": "2021-11-09T16:30:09.153131",
     "status": "completed"
    },
    "tags": []
   },
   "outputs": [],
   "source": [
    "timestamps = pd.read_sql(\"select distinct record_time from EBAY_TOP_BERLIN order by record_time desc limit 2\", sqlite3.connect(\"UsedObjects.db\"))"
   ]
  },
  {
   "cell_type": "code",
   "execution_count": 3,
   "id": "periodic-identification",
   "metadata": {
    "execution": {
     "iopub.execute_input": "2021-11-09T16:30:10.043202Z",
     "iopub.status.busy": "2021-11-09T16:30:10.040770Z",
     "iopub.status.idle": "2021-11-09T16:30:10.065704Z",
     "shell.execute_reply": "2021-11-09T16:30:10.067523Z"
    },
    "papermill": {
     "duration": 0.075316,
     "end_time": "2021-11-09T16:30:10.068047",
     "exception": false,
     "start_time": "2021-11-09T16:30:09.992731",
     "status": "completed"
    },
    "tags": []
   },
   "outputs": [
    {
     "data": {
      "text/html": [
       "<div>\n",
       "<style scoped>\n",
       "    .dataframe tbody tr th:only-of-type {\n",
       "        vertical-align: middle;\n",
       "    }\n",
       "\n",
       "    .dataframe tbody tr th {\n",
       "        vertical-align: top;\n",
       "    }\n",
       "\n",
       "    .dataframe thead th {\n",
       "        text-align: right;\n",
       "    }\n",
       "</style>\n",
       "<table border=\"1\" class=\"dataframe\">\n",
       "  <thead>\n",
       "    <tr style=\"text-align: right;\">\n",
       "      <th></th>\n",
       "      <th>RECORD_TIME</th>\n",
       "    </tr>\n",
       "  </thead>\n",
       "  <tbody>\n",
       "    <tr>\n",
       "      <th>0</th>\n",
       "      <td>2021-11-09 17:30</td>\n",
       "    </tr>\n",
       "    <tr>\n",
       "      <th>1</th>\n",
       "      <td>2021-11-09 17:00</td>\n",
       "    </tr>\n",
       "  </tbody>\n",
       "</table>\n",
       "</div>"
      ],
      "text/plain": [
       "        RECORD_TIME\n",
       "0  2021-11-09 17:30\n",
       "1  2021-11-09 17:00"
      ]
     },
     "execution_count": 3,
     "metadata": {},
     "output_type": "execute_result"
    }
   ],
   "source": [
    "timestamps"
   ]
  },
  {
   "cell_type": "code",
   "execution_count": 4,
   "id": "alternate-victory",
   "metadata": {
    "execution": {
     "iopub.execute_input": "2021-11-09T16:30:10.119147Z",
     "iopub.status.busy": "2021-11-09T16:30:10.117317Z",
     "iopub.status.idle": "2021-11-09T16:30:11.228043Z",
     "shell.execute_reply": "2021-11-09T16:30:11.230131Z"
    },
    "papermill": {
     "duration": 1.142064,
     "end_time": "2021-11-09T16:30:11.230640",
     "exception": false,
     "start_time": "2021-11-09T16:30:10.088576",
     "status": "completed"
    },
    "tags": []
   },
   "outputs": [],
   "source": [
    "df = pd.read_sql(\"select * from EBAY_TOP_BERLIN where record_time in (select distinct record_time from EBAY_TOP_BERLIN order by record_time desc limit 2)\", sqlite3.connect(\"UsedObjects.db\"))"
   ]
  },
  {
   "cell_type": "code",
   "execution_count": 5,
   "id": "popular-active",
   "metadata": {
    "execution": {
     "iopub.execute_input": "2021-11-09T16:30:11.298203Z",
     "iopub.status.busy": "2021-11-09T16:30:11.295781Z",
     "iopub.status.idle": "2021-11-09T16:30:11.326752Z",
     "shell.execute_reply": "2021-11-09T16:30:11.327984Z"
    },
    "papermill": {
     "duration": 0.075222,
     "end_time": "2021-11-09T16:30:11.328432",
     "exception": false,
     "start_time": "2021-11-09T16:30:11.253210",
     "status": "completed"
    },
    "tags": []
   },
   "outputs": [],
   "source": [
    "df_pivot = df.pivot_table(index=\"PRODUCT\", columns = \"RECORD_TIME\", values = \"LISTING_COUNT\")"
   ]
  },
  {
   "cell_type": "code",
   "execution_count": 6,
   "id": "union-huntington",
   "metadata": {
    "execution": {
     "iopub.execute_input": "2021-11-09T16:30:11.390120Z",
     "iopub.status.busy": "2021-11-09T16:30:11.387896Z",
     "iopub.status.idle": "2021-11-09T16:30:11.393010Z",
     "shell.execute_reply": "2021-11-09T16:30:11.394988Z"
    },
    "papermill": {
     "duration": 0.046488,
     "end_time": "2021-11-09T16:30:11.395868",
     "exception": false,
     "start_time": "2021-11-09T16:30:11.349380",
     "status": "completed"
    },
    "tags": []
   },
   "outputs": [],
   "source": [
    "df_pivot.columns = [\"stamp_1\", \"stamp_2\"]\n",
    "df_pivot_diff = df_pivot.diff(axis=1)"
   ]
  },
  {
   "cell_type": "code",
   "execution_count": 7,
   "id": "fifth-motion",
   "metadata": {
    "execution": {
     "iopub.execute_input": "2021-11-09T16:30:11.456493Z",
     "iopub.status.busy": "2021-11-09T16:30:11.453933Z",
     "iopub.status.idle": "2021-11-09T16:30:13.357467Z",
     "shell.execute_reply": "2021-11-09T16:30:13.359006Z"
    },
    "papermill": {
     "duration": 1.940461,
     "end_time": "2021-11-09T16:30:13.359533",
     "exception": false,
     "start_time": "2021-11-09T16:30:11.419072",
     "status": "completed"
    },
    "tags": []
   },
   "outputs": [
    {
     "data": {
      "text/plain": [
       "<AxesSubplot:ylabel='PRODUCT'>"
      ]
     },
     "execution_count": 7,
     "metadata": {},
     "output_type": "execute_result"
    },
    {
     "data": {
      "image/png": "[encoded data removed]",
      "text/plain": [
       "<Figure size 432x288 with 1 Axes>"
      ]
     },
     "metadata": {
      "needs_background": "light"
     },
     "output_type": "display_data"
    }
   ],
   "source": [
    "df_pivot_diff.sort_values(\"stamp_2\", ascending = False)[\"stamp_2\"].head(10).plot.barh()"
   ]
  },
  {
   "cell_type": "code",
   "execution_count": null,
   "id": "extra-executive",
   "metadata": {
    "papermill": {
     "duration": 0.023742,
     "end_time": "2021-11-09T16:30:13.408305",
     "exception": false,
     "start_time": "2021-11-09T16:30:13.384563",
     "status": "completed"
    },
    "tags": []
   },
   "outputs": [],
   "source": []
  }
 ],
 "metadata": {
  "kernelspec": {
   "display_name": "Python 3",
   "language": "python",
   "name": "python3"
  },
  "language_info": {
   "codemirror_mode": {
    "name": "ipython",
    "version": 3
   },
   "file_extension": ".py",
   "mimetype": "text/x-python",
   "name": "python",
   "nbconvert_exporter": "python",
   "pygments_lexer": "ipython3",
   "version": "3.9.5"
  },
  "papermill": {
   "default_parameters": {},
   "duration": 8.859896,
   "end_time": "2021-11-09T16:30:14.257011",
   "environment_variables": {},
   "exception": null,
   "input_path": "eBay_Overview.ipynb",
   "output_path": "eBay_Overview.ipynb",
   "parameters": {},
   "start_time": "2021-11-09T16:30:05.397115",
   "version": "2.3.3"
  }
 },
 "nbformat": 4,
 "nbformat_minor": 5
}