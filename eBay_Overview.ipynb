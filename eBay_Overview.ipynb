{
 "cells": [
  {
   "cell_type": "code",
   "execution_count": 1,
   "id": "reverse-picking",
   "metadata": {
    "execution": {
     "iopub.execute_input": "2021-08-21T15:00:06.720198Z",
     "iopub.status.busy": "2021-08-21T15:00:06.718253Z",
     "iopub.status.idle": "2021-08-21T15:00:07.523726Z",
     "shell.execute_reply": "2021-08-21T15:00:07.524983Z"
    },
    "papermill": {
     "duration": 0.859426,
     "end_time": "2021-08-21T15:00:07.525614",
     "exception": false,
     "start_time": "2021-08-21T15:00:06.666188",
     "status": "completed"
    },
    "tags": []
   },
   "outputs": [],
   "source": [
    "import pandas as pd\n",
    "import sqlite3"
   ]
  },
  {
   "cell_type": "code",
   "execution_count": 2,
   "id": "innovative-syndrome",
   "metadata": {
    "execution": {
     "iopub.execute_input": "2021-08-21T15:00:07.576861Z",
     "iopub.status.busy": "2021-08-21T15:00:07.575018Z",
     "iopub.status.idle": "2021-08-21T15:00:07.671436Z",
     "shell.execute_reply": "2021-08-21T15:00:07.672637Z"
    },
    "papermill": {
     "duration": 0.125762,
     "end_time": "2021-08-21T15:00:07.673033",
     "exception": false,
     "start_time": "2021-08-21T15:00:07.547271",
     "status": "completed"
    },
    "tags": []
   },
   "outputs": [],
   "source": [
    "timestamps = pd.read_sql(\"select distinct record_time from EBAY_TOP_BERLIN order by record_time desc limit 2\", sqlite3.connect(\"UsedObjects.db\"))"
   ]
  },
  {
   "cell_type": "code",
   "execution_count": 3,
   "id": "periodic-identification",
   "metadata": {
    "execution": {
     "iopub.execute_input": "2021-08-21T15:00:07.740833Z",
     "iopub.status.busy": "2021-08-21T15:00:07.738827Z",
     "iopub.status.idle": "2021-08-21T15:00:07.760332Z",
     "shell.execute_reply": "2021-08-21T15:00:07.758574Z"
    },
    "papermill": {
     "duration": 0.066161,
     "end_time": "2021-08-21T15:00:07.760806",
     "exception": false,
     "start_time": "2021-08-21T15:00:07.694645",
     "status": "completed"
    },
    "tags": []
   },
   "outputs": [
    {
     "data": {
      "text/html": [
       "<div>\n",
       "<style scoped>\n",
       "    .dataframe tbody tr th:only-of-type {\n",
       "        vertical-align: middle;\n",
       "    }\n",
       "\n",
       "    .dataframe tbody tr th {\n",
       "        vertical-align: top;\n",
       "    }\n",
       "\n",
       "    .dataframe thead th {\n",
       "        text-align: right;\n",
       "    }\n",
       "</style>\n",
       "<table border=\"1\" class=\"dataframe\">\n",
       "  <thead>\n",
       "    <tr style=\"text-align: right;\">\n",
       "      <th></th>\n",
       "      <th>RECORD_TIME</th>\n",
       "    </tr>\n",
       "  </thead>\n",
       "  <tbody>\n",
       "    <tr>\n",
       "      <th>0</th>\n",
       "      <td>2021-08-21 17:00</td>\n",
       "    </tr>\n",
       "    <tr>\n",
       "      <th>1</th>\n",
       "      <td>2021-08-21 16:30</td>\n",
       "    </tr>\n",
       "  </tbody>\n",
       "</table>\n",
       "</div>"
      ],
      "text/plain": [
       "        RECORD_TIME\n",
       "0  2021-08-21 17:00\n",
       "1  2021-08-21 16:30"
      ]
     },
     "execution_count": 3,
     "metadata": {},
     "output_type": "execute_result"
    }
   ],
   "source": [
    "timestamps"
   ]
  },
  {
   "cell_type": "code",
   "execution_count": 4,
   "id": "alternate-victory",
   "metadata": {
    "execution": {
     "iopub.execute_input": "2021-08-21T15:00:07.813895Z",
     "iopub.status.busy": "2021-08-21T15:00:07.812095Z",
     "iopub.status.idle": "2021-08-21T15:00:07.955007Z",
     "shell.execute_reply": "2021-08-21T15:00:07.956178Z"
    },
    "papermill": {
     "duration": 0.172988,
     "end_time": "2021-08-21T15:00:07.956589",
     "exception": false,
     "start_time": "2021-08-21T15:00:07.783601",
     "status": "completed"
    },
    "tags": []
   },
   "outputs": [],
   "source": [
    "df = pd.read_sql(\"select * from EBAY_TOP_BERLIN where record_time in (select distinct record_time from EBAY_TOP_BERLIN order by record_time desc limit 2)\", sqlite3.connect(\"UsedObjects.db\"))"
   ]
  },
  {
   "cell_type": "code",
   "execution_count": 5,
   "id": "popular-active",
   "metadata": {
    "execution": {
     "iopub.execute_input": "2021-08-21T15:00:08.027351Z",
     "iopub.status.busy": "2021-08-21T15:00:08.015874Z",
     "iopub.status.idle": "2021-08-21T15:00:08.044284Z",
     "shell.execute_reply": "2021-08-21T15:00:08.045477Z"
    },
    "papermill": {
     "duration": 0.067202,
     "end_time": "2021-08-21T15:00:08.045909",
     "exception": false,
     "start_time": "2021-08-21T15:00:07.978707",
     "status": "completed"
    },
    "tags": []
   },
   "outputs": [],
   "source": [
    "df_pivot = df.pivot_table(index=\"PRODUCT\", columns = \"RECORD_TIME\", values = \"LISTING_COUNT\")"
   ]
  },
  {
   "cell_type": "code",
   "execution_count": 6,
   "id": "union-huntington",
   "metadata": {
    "execution": {
     "iopub.execute_input": "2021-08-21T15:00:08.101842Z",
     "iopub.status.busy": "2021-08-21T15:00:08.099871Z",
     "iopub.status.idle": "2021-08-21T15:00:08.106161Z",
     "shell.execute_reply": "2021-08-21T15:00:08.104765Z"
    },
    "papermill": {
     "duration": 0.040375,
     "end_time": "2021-08-21T15:00:08.106507",
     "exception": false,
     "start_time": "2021-08-21T15:00:08.066132",
     "status": "completed"
    },
    "tags": []
   },
   "outputs": [],
   "source": [
    "df_pivot.columns = [\"stamp_1\", \"stamp_2\"]\n",
    "df_pivot_diff = df_pivot.diff(axis=1)"
   ]
  },
  {
   "cell_type": "code",
   "execution_count": 7,
   "id": "fifth-motion",
   "metadata": {
    "execution": {
     "iopub.execute_input": "2021-08-21T15:00:08.166566Z",
     "iopub.status.busy": "2021-08-21T15:00:08.163522Z",
     "iopub.status.idle": "2021-08-21T15:00:09.640065Z",
     "shell.execute_reply": "2021-08-21T15:00:09.641437Z"
    },
    "papermill": {
     "duration": 1.514119,
     "end_time": "2021-08-21T15:00:09.641877",
     "exception": false,
     "start_time": "2021-08-21T15:00:08.127758",
     "status": "completed"
    },
    "tags": []
   },
   "outputs": [
    {
     "data": {
      "text/plain": [
       "<AxesSubplot:ylabel='PRODUCT'>"
      ]
     },
     "execution_count": 7,
     "metadata": {},
     "output_type": "execute_result"
    },
    {
     "data": {
      "image/png": "[encoded data removed]",
      "text/plain": [
       "<Figure size 432x288 with 1 Axes>"
      ]
     },
     "metadata": {
      "needs_background": "light"
     },
     "output_type": "display_data"
    }
   ],
   "source": [
    "df_pivot_diff.sort_values(\"stamp_2\", ascending = False)[\"stamp_2\"].head(10).plot.barh()"
   ]
  },
  {
   "cell_type": "code",
   "execution_count": null,
   "id": "extra-executive",
   "metadata": {
    "papermill": {
     "duration": 0.022306,
     "end_time": "2021-08-21T15:00:09.688346",
     "exception": false,
     "start_time": "2021-08-21T15:00:09.666040",
     "status": "completed"
    },
    "tags": []
   },
   "outputs": [],
   "source": []
  }
 ],
 "metadata": {
  "kernelspec": {
   "display_name": "Python 3",
   "language": "python",
   "name": "python3"
  },
  "language_info": {
   "codemirror_mode": {
    "name": "ipython",
    "version": 3
   },
   "file_extension": ".py",
   "mimetype": "text/x-python",
   "name": "python",
   "nbconvert_exporter": "python",
   "pygments_lexer": "ipython3",
   "version": "3.9.5"
  },
  "papermill": {
   "default_parameters": {},
   "duration": 6.832959,
   "end_time": "2021-08-21T15:00:11.086506",
   "environment_variables": {},
   "exception": null,
   "input_path": "eBay_Overview.ipynb",
   "output_path": "eBay_Overview.ipynb",
   "parameters": {},
   "start_time": "2021-08-21T15:00:04.253547",
   "version": "2.3.3"
  }
 },
 "nbformat": 4,
 "nbformat_minor": 5
}