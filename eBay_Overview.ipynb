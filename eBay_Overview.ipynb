{
 "cells": [
  {
   "cell_type": "code",
   "execution_count": 1,
   "id": "reverse-picking",
   "metadata": {
    "execution": {
     "iopub.execute_input": "2021-10-28T21:00:06.848478Z",
     "iopub.status.busy": "2021-10-28T21:00:06.846542Z",
     "iopub.status.idle": "2021-10-28T21:00:07.649500Z",
     "shell.execute_reply": "2021-10-28T21:00:07.650756Z"
    },
    "papermill": {
     "duration": 0.853254,
     "end_time": "2021-10-28T21:00:07.651374",
     "exception": false,
     "start_time": "2021-10-28T21:00:06.798120",
     "status": "completed"
    },
    "tags": []
   },
   "outputs": [],
   "source": [
    "import pandas as pd\n",
    "import sqlite3"
   ]
  },
  {
   "cell_type": "code",
   "execution_count": 2,
   "id": "innovative-syndrome",
   "metadata": {
    "execution": {
     "iopub.execute_input": "2021-10-28T21:00:07.701936Z",
     "iopub.status.busy": "2021-10-28T21:00:07.700000Z",
     "iopub.status.idle": "2021-10-28T21:00:08.353861Z",
     "shell.execute_reply": "2021-10-28T21:00:08.355187Z"
    },
    "papermill": {
     "duration": 0.683635,
     "end_time": "2021-10-28T21:00:08.355624",
     "exception": false,
     "start_time": "2021-10-28T21:00:07.671989",
     "status": "completed"
    },
    "tags": []
   },
   "outputs": [],
   "source": [
    "timestamps = pd.read_sql(\"select distinct record_time from EBAY_TOP_BERLIN order by record_time desc limit 2\", sqlite3.connect(\"UsedObjects.db\"))"
   ]
  },
  {
   "cell_type": "code",
   "execution_count": 3,
   "id": "periodic-identification",
   "metadata": {
    "execution": {
     "iopub.execute_input": "2021-10-28T21:00:08.418972Z",
     "iopub.status.busy": "2021-10-28T21:00:08.416974Z",
     "iopub.status.idle": "2021-10-28T21:00:08.436466Z",
     "shell.execute_reply": "2021-10-28T21:00:08.437913Z"
    },
    "papermill": {
     "duration": 0.063245,
     "end_time": "2021-10-28T21:00:08.438361",
     "exception": false,
     "start_time": "2021-10-28T21:00:08.375116",
     "status": "completed"
    },
    "tags": []
   },
   "outputs": [
    {
     "data": {
      "text/html": [
       "<div>\n",
       "<style scoped>\n",
       "    .dataframe tbody tr th:only-of-type {\n",
       "        vertical-align: middle;\n",
       "    }\n",
       "\n",
       "    .dataframe tbody tr th {\n",
       "        vertical-align: top;\n",
       "    }\n",
       "\n",
       "    .dataframe thead th {\n",
       "        text-align: right;\n",
       "    }\n",
       "</style>\n",
       "<table border=\"1\" class=\"dataframe\">\n",
       "  <thead>\n",
       "    <tr style=\"text-align: right;\">\n",
       "      <th></th>\n",
       "      <th>RECORD_TIME</th>\n",
       "    </tr>\n",
       "  </thead>\n",
       "  <tbody>\n",
       "    <tr>\n",
       "      <th>0</th>\n",
       "      <td>2021-10-28 23:00</td>\n",
       "    </tr>\n",
       "    <tr>\n",
       "      <th>1</th>\n",
       "      <td>2021-10-28 22:30</td>\n",
       "    </tr>\n",
       "  </tbody>\n",
       "</table>\n",
       "</div>"
      ],
      "text/plain": [
       "        RECORD_TIME\n",
       "0  2021-10-28 23:00\n",
       "1  2021-10-28 22:30"
      ]
     },
     "execution_count": 3,
     "metadata": {},
     "output_type": "execute_result"
    }
   ],
   "source": [
    "timestamps"
   ]
  },
  {
   "cell_type": "code",
   "execution_count": 4,
   "id": "alternate-victory",
   "metadata": {
    "execution": {
     "iopub.execute_input": "2021-10-28T21:00:08.490684Z",
     "iopub.status.busy": "2021-10-28T21:00:08.488542Z",
     "iopub.status.idle": "2021-10-28T21:00:09.453171Z",
     "shell.execute_reply": "2021-10-28T21:00:09.454397Z"
    },
    "papermill": {
     "duration": 0.994819,
     "end_time": "2021-10-28T21:00:09.454790",
     "exception": false,
     "start_time": "2021-10-28T21:00:08.459971",
     "status": "completed"
    },
    "tags": []
   },
   "outputs": [],
   "source": [
    "df = pd.read_sql(\"select * from EBAY_TOP_BERLIN where record_time in (select distinct record_time from EBAY_TOP_BERLIN order by record_time desc limit 2)\", sqlite3.connect(\"UsedObjects.db\"))"
   ]
  },
  {
   "cell_type": "code",
   "execution_count": 5,
   "id": "popular-active",
   "metadata": {
    "execution": {
     "iopub.execute_input": "2021-10-28T21:00:09.528774Z",
     "iopub.status.busy": "2021-10-28T21:00:09.517327Z",
     "iopub.status.idle": "2021-10-28T21:00:09.544610Z",
     "shell.execute_reply": "2021-10-28T21:00:09.545905Z"
    },
    "papermill": {
     "duration": 0.067741,
     "end_time": "2021-10-28T21:00:09.546301",
     "exception": false,
     "start_time": "2021-10-28T21:00:09.478560",
     "status": "completed"
    },
    "tags": []
   },
   "outputs": [],
   "source": [
    "df_pivot = df.pivot_table(index=\"PRODUCT\", columns = \"RECORD_TIME\", values = \"LISTING_COUNT\")"
   ]
  },
  {
   "cell_type": "code",
   "execution_count": 6,
   "id": "union-huntington",
   "metadata": {
    "execution": {
     "iopub.execute_input": "2021-10-28T21:00:09.604340Z",
     "iopub.status.busy": "2021-10-28T21:00:09.602082Z",
     "iopub.status.idle": "2021-10-28T21:00:09.607901Z",
     "shell.execute_reply": "2021-10-28T21:00:09.609270Z"
    },
    "papermill": {
     "duration": 0.041752,
     "end_time": "2021-10-28T21:00:09.609698",
     "exception": false,
     "start_time": "2021-10-28T21:00:09.567946",
     "status": "completed"
    },
    "tags": []
   },
   "outputs": [],
   "source": [
    "df_pivot.columns = [\"stamp_1\", \"stamp_2\"]\n",
    "df_pivot_diff = df_pivot.diff(axis=1)"
   ]
  },
  {
   "cell_type": "code",
   "execution_count": 7,
   "id": "fifth-motion",
   "metadata": {
    "execution": {
     "iopub.execute_input": "2021-10-28T21:00:09.663846Z",
     "iopub.status.busy": "2021-10-28T21:00:09.661568Z",
     "iopub.status.idle": "2021-10-28T21:00:11.148493Z",
     "shell.execute_reply": "2021-10-28T21:00:11.149939Z"
    },
    "papermill": {
     "duration": 1.520585,
     "end_time": "2021-10-28T21:00:11.150374",
     "exception": false,
     "start_time": "2021-10-28T21:00:09.629789",
     "status": "completed"
    },
    "tags": []
   },
   "outputs": [
    {
     "data": {
      "text/plain": [
       "<AxesSubplot:ylabel='PRODUCT'>"
      ]
     },
     "execution_count": 7,
     "metadata": {},
     "output_type": "execute_result"
    },
    {
     "data": {
      "image/png": "[encoded data removed]",
      "text/plain": [
       "<Figure size 432x288 with 1 Axes>"
      ]
     },
     "metadata": {
      "needs_background": "light"
     },
     "output_type": "display_data"
    }
   ],
   "source": [
    "df_pivot_diff.sort_values(\"stamp_2\", ascending = False)[\"stamp_2\"].head(10).plot.barh()"
   ]
  },
  {
   "cell_type": "code",
   "execution_count": null,
   "id": "extra-executive",
   "metadata": {
    "papermill": {
     "duration": 0.022232,
     "end_time": "2021-10-28T21:00:11.196404",
     "exception": false,
     "start_time": "2021-10-28T21:00:11.174172",
     "status": "completed"
    },
    "tags": []
   },
   "outputs": [],
   "source": []
  }
 ],
 "metadata": {
  "kernelspec": {
   "display_name": "Python 3",
   "language": "python",
   "name": "python3"
  },
  "language_info": {
   "codemirror_mode": {
    "name": "ipython",
    "version": 3
   },
   "file_extension": ".py",
   "mimetype": "text/x-python",
   "name": "python",
   "nbconvert_exporter": "python",
   "pygments_lexer": "ipython3",
   "version": "3.9.5"
  },
  "papermill": {
   "default_parameters": {},
   "duration": 7.444074,
   "end_time": "2021-10-28T21:00:11.840250",
   "environment_variables": {},
   "exception": null,
   "input_path": "eBay_Overview.ipynb",
   "output_path": "eBay_Overview.ipynb",
   "parameters": {},
   "start_time": "2021-10-28T21:00:04.396176",
   "version": "2.3.3"
  }
 },
 "nbformat": 4,
 "nbformat_minor": 5
}