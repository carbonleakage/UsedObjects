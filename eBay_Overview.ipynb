{
 "cells": [
  {
   "cell_type": "code",
   "execution_count": 1,
   "id": "reverse-picking",
   "metadata": {
    "execution": {
     "iopub.execute_input": "2021-09-10T15:00:07.309736Z",
     "iopub.status.busy": "2021-09-10T15:00:07.307764Z",
     "iopub.status.idle": "2021-09-10T15:00:08.119907Z",
     "shell.execute_reply": "2021-09-10T15:00:08.121357Z"
    },
    "papermill": {
     "duration": 0.863241,
     "end_time": "2021-09-10T15:00:08.122050",
     "exception": false,
     "start_time": "2021-09-10T15:00:07.258809",
     "status": "completed"
    },
    "tags": []
   },
   "outputs": [],
   "source": [
    "import pandas as pd\n",
    "import sqlite3"
   ]
  },
  {
   "cell_type": "code",
   "execution_count": 2,
   "id": "innovative-syndrome",
   "metadata": {
    "execution": {
     "iopub.execute_input": "2021-09-10T15:00:08.172830Z",
     "iopub.status.busy": "2021-09-10T15:00:08.170414Z",
     "iopub.status.idle": "2021-09-10T15:00:08.422380Z",
     "shell.execute_reply": "2021-09-10T15:00:08.423730Z"
    },
    "papermill": {
     "duration": 0.281876,
     "end_time": "2021-09-10T15:00:08.424150",
     "exception": false,
     "start_time": "2021-09-10T15:00:08.142274",
     "status": "completed"
    },
    "tags": []
   },
   "outputs": [],
   "source": [
    "timestamps = pd.read_sql(\"select distinct record_time from EBAY_TOP_BERLIN order by record_time desc limit 2\", sqlite3.connect(\"UsedObjects.db\"))"
   ]
  },
  {
   "cell_type": "code",
   "execution_count": 3,
   "id": "periodic-identification",
   "metadata": {
    "execution": {
     "iopub.execute_input": "2021-09-10T15:00:08.490050Z",
     "iopub.status.busy": "2021-09-10T15:00:08.488027Z",
     "iopub.status.idle": "2021-09-10T15:00:08.508049Z",
     "shell.execute_reply": "2021-09-10T15:00:08.509406Z"
    },
    "papermill": {
     "duration": 0.066252,
     "end_time": "2021-09-10T15:00:08.509822",
     "exception": false,
     "start_time": "2021-09-10T15:00:08.443570",
     "status": "completed"
    },
    "tags": []
   },
   "outputs": [
    {
     "data": {
      "text/html": [
       "<div>\n",
       "<style scoped>\n",
       "    .dataframe tbody tr th:only-of-type {\n",
       "        vertical-align: middle;\n",
       "    }\n",
       "\n",
       "    .dataframe tbody tr th {\n",
       "        vertical-align: top;\n",
       "    }\n",
       "\n",
       "    .dataframe thead th {\n",
       "        text-align: right;\n",
       "    }\n",
       "</style>\n",
       "<table border=\"1\" class=\"dataframe\">\n",
       "  <thead>\n",
       "    <tr style=\"text-align: right;\">\n",
       "      <th></th>\n",
       "      <th>RECORD_TIME</th>\n",
       "    </tr>\n",
       "  </thead>\n",
       "  <tbody>\n",
       "    <tr>\n",
       "      <th>0</th>\n",
       "      <td>2021-09-10 17:00</td>\n",
       "    </tr>\n",
       "    <tr>\n",
       "      <th>1</th>\n",
       "      <td>2021-09-10 16:30</td>\n",
       "    </tr>\n",
       "  </tbody>\n",
       "</table>\n",
       "</div>"
      ],
      "text/plain": [
       "        RECORD_TIME\n",
       "0  2021-09-10 17:00\n",
       "1  2021-09-10 16:30"
      ]
     },
     "execution_count": 3,
     "metadata": {},
     "output_type": "execute_result"
    }
   ],
   "source": [
    "timestamps"
   ]
  },
  {
   "cell_type": "code",
   "execution_count": 4,
   "id": "alternate-victory",
   "metadata": {
    "execution": {
     "iopub.execute_input": "2021-09-10T15:00:08.561442Z",
     "iopub.status.busy": "2021-09-10T15:00:08.559276Z",
     "iopub.status.idle": "2021-09-10T15:00:08.936781Z",
     "shell.execute_reply": "2021-09-10T15:00:08.937992Z"
    },
    "papermill": {
     "duration": 0.407467,
     "end_time": "2021-09-10T15:00:08.938386",
     "exception": false,
     "start_time": "2021-09-10T15:00:08.530919",
     "status": "completed"
    },
    "tags": []
   },
   "outputs": [],
   "source": [
    "df = pd.read_sql(\"select * from EBAY_TOP_BERLIN where record_time in (select distinct record_time from EBAY_TOP_BERLIN order by record_time desc limit 2)\", sqlite3.connect(\"UsedObjects.db\"))"
   ]
  },
  {
   "cell_type": "code",
   "execution_count": 5,
   "id": "popular-active",
   "metadata": {
    "execution": {
     "iopub.execute_input": "2021-09-10T15:00:09.019019Z",
     "iopub.status.busy": "2021-09-10T15:00:09.006768Z",
     "iopub.status.idle": "2021-09-10T15:00:09.035450Z",
     "shell.execute_reply": "2021-09-10T15:00:09.036761Z"
    },
    "papermill": {
     "duration": 0.071497,
     "end_time": "2021-09-10T15:00:09.037216",
     "exception": false,
     "start_time": "2021-09-10T15:00:08.965719",
     "status": "completed"
    },
    "tags": []
   },
   "outputs": [],
   "source": [
    "df_pivot = df.pivot_table(index=\"PRODUCT\", columns = \"RECORD_TIME\", values = \"LISTING_COUNT\")"
   ]
  },
  {
   "cell_type": "code",
   "execution_count": 6,
   "id": "union-huntington",
   "metadata": {
    "execution": {
     "iopub.execute_input": "2021-09-10T15:00:09.094370Z",
     "iopub.status.busy": "2021-09-10T15:00:09.091933Z",
     "iopub.status.idle": "2021-09-10T15:00:09.097715Z",
     "shell.execute_reply": "2021-09-10T15:00:09.099076Z"
    },
    "papermill": {
     "duration": 0.042164,
     "end_time": "2021-09-10T15:00:09.099497",
     "exception": false,
     "start_time": "2021-09-10T15:00:09.057333",
     "status": "completed"
    },
    "tags": []
   },
   "outputs": [],
   "source": [
    "df_pivot.columns = [\"stamp_1\", \"stamp_2\"]\n",
    "df_pivot_diff = df_pivot.diff(axis=1)"
   ]
  },
  {
   "cell_type": "code",
   "execution_count": 7,
   "id": "fifth-motion",
   "metadata": {
    "execution": {
     "iopub.execute_input": "2021-09-10T15:00:09.153516Z",
     "iopub.status.busy": "2021-09-10T15:00:09.151241Z",
     "iopub.status.idle": "2021-09-10T15:00:10.632396Z",
     "shell.execute_reply": "2021-09-10T15:00:10.633587Z"
    },
    "papermill": {
     "duration": 1.514205,
     "end_time": "2021-09-10T15:00:10.634017",
     "exception": false,
     "start_time": "2021-09-10T15:00:09.119812",
     "status": "completed"
    },
    "tags": []
   },
   "outputs": [
    {
     "data": {
      "text/plain": [
       "<AxesSubplot:ylabel='PRODUCT'>"
      ]
     },
     "execution_count": 7,
     "metadata": {},
     "output_type": "execute_result"
    },
    {
     "data": {
      "image/png": "[encoded data removed]",
      "text/plain": [
       "<Figure size 432x288 with 1 Axes>"
      ]
     },
     "metadata": {
      "needs_background": "light"
     },
     "output_type": "display_data"
    }
   ],
   "source": [
    "df_pivot_diff.sort_values(\"stamp_2\", ascending = False)[\"stamp_2\"].head(10).plot.barh()"
   ]
  },
  {
   "cell_type": "code",
   "execution_count": null,
   "id": "extra-executive",
   "metadata": {
    "papermill": {
     "duration": 0.02187,
     "end_time": "2021-09-10T15:00:10.679643",
     "exception": false,
     "start_time": "2021-09-10T15:00:10.657773",
     "status": "completed"
    },
    "tags": []
   },
   "outputs": [],
   "source": []
  }
 ],
 "metadata": {
  "kernelspec": {
   "display_name": "Python 3",
   "language": "python",
   "name": "python3"
  },
  "language_info": {
   "codemirror_mode": {
    "name": "ipython",
    "version": 3
   },
   "file_extension": ".py",
   "mimetype": "text/x-python",
   "name": "python",
   "nbconvert_exporter": "python",
   "pygments_lexer": "ipython3",
   "version": "3.9.5"
  },
  "papermill": {
   "default_parameters": {},
   "duration": 6.483796,
   "end_time": "2021-09-10T15:00:11.319427",
   "environment_variables": {},
   "exception": null,
   "input_path": "eBay_Overview.ipynb",
   "output_path": "eBay_Overview.ipynb",
   "parameters": {},
   "start_time": "2021-09-10T15:00:04.835631",
   "version": "2.3.3"
  }
 },
 "nbformat": 4,
 "nbformat_minor": 5
}