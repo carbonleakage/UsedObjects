{
 "cells": [
  {
   "cell_type": "code",
   "execution_count": 1,
   "id": "reverse-picking",
   "metadata": {
    "execution": {
     "iopub.execute_input": "2021-11-26T03:00:08.007564Z",
     "iopub.status.busy": "2021-11-26T03:00:08.005407Z",
     "iopub.status.idle": "2021-11-26T03:00:08.938390Z",
     "shell.execute_reply": "2021-11-26T03:00:08.939800Z"
    },
    "papermill": {
     "duration": 0.983192,
     "end_time": "2021-11-26T03:00:08.940517",
     "exception": false,
     "start_time": "2021-11-26T03:00:07.957325",
     "status": "completed"
    },
    "tags": []
   },
   "outputs": [],
   "source": [
    "import pandas as pd\n",
    "import sqlite3"
   ]
  },
  {
   "cell_type": "code",
   "execution_count": 2,
   "id": "innovative-syndrome",
   "metadata": {
    "execution": {
     "iopub.execute_input": "2021-11-26T03:00:09.004824Z",
     "iopub.status.busy": "2021-11-26T03:00:09.002555Z",
     "iopub.status.idle": "2021-11-26T03:00:09.915883Z",
     "shell.execute_reply": "2021-11-26T03:00:09.917614Z"
    },
    "papermill": {
     "duration": 0.946964,
     "end_time": "2021-11-26T03:00:09.918120",
     "exception": false,
     "start_time": "2021-11-26T03:00:08.971156",
     "status": "completed"
    },
    "tags": []
   },
   "outputs": [],
   "source": [
    "timestamps = pd.read_sql(\"select distinct record_time from EBAY_TOP_BERLIN order by record_time desc limit 2\", sqlite3.connect(\"UsedObjects.db\"))"
   ]
  },
  {
   "cell_type": "code",
   "execution_count": 3,
   "id": "periodic-identification",
   "metadata": {
    "execution": {
     "iopub.execute_input": "2021-11-26T03:00:09.989496Z",
     "iopub.status.busy": "2021-11-26T03:00:09.987107Z",
     "iopub.status.idle": "2021-11-26T03:00:10.010086Z",
     "shell.execute_reply": "2021-11-26T03:00:10.011848Z"
    },
    "papermill": {
     "duration": 0.073728,
     "end_time": "2021-11-26T03:00:10.012535",
     "exception": false,
     "start_time": "2021-11-26T03:00:09.938807",
     "status": "completed"
    },
    "tags": []
   },
   "outputs": [
    {
     "data": {
      "text/html": [
       "<div>\n",
       "<style scoped>\n",
       "    .dataframe tbody tr th:only-of-type {\n",
       "        vertical-align: middle;\n",
       "    }\n",
       "\n",
       "    .dataframe tbody tr th {\n",
       "        vertical-align: top;\n",
       "    }\n",
       "\n",
       "    .dataframe thead th {\n",
       "        text-align: right;\n",
       "    }\n",
       "</style>\n",
       "<table border=\"1\" class=\"dataframe\">\n",
       "  <thead>\n",
       "    <tr style=\"text-align: right;\">\n",
       "      <th></th>\n",
       "      <th>RECORD_TIME</th>\n",
       "    </tr>\n",
       "  </thead>\n",
       "  <tbody>\n",
       "    <tr>\n",
       "      <th>0</th>\n",
       "      <td>2021-11-26 04:00</td>\n",
       "    </tr>\n",
       "    <tr>\n",
       "      <th>1</th>\n",
       "      <td>2021-11-26 03:30</td>\n",
       "    </tr>\n",
       "  </tbody>\n",
       "</table>\n",
       "</div>"
      ],
      "text/plain": [
       "        RECORD_TIME\n",
       "0  2021-11-26 04:00\n",
       "1  2021-11-26 03:30"
      ]
     },
     "execution_count": 3,
     "metadata": {},
     "output_type": "execute_result"
    }
   ],
   "source": [
    "timestamps"
   ]
  },
  {
   "cell_type": "code",
   "execution_count": 4,
   "id": "alternate-victory",
   "metadata": {
    "execution": {
     "iopub.execute_input": "2021-11-26T03:00:10.071362Z",
     "iopub.status.busy": "2021-11-26T03:00:10.069064Z",
     "iopub.status.idle": "2021-11-26T03:00:11.371759Z",
     "shell.execute_reply": "2021-11-26T03:00:11.373503Z"
    },
    "papermill": {
     "duration": 1.339315,
     "end_time": "2021-11-26T03:00:11.374022",
     "exception": false,
     "start_time": "2021-11-26T03:00:10.034707",
     "status": "completed"
    },
    "tags": []
   },
   "outputs": [],
   "source": [
    "df = pd.read_sql(\"select * from EBAY_TOP_BERLIN where record_time in (select distinct record_time from EBAY_TOP_BERLIN order by record_time desc limit 2)\", sqlite3.connect(\"UsedObjects.db\"))"
   ]
  },
  {
   "cell_type": "code",
   "execution_count": 5,
   "id": "popular-active",
   "metadata": {
    "execution": {
     "iopub.execute_input": "2021-11-26T03:00:11.446080Z",
     "iopub.status.busy": "2021-11-26T03:00:11.436483Z",
     "iopub.status.idle": "2021-11-26T03:00:11.468625Z",
     "shell.execute_reply": "2021-11-26T03:00:11.470034Z"
    },
    "papermill": {
     "duration": 0.073954,
     "end_time": "2021-11-26T03:00:11.470464",
     "exception": false,
     "start_time": "2021-11-26T03:00:11.396510",
     "status": "completed"
    },
    "tags": []
   },
   "outputs": [],
   "source": [
    "df_pivot = df.pivot_table(index=\"PRODUCT\", columns = \"RECORD_TIME\", values = \"LISTING_COUNT\")"
   ]
  },
  {
   "cell_type": "code",
   "execution_count": 6,
   "id": "union-huntington",
   "metadata": {
    "execution": {
     "iopub.execute_input": "2021-11-26T03:00:11.532899Z",
     "iopub.status.busy": "2021-11-26T03:00:11.530600Z",
     "iopub.status.idle": "2021-11-26T03:00:11.536975Z",
     "shell.execute_reply": "2021-11-26T03:00:11.538568Z"
    },
    "papermill": {
     "duration": 0.047705,
     "end_time": "2021-11-26T03:00:11.539086",
     "exception": false,
     "start_time": "2021-11-26T03:00:11.491381",
     "status": "completed"
    },
    "tags": []
   },
   "outputs": [],
   "source": [
    "df_pivot.columns = [\"stamp_1\", \"stamp_2\"]\n",
    "df_pivot_diff = df_pivot.diff(axis=1)"
   ]
  },
  {
   "cell_type": "code",
   "execution_count": 7,
   "id": "fifth-motion",
   "metadata": {
    "execution": {
     "iopub.execute_input": "2021-11-26T03:00:11.598548Z",
     "iopub.status.busy": "2021-11-26T03:00:11.595741Z",
     "iopub.status.idle": "2021-11-26T03:00:13.501306Z",
     "shell.execute_reply": "2021-11-26T03:00:13.502686Z"
    },
    "papermill": {
     "duration": 1.94291,
     "end_time": "2021-11-26T03:00:13.503188",
     "exception": false,
     "start_time": "2021-11-26T03:00:11.560278",
     "status": "completed"
    },
    "tags": []
   },
   "outputs": [
    {
     "data": {
      "text/plain": [
       "<AxesSubplot:ylabel='PRODUCT'>"
      ]
     },
     "execution_count": 7,
     "metadata": {},
     "output_type": "execute_result"
    },
    {
     "data": {
      "image/png": "[encoded data removed]",
      "text/plain": [
       "<Figure size 432x288 with 1 Axes>"
      ]
     },
     "metadata": {
      "needs_background": "light"
     },
     "output_type": "display_data"
    }
   ],
   "source": [
    "df_pivot_diff.sort_values(\"stamp_2\", ascending = False)[\"stamp_2\"].head(10).plot.barh()"
   ]
  },
  {
   "cell_type": "code",
   "execution_count": null,
   "id": "extra-executive",
   "metadata": {
    "papermill": {
     "duration": 0.023062,
     "end_time": "2021-11-26T03:00:13.549981",
     "exception": false,
     "start_time": "2021-11-26T03:00:13.526919",
     "status": "completed"
    },
    "tags": []
   },
   "outputs": [],
   "source": []
  }
 ],
 "metadata": {
  "kernelspec": {
   "display_name": "Python 3",
   "language": "python",
   "name": "python3"
  },
  "language_info": {
   "codemirror_mode": {
    "name": "ipython",
    "version": 3
   },
   "file_extension": ".py",
   "mimetype": "text/x-python",
   "name": "python",
   "nbconvert_exporter": "python",
   "pygments_lexer": "ipython3",
   "version": "3.9.5"
  },
  "papermill": {
   "default_parameters": {},
   "duration": 11.934655,
   "end_time": "2021-11-26T03:00:17.159915",
   "environment_variables": {},
   "exception": null,
   "input_path": "eBay_Overview.ipynb",
   "output_path": "eBay_Overview.ipynb",
   "parameters": {},
   "start_time": "2021-11-26T03:00:05.225260",
   "version": "2.3.3"
  }
 },
 "nbformat": 4,
 "nbformat_minor": 5
}