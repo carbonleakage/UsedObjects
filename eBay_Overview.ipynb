{
 "cells": [
  {
   "cell_type": "code",
   "execution_count": 1,
   "id": "reverse-picking",
   "metadata": {
    "execution": {
     "iopub.execute_input": "2021-11-03T11:00:07.374058Z",
     "iopub.status.busy": "2021-11-03T11:00:07.371671Z",
     "iopub.status.idle": "2021-11-03T11:00:08.320176Z",
     "shell.execute_reply": "2021-11-03T11:00:08.321913Z"
    },
    "papermill": {
     "duration": 0.996249,
     "end_time": "2021-11-03T11:00:08.322760",
     "exception": false,
     "start_time": "2021-11-03T11:00:07.326511",
     "status": "completed"
    },
    "tags": []
   },
   "outputs": [],
   "source": [
    "import pandas as pd\n",
    "import sqlite3"
   ]
  },
  {
   "cell_type": "code",
   "execution_count": 2,
   "id": "innovative-syndrome",
   "metadata": {
    "execution": {
     "iopub.execute_input": "2021-11-03T11:00:08.379638Z",
     "iopub.status.busy": "2021-11-03T11:00:08.377446Z",
     "iopub.status.idle": "2021-11-03T11:00:09.104057Z",
     "shell.execute_reply": "2021-11-03T11:00:09.105752Z"
    },
    "papermill": {
     "duration": 0.761855,
     "end_time": "2021-11-03T11:00:09.106243",
     "exception": false,
     "start_time": "2021-11-03T11:00:08.344388",
     "status": "completed"
    },
    "tags": []
   },
   "outputs": [],
   "source": [
    "timestamps = pd.read_sql(\"select distinct record_time from EBAY_TOP_BERLIN order by record_time desc limit 2\", sqlite3.connect(\"UsedObjects.db\"))"
   ]
  },
  {
   "cell_type": "code",
   "execution_count": 3,
   "id": "periodic-identification",
   "metadata": {
    "execution": {
     "iopub.execute_input": "2021-11-03T11:00:09.180952Z",
     "iopub.status.busy": "2021-11-03T11:00:09.174907Z",
     "iopub.status.idle": "2021-11-03T11:00:09.197765Z",
     "shell.execute_reply": "2021-11-03T11:00:09.199405Z"
    },
    "papermill": {
     "duration": 0.073321,
     "end_time": "2021-11-03T11:00:09.199906",
     "exception": false,
     "start_time": "2021-11-03T11:00:09.126585",
     "status": "completed"
    },
    "tags": []
   },
   "outputs": [
    {
     "data": {
      "text/html": [
       "<div>\n",
       "<style scoped>\n",
       "    .dataframe tbody tr th:only-of-type {\n",
       "        vertical-align: middle;\n",
       "    }\n",
       "\n",
       "    .dataframe tbody tr th {\n",
       "        vertical-align: top;\n",
       "    }\n",
       "\n",
       "    .dataframe thead th {\n",
       "        text-align: right;\n",
       "    }\n",
       "</style>\n",
       "<table border=\"1\" class=\"dataframe\">\n",
       "  <thead>\n",
       "    <tr style=\"text-align: right;\">\n",
       "      <th></th>\n",
       "      <th>RECORD_TIME</th>\n",
       "    </tr>\n",
       "  </thead>\n",
       "  <tbody>\n",
       "    <tr>\n",
       "      <th>0</th>\n",
       "      <td>2021-11-03 12:00</td>\n",
       "    </tr>\n",
       "    <tr>\n",
       "      <th>1</th>\n",
       "      <td>2021-11-03 11:30</td>\n",
       "    </tr>\n",
       "  </tbody>\n",
       "</table>\n",
       "</div>"
      ],
      "text/plain": [
       "        RECORD_TIME\n",
       "0  2021-11-03 12:00\n",
       "1  2021-11-03 11:30"
      ]
     },
     "execution_count": 3,
     "metadata": {},
     "output_type": "execute_result"
    }
   ],
   "source": [
    "timestamps"
   ]
  },
  {
   "cell_type": "code",
   "execution_count": 4,
   "id": "alternate-victory",
   "metadata": {
    "execution": {
     "iopub.execute_input": "2021-11-03T11:00:09.255113Z",
     "iopub.status.busy": "2021-11-03T11:00:09.253097Z",
     "iopub.status.idle": "2021-11-03T11:00:10.299556Z",
     "shell.execute_reply": "2021-11-03T11:00:10.301026Z"
    },
    "papermill": {
     "duration": 1.0793,
     "end_time": "2021-11-03T11:00:10.301530",
     "exception": false,
     "start_time": "2021-11-03T11:00:09.222230",
     "status": "completed"
    },
    "tags": []
   },
   "outputs": [],
   "source": [
    "df = pd.read_sql(\"select * from EBAY_TOP_BERLIN where record_time in (select distinct record_time from EBAY_TOP_BERLIN order by record_time desc limit 2)\", sqlite3.connect(\"UsedObjects.db\"))"
   ]
  },
  {
   "cell_type": "code",
   "execution_count": 5,
   "id": "popular-active",
   "metadata": {
    "execution": {
     "iopub.execute_input": "2021-11-03T11:00:10.379964Z",
     "iopub.status.busy": "2021-11-03T11:00:10.366228Z",
     "iopub.status.idle": "2021-11-03T11:00:10.399819Z",
     "shell.execute_reply": "2021-11-03T11:00:10.401777Z"
    },
    "papermill": {
     "duration": 0.079207,
     "end_time": "2021-11-03T11:00:10.402325",
     "exception": false,
     "start_time": "2021-11-03T11:00:10.323118",
     "status": "completed"
    },
    "tags": []
   },
   "outputs": [],
   "source": [
    "df_pivot = df.pivot_table(index=\"PRODUCT\", columns = \"RECORD_TIME\", values = \"LISTING_COUNT\")"
   ]
  },
  {
   "cell_type": "code",
   "execution_count": 6,
   "id": "union-huntington",
   "metadata": {
    "execution": {
     "iopub.execute_input": "2021-11-03T11:00:10.463557Z",
     "iopub.status.busy": "2021-11-03T11:00:10.461205Z",
     "iopub.status.idle": "2021-11-03T11:00:10.466912Z",
     "shell.execute_reply": "2021-11-03T11:00:10.468559Z"
    },
    "papermill": {
     "duration": 0.045522,
     "end_time": "2021-11-03T11:00:10.469144",
     "exception": false,
     "start_time": "2021-11-03T11:00:10.423622",
     "status": "completed"
    },
    "tags": []
   },
   "outputs": [],
   "source": [
    "df_pivot.columns = [\"stamp_1\", \"stamp_2\"]\n",
    "df_pivot_diff = df_pivot.diff(axis=1)"
   ]
  },
  {
   "cell_type": "code",
   "execution_count": 7,
   "id": "fifth-motion",
   "metadata": {
    "execution": {
     "iopub.execute_input": "2021-11-03T11:00:10.529080Z",
     "iopub.status.busy": "2021-11-03T11:00:10.526586Z",
     "iopub.status.idle": "2021-11-03T11:00:12.241592Z",
     "shell.execute_reply": "2021-11-03T11:00:12.243103Z"
    },
    "papermill": {
     "duration": 1.753454,
     "end_time": "2021-11-03T11:00:12.243645",
     "exception": false,
     "start_time": "2021-11-03T11:00:10.490191",
     "status": "completed"
    },
    "tags": []
   },
   "outputs": [
    {
     "data": {
      "text/plain": [
       "<AxesSubplot:ylabel='PRODUCT'>"
      ]
     },
     "execution_count": 7,
     "metadata": {},
     "output_type": "execute_result"
    },
    {
     "data": {
      "image/png": "[encoded data removed]",
      "text/plain": [
       "<Figure size 432x288 with 1 Axes>"
      ]
     },
     "metadata": {
      "needs_background": "light"
     },
     "output_type": "display_data"
    }
   ],
   "source": [
    "df_pivot_diff.sort_values(\"stamp_2\", ascending = False)[\"stamp_2\"].head(10).plot.barh()"
   ]
  },
  {
   "cell_type": "code",
   "execution_count": null,
   "id": "extra-executive",
   "metadata": {
    "papermill": {
     "duration": 0.036418,
     "end_time": "2021-11-03T11:00:12.311249",
     "exception": false,
     "start_time": "2021-11-03T11:00:12.274831",
     "status": "completed"
    },
    "tags": []
   },
   "outputs": [],
   "source": []
  }
 ],
 "metadata": {
  "kernelspec": {
   "display_name": "Python 3",
   "language": "python",
   "name": "python3"
  },
  "language_info": {
   "codemirror_mode": {
    "name": "ipython",
    "version": 3
   },
   "file_extension": ".py",
   "mimetype": "text/x-python",
   "name": "python",
   "nbconvert_exporter": "python",
   "pygments_lexer": "ipython3",
   "version": "3.9.5"
  },
  "papermill": {
   "default_parameters": {},
   "duration": 8.998661,
   "end_time": "2021-11-03T11:00:13.543133",
   "environment_variables": {},
   "exception": null,
   "input_path": "eBay_Overview.ipynb",
   "output_path": "eBay_Overview.ipynb",
   "parameters": {},
   "start_time": "2021-11-03T11:00:04.544472",
   "version": "2.3.3"
  }
 },
 "nbformat": 4,
 "nbformat_minor": 5
}