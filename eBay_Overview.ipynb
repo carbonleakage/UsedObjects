{
 "cells": [
  {
   "cell_type": "code",
   "execution_count": 1,
   "id": "reverse-picking",
   "metadata": {
    "execution": {
     "iopub.execute_input": "2021-09-13T04:00:06.684829Z",
     "iopub.status.busy": "2021-09-13T04:00:06.682838Z",
     "iopub.status.idle": "2021-09-13T04:00:07.487880Z",
     "shell.execute_reply": "2021-09-13T04:00:07.489151Z"
    },
    "papermill": {
     "duration": 0.857527,
     "end_time": "2021-09-13T04:00:07.489768",
     "exception": false,
     "start_time": "2021-09-13T04:00:06.632241",
     "status": "completed"
    },
    "tags": []
   },
   "outputs": [],
   "source": [
    "import pandas as pd\n",
    "import sqlite3"
   ]
  },
  {
   "cell_type": "code",
   "execution_count": 2,
   "id": "innovative-syndrome",
   "metadata": {
    "execution": {
     "iopub.execute_input": "2021-09-13T04:00:07.540855Z",
     "iopub.status.busy": "2021-09-13T04:00:07.538957Z",
     "iopub.status.idle": "2021-09-13T04:00:07.817159Z",
     "shell.execute_reply": "2021-09-13T04:00:07.818365Z"
    },
    "papermill": {
     "duration": 0.307508,
     "end_time": "2021-09-13T04:00:07.818765",
     "exception": false,
     "start_time": "2021-09-13T04:00:07.511257",
     "status": "completed"
    },
    "tags": []
   },
   "outputs": [],
   "source": [
    "timestamps = pd.read_sql(\"select distinct record_time from EBAY_TOP_BERLIN order by record_time desc limit 2\", sqlite3.connect(\"UsedObjects.db\"))"
   ]
  },
  {
   "cell_type": "code",
   "execution_count": 3,
   "id": "periodic-identification",
   "metadata": {
    "execution": {
     "iopub.execute_input": "2021-09-13T04:00:07.886550Z",
     "iopub.status.busy": "2021-09-13T04:00:07.884527Z",
     "iopub.status.idle": "2021-09-13T04:00:07.906474Z",
     "shell.execute_reply": "2021-09-13T04:00:07.908049Z"
    },
    "papermill": {
     "duration": 0.067983,
     "end_time": "2021-09-13T04:00:07.908529",
     "exception": false,
     "start_time": "2021-09-13T04:00:07.840546",
     "status": "completed"
    },
    "tags": []
   },
   "outputs": [
    {
     "data": {
      "text/html": [
       "<div>\n",
       "<style scoped>\n",
       "    .dataframe tbody tr th:only-of-type {\n",
       "        vertical-align: middle;\n",
       "    }\n",
       "\n",
       "    .dataframe tbody tr th {\n",
       "        vertical-align: top;\n",
       "    }\n",
       "\n",
       "    .dataframe thead th {\n",
       "        text-align: right;\n",
       "    }\n",
       "</style>\n",
       "<table border=\"1\" class=\"dataframe\">\n",
       "  <thead>\n",
       "    <tr style=\"text-align: right;\">\n",
       "      <th></th>\n",
       "      <th>RECORD_TIME</th>\n",
       "    </tr>\n",
       "  </thead>\n",
       "  <tbody>\n",
       "    <tr>\n",
       "      <th>0</th>\n",
       "      <td>2021-09-13 06:00</td>\n",
       "    </tr>\n",
       "    <tr>\n",
       "      <th>1</th>\n",
       "      <td>2021-09-13 05:30</td>\n",
       "    </tr>\n",
       "  </tbody>\n",
       "</table>\n",
       "</div>"
      ],
      "text/plain": [
       "        RECORD_TIME\n",
       "0  2021-09-13 06:00\n",
       "1  2021-09-13 05:30"
      ]
     },
     "execution_count": 3,
     "metadata": {},
     "output_type": "execute_result"
    }
   ],
   "source": [
    "timestamps"
   ]
  },
  {
   "cell_type": "code",
   "execution_count": 4,
   "id": "alternate-victory",
   "metadata": {
    "execution": {
     "iopub.execute_input": "2021-09-13T04:00:07.958711Z",
     "iopub.status.busy": "2021-09-13T04:00:07.956864Z",
     "iopub.status.idle": "2021-09-13T04:00:08.368620Z",
     "shell.execute_reply": "2021-09-13T04:00:08.369838Z"
    },
    "papermill": {
     "duration": 0.441464,
     "end_time": "2021-09-13T04:00:08.370241",
     "exception": false,
     "start_time": "2021-09-13T04:00:07.928777",
     "status": "completed"
    },
    "tags": []
   },
   "outputs": [],
   "source": [
    "df = pd.read_sql(\"select * from EBAY_TOP_BERLIN where record_time in (select distinct record_time from EBAY_TOP_BERLIN order by record_time desc limit 2)\", sqlite3.connect(\"UsedObjects.db\"))"
   ]
  },
  {
   "cell_type": "code",
   "execution_count": 5,
   "id": "popular-active",
   "metadata": {
    "execution": {
     "iopub.execute_input": "2021-09-13T04:00:08.442305Z",
     "iopub.status.busy": "2021-09-13T04:00:08.440084Z",
     "iopub.status.idle": "2021-09-13T04:00:08.467348Z",
     "shell.execute_reply": "2021-09-13T04:00:08.468575Z"
    },
    "papermill": {
     "duration": 0.070665,
     "end_time": "2021-09-13T04:00:08.468975",
     "exception": false,
     "start_time": "2021-09-13T04:00:08.398310",
     "status": "completed"
    },
    "tags": []
   },
   "outputs": [],
   "source": [
    "df_pivot = df.pivot_table(index=\"PRODUCT\", columns = \"RECORD_TIME\", values = \"LISTING_COUNT\")"
   ]
  },
  {
   "cell_type": "code",
   "execution_count": 6,
   "id": "union-huntington",
   "metadata": {
    "execution": {
     "iopub.execute_input": "2021-09-13T04:00:08.524741Z",
     "iopub.status.busy": "2021-09-13T04:00:08.522635Z",
     "iopub.status.idle": "2021-09-13T04:00:08.527984Z",
     "shell.execute_reply": "2021-09-13T04:00:08.529171Z"
    },
    "papermill": {
     "duration": 0.040042,
     "end_time": "2021-09-13T04:00:08.529598",
     "exception": false,
     "start_time": "2021-09-13T04:00:08.489556",
     "status": "completed"
    },
    "tags": []
   },
   "outputs": [],
   "source": [
    "df_pivot.columns = [\"stamp_1\", \"stamp_2\"]\n",
    "df_pivot_diff = df_pivot.diff(axis=1)"
   ]
  },
  {
   "cell_type": "code",
   "execution_count": 7,
   "id": "fifth-motion",
   "metadata": {
    "execution": {
     "iopub.execute_input": "2021-09-13T04:00:08.583105Z",
     "iopub.status.busy": "2021-09-13T04:00:08.580695Z",
     "iopub.status.idle": "2021-09-13T04:00:10.054942Z",
     "shell.execute_reply": "2021-09-13T04:00:10.056134Z"
    },
    "papermill": {
     "duration": 1.506755,
     "end_time": "2021-09-13T04:00:10.056566",
     "exception": false,
     "start_time": "2021-09-13T04:00:08.549811",
     "status": "completed"
    },
    "tags": []
   },
   "outputs": [
    {
     "data": {
      "text/plain": [
       "<AxesSubplot:ylabel='PRODUCT'>"
      ]
     },
     "execution_count": 7,
     "metadata": {},
     "output_type": "execute_result"
    },
    {
     "data": {
      "image/png": "[encoded data removed]",
      "text/plain": [
       "<Figure size 432x288 with 1 Axes>"
      ]
     },
     "metadata": {
      "needs_background": "light"
     },
     "output_type": "display_data"
    }
   ],
   "source": [
    "df_pivot_diff.sort_values(\"stamp_2\", ascending = False)[\"stamp_2\"].head(10).plot.barh()"
   ]
  },
  {
   "cell_type": "code",
   "execution_count": null,
   "id": "extra-executive",
   "metadata": {
    "papermill": {
     "duration": 0.02185,
     "end_time": "2021-09-13T04:00:10.103047",
     "exception": false,
     "start_time": "2021-09-13T04:00:10.081197",
     "status": "completed"
    },
    "tags": []
   },
   "outputs": [],
   "source": []
  }
 ],
 "metadata": {
  "kernelspec": {
   "display_name": "Python 3",
   "language": "python",
   "name": "python3"
  },
  "language_info": {
   "codemirror_mode": {
    "name": "ipython",
    "version": 3
   },
   "file_extension": ".py",
   "mimetype": "text/x-python",
   "name": "python",
   "nbconvert_exporter": "python",
   "pygments_lexer": "ipython3",
   "version": "3.9.5"
  },
  "papermill": {
   "default_parameters": {},
   "duration": 6.522327,
   "end_time": "2021-09-13T04:00:10.745147",
   "environment_variables": {},
   "exception": null,
   "input_path": "eBay_Overview.ipynb",
   "output_path": "eBay_Overview.ipynb",
   "parameters": {},
   "start_time": "2021-09-13T04:00:04.222820",
   "version": "2.3.3"
  }
 },
 "nbformat": 4,
 "nbformat_minor": 5
}