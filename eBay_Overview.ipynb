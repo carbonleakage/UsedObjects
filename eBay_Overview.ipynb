{
 "cells": [
  {
   "cell_type": "code",
   "execution_count": 1,
   "id": "reverse-picking",
   "metadata": {
    "execution": {
     "iopub.execute_input": "2021-11-02T11:30:07.576318Z",
     "iopub.status.busy": "2021-11-02T11:30:07.573958Z",
     "iopub.status.idle": "2021-11-02T11:30:08.526986Z",
     "shell.execute_reply": "2021-11-02T11:30:08.528609Z"
    },
    "papermill": {
     "duration": 1.000988,
     "end_time": "2021-11-02T11:30:08.529408",
     "exception": false,
     "start_time": "2021-11-02T11:30:07.528420",
     "status": "completed"
    },
    "tags": []
   },
   "outputs": [],
   "source": [
    "import pandas as pd\n",
    "import sqlite3"
   ]
  },
  {
   "cell_type": "code",
   "execution_count": 2,
   "id": "innovative-syndrome",
   "metadata": {
    "execution": {
     "iopub.execute_input": "2021-11-02T11:30:08.590882Z",
     "iopub.status.busy": "2021-11-02T11:30:08.588653Z",
     "iopub.status.idle": "2021-11-02T11:30:09.288203Z",
     "shell.execute_reply": "2021-11-02T11:30:09.289656Z"
    },
    "papermill": {
     "duration": 0.733039,
     "end_time": "2021-11-02T11:30:09.290102",
     "exception": false,
     "start_time": "2021-11-02T11:30:08.557063",
     "status": "completed"
    },
    "tags": []
   },
   "outputs": [],
   "source": [
    "timestamps = pd.read_sql(\"select distinct record_time from EBAY_TOP_BERLIN order by record_time desc limit 2\", sqlite3.connect(\"UsedObjects.db\"))"
   ]
  },
  {
   "cell_type": "code",
   "execution_count": 3,
   "id": "periodic-identification",
   "metadata": {
    "execution": {
     "iopub.execute_input": "2021-11-02T11:30:09.358393Z",
     "iopub.status.busy": "2021-11-02T11:30:09.356062Z",
     "iopub.status.idle": "2021-11-02T11:30:09.377244Z",
     "shell.execute_reply": "2021-11-02T11:30:09.378455Z"
    },
    "papermill": {
     "duration": 0.069131,
     "end_time": "2021-11-02T11:30:09.378895",
     "exception": false,
     "start_time": "2021-11-02T11:30:09.309764",
     "status": "completed"
    },
    "tags": []
   },
   "outputs": [
    {
     "data": {
      "text/html": [
       "<div>\n",
       "<style scoped>\n",
       "    .dataframe tbody tr th:only-of-type {\n",
       "        vertical-align: middle;\n",
       "    }\n",
       "\n",
       "    .dataframe tbody tr th {\n",
       "        vertical-align: top;\n",
       "    }\n",
       "\n",
       "    .dataframe thead th {\n",
       "        text-align: right;\n",
       "    }\n",
       "</style>\n",
       "<table border=\"1\" class=\"dataframe\">\n",
       "  <thead>\n",
       "    <tr style=\"text-align: right;\">\n",
       "      <th></th>\n",
       "      <th>RECORD_TIME</th>\n",
       "    </tr>\n",
       "  </thead>\n",
       "  <tbody>\n",
       "    <tr>\n",
       "      <th>0</th>\n",
       "      <td>2021-11-02 12:30</td>\n",
       "    </tr>\n",
       "    <tr>\n",
       "      <th>1</th>\n",
       "      <td>2021-11-02 12:00</td>\n",
       "    </tr>\n",
       "  </tbody>\n",
       "</table>\n",
       "</div>"
      ],
      "text/plain": [
       "        RECORD_TIME\n",
       "0  2021-11-02 12:30\n",
       "1  2021-11-02 12:00"
      ]
     },
     "execution_count": 3,
     "metadata": {},
     "output_type": "execute_result"
    }
   ],
   "source": [
    "timestamps"
   ]
  },
  {
   "cell_type": "code",
   "execution_count": 4,
   "id": "alternate-victory",
   "metadata": {
    "execution": {
     "iopub.execute_input": "2021-11-02T11:30:09.433859Z",
     "iopub.status.busy": "2021-11-02T11:30:09.431518Z",
     "iopub.status.idle": "2021-11-02T11:30:10.469737Z",
     "shell.execute_reply": "2021-11-02T11:30:10.471228Z"
    },
    "papermill": {
     "duration": 1.071206,
     "end_time": "2021-11-02T11:30:10.471695",
     "exception": false,
     "start_time": "2021-11-02T11:30:09.400489",
     "status": "completed"
    },
    "tags": []
   },
   "outputs": [],
   "source": [
    "df = pd.read_sql(\"select * from EBAY_TOP_BERLIN where record_time in (select distinct record_time from EBAY_TOP_BERLIN order by record_time desc limit 2)\", sqlite3.connect(\"UsedObjects.db\"))"
   ]
  },
  {
   "cell_type": "code",
   "execution_count": 5,
   "id": "popular-active",
   "metadata": {
    "execution": {
     "iopub.execute_input": "2021-11-02T11:30:10.539241Z",
     "iopub.status.busy": "2021-11-02T11:30:10.536833Z",
     "iopub.status.idle": "2021-11-02T11:30:10.572601Z",
     "shell.execute_reply": "2021-11-02T11:30:10.570732Z"
    },
    "papermill": {
     "duration": 0.07931,
     "end_time": "2021-11-02T11:30:10.573092",
     "exception": false,
     "start_time": "2021-11-02T11:30:10.493782",
     "status": "completed"
    },
    "tags": []
   },
   "outputs": [],
   "source": [
    "df_pivot = df.pivot_table(index=\"PRODUCT\", columns = \"RECORD_TIME\", values = \"LISTING_COUNT\")"
   ]
  },
  {
   "cell_type": "code",
   "execution_count": 6,
   "id": "union-huntington",
   "metadata": {
    "execution": {
     "iopub.execute_input": "2021-11-02T11:30:10.636202Z",
     "iopub.status.busy": "2021-11-02T11:30:10.633814Z",
     "iopub.status.idle": "2021-11-02T11:30:10.639722Z",
     "shell.execute_reply": "2021-11-02T11:30:10.641155Z"
    },
    "papermill": {
     "duration": 0.046825,
     "end_time": "2021-11-02T11:30:10.641657",
     "exception": false,
     "start_time": "2021-11-02T11:30:10.594832",
     "status": "completed"
    },
    "tags": []
   },
   "outputs": [],
   "source": [
    "df_pivot.columns = [\"stamp_1\", \"stamp_2\"]\n",
    "df_pivot_diff = df_pivot.diff(axis=1)"
   ]
  },
  {
   "cell_type": "code",
   "execution_count": 7,
   "id": "fifth-motion",
   "metadata": {
    "execution": {
     "iopub.execute_input": "2021-11-02T11:30:10.702634Z",
     "iopub.status.busy": "2021-11-02T11:30:10.700127Z",
     "iopub.status.idle": "2021-11-02T11:30:12.573407Z",
     "shell.execute_reply": "2021-11-02T11:30:12.576026Z"
    },
    "papermill": {
     "duration": 1.914009,
     "end_time": "2021-11-02T11:30:12.576917",
     "exception": false,
     "start_time": "2021-11-02T11:30:10.662908",
     "status": "completed"
    },
    "tags": []
   },
   "outputs": [
    {
     "data": {
      "text/plain": [
       "<AxesSubplot:ylabel='PRODUCT'>"
      ]
     },
     "execution_count": 7,
     "metadata": {},
     "output_type": "execute_result"
    },
    {
     "data": {
      "image/png": "[encoded data removed]",
      "text/plain": [
       "<Figure size 432x288 with 1 Axes>"
      ]
     },
     "metadata": {
      "needs_background": "light"
     },
     "output_type": "display_data"
    }
   ],
   "source": [
    "df_pivot_diff.sort_values(\"stamp_2\", ascending = False)[\"stamp_2\"].head(10).plot.barh()"
   ]
  },
  {
   "cell_type": "code",
   "execution_count": null,
   "id": "extra-executive",
   "metadata": {
    "papermill": {
     "duration": 0.03431,
     "end_time": "2021-11-02T11:30:12.646372",
     "exception": false,
     "start_time": "2021-11-02T11:30:12.612062",
     "status": "completed"
    },
    "tags": []
   },
   "outputs": [],
   "source": []
  }
 ],
 "metadata": {
  "kernelspec": {
   "display_name": "Python 3",
   "language": "python",
   "name": "python3"
  },
  "language_info": {
   "codemirror_mode": {
    "name": "ipython",
    "version": 3
   },
   "file_extension": ".py",
   "mimetype": "text/x-python",
   "name": "python",
   "nbconvert_exporter": "python",
   "pygments_lexer": "ipython3",
   "version": "3.9.5"
  },
  "papermill": {
   "default_parameters": {},
   "duration": 8.699186,
   "end_time": "2021-11-02T11:30:13.503260",
   "environment_variables": {},
   "exception": null,
   "input_path": "eBay_Overview.ipynb",
   "output_path": "eBay_Overview.ipynb",
   "parameters": {},
   "start_time": "2021-11-02T11:30:04.804074",
   "version": "2.3.3"
  }
 },
 "nbformat": 4,
 "nbformat_minor": 5
}