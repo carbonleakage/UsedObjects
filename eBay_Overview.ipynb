{
 "cells": [
  {
   "cell_type": "code",
   "execution_count": 1,
   "id": "reverse-picking",
   "metadata": {
    "execution": {
     "iopub.execute_input": "2021-12-17T05:30:08.137954Z",
     "iopub.status.busy": "2021-12-17T05:30:08.135548Z",
     "iopub.status.idle": "2021-12-17T05:30:09.103128Z",
     "shell.execute_reply": "2021-12-17T05:30:09.104828Z"
    },
    "papermill": {
     "duration": 1.017913,
     "end_time": "2021-12-17T05:30:09.105558",
     "exception": false,
     "start_time": "2021-12-17T05:30:08.087645",
     "status": "completed"
    },
    "tags": []
   },
   "outputs": [],
   "source": [
    "import pandas as pd\n",
    "import sqlite3"
   ]
  },
  {
   "cell_type": "code",
   "execution_count": 2,
   "id": "innovative-syndrome",
   "metadata": {
    "execution": {
     "iopub.execute_input": "2021-12-17T05:30:09.172107Z",
     "iopub.status.busy": "2021-12-17T05:30:09.169884Z",
     "iopub.status.idle": "2021-12-17T05:30:10.296898Z",
     "shell.execute_reply": "2021-12-17T05:30:10.299417Z"
    },
    "papermill": {
     "duration": 1.161716,
     "end_time": "2021-12-17T05:30:10.299915",
     "exception": false,
     "start_time": "2021-12-17T05:30:09.138199",
     "status": "completed"
    },
    "tags": []
   },
   "outputs": [],
   "source": [
    "timestamps = pd.read_sql(\"select distinct record_time from EBAY_TOP_BERLIN order by record_time desc limit 2\", sqlite3.connect(\"UsedObjects.db\"))"
   ]
  },
  {
   "cell_type": "code",
   "execution_count": 3,
   "id": "periodic-identification",
   "metadata": {
    "execution": {
     "iopub.execute_input": "2021-12-17T05:30:10.399599Z",
     "iopub.status.busy": "2021-12-17T05:30:10.393458Z",
     "iopub.status.idle": "2021-12-17T05:30:10.416465Z",
     "shell.execute_reply": "2021-12-17T05:30:10.418034Z"
    },
    "papermill": {
     "duration": 0.073196,
     "end_time": "2021-12-17T05:30:10.418524",
     "exception": false,
     "start_time": "2021-12-17T05:30:10.345328",
     "status": "completed"
    },
    "tags": []
   },
   "outputs": [
    {
     "data": {
      "text/html": [
       "<div>\n",
       "<style scoped>\n",
       "    .dataframe tbody tr th:only-of-type {\n",
       "        vertical-align: middle;\n",
       "    }\n",
       "\n",
       "    .dataframe tbody tr th {\n",
       "        vertical-align: top;\n",
       "    }\n",
       "\n",
       "    .dataframe thead th {\n",
       "        text-align: right;\n",
       "    }\n",
       "</style>\n",
       "<table border=\"1\" class=\"dataframe\">\n",
       "  <thead>\n",
       "    <tr style=\"text-align: right;\">\n",
       "      <th></th>\n",
       "      <th>RECORD_TIME</th>\n",
       "    </tr>\n",
       "  </thead>\n",
       "  <tbody>\n",
       "    <tr>\n",
       "      <th>0</th>\n",
       "      <td>2021-12-17 06:30</td>\n",
       "    </tr>\n",
       "    <tr>\n",
       "      <th>1</th>\n",
       "      <td>2021-12-17 06:00</td>\n",
       "    </tr>\n",
       "  </tbody>\n",
       "</table>\n",
       "</div>"
      ],
      "text/plain": [
       "        RECORD_TIME\n",
       "0  2021-12-17 06:30\n",
       "1  2021-12-17 06:00"
      ]
     },
     "execution_count": 3,
     "metadata": {},
     "output_type": "execute_result"
    }
   ],
   "source": [
    "timestamps"
   ]
  },
  {
   "cell_type": "code",
   "execution_count": 4,
   "id": "alternate-victory",
   "metadata": {
    "execution": {
     "iopub.execute_input": "2021-12-17T05:30:10.474633Z",
     "iopub.status.busy": "2021-12-17T05:30:10.472377Z",
     "iopub.status.idle": "2021-12-17T05:30:12.070312Z",
     "shell.execute_reply": "2021-12-17T05:30:12.071554Z"
    },
    "papermill": {
     "duration": 1.632056,
     "end_time": "2021-12-17T05:30:12.071959",
     "exception": false,
     "start_time": "2021-12-17T05:30:10.439903",
     "status": "completed"
    },
    "tags": []
   },
   "outputs": [],
   "source": [
    "df = pd.read_sql(\"select * from EBAY_TOP_BERLIN where record_time in (select distinct record_time from EBAY_TOP_BERLIN order by record_time desc limit 2)\", sqlite3.connect(\"UsedObjects.db\"))"
   ]
  },
  {
   "cell_type": "code",
   "execution_count": 5,
   "id": "popular-active",
   "metadata": {
    "execution": {
     "iopub.execute_input": "2021-12-17T05:30:12.143056Z",
     "iopub.status.busy": "2021-12-17T05:30:12.136127Z",
     "iopub.status.idle": "2021-12-17T05:30:12.167251Z",
     "shell.execute_reply": "2021-12-17T05:30:12.168763Z"
    },
    "papermill": {
     "duration": 0.073792,
     "end_time": "2021-12-17T05:30:12.169239",
     "exception": false,
     "start_time": "2021-12-17T05:30:12.095447",
     "status": "completed"
    },
    "tags": []
   },
   "outputs": [],
   "source": [
    "df_pivot = df.pivot_table(index=\"PRODUCT\", columns = \"RECORD_TIME\", values = \"LISTING_COUNT\")"
   ]
  },
  {
   "cell_type": "code",
   "execution_count": 6,
   "id": "union-huntington",
   "metadata": {
    "execution": {
     "iopub.execute_input": "2021-12-17T05:30:12.227777Z",
     "iopub.status.busy": "2021-12-17T05:30:12.225517Z",
     "iopub.status.idle": "2021-12-17T05:30:12.231448Z",
     "shell.execute_reply": "2021-12-17T05:30:12.233450Z"
    },
    "papermill": {
     "duration": 0.044871,
     "end_time": "2021-12-17T05:30:12.234028",
     "exception": false,
     "start_time": "2021-12-17T05:30:12.189157",
     "status": "completed"
    },
    "tags": []
   },
   "outputs": [],
   "source": [
    "df_pivot.columns = [\"stamp_1\", \"stamp_2\"]\n",
    "df_pivot_diff = df_pivot.diff(axis=1)"
   ]
  },
  {
   "cell_type": "code",
   "execution_count": 7,
   "id": "fifth-motion",
   "metadata": {
    "execution": {
     "iopub.execute_input": "2021-12-17T05:30:12.294904Z",
     "iopub.status.busy": "2021-12-17T05:30:12.292047Z",
     "iopub.status.idle": "2021-12-17T05:30:14.225363Z",
     "shell.execute_reply": "2021-12-17T05:30:14.226741Z"
    },
    "papermill": {
     "duration": 1.970614,
     "end_time": "2021-12-17T05:30:14.227227",
     "exception": false,
     "start_time": "2021-12-17T05:30:12.256613",
     "status": "completed"
    },
    "tags": []
   },
   "outputs": [
    {
     "data": {
      "text/plain": [
       "<AxesSubplot:ylabel='PRODUCT'>"
      ]
     },
     "execution_count": 7,
     "metadata": {},
     "output_type": "execute_result"
    },
    {
     "data": {
      "image/png": "[encoded data removed]",
      "text/plain": [
       "<Figure size 432x288 with 1 Axes>"
      ]
     },
     "metadata": {
      "needs_background": "light"
     },
     "output_type": "display_data"
    }
   ],
   "source": [
    "df_pivot_diff.sort_values(\"stamp_2\", ascending = False)[\"stamp_2\"].head(10).plot.barh()"
   ]
  },
  {
   "cell_type": "code",
   "execution_count": null,
   "id": "extra-executive",
   "metadata": {
    "papermill": {
     "duration": 0.022279,
     "end_time": "2021-12-17T05:30:14.274556",
     "exception": false,
     "start_time": "2021-12-17T05:30:14.252277",
     "status": "completed"
    },
    "tags": []
   },
   "outputs": [],
   "source": []
  }
 ],
 "metadata": {
  "kernelspec": {
   "display_name": "Python 3",
   "language": "python",
   "name": "python3"
  },
  "language_info": {
   "codemirror_mode": {
    "name": "ipython",
    "version": 3
   },
   "file_extension": ".py",
   "mimetype": "text/x-python",
   "name": "python",
   "nbconvert_exporter": "python",
   "pygments_lexer": "ipython3",
   "version": "3.9.5"
  },
  "papermill": {
   "default_parameters": {},
   "duration": 9.553606,
   "end_time": "2021-12-17T05:30:14.918853",
   "environment_variables": {},
   "exception": null,
   "input_path": "eBay_Overview.ipynb",
   "output_path": "eBay_Overview.ipynb",
   "parameters": {},
   "start_time": "2021-12-17T05:30:05.365247",
   "version": "2.3.3"
  }
 },
 "nbformat": 4,
 "nbformat_minor": 5
}