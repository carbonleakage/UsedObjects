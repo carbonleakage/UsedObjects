{
 "cells": [
  {
   "cell_type": "code",
   "execution_count": 1,
   "id": "reverse-picking",
   "metadata": {
    "execution": {
     "iopub.execute_input": "2021-12-18T02:00:08.261818Z",
     "iopub.status.busy": "2021-12-18T02:00:08.259441Z",
     "iopub.status.idle": "2021-12-18T02:00:09.217816Z",
     "shell.execute_reply": "2021-12-18T02:00:09.215860Z"
    },
    "papermill": {
     "duration": 1.005462,
     "end_time": "2021-12-18T02:00:09.218326",
     "exception": false,
     "start_time": "2021-12-18T02:00:08.212864",
     "status": "completed"
    },
    "tags": []
   },
   "outputs": [],
   "source": [
    "import pandas as pd\n",
    "import sqlite3"
   ]
  },
  {
   "cell_type": "code",
   "execution_count": 2,
   "id": "innovative-syndrome",
   "metadata": {
    "execution": {
     "iopub.execute_input": "2021-12-18T02:00:09.355577Z",
     "iopub.status.busy": "2021-12-18T02:00:09.353218Z",
     "iopub.status.idle": "2021-12-18T02:00:10.466016Z",
     "shell.execute_reply": "2021-12-18T02:00:10.467487Z"
    },
    "papermill": {
     "duration": 1.157849,
     "end_time": "2021-12-18T02:00:10.467954",
     "exception": false,
     "start_time": "2021-12-18T02:00:09.310105",
     "status": "completed"
    },
    "tags": []
   },
   "outputs": [],
   "source": [
    "timestamps = pd.read_sql(\"select distinct record_time from EBAY_TOP_BERLIN order by record_time desc limit 2\", sqlite3.connect(\"UsedObjects.db\"))"
   ]
  },
  {
   "cell_type": "code",
   "execution_count": 3,
   "id": "periodic-identification",
   "metadata": {
    "execution": {
     "iopub.execute_input": "2021-12-18T02:00:10.537798Z",
     "iopub.status.busy": "2021-12-18T02:00:10.535444Z",
     "iopub.status.idle": "2021-12-18T02:00:10.556420Z",
     "shell.execute_reply": "2021-12-18T02:00:10.558399Z"
    },
    "papermill": {
     "duration": 0.071072,
     "end_time": "2021-12-18T02:00:10.558895",
     "exception": false,
     "start_time": "2021-12-18T02:00:10.487823",
     "status": "completed"
    },
    "tags": []
   },
   "outputs": [
    {
     "data": {
      "text/html": [
       "<div>\n",
       "<style scoped>\n",
       "    .dataframe tbody tr th:only-of-type {\n",
       "        vertical-align: middle;\n",
       "    }\n",
       "\n",
       "    .dataframe tbody tr th {\n",
       "        vertical-align: top;\n",
       "    }\n",
       "\n",
       "    .dataframe thead th {\n",
       "        text-align: right;\n",
       "    }\n",
       "</style>\n",
       "<table border=\"1\" class=\"dataframe\">\n",
       "  <thead>\n",
       "    <tr style=\"text-align: right;\">\n",
       "      <th></th>\n",
       "      <th>RECORD_TIME</th>\n",
       "    </tr>\n",
       "  </thead>\n",
       "  <tbody>\n",
       "    <tr>\n",
       "      <th>0</th>\n",
       "      <td>2021-12-18 03:00</td>\n",
       "    </tr>\n",
       "    <tr>\n",
       "      <th>1</th>\n",
       "      <td>2021-12-18 02:30</td>\n",
       "    </tr>\n",
       "  </tbody>\n",
       "</table>\n",
       "</div>"
      ],
      "text/plain": [
       "        RECORD_TIME\n",
       "0  2021-12-18 03:00\n",
       "1  2021-12-18 02:30"
      ]
     },
     "execution_count": 3,
     "metadata": {},
     "output_type": "execute_result"
    }
   ],
   "source": [
    "timestamps"
   ]
  },
  {
   "cell_type": "code",
   "execution_count": 4,
   "id": "alternate-victory",
   "metadata": {
    "execution": {
     "iopub.execute_input": "2021-12-18T02:00:10.643321Z",
     "iopub.status.busy": "2021-12-18T02:00:10.641098Z",
     "iopub.status.idle": "2021-12-18T02:00:12.250508Z",
     "shell.execute_reply": "2021-12-18T02:00:12.252003Z"
    },
    "papermill": {
     "duration": 1.645467,
     "end_time": "2021-12-18T02:00:12.252472",
     "exception": false,
     "start_time": "2021-12-18T02:00:10.607005",
     "status": "completed"
    },
    "tags": []
   },
   "outputs": [],
   "source": [
    "df = pd.read_sql(\"select * from EBAY_TOP_BERLIN where record_time in (select distinct record_time from EBAY_TOP_BERLIN order by record_time desc limit 2)\", sqlite3.connect(\"UsedObjects.db\"))"
   ]
  },
  {
   "cell_type": "code",
   "execution_count": 5,
   "id": "popular-active",
   "metadata": {
    "execution": {
     "iopub.execute_input": "2021-12-18T02:00:12.330847Z",
     "iopub.status.busy": "2021-12-18T02:00:12.315300Z",
     "iopub.status.idle": "2021-12-18T02:00:12.349495Z",
     "shell.execute_reply": "2021-12-18T02:00:12.351035Z"
    },
    "papermill": {
     "duration": 0.078281,
     "end_time": "2021-12-18T02:00:12.351527",
     "exception": false,
     "start_time": "2021-12-18T02:00:12.273246",
     "status": "completed"
    },
    "tags": []
   },
   "outputs": [],
   "source": [
    "df_pivot = df.pivot_table(index=\"PRODUCT\", columns = \"RECORD_TIME\", values = \"LISTING_COUNT\")"
   ]
  },
  {
   "cell_type": "code",
   "execution_count": 6,
   "id": "union-huntington",
   "metadata": {
    "execution": {
     "iopub.execute_input": "2021-12-18T02:00:12.412172Z",
     "iopub.status.busy": "2021-12-18T02:00:12.409627Z",
     "iopub.status.idle": "2021-12-18T02:00:12.417126Z",
     "shell.execute_reply": "2021-12-18T02:00:12.415436Z"
    },
    "papermill": {
     "duration": 0.043653,
     "end_time": "2021-12-18T02:00:12.417530",
     "exception": false,
     "start_time": "2021-12-18T02:00:12.373877",
     "status": "completed"
    },
    "tags": []
   },
   "outputs": [],
   "source": [
    "df_pivot.columns = [\"stamp_1\", \"stamp_2\"]\n",
    "df_pivot_diff = df_pivot.diff(axis=1)"
   ]
  },
  {
   "cell_type": "code",
   "execution_count": 7,
   "id": "fifth-motion",
   "metadata": {
    "execution": {
     "iopub.execute_input": "2021-12-18T02:00:12.473920Z",
     "iopub.status.busy": "2021-12-18T02:00:12.471327Z",
     "iopub.status.idle": "2021-12-18T02:00:14.432425Z",
     "shell.execute_reply": "2021-12-18T02:00:14.433694Z"
    },
    "papermill": {
     "duration": 1.996534,
     "end_time": "2021-12-18T02:00:14.434130",
     "exception": false,
     "start_time": "2021-12-18T02:00:12.437596",
     "status": "completed"
    },
    "tags": []
   },
   "outputs": [
    {
     "data": {
      "text/plain": [
       "<AxesSubplot:ylabel='PRODUCT'>"
      ]
     },
     "execution_count": 7,
     "metadata": {},
     "output_type": "execute_result"
    },
    {
     "data": {
      "image/png": "[encoded data removed]",
      "text/plain": [
       "<Figure size 432x288 with 1 Axes>"
      ]
     },
     "metadata": {
      "needs_background": "light"
     },
     "output_type": "display_data"
    }
   ],
   "source": [
    "df_pivot_diff.sort_values(\"stamp_2\", ascending = False)[\"stamp_2\"].head(10).plot.barh()"
   ]
  },
  {
   "cell_type": "code",
   "execution_count": null,
   "id": "extra-executive",
   "metadata": {
    "papermill": {
     "duration": 0.022104,
     "end_time": "2021-12-18T02:00:14.479729",
     "exception": false,
     "start_time": "2021-12-18T02:00:14.457625",
     "status": "completed"
    },
    "tags": []
   },
   "outputs": [],
   "source": []
  }
 ],
 "metadata": {
  "kernelspec": {
   "display_name": "Python 3",
   "language": "python",
   "name": "python3"
  },
  "language_info": {
   "codemirror_mode": {
    "name": "ipython",
    "version": 3
   },
   "file_extension": ".py",
   "mimetype": "text/x-python",
   "name": "python",
   "nbconvert_exporter": "python",
   "pygments_lexer": "ipython3",
   "version": "3.9.5"
  },
  "papermill": {
   "default_parameters": {},
   "duration": 9.651104,
   "end_time": "2021-12-18T02:00:15.121057",
   "environment_variables": {},
   "exception": null,
   "input_path": "eBay_Overview.ipynb",
   "output_path": "eBay_Overview.ipynb",
   "parameters": {},
   "start_time": "2021-12-18T02:00:05.469953",
   "version": "2.3.3"
  }
 },
 "nbformat": 4,
 "nbformat_minor": 5
}