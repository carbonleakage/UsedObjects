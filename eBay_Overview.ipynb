{
 "cells": [
  {
   "cell_type": "code",
   "execution_count": 1,
   "id": "reverse-picking",
   "metadata": {
    "execution": {
     "iopub.execute_input": "2021-08-21T23:30:07.367869Z",
     "iopub.status.busy": "2021-08-21T23:30:07.365854Z",
     "iopub.status.idle": "2021-08-21T23:30:08.171945Z",
     "shell.execute_reply": "2021-08-21T23:30:08.173091Z"
    },
    "papermill": {
     "duration": 0.858132,
     "end_time": "2021-08-21T23:30:08.173712",
     "exception": false,
     "start_time": "2021-08-21T23:30:07.315580",
     "status": "completed"
    },
    "tags": []
   },
   "outputs": [],
   "source": [
    "import pandas as pd\n",
    "import sqlite3"
   ]
  },
  {
   "cell_type": "code",
   "execution_count": 2,
   "id": "innovative-syndrome",
   "metadata": {
    "execution": {
     "iopub.execute_input": "2021-08-21T23:30:08.224928Z",
     "iopub.status.busy": "2021-08-21T23:30:08.223095Z",
     "iopub.status.idle": "2021-08-21T23:30:08.324007Z",
     "shell.execute_reply": "2021-08-21T23:30:08.325282Z"
    },
    "papermill": {
     "duration": 0.130571,
     "end_time": "2021-08-21T23:30:08.325694",
     "exception": false,
     "start_time": "2021-08-21T23:30:08.195123",
     "status": "completed"
    },
    "tags": []
   },
   "outputs": [],
   "source": [
    "timestamps = pd.read_sql(\"select distinct record_time from EBAY_TOP_BERLIN order by record_time desc limit 2\", sqlite3.connect(\"UsedObjects.db\"))"
   ]
  },
  {
   "cell_type": "code",
   "execution_count": 3,
   "id": "periodic-identification",
   "metadata": {
    "execution": {
     "iopub.execute_input": "2021-08-21T23:30:08.393434Z",
     "iopub.status.busy": "2021-08-21T23:30:08.388338Z",
     "iopub.status.idle": "2021-08-21T23:30:08.409119Z",
     "shell.execute_reply": "2021-08-21T23:30:08.410681Z"
    },
    "papermill": {
     "duration": 0.066084,
     "end_time": "2021-08-21T23:30:08.411158",
     "exception": false,
     "start_time": "2021-08-21T23:30:08.345074",
     "status": "completed"
    },
    "tags": []
   },
   "outputs": [
    {
     "data": {
      "text/html": [
       "<div>\n",
       "<style scoped>\n",
       "    .dataframe tbody tr th:only-of-type {\n",
       "        vertical-align: middle;\n",
       "    }\n",
       "\n",
       "    .dataframe tbody tr th {\n",
       "        vertical-align: top;\n",
       "    }\n",
       "\n",
       "    .dataframe thead th {\n",
       "        text-align: right;\n",
       "    }\n",
       "</style>\n",
       "<table border=\"1\" class=\"dataframe\">\n",
       "  <thead>\n",
       "    <tr style=\"text-align: right;\">\n",
       "      <th></th>\n",
       "      <th>RECORD_TIME</th>\n",
       "    </tr>\n",
       "  </thead>\n",
       "  <tbody>\n",
       "    <tr>\n",
       "      <th>0</th>\n",
       "      <td>2021-08-22 01:30</td>\n",
       "    </tr>\n",
       "    <tr>\n",
       "      <th>1</th>\n",
       "      <td>2021-08-22 01:00</td>\n",
       "    </tr>\n",
       "  </tbody>\n",
       "</table>\n",
       "</div>"
      ],
      "text/plain": [
       "        RECORD_TIME\n",
       "0  2021-08-22 01:30\n",
       "1  2021-08-22 01:00"
      ]
     },
     "execution_count": 3,
     "metadata": {},
     "output_type": "execute_result"
    }
   ],
   "source": [
    "timestamps"
   ]
  },
  {
   "cell_type": "code",
   "execution_count": 4,
   "id": "alternate-victory",
   "metadata": {
    "execution": {
     "iopub.execute_input": "2021-08-21T23:30:08.462320Z",
     "iopub.status.busy": "2021-08-21T23:30:08.460411Z",
     "iopub.status.idle": "2021-08-21T23:30:08.609062Z",
     "shell.execute_reply": "2021-08-21T23:30:08.607767Z"
    },
    "papermill": {
     "duration": 0.177232,
     "end_time": "2021-08-21T23:30:08.609397",
     "exception": false,
     "start_time": "2021-08-21T23:30:08.432165",
     "status": "completed"
    },
    "tags": []
   },
   "outputs": [],
   "source": [
    "df = pd.read_sql(\"select * from EBAY_TOP_BERLIN where record_time in (select distinct record_time from EBAY_TOP_BERLIN order by record_time desc limit 2)\", sqlite3.connect(\"UsedObjects.db\"))"
   ]
  },
  {
   "cell_type": "code",
   "execution_count": 5,
   "id": "popular-active",
   "metadata": {
    "execution": {
     "iopub.execute_input": "2021-08-21T23:30:08.683286Z",
     "iopub.status.busy": "2021-08-21T23:30:08.671095Z",
     "iopub.status.idle": "2021-08-21T23:30:08.698964Z",
     "shell.execute_reply": "2021-08-21T23:30:08.700184Z"
    },
    "papermill": {
     "duration": 0.068563,
     "end_time": "2021-08-21T23:30:08.700573",
     "exception": false,
     "start_time": "2021-08-21T23:30:08.632010",
     "status": "completed"
    },
    "tags": []
   },
   "outputs": [],
   "source": [
    "df_pivot = df.pivot_table(index=\"PRODUCT\", columns = \"RECORD_TIME\", values = \"LISTING_COUNT\")"
   ]
  },
  {
   "cell_type": "code",
   "execution_count": 6,
   "id": "union-huntington",
   "metadata": {
    "execution": {
     "iopub.execute_input": "2021-08-21T23:30:08.760814Z",
     "iopub.status.busy": "2021-08-21T23:30:08.758393Z",
     "iopub.status.idle": "2021-08-21T23:30:08.765619Z",
     "shell.execute_reply": "2021-08-21T23:30:08.764250Z"
    },
    "papermill": {
     "duration": 0.042994,
     "end_time": "2021-08-21T23:30:08.766023",
     "exception": false,
     "start_time": "2021-08-21T23:30:08.723029",
     "status": "completed"
    },
    "tags": []
   },
   "outputs": [],
   "source": [
    "df_pivot.columns = [\"stamp_1\", \"stamp_2\"]\n",
    "df_pivot_diff = df_pivot.diff(axis=1)"
   ]
  },
  {
   "cell_type": "code",
   "execution_count": 7,
   "id": "fifth-motion",
   "metadata": {
    "execution": {
     "iopub.execute_input": "2021-08-21T23:30:08.828900Z",
     "iopub.status.busy": "2021-08-21T23:30:08.826558Z",
     "iopub.status.idle": "2021-08-21T23:30:10.315511Z",
     "shell.execute_reply": "2021-08-21T23:30:10.316699Z"
    },
    "papermill": {
     "duration": 1.530323,
     "end_time": "2021-08-21T23:30:10.317126",
     "exception": false,
     "start_time": "2021-08-21T23:30:08.786803",
     "status": "completed"
    },
    "tags": []
   },
   "outputs": [
    {
     "data": {
      "text/plain": [
       "<AxesSubplot:ylabel='PRODUCT'>"
      ]
     },
     "execution_count": 7,
     "metadata": {},
     "output_type": "execute_result"
    },
    {
     "data": {
      "image/png": "[encoded data removed]",
      "text/plain": [
       "<Figure size 432x288 with 1 Axes>"
      ]
     },
     "metadata": {
      "needs_background": "light"
     },
     "output_type": "display_data"
    }
   ],
   "source": [
    "df_pivot_diff.sort_values(\"stamp_2\", ascending = False)[\"stamp_2\"].head(10).plot.barh()"
   ]
  },
  {
   "cell_type": "code",
   "execution_count": null,
   "id": "extra-executive",
   "metadata": {
    "papermill": {
     "duration": 0.022789,
     "end_time": "2021-08-21T23:30:10.363604",
     "exception": false,
     "start_time": "2021-08-21T23:30:10.340815",
     "status": "completed"
    },
    "tags": []
   },
   "outputs": [],
   "source": []
  }
 ],
 "metadata": {
  "kernelspec": {
   "display_name": "Python 3",
   "language": "python",
   "name": "python3"
  },
  "language_info": {
   "codemirror_mode": {
    "name": "ipython",
    "version": 3
   },
   "file_extension": ".py",
   "mimetype": "text/x-python",
   "name": "python",
   "nbconvert_exporter": "python",
   "pygments_lexer": "ipython3",
   "version": "3.9.5"
  },
  "papermill": {
   "default_parameters": {},
   "duration": 6.83254,
   "end_time": "2021-08-21T23:30:11.741453",
   "environment_variables": {},
   "exception": null,
   "input_path": "eBay_Overview.ipynb",
   "output_path": "eBay_Overview.ipynb",
   "parameters": {},
   "start_time": "2021-08-21T23:30:04.908913",
   "version": "2.3.3"
  }
 },
 "nbformat": 4,
 "nbformat_minor": 5
}