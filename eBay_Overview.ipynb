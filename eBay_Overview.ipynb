{
 "cells": [
  {
   "cell_type": "code",
   "execution_count": 1,
   "id": "reverse-picking",
   "metadata": {
    "execution": {
     "iopub.execute_input": "2021-12-21T19:00:07.813670Z",
     "iopub.status.busy": "2021-12-21T19:00:07.811220Z",
     "iopub.status.idle": "2021-12-21T19:00:08.780332Z",
     "shell.execute_reply": "2021-12-21T19:00:08.782059Z"
    },
    "papermill": {
     "duration": 1.020687,
     "end_time": "2021-12-21T19:00:08.782809",
     "exception": false,
     "start_time": "2021-12-21T19:00:07.762122",
     "status": "completed"
    },
    "tags": []
   },
   "outputs": [],
   "source": [
    "import pandas as pd\n",
    "import sqlite3"
   ]
  },
  {
   "cell_type": "code",
   "execution_count": 2,
   "id": "innovative-syndrome",
   "metadata": {
    "execution": {
     "iopub.execute_input": "2021-12-21T19:00:08.847824Z",
     "iopub.status.busy": "2021-12-21T19:00:08.845591Z",
     "iopub.status.idle": "2021-12-21T19:00:09.995390Z",
     "shell.execute_reply": "2021-12-21T19:00:09.997115Z"
    },
    "papermill": {
     "duration": 1.184811,
     "end_time": "2021-12-21T19:00:09.997602",
     "exception": false,
     "start_time": "2021-12-21T19:00:08.812791",
     "status": "completed"
    },
    "tags": []
   },
   "outputs": [],
   "source": [
    "timestamps = pd.read_sql(\"select distinct record_time from EBAY_TOP_BERLIN order by record_time desc limit 2\", sqlite3.connect(\"UsedObjects.db\"))"
   ]
  },
  {
   "cell_type": "code",
   "execution_count": 3,
   "id": "periodic-identification",
   "metadata": {
    "execution": {
     "iopub.execute_input": "2021-12-21T19:00:10.081607Z",
     "iopub.status.busy": "2021-12-21T19:00:10.078991Z",
     "iopub.status.idle": "2021-12-21T19:00:10.102823Z",
     "shell.execute_reply": "2021-12-21T19:00:10.104237Z"
    },
    "papermill": {
     "duration": 0.074952,
     "end_time": "2021-12-21T19:00:10.104774",
     "exception": false,
     "start_time": "2021-12-21T19:00:10.029822",
     "status": "completed"
    },
    "tags": []
   },
   "outputs": [
    {
     "data": {
      "text/html": [
       "<div>\n",
       "<style scoped>\n",
       "    .dataframe tbody tr th:only-of-type {\n",
       "        vertical-align: middle;\n",
       "    }\n",
       "\n",
       "    .dataframe tbody tr th {\n",
       "        vertical-align: top;\n",
       "    }\n",
       "\n",
       "    .dataframe thead th {\n",
       "        text-align: right;\n",
       "    }\n",
       "</style>\n",
       "<table border=\"1\" class=\"dataframe\">\n",
       "  <thead>\n",
       "    <tr style=\"text-align: right;\">\n",
       "      <th></th>\n",
       "      <th>RECORD_TIME</th>\n",
       "    </tr>\n",
       "  </thead>\n",
       "  <tbody>\n",
       "    <tr>\n",
       "      <th>0</th>\n",
       "      <td>2021-12-21 20:00</td>\n",
       "    </tr>\n",
       "    <tr>\n",
       "      <th>1</th>\n",
       "      <td>2021-12-21 19:30</td>\n",
       "    </tr>\n",
       "  </tbody>\n",
       "</table>\n",
       "</div>"
      ],
      "text/plain": [
       "        RECORD_TIME\n",
       "0  2021-12-21 20:00\n",
       "1  2021-12-21 19:30"
      ]
     },
     "execution_count": 3,
     "metadata": {},
     "output_type": "execute_result"
    }
   ],
   "source": [
    "timestamps"
   ]
  },
  {
   "cell_type": "code",
   "execution_count": 4,
   "id": "alternate-victory",
   "metadata": {
    "execution": {
     "iopub.execute_input": "2021-12-21T19:00:10.161330Z",
     "iopub.status.busy": "2021-12-21T19:00:10.158842Z",
     "iopub.status.idle": "2021-12-21T19:00:11.824983Z",
     "shell.execute_reply": "2021-12-21T19:00:11.826449Z"
    },
    "papermill": {
     "duration": 1.70065,
     "end_time": "2021-12-21T19:00:11.826939",
     "exception": false,
     "start_time": "2021-12-21T19:00:10.126289",
     "status": "completed"
    },
    "tags": []
   },
   "outputs": [],
   "source": [
    "df = pd.read_sql(\"select * from EBAY_TOP_BERLIN where record_time in (select distinct record_time from EBAY_TOP_BERLIN order by record_time desc limit 2)\", sqlite3.connect(\"UsedObjects.db\"))"
   ]
  },
  {
   "cell_type": "code",
   "execution_count": 5,
   "id": "popular-active",
   "metadata": {
    "execution": {
     "iopub.execute_input": "2021-12-21T19:00:11.903066Z",
     "iopub.status.busy": "2021-12-21T19:00:11.888445Z",
     "iopub.status.idle": "2021-12-21T19:00:11.922076Z",
     "shell.execute_reply": "2021-12-21T19:00:11.923582Z"
    },
    "papermill": {
     "duration": 0.075998,
     "end_time": "2021-12-21T19:00:11.924095",
     "exception": false,
     "start_time": "2021-12-21T19:00:11.848097",
     "status": "completed"
    },
    "tags": []
   },
   "outputs": [],
   "source": [
    "df_pivot = df.pivot_table(index=\"PRODUCT\", columns = \"RECORD_TIME\", values = \"LISTING_COUNT\")"
   ]
  },
  {
   "cell_type": "code",
   "execution_count": 6,
   "id": "union-huntington",
   "metadata": {
    "execution": {
     "iopub.execute_input": "2021-12-21T19:00:11.987381Z",
     "iopub.status.busy": "2021-12-21T19:00:11.985064Z",
     "iopub.status.idle": "2021-12-21T19:00:11.998931Z",
     "shell.execute_reply": "2021-12-21T19:00:11.989916Z"
    },
    "papermill": {
     "duration": 0.053629,
     "end_time": "2021-12-21T19:00:11.999346",
     "exception": false,
     "start_time": "2021-12-21T19:00:11.945717",
     "status": "completed"
    },
    "tags": []
   },
   "outputs": [],
   "source": [
    "df_pivot.columns = [\"stamp_1\", \"stamp_2\"]\n",
    "df_pivot_diff = df_pivot.diff(axis=1)"
   ]
  },
  {
   "cell_type": "code",
   "execution_count": 7,
   "id": "fifth-motion",
   "metadata": {
    "execution": {
     "iopub.execute_input": "2021-12-21T19:00:12.056464Z",
     "iopub.status.busy": "2021-12-21T19:00:12.054025Z",
     "iopub.status.idle": "2021-12-21T19:00:14.007705Z",
     "shell.execute_reply": "2021-12-21T19:00:14.009550Z"
    },
    "papermill": {
     "duration": 1.990082,
     "end_time": "2021-12-21T19:00:14.010104",
     "exception": false,
     "start_time": "2021-12-21T19:00:12.020022",
     "status": "completed"
    },
    "tags": []
   },
   "outputs": [
    {
     "data": {
      "text/plain": [
       "<AxesSubplot:ylabel='PRODUCT'>"
      ]
     },
     "execution_count": 7,
     "metadata": {},
     "output_type": "execute_result"
    },
    {
     "data": {
      "image/png": "[encoded data removed]",
      "text/plain": [
       "<Figure size 432x288 with 1 Axes>"
      ]
     },
     "metadata": {
      "needs_background": "light"
     },
     "output_type": "display_data"
    }
   ],
   "source": [
    "df_pivot_diff.sort_values(\"stamp_2\", ascending = False)[\"stamp_2\"].head(10).plot.barh()"
   ]
  },
  {
   "cell_type": "code",
   "execution_count": null,
   "id": "extra-executive",
   "metadata": {
    "papermill": {
     "duration": 0.022764,
     "end_time": "2021-12-21T19:00:14.058453",
     "exception": false,
     "start_time": "2021-12-21T19:00:14.035689",
     "status": "completed"
    },
    "tags": []
   },
   "outputs": [],
   "source": []
  }
 ],
 "metadata": {
  "kernelspec": {
   "display_name": "Python 3",
   "language": "python",
   "name": "python3"
  },
  "language_info": {
   "codemirror_mode": {
    "name": "ipython",
    "version": 3
   },
   "file_extension": ".py",
   "mimetype": "text/x-python",
   "name": "python",
   "nbconvert_exporter": "python",
   "pygments_lexer": "ipython3",
   "version": "3.9.5"
  },
  "papermill": {
   "default_parameters": {},
   "duration": 9.693505,
   "end_time": "2021-12-21T19:00:14.701933",
   "environment_variables": {},
   "exception": null,
   "input_path": "eBay_Overview.ipynb",
   "output_path": "eBay_Overview.ipynb",
   "parameters": {},
   "start_time": "2021-12-21T19:00:05.008428",
   "version": "2.3.3"
  }
 },
 "nbformat": 4,
 "nbformat_minor": 5
}