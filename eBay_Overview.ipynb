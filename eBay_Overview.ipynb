{
 "cells": [
  {
   "cell_type": "code",
   "execution_count": 1,
   "id": "reverse-picking",
   "metadata": {
    "execution": {
     "iopub.execute_input": "2021-12-16T20:00:07.243301Z",
     "iopub.status.busy": "2021-12-16T20:00:07.240929Z",
     "iopub.status.idle": "2021-12-16T20:00:08.190984Z",
     "shell.execute_reply": "2021-12-16T20:00:08.192658Z"
    },
    "papermill": {
     "duration": 1.00094,
     "end_time": "2021-12-16T20:00:08.193496",
     "exception": false,
     "start_time": "2021-12-16T20:00:07.192556",
     "status": "completed"
    },
    "tags": []
   },
   "outputs": [],
   "source": [
    "import pandas as pd\n",
    "import sqlite3"
   ]
  },
  {
   "cell_type": "code",
   "execution_count": 2,
   "id": "innovative-syndrome",
   "metadata": {
    "execution": {
     "iopub.execute_input": "2021-12-16T20:00:08.273568Z",
     "iopub.status.busy": "2021-12-16T20:00:08.270013Z",
     "iopub.status.idle": "2021-12-16T20:00:09.382404Z",
     "shell.execute_reply": "2021-12-16T20:00:09.383902Z"
    },
    "papermill": {
     "duration": 1.159657,
     "end_time": "2021-12-16T20:00:09.384382",
     "exception": false,
     "start_time": "2021-12-16T20:00:08.224725",
     "status": "completed"
    },
    "tags": []
   },
   "outputs": [],
   "source": [
    "timestamps = pd.read_sql(\"select distinct record_time from EBAY_TOP_BERLIN order by record_time desc limit 2\", sqlite3.connect(\"UsedObjects.db\"))"
   ]
  },
  {
   "cell_type": "code",
   "execution_count": 3,
   "id": "periodic-identification",
   "metadata": {
    "execution": {
     "iopub.execute_input": "2021-12-16T20:00:09.468076Z",
     "iopub.status.busy": "2021-12-16T20:00:09.466489Z",
     "iopub.status.idle": "2021-12-16T20:00:09.482314Z",
     "shell.execute_reply": "2021-12-16T20:00:09.485480Z"
    },
    "papermill": {
     "duration": 0.081066,
     "end_time": "2021-12-16T20:00:09.485986",
     "exception": false,
     "start_time": "2021-12-16T20:00:09.404920",
     "status": "completed"
    },
    "tags": []
   },
   "outputs": [
    {
     "data": {
      "text/html": [
       "<div>\n",
       "<style scoped>\n",
       "    .dataframe tbody tr th:only-of-type {\n",
       "        vertical-align: middle;\n",
       "    }\n",
       "\n",
       "    .dataframe tbody tr th {\n",
       "        vertical-align: top;\n",
       "    }\n",
       "\n",
       "    .dataframe thead th {\n",
       "        text-align: right;\n",
       "    }\n",
       "</style>\n",
       "<table border=\"1\" class=\"dataframe\">\n",
       "  <thead>\n",
       "    <tr style=\"text-align: right;\">\n",
       "      <th></th>\n",
       "      <th>RECORD_TIME</th>\n",
       "    </tr>\n",
       "  </thead>\n",
       "  <tbody>\n",
       "    <tr>\n",
       "      <th>0</th>\n",
       "      <td>2021-12-16 21:00</td>\n",
       "    </tr>\n",
       "    <tr>\n",
       "      <th>1</th>\n",
       "      <td>2021-12-16 20:30</td>\n",
       "    </tr>\n",
       "  </tbody>\n",
       "</table>\n",
       "</div>"
      ],
      "text/plain": [
       "        RECORD_TIME\n",
       "0  2021-12-16 21:00\n",
       "1  2021-12-16 20:30"
      ]
     },
     "execution_count": 3,
     "metadata": {},
     "output_type": "execute_result"
    }
   ],
   "source": [
    "timestamps"
   ]
  },
  {
   "cell_type": "code",
   "execution_count": 4,
   "id": "alternate-victory",
   "metadata": {
    "execution": {
     "iopub.execute_input": "2021-12-16T20:00:09.539156Z",
     "iopub.status.busy": "2021-12-16T20:00:09.536831Z",
     "iopub.status.idle": "2021-12-16T20:00:11.198008Z",
     "shell.execute_reply": "2021-12-16T20:00:11.199419Z"
    },
    "papermill": {
     "duration": 1.692885,
     "end_time": "2021-12-16T20:00:11.199903",
     "exception": false,
     "start_time": "2021-12-16T20:00:09.507018",
     "status": "completed"
    },
    "tags": []
   },
   "outputs": [],
   "source": [
    "df = pd.read_sql(\"select * from EBAY_TOP_BERLIN where record_time in (select distinct record_time from EBAY_TOP_BERLIN order by record_time desc limit 2)\", sqlite3.connect(\"UsedObjects.db\"))"
   ]
  },
  {
   "cell_type": "code",
   "execution_count": 5,
   "id": "popular-active",
   "metadata": {
    "execution": {
     "iopub.execute_input": "2021-12-16T20:00:11.277127Z",
     "iopub.status.busy": "2021-12-16T20:00:11.262549Z",
     "iopub.status.idle": "2021-12-16T20:00:11.299256Z",
     "shell.execute_reply": "2021-12-16T20:00:11.301111Z"
    },
    "papermill": {
     "duration": 0.080819,
     "end_time": "2021-12-16T20:00:11.301650",
     "exception": false,
     "start_time": "2021-12-16T20:00:11.220831",
     "status": "completed"
    },
    "tags": []
   },
   "outputs": [],
   "source": [
    "df_pivot = df.pivot_table(index=\"PRODUCT\", columns = \"RECORD_TIME\", values = \"LISTING_COUNT\")"
   ]
  },
  {
   "cell_type": "code",
   "execution_count": 6,
   "id": "union-huntington",
   "metadata": {
    "execution": {
     "iopub.execute_input": "2021-12-16T20:00:11.362970Z",
     "iopub.status.busy": "2021-12-16T20:00:11.360626Z",
     "iopub.status.idle": "2021-12-16T20:00:11.366309Z",
     "shell.execute_reply": "2021-12-16T20:00:11.367797Z"
    },
    "papermill": {
     "duration": 0.04367,
     "end_time": "2021-12-16T20:00:11.368261",
     "exception": false,
     "start_time": "2021-12-16T20:00:11.324591",
     "status": "completed"
    },
    "tags": []
   },
   "outputs": [],
   "source": [
    "df_pivot.columns = [\"stamp_1\", \"stamp_2\"]\n",
    "df_pivot_diff = df_pivot.diff(axis=1)"
   ]
  },
  {
   "cell_type": "code",
   "execution_count": 7,
   "id": "fifth-motion",
   "metadata": {
    "execution": {
     "iopub.execute_input": "2021-12-16T20:00:11.425233Z",
     "iopub.status.busy": "2021-12-16T20:00:11.422677Z",
     "iopub.status.idle": "2021-12-16T20:00:13.393065Z",
     "shell.execute_reply": "2021-12-16T20:00:13.394645Z"
    },
    "papermill": {
     "duration": 2.006516,
     "end_time": "2021-12-16T20:00:13.395112",
     "exception": false,
     "start_time": "2021-12-16T20:00:11.388596",
     "status": "completed"
    },
    "tags": []
   },
   "outputs": [
    {
     "data": {
      "text/plain": [
       "<AxesSubplot:ylabel='PRODUCT'>"
      ]
     },
     "execution_count": 7,
     "metadata": {},
     "output_type": "execute_result"
    },
    {
     "data": {
      "image/png": "[encoded data removed]",
      "text/plain": [
       "<Figure size 432x288 with 1 Axes>"
      ]
     },
     "metadata": {
      "needs_background": "light"
     },
     "output_type": "display_data"
    }
   ],
   "source": [
    "df_pivot_diff.sort_values(\"stamp_2\", ascending = False)[\"stamp_2\"].head(10).plot.barh()"
   ]
  },
  {
   "cell_type": "code",
   "execution_count": null,
   "id": "extra-executive",
   "metadata": {
    "papermill": {
     "duration": 0.022272,
     "end_time": "2021-12-16T20:00:13.441756",
     "exception": false,
     "start_time": "2021-12-16T20:00:13.419484",
     "status": "completed"
    },
    "tags": []
   },
   "outputs": [],
   "source": []
  }
 ],
 "metadata": {
  "kernelspec": {
   "display_name": "Python 3",
   "language": "python",
   "name": "python3"
  },
  "language_info": {
   "codemirror_mode": {
    "name": "ipython",
    "version": 3
   },
   "file_extension": ".py",
   "mimetype": "text/x-python",
   "name": "python",
   "nbconvert_exporter": "python",
   "pygments_lexer": "ipython3",
   "version": "3.9.5"
  },
  "papermill": {
   "default_parameters": {},
   "duration": 9.619861,
   "end_time": "2021-12-16T20:00:14.084986",
   "environment_variables": {},
   "exception": null,
   "input_path": "eBay_Overview.ipynb",
   "output_path": "eBay_Overview.ipynb",
   "parameters": {},
   "start_time": "2021-12-16T20:00:04.465125",
   "version": "2.3.3"
  }
 },
 "nbformat": 4,
 "nbformat_minor": 5
}