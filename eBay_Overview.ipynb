{
 "cells": [
  {
   "cell_type": "code",
   "execution_count": 1,
   "id": "reverse-picking",
   "metadata": {
    "execution": {
     "iopub.execute_input": "2021-10-30T18:30:07.007745Z",
     "iopub.status.busy": "2021-10-30T18:30:07.005774Z",
     "iopub.status.idle": "2021-10-30T18:30:07.809134Z",
     "shell.execute_reply": "2021-10-30T18:30:07.810480Z"
    },
    "papermill": {
     "duration": 0.854102,
     "end_time": "2021-10-30T18:30:07.811124",
     "exception": false,
     "start_time": "2021-10-30T18:30:06.957022",
     "status": "completed"
    },
    "tags": []
   },
   "outputs": [],
   "source": [
    "import pandas as pd\n",
    "import sqlite3"
   ]
  },
  {
   "cell_type": "code",
   "execution_count": 2,
   "id": "innovative-syndrome",
   "metadata": {
    "execution": {
     "iopub.execute_input": "2021-10-30T18:30:07.861560Z",
     "iopub.status.busy": "2021-10-30T18:30:07.859495Z",
     "iopub.status.idle": "2021-10-30T18:30:08.558378Z",
     "shell.execute_reply": "2021-10-30T18:30:08.559493Z"
    },
    "papermill": {
     "duration": 0.728556,
     "end_time": "2021-10-30T18:30:08.559900",
     "exception": false,
     "start_time": "2021-10-30T18:30:07.831344",
     "status": "completed"
    },
    "tags": []
   },
   "outputs": [],
   "source": [
    "timestamps = pd.read_sql(\"select distinct record_time from EBAY_TOP_BERLIN order by record_time desc limit 2\", sqlite3.connect(\"UsedObjects.db\"))"
   ]
  },
  {
   "cell_type": "code",
   "execution_count": 3,
   "id": "periodic-identification",
   "metadata": {
    "execution": {
     "iopub.execute_input": "2021-10-30T18:30:08.635041Z",
     "iopub.status.busy": "2021-10-30T18:30:08.633017Z",
     "iopub.status.idle": "2021-10-30T18:30:08.652896Z",
     "shell.execute_reply": "2021-10-30T18:30:08.654036Z"
    },
    "papermill": {
     "duration": 0.067081,
     "end_time": "2021-10-30T18:30:08.654446",
     "exception": false,
     "start_time": "2021-10-30T18:30:08.587365",
     "status": "completed"
    },
    "tags": []
   },
   "outputs": [
    {
     "data": {
      "text/html": [
       "<div>\n",
       "<style scoped>\n",
       "    .dataframe tbody tr th:only-of-type {\n",
       "        vertical-align: middle;\n",
       "    }\n",
       "\n",
       "    .dataframe tbody tr th {\n",
       "        vertical-align: top;\n",
       "    }\n",
       "\n",
       "    .dataframe thead th {\n",
       "        text-align: right;\n",
       "    }\n",
       "</style>\n",
       "<table border=\"1\" class=\"dataframe\">\n",
       "  <thead>\n",
       "    <tr style=\"text-align: right;\">\n",
       "      <th></th>\n",
       "      <th>RECORD_TIME</th>\n",
       "    </tr>\n",
       "  </thead>\n",
       "  <tbody>\n",
       "    <tr>\n",
       "      <th>0</th>\n",
       "      <td>2021-10-30 20:30</td>\n",
       "    </tr>\n",
       "    <tr>\n",
       "      <th>1</th>\n",
       "      <td>2021-10-30 20:00</td>\n",
       "    </tr>\n",
       "  </tbody>\n",
       "</table>\n",
       "</div>"
      ],
      "text/plain": [
       "        RECORD_TIME\n",
       "0  2021-10-30 20:30\n",
       "1  2021-10-30 20:00"
      ]
     },
     "execution_count": 3,
     "metadata": {},
     "output_type": "execute_result"
    }
   ],
   "source": [
    "timestamps"
   ]
  },
  {
   "cell_type": "code",
   "execution_count": 4,
   "id": "alternate-victory",
   "metadata": {
    "execution": {
     "iopub.execute_input": "2021-10-30T18:30:08.714010Z",
     "iopub.status.busy": "2021-10-30T18:30:08.712093Z",
     "iopub.status.idle": "2021-10-30T18:30:09.716069Z",
     "shell.execute_reply": "2021-10-30T18:30:09.717370Z"
    },
    "papermill": {
     "duration": 1.036221,
     "end_time": "2021-10-30T18:30:09.717775",
     "exception": false,
     "start_time": "2021-10-30T18:30:08.681554",
     "status": "completed"
    },
    "tags": []
   },
   "outputs": [],
   "source": [
    "df = pd.read_sql(\"select * from EBAY_TOP_BERLIN where record_time in (select distinct record_time from EBAY_TOP_BERLIN order by record_time desc limit 2)\", sqlite3.connect(\"UsedObjects.db\"))"
   ]
  },
  {
   "cell_type": "code",
   "execution_count": 5,
   "id": "popular-active",
   "metadata": {
    "execution": {
     "iopub.execute_input": "2021-10-30T18:30:09.789733Z",
     "iopub.status.busy": "2021-10-30T18:30:09.776392Z",
     "iopub.status.idle": "2021-10-30T18:30:09.807053Z",
     "shell.execute_reply": "2021-10-30T18:30:09.808265Z"
    },
    "papermill": {
     "duration": 0.070158,
     "end_time": "2021-10-30T18:30:09.808662",
     "exception": false,
     "start_time": "2021-10-30T18:30:09.738504",
     "status": "completed"
    },
    "tags": []
   },
   "outputs": [],
   "source": [
    "df_pivot = df.pivot_table(index=\"PRODUCT\", columns = \"RECORD_TIME\", values = \"LISTING_COUNT\")"
   ]
  },
  {
   "cell_type": "code",
   "execution_count": 6,
   "id": "union-huntington",
   "metadata": {
    "execution": {
     "iopub.execute_input": "2021-10-30T18:30:09.864839Z",
     "iopub.status.busy": "2021-10-30T18:30:09.862755Z",
     "iopub.status.idle": "2021-10-30T18:30:09.868006Z",
     "shell.execute_reply": "2021-10-30T18:30:09.869359Z"
    },
    "papermill": {
     "duration": 0.040335,
     "end_time": "2021-10-30T18:30:09.869786",
     "exception": false,
     "start_time": "2021-10-30T18:30:09.829451",
     "status": "completed"
    },
    "tags": []
   },
   "outputs": [],
   "source": [
    "df_pivot.columns = [\"stamp_1\", \"stamp_2\"]\n",
    "df_pivot_diff = df_pivot.diff(axis=1)"
   ]
  },
  {
   "cell_type": "code",
   "execution_count": 7,
   "id": "fifth-motion",
   "metadata": {
    "execution": {
     "iopub.execute_input": "2021-10-30T18:30:09.923672Z",
     "iopub.status.busy": "2021-10-30T18:30:09.921319Z",
     "iopub.status.idle": "2021-10-30T18:30:11.422752Z",
     "shell.execute_reply": "2021-10-30T18:30:11.424038Z"
    },
    "papermill": {
     "duration": 1.534178,
     "end_time": "2021-10-30T18:30:11.424461",
     "exception": false,
     "start_time": "2021-10-30T18:30:09.890283",
     "status": "completed"
    },
    "tags": []
   },
   "outputs": [
    {
     "data": {
      "text/plain": [
       "<AxesSubplot:ylabel='PRODUCT'>"
      ]
     },
     "execution_count": 7,
     "metadata": {},
     "output_type": "execute_result"
    },
    {
     "data": {
      "image/png": "[encoded data removed]",
      "text/plain": [
       "<Figure size 432x288 with 1 Axes>"
      ]
     },
     "metadata": {
      "needs_background": "light"
     },
     "output_type": "display_data"
    }
   ],
   "source": [
    "df_pivot_diff.sort_values(\"stamp_2\", ascending = False)[\"stamp_2\"].head(10).plot.barh()"
   ]
  },
  {
   "cell_type": "code",
   "execution_count": null,
   "id": "extra-executive",
   "metadata": {
    "papermill": {
     "duration": 0.021878,
     "end_time": "2021-10-30T18:30:11.470874",
     "exception": false,
     "start_time": "2021-10-30T18:30:11.448996",
     "status": "completed"
    },
    "tags": []
   },
   "outputs": [],
   "source": []
  }
 ],
 "metadata": {
  "kernelspec": {
   "display_name": "Python 3",
   "language": "python",
   "name": "python3"
  },
  "language_info": {
   "codemirror_mode": {
    "name": "ipython",
    "version": 3
   },
   "file_extension": ".py",
   "mimetype": "text/x-python",
   "name": "python",
   "nbconvert_exporter": "python",
   "pygments_lexer": "ipython3",
   "version": "3.9.5"
  },
  "papermill": {
   "default_parameters": {},
   "duration": 7.557983,
   "end_time": "2021-10-30T18:30:12.113808",
   "environment_variables": {},
   "exception": null,
   "input_path": "eBay_Overview.ipynb",
   "output_path": "eBay_Overview.ipynb",
   "parameters": {},
   "start_time": "2021-10-30T18:30:04.555825",
   "version": "2.3.3"
  }
 },
 "nbformat": 4,
 "nbformat_minor": 5
}