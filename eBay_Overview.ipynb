{
 "cells": [
  {
   "cell_type": "code",
   "execution_count": 1,
   "id": "reverse-picking",
   "metadata": {
    "execution": {
     "iopub.execute_input": "2021-10-17T12:00:06.623328Z",
     "iopub.status.busy": "2021-10-17T12:00:06.621378Z",
     "iopub.status.idle": "2021-10-17T12:00:07.429439Z",
     "shell.execute_reply": "2021-10-17T12:00:07.430709Z"
    },
    "papermill": {
     "duration": 0.860156,
     "end_time": "2021-10-17T12:00:07.431333",
     "exception": false,
     "start_time": "2021-10-17T12:00:06.571177",
     "status": "completed"
    },
    "tags": []
   },
   "outputs": [],
   "source": [
    "import pandas as pd\n",
    "import sqlite3"
   ]
  },
  {
   "cell_type": "code",
   "execution_count": 2,
   "id": "innovative-syndrome",
   "metadata": {
    "execution": {
     "iopub.execute_input": "2021-10-17T12:00:07.485772Z",
     "iopub.status.busy": "2021-10-17T12:00:07.483377Z",
     "iopub.status.idle": "2021-10-17T12:00:08.059967Z",
     "shell.execute_reply": "2021-10-17T12:00:08.061432Z"
    },
    "papermill": {
     "duration": 0.607181,
     "end_time": "2021-10-17T12:00:08.061887",
     "exception": false,
     "start_time": "2021-10-17T12:00:07.454706",
     "status": "completed"
    },
    "tags": []
   },
   "outputs": [],
   "source": [
    "timestamps = pd.read_sql(\"select distinct record_time from EBAY_TOP_BERLIN order by record_time desc limit 2\", sqlite3.connect(\"UsedObjects.db\"))"
   ]
  },
  {
   "cell_type": "code",
   "execution_count": 3,
   "id": "periodic-identification",
   "metadata": {
    "execution": {
     "iopub.execute_input": "2021-10-17T12:00:08.137789Z",
     "iopub.status.busy": "2021-10-17T12:00:08.135667Z",
     "iopub.status.idle": "2021-10-17T12:00:08.155873Z",
     "shell.execute_reply": "2021-10-17T12:00:08.157258Z"
    },
    "papermill": {
     "duration": 0.070541,
     "end_time": "2021-10-17T12:00:08.157676",
     "exception": false,
     "start_time": "2021-10-17T12:00:08.087135",
     "status": "completed"
    },
    "tags": []
   },
   "outputs": [
    {
     "data": {
      "text/html": [
       "<div>\n",
       "<style scoped>\n",
       "    .dataframe tbody tr th:only-of-type {\n",
       "        vertical-align: middle;\n",
       "    }\n",
       "\n",
       "    .dataframe tbody tr th {\n",
       "        vertical-align: top;\n",
       "    }\n",
       "\n",
       "    .dataframe thead th {\n",
       "        text-align: right;\n",
       "    }\n",
       "</style>\n",
       "<table border=\"1\" class=\"dataframe\">\n",
       "  <thead>\n",
       "    <tr style=\"text-align: right;\">\n",
       "      <th></th>\n",
       "      <th>RECORD_TIME</th>\n",
       "    </tr>\n",
       "  </thead>\n",
       "  <tbody>\n",
       "    <tr>\n",
       "      <th>0</th>\n",
       "      <td>2021-10-17 14:00</td>\n",
       "    </tr>\n",
       "    <tr>\n",
       "      <th>1</th>\n",
       "      <td>2021-10-17 13:30</td>\n",
       "    </tr>\n",
       "  </tbody>\n",
       "</table>\n",
       "</div>"
      ],
      "text/plain": [
       "        RECORD_TIME\n",
       "0  2021-10-17 14:00\n",
       "1  2021-10-17 13:30"
      ]
     },
     "execution_count": 3,
     "metadata": {},
     "output_type": "execute_result"
    }
   ],
   "source": [
    "timestamps"
   ]
  },
  {
   "cell_type": "code",
   "execution_count": 4,
   "id": "alternate-victory",
   "metadata": {
    "execution": {
     "iopub.execute_input": "2021-10-17T12:00:08.208463Z",
     "iopub.status.busy": "2021-10-17T12:00:08.206599Z",
     "iopub.status.idle": "2021-10-17T12:00:09.042359Z",
     "shell.execute_reply": "2021-10-17T12:00:09.043585Z"
    },
    "papermill": {
     "duration": 0.865836,
     "end_time": "2021-10-17T12:00:09.043975",
     "exception": false,
     "start_time": "2021-10-17T12:00:08.178139",
     "status": "completed"
    },
    "tags": []
   },
   "outputs": [],
   "source": [
    "df = pd.read_sql(\"select * from EBAY_TOP_BERLIN where record_time in (select distinct record_time from EBAY_TOP_BERLIN order by record_time desc limit 2)\", sqlite3.connect(\"UsedObjects.db\"))"
   ]
  },
  {
   "cell_type": "code",
   "execution_count": 5,
   "id": "popular-active",
   "metadata": {
    "execution": {
     "iopub.execute_input": "2021-10-17T12:00:09.113290Z",
     "iopub.status.busy": "2021-10-17T12:00:09.101877Z",
     "iopub.status.idle": "2021-10-17T12:00:09.130512Z",
     "shell.execute_reply": "2021-10-17T12:00:09.131811Z"
    },
    "papermill": {
     "duration": 0.067689,
     "end_time": "2021-10-17T12:00:09.132218",
     "exception": false,
     "start_time": "2021-10-17T12:00:09.064529",
     "status": "completed"
    },
    "tags": []
   },
   "outputs": [],
   "source": [
    "df_pivot = df.pivot_table(index=\"PRODUCT\", columns = \"RECORD_TIME\", values = \"LISTING_COUNT\")"
   ]
  },
  {
   "cell_type": "code",
   "execution_count": 6,
   "id": "union-huntington",
   "metadata": {
    "execution": {
     "iopub.execute_input": "2021-10-17T12:00:09.188955Z",
     "iopub.status.busy": "2021-10-17T12:00:09.186781Z",
     "iopub.status.idle": "2021-10-17T12:00:09.192228Z",
     "shell.execute_reply": "2021-10-17T12:00:09.193577Z"
    },
    "papermill": {
     "duration": 0.041521,
     "end_time": "2021-10-17T12:00:09.193995",
     "exception": false,
     "start_time": "2021-10-17T12:00:09.152474",
     "status": "completed"
    },
    "tags": []
   },
   "outputs": [],
   "source": [
    "df_pivot.columns = [\"stamp_1\", \"stamp_2\"]\n",
    "df_pivot_diff = df_pivot.diff(axis=1)"
   ]
  },
  {
   "cell_type": "code",
   "execution_count": 7,
   "id": "fifth-motion",
   "metadata": {
    "execution": {
     "iopub.execute_input": "2021-10-17T12:00:09.248392Z",
     "iopub.status.busy": "2021-10-17T12:00:09.245973Z",
     "iopub.status.idle": "2021-10-17T12:00:10.746575Z",
     "shell.execute_reply": "2021-10-17T12:00:10.747869Z"
    },
    "papermill": {
     "duration": 1.533671,
     "end_time": "2021-10-17T12:00:10.748279",
     "exception": false,
     "start_time": "2021-10-17T12:00:09.214608",
     "status": "completed"
    },
    "tags": []
   },
   "outputs": [
    {
     "data": {
      "text/plain": [
       "<AxesSubplot:ylabel='PRODUCT'>"
      ]
     },
     "execution_count": 7,
     "metadata": {},
     "output_type": "execute_result"
    },
    {
     "data": {
      "image/png": "[encoded data removed]",
      "text/plain": [
       "<Figure size 432x288 with 1 Axes>"
      ]
     },
     "metadata": {
      "needs_background": "light"
     },
     "output_type": "display_data"
    }
   ],
   "source": [
    "df_pivot_diff.sort_values(\"stamp_2\", ascending = False)[\"stamp_2\"].head(10).plot.barh()"
   ]
  },
  {
   "cell_type": "code",
   "execution_count": null,
   "id": "extra-executive",
   "metadata": {
    "papermill": {
     "duration": 0.022401,
     "end_time": "2021-10-17T12:00:10.796510",
     "exception": false,
     "start_time": "2021-10-17T12:00:10.774109",
     "status": "completed"
    },
    "tags": []
   },
   "outputs": [],
   "source": []
  }
 ],
 "metadata": {
  "kernelspec": {
   "display_name": "Python 3",
   "language": "python",
   "name": "python3"
  },
  "language_info": {
   "codemirror_mode": {
    "name": "ipython",
    "version": 3
   },
   "file_extension": ".py",
   "mimetype": "text/x-python",
   "name": "python",
   "nbconvert_exporter": "python",
   "pygments_lexer": "ipython3",
   "version": "3.9.5"
  },
  "papermill": {
   "default_parameters": {},
   "duration": 7.823523,
   "end_time": "2021-10-17T12:00:11.983268",
   "environment_variables": {},
   "exception": null,
   "input_path": "eBay_Overview.ipynb",
   "output_path": "eBay_Overview.ipynb",
   "parameters": {},
   "start_time": "2021-10-17T12:00:04.159745",
   "version": "2.3.3"
  }
 },
 "nbformat": 4,
 "nbformat_minor": 5
}