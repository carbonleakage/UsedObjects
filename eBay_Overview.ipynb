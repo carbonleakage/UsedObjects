{
 "cells": [
  {
   "cell_type": "code",
   "execution_count": 1,
   "id": "reverse-picking",
   "metadata": {
    "execution": {
     "iopub.execute_input": "2021-10-28T23:00:06.870241Z",
     "iopub.status.busy": "2021-10-28T23:00:06.868213Z",
     "iopub.status.idle": "2021-10-28T23:00:07.673726Z",
     "shell.execute_reply": "2021-10-28T23:00:07.675036Z"
    },
    "papermill": {
     "duration": 0.856906,
     "end_time": "2021-10-28T23:00:07.675650",
     "exception": false,
     "start_time": "2021-10-28T23:00:06.818744",
     "status": "completed"
    },
    "tags": []
   },
   "outputs": [],
   "source": [
    "import pandas as pd\n",
    "import sqlite3"
   ]
  },
  {
   "cell_type": "code",
   "execution_count": 2,
   "id": "innovative-syndrome",
   "metadata": {
    "execution": {
     "iopub.execute_input": "2021-10-28T23:00:07.725625Z",
     "iopub.status.busy": "2021-10-28T23:00:07.723679Z",
     "iopub.status.idle": "2021-10-28T23:00:08.390078Z",
     "shell.execute_reply": "2021-10-28T23:00:08.391284Z"
    },
    "papermill": {
     "duration": 0.696111,
     "end_time": "2021-10-28T23:00:08.391677",
     "exception": false,
     "start_time": "2021-10-28T23:00:07.695566",
     "status": "completed"
    },
    "tags": []
   },
   "outputs": [],
   "source": [
    "timestamps = pd.read_sql(\"select distinct record_time from EBAY_TOP_BERLIN order by record_time desc limit 2\", sqlite3.connect(\"UsedObjects.db\"))"
   ]
  },
  {
   "cell_type": "code",
   "execution_count": 3,
   "id": "periodic-identification",
   "metadata": {
    "execution": {
     "iopub.execute_input": "2021-10-28T23:00:08.457023Z",
     "iopub.status.busy": "2021-10-28T23:00:08.454795Z",
     "iopub.status.idle": "2021-10-28T23:00:08.475355Z",
     "shell.execute_reply": "2021-10-28T23:00:08.476638Z"
    },
    "papermill": {
     "duration": 0.064435,
     "end_time": "2021-10-28T23:00:08.477101",
     "exception": false,
     "start_time": "2021-10-28T23:00:08.412666",
     "status": "completed"
    },
    "tags": []
   },
   "outputs": [
    {
     "data": {
      "text/html": [
       "<div>\n",
       "<style scoped>\n",
       "    .dataframe tbody tr th:only-of-type {\n",
       "        vertical-align: middle;\n",
       "    }\n",
       "\n",
       "    .dataframe tbody tr th {\n",
       "        vertical-align: top;\n",
       "    }\n",
       "\n",
       "    .dataframe thead th {\n",
       "        text-align: right;\n",
       "    }\n",
       "</style>\n",
       "<table border=\"1\" class=\"dataframe\">\n",
       "  <thead>\n",
       "    <tr style=\"text-align: right;\">\n",
       "      <th></th>\n",
       "      <th>RECORD_TIME</th>\n",
       "    </tr>\n",
       "  </thead>\n",
       "  <tbody>\n",
       "    <tr>\n",
       "      <th>0</th>\n",
       "      <td>2021-10-29 01:00</td>\n",
       "    </tr>\n",
       "    <tr>\n",
       "      <th>1</th>\n",
       "      <td>2021-10-29 00:30</td>\n",
       "    </tr>\n",
       "  </tbody>\n",
       "</table>\n",
       "</div>"
      ],
      "text/plain": [
       "        RECORD_TIME\n",
       "0  2021-10-29 01:00\n",
       "1  2021-10-29 00:30"
      ]
     },
     "execution_count": 3,
     "metadata": {},
     "output_type": "execute_result"
    }
   ],
   "source": [
    "timestamps"
   ]
  },
  {
   "cell_type": "code",
   "execution_count": 4,
   "id": "alternate-victory",
   "metadata": {
    "execution": {
     "iopub.execute_input": "2021-10-28T23:00:08.527932Z",
     "iopub.status.busy": "2021-10-28T23:00:08.526105Z",
     "iopub.status.idle": "2021-10-28T23:00:09.503343Z",
     "shell.execute_reply": "2021-10-28T23:00:09.504640Z"
    },
    "papermill": {
     "duration": 1.007153,
     "end_time": "2021-10-28T23:00:09.505113",
     "exception": false,
     "start_time": "2021-10-28T23:00:08.497960",
     "status": "completed"
    },
    "tags": []
   },
   "outputs": [],
   "source": [
    "df = pd.read_sql(\"select * from EBAY_TOP_BERLIN where record_time in (select distinct record_time from EBAY_TOP_BERLIN order by record_time desc limit 2)\", sqlite3.connect(\"UsedObjects.db\"))"
   ]
  },
  {
   "cell_type": "code",
   "execution_count": 5,
   "id": "popular-active",
   "metadata": {
    "execution": {
     "iopub.execute_input": "2021-10-28T23:00:09.570482Z",
     "iopub.status.busy": "2021-10-28T23:00:09.564152Z",
     "iopub.status.idle": "2021-10-28T23:00:09.591174Z",
     "shell.execute_reply": "2021-10-28T23:00:09.592386Z"
    },
    "papermill": {
     "duration": 0.067162,
     "end_time": "2021-10-28T23:00:09.592967",
     "exception": false,
     "start_time": "2021-10-28T23:00:09.525805",
     "status": "completed"
    },
    "tags": []
   },
   "outputs": [],
   "source": [
    "df_pivot = df.pivot_table(index=\"PRODUCT\", columns = \"RECORD_TIME\", values = \"LISTING_COUNT\")"
   ]
  },
  {
   "cell_type": "code",
   "execution_count": 6,
   "id": "union-huntington",
   "metadata": {
    "execution": {
     "iopub.execute_input": "2021-10-28T23:00:09.652113Z",
     "iopub.status.busy": "2021-10-28T23:00:09.649703Z",
     "iopub.status.idle": "2021-10-28T23:00:09.655531Z",
     "shell.execute_reply": "2021-10-28T23:00:09.657011Z"
    },
    "papermill": {
     "duration": 0.042399,
     "end_time": "2021-10-28T23:00:09.657488",
     "exception": false,
     "start_time": "2021-10-28T23:00:09.615089",
     "status": "completed"
    },
    "tags": []
   },
   "outputs": [],
   "source": [
    "df_pivot.columns = [\"stamp_1\", \"stamp_2\"]\n",
    "df_pivot_diff = df_pivot.diff(axis=1)"
   ]
  },
  {
   "cell_type": "code",
   "execution_count": 7,
   "id": "fifth-motion",
   "metadata": {
    "execution": {
     "iopub.execute_input": "2021-10-28T23:00:09.712152Z",
     "iopub.status.busy": "2021-10-28T23:00:09.709732Z",
     "iopub.status.idle": "2021-10-28T23:00:11.189315Z",
     "shell.execute_reply": "2021-10-28T23:00:11.190618Z"
    },
    "papermill": {
     "duration": 1.512193,
     "end_time": "2021-10-28T23:00:11.191038",
     "exception": false,
     "start_time": "2021-10-28T23:00:09.678845",
     "status": "completed"
    },
    "tags": []
   },
   "outputs": [
    {
     "data": {
      "text/plain": [
       "<AxesSubplot:ylabel='PRODUCT'>"
      ]
     },
     "execution_count": 7,
     "metadata": {},
     "output_type": "execute_result"
    },
    {
     "data": {
      "image/png": "[encoded data removed]",
      "text/plain": [
       "<Figure size 432x288 with 1 Axes>"
      ]
     },
     "metadata": {
      "needs_background": "light"
     },
     "output_type": "display_data"
    }
   ],
   "source": [
    "df_pivot_diff.sort_values(\"stamp_2\", ascending = False)[\"stamp_2\"].head(10).plot.barh()"
   ]
  },
  {
   "cell_type": "code",
   "execution_count": null,
   "id": "extra-executive",
   "metadata": {
    "papermill": {
     "duration": 0.022406,
     "end_time": "2021-10-28T23:00:11.237919",
     "exception": false,
     "start_time": "2021-10-28T23:00:11.215513",
     "status": "completed"
    },
    "tags": []
   },
   "outputs": [],
   "source": []
  }
 ],
 "metadata": {
  "kernelspec": {
   "display_name": "Python 3",
   "language": "python",
   "name": "python3"
  },
  "language_info": {
   "codemirror_mode": {
    "name": "ipython",
    "version": 3
   },
   "file_extension": ".py",
   "mimetype": "text/x-python",
   "name": "python",
   "nbconvert_exporter": "python",
   "pygments_lexer": "ipython3",
   "version": "3.9.5"
  },
  "papermill": {
   "default_parameters": {},
   "duration": 7.463076,
   "end_time": "2021-10-28T23:00:11.880487",
   "environment_variables": {},
   "exception": null,
   "input_path": "eBay_Overview.ipynb",
   "output_path": "eBay_Overview.ipynb",
   "parameters": {},
   "start_time": "2021-10-28T23:00:04.417411",
   "version": "2.3.3"
  }
 },
 "nbformat": 4,
 "nbformat_minor": 5
}