{
 "cells": [
  {
   "cell_type": "code",
   "execution_count": 1,
   "id": "reverse-picking",
   "metadata": {
    "execution": {
     "iopub.execute_input": "2021-09-27T23:00:06.888419Z",
     "iopub.status.busy": "2021-09-27T23:00:06.886402Z",
     "iopub.status.idle": "2021-09-27T23:00:07.698143Z",
     "shell.execute_reply": "2021-09-27T23:00:07.696577Z"
    },
    "papermill": {
     "duration": 0.861826,
     "end_time": "2021-09-27T23:00:07.698538",
     "exception": false,
     "start_time": "2021-09-27T23:00:06.836712",
     "status": "completed"
    },
    "tags": []
   },
   "outputs": [],
   "source": [
    "import pandas as pd\n",
    "import sqlite3"
   ]
  },
  {
   "cell_type": "code",
   "execution_count": 2,
   "id": "innovative-syndrome",
   "metadata": {
    "execution": {
     "iopub.execute_input": "2021-09-27T23:00:07.750946Z",
     "iopub.status.busy": "2021-09-27T23:00:07.748576Z",
     "iopub.status.idle": "2021-09-27T23:00:08.144666Z",
     "shell.execute_reply": "2021-09-27T23:00:08.145954Z"
    },
    "papermill": {
     "duration": 0.425899,
     "end_time": "2021-09-27T23:00:08.146366",
     "exception": false,
     "start_time": "2021-09-27T23:00:07.720467",
     "status": "completed"
    },
    "tags": []
   },
   "outputs": [],
   "source": [
    "timestamps = pd.read_sql(\"select distinct record_time from EBAY_TOP_BERLIN order by record_time desc limit 2\", sqlite3.connect(\"UsedObjects.db\"))"
   ]
  },
  {
   "cell_type": "code",
   "execution_count": 3,
   "id": "periodic-identification",
   "metadata": {
    "execution": {
     "iopub.execute_input": "2021-09-27T23:00:08.212575Z",
     "iopub.status.busy": "2021-09-27T23:00:08.210451Z",
     "iopub.status.idle": "2021-09-27T23:00:08.230429Z",
     "shell.execute_reply": "2021-09-27T23:00:08.231874Z"
    },
    "papermill": {
     "duration": 0.066641,
     "end_time": "2021-09-27T23:00:08.232316",
     "exception": false,
     "start_time": "2021-09-27T23:00:08.165675",
     "status": "completed"
    },
    "tags": []
   },
   "outputs": [
    {
     "data": {
      "text/html": [
       "<div>\n",
       "<style scoped>\n",
       "    .dataframe tbody tr th:only-of-type {\n",
       "        vertical-align: middle;\n",
       "    }\n",
       "\n",
       "    .dataframe tbody tr th {\n",
       "        vertical-align: top;\n",
       "    }\n",
       "\n",
       "    .dataframe thead th {\n",
       "        text-align: right;\n",
       "    }\n",
       "</style>\n",
       "<table border=\"1\" class=\"dataframe\">\n",
       "  <thead>\n",
       "    <tr style=\"text-align: right;\">\n",
       "      <th></th>\n",
       "      <th>RECORD_TIME</th>\n",
       "    </tr>\n",
       "  </thead>\n",
       "  <tbody>\n",
       "    <tr>\n",
       "      <th>0</th>\n",
       "      <td>2021-09-28 01:00</td>\n",
       "    </tr>\n",
       "    <tr>\n",
       "      <th>1</th>\n",
       "      <td>2021-09-28 00:30</td>\n",
       "    </tr>\n",
       "  </tbody>\n",
       "</table>\n",
       "</div>"
      ],
      "text/plain": [
       "        RECORD_TIME\n",
       "0  2021-09-28 01:00\n",
       "1  2021-09-28 00:30"
      ]
     },
     "execution_count": 3,
     "metadata": {},
     "output_type": "execute_result"
    }
   ],
   "source": [
    "timestamps"
   ]
  },
  {
   "cell_type": "code",
   "execution_count": 4,
   "id": "alternate-victory",
   "metadata": {
    "execution": {
     "iopub.execute_input": "2021-09-27T23:00:08.283695Z",
     "iopub.status.busy": "2021-09-27T23:00:08.281722Z",
     "iopub.status.idle": "2021-09-27T23:00:08.870141Z",
     "shell.execute_reply": "2021-09-27T23:00:08.872205Z"
    },
    "papermill": {
     "duration": 0.619177,
     "end_time": "2021-09-27T23:00:08.872775",
     "exception": false,
     "start_time": "2021-09-27T23:00:08.253598",
     "status": "completed"
    },
    "tags": []
   },
   "outputs": [],
   "source": [
    "df = pd.read_sql(\"select * from EBAY_TOP_BERLIN where record_time in (select distinct record_time from EBAY_TOP_BERLIN order by record_time desc limit 2)\", sqlite3.connect(\"UsedObjects.db\"))"
   ]
  },
  {
   "cell_type": "code",
   "execution_count": 5,
   "id": "popular-active",
   "metadata": {
    "execution": {
     "iopub.execute_input": "2021-09-27T23:00:08.943342Z",
     "iopub.status.busy": "2021-09-27T23:00:08.931799Z",
     "iopub.status.idle": "2021-09-27T23:00:08.959954Z",
     "shell.execute_reply": "2021-09-27T23:00:08.961176Z"
    },
    "papermill": {
     "duration": 0.068751,
     "end_time": "2021-09-27T23:00:08.961570",
     "exception": false,
     "start_time": "2021-09-27T23:00:08.892819",
     "status": "completed"
    },
    "tags": []
   },
   "outputs": [],
   "source": [
    "df_pivot = df.pivot_table(index=\"PRODUCT\", columns = \"RECORD_TIME\", values = \"LISTING_COUNT\")"
   ]
  },
  {
   "cell_type": "code",
   "execution_count": 6,
   "id": "union-huntington",
   "metadata": {
    "execution": {
     "iopub.execute_input": "2021-09-27T23:00:09.021518Z",
     "iopub.status.busy": "2021-09-27T23:00:09.019061Z",
     "iopub.status.idle": "2021-09-27T23:00:09.024928Z",
     "shell.execute_reply": "2021-09-27T23:00:09.026210Z"
    },
    "papermill": {
     "duration": 0.042095,
     "end_time": "2021-09-27T23:00:09.026627",
     "exception": false,
     "start_time": "2021-09-27T23:00:08.984532",
     "status": "completed"
    },
    "tags": []
   },
   "outputs": [],
   "source": [
    "df_pivot.columns = [\"stamp_1\", \"stamp_2\"]\n",
    "df_pivot_diff = df_pivot.diff(axis=1)"
   ]
  },
  {
   "cell_type": "code",
   "execution_count": 7,
   "id": "fifth-motion",
   "metadata": {
    "execution": {
     "iopub.execute_input": "2021-09-27T23:00:09.080711Z",
     "iopub.status.busy": "2021-09-27T23:00:09.078220Z",
     "iopub.status.idle": "2021-09-27T23:00:10.582500Z",
     "shell.execute_reply": "2021-09-27T23:00:10.580987Z"
    },
    "papermill": {
     "duration": 1.535739,
     "end_time": "2021-09-27T23:00:10.582935",
     "exception": false,
     "start_time": "2021-09-27T23:00:09.047196",
     "status": "completed"
    },
    "tags": []
   },
   "outputs": [
    {
     "data": {
      "text/plain": [
       "<AxesSubplot:ylabel='PRODUCT'>"
      ]
     },
     "execution_count": 7,
     "metadata": {},
     "output_type": "execute_result"
    },
    {
     "data": {
      "image/png": "[encoded data removed]",
      "text/plain": [
       "<Figure size 432x288 with 1 Axes>"
      ]
     },
     "metadata": {
      "needs_background": "light"
     },
     "output_type": "display_data"
    }
   ],
   "source": [
    "df_pivot_diff.sort_values(\"stamp_2\", ascending = False)[\"stamp_2\"].head(10).plot.barh()"
   ]
  },
  {
   "cell_type": "code",
   "execution_count": null,
   "id": "extra-executive",
   "metadata": {
    "papermill": {
     "duration": 0.022168,
     "end_time": "2021-09-27T23:00:10.629848",
     "exception": false,
     "start_time": "2021-09-27T23:00:10.607680",
     "status": "completed"
    },
    "tags": []
   },
   "outputs": [],
   "source": []
  }
 ],
 "metadata": {
  "kernelspec": {
   "display_name": "Python 3",
   "language": "python",
   "name": "python3"
  },
  "language_info": {
   "codemirror_mode": {
    "name": "ipython",
    "version": 3
   },
   "file_extension": ".py",
   "mimetype": "text/x-python",
   "name": "python",
   "nbconvert_exporter": "python",
   "pygments_lexer": "ipython3",
   "version": "3.9.5"
  },
  "papermill": {
   "default_parameters": {},
   "duration": 7.833603,
   "end_time": "2021-09-27T23:00:12.257544",
   "environment_variables": {},
   "exception": null,
   "input_path": "eBay_Overview.ipynb",
   "output_path": "eBay_Overview.ipynb",
   "parameters": {},
   "start_time": "2021-09-27T23:00:04.423941",
   "version": "2.3.3"
  }
 },
 "nbformat": 4,
 "nbformat_minor": 5
}