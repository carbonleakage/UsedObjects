{
 "cells": [
  {
   "cell_type": "code",
   "execution_count": 1,
   "id": "reverse-picking",
   "metadata": {
    "execution": {
     "iopub.execute_input": "2021-11-17T16:00:07.447045Z",
     "iopub.status.busy": "2021-11-17T16:00:07.444785Z",
     "iopub.status.idle": "2021-11-17T16:00:08.394010Z",
     "shell.execute_reply": "2021-11-17T16:00:08.395429Z"
    },
    "papermill": {
     "duration": 0.997424,
     "end_time": "2021-11-17T16:00:08.396128",
     "exception": false,
     "start_time": "2021-11-17T16:00:07.398704",
     "status": "completed"
    },
    "tags": []
   },
   "outputs": [],
   "source": [
    "import pandas as pd\n",
    "import sqlite3"
   ]
  },
  {
   "cell_type": "code",
   "execution_count": 2,
   "id": "innovative-syndrome",
   "metadata": {
    "execution": {
     "iopub.execute_input": "2021-11-17T16:00:08.453344Z",
     "iopub.status.busy": "2021-11-17T16:00:08.451034Z",
     "iopub.status.idle": "2021-11-17T16:00:09.288677Z",
     "shell.execute_reply": "2021-11-17T16:00:09.290523Z"
    },
    "papermill": {
     "duration": 0.873894,
     "end_time": "2021-11-17T16:00:09.291048",
     "exception": false,
     "start_time": "2021-11-17T16:00:08.417154",
     "status": "completed"
    },
    "tags": []
   },
   "outputs": [],
   "source": [
    "timestamps = pd.read_sql(\"select distinct record_time from EBAY_TOP_BERLIN order by record_time desc limit 2\", sqlite3.connect(\"UsedObjects.db\"))"
   ]
  },
  {
   "cell_type": "code",
   "execution_count": 3,
   "id": "periodic-identification",
   "metadata": {
    "execution": {
     "iopub.execute_input": "2021-11-17T16:00:09.366120Z",
     "iopub.status.busy": "2021-11-17T16:00:09.360086Z",
     "iopub.status.idle": "2021-11-17T16:00:09.382694Z",
     "shell.execute_reply": "2021-11-17T16:00:09.384244Z"
    },
    "papermill": {
     "duration": 0.073074,
     "end_time": "2021-11-17T16:00:09.384814",
     "exception": false,
     "start_time": "2021-11-17T16:00:09.311740",
     "status": "completed"
    },
    "tags": []
   },
   "outputs": [
    {
     "data": {
      "text/html": [
       "<div>\n",
       "<style scoped>\n",
       "    .dataframe tbody tr th:only-of-type {\n",
       "        vertical-align: middle;\n",
       "    }\n",
       "\n",
       "    .dataframe tbody tr th {\n",
       "        vertical-align: top;\n",
       "    }\n",
       "\n",
       "    .dataframe thead th {\n",
       "        text-align: right;\n",
       "    }\n",
       "</style>\n",
       "<table border=\"1\" class=\"dataframe\">\n",
       "  <thead>\n",
       "    <tr style=\"text-align: right;\">\n",
       "      <th></th>\n",
       "      <th>RECORD_TIME</th>\n",
       "    </tr>\n",
       "  </thead>\n",
       "  <tbody>\n",
       "    <tr>\n",
       "      <th>0</th>\n",
       "      <td>2021-11-17 17:00</td>\n",
       "    </tr>\n",
       "    <tr>\n",
       "      <th>1</th>\n",
       "      <td>2021-11-17 16:30</td>\n",
       "    </tr>\n",
       "  </tbody>\n",
       "</table>\n",
       "</div>"
      ],
      "text/plain": [
       "        RECORD_TIME\n",
       "0  2021-11-17 17:00\n",
       "1  2021-11-17 16:30"
      ]
     },
     "execution_count": 3,
     "metadata": {},
     "output_type": "execute_result"
    }
   ],
   "source": [
    "timestamps"
   ]
  },
  {
   "cell_type": "code",
   "execution_count": 4,
   "id": "alternate-victory",
   "metadata": {
    "execution": {
     "iopub.execute_input": "2021-11-17T16:00:09.440345Z",
     "iopub.status.busy": "2021-11-17T16:00:09.438158Z",
     "iopub.status.idle": "2021-11-17T16:00:10.633088Z",
     "shell.execute_reply": "2021-11-17T16:00:10.634547Z"
    },
    "papermill": {
     "duration": 1.228744,
     "end_time": "2021-11-17T16:00:10.635018",
     "exception": false,
     "start_time": "2021-11-17T16:00:09.406274",
     "status": "completed"
    },
    "tags": []
   },
   "outputs": [],
   "source": [
    "df = pd.read_sql(\"select * from EBAY_TOP_BERLIN where record_time in (select distinct record_time from EBAY_TOP_BERLIN order by record_time desc limit 2)\", sqlite3.connect(\"UsedObjects.db\"))"
   ]
  },
  {
   "cell_type": "code",
   "execution_count": 5,
   "id": "popular-active",
   "metadata": {
    "execution": {
     "iopub.execute_input": "2021-11-17T16:00:10.712777Z",
     "iopub.status.busy": "2021-11-17T16:00:10.700306Z",
     "iopub.status.idle": "2021-11-17T16:00:10.732340Z",
     "shell.execute_reply": "2021-11-17T16:00:10.730844Z"
    },
    "papermill": {
     "duration": 0.074843,
     "end_time": "2021-11-17T16:00:10.732770",
     "exception": false,
     "start_time": "2021-11-17T16:00:10.657927",
     "status": "completed"
    },
    "tags": []
   },
   "outputs": [],
   "source": [
    "df_pivot = df.pivot_table(index=\"PRODUCT\", columns = \"RECORD_TIME\", values = \"LISTING_COUNT\")"
   ]
  },
  {
   "cell_type": "code",
   "execution_count": 6,
   "id": "union-huntington",
   "metadata": {
    "execution": {
     "iopub.execute_input": "2021-11-17T16:00:10.788787Z",
     "iopub.status.busy": "2021-11-17T16:00:10.786604Z",
     "iopub.status.idle": "2021-11-17T16:00:10.791807Z",
     "shell.execute_reply": "2021-11-17T16:00:10.793194Z"
    },
    "papermill": {
     "duration": 0.040861,
     "end_time": "2021-11-17T16:00:10.793627",
     "exception": false,
     "start_time": "2021-11-17T16:00:10.752766",
     "status": "completed"
    },
    "tags": []
   },
   "outputs": [],
   "source": [
    "df_pivot.columns = [\"stamp_1\", \"stamp_2\"]\n",
    "df_pivot_diff = df_pivot.diff(axis=1)"
   ]
  },
  {
   "cell_type": "code",
   "execution_count": 7,
   "id": "fifth-motion",
   "metadata": {
    "execution": {
     "iopub.execute_input": "2021-11-17T16:00:10.849089Z",
     "iopub.status.busy": "2021-11-17T16:00:10.846402Z",
     "iopub.status.idle": "2021-11-17T16:00:12.593779Z",
     "shell.execute_reply": "2021-11-17T16:00:12.591687Z"
    },
    "papermill": {
     "duration": 1.778694,
     "end_time": "2021-11-17T16:00:12.594277",
     "exception": false,
     "start_time": "2021-11-17T16:00:10.815583",
     "status": "completed"
    },
    "tags": []
   },
   "outputs": [
    {
     "data": {
      "text/plain": [
       "<AxesSubplot:ylabel='PRODUCT'>"
      ]
     },
     "execution_count": 7,
     "metadata": {},
     "output_type": "execute_result"
    },
    {
     "data": {
      "image/png": "[encoded data removed]",
      "text/plain": [
       "<Figure size 432x288 with 1 Axes>"
      ]
     },
     "metadata": {
      "needs_background": "light"
     },
     "output_type": "display_data"
    }
   ],
   "source": [
    "df_pivot_diff.sort_values(\"stamp_2\", ascending = False)[\"stamp_2\"].head(10).plot.barh()"
   ]
  },
  {
   "cell_type": "code",
   "execution_count": null,
   "id": "extra-executive",
   "metadata": {
    "papermill": {
     "duration": 0.024037,
     "end_time": "2021-11-17T16:00:12.643236",
     "exception": false,
     "start_time": "2021-11-17T16:00:12.619199",
     "status": "completed"
    },
    "tags": []
   },
   "outputs": [],
   "source": []
  }
 ],
 "metadata": {
  "kernelspec": {
   "display_name": "Python 3",
   "language": "python",
   "name": "python3"
  },
  "language_info": {
   "codemirror_mode": {
    "name": "ipython",
    "version": 3
   },
   "file_extension": ".py",
   "mimetype": "text/x-python",
   "name": "python",
   "nbconvert_exporter": "python",
   "pygments_lexer": "ipython3",
   "version": "3.9.5"
  },
  "papermill": {
   "default_parameters": {},
   "duration": 8.726671,
   "end_time": "2021-11-17T16:00:13.386958",
   "environment_variables": {},
   "exception": null,
   "input_path": "eBay_Overview.ipynb",
   "output_path": "eBay_Overview.ipynb",
   "parameters": {},
   "start_time": "2021-11-17T16:00:04.660287",
   "version": "2.3.3"
  }
 },
 "nbformat": 4,
 "nbformat_minor": 5
}