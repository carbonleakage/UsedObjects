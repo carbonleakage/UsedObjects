{
 "cells": [
  {
   "cell_type": "code",
   "execution_count": 1,
   "id": "reverse-picking",
   "metadata": {
    "execution": {
     "iopub.execute_input": "2021-10-19T16:30:07.270653Z",
     "iopub.status.busy": "2021-10-19T16:30:07.268538Z",
     "iopub.status.idle": "2021-10-19T16:30:08.075451Z",
     "shell.execute_reply": "2021-10-19T16:30:08.076892Z"
    },
    "papermill": {
     "duration": 0.857614,
     "end_time": "2021-10-19T16:30:08.077541",
     "exception": false,
     "start_time": "2021-10-19T16:30:07.219927",
     "status": "completed"
    },
    "tags": []
   },
   "outputs": [],
   "source": [
    "import pandas as pd\n",
    "import sqlite3"
   ]
  },
  {
   "cell_type": "code",
   "execution_count": 2,
   "id": "innovative-syndrome",
   "metadata": {
    "execution": {
     "iopub.execute_input": "2021-10-19T16:30:08.130042Z",
     "iopub.status.busy": "2021-10-19T16:30:08.127660Z",
     "iopub.status.idle": "2021-10-19T16:30:08.704480Z",
     "shell.execute_reply": "2021-10-19T16:30:08.705855Z"
    },
    "papermill": {
     "duration": 0.606636,
     "end_time": "2021-10-19T16:30:08.706282",
     "exception": false,
     "start_time": "2021-10-19T16:30:08.099646",
     "status": "completed"
    },
    "tags": []
   },
   "outputs": [],
   "source": [
    "timestamps = pd.read_sql(\"select distinct record_time from EBAY_TOP_BERLIN order by record_time desc limit 2\", sqlite3.connect(\"UsedObjects.db\"))"
   ]
  },
  {
   "cell_type": "code",
   "execution_count": 3,
   "id": "periodic-identification",
   "metadata": {
    "execution": {
     "iopub.execute_input": "2021-10-19T16:30:08.779745Z",
     "iopub.status.busy": "2021-10-19T16:30:08.777738Z",
     "iopub.status.idle": "2021-10-19T16:30:08.797578Z",
     "shell.execute_reply": "2021-10-19T16:30:08.798922Z"
    },
    "papermill": {
     "duration": 0.06794,
     "end_time": "2021-10-19T16:30:08.799344",
     "exception": false,
     "start_time": "2021-10-19T16:30:08.731404",
     "status": "completed"
    },
    "tags": []
   },
   "outputs": [
    {
     "data": {
      "text/html": [
       "<div>\n",
       "<style scoped>\n",
       "    .dataframe tbody tr th:only-of-type {\n",
       "        vertical-align: middle;\n",
       "    }\n",
       "\n",
       "    .dataframe tbody tr th {\n",
       "        vertical-align: top;\n",
       "    }\n",
       "\n",
       "    .dataframe thead th {\n",
       "        text-align: right;\n",
       "    }\n",
       "</style>\n",
       "<table border=\"1\" class=\"dataframe\">\n",
       "  <thead>\n",
       "    <tr style=\"text-align: right;\">\n",
       "      <th></th>\n",
       "      <th>RECORD_TIME</th>\n",
       "    </tr>\n",
       "  </thead>\n",
       "  <tbody>\n",
       "    <tr>\n",
       "      <th>0</th>\n",
       "      <td>2021-10-19 18:30</td>\n",
       "    </tr>\n",
       "    <tr>\n",
       "      <th>1</th>\n",
       "      <td>2021-10-19 18:00</td>\n",
       "    </tr>\n",
       "  </tbody>\n",
       "</table>\n",
       "</div>"
      ],
      "text/plain": [
       "        RECORD_TIME\n",
       "0  2021-10-19 18:30\n",
       "1  2021-10-19 18:00"
      ]
     },
     "execution_count": 3,
     "metadata": {},
     "output_type": "execute_result"
    }
   ],
   "source": [
    "timestamps"
   ]
  },
  {
   "cell_type": "code",
   "execution_count": 4,
   "id": "alternate-victory",
   "metadata": {
    "execution": {
     "iopub.execute_input": "2021-10-19T16:30:08.850636Z",
     "iopub.status.busy": "2021-10-19T16:30:08.848370Z",
     "iopub.status.idle": "2021-10-19T16:30:09.682458Z",
     "shell.execute_reply": "2021-10-19T16:30:09.683762Z"
    },
    "papermill": {
     "duration": 0.863959,
     "end_time": "2021-10-19T16:30:09.684213",
     "exception": false,
     "start_time": "2021-10-19T16:30:08.820254",
     "status": "completed"
    },
    "tags": []
   },
   "outputs": [],
   "source": [
    "df = pd.read_sql(\"select * from EBAY_TOP_BERLIN where record_time in (select distinct record_time from EBAY_TOP_BERLIN order by record_time desc limit 2)\", sqlite3.connect(\"UsedObjects.db\"))"
   ]
  },
  {
   "cell_type": "code",
   "execution_count": 5,
   "id": "popular-active",
   "metadata": {
    "execution": {
     "iopub.execute_input": "2021-10-19T16:30:09.752144Z",
     "iopub.status.busy": "2021-10-19T16:30:09.740781Z",
     "iopub.status.idle": "2021-10-19T16:30:09.768780Z",
     "shell.execute_reply": "2021-10-19T16:30:09.770200Z"
    },
    "papermill": {
     "duration": 0.066736,
     "end_time": "2021-10-19T16:30:09.770637",
     "exception": false,
     "start_time": "2021-10-19T16:30:09.703901",
     "status": "completed"
    },
    "tags": []
   },
   "outputs": [],
   "source": [
    "df_pivot = df.pivot_table(index=\"PRODUCT\", columns = \"RECORD_TIME\", values = \"LISTING_COUNT\")"
   ]
  },
  {
   "cell_type": "code",
   "execution_count": 6,
   "id": "union-huntington",
   "metadata": {
    "execution": {
     "iopub.execute_input": "2021-10-19T16:30:09.827880Z",
     "iopub.status.busy": "2021-10-19T16:30:09.825437Z",
     "iopub.status.idle": "2021-10-19T16:30:09.831059Z",
     "shell.execute_reply": "2021-10-19T16:30:09.832358Z"
    },
    "papermill": {
     "duration": 0.041792,
     "end_time": "2021-10-19T16:30:09.832838",
     "exception": false,
     "start_time": "2021-10-19T16:30:09.791046",
     "status": "completed"
    },
    "tags": []
   },
   "outputs": [],
   "source": [
    "df_pivot.columns = [\"stamp_1\", \"stamp_2\"]\n",
    "df_pivot_diff = df_pivot.diff(axis=1)"
   ]
  },
  {
   "cell_type": "code",
   "execution_count": 7,
   "id": "fifth-motion",
   "metadata": {
    "execution": {
     "iopub.execute_input": "2021-10-19T16:30:09.886826Z",
     "iopub.status.busy": "2021-10-19T16:30:09.884475Z",
     "iopub.status.idle": "2021-10-19T16:30:11.347379Z",
     "shell.execute_reply": "2021-10-19T16:30:11.348676Z"
    },
    "papermill": {
     "duration": 1.495943,
     "end_time": "2021-10-19T16:30:11.349156",
     "exception": false,
     "start_time": "2021-10-19T16:30:09.853213",
     "status": "completed"
    },
    "tags": []
   },
   "outputs": [
    {
     "data": {
      "text/plain": [
       "<AxesSubplot:ylabel='PRODUCT'>"
      ]
     },
     "execution_count": 7,
     "metadata": {},
     "output_type": "execute_result"
    },
    {
     "data": {
      "image/png": "[encoded data removed]",
      "text/plain": [
       "<Figure size 432x288 with 1 Axes>"
      ]
     },
     "metadata": {
      "needs_background": "light"
     },
     "output_type": "display_data"
    }
   ],
   "source": [
    "df_pivot_diff.sort_values(\"stamp_2\", ascending = False)[\"stamp_2\"].head(10).plot.barh()"
   ]
  },
  {
   "cell_type": "code",
   "execution_count": null,
   "id": "extra-executive",
   "metadata": {
    "papermill": {
     "duration": 0.021846,
     "end_time": "2021-10-19T16:30:11.395545",
     "exception": false,
     "start_time": "2021-10-19T16:30:11.373699",
     "status": "completed"
    },
    "tags": []
   },
   "outputs": [],
   "source": []
  }
 ],
 "metadata": {
  "kernelspec": {
   "display_name": "Python 3",
   "language": "python",
   "name": "python3"
  },
  "language_info": {
   "codemirror_mode": {
    "name": "ipython",
    "version": 3
   },
   "file_extension": ".py",
   "mimetype": "text/x-python",
   "name": "python",
   "nbconvert_exporter": "python",
   "pygments_lexer": "ipython3",
   "version": "3.9.5"
  },
  "papermill": {
   "default_parameters": {},
   "duration": 7.820503,
   "end_time": "2021-10-19T16:30:12.638275",
   "environment_variables": {},
   "exception": null,
   "input_path": "eBay_Overview.ipynb",
   "output_path": "eBay_Overview.ipynb",
   "parameters": {},
   "start_time": "2021-10-19T16:30:04.817772",
   "version": "2.3.3"
  }
 },
 "nbformat": 4,
 "nbformat_minor": 5
}