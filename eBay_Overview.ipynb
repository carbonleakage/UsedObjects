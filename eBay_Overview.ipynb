{
 "cells": [
  {
   "cell_type": "code",
   "execution_count": 1,
   "id": "reverse-picking",
   "metadata": {
    "execution": {
     "iopub.execute_input": "2021-11-14T11:00:08.352418Z",
     "iopub.status.busy": "2021-11-14T11:00:08.334216Z",
     "iopub.status.idle": "2021-11-14T11:00:09.311158Z",
     "shell.execute_reply": "2021-11-14T11:00:09.312859Z"
    },
    "papermill": {
     "duration": 1.023193,
     "end_time": "2021-11-14T11:00:09.313495",
     "exception": false,
     "start_time": "2021-11-14T11:00:08.290302",
     "status": "completed"
    },
    "tags": []
   },
   "outputs": [],
   "source": [
    "import pandas as pd\n",
    "import sqlite3"
   ]
  },
  {
   "cell_type": "code",
   "execution_count": 2,
   "id": "innovative-syndrome",
   "metadata": {
    "execution": {
     "iopub.execute_input": "2021-11-14T11:00:09.364828Z",
     "iopub.status.busy": "2021-11-14T11:00:09.362470Z",
     "iopub.status.idle": "2021-11-14T11:00:10.179522Z",
     "shell.execute_reply": "2021-11-14T11:00:10.181230Z"
    },
    "papermill": {
     "duration": 0.847754,
     "end_time": "2021-11-14T11:00:10.181730",
     "exception": false,
     "start_time": "2021-11-14T11:00:09.333976",
     "status": "completed"
    },
    "tags": []
   },
   "outputs": [],
   "source": [
    "timestamps = pd.read_sql(\"select distinct record_time from EBAY_TOP_BERLIN order by record_time desc limit 2\", sqlite3.connect(\"UsedObjects.db\"))"
   ]
  },
  {
   "cell_type": "code",
   "execution_count": 3,
   "id": "periodic-identification",
   "metadata": {
    "execution": {
     "iopub.execute_input": "2021-11-14T11:00:10.252360Z",
     "iopub.status.busy": "2021-11-14T11:00:10.246978Z",
     "iopub.status.idle": "2021-11-14T11:00:10.268488Z",
     "shell.execute_reply": "2021-11-14T11:00:10.269969Z"
    },
    "papermill": {
     "duration": 0.069022,
     "end_time": "2021-11-14T11:00:10.270437",
     "exception": false,
     "start_time": "2021-11-14T11:00:10.201415",
     "status": "completed"
    },
    "tags": []
   },
   "outputs": [
    {
     "data": {
      "text/html": [
       "<div>\n",
       "<style scoped>\n",
       "    .dataframe tbody tr th:only-of-type {\n",
       "        vertical-align: middle;\n",
       "    }\n",
       "\n",
       "    .dataframe tbody tr th {\n",
       "        vertical-align: top;\n",
       "    }\n",
       "\n",
       "    .dataframe thead th {\n",
       "        text-align: right;\n",
       "    }\n",
       "</style>\n",
       "<table border=\"1\" class=\"dataframe\">\n",
       "  <thead>\n",
       "    <tr style=\"text-align: right;\">\n",
       "      <th></th>\n",
       "      <th>RECORD_TIME</th>\n",
       "    </tr>\n",
       "  </thead>\n",
       "  <tbody>\n",
       "    <tr>\n",
       "      <th>0</th>\n",
       "      <td>2021-11-14 12:00</td>\n",
       "    </tr>\n",
       "    <tr>\n",
       "      <th>1</th>\n",
       "      <td>2021-11-14 11:30</td>\n",
       "    </tr>\n",
       "  </tbody>\n",
       "</table>\n",
       "</div>"
      ],
      "text/plain": [
       "        RECORD_TIME\n",
       "0  2021-11-14 12:00\n",
       "1  2021-11-14 11:30"
      ]
     },
     "execution_count": 3,
     "metadata": {},
     "output_type": "execute_result"
    }
   ],
   "source": [
    "timestamps"
   ]
  },
  {
   "cell_type": "code",
   "execution_count": 4,
   "id": "alternate-victory",
   "metadata": {
    "execution": {
     "iopub.execute_input": "2021-11-14T11:00:10.328822Z",
     "iopub.status.busy": "2021-11-14T11:00:10.326014Z",
     "iopub.status.idle": "2021-11-14T11:00:11.512891Z",
     "shell.execute_reply": "2021-11-14T11:00:11.514303Z"
    },
    "papermill": {
     "duration": 1.223227,
     "end_time": "2021-11-14T11:00:11.514747",
     "exception": false,
     "start_time": "2021-11-14T11:00:10.291520",
     "status": "completed"
    },
    "tags": []
   },
   "outputs": [],
   "source": [
    "df = pd.read_sql(\"select * from EBAY_TOP_BERLIN where record_time in (select distinct record_time from EBAY_TOP_BERLIN order by record_time desc limit 2)\", sqlite3.connect(\"UsedObjects.db\"))"
   ]
  },
  {
   "cell_type": "code",
   "execution_count": 5,
   "id": "popular-active",
   "metadata": {
    "execution": {
     "iopub.execute_input": "2021-11-14T11:00:11.581142Z",
     "iopub.status.busy": "2021-11-14T11:00:11.578670Z",
     "iopub.status.idle": "2021-11-14T11:00:11.613030Z",
     "shell.execute_reply": "2021-11-14T11:00:11.614628Z"
    },
    "papermill": {
     "duration": 0.077883,
     "end_time": "2021-11-14T11:00:11.615077",
     "exception": false,
     "start_time": "2021-11-14T11:00:11.537194",
     "status": "completed"
    },
    "tags": []
   },
   "outputs": [],
   "source": [
    "df_pivot = df.pivot_table(index=\"PRODUCT\", columns = \"RECORD_TIME\", values = \"LISTING_COUNT\")"
   ]
  },
  {
   "cell_type": "code",
   "execution_count": 6,
   "id": "union-huntington",
   "metadata": {
    "execution": {
     "iopub.execute_input": "2021-11-14T11:00:11.673401Z",
     "iopub.status.busy": "2021-11-14T11:00:11.671088Z",
     "iopub.status.idle": "2021-11-14T11:00:11.676764Z",
     "shell.execute_reply": "2021-11-14T11:00:11.678264Z"
    },
    "papermill": {
     "duration": 0.04374,
     "end_time": "2021-11-14T11:00:11.678731",
     "exception": false,
     "start_time": "2021-11-14T11:00:11.634991",
     "status": "completed"
    },
    "tags": []
   },
   "outputs": [],
   "source": [
    "df_pivot.columns = [\"stamp_1\", \"stamp_2\"]\n",
    "df_pivot_diff = df_pivot.diff(axis=1)"
   ]
  },
  {
   "cell_type": "code",
   "execution_count": 7,
   "id": "fifth-motion",
   "metadata": {
    "execution": {
     "iopub.execute_input": "2021-11-14T11:00:11.735873Z",
     "iopub.status.busy": "2021-11-14T11:00:11.733376Z",
     "iopub.status.idle": "2021-11-14T11:00:13.676014Z",
     "shell.execute_reply": "2021-11-14T11:00:13.677671Z"
    },
    "papermill": {
     "duration": 1.978641,
     "end_time": "2021-11-14T11:00:13.678131",
     "exception": false,
     "start_time": "2021-11-14T11:00:11.699490",
     "status": "completed"
    },
    "tags": []
   },
   "outputs": [
    {
     "data": {
      "text/plain": [
       "<AxesSubplot:ylabel='PRODUCT'>"
      ]
     },
     "execution_count": 7,
     "metadata": {},
     "output_type": "execute_result"
    },
    {
     "data": {
      "image/png": "[encoded data removed]",
      "text/plain": [
       "<Figure size 432x288 with 1 Axes>"
      ]
     },
     "metadata": {
      "needs_background": "light"
     },
     "output_type": "display_data"
    }
   ],
   "source": [
    "df_pivot_diff.sort_values(\"stamp_2\", ascending = False)[\"stamp_2\"].head(10).plot.barh()"
   ]
  },
  {
   "cell_type": "code",
   "execution_count": null,
   "id": "extra-executive",
   "metadata": {
    "papermill": {
     "duration": 0.022004,
     "end_time": "2021-11-14T11:00:13.726524",
     "exception": false,
     "start_time": "2021-11-14T11:00:13.704520",
     "status": "completed"
    },
    "tags": []
   },
   "outputs": [],
   "source": []
  }
 ],
 "metadata": {
  "kernelspec": {
   "display_name": "Python 3",
   "language": "python",
   "name": "python3"
  },
  "language_info": {
   "codemirror_mode": {
    "name": "ipython",
    "version": 3
   },
   "file_extension": ".py",
   "mimetype": "text/x-python",
   "name": "python",
   "nbconvert_exporter": "python",
   "pygments_lexer": "ipython3",
   "version": "3.9.5"
  },
  "papermill": {
   "default_parameters": {},
   "duration": 8.850424,
   "end_time": "2021-11-14T11:00:14.377788",
   "environment_variables": {},
   "exception": null,
   "input_path": "eBay_Overview.ipynb",
   "output_path": "eBay_Overview.ipynb",
   "parameters": {},
   "start_time": "2021-11-14T11:00:05.527364",
   "version": "2.3.3"
  }
 },
 "nbformat": 4,
 "nbformat_minor": 5
}