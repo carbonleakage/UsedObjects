{
 "cells": [
  {
   "cell_type": "code",
   "execution_count": 1,
   "id": "reverse-picking",
   "metadata": {
    "execution": {
     "iopub.execute_input": "2021-08-17T20:30:06.880703Z",
     "iopub.status.busy": "2021-08-17T20:30:06.878752Z",
     "iopub.status.idle": "2021-08-17T20:30:07.687173Z",
     "shell.execute_reply": "2021-08-17T20:30:07.688437Z"
    },
    "papermill": {
     "duration": 0.859815,
     "end_time": "2021-08-17T20:30:07.689052",
     "exception": false,
     "start_time": "2021-08-17T20:30:06.829237",
     "status": "completed"
    },
    "tags": []
   },
   "outputs": [],
   "source": [
    "import pandas as pd\n",
    "import sqlite3"
   ]
  },
  {
   "cell_type": "code",
   "execution_count": 2,
   "id": "innovative-syndrome",
   "metadata": {
    "execution": {
     "iopub.execute_input": "2021-08-17T20:30:07.742243Z",
     "iopub.status.busy": "2021-08-17T20:30:07.739860Z",
     "iopub.status.idle": "2021-08-17T20:30:07.812010Z",
     "shell.execute_reply": "2021-08-17T20:30:07.813282Z"
    },
    "papermill": {
     "duration": 0.102311,
     "end_time": "2021-08-17T20:30:07.813689",
     "exception": false,
     "start_time": "2021-08-17T20:30:07.711378",
     "status": "completed"
    },
    "tags": []
   },
   "outputs": [],
   "source": [
    "timestamps = pd.read_sql(\"select distinct record_time from EBAY_TOP_BERLIN order by record_time desc limit 2\", sqlite3.connect(\"UsedObjects.db\"))"
   ]
  },
  {
   "cell_type": "code",
   "execution_count": 3,
   "id": "periodic-identification",
   "metadata": {
    "execution": {
     "iopub.execute_input": "2021-08-17T20:30:07.878464Z",
     "iopub.status.busy": "2021-08-17T20:30:07.876338Z",
     "iopub.status.idle": "2021-08-17T20:30:07.896516Z",
     "shell.execute_reply": "2021-08-17T20:30:07.897707Z"
    },
    "papermill": {
     "duration": 0.064131,
     "end_time": "2021-08-17T20:30:07.898194",
     "exception": false,
     "start_time": "2021-08-17T20:30:07.834063",
     "status": "completed"
    },
    "tags": []
   },
   "outputs": [
    {
     "data": {
      "text/html": [
       "<div>\n",
       "<style scoped>\n",
       "    .dataframe tbody tr th:only-of-type {\n",
       "        vertical-align: middle;\n",
       "    }\n",
       "\n",
       "    .dataframe tbody tr th {\n",
       "        vertical-align: top;\n",
       "    }\n",
       "\n",
       "    .dataframe thead th {\n",
       "        text-align: right;\n",
       "    }\n",
       "</style>\n",
       "<table border=\"1\" class=\"dataframe\">\n",
       "  <thead>\n",
       "    <tr style=\"text-align: right;\">\n",
       "      <th></th>\n",
       "      <th>RECORD_TIME</th>\n",
       "    </tr>\n",
       "  </thead>\n",
       "  <tbody>\n",
       "    <tr>\n",
       "      <th>0</th>\n",
       "      <td>2021-08-17 22:30</td>\n",
       "    </tr>\n",
       "    <tr>\n",
       "      <th>1</th>\n",
       "      <td>2021-08-17 22:00</td>\n",
       "    </tr>\n",
       "  </tbody>\n",
       "</table>\n",
       "</div>"
      ],
      "text/plain": [
       "        RECORD_TIME\n",
       "0  2021-08-17 22:30\n",
       "1  2021-08-17 22:00"
      ]
     },
     "execution_count": 3,
     "metadata": {},
     "output_type": "execute_result"
    }
   ],
   "source": [
    "timestamps"
   ]
  },
  {
   "cell_type": "code",
   "execution_count": 4,
   "id": "alternate-victory",
   "metadata": {
    "execution": {
     "iopub.execute_input": "2021-08-17T20:30:07.951458Z",
     "iopub.status.busy": "2021-08-17T20:30:07.949451Z",
     "iopub.status.idle": "2021-08-17T20:30:08.054739Z",
     "shell.execute_reply": "2021-08-17T20:30:08.055965Z"
    },
    "papermill": {
     "duration": 0.135317,
     "end_time": "2021-08-17T20:30:08.056361",
     "exception": false,
     "start_time": "2021-08-17T20:30:07.921044",
     "status": "completed"
    },
    "tags": []
   },
   "outputs": [],
   "source": [
    "df = pd.read_sql(\"select * from EBAY_TOP_BERLIN where record_time in (select distinct record_time from EBAY_TOP_BERLIN order by record_time desc limit 2)\", sqlite3.connect(\"UsedObjects.db\"))"
   ]
  },
  {
   "cell_type": "code",
   "execution_count": 5,
   "id": "popular-active",
   "metadata": {
    "execution": {
     "iopub.execute_input": "2021-08-17T20:30:08.131684Z",
     "iopub.status.busy": "2021-08-17T20:30:08.124591Z",
     "iopub.status.idle": "2021-08-17T20:30:08.148456Z",
     "shell.execute_reply": "2021-08-17T20:30:08.150121Z"
    },
    "papermill": {
     "duration": 0.070724,
     "end_time": "2021-08-17T20:30:08.150612",
     "exception": false,
     "start_time": "2021-08-17T20:30:08.079888",
     "status": "completed"
    },
    "tags": []
   },
   "outputs": [],
   "source": [
    "df_pivot = df.pivot_table(index=\"PRODUCT\", columns = \"RECORD_TIME\", values = \"LISTING_COUNT\")"
   ]
  },
  {
   "cell_type": "code",
   "execution_count": 6,
   "id": "union-huntington",
   "metadata": {
    "execution": {
     "iopub.execute_input": "2021-08-17T20:30:08.209758Z",
     "iopub.status.busy": "2021-08-17T20:30:08.207669Z",
     "iopub.status.idle": "2021-08-17T20:30:08.212835Z",
     "shell.execute_reply": "2021-08-17T20:30:08.214183Z"
    },
    "papermill": {
     "duration": 0.04142,
     "end_time": "2021-08-17T20:30:08.214599",
     "exception": false,
     "start_time": "2021-08-17T20:30:08.173179",
     "status": "completed"
    },
    "tags": []
   },
   "outputs": [],
   "source": [
    "df_pivot.columns = [\"stamp_1\", \"stamp_2\"]\n",
    "df_pivot_diff = df_pivot.diff(axis=1)"
   ]
  },
  {
   "cell_type": "code",
   "execution_count": 7,
   "id": "fifth-motion",
   "metadata": {
    "execution": {
     "iopub.execute_input": "2021-08-17T20:30:08.268879Z",
     "iopub.status.busy": "2021-08-17T20:30:08.266467Z",
     "iopub.status.idle": "2021-08-17T20:30:09.743941Z",
     "shell.execute_reply": "2021-08-17T20:30:09.745228Z"
    },
    "papermill": {
     "duration": 1.511272,
     "end_time": "2021-08-17T20:30:09.745645",
     "exception": false,
     "start_time": "2021-08-17T20:30:08.234373",
     "status": "completed"
    },
    "tags": []
   },
   "outputs": [
    {
     "data": {
      "text/plain": [
       "<AxesSubplot:ylabel='PRODUCT'>"
      ]
     },
     "execution_count": 7,
     "metadata": {},
     "output_type": "execute_result"
    },
    {
     "data": {
      "image/png": "[encoded data removed]",
      "text/plain": [
       "<Figure size 432x288 with 1 Axes>"
      ]
     },
     "metadata": {
      "needs_background": "light"
     },
     "output_type": "display_data"
    }
   ],
   "source": [
    "df_pivot_diff.sort_values(\"stamp_2\", ascending = False)[\"stamp_2\"].head(10).plot.barh()"
   ]
  },
  {
   "cell_type": "code",
   "execution_count": null,
   "id": "extra-executive",
   "metadata": {
    "papermill": {
     "duration": 0.022275,
     "end_time": "2021-08-17T20:30:09.792641",
     "exception": false,
     "start_time": "2021-08-17T20:30:09.770366",
     "status": "completed"
    },
    "tags": []
   },
   "outputs": [],
   "source": []
  }
 ],
 "metadata": {
  "kernelspec": {
   "display_name": "Python 3",
   "language": "python",
   "name": "python3"
  },
  "language_info": {
   "codemirror_mode": {
    "name": "ipython",
    "version": 3
   },
   "file_extension": ".py",
   "mimetype": "text/x-python",
   "name": "python",
   "nbconvert_exporter": "python",
   "pygments_lexer": "ipython3",
   "version": "3.9.5"
  },
  "papermill": {
   "default_parameters": {},
   "duration": 6.836795,
   "end_time": "2021-08-17T20:30:11.249181",
   "environment_variables": {},
   "exception": null,
   "input_path": "eBay_Overview.ipynb",
   "output_path": "eBay_Overview.ipynb",
   "parameters": {},
   "start_time": "2021-08-17T20:30:04.412386",
   "version": "2.3.3"
  }
 },
 "nbformat": 4,
 "nbformat_minor": 5
}