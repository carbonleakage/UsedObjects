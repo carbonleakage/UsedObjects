{
 "cells": [
  {
   "cell_type": "code",
   "execution_count": 1,
   "id": "reverse-picking",
   "metadata": {
    "execution": {
     "iopub.execute_input": "2021-11-09T15:00:07.524901Z",
     "iopub.status.busy": "2021-11-09T15:00:07.522494Z",
     "iopub.status.idle": "2021-11-09T15:00:08.465610Z",
     "shell.execute_reply": "2021-11-09T15:00:08.467335Z"
    },
    "papermill": {
     "duration": 0.992834,
     "end_time": "2021-11-09T15:00:08.468095",
     "exception": false,
     "start_time": "2021-11-09T15:00:07.475261",
     "status": "completed"
    },
    "tags": []
   },
   "outputs": [],
   "source": [
    "import pandas as pd\n",
    "import sqlite3"
   ]
  },
  {
   "cell_type": "code",
   "execution_count": 2,
   "id": "innovative-syndrome",
   "metadata": {
    "execution": {
     "iopub.execute_input": "2021-11-09T15:00:08.526912Z",
     "iopub.status.busy": "2021-11-09T15:00:08.524641Z",
     "iopub.status.idle": "2021-11-09T15:00:09.281577Z",
     "shell.execute_reply": "2021-11-09T15:00:09.282966Z"
    },
    "papermill": {
     "duration": 0.790289,
     "end_time": "2021-11-09T15:00:09.283442",
     "exception": false,
     "start_time": "2021-11-09T15:00:08.493153",
     "status": "completed"
    },
    "tags": []
   },
   "outputs": [],
   "source": [
    "timestamps = pd.read_sql(\"select distinct record_time from EBAY_TOP_BERLIN order by record_time desc limit 2\", sqlite3.connect(\"UsedObjects.db\"))"
   ]
  },
  {
   "cell_type": "code",
   "execution_count": 3,
   "id": "periodic-identification",
   "metadata": {
    "execution": {
     "iopub.execute_input": "2021-11-09T15:00:09.352617Z",
     "iopub.status.busy": "2021-11-09T15:00:09.350136Z",
     "iopub.status.idle": "2021-11-09T15:00:09.373572Z",
     "shell.execute_reply": "2021-11-09T15:00:09.375115Z"
    },
    "papermill": {
     "duration": 0.07314,
     "end_time": "2021-11-09T15:00:09.375626",
     "exception": false,
     "start_time": "2021-11-09T15:00:09.302486",
     "status": "completed"
    },
    "tags": []
   },
   "outputs": [
    {
     "data": {
      "text/html": [
       "<div>\n",
       "<style scoped>\n",
       "    .dataframe tbody tr th:only-of-type {\n",
       "        vertical-align: middle;\n",
       "    }\n",
       "\n",
       "    .dataframe tbody tr th {\n",
       "        vertical-align: top;\n",
       "    }\n",
       "\n",
       "    .dataframe thead th {\n",
       "        text-align: right;\n",
       "    }\n",
       "</style>\n",
       "<table border=\"1\" class=\"dataframe\">\n",
       "  <thead>\n",
       "    <tr style=\"text-align: right;\">\n",
       "      <th></th>\n",
       "      <th>RECORD_TIME</th>\n",
       "    </tr>\n",
       "  </thead>\n",
       "  <tbody>\n",
       "    <tr>\n",
       "      <th>0</th>\n",
       "      <td>2021-11-09 16:00</td>\n",
       "    </tr>\n",
       "    <tr>\n",
       "      <th>1</th>\n",
       "      <td>2021-11-09 15:30</td>\n",
       "    </tr>\n",
       "  </tbody>\n",
       "</table>\n",
       "</div>"
      ],
      "text/plain": [
       "        RECORD_TIME\n",
       "0  2021-11-09 16:00\n",
       "1  2021-11-09 15:30"
      ]
     },
     "execution_count": 3,
     "metadata": {},
     "output_type": "execute_result"
    }
   ],
   "source": [
    "timestamps"
   ]
  },
  {
   "cell_type": "code",
   "execution_count": 4,
   "id": "alternate-victory",
   "metadata": {
    "execution": {
     "iopub.execute_input": "2021-11-09T15:00:09.431233Z",
     "iopub.status.busy": "2021-11-09T15:00:09.429069Z",
     "iopub.status.idle": "2021-11-09T15:00:10.564204Z",
     "shell.execute_reply": "2021-11-09T15:00:10.565770Z"
    },
    "papermill": {
     "duration": 1.169247,
     "end_time": "2021-11-09T15:00:10.566308",
     "exception": false,
     "start_time": "2021-11-09T15:00:09.397061",
     "status": "completed"
    },
    "tags": []
   },
   "outputs": [],
   "source": [
    "df = pd.read_sql(\"select * from EBAY_TOP_BERLIN where record_time in (select distinct record_time from EBAY_TOP_BERLIN order by record_time desc limit 2)\", sqlite3.connect(\"UsedObjects.db\"))"
   ]
  },
  {
   "cell_type": "code",
   "execution_count": 5,
   "id": "popular-active",
   "metadata": {
    "execution": {
     "iopub.execute_input": "2021-11-09T15:00:10.647661Z",
     "iopub.status.busy": "2021-11-09T15:00:10.633328Z",
     "iopub.status.idle": "2021-11-09T15:00:10.668006Z",
     "shell.execute_reply": "2021-11-09T15:00:10.669759Z"
    },
    "papermill": {
     "duration": 0.079993,
     "end_time": "2021-11-09T15:00:10.670267",
     "exception": false,
     "start_time": "2021-11-09T15:00:10.590274",
     "status": "completed"
    },
    "tags": []
   },
   "outputs": [],
   "source": [
    "df_pivot = df.pivot_table(index=\"PRODUCT\", columns = \"RECORD_TIME\", values = \"LISTING_COUNT\")"
   ]
  },
  {
   "cell_type": "code",
   "execution_count": 6,
   "id": "union-huntington",
   "metadata": {
    "execution": {
     "iopub.execute_input": "2021-11-09T15:00:10.729004Z",
     "iopub.status.busy": "2021-11-09T15:00:10.719086Z",
     "iopub.status.idle": "2021-11-09T15:00:10.734035Z",
     "shell.execute_reply": "2021-11-09T15:00:10.735413Z"
    },
    "papermill": {
     "duration": 0.043445,
     "end_time": "2021-11-09T15:00:10.735893",
     "exception": false,
     "start_time": "2021-11-09T15:00:10.692448",
     "status": "completed"
    },
    "tags": []
   },
   "outputs": [],
   "source": [
    "df_pivot.columns = [\"stamp_1\", \"stamp_2\"]\n",
    "df_pivot_diff = df_pivot.diff(axis=1)"
   ]
  },
  {
   "cell_type": "code",
   "execution_count": 7,
   "id": "fifth-motion",
   "metadata": {
    "execution": {
     "iopub.execute_input": "2021-11-09T15:00:10.792971Z",
     "iopub.status.busy": "2021-11-09T15:00:10.790451Z",
     "iopub.status.idle": "2021-11-09T15:00:12.592392Z",
     "shell.execute_reply": "2021-11-09T15:00:12.595432Z"
    },
    "papermill": {
     "duration": 1.840335,
     "end_time": "2021-11-09T15:00:12.596286",
     "exception": false,
     "start_time": "2021-11-09T15:00:10.755951",
     "status": "completed"
    },
    "tags": []
   },
   "outputs": [
    {
     "data": {
      "text/plain": [
       "<AxesSubplot:ylabel='PRODUCT'>"
      ]
     },
     "execution_count": 7,
     "metadata": {},
     "output_type": "execute_result"
    },
    {
     "data": {
      "image/png": "[encoded data removed]",
      "text/plain": [
       "<Figure size 432x288 with 1 Axes>"
      ]
     },
     "metadata": {
      "needs_background": "light"
     },
     "output_type": "display_data"
    }
   ],
   "source": [
    "df_pivot_diff.sort_values(\"stamp_2\", ascending = False)[\"stamp_2\"].head(10).plot.barh()"
   ]
  },
  {
   "cell_type": "code",
   "execution_count": null,
   "id": "extra-executive",
   "metadata": {
    "papermill": {
     "duration": 0.03525,
     "end_time": "2021-11-09T15:00:12.669676",
     "exception": false,
     "start_time": "2021-11-09T15:00:12.634426",
     "status": "completed"
    },
    "tags": []
   },
   "outputs": [],
   "source": []
  }
 ],
 "metadata": {
  "kernelspec": {
   "display_name": "Python 3",
   "language": "python",
   "name": "python3"
  },
  "language_info": {
   "codemirror_mode": {
    "name": "ipython",
    "version": 3
   },
   "file_extension": ".py",
   "mimetype": "text/x-python",
   "name": "python",
   "nbconvert_exporter": "python",
   "pygments_lexer": "ipython3",
   "version": "3.9.5"
  },
  "papermill": {
   "default_parameters": {},
   "duration": 10.947442,
   "end_time": "2021-11-09T15:00:15.705072",
   "environment_variables": {},
   "exception": null,
   "input_path": "eBay_Overview.ipynb",
   "output_path": "eBay_Overview.ipynb",
   "parameters": {},
   "start_time": "2021-11-09T15:00:04.757630",
   "version": "2.3.3"
  }
 },
 "nbformat": 4,
 "nbformat_minor": 5
}