{
 "cells": [
  {
   "cell_type": "code",
   "execution_count": 1,
   "id": "reverse-picking",
   "metadata": {
    "execution": {
     "iopub.execute_input": "2021-08-24T13:30:07.479600Z",
     "iopub.status.busy": "2021-08-24T13:30:07.477589Z",
     "iopub.status.idle": "2021-08-24T13:30:08.287588Z",
     "shell.execute_reply": "2021-08-24T13:30:08.288818Z"
    },
    "papermill": {
     "duration": 0.862234,
     "end_time": "2021-08-24T13:30:08.289438",
     "exception": false,
     "start_time": "2021-08-24T13:30:07.427204",
     "status": "completed"
    },
    "tags": []
   },
   "outputs": [],
   "source": [
    "import pandas as pd\n",
    "import sqlite3"
   ]
  },
  {
   "cell_type": "code",
   "execution_count": 2,
   "id": "innovative-syndrome",
   "metadata": {
    "execution": {
     "iopub.execute_input": "2021-08-24T13:30:08.341995Z",
     "iopub.status.busy": "2021-08-24T13:30:08.339676Z",
     "iopub.status.idle": "2021-08-24T13:30:08.462303Z",
     "shell.execute_reply": "2021-08-24T13:30:08.463513Z"
    },
    "papermill": {
     "duration": 0.152273,
     "end_time": "2021-08-24T13:30:08.463906",
     "exception": false,
     "start_time": "2021-08-24T13:30:08.311633",
     "status": "completed"
    },
    "tags": []
   },
   "outputs": [],
   "source": [
    "timestamps = pd.read_sql(\"select distinct record_time from EBAY_TOP_BERLIN order by record_time desc limit 2\", sqlite3.connect(\"UsedObjects.db\"))"
   ]
  },
  {
   "cell_type": "code",
   "execution_count": 3,
   "id": "periodic-identification",
   "metadata": {
    "execution": {
     "iopub.execute_input": "2021-08-24T13:30:08.528544Z",
     "iopub.status.busy": "2021-08-24T13:30:08.526556Z",
     "iopub.status.idle": "2021-08-24T13:30:08.546264Z",
     "shell.execute_reply": "2021-08-24T13:30:08.547408Z"
    },
    "papermill": {
     "duration": 0.063924,
     "end_time": "2021-08-24T13:30:08.547822",
     "exception": false,
     "start_time": "2021-08-24T13:30:08.483898",
     "status": "completed"
    },
    "tags": []
   },
   "outputs": [
    {
     "data": {
      "text/html": [
       "<div>\n",
       "<style scoped>\n",
       "    .dataframe tbody tr th:only-of-type {\n",
       "        vertical-align: middle;\n",
       "    }\n",
       "\n",
       "    .dataframe tbody tr th {\n",
       "        vertical-align: top;\n",
       "    }\n",
       "\n",
       "    .dataframe thead th {\n",
       "        text-align: right;\n",
       "    }\n",
       "</style>\n",
       "<table border=\"1\" class=\"dataframe\">\n",
       "  <thead>\n",
       "    <tr style=\"text-align: right;\">\n",
       "      <th></th>\n",
       "      <th>RECORD_TIME</th>\n",
       "    </tr>\n",
       "  </thead>\n",
       "  <tbody>\n",
       "    <tr>\n",
       "      <th>0</th>\n",
       "      <td>2021-08-24 15:30</td>\n",
       "    </tr>\n",
       "    <tr>\n",
       "      <th>1</th>\n",
       "      <td>2021-08-24 15:00</td>\n",
       "    </tr>\n",
       "  </tbody>\n",
       "</table>\n",
       "</div>"
      ],
      "text/plain": [
       "        RECORD_TIME\n",
       "0  2021-08-24 15:30\n",
       "1  2021-08-24 15:00"
      ]
     },
     "execution_count": 3,
     "metadata": {},
     "output_type": "execute_result"
    }
   ],
   "source": [
    "timestamps"
   ]
  },
  {
   "cell_type": "code",
   "execution_count": 4,
   "id": "alternate-victory",
   "metadata": {
    "execution": {
     "iopub.execute_input": "2021-08-24T13:30:08.599752Z",
     "iopub.status.busy": "2021-08-24T13:30:08.597486Z",
     "iopub.status.idle": "2021-08-24T13:30:08.784774Z",
     "shell.execute_reply": "2021-08-24T13:30:08.786022Z"
    },
    "papermill": {
     "duration": 0.217153,
     "end_time": "2021-08-24T13:30:08.786436",
     "exception": false,
     "start_time": "2021-08-24T13:30:08.569283",
     "status": "completed"
    },
    "tags": []
   },
   "outputs": [],
   "source": [
    "df = pd.read_sql(\"select * from EBAY_TOP_BERLIN where record_time in (select distinct record_time from EBAY_TOP_BERLIN order by record_time desc limit 2)\", sqlite3.connect(\"UsedObjects.db\"))"
   ]
  },
  {
   "cell_type": "code",
   "execution_count": 5,
   "id": "popular-active",
   "metadata": {
    "execution": {
     "iopub.execute_input": "2021-08-24T13:30:08.860578Z",
     "iopub.status.busy": "2021-08-24T13:30:08.847490Z",
     "iopub.status.idle": "2021-08-24T13:30:08.875824Z",
     "shell.execute_reply": "2021-08-24T13:30:08.877034Z"
    },
    "papermill": {
     "duration": 0.068385,
     "end_time": "2021-08-24T13:30:08.877433",
     "exception": false,
     "start_time": "2021-08-24T13:30:08.809048",
     "status": "completed"
    },
    "tags": []
   },
   "outputs": [],
   "source": [
    "df_pivot = df.pivot_table(index=\"PRODUCT\", columns = \"RECORD_TIME\", values = \"LISTING_COUNT\")"
   ]
  },
  {
   "cell_type": "code",
   "execution_count": 6,
   "id": "union-huntington",
   "metadata": {
    "execution": {
     "iopub.execute_input": "2021-08-24T13:30:08.943077Z",
     "iopub.status.busy": "2021-08-24T13:30:08.941074Z",
     "iopub.status.idle": "2021-08-24T13:30:08.946454Z",
     "shell.execute_reply": "2021-08-24T13:30:08.947720Z"
    },
    "papermill": {
     "duration": 0.044602,
     "end_time": "2021-08-24T13:30:08.948122",
     "exception": false,
     "start_time": "2021-08-24T13:30:08.903520",
     "status": "completed"
    },
    "tags": []
   },
   "outputs": [],
   "source": [
    "df_pivot.columns = [\"stamp_1\", \"stamp_2\"]\n",
    "df_pivot_diff = df_pivot.diff(axis=1)"
   ]
  },
  {
   "cell_type": "code",
   "execution_count": 7,
   "id": "fifth-motion",
   "metadata": {
    "execution": {
     "iopub.execute_input": "2021-08-24T13:30:09.004975Z",
     "iopub.status.busy": "2021-08-24T13:30:09.002348Z",
     "iopub.status.idle": "2021-08-24T13:30:10.455264Z",
     "shell.execute_reply": "2021-08-24T13:30:10.456538Z"
    },
    "papermill": {
     "duration": 1.48631,
     "end_time": "2021-08-24T13:30:10.456956",
     "exception": false,
     "start_time": "2021-08-24T13:30:08.970646",
     "status": "completed"
    },
    "tags": []
   },
   "outputs": [
    {
     "data": {
      "text/plain": [
       "<AxesSubplot:ylabel='PRODUCT'>"
      ]
     },
     "execution_count": 7,
     "metadata": {},
     "output_type": "execute_result"
    },
    {
     "data": {
      "image/png": "[encoded data removed]",
      "text/plain": [
       "<Figure size 432x288 with 1 Axes>"
      ]
     },
     "metadata": {
      "needs_background": "light"
     },
     "output_type": "display_data"
    }
   ],
   "source": [
    "df_pivot_diff.sort_values(\"stamp_2\", ascending = False)[\"stamp_2\"].head(10).plot.barh()"
   ]
  },
  {
   "cell_type": "code",
   "execution_count": null,
   "id": "extra-executive",
   "metadata": {
    "papermill": {
     "duration": 0.021667,
     "end_time": "2021-08-24T13:30:10.501297",
     "exception": false,
     "start_time": "2021-08-24T13:30:10.479630",
     "status": "completed"
    },
    "tags": []
   },
   "outputs": [],
   "source": []
  }
 ],
 "metadata": {
  "kernelspec": {
   "display_name": "Python 3",
   "language": "python",
   "name": "python3"
  },
  "language_info": {
   "codemirror_mode": {
    "name": "ipython",
    "version": 3
   },
   "file_extension": ".py",
   "mimetype": "text/x-python",
   "name": "python",
   "nbconvert_exporter": "python",
   "pygments_lexer": "ipython3",
   "version": "3.9.5"
  },
  "papermill": {
   "default_parameters": {},
   "duration": 6.826514,
   "end_time": "2021-08-24T13:30:11.836638",
   "environment_variables": {},
   "exception": null,
   "input_path": "eBay_Overview.ipynb",
   "output_path": "eBay_Overview.ipynb",
   "parameters": {},
   "start_time": "2021-08-24T13:30:05.010124",
   "version": "2.3.3"
  }
 },
 "nbformat": 4,
 "nbformat_minor": 5
}