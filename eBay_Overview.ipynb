{
 "cells": [
  {
   "cell_type": "code",
   "execution_count": 1,
   "id": "reverse-picking",
   "metadata": {
    "execution": {
     "iopub.execute_input": "2021-10-14T12:30:07.433308Z",
     "iopub.status.busy": "2021-10-14T12:30:07.430445Z",
     "iopub.status.idle": "2021-10-14T12:30:08.239746Z",
     "shell.execute_reply": "2021-10-14T12:30:08.241153Z"
    },
    "papermill": {
     "duration": 0.862315,
     "end_time": "2021-10-14T12:30:08.241823",
     "exception": false,
     "start_time": "2021-10-14T12:30:07.379508",
     "status": "completed"
    },
    "tags": []
   },
   "outputs": [],
   "source": [
    "import pandas as pd\n",
    "import sqlite3"
   ]
  },
  {
   "cell_type": "code",
   "execution_count": 2,
   "id": "innovative-syndrome",
   "metadata": {
    "execution": {
     "iopub.execute_input": "2021-10-14T12:30:08.293136Z",
     "iopub.status.busy": "2021-10-14T12:30:08.291038Z",
     "iopub.status.idle": "2021-10-14T12:30:08.833148Z",
     "shell.execute_reply": "2021-10-14T12:30:08.834396Z"
    },
    "papermill": {
     "duration": 0.571988,
     "end_time": "2021-10-14T12:30:08.834795",
     "exception": false,
     "start_time": "2021-10-14T12:30:08.262807",
     "status": "completed"
    },
    "tags": []
   },
   "outputs": [],
   "source": [
    "timestamps = pd.read_sql(\"select distinct record_time from EBAY_TOP_BERLIN order by record_time desc limit 2\", sqlite3.connect(\"UsedObjects.db\"))"
   ]
  },
  {
   "cell_type": "code",
   "execution_count": 3,
   "id": "periodic-identification",
   "metadata": {
    "execution": {
     "iopub.execute_input": "2021-10-14T12:30:08.910740Z",
     "iopub.status.busy": "2021-10-14T12:30:08.908594Z",
     "iopub.status.idle": "2021-10-14T12:30:08.928537Z",
     "shell.execute_reply": "2021-10-14T12:30:08.930117Z"
    },
    "papermill": {
     "duration": 0.067859,
     "end_time": "2021-10-14T12:30:08.930677",
     "exception": false,
     "start_time": "2021-10-14T12:30:08.862818",
     "status": "completed"
    },
    "tags": []
   },
   "outputs": [
    {
     "data": {
      "text/html": [
       "<div>\n",
       "<style scoped>\n",
       "    .dataframe tbody tr th:only-of-type {\n",
       "        vertical-align: middle;\n",
       "    }\n",
       "\n",
       "    .dataframe tbody tr th {\n",
       "        vertical-align: top;\n",
       "    }\n",
       "\n",
       "    .dataframe thead th {\n",
       "        text-align: right;\n",
       "    }\n",
       "</style>\n",
       "<table border=\"1\" class=\"dataframe\">\n",
       "  <thead>\n",
       "    <tr style=\"text-align: right;\">\n",
       "      <th></th>\n",
       "      <th>RECORD_TIME</th>\n",
       "    </tr>\n",
       "  </thead>\n",
       "  <tbody>\n",
       "    <tr>\n",
       "      <th>0</th>\n",
       "      <td>2021-10-14 14:30</td>\n",
       "    </tr>\n",
       "    <tr>\n",
       "      <th>1</th>\n",
       "      <td>2021-10-14 14:00</td>\n",
       "    </tr>\n",
       "  </tbody>\n",
       "</table>\n",
       "</div>"
      ],
      "text/plain": [
       "        RECORD_TIME\n",
       "0  2021-10-14 14:30\n",
       "1  2021-10-14 14:00"
      ]
     },
     "execution_count": 3,
     "metadata": {},
     "output_type": "execute_result"
    }
   ],
   "source": [
    "timestamps"
   ]
  },
  {
   "cell_type": "code",
   "execution_count": 4,
   "id": "alternate-victory",
   "metadata": {
    "execution": {
     "iopub.execute_input": "2021-10-14T12:30:08.982635Z",
     "iopub.status.busy": "2021-10-14T12:30:08.980250Z",
     "iopub.status.idle": "2021-10-14T12:30:09.770369Z",
     "shell.execute_reply": "2021-10-14T12:30:09.771775Z"
    },
    "papermill": {
     "duration": 0.820698,
     "end_time": "2021-10-14T12:30:09.772216",
     "exception": false,
     "start_time": "2021-10-14T12:30:08.951518",
     "status": "completed"
    },
    "tags": []
   },
   "outputs": [],
   "source": [
    "df = pd.read_sql(\"select * from EBAY_TOP_BERLIN where record_time in (select distinct record_time from EBAY_TOP_BERLIN order by record_time desc limit 2)\", sqlite3.connect(\"UsedObjects.db\"))"
   ]
  },
  {
   "cell_type": "code",
   "execution_count": 5,
   "id": "popular-active",
   "metadata": {
    "execution": {
     "iopub.execute_input": "2021-10-14T12:30:09.838692Z",
     "iopub.status.busy": "2021-10-14T12:30:09.831107Z",
     "iopub.status.idle": "2021-10-14T12:30:09.858705Z",
     "shell.execute_reply": "2021-10-14T12:30:09.859939Z"
    },
    "papermill": {
     "duration": 0.067066,
     "end_time": "2021-10-14T12:30:09.860334",
     "exception": false,
     "start_time": "2021-10-14T12:30:09.793268",
     "status": "completed"
    },
    "tags": []
   },
   "outputs": [],
   "source": [
    "df_pivot = df.pivot_table(index=\"PRODUCT\", columns = \"RECORD_TIME\", values = \"LISTING_COUNT\")"
   ]
  },
  {
   "cell_type": "code",
   "execution_count": 6,
   "id": "union-huntington",
   "metadata": {
    "execution": {
     "iopub.execute_input": "2021-10-14T12:30:09.919614Z",
     "iopub.status.busy": "2021-10-14T12:30:09.917136Z",
     "iopub.status.idle": "2021-10-14T12:30:09.922877Z",
     "shell.execute_reply": "2021-10-14T12:30:09.924173Z"
    },
    "papermill": {
     "duration": 0.042045,
     "end_time": "2021-10-14T12:30:09.924588",
     "exception": false,
     "start_time": "2021-10-14T12:30:09.882543",
     "status": "completed"
    },
    "tags": []
   },
   "outputs": [],
   "source": [
    "df_pivot.columns = [\"stamp_1\", \"stamp_2\"]\n",
    "df_pivot_diff = df_pivot.diff(axis=1)"
   ]
  },
  {
   "cell_type": "code",
   "execution_count": 7,
   "id": "fifth-motion",
   "metadata": {
    "execution": {
     "iopub.execute_input": "2021-10-14T12:30:09.979756Z",
     "iopub.status.busy": "2021-10-14T12:30:09.977332Z",
     "iopub.status.idle": "2021-10-14T12:30:11.462373Z",
     "shell.execute_reply": "2021-10-14T12:30:11.463670Z"
    },
    "papermill": {
     "duration": 1.518847,
     "end_time": "2021-10-14T12:30:11.464087",
     "exception": false,
     "start_time": "2021-10-14T12:30:09.945240",
     "status": "completed"
    },
    "tags": []
   },
   "outputs": [
    {
     "data": {
      "text/plain": [
       "<AxesSubplot:ylabel='PRODUCT'>"
      ]
     },
     "execution_count": 7,
     "metadata": {},
     "output_type": "execute_result"
    },
    {
     "data": {
      "image/png": "[encoded data removed]",
      "text/plain": [
       "<Figure size 432x288 with 1 Axes>"
      ]
     },
     "metadata": {
      "needs_background": "light"
     },
     "output_type": "display_data"
    }
   ],
   "source": [
    "df_pivot_diff.sort_values(\"stamp_2\", ascending = False)[\"stamp_2\"].head(10).plot.barh()"
   ]
  },
  {
   "cell_type": "code",
   "execution_count": null,
   "id": "extra-executive",
   "metadata": {
    "papermill": {
     "duration": 0.022142,
     "end_time": "2021-10-14T12:30:11.513069",
     "exception": false,
     "start_time": "2021-10-14T12:30:11.490927",
     "status": "completed"
    },
    "tags": []
   },
   "outputs": [],
   "source": []
  }
 ],
 "metadata": {
  "kernelspec": {
   "display_name": "Python 3",
   "language": "python",
   "name": "python3"
  },
  "language_info": {
   "codemirror_mode": {
    "name": "ipython",
    "version": 3
   },
   "file_extension": ".py",
   "mimetype": "text/x-python",
   "name": "python",
   "nbconvert_exporter": "python",
   "pygments_lexer": "ipython3",
   "version": "3.9.5"
  },
  "papermill": {
   "default_parameters": {},
   "duration": 7.830139,
   "end_time": "2021-10-14T12:30:12.796585",
   "environment_variables": {},
   "exception": null,
   "input_path": "eBay_Overview.ipynb",
   "output_path": "eBay_Overview.ipynb",
   "parameters": {},
   "start_time": "2021-10-14T12:30:04.966446",
   "version": "2.3.3"
  }
 },
 "nbformat": 4,
 "nbformat_minor": 5
}