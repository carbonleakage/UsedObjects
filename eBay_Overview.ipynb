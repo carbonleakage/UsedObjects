{
 "cells": [
  {
   "cell_type": "code",
   "execution_count": 1,
   "id": "reverse-picking",
   "metadata": {
    "execution": {
     "iopub.execute_input": "2021-09-16T06:00:07.180714Z",
     "iopub.status.busy": "2021-09-16T06:00:07.178742Z",
     "iopub.status.idle": "2021-09-16T06:00:07.980472Z",
     "shell.execute_reply": "2021-09-16T06:00:07.981891Z"
    },
    "papermill": {
     "duration": 0.855423,
     "end_time": "2021-09-16T06:00:07.982571",
     "exception": false,
     "start_time": "2021-09-16T06:00:07.127148",
     "status": "completed"
    },
    "tags": []
   },
   "outputs": [],
   "source": [
    "import pandas as pd\n",
    "import sqlite3"
   ]
  },
  {
   "cell_type": "code",
   "execution_count": 2,
   "id": "innovative-syndrome",
   "metadata": {
    "execution": {
     "iopub.execute_input": "2021-09-16T06:00:08.033666Z",
     "iopub.status.busy": "2021-09-16T06:00:08.031515Z",
     "iopub.status.idle": "2021-09-16T06:00:08.330088Z",
     "shell.execute_reply": "2021-09-16T06:00:08.331542Z"
    },
    "papermill": {
     "duration": 0.329033,
     "end_time": "2021-09-16T06:00:08.332002",
     "exception": false,
     "start_time": "2021-09-16T06:00:08.002969",
     "status": "completed"
    },
    "tags": []
   },
   "outputs": [],
   "source": [
    "timestamps = pd.read_sql(\"select distinct record_time from EBAY_TOP_BERLIN order by record_time desc limit 2\", sqlite3.connect(\"UsedObjects.db\"))"
   ]
  },
  {
   "cell_type": "code",
   "execution_count": 3,
   "id": "periodic-identification",
   "metadata": {
    "execution": {
     "iopub.execute_input": "2021-09-16T06:00:08.397026Z",
     "iopub.status.busy": "2021-09-16T06:00:08.394633Z",
     "iopub.status.idle": "2021-09-16T06:00:08.415262Z",
     "shell.execute_reply": "2021-09-16T06:00:08.416394Z"
    },
    "papermill": {
     "duration": 0.065292,
     "end_time": "2021-09-16T06:00:08.416806",
     "exception": false,
     "start_time": "2021-09-16T06:00:08.351514",
     "status": "completed"
    },
    "tags": []
   },
   "outputs": [
    {
     "data": {
      "text/html": [
       "<div>\n",
       "<style scoped>\n",
       "    .dataframe tbody tr th:only-of-type {\n",
       "        vertical-align: middle;\n",
       "    }\n",
       "\n",
       "    .dataframe tbody tr th {\n",
       "        vertical-align: top;\n",
       "    }\n",
       "\n",
       "    .dataframe thead th {\n",
       "        text-align: right;\n",
       "    }\n",
       "</style>\n",
       "<table border=\"1\" class=\"dataframe\">\n",
       "  <thead>\n",
       "    <tr style=\"text-align: right;\">\n",
       "      <th></th>\n",
       "      <th>RECORD_TIME</th>\n",
       "    </tr>\n",
       "  </thead>\n",
       "  <tbody>\n",
       "    <tr>\n",
       "      <th>0</th>\n",
       "      <td>2021-09-16 08:00</td>\n",
       "    </tr>\n",
       "    <tr>\n",
       "      <th>1</th>\n",
       "      <td>2021-09-16 07:30</td>\n",
       "    </tr>\n",
       "  </tbody>\n",
       "</table>\n",
       "</div>"
      ],
      "text/plain": [
       "        RECORD_TIME\n",
       "0  2021-09-16 08:00\n",
       "1  2021-09-16 07:30"
      ]
     },
     "execution_count": 3,
     "metadata": {},
     "output_type": "execute_result"
    }
   ],
   "source": [
    "timestamps"
   ]
  },
  {
   "cell_type": "code",
   "execution_count": 4,
   "id": "alternate-victory",
   "metadata": {
    "execution": {
     "iopub.execute_input": "2021-09-16T06:00:08.469301Z",
     "iopub.status.busy": "2021-09-16T06:00:08.467117Z",
     "iopub.status.idle": "2021-09-16T06:00:08.920247Z",
     "shell.execute_reply": "2021-09-16T06:00:08.921499Z"
    },
    "papermill": {
     "duration": 0.483146,
     "end_time": "2021-09-16T06:00:08.921896",
     "exception": false,
     "start_time": "2021-09-16T06:00:08.438750",
     "status": "completed"
    },
    "tags": []
   },
   "outputs": [],
   "source": [
    "df = pd.read_sql(\"select * from EBAY_TOP_BERLIN where record_time in (select distinct record_time from EBAY_TOP_BERLIN order by record_time desc limit 2)\", sqlite3.connect(\"UsedObjects.db\"))"
   ]
  },
  {
   "cell_type": "code",
   "execution_count": 5,
   "id": "popular-active",
   "metadata": {
    "execution": {
     "iopub.execute_input": "2021-09-16T06:00:09.003974Z",
     "iopub.status.busy": "2021-09-16T06:00:08.988546Z",
     "iopub.status.idle": "2021-09-16T06:00:09.019359Z",
     "shell.execute_reply": "2021-09-16T06:00:09.020577Z"
    },
    "papermill": {
     "duration": 0.073274,
     "end_time": "2021-09-16T06:00:09.020972",
     "exception": false,
     "start_time": "2021-09-16T06:00:08.947698",
     "status": "completed"
    },
    "tags": []
   },
   "outputs": [],
   "source": [
    "df_pivot = df.pivot_table(index=\"PRODUCT\", columns = \"RECORD_TIME\", values = \"LISTING_COUNT\")"
   ]
  },
  {
   "cell_type": "code",
   "execution_count": 6,
   "id": "union-huntington",
   "metadata": {
    "execution": {
     "iopub.execute_input": "2021-09-16T06:00:09.077572Z",
     "iopub.status.busy": "2021-09-16T06:00:09.075415Z",
     "iopub.status.idle": "2021-09-16T06:00:09.080975Z",
     "shell.execute_reply": "2021-09-16T06:00:09.082322Z"
    },
    "papermill": {
     "duration": 0.041045,
     "end_time": "2021-09-16T06:00:09.082765",
     "exception": false,
     "start_time": "2021-09-16T06:00:09.041720",
     "status": "completed"
    },
    "tags": []
   },
   "outputs": [],
   "source": [
    "df_pivot.columns = [\"stamp_1\", \"stamp_2\"]\n",
    "df_pivot_diff = df_pivot.diff(axis=1)"
   ]
  },
  {
   "cell_type": "code",
   "execution_count": 7,
   "id": "fifth-motion",
   "metadata": {
    "execution": {
     "iopub.execute_input": "2021-09-16T06:00:09.140098Z",
     "iopub.status.busy": "2021-09-16T06:00:09.137516Z",
     "iopub.status.idle": "2021-09-16T06:00:10.638779Z",
     "shell.execute_reply": "2021-09-16T06:00:10.640329Z"
    },
    "papermill": {
     "duration": 1.534991,
     "end_time": "2021-09-16T06:00:10.640779",
     "exception": false,
     "start_time": "2021-09-16T06:00:09.105788",
     "status": "completed"
    },
    "tags": []
   },
   "outputs": [
    {
     "data": {
      "text/plain": [
       "<AxesSubplot:ylabel='PRODUCT'>"
      ]
     },
     "execution_count": 7,
     "metadata": {},
     "output_type": "execute_result"
    },
    {
     "data": {
      "image/png": "[encoded data removed]",
      "text/plain": [
       "<Figure size 432x288 with 1 Axes>"
      ]
     },
     "metadata": {
      "needs_background": "light"
     },
     "output_type": "display_data"
    }
   ],
   "source": [
    "df_pivot_diff.sort_values(\"stamp_2\", ascending = False)[\"stamp_2\"].head(10).plot.barh()"
   ]
  },
  {
   "cell_type": "code",
   "execution_count": null,
   "id": "extra-executive",
   "metadata": {
    "papermill": {
     "duration": 0.022363,
     "end_time": "2021-09-16T06:00:10.687851",
     "exception": false,
     "start_time": "2021-09-16T06:00:10.665488",
     "status": "completed"
    },
    "tags": []
   },
   "outputs": [],
   "source": []
  }
 ],
 "metadata": {
  "kernelspec": {
   "display_name": "Python 3",
   "language": "python",
   "name": "python3"
  },
  "language_info": {
   "codemirror_mode": {
    "name": "ipython",
    "version": 3
   },
   "file_extension": ".py",
   "mimetype": "text/x-python",
   "name": "python",
   "nbconvert_exporter": "python",
   "pygments_lexer": "ipython3",
   "version": "3.9.5"
  },
  "papermill": {
   "default_parameters": {},
   "duration": 6.600256,
   "end_time": "2021-09-16T06:00:11.331655",
   "environment_variables": {},
   "exception": null,
   "input_path": "eBay_Overview.ipynb",
   "output_path": "eBay_Overview.ipynb",
   "parameters": {},
   "start_time": "2021-09-16T06:00:04.731399",
   "version": "2.3.3"
  }
 },
 "nbformat": 4,
 "nbformat_minor": 5
}