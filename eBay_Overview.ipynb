{
 "cells": [
  {
   "cell_type": "code",
   "execution_count": 1,
   "id": "reverse-picking",
   "metadata": {
    "execution": {
     "iopub.execute_input": "2021-11-06T06:30:08.220254Z",
     "iopub.status.busy": "2021-11-06T06:30:08.217980Z",
     "iopub.status.idle": "2021-11-06T06:30:09.175319Z",
     "shell.execute_reply": "2021-11-06T06:30:09.176867Z"
    },
    "papermill": {
     "duration": 1.005955,
     "end_time": "2021-11-06T06:30:09.177615",
     "exception": false,
     "start_time": "2021-11-06T06:30:08.171660",
     "status": "completed"
    },
    "tags": []
   },
   "outputs": [],
   "source": [
    "import pandas as pd\n",
    "import sqlite3"
   ]
  },
  {
   "cell_type": "code",
   "execution_count": 2,
   "id": "innovative-syndrome",
   "metadata": {
    "execution": {
     "iopub.execute_input": "2021-11-06T06:30:09.238951Z",
     "iopub.status.busy": "2021-11-06T06:30:09.236474Z",
     "iopub.status.idle": "2021-11-06T06:30:10.000165Z",
     "shell.execute_reply": "2021-11-06T06:30:10.001827Z"
    },
    "papermill": {
     "duration": 0.797607,
     "end_time": "2021-11-06T06:30:10.002353",
     "exception": false,
     "start_time": "2021-11-06T06:30:09.204746",
     "status": "completed"
    },
    "tags": []
   },
   "outputs": [],
   "source": [
    "timestamps = pd.read_sql(\"select distinct record_time from EBAY_TOP_BERLIN order by record_time desc limit 2\", sqlite3.connect(\"UsedObjects.db\"))"
   ]
  },
  {
   "cell_type": "code",
   "execution_count": 3,
   "id": "periodic-identification",
   "metadata": {
    "execution": {
     "iopub.execute_input": "2021-11-06T06:30:10.072440Z",
     "iopub.status.busy": "2021-11-06T06:30:10.070129Z",
     "iopub.status.idle": "2021-11-06T06:30:10.094522Z",
     "shell.execute_reply": "2021-11-06T06:30:10.095915Z"
    },
    "papermill": {
     "duration": 0.073671,
     "end_time": "2021-11-06T06:30:10.096390",
     "exception": false,
     "start_time": "2021-11-06T06:30:10.022719",
     "status": "completed"
    },
    "tags": []
   },
   "outputs": [
    {
     "data": {
      "text/html": [
       "<div>\n",
       "<style scoped>\n",
       "    .dataframe tbody tr th:only-of-type {\n",
       "        vertical-align: middle;\n",
       "    }\n",
       "\n",
       "    .dataframe tbody tr th {\n",
       "        vertical-align: top;\n",
       "    }\n",
       "\n",
       "    .dataframe thead th {\n",
       "        text-align: right;\n",
       "    }\n",
       "</style>\n",
       "<table border=\"1\" class=\"dataframe\">\n",
       "  <thead>\n",
       "    <tr style=\"text-align: right;\">\n",
       "      <th></th>\n",
       "      <th>RECORD_TIME</th>\n",
       "    </tr>\n",
       "  </thead>\n",
       "  <tbody>\n",
       "    <tr>\n",
       "      <th>0</th>\n",
       "      <td>2021-11-06 07:30</td>\n",
       "    </tr>\n",
       "    <tr>\n",
       "      <th>1</th>\n",
       "      <td>2021-11-06 07:00</td>\n",
       "    </tr>\n",
       "  </tbody>\n",
       "</table>\n",
       "</div>"
      ],
      "text/plain": [
       "        RECORD_TIME\n",
       "0  2021-11-06 07:30\n",
       "1  2021-11-06 07:00"
      ]
     },
     "execution_count": 3,
     "metadata": {},
     "output_type": "execute_result"
    }
   ],
   "source": [
    "timestamps"
   ]
  },
  {
   "cell_type": "code",
   "execution_count": 4,
   "id": "alternate-victory",
   "metadata": {
    "execution": {
     "iopub.execute_input": "2021-11-06T06:30:10.151659Z",
     "iopub.status.busy": "2021-11-06T06:30:10.149420Z",
     "iopub.status.idle": "2021-11-06T06:30:11.245689Z",
     "shell.execute_reply": "2021-11-06T06:30:11.247863Z"
    },
    "papermill": {
     "duration": 1.130754,
     "end_time": "2021-11-06T06:30:11.248382",
     "exception": false,
     "start_time": "2021-11-06T06:30:10.117628",
     "status": "completed"
    },
    "tags": []
   },
   "outputs": [],
   "source": [
    "df = pd.read_sql(\"select * from EBAY_TOP_BERLIN where record_time in (select distinct record_time from EBAY_TOP_BERLIN order by record_time desc limit 2)\", sqlite3.connect(\"UsedObjects.db\"))"
   ]
  },
  {
   "cell_type": "code",
   "execution_count": 5,
   "id": "popular-active",
   "metadata": {
    "execution": {
     "iopub.execute_input": "2021-11-06T06:30:11.321318Z",
     "iopub.status.busy": "2021-11-06T06:30:11.318833Z",
     "iopub.status.idle": "2021-11-06T06:30:11.354783Z",
     "shell.execute_reply": "2021-11-06T06:30:11.353198Z"
    },
    "papermill": {
     "duration": 0.07814,
     "end_time": "2021-11-06T06:30:11.355183",
     "exception": false,
     "start_time": "2021-11-06T06:30:11.277043",
     "status": "completed"
    },
    "tags": []
   },
   "outputs": [],
   "source": [
    "df_pivot = df.pivot_table(index=\"PRODUCT\", columns = \"RECORD_TIME\", values = \"LISTING_COUNT\")"
   ]
  },
  {
   "cell_type": "code",
   "execution_count": 6,
   "id": "union-huntington",
   "metadata": {
    "execution": {
     "iopub.execute_input": "2021-11-06T06:30:11.416664Z",
     "iopub.status.busy": "2021-11-06T06:30:11.414284Z",
     "iopub.status.idle": "2021-11-06T06:30:11.419709Z",
     "shell.execute_reply": "2021-11-06T06:30:11.421800Z"
    },
    "papermill": {
     "duration": 0.046119,
     "end_time": "2021-11-06T06:30:11.422335",
     "exception": false,
     "start_time": "2021-11-06T06:30:11.376216",
     "status": "completed"
    },
    "tags": []
   },
   "outputs": [],
   "source": [
    "df_pivot.columns = [\"stamp_1\", \"stamp_2\"]\n",
    "df_pivot_diff = df_pivot.diff(axis=1)"
   ]
  },
  {
   "cell_type": "code",
   "execution_count": 7,
   "id": "fifth-motion",
   "metadata": {
    "execution": {
     "iopub.execute_input": "2021-11-06T06:30:11.483595Z",
     "iopub.status.busy": "2021-11-06T06:30:11.480965Z",
     "iopub.status.idle": "2021-11-06T06:30:13.324208Z",
     "shell.execute_reply": "2021-11-06T06:30:13.326181Z"
    },
    "papermill": {
     "duration": 1.882976,
     "end_time": "2021-11-06T06:30:13.326787",
     "exception": false,
     "start_time": "2021-11-06T06:30:11.443811",
     "status": "completed"
    },
    "tags": []
   },
   "outputs": [
    {
     "data": {
      "text/plain": [
       "<AxesSubplot:ylabel='PRODUCT'>"
      ]
     },
     "execution_count": 7,
     "metadata": {},
     "output_type": "execute_result"
    },
    {
     "data": {
      "image/png": "[encoded data removed]",
      "text/plain": [
       "<Figure size 432x288 with 1 Axes>"
      ]
     },
     "metadata": {
      "needs_background": "light"
     },
     "output_type": "display_data"
    }
   ],
   "source": [
    "df_pivot_diff.sort_values(\"stamp_2\", ascending = False)[\"stamp_2\"].head(10).plot.barh()"
   ]
  },
  {
   "cell_type": "code",
   "execution_count": null,
   "id": "extra-executive",
   "metadata": {
    "papermill": {
     "duration": 0.058135,
     "end_time": "2021-11-06T06:30:13.411835",
     "exception": false,
     "start_time": "2021-11-06T06:30:13.353700",
     "status": "completed"
    },
    "tags": []
   },
   "outputs": [],
   "source": []
  }
 ],
 "metadata": {
  "kernelspec": {
   "display_name": "Python 3",
   "language": "python",
   "name": "python3"
  },
  "language_info": {
   "codemirror_mode": {
    "name": "ipython",
    "version": 3
   },
   "file_extension": ".py",
   "mimetype": "text/x-python",
   "name": "python",
   "nbconvert_exporter": "python",
   "pygments_lexer": "ipython3",
   "version": "3.9.5"
  },
  "papermill": {
   "default_parameters": {},
   "duration": 10.061112,
   "end_time": "2021-11-06T06:30:15.355628",
   "environment_variables": {},
   "exception": null,
   "input_path": "eBay_Overview.ipynb",
   "output_path": "eBay_Overview.ipynb",
   "parameters": {},
   "start_time": "2021-11-06T06:30:05.294516",
   "version": "2.3.3"
  }
 },
 "nbformat": 4,
 "nbformat_minor": 5
}