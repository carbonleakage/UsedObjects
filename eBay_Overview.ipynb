{
 "cells": [
  {
   "cell_type": "code",
   "execution_count": 1,
   "id": "reverse-picking",
   "metadata": {
    "execution": {
     "iopub.execute_input": "2021-11-13T22:00:08.028394Z",
     "iopub.status.busy": "2021-11-13T22:00:08.026063Z",
     "iopub.status.idle": "2021-11-13T22:00:08.929554Z",
     "shell.execute_reply": "2021-11-13T22:00:08.931146Z"
    },
    "papermill": {
     "duration": 0.955096,
     "end_time": "2021-11-13T22:00:08.931882",
     "exception": false,
     "start_time": "2021-11-13T22:00:07.976786",
     "status": "completed"
    },
    "tags": []
   },
   "outputs": [],
   "source": [
    "import pandas as pd\n",
    "import sqlite3"
   ]
  },
  {
   "cell_type": "code",
   "execution_count": 2,
   "id": "innovative-syndrome",
   "metadata": {
    "execution": {
     "iopub.execute_input": "2021-11-13T22:00:09.003643Z",
     "iopub.status.busy": "2021-11-13T22:00:09.001440Z",
     "iopub.status.idle": "2021-11-13T22:00:09.861183Z",
     "shell.execute_reply": "2021-11-13T22:00:09.862814Z"
    },
    "papermill": {
     "duration": 0.910005,
     "end_time": "2021-11-13T22:00:09.863373",
     "exception": false,
     "start_time": "2021-11-13T22:00:08.953368",
     "status": "completed"
    },
    "tags": []
   },
   "outputs": [],
   "source": [
    "timestamps = pd.read_sql(\"select distinct record_time from EBAY_TOP_BERLIN order by record_time desc limit 2\", sqlite3.connect(\"UsedObjects.db\"))"
   ]
  },
  {
   "cell_type": "code",
   "execution_count": 3,
   "id": "periodic-identification",
   "metadata": {
    "execution": {
     "iopub.execute_input": "2021-11-13T22:00:09.935625Z",
     "iopub.status.busy": "2021-11-13T22:00:09.933380Z",
     "iopub.status.idle": "2021-11-13T22:00:09.956004Z",
     "shell.execute_reply": "2021-11-13T22:00:09.957448Z"
    },
    "papermill": {
     "duration": 0.071173,
     "end_time": "2021-11-13T22:00:09.957932",
     "exception": false,
     "start_time": "2021-11-13T22:00:09.886759",
     "status": "completed"
    },
    "tags": []
   },
   "outputs": [
    {
     "data": {
      "text/html": [
       "<div>\n",
       "<style scoped>\n",
       "    .dataframe tbody tr th:only-of-type {\n",
       "        vertical-align: middle;\n",
       "    }\n",
       "\n",
       "    .dataframe tbody tr th {\n",
       "        vertical-align: top;\n",
       "    }\n",
       "\n",
       "    .dataframe thead th {\n",
       "        text-align: right;\n",
       "    }\n",
       "</style>\n",
       "<table border=\"1\" class=\"dataframe\">\n",
       "  <thead>\n",
       "    <tr style=\"text-align: right;\">\n",
       "      <th></th>\n",
       "      <th>RECORD_TIME</th>\n",
       "    </tr>\n",
       "  </thead>\n",
       "  <tbody>\n",
       "    <tr>\n",
       "      <th>0</th>\n",
       "      <td>2021-11-13 23:00</td>\n",
       "    </tr>\n",
       "    <tr>\n",
       "      <th>1</th>\n",
       "      <td>2021-11-13 22:30</td>\n",
       "    </tr>\n",
       "  </tbody>\n",
       "</table>\n",
       "</div>"
      ],
      "text/plain": [
       "        RECORD_TIME\n",
       "0  2021-11-13 23:00\n",
       "1  2021-11-13 22:30"
      ]
     },
     "execution_count": 3,
     "metadata": {},
     "output_type": "execute_result"
    }
   ],
   "source": [
    "timestamps"
   ]
  },
  {
   "cell_type": "code",
   "execution_count": 4,
   "id": "alternate-victory",
   "metadata": {
    "execution": {
     "iopub.execute_input": "2021-11-13T22:00:10.016377Z",
     "iopub.status.busy": "2021-11-13T22:00:10.014050Z",
     "iopub.status.idle": "2021-11-13T22:00:11.174299Z",
     "shell.execute_reply": "2021-11-13T22:00:11.175825Z"
    },
    "papermill": {
     "duration": 1.19746,
     "end_time": "2021-11-13T22:00:11.176324",
     "exception": false,
     "start_time": "2021-11-13T22:00:09.978864",
     "status": "completed"
    },
    "tags": []
   },
   "outputs": [],
   "source": [
    "df = pd.read_sql(\"select * from EBAY_TOP_BERLIN where record_time in (select distinct record_time from EBAY_TOP_BERLIN order by record_time desc limit 2)\", sqlite3.connect(\"UsedObjects.db\"))"
   ]
  },
  {
   "cell_type": "code",
   "execution_count": 5,
   "id": "popular-active",
   "metadata": {
    "execution": {
     "iopub.execute_input": "2021-11-13T22:00:11.254546Z",
     "iopub.status.busy": "2021-11-13T22:00:11.241077Z",
     "iopub.status.idle": "2021-11-13T22:00:11.271517Z",
     "shell.execute_reply": "2021-11-13T22:00:11.272782Z"
    },
    "papermill": {
     "duration": 0.073976,
     "end_time": "2021-11-13T22:00:11.273242",
     "exception": false,
     "start_time": "2021-11-13T22:00:11.199266",
     "status": "completed"
    },
    "tags": []
   },
   "outputs": [],
   "source": [
    "df_pivot = df.pivot_table(index=\"PRODUCT\", columns = \"RECORD_TIME\", values = \"LISTING_COUNT\")"
   ]
  },
  {
   "cell_type": "code",
   "execution_count": 6,
   "id": "union-huntington",
   "metadata": {
    "execution": {
     "iopub.execute_input": "2021-11-13T22:00:11.337591Z",
     "iopub.status.busy": "2021-11-13T22:00:11.335246Z",
     "iopub.status.idle": "2021-11-13T22:00:11.340648Z",
     "shell.execute_reply": "2021-11-13T22:00:11.342183Z"
    },
    "papermill": {
     "duration": 0.047451,
     "end_time": "2021-11-13T22:00:11.342680",
     "exception": false,
     "start_time": "2021-11-13T22:00:11.295229",
     "status": "completed"
    },
    "tags": []
   },
   "outputs": [],
   "source": [
    "df_pivot.columns = [\"stamp_1\", \"stamp_2\"]\n",
    "df_pivot_diff = df_pivot.diff(axis=1)"
   ]
  },
  {
   "cell_type": "code",
   "execution_count": 7,
   "id": "fifth-motion",
   "metadata": {
    "execution": {
     "iopub.execute_input": "2021-11-13T22:00:11.402405Z",
     "iopub.status.busy": "2021-11-13T22:00:11.399858Z",
     "iopub.status.idle": "2021-11-13T22:00:13.318768Z",
     "shell.execute_reply": "2021-11-13T22:00:13.320225Z"
    },
    "papermill": {
     "duration": 1.956616,
     "end_time": "2021-11-13T22:00:13.320756",
     "exception": false,
     "start_time": "2021-11-13T22:00:11.364140",
     "status": "completed"
    },
    "tags": []
   },
   "outputs": [
    {
     "data": {
      "text/plain": [
       "<AxesSubplot:ylabel='PRODUCT'>"
      ]
     },
     "execution_count": 7,
     "metadata": {},
     "output_type": "execute_result"
    },
    {
     "data": {
      "image/png": "[encoded data removed]",
      "text/plain": [
       "<Figure size 432x288 with 1 Axes>"
      ]
     },
     "metadata": {
      "needs_background": "light"
     },
     "output_type": "display_data"
    }
   ],
   "source": [
    "df_pivot_diff.sort_values(\"stamp_2\", ascending = False)[\"stamp_2\"].head(10).plot.barh()"
   ]
  },
  {
   "cell_type": "code",
   "execution_count": null,
   "id": "extra-executive",
   "metadata": {
    "papermill": {
     "duration": 0.023715,
     "end_time": "2021-11-13T22:00:13.368861",
     "exception": false,
     "start_time": "2021-11-13T22:00:13.345146",
     "status": "completed"
    },
    "tags": []
   },
   "outputs": [],
   "source": []
  }
 ],
 "metadata": {
  "kernelspec": {
   "display_name": "Python 3",
   "language": "python",
   "name": "python3"
  },
  "language_info": {
   "codemirror_mode": {
    "name": "ipython",
    "version": 3
   },
   "file_extension": ".py",
   "mimetype": "text/x-python",
   "name": "python",
   "nbconvert_exporter": "python",
   "pygments_lexer": "ipython3",
   "version": "3.9.5"
  },
  "papermill": {
   "default_parameters": {},
   "duration": 9.944081,
   "end_time": "2021-11-13T22:00:15.215956",
   "environment_variables": {},
   "exception": null,
   "input_path": "eBay_Overview.ipynb",
   "output_path": "eBay_Overview.ipynb",
   "parameters": {},
   "start_time": "2021-11-13T22:00:05.271875",
   "version": "2.3.3"
  }
 },
 "nbformat": 4,
 "nbformat_minor": 5
}