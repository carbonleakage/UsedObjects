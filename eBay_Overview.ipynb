{
 "cells": [
  {
   "cell_type": "code",
   "execution_count": 1,
   "id": "reverse-picking",
   "metadata": {
    "execution": {
     "iopub.execute_input": "2021-11-05T04:30:07.478007Z",
     "iopub.status.busy": "2021-11-05T04:30:07.475532Z",
     "iopub.status.idle": "2021-11-05T04:30:08.431174Z",
     "shell.execute_reply": "2021-11-05T04:30:08.429323Z"
    },
    "papermill": {
     "duration": 1.000032,
     "end_time": "2021-11-05T04:30:08.431681",
     "exception": false,
     "start_time": "2021-11-05T04:30:07.431649",
     "status": "completed"
    },
    "tags": []
   },
   "outputs": [],
   "source": [
    "import pandas as pd\n",
    "import sqlite3"
   ]
  },
  {
   "cell_type": "code",
   "execution_count": 2,
   "id": "innovative-syndrome",
   "metadata": {
    "execution": {
     "iopub.execute_input": "2021-11-05T04:30:08.494382Z",
     "iopub.status.busy": "2021-11-05T04:30:08.492082Z",
     "iopub.status.idle": "2021-11-05T04:30:09.212385Z",
     "shell.execute_reply": "2021-11-05T04:30:09.213825Z"
    },
    "papermill": {
     "duration": 0.753854,
     "end_time": "2021-11-05T04:30:09.214304",
     "exception": false,
     "start_time": "2021-11-05T04:30:08.460450",
     "status": "completed"
    },
    "tags": []
   },
   "outputs": [],
   "source": [
    "timestamps = pd.read_sql(\"select distinct record_time from EBAY_TOP_BERLIN order by record_time desc limit 2\", sqlite3.connect(\"UsedObjects.db\"))"
   ]
  },
  {
   "cell_type": "code",
   "execution_count": 3,
   "id": "periodic-identification",
   "metadata": {
    "execution": {
     "iopub.execute_input": "2021-11-05T04:30:09.281723Z",
     "iopub.status.busy": "2021-11-05T04:30:09.279409Z",
     "iopub.status.idle": "2021-11-05T04:30:09.301519Z",
     "shell.execute_reply": "2021-11-05T04:30:09.302904Z"
    },
    "papermill": {
     "duration": 0.069583,
     "end_time": "2021-11-05T04:30:09.303372",
     "exception": false,
     "start_time": "2021-11-05T04:30:09.233789",
     "status": "completed"
    },
    "tags": []
   },
   "outputs": [
    {
     "data": {
      "text/html": [
       "<div>\n",
       "<style scoped>\n",
       "    .dataframe tbody tr th:only-of-type {\n",
       "        vertical-align: middle;\n",
       "    }\n",
       "\n",
       "    .dataframe tbody tr th {\n",
       "        vertical-align: top;\n",
       "    }\n",
       "\n",
       "    .dataframe thead th {\n",
       "        text-align: right;\n",
       "    }\n",
       "</style>\n",
       "<table border=\"1\" class=\"dataframe\">\n",
       "  <thead>\n",
       "    <tr style=\"text-align: right;\">\n",
       "      <th></th>\n",
       "      <th>RECORD_TIME</th>\n",
       "    </tr>\n",
       "  </thead>\n",
       "  <tbody>\n",
       "    <tr>\n",
       "      <th>0</th>\n",
       "      <td>2021-11-05 05:30</td>\n",
       "    </tr>\n",
       "    <tr>\n",
       "      <th>1</th>\n",
       "      <td>2021-11-05 05:00</td>\n",
       "    </tr>\n",
       "  </tbody>\n",
       "</table>\n",
       "</div>"
      ],
      "text/plain": [
       "        RECORD_TIME\n",
       "0  2021-11-05 05:30\n",
       "1  2021-11-05 05:00"
      ]
     },
     "execution_count": 3,
     "metadata": {},
     "output_type": "execute_result"
    }
   ],
   "source": [
    "timestamps"
   ]
  },
  {
   "cell_type": "code",
   "execution_count": 4,
   "id": "alternate-victory",
   "metadata": {
    "execution": {
     "iopub.execute_input": "2021-11-05T04:30:09.356371Z",
     "iopub.status.busy": "2021-11-05T04:30:09.354295Z",
     "iopub.status.idle": "2021-11-05T04:30:10.418051Z",
     "shell.execute_reply": "2021-11-05T04:30:10.419648Z"
    },
    "papermill": {
     "duration": 1.097169,
     "end_time": "2021-11-05T04:30:10.420184",
     "exception": false,
     "start_time": "2021-11-05T04:30:09.323015",
     "status": "completed"
    },
    "tags": []
   },
   "outputs": [],
   "source": [
    "df = pd.read_sql(\"select * from EBAY_TOP_BERLIN where record_time in (select distinct record_time from EBAY_TOP_BERLIN order by record_time desc limit 2)\", sqlite3.connect(\"UsedObjects.db\"))"
   ]
  },
  {
   "cell_type": "code",
   "execution_count": 5,
   "id": "popular-active",
   "metadata": {
    "execution": {
     "iopub.execute_input": "2021-11-05T04:30:10.488187Z",
     "iopub.status.busy": "2021-11-05T04:30:10.485804Z",
     "iopub.status.idle": "2021-11-05T04:30:10.519221Z",
     "shell.execute_reply": "2021-11-05T04:30:10.520925Z"
    },
    "papermill": {
     "duration": 0.078504,
     "end_time": "2021-11-05T04:30:10.521445",
     "exception": false,
     "start_time": "2021-11-05T04:30:10.442941",
     "status": "completed"
    },
    "tags": []
   },
   "outputs": [],
   "source": [
    "df_pivot = df.pivot_table(index=\"PRODUCT\", columns = \"RECORD_TIME\", values = \"LISTING_COUNT\")"
   ]
  },
  {
   "cell_type": "code",
   "execution_count": 6,
   "id": "union-huntington",
   "metadata": {
    "execution": {
     "iopub.execute_input": "2021-11-05T04:30:10.583212Z",
     "iopub.status.busy": "2021-11-05T04:30:10.580783Z",
     "iopub.status.idle": "2021-11-05T04:30:10.586910Z",
     "shell.execute_reply": "2021-11-05T04:30:10.589801Z"
    },
    "papermill": {
     "duration": 0.047142,
     "end_time": "2021-11-05T04:30:10.590586",
     "exception": false,
     "start_time": "2021-11-05T04:30:10.543444",
     "status": "completed"
    },
    "tags": []
   },
   "outputs": [],
   "source": [
    "df_pivot.columns = [\"stamp_1\", \"stamp_2\"]\n",
    "df_pivot_diff = df_pivot.diff(axis=1)"
   ]
  },
  {
   "cell_type": "code",
   "execution_count": 7,
   "id": "fifth-motion",
   "metadata": {
    "execution": {
     "iopub.execute_input": "2021-11-05T04:30:10.650169Z",
     "iopub.status.busy": "2021-11-05T04:30:10.647431Z",
     "iopub.status.idle": "2021-11-05T04:30:12.449328Z",
     "shell.execute_reply": "2021-11-05T04:30:12.450703Z"
    },
    "papermill": {
     "duration": 1.839391,
     "end_time": "2021-11-05T04:30:12.451183",
     "exception": false,
     "start_time": "2021-11-05T04:30:10.611792",
     "status": "completed"
    },
    "tags": []
   },
   "outputs": [
    {
     "data": {
      "text/plain": [
       "<AxesSubplot:ylabel='PRODUCT'>"
      ]
     },
     "execution_count": 7,
     "metadata": {},
     "output_type": "execute_result"
    },
    {
     "data": {
      "image/png": "[encoded data removed]",
      "text/plain": [
       "<Figure size 432x288 with 1 Axes>"
      ]
     },
     "metadata": {
      "needs_background": "light"
     },
     "output_type": "display_data"
    }
   ],
   "source": [
    "df_pivot_diff.sort_values(\"stamp_2\", ascending = False)[\"stamp_2\"].head(10).plot.barh()"
   ]
  },
  {
   "cell_type": "code",
   "execution_count": null,
   "id": "extra-executive",
   "metadata": {
    "papermill": {
     "duration": 0.026968,
     "end_time": "2021-11-05T04:30:12.502849",
     "exception": false,
     "start_time": "2021-11-05T04:30:12.475881",
     "status": "completed"
    },
    "tags": []
   },
   "outputs": [],
   "source": []
  }
 ],
 "metadata": {
  "kernelspec": {
   "display_name": "Python 3",
   "language": "python",
   "name": "python3"
  },
  "language_info": {
   "codemirror_mode": {
    "name": "ipython",
    "version": 3
   },
   "file_extension": ".py",
   "mimetype": "text/x-python",
   "name": "python",
   "nbconvert_exporter": "python",
   "pygments_lexer": "ipython3",
   "version": "3.9.5"
  },
  "papermill": {
   "default_parameters": {},
   "duration": 8.841675,
   "end_time": "2021-11-05T04:30:13.552412",
   "environment_variables": {},
   "exception": null,
   "input_path": "eBay_Overview.ipynb",
   "output_path": "eBay_Overview.ipynb",
   "parameters": {},
   "start_time": "2021-11-05T04:30:04.710737",
   "version": "2.3.3"
  }
 },
 "nbformat": 4,
 "nbformat_minor": 5
}