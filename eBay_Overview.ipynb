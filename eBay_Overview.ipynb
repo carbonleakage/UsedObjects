{
 "cells": [
  {
   "cell_type": "code",
   "execution_count": 1,
   "id": "reverse-picking",
   "metadata": {
    "execution": {
     "iopub.execute_input": "2021-08-29T23:30:07.202487Z",
     "iopub.status.busy": "2021-08-29T23:30:07.200455Z",
     "iopub.status.idle": "2021-08-29T23:30:08.013190Z",
     "shell.execute_reply": "2021-08-29T23:30:08.011455Z"
    },
    "papermill": {
     "duration": 0.862059,
     "end_time": "2021-08-29T23:30:08.013620",
     "exception": false,
     "start_time": "2021-08-29T23:30:07.151561",
     "status": "completed"
    },
    "tags": []
   },
   "outputs": [],
   "source": [
    "import pandas as pd\n",
    "import sqlite3"
   ]
  },
  {
   "cell_type": "code",
   "execution_count": 2,
   "id": "innovative-syndrome",
   "metadata": {
    "execution": {
     "iopub.execute_input": "2021-08-29T23:30:08.064499Z",
     "iopub.status.busy": "2021-08-29T23:30:08.062483Z",
     "iopub.status.idle": "2021-08-29T23:30:08.224671Z",
     "shell.execute_reply": "2021-08-29T23:30:08.226084Z"
    },
    "papermill": {
     "duration": 0.192479,
     "end_time": "2021-08-29T23:30:08.226524",
     "exception": false,
     "start_time": "2021-08-29T23:30:08.034045",
     "status": "completed"
    },
    "tags": []
   },
   "outputs": [],
   "source": [
    "timestamps = pd.read_sql(\"select distinct record_time from EBAY_TOP_BERLIN order by record_time desc limit 2\", sqlite3.connect(\"UsedObjects.db\"))"
   ]
  },
  {
   "cell_type": "code",
   "execution_count": 3,
   "id": "periodic-identification",
   "metadata": {
    "execution": {
     "iopub.execute_input": "2021-08-29T23:30:08.290800Z",
     "iopub.status.busy": "2021-08-29T23:30:08.288776Z",
     "iopub.status.idle": "2021-08-29T23:30:08.308798Z",
     "shell.execute_reply": "2021-08-29T23:30:08.309923Z"
    },
    "papermill": {
     "duration": 0.064527,
     "end_time": "2021-08-29T23:30:08.310331",
     "exception": false,
     "start_time": "2021-08-29T23:30:08.245804",
     "status": "completed"
    },
    "tags": []
   },
   "outputs": [
    {
     "data": {
      "text/html": [
       "<div>\n",
       "<style scoped>\n",
       "    .dataframe tbody tr th:only-of-type {\n",
       "        vertical-align: middle;\n",
       "    }\n",
       "\n",
       "    .dataframe tbody tr th {\n",
       "        vertical-align: top;\n",
       "    }\n",
       "\n",
       "    .dataframe thead th {\n",
       "        text-align: right;\n",
       "    }\n",
       "</style>\n",
       "<table border=\"1\" class=\"dataframe\">\n",
       "  <thead>\n",
       "    <tr style=\"text-align: right;\">\n",
       "      <th></th>\n",
       "      <th>RECORD_TIME</th>\n",
       "    </tr>\n",
       "  </thead>\n",
       "  <tbody>\n",
       "    <tr>\n",
       "      <th>0</th>\n",
       "      <td>2021-08-30 01:30</td>\n",
       "    </tr>\n",
       "    <tr>\n",
       "      <th>1</th>\n",
       "      <td>2021-08-30 01:00</td>\n",
       "    </tr>\n",
       "  </tbody>\n",
       "</table>\n",
       "</div>"
      ],
      "text/plain": [
       "        RECORD_TIME\n",
       "0  2021-08-30 01:30\n",
       "1  2021-08-30 01:00"
      ]
     },
     "execution_count": 3,
     "metadata": {},
     "output_type": "execute_result"
    }
   ],
   "source": [
    "timestamps"
   ]
  },
  {
   "cell_type": "code",
   "execution_count": 4,
   "id": "alternate-victory",
   "metadata": {
    "execution": {
     "iopub.execute_input": "2021-08-29T23:30:08.361560Z",
     "iopub.status.busy": "2021-08-29T23:30:08.359623Z",
     "iopub.status.idle": "2021-08-29T23:30:08.597421Z",
     "shell.execute_reply": "2021-08-29T23:30:08.598624Z"
    },
    "papermill": {
     "duration": 0.26766,
     "end_time": "2021-08-29T23:30:08.599014",
     "exception": false,
     "start_time": "2021-08-29T23:30:08.331354",
     "status": "completed"
    },
    "tags": []
   },
   "outputs": [],
   "source": [
    "df = pd.read_sql(\"select * from EBAY_TOP_BERLIN where record_time in (select distinct record_time from EBAY_TOP_BERLIN order by record_time desc limit 2)\", sqlite3.connect(\"UsedObjects.db\"))"
   ]
  },
  {
   "cell_type": "code",
   "execution_count": 5,
   "id": "popular-active",
   "metadata": {
    "execution": {
     "iopub.execute_input": "2021-08-29T23:30:08.696033Z",
     "iopub.status.busy": "2021-08-29T23:30:08.683324Z",
     "iopub.status.idle": "2021-08-29T23:30:08.712326Z",
     "shell.execute_reply": "2021-08-29T23:30:08.713713Z"
    },
    "papermill": {
     "duration": 0.076792,
     "end_time": "2021-08-29T23:30:08.714149",
     "exception": false,
     "start_time": "2021-08-29T23:30:08.637357",
     "status": "completed"
    },
    "tags": []
   },
   "outputs": [],
   "source": [
    "df_pivot = df.pivot_table(index=\"PRODUCT\", columns = \"RECORD_TIME\", values = \"LISTING_COUNT\")"
   ]
  },
  {
   "cell_type": "code",
   "execution_count": 6,
   "id": "union-huntington",
   "metadata": {
    "execution": {
     "iopub.execute_input": "2021-08-29T23:30:08.772589Z",
     "iopub.status.busy": "2021-08-29T23:30:08.770267Z",
     "iopub.status.idle": "2021-08-29T23:30:08.776096Z",
     "shell.execute_reply": "2021-08-29T23:30:08.777583Z"
    },
    "papermill": {
     "duration": 0.041944,
     "end_time": "2021-08-29T23:30:08.778033",
     "exception": false,
     "start_time": "2021-08-29T23:30:08.736089",
     "status": "completed"
    },
    "tags": []
   },
   "outputs": [],
   "source": [
    "df_pivot.columns = [\"stamp_1\", \"stamp_2\"]\n",
    "df_pivot_diff = df_pivot.diff(axis=1)"
   ]
  },
  {
   "cell_type": "code",
   "execution_count": 7,
   "id": "fifth-motion",
   "metadata": {
    "execution": {
     "iopub.execute_input": "2021-08-29T23:30:08.831509Z",
     "iopub.status.busy": "2021-08-29T23:30:08.829245Z",
     "iopub.status.idle": "2021-08-29T23:30:10.328447Z",
     "shell.execute_reply": "2021-08-29T23:30:10.329745Z"
    },
    "papermill": {
     "duration": 1.532218,
     "end_time": "2021-08-29T23:30:10.330162",
     "exception": false,
     "start_time": "2021-08-29T23:30:08.797944",
     "status": "completed"
    },
    "tags": []
   },
   "outputs": [
    {
     "data": {
      "text/plain": [
       "<AxesSubplot:ylabel='PRODUCT'>"
      ]
     },
     "execution_count": 7,
     "metadata": {},
     "output_type": "execute_result"
    },
    {
     "data": {
      "image/png": "[encoded data removed]",
      "text/plain": [
       "<Figure size 432x288 with 1 Axes>"
      ]
     },
     "metadata": {
      "needs_background": "light"
     },
     "output_type": "display_data"
    }
   ],
   "source": [
    "df_pivot_diff.sort_values(\"stamp_2\", ascending = False)[\"stamp_2\"].head(10).plot.barh()"
   ]
  },
  {
   "cell_type": "code",
   "execution_count": null,
   "id": "extra-executive",
   "metadata": {
    "papermill": {
     "duration": 0.022159,
     "end_time": "2021-08-29T23:30:10.376273",
     "exception": false,
     "start_time": "2021-08-29T23:30:10.354114",
     "status": "completed"
    },
    "tags": []
   },
   "outputs": [],
   "source": []
  }
 ],
 "metadata": {
  "kernelspec": {
   "display_name": "Python 3",
   "language": "python",
   "name": "python3"
  },
  "language_info": {
   "codemirror_mode": {
    "name": "ipython",
    "version": 3
   },
   "file_extension": ".py",
   "mimetype": "text/x-python",
   "name": "python",
   "nbconvert_exporter": "python",
   "pygments_lexer": "ipython3",
   "version": "3.9.5"
  },
  "papermill": {
   "default_parameters": {},
   "duration": 6.81953,
   "end_time": "2021-08-29T23:30:11.565704",
   "environment_variables": {},
   "exception": null,
   "input_path": "eBay_Overview.ipynb",
   "output_path": "eBay_Overview.ipynb",
   "parameters": {},
   "start_time": "2021-08-29T23:30:04.746174",
   "version": "2.3.3"
  }
 },
 "nbformat": 4,
 "nbformat_minor": 5
}