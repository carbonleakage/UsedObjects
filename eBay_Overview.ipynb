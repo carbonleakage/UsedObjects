{
 "cells": [
  {
   "cell_type": "code",
   "execution_count": 1,
   "id": "reverse-picking",
   "metadata": {
    "execution": {
     "iopub.execute_input": "2021-09-06T17:00:06.790997Z",
     "iopub.status.busy": "2021-09-06T17:00:06.789036Z",
     "iopub.status.idle": "2021-09-06T17:00:07.596861Z",
     "shell.execute_reply": "2021-09-06T17:00:07.595310Z"
    },
    "papermill": {
     "duration": 0.856422,
     "end_time": "2021-09-06T17:00:07.597254",
     "exception": false,
     "start_time": "2021-09-06T17:00:06.740832",
     "status": "completed"
    },
    "tags": []
   },
   "outputs": [],
   "source": [
    "import pandas as pd\n",
    "import sqlite3"
   ]
  },
  {
   "cell_type": "code",
   "execution_count": 2,
   "id": "innovative-syndrome",
   "metadata": {
    "execution": {
     "iopub.execute_input": "2021-09-06T17:00:07.650674Z",
     "iopub.status.busy": "2021-09-06T17:00:07.648349Z",
     "iopub.status.idle": "2021-09-06T17:00:07.875564Z",
     "shell.execute_reply": "2021-09-06T17:00:07.876982Z"
    },
    "papermill": {
     "duration": 0.257135,
     "end_time": "2021-09-06T17:00:07.877423",
     "exception": false,
     "start_time": "2021-09-06T17:00:07.620288",
     "status": "completed"
    },
    "tags": []
   },
   "outputs": [],
   "source": [
    "timestamps = pd.read_sql(\"select distinct record_time from EBAY_TOP_BERLIN order by record_time desc limit 2\", sqlite3.connect(\"UsedObjects.db\"))"
   ]
  },
  {
   "cell_type": "code",
   "execution_count": 3,
   "id": "periodic-identification",
   "metadata": {
    "execution": {
     "iopub.execute_input": "2021-09-06T17:00:07.943914Z",
     "iopub.status.busy": "2021-09-06T17:00:07.941832Z",
     "iopub.status.idle": "2021-09-06T17:00:07.961775Z",
     "shell.execute_reply": "2021-09-06T17:00:07.963203Z"
    },
    "papermill": {
     "duration": 0.066605,
     "end_time": "2021-09-06T17:00:07.963656",
     "exception": false,
     "start_time": "2021-09-06T17:00:07.897051",
     "status": "completed"
    },
    "tags": []
   },
   "outputs": [
    {
     "data": {
      "text/html": [
       "<div>\n",
       "<style scoped>\n",
       "    .dataframe tbody tr th:only-of-type {\n",
       "        vertical-align: middle;\n",
       "    }\n",
       "\n",
       "    .dataframe tbody tr th {\n",
       "        vertical-align: top;\n",
       "    }\n",
       "\n",
       "    .dataframe thead th {\n",
       "        text-align: right;\n",
       "    }\n",
       "</style>\n",
       "<table border=\"1\" class=\"dataframe\">\n",
       "  <thead>\n",
       "    <tr style=\"text-align: right;\">\n",
       "      <th></th>\n",
       "      <th>RECORD_TIME</th>\n",
       "    </tr>\n",
       "  </thead>\n",
       "  <tbody>\n",
       "    <tr>\n",
       "      <th>0</th>\n",
       "      <td>2021-09-06 19:00</td>\n",
       "    </tr>\n",
       "    <tr>\n",
       "      <th>1</th>\n",
       "      <td>2021-09-06 18:30</td>\n",
       "    </tr>\n",
       "  </tbody>\n",
       "</table>\n",
       "</div>"
      ],
      "text/plain": [
       "        RECORD_TIME\n",
       "0  2021-09-06 19:00\n",
       "1  2021-09-06 18:30"
      ]
     },
     "execution_count": 3,
     "metadata": {},
     "output_type": "execute_result"
    }
   ],
   "source": [
    "timestamps"
   ]
  },
  {
   "cell_type": "code",
   "execution_count": 4,
   "id": "alternate-victory",
   "metadata": {
    "execution": {
     "iopub.execute_input": "2021-09-06T17:00:08.015193Z",
     "iopub.status.busy": "2021-09-06T17:00:08.013117Z",
     "iopub.status.idle": "2021-09-06T17:00:08.341377Z",
     "shell.execute_reply": "2021-09-06T17:00:08.342584Z"
    },
    "papermill": {
     "duration": 0.358764,
     "end_time": "2021-09-06T17:00:08.343151",
     "exception": false,
     "start_time": "2021-09-06T17:00:07.984387",
     "status": "completed"
    },
    "tags": []
   },
   "outputs": [],
   "source": [
    "df = pd.read_sql(\"select * from EBAY_TOP_BERLIN where record_time in (select distinct record_time from EBAY_TOP_BERLIN order by record_time desc limit 2)\", sqlite3.connect(\"UsedObjects.db\"))"
   ]
  },
  {
   "cell_type": "code",
   "execution_count": 5,
   "id": "popular-active",
   "metadata": {
    "execution": {
     "iopub.execute_input": "2021-09-06T17:00:08.420257Z",
     "iopub.status.busy": "2021-09-06T17:00:08.408783Z",
     "iopub.status.idle": "2021-09-06T17:00:08.437278Z",
     "shell.execute_reply": "2021-09-06T17:00:08.438546Z"
    },
    "papermill": {
     "duration": 0.070413,
     "end_time": "2021-09-06T17:00:08.439020",
     "exception": false,
     "start_time": "2021-09-06T17:00:08.368607",
     "status": "completed"
    },
    "tags": []
   },
   "outputs": [],
   "source": [
    "df_pivot = df.pivot_table(index=\"PRODUCT\", columns = \"RECORD_TIME\", values = \"LISTING_COUNT\")"
   ]
  },
  {
   "cell_type": "code",
   "execution_count": 6,
   "id": "union-huntington",
   "metadata": {
    "execution": {
     "iopub.execute_input": "2021-09-06T17:00:08.494723Z",
     "iopub.status.busy": "2021-09-06T17:00:08.492673Z",
     "iopub.status.idle": "2021-09-06T17:00:08.497862Z",
     "shell.execute_reply": "2021-09-06T17:00:08.499225Z"
    },
    "papermill": {
     "duration": 0.040753,
     "end_time": "2021-09-06T17:00:08.499673",
     "exception": false,
     "start_time": "2021-09-06T17:00:08.458920",
     "status": "completed"
    },
    "tags": []
   },
   "outputs": [],
   "source": [
    "df_pivot.columns = [\"stamp_1\", \"stamp_2\"]\n",
    "df_pivot_diff = df_pivot.diff(axis=1)"
   ]
  },
  {
   "cell_type": "code",
   "execution_count": 7,
   "id": "fifth-motion",
   "metadata": {
    "execution": {
     "iopub.execute_input": "2021-09-06T17:00:08.555632Z",
     "iopub.status.busy": "2021-09-06T17:00:08.552870Z",
     "iopub.status.idle": "2021-09-06T17:00:10.072815Z",
     "shell.execute_reply": "2021-09-06T17:00:10.074164Z"
    },
    "papermill": {
     "duration": 1.553038,
     "end_time": "2021-09-06T17:00:10.074602",
     "exception": false,
     "start_time": "2021-09-06T17:00:08.521564",
     "status": "completed"
    },
    "tags": []
   },
   "outputs": [
    {
     "data": {
      "text/plain": [
       "<AxesSubplot:ylabel='PRODUCT'>"
      ]
     },
     "execution_count": 7,
     "metadata": {},
     "output_type": "execute_result"
    },
    {
     "data": {
      "image/png": "[encoded data removed]",
      "text/plain": [
       "<Figure size 432x288 with 1 Axes>"
      ]
     },
     "metadata": {
      "needs_background": "light"
     },
     "output_type": "display_data"
    }
   ],
   "source": [
    "df_pivot_diff.sort_values(\"stamp_2\", ascending = False)[\"stamp_2\"].head(10).plot.barh()"
   ]
  },
  {
   "cell_type": "code",
   "execution_count": null,
   "id": "extra-executive",
   "metadata": {
    "papermill": {
     "duration": 0.021881,
     "end_time": "2021-09-06T17:00:10.120192",
     "exception": false,
     "start_time": "2021-09-06T17:00:10.098311",
     "status": "completed"
    },
    "tags": []
   },
   "outputs": [],
   "source": []
  }
 ],
 "metadata": {
  "kernelspec": {
   "display_name": "Python 3",
   "language": "python",
   "name": "python3"
  },
  "language_info": {
   "codemirror_mode": {
    "name": "ipython",
    "version": 3
   },
   "file_extension": ".py",
   "mimetype": "text/x-python",
   "name": "python",
   "nbconvert_exporter": "python",
   "pygments_lexer": "ipython3",
   "version": "3.9.5"
  },
  "papermill": {
   "default_parameters": {},
   "duration": 6.428358,
   "end_time": "2021-09-06T17:00:10.760818",
   "environment_variables": {},
   "exception": null,
   "input_path": "eBay_Overview.ipynb",
   "output_path": "eBay_Overview.ipynb",
   "parameters": {},
   "start_time": "2021-09-06T17:00:04.332460",
   "version": "2.3.3"
  }
 },
 "nbformat": 4,
 "nbformat_minor": 5
}