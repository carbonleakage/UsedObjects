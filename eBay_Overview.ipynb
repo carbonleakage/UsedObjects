{
 "cells": [
  {
   "cell_type": "code",
   "execution_count": 1,
   "id": "reverse-picking",
   "metadata": {
    "execution": {
     "iopub.execute_input": "2021-10-26T04:00:07.319090Z",
     "iopub.status.busy": "2021-10-26T04:00:07.317152Z",
     "iopub.status.idle": "2021-10-26T04:00:08.122450Z",
     "shell.execute_reply": "2021-10-26T04:00:08.123693Z"
    },
    "papermill": {
     "duration": 0.859186,
     "end_time": "2021-10-26T04:00:08.124302",
     "exception": false,
     "start_time": "2021-10-26T04:00:07.265116",
     "status": "completed"
    },
    "tags": []
   },
   "outputs": [],
   "source": [
    "import pandas as pd\n",
    "import sqlite3"
   ]
  },
  {
   "cell_type": "code",
   "execution_count": 2,
   "id": "innovative-syndrome",
   "metadata": {
    "execution": {
     "iopub.execute_input": "2021-10-26T04:00:08.175831Z",
     "iopub.status.busy": "2021-10-26T04:00:08.173958Z",
     "iopub.status.idle": "2021-10-26T04:00:08.816671Z",
     "shell.execute_reply": "2021-10-26T04:00:08.817950Z"
    },
    "papermill": {
     "duration": 0.672201,
     "end_time": "2021-10-26T04:00:08.818351",
     "exception": false,
     "start_time": "2021-10-26T04:00:08.146150",
     "status": "completed"
    },
    "tags": []
   },
   "outputs": [],
   "source": [
    "timestamps = pd.read_sql(\"select distinct record_time from EBAY_TOP_BERLIN order by record_time desc limit 2\", sqlite3.connect(\"UsedObjects.db\"))"
   ]
  },
  {
   "cell_type": "code",
   "execution_count": 3,
   "id": "periodic-identification",
   "metadata": {
    "execution": {
     "iopub.execute_input": "2021-10-26T04:00:08.896121Z",
     "iopub.status.busy": "2021-10-26T04:00:08.894097Z",
     "iopub.status.idle": "2021-10-26T04:00:08.914928Z",
     "shell.execute_reply": "2021-10-26T04:00:08.916134Z"
    },
    "papermill": {
     "duration": 0.069463,
     "end_time": "2021-10-26T04:00:08.916529",
     "exception": false,
     "start_time": "2021-10-26T04:00:08.847066",
     "status": "completed"
    },
    "tags": []
   },
   "outputs": [
    {
     "data": {
      "text/html": [
       "<div>\n",
       "<style scoped>\n",
       "    .dataframe tbody tr th:only-of-type {\n",
       "        vertical-align: middle;\n",
       "    }\n",
       "\n",
       "    .dataframe tbody tr th {\n",
       "        vertical-align: top;\n",
       "    }\n",
       "\n",
       "    .dataframe thead th {\n",
       "        text-align: right;\n",
       "    }\n",
       "</style>\n",
       "<table border=\"1\" class=\"dataframe\">\n",
       "  <thead>\n",
       "    <tr style=\"text-align: right;\">\n",
       "      <th></th>\n",
       "      <th>RECORD_TIME</th>\n",
       "    </tr>\n",
       "  </thead>\n",
       "  <tbody>\n",
       "    <tr>\n",
       "      <th>0</th>\n",
       "      <td>2021-10-26 06:00</td>\n",
       "    </tr>\n",
       "    <tr>\n",
       "      <th>1</th>\n",
       "      <td>2021-10-26 05:30</td>\n",
       "    </tr>\n",
       "  </tbody>\n",
       "</table>\n",
       "</div>"
      ],
      "text/plain": [
       "        RECORD_TIME\n",
       "0  2021-10-26 06:00\n",
       "1  2021-10-26 05:30"
      ]
     },
     "execution_count": 3,
     "metadata": {},
     "output_type": "execute_result"
    }
   ],
   "source": [
    "timestamps"
   ]
  },
  {
   "cell_type": "code",
   "execution_count": 4,
   "id": "alternate-victory",
   "metadata": {
    "execution": {
     "iopub.execute_input": "2021-10-26T04:00:08.969855Z",
     "iopub.status.busy": "2021-10-26T04:00:08.967506Z",
     "iopub.status.idle": "2021-10-26T04:00:09.925641Z",
     "shell.execute_reply": "2021-10-26T04:00:09.927043Z"
    },
    "papermill": {
     "duration": 0.989032,
     "end_time": "2021-10-26T04:00:09.927491",
     "exception": false,
     "start_time": "2021-10-26T04:00:08.938459",
     "status": "completed"
    },
    "tags": []
   },
   "outputs": [],
   "source": [
    "df = pd.read_sql(\"select * from EBAY_TOP_BERLIN where record_time in (select distinct record_time from EBAY_TOP_BERLIN order by record_time desc limit 2)\", sqlite3.connect(\"UsedObjects.db\"))"
   ]
  },
  {
   "cell_type": "code",
   "execution_count": 5,
   "id": "popular-active",
   "metadata": {
    "execution": {
     "iopub.execute_input": "2021-10-26T04:00:09.997629Z",
     "iopub.status.busy": "2021-10-26T04:00:09.987557Z",
     "iopub.status.idle": "2021-10-26T04:00:10.014190Z",
     "shell.execute_reply": "2021-10-26T04:00:10.015387Z"
    },
    "papermill": {
     "duration": 0.067144,
     "end_time": "2021-10-26T04:00:10.015787",
     "exception": false,
     "start_time": "2021-10-26T04:00:09.948643",
     "status": "completed"
    },
    "tags": []
   },
   "outputs": [],
   "source": [
    "df_pivot = df.pivot_table(index=\"PRODUCT\", columns = \"RECORD_TIME\", values = \"LISTING_COUNT\")"
   ]
  },
  {
   "cell_type": "code",
   "execution_count": 6,
   "id": "union-huntington",
   "metadata": {
    "execution": {
     "iopub.execute_input": "2021-10-26T04:00:10.075329Z",
     "iopub.status.busy": "2021-10-26T04:00:10.072883Z",
     "iopub.status.idle": "2021-10-26T04:00:10.078931Z",
     "shell.execute_reply": "2021-10-26T04:00:10.080199Z"
    },
    "papermill": {
     "duration": 0.042291,
     "end_time": "2021-10-26T04:00:10.080623",
     "exception": false,
     "start_time": "2021-10-26T04:00:10.038332",
     "status": "completed"
    },
    "tags": []
   },
   "outputs": [],
   "source": [
    "df_pivot.columns = [\"stamp_1\", \"stamp_2\"]\n",
    "df_pivot_diff = df_pivot.diff(axis=1)"
   ]
  },
  {
   "cell_type": "code",
   "execution_count": 7,
   "id": "fifth-motion",
   "metadata": {
    "execution": {
     "iopub.execute_input": "2021-10-26T04:00:10.135013Z",
     "iopub.status.busy": "2021-10-26T04:00:10.132568Z",
     "iopub.status.idle": "2021-10-26T04:00:11.602190Z",
     "shell.execute_reply": "2021-10-26T04:00:11.603459Z"
    },
    "papermill": {
     "duration": 1.503027,
     "end_time": "2021-10-26T04:00:11.603877",
     "exception": false,
     "start_time": "2021-10-26T04:00:10.100850",
     "status": "completed"
    },
    "tags": []
   },
   "outputs": [
    {
     "data": {
      "text/plain": [
       "<AxesSubplot:ylabel='PRODUCT'>"
      ]
     },
     "execution_count": 7,
     "metadata": {},
     "output_type": "execute_result"
    },
    {
     "data": {
      "image/png": "[encoded data removed]",
      "text/plain": [
       "<Figure size 432x288 with 1 Axes>"
      ]
     },
     "metadata": {
      "needs_background": "light"
     },
     "output_type": "display_data"
    }
   ],
   "source": [
    "df_pivot_diff.sort_values(\"stamp_2\", ascending = False)[\"stamp_2\"].head(10).plot.barh()"
   ]
  },
  {
   "cell_type": "code",
   "execution_count": null,
   "id": "extra-executive",
   "metadata": {
    "papermill": {
     "duration": 0.022388,
     "end_time": "2021-10-26T04:00:11.650345",
     "exception": false,
     "start_time": "2021-10-26T04:00:11.627957",
     "status": "completed"
    },
    "tags": []
   },
   "outputs": [],
   "source": []
  }
 ],
 "metadata": {
  "kernelspec": {
   "display_name": "Python 3",
   "language": "python",
   "name": "python3"
  },
  "language_info": {
   "codemirror_mode": {
    "name": "ipython",
    "version": 3
   },
   "file_extension": ".py",
   "mimetype": "text/x-python",
   "name": "python",
   "nbconvert_exporter": "python",
   "pygments_lexer": "ipython3",
   "version": "3.9.5"
  },
  "papermill": {
   "default_parameters": {},
   "duration": 7.436484,
   "end_time": "2021-10-26T04:00:12.294340",
   "environment_variables": {},
   "exception": null,
   "input_path": "eBay_Overview.ipynb",
   "output_path": "eBay_Overview.ipynb",
   "parameters": {},
   "start_time": "2021-10-26T04:00:04.857856",
   "version": "2.3.3"
  }
 },
 "nbformat": 4,
 "nbformat_minor": 5
}