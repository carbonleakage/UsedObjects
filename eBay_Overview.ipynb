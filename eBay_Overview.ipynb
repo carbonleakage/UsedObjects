{
 "cells": [
  {
   "cell_type": "code",
   "execution_count": 1,
   "id": "reverse-picking",
   "metadata": {
    "execution": {
     "iopub.execute_input": "2021-08-30T02:30:07.142122Z",
     "iopub.status.busy": "2021-08-30T02:30:07.140132Z",
     "iopub.status.idle": "2021-08-30T02:30:07.945470Z",
     "shell.execute_reply": "2021-08-30T02:30:07.946777Z"
    },
    "papermill": {
     "duration": 0.857891,
     "end_time": "2021-08-30T02:30:07.947389",
     "exception": false,
     "start_time": "2021-08-30T02:30:07.089498",
     "status": "completed"
    },
    "tags": []
   },
   "outputs": [],
   "source": [
    "import pandas as pd\n",
    "import sqlite3"
   ]
  },
  {
   "cell_type": "code",
   "execution_count": 2,
   "id": "innovative-syndrome",
   "metadata": {
    "execution": {
     "iopub.execute_input": "2021-08-30T02:30:07.997096Z",
     "iopub.status.busy": "2021-08-30T02:30:07.995120Z",
     "iopub.status.idle": "2021-08-30T02:30:08.159073Z",
     "shell.execute_reply": "2021-08-30T02:30:08.160373Z"
    },
    "papermill": {
     "duration": 0.193425,
     "end_time": "2021-08-30T02:30:08.160792",
     "exception": false,
     "start_time": "2021-08-30T02:30:07.967367",
     "status": "completed"
    },
    "tags": []
   },
   "outputs": [],
   "source": [
    "timestamps = pd.read_sql(\"select distinct record_time from EBAY_TOP_BERLIN order by record_time desc limit 2\", sqlite3.connect(\"UsedObjects.db\"))"
   ]
  },
  {
   "cell_type": "code",
   "execution_count": 3,
   "id": "periodic-identification",
   "metadata": {
    "execution": {
     "iopub.execute_input": "2021-08-30T02:30:08.226699Z",
     "iopub.status.busy": "2021-08-30T02:30:08.224677Z",
     "iopub.status.idle": "2021-08-30T02:30:08.244425Z",
     "shell.execute_reply": "2021-08-30T02:30:08.245577Z"
    },
    "papermill": {
     "duration": 0.063644,
     "end_time": "2021-08-30T02:30:08.245984",
     "exception": false,
     "start_time": "2021-08-30T02:30:08.182340",
     "status": "completed"
    },
    "tags": []
   },
   "outputs": [
    {
     "data": {
      "text/html": [
       "<div>\n",
       "<style scoped>\n",
       "    .dataframe tbody tr th:only-of-type {\n",
       "        vertical-align: middle;\n",
       "    }\n",
       "\n",
       "    .dataframe tbody tr th {\n",
       "        vertical-align: top;\n",
       "    }\n",
       "\n",
       "    .dataframe thead th {\n",
       "        text-align: right;\n",
       "    }\n",
       "</style>\n",
       "<table border=\"1\" class=\"dataframe\">\n",
       "  <thead>\n",
       "    <tr style=\"text-align: right;\">\n",
       "      <th></th>\n",
       "      <th>RECORD_TIME</th>\n",
       "    </tr>\n",
       "  </thead>\n",
       "  <tbody>\n",
       "    <tr>\n",
       "      <th>0</th>\n",
       "      <td>2021-08-30 04:30</td>\n",
       "    </tr>\n",
       "    <tr>\n",
       "      <th>1</th>\n",
       "      <td>2021-08-30 04:00</td>\n",
       "    </tr>\n",
       "  </tbody>\n",
       "</table>\n",
       "</div>"
      ],
      "text/plain": [
       "        RECORD_TIME\n",
       "0  2021-08-30 04:30\n",
       "1  2021-08-30 04:00"
      ]
     },
     "execution_count": 3,
     "metadata": {},
     "output_type": "execute_result"
    }
   ],
   "source": [
    "timestamps"
   ]
  },
  {
   "cell_type": "code",
   "execution_count": 4,
   "id": "alternate-victory",
   "metadata": {
    "execution": {
     "iopub.execute_input": "2021-08-30T02:30:08.297429Z",
     "iopub.status.busy": "2021-08-30T02:30:08.295455Z",
     "iopub.status.idle": "2021-08-30T02:30:08.545505Z",
     "shell.execute_reply": "2021-08-30T02:30:08.546722Z"
    },
    "papermill": {
     "duration": 0.279787,
     "end_time": "2021-08-30T02:30:08.547124",
     "exception": false,
     "start_time": "2021-08-30T02:30:08.267337",
     "status": "completed"
    },
    "tags": []
   },
   "outputs": [],
   "source": [
    "df = pd.read_sql(\"select * from EBAY_TOP_BERLIN where record_time in (select distinct record_time from EBAY_TOP_BERLIN order by record_time desc limit 2)\", sqlite3.connect(\"UsedObjects.db\"))"
   ]
  },
  {
   "cell_type": "code",
   "execution_count": 5,
   "id": "popular-active",
   "metadata": {
    "execution": {
     "iopub.execute_input": "2021-08-30T02:30:08.628608Z",
     "iopub.status.busy": "2021-08-30T02:30:08.617247Z",
     "iopub.status.idle": "2021-08-30T02:30:08.644987Z",
     "shell.execute_reply": "2021-08-30T02:30:08.646206Z"
    },
    "papermill": {
     "duration": 0.070669,
     "end_time": "2021-08-30T02:30:08.646598",
     "exception": false,
     "start_time": "2021-08-30T02:30:08.575929",
     "status": "completed"
    },
    "tags": []
   },
   "outputs": [],
   "source": [
    "df_pivot = df.pivot_table(index=\"PRODUCT\", columns = \"RECORD_TIME\", values = \"LISTING_COUNT\")"
   ]
  },
  {
   "cell_type": "code",
   "execution_count": 6,
   "id": "union-huntington",
   "metadata": {
    "execution": {
     "iopub.execute_input": "2021-08-30T02:30:08.701643Z",
     "iopub.status.busy": "2021-08-30T02:30:08.699527Z",
     "iopub.status.idle": "2021-08-30T02:30:08.704932Z",
     "shell.execute_reply": "2021-08-30T02:30:08.706286Z"
    },
    "papermill": {
     "duration": 0.040441,
     "end_time": "2021-08-30T02:30:08.706700",
     "exception": false,
     "start_time": "2021-08-30T02:30:08.666259",
     "status": "completed"
    },
    "tags": []
   },
   "outputs": [],
   "source": [
    "df_pivot.columns = [\"stamp_1\", \"stamp_2\"]\n",
    "df_pivot_diff = df_pivot.diff(axis=1)"
   ]
  },
  {
   "cell_type": "code",
   "execution_count": 7,
   "id": "fifth-motion",
   "metadata": {
    "execution": {
     "iopub.execute_input": "2021-08-30T02:30:08.761645Z",
     "iopub.status.busy": "2021-08-30T02:30:08.759067Z",
     "iopub.status.idle": "2021-08-30T02:30:10.285198Z",
     "shell.execute_reply": "2021-08-30T02:30:10.286493Z"
    },
    "papermill": {
     "duration": 1.559152,
     "end_time": "2021-08-30T02:30:10.286910",
     "exception": false,
     "start_time": "2021-08-30T02:30:08.727758",
     "status": "completed"
    },
    "tags": []
   },
   "outputs": [
    {
     "data": {
      "text/plain": [
       "<AxesSubplot:ylabel='PRODUCT'>"
      ]
     },
     "execution_count": 7,
     "metadata": {},
     "output_type": "execute_result"
    },
    {
     "data": {
      "image/png": "[encoded data removed]",
      "text/plain": [
       "<Figure size 432x288 with 1 Axes>"
      ]
     },
     "metadata": {
      "needs_background": "light"
     },
     "output_type": "display_data"
    }
   ],
   "source": [
    "df_pivot_diff.sort_values(\"stamp_2\", ascending = False)[\"stamp_2\"].head(10).plot.barh()"
   ]
  },
  {
   "cell_type": "code",
   "execution_count": null,
   "id": "extra-executive",
   "metadata": {
    "papermill": {
     "duration": 0.022166,
     "end_time": "2021-08-30T02:30:10.333013",
     "exception": false,
     "start_time": "2021-08-30T02:30:10.310847",
     "status": "completed"
    },
    "tags": []
   },
   "outputs": [],
   "source": []
  }
 ],
 "metadata": {
  "kernelspec": {
   "display_name": "Python 3",
   "language": "python",
   "name": "python3"
  },
  "language_info": {
   "codemirror_mode": {
    "name": "ipython",
    "version": 3
   },
   "file_extension": ".py",
   "mimetype": "text/x-python",
   "name": "python",
   "nbconvert_exporter": "python",
   "pygments_lexer": "ipython3",
   "version": "3.9.5"
  },
  "papermill": {
   "default_parameters": {},
   "duration": 6.81929,
   "end_time": "2021-08-30T02:30:11.501993",
   "environment_variables": {},
   "exception": null,
   "input_path": "eBay_Overview.ipynb",
   "output_path": "eBay_Overview.ipynb",
   "parameters": {},
   "start_time": "2021-08-30T02:30:04.682703",
   "version": "2.3.3"
  }
 },
 "nbformat": 4,
 "nbformat_minor": 5
}