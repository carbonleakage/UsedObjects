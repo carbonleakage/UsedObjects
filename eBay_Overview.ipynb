{
 "cells": [
  {
   "cell_type": "code",
   "execution_count": 1,
   "id": "reverse-picking",
   "metadata": {
    "execution": {
     "iopub.execute_input": "2021-11-25T06:00:08.155126Z",
     "iopub.status.busy": "2021-11-25T06:00:08.153027Z",
     "iopub.status.idle": "2021-11-25T06:00:09.117997Z",
     "shell.execute_reply": "2021-11-25T06:00:09.119658Z"
    },
    "papermill": {
     "duration": 1.011306,
     "end_time": "2021-11-25T06:00:09.120381",
     "exception": false,
     "start_time": "2021-11-25T06:00:08.109075",
     "status": "completed"
    },
    "tags": []
   },
   "outputs": [],
   "source": [
    "import pandas as pd\n",
    "import sqlite3"
   ]
  },
  {
   "cell_type": "code",
   "execution_count": 2,
   "id": "innovative-syndrome",
   "metadata": {
    "execution": {
     "iopub.execute_input": "2021-11-25T06:00:09.184177Z",
     "iopub.status.busy": "2021-11-25T06:00:09.181964Z",
     "iopub.status.idle": "2021-11-25T06:00:10.078213Z",
     "shell.execute_reply": "2021-11-25T06:00:10.079649Z"
    },
    "papermill": {
     "duration": 0.931073,
     "end_time": "2021-11-25T06:00:10.080157",
     "exception": false,
     "start_time": "2021-11-25T06:00:09.149084",
     "status": "completed"
    },
    "tags": []
   },
   "outputs": [],
   "source": [
    "timestamps = pd.read_sql(\"select distinct record_time from EBAY_TOP_BERLIN order by record_time desc limit 2\", sqlite3.connect(\"UsedObjects.db\"))"
   ]
  },
  {
   "cell_type": "code",
   "execution_count": 3,
   "id": "periodic-identification",
   "metadata": {
    "execution": {
     "iopub.execute_input": "2021-11-25T06:00:10.152617Z",
     "iopub.status.busy": "2021-11-25T06:00:10.150326Z",
     "iopub.status.idle": "2021-11-25T06:00:10.176572Z",
     "shell.execute_reply": "2021-11-25T06:00:10.178143Z"
    },
    "papermill": {
     "duration": 0.077822,
     "end_time": "2021-11-25T06:00:10.178660",
     "exception": false,
     "start_time": "2021-11-25T06:00:10.100838",
     "status": "completed"
    },
    "tags": []
   },
   "outputs": [
    {
     "data": {
      "text/html": [
       "<div>\n",
       "<style scoped>\n",
       "    .dataframe tbody tr th:only-of-type {\n",
       "        vertical-align: middle;\n",
       "    }\n",
       "\n",
       "    .dataframe tbody tr th {\n",
       "        vertical-align: top;\n",
       "    }\n",
       "\n",
       "    .dataframe thead th {\n",
       "        text-align: right;\n",
       "    }\n",
       "</style>\n",
       "<table border=\"1\" class=\"dataframe\">\n",
       "  <thead>\n",
       "    <tr style=\"text-align: right;\">\n",
       "      <th></th>\n",
       "      <th>RECORD_TIME</th>\n",
       "    </tr>\n",
       "  </thead>\n",
       "  <tbody>\n",
       "    <tr>\n",
       "      <th>0</th>\n",
       "      <td>2021-11-25 07:00</td>\n",
       "    </tr>\n",
       "    <tr>\n",
       "      <th>1</th>\n",
       "      <td>2021-11-25 06:30</td>\n",
       "    </tr>\n",
       "  </tbody>\n",
       "</table>\n",
       "</div>"
      ],
      "text/plain": [
       "        RECORD_TIME\n",
       "0  2021-11-25 07:00\n",
       "1  2021-11-25 06:30"
      ]
     },
     "execution_count": 3,
     "metadata": {},
     "output_type": "execute_result"
    }
   ],
   "source": [
    "timestamps"
   ]
  },
  {
   "cell_type": "code",
   "execution_count": 4,
   "id": "alternate-victory",
   "metadata": {
    "execution": {
     "iopub.execute_input": "2021-11-25T06:00:10.237843Z",
     "iopub.status.busy": "2021-11-25T06:00:10.235472Z",
     "iopub.status.idle": "2021-11-25T06:00:11.532327Z",
     "shell.execute_reply": "2021-11-25T06:00:11.535032Z"
    },
    "papermill": {
     "duration": 1.333213,
     "end_time": "2021-11-25T06:00:11.535884",
     "exception": false,
     "start_time": "2021-11-25T06:00:10.202671",
     "status": "completed"
    },
    "tags": []
   },
   "outputs": [],
   "source": [
    "df = pd.read_sql(\"select * from EBAY_TOP_BERLIN where record_time in (select distinct record_time from EBAY_TOP_BERLIN order by record_time desc limit 2)\", sqlite3.connect(\"UsedObjects.db\"))"
   ]
  },
  {
   "cell_type": "code",
   "execution_count": 5,
   "id": "popular-active",
   "metadata": {
    "execution": {
     "iopub.execute_input": "2021-11-25T06:00:11.629846Z",
     "iopub.status.busy": "2021-11-25T06:00:11.626711Z",
     "iopub.status.idle": "2021-11-25T06:00:11.661214Z",
     "shell.execute_reply": "2021-11-25T06:00:11.662658Z"
    },
    "papermill": {
     "duration": 0.1017,
     "end_time": "2021-11-25T06:00:11.663135",
     "exception": false,
     "start_time": "2021-11-25T06:00:11.561435",
     "status": "completed"
    },
    "tags": []
   },
   "outputs": [],
   "source": [
    "df_pivot = df.pivot_table(index=\"PRODUCT\", columns = \"RECORD_TIME\", values = \"LISTING_COUNT\")"
   ]
  },
  {
   "cell_type": "code",
   "execution_count": 6,
   "id": "union-huntington",
   "metadata": {
    "execution": {
     "iopub.execute_input": "2021-11-25T06:00:11.726972Z",
     "iopub.status.busy": "2021-11-25T06:00:11.724918Z",
     "iopub.status.idle": "2021-11-25T06:00:11.729876Z",
     "shell.execute_reply": "2021-11-25T06:00:11.731185Z"
    },
    "papermill": {
     "duration": 0.046124,
     "end_time": "2021-11-25T06:00:11.731612",
     "exception": false,
     "start_time": "2021-11-25T06:00:11.685488",
     "status": "completed"
    },
    "tags": []
   },
   "outputs": [],
   "source": [
    "df_pivot.columns = [\"stamp_1\", \"stamp_2\"]\n",
    "df_pivot_diff = df_pivot.diff(axis=1)"
   ]
  },
  {
   "cell_type": "code",
   "execution_count": 7,
   "id": "fifth-motion",
   "metadata": {
    "execution": {
     "iopub.execute_input": "2021-11-25T06:00:11.788609Z",
     "iopub.status.busy": "2021-11-25T06:00:11.786385Z",
     "iopub.status.idle": "2021-11-25T06:00:13.699811Z",
     "shell.execute_reply": "2021-11-25T06:00:13.701626Z"
    },
    "papermill": {
     "duration": 1.949287,
     "end_time": "2021-11-25T06:00:13.702226",
     "exception": false,
     "start_time": "2021-11-25T06:00:11.752939",
     "status": "completed"
    },
    "tags": []
   },
   "outputs": [
    {
     "data": {
      "text/plain": [
       "<AxesSubplot:ylabel='PRODUCT'>"
      ]
     },
     "execution_count": 7,
     "metadata": {},
     "output_type": "execute_result"
    },
    {
     "data": {
      "image/png": "[encoded data removed]",
      "text/plain": [
       "<Figure size 432x288 with 1 Axes>"
      ]
     },
     "metadata": {
      "needs_background": "light"
     },
     "output_type": "display_data"
    }
   ],
   "source": [
    "df_pivot_diff.sort_values(\"stamp_2\", ascending = False)[\"stamp_2\"].head(10).plot.barh()"
   ]
  },
  {
   "cell_type": "code",
   "execution_count": null,
   "id": "extra-executive",
   "metadata": {
    "papermill": {
     "duration": 0.025888,
     "end_time": "2021-11-25T06:00:13.757923",
     "exception": false,
     "start_time": "2021-11-25T06:00:13.732035",
     "status": "completed"
    },
    "tags": []
   },
   "outputs": [],
   "source": []
  }
 ],
 "metadata": {
  "kernelspec": {
   "display_name": "Python 3",
   "language": "python",
   "name": "python3"
  },
  "language_info": {
   "codemirror_mode": {
    "name": "ipython",
    "version": 3
   },
   "file_extension": ".py",
   "mimetype": "text/x-python",
   "name": "python",
   "nbconvert_exporter": "python",
   "pygments_lexer": "ipython3",
   "version": "3.9.5"
  },
  "papermill": {
   "default_parameters": {},
   "duration": 9.936282,
   "end_time": "2021-11-25T06:00:15.268387",
   "environment_variables": {},
   "exception": null,
   "input_path": "eBay_Overview.ipynb",
   "output_path": "eBay_Overview.ipynb",
   "parameters": {},
   "start_time": "2021-11-25T06:00:05.332105",
   "version": "2.3.3"
  }
 },
 "nbformat": 4,
 "nbformat_minor": 5
}