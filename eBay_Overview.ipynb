{
 "cells": [
  {
   "cell_type": "code",
   "execution_count": 1,
   "id": "reverse-picking",
   "metadata": {
    "execution": {
     "iopub.execute_input": "2021-10-26T05:30:06.946572Z",
     "iopub.status.busy": "2021-10-26T05:30:06.944520Z",
     "iopub.status.idle": "2021-10-26T05:30:07.751121Z",
     "shell.execute_reply": "2021-10-26T05:30:07.749548Z"
    },
    "papermill": {
     "duration": 0.85512,
     "end_time": "2021-10-26T05:30:07.751523",
     "exception": false,
     "start_time": "2021-10-26T05:30:06.896403",
     "status": "completed"
    },
    "tags": []
   },
   "outputs": [],
   "source": [
    "import pandas as pd\n",
    "import sqlite3"
   ]
  },
  {
   "cell_type": "code",
   "execution_count": 2,
   "id": "innovative-syndrome",
   "metadata": {
    "execution": {
     "iopub.execute_input": "2021-10-26T05:30:07.805589Z",
     "iopub.status.busy": "2021-10-26T05:30:07.803117Z",
     "iopub.status.idle": "2021-10-26T05:30:08.446045Z",
     "shell.execute_reply": "2021-10-26T05:30:08.447258Z"
    },
    "papermill": {
     "duration": 0.672837,
     "end_time": "2021-10-26T05:30:08.447660",
     "exception": false,
     "start_time": "2021-10-26T05:30:07.774823",
     "status": "completed"
    },
    "tags": []
   },
   "outputs": [],
   "source": [
    "timestamps = pd.read_sql(\"select distinct record_time from EBAY_TOP_BERLIN order by record_time desc limit 2\", sqlite3.connect(\"UsedObjects.db\"))"
   ]
  },
  {
   "cell_type": "code",
   "execution_count": 3,
   "id": "periodic-identification",
   "metadata": {
    "execution": {
     "iopub.execute_input": "2021-10-26T05:30:08.521345Z",
     "iopub.status.busy": "2021-10-26T05:30:08.519227Z",
     "iopub.status.idle": "2021-10-26T05:30:08.539188Z",
     "shell.execute_reply": "2021-10-26T05:30:08.540404Z"
    },
    "papermill": {
     "duration": 0.067985,
     "end_time": "2021-10-26T05:30:08.540989",
     "exception": false,
     "start_time": "2021-10-26T05:30:08.473004",
     "status": "completed"
    },
    "tags": []
   },
   "outputs": [
    {
     "data": {
      "text/html": [
       "<div>\n",
       "<style scoped>\n",
       "    .dataframe tbody tr th:only-of-type {\n",
       "        vertical-align: middle;\n",
       "    }\n",
       "\n",
       "    .dataframe tbody tr th {\n",
       "        vertical-align: top;\n",
       "    }\n",
       "\n",
       "    .dataframe thead th {\n",
       "        text-align: right;\n",
       "    }\n",
       "</style>\n",
       "<table border=\"1\" class=\"dataframe\">\n",
       "  <thead>\n",
       "    <tr style=\"text-align: right;\">\n",
       "      <th></th>\n",
       "      <th>RECORD_TIME</th>\n",
       "    </tr>\n",
       "  </thead>\n",
       "  <tbody>\n",
       "    <tr>\n",
       "      <th>0</th>\n",
       "      <td>2021-10-26 07:30</td>\n",
       "    </tr>\n",
       "    <tr>\n",
       "      <th>1</th>\n",
       "      <td>2021-10-26 07:00</td>\n",
       "    </tr>\n",
       "  </tbody>\n",
       "</table>\n",
       "</div>"
      ],
      "text/plain": [
       "        RECORD_TIME\n",
       "0  2021-10-26 07:30\n",
       "1  2021-10-26 07:00"
      ]
     },
     "execution_count": 3,
     "metadata": {},
     "output_type": "execute_result"
    }
   ],
   "source": [
    "timestamps"
   ]
  },
  {
   "cell_type": "code",
   "execution_count": 4,
   "id": "alternate-victory",
   "metadata": {
    "execution": {
     "iopub.execute_input": "2021-10-26T05:30:08.594561Z",
     "iopub.status.busy": "2021-10-26T05:30:08.592156Z",
     "iopub.status.idle": "2021-10-26T05:30:09.505504Z",
     "shell.execute_reply": "2021-10-26T05:30:09.506815Z"
    },
    "papermill": {
     "duration": 0.943636,
     "end_time": "2021-10-26T05:30:09.507226",
     "exception": false,
     "start_time": "2021-10-26T05:30:08.563590",
     "status": "completed"
    },
    "tags": []
   },
   "outputs": [],
   "source": [
    "df = pd.read_sql(\"select * from EBAY_TOP_BERLIN where record_time in (select distinct record_time from EBAY_TOP_BERLIN order by record_time desc limit 2)\", sqlite3.connect(\"UsedObjects.db\"))"
   ]
  },
  {
   "cell_type": "code",
   "execution_count": 5,
   "id": "popular-active",
   "metadata": {
    "execution": {
     "iopub.execute_input": "2021-10-26T05:30:09.576321Z",
     "iopub.status.busy": "2021-10-26T05:30:09.564447Z",
     "iopub.status.idle": "2021-10-26T05:30:09.591700Z",
     "shell.execute_reply": "2021-10-26T05:30:09.593145Z"
    },
    "papermill": {
     "duration": 0.065689,
     "end_time": "2021-10-26T05:30:09.593570",
     "exception": false,
     "start_time": "2021-10-26T05:30:09.527881",
     "status": "completed"
    },
    "tags": []
   },
   "outputs": [],
   "source": [
    "df_pivot = df.pivot_table(index=\"PRODUCT\", columns = \"RECORD_TIME\", values = \"LISTING_COUNT\")"
   ]
  },
  {
   "cell_type": "code",
   "execution_count": 6,
   "id": "union-huntington",
   "metadata": {
    "execution": {
     "iopub.execute_input": "2021-10-26T05:30:09.651946Z",
     "iopub.status.busy": "2021-10-26T05:30:09.649490Z",
     "iopub.status.idle": "2021-10-26T05:30:09.655483Z",
     "shell.execute_reply": "2021-10-26T05:30:09.656810Z"
    },
    "papermill": {
     "duration": 0.042246,
     "end_time": "2021-10-26T05:30:09.657271",
     "exception": false,
     "start_time": "2021-10-26T05:30:09.615025",
     "status": "completed"
    },
    "tags": []
   },
   "outputs": [],
   "source": [
    "df_pivot.columns = [\"stamp_1\", \"stamp_2\"]\n",
    "df_pivot_diff = df_pivot.diff(axis=1)"
   ]
  },
  {
   "cell_type": "code",
   "execution_count": 7,
   "id": "fifth-motion",
   "metadata": {
    "execution": {
     "iopub.execute_input": "2021-10-26T05:30:09.711750Z",
     "iopub.status.busy": "2021-10-26T05:30:09.709500Z",
     "iopub.status.idle": "2021-10-26T05:30:11.167498Z",
     "shell.execute_reply": "2021-10-26T05:30:11.168874Z"
    },
    "papermill": {
     "duration": 1.490589,
     "end_time": "2021-10-26T05:30:11.169337",
     "exception": false,
     "start_time": "2021-10-26T05:30:09.678748",
     "status": "completed"
    },
    "tags": []
   },
   "outputs": [
    {
     "data": {
      "text/plain": [
       "<AxesSubplot:ylabel='PRODUCT'>"
      ]
     },
     "execution_count": 7,
     "metadata": {},
     "output_type": "execute_result"
    },
    {
     "data": {
      "image/png": "[encoded data removed]",
      "text/plain": [
       "<Figure size 432x288 with 1 Axes>"
      ]
     },
     "metadata": {
      "needs_background": "light"
     },
     "output_type": "display_data"
    }
   ],
   "source": [
    "df_pivot_diff.sort_values(\"stamp_2\", ascending = False)[\"stamp_2\"].head(10).plot.barh()"
   ]
  },
  {
   "cell_type": "code",
   "execution_count": null,
   "id": "extra-executive",
   "metadata": {
    "papermill": {
     "duration": 0.02223,
     "end_time": "2021-10-26T05:30:11.216217",
     "exception": false,
     "start_time": "2021-10-26T05:30:11.193987",
     "status": "completed"
    },
    "tags": []
   },
   "outputs": [],
   "source": []
  }
 ],
 "metadata": {
  "kernelspec": {
   "display_name": "Python 3",
   "language": "python",
   "name": "python3"
  },
  "language_info": {
   "codemirror_mode": {
    "name": "ipython",
    "version": 3
   },
   "file_extension": ".py",
   "mimetype": "text/x-python",
   "name": "python",
   "nbconvert_exporter": "python",
   "pygments_lexer": "ipython3",
   "version": "3.9.5"
  },
  "papermill": {
   "default_parameters": {},
   "duration": 7.367917,
   "end_time": "2021-10-26T05:30:11.859922",
   "environment_variables": {},
   "exception": null,
   "input_path": "eBay_Overview.ipynb",
   "output_path": "eBay_Overview.ipynb",
   "parameters": {},
   "start_time": "2021-10-26T05:30:04.492005",
   "version": "2.3.3"
  }
 },
 "nbformat": 4,
 "nbformat_minor": 5
}