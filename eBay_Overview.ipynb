{
 "cells": [
  {
   "cell_type": "code",
   "execution_count": 1,
   "id": "reverse-picking",
   "metadata": {
    "execution": {
     "iopub.execute_input": "2021-10-22T23:00:07.533678Z",
     "iopub.status.busy": "2021-10-22T23:00:07.531044Z",
     "iopub.status.idle": "2021-10-22T23:00:08.340446Z",
     "shell.execute_reply": "2021-10-22T23:00:08.338901Z"
    },
    "papermill": {
     "duration": 0.859271,
     "end_time": "2021-10-22T23:00:08.340897",
     "exception": false,
     "start_time": "2021-10-22T23:00:07.481626",
     "status": "completed"
    },
    "tags": []
   },
   "outputs": [],
   "source": [
    "import pandas as pd\n",
    "import sqlite3"
   ]
  },
  {
   "cell_type": "code",
   "execution_count": 2,
   "id": "innovative-syndrome",
   "metadata": {
    "execution": {
     "iopub.execute_input": "2021-10-22T23:00:08.391932Z",
     "iopub.status.busy": "2021-10-22T23:00:08.390012Z",
     "iopub.status.idle": "2021-10-22T23:00:08.999516Z",
     "shell.execute_reply": "2021-10-22T23:00:09.000651Z"
    },
    "papermill": {
     "duration": 0.638713,
     "end_time": "2021-10-22T23:00:09.001145",
     "exception": false,
     "start_time": "2021-10-22T23:00:08.362432",
     "status": "completed"
    },
    "tags": []
   },
   "outputs": [],
   "source": [
    "timestamps = pd.read_sql(\"select distinct record_time from EBAY_TOP_BERLIN order by record_time desc limit 2\", sqlite3.connect(\"UsedObjects.db\"))"
   ]
  },
  {
   "cell_type": "code",
   "execution_count": 3,
   "id": "periodic-identification",
   "metadata": {
    "execution": {
     "iopub.execute_input": "2021-10-22T23:00:09.091269Z",
     "iopub.status.busy": "2021-10-22T23:00:09.089259Z",
     "iopub.status.idle": "2021-10-22T23:00:09.111226Z",
     "shell.execute_reply": "2021-10-22T23:00:09.112444Z"
    },
    "papermill": {
     "duration": 0.075049,
     "end_time": "2021-10-22T23:00:09.113041",
     "exception": false,
     "start_time": "2021-10-22T23:00:09.037992",
     "status": "completed"
    },
    "tags": []
   },
   "outputs": [
    {
     "data": {
      "text/html": [
       "<div>\n",
       "<style scoped>\n",
       "    .dataframe tbody tr th:only-of-type {\n",
       "        vertical-align: middle;\n",
       "    }\n",
       "\n",
       "    .dataframe tbody tr th {\n",
       "        vertical-align: top;\n",
       "    }\n",
       "\n",
       "    .dataframe thead th {\n",
       "        text-align: right;\n",
       "    }\n",
       "</style>\n",
       "<table border=\"1\" class=\"dataframe\">\n",
       "  <thead>\n",
       "    <tr style=\"text-align: right;\">\n",
       "      <th></th>\n",
       "      <th>RECORD_TIME</th>\n",
       "    </tr>\n",
       "  </thead>\n",
       "  <tbody>\n",
       "    <tr>\n",
       "      <th>0</th>\n",
       "      <td>2021-10-23 01:00</td>\n",
       "    </tr>\n",
       "    <tr>\n",
       "      <th>1</th>\n",
       "      <td>2021-10-23 00:30</td>\n",
       "    </tr>\n",
       "  </tbody>\n",
       "</table>\n",
       "</div>"
      ],
      "text/plain": [
       "        RECORD_TIME\n",
       "0  2021-10-23 01:00\n",
       "1  2021-10-23 00:30"
      ]
     },
     "execution_count": 3,
     "metadata": {},
     "output_type": "execute_result"
    }
   ],
   "source": [
    "timestamps"
   ]
  },
  {
   "cell_type": "code",
   "execution_count": 4,
   "id": "alternate-victory",
   "metadata": {
    "execution": {
     "iopub.execute_input": "2021-10-22T23:00:09.164802Z",
     "iopub.status.busy": "2021-10-22T23:00:09.162447Z",
     "iopub.status.idle": "2021-10-22T23:00:10.055154Z",
     "shell.execute_reply": "2021-10-22T23:00:10.056285Z"
    },
    "papermill": {
     "duration": 0.922847,
     "end_time": "2021-10-22T23:00:10.056741",
     "exception": false,
     "start_time": "2021-10-22T23:00:09.133894",
     "status": "completed"
    },
    "tags": []
   },
   "outputs": [],
   "source": [
    "df = pd.read_sql(\"select * from EBAY_TOP_BERLIN where record_time in (select distinct record_time from EBAY_TOP_BERLIN order by record_time desc limit 2)\", sqlite3.connect(\"UsedObjects.db\"))"
   ]
  },
  {
   "cell_type": "code",
   "execution_count": 5,
   "id": "popular-active",
   "metadata": {
    "execution": {
     "iopub.execute_input": "2021-10-22T23:00:10.127680Z",
     "iopub.status.busy": "2021-10-22T23:00:10.115284Z",
     "iopub.status.idle": "2021-10-22T23:00:10.143635Z",
     "shell.execute_reply": "2021-10-22T23:00:10.145062Z"
    },
    "papermill": {
     "duration": 0.066764,
     "end_time": "2021-10-22T23:00:10.145483",
     "exception": false,
     "start_time": "2021-10-22T23:00:10.078719",
     "status": "completed"
    },
    "tags": []
   },
   "outputs": [],
   "source": [
    "df_pivot = df.pivot_table(index=\"PRODUCT\", columns = \"RECORD_TIME\", values = \"LISTING_COUNT\")"
   ]
  },
  {
   "cell_type": "code",
   "execution_count": 6,
   "id": "union-huntington",
   "metadata": {
    "execution": {
     "iopub.execute_input": "2021-10-22T23:00:10.203192Z",
     "iopub.status.busy": "2021-10-22T23:00:10.200728Z",
     "iopub.status.idle": "2021-10-22T23:00:10.206935Z",
     "shell.execute_reply": "2021-10-22T23:00:10.208400Z"
    },
    "papermill": {
     "duration": 0.04234,
     "end_time": "2021-10-22T23:00:10.208942",
     "exception": false,
     "start_time": "2021-10-22T23:00:10.166602",
     "status": "completed"
    },
    "tags": []
   },
   "outputs": [],
   "source": [
    "df_pivot.columns = [\"stamp_1\", \"stamp_2\"]\n",
    "df_pivot_diff = df_pivot.diff(axis=1)"
   ]
  },
  {
   "cell_type": "code",
   "execution_count": 7,
   "id": "fifth-motion",
   "metadata": {
    "execution": {
     "iopub.execute_input": "2021-10-22T23:00:10.264041Z",
     "iopub.status.busy": "2021-10-22T23:00:10.261783Z",
     "iopub.status.idle": "2021-10-22T23:00:11.754441Z",
     "shell.execute_reply": "2021-10-22T23:00:11.755719Z"
    },
    "papermill": {
     "duration": 1.525402,
     "end_time": "2021-10-22T23:00:11.756136",
     "exception": false,
     "start_time": "2021-10-22T23:00:10.230734",
     "status": "completed"
    },
    "tags": []
   },
   "outputs": [
    {
     "data": {
      "text/plain": [
       "<AxesSubplot:ylabel='PRODUCT'>"
      ]
     },
     "execution_count": 7,
     "metadata": {},
     "output_type": "execute_result"
    },
    {
     "data": {
      "image/png": "[encoded data removed]",
      "text/plain": [
       "<Figure size 432x288 with 1 Axes>"
      ]
     },
     "metadata": {
      "needs_background": "light"
     },
     "output_type": "display_data"
    }
   ],
   "source": [
    "df_pivot_diff.sort_values(\"stamp_2\", ascending = False)[\"stamp_2\"].head(10).plot.barh()"
   ]
  },
  {
   "cell_type": "code",
   "execution_count": null,
   "id": "extra-executive",
   "metadata": {
    "papermill": {
     "duration": 0.021723,
     "end_time": "2021-10-22T23:00:11.800665",
     "exception": false,
     "start_time": "2021-10-22T23:00:11.778942",
     "status": "completed"
    },
    "tags": []
   },
   "outputs": [],
   "source": []
  }
 ],
 "metadata": {
  "kernelspec": {
   "display_name": "Python 3",
   "language": "python",
   "name": "python3"
  },
  "language_info": {
   "codemirror_mode": {
    "name": "ipython",
    "version": 3
   },
   "file_extension": ".py",
   "mimetype": "text/x-python",
   "name": "python",
   "nbconvert_exporter": "python",
   "pygments_lexer": "ipython3",
   "version": "3.9.5"
  },
  "papermill": {
   "default_parameters": {},
   "duration": 7.372408,
   "end_time": "2021-10-22T23:00:12.443254",
   "environment_variables": {},
   "exception": null,
   "input_path": "eBay_Overview.ipynb",
   "output_path": "eBay_Overview.ipynb",
   "parameters": {},
   "start_time": "2021-10-22T23:00:05.070846",
   "version": "2.3.3"
  }
 },
 "nbformat": 4,
 "nbformat_minor": 5
}