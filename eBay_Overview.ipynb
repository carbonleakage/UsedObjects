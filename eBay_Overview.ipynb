{
 "cells": [
  {
   "cell_type": "code",
   "execution_count": 1,
   "id": "reverse-picking",
   "metadata": {
    "execution": {
     "iopub.execute_input": "2021-12-12T16:30:07.511962Z",
     "iopub.status.busy": "2021-12-12T16:30:07.509755Z",
     "iopub.status.idle": "2021-12-12T16:30:08.463569Z",
     "shell.execute_reply": "2021-12-12T16:30:08.465220Z"
    },
    "papermill": {
     "duration": 1.003224,
     "end_time": "2021-12-12T16:30:08.465957",
     "exception": false,
     "start_time": "2021-12-12T16:30:07.462733",
     "status": "completed"
    },
    "tags": []
   },
   "outputs": [],
   "source": [
    "import pandas as pd\n",
    "import sqlite3"
   ]
  },
  {
   "cell_type": "code",
   "execution_count": 2,
   "id": "innovative-syndrome",
   "metadata": {
    "execution": {
     "iopub.execute_input": "2021-12-12T16:30:08.530192Z",
     "iopub.status.busy": "2021-12-12T16:30:08.527865Z",
     "iopub.status.idle": "2021-12-12T16:30:09.578720Z",
     "shell.execute_reply": "2021-12-12T16:30:09.580159Z"
    },
    "papermill": {
     "duration": 1.087225,
     "end_time": "2021-12-12T16:30:09.580640",
     "exception": false,
     "start_time": "2021-12-12T16:30:08.493415",
     "status": "completed"
    },
    "tags": []
   },
   "outputs": [],
   "source": [
    "timestamps = pd.read_sql(\"select distinct record_time from EBAY_TOP_BERLIN order by record_time desc limit 2\", sqlite3.connect(\"UsedObjects.db\"))"
   ]
  },
  {
   "cell_type": "code",
   "execution_count": 3,
   "id": "periodic-identification",
   "metadata": {
    "execution": {
     "iopub.execute_input": "2021-12-12T16:30:09.658563Z",
     "iopub.status.busy": "2021-12-12T16:30:09.652880Z",
     "iopub.status.idle": "2021-12-12T16:30:09.676669Z",
     "shell.execute_reply": "2021-12-12T16:30:09.678203Z"
    },
    "papermill": {
     "duration": 0.077375,
     "end_time": "2021-12-12T16:30:09.678718",
     "exception": false,
     "start_time": "2021-12-12T16:30:09.601343",
     "status": "completed"
    },
    "tags": []
   },
   "outputs": [
    {
     "data": {
      "text/html": [
       "<div>\n",
       "<style scoped>\n",
       "    .dataframe tbody tr th:only-of-type {\n",
       "        vertical-align: middle;\n",
       "    }\n",
       "\n",
       "    .dataframe tbody tr th {\n",
       "        vertical-align: top;\n",
       "    }\n",
       "\n",
       "    .dataframe thead th {\n",
       "        text-align: right;\n",
       "    }\n",
       "</style>\n",
       "<table border=\"1\" class=\"dataframe\">\n",
       "  <thead>\n",
       "    <tr style=\"text-align: right;\">\n",
       "      <th></th>\n",
       "      <th>RECORD_TIME</th>\n",
       "    </tr>\n",
       "  </thead>\n",
       "  <tbody>\n",
       "    <tr>\n",
       "      <th>0</th>\n",
       "      <td>2021-12-12 17:30</td>\n",
       "    </tr>\n",
       "    <tr>\n",
       "      <th>1</th>\n",
       "      <td>2021-12-12 17:00</td>\n",
       "    </tr>\n",
       "  </tbody>\n",
       "</table>\n",
       "</div>"
      ],
      "text/plain": [
       "        RECORD_TIME\n",
       "0  2021-12-12 17:30\n",
       "1  2021-12-12 17:00"
      ]
     },
     "execution_count": 3,
     "metadata": {},
     "output_type": "execute_result"
    }
   ],
   "source": [
    "timestamps"
   ]
  },
  {
   "cell_type": "code",
   "execution_count": 4,
   "id": "alternate-victory",
   "metadata": {
    "execution": {
     "iopub.execute_input": "2021-12-12T16:30:09.734954Z",
     "iopub.status.busy": "2021-12-12T16:30:09.732807Z",
     "iopub.status.idle": "2021-12-12T16:30:11.239404Z",
     "shell.execute_reply": "2021-12-12T16:30:11.240676Z"
    },
    "papermill": {
     "duration": 1.540392,
     "end_time": "2021-12-12T16:30:11.241192",
     "exception": false,
     "start_time": "2021-12-12T16:30:09.700800",
     "status": "completed"
    },
    "tags": []
   },
   "outputs": [],
   "source": [
    "df = pd.read_sql(\"select * from EBAY_TOP_BERLIN where record_time in (select distinct record_time from EBAY_TOP_BERLIN order by record_time desc limit 2)\", sqlite3.connect(\"UsedObjects.db\"))"
   ]
  },
  {
   "cell_type": "code",
   "execution_count": 5,
   "id": "popular-active",
   "metadata": {
    "execution": {
     "iopub.execute_input": "2021-12-12T16:30:11.319137Z",
     "iopub.status.busy": "2021-12-12T16:30:11.305883Z",
     "iopub.status.idle": "2021-12-12T16:30:11.341371Z",
     "shell.execute_reply": "2021-12-12T16:30:11.339439Z"
    },
    "papermill": {
     "duration": 0.078836,
     "end_time": "2021-12-12T16:30:11.341804",
     "exception": false,
     "start_time": "2021-12-12T16:30:11.262968",
     "status": "completed"
    },
    "tags": []
   },
   "outputs": [],
   "source": [
    "df_pivot = df.pivot_table(index=\"PRODUCT\", columns = \"RECORD_TIME\", values = \"LISTING_COUNT\")"
   ]
  },
  {
   "cell_type": "code",
   "execution_count": 6,
   "id": "union-huntington",
   "metadata": {
    "execution": {
     "iopub.execute_input": "2021-12-12T16:30:11.403121Z",
     "iopub.status.busy": "2021-12-12T16:30:11.400937Z",
     "iopub.status.idle": "2021-12-12T16:30:11.407954Z",
     "shell.execute_reply": "2021-12-12T16:30:11.406487Z"
    },
    "papermill": {
     "duration": 0.044722,
     "end_time": "2021-12-12T16:30:11.408358",
     "exception": false,
     "start_time": "2021-12-12T16:30:11.363636",
     "status": "completed"
    },
    "tags": []
   },
   "outputs": [],
   "source": [
    "df_pivot.columns = [\"stamp_1\", \"stamp_2\"]\n",
    "df_pivot_diff = df_pivot.diff(axis=1)"
   ]
  },
  {
   "cell_type": "code",
   "execution_count": 7,
   "id": "fifth-motion",
   "metadata": {
    "execution": {
     "iopub.execute_input": "2021-12-12T16:30:11.464132Z",
     "iopub.status.busy": "2021-12-12T16:30:11.461732Z",
     "iopub.status.idle": "2021-12-12T16:30:13.374737Z",
     "shell.execute_reply": "2021-12-12T16:30:13.376307Z"
    },
    "papermill": {
     "duration": 1.948797,
     "end_time": "2021-12-12T16:30:13.376925",
     "exception": false,
     "start_time": "2021-12-12T16:30:11.428128",
     "status": "completed"
    },
    "tags": []
   },
   "outputs": [
    {
     "data": {
      "text/plain": [
       "<AxesSubplot:ylabel='PRODUCT'>"
      ]
     },
     "execution_count": 7,
     "metadata": {},
     "output_type": "execute_result"
    },
    {
     "data": {
      "image/png": "[encoded data removed]",
      "text/plain": [
       "<Figure size 432x288 with 1 Axes>"
      ]
     },
     "metadata": {
      "needs_background": "light"
     },
     "output_type": "display_data"
    }
   ],
   "source": [
    "df_pivot_diff.sort_values(\"stamp_2\", ascending = False)[\"stamp_2\"].head(10).plot.barh()"
   ]
  },
  {
   "cell_type": "code",
   "execution_count": null,
   "id": "extra-executive",
   "metadata": {
    "papermill": {
     "duration": 0.035088,
     "end_time": "2021-12-12T16:30:13.447889",
     "exception": false,
     "start_time": "2021-12-12T16:30:13.412801",
     "status": "completed"
    },
    "tags": []
   },
   "outputs": [],
   "source": []
  }
 ],
 "metadata": {
  "kernelspec": {
   "display_name": "Python 3",
   "language": "python",
   "name": "python3"
  },
  "language_info": {
   "codemirror_mode": {
    "name": "ipython",
    "version": 3
   },
   "file_extension": ".py",
   "mimetype": "text/x-python",
   "name": "python",
   "nbconvert_exporter": "python",
   "pygments_lexer": "ipython3",
   "version": "3.9.5"
  },
  "papermill": {
   "default_parameters": {},
   "duration": 9.973908,
   "end_time": "2021-12-12T16:30:14.670094",
   "environment_variables": {},
   "exception": null,
   "input_path": "eBay_Overview.ipynb",
   "output_path": "eBay_Overview.ipynb",
   "parameters": {},
   "start_time": "2021-12-12T16:30:04.696186",
   "version": "2.3.3"
  }
 },
 "nbformat": 4,
 "nbformat_minor": 5
}