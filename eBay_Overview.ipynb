{
 "cells": [
  {
   "cell_type": "code",
   "execution_count": 1,
   "id": "reverse-picking",
   "metadata": {
    "execution": {
     "iopub.execute_input": "2021-10-18T00:30:07.195046Z",
     "iopub.status.busy": "2021-10-18T00:30:07.193126Z",
     "iopub.status.idle": "2021-10-18T00:30:08.002069Z",
     "shell.execute_reply": "2021-10-18T00:30:08.003313Z"
    },
    "papermill": {
     "duration": 0.861894,
     "end_time": "2021-10-18T00:30:08.003914",
     "exception": false,
     "start_time": "2021-10-18T00:30:07.142020",
     "status": "completed"
    },
    "tags": []
   },
   "outputs": [],
   "source": [
    "import pandas as pd\n",
    "import sqlite3"
   ]
  },
  {
   "cell_type": "code",
   "execution_count": 2,
   "id": "innovative-syndrome",
   "metadata": {
    "execution": {
     "iopub.execute_input": "2021-10-18T00:30:08.057421Z",
     "iopub.status.busy": "2021-10-18T00:30:08.055047Z",
     "iopub.status.idle": "2021-10-18T00:30:08.620310Z",
     "shell.execute_reply": "2021-10-18T00:30:08.621642Z"
    },
    "papermill": {
     "duration": 0.595568,
     "end_time": "2021-10-18T00:30:08.622060",
     "exception": false,
     "start_time": "2021-10-18T00:30:08.026492",
     "status": "completed"
    },
    "tags": []
   },
   "outputs": [],
   "source": [
    "timestamps = pd.read_sql(\"select distinct record_time from EBAY_TOP_BERLIN order by record_time desc limit 2\", sqlite3.connect(\"UsedObjects.db\"))"
   ]
  },
  {
   "cell_type": "code",
   "execution_count": 3,
   "id": "periodic-identification",
   "metadata": {
    "execution": {
     "iopub.execute_input": "2021-10-18T00:30:08.698481Z",
     "iopub.status.busy": "2021-10-18T00:30:08.696378Z",
     "iopub.status.idle": "2021-10-18T00:30:08.716315Z",
     "shell.execute_reply": "2021-10-18T00:30:08.717602Z"
    },
    "papermill": {
     "duration": 0.069486,
     "end_time": "2021-10-18T00:30:08.718000",
     "exception": false,
     "start_time": "2021-10-18T00:30:08.648514",
     "status": "completed"
    },
    "tags": []
   },
   "outputs": [
    {
     "data": {
      "text/html": [
       "<div>\n",
       "<style scoped>\n",
       "    .dataframe tbody tr th:only-of-type {\n",
       "        vertical-align: middle;\n",
       "    }\n",
       "\n",
       "    .dataframe tbody tr th {\n",
       "        vertical-align: top;\n",
       "    }\n",
       "\n",
       "    .dataframe thead th {\n",
       "        text-align: right;\n",
       "    }\n",
       "</style>\n",
       "<table border=\"1\" class=\"dataframe\">\n",
       "  <thead>\n",
       "    <tr style=\"text-align: right;\">\n",
       "      <th></th>\n",
       "      <th>RECORD_TIME</th>\n",
       "    </tr>\n",
       "  </thead>\n",
       "  <tbody>\n",
       "    <tr>\n",
       "      <th>0</th>\n",
       "      <td>2021-10-18 02:30</td>\n",
       "    </tr>\n",
       "    <tr>\n",
       "      <th>1</th>\n",
       "      <td>2021-10-18 02:00</td>\n",
       "    </tr>\n",
       "  </tbody>\n",
       "</table>\n",
       "</div>"
      ],
      "text/plain": [
       "        RECORD_TIME\n",
       "0  2021-10-18 02:30\n",
       "1  2021-10-18 02:00"
      ]
     },
     "execution_count": 3,
     "metadata": {},
     "output_type": "execute_result"
    }
   ],
   "source": [
    "timestamps"
   ]
  },
  {
   "cell_type": "code",
   "execution_count": 4,
   "id": "alternate-victory",
   "metadata": {
    "execution": {
     "iopub.execute_input": "2021-10-18T00:30:08.769828Z",
     "iopub.status.busy": "2021-10-18T00:30:08.767895Z",
     "iopub.status.idle": "2021-10-18T00:30:09.595282Z",
     "shell.execute_reply": "2021-10-18T00:30:09.596401Z"
    },
    "papermill": {
     "duration": 0.857651,
     "end_time": "2021-10-18T00:30:09.597004",
     "exception": false,
     "start_time": "2021-10-18T00:30:08.739353",
     "status": "completed"
    },
    "tags": []
   },
   "outputs": [],
   "source": [
    "df = pd.read_sql(\"select * from EBAY_TOP_BERLIN where record_time in (select distinct record_time from EBAY_TOP_BERLIN order by record_time desc limit 2)\", sqlite3.connect(\"UsedObjects.db\"))"
   ]
  },
  {
   "cell_type": "code",
   "execution_count": 5,
   "id": "popular-active",
   "metadata": {
    "execution": {
     "iopub.execute_input": "2021-10-18T00:30:09.669570Z",
     "iopub.status.busy": "2021-10-18T00:30:09.658547Z",
     "iopub.status.idle": "2021-10-18T00:30:09.686218Z",
     "shell.execute_reply": "2021-10-18T00:30:09.687429Z"
    },
    "papermill": {
     "duration": 0.067731,
     "end_time": "2021-10-18T00:30:09.687819",
     "exception": false,
     "start_time": "2021-10-18T00:30:09.620088",
     "status": "completed"
    },
    "tags": []
   },
   "outputs": [],
   "source": [
    "df_pivot = df.pivot_table(index=\"PRODUCT\", columns = \"RECORD_TIME\", values = \"LISTING_COUNT\")"
   ]
  },
  {
   "cell_type": "code",
   "execution_count": 6,
   "id": "union-huntington",
   "metadata": {
    "execution": {
     "iopub.execute_input": "2021-10-18T00:30:09.744448Z",
     "iopub.status.busy": "2021-10-18T00:30:09.742397Z",
     "iopub.status.idle": "2021-10-18T00:30:09.747359Z",
     "shell.execute_reply": "2021-10-18T00:30:09.748535Z"
    },
    "papermill": {
     "duration": 0.040096,
     "end_time": "2021-10-18T00:30:09.749016",
     "exception": false,
     "start_time": "2021-10-18T00:30:09.708920",
     "status": "completed"
    },
    "tags": []
   },
   "outputs": [],
   "source": [
    "df_pivot.columns = [\"stamp_1\", \"stamp_2\"]\n",
    "df_pivot_diff = df_pivot.diff(axis=1)"
   ]
  },
  {
   "cell_type": "code",
   "execution_count": 7,
   "id": "fifth-motion",
   "metadata": {
    "execution": {
     "iopub.execute_input": "2021-10-18T00:30:09.803789Z",
     "iopub.status.busy": "2021-10-18T00:30:09.801396Z",
     "iopub.status.idle": "2021-10-18T00:30:11.334317Z",
     "shell.execute_reply": "2021-10-18T00:30:11.335607Z"
    },
    "papermill": {
     "duration": 1.566178,
     "end_time": "2021-10-18T00:30:11.336022",
     "exception": false,
     "start_time": "2021-10-18T00:30:09.769844",
     "status": "completed"
    },
    "tags": []
   },
   "outputs": [
    {
     "data": {
      "text/plain": [
       "<AxesSubplot:ylabel='PRODUCT'>"
      ]
     },
     "execution_count": 7,
     "metadata": {},
     "output_type": "execute_result"
    },
    {
     "data": {
      "image/png": "[encoded data removed]",
      "text/plain": [
       "<Figure size 432x288 with 1 Axes>"
      ]
     },
     "metadata": {
      "needs_background": "light"
     },
     "output_type": "display_data"
    }
   ],
   "source": [
    "df_pivot_diff.sort_values(\"stamp_2\", ascending = False)[\"stamp_2\"].head(10).plot.barh()"
   ]
  },
  {
   "cell_type": "code",
   "execution_count": null,
   "id": "extra-executive",
   "metadata": {
    "papermill": {
     "duration": 0.022578,
     "end_time": "2021-10-18T00:30:11.382918",
     "exception": false,
     "start_time": "2021-10-18T00:30:11.360340",
     "status": "completed"
    },
    "tags": []
   },
   "outputs": [],
   "source": []
  }
 ],
 "metadata": {
  "kernelspec": {
   "display_name": "Python 3",
   "language": "python",
   "name": "python3"
  },
  "language_info": {
   "codemirror_mode": {
    "name": "ipython",
    "version": 3
   },
   "file_extension": ".py",
   "mimetype": "text/x-python",
   "name": "python",
   "nbconvert_exporter": "python",
   "pygments_lexer": "ipython3",
   "version": "3.9.5"
  },
  "papermill": {
   "default_parameters": {},
   "duration": 7.819476,
   "end_time": "2021-10-18T00:30:12.553414",
   "environment_variables": {},
   "exception": null,
   "input_path": "eBay_Overview.ipynb",
   "output_path": "eBay_Overview.ipynb",
   "parameters": {},
   "start_time": "2021-10-18T00:30:04.733938",
   "version": "2.3.3"
  }
 },
 "nbformat": 4,
 "nbformat_minor": 5
}