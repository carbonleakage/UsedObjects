{
 "cells": [
  {
   "cell_type": "code",
   "execution_count": 1,
   "id": "reverse-picking",
   "metadata": {
    "execution": {
     "iopub.execute_input": "2021-11-04T14:00:09.013029Z",
     "iopub.status.busy": "2021-11-04T14:00:09.010622Z",
     "iopub.status.idle": "2021-11-04T14:00:09.968485Z",
     "shell.execute_reply": "2021-11-04T14:00:09.966698Z"
    },
    "papermill": {
     "duration": 1.004921,
     "end_time": "2021-11-04T14:00:09.969045",
     "exception": false,
     "start_time": "2021-11-04T14:00:08.964124",
     "status": "completed"
    },
    "tags": []
   },
   "outputs": [],
   "source": [
    "import pandas as pd\n",
    "import sqlite3"
   ]
  },
  {
   "cell_type": "code",
   "execution_count": 2,
   "id": "innovative-syndrome",
   "metadata": {
    "execution": {
     "iopub.execute_input": "2021-11-04T14:00:10.030402Z",
     "iopub.status.busy": "2021-11-04T14:00:10.028063Z",
     "iopub.status.idle": "2021-11-04T14:00:10.735823Z",
     "shell.execute_reply": "2021-11-04T14:00:10.737139Z"
    },
    "papermill": {
     "duration": 0.74132,
     "end_time": "2021-11-04T14:00:10.737553",
     "exception": false,
     "start_time": "2021-11-04T14:00:09.996233",
     "status": "completed"
    },
    "tags": []
   },
   "outputs": [],
   "source": [
    "timestamps = pd.read_sql(\"select distinct record_time from EBAY_TOP_BERLIN order by record_time desc limit 2\", sqlite3.connect(\"UsedObjects.db\"))"
   ]
  },
  {
   "cell_type": "code",
   "execution_count": 3,
   "id": "periodic-identification",
   "metadata": {
    "execution": {
     "iopub.execute_input": "2021-11-04T14:00:10.808300Z",
     "iopub.status.busy": "2021-11-04T14:00:10.806027Z",
     "iopub.status.idle": "2021-11-04T14:00:10.829385Z",
     "shell.execute_reply": "2021-11-04T14:00:10.830802Z"
    },
    "papermill": {
     "duration": 0.072014,
     "end_time": "2021-11-04T14:00:10.831243",
     "exception": false,
     "start_time": "2021-11-04T14:00:10.759229",
     "status": "completed"
    },
    "tags": []
   },
   "outputs": [
    {
     "data": {
      "text/html": [
       "<div>\n",
       "<style scoped>\n",
       "    .dataframe tbody tr th:only-of-type {\n",
       "        vertical-align: middle;\n",
       "    }\n",
       "\n",
       "    .dataframe tbody tr th {\n",
       "        vertical-align: top;\n",
       "    }\n",
       "\n",
       "    .dataframe thead th {\n",
       "        text-align: right;\n",
       "    }\n",
       "</style>\n",
       "<table border=\"1\" class=\"dataframe\">\n",
       "  <thead>\n",
       "    <tr style=\"text-align: right;\">\n",
       "      <th></th>\n",
       "      <th>RECORD_TIME</th>\n",
       "    </tr>\n",
       "  </thead>\n",
       "  <tbody>\n",
       "    <tr>\n",
       "      <th>0</th>\n",
       "      <td>2021-11-04 15:00</td>\n",
       "    </tr>\n",
       "    <tr>\n",
       "      <th>1</th>\n",
       "      <td>2021-11-04 14:30</td>\n",
       "    </tr>\n",
       "  </tbody>\n",
       "</table>\n",
       "</div>"
      ],
      "text/plain": [
       "        RECORD_TIME\n",
       "0  2021-11-04 15:00\n",
       "1  2021-11-04 14:30"
      ]
     },
     "execution_count": 3,
     "metadata": {},
     "output_type": "execute_result"
    }
   ],
   "source": [
    "timestamps"
   ]
  },
  {
   "cell_type": "code",
   "execution_count": 4,
   "id": "alternate-victory",
   "metadata": {
    "execution": {
     "iopub.execute_input": "2021-11-04T14:00:10.885933Z",
     "iopub.status.busy": "2021-11-04T14:00:10.883868Z",
     "iopub.status.idle": "2021-11-04T14:00:11.921565Z",
     "shell.execute_reply": "2021-11-04T14:00:11.923142Z"
    },
    "papermill": {
     "duration": 1.071084,
     "end_time": "2021-11-04T14:00:11.923632",
     "exception": false,
     "start_time": "2021-11-04T14:00:10.852548",
     "status": "completed"
    },
    "tags": []
   },
   "outputs": [],
   "source": [
    "df = pd.read_sql(\"select * from EBAY_TOP_BERLIN where record_time in (select distinct record_time from EBAY_TOP_BERLIN order by record_time desc limit 2)\", sqlite3.connect(\"UsedObjects.db\"))"
   ]
  },
  {
   "cell_type": "code",
   "execution_count": 5,
   "id": "popular-active",
   "metadata": {
    "execution": {
     "iopub.execute_input": "2021-11-04T14:00:12.001419Z",
     "iopub.status.busy": "2021-11-04T14:00:11.987515Z",
     "iopub.status.idle": "2021-11-04T14:00:12.019576Z",
     "shell.execute_reply": "2021-11-04T14:00:12.021015Z"
    },
    "papermill": {
     "duration": 0.076244,
     "end_time": "2021-11-04T14:00:12.021489",
     "exception": false,
     "start_time": "2021-11-04T14:00:11.945245",
     "status": "completed"
    },
    "tags": []
   },
   "outputs": [],
   "source": [
    "df_pivot = df.pivot_table(index=\"PRODUCT\", columns = \"RECORD_TIME\", values = \"LISTING_COUNT\")"
   ]
  },
  {
   "cell_type": "code",
   "execution_count": 6,
   "id": "union-huntington",
   "metadata": {
    "execution": {
     "iopub.execute_input": "2021-11-04T14:00:12.080052Z",
     "iopub.status.busy": "2021-11-04T14:00:12.077878Z",
     "iopub.status.idle": "2021-11-04T14:00:12.082891Z",
     "shell.execute_reply": "2021-11-04T14:00:12.084267Z"
    },
    "papermill": {
     "duration": 0.043222,
     "end_time": "2021-11-04T14:00:12.084822",
     "exception": false,
     "start_time": "2021-11-04T14:00:12.041600",
     "status": "completed"
    },
    "tags": []
   },
   "outputs": [],
   "source": [
    "df_pivot.columns = [\"stamp_1\", \"stamp_2\"]\n",
    "df_pivot_diff = df_pivot.diff(axis=1)"
   ]
  },
  {
   "cell_type": "code",
   "execution_count": 7,
   "id": "fifth-motion",
   "metadata": {
    "execution": {
     "iopub.execute_input": "2021-11-04T14:00:12.149435Z",
     "iopub.status.busy": "2021-11-04T14:00:12.145075Z",
     "iopub.status.idle": "2021-11-04T14:00:14.167314Z",
     "shell.execute_reply": "2021-11-04T14:00:14.168979Z"
    },
    "papermill": {
     "duration": 2.060859,
     "end_time": "2021-11-04T14:00:14.169459",
     "exception": false,
     "start_time": "2021-11-04T14:00:12.108600",
     "status": "completed"
    },
    "tags": []
   },
   "outputs": [
    {
     "data": {
      "text/plain": [
       "<AxesSubplot:ylabel='PRODUCT'>"
      ]
     },
     "execution_count": 7,
     "metadata": {},
     "output_type": "execute_result"
    },
    {
     "data": {
      "image/png": "[encoded data removed]",
      "text/plain": [
       "<Figure size 432x288 with 1 Axes>"
      ]
     },
     "metadata": {
      "needs_background": "light"
     },
     "output_type": "display_data"
    }
   ],
   "source": [
    "df_pivot_diff.sort_values(\"stamp_2\", ascending = False)[\"stamp_2\"].head(10).plot.barh()"
   ]
  },
  {
   "cell_type": "code",
   "execution_count": null,
   "id": "extra-executive",
   "metadata": {
    "papermill": {
     "duration": 0.025857,
     "end_time": "2021-11-04T14:00:14.219424",
     "exception": false,
     "start_time": "2021-11-04T14:00:14.193567",
     "status": "completed"
    },
    "tags": []
   },
   "outputs": [],
   "source": []
  }
 ],
 "metadata": {
  "kernelspec": {
   "display_name": "Python 3",
   "language": "python",
   "name": "python3"
  },
  "language_info": {
   "codemirror_mode": {
    "name": "ipython",
    "version": 3
   },
   "file_extension": ".py",
   "mimetype": "text/x-python",
   "name": "python",
   "nbconvert_exporter": "python",
   "pygments_lexer": "ipython3",
   "version": "3.9.5"
  },
  "papermill": {
   "default_parameters": {},
   "duration": 8.655891,
   "end_time": "2021-11-04T14:00:14.862935",
   "environment_variables": {},
   "exception": null,
   "input_path": "eBay_Overview.ipynb",
   "output_path": "eBay_Overview.ipynb",
   "parameters": {},
   "start_time": "2021-11-04T14:00:06.207044",
   "version": "2.3.3"
  }
 },
 "nbformat": 4,
 "nbformat_minor": 5
}