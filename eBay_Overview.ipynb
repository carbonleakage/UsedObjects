{
 "cells": [
  {
   "cell_type": "code",
   "execution_count": 1,
   "id": "reverse-picking",
   "metadata": {
    "execution": {
     "iopub.execute_input": "2021-08-09T15:30:04.540837Z",
     "iopub.status.busy": "2021-08-09T15:30:04.539950Z",
     "iopub.status.idle": "2021-08-09T15:30:05.221132Z",
     "shell.execute_reply": "2021-08-09T15:30:05.221956Z"
    },
    "papermill": {
     "duration": 0.706177,
     "end_time": "2021-08-09T15:30:05.222354",
     "exception": false,
     "start_time": "2021-08-09T15:30:04.516177",
     "status": "completed"
    },
    "tags": []
   },
   "outputs": [],
   "source": [
    "import pandas as pd\n",
    "import sqlite3"
   ]
  },
  {
   "cell_type": "code",
   "execution_count": 2,
   "id": "innovative-syndrome",
   "metadata": {
    "execution": {
     "iopub.execute_input": "2021-08-09T15:30:05.245321Z",
     "iopub.status.busy": "2021-08-09T15:30:05.244546Z",
     "iopub.status.idle": "2021-08-09T15:30:05.610833Z",
     "shell.execute_reply": "2021-08-09T15:30:05.611860Z"
    },
    "papermill": {
     "duration": 0.380864,
     "end_time": "2021-08-09T15:30:05.612186",
     "exception": false,
     "start_time": "2021-08-09T15:30:05.231322",
     "status": "completed"
    },
    "tags": []
   },
   "outputs": [],
   "source": [
    "timestamps = pd.read_sql(\"select distinct record_time from EBAY_TOP_BERLIN order by record_time desc limit 2\", sqlite3.connect(\"UsedObjects.db\"))"
   ]
  },
  {
   "cell_type": "code",
   "execution_count": 3,
   "id": "periodic-identification",
   "metadata": {
    "execution": {
     "iopub.execute_input": "2021-08-09T15:30:05.644068Z",
     "iopub.status.busy": "2021-08-09T15:30:05.643264Z",
     "iopub.status.idle": "2021-08-09T15:30:05.655288Z",
     "shell.execute_reply": "2021-08-09T15:30:05.655907Z"
    },
    "papermill": {
     "duration": 0.031612,
     "end_time": "2021-08-09T15:30:05.656100",
     "exception": false,
     "start_time": "2021-08-09T15:30:05.624488",
     "status": "completed"
    },
    "tags": []
   },
   "outputs": [
    {
     "data": {
      "text/html": [
       "<div>\n",
       "<style scoped>\n",
       "    .dataframe tbody tr th:only-of-type {\n",
       "        vertical-align: middle;\n",
       "    }\n",
       "\n",
       "    .dataframe tbody tr th {\n",
       "        vertical-align: top;\n",
       "    }\n",
       "\n",
       "    .dataframe thead th {\n",
       "        text-align: right;\n",
       "    }\n",
       "</style>\n",
       "<table border=\"1\" class=\"dataframe\">\n",
       "  <thead>\n",
       "    <tr style=\"text-align: right;\">\n",
       "      <th></th>\n",
       "      <th>RECORD_TIME</th>\n",
       "    </tr>\n",
       "  </thead>\n",
       "  <tbody>\n",
       "    <tr>\n",
       "      <th>0</th>\n",
       "      <td>2021-08-09 17:30</td>\n",
       "    </tr>\n",
       "    <tr>\n",
       "      <th>1</th>\n",
       "      <td>2021-08-09 17:00</td>\n",
       "    </tr>\n",
       "  </tbody>\n",
       "</table>\n",
       "</div>"
      ],
      "text/plain": [
       "        RECORD_TIME\n",
       "0  2021-08-09 17:30\n",
       "1  2021-08-09 17:00"
      ]
     },
     "execution_count": 3,
     "metadata": {},
     "output_type": "execute_result"
    }
   ],
   "source": [
    "timestamps"
   ]
  },
  {
   "cell_type": "code",
   "execution_count": 4,
   "id": "alternate-victory",
   "metadata": {
    "execution": {
     "iopub.execute_input": "2021-08-09T15:30:05.687522Z",
     "iopub.status.busy": "2021-08-09T15:30:05.686585Z",
     "iopub.status.idle": "2021-08-09T15:30:05.697168Z",
     "shell.execute_reply": "2021-08-09T15:30:05.696546Z"
    },
    "papermill": {
     "duration": 0.031078,
     "end_time": "2021-08-09T15:30:05.697330",
     "exception": false,
     "start_time": "2021-08-09T15:30:05.666252",
     "status": "completed"
    },
    "tags": []
   },
   "outputs": [],
   "source": [
    "df = pd.read_sql(\"select * from EBAY_TOP_BERLIN where record_time in (select distinct record_time from EBAY_TOP_BERLIN order by record_time desc limit 2)\", sqlite3.connect(\"UsedObjects.db\"))"
   ]
  },
  {
   "cell_type": "code",
   "execution_count": 5,
   "id": "popular-active",
   "metadata": {
    "execution": {
     "iopub.execute_input": "2021-08-09T15:30:05.720729Z",
     "iopub.status.busy": "2021-08-09T15:30:05.719953Z",
     "iopub.status.idle": "2021-08-09T15:30:05.739387Z",
     "shell.execute_reply": "2021-08-09T15:30:05.739924Z"
    },
    "papermill": {
     "duration": 0.03436,
     "end_time": "2021-08-09T15:30:05.740106",
     "exception": false,
     "start_time": "2021-08-09T15:30:05.705746",
     "status": "completed"
    },
    "tags": []
   },
   "outputs": [],
   "source": [
    "df_pivot = df.pivot_table(index=\"PRODUCT\", columns = \"RECORD_TIME\", values = \"LISTING_COUNT\")"
   ]
  },
  {
   "cell_type": "code",
   "execution_count": 6,
   "id": "union-huntington",
   "metadata": {
    "execution": {
     "iopub.execute_input": "2021-08-09T15:30:05.766146Z",
     "iopub.status.busy": "2021-08-09T15:30:05.765437Z",
     "iopub.status.idle": "2021-08-09T15:30:05.771505Z",
     "shell.execute_reply": "2021-08-09T15:30:05.772079Z"
    },
    "papermill": {
     "duration": 0.021639,
     "end_time": "2021-08-09T15:30:05.772271",
     "exception": false,
     "start_time": "2021-08-09T15:30:05.750632",
     "status": "completed"
    },
    "tags": []
   },
   "outputs": [],
   "source": [
    "df_pivot.columns = [\"stamp_1\", \"stamp_2\"]\n",
    "df_pivot_diff = df_pivot.diff(axis=1)"
   ]
  },
  {
   "cell_type": "code",
   "execution_count": 7,
   "id": "fifth-motion",
   "metadata": {
    "execution": {
     "iopub.execute_input": "2021-08-09T15:30:05.802540Z",
     "iopub.status.busy": "2021-08-09T15:30:05.800802Z",
     "iopub.status.idle": "2021-08-09T15:30:06.440144Z",
     "shell.execute_reply": "2021-08-09T15:30:06.440679Z"
    },
    "papermill": {
     "duration": 0.660247,
     "end_time": "2021-08-09T15:30:06.440858",
     "exception": false,
     "start_time": "2021-08-09T15:30:05.780611",
     "status": "completed"
    },
    "tags": []
   },
   "outputs": [
    {
     "data": {
      "text/plain": [
       "<AxesSubplot:ylabel='PRODUCT'>"
      ]
     },
     "execution_count": 7,
     "metadata": {},
     "output_type": "execute_result"
    },
    {
     "data": {
      "image/png": "[encoded data removed]",
      "text/plain": [
       "<Figure size 432x288 with 1 Axes>"
      ]
     },
     "metadata": {
      "needs_background": "light"
     },
     "output_type": "display_data"
    }
   ],
   "source": [
    "df_pivot_diff.sort_values(\"stamp_2\", ascending = False)[\"stamp_2\"].head(10).plot.barh()"
   ]
  },
  {
   "cell_type": "code",
   "execution_count": null,
   "id": "extra-executive",
   "metadata": {
    "papermill": {
     "duration": 0.016856,
     "end_time": "2021-08-09T15:30:06.467558",
     "exception": false,
     "start_time": "2021-08-09T15:30:06.450702",
     "status": "completed"
    },
    "tags": []
   },
   "outputs": [],
   "source": []
  }
 ],
 "metadata": {
  "kernelspec": {
   "display_name": "Python 3",
   "language": "python",
   "name": "python3"
  },
  "language_info": {
   "codemirror_mode": {
    "name": "ipython",
    "version": 3
   },
   "file_extension": ".py",
   "mimetype": "text/x-python",
   "name": "python",
   "nbconvert_exporter": "python",
   "pygments_lexer": "ipython3",
   "version": "3.8.8"
  },
  "papermill": {
   "default_parameters": {},
   "duration": 4.251436,
   "end_time": "2021-08-09T15:30:07.085590",
   "environment_variables": {},
   "exception": null,
   "input_path": "/Users/saravananshanmugam/Carbonleakage_Git/UsedObjects/eBay_Overview.ipynb",
   "output_path": "/Users/saravananshanmugam/Carbonleakage_Git/UsedObjects/eBay_Overview.ipynb",
   "parameters": {},
   "start_time": "2021-08-09T15:30:02.834154",
   "version": "2.3.3"
  }
 },
 "nbformat": 4,
 "nbformat_minor": 5
}