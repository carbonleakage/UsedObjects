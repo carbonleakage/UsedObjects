{
 "cells": [
  {
   "cell_type": "code",
   "execution_count": 1,
   "id": "reverse-picking",
   "metadata": {
    "execution": {
     "iopub.execute_input": "2021-09-22T22:30:06.931060Z",
     "iopub.status.busy": "2021-09-22T22:30:06.929074Z",
     "iopub.status.idle": "2021-09-22T22:30:07.732934Z",
     "shell.execute_reply": "2021-09-22T22:30:07.734159Z"
    },
    "papermill": {
     "duration": 0.853652,
     "end_time": "2021-09-22T22:30:07.734768",
     "exception": false,
     "start_time": "2021-09-22T22:30:06.881116",
     "status": "completed"
    },
    "tags": []
   },
   "outputs": [],
   "source": [
    "import pandas as pd\n",
    "import sqlite3"
   ]
  },
  {
   "cell_type": "code",
   "execution_count": 2,
   "id": "innovative-syndrome",
   "metadata": {
    "execution": {
     "iopub.execute_input": "2021-09-22T22:30:07.785570Z",
     "iopub.status.busy": "2021-09-22T22:30:07.783746Z",
     "iopub.status.idle": "2021-09-22T22:30:08.159441Z",
     "shell.execute_reply": "2021-09-22T22:30:08.160806Z"
    },
    "papermill": {
     "duration": 0.405418,
     "end_time": "2021-09-22T22:30:08.161236",
     "exception": false,
     "start_time": "2021-09-22T22:30:07.755818",
     "status": "completed"
    },
    "tags": []
   },
   "outputs": [],
   "source": [
    "timestamps = pd.read_sql(\"select distinct record_time from EBAY_TOP_BERLIN order by record_time desc limit 2\", sqlite3.connect(\"UsedObjects.db\"))"
   ]
  },
  {
   "cell_type": "code",
   "execution_count": 3,
   "id": "periodic-identification",
   "metadata": {
    "execution": {
     "iopub.execute_input": "2021-09-22T22:30:08.228353Z",
     "iopub.status.busy": "2021-09-22T22:30:08.226272Z",
     "iopub.status.idle": "2021-09-22T22:30:08.246851Z",
     "shell.execute_reply": "2021-09-22T22:30:08.248058Z"
    },
    "papermill": {
     "duration": 0.067326,
     "end_time": "2021-09-22T22:30:08.248478",
     "exception": false,
     "start_time": "2021-09-22T22:30:08.181152",
     "status": "completed"
    },
    "tags": []
   },
   "outputs": [
    {
     "data": {
      "text/html": [
       "<div>\n",
       "<style scoped>\n",
       "    .dataframe tbody tr th:only-of-type {\n",
       "        vertical-align: middle;\n",
       "    }\n",
       "\n",
       "    .dataframe tbody tr th {\n",
       "        vertical-align: top;\n",
       "    }\n",
       "\n",
       "    .dataframe thead th {\n",
       "        text-align: right;\n",
       "    }\n",
       "</style>\n",
       "<table border=\"1\" class=\"dataframe\">\n",
       "  <thead>\n",
       "    <tr style=\"text-align: right;\">\n",
       "      <th></th>\n",
       "      <th>RECORD_TIME</th>\n",
       "    </tr>\n",
       "  </thead>\n",
       "  <tbody>\n",
       "    <tr>\n",
       "      <th>0</th>\n",
       "      <td>2021-09-23 00:30</td>\n",
       "    </tr>\n",
       "    <tr>\n",
       "      <th>1</th>\n",
       "      <td>2021-09-23 00:00</td>\n",
       "    </tr>\n",
       "  </tbody>\n",
       "</table>\n",
       "</div>"
      ],
      "text/plain": [
       "        RECORD_TIME\n",
       "0  2021-09-23 00:30\n",
       "1  2021-09-23 00:00"
      ]
     },
     "execution_count": 3,
     "metadata": {},
     "output_type": "execute_result"
    }
   ],
   "source": [
    "timestamps"
   ]
  },
  {
   "cell_type": "code",
   "execution_count": 4,
   "id": "alternate-victory",
   "metadata": {
    "execution": {
     "iopub.execute_input": "2021-09-22T22:30:08.302446Z",
     "iopub.status.busy": "2021-09-22T22:30:08.300167Z",
     "iopub.status.idle": "2021-09-22T22:30:08.815965Z",
     "shell.execute_reply": "2021-09-22T22:30:08.817298Z"
    },
    "papermill": {
     "duration": 0.546235,
     "end_time": "2021-09-22T22:30:08.817713",
     "exception": false,
     "start_time": "2021-09-22T22:30:08.271478",
     "status": "completed"
    },
    "tags": []
   },
   "outputs": [],
   "source": [
    "df = pd.read_sql(\"select * from EBAY_TOP_BERLIN where record_time in (select distinct record_time from EBAY_TOP_BERLIN order by record_time desc limit 2)\", sqlite3.connect(\"UsedObjects.db\"))"
   ]
  },
  {
   "cell_type": "code",
   "execution_count": 5,
   "id": "popular-active",
   "metadata": {
    "execution": {
     "iopub.execute_input": "2021-09-22T22:30:08.888057Z",
     "iopub.status.busy": "2021-09-22T22:30:08.876198Z",
     "iopub.status.idle": "2021-09-22T22:30:08.903773Z",
     "shell.execute_reply": "2021-09-22T22:30:08.904990Z"
    },
    "papermill": {
     "duration": 0.067546,
     "end_time": "2021-09-22T22:30:08.905377",
     "exception": false,
     "start_time": "2021-09-22T22:30:08.837831",
     "status": "completed"
    },
    "tags": []
   },
   "outputs": [],
   "source": [
    "df_pivot = df.pivot_table(index=\"PRODUCT\", columns = \"RECORD_TIME\", values = \"LISTING_COUNT\")"
   ]
  },
  {
   "cell_type": "code",
   "execution_count": 6,
   "id": "union-huntington",
   "metadata": {
    "execution": {
     "iopub.execute_input": "2021-09-22T22:30:08.964429Z",
     "iopub.status.busy": "2021-09-22T22:30:08.961896Z",
     "iopub.status.idle": "2021-09-22T22:30:08.967797Z",
     "shell.execute_reply": "2021-09-22T22:30:08.969072Z"
    },
    "papermill": {
     "duration": 0.041932,
     "end_time": "2021-09-22T22:30:08.969477",
     "exception": false,
     "start_time": "2021-09-22T22:30:08.927545",
     "status": "completed"
    },
    "tags": []
   },
   "outputs": [],
   "source": [
    "df_pivot.columns = [\"stamp_1\", \"stamp_2\"]\n",
    "df_pivot_diff = df_pivot.diff(axis=1)"
   ]
  },
  {
   "cell_type": "code",
   "execution_count": 7,
   "id": "fifth-motion",
   "metadata": {
    "execution": {
     "iopub.execute_input": "2021-09-22T22:30:09.023183Z",
     "iopub.status.busy": "2021-09-22T22:30:09.020824Z",
     "iopub.status.idle": "2021-09-22T22:30:10.490068Z",
     "shell.execute_reply": "2021-09-22T22:30:10.491314Z"
    },
    "papermill": {
     "duration": 1.5017,
     "end_time": "2021-09-22T22:30:10.491744",
     "exception": false,
     "start_time": "2021-09-22T22:30:08.990044",
     "status": "completed"
    },
    "tags": []
   },
   "outputs": [
    {
     "data": {
      "text/plain": [
       "<AxesSubplot:ylabel='PRODUCT'>"
      ]
     },
     "execution_count": 7,
     "metadata": {},
     "output_type": "execute_result"
    },
    {
     "data": {
      "image/png": "[encoded data removed]",
      "text/plain": [
       "<Figure size 432x288 with 1 Axes>"
      ]
     },
     "metadata": {
      "needs_background": "light"
     },
     "output_type": "display_data"
    }
   ],
   "source": [
    "df_pivot_diff.sort_values(\"stamp_2\", ascending = False)[\"stamp_2\"].head(10).plot.barh()"
   ]
  },
  {
   "cell_type": "code",
   "execution_count": null,
   "id": "extra-executive",
   "metadata": {
    "papermill": {
     "duration": 0.02227,
     "end_time": "2021-09-22T22:30:10.537692",
     "exception": false,
     "start_time": "2021-09-22T22:30:10.515422",
     "status": "completed"
    },
    "tags": []
   },
   "outputs": [],
   "source": []
  }
 ],
 "metadata": {
  "kernelspec": {
   "display_name": "Python 3",
   "language": "python",
   "name": "python3"
  },
  "language_info": {
   "codemirror_mode": {
    "name": "ipython",
    "version": 3
   },
   "file_extension": ".py",
   "mimetype": "text/x-python",
   "name": "python",
   "nbconvert_exporter": "python",
   "pygments_lexer": "ipython3",
   "version": "3.9.5"
  },
  "papermill": {
   "default_parameters": {},
   "duration": 6.700121,
   "end_time": "2021-09-22T22:30:11.181000",
   "environment_variables": {},
   "exception": null,
   "input_path": "eBay_Overview.ipynb",
   "output_path": "eBay_Overview.ipynb",
   "parameters": {},
   "start_time": "2021-09-22T22:30:04.480879",
   "version": "2.3.3"
  }
 },
 "nbformat": 4,
 "nbformat_minor": 5
}