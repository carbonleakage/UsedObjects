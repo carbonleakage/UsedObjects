{
 "cells": [
  {
   "cell_type": "code",
   "execution_count": 1,
   "id": "reverse-picking",
   "metadata": {
    "execution": {
     "iopub.execute_input": "2021-09-29T18:00:07.849442Z",
     "iopub.status.busy": "2021-09-29T18:00:07.847476Z",
     "iopub.status.idle": "2021-09-29T18:00:08.659230Z",
     "shell.execute_reply": "2021-09-29T18:00:08.656906Z"
    },
    "papermill": {
     "duration": 0.862774,
     "end_time": "2021-09-29T18:00:08.659714",
     "exception": false,
     "start_time": "2021-09-29T18:00:07.796940",
     "status": "completed"
    },
    "tags": []
   },
   "outputs": [],
   "source": [
    "import pandas as pd\n",
    "import sqlite3"
   ]
  },
  {
   "cell_type": "code",
   "execution_count": 2,
   "id": "innovative-syndrome",
   "metadata": {
    "execution": {
     "iopub.execute_input": "2021-09-29T18:00:08.712534Z",
     "iopub.status.busy": "2021-09-29T18:00:08.710134Z",
     "iopub.status.idle": "2021-09-29T18:00:09.122201Z",
     "shell.execute_reply": "2021-09-29T18:00:09.123465Z"
    },
    "papermill": {
     "duration": 0.442301,
     "end_time": "2021-09-29T18:00:09.123869",
     "exception": false,
     "start_time": "2021-09-29T18:00:08.681568",
     "status": "completed"
    },
    "tags": []
   },
   "outputs": [],
   "source": [
    "timestamps = pd.read_sql(\"select distinct record_time from EBAY_TOP_BERLIN order by record_time desc limit 2\", sqlite3.connect(\"UsedObjects.db\"))"
   ]
  },
  {
   "cell_type": "code",
   "execution_count": 3,
   "id": "periodic-identification",
   "metadata": {
    "execution": {
     "iopub.execute_input": "2021-09-29T18:00:09.189196Z",
     "iopub.status.busy": "2021-09-29T18:00:09.187187Z",
     "iopub.status.idle": "2021-09-29T18:00:09.206890Z",
     "shell.execute_reply": "2021-09-29T18:00:09.208115Z"
    },
    "papermill": {
     "duration": 0.064803,
     "end_time": "2021-09-29T18:00:09.208509",
     "exception": false,
     "start_time": "2021-09-29T18:00:09.143706",
     "status": "completed"
    },
    "tags": []
   },
   "outputs": [
    {
     "data": {
      "text/html": [
       "<div>\n",
       "<style scoped>\n",
       "    .dataframe tbody tr th:only-of-type {\n",
       "        vertical-align: middle;\n",
       "    }\n",
       "\n",
       "    .dataframe tbody tr th {\n",
       "        vertical-align: top;\n",
       "    }\n",
       "\n",
       "    .dataframe thead th {\n",
       "        text-align: right;\n",
       "    }\n",
       "</style>\n",
       "<table border=\"1\" class=\"dataframe\">\n",
       "  <thead>\n",
       "    <tr style=\"text-align: right;\">\n",
       "      <th></th>\n",
       "      <th>RECORD_TIME</th>\n",
       "    </tr>\n",
       "  </thead>\n",
       "  <tbody>\n",
       "    <tr>\n",
       "      <th>0</th>\n",
       "      <td>2021-09-29 20:00</td>\n",
       "    </tr>\n",
       "    <tr>\n",
       "      <th>1</th>\n",
       "      <td>2021-09-29 19:30</td>\n",
       "    </tr>\n",
       "  </tbody>\n",
       "</table>\n",
       "</div>"
      ],
      "text/plain": [
       "        RECORD_TIME\n",
       "0  2021-09-29 20:00\n",
       "1  2021-09-29 19:30"
      ]
     },
     "execution_count": 3,
     "metadata": {},
     "output_type": "execute_result"
    }
   ],
   "source": [
    "timestamps"
   ]
  },
  {
   "cell_type": "code",
   "execution_count": 4,
   "id": "alternate-victory",
   "metadata": {
    "execution": {
     "iopub.execute_input": "2021-09-29T18:00:09.261359Z",
     "iopub.status.busy": "2021-09-29T18:00:09.259087Z",
     "iopub.status.idle": "2021-09-29T18:00:09.854971Z",
     "shell.execute_reply": "2021-09-29T18:00:09.856535Z"
    },
    "papermill": {
     "duration": 0.626987,
     "end_time": "2021-09-29T18:00:09.856995",
     "exception": false,
     "start_time": "2021-09-29T18:00:09.230008",
     "status": "completed"
    },
    "tags": []
   },
   "outputs": [],
   "source": [
    "df = pd.read_sql(\"select * from EBAY_TOP_BERLIN where record_time in (select distinct record_time from EBAY_TOP_BERLIN order by record_time desc limit 2)\", sqlite3.connect(\"UsedObjects.db\"))"
   ]
  },
  {
   "cell_type": "code",
   "execution_count": 5,
   "id": "popular-active",
   "metadata": {
    "execution": {
     "iopub.execute_input": "2021-09-29T18:00:09.929292Z",
     "iopub.status.busy": "2021-09-29T18:00:09.917737Z",
     "iopub.status.idle": "2021-09-29T18:00:09.946910Z",
     "shell.execute_reply": "2021-09-29T18:00:09.948331Z"
    },
    "papermill": {
     "duration": 0.07097,
     "end_time": "2021-09-29T18:00:09.948774",
     "exception": false,
     "start_time": "2021-09-29T18:00:09.877804",
     "status": "completed"
    },
    "tags": []
   },
   "outputs": [],
   "source": [
    "df_pivot = df.pivot_table(index=\"PRODUCT\", columns = \"RECORD_TIME\", values = \"LISTING_COUNT\")"
   ]
  },
  {
   "cell_type": "code",
   "execution_count": 6,
   "id": "union-huntington",
   "metadata": {
    "execution": {
     "iopub.execute_input": "2021-09-29T18:00:10.006165Z",
     "iopub.status.busy": "2021-09-29T18:00:10.004088Z",
     "iopub.status.idle": "2021-09-29T18:00:10.009320Z",
     "shell.execute_reply": "2021-09-29T18:00:10.010594Z"
    },
    "papermill": {
     "duration": 0.041398,
     "end_time": "2021-09-29T18:00:10.011070",
     "exception": false,
     "start_time": "2021-09-29T18:00:09.969672",
     "status": "completed"
    },
    "tags": []
   },
   "outputs": [],
   "source": [
    "df_pivot.columns = [\"stamp_1\", \"stamp_2\"]\n",
    "df_pivot_diff = df_pivot.diff(axis=1)"
   ]
  },
  {
   "cell_type": "code",
   "execution_count": 7,
   "id": "fifth-motion",
   "metadata": {
    "execution": {
     "iopub.execute_input": "2021-09-29T18:00:10.066073Z",
     "iopub.status.busy": "2021-09-29T18:00:10.063732Z",
     "iopub.status.idle": "2021-09-29T18:00:11.562170Z",
     "shell.execute_reply": "2021-09-29T18:00:11.563742Z"
    },
    "papermill": {
     "duration": 1.531963,
     "end_time": "2021-09-29T18:00:11.564217",
     "exception": false,
     "start_time": "2021-09-29T18:00:10.032254",
     "status": "completed"
    },
    "tags": []
   },
   "outputs": [
    {
     "data": {
      "text/plain": [
       "<AxesSubplot:ylabel='PRODUCT'>"
      ]
     },
     "execution_count": 7,
     "metadata": {},
     "output_type": "execute_result"
    },
    {
     "data": {
      "image/png": "[encoded data removed]",
      "text/plain": [
       "<Figure size 432x288 with 1 Axes>"
      ]
     },
     "metadata": {
      "needs_background": "light"
     },
     "output_type": "display_data"
    }
   ],
   "source": [
    "df_pivot_diff.sort_values(\"stamp_2\", ascending = False)[\"stamp_2\"].head(10).plot.barh()"
   ]
  },
  {
   "cell_type": "code",
   "execution_count": null,
   "id": "extra-executive",
   "metadata": {
    "papermill": {
     "duration": 0.022576,
     "end_time": "2021-09-29T18:00:11.611956",
     "exception": false,
     "start_time": "2021-09-29T18:00:11.589380",
     "status": "completed"
    },
    "tags": []
   },
   "outputs": [],
   "source": []
  }
 ],
 "metadata": {
  "kernelspec": {
   "display_name": "Python 3",
   "language": "python",
   "name": "python3"
  },
  "language_info": {
   "codemirror_mode": {
    "name": "ipython",
    "version": 3
   },
   "file_extension": ".py",
   "mimetype": "text/x-python",
   "name": "python",
   "nbconvert_exporter": "python",
   "pygments_lexer": "ipython3",
   "version": "3.9.5"
  },
  "papermill": {
   "default_parameters": {},
   "duration": 7.823291,
   "end_time": "2021-09-29T18:00:13.208397",
   "environment_variables": {},
   "exception": null,
   "input_path": "eBay_Overview.ipynb",
   "output_path": "eBay_Overview.ipynb",
   "parameters": {},
   "start_time": "2021-09-29T18:00:05.385106",
   "version": "2.3.3"
  }
 },
 "nbformat": 4,
 "nbformat_minor": 5
}