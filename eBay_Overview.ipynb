{
 "cells": [
  {
   "cell_type": "code",
   "execution_count": 1,
   "id": "reverse-picking",
   "metadata": {
    "execution": {
     "iopub.execute_input": "2021-10-31T18:00:07.638914Z",
     "iopub.status.busy": "2021-10-31T18:00:07.636969Z",
     "iopub.status.idle": "2021-10-31T18:00:08.445310Z",
     "shell.execute_reply": "2021-10-31T18:00:08.443656Z"
    },
    "papermill": {
     "duration": 0.860746,
     "end_time": "2021-10-31T18:00:08.445714",
     "exception": false,
     "start_time": "2021-10-31T18:00:07.584968",
     "status": "completed"
    },
    "tags": []
   },
   "outputs": [],
   "source": [
    "import pandas as pd\n",
    "import sqlite3"
   ]
  },
  {
   "cell_type": "code",
   "execution_count": 2,
   "id": "innovative-syndrome",
   "metadata": {
    "execution": {
     "iopub.execute_input": "2021-10-31T18:00:08.497735Z",
     "iopub.status.busy": "2021-10-31T18:00:08.495763Z",
     "iopub.status.idle": "2021-10-31T18:00:09.183927Z",
     "shell.execute_reply": "2021-10-31T18:00:09.185255Z"
    },
    "papermill": {
     "duration": 0.717713,
     "end_time": "2021-10-31T18:00:09.185685",
     "exception": false,
     "start_time": "2021-10-31T18:00:08.467972",
     "status": "completed"
    },
    "tags": []
   },
   "outputs": [],
   "source": [
    "timestamps = pd.read_sql(\"select distinct record_time from EBAY_TOP_BERLIN order by record_time desc limit 2\", sqlite3.connect(\"UsedObjects.db\"))"
   ]
  },
  {
   "cell_type": "code",
   "execution_count": 3,
   "id": "periodic-identification",
   "metadata": {
    "execution": {
     "iopub.execute_input": "2021-10-31T18:00:09.265966Z",
     "iopub.status.busy": "2021-10-31T18:00:09.263855Z",
     "iopub.status.idle": "2021-10-31T18:00:09.283993Z",
     "shell.execute_reply": "2021-10-31T18:00:09.285539Z"
    },
    "papermill": {
     "duration": 0.071111,
     "end_time": "2021-10-31T18:00:09.285977",
     "exception": false,
     "start_time": "2021-10-31T18:00:09.214866",
     "status": "completed"
    },
    "tags": []
   },
   "outputs": [
    {
     "data": {
      "text/html": [
       "<div>\n",
       "<style scoped>\n",
       "    .dataframe tbody tr th:only-of-type {\n",
       "        vertical-align: middle;\n",
       "    }\n",
       "\n",
       "    .dataframe tbody tr th {\n",
       "        vertical-align: top;\n",
       "    }\n",
       "\n",
       "    .dataframe thead th {\n",
       "        text-align: right;\n",
       "    }\n",
       "</style>\n",
       "<table border=\"1\" class=\"dataframe\">\n",
       "  <thead>\n",
       "    <tr style=\"text-align: right;\">\n",
       "      <th></th>\n",
       "      <th>RECORD_TIME</th>\n",
       "    </tr>\n",
       "  </thead>\n",
       "  <tbody>\n",
       "    <tr>\n",
       "      <th>0</th>\n",
       "      <td>2021-10-31 19:00</td>\n",
       "    </tr>\n",
       "    <tr>\n",
       "      <th>1</th>\n",
       "      <td>2021-10-31 18:30</td>\n",
       "    </tr>\n",
       "  </tbody>\n",
       "</table>\n",
       "</div>"
      ],
      "text/plain": [
       "        RECORD_TIME\n",
       "0  2021-10-31 19:00\n",
       "1  2021-10-31 18:30"
      ]
     },
     "execution_count": 3,
     "metadata": {},
     "output_type": "execute_result"
    }
   ],
   "source": [
    "timestamps"
   ]
  },
  {
   "cell_type": "code",
   "execution_count": 4,
   "id": "alternate-victory",
   "metadata": {
    "execution": {
     "iopub.execute_input": "2021-10-31T18:00:09.340020Z",
     "iopub.status.busy": "2021-10-31T18:00:09.338004Z",
     "iopub.status.idle": "2021-10-31T18:00:10.321267Z",
     "shell.execute_reply": "2021-10-31T18:00:10.322489Z"
    },
    "papermill": {
     "duration": 1.013675,
     "end_time": "2021-10-31T18:00:10.322880",
     "exception": false,
     "start_time": "2021-10-31T18:00:09.309205",
     "status": "completed"
    },
    "tags": []
   },
   "outputs": [],
   "source": [
    "df = pd.read_sql(\"select * from EBAY_TOP_BERLIN where record_time in (select distinct record_time from EBAY_TOP_BERLIN order by record_time desc limit 2)\", sqlite3.connect(\"UsedObjects.db\"))"
   ]
  },
  {
   "cell_type": "code",
   "execution_count": 5,
   "id": "popular-active",
   "metadata": {
    "execution": {
     "iopub.execute_input": "2021-10-31T18:00:10.396594Z",
     "iopub.status.busy": "2021-10-31T18:00:10.384483Z",
     "iopub.status.idle": "2021-10-31T18:00:10.412101Z",
     "shell.execute_reply": "2021-10-31T18:00:10.413388Z"
    },
    "papermill": {
     "duration": 0.067905,
     "end_time": "2021-10-31T18:00:10.413789",
     "exception": false,
     "start_time": "2021-10-31T18:00:10.345884",
     "status": "completed"
    },
    "tags": []
   },
   "outputs": [],
   "source": [
    "df_pivot = df.pivot_table(index=\"PRODUCT\", columns = \"RECORD_TIME\", values = \"LISTING_COUNT\")"
   ]
  },
  {
   "cell_type": "code",
   "execution_count": 6,
   "id": "union-huntington",
   "metadata": {
    "execution": {
     "iopub.execute_input": "2021-10-31T18:00:10.470306Z",
     "iopub.status.busy": "2021-10-31T18:00:10.468117Z",
     "iopub.status.idle": "2021-10-31T18:00:10.473871Z",
     "shell.execute_reply": "2021-10-31T18:00:10.475344Z"
    },
    "papermill": {
     "duration": 0.041241,
     "end_time": "2021-10-31T18:00:10.475828",
     "exception": false,
     "start_time": "2021-10-31T18:00:10.434587",
     "status": "completed"
    },
    "tags": []
   },
   "outputs": [],
   "source": [
    "df_pivot.columns = [\"stamp_1\", \"stamp_2\"]\n",
    "df_pivot_diff = df_pivot.diff(axis=1)"
   ]
  },
  {
   "cell_type": "code",
   "execution_count": 7,
   "id": "fifth-motion",
   "metadata": {
    "execution": {
     "iopub.execute_input": "2021-10-31T18:00:10.530616Z",
     "iopub.status.busy": "2021-10-31T18:00:10.528216Z",
     "iopub.status.idle": "2021-10-31T18:00:12.037588Z",
     "shell.execute_reply": "2021-10-31T18:00:12.039025Z"
    },
    "papermill": {
     "duration": 1.542269,
     "end_time": "2021-10-31T18:00:12.039460",
     "exception": false,
     "start_time": "2021-10-31T18:00:10.497191",
     "status": "completed"
    },
    "tags": []
   },
   "outputs": [
    {
     "data": {
      "text/plain": [
       "<AxesSubplot:ylabel='PRODUCT'>"
      ]
     },
     "execution_count": 7,
     "metadata": {},
     "output_type": "execute_result"
    },
    {
     "data": {
      "image/png": "[encoded data removed]",
      "text/plain": [
       "<Figure size 432x288 with 1 Axes>"
      ]
     },
     "metadata": {
      "needs_background": "light"
     },
     "output_type": "display_data"
    }
   ],
   "source": [
    "df_pivot_diff.sort_values(\"stamp_2\", ascending = False)[\"stamp_2\"].head(10).plot.barh()"
   ]
  },
  {
   "cell_type": "code",
   "execution_count": null,
   "id": "extra-executive",
   "metadata": {
    "papermill": {
     "duration": 0.02217,
     "end_time": "2021-10-31T18:00:12.086271",
     "exception": false,
     "start_time": "2021-10-31T18:00:12.064101",
     "status": "completed"
    },
    "tags": []
   },
   "outputs": [],
   "source": []
  }
 ],
 "metadata": {
  "kernelspec": {
   "display_name": "Python 3",
   "language": "python",
   "name": "python3"
  },
  "language_info": {
   "codemirror_mode": {
    "name": "ipython",
    "version": 3
   },
   "file_extension": ".py",
   "mimetype": "text/x-python",
   "name": "python",
   "nbconvert_exporter": "python",
   "pygments_lexer": "ipython3",
   "version": "3.9.5"
  },
  "papermill": {
   "default_parameters": {},
   "duration": 7.67406,
   "end_time": "2021-10-31T18:00:12.730361",
   "environment_variables": {},
   "exception": null,
   "input_path": "eBay_Overview.ipynb",
   "output_path": "eBay_Overview.ipynb",
   "parameters": {},
   "start_time": "2021-10-31T18:00:05.056301",
   "version": "2.3.3"
  }
 },
 "nbformat": 4,
 "nbformat_minor": 5
}