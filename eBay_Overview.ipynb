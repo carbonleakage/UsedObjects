{
 "cells": [
  {
   "cell_type": "code",
   "execution_count": 1,
   "id": "reverse-picking",
   "metadata": {
    "execution": {
     "iopub.execute_input": "2021-10-07T18:00:06.988252Z",
     "iopub.status.busy": "2021-10-07T18:00:06.986196Z",
     "iopub.status.idle": "2021-10-07T18:00:07.798028Z",
     "shell.execute_reply": "2021-10-07T18:00:07.799463Z"
    },
    "papermill": {
     "duration": 0.861393,
     "end_time": "2021-10-07T18:00:07.800127",
     "exception": false,
     "start_time": "2021-10-07T18:00:06.938734",
     "status": "completed"
    },
    "tags": []
   },
   "outputs": [],
   "source": [
    "import pandas as pd\n",
    "import sqlite3"
   ]
  },
  {
   "cell_type": "code",
   "execution_count": 2,
   "id": "innovative-syndrome",
   "metadata": {
    "execution": {
     "iopub.execute_input": "2021-10-07T18:00:07.851559Z",
     "iopub.status.busy": "2021-10-07T18:00:07.849438Z",
     "iopub.status.idle": "2021-10-07T18:00:08.326495Z",
     "shell.execute_reply": "2021-10-07T18:00:08.327764Z"
    },
    "papermill": {
     "duration": 0.507783,
     "end_time": "2021-10-07T18:00:08.328166",
     "exception": false,
     "start_time": "2021-10-07T18:00:07.820383",
     "status": "completed"
    },
    "tags": []
   },
   "outputs": [],
   "source": [
    "timestamps = pd.read_sql(\"select distinct record_time from EBAY_TOP_BERLIN order by record_time desc limit 2\", sqlite3.connect(\"UsedObjects.db\"))"
   ]
  },
  {
   "cell_type": "code",
   "execution_count": 3,
   "id": "periodic-identification",
   "metadata": {
    "execution": {
     "iopub.execute_input": "2021-10-07T18:00:08.394204Z",
     "iopub.status.busy": "2021-10-07T18:00:08.392188Z",
     "iopub.status.idle": "2021-10-07T18:00:08.411840Z",
     "shell.execute_reply": "2021-10-07T18:00:08.413106Z"
    },
    "papermill": {
     "duration": 0.064263,
     "end_time": "2021-10-07T18:00:08.413496",
     "exception": false,
     "start_time": "2021-10-07T18:00:08.349233",
     "status": "completed"
    },
    "tags": []
   },
   "outputs": [
    {
     "data": {
      "text/html": [
       "<div>\n",
       "<style scoped>\n",
       "    .dataframe tbody tr th:only-of-type {\n",
       "        vertical-align: middle;\n",
       "    }\n",
       "\n",
       "    .dataframe tbody tr th {\n",
       "        vertical-align: top;\n",
       "    }\n",
       "\n",
       "    .dataframe thead th {\n",
       "        text-align: right;\n",
       "    }\n",
       "</style>\n",
       "<table border=\"1\" class=\"dataframe\">\n",
       "  <thead>\n",
       "    <tr style=\"text-align: right;\">\n",
       "      <th></th>\n",
       "      <th>RECORD_TIME</th>\n",
       "    </tr>\n",
       "  </thead>\n",
       "  <tbody>\n",
       "    <tr>\n",
       "      <th>0</th>\n",
       "      <td>2021-10-07 20:00</td>\n",
       "    </tr>\n",
       "    <tr>\n",
       "      <th>1</th>\n",
       "      <td>2021-10-07 19:30</td>\n",
       "    </tr>\n",
       "  </tbody>\n",
       "</table>\n",
       "</div>"
      ],
      "text/plain": [
       "        RECORD_TIME\n",
       "0  2021-10-07 20:00\n",
       "1  2021-10-07 19:30"
      ]
     },
     "execution_count": 3,
     "metadata": {},
     "output_type": "execute_result"
    }
   ],
   "source": [
    "timestamps"
   ]
  },
  {
   "cell_type": "code",
   "execution_count": 4,
   "id": "alternate-victory",
   "metadata": {
    "execution": {
     "iopub.execute_input": "2021-10-07T18:00:08.473901Z",
     "iopub.status.busy": "2021-10-07T18:00:08.472060Z",
     "iopub.status.idle": "2021-10-07T18:00:09.172322Z",
     "shell.execute_reply": "2021-10-07T18:00:09.173688Z"
    },
    "papermill": {
     "duration": 0.734018,
     "end_time": "2021-10-07T18:00:09.174120",
     "exception": false,
     "start_time": "2021-10-07T18:00:08.440102",
     "status": "completed"
    },
    "tags": []
   },
   "outputs": [],
   "source": [
    "df = pd.read_sql(\"select * from EBAY_TOP_BERLIN where record_time in (select distinct record_time from EBAY_TOP_BERLIN order by record_time desc limit 2)\", sqlite3.connect(\"UsedObjects.db\"))"
   ]
  },
  {
   "cell_type": "code",
   "execution_count": 5,
   "id": "popular-active",
   "metadata": {
    "execution": {
     "iopub.execute_input": "2021-10-07T18:00:09.245230Z",
     "iopub.status.busy": "2021-10-07T18:00:09.237962Z",
     "iopub.status.idle": "2021-10-07T18:00:09.260330Z",
     "shell.execute_reply": "2021-10-07T18:00:09.261532Z"
    },
    "papermill": {
     "duration": 0.067312,
     "end_time": "2021-10-07T18:00:09.261925",
     "exception": false,
     "start_time": "2021-10-07T18:00:09.194613",
     "status": "completed"
    },
    "tags": []
   },
   "outputs": [],
   "source": [
    "df_pivot = df.pivot_table(index=\"PRODUCT\", columns = \"RECORD_TIME\", values = \"LISTING_COUNT\")"
   ]
  },
  {
   "cell_type": "code",
   "execution_count": 6,
   "id": "union-huntington",
   "metadata": {
    "execution": {
     "iopub.execute_input": "2021-10-07T18:00:09.321613Z",
     "iopub.status.busy": "2021-10-07T18:00:09.319177Z",
     "iopub.status.idle": "2021-10-07T18:00:09.325086Z",
     "shell.execute_reply": "2021-10-07T18:00:09.326273Z"
    },
    "papermill": {
     "duration": 0.042431,
     "end_time": "2021-10-07T18:00:09.326698",
     "exception": false,
     "start_time": "2021-10-07T18:00:09.284267",
     "status": "completed"
    },
    "tags": []
   },
   "outputs": [],
   "source": [
    "df_pivot.columns = [\"stamp_1\", \"stamp_2\"]\n",
    "df_pivot_diff = df_pivot.diff(axis=1)"
   ]
  },
  {
   "cell_type": "code",
   "execution_count": 7,
   "id": "fifth-motion",
   "metadata": {
    "execution": {
     "iopub.execute_input": "2021-10-07T18:00:09.382047Z",
     "iopub.status.busy": "2021-10-07T18:00:09.379670Z",
     "iopub.status.idle": "2021-10-07T18:00:10.910582Z",
     "shell.execute_reply": "2021-10-07T18:00:10.912110Z"
    },
    "papermill": {
     "duration": 1.565658,
     "end_time": "2021-10-07T18:00:10.912561",
     "exception": false,
     "start_time": "2021-10-07T18:00:09.346903",
     "status": "completed"
    },
    "tags": []
   },
   "outputs": [
    {
     "data": {
      "text/plain": [
       "<AxesSubplot:ylabel='PRODUCT'>"
      ]
     },
     "execution_count": 7,
     "metadata": {},
     "output_type": "execute_result"
    },
    {
     "data": {
      "image/png": "[encoded data removed]",
      "text/plain": [
       "<Figure size 432x288 with 1 Axes>"
      ]
     },
     "metadata": {
      "needs_background": "light"
     },
     "output_type": "display_data"
    }
   ],
   "source": [
    "df_pivot_diff.sort_values(\"stamp_2\", ascending = False)[\"stamp_2\"].head(10).plot.barh()"
   ]
  },
  {
   "cell_type": "code",
   "execution_count": null,
   "id": "extra-executive",
   "metadata": {
    "papermill": {
     "duration": 0.022409,
     "end_time": "2021-10-07T18:00:10.959778",
     "exception": false,
     "start_time": "2021-10-07T18:00:10.937369",
     "status": "completed"
    },
    "tags": []
   },
   "outputs": [],
   "source": []
  }
 ],
 "metadata": {
  "kernelspec": {
   "display_name": "Python 3",
   "language": "python",
   "name": "python3"
  },
  "language_info": {
   "codemirror_mode": {
    "name": "ipython",
    "version": 3
   },
   "file_extension": ".py",
   "mimetype": "text/x-python",
   "name": "python",
   "nbconvert_exporter": "python",
   "pygments_lexer": "ipython3",
   "version": "3.9.5"
  },
  "papermill": {
   "default_parameters": {},
   "duration": 7.848306,
   "end_time": "2021-10-07T18:00:12.362282",
   "environment_variables": {},
   "exception": null,
   "input_path": "eBay_Overview.ipynb",
   "output_path": "eBay_Overview.ipynb",
   "parameters": {},
   "start_time": "2021-10-07T18:00:04.513976",
   "version": "2.3.3"
  }
 },
 "nbformat": 4,
 "nbformat_minor": 5
}