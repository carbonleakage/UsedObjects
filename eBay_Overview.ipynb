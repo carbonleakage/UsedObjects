{
 "cells": [
  {
   "cell_type": "code",
   "execution_count": 1,
   "id": "reverse-picking",
   "metadata": {
    "execution": {
     "iopub.execute_input": "2021-10-17T01:00:07.444866Z",
     "iopub.status.busy": "2021-10-17T01:00:07.442829Z",
     "iopub.status.idle": "2021-10-17T01:00:08.251861Z",
     "shell.execute_reply": "2021-10-17T01:00:08.253218Z"
    },
    "papermill": {
     "duration": 0.861298,
     "end_time": "2021-10-17T01:00:08.253858",
     "exception": false,
     "start_time": "2021-10-17T01:00:07.392560",
     "status": "completed"
    },
    "tags": []
   },
   "outputs": [],
   "source": [
    "import pandas as pd\n",
    "import sqlite3"
   ]
  },
  {
   "cell_type": "code",
   "execution_count": 2,
   "id": "innovative-syndrome",
   "metadata": {
    "execution": {
     "iopub.execute_input": "2021-10-17T01:00:08.306182Z",
     "iopub.status.busy": "2021-10-17T01:00:08.304185Z",
     "iopub.status.idle": "2021-10-17T01:00:08.860795Z",
     "shell.execute_reply": "2021-10-17T01:00:08.862008Z"
    },
    "papermill": {
     "duration": 0.586386,
     "end_time": "2021-10-17T01:00:08.862439",
     "exception": false,
     "start_time": "2021-10-17T01:00:08.276053",
     "status": "completed"
    },
    "tags": []
   },
   "outputs": [],
   "source": [
    "timestamps = pd.read_sql(\"select distinct record_time from EBAY_TOP_BERLIN order by record_time desc limit 2\", sqlite3.connect(\"UsedObjects.db\"))"
   ]
  },
  {
   "cell_type": "code",
   "execution_count": 3,
   "id": "periodic-identification",
   "metadata": {
    "execution": {
     "iopub.execute_input": "2021-10-17T01:00:08.939522Z",
     "iopub.status.busy": "2021-10-17T01:00:08.937480Z",
     "iopub.status.idle": "2021-10-17T01:00:08.957315Z",
     "shell.execute_reply": "2021-10-17T01:00:08.958461Z"
    },
    "papermill": {
     "duration": 0.06961,
     "end_time": "2021-10-17T01:00:08.958873",
     "exception": false,
     "start_time": "2021-10-17T01:00:08.889263",
     "status": "completed"
    },
    "tags": []
   },
   "outputs": [
    {
     "data": {
      "text/html": [
       "<div>\n",
       "<style scoped>\n",
       "    .dataframe tbody tr th:only-of-type {\n",
       "        vertical-align: middle;\n",
       "    }\n",
       "\n",
       "    .dataframe tbody tr th {\n",
       "        vertical-align: top;\n",
       "    }\n",
       "\n",
       "    .dataframe thead th {\n",
       "        text-align: right;\n",
       "    }\n",
       "</style>\n",
       "<table border=\"1\" class=\"dataframe\">\n",
       "  <thead>\n",
       "    <tr style=\"text-align: right;\">\n",
       "      <th></th>\n",
       "      <th>RECORD_TIME</th>\n",
       "    </tr>\n",
       "  </thead>\n",
       "  <tbody>\n",
       "    <tr>\n",
       "      <th>0</th>\n",
       "      <td>2021-10-17 03:00</td>\n",
       "    </tr>\n",
       "    <tr>\n",
       "      <th>1</th>\n",
       "      <td>2021-10-17 02:30</td>\n",
       "    </tr>\n",
       "  </tbody>\n",
       "</table>\n",
       "</div>"
      ],
      "text/plain": [
       "        RECORD_TIME\n",
       "0  2021-10-17 03:00\n",
       "1  2021-10-17 02:30"
      ]
     },
     "execution_count": 3,
     "metadata": {},
     "output_type": "execute_result"
    }
   ],
   "source": [
    "timestamps"
   ]
  },
  {
   "cell_type": "code",
   "execution_count": 4,
   "id": "alternate-victory",
   "metadata": {
    "execution": {
     "iopub.execute_input": "2021-10-17T01:00:09.012442Z",
     "iopub.status.busy": "2021-10-17T01:00:09.010166Z",
     "iopub.status.idle": "2021-10-17T01:00:09.847978Z",
     "shell.execute_reply": "2021-10-17T01:00:09.849532Z"
    },
    "papermill": {
     "duration": 0.868463,
     "end_time": "2021-10-17T01:00:09.849995",
     "exception": false,
     "start_time": "2021-10-17T01:00:08.981532",
     "status": "completed"
    },
    "tags": []
   },
   "outputs": [],
   "source": [
    "df = pd.read_sql(\"select * from EBAY_TOP_BERLIN where record_time in (select distinct record_time from EBAY_TOP_BERLIN order by record_time desc limit 2)\", sqlite3.connect(\"UsedObjects.db\"))"
   ]
  },
  {
   "cell_type": "code",
   "execution_count": 5,
   "id": "popular-active",
   "metadata": {
    "execution": {
     "iopub.execute_input": "2021-10-17T01:00:09.918398Z",
     "iopub.status.busy": "2021-10-17T01:00:09.907593Z",
     "iopub.status.idle": "2021-10-17T01:00:09.934940Z",
     "shell.execute_reply": "2021-10-17T01:00:09.936158Z"
    },
    "papermill": {
     "duration": 0.065648,
     "end_time": "2021-10-17T01:00:09.936560",
     "exception": false,
     "start_time": "2021-10-17T01:00:09.870912",
     "status": "completed"
    },
    "tags": []
   },
   "outputs": [],
   "source": [
    "df_pivot = df.pivot_table(index=\"PRODUCT\", columns = \"RECORD_TIME\", values = \"LISTING_COUNT\")"
   ]
  },
  {
   "cell_type": "code",
   "execution_count": 6,
   "id": "union-huntington",
   "metadata": {
    "execution": {
     "iopub.execute_input": "2021-10-17T01:00:09.996086Z",
     "iopub.status.busy": "2021-10-17T01:00:09.993628Z",
     "iopub.status.idle": "2021-10-17T01:00:09.999537Z",
     "shell.execute_reply": "2021-10-17T01:00:10.000886Z"
    },
    "papermill": {
     "duration": 0.042261,
     "end_time": "2021-10-17T01:00:10.001306",
     "exception": false,
     "start_time": "2021-10-17T01:00:09.959045",
     "status": "completed"
    },
    "tags": []
   },
   "outputs": [],
   "source": [
    "df_pivot.columns = [\"stamp_1\", \"stamp_2\"]\n",
    "df_pivot_diff = df_pivot.diff(axis=1)"
   ]
  },
  {
   "cell_type": "code",
   "execution_count": 7,
   "id": "fifth-motion",
   "metadata": {
    "execution": {
     "iopub.execute_input": "2021-10-17T01:00:10.055801Z",
     "iopub.status.busy": "2021-10-17T01:00:10.053499Z",
     "iopub.status.idle": "2021-10-17T01:00:11.542453Z",
     "shell.execute_reply": "2021-10-17T01:00:11.543914Z"
    },
    "papermill": {
     "duration": 1.522489,
     "end_time": "2021-10-17T01:00:11.544384",
     "exception": false,
     "start_time": "2021-10-17T01:00:10.021895",
     "status": "completed"
    },
    "tags": []
   },
   "outputs": [
    {
     "data": {
      "text/plain": [
       "<AxesSubplot:ylabel='PRODUCT'>"
      ]
     },
     "execution_count": 7,
     "metadata": {},
     "output_type": "execute_result"
    },
    {
     "data": {
      "image/png": "[encoded data removed]",
      "text/plain": [
       "<Figure size 432x288 with 1 Axes>"
      ]
     },
     "metadata": {
      "needs_background": "light"
     },
     "output_type": "display_data"
    }
   ],
   "source": [
    "df_pivot_diff.sort_values(\"stamp_2\", ascending = False)[\"stamp_2\"].head(10).plot.barh()"
   ]
  },
  {
   "cell_type": "code",
   "execution_count": null,
   "id": "extra-executive",
   "metadata": {
    "papermill": {
     "duration": 0.022332,
     "end_time": "2021-10-17T01:00:11.592275",
     "exception": false,
     "start_time": "2021-10-17T01:00:11.569943",
     "status": "completed"
    },
    "tags": []
   },
   "outputs": [],
   "source": []
  }
 ],
 "metadata": {
  "kernelspec": {
   "display_name": "Python 3",
   "language": "python",
   "name": "python3"
  },
  "language_info": {
   "codemirror_mode": {
    "name": "ipython",
    "version": 3
   },
   "file_extension": ".py",
   "mimetype": "text/x-python",
   "name": "python",
   "nbconvert_exporter": "python",
   "pygments_lexer": "ipython3",
   "version": "3.9.5"
  },
  "papermill": {
   "default_parameters": {},
   "duration": 7.818043,
   "end_time": "2021-10-17T01:00:12.803516",
   "environment_variables": {},
   "exception": null,
   "input_path": "eBay_Overview.ipynb",
   "output_path": "eBay_Overview.ipynb",
   "parameters": {},
   "start_time": "2021-10-17T01:00:04.985473",
   "version": "2.3.3"
  }
 },
 "nbformat": 4,
 "nbformat_minor": 5
}