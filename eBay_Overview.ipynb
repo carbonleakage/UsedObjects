{
 "cells": [
  {
   "cell_type": "code",
   "execution_count": 1,
   "id": "reverse-picking",
   "metadata": {
    "execution": {
     "iopub.execute_input": "2021-09-17T17:00:07.412887Z",
     "iopub.status.busy": "2021-09-17T17:00:07.410948Z",
     "iopub.status.idle": "2021-09-17T17:00:08.214513Z",
     "shell.execute_reply": "2021-09-17T17:00:08.212987Z"
    },
    "papermill": {
     "duration": 0.852381,
     "end_time": "2021-09-17T17:00:08.215005",
     "exception": false,
     "start_time": "2021-09-17T17:00:07.362624",
     "status": "completed"
    },
    "tags": []
   },
   "outputs": [],
   "source": [
    "import pandas as pd\n",
    "import sqlite3"
   ]
  },
  {
   "cell_type": "code",
   "execution_count": 2,
   "id": "innovative-syndrome",
   "metadata": {
    "execution": {
     "iopub.execute_input": "2021-09-17T17:00:08.265434Z",
     "iopub.status.busy": "2021-09-17T17:00:08.263570Z",
     "iopub.status.idle": "2021-09-17T17:00:08.569341Z",
     "shell.execute_reply": "2021-09-17T17:00:08.570605Z"
    },
    "papermill": {
     "duration": 0.335663,
     "end_time": "2021-09-17T17:00:08.571106",
     "exception": false,
     "start_time": "2021-09-17T17:00:08.235443",
     "status": "completed"
    },
    "tags": []
   },
   "outputs": [],
   "source": [
    "timestamps = pd.read_sql(\"select distinct record_time from EBAY_TOP_BERLIN order by record_time desc limit 2\", sqlite3.connect(\"UsedObjects.db\"))"
   ]
  },
  {
   "cell_type": "code",
   "execution_count": 3,
   "id": "periodic-identification",
   "metadata": {
    "execution": {
     "iopub.execute_input": "2021-09-17T17:00:08.638067Z",
     "iopub.status.busy": "2021-09-17T17:00:08.636078Z",
     "iopub.status.idle": "2021-09-17T17:00:08.655705Z",
     "shell.execute_reply": "2021-09-17T17:00:08.656902Z"
    },
    "papermill": {
     "duration": 0.066946,
     "end_time": "2021-09-17T17:00:08.657332",
     "exception": false,
     "start_time": "2021-09-17T17:00:08.590386",
     "status": "completed"
    },
    "tags": []
   },
   "outputs": [
    {
     "data": {
      "text/html": [
       "<div>\n",
       "<style scoped>\n",
       "    .dataframe tbody tr th:only-of-type {\n",
       "        vertical-align: middle;\n",
       "    }\n",
       "\n",
       "    .dataframe tbody tr th {\n",
       "        vertical-align: top;\n",
       "    }\n",
       "\n",
       "    .dataframe thead th {\n",
       "        text-align: right;\n",
       "    }\n",
       "</style>\n",
       "<table border=\"1\" class=\"dataframe\">\n",
       "  <thead>\n",
       "    <tr style=\"text-align: right;\">\n",
       "      <th></th>\n",
       "      <th>RECORD_TIME</th>\n",
       "    </tr>\n",
       "  </thead>\n",
       "  <tbody>\n",
       "    <tr>\n",
       "      <th>0</th>\n",
       "      <td>2021-09-17 19:00</td>\n",
       "    </tr>\n",
       "    <tr>\n",
       "      <th>1</th>\n",
       "      <td>2021-09-17 18:30</td>\n",
       "    </tr>\n",
       "  </tbody>\n",
       "</table>\n",
       "</div>"
      ],
      "text/plain": [
       "        RECORD_TIME\n",
       "0  2021-09-17 19:00\n",
       "1  2021-09-17 18:30"
      ]
     },
     "execution_count": 3,
     "metadata": {},
     "output_type": "execute_result"
    }
   ],
   "source": [
    "timestamps"
   ]
  },
  {
   "cell_type": "code",
   "execution_count": 4,
   "id": "alternate-victory",
   "metadata": {
    "execution": {
     "iopub.execute_input": "2021-09-17T17:00:08.708131Z",
     "iopub.status.busy": "2021-09-17T17:00:08.706090Z",
     "iopub.status.idle": "2021-09-17T17:00:09.167595Z",
     "shell.execute_reply": "2021-09-17T17:00:09.168873Z"
    },
    "papermill": {
     "duration": 0.491491,
     "end_time": "2021-09-17T17:00:09.169276",
     "exception": false,
     "start_time": "2021-09-17T17:00:08.677785",
     "status": "completed"
    },
    "tags": []
   },
   "outputs": [],
   "source": [
    "df = pd.read_sql(\"select * from EBAY_TOP_BERLIN where record_time in (select distinct record_time from EBAY_TOP_BERLIN order by record_time desc limit 2)\", sqlite3.connect(\"UsedObjects.db\"))"
   ]
  },
  {
   "cell_type": "code",
   "execution_count": 5,
   "id": "popular-active",
   "metadata": {
    "execution": {
     "iopub.execute_input": "2021-09-17T17:00:09.250287Z",
     "iopub.status.busy": "2021-09-17T17:00:09.237848Z",
     "iopub.status.idle": "2021-09-17T17:00:09.266198Z",
     "shell.execute_reply": "2021-09-17T17:00:09.267642Z"
    },
    "papermill": {
     "duration": 0.07334,
     "end_time": "2021-09-17T17:00:09.268060",
     "exception": false,
     "start_time": "2021-09-17T17:00:09.194720",
     "status": "completed"
    },
    "tags": []
   },
   "outputs": [],
   "source": [
    "df_pivot = df.pivot_table(index=\"PRODUCT\", columns = \"RECORD_TIME\", values = \"LISTING_COUNT\")"
   ]
  },
  {
   "cell_type": "code",
   "execution_count": 6,
   "id": "union-huntington",
   "metadata": {
    "execution": {
     "iopub.execute_input": "2021-09-17T17:00:09.326590Z",
     "iopub.status.busy": "2021-09-17T17:00:09.324190Z",
     "iopub.status.idle": "2021-09-17T17:00:09.330203Z",
     "shell.execute_reply": "2021-09-17T17:00:09.331642Z"
    },
    "papermill": {
     "duration": 0.042582,
     "end_time": "2021-09-17T17:00:09.332082",
     "exception": false,
     "start_time": "2021-09-17T17:00:09.289500",
     "status": "completed"
    },
    "tags": []
   },
   "outputs": [],
   "source": [
    "df_pivot.columns = [\"stamp_1\", \"stamp_2\"]\n",
    "df_pivot_diff = df_pivot.diff(axis=1)"
   ]
  },
  {
   "cell_type": "code",
   "execution_count": 7,
   "id": "fifth-motion",
   "metadata": {
    "execution": {
     "iopub.execute_input": "2021-09-17T17:00:09.386562Z",
     "iopub.status.busy": "2021-09-17T17:00:09.384389Z",
     "iopub.status.idle": "2021-09-17T17:00:10.871631Z",
     "shell.execute_reply": "2021-09-17T17:00:10.872919Z"
    },
    "papermill": {
     "duration": 1.51978,
     "end_time": "2021-09-17T17:00:10.873342",
     "exception": false,
     "start_time": "2021-09-17T17:00:09.353562",
     "status": "completed"
    },
    "tags": []
   },
   "outputs": [
    {
     "data": {
      "text/plain": [
       "<AxesSubplot:ylabel='PRODUCT'>"
      ]
     },
     "execution_count": 7,
     "metadata": {},
     "output_type": "execute_result"
    },
    {
     "data": {
      "image/png": "[encoded data removed]",
      "text/plain": [
       "<Figure size 432x288 with 1 Axes>"
      ]
     },
     "metadata": {
      "needs_background": "light"
     },
     "output_type": "display_data"
    }
   ],
   "source": [
    "df_pivot_diff.sort_values(\"stamp_2\", ascending = False)[\"stamp_2\"].head(10).plot.barh()"
   ]
  },
  {
   "cell_type": "code",
   "execution_count": null,
   "id": "extra-executive",
   "metadata": {
    "papermill": {
     "duration": 0.022439,
     "end_time": "2021-09-17T17:00:10.919824",
     "exception": false,
     "start_time": "2021-09-17T17:00:10.897385",
     "status": "completed"
    },
    "tags": []
   },
   "outputs": [],
   "source": []
  }
 ],
 "metadata": {
  "kernelspec": {
   "display_name": "Python 3",
   "language": "python",
   "name": "python3"
  },
  "language_info": {
   "codemirror_mode": {
    "name": "ipython",
    "version": 3
   },
   "file_extension": ".py",
   "mimetype": "text/x-python",
   "name": "python",
   "nbconvert_exporter": "python",
   "pygments_lexer": "ipython3",
   "version": "3.9.5"
  },
  "papermill": {
   "default_parameters": {},
   "duration": 6.597781,
   "end_time": "2021-09-17T17:00:11.562603",
   "environment_variables": {},
   "exception": null,
   "input_path": "eBay_Overview.ipynb",
   "output_path": "eBay_Overview.ipynb",
   "parameters": {},
   "start_time": "2021-09-17T17:00:04.964822",
   "version": "2.3.3"
  }
 },
 "nbformat": 4,
 "nbformat_minor": 5
}