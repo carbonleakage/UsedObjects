{
 "cells": [
  {
   "cell_type": "code",
   "execution_count": 1,
   "id": "reverse-picking",
   "metadata": {
    "execution": {
     "iopub.execute_input": "2021-10-21T12:00:07.742332Z",
     "iopub.status.busy": "2021-10-21T12:00:07.740359Z",
     "iopub.status.idle": "2021-10-21T12:00:08.546951Z",
     "shell.execute_reply": "2021-10-21T12:00:08.548172Z"
    },
    "papermill": {
     "duration": 0.857433,
     "end_time": "2021-10-21T12:00:08.548863",
     "exception": false,
     "start_time": "2021-10-21T12:00:07.691430",
     "status": "completed"
    },
    "tags": []
   },
   "outputs": [],
   "source": [
    "import pandas as pd\n",
    "import sqlite3"
   ]
  },
  {
   "cell_type": "code",
   "execution_count": 2,
   "id": "innovative-syndrome",
   "metadata": {
    "execution": {
     "iopub.execute_input": "2021-10-21T12:00:08.598618Z",
     "iopub.status.busy": "2021-10-21T12:00:08.596637Z",
     "iopub.status.idle": "2021-10-21T12:00:09.196441Z",
     "shell.execute_reply": "2021-10-21T12:00:09.197695Z"
    },
    "papermill": {
     "duration": 0.629071,
     "end_time": "2021-10-21T12:00:09.198093",
     "exception": false,
     "start_time": "2021-10-21T12:00:08.569022",
     "status": "completed"
    },
    "tags": []
   },
   "outputs": [],
   "source": [
    "timestamps = pd.read_sql(\"select distinct record_time from EBAY_TOP_BERLIN order by record_time desc limit 2\", sqlite3.connect(\"UsedObjects.db\"))"
   ]
  },
  {
   "cell_type": "code",
   "execution_count": 3,
   "id": "periodic-identification",
   "metadata": {
    "execution": {
     "iopub.execute_input": "2021-10-21T12:00:09.276873Z",
     "iopub.status.busy": "2021-10-21T12:00:09.271619Z",
     "iopub.status.idle": "2021-10-21T12:00:09.293723Z",
     "shell.execute_reply": "2021-10-21T12:00:09.295496Z"
    },
    "papermill": {
     "duration": 0.070812,
     "end_time": "2021-10-21T12:00:09.296028",
     "exception": false,
     "start_time": "2021-10-21T12:00:09.225216",
     "status": "completed"
    },
    "tags": []
   },
   "outputs": [
    {
     "data": {
      "text/html": [
       "<div>\n",
       "<style scoped>\n",
       "    .dataframe tbody tr th:only-of-type {\n",
       "        vertical-align: middle;\n",
       "    }\n",
       "\n",
       "    .dataframe tbody tr th {\n",
       "        vertical-align: top;\n",
       "    }\n",
       "\n",
       "    .dataframe thead th {\n",
       "        text-align: right;\n",
       "    }\n",
       "</style>\n",
       "<table border=\"1\" class=\"dataframe\">\n",
       "  <thead>\n",
       "    <tr style=\"text-align: right;\">\n",
       "      <th></th>\n",
       "      <th>RECORD_TIME</th>\n",
       "    </tr>\n",
       "  </thead>\n",
       "  <tbody>\n",
       "    <tr>\n",
       "      <th>0</th>\n",
       "      <td>2021-10-21 14:00</td>\n",
       "    </tr>\n",
       "    <tr>\n",
       "      <th>1</th>\n",
       "      <td>2021-10-21 13:30</td>\n",
       "    </tr>\n",
       "  </tbody>\n",
       "</table>\n",
       "</div>"
      ],
      "text/plain": [
       "        RECORD_TIME\n",
       "0  2021-10-21 14:00\n",
       "1  2021-10-21 13:30"
      ]
     },
     "execution_count": 3,
     "metadata": {},
     "output_type": "execute_result"
    }
   ],
   "source": [
    "timestamps"
   ]
  },
  {
   "cell_type": "code",
   "execution_count": 4,
   "id": "alternate-victory",
   "metadata": {
    "execution": {
     "iopub.execute_input": "2021-10-21T12:00:09.348507Z",
     "iopub.status.busy": "2021-10-21T12:00:09.346676Z",
     "iopub.status.idle": "2021-10-21T12:00:10.225372Z",
     "shell.execute_reply": "2021-10-21T12:00:10.226832Z"
    },
    "papermill": {
     "duration": 0.908827,
     "end_time": "2021-10-21T12:00:10.227272",
     "exception": false,
     "start_time": "2021-10-21T12:00:09.318445",
     "status": "completed"
    },
    "tags": []
   },
   "outputs": [],
   "source": [
    "df = pd.read_sql(\"select * from EBAY_TOP_BERLIN where record_time in (select distinct record_time from EBAY_TOP_BERLIN order by record_time desc limit 2)\", sqlite3.connect(\"UsedObjects.db\"))"
   ]
  },
  {
   "cell_type": "code",
   "execution_count": 5,
   "id": "popular-active",
   "metadata": {
    "execution": {
     "iopub.execute_input": "2021-10-21T12:00:10.297081Z",
     "iopub.status.busy": "2021-10-21T12:00:10.286204Z",
     "iopub.status.idle": "2021-10-21T12:00:10.313573Z",
     "shell.execute_reply": "2021-10-21T12:00:10.314778Z"
    },
    "papermill": {
     "duration": 0.066924,
     "end_time": "2021-10-21T12:00:10.315174",
     "exception": false,
     "start_time": "2021-10-21T12:00:10.248250",
     "status": "completed"
    },
    "tags": []
   },
   "outputs": [],
   "source": [
    "df_pivot = df.pivot_table(index=\"PRODUCT\", columns = \"RECORD_TIME\", values = \"LISTING_COUNT\")"
   ]
  },
  {
   "cell_type": "code",
   "execution_count": 6,
   "id": "union-huntington",
   "metadata": {
    "execution": {
     "iopub.execute_input": "2021-10-21T12:00:10.374386Z",
     "iopub.status.busy": "2021-10-21T12:00:10.371910Z",
     "iopub.status.idle": "2021-10-21T12:00:10.378466Z",
     "shell.execute_reply": "2021-10-21T12:00:10.379721Z"
    },
    "papermill": {
     "duration": 0.042654,
     "end_time": "2021-10-21T12:00:10.380132",
     "exception": false,
     "start_time": "2021-10-21T12:00:10.337478",
     "status": "completed"
    },
    "tags": []
   },
   "outputs": [],
   "source": [
    "df_pivot.columns = [\"stamp_1\", \"stamp_2\"]\n",
    "df_pivot_diff = df_pivot.diff(axis=1)"
   ]
  },
  {
   "cell_type": "code",
   "execution_count": 7,
   "id": "fifth-motion",
   "metadata": {
    "execution": {
     "iopub.execute_input": "2021-10-21T12:00:10.434699Z",
     "iopub.status.busy": "2021-10-21T12:00:10.431984Z",
     "iopub.status.idle": "2021-10-21T12:00:11.901786Z",
     "shell.execute_reply": "2021-10-21T12:00:11.902975Z"
    },
    "papermill": {
     "duration": 1.503377,
     "end_time": "2021-10-21T12:00:11.903404",
     "exception": false,
     "start_time": "2021-10-21T12:00:10.400027",
     "status": "completed"
    },
    "tags": []
   },
   "outputs": [
    {
     "data": {
      "text/plain": [
       "<AxesSubplot:ylabel='PRODUCT'>"
      ]
     },
     "execution_count": 7,
     "metadata": {},
     "output_type": "execute_result"
    },
    {
     "data": {
      "image/png": "[encoded data removed]",
      "text/plain": [
       "<Figure size 432x288 with 1 Axes>"
      ]
     },
     "metadata": {
      "needs_background": "light"
     },
     "output_type": "display_data"
    }
   ],
   "source": [
    "df_pivot_diff.sort_values(\"stamp_2\", ascending = False)[\"stamp_2\"].head(10).plot.barh()"
   ]
  },
  {
   "cell_type": "code",
   "execution_count": null,
   "id": "extra-executive",
   "metadata": {
    "papermill": {
     "duration": 0.021929,
     "end_time": "2021-10-21T12:00:11.948617",
     "exception": false,
     "start_time": "2021-10-21T12:00:11.926688",
     "status": "completed"
    },
    "tags": []
   },
   "outputs": [],
   "source": []
  }
 ],
 "metadata": {
  "kernelspec": {
   "display_name": "Python 3",
   "language": "python",
   "name": "python3"
  },
  "language_info": {
   "codemirror_mode": {
    "name": "ipython",
    "version": 3
   },
   "file_extension": ".py",
   "mimetype": "text/x-python",
   "name": "python",
   "nbconvert_exporter": "python",
   "pygments_lexer": "ipython3",
   "version": "3.9.5"
  },
  "papermill": {
   "default_parameters": {},
   "duration": 7.826449,
   "end_time": "2021-10-21T12:00:13.106345",
   "environment_variables": {},
   "exception": null,
   "input_path": "eBay_Overview.ipynb",
   "output_path": "eBay_Overview.ipynb",
   "parameters": {},
   "start_time": "2021-10-21T12:00:05.279896",
   "version": "2.3.3"
  }
 },
 "nbformat": 4,
 "nbformat_minor": 5
}