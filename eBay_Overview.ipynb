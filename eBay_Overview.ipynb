{
 "cells": [
  {
   "cell_type": "code",
   "execution_count": 1,
   "id": "reverse-picking",
   "metadata": {
    "execution": {
     "iopub.execute_input": "2021-12-16T00:30:07.984376Z",
     "iopub.status.busy": "2021-12-16T00:30:07.981994Z",
     "iopub.status.idle": "2021-12-16T00:30:08.938335Z",
     "shell.execute_reply": "2021-12-16T00:30:08.939882Z"
    },
    "papermill": {
     "duration": 1.005406,
     "end_time": "2021-12-16T00:30:08.940630",
     "exception": false,
     "start_time": "2021-12-16T00:30:07.935224",
     "status": "completed"
    },
    "tags": []
   },
   "outputs": [],
   "source": [
    "import pandas as pd\n",
    "import sqlite3"
   ]
  },
  {
   "cell_type": "code",
   "execution_count": 2,
   "id": "innovative-syndrome",
   "metadata": {
    "execution": {
     "iopub.execute_input": "2021-12-16T00:30:09.010480Z",
     "iopub.status.busy": "2021-12-16T00:30:09.007376Z",
     "iopub.status.idle": "2021-12-16T00:30:10.105398Z",
     "shell.execute_reply": "2021-12-16T00:30:10.106854Z"
    },
    "papermill": {
     "duration": 1.132979,
     "end_time": "2021-12-16T00:30:10.107291",
     "exception": false,
     "start_time": "2021-12-16T00:30:08.974312",
     "status": "completed"
    },
    "tags": []
   },
   "outputs": [],
   "source": [
    "timestamps = pd.read_sql(\"select distinct record_time from EBAY_TOP_BERLIN order by record_time desc limit 2\", sqlite3.connect(\"UsedObjects.db\"))"
   ]
  },
  {
   "cell_type": "code",
   "execution_count": 3,
   "id": "periodic-identification",
   "metadata": {
    "execution": {
     "iopub.execute_input": "2021-12-16T00:30:10.175767Z",
     "iopub.status.busy": "2021-12-16T00:30:10.173520Z",
     "iopub.status.idle": "2021-12-16T00:30:10.195756Z",
     "shell.execute_reply": "2021-12-16T00:30:10.197403Z"
    },
    "papermill": {
     "duration": 0.070705,
     "end_time": "2021-12-16T00:30:10.197943",
     "exception": false,
     "start_time": "2021-12-16T00:30:10.127238",
     "status": "completed"
    },
    "tags": []
   },
   "outputs": [
    {
     "data": {
      "text/html": [
       "<div>\n",
       "<style scoped>\n",
       "    .dataframe tbody tr th:only-of-type {\n",
       "        vertical-align: middle;\n",
       "    }\n",
       "\n",
       "    .dataframe tbody tr th {\n",
       "        vertical-align: top;\n",
       "    }\n",
       "\n",
       "    .dataframe thead th {\n",
       "        text-align: right;\n",
       "    }\n",
       "</style>\n",
       "<table border=\"1\" class=\"dataframe\">\n",
       "  <thead>\n",
       "    <tr style=\"text-align: right;\">\n",
       "      <th></th>\n",
       "      <th>RECORD_TIME</th>\n",
       "    </tr>\n",
       "  </thead>\n",
       "  <tbody>\n",
       "    <tr>\n",
       "      <th>0</th>\n",
       "      <td>2021-12-16 01:30</td>\n",
       "    </tr>\n",
       "    <tr>\n",
       "      <th>1</th>\n",
       "      <td>2021-12-16 01:00</td>\n",
       "    </tr>\n",
       "  </tbody>\n",
       "</table>\n",
       "</div>"
      ],
      "text/plain": [
       "        RECORD_TIME\n",
       "0  2021-12-16 01:30\n",
       "1  2021-12-16 01:00"
      ]
     },
     "execution_count": 3,
     "metadata": {},
     "output_type": "execute_result"
    }
   ],
   "source": [
    "timestamps"
   ]
  },
  {
   "cell_type": "code",
   "execution_count": 4,
   "id": "alternate-victory",
   "metadata": {
    "execution": {
     "iopub.execute_input": "2021-12-16T00:30:10.252271Z",
     "iopub.status.busy": "2021-12-16T00:30:10.250271Z",
     "iopub.status.idle": "2021-12-16T00:30:11.890437Z",
     "shell.execute_reply": "2021-12-16T00:30:11.891809Z"
    },
    "papermill": {
     "duration": 1.673304,
     "end_time": "2021-12-16T00:30:11.892282",
     "exception": false,
     "start_time": "2021-12-16T00:30:10.218978",
     "status": "completed"
    },
    "tags": []
   },
   "outputs": [],
   "source": [
    "df = pd.read_sql(\"select * from EBAY_TOP_BERLIN where record_time in (select distinct record_time from EBAY_TOP_BERLIN order by record_time desc limit 2)\", sqlite3.connect(\"UsedObjects.db\"))"
   ]
  },
  {
   "cell_type": "code",
   "execution_count": 5,
   "id": "popular-active",
   "metadata": {
    "execution": {
     "iopub.execute_input": "2021-12-16T00:30:11.965919Z",
     "iopub.status.busy": "2021-12-16T00:30:11.953269Z",
     "iopub.status.idle": "2021-12-16T00:30:11.985437Z",
     "shell.execute_reply": "2021-12-16T00:30:11.986774Z"
    },
    "papermill": {
     "duration": 0.073988,
     "end_time": "2021-12-16T00:30:11.987218",
     "exception": false,
     "start_time": "2021-12-16T00:30:11.913230",
     "status": "completed"
    },
    "tags": []
   },
   "outputs": [],
   "source": [
    "df_pivot = df.pivot_table(index=\"PRODUCT\", columns = \"RECORD_TIME\", values = \"LISTING_COUNT\")"
   ]
  },
  {
   "cell_type": "code",
   "execution_count": 6,
   "id": "union-huntington",
   "metadata": {
    "execution": {
     "iopub.execute_input": "2021-12-16T00:30:12.049449Z",
     "iopub.status.busy": "2021-12-16T00:30:12.046852Z",
     "iopub.status.idle": "2021-12-16T00:30:12.055552Z",
     "shell.execute_reply": "2021-12-16T00:30:12.054059Z"
    },
    "papermill": {
     "duration": 0.047368,
     "end_time": "2021-12-16T00:30:12.055975",
     "exception": false,
     "start_time": "2021-12-16T00:30:12.008607",
     "status": "completed"
    },
    "tags": []
   },
   "outputs": [],
   "source": [
    "df_pivot.columns = [\"stamp_1\", \"stamp_2\"]\n",
    "df_pivot_diff = df_pivot.diff(axis=1)"
   ]
  },
  {
   "cell_type": "code",
   "execution_count": 7,
   "id": "fifth-motion",
   "metadata": {
    "execution": {
     "iopub.execute_input": "2021-12-16T00:30:12.113230Z",
     "iopub.status.busy": "2021-12-16T00:30:12.110776Z",
     "iopub.status.idle": "2021-12-16T00:30:14.070244Z",
     "shell.execute_reply": "2021-12-16T00:30:14.071530Z"
    },
    "papermill": {
     "duration": 1.994817,
     "end_time": "2021-12-16T00:30:14.071946",
     "exception": false,
     "start_time": "2021-12-16T00:30:12.077129",
     "status": "completed"
    },
    "tags": []
   },
   "outputs": [
    {
     "data": {
      "text/plain": [
       "<AxesSubplot:ylabel='PRODUCT'>"
      ]
     },
     "execution_count": 7,
     "metadata": {},
     "output_type": "execute_result"
    },
    {
     "data": {
      "image/png": "[encoded data removed]",
      "text/plain": [
       "<Figure size 432x288 with 1 Axes>"
      ]
     },
     "metadata": {
      "needs_background": "light"
     },
     "output_type": "display_data"
    }
   ],
   "source": [
    "df_pivot_diff.sort_values(\"stamp_2\", ascending = False)[\"stamp_2\"].head(10).plot.barh()"
   ]
  },
  {
   "cell_type": "code",
   "execution_count": null,
   "id": "extra-executive",
   "metadata": {
    "papermill": {
     "duration": 0.028415,
     "end_time": "2021-12-16T00:30:14.135126",
     "exception": false,
     "start_time": "2021-12-16T00:30:14.106711",
     "status": "completed"
    },
    "tags": []
   },
   "outputs": [],
   "source": []
  }
 ],
 "metadata": {
  "kernelspec": {
   "display_name": "Python 3",
   "language": "python",
   "name": "python3"
  },
  "language_info": {
   "codemirror_mode": {
    "name": "ipython",
    "version": 3
   },
   "file_extension": ".py",
   "mimetype": "text/x-python",
   "name": "python",
   "nbconvert_exporter": "python",
   "pygments_lexer": "ipython3",
   "version": "3.9.5"
  },
  "papermill": {
   "default_parameters": {},
   "duration": 9.569139,
   "end_time": "2021-12-16T00:30:14.776587",
   "environment_variables": {},
   "exception": null,
   "input_path": "eBay_Overview.ipynb",
   "output_path": "eBay_Overview.ipynb",
   "parameters": {},
   "start_time": "2021-12-16T00:30:05.207448",
   "version": "2.3.3"
  }
 },
 "nbformat": 4,
 "nbformat_minor": 5
}