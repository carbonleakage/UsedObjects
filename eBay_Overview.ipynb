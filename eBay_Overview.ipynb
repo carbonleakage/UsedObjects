{
 "cells": [
  {
   "cell_type": "code",
   "execution_count": 1,
   "id": "reverse-picking",
   "metadata": {
    "execution": {
     "iopub.execute_input": "2021-12-12T22:00:08.019196Z",
     "iopub.status.busy": "2021-12-12T22:00:08.009419Z",
     "iopub.status.idle": "2021-12-12T22:00:08.964137Z",
     "shell.execute_reply": "2021-12-12T22:00:08.965741Z"
    },
    "papermill": {
     "duration": 1.003676,
     "end_time": "2021-12-12T22:00:08.966668",
     "exception": false,
     "start_time": "2021-12-12T22:00:07.962992",
     "status": "completed"
    },
    "tags": []
   },
   "outputs": [],
   "source": [
    "import pandas as pd\n",
    "import sqlite3"
   ]
  },
  {
   "cell_type": "code",
   "execution_count": 2,
   "id": "innovative-syndrome",
   "metadata": {
    "execution": {
     "iopub.execute_input": "2021-12-12T22:00:09.033133Z",
     "iopub.status.busy": "2021-12-12T22:00:09.030868Z",
     "iopub.status.idle": "2021-12-12T22:00:10.076830Z",
     "shell.execute_reply": "2021-12-12T22:00:10.078180Z"
    },
    "papermill": {
     "duration": 1.081751,
     "end_time": "2021-12-12T22:00:10.078605",
     "exception": false,
     "start_time": "2021-12-12T22:00:08.996854",
     "status": "completed"
    },
    "tags": []
   },
   "outputs": [],
   "source": [
    "timestamps = pd.read_sql(\"select distinct record_time from EBAY_TOP_BERLIN order by record_time desc limit 2\", sqlite3.connect(\"UsedObjects.db\"))"
   ]
  },
  {
   "cell_type": "code",
   "execution_count": 3,
   "id": "periodic-identification",
   "metadata": {
    "execution": {
     "iopub.execute_input": "2021-12-12T22:00:10.147601Z",
     "iopub.status.busy": "2021-12-12T22:00:10.145331Z",
     "iopub.status.idle": "2021-12-12T22:00:10.166882Z",
     "shell.execute_reply": "2021-12-12T22:00:10.168257Z"
    },
    "papermill": {
     "duration": 0.0703,
     "end_time": "2021-12-12T22:00:10.168785",
     "exception": false,
     "start_time": "2021-12-12T22:00:10.098485",
     "status": "completed"
    },
    "tags": []
   },
   "outputs": [
    {
     "data": {
      "text/html": [
       "<div>\n",
       "<style scoped>\n",
       "    .dataframe tbody tr th:only-of-type {\n",
       "        vertical-align: middle;\n",
       "    }\n",
       "\n",
       "    .dataframe tbody tr th {\n",
       "        vertical-align: top;\n",
       "    }\n",
       "\n",
       "    .dataframe thead th {\n",
       "        text-align: right;\n",
       "    }\n",
       "</style>\n",
       "<table border=\"1\" class=\"dataframe\">\n",
       "  <thead>\n",
       "    <tr style=\"text-align: right;\">\n",
       "      <th></th>\n",
       "      <th>RECORD_TIME</th>\n",
       "    </tr>\n",
       "  </thead>\n",
       "  <tbody>\n",
       "    <tr>\n",
       "      <th>0</th>\n",
       "      <td>2021-12-12 23:00</td>\n",
       "    </tr>\n",
       "    <tr>\n",
       "      <th>1</th>\n",
       "      <td>2021-12-12 22:30</td>\n",
       "    </tr>\n",
       "  </tbody>\n",
       "</table>\n",
       "</div>"
      ],
      "text/plain": [
       "        RECORD_TIME\n",
       "0  2021-12-12 23:00\n",
       "1  2021-12-12 22:30"
      ]
     },
     "execution_count": 3,
     "metadata": {},
     "output_type": "execute_result"
    }
   ],
   "source": [
    "timestamps"
   ]
  },
  {
   "cell_type": "code",
   "execution_count": 4,
   "id": "alternate-victory",
   "metadata": {
    "execution": {
     "iopub.execute_input": "2021-12-12T22:00:10.221566Z",
     "iopub.status.busy": "2021-12-12T22:00:10.219385Z",
     "iopub.status.idle": "2021-12-12T22:00:11.737536Z",
     "shell.execute_reply": "2021-12-12T22:00:11.739040Z"
    },
    "papermill": {
     "duration": 1.550655,
     "end_time": "2021-12-12T22:00:11.739532",
     "exception": false,
     "start_time": "2021-12-12T22:00:10.188877",
     "status": "completed"
    },
    "tags": []
   },
   "outputs": [],
   "source": [
    "df = pd.read_sql(\"select * from EBAY_TOP_BERLIN where record_time in (select distinct record_time from EBAY_TOP_BERLIN order by record_time desc limit 2)\", sqlite3.connect(\"UsedObjects.db\"))"
   ]
  },
  {
   "cell_type": "code",
   "execution_count": 5,
   "id": "popular-active",
   "metadata": {
    "execution": {
     "iopub.execute_input": "2021-12-12T22:00:11.835401Z",
     "iopub.status.busy": "2021-12-12T22:00:11.821351Z",
     "iopub.status.idle": "2021-12-12T22:00:11.872582Z",
     "shell.execute_reply": "2021-12-12T22:00:11.874124Z"
    },
    "papermill": {
     "duration": 0.113367,
     "end_time": "2021-12-12T22:00:11.874625",
     "exception": false,
     "start_time": "2021-12-12T22:00:11.761258",
     "status": "completed"
    },
    "tags": []
   },
   "outputs": [],
   "source": [
    "df_pivot = df.pivot_table(index=\"PRODUCT\", columns = \"RECORD_TIME\", values = \"LISTING_COUNT\")"
   ]
  },
  {
   "cell_type": "code",
   "execution_count": 6,
   "id": "union-huntington",
   "metadata": {
    "execution": {
     "iopub.execute_input": "2021-12-12T22:00:11.936750Z",
     "iopub.status.busy": "2021-12-12T22:00:11.934480Z",
     "iopub.status.idle": "2021-12-12T22:00:11.941984Z",
     "shell.execute_reply": "2021-12-12T22:00:11.940376Z"
    },
    "papermill": {
     "duration": 0.045661,
     "end_time": "2021-12-12T22:00:11.942399",
     "exception": false,
     "start_time": "2021-12-12T22:00:11.896738",
     "status": "completed"
    },
    "tags": []
   },
   "outputs": [],
   "source": [
    "df_pivot.columns = [\"stamp_1\", \"stamp_2\"]\n",
    "df_pivot_diff = df_pivot.diff(axis=1)"
   ]
  },
  {
   "cell_type": "code",
   "execution_count": 7,
   "id": "fifth-motion",
   "metadata": {
    "execution": {
     "iopub.execute_input": "2021-12-12T22:00:12.000278Z",
     "iopub.status.busy": "2021-12-12T22:00:11.998091Z",
     "iopub.status.idle": "2021-12-12T22:00:13.841693Z",
     "shell.execute_reply": "2021-12-12T22:00:13.844314Z"
    },
    "papermill": {
     "duration": 1.881257,
     "end_time": "2021-12-12T22:00:13.845196",
     "exception": false,
     "start_time": "2021-12-12T22:00:11.963939",
     "status": "completed"
    },
    "tags": []
   },
   "outputs": [
    {
     "data": {
      "text/plain": [
       "<AxesSubplot:ylabel='PRODUCT'>"
      ]
     },
     "execution_count": 7,
     "metadata": {},
     "output_type": "execute_result"
    },
    {
     "data": {
      "image/png": "[encoded data removed]",
      "text/plain": [
       "<Figure size 432x288 with 1 Axes>"
      ]
     },
     "metadata": {
      "needs_background": "light"
     },
     "output_type": "display_data"
    }
   ],
   "source": [
    "df_pivot_diff.sort_values(\"stamp_2\", ascending = False)[\"stamp_2\"].head(10).plot.barh()"
   ]
  },
  {
   "cell_type": "code",
   "execution_count": null,
   "id": "extra-executive",
   "metadata": {
    "papermill": {
     "duration": 0.036029,
     "end_time": "2021-12-12T22:00:13.916103",
     "exception": false,
     "start_time": "2021-12-12T22:00:13.880074",
     "status": "completed"
    },
    "tags": []
   },
   "outputs": [],
   "source": []
  }
 ],
 "metadata": {
  "kernelspec": {
   "display_name": "Python 3",
   "language": "python",
   "name": "python3"
  },
  "language_info": {
   "codemirror_mode": {
    "name": "ipython",
    "version": 3
   },
   "file_extension": ".py",
   "mimetype": "text/x-python",
   "name": "python",
   "nbconvert_exporter": "python",
   "pygments_lexer": "ipython3",
   "version": "3.9.5"
  },
  "papermill": {
   "default_parameters": {},
   "duration": 10.009694,
   "end_time": "2021-12-12T22:00:15.153744",
   "environment_variables": {},
   "exception": null,
   "input_path": "eBay_Overview.ipynb",
   "output_path": "eBay_Overview.ipynb",
   "parameters": {},
   "start_time": "2021-12-12T22:00:05.144050",
   "version": "2.3.3"
  }
 },
 "nbformat": 4,
 "nbformat_minor": 5
}