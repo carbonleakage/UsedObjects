{
 "cells": [
  {
   "cell_type": "code",
   "execution_count": 1,
   "id": "reverse-picking",
   "metadata": {
    "execution": {
     "iopub.execute_input": "2021-12-19T20:30:07.625028Z",
     "iopub.status.busy": "2021-12-19T20:30:07.622688Z",
     "iopub.status.idle": "2021-12-19T20:30:08.555972Z",
     "shell.execute_reply": "2021-12-19T20:30:08.558259Z"
    },
    "papermill": {
     "duration": 0.984744,
     "end_time": "2021-12-19T20:30:08.558994",
     "exception": false,
     "start_time": "2021-12-19T20:30:07.574250",
     "status": "completed"
    },
    "tags": []
   },
   "outputs": [],
   "source": [
    "import pandas as pd\n",
    "import sqlite3"
   ]
  },
  {
   "cell_type": "code",
   "execution_count": 2,
   "id": "innovative-syndrome",
   "metadata": {
    "execution": {
     "iopub.execute_input": "2021-12-19T20:30:08.678971Z",
     "iopub.status.busy": "2021-12-19T20:30:08.676658Z",
     "iopub.status.idle": "2021-12-19T20:30:09.812955Z",
     "shell.execute_reply": "2021-12-19T20:30:09.814172Z"
    },
    "papermill": {
     "duration": 1.17119,
     "end_time": "2021-12-19T20:30:09.814577",
     "exception": false,
     "start_time": "2021-12-19T20:30:08.643387",
     "status": "completed"
    },
    "tags": []
   },
   "outputs": [],
   "source": [
    "timestamps = pd.read_sql(\"select distinct record_time from EBAY_TOP_BERLIN order by record_time desc limit 2\", sqlite3.connect(\"UsedObjects.db\"))"
   ]
  },
  {
   "cell_type": "code",
   "execution_count": 3,
   "id": "periodic-identification",
   "metadata": {
    "execution": {
     "iopub.execute_input": "2021-12-19T20:30:09.879396Z",
     "iopub.status.busy": "2021-12-19T20:30:09.877129Z",
     "iopub.status.idle": "2021-12-19T20:30:09.897682Z",
     "shell.execute_reply": "2021-12-19T20:30:09.898967Z"
    },
    "papermill": {
     "duration": 0.065254,
     "end_time": "2021-12-19T20:30:09.899378",
     "exception": false,
     "start_time": "2021-12-19T20:30:09.834124",
     "status": "completed"
    },
    "tags": []
   },
   "outputs": [
    {
     "data": {
      "text/html": [
       "<div>\n",
       "<style scoped>\n",
       "    .dataframe tbody tr th:only-of-type {\n",
       "        vertical-align: middle;\n",
       "    }\n",
       "\n",
       "    .dataframe tbody tr th {\n",
       "        vertical-align: top;\n",
       "    }\n",
       "\n",
       "    .dataframe thead th {\n",
       "        text-align: right;\n",
       "    }\n",
       "</style>\n",
       "<table border=\"1\" class=\"dataframe\">\n",
       "  <thead>\n",
       "    <tr style=\"text-align: right;\">\n",
       "      <th></th>\n",
       "      <th>RECORD_TIME</th>\n",
       "    </tr>\n",
       "  </thead>\n",
       "  <tbody>\n",
       "    <tr>\n",
       "      <th>0</th>\n",
       "      <td>2021-12-19 21:30</td>\n",
       "    </tr>\n",
       "    <tr>\n",
       "      <th>1</th>\n",
       "      <td>2021-12-19 21:00</td>\n",
       "    </tr>\n",
       "  </tbody>\n",
       "</table>\n",
       "</div>"
      ],
      "text/plain": [
       "        RECORD_TIME\n",
       "0  2021-12-19 21:30\n",
       "1  2021-12-19 21:00"
      ]
     },
     "execution_count": 3,
     "metadata": {},
     "output_type": "execute_result"
    }
   ],
   "source": [
    "timestamps"
   ]
  },
  {
   "cell_type": "code",
   "execution_count": 4,
   "id": "alternate-victory",
   "metadata": {
    "execution": {
     "iopub.execute_input": "2021-12-19T20:30:09.951587Z",
     "iopub.status.busy": "2021-12-19T20:30:09.949288Z",
     "iopub.status.idle": "2021-12-19T20:30:11.622865Z",
     "shell.execute_reply": "2021-12-19T20:30:11.624322Z"
    },
    "papermill": {
     "duration": 1.704372,
     "end_time": "2021-12-19T20:30:11.624861",
     "exception": false,
     "start_time": "2021-12-19T20:30:09.920489",
     "status": "completed"
    },
    "tags": []
   },
   "outputs": [],
   "source": [
    "df = pd.read_sql(\"select * from EBAY_TOP_BERLIN where record_time in (select distinct record_time from EBAY_TOP_BERLIN order by record_time desc limit 2)\", sqlite3.connect(\"UsedObjects.db\"))"
   ]
  },
  {
   "cell_type": "code",
   "execution_count": 5,
   "id": "popular-active",
   "metadata": {
    "execution": {
     "iopub.execute_input": "2021-12-19T20:30:11.688796Z",
     "iopub.status.busy": "2021-12-19T20:30:11.686438Z",
     "iopub.status.idle": "2021-12-19T20:30:11.716886Z",
     "shell.execute_reply": "2021-12-19T20:30:11.718268Z"
    },
    "papermill": {
     "duration": 0.072828,
     "end_time": "2021-12-19T20:30:11.718751",
     "exception": false,
     "start_time": "2021-12-19T20:30:11.645923",
     "status": "completed"
    },
    "tags": []
   },
   "outputs": [],
   "source": [
    "df_pivot = df.pivot_table(index=\"PRODUCT\", columns = \"RECORD_TIME\", values = \"LISTING_COUNT\")"
   ]
  },
  {
   "cell_type": "code",
   "execution_count": 6,
   "id": "union-huntington",
   "metadata": {
    "execution": {
     "iopub.execute_input": "2021-12-19T20:30:11.781424Z",
     "iopub.status.busy": "2021-12-19T20:30:11.779098Z",
     "iopub.status.idle": "2021-12-19T20:30:11.784863Z",
     "shell.execute_reply": "2021-12-19T20:30:11.786228Z"
    },
    "papermill": {
     "duration": 0.046516,
     "end_time": "2021-12-19T20:30:11.786710",
     "exception": false,
     "start_time": "2021-12-19T20:30:11.740194",
     "status": "completed"
    },
    "tags": []
   },
   "outputs": [],
   "source": [
    "df_pivot.columns = [\"stamp_1\", \"stamp_2\"]\n",
    "df_pivot_diff = df_pivot.diff(axis=1)"
   ]
  },
  {
   "cell_type": "code",
   "execution_count": 7,
   "id": "fifth-motion",
   "metadata": {
    "execution": {
     "iopub.execute_input": "2021-12-19T20:30:11.843987Z",
     "iopub.status.busy": "2021-12-19T20:30:11.841521Z",
     "iopub.status.idle": "2021-12-19T20:30:13.860518Z",
     "shell.execute_reply": "2021-12-19T20:30:13.862014Z"
    },
    "papermill": {
     "duration": 2.055412,
     "end_time": "2021-12-19T20:30:13.862478",
     "exception": false,
     "start_time": "2021-12-19T20:30:11.807066",
     "status": "completed"
    },
    "tags": []
   },
   "outputs": [
    {
     "data": {
      "text/plain": [
       "<AxesSubplot:ylabel='PRODUCT'>"
      ]
     },
     "execution_count": 7,
     "metadata": {},
     "output_type": "execute_result"
    },
    {
     "data": {
      "image/png": "[encoded data removed]",
      "text/plain": [
       "<Figure size 432x288 with 1 Axes>"
      ]
     },
     "metadata": {
      "needs_background": "light"
     },
     "output_type": "display_data"
    }
   ],
   "source": [
    "df_pivot_diff.sort_values(\"stamp_2\", ascending = False)[\"stamp_2\"].head(10).plot.barh()"
   ]
  },
  {
   "cell_type": "code",
   "execution_count": null,
   "id": "extra-executive",
   "metadata": {
    "papermill": {
     "duration": 0.022238,
     "end_time": "2021-12-19T20:30:13.908496",
     "exception": false,
     "start_time": "2021-12-19T20:30:13.886258",
     "status": "completed"
    },
    "tags": []
   },
   "outputs": [],
   "source": []
  }
 ],
 "metadata": {
  "kernelspec": {
   "display_name": "Python 3",
   "language": "python",
   "name": "python3"
  },
  "language_info": {
   "codemirror_mode": {
    "name": "ipython",
    "version": 3
   },
   "file_extension": ".py",
   "mimetype": "text/x-python",
   "name": "python",
   "nbconvert_exporter": "python",
   "pygments_lexer": "ipython3",
   "version": "3.9.5"
  },
  "papermill": {
   "default_parameters": {},
   "duration": 9.725164,
   "end_time": "2021-12-19T20:30:14.551401",
   "environment_variables": {},
   "exception": null,
   "input_path": "eBay_Overview.ipynb",
   "output_path": "eBay_Overview.ipynb",
   "parameters": {},
   "start_time": "2021-12-19T20:30:04.826237",
   "version": "2.3.3"
  }
 },
 "nbformat": 4,
 "nbformat_minor": 5
}