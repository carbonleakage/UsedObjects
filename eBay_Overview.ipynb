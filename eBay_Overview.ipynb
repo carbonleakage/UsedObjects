{
 "cells": [
  {
   "cell_type": "code",
   "execution_count": 1,
   "id": "reverse-picking",
   "metadata": {
    "execution": {
     "iopub.execute_input": "2021-11-27T17:30:08.184643Z",
     "iopub.status.busy": "2021-11-27T17:30:08.182257Z",
     "iopub.status.idle": "2021-11-27T17:30:09.148662Z",
     "shell.execute_reply": "2021-11-27T17:30:09.150407Z"
    },
    "papermill": {
     "duration": 1.016875,
     "end_time": "2021-11-27T17:30:09.151234",
     "exception": false,
     "start_time": "2021-11-27T17:30:08.134359",
     "status": "completed"
    },
    "tags": []
   },
   "outputs": [],
   "source": [
    "import pandas as pd\n",
    "import sqlite3"
   ]
  },
  {
   "cell_type": "code",
   "execution_count": 2,
   "id": "innovative-syndrome",
   "metadata": {
    "execution": {
     "iopub.execute_input": "2021-11-27T17:30:09.212010Z",
     "iopub.status.busy": "2021-11-27T17:30:09.209826Z",
     "iopub.status.idle": "2021-11-27T17:30:10.140342Z",
     "shell.execute_reply": "2021-11-27T17:30:10.142214Z"
    },
    "papermill": {
     "duration": 0.964312,
     "end_time": "2021-11-27T17:30:10.142684",
     "exception": false,
     "start_time": "2021-11-27T17:30:09.178372",
     "status": "completed"
    },
    "tags": []
   },
   "outputs": [],
   "source": [
    "timestamps = pd.read_sql(\"select distinct record_time from EBAY_TOP_BERLIN order by record_time desc limit 2\", sqlite3.connect(\"UsedObjects.db\"))"
   ]
  },
  {
   "cell_type": "code",
   "execution_count": 3,
   "id": "periodic-identification",
   "metadata": {
    "execution": {
     "iopub.execute_input": "2021-11-27T17:30:10.215120Z",
     "iopub.status.busy": "2021-11-27T17:30:10.212603Z",
     "iopub.status.idle": "2021-11-27T17:30:10.235928Z",
     "shell.execute_reply": "2021-11-27T17:30:10.237623Z"
    },
    "papermill": {
     "duration": 0.072982,
     "end_time": "2021-11-27T17:30:10.238122",
     "exception": false,
     "start_time": "2021-11-27T17:30:10.165140",
     "status": "completed"
    },
    "tags": []
   },
   "outputs": [
    {
     "data": {
      "text/html": [
       "<div>\n",
       "<style scoped>\n",
       "    .dataframe tbody tr th:only-of-type {\n",
       "        vertical-align: middle;\n",
       "    }\n",
       "\n",
       "    .dataframe tbody tr th {\n",
       "        vertical-align: top;\n",
       "    }\n",
       "\n",
       "    .dataframe thead th {\n",
       "        text-align: right;\n",
       "    }\n",
       "</style>\n",
       "<table border=\"1\" class=\"dataframe\">\n",
       "  <thead>\n",
       "    <tr style=\"text-align: right;\">\n",
       "      <th></th>\n",
       "      <th>RECORD_TIME</th>\n",
       "    </tr>\n",
       "  </thead>\n",
       "  <tbody>\n",
       "    <tr>\n",
       "      <th>0</th>\n",
       "      <td>2021-11-27 18:30</td>\n",
       "    </tr>\n",
       "    <tr>\n",
       "      <th>1</th>\n",
       "      <td>2021-11-27 18:00</td>\n",
       "    </tr>\n",
       "  </tbody>\n",
       "</table>\n",
       "</div>"
      ],
      "text/plain": [
       "        RECORD_TIME\n",
       "0  2021-11-27 18:30\n",
       "1  2021-11-27 18:00"
      ]
     },
     "execution_count": 3,
     "metadata": {},
     "output_type": "execute_result"
    }
   ],
   "source": [
    "timestamps"
   ]
  },
  {
   "cell_type": "code",
   "execution_count": 4,
   "id": "alternate-victory",
   "metadata": {
    "execution": {
     "iopub.execute_input": "2021-11-27T17:30:10.293979Z",
     "iopub.status.busy": "2021-11-27T17:30:10.291586Z",
     "iopub.status.idle": "2021-11-27T17:30:11.642248Z",
     "shell.execute_reply": "2021-11-27T17:30:11.643635Z"
    },
    "papermill": {
     "duration": 1.384953,
     "end_time": "2021-11-27T17:30:11.644107",
     "exception": false,
     "start_time": "2021-11-27T17:30:10.259154",
     "status": "completed"
    },
    "tags": []
   },
   "outputs": [],
   "source": [
    "df = pd.read_sql(\"select * from EBAY_TOP_BERLIN where record_time in (select distinct record_time from EBAY_TOP_BERLIN order by record_time desc limit 2)\", sqlite3.connect(\"UsedObjects.db\"))"
   ]
  },
  {
   "cell_type": "code",
   "execution_count": 5,
   "id": "popular-active",
   "metadata": {
    "execution": {
     "iopub.execute_input": "2021-11-27T17:30:11.720108Z",
     "iopub.status.busy": "2021-11-27T17:30:11.706279Z",
     "iopub.status.idle": "2021-11-27T17:30:11.740437Z",
     "shell.execute_reply": "2021-11-27T17:30:11.742231Z"
    },
    "papermill": {
     "duration": 0.07779,
     "end_time": "2021-11-27T17:30:11.742727",
     "exception": false,
     "start_time": "2021-11-27T17:30:11.664937",
     "status": "completed"
    },
    "tags": []
   },
   "outputs": [],
   "source": [
    "df_pivot = df.pivot_table(index=\"PRODUCT\", columns = \"RECORD_TIME\", values = \"LISTING_COUNT\")"
   ]
  },
  {
   "cell_type": "code",
   "execution_count": 6,
   "id": "union-huntington",
   "metadata": {
    "execution": {
     "iopub.execute_input": "2021-11-27T17:30:11.801269Z",
     "iopub.status.busy": "2021-11-27T17:30:11.798922Z",
     "iopub.status.idle": "2021-11-27T17:30:11.804657Z",
     "shell.execute_reply": "2021-11-27T17:30:11.806108Z"
    },
    "papermill": {
     "duration": 0.043152,
     "end_time": "2021-11-27T17:30:11.806585",
     "exception": false,
     "start_time": "2021-11-27T17:30:11.763433",
     "status": "completed"
    },
    "tags": []
   },
   "outputs": [],
   "source": [
    "df_pivot.columns = [\"stamp_1\", \"stamp_2\"]\n",
    "df_pivot_diff = df_pivot.diff(axis=1)"
   ]
  },
  {
   "cell_type": "code",
   "execution_count": 7,
   "id": "fifth-motion",
   "metadata": {
    "execution": {
     "iopub.execute_input": "2021-11-27T17:30:11.862455Z",
     "iopub.status.busy": "2021-11-27T17:30:11.859872Z",
     "iopub.status.idle": "2021-11-27T17:30:13.875463Z",
     "shell.execute_reply": "2021-11-27T17:30:13.876989Z"
    },
    "papermill": {
     "duration": 2.05073,
     "end_time": "2021-11-27T17:30:13.877469",
     "exception": false,
     "start_time": "2021-11-27T17:30:11.826739",
     "status": "completed"
    },
    "tags": []
   },
   "outputs": [
    {
     "data": {
      "text/plain": [
       "<AxesSubplot:ylabel='PRODUCT'>"
      ]
     },
     "execution_count": 7,
     "metadata": {},
     "output_type": "execute_result"
    },
    {
     "data": {
      "image/png": "[encoded data removed]",
      "text/plain": [
       "<Figure size 432x288 with 1 Axes>"
      ]
     },
     "metadata": {
      "needs_background": "light"
     },
     "output_type": "display_data"
    }
   ],
   "source": [
    "df_pivot_diff.sort_values(\"stamp_2\", ascending = False)[\"stamp_2\"].head(10).plot.barh()"
   ]
  },
  {
   "cell_type": "code",
   "execution_count": null,
   "id": "extra-executive",
   "metadata": {
    "papermill": {
     "duration": 0.022058,
     "end_time": "2021-11-27T17:30:13.926211",
     "exception": false,
     "start_time": "2021-11-27T17:30:13.904153",
     "status": "completed"
    },
    "tags": []
   },
   "outputs": [],
   "source": []
  }
 ],
 "metadata": {
  "kernelspec": {
   "display_name": "Python 3",
   "language": "python",
   "name": "python3"
  },
  "language_info": {
   "codemirror_mode": {
    "name": "ipython",
    "version": 3
   },
   "file_extension": ".py",
   "mimetype": "text/x-python",
   "name": "python",
   "nbconvert_exporter": "python",
   "pygments_lexer": "ipython3",
   "version": "3.9.5"
  },
  "papermill": {
   "default_parameters": {},
   "duration": 9.929594,
   "end_time": "2021-11-27T17:30:15.322823",
   "environment_variables": {},
   "exception": null,
   "input_path": "eBay_Overview.ipynb",
   "output_path": "eBay_Overview.ipynb",
   "parameters": {},
   "start_time": "2021-11-27T17:30:05.393229",
   "version": "2.3.3"
  }
 },
 "nbformat": 4,
 "nbformat_minor": 5
}