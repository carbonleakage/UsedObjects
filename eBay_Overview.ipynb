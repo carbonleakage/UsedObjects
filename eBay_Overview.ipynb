{
 "cells": [
  {
   "cell_type": "code",
   "execution_count": 1,
   "id": "reverse-picking",
   "metadata": {
    "execution": {
     "iopub.execute_input": "2021-09-28T07:30:06.837531Z",
     "iopub.status.busy": "2021-09-28T07:30:06.835619Z",
     "iopub.status.idle": "2021-09-28T07:30:07.645773Z",
     "shell.execute_reply": "2021-09-28T07:30:07.644208Z"
    },
    "papermill": {
     "duration": 0.859684,
     "end_time": "2021-09-28T07:30:07.646173",
     "exception": false,
     "start_time": "2021-09-28T07:30:06.786489",
     "status": "completed"
    },
    "tags": []
   },
   "outputs": [],
   "source": [
    "import pandas as pd\n",
    "import sqlite3"
   ]
  },
  {
   "cell_type": "code",
   "execution_count": 2,
   "id": "innovative-syndrome",
   "metadata": {
    "execution": {
     "iopub.execute_input": "2021-09-28T07:30:07.695881Z",
     "iopub.status.busy": "2021-09-28T07:30:07.693915Z",
     "iopub.status.idle": "2021-09-28T07:30:08.096533Z",
     "shell.execute_reply": "2021-09-28T07:30:08.097723Z"
    },
    "papermill": {
     "duration": 0.432069,
     "end_time": "2021-09-28T07:30:08.098119",
     "exception": false,
     "start_time": "2021-09-28T07:30:07.666050",
     "status": "completed"
    },
    "tags": []
   },
   "outputs": [],
   "source": [
    "timestamps = pd.read_sql(\"select distinct record_time from EBAY_TOP_BERLIN order by record_time desc limit 2\", sqlite3.connect(\"UsedObjects.db\"))"
   ]
  },
  {
   "cell_type": "code",
   "execution_count": 3,
   "id": "periodic-identification",
   "metadata": {
    "execution": {
     "iopub.execute_input": "2021-09-28T07:30:08.162208Z",
     "iopub.status.busy": "2021-09-28T07:30:08.160201Z",
     "iopub.status.idle": "2021-09-28T07:30:08.180305Z",
     "shell.execute_reply": "2021-09-28T07:30:08.181491Z"
    },
    "papermill": {
     "duration": 0.064485,
     "end_time": "2021-09-28T07:30:08.181925",
     "exception": false,
     "start_time": "2021-09-28T07:30:08.117440",
     "status": "completed"
    },
    "tags": []
   },
   "outputs": [
    {
     "data": {
      "text/html": [
       "<div>\n",
       "<style scoped>\n",
       "    .dataframe tbody tr th:only-of-type {\n",
       "        vertical-align: middle;\n",
       "    }\n",
       "\n",
       "    .dataframe tbody tr th {\n",
       "        vertical-align: top;\n",
       "    }\n",
       "\n",
       "    .dataframe thead th {\n",
       "        text-align: right;\n",
       "    }\n",
       "</style>\n",
       "<table border=\"1\" class=\"dataframe\">\n",
       "  <thead>\n",
       "    <tr style=\"text-align: right;\">\n",
       "      <th></th>\n",
       "      <th>RECORD_TIME</th>\n",
       "    </tr>\n",
       "  </thead>\n",
       "  <tbody>\n",
       "    <tr>\n",
       "      <th>0</th>\n",
       "      <td>2021-09-28 09:30</td>\n",
       "    </tr>\n",
       "    <tr>\n",
       "      <th>1</th>\n",
       "      <td>2021-09-28 09:00</td>\n",
       "    </tr>\n",
       "  </tbody>\n",
       "</table>\n",
       "</div>"
      ],
      "text/plain": [
       "        RECORD_TIME\n",
       "0  2021-09-28 09:30\n",
       "1  2021-09-28 09:00"
      ]
     },
     "execution_count": 3,
     "metadata": {},
     "output_type": "execute_result"
    }
   ],
   "source": [
    "timestamps"
   ]
  },
  {
   "cell_type": "code",
   "execution_count": 4,
   "id": "alternate-victory",
   "metadata": {
    "execution": {
     "iopub.execute_input": "2021-09-28T07:30:08.236318Z",
     "iopub.status.busy": "2021-09-28T07:30:08.233941Z",
     "iopub.status.idle": "2021-09-28T07:30:08.824913Z",
     "shell.execute_reply": "2021-09-28T07:30:08.826109Z"
    },
    "papermill": {
     "duration": 0.621284,
     "end_time": "2021-09-28T07:30:08.826506",
     "exception": false,
     "start_time": "2021-09-28T07:30:08.205222",
     "status": "completed"
    },
    "tags": []
   },
   "outputs": [],
   "source": [
    "df = pd.read_sql(\"select * from EBAY_TOP_BERLIN where record_time in (select distinct record_time from EBAY_TOP_BERLIN order by record_time desc limit 2)\", sqlite3.connect(\"UsedObjects.db\"))"
   ]
  },
  {
   "cell_type": "code",
   "execution_count": 5,
   "id": "popular-active",
   "metadata": {
    "execution": {
     "iopub.execute_input": "2021-09-28T07:30:08.892006Z",
     "iopub.status.busy": "2021-09-28T07:30:08.884629Z",
     "iopub.status.idle": "2021-09-28T07:30:08.912928Z",
     "shell.execute_reply": "2021-09-28T07:30:08.914202Z"
    },
    "papermill": {
     "duration": 0.067764,
     "end_time": "2021-09-28T07:30:08.914615",
     "exception": false,
     "start_time": "2021-09-28T07:30:08.846851",
     "status": "completed"
    },
    "tags": []
   },
   "outputs": [],
   "source": [
    "df_pivot = df.pivot_table(index=\"PRODUCT\", columns = \"RECORD_TIME\", values = \"LISTING_COUNT\")"
   ]
  },
  {
   "cell_type": "code",
   "execution_count": 6,
   "id": "union-huntington",
   "metadata": {
    "execution": {
     "iopub.execute_input": "2021-09-28T07:30:08.970726Z",
     "iopub.status.busy": "2021-09-28T07:30:08.968670Z",
     "iopub.status.idle": "2021-09-28T07:30:08.974044Z",
     "shell.execute_reply": "2021-09-28T07:30:08.975379Z"
    },
    "papermill": {
     "duration": 0.041277,
     "end_time": "2021-09-28T07:30:08.975801",
     "exception": false,
     "start_time": "2021-09-28T07:30:08.934524",
     "status": "completed"
    },
    "tags": []
   },
   "outputs": [],
   "source": [
    "df_pivot.columns = [\"stamp_1\", \"stamp_2\"]\n",
    "df_pivot_diff = df_pivot.diff(axis=1)"
   ]
  },
  {
   "cell_type": "code",
   "execution_count": 7,
   "id": "fifth-motion",
   "metadata": {
    "execution": {
     "iopub.execute_input": "2021-09-28T07:30:09.031201Z",
     "iopub.status.busy": "2021-09-28T07:30:09.027253Z",
     "iopub.status.idle": "2021-09-28T07:30:10.523328Z",
     "shell.execute_reply": "2021-09-28T07:30:10.524623Z"
    },
    "papermill": {
     "duration": 1.528778,
     "end_time": "2021-09-28T07:30:10.525039",
     "exception": false,
     "start_time": "2021-09-28T07:30:08.996261",
     "status": "completed"
    },
    "tags": []
   },
   "outputs": [
    {
     "data": {
      "text/plain": [
       "<AxesSubplot:ylabel='PRODUCT'>"
      ]
     },
     "execution_count": 7,
     "metadata": {},
     "output_type": "execute_result"
    },
    {
     "data": {
      "image/png": "[encoded data removed]",
      "text/plain": [
       "<Figure size 432x288 with 1 Axes>"
      ]
     },
     "metadata": {
      "needs_background": "light"
     },
     "output_type": "display_data"
    }
   ],
   "source": [
    "df_pivot_diff.sort_values(\"stamp_2\", ascending = False)[\"stamp_2\"].head(10).plot.barh()"
   ]
  },
  {
   "cell_type": "code",
   "execution_count": null,
   "id": "extra-executive",
   "metadata": {
    "papermill": {
     "duration": 0.022323,
     "end_time": "2021-09-28T07:30:10.572202",
     "exception": false,
     "start_time": "2021-09-28T07:30:10.549879",
     "status": "completed"
    },
    "tags": []
   },
   "outputs": [],
   "source": []
  }
 ],
 "metadata": {
  "kernelspec": {
   "display_name": "Python 3",
   "language": "python",
   "name": "python3"
  },
  "language_info": {
   "codemirror_mode": {
    "name": "ipython",
    "version": 3
   },
   "file_extension": ".py",
   "mimetype": "text/x-python",
   "name": "python",
   "nbconvert_exporter": "python",
   "pygments_lexer": "ipython3",
   "version": "3.9.5"
  },
  "papermill": {
   "default_parameters": {},
   "duration": 7.832465,
   "end_time": "2021-09-28T07:30:12.207556",
   "environment_variables": {},
   "exception": null,
   "input_path": "eBay_Overview.ipynb",
   "output_path": "eBay_Overview.ipynb",
   "parameters": {},
   "start_time": "2021-09-28T07:30:04.375091",
   "version": "2.3.3"
  }
 },
 "nbformat": 4,
 "nbformat_minor": 5
}