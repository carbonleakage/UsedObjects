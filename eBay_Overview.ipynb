{
 "cells": [
  {
   "cell_type": "code",
   "execution_count": 1,
   "id": "reverse-picking",
   "metadata": {
    "execution": {
     "iopub.execute_input": "2021-08-22T04:30:07.080010Z",
     "iopub.status.busy": "2021-08-22T04:30:07.078037Z",
     "iopub.status.idle": "2021-08-22T04:30:07.883615Z",
     "shell.execute_reply": "2021-08-22T04:30:07.884846Z"
    },
    "papermill": {
     "duration": 0.857752,
     "end_time": "2021-08-22T04:30:07.885470",
     "exception": false,
     "start_time": "2021-08-22T04:30:07.027718",
     "status": "completed"
    },
    "tags": []
   },
   "outputs": [],
   "source": [
    "import pandas as pd\n",
    "import sqlite3"
   ]
  },
  {
   "cell_type": "code",
   "execution_count": 2,
   "id": "innovative-syndrome",
   "metadata": {
    "execution": {
     "iopub.execute_input": "2021-08-22T04:30:07.936453Z",
     "iopub.status.busy": "2021-08-22T04:30:07.934308Z",
     "iopub.status.idle": "2021-08-22T04:30:08.036763Z",
     "shell.execute_reply": "2021-08-22T04:30:08.038044Z"
    },
    "papermill": {
     "duration": 0.132187,
     "end_time": "2021-08-22T04:30:08.038455",
     "exception": false,
     "start_time": "2021-08-22T04:30:07.906268",
     "status": "completed"
    },
    "tags": []
   },
   "outputs": [],
   "source": [
    "timestamps = pd.read_sql(\"select distinct record_time from EBAY_TOP_BERLIN order by record_time desc limit 2\", sqlite3.connect(\"UsedObjects.db\"))"
   ]
  },
  {
   "cell_type": "code",
   "execution_count": 3,
   "id": "periodic-identification",
   "metadata": {
    "execution": {
     "iopub.execute_input": "2021-08-22T04:30:08.101602Z",
     "iopub.status.busy": "2021-08-22T04:30:08.099561Z",
     "iopub.status.idle": "2021-08-22T04:30:08.119804Z",
     "shell.execute_reply": "2021-08-22T04:30:08.121070Z"
    },
    "papermill": {
     "duration": 0.063505,
     "end_time": "2021-08-22T04:30:08.121477",
     "exception": false,
     "start_time": "2021-08-22T04:30:08.057972",
     "status": "completed"
    },
    "tags": []
   },
   "outputs": [
    {
     "data": {
      "text/html": [
       "<div>\n",
       "<style scoped>\n",
       "    .dataframe tbody tr th:only-of-type {\n",
       "        vertical-align: middle;\n",
       "    }\n",
       "\n",
       "    .dataframe tbody tr th {\n",
       "        vertical-align: top;\n",
       "    }\n",
       "\n",
       "    .dataframe thead th {\n",
       "        text-align: right;\n",
       "    }\n",
       "</style>\n",
       "<table border=\"1\" class=\"dataframe\">\n",
       "  <thead>\n",
       "    <tr style=\"text-align: right;\">\n",
       "      <th></th>\n",
       "      <th>RECORD_TIME</th>\n",
       "    </tr>\n",
       "  </thead>\n",
       "  <tbody>\n",
       "    <tr>\n",
       "      <th>0</th>\n",
       "      <td>2021-08-22 06:30</td>\n",
       "    </tr>\n",
       "    <tr>\n",
       "      <th>1</th>\n",
       "      <td>2021-08-22 06:00</td>\n",
       "    </tr>\n",
       "  </tbody>\n",
       "</table>\n",
       "</div>"
      ],
      "text/plain": [
       "        RECORD_TIME\n",
       "0  2021-08-22 06:30\n",
       "1  2021-08-22 06:00"
      ]
     },
     "execution_count": 3,
     "metadata": {},
     "output_type": "execute_result"
    }
   ],
   "source": [
    "timestamps"
   ]
  },
  {
   "cell_type": "code",
   "execution_count": 4,
   "id": "alternate-victory",
   "metadata": {
    "execution": {
     "iopub.execute_input": "2021-08-22T04:30:08.173737Z",
     "iopub.status.busy": "2021-08-22T04:30:08.171478Z",
     "iopub.status.idle": "2021-08-22T04:30:08.326962Z",
     "shell.execute_reply": "2021-08-22T04:30:08.328179Z"
    },
    "papermill": {
     "duration": 0.185989,
     "end_time": "2021-08-22T04:30:08.328572",
     "exception": false,
     "start_time": "2021-08-22T04:30:08.142583",
     "status": "completed"
    },
    "tags": []
   },
   "outputs": [],
   "source": [
    "df = pd.read_sql(\"select * from EBAY_TOP_BERLIN where record_time in (select distinct record_time from EBAY_TOP_BERLIN order by record_time desc limit 2)\", sqlite3.connect(\"UsedObjects.db\"))"
   ]
  },
  {
   "cell_type": "code",
   "execution_count": 5,
   "id": "popular-active",
   "metadata": {
    "execution": {
     "iopub.execute_input": "2021-08-22T04:30:08.398687Z",
     "iopub.status.busy": "2021-08-22T04:30:08.391125Z",
     "iopub.status.idle": "2021-08-22T04:30:08.414514Z",
     "shell.execute_reply": "2021-08-22T04:30:08.415910Z"
    },
    "papermill": {
     "duration": 0.067427,
     "end_time": "2021-08-22T04:30:08.416346",
     "exception": false,
     "start_time": "2021-08-22T04:30:08.348919",
     "status": "completed"
    },
    "tags": []
   },
   "outputs": [],
   "source": [
    "df_pivot = df.pivot_table(index=\"PRODUCT\", columns = \"RECORD_TIME\", values = \"LISTING_COUNT\")"
   ]
  },
  {
   "cell_type": "code",
   "execution_count": 6,
   "id": "union-huntington",
   "metadata": {
    "execution": {
     "iopub.execute_input": "2021-08-22T04:30:08.474551Z",
     "iopub.status.busy": "2021-08-22T04:30:08.472075Z",
     "iopub.status.idle": "2021-08-22T04:30:08.477689Z",
     "shell.execute_reply": "2021-08-22T04:30:08.479058Z"
    },
    "papermill": {
     "duration": 0.042341,
     "end_time": "2021-08-22T04:30:08.479482",
     "exception": false,
     "start_time": "2021-08-22T04:30:08.437141",
     "status": "completed"
    },
    "tags": []
   },
   "outputs": [],
   "source": [
    "df_pivot.columns = [\"stamp_1\", \"stamp_2\"]\n",
    "df_pivot_diff = df_pivot.diff(axis=1)"
   ]
  },
  {
   "cell_type": "code",
   "execution_count": 7,
   "id": "fifth-motion",
   "metadata": {
    "execution": {
     "iopub.execute_input": "2021-08-22T04:30:08.543036Z",
     "iopub.status.busy": "2021-08-22T04:30:08.537869Z",
     "iopub.status.idle": "2021-08-22T04:30:09.998931Z",
     "shell.execute_reply": "2021-08-22T04:30:10.000221Z"
    },
    "papermill": {
     "duration": 1.497373,
     "end_time": "2021-08-22T04:30:10.000634",
     "exception": false,
     "start_time": "2021-08-22T04:30:08.503261",
     "status": "completed"
    },
    "tags": []
   },
   "outputs": [
    {
     "data": {
      "text/plain": [
       "<AxesSubplot:ylabel='PRODUCT'>"
      ]
     },
     "execution_count": 7,
     "metadata": {},
     "output_type": "execute_result"
    },
    {
     "data": {
      "image/png": "[encoded data removed]",
      "text/plain": [
       "<Figure size 432x288 with 1 Axes>"
      ]
     },
     "metadata": {
      "needs_background": "light"
     },
     "output_type": "display_data"
    }
   ],
   "source": [
    "df_pivot_diff.sort_values(\"stamp_2\", ascending = False)[\"stamp_2\"].head(10).plot.barh()"
   ]
  },
  {
   "cell_type": "code",
   "execution_count": null,
   "id": "extra-executive",
   "metadata": {
    "papermill": {
     "duration": 0.022268,
     "end_time": "2021-08-22T04:30:10.046704",
     "exception": false,
     "start_time": "2021-08-22T04:30:10.024436",
     "status": "completed"
    },
    "tags": []
   },
   "outputs": [],
   "source": []
  }
 ],
 "metadata": {
  "kernelspec": {
   "display_name": "Python 3",
   "language": "python",
   "name": "python3"
  },
  "language_info": {
   "codemirror_mode": {
    "name": "ipython",
    "version": 3
   },
   "file_extension": ".py",
   "mimetype": "text/x-python",
   "name": "python",
   "nbconvert_exporter": "python",
   "pygments_lexer": "ipython3",
   "version": "3.9.5"
  },
  "papermill": {
   "default_parameters": {},
   "duration": 6.822782,
   "end_time": "2021-08-22T04:30:11.440967",
   "environment_variables": {},
   "exception": null,
   "input_path": "eBay_Overview.ipynb",
   "output_path": "eBay_Overview.ipynb",
   "parameters": {},
   "start_time": "2021-08-22T04:30:04.618185",
   "version": "2.3.3"
  }
 },
 "nbformat": 4,
 "nbformat_minor": 5
}