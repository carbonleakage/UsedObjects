{
 "cells": [
  {
   "cell_type": "code",
   "execution_count": 1,
   "id": "reverse-picking",
   "metadata": {
    "execution": {
     "iopub.execute_input": "2021-08-29T04:30:06.772356Z",
     "iopub.status.busy": "2021-08-29T04:30:06.770301Z",
     "iopub.status.idle": "2021-08-29T04:30:07.573844Z",
     "shell.execute_reply": "2021-08-29T04:30:07.575275Z"
    },
    "papermill": {
     "duration": 0.855054,
     "end_time": "2021-08-29T04:30:07.575950",
     "exception": false,
     "start_time": "2021-08-29T04:30:06.720896",
     "status": "completed"
    },
    "tags": []
   },
   "outputs": [],
   "source": [
    "import pandas as pd\n",
    "import sqlite3"
   ]
  },
  {
   "cell_type": "code",
   "execution_count": 2,
   "id": "innovative-syndrome",
   "metadata": {
    "execution": {
     "iopub.execute_input": "2021-08-29T04:30:07.626549Z",
     "iopub.status.busy": "2021-08-29T04:30:07.624167Z",
     "iopub.status.idle": "2021-08-29T04:30:07.781607Z",
     "shell.execute_reply": "2021-08-29T04:30:07.782802Z"
    },
    "papermill": {
     "duration": 0.187118,
     "end_time": "2021-08-29T04:30:07.783201",
     "exception": false,
     "start_time": "2021-08-29T04:30:07.596083",
     "status": "completed"
    },
    "tags": []
   },
   "outputs": [],
   "source": [
    "timestamps = pd.read_sql(\"select distinct record_time from EBAY_TOP_BERLIN order by record_time desc limit 2\", sqlite3.connect(\"UsedObjects.db\"))"
   ]
  },
  {
   "cell_type": "code",
   "execution_count": 3,
   "id": "periodic-identification",
   "metadata": {
    "execution": {
     "iopub.execute_input": "2021-08-29T04:30:07.847680Z",
     "iopub.status.busy": "2021-08-29T04:30:07.845670Z",
     "iopub.status.idle": "2021-08-29T04:30:07.865365Z",
     "shell.execute_reply": "2021-08-29T04:30:07.866683Z"
    },
    "papermill": {
     "duration": 0.06409,
     "end_time": "2021-08-29T04:30:07.867103",
     "exception": false,
     "start_time": "2021-08-29T04:30:07.803013",
     "status": "completed"
    },
    "tags": []
   },
   "outputs": [
    {
     "data": {
      "text/html": [
       "<div>\n",
       "<style scoped>\n",
       "    .dataframe tbody tr th:only-of-type {\n",
       "        vertical-align: middle;\n",
       "    }\n",
       "\n",
       "    .dataframe tbody tr th {\n",
       "        vertical-align: top;\n",
       "    }\n",
       "\n",
       "    .dataframe thead th {\n",
       "        text-align: right;\n",
       "    }\n",
       "</style>\n",
       "<table border=\"1\" class=\"dataframe\">\n",
       "  <thead>\n",
       "    <tr style=\"text-align: right;\">\n",
       "      <th></th>\n",
       "      <th>RECORD_TIME</th>\n",
       "    </tr>\n",
       "  </thead>\n",
       "  <tbody>\n",
       "    <tr>\n",
       "      <th>0</th>\n",
       "      <td>2021-08-29 06:30</td>\n",
       "    </tr>\n",
       "    <tr>\n",
       "      <th>1</th>\n",
       "      <td>2021-08-29 06:00</td>\n",
       "    </tr>\n",
       "  </tbody>\n",
       "</table>\n",
       "</div>"
      ],
      "text/plain": [
       "        RECORD_TIME\n",
       "0  2021-08-29 06:30\n",
       "1  2021-08-29 06:00"
      ]
     },
     "execution_count": 3,
     "metadata": {},
     "output_type": "execute_result"
    }
   ],
   "source": [
    "timestamps"
   ]
  },
  {
   "cell_type": "code",
   "execution_count": 4,
   "id": "alternate-victory",
   "metadata": {
    "execution": {
     "iopub.execute_input": "2021-08-29T04:30:07.918151Z",
     "iopub.status.busy": "2021-08-29T04:30:07.915916Z",
     "iopub.status.idle": "2021-08-29T04:30:08.146627Z",
     "shell.execute_reply": "2021-08-29T04:30:08.147908Z"
    },
    "papermill": {
     "duration": 0.260524,
     "end_time": "2021-08-29T04:30:08.148390",
     "exception": false,
     "start_time": "2021-08-29T04:30:07.887866",
     "status": "completed"
    },
    "tags": []
   },
   "outputs": [],
   "source": [
    "df = pd.read_sql(\"select * from EBAY_TOP_BERLIN where record_time in (select distinct record_time from EBAY_TOP_BERLIN order by record_time desc limit 2)\", sqlite3.connect(\"UsedObjects.db\"))"
   ]
  },
  {
   "cell_type": "code",
   "execution_count": 5,
   "id": "popular-active",
   "metadata": {
    "execution": {
     "iopub.execute_input": "2021-08-29T04:30:08.216812Z",
     "iopub.status.busy": "2021-08-29T04:30:08.205510Z",
     "iopub.status.idle": "2021-08-29T04:30:08.234073Z",
     "shell.execute_reply": "2021-08-29T04:30:08.235367Z"
    },
    "papermill": {
     "duration": 0.067122,
     "end_time": "2021-08-29T04:30:08.235790",
     "exception": false,
     "start_time": "2021-08-29T04:30:08.168668",
     "status": "completed"
    },
    "tags": []
   },
   "outputs": [],
   "source": [
    "df_pivot = df.pivot_table(index=\"PRODUCT\", columns = \"RECORD_TIME\", values = \"LISTING_COUNT\")"
   ]
  },
  {
   "cell_type": "code",
   "execution_count": 6,
   "id": "union-huntington",
   "metadata": {
    "execution": {
     "iopub.execute_input": "2021-08-29T04:30:08.301433Z",
     "iopub.status.busy": "2021-08-29T04:30:08.298949Z",
     "iopub.status.idle": "2021-08-29T04:30:08.305472Z",
     "shell.execute_reply": "2021-08-29T04:30:08.306836Z"
    },
    "papermill": {
     "duration": 0.046107,
     "end_time": "2021-08-29T04:30:08.307324",
     "exception": false,
     "start_time": "2021-08-29T04:30:08.261217",
     "status": "completed"
    },
    "tags": []
   },
   "outputs": [],
   "source": [
    "df_pivot.columns = [\"stamp_1\", \"stamp_2\"]\n",
    "df_pivot_diff = df_pivot.diff(axis=1)"
   ]
  },
  {
   "cell_type": "code",
   "execution_count": 7,
   "id": "fifth-motion",
   "metadata": {
    "execution": {
     "iopub.execute_input": "2021-08-29T04:30:08.361852Z",
     "iopub.status.busy": "2021-08-29T04:30:08.359419Z",
     "iopub.status.idle": "2021-08-29T04:30:09.831014Z",
     "shell.execute_reply": "2021-08-29T04:30:09.832522Z"
    },
    "papermill": {
     "duration": 1.504362,
     "end_time": "2021-08-29T04:30:09.833013",
     "exception": false,
     "start_time": "2021-08-29T04:30:08.328651",
     "status": "completed"
    },
    "tags": []
   },
   "outputs": [
    {
     "data": {
      "text/plain": [
       "<AxesSubplot:ylabel='PRODUCT'>"
      ]
     },
     "execution_count": 7,
     "metadata": {},
     "output_type": "execute_result"
    },
    {
     "data": {
      "image/png": "[encoded data removed]",
      "text/plain": [
       "<Figure size 432x288 with 1 Axes>"
      ]
     },
     "metadata": {
      "needs_background": "light"
     },
     "output_type": "display_data"
    }
   ],
   "source": [
    "df_pivot_diff.sort_values(\"stamp_2\", ascending = False)[\"stamp_2\"].head(10).plot.barh()"
   ]
  },
  {
   "cell_type": "code",
   "execution_count": null,
   "id": "extra-executive",
   "metadata": {
    "papermill": {
     "duration": 0.021982,
     "end_time": "2021-08-29T04:30:09.879931",
     "exception": false,
     "start_time": "2021-08-29T04:30:09.857949",
     "status": "completed"
    },
    "tags": []
   },
   "outputs": [],
   "source": []
  }
 ],
 "metadata": {
  "kernelspec": {
   "display_name": "Python 3",
   "language": "python",
   "name": "python3"
  },
  "language_info": {
   "codemirror_mode": {
    "name": "ipython",
    "version": 3
   },
   "file_extension": ".py",
   "mimetype": "text/x-python",
   "name": "python",
   "nbconvert_exporter": "python",
   "pygments_lexer": "ipython3",
   "version": "3.9.5"
  },
  "papermill": {
   "default_parameters": {},
   "duration": 6.820831,
   "end_time": "2021-08-29T04:30:11.135107",
   "environment_variables": {},
   "exception": null,
   "input_path": "eBay_Overview.ipynb",
   "output_path": "eBay_Overview.ipynb",
   "parameters": {},
   "start_time": "2021-08-29T04:30:04.314276",
   "version": "2.3.3"
  }
 },
 "nbformat": 4,
 "nbformat_minor": 5
}