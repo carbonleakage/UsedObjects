{
 "cells": [
  {
   "cell_type": "code",
   "execution_count": 1,
   "id": "reverse-picking",
   "metadata": {
    "execution": {
     "iopub.execute_input": "2021-10-22T11:30:06.826825Z",
     "iopub.status.busy": "2021-10-22T11:30:06.824863Z",
     "iopub.status.idle": "2021-10-22T11:30:07.633227Z",
     "shell.execute_reply": "2021-10-22T11:30:07.634500Z"
    },
    "papermill": {
     "duration": 0.862082,
     "end_time": "2021-10-22T11:30:07.635110",
     "exception": false,
     "start_time": "2021-10-22T11:30:06.773028",
     "status": "completed"
    },
    "tags": []
   },
   "outputs": [],
   "source": [
    "import pandas as pd\n",
    "import sqlite3"
   ]
  },
  {
   "cell_type": "code",
   "execution_count": 2,
   "id": "innovative-syndrome",
   "metadata": {
    "execution": {
     "iopub.execute_input": "2021-10-22T11:30:07.689363Z",
     "iopub.status.busy": "2021-10-22T11:30:07.686966Z",
     "iopub.status.idle": "2021-10-22T11:30:08.296251Z",
     "shell.execute_reply": "2021-10-22T11:30:08.297660Z"
    },
    "papermill": {
     "duration": 0.639634,
     "end_time": "2021-10-22T11:30:08.298078",
     "exception": false,
     "start_time": "2021-10-22T11:30:07.658444",
     "status": "completed"
    },
    "tags": []
   },
   "outputs": [],
   "source": [
    "timestamps = pd.read_sql(\"select distinct record_time from EBAY_TOP_BERLIN order by record_time desc limit 2\", sqlite3.connect(\"UsedObjects.db\"))"
   ]
  },
  {
   "cell_type": "code",
   "execution_count": 3,
   "id": "periodic-identification",
   "metadata": {
    "execution": {
     "iopub.execute_input": "2021-10-22T11:30:08.375858Z",
     "iopub.status.busy": "2021-10-22T11:30:08.370515Z",
     "iopub.status.idle": "2021-10-22T11:30:08.393056Z",
     "shell.execute_reply": "2021-10-22T11:30:08.394966Z"
    },
    "papermill": {
     "duration": 0.070937,
     "end_time": "2021-10-22T11:30:08.395523",
     "exception": false,
     "start_time": "2021-10-22T11:30:08.324586",
     "status": "completed"
    },
    "tags": []
   },
   "outputs": [
    {
     "data": {
      "text/html": [
       "<div>\n",
       "<style scoped>\n",
       "    .dataframe tbody tr th:only-of-type {\n",
       "        vertical-align: middle;\n",
       "    }\n",
       "\n",
       "    .dataframe tbody tr th {\n",
       "        vertical-align: top;\n",
       "    }\n",
       "\n",
       "    .dataframe thead th {\n",
       "        text-align: right;\n",
       "    }\n",
       "</style>\n",
       "<table border=\"1\" class=\"dataframe\">\n",
       "  <thead>\n",
       "    <tr style=\"text-align: right;\">\n",
       "      <th></th>\n",
       "      <th>RECORD_TIME</th>\n",
       "    </tr>\n",
       "  </thead>\n",
       "  <tbody>\n",
       "    <tr>\n",
       "      <th>0</th>\n",
       "      <td>2021-10-22 13:30</td>\n",
       "    </tr>\n",
       "    <tr>\n",
       "      <th>1</th>\n",
       "      <td>2021-10-22 13:00</td>\n",
       "    </tr>\n",
       "  </tbody>\n",
       "</table>\n",
       "</div>"
      ],
      "text/plain": [
       "        RECORD_TIME\n",
       "0  2021-10-22 13:30\n",
       "1  2021-10-22 13:00"
      ]
     },
     "execution_count": 3,
     "metadata": {},
     "output_type": "execute_result"
    }
   ],
   "source": [
    "timestamps"
   ]
  },
  {
   "cell_type": "code",
   "execution_count": 4,
   "id": "alternate-victory",
   "metadata": {
    "execution": {
     "iopub.execute_input": "2021-10-22T11:30:08.448887Z",
     "iopub.status.busy": "2021-10-22T11:30:08.446892Z",
     "iopub.status.idle": "2021-10-22T11:30:09.351190Z",
     "shell.execute_reply": "2021-10-22T11:30:09.352392Z"
    },
    "papermill": {
     "duration": 0.934671,
     "end_time": "2021-10-22T11:30:09.352971",
     "exception": false,
     "start_time": "2021-10-22T11:30:08.418300",
     "status": "completed"
    },
    "tags": []
   },
   "outputs": [],
   "source": [
    "df = pd.read_sql(\"select * from EBAY_TOP_BERLIN where record_time in (select distinct record_time from EBAY_TOP_BERLIN order by record_time desc limit 2)\", sqlite3.connect(\"UsedObjects.db\"))"
   ]
  },
  {
   "cell_type": "code",
   "execution_count": 5,
   "id": "popular-active",
   "metadata": {
    "execution": {
     "iopub.execute_input": "2021-10-22T11:30:09.426719Z",
     "iopub.status.busy": "2021-10-22T11:30:09.414175Z",
     "iopub.status.idle": "2021-10-22T11:30:09.445042Z",
     "shell.execute_reply": "2021-10-22T11:30:09.446450Z"
    },
    "papermill": {
     "duration": 0.070582,
     "end_time": "2021-10-22T11:30:09.446892",
     "exception": false,
     "start_time": "2021-10-22T11:30:09.376310",
     "status": "completed"
    },
    "tags": []
   },
   "outputs": [],
   "source": [
    "df_pivot = df.pivot_table(index=\"PRODUCT\", columns = \"RECORD_TIME\", values = \"LISTING_COUNT\")"
   ]
  },
  {
   "cell_type": "code",
   "execution_count": 6,
   "id": "union-huntington",
   "metadata": {
    "execution": {
     "iopub.execute_input": "2021-10-22T11:30:09.504951Z",
     "iopub.status.busy": "2021-10-22T11:30:09.502464Z",
     "iopub.status.idle": "2021-10-22T11:30:09.508272Z",
     "shell.execute_reply": "2021-10-22T11:30:09.509624Z"
    },
    "papermill": {
     "duration": 0.042522,
     "end_time": "2021-10-22T11:30:09.510052",
     "exception": false,
     "start_time": "2021-10-22T11:30:09.467530",
     "status": "completed"
    },
    "tags": []
   },
   "outputs": [],
   "source": [
    "df_pivot.columns = [\"stamp_1\", \"stamp_2\"]\n",
    "df_pivot_diff = df_pivot.diff(axis=1)"
   ]
  },
  {
   "cell_type": "code",
   "execution_count": 7,
   "id": "fifth-motion",
   "metadata": {
    "execution": {
     "iopub.execute_input": "2021-10-22T11:30:09.563942Z",
     "iopub.status.busy": "2021-10-22T11:30:09.561756Z",
     "iopub.status.idle": "2021-10-22T11:30:11.034397Z",
     "shell.execute_reply": "2021-10-22T11:30:11.035664Z"
    },
    "papermill": {
     "duration": 1.50532,
     "end_time": "2021-10-22T11:30:11.036082",
     "exception": false,
     "start_time": "2021-10-22T11:30:09.530762",
     "status": "completed"
    },
    "tags": []
   },
   "outputs": [
    {
     "data": {
      "text/plain": [
       "<AxesSubplot:ylabel='PRODUCT'>"
      ]
     },
     "execution_count": 7,
     "metadata": {},
     "output_type": "execute_result"
    },
    {
     "data": {
      "image/png": "[encoded data removed]",
      "text/plain": [
       "<Figure size 432x288 with 1 Axes>"
      ]
     },
     "metadata": {
      "needs_background": "light"
     },
     "output_type": "display_data"
    }
   ],
   "source": [
    "df_pivot_diff.sort_values(\"stamp_2\", ascending = False)[\"stamp_2\"].head(10).plot.barh()"
   ]
  },
  {
   "cell_type": "code",
   "execution_count": null,
   "id": "extra-executive",
   "metadata": {
    "papermill": {
     "duration": 0.022239,
     "end_time": "2021-10-22T11:30:11.084570",
     "exception": false,
     "start_time": "2021-10-22T11:30:11.062331",
     "status": "completed"
    },
    "tags": []
   },
   "outputs": [],
   "source": []
  }
 ],
 "metadata": {
  "kernelspec": {
   "display_name": "Python 3",
   "language": "python",
   "name": "python3"
  },
  "language_info": {
   "codemirror_mode": {
    "name": "ipython",
    "version": 3
   },
   "file_extension": ".py",
   "mimetype": "text/x-python",
   "name": "python",
   "nbconvert_exporter": "python",
   "pygments_lexer": "ipython3",
   "version": "3.9.5"
  },
  "papermill": {
   "default_parameters": {},
   "duration": 7.363255,
   "end_time": "2021-10-22T11:30:11.727371",
   "environment_variables": {},
   "exception": null,
   "input_path": "eBay_Overview.ipynb",
   "output_path": "eBay_Overview.ipynb",
   "parameters": {},
   "start_time": "2021-10-22T11:30:04.364116",
   "version": "2.3.3"
  }
 },
 "nbformat": 4,
 "nbformat_minor": 5
}