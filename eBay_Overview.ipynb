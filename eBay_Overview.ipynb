{
 "cells": [
  {
   "cell_type": "code",
   "execution_count": 1,
   "id": "reverse-picking",
   "metadata": {
    "execution": {
     "iopub.execute_input": "2021-12-17T04:30:07.729903Z",
     "iopub.status.busy": "2021-12-17T04:30:07.727537Z",
     "iopub.status.idle": "2021-12-17T04:30:08.692060Z",
     "shell.execute_reply": "2021-12-17T04:30:08.693648Z"
    },
    "papermill": {
     "duration": 1.014887,
     "end_time": "2021-12-17T04:30:08.694363",
     "exception": false,
     "start_time": "2021-12-17T04:30:07.679476",
     "status": "completed"
    },
    "tags": []
   },
   "outputs": [],
   "source": [
    "import pandas as pd\n",
    "import sqlite3"
   ]
  },
  {
   "cell_type": "code",
   "execution_count": 2,
   "id": "innovative-syndrome",
   "metadata": {
    "execution": {
     "iopub.execute_input": "2021-12-17T04:30:08.815690Z",
     "iopub.status.busy": "2021-12-17T04:30:08.813087Z",
     "iopub.status.idle": "2021-12-17T04:30:09.924600Z",
     "shell.execute_reply": "2021-12-17T04:30:09.927247Z"
    },
    "papermill": {
     "duration": 1.146334,
     "end_time": "2021-12-17T04:30:09.927790",
     "exception": false,
     "start_time": "2021-12-17T04:30:08.781456",
     "status": "completed"
    },
    "tags": []
   },
   "outputs": [],
   "source": [
    "timestamps = pd.read_sql(\"select distinct record_time from EBAY_TOP_BERLIN order by record_time desc limit 2\", sqlite3.connect(\"UsedObjects.db\"))"
   ]
  },
  {
   "cell_type": "code",
   "execution_count": 3,
   "id": "periodic-identification",
   "metadata": {
    "execution": {
     "iopub.execute_input": "2021-12-17T04:30:10.002547Z",
     "iopub.status.busy": "2021-12-17T04:30:09.996505Z",
     "iopub.status.idle": "2021-12-17T04:30:10.019426Z",
     "shell.execute_reply": "2021-12-17T04:30:10.021127Z"
    },
    "papermill": {
     "duration": 0.073367,
     "end_time": "2021-12-17T04:30:10.021621",
     "exception": false,
     "start_time": "2021-12-17T04:30:09.948254",
     "status": "completed"
    },
    "tags": []
   },
   "outputs": [
    {
     "data": {
      "text/html": [
       "<div>\n",
       "<style scoped>\n",
       "    .dataframe tbody tr th:only-of-type {\n",
       "        vertical-align: middle;\n",
       "    }\n",
       "\n",
       "    .dataframe tbody tr th {\n",
       "        vertical-align: top;\n",
       "    }\n",
       "\n",
       "    .dataframe thead th {\n",
       "        text-align: right;\n",
       "    }\n",
       "</style>\n",
       "<table border=\"1\" class=\"dataframe\">\n",
       "  <thead>\n",
       "    <tr style=\"text-align: right;\">\n",
       "      <th></th>\n",
       "      <th>RECORD_TIME</th>\n",
       "    </tr>\n",
       "  </thead>\n",
       "  <tbody>\n",
       "    <tr>\n",
       "      <th>0</th>\n",
       "      <td>2021-12-17 05:30</td>\n",
       "    </tr>\n",
       "    <tr>\n",
       "      <th>1</th>\n",
       "      <td>2021-12-17 05:00</td>\n",
       "    </tr>\n",
       "  </tbody>\n",
       "</table>\n",
       "</div>"
      ],
      "text/plain": [
       "        RECORD_TIME\n",
       "0  2021-12-17 05:30\n",
       "1  2021-12-17 05:00"
      ]
     },
     "execution_count": 3,
     "metadata": {},
     "output_type": "execute_result"
    }
   ],
   "source": [
    "timestamps"
   ]
  },
  {
   "cell_type": "code",
   "execution_count": 4,
   "id": "alternate-victory",
   "metadata": {
    "execution": {
     "iopub.execute_input": "2021-12-17T04:30:10.077656Z",
     "iopub.status.busy": "2021-12-17T04:30:10.075308Z",
     "iopub.status.idle": "2021-12-17T04:30:11.658768Z",
     "shell.execute_reply": "2021-12-17T04:30:11.661019Z"
    },
    "papermill": {
     "duration": 1.618509,
     "end_time": "2021-12-17T04:30:11.661510",
     "exception": false,
     "start_time": "2021-12-17T04:30:10.043001",
     "status": "completed"
    },
    "tags": []
   },
   "outputs": [],
   "source": [
    "df = pd.read_sql(\"select * from EBAY_TOP_BERLIN where record_time in (select distinct record_time from EBAY_TOP_BERLIN order by record_time desc limit 2)\", sqlite3.connect(\"UsedObjects.db\"))"
   ]
  },
  {
   "cell_type": "code",
   "execution_count": 5,
   "id": "popular-active",
   "metadata": {
    "execution": {
     "iopub.execute_input": "2021-12-17T04:30:11.739561Z",
     "iopub.status.busy": "2021-12-17T04:30:11.726733Z",
     "iopub.status.idle": "2021-12-17T04:30:11.757389Z",
     "shell.execute_reply": "2021-12-17T04:30:11.758883Z"
    },
    "papermill": {
     "duration": 0.075224,
     "end_time": "2021-12-17T04:30:11.759373",
     "exception": false,
     "start_time": "2021-12-17T04:30:11.684149",
     "status": "completed"
    },
    "tags": []
   },
   "outputs": [],
   "source": [
    "df_pivot = df.pivot_table(index=\"PRODUCT\", columns = \"RECORD_TIME\", values = \"LISTING_COUNT\")"
   ]
  },
  {
   "cell_type": "code",
   "execution_count": 6,
   "id": "union-huntington",
   "metadata": {
    "execution": {
     "iopub.execute_input": "2021-12-17T04:30:11.818048Z",
     "iopub.status.busy": "2021-12-17T04:30:11.815724Z",
     "iopub.status.idle": "2021-12-17T04:30:11.822924Z",
     "shell.execute_reply": "2021-12-17T04:30:11.821084Z"
    },
    "papermill": {
     "duration": 0.043912,
     "end_time": "2021-12-17T04:30:11.823337",
     "exception": false,
     "start_time": "2021-12-17T04:30:11.779425",
     "status": "completed"
    },
    "tags": []
   },
   "outputs": [],
   "source": [
    "df_pivot.columns = [\"stamp_1\", \"stamp_2\"]\n",
    "df_pivot_diff = df_pivot.diff(axis=1)"
   ]
  },
  {
   "cell_type": "code",
   "execution_count": 7,
   "id": "fifth-motion",
   "metadata": {
    "execution": {
     "iopub.execute_input": "2021-12-17T04:30:11.882776Z",
     "iopub.status.busy": "2021-12-17T04:30:11.880246Z",
     "iopub.status.idle": "2021-12-17T04:30:13.822467Z",
     "shell.execute_reply": "2021-12-17T04:30:13.823750Z"
    },
    "papermill": {
     "duration": 1.979597,
     "end_time": "2021-12-17T04:30:13.824171",
     "exception": false,
     "start_time": "2021-12-17T04:30:11.844574",
     "status": "completed"
    },
    "tags": []
   },
   "outputs": [
    {
     "data": {
      "text/plain": [
       "<AxesSubplot:ylabel='PRODUCT'>"
      ]
     },
     "execution_count": 7,
     "metadata": {},
     "output_type": "execute_result"
    },
    {
     "data": {
      "image/png": "[encoded data removed]",
      "text/plain": [
       "<Figure size 432x288 with 1 Axes>"
      ]
     },
     "metadata": {
      "needs_background": "light"
     },
     "output_type": "display_data"
    }
   ],
   "source": [
    "df_pivot_diff.sort_values(\"stamp_2\", ascending = False)[\"stamp_2\"].head(10).plot.barh()"
   ]
  },
  {
   "cell_type": "code",
   "execution_count": null,
   "id": "extra-executive",
   "metadata": {
    "papermill": {
     "duration": 0.027772,
     "end_time": "2021-12-17T04:30:13.940591",
     "exception": false,
     "start_time": "2021-12-17T04:30:13.912819",
     "status": "completed"
    },
    "tags": []
   },
   "outputs": [],
   "source": []
  }
 ],
 "metadata": {
  "kernelspec": {
   "display_name": "Python 3",
   "language": "python",
   "name": "python3"
  },
  "language_info": {
   "codemirror_mode": {
    "name": "ipython",
    "version": 3
   },
   "file_extension": ".py",
   "mimetype": "text/x-python",
   "name": "python",
   "nbconvert_exporter": "python",
   "pygments_lexer": "ipython3",
   "version": "3.9.5"
  },
  "papermill": {
   "default_parameters": {},
   "duration": 9.636706,
   "end_time": "2021-12-17T04:30:14.596025",
   "environment_variables": {},
   "exception": null,
   "input_path": "eBay_Overview.ipynb",
   "output_path": "eBay_Overview.ipynb",
   "parameters": {},
   "start_time": "2021-12-17T04:30:04.959319",
   "version": "2.3.3"
  }
 },
 "nbformat": 4,
 "nbformat_minor": 5
}