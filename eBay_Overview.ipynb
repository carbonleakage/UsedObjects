{
 "cells": [
  {
   "cell_type": "code",
   "execution_count": 1,
   "id": "reverse-picking",
   "metadata": {
    "execution": {
     "iopub.execute_input": "2021-10-19T01:30:06.964501Z",
     "iopub.status.busy": "2021-10-19T01:30:06.962543Z",
     "iopub.status.idle": "2021-10-19T01:30:07.772009Z",
     "shell.execute_reply": "2021-10-19T01:30:07.773499Z"
    },
    "papermill": {
     "duration": 0.860023,
     "end_time": "2021-10-19T01:30:07.774146",
     "exception": false,
     "start_time": "2021-10-19T01:30:06.914123",
     "status": "completed"
    },
    "tags": []
   },
   "outputs": [],
   "source": [
    "import pandas as pd\n",
    "import sqlite3"
   ]
  },
  {
   "cell_type": "code",
   "execution_count": 2,
   "id": "innovative-syndrome",
   "metadata": {
    "execution": {
     "iopub.execute_input": "2021-10-19T01:30:07.826165Z",
     "iopub.status.busy": "2021-10-19T01:30:07.823751Z",
     "iopub.status.idle": "2021-10-19T01:30:08.393989Z",
     "shell.execute_reply": "2021-10-19T01:30:08.395201Z"
    },
    "papermill": {
     "duration": 0.600222,
     "end_time": "2021-10-19T01:30:08.395597",
     "exception": false,
     "start_time": "2021-10-19T01:30:07.795375",
     "status": "completed"
    },
    "tags": []
   },
   "outputs": [],
   "source": [
    "timestamps = pd.read_sql(\"select distinct record_time from EBAY_TOP_BERLIN order by record_time desc limit 2\", sqlite3.connect(\"UsedObjects.db\"))"
   ]
  },
  {
   "cell_type": "code",
   "execution_count": 3,
   "id": "periodic-identification",
   "metadata": {
    "execution": {
     "iopub.execute_input": "2021-10-19T01:30:08.480050Z",
     "iopub.status.busy": "2021-10-19T01:30:08.478012Z",
     "iopub.status.idle": "2021-10-19T01:30:08.497992Z",
     "shell.execute_reply": "2021-10-19T01:30:08.499213Z"
    },
    "papermill": {
     "duration": 0.070427,
     "end_time": "2021-10-19T01:30:08.499604",
     "exception": false,
     "start_time": "2021-10-19T01:30:08.429177",
     "status": "completed"
    },
    "tags": []
   },
   "outputs": [
    {
     "data": {
      "text/html": [
       "<div>\n",
       "<style scoped>\n",
       "    .dataframe tbody tr th:only-of-type {\n",
       "        vertical-align: middle;\n",
       "    }\n",
       "\n",
       "    .dataframe tbody tr th {\n",
       "        vertical-align: top;\n",
       "    }\n",
       "\n",
       "    .dataframe thead th {\n",
       "        text-align: right;\n",
       "    }\n",
       "</style>\n",
       "<table border=\"1\" class=\"dataframe\">\n",
       "  <thead>\n",
       "    <tr style=\"text-align: right;\">\n",
       "      <th></th>\n",
       "      <th>RECORD_TIME</th>\n",
       "    </tr>\n",
       "  </thead>\n",
       "  <tbody>\n",
       "    <tr>\n",
       "      <th>0</th>\n",
       "      <td>2021-10-19 03:30</td>\n",
       "    </tr>\n",
       "    <tr>\n",
       "      <th>1</th>\n",
       "      <td>2021-10-19 03:00</td>\n",
       "    </tr>\n",
       "  </tbody>\n",
       "</table>\n",
       "</div>"
      ],
      "text/plain": [
       "        RECORD_TIME\n",
       "0  2021-10-19 03:30\n",
       "1  2021-10-19 03:00"
      ]
     },
     "execution_count": 3,
     "metadata": {},
     "output_type": "execute_result"
    }
   ],
   "source": [
    "timestamps"
   ]
  },
  {
   "cell_type": "code",
   "execution_count": 4,
   "id": "alternate-victory",
   "metadata": {
    "execution": {
     "iopub.execute_input": "2021-10-19T01:30:08.550345Z",
     "iopub.status.busy": "2021-10-19T01:30:08.548361Z",
     "iopub.status.idle": "2021-10-19T01:30:09.392858Z",
     "shell.execute_reply": "2021-10-19T01:30:09.394119Z"
    },
    "papermill": {
     "duration": 0.874091,
     "end_time": "2021-10-19T01:30:09.394515",
     "exception": false,
     "start_time": "2021-10-19T01:30:08.520424",
     "status": "completed"
    },
    "tags": []
   },
   "outputs": [],
   "source": [
    "df = pd.read_sql(\"select * from EBAY_TOP_BERLIN where record_time in (select distinct record_time from EBAY_TOP_BERLIN order by record_time desc limit 2)\", sqlite3.connect(\"UsedObjects.db\"))"
   ]
  },
  {
   "cell_type": "code",
   "execution_count": 5,
   "id": "popular-active",
   "metadata": {
    "execution": {
     "iopub.execute_input": "2021-10-19T01:30:09.463913Z",
     "iopub.status.busy": "2021-10-19T01:30:09.452225Z",
     "iopub.status.idle": "2021-10-19T01:30:09.479825Z",
     "shell.execute_reply": "2021-10-19T01:30:09.481263Z"
    },
    "papermill": {
     "duration": 0.066762,
     "end_time": "2021-10-19T01:30:09.481678",
     "exception": false,
     "start_time": "2021-10-19T01:30:09.414916",
     "status": "completed"
    },
    "tags": []
   },
   "outputs": [],
   "source": [
    "df_pivot = df.pivot_table(index=\"PRODUCT\", columns = \"RECORD_TIME\", values = \"LISTING_COUNT\")"
   ]
  },
  {
   "cell_type": "code",
   "execution_count": 6,
   "id": "union-huntington",
   "metadata": {
    "execution": {
     "iopub.execute_input": "2021-10-19T01:30:09.539352Z",
     "iopub.status.busy": "2021-10-19T01:30:09.536899Z",
     "iopub.status.idle": "2021-10-19T01:30:09.542915Z",
     "shell.execute_reply": "2021-10-19T01:30:09.544387Z"
    },
    "papermill": {
     "duration": 0.042128,
     "end_time": "2021-10-19T01:30:09.544904",
     "exception": false,
     "start_time": "2021-10-19T01:30:09.502776",
     "status": "completed"
    },
    "tags": []
   },
   "outputs": [],
   "source": [
    "df_pivot.columns = [\"stamp_1\", \"stamp_2\"]\n",
    "df_pivot_diff = df_pivot.diff(axis=1)"
   ]
  },
  {
   "cell_type": "code",
   "execution_count": 7,
   "id": "fifth-motion",
   "metadata": {
    "execution": {
     "iopub.execute_input": "2021-10-19T01:30:09.599524Z",
     "iopub.status.busy": "2021-10-19T01:30:09.597224Z",
     "iopub.status.idle": "2021-10-19T01:30:11.078344Z",
     "shell.execute_reply": "2021-10-19T01:30:11.079538Z"
    },
    "papermill": {
     "duration": 1.513982,
     "end_time": "2021-10-19T01:30:11.079961",
     "exception": false,
     "start_time": "2021-10-19T01:30:09.565979",
     "status": "completed"
    },
    "tags": []
   },
   "outputs": [
    {
     "data": {
      "text/plain": [
       "<AxesSubplot:ylabel='PRODUCT'>"
      ]
     },
     "execution_count": 7,
     "metadata": {},
     "output_type": "execute_result"
    },
    {
     "data": {
      "image/png": "[encoded data removed]",
      "text/plain": [
       "<Figure size 432x288 with 1 Axes>"
      ]
     },
     "metadata": {
      "needs_background": "light"
     },
     "output_type": "display_data"
    }
   ],
   "source": [
    "df_pivot_diff.sort_values(\"stamp_2\", ascending = False)[\"stamp_2\"].head(10).plot.barh()"
   ]
  },
  {
   "cell_type": "code",
   "execution_count": null,
   "id": "extra-executive",
   "metadata": {
    "papermill": {
     "duration": 0.021876,
     "end_time": "2021-10-19T01:30:11.127205",
     "exception": false,
     "start_time": "2021-10-19T01:30:11.105329",
     "status": "completed"
    },
    "tags": []
   },
   "outputs": [],
   "source": []
  }
 ],
 "metadata": {
  "kernelspec": {
   "display_name": "Python 3",
   "language": "python",
   "name": "python3"
  },
  "language_info": {
   "codemirror_mode": {
    "name": "ipython",
    "version": 3
   },
   "file_extension": ".py",
   "mimetype": "text/x-python",
   "name": "python",
   "nbconvert_exporter": "python",
   "pygments_lexer": "ipython3",
   "version": "3.9.5"
  },
  "papermill": {
   "default_parameters": {},
   "duration": 7.82059,
   "end_time": "2021-10-19T01:30:12.313922",
   "environment_variables": {},
   "exception": null,
   "input_path": "eBay_Overview.ipynb",
   "output_path": "eBay_Overview.ipynb",
   "parameters": {},
   "start_time": "2021-10-19T01:30:04.493332",
   "version": "2.3.3"
  }
 },
 "nbformat": 4,
 "nbformat_minor": 5
}