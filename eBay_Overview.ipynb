{
 "cells": [
  {
   "cell_type": "code",
   "execution_count": 1,
   "id": "reverse-picking",
   "metadata": {
    "execution": {
     "iopub.execute_input": "2021-09-21T03:00:06.948652Z",
     "iopub.status.busy": "2021-09-21T03:00:06.946643Z",
     "iopub.status.idle": "2021-09-21T03:00:07.757355Z",
     "shell.execute_reply": "2021-09-21T03:00:07.758594Z"
    },
    "papermill": {
     "duration": 0.864521,
     "end_time": "2021-09-21T03:00:07.759501",
     "exception": false,
     "start_time": "2021-09-21T03:00:06.894980",
     "status": "completed"
    },
    "tags": []
   },
   "outputs": [],
   "source": [
    "import pandas as pd\n",
    "import sqlite3"
   ]
  },
  {
   "cell_type": "code",
   "execution_count": 2,
   "id": "innovative-syndrome",
   "metadata": {
    "execution": {
     "iopub.execute_input": "2021-09-21T03:00:07.812235Z",
     "iopub.status.busy": "2021-09-21T03:00:07.809871Z",
     "iopub.status.idle": "2021-09-21T03:00:08.145849Z",
     "shell.execute_reply": "2021-09-21T03:00:08.147180Z"
    },
    "papermill": {
     "duration": 0.365863,
     "end_time": "2021-09-21T03:00:08.147608",
     "exception": false,
     "start_time": "2021-09-21T03:00:07.781745",
     "status": "completed"
    },
    "tags": []
   },
   "outputs": [],
   "source": [
    "timestamps = pd.read_sql(\"select distinct record_time from EBAY_TOP_BERLIN order by record_time desc limit 2\", sqlite3.connect(\"UsedObjects.db\"))"
   ]
  },
  {
   "cell_type": "code",
   "execution_count": 3,
   "id": "periodic-identification",
   "metadata": {
    "execution": {
     "iopub.execute_input": "2021-09-21T03:00:08.212609Z",
     "iopub.status.busy": "2021-09-21T03:00:08.210529Z",
     "iopub.status.idle": "2021-09-21T03:00:08.230300Z",
     "shell.execute_reply": "2021-09-21T03:00:08.231495Z"
    },
    "papermill": {
     "duration": 0.064169,
     "end_time": "2021-09-21T03:00:08.231905",
     "exception": false,
     "start_time": "2021-09-21T03:00:08.167736",
     "status": "completed"
    },
    "tags": []
   },
   "outputs": [
    {
     "data": {
      "text/html": [
       "<div>\n",
       "<style scoped>\n",
       "    .dataframe tbody tr th:only-of-type {\n",
       "        vertical-align: middle;\n",
       "    }\n",
       "\n",
       "    .dataframe tbody tr th {\n",
       "        vertical-align: top;\n",
       "    }\n",
       "\n",
       "    .dataframe thead th {\n",
       "        text-align: right;\n",
       "    }\n",
       "</style>\n",
       "<table border=\"1\" class=\"dataframe\">\n",
       "  <thead>\n",
       "    <tr style=\"text-align: right;\">\n",
       "      <th></th>\n",
       "      <th>RECORD_TIME</th>\n",
       "    </tr>\n",
       "  </thead>\n",
       "  <tbody>\n",
       "    <tr>\n",
       "      <th>0</th>\n",
       "      <td>2021-09-21 05:00</td>\n",
       "    </tr>\n",
       "    <tr>\n",
       "      <th>1</th>\n",
       "      <td>2021-09-21 04:30</td>\n",
       "    </tr>\n",
       "  </tbody>\n",
       "</table>\n",
       "</div>"
      ],
      "text/plain": [
       "        RECORD_TIME\n",
       "0  2021-09-21 05:00\n",
       "1  2021-09-21 04:30"
      ]
     },
     "execution_count": 3,
     "metadata": {},
     "output_type": "execute_result"
    }
   ],
   "source": [
    "timestamps"
   ]
  },
  {
   "cell_type": "code",
   "execution_count": 4,
   "id": "alternate-victory",
   "metadata": {
    "execution": {
     "iopub.execute_input": "2021-09-21T03:00:08.284595Z",
     "iopub.status.busy": "2021-09-21T03:00:08.282396Z",
     "iopub.status.idle": "2021-09-21T03:00:08.781179Z",
     "shell.execute_reply": "2021-09-21T03:00:08.782374Z"
    },
    "papermill": {
     "duration": 0.528411,
     "end_time": "2021-09-21T03:00:08.782766",
     "exception": false,
     "start_time": "2021-09-21T03:00:08.254355",
     "status": "completed"
    },
    "tags": []
   },
   "outputs": [],
   "source": [
    "df = pd.read_sql(\"select * from EBAY_TOP_BERLIN where record_time in (select distinct record_time from EBAY_TOP_BERLIN order by record_time desc limit 2)\", sqlite3.connect(\"UsedObjects.db\"))"
   ]
  },
  {
   "cell_type": "code",
   "execution_count": 5,
   "id": "popular-active",
   "metadata": {
    "execution": {
     "iopub.execute_input": "2021-09-21T03:00:08.854620Z",
     "iopub.status.busy": "2021-09-21T03:00:08.842163Z",
     "iopub.status.idle": "2021-09-21T03:00:08.870119Z",
     "shell.execute_reply": "2021-09-21T03:00:08.871564Z"
    },
    "papermill": {
     "duration": 0.067362,
     "end_time": "2021-09-21T03:00:08.871973",
     "exception": false,
     "start_time": "2021-09-21T03:00:08.804611",
     "status": "completed"
    },
    "tags": []
   },
   "outputs": [],
   "source": [
    "df_pivot = df.pivot_table(index=\"PRODUCT\", columns = \"RECORD_TIME\", values = \"LISTING_COUNT\")"
   ]
  },
  {
   "cell_type": "code",
   "execution_count": 6,
   "id": "union-huntington",
   "metadata": {
    "execution": {
     "iopub.execute_input": "2021-09-21T03:00:08.929725Z",
     "iopub.status.busy": "2021-09-21T03:00:08.927311Z",
     "iopub.status.idle": "2021-09-21T03:00:08.933451Z",
     "shell.execute_reply": "2021-09-21T03:00:08.934957Z"
    },
    "papermill": {
     "duration": 0.042448,
     "end_time": "2021-09-21T03:00:08.935429",
     "exception": false,
     "start_time": "2021-09-21T03:00:08.892981",
     "status": "completed"
    },
    "tags": []
   },
   "outputs": [],
   "source": [
    "df_pivot.columns = [\"stamp_1\", \"stamp_2\"]\n",
    "df_pivot_diff = df_pivot.diff(axis=1)"
   ]
  },
  {
   "cell_type": "code",
   "execution_count": 7,
   "id": "fifth-motion",
   "metadata": {
    "execution": {
     "iopub.execute_input": "2021-09-21T03:00:08.990675Z",
     "iopub.status.busy": "2021-09-21T03:00:08.988315Z",
     "iopub.status.idle": "2021-09-21T03:00:10.444662Z",
     "shell.execute_reply": "2021-09-21T03:00:10.446126Z"
    },
    "papermill": {
     "duration": 1.48919,
     "end_time": "2021-09-21T03:00:10.446569",
     "exception": false,
     "start_time": "2021-09-21T03:00:08.957379",
     "status": "completed"
    },
    "tags": []
   },
   "outputs": [
    {
     "data": {
      "text/plain": [
       "<AxesSubplot:ylabel='PRODUCT'>"
      ]
     },
     "execution_count": 7,
     "metadata": {},
     "output_type": "execute_result"
    },
    {
     "data": {
      "image/png": "[encoded data removed]",
      "text/plain": [
       "<Figure size 432x288 with 1 Axes>"
      ]
     },
     "metadata": {
      "needs_background": "light"
     },
     "output_type": "display_data"
    }
   ],
   "source": [
    "df_pivot_diff.sort_values(\"stamp_2\", ascending = False)[\"stamp_2\"].head(10).plot.barh()"
   ]
  },
  {
   "cell_type": "code",
   "execution_count": null,
   "id": "extra-executive",
   "metadata": {
    "papermill": {
     "duration": 0.022076,
     "end_time": "2021-09-21T03:00:10.492307",
     "exception": false,
     "start_time": "2021-09-21T03:00:10.470231",
     "status": "completed"
    },
    "tags": []
   },
   "outputs": [],
   "source": []
  }
 ],
 "metadata": {
  "kernelspec": {
   "display_name": "Python 3",
   "language": "python",
   "name": "python3"
  },
  "language_info": {
   "codemirror_mode": {
    "name": "ipython",
    "version": 3
   },
   "file_extension": ".py",
   "mimetype": "text/x-python",
   "name": "python",
   "nbconvert_exporter": "python",
   "pygments_lexer": "ipython3",
   "version": "3.9.5"
  },
  "papermill": {
   "default_parameters": {},
   "duration": 6.641999,
   "end_time": "2021-09-21T03:00:11.135453",
   "environment_variables": {},
   "exception": null,
   "input_path": "eBay_Overview.ipynb",
   "output_path": "eBay_Overview.ipynb",
   "parameters": {},
   "start_time": "2021-09-21T03:00:04.493454",
   "version": "2.3.3"
  }
 },
 "nbformat": 4,
 "nbformat_minor": 5
}