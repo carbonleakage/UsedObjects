{
 "cells": [
  {
   "cell_type": "code",
   "execution_count": 1,
   "id": "reverse-picking",
   "metadata": {
    "execution": {
     "iopub.execute_input": "2021-08-27T18:30:07.654421Z",
     "iopub.status.busy": "2021-08-27T18:30:07.652475Z",
     "iopub.status.idle": "2021-08-27T18:30:08.455526Z",
     "shell.execute_reply": "2021-08-27T18:30:08.453883Z"
    },
    "papermill": {
     "duration": 0.853772,
     "end_time": "2021-08-27T18:30:08.455934",
     "exception": false,
     "start_time": "2021-08-27T18:30:07.602162",
     "status": "completed"
    },
    "tags": []
   },
   "outputs": [],
   "source": [
    "import pandas as pd\n",
    "import sqlite3"
   ]
  },
  {
   "cell_type": "code",
   "execution_count": 2,
   "id": "innovative-syndrome",
   "metadata": {
    "execution": {
     "iopub.execute_input": "2021-08-27T18:30:08.506827Z",
     "iopub.status.busy": "2021-08-27T18:30:08.504532Z",
     "iopub.status.idle": "2021-08-27T18:30:08.651637Z",
     "shell.execute_reply": "2021-08-27T18:30:08.652926Z"
    },
    "papermill": {
     "duration": 0.177229,
     "end_time": "2021-08-27T18:30:08.653327",
     "exception": false,
     "start_time": "2021-08-27T18:30:08.476098",
     "status": "completed"
    },
    "tags": []
   },
   "outputs": [],
   "source": [
    "timestamps = pd.read_sql(\"select distinct record_time from EBAY_TOP_BERLIN order by record_time desc limit 2\", sqlite3.connect(\"UsedObjects.db\"))"
   ]
  },
  {
   "cell_type": "code",
   "execution_count": 3,
   "id": "periodic-identification",
   "metadata": {
    "execution": {
     "iopub.execute_input": "2021-08-27T18:30:08.719862Z",
     "iopub.status.busy": "2021-08-27T18:30:08.717847Z",
     "iopub.status.idle": "2021-08-27T18:30:08.737566Z",
     "shell.execute_reply": "2021-08-27T18:30:08.738805Z"
    },
    "papermill": {
     "duration": 0.064134,
     "end_time": "2021-08-27T18:30:08.739200",
     "exception": false,
     "start_time": "2021-08-27T18:30:08.675066",
     "status": "completed"
    },
    "tags": []
   },
   "outputs": [
    {
     "data": {
      "text/html": [
       "<div>\n",
       "<style scoped>\n",
       "    .dataframe tbody tr th:only-of-type {\n",
       "        vertical-align: middle;\n",
       "    }\n",
       "\n",
       "    .dataframe tbody tr th {\n",
       "        vertical-align: top;\n",
       "    }\n",
       "\n",
       "    .dataframe thead th {\n",
       "        text-align: right;\n",
       "    }\n",
       "</style>\n",
       "<table border=\"1\" class=\"dataframe\">\n",
       "  <thead>\n",
       "    <tr style=\"text-align: right;\">\n",
       "      <th></th>\n",
       "      <th>RECORD_TIME</th>\n",
       "    </tr>\n",
       "  </thead>\n",
       "  <tbody>\n",
       "    <tr>\n",
       "      <th>0</th>\n",
       "      <td>2021-08-27 20:30</td>\n",
       "    </tr>\n",
       "    <tr>\n",
       "      <th>1</th>\n",
       "      <td>2021-08-27 20:00</td>\n",
       "    </tr>\n",
       "  </tbody>\n",
       "</table>\n",
       "</div>"
      ],
      "text/plain": [
       "        RECORD_TIME\n",
       "0  2021-08-27 20:30\n",
       "1  2021-08-27 20:00"
      ]
     },
     "execution_count": 3,
     "metadata": {},
     "output_type": "execute_result"
    }
   ],
   "source": [
    "timestamps"
   ]
  },
  {
   "cell_type": "code",
   "execution_count": 4,
   "id": "alternate-victory",
   "metadata": {
    "execution": {
     "iopub.execute_input": "2021-08-27T18:30:08.791759Z",
     "iopub.status.busy": "2021-08-27T18:30:08.789488Z",
     "iopub.status.idle": "2021-08-27T18:30:09.012775Z",
     "shell.execute_reply": "2021-08-27T18:30:09.014006Z"
    },
    "papermill": {
     "duration": 0.253558,
     "end_time": "2021-08-27T18:30:09.014396",
     "exception": false,
     "start_time": "2021-08-27T18:30:08.760838",
     "status": "completed"
    },
    "tags": []
   },
   "outputs": [],
   "source": [
    "df = pd.read_sql(\"select * from EBAY_TOP_BERLIN where record_time in (select distinct record_time from EBAY_TOP_BERLIN order by record_time desc limit 2)\", sqlite3.connect(\"UsedObjects.db\"))"
   ]
  },
  {
   "cell_type": "code",
   "execution_count": 5,
   "id": "popular-active",
   "metadata": {
    "execution": {
     "iopub.execute_input": "2021-08-27T18:30:09.089520Z",
     "iopub.status.busy": "2021-08-27T18:30:09.077302Z",
     "iopub.status.idle": "2021-08-27T18:30:09.105160Z",
     "shell.execute_reply": "2021-08-27T18:30:09.106387Z"
    },
    "papermill": {
     "duration": 0.068228,
     "end_time": "2021-08-27T18:30:09.106781",
     "exception": false,
     "start_time": "2021-08-27T18:30:09.038553",
     "status": "completed"
    },
    "tags": []
   },
   "outputs": [],
   "source": [
    "df_pivot = df.pivot_table(index=\"PRODUCT\", columns = \"RECORD_TIME\", values = \"LISTING_COUNT\")"
   ]
  },
  {
   "cell_type": "code",
   "execution_count": 6,
   "id": "union-huntington",
   "metadata": {
    "execution": {
     "iopub.execute_input": "2021-08-27T18:30:09.173617Z",
     "iopub.status.busy": "2021-08-27T18:30:09.171408Z",
     "iopub.status.idle": "2021-08-27T18:30:09.177155Z",
     "shell.execute_reply": "2021-08-27T18:30:09.178590Z"
    },
    "papermill": {
     "duration": 0.044025,
     "end_time": "2021-08-27T18:30:09.179027",
     "exception": false,
     "start_time": "2021-08-27T18:30:09.135002",
     "status": "completed"
    },
    "tags": []
   },
   "outputs": [],
   "source": [
    "df_pivot.columns = [\"stamp_1\", \"stamp_2\"]\n",
    "df_pivot_diff = df_pivot.diff(axis=1)"
   ]
  },
  {
   "cell_type": "code",
   "execution_count": 7,
   "id": "fifth-motion",
   "metadata": {
    "execution": {
     "iopub.execute_input": "2021-08-27T18:30:09.234315Z",
     "iopub.status.busy": "2021-08-27T18:30:09.231737Z",
     "iopub.status.idle": "2021-08-27T18:30:10.719282Z",
     "shell.execute_reply": "2021-08-27T18:30:10.720823Z"
    },
    "papermill": {
     "duration": 1.52101,
     "end_time": "2021-08-27T18:30:10.721331",
     "exception": false,
     "start_time": "2021-08-27T18:30:09.200321",
     "status": "completed"
    },
    "tags": []
   },
   "outputs": [
    {
     "data": {
      "text/plain": [
       "<AxesSubplot:ylabel='PRODUCT'>"
      ]
     },
     "execution_count": 7,
     "metadata": {},
     "output_type": "execute_result"
    },
    {
     "data": {
      "image/png": "[encoded data removed]",
      "text/plain": [
       "<Figure size 432x288 with 1 Axes>"
      ]
     },
     "metadata": {
      "needs_background": "light"
     },
     "output_type": "display_data"
    }
   ],
   "source": [
    "df_pivot_diff.sort_values(\"stamp_2\", ascending = False)[\"stamp_2\"].head(10).plot.barh()"
   ]
  },
  {
   "cell_type": "code",
   "execution_count": null,
   "id": "extra-executive",
   "metadata": {
    "papermill": {
     "duration": 0.022171,
     "end_time": "2021-08-27T18:30:10.770293",
     "exception": false,
     "start_time": "2021-08-27T18:30:10.748122",
     "status": "completed"
    },
    "tags": []
   },
   "outputs": [],
   "source": []
  }
 ],
 "metadata": {
  "kernelspec": {
   "display_name": "Python 3",
   "language": "python",
   "name": "python3"
  },
  "language_info": {
   "codemirror_mode": {
    "name": "ipython",
    "version": 3
   },
   "file_extension": ".py",
   "mimetype": "text/x-python",
   "name": "python",
   "nbconvert_exporter": "python",
   "pygments_lexer": "ipython3",
   "version": "3.9.5"
  },
  "papermill": {
   "default_parameters": {},
   "duration": 6.83144,
   "end_time": "2021-08-27T18:30:12.038307",
   "environment_variables": {},
   "exception": null,
   "input_path": "eBay_Overview.ipynb",
   "output_path": "eBay_Overview.ipynb",
   "parameters": {},
   "start_time": "2021-08-27T18:30:05.206867",
   "version": "2.3.3"
  }
 },
 "nbformat": 4,
 "nbformat_minor": 5
}