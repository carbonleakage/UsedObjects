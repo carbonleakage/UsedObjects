{
 "cells": [
  {
   "cell_type": "code",
   "execution_count": 1,
   "id": "reverse-picking",
   "metadata": {
    "execution": {
     "iopub.execute_input": "2021-09-11T23:00:07.260856Z",
     "iopub.status.busy": "2021-09-11T23:00:07.258800Z",
     "iopub.status.idle": "2021-09-11T23:00:08.069809Z",
     "shell.execute_reply": "2021-09-11T23:00:08.068255Z"
    },
    "papermill": {
     "duration": 0.862222,
     "end_time": "2021-09-11T23:00:08.070198",
     "exception": false,
     "start_time": "2021-09-11T23:00:07.207976",
     "status": "completed"
    },
    "tags": []
   },
   "outputs": [],
   "source": [
    "import pandas as pd\n",
    "import sqlite3"
   ]
  },
  {
   "cell_type": "code",
   "execution_count": 2,
   "id": "innovative-syndrome",
   "metadata": {
    "execution": {
     "iopub.execute_input": "2021-09-11T23:00:08.122956Z",
     "iopub.status.busy": "2021-09-11T23:00:08.120619Z",
     "iopub.status.idle": "2021-09-11T23:00:08.387900Z",
     "shell.execute_reply": "2021-09-11T23:00:08.389104Z"
    },
    "papermill": {
     "duration": 0.297222,
     "end_time": "2021-09-11T23:00:08.389502",
     "exception": false,
     "start_time": "2021-09-11T23:00:08.092280",
     "status": "completed"
    },
    "tags": []
   },
   "outputs": [],
   "source": [
    "timestamps = pd.read_sql(\"select distinct record_time from EBAY_TOP_BERLIN order by record_time desc limit 2\", sqlite3.connect(\"UsedObjects.db\"))"
   ]
  },
  {
   "cell_type": "code",
   "execution_count": 3,
   "id": "periodic-identification",
   "metadata": {
    "execution": {
     "iopub.execute_input": "2021-09-11T23:00:08.453991Z",
     "iopub.status.busy": "2021-09-11T23:00:08.451985Z",
     "iopub.status.idle": "2021-09-11T23:00:08.471925Z",
     "shell.execute_reply": "2021-09-11T23:00:08.473209Z"
    },
    "papermill": {
     "duration": 0.063281,
     "end_time": "2021-09-11T23:00:08.473619",
     "exception": false,
     "start_time": "2021-09-11T23:00:08.410338",
     "status": "completed"
    },
    "tags": []
   },
   "outputs": [
    {
     "data": {
      "text/html": [
       "<div>\n",
       "<style scoped>\n",
       "    .dataframe tbody tr th:only-of-type {\n",
       "        vertical-align: middle;\n",
       "    }\n",
       "\n",
       "    .dataframe tbody tr th {\n",
       "        vertical-align: top;\n",
       "    }\n",
       "\n",
       "    .dataframe thead th {\n",
       "        text-align: right;\n",
       "    }\n",
       "</style>\n",
       "<table border=\"1\" class=\"dataframe\">\n",
       "  <thead>\n",
       "    <tr style=\"text-align: right;\">\n",
       "      <th></th>\n",
       "      <th>RECORD_TIME</th>\n",
       "    </tr>\n",
       "  </thead>\n",
       "  <tbody>\n",
       "    <tr>\n",
       "      <th>0</th>\n",
       "      <td>2021-09-12 01:00</td>\n",
       "    </tr>\n",
       "    <tr>\n",
       "      <th>1</th>\n",
       "      <td>2021-09-12 00:30</td>\n",
       "    </tr>\n",
       "  </tbody>\n",
       "</table>\n",
       "</div>"
      ],
      "text/plain": [
       "        RECORD_TIME\n",
       "0  2021-09-12 01:00\n",
       "1  2021-09-12 00:30"
      ]
     },
     "execution_count": 3,
     "metadata": {},
     "output_type": "execute_result"
    }
   ],
   "source": [
    "timestamps"
   ]
  },
  {
   "cell_type": "code",
   "execution_count": 4,
   "id": "alternate-victory",
   "metadata": {
    "execution": {
     "iopub.execute_input": "2021-09-11T23:00:08.525383Z",
     "iopub.status.busy": "2021-09-11T23:00:08.523191Z",
     "iopub.status.idle": "2021-09-11T23:00:08.911470Z",
     "shell.execute_reply": "2021-09-11T23:00:08.912777Z"
    },
    "papermill": {
     "duration": 0.418473,
     "end_time": "2021-09-11T23:00:08.913172",
     "exception": false,
     "start_time": "2021-09-11T23:00:08.494699",
     "status": "completed"
    },
    "tags": []
   },
   "outputs": [],
   "source": [
    "df = pd.read_sql(\"select * from EBAY_TOP_BERLIN where record_time in (select distinct record_time from EBAY_TOP_BERLIN order by record_time desc limit 2)\", sqlite3.connect(\"UsedObjects.db\"))"
   ]
  },
  {
   "cell_type": "code",
   "execution_count": 5,
   "id": "popular-active",
   "metadata": {
    "execution": {
     "iopub.execute_input": "2021-09-11T23:00:08.996893Z",
     "iopub.status.busy": "2021-09-11T23:00:08.985117Z",
     "iopub.status.idle": "2021-09-11T23:00:09.012799Z",
     "shell.execute_reply": "2021-09-11T23:00:09.014063Z"
    },
    "papermill": {
     "duration": 0.072424,
     "end_time": "2021-09-11T23:00:09.014478",
     "exception": false,
     "start_time": "2021-09-11T23:00:08.942054",
     "status": "completed"
    },
    "tags": []
   },
   "outputs": [],
   "source": [
    "df_pivot = df.pivot_table(index=\"PRODUCT\", columns = \"RECORD_TIME\", values = \"LISTING_COUNT\")"
   ]
  },
  {
   "cell_type": "code",
   "execution_count": 6,
   "id": "union-huntington",
   "metadata": {
    "execution": {
     "iopub.execute_input": "2021-09-11T23:00:09.069292Z",
     "iopub.status.busy": "2021-09-11T23:00:09.067318Z",
     "iopub.status.idle": "2021-09-11T23:00:09.072304Z",
     "shell.execute_reply": "2021-09-11T23:00:09.073490Z"
    },
    "papermill": {
     "duration": 0.03947,
     "end_time": "2021-09-11T23:00:09.073883",
     "exception": false,
     "start_time": "2021-09-11T23:00:09.034413",
     "status": "completed"
    },
    "tags": []
   },
   "outputs": [],
   "source": [
    "df_pivot.columns = [\"stamp_1\", \"stamp_2\"]\n",
    "df_pivot_diff = df_pivot.diff(axis=1)"
   ]
  },
  {
   "cell_type": "code",
   "execution_count": 7,
   "id": "fifth-motion",
   "metadata": {
    "execution": {
     "iopub.execute_input": "2021-09-11T23:00:09.127813Z",
     "iopub.status.busy": "2021-09-11T23:00:09.125226Z",
     "iopub.status.idle": "2021-09-11T23:00:10.628897Z",
     "shell.execute_reply": "2021-09-11T23:00:10.630447Z"
    },
    "papermill": {
     "duration": 1.537112,
     "end_time": "2021-09-11T23:00:10.631142",
     "exception": false,
     "start_time": "2021-09-11T23:00:09.094030",
     "status": "completed"
    },
    "tags": []
   },
   "outputs": [
    {
     "data": {
      "text/plain": [
       "<AxesSubplot:ylabel='PRODUCT'>"
      ]
     },
     "execution_count": 7,
     "metadata": {},
     "output_type": "execute_result"
    },
    {
     "data": {
      "image/png": "[encoded data removed]",
      "text/plain": [
       "<Figure size 432x288 with 1 Axes>"
      ]
     },
     "metadata": {
      "needs_background": "light"
     },
     "output_type": "display_data"
    }
   ],
   "source": [
    "df_pivot_diff.sort_values(\"stamp_2\", ascending = False)[\"stamp_2\"].head(10).plot.barh()"
   ]
  },
  {
   "cell_type": "code",
   "execution_count": null,
   "id": "extra-executive",
   "metadata": {
    "papermill": {
     "duration": 0.02209,
     "end_time": "2021-09-11T23:00:10.677879",
     "exception": false,
     "start_time": "2021-09-11T23:00:10.655789",
     "status": "completed"
    },
    "tags": []
   },
   "outputs": [],
   "source": []
  }
 ],
 "metadata": {
  "kernelspec": {
   "display_name": "Python 3",
   "language": "python",
   "name": "python3"
  },
  "language_info": {
   "codemirror_mode": {
    "name": "ipython",
    "version": 3
   },
   "file_extension": ".py",
   "mimetype": "text/x-python",
   "name": "python",
   "nbconvert_exporter": "python",
   "pygments_lexer": "ipython3",
   "version": "3.9.5"
  },
  "papermill": {
   "default_parameters": {},
   "duration": 6.526645,
   "end_time": "2021-09-11T23:00:11.318188",
   "environment_variables": {},
   "exception": null,
   "input_path": "eBay_Overview.ipynb",
   "output_path": "eBay_Overview.ipynb",
   "parameters": {},
   "start_time": "2021-09-11T23:00:04.791543",
   "version": "2.3.3"
  }
 },
 "nbformat": 4,
 "nbformat_minor": 5
}