{
 "cells": [
  {
   "cell_type": "code",
   "execution_count": 1,
   "id": "reverse-picking",
   "metadata": {
    "execution": {
     "iopub.execute_input": "2021-12-09T13:30:07.206764Z",
     "iopub.status.busy": "2021-12-09T13:30:07.198384Z",
     "iopub.status.idle": "2021-12-09T13:30:08.182753Z",
     "shell.execute_reply": "2021-12-09T13:30:08.185182Z"
    },
    "papermill": {
     "duration": 1.028555,
     "end_time": "2021-12-09T13:30:08.185879",
     "exception": false,
     "start_time": "2021-12-09T13:30:07.157324",
     "status": "completed"
    },
    "tags": []
   },
   "outputs": [],
   "source": [
    "import pandas as pd\n",
    "import sqlite3"
   ]
  },
  {
   "cell_type": "code",
   "execution_count": 2,
   "id": "innovative-syndrome",
   "metadata": {
    "execution": {
     "iopub.execute_input": "2021-12-09T13:30:08.241318Z",
     "iopub.status.busy": "2021-12-09T13:30:08.239194Z",
     "iopub.status.idle": "2021-12-09T13:30:09.285169Z",
     "shell.execute_reply": "2021-12-09T13:30:09.286633Z"
    },
    "papermill": {
     "duration": 1.081083,
     "end_time": "2021-12-09T13:30:09.287108",
     "exception": false,
     "start_time": "2021-12-09T13:30:08.206025",
     "status": "completed"
    },
    "tags": []
   },
   "outputs": [],
   "source": [
    "timestamps = pd.read_sql(\"select distinct record_time from EBAY_TOP_BERLIN order by record_time desc limit 2\", sqlite3.connect(\"UsedObjects.db\"))"
   ]
  },
  {
   "cell_type": "code",
   "execution_count": 3,
   "id": "periodic-identification",
   "metadata": {
    "execution": {
     "iopub.execute_input": "2021-12-09T13:30:09.375675Z",
     "iopub.status.busy": "2021-12-09T13:30:09.371663Z",
     "iopub.status.idle": "2021-12-09T13:30:09.412774Z",
     "shell.execute_reply": "2021-12-09T13:30:09.414911Z"
    },
    "papermill": {
     "duration": 0.107696,
     "end_time": "2021-12-09T13:30:09.415552",
     "exception": false,
     "start_time": "2021-12-09T13:30:09.307856",
     "status": "completed"
    },
    "tags": []
   },
   "outputs": [
    {
     "data": {
      "text/html": [
       "<div>\n",
       "<style scoped>\n",
       "    .dataframe tbody tr th:only-of-type {\n",
       "        vertical-align: middle;\n",
       "    }\n",
       "\n",
       "    .dataframe tbody tr th {\n",
       "        vertical-align: top;\n",
       "    }\n",
       "\n",
       "    .dataframe thead th {\n",
       "        text-align: right;\n",
       "    }\n",
       "</style>\n",
       "<table border=\"1\" class=\"dataframe\">\n",
       "  <thead>\n",
       "    <tr style=\"text-align: right;\">\n",
       "      <th></th>\n",
       "      <th>RECORD_TIME</th>\n",
       "    </tr>\n",
       "  </thead>\n",
       "  <tbody>\n",
       "    <tr>\n",
       "      <th>0</th>\n",
       "      <td>2021-12-09 14:30</td>\n",
       "    </tr>\n",
       "    <tr>\n",
       "      <th>1</th>\n",
       "      <td>2021-12-09 14:00</td>\n",
       "    </tr>\n",
       "  </tbody>\n",
       "</table>\n",
       "</div>"
      ],
      "text/plain": [
       "        RECORD_TIME\n",
       "0  2021-12-09 14:30\n",
       "1  2021-12-09 14:00"
      ]
     },
     "execution_count": 3,
     "metadata": {},
     "output_type": "execute_result"
    }
   ],
   "source": [
    "timestamps"
   ]
  },
  {
   "cell_type": "code",
   "execution_count": 4,
   "id": "alternate-victory",
   "metadata": {
    "execution": {
     "iopub.execute_input": "2021-12-09T13:30:09.472606Z",
     "iopub.status.busy": "2021-12-09T13:30:09.470295Z",
     "iopub.status.idle": "2021-12-09T13:30:10.999509Z",
     "shell.execute_reply": "2021-12-09T13:30:11.002409Z"
    },
    "papermill": {
     "duration": 1.565091,
     "end_time": "2021-12-09T13:30:11.003241",
     "exception": false,
     "start_time": "2021-12-09T13:30:09.438150",
     "status": "completed"
    },
    "tags": []
   },
   "outputs": [],
   "source": [
    "df = pd.read_sql(\"select * from EBAY_TOP_BERLIN where record_time in (select distinct record_time from EBAY_TOP_BERLIN order by record_time desc limit 2)\", sqlite3.connect(\"UsedObjects.db\"))"
   ]
  },
  {
   "cell_type": "code",
   "execution_count": 5,
   "id": "popular-active",
   "metadata": {
    "execution": {
     "iopub.execute_input": "2021-12-09T13:30:11.118266Z",
     "iopub.status.busy": "2021-12-09T13:30:11.102792Z",
     "iopub.status.idle": "2021-12-09T13:30:11.163676Z",
     "shell.execute_reply": "2021-12-09T13:30:11.166389Z"
    },
    "papermill": {
     "duration": 0.131975,
     "end_time": "2021-12-09T13:30:11.167200",
     "exception": false,
     "start_time": "2021-12-09T13:30:11.035225",
     "status": "completed"
    },
    "tags": []
   },
   "outputs": [],
   "source": [
    "df_pivot = df.pivot_table(index=\"PRODUCT\", columns = \"RECORD_TIME\", values = \"LISTING_COUNT\")"
   ]
  },
  {
   "cell_type": "code",
   "execution_count": 6,
   "id": "union-huntington",
   "metadata": {
    "execution": {
     "iopub.execute_input": "2021-12-09T13:30:11.251893Z",
     "iopub.status.busy": "2021-12-09T13:30:11.247728Z",
     "iopub.status.idle": "2021-12-09T13:30:11.259992Z",
     "shell.execute_reply": "2021-12-09T13:30:11.262844Z"
    },
    "papermill": {
     "duration": 0.069393,
     "end_time": "2021-12-09T13:30:11.263787",
     "exception": false,
     "start_time": "2021-12-09T13:30:11.194394",
     "status": "completed"
    },
    "tags": []
   },
   "outputs": [],
   "source": [
    "df_pivot.columns = [\"stamp_1\", \"stamp_2\"]\n",
    "df_pivot_diff = df_pivot.diff(axis=1)"
   ]
  },
  {
   "cell_type": "code",
   "execution_count": 7,
   "id": "fifth-motion",
   "metadata": {
    "execution": {
     "iopub.execute_input": "2021-12-09T13:30:11.350589Z",
     "iopub.status.busy": "2021-12-09T13:30:11.346572Z",
     "iopub.status.idle": "2021-12-09T13:30:13.067614Z",
     "shell.execute_reply": "2021-12-09T13:30:13.069184Z"
    },
    "papermill": {
     "duration": 1.775011,
     "end_time": "2021-12-09T13:30:13.069659",
     "exception": false,
     "start_time": "2021-12-09T13:30:11.294648",
     "status": "completed"
    },
    "tags": []
   },
   "outputs": [
    {
     "data": {
      "text/plain": [
       "<AxesSubplot:ylabel='PRODUCT'>"
      ]
     },
     "execution_count": 7,
     "metadata": {},
     "output_type": "execute_result"
    },
    {
     "data": {
      "image/png": "[encoded data removed]",
      "text/plain": [
       "<Figure size 432x288 with 1 Axes>"
      ]
     },
     "metadata": {
      "needs_background": "light"
     },
     "output_type": "display_data"
    }
   ],
   "source": [
    "df_pivot_diff.sort_values(\"stamp_2\", ascending = False)[\"stamp_2\"].head(10).plot.barh()"
   ]
  },
  {
   "cell_type": "code",
   "execution_count": null,
   "id": "extra-executive",
   "metadata": {
    "papermill": {
     "duration": 0.021744,
     "end_time": "2021-12-09T13:30:13.117131",
     "exception": false,
     "start_time": "2021-12-09T13:30:13.095387",
     "status": "completed"
    },
    "tags": []
   },
   "outputs": [],
   "source": []
  }
 ],
 "metadata": {
  "kernelspec": {
   "display_name": "Python 3",
   "language": "python",
   "name": "python3"
  },
  "language_info": {
   "codemirror_mode": {
    "name": "ipython",
    "version": 3
   },
   "file_extension": ".py",
   "mimetype": "text/x-python",
   "name": "python",
   "nbconvert_exporter": "python",
   "pygments_lexer": "ipython3",
   "version": "3.9.5"
  },
  "papermill": {
   "default_parameters": {},
   "duration": 9.948261,
   "end_time": "2021-12-09T13:30:14.356382",
   "environment_variables": {},
   "exception": null,
   "input_path": "eBay_Overview.ipynb",
   "output_path": "eBay_Overview.ipynb",
   "parameters": {},
   "start_time": "2021-12-09T13:30:04.408121",
   "version": "2.3.3"
  }
 },
 "nbformat": 4,
 "nbformat_minor": 5
}