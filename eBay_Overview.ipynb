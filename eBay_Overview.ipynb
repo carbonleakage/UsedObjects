{
 "cells": [
  {
   "cell_type": "code",
   "execution_count": 1,
   "id": "reverse-picking",
   "metadata": {
    "execution": {
     "iopub.execute_input": "2021-08-21T06:30:07.435953Z",
     "iopub.status.busy": "2021-08-21T06:30:07.433839Z",
     "iopub.status.idle": "2021-08-21T06:30:08.239054Z",
     "shell.execute_reply": "2021-08-21T06:30:08.240375Z"
    },
    "papermill": {
     "duration": 0.855839,
     "end_time": "2021-08-21T06:30:08.240995",
     "exception": false,
     "start_time": "2021-08-21T06:30:07.385156",
     "status": "completed"
    },
    "tags": []
   },
   "outputs": [],
   "source": [
    "import pandas as pd\n",
    "import sqlite3"
   ]
  },
  {
   "cell_type": "code",
   "execution_count": 2,
   "id": "innovative-syndrome",
   "metadata": {
    "execution": {
     "iopub.execute_input": "2021-08-21T06:30:08.291063Z",
     "iopub.status.busy": "2021-08-21T06:30:08.288960Z",
     "iopub.status.idle": "2021-08-21T06:30:08.387113Z",
     "shell.execute_reply": "2021-08-21T06:30:08.388483Z"
    },
    "papermill": {
     "duration": 0.127412,
     "end_time": "2021-08-21T06:30:08.388922",
     "exception": false,
     "start_time": "2021-08-21T06:30:08.261510",
     "status": "completed"
    },
    "tags": []
   },
   "outputs": [],
   "source": [
    "timestamps = pd.read_sql(\"select distinct record_time from EBAY_TOP_BERLIN order by record_time desc limit 2\", sqlite3.connect(\"UsedObjects.db\"))"
   ]
  },
  {
   "cell_type": "code",
   "execution_count": 3,
   "id": "periodic-identification",
   "metadata": {
    "execution": {
     "iopub.execute_input": "2021-08-21T06:30:08.455093Z",
     "iopub.status.busy": "2021-08-21T06:30:08.452932Z",
     "iopub.status.idle": "2021-08-21T06:30:08.472742Z",
     "shell.execute_reply": "2021-08-21T06:30:08.474116Z"
    },
    "papermill": {
     "duration": 0.066222,
     "end_time": "2021-08-21T06:30:08.474547",
     "exception": false,
     "start_time": "2021-08-21T06:30:08.408325",
     "status": "completed"
    },
    "tags": []
   },
   "outputs": [
    {
     "data": {
      "text/html": [
       "<div>\n",
       "<style scoped>\n",
       "    .dataframe tbody tr th:only-of-type {\n",
       "        vertical-align: middle;\n",
       "    }\n",
       "\n",
       "    .dataframe tbody tr th {\n",
       "        vertical-align: top;\n",
       "    }\n",
       "\n",
       "    .dataframe thead th {\n",
       "        text-align: right;\n",
       "    }\n",
       "</style>\n",
       "<table border=\"1\" class=\"dataframe\">\n",
       "  <thead>\n",
       "    <tr style=\"text-align: right;\">\n",
       "      <th></th>\n",
       "      <th>RECORD_TIME</th>\n",
       "    </tr>\n",
       "  </thead>\n",
       "  <tbody>\n",
       "    <tr>\n",
       "      <th>0</th>\n",
       "      <td>2021-08-21 08:30</td>\n",
       "    </tr>\n",
       "    <tr>\n",
       "      <th>1</th>\n",
       "      <td>2021-08-21 08:00</td>\n",
       "    </tr>\n",
       "  </tbody>\n",
       "</table>\n",
       "</div>"
      ],
      "text/plain": [
       "        RECORD_TIME\n",
       "0  2021-08-21 08:30\n",
       "1  2021-08-21 08:00"
      ]
     },
     "execution_count": 3,
     "metadata": {},
     "output_type": "execute_result"
    }
   ],
   "source": [
    "timestamps"
   ]
  },
  {
   "cell_type": "code",
   "execution_count": 4,
   "id": "alternate-victory",
   "metadata": {
    "execution": {
     "iopub.execute_input": "2021-08-21T06:30:08.525294Z",
     "iopub.status.busy": "2021-08-21T06:30:08.523487Z",
     "iopub.status.idle": "2021-08-21T06:30:08.666484Z",
     "shell.execute_reply": "2021-08-21T06:30:08.667825Z"
    },
    "papermill": {
     "duration": 0.172741,
     "end_time": "2021-08-21T06:30:08.668227",
     "exception": false,
     "start_time": "2021-08-21T06:30:08.495486",
     "status": "completed"
    },
    "tags": []
   },
   "outputs": [],
   "source": [
    "df = pd.read_sql(\"select * from EBAY_TOP_BERLIN where record_time in (select distinct record_time from EBAY_TOP_BERLIN order by record_time desc limit 2)\", sqlite3.connect(\"UsedObjects.db\"))"
   ]
  },
  {
   "cell_type": "code",
   "execution_count": 5,
   "id": "popular-active",
   "metadata": {
    "execution": {
     "iopub.execute_input": "2021-08-21T06:30:08.738312Z",
     "iopub.status.busy": "2021-08-21T06:30:08.731320Z",
     "iopub.status.idle": "2021-08-21T06:30:08.755370Z",
     "shell.execute_reply": "2021-08-21T06:30:08.753903Z"
    },
    "papermill": {
     "duration": 0.067508,
     "end_time": "2021-08-21T06:30:08.755723",
     "exception": false,
     "start_time": "2021-08-21T06:30:08.688215",
     "status": "completed"
    },
    "tags": []
   },
   "outputs": [],
   "source": [
    "df_pivot = df.pivot_table(index=\"PRODUCT\", columns = \"RECORD_TIME\", values = \"LISTING_COUNT\")"
   ]
  },
  {
   "cell_type": "code",
   "execution_count": 6,
   "id": "union-huntington",
   "metadata": {
    "execution": {
     "iopub.execute_input": "2021-08-21T06:30:08.811179Z",
     "iopub.status.busy": "2021-08-21T06:30:08.809084Z",
     "iopub.status.idle": "2021-08-21T06:30:08.814552Z",
     "shell.execute_reply": "2021-08-21T06:30:08.815755Z"
    },
    "papermill": {
     "duration": 0.040682,
     "end_time": "2021-08-21T06:30:08.816182",
     "exception": false,
     "start_time": "2021-08-21T06:30:08.775500",
     "status": "completed"
    },
    "tags": []
   },
   "outputs": [],
   "source": [
    "df_pivot.columns = [\"stamp_1\", \"stamp_2\"]\n",
    "df_pivot_diff = df_pivot.diff(axis=1)"
   ]
  },
  {
   "cell_type": "code",
   "execution_count": 7,
   "id": "fifth-motion",
   "metadata": {
    "execution": {
     "iopub.execute_input": "2021-08-21T06:30:08.872945Z",
     "iopub.status.busy": "2021-08-21T06:30:08.870344Z",
     "iopub.status.idle": "2021-08-21T06:30:10.386278Z",
     "shell.execute_reply": "2021-08-21T06:30:10.387744Z"
    },
    "papermill": {
     "duration": 1.549373,
     "end_time": "2021-08-21T06:30:10.388213",
     "exception": false,
     "start_time": "2021-08-21T06:30:08.838840",
     "status": "completed"
    },
    "tags": []
   },
   "outputs": [
    {
     "data": {
      "text/plain": [
       "<AxesSubplot:ylabel='PRODUCT'>"
      ]
     },
     "execution_count": 7,
     "metadata": {},
     "output_type": "execute_result"
    },
    {
     "data": {
      "image/png": "[encoded data removed]",
      "text/plain": [
       "<Figure size 432x288 with 1 Axes>"
      ]
     },
     "metadata": {
      "needs_background": "light"
     },
     "output_type": "display_data"
    }
   ],
   "source": [
    "df_pivot_diff.sort_values(\"stamp_2\", ascending = False)[\"stamp_2\"].head(10).plot.barh()"
   ]
  },
  {
   "cell_type": "code",
   "execution_count": null,
   "id": "extra-executive",
   "metadata": {
    "papermill": {
     "duration": 0.022071,
     "end_time": "2021-08-21T06:30:10.434211",
     "exception": false,
     "start_time": "2021-08-21T06:30:10.412140",
     "status": "completed"
    },
    "tags": []
   },
   "outputs": [],
   "source": []
  }
 ],
 "metadata": {
  "kernelspec": {
   "display_name": "Python 3",
   "language": "python",
   "name": "python3"
  },
  "language_info": {
   "codemirror_mode": {
    "name": "ipython",
    "version": 3
   },
   "file_extension": ".py",
   "mimetype": "text/x-python",
   "name": "python",
   "nbconvert_exporter": "python",
   "pygments_lexer": "ipython3",
   "version": "3.9.5"
  },
  "papermill": {
   "default_parameters": {},
   "duration": 6.819556,
   "end_time": "2021-08-21T06:30:11.800887",
   "environment_variables": {},
   "exception": null,
   "input_path": "eBay_Overview.ipynb",
   "output_path": "eBay_Overview.ipynb",
   "parameters": {},
   "start_time": "2021-08-21T06:30:04.981331",
   "version": "2.3.3"
  }
 },
 "nbformat": 4,
 "nbformat_minor": 5
}