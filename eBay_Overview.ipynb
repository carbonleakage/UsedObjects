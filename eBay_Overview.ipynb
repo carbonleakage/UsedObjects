{
 "cells": [
  {
   "cell_type": "code",
   "execution_count": 1,
   "id": "reverse-picking",
   "metadata": {
    "execution": {
     "iopub.execute_input": "2021-11-08T09:00:07.879484Z",
     "iopub.status.busy": "2021-11-08T09:00:07.871115Z",
     "iopub.status.idle": "2021-11-08T09:00:08.817596Z",
     "shell.execute_reply": "2021-11-08T09:00:08.819625Z"
    },
    "papermill": {
     "duration": 0.996141,
     "end_time": "2021-11-08T09:00:08.820470",
     "exception": false,
     "start_time": "2021-11-08T09:00:07.824329",
     "status": "completed"
    },
    "tags": []
   },
   "outputs": [],
   "source": [
    "import pandas as pd\n",
    "import sqlite3"
   ]
  },
  {
   "cell_type": "code",
   "execution_count": 2,
   "id": "innovative-syndrome",
   "metadata": {
    "execution": {
     "iopub.execute_input": "2021-11-08T09:00:08.880187Z",
     "iopub.status.busy": "2021-11-08T09:00:08.877683Z",
     "iopub.status.idle": "2021-11-08T09:00:09.630461Z",
     "shell.execute_reply": "2021-11-08T09:00:09.631985Z"
    },
    "papermill": {
     "duration": 0.788177,
     "end_time": "2021-11-08T09:00:09.632474",
     "exception": false,
     "start_time": "2021-11-08T09:00:08.844297",
     "status": "completed"
    },
    "tags": []
   },
   "outputs": [],
   "source": [
    "timestamps = pd.read_sql(\"select distinct record_time from EBAY_TOP_BERLIN order by record_time desc limit 2\", sqlite3.connect(\"UsedObjects.db\"))"
   ]
  },
  {
   "cell_type": "code",
   "execution_count": 3,
   "id": "periodic-identification",
   "metadata": {
    "execution": {
     "iopub.execute_input": "2021-11-08T09:00:09.710328Z",
     "iopub.status.busy": "2021-11-08T09:00:09.702065Z",
     "iopub.status.idle": "2021-11-08T09:00:09.728033Z",
     "shell.execute_reply": "2021-11-08T09:00:09.729762Z"
    },
    "papermill": {
     "duration": 0.077344,
     "end_time": "2021-11-08T09:00:09.730250",
     "exception": false,
     "start_time": "2021-11-08T09:00:09.652906",
     "status": "completed"
    },
    "tags": []
   },
   "outputs": [
    {
     "data": {
      "text/html": [
       "<div>\n",
       "<style scoped>\n",
       "    .dataframe tbody tr th:only-of-type {\n",
       "        vertical-align: middle;\n",
       "    }\n",
       "\n",
       "    .dataframe tbody tr th {\n",
       "        vertical-align: top;\n",
       "    }\n",
       "\n",
       "    .dataframe thead th {\n",
       "        text-align: right;\n",
       "    }\n",
       "</style>\n",
       "<table border=\"1\" class=\"dataframe\">\n",
       "  <thead>\n",
       "    <tr style=\"text-align: right;\">\n",
       "      <th></th>\n",
       "      <th>RECORD_TIME</th>\n",
       "    </tr>\n",
       "  </thead>\n",
       "  <tbody>\n",
       "    <tr>\n",
       "      <th>0</th>\n",
       "      <td>2021-11-08 10:00</td>\n",
       "    </tr>\n",
       "    <tr>\n",
       "      <th>1</th>\n",
       "      <td>2021-11-08 09:30</td>\n",
       "    </tr>\n",
       "  </tbody>\n",
       "</table>\n",
       "</div>"
      ],
      "text/plain": [
       "        RECORD_TIME\n",
       "0  2021-11-08 10:00\n",
       "1  2021-11-08 09:30"
      ]
     },
     "execution_count": 3,
     "metadata": {},
     "output_type": "execute_result"
    }
   ],
   "source": [
    "timestamps"
   ]
  },
  {
   "cell_type": "code",
   "execution_count": 4,
   "id": "alternate-victory",
   "metadata": {
    "execution": {
     "iopub.execute_input": "2021-11-08T09:00:09.786890Z",
     "iopub.status.busy": "2021-11-08T09:00:09.784596Z",
     "iopub.status.idle": "2021-11-08T09:00:10.884223Z",
     "shell.execute_reply": "2021-11-08T09:00:10.885826Z"
    },
    "papermill": {
     "duration": 1.134243,
     "end_time": "2021-11-08T09:00:10.886272",
     "exception": false,
     "start_time": "2021-11-08T09:00:09.752029",
     "status": "completed"
    },
    "tags": []
   },
   "outputs": [],
   "source": [
    "df = pd.read_sql(\"select * from EBAY_TOP_BERLIN where record_time in (select distinct record_time from EBAY_TOP_BERLIN order by record_time desc limit 2)\", sqlite3.connect(\"UsedObjects.db\"))"
   ]
  },
  {
   "cell_type": "code",
   "execution_count": 5,
   "id": "popular-active",
   "metadata": {
    "execution": {
     "iopub.execute_input": "2021-11-08T09:00:10.958790Z",
     "iopub.status.busy": "2021-11-08T09:00:10.947849Z",
     "iopub.status.idle": "2021-11-08T09:00:10.976018Z",
     "shell.execute_reply": "2021-11-08T09:00:10.977873Z"
    },
    "papermill": {
     "duration": 0.071199,
     "end_time": "2021-11-08T09:00:10.978376",
     "exception": false,
     "start_time": "2021-11-08T09:00:10.907177",
     "status": "completed"
    },
    "tags": []
   },
   "outputs": [],
   "source": [
    "df_pivot = df.pivot_table(index=\"PRODUCT\", columns = \"RECORD_TIME\", values = \"LISTING_COUNT\")"
   ]
  },
  {
   "cell_type": "code",
   "execution_count": 6,
   "id": "union-huntington",
   "metadata": {
    "execution": {
     "iopub.execute_input": "2021-11-08T09:00:11.037600Z",
     "iopub.status.busy": "2021-11-08T09:00:11.034888Z",
     "iopub.status.idle": "2021-11-08T09:00:11.041383Z",
     "shell.execute_reply": "2021-11-08T09:00:11.043259Z"
    },
    "papermill": {
     "duration": 0.04444,
     "end_time": "2021-11-08T09:00:11.043873",
     "exception": false,
     "start_time": "2021-11-08T09:00:10.999433",
     "status": "completed"
    },
    "tags": []
   },
   "outputs": [],
   "source": [
    "df_pivot.columns = [\"stamp_1\", \"stamp_2\"]\n",
    "df_pivot_diff = df_pivot.diff(axis=1)"
   ]
  },
  {
   "cell_type": "code",
   "execution_count": 7,
   "id": "fifth-motion",
   "metadata": {
    "execution": {
     "iopub.execute_input": "2021-11-08T09:00:11.103669Z",
     "iopub.status.busy": "2021-11-08T09:00:11.101185Z",
     "iopub.status.idle": "2021-11-08T09:00:12.879795Z",
     "shell.execute_reply": "2021-11-08T09:00:12.881252Z"
    },
    "papermill": {
     "duration": 1.815329,
     "end_time": "2021-11-08T09:00:12.881734",
     "exception": false,
     "start_time": "2021-11-08T09:00:11.066405",
     "status": "completed"
    },
    "tags": []
   },
   "outputs": [
    {
     "data": {
      "text/plain": [
       "<AxesSubplot:ylabel='PRODUCT'>"
      ]
     },
     "execution_count": 7,
     "metadata": {},
     "output_type": "execute_result"
    },
    {
     "data": {
      "image/png": "[encoded data removed]",
      "text/plain": [
       "<Figure size 432x288 with 1 Axes>"
      ]
     },
     "metadata": {
      "needs_background": "light"
     },
     "output_type": "display_data"
    }
   ],
   "source": [
    "df_pivot_diff.sort_values(\"stamp_2\", ascending = False)[\"stamp_2\"].head(10).plot.barh()"
   ]
  },
  {
   "cell_type": "code",
   "execution_count": null,
   "id": "extra-executive",
   "metadata": {
    "papermill": {
     "duration": 0.025727,
     "end_time": "2021-11-08T09:00:12.934038",
     "exception": false,
     "start_time": "2021-11-08T09:00:12.908311",
     "status": "completed"
    },
    "tags": []
   },
   "outputs": [],
   "source": []
  }
 ],
 "metadata": {
  "kernelspec": {
   "display_name": "Python 3",
   "language": "python",
   "name": "python3"
  },
  "language_info": {
   "codemirror_mode": {
    "name": "ipython",
    "version": 3
   },
   "file_extension": ".py",
   "mimetype": "text/x-python",
   "name": "python",
   "nbconvert_exporter": "python",
   "pygments_lexer": "ipython3",
   "version": "3.9.5"
  },
  "papermill": {
   "default_parameters": {},
   "duration": 8.638522,
   "end_time": "2021-11-08T09:00:13.678381",
   "environment_variables": {},
   "exception": null,
   "input_path": "eBay_Overview.ipynb",
   "output_path": "eBay_Overview.ipynb",
   "parameters": {},
   "start_time": "2021-11-08T09:00:05.039859",
   "version": "2.3.3"
  }
 },
 "nbformat": 4,
 "nbformat_minor": 5
}