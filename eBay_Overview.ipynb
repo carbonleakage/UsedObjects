{
 "cells": [
  {
   "cell_type": "code",
   "execution_count": 1,
   "id": "reverse-picking",
   "metadata": {
    "execution": {
     "iopub.execute_input": "2021-12-22T00:00:07.761518Z",
     "iopub.status.busy": "2021-12-22T00:00:07.744185Z",
     "iopub.status.idle": "2021-12-22T00:00:08.716656Z",
     "shell.execute_reply": "2021-12-22T00:00:08.718277Z"
    },
    "papermill": {
     "duration": 1.006432,
     "end_time": "2021-12-22T00:00:08.719043",
     "exception": false,
     "start_time": "2021-12-22T00:00:07.712611",
     "status": "completed"
    },
    "tags": []
   },
   "outputs": [],
   "source": [
    "import pandas as pd\n",
    "import sqlite3"
   ]
  },
  {
   "cell_type": "code",
   "execution_count": 2,
   "id": "innovative-syndrome",
   "metadata": {
    "execution": {
     "iopub.execute_input": "2021-12-22T00:00:08.786991Z",
     "iopub.status.busy": "2021-12-22T00:00:08.784641Z",
     "iopub.status.idle": "2021-12-22T00:00:09.958846Z",
     "shell.execute_reply": "2021-12-22T00:00:09.960387Z"
    },
    "papermill": {
     "duration": 1.208605,
     "end_time": "2021-12-22T00:00:09.960961",
     "exception": false,
     "start_time": "2021-12-22T00:00:08.752356",
     "status": "completed"
    },
    "tags": []
   },
   "outputs": [],
   "source": [
    "timestamps = pd.read_sql(\"select distinct record_time from EBAY_TOP_BERLIN order by record_time desc limit 2\", sqlite3.connect(\"UsedObjects.db\"))"
   ]
  },
  {
   "cell_type": "code",
   "execution_count": 3,
   "id": "periodic-identification",
   "metadata": {
    "execution": {
     "iopub.execute_input": "2021-12-22T00:00:10.030964Z",
     "iopub.status.busy": "2021-12-22T00:00:10.028647Z",
     "iopub.status.idle": "2021-12-22T00:00:10.052896Z",
     "shell.execute_reply": "2021-12-22T00:00:10.054375Z"
    },
    "papermill": {
     "duration": 0.073098,
     "end_time": "2021-12-22T00:00:10.054859",
     "exception": false,
     "start_time": "2021-12-22T00:00:09.981761",
     "status": "completed"
    },
    "tags": []
   },
   "outputs": [
    {
     "data": {
      "text/html": [
       "<div>\n",
       "<style scoped>\n",
       "    .dataframe tbody tr th:only-of-type {\n",
       "        vertical-align: middle;\n",
       "    }\n",
       "\n",
       "    .dataframe tbody tr th {\n",
       "        vertical-align: top;\n",
       "    }\n",
       "\n",
       "    .dataframe thead th {\n",
       "        text-align: right;\n",
       "    }\n",
       "</style>\n",
       "<table border=\"1\" class=\"dataframe\">\n",
       "  <thead>\n",
       "    <tr style=\"text-align: right;\">\n",
       "      <th></th>\n",
       "      <th>RECORD_TIME</th>\n",
       "    </tr>\n",
       "  </thead>\n",
       "  <tbody>\n",
       "    <tr>\n",
       "      <th>0</th>\n",
       "      <td>2021-12-22 01:00</td>\n",
       "    </tr>\n",
       "    <tr>\n",
       "      <th>1</th>\n",
       "      <td>2021-12-22 00:30</td>\n",
       "    </tr>\n",
       "  </tbody>\n",
       "</table>\n",
       "</div>"
      ],
      "text/plain": [
       "        RECORD_TIME\n",
       "0  2021-12-22 01:00\n",
       "1  2021-12-22 00:30"
      ]
     },
     "execution_count": 3,
     "metadata": {},
     "output_type": "execute_result"
    }
   ],
   "source": [
    "timestamps"
   ]
  },
  {
   "cell_type": "code",
   "execution_count": 4,
   "id": "alternate-victory",
   "metadata": {
    "execution": {
     "iopub.execute_input": "2021-12-22T00:00:10.112769Z",
     "iopub.status.busy": "2021-12-22T00:00:10.110790Z",
     "iopub.status.idle": "2021-12-22T00:00:11.800889Z",
     "shell.execute_reply": "2021-12-22T00:00:11.802266Z"
    },
    "papermill": {
     "duration": 1.726644,
     "end_time": "2021-12-22T00:00:11.802746",
     "exception": false,
     "start_time": "2021-12-22T00:00:10.076102",
     "status": "completed"
    },
    "tags": []
   },
   "outputs": [],
   "source": [
    "df = pd.read_sql(\"select * from EBAY_TOP_BERLIN where record_time in (select distinct record_time from EBAY_TOP_BERLIN order by record_time desc limit 2)\", sqlite3.connect(\"UsedObjects.db\"))"
   ]
  },
  {
   "cell_type": "code",
   "execution_count": 5,
   "id": "popular-active",
   "metadata": {
    "execution": {
     "iopub.execute_input": "2021-12-22T00:00:11.877760Z",
     "iopub.status.busy": "2021-12-22T00:00:11.870999Z",
     "iopub.status.idle": "2021-12-22T00:00:11.899398Z",
     "shell.execute_reply": "2021-12-22T00:00:11.901062Z"
    },
    "papermill": {
     "duration": 0.078444,
     "end_time": "2021-12-22T00:00:11.901544",
     "exception": false,
     "start_time": "2021-12-22T00:00:11.823100",
     "status": "completed"
    },
    "tags": []
   },
   "outputs": [],
   "source": [
    "df_pivot = df.pivot_table(index=\"PRODUCT\", columns = \"RECORD_TIME\", values = \"LISTING_COUNT\")"
   ]
  },
  {
   "cell_type": "code",
   "execution_count": 6,
   "id": "union-huntington",
   "metadata": {
    "execution": {
     "iopub.execute_input": "2021-12-22T00:00:11.962924Z",
     "iopub.status.busy": "2021-12-22T00:00:11.960620Z",
     "iopub.status.idle": "2021-12-22T00:00:11.967880Z",
     "shell.execute_reply": "2021-12-22T00:00:11.966431Z"
    },
    "papermill": {
     "duration": 0.043328,
     "end_time": "2021-12-22T00:00:11.968289",
     "exception": false,
     "start_time": "2021-12-22T00:00:11.924961",
     "status": "completed"
    },
    "tags": []
   },
   "outputs": [],
   "source": [
    "df_pivot.columns = [\"stamp_1\", \"stamp_2\"]\n",
    "df_pivot_diff = df_pivot.diff(axis=1)"
   ]
  },
  {
   "cell_type": "code",
   "execution_count": 7,
   "id": "fifth-motion",
   "metadata": {
    "execution": {
     "iopub.execute_input": "2021-12-22T00:00:12.024735Z",
     "iopub.status.busy": "2021-12-22T00:00:12.021838Z",
     "iopub.status.idle": "2021-12-22T00:00:14.028967Z",
     "shell.execute_reply": "2021-12-22T00:00:14.030270Z"
    },
    "papermill": {
     "duration": 2.042315,
     "end_time": "2021-12-22T00:00:14.030684",
     "exception": false,
     "start_time": "2021-12-22T00:00:11.988369",
     "status": "completed"
    },
    "tags": []
   },
   "outputs": [
    {
     "data": {
      "text/plain": [
       "<AxesSubplot:ylabel='PRODUCT'>"
      ]
     },
     "execution_count": 7,
     "metadata": {},
     "output_type": "execute_result"
    },
    {
     "data": {
      "image/png": "[encoded data removed]",
      "text/plain": [
       "<Figure size 432x288 with 1 Axes>"
      ]
     },
     "metadata": {
      "needs_background": "light"
     },
     "output_type": "display_data"
    }
   ],
   "source": [
    "df_pivot_diff.sort_values(\"stamp_2\", ascending = False)[\"stamp_2\"].head(10).plot.barh()"
   ]
  },
  {
   "cell_type": "code",
   "execution_count": null,
   "id": "extra-executive",
   "metadata": {
    "papermill": {
     "duration": 0.02215,
     "end_time": "2021-12-22T00:00:14.077012",
     "exception": false,
     "start_time": "2021-12-22T00:00:14.054862",
     "status": "completed"
    },
    "tags": []
   },
   "outputs": [],
   "source": []
  }
 ],
 "metadata": {
  "kernelspec": {
   "display_name": "Python 3",
   "language": "python",
   "name": "python3"
  },
  "language_info": {
   "codemirror_mode": {
    "name": "ipython",
    "version": 3
   },
   "file_extension": ".py",
   "mimetype": "text/x-python",
   "name": "python",
   "nbconvert_exporter": "python",
   "pygments_lexer": "ipython3",
   "version": "3.9.5"
  },
  "papermill": {
   "default_parameters": {},
   "duration": 9.755209,
   "end_time": "2021-12-22T00:00:14.718601",
   "environment_variables": {},
   "exception": null,
   "input_path": "eBay_Overview.ipynb",
   "output_path": "eBay_Overview.ipynb",
   "parameters": {},
   "start_time": "2021-12-22T00:00:04.963392",
   "version": "2.3.3"
  }
 },
 "nbformat": 4,
 "nbformat_minor": 5
}