{
 "cells": [
  {
   "cell_type": "code",
   "execution_count": 1,
   "id": "reverse-picking",
   "metadata": {
    "execution": {
     "iopub.execute_input": "2021-12-16T04:00:07.440125Z",
     "iopub.status.busy": "2021-12-16T04:00:07.437819Z",
     "iopub.status.idle": "2021-12-16T04:00:08.392911Z",
     "shell.execute_reply": "2021-12-16T04:00:08.394571Z"
    },
    "papermill": {
     "duration": 1.005098,
     "end_time": "2021-12-16T04:00:08.395339",
     "exception": false,
     "start_time": "2021-12-16T04:00:07.390241",
     "status": "completed"
    },
    "tags": []
   },
   "outputs": [],
   "source": [
    "import pandas as pd\n",
    "import sqlite3"
   ]
  },
  {
   "cell_type": "code",
   "execution_count": 2,
   "id": "innovative-syndrome",
   "metadata": {
    "execution": {
     "iopub.execute_input": "2021-12-16T04:00:08.458007Z",
     "iopub.status.busy": "2021-12-16T04:00:08.455624Z",
     "iopub.status.idle": "2021-12-16T04:00:09.537996Z",
     "shell.execute_reply": "2021-12-16T04:00:09.539265Z"
    },
    "papermill": {
     "duration": 1.116114,
     "end_time": "2021-12-16T04:00:09.539669",
     "exception": false,
     "start_time": "2021-12-16T04:00:08.423555",
     "status": "completed"
    },
    "tags": []
   },
   "outputs": [],
   "source": [
    "timestamps = pd.read_sql(\"select distinct record_time from EBAY_TOP_BERLIN order by record_time desc limit 2\", sqlite3.connect(\"UsedObjects.db\"))"
   ]
  },
  {
   "cell_type": "code",
   "execution_count": 3,
   "id": "periodic-identification",
   "metadata": {
    "execution": {
     "iopub.execute_input": "2021-12-16T04:00:09.603752Z",
     "iopub.status.busy": "2021-12-16T04:00:09.601742Z",
     "iopub.status.idle": "2021-12-16T04:00:09.622074Z",
     "shell.execute_reply": "2021-12-16T04:00:09.623621Z"
    },
    "papermill": {
     "duration": 0.064667,
     "end_time": "2021-12-16T04:00:09.624108",
     "exception": false,
     "start_time": "2021-12-16T04:00:09.559441",
     "status": "completed"
    },
    "tags": []
   },
   "outputs": [
    {
     "data": {
      "text/html": [
       "<div>\n",
       "<style scoped>\n",
       "    .dataframe tbody tr th:only-of-type {\n",
       "        vertical-align: middle;\n",
       "    }\n",
       "\n",
       "    .dataframe tbody tr th {\n",
       "        vertical-align: top;\n",
       "    }\n",
       "\n",
       "    .dataframe thead th {\n",
       "        text-align: right;\n",
       "    }\n",
       "</style>\n",
       "<table border=\"1\" class=\"dataframe\">\n",
       "  <thead>\n",
       "    <tr style=\"text-align: right;\">\n",
       "      <th></th>\n",
       "      <th>RECORD_TIME</th>\n",
       "    </tr>\n",
       "  </thead>\n",
       "  <tbody>\n",
       "    <tr>\n",
       "      <th>0</th>\n",
       "      <td>2021-12-16 05:00</td>\n",
       "    </tr>\n",
       "    <tr>\n",
       "      <th>1</th>\n",
       "      <td>2021-12-16 04:30</td>\n",
       "    </tr>\n",
       "  </tbody>\n",
       "</table>\n",
       "</div>"
      ],
      "text/plain": [
       "        RECORD_TIME\n",
       "0  2021-12-16 05:00\n",
       "1  2021-12-16 04:30"
      ]
     },
     "execution_count": 3,
     "metadata": {},
     "output_type": "execute_result"
    }
   ],
   "source": [
    "timestamps"
   ]
  },
  {
   "cell_type": "code",
   "execution_count": 4,
   "id": "alternate-victory",
   "metadata": {
    "execution": {
     "iopub.execute_input": "2021-12-16T04:00:09.679783Z",
     "iopub.status.busy": "2021-12-16T04:00:09.677804Z",
     "iopub.status.idle": "2021-12-16T04:00:11.268026Z",
     "shell.execute_reply": "2021-12-16T04:00:11.269911Z"
    },
    "papermill": {
     "duration": 1.623548,
     "end_time": "2021-12-16T04:00:11.270392",
     "exception": false,
     "start_time": "2021-12-16T04:00:09.646844",
     "status": "completed"
    },
    "tags": []
   },
   "outputs": [],
   "source": [
    "df = pd.read_sql(\"select * from EBAY_TOP_BERLIN where record_time in (select distinct record_time from EBAY_TOP_BERLIN order by record_time desc limit 2)\", sqlite3.connect(\"UsedObjects.db\"))"
   ]
  },
  {
   "cell_type": "code",
   "execution_count": 5,
   "id": "popular-active",
   "metadata": {
    "execution": {
     "iopub.execute_input": "2021-12-16T04:00:11.334066Z",
     "iopub.status.busy": "2021-12-16T04:00:11.331910Z",
     "iopub.status.idle": "2021-12-16T04:00:11.364931Z",
     "shell.execute_reply": "2021-12-16T04:00:11.366323Z"
    },
    "papermill": {
     "duration": 0.07542,
     "end_time": "2021-12-16T04:00:11.366790",
     "exception": false,
     "start_time": "2021-12-16T04:00:11.291370",
     "status": "completed"
    },
    "tags": []
   },
   "outputs": [],
   "source": [
    "df_pivot = df.pivot_table(index=\"PRODUCT\", columns = \"RECORD_TIME\", values = \"LISTING_COUNT\")"
   ]
  },
  {
   "cell_type": "code",
   "execution_count": 6,
   "id": "union-huntington",
   "metadata": {
    "execution": {
     "iopub.execute_input": "2021-12-16T04:00:11.429743Z",
     "iopub.status.busy": "2021-12-16T04:00:11.427514Z",
     "iopub.status.idle": "2021-12-16T04:00:11.434244Z",
     "shell.execute_reply": "2021-12-16T04:00:11.432761Z"
    },
    "papermill": {
     "duration": 0.046568,
     "end_time": "2021-12-16T04:00:11.434653",
     "exception": false,
     "start_time": "2021-12-16T04:00:11.388085",
     "status": "completed"
    },
    "tags": []
   },
   "outputs": [],
   "source": [
    "df_pivot.columns = [\"stamp_1\", \"stamp_2\"]\n",
    "df_pivot_diff = df_pivot.diff(axis=1)"
   ]
  },
  {
   "cell_type": "code",
   "execution_count": 7,
   "id": "fifth-motion",
   "metadata": {
    "execution": {
     "iopub.execute_input": "2021-12-16T04:00:11.492166Z",
     "iopub.status.busy": "2021-12-16T04:00:11.489684Z",
     "iopub.status.idle": "2021-12-16T04:00:13.470776Z",
     "shell.execute_reply": "2021-12-16T04:00:13.471975Z"
    },
    "papermill": {
     "duration": 2.017002,
     "end_time": "2021-12-16T04:00:13.472408",
     "exception": false,
     "start_time": "2021-12-16T04:00:11.455406",
     "status": "completed"
    },
    "tags": []
   },
   "outputs": [
    {
     "data": {
      "text/plain": [
       "<AxesSubplot:ylabel='PRODUCT'>"
      ]
     },
     "execution_count": 7,
     "metadata": {},
     "output_type": "execute_result"
    },
    {
     "data": {
      "image/png": "[encoded data removed]",
      "text/plain": [
       "<Figure size 432x288 with 1 Axes>"
      ]
     },
     "metadata": {
      "needs_background": "light"
     },
     "output_type": "display_data"
    }
   ],
   "source": [
    "df_pivot_diff.sort_values(\"stamp_2\", ascending = False)[\"stamp_2\"].head(10).plot.barh()"
   ]
  },
  {
   "cell_type": "code",
   "execution_count": null,
   "id": "extra-executive",
   "metadata": {
    "papermill": {
     "duration": 0.027477,
     "end_time": "2021-12-16T04:00:13.534737",
     "exception": false,
     "start_time": "2021-12-16T04:00:13.507260",
     "status": "completed"
    },
    "tags": []
   },
   "outputs": [],
   "source": []
  }
 ],
 "metadata": {
  "kernelspec": {
   "display_name": "Python 3",
   "language": "python",
   "name": "python3"
  },
  "language_info": {
   "codemirror_mode": {
    "name": "ipython",
    "version": 3
   },
   "file_extension": ".py",
   "mimetype": "text/x-python",
   "name": "python",
   "nbconvert_exporter": "python",
   "pygments_lexer": "ipython3",
   "version": "3.9.5"
  },
  "papermill": {
   "default_parameters": {},
   "duration": 9.503598,
   "end_time": "2021-12-16T04:00:14.181915",
   "environment_variables": {},
   "exception": null,
   "input_path": "eBay_Overview.ipynb",
   "output_path": "eBay_Overview.ipynb",
   "parameters": {},
   "start_time": "2021-12-16T04:00:04.678317",
   "version": "2.3.3"
  }
 },
 "nbformat": 4,
 "nbformat_minor": 5
}