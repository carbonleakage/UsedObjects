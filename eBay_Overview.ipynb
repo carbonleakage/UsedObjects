{
 "cells": [
  {
   "cell_type": "code",
   "execution_count": 1,
   "id": "reverse-picking",
   "metadata": {
    "execution": {
     "iopub.execute_input": "2021-11-30T19:00:07.793066Z",
     "iopub.status.busy": "2021-11-30T19:00:07.790386Z",
     "iopub.status.idle": "2021-11-30T19:00:08.748016Z",
     "shell.execute_reply": "2021-11-30T19:00:08.750475Z"
    },
    "papermill": {
     "duration": 1.009502,
     "end_time": "2021-11-30T19:00:08.751200",
     "exception": false,
     "start_time": "2021-11-30T19:00:07.741698",
     "status": "completed"
    },
    "tags": []
   },
   "outputs": [],
   "source": [
    "import pandas as pd\n",
    "import sqlite3"
   ]
  },
  {
   "cell_type": "code",
   "execution_count": 2,
   "id": "innovative-syndrome",
   "metadata": {
    "execution": {
     "iopub.execute_input": "2021-11-30T19:00:08.813972Z",
     "iopub.status.busy": "2021-11-30T19:00:08.811478Z",
     "iopub.status.idle": "2021-11-30T19:00:09.797445Z",
     "shell.execute_reply": "2021-11-30T19:00:09.799512Z"
    },
    "papermill": {
     "duration": 1.020568,
     "end_time": "2021-11-30T19:00:09.799974",
     "exception": false,
     "start_time": "2021-11-30T19:00:08.779406",
     "status": "completed"
    },
    "tags": []
   },
   "outputs": [],
   "source": [
    "timestamps = pd.read_sql(\"select distinct record_time from EBAY_TOP_BERLIN order by record_time desc limit 2\", sqlite3.connect(\"UsedObjects.db\"))"
   ]
  },
  {
   "cell_type": "code",
   "execution_count": 3,
   "id": "periodic-identification",
   "metadata": {
    "execution": {
     "iopub.execute_input": "2021-11-30T19:00:09.855861Z",
     "iopub.status.busy": "2021-11-30T19:00:09.853864Z",
     "iopub.status.idle": "2021-11-30T19:00:09.889220Z",
     "shell.execute_reply": "2021-11-30T19:00:09.890631Z"
    },
    "papermill": {
     "duration": 0.07071,
     "end_time": "2021-11-30T19:00:09.891119",
     "exception": false,
     "start_time": "2021-11-30T19:00:09.820409",
     "status": "completed"
    },
    "tags": []
   },
   "outputs": [
    {
     "data": {
      "text/html": [
       "<div>\n",
       "<style scoped>\n",
       "    .dataframe tbody tr th:only-of-type {\n",
       "        vertical-align: middle;\n",
       "    }\n",
       "\n",
       "    .dataframe tbody tr th {\n",
       "        vertical-align: top;\n",
       "    }\n",
       "\n",
       "    .dataframe thead th {\n",
       "        text-align: right;\n",
       "    }\n",
       "</style>\n",
       "<table border=\"1\" class=\"dataframe\">\n",
       "  <thead>\n",
       "    <tr style=\"text-align: right;\">\n",
       "      <th></th>\n",
       "      <th>RECORD_TIME</th>\n",
       "    </tr>\n",
       "  </thead>\n",
       "  <tbody>\n",
       "    <tr>\n",
       "      <th>0</th>\n",
       "      <td>2021-11-30 20:00</td>\n",
       "    </tr>\n",
       "    <tr>\n",
       "      <th>1</th>\n",
       "      <td>2021-11-30 19:30</td>\n",
       "    </tr>\n",
       "  </tbody>\n",
       "</table>\n",
       "</div>"
      ],
      "text/plain": [
       "        RECORD_TIME\n",
       "0  2021-11-30 20:00\n",
       "1  2021-11-30 19:30"
      ]
     },
     "execution_count": 3,
     "metadata": {},
     "output_type": "execute_result"
    }
   ],
   "source": [
    "timestamps"
   ]
  },
  {
   "cell_type": "code",
   "execution_count": 4,
   "id": "alternate-victory",
   "metadata": {
    "execution": {
     "iopub.execute_input": "2021-11-30T19:00:09.944017Z",
     "iopub.status.busy": "2021-11-30T19:00:09.941983Z",
     "iopub.status.idle": "2021-11-30T19:00:11.358790Z",
     "shell.execute_reply": "2021-11-30T19:00:11.360934Z"
    },
    "papermill": {
     "duration": 1.448543,
     "end_time": "2021-11-30T19:00:11.361416",
     "exception": false,
     "start_time": "2021-11-30T19:00:09.912873",
     "status": "completed"
    },
    "tags": []
   },
   "outputs": [],
   "source": [
    "df = pd.read_sql(\"select * from EBAY_TOP_BERLIN where record_time in (select distinct record_time from EBAY_TOP_BERLIN order by record_time desc limit 2)\", sqlite3.connect(\"UsedObjects.db\"))"
   ]
  },
  {
   "cell_type": "code",
   "execution_count": 5,
   "id": "popular-active",
   "metadata": {
    "execution": {
     "iopub.execute_input": "2021-11-30T19:00:11.441003Z",
     "iopub.status.busy": "2021-11-30T19:00:11.427389Z",
     "iopub.status.idle": "2021-11-30T19:00:11.461038Z",
     "shell.execute_reply": "2021-11-30T19:00:11.462755Z"
    },
    "papermill": {
     "duration": 0.081082,
     "end_time": "2021-11-30T19:00:11.463313",
     "exception": false,
     "start_time": "2021-11-30T19:00:11.382231",
     "status": "completed"
    },
    "tags": []
   },
   "outputs": [],
   "source": [
    "df_pivot = df.pivot_table(index=\"PRODUCT\", columns = \"RECORD_TIME\", values = \"LISTING_COUNT\")"
   ]
  },
  {
   "cell_type": "code",
   "execution_count": 6,
   "id": "union-huntington",
   "metadata": {
    "execution": {
     "iopub.execute_input": "2021-11-30T19:00:11.531700Z",
     "iopub.status.busy": "2021-11-30T19:00:11.529581Z",
     "iopub.status.idle": "2021-11-30T19:00:11.535719Z",
     "shell.execute_reply": "2021-11-30T19:00:11.537708Z"
    },
    "papermill": {
     "duration": 0.047625,
     "end_time": "2021-11-30T19:00:11.538194",
     "exception": false,
     "start_time": "2021-11-30T19:00:11.490569",
     "status": "completed"
    },
    "tags": []
   },
   "outputs": [],
   "source": [
    "df_pivot.columns = [\"stamp_1\", \"stamp_2\"]\n",
    "df_pivot_diff = df_pivot.diff(axis=1)"
   ]
  },
  {
   "cell_type": "code",
   "execution_count": 7,
   "id": "fifth-motion",
   "metadata": {
    "execution": {
     "iopub.execute_input": "2021-11-30T19:00:11.596770Z",
     "iopub.status.busy": "2021-11-30T19:00:11.594290Z",
     "iopub.status.idle": "2021-11-30T19:00:13.579382Z",
     "shell.execute_reply": "2021-11-30T19:00:13.582403Z"
    },
    "papermill": {
     "duration": 2.023036,
     "end_time": "2021-11-30T19:00:13.583277",
     "exception": false,
     "start_time": "2021-11-30T19:00:11.560241",
     "status": "completed"
    },
    "tags": []
   },
   "outputs": [
    {
     "data": {
      "text/plain": [
       "<AxesSubplot:ylabel='PRODUCT'>"
      ]
     },
     "execution_count": 7,
     "metadata": {},
     "output_type": "execute_result"
    },
    {
     "data": {
      "image/png": "[encoded data removed]",
      "text/plain": [
       "<Figure size 432x288 with 1 Axes>"
      ]
     },
     "metadata": {
      "needs_background": "light"
     },
     "output_type": "display_data"
    }
   ],
   "source": [
    "df_pivot_diff.sort_values(\"stamp_2\", ascending = False)[\"stamp_2\"].head(10).plot.barh()"
   ]
  },
  {
   "cell_type": "code",
   "execution_count": null,
   "id": "extra-executive",
   "metadata": {
    "papermill": {
     "duration": 0.027884,
     "end_time": "2021-11-30T19:00:13.642969",
     "exception": false,
     "start_time": "2021-11-30T19:00:13.615085",
     "status": "completed"
    },
    "tags": []
   },
   "outputs": [],
   "source": []
  }
 ],
 "metadata": {
  "kernelspec": {
   "display_name": "Python 3",
   "language": "python",
   "name": "python3"
  },
  "language_info": {
   "codemirror_mode": {
    "name": "ipython",
    "version": 3
   },
   "file_extension": ".py",
   "mimetype": "text/x-python",
   "name": "python",
   "nbconvert_exporter": "python",
   "pygments_lexer": "ipython3",
   "version": "3.9.5"
  },
  "papermill": {
   "default_parameters": {},
   "duration": 9.932695,
   "end_time": "2021-11-30T19:00:14.973742",
   "environment_variables": {},
   "exception": null,
   "input_path": "eBay_Overview.ipynb",
   "output_path": "eBay_Overview.ipynb",
   "parameters": {},
   "start_time": "2021-11-30T19:00:05.041047",
   "version": "2.3.3"
  }
 },
 "nbformat": 4,
 "nbformat_minor": 5
}