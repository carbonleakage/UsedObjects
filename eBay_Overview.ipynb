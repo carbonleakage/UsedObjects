{
 "cells": [
  {
   "cell_type": "code",
   "execution_count": 1,
   "id": "reverse-picking",
   "metadata": {
    "execution": {
     "iopub.execute_input": "2021-12-19T12:30:07.778331Z",
     "iopub.status.busy": "2021-12-19T12:30:07.775831Z",
     "iopub.status.idle": "2021-12-19T12:30:08.696964Z",
     "shell.execute_reply": "2021-12-19T12:30:08.698520Z"
    },
    "papermill": {
     "duration": 0.971119,
     "end_time": "2021-12-19T12:30:08.699208",
     "exception": false,
     "start_time": "2021-12-19T12:30:07.728089",
     "status": "completed"
    },
    "tags": []
   },
   "outputs": [],
   "source": [
    "import pandas as pd\n",
    "import sqlite3"
   ]
  },
  {
   "cell_type": "code",
   "execution_count": 2,
   "id": "innovative-syndrome",
   "metadata": {
    "execution": {
     "iopub.execute_input": "2021-12-19T12:30:08.762846Z",
     "iopub.status.busy": "2021-12-19T12:30:08.760581Z",
     "iopub.status.idle": "2021-12-19T12:30:09.894571Z",
     "shell.execute_reply": "2021-12-19T12:30:09.895993Z"
    },
    "papermill": {
     "duration": 1.167132,
     "end_time": "2021-12-19T12:30:09.896487",
     "exception": false,
     "start_time": "2021-12-19T12:30:08.729355",
     "status": "completed"
    },
    "tags": []
   },
   "outputs": [],
   "source": [
    "timestamps = pd.read_sql(\"select distinct record_time from EBAY_TOP_BERLIN order by record_time desc limit 2\", sqlite3.connect(\"UsedObjects.db\"))"
   ]
  },
  {
   "cell_type": "code",
   "execution_count": 3,
   "id": "periodic-identification",
   "metadata": {
    "execution": {
     "iopub.execute_input": "2021-12-19T12:30:09.967699Z",
     "iopub.status.busy": "2021-12-19T12:30:09.963782Z",
     "iopub.status.idle": "2021-12-19T12:30:09.987528Z",
     "shell.execute_reply": "2021-12-19T12:30:09.988654Z"
    },
    "papermill": {
     "duration": 0.072522,
     "end_time": "2021-12-19T12:30:09.989290",
     "exception": false,
     "start_time": "2021-12-19T12:30:09.916768",
     "status": "completed"
    },
    "tags": []
   },
   "outputs": [
    {
     "data": {
      "text/html": [
       "<div>\n",
       "<style scoped>\n",
       "    .dataframe tbody tr th:only-of-type {\n",
       "        vertical-align: middle;\n",
       "    }\n",
       "\n",
       "    .dataframe tbody tr th {\n",
       "        vertical-align: top;\n",
       "    }\n",
       "\n",
       "    .dataframe thead th {\n",
       "        text-align: right;\n",
       "    }\n",
       "</style>\n",
       "<table border=\"1\" class=\"dataframe\">\n",
       "  <thead>\n",
       "    <tr style=\"text-align: right;\">\n",
       "      <th></th>\n",
       "      <th>RECORD_TIME</th>\n",
       "    </tr>\n",
       "  </thead>\n",
       "  <tbody>\n",
       "    <tr>\n",
       "      <th>0</th>\n",
       "      <td>2021-12-19 13:30</td>\n",
       "    </tr>\n",
       "    <tr>\n",
       "      <th>1</th>\n",
       "      <td>2021-12-19 13:00</td>\n",
       "    </tr>\n",
       "  </tbody>\n",
       "</table>\n",
       "</div>"
      ],
      "text/plain": [
       "        RECORD_TIME\n",
       "0  2021-12-19 13:30\n",
       "1  2021-12-19 13:00"
      ]
     },
     "execution_count": 3,
     "metadata": {},
     "output_type": "execute_result"
    }
   ],
   "source": [
    "timestamps"
   ]
  },
  {
   "cell_type": "code",
   "execution_count": 4,
   "id": "alternate-victory",
   "metadata": {
    "execution": {
     "iopub.execute_input": "2021-12-19T12:30:10.041247Z",
     "iopub.status.busy": "2021-12-19T12:30:10.038851Z",
     "iopub.status.idle": "2021-12-19T12:30:11.691002Z",
     "shell.execute_reply": "2021-12-19T12:30:11.693181Z"
    },
    "papermill": {
     "duration": 1.683554,
     "end_time": "2021-12-19T12:30:11.693664",
     "exception": false,
     "start_time": "2021-12-19T12:30:10.010110",
     "status": "completed"
    },
    "tags": []
   },
   "outputs": [],
   "source": [
    "df = pd.read_sql(\"select * from EBAY_TOP_BERLIN where record_time in (select distinct record_time from EBAY_TOP_BERLIN order by record_time desc limit 2)\", sqlite3.connect(\"UsedObjects.db\"))"
   ]
  },
  {
   "cell_type": "code",
   "execution_count": 5,
   "id": "popular-active",
   "metadata": {
    "execution": {
     "iopub.execute_input": "2021-12-19T12:30:11.768474Z",
     "iopub.status.busy": "2021-12-19T12:30:11.754603Z",
     "iopub.status.idle": "2021-12-19T12:30:11.787535Z",
     "shell.execute_reply": "2021-12-19T12:30:11.789270Z"
    },
    "papermill": {
     "duration": 0.075661,
     "end_time": "2021-12-19T12:30:11.789761",
     "exception": false,
     "start_time": "2021-12-19T12:30:11.714100",
     "status": "completed"
    },
    "tags": []
   },
   "outputs": [],
   "source": [
    "df_pivot = df.pivot_table(index=\"PRODUCT\", columns = \"RECORD_TIME\", values = \"LISTING_COUNT\")"
   ]
  },
  {
   "cell_type": "code",
   "execution_count": 6,
   "id": "union-huntington",
   "metadata": {
    "execution": {
     "iopub.execute_input": "2021-12-19T12:30:11.851749Z",
     "iopub.status.busy": "2021-12-19T12:30:11.849585Z",
     "iopub.status.idle": "2021-12-19T12:30:11.854313Z",
     "shell.execute_reply": "2021-12-19T12:30:11.856124Z"
    },
    "papermill": {
     "duration": 0.045757,
     "end_time": "2021-12-19T12:30:11.856595",
     "exception": false,
     "start_time": "2021-12-19T12:30:11.810838",
     "status": "completed"
    },
    "tags": []
   },
   "outputs": [],
   "source": [
    "df_pivot.columns = [\"stamp_1\", \"stamp_2\"]\n",
    "df_pivot_diff = df_pivot.diff(axis=1)"
   ]
  },
  {
   "cell_type": "code",
   "execution_count": 7,
   "id": "fifth-motion",
   "metadata": {
    "execution": {
     "iopub.execute_input": "2021-12-19T12:30:11.913384Z",
     "iopub.status.busy": "2021-12-19T12:30:11.910952Z",
     "iopub.status.idle": "2021-12-19T12:30:13.957321Z",
     "shell.execute_reply": "2021-12-19T12:30:13.958880Z"
    },
    "papermill": {
     "duration": 2.082556,
     "end_time": "2021-12-19T12:30:13.959343",
     "exception": false,
     "start_time": "2021-12-19T12:30:11.876787",
     "status": "completed"
    },
    "tags": []
   },
   "outputs": [
    {
     "data": {
      "text/plain": [
       "<AxesSubplot:ylabel='PRODUCT'>"
      ]
     },
     "execution_count": 7,
     "metadata": {},
     "output_type": "execute_result"
    },
    {
     "data": {
      "image/png": "[encoded data removed]",
      "text/plain": [
       "<Figure size 432x288 with 1 Axes>"
      ]
     },
     "metadata": {
      "needs_background": "light"
     },
     "output_type": "display_data"
    }
   ],
   "source": [
    "df_pivot_diff.sort_values(\"stamp_2\", ascending = False)[\"stamp_2\"].head(10).plot.barh()"
   ]
  },
  {
   "cell_type": "code",
   "execution_count": null,
   "id": "extra-executive",
   "metadata": {
    "papermill": {
     "duration": 0.022112,
     "end_time": "2021-12-19T12:30:14.005542",
     "exception": false,
     "start_time": "2021-12-19T12:30:13.983430",
     "status": "completed"
    },
    "tags": []
   },
   "outputs": [],
   "source": []
  }
 ],
 "metadata": {
  "kernelspec": {
   "display_name": "Python 3",
   "language": "python",
   "name": "python3"
  },
  "language_info": {
   "codemirror_mode": {
    "name": "ipython",
    "version": 3
   },
   "file_extension": ".py",
   "mimetype": "text/x-python",
   "name": "python",
   "nbconvert_exporter": "python",
   "pygments_lexer": "ipython3",
   "version": "3.9.5"
  },
  "papermill": {
   "default_parameters": {},
   "duration": 9.643311,
   "end_time": "2021-12-19T12:30:14.647839",
   "environment_variables": {},
   "exception": null,
   "input_path": "eBay_Overview.ipynb",
   "output_path": "eBay_Overview.ipynb",
   "parameters": {},
   "start_time": "2021-12-19T12:30:05.004528",
   "version": "2.3.3"
  }
 },
 "nbformat": 4,
 "nbformat_minor": 5
}