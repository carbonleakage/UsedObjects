{
 "cells": [
  {
   "cell_type": "code",
   "execution_count": 1,
   "id": "reverse-picking",
   "metadata": {
    "execution": {
     "iopub.execute_input": "2021-11-24T09:00:07.958377Z",
     "iopub.status.busy": "2021-11-24T09:00:07.956273Z",
     "iopub.status.idle": "2021-11-24T09:00:08.920335Z",
     "shell.execute_reply": "2021-11-24T09:00:08.921936Z"
    },
    "papermill": {
     "duration": 1.011981,
     "end_time": "2021-11-24T09:00:08.922676",
     "exception": false,
     "start_time": "2021-11-24T09:00:07.910695",
     "status": "completed"
    },
    "tags": []
   },
   "outputs": [],
   "source": [
    "import pandas as pd\n",
    "import sqlite3"
   ]
  },
  {
   "cell_type": "code",
   "execution_count": 2,
   "id": "innovative-syndrome",
   "metadata": {
    "execution": {
     "iopub.execute_input": "2021-11-24T09:00:08.984967Z",
     "iopub.status.busy": "2021-11-24T09:00:08.982746Z",
     "iopub.status.idle": "2021-11-24T09:00:09.876382Z",
     "shell.execute_reply": "2021-11-24T09:00:09.878078Z"
    },
    "papermill": {
     "duration": 0.927935,
     "end_time": "2021-11-24T09:00:09.878653",
     "exception": false,
     "start_time": "2021-11-24T09:00:08.950718",
     "status": "completed"
    },
    "tags": []
   },
   "outputs": [],
   "source": [
    "timestamps = pd.read_sql(\"select distinct record_time from EBAY_TOP_BERLIN order by record_time desc limit 2\", sqlite3.connect(\"UsedObjects.db\"))"
   ]
  },
  {
   "cell_type": "code",
   "execution_count": 3,
   "id": "periodic-identification",
   "metadata": {
    "execution": {
     "iopub.execute_input": "2021-11-24T09:00:09.953332Z",
     "iopub.status.busy": "2021-11-24T09:00:09.950801Z",
     "iopub.status.idle": "2021-11-24T09:00:09.973898Z",
     "shell.execute_reply": "2021-11-24T09:00:09.975264Z"
    },
    "papermill": {
     "duration": 0.076557,
     "end_time": "2021-11-24T09:00:09.975754",
     "exception": false,
     "start_time": "2021-11-24T09:00:09.899197",
     "status": "completed"
    },
    "tags": []
   },
   "outputs": [
    {
     "data": {
      "text/html": [
       "<div>\n",
       "<style scoped>\n",
       "    .dataframe tbody tr th:only-of-type {\n",
       "        vertical-align: middle;\n",
       "    }\n",
       "\n",
       "    .dataframe tbody tr th {\n",
       "        vertical-align: top;\n",
       "    }\n",
       "\n",
       "    .dataframe thead th {\n",
       "        text-align: right;\n",
       "    }\n",
       "</style>\n",
       "<table border=\"1\" class=\"dataframe\">\n",
       "  <thead>\n",
       "    <tr style=\"text-align: right;\">\n",
       "      <th></th>\n",
       "      <th>RECORD_TIME</th>\n",
       "    </tr>\n",
       "  </thead>\n",
       "  <tbody>\n",
       "    <tr>\n",
       "      <th>0</th>\n",
       "      <td>2021-11-24 10:00</td>\n",
       "    </tr>\n",
       "    <tr>\n",
       "      <th>1</th>\n",
       "      <td>2021-11-24 09:30</td>\n",
       "    </tr>\n",
       "  </tbody>\n",
       "</table>\n",
       "</div>"
      ],
      "text/plain": [
       "        RECORD_TIME\n",
       "0  2021-11-24 10:00\n",
       "1  2021-11-24 09:30"
      ]
     },
     "execution_count": 3,
     "metadata": {},
     "output_type": "execute_result"
    }
   ],
   "source": [
    "timestamps"
   ]
  },
  {
   "cell_type": "code",
   "execution_count": 4,
   "id": "alternate-victory",
   "metadata": {
    "execution": {
     "iopub.execute_input": "2021-11-24T09:00:10.032899Z",
     "iopub.status.busy": "2021-11-24T09:00:10.030604Z",
     "iopub.status.idle": "2021-11-24T09:00:11.323223Z",
     "shell.execute_reply": "2021-11-24T09:00:11.326713Z"
    },
    "papermill": {
     "duration": 1.329723,
     "end_time": "2021-11-24T09:00:11.327495",
     "exception": false,
     "start_time": "2021-11-24T09:00:09.997772",
     "status": "completed"
    },
    "tags": []
   },
   "outputs": [],
   "source": [
    "df = pd.read_sql(\"select * from EBAY_TOP_BERLIN where record_time in (select distinct record_time from EBAY_TOP_BERLIN order by record_time desc limit 2)\", sqlite3.connect(\"UsedObjects.db\"))"
   ]
  },
  {
   "cell_type": "code",
   "execution_count": 5,
   "id": "popular-active",
   "metadata": {
    "execution": {
     "iopub.execute_input": "2021-11-24T09:00:11.416676Z",
     "iopub.status.busy": "2021-11-24T09:00:11.402795Z",
     "iopub.status.idle": "2021-11-24T09:00:11.436889Z",
     "shell.execute_reply": "2021-11-24T09:00:11.438460Z"
    },
    "papermill": {
     "duration": 0.079946,
     "end_time": "2021-11-24T09:00:11.438941",
     "exception": false,
     "start_time": "2021-11-24T09:00:11.358995",
     "status": "completed"
    },
    "tags": []
   },
   "outputs": [],
   "source": [
    "df_pivot = df.pivot_table(index=\"PRODUCT\", columns = \"RECORD_TIME\", values = \"LISTING_COUNT\")"
   ]
  },
  {
   "cell_type": "code",
   "execution_count": 6,
   "id": "union-huntington",
   "metadata": {
    "execution": {
     "iopub.execute_input": "2021-11-24T09:00:11.500078Z",
     "iopub.status.busy": "2021-11-24T09:00:11.497714Z",
     "iopub.status.idle": "2021-11-24T09:00:11.503705Z",
     "shell.execute_reply": "2021-11-24T09:00:11.505021Z"
    },
    "papermill": {
     "duration": 0.044448,
     "end_time": "2021-11-24T09:00:11.505526",
     "exception": false,
     "start_time": "2021-11-24T09:00:11.461078",
     "status": "completed"
    },
    "tags": []
   },
   "outputs": [],
   "source": [
    "df_pivot.columns = [\"stamp_1\", \"stamp_2\"]\n",
    "df_pivot_diff = df_pivot.diff(axis=1)"
   ]
  },
  {
   "cell_type": "code",
   "execution_count": 7,
   "id": "fifth-motion",
   "metadata": {
    "execution": {
     "iopub.execute_input": "2021-11-24T09:00:11.563324Z",
     "iopub.status.busy": "2021-11-24T09:00:11.560593Z",
     "iopub.status.idle": "2021-11-24T09:00:13.519035Z",
     "shell.execute_reply": "2021-11-24T09:00:13.520551Z"
    },
    "papermill": {
     "duration": 1.995682,
     "end_time": "2021-11-24T09:00:13.521151",
     "exception": false,
     "start_time": "2021-11-24T09:00:11.525469",
     "status": "completed"
    },
    "tags": []
   },
   "outputs": [
    {
     "data": {
      "text/plain": [
       "<AxesSubplot:ylabel='PRODUCT'>"
      ]
     },
     "execution_count": 7,
     "metadata": {},
     "output_type": "execute_result"
    },
    {
     "data": {
      "image/png": "[encoded data removed]",
      "text/plain": [
       "<Figure size 432x288 with 1 Axes>"
      ]
     },
     "metadata": {
      "needs_background": "light"
     },
     "output_type": "display_data"
    }
   ],
   "source": [
    "df_pivot_diff.sort_values(\"stamp_2\", ascending = False)[\"stamp_2\"].head(10).plot.barh()"
   ]
  },
  {
   "cell_type": "code",
   "execution_count": null,
   "id": "extra-executive",
   "metadata": {
    "papermill": {
     "duration": 0.023964,
     "end_time": "2021-11-24T09:00:13.570576",
     "exception": false,
     "start_time": "2021-11-24T09:00:13.546612",
     "status": "completed"
    },
    "tags": []
   },
   "outputs": [],
   "source": []
  }
 ],
 "metadata": {
  "kernelspec": {
   "display_name": "Python 3",
   "language": "python",
   "name": "python3"
  },
  "language_info": {
   "codemirror_mode": {
    "name": "ipython",
    "version": 3
   },
   "file_extension": ".py",
   "mimetype": "text/x-python",
   "name": "python",
   "nbconvert_exporter": "python",
   "pygments_lexer": "ipython3",
   "version": "3.9.5"
  },
  "papermill": {
   "default_parameters": {},
   "duration": 9.938029,
   "end_time": "2021-11-24T09:00:15.106077",
   "environment_variables": {},
   "exception": null,
   "input_path": "eBay_Overview.ipynb",
   "output_path": "eBay_Overview.ipynb",
   "parameters": {},
   "start_time": "2021-11-24T09:00:05.168048",
   "version": "2.3.3"
  }
 },
 "nbformat": 4,
 "nbformat_minor": 5
}