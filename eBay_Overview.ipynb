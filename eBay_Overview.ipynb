{
 "cells": [
  {
   "cell_type": "code",
   "execution_count": 1,
   "id": "reverse-picking",
   "metadata": {
    "execution": {
     "iopub.execute_input": "2021-10-19T15:30:06.982624Z",
     "iopub.status.busy": "2021-10-19T15:30:06.980654Z",
     "iopub.status.idle": "2021-10-19T15:30:07.790054Z",
     "shell.execute_reply": "2021-10-19T15:30:07.788453Z"
    },
    "papermill": {
     "duration": 0.861732,
     "end_time": "2021-10-19T15:30:07.790459",
     "exception": false,
     "start_time": "2021-10-19T15:30:06.928727",
     "status": "completed"
    },
    "tags": []
   },
   "outputs": [],
   "source": [
    "import pandas as pd\n",
    "import sqlite3"
   ]
  },
  {
   "cell_type": "code",
   "execution_count": 2,
   "id": "innovative-syndrome",
   "metadata": {
    "execution": {
     "iopub.execute_input": "2021-10-19T15:30:07.842216Z",
     "iopub.status.busy": "2021-10-19T15:30:07.840051Z",
     "iopub.status.idle": "2021-10-19T15:30:08.415376Z",
     "shell.execute_reply": "2021-10-19T15:30:08.416647Z"
    },
    "papermill": {
     "duration": 0.604725,
     "end_time": "2021-10-19T15:30:08.417126",
     "exception": false,
     "start_time": "2021-10-19T15:30:07.812401",
     "status": "completed"
    },
    "tags": []
   },
   "outputs": [],
   "source": [
    "timestamps = pd.read_sql(\"select distinct record_time from EBAY_TOP_BERLIN order by record_time desc limit 2\", sqlite3.connect(\"UsedObjects.db\"))"
   ]
  },
  {
   "cell_type": "code",
   "execution_count": 3,
   "id": "periodic-identification",
   "metadata": {
    "execution": {
     "iopub.execute_input": "2021-10-19T15:30:08.486065Z",
     "iopub.status.busy": "2021-10-19T15:30:08.483889Z",
     "iopub.status.idle": "2021-10-19T15:30:08.503720Z",
     "shell.execute_reply": "2021-10-19T15:30:08.505141Z"
    },
    "papermill": {
     "duration": 0.065718,
     "end_time": "2021-10-19T15:30:08.505556",
     "exception": false,
     "start_time": "2021-10-19T15:30:08.439838",
     "status": "completed"
    },
    "tags": []
   },
   "outputs": [
    {
     "data": {
      "text/html": [
       "<div>\n",
       "<style scoped>\n",
       "    .dataframe tbody tr th:only-of-type {\n",
       "        vertical-align: middle;\n",
       "    }\n",
       "\n",
       "    .dataframe tbody tr th {\n",
       "        vertical-align: top;\n",
       "    }\n",
       "\n",
       "    .dataframe thead th {\n",
       "        text-align: right;\n",
       "    }\n",
       "</style>\n",
       "<table border=\"1\" class=\"dataframe\">\n",
       "  <thead>\n",
       "    <tr style=\"text-align: right;\">\n",
       "      <th></th>\n",
       "      <th>RECORD_TIME</th>\n",
       "    </tr>\n",
       "  </thead>\n",
       "  <tbody>\n",
       "    <tr>\n",
       "      <th>0</th>\n",
       "      <td>2021-10-19 17:30</td>\n",
       "    </tr>\n",
       "    <tr>\n",
       "      <th>1</th>\n",
       "      <td>2021-10-19 17:00</td>\n",
       "    </tr>\n",
       "  </tbody>\n",
       "</table>\n",
       "</div>"
      ],
      "text/plain": [
       "        RECORD_TIME\n",
       "0  2021-10-19 17:30\n",
       "1  2021-10-19 17:00"
      ]
     },
     "execution_count": 3,
     "metadata": {},
     "output_type": "execute_result"
    }
   ],
   "source": [
    "timestamps"
   ]
  },
  {
   "cell_type": "code",
   "execution_count": 4,
   "id": "alternate-victory",
   "metadata": {
    "execution": {
     "iopub.execute_input": "2021-10-19T15:30:08.557976Z",
     "iopub.status.busy": "2021-10-19T15:30:08.555662Z",
     "iopub.status.idle": "2021-10-19T15:30:09.406932Z",
     "shell.execute_reply": "2021-10-19T15:30:09.408125Z"
    },
    "papermill": {
     "duration": 0.881492,
     "end_time": "2021-10-19T15:30:09.408520",
     "exception": false,
     "start_time": "2021-10-19T15:30:08.527028",
     "status": "completed"
    },
    "tags": []
   },
   "outputs": [],
   "source": [
    "df = pd.read_sql(\"select * from EBAY_TOP_BERLIN where record_time in (select distinct record_time from EBAY_TOP_BERLIN order by record_time desc limit 2)\", sqlite3.connect(\"UsedObjects.db\"))"
   ]
  },
  {
   "cell_type": "code",
   "execution_count": 5,
   "id": "popular-active",
   "metadata": {
    "execution": {
     "iopub.execute_input": "2021-10-19T15:30:09.480426Z",
     "iopub.status.busy": "2021-10-19T15:30:09.468210Z",
     "iopub.status.idle": "2021-10-19T15:30:09.497832Z",
     "shell.execute_reply": "2021-10-19T15:30:09.499217Z"
    },
    "papermill": {
     "duration": 0.068301,
     "end_time": "2021-10-19T15:30:09.499656",
     "exception": false,
     "start_time": "2021-10-19T15:30:09.431355",
     "status": "completed"
    },
    "tags": []
   },
   "outputs": [],
   "source": [
    "df_pivot = df.pivot_table(index=\"PRODUCT\", columns = \"RECORD_TIME\", values = \"LISTING_COUNT\")"
   ]
  },
  {
   "cell_type": "code",
   "execution_count": 6,
   "id": "union-huntington",
   "metadata": {
    "execution": {
     "iopub.execute_input": "2021-10-19T15:30:09.556994Z",
     "iopub.status.busy": "2021-10-19T15:30:09.554526Z",
     "iopub.status.idle": "2021-10-19T15:30:09.560375Z",
     "shell.execute_reply": "2021-10-19T15:30:09.561721Z"
    },
    "papermill": {
     "duration": 0.042276,
     "end_time": "2021-10-19T15:30:09.562136",
     "exception": false,
     "start_time": "2021-10-19T15:30:09.519860",
     "status": "completed"
    },
    "tags": []
   },
   "outputs": [],
   "source": [
    "df_pivot.columns = [\"stamp_1\", \"stamp_2\"]\n",
    "df_pivot_diff = df_pivot.diff(axis=1)"
   ]
  },
  {
   "cell_type": "code",
   "execution_count": 7,
   "id": "fifth-motion",
   "metadata": {
    "execution": {
     "iopub.execute_input": "2021-10-19T15:30:09.616099Z",
     "iopub.status.busy": "2021-10-19T15:30:09.613841Z",
     "iopub.status.idle": "2021-10-19T15:30:11.101183Z",
     "shell.execute_reply": "2021-10-19T15:30:11.102824Z"
    },
    "papermill": {
     "duration": 1.520676,
     "end_time": "2021-10-19T15:30:11.103314",
     "exception": false,
     "start_time": "2021-10-19T15:30:09.582638",
     "status": "completed"
    },
    "tags": []
   },
   "outputs": [
    {
     "data": {
      "text/plain": [
       "<AxesSubplot:ylabel='PRODUCT'>"
      ]
     },
     "execution_count": 7,
     "metadata": {},
     "output_type": "execute_result"
    },
    {
     "data": {
      "image/png": "[encoded data removed]",
      "text/plain": [
       "<Figure size 432x288 with 1 Axes>"
      ]
     },
     "metadata": {
      "needs_background": "light"
     },
     "output_type": "display_data"
    }
   ],
   "source": [
    "df_pivot_diff.sort_values(\"stamp_2\", ascending = False)[\"stamp_2\"].head(10).plot.barh()"
   ]
  },
  {
   "cell_type": "code",
   "execution_count": null,
   "id": "extra-executive",
   "metadata": {
    "papermill": {
     "duration": 0.021934,
     "end_time": "2021-10-19T15:30:11.148845",
     "exception": false,
     "start_time": "2021-10-19T15:30:11.126911",
     "status": "completed"
    },
    "tags": []
   },
   "outputs": [],
   "source": []
  }
 ],
 "metadata": {
  "kernelspec": {
   "display_name": "Python 3",
   "language": "python",
   "name": "python3"
  },
  "language_info": {
   "codemirror_mode": {
    "name": "ipython",
    "version": 3
   },
   "file_extension": ".py",
   "mimetype": "text/x-python",
   "name": "python",
   "nbconvert_exporter": "python",
   "pygments_lexer": "ipython3",
   "version": "3.9.5"
  },
  "papermill": {
   "default_parameters": {},
   "duration": 7.819939,
   "end_time": "2021-10-19T15:30:12.338605",
   "environment_variables": {},
   "exception": null,
   "input_path": "eBay_Overview.ipynb",
   "output_path": "eBay_Overview.ipynb",
   "parameters": {},
   "start_time": "2021-10-19T15:30:04.518666",
   "version": "2.3.3"
  }
 },
 "nbformat": 4,
 "nbformat_minor": 5
}