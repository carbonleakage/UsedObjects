{
 "cells": [
  {
   "cell_type": "code",
   "execution_count": 1,
   "id": "reverse-picking",
   "metadata": {
    "execution": {
     "iopub.execute_input": "2021-11-15T04:30:07.535719Z",
     "iopub.status.busy": "2021-11-15T04:30:07.533290Z",
     "iopub.status.idle": "2021-11-15T04:30:08.483660Z",
     "shell.execute_reply": "2021-11-15T04:30:08.485982Z"
    },
    "papermill": {
     "duration": 1.002152,
     "end_time": "2021-11-15T04:30:08.486727",
     "exception": false,
     "start_time": "2021-11-15T04:30:07.484575",
     "status": "completed"
    },
    "tags": []
   },
   "outputs": [],
   "source": [
    "import pandas as pd\n",
    "import sqlite3"
   ]
  },
  {
   "cell_type": "code",
   "execution_count": 2,
   "id": "innovative-syndrome",
   "metadata": {
    "execution": {
     "iopub.execute_input": "2021-11-15T04:30:08.551378Z",
     "iopub.status.busy": "2021-11-15T04:30:08.549192Z",
     "iopub.status.idle": "2021-11-15T04:30:09.356674Z",
     "shell.execute_reply": "2021-11-15T04:30:09.359656Z"
    },
    "papermill": {
     "duration": 0.843145,
     "end_time": "2021-11-15T04:30:09.360283",
     "exception": false,
     "start_time": "2021-11-15T04:30:08.517138",
     "status": "completed"
    },
    "tags": []
   },
   "outputs": [],
   "source": [
    "timestamps = pd.read_sql(\"select distinct record_time from EBAY_TOP_BERLIN order by record_time desc limit 2\", sqlite3.connect(\"UsedObjects.db\"))"
   ]
  },
  {
   "cell_type": "code",
   "execution_count": 3,
   "id": "periodic-identification",
   "metadata": {
    "execution": {
     "iopub.execute_input": "2021-11-15T04:30:09.430103Z",
     "iopub.status.busy": "2021-11-15T04:30:09.427847Z",
     "iopub.status.idle": "2021-11-15T04:30:09.450491Z",
     "shell.execute_reply": "2021-11-15T04:30:09.451926Z"
    },
    "papermill": {
     "duration": 0.071751,
     "end_time": "2021-11-15T04:30:09.452410",
     "exception": false,
     "start_time": "2021-11-15T04:30:09.380659",
     "status": "completed"
    },
    "tags": []
   },
   "outputs": [
    {
     "data": {
      "text/html": [
       "<div>\n",
       "<style scoped>\n",
       "    .dataframe tbody tr th:only-of-type {\n",
       "        vertical-align: middle;\n",
       "    }\n",
       "\n",
       "    .dataframe tbody tr th {\n",
       "        vertical-align: top;\n",
       "    }\n",
       "\n",
       "    .dataframe thead th {\n",
       "        text-align: right;\n",
       "    }\n",
       "</style>\n",
       "<table border=\"1\" class=\"dataframe\">\n",
       "  <thead>\n",
       "    <tr style=\"text-align: right;\">\n",
       "      <th></th>\n",
       "      <th>RECORD_TIME</th>\n",
       "    </tr>\n",
       "  </thead>\n",
       "  <tbody>\n",
       "    <tr>\n",
       "      <th>0</th>\n",
       "      <td>2021-11-15 05:30</td>\n",
       "    </tr>\n",
       "    <tr>\n",
       "      <th>1</th>\n",
       "      <td>2021-11-15 05:00</td>\n",
       "    </tr>\n",
       "  </tbody>\n",
       "</table>\n",
       "</div>"
      ],
      "text/plain": [
       "        RECORD_TIME\n",
       "0  2021-11-15 05:30\n",
       "1  2021-11-15 05:00"
      ]
     },
     "execution_count": 3,
     "metadata": {},
     "output_type": "execute_result"
    }
   ],
   "source": [
    "timestamps"
   ]
  },
  {
   "cell_type": "code",
   "execution_count": 4,
   "id": "alternate-victory",
   "metadata": {
    "execution": {
     "iopub.execute_input": "2021-11-15T04:30:09.510305Z",
     "iopub.status.busy": "2021-11-15T04:30:09.508276Z",
     "iopub.status.idle": "2021-11-15T04:30:10.684028Z",
     "shell.execute_reply": "2021-11-15T04:30:10.685473Z"
    },
    "papermill": {
     "duration": 1.21098,
     "end_time": "2021-11-15T04:30:10.685981",
     "exception": false,
     "start_time": "2021-11-15T04:30:09.475001",
     "status": "completed"
    },
    "tags": []
   },
   "outputs": [],
   "source": [
    "df = pd.read_sql(\"select * from EBAY_TOP_BERLIN where record_time in (select distinct record_time from EBAY_TOP_BERLIN order by record_time desc limit 2)\", sqlite3.connect(\"UsedObjects.db\"))"
   ]
  },
  {
   "cell_type": "code",
   "execution_count": 5,
   "id": "popular-active",
   "metadata": {
    "execution": {
     "iopub.execute_input": "2021-11-15T04:30:10.756312Z",
     "iopub.status.busy": "2021-11-15T04:30:10.748274Z",
     "iopub.status.idle": "2021-11-15T04:30:10.780656Z",
     "shell.execute_reply": "2021-11-15T04:30:10.782038Z"
    },
    "papermill": {
     "duration": 0.075892,
     "end_time": "2021-11-15T04:30:10.782509",
     "exception": false,
     "start_time": "2021-11-15T04:30:10.706617",
     "status": "completed"
    },
    "tags": []
   },
   "outputs": [],
   "source": [
    "df_pivot = df.pivot_table(index=\"PRODUCT\", columns = \"RECORD_TIME\", values = \"LISTING_COUNT\")"
   ]
  },
  {
   "cell_type": "code",
   "execution_count": 6,
   "id": "union-huntington",
   "metadata": {
    "execution": {
     "iopub.execute_input": "2021-11-15T04:30:10.845221Z",
     "iopub.status.busy": "2021-11-15T04:30:10.842872Z",
     "iopub.status.idle": "2021-11-15T04:30:10.849085Z",
     "shell.execute_reply": "2021-11-15T04:30:10.850608Z"
    },
    "papermill": {
     "duration": 0.046899,
     "end_time": "2021-11-15T04:30:10.851103",
     "exception": false,
     "start_time": "2021-11-15T04:30:10.804204",
     "status": "completed"
    },
    "tags": []
   },
   "outputs": [],
   "source": [
    "df_pivot.columns = [\"stamp_1\", \"stamp_2\"]\n",
    "df_pivot_diff = df_pivot.diff(axis=1)"
   ]
  },
  {
   "cell_type": "code",
   "execution_count": 7,
   "id": "fifth-motion",
   "metadata": {
    "execution": {
     "iopub.execute_input": "2021-11-15T04:30:10.911391Z",
     "iopub.status.busy": "2021-11-15T04:30:10.908807Z",
     "iopub.status.idle": "2021-11-15T04:30:12.835410Z",
     "shell.execute_reply": "2021-11-15T04:30:12.836844Z"
    },
    "papermill": {
     "duration": 1.964517,
     "end_time": "2021-11-15T04:30:12.837329",
     "exception": false,
     "start_time": "2021-11-15T04:30:10.872812",
     "status": "completed"
    },
    "tags": []
   },
   "outputs": [
    {
     "data": {
      "text/plain": [
       "<AxesSubplot:ylabel='PRODUCT'>"
      ]
     },
     "execution_count": 7,
     "metadata": {},
     "output_type": "execute_result"
    },
    {
     "data": {
      "image/png": "[encoded data removed]",
      "text/plain": [
       "<Figure size 432x288 with 1 Axes>"
      ]
     },
     "metadata": {
      "needs_background": "light"
     },
     "output_type": "display_data"
    }
   ],
   "source": [
    "df_pivot_diff.sort_values(\"stamp_2\", ascending = False)[\"stamp_2\"].head(10).plot.barh()"
   ]
  },
  {
   "cell_type": "code",
   "execution_count": null,
   "id": "extra-executive",
   "metadata": {
    "papermill": {
     "duration": 0.032899,
     "end_time": "2021-11-15T04:30:12.896523",
     "exception": false,
     "start_time": "2021-11-15T04:30:12.863624",
     "status": "completed"
    },
    "tags": []
   },
   "outputs": [],
   "source": []
  }
 ],
 "metadata": {
  "kernelspec": {
   "display_name": "Python 3",
   "language": "python",
   "name": "python3"
  },
  "language_info": {
   "codemirror_mode": {
    "name": "ipython",
    "version": 3
   },
   "file_extension": ".py",
   "mimetype": "text/x-python",
   "name": "python",
   "nbconvert_exporter": "python",
   "pygments_lexer": "ipython3",
   "version": "3.9.5"
  },
  "papermill": {
   "default_parameters": {},
   "duration": 9.94147,
   "end_time": "2021-11-15T04:30:14.721836",
   "environment_variables": {},
   "exception": null,
   "input_path": "eBay_Overview.ipynb",
   "output_path": "eBay_Overview.ipynb",
   "parameters": {},
   "start_time": "2021-11-15T04:30:04.780366",
   "version": "2.3.3"
  }
 },
 "nbformat": 4,
 "nbformat_minor": 5
}