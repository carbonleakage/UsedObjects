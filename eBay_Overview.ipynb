{
 "cells": [
  {
   "cell_type": "code",
   "execution_count": 1,
   "id": "reverse-picking",
   "metadata": {
    "execution": {
     "iopub.execute_input": "2021-11-13T07:00:07.691042Z",
     "iopub.status.busy": "2021-11-13T07:00:07.687136Z",
     "iopub.status.idle": "2021-11-13T07:00:08.630507Z",
     "shell.execute_reply": "2021-11-13T07:00:08.632029Z"
    },
    "papermill": {
     "duration": 0.99215,
     "end_time": "2021-11-13T07:00:08.632799",
     "exception": false,
     "start_time": "2021-11-13T07:00:07.640649",
     "status": "completed"
    },
    "tags": []
   },
   "outputs": [],
   "source": [
    "import pandas as pd\n",
    "import sqlite3"
   ]
  },
  {
   "cell_type": "code",
   "execution_count": 2,
   "id": "innovative-syndrome",
   "metadata": {
    "execution": {
     "iopub.execute_input": "2021-11-13T07:00:08.696787Z",
     "iopub.status.busy": "2021-11-13T07:00:08.694495Z",
     "iopub.status.idle": "2021-11-13T07:00:09.495847Z",
     "shell.execute_reply": "2021-11-13T07:00:09.497524Z"
    },
    "papermill": {
     "duration": 0.838027,
     "end_time": "2021-11-13T07:00:09.498008",
     "exception": false,
     "start_time": "2021-11-13T07:00:08.659981",
     "status": "completed"
    },
    "tags": []
   },
   "outputs": [],
   "source": [
    "timestamps = pd.read_sql(\"select distinct record_time from EBAY_TOP_BERLIN order by record_time desc limit 2\", sqlite3.connect(\"UsedObjects.db\"))"
   ]
  },
  {
   "cell_type": "code",
   "execution_count": 3,
   "id": "periodic-identification",
   "metadata": {
    "execution": {
     "iopub.execute_input": "2021-11-13T07:00:09.571355Z",
     "iopub.status.busy": "2021-11-13T07:00:09.565835Z",
     "iopub.status.idle": "2021-11-13T07:00:09.590815Z",
     "shell.execute_reply": "2021-11-13T07:00:09.592646Z"
    },
    "papermill": {
     "duration": 0.075223,
     "end_time": "2021-11-13T07:00:09.593231",
     "exception": false,
     "start_time": "2021-11-13T07:00:09.518008",
     "status": "completed"
    },
    "tags": []
   },
   "outputs": [
    {
     "data": {
      "text/html": [
       "<div>\n",
       "<style scoped>\n",
       "    .dataframe tbody tr th:only-of-type {\n",
       "        vertical-align: middle;\n",
       "    }\n",
       "\n",
       "    .dataframe tbody tr th {\n",
       "        vertical-align: top;\n",
       "    }\n",
       "\n",
       "    .dataframe thead th {\n",
       "        text-align: right;\n",
       "    }\n",
       "</style>\n",
       "<table border=\"1\" class=\"dataframe\">\n",
       "  <thead>\n",
       "    <tr style=\"text-align: right;\">\n",
       "      <th></th>\n",
       "      <th>RECORD_TIME</th>\n",
       "    </tr>\n",
       "  </thead>\n",
       "  <tbody>\n",
       "    <tr>\n",
       "      <th>0</th>\n",
       "      <td>2021-11-13 08:00</td>\n",
       "    </tr>\n",
       "    <tr>\n",
       "      <th>1</th>\n",
       "      <td>2021-11-13 07:30</td>\n",
       "    </tr>\n",
       "  </tbody>\n",
       "</table>\n",
       "</div>"
      ],
      "text/plain": [
       "        RECORD_TIME\n",
       "0  2021-11-13 08:00\n",
       "1  2021-11-13 07:30"
      ]
     },
     "execution_count": 3,
     "metadata": {},
     "output_type": "execute_result"
    }
   ],
   "source": [
    "timestamps"
   ]
  },
  {
   "cell_type": "code",
   "execution_count": 4,
   "id": "alternate-victory",
   "metadata": {
    "execution": {
     "iopub.execute_input": "2021-11-13T07:00:09.648953Z",
     "iopub.status.busy": "2021-11-13T07:00:09.646950Z",
     "iopub.status.idle": "2021-11-13T07:00:10.807171Z",
     "shell.execute_reply": "2021-11-13T07:00:10.808543Z"
    },
    "papermill": {
     "duration": 1.190674,
     "end_time": "2021-11-13T07:00:10.809038",
     "exception": false,
     "start_time": "2021-11-13T07:00:09.618364",
     "status": "completed"
    },
    "tags": []
   },
   "outputs": [],
   "source": [
    "df = pd.read_sql(\"select * from EBAY_TOP_BERLIN where record_time in (select distinct record_time from EBAY_TOP_BERLIN order by record_time desc limit 2)\", sqlite3.connect(\"UsedObjects.db\"))"
   ]
  },
  {
   "cell_type": "code",
   "execution_count": 5,
   "id": "popular-active",
   "metadata": {
    "execution": {
     "iopub.execute_input": "2021-11-13T07:00:10.886018Z",
     "iopub.status.busy": "2021-11-13T07:00:10.872934Z",
     "iopub.status.idle": "2021-11-13T07:00:10.905938Z",
     "shell.execute_reply": "2021-11-13T07:00:10.904140Z"
    },
    "papermill": {
     "duration": 0.075173,
     "end_time": "2021-11-13T07:00:10.906397",
     "exception": false,
     "start_time": "2021-11-13T07:00:10.831224",
     "status": "completed"
    },
    "tags": []
   },
   "outputs": [],
   "source": [
    "df_pivot = df.pivot_table(index=\"PRODUCT\", columns = \"RECORD_TIME\", values = \"LISTING_COUNT\")"
   ]
  },
  {
   "cell_type": "code",
   "execution_count": 6,
   "id": "union-huntington",
   "metadata": {
    "execution": {
     "iopub.execute_input": "2021-11-13T07:00:10.968367Z",
     "iopub.status.busy": "2021-11-13T07:00:10.966028Z",
     "iopub.status.idle": "2021-11-13T07:00:10.972080Z",
     "shell.execute_reply": "2021-11-13T07:00:10.973498Z"
    },
    "papermill": {
     "duration": 0.045275,
     "end_time": "2021-11-13T07:00:10.974005",
     "exception": false,
     "start_time": "2021-11-13T07:00:10.928730",
     "status": "completed"
    },
    "tags": []
   },
   "outputs": [],
   "source": [
    "df_pivot.columns = [\"stamp_1\", \"stamp_2\"]\n",
    "df_pivot_diff = df_pivot.diff(axis=1)"
   ]
  },
  {
   "cell_type": "code",
   "execution_count": 7,
   "id": "fifth-motion",
   "metadata": {
    "execution": {
     "iopub.execute_input": "2021-11-13T07:00:11.034511Z",
     "iopub.status.busy": "2021-11-13T07:00:11.031885Z",
     "iopub.status.idle": "2021-11-13T07:00:12.920471Z",
     "shell.execute_reply": "2021-11-13T07:00:12.921913Z"
    },
    "papermill": {
     "duration": 1.926599,
     "end_time": "2021-11-13T07:00:12.922383",
     "exception": false,
     "start_time": "2021-11-13T07:00:10.995784",
     "status": "completed"
    },
    "tags": []
   },
   "outputs": [
    {
     "data": {
      "text/plain": [
       "<AxesSubplot:ylabel='PRODUCT'>"
      ]
     },
     "execution_count": 7,
     "metadata": {},
     "output_type": "execute_result"
    },
    {
     "data": {
      "image/png": "[encoded data removed]",
      "text/plain": [
       "<Figure size 432x288 with 1 Axes>"
      ]
     },
     "metadata": {
      "needs_background": "light"
     },
     "output_type": "display_data"
    }
   ],
   "source": [
    "df_pivot_diff.sort_values(\"stamp_2\", ascending = False)[\"stamp_2\"].head(10).plot.barh()"
   ]
  },
  {
   "cell_type": "code",
   "execution_count": null,
   "id": "extra-executive",
   "metadata": {
    "papermill": {
     "duration": 0.025003,
     "end_time": "2021-11-13T07:00:12.971166",
     "exception": false,
     "start_time": "2021-11-13T07:00:12.946163",
     "status": "completed"
    },
    "tags": []
   },
   "outputs": [],
   "source": []
  }
 ],
 "metadata": {
  "kernelspec": {
   "display_name": "Python 3",
   "language": "python",
   "name": "python3"
  },
  "language_info": {
   "codemirror_mode": {
    "name": "ipython",
    "version": 3
   },
   "file_extension": ".py",
   "mimetype": "text/x-python",
   "name": "python",
   "nbconvert_exporter": "python",
   "pygments_lexer": "ipython3",
   "version": "3.9.5"
  },
  "papermill": {
   "default_parameters": {},
   "duration": 8.921666,
   "end_time": "2021-11-13T07:00:13.846659",
   "environment_variables": {},
   "exception": null,
   "input_path": "eBay_Overview.ipynb",
   "output_path": "eBay_Overview.ipynb",
   "parameters": {},
   "start_time": "2021-11-13T07:00:04.924993",
   "version": "2.3.3"
  }
 },
 "nbformat": 4,
 "nbformat_minor": 5
}