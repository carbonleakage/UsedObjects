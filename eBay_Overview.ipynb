{
 "cells": [
  {
   "cell_type": "code",
   "execution_count": 1,
   "id": "reverse-picking",
   "metadata": {
    "execution": {
     "iopub.execute_input": "2021-09-08T22:30:07.344624Z",
     "iopub.status.busy": "2021-09-08T22:30:07.342575Z",
     "iopub.status.idle": "2021-09-08T22:30:08.161744Z",
     "shell.execute_reply": "2021-09-08T22:30:08.160179Z"
    },
    "papermill": {
     "duration": 0.870581,
     "end_time": "2021-09-08T22:30:08.162141",
     "exception": false,
     "start_time": "2021-09-08T22:30:07.291560",
     "status": "completed"
    },
    "tags": []
   },
   "outputs": [],
   "source": [
    "import pandas as pd\n",
    "import sqlite3"
   ]
  },
  {
   "cell_type": "code",
   "execution_count": 2,
   "id": "innovative-syndrome",
   "metadata": {
    "execution": {
     "iopub.execute_input": "2021-09-08T22:30:08.212781Z",
     "iopub.status.busy": "2021-09-08T22:30:08.210813Z",
     "iopub.status.idle": "2021-09-08T22:30:08.445590Z",
     "shell.execute_reply": "2021-09-08T22:30:08.446912Z"
    },
    "papermill": {
     "duration": 0.264408,
     "end_time": "2021-09-08T22:30:08.447346",
     "exception": false,
     "start_time": "2021-09-08T22:30:08.182938",
     "status": "completed"
    },
    "tags": []
   },
   "outputs": [],
   "source": [
    "timestamps = pd.read_sql(\"select distinct record_time from EBAY_TOP_BERLIN order by record_time desc limit 2\", sqlite3.connect(\"UsedObjects.db\"))"
   ]
  },
  {
   "cell_type": "code",
   "execution_count": 3,
   "id": "periodic-identification",
   "metadata": {
    "execution": {
     "iopub.execute_input": "2021-09-08T22:30:08.514927Z",
     "iopub.status.busy": "2021-09-08T22:30:08.512741Z",
     "iopub.status.idle": "2021-09-08T22:30:08.533364Z",
     "shell.execute_reply": "2021-09-08T22:30:08.534653Z"
    },
    "papermill": {
     "duration": 0.068217,
     "end_time": "2021-09-08T22:30:08.535155",
     "exception": false,
     "start_time": "2021-09-08T22:30:08.466938",
     "status": "completed"
    },
    "tags": []
   },
   "outputs": [
    {
     "data": {
      "text/html": [
       "<div>\n",
       "<style scoped>\n",
       "    .dataframe tbody tr th:only-of-type {\n",
       "        vertical-align: middle;\n",
       "    }\n",
       "\n",
       "    .dataframe tbody tr th {\n",
       "        vertical-align: top;\n",
       "    }\n",
       "\n",
       "    .dataframe thead th {\n",
       "        text-align: right;\n",
       "    }\n",
       "</style>\n",
       "<table border=\"1\" class=\"dataframe\">\n",
       "  <thead>\n",
       "    <tr style=\"text-align: right;\">\n",
       "      <th></th>\n",
       "      <th>RECORD_TIME</th>\n",
       "    </tr>\n",
       "  </thead>\n",
       "  <tbody>\n",
       "    <tr>\n",
       "      <th>0</th>\n",
       "      <td>2021-09-09 00:30</td>\n",
       "    </tr>\n",
       "    <tr>\n",
       "      <th>1</th>\n",
       "      <td>2021-09-09 00:00</td>\n",
       "    </tr>\n",
       "  </tbody>\n",
       "</table>\n",
       "</div>"
      ],
      "text/plain": [
       "        RECORD_TIME\n",
       "0  2021-09-09 00:30\n",
       "1  2021-09-09 00:00"
      ]
     },
     "execution_count": 3,
     "metadata": {},
     "output_type": "execute_result"
    }
   ],
   "source": [
    "timestamps"
   ]
  },
  {
   "cell_type": "code",
   "execution_count": 4,
   "id": "alternate-victory",
   "metadata": {
    "execution": {
     "iopub.execute_input": "2021-09-08T22:30:08.587211Z",
     "iopub.status.busy": "2021-09-08T22:30:08.585162Z",
     "iopub.status.idle": "2021-09-08T22:30:08.937782Z",
     "shell.execute_reply": "2021-09-08T22:30:08.939261Z"
    },
    "papermill": {
     "duration": 0.3832,
     "end_time": "2021-09-08T22:30:08.939708",
     "exception": false,
     "start_time": "2021-09-08T22:30:08.556508",
     "status": "completed"
    },
    "tags": []
   },
   "outputs": [],
   "source": [
    "df = pd.read_sql(\"select * from EBAY_TOP_BERLIN where record_time in (select distinct record_time from EBAY_TOP_BERLIN order by record_time desc limit 2)\", sqlite3.connect(\"UsedObjects.db\"))"
   ]
  },
  {
   "cell_type": "code",
   "execution_count": 5,
   "id": "popular-active",
   "metadata": {
    "execution": {
     "iopub.execute_input": "2021-09-08T22:30:09.039751Z",
     "iopub.status.busy": "2021-09-08T22:30:09.026846Z",
     "iopub.status.idle": "2021-09-08T22:30:09.055624Z",
     "shell.execute_reply": "2021-09-08T22:30:09.056917Z"
    },
    "papermill": {
     "duration": 0.075453,
     "end_time": "2021-09-08T22:30:09.057317",
     "exception": false,
     "start_time": "2021-09-08T22:30:08.981864",
     "status": "completed"
    },
    "tags": []
   },
   "outputs": [],
   "source": [
    "df_pivot = df.pivot_table(index=\"PRODUCT\", columns = \"RECORD_TIME\", values = \"LISTING_COUNT\")"
   ]
  },
  {
   "cell_type": "code",
   "execution_count": 6,
   "id": "union-huntington",
   "metadata": {
    "execution": {
     "iopub.execute_input": "2021-09-08T22:30:09.112732Z",
     "iopub.status.busy": "2021-09-08T22:30:09.110631Z",
     "iopub.status.idle": "2021-09-08T22:30:09.116038Z",
     "shell.execute_reply": "2021-09-08T22:30:09.117328Z"
    },
    "papermill": {
     "duration": 0.040476,
     "end_time": "2021-09-08T22:30:09.117738",
     "exception": false,
     "start_time": "2021-09-08T22:30:09.077262",
     "status": "completed"
    },
    "tags": []
   },
   "outputs": [],
   "source": [
    "df_pivot.columns = [\"stamp_1\", \"stamp_2\"]\n",
    "df_pivot_diff = df_pivot.diff(axis=1)"
   ]
  },
  {
   "cell_type": "code",
   "execution_count": 7,
   "id": "fifth-motion",
   "metadata": {
    "execution": {
     "iopub.execute_input": "2021-09-08T22:30:09.173326Z",
     "iopub.status.busy": "2021-09-08T22:30:09.170733Z",
     "iopub.status.idle": "2021-09-08T22:30:10.686470Z",
     "shell.execute_reply": "2021-09-08T22:30:10.688493Z"
    },
    "papermill": {
     "duration": 1.55008,
     "end_time": "2021-09-08T22:30:10.689059",
     "exception": false,
     "start_time": "2021-09-08T22:30:09.138979",
     "status": "completed"
    },
    "tags": []
   },
   "outputs": [
    {
     "data": {
      "text/plain": [
       "<AxesSubplot:ylabel='PRODUCT'>"
      ]
     },
     "execution_count": 7,
     "metadata": {},
     "output_type": "execute_result"
    },
    {
     "data": {
      "image/png": "[encoded data removed]",
      "text/plain": [
       "<Figure size 432x288 with 1 Axes>"
      ]
     },
     "metadata": {
      "needs_background": "light"
     },
     "output_type": "display_data"
    }
   ],
   "source": [
    "df_pivot_diff.sort_values(\"stamp_2\", ascending = False)[\"stamp_2\"].head(10).plot.barh()"
   ]
  },
  {
   "cell_type": "code",
   "execution_count": null,
   "id": "extra-executive",
   "metadata": {
    "papermill": {
     "duration": 0.022155,
     "end_time": "2021-09-08T22:30:10.736125",
     "exception": false,
     "start_time": "2021-09-08T22:30:10.713970",
     "status": "completed"
    },
    "tags": []
   },
   "outputs": [],
   "source": []
  }
 ],
 "metadata": {
  "kernelspec": {
   "display_name": "Python 3",
   "language": "python",
   "name": "python3"
  },
  "language_info": {
   "codemirror_mode": {
    "name": "ipython",
    "version": 3
   },
   "file_extension": ".py",
   "mimetype": "text/x-python",
   "name": "python",
   "nbconvert_exporter": "python",
   "pygments_lexer": "ipython3",
   "version": "3.9.5"
  },
  "papermill": {
   "default_parameters": {},
   "duration": 6.514019,
   "end_time": "2021-09-08T22:30:11.377731",
   "environment_variables": {},
   "exception": null,
   "input_path": "eBay_Overview.ipynb",
   "output_path": "eBay_Overview.ipynb",
   "parameters": {},
   "start_time": "2021-09-08T22:30:04.863712",
   "version": "2.3.3"
  }
 },
 "nbformat": 4,
 "nbformat_minor": 5
}