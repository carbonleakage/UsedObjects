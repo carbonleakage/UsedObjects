{
 "cells": [
  {
   "cell_type": "code",
   "execution_count": 1,
   "id": "reverse-picking",
   "metadata": {
    "execution": {
     "iopub.execute_input": "2021-08-11T06:30:04.216805Z",
     "iopub.status.busy": "2021-08-11T06:30:04.216048Z",
     "iopub.status.idle": "2021-08-11T06:30:04.872693Z",
     "shell.execute_reply": "2021-08-11T06:30:04.873273Z"
    },
    "papermill": {
     "duration": 0.676142,
     "end_time": "2021-08-11T06:30:04.873581",
     "exception": false,
     "start_time": "2021-08-11T06:30:04.197439",
     "status": "completed"
    },
    "tags": []
   },
   "outputs": [],
   "source": [
    "import pandas as pd\n",
    "import sqlite3"
   ]
  },
  {
   "cell_type": "code",
   "execution_count": 2,
   "id": "innovative-syndrome",
   "metadata": {
    "execution": {
     "iopub.execute_input": "2021-08-11T06:30:04.897889Z",
     "iopub.status.busy": "2021-08-11T06:30:04.897117Z",
     "iopub.status.idle": "2021-08-11T06:30:05.107996Z",
     "shell.execute_reply": "2021-08-11T06:30:05.108727Z"
    },
    "papermill": {
     "duration": 0.225993,
     "end_time": "2021-08-11T06:30:05.109038",
     "exception": false,
     "start_time": "2021-08-11T06:30:04.883045",
     "status": "completed"
    },
    "tags": []
   },
   "outputs": [],
   "source": [
    "timestamps = pd.read_sql(\"select distinct record_time from EBAY_TOP_BERLIN order by record_time desc limit 2\", sqlite3.connect(\"UsedObjects.db\"))"
   ]
  },
  {
   "cell_type": "code",
   "execution_count": 3,
   "id": "periodic-identification",
   "metadata": {
    "execution": {
     "iopub.execute_input": "2021-08-11T06:30:05.142821Z",
     "iopub.status.busy": "2021-08-11T06:30:05.141091Z",
     "iopub.status.idle": "2021-08-11T06:30:05.155842Z",
     "shell.execute_reply": "2021-08-11T06:30:05.155277Z"
    },
    "papermill": {
     "duration": 0.037197,
     "end_time": "2021-08-11T06:30:05.155994",
     "exception": false,
     "start_time": "2021-08-11T06:30:05.118797",
     "status": "completed"
    },
    "tags": []
   },
   "outputs": [
    {
     "data": {
      "text/html": [
       "<div>\n",
       "<style scoped>\n",
       "    .dataframe tbody tr th:only-of-type {\n",
       "        vertical-align: middle;\n",
       "    }\n",
       "\n",
       "    .dataframe tbody tr th {\n",
       "        vertical-align: top;\n",
       "    }\n",
       "\n",
       "    .dataframe thead th {\n",
       "        text-align: right;\n",
       "    }\n",
       "</style>\n",
       "<table border=\"1\" class=\"dataframe\">\n",
       "  <thead>\n",
       "    <tr style=\"text-align: right;\">\n",
       "      <th></th>\n",
       "      <th>RECORD_TIME</th>\n",
       "    </tr>\n",
       "  </thead>\n",
       "  <tbody>\n",
       "    <tr>\n",
       "      <th>0</th>\n",
       "      <td>2021-08-11 08:30</td>\n",
       "    </tr>\n",
       "    <tr>\n",
       "      <th>1</th>\n",
       "      <td>2021-08-11 08:00</td>\n",
       "    </tr>\n",
       "  </tbody>\n",
       "</table>\n",
       "</div>"
      ],
      "text/plain": [
       "        RECORD_TIME\n",
       "0  2021-08-11 08:30\n",
       "1  2021-08-11 08:00"
      ]
     },
     "execution_count": 3,
     "metadata": {},
     "output_type": "execute_result"
    }
   ],
   "source": [
    "timestamps"
   ]
  },
  {
   "cell_type": "code",
   "execution_count": 4,
   "id": "alternate-victory",
   "metadata": {
    "execution": {
     "iopub.execute_input": "2021-08-11T06:30:05.181908Z",
     "iopub.status.busy": "2021-08-11T06:30:05.180742Z",
     "iopub.status.idle": "2021-08-11T06:30:05.207137Z",
     "shell.execute_reply": "2021-08-11T06:30:05.207704Z"
    },
    "papermill": {
     "duration": 0.041718,
     "end_time": "2021-08-11T06:30:05.207903",
     "exception": false,
     "start_time": "2021-08-11T06:30:05.166185",
     "status": "completed"
    },
    "tags": []
   },
   "outputs": [],
   "source": [
    "df = pd.read_sql(\"select * from EBAY_TOP_BERLIN where record_time in (select distinct record_time from EBAY_TOP_BERLIN order by record_time desc limit 2)\", sqlite3.connect(\"UsedObjects.db\"))"
   ]
  },
  {
   "cell_type": "code",
   "execution_count": 5,
   "id": "popular-active",
   "metadata": {
    "execution": {
     "iopub.execute_input": "2021-08-11T06:30:05.237155Z",
     "iopub.status.busy": "2021-08-11T06:30:05.236309Z",
     "iopub.status.idle": "2021-08-11T06:30:05.255693Z",
     "shell.execute_reply": "2021-08-11T06:30:05.255059Z"
    },
    "papermill": {
     "duration": 0.03753,
     "end_time": "2021-08-11T06:30:05.255857",
     "exception": false,
     "start_time": "2021-08-11T06:30:05.218327",
     "status": "completed"
    },
    "tags": []
   },
   "outputs": [],
   "source": [
    "df_pivot = df.pivot_table(index=\"PRODUCT\", columns = \"RECORD_TIME\", values = \"LISTING_COUNT\")"
   ]
  },
  {
   "cell_type": "code",
   "execution_count": 6,
   "id": "union-huntington",
   "metadata": {
    "execution": {
     "iopub.execute_input": "2021-08-11T06:30:05.281867Z",
     "iopub.status.busy": "2021-08-11T06:30:05.281130Z",
     "iopub.status.idle": "2021-08-11T06:30:05.283910Z",
     "shell.execute_reply": "2021-08-11T06:30:05.284674Z"
    },
    "papermill": {
     "duration": 0.019929,
     "end_time": "2021-08-11T06:30:05.284983",
     "exception": false,
     "start_time": "2021-08-11T06:30:05.265054",
     "status": "completed"
    },
    "tags": []
   },
   "outputs": [],
   "source": [
    "df_pivot.columns = [\"stamp_1\", \"stamp_2\"]\n",
    "df_pivot_diff = df_pivot.diff(axis=1)"
   ]
  },
  {
   "cell_type": "code",
   "execution_count": 7,
   "id": "fifth-motion",
   "metadata": {
    "execution": {
     "iopub.execute_input": "2021-08-11T06:30:05.314854Z",
     "iopub.status.busy": "2021-08-11T06:30:05.313817Z",
     "iopub.status.idle": "2021-08-11T06:30:05.988895Z",
     "shell.execute_reply": "2021-08-11T06:30:05.989432Z"
    },
    "papermill": {
     "duration": 0.691529,
     "end_time": "2021-08-11T06:30:05.989615",
     "exception": false,
     "start_time": "2021-08-11T06:30:05.298086",
     "status": "completed"
    },
    "tags": []
   },
   "outputs": [
    {
     "data": {
      "text/plain": [
       "<AxesSubplot:ylabel='PRODUCT'>"
      ]
     },
     "execution_count": 7,
     "metadata": {},
     "output_type": "execute_result"
    },
    {
     "data": {
      "image/png": "[encoded data removed]",
      "text/plain": [
       "<Figure size 432x288 with 1 Axes>"
      ]
     },
     "metadata": {
      "needs_background": "light"
     },
     "output_type": "display_data"
    }
   ],
   "source": [
    "df_pivot_diff.sort_values(\"stamp_2\", ascending = False)[\"stamp_2\"].head(10).plot.barh()"
   ]
  },
  {
   "cell_type": "code",
   "execution_count": null,
   "id": "extra-executive",
   "metadata": {
    "papermill": {
     "duration": 0.020128,
     "end_time": "2021-08-11T06:30:06.020355",
     "exception": false,
     "start_time": "2021-08-11T06:30:06.000227",
     "status": "completed"
    },
    "tags": []
   },
   "outputs": [],
   "source": []
  }
 ],
 "metadata": {
  "kernelspec": {
   "display_name": "Python 3",
   "language": "python",
   "name": "python3"
  },
  "language_info": {
   "codemirror_mode": {
    "name": "ipython",
    "version": 3
   },
   "file_extension": ".py",
   "mimetype": "text/x-python",
   "name": "python",
   "nbconvert_exporter": "python",
   "pygments_lexer": "ipython3",
   "version": "3.8.8"
  },
  "papermill": {
   "default_parameters": {},
   "duration": 4.792492,
   "end_time": "2021-08-11T06:30:07.355754",
   "environment_variables": {},
   "exception": null,
   "input_path": "/Users/saravananshanmugam/Carbonleakage_Git/UsedObjects/eBay_Overview.ipynb",
   "output_path": "/Users/saravananshanmugam/Carbonleakage_Git/UsedObjects/eBay_Overview.ipynb",
   "parameters": {},
   "start_time": "2021-08-11T06:30:02.563262",
   "version": "2.3.3"
  }
 },
 "nbformat": 4,
 "nbformat_minor": 5
}