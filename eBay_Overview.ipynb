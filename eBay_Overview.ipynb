{
 "cells": [
  {
   "cell_type": "code",
   "execution_count": 1,
   "id": "reverse-picking",
   "metadata": {
    "execution": {
     "iopub.execute_input": "2021-09-25T19:00:07.167244Z",
     "iopub.status.busy": "2021-09-25T19:00:07.165239Z",
     "iopub.status.idle": "2021-09-25T19:00:07.972454Z",
     "shell.execute_reply": "2021-09-25T19:00:07.973698Z"
    },
    "papermill": {
     "duration": 0.857398,
     "end_time": "2021-09-25T19:00:07.974309",
     "exception": false,
     "start_time": "2021-09-25T19:00:07.116911",
     "status": "completed"
    },
    "tags": []
   },
   "outputs": [],
   "source": [
    "import pandas as pd\n",
    "import sqlite3"
   ]
  },
  {
   "cell_type": "code",
   "execution_count": 2,
   "id": "innovative-syndrome",
   "metadata": {
    "execution": {
     "iopub.execute_input": "2021-09-25T19:00:08.027518Z",
     "iopub.status.busy": "2021-09-25T19:00:08.025133Z",
     "iopub.status.idle": "2021-09-25T19:00:08.405184Z",
     "shell.execute_reply": "2021-09-25T19:00:08.406374Z"
    },
    "papermill": {
     "duration": 0.410097,
     "end_time": "2021-09-25T19:00:08.406765",
     "exception": false,
     "start_time": "2021-09-25T19:00:07.996668",
     "status": "completed"
    },
    "tags": []
   },
   "outputs": [],
   "source": [
    "timestamps = pd.read_sql(\"select distinct record_time from EBAY_TOP_BERLIN order by record_time desc limit 2\", sqlite3.connect(\"UsedObjects.db\"))"
   ]
  },
  {
   "cell_type": "code",
   "execution_count": 3,
   "id": "periodic-identification",
   "metadata": {
    "execution": {
     "iopub.execute_input": "2021-09-25T19:00:08.474736Z",
     "iopub.status.busy": "2021-09-25T19:00:08.472740Z",
     "iopub.status.idle": "2021-09-25T19:00:08.493174Z",
     "shell.execute_reply": "2021-09-25T19:00:08.494734Z"
    },
    "papermill": {
     "duration": 0.0667,
     "end_time": "2021-09-25T19:00:08.495280",
     "exception": false,
     "start_time": "2021-09-25T19:00:08.428580",
     "status": "completed"
    },
    "tags": []
   },
   "outputs": [
    {
     "data": {
      "text/html": [
       "<div>\n",
       "<style scoped>\n",
       "    .dataframe tbody tr th:only-of-type {\n",
       "        vertical-align: middle;\n",
       "    }\n",
       "\n",
       "    .dataframe tbody tr th {\n",
       "        vertical-align: top;\n",
       "    }\n",
       "\n",
       "    .dataframe thead th {\n",
       "        text-align: right;\n",
       "    }\n",
       "</style>\n",
       "<table border=\"1\" class=\"dataframe\">\n",
       "  <thead>\n",
       "    <tr style=\"text-align: right;\">\n",
       "      <th></th>\n",
       "      <th>RECORD_TIME</th>\n",
       "    </tr>\n",
       "  </thead>\n",
       "  <tbody>\n",
       "    <tr>\n",
       "      <th>0</th>\n",
       "      <td>2021-09-25 21:00</td>\n",
       "    </tr>\n",
       "    <tr>\n",
       "      <th>1</th>\n",
       "      <td>2021-09-25 20:30</td>\n",
       "    </tr>\n",
       "  </tbody>\n",
       "</table>\n",
       "</div>"
      ],
      "text/plain": [
       "        RECORD_TIME\n",
       "0  2021-09-25 21:00\n",
       "1  2021-09-25 20:30"
      ]
     },
     "execution_count": 3,
     "metadata": {},
     "output_type": "execute_result"
    }
   ],
   "source": [
    "timestamps"
   ]
  },
  {
   "cell_type": "code",
   "execution_count": 4,
   "id": "alternate-victory",
   "metadata": {
    "execution": {
     "iopub.execute_input": "2021-09-25T19:00:08.548243Z",
     "iopub.status.busy": "2021-09-25T19:00:08.546291Z",
     "iopub.status.idle": "2021-09-25T19:00:09.096246Z",
     "shell.execute_reply": "2021-09-25T19:00:09.097442Z"
    },
    "papermill": {
     "duration": 0.580133,
     "end_time": "2021-09-25T19:00:09.097832",
     "exception": false,
     "start_time": "2021-09-25T19:00:08.517699",
     "status": "completed"
    },
    "tags": []
   },
   "outputs": [],
   "source": [
    "df = pd.read_sql(\"select * from EBAY_TOP_BERLIN where record_time in (select distinct record_time from EBAY_TOP_BERLIN order by record_time desc limit 2)\", sqlite3.connect(\"UsedObjects.db\"))"
   ]
  },
  {
   "cell_type": "code",
   "execution_count": 5,
   "id": "popular-active",
   "metadata": {
    "execution": {
     "iopub.execute_input": "2021-09-25T19:00:09.171013Z",
     "iopub.status.busy": "2021-09-25T19:00:09.164592Z",
     "iopub.status.idle": "2021-09-25T19:00:09.192909Z",
     "shell.execute_reply": "2021-09-25T19:00:09.194190Z"
    },
    "papermill": {
     "duration": 0.070837,
     "end_time": "2021-09-25T19:00:09.194600",
     "exception": false,
     "start_time": "2021-09-25T19:00:09.123763",
     "status": "completed"
    },
    "tags": []
   },
   "outputs": [],
   "source": [
    "df_pivot = df.pivot_table(index=\"PRODUCT\", columns = \"RECORD_TIME\", values = \"LISTING_COUNT\")"
   ]
  },
  {
   "cell_type": "code",
   "execution_count": 6,
   "id": "union-huntington",
   "metadata": {
    "execution": {
     "iopub.execute_input": "2021-09-25T19:00:09.250779Z",
     "iopub.status.busy": "2021-09-25T19:00:09.248475Z",
     "iopub.status.idle": "2021-09-25T19:00:09.254375Z",
     "shell.execute_reply": "2021-09-25T19:00:09.255811Z"
    },
    "papermill": {
     "duration": 0.0421,
     "end_time": "2021-09-25T19:00:09.256251",
     "exception": false,
     "start_time": "2021-09-25T19:00:09.214151",
     "status": "completed"
    },
    "tags": []
   },
   "outputs": [],
   "source": [
    "df_pivot.columns = [\"stamp_1\", \"stamp_2\"]\n",
    "df_pivot_diff = df_pivot.diff(axis=1)"
   ]
  },
  {
   "cell_type": "code",
   "execution_count": 7,
   "id": "fifth-motion",
   "metadata": {
    "execution": {
     "iopub.execute_input": "2021-09-25T19:00:09.310196Z",
     "iopub.status.busy": "2021-09-25T19:00:09.307996Z",
     "iopub.status.idle": "2021-09-25T19:00:10.779931Z",
     "shell.execute_reply": "2021-09-25T19:00:10.781196Z"
    },
    "papermill": {
     "duration": 1.504244,
     "end_time": "2021-09-25T19:00:10.781648",
     "exception": false,
     "start_time": "2021-09-25T19:00:09.277404",
     "status": "completed"
    },
    "tags": []
   },
   "outputs": [
    {
     "data": {
      "text/plain": [
       "<AxesSubplot:ylabel='PRODUCT'>"
      ]
     },
     "execution_count": 7,
     "metadata": {},
     "output_type": "execute_result"
    },
    {
     "data": {
      "image/png": "[encoded data removed]",
      "text/plain": [
       "<Figure size 432x288 with 1 Axes>"
      ]
     },
     "metadata": {
      "needs_background": "light"
     },
     "output_type": "display_data"
    }
   ],
   "source": [
    "df_pivot_diff.sort_values(\"stamp_2\", ascending = False)[\"stamp_2\"].head(10).plot.barh()"
   ]
  },
  {
   "cell_type": "code",
   "execution_count": null,
   "id": "extra-executive",
   "metadata": {
    "papermill": {
     "duration": 0.022069,
     "end_time": "2021-09-25T19:00:10.827973",
     "exception": false,
     "start_time": "2021-09-25T19:00:10.805904",
     "status": "completed"
    },
    "tags": []
   },
   "outputs": [],
   "source": []
  }
 ],
 "metadata": {
  "kernelspec": {
   "display_name": "Python 3",
   "language": "python",
   "name": "python3"
  },
  "language_info": {
   "codemirror_mode": {
    "name": "ipython",
    "version": 3
   },
   "file_extension": ".py",
   "mimetype": "text/x-python",
   "name": "python",
   "nbconvert_exporter": "python",
   "pygments_lexer": "ipython3",
   "version": "3.9.5"
  },
  "papermill": {
   "default_parameters": {},
   "duration": 6.755041,
   "end_time": "2021-09-25T19:00:11.470647",
   "environment_variables": {},
   "exception": null,
   "input_path": "eBay_Overview.ipynb",
   "output_path": "eBay_Overview.ipynb",
   "parameters": {},
   "start_time": "2021-09-25T19:00:04.715606",
   "version": "2.3.3"
  }
 },
 "nbformat": 4,
 "nbformat_minor": 5
}