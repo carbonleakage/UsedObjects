{
 "cells": [
  {
   "cell_type": "code",
   "execution_count": 1,
   "id": "reverse-picking",
   "metadata": {
    "execution": {
     "iopub.execute_input": "2021-09-11T17:00:06.600740Z",
     "iopub.status.busy": "2021-09-11T17:00:06.598691Z",
     "iopub.status.idle": "2021-09-11T17:00:07.410003Z",
     "shell.execute_reply": "2021-09-11T17:00:07.411500Z"
    },
    "papermill": {
     "duration": 0.86273,
     "end_time": "2021-09-11T17:00:07.412192",
     "exception": false,
     "start_time": "2021-09-11T17:00:06.549462",
     "status": "completed"
    },
    "tags": []
   },
   "outputs": [],
   "source": [
    "import pandas as pd\n",
    "import sqlite3"
   ]
  },
  {
   "cell_type": "code",
   "execution_count": 2,
   "id": "innovative-syndrome",
   "metadata": {
    "execution": {
     "iopub.execute_input": "2021-09-11T17:00:07.462768Z",
     "iopub.status.busy": "2021-09-11T17:00:07.460800Z",
     "iopub.status.idle": "2021-09-11T17:00:07.719724Z",
     "shell.execute_reply": "2021-09-11T17:00:07.721163Z"
    },
    "papermill": {
     "duration": 0.289437,
     "end_time": "2021-09-11T17:00:07.721611",
     "exception": false,
     "start_time": "2021-09-11T17:00:07.432174",
     "status": "completed"
    },
    "tags": []
   },
   "outputs": [],
   "source": [
    "timestamps = pd.read_sql(\"select distinct record_time from EBAY_TOP_BERLIN order by record_time desc limit 2\", sqlite3.connect(\"UsedObjects.db\"))"
   ]
  },
  {
   "cell_type": "code",
   "execution_count": 3,
   "id": "periodic-identification",
   "metadata": {
    "execution": {
     "iopub.execute_input": "2021-09-11T17:00:07.789172Z",
     "iopub.status.busy": "2021-09-11T17:00:07.787137Z",
     "iopub.status.idle": "2021-09-11T17:00:07.807348Z",
     "shell.execute_reply": "2021-09-11T17:00:07.808559Z"
    },
    "papermill": {
     "duration": 0.067365,
     "end_time": "2021-09-11T17:00:07.808994",
     "exception": false,
     "start_time": "2021-09-11T17:00:07.741629",
     "status": "completed"
    },
    "tags": []
   },
   "outputs": [
    {
     "data": {
      "text/html": [
       "<div>\n",
       "<style scoped>\n",
       "    .dataframe tbody tr th:only-of-type {\n",
       "        vertical-align: middle;\n",
       "    }\n",
       "\n",
       "    .dataframe tbody tr th {\n",
       "        vertical-align: top;\n",
       "    }\n",
       "\n",
       "    .dataframe thead th {\n",
       "        text-align: right;\n",
       "    }\n",
       "</style>\n",
       "<table border=\"1\" class=\"dataframe\">\n",
       "  <thead>\n",
       "    <tr style=\"text-align: right;\">\n",
       "      <th></th>\n",
       "      <th>RECORD_TIME</th>\n",
       "    </tr>\n",
       "  </thead>\n",
       "  <tbody>\n",
       "    <tr>\n",
       "      <th>0</th>\n",
       "      <td>2021-09-11 19:00</td>\n",
       "    </tr>\n",
       "    <tr>\n",
       "      <th>1</th>\n",
       "      <td>2021-09-11 18:30</td>\n",
       "    </tr>\n",
       "  </tbody>\n",
       "</table>\n",
       "</div>"
      ],
      "text/plain": [
       "        RECORD_TIME\n",
       "0  2021-09-11 19:00\n",
       "1  2021-09-11 18:30"
      ]
     },
     "execution_count": 3,
     "metadata": {},
     "output_type": "execute_result"
    }
   ],
   "source": [
    "timestamps"
   ]
  },
  {
   "cell_type": "code",
   "execution_count": 4,
   "id": "alternate-victory",
   "metadata": {
    "execution": {
     "iopub.execute_input": "2021-09-11T17:00:07.863496Z",
     "iopub.status.busy": "2021-09-11T17:00:07.861133Z",
     "iopub.status.idle": "2021-09-11T17:00:08.251980Z",
     "shell.execute_reply": "2021-09-11T17:00:08.253273Z"
    },
    "papermill": {
     "duration": 0.421661,
     "end_time": "2021-09-11T17:00:08.253680",
     "exception": false,
     "start_time": "2021-09-11T17:00:07.832019",
     "status": "completed"
    },
    "tags": []
   },
   "outputs": [],
   "source": [
    "df = pd.read_sql(\"select * from EBAY_TOP_BERLIN where record_time in (select distinct record_time from EBAY_TOP_BERLIN order by record_time desc limit 2)\", sqlite3.connect(\"UsedObjects.db\"))"
   ]
  },
  {
   "cell_type": "code",
   "execution_count": 5,
   "id": "popular-active",
   "metadata": {
    "execution": {
     "iopub.execute_input": "2021-09-11T17:00:08.332632Z",
     "iopub.status.busy": "2021-09-11T17:00:08.321050Z",
     "iopub.status.idle": "2021-09-11T17:00:08.348901Z",
     "shell.execute_reply": "2021-09-11T17:00:08.350116Z"
    },
    "papermill": {
     "duration": 0.070822,
     "end_time": "2021-09-11T17:00:08.350521",
     "exception": false,
     "start_time": "2021-09-11T17:00:08.279699",
     "status": "completed"
    },
    "tags": []
   },
   "outputs": [],
   "source": [
    "df_pivot = df.pivot_table(index=\"PRODUCT\", columns = \"RECORD_TIME\", values = \"LISTING_COUNT\")"
   ]
  },
  {
   "cell_type": "code",
   "execution_count": 6,
   "id": "union-huntington",
   "metadata": {
    "execution": {
     "iopub.execute_input": "2021-09-11T17:00:08.405942Z",
     "iopub.status.busy": "2021-09-11T17:00:08.403893Z",
     "iopub.status.idle": "2021-09-11T17:00:08.409420Z",
     "shell.execute_reply": "2021-09-11T17:00:08.410697Z"
    },
    "papermill": {
     "duration": 0.040635,
     "end_time": "2021-09-11T17:00:08.411176",
     "exception": false,
     "start_time": "2021-09-11T17:00:08.370541",
     "status": "completed"
    },
    "tags": []
   },
   "outputs": [],
   "source": [
    "df_pivot.columns = [\"stamp_1\", \"stamp_2\"]\n",
    "df_pivot_diff = df_pivot.diff(axis=1)"
   ]
  },
  {
   "cell_type": "code",
   "execution_count": 7,
   "id": "fifth-motion",
   "metadata": {
    "execution": {
     "iopub.execute_input": "2021-09-11T17:00:08.465615Z",
     "iopub.status.busy": "2021-09-11T17:00:08.463175Z",
     "iopub.status.idle": "2021-09-11T17:00:09.943942Z",
     "shell.execute_reply": "2021-09-11T17:00:09.945322Z"
    },
    "papermill": {
     "duration": 1.513955,
     "end_time": "2021-09-11T17:00:09.945806",
     "exception": false,
     "start_time": "2021-09-11T17:00:08.431851",
     "status": "completed"
    },
    "tags": []
   },
   "outputs": [
    {
     "data": {
      "text/plain": [
       "<AxesSubplot:ylabel='PRODUCT'>"
      ]
     },
     "execution_count": 7,
     "metadata": {},
     "output_type": "execute_result"
    },
    {
     "data": {
      "image/png": "[encoded data removed]",
      "text/plain": [
       "<Figure size 432x288 with 1 Axes>"
      ]
     },
     "metadata": {
      "needs_background": "light"
     },
     "output_type": "display_data"
    }
   ],
   "source": [
    "df_pivot_diff.sort_values(\"stamp_2\", ascending = False)[\"stamp_2\"].head(10).plot.barh()"
   ]
  },
  {
   "cell_type": "code",
   "execution_count": null,
   "id": "extra-executive",
   "metadata": {
    "papermill": {
     "duration": 0.022155,
     "end_time": "2021-09-11T17:00:09.993495",
     "exception": false,
     "start_time": "2021-09-11T17:00:09.971340",
     "status": "completed"
    },
    "tags": []
   },
   "outputs": [],
   "source": []
  }
 ],
 "metadata": {
  "kernelspec": {
   "display_name": "Python 3",
   "language": "python",
   "name": "python3"
  },
  "language_info": {
   "codemirror_mode": {
    "name": "ipython",
    "version": 3
   },
   "file_extension": ".py",
   "mimetype": "text/x-python",
   "name": "python",
   "nbconvert_exporter": "python",
   "pygments_lexer": "ipython3",
   "version": "3.9.5"
  },
  "papermill": {
   "default_parameters": {},
   "duration": 6.509699,
   "end_time": "2021-09-11T17:00:10.635453",
   "environment_variables": {},
   "exception": null,
   "input_path": "eBay_Overview.ipynb",
   "output_path": "eBay_Overview.ipynb",
   "parameters": {},
   "start_time": "2021-09-11T17:00:04.125754",
   "version": "2.3.3"
  }
 },
 "nbformat": 4,
 "nbformat_minor": 5
}