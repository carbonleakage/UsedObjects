{
 "cells": [
  {
   "cell_type": "code",
   "execution_count": 1,
   "id": "reverse-picking",
   "metadata": {
    "execution": {
     "iopub.execute_input": "2021-12-05T20:00:07.768052Z",
     "iopub.status.busy": "2021-12-05T20:00:07.765440Z",
     "iopub.status.idle": "2021-12-05T20:00:08.719827Z",
     "shell.execute_reply": "2021-12-05T20:00:08.721492Z"
    },
    "papermill": {
     "duration": 1.005017,
     "end_time": "2021-12-05T20:00:08.722245",
     "exception": false,
     "start_time": "2021-12-05T20:00:07.717228",
     "status": "completed"
    },
    "tags": []
   },
   "outputs": [],
   "source": [
    "import pandas as pd\n",
    "import sqlite3"
   ]
  },
  {
   "cell_type": "code",
   "execution_count": 2,
   "id": "innovative-syndrome",
   "metadata": {
    "execution": {
     "iopub.execute_input": "2021-12-05T20:00:08.785377Z",
     "iopub.status.busy": "2021-12-05T20:00:08.782844Z",
     "iopub.status.idle": "2021-12-05T20:00:09.790475Z",
     "shell.execute_reply": "2021-12-05T20:00:09.792005Z"
    },
    "papermill": {
     "duration": 1.04269,
     "end_time": "2021-12-05T20:00:09.792507",
     "exception": false,
     "start_time": "2021-12-05T20:00:08.749817",
     "status": "completed"
    },
    "tags": []
   },
   "outputs": [],
   "source": [
    "timestamps = pd.read_sql(\"select distinct record_time from EBAY_TOP_BERLIN order by record_time desc limit 2\", sqlite3.connect(\"UsedObjects.db\"))"
   ]
  },
  {
   "cell_type": "code",
   "execution_count": 3,
   "id": "periodic-identification",
   "metadata": {
    "execution": {
     "iopub.execute_input": "2021-12-05T20:00:09.866134Z",
     "iopub.status.busy": "2021-12-05T20:00:09.853155Z",
     "iopub.status.idle": "2021-12-05T20:00:09.889081Z",
     "shell.execute_reply": "2021-12-05T20:00:09.887521Z"
    },
    "papermill": {
     "duration": 0.075387,
     "end_time": "2021-12-05T20:00:09.889501",
     "exception": false,
     "start_time": "2021-12-05T20:00:09.814114",
     "status": "completed"
    },
    "tags": []
   },
   "outputs": [
    {
     "data": {
      "text/html": [
       "<div>\n",
       "<style scoped>\n",
       "    .dataframe tbody tr th:only-of-type {\n",
       "        vertical-align: middle;\n",
       "    }\n",
       "\n",
       "    .dataframe tbody tr th {\n",
       "        vertical-align: top;\n",
       "    }\n",
       "\n",
       "    .dataframe thead th {\n",
       "        text-align: right;\n",
       "    }\n",
       "</style>\n",
       "<table border=\"1\" class=\"dataframe\">\n",
       "  <thead>\n",
       "    <tr style=\"text-align: right;\">\n",
       "      <th></th>\n",
       "      <th>RECORD_TIME</th>\n",
       "    </tr>\n",
       "  </thead>\n",
       "  <tbody>\n",
       "    <tr>\n",
       "      <th>0</th>\n",
       "      <td>2021-12-05 21:00</td>\n",
       "    </tr>\n",
       "    <tr>\n",
       "      <th>1</th>\n",
       "      <td>2021-12-05 20:30</td>\n",
       "    </tr>\n",
       "  </tbody>\n",
       "</table>\n",
       "</div>"
      ],
      "text/plain": [
       "        RECORD_TIME\n",
       "0  2021-12-05 21:00\n",
       "1  2021-12-05 20:30"
      ]
     },
     "execution_count": 3,
     "metadata": {},
     "output_type": "execute_result"
    }
   ],
   "source": [
    "timestamps"
   ]
  },
  {
   "cell_type": "code",
   "execution_count": 4,
   "id": "alternate-victory",
   "metadata": {
    "execution": {
     "iopub.execute_input": "2021-12-05T20:00:09.945177Z",
     "iopub.status.busy": "2021-12-05T20:00:09.942969Z",
     "iopub.status.idle": "2021-12-05T20:00:11.473455Z",
     "shell.execute_reply": "2021-12-05T20:00:11.474858Z"
    },
    "papermill": {
     "duration": 1.564384,
     "end_time": "2021-12-05T20:00:11.475368",
     "exception": false,
     "start_time": "2021-12-05T20:00:09.910984",
     "status": "completed"
    },
    "tags": []
   },
   "outputs": [],
   "source": [
    "df = pd.read_sql(\"select * from EBAY_TOP_BERLIN where record_time in (select distinct record_time from EBAY_TOP_BERLIN order by record_time desc limit 2)\", sqlite3.connect(\"UsedObjects.db\"))"
   ]
  },
  {
   "cell_type": "code",
   "execution_count": 5,
   "id": "popular-active",
   "metadata": {
    "execution": {
     "iopub.execute_input": "2021-12-05T20:00:11.547931Z",
     "iopub.status.busy": "2021-12-05T20:00:11.538603Z",
     "iopub.status.idle": "2021-12-05T20:00:11.574629Z",
     "shell.execute_reply": "2021-12-05T20:00:11.576117Z"
    },
    "papermill": {
     "duration": 0.080617,
     "end_time": "2021-12-05T20:00:11.576623",
     "exception": false,
     "start_time": "2021-12-05T20:00:11.496006",
     "status": "completed"
    },
    "tags": []
   },
   "outputs": [],
   "source": [
    "df_pivot = df.pivot_table(index=\"PRODUCT\", columns = \"RECORD_TIME\", values = \"LISTING_COUNT\")"
   ]
  },
  {
   "cell_type": "code",
   "execution_count": 6,
   "id": "union-huntington",
   "metadata": {
    "execution": {
     "iopub.execute_input": "2021-12-05T20:00:11.635526Z",
     "iopub.status.busy": "2021-12-05T20:00:11.633225Z",
     "iopub.status.idle": "2021-12-05T20:00:11.648979Z",
     "shell.execute_reply": "2021-12-05T20:00:11.647299Z"
    },
    "papermill": {
     "duration": 0.050893,
     "end_time": "2021-12-05T20:00:11.649431",
     "exception": false,
     "start_time": "2021-12-05T20:00:11.598538",
     "status": "completed"
    },
    "tags": []
   },
   "outputs": [],
   "source": [
    "df_pivot.columns = [\"stamp_1\", \"stamp_2\"]\n",
    "df_pivot_diff = df_pivot.diff(axis=1)"
   ]
  },
  {
   "cell_type": "code",
   "execution_count": 7,
   "id": "fifth-motion",
   "metadata": {
    "execution": {
     "iopub.execute_input": "2021-12-05T20:00:11.709059Z",
     "iopub.status.busy": "2021-12-05T20:00:11.706421Z",
     "iopub.status.idle": "2021-12-05T20:00:13.650073Z",
     "shell.execute_reply": "2021-12-05T20:00:13.651818Z"
    },
    "papermill": {
     "duration": 1.981238,
     "end_time": "2021-12-05T20:00:13.652416",
     "exception": false,
     "start_time": "2021-12-05T20:00:11.671178",
     "status": "completed"
    },
    "tags": []
   },
   "outputs": [
    {
     "data": {
      "text/plain": [
       "<AxesSubplot:ylabel='PRODUCT'>"
      ]
     },
     "execution_count": 7,
     "metadata": {},
     "output_type": "execute_result"
    },
    {
     "data": {
      "image/png": "[encoded data removed]",
      "text/plain": [
       "<Figure size 432x288 with 1 Axes>"
      ]
     },
     "metadata": {
      "needs_background": "light"
     },
     "output_type": "display_data"
    }
   ],
   "source": [
    "df_pivot_diff.sort_values(\"stamp_2\", ascending = False)[\"stamp_2\"].head(10).plot.barh()"
   ]
  },
  {
   "cell_type": "code",
   "execution_count": null,
   "id": "extra-executive",
   "metadata": {
    "papermill": {
     "duration": 0.037248,
     "end_time": "2021-12-05T20:00:13.718853",
     "exception": false,
     "start_time": "2021-12-05T20:00:13.681605",
     "status": "completed"
    },
    "tags": []
   },
   "outputs": [],
   "source": []
  }
 ],
 "metadata": {
  "kernelspec": {
   "display_name": "Python 3",
   "language": "python",
   "name": "python3"
  },
  "language_info": {
   "codemirror_mode": {
    "name": "ipython",
    "version": 3
   },
   "file_extension": ".py",
   "mimetype": "text/x-python",
   "name": "python",
   "nbconvert_exporter": "python",
   "pygments_lexer": "ipython3",
   "version": "3.9.5"
  },
  "papermill": {
   "default_parameters": {},
   "duration": 9.511912,
   "end_time": "2021-12-05T20:00:14.497941",
   "environment_variables": {},
   "exception": null,
   "input_path": "eBay_Overview.ipynb",
   "output_path": "eBay_Overview.ipynb",
   "parameters": {},
   "start_time": "2021-12-05T20:00:04.986029",
   "version": "2.3.3"
  }
 },
 "nbformat": 4,
 "nbformat_minor": 5
}