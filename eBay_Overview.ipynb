{
 "cells": [
  {
   "cell_type": "code",
   "execution_count": 1,
   "id": "reverse-picking",
   "metadata": {
    "execution": {
     "iopub.execute_input": "2021-10-24T15:00:06.731035Z",
     "iopub.status.busy": "2021-10-24T15:00:06.729072Z",
     "iopub.status.idle": "2021-10-24T15:00:07.543346Z",
     "shell.execute_reply": "2021-10-24T15:00:07.541575Z"
    },
    "papermill": {
     "duration": 0.865004,
     "end_time": "2021-10-24T15:00:07.543782",
     "exception": false,
     "start_time": "2021-10-24T15:00:06.678778",
     "status": "completed"
    },
    "tags": []
   },
   "outputs": [],
   "source": [
    "import pandas as pd\n",
    "import sqlite3"
   ]
  },
  {
   "cell_type": "code",
   "execution_count": 2,
   "id": "innovative-syndrome",
   "metadata": {
    "execution": {
     "iopub.execute_input": "2021-10-24T15:00:07.593478Z",
     "iopub.status.busy": "2021-10-24T15:00:07.591427Z",
     "iopub.status.idle": "2021-10-24T15:00:08.236633Z",
     "shell.execute_reply": "2021-10-24T15:00:08.237980Z"
    },
    "papermill": {
     "duration": 0.675073,
     "end_time": "2021-10-24T15:00:08.238393",
     "exception": false,
     "start_time": "2021-10-24T15:00:07.563320",
     "status": "completed"
    },
    "tags": []
   },
   "outputs": [],
   "source": [
    "timestamps = pd.read_sql(\"select distinct record_time from EBAY_TOP_BERLIN order by record_time desc limit 2\", sqlite3.connect(\"UsedObjects.db\"))"
   ]
  },
  {
   "cell_type": "code",
   "execution_count": 3,
   "id": "periodic-identification",
   "metadata": {
    "execution": {
     "iopub.execute_input": "2021-10-24T15:00:08.313245Z",
     "iopub.status.busy": "2021-10-24T15:00:08.311112Z",
     "iopub.status.idle": "2021-10-24T15:00:08.331809Z",
     "shell.execute_reply": "2021-10-24T15:00:08.333323Z"
    },
    "papermill": {
     "duration": 0.070388,
     "end_time": "2021-10-24T15:00:08.333780",
     "exception": false,
     "start_time": "2021-10-24T15:00:08.263392",
     "status": "completed"
    },
    "tags": []
   },
   "outputs": [
    {
     "data": {
      "text/html": [
       "<div>\n",
       "<style scoped>\n",
       "    .dataframe tbody tr th:only-of-type {\n",
       "        vertical-align: middle;\n",
       "    }\n",
       "\n",
       "    .dataframe tbody tr th {\n",
       "        vertical-align: top;\n",
       "    }\n",
       "\n",
       "    .dataframe thead th {\n",
       "        text-align: right;\n",
       "    }\n",
       "</style>\n",
       "<table border=\"1\" class=\"dataframe\">\n",
       "  <thead>\n",
       "    <tr style=\"text-align: right;\">\n",
       "      <th></th>\n",
       "      <th>RECORD_TIME</th>\n",
       "    </tr>\n",
       "  </thead>\n",
       "  <tbody>\n",
       "    <tr>\n",
       "      <th>0</th>\n",
       "      <td>2021-10-24 17:00</td>\n",
       "    </tr>\n",
       "    <tr>\n",
       "      <th>1</th>\n",
       "      <td>2021-10-24 16:30</td>\n",
       "    </tr>\n",
       "  </tbody>\n",
       "</table>\n",
       "</div>"
      ],
      "text/plain": [
       "        RECORD_TIME\n",
       "0  2021-10-24 17:00\n",
       "1  2021-10-24 16:30"
      ]
     },
     "execution_count": 3,
     "metadata": {},
     "output_type": "execute_result"
    }
   ],
   "source": [
    "timestamps"
   ]
  },
  {
   "cell_type": "code",
   "execution_count": 4,
   "id": "alternate-victory",
   "metadata": {
    "execution": {
     "iopub.execute_input": "2021-10-24T15:00:08.386297Z",
     "iopub.status.busy": "2021-10-24T15:00:08.384359Z",
     "iopub.status.idle": "2021-10-24T15:00:09.312599Z",
     "shell.execute_reply": "2021-10-24T15:00:09.313916Z"
    },
    "papermill": {
     "duration": 0.957977,
     "end_time": "2021-10-24T15:00:09.314343",
     "exception": false,
     "start_time": "2021-10-24T15:00:08.356366",
     "status": "completed"
    },
    "tags": []
   },
   "outputs": [],
   "source": [
    "df = pd.read_sql(\"select * from EBAY_TOP_BERLIN where record_time in (select distinct record_time from EBAY_TOP_BERLIN order by record_time desc limit 2)\", sqlite3.connect(\"UsedObjects.db\"))"
   ]
  },
  {
   "cell_type": "code",
   "execution_count": 5,
   "id": "popular-active",
   "metadata": {
    "execution": {
     "iopub.execute_input": "2021-10-24T15:00:09.385138Z",
     "iopub.status.busy": "2021-10-24T15:00:09.373537Z",
     "iopub.status.idle": "2021-10-24T15:00:09.402800Z",
     "shell.execute_reply": "2021-10-24T15:00:09.404061Z"
    },
    "papermill": {
     "duration": 0.068339,
     "end_time": "2021-10-24T15:00:09.404504",
     "exception": false,
     "start_time": "2021-10-24T15:00:09.336165",
     "status": "completed"
    },
    "tags": []
   },
   "outputs": [],
   "source": [
    "df_pivot = df.pivot_table(index=\"PRODUCT\", columns = \"RECORD_TIME\", values = \"LISTING_COUNT\")"
   ]
  },
  {
   "cell_type": "code",
   "execution_count": 6,
   "id": "union-huntington",
   "metadata": {
    "execution": {
     "iopub.execute_input": "2021-10-24T15:00:09.461507Z",
     "iopub.status.busy": "2021-10-24T15:00:09.459407Z",
     "iopub.status.idle": "2021-10-24T15:00:09.464759Z",
     "shell.execute_reply": "2021-10-24T15:00:09.466139Z"
    },
    "papermill": {
     "duration": 0.040989,
     "end_time": "2021-10-24T15:00:09.466557",
     "exception": false,
     "start_time": "2021-10-24T15:00:09.425568",
     "status": "completed"
    },
    "tags": []
   },
   "outputs": [],
   "source": [
    "df_pivot.columns = [\"stamp_1\", \"stamp_2\"]\n",
    "df_pivot_diff = df_pivot.diff(axis=1)"
   ]
  },
  {
   "cell_type": "code",
   "execution_count": 7,
   "id": "fifth-motion",
   "metadata": {
    "execution": {
     "iopub.execute_input": "2021-10-24T15:00:09.520361Z",
     "iopub.status.busy": "2021-10-24T15:00:09.517977Z",
     "iopub.status.idle": "2021-10-24T15:00:11.024291Z",
     "shell.execute_reply": "2021-10-24T15:00:11.025531Z"
    },
    "papermill": {
     "duration": 1.539125,
     "end_time": "2021-10-24T15:00:11.025963",
     "exception": false,
     "start_time": "2021-10-24T15:00:09.486838",
     "status": "completed"
    },
    "tags": []
   },
   "outputs": [
    {
     "data": {
      "text/plain": [
       "<AxesSubplot:ylabel='PRODUCT'>"
      ]
     },
     "execution_count": 7,
     "metadata": {},
     "output_type": "execute_result"
    },
    {
     "data": {
      "image/png": "[encoded data removed]",
      "text/plain": [
       "<Figure size 432x288 with 1 Axes>"
      ]
     },
     "metadata": {
      "needs_background": "light"
     },
     "output_type": "display_data"
    }
   ],
   "source": [
    "df_pivot_diff.sort_values(\"stamp_2\", ascending = False)[\"stamp_2\"].head(10).plot.barh()"
   ]
  },
  {
   "cell_type": "code",
   "execution_count": null,
   "id": "extra-executive",
   "metadata": {
    "papermill": {
     "duration": 0.022158,
     "end_time": "2021-10-24T15:00:11.071857",
     "exception": false,
     "start_time": "2021-10-24T15:00:11.049699",
     "status": "completed"
    },
    "tags": []
   },
   "outputs": [],
   "source": []
  }
 ],
 "metadata": {
  "kernelspec": {
   "display_name": "Python 3",
   "language": "python",
   "name": "python3"
  },
  "language_info": {
   "codemirror_mode": {
    "name": "ipython",
    "version": 3
   },
   "file_extension": ".py",
   "mimetype": "text/x-python",
   "name": "python",
   "nbconvert_exporter": "python",
   "pygments_lexer": "ipython3",
   "version": "3.9.5"
  },
  "papermill": {
   "default_parameters": {},
   "duration": 7.56246,
   "end_time": "2021-10-24T15:00:11.817224",
   "environment_variables": {},
   "exception": null,
   "input_path": "eBay_Overview.ipynb",
   "output_path": "eBay_Overview.ipynb",
   "parameters": {},
   "start_time": "2021-10-24T15:00:04.254764",
   "version": "2.3.3"
  }
 },
 "nbformat": 4,
 "nbformat_minor": 5
}