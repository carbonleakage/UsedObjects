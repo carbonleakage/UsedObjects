{
 "cells": [
  {
   "cell_type": "code",
   "execution_count": 1,
   "id": "reverse-picking",
   "metadata": {
    "execution": {
     "iopub.execute_input": "2021-10-09T09:00:07.380356Z",
     "iopub.status.busy": "2021-10-09T09:00:07.378336Z",
     "iopub.status.idle": "2021-10-09T09:00:08.193643Z",
     "shell.execute_reply": "2021-10-09T09:00:08.192063Z"
    },
    "papermill": {
     "duration": 0.864377,
     "end_time": "2021-10-09T09:00:08.194030",
     "exception": false,
     "start_time": "2021-10-09T09:00:07.329653",
     "status": "completed"
    },
    "tags": []
   },
   "outputs": [],
   "source": [
    "import pandas as pd\n",
    "import sqlite3"
   ]
  },
  {
   "cell_type": "code",
   "execution_count": 2,
   "id": "innovative-syndrome",
   "metadata": {
    "execution": {
     "iopub.execute_input": "2021-10-09T09:00:08.244286Z",
     "iopub.status.busy": "2021-10-09T09:00:08.242313Z",
     "iopub.status.idle": "2021-10-09T09:00:08.736412Z",
     "shell.execute_reply": "2021-10-09T09:00:08.738209Z"
    },
    "papermill": {
     "duration": 0.524357,
     "end_time": "2021-10-09T09:00:08.738749",
     "exception": false,
     "start_time": "2021-10-09T09:00:08.214392",
     "status": "completed"
    },
    "tags": []
   },
   "outputs": [],
   "source": [
    "timestamps = pd.read_sql(\"select distinct record_time from EBAY_TOP_BERLIN order by record_time desc limit 2\", sqlite3.connect(\"UsedObjects.db\"))"
   ]
  },
  {
   "cell_type": "code",
   "execution_count": 3,
   "id": "periodic-identification",
   "metadata": {
    "execution": {
     "iopub.execute_input": "2021-10-09T09:00:08.802302Z",
     "iopub.status.busy": "2021-10-09T09:00:08.800303Z",
     "iopub.status.idle": "2021-10-09T09:00:08.820184Z",
     "shell.execute_reply": "2021-10-09T09:00:08.821508Z"
    },
    "papermill": {
     "duration": 0.064116,
     "end_time": "2021-10-09T09:00:08.821930",
     "exception": false,
     "start_time": "2021-10-09T09:00:08.757814",
     "status": "completed"
    },
    "tags": []
   },
   "outputs": [
    {
     "data": {
      "text/html": [
       "<div>\n",
       "<style scoped>\n",
       "    .dataframe tbody tr th:only-of-type {\n",
       "        vertical-align: middle;\n",
       "    }\n",
       "\n",
       "    .dataframe tbody tr th {\n",
       "        vertical-align: top;\n",
       "    }\n",
       "\n",
       "    .dataframe thead th {\n",
       "        text-align: right;\n",
       "    }\n",
       "</style>\n",
       "<table border=\"1\" class=\"dataframe\">\n",
       "  <thead>\n",
       "    <tr style=\"text-align: right;\">\n",
       "      <th></th>\n",
       "      <th>RECORD_TIME</th>\n",
       "    </tr>\n",
       "  </thead>\n",
       "  <tbody>\n",
       "    <tr>\n",
       "      <th>0</th>\n",
       "      <td>2021-10-09 11:00</td>\n",
       "    </tr>\n",
       "    <tr>\n",
       "      <th>1</th>\n",
       "      <td>2021-10-09 10:30</td>\n",
       "    </tr>\n",
       "  </tbody>\n",
       "</table>\n",
       "</div>"
      ],
      "text/plain": [
       "        RECORD_TIME\n",
       "0  2021-10-09 11:00\n",
       "1  2021-10-09 10:30"
      ]
     },
     "execution_count": 3,
     "metadata": {},
     "output_type": "execute_result"
    }
   ],
   "source": [
    "timestamps"
   ]
  },
  {
   "cell_type": "code",
   "execution_count": 4,
   "id": "alternate-victory",
   "metadata": {
    "execution": {
     "iopub.execute_input": "2021-10-09T09:00:08.881354Z",
     "iopub.status.busy": "2021-10-09T09:00:08.879505Z",
     "iopub.status.idle": "2021-10-09T09:00:09.594268Z",
     "shell.execute_reply": "2021-10-09T09:00:09.595612Z"
    },
    "papermill": {
     "duration": 0.747775,
     "end_time": "2021-10-09T09:00:09.596036",
     "exception": false,
     "start_time": "2021-10-09T09:00:08.848261",
     "status": "completed"
    },
    "tags": []
   },
   "outputs": [],
   "source": [
    "df = pd.read_sql(\"select * from EBAY_TOP_BERLIN where record_time in (select distinct record_time from EBAY_TOP_BERLIN order by record_time desc limit 2)\", sqlite3.connect(\"UsedObjects.db\"))"
   ]
  },
  {
   "cell_type": "code",
   "execution_count": 5,
   "id": "popular-active",
   "metadata": {
    "execution": {
     "iopub.execute_input": "2021-10-09T09:00:09.667028Z",
     "iopub.status.busy": "2021-10-09T09:00:09.654031Z",
     "iopub.status.idle": "2021-10-09T09:00:09.684546Z",
     "shell.execute_reply": "2021-10-09T09:00:09.685931Z"
    },
    "papermill": {
     "duration": 0.069858,
     "end_time": "2021-10-09T09:00:09.686375",
     "exception": false,
     "start_time": "2021-10-09T09:00:09.616517",
     "status": "completed"
    },
    "tags": []
   },
   "outputs": [],
   "source": [
    "df_pivot = df.pivot_table(index=\"PRODUCT\", columns = \"RECORD_TIME\", values = \"LISTING_COUNT\")"
   ]
  },
  {
   "cell_type": "code",
   "execution_count": 6,
   "id": "union-huntington",
   "metadata": {
    "execution": {
     "iopub.execute_input": "2021-10-09T09:00:09.742858Z",
     "iopub.status.busy": "2021-10-09T09:00:09.740800Z",
     "iopub.status.idle": "2021-10-09T09:00:09.746069Z",
     "shell.execute_reply": "2021-10-09T09:00:09.747403Z"
    },
    "papermill": {
     "duration": 0.040759,
     "end_time": "2021-10-09T09:00:09.747831",
     "exception": false,
     "start_time": "2021-10-09T09:00:09.707072",
     "status": "completed"
    },
    "tags": []
   },
   "outputs": [],
   "source": [
    "df_pivot.columns = [\"stamp_1\", \"stamp_2\"]\n",
    "df_pivot_diff = df_pivot.diff(axis=1)"
   ]
  },
  {
   "cell_type": "code",
   "execution_count": 7,
   "id": "fifth-motion",
   "metadata": {
    "execution": {
     "iopub.execute_input": "2021-10-09T09:00:09.804115Z",
     "iopub.status.busy": "2021-10-09T09:00:09.799775Z",
     "iopub.status.idle": "2021-10-09T09:00:11.282337Z",
     "shell.execute_reply": "2021-10-09T09:00:11.283918Z"
    },
    "papermill": {
     "duration": 1.515412,
     "end_time": "2021-10-09T09:00:11.284394",
     "exception": false,
     "start_time": "2021-10-09T09:00:09.768982",
     "status": "completed"
    },
    "tags": []
   },
   "outputs": [
    {
     "data": {
      "text/plain": [
       "<AxesSubplot:ylabel='PRODUCT'>"
      ]
     },
     "execution_count": 7,
     "metadata": {},
     "output_type": "execute_result"
    },
    {
     "data": {
      "image/png": "[encoded data removed]",
      "text/plain": [
       "<Figure size 432x288 with 1 Axes>"
      ]
     },
     "metadata": {
      "needs_background": "light"
     },
     "output_type": "display_data"
    }
   ],
   "source": [
    "df_pivot_diff.sort_values(\"stamp_2\", ascending = False)[\"stamp_2\"].head(10).plot.barh()"
   ]
  },
  {
   "cell_type": "code",
   "execution_count": null,
   "id": "extra-executive",
   "metadata": {
    "papermill": {
     "duration": 0.021705,
     "end_time": "2021-10-09T09:00:11.330336",
     "exception": false,
     "start_time": "2021-10-09T09:00:11.308631",
     "status": "completed"
    },
    "tags": []
   },
   "outputs": [],
   "source": []
  }
 ],
 "metadata": {
  "kernelspec": {
   "display_name": "Python 3",
   "language": "python",
   "name": "python3"
  },
  "language_info": {
   "codemirror_mode": {
    "name": "ipython",
    "version": 3
   },
   "file_extension": ".py",
   "mimetype": "text/x-python",
   "name": "python",
   "nbconvert_exporter": "python",
   "pygments_lexer": "ipython3",
   "version": "3.9.5"
  },
  "papermill": {
   "default_parameters": {},
   "duration": 7.826455,
   "end_time": "2021-10-09T09:00:12.742135",
   "environment_variables": {},
   "exception": null,
   "input_path": "eBay_Overview.ipynb",
   "output_path": "eBay_Overview.ipynb",
   "parameters": {},
   "start_time": "2021-10-09T09:00:04.915680",
   "version": "2.3.3"
  }
 },
 "nbformat": 4,
 "nbformat_minor": 5
}