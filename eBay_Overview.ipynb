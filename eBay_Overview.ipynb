{
 "cells": [
  {
   "cell_type": "code",
   "execution_count": 1,
   "id": "reverse-picking",
   "metadata": {
    "execution": {
     "iopub.execute_input": "2021-08-28T09:30:07.527311Z",
     "iopub.status.busy": "2021-08-28T09:30:07.525335Z",
     "iopub.status.idle": "2021-08-28T09:30:08.330034Z",
     "shell.execute_reply": "2021-08-28T09:30:08.331293Z"
    },
    "papermill": {
     "duration": 0.855287,
     "end_time": "2021-08-28T09:30:08.331913",
     "exception": false,
     "start_time": "2021-08-28T09:30:07.476626",
     "status": "completed"
    },
    "tags": []
   },
   "outputs": [],
   "source": [
    "import pandas as pd\n",
    "import sqlite3"
   ]
  },
  {
   "cell_type": "code",
   "execution_count": 2,
   "id": "innovative-syndrome",
   "metadata": {
    "execution": {
     "iopub.execute_input": "2021-08-28T09:30:08.381922Z",
     "iopub.status.busy": "2021-08-28T09:30:08.379963Z",
     "iopub.status.idle": "2021-08-28T09:30:08.527783Z",
     "shell.execute_reply": "2021-08-28T09:30:08.529195Z"
    },
    "papermill": {
     "duration": 0.177605,
     "end_time": "2021-08-28T09:30:08.529622",
     "exception": false,
     "start_time": "2021-08-28T09:30:08.352017",
     "status": "completed"
    },
    "tags": []
   },
   "outputs": [],
   "source": [
    "timestamps = pd.read_sql(\"select distinct record_time from EBAY_TOP_BERLIN order by record_time desc limit 2\", sqlite3.connect(\"UsedObjects.db\"))"
   ]
  },
  {
   "cell_type": "code",
   "execution_count": 3,
   "id": "periodic-identification",
   "metadata": {
    "execution": {
     "iopub.execute_input": "2021-08-28T09:30:08.597229Z",
     "iopub.status.busy": "2021-08-28T09:30:08.595138Z",
     "iopub.status.idle": "2021-08-28T09:30:08.615099Z",
     "shell.execute_reply": "2021-08-28T09:30:08.616341Z"
    },
    "papermill": {
     "duration": 0.066506,
     "end_time": "2021-08-28T09:30:08.616793",
     "exception": false,
     "start_time": "2021-08-28T09:30:08.550287",
     "status": "completed"
    },
    "tags": []
   },
   "outputs": [
    {
     "data": {
      "text/html": [
       "<div>\n",
       "<style scoped>\n",
       "    .dataframe tbody tr th:only-of-type {\n",
       "        vertical-align: middle;\n",
       "    }\n",
       "\n",
       "    .dataframe tbody tr th {\n",
       "        vertical-align: top;\n",
       "    }\n",
       "\n",
       "    .dataframe thead th {\n",
       "        text-align: right;\n",
       "    }\n",
       "</style>\n",
       "<table border=\"1\" class=\"dataframe\">\n",
       "  <thead>\n",
       "    <tr style=\"text-align: right;\">\n",
       "      <th></th>\n",
       "      <th>RECORD_TIME</th>\n",
       "    </tr>\n",
       "  </thead>\n",
       "  <tbody>\n",
       "    <tr>\n",
       "      <th>0</th>\n",
       "      <td>2021-08-28 11:30</td>\n",
       "    </tr>\n",
       "    <tr>\n",
       "      <th>1</th>\n",
       "      <td>2021-08-28 11:00</td>\n",
       "    </tr>\n",
       "  </tbody>\n",
       "</table>\n",
       "</div>"
      ],
      "text/plain": [
       "        RECORD_TIME\n",
       "0  2021-08-28 11:30\n",
       "1  2021-08-28 11:00"
      ]
     },
     "execution_count": 3,
     "metadata": {},
     "output_type": "execute_result"
    }
   ],
   "source": [
    "timestamps"
   ]
  },
  {
   "cell_type": "code",
   "execution_count": 4,
   "id": "alternate-victory",
   "metadata": {
    "execution": {
     "iopub.execute_input": "2021-08-28T09:30:08.666962Z",
     "iopub.status.busy": "2021-08-28T09:30:08.665102Z",
     "iopub.status.idle": "2021-08-28T09:30:08.885472Z",
     "shell.execute_reply": "2021-08-28T09:30:08.886858Z"
    },
    "papermill": {
     "duration": 0.250313,
     "end_time": "2021-08-28T09:30:08.887304",
     "exception": false,
     "start_time": "2021-08-28T09:30:08.636991",
     "status": "completed"
    },
    "tags": []
   },
   "outputs": [],
   "source": [
    "df = pd.read_sql(\"select * from EBAY_TOP_BERLIN where record_time in (select distinct record_time from EBAY_TOP_BERLIN order by record_time desc limit 2)\", sqlite3.connect(\"UsedObjects.db\"))"
   ]
  },
  {
   "cell_type": "code",
   "execution_count": 5,
   "id": "popular-active",
   "metadata": {
    "execution": {
     "iopub.execute_input": "2021-08-28T09:30:08.954042Z",
     "iopub.status.busy": "2021-08-28T09:30:08.946752Z",
     "iopub.status.idle": "2021-08-28T09:30:08.974963Z",
     "shell.execute_reply": "2021-08-28T09:30:08.976182Z"
    },
    "papermill": {
     "duration": 0.06742,
     "end_time": "2021-08-28T09:30:08.976810",
     "exception": false,
     "start_time": "2021-08-28T09:30:08.909390",
     "status": "completed"
    },
    "tags": []
   },
   "outputs": [],
   "source": [
    "df_pivot = df.pivot_table(index=\"PRODUCT\", columns = \"RECORD_TIME\", values = \"LISTING_COUNT\")"
   ]
  },
  {
   "cell_type": "code",
   "execution_count": 6,
   "id": "union-huntington",
   "metadata": {
    "execution": {
     "iopub.execute_input": "2021-08-28T09:30:09.056830Z",
     "iopub.status.busy": "2021-08-28T09:30:09.054611Z",
     "iopub.status.idle": "2021-08-28T09:30:09.060199Z",
     "shell.execute_reply": "2021-08-28T09:30:09.061842Z"
    },
    "papermill": {
     "duration": 0.04825,
     "end_time": "2021-08-28T09:30:09.062311",
     "exception": false,
     "start_time": "2021-08-28T09:30:09.014061",
     "status": "completed"
    },
    "tags": []
   },
   "outputs": [],
   "source": [
    "df_pivot.columns = [\"stamp_1\", \"stamp_2\"]\n",
    "df_pivot_diff = df_pivot.diff(axis=1)"
   ]
  },
  {
   "cell_type": "code",
   "execution_count": 7,
   "id": "fifth-motion",
   "metadata": {
    "execution": {
     "iopub.execute_input": "2021-08-28T09:30:09.118722Z",
     "iopub.status.busy": "2021-08-28T09:30:09.113874Z",
     "iopub.status.idle": "2021-08-28T09:30:10.634683Z",
     "shell.execute_reply": "2021-08-28T09:30:10.635959Z"
    },
    "papermill": {
     "duration": 1.554048,
     "end_time": "2021-08-28T09:30:10.636458",
     "exception": false,
     "start_time": "2021-08-28T09:30:09.082410",
     "status": "completed"
    },
    "tags": []
   },
   "outputs": [
    {
     "data": {
      "text/plain": [
       "<AxesSubplot:ylabel='PRODUCT'>"
      ]
     },
     "execution_count": 7,
     "metadata": {},
     "output_type": "execute_result"
    },
    {
     "data": {
      "image/png": "[encoded data removed]",
      "text/plain": [
       "<Figure size 432x288 with 1 Axes>"
      ]
     },
     "metadata": {
      "needs_background": "light"
     },
     "output_type": "display_data"
    }
   ],
   "source": [
    "df_pivot_diff.sort_values(\"stamp_2\", ascending = False)[\"stamp_2\"].head(10).plot.barh()"
   ]
  },
  {
   "cell_type": "code",
   "execution_count": null,
   "id": "extra-executive",
   "metadata": {
    "papermill": {
     "duration": 0.021945,
     "end_time": "2021-08-28T09:30:10.681599",
     "exception": false,
     "start_time": "2021-08-28T09:30:10.659654",
     "status": "completed"
    },
    "tags": []
   },
   "outputs": [],
   "source": []
  }
 ],
 "metadata": {
  "kernelspec": {
   "display_name": "Python 3",
   "language": "python",
   "name": "python3"
  },
  "language_info": {
   "codemirror_mode": {
    "name": "ipython",
    "version": 3
   },
   "file_extension": ".py",
   "mimetype": "text/x-python",
   "name": "python",
   "nbconvert_exporter": "python",
   "pygments_lexer": "ipython3",
   "version": "3.9.5"
  },
  "papermill": {
   "default_parameters": {},
   "duration": 6.827477,
   "end_time": "2021-08-28T09:30:11.907239",
   "environment_variables": {},
   "exception": null,
   "input_path": "eBay_Overview.ipynb",
   "output_path": "eBay_Overview.ipynb",
   "parameters": {},
   "start_time": "2021-08-28T09:30:05.079762",
   "version": "2.3.3"
  }
 },
 "nbformat": 4,
 "nbformat_minor": 5
}