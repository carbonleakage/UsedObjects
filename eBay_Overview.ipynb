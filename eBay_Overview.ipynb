{
 "cells": [
  {
   "cell_type": "code",
   "execution_count": 1,
   "id": "reverse-picking",
   "metadata": {
    "execution": {
     "iopub.execute_input": "2021-10-09T20:30:06.977181Z",
     "iopub.status.busy": "2021-10-09T20:30:06.975234Z",
     "iopub.status.idle": "2021-10-09T20:30:07.781511Z",
     "shell.execute_reply": "2021-10-09T20:30:07.782760Z"
    },
    "papermill": {
     "duration": 0.859319,
     "end_time": "2021-10-09T20:30:07.783476",
     "exception": false,
     "start_time": "2021-10-09T20:30:06.924157",
     "status": "completed"
    },
    "tags": []
   },
   "outputs": [],
   "source": [
    "import pandas as pd\n",
    "import sqlite3"
   ]
  },
  {
   "cell_type": "code",
   "execution_count": 2,
   "id": "innovative-syndrome",
   "metadata": {
    "execution": {
     "iopub.execute_input": "2021-10-09T20:30:07.835166Z",
     "iopub.status.busy": "2021-10-09T20:30:07.833108Z",
     "iopub.status.idle": "2021-10-09T20:30:08.328223Z",
     "shell.execute_reply": "2021-10-09T20:30:08.329477Z"
    },
    "papermill": {
     "duration": 0.524226,
     "end_time": "2021-10-09T20:30:08.329931",
     "exception": false,
     "start_time": "2021-10-09T20:30:07.805705",
     "status": "completed"
    },
    "tags": []
   },
   "outputs": [],
   "source": [
    "timestamps = pd.read_sql(\"select distinct record_time from EBAY_TOP_BERLIN order by record_time desc limit 2\", sqlite3.connect(\"UsedObjects.db\"))"
   ]
  },
  {
   "cell_type": "code",
   "execution_count": 3,
   "id": "periodic-identification",
   "metadata": {
    "execution": {
     "iopub.execute_input": "2021-10-09T20:30:08.393738Z",
     "iopub.status.busy": "2021-10-09T20:30:08.391762Z",
     "iopub.status.idle": "2021-10-09T20:30:08.411645Z",
     "shell.execute_reply": "2021-10-09T20:30:08.412870Z"
    },
    "papermill": {
     "duration": 0.063876,
     "end_time": "2021-10-09T20:30:08.413304",
     "exception": false,
     "start_time": "2021-10-09T20:30:08.349428",
     "status": "completed"
    },
    "tags": []
   },
   "outputs": [
    {
     "data": {
      "text/html": [
       "<div>\n",
       "<style scoped>\n",
       "    .dataframe tbody tr th:only-of-type {\n",
       "        vertical-align: middle;\n",
       "    }\n",
       "\n",
       "    .dataframe tbody tr th {\n",
       "        vertical-align: top;\n",
       "    }\n",
       "\n",
       "    .dataframe thead th {\n",
       "        text-align: right;\n",
       "    }\n",
       "</style>\n",
       "<table border=\"1\" class=\"dataframe\">\n",
       "  <thead>\n",
       "    <tr style=\"text-align: right;\">\n",
       "      <th></th>\n",
       "      <th>RECORD_TIME</th>\n",
       "    </tr>\n",
       "  </thead>\n",
       "  <tbody>\n",
       "    <tr>\n",
       "      <th>0</th>\n",
       "      <td>2021-10-09 22:30</td>\n",
       "    </tr>\n",
       "    <tr>\n",
       "      <th>1</th>\n",
       "      <td>2021-10-09 22:00</td>\n",
       "    </tr>\n",
       "  </tbody>\n",
       "</table>\n",
       "</div>"
      ],
      "text/plain": [
       "        RECORD_TIME\n",
       "0  2021-10-09 22:30\n",
       "1  2021-10-09 22:00"
      ]
     },
     "execution_count": 3,
     "metadata": {},
     "output_type": "execute_result"
    }
   ],
   "source": [
    "timestamps"
   ]
  },
  {
   "cell_type": "code",
   "execution_count": 4,
   "id": "alternate-victory",
   "metadata": {
    "execution": {
     "iopub.execute_input": "2021-10-09T20:30:08.475402Z",
     "iopub.status.busy": "2021-10-09T20:30:08.473499Z",
     "iopub.status.idle": "2021-10-09T20:30:09.197456Z",
     "shell.execute_reply": "2021-10-09T20:30:09.198724Z"
    },
    "papermill": {
     "duration": 0.757215,
     "end_time": "2021-10-09T20:30:09.199208",
     "exception": false,
     "start_time": "2021-10-09T20:30:08.441993",
     "status": "completed"
    },
    "tags": []
   },
   "outputs": [],
   "source": [
    "df = pd.read_sql(\"select * from EBAY_TOP_BERLIN where record_time in (select distinct record_time from EBAY_TOP_BERLIN order by record_time desc limit 2)\", sqlite3.connect(\"UsedObjects.db\"))"
   ]
  },
  {
   "cell_type": "code",
   "execution_count": 5,
   "id": "popular-active",
   "metadata": {
    "execution": {
     "iopub.execute_input": "2021-10-09T20:30:09.269156Z",
     "iopub.status.busy": "2021-10-09T20:30:09.261873Z",
     "iopub.status.idle": "2021-10-09T20:30:09.284540Z",
     "shell.execute_reply": "2021-10-09T20:30:09.285752Z"
    },
    "papermill": {
     "duration": 0.067112,
     "end_time": "2021-10-09T20:30:09.286145",
     "exception": false,
     "start_time": "2021-10-09T20:30:09.219033",
     "status": "completed"
    },
    "tags": []
   },
   "outputs": [],
   "source": [
    "df_pivot = df.pivot_table(index=\"PRODUCT\", columns = \"RECORD_TIME\", values = \"LISTING_COUNT\")"
   ]
  },
  {
   "cell_type": "code",
   "execution_count": 6,
   "id": "union-huntington",
   "metadata": {
    "execution": {
     "iopub.execute_input": "2021-10-09T20:30:09.345071Z",
     "iopub.status.busy": "2021-10-09T20:30:09.342624Z",
     "iopub.status.idle": "2021-10-09T20:30:09.348597Z",
     "shell.execute_reply": "2021-10-09T20:30:09.349780Z"
    },
    "papermill": {
     "duration": 0.042116,
     "end_time": "2021-10-09T20:30:09.350203",
     "exception": false,
     "start_time": "2021-10-09T20:30:09.308087",
     "status": "completed"
    },
    "tags": []
   },
   "outputs": [],
   "source": [
    "df_pivot.columns = [\"stamp_1\", \"stamp_2\"]\n",
    "df_pivot_diff = df_pivot.diff(axis=1)"
   ]
  },
  {
   "cell_type": "code",
   "execution_count": 7,
   "id": "fifth-motion",
   "metadata": {
    "execution": {
     "iopub.execute_input": "2021-10-09T20:30:09.404884Z",
     "iopub.status.busy": "2021-10-09T20:30:09.402172Z",
     "iopub.status.idle": "2021-10-09T20:30:10.866730Z",
     "shell.execute_reply": "2021-10-09T20:30:10.868426Z"
    },
    "papermill": {
     "duration": 1.498508,
     "end_time": "2021-10-09T20:30:10.868922",
     "exception": false,
     "start_time": "2021-10-09T20:30:09.370414",
     "status": "completed"
    },
    "tags": []
   },
   "outputs": [
    {
     "data": {
      "text/plain": [
       "<AxesSubplot:ylabel='PRODUCT'>"
      ]
     },
     "execution_count": 7,
     "metadata": {},
     "output_type": "execute_result"
    },
    {
     "data": {
      "image/png": "[encoded data removed]",
      "text/plain": [
       "<Figure size 432x288 with 1 Axes>"
      ]
     },
     "metadata": {
      "needs_background": "light"
     },
     "output_type": "display_data"
    }
   ],
   "source": [
    "df_pivot_diff.sort_values(\"stamp_2\", ascending = False)[\"stamp_2\"].head(10).plot.barh()"
   ]
  },
  {
   "cell_type": "code",
   "execution_count": null,
   "id": "extra-executive",
   "metadata": {
    "papermill": {
     "duration": 0.021634,
     "end_time": "2021-10-09T20:30:10.914202",
     "exception": false,
     "start_time": "2021-10-09T20:30:10.892568",
     "status": "completed"
    },
    "tags": []
   },
   "outputs": [],
   "source": []
  }
 ],
 "metadata": {
  "kernelspec": {
   "display_name": "Python 3",
   "language": "python",
   "name": "python3"
  },
  "language_info": {
   "codemirror_mode": {
    "name": "ipython",
    "version": 3
   },
   "file_extension": ".py",
   "mimetype": "text/x-python",
   "name": "python",
   "nbconvert_exporter": "python",
   "pygments_lexer": "ipython3",
   "version": "3.9.5"
  },
  "papermill": {
   "default_parameters": {},
   "duration": 7.827845,
   "end_time": "2021-10-09T20:30:12.330449",
   "environment_variables": {},
   "exception": null,
   "input_path": "eBay_Overview.ipynb",
   "output_path": "eBay_Overview.ipynb",
   "parameters": {},
   "start_time": "2021-10-09T20:30:04.502604",
   "version": "2.3.3"
  }
 },
 "nbformat": 4,
 "nbformat_minor": 5
}