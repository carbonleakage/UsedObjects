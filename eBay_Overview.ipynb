{
 "cells": [
  {
   "cell_type": "code",
   "execution_count": 1,
   "id": "reverse-picking",
   "metadata": {
    "execution": {
     "iopub.execute_input": "2021-10-10T02:00:07.272401Z",
     "iopub.status.busy": "2021-10-10T02:00:07.270392Z",
     "iopub.status.idle": "2021-10-10T02:00:08.076697Z",
     "shell.execute_reply": "2021-10-10T02:00:08.077925Z"
    },
    "papermill": {
     "duration": 0.858147,
     "end_time": "2021-10-10T02:00:08.078534",
     "exception": false,
     "start_time": "2021-10-10T02:00:07.220387",
     "status": "completed"
    },
    "tags": []
   },
   "outputs": [],
   "source": [
    "import pandas as pd\n",
    "import sqlite3"
   ]
  },
  {
   "cell_type": "code",
   "execution_count": 2,
   "id": "innovative-syndrome",
   "metadata": {
    "execution": {
     "iopub.execute_input": "2021-10-10T02:00:08.129714Z",
     "iopub.status.busy": "2021-10-10T02:00:08.127835Z",
     "iopub.status.idle": "2021-10-10T02:00:08.627635Z",
     "shell.execute_reply": "2021-10-10T02:00:08.628856Z"
    },
    "papermill": {
     "duration": 0.529138,
     "end_time": "2021-10-10T02:00:08.629258",
     "exception": false,
     "start_time": "2021-10-10T02:00:08.100120",
     "status": "completed"
    },
    "tags": []
   },
   "outputs": [],
   "source": [
    "timestamps = pd.read_sql(\"select distinct record_time from EBAY_TOP_BERLIN order by record_time desc limit 2\", sqlite3.connect(\"UsedObjects.db\"))"
   ]
  },
  {
   "cell_type": "code",
   "execution_count": 3,
   "id": "periodic-identification",
   "metadata": {
    "execution": {
     "iopub.execute_input": "2021-10-10T02:00:08.693720Z",
     "iopub.status.busy": "2021-10-10T02:00:08.691708Z",
     "iopub.status.idle": "2021-10-10T02:00:08.711772Z",
     "shell.execute_reply": "2021-10-10T02:00:08.713110Z"
    },
    "papermill": {
     "duration": 0.064343,
     "end_time": "2021-10-10T02:00:08.713532",
     "exception": false,
     "start_time": "2021-10-10T02:00:08.649189",
     "status": "completed"
    },
    "tags": []
   },
   "outputs": [
    {
     "data": {
      "text/html": [
       "<div>\n",
       "<style scoped>\n",
       "    .dataframe tbody tr th:only-of-type {\n",
       "        vertical-align: middle;\n",
       "    }\n",
       "\n",
       "    .dataframe tbody tr th {\n",
       "        vertical-align: top;\n",
       "    }\n",
       "\n",
       "    .dataframe thead th {\n",
       "        text-align: right;\n",
       "    }\n",
       "</style>\n",
       "<table border=\"1\" class=\"dataframe\">\n",
       "  <thead>\n",
       "    <tr style=\"text-align: right;\">\n",
       "      <th></th>\n",
       "      <th>RECORD_TIME</th>\n",
       "    </tr>\n",
       "  </thead>\n",
       "  <tbody>\n",
       "    <tr>\n",
       "      <th>0</th>\n",
       "      <td>2021-10-10 04:00</td>\n",
       "    </tr>\n",
       "    <tr>\n",
       "      <th>1</th>\n",
       "      <td>2021-10-10 03:30</td>\n",
       "    </tr>\n",
       "  </tbody>\n",
       "</table>\n",
       "</div>"
      ],
      "text/plain": [
       "        RECORD_TIME\n",
       "0  2021-10-10 04:00\n",
       "1  2021-10-10 03:30"
      ]
     },
     "execution_count": 3,
     "metadata": {},
     "output_type": "execute_result"
    }
   ],
   "source": [
    "timestamps"
   ]
  },
  {
   "cell_type": "code",
   "execution_count": 4,
   "id": "alternate-victory",
   "metadata": {
    "execution": {
     "iopub.execute_input": "2021-10-10T02:00:08.777849Z",
     "iopub.status.busy": "2021-10-10T02:00:08.775972Z",
     "iopub.status.idle": "2021-10-10T02:00:09.504235Z",
     "shell.execute_reply": "2021-10-10T02:00:09.505455Z"
    },
    "papermill": {
     "duration": 0.762653,
     "end_time": "2021-10-10T02:00:09.505859",
     "exception": false,
     "start_time": "2021-10-10T02:00:08.743206",
     "status": "completed"
    },
    "tags": []
   },
   "outputs": [],
   "source": [
    "df = pd.read_sql(\"select * from EBAY_TOP_BERLIN where record_time in (select distinct record_time from EBAY_TOP_BERLIN order by record_time desc limit 2)\", sqlite3.connect(\"UsedObjects.db\"))"
   ]
  },
  {
   "cell_type": "code",
   "execution_count": 5,
   "id": "popular-active",
   "metadata": {
    "execution": {
     "iopub.execute_input": "2021-10-10T02:00:09.570359Z",
     "iopub.status.busy": "2021-10-10T02:00:09.563004Z",
     "iopub.status.idle": "2021-10-10T02:00:09.590562Z",
     "shell.execute_reply": "2021-10-10T02:00:09.592036Z"
    },
    "papermill": {
     "duration": 0.066215,
     "end_time": "2021-10-10T02:00:09.592468",
     "exception": false,
     "start_time": "2021-10-10T02:00:09.526253",
     "status": "completed"
    },
    "tags": []
   },
   "outputs": [],
   "source": [
    "df_pivot = df.pivot_table(index=\"PRODUCT\", columns = \"RECORD_TIME\", values = \"LISTING_COUNT\")"
   ]
  },
  {
   "cell_type": "code",
   "execution_count": 6,
   "id": "union-huntington",
   "metadata": {
    "execution": {
     "iopub.execute_input": "2021-10-10T02:00:09.651293Z",
     "iopub.status.busy": "2021-10-10T02:00:09.648776Z",
     "iopub.status.idle": "2021-10-10T02:00:09.654954Z",
     "shell.execute_reply": "2021-10-10T02:00:09.656361Z"
    },
    "papermill": {
     "duration": 0.043157,
     "end_time": "2021-10-10T02:00:09.656804",
     "exception": false,
     "start_time": "2021-10-10T02:00:09.613647",
     "status": "completed"
    },
    "tags": []
   },
   "outputs": [],
   "source": [
    "df_pivot.columns = [\"stamp_1\", \"stamp_2\"]\n",
    "df_pivot_diff = df_pivot.diff(axis=1)"
   ]
  },
  {
   "cell_type": "code",
   "execution_count": 7,
   "id": "fifth-motion",
   "metadata": {
    "execution": {
     "iopub.execute_input": "2021-10-10T02:00:09.711557Z",
     "iopub.status.busy": "2021-10-10T02:00:09.709143Z",
     "iopub.status.idle": "2021-10-10T02:00:11.212121Z",
     "shell.execute_reply": "2021-10-10T02:00:11.213406Z"
    },
    "papermill": {
     "duration": 1.535749,
     "end_time": "2021-10-10T02:00:11.213828",
     "exception": false,
     "start_time": "2021-10-10T02:00:09.678079",
     "status": "completed"
    },
    "tags": []
   },
   "outputs": [
    {
     "data": {
      "text/plain": [
       "<AxesSubplot:ylabel='PRODUCT'>"
      ]
     },
     "execution_count": 7,
     "metadata": {},
     "output_type": "execute_result"
    },
    {
     "data": {
      "image/png": "[encoded data removed]",
      "text/plain": [
       "<Figure size 432x288 with 1 Axes>"
      ]
     },
     "metadata": {
      "needs_background": "light"
     },
     "output_type": "display_data"
    }
   ],
   "source": [
    "df_pivot_diff.sort_values(\"stamp_2\", ascending = False)[\"stamp_2\"].head(10).plot.barh()"
   ]
  },
  {
   "cell_type": "code",
   "execution_count": null,
   "id": "extra-executive",
   "metadata": {
    "papermill": {
     "duration": 0.022251,
     "end_time": "2021-10-10T02:00:11.260615",
     "exception": false,
     "start_time": "2021-10-10T02:00:11.238364",
     "status": "completed"
    },
    "tags": []
   },
   "outputs": [],
   "source": []
  }
 ],
 "metadata": {
  "kernelspec": {
   "display_name": "Python 3",
   "language": "python",
   "name": "python3"
  },
  "language_info": {
   "codemirror_mode": {
    "name": "ipython",
    "version": 3
   },
   "file_extension": ".py",
   "mimetype": "text/x-python",
   "name": "python",
   "nbconvert_exporter": "python",
   "pygments_lexer": "ipython3",
   "version": "3.9.5"
  },
  "papermill": {
   "default_parameters": {},
   "duration": 7.83563,
   "end_time": "2021-10-10T02:00:12.645450",
   "environment_variables": {},
   "exception": null,
   "input_path": "eBay_Overview.ipynb",
   "output_path": "eBay_Overview.ipynb",
   "parameters": {},
   "start_time": "2021-10-10T02:00:04.809820",
   "version": "2.3.3"
  }
 },
 "nbformat": 4,
 "nbformat_minor": 5
}