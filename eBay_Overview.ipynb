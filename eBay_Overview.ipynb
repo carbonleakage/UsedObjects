{
 "cells": [
  {
   "cell_type": "code",
   "execution_count": 1,
   "id": "reverse-picking",
   "metadata": {
    "execution": {
     "iopub.execute_input": "2021-09-18T17:30:07.061523Z",
     "iopub.status.busy": "2021-09-18T17:30:07.059625Z",
     "iopub.status.idle": "2021-09-18T17:30:07.861914Z",
     "shell.execute_reply": "2021-09-18T17:30:07.863365Z"
    },
    "papermill": {
     "duration": 0.852784,
     "end_time": "2021-09-18T17:30:07.864050",
     "exception": false,
     "start_time": "2021-09-18T17:30:07.011266",
     "status": "completed"
    },
    "tags": []
   },
   "outputs": [],
   "source": [
    "import pandas as pd\n",
    "import sqlite3"
   ]
  },
  {
   "cell_type": "code",
   "execution_count": 2,
   "id": "innovative-syndrome",
   "metadata": {
    "execution": {
     "iopub.execute_input": "2021-09-18T17:30:07.914772Z",
     "iopub.status.busy": "2021-09-18T17:30:07.912740Z",
     "iopub.status.idle": "2021-09-18T17:30:08.229867Z",
     "shell.execute_reply": "2021-09-18T17:30:08.231279Z"
    },
    "papermill": {
     "duration": 0.347598,
     "end_time": "2021-09-18T17:30:08.231710",
     "exception": false,
     "start_time": "2021-09-18T17:30:07.884112",
     "status": "completed"
    },
    "tags": []
   },
   "outputs": [],
   "source": [
    "timestamps = pd.read_sql(\"select distinct record_time from EBAY_TOP_BERLIN order by record_time desc limit 2\", sqlite3.connect(\"UsedObjects.db\"))"
   ]
  },
  {
   "cell_type": "code",
   "execution_count": 3,
   "id": "periodic-identification",
   "metadata": {
    "execution": {
     "iopub.execute_input": "2021-09-18T17:30:08.298315Z",
     "iopub.status.busy": "2021-09-18T17:30:08.296333Z",
     "iopub.status.idle": "2021-09-18T17:30:08.317366Z",
     "shell.execute_reply": "2021-09-18T17:30:08.318715Z"
    },
    "papermill": {
     "duration": 0.066929,
     "end_time": "2021-09-18T17:30:08.319252",
     "exception": false,
     "start_time": "2021-09-18T17:30:08.252323",
     "status": "completed"
    },
    "tags": []
   },
   "outputs": [
    {
     "data": {
      "text/html": [
       "<div>\n",
       "<style scoped>\n",
       "    .dataframe tbody tr th:only-of-type {\n",
       "        vertical-align: middle;\n",
       "    }\n",
       "\n",
       "    .dataframe tbody tr th {\n",
       "        vertical-align: top;\n",
       "    }\n",
       "\n",
       "    .dataframe thead th {\n",
       "        text-align: right;\n",
       "    }\n",
       "</style>\n",
       "<table border=\"1\" class=\"dataframe\">\n",
       "  <thead>\n",
       "    <tr style=\"text-align: right;\">\n",
       "      <th></th>\n",
       "      <th>RECORD_TIME</th>\n",
       "    </tr>\n",
       "  </thead>\n",
       "  <tbody>\n",
       "    <tr>\n",
       "      <th>0</th>\n",
       "      <td>2021-09-18 19:30</td>\n",
       "    </tr>\n",
       "    <tr>\n",
       "      <th>1</th>\n",
       "      <td>2021-09-18 19:00</td>\n",
       "    </tr>\n",
       "  </tbody>\n",
       "</table>\n",
       "</div>"
      ],
      "text/plain": [
       "        RECORD_TIME\n",
       "0  2021-09-18 19:30\n",
       "1  2021-09-18 19:00"
      ]
     },
     "execution_count": 3,
     "metadata": {},
     "output_type": "execute_result"
    }
   ],
   "source": [
    "timestamps"
   ]
  },
  {
   "cell_type": "code",
   "execution_count": 4,
   "id": "alternate-victory",
   "metadata": {
    "execution": {
     "iopub.execute_input": "2021-09-18T17:30:08.370922Z",
     "iopub.status.busy": "2021-09-18T17:30:08.369033Z",
     "iopub.status.idle": "2021-09-18T17:30:08.830195Z",
     "shell.execute_reply": "2021-09-18T17:30:08.831623Z"
    },
    "papermill": {
     "duration": 0.491007,
     "end_time": "2021-09-18T17:30:08.832042",
     "exception": false,
     "start_time": "2021-09-18T17:30:08.341035",
     "status": "completed"
    },
    "tags": []
   },
   "outputs": [],
   "source": [
    "df = pd.read_sql(\"select * from EBAY_TOP_BERLIN where record_time in (select distinct record_time from EBAY_TOP_BERLIN order by record_time desc limit 2)\", sqlite3.connect(\"UsedObjects.db\"))"
   ]
  },
  {
   "cell_type": "code",
   "execution_count": 5,
   "id": "popular-active",
   "metadata": {
    "execution": {
     "iopub.execute_input": "2021-09-18T17:30:08.904468Z",
     "iopub.status.busy": "2021-09-18T17:30:08.892308Z",
     "iopub.status.idle": "2021-09-18T17:30:08.920002Z",
     "shell.execute_reply": "2021-09-18T17:30:08.921225Z"
    },
    "papermill": {
     "duration": 0.067954,
     "end_time": "2021-09-18T17:30:08.921626",
     "exception": false,
     "start_time": "2021-09-18T17:30:08.853672",
     "status": "completed"
    },
    "tags": []
   },
   "outputs": [],
   "source": [
    "df_pivot = df.pivot_table(index=\"PRODUCT\", columns = \"RECORD_TIME\", values = \"LISTING_COUNT\")"
   ]
  },
  {
   "cell_type": "code",
   "execution_count": 6,
   "id": "union-huntington",
   "metadata": {
    "execution": {
     "iopub.execute_input": "2021-09-18T17:30:08.980480Z",
     "iopub.status.busy": "2021-09-18T17:30:08.978044Z",
     "iopub.status.idle": "2021-09-18T17:30:08.984049Z",
     "shell.execute_reply": "2021-09-18T17:30:08.985341Z"
    },
    "papermill": {
     "duration": 0.042066,
     "end_time": "2021-09-18T17:30:08.985756",
     "exception": false,
     "start_time": "2021-09-18T17:30:08.943690",
     "status": "completed"
    },
    "tags": []
   },
   "outputs": [],
   "source": [
    "df_pivot.columns = [\"stamp_1\", \"stamp_2\"]\n",
    "df_pivot_diff = df_pivot.diff(axis=1)"
   ]
  },
  {
   "cell_type": "code",
   "execution_count": 7,
   "id": "fifth-motion",
   "metadata": {
    "execution": {
     "iopub.execute_input": "2021-09-18T17:30:09.040012Z",
     "iopub.status.busy": "2021-09-18T17:30:09.037346Z",
     "iopub.status.idle": "2021-09-18T17:30:10.507876Z",
     "shell.execute_reply": "2021-09-18T17:30:10.509079Z"
    },
    "papermill": {
     "duration": 1.503914,
     "end_time": "2021-09-18T17:30:10.509513",
     "exception": false,
     "start_time": "2021-09-18T17:30:09.005599",
     "status": "completed"
    },
    "tags": []
   },
   "outputs": [
    {
     "data": {
      "text/plain": [
       "<AxesSubplot:ylabel='PRODUCT'>"
      ]
     },
     "execution_count": 7,
     "metadata": {},
     "output_type": "execute_result"
    },
    {
     "data": {
      "image/png": "[encoded data removed]",
      "text/plain": [
       "<Figure size 432x288 with 1 Axes>"
      ]
     },
     "metadata": {
      "needs_background": "light"
     },
     "output_type": "display_data"
    }
   ],
   "source": [
    "df_pivot_diff.sort_values(\"stamp_2\", ascending = False)[\"stamp_2\"].head(10).plot.barh()"
   ]
  },
  {
   "cell_type": "code",
   "execution_count": null,
   "id": "extra-executive",
   "metadata": {
    "papermill": {
     "duration": 0.022095,
     "end_time": "2021-09-18T17:30:10.555296",
     "exception": false,
     "start_time": "2021-09-18T17:30:10.533201",
     "status": "completed"
    },
    "tags": []
   },
   "outputs": [],
   "source": []
  }
 ],
 "metadata": {
  "kernelspec": {
   "display_name": "Python 3",
   "language": "python",
   "name": "python3"
  },
  "language_info": {
   "codemirror_mode": {
    "name": "ipython",
    "version": 3
   },
   "file_extension": ".py",
   "mimetype": "text/x-python",
   "name": "python",
   "nbconvert_exporter": "python",
   "pygments_lexer": "ipython3",
   "version": "3.9.5"
  },
  "papermill": {
   "default_parameters": {},
   "duration": 6.583914,
   "end_time": "2021-09-18T17:30:11.196657",
   "environment_variables": {},
   "exception": null,
   "input_path": "eBay_Overview.ipynb",
   "output_path": "eBay_Overview.ipynb",
   "parameters": {},
   "start_time": "2021-09-18T17:30:04.612743",
   "version": "2.3.3"
  }
 },
 "nbformat": 4,
 "nbformat_minor": 5
}