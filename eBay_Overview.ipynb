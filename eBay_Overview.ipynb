{
 "cells": [
  {
   "cell_type": "code",
   "execution_count": 1,
   "id": "reverse-picking",
   "metadata": {
    "execution": {
     "iopub.execute_input": "2021-10-17T19:30:07.367345Z",
     "iopub.status.busy": "2021-10-17T19:30:07.365409Z",
     "iopub.status.idle": "2021-10-17T19:30:08.176229Z",
     "shell.execute_reply": "2021-10-17T19:30:08.174658Z"
    },
    "papermill": {
     "duration": 0.860674,
     "end_time": "2021-10-17T19:30:08.176622",
     "exception": false,
     "start_time": "2021-10-17T19:30:07.315948",
     "status": "completed"
    },
    "tags": []
   },
   "outputs": [],
   "source": [
    "import pandas as pd\n",
    "import sqlite3"
   ]
  },
  {
   "cell_type": "code",
   "execution_count": 2,
   "id": "innovative-syndrome",
   "metadata": {
    "execution": {
     "iopub.execute_input": "2021-10-17T19:30:08.229632Z",
     "iopub.status.busy": "2021-10-17T19:30:08.227203Z",
     "iopub.status.idle": "2021-10-17T19:30:08.794293Z",
     "shell.execute_reply": "2021-10-17T19:30:08.795503Z"
    },
    "papermill": {
     "duration": 0.596931,
     "end_time": "2021-10-17T19:30:08.795903",
     "exception": false,
     "start_time": "2021-10-17T19:30:08.198972",
     "status": "completed"
    },
    "tags": []
   },
   "outputs": [],
   "source": [
    "timestamps = pd.read_sql(\"select distinct record_time from EBAY_TOP_BERLIN order by record_time desc limit 2\", sqlite3.connect(\"UsedObjects.db\"))"
   ]
  },
  {
   "cell_type": "code",
   "execution_count": 3,
   "id": "periodic-identification",
   "metadata": {
    "execution": {
     "iopub.execute_input": "2021-10-17T19:30:08.874454Z",
     "iopub.status.busy": "2021-10-17T19:30:08.869352Z",
     "iopub.status.idle": "2021-10-17T19:30:08.889603Z",
     "shell.execute_reply": "2021-10-17T19:30:08.890914Z"
    },
    "papermill": {
     "duration": 0.070578,
     "end_time": "2021-10-17T19:30:08.891327",
     "exception": false,
     "start_time": "2021-10-17T19:30:08.820749",
     "status": "completed"
    },
    "tags": []
   },
   "outputs": [
    {
     "data": {
      "text/html": [
       "<div>\n",
       "<style scoped>\n",
       "    .dataframe tbody tr th:only-of-type {\n",
       "        vertical-align: middle;\n",
       "    }\n",
       "\n",
       "    .dataframe tbody tr th {\n",
       "        vertical-align: top;\n",
       "    }\n",
       "\n",
       "    .dataframe thead th {\n",
       "        text-align: right;\n",
       "    }\n",
       "</style>\n",
       "<table border=\"1\" class=\"dataframe\">\n",
       "  <thead>\n",
       "    <tr style=\"text-align: right;\">\n",
       "      <th></th>\n",
       "      <th>RECORD_TIME</th>\n",
       "    </tr>\n",
       "  </thead>\n",
       "  <tbody>\n",
       "    <tr>\n",
       "      <th>0</th>\n",
       "      <td>2021-10-17 21:30</td>\n",
       "    </tr>\n",
       "    <tr>\n",
       "      <th>1</th>\n",
       "      <td>2021-10-17 21:00</td>\n",
       "    </tr>\n",
       "  </tbody>\n",
       "</table>\n",
       "</div>"
      ],
      "text/plain": [
       "        RECORD_TIME\n",
       "0  2021-10-17 21:30\n",
       "1  2021-10-17 21:00"
      ]
     },
     "execution_count": 3,
     "metadata": {},
     "output_type": "execute_result"
    }
   ],
   "source": [
    "timestamps"
   ]
  },
  {
   "cell_type": "code",
   "execution_count": 4,
   "id": "alternate-victory",
   "metadata": {
    "execution": {
     "iopub.execute_input": "2021-10-17T19:30:08.942810Z",
     "iopub.status.busy": "2021-10-17T19:30:08.940531Z",
     "iopub.status.idle": "2021-10-17T19:30:09.784627Z",
     "shell.execute_reply": "2021-10-17T19:30:09.786077Z"
    },
    "papermill": {
     "duration": 0.874227,
     "end_time": "2021-10-17T19:30:09.786506",
     "exception": false,
     "start_time": "2021-10-17T19:30:08.912279",
     "status": "completed"
    },
    "tags": []
   },
   "outputs": [],
   "source": [
    "df = pd.read_sql(\"select * from EBAY_TOP_BERLIN where record_time in (select distinct record_time from EBAY_TOP_BERLIN order by record_time desc limit 2)\", sqlite3.connect(\"UsedObjects.db\"))"
   ]
  },
  {
   "cell_type": "code",
   "execution_count": 5,
   "id": "popular-active",
   "metadata": {
    "execution": {
     "iopub.execute_input": "2021-10-17T19:30:09.850526Z",
     "iopub.status.busy": "2021-10-17T19:30:09.842374Z",
     "iopub.status.idle": "2021-10-17T19:30:09.870702Z",
     "shell.execute_reply": "2021-10-17T19:30:09.871921Z"
    },
    "papermill": {
     "duration": 0.065365,
     "end_time": "2021-10-17T19:30:09.872315",
     "exception": false,
     "start_time": "2021-10-17T19:30:09.806950",
     "status": "completed"
    },
    "tags": []
   },
   "outputs": [],
   "source": [
    "df_pivot = df.pivot_table(index=\"PRODUCT\", columns = \"RECORD_TIME\", values = \"LISTING_COUNT\")"
   ]
  },
  {
   "cell_type": "code",
   "execution_count": 6,
   "id": "union-huntington",
   "metadata": {
    "execution": {
     "iopub.execute_input": "2021-10-17T19:30:09.931579Z",
     "iopub.status.busy": "2021-10-17T19:30:09.929136Z",
     "iopub.status.idle": "2021-10-17T19:30:09.934959Z",
     "shell.execute_reply": "2021-10-17T19:30:09.936340Z"
    },
    "papermill": {
     "duration": 0.042297,
     "end_time": "2021-10-17T19:30:09.936841",
     "exception": false,
     "start_time": "2021-10-17T19:30:09.894544",
     "status": "completed"
    },
    "tags": []
   },
   "outputs": [],
   "source": [
    "df_pivot.columns = [\"stamp_1\", \"stamp_2\"]\n",
    "df_pivot_diff = df_pivot.diff(axis=1)"
   ]
  },
  {
   "cell_type": "code",
   "execution_count": 7,
   "id": "fifth-motion",
   "metadata": {
    "execution": {
     "iopub.execute_input": "2021-10-17T19:30:09.991080Z",
     "iopub.status.busy": "2021-10-17T19:30:09.988798Z",
     "iopub.status.idle": "2021-10-17T19:30:11.454497Z",
     "shell.execute_reply": "2021-10-17T19:30:11.455778Z"
    },
    "papermill": {
     "duration": 1.498738,
     "end_time": "2021-10-17T19:30:11.456204",
     "exception": false,
     "start_time": "2021-10-17T19:30:09.957466",
     "status": "completed"
    },
    "tags": []
   },
   "outputs": [
    {
     "data": {
      "text/plain": [
       "<AxesSubplot:ylabel='PRODUCT'>"
      ]
     },
     "execution_count": 7,
     "metadata": {},
     "output_type": "execute_result"
    },
    {
     "data": {
      "image/png": "[encoded data removed]",
      "text/plain": [
       "<Figure size 432x288 with 1 Axes>"
      ]
     },
     "metadata": {
      "needs_background": "light"
     },
     "output_type": "display_data"
    }
   ],
   "source": [
    "df_pivot_diff.sort_values(\"stamp_2\", ascending = False)[\"stamp_2\"].head(10).plot.barh()"
   ]
  },
  {
   "cell_type": "code",
   "execution_count": null,
   "id": "extra-executive",
   "metadata": {
    "papermill": {
     "duration": 0.021938,
     "end_time": "2021-10-17T19:30:11.504168",
     "exception": false,
     "start_time": "2021-10-17T19:30:11.482230",
     "status": "completed"
    },
    "tags": []
   },
   "outputs": [],
   "source": []
  }
 ],
 "metadata": {
  "kernelspec": {
   "display_name": "Python 3",
   "language": "python",
   "name": "python3"
  },
  "language_info": {
   "codemirror_mode": {
    "name": "ipython",
    "version": 3
   },
   "file_extension": ".py",
   "mimetype": "text/x-python",
   "name": "python",
   "nbconvert_exporter": "python",
   "pygments_lexer": "ipython3",
   "version": "3.9.5"
  },
  "papermill": {
   "default_parameters": {},
   "duration": 7.822391,
   "end_time": "2021-10-17T19:30:12.725346",
   "environment_variables": {},
   "exception": null,
   "input_path": "eBay_Overview.ipynb",
   "output_path": "eBay_Overview.ipynb",
   "parameters": {},
   "start_time": "2021-10-17T19:30:04.902955",
   "version": "2.3.3"
  }
 },
 "nbformat": 4,
 "nbformat_minor": 5
}