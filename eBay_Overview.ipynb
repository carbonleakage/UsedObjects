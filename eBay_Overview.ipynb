{
 "cells": [
  {
   "cell_type": "code",
   "execution_count": 1,
   "id": "reverse-picking",
   "metadata": {
    "execution": {
     "iopub.execute_input": "2021-08-26T09:00:07.025954Z",
     "iopub.status.busy": "2021-08-26T09:00:07.023830Z",
     "iopub.status.idle": "2021-08-26T09:00:07.824546Z",
     "shell.execute_reply": "2021-08-26T09:00:07.825913Z"
    },
    "papermill": {
     "duration": 0.851715,
     "end_time": "2021-08-26T09:00:07.826555",
     "exception": false,
     "start_time": "2021-08-26T09:00:06.974840",
     "status": "completed"
    },
    "tags": []
   },
   "outputs": [],
   "source": [
    "import pandas as pd\n",
    "import sqlite3"
   ]
  },
  {
   "cell_type": "code",
   "execution_count": 2,
   "id": "innovative-syndrome",
   "metadata": {
    "execution": {
     "iopub.execute_input": "2021-08-26T09:00:07.876818Z",
     "iopub.status.busy": "2021-08-26T09:00:07.874711Z",
     "iopub.status.idle": "2021-08-26T09:00:08.010765Z",
     "shell.execute_reply": "2021-08-26T09:00:08.011963Z"
    },
    "papermill": {
     "duration": 0.16581,
     "end_time": "2021-08-26T09:00:08.012561",
     "exception": false,
     "start_time": "2021-08-26T09:00:07.846751",
     "status": "completed"
    },
    "tags": []
   },
   "outputs": [],
   "source": [
    "timestamps = pd.read_sql(\"select distinct record_time from EBAY_TOP_BERLIN order by record_time desc limit 2\", sqlite3.connect(\"UsedObjects.db\"))"
   ]
  },
  {
   "cell_type": "code",
   "execution_count": 3,
   "id": "periodic-identification",
   "metadata": {
    "execution": {
     "iopub.execute_input": "2021-08-26T09:00:08.077043Z",
     "iopub.status.busy": "2021-08-26T09:00:08.074929Z",
     "iopub.status.idle": "2021-08-26T09:00:08.097298Z",
     "shell.execute_reply": "2021-08-26T09:00:08.098690Z"
    },
    "papermill": {
     "duration": 0.067258,
     "end_time": "2021-08-26T09:00:08.099127",
     "exception": false,
     "start_time": "2021-08-26T09:00:08.031869",
     "status": "completed"
    },
    "tags": []
   },
   "outputs": [
    {
     "data": {
      "text/html": [
       "<div>\n",
       "<style scoped>\n",
       "    .dataframe tbody tr th:only-of-type {\n",
       "        vertical-align: middle;\n",
       "    }\n",
       "\n",
       "    .dataframe tbody tr th {\n",
       "        vertical-align: top;\n",
       "    }\n",
       "\n",
       "    .dataframe thead th {\n",
       "        text-align: right;\n",
       "    }\n",
       "</style>\n",
       "<table border=\"1\" class=\"dataframe\">\n",
       "  <thead>\n",
       "    <tr style=\"text-align: right;\">\n",
       "      <th></th>\n",
       "      <th>RECORD_TIME</th>\n",
       "    </tr>\n",
       "  </thead>\n",
       "  <tbody>\n",
       "    <tr>\n",
       "      <th>0</th>\n",
       "      <td>2021-08-26 11:00</td>\n",
       "    </tr>\n",
       "    <tr>\n",
       "      <th>1</th>\n",
       "      <td>2021-08-26 10:30</td>\n",
       "    </tr>\n",
       "  </tbody>\n",
       "</table>\n",
       "</div>"
      ],
      "text/plain": [
       "        RECORD_TIME\n",
       "0  2021-08-26 11:00\n",
       "1  2021-08-26 10:30"
      ]
     },
     "execution_count": 3,
     "metadata": {},
     "output_type": "execute_result"
    }
   ],
   "source": [
    "timestamps"
   ]
  },
  {
   "cell_type": "code",
   "execution_count": 4,
   "id": "alternate-victory",
   "metadata": {
    "execution": {
     "iopub.execute_input": "2021-08-26T09:00:08.150176Z",
     "iopub.status.busy": "2021-08-26T09:00:08.148288Z",
     "iopub.status.idle": "2021-08-26T09:00:08.351020Z",
     "shell.execute_reply": "2021-08-26T09:00:08.352294Z"
    },
    "papermill": {
     "duration": 0.232658,
     "end_time": "2021-08-26T09:00:08.352705",
     "exception": false,
     "start_time": "2021-08-26T09:00:08.120047",
     "status": "completed"
    },
    "tags": []
   },
   "outputs": [],
   "source": [
    "df = pd.read_sql(\"select * from EBAY_TOP_BERLIN where record_time in (select distinct record_time from EBAY_TOP_BERLIN order by record_time desc limit 2)\", sqlite3.connect(\"UsedObjects.db\"))"
   ]
  },
  {
   "cell_type": "code",
   "execution_count": 5,
   "id": "popular-active",
   "metadata": {
    "execution": {
     "iopub.execute_input": "2021-08-26T09:00:08.422677Z",
     "iopub.status.busy": "2021-08-26T09:00:08.411124Z",
     "iopub.status.idle": "2021-08-26T09:00:08.438194Z",
     "shell.execute_reply": "2021-08-26T09:00:08.439474Z"
    },
    "papermill": {
     "duration": 0.067111,
     "end_time": "2021-08-26T09:00:08.439892",
     "exception": false,
     "start_time": "2021-08-26T09:00:08.372781",
     "status": "completed"
    },
    "tags": []
   },
   "outputs": [],
   "source": [
    "df_pivot = df.pivot_table(index=\"PRODUCT\", columns = \"RECORD_TIME\", values = \"LISTING_COUNT\")"
   ]
  },
  {
   "cell_type": "code",
   "execution_count": 6,
   "id": "union-huntington",
   "metadata": {
    "execution": {
     "iopub.execute_input": "2021-08-26T09:00:08.506926Z",
     "iopub.status.busy": "2021-08-26T09:00:08.504838Z",
     "iopub.status.idle": "2021-08-26T09:00:08.510355Z",
     "shell.execute_reply": "2021-08-26T09:00:08.511624Z"
    },
    "papermill": {
     "duration": 0.045349,
     "end_time": "2021-08-26T09:00:08.512041",
     "exception": false,
     "start_time": "2021-08-26T09:00:08.466692",
     "status": "completed"
    },
    "tags": []
   },
   "outputs": [],
   "source": [
    "df_pivot.columns = [\"stamp_1\", \"stamp_2\"]\n",
    "df_pivot_diff = df_pivot.diff(axis=1)"
   ]
  },
  {
   "cell_type": "code",
   "execution_count": 7,
   "id": "fifth-motion",
   "metadata": {
    "execution": {
     "iopub.execute_input": "2021-08-26T09:00:08.568134Z",
     "iopub.status.busy": "2021-08-26T09:00:08.565517Z",
     "iopub.status.idle": "2021-08-26T09:00:10.034763Z",
     "shell.execute_reply": "2021-08-26T09:00:10.036050Z"
    },
    "papermill": {
     "duration": 1.502871,
     "end_time": "2021-08-26T09:00:10.036688",
     "exception": false,
     "start_time": "2021-08-26T09:00:08.533817",
     "status": "completed"
    },
    "tags": []
   },
   "outputs": [
    {
     "data": {
      "text/plain": [
       "<AxesSubplot:ylabel='PRODUCT'>"
      ]
     },
     "execution_count": 7,
     "metadata": {},
     "output_type": "execute_result"
    },
    {
     "data": {
      "image/png": "[encoded data removed]",
      "text/plain": [
       "<Figure size 432x288 with 1 Axes>"
      ]
     },
     "metadata": {
      "needs_background": "light"
     },
     "output_type": "display_data"
    }
   ],
   "source": [
    "df_pivot_diff.sort_values(\"stamp_2\", ascending = False)[\"stamp_2\"].head(10).plot.barh()"
   ]
  },
  {
   "cell_type": "code",
   "execution_count": null,
   "id": "extra-executive",
   "metadata": {
    "papermill": {
     "duration": 0.022057,
     "end_time": "2021-08-26T09:00:10.084581",
     "exception": false,
     "start_time": "2021-08-26T09:00:10.062524",
     "status": "completed"
    },
    "tags": []
   },
   "outputs": [],
   "source": []
  }
 ],
 "metadata": {
  "kernelspec": {
   "display_name": "Python 3",
   "language": "python",
   "name": "python3"
  },
  "language_info": {
   "codemirror_mode": {
    "name": "ipython",
    "version": 3
   },
   "file_extension": ".py",
   "mimetype": "text/x-python",
   "name": "python",
   "nbconvert_exporter": "python",
   "pygments_lexer": "ipython3",
   "version": "3.9.5"
  },
  "papermill": {
   "default_parameters": {},
   "duration": 6.821387,
   "end_time": "2021-08-26T09:00:11.395356",
   "environment_variables": {},
   "exception": null,
   "input_path": "eBay_Overview.ipynb",
   "output_path": "eBay_Overview.ipynb",
   "parameters": {},
   "start_time": "2021-08-26T09:00:04.573969",
   "version": "2.3.3"
  }
 },
 "nbformat": 4,
 "nbformat_minor": 5
}