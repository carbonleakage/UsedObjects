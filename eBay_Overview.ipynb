{
 "cells": [
  {
   "cell_type": "code",
   "execution_count": 1,
   "id": "reverse-picking",
   "metadata": {
    "execution": {
     "iopub.execute_input": "2021-09-19T17:00:06.680955Z",
     "iopub.status.busy": "2021-09-19T17:00:06.679031Z",
     "iopub.status.idle": "2021-09-19T17:00:07.483790Z",
     "shell.execute_reply": "2021-09-19T17:00:07.485049Z"
    },
    "papermill": {
     "duration": 0.858283,
     "end_time": "2021-09-19T17:00:07.485678",
     "exception": false,
     "start_time": "2021-09-19T17:00:06.627395",
     "status": "completed"
    },
    "tags": []
   },
   "outputs": [],
   "source": [
    "import pandas as pd\n",
    "import sqlite3"
   ]
  },
  {
   "cell_type": "code",
   "execution_count": 2,
   "id": "innovative-syndrome",
   "metadata": {
    "execution": {
     "iopub.execute_input": "2021-09-19T17:00:07.536645Z",
     "iopub.status.busy": "2021-09-19T17:00:07.534709Z",
     "iopub.status.idle": "2021-09-19T17:00:07.856548Z",
     "shell.execute_reply": "2021-09-19T17:00:07.857753Z"
    },
    "papermill": {
     "duration": 0.351072,
     "end_time": "2021-09-19T17:00:07.858146",
     "exception": false,
     "start_time": "2021-09-19T17:00:07.507074",
     "status": "completed"
    },
    "tags": []
   },
   "outputs": [],
   "source": [
    "timestamps = pd.read_sql(\"select distinct record_time from EBAY_TOP_BERLIN order by record_time desc limit 2\", sqlite3.connect(\"UsedObjects.db\"))"
   ]
  },
  {
   "cell_type": "code",
   "execution_count": 3,
   "id": "periodic-identification",
   "metadata": {
    "execution": {
     "iopub.execute_input": "2021-09-19T17:00:07.924479Z",
     "iopub.status.busy": "2021-09-19T17:00:07.919467Z",
     "iopub.status.idle": "2021-09-19T17:00:07.940120Z",
     "shell.execute_reply": "2021-09-19T17:00:07.941504Z"
    },
    "papermill": {
     "duration": 0.064271,
     "end_time": "2021-09-19T17:00:07.941936",
     "exception": false,
     "start_time": "2021-09-19T17:00:07.877665",
     "status": "completed"
    },
    "tags": []
   },
   "outputs": [
    {
     "data": {
      "text/html": [
       "<div>\n",
       "<style scoped>\n",
       "    .dataframe tbody tr th:only-of-type {\n",
       "        vertical-align: middle;\n",
       "    }\n",
       "\n",
       "    .dataframe tbody tr th {\n",
       "        vertical-align: top;\n",
       "    }\n",
       "\n",
       "    .dataframe thead th {\n",
       "        text-align: right;\n",
       "    }\n",
       "</style>\n",
       "<table border=\"1\" class=\"dataframe\">\n",
       "  <thead>\n",
       "    <tr style=\"text-align: right;\">\n",
       "      <th></th>\n",
       "      <th>RECORD_TIME</th>\n",
       "    </tr>\n",
       "  </thead>\n",
       "  <tbody>\n",
       "    <tr>\n",
       "      <th>0</th>\n",
       "      <td>2021-09-19 19:00</td>\n",
       "    </tr>\n",
       "    <tr>\n",
       "      <th>1</th>\n",
       "      <td>2021-09-19 18:30</td>\n",
       "    </tr>\n",
       "  </tbody>\n",
       "</table>\n",
       "</div>"
      ],
      "text/plain": [
       "        RECORD_TIME\n",
       "0  2021-09-19 19:00\n",
       "1  2021-09-19 18:30"
      ]
     },
     "execution_count": 3,
     "metadata": {},
     "output_type": "execute_result"
    }
   ],
   "source": [
    "timestamps"
   ]
  },
  {
   "cell_type": "code",
   "execution_count": 4,
   "id": "alternate-victory",
   "metadata": {
    "execution": {
     "iopub.execute_input": "2021-09-19T17:00:07.995144Z",
     "iopub.status.busy": "2021-09-19T17:00:07.992804Z",
     "iopub.status.idle": "2021-09-19T17:00:08.471405Z",
     "shell.execute_reply": "2021-09-19T17:00:08.469872Z"
    },
    "papermill": {
     "duration": 0.507748,
     "end_time": "2021-09-19T17:00:08.471768",
     "exception": false,
     "start_time": "2021-09-19T17:00:07.964020",
     "status": "completed"
    },
    "tags": []
   },
   "outputs": [],
   "source": [
    "df = pd.read_sql(\"select * from EBAY_TOP_BERLIN where record_time in (select distinct record_time from EBAY_TOP_BERLIN order by record_time desc limit 2)\", sqlite3.connect(\"UsedObjects.db\"))"
   ]
  },
  {
   "cell_type": "code",
   "execution_count": 5,
   "id": "popular-active",
   "metadata": {
    "execution": {
     "iopub.execute_input": "2021-09-19T17:00:08.552727Z",
     "iopub.status.busy": "2021-09-19T17:00:08.540900Z",
     "iopub.status.idle": "2021-09-19T17:00:08.569780Z",
     "shell.execute_reply": "2021-09-19T17:00:08.571488Z"
    },
    "papermill": {
     "duration": 0.073008,
     "end_time": "2021-09-19T17:00:08.571978",
     "exception": false,
     "start_time": "2021-09-19T17:00:08.498970",
     "status": "completed"
    },
    "tags": []
   },
   "outputs": [],
   "source": [
    "df_pivot = df.pivot_table(index=\"PRODUCT\", columns = \"RECORD_TIME\", values = \"LISTING_COUNT\")"
   ]
  },
  {
   "cell_type": "code",
   "execution_count": 6,
   "id": "union-huntington",
   "metadata": {
    "execution": {
     "iopub.execute_input": "2021-09-19T17:00:08.630418Z",
     "iopub.status.busy": "2021-09-19T17:00:08.628318Z",
     "iopub.status.idle": "2021-09-19T17:00:08.633848Z",
     "shell.execute_reply": "2021-09-19T17:00:08.635206Z"
    },
    "papermill": {
     "duration": 0.041505,
     "end_time": "2021-09-19T17:00:08.635631",
     "exception": false,
     "start_time": "2021-09-19T17:00:08.594126",
     "status": "completed"
    },
    "tags": []
   },
   "outputs": [],
   "source": [
    "df_pivot.columns = [\"stamp_1\", \"stamp_2\"]\n",
    "df_pivot_diff = df_pivot.diff(axis=1)"
   ]
  },
  {
   "cell_type": "code",
   "execution_count": 7,
   "id": "fifth-motion",
   "metadata": {
    "execution": {
     "iopub.execute_input": "2021-09-19T17:00:08.689458Z",
     "iopub.status.busy": "2021-09-19T17:00:08.687073Z",
     "iopub.status.idle": "2021-09-19T17:00:10.201986Z",
     "shell.execute_reply": "2021-09-19T17:00:10.203488Z"
    },
    "papermill": {
     "duration": 1.547945,
     "end_time": "2021-09-19T17:00:10.203942",
     "exception": false,
     "start_time": "2021-09-19T17:00:08.655997",
     "status": "completed"
    },
    "tags": []
   },
   "outputs": [
    {
     "data": {
      "text/plain": [
       "<AxesSubplot:ylabel='PRODUCT'>"
      ]
     },
     "execution_count": 7,
     "metadata": {},
     "output_type": "execute_result"
    },
    {
     "data": {
      "image/png": "[encoded data removed]",
      "text/plain": [
       "<Figure size 432x288 with 1 Axes>"
      ]
     },
     "metadata": {
      "needs_background": "light"
     },
     "output_type": "display_data"
    }
   ],
   "source": [
    "df_pivot_diff.sort_values(\"stamp_2\", ascending = False)[\"stamp_2\"].head(10).plot.barh()"
   ]
  },
  {
   "cell_type": "code",
   "execution_count": null,
   "id": "extra-executive",
   "metadata": {
    "papermill": {
     "duration": 0.022255,
     "end_time": "2021-09-19T17:00:10.249757",
     "exception": false,
     "start_time": "2021-09-19T17:00:10.227502",
     "status": "completed"
    },
    "tags": []
   },
   "outputs": [],
   "source": []
  }
 ],
 "metadata": {
  "kernelspec": {
   "display_name": "Python 3",
   "language": "python",
   "name": "python3"
  },
  "language_info": {
   "codemirror_mode": {
    "name": "ipython",
    "version": 3
   },
   "file_extension": ".py",
   "mimetype": "text/x-python",
   "name": "python",
   "nbconvert_exporter": "python",
   "pygments_lexer": "ipython3",
   "version": "3.9.5"
  },
  "papermill": {
   "default_parameters": {},
   "duration": 6.665523,
   "end_time": "2021-09-19T17:00:10.890037",
   "environment_variables": {},
   "exception": null,
   "input_path": "eBay_Overview.ipynb",
   "output_path": "eBay_Overview.ipynb",
   "parameters": {},
   "start_time": "2021-09-19T17:00:04.224514",
   "version": "2.3.3"
  }
 },
 "nbformat": 4,
 "nbformat_minor": 5
}