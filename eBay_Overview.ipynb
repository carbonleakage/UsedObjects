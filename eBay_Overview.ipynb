{
 "cells": [
  {
   "cell_type": "code",
   "execution_count": 1,
   "id": "reverse-picking",
   "metadata": {
    "execution": {
     "iopub.execute_input": "2021-08-24T10:30:07.100145Z",
     "iopub.status.busy": "2021-08-24T10:30:07.098112Z",
     "iopub.status.idle": "2021-08-24T10:30:07.900706Z",
     "shell.execute_reply": "2021-08-24T10:30:07.902071Z"
    },
    "papermill": {
     "duration": 0.85394,
     "end_time": "2021-08-24T10:30:07.902731",
     "exception": false,
     "start_time": "2021-08-24T10:30:07.048791",
     "status": "completed"
    },
    "tags": []
   },
   "outputs": [],
   "source": [
    "import pandas as pd\n",
    "import sqlite3"
   ]
  },
  {
   "cell_type": "code",
   "execution_count": 2,
   "id": "innovative-syndrome",
   "metadata": {
    "execution": {
     "iopub.execute_input": "2021-08-24T10:30:07.954660Z",
     "iopub.status.busy": "2021-08-24T10:30:07.952670Z",
     "iopub.status.idle": "2021-08-24T10:30:08.070974Z",
     "shell.execute_reply": "2021-08-24T10:30:08.072237Z"
    },
    "papermill": {
     "duration": 0.147631,
     "end_time": "2021-08-24T10:30:08.072634",
     "exception": false,
     "start_time": "2021-08-24T10:30:07.925003",
     "status": "completed"
    },
    "tags": []
   },
   "outputs": [],
   "source": [
    "timestamps = pd.read_sql(\"select distinct record_time from EBAY_TOP_BERLIN order by record_time desc limit 2\", sqlite3.connect(\"UsedObjects.db\"))"
   ]
  },
  {
   "cell_type": "code",
   "execution_count": 3,
   "id": "periodic-identification",
   "metadata": {
    "execution": {
     "iopub.execute_input": "2021-08-24T10:30:08.135724Z",
     "iopub.status.busy": "2021-08-24T10:30:08.133645Z",
     "iopub.status.idle": "2021-08-24T10:30:08.153659Z",
     "shell.execute_reply": "2021-08-24T10:30:08.155061Z"
    },
    "papermill": {
     "duration": 0.063739,
     "end_time": "2021-08-24T10:30:08.155489",
     "exception": false,
     "start_time": "2021-08-24T10:30:08.091750",
     "status": "completed"
    },
    "tags": []
   },
   "outputs": [
    {
     "data": {
      "text/html": [
       "<div>\n",
       "<style scoped>\n",
       "    .dataframe tbody tr th:only-of-type {\n",
       "        vertical-align: middle;\n",
       "    }\n",
       "\n",
       "    .dataframe tbody tr th {\n",
       "        vertical-align: top;\n",
       "    }\n",
       "\n",
       "    .dataframe thead th {\n",
       "        text-align: right;\n",
       "    }\n",
       "</style>\n",
       "<table border=\"1\" class=\"dataframe\">\n",
       "  <thead>\n",
       "    <tr style=\"text-align: right;\">\n",
       "      <th></th>\n",
       "      <th>RECORD_TIME</th>\n",
       "    </tr>\n",
       "  </thead>\n",
       "  <tbody>\n",
       "    <tr>\n",
       "      <th>0</th>\n",
       "      <td>2021-08-24 12:30</td>\n",
       "    </tr>\n",
       "    <tr>\n",
       "      <th>1</th>\n",
       "      <td>2021-08-24 12:00</td>\n",
       "    </tr>\n",
       "  </tbody>\n",
       "</table>\n",
       "</div>"
      ],
      "text/plain": [
       "        RECORD_TIME\n",
       "0  2021-08-24 12:30\n",
       "1  2021-08-24 12:00"
      ]
     },
     "execution_count": 3,
     "metadata": {},
     "output_type": "execute_result"
    }
   ],
   "source": [
    "timestamps"
   ]
  },
  {
   "cell_type": "code",
   "execution_count": 4,
   "id": "alternate-victory",
   "metadata": {
    "execution": {
     "iopub.execute_input": "2021-08-24T10:30:08.206968Z",
     "iopub.status.busy": "2021-08-24T10:30:08.205024Z",
     "iopub.status.idle": "2021-08-24T10:30:08.381541Z",
     "shell.execute_reply": "2021-08-24T10:30:08.382821Z"
    },
    "papermill": {
     "duration": 0.206224,
     "end_time": "2021-08-24T10:30:08.383225",
     "exception": false,
     "start_time": "2021-08-24T10:30:08.177001",
     "status": "completed"
    },
    "tags": []
   },
   "outputs": [],
   "source": [
    "df = pd.read_sql(\"select * from EBAY_TOP_BERLIN where record_time in (select distinct record_time from EBAY_TOP_BERLIN order by record_time desc limit 2)\", sqlite3.connect(\"UsedObjects.db\"))"
   ]
  },
  {
   "cell_type": "code",
   "execution_count": 5,
   "id": "popular-active",
   "metadata": {
    "execution": {
     "iopub.execute_input": "2021-08-24T10:30:08.456152Z",
     "iopub.status.busy": "2021-08-24T10:30:08.443583Z",
     "iopub.status.idle": "2021-08-24T10:30:08.471972Z",
     "shell.execute_reply": "2021-08-24T10:30:08.473181Z"
    },
    "papermill": {
     "duration": 0.068033,
     "end_time": "2021-08-24T10:30:08.473579",
     "exception": false,
     "start_time": "2021-08-24T10:30:08.405546",
     "status": "completed"
    },
    "tags": []
   },
   "outputs": [],
   "source": [
    "df_pivot = df.pivot_table(index=\"PRODUCT\", columns = \"RECORD_TIME\", values = \"LISTING_COUNT\")"
   ]
  },
  {
   "cell_type": "code",
   "execution_count": 6,
   "id": "union-huntington",
   "metadata": {
    "execution": {
     "iopub.execute_input": "2021-08-24T10:30:08.535294Z",
     "iopub.status.busy": "2021-08-24T10:30:08.532805Z",
     "iopub.status.idle": "2021-08-24T10:30:08.539040Z",
     "shell.execute_reply": "2021-08-24T10:30:08.540670Z"
    },
    "papermill": {
     "duration": 0.046233,
     "end_time": "2021-08-24T10:30:08.541159",
     "exception": false,
     "start_time": "2021-08-24T10:30:08.494926",
     "status": "completed"
    },
    "tags": []
   },
   "outputs": [],
   "source": [
    "df_pivot.columns = [\"stamp_1\", \"stamp_2\"]\n",
    "df_pivot_diff = df_pivot.diff(axis=1)"
   ]
  },
  {
   "cell_type": "code",
   "execution_count": 7,
   "id": "fifth-motion",
   "metadata": {
    "execution": {
     "iopub.execute_input": "2021-08-24T10:30:08.595726Z",
     "iopub.status.busy": "2021-08-24T10:30:08.593274Z",
     "iopub.status.idle": "2021-08-24T10:30:10.084600Z",
     "shell.execute_reply": "2021-08-24T10:30:10.085883Z"
    },
    "papermill": {
     "duration": 1.523973,
     "end_time": "2021-08-24T10:30:10.086496",
     "exception": false,
     "start_time": "2021-08-24T10:30:08.562523",
     "status": "completed"
    },
    "tags": []
   },
   "outputs": [
    {
     "data": {
      "text/plain": [
       "<AxesSubplot:ylabel='PRODUCT'>"
      ]
     },
     "execution_count": 7,
     "metadata": {},
     "output_type": "execute_result"
    },
    {
     "data": {
      "image/png": "[encoded data removed]",
      "text/plain": [
       "<Figure size 432x288 with 1 Axes>"
      ]
     },
     "metadata": {
      "needs_background": "light"
     },
     "output_type": "display_data"
    }
   ],
   "source": [
    "df_pivot_diff.sort_values(\"stamp_2\", ascending = False)[\"stamp_2\"].head(10).plot.barh()"
   ]
  },
  {
   "cell_type": "code",
   "execution_count": null,
   "id": "extra-executive",
   "metadata": {
    "papermill": {
     "duration": 0.022093,
     "end_time": "2021-08-24T10:30:10.132797",
     "exception": false,
     "start_time": "2021-08-24T10:30:10.110704",
     "status": "completed"
    },
    "tags": []
   },
   "outputs": [],
   "source": []
  }
 ],
 "metadata": {
  "kernelspec": {
   "display_name": "Python 3",
   "language": "python",
   "name": "python3"
  },
  "language_info": {
   "codemirror_mode": {
    "name": "ipython",
    "version": 3
   },
   "file_extension": ".py",
   "mimetype": "text/x-python",
   "name": "python",
   "nbconvert_exporter": "python",
   "pygments_lexer": "ipython3",
   "version": "3.9.5"
  },
  "papermill": {
   "default_parameters": {},
   "duration": 6.823955,
   "end_time": "2021-08-24T10:30:11.464877",
   "environment_variables": {},
   "exception": null,
   "input_path": "eBay_Overview.ipynb",
   "output_path": "eBay_Overview.ipynb",
   "parameters": {},
   "start_time": "2021-08-24T10:30:04.640922",
   "version": "2.3.3"
  }
 },
 "nbformat": 4,
 "nbformat_minor": 5
}