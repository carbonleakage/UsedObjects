{
 "cells": [
  {
   "cell_type": "code",
   "execution_count": 1,
   "id": "reverse-picking",
   "metadata": {
    "execution": {
     "iopub.execute_input": "2021-09-17T21:00:06.820843Z",
     "iopub.status.busy": "2021-09-17T21:00:06.818932Z",
     "iopub.status.idle": "2021-09-17T21:00:07.619068Z",
     "shell.execute_reply": "2021-09-17T21:00:07.620500Z"
    },
    "papermill": {
     "duration": 0.854136,
     "end_time": "2021-09-17T21:00:07.621179",
     "exception": false,
     "start_time": "2021-09-17T21:00:06.767043",
     "status": "completed"
    },
    "tags": []
   },
   "outputs": [],
   "source": [
    "import pandas as pd\n",
    "import sqlite3"
   ]
  },
  {
   "cell_type": "code",
   "execution_count": 2,
   "id": "innovative-syndrome",
   "metadata": {
    "execution": {
     "iopub.execute_input": "2021-09-17T21:00:07.672168Z",
     "iopub.status.busy": "2021-09-17T21:00:07.669823Z",
     "iopub.status.idle": "2021-09-17T21:00:07.981965Z",
     "shell.execute_reply": "2021-09-17T21:00:07.983312Z"
    },
    "papermill": {
     "duration": 0.342206,
     "end_time": "2021-09-17T21:00:07.983736",
     "exception": false,
     "start_time": "2021-09-17T21:00:07.641530",
     "status": "completed"
    },
    "tags": []
   },
   "outputs": [],
   "source": [
    "timestamps = pd.read_sql(\"select distinct record_time from EBAY_TOP_BERLIN order by record_time desc limit 2\", sqlite3.connect(\"UsedObjects.db\"))"
   ]
  },
  {
   "cell_type": "code",
   "execution_count": 3,
   "id": "periodic-identification",
   "metadata": {
    "execution": {
     "iopub.execute_input": "2021-09-17T21:00:08.049423Z",
     "iopub.status.busy": "2021-09-17T21:00:08.047451Z",
     "iopub.status.idle": "2021-09-17T21:00:08.067202Z",
     "shell.execute_reply": "2021-09-17T21:00:08.068397Z"
    },
    "papermill": {
     "duration": 0.066114,
     "end_time": "2021-09-17T21:00:08.068820",
     "exception": false,
     "start_time": "2021-09-17T21:00:08.002706",
     "status": "completed"
    },
    "tags": []
   },
   "outputs": [
    {
     "data": {
      "text/html": [
       "<div>\n",
       "<style scoped>\n",
       "    .dataframe tbody tr th:only-of-type {\n",
       "        vertical-align: middle;\n",
       "    }\n",
       "\n",
       "    .dataframe tbody tr th {\n",
       "        vertical-align: top;\n",
       "    }\n",
       "\n",
       "    .dataframe thead th {\n",
       "        text-align: right;\n",
       "    }\n",
       "</style>\n",
       "<table border=\"1\" class=\"dataframe\">\n",
       "  <thead>\n",
       "    <tr style=\"text-align: right;\">\n",
       "      <th></th>\n",
       "      <th>RECORD_TIME</th>\n",
       "    </tr>\n",
       "  </thead>\n",
       "  <tbody>\n",
       "    <tr>\n",
       "      <th>0</th>\n",
       "      <td>2021-09-17 23:00</td>\n",
       "    </tr>\n",
       "    <tr>\n",
       "      <th>1</th>\n",
       "      <td>2021-09-17 22:30</td>\n",
       "    </tr>\n",
       "  </tbody>\n",
       "</table>\n",
       "</div>"
      ],
      "text/plain": [
       "        RECORD_TIME\n",
       "0  2021-09-17 23:00\n",
       "1  2021-09-17 22:30"
      ]
     },
     "execution_count": 3,
     "metadata": {},
     "output_type": "execute_result"
    }
   ],
   "source": [
    "timestamps"
   ]
  },
  {
   "cell_type": "code",
   "execution_count": 4,
   "id": "alternate-victory",
   "metadata": {
    "execution": {
     "iopub.execute_input": "2021-09-17T21:00:08.122510Z",
     "iopub.status.busy": "2021-09-17T21:00:08.120260Z",
     "iopub.status.idle": "2021-09-17T21:00:08.581107Z",
     "shell.execute_reply": "2021-09-17T21:00:08.582323Z"
    },
    "papermill": {
     "duration": 0.491264,
     "end_time": "2021-09-17T21:00:08.582714",
     "exception": false,
     "start_time": "2021-09-17T21:00:08.091450",
     "status": "completed"
    },
    "tags": []
   },
   "outputs": [],
   "source": [
    "df = pd.read_sql(\"select * from EBAY_TOP_BERLIN where record_time in (select distinct record_time from EBAY_TOP_BERLIN order by record_time desc limit 2)\", sqlite3.connect(\"UsedObjects.db\"))"
   ]
  },
  {
   "cell_type": "code",
   "execution_count": 5,
   "id": "popular-active",
   "metadata": {
    "execution": {
     "iopub.execute_input": "2021-09-17T21:00:08.658649Z",
     "iopub.status.busy": "2021-09-17T21:00:08.656460Z",
     "iopub.status.idle": "2021-09-17T21:00:08.683817Z",
     "shell.execute_reply": "2021-09-17T21:00:08.685029Z"
    },
    "papermill": {
     "duration": 0.072843,
     "end_time": "2021-09-17T21:00:08.685414",
     "exception": false,
     "start_time": "2021-09-17T21:00:08.612571",
     "status": "completed"
    },
    "tags": []
   },
   "outputs": [],
   "source": [
    "df_pivot = df.pivot_table(index=\"PRODUCT\", columns = \"RECORD_TIME\", values = \"LISTING_COUNT\")"
   ]
  },
  {
   "cell_type": "code",
   "execution_count": 6,
   "id": "union-huntington",
   "metadata": {
    "execution": {
     "iopub.execute_input": "2021-09-17T21:00:08.741862Z",
     "iopub.status.busy": "2021-09-17T21:00:08.739831Z",
     "iopub.status.idle": "2021-09-17T21:00:08.744865Z",
     "shell.execute_reply": "2021-09-17T21:00:08.746121Z"
    },
    "papermill": {
     "duration": 0.03977,
     "end_time": "2021-09-17T21:00:08.746522",
     "exception": false,
     "start_time": "2021-09-17T21:00:08.706752",
     "status": "completed"
    },
    "tags": []
   },
   "outputs": [],
   "source": [
    "df_pivot.columns = [\"stamp_1\", \"stamp_2\"]\n",
    "df_pivot_diff = df_pivot.diff(axis=1)"
   ]
  },
  {
   "cell_type": "code",
   "execution_count": 7,
   "id": "fifth-motion",
   "metadata": {
    "execution": {
     "iopub.execute_input": "2021-09-17T21:00:08.800128Z",
     "iopub.status.busy": "2021-09-17T21:00:08.797709Z",
     "iopub.status.idle": "2021-09-17T21:00:10.274953Z",
     "shell.execute_reply": "2021-09-17T21:00:10.276243Z"
    },
    "papermill": {
     "duration": 1.509573,
     "end_time": "2021-09-17T21:00:10.276653",
     "exception": false,
     "start_time": "2021-09-17T21:00:08.767080",
     "status": "completed"
    },
    "tags": []
   },
   "outputs": [
    {
     "data": {
      "text/plain": [
       "<AxesSubplot:ylabel='PRODUCT'>"
      ]
     },
     "execution_count": 7,
     "metadata": {},
     "output_type": "execute_result"
    },
    {
     "data": {
      "image/png": "[encoded data removed]",
      "text/plain": [
       "<Figure size 432x288 with 1 Axes>"
      ]
     },
     "metadata": {
      "needs_background": "light"
     },
     "output_type": "display_data"
    }
   ],
   "source": [
    "df_pivot_diff.sort_values(\"stamp_2\", ascending = False)[\"stamp_2\"].head(10).plot.barh()"
   ]
  },
  {
   "cell_type": "code",
   "execution_count": null,
   "id": "extra-executive",
   "metadata": {
    "papermill": {
     "duration": 0.021963,
     "end_time": "2021-09-17T21:00:10.323043",
     "exception": false,
     "start_time": "2021-09-17T21:00:10.301080",
     "status": "completed"
    },
    "tags": []
   },
   "outputs": [],
   "source": []
  }
 ],
 "metadata": {
  "kernelspec": {
   "display_name": "Python 3",
   "language": "python",
   "name": "python3"
  },
  "language_info": {
   "codemirror_mode": {
    "name": "ipython",
    "version": 3
   },
   "file_extension": ".py",
   "mimetype": "text/x-python",
   "name": "python",
   "nbconvert_exporter": "python",
   "pygments_lexer": "ipython3",
   "version": "3.9.5"
  },
  "papermill": {
   "default_parameters": {},
   "duration": 6.589023,
   "end_time": "2021-09-17T21:00:10.964352",
   "environment_variables": {},
   "exception": null,
   "input_path": "eBay_Overview.ipynb",
   "output_path": "eBay_Overview.ipynb",
   "parameters": {},
   "start_time": "2021-09-17T21:00:04.375329",
   "version": "2.3.3"
  }
 },
 "nbformat": 4,
 "nbformat_minor": 5
}