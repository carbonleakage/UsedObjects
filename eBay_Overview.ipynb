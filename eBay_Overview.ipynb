{
 "cells": [
  {
   "cell_type": "code",
   "execution_count": 1,
   "id": "reverse-picking",
   "metadata": {
    "execution": {
     "iopub.execute_input": "2021-08-29T00:30:06.585781Z",
     "iopub.status.busy": "2021-08-29T00:30:06.583794Z",
     "iopub.status.idle": "2021-08-29T00:30:07.390387Z",
     "shell.execute_reply": "2021-08-29T00:30:07.388745Z"
    },
    "papermill": {
     "duration": 0.858403,
     "end_time": "2021-08-29T00:30:07.390818",
     "exception": false,
     "start_time": "2021-08-29T00:30:06.532415",
     "status": "completed"
    },
    "tags": []
   },
   "outputs": [],
   "source": [
    "import pandas as pd\n",
    "import sqlite3"
   ]
  },
  {
   "cell_type": "code",
   "execution_count": 2,
   "id": "innovative-syndrome",
   "metadata": {
    "execution": {
     "iopub.execute_input": "2021-08-29T00:30:07.442096Z",
     "iopub.status.busy": "2021-08-29T00:30:07.440123Z",
     "iopub.status.idle": "2021-08-29T00:30:07.592198Z",
     "shell.execute_reply": "2021-08-29T00:30:07.593557Z"
    },
    "papermill": {
     "duration": 0.18177,
     "end_time": "2021-08-29T00:30:07.593987",
     "exception": false,
     "start_time": "2021-08-29T00:30:07.412217",
     "status": "completed"
    },
    "tags": []
   },
   "outputs": [],
   "source": [
    "timestamps = pd.read_sql(\"select distinct record_time from EBAY_TOP_BERLIN order by record_time desc limit 2\", sqlite3.connect(\"UsedObjects.db\"))"
   ]
  },
  {
   "cell_type": "code",
   "execution_count": 3,
   "id": "periodic-identification",
   "metadata": {
    "execution": {
     "iopub.execute_input": "2021-08-29T00:30:07.662984Z",
     "iopub.status.busy": "2021-08-29T00:30:07.657429Z",
     "iopub.status.idle": "2021-08-29T00:30:07.677467Z",
     "shell.execute_reply": "2021-08-29T00:30:07.678725Z"
    },
    "papermill": {
     "duration": 0.064427,
     "end_time": "2021-08-29T00:30:07.679128",
     "exception": false,
     "start_time": "2021-08-29T00:30:07.614701",
     "status": "completed"
    },
    "tags": []
   },
   "outputs": [
    {
     "data": {
      "text/html": [
       "<div>\n",
       "<style scoped>\n",
       "    .dataframe tbody tr th:only-of-type {\n",
       "        vertical-align: middle;\n",
       "    }\n",
       "\n",
       "    .dataframe tbody tr th {\n",
       "        vertical-align: top;\n",
       "    }\n",
       "\n",
       "    .dataframe thead th {\n",
       "        text-align: right;\n",
       "    }\n",
       "</style>\n",
       "<table border=\"1\" class=\"dataframe\">\n",
       "  <thead>\n",
       "    <tr style=\"text-align: right;\">\n",
       "      <th></th>\n",
       "      <th>RECORD_TIME</th>\n",
       "    </tr>\n",
       "  </thead>\n",
       "  <tbody>\n",
       "    <tr>\n",
       "      <th>0</th>\n",
       "      <td>2021-08-29 02:30</td>\n",
       "    </tr>\n",
       "    <tr>\n",
       "      <th>1</th>\n",
       "      <td>2021-08-29 02:00</td>\n",
       "    </tr>\n",
       "  </tbody>\n",
       "</table>\n",
       "</div>"
      ],
      "text/plain": [
       "        RECORD_TIME\n",
       "0  2021-08-29 02:30\n",
       "1  2021-08-29 02:00"
      ]
     },
     "execution_count": 3,
     "metadata": {},
     "output_type": "execute_result"
    }
   ],
   "source": [
    "timestamps"
   ]
  },
  {
   "cell_type": "code",
   "execution_count": 4,
   "id": "alternate-victory",
   "metadata": {
    "execution": {
     "iopub.execute_input": "2021-08-29T00:30:07.731307Z",
     "iopub.status.busy": "2021-08-29T00:30:07.729019Z",
     "iopub.status.idle": "2021-08-29T00:30:07.956824Z",
     "shell.execute_reply": "2021-08-29T00:30:07.958332Z"
    },
    "papermill": {
     "duration": 0.258598,
     "end_time": "2021-08-29T00:30:07.958784",
     "exception": false,
     "start_time": "2021-08-29T00:30:07.700186",
     "status": "completed"
    },
    "tags": []
   },
   "outputs": [],
   "source": [
    "df = pd.read_sql(\"select * from EBAY_TOP_BERLIN where record_time in (select distinct record_time from EBAY_TOP_BERLIN order by record_time desc limit 2)\", sqlite3.connect(\"UsedObjects.db\"))"
   ]
  },
  {
   "cell_type": "code",
   "execution_count": 5,
   "id": "popular-active",
   "metadata": {
    "execution": {
     "iopub.execute_input": "2021-08-29T00:30:08.030777Z",
     "iopub.status.busy": "2021-08-29T00:30:08.018588Z",
     "iopub.status.idle": "2021-08-29T00:30:08.049021Z",
     "shell.execute_reply": "2021-08-29T00:30:08.050417Z"
    },
    "papermill": {
     "duration": 0.071103,
     "end_time": "2021-08-29T00:30:08.050862",
     "exception": false,
     "start_time": "2021-08-29T00:30:07.979759",
     "status": "completed"
    },
    "tags": []
   },
   "outputs": [],
   "source": [
    "df_pivot = df.pivot_table(index=\"PRODUCT\", columns = \"RECORD_TIME\", values = \"LISTING_COUNT\")"
   ]
  },
  {
   "cell_type": "code",
   "execution_count": 6,
   "id": "union-huntington",
   "metadata": {
    "execution": {
     "iopub.execute_input": "2021-08-29T00:30:08.107729Z",
     "iopub.status.busy": "2021-08-29T00:30:08.105635Z",
     "iopub.status.idle": "2021-08-29T00:30:08.110991Z",
     "shell.execute_reply": "2021-08-29T00:30:08.112349Z"
    },
    "papermill": {
     "duration": 0.041486,
     "end_time": "2021-08-29T00:30:08.112817",
     "exception": false,
     "start_time": "2021-08-29T00:30:08.071331",
     "status": "completed"
    },
    "tags": []
   },
   "outputs": [],
   "source": [
    "df_pivot.columns = [\"stamp_1\", \"stamp_2\"]\n",
    "df_pivot_diff = df_pivot.diff(axis=1)"
   ]
  },
  {
   "cell_type": "code",
   "execution_count": 7,
   "id": "fifth-motion",
   "metadata": {
    "execution": {
     "iopub.execute_input": "2021-08-29T00:30:08.167164Z",
     "iopub.status.busy": "2021-08-29T00:30:08.164803Z",
     "iopub.status.idle": "2021-08-29T00:30:09.654838Z",
     "shell.execute_reply": "2021-08-29T00:30:09.656211Z"
    },
    "papermill": {
     "duration": 1.523305,
     "end_time": "2021-08-29T00:30:09.656762",
     "exception": false,
     "start_time": "2021-08-29T00:30:08.133457",
     "status": "completed"
    },
    "tags": []
   },
   "outputs": [
    {
     "data": {
      "text/plain": [
       "<AxesSubplot:ylabel='PRODUCT'>"
      ]
     },
     "execution_count": 7,
     "metadata": {},
     "output_type": "execute_result"
    },
    {
     "data": {
      "image/png": "[encoded data removed]",
      "text/plain": [
       "<Figure size 432x288 with 1 Axes>"
      ]
     },
     "metadata": {
      "needs_background": "light"
     },
     "output_type": "display_data"
    }
   ],
   "source": [
    "df_pivot_diff.sort_values(\"stamp_2\", ascending = False)[\"stamp_2\"].head(10).plot.barh()"
   ]
  },
  {
   "cell_type": "code",
   "execution_count": null,
   "id": "extra-executive",
   "metadata": {
    "papermill": {
     "duration": 0.022417,
     "end_time": "2021-08-29T00:30:09.704187",
     "exception": false,
     "start_time": "2021-08-29T00:30:09.681770",
     "status": "completed"
    },
    "tags": []
   },
   "outputs": [],
   "source": []
  }
 ],
 "metadata": {
  "kernelspec": {
   "display_name": "Python 3",
   "language": "python",
   "name": "python3"
  },
  "language_info": {
   "codemirror_mode": {
    "name": "ipython",
    "version": 3
   },
   "file_extension": ".py",
   "mimetype": "text/x-python",
   "name": "python",
   "nbconvert_exporter": "python",
   "pygments_lexer": "ipython3",
   "version": "3.9.5"
  },
  "papermill": {
   "default_parameters": {},
   "duration": 6.818154,
   "end_time": "2021-08-29T00:30:10.945579",
   "environment_variables": {},
   "exception": null,
   "input_path": "eBay_Overview.ipynb",
   "output_path": "eBay_Overview.ipynb",
   "parameters": {},
   "start_time": "2021-08-29T00:30:04.127425",
   "version": "2.3.3"
  }
 },
 "nbformat": 4,
 "nbformat_minor": 5
}