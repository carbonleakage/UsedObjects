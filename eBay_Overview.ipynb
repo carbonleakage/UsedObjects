{
 "cells": [
  {
   "cell_type": "code",
   "execution_count": 1,
   "id": "reverse-picking",
   "metadata": {
    "execution": {
     "iopub.execute_input": "2021-11-28T23:00:07.960483Z",
     "iopub.status.busy": "2021-11-28T23:00:07.958003Z",
     "iopub.status.idle": "2021-11-28T23:00:08.878515Z",
     "shell.execute_reply": "2021-11-28T23:00:08.880790Z"
    },
    "papermill": {
     "duration": 0.976073,
     "end_time": "2021-11-28T23:00:08.881537",
     "exception": false,
     "start_time": "2021-11-28T23:00:07.905464",
     "status": "completed"
    },
    "tags": []
   },
   "outputs": [],
   "source": [
    "import pandas as pd\n",
    "import sqlite3"
   ]
  },
  {
   "cell_type": "code",
   "execution_count": 2,
   "id": "innovative-syndrome",
   "metadata": {
    "execution": {
     "iopub.execute_input": "2021-11-28T23:00:08.948970Z",
     "iopub.status.busy": "2021-11-28T23:00:08.946583Z",
     "iopub.status.idle": "2021-11-28T23:00:09.891961Z",
     "shell.execute_reply": "2021-11-28T23:00:09.893506Z"
    },
    "papermill": {
     "duration": 0.979341,
     "end_time": "2021-11-28T23:00:09.894008",
     "exception": false,
     "start_time": "2021-11-28T23:00:08.914667",
     "status": "completed"
    },
    "tags": []
   },
   "outputs": [],
   "source": [
    "timestamps = pd.read_sql(\"select distinct record_time from EBAY_TOP_BERLIN order by record_time desc limit 2\", sqlite3.connect(\"UsedObjects.db\"))"
   ]
  },
  {
   "cell_type": "code",
   "execution_count": 3,
   "id": "periodic-identification",
   "metadata": {
    "execution": {
     "iopub.execute_input": "2021-11-28T23:00:09.968383Z",
     "iopub.status.busy": "2021-11-28T23:00:09.962699Z",
     "iopub.status.idle": "2021-11-28T23:00:09.995687Z",
     "shell.execute_reply": "2021-11-28T23:00:09.994044Z"
    },
    "papermill": {
     "duration": 0.081266,
     "end_time": "2021-11-28T23:00:09.996171",
     "exception": false,
     "start_time": "2021-11-28T23:00:09.914905",
     "status": "completed"
    },
    "tags": []
   },
   "outputs": [
    {
     "data": {
      "text/html": [
       "<div>\n",
       "<style scoped>\n",
       "    .dataframe tbody tr th:only-of-type {\n",
       "        vertical-align: middle;\n",
       "    }\n",
       "\n",
       "    .dataframe tbody tr th {\n",
       "        vertical-align: top;\n",
       "    }\n",
       "\n",
       "    .dataframe thead th {\n",
       "        text-align: right;\n",
       "    }\n",
       "</style>\n",
       "<table border=\"1\" class=\"dataframe\">\n",
       "  <thead>\n",
       "    <tr style=\"text-align: right;\">\n",
       "      <th></th>\n",
       "      <th>RECORD_TIME</th>\n",
       "    </tr>\n",
       "  </thead>\n",
       "  <tbody>\n",
       "    <tr>\n",
       "      <th>0</th>\n",
       "      <td>2021-11-29 00:00</td>\n",
       "    </tr>\n",
       "    <tr>\n",
       "      <th>1</th>\n",
       "      <td>2021-11-28 23:30</td>\n",
       "    </tr>\n",
       "  </tbody>\n",
       "</table>\n",
       "</div>"
      ],
      "text/plain": [
       "        RECORD_TIME\n",
       "0  2021-11-29 00:00\n",
       "1  2021-11-28 23:30"
      ]
     },
     "execution_count": 3,
     "metadata": {},
     "output_type": "execute_result"
    }
   ],
   "source": [
    "timestamps"
   ]
  },
  {
   "cell_type": "code",
   "execution_count": 4,
   "id": "alternate-victory",
   "metadata": {
    "execution": {
     "iopub.execute_input": "2021-11-28T23:00:10.047410Z",
     "iopub.status.busy": "2021-11-28T23:00:10.045544Z",
     "iopub.status.idle": "2021-11-28T23:00:11.414898Z",
     "shell.execute_reply": "2021-11-28T23:00:11.416793Z"
    },
    "papermill": {
     "duration": 1.400184,
     "end_time": "2021-11-28T23:00:11.417288",
     "exception": false,
     "start_time": "2021-11-28T23:00:10.017104",
     "status": "completed"
    },
    "tags": []
   },
   "outputs": [],
   "source": [
    "df = pd.read_sql(\"select * from EBAY_TOP_BERLIN where record_time in (select distinct record_time from EBAY_TOP_BERLIN order by record_time desc limit 2)\", sqlite3.connect(\"UsedObjects.db\"))"
   ]
  },
  {
   "cell_type": "code",
   "execution_count": 5,
   "id": "popular-active",
   "metadata": {
    "execution": {
     "iopub.execute_input": "2021-11-28T23:00:11.492271Z",
     "iopub.status.busy": "2021-11-28T23:00:11.479513Z",
     "iopub.status.idle": "2021-11-28T23:00:11.511638Z",
     "shell.execute_reply": "2021-11-28T23:00:11.513075Z"
    },
    "papermill": {
     "duration": 0.074196,
     "end_time": "2021-11-28T23:00:11.513556",
     "exception": false,
     "start_time": "2021-11-28T23:00:11.439360",
     "status": "completed"
    },
    "tags": []
   },
   "outputs": [],
   "source": [
    "df_pivot = df.pivot_table(index=\"PRODUCT\", columns = \"RECORD_TIME\", values = \"LISTING_COUNT\")"
   ]
  },
  {
   "cell_type": "code",
   "execution_count": 6,
   "id": "union-huntington",
   "metadata": {
    "execution": {
     "iopub.execute_input": "2021-11-28T23:00:11.576775Z",
     "iopub.status.busy": "2021-11-28T23:00:11.574337Z",
     "iopub.status.idle": "2021-11-28T23:00:11.580464Z",
     "shell.execute_reply": "2021-11-28T23:00:11.582208Z"
    },
    "papermill": {
     "duration": 0.049099,
     "end_time": "2021-11-28T23:00:11.582720",
     "exception": false,
     "start_time": "2021-11-28T23:00:11.533621",
     "status": "completed"
    },
    "tags": []
   },
   "outputs": [],
   "source": [
    "df_pivot.columns = [\"stamp_1\", \"stamp_2\"]\n",
    "df_pivot_diff = df_pivot.diff(axis=1)"
   ]
  },
  {
   "cell_type": "code",
   "execution_count": 7,
   "id": "fifth-motion",
   "metadata": {
    "execution": {
     "iopub.execute_input": "2021-11-28T23:00:11.645432Z",
     "iopub.status.busy": "2021-11-28T23:00:11.642296Z",
     "iopub.status.idle": "2021-11-28T23:00:13.648309Z",
     "shell.execute_reply": "2021-11-28T23:00:13.650953Z"
    },
    "papermill": {
     "duration": 2.047313,
     "end_time": "2021-11-28T23:00:13.651818",
     "exception": false,
     "start_time": "2021-11-28T23:00:11.604505",
     "status": "completed"
    },
    "tags": []
   },
   "outputs": [
    {
     "data": {
      "text/plain": [
       "<AxesSubplot:ylabel='PRODUCT'>"
      ]
     },
     "execution_count": 7,
     "metadata": {},
     "output_type": "execute_result"
    },
    {
     "data": {
      "image/png": "[encoded data removed]",
      "text/plain": [
       "<Figure size 432x288 with 1 Axes>"
      ]
     },
     "metadata": {
      "needs_background": "light"
     },
     "output_type": "display_data"
    }
   ],
   "source": [
    "df_pivot_diff.sort_values(\"stamp_2\", ascending = False)[\"stamp_2\"].head(10).plot.barh()"
   ]
  },
  {
   "cell_type": "code",
   "execution_count": null,
   "id": "extra-executive",
   "metadata": {
    "papermill": {
     "duration": 0.034445,
     "end_time": "2021-11-28T23:00:13.725106",
     "exception": false,
     "start_time": "2021-11-28T23:00:13.690661",
     "status": "completed"
    },
    "tags": []
   },
   "outputs": [],
   "source": []
  }
 ],
 "metadata": {
  "kernelspec": {
   "display_name": "Python 3",
   "language": "python",
   "name": "python3"
  },
  "language_info": {
   "codemirror_mode": {
    "name": "ipython",
    "version": 3
   },
   "file_extension": ".py",
   "mimetype": "text/x-python",
   "name": "python",
   "nbconvert_exporter": "python",
   "pygments_lexer": "ipython3",
   "version": "3.9.5"
  },
  "papermill": {
   "default_parameters": {},
   "duration": 9.940474,
   "end_time": "2021-11-28T23:00:15.120039",
   "environment_variables": {},
   "exception": null,
   "input_path": "eBay_Overview.ipynb",
   "output_path": "eBay_Overview.ipynb",
   "parameters": {},
   "start_time": "2021-11-28T23:00:05.179565",
   "version": "2.3.3"
  }
 },
 "nbformat": 4,
 "nbformat_minor": 5
}