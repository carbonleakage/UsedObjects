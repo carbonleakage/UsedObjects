{
 "cells": [
  {
   "cell_type": "code",
   "execution_count": 1,
   "id": "reverse-picking",
   "metadata": {
    "execution": {
     "iopub.execute_input": "2021-11-15T13:00:07.708113Z",
     "iopub.status.busy": "2021-11-15T13:00:07.697976Z",
     "iopub.status.idle": "2021-11-15T13:00:08.669783Z",
     "shell.execute_reply": "2021-11-15T13:00:08.671305Z"
    },
    "papermill": {
     "duration": 1.020836,
     "end_time": "2021-11-15T13:00:08.672056",
     "exception": false,
     "start_time": "2021-11-15T13:00:07.651220",
     "status": "completed"
    },
    "tags": []
   },
   "outputs": [],
   "source": [
    "import pandas as pd\n",
    "import sqlite3"
   ]
  },
  {
   "cell_type": "code",
   "execution_count": 2,
   "id": "innovative-syndrome",
   "metadata": {
    "execution": {
     "iopub.execute_input": "2021-11-15T13:00:08.733363Z",
     "iopub.status.busy": "2021-11-15T13:00:08.731106Z",
     "iopub.status.idle": "2021-11-15T13:00:09.536112Z",
     "shell.execute_reply": "2021-11-15T13:00:09.537629Z"
    },
    "papermill": {
     "duration": 0.838854,
     "end_time": "2021-11-15T13:00:09.538096",
     "exception": false,
     "start_time": "2021-11-15T13:00:08.699242",
     "status": "completed"
    },
    "tags": []
   },
   "outputs": [],
   "source": [
    "timestamps = pd.read_sql(\"select distinct record_time from EBAY_TOP_BERLIN order by record_time desc limit 2\", sqlite3.connect(\"UsedObjects.db\"))"
   ]
  },
  {
   "cell_type": "code",
   "execution_count": 3,
   "id": "periodic-identification",
   "metadata": {
    "execution": {
     "iopub.execute_input": "2021-11-15T13:00:09.603760Z",
     "iopub.status.busy": "2021-11-15T13:00:09.601704Z",
     "iopub.status.idle": "2021-11-15T13:00:09.621855Z",
     "shell.execute_reply": "2021-11-15T13:00:09.623188Z"
    },
    "papermill": {
     "duration": 0.066472,
     "end_time": "2021-11-15T13:00:09.623609",
     "exception": false,
     "start_time": "2021-11-15T13:00:09.557137",
     "status": "completed"
    },
    "tags": []
   },
   "outputs": [
    {
     "data": {
      "text/html": [
       "<div>\n",
       "<style scoped>\n",
       "    .dataframe tbody tr th:only-of-type {\n",
       "        vertical-align: middle;\n",
       "    }\n",
       "\n",
       "    .dataframe tbody tr th {\n",
       "        vertical-align: top;\n",
       "    }\n",
       "\n",
       "    .dataframe thead th {\n",
       "        text-align: right;\n",
       "    }\n",
       "</style>\n",
       "<table border=\"1\" class=\"dataframe\">\n",
       "  <thead>\n",
       "    <tr style=\"text-align: right;\">\n",
       "      <th></th>\n",
       "      <th>RECORD_TIME</th>\n",
       "    </tr>\n",
       "  </thead>\n",
       "  <tbody>\n",
       "    <tr>\n",
       "      <th>0</th>\n",
       "      <td>2021-11-15 14:00</td>\n",
       "    </tr>\n",
       "    <tr>\n",
       "      <th>1</th>\n",
       "      <td>2021-11-15 13:30</td>\n",
       "    </tr>\n",
       "  </tbody>\n",
       "</table>\n",
       "</div>"
      ],
      "text/plain": [
       "        RECORD_TIME\n",
       "0  2021-11-15 14:00\n",
       "1  2021-11-15 13:30"
      ]
     },
     "execution_count": 3,
     "metadata": {},
     "output_type": "execute_result"
    }
   ],
   "source": [
    "timestamps"
   ]
  },
  {
   "cell_type": "code",
   "execution_count": 4,
   "id": "alternate-victory",
   "metadata": {
    "execution": {
     "iopub.execute_input": "2021-11-15T13:00:09.676511Z",
     "iopub.status.busy": "2021-11-15T13:00:09.674381Z",
     "iopub.status.idle": "2021-11-15T13:00:10.842705Z",
     "shell.execute_reply": "2021-11-15T13:00:10.844324Z"
    },
    "papermill": {
     "duration": 1.200404,
     "end_time": "2021-11-15T13:00:10.844932",
     "exception": false,
     "start_time": "2021-11-15T13:00:09.644528",
     "status": "completed"
    },
    "tags": []
   },
   "outputs": [],
   "source": [
    "df = pd.read_sql(\"select * from EBAY_TOP_BERLIN where record_time in (select distinct record_time from EBAY_TOP_BERLIN order by record_time desc limit 2)\", sqlite3.connect(\"UsedObjects.db\"))"
   ]
  },
  {
   "cell_type": "code",
   "execution_count": 5,
   "id": "popular-active",
   "metadata": {
    "execution": {
     "iopub.execute_input": "2021-11-15T13:00:10.922213Z",
     "iopub.status.busy": "2021-11-15T13:00:10.909275Z",
     "iopub.status.idle": "2021-11-15T13:00:10.941724Z",
     "shell.execute_reply": "2021-11-15T13:00:10.940092Z"
    },
    "papermill": {
     "duration": 0.075278,
     "end_time": "2021-11-15T13:00:10.942154",
     "exception": false,
     "start_time": "2021-11-15T13:00:10.866876",
     "status": "completed"
    },
    "tags": []
   },
   "outputs": [],
   "source": [
    "df_pivot = df.pivot_table(index=\"PRODUCT\", columns = \"RECORD_TIME\", values = \"LISTING_COUNT\")"
   ]
  },
  {
   "cell_type": "code",
   "execution_count": 6,
   "id": "union-huntington",
   "metadata": {
    "execution": {
     "iopub.execute_input": "2021-11-15T13:00:11.001796Z",
     "iopub.status.busy": "2021-11-15T13:00:10.999203Z",
     "iopub.status.idle": "2021-11-15T13:00:11.008060Z",
     "shell.execute_reply": "2021-11-15T13:00:11.006006Z"
    },
    "papermill": {
     "duration": 0.046516,
     "end_time": "2021-11-15T13:00:11.008522",
     "exception": false,
     "start_time": "2021-11-15T13:00:10.962006",
     "status": "completed"
    },
    "tags": []
   },
   "outputs": [],
   "source": [
    "df_pivot.columns = [\"stamp_1\", \"stamp_2\"]\n",
    "df_pivot_diff = df_pivot.diff(axis=1)"
   ]
  },
  {
   "cell_type": "code",
   "execution_count": 7,
   "id": "fifth-motion",
   "metadata": {
    "execution": {
     "iopub.execute_input": "2021-11-15T13:00:11.071280Z",
     "iopub.status.busy": "2021-11-15T13:00:11.066720Z",
     "iopub.status.idle": "2021-11-15T13:00:13.044565Z",
     "shell.execute_reply": "2021-11-15T13:00:13.046451Z"
    },
    "papermill": {
     "duration": 2.016289,
     "end_time": "2021-11-15T13:00:13.047076",
     "exception": false,
     "start_time": "2021-11-15T13:00:11.030787",
     "status": "completed"
    },
    "tags": []
   },
   "outputs": [
    {
     "data": {
      "text/plain": [
       "<AxesSubplot:ylabel='PRODUCT'>"
      ]
     },
     "execution_count": 7,
     "metadata": {},
     "output_type": "execute_result"
    },
    {
     "data": {
      "image/png": "[encoded data removed]",
      "text/plain": [
       "<Figure size 432x288 with 1 Axes>"
      ]
     },
     "metadata": {
      "needs_background": "light"
     },
     "output_type": "display_data"
    }
   ],
   "source": [
    "df_pivot_diff.sort_values(\"stamp_2\", ascending = False)[\"stamp_2\"].head(10).plot.barh()"
   ]
  },
  {
   "cell_type": "code",
   "execution_count": null,
   "id": "extra-executive",
   "metadata": {
    "papermill": {
     "duration": 0.037742,
     "end_time": "2021-11-15T13:00:13.113082",
     "exception": false,
     "start_time": "2021-11-15T13:00:13.075340",
     "status": "completed"
    },
    "tags": []
   },
   "outputs": [],
   "source": []
  }
 ],
 "metadata": {
  "kernelspec": {
   "display_name": "Python 3",
   "language": "python",
   "name": "python3"
  },
  "language_info": {
   "codemirror_mode": {
    "name": "ipython",
    "version": 3
   },
   "file_extension": ".py",
   "mimetype": "text/x-python",
   "name": "python",
   "nbconvert_exporter": "python",
   "pygments_lexer": "ipython3",
   "version": "3.9.5"
  },
  "papermill": {
   "default_parameters": {},
   "duration": 9.946284,
   "end_time": "2021-11-15T13:00:14.837977",
   "environment_variables": {},
   "exception": null,
   "input_path": "eBay_Overview.ipynb",
   "output_path": "eBay_Overview.ipynb",
   "parameters": {},
   "start_time": "2021-11-15T13:00:04.891693",
   "version": "2.3.3"
  }
 },
 "nbformat": 4,
 "nbformat_minor": 5
}