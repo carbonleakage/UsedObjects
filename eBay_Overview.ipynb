{
 "cells": [
  {
   "cell_type": "code",
   "execution_count": 1,
   "id": "reverse-picking",
   "metadata": {
    "execution": {
     "iopub.execute_input": "2021-10-05T06:30:06.844221Z",
     "iopub.status.busy": "2021-10-05T06:30:06.842154Z",
     "iopub.status.idle": "2021-10-05T06:30:07.649982Z",
     "shell.execute_reply": "2021-10-05T06:30:07.651582Z"
    },
    "papermill": {
     "duration": 0.857746,
     "end_time": "2021-10-05T06:30:07.652235",
     "exception": false,
     "start_time": "2021-10-05T06:30:06.794489",
     "status": "completed"
    },
    "tags": []
   },
   "outputs": [],
   "source": [
    "import pandas as pd\n",
    "import sqlite3"
   ]
  },
  {
   "cell_type": "code",
   "execution_count": 2,
   "id": "innovative-syndrome",
   "metadata": {
    "execution": {
     "iopub.execute_input": "2021-10-05T06:30:07.704764Z",
     "iopub.status.busy": "2021-10-05T06:30:07.702258Z",
     "iopub.status.idle": "2021-10-05T06:30:08.164491Z",
     "shell.execute_reply": "2021-10-05T06:30:08.165707Z"
    },
    "papermill": {
     "duration": 0.492307,
     "end_time": "2021-10-05T06:30:08.166104",
     "exception": false,
     "start_time": "2021-10-05T06:30:07.673797",
     "status": "completed"
    },
    "tags": []
   },
   "outputs": [],
   "source": [
    "timestamps = pd.read_sql(\"select distinct record_time from EBAY_TOP_BERLIN order by record_time desc limit 2\", sqlite3.connect(\"UsedObjects.db\"))"
   ]
  },
  {
   "cell_type": "code",
   "execution_count": 3,
   "id": "periodic-identification",
   "metadata": {
    "execution": {
     "iopub.execute_input": "2021-10-05T06:30:08.237810Z",
     "iopub.status.busy": "2021-10-05T06:30:08.232544Z",
     "iopub.status.idle": "2021-10-05T06:30:08.253330Z",
     "shell.execute_reply": "2021-10-05T06:30:08.254513Z"
    },
    "papermill": {
     "duration": 0.067166,
     "end_time": "2021-10-05T06:30:08.255022",
     "exception": false,
     "start_time": "2021-10-05T06:30:08.187856",
     "status": "completed"
    },
    "tags": []
   },
   "outputs": [
    {
     "data": {
      "text/html": [
       "<div>\n",
       "<style scoped>\n",
       "    .dataframe tbody tr th:only-of-type {\n",
       "        vertical-align: middle;\n",
       "    }\n",
       "\n",
       "    .dataframe tbody tr th {\n",
       "        vertical-align: top;\n",
       "    }\n",
       "\n",
       "    .dataframe thead th {\n",
       "        text-align: right;\n",
       "    }\n",
       "</style>\n",
       "<table border=\"1\" class=\"dataframe\">\n",
       "  <thead>\n",
       "    <tr style=\"text-align: right;\">\n",
       "      <th></th>\n",
       "      <th>RECORD_TIME</th>\n",
       "    </tr>\n",
       "  </thead>\n",
       "  <tbody>\n",
       "    <tr>\n",
       "      <th>0</th>\n",
       "      <td>2021-10-05 08:30</td>\n",
       "    </tr>\n",
       "    <tr>\n",
       "      <th>1</th>\n",
       "      <td>2021-10-05 08:00</td>\n",
       "    </tr>\n",
       "  </tbody>\n",
       "</table>\n",
       "</div>"
      ],
      "text/plain": [
       "        RECORD_TIME\n",
       "0  2021-10-05 08:30\n",
       "1  2021-10-05 08:00"
      ]
     },
     "execution_count": 3,
     "metadata": {},
     "output_type": "execute_result"
    }
   ],
   "source": [
    "timestamps"
   ]
  },
  {
   "cell_type": "code",
   "execution_count": 4,
   "id": "alternate-victory",
   "metadata": {
    "execution": {
     "iopub.execute_input": "2021-10-05T06:30:08.317763Z",
     "iopub.status.busy": "2021-10-05T06:30:08.315628Z",
     "iopub.status.idle": "2021-10-05T06:30:09.025301Z",
     "shell.execute_reply": "2021-10-05T06:30:09.026524Z"
    },
    "papermill": {
     "duration": 0.744117,
     "end_time": "2021-10-05T06:30:09.027112",
     "exception": false,
     "start_time": "2021-10-05T06:30:08.282995",
     "status": "completed"
    },
    "tags": []
   },
   "outputs": [],
   "source": [
    "df = pd.read_sql(\"select * from EBAY_TOP_BERLIN where record_time in (select distinct record_time from EBAY_TOP_BERLIN order by record_time desc limit 2)\", sqlite3.connect(\"UsedObjects.db\"))"
   ]
  },
  {
   "cell_type": "code",
   "execution_count": 5,
   "id": "popular-active",
   "metadata": {
    "execution": {
     "iopub.execute_input": "2021-10-05T06:30:09.088952Z",
     "iopub.status.busy": "2021-10-05T06:30:09.086693Z",
     "iopub.status.idle": "2021-10-05T06:30:09.114178Z",
     "shell.execute_reply": "2021-10-05T06:30:09.115549Z"
    },
    "papermill": {
     "duration": 0.068614,
     "end_time": "2021-10-05T06:30:09.115972",
     "exception": false,
     "start_time": "2021-10-05T06:30:09.047358",
     "status": "completed"
    },
    "tags": []
   },
   "outputs": [],
   "source": [
    "df_pivot = df.pivot_table(index=\"PRODUCT\", columns = \"RECORD_TIME\", values = \"LISTING_COUNT\")"
   ]
  },
  {
   "cell_type": "code",
   "execution_count": 6,
   "id": "union-huntington",
   "metadata": {
    "execution": {
     "iopub.execute_input": "2021-10-05T06:30:09.172227Z",
     "iopub.status.busy": "2021-10-05T06:30:09.170099Z",
     "iopub.status.idle": "2021-10-05T06:30:09.175436Z",
     "shell.execute_reply": "2021-10-05T06:30:09.176735Z"
    },
    "papermill": {
     "duration": 0.041097,
     "end_time": "2021-10-05T06:30:09.177154",
     "exception": false,
     "start_time": "2021-10-05T06:30:09.136057",
     "status": "completed"
    },
    "tags": []
   },
   "outputs": [],
   "source": [
    "df_pivot.columns = [\"stamp_1\", \"stamp_2\"]\n",
    "df_pivot_diff = df_pivot.diff(axis=1)"
   ]
  },
  {
   "cell_type": "code",
   "execution_count": 7,
   "id": "fifth-motion",
   "metadata": {
    "execution": {
     "iopub.execute_input": "2021-10-05T06:30:09.233483Z",
     "iopub.status.busy": "2021-10-05T06:30:09.230941Z",
     "iopub.status.idle": "2021-10-05T06:30:10.728072Z",
     "shell.execute_reply": "2021-10-05T06:30:10.729509Z"
    },
    "papermill": {
     "duration": 1.531536,
     "end_time": "2021-10-05T06:30:10.729956",
     "exception": false,
     "start_time": "2021-10-05T06:30:09.198420",
     "status": "completed"
    },
    "tags": []
   },
   "outputs": [
    {
     "data": {
      "text/plain": [
       "<AxesSubplot:ylabel='PRODUCT'>"
      ]
     },
     "execution_count": 7,
     "metadata": {},
     "output_type": "execute_result"
    },
    {
     "data": {
      "image/png": "[encoded data removed]",
      "text/plain": [
       "<Figure size 432x288 with 1 Axes>"
      ]
     },
     "metadata": {
      "needs_background": "light"
     },
     "output_type": "display_data"
    }
   ],
   "source": [
    "df_pivot_diff.sort_values(\"stamp_2\", ascending = False)[\"stamp_2\"].head(10).plot.barh()"
   ]
  },
  {
   "cell_type": "code",
   "execution_count": null,
   "id": "extra-executive",
   "metadata": {
    "papermill": {
     "duration": 0.022096,
     "end_time": "2021-10-05T06:30:10.777017",
     "exception": false,
     "start_time": "2021-10-05T06:30:10.754921",
     "status": "completed"
    },
    "tags": []
   },
   "outputs": [],
   "source": []
  }
 ],
 "metadata": {
  "kernelspec": {
   "display_name": "Python 3",
   "language": "python",
   "name": "python3"
  },
  "language_info": {
   "codemirror_mode": {
    "name": "ipython",
    "version": 3
   },
   "file_extension": ".py",
   "mimetype": "text/x-python",
   "name": "python",
   "nbconvert_exporter": "python",
   "pygments_lexer": "ipython3",
   "version": "3.9.5"
  },
  "papermill": {
   "default_parameters": {},
   "duration": 7.832283,
   "end_time": "2021-10-05T06:30:12.219788",
   "environment_variables": {},
   "exception": null,
   "input_path": "eBay_Overview.ipynb",
   "output_path": "eBay_Overview.ipynb",
   "parameters": {},
   "start_time": "2021-10-05T06:30:04.387505",
   "version": "2.3.3"
  }
 },
 "nbformat": 4,
 "nbformat_minor": 5
}