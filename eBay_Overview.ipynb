{
 "cells": [
  {
   "cell_type": "code",
   "execution_count": 1,
   "id": "reverse-picking",
   "metadata": {
    "execution": {
     "iopub.execute_input": "2021-11-05T14:30:08.190272Z",
     "iopub.status.busy": "2021-11-05T14:30:08.187381Z",
     "iopub.status.idle": "2021-11-05T14:30:09.150071Z",
     "shell.execute_reply": "2021-11-05T14:30:09.151796Z"
    },
    "papermill": {
     "duration": 1.011242,
     "end_time": "2021-11-05T14:30:09.152583",
     "exception": false,
     "start_time": "2021-11-05T14:30:08.141341",
     "status": "completed"
    },
    "tags": []
   },
   "outputs": [],
   "source": [
    "import pandas as pd\n",
    "import sqlite3"
   ]
  },
  {
   "cell_type": "code",
   "execution_count": 2,
   "id": "innovative-syndrome",
   "metadata": {
    "execution": {
     "iopub.execute_input": "2021-11-05T14:30:09.214912Z",
     "iopub.status.busy": "2021-11-05T14:30:09.212598Z",
     "iopub.status.idle": "2021-11-05T14:30:09.940528Z",
     "shell.execute_reply": "2021-11-05T14:30:09.942263Z"
    },
    "papermill": {
     "duration": 0.762393,
     "end_time": "2021-11-05T14:30:09.942775",
     "exception": false,
     "start_time": "2021-11-05T14:30:09.180382",
     "status": "completed"
    },
    "tags": []
   },
   "outputs": [],
   "source": [
    "timestamps = pd.read_sql(\"select distinct record_time from EBAY_TOP_BERLIN order by record_time desc limit 2\", sqlite3.connect(\"UsedObjects.db\"))"
   ]
  },
  {
   "cell_type": "code",
   "execution_count": 3,
   "id": "periodic-identification",
   "metadata": {
    "execution": {
     "iopub.execute_input": "2021-11-05T14:30:10.014381Z",
     "iopub.status.busy": "2021-11-05T14:30:10.011954Z",
     "iopub.status.idle": "2021-11-05T14:30:10.038168Z",
     "shell.execute_reply": "2021-11-05T14:30:10.036505Z"
    },
    "papermill": {
     "duration": 0.07539,
     "end_time": "2021-11-05T14:30:10.038586",
     "exception": false,
     "start_time": "2021-11-05T14:30:09.963196",
     "status": "completed"
    },
    "tags": []
   },
   "outputs": [
    {
     "data": {
      "text/html": [
       "<div>\n",
       "<style scoped>\n",
       "    .dataframe tbody tr th:only-of-type {\n",
       "        vertical-align: middle;\n",
       "    }\n",
       "\n",
       "    .dataframe tbody tr th {\n",
       "        vertical-align: top;\n",
       "    }\n",
       "\n",
       "    .dataframe thead th {\n",
       "        text-align: right;\n",
       "    }\n",
       "</style>\n",
       "<table border=\"1\" class=\"dataframe\">\n",
       "  <thead>\n",
       "    <tr style=\"text-align: right;\">\n",
       "      <th></th>\n",
       "      <th>RECORD_TIME</th>\n",
       "    </tr>\n",
       "  </thead>\n",
       "  <tbody>\n",
       "    <tr>\n",
       "      <th>0</th>\n",
       "      <td>2021-11-05 15:30</td>\n",
       "    </tr>\n",
       "    <tr>\n",
       "      <th>1</th>\n",
       "      <td>2021-11-05 15:00</td>\n",
       "    </tr>\n",
       "  </tbody>\n",
       "</table>\n",
       "</div>"
      ],
      "text/plain": [
       "        RECORD_TIME\n",
       "0  2021-11-05 15:30\n",
       "1  2021-11-05 15:00"
      ]
     },
     "execution_count": 3,
     "metadata": {},
     "output_type": "execute_result"
    }
   ],
   "source": [
    "timestamps"
   ]
  },
  {
   "cell_type": "code",
   "execution_count": 4,
   "id": "alternate-victory",
   "metadata": {
    "execution": {
     "iopub.execute_input": "2021-11-05T14:30:10.094047Z",
     "iopub.status.busy": "2021-11-05T14:30:10.091895Z",
     "iopub.status.idle": "2021-11-05T14:30:11.157692Z",
     "shell.execute_reply": "2021-11-05T14:30:11.159307Z"
    },
    "papermill": {
     "duration": 1.098779,
     "end_time": "2021-11-05T14:30:11.159838",
     "exception": false,
     "start_time": "2021-11-05T14:30:10.061059",
     "status": "completed"
    },
    "tags": []
   },
   "outputs": [],
   "source": [
    "df = pd.read_sql(\"select * from EBAY_TOP_BERLIN where record_time in (select distinct record_time from EBAY_TOP_BERLIN order by record_time desc limit 2)\", sqlite3.connect(\"UsedObjects.db\"))"
   ]
  },
  {
   "cell_type": "code",
   "execution_count": 5,
   "id": "popular-active",
   "metadata": {
    "execution": {
     "iopub.execute_input": "2021-11-05T14:30:11.240430Z",
     "iopub.status.busy": "2021-11-05T14:30:11.225609Z",
     "iopub.status.idle": "2021-11-05T14:30:11.262078Z",
     "shell.execute_reply": "2021-11-05T14:30:11.263671Z"
    },
    "papermill": {
     "duration": 0.081475,
     "end_time": "2021-11-05T14:30:11.264182",
     "exception": false,
     "start_time": "2021-11-05T14:30:11.182707",
     "status": "completed"
    },
    "tags": []
   },
   "outputs": [],
   "source": [
    "df_pivot = df.pivot_table(index=\"PRODUCT\", columns = \"RECORD_TIME\", values = \"LISTING_COUNT\")"
   ]
  },
  {
   "cell_type": "code",
   "execution_count": 6,
   "id": "union-huntington",
   "metadata": {
    "execution": {
     "iopub.execute_input": "2021-11-05T14:30:11.326500Z",
     "iopub.status.busy": "2021-11-05T14:30:11.323861Z",
     "iopub.status.idle": "2021-11-05T14:30:11.331961Z",
     "shell.execute_reply": "2021-11-05T14:30:11.330242Z"
    },
    "papermill": {
     "duration": 0.046764,
     "end_time": "2021-11-05T14:30:11.332402",
     "exception": false,
     "start_time": "2021-11-05T14:30:11.285638",
     "status": "completed"
    },
    "tags": []
   },
   "outputs": [],
   "source": [
    "df_pivot.columns = [\"stamp_1\", \"stamp_2\"]\n",
    "df_pivot_diff = df_pivot.diff(axis=1)"
   ]
  },
  {
   "cell_type": "code",
   "execution_count": 7,
   "id": "fifth-motion",
   "metadata": {
    "execution": {
     "iopub.execute_input": "2021-11-05T14:30:11.393068Z",
     "iopub.status.busy": "2021-11-05T14:30:11.390464Z",
     "iopub.status.idle": "2021-11-05T14:30:13.172616Z",
     "shell.execute_reply": "2021-11-05T14:30:13.174870Z"
    },
    "papermill": {
     "duration": 1.821674,
     "end_time": "2021-11-05T14:30:13.175382",
     "exception": false,
     "start_time": "2021-11-05T14:30:11.353708",
     "status": "completed"
    },
    "tags": []
   },
   "outputs": [
    {
     "data": {
      "text/plain": [
       "<AxesSubplot:ylabel='PRODUCT'>"
      ]
     },
     "execution_count": 7,
     "metadata": {},
     "output_type": "execute_result"
    },
    {
     "data": {
      "image/png": "[encoded data removed]",
      "text/plain": [
       "<Figure size 432x288 with 1 Axes>"
      ]
     },
     "metadata": {
      "needs_background": "light"
     },
     "output_type": "display_data"
    }
   ],
   "source": [
    "df_pivot_diff.sort_values(\"stamp_2\", ascending = False)[\"stamp_2\"].head(10).plot.barh()"
   ]
  },
  {
   "cell_type": "code",
   "execution_count": null,
   "id": "extra-executive",
   "metadata": {
    "papermill": {
     "duration": 0.024554,
     "end_time": "2021-11-05T14:30:13.231778",
     "exception": false,
     "start_time": "2021-11-05T14:30:13.207224",
     "status": "completed"
    },
    "tags": []
   },
   "outputs": [],
   "source": []
  }
 ],
 "metadata": {
  "kernelspec": {
   "display_name": "Python 3",
   "language": "python",
   "name": "python3"
  },
  "language_info": {
   "codemirror_mode": {
    "name": "ipython",
    "version": 3
   },
   "file_extension": ".py",
   "mimetype": "text/x-python",
   "name": "python",
   "nbconvert_exporter": "python",
   "pygments_lexer": "ipython3",
   "version": "3.9.5"
  },
  "papermill": {
   "default_parameters": {},
   "duration": 8.959451,
   "end_time": "2021-11-05T14:30:14.251962",
   "environment_variables": {},
   "exception": null,
   "input_path": "eBay_Overview.ipynb",
   "output_path": "eBay_Overview.ipynb",
   "parameters": {},
   "start_time": "2021-11-05T14:30:05.292511",
   "version": "2.3.3"
  }
 },
 "nbformat": 4,
 "nbformat_minor": 5
}