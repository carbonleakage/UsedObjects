{
 "cells": [
  {
   "cell_type": "code",
   "execution_count": 1,
   "id": "reverse-picking",
   "metadata": {
    "execution": {
     "iopub.execute_input": "2021-08-10T12:00:03.945411Z",
     "iopub.status.busy": "2021-08-10T12:00:03.944527Z",
     "iopub.status.idle": "2021-08-10T12:00:04.546142Z",
     "shell.execute_reply": "2021-08-10T12:00:04.546961Z"
    },
    "papermill": {
     "duration": 0.626333,
     "end_time": "2021-08-10T12:00:04.547285",
     "exception": false,
     "start_time": "2021-08-10T12:00:03.920952",
     "status": "completed"
    },
    "tags": []
   },
   "outputs": [],
   "source": [
    "import pandas as pd\n",
    "import sqlite3"
   ]
  },
  {
   "cell_type": "code",
   "execution_count": 2,
   "id": "innovative-syndrome",
   "metadata": {
    "execution": {
     "iopub.execute_input": "2021-08-10T12:00:04.568589Z",
     "iopub.status.busy": "2021-08-10T12:00:04.567818Z",
     "iopub.status.idle": "2021-08-10T12:00:04.863564Z",
     "shell.execute_reply": "2021-08-10T12:00:04.864128Z"
    },
    "papermill": {
     "duration": 0.308636,
     "end_time": "2021-08-10T12:00:04.864326",
     "exception": false,
     "start_time": "2021-08-10T12:00:04.555690",
     "status": "completed"
    },
    "tags": []
   },
   "outputs": [],
   "source": [
    "timestamps = pd.read_sql(\"select distinct record_time from EBAY_TOP_BERLIN order by record_time desc limit 2\", sqlite3.connect(\"UsedObjects.db\"))"
   ]
  },
  {
   "cell_type": "code",
   "execution_count": 3,
   "id": "periodic-identification",
   "metadata": {
    "execution": {
     "iopub.execute_input": "2021-08-10T12:00:04.899469Z",
     "iopub.status.busy": "2021-08-10T12:00:04.898697Z",
     "iopub.status.idle": "2021-08-10T12:00:04.909842Z",
     "shell.execute_reply": "2021-08-10T12:00:04.909265Z"
    },
    "papermill": {
     "duration": 0.035871,
     "end_time": "2021-08-10T12:00:04.909994",
     "exception": false,
     "start_time": "2021-08-10T12:00:04.874123",
     "status": "completed"
    },
    "tags": []
   },
   "outputs": [
    {
     "data": {
      "text/html": [
       "<div>\n",
       "<style scoped>\n",
       "    .dataframe tbody tr th:only-of-type {\n",
       "        vertical-align: middle;\n",
       "    }\n",
       "\n",
       "    .dataframe tbody tr th {\n",
       "        vertical-align: top;\n",
       "    }\n",
       "\n",
       "    .dataframe thead th {\n",
       "        text-align: right;\n",
       "    }\n",
       "</style>\n",
       "<table border=\"1\" class=\"dataframe\">\n",
       "  <thead>\n",
       "    <tr style=\"text-align: right;\">\n",
       "      <th></th>\n",
       "      <th>RECORD_TIME</th>\n",
       "    </tr>\n",
       "  </thead>\n",
       "  <tbody>\n",
       "    <tr>\n",
       "      <th>0</th>\n",
       "      <td>2021-08-10 14:00</td>\n",
       "    </tr>\n",
       "    <tr>\n",
       "      <th>1</th>\n",
       "      <td>2021-08-10 13:30</td>\n",
       "    </tr>\n",
       "  </tbody>\n",
       "</table>\n",
       "</div>"
      ],
      "text/plain": [
       "        RECORD_TIME\n",
       "0  2021-08-10 14:00\n",
       "1  2021-08-10 13:30"
      ]
     },
     "execution_count": 3,
     "metadata": {},
     "output_type": "execute_result"
    }
   ],
   "source": [
    "timestamps"
   ]
  },
  {
   "cell_type": "code",
   "execution_count": 4,
   "id": "alternate-victory",
   "metadata": {
    "execution": {
     "iopub.execute_input": "2021-08-10T12:00:04.933767Z",
     "iopub.status.busy": "2021-08-10T12:00:04.933014Z",
     "iopub.status.idle": "2021-08-10T12:00:04.945409Z",
     "shell.execute_reply": "2021-08-10T12:00:04.945940Z"
    },
    "papermill": {
     "duration": 0.02772,
     "end_time": "2021-08-10T12:00:04.946128",
     "exception": false,
     "start_time": "2021-08-10T12:00:04.918408",
     "status": "completed"
    },
    "tags": []
   },
   "outputs": [],
   "source": [
    "df = pd.read_sql(\"select * from EBAY_TOP_BERLIN where record_time in (select distinct record_time from EBAY_TOP_BERLIN order by record_time desc limit 2)\", sqlite3.connect(\"UsedObjects.db\"))"
   ]
  },
  {
   "cell_type": "code",
   "execution_count": 5,
   "id": "popular-active",
   "metadata": {
    "execution": {
     "iopub.execute_input": "2021-08-10T12:00:04.970428Z",
     "iopub.status.busy": "2021-08-10T12:00:04.969647Z",
     "iopub.status.idle": "2021-08-10T12:00:04.990638Z",
     "shell.execute_reply": "2021-08-10T12:00:04.991212Z"
    },
    "papermill": {
     "duration": 0.036965,
     "end_time": "2021-08-10T12:00:04.991421",
     "exception": false,
     "start_time": "2021-08-10T12:00:04.954456",
     "status": "completed"
    },
    "tags": []
   },
   "outputs": [],
   "source": [
    "df_pivot = df.pivot_table(index=\"PRODUCT\", columns = \"RECORD_TIME\", values = \"LISTING_COUNT\")"
   ]
  },
  {
   "cell_type": "code",
   "execution_count": 6,
   "id": "union-huntington",
   "metadata": {
    "execution": {
     "iopub.execute_input": "2021-08-10T12:00:05.021111Z",
     "iopub.status.busy": "2021-08-10T12:00:05.020419Z",
     "iopub.status.idle": "2021-08-10T12:00:05.025463Z",
     "shell.execute_reply": "2021-08-10T12:00:05.026033Z"
    },
    "papermill": {
     "duration": 0.025201,
     "end_time": "2021-08-10T12:00:05.026230",
     "exception": false,
     "start_time": "2021-08-10T12:00:05.001029",
     "status": "completed"
    },
    "tags": []
   },
   "outputs": [],
   "source": [
    "df_pivot.columns = [\"stamp_1\", \"stamp_2\"]\n",
    "df_pivot_diff = df_pivot.diff(axis=1)"
   ]
  },
  {
   "cell_type": "code",
   "execution_count": 7,
   "id": "fifth-motion",
   "metadata": {
    "execution": {
     "iopub.execute_input": "2021-08-10T12:00:05.050820Z",
     "iopub.status.busy": "2021-08-10T12:00:05.049303Z",
     "iopub.status.idle": "2021-08-10T12:00:05.828907Z",
     "shell.execute_reply": "2021-08-10T12:00:05.829474Z"
    },
    "papermill": {
     "duration": 0.794473,
     "end_time": "2021-08-10T12:00:05.829675",
     "exception": false,
     "start_time": "2021-08-10T12:00:05.035202",
     "status": "completed"
    },
    "tags": []
   },
   "outputs": [
    {
     "data": {
      "text/plain": [
       "<AxesSubplot:ylabel='PRODUCT'>"
      ]
     },
     "execution_count": 7,
     "metadata": {},
     "output_type": "execute_result"
    },
    {
     "data": {
      "image/png": "[encoded data removed]",
      "text/plain": [
       "<Figure size 432x288 with 1 Axes>"
      ]
     },
     "metadata": {
      "needs_background": "light"
     },
     "output_type": "display_data"
    }
   ],
   "source": [
    "df_pivot_diff.sort_values(\"stamp_2\", ascending = False)[\"stamp_2\"].head(10).plot.barh()"
   ]
  },
  {
   "cell_type": "code",
   "execution_count": null,
   "id": "extra-executive",
   "metadata": {
    "papermill": {
     "duration": 0.015554,
     "end_time": "2021-08-10T12:00:05.855638",
     "exception": false,
     "start_time": "2021-08-10T12:00:05.840084",
     "status": "completed"
    },
    "tags": []
   },
   "outputs": [],
   "source": []
  }
 ],
 "metadata": {
  "kernelspec": {
   "display_name": "Python 3",
   "language": "python",
   "name": "python3"
  },
  "language_info": {
   "codemirror_mode": {
    "name": "ipython",
    "version": 3
   },
   "file_extension": ".py",
   "mimetype": "text/x-python",
   "name": "python",
   "nbconvert_exporter": "python",
   "pygments_lexer": "ipython3",
   "version": "3.8.8"
  },
  "papermill": {
   "default_parameters": {},
   "duration": 4.353919,
   "end_time": "2021-08-10T12:00:06.593096",
   "environment_variables": {},
   "exception": null,
   "input_path": "/Users/saravananshanmugam/Carbonleakage_Git/UsedObjects/eBay_Overview.ipynb",
   "output_path": "/Users/saravananshanmugam/Carbonleakage_Git/UsedObjects/eBay_Overview.ipynb",
   "parameters": {},
   "start_time": "2021-08-10T12:00:02.239177",
   "version": "2.3.3"
  }
 },
 "nbformat": 4,
 "nbformat_minor": 5
}