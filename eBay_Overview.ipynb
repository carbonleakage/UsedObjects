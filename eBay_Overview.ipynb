{
 "cells": [
  {
   "cell_type": "code",
   "execution_count": 1,
   "id": "reverse-picking",
   "metadata": {
    "execution": {
     "iopub.execute_input": "2021-12-21T09:00:07.881657Z",
     "iopub.status.busy": "2021-12-21T09:00:07.879113Z",
     "iopub.status.idle": "2021-12-21T09:00:08.801544Z",
     "shell.execute_reply": "2021-12-21T09:00:08.799665Z"
    },
    "papermill": {
     "duration": 0.970643,
     "end_time": "2021-12-21T09:00:08.802033",
     "exception": false,
     "start_time": "2021-12-21T09:00:07.831390",
     "status": "completed"
    },
    "tags": []
   },
   "outputs": [],
   "source": [
    "import pandas as pd\n",
    "import sqlite3"
   ]
  },
  {
   "cell_type": "code",
   "execution_count": 2,
   "id": "innovative-syndrome",
   "metadata": {
    "execution": {
     "iopub.execute_input": "2021-12-21T09:00:08.865832Z",
     "iopub.status.busy": "2021-12-21T09:00:08.863386Z",
     "iopub.status.idle": "2021-12-21T09:00:10.016457Z",
     "shell.execute_reply": "2021-12-21T09:00:10.018057Z"
    },
    "papermill": {
     "duration": 1.189456,
     "end_time": "2021-12-21T09:00:10.018609",
     "exception": false,
     "start_time": "2021-12-21T09:00:08.829153",
     "status": "completed"
    },
    "tags": []
   },
   "outputs": [],
   "source": [
    "timestamps = pd.read_sql(\"select distinct record_time from EBAY_TOP_BERLIN order by record_time desc limit 2\", sqlite3.connect(\"UsedObjects.db\"))"
   ]
  },
  {
   "cell_type": "code",
   "execution_count": 3,
   "id": "periodic-identification",
   "metadata": {
    "execution": {
     "iopub.execute_input": "2021-12-21T09:00:10.086538Z",
     "iopub.status.busy": "2021-12-21T09:00:10.084222Z",
     "iopub.status.idle": "2021-12-21T09:00:10.106087Z",
     "shell.execute_reply": "2021-12-21T09:00:10.107456Z"
    },
    "papermill": {
     "duration": 0.069942,
     "end_time": "2021-12-21T09:00:10.107927",
     "exception": false,
     "start_time": "2021-12-21T09:00:10.037985",
     "status": "completed"
    },
    "tags": []
   },
   "outputs": [
    {
     "data": {
      "text/html": [
       "<div>\n",
       "<style scoped>\n",
       "    .dataframe tbody tr th:only-of-type {\n",
       "        vertical-align: middle;\n",
       "    }\n",
       "\n",
       "    .dataframe tbody tr th {\n",
       "        vertical-align: top;\n",
       "    }\n",
       "\n",
       "    .dataframe thead th {\n",
       "        text-align: right;\n",
       "    }\n",
       "</style>\n",
       "<table border=\"1\" class=\"dataframe\">\n",
       "  <thead>\n",
       "    <tr style=\"text-align: right;\">\n",
       "      <th></th>\n",
       "      <th>RECORD_TIME</th>\n",
       "    </tr>\n",
       "  </thead>\n",
       "  <tbody>\n",
       "    <tr>\n",
       "      <th>0</th>\n",
       "      <td>2021-12-21 10:00</td>\n",
       "    </tr>\n",
       "    <tr>\n",
       "      <th>1</th>\n",
       "      <td>2021-12-21 09:30</td>\n",
       "    </tr>\n",
       "  </tbody>\n",
       "</table>\n",
       "</div>"
      ],
      "text/plain": [
       "        RECORD_TIME\n",
       "0  2021-12-21 10:00\n",
       "1  2021-12-21 09:30"
      ]
     },
     "execution_count": 3,
     "metadata": {},
     "output_type": "execute_result"
    }
   ],
   "source": [
    "timestamps"
   ]
  },
  {
   "cell_type": "code",
   "execution_count": 4,
   "id": "alternate-victory",
   "metadata": {
    "execution": {
     "iopub.execute_input": "2021-12-21T09:00:10.163319Z",
     "iopub.status.busy": "2021-12-21T09:00:10.161104Z",
     "iopub.status.idle": "2021-12-21T09:00:11.824563Z",
     "shell.execute_reply": "2021-12-21T09:00:11.826772Z"
    },
    "papermill": {
     "duration": 1.699236,
     "end_time": "2021-12-21T09:00:11.827329",
     "exception": false,
     "start_time": "2021-12-21T09:00:10.128093",
     "status": "completed"
    },
    "tags": []
   },
   "outputs": [],
   "source": [
    "df = pd.read_sql(\"select * from EBAY_TOP_BERLIN where record_time in (select distinct record_time from EBAY_TOP_BERLIN order by record_time desc limit 2)\", sqlite3.connect(\"UsedObjects.db\"))"
   ]
  },
  {
   "cell_type": "code",
   "execution_count": 5,
   "id": "popular-active",
   "metadata": {
    "execution": {
     "iopub.execute_input": "2021-12-21T09:00:11.897353Z",
     "iopub.status.busy": "2021-12-21T09:00:11.894978Z",
     "iopub.status.idle": "2021-12-21T09:00:11.921793Z",
     "shell.execute_reply": "2021-12-21T09:00:11.923160Z"
    },
    "papermill": {
     "duration": 0.072502,
     "end_time": "2021-12-21T09:00:11.923633",
     "exception": false,
     "start_time": "2021-12-21T09:00:11.851131",
     "status": "completed"
    },
    "tags": []
   },
   "outputs": [],
   "source": [
    "df_pivot = df.pivot_table(index=\"PRODUCT\", columns = \"RECORD_TIME\", values = \"LISTING_COUNT\")"
   ]
  },
  {
   "cell_type": "code",
   "execution_count": 6,
   "id": "union-huntington",
   "metadata": {
    "execution": {
     "iopub.execute_input": "2021-12-21T09:00:11.983414Z",
     "iopub.status.busy": "2021-12-21T09:00:11.980867Z",
     "iopub.status.idle": "2021-12-21T09:00:11.987311Z",
     "shell.execute_reply": "2021-12-21T09:00:11.988806Z"
    },
    "papermill": {
     "duration": 0.045839,
     "end_time": "2021-12-21T09:00:11.989307",
     "exception": false,
     "start_time": "2021-12-21T09:00:11.943468",
     "status": "completed"
    },
    "tags": []
   },
   "outputs": [],
   "source": [
    "df_pivot.columns = [\"stamp_1\", \"stamp_2\"]\n",
    "df_pivot_diff = df_pivot.diff(axis=1)"
   ]
  },
  {
   "cell_type": "code",
   "execution_count": 7,
   "id": "fifth-motion",
   "metadata": {
    "execution": {
     "iopub.execute_input": "2021-12-21T09:00:12.049993Z",
     "iopub.status.busy": "2021-12-21T09:00:12.047376Z",
     "iopub.status.idle": "2021-12-21T09:00:14.026415Z",
     "shell.execute_reply": "2021-12-21T09:00:14.027722Z"
    },
    "papermill": {
     "duration": 2.016652,
     "end_time": "2021-12-21T09:00:14.028144",
     "exception": false,
     "start_time": "2021-12-21T09:00:12.011492",
     "status": "completed"
    },
    "tags": []
   },
   "outputs": [
    {
     "data": {
      "text/plain": [
       "<AxesSubplot:ylabel='PRODUCT'>"
      ]
     },
     "execution_count": 7,
     "metadata": {},
     "output_type": "execute_result"
    },
    {
     "data": {
      "image/png": "[encoded data removed]",
      "text/plain": [
       "<Figure size 432x288 with 1 Axes>"
      ]
     },
     "metadata": {
      "needs_background": "light"
     },
     "output_type": "display_data"
    }
   ],
   "source": [
    "df_pivot_diff.sort_values(\"stamp_2\", ascending = False)[\"stamp_2\"].head(10).plot.barh()"
   ]
  },
  {
   "cell_type": "code",
   "execution_count": null,
   "id": "extra-executive",
   "metadata": {
    "papermill": {
     "duration": 0.027747,
     "end_time": "2021-12-21T09:00:14.088917",
     "exception": false,
     "start_time": "2021-12-21T09:00:14.061170",
     "status": "completed"
    },
    "tags": []
   },
   "outputs": [],
   "source": []
  }
 ],
 "metadata": {
  "kernelspec": {
   "display_name": "Python 3",
   "language": "python",
   "name": "python3"
  },
  "language_info": {
   "codemirror_mode": {
    "name": "ipython",
    "version": 3
   },
   "file_extension": ".py",
   "mimetype": "text/x-python",
   "name": "python",
   "nbconvert_exporter": "python",
   "pygments_lexer": "ipython3",
   "version": "3.9.5"
  },
  "papermill": {
   "default_parameters": {},
   "duration": 9.635775,
   "end_time": "2021-12-21T09:00:14.738100",
   "environment_variables": {},
   "exception": null,
   "input_path": "eBay_Overview.ipynb",
   "output_path": "eBay_Overview.ipynb",
   "parameters": {},
   "start_time": "2021-12-21T09:00:05.102325",
   "version": "2.3.3"
  }
 },
 "nbformat": 4,
 "nbformat_minor": 5
}