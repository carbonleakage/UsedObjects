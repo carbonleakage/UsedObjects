{
 "cells": [
  {
   "cell_type": "code",
   "execution_count": 1,
   "id": "reverse-picking",
   "metadata": {
    "execution": {
     "iopub.execute_input": "2021-08-22T15:00:07.884334Z",
     "iopub.status.busy": "2021-08-22T15:00:07.882402Z",
     "iopub.status.idle": "2021-08-22T15:00:08.688905Z",
     "shell.execute_reply": "2021-08-22T15:00:08.690225Z"
    },
    "papermill": {
     "duration": 0.858337,
     "end_time": "2021-08-22T15:00:08.690865",
     "exception": false,
     "start_time": "2021-08-22T15:00:07.832528",
     "status": "completed"
    },
    "tags": []
   },
   "outputs": [],
   "source": [
    "import pandas as pd\n",
    "import sqlite3"
   ]
  },
  {
   "cell_type": "code",
   "execution_count": 2,
   "id": "innovative-syndrome",
   "metadata": {
    "execution": {
     "iopub.execute_input": "2021-08-22T15:00:08.742629Z",
     "iopub.status.busy": "2021-08-22T15:00:08.740672Z",
     "iopub.status.idle": "2021-08-22T15:00:08.846067Z",
     "shell.execute_reply": "2021-08-22T15:00:08.847286Z"
    },
    "papermill": {
     "duration": 0.134642,
     "end_time": "2021-08-22T15:00:08.847685",
     "exception": false,
     "start_time": "2021-08-22T15:00:08.713043",
     "status": "completed"
    },
    "tags": []
   },
   "outputs": [],
   "source": [
    "timestamps = pd.read_sql(\"select distinct record_time from EBAY_TOP_BERLIN order by record_time desc limit 2\", sqlite3.connect(\"UsedObjects.db\"))"
   ]
  },
  {
   "cell_type": "code",
   "execution_count": 3,
   "id": "periodic-identification",
   "metadata": {
    "execution": {
     "iopub.execute_input": "2021-08-22T15:00:08.914727Z",
     "iopub.status.busy": "2021-08-22T15:00:08.909298Z",
     "iopub.status.idle": "2021-08-22T15:00:08.932018Z",
     "shell.execute_reply": "2021-08-22T15:00:08.933760Z"
    },
    "papermill": {
     "duration": 0.067383,
     "end_time": "2021-08-22T15:00:08.934357",
     "exception": false,
     "start_time": "2021-08-22T15:00:08.866974",
     "status": "completed"
    },
    "tags": []
   },
   "outputs": [
    {
     "data": {
      "text/html": [
       "<div>\n",
       "<style scoped>\n",
       "    .dataframe tbody tr th:only-of-type {\n",
       "        vertical-align: middle;\n",
       "    }\n",
       "\n",
       "    .dataframe tbody tr th {\n",
       "        vertical-align: top;\n",
       "    }\n",
       "\n",
       "    .dataframe thead th {\n",
       "        text-align: right;\n",
       "    }\n",
       "</style>\n",
       "<table border=\"1\" class=\"dataframe\">\n",
       "  <thead>\n",
       "    <tr style=\"text-align: right;\">\n",
       "      <th></th>\n",
       "      <th>RECORD_TIME</th>\n",
       "    </tr>\n",
       "  </thead>\n",
       "  <tbody>\n",
       "    <tr>\n",
       "      <th>0</th>\n",
       "      <td>2021-08-22 17:00</td>\n",
       "    </tr>\n",
       "    <tr>\n",
       "      <th>1</th>\n",
       "      <td>2021-08-22 16:30</td>\n",
       "    </tr>\n",
       "  </tbody>\n",
       "</table>\n",
       "</div>"
      ],
      "text/plain": [
       "        RECORD_TIME\n",
       "0  2021-08-22 17:00\n",
       "1  2021-08-22 16:30"
      ]
     },
     "execution_count": 3,
     "metadata": {},
     "output_type": "execute_result"
    }
   ],
   "source": [
    "timestamps"
   ]
  },
  {
   "cell_type": "code",
   "execution_count": 4,
   "id": "alternate-victory",
   "metadata": {
    "execution": {
     "iopub.execute_input": "2021-08-22T15:00:08.986201Z",
     "iopub.status.busy": "2021-08-22T15:00:08.984283Z",
     "iopub.status.idle": "2021-08-22T15:00:09.140416Z",
     "shell.execute_reply": "2021-08-22T15:00:09.141616Z"
    },
    "papermill": {
     "duration": 0.185698,
     "end_time": "2021-08-22T15:00:09.142063",
     "exception": false,
     "start_time": "2021-08-22T15:00:08.956365",
     "status": "completed"
    },
    "tags": []
   },
   "outputs": [],
   "source": [
    "df = pd.read_sql(\"select * from EBAY_TOP_BERLIN where record_time in (select distinct record_time from EBAY_TOP_BERLIN order by record_time desc limit 2)\", sqlite3.connect(\"UsedObjects.db\"))"
   ]
  },
  {
   "cell_type": "code",
   "execution_count": 5,
   "id": "popular-active",
   "metadata": {
    "execution": {
     "iopub.execute_input": "2021-08-22T15:00:09.211952Z",
     "iopub.status.busy": "2021-08-22T15:00:09.199592Z",
     "iopub.status.idle": "2021-08-22T15:00:09.227571Z",
     "shell.execute_reply": "2021-08-22T15:00:09.229020Z"
    },
    "papermill": {
     "duration": 0.067095,
     "end_time": "2021-08-22T15:00:09.229444",
     "exception": false,
     "start_time": "2021-08-22T15:00:09.162349",
     "status": "completed"
    },
    "tags": []
   },
   "outputs": [],
   "source": [
    "df_pivot = df.pivot_table(index=\"PRODUCT\", columns = \"RECORD_TIME\", values = \"LISTING_COUNT\")"
   ]
  },
  {
   "cell_type": "code",
   "execution_count": 6,
   "id": "union-huntington",
   "metadata": {
    "execution": {
     "iopub.execute_input": "2021-08-22T15:00:09.285177Z",
     "iopub.status.busy": "2021-08-22T15:00:09.283144Z",
     "iopub.status.idle": "2021-08-22T15:00:09.288436Z",
     "shell.execute_reply": "2021-08-22T15:00:09.289712Z"
    },
    "papermill": {
     "duration": 0.040285,
     "end_time": "2021-08-22T15:00:09.290319",
     "exception": false,
     "start_time": "2021-08-22T15:00:09.250034",
     "status": "completed"
    },
    "tags": []
   },
   "outputs": [],
   "source": [
    "df_pivot.columns = [\"stamp_1\", \"stamp_2\"]\n",
    "df_pivot_diff = df_pivot.diff(axis=1)"
   ]
  },
  {
   "cell_type": "code",
   "execution_count": 7,
   "id": "fifth-motion",
   "metadata": {
    "execution": {
     "iopub.execute_input": "2021-08-22T15:00:09.352648Z",
     "iopub.status.busy": "2021-08-22T15:00:09.350002Z",
     "iopub.status.idle": "2021-08-22T15:00:10.838872Z",
     "shell.execute_reply": "2021-08-22T15:00:10.840174Z"
    },
    "papermill": {
     "duration": 1.523455,
     "end_time": "2021-08-22T15:00:10.840588",
     "exception": false,
     "start_time": "2021-08-22T15:00:09.317133",
     "status": "completed"
    },
    "tags": []
   },
   "outputs": [
    {
     "data": {
      "text/plain": [
       "<AxesSubplot:ylabel='PRODUCT'>"
      ]
     },
     "execution_count": 7,
     "metadata": {},
     "output_type": "execute_result"
    },
    {
     "data": {
      "image/png": "[encoded data removed]",
      "text/plain": [
       "<Figure size 432x288 with 1 Axes>"
      ]
     },
     "metadata": {
      "needs_background": "light"
     },
     "output_type": "display_data"
    }
   ],
   "source": [
    "df_pivot_diff.sort_values(\"stamp_2\", ascending = False)[\"stamp_2\"].head(10).plot.barh()"
   ]
  },
  {
   "cell_type": "code",
   "execution_count": null,
   "id": "extra-executive",
   "metadata": {
    "papermill": {
     "duration": 0.022125,
     "end_time": "2021-08-22T15:00:10.888241",
     "exception": false,
     "start_time": "2021-08-22T15:00:10.866116",
     "status": "completed"
    },
    "tags": []
   },
   "outputs": [],
   "source": []
  }
 ],
 "metadata": {
  "kernelspec": {
   "display_name": "Python 3",
   "language": "python",
   "name": "python3"
  },
  "language_info": {
   "codemirror_mode": {
    "name": "ipython",
    "version": 3
   },
   "file_extension": ".py",
   "mimetype": "text/x-python",
   "name": "python",
   "nbconvert_exporter": "python",
   "pygments_lexer": "ipython3",
   "version": "3.9.5"
  },
  "papermill": {
   "default_parameters": {},
   "duration": 6.833375,
   "end_time": "2021-08-22T15:00:12.253235",
   "environment_variables": {},
   "exception": null,
   "input_path": "eBay_Overview.ipynb",
   "output_path": "eBay_Overview.ipynb",
   "parameters": {},
   "start_time": "2021-08-22T15:00:05.419860",
   "version": "2.3.3"
  }
 },
 "nbformat": 4,
 "nbformat_minor": 5
}