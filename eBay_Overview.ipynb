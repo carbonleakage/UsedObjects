{
 "cells": [
  {
   "cell_type": "code",
   "execution_count": 1,
   "id": "reverse-picking",
   "metadata": {
    "execution": {
     "iopub.execute_input": "2021-12-14T13:30:07.201926Z",
     "iopub.status.busy": "2021-12-14T13:30:07.198356Z",
     "iopub.status.idle": "2021-12-14T13:30:08.144134Z",
     "shell.execute_reply": "2021-12-14T13:30:08.145782Z"
    },
    "papermill": {
     "duration": 0.995081,
     "end_time": "2021-12-14T13:30:08.146510",
     "exception": false,
     "start_time": "2021-12-14T13:30:07.151429",
     "status": "completed"
    },
    "tags": []
   },
   "outputs": [],
   "source": [
    "import pandas as pd\n",
    "import sqlite3"
   ]
  },
  {
   "cell_type": "code",
   "execution_count": 2,
   "id": "innovative-syndrome",
   "metadata": {
    "execution": {
     "iopub.execute_input": "2021-12-14T13:30:08.209004Z",
     "iopub.status.busy": "2021-12-14T13:30:08.206770Z",
     "iopub.status.idle": "2021-12-14T13:30:09.266682Z",
     "shell.execute_reply": "2021-12-14T13:30:09.268809Z"
    },
    "papermill": {
     "duration": 1.095434,
     "end_time": "2021-12-14T13:30:09.269298",
     "exception": false,
     "start_time": "2021-12-14T13:30:08.173864",
     "status": "completed"
    },
    "tags": []
   },
   "outputs": [],
   "source": [
    "timestamps = pd.read_sql(\"select distinct record_time from EBAY_TOP_BERLIN order by record_time desc limit 2\", sqlite3.connect(\"UsedObjects.db\"))"
   ]
  },
  {
   "cell_type": "code",
   "execution_count": 3,
   "id": "periodic-identification",
   "metadata": {
    "execution": {
     "iopub.execute_input": "2021-12-14T13:30:09.341815Z",
     "iopub.status.busy": "2021-12-14T13:30:09.339511Z",
     "iopub.status.idle": "2021-12-14T13:30:09.363214Z",
     "shell.execute_reply": "2021-12-14T13:30:09.364568Z"
    },
    "papermill": {
     "duration": 0.073684,
     "end_time": "2021-12-14T13:30:09.365092",
     "exception": false,
     "start_time": "2021-12-14T13:30:09.291408",
     "status": "completed"
    },
    "tags": []
   },
   "outputs": [
    {
     "data": {
      "text/html": [
       "<div>\n",
       "<style scoped>\n",
       "    .dataframe tbody tr th:only-of-type {\n",
       "        vertical-align: middle;\n",
       "    }\n",
       "\n",
       "    .dataframe tbody tr th {\n",
       "        vertical-align: top;\n",
       "    }\n",
       "\n",
       "    .dataframe thead th {\n",
       "        text-align: right;\n",
       "    }\n",
       "</style>\n",
       "<table border=\"1\" class=\"dataframe\">\n",
       "  <thead>\n",
       "    <tr style=\"text-align: right;\">\n",
       "      <th></th>\n",
       "      <th>RECORD_TIME</th>\n",
       "    </tr>\n",
       "  </thead>\n",
       "  <tbody>\n",
       "    <tr>\n",
       "      <th>0</th>\n",
       "      <td>2021-12-14 14:30</td>\n",
       "    </tr>\n",
       "    <tr>\n",
       "      <th>1</th>\n",
       "      <td>2021-12-14 14:00</td>\n",
       "    </tr>\n",
       "  </tbody>\n",
       "</table>\n",
       "</div>"
      ],
      "text/plain": [
       "        RECORD_TIME\n",
       "0  2021-12-14 14:30\n",
       "1  2021-12-14 14:00"
      ]
     },
     "execution_count": 3,
     "metadata": {},
     "output_type": "execute_result"
    }
   ],
   "source": [
    "timestamps"
   ]
  },
  {
   "cell_type": "code",
   "execution_count": 4,
   "id": "alternate-victory",
   "metadata": {
    "execution": {
     "iopub.execute_input": "2021-12-14T13:30:09.421322Z",
     "iopub.status.busy": "2021-12-14T13:30:09.419159Z",
     "iopub.status.idle": "2021-12-14T13:30:10.951177Z",
     "shell.execute_reply": "2021-12-14T13:30:10.952613Z"
    },
    "papermill": {
     "duration": 1.567111,
     "end_time": "2021-12-14T13:30:10.953176",
     "exception": false,
     "start_time": "2021-12-14T13:30:09.386065",
     "status": "completed"
    },
    "tags": []
   },
   "outputs": [],
   "source": [
    "df = pd.read_sql(\"select * from EBAY_TOP_BERLIN where record_time in (select distinct record_time from EBAY_TOP_BERLIN order by record_time desc limit 2)\", sqlite3.connect(\"UsedObjects.db\"))"
   ]
  },
  {
   "cell_type": "code",
   "execution_count": 5,
   "id": "popular-active",
   "metadata": {
    "execution": {
     "iopub.execute_input": "2021-12-14T13:30:11.019697Z",
     "iopub.status.busy": "2021-12-14T13:30:11.017286Z",
     "iopub.status.idle": "2021-12-14T13:30:11.056611Z",
     "shell.execute_reply": "2021-12-14T13:30:11.058355Z"
    },
    "papermill": {
     "duration": 0.08326,
     "end_time": "2021-12-14T13:30:11.058924",
     "exception": false,
     "start_time": "2021-12-14T13:30:10.975664",
     "status": "completed"
    },
    "tags": []
   },
   "outputs": [],
   "source": [
    "df_pivot = df.pivot_table(index=\"PRODUCT\", columns = \"RECORD_TIME\", values = \"LISTING_COUNT\")"
   ]
  },
  {
   "cell_type": "code",
   "execution_count": 6,
   "id": "union-huntington",
   "metadata": {
    "execution": {
     "iopub.execute_input": "2021-12-14T13:30:11.124403Z",
     "iopub.status.busy": "2021-12-14T13:30:11.122159Z",
     "iopub.status.idle": "2021-12-14T13:30:11.127521Z",
     "shell.execute_reply": "2021-12-14T13:30:11.128939Z"
    },
    "papermill": {
     "duration": 0.046853,
     "end_time": "2021-12-14T13:30:11.129426",
     "exception": false,
     "start_time": "2021-12-14T13:30:11.082573",
     "status": "completed"
    },
    "tags": []
   },
   "outputs": [],
   "source": [
    "df_pivot.columns = [\"stamp_1\", \"stamp_2\"]\n",
    "df_pivot_diff = df_pivot.diff(axis=1)"
   ]
  },
  {
   "cell_type": "code",
   "execution_count": 7,
   "id": "fifth-motion",
   "metadata": {
    "execution": {
     "iopub.execute_input": "2021-12-14T13:30:11.185815Z",
     "iopub.status.busy": "2021-12-14T13:30:11.183252Z",
     "iopub.status.idle": "2021-12-14T13:30:13.215048Z",
     "shell.execute_reply": "2021-12-14T13:30:13.217058Z"
    },
    "papermill": {
     "duration": 2.068116,
     "end_time": "2021-12-14T13:30:13.217660",
     "exception": false,
     "start_time": "2021-12-14T13:30:11.149544",
     "status": "completed"
    },
    "tags": []
   },
   "outputs": [
    {
     "data": {
      "text/plain": [
       "<AxesSubplot:ylabel='PRODUCT'>"
      ]
     },
     "execution_count": 7,
     "metadata": {},
     "output_type": "execute_result"
    },
    {
     "data": {
      "image/png": "[encoded data removed]",
      "text/plain": [
       "<Figure size 432x288 with 1 Axes>"
      ]
     },
     "metadata": {
      "needs_background": "light"
     },
     "output_type": "display_data"
    }
   ],
   "source": [
    "df_pivot_diff.sort_values(\"stamp_2\", ascending = False)[\"stamp_2\"].head(10).plot.barh()"
   ]
  },
  {
   "cell_type": "code",
   "execution_count": null,
   "id": "extra-executive",
   "metadata": {
    "papermill": {
     "duration": 0.024766,
     "end_time": "2021-12-14T13:30:13.275927",
     "exception": false,
     "start_time": "2021-12-14T13:30:13.251161",
     "status": "completed"
    },
    "tags": []
   },
   "outputs": [],
   "source": []
  }
 ],
 "metadata": {
  "kernelspec": {
   "display_name": "Python 3",
   "language": "python",
   "name": "python3"
  },
  "language_info": {
   "codemirror_mode": {
    "name": "ipython",
    "version": 3
   },
   "file_extension": ".py",
   "mimetype": "text/x-python",
   "name": "python",
   "nbconvert_exporter": "python",
   "pygments_lexer": "ipython3",
   "version": "3.9.5"
  },
  "papermill": {
   "default_parameters": {},
   "duration": 9.486444,
   "end_time": "2021-12-14T13:30:13.924032",
   "environment_variables": {},
   "exception": null,
   "input_path": "eBay_Overview.ipynb",
   "output_path": "eBay_Overview.ipynb",
   "parameters": {},
   "start_time": "2021-12-14T13:30:04.437588",
   "version": "2.3.3"
  }
 },
 "nbformat": 4,
 "nbformat_minor": 5
}