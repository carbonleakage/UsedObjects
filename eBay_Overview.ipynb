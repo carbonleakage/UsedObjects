{
 "cells": [
  {
   "cell_type": "code",
   "execution_count": 1,
   "id": "reverse-picking",
   "metadata": {
    "execution": {
     "iopub.execute_input": "2021-11-23T06:00:07.502812Z",
     "iopub.status.busy": "2021-11-23T06:00:07.500626Z",
     "iopub.status.idle": "2021-11-23T06:00:08.459369Z",
     "shell.execute_reply": "2021-11-23T06:00:08.461055Z"
    },
    "papermill": {
     "duration": 1.012199,
     "end_time": "2021-11-23T06:00:08.461879",
     "exception": false,
     "start_time": "2021-11-23T06:00:07.449680",
     "status": "completed"
    },
    "tags": []
   },
   "outputs": [],
   "source": [
    "import pandas as pd\n",
    "import sqlite3"
   ]
  },
  {
   "cell_type": "code",
   "execution_count": 2,
   "id": "innovative-syndrome",
   "metadata": {
    "execution": {
     "iopub.execute_input": "2021-11-23T06:00:08.527806Z",
     "iopub.status.busy": "2021-11-23T06:00:08.525452Z",
     "iopub.status.idle": "2021-11-23T06:00:09.439816Z",
     "shell.execute_reply": "2021-11-23T06:00:09.442287Z"
    },
    "papermill": {
     "duration": 0.951048,
     "end_time": "2021-11-23T06:00:09.442789",
     "exception": false,
     "start_time": "2021-11-23T06:00:08.491741",
     "status": "completed"
    },
    "tags": []
   },
   "outputs": [],
   "source": [
    "timestamps = pd.read_sql(\"select distinct record_time from EBAY_TOP_BERLIN order by record_time desc limit 2\", sqlite3.connect(\"UsedObjects.db\"))"
   ]
  },
  {
   "cell_type": "code",
   "execution_count": 3,
   "id": "periodic-identification",
   "metadata": {
    "execution": {
     "iopub.execute_input": "2021-11-23T06:00:09.515384Z",
     "iopub.status.busy": "2021-11-23T06:00:09.512433Z",
     "iopub.status.idle": "2021-11-23T06:00:09.537276Z",
     "shell.execute_reply": "2021-11-23T06:00:09.538562Z"
    },
    "papermill": {
     "duration": 0.075816,
     "end_time": "2021-11-23T06:00:09.539044",
     "exception": false,
     "start_time": "2021-11-23T06:00:09.463228",
     "status": "completed"
    },
    "tags": []
   },
   "outputs": [
    {
     "data": {
      "text/html": [
       "<div>\n",
       "<style scoped>\n",
       "    .dataframe tbody tr th:only-of-type {\n",
       "        vertical-align: middle;\n",
       "    }\n",
       "\n",
       "    .dataframe tbody tr th {\n",
       "        vertical-align: top;\n",
       "    }\n",
       "\n",
       "    .dataframe thead th {\n",
       "        text-align: right;\n",
       "    }\n",
       "</style>\n",
       "<table border=\"1\" class=\"dataframe\">\n",
       "  <thead>\n",
       "    <tr style=\"text-align: right;\">\n",
       "      <th></th>\n",
       "      <th>RECORD_TIME</th>\n",
       "    </tr>\n",
       "  </thead>\n",
       "  <tbody>\n",
       "    <tr>\n",
       "      <th>0</th>\n",
       "      <td>2021-11-23 07:00</td>\n",
       "    </tr>\n",
       "    <tr>\n",
       "      <th>1</th>\n",
       "      <td>2021-11-23 06:30</td>\n",
       "    </tr>\n",
       "  </tbody>\n",
       "</table>\n",
       "</div>"
      ],
      "text/plain": [
       "        RECORD_TIME\n",
       "0  2021-11-23 07:00\n",
       "1  2021-11-23 06:30"
      ]
     },
     "execution_count": 3,
     "metadata": {},
     "output_type": "execute_result"
    }
   ],
   "source": [
    "timestamps"
   ]
  },
  {
   "cell_type": "code",
   "execution_count": 4,
   "id": "alternate-victory",
   "metadata": {
    "execution": {
     "iopub.execute_input": "2021-11-23T06:00:09.588759Z",
     "iopub.status.busy": "2021-11-23T06:00:09.586853Z",
     "iopub.status.idle": "2021-11-23T06:00:10.903590Z",
     "shell.execute_reply": "2021-11-23T06:00:10.905099Z"
    },
    "papermill": {
     "duration": 1.347155,
     "end_time": "2021-11-23T06:00:10.905594",
     "exception": false,
     "start_time": "2021-11-23T06:00:09.558439",
     "status": "completed"
    },
    "tags": []
   },
   "outputs": [],
   "source": [
    "df = pd.read_sql(\"select * from EBAY_TOP_BERLIN where record_time in (select distinct record_time from EBAY_TOP_BERLIN order by record_time desc limit 2)\", sqlite3.connect(\"UsedObjects.db\"))"
   ]
  },
  {
   "cell_type": "code",
   "execution_count": 5,
   "id": "popular-active",
   "metadata": {
    "execution": {
     "iopub.execute_input": "2021-11-23T06:00:10.972970Z",
     "iopub.status.busy": "2021-11-23T06:00:10.970397Z",
     "iopub.status.idle": "2021-11-23T06:00:11.001074Z",
     "shell.execute_reply": "2021-11-23T06:00:11.002448Z"
    },
    "papermill": {
     "duration": 0.074874,
     "end_time": "2021-11-23T06:00:11.002921",
     "exception": false,
     "start_time": "2021-11-23T06:00:10.928047",
     "status": "completed"
    },
    "tags": []
   },
   "outputs": [],
   "source": [
    "df_pivot = df.pivot_table(index=\"PRODUCT\", columns = \"RECORD_TIME\", values = \"LISTING_COUNT\")"
   ]
  },
  {
   "cell_type": "code",
   "execution_count": 6,
   "id": "union-huntington",
   "metadata": {
    "execution": {
     "iopub.execute_input": "2021-11-23T06:00:11.061083Z",
     "iopub.status.busy": "2021-11-23T06:00:11.058778Z",
     "iopub.status.idle": "2021-11-23T06:00:11.064611Z",
     "shell.execute_reply": "2021-11-23T06:00:11.066116Z"
    },
    "papermill": {
     "duration": 0.043543,
     "end_time": "2021-11-23T06:00:11.066588",
     "exception": false,
     "start_time": "2021-11-23T06:00:11.023045",
     "status": "completed"
    },
    "tags": []
   },
   "outputs": [],
   "source": [
    "df_pivot.columns = [\"stamp_1\", \"stamp_2\"]\n",
    "df_pivot_diff = df_pivot.diff(axis=1)"
   ]
  },
  {
   "cell_type": "code",
   "execution_count": 7,
   "id": "fifth-motion",
   "metadata": {
    "execution": {
     "iopub.execute_input": "2021-11-23T06:00:11.128557Z",
     "iopub.status.busy": "2021-11-23T06:00:11.125990Z",
     "iopub.status.idle": "2021-11-23T06:00:13.146001Z",
     "shell.execute_reply": "2021-11-23T06:00:13.147781Z"
    },
    "papermill": {
     "duration": 2.05909,
     "end_time": "2021-11-23T06:00:13.148384",
     "exception": false,
     "start_time": "2021-11-23T06:00:11.089294",
     "status": "completed"
    },
    "tags": []
   },
   "outputs": [
    {
     "data": {
      "text/plain": [
       "<AxesSubplot:ylabel='PRODUCT'>"
      ]
     },
     "execution_count": 7,
     "metadata": {},
     "output_type": "execute_result"
    },
    {
     "data": {
      "image/png": "[encoded data removed]",
      "text/plain": [
       "<Figure size 432x288 with 1 Axes>"
      ]
     },
     "metadata": {
      "needs_background": "light"
     },
     "output_type": "display_data"
    }
   ],
   "source": [
    "df_pivot_diff.sort_values(\"stamp_2\", ascending = False)[\"stamp_2\"].head(10).plot.barh()"
   ]
  },
  {
   "cell_type": "code",
   "execution_count": null,
   "id": "extra-executive",
   "metadata": {
    "papermill": {
     "duration": 0.038671,
     "end_time": "2021-11-23T06:00:13.215340",
     "exception": false,
     "start_time": "2021-11-23T06:00:13.176669",
     "status": "completed"
    },
    "tags": []
   },
   "outputs": [],
   "source": []
  }
 ],
 "metadata": {
  "kernelspec": {
   "display_name": "Python 3",
   "language": "python",
   "name": "python3"
  },
  "language_info": {
   "codemirror_mode": {
    "name": "ipython",
    "version": 3
   },
   "file_extension": ".py",
   "mimetype": "text/x-python",
   "name": "python",
   "nbconvert_exporter": "python",
   "pygments_lexer": "ipython3",
   "version": "3.9.5"
  },
  "papermill": {
   "default_parameters": {},
   "duration": 9.932974,
   "end_time": "2021-11-23T06:00:14.664218",
   "environment_variables": {},
   "exception": null,
   "input_path": "eBay_Overview.ipynb",
   "output_path": "eBay_Overview.ipynb",
   "parameters": {},
   "start_time": "2021-11-23T06:00:04.731244",
   "version": "2.3.3"
  }
 },
 "nbformat": 4,
 "nbformat_minor": 5
}