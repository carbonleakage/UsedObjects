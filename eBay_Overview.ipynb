{
 "cells": [
  {
   "cell_type": "code",
   "execution_count": 1,
   "id": "reverse-picking",
   "metadata": {
    "execution": {
     "iopub.execute_input": "2021-12-09T04:30:07.527177Z",
     "iopub.status.busy": "2021-12-09T04:30:07.524646Z",
     "iopub.status.idle": "2021-12-09T04:30:08.504176Z",
     "shell.execute_reply": "2021-12-09T04:30:08.506365Z"
    },
    "papermill": {
     "duration": 1.025949,
     "end_time": "2021-12-09T04:30:08.507080",
     "exception": false,
     "start_time": "2021-12-09T04:30:07.481131",
     "status": "completed"
    },
    "tags": []
   },
   "outputs": [],
   "source": [
    "import pandas as pd\n",
    "import sqlite3"
   ]
  },
  {
   "cell_type": "code",
   "execution_count": 2,
   "id": "innovative-syndrome",
   "metadata": {
    "execution": {
     "iopub.execute_input": "2021-12-09T04:30:08.561822Z",
     "iopub.status.busy": "2021-12-09T04:30:08.559668Z",
     "iopub.status.idle": "2021-12-09T04:30:09.595296Z",
     "shell.execute_reply": "2021-12-09T04:30:09.596754Z"
    },
    "papermill": {
     "duration": 1.06875,
     "end_time": "2021-12-09T04:30:09.597230",
     "exception": false,
     "start_time": "2021-12-09T04:30:08.528480",
     "status": "completed"
    },
    "tags": []
   },
   "outputs": [],
   "source": [
    "timestamps = pd.read_sql(\"select distinct record_time from EBAY_TOP_BERLIN order by record_time desc limit 2\", sqlite3.connect(\"UsedObjects.db\"))"
   ]
  },
  {
   "cell_type": "code",
   "execution_count": 3,
   "id": "periodic-identification",
   "metadata": {
    "execution": {
     "iopub.execute_input": "2021-12-09T04:30:09.683562Z",
     "iopub.status.busy": "2021-12-09T04:30:09.679539Z",
     "iopub.status.idle": "2021-12-09T04:30:09.717715Z",
     "shell.execute_reply": "2021-12-09T04:30:09.720897Z"
    },
    "papermill": {
     "duration": 0.103562,
     "end_time": "2021-12-09T04:30:09.721716",
     "exception": false,
     "start_time": "2021-12-09T04:30:09.618154",
     "status": "completed"
    },
    "tags": []
   },
   "outputs": [
    {
     "data": {
      "text/html": [
       "<div>\n",
       "<style scoped>\n",
       "    .dataframe tbody tr th:only-of-type {\n",
       "        vertical-align: middle;\n",
       "    }\n",
       "\n",
       "    .dataframe tbody tr th {\n",
       "        vertical-align: top;\n",
       "    }\n",
       "\n",
       "    .dataframe thead th {\n",
       "        text-align: right;\n",
       "    }\n",
       "</style>\n",
       "<table border=\"1\" class=\"dataframe\">\n",
       "  <thead>\n",
       "    <tr style=\"text-align: right;\">\n",
       "      <th></th>\n",
       "      <th>RECORD_TIME</th>\n",
       "    </tr>\n",
       "  </thead>\n",
       "  <tbody>\n",
       "    <tr>\n",
       "      <th>0</th>\n",
       "      <td>2021-12-09 05:30</td>\n",
       "    </tr>\n",
       "    <tr>\n",
       "      <th>1</th>\n",
       "      <td>2021-12-09 05:00</td>\n",
       "    </tr>\n",
       "  </tbody>\n",
       "</table>\n",
       "</div>"
      ],
      "text/plain": [
       "        RECORD_TIME\n",
       "0  2021-12-09 05:30\n",
       "1  2021-12-09 05:00"
      ]
     },
     "execution_count": 3,
     "metadata": {},
     "output_type": "execute_result"
    }
   ],
   "source": [
    "timestamps"
   ]
  },
  {
   "cell_type": "code",
   "execution_count": 4,
   "id": "alternate-victory",
   "metadata": {
    "execution": {
     "iopub.execute_input": "2021-12-09T04:30:09.783537Z",
     "iopub.status.busy": "2021-12-09T04:30:09.781147Z",
     "iopub.status.idle": "2021-12-09T04:30:11.287517Z",
     "shell.execute_reply": "2021-12-09T04:30:11.292584Z"
    },
    "papermill": {
     "duration": 1.545273,
     "end_time": "2021-12-09T04:30:11.293549",
     "exception": false,
     "start_time": "2021-12-09T04:30:09.748276",
     "status": "completed"
    },
    "tags": []
   },
   "outputs": [],
   "source": [
    "df = pd.read_sql(\"select * from EBAY_TOP_BERLIN where record_time in (select distinct record_time from EBAY_TOP_BERLIN order by record_time desc limit 2)\", sqlite3.connect(\"UsedObjects.db\"))"
   ]
  },
  {
   "cell_type": "code",
   "execution_count": 5,
   "id": "popular-active",
   "metadata": {
    "execution": {
     "iopub.execute_input": "2021-12-09T04:30:11.419769Z",
     "iopub.status.busy": "2021-12-09T04:30:11.393155Z",
     "iopub.status.idle": "2021-12-09T04:30:11.461732Z",
     "shell.execute_reply": "2021-12-09T04:30:11.458408Z"
    },
    "papermill": {
     "duration": 0.135378,
     "end_time": "2021-12-09T04:30:11.462474",
     "exception": false,
     "start_time": "2021-12-09T04:30:11.327096",
     "status": "completed"
    },
    "tags": []
   },
   "outputs": [],
   "source": [
    "df_pivot = df.pivot_table(index=\"PRODUCT\", columns = \"RECORD_TIME\", values = \"LISTING_COUNT\")"
   ]
  },
  {
   "cell_type": "code",
   "execution_count": 6,
   "id": "union-huntington",
   "metadata": {
    "execution": {
     "iopub.execute_input": "2021-12-09T04:30:11.543243Z",
     "iopub.status.busy": "2021-12-09T04:30:11.539020Z",
     "iopub.status.idle": "2021-12-09T04:30:11.551983Z",
     "shell.execute_reply": "2021-12-09T04:30:11.549217Z"
    },
    "papermill": {
     "duration": 0.059924,
     "end_time": "2021-12-09T04:30:11.553103",
     "exception": false,
     "start_time": "2021-12-09T04:30:11.493179",
     "status": "completed"
    },
    "tags": []
   },
   "outputs": [],
   "source": [
    "df_pivot.columns = [\"stamp_1\", \"stamp_2\"]\n",
    "df_pivot_diff = df_pivot.diff(axis=1)"
   ]
  },
  {
   "cell_type": "code",
   "execution_count": 7,
   "id": "fifth-motion",
   "metadata": {
    "execution": {
     "iopub.execute_input": "2021-12-09T04:30:11.655102Z",
     "iopub.status.busy": "2021-12-09T04:30:11.637897Z",
     "iopub.status.idle": "2021-12-09T04:30:13.409782Z",
     "shell.execute_reply": "2021-12-09T04:30:13.411106Z"
    },
    "papermill": {
     "duration": 1.82425,
     "end_time": "2021-12-09T04:30:13.411531",
     "exception": false,
     "start_time": "2021-12-09T04:30:11.587281",
     "status": "completed"
    },
    "tags": []
   },
   "outputs": [
    {
     "data": {
      "text/plain": [
       "<AxesSubplot:ylabel='PRODUCT'>"
      ]
     },
     "execution_count": 7,
     "metadata": {},
     "output_type": "execute_result"
    },
    {
     "data": {
      "image/png": "[encoded data removed]",
      "text/plain": [
       "<Figure size 432x288 with 1 Axes>"
      ]
     },
     "metadata": {
      "needs_background": "light"
     },
     "output_type": "display_data"
    }
   ],
   "source": [
    "df_pivot_diff.sort_values(\"stamp_2\", ascending = False)[\"stamp_2\"].head(10).plot.barh()"
   ]
  },
  {
   "cell_type": "code",
   "execution_count": null,
   "id": "extra-executive",
   "metadata": {
    "papermill": {
     "duration": 0.021896,
     "end_time": "2021-12-09T04:30:13.459049",
     "exception": false,
     "start_time": "2021-12-09T04:30:13.437153",
     "status": "completed"
    },
    "tags": []
   },
   "outputs": [],
   "source": []
  }
 ],
 "metadata": {
  "kernelspec": {
   "display_name": "Python 3",
   "language": "python",
   "name": "python3"
  },
  "language_info": {
   "codemirror_mode": {
    "name": "ipython",
    "version": 3
   },
   "file_extension": ".py",
   "mimetype": "text/x-python",
   "name": "python",
   "nbconvert_exporter": "python",
   "pygments_lexer": "ipython3",
   "version": "3.9.5"
  },
  "papermill": {
   "default_parameters": {},
   "duration": 9.95242,
   "end_time": "2021-12-09T04:30:14.671170",
   "environment_variables": {},
   "exception": null,
   "input_path": "eBay_Overview.ipynb",
   "output_path": "eBay_Overview.ipynb",
   "parameters": {},
   "start_time": "2021-12-09T04:30:04.718750",
   "version": "2.3.3"
  }
 },
 "nbformat": 4,
 "nbformat_minor": 5
}