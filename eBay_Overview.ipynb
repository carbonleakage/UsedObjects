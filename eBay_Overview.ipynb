{
 "cells": [
  {
   "cell_type": "code",
   "execution_count": 1,
   "id": "reverse-picking",
   "metadata": {
    "execution": {
     "iopub.execute_input": "2021-09-20T11:00:07.418126Z",
     "iopub.status.busy": "2021-09-20T11:00:07.416150Z",
     "iopub.status.idle": "2021-09-20T11:00:08.220990Z",
     "shell.execute_reply": "2021-09-20T11:00:08.222235Z"
    },
    "papermill": {
     "duration": 0.85509,
     "end_time": "2021-09-20T11:00:08.222920",
     "exception": false,
     "start_time": "2021-09-20T11:00:07.367830",
     "status": "completed"
    },
    "tags": []
   },
   "outputs": [],
   "source": [
    "import pandas as pd\n",
    "import sqlite3"
   ]
  },
  {
   "cell_type": "code",
   "execution_count": 2,
   "id": "innovative-syndrome",
   "metadata": {
    "execution": {
     "iopub.execute_input": "2021-09-20T11:00:08.273330Z",
     "iopub.status.busy": "2021-09-20T11:00:08.271474Z",
     "iopub.status.idle": "2021-09-20T11:00:08.610951Z",
     "shell.execute_reply": "2021-09-20T11:00:08.612484Z"
    },
    "papermill": {
     "duration": 0.369344,
     "end_time": "2021-09-20T11:00:08.612933",
     "exception": false,
     "start_time": "2021-09-20T11:00:08.243589",
     "status": "completed"
    },
    "tags": []
   },
   "outputs": [],
   "source": [
    "timestamps = pd.read_sql(\"select distinct record_time from EBAY_TOP_BERLIN order by record_time desc limit 2\", sqlite3.connect(\"UsedObjects.db\"))"
   ]
  },
  {
   "cell_type": "code",
   "execution_count": 3,
   "id": "periodic-identification",
   "metadata": {
    "execution": {
     "iopub.execute_input": "2021-09-20T11:00:08.678637Z",
     "iopub.status.busy": "2021-09-20T11:00:08.676609Z",
     "iopub.status.idle": "2021-09-20T11:00:08.697320Z",
     "shell.execute_reply": "2021-09-20T11:00:08.698775Z"
    },
    "papermill": {
     "duration": 0.066638,
     "end_time": "2021-09-20T11:00:08.699324",
     "exception": false,
     "start_time": "2021-09-20T11:00:08.632686",
     "status": "completed"
    },
    "tags": []
   },
   "outputs": [
    {
     "data": {
      "text/html": [
       "<div>\n",
       "<style scoped>\n",
       "    .dataframe tbody tr th:only-of-type {\n",
       "        vertical-align: middle;\n",
       "    }\n",
       "\n",
       "    .dataframe tbody tr th {\n",
       "        vertical-align: top;\n",
       "    }\n",
       "\n",
       "    .dataframe thead th {\n",
       "        text-align: right;\n",
       "    }\n",
       "</style>\n",
       "<table border=\"1\" class=\"dataframe\">\n",
       "  <thead>\n",
       "    <tr style=\"text-align: right;\">\n",
       "      <th></th>\n",
       "      <th>RECORD_TIME</th>\n",
       "    </tr>\n",
       "  </thead>\n",
       "  <tbody>\n",
       "    <tr>\n",
       "      <th>0</th>\n",
       "      <td>2021-09-20 13:00</td>\n",
       "    </tr>\n",
       "    <tr>\n",
       "      <th>1</th>\n",
       "      <td>2021-09-20 12:30</td>\n",
       "    </tr>\n",
       "  </tbody>\n",
       "</table>\n",
       "</div>"
      ],
      "text/plain": [
       "        RECORD_TIME\n",
       "0  2021-09-20 13:00\n",
       "1  2021-09-20 12:30"
      ]
     },
     "execution_count": 3,
     "metadata": {},
     "output_type": "execute_result"
    }
   ],
   "source": [
    "timestamps"
   ]
  },
  {
   "cell_type": "code",
   "execution_count": 4,
   "id": "alternate-victory",
   "metadata": {
    "execution": {
     "iopub.execute_input": "2021-09-20T11:00:08.751103Z",
     "iopub.status.busy": "2021-09-20T11:00:08.749176Z",
     "iopub.status.idle": "2021-09-20T11:00:09.245203Z",
     "shell.execute_reply": "2021-09-20T11:00:09.246492Z"
    },
    "papermill": {
     "duration": 0.525983,
     "end_time": "2021-09-20T11:00:09.246976",
     "exception": false,
     "start_time": "2021-09-20T11:00:08.720993",
     "status": "completed"
    },
    "tags": []
   },
   "outputs": [],
   "source": [
    "df = pd.read_sql(\"select * from EBAY_TOP_BERLIN where record_time in (select distinct record_time from EBAY_TOP_BERLIN order by record_time desc limit 2)\", sqlite3.connect(\"UsedObjects.db\"))"
   ]
  },
  {
   "cell_type": "code",
   "execution_count": 5,
   "id": "popular-active",
   "metadata": {
    "execution": {
     "iopub.execute_input": "2021-09-20T11:00:09.327710Z",
     "iopub.status.busy": "2021-09-20T11:00:09.315224Z",
     "iopub.status.idle": "2021-09-20T11:00:09.344040Z",
     "shell.execute_reply": "2021-09-20T11:00:09.345443Z"
    },
    "papermill": {
     "duration": 0.073165,
     "end_time": "2021-09-20T11:00:09.345881",
     "exception": false,
     "start_time": "2021-09-20T11:00:09.272716",
     "status": "completed"
    },
    "tags": []
   },
   "outputs": [],
   "source": [
    "df_pivot = df.pivot_table(index=\"PRODUCT\", columns = \"RECORD_TIME\", values = \"LISTING_COUNT\")"
   ]
  },
  {
   "cell_type": "code",
   "execution_count": 6,
   "id": "union-huntington",
   "metadata": {
    "execution": {
     "iopub.execute_input": "2021-09-20T11:00:09.404377Z",
     "iopub.status.busy": "2021-09-20T11:00:09.401910Z",
     "iopub.status.idle": "2021-09-20T11:00:09.408105Z",
     "shell.execute_reply": "2021-09-20T11:00:09.409574Z"
    },
    "papermill": {
     "duration": 0.042495,
     "end_time": "2021-09-20T11:00:09.410032",
     "exception": false,
     "start_time": "2021-09-20T11:00:09.367537",
     "status": "completed"
    },
    "tags": []
   },
   "outputs": [],
   "source": [
    "df_pivot.columns = [\"stamp_1\", \"stamp_2\"]\n",
    "df_pivot_diff = df_pivot.diff(axis=1)"
   ]
  },
  {
   "cell_type": "code",
   "execution_count": 7,
   "id": "fifth-motion",
   "metadata": {
    "execution": {
     "iopub.execute_input": "2021-09-20T11:00:09.465184Z",
     "iopub.status.busy": "2021-09-20T11:00:09.462830Z",
     "iopub.status.idle": "2021-09-20T11:00:10.961260Z",
     "shell.execute_reply": "2021-09-20T11:00:10.962549Z"
    },
    "papermill": {
     "duration": 1.531725,
     "end_time": "2021-09-20T11:00:10.963171",
     "exception": false,
     "start_time": "2021-09-20T11:00:09.431446",
     "status": "completed"
    },
    "tags": []
   },
   "outputs": [
    {
     "data": {
      "text/plain": [
       "<AxesSubplot:ylabel='PRODUCT'>"
      ]
     },
     "execution_count": 7,
     "metadata": {},
     "output_type": "execute_result"
    },
    {
     "data": {
      "image/png": "[encoded data removed]",
      "text/plain": [
       "<Figure size 432x288 with 1 Axes>"
      ]
     },
     "metadata": {
      "needs_background": "light"
     },
     "output_type": "display_data"
    }
   ],
   "source": [
    "df_pivot_diff.sort_values(\"stamp_2\", ascending = False)[\"stamp_2\"].head(10).plot.barh()"
   ]
  },
  {
   "cell_type": "code",
   "execution_count": null,
   "id": "extra-executive",
   "metadata": {
    "papermill": {
     "duration": 0.022242,
     "end_time": "2021-09-20T11:00:11.011362",
     "exception": false,
     "start_time": "2021-09-20T11:00:10.989120",
     "status": "completed"
    },
    "tags": []
   },
   "outputs": [],
   "source": []
  }
 ],
 "metadata": {
  "kernelspec": {
   "display_name": "Python 3",
   "language": "python",
   "name": "python3"
  },
  "language_info": {
   "codemirror_mode": {
    "name": "ipython",
    "version": 3
   },
   "file_extension": ".py",
   "mimetype": "text/x-python",
   "name": "python",
   "nbconvert_exporter": "python",
   "pygments_lexer": "ipython3",
   "version": "3.9.5"
  },
  "papermill": {
   "default_parameters": {},
   "duration": 6.684246,
   "end_time": "2021-09-20T11:00:11.652346",
   "environment_variables": {},
   "exception": null,
   "input_path": "eBay_Overview.ipynb",
   "output_path": "eBay_Overview.ipynb",
   "parameters": {},
   "start_time": "2021-09-20T11:00:04.968100",
   "version": "2.3.3"
  }
 },
 "nbformat": 4,
 "nbformat_minor": 5
}