{
 "cells": [
  {
   "cell_type": "code",
   "execution_count": 1,
   "id": "reverse-picking",
   "metadata": {
    "execution": {
     "iopub.execute_input": "2021-12-04T06:30:07.402066Z",
     "iopub.status.busy": "2021-12-04T06:30:07.387519Z",
     "iopub.status.idle": "2021-12-04T06:30:08.348197Z",
     "shell.execute_reply": "2021-12-04T06:30:08.349869Z"
    },
    "papermill": {
     "duration": 1.008046,
     "end_time": "2021-12-04T06:30:08.350615",
     "exception": false,
     "start_time": "2021-12-04T06:30:07.342569",
     "status": "completed"
    },
    "tags": []
   },
   "outputs": [],
   "source": [
    "import pandas as pd\n",
    "import sqlite3"
   ]
  },
  {
   "cell_type": "code",
   "execution_count": 2,
   "id": "innovative-syndrome",
   "metadata": {
    "execution": {
     "iopub.execute_input": "2021-12-04T06:30:08.411931Z",
     "iopub.status.busy": "2021-12-04T06:30:08.409799Z",
     "iopub.status.idle": "2021-12-04T06:30:09.402345Z",
     "shell.execute_reply": "2021-12-04T06:30:09.403807Z"
    },
    "papermill": {
     "duration": 1.026516,
     "end_time": "2021-12-04T06:30:09.404298",
     "exception": false,
     "start_time": "2021-12-04T06:30:08.377782",
     "status": "completed"
    },
    "tags": []
   },
   "outputs": [],
   "source": [
    "timestamps = pd.read_sql(\"select distinct record_time from EBAY_TOP_BERLIN order by record_time desc limit 2\", sqlite3.connect(\"UsedObjects.db\"))"
   ]
  },
  {
   "cell_type": "code",
   "execution_count": 3,
   "id": "periodic-identification",
   "metadata": {
    "execution": {
     "iopub.execute_input": "2021-12-04T06:30:09.478636Z",
     "iopub.status.busy": "2021-12-04T06:30:09.472568Z",
     "iopub.status.idle": "2021-12-04T06:30:09.496947Z",
     "shell.execute_reply": "2021-12-04T06:30:09.498461Z"
    },
    "papermill": {
     "duration": 0.07371,
     "end_time": "2021-12-04T06:30:09.499006",
     "exception": false,
     "start_time": "2021-12-04T06:30:09.425296",
     "status": "completed"
    },
    "tags": []
   },
   "outputs": [
    {
     "data": {
      "text/html": [
       "<div>\n",
       "<style scoped>\n",
       "    .dataframe tbody tr th:only-of-type {\n",
       "        vertical-align: middle;\n",
       "    }\n",
       "\n",
       "    .dataframe tbody tr th {\n",
       "        vertical-align: top;\n",
       "    }\n",
       "\n",
       "    .dataframe thead th {\n",
       "        text-align: right;\n",
       "    }\n",
       "</style>\n",
       "<table border=\"1\" class=\"dataframe\">\n",
       "  <thead>\n",
       "    <tr style=\"text-align: right;\">\n",
       "      <th></th>\n",
       "      <th>RECORD_TIME</th>\n",
       "    </tr>\n",
       "  </thead>\n",
       "  <tbody>\n",
       "    <tr>\n",
       "      <th>0</th>\n",
       "      <td>2021-12-04 07:30</td>\n",
       "    </tr>\n",
       "    <tr>\n",
       "      <th>1</th>\n",
       "      <td>2021-12-04 07:00</td>\n",
       "    </tr>\n",
       "  </tbody>\n",
       "</table>\n",
       "</div>"
      ],
      "text/plain": [
       "        RECORD_TIME\n",
       "0  2021-12-04 07:30\n",
       "1  2021-12-04 07:00"
      ]
     },
     "execution_count": 3,
     "metadata": {},
     "output_type": "execute_result"
    }
   ],
   "source": [
    "timestamps"
   ]
  },
  {
   "cell_type": "code",
   "execution_count": 4,
   "id": "alternate-victory",
   "metadata": {
    "execution": {
     "iopub.execute_input": "2021-12-04T06:30:09.556429Z",
     "iopub.status.busy": "2021-12-04T06:30:09.554313Z",
     "iopub.status.idle": "2021-12-04T06:30:10.961890Z",
     "shell.execute_reply": "2021-12-04T06:30:10.963263Z"
    },
    "papermill": {
     "duration": 1.441934,
     "end_time": "2021-12-04T06:30:10.963723",
     "exception": false,
     "start_time": "2021-12-04T06:30:09.521789",
     "status": "completed"
    },
    "tags": []
   },
   "outputs": [],
   "source": [
    "df = pd.read_sql(\"select * from EBAY_TOP_BERLIN where record_time in (select distinct record_time from EBAY_TOP_BERLIN order by record_time desc limit 2)\", sqlite3.connect(\"UsedObjects.db\"))"
   ]
  },
  {
   "cell_type": "code",
   "execution_count": 5,
   "id": "popular-active",
   "metadata": {
    "execution": {
     "iopub.execute_input": "2021-12-04T06:30:11.035401Z",
     "iopub.status.busy": "2021-12-04T06:30:11.026692Z",
     "iopub.status.idle": "2021-12-04T06:30:11.061318Z",
     "shell.execute_reply": "2021-12-04T06:30:11.062988Z"
    },
    "papermill": {
     "duration": 0.078029,
     "end_time": "2021-12-04T06:30:11.063515",
     "exception": false,
     "start_time": "2021-12-04T06:30:10.985486",
     "status": "completed"
    },
    "tags": []
   },
   "outputs": [],
   "source": [
    "df_pivot = df.pivot_table(index=\"PRODUCT\", columns = \"RECORD_TIME\", values = \"LISTING_COUNT\")"
   ]
  },
  {
   "cell_type": "code",
   "execution_count": 6,
   "id": "union-huntington",
   "metadata": {
    "execution": {
     "iopub.execute_input": "2021-12-04T06:30:11.124113Z",
     "iopub.status.busy": "2021-12-04T06:30:11.121916Z",
     "iopub.status.idle": "2021-12-04T06:30:11.129377Z",
     "shell.execute_reply": "2021-12-04T06:30:11.127676Z"
    },
    "papermill": {
     "duration": 0.044875,
     "end_time": "2021-12-04T06:30:11.129791",
     "exception": false,
     "start_time": "2021-12-04T06:30:11.084916",
     "status": "completed"
    },
    "tags": []
   },
   "outputs": [],
   "source": [
    "df_pivot.columns = [\"stamp_1\", \"stamp_2\"]\n",
    "df_pivot_diff = df_pivot.diff(axis=1)"
   ]
  },
  {
   "cell_type": "code",
   "execution_count": 7,
   "id": "fifth-motion",
   "metadata": {
    "execution": {
     "iopub.execute_input": "2021-12-04T06:30:11.186454Z",
     "iopub.status.busy": "2021-12-04T06:30:11.183867Z",
     "iopub.status.idle": "2021-12-04T06:30:13.168416Z",
     "shell.execute_reply": "2021-12-04T06:30:13.170459Z"
    },
    "papermill": {
     "duration": 2.021089,
     "end_time": "2021-12-04T06:30:13.171084",
     "exception": false,
     "start_time": "2021-12-04T06:30:11.149995",
     "status": "completed"
    },
    "tags": []
   },
   "outputs": [
    {
     "data": {
      "text/plain": [
       "<AxesSubplot:ylabel='PRODUCT'>"
      ]
     },
     "execution_count": 7,
     "metadata": {},
     "output_type": "execute_result"
    },
    {
     "data": {
      "image/png": "[encoded data removed]",
      "text/plain": [
       "<Figure size 432x288 with 1 Axes>"
      ]
     },
     "metadata": {
      "needs_background": "light"
     },
     "output_type": "display_data"
    }
   ],
   "source": [
    "df_pivot_diff.sort_values(\"stamp_2\", ascending = False)[\"stamp_2\"].head(10).plot.barh()"
   ]
  },
  {
   "cell_type": "code",
   "execution_count": null,
   "id": "extra-executive",
   "metadata": {
    "papermill": {
     "duration": 0.03581,
     "end_time": "2021-12-04T06:30:13.245771",
     "exception": false,
     "start_time": "2021-12-04T06:30:13.209961",
     "status": "completed"
    },
    "tags": []
   },
   "outputs": [],
   "source": []
  }
 ],
 "metadata": {
  "kernelspec": {
   "display_name": "Python 3",
   "language": "python",
   "name": "python3"
  },
  "language_info": {
   "codemirror_mode": {
    "name": "ipython",
    "version": 3
   },
   "file_extension": ".py",
   "mimetype": "text/x-python",
   "name": "python",
   "nbconvert_exporter": "python",
   "pygments_lexer": "ipython3",
   "version": "3.9.5"
  },
  "papermill": {
   "default_parameters": {},
   "duration": 9.929105,
   "end_time": "2021-12-04T06:30:14.548168",
   "environment_variables": {},
   "exception": null,
   "input_path": "eBay_Overview.ipynb",
   "output_path": "eBay_Overview.ipynb",
   "parameters": {},
   "start_time": "2021-12-04T06:30:04.619063",
   "version": "2.3.3"
  }
 },
 "nbformat": 4,
 "nbformat_minor": 5
}