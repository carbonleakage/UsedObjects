{
 "cells": [
  {
   "cell_type": "code",
   "execution_count": 1,
   "id": "reverse-picking",
   "metadata": {
    "execution": {
     "iopub.execute_input": "2021-09-12T02:30:06.700959Z",
     "iopub.status.busy": "2021-09-12T02:30:06.698967Z",
     "iopub.status.idle": "2021-09-12T02:30:07.509954Z",
     "shell.execute_reply": "2021-09-12T02:30:07.511285Z"
    },
    "papermill": {
     "duration": 0.861904,
     "end_time": "2021-09-12T02:30:07.511955",
     "exception": false,
     "start_time": "2021-09-12T02:30:06.650051",
     "status": "completed"
    },
    "tags": []
   },
   "outputs": [],
   "source": [
    "import pandas as pd\n",
    "import sqlite3"
   ]
  },
  {
   "cell_type": "code",
   "execution_count": 2,
   "id": "innovative-syndrome",
   "metadata": {
    "execution": {
     "iopub.execute_input": "2021-09-12T02:30:07.562824Z",
     "iopub.status.busy": "2021-09-12T02:30:07.560826Z",
     "iopub.status.idle": "2021-09-12T02:30:07.821530Z",
     "shell.execute_reply": "2021-09-12T02:30:07.822700Z"
    },
    "papermill": {
     "duration": 0.290827,
     "end_time": "2021-09-12T02:30:07.823190",
     "exception": false,
     "start_time": "2021-09-12T02:30:07.532363",
     "status": "completed"
    },
    "tags": []
   },
   "outputs": [],
   "source": [
    "timestamps = pd.read_sql(\"select distinct record_time from EBAY_TOP_BERLIN order by record_time desc limit 2\", sqlite3.connect(\"UsedObjects.db\"))"
   ]
  },
  {
   "cell_type": "code",
   "execution_count": 3,
   "id": "periodic-identification",
   "metadata": {
    "execution": {
     "iopub.execute_input": "2021-09-12T02:30:07.894286Z",
     "iopub.status.busy": "2021-09-12T02:30:07.888959Z",
     "iopub.status.idle": "2021-09-12T02:30:07.909773Z",
     "shell.execute_reply": "2021-09-12T02:30:07.911247Z"
    },
    "papermill": {
     "duration": 0.068711,
     "end_time": "2021-09-12T02:30:07.911726",
     "exception": false,
     "start_time": "2021-09-12T02:30:07.843015",
     "status": "completed"
    },
    "tags": []
   },
   "outputs": [
    {
     "data": {
      "text/html": [
       "<div>\n",
       "<style scoped>\n",
       "    .dataframe tbody tr th:only-of-type {\n",
       "        vertical-align: middle;\n",
       "    }\n",
       "\n",
       "    .dataframe tbody tr th {\n",
       "        vertical-align: top;\n",
       "    }\n",
       "\n",
       "    .dataframe thead th {\n",
       "        text-align: right;\n",
       "    }\n",
       "</style>\n",
       "<table border=\"1\" class=\"dataframe\">\n",
       "  <thead>\n",
       "    <tr style=\"text-align: right;\">\n",
       "      <th></th>\n",
       "      <th>RECORD_TIME</th>\n",
       "    </tr>\n",
       "  </thead>\n",
       "  <tbody>\n",
       "    <tr>\n",
       "      <th>0</th>\n",
       "      <td>2021-09-12 04:30</td>\n",
       "    </tr>\n",
       "    <tr>\n",
       "      <th>1</th>\n",
       "      <td>2021-09-12 04:00</td>\n",
       "    </tr>\n",
       "  </tbody>\n",
       "</table>\n",
       "</div>"
      ],
      "text/plain": [
       "        RECORD_TIME\n",
       "0  2021-09-12 04:30\n",
       "1  2021-09-12 04:00"
      ]
     },
     "execution_count": 3,
     "metadata": {},
     "output_type": "execute_result"
    }
   ],
   "source": [
    "timestamps"
   ]
  },
  {
   "cell_type": "code",
   "execution_count": 4,
   "id": "alternate-victory",
   "metadata": {
    "execution": {
     "iopub.execute_input": "2021-09-12T02:30:07.964903Z",
     "iopub.status.busy": "2021-09-12T02:30:07.962567Z",
     "iopub.status.idle": "2021-09-12T02:30:08.351838Z",
     "shell.execute_reply": "2021-09-12T02:30:08.352984Z"
    },
    "papermill": {
     "duration": 0.419762,
     "end_time": "2021-09-12T02:30:08.353395",
     "exception": false,
     "start_time": "2021-09-12T02:30:07.933633",
     "status": "completed"
    },
    "tags": []
   },
   "outputs": [],
   "source": [
    "df = pd.read_sql(\"select * from EBAY_TOP_BERLIN where record_time in (select distinct record_time from EBAY_TOP_BERLIN order by record_time desc limit 2)\", sqlite3.connect(\"UsedObjects.db\"))"
   ]
  },
  {
   "cell_type": "code",
   "execution_count": 5,
   "id": "popular-active",
   "metadata": {
    "execution": {
     "iopub.execute_input": "2021-09-12T02:30:08.436128Z",
     "iopub.status.busy": "2021-09-12T02:30:08.424589Z",
     "iopub.status.idle": "2021-09-12T02:30:08.451655Z",
     "shell.execute_reply": "2021-09-12T02:30:08.452888Z"
    },
    "papermill": {
     "duration": 0.070826,
     "end_time": "2021-09-12T02:30:08.453288",
     "exception": false,
     "start_time": "2021-09-12T02:30:08.382462",
     "status": "completed"
    },
    "tags": []
   },
   "outputs": [],
   "source": [
    "df_pivot = df.pivot_table(index=\"PRODUCT\", columns = \"RECORD_TIME\", values = \"LISTING_COUNT\")"
   ]
  },
  {
   "cell_type": "code",
   "execution_count": 6,
   "id": "union-huntington",
   "metadata": {
    "execution": {
     "iopub.execute_input": "2021-09-12T02:30:08.509617Z",
     "iopub.status.busy": "2021-09-12T02:30:08.507543Z",
     "iopub.status.idle": "2021-09-12T02:30:08.512757Z",
     "shell.execute_reply": "2021-09-12T02:30:08.514025Z"
    },
    "papermill": {
     "duration": 0.040427,
     "end_time": "2021-09-12T02:30:08.514444",
     "exception": false,
     "start_time": "2021-09-12T02:30:08.474017",
     "status": "completed"
    },
    "tags": []
   },
   "outputs": [],
   "source": [
    "df_pivot.columns = [\"stamp_1\", \"stamp_2\"]\n",
    "df_pivot_diff = df_pivot.diff(axis=1)"
   ]
  },
  {
   "cell_type": "code",
   "execution_count": 7,
   "id": "fifth-motion",
   "metadata": {
    "execution": {
     "iopub.execute_input": "2021-09-12T02:30:08.568855Z",
     "iopub.status.busy": "2021-09-12T02:30:08.566370Z",
     "iopub.status.idle": "2021-09-12T02:30:10.051669Z",
     "shell.execute_reply": "2021-09-12T02:30:10.052976Z"
    },
    "papermill": {
     "duration": 1.518244,
     "end_time": "2021-09-12T02:30:10.053406",
     "exception": false,
     "start_time": "2021-09-12T02:30:08.535162",
     "status": "completed"
    },
    "tags": []
   },
   "outputs": [
    {
     "data": {
      "text/plain": [
       "<AxesSubplot:ylabel='PRODUCT'>"
      ]
     },
     "execution_count": 7,
     "metadata": {},
     "output_type": "execute_result"
    },
    {
     "data": {
      "image/png": "[encoded data removed]",
      "text/plain": [
       "<Figure size 432x288 with 1 Axes>"
      ]
     },
     "metadata": {
      "needs_background": "light"
     },
     "output_type": "display_data"
    }
   ],
   "source": [
    "df_pivot_diff.sort_values(\"stamp_2\", ascending = False)[\"stamp_2\"].head(10).plot.barh()"
   ]
  },
  {
   "cell_type": "code",
   "execution_count": null,
   "id": "extra-executive",
   "metadata": {
    "papermill": {
     "duration": 0.022189,
     "end_time": "2021-09-12T02:30:10.100436",
     "exception": false,
     "start_time": "2021-09-12T02:30:10.078247",
     "status": "completed"
    },
    "tags": []
   },
   "outputs": [],
   "source": []
  }
 ],
 "metadata": {
  "kernelspec": {
   "display_name": "Python 3",
   "language": "python",
   "name": "python3"
  },
  "language_info": {
   "codemirror_mode": {
    "name": "ipython",
    "version": 3
   },
   "file_extension": ".py",
   "mimetype": "text/x-python",
   "name": "python",
   "nbconvert_exporter": "python",
   "pygments_lexer": "ipython3",
   "version": "3.9.5"
  },
  "papermill": {
   "default_parameters": {},
   "duration": 6.509997,
   "end_time": "2021-09-12T02:30:10.740928",
   "environment_variables": {},
   "exception": null,
   "input_path": "eBay_Overview.ipynb",
   "output_path": "eBay_Overview.ipynb",
   "parameters": {},
   "start_time": "2021-09-12T02:30:04.230931",
   "version": "2.3.3"
  }
 },
 "nbformat": 4,
 "nbformat_minor": 5
}