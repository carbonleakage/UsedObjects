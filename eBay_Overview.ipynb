{
 "cells": [
  {
   "cell_type": "code",
   "execution_count": 1,
   "id": "reverse-picking",
   "metadata": {
    "execution": {
     "iopub.execute_input": "2021-10-12T10:00:07.527259Z",
     "iopub.status.busy": "2021-10-12T10:00:07.525311Z",
     "iopub.status.idle": "2021-10-12T10:00:08.327929Z",
     "shell.execute_reply": "2021-10-12T10:00:08.329361Z"
    },
    "papermill": {
     "duration": 0.855392,
     "end_time": "2021-10-12T10:00:08.330029",
     "exception": false,
     "start_time": "2021-10-12T10:00:07.474637",
     "status": "completed"
    },
    "tags": []
   },
   "outputs": [],
   "source": [
    "import pandas as pd\n",
    "import sqlite3"
   ]
  },
  {
   "cell_type": "code",
   "execution_count": 2,
   "id": "innovative-syndrome",
   "metadata": {
    "execution": {
     "iopub.execute_input": "2021-10-12T10:00:08.381511Z",
     "iopub.status.busy": "2021-10-12T10:00:08.379367Z",
     "iopub.status.idle": "2021-10-12T10:00:08.901533Z",
     "shell.execute_reply": "2021-10-12T10:00:08.902763Z"
    },
    "papermill": {
     "duration": 0.552377,
     "end_time": "2021-10-12T10:00:08.903166",
     "exception": false,
     "start_time": "2021-10-12T10:00:08.350789",
     "status": "completed"
    },
    "tags": []
   },
   "outputs": [],
   "source": [
    "timestamps = pd.read_sql(\"select distinct record_time from EBAY_TOP_BERLIN order by record_time desc limit 2\", sqlite3.connect(\"UsedObjects.db\"))"
   ]
  },
  {
   "cell_type": "code",
   "execution_count": 3,
   "id": "periodic-identification",
   "metadata": {
    "execution": {
     "iopub.execute_input": "2021-10-12T10:00:08.967890Z",
     "iopub.status.busy": "2021-10-12T10:00:08.965852Z",
     "iopub.status.idle": "2021-10-12T10:00:08.985770Z",
     "shell.execute_reply": "2021-10-12T10:00:08.987068Z"
    },
    "papermill": {
     "duration": 0.064669,
     "end_time": "2021-10-12T10:00:08.987485",
     "exception": false,
     "start_time": "2021-10-12T10:00:08.922816",
     "status": "completed"
    },
    "tags": []
   },
   "outputs": [
    {
     "data": {
      "text/html": [
       "<div>\n",
       "<style scoped>\n",
       "    .dataframe tbody tr th:only-of-type {\n",
       "        vertical-align: middle;\n",
       "    }\n",
       "\n",
       "    .dataframe tbody tr th {\n",
       "        vertical-align: top;\n",
       "    }\n",
       "\n",
       "    .dataframe thead th {\n",
       "        text-align: right;\n",
       "    }\n",
       "</style>\n",
       "<table border=\"1\" class=\"dataframe\">\n",
       "  <thead>\n",
       "    <tr style=\"text-align: right;\">\n",
       "      <th></th>\n",
       "      <th>RECORD_TIME</th>\n",
       "    </tr>\n",
       "  </thead>\n",
       "  <tbody>\n",
       "    <tr>\n",
       "      <th>0</th>\n",
       "      <td>2021-10-12 12:00</td>\n",
       "    </tr>\n",
       "    <tr>\n",
       "      <th>1</th>\n",
       "      <td>2021-10-12 11:30</td>\n",
       "    </tr>\n",
       "  </tbody>\n",
       "</table>\n",
       "</div>"
      ],
      "text/plain": [
       "        RECORD_TIME\n",
       "0  2021-10-12 12:00\n",
       "1  2021-10-12 11:30"
      ]
     },
     "execution_count": 3,
     "metadata": {},
     "output_type": "execute_result"
    }
   ],
   "source": [
    "timestamps"
   ]
  },
  {
   "cell_type": "code",
   "execution_count": 4,
   "id": "alternate-victory",
   "metadata": {
    "execution": {
     "iopub.execute_input": "2021-10-12T10:00:09.048462Z",
     "iopub.status.busy": "2021-10-12T10:00:09.046332Z",
     "iopub.status.idle": "2021-10-12T10:00:09.811126Z",
     "shell.execute_reply": "2021-10-12T10:00:09.812341Z"
    },
    "papermill": {
     "duration": 0.798233,
     "end_time": "2021-10-12T10:00:09.812801",
     "exception": false,
     "start_time": "2021-10-12T10:00:09.014568",
     "status": "completed"
    },
    "tags": []
   },
   "outputs": [],
   "source": [
    "df = pd.read_sql(\"select * from EBAY_TOP_BERLIN where record_time in (select distinct record_time from EBAY_TOP_BERLIN order by record_time desc limit 2)\", sqlite3.connect(\"UsedObjects.db\"))"
   ]
  },
  {
   "cell_type": "code",
   "execution_count": 5,
   "id": "popular-active",
   "metadata": {
    "execution": {
     "iopub.execute_input": "2021-10-12T10:00:09.883244Z",
     "iopub.status.busy": "2021-10-12T10:00:09.870847Z",
     "iopub.status.idle": "2021-10-12T10:00:09.899700Z",
     "shell.execute_reply": "2021-10-12T10:00:09.901087Z"
    },
    "papermill": {
     "duration": 0.067926,
     "end_time": "2021-10-12T10:00:09.901522",
     "exception": false,
     "start_time": "2021-10-12T10:00:09.833596",
     "status": "completed"
    },
    "tags": []
   },
   "outputs": [],
   "source": [
    "df_pivot = df.pivot_table(index=\"PRODUCT\", columns = \"RECORD_TIME\", values = \"LISTING_COUNT\")"
   ]
  },
  {
   "cell_type": "code",
   "execution_count": 6,
   "id": "union-huntington",
   "metadata": {
    "execution": {
     "iopub.execute_input": "2021-10-12T10:00:09.957981Z",
     "iopub.status.busy": "2021-10-12T10:00:09.955861Z",
     "iopub.status.idle": "2021-10-12T10:00:09.961353Z",
     "shell.execute_reply": "2021-10-12T10:00:09.962643Z"
    },
    "papermill": {
     "duration": 0.041243,
     "end_time": "2021-10-12T10:00:09.963067",
     "exception": false,
     "start_time": "2021-10-12T10:00:09.921824",
     "status": "completed"
    },
    "tags": []
   },
   "outputs": [],
   "source": [
    "df_pivot.columns = [\"stamp_1\", \"stamp_2\"]\n",
    "df_pivot_diff = df_pivot.diff(axis=1)"
   ]
  },
  {
   "cell_type": "code",
   "execution_count": 7,
   "id": "fifth-motion",
   "metadata": {
    "execution": {
     "iopub.execute_input": "2021-10-12T10:00:10.019504Z",
     "iopub.status.busy": "2021-10-12T10:00:10.016851Z",
     "iopub.status.idle": "2021-10-12T10:00:11.492904Z",
     "shell.execute_reply": "2021-10-12T10:00:11.494113Z"
    },
    "papermill": {
     "duration": 1.509885,
     "end_time": "2021-10-12T10:00:11.494556",
     "exception": false,
     "start_time": "2021-10-12T10:00:09.984671",
     "status": "completed"
    },
    "tags": []
   },
   "outputs": [
    {
     "data": {
      "text/plain": [
       "<AxesSubplot:ylabel='PRODUCT'>"
      ]
     },
     "execution_count": 7,
     "metadata": {},
     "output_type": "execute_result"
    },
    {
     "data": {
      "image/png": "[encoded data removed]",
      "text/plain": [
       "<Figure size 432x288 with 1 Axes>"
      ]
     },
     "metadata": {
      "needs_background": "light"
     },
     "output_type": "display_data"
    }
   ],
   "source": [
    "df_pivot_diff.sort_values(\"stamp_2\", ascending = False)[\"stamp_2\"].head(10).plot.barh()"
   ]
  },
  {
   "cell_type": "code",
   "execution_count": null,
   "id": "extra-executive",
   "metadata": {
    "papermill": {
     "duration": 0.022463,
     "end_time": "2021-10-12T10:00:11.542531",
     "exception": false,
     "start_time": "2021-10-12T10:00:11.520068",
     "status": "completed"
    },
    "tags": []
   },
   "outputs": [],
   "source": []
  }
 ],
 "metadata": {
  "kernelspec": {
   "display_name": "Python 3",
   "language": "python",
   "name": "python3"
  },
  "language_info": {
   "codemirror_mode": {
    "name": "ipython",
    "version": 3
   },
   "file_extension": ".py",
   "mimetype": "text/x-python",
   "name": "python",
   "nbconvert_exporter": "python",
   "pygments_lexer": "ipython3",
   "version": "3.9.5"
  },
  "papermill": {
   "default_parameters": {},
   "duration": 7.816223,
   "end_time": "2021-10-12T10:00:12.894793",
   "environment_variables": {},
   "exception": null,
   "input_path": "eBay_Overview.ipynb",
   "output_path": "eBay_Overview.ipynb",
   "parameters": {},
   "start_time": "2021-10-12T10:00:05.078570",
   "version": "2.3.3"
  }
 },
 "nbformat": 4,
 "nbformat_minor": 5
}