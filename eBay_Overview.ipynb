{
 "cells": [
  {
   "cell_type": "code",
   "execution_count": 1,
   "id": "reverse-picking",
   "metadata": {
    "execution": {
     "iopub.execute_input": "2021-10-11T04:30:07.052007Z",
     "iopub.status.busy": "2021-10-11T04:30:07.049866Z",
     "iopub.status.idle": "2021-10-11T04:30:07.859434Z",
     "shell.execute_reply": "2021-10-11T04:30:07.860898Z"
    },
    "papermill": {
     "duration": 0.860898,
     "end_time": "2021-10-11T04:30:07.861582",
     "exception": false,
     "start_time": "2021-10-11T04:30:07.000684",
     "status": "completed"
    },
    "tags": []
   },
   "outputs": [],
   "source": [
    "import pandas as pd\n",
    "import sqlite3"
   ]
  },
  {
   "cell_type": "code",
   "execution_count": 2,
   "id": "innovative-syndrome",
   "metadata": {
    "execution": {
     "iopub.execute_input": "2021-10-11T04:30:07.913851Z",
     "iopub.status.busy": "2021-10-11T04:30:07.911448Z",
     "iopub.status.idle": "2021-10-11T04:30:08.424016Z",
     "shell.execute_reply": "2021-10-11T04:30:08.425461Z"
    },
    "papermill": {
     "duration": 0.54362,
     "end_time": "2021-10-11T04:30:08.425905",
     "exception": false,
     "start_time": "2021-10-11T04:30:07.882285",
     "status": "completed"
    },
    "tags": []
   },
   "outputs": [],
   "source": [
    "timestamps = pd.read_sql(\"select distinct record_time from EBAY_TOP_BERLIN order by record_time desc limit 2\", sqlite3.connect(\"UsedObjects.db\"))"
   ]
  },
  {
   "cell_type": "code",
   "execution_count": 3,
   "id": "periodic-identification",
   "metadata": {
    "execution": {
     "iopub.execute_input": "2021-10-11T04:30:08.493861Z",
     "iopub.status.busy": "2021-10-11T04:30:08.491809Z",
     "iopub.status.idle": "2021-10-11T04:30:08.512000Z",
     "shell.execute_reply": "2021-10-11T04:30:08.513202Z"
    },
    "papermill": {
     "duration": 0.067492,
     "end_time": "2021-10-11T04:30:08.513634",
     "exception": false,
     "start_time": "2021-10-11T04:30:08.446142",
     "status": "completed"
    },
    "tags": []
   },
   "outputs": [
    {
     "data": {
      "text/html": [
       "<div>\n",
       "<style scoped>\n",
       "    .dataframe tbody tr th:only-of-type {\n",
       "        vertical-align: middle;\n",
       "    }\n",
       "\n",
       "    .dataframe tbody tr th {\n",
       "        vertical-align: top;\n",
       "    }\n",
       "\n",
       "    .dataframe thead th {\n",
       "        text-align: right;\n",
       "    }\n",
       "</style>\n",
       "<table border=\"1\" class=\"dataframe\">\n",
       "  <thead>\n",
       "    <tr style=\"text-align: right;\">\n",
       "      <th></th>\n",
       "      <th>RECORD_TIME</th>\n",
       "    </tr>\n",
       "  </thead>\n",
       "  <tbody>\n",
       "    <tr>\n",
       "      <th>0</th>\n",
       "      <td>2021-10-11 06:30</td>\n",
       "    </tr>\n",
       "    <tr>\n",
       "      <th>1</th>\n",
       "      <td>2021-10-11 06:00</td>\n",
       "    </tr>\n",
       "  </tbody>\n",
       "</table>\n",
       "</div>"
      ],
      "text/plain": [
       "        RECORD_TIME\n",
       "0  2021-10-11 06:30\n",
       "1  2021-10-11 06:00"
      ]
     },
     "execution_count": 3,
     "metadata": {},
     "output_type": "execute_result"
    }
   ],
   "source": [
    "timestamps"
   ]
  },
  {
   "cell_type": "code",
   "execution_count": 4,
   "id": "alternate-victory",
   "metadata": {
    "execution": {
     "iopub.execute_input": "2021-10-11T04:30:08.578266Z",
     "iopub.status.busy": "2021-10-11T04:30:08.575904Z",
     "iopub.status.idle": "2021-10-11T04:30:09.334465Z",
     "shell.execute_reply": "2021-10-11T04:30:09.335771Z"
    },
    "papermill": {
     "duration": 0.793308,
     "end_time": "2021-10-11T04:30:09.336181",
     "exception": false,
     "start_time": "2021-10-11T04:30:08.542873",
     "status": "completed"
    },
    "tags": []
   },
   "outputs": [],
   "source": [
    "df = pd.read_sql(\"select * from EBAY_TOP_BERLIN where record_time in (select distinct record_time from EBAY_TOP_BERLIN order by record_time desc limit 2)\", sqlite3.connect(\"UsedObjects.db\"))"
   ]
  },
  {
   "cell_type": "code",
   "execution_count": 5,
   "id": "popular-active",
   "metadata": {
    "execution": {
     "iopub.execute_input": "2021-10-11T04:30:09.407220Z",
     "iopub.status.busy": "2021-10-11T04:30:09.395432Z",
     "iopub.status.idle": "2021-10-11T04:30:09.424337Z",
     "shell.execute_reply": "2021-10-11T04:30:09.425567Z"
    },
    "papermill": {
     "duration": 0.068891,
     "end_time": "2021-10-11T04:30:09.425972",
     "exception": false,
     "start_time": "2021-10-11T04:30:09.357081",
     "status": "completed"
    },
    "tags": []
   },
   "outputs": [],
   "source": [
    "df_pivot = df.pivot_table(index=\"PRODUCT\", columns = \"RECORD_TIME\", values = \"LISTING_COUNT\")"
   ]
  },
  {
   "cell_type": "code",
   "execution_count": 6,
   "id": "union-huntington",
   "metadata": {
    "execution": {
     "iopub.execute_input": "2021-10-11T04:30:09.483233Z",
     "iopub.status.busy": "2021-10-11T04:30:09.481109Z",
     "iopub.status.idle": "2021-10-11T04:30:09.486519Z",
     "shell.execute_reply": "2021-10-11T04:30:09.488159Z"
    },
    "papermill": {
     "duration": 0.041562,
     "end_time": "2021-10-11T04:30:09.488728",
     "exception": false,
     "start_time": "2021-10-11T04:30:09.447166",
     "status": "completed"
    },
    "tags": []
   },
   "outputs": [],
   "source": [
    "df_pivot.columns = [\"stamp_1\", \"stamp_2\"]\n",
    "df_pivot_diff = df_pivot.diff(axis=1)"
   ]
  },
  {
   "cell_type": "code",
   "execution_count": 7,
   "id": "fifth-motion",
   "metadata": {
    "execution": {
     "iopub.execute_input": "2021-10-11T04:30:09.544572Z",
     "iopub.status.busy": "2021-10-11T04:30:09.542066Z",
     "iopub.status.idle": "2021-10-11T04:30:11.007275Z",
     "shell.execute_reply": "2021-10-11T04:30:11.008776Z"
    },
    "papermill": {
     "duration": 1.499106,
     "end_time": "2021-10-11T04:30:11.009226",
     "exception": false,
     "start_time": "2021-10-11T04:30:09.510120",
     "status": "completed"
    },
    "tags": []
   },
   "outputs": [
    {
     "data": {
      "text/plain": [
       "<AxesSubplot:ylabel='PRODUCT'>"
      ]
     },
     "execution_count": 7,
     "metadata": {},
     "output_type": "execute_result"
    },
    {
     "data": {
      "image/png": "[encoded data removed]",
      "text/plain": [
       "<Figure size 432x288 with 1 Axes>"
      ]
     },
     "metadata": {
      "needs_background": "light"
     },
     "output_type": "display_data"
    }
   ],
   "source": [
    "df_pivot_diff.sort_values(\"stamp_2\", ascending = False)[\"stamp_2\"].head(10).plot.barh()"
   ]
  },
  {
   "cell_type": "code",
   "execution_count": null,
   "id": "extra-executive",
   "metadata": {
    "papermill": {
     "duration": 0.022762,
     "end_time": "2021-10-11T04:30:11.057013",
     "exception": false,
     "start_time": "2021-10-11T04:30:11.034251",
     "status": "completed"
    },
    "tags": []
   },
   "outputs": [],
   "source": []
  }
 ],
 "metadata": {
  "kernelspec": {
   "display_name": "Python 3",
   "language": "python",
   "name": "python3"
  },
  "language_info": {
   "codemirror_mode": {
    "name": "ipython",
    "version": 3
   },
   "file_extension": ".py",
   "mimetype": "text/x-python",
   "name": "python",
   "nbconvert_exporter": "python",
   "pygments_lexer": "ipython3",
   "version": "3.9.5"
  },
  "papermill": {
   "default_parameters": {},
   "duration": 7.823026,
   "end_time": "2021-10-11T04:30:12.419595",
   "environment_variables": {},
   "exception": null,
   "input_path": "eBay_Overview.ipynb",
   "output_path": "eBay_Overview.ipynb",
   "parameters": {},
   "start_time": "2021-10-11T04:30:04.596569",
   "version": "2.3.3"
  }
 },
 "nbformat": 4,
 "nbformat_minor": 5
}