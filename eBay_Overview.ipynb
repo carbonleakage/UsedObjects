{
 "cells": [
  {
   "cell_type": "code",
   "execution_count": 1,
   "id": "reverse-picking",
   "metadata": {
    "execution": {
     "iopub.execute_input": "2021-08-31T21:00:06.832259Z",
     "iopub.status.busy": "2021-08-31T21:00:06.830126Z",
     "iopub.status.idle": "2021-08-31T21:00:07.635505Z",
     "shell.execute_reply": "2021-08-31T21:00:07.636790Z"
    },
    "papermill": {
     "duration": 0.856085,
     "end_time": "2021-08-31T21:00:07.637411",
     "exception": false,
     "start_time": "2021-08-31T21:00:06.781326",
     "status": "completed"
    },
    "tags": []
   },
   "outputs": [],
   "source": [
    "import pandas as pd\n",
    "import sqlite3"
   ]
  },
  {
   "cell_type": "code",
   "execution_count": 2,
   "id": "innovative-syndrome",
   "metadata": {
    "execution": {
     "iopub.execute_input": "2021-08-31T21:00:07.691846Z",
     "iopub.status.busy": "2021-08-31T21:00:07.689484Z",
     "iopub.status.idle": "2021-08-31T21:00:07.865730Z",
     "shell.execute_reply": "2021-08-31T21:00:07.867119Z"
    },
    "papermill": {
     "duration": 0.206619,
     "end_time": "2021-08-31T21:00:07.867549",
     "exception": false,
     "start_time": "2021-08-31T21:00:07.660930",
     "status": "completed"
    },
    "tags": []
   },
   "outputs": [],
   "source": [
    "timestamps = pd.read_sql(\"select distinct record_time from EBAY_TOP_BERLIN order by record_time desc limit 2\", sqlite3.connect(\"UsedObjects.db\"))"
   ]
  },
  {
   "cell_type": "code",
   "execution_count": 3,
   "id": "periodic-identification",
   "metadata": {
    "execution": {
     "iopub.execute_input": "2021-08-31T21:00:07.936056Z",
     "iopub.status.busy": "2021-08-31T21:00:07.933994Z",
     "iopub.status.idle": "2021-08-31T21:00:07.953612Z",
     "shell.execute_reply": "2021-08-31T21:00:07.954942Z"
    },
    "papermill": {
     "duration": 0.066676,
     "end_time": "2021-08-31T21:00:07.955358",
     "exception": false,
     "start_time": "2021-08-31T21:00:07.888682",
     "status": "completed"
    },
    "tags": []
   },
   "outputs": [
    {
     "data": {
      "text/html": [
       "<div>\n",
       "<style scoped>\n",
       "    .dataframe tbody tr th:only-of-type {\n",
       "        vertical-align: middle;\n",
       "    }\n",
       "\n",
       "    .dataframe tbody tr th {\n",
       "        vertical-align: top;\n",
       "    }\n",
       "\n",
       "    .dataframe thead th {\n",
       "        text-align: right;\n",
       "    }\n",
       "</style>\n",
       "<table border=\"1\" class=\"dataframe\">\n",
       "  <thead>\n",
       "    <tr style=\"text-align: right;\">\n",
       "      <th></th>\n",
       "      <th>RECORD_TIME</th>\n",
       "    </tr>\n",
       "  </thead>\n",
       "  <tbody>\n",
       "    <tr>\n",
       "      <th>0</th>\n",
       "      <td>2021-08-31 23:00</td>\n",
       "    </tr>\n",
       "    <tr>\n",
       "      <th>1</th>\n",
       "      <td>2021-08-31 22:30</td>\n",
       "    </tr>\n",
       "  </tbody>\n",
       "</table>\n",
       "</div>"
      ],
      "text/plain": [
       "        RECORD_TIME\n",
       "0  2021-08-31 23:00\n",
       "1  2021-08-31 22:30"
      ]
     },
     "execution_count": 3,
     "metadata": {},
     "output_type": "execute_result"
    }
   ],
   "source": [
    "timestamps"
   ]
  },
  {
   "cell_type": "code",
   "execution_count": 4,
   "id": "alternate-victory",
   "metadata": {
    "execution": {
     "iopub.execute_input": "2021-08-31T21:00:08.006248Z",
     "iopub.status.busy": "2021-08-31T21:00:08.004462Z",
     "iopub.status.idle": "2021-08-31T21:00:08.276274Z",
     "shell.execute_reply": "2021-08-31T21:00:08.277494Z"
    },
    "papermill": {
     "duration": 0.301775,
     "end_time": "2021-08-31T21:00:08.277891",
     "exception": false,
     "start_time": "2021-08-31T21:00:07.976116",
     "status": "completed"
    },
    "tags": []
   },
   "outputs": [],
   "source": [
    "df = pd.read_sql(\"select * from EBAY_TOP_BERLIN where record_time in (select distinct record_time from EBAY_TOP_BERLIN order by record_time desc limit 2)\", sqlite3.connect(\"UsedObjects.db\"))"
   ]
  },
  {
   "cell_type": "code",
   "execution_count": 5,
   "id": "popular-active",
   "metadata": {
    "execution": {
     "iopub.execute_input": "2021-08-31T21:00:08.374495Z",
     "iopub.status.busy": "2021-08-31T21:00:08.362780Z",
     "iopub.status.idle": "2021-08-31T21:00:08.391235Z",
     "shell.execute_reply": "2021-08-31T21:00:08.392466Z"
    },
    "papermill": {
     "duration": 0.076526,
     "end_time": "2021-08-31T21:00:08.392862",
     "exception": false,
     "start_time": "2021-08-31T21:00:08.316336",
     "status": "completed"
    },
    "tags": []
   },
   "outputs": [],
   "source": [
    "df_pivot = df.pivot_table(index=\"PRODUCT\", columns = \"RECORD_TIME\", values = \"LISTING_COUNT\")"
   ]
  },
  {
   "cell_type": "code",
   "execution_count": 6,
   "id": "union-huntington",
   "metadata": {
    "execution": {
     "iopub.execute_input": "2021-08-31T21:00:08.450172Z",
     "iopub.status.busy": "2021-08-31T21:00:08.448156Z",
     "iopub.status.idle": "2021-08-31T21:00:08.453334Z",
     "shell.execute_reply": "2021-08-31T21:00:08.454613Z"
    },
    "papermill": {
     "duration": 0.040629,
     "end_time": "2021-08-31T21:00:08.455248",
     "exception": false,
     "start_time": "2021-08-31T21:00:08.414619",
     "status": "completed"
    },
    "tags": []
   },
   "outputs": [],
   "source": [
    "df_pivot.columns = [\"stamp_1\", \"stamp_2\"]\n",
    "df_pivot_diff = df_pivot.diff(axis=1)"
   ]
  },
  {
   "cell_type": "code",
   "execution_count": 7,
   "id": "fifth-motion",
   "metadata": {
    "execution": {
     "iopub.execute_input": "2021-08-31T21:00:08.512648Z",
     "iopub.status.busy": "2021-08-31T21:00:08.510177Z",
     "iopub.status.idle": "2021-08-31T21:00:09.985876Z",
     "shell.execute_reply": "2021-08-31T21:00:09.987212Z"
    },
    "papermill": {
     "duration": 1.509397,
     "end_time": "2021-08-31T21:00:09.987633",
     "exception": false,
     "start_time": "2021-08-31T21:00:08.478236",
     "status": "completed"
    },
    "tags": []
   },
   "outputs": [
    {
     "data": {
      "text/plain": [
       "<AxesSubplot:ylabel='PRODUCT'>"
      ]
     },
     "execution_count": 7,
     "metadata": {},
     "output_type": "execute_result"
    },
    {
     "data": {
      "image/png": "[encoded data removed]",
      "text/plain": [
       "<Figure size 432x288 with 1 Axes>"
      ]
     },
     "metadata": {
      "needs_background": "light"
     },
     "output_type": "display_data"
    }
   ],
   "source": [
    "df_pivot_diff.sort_values(\"stamp_2\", ascending = False)[\"stamp_2\"].head(10).plot.barh()"
   ]
  },
  {
   "cell_type": "code",
   "execution_count": null,
   "id": "extra-executive",
   "metadata": {
    "papermill": {
     "duration": 0.022466,
     "end_time": "2021-08-31T21:00:10.033963",
     "exception": false,
     "start_time": "2021-08-31T21:00:10.011497",
     "status": "completed"
    },
    "tags": []
   },
   "outputs": [],
   "source": []
  }
 ],
 "metadata": {
  "kernelspec": {
   "display_name": "Python 3",
   "language": "python",
   "name": "python3"
  },
  "language_info": {
   "codemirror_mode": {
    "name": "ipython",
    "version": 3
   },
   "file_extension": ".py",
   "mimetype": "text/x-python",
   "name": "python",
   "nbconvert_exporter": "python",
   "pygments_lexer": "ipython3",
   "version": "3.9.5"
  },
  "papermill": {
   "default_parameters": {},
   "duration": 6.822933,
   "end_time": "2021-08-31T21:00:11.198554",
   "environment_variables": {},
   "exception": null,
   "input_path": "eBay_Overview.ipynb",
   "output_path": "eBay_Overview.ipynb",
   "parameters": {},
   "start_time": "2021-08-31T21:00:04.375621",
   "version": "2.3.3"
  }
 },
 "nbformat": 4,
 "nbformat_minor": 5
}