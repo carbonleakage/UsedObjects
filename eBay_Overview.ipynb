{
 "cells": [
  {
   "cell_type": "code",
   "execution_count": 1,
   "id": "reverse-picking",
   "metadata": {
    "execution": {
     "iopub.execute_input": "2021-11-02T15:00:07.247164Z",
     "iopub.status.busy": "2021-11-02T15:00:07.244957Z",
     "iopub.status.idle": "2021-11-02T15:00:08.182746Z",
     "shell.execute_reply": "2021-11-02T15:00:08.185149Z"
    },
    "papermill": {
     "duration": 0.988019,
     "end_time": "2021-11-02T15:00:08.185901",
     "exception": false,
     "start_time": "2021-11-02T15:00:07.197882",
     "status": "completed"
    },
    "tags": []
   },
   "outputs": [],
   "source": [
    "import pandas as pd\n",
    "import sqlite3"
   ]
  },
  {
   "cell_type": "code",
   "execution_count": 2,
   "id": "innovative-syndrome",
   "metadata": {
    "execution": {
     "iopub.execute_input": "2021-11-02T15:00:08.246752Z",
     "iopub.status.busy": "2021-11-02T15:00:08.244359Z",
     "iopub.status.idle": "2021-11-02T15:00:08.959458Z",
     "shell.execute_reply": "2021-11-02T15:00:08.961190Z"
    },
    "papermill": {
     "duration": 0.754491,
     "end_time": "2021-11-02T15:00:08.961705",
     "exception": false,
     "start_time": "2021-11-02T15:00:08.207214",
     "status": "completed"
    },
    "tags": []
   },
   "outputs": [],
   "source": [
    "timestamps = pd.read_sql(\"select distinct record_time from EBAY_TOP_BERLIN order by record_time desc limit 2\", sqlite3.connect(\"UsedObjects.db\"))"
   ]
  },
  {
   "cell_type": "code",
   "execution_count": 3,
   "id": "periodic-identification",
   "metadata": {
    "execution": {
     "iopub.execute_input": "2021-11-02T15:00:09.032805Z",
     "iopub.status.busy": "2021-11-02T15:00:09.030479Z",
     "iopub.status.idle": "2021-11-02T15:00:09.054879Z",
     "shell.execute_reply": "2021-11-02T15:00:09.056500Z"
    },
    "papermill": {
     "duration": 0.074723,
     "end_time": "2021-11-02T15:00:09.057057",
     "exception": false,
     "start_time": "2021-11-02T15:00:08.982334",
     "status": "completed"
    },
    "tags": []
   },
   "outputs": [
    {
     "data": {
      "text/html": [
       "<div>\n",
       "<style scoped>\n",
       "    .dataframe tbody tr th:only-of-type {\n",
       "        vertical-align: middle;\n",
       "    }\n",
       "\n",
       "    .dataframe tbody tr th {\n",
       "        vertical-align: top;\n",
       "    }\n",
       "\n",
       "    .dataframe thead th {\n",
       "        text-align: right;\n",
       "    }\n",
       "</style>\n",
       "<table border=\"1\" class=\"dataframe\">\n",
       "  <thead>\n",
       "    <tr style=\"text-align: right;\">\n",
       "      <th></th>\n",
       "      <th>RECORD_TIME</th>\n",
       "    </tr>\n",
       "  </thead>\n",
       "  <tbody>\n",
       "    <tr>\n",
       "      <th>0</th>\n",
       "      <td>2021-11-02 16:00</td>\n",
       "    </tr>\n",
       "    <tr>\n",
       "      <th>1</th>\n",
       "      <td>2021-11-02 15:30</td>\n",
       "    </tr>\n",
       "  </tbody>\n",
       "</table>\n",
       "</div>"
      ],
      "text/plain": [
       "        RECORD_TIME\n",
       "0  2021-11-02 16:00\n",
       "1  2021-11-02 15:30"
      ]
     },
     "execution_count": 3,
     "metadata": {},
     "output_type": "execute_result"
    }
   ],
   "source": [
    "timestamps"
   ]
  },
  {
   "cell_type": "code",
   "execution_count": 4,
   "id": "alternate-victory",
   "metadata": {
    "execution": {
     "iopub.execute_input": "2021-11-02T15:00:09.111891Z",
     "iopub.status.busy": "2021-11-02T15:00:09.109421Z",
     "iopub.status.idle": "2021-11-02T15:00:10.133930Z",
     "shell.execute_reply": "2021-11-02T15:00:10.135317Z"
    },
    "papermill": {
     "duration": 1.057895,
     "end_time": "2021-11-02T15:00:10.135826",
     "exception": false,
     "start_time": "2021-11-02T15:00:09.077931",
     "status": "completed"
    },
    "tags": []
   },
   "outputs": [],
   "source": [
    "df = pd.read_sql(\"select * from EBAY_TOP_BERLIN where record_time in (select distinct record_time from EBAY_TOP_BERLIN order by record_time desc limit 2)\", sqlite3.connect(\"UsedObjects.db\"))"
   ]
  },
  {
   "cell_type": "code",
   "execution_count": 5,
   "id": "popular-active",
   "metadata": {
    "execution": {
     "iopub.execute_input": "2021-11-02T15:00:10.213190Z",
     "iopub.status.busy": "2021-11-02T15:00:10.199950Z",
     "iopub.status.idle": "2021-11-02T15:00:10.235458Z",
     "shell.execute_reply": "2021-11-02T15:00:10.236972Z"
    },
    "papermill": {
     "duration": 0.079932,
     "end_time": "2021-11-02T15:00:10.237450",
     "exception": false,
     "start_time": "2021-11-02T15:00:10.157518",
     "status": "completed"
    },
    "tags": []
   },
   "outputs": [],
   "source": [
    "df_pivot = df.pivot_table(index=\"PRODUCT\", columns = \"RECORD_TIME\", values = \"LISTING_COUNT\")"
   ]
  },
  {
   "cell_type": "code",
   "execution_count": 6,
   "id": "union-huntington",
   "metadata": {
    "execution": {
     "iopub.execute_input": "2021-11-02T15:00:10.299052Z",
     "iopub.status.busy": "2021-11-02T15:00:10.296652Z",
     "iopub.status.idle": "2021-11-02T15:00:10.304440Z",
     "shell.execute_reply": "2021-11-02T15:00:10.302858Z"
    },
    "papermill": {
     "duration": 0.045846,
     "end_time": "2021-11-02T15:00:10.304910",
     "exception": false,
     "start_time": "2021-11-02T15:00:10.259064",
     "status": "completed"
    },
    "tags": []
   },
   "outputs": [],
   "source": [
    "df_pivot.columns = [\"stamp_1\", \"stamp_2\"]\n",
    "df_pivot_diff = df_pivot.diff(axis=1)"
   ]
  },
  {
   "cell_type": "code",
   "execution_count": 7,
   "id": "fifth-motion",
   "metadata": {
    "execution": {
     "iopub.execute_input": "2021-11-02T15:00:10.365345Z",
     "iopub.status.busy": "2021-11-02T15:00:10.361874Z",
     "iopub.status.idle": "2021-11-02T15:00:12.090955Z",
     "shell.execute_reply": "2021-11-02T15:00:12.093942Z"
    },
    "papermill": {
     "duration": 1.768078,
     "end_time": "2021-11-02T15:00:12.094749",
     "exception": false,
     "start_time": "2021-11-02T15:00:10.326671",
     "status": "completed"
    },
    "tags": []
   },
   "outputs": [
    {
     "data": {
      "text/plain": [
       "<AxesSubplot:ylabel='PRODUCT'>"
      ]
     },
     "execution_count": 7,
     "metadata": {},
     "output_type": "execute_result"
    },
    {
     "data": {
      "image/png": "[encoded data removed]",
      "text/plain": [
       "<Figure size 432x288 with 1 Axes>"
      ]
     },
     "metadata": {
      "needs_background": "light"
     },
     "output_type": "display_data"
    }
   ],
   "source": [
    "df_pivot_diff.sort_values(\"stamp_2\", ascending = False)[\"stamp_2\"].head(10).plot.barh()"
   ]
  },
  {
   "cell_type": "code",
   "execution_count": null,
   "id": "extra-executive",
   "metadata": {
    "papermill": {
     "duration": 0.031798,
     "end_time": "2021-11-02T15:00:12.162938",
     "exception": false,
     "start_time": "2021-11-02T15:00:12.131140",
     "status": "completed"
    },
    "tags": []
   },
   "outputs": [],
   "source": []
  }
 ],
 "metadata": {
  "kernelspec": {
   "display_name": "Python 3",
   "language": "python",
   "name": "python3"
  },
  "language_info": {
   "codemirror_mode": {
    "name": "ipython",
    "version": 3
   },
   "file_extension": ".py",
   "mimetype": "text/x-python",
   "name": "python",
   "nbconvert_exporter": "python",
   "pygments_lexer": "ipython3",
   "version": "3.9.5"
  },
  "papermill": {
   "default_parameters": {},
   "duration": 8.99716,
   "end_time": "2021-11-02T15:00:13.409440",
   "environment_variables": {},
   "exception": null,
   "input_path": "eBay_Overview.ipynb",
   "output_path": "eBay_Overview.ipynb",
   "parameters": {},
   "start_time": "2021-11-02T15:00:04.412280",
   "version": "2.3.3"
  }
 },
 "nbformat": 4,
 "nbformat_minor": 5
}