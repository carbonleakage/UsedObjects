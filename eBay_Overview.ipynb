{
 "cells": [
  {
   "cell_type": "code",
   "execution_count": 1,
   "id": "reverse-picking",
   "metadata": {
    "execution": {
     "iopub.execute_input": "2021-09-16T04:30:06.624860Z",
     "iopub.status.busy": "2021-09-16T04:30:06.622769Z",
     "iopub.status.idle": "2021-09-16T04:30:07.419494Z",
     "shell.execute_reply": "2021-09-16T04:30:07.420925Z"
    },
    "papermill": {
     "duration": 0.847651,
     "end_time": "2021-09-16T04:30:07.421590",
     "exception": false,
     "start_time": "2021-09-16T04:30:06.573939",
     "status": "completed"
    },
    "tags": []
   },
   "outputs": [],
   "source": [
    "import pandas as pd\n",
    "import sqlite3"
   ]
  },
  {
   "cell_type": "code",
   "execution_count": 2,
   "id": "innovative-syndrome",
   "metadata": {
    "execution": {
     "iopub.execute_input": "2021-09-16T04:30:07.471842Z",
     "iopub.status.busy": "2021-09-16T04:30:07.469484Z",
     "iopub.status.idle": "2021-09-16T04:30:07.771144Z",
     "shell.execute_reply": "2021-09-16T04:30:07.772546Z"
    },
    "papermill": {
     "duration": 0.331338,
     "end_time": "2021-09-16T04:30:07.772964",
     "exception": false,
     "start_time": "2021-09-16T04:30:07.441626",
     "status": "completed"
    },
    "tags": []
   },
   "outputs": [],
   "source": [
    "timestamps = pd.read_sql(\"select distinct record_time from EBAY_TOP_BERLIN order by record_time desc limit 2\", sqlite3.connect(\"UsedObjects.db\"))"
   ]
  },
  {
   "cell_type": "code",
   "execution_count": 3,
   "id": "periodic-identification",
   "metadata": {
    "execution": {
     "iopub.execute_input": "2021-09-16T04:30:07.837891Z",
     "iopub.status.busy": "2021-09-16T04:30:07.835739Z",
     "iopub.status.idle": "2021-09-16T04:30:07.855890Z",
     "shell.execute_reply": "2021-09-16T04:30:07.856997Z"
    },
    "papermill": {
     "duration": 0.065077,
     "end_time": "2021-09-16T04:30:07.857392",
     "exception": false,
     "start_time": "2021-09-16T04:30:07.792315",
     "status": "completed"
    },
    "tags": []
   },
   "outputs": [
    {
     "data": {
      "text/html": [
       "<div>\n",
       "<style scoped>\n",
       "    .dataframe tbody tr th:only-of-type {\n",
       "        vertical-align: middle;\n",
       "    }\n",
       "\n",
       "    .dataframe tbody tr th {\n",
       "        vertical-align: top;\n",
       "    }\n",
       "\n",
       "    .dataframe thead th {\n",
       "        text-align: right;\n",
       "    }\n",
       "</style>\n",
       "<table border=\"1\" class=\"dataframe\">\n",
       "  <thead>\n",
       "    <tr style=\"text-align: right;\">\n",
       "      <th></th>\n",
       "      <th>RECORD_TIME</th>\n",
       "    </tr>\n",
       "  </thead>\n",
       "  <tbody>\n",
       "    <tr>\n",
       "      <th>0</th>\n",
       "      <td>2021-09-16 06:30</td>\n",
       "    </tr>\n",
       "    <tr>\n",
       "      <th>1</th>\n",
       "      <td>2021-09-16 06:00</td>\n",
       "    </tr>\n",
       "  </tbody>\n",
       "</table>\n",
       "</div>"
      ],
      "text/plain": [
       "        RECORD_TIME\n",
       "0  2021-09-16 06:30\n",
       "1  2021-09-16 06:00"
      ]
     },
     "execution_count": 3,
     "metadata": {},
     "output_type": "execute_result"
    }
   ],
   "source": [
    "timestamps"
   ]
  },
  {
   "cell_type": "code",
   "execution_count": 4,
   "id": "alternate-victory",
   "metadata": {
    "execution": {
     "iopub.execute_input": "2021-09-16T04:30:07.911515Z",
     "iopub.status.busy": "2021-09-16T04:30:07.909158Z",
     "iopub.status.idle": "2021-09-16T04:30:08.353025Z",
     "shell.execute_reply": "2021-09-16T04:30:08.351523Z"
    },
    "papermill": {
     "duration": 0.472828,
     "end_time": "2021-09-16T04:30:08.353398",
     "exception": false,
     "start_time": "2021-09-16T04:30:07.880570",
     "status": "completed"
    },
    "tags": []
   },
   "outputs": [],
   "source": [
    "df = pd.read_sql(\"select * from EBAY_TOP_BERLIN where record_time in (select distinct record_time from EBAY_TOP_BERLIN order by record_time desc limit 2)\", sqlite3.connect(\"UsedObjects.db\"))"
   ]
  },
  {
   "cell_type": "code",
   "execution_count": 5,
   "id": "popular-active",
   "metadata": {
    "execution": {
     "iopub.execute_input": "2021-09-16T04:30:08.431907Z",
     "iopub.status.busy": "2021-09-16T04:30:08.420002Z",
     "iopub.status.idle": "2021-09-16T04:30:08.447893Z",
     "shell.execute_reply": "2021-09-16T04:30:08.449089Z"
    },
    "papermill": {
     "duration": 0.070089,
     "end_time": "2021-09-16T04:30:08.449472",
     "exception": false,
     "start_time": "2021-09-16T04:30:08.379383",
     "status": "completed"
    },
    "tags": []
   },
   "outputs": [],
   "source": [
    "df_pivot = df.pivot_table(index=\"PRODUCT\", columns = \"RECORD_TIME\", values = \"LISTING_COUNT\")"
   ]
  },
  {
   "cell_type": "code",
   "execution_count": 6,
   "id": "union-huntington",
   "metadata": {
    "execution": {
     "iopub.execute_input": "2021-09-16T04:30:08.506967Z",
     "iopub.status.busy": "2021-09-16T04:30:08.504699Z",
     "iopub.status.idle": "2021-09-16T04:30:08.510892Z",
     "shell.execute_reply": "2021-09-16T04:30:08.512164Z"
    },
    "papermill": {
     "duration": 0.041718,
     "end_time": "2021-09-16T04:30:08.512569",
     "exception": false,
     "start_time": "2021-09-16T04:30:08.470851",
     "status": "completed"
    },
    "tags": []
   },
   "outputs": [],
   "source": [
    "df_pivot.columns = [\"stamp_1\", \"stamp_2\"]\n",
    "df_pivot_diff = df_pivot.diff(axis=1)"
   ]
  },
  {
   "cell_type": "code",
   "execution_count": 7,
   "id": "fifth-motion",
   "metadata": {
    "execution": {
     "iopub.execute_input": "2021-09-16T04:30:08.565737Z",
     "iopub.status.busy": "2021-09-16T04:30:08.563495Z",
     "iopub.status.idle": "2021-09-16T04:30:10.033275Z",
     "shell.execute_reply": "2021-09-16T04:30:10.034540Z"
    },
    "papermill": {
     "duration": 1.502727,
     "end_time": "2021-09-16T04:30:10.035018",
     "exception": false,
     "start_time": "2021-09-16T04:30:08.532291",
     "status": "completed"
    },
    "tags": []
   },
   "outputs": [
    {
     "data": {
      "text/plain": [
       "<AxesSubplot:ylabel='PRODUCT'>"
      ]
     },
     "execution_count": 7,
     "metadata": {},
     "output_type": "execute_result"
    },
    {
     "data": {
      "image/png": "[encoded data removed]",
      "text/plain": [
       "<Figure size 432x288 with 1 Axes>"
      ]
     },
     "metadata": {
      "needs_background": "light"
     },
     "output_type": "display_data"
    }
   ],
   "source": [
    "df_pivot_diff.sort_values(\"stamp_2\", ascending = False)[\"stamp_2\"].head(10).plot.barh()"
   ]
  },
  {
   "cell_type": "code",
   "execution_count": null,
   "id": "extra-executive",
   "metadata": {
    "papermill": {
     "duration": 0.021877,
     "end_time": "2021-09-16T04:30:10.081433",
     "exception": false,
     "start_time": "2021-09-16T04:30:10.059556",
     "status": "completed"
    },
    "tags": []
   },
   "outputs": [],
   "source": []
  }
 ],
 "metadata": {
  "kernelspec": {
   "display_name": "Python 3",
   "language": "python",
   "name": "python3"
  },
  "language_info": {
   "codemirror_mode": {
    "name": "ipython",
    "version": 3
   },
   "file_extension": ".py",
   "mimetype": "text/x-python",
   "name": "python",
   "nbconvert_exporter": "python",
   "pygments_lexer": "ipython3",
   "version": "3.9.5"
  },
  "papermill": {
   "default_parameters": {},
   "duration": 6.531448,
   "end_time": "2021-09-16T04:30:10.723257",
   "environment_variables": {},
   "exception": null,
   "input_path": "eBay_Overview.ipynb",
   "output_path": "eBay_Overview.ipynb",
   "parameters": {},
   "start_time": "2021-09-16T04:30:04.191809",
   "version": "2.3.3"
  }
 },
 "nbformat": 4,
 "nbformat_minor": 5
}