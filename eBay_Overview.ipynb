{
 "cells": [
  {
   "cell_type": "code",
   "execution_count": 1,
   "id": "reverse-picking",
   "metadata": {
    "execution": {
     "iopub.execute_input": "2021-08-17T04:30:07.068063Z",
     "iopub.status.busy": "2021-08-17T04:30:07.066115Z",
     "iopub.status.idle": "2021-08-17T04:30:07.872723Z",
     "shell.execute_reply": "2021-08-17T04:30:07.874023Z"
    },
    "papermill": {
     "duration": 0.860555,
     "end_time": "2021-08-17T04:30:07.874667",
     "exception": false,
     "start_time": "2021-08-17T04:30:07.014112",
     "status": "completed"
    },
    "tags": []
   },
   "outputs": [],
   "source": [
    "import pandas as pd\n",
    "import sqlite3"
   ]
  },
  {
   "cell_type": "code",
   "execution_count": 2,
   "id": "innovative-syndrome",
   "metadata": {
    "execution": {
     "iopub.execute_input": "2021-08-17T04:30:07.926661Z",
     "iopub.status.busy": "2021-08-17T04:30:07.924540Z",
     "iopub.status.idle": "2021-08-17T04:30:07.990667Z",
     "shell.execute_reply": "2021-08-17T04:30:07.991862Z"
    },
    "papermill": {
     "duration": 0.095433,
     "end_time": "2021-08-17T04:30:07.992261",
     "exception": false,
     "start_time": "2021-08-17T04:30:07.896828",
     "status": "completed"
    },
    "tags": []
   },
   "outputs": [],
   "source": [
    "timestamps = pd.read_sql(\"select distinct record_time from EBAY_TOP_BERLIN order by record_time desc limit 2\", sqlite3.connect(\"UsedObjects.db\"))"
   ]
  },
  {
   "cell_type": "code",
   "execution_count": 3,
   "id": "periodic-identification",
   "metadata": {
    "execution": {
     "iopub.execute_input": "2021-08-17T04:30:08.057313Z",
     "iopub.status.busy": "2021-08-17T04:30:08.055285Z",
     "iopub.status.idle": "2021-08-17T04:30:08.075596Z",
     "shell.execute_reply": "2021-08-17T04:30:08.076768Z"
    },
    "papermill": {
     "duration": 0.06449,
     "end_time": "2021-08-17T04:30:08.077200",
     "exception": false,
     "start_time": "2021-08-17T04:30:08.012710",
     "status": "completed"
    },
    "tags": []
   },
   "outputs": [
    {
     "data": {
      "text/html": [
       "<div>\n",
       "<style scoped>\n",
       "    .dataframe tbody tr th:only-of-type {\n",
       "        vertical-align: middle;\n",
       "    }\n",
       "\n",
       "    .dataframe tbody tr th {\n",
       "        vertical-align: top;\n",
       "    }\n",
       "\n",
       "    .dataframe thead th {\n",
       "        text-align: right;\n",
       "    }\n",
       "</style>\n",
       "<table border=\"1\" class=\"dataframe\">\n",
       "  <thead>\n",
       "    <tr style=\"text-align: right;\">\n",
       "      <th></th>\n",
       "      <th>RECORD_TIME</th>\n",
       "    </tr>\n",
       "  </thead>\n",
       "  <tbody>\n",
       "    <tr>\n",
       "      <th>0</th>\n",
       "      <td>2021-08-17 06:30</td>\n",
       "    </tr>\n",
       "    <tr>\n",
       "      <th>1</th>\n",
       "      <td>2021-08-17 06:00</td>\n",
       "    </tr>\n",
       "  </tbody>\n",
       "</table>\n",
       "</div>"
      ],
      "text/plain": [
       "        RECORD_TIME\n",
       "0  2021-08-17 06:30\n",
       "1  2021-08-17 06:00"
      ]
     },
     "execution_count": 3,
     "metadata": {},
     "output_type": "execute_result"
    }
   ],
   "source": [
    "timestamps"
   ]
  },
  {
   "cell_type": "code",
   "execution_count": 4,
   "id": "alternate-victory",
   "metadata": {
    "execution": {
     "iopub.execute_input": "2021-08-17T04:30:08.128980Z",
     "iopub.status.busy": "2021-08-17T04:30:08.126723Z",
     "iopub.status.idle": "2021-08-17T04:30:08.227182Z",
     "shell.execute_reply": "2021-08-17T04:30:08.228436Z"
    },
    "papermill": {
     "duration": 0.130673,
     "end_time": "2021-08-17T04:30:08.228836",
     "exception": false,
     "start_time": "2021-08-17T04:30:08.098163",
     "status": "completed"
    },
    "tags": []
   },
   "outputs": [],
   "source": [
    "df = pd.read_sql(\"select * from EBAY_TOP_BERLIN where record_time in (select distinct record_time from EBAY_TOP_BERLIN order by record_time desc limit 2)\", sqlite3.connect(\"UsedObjects.db\"))"
   ]
  },
  {
   "cell_type": "code",
   "execution_count": 5,
   "id": "popular-active",
   "metadata": {
    "execution": {
     "iopub.execute_input": "2021-08-17T04:30:08.297210Z",
     "iopub.status.busy": "2021-08-17T04:30:08.285397Z",
     "iopub.status.idle": "2021-08-17T04:30:08.312669Z",
     "shell.execute_reply": "2021-08-17T04:30:08.313870Z"
    },
    "papermill": {
     "duration": 0.065696,
     "end_time": "2021-08-17T04:30:08.314568",
     "exception": false,
     "start_time": "2021-08-17T04:30:08.248872",
     "status": "completed"
    },
    "tags": []
   },
   "outputs": [],
   "source": [
    "df_pivot = df.pivot_table(index=\"PRODUCT\", columns = \"RECORD_TIME\", values = \"LISTING_COUNT\")"
   ]
  },
  {
   "cell_type": "code",
   "execution_count": 6,
   "id": "union-huntington",
   "metadata": {
    "execution": {
     "iopub.execute_input": "2021-08-17T04:30:08.373399Z",
     "iopub.status.busy": "2021-08-17T04:30:08.370998Z",
     "iopub.status.idle": "2021-08-17T04:30:08.377024Z",
     "shell.execute_reply": "2021-08-17T04:30:08.378444Z"
    },
    "papermill": {
     "duration": 0.042461,
     "end_time": "2021-08-17T04:30:08.378893",
     "exception": false,
     "start_time": "2021-08-17T04:30:08.336432",
     "status": "completed"
    },
    "tags": []
   },
   "outputs": [],
   "source": [
    "df_pivot.columns = [\"stamp_1\", \"stamp_2\"]\n",
    "df_pivot_diff = df_pivot.diff(axis=1)"
   ]
  },
  {
   "cell_type": "code",
   "execution_count": 7,
   "id": "fifth-motion",
   "metadata": {
    "execution": {
     "iopub.execute_input": "2021-08-17T04:30:08.433606Z",
     "iopub.status.busy": "2021-08-17T04:30:08.431471Z",
     "iopub.status.idle": "2021-08-17T04:30:09.952871Z",
     "shell.execute_reply": "2021-08-17T04:30:09.954364Z"
    },
    "papermill": {
     "duration": 1.554244,
     "end_time": "2021-08-17T04:30:09.954842",
     "exception": false,
     "start_time": "2021-08-17T04:30:08.400598",
     "status": "completed"
    },
    "tags": []
   },
   "outputs": [
    {
     "data": {
      "text/plain": [
       "<AxesSubplot:ylabel='PRODUCT'>"
      ]
     },
     "execution_count": 7,
     "metadata": {},
     "output_type": "execute_result"
    },
    {
     "data": {
      "image/png": "[encoded data removed]",
      "text/plain": [
       "<Figure size 432x288 with 1 Axes>"
      ]
     },
     "metadata": {
      "needs_background": "light"
     },
     "output_type": "display_data"
    }
   ],
   "source": [
    "df_pivot_diff.sort_values(\"stamp_2\", ascending = False)[\"stamp_2\"].head(10).plot.barh()"
   ]
  },
  {
   "cell_type": "code",
   "execution_count": null,
   "id": "extra-executive",
   "metadata": {
    "papermill": {
     "duration": 0.022021,
     "end_time": "2021-08-17T04:30:10.001343",
     "exception": false,
     "start_time": "2021-08-17T04:30:09.979322",
     "status": "completed"
    },
    "tags": []
   },
   "outputs": [],
   "source": []
  }
 ],
 "metadata": {
  "kernelspec": {
   "display_name": "Python 3",
   "language": "python",
   "name": "python3"
  },
  "language_info": {
   "codemirror_mode": {
    "name": "ipython",
    "version": 3
   },
   "file_extension": ".py",
   "mimetype": "text/x-python",
   "name": "python",
   "nbconvert_exporter": "python",
   "pygments_lexer": "ipython3",
   "version": "3.9.5"
  },
  "papermill": {
   "default_parameters": {},
   "duration": 6.826082,
   "end_time": "2021-08-17T04:30:11.428461",
   "environment_variables": {},
   "exception": null,
   "input_path": "eBay_Overview.ipynb",
   "output_path": "eBay_Overview.ipynb",
   "parameters": {},
   "start_time": "2021-08-17T04:30:04.602379",
   "version": "2.3.3"
  }
 },
 "nbformat": 4,
 "nbformat_minor": 5
}