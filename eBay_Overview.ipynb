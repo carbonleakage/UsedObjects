{
 "cells": [
  {
   "cell_type": "code",
   "execution_count": 1,
   "id": "reverse-picking",
   "metadata": {
    "execution": {
     "iopub.execute_input": "2021-08-10T09:30:03.585895Z",
     "iopub.status.busy": "2021-08-10T09:30:03.585124Z",
     "iopub.status.idle": "2021-08-10T09:30:04.249883Z",
     "shell.execute_reply": "2021-08-10T09:30:04.250816Z"
    },
    "papermill": {
     "duration": 0.684619,
     "end_time": "2021-08-10T09:30:04.251225",
     "exception": false,
     "start_time": "2021-08-10T09:30:03.566606",
     "status": "completed"
    },
    "tags": []
   },
   "outputs": [],
   "source": [
    "import pandas as pd\n",
    "import sqlite3"
   ]
  },
  {
   "cell_type": "code",
   "execution_count": 2,
   "id": "innovative-syndrome",
   "metadata": {
    "execution": {
     "iopub.execute_input": "2021-08-10T09:30:04.276478Z",
     "iopub.status.busy": "2021-08-10T09:30:04.275686Z",
     "iopub.status.idle": "2021-08-10T09:30:04.567081Z",
     "shell.execute_reply": "2021-08-10T09:30:04.567657Z"
    },
    "papermill": {
     "duration": 0.30663,
     "end_time": "2021-08-10T09:30:04.567851",
     "exception": false,
     "start_time": "2021-08-10T09:30:04.261221",
     "status": "completed"
    },
    "tags": []
   },
   "outputs": [],
   "source": [
    "timestamps = pd.read_sql(\"select distinct record_time from EBAY_TOP_BERLIN order by record_time desc limit 2\", sqlite3.connect(\"UsedObjects.db\"))"
   ]
  },
  {
   "cell_type": "code",
   "execution_count": 3,
   "id": "periodic-identification",
   "metadata": {
    "execution": {
     "iopub.execute_input": "2021-08-10T09:30:04.596088Z",
     "iopub.status.busy": "2021-08-10T09:30:04.595311Z",
     "iopub.status.idle": "2021-08-10T09:30:04.605980Z",
     "shell.execute_reply": "2021-08-10T09:30:04.606523Z"
    },
    "papermill": {
     "duration": 0.0299,
     "end_time": "2021-08-10T09:30:04.606704",
     "exception": false,
     "start_time": "2021-08-10T09:30:04.576804",
     "status": "completed"
    },
    "tags": []
   },
   "outputs": [
    {
     "data": {
      "text/html": [
       "<div>\n",
       "<style scoped>\n",
       "    .dataframe tbody tr th:only-of-type {\n",
       "        vertical-align: middle;\n",
       "    }\n",
       "\n",
       "    .dataframe tbody tr th {\n",
       "        vertical-align: top;\n",
       "    }\n",
       "\n",
       "    .dataframe thead th {\n",
       "        text-align: right;\n",
       "    }\n",
       "</style>\n",
       "<table border=\"1\" class=\"dataframe\">\n",
       "  <thead>\n",
       "    <tr style=\"text-align: right;\">\n",
       "      <th></th>\n",
       "      <th>RECORD_TIME</th>\n",
       "    </tr>\n",
       "  </thead>\n",
       "  <tbody>\n",
       "    <tr>\n",
       "      <th>0</th>\n",
       "      <td>2021-08-10 11:30</td>\n",
       "    </tr>\n",
       "    <tr>\n",
       "      <th>1</th>\n",
       "      <td>2021-08-10 11:00</td>\n",
       "    </tr>\n",
       "  </tbody>\n",
       "</table>\n",
       "</div>"
      ],
      "text/plain": [
       "        RECORD_TIME\n",
       "0  2021-08-10 11:30\n",
       "1  2021-08-10 11:00"
      ]
     },
     "execution_count": 3,
     "metadata": {},
     "output_type": "execute_result"
    }
   ],
   "source": [
    "timestamps"
   ]
  },
  {
   "cell_type": "code",
   "execution_count": 4,
   "id": "alternate-victory",
   "metadata": {
    "execution": {
     "iopub.execute_input": "2021-08-10T09:30:04.632641Z",
     "iopub.status.busy": "2021-08-10T09:30:04.631668Z",
     "iopub.status.idle": "2021-08-10T09:30:04.648682Z",
     "shell.execute_reply": "2021-08-10T09:30:04.649701Z"
    },
    "papermill": {
     "duration": 0.03478,
     "end_time": "2021-08-10T09:30:04.650021",
     "exception": false,
     "start_time": "2021-08-10T09:30:04.615241",
     "status": "completed"
    },
    "tags": []
   },
   "outputs": [],
   "source": [
    "df = pd.read_sql(\"select * from EBAY_TOP_BERLIN where record_time in (select distinct record_time from EBAY_TOP_BERLIN order by record_time desc limit 2)\", sqlite3.connect(\"UsedObjects.db\"))"
   ]
  },
  {
   "cell_type": "code",
   "execution_count": 5,
   "id": "popular-active",
   "metadata": {
    "execution": {
     "iopub.execute_input": "2021-08-10T09:30:04.677821Z",
     "iopub.status.busy": "2021-08-10T09:30:04.677034Z",
     "iopub.status.idle": "2021-08-10T09:30:04.695351Z",
     "shell.execute_reply": "2021-08-10T09:30:04.695888Z"
    },
    "papermill": {
     "duration": 0.035591,
     "end_time": "2021-08-10T09:30:04.696072",
     "exception": false,
     "start_time": "2021-08-10T09:30:04.660481",
     "status": "completed"
    },
    "tags": []
   },
   "outputs": [],
   "source": [
    "df_pivot = df.pivot_table(index=\"PRODUCT\", columns = \"RECORD_TIME\", values = \"LISTING_COUNT\")"
   ]
  },
  {
   "cell_type": "code",
   "execution_count": 6,
   "id": "union-huntington",
   "metadata": {
    "execution": {
     "iopub.execute_input": "2021-08-10T09:30:04.725484Z",
     "iopub.status.busy": "2021-08-10T09:30:04.724743Z",
     "iopub.status.idle": "2021-08-10T09:30:04.729944Z",
     "shell.execute_reply": "2021-08-10T09:30:04.730520Z"
    },
    "papermill": {
     "duration": 0.02321,
     "end_time": "2021-08-10T09:30:04.730715",
     "exception": false,
     "start_time": "2021-08-10T09:30:04.707505",
     "status": "completed"
    },
    "tags": []
   },
   "outputs": [],
   "source": [
    "df_pivot.columns = [\"stamp_1\", \"stamp_2\"]\n",
    "df_pivot_diff = df_pivot.diff(axis=1)"
   ]
  },
  {
   "cell_type": "code",
   "execution_count": 7,
   "id": "fifth-motion",
   "metadata": {
    "execution": {
     "iopub.execute_input": "2021-08-10T09:30:04.766425Z",
     "iopub.status.busy": "2021-08-10T09:30:04.758326Z",
     "iopub.status.idle": "2021-08-10T09:30:05.448400Z",
     "shell.execute_reply": "2021-08-10T09:30:05.448970Z"
    },
    "papermill": {
     "duration": 0.707379,
     "end_time": "2021-08-10T09:30:05.449163",
     "exception": false,
     "start_time": "2021-08-10T09:30:04.741784",
     "status": "completed"
    },
    "tags": []
   },
   "outputs": [
    {
     "data": {
      "text/plain": [
       "<AxesSubplot:ylabel='PRODUCT'>"
      ]
     },
     "execution_count": 7,
     "metadata": {},
     "output_type": "execute_result"
    },
    {
     "data": {
      "image/png": "[encoded data removed]",
      "text/plain": [
       "<Figure size 432x288 with 1 Axes>"
      ]
     },
     "metadata": {
      "needs_background": "light"
     },
     "output_type": "display_data"
    }
   ],
   "source": [
    "df_pivot_diff.sort_values(\"stamp_2\", ascending = False)[\"stamp_2\"].head(10).plot.barh()"
   ]
  },
  {
   "cell_type": "code",
   "execution_count": null,
   "id": "extra-executive",
   "metadata": {
    "papermill": {
     "duration": 0.012071,
     "end_time": "2021-08-10T09:30:05.470947",
     "exception": false,
     "start_time": "2021-08-10T09:30:05.458876",
     "status": "completed"
    },
    "tags": []
   },
   "outputs": [],
   "source": []
  }
 ],
 "metadata": {
  "kernelspec": {
   "display_name": "Python 3",
   "language": "python",
   "name": "python3"
  },
  "language_info": {
   "codemirror_mode": {
    "name": "ipython",
    "version": 3
   },
   "file_extension": ".py",
   "mimetype": "text/x-python",
   "name": "python",
   "nbconvert_exporter": "python",
   "pygments_lexer": "ipython3",
   "version": "3.8.8"
  },
  "papermill": {
   "default_parameters": {},
   "duration": 4.9289,
   "end_time": "2021-08-10T09:30:06.841645",
   "environment_variables": {},
   "exception": null,
   "input_path": "/Users/saravananshanmugam/Carbonleakage_Git/UsedObjects/eBay_Overview.ipynb",
   "output_path": "/Users/saravananshanmugam/Carbonleakage_Git/UsedObjects/eBay_Overview.ipynb",
   "parameters": {},
   "start_time": "2021-08-10T09:30:01.912745",
   "version": "2.3.3"
  }
 },
 "nbformat": 4,
 "nbformat_minor": 5
}