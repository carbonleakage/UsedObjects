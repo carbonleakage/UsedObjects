{
 "cells": [
  {
   "cell_type": "code",
   "execution_count": 1,
   "id": "reverse-picking",
   "metadata": {
    "execution": {
     "iopub.execute_input": "2021-09-10T04:30:07.165126Z",
     "iopub.status.busy": "2021-09-10T04:30:07.163192Z",
     "iopub.status.idle": "2021-09-10T04:30:07.975284Z",
     "shell.execute_reply": "2021-09-10T04:30:07.976716Z"
    },
    "papermill": {
     "duration": 0.864595,
     "end_time": "2021-09-10T04:30:07.977400",
     "exception": false,
     "start_time": "2021-09-10T04:30:07.112805",
     "status": "completed"
    },
    "tags": []
   },
   "outputs": [],
   "source": [
    "import pandas as pd\n",
    "import sqlite3"
   ]
  },
  {
   "cell_type": "code",
   "execution_count": 2,
   "id": "innovative-syndrome",
   "metadata": {
    "execution": {
     "iopub.execute_input": "2021-09-10T04:30:08.027923Z",
     "iopub.status.busy": "2021-09-10T04:30:08.025879Z",
     "iopub.status.idle": "2021-09-10T04:30:08.275809Z",
     "shell.execute_reply": "2021-09-10T04:30:08.277065Z"
    },
    "papermill": {
     "duration": 0.280097,
     "end_time": "2021-09-10T04:30:08.277461",
     "exception": false,
     "start_time": "2021-09-10T04:30:07.997364",
     "status": "completed"
    },
    "tags": []
   },
   "outputs": [],
   "source": [
    "timestamps = pd.read_sql(\"select distinct record_time from EBAY_TOP_BERLIN order by record_time desc limit 2\", sqlite3.connect(\"UsedObjects.db\"))"
   ]
  },
  {
   "cell_type": "code",
   "execution_count": 3,
   "id": "periodic-identification",
   "metadata": {
    "execution": {
     "iopub.execute_input": "2021-09-10T04:30:08.342130Z",
     "iopub.status.busy": "2021-09-10T04:30:08.340094Z",
     "iopub.status.idle": "2021-09-10T04:30:08.360125Z",
     "shell.execute_reply": "2021-09-10T04:30:08.361407Z"
    },
    "papermill": {
     "duration": 0.06486,
     "end_time": "2021-09-10T04:30:08.361820",
     "exception": false,
     "start_time": "2021-09-10T04:30:08.296960",
     "status": "completed"
    },
    "tags": []
   },
   "outputs": [
    {
     "data": {
      "text/html": [
       "<div>\n",
       "<style scoped>\n",
       "    .dataframe tbody tr th:only-of-type {\n",
       "        vertical-align: middle;\n",
       "    }\n",
       "\n",
       "    .dataframe tbody tr th {\n",
       "        vertical-align: top;\n",
       "    }\n",
       "\n",
       "    .dataframe thead th {\n",
       "        text-align: right;\n",
       "    }\n",
       "</style>\n",
       "<table border=\"1\" class=\"dataframe\">\n",
       "  <thead>\n",
       "    <tr style=\"text-align: right;\">\n",
       "      <th></th>\n",
       "      <th>RECORD_TIME</th>\n",
       "    </tr>\n",
       "  </thead>\n",
       "  <tbody>\n",
       "    <tr>\n",
       "      <th>0</th>\n",
       "      <td>2021-09-10 06:30</td>\n",
       "    </tr>\n",
       "    <tr>\n",
       "      <th>1</th>\n",
       "      <td>2021-09-10 06:00</td>\n",
       "    </tr>\n",
       "  </tbody>\n",
       "</table>\n",
       "</div>"
      ],
      "text/plain": [
       "        RECORD_TIME\n",
       "0  2021-09-10 06:30\n",
       "1  2021-09-10 06:00"
      ]
     },
     "execution_count": 3,
     "metadata": {},
     "output_type": "execute_result"
    }
   ],
   "source": [
    "timestamps"
   ]
  },
  {
   "cell_type": "code",
   "execution_count": 4,
   "id": "alternate-victory",
   "metadata": {
    "execution": {
     "iopub.execute_input": "2021-09-10T04:30:08.414603Z",
     "iopub.status.busy": "2021-09-10T04:30:08.412293Z",
     "iopub.status.idle": "2021-09-10T04:30:08.793699Z",
     "shell.execute_reply": "2021-09-10T04:30:08.795132Z"
    },
    "papermill": {
     "duration": 0.412361,
     "end_time": "2021-09-10T04:30:08.795608",
     "exception": false,
     "start_time": "2021-09-10T04:30:08.383247",
     "status": "completed"
    },
    "tags": []
   },
   "outputs": [],
   "source": [
    "df = pd.read_sql(\"select * from EBAY_TOP_BERLIN where record_time in (select distinct record_time from EBAY_TOP_BERLIN order by record_time desc limit 2)\", sqlite3.connect(\"UsedObjects.db\"))"
   ]
  },
  {
   "cell_type": "code",
   "execution_count": 5,
   "id": "popular-active",
   "metadata": {
    "execution": {
     "iopub.execute_input": "2021-09-10T04:30:08.867864Z",
     "iopub.status.busy": "2021-09-10T04:30:08.856610Z",
     "iopub.status.idle": "2021-09-10T04:30:08.883878Z",
     "shell.execute_reply": "2021-09-10T04:30:08.885190Z"
    },
    "papermill": {
     "duration": 0.069455,
     "end_time": "2021-09-10T04:30:08.885607",
     "exception": false,
     "start_time": "2021-09-10T04:30:08.816152",
     "status": "completed"
    },
    "tags": []
   },
   "outputs": [],
   "source": [
    "df_pivot = df.pivot_table(index=\"PRODUCT\", columns = \"RECORD_TIME\", values = \"LISTING_COUNT\")"
   ]
  },
  {
   "cell_type": "code",
   "execution_count": 6,
   "id": "union-huntington",
   "metadata": {
    "execution": {
     "iopub.execute_input": "2021-09-10T04:30:08.945633Z",
     "iopub.status.busy": "2021-09-10T04:30:08.943178Z",
     "iopub.status.idle": "2021-09-10T04:30:08.948803Z",
     "shell.execute_reply": "2021-09-10T04:30:08.950077Z"
    },
    "papermill": {
     "duration": 0.042022,
     "end_time": "2021-09-10T04:30:08.950495",
     "exception": false,
     "start_time": "2021-09-10T04:30:08.908473",
     "status": "completed"
    },
    "tags": []
   },
   "outputs": [],
   "source": [
    "df_pivot.columns = [\"stamp_1\", \"stamp_2\"]\n",
    "df_pivot_diff = df_pivot.diff(axis=1)"
   ]
  },
  {
   "cell_type": "code",
   "execution_count": 7,
   "id": "fifth-motion",
   "metadata": {
    "execution": {
     "iopub.execute_input": "2021-09-10T04:30:09.005142Z",
     "iopub.status.busy": "2021-09-10T04:30:09.002662Z",
     "iopub.status.idle": "2021-09-10T04:30:10.482384Z",
     "shell.execute_reply": "2021-09-10T04:30:10.483883Z"
    },
    "papermill": {
     "duration": 1.513639,
     "end_time": "2021-09-10T04:30:10.484354",
     "exception": false,
     "start_time": "2021-09-10T04:30:08.970715",
     "status": "completed"
    },
    "tags": []
   },
   "outputs": [
    {
     "data": {
      "text/plain": [
       "<AxesSubplot:ylabel='PRODUCT'>"
      ]
     },
     "execution_count": 7,
     "metadata": {},
     "output_type": "execute_result"
    },
    {
     "data": {
      "image/png": "[encoded data removed]",
      "text/plain": [
       "<Figure size 432x288 with 1 Axes>"
      ]
     },
     "metadata": {
      "needs_background": "light"
     },
     "output_type": "display_data"
    }
   ],
   "source": [
    "df_pivot_diff.sort_values(\"stamp_2\", ascending = False)[\"stamp_2\"].head(10).plot.barh()"
   ]
  },
  {
   "cell_type": "code",
   "execution_count": null,
   "id": "extra-executive",
   "metadata": {
    "papermill": {
     "duration": 0.023334,
     "end_time": "2021-09-10T04:30:10.532553",
     "exception": false,
     "start_time": "2021-09-10T04:30:10.509219",
     "status": "completed"
    },
    "tags": []
   },
   "outputs": [],
   "source": []
  }
 ],
 "metadata": {
  "kernelspec": {
   "display_name": "Python 3",
   "language": "python",
   "name": "python3"
  },
  "language_info": {
   "codemirror_mode": {
    "name": "ipython",
    "version": 3
   },
   "file_extension": ".py",
   "mimetype": "text/x-python",
   "name": "python",
   "nbconvert_exporter": "python",
   "pygments_lexer": "ipython3",
   "version": "3.9.5"
  },
  "papermill": {
   "default_parameters": {},
   "duration": 6.489754,
   "end_time": "2021-09-10T04:30:11.174089",
   "environment_variables": {},
   "exception": null,
   "input_path": "eBay_Overview.ipynb",
   "output_path": "eBay_Overview.ipynb",
   "parameters": {},
   "start_time": "2021-09-10T04:30:04.684335",
   "version": "2.3.3"
  }
 },
 "nbformat": 4,
 "nbformat_minor": 5
}