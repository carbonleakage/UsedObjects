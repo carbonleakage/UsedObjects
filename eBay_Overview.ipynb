{
 "cells": [
  {
   "cell_type": "code",
   "execution_count": 1,
   "id": "reverse-picking",
   "metadata": {
    "execution": {
     "iopub.execute_input": "2021-11-10T07:00:07.858260Z",
     "iopub.status.busy": "2021-11-10T07:00:07.855840Z",
     "iopub.status.idle": "2021-11-10T07:00:08.809681Z",
     "shell.execute_reply": "2021-11-10T07:00:08.811186Z"
    },
    "papermill": {
     "duration": 1.00389,
     "end_time": "2021-11-10T07:00:08.811937",
     "exception": false,
     "start_time": "2021-11-10T07:00:07.808047",
     "status": "completed"
    },
    "tags": []
   },
   "outputs": [],
   "source": [
    "import pandas as pd\n",
    "import sqlite3"
   ]
  },
  {
   "cell_type": "code",
   "execution_count": 2,
   "id": "innovative-syndrome",
   "metadata": {
    "execution": {
     "iopub.execute_input": "2021-11-10T07:00:08.874476Z",
     "iopub.status.busy": "2021-11-10T07:00:08.872033Z",
     "iopub.status.idle": "2021-11-10T07:00:09.650847Z",
     "shell.execute_reply": "2021-11-10T07:00:09.652491Z"
    },
    "papermill": {
     "duration": 0.812944,
     "end_time": "2021-11-10T07:00:09.653154",
     "exception": false,
     "start_time": "2021-11-10T07:00:08.840210",
     "status": "completed"
    },
    "tags": []
   },
   "outputs": [],
   "source": [
    "timestamps = pd.read_sql(\"select distinct record_time from EBAY_TOP_BERLIN order by record_time desc limit 2\", sqlite3.connect(\"UsedObjects.db\"))"
   ]
  },
  {
   "cell_type": "code",
   "execution_count": 3,
   "id": "periodic-identification",
   "metadata": {
    "execution": {
     "iopub.execute_input": "2021-11-10T07:00:09.730084Z",
     "iopub.status.busy": "2021-11-10T07:00:09.723932Z",
     "iopub.status.idle": "2021-11-10T07:00:09.747676Z",
     "shell.execute_reply": "2021-11-10T07:00:09.749171Z"
    },
    "papermill": {
     "duration": 0.074278,
     "end_time": "2021-11-10T07:00:09.749700",
     "exception": false,
     "start_time": "2021-11-10T07:00:09.675422",
     "status": "completed"
    },
    "tags": []
   },
   "outputs": [
    {
     "data": {
      "text/html": [
       "<div>\n",
       "<style scoped>\n",
       "    .dataframe tbody tr th:only-of-type {\n",
       "        vertical-align: middle;\n",
       "    }\n",
       "\n",
       "    .dataframe tbody tr th {\n",
       "        vertical-align: top;\n",
       "    }\n",
       "\n",
       "    .dataframe thead th {\n",
       "        text-align: right;\n",
       "    }\n",
       "</style>\n",
       "<table border=\"1\" class=\"dataframe\">\n",
       "  <thead>\n",
       "    <tr style=\"text-align: right;\">\n",
       "      <th></th>\n",
       "      <th>RECORD_TIME</th>\n",
       "    </tr>\n",
       "  </thead>\n",
       "  <tbody>\n",
       "    <tr>\n",
       "      <th>0</th>\n",
       "      <td>2021-11-10 08:00</td>\n",
       "    </tr>\n",
       "    <tr>\n",
       "      <th>1</th>\n",
       "      <td>2021-11-10 07:30</td>\n",
       "    </tr>\n",
       "  </tbody>\n",
       "</table>\n",
       "</div>"
      ],
      "text/plain": [
       "        RECORD_TIME\n",
       "0  2021-11-10 08:00\n",
       "1  2021-11-10 07:30"
      ]
     },
     "execution_count": 3,
     "metadata": {},
     "output_type": "execute_result"
    }
   ],
   "source": [
    "timestamps"
   ]
  },
  {
   "cell_type": "code",
   "execution_count": 4,
   "id": "alternate-victory",
   "metadata": {
    "execution": {
     "iopub.execute_input": "2021-11-10T07:00:09.804931Z",
     "iopub.status.busy": "2021-11-10T07:00:09.802626Z",
     "iopub.status.idle": "2021-11-10T07:00:10.953681Z",
     "shell.execute_reply": "2021-11-10T07:00:10.955344Z"
    },
    "papermill": {
     "duration": 1.185317,
     "end_time": "2021-11-10T07:00:10.955903",
     "exception": false,
     "start_time": "2021-11-10T07:00:09.770586",
     "status": "completed"
    },
    "tags": []
   },
   "outputs": [],
   "source": [
    "df = pd.read_sql(\"select * from EBAY_TOP_BERLIN where record_time in (select distinct record_time from EBAY_TOP_BERLIN order by record_time desc limit 2)\", sqlite3.connect(\"UsedObjects.db\"))"
   ]
  },
  {
   "cell_type": "code",
   "execution_count": 5,
   "id": "popular-active",
   "metadata": {
    "execution": {
     "iopub.execute_input": "2021-11-10T07:00:11.036294Z",
     "iopub.status.busy": "2021-11-10T07:00:11.028296Z",
     "iopub.status.idle": "2021-11-10T07:00:11.054655Z",
     "shell.execute_reply": "2021-11-10T07:00:11.056171Z"
    },
    "papermill": {
     "duration": 0.078895,
     "end_time": "2021-11-10T07:00:11.056657",
     "exception": false,
     "start_time": "2021-11-10T07:00:10.977762",
     "status": "completed"
    },
    "tags": []
   },
   "outputs": [],
   "source": [
    "df_pivot = df.pivot_table(index=\"PRODUCT\", columns = \"RECORD_TIME\", values = \"LISTING_COUNT\")"
   ]
  },
  {
   "cell_type": "code",
   "execution_count": 6,
   "id": "union-huntington",
   "metadata": {
    "execution": {
     "iopub.execute_input": "2021-11-10T07:00:11.116429Z",
     "iopub.status.busy": "2021-11-10T07:00:11.114397Z",
     "iopub.status.idle": "2021-11-10T07:00:11.120949Z",
     "shell.execute_reply": "2021-11-10T07:00:11.119086Z"
    },
    "papermill": {
     "duration": 0.04416,
     "end_time": "2021-11-10T07:00:11.121336",
     "exception": false,
     "start_time": "2021-11-10T07:00:11.077176",
     "status": "completed"
    },
    "tags": []
   },
   "outputs": [],
   "source": [
    "df_pivot.columns = [\"stamp_1\", \"stamp_2\"]\n",
    "df_pivot_diff = df_pivot.diff(axis=1)"
   ]
  },
  {
   "cell_type": "code",
   "execution_count": 7,
   "id": "fifth-motion",
   "metadata": {
    "execution": {
     "iopub.execute_input": "2021-11-10T07:00:11.181390Z",
     "iopub.status.busy": "2021-11-10T07:00:11.178806Z",
     "iopub.status.idle": "2021-11-10T07:00:13.097957Z",
     "shell.execute_reply": "2021-11-10T07:00:13.099697Z"
    },
    "papermill": {
     "duration": 1.957349,
     "end_time": "2021-11-10T07:00:13.100199",
     "exception": false,
     "start_time": "2021-11-10T07:00:11.142850",
     "status": "completed"
    },
    "tags": []
   },
   "outputs": [
    {
     "data": {
      "text/plain": [
       "<AxesSubplot:ylabel='PRODUCT'>"
      ]
     },
     "execution_count": 7,
     "metadata": {},
     "output_type": "execute_result"
    },
    {
     "data": {
      "image/png": "[encoded data removed]",
      "text/plain": [
       "<Figure size 432x288 with 1 Axes>"
      ]
     },
     "metadata": {
      "needs_background": "light"
     },
     "output_type": "display_data"
    }
   ],
   "source": [
    "df_pivot_diff.sort_values(\"stamp_2\", ascending = False)[\"stamp_2\"].head(10).plot.barh()"
   ]
  },
  {
   "cell_type": "code",
   "execution_count": null,
   "id": "extra-executive",
   "metadata": {
    "papermill": {
     "duration": 0.023592,
     "end_time": "2021-11-10T07:00:13.146754",
     "exception": false,
     "start_time": "2021-11-10T07:00:13.123162",
     "status": "completed"
    },
    "tags": []
   },
   "outputs": [],
   "source": []
  }
 ],
 "metadata": {
  "kernelspec": {
   "display_name": "Python 3",
   "language": "python",
   "name": "python3"
  },
  "language_info": {
   "codemirror_mode": {
    "name": "ipython",
    "version": 3
   },
   "file_extension": ".py",
   "mimetype": "text/x-python",
   "name": "python",
   "nbconvert_exporter": "python",
   "pygments_lexer": "ipython3",
   "version": "3.9.5"
  },
  "papermill": {
   "default_parameters": {},
   "duration": 8.90531,
   "end_time": "2021-11-10T07:00:13.993876",
   "environment_variables": {},
   "exception": null,
   "input_path": "eBay_Overview.ipynb",
   "output_path": "eBay_Overview.ipynb",
   "parameters": {},
   "start_time": "2021-11-10T07:00:05.088566",
   "version": "2.3.3"
  }
 },
 "nbformat": 4,
 "nbformat_minor": 5
}