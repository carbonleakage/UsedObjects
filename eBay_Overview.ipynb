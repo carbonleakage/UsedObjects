{
 "cells": [
  {
   "cell_type": "code",
   "execution_count": 1,
   "id": "reverse-picking",
   "metadata": {
    "execution": {
     "iopub.execute_input": "2021-09-14T20:00:06.896691Z",
     "iopub.status.busy": "2021-09-14T20:00:06.894630Z",
     "iopub.status.idle": "2021-09-14T20:00:07.700739Z",
     "shell.execute_reply": "2021-09-14T20:00:07.701992Z"
    },
    "papermill": {
     "duration": 0.858743,
     "end_time": "2021-09-14T20:00:07.702607",
     "exception": false,
     "start_time": "2021-09-14T20:00:06.843864",
     "status": "completed"
    },
    "tags": []
   },
   "outputs": [],
   "source": [
    "import pandas as pd\n",
    "import sqlite3"
   ]
  },
  {
   "cell_type": "code",
   "execution_count": 2,
   "id": "innovative-syndrome",
   "metadata": {
    "execution": {
     "iopub.execute_input": "2021-09-14T20:00:07.753608Z",
     "iopub.status.busy": "2021-09-14T20:00:07.751731Z",
     "iopub.status.idle": "2021-09-14T20:00:08.037826Z",
     "shell.execute_reply": "2021-09-14T20:00:08.039092Z"
    },
    "papermill": {
     "duration": 0.315808,
     "end_time": "2021-09-14T20:00:08.039506",
     "exception": false,
     "start_time": "2021-09-14T20:00:07.723698",
     "status": "completed"
    },
    "tags": []
   },
   "outputs": [],
   "source": [
    "timestamps = pd.read_sql(\"select distinct record_time from EBAY_TOP_BERLIN order by record_time desc limit 2\", sqlite3.connect(\"UsedObjects.db\"))"
   ]
  },
  {
   "cell_type": "code",
   "execution_count": 3,
   "id": "periodic-identification",
   "metadata": {
    "execution": {
     "iopub.execute_input": "2021-09-14T20:00:08.106156Z",
     "iopub.status.busy": "2021-09-14T20:00:08.104149Z",
     "iopub.status.idle": "2021-09-14T20:00:08.123955Z",
     "shell.execute_reply": "2021-09-14T20:00:08.125230Z"
    },
    "papermill": {
     "duration": 0.064318,
     "end_time": "2021-09-14T20:00:08.125624",
     "exception": false,
     "start_time": "2021-09-14T20:00:08.061306",
     "status": "completed"
    },
    "tags": []
   },
   "outputs": [
    {
     "data": {
      "text/html": [
       "<div>\n",
       "<style scoped>\n",
       "    .dataframe tbody tr th:only-of-type {\n",
       "        vertical-align: middle;\n",
       "    }\n",
       "\n",
       "    .dataframe tbody tr th {\n",
       "        vertical-align: top;\n",
       "    }\n",
       "\n",
       "    .dataframe thead th {\n",
       "        text-align: right;\n",
       "    }\n",
       "</style>\n",
       "<table border=\"1\" class=\"dataframe\">\n",
       "  <thead>\n",
       "    <tr style=\"text-align: right;\">\n",
       "      <th></th>\n",
       "      <th>RECORD_TIME</th>\n",
       "    </tr>\n",
       "  </thead>\n",
       "  <tbody>\n",
       "    <tr>\n",
       "      <th>0</th>\n",
       "      <td>2021-09-14 22:00</td>\n",
       "    </tr>\n",
       "    <tr>\n",
       "      <th>1</th>\n",
       "      <td>2021-09-14 21:30</td>\n",
       "    </tr>\n",
       "  </tbody>\n",
       "</table>\n",
       "</div>"
      ],
      "text/plain": [
       "        RECORD_TIME\n",
       "0  2021-09-14 22:00\n",
       "1  2021-09-14 21:30"
      ]
     },
     "execution_count": 3,
     "metadata": {},
     "output_type": "execute_result"
    }
   ],
   "source": [
    "timestamps"
   ]
  },
  {
   "cell_type": "code",
   "execution_count": 4,
   "id": "alternate-victory",
   "metadata": {
    "execution": {
     "iopub.execute_input": "2021-09-14T20:00:08.179041Z",
     "iopub.status.busy": "2021-09-14T20:00:08.176699Z",
     "iopub.status.idle": "2021-09-14T20:00:08.614492Z",
     "shell.execute_reply": "2021-09-14T20:00:08.615767Z"
    },
    "papermill": {
     "duration": 0.468631,
     "end_time": "2021-09-14T20:00:08.616170",
     "exception": false,
     "start_time": "2021-09-14T20:00:08.147539",
     "status": "completed"
    },
    "tags": []
   },
   "outputs": [],
   "source": [
    "df = pd.read_sql(\"select * from EBAY_TOP_BERLIN where record_time in (select distinct record_time from EBAY_TOP_BERLIN order by record_time desc limit 2)\", sqlite3.connect(\"UsedObjects.db\"))"
   ]
  },
  {
   "cell_type": "code",
   "execution_count": 5,
   "id": "popular-active",
   "metadata": {
    "execution": {
     "iopub.execute_input": "2021-09-14T20:00:08.702676Z",
     "iopub.status.busy": "2021-09-14T20:00:08.691605Z",
     "iopub.status.idle": "2021-09-14T20:00:08.719233Z",
     "shell.execute_reply": "2021-09-14T20:00:08.720535Z"
    },
    "papermill": {
     "duration": 0.072854,
     "end_time": "2021-09-14T20:00:08.720959",
     "exception": false,
     "start_time": "2021-09-14T20:00:08.648105",
     "status": "completed"
    },
    "tags": []
   },
   "outputs": [],
   "source": [
    "df_pivot = df.pivot_table(index=\"PRODUCT\", columns = \"RECORD_TIME\", values = \"LISTING_COUNT\")"
   ]
  },
  {
   "cell_type": "code",
   "execution_count": 6,
   "id": "union-huntington",
   "metadata": {
    "execution": {
     "iopub.execute_input": "2021-09-14T20:00:08.777983Z",
     "iopub.status.busy": "2021-09-14T20:00:08.775949Z",
     "iopub.status.idle": "2021-09-14T20:00:08.781086Z",
     "shell.execute_reply": "2021-09-14T20:00:08.782269Z"
    },
    "papermill": {
     "duration": 0.040463,
     "end_time": "2021-09-14T20:00:08.782701",
     "exception": false,
     "start_time": "2021-09-14T20:00:08.742238",
     "status": "completed"
    },
    "tags": []
   },
   "outputs": [],
   "source": [
    "df_pivot.columns = [\"stamp_1\", \"stamp_2\"]\n",
    "df_pivot_diff = df_pivot.diff(axis=1)"
   ]
  },
  {
   "cell_type": "code",
   "execution_count": 7,
   "id": "fifth-motion",
   "metadata": {
    "execution": {
     "iopub.execute_input": "2021-09-14T20:00:08.838777Z",
     "iopub.status.busy": "2021-09-14T20:00:08.836150Z",
     "iopub.status.idle": "2021-09-14T20:00:10.349925Z",
     "shell.execute_reply": "2021-09-14T20:00:10.351272Z"
    },
    "papermill": {
     "duration": 1.547693,
     "end_time": "2021-09-14T20:00:10.351737",
     "exception": false,
     "start_time": "2021-09-14T20:00:08.804044",
     "status": "completed"
    },
    "tags": []
   },
   "outputs": [
    {
     "data": {
      "text/plain": [
       "<AxesSubplot:ylabel='PRODUCT'>"
      ]
     },
     "execution_count": 7,
     "metadata": {},
     "output_type": "execute_result"
    },
    {
     "data": {
      "image/png": "[encoded data removed]",
      "text/plain": [
       "<Figure size 432x288 with 1 Axes>"
      ]
     },
     "metadata": {
      "needs_background": "light"
     },
     "output_type": "display_data"
    }
   ],
   "source": [
    "df_pivot_diff.sort_values(\"stamp_2\", ascending = False)[\"stamp_2\"].head(10).plot.barh()"
   ]
  },
  {
   "cell_type": "code",
   "execution_count": null,
   "id": "extra-executive",
   "metadata": {
    "papermill": {
     "duration": 0.022329,
     "end_time": "2021-09-14T20:00:10.398964",
     "exception": false,
     "start_time": "2021-09-14T20:00:10.376635",
     "status": "completed"
    },
    "tags": []
   },
   "outputs": [],
   "source": []
  }
 ],
 "metadata": {
  "kernelspec": {
   "display_name": "Python 3",
   "language": "python",
   "name": "python3"
  },
  "language_info": {
   "codemirror_mode": {
    "name": "ipython",
    "version": 3
   },
   "file_extension": ".py",
   "mimetype": "text/x-python",
   "name": "python",
   "nbconvert_exporter": "python",
   "pygments_lexer": "ipython3",
   "version": "3.9.5"
  },
  "papermill": {
   "default_parameters": {},
   "duration": 6.606383,
   "end_time": "2021-09-14T20:00:11.041681",
   "environment_variables": {},
   "exception": null,
   "input_path": "eBay_Overview.ipynb",
   "output_path": "eBay_Overview.ipynb",
   "parameters": {},
   "start_time": "2021-09-14T20:00:04.435298",
   "version": "2.3.3"
  }
 },
 "nbformat": 4,
 "nbformat_minor": 5
}