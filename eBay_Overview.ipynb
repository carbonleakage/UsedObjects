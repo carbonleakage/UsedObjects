{
 "cells": [
  {
   "cell_type": "code",
   "execution_count": 1,
   "id": "reverse-picking",
   "metadata": {
    "execution": {
     "iopub.execute_input": "2021-09-19T03:30:07.273207Z",
     "iopub.status.busy": "2021-09-19T03:30:07.271300Z",
     "iopub.status.idle": "2021-09-19T03:30:08.075288Z",
     "shell.execute_reply": "2021-09-19T03:30:08.076531Z"
    },
    "papermill": {
     "duration": 0.857337,
     "end_time": "2021-09-19T03:30:08.077151",
     "exception": false,
     "start_time": "2021-09-19T03:30:07.219814",
     "status": "completed"
    },
    "tags": []
   },
   "outputs": [],
   "source": [
    "import pandas as pd\n",
    "import sqlite3"
   ]
  },
  {
   "cell_type": "code",
   "execution_count": 2,
   "id": "innovative-syndrome",
   "metadata": {
    "execution": {
     "iopub.execute_input": "2021-09-19T03:30:08.127751Z",
     "iopub.status.busy": "2021-09-19T03:30:08.125725Z",
     "iopub.status.idle": "2021-09-19T03:30:08.447790Z",
     "shell.execute_reply": "2021-09-19T03:30:08.448893Z"
    },
    "papermill": {
     "duration": 0.351731,
     "end_time": "2021-09-19T03:30:08.449304",
     "exception": false,
     "start_time": "2021-09-19T03:30:08.097573",
     "status": "completed"
    },
    "tags": []
   },
   "outputs": [],
   "source": [
    "timestamps = pd.read_sql(\"select distinct record_time from EBAY_TOP_BERLIN order by record_time desc limit 2\", sqlite3.connect(\"UsedObjects.db\"))"
   ]
  },
  {
   "cell_type": "code",
   "execution_count": 3,
   "id": "periodic-identification",
   "metadata": {
    "execution": {
     "iopub.execute_input": "2021-09-19T03:30:08.513596Z",
     "iopub.status.busy": "2021-09-19T03:30:08.511614Z",
     "iopub.status.idle": "2021-09-19T03:30:08.531474Z",
     "shell.execute_reply": "2021-09-19T03:30:08.532766Z"
    },
    "papermill": {
     "duration": 0.063114,
     "end_time": "2021-09-19T03:30:08.533175",
     "exception": false,
     "start_time": "2021-09-19T03:30:08.470061",
     "status": "completed"
    },
    "tags": []
   },
   "outputs": [
    {
     "data": {
      "text/html": [
       "<div>\n",
       "<style scoped>\n",
       "    .dataframe tbody tr th:only-of-type {\n",
       "        vertical-align: middle;\n",
       "    }\n",
       "\n",
       "    .dataframe tbody tr th {\n",
       "        vertical-align: top;\n",
       "    }\n",
       "\n",
       "    .dataframe thead th {\n",
       "        text-align: right;\n",
       "    }\n",
       "</style>\n",
       "<table border=\"1\" class=\"dataframe\">\n",
       "  <thead>\n",
       "    <tr style=\"text-align: right;\">\n",
       "      <th></th>\n",
       "      <th>RECORD_TIME</th>\n",
       "    </tr>\n",
       "  </thead>\n",
       "  <tbody>\n",
       "    <tr>\n",
       "      <th>0</th>\n",
       "      <td>2021-09-19 05:30</td>\n",
       "    </tr>\n",
       "    <tr>\n",
       "      <th>1</th>\n",
       "      <td>2021-09-19 05:00</td>\n",
       "    </tr>\n",
       "  </tbody>\n",
       "</table>\n",
       "</div>"
      ],
      "text/plain": [
       "        RECORD_TIME\n",
       "0  2021-09-19 05:30\n",
       "1  2021-09-19 05:00"
      ]
     },
     "execution_count": 3,
     "metadata": {},
     "output_type": "execute_result"
    }
   ],
   "source": [
    "timestamps"
   ]
  },
  {
   "cell_type": "code",
   "execution_count": 4,
   "id": "alternate-victory",
   "metadata": {
    "execution": {
     "iopub.execute_input": "2021-09-19T03:30:08.583605Z",
     "iopub.status.busy": "2021-09-19T03:30:08.581559Z",
     "iopub.status.idle": "2021-09-19T03:30:09.053306Z",
     "shell.execute_reply": "2021-09-19T03:30:09.051915Z"
    },
    "papermill": {
     "duration": 0.500362,
     "end_time": "2021-09-19T03:30:09.053692",
     "exception": false,
     "start_time": "2021-09-19T03:30:08.553330",
     "status": "completed"
    },
    "tags": []
   },
   "outputs": [],
   "source": [
    "df = pd.read_sql(\"select * from EBAY_TOP_BERLIN where record_time in (select distinct record_time from EBAY_TOP_BERLIN order by record_time desc limit 2)\", sqlite3.connect(\"UsedObjects.db\"))"
   ]
  },
  {
   "cell_type": "code",
   "execution_count": 5,
   "id": "popular-active",
   "metadata": {
    "execution": {
     "iopub.execute_input": "2021-09-19T03:30:09.133204Z",
     "iopub.status.busy": "2021-09-19T03:30:09.120810Z",
     "iopub.status.idle": "2021-09-19T03:30:09.148835Z",
     "shell.execute_reply": "2021-09-19T03:30:09.150024Z"
    },
    "papermill": {
     "duration": 0.070826,
     "end_time": "2021-09-19T03:30:09.150414",
     "exception": false,
     "start_time": "2021-09-19T03:30:09.079588",
     "status": "completed"
    },
    "tags": []
   },
   "outputs": [],
   "source": [
    "df_pivot = df.pivot_table(index=\"PRODUCT\", columns = \"RECORD_TIME\", values = \"LISTING_COUNT\")"
   ]
  },
  {
   "cell_type": "code",
   "execution_count": 6,
   "id": "union-huntington",
   "metadata": {
    "execution": {
     "iopub.execute_input": "2021-09-19T03:30:09.207052Z",
     "iopub.status.busy": "2021-09-19T03:30:09.204895Z",
     "iopub.status.idle": "2021-09-19T03:30:09.210457Z",
     "shell.execute_reply": "2021-09-19T03:30:09.212750Z"
    },
    "papermill": {
     "duration": 0.041548,
     "end_time": "2021-09-19T03:30:09.213246",
     "exception": false,
     "start_time": "2021-09-19T03:30:09.171698",
     "status": "completed"
    },
    "tags": []
   },
   "outputs": [],
   "source": [
    "df_pivot.columns = [\"stamp_1\", \"stamp_2\"]\n",
    "df_pivot_diff = df_pivot.diff(axis=1)"
   ]
  },
  {
   "cell_type": "code",
   "execution_count": 7,
   "id": "fifth-motion",
   "metadata": {
    "execution": {
     "iopub.execute_input": "2021-09-19T03:30:09.268716Z",
     "iopub.status.busy": "2021-09-19T03:30:09.266225Z",
     "iopub.status.idle": "2021-09-19T03:30:10.782689Z",
     "shell.execute_reply": "2021-09-19T03:30:10.784012Z"
    },
    "papermill": {
     "duration": 1.549826,
     "end_time": "2021-09-19T03:30:10.784428",
     "exception": false,
     "start_time": "2021-09-19T03:30:09.234602",
     "status": "completed"
    },
    "tags": []
   },
   "outputs": [
    {
     "data": {
      "text/plain": [
       "<AxesSubplot:ylabel='PRODUCT'>"
      ]
     },
     "execution_count": 7,
     "metadata": {},
     "output_type": "execute_result"
    },
    {
     "data": {
      "image/png": "[encoded data removed]",
      "text/plain": [
       "<Figure size 432x288 with 1 Axes>"
      ]
     },
     "metadata": {
      "needs_background": "light"
     },
     "output_type": "display_data"
    }
   ],
   "source": [
    "df_pivot_diff.sort_values(\"stamp_2\", ascending = False)[\"stamp_2\"].head(10).plot.barh()"
   ]
  },
  {
   "cell_type": "code",
   "execution_count": null,
   "id": "extra-executive",
   "metadata": {
    "papermill": {
     "duration": 0.022004,
     "end_time": "2021-09-19T03:30:10.830965",
     "exception": false,
     "start_time": "2021-09-19T03:30:10.808961",
     "status": "completed"
    },
    "tags": []
   },
   "outputs": [],
   "source": []
  }
 ],
 "metadata": {
  "kernelspec": {
   "display_name": "Python 3",
   "language": "python",
   "name": "python3"
  },
  "language_info": {
   "codemirror_mode": {
    "name": "ipython",
    "version": 3
   },
   "file_extension": ".py",
   "mimetype": "text/x-python",
   "name": "python",
   "nbconvert_exporter": "python",
   "pygments_lexer": "ipython3",
   "version": "3.9.5"
  },
  "papermill": {
   "default_parameters": {},
   "duration": 6.643455,
   "end_time": "2021-09-19T03:30:11.472303",
   "environment_variables": {},
   "exception": null,
   "input_path": "eBay_Overview.ipynb",
   "output_path": "eBay_Overview.ipynb",
   "parameters": {},
   "start_time": "2021-09-19T03:30:04.828848",
   "version": "2.3.3"
  }
 },
 "nbformat": 4,
 "nbformat_minor": 5
}