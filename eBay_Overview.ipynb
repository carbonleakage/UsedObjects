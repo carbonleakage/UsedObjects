{
 "cells": [
  {
   "cell_type": "code",
   "execution_count": 1,
   "id": "reverse-picking",
   "metadata": {
    "execution": {
     "iopub.execute_input": "2021-09-19T01:30:06.928531Z",
     "iopub.status.busy": "2021-09-19T01:30:06.926496Z",
     "iopub.status.idle": "2021-09-19T01:30:07.728697Z",
     "shell.execute_reply": "2021-09-19T01:30:07.730021Z"
    },
    "papermill": {
     "duration": 0.854117,
     "end_time": "2021-09-19T01:30:07.730670",
     "exception": false,
     "start_time": "2021-09-19T01:30:06.876553",
     "status": "completed"
    },
    "tags": []
   },
   "outputs": [],
   "source": [
    "import pandas as pd\n",
    "import sqlite3"
   ]
  },
  {
   "cell_type": "code",
   "execution_count": 2,
   "id": "innovative-syndrome",
   "metadata": {
    "execution": {
     "iopub.execute_input": "2021-09-19T01:30:07.781121Z",
     "iopub.status.busy": "2021-09-19T01:30:07.778747Z",
     "iopub.status.idle": "2021-09-19T01:30:08.100384Z",
     "shell.execute_reply": "2021-09-19T01:30:08.101774Z"
    },
    "papermill": {
     "duration": 0.351658,
     "end_time": "2021-09-19T01:30:08.102215",
     "exception": false,
     "start_time": "2021-09-19T01:30:07.750557",
     "status": "completed"
    },
    "tags": []
   },
   "outputs": [],
   "source": [
    "timestamps = pd.read_sql(\"select distinct record_time from EBAY_TOP_BERLIN order by record_time desc limit 2\", sqlite3.connect(\"UsedObjects.db\"))"
   ]
  },
  {
   "cell_type": "code",
   "execution_count": 3,
   "id": "periodic-identification",
   "metadata": {
    "execution": {
     "iopub.execute_input": "2021-09-19T01:30:08.168674Z",
     "iopub.status.busy": "2021-09-19T01:30:08.166581Z",
     "iopub.status.idle": "2021-09-19T01:30:08.187455Z",
     "shell.execute_reply": "2021-09-19T01:30:08.188829Z"
    },
    "papermill": {
     "duration": 0.067507,
     "end_time": "2021-09-19T01:30:08.189254",
     "exception": false,
     "start_time": "2021-09-19T01:30:08.121747",
     "status": "completed"
    },
    "tags": []
   },
   "outputs": [
    {
     "data": {
      "text/html": [
       "<div>\n",
       "<style scoped>\n",
       "    .dataframe tbody tr th:only-of-type {\n",
       "        vertical-align: middle;\n",
       "    }\n",
       "\n",
       "    .dataframe tbody tr th {\n",
       "        vertical-align: top;\n",
       "    }\n",
       "\n",
       "    .dataframe thead th {\n",
       "        text-align: right;\n",
       "    }\n",
       "</style>\n",
       "<table border=\"1\" class=\"dataframe\">\n",
       "  <thead>\n",
       "    <tr style=\"text-align: right;\">\n",
       "      <th></th>\n",
       "      <th>RECORD_TIME</th>\n",
       "    </tr>\n",
       "  </thead>\n",
       "  <tbody>\n",
       "    <tr>\n",
       "      <th>0</th>\n",
       "      <td>2021-09-19 03:30</td>\n",
       "    </tr>\n",
       "    <tr>\n",
       "      <th>1</th>\n",
       "      <td>2021-09-19 03:00</td>\n",
       "    </tr>\n",
       "  </tbody>\n",
       "</table>\n",
       "</div>"
      ],
      "text/plain": [
       "        RECORD_TIME\n",
       "0  2021-09-19 03:30\n",
       "1  2021-09-19 03:00"
      ]
     },
     "execution_count": 3,
     "metadata": {},
     "output_type": "execute_result"
    }
   ],
   "source": [
    "timestamps"
   ]
  },
  {
   "cell_type": "code",
   "execution_count": 4,
   "id": "alternate-victory",
   "metadata": {
    "execution": {
     "iopub.execute_input": "2021-09-19T01:30:08.239825Z",
     "iopub.status.busy": "2021-09-19T01:30:08.237886Z",
     "iopub.status.idle": "2021-09-19T01:30:08.721091Z",
     "shell.execute_reply": "2021-09-19T01:30:08.722386Z"
    },
    "papermill": {
     "duration": 0.5129,
     "end_time": "2021-09-19T01:30:08.722858",
     "exception": false,
     "start_time": "2021-09-19T01:30:08.209958",
     "status": "completed"
    },
    "tags": []
   },
   "outputs": [],
   "source": [
    "df = pd.read_sql(\"select * from EBAY_TOP_BERLIN where record_time in (select distinct record_time from EBAY_TOP_BERLIN order by record_time desc limit 2)\", sqlite3.connect(\"UsedObjects.db\"))"
   ]
  },
  {
   "cell_type": "code",
   "execution_count": 5,
   "id": "popular-active",
   "metadata": {
    "execution": {
     "iopub.execute_input": "2021-09-19T01:30:08.791920Z",
     "iopub.status.busy": "2021-09-19T01:30:08.780763Z",
     "iopub.status.idle": "2021-09-19T01:30:08.808819Z",
     "shell.execute_reply": "2021-09-19T01:30:08.810108Z"
    },
    "papermill": {
     "duration": 0.066611,
     "end_time": "2021-09-19T01:30:08.810525",
     "exception": false,
     "start_time": "2021-09-19T01:30:08.743914",
     "status": "completed"
    },
    "tags": []
   },
   "outputs": [],
   "source": [
    "df_pivot = df.pivot_table(index=\"PRODUCT\", columns = \"RECORD_TIME\", values = \"LISTING_COUNT\")"
   ]
  },
  {
   "cell_type": "code",
   "execution_count": 6,
   "id": "union-huntington",
   "metadata": {
    "execution": {
     "iopub.execute_input": "2021-09-19T01:30:08.866459Z",
     "iopub.status.busy": "2021-09-19T01:30:08.864381Z",
     "iopub.status.idle": "2021-09-19T01:30:08.869789Z",
     "shell.execute_reply": "2021-09-19T01:30:08.871137Z"
    },
    "papermill": {
     "duration": 0.041125,
     "end_time": "2021-09-19T01:30:08.871561",
     "exception": false,
     "start_time": "2021-09-19T01:30:08.830436",
     "status": "completed"
    },
    "tags": []
   },
   "outputs": [],
   "source": [
    "df_pivot.columns = [\"stamp_1\", \"stamp_2\"]\n",
    "df_pivot_diff = df_pivot.diff(axis=1)"
   ]
  },
  {
   "cell_type": "code",
   "execution_count": 7,
   "id": "fifth-motion",
   "metadata": {
    "execution": {
     "iopub.execute_input": "2021-09-19T01:30:08.925045Z",
     "iopub.status.busy": "2021-09-19T01:30:08.922627Z",
     "iopub.status.idle": "2021-09-19T01:30:10.426076Z",
     "shell.execute_reply": "2021-09-19T01:30:10.427550Z"
    },
    "papermill": {
     "duration": 1.536224,
     "end_time": "2021-09-19T01:30:10.428004",
     "exception": false,
     "start_time": "2021-09-19T01:30:08.891780",
     "status": "completed"
    },
    "tags": []
   },
   "outputs": [
    {
     "data": {
      "text/plain": [
       "<AxesSubplot:ylabel='PRODUCT'>"
      ]
     },
     "execution_count": 7,
     "metadata": {},
     "output_type": "execute_result"
    },
    {
     "data": {
      "image/png": "[encoded data removed]",
      "text/plain": [
       "<Figure size 432x288 with 1 Axes>"
      ]
     },
     "metadata": {
      "needs_background": "light"
     },
     "output_type": "display_data"
    }
   ],
   "source": [
    "df_pivot_diff.sort_values(\"stamp_2\", ascending = False)[\"stamp_2\"].head(10).plot.barh()"
   ]
  },
  {
   "cell_type": "code",
   "execution_count": null,
   "id": "extra-executive",
   "metadata": {
    "papermill": {
     "duration": 0.021719,
     "end_time": "2021-09-19T01:30:10.474104",
     "exception": false,
     "start_time": "2021-09-19T01:30:10.452385",
     "status": "completed"
    },
    "tags": []
   },
   "outputs": [],
   "source": []
  }
 ],
 "metadata": {
  "kernelspec": {
   "display_name": "Python 3",
   "language": "python",
   "name": "python3"
  },
  "language_info": {
   "codemirror_mode": {
    "name": "ipython",
    "version": 3
   },
   "file_extension": ".py",
   "mimetype": "text/x-python",
   "name": "python",
   "nbconvert_exporter": "python",
   "pygments_lexer": "ipython3",
   "version": "3.9.5"
  },
  "papermill": {
   "default_parameters": {},
   "duration": 6.62928,
   "end_time": "2021-09-19T01:30:11.114619",
   "environment_variables": {},
   "exception": null,
   "input_path": "eBay_Overview.ipynb",
   "output_path": "eBay_Overview.ipynb",
   "parameters": {},
   "start_time": "2021-09-19T01:30:04.485339",
   "version": "2.3.3"
  }
 },
 "nbformat": 4,
 "nbformat_minor": 5
}