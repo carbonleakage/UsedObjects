{
 "cells": [
  {
   "cell_type": "code",
   "execution_count": 1,
   "id": "reverse-picking",
   "metadata": {
    "execution": {
     "iopub.execute_input": "2021-10-09T19:30:07.388793Z",
     "iopub.status.busy": "2021-10-09T19:30:07.386685Z",
     "iopub.status.idle": "2021-10-09T19:30:08.197447Z",
     "shell.execute_reply": "2021-10-09T19:30:08.198757Z"
    },
    "papermill": {
     "duration": 0.861578,
     "end_time": "2021-10-09T19:30:08.199486",
     "exception": false,
     "start_time": "2021-10-09T19:30:07.337908",
     "status": "completed"
    },
    "tags": []
   },
   "outputs": [],
   "source": [
    "import pandas as pd\n",
    "import sqlite3"
   ]
  },
  {
   "cell_type": "code",
   "execution_count": 2,
   "id": "innovative-syndrome",
   "metadata": {
    "execution": {
     "iopub.execute_input": "2021-10-09T19:30:08.250242Z",
     "iopub.status.busy": "2021-10-09T19:30:08.248142Z",
     "iopub.status.idle": "2021-10-09T19:30:08.739860Z",
     "shell.execute_reply": "2021-10-09T19:30:08.741074Z"
    },
    "papermill": {
     "duration": 0.521654,
     "end_time": "2021-10-09T19:30:08.741470",
     "exception": false,
     "start_time": "2021-10-09T19:30:08.219816",
     "status": "completed"
    },
    "tags": []
   },
   "outputs": [],
   "source": [
    "timestamps = pd.read_sql(\"select distinct record_time from EBAY_TOP_BERLIN order by record_time desc limit 2\", sqlite3.connect(\"UsedObjects.db\"))"
   ]
  },
  {
   "cell_type": "code",
   "execution_count": 3,
   "id": "periodic-identification",
   "metadata": {
    "execution": {
     "iopub.execute_input": "2021-10-09T19:30:08.806028Z",
     "iopub.status.busy": "2021-10-09T19:30:08.804031Z",
     "iopub.status.idle": "2021-10-09T19:30:08.823661Z",
     "shell.execute_reply": "2021-10-09T19:30:08.824872Z"
    },
    "papermill": {
     "duration": 0.06382,
     "end_time": "2021-10-09T19:30:08.825268",
     "exception": false,
     "start_time": "2021-10-09T19:30:08.761448",
     "status": "completed"
    },
    "tags": []
   },
   "outputs": [
    {
     "data": {
      "text/html": [
       "<div>\n",
       "<style scoped>\n",
       "    .dataframe tbody tr th:only-of-type {\n",
       "        vertical-align: middle;\n",
       "    }\n",
       "\n",
       "    .dataframe tbody tr th {\n",
       "        vertical-align: top;\n",
       "    }\n",
       "\n",
       "    .dataframe thead th {\n",
       "        text-align: right;\n",
       "    }\n",
       "</style>\n",
       "<table border=\"1\" class=\"dataframe\">\n",
       "  <thead>\n",
       "    <tr style=\"text-align: right;\">\n",
       "      <th></th>\n",
       "      <th>RECORD_TIME</th>\n",
       "    </tr>\n",
       "  </thead>\n",
       "  <tbody>\n",
       "    <tr>\n",
       "      <th>0</th>\n",
       "      <td>2021-10-09 21:30</td>\n",
       "    </tr>\n",
       "    <tr>\n",
       "      <th>1</th>\n",
       "      <td>2021-10-09 21:00</td>\n",
       "    </tr>\n",
       "  </tbody>\n",
       "</table>\n",
       "</div>"
      ],
      "text/plain": [
       "        RECORD_TIME\n",
       "0  2021-10-09 21:30\n",
       "1  2021-10-09 21:00"
      ]
     },
     "execution_count": 3,
     "metadata": {},
     "output_type": "execute_result"
    }
   ],
   "source": [
    "timestamps"
   ]
  },
  {
   "cell_type": "code",
   "execution_count": 4,
   "id": "alternate-victory",
   "metadata": {
    "execution": {
     "iopub.execute_input": "2021-10-09T19:30:08.885283Z",
     "iopub.status.busy": "2021-10-09T19:30:08.883439Z",
     "iopub.status.idle": "2021-10-09T19:30:09.620071Z",
     "shell.execute_reply": "2021-10-09T19:30:09.621502Z"
    },
    "papermill": {
     "duration": 0.769945,
     "end_time": "2021-10-09T19:30:09.621938",
     "exception": false,
     "start_time": "2021-10-09T19:30:08.851993",
     "status": "completed"
    },
    "tags": []
   },
   "outputs": [],
   "source": [
    "df = pd.read_sql(\"select * from EBAY_TOP_BERLIN where record_time in (select distinct record_time from EBAY_TOP_BERLIN order by record_time desc limit 2)\", sqlite3.connect(\"UsedObjects.db\"))"
   ]
  },
  {
   "cell_type": "code",
   "execution_count": 5,
   "id": "popular-active",
   "metadata": {
    "execution": {
     "iopub.execute_input": "2021-10-09T19:30:09.692521Z",
     "iopub.status.busy": "2021-10-09T19:30:09.680410Z",
     "iopub.status.idle": "2021-10-09T19:30:09.707787Z",
     "shell.execute_reply": "2021-10-09T19:30:09.709015Z"
    },
    "papermill": {
     "duration": 0.066751,
     "end_time": "2021-10-09T19:30:09.709410",
     "exception": false,
     "start_time": "2021-10-09T19:30:09.642659",
     "status": "completed"
    },
    "tags": []
   },
   "outputs": [],
   "source": [
    "df_pivot = df.pivot_table(index=\"PRODUCT\", columns = \"RECORD_TIME\", values = \"LISTING_COUNT\")"
   ]
  },
  {
   "cell_type": "code",
   "execution_count": 6,
   "id": "union-huntington",
   "metadata": {
    "execution": {
     "iopub.execute_input": "2021-10-09T19:30:09.769861Z",
     "iopub.status.busy": "2021-10-09T19:30:09.767443Z",
     "iopub.status.idle": "2021-10-09T19:30:09.772821Z",
     "shell.execute_reply": "2021-10-09T19:30:09.774268Z"
    },
    "papermill": {
     "duration": 0.043026,
     "end_time": "2021-10-09T19:30:09.774729",
     "exception": false,
     "start_time": "2021-10-09T19:30:09.731703",
     "status": "completed"
    },
    "tags": []
   },
   "outputs": [],
   "source": [
    "df_pivot.columns = [\"stamp_1\", \"stamp_2\"]\n",
    "df_pivot_diff = df_pivot.diff(axis=1)"
   ]
  },
  {
   "cell_type": "code",
   "execution_count": 7,
   "id": "fifth-motion",
   "metadata": {
    "execution": {
     "iopub.execute_input": "2021-10-09T19:30:09.829867Z",
     "iopub.status.busy": "2021-10-09T19:30:09.827464Z",
     "iopub.status.idle": "2021-10-09T19:30:11.317290Z",
     "shell.execute_reply": "2021-10-09T19:30:11.318578Z"
    },
    "papermill": {
     "duration": 1.522957,
     "end_time": "2021-10-09T19:30:11.319077",
     "exception": false,
     "start_time": "2021-10-09T19:30:09.796120",
     "status": "completed"
    },
    "tags": []
   },
   "outputs": [
    {
     "data": {
      "text/plain": [
       "<AxesSubplot:ylabel='PRODUCT'>"
      ]
     },
     "execution_count": 7,
     "metadata": {},
     "output_type": "execute_result"
    },
    {
     "data": {
      "image/png": "[encoded data removed]",
      "text/plain": [
       "<Figure size 432x288 with 1 Axes>"
      ]
     },
     "metadata": {
      "needs_background": "light"
     },
     "output_type": "display_data"
    }
   ],
   "source": [
    "df_pivot_diff.sort_values(\"stamp_2\", ascending = False)[\"stamp_2\"].head(10).plot.barh()"
   ]
  },
  {
   "cell_type": "code",
   "execution_count": null,
   "id": "extra-executive",
   "metadata": {
    "papermill": {
     "duration": 0.021973,
     "end_time": "2021-10-09T19:30:11.364842",
     "exception": false,
     "start_time": "2021-10-09T19:30:11.342869",
     "status": "completed"
    },
    "tags": []
   },
   "outputs": [],
   "source": []
  }
 ],
 "metadata": {
  "kernelspec": {
   "display_name": "Python 3",
   "language": "python",
   "name": "python3"
  },
  "language_info": {
   "codemirror_mode": {
    "name": "ipython",
    "version": 3
   },
   "file_extension": ".py",
   "mimetype": "text/x-python",
   "name": "python",
   "nbconvert_exporter": "python",
   "pygments_lexer": "ipython3",
   "version": "3.9.5"
  },
  "papermill": {
   "default_parameters": {},
   "duration": 7.831429,
   "end_time": "2021-10-09T19:30:12.759292",
   "environment_variables": {},
   "exception": null,
   "input_path": "eBay_Overview.ipynb",
   "output_path": "eBay_Overview.ipynb",
   "parameters": {},
   "start_time": "2021-10-09T19:30:04.927863",
   "version": "2.3.3"
  }
 },
 "nbformat": 4,
 "nbformat_minor": 5
}