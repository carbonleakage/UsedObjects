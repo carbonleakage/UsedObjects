{
 "cells": [
  {
   "cell_type": "code",
   "execution_count": 1,
   "id": "reverse-picking",
   "metadata": {
    "execution": {
     "iopub.execute_input": "2021-08-17T03:30:06.808259Z",
     "iopub.status.busy": "2021-08-17T03:30:06.806255Z",
     "iopub.status.idle": "2021-08-17T03:30:07.612324Z",
     "shell.execute_reply": "2021-08-17T03:30:07.610727Z"
    },
    "papermill": {
     "duration": 0.857774,
     "end_time": "2021-08-17T03:30:07.612717",
     "exception": false,
     "start_time": "2021-08-17T03:30:06.754943",
     "status": "completed"
    },
    "tags": []
   },
   "outputs": [],
   "source": [
    "import pandas as pd\n",
    "import sqlite3"
   ]
  },
  {
   "cell_type": "code",
   "execution_count": 2,
   "id": "innovative-syndrome",
   "metadata": {
    "execution": {
     "iopub.execute_input": "2021-08-17T03:30:07.662883Z",
     "iopub.status.busy": "2021-08-17T03:30:07.660843Z",
     "iopub.status.idle": "2021-08-17T03:30:07.726243Z",
     "shell.execute_reply": "2021-08-17T03:30:07.727395Z"
    },
    "papermill": {
     "duration": 0.094945,
     "end_time": "2021-08-17T03:30:07.727815",
     "exception": false,
     "start_time": "2021-08-17T03:30:07.632870",
     "status": "completed"
    },
    "tags": []
   },
   "outputs": [],
   "source": [
    "timestamps = pd.read_sql(\"select distinct record_time from EBAY_TOP_BERLIN order by record_time desc limit 2\", sqlite3.connect(\"UsedObjects.db\"))"
   ]
  },
  {
   "cell_type": "code",
   "execution_count": 3,
   "id": "periodic-identification",
   "metadata": {
    "execution": {
     "iopub.execute_input": "2021-08-17T03:30:07.792669Z",
     "iopub.status.busy": "2021-08-17T03:30:07.790657Z",
     "iopub.status.idle": "2021-08-17T03:30:07.811796Z",
     "shell.execute_reply": "2021-08-17T03:30:07.810437Z"
    },
    "papermill": {
     "duration": 0.064013,
     "end_time": "2021-08-17T03:30:07.812132",
     "exception": false,
     "start_time": "2021-08-17T03:30:07.748119",
     "status": "completed"
    },
    "tags": []
   },
   "outputs": [
    {
     "data": {
      "text/html": [
       "<div>\n",
       "<style scoped>\n",
       "    .dataframe tbody tr th:only-of-type {\n",
       "        vertical-align: middle;\n",
       "    }\n",
       "\n",
       "    .dataframe tbody tr th {\n",
       "        vertical-align: top;\n",
       "    }\n",
       "\n",
       "    .dataframe thead th {\n",
       "        text-align: right;\n",
       "    }\n",
       "</style>\n",
       "<table border=\"1\" class=\"dataframe\">\n",
       "  <thead>\n",
       "    <tr style=\"text-align: right;\">\n",
       "      <th></th>\n",
       "      <th>RECORD_TIME</th>\n",
       "    </tr>\n",
       "  </thead>\n",
       "  <tbody>\n",
       "    <tr>\n",
       "      <th>0</th>\n",
       "      <td>2021-08-17 05:30</td>\n",
       "    </tr>\n",
       "    <tr>\n",
       "      <th>1</th>\n",
       "      <td>2021-08-17 05:00</td>\n",
       "    </tr>\n",
       "  </tbody>\n",
       "</table>\n",
       "</div>"
      ],
      "text/plain": [
       "        RECORD_TIME\n",
       "0  2021-08-17 05:30\n",
       "1  2021-08-17 05:00"
      ]
     },
     "execution_count": 3,
     "metadata": {},
     "output_type": "execute_result"
    }
   ],
   "source": [
    "timestamps"
   ]
  },
  {
   "cell_type": "code",
   "execution_count": 4,
   "id": "alternate-victory",
   "metadata": {
    "execution": {
     "iopub.execute_input": "2021-08-17T03:30:07.862644Z",
     "iopub.status.busy": "2021-08-17T03:30:07.860629Z",
     "iopub.status.idle": "2021-08-17T03:30:07.957619Z",
     "shell.execute_reply": "2021-08-17T03:30:07.959819Z"
    },
    "papermill": {
     "duration": 0.127561,
     "end_time": "2021-08-17T03:30:07.960283",
     "exception": false,
     "start_time": "2021-08-17T03:30:07.832722",
     "status": "completed"
    },
    "tags": []
   },
   "outputs": [],
   "source": [
    "df = pd.read_sql(\"select * from EBAY_TOP_BERLIN where record_time in (select distinct record_time from EBAY_TOP_BERLIN order by record_time desc limit 2)\", sqlite3.connect(\"UsedObjects.db\"))"
   ]
  },
  {
   "cell_type": "code",
   "execution_count": 5,
   "id": "popular-active",
   "metadata": {
    "execution": {
     "iopub.execute_input": "2021-08-17T03:30:08.031386Z",
     "iopub.status.busy": "2021-08-17T03:30:08.020058Z",
     "iopub.status.idle": "2021-08-17T03:30:08.047997Z",
     "shell.execute_reply": "2021-08-17T03:30:08.049364Z"
    },
    "papermill": {
     "duration": 0.069696,
     "end_time": "2021-08-17T03:30:08.049801",
     "exception": false,
     "start_time": "2021-08-17T03:30:07.980105",
     "status": "completed"
    },
    "tags": []
   },
   "outputs": [],
   "source": [
    "df_pivot = df.pivot_table(index=\"PRODUCT\", columns = \"RECORD_TIME\", values = \"LISTING_COUNT\")"
   ]
  },
  {
   "cell_type": "code",
   "execution_count": 6,
   "id": "union-huntington",
   "metadata": {
    "execution": {
     "iopub.execute_input": "2021-08-17T03:30:08.108946Z",
     "iopub.status.busy": "2021-08-17T03:30:08.106432Z",
     "iopub.status.idle": "2021-08-17T03:30:08.112519Z",
     "shell.execute_reply": "2021-08-17T03:30:08.114043Z"
    },
    "papermill": {
     "duration": 0.042599,
     "end_time": "2021-08-17T03:30:08.114523",
     "exception": false,
     "start_time": "2021-08-17T03:30:08.071924",
     "status": "completed"
    },
    "tags": []
   },
   "outputs": [],
   "source": [
    "df_pivot.columns = [\"stamp_1\", \"stamp_2\"]\n",
    "df_pivot_diff = df_pivot.diff(axis=1)"
   ]
  },
  {
   "cell_type": "code",
   "execution_count": 7,
   "id": "fifth-motion",
   "metadata": {
    "execution": {
     "iopub.execute_input": "2021-08-17T03:30:08.170047Z",
     "iopub.status.busy": "2021-08-17T03:30:08.167647Z",
     "iopub.status.idle": "2021-08-17T03:30:09.640064Z",
     "shell.execute_reply": "2021-08-17T03:30:09.641370Z"
    },
    "papermill": {
     "duration": 1.505609,
     "end_time": "2021-08-17T03:30:09.641789",
     "exception": false,
     "start_time": "2021-08-17T03:30:08.136180",
     "status": "completed"
    },
    "tags": []
   },
   "outputs": [
    {
     "data": {
      "text/plain": [
       "<AxesSubplot:ylabel='PRODUCT'>"
      ]
     },
     "execution_count": 7,
     "metadata": {},
     "output_type": "execute_result"
    },
    {
     "data": {
      "image/png": "[encoded data removed]",
      "text/plain": [
       "<Figure size 432x288 with 1 Axes>"
      ]
     },
     "metadata": {
      "needs_background": "light"
     },
     "output_type": "display_data"
    }
   ],
   "source": [
    "df_pivot_diff.sort_values(\"stamp_2\", ascending = False)[\"stamp_2\"].head(10).plot.barh()"
   ]
  },
  {
   "cell_type": "code",
   "execution_count": null,
   "id": "extra-executive",
   "metadata": {
    "papermill": {
     "duration": 0.022004,
     "end_time": "2021-08-17T03:30:09.688138",
     "exception": false,
     "start_time": "2021-08-17T03:30:09.666134",
     "status": "completed"
    },
    "tags": []
   },
   "outputs": [],
   "source": []
  }
 ],
 "metadata": {
  "kernelspec": {
   "display_name": "Python 3",
   "language": "python",
   "name": "python3"
  },
  "language_info": {
   "codemirror_mode": {
    "name": "ipython",
    "version": 3
   },
   "file_extension": ".py",
   "mimetype": "text/x-python",
   "name": "python",
   "nbconvert_exporter": "python",
   "pygments_lexer": "ipython3",
   "version": "3.9.5"
  },
  "papermill": {
   "default_parameters": {},
   "duration": 6.828438,
   "end_time": "2021-08-17T03:30:11.169240",
   "environment_variables": {},
   "exception": null,
   "input_path": "eBay_Overview.ipynb",
   "output_path": "eBay_Overview.ipynb",
   "parameters": {},
   "start_time": "2021-08-17T03:30:04.340802",
   "version": "2.3.3"
  }
 },
 "nbformat": 4,
 "nbformat_minor": 5
}