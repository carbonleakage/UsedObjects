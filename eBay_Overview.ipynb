{
 "cells": [
  {
   "cell_type": "code",
   "execution_count": 1,
   "id": "reverse-picking",
   "metadata": {
    "execution": {
     "iopub.execute_input": "2021-11-21T17:30:07.809136Z",
     "iopub.status.busy": "2021-11-21T17:30:07.806786Z",
     "iopub.status.idle": "2021-11-21T17:30:08.743794Z",
     "shell.execute_reply": "2021-11-21T17:30:08.741900Z"
    },
    "papermill": {
     "duration": 0.98637,
     "end_time": "2021-11-21T17:30:08.744253",
     "exception": false,
     "start_time": "2021-11-21T17:30:07.757883",
     "status": "completed"
    },
    "tags": []
   },
   "outputs": [],
   "source": [
    "import pandas as pd\n",
    "import sqlite3"
   ]
  },
  {
   "cell_type": "code",
   "execution_count": 2,
   "id": "innovative-syndrome",
   "metadata": {
    "execution": {
     "iopub.execute_input": "2021-11-21T17:30:08.841556Z",
     "iopub.status.busy": "2021-11-21T17:30:08.839293Z",
     "iopub.status.idle": "2021-11-21T17:30:09.714463Z",
     "shell.execute_reply": "2021-11-21T17:30:09.715974Z"
    },
    "papermill": {
     "duration": 0.909899,
     "end_time": "2021-11-21T17:30:09.716479",
     "exception": false,
     "start_time": "2021-11-21T17:30:08.806580",
     "status": "completed"
    },
    "tags": []
   },
   "outputs": [],
   "source": [
    "timestamps = pd.read_sql(\"select distinct record_time from EBAY_TOP_BERLIN order by record_time desc limit 2\", sqlite3.connect(\"UsedObjects.db\"))"
   ]
  },
  {
   "cell_type": "code",
   "execution_count": 3,
   "id": "periodic-identification",
   "metadata": {
    "execution": {
     "iopub.execute_input": "2021-11-21T17:30:09.790001Z",
     "iopub.status.busy": "2021-11-21T17:30:09.787641Z",
     "iopub.status.idle": "2021-11-21T17:30:09.811854Z",
     "shell.execute_reply": "2021-11-21T17:30:09.813558Z"
    },
    "papermill": {
     "duration": 0.075761,
     "end_time": "2021-11-21T17:30:09.814099",
     "exception": false,
     "start_time": "2021-11-21T17:30:09.738338",
     "status": "completed"
    },
    "tags": []
   },
   "outputs": [
    {
     "data": {
      "text/html": [
       "<div>\n",
       "<style scoped>\n",
       "    .dataframe tbody tr th:only-of-type {\n",
       "        vertical-align: middle;\n",
       "    }\n",
       "\n",
       "    .dataframe tbody tr th {\n",
       "        vertical-align: top;\n",
       "    }\n",
       "\n",
       "    .dataframe thead th {\n",
       "        text-align: right;\n",
       "    }\n",
       "</style>\n",
       "<table border=\"1\" class=\"dataframe\">\n",
       "  <thead>\n",
       "    <tr style=\"text-align: right;\">\n",
       "      <th></th>\n",
       "      <th>RECORD_TIME</th>\n",
       "    </tr>\n",
       "  </thead>\n",
       "  <tbody>\n",
       "    <tr>\n",
       "      <th>0</th>\n",
       "      <td>2021-11-21 18:30</td>\n",
       "    </tr>\n",
       "    <tr>\n",
       "      <th>1</th>\n",
       "      <td>2021-11-21 18:00</td>\n",
       "    </tr>\n",
       "  </tbody>\n",
       "</table>\n",
       "</div>"
      ],
      "text/plain": [
       "        RECORD_TIME\n",
       "0  2021-11-21 18:30\n",
       "1  2021-11-21 18:00"
      ]
     },
     "execution_count": 3,
     "metadata": {},
     "output_type": "execute_result"
    }
   ],
   "source": [
    "timestamps"
   ]
  },
  {
   "cell_type": "code",
   "execution_count": 4,
   "id": "alternate-victory",
   "metadata": {
    "execution": {
     "iopub.execute_input": "2021-11-21T17:30:09.872436Z",
     "iopub.status.busy": "2021-11-21T17:30:09.870316Z",
     "iopub.status.idle": "2021-11-21T17:30:11.119223Z",
     "shell.execute_reply": "2021-11-21T17:30:11.121166Z"
    },
    "papermill": {
     "duration": 1.28589,
     "end_time": "2021-11-21T17:30:11.121795",
     "exception": false,
     "start_time": "2021-11-21T17:30:09.835905",
     "status": "completed"
    },
    "tags": []
   },
   "outputs": [],
   "source": [
    "df = pd.read_sql(\"select * from EBAY_TOP_BERLIN where record_time in (select distinct record_time from EBAY_TOP_BERLIN order by record_time desc limit 2)\", sqlite3.connect(\"UsedObjects.db\"))"
   ]
  },
  {
   "cell_type": "code",
   "execution_count": 5,
   "id": "popular-active",
   "metadata": {
    "execution": {
     "iopub.execute_input": "2021-11-21T17:30:11.202000Z",
     "iopub.status.busy": "2021-11-21T17:30:11.189002Z",
     "iopub.status.idle": "2021-11-21T17:30:11.221293Z",
     "shell.execute_reply": "2021-11-21T17:30:11.222896Z"
    },
    "papermill": {
     "duration": 0.078588,
     "end_time": "2021-11-21T17:30:11.223401",
     "exception": false,
     "start_time": "2021-11-21T17:30:11.144813",
     "status": "completed"
    },
    "tags": []
   },
   "outputs": [],
   "source": [
    "df_pivot = df.pivot_table(index=\"PRODUCT\", columns = \"RECORD_TIME\", values = \"LISTING_COUNT\")"
   ]
  },
  {
   "cell_type": "code",
   "execution_count": 6,
   "id": "union-huntington",
   "metadata": {
    "execution": {
     "iopub.execute_input": "2021-11-21T17:30:11.284487Z",
     "iopub.status.busy": "2021-11-21T17:30:11.282081Z",
     "iopub.status.idle": "2021-11-21T17:30:11.287954Z",
     "shell.execute_reply": "2021-11-21T17:30:11.289314Z"
    },
    "papermill": {
     "duration": 0.044798,
     "end_time": "2021-11-21T17:30:11.289818",
     "exception": false,
     "start_time": "2021-11-21T17:30:11.245020",
     "status": "completed"
    },
    "tags": []
   },
   "outputs": [],
   "source": [
    "df_pivot.columns = [\"stamp_1\", \"stamp_2\"]\n",
    "df_pivot_diff = df_pivot.diff(axis=1)"
   ]
  },
  {
   "cell_type": "code",
   "execution_count": 7,
   "id": "fifth-motion",
   "metadata": {
    "execution": {
     "iopub.execute_input": "2021-11-21T17:30:11.360183Z",
     "iopub.status.busy": "2021-11-21T17:30:11.348224Z",
     "iopub.status.idle": "2021-11-21T17:30:13.235681Z",
     "shell.execute_reply": "2021-11-21T17:30:13.237242Z"
    },
    "papermill": {
     "duration": 1.926367,
     "end_time": "2021-11-21T17:30:13.237757",
     "exception": false,
     "start_time": "2021-11-21T17:30:11.311390",
     "status": "completed"
    },
    "tags": []
   },
   "outputs": [
    {
     "data": {
      "text/plain": [
       "<AxesSubplot:ylabel='PRODUCT'>"
      ]
     },
     "execution_count": 7,
     "metadata": {},
     "output_type": "execute_result"
    },
    {
     "data": {
      "image/png": "[encoded data removed]",
      "text/plain": [
       "<Figure size 432x288 with 1 Axes>"
      ]
     },
     "metadata": {
      "needs_background": "light"
     },
     "output_type": "display_data"
    }
   ],
   "source": [
    "df_pivot_diff.sort_values(\"stamp_2\", ascending = False)[\"stamp_2\"].head(10).plot.barh()"
   ]
  },
  {
   "cell_type": "code",
   "execution_count": null,
   "id": "extra-executive",
   "metadata": {
    "papermill": {
     "duration": 0.023883,
     "end_time": "2021-11-21T17:30:13.286882",
     "exception": false,
     "start_time": "2021-11-21T17:30:13.262999",
     "status": "completed"
    },
    "tags": []
   },
   "outputs": [],
   "source": []
  }
 ],
 "metadata": {
  "kernelspec": {
   "display_name": "Python 3",
   "language": "python",
   "name": "python3"
  },
  "language_info": {
   "codemirror_mode": {
    "name": "ipython",
    "version": 3
   },
   "file_extension": ".py",
   "mimetype": "text/x-python",
   "name": "python",
   "nbconvert_exporter": "python",
   "pygments_lexer": "ipython3",
   "version": "3.9.5"
  },
  "papermill": {
   "default_parameters": {},
   "duration": 9.92558,
   "end_time": "2021-11-21T17:30:14.956675",
   "environment_variables": {},
   "exception": null,
   "input_path": "eBay_Overview.ipynb",
   "output_path": "eBay_Overview.ipynb",
   "parameters": {},
   "start_time": "2021-11-21T17:30:05.031095",
   "version": "2.3.3"
  }
 },
 "nbformat": 4,
 "nbformat_minor": 5
}