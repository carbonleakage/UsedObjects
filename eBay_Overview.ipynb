{
 "cells": [
  {
   "cell_type": "code",
   "execution_count": 1,
   "id": "reverse-picking",
   "metadata": {
    "execution": {
     "iopub.execute_input": "2021-10-27T21:00:07.269006Z",
     "iopub.status.busy": "2021-10-27T21:00:07.266989Z",
     "iopub.status.idle": "2021-10-27T21:00:08.067659Z",
     "shell.execute_reply": "2021-10-27T21:00:08.069168Z"
    },
    "papermill": {
     "duration": 0.852403,
     "end_time": "2021-10-27T21:00:08.069838",
     "exception": false,
     "start_time": "2021-10-27T21:00:07.217435",
     "status": "completed"
    },
    "tags": []
   },
   "outputs": [],
   "source": [
    "import pandas as pd\n",
    "import sqlite3"
   ]
  },
  {
   "cell_type": "code",
   "execution_count": 2,
   "id": "innovative-syndrome",
   "metadata": {
    "execution": {
     "iopub.execute_input": "2021-10-27T21:00:08.120538Z",
     "iopub.status.busy": "2021-10-27T21:00:08.118239Z",
     "iopub.status.idle": "2021-10-27T21:00:08.774532Z",
     "shell.execute_reply": "2021-10-27T21:00:08.775743Z"
    },
    "papermill": {
     "duration": 0.686265,
     "end_time": "2021-10-27T21:00:08.776139",
     "exception": false,
     "start_time": "2021-10-27T21:00:08.089874",
     "status": "completed"
    },
    "tags": []
   },
   "outputs": [],
   "source": [
    "timestamps = pd.read_sql(\"select distinct record_time from EBAY_TOP_BERLIN order by record_time desc limit 2\", sqlite3.connect(\"UsedObjects.db\"))"
   ]
  },
  {
   "cell_type": "code",
   "execution_count": 3,
   "id": "periodic-identification",
   "metadata": {
    "execution": {
     "iopub.execute_input": "2021-10-27T21:00:08.848357Z",
     "iopub.status.busy": "2021-10-27T21:00:08.846137Z",
     "iopub.status.idle": "2021-10-27T21:00:08.866794Z",
     "shell.execute_reply": "2021-10-27T21:00:08.868004Z"
    },
    "papermill": {
     "duration": 0.067115,
     "end_time": "2021-10-27T21:00:08.868404",
     "exception": false,
     "start_time": "2021-10-27T21:00:08.801289",
     "status": "completed"
    },
    "tags": []
   },
   "outputs": [
    {
     "data": {
      "text/html": [
       "<div>\n",
       "<style scoped>\n",
       "    .dataframe tbody tr th:only-of-type {\n",
       "        vertical-align: middle;\n",
       "    }\n",
       "\n",
       "    .dataframe tbody tr th {\n",
       "        vertical-align: top;\n",
       "    }\n",
       "\n",
       "    .dataframe thead th {\n",
       "        text-align: right;\n",
       "    }\n",
       "</style>\n",
       "<table border=\"1\" class=\"dataframe\">\n",
       "  <thead>\n",
       "    <tr style=\"text-align: right;\">\n",
       "      <th></th>\n",
       "      <th>RECORD_TIME</th>\n",
       "    </tr>\n",
       "  </thead>\n",
       "  <tbody>\n",
       "    <tr>\n",
       "      <th>0</th>\n",
       "      <td>2021-10-27 23:00</td>\n",
       "    </tr>\n",
       "    <tr>\n",
       "      <th>1</th>\n",
       "      <td>2021-10-27 22:30</td>\n",
       "    </tr>\n",
       "  </tbody>\n",
       "</table>\n",
       "</div>"
      ],
      "text/plain": [
       "        RECORD_TIME\n",
       "0  2021-10-27 23:00\n",
       "1  2021-10-27 22:30"
      ]
     },
     "execution_count": 3,
     "metadata": {},
     "output_type": "execute_result"
    }
   ],
   "source": [
    "timestamps"
   ]
  },
  {
   "cell_type": "code",
   "execution_count": 4,
   "id": "alternate-victory",
   "metadata": {
    "execution": {
     "iopub.execute_input": "2021-10-27T21:00:08.921941Z",
     "iopub.status.busy": "2021-10-27T21:00:08.919542Z",
     "iopub.status.idle": "2021-10-27T21:00:09.888396Z",
     "shell.execute_reply": "2021-10-27T21:00:09.889847Z"
    },
    "papermill": {
     "duration": 0.999412,
     "end_time": "2021-10-27T21:00:09.890301",
     "exception": false,
     "start_time": "2021-10-27T21:00:08.890889",
     "status": "completed"
    },
    "tags": []
   },
   "outputs": [],
   "source": [
    "df = pd.read_sql(\"select * from EBAY_TOP_BERLIN where record_time in (select distinct record_time from EBAY_TOP_BERLIN order by record_time desc limit 2)\", sqlite3.connect(\"UsedObjects.db\"))"
   ]
  },
  {
   "cell_type": "code",
   "execution_count": 5,
   "id": "popular-active",
   "metadata": {
    "execution": {
     "iopub.execute_input": "2021-10-27T21:00:09.962159Z",
     "iopub.status.busy": "2021-10-27T21:00:09.949676Z",
     "iopub.status.idle": "2021-10-27T21:00:09.979927Z",
     "shell.execute_reply": "2021-10-27T21:00:09.978443Z"
    },
    "papermill": {
     "duration": 0.068997,
     "end_time": "2021-10-27T21:00:09.980292",
     "exception": false,
     "start_time": "2021-10-27T21:00:09.911295",
     "status": "completed"
    },
    "tags": []
   },
   "outputs": [],
   "source": [
    "df_pivot = df.pivot_table(index=\"PRODUCT\", columns = \"RECORD_TIME\", values = \"LISTING_COUNT\")"
   ]
  },
  {
   "cell_type": "code",
   "execution_count": 6,
   "id": "union-huntington",
   "metadata": {
    "execution": {
     "iopub.execute_input": "2021-10-27T21:00:10.040175Z",
     "iopub.status.busy": "2021-10-27T21:00:10.037736Z",
     "iopub.status.idle": "2021-10-27T21:00:10.043464Z",
     "shell.execute_reply": "2021-10-27T21:00:10.044648Z"
    },
    "papermill": {
     "duration": 0.041654,
     "end_time": "2021-10-27T21:00:10.045131",
     "exception": false,
     "start_time": "2021-10-27T21:00:10.003477",
     "status": "completed"
    },
    "tags": []
   },
   "outputs": [],
   "source": [
    "df_pivot.columns = [\"stamp_1\", \"stamp_2\"]\n",
    "df_pivot_diff = df_pivot.diff(axis=1)"
   ]
  },
  {
   "cell_type": "code",
   "execution_count": 7,
   "id": "fifth-motion",
   "metadata": {
    "execution": {
     "iopub.execute_input": "2021-10-27T21:00:10.099859Z",
     "iopub.status.busy": "2021-10-27T21:00:10.097483Z",
     "iopub.status.idle": "2021-10-27T21:00:11.588892Z",
     "shell.execute_reply": "2021-10-27T21:00:11.590417Z"
    },
    "papermill": {
     "duration": 1.525237,
     "end_time": "2021-10-27T21:00:11.590882",
     "exception": false,
     "start_time": "2021-10-27T21:00:10.065645",
     "status": "completed"
    },
    "tags": []
   },
   "outputs": [
    {
     "data": {
      "text/plain": [
       "<AxesSubplot:ylabel='PRODUCT'>"
      ]
     },
     "execution_count": 7,
     "metadata": {},
     "output_type": "execute_result"
    },
    {
     "data": {
      "image/png": "[encoded data removed]",
      "text/plain": [
       "<Figure size 432x288 with 1 Axes>"
      ]
     },
     "metadata": {
      "needs_background": "light"
     },
     "output_type": "display_data"
    }
   ],
   "source": [
    "df_pivot_diff.sort_values(\"stamp_2\", ascending = False)[\"stamp_2\"].head(10).plot.barh()"
   ]
  },
  {
   "cell_type": "code",
   "execution_count": null,
   "id": "extra-executive",
   "metadata": {
    "papermill": {
     "duration": 0.022774,
     "end_time": "2021-10-27T21:00:11.638041",
     "exception": false,
     "start_time": "2021-10-27T21:00:11.615267",
     "status": "completed"
    },
    "tags": []
   },
   "outputs": [],
   "source": []
  }
 ],
 "metadata": {
  "kernelspec": {
   "display_name": "Python 3",
   "language": "python",
   "name": "python3"
  },
  "language_info": {
   "codemirror_mode": {
    "name": "ipython",
    "version": 3
   },
   "file_extension": ".py",
   "mimetype": "text/x-python",
   "name": "python",
   "nbconvert_exporter": "python",
   "pygments_lexer": "ipython3",
   "version": "3.9.5"
  },
  "papermill": {
   "default_parameters": {},
   "duration": 7.468783,
   "end_time": "2021-10-27T21:00:12.281383",
   "environment_variables": {},
   "exception": null,
   "input_path": "eBay_Overview.ipynb",
   "output_path": "eBay_Overview.ipynb",
   "parameters": {},
   "start_time": "2021-10-27T21:00:04.812600",
   "version": "2.3.3"
  }
 },
 "nbformat": 4,
 "nbformat_minor": 5
}