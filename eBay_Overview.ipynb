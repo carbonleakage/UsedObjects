{
 "cells": [
  {
   "cell_type": "code",
   "execution_count": 1,
   "id": "reverse-picking",
   "metadata": {
    "execution": {
     "iopub.execute_input": "2021-10-14T08:00:07.330916Z",
     "iopub.status.busy": "2021-10-14T08:00:07.328984Z",
     "iopub.status.idle": "2021-10-14T08:00:08.135408Z",
     "shell.execute_reply": "2021-10-14T08:00:08.136720Z"
    },
    "papermill": {
     "duration": 0.859058,
     "end_time": "2021-10-14T08:00:08.137357",
     "exception": false,
     "start_time": "2021-10-14T08:00:07.278299",
     "status": "completed"
    },
    "tags": []
   },
   "outputs": [],
   "source": [
    "import pandas as pd\n",
    "import sqlite3"
   ]
  },
  {
   "cell_type": "code",
   "execution_count": 2,
   "id": "innovative-syndrome",
   "metadata": {
    "execution": {
     "iopub.execute_input": "2021-10-14T08:00:08.189943Z",
     "iopub.status.busy": "2021-10-14T08:00:08.187773Z",
     "iopub.status.idle": "2021-10-14T08:00:08.724148Z",
     "shell.execute_reply": "2021-10-14T08:00:08.725338Z"
    },
    "papermill": {
     "duration": 0.565867,
     "end_time": "2021-10-14T08:00:08.725760",
     "exception": false,
     "start_time": "2021-10-14T08:00:08.159893",
     "status": "completed"
    },
    "tags": []
   },
   "outputs": [],
   "source": [
    "timestamps = pd.read_sql(\"select distinct record_time from EBAY_TOP_BERLIN order by record_time desc limit 2\", sqlite3.connect(\"UsedObjects.db\"))"
   ]
  },
  {
   "cell_type": "code",
   "execution_count": 3,
   "id": "periodic-identification",
   "metadata": {
    "execution": {
     "iopub.execute_input": "2021-10-14T08:00:08.803094Z",
     "iopub.status.busy": "2021-10-14T08:00:08.801067Z",
     "iopub.status.idle": "2021-10-14T08:00:08.823406Z",
     "shell.execute_reply": "2021-10-14T08:00:08.821754Z"
    },
    "papermill": {
     "duration": 0.076196,
     "end_time": "2021-10-14T08:00:08.823802",
     "exception": false,
     "start_time": "2021-10-14T08:00:08.747606",
     "status": "completed"
    },
    "tags": []
   },
   "outputs": [
    {
     "data": {
      "text/html": [
       "<div>\n",
       "<style scoped>\n",
       "    .dataframe tbody tr th:only-of-type {\n",
       "        vertical-align: middle;\n",
       "    }\n",
       "\n",
       "    .dataframe tbody tr th {\n",
       "        vertical-align: top;\n",
       "    }\n",
       "\n",
       "    .dataframe thead th {\n",
       "        text-align: right;\n",
       "    }\n",
       "</style>\n",
       "<table border=\"1\" class=\"dataframe\">\n",
       "  <thead>\n",
       "    <tr style=\"text-align: right;\">\n",
       "      <th></th>\n",
       "      <th>RECORD_TIME</th>\n",
       "    </tr>\n",
       "  </thead>\n",
       "  <tbody>\n",
       "    <tr>\n",
       "      <th>0</th>\n",
       "      <td>2021-10-14 10:00</td>\n",
       "    </tr>\n",
       "    <tr>\n",
       "      <th>1</th>\n",
       "      <td>2021-10-14 09:30</td>\n",
       "    </tr>\n",
       "  </tbody>\n",
       "</table>\n",
       "</div>"
      ],
      "text/plain": [
       "        RECORD_TIME\n",
       "0  2021-10-14 10:00\n",
       "1  2021-10-14 09:30"
      ]
     },
     "execution_count": 3,
     "metadata": {},
     "output_type": "execute_result"
    }
   ],
   "source": [
    "timestamps"
   ]
  },
  {
   "cell_type": "code",
   "execution_count": 4,
   "id": "alternate-victory",
   "metadata": {
    "execution": {
     "iopub.execute_input": "2021-10-14T08:00:08.875081Z",
     "iopub.status.busy": "2021-10-14T08:00:08.873246Z",
     "iopub.status.idle": "2021-10-14T08:00:09.645704Z",
     "shell.execute_reply": "2021-10-14T08:00:09.647141Z"
    },
    "papermill": {
     "duration": 0.802847,
     "end_time": "2021-10-14T08:00:09.647577",
     "exception": false,
     "start_time": "2021-10-14T08:00:08.844730",
     "status": "completed"
    },
    "tags": []
   },
   "outputs": [],
   "source": [
    "df = pd.read_sql(\"select * from EBAY_TOP_BERLIN where record_time in (select distinct record_time from EBAY_TOP_BERLIN order by record_time desc limit 2)\", sqlite3.connect(\"UsedObjects.db\"))"
   ]
  },
  {
   "cell_type": "code",
   "execution_count": 5,
   "id": "popular-active",
   "metadata": {
    "execution": {
     "iopub.execute_input": "2021-10-14T08:00:09.718858Z",
     "iopub.status.busy": "2021-10-14T08:00:09.706442Z",
     "iopub.status.idle": "2021-10-14T08:00:09.734909Z",
     "shell.execute_reply": "2021-10-14T08:00:09.736134Z"
    },
    "papermill": {
     "duration": 0.067926,
     "end_time": "2021-10-14T08:00:09.736528",
     "exception": false,
     "start_time": "2021-10-14T08:00:09.668602",
     "status": "completed"
    },
    "tags": []
   },
   "outputs": [],
   "source": [
    "df_pivot = df.pivot_table(index=\"PRODUCT\", columns = \"RECORD_TIME\", values = \"LISTING_COUNT\")"
   ]
  },
  {
   "cell_type": "code",
   "execution_count": 6,
   "id": "union-huntington",
   "metadata": {
    "execution": {
     "iopub.execute_input": "2021-10-14T08:00:09.796302Z",
     "iopub.status.busy": "2021-10-14T08:00:09.793848Z",
     "iopub.status.idle": "2021-10-14T08:00:09.801144Z",
     "shell.execute_reply": "2021-10-14T08:00:09.799669Z"
    },
    "papermill": {
     "duration": 0.042482,
     "end_time": "2021-10-14T08:00:09.801504",
     "exception": false,
     "start_time": "2021-10-14T08:00:09.759022",
     "status": "completed"
    },
    "tags": []
   },
   "outputs": [],
   "source": [
    "df_pivot.columns = [\"stamp_1\", \"stamp_2\"]\n",
    "df_pivot_diff = df_pivot.diff(axis=1)"
   ]
  },
  {
   "cell_type": "code",
   "execution_count": 7,
   "id": "fifth-motion",
   "metadata": {
    "execution": {
     "iopub.execute_input": "2021-10-14T08:00:09.856347Z",
     "iopub.status.busy": "2021-10-14T08:00:09.854061Z",
     "iopub.status.idle": "2021-10-14T08:00:11.363754Z",
     "shell.execute_reply": "2021-10-14T08:00:11.365374Z"
    },
    "papermill": {
     "duration": 1.543412,
     "end_time": "2021-10-14T08:00:11.365842",
     "exception": false,
     "start_time": "2021-10-14T08:00:09.822430",
     "status": "completed"
    },
    "tags": []
   },
   "outputs": [
    {
     "data": {
      "text/plain": [
       "<AxesSubplot:ylabel='PRODUCT'>"
      ]
     },
     "execution_count": 7,
     "metadata": {},
     "output_type": "execute_result"
    },
    {
     "data": {
      "image/png": "[encoded data removed]",
      "text/plain": [
       "<Figure size 432x288 with 1 Axes>"
      ]
     },
     "metadata": {
      "needs_background": "light"
     },
     "output_type": "display_data"
    }
   ],
   "source": [
    "df_pivot_diff.sort_values(\"stamp_2\", ascending = False)[\"stamp_2\"].head(10).plot.barh()"
   ]
  },
  {
   "cell_type": "code",
   "execution_count": null,
   "id": "extra-executive",
   "metadata": {
    "papermill": {
     "duration": 0.022389,
     "end_time": "2021-10-14T08:00:11.412648",
     "exception": false,
     "start_time": "2021-10-14T08:00:11.390259",
     "status": "completed"
    },
    "tags": []
   },
   "outputs": [],
   "source": []
  }
 ],
 "metadata": {
  "kernelspec": {
   "display_name": "Python 3",
   "language": "python",
   "name": "python3"
  },
  "language_info": {
   "codemirror_mode": {
    "name": "ipython",
    "version": 3
   },
   "file_extension": ".py",
   "mimetype": "text/x-python",
   "name": "python",
   "nbconvert_exporter": "python",
   "pygments_lexer": "ipython3",
   "version": "3.9.5"
  },
  "papermill": {
   "default_parameters": {},
   "duration": 7.817534,
   "end_time": "2021-10-14T08:00:12.692853",
   "environment_variables": {},
   "exception": null,
   "input_path": "eBay_Overview.ipynb",
   "output_path": "eBay_Overview.ipynb",
   "parameters": {},
   "start_time": "2021-10-14T08:00:04.875319",
   "version": "2.3.3"
  }
 },
 "nbformat": 4,
 "nbformat_minor": 5
}