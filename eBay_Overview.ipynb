{
 "cells": [
  {
   "cell_type": "code",
   "execution_count": 1,
   "id": "reverse-picking",
   "metadata": {
    "execution": {
     "iopub.execute_input": "2021-09-29T05:00:07.456656Z",
     "iopub.status.busy": "2021-09-29T05:00:07.453807Z",
     "iopub.status.idle": "2021-09-29T05:00:08.259306Z",
     "shell.execute_reply": "2021-09-29T05:00:08.260580Z"
    },
    "papermill": {
     "duration": 0.854923,
     "end_time": "2021-09-29T05:00:08.261188",
     "exception": false,
     "start_time": "2021-09-29T05:00:07.406265",
     "status": "completed"
    },
    "tags": []
   },
   "outputs": [],
   "source": [
    "import pandas as pd\n",
    "import sqlite3"
   ]
  },
  {
   "cell_type": "code",
   "execution_count": 2,
   "id": "innovative-syndrome",
   "metadata": {
    "execution": {
     "iopub.execute_input": "2021-09-29T05:00:08.314992Z",
     "iopub.status.busy": "2021-09-29T05:00:08.312653Z",
     "iopub.status.idle": "2021-09-29T05:00:08.723183Z",
     "shell.execute_reply": "2021-09-29T05:00:08.724453Z"
    },
    "papermill": {
     "duration": 0.440609,
     "end_time": "2021-09-29T05:00:08.724865",
     "exception": false,
     "start_time": "2021-09-29T05:00:08.284256",
     "status": "completed"
    },
    "tags": []
   },
   "outputs": [],
   "source": [
    "timestamps = pd.read_sql(\"select distinct record_time from EBAY_TOP_BERLIN order by record_time desc limit 2\", sqlite3.connect(\"UsedObjects.db\"))"
   ]
  },
  {
   "cell_type": "code",
   "execution_count": 3,
   "id": "periodic-identification",
   "metadata": {
    "execution": {
     "iopub.execute_input": "2021-09-29T05:00:08.790279Z",
     "iopub.status.busy": "2021-09-29T05:00:08.788259Z",
     "iopub.status.idle": "2021-09-29T05:00:08.808260Z",
     "shell.execute_reply": "2021-09-29T05:00:08.809440Z"
    },
    "papermill": {
     "duration": 0.0648,
     "end_time": "2021-09-29T05:00:08.809864",
     "exception": false,
     "start_time": "2021-09-29T05:00:08.745064",
     "status": "completed"
    },
    "tags": []
   },
   "outputs": [
    {
     "data": {
      "text/html": [
       "<div>\n",
       "<style scoped>\n",
       "    .dataframe tbody tr th:only-of-type {\n",
       "        vertical-align: middle;\n",
       "    }\n",
       "\n",
       "    .dataframe tbody tr th {\n",
       "        vertical-align: top;\n",
       "    }\n",
       "\n",
       "    .dataframe thead th {\n",
       "        text-align: right;\n",
       "    }\n",
       "</style>\n",
       "<table border=\"1\" class=\"dataframe\">\n",
       "  <thead>\n",
       "    <tr style=\"text-align: right;\">\n",
       "      <th></th>\n",
       "      <th>RECORD_TIME</th>\n",
       "    </tr>\n",
       "  </thead>\n",
       "  <tbody>\n",
       "    <tr>\n",
       "      <th>0</th>\n",
       "      <td>2021-09-29 07:00</td>\n",
       "    </tr>\n",
       "    <tr>\n",
       "      <th>1</th>\n",
       "      <td>2021-09-29 06:30</td>\n",
       "    </tr>\n",
       "  </tbody>\n",
       "</table>\n",
       "</div>"
      ],
      "text/plain": [
       "        RECORD_TIME\n",
       "0  2021-09-29 07:00\n",
       "1  2021-09-29 06:30"
      ]
     },
     "execution_count": 3,
     "metadata": {},
     "output_type": "execute_result"
    }
   ],
   "source": [
    "timestamps"
   ]
  },
  {
   "cell_type": "code",
   "execution_count": 4,
   "id": "alternate-victory",
   "metadata": {
    "execution": {
     "iopub.execute_input": "2021-09-29T05:00:08.863521Z",
     "iopub.status.busy": "2021-09-29T05:00:08.861616Z",
     "iopub.status.idle": "2021-09-29T05:00:09.450049Z",
     "shell.execute_reply": "2021-09-29T05:00:09.451333Z"
    },
    "papermill": {
     "duration": 0.618185,
     "end_time": "2021-09-29T05:00:09.451756",
     "exception": false,
     "start_time": "2021-09-29T05:00:08.833571",
     "status": "completed"
    },
    "tags": []
   },
   "outputs": [],
   "source": [
    "df = pd.read_sql(\"select * from EBAY_TOP_BERLIN where record_time in (select distinct record_time from EBAY_TOP_BERLIN order by record_time desc limit 2)\", sqlite3.connect(\"UsedObjects.db\"))"
   ]
  },
  {
   "cell_type": "code",
   "execution_count": 5,
   "id": "popular-active",
   "metadata": {
    "execution": {
     "iopub.execute_input": "2021-09-29T05:00:09.532519Z",
     "iopub.status.busy": "2021-09-29T05:00:09.520792Z",
     "iopub.status.idle": "2021-09-29T05:00:09.549282Z",
     "shell.execute_reply": "2021-09-29T05:00:09.550562Z"
    },
    "papermill": {
     "duration": 0.071613,
     "end_time": "2021-09-29T05:00:09.551047",
     "exception": false,
     "start_time": "2021-09-29T05:00:09.479434",
     "status": "completed"
    },
    "tags": []
   },
   "outputs": [],
   "source": [
    "df_pivot = df.pivot_table(index=\"PRODUCT\", columns = \"RECORD_TIME\", values = \"LISTING_COUNT\")"
   ]
  },
  {
   "cell_type": "code",
   "execution_count": 6,
   "id": "union-huntington",
   "metadata": {
    "execution": {
     "iopub.execute_input": "2021-09-29T05:00:09.606305Z",
     "iopub.status.busy": "2021-09-29T05:00:09.604279Z",
     "iopub.status.idle": "2021-09-29T05:00:09.609574Z",
     "shell.execute_reply": "2021-09-29T05:00:09.610901Z"
    },
    "papermill": {
     "duration": 0.040127,
     "end_time": "2021-09-29T05:00:09.611321",
     "exception": false,
     "start_time": "2021-09-29T05:00:09.571194",
     "status": "completed"
    },
    "tags": []
   },
   "outputs": [],
   "source": [
    "df_pivot.columns = [\"stamp_1\", \"stamp_2\"]\n",
    "df_pivot_diff = df_pivot.diff(axis=1)"
   ]
  },
  {
   "cell_type": "code",
   "execution_count": 7,
   "id": "fifth-motion",
   "metadata": {
    "execution": {
     "iopub.execute_input": "2021-09-29T05:00:09.665894Z",
     "iopub.status.busy": "2021-09-29T05:00:09.663501Z",
     "iopub.status.idle": "2021-09-29T05:00:11.147372Z",
     "shell.execute_reply": "2021-09-29T05:00:11.148751Z"
    },
    "papermill": {
     "duration": 1.516488,
     "end_time": "2021-09-29T05:00:11.149199",
     "exception": false,
     "start_time": "2021-09-29T05:00:09.632711",
     "status": "completed"
    },
    "tags": []
   },
   "outputs": [
    {
     "data": {
      "text/plain": [
       "<AxesSubplot:ylabel='PRODUCT'>"
      ]
     },
     "execution_count": 7,
     "metadata": {},
     "output_type": "execute_result"
    },
    {
     "data": {
      "image/png": "[encoded data removed]",
      "text/plain": [
       "<Figure size 432x288 with 1 Axes>"
      ]
     },
     "metadata": {
      "needs_background": "light"
     },
     "output_type": "display_data"
    }
   ],
   "source": [
    "df_pivot_diff.sort_values(\"stamp_2\", ascending = False)[\"stamp_2\"].head(10).plot.barh()"
   ]
  },
  {
   "cell_type": "code",
   "execution_count": null,
   "id": "extra-executive",
   "metadata": {
    "papermill": {
     "duration": 0.022177,
     "end_time": "2021-09-29T05:00:11.196344",
     "exception": false,
     "start_time": "2021-09-29T05:00:11.174167",
     "status": "completed"
    },
    "tags": []
   },
   "outputs": [],
   "source": []
  }
 ],
 "metadata": {
  "kernelspec": {
   "display_name": "Python 3",
   "language": "python",
   "name": "python3"
  },
  "language_info": {
   "codemirror_mode": {
    "name": "ipython",
    "version": 3
   },
   "file_extension": ".py",
   "mimetype": "text/x-python",
   "name": "python",
   "nbconvert_exporter": "python",
   "pygments_lexer": "ipython3",
   "version": "3.9.5"
  },
  "papermill": {
   "default_parameters": {},
   "duration": 7.834413,
   "end_time": "2021-09-29T05:00:12.832027",
   "environment_variables": {},
   "exception": null,
   "input_path": "eBay_Overview.ipynb",
   "output_path": "eBay_Overview.ipynb",
   "parameters": {},
   "start_time": "2021-09-29T05:00:04.997614",
   "version": "2.3.3"
  }
 },
 "nbformat": 4,
 "nbformat_minor": 5
}