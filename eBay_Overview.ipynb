{
 "cells": [
  {
   "cell_type": "code",
   "execution_count": 1,
   "id": "reverse-picking",
   "metadata": {
    "execution": {
     "iopub.execute_input": "2021-12-09T19:00:08.079956Z",
     "iopub.status.busy": "2021-12-09T19:00:08.077658Z",
     "iopub.status.idle": "2021-12-09T19:00:09.044073Z",
     "shell.execute_reply": "2021-12-09T19:00:09.041652Z"
    },
    "papermill": {
     "duration": 1.013682,
     "end_time": "2021-12-09T19:00:09.044596",
     "exception": false,
     "start_time": "2021-12-09T19:00:08.030914",
     "status": "completed"
    },
    "tags": []
   },
   "outputs": [],
   "source": [
    "import pandas as pd\n",
    "import sqlite3"
   ]
  },
  {
   "cell_type": "code",
   "execution_count": 2,
   "id": "innovative-syndrome",
   "metadata": {
    "execution": {
     "iopub.execute_input": "2021-12-09T19:00:09.130873Z",
     "iopub.status.busy": "2021-12-09T19:00:09.128645Z",
     "iopub.status.idle": "2021-12-09T19:00:10.156541Z",
     "shell.execute_reply": "2021-12-09T19:00:10.158056Z"
    },
    "papermill": {
     "duration": 1.089883,
     "end_time": "2021-12-09T19:00:10.158522",
     "exception": false,
     "start_time": "2021-12-09T19:00:09.068639",
     "status": "completed"
    },
    "tags": []
   },
   "outputs": [],
   "source": [
    "timestamps = pd.read_sql(\"select distinct record_time from EBAY_TOP_BERLIN order by record_time desc limit 2\", sqlite3.connect(\"UsedObjects.db\"))"
   ]
  },
  {
   "cell_type": "code",
   "execution_count": 3,
   "id": "periodic-identification",
   "metadata": {
    "execution": {
     "iopub.execute_input": "2021-12-09T19:00:10.243021Z",
     "iopub.status.busy": "2021-12-09T19:00:10.239115Z",
     "iopub.status.idle": "2021-12-09T19:00:10.280309Z",
     "shell.execute_reply": "2021-12-09T19:00:10.282792Z"
    },
    "papermill": {
     "duration": 0.10403,
     "end_time": "2021-12-09T19:00:10.283498",
     "exception": false,
     "start_time": "2021-12-09T19:00:10.179468",
     "status": "completed"
    },
    "tags": []
   },
   "outputs": [
    {
     "data": {
      "text/html": [
       "<div>\n",
       "<style scoped>\n",
       "    .dataframe tbody tr th:only-of-type {\n",
       "        vertical-align: middle;\n",
       "    }\n",
       "\n",
       "    .dataframe tbody tr th {\n",
       "        vertical-align: top;\n",
       "    }\n",
       "\n",
       "    .dataframe thead th {\n",
       "        text-align: right;\n",
       "    }\n",
       "</style>\n",
       "<table border=\"1\" class=\"dataframe\">\n",
       "  <thead>\n",
       "    <tr style=\"text-align: right;\">\n",
       "      <th></th>\n",
       "      <th>RECORD_TIME</th>\n",
       "    </tr>\n",
       "  </thead>\n",
       "  <tbody>\n",
       "    <tr>\n",
       "      <th>0</th>\n",
       "      <td>2021-12-09 20:00</td>\n",
       "    </tr>\n",
       "    <tr>\n",
       "      <th>1</th>\n",
       "      <td>2021-12-09 19:30</td>\n",
       "    </tr>\n",
       "  </tbody>\n",
       "</table>\n",
       "</div>"
      ],
      "text/plain": [
       "        RECORD_TIME\n",
       "0  2021-12-09 20:00\n",
       "1  2021-12-09 19:30"
      ]
     },
     "execution_count": 3,
     "metadata": {},
     "output_type": "execute_result"
    }
   ],
   "source": [
    "timestamps"
   ]
  },
  {
   "cell_type": "code",
   "execution_count": 4,
   "id": "alternate-victory",
   "metadata": {
    "execution": {
     "iopub.execute_input": "2021-12-09T19:00:10.347973Z",
     "iopub.status.busy": "2021-12-09T19:00:10.345630Z",
     "iopub.status.idle": "2021-12-09T19:00:11.879915Z",
     "shell.execute_reply": "2021-12-09T19:00:11.882577Z"
    },
    "papermill": {
     "duration": 1.571167,
     "end_time": "2021-12-09T19:00:11.883432",
     "exception": false,
     "start_time": "2021-12-09T19:00:10.312265",
     "status": "completed"
    },
    "tags": []
   },
   "outputs": [],
   "source": [
    "df = pd.read_sql(\"select * from EBAY_TOP_BERLIN where record_time in (select distinct record_time from EBAY_TOP_BERLIN order by record_time desc limit 2)\", sqlite3.connect(\"UsedObjects.db\"))"
   ]
  },
  {
   "cell_type": "code",
   "execution_count": 5,
   "id": "popular-active",
   "metadata": {
    "execution": {
     "iopub.execute_input": "2021-12-09T19:00:12.012593Z",
     "iopub.status.busy": "2021-12-09T19:00:11.981963Z",
     "iopub.status.idle": "2021-12-09T19:00:12.044083Z",
     "shell.execute_reply": "2021-12-09T19:00:12.046666Z"
    },
    "papermill": {
     "duration": 0.131823,
     "end_time": "2021-12-09T19:00:12.047270",
     "exception": false,
     "start_time": "2021-12-09T19:00:11.915447",
     "status": "completed"
    },
    "tags": []
   },
   "outputs": [],
   "source": [
    "df_pivot = df.pivot_table(index=\"PRODUCT\", columns = \"RECORD_TIME\", values = \"LISTING_COUNT\")"
   ]
  },
  {
   "cell_type": "code",
   "execution_count": 6,
   "id": "union-huntington",
   "metadata": {
    "execution": {
     "iopub.execute_input": "2021-12-09T19:00:12.133656Z",
     "iopub.status.busy": "2021-12-09T19:00:12.129645Z",
     "iopub.status.idle": "2021-12-09T19:00:12.142252Z",
     "shell.execute_reply": "2021-12-09T19:00:12.144946Z"
    },
    "papermill": {
     "duration": 0.072323,
     "end_time": "2021-12-09T19:00:12.145695",
     "exception": false,
     "start_time": "2021-12-09T19:00:12.073372",
     "status": "completed"
    },
    "tags": []
   },
   "outputs": [],
   "source": [
    "df_pivot.columns = [\"stamp_1\", \"stamp_2\"]\n",
    "df_pivot_diff = df_pivot.diff(axis=1)"
   ]
  },
  {
   "cell_type": "code",
   "execution_count": 7,
   "id": "fifth-motion",
   "metadata": {
    "execution": {
     "iopub.execute_input": "2021-12-09T19:00:12.231456Z",
     "iopub.status.busy": "2021-12-09T19:00:12.228233Z",
     "iopub.status.idle": "2021-12-09T19:00:13.942587Z",
     "shell.execute_reply": "2021-12-09T19:00:13.943860Z"
    },
    "papermill": {
     "duration": 1.767511,
     "end_time": "2021-12-09T19:00:13.944280",
     "exception": false,
     "start_time": "2021-12-09T19:00:12.176769",
     "status": "completed"
    },
    "tags": []
   },
   "outputs": [
    {
     "data": {
      "text/plain": [
       "<AxesSubplot:ylabel='PRODUCT'>"
      ]
     },
     "execution_count": 7,
     "metadata": {},
     "output_type": "execute_result"
    },
    {
     "data": {
      "image/png": "[encoded data removed]",
      "text/plain": [
       "<Figure size 432x288 with 1 Axes>"
      ]
     },
     "metadata": {
      "needs_background": "light"
     },
     "output_type": "display_data"
    }
   ],
   "source": [
    "df_pivot_diff.sort_values(\"stamp_2\", ascending = False)[\"stamp_2\"].head(10).plot.barh()"
   ]
  },
  {
   "cell_type": "code",
   "execution_count": null,
   "id": "extra-executive",
   "metadata": {
    "papermill": {
     "duration": 0.02229,
     "end_time": "2021-12-09T19:00:13.991264",
     "exception": false,
     "start_time": "2021-12-09T19:00:13.968974",
     "status": "completed"
    },
    "tags": []
   },
   "outputs": [],
   "source": []
  }
 ],
 "metadata": {
  "kernelspec": {
   "display_name": "Python 3",
   "language": "python",
   "name": "python3"
  },
  "language_info": {
   "codemirror_mode": {
    "name": "ipython",
    "version": 3
   },
   "file_extension": ".py",
   "mimetype": "text/x-python",
   "name": "python",
   "nbconvert_exporter": "python",
   "pygments_lexer": "ipython3",
   "version": "3.9.5"
  },
  "papermill": {
   "default_parameters": {},
   "duration": 9.946434,
   "end_time": "2021-12-09T19:00:15.222918",
   "environment_variables": {},
   "exception": null,
   "input_path": "eBay_Overview.ipynb",
   "output_path": "eBay_Overview.ipynb",
   "parameters": {},
   "start_time": "2021-12-09T19:00:05.276484",
   "version": "2.3.3"
  }
 },
 "nbformat": 4,
 "nbformat_minor": 5
}