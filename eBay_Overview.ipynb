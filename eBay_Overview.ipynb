{
 "cells": [
  {
   "cell_type": "code",
   "execution_count": 1,
   "id": "reverse-picking",
   "metadata": {
    "execution": {
     "iopub.execute_input": "2021-12-06T16:30:08.123958Z",
     "iopub.status.busy": "2021-12-06T16:30:08.121486Z",
     "iopub.status.idle": "2021-12-06T16:30:09.072551Z",
     "shell.execute_reply": "2021-12-06T16:30:09.074177Z"
    },
    "papermill": {
     "duration": 1.001907,
     "end_time": "2021-12-06T16:30:09.074920",
     "exception": false,
     "start_time": "2021-12-06T16:30:08.073013",
     "status": "completed"
    },
    "tags": []
   },
   "outputs": [],
   "source": [
    "import pandas as pd\n",
    "import sqlite3"
   ]
  },
  {
   "cell_type": "code",
   "execution_count": 2,
   "id": "innovative-syndrome",
   "metadata": {
    "execution": {
     "iopub.execute_input": "2021-12-06T16:30:09.191687Z",
     "iopub.status.busy": "2021-12-06T16:30:09.189301Z",
     "iopub.status.idle": "2021-12-06T16:30:10.196412Z",
     "shell.execute_reply": "2021-12-06T16:30:10.197919Z"
    },
    "papermill": {
     "duration": 1.041004,
     "end_time": "2021-12-06T16:30:10.198370",
     "exception": false,
     "start_time": "2021-12-06T16:30:09.157366",
     "status": "completed"
    },
    "tags": []
   },
   "outputs": [],
   "source": [
    "timestamps = pd.read_sql(\"select distinct record_time from EBAY_TOP_BERLIN order by record_time desc limit 2\", sqlite3.connect(\"UsedObjects.db\"))"
   ]
  },
  {
   "cell_type": "code",
   "execution_count": 3,
   "id": "periodic-identification",
   "metadata": {
    "execution": {
     "iopub.execute_input": "2021-12-06T16:30:10.268497Z",
     "iopub.status.busy": "2021-12-06T16:30:10.266065Z",
     "iopub.status.idle": "2021-12-06T16:30:10.289680Z",
     "shell.execute_reply": "2021-12-06T16:30:10.291320Z"
    },
    "papermill": {
     "duration": 0.072737,
     "end_time": "2021-12-06T16:30:10.291803",
     "exception": false,
     "start_time": "2021-12-06T16:30:10.219066",
     "status": "completed"
    },
    "tags": []
   },
   "outputs": [
    {
     "data": {
      "text/html": [
       "<div>\n",
       "<style scoped>\n",
       "    .dataframe tbody tr th:only-of-type {\n",
       "        vertical-align: middle;\n",
       "    }\n",
       "\n",
       "    .dataframe tbody tr th {\n",
       "        vertical-align: top;\n",
       "    }\n",
       "\n",
       "    .dataframe thead th {\n",
       "        text-align: right;\n",
       "    }\n",
       "</style>\n",
       "<table border=\"1\" class=\"dataframe\">\n",
       "  <thead>\n",
       "    <tr style=\"text-align: right;\">\n",
       "      <th></th>\n",
       "      <th>RECORD_TIME</th>\n",
       "    </tr>\n",
       "  </thead>\n",
       "  <tbody>\n",
       "    <tr>\n",
       "      <th>0</th>\n",
       "      <td>2021-12-06 17:30</td>\n",
       "    </tr>\n",
       "    <tr>\n",
       "      <th>1</th>\n",
       "      <td>2021-12-06 17:00</td>\n",
       "    </tr>\n",
       "  </tbody>\n",
       "</table>\n",
       "</div>"
      ],
      "text/plain": [
       "        RECORD_TIME\n",
       "0  2021-12-06 17:30\n",
       "1  2021-12-06 17:00"
      ]
     },
     "execution_count": 3,
     "metadata": {},
     "output_type": "execute_result"
    }
   ],
   "source": [
    "timestamps"
   ]
  },
  {
   "cell_type": "code",
   "execution_count": 4,
   "id": "alternate-victory",
   "metadata": {
    "execution": {
     "iopub.execute_input": "2021-12-06T16:30:10.347153Z",
     "iopub.status.busy": "2021-12-06T16:30:10.344774Z",
     "iopub.status.idle": "2021-12-06T16:30:11.823936Z",
     "shell.execute_reply": "2021-12-06T16:30:11.825474Z"
    },
    "papermill": {
     "duration": 1.512494,
     "end_time": "2021-12-06T16:30:11.825945",
     "exception": false,
     "start_time": "2021-12-06T16:30:10.313451",
     "status": "completed"
    },
    "tags": []
   },
   "outputs": [],
   "source": [
    "df = pd.read_sql(\"select * from EBAY_TOP_BERLIN where record_time in (select distinct record_time from EBAY_TOP_BERLIN order by record_time desc limit 2)\", sqlite3.connect(\"UsedObjects.db\"))"
   ]
  },
  {
   "cell_type": "code",
   "execution_count": 5,
   "id": "popular-active",
   "metadata": {
    "execution": {
     "iopub.execute_input": "2021-12-06T16:30:11.891097Z",
     "iopub.status.busy": "2021-12-06T16:30:11.888823Z",
     "iopub.status.idle": "2021-12-06T16:30:11.918346Z",
     "shell.execute_reply": "2021-12-06T16:30:11.919708Z"
    },
    "papermill": {
     "duration": 0.073007,
     "end_time": "2021-12-06T16:30:11.920177",
     "exception": false,
     "start_time": "2021-12-06T16:30:11.847170",
     "status": "completed"
    },
    "tags": []
   },
   "outputs": [],
   "source": [
    "df_pivot = df.pivot_table(index=\"PRODUCT\", columns = \"RECORD_TIME\", values = \"LISTING_COUNT\")"
   ]
  },
  {
   "cell_type": "code",
   "execution_count": 6,
   "id": "union-huntington",
   "metadata": {
    "execution": {
     "iopub.execute_input": "2021-12-06T16:30:11.983006Z",
     "iopub.status.busy": "2021-12-06T16:30:11.980770Z",
     "iopub.status.idle": "2021-12-06T16:30:11.986023Z",
     "shell.execute_reply": "2021-12-06T16:30:11.987391Z"
    },
    "papermill": {
     "duration": 0.046439,
     "end_time": "2021-12-06T16:30:11.987869",
     "exception": false,
     "start_time": "2021-12-06T16:30:11.941430",
     "status": "completed"
    },
    "tags": []
   },
   "outputs": [],
   "source": [
    "df_pivot.columns = [\"stamp_1\", \"stamp_2\"]\n",
    "df_pivot_diff = df_pivot.diff(axis=1)"
   ]
  },
  {
   "cell_type": "code",
   "execution_count": 7,
   "id": "fifth-motion",
   "metadata": {
    "execution": {
     "iopub.execute_input": "2021-12-06T16:30:12.045719Z",
     "iopub.status.busy": "2021-12-06T16:30:12.043148Z",
     "iopub.status.idle": "2021-12-06T16:30:14.055740Z",
     "shell.execute_reply": "2021-12-06T16:30:14.057261Z"
    },
    "papermill": {
     "duration": 2.048758,
     "end_time": "2021-12-06T16:30:14.057724",
     "exception": false,
     "start_time": "2021-12-06T16:30:12.008966",
     "status": "completed"
    },
    "tags": []
   },
   "outputs": [
    {
     "data": {
      "text/plain": [
       "<AxesSubplot:ylabel='PRODUCT'>"
      ]
     },
     "execution_count": 7,
     "metadata": {},
     "output_type": "execute_result"
    },
    {
     "data": {
      "image/png": "[encoded data removed]",
      "text/plain": [
       "<Figure size 432x288 with 1 Axes>"
      ]
     },
     "metadata": {
      "needs_background": "light"
     },
     "output_type": "display_data"
    }
   ],
   "source": [
    "df_pivot_diff.sort_values(\"stamp_2\", ascending = False)[\"stamp_2\"].head(10).plot.barh()"
   ]
  },
  {
   "cell_type": "code",
   "execution_count": null,
   "id": "extra-executive",
   "metadata": {
    "papermill": {
     "duration": 0.065168,
     "end_time": "2021-12-06T16:30:14.147182",
     "exception": false,
     "start_time": "2021-12-06T16:30:14.082014",
     "status": "completed"
    },
    "tags": []
   },
   "outputs": [],
   "source": []
  }
 ],
 "metadata": {
  "kernelspec": {
   "display_name": "Python 3",
   "language": "python",
   "name": "python3"
  },
  "language_info": {
   "codemirror_mode": {
    "name": "ipython",
    "version": 3
   },
   "file_extension": ".py",
   "mimetype": "text/x-python",
   "name": "python",
   "nbconvert_exporter": "python",
   "pygments_lexer": "ipython3",
   "version": "3.9.5"
  },
  "papermill": {
   "default_parameters": {},
   "duration": 9.467228,
   "end_time": "2021-12-06T16:30:14.795225",
   "environment_variables": {},
   "exception": null,
   "input_path": "eBay_Overview.ipynb",
   "output_path": "eBay_Overview.ipynb",
   "parameters": {},
   "start_time": "2021-12-06T16:30:05.327997",
   "version": "2.3.3"
  }
 },
 "nbformat": 4,
 "nbformat_minor": 5
}