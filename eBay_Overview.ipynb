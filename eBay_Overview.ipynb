{
 "cells": [
  {
   "cell_type": "code",
   "execution_count": 1,
   "id": "reverse-picking",
   "metadata": {
    "execution": {
     "iopub.execute_input": "2021-10-03T15:30:06.658842Z",
     "iopub.status.busy": "2021-10-03T15:30:06.656875Z",
     "iopub.status.idle": "2021-10-03T15:30:07.461862Z",
     "shell.execute_reply": "2021-10-03T15:30:07.463169Z"
    },
    "papermill": {
     "duration": 0.85523,
     "end_time": "2021-10-03T15:30:07.463813",
     "exception": false,
     "start_time": "2021-10-03T15:30:06.608583",
     "status": "completed"
    },
    "tags": []
   },
   "outputs": [],
   "source": [
    "import pandas as pd\n",
    "import sqlite3"
   ]
  },
  {
   "cell_type": "code",
   "execution_count": 2,
   "id": "innovative-syndrome",
   "metadata": {
    "execution": {
     "iopub.execute_input": "2021-10-03T15:30:07.515122Z",
     "iopub.status.busy": "2021-10-03T15:30:07.513060Z",
     "iopub.status.idle": "2021-10-03T15:30:07.965087Z",
     "shell.execute_reply": "2021-10-03T15:30:07.966268Z"
    },
    "papermill": {
     "duration": 0.48072,
     "end_time": "2021-10-03T15:30:07.966657",
     "exception": false,
     "start_time": "2021-10-03T15:30:07.485937",
     "status": "completed"
    },
    "tags": []
   },
   "outputs": [],
   "source": [
    "timestamps = pd.read_sql(\"select distinct record_time from EBAY_TOP_BERLIN order by record_time desc limit 2\", sqlite3.connect(\"UsedObjects.db\"))"
   ]
  },
  {
   "cell_type": "code",
   "execution_count": 3,
   "id": "periodic-identification",
   "metadata": {
    "execution": {
     "iopub.execute_input": "2021-10-03T15:30:08.030506Z",
     "iopub.status.busy": "2021-10-03T15:30:08.028515Z",
     "iopub.status.idle": "2021-10-03T15:30:08.048295Z",
     "shell.execute_reply": "2021-10-03T15:30:08.049571Z"
    },
    "papermill": {
     "duration": 0.064109,
     "end_time": "2021-10-03T15:30:08.049986",
     "exception": false,
     "start_time": "2021-10-03T15:30:07.985877",
     "status": "completed"
    },
    "tags": []
   },
   "outputs": [
    {
     "data": {
      "text/html": [
       "<div>\n",
       "<style scoped>\n",
       "    .dataframe tbody tr th:only-of-type {\n",
       "        vertical-align: middle;\n",
       "    }\n",
       "\n",
       "    .dataframe tbody tr th {\n",
       "        vertical-align: top;\n",
       "    }\n",
       "\n",
       "    .dataframe thead th {\n",
       "        text-align: right;\n",
       "    }\n",
       "</style>\n",
       "<table border=\"1\" class=\"dataframe\">\n",
       "  <thead>\n",
       "    <tr style=\"text-align: right;\">\n",
       "      <th></th>\n",
       "      <th>RECORD_TIME</th>\n",
       "    </tr>\n",
       "  </thead>\n",
       "  <tbody>\n",
       "    <tr>\n",
       "      <th>0</th>\n",
       "      <td>2021-10-03 17:30</td>\n",
       "    </tr>\n",
       "    <tr>\n",
       "      <th>1</th>\n",
       "      <td>2021-10-03 17:00</td>\n",
       "    </tr>\n",
       "  </tbody>\n",
       "</table>\n",
       "</div>"
      ],
      "text/plain": [
       "        RECORD_TIME\n",
       "0  2021-10-03 17:30\n",
       "1  2021-10-03 17:00"
      ]
     },
     "execution_count": 3,
     "metadata": {},
     "output_type": "execute_result"
    }
   ],
   "source": [
    "timestamps"
   ]
  },
  {
   "cell_type": "code",
   "execution_count": 4,
   "id": "alternate-victory",
   "metadata": {
    "execution": {
     "iopub.execute_input": "2021-10-03T15:30:08.107424Z",
     "iopub.status.busy": "2021-10-03T15:30:08.105058Z",
     "iopub.status.idle": "2021-10-03T15:30:08.741400Z",
     "shell.execute_reply": "2021-10-03T15:30:08.742614Z"
    },
    "papermill": {
     "duration": 0.673008,
     "end_time": "2021-10-03T15:30:08.743068",
     "exception": false,
     "start_time": "2021-10-03T15:30:08.070060",
     "status": "completed"
    },
    "tags": []
   },
   "outputs": [],
   "source": [
    "df = pd.read_sql(\"select * from EBAY_TOP_BERLIN where record_time in (select distinct record_time from EBAY_TOP_BERLIN order by record_time desc limit 2)\", sqlite3.connect(\"UsedObjects.db\"))"
   ]
  },
  {
   "cell_type": "code",
   "execution_count": 5,
   "id": "popular-active",
   "metadata": {
    "execution": {
     "iopub.execute_input": "2021-10-03T15:30:08.813048Z",
     "iopub.status.busy": "2021-10-03T15:30:08.801258Z",
     "iopub.status.idle": "2021-10-03T15:30:08.829212Z",
     "shell.execute_reply": "2021-10-03T15:30:08.830479Z"
    },
    "papermill": {
     "duration": 0.067743,
     "end_time": "2021-10-03T15:30:08.830948",
     "exception": false,
     "start_time": "2021-10-03T15:30:08.763205",
     "status": "completed"
    },
    "tags": []
   },
   "outputs": [],
   "source": [
    "df_pivot = df.pivot_table(index=\"PRODUCT\", columns = \"RECORD_TIME\", values = \"LISTING_COUNT\")"
   ]
  },
  {
   "cell_type": "code",
   "execution_count": 6,
   "id": "union-huntington",
   "metadata": {
    "execution": {
     "iopub.execute_input": "2021-10-03T15:30:08.886779Z",
     "iopub.status.busy": "2021-10-03T15:30:08.884765Z",
     "iopub.status.idle": "2021-10-03T15:30:08.890085Z",
     "shell.execute_reply": "2021-10-03T15:30:08.891426Z"
    },
    "papermill": {
     "duration": 0.041108,
     "end_time": "2021-10-03T15:30:08.891849",
     "exception": false,
     "start_time": "2021-10-03T15:30:08.850741",
     "status": "completed"
    },
    "tags": []
   },
   "outputs": [],
   "source": [
    "df_pivot.columns = [\"stamp_1\", \"stamp_2\"]\n",
    "df_pivot_diff = df_pivot.diff(axis=1)"
   ]
  },
  {
   "cell_type": "code",
   "execution_count": 7,
   "id": "fifth-motion",
   "metadata": {
    "execution": {
     "iopub.execute_input": "2021-10-03T15:30:08.946076Z",
     "iopub.status.busy": "2021-10-03T15:30:08.943732Z",
     "iopub.status.idle": "2021-10-03T15:30:10.394007Z",
     "shell.execute_reply": "2021-10-03T15:30:10.395576Z"
    },
    "papermill": {
     "duration": 1.482958,
     "end_time": "2021-10-03T15:30:10.396058",
     "exception": false,
     "start_time": "2021-10-03T15:30:08.913100",
     "status": "completed"
    },
    "tags": []
   },
   "outputs": [
    {
     "data": {
      "text/plain": [
       "<AxesSubplot:ylabel='PRODUCT'>"
      ]
     },
     "execution_count": 7,
     "metadata": {},
     "output_type": "execute_result"
    },
    {
     "data": {
      "image/png": "[encoded data removed]",
      "text/plain": [
       "<Figure size 432x288 with 1 Axes>"
      ]
     },
     "metadata": {
      "needs_background": "light"
     },
     "output_type": "display_data"
    }
   ],
   "source": [
    "df_pivot_diff.sort_values(\"stamp_2\", ascending = False)[\"stamp_2\"].head(10).plot.barh()"
   ]
  },
  {
   "cell_type": "code",
   "execution_count": null,
   "id": "extra-executive",
   "metadata": {
    "papermill": {
     "duration": 0.021594,
     "end_time": "2021-10-03T15:30:10.441781",
     "exception": false,
     "start_time": "2021-10-03T15:30:10.420187",
     "status": "completed"
    },
    "tags": []
   },
   "outputs": [],
   "source": []
  }
 ],
 "metadata": {
  "kernelspec": {
   "display_name": "Python 3",
   "language": "python",
   "name": "python3"
  },
  "language_info": {
   "codemirror_mode": {
    "name": "ipython",
    "version": 3
   },
   "file_extension": ".py",
   "mimetype": "text/x-python",
   "name": "python",
   "nbconvert_exporter": "python",
   "pygments_lexer": "ipython3",
   "version": "3.9.5"
  },
  "papermill": {
   "default_parameters": {},
   "duration": 7.821837,
   "end_time": "2021-10-03T15:30:12.024322",
   "environment_variables": {},
   "exception": null,
   "input_path": "eBay_Overview.ipynb",
   "output_path": "eBay_Overview.ipynb",
   "parameters": {},
   "start_time": "2021-10-03T15:30:04.202485",
   "version": "2.3.3"
  }
 },
 "nbformat": 4,
 "nbformat_minor": 5
}