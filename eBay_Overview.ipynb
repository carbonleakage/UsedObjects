{
 "cells": [
  {
   "cell_type": "code",
   "execution_count": 1,
   "id": "reverse-picking",
   "metadata": {
    "execution": {
     "iopub.execute_input": "2021-08-12T06:00:03.985954Z",
     "iopub.status.busy": "2021-08-12T06:00:03.984891Z",
     "iopub.status.idle": "2021-08-12T06:00:04.576582Z",
     "shell.execute_reply": "2021-08-12T06:00:04.577807Z"
    },
    "papermill": {
     "duration": 0.614949,
     "end_time": "2021-08-12T06:00:04.578317",
     "exception": false,
     "start_time": "2021-08-12T06:00:03.963368",
     "status": "completed"
    },
    "tags": []
   },
   "outputs": [],
   "source": [
    "import pandas as pd\n",
    "import sqlite3"
   ]
  },
  {
   "cell_type": "code",
   "execution_count": 2,
   "id": "innovative-syndrome",
   "metadata": {
    "execution": {
     "iopub.execute_input": "2021-08-12T06:00:04.603173Z",
     "iopub.status.busy": "2021-08-12T06:00:04.602415Z",
     "iopub.status.idle": "2021-08-12T06:00:04.819123Z",
     "shell.execute_reply": "2021-08-12T06:00:04.817824Z"
    },
    "papermill": {
     "duration": 0.230851,
     "end_time": "2021-08-12T06:00:04.819400",
     "exception": false,
     "start_time": "2021-08-12T06:00:04.588549",
     "status": "completed"
    },
    "tags": []
   },
   "outputs": [],
   "source": [
    "timestamps = pd.read_sql(\"select distinct record_time from EBAY_TOP_BERLIN order by record_time desc limit 2\", sqlite3.connect(\"UsedObjects.db\"))"
   ]
  },
  {
   "cell_type": "code",
   "execution_count": 3,
   "id": "periodic-identification",
   "metadata": {
    "execution": {
     "iopub.execute_input": "2021-08-12T06:00:04.848289Z",
     "iopub.status.busy": "2021-08-12T06:00:04.847520Z",
     "iopub.status.idle": "2021-08-12T06:00:04.859048Z",
     "shell.execute_reply": "2021-08-12T06:00:04.859610Z"
    },
    "papermill": {
     "duration": 0.030469,
     "end_time": "2021-08-12T06:00:04.859802",
     "exception": false,
     "start_time": "2021-08-12T06:00:04.829333",
     "status": "completed"
    },
    "tags": []
   },
   "outputs": [
    {
     "data": {
      "text/html": [
       "<div>\n",
       "<style scoped>\n",
       "    .dataframe tbody tr th:only-of-type {\n",
       "        vertical-align: middle;\n",
       "    }\n",
       "\n",
       "    .dataframe tbody tr th {\n",
       "        vertical-align: top;\n",
       "    }\n",
       "\n",
       "    .dataframe thead th {\n",
       "        text-align: right;\n",
       "    }\n",
       "</style>\n",
       "<table border=\"1\" class=\"dataframe\">\n",
       "  <thead>\n",
       "    <tr style=\"text-align: right;\">\n",
       "      <th></th>\n",
       "      <th>RECORD_TIME</th>\n",
       "    </tr>\n",
       "  </thead>\n",
       "  <tbody>\n",
       "    <tr>\n",
       "      <th>0</th>\n",
       "      <td>2021-08-12 08:00</td>\n",
       "    </tr>\n",
       "    <tr>\n",
       "      <th>1</th>\n",
       "      <td>2021-08-12 07:30</td>\n",
       "    </tr>\n",
       "  </tbody>\n",
       "</table>\n",
       "</div>"
      ],
      "text/plain": [
       "        RECORD_TIME\n",
       "0  2021-08-12 08:00\n",
       "1  2021-08-12 07:30"
      ]
     },
     "execution_count": 3,
     "metadata": {},
     "output_type": "execute_result"
    }
   ],
   "source": [
    "timestamps"
   ]
  },
  {
   "cell_type": "code",
   "execution_count": 4,
   "id": "alternate-victory",
   "metadata": {
    "execution": {
     "iopub.execute_input": "2021-08-12T06:00:04.886807Z",
     "iopub.status.busy": "2021-08-12T06:00:04.886068Z",
     "iopub.status.idle": "2021-08-12T06:00:04.912232Z",
     "shell.execute_reply": "2021-08-12T06:00:04.911123Z"
    },
    "papermill": {
     "duration": 0.042919,
     "end_time": "2021-08-12T06:00:04.912431",
     "exception": false,
     "start_time": "2021-08-12T06:00:04.869512",
     "status": "completed"
    },
    "tags": []
   },
   "outputs": [],
   "source": [
    "df = pd.read_sql(\"select * from EBAY_TOP_BERLIN where record_time in (select distinct record_time from EBAY_TOP_BERLIN order by record_time desc limit 2)\", sqlite3.connect(\"UsedObjects.db\"))"
   ]
  },
  {
   "cell_type": "code",
   "execution_count": 5,
   "id": "popular-active",
   "metadata": {
    "execution": {
     "iopub.execute_input": "2021-08-12T06:00:04.950738Z",
     "iopub.status.busy": "2021-08-12T06:00:04.949973Z",
     "iopub.status.idle": "2021-08-12T06:00:04.969234Z",
     "shell.execute_reply": "2021-08-12T06:00:04.968163Z"
    },
    "papermill": {
     "duration": 0.045776,
     "end_time": "2021-08-12T06:00:04.969521",
     "exception": false,
     "start_time": "2021-08-12T06:00:04.923745",
     "status": "completed"
    },
    "tags": []
   },
   "outputs": [],
   "source": [
    "df_pivot = df.pivot_table(index=\"PRODUCT\", columns = \"RECORD_TIME\", values = \"LISTING_COUNT\")"
   ]
  },
  {
   "cell_type": "code",
   "execution_count": 6,
   "id": "union-huntington",
   "metadata": {
    "execution": {
     "iopub.execute_input": "2021-08-12T06:00:04.996838Z",
     "iopub.status.busy": "2021-08-12T06:00:04.996132Z",
     "iopub.status.idle": "2021-08-12T06:00:05.004067Z",
     "shell.execute_reply": "2021-08-12T06:00:05.005305Z"
    },
    "papermill": {
     "duration": 0.026021,
     "end_time": "2021-08-12T06:00:05.005673",
     "exception": false,
     "start_time": "2021-08-12T06:00:04.979652",
     "status": "completed"
    },
    "tags": []
   },
   "outputs": [],
   "source": [
    "df_pivot.columns = [\"stamp_1\", \"stamp_2\"]\n",
    "df_pivot_diff = df_pivot.diff(axis=1)"
   ]
  },
  {
   "cell_type": "code",
   "execution_count": 7,
   "id": "fifth-motion",
   "metadata": {
    "execution": {
     "iopub.execute_input": "2021-08-12T06:00:05.037777Z",
     "iopub.status.busy": "2021-08-12T06:00:05.037007Z",
     "iopub.status.idle": "2021-08-12T06:00:05.729791Z",
     "shell.execute_reply": "2021-08-12T06:00:05.730360Z"
    },
    "papermill": {
     "duration": 0.71185,
     "end_time": "2021-08-12T06:00:05.730556",
     "exception": false,
     "start_time": "2021-08-12T06:00:05.018706",
     "status": "completed"
    },
    "tags": []
   },
   "outputs": [
    {
     "data": {
      "text/plain": [
       "<AxesSubplot:ylabel='PRODUCT'>"
      ]
     },
     "execution_count": 7,
     "metadata": {},
     "output_type": "execute_result"
    },
    {
     "data": {
      "image/png": "[encoded data removed]",
      "text/plain": [
       "<Figure size 432x288 with 1 Axes>"
      ]
     },
     "metadata": {
      "needs_background": "light"
     },
     "output_type": "display_data"
    }
   ],
   "source": [
    "df_pivot_diff.sort_values(\"stamp_2\", ascending = False)[\"stamp_2\"].head(10).plot.barh()"
   ]
  },
  {
   "cell_type": "code",
   "execution_count": null,
   "id": "extra-executive",
   "metadata": {
    "papermill": {
     "duration": 0.012593,
     "end_time": "2021-08-12T06:00:05.756061",
     "exception": false,
     "start_time": "2021-08-12T06:00:05.743468",
     "status": "completed"
    },
    "tags": []
   },
   "outputs": [],
   "source": []
  }
 ],
 "metadata": {
  "kernelspec": {
   "display_name": "Python 3",
   "language": "python",
   "name": "python3"
  },
  "language_info": {
   "codemirror_mode": {
    "name": "ipython",
    "version": 3
   },
   "file_extension": ".py",
   "mimetype": "text/x-python",
   "name": "python",
   "nbconvert_exporter": "python",
   "pygments_lexer": "ipython3",
   "version": "3.8.8"
  },
  "papermill": {
   "default_parameters": {},
   "duration": 4.080465,
   "end_time": "2021-08-12T06:00:06.358559",
   "environment_variables": {},
   "exception": null,
   "input_path": "/Users/saravananshanmugam/Carbonleakage_Git/UsedObjects/eBay_Overview.ipynb",
   "output_path": "/Users/saravananshanmugam/Carbonleakage_Git/UsedObjects/eBay_Overview.ipynb",
   "parameters": {},
   "start_time": "2021-08-12T06:00:02.278094",
   "version": "2.3.3"
  }
 },
 "nbformat": 4,
 "nbformat_minor": 5
}