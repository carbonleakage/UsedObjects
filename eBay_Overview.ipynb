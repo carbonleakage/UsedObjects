{
 "cells": [
  {
   "cell_type": "code",
   "execution_count": 1,
   "id": "reverse-picking",
   "metadata": {
    "execution": {
     "iopub.execute_input": "2021-08-19T14:00:06.855864Z",
     "iopub.status.busy": "2021-08-19T14:00:06.853792Z",
     "iopub.status.idle": "2021-08-19T14:00:07.659097Z",
     "shell.execute_reply": "2021-08-19T14:00:07.660351Z"
    },
    "papermill": {
     "duration": 0.855332,
     "end_time": "2021-08-19T14:00:07.660973",
     "exception": false,
     "start_time": "2021-08-19T14:00:06.805641",
     "status": "completed"
    },
    "tags": []
   },
   "outputs": [],
   "source": [
    "import pandas as pd\n",
    "import sqlite3"
   ]
  },
  {
   "cell_type": "code",
   "execution_count": 2,
   "id": "innovative-syndrome",
   "metadata": {
    "execution": {
     "iopub.execute_input": "2021-08-19T14:00:07.712786Z",
     "iopub.status.busy": "2021-08-19T14:00:07.710626Z",
     "iopub.status.idle": "2021-08-19T14:00:07.796061Z",
     "shell.execute_reply": "2021-08-19T14:00:07.797411Z"
    },
    "papermill": {
     "duration": 0.114954,
     "end_time": "2021-08-19T14:00:07.797848",
     "exception": false,
     "start_time": "2021-08-19T14:00:07.682894",
     "status": "completed"
    },
    "tags": []
   },
   "outputs": [],
   "source": [
    "timestamps = pd.read_sql(\"select distinct record_time from EBAY_TOP_BERLIN order by record_time desc limit 2\", sqlite3.connect(\"UsedObjects.db\"))"
   ]
  },
  {
   "cell_type": "code",
   "execution_count": 3,
   "id": "periodic-identification",
   "metadata": {
    "execution": {
     "iopub.execute_input": "2021-08-19T14:00:07.864400Z",
     "iopub.status.busy": "2021-08-19T14:00:07.862388Z",
     "iopub.status.idle": "2021-08-19T14:00:07.882096Z",
     "shell.execute_reply": "2021-08-19T14:00:07.883399Z"
    },
    "papermill": {
     "duration": 0.066522,
     "end_time": "2021-08-19T14:00:07.883808",
     "exception": false,
     "start_time": "2021-08-19T14:00:07.817286",
     "status": "completed"
    },
    "tags": []
   },
   "outputs": [
    {
     "data": {
      "text/html": [
       "<div>\n",
       "<style scoped>\n",
       "    .dataframe tbody tr th:only-of-type {\n",
       "        vertical-align: middle;\n",
       "    }\n",
       "\n",
       "    .dataframe tbody tr th {\n",
       "        vertical-align: top;\n",
       "    }\n",
       "\n",
       "    .dataframe thead th {\n",
       "        text-align: right;\n",
       "    }\n",
       "</style>\n",
       "<table border=\"1\" class=\"dataframe\">\n",
       "  <thead>\n",
       "    <tr style=\"text-align: right;\">\n",
       "      <th></th>\n",
       "      <th>RECORD_TIME</th>\n",
       "    </tr>\n",
       "  </thead>\n",
       "  <tbody>\n",
       "    <tr>\n",
       "      <th>0</th>\n",
       "      <td>2021-08-19 16:00</td>\n",
       "    </tr>\n",
       "    <tr>\n",
       "      <th>1</th>\n",
       "      <td>2021-08-19 15:30</td>\n",
       "    </tr>\n",
       "  </tbody>\n",
       "</table>\n",
       "</div>"
      ],
      "text/plain": [
       "        RECORD_TIME\n",
       "0  2021-08-19 16:00\n",
       "1  2021-08-19 15:30"
      ]
     },
     "execution_count": 3,
     "metadata": {},
     "output_type": "execute_result"
    }
   ],
   "source": [
    "timestamps"
   ]
  },
  {
   "cell_type": "code",
   "execution_count": 4,
   "id": "alternate-victory",
   "metadata": {
    "execution": {
     "iopub.execute_input": "2021-08-19T14:00:07.934537Z",
     "iopub.status.busy": "2021-08-19T14:00:07.932560Z",
     "iopub.status.idle": "2021-08-19T14:00:08.056636Z",
     "shell.execute_reply": "2021-08-19T14:00:08.057914Z"
    },
    "papermill": {
     "duration": 0.153722,
     "end_time": "2021-08-19T14:00:08.058407",
     "exception": false,
     "start_time": "2021-08-19T14:00:07.904685",
     "status": "completed"
    },
    "tags": []
   },
   "outputs": [],
   "source": [
    "df = pd.read_sql(\"select * from EBAY_TOP_BERLIN where record_time in (select distinct record_time from EBAY_TOP_BERLIN order by record_time desc limit 2)\", sqlite3.connect(\"UsedObjects.db\"))"
   ]
  },
  {
   "cell_type": "code",
   "execution_count": 5,
   "id": "popular-active",
   "metadata": {
    "execution": {
     "iopub.execute_input": "2021-08-19T14:00:08.123160Z",
     "iopub.status.busy": "2021-08-19T14:00:08.115912Z",
     "iopub.status.idle": "2021-08-19T14:00:08.143759Z",
     "shell.execute_reply": "2021-08-19T14:00:08.144976Z"
    },
    "papermill": {
     "duration": 0.066722,
     "end_time": "2021-08-19T14:00:08.145369",
     "exception": false,
     "start_time": "2021-08-19T14:00:08.078647",
     "status": "completed"
    },
    "tags": []
   },
   "outputs": [],
   "source": [
    "df_pivot = df.pivot_table(index=\"PRODUCT\", columns = \"RECORD_TIME\", values = \"LISTING_COUNT\")"
   ]
  },
  {
   "cell_type": "code",
   "execution_count": 6,
   "id": "union-huntington",
   "metadata": {
    "execution": {
     "iopub.execute_input": "2021-08-19T14:00:08.204023Z",
     "iopub.status.busy": "2021-08-19T14:00:08.201494Z",
     "iopub.status.idle": "2021-08-19T14:00:08.207517Z",
     "shell.execute_reply": "2021-08-19T14:00:08.208982Z"
    },
    "papermill": {
     "duration": 0.042242,
     "end_time": "2021-08-19T14:00:08.209444",
     "exception": false,
     "start_time": "2021-08-19T14:00:08.167202",
     "status": "completed"
    },
    "tags": []
   },
   "outputs": [],
   "source": [
    "df_pivot.columns = [\"stamp_1\", \"stamp_2\"]\n",
    "df_pivot_diff = df_pivot.diff(axis=1)"
   ]
  },
  {
   "cell_type": "code",
   "execution_count": 7,
   "id": "fifth-motion",
   "metadata": {
    "execution": {
     "iopub.execute_input": "2021-08-19T14:00:08.263786Z",
     "iopub.status.busy": "2021-08-19T14:00:08.261298Z",
     "iopub.status.idle": "2021-08-19T14:00:09.759307Z",
     "shell.execute_reply": "2021-08-19T14:00:09.760496Z"
    },
    "papermill": {
     "duration": 1.530234,
     "end_time": "2021-08-19T14:00:09.760929",
     "exception": false,
     "start_time": "2021-08-19T14:00:08.230695",
     "status": "completed"
    },
    "tags": []
   },
   "outputs": [
    {
     "data": {
      "text/plain": [
       "<AxesSubplot:ylabel='PRODUCT'>"
      ]
     },
     "execution_count": 7,
     "metadata": {},
     "output_type": "execute_result"
    },
    {
     "data": {
      "image/png": "[encoded data removed]",
      "text/plain": [
       "<Figure size 432x288 with 1 Axes>"
      ]
     },
     "metadata": {
      "needs_background": "light"
     },
     "output_type": "display_data"
    }
   ],
   "source": [
    "df_pivot_diff.sort_values(\"stamp_2\", ascending = False)[\"stamp_2\"].head(10).plot.barh()"
   ]
  },
  {
   "cell_type": "code",
   "execution_count": null,
   "id": "extra-executive",
   "metadata": {
    "papermill": {
     "duration": 0.021965,
     "end_time": "2021-08-19T14:00:09.808312",
     "exception": false,
     "start_time": "2021-08-19T14:00:09.786347",
     "status": "completed"
    },
    "tags": []
   },
   "outputs": [],
   "source": []
  }
 ],
 "metadata": {
  "kernelspec": {
   "display_name": "Python 3",
   "language": "python",
   "name": "python3"
  },
  "language_info": {
   "codemirror_mode": {
    "name": "ipython",
    "version": 3
   },
   "file_extension": ".py",
   "mimetype": "text/x-python",
   "name": "python",
   "nbconvert_exporter": "python",
   "pygments_lexer": "ipython3",
   "version": "3.9.5"
  },
  "papermill": {
   "default_parameters": {},
   "duration": 6.830701,
   "end_time": "2021-08-19T14:00:11.231558",
   "environment_variables": {},
   "exception": null,
   "input_path": "eBay_Overview.ipynb",
   "output_path": "eBay_Overview.ipynb",
   "parameters": {},
   "start_time": "2021-08-19T14:00:04.400857",
   "version": "2.3.3"
  }
 },
 "nbformat": 4,
 "nbformat_minor": 5
}