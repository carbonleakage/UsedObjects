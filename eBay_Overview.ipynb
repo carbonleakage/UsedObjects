{
 "cells": [
  {
   "cell_type": "code",
   "execution_count": 1,
   "id": "reverse-picking",
   "metadata": {
    "execution": {
     "iopub.execute_input": "2021-11-25T08:30:08.019206Z",
     "iopub.status.busy": "2021-11-25T08:30:08.016677Z",
     "iopub.status.idle": "2021-11-25T08:30:08.985789Z",
     "shell.execute_reply": "2021-11-25T08:30:08.987342Z"
    },
    "papermill": {
     "duration": 1.018663,
     "end_time": "2021-11-25T08:30:08.988088",
     "exception": false,
     "start_time": "2021-11-25T08:30:07.969425",
     "status": "completed"
    },
    "tags": []
   },
   "outputs": [],
   "source": [
    "import pandas as pd\n",
    "import sqlite3"
   ]
  },
  {
   "cell_type": "code",
   "execution_count": 2,
   "id": "innovative-syndrome",
   "metadata": {
    "execution": {
     "iopub.execute_input": "2021-11-25T08:30:09.049941Z",
     "iopub.status.busy": "2021-11-25T08:30:09.047598Z",
     "iopub.status.idle": "2021-11-25T08:30:09.949890Z",
     "shell.execute_reply": "2021-11-25T08:30:09.951382Z"
    },
    "papermill": {
     "duration": 0.935891,
     "end_time": "2021-11-25T08:30:09.951836",
     "exception": false,
     "start_time": "2021-11-25T08:30:09.015945",
     "status": "completed"
    },
    "tags": []
   },
   "outputs": [],
   "source": [
    "timestamps = pd.read_sql(\"select distinct record_time from EBAY_TOP_BERLIN order by record_time desc limit 2\", sqlite3.connect(\"UsedObjects.db\"))"
   ]
  },
  {
   "cell_type": "code",
   "execution_count": 3,
   "id": "periodic-identification",
   "metadata": {
    "execution": {
     "iopub.execute_input": "2021-11-25T08:30:10.019334Z",
     "iopub.status.busy": "2021-11-25T08:30:10.017284Z",
     "iopub.status.idle": "2021-11-25T08:30:10.038528Z",
     "shell.execute_reply": "2021-11-25T08:30:10.037093Z"
    },
    "papermill": {
     "duration": 0.067236,
     "end_time": "2021-11-25T08:30:10.038884",
     "exception": false,
     "start_time": "2021-11-25T08:30:09.971648",
     "status": "completed"
    },
    "tags": []
   },
   "outputs": [
    {
     "data": {
      "text/html": [
       "<div>\n",
       "<style scoped>\n",
       "    .dataframe tbody tr th:only-of-type {\n",
       "        vertical-align: middle;\n",
       "    }\n",
       "\n",
       "    .dataframe tbody tr th {\n",
       "        vertical-align: top;\n",
       "    }\n",
       "\n",
       "    .dataframe thead th {\n",
       "        text-align: right;\n",
       "    }\n",
       "</style>\n",
       "<table border=\"1\" class=\"dataframe\">\n",
       "  <thead>\n",
       "    <tr style=\"text-align: right;\">\n",
       "      <th></th>\n",
       "      <th>RECORD_TIME</th>\n",
       "    </tr>\n",
       "  </thead>\n",
       "  <tbody>\n",
       "    <tr>\n",
       "      <th>0</th>\n",
       "      <td>2021-11-25 09:30</td>\n",
       "    </tr>\n",
       "    <tr>\n",
       "      <th>1</th>\n",
       "      <td>2021-11-25 09:00</td>\n",
       "    </tr>\n",
       "  </tbody>\n",
       "</table>\n",
       "</div>"
      ],
      "text/plain": [
       "        RECORD_TIME\n",
       "0  2021-11-25 09:30\n",
       "1  2021-11-25 09:00"
      ]
     },
     "execution_count": 3,
     "metadata": {},
     "output_type": "execute_result"
    }
   ],
   "source": [
    "timestamps"
   ]
  },
  {
   "cell_type": "code",
   "execution_count": 4,
   "id": "alternate-victory",
   "metadata": {
    "execution": {
     "iopub.execute_input": "2021-11-25T08:30:10.094193Z",
     "iopub.status.busy": "2021-11-25T08:30:10.091989Z",
     "iopub.status.idle": "2021-11-25T08:30:11.416670Z",
     "shell.execute_reply": "2021-11-25T08:30:11.418402Z"
    },
    "papermill": {
     "duration": 1.357692,
     "end_time": "2021-11-25T08:30:11.418909",
     "exception": false,
     "start_time": "2021-11-25T08:30:10.061217",
     "status": "completed"
    },
    "tags": []
   },
   "outputs": [],
   "source": [
    "df = pd.read_sql(\"select * from EBAY_TOP_BERLIN where record_time in (select distinct record_time from EBAY_TOP_BERLIN order by record_time desc limit 2)\", sqlite3.connect(\"UsedObjects.db\"))"
   ]
  },
  {
   "cell_type": "code",
   "execution_count": 5,
   "id": "popular-active",
   "metadata": {
    "execution": {
     "iopub.execute_input": "2021-11-25T08:30:11.491339Z",
     "iopub.status.busy": "2021-11-25T08:30:11.488233Z",
     "iopub.status.idle": "2021-11-25T08:30:11.523136Z",
     "shell.execute_reply": "2021-11-25T08:30:11.521556Z"
    },
    "papermill": {
     "duration": 0.083208,
     "end_time": "2021-11-25T08:30:11.523573",
     "exception": false,
     "start_time": "2021-11-25T08:30:11.440365",
     "status": "completed"
    },
    "tags": []
   },
   "outputs": [],
   "source": [
    "df_pivot = df.pivot_table(index=\"PRODUCT\", columns = \"RECORD_TIME\", values = \"LISTING_COUNT\")"
   ]
  },
  {
   "cell_type": "code",
   "execution_count": 6,
   "id": "union-huntington",
   "metadata": {
    "execution": {
     "iopub.execute_input": "2021-11-25T08:30:11.583368Z",
     "iopub.status.busy": "2021-11-25T08:30:11.581159Z",
     "iopub.status.idle": "2021-11-25T08:30:11.588043Z",
     "shell.execute_reply": "2021-11-25T08:30:11.586581Z"
    },
    "papermill": {
     "duration": 0.043781,
     "end_time": "2021-11-25T08:30:11.588456",
     "exception": false,
     "start_time": "2021-11-25T08:30:11.544675",
     "status": "completed"
    },
    "tags": []
   },
   "outputs": [],
   "source": [
    "df_pivot.columns = [\"stamp_1\", \"stamp_2\"]\n",
    "df_pivot_diff = df_pivot.diff(axis=1)"
   ]
  },
  {
   "cell_type": "code",
   "execution_count": 7,
   "id": "fifth-motion",
   "metadata": {
    "execution": {
     "iopub.execute_input": "2021-11-25T08:30:11.676437Z",
     "iopub.status.busy": "2021-11-25T08:30:11.674155Z",
     "iopub.status.idle": "2021-11-25T08:30:13.719257Z",
     "shell.execute_reply": "2021-11-25T08:30:13.721003Z"
    },
    "papermill": {
     "duration": 2.113282,
     "end_time": "2021-11-25T08:30:13.721620",
     "exception": false,
     "start_time": "2021-11-25T08:30:11.608338",
     "status": "completed"
    },
    "tags": []
   },
   "outputs": [
    {
     "data": {
      "text/plain": [
       "<AxesSubplot:ylabel='PRODUCT'>"
      ]
     },
     "execution_count": 7,
     "metadata": {},
     "output_type": "execute_result"
    },
    {
     "data": {
      "image/png": "[encoded data removed]",
      "text/plain": [
       "<Figure size 432x288 with 1 Axes>"
      ]
     },
     "metadata": {
      "needs_background": "light"
     },
     "output_type": "display_data"
    }
   ],
   "source": [
    "df_pivot_diff.sort_values(\"stamp_2\", ascending = False)[\"stamp_2\"].head(10).plot.barh()"
   ]
  },
  {
   "cell_type": "code",
   "execution_count": null,
   "id": "extra-executive",
   "metadata": {
    "papermill": {
     "duration": 0.022205,
     "end_time": "2021-11-25T08:30:13.768136",
     "exception": false,
     "start_time": "2021-11-25T08:30:13.745931",
     "status": "completed"
    },
    "tags": []
   },
   "outputs": [],
   "source": []
  }
 ],
 "metadata": {
  "kernelspec": {
   "display_name": "Python 3",
   "language": "python",
   "name": "python3"
  },
  "language_info": {
   "codemirror_mode": {
    "name": "ipython",
    "version": 3
   },
   "file_extension": ".py",
   "mimetype": "text/x-python",
   "name": "python",
   "nbconvert_exporter": "python",
   "pygments_lexer": "ipython3",
   "version": "3.9.5"
  },
  "papermill": {
   "default_parameters": {},
   "duration": 9.941162,
   "end_time": "2021-11-25T08:30:15.164303",
   "environment_variables": {},
   "exception": null,
   "input_path": "eBay_Overview.ipynb",
   "output_path": "eBay_Overview.ipynb",
   "parameters": {},
   "start_time": "2021-11-25T08:30:05.223141",
   "version": "2.3.3"
  }
 },
 "nbformat": 4,
 "nbformat_minor": 5
}