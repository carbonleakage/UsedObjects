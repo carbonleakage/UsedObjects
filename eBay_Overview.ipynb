{
 "cells": [
  {
   "cell_type": "code",
   "execution_count": 1,
   "id": "reverse-picking",
   "metadata": {
    "execution": {
     "iopub.execute_input": "2021-11-01T21:30:07.689426Z",
     "iopub.status.busy": "2021-11-01T21:30:07.687085Z",
     "iopub.status.idle": "2021-11-01T21:30:08.640846Z",
     "shell.execute_reply": "2021-11-01T21:30:08.643471Z"
    },
    "papermill": {
     "duration": 1.004252,
     "end_time": "2021-11-01T21:30:08.644477",
     "exception": false,
     "start_time": "2021-11-01T21:30:07.640225",
     "status": "completed"
    },
    "tags": []
   },
   "outputs": [],
   "source": [
    "import pandas as pd\n",
    "import sqlite3"
   ]
  },
  {
   "cell_type": "code",
   "execution_count": 2,
   "id": "innovative-syndrome",
   "metadata": {
    "execution": {
     "iopub.execute_input": "2021-11-01T21:30:08.712114Z",
     "iopub.status.busy": "2021-11-01T21:30:08.709872Z",
     "iopub.status.idle": "2021-11-01T21:30:09.410093Z",
     "shell.execute_reply": "2021-11-01T21:30:09.412557Z"
    },
    "papermill": {
     "duration": 0.734719,
     "end_time": "2021-11-01T21:30:09.413098",
     "exception": false,
     "start_time": "2021-11-01T21:30:08.678379",
     "status": "completed"
    },
    "tags": []
   },
   "outputs": [],
   "source": [
    "timestamps = pd.read_sql(\"select distinct record_time from EBAY_TOP_BERLIN order by record_time desc limit 2\", sqlite3.connect(\"UsedObjects.db\"))"
   ]
  },
  {
   "cell_type": "code",
   "execution_count": 3,
   "id": "periodic-identification",
   "metadata": {
    "execution": {
     "iopub.execute_input": "2021-11-01T21:30:09.482693Z",
     "iopub.status.busy": "2021-11-01T21:30:09.480315Z",
     "iopub.status.idle": "2021-11-01T21:30:09.502497Z",
     "shell.execute_reply": "2021-11-01T21:30:09.503864Z"
    },
    "papermill": {
     "duration": 0.071082,
     "end_time": "2021-11-01T21:30:09.504353",
     "exception": false,
     "start_time": "2021-11-01T21:30:09.433271",
     "status": "completed"
    },
    "tags": []
   },
   "outputs": [
    {
     "data": {
      "text/html": [
       "<div>\n",
       "<style scoped>\n",
       "    .dataframe tbody tr th:only-of-type {\n",
       "        vertical-align: middle;\n",
       "    }\n",
       "\n",
       "    .dataframe tbody tr th {\n",
       "        vertical-align: top;\n",
       "    }\n",
       "\n",
       "    .dataframe thead th {\n",
       "        text-align: right;\n",
       "    }\n",
       "</style>\n",
       "<table border=\"1\" class=\"dataframe\">\n",
       "  <thead>\n",
       "    <tr style=\"text-align: right;\">\n",
       "      <th></th>\n",
       "      <th>RECORD_TIME</th>\n",
       "    </tr>\n",
       "  </thead>\n",
       "  <tbody>\n",
       "    <tr>\n",
       "      <th>0</th>\n",
       "      <td>2021-11-01 22:30</td>\n",
       "    </tr>\n",
       "    <tr>\n",
       "      <th>1</th>\n",
       "      <td>2021-11-01 22:00</td>\n",
       "    </tr>\n",
       "  </tbody>\n",
       "</table>\n",
       "</div>"
      ],
      "text/plain": [
       "        RECORD_TIME\n",
       "0  2021-11-01 22:30\n",
       "1  2021-11-01 22:00"
      ]
     },
     "execution_count": 3,
     "metadata": {},
     "output_type": "execute_result"
    }
   ],
   "source": [
    "timestamps"
   ]
  },
  {
   "cell_type": "code",
   "execution_count": 4,
   "id": "alternate-victory",
   "metadata": {
    "execution": {
     "iopub.execute_input": "2021-11-01T21:30:09.559166Z",
     "iopub.status.busy": "2021-11-01T21:30:09.557333Z",
     "iopub.status.idle": "2021-11-01T21:30:10.587809Z",
     "shell.execute_reply": "2021-11-01T21:30:10.590621Z"
    },
    "papermill": {
     "duration": 1.062898,
     "end_time": "2021-11-01T21:30:10.591485",
     "exception": false,
     "start_time": "2021-11-01T21:30:09.528587",
     "status": "completed"
    },
    "tags": []
   },
   "outputs": [],
   "source": [
    "df = pd.read_sql(\"select * from EBAY_TOP_BERLIN where record_time in (select distinct record_time from EBAY_TOP_BERLIN order by record_time desc limit 2)\", sqlite3.connect(\"UsedObjects.db\"))"
   ]
  },
  {
   "cell_type": "code",
   "execution_count": 5,
   "id": "popular-active",
   "metadata": {
    "execution": {
     "iopub.execute_input": "2021-11-01T21:30:10.679312Z",
     "iopub.status.busy": "2021-11-01T21:30:10.665803Z",
     "iopub.status.idle": "2021-11-01T21:30:10.700911Z",
     "shell.execute_reply": "2021-11-01T21:30:10.699159Z"
    },
    "papermill": {
     "duration": 0.080252,
     "end_time": "2021-11-01T21:30:10.701318",
     "exception": false,
     "start_time": "2021-11-01T21:30:10.621066",
     "status": "completed"
    },
    "tags": []
   },
   "outputs": [],
   "source": [
    "df_pivot = df.pivot_table(index=\"PRODUCT\", columns = \"RECORD_TIME\", values = \"LISTING_COUNT\")"
   ]
  },
  {
   "cell_type": "code",
   "execution_count": 6,
   "id": "union-huntington",
   "metadata": {
    "execution": {
     "iopub.execute_input": "2021-11-01T21:30:10.760738Z",
     "iopub.status.busy": "2021-11-01T21:30:10.758565Z",
     "iopub.status.idle": "2021-11-01T21:30:10.763916Z",
     "shell.execute_reply": "2021-11-01T21:30:10.765236Z"
    },
    "papermill": {
     "duration": 0.043928,
     "end_time": "2021-11-01T21:30:10.765688",
     "exception": false,
     "start_time": "2021-11-01T21:30:10.721760",
     "status": "completed"
    },
    "tags": []
   },
   "outputs": [],
   "source": [
    "df_pivot.columns = [\"stamp_1\", \"stamp_2\"]\n",
    "df_pivot_diff = df_pivot.diff(axis=1)"
   ]
  },
  {
   "cell_type": "code",
   "execution_count": 7,
   "id": "fifth-motion",
   "metadata": {
    "execution": {
     "iopub.execute_input": "2021-11-01T21:30:10.822982Z",
     "iopub.status.busy": "2021-11-01T21:30:10.820443Z",
     "iopub.status.idle": "2021-11-01T21:30:12.755576Z",
     "shell.execute_reply": "2021-11-01T21:30:12.758319Z"
    },
    "papermill": {
     "duration": 1.973293,
     "end_time": "2021-11-01T21:30:12.759054",
     "exception": false,
     "start_time": "2021-11-01T21:30:10.785761",
     "status": "completed"
    },
    "tags": []
   },
   "outputs": [
    {
     "data": {
      "text/plain": [
       "<AxesSubplot:ylabel='PRODUCT'>"
      ]
     },
     "execution_count": 7,
     "metadata": {},
     "output_type": "execute_result"
    },
    {
     "data": {
      "image/png": "[encoded data removed]",
      "text/plain": [
       "<Figure size 432x288 with 1 Axes>"
      ]
     },
     "metadata": {
      "needs_background": "light"
     },
     "output_type": "display_data"
    }
   ],
   "source": [
    "df_pivot_diff.sort_values(\"stamp_2\", ascending = False)[\"stamp_2\"].head(10).plot.barh()"
   ]
  },
  {
   "cell_type": "code",
   "execution_count": null,
   "id": "extra-executive",
   "metadata": {
    "papermill": {
     "duration": 0.02784,
     "end_time": "2021-11-01T21:30:12.821422",
     "exception": false,
     "start_time": "2021-11-01T21:30:12.793582",
     "status": "completed"
    },
    "tags": []
   },
   "outputs": [],
   "source": []
  }
 ],
 "metadata": {
  "kernelspec": {
   "display_name": "Python 3",
   "language": "python",
   "name": "python3"
  },
  "language_info": {
   "codemirror_mode": {
    "name": "ipython",
    "version": 3
   },
   "file_extension": ".py",
   "mimetype": "text/x-python",
   "name": "python",
   "nbconvert_exporter": "python",
   "pygments_lexer": "ipython3",
   "version": "3.9.5"
  },
  "papermill": {
   "default_parameters": {},
   "duration": 8.654017,
   "end_time": "2021-11-01T21:30:13.584058",
   "environment_variables": {},
   "exception": null,
   "input_path": "eBay_Overview.ipynb",
   "output_path": "eBay_Overview.ipynb",
   "parameters": {},
   "start_time": "2021-11-01T21:30:04.930041",
   "version": "2.3.3"
  }
 },
 "nbformat": 4,
 "nbformat_minor": 5
}