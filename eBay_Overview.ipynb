{
 "cells": [
  {
   "cell_type": "code",
   "execution_count": 1,
   "id": "reverse-picking",
   "metadata": {
    "execution": {
     "iopub.execute_input": "2021-10-08T19:30:07.324759Z",
     "iopub.status.busy": "2021-10-08T19:30:07.322744Z",
     "iopub.status.idle": "2021-10-08T19:30:08.137375Z",
     "shell.execute_reply": "2021-10-08T19:30:08.135592Z"
    },
    "papermill": {
     "duration": 0.865,
     "end_time": "2021-10-08T19:30:08.137815",
     "exception": false,
     "start_time": "2021-10-08T19:30:07.272815",
     "status": "completed"
    },
    "tags": []
   },
   "outputs": [],
   "source": [
    "import pandas as pd\n",
    "import sqlite3"
   ]
  },
  {
   "cell_type": "code",
   "execution_count": 2,
   "id": "innovative-syndrome",
   "metadata": {
    "execution": {
     "iopub.execute_input": "2021-10-08T19:30:08.188816Z",
     "iopub.status.busy": "2021-10-08T19:30:08.186404Z",
     "iopub.status.idle": "2021-10-08T19:30:08.676132Z",
     "shell.execute_reply": "2021-10-08T19:30:08.677337Z"
    },
    "papermill": {
     "duration": 0.519427,
     "end_time": "2021-10-08T19:30:08.677760",
     "exception": false,
     "start_time": "2021-10-08T19:30:08.158333",
     "status": "completed"
    },
    "tags": []
   },
   "outputs": [],
   "source": [
    "timestamps = pd.read_sql(\"select distinct record_time from EBAY_TOP_BERLIN order by record_time desc limit 2\", sqlite3.connect(\"UsedObjects.db\"))"
   ]
  },
  {
   "cell_type": "code",
   "execution_count": 3,
   "id": "periodic-identification",
   "metadata": {
    "execution": {
     "iopub.execute_input": "2021-10-08T19:30:08.752291Z",
     "iopub.status.busy": "2021-10-08T19:30:08.750197Z",
     "iopub.status.idle": "2021-10-08T19:30:08.770007Z",
     "shell.execute_reply": "2021-10-08T19:30:08.771335Z"
    },
    "papermill": {
     "duration": 0.074076,
     "end_time": "2021-10-08T19:30:08.771768",
     "exception": false,
     "start_time": "2021-10-08T19:30:08.697692",
     "status": "completed"
    },
    "tags": []
   },
   "outputs": [
    {
     "data": {
      "text/html": [
       "<div>\n",
       "<style scoped>\n",
       "    .dataframe tbody tr th:only-of-type {\n",
       "        vertical-align: middle;\n",
       "    }\n",
       "\n",
       "    .dataframe tbody tr th {\n",
       "        vertical-align: top;\n",
       "    }\n",
       "\n",
       "    .dataframe thead th {\n",
       "        text-align: right;\n",
       "    }\n",
       "</style>\n",
       "<table border=\"1\" class=\"dataframe\">\n",
       "  <thead>\n",
       "    <tr style=\"text-align: right;\">\n",
       "      <th></th>\n",
       "      <th>RECORD_TIME</th>\n",
       "    </tr>\n",
       "  </thead>\n",
       "  <tbody>\n",
       "    <tr>\n",
       "      <th>0</th>\n",
       "      <td>2021-10-08 21:30</td>\n",
       "    </tr>\n",
       "    <tr>\n",
       "      <th>1</th>\n",
       "      <td>2021-10-08 21:00</td>\n",
       "    </tr>\n",
       "  </tbody>\n",
       "</table>\n",
       "</div>"
      ],
      "text/plain": [
       "        RECORD_TIME\n",
       "0  2021-10-08 21:30\n",
       "1  2021-10-08 21:00"
      ]
     },
     "execution_count": 3,
     "metadata": {},
     "output_type": "execute_result"
    }
   ],
   "source": [
    "timestamps"
   ]
  },
  {
   "cell_type": "code",
   "execution_count": 4,
   "id": "alternate-victory",
   "metadata": {
    "execution": {
     "iopub.execute_input": "2021-10-08T19:30:08.824760Z",
     "iopub.status.busy": "2021-10-08T19:30:08.822876Z",
     "iopub.status.idle": "2021-10-08T19:30:09.524784Z",
     "shell.execute_reply": "2021-10-08T19:30:09.526171Z"
    },
    "papermill": {
     "duration": 0.732377,
     "end_time": "2021-10-08T19:30:09.526609",
     "exception": false,
     "start_time": "2021-10-08T19:30:08.794232",
     "status": "completed"
    },
    "tags": []
   },
   "outputs": [],
   "source": [
    "df = pd.read_sql(\"select * from EBAY_TOP_BERLIN where record_time in (select distinct record_time from EBAY_TOP_BERLIN order by record_time desc limit 2)\", sqlite3.connect(\"UsedObjects.db\"))"
   ]
  },
  {
   "cell_type": "code",
   "execution_count": 5,
   "id": "popular-active",
   "metadata": {
    "execution": {
     "iopub.execute_input": "2021-10-08T19:30:09.599370Z",
     "iopub.status.busy": "2021-10-08T19:30:09.586288Z",
     "iopub.status.idle": "2021-10-08T19:30:09.615751Z",
     "shell.execute_reply": "2021-10-08T19:30:09.617150Z"
    },
    "papermill": {
     "duration": 0.070308,
     "end_time": "2021-10-08T19:30:09.617595",
     "exception": false,
     "start_time": "2021-10-08T19:30:09.547287",
     "status": "completed"
    },
    "tags": []
   },
   "outputs": [],
   "source": [
    "df_pivot = df.pivot_table(index=\"PRODUCT\", columns = \"RECORD_TIME\", values = \"LISTING_COUNT\")"
   ]
  },
  {
   "cell_type": "code",
   "execution_count": 6,
   "id": "union-huntington",
   "metadata": {
    "execution": {
     "iopub.execute_input": "2021-10-08T19:30:09.674404Z",
     "iopub.status.busy": "2021-10-08T19:30:09.672262Z",
     "iopub.status.idle": "2021-10-08T19:30:09.677565Z",
     "shell.execute_reply": "2021-10-08T19:30:09.678758Z"
    },
    "papermill": {
     "duration": 0.041196,
     "end_time": "2021-10-08T19:30:09.679244",
     "exception": false,
     "start_time": "2021-10-08T19:30:09.638048",
     "status": "completed"
    },
    "tags": []
   },
   "outputs": [],
   "source": [
    "df_pivot.columns = [\"stamp_1\", \"stamp_2\"]\n",
    "df_pivot_diff = df_pivot.diff(axis=1)"
   ]
  },
  {
   "cell_type": "code",
   "execution_count": 7,
   "id": "fifth-motion",
   "metadata": {
    "execution": {
     "iopub.execute_input": "2021-10-08T19:30:09.735952Z",
     "iopub.status.busy": "2021-10-08T19:30:09.733412Z",
     "iopub.status.idle": "2021-10-08T19:30:11.214984Z",
     "shell.execute_reply": "2021-10-08T19:30:11.216411Z"
    },
    "papermill": {
     "duration": 1.51482,
     "end_time": "2021-10-08T19:30:11.216844",
     "exception": false,
     "start_time": "2021-10-08T19:30:09.702024",
     "status": "completed"
    },
    "tags": []
   },
   "outputs": [
    {
     "data": {
      "text/plain": [
       "<AxesSubplot:ylabel='PRODUCT'>"
      ]
     },
     "execution_count": 7,
     "metadata": {},
     "output_type": "execute_result"
    },
    {
     "data": {
      "image/png": "[encoded data removed]",
      "text/plain": [
       "<Figure size 432x288 with 1 Axes>"
      ]
     },
     "metadata": {
      "needs_background": "light"
     },
     "output_type": "display_data"
    }
   ],
   "source": [
    "df_pivot_diff.sort_values(\"stamp_2\", ascending = False)[\"stamp_2\"].head(10).plot.barh()"
   ]
  },
  {
   "cell_type": "code",
   "execution_count": null,
   "id": "extra-executive",
   "metadata": {
    "papermill": {
     "duration": 0.022137,
     "end_time": "2021-10-08T19:30:11.263596",
     "exception": false,
     "start_time": "2021-10-08T19:30:11.241459",
     "status": "completed"
    },
    "tags": []
   },
   "outputs": [],
   "source": []
  }
 ],
 "metadata": {
  "kernelspec": {
   "display_name": "Python 3",
   "language": "python",
   "name": "python3"
  },
  "language_info": {
   "codemirror_mode": {
    "name": "ipython",
    "version": 3
   },
   "file_extension": ".py",
   "mimetype": "text/x-python",
   "name": "python",
   "nbconvert_exporter": "python",
   "pygments_lexer": "ipython3",
   "version": "3.9.5"
  },
  "papermill": {
   "default_parameters": {},
   "duration": 7.843738,
   "end_time": "2021-10-08T19:30:12.703746",
   "environment_variables": {},
   "exception": null,
   "input_path": "eBay_Overview.ipynb",
   "output_path": "eBay_Overview.ipynb",
   "parameters": {},
   "start_time": "2021-10-08T19:30:04.860008",
   "version": "2.3.3"
  }
 },
 "nbformat": 4,
 "nbformat_minor": 5
}