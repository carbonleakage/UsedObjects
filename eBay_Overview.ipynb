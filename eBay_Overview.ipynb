{
 "cells": [
  {
   "cell_type": "code",
   "execution_count": 1,
   "id": "reverse-picking",
   "metadata": {
    "execution": {
     "iopub.execute_input": "2021-09-15T21:30:06.964958Z",
     "iopub.status.busy": "2021-09-15T21:30:06.963027Z",
     "iopub.status.idle": "2021-09-15T21:30:07.768525Z",
     "shell.execute_reply": "2021-09-15T21:30:07.769756Z"
    },
    "papermill": {
     "duration": 0.857972,
     "end_time": "2021-09-15T21:30:07.770369",
     "exception": false,
     "start_time": "2021-09-15T21:30:06.912397",
     "status": "completed"
    },
    "tags": []
   },
   "outputs": [],
   "source": [
    "import pandas as pd\n",
    "import sqlite3"
   ]
  },
  {
   "cell_type": "code",
   "execution_count": 2,
   "id": "innovative-syndrome",
   "metadata": {
    "execution": {
     "iopub.execute_input": "2021-09-15T21:30:07.820893Z",
     "iopub.status.busy": "2021-09-15T21:30:07.819012Z",
     "iopub.status.idle": "2021-09-15T21:30:08.112520Z",
     "shell.execute_reply": "2021-09-15T21:30:08.113779Z"
    },
    "papermill": {
     "duration": 0.323434,
     "end_time": "2021-09-15T21:30:08.114193",
     "exception": false,
     "start_time": "2021-09-15T21:30:07.790759",
     "status": "completed"
    },
    "tags": []
   },
   "outputs": [],
   "source": [
    "timestamps = pd.read_sql(\"select distinct record_time from EBAY_TOP_BERLIN order by record_time desc limit 2\", sqlite3.connect(\"UsedObjects.db\"))"
   ]
  },
  {
   "cell_type": "code",
   "execution_count": 3,
   "id": "periodic-identification",
   "metadata": {
    "execution": {
     "iopub.execute_input": "2021-09-15T21:30:08.181474Z",
     "iopub.status.busy": "2021-09-15T21:30:08.179444Z",
     "iopub.status.idle": "2021-09-15T21:30:08.199335Z",
     "shell.execute_reply": "2021-09-15T21:30:08.200630Z"
    },
    "papermill": {
     "duration": 0.067335,
     "end_time": "2021-09-15T21:30:08.201045",
     "exception": false,
     "start_time": "2021-09-15T21:30:08.133710",
     "status": "completed"
    },
    "tags": []
   },
   "outputs": [
    {
     "data": {
      "text/html": [
       "<div>\n",
       "<style scoped>\n",
       "    .dataframe tbody tr th:only-of-type {\n",
       "        vertical-align: middle;\n",
       "    }\n",
       "\n",
       "    .dataframe tbody tr th {\n",
       "        vertical-align: top;\n",
       "    }\n",
       "\n",
       "    .dataframe thead th {\n",
       "        text-align: right;\n",
       "    }\n",
       "</style>\n",
       "<table border=\"1\" class=\"dataframe\">\n",
       "  <thead>\n",
       "    <tr style=\"text-align: right;\">\n",
       "      <th></th>\n",
       "      <th>RECORD_TIME</th>\n",
       "    </tr>\n",
       "  </thead>\n",
       "  <tbody>\n",
       "    <tr>\n",
       "      <th>0</th>\n",
       "      <td>2021-09-15 23:30</td>\n",
       "    </tr>\n",
       "    <tr>\n",
       "      <th>1</th>\n",
       "      <td>2021-09-15 23:00</td>\n",
       "    </tr>\n",
       "  </tbody>\n",
       "</table>\n",
       "</div>"
      ],
      "text/plain": [
       "        RECORD_TIME\n",
       "0  2021-09-15 23:30\n",
       "1  2021-09-15 23:00"
      ]
     },
     "execution_count": 3,
     "metadata": {},
     "output_type": "execute_result"
    }
   ],
   "source": [
    "timestamps"
   ]
  },
  {
   "cell_type": "code",
   "execution_count": 4,
   "id": "alternate-victory",
   "metadata": {
    "execution": {
     "iopub.execute_input": "2021-09-15T21:30:08.253438Z",
     "iopub.status.busy": "2021-09-15T21:30:08.251152Z",
     "iopub.status.idle": "2021-09-15T21:30:08.691012Z",
     "shell.execute_reply": "2021-09-15T21:30:08.689354Z"
    },
    "papermill": {
     "duration": 0.468934,
     "end_time": "2021-09-15T21:30:08.691368",
     "exception": false,
     "start_time": "2021-09-15T21:30:08.222434",
     "status": "completed"
    },
    "tags": []
   },
   "outputs": [],
   "source": [
    "df = pd.read_sql(\"select * from EBAY_TOP_BERLIN where record_time in (select distinct record_time from EBAY_TOP_BERLIN order by record_time desc limit 2)\", sqlite3.connect(\"UsedObjects.db\"))"
   ]
  },
  {
   "cell_type": "code",
   "execution_count": 5,
   "id": "popular-active",
   "metadata": {
    "execution": {
     "iopub.execute_input": "2021-09-15T21:30:08.765670Z",
     "iopub.status.busy": "2021-09-15T21:30:08.752870Z",
     "iopub.status.idle": "2021-09-15T21:30:08.781279Z",
     "shell.execute_reply": "2021-09-15T21:30:08.782495Z"
    },
    "papermill": {
     "duration": 0.068475,
     "end_time": "2021-09-15T21:30:08.782944",
     "exception": false,
     "start_time": "2021-09-15T21:30:08.714469",
     "status": "completed"
    },
    "tags": []
   },
   "outputs": [],
   "source": [
    "df_pivot = df.pivot_table(index=\"PRODUCT\", columns = \"RECORD_TIME\", values = \"LISTING_COUNT\")"
   ]
  },
  {
   "cell_type": "code",
   "execution_count": 6,
   "id": "union-huntington",
   "metadata": {
    "execution": {
     "iopub.execute_input": "2021-09-15T21:30:08.839491Z",
     "iopub.status.busy": "2021-09-15T21:30:08.837355Z",
     "iopub.status.idle": "2021-09-15T21:30:08.842663Z",
     "shell.execute_reply": "2021-09-15T21:30:08.844117Z"
    },
    "papermill": {
     "duration": 0.04099,
     "end_time": "2021-09-15T21:30:08.844686",
     "exception": false,
     "start_time": "2021-09-15T21:30:08.803696",
     "status": "completed"
    },
    "tags": []
   },
   "outputs": [],
   "source": [
    "df_pivot.columns = [\"stamp_1\", \"stamp_2\"]\n",
    "df_pivot_diff = df_pivot.diff(axis=1)"
   ]
  },
  {
   "cell_type": "code",
   "execution_count": 7,
   "id": "fifth-motion",
   "metadata": {
    "execution": {
     "iopub.execute_input": "2021-09-15T21:30:08.900912Z",
     "iopub.status.busy": "2021-09-15T21:30:08.898414Z",
     "iopub.status.idle": "2021-09-15T21:30:10.410477Z",
     "shell.execute_reply": "2021-09-15T21:30:10.412136Z"
    },
    "papermill": {
     "duration": 1.546162,
     "end_time": "2021-09-15T21:30:10.412706",
     "exception": false,
     "start_time": "2021-09-15T21:30:08.866544",
     "status": "completed"
    },
    "tags": []
   },
   "outputs": [
    {
     "data": {
      "text/plain": [
       "<AxesSubplot:ylabel='PRODUCT'>"
      ]
     },
     "execution_count": 7,
     "metadata": {},
     "output_type": "execute_result"
    },
    {
     "data": {
      "image/png": "[encoded data removed]",
      "text/plain": [
       "<Figure size 432x288 with 1 Axes>"
      ]
     },
     "metadata": {
      "needs_background": "light"
     },
     "output_type": "display_data"
    }
   ],
   "source": [
    "df_pivot_diff.sort_values(\"stamp_2\", ascending = False)[\"stamp_2\"].head(10).plot.barh()"
   ]
  },
  {
   "cell_type": "code",
   "execution_count": null,
   "id": "extra-executive",
   "metadata": {
    "papermill": {
     "duration": 0.022545,
     "end_time": "2021-09-15T21:30:10.459649",
     "exception": false,
     "start_time": "2021-09-15T21:30:10.437104",
     "status": "completed"
    },
    "tags": []
   },
   "outputs": [],
   "source": []
  }
 ],
 "metadata": {
  "kernelspec": {
   "display_name": "Python 3",
   "language": "python",
   "name": "python3"
  },
  "language_info": {
   "codemirror_mode": {
    "name": "ipython",
    "version": 3
   },
   "file_extension": ".py",
   "mimetype": "text/x-python",
   "name": "python",
   "nbconvert_exporter": "python",
   "pygments_lexer": "ipython3",
   "version": "3.9.5"
  },
  "papermill": {
   "default_parameters": {},
   "duration": 6.600235,
   "end_time": "2021-09-15T21:30:11.102567",
   "environment_variables": {},
   "exception": null,
   "input_path": "eBay_Overview.ipynb",
   "output_path": "eBay_Overview.ipynb",
   "parameters": {},
   "start_time": "2021-09-15T21:30:04.502332",
   "version": "2.3.3"
  }
 },
 "nbformat": 4,
 "nbformat_minor": 5
}