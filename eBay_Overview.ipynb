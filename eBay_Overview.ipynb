{
 "cells": [
  {
   "cell_type": "code",
   "execution_count": 1,
   "id": "reverse-picking",
   "metadata": {
    "execution": {
     "iopub.execute_input": "2021-11-30T14:00:07.781780Z",
     "iopub.status.busy": "2021-11-30T14:00:07.779418Z",
     "iopub.status.idle": "2021-11-30T14:00:08.720424Z",
     "shell.execute_reply": "2021-11-30T14:00:08.718655Z"
    },
    "papermill": {
     "duration": 1.003314,
     "end_time": "2021-11-30T14:00:08.720987",
     "exception": false,
     "start_time": "2021-11-30T14:00:07.717673",
     "status": "completed"
    },
    "tags": []
   },
   "outputs": [],
   "source": [
    "import pandas as pd\n",
    "import sqlite3"
   ]
  },
  {
   "cell_type": "code",
   "execution_count": 2,
   "id": "innovative-syndrome",
   "metadata": {
    "execution": {
     "iopub.execute_input": "2021-11-30T14:00:08.778796Z",
     "iopub.status.busy": "2021-11-30T14:00:08.776434Z",
     "iopub.status.idle": "2021-11-30T14:00:09.728032Z",
     "shell.execute_reply": "2021-11-30T14:00:09.729451Z"
    },
    "papermill": {
     "duration": 0.987535,
     "end_time": "2021-11-30T14:00:09.729915",
     "exception": false,
     "start_time": "2021-11-30T14:00:08.742380",
     "status": "completed"
    },
    "tags": []
   },
   "outputs": [],
   "source": [
    "timestamps = pd.read_sql(\"select distinct record_time from EBAY_TOP_BERLIN order by record_time desc limit 2\", sqlite3.connect(\"UsedObjects.db\"))"
   ]
  },
  {
   "cell_type": "code",
   "execution_count": 3,
   "id": "periodic-identification",
   "metadata": {
    "execution": {
     "iopub.execute_input": "2021-11-30T14:00:09.806861Z",
     "iopub.status.busy": "2021-11-30T14:00:09.799768Z",
     "iopub.status.idle": "2021-11-30T14:00:09.826536Z",
     "shell.execute_reply": "2021-11-30T14:00:09.828128Z"
    },
    "papermill": {
     "duration": 0.0785,
     "end_time": "2021-11-30T14:00:09.828649",
     "exception": false,
     "start_time": "2021-11-30T14:00:09.750149",
     "status": "completed"
    },
    "tags": []
   },
   "outputs": [
    {
     "data": {
      "text/html": [
       "<div>\n",
       "<style scoped>\n",
       "    .dataframe tbody tr th:only-of-type {\n",
       "        vertical-align: middle;\n",
       "    }\n",
       "\n",
       "    .dataframe tbody tr th {\n",
       "        vertical-align: top;\n",
       "    }\n",
       "\n",
       "    .dataframe thead th {\n",
       "        text-align: right;\n",
       "    }\n",
       "</style>\n",
       "<table border=\"1\" class=\"dataframe\">\n",
       "  <thead>\n",
       "    <tr style=\"text-align: right;\">\n",
       "      <th></th>\n",
       "      <th>RECORD_TIME</th>\n",
       "    </tr>\n",
       "  </thead>\n",
       "  <tbody>\n",
       "    <tr>\n",
       "      <th>0</th>\n",
       "      <td>2021-11-30 15:00</td>\n",
       "    </tr>\n",
       "    <tr>\n",
       "      <th>1</th>\n",
       "      <td>2021-11-30 14:30</td>\n",
       "    </tr>\n",
       "  </tbody>\n",
       "</table>\n",
       "</div>"
      ],
      "text/plain": [
       "        RECORD_TIME\n",
       "0  2021-11-30 15:00\n",
       "1  2021-11-30 14:30"
      ]
     },
     "execution_count": 3,
     "metadata": {},
     "output_type": "execute_result"
    }
   ],
   "source": [
    "timestamps"
   ]
  },
  {
   "cell_type": "code",
   "execution_count": 4,
   "id": "alternate-victory",
   "metadata": {
    "execution": {
     "iopub.execute_input": "2021-11-30T14:00:09.885221Z",
     "iopub.status.busy": "2021-11-30T14:00:09.882896Z",
     "iopub.status.idle": "2021-11-30T14:00:11.283923Z",
     "shell.execute_reply": "2021-11-30T14:00:11.285542Z"
    },
    "papermill": {
     "duration": 1.435427,
     "end_time": "2021-11-30T14:00:11.286023",
     "exception": false,
     "start_time": "2021-11-30T14:00:09.850596",
     "status": "completed"
    },
    "tags": []
   },
   "outputs": [],
   "source": [
    "df = pd.read_sql(\"select * from EBAY_TOP_BERLIN where record_time in (select distinct record_time from EBAY_TOP_BERLIN order by record_time desc limit 2)\", sqlite3.connect(\"UsedObjects.db\"))"
   ]
  },
  {
   "cell_type": "code",
   "execution_count": 5,
   "id": "popular-active",
   "metadata": {
    "execution": {
     "iopub.execute_input": "2021-11-30T14:00:11.369942Z",
     "iopub.status.busy": "2021-11-30T14:00:11.356378Z",
     "iopub.status.idle": "2021-11-30T14:00:11.390159Z",
     "shell.execute_reply": "2021-11-30T14:00:11.388485Z"
    },
    "papermill": {
     "duration": 0.07766,
     "end_time": "2021-11-30T14:00:11.390586",
     "exception": false,
     "start_time": "2021-11-30T14:00:11.312926",
     "status": "completed"
    },
    "tags": []
   },
   "outputs": [],
   "source": [
    "df_pivot = df.pivot_table(index=\"PRODUCT\", columns = \"RECORD_TIME\", values = \"LISTING_COUNT\")"
   ]
  },
  {
   "cell_type": "code",
   "execution_count": 6,
   "id": "union-huntington",
   "metadata": {
    "execution": {
     "iopub.execute_input": "2021-11-30T14:00:11.452003Z",
     "iopub.status.busy": "2021-11-30T14:00:11.449706Z",
     "iopub.status.idle": "2021-11-30T14:00:11.455808Z",
     "shell.execute_reply": "2021-11-30T14:00:11.457585Z"
    },
    "papermill": {
     "duration": 0.046306,
     "end_time": "2021-11-30T14:00:11.458107",
     "exception": false,
     "start_time": "2021-11-30T14:00:11.411801",
     "status": "completed"
    },
    "tags": []
   },
   "outputs": [],
   "source": [
    "df_pivot.columns = [\"stamp_1\", \"stamp_2\"]\n",
    "df_pivot_diff = df_pivot.diff(axis=1)"
   ]
  },
  {
   "cell_type": "code",
   "execution_count": 7,
   "id": "fifth-motion",
   "metadata": {
    "execution": {
     "iopub.execute_input": "2021-11-30T14:00:11.518972Z",
     "iopub.status.busy": "2021-11-30T14:00:11.516460Z",
     "iopub.status.idle": "2021-11-30T14:00:13.262068Z",
     "shell.execute_reply": "2021-11-30T14:00:13.263436Z"
    },
    "papermill": {
     "duration": 1.782689,
     "end_time": "2021-11-30T14:00:13.263912",
     "exception": false,
     "start_time": "2021-11-30T14:00:11.481223",
     "status": "completed"
    },
    "tags": []
   },
   "outputs": [
    {
     "data": {
      "text/plain": [
       "<AxesSubplot:ylabel='PRODUCT'>"
      ]
     },
     "execution_count": 7,
     "metadata": {},
     "output_type": "execute_result"
    },
    {
     "data": {
      "image/png": "[encoded data removed]",
      "text/plain": [
       "<Figure size 432x288 with 1 Axes>"
      ]
     },
     "metadata": {
      "needs_background": "light"
     },
     "output_type": "display_data"
    }
   ],
   "source": [
    "df_pivot_diff.sort_values(\"stamp_2\", ascending = False)[\"stamp_2\"].head(10).plot.barh()"
   ]
  },
  {
   "cell_type": "code",
   "execution_count": null,
   "id": "extra-executive",
   "metadata": {
    "papermill": {
     "duration": 0.024987,
     "end_time": "2021-11-30T14:00:13.315028",
     "exception": false,
     "start_time": "2021-11-30T14:00:13.290041",
     "status": "completed"
    },
    "tags": []
   },
   "outputs": [],
   "source": []
  }
 ],
 "metadata": {
  "kernelspec": {
   "display_name": "Python 3",
   "language": "python",
   "name": "python3"
  },
  "language_info": {
   "codemirror_mode": {
    "name": "ipython",
    "version": 3
   },
   "file_extension": ".py",
   "mimetype": "text/x-python",
   "name": "python",
   "nbconvert_exporter": "python",
   "pygments_lexer": "ipython3",
   "version": "3.9.5"
  },
  "papermill": {
   "default_parameters": {},
   "duration": 9.979076,
   "end_time": "2021-11-30T14:00:14.938757",
   "environment_variables": {},
   "exception": null,
   "input_path": "eBay_Overview.ipynb",
   "output_path": "eBay_Overview.ipynb",
   "parameters": {},
   "start_time": "2021-11-30T14:00:04.959681",
   "version": "2.3.3"
  }
 },
 "nbformat": 4,
 "nbformat_minor": 5
}