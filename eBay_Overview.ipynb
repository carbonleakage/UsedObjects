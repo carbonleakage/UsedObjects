{
 "cells": [
  {
   "cell_type": "code",
   "execution_count": 1,
   "id": "reverse-picking",
   "metadata": {
    "execution": {
     "iopub.execute_input": "2021-12-05T05:30:08.027914Z",
     "iopub.status.busy": "2021-12-05T05:30:08.025645Z",
     "iopub.status.idle": "2021-12-05T05:30:08.948140Z",
     "shell.execute_reply": "2021-12-05T05:30:08.946426Z"
    },
    "papermill": {
     "duration": 0.971083,
     "end_time": "2021-12-05T05:30:08.948636",
     "exception": false,
     "start_time": "2021-12-05T05:30:07.977553",
     "status": "completed"
    },
    "tags": []
   },
   "outputs": [],
   "source": [
    "import pandas as pd\n",
    "import sqlite3"
   ]
  },
  {
   "cell_type": "code",
   "execution_count": 2,
   "id": "innovative-syndrome",
   "metadata": {
    "execution": {
     "iopub.execute_input": "2021-12-05T05:30:09.013273Z",
     "iopub.status.busy": "2021-12-05T05:30:09.010958Z",
     "iopub.status.idle": "2021-12-05T05:30:10.026779Z",
     "shell.execute_reply": "2021-12-05T05:30:10.028269Z"
    },
    "papermill": {
     "duration": 1.05004,
     "end_time": "2021-12-05T05:30:10.028801",
     "exception": false,
     "start_time": "2021-12-05T05:30:08.978761",
     "status": "completed"
    },
    "tags": []
   },
   "outputs": [],
   "source": [
    "timestamps = pd.read_sql(\"select distinct record_time from EBAY_TOP_BERLIN order by record_time desc limit 2\", sqlite3.connect(\"UsedObjects.db\"))"
   ]
  },
  {
   "cell_type": "code",
   "execution_count": 3,
   "id": "periodic-identification",
   "metadata": {
    "execution": {
     "iopub.execute_input": "2021-12-05T05:30:10.101938Z",
     "iopub.status.busy": "2021-12-05T05:30:10.099568Z",
     "iopub.status.idle": "2021-12-05T05:30:10.122838Z",
     "shell.execute_reply": "2021-12-05T05:30:10.124274Z"
    },
    "papermill": {
     "duration": 0.074763,
     "end_time": "2021-12-05T05:30:10.124807",
     "exception": false,
     "start_time": "2021-12-05T05:30:10.050044",
     "status": "completed"
    },
    "tags": []
   },
   "outputs": [
    {
     "data": {
      "text/html": [
       "<div>\n",
       "<style scoped>\n",
       "    .dataframe tbody tr th:only-of-type {\n",
       "        vertical-align: middle;\n",
       "    }\n",
       "\n",
       "    .dataframe tbody tr th {\n",
       "        vertical-align: top;\n",
       "    }\n",
       "\n",
       "    .dataframe thead th {\n",
       "        text-align: right;\n",
       "    }\n",
       "</style>\n",
       "<table border=\"1\" class=\"dataframe\">\n",
       "  <thead>\n",
       "    <tr style=\"text-align: right;\">\n",
       "      <th></th>\n",
       "      <th>RECORD_TIME</th>\n",
       "    </tr>\n",
       "  </thead>\n",
       "  <tbody>\n",
       "    <tr>\n",
       "      <th>0</th>\n",
       "      <td>2021-12-05 06:30</td>\n",
       "    </tr>\n",
       "    <tr>\n",
       "      <th>1</th>\n",
       "      <td>2021-12-05 06:00</td>\n",
       "    </tr>\n",
       "  </tbody>\n",
       "</table>\n",
       "</div>"
      ],
      "text/plain": [
       "        RECORD_TIME\n",
       "0  2021-12-05 06:30\n",
       "1  2021-12-05 06:00"
      ]
     },
     "execution_count": 3,
     "metadata": {},
     "output_type": "execute_result"
    }
   ],
   "source": [
    "timestamps"
   ]
  },
  {
   "cell_type": "code",
   "execution_count": 4,
   "id": "alternate-victory",
   "metadata": {
    "execution": {
     "iopub.execute_input": "2021-12-05T05:30:10.178959Z",
     "iopub.status.busy": "2021-12-05T05:30:10.176827Z",
     "iopub.status.idle": "2021-12-05T05:30:11.624600Z",
     "shell.execute_reply": "2021-12-05T05:30:11.626303Z"
    },
    "papermill": {
     "duration": 1.481126,
     "end_time": "2021-12-05T05:30:11.626789",
     "exception": false,
     "start_time": "2021-12-05T05:30:10.145663",
     "status": "completed"
    },
    "tags": []
   },
   "outputs": [],
   "source": [
    "df = pd.read_sql(\"select * from EBAY_TOP_BERLIN where record_time in (select distinct record_time from EBAY_TOP_BERLIN order by record_time desc limit 2)\", sqlite3.connect(\"UsedObjects.db\"))"
   ]
  },
  {
   "cell_type": "code",
   "execution_count": 5,
   "id": "popular-active",
   "metadata": {
    "execution": {
     "iopub.execute_input": "2021-12-05T05:30:11.704954Z",
     "iopub.status.busy": "2021-12-05T05:30:11.696526Z",
     "iopub.status.idle": "2021-12-05T05:30:11.722209Z",
     "shell.execute_reply": "2021-12-05T05:30:11.723576Z"
    },
    "papermill": {
     "duration": 0.074834,
     "end_time": "2021-12-05T05:30:11.724047",
     "exception": false,
     "start_time": "2021-12-05T05:30:11.649213",
     "status": "completed"
    },
    "tags": []
   },
   "outputs": [],
   "source": [
    "df_pivot = df.pivot_table(index=\"PRODUCT\", columns = \"RECORD_TIME\", values = \"LISTING_COUNT\")"
   ]
  },
  {
   "cell_type": "code",
   "execution_count": 6,
   "id": "union-huntington",
   "metadata": {
    "execution": {
     "iopub.execute_input": "2021-12-05T05:30:11.782036Z",
     "iopub.status.busy": "2021-12-05T05:30:11.779932Z",
     "iopub.status.idle": "2021-12-05T05:30:11.786440Z",
     "shell.execute_reply": "2021-12-05T05:30:11.788311Z"
    },
    "papermill": {
     "duration": 0.045147,
     "end_time": "2021-12-05T05:30:11.789028",
     "exception": false,
     "start_time": "2021-12-05T05:30:11.743881",
     "status": "completed"
    },
    "tags": []
   },
   "outputs": [],
   "source": [
    "df_pivot.columns = [\"stamp_1\", \"stamp_2\"]\n",
    "df_pivot_diff = df_pivot.diff(axis=1)"
   ]
  },
  {
   "cell_type": "code",
   "execution_count": 7,
   "id": "fifth-motion",
   "metadata": {
    "execution": {
     "iopub.execute_input": "2021-12-05T05:30:11.849992Z",
     "iopub.status.busy": "2021-12-05T05:30:11.847510Z",
     "iopub.status.idle": "2021-12-05T05:30:13.813891Z",
     "shell.execute_reply": "2021-12-05T05:30:13.816024Z"
    },
    "papermill": {
     "duration": 2.004238,
     "end_time": "2021-12-05T05:30:13.816664",
     "exception": false,
     "start_time": "2021-12-05T05:30:11.812426",
     "status": "completed"
    },
    "tags": []
   },
   "outputs": [
    {
     "data": {
      "text/plain": [
       "<AxesSubplot:ylabel='PRODUCT'>"
      ]
     },
     "execution_count": 7,
     "metadata": {},
     "output_type": "execute_result"
    },
    {
     "data": {
      "image/png": "[encoded data removed]",
      "text/plain": [
       "<Figure size 432x288 with 1 Axes>"
      ]
     },
     "metadata": {
      "needs_background": "light"
     },
     "output_type": "display_data"
    }
   ],
   "source": [
    "df_pivot_diff.sort_values(\"stamp_2\", ascending = False)[\"stamp_2\"].head(10).plot.barh()"
   ]
  },
  {
   "cell_type": "code",
   "execution_count": null,
   "id": "extra-executive",
   "metadata": {
    "papermill": {
     "duration": 0.027444,
     "end_time": "2021-12-05T05:30:13.876003",
     "exception": false,
     "start_time": "2021-12-05T05:30:13.848559",
     "status": "completed"
    },
    "tags": []
   },
   "outputs": [],
   "source": []
  }
 ],
 "metadata": {
  "kernelspec": {
   "display_name": "Python 3",
   "language": "python",
   "name": "python3"
  },
  "language_info": {
   "codemirror_mode": {
    "name": "ipython",
    "version": 3
   },
   "file_extension": ".py",
   "mimetype": "text/x-python",
   "name": "python",
   "nbconvert_exporter": "python",
   "pygments_lexer": "ipython3",
   "version": "3.9.5"
  },
  "papermill": {
   "default_parameters": {},
   "duration": 9.922227,
   "end_time": "2021-12-05T05:30:15.187143",
   "environment_variables": {},
   "exception": null,
   "input_path": "eBay_Overview.ipynb",
   "output_path": "eBay_Overview.ipynb",
   "parameters": {},
   "start_time": "2021-12-05T05:30:05.264916",
   "version": "2.3.3"
  }
 },
 "nbformat": 4,
 "nbformat_minor": 5
}