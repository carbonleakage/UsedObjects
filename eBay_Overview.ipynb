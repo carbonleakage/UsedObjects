{
 "cells": [
  {
   "cell_type": "code",
   "execution_count": 1,
   "id": "reverse-picking",
   "metadata": {
    "execution": {
     "iopub.execute_input": "2021-08-24T17:30:10.343662Z",
     "iopub.status.busy": "2021-08-24T17:30:10.341684Z",
     "iopub.status.idle": "2021-08-24T17:30:11.149055Z",
     "shell.execute_reply": "2021-08-24T17:30:11.150376Z"
    },
    "papermill": {
     "duration": 0.85938,
     "end_time": "2021-08-24T17:30:11.151023",
     "exception": false,
     "start_time": "2021-08-24T17:30:10.291643",
     "status": "completed"
    },
    "tags": []
   },
   "outputs": [],
   "source": [
    "import pandas as pd\n",
    "import sqlite3"
   ]
  },
  {
   "cell_type": "code",
   "execution_count": 2,
   "id": "innovative-syndrome",
   "metadata": {
    "execution": {
     "iopub.execute_input": "2021-08-24T17:30:11.203361Z",
     "iopub.status.busy": "2021-08-24T17:30:11.201380Z",
     "iopub.status.idle": "2021-08-24T17:30:11.326983Z",
     "shell.execute_reply": "2021-08-24T17:30:11.328232Z"
    },
    "papermill": {
     "duration": 0.155146,
     "end_time": "2021-08-24T17:30:11.328622",
     "exception": false,
     "start_time": "2021-08-24T17:30:11.173476",
     "status": "completed"
    },
    "tags": []
   },
   "outputs": [],
   "source": [
    "timestamps = pd.read_sql(\"select distinct record_time from EBAY_TOP_BERLIN order by record_time desc limit 2\", sqlite3.connect(\"UsedObjects.db\"))"
   ]
  },
  {
   "cell_type": "code",
   "execution_count": 3,
   "id": "periodic-identification",
   "metadata": {
    "execution": {
     "iopub.execute_input": "2021-08-24T17:30:11.392893Z",
     "iopub.status.busy": "2021-08-24T17:30:11.390814Z",
     "iopub.status.idle": "2021-08-24T17:30:11.411378Z",
     "shell.execute_reply": "2021-08-24T17:30:11.412593Z"
    },
    "papermill": {
     "duration": 0.064987,
     "end_time": "2021-08-24T17:30:11.412987",
     "exception": false,
     "start_time": "2021-08-24T17:30:11.348000",
     "status": "completed"
    },
    "tags": []
   },
   "outputs": [
    {
     "data": {
      "text/html": [
       "<div>\n",
       "<style scoped>\n",
       "    .dataframe tbody tr th:only-of-type {\n",
       "        vertical-align: middle;\n",
       "    }\n",
       "\n",
       "    .dataframe tbody tr th {\n",
       "        vertical-align: top;\n",
       "    }\n",
       "\n",
       "    .dataframe thead th {\n",
       "        text-align: right;\n",
       "    }\n",
       "</style>\n",
       "<table border=\"1\" class=\"dataframe\">\n",
       "  <thead>\n",
       "    <tr style=\"text-align: right;\">\n",
       "      <th></th>\n",
       "      <th>RECORD_TIME</th>\n",
       "    </tr>\n",
       "  </thead>\n",
       "  <tbody>\n",
       "    <tr>\n",
       "      <th>0</th>\n",
       "      <td>2021-08-24 19:30</td>\n",
       "    </tr>\n",
       "    <tr>\n",
       "      <th>1</th>\n",
       "      <td>2021-08-24 19:00</td>\n",
       "    </tr>\n",
       "  </tbody>\n",
       "</table>\n",
       "</div>"
      ],
      "text/plain": [
       "        RECORD_TIME\n",
       "0  2021-08-24 19:30\n",
       "1  2021-08-24 19:00"
      ]
     },
     "execution_count": 3,
     "metadata": {},
     "output_type": "execute_result"
    }
   ],
   "source": [
    "timestamps"
   ]
  },
  {
   "cell_type": "code",
   "execution_count": 4,
   "id": "alternate-victory",
   "metadata": {
    "execution": {
     "iopub.execute_input": "2021-08-24T17:30:11.466860Z",
     "iopub.status.busy": "2021-08-24T17:30:11.464531Z",
     "iopub.status.idle": "2021-08-24T17:30:11.643647Z",
     "shell.execute_reply": "2021-08-24T17:30:11.644911Z"
    },
    "papermill": {
     "duration": 0.20969,
     "end_time": "2021-08-24T17:30:11.645318",
     "exception": false,
     "start_time": "2021-08-24T17:30:11.435628",
     "status": "completed"
    },
    "tags": []
   },
   "outputs": [],
   "source": [
    "df = pd.read_sql(\"select * from EBAY_TOP_BERLIN where record_time in (select distinct record_time from EBAY_TOP_BERLIN order by record_time desc limit 2)\", sqlite3.connect(\"UsedObjects.db\"))"
   ]
  },
  {
   "cell_type": "code",
   "execution_count": 5,
   "id": "popular-active",
   "metadata": {
    "execution": {
     "iopub.execute_input": "2021-08-24T17:30:11.715225Z",
     "iopub.status.busy": "2021-08-24T17:30:11.703795Z",
     "iopub.status.idle": "2021-08-24T17:30:11.730824Z",
     "shell.execute_reply": "2021-08-24T17:30:11.732029Z"
    },
    "papermill": {
     "duration": 0.066819,
     "end_time": "2021-08-24T17:30:11.732420",
     "exception": false,
     "start_time": "2021-08-24T17:30:11.665601",
     "status": "completed"
    },
    "tags": []
   },
   "outputs": [],
   "source": [
    "df_pivot = df.pivot_table(index=\"PRODUCT\", columns = \"RECORD_TIME\", values = \"LISTING_COUNT\")"
   ]
  },
  {
   "cell_type": "code",
   "execution_count": 6,
   "id": "union-huntington",
   "metadata": {
    "execution": {
     "iopub.execute_input": "2021-08-24T17:30:11.800210Z",
     "iopub.status.busy": "2021-08-24T17:30:11.798053Z",
     "iopub.status.idle": "2021-08-24T17:30:11.803550Z",
     "shell.execute_reply": "2021-08-24T17:30:11.804899Z"
    },
    "papermill": {
     "duration": 0.044637,
     "end_time": "2021-08-24T17:30:11.805336",
     "exception": false,
     "start_time": "2021-08-24T17:30:11.760699",
     "status": "completed"
    },
    "tags": []
   },
   "outputs": [],
   "source": [
    "df_pivot.columns = [\"stamp_1\", \"stamp_2\"]\n",
    "df_pivot_diff = df_pivot.diff(axis=1)"
   ]
  },
  {
   "cell_type": "code",
   "execution_count": 7,
   "id": "fifth-motion",
   "metadata": {
    "execution": {
     "iopub.execute_input": "2021-08-24T17:30:11.863019Z",
     "iopub.status.busy": "2021-08-24T17:30:11.860350Z",
     "iopub.status.idle": "2021-08-24T17:30:13.361601Z",
     "shell.execute_reply": "2021-08-24T17:30:13.362947Z"
    },
    "papermill": {
     "duration": 1.534988,
     "end_time": "2021-08-24T17:30:13.363367",
     "exception": false,
     "start_time": "2021-08-24T17:30:11.828379",
     "status": "completed"
    },
    "tags": []
   },
   "outputs": [
    {
     "data": {
      "text/plain": [
       "<AxesSubplot:ylabel='PRODUCT'>"
      ]
     },
     "execution_count": 7,
     "metadata": {},
     "output_type": "execute_result"
    },
    {
     "data": {
      "image/png": "[encoded data removed]",
      "text/plain": [
       "<Figure size 432x288 with 1 Axes>"
      ]
     },
     "metadata": {
      "needs_background": "light"
     },
     "output_type": "display_data"
    }
   ],
   "source": [
    "df_pivot_diff.sort_values(\"stamp_2\", ascending = False)[\"stamp_2\"].head(10).plot.barh()"
   ]
  },
  {
   "cell_type": "code",
   "execution_count": null,
   "id": "extra-executive",
   "metadata": {
    "papermill": {
     "duration": 0.022614,
     "end_time": "2021-08-24T17:30:13.410104",
     "exception": false,
     "start_time": "2021-08-24T17:30:13.387490",
     "status": "completed"
    },
    "tags": []
   },
   "outputs": [],
   "source": []
  }
 ],
 "metadata": {
  "kernelspec": {
   "display_name": "Python 3",
   "language": "python",
   "name": "python3"
  },
  "language_info": {
   "codemirror_mode": {
    "name": "ipython",
    "version": 3
   },
   "file_extension": ".py",
   "mimetype": "text/x-python",
   "name": "python",
   "nbconvert_exporter": "python",
   "pygments_lexer": "ipython3",
   "version": "3.9.5"
  },
  "papermill": {
   "default_parameters": {},
   "duration": 6.828298,
   "end_time": "2021-08-24T17:30:14.708816",
   "environment_variables": {},
   "exception": null,
   "input_path": "eBay_Overview.ipynb",
   "output_path": "eBay_Overview.ipynb",
   "parameters": {},
   "start_time": "2021-08-24T17:30:07.880518",
   "version": "2.3.3"
  }
 },
 "nbformat": 4,
 "nbformat_minor": 5
}