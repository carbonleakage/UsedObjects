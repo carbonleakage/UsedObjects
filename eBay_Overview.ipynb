{
 "cells": [
  {
   "cell_type": "code",
   "execution_count": 1,
   "id": "reverse-picking",
   "metadata": {
    "execution": {
     "iopub.execute_input": "2021-12-11T22:30:07.450298Z",
     "iopub.status.busy": "2021-12-11T22:30:07.448027Z",
     "iopub.status.idle": "2021-12-11T22:30:08.401571Z",
     "shell.execute_reply": "2021-12-11T22:30:08.403815Z"
    },
    "papermill": {
     "duration": 1.003367,
     "end_time": "2021-12-11T22:30:08.404576",
     "exception": false,
     "start_time": "2021-12-11T22:30:07.401209",
     "status": "completed"
    },
    "tags": []
   },
   "outputs": [],
   "source": [
    "import pandas as pd\n",
    "import sqlite3"
   ]
  },
  {
   "cell_type": "code",
   "execution_count": 2,
   "id": "innovative-syndrome",
   "metadata": {
    "execution": {
     "iopub.execute_input": "2021-12-11T22:30:08.524022Z",
     "iopub.status.busy": "2021-12-11T22:30:08.521821Z",
     "iopub.status.idle": "2021-12-11T22:30:09.583957Z",
     "shell.execute_reply": "2021-12-11T22:30:09.585765Z"
    },
    "papermill": {
     "duration": 1.096479,
     "end_time": "2021-12-11T22:30:09.586290",
     "exception": false,
     "start_time": "2021-12-11T22:30:08.489811",
     "status": "completed"
    },
    "tags": []
   },
   "outputs": [],
   "source": [
    "timestamps = pd.read_sql(\"select distinct record_time from EBAY_TOP_BERLIN order by record_time desc limit 2\", sqlite3.connect(\"UsedObjects.db\"))"
   ]
  },
  {
   "cell_type": "code",
   "execution_count": 3,
   "id": "periodic-identification",
   "metadata": {
    "execution": {
     "iopub.execute_input": "2021-12-11T22:30:09.659337Z",
     "iopub.status.busy": "2021-12-11T22:30:09.656969Z",
     "iopub.status.idle": "2021-12-11T22:30:09.679596Z",
     "shell.execute_reply": "2021-12-11T22:30:09.681153Z"
    },
    "papermill": {
     "duration": 0.073911,
     "end_time": "2021-12-11T22:30:09.681644",
     "exception": false,
     "start_time": "2021-12-11T22:30:09.607733",
     "status": "completed"
    },
    "tags": []
   },
   "outputs": [
    {
     "data": {
      "text/html": [
       "<div>\n",
       "<style scoped>\n",
       "    .dataframe tbody tr th:only-of-type {\n",
       "        vertical-align: middle;\n",
       "    }\n",
       "\n",
       "    .dataframe tbody tr th {\n",
       "        vertical-align: top;\n",
       "    }\n",
       "\n",
       "    .dataframe thead th {\n",
       "        text-align: right;\n",
       "    }\n",
       "</style>\n",
       "<table border=\"1\" class=\"dataframe\">\n",
       "  <thead>\n",
       "    <tr style=\"text-align: right;\">\n",
       "      <th></th>\n",
       "      <th>RECORD_TIME</th>\n",
       "    </tr>\n",
       "  </thead>\n",
       "  <tbody>\n",
       "    <tr>\n",
       "      <th>0</th>\n",
       "      <td>2021-12-11 23:30</td>\n",
       "    </tr>\n",
       "    <tr>\n",
       "      <th>1</th>\n",
       "      <td>2021-12-11 23:00</td>\n",
       "    </tr>\n",
       "  </tbody>\n",
       "</table>\n",
       "</div>"
      ],
      "text/plain": [
       "        RECORD_TIME\n",
       "0  2021-12-11 23:30\n",
       "1  2021-12-11 23:00"
      ]
     },
     "execution_count": 3,
     "metadata": {},
     "output_type": "execute_result"
    }
   ],
   "source": [
    "timestamps"
   ]
  },
  {
   "cell_type": "code",
   "execution_count": 4,
   "id": "alternate-victory",
   "metadata": {
    "execution": {
     "iopub.execute_input": "2021-12-11T22:30:09.737599Z",
     "iopub.status.busy": "2021-12-11T22:30:09.735165Z",
     "iopub.status.idle": "2021-12-11T22:30:11.279876Z",
     "shell.execute_reply": "2021-12-11T22:30:11.281574Z"
    },
    "papermill": {
     "duration": 1.578376,
     "end_time": "2021-12-11T22:30:11.282072",
     "exception": false,
     "start_time": "2021-12-11T22:30:09.703696",
     "status": "completed"
    },
    "tags": []
   },
   "outputs": [],
   "source": [
    "df = pd.read_sql(\"select * from EBAY_TOP_BERLIN where record_time in (select distinct record_time from EBAY_TOP_BERLIN order by record_time desc limit 2)\", sqlite3.connect(\"UsedObjects.db\"))"
   ]
  },
  {
   "cell_type": "code",
   "execution_count": 5,
   "id": "popular-active",
   "metadata": {
    "execution": {
     "iopub.execute_input": "2021-12-11T22:30:11.349268Z",
     "iopub.status.busy": "2021-12-11T22:30:11.346962Z",
     "iopub.status.idle": "2021-12-11T22:30:11.377510Z",
     "shell.execute_reply": "2021-12-11T22:30:11.378975Z"
    },
    "papermill": {
     "duration": 0.075494,
     "end_time": "2021-12-11T22:30:11.379439",
     "exception": false,
     "start_time": "2021-12-11T22:30:11.303945",
     "status": "completed"
    },
    "tags": []
   },
   "outputs": [],
   "source": [
    "df_pivot = df.pivot_table(index=\"PRODUCT\", columns = \"RECORD_TIME\", values = \"LISTING_COUNT\")"
   ]
  },
  {
   "cell_type": "code",
   "execution_count": 6,
   "id": "union-huntington",
   "metadata": {
    "execution": {
     "iopub.execute_input": "2021-12-11T22:30:11.438085Z",
     "iopub.status.busy": "2021-12-11T22:30:11.435892Z",
     "iopub.status.idle": "2021-12-11T22:30:11.440626Z",
     "shell.execute_reply": "2021-12-11T22:30:11.442490Z"
    },
    "papermill": {
     "duration": 0.043889,
     "end_time": "2021-12-11T22:30:11.442961",
     "exception": false,
     "start_time": "2021-12-11T22:30:11.399072",
     "status": "completed"
    },
    "tags": []
   },
   "outputs": [],
   "source": [
    "df_pivot.columns = [\"stamp_1\", \"stamp_2\"]\n",
    "df_pivot_diff = df_pivot.diff(axis=1)"
   ]
  },
  {
   "cell_type": "code",
   "execution_count": 7,
   "id": "fifth-motion",
   "metadata": {
    "execution": {
     "iopub.execute_input": "2021-12-11T22:30:11.503501Z",
     "iopub.status.busy": "2021-12-11T22:30:11.500908Z",
     "iopub.status.idle": "2021-12-11T22:30:13.400777Z",
     "shell.execute_reply": "2021-12-11T22:30:13.403485Z"
    },
    "papermill": {
     "duration": 1.940626,
     "end_time": "2021-12-11T22:30:13.404266",
     "exception": false,
     "start_time": "2021-12-11T22:30:11.463640",
     "status": "completed"
    },
    "tags": []
   },
   "outputs": [
    {
     "data": {
      "text/plain": [
       "<AxesSubplot:ylabel='PRODUCT'>"
      ]
     },
     "execution_count": 7,
     "metadata": {},
     "output_type": "execute_result"
    },
    {
     "data": {
      "image/png": "[encoded data removed]",
      "text/plain": [
       "<Figure size 432x288 with 1 Axes>"
      ]
     },
     "metadata": {
      "needs_background": "light"
     },
     "output_type": "display_data"
    }
   ],
   "source": [
    "df_pivot_diff.sort_values(\"stamp_2\", ascending = False)[\"stamp_2\"].head(10).plot.barh()"
   ]
  },
  {
   "cell_type": "code",
   "execution_count": null,
   "id": "extra-executive",
   "metadata": {
    "papermill": {
     "duration": 0.031476,
     "end_time": "2021-12-11T22:30:13.529087",
     "exception": false,
     "start_time": "2021-12-11T22:30:13.497611",
     "status": "completed"
    },
    "tags": []
   },
   "outputs": [],
   "source": []
  }
 ],
 "metadata": {
  "kernelspec": {
   "display_name": "Python 3",
   "language": "python",
   "name": "python3"
  },
  "language_info": {
   "codemirror_mode": {
    "name": "ipython",
    "version": 3
   },
   "file_extension": ".py",
   "mimetype": "text/x-python",
   "name": "python",
   "nbconvert_exporter": "python",
   "pygments_lexer": "ipython3",
   "version": "3.9.5"
  },
  "papermill": {
   "default_parameters": {},
   "duration": 9.660392,
   "end_time": "2021-12-11T22:30:14.285892",
   "environment_variables": {},
   "exception": null,
   "input_path": "eBay_Overview.ipynb",
   "output_path": "eBay_Overview.ipynb",
   "parameters": {},
   "start_time": "2021-12-11T22:30:04.625500",
   "version": "2.3.3"
  }
 },
 "nbformat": 4,
 "nbformat_minor": 5
}