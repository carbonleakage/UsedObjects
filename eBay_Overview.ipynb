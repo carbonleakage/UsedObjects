{
 "cells": [
  {
   "cell_type": "code",
   "execution_count": 1,
   "id": "reverse-picking",
   "metadata": {
    "execution": {
     "iopub.execute_input": "2021-09-26T14:00:06.662543Z",
     "iopub.status.busy": "2021-09-26T14:00:06.660644Z",
     "iopub.status.idle": "2021-09-26T14:00:07.464648Z",
     "shell.execute_reply": "2021-09-26T14:00:07.465873Z"
    },
    "papermill": {
     "duration": 0.853906,
     "end_time": "2021-09-26T14:00:07.466507",
     "exception": false,
     "start_time": "2021-09-26T14:00:06.612601",
     "status": "completed"
    },
    "tags": []
   },
   "outputs": [],
   "source": [
    "import pandas as pd\n",
    "import sqlite3"
   ]
  },
  {
   "cell_type": "code",
   "execution_count": 2,
   "id": "innovative-syndrome",
   "metadata": {
    "execution": {
     "iopub.execute_input": "2021-09-26T14:00:07.517253Z",
     "iopub.status.busy": "2021-09-26T14:00:07.515398Z",
     "iopub.status.idle": "2021-09-26T14:00:07.893411Z",
     "shell.execute_reply": "2021-09-26T14:00:07.894680Z"
    },
    "papermill": {
     "duration": 0.407291,
     "end_time": "2021-09-26T14:00:07.895170",
     "exception": false,
     "start_time": "2021-09-26T14:00:07.487879",
     "status": "completed"
    },
    "tags": []
   },
   "outputs": [],
   "source": [
    "timestamps = pd.read_sql(\"select distinct record_time from EBAY_TOP_BERLIN order by record_time desc limit 2\", sqlite3.connect(\"UsedObjects.db\"))"
   ]
  },
  {
   "cell_type": "code",
   "execution_count": 3,
   "id": "periodic-identification",
   "metadata": {
    "execution": {
     "iopub.execute_input": "2021-09-26T14:00:07.961232Z",
     "iopub.status.busy": "2021-09-26T14:00:07.959228Z",
     "iopub.status.idle": "2021-09-26T14:00:07.979089Z",
     "shell.execute_reply": "2021-09-26T14:00:07.980515Z"
    },
    "papermill": {
     "duration": 0.066441,
     "end_time": "2021-09-26T14:00:07.980950",
     "exception": false,
     "start_time": "2021-09-26T14:00:07.914509",
     "status": "completed"
    },
    "tags": []
   },
   "outputs": [
    {
     "data": {
      "text/html": [
       "<div>\n",
       "<style scoped>\n",
       "    .dataframe tbody tr th:only-of-type {\n",
       "        vertical-align: middle;\n",
       "    }\n",
       "\n",
       "    .dataframe tbody tr th {\n",
       "        vertical-align: top;\n",
       "    }\n",
       "\n",
       "    .dataframe thead th {\n",
       "        text-align: right;\n",
       "    }\n",
       "</style>\n",
       "<table border=\"1\" class=\"dataframe\">\n",
       "  <thead>\n",
       "    <tr style=\"text-align: right;\">\n",
       "      <th></th>\n",
       "      <th>RECORD_TIME</th>\n",
       "    </tr>\n",
       "  </thead>\n",
       "  <tbody>\n",
       "    <tr>\n",
       "      <th>0</th>\n",
       "      <td>2021-09-26 16:00</td>\n",
       "    </tr>\n",
       "    <tr>\n",
       "      <th>1</th>\n",
       "      <td>2021-09-26 15:30</td>\n",
       "    </tr>\n",
       "  </tbody>\n",
       "</table>\n",
       "</div>"
      ],
      "text/plain": [
       "        RECORD_TIME\n",
       "0  2021-09-26 16:00\n",
       "1  2021-09-26 15:30"
      ]
     },
     "execution_count": 3,
     "metadata": {},
     "output_type": "execute_result"
    }
   ],
   "source": [
    "timestamps"
   ]
  },
  {
   "cell_type": "code",
   "execution_count": 4,
   "id": "alternate-victory",
   "metadata": {
    "execution": {
     "iopub.execute_input": "2021-09-26T14:00:08.031632Z",
     "iopub.status.busy": "2021-09-26T14:00:08.029572Z",
     "iopub.status.idle": "2021-09-26T14:00:08.592341Z",
     "shell.execute_reply": "2021-09-26T14:00:08.593542Z"
    },
    "papermill": {
     "duration": 0.592182,
     "end_time": "2021-09-26T14:00:08.593944",
     "exception": false,
     "start_time": "2021-09-26T14:00:08.001762",
     "status": "completed"
    },
    "tags": []
   },
   "outputs": [],
   "source": [
    "df = pd.read_sql(\"select * from EBAY_TOP_BERLIN where record_time in (select distinct record_time from EBAY_TOP_BERLIN order by record_time desc limit 2)\", sqlite3.connect(\"UsedObjects.db\"))"
   ]
  },
  {
   "cell_type": "code",
   "execution_count": 5,
   "id": "popular-active",
   "metadata": {
    "execution": {
     "iopub.execute_input": "2021-09-26T14:00:08.672494Z",
     "iopub.status.busy": "2021-09-26T14:00:08.660240Z",
     "iopub.status.idle": "2021-09-26T14:00:08.688209Z",
     "shell.execute_reply": "2021-09-26T14:00:08.689487Z"
    },
    "papermill": {
     "duration": 0.070546,
     "end_time": "2021-09-26T14:00:08.689909",
     "exception": false,
     "start_time": "2021-09-26T14:00:08.619363",
     "status": "completed"
    },
    "tags": []
   },
   "outputs": [],
   "source": [
    "df_pivot = df.pivot_table(index=\"PRODUCT\", columns = \"RECORD_TIME\", values = \"LISTING_COUNT\")"
   ]
  },
  {
   "cell_type": "code",
   "execution_count": 6,
   "id": "union-huntington",
   "metadata": {
    "execution": {
     "iopub.execute_input": "2021-09-26T14:00:08.744496Z",
     "iopub.status.busy": "2021-09-26T14:00:08.742384Z",
     "iopub.status.idle": "2021-09-26T14:00:08.747720Z",
     "shell.execute_reply": "2021-09-26T14:00:08.749004Z"
    },
    "papermill": {
     "duration": 0.039784,
     "end_time": "2021-09-26T14:00:08.749425",
     "exception": false,
     "start_time": "2021-09-26T14:00:08.709641",
     "status": "completed"
    },
    "tags": []
   },
   "outputs": [],
   "source": [
    "df_pivot.columns = [\"stamp_1\", \"stamp_2\"]\n",
    "df_pivot_diff = df_pivot.diff(axis=1)"
   ]
  },
  {
   "cell_type": "code",
   "execution_count": 7,
   "id": "fifth-motion",
   "metadata": {
    "execution": {
     "iopub.execute_input": "2021-09-26T14:00:08.803610Z",
     "iopub.status.busy": "2021-09-26T14:00:08.801035Z",
     "iopub.status.idle": "2021-09-26T14:00:10.279228Z",
     "shell.execute_reply": "2021-09-26T14:00:10.280589Z"
    },
    "papermill": {
     "duration": 1.510684,
     "end_time": "2021-09-26T14:00:10.281038",
     "exception": false,
     "start_time": "2021-09-26T14:00:08.770354",
     "status": "completed"
    },
    "tags": []
   },
   "outputs": [
    {
     "data": {
      "text/plain": [
       "<AxesSubplot:ylabel='PRODUCT'>"
      ]
     },
     "execution_count": 7,
     "metadata": {},
     "output_type": "execute_result"
    },
    {
     "data": {
      "image/png": "[encoded data removed]",
      "text/plain": [
       "<Figure size 432x288 with 1 Axes>"
      ]
     },
     "metadata": {
      "needs_background": "light"
     },
     "output_type": "display_data"
    }
   ],
   "source": [
    "df_pivot_diff.sort_values(\"stamp_2\", ascending = False)[\"stamp_2\"].head(10).plot.barh()"
   ]
  },
  {
   "cell_type": "code",
   "execution_count": null,
   "id": "extra-executive",
   "metadata": {
    "papermill": {
     "duration": 0.022007,
     "end_time": "2021-09-26T14:00:10.327850",
     "exception": false,
     "start_time": "2021-09-26T14:00:10.305843",
     "status": "completed"
    },
    "tags": []
   },
   "outputs": [],
   "source": []
  }
 ],
 "metadata": {
  "kernelspec": {
   "display_name": "Python 3",
   "language": "python",
   "name": "python3"
  },
  "language_info": {
   "codemirror_mode": {
    "name": "ipython",
    "version": 3
   },
   "file_extension": ".py",
   "mimetype": "text/x-python",
   "name": "python",
   "nbconvert_exporter": "python",
   "pygments_lexer": "ipython3",
   "version": "3.9.5"
  },
  "papermill": {
   "default_parameters": {},
   "duration": 6.755772,
   "end_time": "2021-09-26T14:00:10.970958",
   "environment_variables": {},
   "exception": null,
   "input_path": "eBay_Overview.ipynb",
   "output_path": "eBay_Overview.ipynb",
   "parameters": {},
   "start_time": "2021-09-26T14:00:04.215186",
   "version": "2.3.3"
  }
 },
 "nbformat": 4,
 "nbformat_minor": 5
}