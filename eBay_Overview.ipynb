{
 "cells": [
  {
   "cell_type": "code",
   "execution_count": 1,
   "id": "reverse-picking",
   "metadata": {
    "execution": {
     "iopub.execute_input": "2021-12-19T00:00:08.134173Z",
     "iopub.status.busy": "2021-12-19T00:00:08.131688Z",
     "iopub.status.idle": "2021-12-19T00:00:09.091352Z",
     "shell.execute_reply": "2021-12-19T00:00:09.092870Z"
    },
    "papermill": {
     "duration": 1.009259,
     "end_time": "2021-12-19T00:00:09.093598",
     "exception": false,
     "start_time": "2021-12-19T00:00:08.084339",
     "status": "completed"
    },
    "tags": []
   },
   "outputs": [],
   "source": [
    "import pandas as pd\n",
    "import sqlite3"
   ]
  },
  {
   "cell_type": "code",
   "execution_count": 2,
   "id": "innovative-syndrome",
   "metadata": {
    "execution": {
     "iopub.execute_input": "2021-12-19T00:00:09.165412Z",
     "iopub.status.busy": "2021-12-19T00:00:09.163062Z",
     "iopub.status.idle": "2021-12-19T00:00:10.284991Z",
     "shell.execute_reply": "2021-12-19T00:00:10.286438Z"
    },
    "papermill": {
     "duration": 1.157336,
     "end_time": "2021-12-19T00:00:10.286959",
     "exception": false,
     "start_time": "2021-12-19T00:00:09.129623",
     "status": "completed"
    },
    "tags": []
   },
   "outputs": [],
   "source": [
    "timestamps = pd.read_sql(\"select distinct record_time from EBAY_TOP_BERLIN order by record_time desc limit 2\", sqlite3.connect(\"UsedObjects.db\"))"
   ]
  },
  {
   "cell_type": "code",
   "execution_count": 3,
   "id": "periodic-identification",
   "metadata": {
    "execution": {
     "iopub.execute_input": "2021-12-19T00:00:10.354480Z",
     "iopub.status.busy": "2021-12-19T00:00:10.352100Z",
     "iopub.status.idle": "2021-12-19T00:00:10.374560Z",
     "shell.execute_reply": "2021-12-19T00:00:10.375920Z"
    },
    "papermill": {
     "duration": 0.069022,
     "end_time": "2021-12-19T00:00:10.376396",
     "exception": false,
     "start_time": "2021-12-19T00:00:10.307374",
     "status": "completed"
    },
    "tags": []
   },
   "outputs": [
    {
     "data": {
      "text/html": [
       "<div>\n",
       "<style scoped>\n",
       "    .dataframe tbody tr th:only-of-type {\n",
       "        vertical-align: middle;\n",
       "    }\n",
       "\n",
       "    .dataframe tbody tr th {\n",
       "        vertical-align: top;\n",
       "    }\n",
       "\n",
       "    .dataframe thead th {\n",
       "        text-align: right;\n",
       "    }\n",
       "</style>\n",
       "<table border=\"1\" class=\"dataframe\">\n",
       "  <thead>\n",
       "    <tr style=\"text-align: right;\">\n",
       "      <th></th>\n",
       "      <th>RECORD_TIME</th>\n",
       "    </tr>\n",
       "  </thead>\n",
       "  <tbody>\n",
       "    <tr>\n",
       "      <th>0</th>\n",
       "      <td>2021-12-19 01:00</td>\n",
       "    </tr>\n",
       "    <tr>\n",
       "      <th>1</th>\n",
       "      <td>2021-12-19 00:30</td>\n",
       "    </tr>\n",
       "  </tbody>\n",
       "</table>\n",
       "</div>"
      ],
      "text/plain": [
       "        RECORD_TIME\n",
       "0  2021-12-19 01:00\n",
       "1  2021-12-19 00:30"
      ]
     },
     "execution_count": 3,
     "metadata": {},
     "output_type": "execute_result"
    }
   ],
   "source": [
    "timestamps"
   ]
  },
  {
   "cell_type": "code",
   "execution_count": 4,
   "id": "alternate-victory",
   "metadata": {
    "execution": {
     "iopub.execute_input": "2021-12-19T00:00:10.431282Z",
     "iopub.status.busy": "2021-12-19T00:00:10.429117Z",
     "iopub.status.idle": "2021-12-19T00:00:12.028181Z",
     "shell.execute_reply": "2021-12-19T00:00:12.029676Z"
    },
    "papermill": {
     "duration": 1.633498,
     "end_time": "2021-12-19T00:00:12.030166",
     "exception": false,
     "start_time": "2021-12-19T00:00:10.396668",
     "status": "completed"
    },
    "tags": []
   },
   "outputs": [],
   "source": [
    "df = pd.read_sql(\"select * from EBAY_TOP_BERLIN where record_time in (select distinct record_time from EBAY_TOP_BERLIN order by record_time desc limit 2)\", sqlite3.connect(\"UsedObjects.db\"))"
   ]
  },
  {
   "cell_type": "code",
   "execution_count": 5,
   "id": "popular-active",
   "metadata": {
    "execution": {
     "iopub.execute_input": "2021-12-19T00:00:12.101011Z",
     "iopub.status.busy": "2021-12-19T00:00:12.098608Z",
     "iopub.status.idle": "2021-12-19T00:00:12.124560Z",
     "shell.execute_reply": "2021-12-19T00:00:12.126032Z"
    },
    "papermill": {
     "duration": 0.07515,
     "end_time": "2021-12-19T00:00:12.126515",
     "exception": false,
     "start_time": "2021-12-19T00:00:12.051365",
     "status": "completed"
    },
    "tags": []
   },
   "outputs": [],
   "source": [
    "df_pivot = df.pivot_table(index=\"PRODUCT\", columns = \"RECORD_TIME\", values = \"LISTING_COUNT\")"
   ]
  },
  {
   "cell_type": "code",
   "execution_count": 6,
   "id": "union-huntington",
   "metadata": {
    "execution": {
     "iopub.execute_input": "2021-12-19T00:00:12.188781Z",
     "iopub.status.busy": "2021-12-19T00:00:12.186500Z",
     "iopub.status.idle": "2021-12-19T00:00:12.192265Z",
     "shell.execute_reply": "2021-12-19T00:00:12.193759Z"
    },
    "papermill": {
     "duration": 0.043918,
     "end_time": "2021-12-19T00:00:12.194250",
     "exception": false,
     "start_time": "2021-12-19T00:00:12.150332",
     "status": "completed"
    },
    "tags": []
   },
   "outputs": [],
   "source": [
    "df_pivot.columns = [\"stamp_1\", \"stamp_2\"]\n",
    "df_pivot_diff = df_pivot.diff(axis=1)"
   ]
  },
  {
   "cell_type": "code",
   "execution_count": 7,
   "id": "fifth-motion",
   "metadata": {
    "execution": {
     "iopub.execute_input": "2021-12-19T00:00:12.250942Z",
     "iopub.status.busy": "2021-12-19T00:00:12.248359Z",
     "iopub.status.idle": "2021-12-19T00:00:14.270265Z",
     "shell.execute_reply": "2021-12-19T00:00:14.271716Z"
    },
    "papermill": {
     "duration": 2.057484,
     "end_time": "2021-12-19T00:00:14.272168",
     "exception": false,
     "start_time": "2021-12-19T00:00:12.214684",
     "status": "completed"
    },
    "tags": []
   },
   "outputs": [
    {
     "data": {
      "text/plain": [
       "<AxesSubplot:ylabel='PRODUCT'>"
      ]
     },
     "execution_count": 7,
     "metadata": {},
     "output_type": "execute_result"
    },
    {
     "data": {
      "image/png": "[encoded data removed]",
      "text/plain": [
       "<Figure size 432x288 with 1 Axes>"
      ]
     },
     "metadata": {
      "needs_background": "light"
     },
     "output_type": "display_data"
    }
   ],
   "source": [
    "df_pivot_diff.sort_values(\"stamp_2\", ascending = False)[\"stamp_2\"].head(10).plot.barh()"
   ]
  },
  {
   "cell_type": "code",
   "execution_count": null,
   "id": "extra-executive",
   "metadata": {
    "papermill": {
     "duration": 0.028466,
     "end_time": "2021-12-19T00:00:14.333041",
     "exception": false,
     "start_time": "2021-12-19T00:00:14.304575",
     "status": "completed"
    },
    "tags": []
   },
   "outputs": [],
   "source": []
  }
 ],
 "metadata": {
  "kernelspec": {
   "display_name": "Python 3",
   "language": "python",
   "name": "python3"
  },
  "language_info": {
   "codemirror_mode": {
    "name": "ipython",
    "version": 3
   },
   "file_extension": ".py",
   "mimetype": "text/x-python",
   "name": "python",
   "nbconvert_exporter": "python",
   "pygments_lexer": "ipython3",
   "version": "3.9.5"
  },
  "papermill": {
   "default_parameters": {},
   "duration": 9.628187,
   "end_time": "2021-12-19T00:00:14.974616",
   "environment_variables": {},
   "exception": null,
   "input_path": "eBay_Overview.ipynb",
   "output_path": "eBay_Overview.ipynb",
   "parameters": {},
   "start_time": "2021-12-19T00:00:05.346429",
   "version": "2.3.3"
  }
 },
 "nbformat": 4,
 "nbformat_minor": 5
}