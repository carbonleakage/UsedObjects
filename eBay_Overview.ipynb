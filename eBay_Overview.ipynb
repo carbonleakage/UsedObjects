{
 "cells": [
  {
   "cell_type": "code",
   "execution_count": 1,
   "id": "reverse-picking",
   "metadata": {
    "execution": {
     "iopub.execute_input": "2021-08-20T16:00:06.728116Z",
     "iopub.status.busy": "2021-08-20T16:00:06.726152Z",
     "iopub.status.idle": "2021-08-20T16:00:07.533889Z",
     "shell.execute_reply": "2021-08-20T16:00:07.535256Z"
    },
    "papermill": {
     "duration": 0.86008,
     "end_time": "2021-08-20T16:00:07.535873",
     "exception": false,
     "start_time": "2021-08-20T16:00:06.675793",
     "status": "completed"
    },
    "tags": []
   },
   "outputs": [],
   "source": [
    "import pandas as pd\n",
    "import sqlite3"
   ]
  },
  {
   "cell_type": "code",
   "execution_count": 2,
   "id": "innovative-syndrome",
   "metadata": {
    "execution": {
     "iopub.execute_input": "2021-08-20T16:00:07.589507Z",
     "iopub.status.busy": "2021-08-20T16:00:07.587199Z",
     "iopub.status.idle": "2021-08-20T16:00:07.680810Z",
     "shell.execute_reply": "2021-08-20T16:00:07.682233Z"
    },
    "papermill": {
     "duration": 0.123677,
     "end_time": "2021-08-20T16:00:07.682688",
     "exception": false,
     "start_time": "2021-08-20T16:00:07.559011",
     "status": "completed"
    },
    "tags": []
   },
   "outputs": [],
   "source": [
    "timestamps = pd.read_sql(\"select distinct record_time from EBAY_TOP_BERLIN order by record_time desc limit 2\", sqlite3.connect(\"UsedObjects.db\"))"
   ]
  },
  {
   "cell_type": "code",
   "execution_count": 3,
   "id": "periodic-identification",
   "metadata": {
    "execution": {
     "iopub.execute_input": "2021-08-20T16:00:07.747074Z",
     "iopub.status.busy": "2021-08-20T16:00:07.744986Z",
     "iopub.status.idle": "2021-08-20T16:00:07.765258Z",
     "shell.execute_reply": "2021-08-20T16:00:07.766764Z"
    },
    "papermill": {
     "duration": 0.065336,
     "end_time": "2021-08-20T16:00:07.767232",
     "exception": false,
     "start_time": "2021-08-20T16:00:07.701896",
     "status": "completed"
    },
    "tags": []
   },
   "outputs": [
    {
     "data": {
      "text/html": [
       "<div>\n",
       "<style scoped>\n",
       "    .dataframe tbody tr th:only-of-type {\n",
       "        vertical-align: middle;\n",
       "    }\n",
       "\n",
       "    .dataframe tbody tr th {\n",
       "        vertical-align: top;\n",
       "    }\n",
       "\n",
       "    .dataframe thead th {\n",
       "        text-align: right;\n",
       "    }\n",
       "</style>\n",
       "<table border=\"1\" class=\"dataframe\">\n",
       "  <thead>\n",
       "    <tr style=\"text-align: right;\">\n",
       "      <th></th>\n",
       "      <th>RECORD_TIME</th>\n",
       "    </tr>\n",
       "  </thead>\n",
       "  <tbody>\n",
       "    <tr>\n",
       "      <th>0</th>\n",
       "      <td>2021-08-20 18:00</td>\n",
       "    </tr>\n",
       "    <tr>\n",
       "      <th>1</th>\n",
       "      <td>2021-08-20 17:30</td>\n",
       "    </tr>\n",
       "  </tbody>\n",
       "</table>\n",
       "</div>"
      ],
      "text/plain": [
       "        RECORD_TIME\n",
       "0  2021-08-20 18:00\n",
       "1  2021-08-20 17:30"
      ]
     },
     "execution_count": 3,
     "metadata": {},
     "output_type": "execute_result"
    }
   ],
   "source": [
    "timestamps"
   ]
  },
  {
   "cell_type": "code",
   "execution_count": 4,
   "id": "alternate-victory",
   "metadata": {
    "execution": {
     "iopub.execute_input": "2021-08-20T16:00:07.818200Z",
     "iopub.status.busy": "2021-08-20T16:00:07.816289Z",
     "iopub.status.idle": "2021-08-20T16:00:07.950191Z",
     "shell.execute_reply": "2021-08-20T16:00:07.951618Z"
    },
    "papermill": {
     "duration": 0.163836,
     "end_time": "2021-08-20T16:00:07.952057",
     "exception": false,
     "start_time": "2021-08-20T16:00:07.788221",
     "status": "completed"
    },
    "tags": []
   },
   "outputs": [],
   "source": [
    "df = pd.read_sql(\"select * from EBAY_TOP_BERLIN where record_time in (select distinct record_time from EBAY_TOP_BERLIN order by record_time desc limit 2)\", sqlite3.connect(\"UsedObjects.db\"))"
   ]
  },
  {
   "cell_type": "code",
   "execution_count": 5,
   "id": "popular-active",
   "metadata": {
    "execution": {
     "iopub.execute_input": "2021-08-20T16:00:08.023600Z",
     "iopub.status.busy": "2021-08-20T16:00:08.011389Z",
     "iopub.status.idle": "2021-08-20T16:00:08.038991Z",
     "shell.execute_reply": "2021-08-20T16:00:08.040213Z"
    },
    "papermill": {
     "duration": 0.067759,
     "end_time": "2021-08-20T16:00:08.040604",
     "exception": false,
     "start_time": "2021-08-20T16:00:07.972845",
     "status": "completed"
    },
    "tags": []
   },
   "outputs": [],
   "source": [
    "df_pivot = df.pivot_table(index=\"PRODUCT\", columns = \"RECORD_TIME\", values = \"LISTING_COUNT\")"
   ]
  },
  {
   "cell_type": "code",
   "execution_count": 6,
   "id": "union-huntington",
   "metadata": {
    "execution": {
     "iopub.execute_input": "2021-08-20T16:00:08.100022Z",
     "iopub.status.busy": "2021-08-20T16:00:08.097476Z",
     "iopub.status.idle": "2021-08-20T16:00:08.103571Z",
     "shell.execute_reply": "2021-08-20T16:00:08.105040Z"
    },
    "papermill": {
     "duration": 0.042749,
     "end_time": "2021-08-20T16:00:08.105504",
     "exception": false,
     "start_time": "2021-08-20T16:00:08.062755",
     "status": "completed"
    },
    "tags": []
   },
   "outputs": [],
   "source": [
    "df_pivot.columns = [\"stamp_1\", \"stamp_2\"]\n",
    "df_pivot_diff = df_pivot.diff(axis=1)"
   ]
  },
  {
   "cell_type": "code",
   "execution_count": 7,
   "id": "fifth-motion",
   "metadata": {
    "execution": {
     "iopub.execute_input": "2021-08-20T16:00:08.164802Z",
     "iopub.status.busy": "2021-08-20T16:00:08.162174Z",
     "iopub.status.idle": "2021-08-20T16:00:09.628242Z",
     "shell.execute_reply": "2021-08-20T16:00:09.629530Z"
    },
    "papermill": {
     "duration": 1.503223,
     "end_time": "2021-08-20T16:00:09.630145",
     "exception": false,
     "start_time": "2021-08-20T16:00:08.126922",
     "status": "completed"
    },
    "tags": []
   },
   "outputs": [
    {
     "data": {
      "text/plain": [
       "<AxesSubplot:ylabel='PRODUCT'>"
      ]
     },
     "execution_count": 7,
     "metadata": {},
     "output_type": "execute_result"
    },
    {
     "data": {
      "image/png": "[encoded data removed]",
      "text/plain": [
       "<Figure size 432x288 with 1 Axes>"
      ]
     },
     "metadata": {
      "needs_background": "light"
     },
     "output_type": "display_data"
    }
   ],
   "source": [
    "df_pivot_diff.sort_values(\"stamp_2\", ascending = False)[\"stamp_2\"].head(10).plot.barh()"
   ]
  },
  {
   "cell_type": "code",
   "execution_count": null,
   "id": "extra-executive",
   "metadata": {
    "papermill": {
     "duration": 0.021869,
     "end_time": "2021-08-20T16:00:09.676297",
     "exception": false,
     "start_time": "2021-08-20T16:00:09.654428",
     "status": "completed"
    },
    "tags": []
   },
   "outputs": [],
   "source": []
  }
 ],
 "metadata": {
  "kernelspec": {
   "display_name": "Python 3",
   "language": "python",
   "name": "python3"
  },
  "language_info": {
   "codemirror_mode": {
    "name": "ipython",
    "version": 3
   },
   "file_extension": ".py",
   "mimetype": "text/x-python",
   "name": "python",
   "nbconvert_exporter": "python",
   "pygments_lexer": "ipython3",
   "version": "3.9.5"
  },
  "papermill": {
   "default_parameters": {},
   "duration": 6.822508,
   "end_time": "2021-08-20T16:00:11.087634",
   "environment_variables": {},
   "exception": null,
   "input_path": "eBay_Overview.ipynb",
   "output_path": "eBay_Overview.ipynb",
   "parameters": {},
   "start_time": "2021-08-20T16:00:04.265126",
   "version": "2.3.3"
  }
 },
 "nbformat": 4,
 "nbformat_minor": 5
}