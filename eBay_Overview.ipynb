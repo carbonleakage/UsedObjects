{
 "cells": [
  {
   "cell_type": "code",
   "execution_count": 1,
   "id": "reverse-picking",
   "metadata": {
    "execution": {
     "iopub.execute_input": "2021-11-11T13:00:07.624915Z",
     "iopub.status.busy": "2021-11-11T13:00:07.622871Z",
     "iopub.status.idle": "2021-11-11T13:00:08.568361Z",
     "shell.execute_reply": "2021-11-11T13:00:08.570115Z"
    },
    "papermill": {
     "duration": 0.996312,
     "end_time": "2021-11-11T13:00:08.570843",
     "exception": false,
     "start_time": "2021-11-11T13:00:07.574531",
     "status": "completed"
    },
    "tags": []
   },
   "outputs": [],
   "source": [
    "import pandas as pd\n",
    "import sqlite3"
   ]
  },
  {
   "cell_type": "code",
   "execution_count": 2,
   "id": "innovative-syndrome",
   "metadata": {
    "execution": {
     "iopub.execute_input": "2021-11-11T13:00:08.632018Z",
     "iopub.status.busy": "2021-11-11T13:00:08.629837Z",
     "iopub.status.idle": "2021-11-11T13:00:09.420357Z",
     "shell.execute_reply": "2021-11-11T13:00:09.422118Z"
    },
    "papermill": {
     "duration": 0.824599,
     "end_time": "2021-11-11T13:00:09.422773",
     "exception": false,
     "start_time": "2021-11-11T13:00:08.598174",
     "status": "completed"
    },
    "tags": []
   },
   "outputs": [],
   "source": [
    "timestamps = pd.read_sql(\"select distinct record_time from EBAY_TOP_BERLIN order by record_time desc limit 2\", sqlite3.connect(\"UsedObjects.db\"))"
   ]
  },
  {
   "cell_type": "code",
   "execution_count": 3,
   "id": "periodic-identification",
   "metadata": {
    "execution": {
     "iopub.execute_input": "2021-11-11T13:00:09.498492Z",
     "iopub.status.busy": "2021-11-11T13:00:09.492210Z",
     "iopub.status.idle": "2021-11-11T13:00:09.516825Z",
     "shell.execute_reply": "2021-11-11T13:00:09.518597Z"
    },
    "papermill": {
     "duration": 0.074286,
     "end_time": "2021-11-11T13:00:09.519079",
     "exception": false,
     "start_time": "2021-11-11T13:00:09.444793",
     "status": "completed"
    },
    "tags": []
   },
   "outputs": [
    {
     "data": {
      "text/html": [
       "<div>\n",
       "<style scoped>\n",
       "    .dataframe tbody tr th:only-of-type {\n",
       "        vertical-align: middle;\n",
       "    }\n",
       "\n",
       "    .dataframe tbody tr th {\n",
       "        vertical-align: top;\n",
       "    }\n",
       "\n",
       "    .dataframe thead th {\n",
       "        text-align: right;\n",
       "    }\n",
       "</style>\n",
       "<table border=\"1\" class=\"dataframe\">\n",
       "  <thead>\n",
       "    <tr style=\"text-align: right;\">\n",
       "      <th></th>\n",
       "      <th>RECORD_TIME</th>\n",
       "    </tr>\n",
       "  </thead>\n",
       "  <tbody>\n",
       "    <tr>\n",
       "      <th>0</th>\n",
       "      <td>2021-11-11 14:00</td>\n",
       "    </tr>\n",
       "    <tr>\n",
       "      <th>1</th>\n",
       "      <td>2021-11-11 13:30</td>\n",
       "    </tr>\n",
       "  </tbody>\n",
       "</table>\n",
       "</div>"
      ],
      "text/plain": [
       "        RECORD_TIME\n",
       "0  2021-11-11 14:00\n",
       "1  2021-11-11 13:30"
      ]
     },
     "execution_count": 3,
     "metadata": {},
     "output_type": "execute_result"
    }
   ],
   "source": [
    "timestamps"
   ]
  },
  {
   "cell_type": "code",
   "execution_count": 4,
   "id": "alternate-victory",
   "metadata": {
    "execution": {
     "iopub.execute_input": "2021-11-11T13:00:09.575909Z",
     "iopub.status.busy": "2021-11-11T13:00:09.573763Z",
     "iopub.status.idle": "2021-11-11T13:00:10.735918Z",
     "shell.execute_reply": "2021-11-11T13:00:10.737913Z"
    },
    "papermill": {
     "duration": 1.197598,
     "end_time": "2021-11-11T13:00:10.738519",
     "exception": false,
     "start_time": "2021-11-11T13:00:09.540921",
     "status": "completed"
    },
    "tags": []
   },
   "outputs": [],
   "source": [
    "df = pd.read_sql(\"select * from EBAY_TOP_BERLIN where record_time in (select distinct record_time from EBAY_TOP_BERLIN order by record_time desc limit 2)\", sqlite3.connect(\"UsedObjects.db\"))"
   ]
  },
  {
   "cell_type": "code",
   "execution_count": 5,
   "id": "popular-active",
   "metadata": {
    "execution": {
     "iopub.execute_input": "2021-11-11T13:00:10.839562Z",
     "iopub.status.busy": "2021-11-11T13:00:10.825656Z",
     "iopub.status.idle": "2021-11-11T13:00:10.861396Z",
     "shell.execute_reply": "2021-11-11T13:00:10.859538Z"
    },
    "papermill": {
     "duration": 0.090261,
     "end_time": "2021-11-11T13:00:10.861847",
     "exception": false,
     "start_time": "2021-11-11T13:00:10.771586",
     "status": "completed"
    },
    "tags": []
   },
   "outputs": [],
   "source": [
    "df_pivot = df.pivot_table(index=\"PRODUCT\", columns = \"RECORD_TIME\", values = \"LISTING_COUNT\")"
   ]
  },
  {
   "cell_type": "code",
   "execution_count": 6,
   "id": "union-huntington",
   "metadata": {
    "execution": {
     "iopub.execute_input": "2021-11-11T13:00:10.923984Z",
     "iopub.status.busy": "2021-11-11T13:00:10.921416Z",
     "iopub.status.idle": "2021-11-11T13:00:10.927112Z",
     "shell.execute_reply": "2021-11-11T13:00:10.928649Z"
    },
    "papermill": {
     "duration": 0.045763,
     "end_time": "2021-11-11T13:00:10.929240",
     "exception": false,
     "start_time": "2021-11-11T13:00:10.883477",
     "status": "completed"
    },
    "tags": []
   },
   "outputs": [],
   "source": [
    "df_pivot.columns = [\"stamp_1\", \"stamp_2\"]\n",
    "df_pivot_diff = df_pivot.diff(axis=1)"
   ]
  },
  {
   "cell_type": "code",
   "execution_count": 7,
   "id": "fifth-motion",
   "metadata": {
    "execution": {
     "iopub.execute_input": "2021-11-11T13:00:10.995263Z",
     "iopub.status.busy": "2021-11-11T13:00:10.983112Z",
     "iopub.status.idle": "2021-11-11T13:00:12.905400Z",
     "shell.execute_reply": "2021-11-11T13:00:12.907316Z"
    },
    "papermill": {
     "duration": 1.958377,
     "end_time": "2021-11-11T13:00:12.907992",
     "exception": false,
     "start_time": "2021-11-11T13:00:10.949615",
     "status": "completed"
    },
    "tags": []
   },
   "outputs": [
    {
     "data": {
      "text/plain": [
       "<AxesSubplot:ylabel='PRODUCT'>"
      ]
     },
     "execution_count": 7,
     "metadata": {},
     "output_type": "execute_result"
    },
    {
     "data": {
      "image/png": "[encoded data removed]",
      "text/plain": [
       "<Figure size 432x288 with 1 Axes>"
      ]
     },
     "metadata": {
      "needs_background": "light"
     },
     "output_type": "display_data"
    }
   ],
   "source": [
    "df_pivot_diff.sort_values(\"stamp_2\", ascending = False)[\"stamp_2\"].head(10).plot.barh()"
   ]
  },
  {
   "cell_type": "code",
   "execution_count": null,
   "id": "extra-executive",
   "metadata": {
    "papermill": {
     "duration": 0.02228,
     "end_time": "2021-11-11T13:00:12.955267",
     "exception": false,
     "start_time": "2021-11-11T13:00:12.932987",
     "status": "completed"
    },
    "tags": []
   },
   "outputs": [],
   "source": []
  }
 ],
 "metadata": {
  "kernelspec": {
   "display_name": "Python 3",
   "language": "python",
   "name": "python3"
  },
  "language_info": {
   "codemirror_mode": {
    "name": "ipython",
    "version": 3
   },
   "file_extension": ".py",
   "mimetype": "text/x-python",
   "name": "python",
   "nbconvert_exporter": "python",
   "pygments_lexer": "ipython3",
   "version": "3.9.5"
  },
  "papermill": {
   "default_parameters": {},
   "duration": 8.923579,
   "end_time": "2021-11-11T13:00:13.801956",
   "environment_variables": {},
   "exception": null,
   "input_path": "eBay_Overview.ipynb",
   "output_path": "eBay_Overview.ipynb",
   "parameters": {},
   "start_time": "2021-11-11T13:00:04.878377",
   "version": "2.3.3"
  }
 },
 "nbformat": 4,
 "nbformat_minor": 5
}