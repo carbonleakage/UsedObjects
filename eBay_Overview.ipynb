{
 "cells": [
  {
   "cell_type": "code",
   "execution_count": 1,
   "id": "reverse-picking",
   "metadata": {
    "execution": {
     "iopub.execute_input": "2021-08-12T12:30:04.180357Z",
     "iopub.status.busy": "2021-08-12T12:30:04.179595Z",
     "iopub.status.idle": "2021-08-12T12:30:04.795737Z",
     "shell.execute_reply": "2021-08-12T12:30:04.796275Z"
    },
    "papermill": {
     "duration": 0.636238,
     "end_time": "2021-08-12T12:30:04.796557",
     "exception": false,
     "start_time": "2021-08-12T12:30:04.160319",
     "status": "completed"
    },
    "tags": []
   },
   "outputs": [],
   "source": [
    "import pandas as pd\n",
    "import sqlite3"
   ]
  },
  {
   "cell_type": "code",
   "execution_count": 2,
   "id": "innovative-syndrome",
   "metadata": {
    "execution": {
     "iopub.execute_input": "2021-08-12T12:30:04.819306Z",
     "iopub.status.busy": "2021-08-12T12:30:04.818534Z",
     "iopub.status.idle": "2021-08-12T12:30:05.034529Z",
     "shell.execute_reply": "2021-08-12T12:30:05.033917Z"
    },
    "papermill": {
     "duration": 0.229543,
     "end_time": "2021-08-12T12:30:05.034692",
     "exception": false,
     "start_time": "2021-08-12T12:30:04.805149",
     "status": "completed"
    },
    "tags": []
   },
   "outputs": [],
   "source": [
    "timestamps = pd.read_sql(\"select distinct record_time from EBAY_TOP_BERLIN order by record_time desc limit 2\", sqlite3.connect(\"UsedObjects.db\"))"
   ]
  },
  {
   "cell_type": "code",
   "execution_count": 3,
   "id": "periodic-identification",
   "metadata": {
    "execution": {
     "iopub.execute_input": "2021-08-12T12:30:05.068828Z",
     "iopub.status.busy": "2021-08-12T12:30:05.068052Z",
     "iopub.status.idle": "2021-08-12T12:30:05.083252Z",
     "shell.execute_reply": "2021-08-12T12:30:05.084054Z"
    },
    "papermill": {
     "duration": 0.038317,
     "end_time": "2021-08-12T12:30:05.084311",
     "exception": false,
     "start_time": "2021-08-12T12:30:05.045994",
     "status": "completed"
    },
    "tags": []
   },
   "outputs": [
    {
     "data": {
      "text/html": [
       "<div>\n",
       "<style scoped>\n",
       "    .dataframe tbody tr th:only-of-type {\n",
       "        vertical-align: middle;\n",
       "    }\n",
       "\n",
       "    .dataframe tbody tr th {\n",
       "        vertical-align: top;\n",
       "    }\n",
       "\n",
       "    .dataframe thead th {\n",
       "        text-align: right;\n",
       "    }\n",
       "</style>\n",
       "<table border=\"1\" class=\"dataframe\">\n",
       "  <thead>\n",
       "    <tr style=\"text-align: right;\">\n",
       "      <th></th>\n",
       "      <th>RECORD_TIME</th>\n",
       "    </tr>\n",
       "  </thead>\n",
       "  <tbody>\n",
       "    <tr>\n",
       "      <th>0</th>\n",
       "      <td>2021-08-12 14:30</td>\n",
       "    </tr>\n",
       "    <tr>\n",
       "      <th>1</th>\n",
       "      <td>2021-08-12 14:00</td>\n",
       "    </tr>\n",
       "  </tbody>\n",
       "</table>\n",
       "</div>"
      ],
      "text/plain": [
       "        RECORD_TIME\n",
       "0  2021-08-12 14:30\n",
       "1  2021-08-12 14:00"
      ]
     },
     "execution_count": 3,
     "metadata": {},
     "output_type": "execute_result"
    }
   ],
   "source": [
    "timestamps"
   ]
  },
  {
   "cell_type": "code",
   "execution_count": 4,
   "id": "alternate-victory",
   "metadata": {
    "execution": {
     "iopub.execute_input": "2021-08-12T12:30:05.107577Z",
     "iopub.status.busy": "2021-08-12T12:30:05.106805Z",
     "iopub.status.idle": "2021-08-12T12:30:05.137064Z",
     "shell.execute_reply": "2021-08-12T12:30:05.137631Z"
    },
    "papermill": {
     "duration": 0.043666,
     "end_time": "2021-08-12T12:30:05.137823",
     "exception": false,
     "start_time": "2021-08-12T12:30:05.094157",
     "status": "completed"
    },
    "tags": []
   },
   "outputs": [],
   "source": [
    "df = pd.read_sql(\"select * from EBAY_TOP_BERLIN where record_time in (select distinct record_time from EBAY_TOP_BERLIN order by record_time desc limit 2)\", sqlite3.connect(\"UsedObjects.db\"))"
   ]
  },
  {
   "cell_type": "code",
   "execution_count": 5,
   "id": "popular-active",
   "metadata": {
    "execution": {
     "iopub.execute_input": "2021-08-12T12:30:05.164147Z",
     "iopub.status.busy": "2021-08-12T12:30:05.163385Z",
     "iopub.status.idle": "2021-08-12T12:30:05.184378Z",
     "shell.execute_reply": "2021-08-12T12:30:05.185046Z"
    },
    "papermill": {
     "duration": 0.03774,
     "end_time": "2021-08-12T12:30:05.185263",
     "exception": false,
     "start_time": "2021-08-12T12:30:05.147523",
     "status": "completed"
    },
    "tags": []
   },
   "outputs": [],
   "source": [
    "df_pivot = df.pivot_table(index=\"PRODUCT\", columns = \"RECORD_TIME\", values = \"LISTING_COUNT\")"
   ]
  },
  {
   "cell_type": "code",
   "execution_count": 6,
   "id": "union-huntington",
   "metadata": {
    "execution": {
     "iopub.execute_input": "2021-08-12T12:30:05.214614Z",
     "iopub.status.busy": "2021-08-12T12:30:05.213934Z",
     "iopub.status.idle": "2021-08-12T12:30:05.220216Z",
     "shell.execute_reply": "2021-08-12T12:30:05.219499Z"
    },
    "papermill": {
     "duration": 0.024526,
     "end_time": "2021-08-12T12:30:05.220393",
     "exception": false,
     "start_time": "2021-08-12T12:30:05.195867",
     "status": "completed"
    },
    "tags": []
   },
   "outputs": [],
   "source": [
    "df_pivot.columns = [\"stamp_1\", \"stamp_2\"]\n",
    "df_pivot_diff = df_pivot.diff(axis=1)"
   ]
  },
  {
   "cell_type": "code",
   "execution_count": 7,
   "id": "fifth-motion",
   "metadata": {
    "execution": {
     "iopub.execute_input": "2021-08-12T12:30:05.254864Z",
     "iopub.status.busy": "2021-08-12T12:30:05.254103Z",
     "iopub.status.idle": "2021-08-12T12:30:05.907233Z",
     "shell.execute_reply": "2021-08-12T12:30:05.906519Z"
    },
    "papermill": {
     "duration": 0.67317,
     "end_time": "2021-08-12T12:30:05.907383",
     "exception": false,
     "start_time": "2021-08-12T12:30:05.234213",
     "status": "completed"
    },
    "tags": []
   },
   "outputs": [
    {
     "data": {
      "text/plain": [
       "<AxesSubplot:ylabel='PRODUCT'>"
      ]
     },
     "execution_count": 7,
     "metadata": {},
     "output_type": "execute_result"
    },
    {
     "data": {
      "image/png": "[encoded data removed]",
      "text/plain": [
       "<Figure size 432x288 with 1 Axes>"
      ]
     },
     "metadata": {
      "needs_background": "light"
     },
     "output_type": "display_data"
    }
   ],
   "source": [
    "df_pivot_diff.sort_values(\"stamp_2\", ascending = False)[\"stamp_2\"].head(10).plot.barh()"
   ]
  },
  {
   "cell_type": "code",
   "execution_count": null,
   "id": "extra-executive",
   "metadata": {
    "papermill": {
     "duration": 0.011776,
     "end_time": "2021-08-12T12:30:05.932957",
     "exception": false,
     "start_time": "2021-08-12T12:30:05.921181",
     "status": "completed"
    },
    "tags": []
   },
   "outputs": [],
   "source": []
  }
 ],
 "metadata": {
  "kernelspec": {
   "display_name": "Python 3",
   "language": "python",
   "name": "python3"
  },
  "language_info": {
   "codemirror_mode": {
    "name": "ipython",
    "version": 3
   },
   "file_extension": ".py",
   "mimetype": "text/x-python",
   "name": "python",
   "nbconvert_exporter": "python",
   "pygments_lexer": "ipython3",
   "version": "3.8.8"
  },
  "papermill": {
   "default_parameters": {},
   "duration": 5.051084,
   "end_time": "2021-08-12T12:30:07.500259",
   "environment_variables": {},
   "exception": null,
   "input_path": "/Users/saravananshanmugam/Carbonleakage_Git/UsedObjects/eBay_Overview.ipynb",
   "output_path": "/Users/saravananshanmugam/Carbonleakage_Git/UsedObjects/eBay_Overview.ipynb",
   "parameters": {},
   "start_time": "2021-08-12T12:30:02.449175",
   "version": "2.3.3"
  }
 },
 "nbformat": 4,
 "nbformat_minor": 5
}