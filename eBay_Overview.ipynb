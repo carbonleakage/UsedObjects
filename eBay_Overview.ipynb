{
 "cells": [
  {
   "cell_type": "code",
   "execution_count": 1,
   "id": "reverse-picking",
   "metadata": {
    "execution": {
     "iopub.execute_input": "2021-09-21T05:30:07.038087Z",
     "iopub.status.busy": "2021-09-21T05:30:07.036541Z",
     "iopub.status.idle": "2021-09-21T05:30:07.843403Z",
     "shell.execute_reply": "2021-09-21T05:30:07.844641Z"
    },
    "papermill": {
     "duration": 0.858133,
     "end_time": "2021-09-21T05:30:07.845254",
     "exception": false,
     "start_time": "2021-09-21T05:30:06.987121",
     "status": "completed"
    },
    "tags": []
   },
   "outputs": [],
   "source": [
    "import pandas as pd\n",
    "import sqlite3"
   ]
  },
  {
   "cell_type": "code",
   "execution_count": 2,
   "id": "innovative-syndrome",
   "metadata": {
    "execution": {
     "iopub.execute_input": "2021-09-21T05:30:07.895401Z",
     "iopub.status.busy": "2021-09-21T05:30:07.893302Z",
     "iopub.status.idle": "2021-09-21T05:30:08.234385Z",
     "shell.execute_reply": "2021-09-21T05:30:08.235616Z"
    },
    "papermill": {
     "duration": 0.370227,
     "end_time": "2021-09-21T05:30:08.236048",
     "exception": false,
     "start_time": "2021-09-21T05:30:07.865821",
     "status": "completed"
    },
    "tags": []
   },
   "outputs": [],
   "source": [
    "timestamps = pd.read_sql(\"select distinct record_time from EBAY_TOP_BERLIN order by record_time desc limit 2\", sqlite3.connect(\"UsedObjects.db\"))"
   ]
  },
  {
   "cell_type": "code",
   "execution_count": 3,
   "id": "periodic-identification",
   "metadata": {
    "execution": {
     "iopub.execute_input": "2021-09-21T05:30:08.300930Z",
     "iopub.status.busy": "2021-09-21T05:30:08.298918Z",
     "iopub.status.idle": "2021-09-21T05:30:08.319077Z",
     "shell.execute_reply": "2021-09-21T05:30:08.320191Z"
    },
    "papermill": {
     "duration": 0.064462,
     "end_time": "2021-09-21T05:30:08.320593",
     "exception": false,
     "start_time": "2021-09-21T05:30:08.256131",
     "status": "completed"
    },
    "tags": []
   },
   "outputs": [
    {
     "data": {
      "text/html": [
       "<div>\n",
       "<style scoped>\n",
       "    .dataframe tbody tr th:only-of-type {\n",
       "        vertical-align: middle;\n",
       "    }\n",
       "\n",
       "    .dataframe tbody tr th {\n",
       "        vertical-align: top;\n",
       "    }\n",
       "\n",
       "    .dataframe thead th {\n",
       "        text-align: right;\n",
       "    }\n",
       "</style>\n",
       "<table border=\"1\" class=\"dataframe\">\n",
       "  <thead>\n",
       "    <tr style=\"text-align: right;\">\n",
       "      <th></th>\n",
       "      <th>RECORD_TIME</th>\n",
       "    </tr>\n",
       "  </thead>\n",
       "  <tbody>\n",
       "    <tr>\n",
       "      <th>0</th>\n",
       "      <td>2021-09-21 07:30</td>\n",
       "    </tr>\n",
       "    <tr>\n",
       "      <th>1</th>\n",
       "      <td>2021-09-21 07:00</td>\n",
       "    </tr>\n",
       "  </tbody>\n",
       "</table>\n",
       "</div>"
      ],
      "text/plain": [
       "        RECORD_TIME\n",
       "0  2021-09-21 07:30\n",
       "1  2021-09-21 07:00"
      ]
     },
     "execution_count": 3,
     "metadata": {},
     "output_type": "execute_result"
    }
   ],
   "source": [
    "timestamps"
   ]
  },
  {
   "cell_type": "code",
   "execution_count": 4,
   "id": "alternate-victory",
   "metadata": {
    "execution": {
     "iopub.execute_input": "2021-09-21T05:30:08.373965Z",
     "iopub.status.busy": "2021-09-21T05:30:08.371731Z",
     "iopub.status.idle": "2021-09-21T05:30:08.882116Z",
     "shell.execute_reply": "2021-09-21T05:30:08.883370Z"
    },
    "papermill": {
     "duration": 0.540236,
     "end_time": "2021-09-21T05:30:08.883771",
     "exception": false,
     "start_time": "2021-09-21T05:30:08.343535",
     "status": "completed"
    },
    "tags": []
   },
   "outputs": [],
   "source": [
    "df = pd.read_sql(\"select * from EBAY_TOP_BERLIN where record_time in (select distinct record_time from EBAY_TOP_BERLIN order by record_time desc limit 2)\", sqlite3.connect(\"UsedObjects.db\"))"
   ]
  },
  {
   "cell_type": "code",
   "execution_count": 5,
   "id": "popular-active",
   "metadata": {
    "execution": {
     "iopub.execute_input": "2021-09-21T05:30:08.954182Z",
     "iopub.status.busy": "2021-09-21T05:30:08.940932Z",
     "iopub.status.idle": "2021-09-21T05:30:08.969894Z",
     "shell.execute_reply": "2021-09-21T05:30:08.971216Z"
    },
    "papermill": {
     "duration": 0.067709,
     "end_time": "2021-09-21T05:30:08.971632",
     "exception": false,
     "start_time": "2021-09-21T05:30:08.903923",
     "status": "completed"
    },
    "tags": []
   },
   "outputs": [],
   "source": [
    "df_pivot = df.pivot_table(index=\"PRODUCT\", columns = \"RECORD_TIME\", values = \"LISTING_COUNT\")"
   ]
  },
  {
   "cell_type": "code",
   "execution_count": 6,
   "id": "union-huntington",
   "metadata": {
    "execution": {
     "iopub.execute_input": "2021-09-21T05:30:09.027177Z",
     "iopub.status.busy": "2021-09-21T05:30:09.025095Z",
     "iopub.status.idle": "2021-09-21T05:30:09.030387Z",
     "shell.execute_reply": "2021-09-21T05:30:09.031615Z"
    },
    "papermill": {
     "duration": 0.040524,
     "end_time": "2021-09-21T05:30:09.032042",
     "exception": false,
     "start_time": "2021-09-21T05:30:08.991518",
     "status": "completed"
    },
    "tags": []
   },
   "outputs": [],
   "source": [
    "df_pivot.columns = [\"stamp_1\", \"stamp_2\"]\n",
    "df_pivot_diff = df_pivot.diff(axis=1)"
   ]
  },
  {
   "cell_type": "code",
   "execution_count": 7,
   "id": "fifth-motion",
   "metadata": {
    "execution": {
     "iopub.execute_input": "2021-09-21T05:30:09.085442Z",
     "iopub.status.busy": "2021-09-21T05:30:09.083095Z",
     "iopub.status.idle": "2021-09-21T05:30:10.596805Z",
     "shell.execute_reply": "2021-09-21T05:30:10.598054Z"
    },
    "papermill": {
     "duration": 1.546249,
     "end_time": "2021-09-21T05:30:10.598503",
     "exception": false,
     "start_time": "2021-09-21T05:30:09.052254",
     "status": "completed"
    },
    "tags": []
   },
   "outputs": [
    {
     "data": {
      "text/plain": [
       "<AxesSubplot:ylabel='PRODUCT'>"
      ]
     },
     "execution_count": 7,
     "metadata": {},
     "output_type": "execute_result"
    },
    {
     "data": {
      "image/png": "[encoded data removed]",
      "text/plain": [
       "<Figure size 432x288 with 1 Axes>"
      ]
     },
     "metadata": {
      "needs_background": "light"
     },
     "output_type": "display_data"
    }
   ],
   "source": [
    "df_pivot_diff.sort_values(\"stamp_2\", ascending = False)[\"stamp_2\"].head(10).plot.barh()"
   ]
  },
  {
   "cell_type": "code",
   "execution_count": null,
   "id": "extra-executive",
   "metadata": {
    "papermill": {
     "duration": 0.02212,
     "end_time": "2021-09-21T05:30:10.644756",
     "exception": false,
     "start_time": "2021-09-21T05:30:10.622636",
     "status": "completed"
    },
    "tags": []
   },
   "outputs": [],
   "source": []
  }
 ],
 "metadata": {
  "kernelspec": {
   "display_name": "Python 3",
   "language": "python",
   "name": "python3"
  },
  "language_info": {
   "codemirror_mode": {
    "name": "ipython",
    "version": 3
   },
   "file_extension": ".py",
   "mimetype": "text/x-python",
   "name": "python",
   "nbconvert_exporter": "python",
   "pygments_lexer": "ipython3",
   "version": "3.9.5"
  },
  "papermill": {
   "default_parameters": {},
   "duration": 6.70514,
   "end_time": "2021-09-21T05:30:11.288092",
   "environment_variables": {},
   "exception": null,
   "input_path": "eBay_Overview.ipynb",
   "output_path": "eBay_Overview.ipynb",
   "parameters": {},
   "start_time": "2021-09-21T05:30:04.582952",
   "version": "2.3.3"
  }
 },
 "nbformat": 4,
 "nbformat_minor": 5
}