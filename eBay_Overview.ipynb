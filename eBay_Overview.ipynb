{
 "cells": [
  {
   "cell_type": "code",
   "execution_count": 1,
   "id": "reverse-picking",
   "metadata": {
    "execution": {
     "iopub.execute_input": "2021-11-10T16:00:08.209005Z",
     "iopub.status.busy": "2021-11-10T16:00:08.206660Z",
     "iopub.status.idle": "2021-11-10T16:00:09.157562Z",
     "shell.execute_reply": "2021-11-10T16:00:09.159208Z"
    },
    "papermill": {
     "duration": 1.00121,
     "end_time": "2021-11-10T16:00:09.159978",
     "exception": false,
     "start_time": "2021-11-10T16:00:08.158768",
     "status": "completed"
    },
    "tags": []
   },
   "outputs": [],
   "source": [
    "import pandas as pd\n",
    "import sqlite3"
   ]
  },
  {
   "cell_type": "code",
   "execution_count": 2,
   "id": "innovative-syndrome",
   "metadata": {
    "execution": {
     "iopub.execute_input": "2021-11-10T16:00:09.223091Z",
     "iopub.status.busy": "2021-11-10T16:00:09.220875Z",
     "iopub.status.idle": "2021-11-10T16:00:10.001203Z",
     "shell.execute_reply": "2021-11-10T16:00:10.002627Z"
    },
    "papermill": {
     "duration": 0.814232,
     "end_time": "2021-11-10T16:00:10.003130",
     "exception": false,
     "start_time": "2021-11-10T16:00:09.188898",
     "status": "completed"
    },
    "tags": []
   },
   "outputs": [],
   "source": [
    "timestamps = pd.read_sql(\"select distinct record_time from EBAY_TOP_BERLIN order by record_time desc limit 2\", sqlite3.connect(\"UsedObjects.db\"))"
   ]
  },
  {
   "cell_type": "code",
   "execution_count": 3,
   "id": "periodic-identification",
   "metadata": {
    "execution": {
     "iopub.execute_input": "2021-11-10T16:00:10.078217Z",
     "iopub.status.busy": "2021-11-10T16:00:10.075842Z",
     "iopub.status.idle": "2021-11-10T16:00:10.098930Z",
     "shell.execute_reply": "2021-11-10T16:00:10.100339Z"
    },
    "papermill": {
     "duration": 0.076601,
     "end_time": "2021-11-10T16:00:10.100938",
     "exception": false,
     "start_time": "2021-11-10T16:00:10.024337",
     "status": "completed"
    },
    "tags": []
   },
   "outputs": [
    {
     "data": {
      "text/html": [
       "<div>\n",
       "<style scoped>\n",
       "    .dataframe tbody tr th:only-of-type {\n",
       "        vertical-align: middle;\n",
       "    }\n",
       "\n",
       "    .dataframe tbody tr th {\n",
       "        vertical-align: top;\n",
       "    }\n",
       "\n",
       "    .dataframe thead th {\n",
       "        text-align: right;\n",
       "    }\n",
       "</style>\n",
       "<table border=\"1\" class=\"dataframe\">\n",
       "  <thead>\n",
       "    <tr style=\"text-align: right;\">\n",
       "      <th></th>\n",
       "      <th>RECORD_TIME</th>\n",
       "    </tr>\n",
       "  </thead>\n",
       "  <tbody>\n",
       "    <tr>\n",
       "      <th>0</th>\n",
       "      <td>2021-11-10 17:00</td>\n",
       "    </tr>\n",
       "    <tr>\n",
       "      <th>1</th>\n",
       "      <td>2021-11-10 16:30</td>\n",
       "    </tr>\n",
       "  </tbody>\n",
       "</table>\n",
       "</div>"
      ],
      "text/plain": [
       "        RECORD_TIME\n",
       "0  2021-11-10 17:00\n",
       "1  2021-11-10 16:30"
      ]
     },
     "execution_count": 3,
     "metadata": {},
     "output_type": "execute_result"
    }
   ],
   "source": [
    "timestamps"
   ]
  },
  {
   "cell_type": "code",
   "execution_count": 4,
   "id": "alternate-victory",
   "metadata": {
    "execution": {
     "iopub.execute_input": "2021-11-10T16:00:10.157439Z",
     "iopub.status.busy": "2021-11-10T16:00:10.155334Z",
     "iopub.status.idle": "2021-11-10T16:00:11.299850Z",
     "shell.execute_reply": "2021-11-10T16:00:11.302247Z"
    },
    "papermill": {
     "duration": 1.179971,
     "end_time": "2021-11-10T16:00:11.302991",
     "exception": false,
     "start_time": "2021-11-10T16:00:10.123020",
     "status": "completed"
    },
    "tags": []
   },
   "outputs": [],
   "source": [
    "df = pd.read_sql(\"select * from EBAY_TOP_BERLIN where record_time in (select distinct record_time from EBAY_TOP_BERLIN order by record_time desc limit 2)\", sqlite3.connect(\"UsedObjects.db\"))"
   ]
  },
  {
   "cell_type": "code",
   "execution_count": 5,
   "id": "popular-active",
   "metadata": {
    "execution": {
     "iopub.execute_input": "2021-11-10T16:00:11.381412Z",
     "iopub.status.busy": "2021-11-10T16:00:11.371906Z",
     "iopub.status.idle": "2021-11-10T16:00:11.408169Z",
     "shell.execute_reply": "2021-11-10T16:00:11.409672Z"
    },
    "papermill": {
     "duration": 0.080028,
     "end_time": "2021-11-10T16:00:11.410147",
     "exception": false,
     "start_time": "2021-11-10T16:00:11.330119",
     "status": "completed"
    },
    "tags": []
   },
   "outputs": [],
   "source": [
    "df_pivot = df.pivot_table(index=\"PRODUCT\", columns = \"RECORD_TIME\", values = \"LISTING_COUNT\")"
   ]
  },
  {
   "cell_type": "code",
   "execution_count": 6,
   "id": "union-huntington",
   "metadata": {
    "execution": {
     "iopub.execute_input": "2021-11-10T16:00:11.469178Z",
     "iopub.status.busy": "2021-11-10T16:00:11.466986Z",
     "iopub.status.idle": "2021-11-10T16:00:11.472817Z",
     "shell.execute_reply": "2021-11-10T16:00:11.474147Z"
    },
    "papermill": {
     "duration": 0.044128,
     "end_time": "2021-11-10T16:00:11.474584",
     "exception": false,
     "start_time": "2021-11-10T16:00:11.430456",
     "status": "completed"
    },
    "tags": []
   },
   "outputs": [],
   "source": [
    "df_pivot.columns = [\"stamp_1\", \"stamp_2\"]\n",
    "df_pivot_diff = df_pivot.diff(axis=1)"
   ]
  },
  {
   "cell_type": "code",
   "execution_count": 7,
   "id": "fifth-motion",
   "metadata": {
    "execution": {
     "iopub.execute_input": "2021-11-10T16:00:11.532137Z",
     "iopub.status.busy": "2021-11-10T16:00:11.529510Z",
     "iopub.status.idle": "2021-11-10T16:00:13.409850Z",
     "shell.execute_reply": "2021-11-10T16:00:13.411946Z"
    },
    "papermill": {
     "duration": 1.917485,
     "end_time": "2021-11-10T16:00:13.412617",
     "exception": false,
     "start_time": "2021-11-10T16:00:11.495132",
     "status": "completed"
    },
    "tags": []
   },
   "outputs": [
    {
     "data": {
      "text/plain": [
       "<AxesSubplot:ylabel='PRODUCT'>"
      ]
     },
     "execution_count": 7,
     "metadata": {},
     "output_type": "execute_result"
    },
    {
     "data": {
      "image/png": "[encoded data removed]",
      "text/plain": [
       "<Figure size 432x288 with 1 Axes>"
      ]
     },
     "metadata": {
      "needs_background": "light"
     },
     "output_type": "display_data"
    }
   ],
   "source": [
    "df_pivot_diff.sort_values(\"stamp_2\", ascending = False)[\"stamp_2\"].head(10).plot.barh()"
   ]
  },
  {
   "cell_type": "code",
   "execution_count": null,
   "id": "extra-executive",
   "metadata": {
    "papermill": {
     "duration": 0.028872,
     "end_time": "2021-11-10T16:00:13.470486",
     "exception": false,
     "start_time": "2021-11-10T16:00:13.441614",
     "status": "completed"
    },
    "tags": []
   },
   "outputs": [],
   "source": []
  }
 ],
 "metadata": {
  "kernelspec": {
   "display_name": "Python 3",
   "language": "python",
   "name": "python3"
  },
  "language_info": {
   "codemirror_mode": {
    "name": "ipython",
    "version": 3
   },
   "file_extension": ".py",
   "mimetype": "text/x-python",
   "name": "python",
   "nbconvert_exporter": "python",
   "pygments_lexer": "ipython3",
   "version": "3.9.5"
  },
  "papermill": {
   "default_parameters": {},
   "duration": 8.900246,
   "end_time": "2021-11-10T16:00:14.325461",
   "environment_variables": {},
   "exception": null,
   "input_path": "eBay_Overview.ipynb",
   "output_path": "eBay_Overview.ipynb",
   "parameters": {},
   "start_time": "2021-11-10T16:00:05.425215",
   "version": "2.3.3"
  }
 },
 "nbformat": 4,
 "nbformat_minor": 5
}