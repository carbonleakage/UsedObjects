{
 "cells": [
  {
   "cell_type": "code",
   "execution_count": 1,
   "id": "reverse-picking",
   "metadata": {
    "execution": {
     "iopub.execute_input": "2021-12-05T04:30:07.580638Z",
     "iopub.status.busy": "2021-12-05T04:30:07.578340Z",
     "iopub.status.idle": "2021-12-05T04:30:08.538709Z",
     "shell.execute_reply": "2021-12-05T04:30:08.540199Z"
    },
    "papermill": {
     "duration": 1.010149,
     "end_time": "2021-12-05T04:30:08.540973",
     "exception": false,
     "start_time": "2021-12-05T04:30:07.530824",
     "status": "completed"
    },
    "tags": []
   },
   "outputs": [],
   "source": [
    "import pandas as pd\n",
    "import sqlite3"
   ]
  },
  {
   "cell_type": "code",
   "execution_count": 2,
   "id": "innovative-syndrome",
   "metadata": {
    "execution": {
     "iopub.execute_input": "2021-12-05T04:30:08.606268Z",
     "iopub.status.busy": "2021-12-05T04:30:08.604030Z",
     "iopub.status.idle": "2021-12-05T04:30:09.607526Z",
     "shell.execute_reply": "2021-12-05T04:30:09.609304Z"
    },
    "papermill": {
     "duration": 1.038972,
     "end_time": "2021-12-05T04:30:09.609821",
     "exception": false,
     "start_time": "2021-12-05T04:30:08.570849",
     "status": "completed"
    },
    "tags": []
   },
   "outputs": [],
   "source": [
    "timestamps = pd.read_sql(\"select distinct record_time from EBAY_TOP_BERLIN order by record_time desc limit 2\", sqlite3.connect(\"UsedObjects.db\"))"
   ]
  },
  {
   "cell_type": "code",
   "execution_count": 3,
   "id": "periodic-identification",
   "metadata": {
    "execution": {
     "iopub.execute_input": "2021-12-05T04:30:09.683103Z",
     "iopub.status.busy": "2021-12-05T04:30:09.680829Z",
     "iopub.status.idle": "2021-12-05T04:30:09.703128Z",
     "shell.execute_reply": "2021-12-05T04:30:09.704524Z"
    },
    "papermill": {
     "duration": 0.074202,
     "end_time": "2021-12-05T04:30:09.705074",
     "exception": false,
     "start_time": "2021-12-05T04:30:09.630872",
     "status": "completed"
    },
    "tags": []
   },
   "outputs": [
    {
     "data": {
      "text/html": [
       "<div>\n",
       "<style scoped>\n",
       "    .dataframe tbody tr th:only-of-type {\n",
       "        vertical-align: middle;\n",
       "    }\n",
       "\n",
       "    .dataframe tbody tr th {\n",
       "        vertical-align: top;\n",
       "    }\n",
       "\n",
       "    .dataframe thead th {\n",
       "        text-align: right;\n",
       "    }\n",
       "</style>\n",
       "<table border=\"1\" class=\"dataframe\">\n",
       "  <thead>\n",
       "    <tr style=\"text-align: right;\">\n",
       "      <th></th>\n",
       "      <th>RECORD_TIME</th>\n",
       "    </tr>\n",
       "  </thead>\n",
       "  <tbody>\n",
       "    <tr>\n",
       "      <th>0</th>\n",
       "      <td>2021-12-05 05:30</td>\n",
       "    </tr>\n",
       "    <tr>\n",
       "      <th>1</th>\n",
       "      <td>2021-12-05 05:00</td>\n",
       "    </tr>\n",
       "  </tbody>\n",
       "</table>\n",
       "</div>"
      ],
      "text/plain": [
       "        RECORD_TIME\n",
       "0  2021-12-05 05:30\n",
       "1  2021-12-05 05:00"
      ]
     },
     "execution_count": 3,
     "metadata": {},
     "output_type": "execute_result"
    }
   ],
   "source": [
    "timestamps"
   ]
  },
  {
   "cell_type": "code",
   "execution_count": 4,
   "id": "alternate-victory",
   "metadata": {
    "execution": {
     "iopub.execute_input": "2021-12-05T04:30:09.760403Z",
     "iopub.status.busy": "2021-12-05T04:30:09.758311Z",
     "iopub.status.idle": "2021-12-05T04:30:11.205129Z",
     "shell.execute_reply": "2021-12-05T04:30:11.206726Z"
    },
    "papermill": {
     "duration": 1.480582,
     "end_time": "2021-12-05T04:30:11.207216",
     "exception": false,
     "start_time": "2021-12-05T04:30:09.726634",
     "status": "completed"
    },
    "tags": []
   },
   "outputs": [],
   "source": [
    "df = pd.read_sql(\"select * from EBAY_TOP_BERLIN where record_time in (select distinct record_time from EBAY_TOP_BERLIN order by record_time desc limit 2)\", sqlite3.connect(\"UsedObjects.db\"))"
   ]
  },
  {
   "cell_type": "code",
   "execution_count": 5,
   "id": "popular-active",
   "metadata": {
    "execution": {
     "iopub.execute_input": "2021-12-05T04:30:11.286458Z",
     "iopub.status.busy": "2021-12-05T04:30:11.273803Z",
     "iopub.status.idle": "2021-12-05T04:30:11.304178Z",
     "shell.execute_reply": "2021-12-05T04:30:11.305614Z"
    },
    "papermill": {
     "duration": 0.073969,
     "end_time": "2021-12-05T04:30:11.306097",
     "exception": false,
     "start_time": "2021-12-05T04:30:11.232128",
     "status": "completed"
    },
    "tags": []
   },
   "outputs": [],
   "source": [
    "df_pivot = df.pivot_table(index=\"PRODUCT\", columns = \"RECORD_TIME\", values = \"LISTING_COUNT\")"
   ]
  },
  {
   "cell_type": "code",
   "execution_count": 6,
   "id": "union-huntington",
   "metadata": {
    "execution": {
     "iopub.execute_input": "2021-12-05T04:30:11.370109Z",
     "iopub.status.busy": "2021-12-05T04:30:11.367836Z",
     "iopub.status.idle": "2021-12-05T04:30:11.373873Z",
     "shell.execute_reply": "2021-12-05T04:30:11.375428Z"
    },
    "papermill": {
     "duration": 0.049734,
     "end_time": "2021-12-05T04:30:11.375949",
     "exception": false,
     "start_time": "2021-12-05T04:30:11.326215",
     "status": "completed"
    },
    "tags": []
   },
   "outputs": [],
   "source": [
    "df_pivot.columns = [\"stamp_1\", \"stamp_2\"]\n",
    "df_pivot_diff = df_pivot.diff(axis=1)"
   ]
  },
  {
   "cell_type": "code",
   "execution_count": 7,
   "id": "fifth-motion",
   "metadata": {
    "execution": {
     "iopub.execute_input": "2021-12-05T04:30:11.432969Z",
     "iopub.status.busy": "2021-12-05T04:30:11.429754Z",
     "iopub.status.idle": "2021-12-05T04:30:13.404071Z",
     "shell.execute_reply": "2021-12-05T04:30:13.405930Z"
    },
    "papermill": {
     "duration": 2.008584,
     "end_time": "2021-12-05T04:30:13.406544",
     "exception": false,
     "start_time": "2021-12-05T04:30:11.397960",
     "status": "completed"
    },
    "tags": []
   },
   "outputs": [
    {
     "data": {
      "text/plain": [
       "<AxesSubplot:ylabel='PRODUCT'>"
      ]
     },
     "execution_count": 7,
     "metadata": {},
     "output_type": "execute_result"
    },
    {
     "data": {
      "image/png": "[encoded data removed]",
      "text/plain": [
       "<Figure size 432x288 with 1 Axes>"
      ]
     },
     "metadata": {
      "needs_background": "light"
     },
     "output_type": "display_data"
    }
   ],
   "source": [
    "df_pivot_diff.sort_values(\"stamp_2\", ascending = False)[\"stamp_2\"].head(10).plot.barh()"
   ]
  },
  {
   "cell_type": "code",
   "execution_count": null,
   "id": "extra-executive",
   "metadata": {
    "papermill": {
     "duration": 0.031738,
     "end_time": "2021-12-05T04:30:13.466461",
     "exception": false,
     "start_time": "2021-12-05T04:30:13.434723",
     "status": "completed"
    },
    "tags": []
   },
   "outputs": [],
   "source": []
  }
 ],
 "metadata": {
  "kernelspec": {
   "display_name": "Python 3",
   "language": "python",
   "name": "python3"
  },
  "language_info": {
   "codemirror_mode": {
    "name": "ipython",
    "version": 3
   },
   "file_extension": ".py",
   "mimetype": "text/x-python",
   "name": "python",
   "nbconvert_exporter": "python",
   "pygments_lexer": "ipython3",
   "version": "3.9.5"
  },
  "papermill": {
   "default_parameters": {},
   "duration": 9.933986,
   "end_time": "2021-12-05T04:30:14.731132",
   "environment_variables": {},
   "exception": null,
   "input_path": "eBay_Overview.ipynb",
   "output_path": "eBay_Overview.ipynb",
   "parameters": {},
   "start_time": "2021-12-05T04:30:04.797146",
   "version": "2.3.3"
  }
 },
 "nbformat": 4,
 "nbformat_minor": 5
}