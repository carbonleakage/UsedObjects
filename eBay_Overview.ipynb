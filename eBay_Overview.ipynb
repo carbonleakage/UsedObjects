{
 "cells": [
  {
   "cell_type": "code",
   "execution_count": 1,
   "id": "reverse-picking",
   "metadata": {
    "execution": {
     "iopub.execute_input": "2021-11-23T11:00:07.668517Z",
     "iopub.status.busy": "2021-11-23T11:00:07.652380Z",
     "iopub.status.idle": "2021-11-23T11:00:08.621214Z",
     "shell.execute_reply": "2021-11-23T11:00:08.619243Z"
    },
    "papermill": {
     "duration": 1.000011,
     "end_time": "2021-11-23T11:00:08.621717",
     "exception": false,
     "start_time": "2021-11-23T11:00:07.621706",
     "status": "completed"
    },
    "tags": []
   },
   "outputs": [],
   "source": [
    "import pandas as pd\n",
    "import sqlite3"
   ]
  },
  {
   "cell_type": "code",
   "execution_count": 2,
   "id": "innovative-syndrome",
   "metadata": {
    "execution": {
     "iopub.execute_input": "2021-11-23T11:00:08.682019Z",
     "iopub.status.busy": "2021-11-23T11:00:08.679774Z",
     "iopub.status.idle": "2021-11-23T11:00:09.568857Z",
     "shell.execute_reply": "2021-11-23T11:00:09.570247Z"
    },
    "papermill": {
     "duration": 0.924103,
     "end_time": "2021-11-23T11:00:09.570678",
     "exception": false,
     "start_time": "2021-11-23T11:00:08.646575",
     "status": "completed"
    },
    "tags": []
   },
   "outputs": [],
   "source": [
    "timestamps = pd.read_sql(\"select distinct record_time from EBAY_TOP_BERLIN order by record_time desc limit 2\", sqlite3.connect(\"UsedObjects.db\"))"
   ]
  },
  {
   "cell_type": "code",
   "execution_count": 3,
   "id": "periodic-identification",
   "metadata": {
    "execution": {
     "iopub.execute_input": "2021-11-23T11:00:09.634800Z",
     "iopub.status.busy": "2021-11-23T11:00:09.632746Z",
     "iopub.status.idle": "2021-11-23T11:00:09.655012Z",
     "shell.execute_reply": "2021-11-23T11:00:09.656600Z"
    },
    "papermill": {
     "duration": 0.067256,
     "end_time": "2021-11-23T11:00:09.657171",
     "exception": false,
     "start_time": "2021-11-23T11:00:09.589915",
     "status": "completed"
    },
    "tags": []
   },
   "outputs": [
    {
     "data": {
      "text/html": [
       "<div>\n",
       "<style scoped>\n",
       "    .dataframe tbody tr th:only-of-type {\n",
       "        vertical-align: middle;\n",
       "    }\n",
       "\n",
       "    .dataframe tbody tr th {\n",
       "        vertical-align: top;\n",
       "    }\n",
       "\n",
       "    .dataframe thead th {\n",
       "        text-align: right;\n",
       "    }\n",
       "</style>\n",
       "<table border=\"1\" class=\"dataframe\">\n",
       "  <thead>\n",
       "    <tr style=\"text-align: right;\">\n",
       "      <th></th>\n",
       "      <th>RECORD_TIME</th>\n",
       "    </tr>\n",
       "  </thead>\n",
       "  <tbody>\n",
       "    <tr>\n",
       "      <th>0</th>\n",
       "      <td>2021-11-23 12:00</td>\n",
       "    </tr>\n",
       "    <tr>\n",
       "      <th>1</th>\n",
       "      <td>2021-11-23 11:30</td>\n",
       "    </tr>\n",
       "  </tbody>\n",
       "</table>\n",
       "</div>"
      ],
      "text/plain": [
       "        RECORD_TIME\n",
       "0  2021-11-23 12:00\n",
       "1  2021-11-23 11:30"
      ]
     },
     "execution_count": 3,
     "metadata": {},
     "output_type": "execute_result"
    }
   ],
   "source": [
    "timestamps"
   ]
  },
  {
   "cell_type": "code",
   "execution_count": 4,
   "id": "alternate-victory",
   "metadata": {
    "execution": {
     "iopub.execute_input": "2021-11-23T11:00:09.711606Z",
     "iopub.status.busy": "2021-11-23T11:00:09.709287Z",
     "iopub.status.idle": "2021-11-23T11:00:11.000765Z",
     "shell.execute_reply": "2021-11-23T11:00:11.002467Z"
    },
    "papermill": {
     "duration": 1.324896,
     "end_time": "2021-11-23T11:00:11.002966",
     "exception": false,
     "start_time": "2021-11-23T11:00:09.678070",
     "status": "completed"
    },
    "tags": []
   },
   "outputs": [],
   "source": [
    "df = pd.read_sql(\"select * from EBAY_TOP_BERLIN where record_time in (select distinct record_time from EBAY_TOP_BERLIN order by record_time desc limit 2)\", sqlite3.connect(\"UsedObjects.db\"))"
   ]
  },
  {
   "cell_type": "code",
   "execution_count": 5,
   "id": "popular-active",
   "metadata": {
    "execution": {
     "iopub.execute_input": "2021-11-23T11:00:11.081061Z",
     "iopub.status.busy": "2021-11-23T11:00:11.063781Z",
     "iopub.status.idle": "2021-11-23T11:00:11.108774Z",
     "shell.execute_reply": "2021-11-23T11:00:11.110485Z"
    },
    "papermill": {
     "duration": 0.086191,
     "end_time": "2021-11-23T11:00:11.110991",
     "exception": false,
     "start_time": "2021-11-23T11:00:11.024800",
     "status": "completed"
    },
    "tags": []
   },
   "outputs": [],
   "source": [
    "df_pivot = df.pivot_table(index=\"PRODUCT\", columns = \"RECORD_TIME\", values = \"LISTING_COUNT\")"
   ]
  },
  {
   "cell_type": "code",
   "execution_count": 6,
   "id": "union-huntington",
   "metadata": {
    "execution": {
     "iopub.execute_input": "2021-11-23T11:00:11.170814Z",
     "iopub.status.busy": "2021-11-23T11:00:11.168532Z",
     "iopub.status.idle": "2021-11-23T11:00:11.173921Z",
     "shell.execute_reply": "2021-11-23T11:00:11.175403Z"
    },
    "papermill": {
     "duration": 0.043236,
     "end_time": "2021-11-23T11:00:11.175876",
     "exception": false,
     "start_time": "2021-11-23T11:00:11.132640",
     "status": "completed"
    },
    "tags": []
   },
   "outputs": [],
   "source": [
    "df_pivot.columns = [\"stamp_1\", \"stamp_2\"]\n",
    "df_pivot_diff = df_pivot.diff(axis=1)"
   ]
  },
  {
   "cell_type": "code",
   "execution_count": 7,
   "id": "fifth-motion",
   "metadata": {
    "execution": {
     "iopub.execute_input": "2021-11-23T11:00:11.232324Z",
     "iopub.status.busy": "2021-11-23T11:00:11.229573Z",
     "iopub.status.idle": "2021-11-23T11:00:13.192628Z",
     "shell.execute_reply": "2021-11-23T11:00:13.194618Z"
    },
    "papermill": {
     "duration": 1.999619,
     "end_time": "2021-11-23T11:00:13.195254",
     "exception": false,
     "start_time": "2021-11-23T11:00:11.195635",
     "status": "completed"
    },
    "tags": []
   },
   "outputs": [
    {
     "data": {
      "text/plain": [
       "<AxesSubplot:ylabel='PRODUCT'>"
      ]
     },
     "execution_count": 7,
     "metadata": {},
     "output_type": "execute_result"
    },
    {
     "data": {
      "image/png": "[encoded data removed]",
      "text/plain": [
       "<Figure size 432x288 with 1 Axes>"
      ]
     },
     "metadata": {
      "needs_background": "light"
     },
     "output_type": "display_data"
    }
   ],
   "source": [
    "df_pivot_diff.sort_values(\"stamp_2\", ascending = False)[\"stamp_2\"].head(10).plot.barh()"
   ]
  },
  {
   "cell_type": "code",
   "execution_count": null,
   "id": "extra-executive",
   "metadata": {
    "papermill": {
     "duration": 0.025153,
     "end_time": "2021-11-23T11:00:13.248753",
     "exception": false,
     "start_time": "2021-11-23T11:00:13.223600",
     "status": "completed"
    },
    "tags": []
   },
   "outputs": [],
   "source": []
  }
 ],
 "metadata": {
  "kernelspec": {
   "display_name": "Python 3",
   "language": "python",
   "name": "python3"
  },
  "language_info": {
   "codemirror_mode": {
    "name": "ipython",
    "version": 3
   },
   "file_extension": ".py",
   "mimetype": "text/x-python",
   "name": "python",
   "nbconvert_exporter": "python",
   "pygments_lexer": "ipython3",
   "version": "3.9.5"
  },
  "papermill": {
   "default_parameters": {},
   "duration": 9.932057,
   "end_time": "2021-11-23T11:00:14.836150",
   "environment_variables": {},
   "exception": null,
   "input_path": "eBay_Overview.ipynb",
   "output_path": "eBay_Overview.ipynb",
   "parameters": {},
   "start_time": "2021-11-23T11:00:04.904093",
   "version": "2.3.3"
  }
 },
 "nbformat": 4,
 "nbformat_minor": 5
}