{
 "cells": [
  {
   "cell_type": "code",
   "execution_count": 1,
   "id": "reverse-picking",
   "metadata": {
    "execution": {
     "iopub.execute_input": "2021-12-13T04:00:08.344199Z",
     "iopub.status.busy": "2021-12-13T04:00:08.341998Z",
     "iopub.status.idle": "2021-12-13T04:00:09.305890Z",
     "shell.execute_reply": "2021-12-13T04:00:09.303897Z"
    },
    "papermill": {
     "duration": 1.008984,
     "end_time": "2021-12-13T04:00:09.306374",
     "exception": false,
     "start_time": "2021-12-13T04:00:08.297390",
     "status": "completed"
    },
    "tags": []
   },
   "outputs": [],
   "source": [
    "import pandas as pd\n",
    "import sqlite3"
   ]
  },
  {
   "cell_type": "code",
   "execution_count": 2,
   "id": "innovative-syndrome",
   "metadata": {
    "execution": {
     "iopub.execute_input": "2021-12-13T04:00:09.430935Z",
     "iopub.status.busy": "2021-12-13T04:00:09.428153Z",
     "iopub.status.idle": "2021-12-13T04:00:10.523757Z",
     "shell.execute_reply": "2021-12-13T04:00:10.525321Z"
    },
    "papermill": {
     "duration": 1.131605,
     "end_time": "2021-12-13T04:00:10.525834",
     "exception": false,
     "start_time": "2021-12-13T04:00:09.394229",
     "status": "completed"
    },
    "tags": []
   },
   "outputs": [],
   "source": [
    "timestamps = pd.read_sql(\"select distinct record_time from EBAY_TOP_BERLIN order by record_time desc limit 2\", sqlite3.connect(\"UsedObjects.db\"))"
   ]
  },
  {
   "cell_type": "code",
   "execution_count": 3,
   "id": "periodic-identification",
   "metadata": {
    "execution": {
     "iopub.execute_input": "2021-12-13T04:00:10.599387Z",
     "iopub.status.busy": "2021-12-13T04:00:10.593783Z",
     "iopub.status.idle": "2021-12-13T04:00:10.616720Z",
     "shell.execute_reply": "2021-12-13T04:00:10.618633Z"
    },
    "papermill": {
     "duration": 0.073141,
     "end_time": "2021-12-13T04:00:10.619087",
     "exception": false,
     "start_time": "2021-12-13T04:00:10.545946",
     "status": "completed"
    },
    "tags": []
   },
   "outputs": [
    {
     "data": {
      "text/html": [
       "<div>\n",
       "<style scoped>\n",
       "    .dataframe tbody tr th:only-of-type {\n",
       "        vertical-align: middle;\n",
       "    }\n",
       "\n",
       "    .dataframe tbody tr th {\n",
       "        vertical-align: top;\n",
       "    }\n",
       "\n",
       "    .dataframe thead th {\n",
       "        text-align: right;\n",
       "    }\n",
       "</style>\n",
       "<table border=\"1\" class=\"dataframe\">\n",
       "  <thead>\n",
       "    <tr style=\"text-align: right;\">\n",
       "      <th></th>\n",
       "      <th>RECORD_TIME</th>\n",
       "    </tr>\n",
       "  </thead>\n",
       "  <tbody>\n",
       "    <tr>\n",
       "      <th>0</th>\n",
       "      <td>2021-12-13 05:00</td>\n",
       "    </tr>\n",
       "    <tr>\n",
       "      <th>1</th>\n",
       "      <td>2021-12-13 04:30</td>\n",
       "    </tr>\n",
       "  </tbody>\n",
       "</table>\n",
       "</div>"
      ],
      "text/plain": [
       "        RECORD_TIME\n",
       "0  2021-12-13 05:00\n",
       "1  2021-12-13 04:30"
      ]
     },
     "execution_count": 3,
     "metadata": {},
     "output_type": "execute_result"
    }
   ],
   "source": [
    "timestamps"
   ]
  },
  {
   "cell_type": "code",
   "execution_count": 4,
   "id": "alternate-victory",
   "metadata": {
    "execution": {
     "iopub.execute_input": "2021-12-13T04:00:10.673500Z",
     "iopub.status.busy": "2021-12-13T04:00:10.671143Z",
     "iopub.status.idle": "2021-12-13T04:00:12.227345Z",
     "shell.execute_reply": "2021-12-13T04:00:12.229765Z"
    },
    "papermill": {
     "duration": 1.590157,
     "end_time": "2021-12-13T04:00:12.230291",
     "exception": false,
     "start_time": "2021-12-13T04:00:10.640134",
     "status": "completed"
    },
    "tags": []
   },
   "outputs": [],
   "source": [
    "df = pd.read_sql(\"select * from EBAY_TOP_BERLIN where record_time in (select distinct record_time from EBAY_TOP_BERLIN order by record_time desc limit 2)\", sqlite3.connect(\"UsedObjects.db\"))"
   ]
  },
  {
   "cell_type": "code",
   "execution_count": 5,
   "id": "popular-active",
   "metadata": {
    "execution": {
     "iopub.execute_input": "2021-12-13T04:00:12.297743Z",
     "iopub.status.busy": "2021-12-13T04:00:12.295430Z",
     "iopub.status.idle": "2021-12-13T04:00:12.341788Z",
     "shell.execute_reply": "2021-12-13T04:00:12.343526Z"
    },
    "papermill": {
     "duration": 0.091039,
     "end_time": "2021-12-13T04:00:12.344032",
     "exception": false,
     "start_time": "2021-12-13T04:00:12.252993",
     "status": "completed"
    },
    "tags": []
   },
   "outputs": [],
   "source": [
    "df_pivot = df.pivot_table(index=\"PRODUCT\", columns = \"RECORD_TIME\", values = \"LISTING_COUNT\")"
   ]
  },
  {
   "cell_type": "code",
   "execution_count": 6,
   "id": "union-huntington",
   "metadata": {
    "execution": {
     "iopub.execute_input": "2021-12-13T04:00:12.404518Z",
     "iopub.status.busy": "2021-12-13T04:00:12.402270Z",
     "iopub.status.idle": "2021-12-13T04:00:12.408103Z",
     "shell.execute_reply": "2021-12-13T04:00:12.409572Z"
    },
    "papermill": {
     "duration": 0.044073,
     "end_time": "2021-12-13T04:00:12.410055",
     "exception": false,
     "start_time": "2021-12-13T04:00:12.365982",
     "status": "completed"
    },
    "tags": []
   },
   "outputs": [],
   "source": [
    "df_pivot.columns = [\"stamp_1\", \"stamp_2\"]\n",
    "df_pivot_diff = df_pivot.diff(axis=1)"
   ]
  },
  {
   "cell_type": "code",
   "execution_count": 7,
   "id": "fifth-motion",
   "metadata": {
    "execution": {
     "iopub.execute_input": "2021-12-13T04:00:12.466175Z",
     "iopub.status.busy": "2021-12-13T04:00:12.463565Z",
     "iopub.status.idle": "2021-12-13T04:00:14.530386Z",
     "shell.execute_reply": "2021-12-13T04:00:14.532236Z"
    },
    "papermill": {
     "duration": 2.102915,
     "end_time": "2021-12-13T04:00:14.532817",
     "exception": false,
     "start_time": "2021-12-13T04:00:12.429902",
     "status": "completed"
    },
    "tags": []
   },
   "outputs": [
    {
     "data": {
      "text/plain": [
       "<AxesSubplot:ylabel='PRODUCT'>"
      ]
     },
     "execution_count": 7,
     "metadata": {},
     "output_type": "execute_result"
    },
    {
     "data": {
      "image/png": "[encoded data removed]",
      "text/plain": [
       "<Figure size 432x288 with 1 Axes>"
      ]
     },
     "metadata": {
      "needs_background": "light"
     },
     "output_type": "display_data"
    }
   ],
   "source": [
    "df_pivot_diff.sort_values(\"stamp_2\", ascending = False)[\"stamp_2\"].head(10).plot.barh()"
   ]
  },
  {
   "cell_type": "code",
   "execution_count": null,
   "id": "extra-executive",
   "metadata": {
    "papermill": {
     "duration": 0.029424,
     "end_time": "2021-12-13T04:00:14.636650",
     "exception": false,
     "start_time": "2021-12-13T04:00:14.607226",
     "status": "completed"
    },
    "tags": []
   },
   "outputs": [],
   "source": []
  }
 ],
 "metadata": {
  "kernelspec": {
   "display_name": "Python 3",
   "language": "python",
   "name": "python3"
  },
  "language_info": {
   "codemirror_mode": {
    "name": "ipython",
    "version": 3
   },
   "file_extension": ".py",
   "mimetype": "text/x-python",
   "name": "python",
   "nbconvert_exporter": "python",
   "pygments_lexer": "ipython3",
   "version": "3.9.5"
  },
  "papermill": {
   "default_parameters": {},
   "duration": 9.765555,
   "end_time": "2021-12-13T04:00:15.284324",
   "environment_variables": {},
   "exception": null,
   "input_path": "eBay_Overview.ipynb",
   "output_path": "eBay_Overview.ipynb",
   "parameters": {},
   "start_time": "2021-12-13T04:00:05.518769",
   "version": "2.3.3"
  }
 },
 "nbformat": 4,
 "nbformat_minor": 5
}