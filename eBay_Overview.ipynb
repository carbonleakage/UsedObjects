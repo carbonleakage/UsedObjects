{
 "cells": [
  {
   "cell_type": "code",
   "execution_count": 1,
   "id": "reverse-picking",
   "metadata": {
    "execution": {
     "iopub.execute_input": "2021-10-02T01:00:06.926968Z",
     "iopub.status.busy": "2021-10-02T01:00:06.924984Z",
     "iopub.status.idle": "2021-10-02T01:00:07.736388Z",
     "shell.execute_reply": "2021-10-02T01:00:07.734703Z"
    },
    "papermill": {
     "duration": 0.862099,
     "end_time": "2021-10-02T01:00:07.736780",
     "exception": false,
     "start_time": "2021-10-02T01:00:06.874681",
     "status": "completed"
    },
    "tags": []
   },
   "outputs": [],
   "source": [
    "import pandas as pd\n",
    "import sqlite3"
   ]
  },
  {
   "cell_type": "code",
   "execution_count": 2,
   "id": "innovative-syndrome",
   "metadata": {
    "execution": {
     "iopub.execute_input": "2021-10-02T01:00:07.789329Z",
     "iopub.status.busy": "2021-10-02T01:00:07.787185Z",
     "iopub.status.idle": "2021-10-02T01:00:08.221428Z",
     "shell.execute_reply": "2021-10-02T01:00:08.222593Z"
    },
    "papermill": {
     "duration": 0.463841,
     "end_time": "2021-10-02T01:00:08.223081",
     "exception": false,
     "start_time": "2021-10-02T01:00:07.759240",
     "status": "completed"
    },
    "tags": []
   },
   "outputs": [],
   "source": [
    "timestamps = pd.read_sql(\"select distinct record_time from EBAY_TOP_BERLIN order by record_time desc limit 2\", sqlite3.connect(\"UsedObjects.db\"))"
   ]
  },
  {
   "cell_type": "code",
   "execution_count": 3,
   "id": "periodic-identification",
   "metadata": {
    "execution": {
     "iopub.execute_input": "2021-10-02T01:00:08.290066Z",
     "iopub.status.busy": "2021-10-02T01:00:08.288053Z",
     "iopub.status.idle": "2021-10-02T01:00:08.308209Z",
     "shell.execute_reply": "2021-10-02T01:00:08.309523Z"
    },
    "papermill": {
     "duration": 0.067182,
     "end_time": "2021-10-02T01:00:08.309937",
     "exception": false,
     "start_time": "2021-10-02T01:00:08.242755",
     "status": "completed"
    },
    "tags": []
   },
   "outputs": [
    {
     "data": {
      "text/html": [
       "<div>\n",
       "<style scoped>\n",
       "    .dataframe tbody tr th:only-of-type {\n",
       "        vertical-align: middle;\n",
       "    }\n",
       "\n",
       "    .dataframe tbody tr th {\n",
       "        vertical-align: top;\n",
       "    }\n",
       "\n",
       "    .dataframe thead th {\n",
       "        text-align: right;\n",
       "    }\n",
       "</style>\n",
       "<table border=\"1\" class=\"dataframe\">\n",
       "  <thead>\n",
       "    <tr style=\"text-align: right;\">\n",
       "      <th></th>\n",
       "      <th>RECORD_TIME</th>\n",
       "    </tr>\n",
       "  </thead>\n",
       "  <tbody>\n",
       "    <tr>\n",
       "      <th>0</th>\n",
       "      <td>2021-10-02 03:00</td>\n",
       "    </tr>\n",
       "    <tr>\n",
       "      <th>1</th>\n",
       "      <td>2021-10-02 02:30</td>\n",
       "    </tr>\n",
       "  </tbody>\n",
       "</table>\n",
       "</div>"
      ],
      "text/plain": [
       "        RECORD_TIME\n",
       "0  2021-10-02 03:00\n",
       "1  2021-10-02 02:30"
      ]
     },
     "execution_count": 3,
     "metadata": {},
     "output_type": "execute_result"
    }
   ],
   "source": [
    "timestamps"
   ]
  },
  {
   "cell_type": "code",
   "execution_count": 4,
   "id": "alternate-victory",
   "metadata": {
    "execution": {
     "iopub.execute_input": "2021-10-02T01:00:08.378745Z",
     "iopub.status.busy": "2021-10-02T01:00:08.376498Z",
     "iopub.status.idle": "2021-10-02T01:00:09.000846Z",
     "shell.execute_reply": "2021-10-02T01:00:09.002037Z"
    },
    "papermill": {
     "duration": 0.67125,
     "end_time": "2021-10-02T01:00:09.002431",
     "exception": false,
     "start_time": "2021-10-02T01:00:08.331181",
     "status": "completed"
    },
    "tags": []
   },
   "outputs": [],
   "source": [
    "df = pd.read_sql(\"select * from EBAY_TOP_BERLIN where record_time in (select distinct record_time from EBAY_TOP_BERLIN order by record_time desc limit 2)\", sqlite3.connect(\"UsedObjects.db\"))"
   ]
  },
  {
   "cell_type": "code",
   "execution_count": 5,
   "id": "popular-active",
   "metadata": {
    "execution": {
     "iopub.execute_input": "2021-10-02T01:00:09.076275Z",
     "iopub.status.busy": "2021-10-02T01:00:09.064368Z",
     "iopub.status.idle": "2021-10-02T01:00:09.092984Z",
     "shell.execute_reply": "2021-10-02T01:00:09.094616Z"
    },
    "papermill": {
     "duration": 0.069874,
     "end_time": "2021-10-02T01:00:09.095128",
     "exception": false,
     "start_time": "2021-10-02T01:00:09.025254",
     "status": "completed"
    },
    "tags": []
   },
   "outputs": [],
   "source": [
    "df_pivot = df.pivot_table(index=\"PRODUCT\", columns = \"RECORD_TIME\", values = \"LISTING_COUNT\")"
   ]
  },
  {
   "cell_type": "code",
   "execution_count": 6,
   "id": "union-huntington",
   "metadata": {
    "execution": {
     "iopub.execute_input": "2021-10-02T01:00:09.155280Z",
     "iopub.status.busy": "2021-10-02T01:00:09.152718Z",
     "iopub.status.idle": "2021-10-02T01:00:09.158307Z",
     "shell.execute_reply": "2021-10-02T01:00:09.159653Z"
    },
    "papermill": {
     "duration": 0.042418,
     "end_time": "2021-10-02T01:00:09.160078",
     "exception": false,
     "start_time": "2021-10-02T01:00:09.117660",
     "status": "completed"
    },
    "tags": []
   },
   "outputs": [],
   "source": [
    "df_pivot.columns = [\"stamp_1\", \"stamp_2\"]\n",
    "df_pivot_diff = df_pivot.diff(axis=1)"
   ]
  },
  {
   "cell_type": "code",
   "execution_count": 7,
   "id": "fifth-motion",
   "metadata": {
    "execution": {
     "iopub.execute_input": "2021-10-02T01:00:09.214101Z",
     "iopub.status.busy": "2021-10-02T01:00:09.211809Z",
     "iopub.status.idle": "2021-10-02T01:00:10.658704Z",
     "shell.execute_reply": "2021-10-02T01:00:10.660040Z"
    },
    "papermill": {
     "duration": 1.480239,
     "end_time": "2021-10-02T01:00:10.660456",
     "exception": false,
     "start_time": "2021-10-02T01:00:09.180217",
     "status": "completed"
    },
    "tags": []
   },
   "outputs": [
    {
     "data": {
      "text/plain": [
       "<AxesSubplot:ylabel='PRODUCT'>"
      ]
     },
     "execution_count": 7,
     "metadata": {},
     "output_type": "execute_result"
    },
    {
     "data": {
      "image/png": "[encoded data removed]",
      "text/plain": [
       "<Figure size 432x288 with 1 Axes>"
      ]
     },
     "metadata": {
      "needs_background": "light"
     },
     "output_type": "display_data"
    }
   ],
   "source": [
    "df_pivot_diff.sort_values(\"stamp_2\", ascending = False)[\"stamp_2\"].head(10).plot.barh()"
   ]
  },
  {
   "cell_type": "code",
   "execution_count": null,
   "id": "extra-executive",
   "metadata": {
    "papermill": {
     "duration": 0.022138,
     "end_time": "2021-10-02T01:00:10.708176",
     "exception": false,
     "start_time": "2021-10-02T01:00:10.686038",
     "status": "completed"
    },
    "tags": []
   },
   "outputs": [],
   "source": []
  }
 ],
 "metadata": {
  "kernelspec": {
   "display_name": "Python 3",
   "language": "python",
   "name": "python3"
  },
  "language_info": {
   "codemirror_mode": {
    "name": "ipython",
    "version": 3
   },
   "file_extension": ".py",
   "mimetype": "text/x-python",
   "name": "python",
   "nbconvert_exporter": "python",
   "pygments_lexer": "ipython3",
   "version": "3.9.5"
  },
  "papermill": {
   "default_parameters": {},
   "duration": 7.824675,
   "end_time": "2021-10-02T01:00:12.287443",
   "environment_variables": {},
   "exception": null,
   "input_path": "eBay_Overview.ipynb",
   "output_path": "eBay_Overview.ipynb",
   "parameters": {},
   "start_time": "2021-10-02T01:00:04.462768",
   "version": "2.3.3"
  }
 },
 "nbformat": 4,
 "nbformat_minor": 5
}