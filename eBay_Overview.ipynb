{
 "cells": [
  {
   "cell_type": "code",
   "execution_count": 1,
   "id": "reverse-picking",
   "metadata": {
    "execution": {
     "iopub.execute_input": "2021-10-17T16:30:07.209613Z",
     "iopub.status.busy": "2021-10-17T16:30:07.207567Z",
     "iopub.status.idle": "2021-10-17T16:30:08.015659Z",
     "shell.execute_reply": "2021-10-17T16:30:08.014082Z"
    },
    "papermill": {
     "duration": 0.858228,
     "end_time": "2021-10-17T16:30:08.016048",
     "exception": false,
     "start_time": "2021-10-17T16:30:07.157820",
     "status": "completed"
    },
    "tags": []
   },
   "outputs": [],
   "source": [
    "import pandas as pd\n",
    "import sqlite3"
   ]
  },
  {
   "cell_type": "code",
   "execution_count": 2,
   "id": "innovative-syndrome",
   "metadata": {
    "execution": {
     "iopub.execute_input": "2021-10-17T16:30:08.067384Z",
     "iopub.status.busy": "2021-10-17T16:30:08.065509Z",
     "iopub.status.idle": "2021-10-17T16:30:08.633990Z",
     "shell.execute_reply": "2021-10-17T16:30:08.635322Z"
    },
    "papermill": {
     "duration": 0.598124,
     "end_time": "2021-10-17T16:30:08.635738",
     "exception": false,
     "start_time": "2021-10-17T16:30:08.037614",
     "status": "completed"
    },
    "tags": []
   },
   "outputs": [],
   "source": [
    "timestamps = pd.read_sql(\"select distinct record_time from EBAY_TOP_BERLIN order by record_time desc limit 2\", sqlite3.connect(\"UsedObjects.db\"))"
   ]
  },
  {
   "cell_type": "code",
   "execution_count": 3,
   "id": "periodic-identification",
   "metadata": {
    "execution": {
     "iopub.execute_input": "2021-10-17T16:30:08.708305Z",
     "iopub.status.busy": "2021-10-17T16:30:08.706287Z",
     "iopub.status.idle": "2021-10-17T16:30:08.726151Z",
     "shell.execute_reply": "2021-10-17T16:30:08.727413Z"
    },
    "papermill": {
     "duration": 0.067507,
     "end_time": "2021-10-17T16:30:08.727809",
     "exception": false,
     "start_time": "2021-10-17T16:30:08.660302",
     "status": "completed"
    },
    "tags": []
   },
   "outputs": [
    {
     "data": {
      "text/html": [
       "<div>\n",
       "<style scoped>\n",
       "    .dataframe tbody tr th:only-of-type {\n",
       "        vertical-align: middle;\n",
       "    }\n",
       "\n",
       "    .dataframe tbody tr th {\n",
       "        vertical-align: top;\n",
       "    }\n",
       "\n",
       "    .dataframe thead th {\n",
       "        text-align: right;\n",
       "    }\n",
       "</style>\n",
       "<table border=\"1\" class=\"dataframe\">\n",
       "  <thead>\n",
       "    <tr style=\"text-align: right;\">\n",
       "      <th></th>\n",
       "      <th>RECORD_TIME</th>\n",
       "    </tr>\n",
       "  </thead>\n",
       "  <tbody>\n",
       "    <tr>\n",
       "      <th>0</th>\n",
       "      <td>2021-10-17 18:30</td>\n",
       "    </tr>\n",
       "    <tr>\n",
       "      <th>1</th>\n",
       "      <td>2021-10-17 18:00</td>\n",
       "    </tr>\n",
       "  </tbody>\n",
       "</table>\n",
       "</div>"
      ],
      "text/plain": [
       "        RECORD_TIME\n",
       "0  2021-10-17 18:30\n",
       "1  2021-10-17 18:00"
      ]
     },
     "execution_count": 3,
     "metadata": {},
     "output_type": "execute_result"
    }
   ],
   "source": [
    "timestamps"
   ]
  },
  {
   "cell_type": "code",
   "execution_count": 4,
   "id": "alternate-victory",
   "metadata": {
    "execution": {
     "iopub.execute_input": "2021-10-17T16:30:08.779761Z",
     "iopub.status.busy": "2021-10-17T16:30:08.777480Z",
     "iopub.status.idle": "2021-10-17T16:30:09.608191Z",
     "shell.execute_reply": "2021-10-17T16:30:09.609585Z"
    },
    "papermill": {
     "duration": 0.86121,
     "end_time": "2021-10-17T16:30:09.610005",
     "exception": false,
     "start_time": "2021-10-17T16:30:08.748795",
     "status": "completed"
    },
    "tags": []
   },
   "outputs": [],
   "source": [
    "df = pd.read_sql(\"select * from EBAY_TOP_BERLIN where record_time in (select distinct record_time from EBAY_TOP_BERLIN order by record_time desc limit 2)\", sqlite3.connect(\"UsedObjects.db\"))"
   ]
  },
  {
   "cell_type": "code",
   "execution_count": 5,
   "id": "popular-active",
   "metadata": {
    "execution": {
     "iopub.execute_input": "2021-10-17T16:30:09.673456Z",
     "iopub.status.busy": "2021-10-17T16:30:09.666099Z",
     "iopub.status.idle": "2021-10-17T16:30:09.695856Z",
     "shell.execute_reply": "2021-10-17T16:30:09.697298Z"
    },
    "papermill": {
     "duration": 0.067638,
     "end_time": "2021-10-17T16:30:09.697710",
     "exception": false,
     "start_time": "2021-10-17T16:30:09.630072",
     "status": "completed"
    },
    "tags": []
   },
   "outputs": [],
   "source": [
    "df_pivot = df.pivot_table(index=\"PRODUCT\", columns = \"RECORD_TIME\", values = \"LISTING_COUNT\")"
   ]
  },
  {
   "cell_type": "code",
   "execution_count": 6,
   "id": "union-huntington",
   "metadata": {
    "execution": {
     "iopub.execute_input": "2021-10-17T16:30:09.756053Z",
     "iopub.status.busy": "2021-10-17T16:30:09.753607Z",
     "iopub.status.idle": "2021-10-17T16:30:09.759583Z",
     "shell.execute_reply": "2021-10-17T16:30:09.761033Z"
    },
    "papermill": {
     "duration": 0.042499,
     "end_time": "2021-10-17T16:30:09.761488",
     "exception": false,
     "start_time": "2021-10-17T16:30:09.718989",
     "status": "completed"
    },
    "tags": []
   },
   "outputs": [],
   "source": [
    "df_pivot.columns = [\"stamp_1\", \"stamp_2\"]\n",
    "df_pivot_diff = df_pivot.diff(axis=1)"
   ]
  },
  {
   "cell_type": "code",
   "execution_count": 7,
   "id": "fifth-motion",
   "metadata": {
    "execution": {
     "iopub.execute_input": "2021-10-17T16:30:09.816303Z",
     "iopub.status.busy": "2021-10-17T16:30:09.813994Z",
     "iopub.status.idle": "2021-10-17T16:30:11.319866Z",
     "shell.execute_reply": "2021-10-17T16:30:11.321389Z"
    },
    "papermill": {
     "duration": 1.539085,
     "end_time": "2021-10-17T16:30:11.321857",
     "exception": false,
     "start_time": "2021-10-17T16:30:09.782772",
     "status": "completed"
    },
    "tags": []
   },
   "outputs": [
    {
     "data": {
      "text/plain": [
       "<AxesSubplot:ylabel='PRODUCT'>"
      ]
     },
     "execution_count": 7,
     "metadata": {},
     "output_type": "execute_result"
    },
    {
     "data": {
      "image/png": "[encoded data removed]",
      "text/plain": [
       "<Figure size 432x288 with 1 Axes>"
      ]
     },
     "metadata": {
      "needs_background": "light"
     },
     "output_type": "display_data"
    }
   ],
   "source": [
    "df_pivot_diff.sort_values(\"stamp_2\", ascending = False)[\"stamp_2\"].head(10).plot.barh()"
   ]
  },
  {
   "cell_type": "code",
   "execution_count": null,
   "id": "extra-executive",
   "metadata": {
    "papermill": {
     "duration": 0.022253,
     "end_time": "2021-10-17T16:30:11.368831",
     "exception": false,
     "start_time": "2021-10-17T16:30:11.346578",
     "status": "completed"
    },
    "tags": []
   },
   "outputs": [],
   "source": []
  }
 ],
 "metadata": {
  "kernelspec": {
   "display_name": "Python 3",
   "language": "python",
   "name": "python3"
  },
  "language_info": {
   "codemirror_mode": {
    "name": "ipython",
    "version": 3
   },
   "file_extension": ".py",
   "mimetype": "text/x-python",
   "name": "python",
   "nbconvert_exporter": "python",
   "pygments_lexer": "ipython3",
   "version": "3.9.5"
  },
  "papermill": {
   "default_parameters": {},
   "duration": 7.821115,
   "end_time": "2021-10-17T16:30:12.574739",
   "environment_variables": {},
   "exception": null,
   "input_path": "eBay_Overview.ipynb",
   "output_path": "eBay_Overview.ipynb",
   "parameters": {},
   "start_time": "2021-10-17T16:30:04.753624",
   "version": "2.3.3"
  }
 },
 "nbformat": 4,
 "nbformat_minor": 5
}