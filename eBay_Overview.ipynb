{
 "cells": [
  {
   "cell_type": "code",
   "execution_count": 1,
   "id": "reverse-picking",
   "metadata": {
    "execution": {
     "iopub.execute_input": "2021-12-11T09:30:07.613091Z",
     "iopub.status.busy": "2021-12-11T09:30:07.610711Z",
     "iopub.status.idle": "2021-12-11T09:30:08.556407Z",
     "shell.execute_reply": "2021-12-11T09:30:08.557885Z"
    },
    "papermill": {
     "duration": 0.994244,
     "end_time": "2021-12-11T09:30:08.558612",
     "exception": false,
     "start_time": "2021-12-11T09:30:07.564368",
     "status": "completed"
    },
    "tags": []
   },
   "outputs": [],
   "source": [
    "import pandas as pd\n",
    "import sqlite3"
   ]
  },
  {
   "cell_type": "code",
   "execution_count": 2,
   "id": "innovative-syndrome",
   "metadata": {
    "execution": {
     "iopub.execute_input": "2021-12-11T09:30:08.619815Z",
     "iopub.status.busy": "2021-12-11T09:30:08.617544Z",
     "iopub.status.idle": "2021-12-11T09:30:09.680611Z",
     "shell.execute_reply": "2021-12-11T09:30:09.682265Z"
    },
    "papermill": {
     "duration": 1.103055,
     "end_time": "2021-12-11T09:30:09.682843",
     "exception": false,
     "start_time": "2021-12-11T09:30:08.579788",
     "status": "completed"
    },
    "tags": []
   },
   "outputs": [],
   "source": [
    "timestamps = pd.read_sql(\"select distinct record_time from EBAY_TOP_BERLIN order by record_time desc limit 2\", sqlite3.connect(\"UsedObjects.db\"))"
   ]
  },
  {
   "cell_type": "code",
   "execution_count": 3,
   "id": "periodic-identification",
   "metadata": {
    "execution": {
     "iopub.execute_input": "2021-12-11T09:30:09.759177Z",
     "iopub.status.busy": "2021-12-11T09:30:09.753424Z",
     "iopub.status.idle": "2021-12-11T09:30:09.775302Z",
     "shell.execute_reply": "2021-12-11T09:30:09.777108Z"
    },
    "papermill": {
     "duration": 0.074307,
     "end_time": "2021-12-11T09:30:09.777671",
     "exception": false,
     "start_time": "2021-12-11T09:30:09.703364",
     "status": "completed"
    },
    "tags": []
   },
   "outputs": [
    {
     "data": {
      "text/html": [
       "<div>\n",
       "<style scoped>\n",
       "    .dataframe tbody tr th:only-of-type {\n",
       "        vertical-align: middle;\n",
       "    }\n",
       "\n",
       "    .dataframe tbody tr th {\n",
       "        vertical-align: top;\n",
       "    }\n",
       "\n",
       "    .dataframe thead th {\n",
       "        text-align: right;\n",
       "    }\n",
       "</style>\n",
       "<table border=\"1\" class=\"dataframe\">\n",
       "  <thead>\n",
       "    <tr style=\"text-align: right;\">\n",
       "      <th></th>\n",
       "      <th>RECORD_TIME</th>\n",
       "    </tr>\n",
       "  </thead>\n",
       "  <tbody>\n",
       "    <tr>\n",
       "      <th>0</th>\n",
       "      <td>2021-12-11 10:30</td>\n",
       "    </tr>\n",
       "    <tr>\n",
       "      <th>1</th>\n",
       "      <td>2021-12-11 10:00</td>\n",
       "    </tr>\n",
       "  </tbody>\n",
       "</table>\n",
       "</div>"
      ],
      "text/plain": [
       "        RECORD_TIME\n",
       "0  2021-12-11 10:30\n",
       "1  2021-12-11 10:00"
      ]
     },
     "execution_count": 3,
     "metadata": {},
     "output_type": "execute_result"
    }
   ],
   "source": [
    "timestamps"
   ]
  },
  {
   "cell_type": "code",
   "execution_count": 4,
   "id": "alternate-victory",
   "metadata": {
    "execution": {
     "iopub.execute_input": "2021-12-11T09:30:09.832347Z",
     "iopub.status.busy": "2021-12-11T09:30:09.830303Z",
     "iopub.status.idle": "2021-12-11T09:30:11.323407Z",
     "shell.execute_reply": "2021-12-11T09:30:11.324989Z"
    },
    "papermill": {
     "duration": 1.526402,
     "end_time": "2021-12-11T09:30:11.325479",
     "exception": false,
     "start_time": "2021-12-11T09:30:09.799077",
     "status": "completed"
    },
    "tags": []
   },
   "outputs": [],
   "source": [
    "df = pd.read_sql(\"select * from EBAY_TOP_BERLIN where record_time in (select distinct record_time from EBAY_TOP_BERLIN order by record_time desc limit 2)\", sqlite3.connect(\"UsedObjects.db\"))"
   ]
  },
  {
   "cell_type": "code",
   "execution_count": 5,
   "id": "popular-active",
   "metadata": {
    "execution": {
     "iopub.execute_input": "2021-12-11T09:30:11.396536Z",
     "iopub.status.busy": "2021-12-11T09:30:11.388053Z",
     "iopub.status.idle": "2021-12-11T09:30:11.434452Z",
     "shell.execute_reply": "2021-12-11T09:30:11.431487Z"
    },
    "papermill": {
     "duration": 0.089014,
     "end_time": "2021-12-11T09:30:11.435199",
     "exception": false,
     "start_time": "2021-12-11T09:30:11.346185",
     "status": "completed"
    },
    "tags": []
   },
   "outputs": [],
   "source": [
    "df_pivot = df.pivot_table(index=\"PRODUCT\", columns = \"RECORD_TIME\", values = \"LISTING_COUNT\")"
   ]
  },
  {
   "cell_type": "code",
   "execution_count": 6,
   "id": "union-huntington",
   "metadata": {
    "execution": {
     "iopub.execute_input": "2021-12-11T09:30:11.516133Z",
     "iopub.status.busy": "2021-12-11T09:30:11.513636Z",
     "iopub.status.idle": "2021-12-11T09:30:11.519392Z",
     "shell.execute_reply": "2021-12-11T09:30:11.521045Z"
    },
    "papermill": {
     "duration": 0.054137,
     "end_time": "2021-12-11T09:30:11.521539",
     "exception": false,
     "start_time": "2021-12-11T09:30:11.467402",
     "status": "completed"
    },
    "tags": []
   },
   "outputs": [],
   "source": [
    "df_pivot.columns = [\"stamp_1\", \"stamp_2\"]\n",
    "df_pivot_diff = df_pivot.diff(axis=1)"
   ]
  },
  {
   "cell_type": "code",
   "execution_count": 7,
   "id": "fifth-motion",
   "metadata": {
    "execution": {
     "iopub.execute_input": "2021-12-11T09:30:11.581508Z",
     "iopub.status.busy": "2021-12-11T09:30:11.579024Z",
     "iopub.status.idle": "2021-12-11T09:30:13.344835Z",
     "shell.execute_reply": "2021-12-11T09:30:13.347740Z"
    },
    "papermill": {
     "duration": 1.805704,
     "end_time": "2021-12-11T09:30:13.348638",
     "exception": false,
     "start_time": "2021-12-11T09:30:11.542934",
     "status": "completed"
    },
    "tags": []
   },
   "outputs": [
    {
     "data": {
      "text/plain": [
       "<AxesSubplot:ylabel='PRODUCT'>"
      ]
     },
     "execution_count": 7,
     "metadata": {},
     "output_type": "execute_result"
    },
    {
     "data": {
      "image/png": "[encoded data removed]",
      "text/plain": [
       "<Figure size 432x288 with 1 Axes>"
      ]
     },
     "metadata": {
      "needs_background": "light"
     },
     "output_type": "display_data"
    }
   ],
   "source": [
    "df_pivot_diff.sort_values(\"stamp_2\", ascending = False)[\"stamp_2\"].head(10).plot.barh()"
   ]
  },
  {
   "cell_type": "code",
   "execution_count": null,
   "id": "extra-executive",
   "metadata": {
    "papermill": {
     "duration": 0.028455,
     "end_time": "2021-12-11T09:30:13.411678",
     "exception": false,
     "start_time": "2021-12-11T09:30:13.383223",
     "status": "completed"
    },
    "tags": []
   },
   "outputs": [],
   "source": []
  }
 ],
 "metadata": {
  "kernelspec": {
   "display_name": "Python 3",
   "language": "python",
   "name": "python3"
  },
  "language_info": {
   "codemirror_mode": {
    "name": "ipython",
    "version": 3
   },
   "file_extension": ".py",
   "mimetype": "text/x-python",
   "name": "python",
   "nbconvert_exporter": "python",
   "pygments_lexer": "ipython3",
   "version": "3.9.5"
  },
  "papermill": {
   "default_parameters": {},
   "duration": 10.011277,
   "end_time": "2021-12-11T09:30:14.768151",
   "environment_variables": {},
   "exception": null,
   "input_path": "eBay_Overview.ipynb",
   "output_path": "eBay_Overview.ipynb",
   "parameters": {},
   "start_time": "2021-12-11T09:30:04.756874",
   "version": "2.3.3"
  }
 },
 "nbformat": 4,
 "nbformat_minor": 5
}