{
 "cells": [
  {
   "cell_type": "code",
   "execution_count": 1,
   "id": "reverse-picking",
   "metadata": {
    "execution": {
     "iopub.execute_input": "2021-12-18T14:30:07.715703Z",
     "iopub.status.busy": "2021-12-18T14:30:07.713550Z",
     "iopub.status.idle": "2021-12-18T14:30:08.695259Z",
     "shell.execute_reply": "2021-12-18T14:30:08.692517Z"
    },
    "papermill": {
     "duration": 1.029807,
     "end_time": "2021-12-18T14:30:08.696114",
     "exception": false,
     "start_time": "2021-12-18T14:30:07.666307",
     "status": "completed"
    },
    "tags": []
   },
   "outputs": [],
   "source": [
    "import pandas as pd\n",
    "import sqlite3"
   ]
  },
  {
   "cell_type": "code",
   "execution_count": 2,
   "id": "innovative-syndrome",
   "metadata": {
    "execution": {
     "iopub.execute_input": "2021-12-18T14:30:08.762479Z",
     "iopub.status.busy": "2021-12-18T14:30:08.760239Z",
     "iopub.status.idle": "2021-12-18T14:30:09.889375Z",
     "shell.execute_reply": "2021-12-18T14:30:09.890993Z"
    },
    "papermill": {
     "duration": 1.16299,
     "end_time": "2021-12-18T14:30:09.891402",
     "exception": false,
     "start_time": "2021-12-18T14:30:08.728412",
     "status": "completed"
    },
    "tags": []
   },
   "outputs": [],
   "source": [
    "timestamps = pd.read_sql(\"select distinct record_time from EBAY_TOP_BERLIN order by record_time desc limit 2\", sqlite3.connect(\"UsedObjects.db\"))"
   ]
  },
  {
   "cell_type": "code",
   "execution_count": 3,
   "id": "periodic-identification",
   "metadata": {
    "execution": {
     "iopub.execute_input": "2021-12-18T14:30:09.990800Z",
     "iopub.status.busy": "2021-12-18T14:30:09.987580Z",
     "iopub.status.idle": "2021-12-18T14:30:10.010436Z",
     "shell.execute_reply": "2021-12-18T14:30:10.011846Z"
    },
    "papermill": {
     "duration": 0.083746,
     "end_time": "2021-12-18T14:30:10.012328",
     "exception": false,
     "start_time": "2021-12-18T14:30:09.928582",
     "status": "completed"
    },
    "tags": []
   },
   "outputs": [
    {
     "data": {
      "text/html": [
       "<div>\n",
       "<style scoped>\n",
       "    .dataframe tbody tr th:only-of-type {\n",
       "        vertical-align: middle;\n",
       "    }\n",
       "\n",
       "    .dataframe tbody tr th {\n",
       "        vertical-align: top;\n",
       "    }\n",
       "\n",
       "    .dataframe thead th {\n",
       "        text-align: right;\n",
       "    }\n",
       "</style>\n",
       "<table border=\"1\" class=\"dataframe\">\n",
       "  <thead>\n",
       "    <tr style=\"text-align: right;\">\n",
       "      <th></th>\n",
       "      <th>RECORD_TIME</th>\n",
       "    </tr>\n",
       "  </thead>\n",
       "  <tbody>\n",
       "    <tr>\n",
       "      <th>0</th>\n",
       "      <td>2021-12-18 15:30</td>\n",
       "    </tr>\n",
       "    <tr>\n",
       "      <th>1</th>\n",
       "      <td>2021-12-18 15:00</td>\n",
       "    </tr>\n",
       "  </tbody>\n",
       "</table>\n",
       "</div>"
      ],
      "text/plain": [
       "        RECORD_TIME\n",
       "0  2021-12-18 15:30\n",
       "1  2021-12-18 15:00"
      ]
     },
     "execution_count": 3,
     "metadata": {},
     "output_type": "execute_result"
    }
   ],
   "source": [
    "timestamps"
   ]
  },
  {
   "cell_type": "code",
   "execution_count": 4,
   "id": "alternate-victory",
   "metadata": {
    "execution": {
     "iopub.execute_input": "2021-12-18T14:30:10.069363Z",
     "iopub.status.busy": "2021-12-18T14:30:10.066956Z",
     "iopub.status.idle": "2021-12-18T14:30:11.683969Z",
     "shell.execute_reply": "2021-12-18T14:30:11.685622Z"
    },
    "papermill": {
     "duration": 1.651764,
     "end_time": "2021-12-18T14:30:11.686105",
     "exception": false,
     "start_time": "2021-12-18T14:30:10.034341",
     "status": "completed"
    },
    "tags": []
   },
   "outputs": [],
   "source": [
    "df = pd.read_sql(\"select * from EBAY_TOP_BERLIN where record_time in (select distinct record_time from EBAY_TOP_BERLIN order by record_time desc limit 2)\", sqlite3.connect(\"UsedObjects.db\"))"
   ]
  },
  {
   "cell_type": "code",
   "execution_count": 5,
   "id": "popular-active",
   "metadata": {
    "execution": {
     "iopub.execute_input": "2021-12-18T14:30:11.761285Z",
     "iopub.status.busy": "2021-12-18T14:30:11.752738Z",
     "iopub.status.idle": "2021-12-18T14:30:11.784193Z",
     "shell.execute_reply": "2021-12-18T14:30:11.785678Z"
    },
    "papermill": {
     "duration": 0.078419,
     "end_time": "2021-12-18T14:30:11.786162",
     "exception": false,
     "start_time": "2021-12-18T14:30:11.707743",
     "status": "completed"
    },
    "tags": []
   },
   "outputs": [],
   "source": [
    "df_pivot = df.pivot_table(index=\"PRODUCT\", columns = \"RECORD_TIME\", values = \"LISTING_COUNT\")"
   ]
  },
  {
   "cell_type": "code",
   "execution_count": 6,
   "id": "union-huntington",
   "metadata": {
    "execution": {
     "iopub.execute_input": "2021-12-18T14:30:11.845249Z",
     "iopub.status.busy": "2021-12-18T14:30:11.842956Z",
     "iopub.status.idle": "2021-12-18T14:30:11.847964Z",
     "shell.execute_reply": "2021-12-18T14:30:11.849873Z"
    },
    "papermill": {
     "duration": 0.044028,
     "end_time": "2021-12-18T14:30:11.850350",
     "exception": false,
     "start_time": "2021-12-18T14:30:11.806322",
     "status": "completed"
    },
    "tags": []
   },
   "outputs": [],
   "source": [
    "df_pivot.columns = [\"stamp_1\", \"stamp_2\"]\n",
    "df_pivot_diff = df_pivot.diff(axis=1)"
   ]
  },
  {
   "cell_type": "code",
   "execution_count": 7,
   "id": "fifth-motion",
   "metadata": {
    "execution": {
     "iopub.execute_input": "2021-12-18T14:30:11.909146Z",
     "iopub.status.busy": "2021-12-18T14:30:11.906406Z",
     "iopub.status.idle": "2021-12-18T14:30:13.869717Z",
     "shell.execute_reply": "2021-12-18T14:30:13.871733Z"
    },
    "papermill": {
     "duration": 2.000599,
     "end_time": "2021-12-18T14:30:13.872329",
     "exception": false,
     "start_time": "2021-12-18T14:30:11.871730",
     "status": "completed"
    },
    "tags": []
   },
   "outputs": [
    {
     "data": {
      "text/plain": [
       "<AxesSubplot:ylabel='PRODUCT'>"
      ]
     },
     "execution_count": 7,
     "metadata": {},
     "output_type": "execute_result"
    },
    {
     "data": {
      "image/png": "[encoded data removed]",
      "text/plain": [
       "<Figure size 432x288 with 1 Axes>"
      ]
     },
     "metadata": {
      "needs_background": "light"
     },
     "output_type": "display_data"
    }
   ],
   "source": [
    "df_pivot_diff.sort_values(\"stamp_2\", ascending = False)[\"stamp_2\"].head(10).plot.barh()"
   ]
  },
  {
   "cell_type": "code",
   "execution_count": null,
   "id": "extra-executive",
   "metadata": {
    "papermill": {
     "duration": 0.026549,
     "end_time": "2021-12-18T14:30:13.932048",
     "exception": false,
     "start_time": "2021-12-18T14:30:13.905499",
     "status": "completed"
    },
    "tags": []
   },
   "outputs": [],
   "source": []
  }
 ],
 "metadata": {
  "kernelspec": {
   "display_name": "Python 3",
   "language": "python",
   "name": "python3"
  },
  "language_info": {
   "codemirror_mode": {
    "name": "ipython",
    "version": 3
   },
   "file_extension": ".py",
   "mimetype": "text/x-python",
   "name": "python",
   "nbconvert_exporter": "python",
   "pygments_lexer": "ipython3",
   "version": "3.9.5"
  },
  "papermill": {
   "default_parameters": {},
   "duration": 9.646929,
   "end_time": "2021-12-18T14:30:14.573077",
   "environment_variables": {},
   "exception": null,
   "input_path": "eBay_Overview.ipynb",
   "output_path": "eBay_Overview.ipynb",
   "parameters": {},
   "start_time": "2021-12-18T14:30:04.926148",
   "version": "2.3.3"
  }
 },
 "nbformat": 4,
 "nbformat_minor": 5
}