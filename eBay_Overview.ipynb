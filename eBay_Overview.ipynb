{
 "cells": [
  {
   "cell_type": "code",
   "execution_count": 1,
   "id": "reverse-picking",
   "metadata": {
    "execution": {
     "iopub.execute_input": "2021-11-10T05:30:07.767184Z",
     "iopub.status.busy": "2021-11-10T05:30:07.764757Z",
     "iopub.status.idle": "2021-11-10T05:30:08.729151Z",
     "shell.execute_reply": "2021-11-10T05:30:08.730722Z"
    },
    "papermill": {
     "duration": 1.01632,
     "end_time": "2021-11-10T05:30:08.731445",
     "exception": false,
     "start_time": "2021-11-10T05:30:07.715125",
     "status": "completed"
    },
    "tags": []
   },
   "outputs": [],
   "source": [
    "import pandas as pd\n",
    "import sqlite3"
   ]
  },
  {
   "cell_type": "code",
   "execution_count": 2,
   "id": "innovative-syndrome",
   "metadata": {
    "execution": {
     "iopub.execute_input": "2021-11-10T05:30:08.798011Z",
     "iopub.status.busy": "2021-11-10T05:30:08.795440Z",
     "iopub.status.idle": "2021-11-10T05:30:09.592210Z",
     "shell.execute_reply": "2021-11-10T05:30:09.594755Z"
    },
    "papermill": {
     "duration": 0.831646,
     "end_time": "2021-11-10T05:30:09.595281",
     "exception": false,
     "start_time": "2021-11-10T05:30:08.763635",
     "status": "completed"
    },
    "tags": []
   },
   "outputs": [],
   "source": [
    "timestamps = pd.read_sql(\"select distinct record_time from EBAY_TOP_BERLIN order by record_time desc limit 2\", sqlite3.connect(\"UsedObjects.db\"))"
   ]
  },
  {
   "cell_type": "code",
   "execution_count": 3,
   "id": "periodic-identification",
   "metadata": {
    "execution": {
     "iopub.execute_input": "2021-11-10T05:30:09.670054Z",
     "iopub.status.busy": "2021-11-10T05:30:09.667717Z",
     "iopub.status.idle": "2021-11-10T05:30:09.692808Z",
     "shell.execute_reply": "2021-11-10T05:30:09.690941Z"
    },
    "papermill": {
     "duration": 0.075695,
     "end_time": "2021-11-10T05:30:09.693229",
     "exception": false,
     "start_time": "2021-11-10T05:30:09.617534",
     "status": "completed"
    },
    "tags": []
   },
   "outputs": [
    {
     "data": {
      "text/html": [
       "<div>\n",
       "<style scoped>\n",
       "    .dataframe tbody tr th:only-of-type {\n",
       "        vertical-align: middle;\n",
       "    }\n",
       "\n",
       "    .dataframe tbody tr th {\n",
       "        vertical-align: top;\n",
       "    }\n",
       "\n",
       "    .dataframe thead th {\n",
       "        text-align: right;\n",
       "    }\n",
       "</style>\n",
       "<table border=\"1\" class=\"dataframe\">\n",
       "  <thead>\n",
       "    <tr style=\"text-align: right;\">\n",
       "      <th></th>\n",
       "      <th>RECORD_TIME</th>\n",
       "    </tr>\n",
       "  </thead>\n",
       "  <tbody>\n",
       "    <tr>\n",
       "      <th>0</th>\n",
       "      <td>2021-11-10 06:30</td>\n",
       "    </tr>\n",
       "    <tr>\n",
       "      <th>1</th>\n",
       "      <td>2021-11-10 06:00</td>\n",
       "    </tr>\n",
       "  </tbody>\n",
       "</table>\n",
       "</div>"
      ],
      "text/plain": [
       "        RECORD_TIME\n",
       "0  2021-11-10 06:30\n",
       "1  2021-11-10 06:00"
      ]
     },
     "execution_count": 3,
     "metadata": {},
     "output_type": "execute_result"
    }
   ],
   "source": [
    "timestamps"
   ]
  },
  {
   "cell_type": "code",
   "execution_count": 4,
   "id": "alternate-victory",
   "metadata": {
    "execution": {
     "iopub.execute_input": "2021-11-10T05:30:09.749545Z",
     "iopub.status.busy": "2021-11-10T05:30:09.747243Z",
     "iopub.status.idle": "2021-11-10T05:30:10.873204Z",
     "shell.execute_reply": "2021-11-10T05:30:10.875982Z"
    },
    "papermill": {
     "duration": 1.162137,
     "end_time": "2021-11-10T05:30:10.876878",
     "exception": false,
     "start_time": "2021-11-10T05:30:09.714741",
     "status": "completed"
    },
    "tags": []
   },
   "outputs": [],
   "source": [
    "df = pd.read_sql(\"select * from EBAY_TOP_BERLIN where record_time in (select distinct record_time from EBAY_TOP_BERLIN order by record_time desc limit 2)\", sqlite3.connect(\"UsedObjects.db\"))"
   ]
  },
  {
   "cell_type": "code",
   "execution_count": 5,
   "id": "popular-active",
   "metadata": {
    "execution": {
     "iopub.execute_input": "2021-11-10T05:30:10.966450Z",
     "iopub.status.busy": "2021-11-10T05:30:10.952554Z",
     "iopub.status.idle": "2021-11-10T05:30:10.988098Z",
     "shell.execute_reply": "2021-11-10T05:30:10.986495Z"
    },
    "papermill": {
     "duration": 0.080149,
     "end_time": "2021-11-10T05:30:10.988519",
     "exception": false,
     "start_time": "2021-11-10T05:30:10.908370",
     "status": "completed"
    },
    "tags": []
   },
   "outputs": [],
   "source": [
    "df_pivot = df.pivot_table(index=\"PRODUCT\", columns = \"RECORD_TIME\", values = \"LISTING_COUNT\")"
   ]
  },
  {
   "cell_type": "code",
   "execution_count": 6,
   "id": "union-huntington",
   "metadata": {
    "execution": {
     "iopub.execute_input": "2021-11-10T05:30:11.049995Z",
     "iopub.status.busy": "2021-11-10T05:30:11.047749Z",
     "iopub.status.idle": "2021-11-10T05:30:11.053140Z",
     "shell.execute_reply": "2021-11-10T05:30:11.054740Z"
    },
    "papermill": {
     "duration": 0.045035,
     "end_time": "2021-11-10T05:30:11.055197",
     "exception": false,
     "start_time": "2021-11-10T05:30:11.010162",
     "status": "completed"
    },
    "tags": []
   },
   "outputs": [],
   "source": [
    "df_pivot.columns = [\"stamp_1\", \"stamp_2\"]\n",
    "df_pivot_diff = df_pivot.diff(axis=1)"
   ]
  },
  {
   "cell_type": "code",
   "execution_count": 7,
   "id": "fifth-motion",
   "metadata": {
    "execution": {
     "iopub.execute_input": "2021-11-10T05:30:11.114158Z",
     "iopub.status.busy": "2021-11-10T05:30:11.109898Z",
     "iopub.status.idle": "2021-11-10T05:30:13.028213Z",
     "shell.execute_reply": "2021-11-10T05:30:13.030226Z"
    },
    "papermill": {
     "duration": 1.95535,
     "end_time": "2021-11-10T05:30:13.030915",
     "exception": false,
     "start_time": "2021-11-10T05:30:11.075565",
     "status": "completed"
    },
    "tags": []
   },
   "outputs": [
    {
     "data": {
      "text/plain": [
       "<AxesSubplot:ylabel='PRODUCT'>"
      ]
     },
     "execution_count": 7,
     "metadata": {},
     "output_type": "execute_result"
    },
    {
     "data": {
      "image/png": "[encoded data removed]",
      "text/plain": [
       "<Figure size 432x288 with 1 Axes>"
      ]
     },
     "metadata": {
      "needs_background": "light"
     },
     "output_type": "display_data"
    }
   ],
   "source": [
    "df_pivot_diff.sort_values(\"stamp_2\", ascending = False)[\"stamp_2\"].head(10).plot.barh()"
   ]
  },
  {
   "cell_type": "code",
   "execution_count": null,
   "id": "extra-executive",
   "metadata": {
    "papermill": {
     "duration": 0.023555,
     "end_time": "2021-11-10T05:30:13.081510",
     "exception": false,
     "start_time": "2021-11-10T05:30:13.057955",
     "status": "completed"
    },
    "tags": []
   },
   "outputs": [],
   "source": []
  }
 ],
 "metadata": {
  "kernelspec": {
   "display_name": "Python 3",
   "language": "python",
   "name": "python3"
  },
  "language_info": {
   "codemirror_mode": {
    "name": "ipython",
    "version": 3
   },
   "file_extension": ".py",
   "mimetype": "text/x-python",
   "name": "python",
   "nbconvert_exporter": "python",
   "pygments_lexer": "ipython3",
   "version": "3.9.5"
  },
  "papermill": {
   "default_parameters": {},
   "duration": 9.948381,
   "end_time": "2021-11-10T05:30:14.929405",
   "environment_variables": {},
   "exception": null,
   "input_path": "eBay_Overview.ipynb",
   "output_path": "eBay_Overview.ipynb",
   "parameters": {},
   "start_time": "2021-11-10T05:30:04.981024",
   "version": "2.3.3"
  }
 },
 "nbformat": 4,
 "nbformat_minor": 5
}