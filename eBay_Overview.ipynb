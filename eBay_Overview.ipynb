{
 "cells": [
  {
   "cell_type": "code",
   "execution_count": 1,
   "id": "reverse-picking",
   "metadata": {
    "execution": {
     "iopub.execute_input": "2021-08-09T03:30:04.505916Z",
     "iopub.status.busy": "2021-08-09T03:30:04.505119Z",
     "iopub.status.idle": "2021-08-09T03:30:05.115468Z",
     "shell.execute_reply": "2021-08-09T03:30:05.116041Z"
    },
    "papermill": {
     "duration": 0.63011,
     "end_time": "2021-08-09T03:30:05.116323",
     "exception": false,
     "start_time": "2021-08-09T03:30:04.486213",
     "status": "completed"
    },
    "tags": []
   },
   "outputs": [],
   "source": [
    "import pandas as pd\n",
    "import sqlite3"
   ]
  },
  {
   "cell_type": "code",
   "execution_count": 2,
   "id": "innovative-syndrome",
   "metadata": {
    "execution": {
     "iopub.execute_input": "2021-08-09T03:30:05.138521Z",
     "iopub.status.busy": "2021-08-09T03:30:05.137697Z",
     "iopub.status.idle": "2021-08-09T03:30:05.340793Z",
     "shell.execute_reply": "2021-08-09T03:30:05.341366Z"
    },
    "papermill": {
     "duration": 0.216271,
     "end_time": "2021-08-09T03:30:05.341564",
     "exception": false,
     "start_time": "2021-08-09T03:30:05.125293",
     "status": "completed"
    },
    "tags": []
   },
   "outputs": [],
   "source": [
    "timestamps = pd.read_sql(\"select distinct record_time from EBAY_TOP_BERLIN order by record_time desc limit 2\", sqlite3.connect(\"UsedObjects.db\"))"
   ]
  },
  {
   "cell_type": "code",
   "execution_count": 3,
   "id": "periodic-identification",
   "metadata": {
    "execution": {
     "iopub.execute_input": "2021-08-09T03:30:05.369987Z",
     "iopub.status.busy": "2021-08-09T03:30:05.369206Z",
     "iopub.status.idle": "2021-08-09T03:30:05.382062Z",
     "shell.execute_reply": "2021-08-09T03:30:05.381456Z"
    },
    "papermill": {
     "duration": 0.032415,
     "end_time": "2021-08-09T03:30:05.382224",
     "exception": false,
     "start_time": "2021-08-09T03:30:05.349809",
     "status": "completed"
    },
    "tags": []
   },
   "outputs": [
    {
     "data": {
      "text/html": [
       "<div>\n",
       "<style scoped>\n",
       "    .dataframe tbody tr th:only-of-type {\n",
       "        vertical-align: middle;\n",
       "    }\n",
       "\n",
       "    .dataframe tbody tr th {\n",
       "        vertical-align: top;\n",
       "    }\n",
       "\n",
       "    .dataframe thead th {\n",
       "        text-align: right;\n",
       "    }\n",
       "</style>\n",
       "<table border=\"1\" class=\"dataframe\">\n",
       "  <thead>\n",
       "    <tr style=\"text-align: right;\">\n",
       "      <th></th>\n",
       "      <th>RECORD_TIME</th>\n",
       "    </tr>\n",
       "  </thead>\n",
       "  <tbody>\n",
       "    <tr>\n",
       "      <th>0</th>\n",
       "      <td>2021-08-09 05:30</td>\n",
       "    </tr>\n",
       "    <tr>\n",
       "      <th>1</th>\n",
       "      <td>2021-08-09 05:00</td>\n",
       "    </tr>\n",
       "  </tbody>\n",
       "</table>\n",
       "</div>"
      ],
      "text/plain": [
       "        RECORD_TIME\n",
       "0  2021-08-09 05:30\n",
       "1  2021-08-09 05:00"
      ]
     },
     "execution_count": 3,
     "metadata": {},
     "output_type": "execute_result"
    }
   ],
   "source": [
    "timestamps"
   ]
  },
  {
   "cell_type": "code",
   "execution_count": 4,
   "id": "alternate-victory",
   "metadata": {
    "execution": {
     "iopub.execute_input": "2021-08-09T03:30:05.403856Z",
     "iopub.status.busy": "2021-08-09T03:30:05.403087Z",
     "iopub.status.idle": "2021-08-09T03:30:05.414646Z",
     "shell.execute_reply": "2021-08-09T03:30:05.415435Z"
    },
    "papermill": {
     "duration": 0.025005,
     "end_time": "2021-08-09T03:30:05.415780",
     "exception": false,
     "start_time": "2021-08-09T03:30:05.390775",
     "status": "completed"
    },
    "tags": []
   },
   "outputs": [],
   "source": [
    "df = pd.read_sql(\"select * from EBAY_TOP_BERLIN where record_time in (select distinct record_time from EBAY_TOP_BERLIN order by record_time desc limit 2)\", sqlite3.connect(\"UsedObjects.db\"))"
   ]
  },
  {
   "cell_type": "code",
   "execution_count": 5,
   "id": "popular-active",
   "metadata": {
    "execution": {
     "iopub.execute_input": "2021-08-09T03:30:05.446022Z",
     "iopub.status.busy": "2021-08-09T03:30:05.445265Z",
     "iopub.status.idle": "2021-08-09T03:30:05.470877Z",
     "shell.execute_reply": "2021-08-09T03:30:05.470013Z"
    },
    "papermill": {
     "duration": 0.041201,
     "end_time": "2021-08-09T03:30:05.471100",
     "exception": false,
     "start_time": "2021-08-09T03:30:05.429899",
     "status": "completed"
    },
    "tags": []
   },
   "outputs": [],
   "source": [
    "df_pivot = df.pivot_table(index=\"PRODUCT\", columns = \"RECORD_TIME\", values = \"LISTING_COUNT\")"
   ]
  },
  {
   "cell_type": "code",
   "execution_count": 6,
   "id": "union-huntington",
   "metadata": {
    "execution": {
     "iopub.execute_input": "2021-08-09T03:30:05.503022Z",
     "iopub.status.busy": "2021-08-09T03:30:05.502276Z",
     "iopub.status.idle": "2021-08-09T03:30:05.509348Z",
     "shell.execute_reply": "2021-08-09T03:30:05.509964Z"
    },
    "papermill": {
     "duration": 0.024786,
     "end_time": "2021-08-09T03:30:05.510174",
     "exception": false,
     "start_time": "2021-08-09T03:30:05.485388",
     "status": "completed"
    },
    "tags": []
   },
   "outputs": [],
   "source": [
    "df_pivot.columns = [\"stamp_1\", \"stamp_2\"]\n",
    "df_pivot_diff = df_pivot.diff(axis=1)"
   ]
  },
  {
   "cell_type": "code",
   "execution_count": 7,
   "id": "fifth-motion",
   "metadata": {
    "execution": {
     "iopub.execute_input": "2021-08-09T03:30:05.540464Z",
     "iopub.status.busy": "2021-08-09T03:30:05.539698Z",
     "iopub.status.idle": "2021-08-09T03:30:06.217968Z",
     "shell.execute_reply": "2021-08-09T03:30:06.217339Z"
    },
    "papermill": {
     "duration": 0.699482,
     "end_time": "2021-08-09T03:30:06.218131",
     "exception": false,
     "start_time": "2021-08-09T03:30:05.518649",
     "status": "completed"
    },
    "tags": []
   },
   "outputs": [
    {
     "data": {
      "text/plain": [
       "<AxesSubplot:ylabel='PRODUCT'>"
      ]
     },
     "execution_count": 7,
     "metadata": {},
     "output_type": "execute_result"
    },
    {
     "data": {
      "image/png": "[encoded data removed]",
      "text/plain": [
       "<Figure size 432x288 with 1 Axes>"
      ]
     },
     "metadata": {
      "needs_background": "light"
     },
     "output_type": "display_data"
    }
   ],
   "source": [
    "df_pivot_diff.sort_values(\"stamp_2\", ascending = False)[\"stamp_2\"].head(10).plot.barh()"
   ]
  },
  {
   "cell_type": "code",
   "execution_count": null,
   "id": "extra-executive",
   "metadata": {
    "papermill": {
     "duration": 0.012689,
     "end_time": "2021-08-09T03:30:06.243142",
     "exception": false,
     "start_time": "2021-08-09T03:30:06.230453",
     "status": "completed"
    },
    "tags": []
   },
   "outputs": [],
   "source": []
  }
 ],
 "metadata": {
  "kernelspec": {
   "display_name": "Python 3",
   "language": "python",
   "name": "python3"
  },
  "language_info": {
   "codemirror_mode": {
    "name": "ipython",
    "version": 3
   },
   "file_extension": ".py",
   "mimetype": "text/x-python",
   "name": "python",
   "nbconvert_exporter": "python",
   "pygments_lexer": "ipython3",
   "version": "3.8.8"
  },
  "papermill": {
   "default_parameters": {},
   "duration": 4.907482,
   "end_time": "2021-08-09T03:30:07.726672",
   "environment_variables": {},
   "exception": null,
   "input_path": "/Users/saravananshanmugam/Carbonleakage_Git/UsedObjects/eBay_Overview.ipynb",
   "output_path": "/Users/saravananshanmugam/Carbonleakage_Git/UsedObjects/eBay_Overview.ipynb",
   "parameters": {},
   "start_time": "2021-08-09T03:30:02.819190",
   "version": "2.3.3"
  }
 },
 "nbformat": 4,
 "nbformat_minor": 5
}