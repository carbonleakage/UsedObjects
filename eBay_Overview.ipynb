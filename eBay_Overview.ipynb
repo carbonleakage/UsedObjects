{
 "cells": [
  {
   "cell_type": "code",
   "execution_count": 1,
   "id": "reverse-picking",
   "metadata": {
    "execution": {
     "iopub.execute_input": "2021-12-14T22:30:07.360859Z",
     "iopub.status.busy": "2021-12-14T22:30:07.358523Z",
     "iopub.status.idle": "2021-12-14T22:30:08.280136Z",
     "shell.execute_reply": "2021-12-14T22:30:08.278374Z"
    },
    "papermill": {
     "duration": 0.970072,
     "end_time": "2021-12-14T22:30:08.280647",
     "exception": false,
     "start_time": "2021-12-14T22:30:07.310575",
     "status": "completed"
    },
    "tags": []
   },
   "outputs": [],
   "source": [
    "import pandas as pd\n",
    "import sqlite3"
   ]
  },
  {
   "cell_type": "code",
   "execution_count": 2,
   "id": "innovative-syndrome",
   "metadata": {
    "execution": {
     "iopub.execute_input": "2021-12-14T22:30:08.349710Z",
     "iopub.status.busy": "2021-12-14T22:30:08.346045Z",
     "iopub.status.idle": "2021-12-14T22:30:09.462001Z",
     "shell.execute_reply": "2021-12-14T22:30:09.464138Z"
    },
    "papermill": {
     "duration": 1.150828,
     "end_time": "2021-12-14T22:30:09.464624",
     "exception": false,
     "start_time": "2021-12-14T22:30:08.313796",
     "status": "completed"
    },
    "tags": []
   },
   "outputs": [],
   "source": [
    "timestamps = pd.read_sql(\"select distinct record_time from EBAY_TOP_BERLIN order by record_time desc limit 2\", sqlite3.connect(\"UsedObjects.db\"))"
   ]
  },
  {
   "cell_type": "code",
   "execution_count": 3,
   "id": "periodic-identification",
   "metadata": {
    "execution": {
     "iopub.execute_input": "2021-12-14T22:30:09.535092Z",
     "iopub.status.busy": "2021-12-14T22:30:09.532572Z",
     "iopub.status.idle": "2021-12-14T22:30:09.554120Z",
     "shell.execute_reply": "2021-12-14T22:30:09.555598Z"
    },
    "papermill": {
     "duration": 0.070939,
     "end_time": "2021-12-14T22:30:09.556062",
     "exception": false,
     "start_time": "2021-12-14T22:30:09.485123",
     "status": "completed"
    },
    "tags": []
   },
   "outputs": [
    {
     "data": {
      "text/html": [
       "<div>\n",
       "<style scoped>\n",
       "    .dataframe tbody tr th:only-of-type {\n",
       "        vertical-align: middle;\n",
       "    }\n",
       "\n",
       "    .dataframe tbody tr th {\n",
       "        vertical-align: top;\n",
       "    }\n",
       "\n",
       "    .dataframe thead th {\n",
       "        text-align: right;\n",
       "    }\n",
       "</style>\n",
       "<table border=\"1\" class=\"dataframe\">\n",
       "  <thead>\n",
       "    <tr style=\"text-align: right;\">\n",
       "      <th></th>\n",
       "      <th>RECORD_TIME</th>\n",
       "    </tr>\n",
       "  </thead>\n",
       "  <tbody>\n",
       "    <tr>\n",
       "      <th>0</th>\n",
       "      <td>2021-12-14 23:30</td>\n",
       "    </tr>\n",
       "    <tr>\n",
       "      <th>1</th>\n",
       "      <td>2021-12-14 23:00</td>\n",
       "    </tr>\n",
       "  </tbody>\n",
       "</table>\n",
       "</div>"
      ],
      "text/plain": [
       "        RECORD_TIME\n",
       "0  2021-12-14 23:30\n",
       "1  2021-12-14 23:00"
      ]
     },
     "execution_count": 3,
     "metadata": {},
     "output_type": "execute_result"
    }
   ],
   "source": [
    "timestamps"
   ]
  },
  {
   "cell_type": "code",
   "execution_count": 4,
   "id": "alternate-victory",
   "metadata": {
    "execution": {
     "iopub.execute_input": "2021-12-14T22:30:09.613437Z",
     "iopub.status.busy": "2021-12-14T22:30:09.611058Z",
     "iopub.status.idle": "2021-12-14T22:30:11.211319Z",
     "shell.execute_reply": "2021-12-14T22:30:11.213378Z"
    },
    "papermill": {
     "duration": 1.63361,
     "end_time": "2021-12-14T22:30:11.213951",
     "exception": false,
     "start_time": "2021-12-14T22:30:09.580341",
     "status": "completed"
    },
    "tags": []
   },
   "outputs": [],
   "source": [
    "df = pd.read_sql(\"select * from EBAY_TOP_BERLIN where record_time in (select distinct record_time from EBAY_TOP_BERLIN order by record_time desc limit 2)\", sqlite3.connect(\"UsedObjects.db\"))"
   ]
  },
  {
   "cell_type": "code",
   "execution_count": 5,
   "id": "popular-active",
   "metadata": {
    "execution": {
     "iopub.execute_input": "2021-12-14T22:30:11.290086Z",
     "iopub.status.busy": "2021-12-14T22:30:11.281408Z",
     "iopub.status.idle": "2021-12-14T22:30:11.313087Z",
     "shell.execute_reply": "2021-12-14T22:30:11.314564Z"
    },
    "papermill": {
     "duration": 0.077126,
     "end_time": "2021-12-14T22:30:11.315021",
     "exception": false,
     "start_time": "2021-12-14T22:30:11.237895",
     "status": "completed"
    },
    "tags": []
   },
   "outputs": [],
   "source": [
    "df_pivot = df.pivot_table(index=\"PRODUCT\", columns = \"RECORD_TIME\", values = \"LISTING_COUNT\")"
   ]
  },
  {
   "cell_type": "code",
   "execution_count": 6,
   "id": "union-huntington",
   "metadata": {
    "execution": {
     "iopub.execute_input": "2021-12-14T22:30:11.373856Z",
     "iopub.status.busy": "2021-12-14T22:30:11.371628Z",
     "iopub.status.idle": "2021-12-14T22:30:11.377408Z",
     "shell.execute_reply": "2021-12-14T22:30:11.378773Z"
    },
    "papermill": {
     "duration": 0.044084,
     "end_time": "2021-12-14T22:30:11.379246",
     "exception": false,
     "start_time": "2021-12-14T22:30:11.335162",
     "status": "completed"
    },
    "tags": []
   },
   "outputs": [],
   "source": [
    "df_pivot.columns = [\"stamp_1\", \"stamp_2\"]\n",
    "df_pivot_diff = df_pivot.diff(axis=1)"
   ]
  },
  {
   "cell_type": "code",
   "execution_count": 7,
   "id": "fifth-motion",
   "metadata": {
    "execution": {
     "iopub.execute_input": "2021-12-14T22:30:11.438889Z",
     "iopub.status.busy": "2021-12-14T22:30:11.436540Z",
     "iopub.status.idle": "2021-12-14T22:30:13.428829Z",
     "shell.execute_reply": "2021-12-14T22:30:13.430763Z"
    },
    "papermill": {
     "duration": 2.03053,
     "end_time": "2021-12-14T22:30:13.431378",
     "exception": false,
     "start_time": "2021-12-14T22:30:11.400848",
     "status": "completed"
    },
    "tags": []
   },
   "outputs": [
    {
     "data": {
      "text/plain": [
       "<AxesSubplot:ylabel='PRODUCT'>"
      ]
     },
     "execution_count": 7,
     "metadata": {},
     "output_type": "execute_result"
    },
    {
     "data": {
      "image/png": "[encoded data removed]",
      "text/plain": [
       "<Figure size 432x288 with 1 Axes>"
      ]
     },
     "metadata": {
      "needs_background": "light"
     },
     "output_type": "display_data"
    }
   ],
   "source": [
    "df_pivot_diff.sort_values(\"stamp_2\", ascending = False)[\"stamp_2\"].head(10).plot.barh()"
   ]
  },
  {
   "cell_type": "code",
   "execution_count": null,
   "id": "extra-executive",
   "metadata": {
    "papermill": {
     "duration": 0.025522,
     "end_time": "2021-12-14T22:30:13.491595",
     "exception": false,
     "start_time": "2021-12-14T22:30:13.466073",
     "status": "completed"
    },
    "tags": []
   },
   "outputs": [],
   "source": []
  }
 ],
 "metadata": {
  "kernelspec": {
   "display_name": "Python 3",
   "language": "python",
   "name": "python3"
  },
  "language_info": {
   "codemirror_mode": {
    "name": "ipython",
    "version": 3
   },
   "file_extension": ".py",
   "mimetype": "text/x-python",
   "name": "python",
   "nbconvert_exporter": "python",
   "pygments_lexer": "ipython3",
   "version": "3.9.5"
  },
  "papermill": {
   "default_parameters": {},
   "duration": 9.543377,
   "end_time": "2021-12-14T22:30:14.141887",
   "environment_variables": {},
   "exception": null,
   "input_path": "eBay_Overview.ipynb",
   "output_path": "eBay_Overview.ipynb",
   "parameters": {},
   "start_time": "2021-12-14T22:30:04.598510",
   "version": "2.3.3"
  }
 },
 "nbformat": 4,
 "nbformat_minor": 5
}