{
 "cells": [
  {
   "cell_type": "code",
   "execution_count": 1,
   "id": "reverse-picking",
   "metadata": {
    "execution": {
     "iopub.execute_input": "2021-12-19T23:30:08.131309Z",
     "iopub.status.busy": "2021-12-19T23:30:08.128585Z",
     "iopub.status.idle": "2021-12-19T23:30:09.085967Z",
     "shell.execute_reply": "2021-12-19T23:30:09.087507Z"
    },
    "papermill": {
     "duration": 1.009697,
     "end_time": "2021-12-19T23:30:09.088218",
     "exception": false,
     "start_time": "2021-12-19T23:30:08.078521",
     "status": "completed"
    },
    "tags": []
   },
   "outputs": [],
   "source": [
    "import pandas as pd\n",
    "import sqlite3"
   ]
  },
  {
   "cell_type": "code",
   "execution_count": 2,
   "id": "innovative-syndrome",
   "metadata": {
    "execution": {
     "iopub.execute_input": "2021-12-19T23:30:09.152572Z",
     "iopub.status.busy": "2021-12-19T23:30:09.150176Z",
     "iopub.status.idle": "2021-12-19T23:30:10.281549Z",
     "shell.execute_reply": "2021-12-19T23:30:10.282850Z"
    },
    "papermill": {
     "duration": 1.165438,
     "end_time": "2021-12-19T23:30:10.283252",
     "exception": false,
     "start_time": "2021-12-19T23:30:09.117814",
     "status": "completed"
    },
    "tags": []
   },
   "outputs": [],
   "source": [
    "timestamps = pd.read_sql(\"select distinct record_time from EBAY_TOP_BERLIN order by record_time desc limit 2\", sqlite3.connect(\"UsedObjects.db\"))"
   ]
  },
  {
   "cell_type": "code",
   "execution_count": 3,
   "id": "periodic-identification",
   "metadata": {
    "execution": {
     "iopub.execute_input": "2021-12-19T23:30:10.348035Z",
     "iopub.status.busy": "2021-12-19T23:30:10.345787Z",
     "iopub.status.idle": "2021-12-19T23:30:10.366235Z",
     "shell.execute_reply": "2021-12-19T23:30:10.367456Z"
    },
    "papermill": {
     "duration": 0.06513,
     "end_time": "2021-12-19T23:30:10.367852",
     "exception": false,
     "start_time": "2021-12-19T23:30:10.302722",
     "status": "completed"
    },
    "tags": []
   },
   "outputs": [
    {
     "data": {
      "text/html": [
       "<div>\n",
       "<style scoped>\n",
       "    .dataframe tbody tr th:only-of-type {\n",
       "        vertical-align: middle;\n",
       "    }\n",
       "\n",
       "    .dataframe tbody tr th {\n",
       "        vertical-align: top;\n",
       "    }\n",
       "\n",
       "    .dataframe thead th {\n",
       "        text-align: right;\n",
       "    }\n",
       "</style>\n",
       "<table border=\"1\" class=\"dataframe\">\n",
       "  <thead>\n",
       "    <tr style=\"text-align: right;\">\n",
       "      <th></th>\n",
       "      <th>RECORD_TIME</th>\n",
       "    </tr>\n",
       "  </thead>\n",
       "  <tbody>\n",
       "    <tr>\n",
       "      <th>0</th>\n",
       "      <td>2021-12-20 00:30</td>\n",
       "    </tr>\n",
       "    <tr>\n",
       "      <th>1</th>\n",
       "      <td>2021-12-20 00:00</td>\n",
       "    </tr>\n",
       "  </tbody>\n",
       "</table>\n",
       "</div>"
      ],
      "text/plain": [
       "        RECORD_TIME\n",
       "0  2021-12-20 00:30\n",
       "1  2021-12-20 00:00"
      ]
     },
     "execution_count": 3,
     "metadata": {},
     "output_type": "execute_result"
    }
   ],
   "source": [
    "timestamps"
   ]
  },
  {
   "cell_type": "code",
   "execution_count": 4,
   "id": "alternate-victory",
   "metadata": {
    "execution": {
     "iopub.execute_input": "2021-12-19T23:30:10.422641Z",
     "iopub.status.busy": "2021-12-19T23:30:10.420460Z",
     "iopub.status.idle": "2021-12-19T23:30:12.053861Z",
     "shell.execute_reply": "2021-12-19T23:30:12.055239Z"
    },
    "papermill": {
     "duration": 1.665631,
     "end_time": "2021-12-19T23:30:12.055720",
     "exception": false,
     "start_time": "2021-12-19T23:30:10.390089",
     "status": "completed"
    },
    "tags": []
   },
   "outputs": [],
   "source": [
    "df = pd.read_sql(\"select * from EBAY_TOP_BERLIN where record_time in (select distinct record_time from EBAY_TOP_BERLIN order by record_time desc limit 2)\", sqlite3.connect(\"UsedObjects.db\"))"
   ]
  },
  {
   "cell_type": "code",
   "execution_count": 5,
   "id": "popular-active",
   "metadata": {
    "execution": {
     "iopub.execute_input": "2021-12-19T23:30:12.119331Z",
     "iopub.status.busy": "2021-12-19T23:30:12.117022Z",
     "iopub.status.idle": "2021-12-19T23:30:12.148799Z",
     "shell.execute_reply": "2021-12-19T23:30:12.150481Z"
    },
    "papermill": {
     "duration": 0.074381,
     "end_time": "2021-12-19T23:30:12.150980",
     "exception": false,
     "start_time": "2021-12-19T23:30:12.076599",
     "status": "completed"
    },
    "tags": []
   },
   "outputs": [],
   "source": [
    "df_pivot = df.pivot_table(index=\"PRODUCT\", columns = \"RECORD_TIME\", values = \"LISTING_COUNT\")"
   ]
  },
  {
   "cell_type": "code",
   "execution_count": 6,
   "id": "union-huntington",
   "metadata": {
    "execution": {
     "iopub.execute_input": "2021-12-19T23:30:12.212949Z",
     "iopub.status.busy": "2021-12-19T23:30:12.210719Z",
     "iopub.status.idle": "2021-12-19T23:30:12.215616Z",
     "shell.execute_reply": "2021-12-19T23:30:12.217535Z"
    },
    "papermill": {
     "duration": 0.043787,
     "end_time": "2021-12-19T23:30:12.218007",
     "exception": false,
     "start_time": "2021-12-19T23:30:12.174220",
     "status": "completed"
    },
    "tags": []
   },
   "outputs": [],
   "source": [
    "df_pivot.columns = [\"stamp_1\", \"stamp_2\"]\n",
    "df_pivot_diff = df_pivot.diff(axis=1)"
   ]
  },
  {
   "cell_type": "code",
   "execution_count": 7,
   "id": "fifth-motion",
   "metadata": {
    "execution": {
     "iopub.execute_input": "2021-12-19T23:30:12.274495Z",
     "iopub.status.busy": "2021-12-19T23:30:12.271888Z",
     "iopub.status.idle": "2021-12-19T23:30:14.266273Z",
     "shell.execute_reply": "2021-12-19T23:30:14.267602Z"
    },
    "papermill": {
     "duration": 2.029435,
     "end_time": "2021-12-19T23:30:14.268025",
     "exception": false,
     "start_time": "2021-12-19T23:30:12.238590",
     "status": "completed"
    },
    "tags": []
   },
   "outputs": [
    {
     "data": {
      "text/plain": [
       "<AxesSubplot:ylabel='PRODUCT'>"
      ]
     },
     "execution_count": 7,
     "metadata": {},
     "output_type": "execute_result"
    },
    {
     "data": {
      "image/png": "[encoded data removed]",
      "text/plain": [
       "<Figure size 432x288 with 1 Axes>"
      ]
     },
     "metadata": {
      "needs_background": "light"
     },
     "output_type": "display_data"
    }
   ],
   "source": [
    "df_pivot_diff.sort_values(\"stamp_2\", ascending = False)[\"stamp_2\"].head(10).plot.barh()"
   ]
  },
  {
   "cell_type": "code",
   "execution_count": null,
   "id": "extra-executive",
   "metadata": {
    "papermill": {
     "duration": 0.028682,
     "end_time": "2021-12-19T23:30:14.330323",
     "exception": false,
     "start_time": "2021-12-19T23:30:14.301641",
     "status": "completed"
    },
    "tags": []
   },
   "outputs": [],
   "source": []
  }
 ],
 "metadata": {
  "kernelspec": {
   "display_name": "Python 3",
   "language": "python",
   "name": "python3"
  },
  "language_info": {
   "codemirror_mode": {
    "name": "ipython",
    "version": 3
   },
   "file_extension": ".py",
   "mimetype": "text/x-python",
   "name": "python",
   "nbconvert_exporter": "python",
   "pygments_lexer": "ipython3",
   "version": "3.9.5"
  },
  "papermill": {
   "default_parameters": {},
   "duration": 9.632798,
   "end_time": "2021-12-19T23:30:14.975926",
   "environment_variables": {},
   "exception": null,
   "input_path": "eBay_Overview.ipynb",
   "output_path": "eBay_Overview.ipynb",
   "parameters": {},
   "start_time": "2021-12-19T23:30:05.343128",
   "version": "2.3.3"
  }
 },
 "nbformat": 4,
 "nbformat_minor": 5
}