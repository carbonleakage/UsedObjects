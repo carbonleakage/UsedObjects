{
 "cells": [
  {
   "cell_type": "code",
   "execution_count": 1,
   "id": "reverse-picking",
   "metadata": {
    "execution": {
     "iopub.execute_input": "2021-08-10T15:00:04.287904Z",
     "iopub.status.busy": "2021-08-10T15:00:04.286983Z",
     "iopub.status.idle": "2021-08-10T15:00:04.955187Z",
     "shell.execute_reply": "2021-08-10T15:00:04.955727Z"
    },
    "papermill": {
     "duration": 0.690537,
     "end_time": "2021-08-10T15:00:04.956002",
     "exception": false,
     "start_time": "2021-08-10T15:00:04.265465",
     "status": "completed"
    },
    "tags": []
   },
   "outputs": [],
   "source": [
    "import pandas as pd\n",
    "import sqlite3"
   ]
  },
  {
   "cell_type": "code",
   "execution_count": 2,
   "id": "innovative-syndrome",
   "metadata": {
    "execution": {
     "iopub.execute_input": "2021-08-10T15:00:04.978003Z",
     "iopub.status.busy": "2021-08-10T15:00:04.977223Z",
     "iopub.status.idle": "2021-08-10T15:00:05.219982Z",
     "shell.execute_reply": "2021-08-10T15:00:05.219231Z"
    },
    "papermill": {
     "duration": 0.255634,
     "end_time": "2021-08-10T15:00:05.220145",
     "exception": false,
     "start_time": "2021-08-10T15:00:04.964511",
     "status": "completed"
    },
    "tags": []
   },
   "outputs": [],
   "source": [
    "timestamps = pd.read_sql(\"select distinct record_time from EBAY_TOP_BERLIN order by record_time desc limit 2\", sqlite3.connect(\"UsedObjects.db\"))"
   ]
  },
  {
   "cell_type": "code",
   "execution_count": 3,
   "id": "periodic-identification",
   "metadata": {
    "execution": {
     "iopub.execute_input": "2021-08-10T15:00:05.254322Z",
     "iopub.status.busy": "2021-08-10T15:00:05.252956Z",
     "iopub.status.idle": "2021-08-10T15:00:05.267808Z",
     "shell.execute_reply": "2021-08-10T15:00:05.267241Z"
    },
    "papermill": {
     "duration": 0.03851,
     "end_time": "2021-08-10T15:00:05.267960",
     "exception": false,
     "start_time": "2021-08-10T15:00:05.229450",
     "status": "completed"
    },
    "tags": []
   },
   "outputs": [
    {
     "data": {
      "text/html": [
       "<div>\n",
       "<style scoped>\n",
       "    .dataframe tbody tr th:only-of-type {\n",
       "        vertical-align: middle;\n",
       "    }\n",
       "\n",
       "    .dataframe tbody tr th {\n",
       "        vertical-align: top;\n",
       "    }\n",
       "\n",
       "    .dataframe thead th {\n",
       "        text-align: right;\n",
       "    }\n",
       "</style>\n",
       "<table border=\"1\" class=\"dataframe\">\n",
       "  <thead>\n",
       "    <tr style=\"text-align: right;\">\n",
       "      <th></th>\n",
       "      <th>RECORD_TIME</th>\n",
       "    </tr>\n",
       "  </thead>\n",
       "  <tbody>\n",
       "    <tr>\n",
       "      <th>0</th>\n",
       "      <td>2021-08-10 17:00</td>\n",
       "    </tr>\n",
       "    <tr>\n",
       "      <th>1</th>\n",
       "      <td>2021-08-10 16:30</td>\n",
       "    </tr>\n",
       "  </tbody>\n",
       "</table>\n",
       "</div>"
      ],
      "text/plain": [
       "        RECORD_TIME\n",
       "0  2021-08-10 17:00\n",
       "1  2021-08-10 16:30"
      ]
     },
     "execution_count": 3,
     "metadata": {},
     "output_type": "execute_result"
    }
   ],
   "source": [
    "timestamps"
   ]
  },
  {
   "cell_type": "code",
   "execution_count": 4,
   "id": "alternate-victory",
   "metadata": {
    "execution": {
     "iopub.execute_input": "2021-08-10T15:00:05.296864Z",
     "iopub.status.busy": "2021-08-10T15:00:05.296068Z",
     "iopub.status.idle": "2021-08-10T15:00:05.318274Z",
     "shell.execute_reply": "2021-08-10T15:00:05.318848Z"
    },
    "papermill": {
     "duration": 0.042875,
     "end_time": "2021-08-10T15:00:05.319043",
     "exception": false,
     "start_time": "2021-08-10T15:00:05.276168",
     "status": "completed"
    },
    "tags": []
   },
   "outputs": [],
   "source": [
    "df = pd.read_sql(\"select * from EBAY_TOP_BERLIN where record_time in (select distinct record_time from EBAY_TOP_BERLIN order by record_time desc limit 2)\", sqlite3.connect(\"UsedObjects.db\"))"
   ]
  },
  {
   "cell_type": "code",
   "execution_count": 5,
   "id": "popular-active",
   "metadata": {
    "execution": {
     "iopub.execute_input": "2021-08-10T15:00:05.344355Z",
     "iopub.status.busy": "2021-08-10T15:00:05.342695Z",
     "iopub.status.idle": "2021-08-10T15:00:05.363120Z",
     "shell.execute_reply": "2021-08-10T15:00:05.363925Z"
    },
    "papermill": {
     "duration": 0.036772,
     "end_time": "2021-08-10T15:00:05.364186",
     "exception": false,
     "start_time": "2021-08-10T15:00:05.327414",
     "status": "completed"
    },
    "tags": []
   },
   "outputs": [],
   "source": [
    "df_pivot = df.pivot_table(index=\"PRODUCT\", columns = \"RECORD_TIME\", values = \"LISTING_COUNT\")"
   ]
  },
  {
   "cell_type": "code",
   "execution_count": 6,
   "id": "union-huntington",
   "metadata": {
    "execution": {
     "iopub.execute_input": "2021-08-10T15:00:05.393839Z",
     "iopub.status.busy": "2021-08-10T15:00:05.392357Z",
     "iopub.status.idle": "2021-08-10T15:00:05.395871Z",
     "shell.execute_reply": "2021-08-10T15:00:05.396824Z"
    },
    "papermill": {
     "duration": 0.022884,
     "end_time": "2021-08-10T15:00:05.397152",
     "exception": false,
     "start_time": "2021-08-10T15:00:05.374268",
     "status": "completed"
    },
    "tags": []
   },
   "outputs": [],
   "source": [
    "df_pivot.columns = [\"stamp_1\", \"stamp_2\"]\n",
    "df_pivot_diff = df_pivot.diff(axis=1)"
   ]
  },
  {
   "cell_type": "code",
   "execution_count": 7,
   "id": "fifth-motion",
   "metadata": {
    "execution": {
     "iopub.execute_input": "2021-08-10T15:00:05.426534Z",
     "iopub.status.busy": "2021-08-10T15:00:05.425775Z",
     "iopub.status.idle": "2021-08-10T15:00:06.125048Z",
     "shell.execute_reply": "2021-08-10T15:00:06.125640Z"
    },
    "papermill": {
     "duration": 0.715736,
     "end_time": "2021-08-10T15:00:06.125837",
     "exception": false,
     "start_time": "2021-08-10T15:00:05.410101",
     "status": "completed"
    },
    "tags": []
   },
   "outputs": [
    {
     "data": {
      "text/plain": [
       "<AxesSubplot:ylabel='PRODUCT'>"
      ]
     },
     "execution_count": 7,
     "metadata": {},
     "output_type": "execute_result"
    },
    {
     "data": {
      "image/png": "[encoded data removed]",
      "text/plain": [
       "<Figure size 432x288 with 1 Axes>"
      ]
     },
     "metadata": {
      "needs_background": "light"
     },
     "output_type": "display_data"
    }
   ],
   "source": [
    "df_pivot_diff.sort_values(\"stamp_2\", ascending = False)[\"stamp_2\"].head(10).plot.barh()"
   ]
  },
  {
   "cell_type": "code",
   "execution_count": null,
   "id": "extra-executive",
   "metadata": {
    "papermill": {
     "duration": 0.015987,
     "end_time": "2021-08-10T15:00:06.151707",
     "exception": false,
     "start_time": "2021-08-10T15:00:06.135720",
     "status": "completed"
    },
    "tags": []
   },
   "outputs": [],
   "source": []
  }
 ],
 "metadata": {
  "kernelspec": {
   "display_name": "Python 3",
   "language": "python",
   "name": "python3"
  },
  "language_info": {
   "codemirror_mode": {
    "name": "ipython",
    "version": 3
   },
   "file_extension": ".py",
   "mimetype": "text/x-python",
   "name": "python",
   "nbconvert_exporter": "python",
   "pygments_lexer": "ipython3",
   "version": "3.8.8"
  },
  "papermill": {
   "default_parameters": {},
   "duration": 5.072713,
   "end_time": "2021-08-10T15:00:07.644966",
   "environment_variables": {},
   "exception": null,
   "input_path": "/Users/saravananshanmugam/Carbonleakage_Git/UsedObjects/eBay_Overview.ipynb",
   "output_path": "/Users/saravananshanmugam/Carbonleakage_Git/UsedObjects/eBay_Overview.ipynb",
   "parameters": {},
   "start_time": "2021-08-10T15:00:02.572253",
   "version": "2.3.3"
  }
 },
 "nbformat": 4,
 "nbformat_minor": 5
}