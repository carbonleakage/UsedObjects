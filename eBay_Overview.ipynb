{
 "cells": [
  {
   "cell_type": "code",
   "execution_count": 1,
   "id": "reverse-picking",
   "metadata": {
    "execution": {
     "iopub.execute_input": "2021-09-01T04:30:06.477201Z",
     "iopub.status.busy": "2021-09-01T04:30:06.475299Z",
     "iopub.status.idle": "2021-09-01T04:30:07.278586Z",
     "shell.execute_reply": "2021-09-01T04:30:07.276952Z"
    },
    "papermill": {
     "duration": 0.854638,
     "end_time": "2021-09-01T04:30:07.279061",
     "exception": false,
     "start_time": "2021-09-01T04:30:06.424423",
     "status": "completed"
    },
    "tags": []
   },
   "outputs": [],
   "source": [
    "import pandas as pd\n",
    "import sqlite3"
   ]
  },
  {
   "cell_type": "code",
   "execution_count": 2,
   "id": "innovative-syndrome",
   "metadata": {
    "execution": {
     "iopub.execute_input": "2021-09-01T04:30:07.329891Z",
     "iopub.status.busy": "2021-09-01T04:30:07.327622Z",
     "iopub.status.idle": "2021-09-01T04:30:07.507154Z",
     "shell.execute_reply": "2021-09-01T04:30:07.508513Z"
    },
    "papermill": {
     "duration": 0.209697,
     "end_time": "2021-09-01T04:30:07.508925",
     "exception": false,
     "start_time": "2021-09-01T04:30:07.299228",
     "status": "completed"
    },
    "tags": []
   },
   "outputs": [],
   "source": [
    "timestamps = pd.read_sql(\"select distinct record_time from EBAY_TOP_BERLIN order by record_time desc limit 2\", sqlite3.connect(\"UsedObjects.db\"))"
   ]
  },
  {
   "cell_type": "code",
   "execution_count": 3,
   "id": "periodic-identification",
   "metadata": {
    "execution": {
     "iopub.execute_input": "2021-09-01T04:30:07.574051Z",
     "iopub.status.busy": "2021-09-01T04:30:07.572053Z",
     "iopub.status.idle": "2021-09-01T04:30:07.591875Z",
     "shell.execute_reply": "2021-09-01T04:30:07.593012Z"
    },
    "papermill": {
     "duration": 0.065379,
     "end_time": "2021-09-01T04:30:07.593424",
     "exception": false,
     "start_time": "2021-09-01T04:30:07.528045",
     "status": "completed"
    },
    "tags": []
   },
   "outputs": [
    {
     "data": {
      "text/html": [
       "<div>\n",
       "<style scoped>\n",
       "    .dataframe tbody tr th:only-of-type {\n",
       "        vertical-align: middle;\n",
       "    }\n",
       "\n",
       "    .dataframe tbody tr th {\n",
       "        vertical-align: top;\n",
       "    }\n",
       "\n",
       "    .dataframe thead th {\n",
       "        text-align: right;\n",
       "    }\n",
       "</style>\n",
       "<table border=\"1\" class=\"dataframe\">\n",
       "  <thead>\n",
       "    <tr style=\"text-align: right;\">\n",
       "      <th></th>\n",
       "      <th>RECORD_TIME</th>\n",
       "    </tr>\n",
       "  </thead>\n",
       "  <tbody>\n",
       "    <tr>\n",
       "      <th>0</th>\n",
       "      <td>2021-09-01 06:30</td>\n",
       "    </tr>\n",
       "    <tr>\n",
       "      <th>1</th>\n",
       "      <td>2021-09-01 06:00</td>\n",
       "    </tr>\n",
       "  </tbody>\n",
       "</table>\n",
       "</div>"
      ],
      "text/plain": [
       "        RECORD_TIME\n",
       "0  2021-09-01 06:30\n",
       "1  2021-09-01 06:00"
      ]
     },
     "execution_count": 3,
     "metadata": {},
     "output_type": "execute_result"
    }
   ],
   "source": [
    "timestamps"
   ]
  },
  {
   "cell_type": "code",
   "execution_count": 4,
   "id": "alternate-victory",
   "metadata": {
    "execution": {
     "iopub.execute_input": "2021-09-01T04:30:07.646988Z",
     "iopub.status.busy": "2021-09-01T04:30:07.644691Z",
     "iopub.status.idle": "2021-09-01T04:30:07.912400Z",
     "shell.execute_reply": "2021-09-01T04:30:07.913597Z"
    },
    "papermill": {
     "duration": 0.298095,
     "end_time": "2021-09-01T04:30:07.913991",
     "exception": false,
     "start_time": "2021-09-01T04:30:07.615896",
     "status": "completed"
    },
    "tags": []
   },
   "outputs": [],
   "source": [
    "df = pd.read_sql(\"select * from EBAY_TOP_BERLIN where record_time in (select distinct record_time from EBAY_TOP_BERLIN order by record_time desc limit 2)\", sqlite3.connect(\"UsedObjects.db\"))"
   ]
  },
  {
   "cell_type": "code",
   "execution_count": 5,
   "id": "popular-active",
   "metadata": {
    "execution": {
     "iopub.execute_input": "2021-09-01T04:30:07.988088Z",
     "iopub.status.busy": "2021-09-01T04:30:07.980769Z",
     "iopub.status.idle": "2021-09-01T04:30:08.009051Z",
     "shell.execute_reply": "2021-09-01T04:30:08.010257Z"
    },
    "papermill": {
     "duration": 0.070949,
     "end_time": "2021-09-01T04:30:08.010649",
     "exception": false,
     "start_time": "2021-09-01T04:30:07.939700",
     "status": "completed"
    },
    "tags": []
   },
   "outputs": [],
   "source": [
    "df_pivot = df.pivot_table(index=\"PRODUCT\", columns = \"RECORD_TIME\", values = \"LISTING_COUNT\")"
   ]
  },
  {
   "cell_type": "code",
   "execution_count": 6,
   "id": "union-huntington",
   "metadata": {
    "execution": {
     "iopub.execute_input": "2021-09-01T04:30:08.067427Z",
     "iopub.status.busy": "2021-09-01T04:30:08.065113Z",
     "iopub.status.idle": "2021-09-01T04:30:08.070747Z",
     "shell.execute_reply": "2021-09-01T04:30:08.072125Z"
    },
    "papermill": {
     "duration": 0.041476,
     "end_time": "2021-09-01T04:30:08.072541",
     "exception": false,
     "start_time": "2021-09-01T04:30:08.031065",
     "status": "completed"
    },
    "tags": []
   },
   "outputs": [],
   "source": [
    "df_pivot.columns = [\"stamp_1\", \"stamp_2\"]\n",
    "df_pivot_diff = df_pivot.diff(axis=1)"
   ]
  },
  {
   "cell_type": "code",
   "execution_count": 7,
   "id": "fifth-motion",
   "metadata": {
    "execution": {
     "iopub.execute_input": "2021-09-01T04:30:08.125765Z",
     "iopub.status.busy": "2021-09-01T04:30:08.123543Z",
     "iopub.status.idle": "2021-09-01T04:30:09.624360Z",
     "shell.execute_reply": "2021-09-01T04:30:09.625626Z"
    },
    "papermill": {
     "duration": 1.533803,
     "end_time": "2021-09-01T04:30:09.626083",
     "exception": false,
     "start_time": "2021-09-01T04:30:08.092280",
     "status": "completed"
    },
    "tags": []
   },
   "outputs": [
    {
     "data": {
      "text/plain": [
       "<AxesSubplot:ylabel='PRODUCT'>"
      ]
     },
     "execution_count": 7,
     "metadata": {},
     "output_type": "execute_result"
    },
    {
     "data": {
      "image/png": "[encoded data removed]",
      "text/plain": [
       "<Figure size 432x288 with 1 Axes>"
      ]
     },
     "metadata": {
      "needs_background": "light"
     },
     "output_type": "display_data"
    }
   ],
   "source": [
    "df_pivot_diff.sort_values(\"stamp_2\", ascending = False)[\"stamp_2\"].head(10).plot.barh()"
   ]
  },
  {
   "cell_type": "code",
   "execution_count": null,
   "id": "extra-executive",
   "metadata": {
    "papermill": {
     "duration": 0.022031,
     "end_time": "2021-09-01T04:30:09.672235",
     "exception": false,
     "start_time": "2021-09-01T04:30:09.650204",
     "status": "completed"
    },
    "tags": []
   },
   "outputs": [],
   "source": []
  }
 ],
 "metadata": {
  "kernelspec": {
   "display_name": "Python 3",
   "language": "python",
   "name": "python3"
  },
  "language_info": {
   "codemirror_mode": {
    "name": "ipython",
    "version": 3
   },
   "file_extension": ".py",
   "mimetype": "text/x-python",
   "name": "python",
   "nbconvert_exporter": "python",
   "pygments_lexer": "ipython3",
   "version": "3.9.5"
  },
  "papermill": {
   "default_parameters": {},
   "duration": 6.819531,
   "end_time": "2021-09-01T04:30:10.841498",
   "environment_variables": {},
   "exception": null,
   "input_path": "eBay_Overview.ipynb",
   "output_path": "eBay_Overview.ipynb",
   "parameters": {},
   "start_time": "2021-09-01T04:30:04.021967",
   "version": "2.3.3"
  }
 },
 "nbformat": 4,
 "nbformat_minor": 5
}