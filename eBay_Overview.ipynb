{
 "cells": [
  {
   "cell_type": "code",
   "execution_count": 1,
   "id": "reverse-picking",
   "metadata": {
    "execution": {
     "iopub.execute_input": "2021-08-29T13:30:07.058808Z",
     "iopub.status.busy": "2021-08-29T13:30:07.056878Z",
     "iopub.status.idle": "2021-08-29T13:30:07.862734Z",
     "shell.execute_reply": "2021-08-29T13:30:07.863983Z"
    },
    "papermill": {
     "duration": 0.858445,
     "end_time": "2021-08-29T13:30:07.864671",
     "exception": false,
     "start_time": "2021-08-29T13:30:07.006226",
     "status": "completed"
    },
    "tags": []
   },
   "outputs": [],
   "source": [
    "import pandas as pd\n",
    "import sqlite3"
   ]
  },
  {
   "cell_type": "code",
   "execution_count": 2,
   "id": "innovative-syndrome",
   "metadata": {
    "execution": {
     "iopub.execute_input": "2021-08-29T13:30:07.915596Z",
     "iopub.status.busy": "2021-08-29T13:30:07.913741Z",
     "iopub.status.idle": "2021-08-29T13:30:08.068871Z",
     "shell.execute_reply": "2021-08-29T13:30:08.070153Z"
    },
    "papermill": {
     "duration": 0.184898,
     "end_time": "2021-08-29T13:30:08.070545",
     "exception": false,
     "start_time": "2021-08-29T13:30:07.885647",
     "status": "completed"
    },
    "tags": []
   },
   "outputs": [],
   "source": [
    "timestamps = pd.read_sql(\"select distinct record_time from EBAY_TOP_BERLIN order by record_time desc limit 2\", sqlite3.connect(\"UsedObjects.db\"))"
   ]
  },
  {
   "cell_type": "code",
   "execution_count": 3,
   "id": "periodic-identification",
   "metadata": {
    "execution": {
     "iopub.execute_input": "2021-08-29T13:30:08.135106Z",
     "iopub.status.busy": "2021-08-29T13:30:08.133107Z",
     "iopub.status.idle": "2021-08-29T13:30:08.153565Z",
     "shell.execute_reply": "2021-08-29T13:30:08.155049Z"
    },
    "papermill": {
     "duration": 0.065407,
     "end_time": "2021-08-29T13:30:08.155511",
     "exception": false,
     "start_time": "2021-08-29T13:30:08.090104",
     "status": "completed"
    },
    "tags": []
   },
   "outputs": [
    {
     "data": {
      "text/html": [
       "<div>\n",
       "<style scoped>\n",
       "    .dataframe tbody tr th:only-of-type {\n",
       "        vertical-align: middle;\n",
       "    }\n",
       "\n",
       "    .dataframe tbody tr th {\n",
       "        vertical-align: top;\n",
       "    }\n",
       "\n",
       "    .dataframe thead th {\n",
       "        text-align: right;\n",
       "    }\n",
       "</style>\n",
       "<table border=\"1\" class=\"dataframe\">\n",
       "  <thead>\n",
       "    <tr style=\"text-align: right;\">\n",
       "      <th></th>\n",
       "      <th>RECORD_TIME</th>\n",
       "    </tr>\n",
       "  </thead>\n",
       "  <tbody>\n",
       "    <tr>\n",
       "      <th>0</th>\n",
       "      <td>2021-08-29 15:30</td>\n",
       "    </tr>\n",
       "    <tr>\n",
       "      <th>1</th>\n",
       "      <td>2021-08-29 15:00</td>\n",
       "    </tr>\n",
       "  </tbody>\n",
       "</table>\n",
       "</div>"
      ],
      "text/plain": [
       "        RECORD_TIME\n",
       "0  2021-08-29 15:30\n",
       "1  2021-08-29 15:00"
      ]
     },
     "execution_count": 3,
     "metadata": {},
     "output_type": "execute_result"
    }
   ],
   "source": [
    "timestamps"
   ]
  },
  {
   "cell_type": "code",
   "execution_count": 4,
   "id": "alternate-victory",
   "metadata": {
    "execution": {
     "iopub.execute_input": "2021-08-29T13:30:08.207780Z",
     "iopub.status.busy": "2021-08-29T13:30:08.205864Z",
     "iopub.status.idle": "2021-08-29T13:30:08.437371Z",
     "shell.execute_reply": "2021-08-29T13:30:08.438592Z"
    },
    "papermill": {
     "duration": 0.262013,
     "end_time": "2021-08-29T13:30:08.438987",
     "exception": false,
     "start_time": "2021-08-29T13:30:08.176974",
     "status": "completed"
    },
    "tags": []
   },
   "outputs": [],
   "source": [
    "df = pd.read_sql(\"select * from EBAY_TOP_BERLIN where record_time in (select distinct record_time from EBAY_TOP_BERLIN order by record_time desc limit 2)\", sqlite3.connect(\"UsedObjects.db\"))"
   ]
  },
  {
   "cell_type": "code",
   "execution_count": 5,
   "id": "popular-active",
   "metadata": {
    "execution": {
     "iopub.execute_input": "2021-08-29T13:30:08.520079Z",
     "iopub.status.busy": "2021-08-29T13:30:08.507547Z",
     "iopub.status.idle": "2021-08-29T13:30:08.535654Z",
     "shell.execute_reply": "2021-08-29T13:30:08.537074Z"
    },
    "papermill": {
     "duration": 0.075804,
     "end_time": "2021-08-29T13:30:08.537506",
     "exception": false,
     "start_time": "2021-08-29T13:30:08.461702",
     "status": "completed"
    },
    "tags": []
   },
   "outputs": [],
   "source": [
    "df_pivot = df.pivot_table(index=\"PRODUCT\", columns = \"RECORD_TIME\", values = \"LISTING_COUNT\")"
   ]
  },
  {
   "cell_type": "code",
   "execution_count": 6,
   "id": "union-huntington",
   "metadata": {
    "execution": {
     "iopub.execute_input": "2021-08-29T13:30:08.594765Z",
     "iopub.status.busy": "2021-08-29T13:30:08.592344Z",
     "iopub.status.idle": "2021-08-29T13:30:08.598596Z",
     "shell.execute_reply": "2021-08-29T13:30:08.599983Z"
    },
    "papermill": {
     "duration": 0.042302,
     "end_time": "2021-08-29T13:30:08.600501",
     "exception": false,
     "start_time": "2021-08-29T13:30:08.558199",
     "status": "completed"
    },
    "tags": []
   },
   "outputs": [],
   "source": [
    "df_pivot.columns = [\"stamp_1\", \"stamp_2\"]\n",
    "df_pivot_diff = df_pivot.diff(axis=1)"
   ]
  },
  {
   "cell_type": "code",
   "execution_count": 7,
   "id": "fifth-motion",
   "metadata": {
    "execution": {
     "iopub.execute_input": "2021-08-29T13:30:08.655217Z",
     "iopub.status.busy": "2021-08-29T13:30:08.653043Z",
     "iopub.status.idle": "2021-08-29T13:30:10.137244Z",
     "shell.execute_reply": "2021-08-29T13:30:10.138535Z"
    },
    "papermill": {
     "duration": 1.517046,
     "end_time": "2021-08-29T13:30:10.138952",
     "exception": false,
     "start_time": "2021-08-29T13:30:08.621906",
     "status": "completed"
    },
    "tags": []
   },
   "outputs": [
    {
     "data": {
      "text/plain": [
       "<AxesSubplot:ylabel='PRODUCT'>"
      ]
     },
     "execution_count": 7,
     "metadata": {},
     "output_type": "execute_result"
    },
    {
     "data": {
      "image/png": "[encoded data removed]",
      "text/plain": [
       "<Figure size 432x288 with 1 Axes>"
      ]
     },
     "metadata": {
      "needs_background": "light"
     },
     "output_type": "display_data"
    }
   ],
   "source": [
    "df_pivot_diff.sort_values(\"stamp_2\", ascending = False)[\"stamp_2\"].head(10).plot.barh()"
   ]
  },
  {
   "cell_type": "code",
   "execution_count": null,
   "id": "extra-executive",
   "metadata": {
    "papermill": {
     "duration": 0.022475,
     "end_time": "2021-08-29T13:30:10.187144",
     "exception": false,
     "start_time": "2021-08-29T13:30:10.164669",
     "status": "completed"
    },
    "tags": []
   },
   "outputs": [],
   "source": []
  }
 ],
 "metadata": {
  "kernelspec": {
   "display_name": "Python 3",
   "language": "python",
   "name": "python3"
  },
  "language_info": {
   "codemirror_mode": {
    "name": "ipython",
    "version": 3
   },
   "file_extension": ".py",
   "mimetype": "text/x-python",
   "name": "python",
   "nbconvert_exporter": "python",
   "pygments_lexer": "ipython3",
   "version": "3.9.5"
  },
  "papermill": {
   "default_parameters": {},
   "duration": 6.820353,
   "end_time": "2021-08-29T13:30:11.418082",
   "environment_variables": {},
   "exception": null,
   "input_path": "eBay_Overview.ipynb",
   "output_path": "eBay_Overview.ipynb",
   "parameters": {},
   "start_time": "2021-08-29T13:30:04.597729",
   "version": "2.3.3"
  }
 },
 "nbformat": 4,
 "nbformat_minor": 5
}