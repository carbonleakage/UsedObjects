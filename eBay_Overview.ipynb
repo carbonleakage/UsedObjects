{
 "cells": [
  {
   "cell_type": "code",
   "execution_count": 1,
   "id": "reverse-picking",
   "metadata": {
    "execution": {
     "iopub.execute_input": "2021-09-08T13:30:07.404570Z",
     "iopub.status.busy": "2021-09-08T13:30:07.402483Z",
     "iopub.status.idle": "2021-09-08T13:30:08.208784Z",
     "shell.execute_reply": "2021-09-08T13:30:08.210042Z"
    },
    "papermill": {
     "duration": 0.856192,
     "end_time": "2021-09-08T13:30:08.210671",
     "exception": false,
     "start_time": "2021-09-08T13:30:07.354479",
     "status": "completed"
    },
    "tags": []
   },
   "outputs": [],
   "source": [
    "import pandas as pd\n",
    "import sqlite3"
   ]
  },
  {
   "cell_type": "code",
   "execution_count": 2,
   "id": "innovative-syndrome",
   "metadata": {
    "execution": {
     "iopub.execute_input": "2021-09-08T13:30:08.260033Z",
     "iopub.status.busy": "2021-09-08T13:30:08.258029Z",
     "iopub.status.idle": "2021-09-08T13:30:08.493394Z",
     "shell.execute_reply": "2021-09-08T13:30:08.494594Z"
    },
    "papermill": {
     "duration": 0.264456,
     "end_time": "2021-09-08T13:30:08.495054",
     "exception": false,
     "start_time": "2021-09-08T13:30:08.230598",
     "status": "completed"
    },
    "tags": []
   },
   "outputs": [],
   "source": [
    "timestamps = pd.read_sql(\"select distinct record_time from EBAY_TOP_BERLIN order by record_time desc limit 2\", sqlite3.connect(\"UsedObjects.db\"))"
   ]
  },
  {
   "cell_type": "code",
   "execution_count": 3,
   "id": "periodic-identification",
   "metadata": {
    "execution": {
     "iopub.execute_input": "2021-09-08T13:30:08.558852Z",
     "iopub.status.busy": "2021-09-08T13:30:08.556828Z",
     "iopub.status.idle": "2021-09-08T13:30:08.578251Z",
     "shell.execute_reply": "2021-09-08T13:30:08.576834Z"
    },
    "papermill": {
     "duration": 0.062804,
     "end_time": "2021-09-08T13:30:08.578609",
     "exception": false,
     "start_time": "2021-09-08T13:30:08.515805",
     "status": "completed"
    },
    "tags": []
   },
   "outputs": [
    {
     "data": {
      "text/html": [
       "<div>\n",
       "<style scoped>\n",
       "    .dataframe tbody tr th:only-of-type {\n",
       "        vertical-align: middle;\n",
       "    }\n",
       "\n",
       "    .dataframe tbody tr th {\n",
       "        vertical-align: top;\n",
       "    }\n",
       "\n",
       "    .dataframe thead th {\n",
       "        text-align: right;\n",
       "    }\n",
       "</style>\n",
       "<table border=\"1\" class=\"dataframe\">\n",
       "  <thead>\n",
       "    <tr style=\"text-align: right;\">\n",
       "      <th></th>\n",
       "      <th>RECORD_TIME</th>\n",
       "    </tr>\n",
       "  </thead>\n",
       "  <tbody>\n",
       "    <tr>\n",
       "      <th>0</th>\n",
       "      <td>2021-09-08 15:30</td>\n",
       "    </tr>\n",
       "    <tr>\n",
       "      <th>1</th>\n",
       "      <td>2021-09-08 15:00</td>\n",
       "    </tr>\n",
       "  </tbody>\n",
       "</table>\n",
       "</div>"
      ],
      "text/plain": [
       "        RECORD_TIME\n",
       "0  2021-09-08 15:30\n",
       "1  2021-09-08 15:00"
      ]
     },
     "execution_count": 3,
     "metadata": {},
     "output_type": "execute_result"
    }
   ],
   "source": [
    "timestamps"
   ]
  },
  {
   "cell_type": "code",
   "execution_count": 4,
   "id": "alternate-victory",
   "metadata": {
    "execution": {
     "iopub.execute_input": "2021-09-08T13:30:08.628659Z",
     "iopub.status.busy": "2021-09-08T13:30:08.626680Z",
     "iopub.status.idle": "2021-09-08T13:30:08.982251Z",
     "shell.execute_reply": "2021-09-08T13:30:08.983456Z"
    },
    "papermill": {
     "duration": 0.385063,
     "end_time": "2021-09-08T13:30:08.983882",
     "exception": false,
     "start_time": "2021-09-08T13:30:08.598819",
     "status": "completed"
    },
    "tags": []
   },
   "outputs": [],
   "source": [
    "df = pd.read_sql(\"select * from EBAY_TOP_BERLIN where record_time in (select distinct record_time from EBAY_TOP_BERLIN order by record_time desc limit 2)\", sqlite3.connect(\"UsedObjects.db\"))"
   ]
  },
  {
   "cell_type": "code",
   "execution_count": 5,
   "id": "popular-active",
   "metadata": {
    "execution": {
     "iopub.execute_input": "2021-09-08T13:30:09.065019Z",
     "iopub.status.busy": "2021-09-08T13:30:09.058035Z",
     "iopub.status.idle": "2021-09-08T13:30:09.080788Z",
     "shell.execute_reply": "2021-09-08T13:30:09.082075Z"
    },
    "papermill": {
     "duration": 0.070861,
     "end_time": "2021-09-08T13:30:09.082492",
     "exception": false,
     "start_time": "2021-09-08T13:30:09.011631",
     "status": "completed"
    },
    "tags": []
   },
   "outputs": [],
   "source": [
    "df_pivot = df.pivot_table(index=\"PRODUCT\", columns = \"RECORD_TIME\", values = \"LISTING_COUNT\")"
   ]
  },
  {
   "cell_type": "code",
   "execution_count": 6,
   "id": "union-huntington",
   "metadata": {
    "execution": {
     "iopub.execute_input": "2021-09-08T13:30:09.137587Z",
     "iopub.status.busy": "2021-09-08T13:30:09.135528Z",
     "iopub.status.idle": "2021-09-08T13:30:09.142136Z",
     "shell.execute_reply": "2021-09-08T13:30:09.140759Z"
    },
    "papermill": {
     "duration": 0.040096,
     "end_time": "2021-09-08T13:30:09.142496",
     "exception": false,
     "start_time": "2021-09-08T13:30:09.102400",
     "status": "completed"
    },
    "tags": []
   },
   "outputs": [],
   "source": [
    "df_pivot.columns = [\"stamp_1\", \"stamp_2\"]\n",
    "df_pivot_diff = df_pivot.diff(axis=1)"
   ]
  },
  {
   "cell_type": "code",
   "execution_count": 7,
   "id": "fifth-motion",
   "metadata": {
    "execution": {
     "iopub.execute_input": "2021-09-08T13:30:09.196340Z",
     "iopub.status.busy": "2021-09-08T13:30:09.193752Z",
     "iopub.status.idle": "2021-09-08T13:30:10.663910Z",
     "shell.execute_reply": "2021-09-08T13:30:10.665207Z"
    },
    "papermill": {
     "duration": 1.503059,
     "end_time": "2021-09-08T13:30:10.665631",
     "exception": false,
     "start_time": "2021-09-08T13:30:09.162572",
     "status": "completed"
    },
    "tags": []
   },
   "outputs": [
    {
     "data": {
      "text/plain": [
       "<AxesSubplot:ylabel='PRODUCT'>"
      ]
     },
     "execution_count": 7,
     "metadata": {},
     "output_type": "execute_result"
    },
    {
     "data": {
      "image/png": "[encoded data removed]",
      "text/plain": [
       "<Figure size 432x288 with 1 Axes>"
      ]
     },
     "metadata": {
      "needs_background": "light"
     },
     "output_type": "display_data"
    }
   ],
   "source": [
    "df_pivot_diff.sort_values(\"stamp_2\", ascending = False)[\"stamp_2\"].head(10).plot.barh()"
   ]
  },
  {
   "cell_type": "code",
   "execution_count": null,
   "id": "extra-executive",
   "metadata": {
    "papermill": {
     "duration": 0.021911,
     "end_time": "2021-09-08T13:30:10.711099",
     "exception": false,
     "start_time": "2021-09-08T13:30:10.689188",
     "status": "completed"
    },
    "tags": []
   },
   "outputs": [],
   "source": []
  }
 ],
 "metadata": {
  "kernelspec": {
   "display_name": "Python 3",
   "language": "python",
   "name": "python3"
  },
  "language_info": {
   "codemirror_mode": {
    "name": "ipython",
    "version": 3
   },
   "file_extension": ".py",
   "mimetype": "text/x-python",
   "name": "python",
   "nbconvert_exporter": "python",
   "pygments_lexer": "ipython3",
   "version": "3.9.5"
  },
  "papermill": {
   "default_parameters": {},
   "duration": 6.405253,
   "end_time": "2021-09-08T13:30:11.351262",
   "environment_variables": {},
   "exception": null,
   "input_path": "eBay_Overview.ipynb",
   "output_path": "eBay_Overview.ipynb",
   "parameters": {},
   "start_time": "2021-09-08T13:30:04.946009",
   "version": "2.3.3"
  }
 },
 "nbformat": 4,
 "nbformat_minor": 5
}