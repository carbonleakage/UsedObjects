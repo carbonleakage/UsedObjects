{
 "cells": [
  {
   "cell_type": "code",
   "execution_count": 1,
   "id": "reverse-picking",
   "metadata": {
    "execution": {
     "iopub.execute_input": "2021-09-17T21:30:06.860666Z",
     "iopub.status.busy": "2021-09-17T21:30:06.858559Z",
     "iopub.status.idle": "2021-09-17T21:30:07.664007Z",
     "shell.execute_reply": "2021-09-17T21:30:07.665271Z"
    },
    "papermill": {
     "duration": 0.856252,
     "end_time": "2021-09-17T21:30:07.665890",
     "exception": false,
     "start_time": "2021-09-17T21:30:06.809638",
     "status": "completed"
    },
    "tags": []
   },
   "outputs": [],
   "source": [
    "import pandas as pd\n",
    "import sqlite3"
   ]
  },
  {
   "cell_type": "code",
   "execution_count": 2,
   "id": "innovative-syndrome",
   "metadata": {
    "execution": {
     "iopub.execute_input": "2021-09-17T21:30:07.718358Z",
     "iopub.status.busy": "2021-09-17T21:30:07.716086Z",
     "iopub.status.idle": "2021-09-17T21:30:08.031391Z",
     "shell.execute_reply": "2021-09-17T21:30:08.032688Z"
    },
    "papermill": {
     "duration": 0.34499,
     "end_time": "2021-09-17T21:30:08.033101",
     "exception": false,
     "start_time": "2021-09-17T21:30:07.688111",
     "status": "completed"
    },
    "tags": []
   },
   "outputs": [],
   "source": [
    "timestamps = pd.read_sql(\"select distinct record_time from EBAY_TOP_BERLIN order by record_time desc limit 2\", sqlite3.connect(\"UsedObjects.db\"))"
   ]
  },
  {
   "cell_type": "code",
   "execution_count": 3,
   "id": "periodic-identification",
   "metadata": {
    "execution": {
     "iopub.execute_input": "2021-09-17T21:30:08.100653Z",
     "iopub.status.busy": "2021-09-17T21:30:08.095819Z",
     "iopub.status.idle": "2021-09-17T21:30:08.117440Z",
     "shell.execute_reply": "2021-09-17T21:30:08.118676Z"
    },
    "papermill": {
     "duration": 0.06518,
     "end_time": "2021-09-17T21:30:08.119279",
     "exception": false,
     "start_time": "2021-09-17T21:30:08.054099",
     "status": "completed"
    },
    "tags": []
   },
   "outputs": [
    {
     "data": {
      "text/html": [
       "<div>\n",
       "<style scoped>\n",
       "    .dataframe tbody tr th:only-of-type {\n",
       "        vertical-align: middle;\n",
       "    }\n",
       "\n",
       "    .dataframe tbody tr th {\n",
       "        vertical-align: top;\n",
       "    }\n",
       "\n",
       "    .dataframe thead th {\n",
       "        text-align: right;\n",
       "    }\n",
       "</style>\n",
       "<table border=\"1\" class=\"dataframe\">\n",
       "  <thead>\n",
       "    <tr style=\"text-align: right;\">\n",
       "      <th></th>\n",
       "      <th>RECORD_TIME</th>\n",
       "    </tr>\n",
       "  </thead>\n",
       "  <tbody>\n",
       "    <tr>\n",
       "      <th>0</th>\n",
       "      <td>2021-09-17 23:30</td>\n",
       "    </tr>\n",
       "    <tr>\n",
       "      <th>1</th>\n",
       "      <td>2021-09-17 23:00</td>\n",
       "    </tr>\n",
       "  </tbody>\n",
       "</table>\n",
       "</div>"
      ],
      "text/plain": [
       "        RECORD_TIME\n",
       "0  2021-09-17 23:30\n",
       "1  2021-09-17 23:00"
      ]
     },
     "execution_count": 3,
     "metadata": {},
     "output_type": "execute_result"
    }
   ],
   "source": [
    "timestamps"
   ]
  },
  {
   "cell_type": "code",
   "execution_count": 4,
   "id": "alternate-victory",
   "metadata": {
    "execution": {
     "iopub.execute_input": "2021-09-17T21:30:08.170991Z",
     "iopub.status.busy": "2021-09-17T21:30:08.168657Z",
     "iopub.status.idle": "2021-09-17T21:30:08.626408Z",
     "shell.execute_reply": "2021-09-17T21:30:08.625028Z"
    },
    "papermill": {
     "duration": 0.486691,
     "end_time": "2021-09-17T21:30:08.626763",
     "exception": false,
     "start_time": "2021-09-17T21:30:08.140072",
     "status": "completed"
    },
    "tags": []
   },
   "outputs": [],
   "source": [
    "df = pd.read_sql(\"select * from EBAY_TOP_BERLIN where record_time in (select distinct record_time from EBAY_TOP_BERLIN order by record_time desc limit 2)\", sqlite3.connect(\"UsedObjects.db\"))"
   ]
  },
  {
   "cell_type": "code",
   "execution_count": 5,
   "id": "popular-active",
   "metadata": {
    "execution": {
     "iopub.execute_input": "2021-09-17T21:30:08.696478Z",
     "iopub.status.busy": "2021-09-17T21:30:08.685075Z",
     "iopub.status.idle": "2021-09-17T21:30:08.713438Z",
     "shell.execute_reply": "2021-09-17T21:30:08.714664Z"
    },
    "papermill": {
     "duration": 0.067797,
     "end_time": "2021-09-17T21:30:08.715256",
     "exception": false,
     "start_time": "2021-09-17T21:30:08.647459",
     "status": "completed"
    },
    "tags": []
   },
   "outputs": [],
   "source": [
    "df_pivot = df.pivot_table(index=\"PRODUCT\", columns = \"RECORD_TIME\", values = \"LISTING_COUNT\")"
   ]
  },
  {
   "cell_type": "code",
   "execution_count": 6,
   "id": "union-huntington",
   "metadata": {
    "execution": {
     "iopub.execute_input": "2021-09-17T21:30:08.774080Z",
     "iopub.status.busy": "2021-09-17T21:30:08.771661Z",
     "iopub.status.idle": "2021-09-17T21:30:08.777489Z",
     "shell.execute_reply": "2021-09-17T21:30:08.778917Z"
    },
    "papermill": {
     "duration": 0.042134,
     "end_time": "2021-09-17T21:30:08.779361",
     "exception": false,
     "start_time": "2021-09-17T21:30:08.737227",
     "status": "completed"
    },
    "tags": []
   },
   "outputs": [],
   "source": [
    "df_pivot.columns = [\"stamp_1\", \"stamp_2\"]\n",
    "df_pivot_diff = df_pivot.diff(axis=1)"
   ]
  },
  {
   "cell_type": "code",
   "execution_count": 7,
   "id": "fifth-motion",
   "metadata": {
    "execution": {
     "iopub.execute_input": "2021-09-17T21:30:08.833973Z",
     "iopub.status.busy": "2021-09-17T21:30:08.831771Z",
     "iopub.status.idle": "2021-09-17T21:30:10.343485Z",
     "shell.execute_reply": "2021-09-17T21:30:10.344857Z"
    },
    "papermill": {
     "duration": 1.544684,
     "end_time": "2021-09-17T21:30:10.345335",
     "exception": false,
     "start_time": "2021-09-17T21:30:08.800651",
     "status": "completed"
    },
    "tags": []
   },
   "outputs": [
    {
     "data": {
      "text/plain": [
       "<AxesSubplot:ylabel='PRODUCT'>"
      ]
     },
     "execution_count": 7,
     "metadata": {},
     "output_type": "execute_result"
    },
    {
     "data": {
      "image/png": "[encoded data removed]",
      "text/plain": [
       "<Figure size 432x288 with 1 Axes>"
      ]
     },
     "metadata": {
      "needs_background": "light"
     },
     "output_type": "display_data"
    }
   ],
   "source": [
    "df_pivot_diff.sort_values(\"stamp_2\", ascending = False)[\"stamp_2\"].head(10).plot.barh()"
   ]
  },
  {
   "cell_type": "code",
   "execution_count": null,
   "id": "extra-executive",
   "metadata": {
    "papermill": {
     "duration": 0.022201,
     "end_time": "2021-09-17T21:30:10.392316",
     "exception": false,
     "start_time": "2021-09-17T21:30:10.370115",
     "status": "completed"
    },
    "tags": []
   },
   "outputs": [],
   "source": []
  }
 ],
 "metadata": {
  "kernelspec": {
   "display_name": "Python 3",
   "language": "python",
   "name": "python3"
  },
  "language_info": {
   "codemirror_mode": {
    "name": "ipython",
    "version": 3
   },
   "file_extension": ".py",
   "mimetype": "text/x-python",
   "name": "python",
   "nbconvert_exporter": "python",
   "pygments_lexer": "ipython3",
   "version": "3.9.5"
  },
  "papermill": {
   "default_parameters": {},
   "duration": 6.624762,
   "end_time": "2021-09-17T21:30:11.035231",
   "environment_variables": {},
   "exception": null,
   "input_path": "eBay_Overview.ipynb",
   "output_path": "eBay_Overview.ipynb",
   "parameters": {},
   "start_time": "2021-09-17T21:30:04.410469",
   "version": "2.3.3"
  }
 },
 "nbformat": 4,
 "nbformat_minor": 5
}