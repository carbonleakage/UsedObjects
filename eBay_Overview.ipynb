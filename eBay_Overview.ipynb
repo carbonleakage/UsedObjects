{
 "cells": [
  {
   "cell_type": "code",
   "execution_count": 1,
   "id": "reverse-picking",
   "metadata": {
    "execution": {
     "iopub.execute_input": "2021-12-08T17:00:07.643047Z",
     "iopub.status.busy": "2021-12-08T17:00:07.641105Z",
     "iopub.status.idle": "2021-12-08T17:00:08.541802Z",
     "shell.execute_reply": "2021-12-08T17:00:08.543315Z"
    },
    "papermill": {
     "duration": 0.953558,
     "end_time": "2021-12-08T17:00:08.544070",
     "exception": false,
     "start_time": "2021-12-08T17:00:07.590512",
     "status": "completed"
    },
    "tags": []
   },
   "outputs": [],
   "source": [
    "import pandas as pd\n",
    "import sqlite3"
   ]
  },
  {
   "cell_type": "code",
   "execution_count": 2,
   "id": "innovative-syndrome",
   "metadata": {
    "execution": {
     "iopub.execute_input": "2021-12-08T17:00:08.599564Z",
     "iopub.status.busy": "2021-12-08T17:00:08.597416Z",
     "iopub.status.idle": "2021-12-08T17:00:09.595860Z",
     "shell.execute_reply": "2021-12-08T17:00:09.597509Z"
    },
    "papermill": {
     "duration": 1.032735,
     "end_time": "2021-12-08T17:00:09.598001",
     "exception": false,
     "start_time": "2021-12-08T17:00:08.565266",
     "status": "completed"
    },
    "tags": []
   },
   "outputs": [],
   "source": [
    "timestamps = pd.read_sql(\"select distinct record_time from EBAY_TOP_BERLIN order by record_time desc limit 2\", sqlite3.connect(\"UsedObjects.db\"))"
   ]
  },
  {
   "cell_type": "code",
   "execution_count": 3,
   "id": "periodic-identification",
   "metadata": {
    "execution": {
     "iopub.execute_input": "2021-12-08T17:00:09.667449Z",
     "iopub.status.busy": "2021-12-08T17:00:09.665084Z",
     "iopub.status.idle": "2021-12-08T17:00:09.687908Z",
     "shell.execute_reply": "2021-12-08T17:00:09.689554Z"
    },
    "papermill": {
     "duration": 0.07235,
     "end_time": "2021-12-08T17:00:09.690048",
     "exception": false,
     "start_time": "2021-12-08T17:00:09.617698",
     "status": "completed"
    },
    "tags": []
   },
   "outputs": [
    {
     "data": {
      "text/html": [
       "<div>\n",
       "<style scoped>\n",
       "    .dataframe tbody tr th:only-of-type {\n",
       "        vertical-align: middle;\n",
       "    }\n",
       "\n",
       "    .dataframe tbody tr th {\n",
       "        vertical-align: top;\n",
       "    }\n",
       "\n",
       "    .dataframe thead th {\n",
       "        text-align: right;\n",
       "    }\n",
       "</style>\n",
       "<table border=\"1\" class=\"dataframe\">\n",
       "  <thead>\n",
       "    <tr style=\"text-align: right;\">\n",
       "      <th></th>\n",
       "      <th>RECORD_TIME</th>\n",
       "    </tr>\n",
       "  </thead>\n",
       "  <tbody>\n",
       "    <tr>\n",
       "      <th>0</th>\n",
       "      <td>2021-12-08 18:00</td>\n",
       "    </tr>\n",
       "    <tr>\n",
       "      <th>1</th>\n",
       "      <td>2021-12-08 17:30</td>\n",
       "    </tr>\n",
       "  </tbody>\n",
       "</table>\n",
       "</div>"
      ],
      "text/plain": [
       "        RECORD_TIME\n",
       "0  2021-12-08 18:00\n",
       "1  2021-12-08 17:30"
      ]
     },
     "execution_count": 3,
     "metadata": {},
     "output_type": "execute_result"
    }
   ],
   "source": [
    "timestamps"
   ]
  },
  {
   "cell_type": "code",
   "execution_count": 4,
   "id": "alternate-victory",
   "metadata": {
    "execution": {
     "iopub.execute_input": "2021-12-08T17:00:09.746394Z",
     "iopub.status.busy": "2021-12-08T17:00:09.744074Z",
     "iopub.status.idle": "2021-12-08T17:00:11.194282Z",
     "shell.execute_reply": "2021-12-08T17:00:11.195688Z"
    },
    "papermill": {
     "duration": 1.48491,
     "end_time": "2021-12-08T17:00:11.196184",
     "exception": false,
     "start_time": "2021-12-08T17:00:09.711274",
     "status": "completed"
    },
    "tags": []
   },
   "outputs": [],
   "source": [
    "df = pd.read_sql(\"select * from EBAY_TOP_BERLIN where record_time in (select distinct record_time from EBAY_TOP_BERLIN order by record_time desc limit 2)\", sqlite3.connect(\"UsedObjects.db\"))"
   ]
  },
  {
   "cell_type": "code",
   "execution_count": 5,
   "id": "popular-active",
   "metadata": {
    "execution": {
     "iopub.execute_input": "2021-12-08T17:00:11.262272Z",
     "iopub.status.busy": "2021-12-08T17:00:11.259882Z",
     "iopub.status.idle": "2021-12-08T17:00:11.295450Z",
     "shell.execute_reply": "2021-12-08T17:00:11.296938Z"
    },
    "papermill": {
     "duration": 0.079819,
     "end_time": "2021-12-08T17:00:11.297412",
     "exception": false,
     "start_time": "2021-12-08T17:00:11.217593",
     "status": "completed"
    },
    "tags": []
   },
   "outputs": [],
   "source": [
    "df_pivot = df.pivot_table(index=\"PRODUCT\", columns = \"RECORD_TIME\", values = \"LISTING_COUNT\")"
   ]
  },
  {
   "cell_type": "code",
   "execution_count": 6,
   "id": "union-huntington",
   "metadata": {
    "execution": {
     "iopub.execute_input": "2021-12-08T17:00:11.362554Z",
     "iopub.status.busy": "2021-12-08T17:00:11.360060Z",
     "iopub.status.idle": "2021-12-08T17:00:11.366502Z",
     "shell.execute_reply": "2021-12-08T17:00:11.368016Z"
    },
    "papermill": {
     "duration": 0.048775,
     "end_time": "2021-12-08T17:00:11.368502",
     "exception": false,
     "start_time": "2021-12-08T17:00:11.319727",
     "status": "completed"
    },
    "tags": []
   },
   "outputs": [],
   "source": [
    "df_pivot.columns = [\"stamp_1\", \"stamp_2\"]\n",
    "df_pivot_diff = df_pivot.diff(axis=1)"
   ]
  },
  {
   "cell_type": "code",
   "execution_count": 7,
   "id": "fifth-motion",
   "metadata": {
    "execution": {
     "iopub.execute_input": "2021-12-08T17:00:11.430262Z",
     "iopub.status.busy": "2021-12-08T17:00:11.427900Z",
     "iopub.status.idle": "2021-12-08T17:00:13.121893Z",
     "shell.execute_reply": "2021-12-08T17:00:13.123486Z"
    },
    "papermill": {
     "duration": 1.733043,
     "end_time": "2021-12-08T17:00:13.123982",
     "exception": false,
     "start_time": "2021-12-08T17:00:11.390939",
     "status": "completed"
    },
    "tags": []
   },
   "outputs": [
    {
     "data": {
      "text/plain": [
       "<AxesSubplot:ylabel='PRODUCT'>"
      ]
     },
     "execution_count": 7,
     "metadata": {},
     "output_type": "execute_result"
    },
    {
     "data": {
      "image/png": "[encoded data removed]",
      "text/plain": [
       "<Figure size 432x288 with 1 Axes>"
      ]
     },
     "metadata": {
      "needs_background": "light"
     },
     "output_type": "display_data"
    }
   ],
   "source": [
    "df_pivot_diff.sort_values(\"stamp_2\", ascending = False)[\"stamp_2\"].head(10).plot.barh()"
   ]
  },
  {
   "cell_type": "code",
   "execution_count": null,
   "id": "extra-executive",
   "metadata": {
    "papermill": {
     "duration": 0.024255,
     "end_time": "2021-12-08T17:00:13.173181",
     "exception": false,
     "start_time": "2021-12-08T17:00:13.148926",
     "status": "completed"
    },
    "tags": []
   },
   "outputs": [],
   "source": []
  }
 ],
 "metadata": {
  "kernelspec": {
   "display_name": "Python 3",
   "language": "python",
   "name": "python3"
  },
  "language_info": {
   "codemirror_mode": {
    "name": "ipython",
    "version": 3
   },
   "file_extension": ".py",
   "mimetype": "text/x-python",
   "name": "python",
   "nbconvert_exporter": "python",
   "pygments_lexer": "ipython3",
   "version": "3.9.5"
  },
  "papermill": {
   "default_parameters": {},
   "duration": 8.741156,
   "end_time": "2021-12-08T17:00:13.922164",
   "environment_variables": {},
   "exception": null,
   "input_path": "eBay_Overview.ipynb",
   "output_path": "eBay_Overview.ipynb",
   "parameters": {},
   "start_time": "2021-12-08T17:00:05.181008",
   "version": "2.3.3"
  }
 },
 "nbformat": 4,
 "nbformat_minor": 5
}