{
 "cells": [
  {
   "cell_type": "code",
   "execution_count": 1,
   "id": "reverse-picking",
   "metadata": {
    "execution": {
     "iopub.execute_input": "2021-08-18T23:00:06.778443Z",
     "iopub.status.busy": "2021-08-18T23:00:06.776394Z",
     "iopub.status.idle": "2021-08-18T23:00:07.583353Z",
     "shell.execute_reply": "2021-08-18T23:00:07.584619Z"
    },
    "papermill": {
     "duration": 0.859459,
     "end_time": "2021-08-18T23:00:07.585230",
     "exception": false,
     "start_time": "2021-08-18T23:00:06.725771",
     "status": "completed"
    },
    "tags": []
   },
   "outputs": [],
   "source": [
    "import pandas as pd\n",
    "import sqlite3"
   ]
  },
  {
   "cell_type": "code",
   "execution_count": 2,
   "id": "innovative-syndrome",
   "metadata": {
    "execution": {
     "iopub.execute_input": "2021-08-18T23:00:07.635750Z",
     "iopub.status.busy": "2021-08-18T23:00:07.633824Z",
     "iopub.status.idle": "2021-08-18T23:00:07.710916Z",
     "shell.execute_reply": "2021-08-18T23:00:07.712327Z"
    },
    "papermill": {
     "duration": 0.106668,
     "end_time": "2021-08-18T23:00:07.712768",
     "exception": false,
     "start_time": "2021-08-18T23:00:07.606100",
     "status": "completed"
    },
    "tags": []
   },
   "outputs": [],
   "source": [
    "timestamps = pd.read_sql(\"select distinct record_time from EBAY_TOP_BERLIN order by record_time desc limit 2\", sqlite3.connect(\"UsedObjects.db\"))"
   ]
  },
  {
   "cell_type": "code",
   "execution_count": 3,
   "id": "periodic-identification",
   "metadata": {
    "execution": {
     "iopub.execute_input": "2021-08-18T23:00:07.779889Z",
     "iopub.status.busy": "2021-08-18T23:00:07.777826Z",
     "iopub.status.idle": "2021-08-18T23:00:07.797912Z",
     "shell.execute_reply": "2021-08-18T23:00:07.799304Z"
    },
    "papermill": {
     "duration": 0.067073,
     "end_time": "2021-08-18T23:00:07.799722",
     "exception": false,
     "start_time": "2021-08-18T23:00:07.732649",
     "status": "completed"
    },
    "tags": []
   },
   "outputs": [
    {
     "data": {
      "text/html": [
       "<div>\n",
       "<style scoped>\n",
       "    .dataframe tbody tr th:only-of-type {\n",
       "        vertical-align: middle;\n",
       "    }\n",
       "\n",
       "    .dataframe tbody tr th {\n",
       "        vertical-align: top;\n",
       "    }\n",
       "\n",
       "    .dataframe thead th {\n",
       "        text-align: right;\n",
       "    }\n",
       "</style>\n",
       "<table border=\"1\" class=\"dataframe\">\n",
       "  <thead>\n",
       "    <tr style=\"text-align: right;\">\n",
       "      <th></th>\n",
       "      <th>RECORD_TIME</th>\n",
       "    </tr>\n",
       "  </thead>\n",
       "  <tbody>\n",
       "    <tr>\n",
       "      <th>0</th>\n",
       "      <td>2021-08-19 01:00</td>\n",
       "    </tr>\n",
       "    <tr>\n",
       "      <th>1</th>\n",
       "      <td>2021-08-19 00:30</td>\n",
       "    </tr>\n",
       "  </tbody>\n",
       "</table>\n",
       "</div>"
      ],
      "text/plain": [
       "        RECORD_TIME\n",
       "0  2021-08-19 01:00\n",
       "1  2021-08-19 00:30"
      ]
     },
     "execution_count": 3,
     "metadata": {},
     "output_type": "execute_result"
    }
   ],
   "source": [
    "timestamps"
   ]
  },
  {
   "cell_type": "code",
   "execution_count": 4,
   "id": "alternate-victory",
   "metadata": {
    "execution": {
     "iopub.execute_input": "2021-08-18T23:00:07.851117Z",
     "iopub.status.busy": "2021-08-18T23:00:07.849060Z",
     "iopub.status.idle": "2021-08-18T23:00:07.965033Z",
     "shell.execute_reply": "2021-08-18T23:00:07.966321Z"
    },
    "papermill": {
     "duration": 0.145793,
     "end_time": "2021-08-18T23:00:07.966726",
     "exception": false,
     "start_time": "2021-08-18T23:00:07.820933",
     "status": "completed"
    },
    "tags": []
   },
   "outputs": [],
   "source": [
    "df = pd.read_sql(\"select * from EBAY_TOP_BERLIN where record_time in (select distinct record_time from EBAY_TOP_BERLIN order by record_time desc limit 2)\", sqlite3.connect(\"UsedObjects.db\"))"
   ]
  },
  {
   "cell_type": "code",
   "execution_count": 5,
   "id": "popular-active",
   "metadata": {
    "execution": {
     "iopub.execute_input": "2021-08-18T23:00:08.037595Z",
     "iopub.status.busy": "2021-08-18T23:00:08.025077Z",
     "iopub.status.idle": "2021-08-18T23:00:08.053164Z",
     "shell.execute_reply": "2021-08-18T23:00:08.054537Z"
    },
    "papermill": {
     "duration": 0.067626,
     "end_time": "2021-08-18T23:00:08.054955",
     "exception": false,
     "start_time": "2021-08-18T23:00:07.987329",
     "status": "completed"
    },
    "tags": []
   },
   "outputs": [],
   "source": [
    "df_pivot = df.pivot_table(index=\"PRODUCT\", columns = \"RECORD_TIME\", values = \"LISTING_COUNT\")"
   ]
  },
  {
   "cell_type": "code",
   "execution_count": 6,
   "id": "union-huntington",
   "metadata": {
    "execution": {
     "iopub.execute_input": "2021-08-18T23:00:08.110909Z",
     "iopub.status.busy": "2021-08-18T23:00:08.108822Z",
     "iopub.status.idle": "2021-08-18T23:00:08.114210Z",
     "shell.execute_reply": "2021-08-18T23:00:08.115509Z"
    },
    "papermill": {
     "duration": 0.040918,
     "end_time": "2021-08-18T23:00:08.115923",
     "exception": false,
     "start_time": "2021-08-18T23:00:08.075005",
     "status": "completed"
    },
    "tags": []
   },
   "outputs": [],
   "source": [
    "df_pivot.columns = [\"stamp_1\", \"stamp_2\"]\n",
    "df_pivot_diff = df_pivot.diff(axis=1)"
   ]
  },
  {
   "cell_type": "code",
   "execution_count": 7,
   "id": "fifth-motion",
   "metadata": {
    "execution": {
     "iopub.execute_input": "2021-08-18T23:00:08.171514Z",
     "iopub.status.busy": "2021-08-18T23:00:08.168898Z",
     "iopub.status.idle": "2021-08-18T23:00:09.679437Z",
     "shell.execute_reply": "2021-08-18T23:00:09.680730Z"
    },
    "papermill": {
     "duration": 1.543654,
     "end_time": "2021-08-18T23:00:09.681147",
     "exception": false,
     "start_time": "2021-08-18T23:00:08.137493",
     "status": "completed"
    },
    "tags": []
   },
   "outputs": [
    {
     "data": {
      "text/plain": [
       "<AxesSubplot:ylabel='PRODUCT'>"
      ]
     },
     "execution_count": 7,
     "metadata": {},
     "output_type": "execute_result"
    },
    {
     "data": {
      "image/png": "[encoded data removed]",
      "text/plain": [
       "<Figure size 432x288 with 1 Axes>"
      ]
     },
     "metadata": {
      "needs_background": "light"
     },
     "output_type": "display_data"
    }
   ],
   "source": [
    "df_pivot_diff.sort_values(\"stamp_2\", ascending = False)[\"stamp_2\"].head(10).plot.barh()"
   ]
  },
  {
   "cell_type": "code",
   "execution_count": null,
   "id": "extra-executive",
   "metadata": {
    "papermill": {
     "duration": 0.022158,
     "end_time": "2021-08-18T23:00:09.728209",
     "exception": false,
     "start_time": "2021-08-18T23:00:09.706051",
     "status": "completed"
    },
    "tags": []
   },
   "outputs": [],
   "source": []
  }
 ],
 "metadata": {
  "kernelspec": {
   "display_name": "Python 3",
   "language": "python",
   "name": "python3"
  },
  "language_info": {
   "codemirror_mode": {
    "name": "ipython",
    "version": 3
   },
   "file_extension": ".py",
   "mimetype": "text/x-python",
   "name": "python",
   "nbconvert_exporter": "python",
   "pygments_lexer": "ipython3",
   "version": "3.9.5"
  },
  "papermill": {
   "default_parameters": {},
   "duration": 6.827878,
   "end_time": "2021-08-18T23:00:11.140769",
   "environment_variables": {},
   "exception": null,
   "input_path": "eBay_Overview.ipynb",
   "output_path": "eBay_Overview.ipynb",
   "parameters": {},
   "start_time": "2021-08-18T23:00:04.312891",
   "version": "2.3.3"
  }
 },
 "nbformat": 4,
 "nbformat_minor": 5
}