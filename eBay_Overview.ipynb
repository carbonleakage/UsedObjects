{
 "cells": [
  {
   "cell_type": "code",
   "execution_count": 1,
   "id": "reverse-picking",
   "metadata": {
    "execution": {
     "iopub.execute_input": "2021-11-16T19:30:07.613904Z",
     "iopub.status.busy": "2021-11-16T19:30:07.611507Z",
     "iopub.status.idle": "2021-11-16T19:30:08.579966Z",
     "shell.execute_reply": "2021-11-16T19:30:08.581628Z"
    },
    "papermill": {
     "duration": 1.017092,
     "end_time": "2021-11-16T19:30:08.582375",
     "exception": false,
     "start_time": "2021-11-16T19:30:07.565283",
     "status": "completed"
    },
    "tags": []
   },
   "outputs": [],
   "source": [
    "import pandas as pd\n",
    "import sqlite3"
   ]
  },
  {
   "cell_type": "code",
   "execution_count": 2,
   "id": "innovative-syndrome",
   "metadata": {
    "execution": {
     "iopub.execute_input": "2021-11-16T19:30:08.647410Z",
     "iopub.status.busy": "2021-11-16T19:30:08.645172Z",
     "iopub.status.idle": "2021-11-16T19:30:09.492465Z",
     "shell.execute_reply": "2021-11-16T19:30:09.493855Z"
    },
    "papermill": {
     "duration": 0.88255,
     "end_time": "2021-11-16T19:30:09.494283",
     "exception": false,
     "start_time": "2021-11-16T19:30:08.611733",
     "status": "completed"
    },
    "tags": []
   },
   "outputs": [],
   "source": [
    "timestamps = pd.read_sql(\"select distinct record_time from EBAY_TOP_BERLIN order by record_time desc limit 2\", sqlite3.connect(\"UsedObjects.db\"))"
   ]
  },
  {
   "cell_type": "code",
   "execution_count": 3,
   "id": "periodic-identification",
   "metadata": {
    "execution": {
     "iopub.execute_input": "2021-11-16T19:30:09.559261Z",
     "iopub.status.busy": "2021-11-16T19:30:09.557162Z",
     "iopub.status.idle": "2021-11-16T19:30:09.577771Z",
     "shell.execute_reply": "2021-11-16T19:30:09.578926Z"
    },
    "papermill": {
     "duration": 0.065101,
     "end_time": "2021-11-16T19:30:09.579338",
     "exception": false,
     "start_time": "2021-11-16T19:30:09.514237",
     "status": "completed"
    },
    "tags": []
   },
   "outputs": [
    {
     "data": {
      "text/html": [
       "<div>\n",
       "<style scoped>\n",
       "    .dataframe tbody tr th:only-of-type {\n",
       "        vertical-align: middle;\n",
       "    }\n",
       "\n",
       "    .dataframe tbody tr th {\n",
       "        vertical-align: top;\n",
       "    }\n",
       "\n",
       "    .dataframe thead th {\n",
       "        text-align: right;\n",
       "    }\n",
       "</style>\n",
       "<table border=\"1\" class=\"dataframe\">\n",
       "  <thead>\n",
       "    <tr style=\"text-align: right;\">\n",
       "      <th></th>\n",
       "      <th>RECORD_TIME</th>\n",
       "    </tr>\n",
       "  </thead>\n",
       "  <tbody>\n",
       "    <tr>\n",
       "      <th>0</th>\n",
       "      <td>2021-11-16 20:30</td>\n",
       "    </tr>\n",
       "    <tr>\n",
       "      <th>1</th>\n",
       "      <td>2021-11-16 20:00</td>\n",
       "    </tr>\n",
       "  </tbody>\n",
       "</table>\n",
       "</div>"
      ],
      "text/plain": [
       "        RECORD_TIME\n",
       "0  2021-11-16 20:30\n",
       "1  2021-11-16 20:00"
      ]
     },
     "execution_count": 3,
     "metadata": {},
     "output_type": "execute_result"
    }
   ],
   "source": [
    "timestamps"
   ]
  },
  {
   "cell_type": "code",
   "execution_count": 4,
   "id": "alternate-victory",
   "metadata": {
    "execution": {
     "iopub.execute_input": "2021-11-16T19:30:09.635769Z",
     "iopub.status.busy": "2021-11-16T19:30:09.633699Z",
     "iopub.status.idle": "2021-11-16T19:30:10.872638Z",
     "shell.execute_reply": "2021-11-16T19:30:10.874721Z"
    },
    "papermill": {
     "duration": 1.271884,
     "end_time": "2021-11-16T19:30:10.875185",
     "exception": false,
     "start_time": "2021-11-16T19:30:09.603301",
     "status": "completed"
    },
    "tags": []
   },
   "outputs": [],
   "source": [
    "df = pd.read_sql(\"select * from EBAY_TOP_BERLIN where record_time in (select distinct record_time from EBAY_TOP_BERLIN order by record_time desc limit 2)\", sqlite3.connect(\"UsedObjects.db\"))"
   ]
  },
  {
   "cell_type": "code",
   "execution_count": 5,
   "id": "popular-active",
   "metadata": {
    "execution": {
     "iopub.execute_input": "2021-11-16T19:30:10.954940Z",
     "iopub.status.busy": "2021-11-16T19:30:10.939217Z",
     "iopub.status.idle": "2021-11-16T19:30:10.974077Z",
     "shell.execute_reply": "2021-11-16T19:30:10.975760Z"
    },
    "papermill": {
     "duration": 0.080389,
     "end_time": "2021-11-16T19:30:10.976261",
     "exception": false,
     "start_time": "2021-11-16T19:30:10.895872",
     "status": "completed"
    },
    "tags": []
   },
   "outputs": [],
   "source": [
    "df_pivot = df.pivot_table(index=\"PRODUCT\", columns = \"RECORD_TIME\", values = \"LISTING_COUNT\")"
   ]
  },
  {
   "cell_type": "code",
   "execution_count": 6,
   "id": "union-huntington",
   "metadata": {
    "execution": {
     "iopub.execute_input": "2021-11-16T19:30:11.044235Z",
     "iopub.status.busy": "2021-11-16T19:30:11.042017Z",
     "iopub.status.idle": "2021-11-16T19:30:11.047337Z",
     "shell.execute_reply": "2021-11-16T19:30:11.049058Z"
    },
    "papermill": {
     "duration": 0.051701,
     "end_time": "2021-11-16T19:30:11.049633",
     "exception": false,
     "start_time": "2021-11-16T19:30:10.997932",
     "status": "completed"
    },
    "tags": []
   },
   "outputs": [],
   "source": [
    "df_pivot.columns = [\"stamp_1\", \"stamp_2\"]\n",
    "df_pivot_diff = df_pivot.diff(axis=1)"
   ]
  },
  {
   "cell_type": "code",
   "execution_count": 7,
   "id": "fifth-motion",
   "metadata": {
    "execution": {
     "iopub.execute_input": "2021-11-16T19:30:11.107102Z",
     "iopub.status.busy": "2021-11-16T19:30:11.104623Z",
     "iopub.status.idle": "2021-11-16T19:30:12.771429Z",
     "shell.execute_reply": "2021-11-16T19:30:12.772915Z"
    },
    "papermill": {
     "duration": 1.701959,
     "end_time": "2021-11-16T19:30:12.773353",
     "exception": false,
     "start_time": "2021-11-16T19:30:11.071394",
     "status": "completed"
    },
    "tags": []
   },
   "outputs": [
    {
     "data": {
      "text/plain": [
       "<AxesSubplot:ylabel='PRODUCT'>"
      ]
     },
     "execution_count": 7,
     "metadata": {},
     "output_type": "execute_result"
    },
    {
     "data": {
      "image/png": "[encoded data removed]",
      "text/plain": [
       "<Figure size 432x288 with 1 Axes>"
      ]
     },
     "metadata": {
      "needs_background": "light"
     },
     "output_type": "display_data"
    }
   ],
   "source": [
    "df_pivot_diff.sort_values(\"stamp_2\", ascending = False)[\"stamp_2\"].head(10).plot.barh()"
   ]
  },
  {
   "cell_type": "code",
   "execution_count": null,
   "id": "extra-executive",
   "metadata": {
    "papermill": {
     "duration": 0.022106,
     "end_time": "2021-11-16T19:30:12.820008",
     "exception": false,
     "start_time": "2021-11-16T19:30:12.797902",
     "status": "completed"
    },
    "tags": []
   },
   "outputs": [],
   "source": []
  }
 ],
 "metadata": {
  "kernelspec": {
   "display_name": "Python 3",
   "language": "python",
   "name": "python3"
  },
  "language_info": {
   "codemirror_mode": {
    "name": "ipython",
    "version": 3
   },
   "file_extension": ".py",
   "mimetype": "text/x-python",
   "name": "python",
   "nbconvert_exporter": "python",
   "pygments_lexer": "ipython3",
   "version": "3.9.5"
  },
  "papermill": {
   "default_parameters": {},
   "duration": 8.628699,
   "end_time": "2021-11-16T19:30:13.461647",
   "environment_variables": {},
   "exception": null,
   "input_path": "eBay_Overview.ipynb",
   "output_path": "eBay_Overview.ipynb",
   "parameters": {},
   "start_time": "2021-11-16T19:30:04.832948",
   "version": "2.3.3"
  }
 },
 "nbformat": 4,
 "nbformat_minor": 5
}