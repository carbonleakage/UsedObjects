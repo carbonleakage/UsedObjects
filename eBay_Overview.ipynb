{
 "cells": [
  {
   "cell_type": "code",
   "execution_count": 1,
   "id": "reverse-picking",
   "metadata": {
    "execution": {
     "iopub.execute_input": "2021-11-06T00:30:07.395342Z",
     "iopub.status.busy": "2021-11-06T00:30:07.393375Z",
     "iopub.status.idle": "2021-11-06T00:30:08.356511Z",
     "shell.execute_reply": "2021-11-06T00:30:08.358213Z"
    },
    "papermill": {
     "duration": 1.012031,
     "end_time": "2021-11-06T00:30:08.358962",
     "exception": false,
     "start_time": "2021-11-06T00:30:07.346931",
     "status": "completed"
    },
    "tags": []
   },
   "outputs": [],
   "source": [
    "import pandas as pd\n",
    "import sqlite3"
   ]
  },
  {
   "cell_type": "code",
   "execution_count": 2,
   "id": "innovative-syndrome",
   "metadata": {
    "execution": {
     "iopub.execute_input": "2021-11-06T00:30:08.426063Z",
     "iopub.status.busy": "2021-11-06T00:30:08.423585Z",
     "iopub.status.idle": "2021-11-06T00:30:09.158409Z",
     "shell.execute_reply": "2021-11-06T00:30:09.159945Z"
    },
    "papermill": {
     "duration": 0.770905,
     "end_time": "2021-11-06T00:30:09.160416",
     "exception": false,
     "start_time": "2021-11-06T00:30:08.389511",
     "status": "completed"
    },
    "tags": []
   },
   "outputs": [],
   "source": [
    "timestamps = pd.read_sql(\"select distinct record_time from EBAY_TOP_BERLIN order by record_time desc limit 2\", sqlite3.connect(\"UsedObjects.db\"))"
   ]
  },
  {
   "cell_type": "code",
   "execution_count": 3,
   "id": "periodic-identification",
   "metadata": {
    "execution": {
     "iopub.execute_input": "2021-11-06T00:30:09.232434Z",
     "iopub.status.busy": "2021-11-06T00:30:09.229920Z",
     "iopub.status.idle": "2021-11-06T00:30:09.253414Z",
     "shell.execute_reply": "2021-11-06T00:30:09.254861Z"
    },
    "papermill": {
     "duration": 0.073717,
     "end_time": "2021-11-06T00:30:09.255351",
     "exception": false,
     "start_time": "2021-11-06T00:30:09.181634",
     "status": "completed"
    },
    "tags": []
   },
   "outputs": [
    {
     "data": {
      "text/html": [
       "<div>\n",
       "<style scoped>\n",
       "    .dataframe tbody tr th:only-of-type {\n",
       "        vertical-align: middle;\n",
       "    }\n",
       "\n",
       "    .dataframe tbody tr th {\n",
       "        vertical-align: top;\n",
       "    }\n",
       "\n",
       "    .dataframe thead th {\n",
       "        text-align: right;\n",
       "    }\n",
       "</style>\n",
       "<table border=\"1\" class=\"dataframe\">\n",
       "  <thead>\n",
       "    <tr style=\"text-align: right;\">\n",
       "      <th></th>\n",
       "      <th>RECORD_TIME</th>\n",
       "    </tr>\n",
       "  </thead>\n",
       "  <tbody>\n",
       "    <tr>\n",
       "      <th>0</th>\n",
       "      <td>2021-11-06 01:30</td>\n",
       "    </tr>\n",
       "    <tr>\n",
       "      <th>1</th>\n",
       "      <td>2021-11-06 01:00</td>\n",
       "    </tr>\n",
       "  </tbody>\n",
       "</table>\n",
       "</div>"
      ],
      "text/plain": [
       "        RECORD_TIME\n",
       "0  2021-11-06 01:30\n",
       "1  2021-11-06 01:00"
      ]
     },
     "execution_count": 3,
     "metadata": {},
     "output_type": "execute_result"
    }
   ],
   "source": [
    "timestamps"
   ]
  },
  {
   "cell_type": "code",
   "execution_count": 4,
   "id": "alternate-victory",
   "metadata": {
    "execution": {
     "iopub.execute_input": "2021-11-06T00:30:09.311241Z",
     "iopub.status.busy": "2021-11-06T00:30:09.308964Z",
     "iopub.status.idle": "2021-11-06T00:30:10.399357Z",
     "shell.execute_reply": "2021-11-06T00:30:10.401146Z"
    },
    "papermill": {
     "duration": 1.125052,
     "end_time": "2021-11-06T00:30:10.401649",
     "exception": false,
     "start_time": "2021-11-06T00:30:09.276597",
     "status": "completed"
    },
    "tags": []
   },
   "outputs": [],
   "source": [
    "df = pd.read_sql(\"select * from EBAY_TOP_BERLIN where record_time in (select distinct record_time from EBAY_TOP_BERLIN order by record_time desc limit 2)\", sqlite3.connect(\"UsedObjects.db\"))"
   ]
  },
  {
   "cell_type": "code",
   "execution_count": 5,
   "id": "popular-active",
   "metadata": {
    "execution": {
     "iopub.execute_input": "2021-11-06T00:30:10.481177Z",
     "iopub.status.busy": "2021-11-06T00:30:10.467221Z",
     "iopub.status.idle": "2021-11-06T00:30:10.500333Z",
     "shell.execute_reply": "2021-11-06T00:30:10.502027Z"
    },
    "papermill": {
     "duration": 0.079232,
     "end_time": "2021-11-06T00:30:10.502524",
     "exception": false,
     "start_time": "2021-11-06T00:30:10.423292",
     "status": "completed"
    },
    "tags": []
   },
   "outputs": [],
   "source": [
    "df_pivot = df.pivot_table(index=\"PRODUCT\", columns = \"RECORD_TIME\", values = \"LISTING_COUNT\")"
   ]
  },
  {
   "cell_type": "code",
   "execution_count": 6,
   "id": "union-huntington",
   "metadata": {
    "execution": {
     "iopub.execute_input": "2021-11-06T00:30:10.567600Z",
     "iopub.status.busy": "2021-11-06T00:30:10.565375Z",
     "iopub.status.idle": "2021-11-06T00:30:10.571868Z",
     "shell.execute_reply": "2021-11-06T00:30:10.573418Z"
    },
    "papermill": {
     "duration": 0.049358,
     "end_time": "2021-11-06T00:30:10.573910",
     "exception": false,
     "start_time": "2021-11-06T00:30:10.524552",
     "status": "completed"
    },
    "tags": []
   },
   "outputs": [],
   "source": [
    "df_pivot.columns = [\"stamp_1\", \"stamp_2\"]\n",
    "df_pivot_diff = df_pivot.diff(axis=1)"
   ]
  },
  {
   "cell_type": "code",
   "execution_count": 7,
   "id": "fifth-motion",
   "metadata": {
    "execution": {
     "iopub.execute_input": "2021-11-06T00:30:10.634292Z",
     "iopub.status.busy": "2021-11-06T00:30:10.630268Z",
     "iopub.status.idle": "2021-11-06T00:30:12.456068Z",
     "shell.execute_reply": "2021-11-06T00:30:12.458218Z"
    },
    "papermill": {
     "duration": 1.864071,
     "end_time": "2021-11-06T00:30:12.458788",
     "exception": false,
     "start_time": "2021-11-06T00:30:10.594717",
     "status": "completed"
    },
    "tags": []
   },
   "outputs": [
    {
     "data": {
      "text/plain": [
       "<AxesSubplot:ylabel='PRODUCT'>"
      ]
     },
     "execution_count": 7,
     "metadata": {},
     "output_type": "execute_result"
    },
    {
     "data": {
      "image/png": "[encoded data removed]",
      "text/plain": [
       "<Figure size 432x288 with 1 Axes>"
      ]
     },
     "metadata": {
      "needs_background": "light"
     },
     "output_type": "display_data"
    }
   ],
   "source": [
    "df_pivot_diff.sort_values(\"stamp_2\", ascending = False)[\"stamp_2\"].head(10).plot.barh()"
   ]
  },
  {
   "cell_type": "code",
   "execution_count": null,
   "id": "extra-executive",
   "metadata": {
    "papermill": {
     "duration": 0.029021,
     "end_time": "2021-11-06T00:30:12.516363",
     "exception": false,
     "start_time": "2021-11-06T00:30:12.487342",
     "status": "completed"
    },
    "tags": []
   },
   "outputs": [],
   "source": []
  }
 ],
 "metadata": {
  "kernelspec": {
   "display_name": "Python 3",
   "language": "python",
   "name": "python3"
  },
  "language_info": {
   "codemirror_mode": {
    "name": "ipython",
    "version": 3
   },
   "file_extension": ".py",
   "mimetype": "text/x-python",
   "name": "python",
   "nbconvert_exporter": "python",
   "pygments_lexer": "ipython3",
   "version": "3.9.5"
  },
  "papermill": {
   "default_parameters": {},
   "duration": 9.027864,
   "end_time": "2021-11-06T00:30:13.529379",
   "environment_variables": {},
   "exception": null,
   "input_path": "eBay_Overview.ipynb",
   "output_path": "eBay_Overview.ipynb",
   "parameters": {},
   "start_time": "2021-11-06T00:30:04.501515",
   "version": "2.3.3"
  }
 },
 "nbformat": 4,
 "nbformat_minor": 5
}