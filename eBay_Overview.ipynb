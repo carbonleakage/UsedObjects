{
 "cells": [
  {
   "cell_type": "code",
   "execution_count": 1,
   "id": "reverse-picking",
   "metadata": {
    "execution": {
     "iopub.execute_input": "2021-11-26T16:00:07.982771Z",
     "iopub.status.busy": "2021-11-26T16:00:07.980768Z",
     "iopub.status.idle": "2021-11-26T16:00:08.935668Z",
     "shell.execute_reply": "2021-11-26T16:00:08.933221Z"
    },
    "papermill": {
     "duration": 1.002425,
     "end_time": "2021-11-26T16:00:08.936132",
     "exception": false,
     "start_time": "2021-11-26T16:00:07.933707",
     "status": "completed"
    },
    "tags": []
   },
   "outputs": [],
   "source": [
    "import pandas as pd\n",
    "import sqlite3"
   ]
  },
  {
   "cell_type": "code",
   "execution_count": 2,
   "id": "innovative-syndrome",
   "metadata": {
    "execution": {
     "iopub.execute_input": "2021-11-26T16:00:08.998116Z",
     "iopub.status.busy": "2021-11-26T16:00:08.995444Z",
     "iopub.status.idle": "2021-11-26T16:00:09.930104Z",
     "shell.execute_reply": "2021-11-26T16:00:09.932290Z"
    },
    "papermill": {
     "duration": 0.969958,
     "end_time": "2021-11-26T16:00:09.932979",
     "exception": false,
     "start_time": "2021-11-26T16:00:08.963021",
     "status": "completed"
    },
    "tags": []
   },
   "outputs": [],
   "source": [
    "timestamps = pd.read_sql(\"select distinct record_time from EBAY_TOP_BERLIN order by record_time desc limit 2\", sqlite3.connect(\"UsedObjects.db\"))"
   ]
  },
  {
   "cell_type": "code",
   "execution_count": 3,
   "id": "periodic-identification",
   "metadata": {
    "execution": {
     "iopub.execute_input": "2021-11-26T16:00:10.006468Z",
     "iopub.status.busy": "2021-11-26T16:00:10.004117Z",
     "iopub.status.idle": "2021-11-26T16:00:10.026936Z",
     "shell.execute_reply": "2021-11-26T16:00:10.028373Z"
    },
    "papermill": {
     "duration": 0.074993,
     "end_time": "2021-11-26T16:00:10.028941",
     "exception": false,
     "start_time": "2021-11-26T16:00:09.953948",
     "status": "completed"
    },
    "tags": []
   },
   "outputs": [
    {
     "data": {
      "text/html": [
       "<div>\n",
       "<style scoped>\n",
       "    .dataframe tbody tr th:only-of-type {\n",
       "        vertical-align: middle;\n",
       "    }\n",
       "\n",
       "    .dataframe tbody tr th {\n",
       "        vertical-align: top;\n",
       "    }\n",
       "\n",
       "    .dataframe thead th {\n",
       "        text-align: right;\n",
       "    }\n",
       "</style>\n",
       "<table border=\"1\" class=\"dataframe\">\n",
       "  <thead>\n",
       "    <tr style=\"text-align: right;\">\n",
       "      <th></th>\n",
       "      <th>RECORD_TIME</th>\n",
       "    </tr>\n",
       "  </thead>\n",
       "  <tbody>\n",
       "    <tr>\n",
       "      <th>0</th>\n",
       "      <td>2021-11-26 17:00</td>\n",
       "    </tr>\n",
       "    <tr>\n",
       "      <th>1</th>\n",
       "      <td>2021-11-26 16:30</td>\n",
       "    </tr>\n",
       "  </tbody>\n",
       "</table>\n",
       "</div>"
      ],
      "text/plain": [
       "        RECORD_TIME\n",
       "0  2021-11-26 17:00\n",
       "1  2021-11-26 16:30"
      ]
     },
     "execution_count": 3,
     "metadata": {},
     "output_type": "execute_result"
    }
   ],
   "source": [
    "timestamps"
   ]
  },
  {
   "cell_type": "code",
   "execution_count": 4,
   "id": "alternate-victory",
   "metadata": {
    "execution": {
     "iopub.execute_input": "2021-11-26T16:00:10.083432Z",
     "iopub.status.busy": "2021-11-26T16:00:10.081190Z",
     "iopub.status.idle": "2021-11-26T16:00:11.476550Z",
     "shell.execute_reply": "2021-11-26T16:00:11.478305Z"
    },
    "papermill": {
     "duration": 1.428469,
     "end_time": "2021-11-26T16:00:11.478793",
     "exception": false,
     "start_time": "2021-11-26T16:00:10.050324",
     "status": "completed"
    },
    "tags": []
   },
   "outputs": [],
   "source": [
    "df = pd.read_sql(\"select * from EBAY_TOP_BERLIN where record_time in (select distinct record_time from EBAY_TOP_BERLIN order by record_time desc limit 2)\", sqlite3.connect(\"UsedObjects.db\"))"
   ]
  },
  {
   "cell_type": "code",
   "execution_count": 5,
   "id": "popular-active",
   "metadata": {
    "execution": {
     "iopub.execute_input": "2021-11-26T16:00:11.559683Z",
     "iopub.status.busy": "2021-11-26T16:00:11.544290Z",
     "iopub.status.idle": "2021-11-26T16:00:11.577252Z",
     "shell.execute_reply": "2021-11-26T16:00:11.578759Z"
    },
    "papermill": {
     "duration": 0.078019,
     "end_time": "2021-11-26T16:00:11.579224",
     "exception": false,
     "start_time": "2021-11-26T16:00:11.501205",
     "status": "completed"
    },
    "tags": []
   },
   "outputs": [],
   "source": [
    "df_pivot = df.pivot_table(index=\"PRODUCT\", columns = \"RECORD_TIME\", values = \"LISTING_COUNT\")"
   ]
  },
  {
   "cell_type": "code",
   "execution_count": 6,
   "id": "union-huntington",
   "metadata": {
    "execution": {
     "iopub.execute_input": "2021-11-26T16:00:11.637591Z",
     "iopub.status.busy": "2021-11-26T16:00:11.635322Z",
     "iopub.status.idle": "2021-11-26T16:00:11.640578Z",
     "shell.execute_reply": "2021-11-26T16:00:11.642197Z"
    },
    "papermill": {
     "duration": 0.043327,
     "end_time": "2021-11-26T16:00:11.642662",
     "exception": false,
     "start_time": "2021-11-26T16:00:11.599335",
     "status": "completed"
    },
    "tags": []
   },
   "outputs": [],
   "source": [
    "df_pivot.columns = [\"stamp_1\", \"stamp_2\"]\n",
    "df_pivot_diff = df_pivot.diff(axis=1)"
   ]
  },
  {
   "cell_type": "code",
   "execution_count": 7,
   "id": "fifth-motion",
   "metadata": {
    "execution": {
     "iopub.execute_input": "2021-11-26T16:00:11.702432Z",
     "iopub.status.busy": "2021-11-26T16:00:11.699913Z",
     "iopub.status.idle": "2021-11-26T16:00:13.604239Z",
     "shell.execute_reply": "2021-11-26T16:00:13.606608Z"
    },
    "papermill": {
     "duration": 1.944374,
     "end_time": "2021-11-26T16:00:13.607322",
     "exception": false,
     "start_time": "2021-11-26T16:00:11.662948",
     "status": "completed"
    },
    "tags": []
   },
   "outputs": [
    {
     "data": {
      "text/plain": [
       "<AxesSubplot:ylabel='PRODUCT'>"
      ]
     },
     "execution_count": 7,
     "metadata": {},
     "output_type": "execute_result"
    },
    {
     "data": {
      "image/png": "[encoded data removed]",
      "text/plain": [
       "<Figure size 432x288 with 1 Axes>"
      ]
     },
     "metadata": {
      "needs_background": "light"
     },
     "output_type": "display_data"
    }
   ],
   "source": [
    "df_pivot_diff.sort_values(\"stamp_2\", ascending = False)[\"stamp_2\"].head(10).plot.barh()"
   ]
  },
  {
   "cell_type": "code",
   "execution_count": null,
   "id": "extra-executive",
   "metadata": {
    "papermill": {
     "duration": 0.037725,
     "end_time": "2021-11-26T16:00:13.679127",
     "exception": false,
     "start_time": "2021-11-26T16:00:13.641402",
     "status": "completed"
    },
    "tags": []
   },
   "outputs": [],
   "source": []
  }
 ],
 "metadata": {
  "kernelspec": {
   "display_name": "Python 3",
   "language": "python",
   "name": "python3"
  },
  "language_info": {
   "codemirror_mode": {
    "name": "ipython",
    "version": 3
   },
   "file_extension": ".py",
   "mimetype": "text/x-python",
   "name": "python",
   "nbconvert_exporter": "python",
   "pygments_lexer": "ipython3",
   "version": "3.9.5"
  },
  "papermill": {
   "default_parameters": {},
   "duration": 9.939725,
   "end_time": "2021-11-26T16:00:15.148507",
   "environment_variables": {},
   "exception": null,
   "input_path": "eBay_Overview.ipynb",
   "output_path": "eBay_Overview.ipynb",
   "parameters": {},
   "start_time": "2021-11-26T16:00:05.208782",
   "version": "2.3.3"
  }
 },
 "nbformat": 4,
 "nbformat_minor": 5
}