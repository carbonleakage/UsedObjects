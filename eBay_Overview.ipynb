{
 "cells": [
  {
   "cell_type": "code",
   "execution_count": 1,
   "id": "reverse-picking",
   "metadata": {
    "execution": {
     "iopub.execute_input": "2021-09-14T18:00:06.815577Z",
     "iopub.status.busy": "2021-09-14T18:00:06.813575Z",
     "iopub.status.idle": "2021-09-14T18:00:07.613891Z",
     "shell.execute_reply": "2021-09-14T18:00:07.615293Z"
    },
    "papermill": {
     "duration": 0.851044,
     "end_time": "2021-09-14T18:00:07.615968",
     "exception": false,
     "start_time": "2021-09-14T18:00:06.764924",
     "status": "completed"
    },
    "tags": []
   },
   "outputs": [],
   "source": [
    "import pandas as pd\n",
    "import sqlite3"
   ]
  },
  {
   "cell_type": "code",
   "execution_count": 2,
   "id": "innovative-syndrome",
   "metadata": {
    "execution": {
     "iopub.execute_input": "2021-09-14T18:00:07.667215Z",
     "iopub.status.busy": "2021-09-14T18:00:07.665183Z",
     "iopub.status.idle": "2021-09-14T18:00:07.948692Z",
     "shell.execute_reply": "2021-09-14T18:00:07.949863Z"
    },
    "papermill": {
     "duration": 0.313197,
     "end_time": "2021-09-14T18:00:07.950290",
     "exception": false,
     "start_time": "2021-09-14T18:00:07.637093",
     "status": "completed"
    },
    "tags": []
   },
   "outputs": [],
   "source": [
    "timestamps = pd.read_sql(\"select distinct record_time from EBAY_TOP_BERLIN order by record_time desc limit 2\", sqlite3.connect(\"UsedObjects.db\"))"
   ]
  },
  {
   "cell_type": "code",
   "execution_count": 3,
   "id": "periodic-identification",
   "metadata": {
    "execution": {
     "iopub.execute_input": "2021-09-14T18:00:08.016677Z",
     "iopub.status.busy": "2021-09-14T18:00:08.014598Z",
     "iopub.status.idle": "2021-09-14T18:00:08.034125Z",
     "shell.execute_reply": "2021-09-14T18:00:08.035490Z"
    },
    "papermill": {
     "duration": 0.066289,
     "end_time": "2021-09-14T18:00:08.035909",
     "exception": false,
     "start_time": "2021-09-14T18:00:07.969620",
     "status": "completed"
    },
    "tags": []
   },
   "outputs": [
    {
     "data": {
      "text/html": [
       "<div>\n",
       "<style scoped>\n",
       "    .dataframe tbody tr th:only-of-type {\n",
       "        vertical-align: middle;\n",
       "    }\n",
       "\n",
       "    .dataframe tbody tr th {\n",
       "        vertical-align: top;\n",
       "    }\n",
       "\n",
       "    .dataframe thead th {\n",
       "        text-align: right;\n",
       "    }\n",
       "</style>\n",
       "<table border=\"1\" class=\"dataframe\">\n",
       "  <thead>\n",
       "    <tr style=\"text-align: right;\">\n",
       "      <th></th>\n",
       "      <th>RECORD_TIME</th>\n",
       "    </tr>\n",
       "  </thead>\n",
       "  <tbody>\n",
       "    <tr>\n",
       "      <th>0</th>\n",
       "      <td>2021-09-14 20:00</td>\n",
       "    </tr>\n",
       "    <tr>\n",
       "      <th>1</th>\n",
       "      <td>2021-09-14 19:30</td>\n",
       "    </tr>\n",
       "  </tbody>\n",
       "</table>\n",
       "</div>"
      ],
      "text/plain": [
       "        RECORD_TIME\n",
       "0  2021-09-14 20:00\n",
       "1  2021-09-14 19:30"
      ]
     },
     "execution_count": 3,
     "metadata": {},
     "output_type": "execute_result"
    }
   ],
   "source": [
    "timestamps"
   ]
  },
  {
   "cell_type": "code",
   "execution_count": 4,
   "id": "alternate-victory",
   "metadata": {
    "execution": {
     "iopub.execute_input": "2021-09-14T18:00:08.086150Z",
     "iopub.status.busy": "2021-09-14T18:00:08.084314Z",
     "iopub.status.idle": "2021-09-14T18:00:08.503382Z",
     "shell.execute_reply": "2021-09-14T18:00:08.504708Z"
    },
    "papermill": {
     "duration": 0.448869,
     "end_time": "2021-09-14T18:00:08.505107",
     "exception": false,
     "start_time": "2021-09-14T18:00:08.056238",
     "status": "completed"
    },
    "tags": []
   },
   "outputs": [],
   "source": [
    "df = pd.read_sql(\"select * from EBAY_TOP_BERLIN where record_time in (select distinct record_time from EBAY_TOP_BERLIN order by record_time desc limit 2)\", sqlite3.connect(\"UsedObjects.db\"))"
   ]
  },
  {
   "cell_type": "code",
   "execution_count": 5,
   "id": "popular-active",
   "metadata": {
    "execution": {
     "iopub.execute_input": "2021-09-14T18:00:08.584892Z",
     "iopub.status.busy": "2021-09-14T18:00:08.577967Z",
     "iopub.status.idle": "2021-09-14T18:00:08.600444Z",
     "shell.execute_reply": "2021-09-14T18:00:08.601717Z"
    },
    "papermill": {
     "duration": 0.071371,
     "end_time": "2021-09-14T18:00:08.602127",
     "exception": false,
     "start_time": "2021-09-14T18:00:08.530756",
     "status": "completed"
    },
    "tags": []
   },
   "outputs": [],
   "source": [
    "df_pivot = df.pivot_table(index=\"PRODUCT\", columns = \"RECORD_TIME\", values = \"LISTING_COUNT\")"
   ]
  },
  {
   "cell_type": "code",
   "execution_count": 6,
   "id": "union-huntington",
   "metadata": {
    "execution": {
     "iopub.execute_input": "2021-09-14T18:00:08.657130Z",
     "iopub.status.busy": "2021-09-14T18:00:08.655090Z",
     "iopub.status.idle": "2021-09-14T18:00:08.660316Z",
     "shell.execute_reply": "2021-09-14T18:00:08.661491Z"
    },
    "papermill": {
     "duration": 0.039868,
     "end_time": "2021-09-14T18:00:08.661913",
     "exception": false,
     "start_time": "2021-09-14T18:00:08.622045",
     "status": "completed"
    },
    "tags": []
   },
   "outputs": [],
   "source": [
    "df_pivot.columns = [\"stamp_1\", \"stamp_2\"]\n",
    "df_pivot_diff = df_pivot.diff(axis=1)"
   ]
  },
  {
   "cell_type": "code",
   "execution_count": 7,
   "id": "fifth-motion",
   "metadata": {
    "execution": {
     "iopub.execute_input": "2021-09-14T18:00:08.715429Z",
     "iopub.status.busy": "2021-09-14T18:00:08.712889Z",
     "iopub.status.idle": "2021-09-14T18:00:10.194328Z",
     "shell.execute_reply": "2021-09-14T18:00:10.195799Z"
    },
    "papermill": {
     "duration": 1.514172,
     "end_time": "2021-09-14T18:00:10.196254",
     "exception": false,
     "start_time": "2021-09-14T18:00:08.682082",
     "status": "completed"
    },
    "tags": []
   },
   "outputs": [
    {
     "data": {
      "text/plain": [
       "<AxesSubplot:ylabel='PRODUCT'>"
      ]
     },
     "execution_count": 7,
     "metadata": {},
     "output_type": "execute_result"
    },
    {
     "data": {
      "image/png": "[encoded data removed]",
      "text/plain": [
       "<Figure size 432x288 with 1 Axes>"
      ]
     },
     "metadata": {
      "needs_background": "light"
     },
     "output_type": "display_data"
    }
   ],
   "source": [
    "df_pivot_diff.sort_values(\"stamp_2\", ascending = False)[\"stamp_2\"].head(10).plot.barh()"
   ]
  },
  {
   "cell_type": "code",
   "execution_count": null,
   "id": "extra-executive",
   "metadata": {
    "papermill": {
     "duration": 0.022261,
     "end_time": "2021-09-14T18:00:10.241697",
     "exception": false,
     "start_time": "2021-09-14T18:00:10.219436",
     "status": "completed"
    },
    "tags": []
   },
   "outputs": [],
   "source": []
  }
 ],
 "metadata": {
  "kernelspec": {
   "display_name": "Python 3",
   "language": "python",
   "name": "python3"
  },
  "language_info": {
   "codemirror_mode": {
    "name": "ipython",
    "version": 3
   },
   "file_extension": ".py",
   "mimetype": "text/x-python",
   "name": "python",
   "nbconvert_exporter": "python",
   "pygments_lexer": "ipython3",
   "version": "3.9.5"
  },
  "papermill": {
   "default_parameters": {},
   "duration": 6.522556,
   "end_time": "2021-09-14T18:00:10.884960",
   "environment_variables": {},
   "exception": null,
   "input_path": "eBay_Overview.ipynb",
   "output_path": "eBay_Overview.ipynb",
   "parameters": {},
   "start_time": "2021-09-14T18:00:04.362404",
   "version": "2.3.3"
  }
 },
 "nbformat": 4,
 "nbformat_minor": 5
}