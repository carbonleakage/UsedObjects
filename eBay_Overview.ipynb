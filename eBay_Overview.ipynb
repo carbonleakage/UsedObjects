{
 "cells": [
  {
   "cell_type": "code",
   "execution_count": 1,
   "id": "reverse-picking",
   "metadata": {
    "execution": {
     "iopub.execute_input": "2021-10-23T16:00:07.874959Z",
     "iopub.status.busy": "2021-10-23T16:00:07.873065Z",
     "iopub.status.idle": "2021-10-23T16:00:08.679125Z",
     "shell.execute_reply": "2021-10-23T16:00:08.680363Z"
    },
    "papermill": {
     "duration": 0.859557,
     "end_time": "2021-10-23T16:00:08.681055",
     "exception": false,
     "start_time": "2021-10-23T16:00:07.821498",
     "status": "completed"
    },
    "tags": []
   },
   "outputs": [],
   "source": [
    "import pandas as pd\n",
    "import sqlite3"
   ]
  },
  {
   "cell_type": "code",
   "execution_count": 2,
   "id": "innovative-syndrome",
   "metadata": {
    "execution": {
     "iopub.execute_input": "2021-10-23T16:00:08.731182Z",
     "iopub.status.busy": "2021-10-23T16:00:08.729323Z",
     "iopub.status.idle": "2021-10-23T16:00:09.346426Z",
     "shell.execute_reply": "2021-10-23T16:00:09.347765Z"
    },
    "papermill": {
     "duration": 0.646813,
     "end_time": "2021-10-23T16:00:09.348195",
     "exception": false,
     "start_time": "2021-10-23T16:00:08.701382",
     "status": "completed"
    },
    "tags": []
   },
   "outputs": [],
   "source": [
    "timestamps = pd.read_sql(\"select distinct record_time from EBAY_TOP_BERLIN order by record_time desc limit 2\", sqlite3.connect(\"UsedObjects.db\"))"
   ]
  },
  {
   "cell_type": "code",
   "execution_count": 3,
   "id": "periodic-identification",
   "metadata": {
    "execution": {
     "iopub.execute_input": "2021-10-23T16:00:09.422450Z",
     "iopub.status.busy": "2021-10-23T16:00:09.420380Z",
     "iopub.status.idle": "2021-10-23T16:00:09.440367Z",
     "shell.execute_reply": "2021-10-23T16:00:09.442033Z"
    },
    "papermill": {
     "duration": 0.069067,
     "end_time": "2021-10-23T16:00:09.442528",
     "exception": false,
     "start_time": "2021-10-23T16:00:09.373461",
     "status": "completed"
    },
    "tags": []
   },
   "outputs": [
    {
     "data": {
      "text/html": [
       "<div>\n",
       "<style scoped>\n",
       "    .dataframe tbody tr th:only-of-type {\n",
       "        vertical-align: middle;\n",
       "    }\n",
       "\n",
       "    .dataframe tbody tr th {\n",
       "        vertical-align: top;\n",
       "    }\n",
       "\n",
       "    .dataframe thead th {\n",
       "        text-align: right;\n",
       "    }\n",
       "</style>\n",
       "<table border=\"1\" class=\"dataframe\">\n",
       "  <thead>\n",
       "    <tr style=\"text-align: right;\">\n",
       "      <th></th>\n",
       "      <th>RECORD_TIME</th>\n",
       "    </tr>\n",
       "  </thead>\n",
       "  <tbody>\n",
       "    <tr>\n",
       "      <th>0</th>\n",
       "      <td>2021-10-23 18:00</td>\n",
       "    </tr>\n",
       "    <tr>\n",
       "      <th>1</th>\n",
       "      <td>2021-10-23 17:30</td>\n",
       "    </tr>\n",
       "  </tbody>\n",
       "</table>\n",
       "</div>"
      ],
      "text/plain": [
       "        RECORD_TIME\n",
       "0  2021-10-23 18:00\n",
       "1  2021-10-23 17:30"
      ]
     },
     "execution_count": 3,
     "metadata": {},
     "output_type": "execute_result"
    }
   ],
   "source": [
    "timestamps"
   ]
  },
  {
   "cell_type": "code",
   "execution_count": 4,
   "id": "alternate-victory",
   "metadata": {
    "execution": {
     "iopub.execute_input": "2021-10-23T16:00:09.494288Z",
     "iopub.status.busy": "2021-10-23T16:00:09.492366Z",
     "iopub.status.idle": "2021-10-23T16:00:10.384401Z",
     "shell.execute_reply": "2021-10-23T16:00:10.385760Z"
    },
    "papermill": {
     "duration": 0.922036,
     "end_time": "2021-10-23T16:00:10.386183",
     "exception": false,
     "start_time": "2021-10-23T16:00:09.464147",
     "status": "completed"
    },
    "tags": []
   },
   "outputs": [],
   "source": [
    "df = pd.read_sql(\"select * from EBAY_TOP_BERLIN where record_time in (select distinct record_time from EBAY_TOP_BERLIN order by record_time desc limit 2)\", sqlite3.connect(\"UsedObjects.db\"))"
   ]
  },
  {
   "cell_type": "code",
   "execution_count": 5,
   "id": "popular-active",
   "metadata": {
    "execution": {
     "iopub.execute_input": "2021-10-23T16:00:10.450830Z",
     "iopub.status.busy": "2021-10-23T16:00:10.444729Z",
     "iopub.status.idle": "2021-10-23T16:00:10.471566Z",
     "shell.execute_reply": "2021-10-23T16:00:10.472947Z"
    },
    "papermill": {
     "duration": 0.065656,
     "end_time": "2021-10-23T16:00:10.473364",
     "exception": false,
     "start_time": "2021-10-23T16:00:10.407708",
     "status": "completed"
    },
    "tags": []
   },
   "outputs": [],
   "source": [
    "df_pivot = df.pivot_table(index=\"PRODUCT\", columns = \"RECORD_TIME\", values = \"LISTING_COUNT\")"
   ]
  },
  {
   "cell_type": "code",
   "execution_count": 6,
   "id": "union-huntington",
   "metadata": {
    "execution": {
     "iopub.execute_input": "2021-10-23T16:00:10.531361Z",
     "iopub.status.busy": "2021-10-23T16:00:10.528947Z",
     "iopub.status.idle": "2021-10-23T16:00:10.534562Z",
     "shell.execute_reply": "2021-10-23T16:00:10.535843Z"
    },
    "papermill": {
     "duration": 0.04151,
     "end_time": "2021-10-23T16:00:10.536250",
     "exception": false,
     "start_time": "2021-10-23T16:00:10.494740",
     "status": "completed"
    },
    "tags": []
   },
   "outputs": [],
   "source": [
    "df_pivot.columns = [\"stamp_1\", \"stamp_2\"]\n",
    "df_pivot_diff = df_pivot.diff(axis=1)"
   ]
  },
  {
   "cell_type": "code",
   "execution_count": 7,
   "id": "fifth-motion",
   "metadata": {
    "execution": {
     "iopub.execute_input": "2021-10-23T16:00:10.590715Z",
     "iopub.status.busy": "2021-10-23T16:00:10.588241Z",
     "iopub.status.idle": "2021-10-23T16:00:12.091059Z",
     "shell.execute_reply": "2021-10-23T16:00:12.092333Z"
    },
    "papermill": {
     "duration": 1.536367,
     "end_time": "2021-10-23T16:00:12.092795",
     "exception": false,
     "start_time": "2021-10-23T16:00:10.556428",
     "status": "completed"
    },
    "tags": []
   },
   "outputs": [
    {
     "data": {
      "text/plain": [
       "<AxesSubplot:ylabel='PRODUCT'>"
      ]
     },
     "execution_count": 7,
     "metadata": {},
     "output_type": "execute_result"
    },
    {
     "data": {
      "image/png": "[encoded data removed]",
      "text/plain": [
       "<Figure size 432x288 with 1 Axes>"
      ]
     },
     "metadata": {
      "needs_background": "light"
     },
     "output_type": "display_data"
    }
   ],
   "source": [
    "df_pivot_diff.sort_values(\"stamp_2\", ascending = False)[\"stamp_2\"].head(10).plot.barh()"
   ]
  },
  {
   "cell_type": "code",
   "execution_count": null,
   "id": "extra-executive",
   "metadata": {
    "papermill": {
     "duration": 0.022208,
     "end_time": "2021-10-23T16:00:12.139312",
     "exception": false,
     "start_time": "2021-10-23T16:00:12.117104",
     "status": "completed"
    },
    "tags": []
   },
   "outputs": [],
   "source": []
  }
 ],
 "metadata": {
  "kernelspec": {
   "display_name": "Python 3",
   "language": "python",
   "name": "python3"
  },
  "language_info": {
   "codemirror_mode": {
    "name": "ipython",
    "version": 3
   },
   "file_extension": ".py",
   "mimetype": "text/x-python",
   "name": "python",
   "nbconvert_exporter": "python",
   "pygments_lexer": "ipython3",
   "version": "3.9.5"
  },
  "papermill": {
   "default_parameters": {},
   "duration": 7.36596,
   "end_time": "2021-10-23T16:00:12.783019",
   "environment_variables": {},
   "exception": null,
   "input_path": "eBay_Overview.ipynb",
   "output_path": "eBay_Overview.ipynb",
   "parameters": {},
   "start_time": "2021-10-23T16:00:05.417059",
   "version": "2.3.3"
  }
 },
 "nbformat": 4,
 "nbformat_minor": 5
}