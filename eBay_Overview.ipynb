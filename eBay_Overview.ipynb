{
 "cells": [
  {
   "cell_type": "code",
   "execution_count": 1,
   "id": "reverse-picking",
   "metadata": {
    "execution": {
     "iopub.execute_input": "2021-10-22T04:30:06.759016Z",
     "iopub.status.busy": "2021-10-22T04:30:06.757068Z",
     "iopub.status.idle": "2021-10-22T04:30:07.562072Z",
     "shell.execute_reply": "2021-10-22T04:30:07.563332Z"
    },
    "papermill": {
     "duration": 0.857646,
     "end_time": "2021-10-22T04:30:07.563952",
     "exception": false,
     "start_time": "2021-10-22T04:30:06.706306",
     "status": "completed"
    },
    "tags": []
   },
   "outputs": [],
   "source": [
    "import pandas as pd\n",
    "import sqlite3"
   ]
  },
  {
   "cell_type": "code",
   "execution_count": 2,
   "id": "innovative-syndrome",
   "metadata": {
    "execution": {
     "iopub.execute_input": "2021-10-22T04:30:07.615111Z",
     "iopub.status.busy": "2021-10-22T04:30:07.613208Z",
     "iopub.status.idle": "2021-10-22T04:30:08.240929Z",
     "shell.execute_reply": "2021-10-22T04:30:08.242256Z"
    },
    "papermill": {
     "duration": 0.657709,
     "end_time": "2021-10-22T04:30:08.242713",
     "exception": false,
     "start_time": "2021-10-22T04:30:07.585004",
     "status": "completed"
    },
    "tags": []
   },
   "outputs": [],
   "source": [
    "timestamps = pd.read_sql(\"select distinct record_time from EBAY_TOP_BERLIN order by record_time desc limit 2\", sqlite3.connect(\"UsedObjects.db\"))"
   ]
  },
  {
   "cell_type": "code",
   "execution_count": 3,
   "id": "periodic-identification",
   "metadata": {
    "execution": {
     "iopub.execute_input": "2021-10-22T04:30:08.318947Z",
     "iopub.status.busy": "2021-10-22T04:30:08.316894Z",
     "iopub.status.idle": "2021-10-22T04:30:08.337077Z",
     "shell.execute_reply": "2021-10-22T04:30:08.338503Z"
    },
    "papermill": {
     "duration": 0.071341,
     "end_time": "2021-10-22T04:30:08.338934",
     "exception": false,
     "start_time": "2021-10-22T04:30:08.267593",
     "status": "completed"
    },
    "tags": []
   },
   "outputs": [
    {
     "data": {
      "text/html": [
       "<div>\n",
       "<style scoped>\n",
       "    .dataframe tbody tr th:only-of-type {\n",
       "        vertical-align: middle;\n",
       "    }\n",
       "\n",
       "    .dataframe tbody tr th {\n",
       "        vertical-align: top;\n",
       "    }\n",
       "\n",
       "    .dataframe thead th {\n",
       "        text-align: right;\n",
       "    }\n",
       "</style>\n",
       "<table border=\"1\" class=\"dataframe\">\n",
       "  <thead>\n",
       "    <tr style=\"text-align: right;\">\n",
       "      <th></th>\n",
       "      <th>RECORD_TIME</th>\n",
       "    </tr>\n",
       "  </thead>\n",
       "  <tbody>\n",
       "    <tr>\n",
       "      <th>0</th>\n",
       "      <td>2021-10-22 06:30</td>\n",
       "    </tr>\n",
       "    <tr>\n",
       "      <th>1</th>\n",
       "      <td>2021-10-22 06:00</td>\n",
       "    </tr>\n",
       "  </tbody>\n",
       "</table>\n",
       "</div>"
      ],
      "text/plain": [
       "        RECORD_TIME\n",
       "0  2021-10-22 06:30\n",
       "1  2021-10-22 06:00"
      ]
     },
     "execution_count": 3,
     "metadata": {},
     "output_type": "execute_result"
    }
   ],
   "source": [
    "timestamps"
   ]
  },
  {
   "cell_type": "code",
   "execution_count": 4,
   "id": "alternate-victory",
   "metadata": {
    "execution": {
     "iopub.execute_input": "2021-10-22T04:30:08.390986Z",
     "iopub.status.busy": "2021-10-22T04:30:08.388829Z",
     "iopub.status.idle": "2021-10-22T04:30:09.318330Z",
     "shell.execute_reply": "2021-10-22T04:30:09.319565Z"
    },
    "papermill": {
     "duration": 0.959663,
     "end_time": "2021-10-22T04:30:09.319966",
     "exception": false,
     "start_time": "2021-10-22T04:30:08.360303",
     "status": "completed"
    },
    "tags": []
   },
   "outputs": [],
   "source": [
    "df = pd.read_sql(\"select * from EBAY_TOP_BERLIN where record_time in (select distinct record_time from EBAY_TOP_BERLIN order by record_time desc limit 2)\", sqlite3.connect(\"UsedObjects.db\"))"
   ]
  },
  {
   "cell_type": "code",
   "execution_count": 5,
   "id": "popular-active",
   "metadata": {
    "execution": {
     "iopub.execute_input": "2021-10-22T04:30:09.381459Z",
     "iopub.status.busy": "2021-10-22T04:30:09.379208Z",
     "iopub.status.idle": "2021-10-22T04:30:09.406333Z",
     "shell.execute_reply": "2021-10-22T04:30:09.407561Z"
    },
    "papermill": {
     "duration": 0.067131,
     "end_time": "2021-10-22T04:30:09.407959",
     "exception": false,
     "start_time": "2021-10-22T04:30:09.340828",
     "status": "completed"
    },
    "tags": []
   },
   "outputs": [],
   "source": [
    "df_pivot = df.pivot_table(index=\"PRODUCT\", columns = \"RECORD_TIME\", values = \"LISTING_COUNT\")"
   ]
  },
  {
   "cell_type": "code",
   "execution_count": 6,
   "id": "union-huntington",
   "metadata": {
    "execution": {
     "iopub.execute_input": "2021-10-22T04:30:09.464905Z",
     "iopub.status.busy": "2021-10-22T04:30:09.462712Z",
     "iopub.status.idle": "2021-10-22T04:30:09.468207Z",
     "shell.execute_reply": "2021-10-22T04:30:09.469763Z"
    },
    "papermill": {
     "duration": 0.041282,
     "end_time": "2021-10-22T04:30:09.470225",
     "exception": false,
     "start_time": "2021-10-22T04:30:09.428943",
     "status": "completed"
    },
    "tags": []
   },
   "outputs": [],
   "source": [
    "df_pivot.columns = [\"stamp_1\", \"stamp_2\"]\n",
    "df_pivot_diff = df_pivot.diff(axis=1)"
   ]
  },
  {
   "cell_type": "code",
   "execution_count": 7,
   "id": "fifth-motion",
   "metadata": {
    "execution": {
     "iopub.execute_input": "2021-10-22T04:30:09.526109Z",
     "iopub.status.busy": "2021-10-22T04:30:09.523352Z",
     "iopub.status.idle": "2021-10-22T04:30:11.013016Z",
     "shell.execute_reply": "2021-10-22T04:30:11.014238Z"
    },
    "papermill": {
     "duration": 1.523249,
     "end_time": "2021-10-22T04:30:11.014670",
     "exception": false,
     "start_time": "2021-10-22T04:30:09.491421",
     "status": "completed"
    },
    "tags": []
   },
   "outputs": [
    {
     "data": {
      "text/plain": [
       "<AxesSubplot:ylabel='PRODUCT'>"
      ]
     },
     "execution_count": 7,
     "metadata": {},
     "output_type": "execute_result"
    },
    {
     "data": {
      "image/png": "[encoded data removed]",
      "text/plain": [
       "<Figure size 432x288 with 1 Axes>"
      ]
     },
     "metadata": {
      "needs_background": "light"
     },
     "output_type": "display_data"
    }
   ],
   "source": [
    "df_pivot_diff.sort_values(\"stamp_2\", ascending = False)[\"stamp_2\"].head(10).plot.barh()"
   ]
  },
  {
   "cell_type": "code",
   "execution_count": null,
   "id": "extra-executive",
   "metadata": {
    "papermill": {
     "duration": 0.022308,
     "end_time": "2021-10-22T04:30:11.061254",
     "exception": false,
     "start_time": "2021-10-22T04:30:11.038946",
     "status": "completed"
    },
    "tags": []
   },
   "outputs": [],
   "source": []
  }
 ],
 "metadata": {
  "kernelspec": {
   "display_name": "Python 3",
   "language": "python",
   "name": "python3"
  },
  "language_info": {
   "codemirror_mode": {
    "name": "ipython",
    "version": 3
   },
   "file_extension": ".py",
   "mimetype": "text/x-python",
   "name": "python",
   "nbconvert_exporter": "python",
   "pygments_lexer": "ipython3",
   "version": "3.9.5"
  },
  "papermill": {
   "default_parameters": {},
   "duration": 7.402508,
   "end_time": "2021-10-22T04:30:11.705251",
   "environment_variables": {},
   "exception": null,
   "input_path": "eBay_Overview.ipynb",
   "output_path": "eBay_Overview.ipynb",
   "parameters": {},
   "start_time": "2021-10-22T04:30:04.302743",
   "version": "2.3.3"
  }
 },
 "nbformat": 4,
 "nbformat_minor": 5
}