{
 "cells": [
  {
   "cell_type": "code",
   "execution_count": 1,
   "id": "reverse-picking",
   "metadata": {
    "execution": {
     "iopub.execute_input": "2021-10-29T10:00:07.317069Z",
     "iopub.status.busy": "2021-10-29T10:00:07.315043Z",
     "iopub.status.idle": "2021-10-29T10:00:08.116867Z",
     "shell.execute_reply": "2021-10-29T10:00:08.118364Z"
    },
    "papermill": {
     "duration": 0.852509,
     "end_time": "2021-10-29T10:00:08.119044",
     "exception": false,
     "start_time": "2021-10-29T10:00:07.266535",
     "status": "completed"
    },
    "tags": []
   },
   "outputs": [],
   "source": [
    "import pandas as pd\n",
    "import sqlite3"
   ]
  },
  {
   "cell_type": "code",
   "execution_count": 2,
   "id": "innovative-syndrome",
   "metadata": {
    "execution": {
     "iopub.execute_input": "2021-10-29T10:00:08.169708Z",
     "iopub.status.busy": "2021-10-29T10:00:08.167654Z",
     "iopub.status.idle": "2021-10-29T10:00:08.834082Z",
     "shell.execute_reply": "2021-10-29T10:00:08.835404Z"
    },
    "papermill": {
     "duration": 0.696481,
     "end_time": "2021-10-29T10:00:08.835823",
     "exception": false,
     "start_time": "2021-10-29T10:00:08.139342",
     "status": "completed"
    },
    "tags": []
   },
   "outputs": [],
   "source": [
    "timestamps = pd.read_sql(\"select distinct record_time from EBAY_TOP_BERLIN order by record_time desc limit 2\", sqlite3.connect(\"UsedObjects.db\"))"
   ]
  },
  {
   "cell_type": "code",
   "execution_count": 3,
   "id": "periodic-identification",
   "metadata": {
    "execution": {
     "iopub.execute_input": "2021-10-29T10:00:08.908024Z",
     "iopub.status.busy": "2021-10-29T10:00:08.906010Z",
     "iopub.status.idle": "2021-10-29T10:00:08.926826Z",
     "shell.execute_reply": "2021-10-29T10:00:08.928033Z"
    },
    "papermill": {
     "duration": 0.068004,
     "end_time": "2021-10-29T10:00:08.928429",
     "exception": false,
     "start_time": "2021-10-29T10:00:08.860425",
     "status": "completed"
    },
    "tags": []
   },
   "outputs": [
    {
     "data": {
      "text/html": [
       "<div>\n",
       "<style scoped>\n",
       "    .dataframe tbody tr th:only-of-type {\n",
       "        vertical-align: middle;\n",
       "    }\n",
       "\n",
       "    .dataframe tbody tr th {\n",
       "        vertical-align: top;\n",
       "    }\n",
       "\n",
       "    .dataframe thead th {\n",
       "        text-align: right;\n",
       "    }\n",
       "</style>\n",
       "<table border=\"1\" class=\"dataframe\">\n",
       "  <thead>\n",
       "    <tr style=\"text-align: right;\">\n",
       "      <th></th>\n",
       "      <th>RECORD_TIME</th>\n",
       "    </tr>\n",
       "  </thead>\n",
       "  <tbody>\n",
       "    <tr>\n",
       "      <th>0</th>\n",
       "      <td>2021-10-29 12:00</td>\n",
       "    </tr>\n",
       "    <tr>\n",
       "      <th>1</th>\n",
       "      <td>2021-10-29 11:30</td>\n",
       "    </tr>\n",
       "  </tbody>\n",
       "</table>\n",
       "</div>"
      ],
      "text/plain": [
       "        RECORD_TIME\n",
       "0  2021-10-29 12:00\n",
       "1  2021-10-29 11:30"
      ]
     },
     "execution_count": 3,
     "metadata": {},
     "output_type": "execute_result"
    }
   ],
   "source": [
    "timestamps"
   ]
  },
  {
   "cell_type": "code",
   "execution_count": 4,
   "id": "alternate-victory",
   "metadata": {
    "execution": {
     "iopub.execute_input": "2021-10-29T10:00:08.982179Z",
     "iopub.status.busy": "2021-10-29T10:00:08.979807Z",
     "iopub.status.idle": "2021-10-29T10:00:09.935385Z",
     "shell.execute_reply": "2021-10-29T10:00:09.936598Z"
    },
    "papermill": {
     "duration": 0.986002,
     "end_time": "2021-10-29T10:00:09.937202",
     "exception": false,
     "start_time": "2021-10-29T10:00:08.951200",
     "status": "completed"
    },
    "tags": []
   },
   "outputs": [],
   "source": [
    "df = pd.read_sql(\"select * from EBAY_TOP_BERLIN where record_time in (select distinct record_time from EBAY_TOP_BERLIN order by record_time desc limit 2)\", sqlite3.connect(\"UsedObjects.db\"))"
   ]
  },
  {
   "cell_type": "code",
   "execution_count": 5,
   "id": "popular-active",
   "metadata": {
    "execution": {
     "iopub.execute_input": "2021-10-29T10:00:10.009511Z",
     "iopub.status.busy": "2021-10-29T10:00:09.997920Z",
     "iopub.status.idle": "2021-10-29T10:00:10.025090Z",
     "shell.execute_reply": "2021-10-29T10:00:10.026343Z"
    },
    "papermill": {
     "duration": 0.066201,
     "end_time": "2021-10-29T10:00:10.026744",
     "exception": false,
     "start_time": "2021-10-29T10:00:09.960543",
     "status": "completed"
    },
    "tags": []
   },
   "outputs": [],
   "source": [
    "df_pivot = df.pivot_table(index=\"PRODUCT\", columns = \"RECORD_TIME\", values = \"LISTING_COUNT\")"
   ]
  },
  {
   "cell_type": "code",
   "execution_count": 6,
   "id": "union-huntington",
   "metadata": {
    "execution": {
     "iopub.execute_input": "2021-10-29T10:00:10.084417Z",
     "iopub.status.busy": "2021-10-29T10:00:10.082141Z",
     "iopub.status.idle": "2021-10-29T10:00:10.087809Z",
     "shell.execute_reply": "2021-10-29T10:00:10.089173Z"
    },
    "papermill": {
     "duration": 0.041231,
     "end_time": "2021-10-29T10:00:10.089606",
     "exception": false,
     "start_time": "2021-10-29T10:00:10.048375",
     "status": "completed"
    },
    "tags": []
   },
   "outputs": [],
   "source": [
    "df_pivot.columns = [\"stamp_1\", \"stamp_2\"]\n",
    "df_pivot_diff = df_pivot.diff(axis=1)"
   ]
  },
  {
   "cell_type": "code",
   "execution_count": 7,
   "id": "fifth-motion",
   "metadata": {
    "execution": {
     "iopub.execute_input": "2021-10-29T10:00:10.143160Z",
     "iopub.status.busy": "2021-10-29T10:00:10.140886Z",
     "iopub.status.idle": "2021-10-29T10:00:11.615303Z",
     "shell.execute_reply": "2021-10-29T10:00:11.616589Z"
    },
    "papermill": {
     "duration": 1.50759,
     "end_time": "2021-10-29T10:00:11.617212",
     "exception": false,
     "start_time": "2021-10-29T10:00:10.109622",
     "status": "completed"
    },
    "tags": []
   },
   "outputs": [
    {
     "data": {
      "text/plain": [
       "<AxesSubplot:ylabel='PRODUCT'>"
      ]
     },
     "execution_count": 7,
     "metadata": {},
     "output_type": "execute_result"
    },
    {
     "data": {
      "image/png": "[encoded data removed]",
      "text/plain": [
       "<Figure size 432x288 with 1 Axes>"
      ]
     },
     "metadata": {
      "needs_background": "light"
     },
     "output_type": "display_data"
    }
   ],
   "source": [
    "df_pivot_diff.sort_values(\"stamp_2\", ascending = False)[\"stamp_2\"].head(10).plot.barh()"
   ]
  },
  {
   "cell_type": "code",
   "execution_count": null,
   "id": "extra-executive",
   "metadata": {
    "papermill": {
     "duration": 0.022054,
     "end_time": "2021-10-29T10:00:11.663756",
     "exception": false,
     "start_time": "2021-10-29T10:00:11.641702",
     "status": "completed"
    },
    "tags": []
   },
   "outputs": [],
   "source": []
  }
 ],
 "metadata": {
  "kernelspec": {
   "display_name": "Python 3",
   "language": "python",
   "name": "python3"
  },
  "language_info": {
   "codemirror_mode": {
    "name": "ipython",
    "version": 3
   },
   "file_extension": ".py",
   "mimetype": "text/x-python",
   "name": "python",
   "nbconvert_exporter": "python",
   "pygments_lexer": "ipython3",
   "version": "3.9.5"
  },
  "papermill": {
   "default_parameters": {},
   "duration": 7.442519,
   "end_time": "2021-10-29T10:00:12.307116",
   "environment_variables": {},
   "exception": null,
   "input_path": "eBay_Overview.ipynb",
   "output_path": "eBay_Overview.ipynb",
   "parameters": {},
   "start_time": "2021-10-29T10:00:04.864597",
   "version": "2.3.3"
  }
 },
 "nbformat": 4,
 "nbformat_minor": 5
}