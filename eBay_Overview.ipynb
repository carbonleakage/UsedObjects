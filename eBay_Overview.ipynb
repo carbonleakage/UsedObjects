{
 "cells": [
  {
   "cell_type": "code",
   "execution_count": 1,
   "id": "reverse-picking",
   "metadata": {
    "execution": {
     "iopub.execute_input": "2021-12-18T16:00:07.898604Z",
     "iopub.status.busy": "2021-12-18T16:00:07.896636Z",
     "iopub.status.idle": "2021-12-18T16:00:08.858631Z",
     "shell.execute_reply": "2021-12-18T16:00:08.860198Z"
    },
    "papermill": {
     "duration": 1.011725,
     "end_time": "2021-12-18T16:00:08.861012",
     "exception": false,
     "start_time": "2021-12-18T16:00:07.849287",
     "status": "completed"
    },
    "tags": []
   },
   "outputs": [],
   "source": [
    "import pandas as pd\n",
    "import sqlite3"
   ]
  },
  {
   "cell_type": "code",
   "execution_count": 2,
   "id": "innovative-syndrome",
   "metadata": {
    "execution": {
     "iopub.execute_input": "2021-12-18T16:00:08.934722Z",
     "iopub.status.busy": "2021-12-18T16:00:08.932370Z",
     "iopub.status.idle": "2021-12-18T16:00:10.069517Z",
     "shell.execute_reply": "2021-12-18T16:00:10.071344Z"
    },
    "papermill": {
     "duration": 1.172535,
     "end_time": "2021-12-18T16:00:10.071860",
     "exception": false,
     "start_time": "2021-12-18T16:00:08.899325",
     "status": "completed"
    },
    "tags": []
   },
   "outputs": [],
   "source": [
    "timestamps = pd.read_sql(\"select distinct record_time from EBAY_TOP_BERLIN order by record_time desc limit 2\", sqlite3.connect(\"UsedObjects.db\"))"
   ]
  },
  {
   "cell_type": "code",
   "execution_count": 3,
   "id": "periodic-identification",
   "metadata": {
    "execution": {
     "iopub.execute_input": "2021-12-18T16:00:10.132231Z",
     "iopub.status.busy": "2021-12-18T16:00:10.129872Z",
     "iopub.status.idle": "2021-12-18T16:00:10.168598Z",
     "shell.execute_reply": "2021-12-18T16:00:10.170322Z"
    },
    "papermill": {
     "duration": 0.078442,
     "end_time": "2021-12-18T16:00:10.170846",
     "exception": false,
     "start_time": "2021-12-18T16:00:10.092404",
     "status": "completed"
    },
    "tags": []
   },
   "outputs": [
    {
     "data": {
      "text/html": [
       "<div>\n",
       "<style scoped>\n",
       "    .dataframe tbody tr th:only-of-type {\n",
       "        vertical-align: middle;\n",
       "    }\n",
       "\n",
       "    .dataframe tbody tr th {\n",
       "        vertical-align: top;\n",
       "    }\n",
       "\n",
       "    .dataframe thead th {\n",
       "        text-align: right;\n",
       "    }\n",
       "</style>\n",
       "<table border=\"1\" class=\"dataframe\">\n",
       "  <thead>\n",
       "    <tr style=\"text-align: right;\">\n",
       "      <th></th>\n",
       "      <th>RECORD_TIME</th>\n",
       "    </tr>\n",
       "  </thead>\n",
       "  <tbody>\n",
       "    <tr>\n",
       "      <th>0</th>\n",
       "      <td>2021-12-18 17:00</td>\n",
       "    </tr>\n",
       "    <tr>\n",
       "      <th>1</th>\n",
       "      <td>2021-12-18 16:30</td>\n",
       "    </tr>\n",
       "  </tbody>\n",
       "</table>\n",
       "</div>"
      ],
      "text/plain": [
       "        RECORD_TIME\n",
       "0  2021-12-18 17:00\n",
       "1  2021-12-18 16:30"
      ]
     },
     "execution_count": 3,
     "metadata": {},
     "output_type": "execute_result"
    }
   ],
   "source": [
    "timestamps"
   ]
  },
  {
   "cell_type": "code",
   "execution_count": 4,
   "id": "alternate-victory",
   "metadata": {
    "execution": {
     "iopub.execute_input": "2021-12-18T16:00:10.228409Z",
     "iopub.status.busy": "2021-12-18T16:00:10.226196Z",
     "iopub.status.idle": "2021-12-18T16:00:11.859987Z",
     "shell.execute_reply": "2021-12-18T16:00:11.861524Z"
    },
    "papermill": {
     "duration": 1.668028,
     "end_time": "2021-12-18T16:00:11.862020",
     "exception": false,
     "start_time": "2021-12-18T16:00:10.193992",
     "status": "completed"
    },
    "tags": []
   },
   "outputs": [],
   "source": [
    "df = pd.read_sql(\"select * from EBAY_TOP_BERLIN where record_time in (select distinct record_time from EBAY_TOP_BERLIN order by record_time desc limit 2)\", sqlite3.connect(\"UsedObjects.db\"))"
   ]
  },
  {
   "cell_type": "code",
   "execution_count": 5,
   "id": "popular-active",
   "metadata": {
    "execution": {
     "iopub.execute_input": "2021-12-18T16:00:11.942653Z",
     "iopub.status.busy": "2021-12-18T16:00:11.926853Z",
     "iopub.status.idle": "2021-12-18T16:00:11.960758Z",
     "shell.execute_reply": "2021-12-18T16:00:11.962157Z"
    },
    "papermill": {
     "duration": 0.079556,
     "end_time": "2021-12-18T16:00:11.962632",
     "exception": false,
     "start_time": "2021-12-18T16:00:11.883076",
     "status": "completed"
    },
    "tags": []
   },
   "outputs": [],
   "source": [
    "df_pivot = df.pivot_table(index=\"PRODUCT\", columns = \"RECORD_TIME\", values = \"LISTING_COUNT\")"
   ]
  },
  {
   "cell_type": "code",
   "execution_count": 6,
   "id": "union-huntington",
   "metadata": {
    "execution": {
     "iopub.execute_input": "2021-12-18T16:00:12.022375Z",
     "iopub.status.busy": "2021-12-18T16:00:12.020094Z",
     "iopub.status.idle": "2021-12-18T16:00:12.025483Z",
     "shell.execute_reply": "2021-12-18T16:00:12.026900Z"
    },
    "papermill": {
     "duration": 0.044255,
     "end_time": "2021-12-18T16:00:12.027448",
     "exception": false,
     "start_time": "2021-12-18T16:00:11.983193",
     "status": "completed"
    },
    "tags": []
   },
   "outputs": [],
   "source": [
    "df_pivot.columns = [\"stamp_1\", \"stamp_2\"]\n",
    "df_pivot_diff = df_pivot.diff(axis=1)"
   ]
  },
  {
   "cell_type": "code",
   "execution_count": 7,
   "id": "fifth-motion",
   "metadata": {
    "execution": {
     "iopub.execute_input": "2021-12-18T16:00:12.086644Z",
     "iopub.status.busy": "2021-12-18T16:00:12.083696Z",
     "iopub.status.idle": "2021-12-18T16:00:14.081489Z",
     "shell.execute_reply": "2021-12-18T16:00:14.082691Z"
    },
    "papermill": {
     "duration": 2.034346,
     "end_time": "2021-12-18T16:00:14.083129",
     "exception": false,
     "start_time": "2021-12-18T16:00:12.048783",
     "status": "completed"
    },
    "tags": []
   },
   "outputs": [
    {
     "data": {
      "text/plain": [
       "<AxesSubplot:ylabel='PRODUCT'>"
      ]
     },
     "execution_count": 7,
     "metadata": {},
     "output_type": "execute_result"
    },
    {
     "data": {
      "image/png": "[encoded data removed]",
      "text/plain": [
       "<Figure size 432x288 with 1 Axes>"
      ]
     },
     "metadata": {
      "needs_background": "light"
     },
     "output_type": "display_data"
    }
   ],
   "source": [
    "df_pivot_diff.sort_values(\"stamp_2\", ascending = False)[\"stamp_2\"].head(10).plot.barh()"
   ]
  },
  {
   "cell_type": "code",
   "execution_count": null,
   "id": "extra-executive",
   "metadata": {
    "papermill": {
     "duration": 0.022332,
     "end_time": "2021-12-18T16:00:14.132045",
     "exception": false,
     "start_time": "2021-12-18T16:00:14.109713",
     "status": "completed"
    },
    "tags": []
   },
   "outputs": [],
   "source": []
  }
 ],
 "metadata": {
  "kernelspec": {
   "display_name": "Python 3",
   "language": "python",
   "name": "python3"
  },
  "language_info": {
   "codemirror_mode": {
    "name": "ipython",
    "version": 3
   },
   "file_extension": ".py",
   "mimetype": "text/x-python",
   "name": "python",
   "nbconvert_exporter": "python",
   "pygments_lexer": "ipython3",
   "version": "3.9.5"
  },
  "papermill": {
   "default_parameters": {},
   "duration": 9.685926,
   "end_time": "2021-12-18T16:00:14.772756",
   "environment_variables": {},
   "exception": null,
   "input_path": "eBay_Overview.ipynb",
   "output_path": "eBay_Overview.ipynb",
   "parameters": {},
   "start_time": "2021-12-18T16:00:05.086830",
   "version": "2.3.3"
  }
 },
 "nbformat": 4,
 "nbformat_minor": 5
}