{
 "cells": [
  {
   "cell_type": "code",
   "execution_count": 1,
   "id": "reverse-picking",
   "metadata": {
    "execution": {
     "iopub.execute_input": "2021-08-21T21:00:06.936038Z",
     "iopub.status.busy": "2021-08-21T21:00:06.934070Z",
     "iopub.status.idle": "2021-08-21T21:00:07.742514Z",
     "shell.execute_reply": "2021-08-21T21:00:07.743819Z"
    },
    "papermill": {
     "duration": 0.862373,
     "end_time": "2021-08-21T21:00:07.744434",
     "exception": false,
     "start_time": "2021-08-21T21:00:06.882061",
     "status": "completed"
    },
    "tags": []
   },
   "outputs": [],
   "source": [
    "import pandas as pd\n",
    "import sqlite3"
   ]
  },
  {
   "cell_type": "code",
   "execution_count": 2,
   "id": "innovative-syndrome",
   "metadata": {
    "execution": {
     "iopub.execute_input": "2021-08-21T21:00:07.797337Z",
     "iopub.status.busy": "2021-08-21T21:00:07.794996Z",
     "iopub.status.idle": "2021-08-21T21:00:07.895985Z",
     "shell.execute_reply": "2021-08-21T21:00:07.897123Z"
    },
    "papermill": {
     "duration": 0.130803,
     "end_time": "2021-08-21T21:00:07.897535",
     "exception": false,
     "start_time": "2021-08-21T21:00:07.766732",
     "status": "completed"
    },
    "tags": []
   },
   "outputs": [],
   "source": [
    "timestamps = pd.read_sql(\"select distinct record_time from EBAY_TOP_BERLIN order by record_time desc limit 2\", sqlite3.connect(\"UsedObjects.db\"))"
   ]
  },
  {
   "cell_type": "code",
   "execution_count": 3,
   "id": "periodic-identification",
   "metadata": {
    "execution": {
     "iopub.execute_input": "2021-08-21T21:00:07.965352Z",
     "iopub.status.busy": "2021-08-21T21:00:07.960300Z",
     "iopub.status.idle": "2021-08-21T21:00:07.981557Z",
     "shell.execute_reply": "2021-08-21T21:00:07.983185Z"
    },
    "papermill": {
     "duration": 0.065195,
     "end_time": "2021-08-21T21:00:07.983667",
     "exception": false,
     "start_time": "2021-08-21T21:00:07.918472",
     "status": "completed"
    },
    "tags": []
   },
   "outputs": [
    {
     "data": {
      "text/html": [
       "<div>\n",
       "<style scoped>\n",
       "    .dataframe tbody tr th:only-of-type {\n",
       "        vertical-align: middle;\n",
       "    }\n",
       "\n",
       "    .dataframe tbody tr th {\n",
       "        vertical-align: top;\n",
       "    }\n",
       "\n",
       "    .dataframe thead th {\n",
       "        text-align: right;\n",
       "    }\n",
       "</style>\n",
       "<table border=\"1\" class=\"dataframe\">\n",
       "  <thead>\n",
       "    <tr style=\"text-align: right;\">\n",
       "      <th></th>\n",
       "      <th>RECORD_TIME</th>\n",
       "    </tr>\n",
       "  </thead>\n",
       "  <tbody>\n",
       "    <tr>\n",
       "      <th>0</th>\n",
       "      <td>2021-08-21 23:00</td>\n",
       "    </tr>\n",
       "    <tr>\n",
       "      <th>1</th>\n",
       "      <td>2021-08-21 22:30</td>\n",
       "    </tr>\n",
       "  </tbody>\n",
       "</table>\n",
       "</div>"
      ],
      "text/plain": [
       "        RECORD_TIME\n",
       "0  2021-08-21 23:00\n",
       "1  2021-08-21 22:30"
      ]
     },
     "execution_count": 3,
     "metadata": {},
     "output_type": "execute_result"
    }
   ],
   "source": [
    "timestamps"
   ]
  },
  {
   "cell_type": "code",
   "execution_count": 4,
   "id": "alternate-victory",
   "metadata": {
    "execution": {
     "iopub.execute_input": "2021-08-21T21:00:08.035855Z",
     "iopub.status.busy": "2021-08-21T21:00:08.033716Z",
     "iopub.status.idle": "2021-08-21T21:00:08.181361Z",
     "shell.execute_reply": "2021-08-21T21:00:08.183428Z"
    },
    "papermill": {
     "duration": 0.178799,
     "end_time": "2021-08-21T21:00:08.183978",
     "exception": false,
     "start_time": "2021-08-21T21:00:08.005179",
     "status": "completed"
    },
    "tags": []
   },
   "outputs": [],
   "source": [
    "df = pd.read_sql(\"select * from EBAY_TOP_BERLIN where record_time in (select distinct record_time from EBAY_TOP_BERLIN order by record_time desc limit 2)\", sqlite3.connect(\"UsedObjects.db\"))"
   ]
  },
  {
   "cell_type": "code",
   "execution_count": 5,
   "id": "popular-active",
   "metadata": {
    "execution": {
     "iopub.execute_input": "2021-08-21T21:00:08.255370Z",
     "iopub.status.busy": "2021-08-21T21:00:08.244258Z",
     "iopub.status.idle": "2021-08-21T21:00:08.270913Z",
     "shell.execute_reply": "2021-08-21T21:00:08.272161Z"
    },
    "papermill": {
     "duration": 0.068383,
     "end_time": "2021-08-21T21:00:08.272563",
     "exception": false,
     "start_time": "2021-08-21T21:00:08.204180",
     "status": "completed"
    },
    "tags": []
   },
   "outputs": [],
   "source": [
    "df_pivot = df.pivot_table(index=\"PRODUCT\", columns = \"RECORD_TIME\", values = \"LISTING_COUNT\")"
   ]
  },
  {
   "cell_type": "code",
   "execution_count": 6,
   "id": "union-huntington",
   "metadata": {
    "execution": {
     "iopub.execute_input": "2021-08-21T21:00:08.332824Z",
     "iopub.status.busy": "2021-08-21T21:00:08.330371Z",
     "iopub.status.idle": "2021-08-21T21:00:08.336179Z",
     "shell.execute_reply": "2021-08-21T21:00:08.337467Z"
    },
    "papermill": {
     "duration": 0.042273,
     "end_time": "2021-08-21T21:00:08.337884",
     "exception": false,
     "start_time": "2021-08-21T21:00:08.295611",
     "status": "completed"
    },
    "tags": []
   },
   "outputs": [],
   "source": [
    "df_pivot.columns = [\"stamp_1\", \"stamp_2\"]\n",
    "df_pivot_diff = df_pivot.diff(axis=1)"
   ]
  },
  {
   "cell_type": "code",
   "execution_count": 7,
   "id": "fifth-motion",
   "metadata": {
    "execution": {
     "iopub.execute_input": "2021-08-21T21:00:08.417673Z",
     "iopub.status.busy": "2021-08-21T21:00:08.415472Z",
     "iopub.status.idle": "2021-08-21T21:00:09.915487Z",
     "shell.execute_reply": "2021-08-21T21:00:09.916691Z"
    },
    "papermill": {
     "duration": 1.540139,
     "end_time": "2021-08-21T21:00:09.917128",
     "exception": false,
     "start_time": "2021-08-21T21:00:08.376989",
     "status": "completed"
    },
    "tags": []
   },
   "outputs": [
    {
     "data": {
      "text/plain": [
       "<AxesSubplot:ylabel='PRODUCT'>"
      ]
     },
     "execution_count": 7,
     "metadata": {},
     "output_type": "execute_result"
    },
    {
     "data": {
      "image/png": "[encoded data removed]",
      "text/plain": [
       "<Figure size 432x288 with 1 Axes>"
      ]
     },
     "metadata": {
      "needs_background": "light"
     },
     "output_type": "display_data"
    }
   ],
   "source": [
    "df_pivot_diff.sort_values(\"stamp_2\", ascending = False)[\"stamp_2\"].head(10).plot.barh()"
   ]
  },
  {
   "cell_type": "code",
   "execution_count": null,
   "id": "extra-executive",
   "metadata": {
    "papermill": {
     "duration": 0.022304,
     "end_time": "2021-08-21T21:00:09.963378",
     "exception": false,
     "start_time": "2021-08-21T21:00:09.941074",
     "status": "completed"
    },
    "tags": []
   },
   "outputs": [],
   "source": []
  }
 ],
 "metadata": {
  "kernelspec": {
   "display_name": "Python 3",
   "language": "python",
   "name": "python3"
  },
  "language_info": {
   "codemirror_mode": {
    "name": "ipython",
    "version": 3
   },
   "file_extension": ".py",
   "mimetype": "text/x-python",
   "name": "python",
   "nbconvert_exporter": "python",
   "pygments_lexer": "ipython3",
   "version": "3.9.5"
  },
  "papermill": {
   "default_parameters": {},
   "duration": 6.835627,
   "end_time": "2021-08-21T21:00:11.297302",
   "environment_variables": {},
   "exception": null,
   "input_path": "eBay_Overview.ipynb",
   "output_path": "eBay_Overview.ipynb",
   "parameters": {},
   "start_time": "2021-08-21T21:00:04.461675",
   "version": "2.3.3"
  }
 },
 "nbformat": 4,
 "nbformat_minor": 5
}