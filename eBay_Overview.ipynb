{
 "cells": [
  {
   "cell_type": "code",
   "execution_count": 1,
   "id": "reverse-picking",
   "metadata": {
    "execution": {
     "iopub.execute_input": "2021-10-01T08:00:07.040405Z",
     "iopub.status.busy": "2021-10-01T08:00:07.038413Z",
     "iopub.status.idle": "2021-10-01T08:00:07.844818Z",
     "shell.execute_reply": "2021-10-01T08:00:07.846070Z"
    },
    "papermill": {
     "duration": 0.857969,
     "end_time": "2021-10-01T08:00:07.846693",
     "exception": false,
     "start_time": "2021-10-01T08:00:06.988724",
     "status": "completed"
    },
    "tags": []
   },
   "outputs": [],
   "source": [
    "import pandas as pd\n",
    "import sqlite3"
   ]
  },
  {
   "cell_type": "code",
   "execution_count": 2,
   "id": "innovative-syndrome",
   "metadata": {
    "execution": {
     "iopub.execute_input": "2021-10-01T08:00:07.897617Z",
     "iopub.status.busy": "2021-10-01T08:00:07.895767Z",
     "iopub.status.idle": "2021-10-01T08:00:08.316925Z",
     "shell.execute_reply": "2021-10-01T08:00:08.318121Z"
    },
    "papermill": {
     "duration": 0.45077,
     "end_time": "2021-10-01T08:00:08.318515",
     "exception": false,
     "start_time": "2021-10-01T08:00:07.867745",
     "status": "completed"
    },
    "tags": []
   },
   "outputs": [],
   "source": [
    "timestamps = pd.read_sql(\"select distinct record_time from EBAY_TOP_BERLIN order by record_time desc limit 2\", sqlite3.connect(\"UsedObjects.db\"))"
   ]
  },
  {
   "cell_type": "code",
   "execution_count": 3,
   "id": "periodic-identification",
   "metadata": {
    "execution": {
     "iopub.execute_input": "2021-10-01T08:00:08.387466Z",
     "iopub.status.busy": "2021-10-01T08:00:08.385344Z",
     "iopub.status.idle": "2021-10-01T08:00:08.405440Z",
     "shell.execute_reply": "2021-10-01T08:00:08.406633Z"
    },
    "papermill": {
     "duration": 0.066574,
     "end_time": "2021-10-01T08:00:08.407112",
     "exception": false,
     "start_time": "2021-10-01T08:00:08.340538",
     "status": "completed"
    },
    "tags": []
   },
   "outputs": [
    {
     "data": {
      "text/html": [
       "<div>\n",
       "<style scoped>\n",
       "    .dataframe tbody tr th:only-of-type {\n",
       "        vertical-align: middle;\n",
       "    }\n",
       "\n",
       "    .dataframe tbody tr th {\n",
       "        vertical-align: top;\n",
       "    }\n",
       "\n",
       "    .dataframe thead th {\n",
       "        text-align: right;\n",
       "    }\n",
       "</style>\n",
       "<table border=\"1\" class=\"dataframe\">\n",
       "  <thead>\n",
       "    <tr style=\"text-align: right;\">\n",
       "      <th></th>\n",
       "      <th>RECORD_TIME</th>\n",
       "    </tr>\n",
       "  </thead>\n",
       "  <tbody>\n",
       "    <tr>\n",
       "      <th>0</th>\n",
       "      <td>2021-10-01 10:00</td>\n",
       "    </tr>\n",
       "    <tr>\n",
       "      <th>1</th>\n",
       "      <td>2021-10-01 09:30</td>\n",
       "    </tr>\n",
       "  </tbody>\n",
       "</table>\n",
       "</div>"
      ],
      "text/plain": [
       "        RECORD_TIME\n",
       "0  2021-10-01 10:00\n",
       "1  2021-10-01 09:30"
      ]
     },
     "execution_count": 3,
     "metadata": {},
     "output_type": "execute_result"
    }
   ],
   "source": [
    "timestamps"
   ]
  },
  {
   "cell_type": "code",
   "execution_count": 4,
   "id": "alternate-victory",
   "metadata": {
    "execution": {
     "iopub.execute_input": "2021-10-01T08:00:08.458732Z",
     "iopub.status.busy": "2021-10-01T08:00:08.456813Z",
     "iopub.status.idle": "2021-10-01T08:00:09.067493Z",
     "shell.execute_reply": "2021-10-01T08:00:09.068630Z"
    },
    "papermill": {
     "duration": 0.641226,
     "end_time": "2021-10-01T08:00:09.069044",
     "exception": false,
     "start_time": "2021-10-01T08:00:08.427818",
     "status": "completed"
    },
    "tags": []
   },
   "outputs": [],
   "source": [
    "df = pd.read_sql(\"select * from EBAY_TOP_BERLIN where record_time in (select distinct record_time from EBAY_TOP_BERLIN order by record_time desc limit 2)\", sqlite3.connect(\"UsedObjects.db\"))"
   ]
  },
  {
   "cell_type": "code",
   "execution_count": 5,
   "id": "popular-active",
   "metadata": {
    "execution": {
     "iopub.execute_input": "2021-10-01T08:00:09.141409Z",
     "iopub.status.busy": "2021-10-01T08:00:09.128408Z",
     "iopub.status.idle": "2021-10-01T08:00:09.157861Z",
     "shell.execute_reply": "2021-10-01T08:00:09.159219Z"
    },
    "papermill": {
     "duration": 0.068469,
     "end_time": "2021-10-01T08:00:09.159638",
     "exception": false,
     "start_time": "2021-10-01T08:00:09.091169",
     "status": "completed"
    },
    "tags": []
   },
   "outputs": [],
   "source": [
    "df_pivot = df.pivot_table(index=\"PRODUCT\", columns = \"RECORD_TIME\", values = \"LISTING_COUNT\")"
   ]
  },
  {
   "cell_type": "code",
   "execution_count": 6,
   "id": "union-huntington",
   "metadata": {
    "execution": {
     "iopub.execute_input": "2021-10-01T08:00:09.215990Z",
     "iopub.status.busy": "2021-10-01T08:00:09.213897Z",
     "iopub.status.idle": "2021-10-01T08:00:09.219285Z",
     "shell.execute_reply": "2021-10-01T08:00:09.220482Z"
    },
    "papermill": {
     "duration": 0.040869,
     "end_time": "2021-10-01T08:00:09.220912",
     "exception": false,
     "start_time": "2021-10-01T08:00:09.180043",
     "status": "completed"
    },
    "tags": []
   },
   "outputs": [],
   "source": [
    "df_pivot.columns = [\"stamp_1\", \"stamp_2\"]\n",
    "df_pivot_diff = df_pivot.diff(axis=1)"
   ]
  },
  {
   "cell_type": "code",
   "execution_count": 7,
   "id": "fifth-motion",
   "metadata": {
    "execution": {
     "iopub.execute_input": "2021-10-01T08:00:09.275820Z",
     "iopub.status.busy": "2021-10-01T08:00:09.273255Z",
     "iopub.status.idle": "2021-10-01T08:00:10.735599Z",
     "shell.execute_reply": "2021-10-01T08:00:10.736899Z"
    },
    "papermill": {
     "duration": 1.495675,
     "end_time": "2021-10-01T08:00:10.737319",
     "exception": false,
     "start_time": "2021-10-01T08:00:09.241644",
     "status": "completed"
    },
    "tags": []
   },
   "outputs": [
    {
     "data": {
      "text/plain": [
       "<AxesSubplot:ylabel='PRODUCT'>"
      ]
     },
     "execution_count": 7,
     "metadata": {},
     "output_type": "execute_result"
    },
    {
     "data": {
      "image/png": "[encoded data removed]",
      "text/plain": [
       "<Figure size 432x288 with 1 Axes>"
      ]
     },
     "metadata": {
      "needs_background": "light"
     },
     "output_type": "display_data"
    }
   ],
   "source": [
    "df_pivot_diff.sort_values(\"stamp_2\", ascending = False)[\"stamp_2\"].head(10).plot.barh()"
   ]
  },
  {
   "cell_type": "code",
   "execution_count": null,
   "id": "extra-executive",
   "metadata": {
    "papermill": {
     "duration": 0.022432,
     "end_time": "2021-10-01T08:00:10.784662",
     "exception": false,
     "start_time": "2021-10-01T08:00:10.762230",
     "status": "completed"
    },
    "tags": []
   },
   "outputs": [],
   "source": []
  }
 ],
 "metadata": {
  "kernelspec": {
   "display_name": "Python 3",
   "language": "python",
   "name": "python3"
  },
  "language_info": {
   "codemirror_mode": {
    "name": "ipython",
    "version": 3
   },
   "file_extension": ".py",
   "mimetype": "text/x-python",
   "name": "python",
   "nbconvert_exporter": "python",
   "pygments_lexer": "ipython3",
   "version": "3.9.5"
  },
  "papermill": {
   "default_parameters": {},
   "duration": 7.822967,
   "end_time": "2021-10-01T08:00:12.402296",
   "environment_variables": {},
   "exception": null,
   "input_path": "eBay_Overview.ipynb",
   "output_path": "eBay_Overview.ipynb",
   "parameters": {},
   "start_time": "2021-10-01T08:00:04.579329",
   "version": "2.3.3"
  }
 },
 "nbformat": 4,
 "nbformat_minor": 5
}