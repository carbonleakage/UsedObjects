{
 "cells": [
  {
   "cell_type": "code",
   "execution_count": 1,
   "id": "reverse-picking",
   "metadata": {
    "execution": {
     "iopub.execute_input": "2021-11-09T07:30:07.362743Z",
     "iopub.status.busy": "2021-11-09T07:30:07.360387Z",
     "iopub.status.idle": "2021-11-09T07:30:08.296885Z",
     "shell.execute_reply": "2021-11-09T07:30:08.299085Z"
    },
    "papermill": {
     "duration": 0.986562,
     "end_time": "2021-11-09T07:30:08.299832",
     "exception": false,
     "start_time": "2021-11-09T07:30:07.313270",
     "status": "completed"
    },
    "tags": []
   },
   "outputs": [],
   "source": [
    "import pandas as pd\n",
    "import sqlite3"
   ]
  },
  {
   "cell_type": "code",
   "execution_count": 2,
   "id": "innovative-syndrome",
   "metadata": {
    "execution": {
     "iopub.execute_input": "2021-11-09T07:30:08.359257Z",
     "iopub.status.busy": "2021-11-09T07:30:08.357054Z",
     "iopub.status.idle": "2021-11-09T07:30:09.127104Z",
     "shell.execute_reply": "2021-11-09T07:30:09.128583Z"
    },
    "papermill": {
     "duration": 0.803353,
     "end_time": "2021-11-09T07:30:09.129153",
     "exception": false,
     "start_time": "2021-11-09T07:30:08.325800",
     "status": "completed"
    },
    "tags": []
   },
   "outputs": [],
   "source": [
    "timestamps = pd.read_sql(\"select distinct record_time from EBAY_TOP_BERLIN order by record_time desc limit 2\", sqlite3.connect(\"UsedObjects.db\"))"
   ]
  },
  {
   "cell_type": "code",
   "execution_count": 3,
   "id": "periodic-identification",
   "metadata": {
    "execution": {
     "iopub.execute_input": "2021-11-09T07:30:09.200090Z",
     "iopub.status.busy": "2021-11-09T07:30:09.197760Z",
     "iopub.status.idle": "2021-11-09T07:30:09.221733Z",
     "shell.execute_reply": "2021-11-09T07:30:09.223216Z"
    },
    "papermill": {
     "duration": 0.073983,
     "end_time": "2021-11-09T07:30:09.223722",
     "exception": false,
     "start_time": "2021-11-09T07:30:09.149739",
     "status": "completed"
    },
    "tags": []
   },
   "outputs": [
    {
     "data": {
      "text/html": [
       "<div>\n",
       "<style scoped>\n",
       "    .dataframe tbody tr th:only-of-type {\n",
       "        vertical-align: middle;\n",
       "    }\n",
       "\n",
       "    .dataframe tbody tr th {\n",
       "        vertical-align: top;\n",
       "    }\n",
       "\n",
       "    .dataframe thead th {\n",
       "        text-align: right;\n",
       "    }\n",
       "</style>\n",
       "<table border=\"1\" class=\"dataframe\">\n",
       "  <thead>\n",
       "    <tr style=\"text-align: right;\">\n",
       "      <th></th>\n",
       "      <th>RECORD_TIME</th>\n",
       "    </tr>\n",
       "  </thead>\n",
       "  <tbody>\n",
       "    <tr>\n",
       "      <th>0</th>\n",
       "      <td>2021-11-09 08:30</td>\n",
       "    </tr>\n",
       "    <tr>\n",
       "      <th>1</th>\n",
       "      <td>2021-11-09 08:00</td>\n",
       "    </tr>\n",
       "  </tbody>\n",
       "</table>\n",
       "</div>"
      ],
      "text/plain": [
       "        RECORD_TIME\n",
       "0  2021-11-09 08:30\n",
       "1  2021-11-09 08:00"
      ]
     },
     "execution_count": 3,
     "metadata": {},
     "output_type": "execute_result"
    }
   ],
   "source": [
    "timestamps"
   ]
  },
  {
   "cell_type": "code",
   "execution_count": 4,
   "id": "alternate-victory",
   "metadata": {
    "execution": {
     "iopub.execute_input": "2021-11-09T07:30:09.281540Z",
     "iopub.status.busy": "2021-11-09T07:30:09.278940Z",
     "iopub.status.idle": "2021-11-09T07:30:10.374176Z",
     "shell.execute_reply": "2021-11-09T07:30:10.375882Z"
    },
    "papermill": {
     "duration": 1.129626,
     "end_time": "2021-11-09T07:30:10.376407",
     "exception": false,
     "start_time": "2021-11-09T07:30:09.246781",
     "status": "completed"
    },
    "tags": []
   },
   "outputs": [],
   "source": [
    "df = pd.read_sql(\"select * from EBAY_TOP_BERLIN where record_time in (select distinct record_time from EBAY_TOP_BERLIN order by record_time desc limit 2)\", sqlite3.connect(\"UsedObjects.db\"))"
   ]
  },
  {
   "cell_type": "code",
   "execution_count": 5,
   "id": "popular-active",
   "metadata": {
    "execution": {
     "iopub.execute_input": "2021-11-09T07:30:10.456314Z",
     "iopub.status.busy": "2021-11-09T07:30:10.442404Z",
     "iopub.status.idle": "2021-11-09T07:30:10.475691Z",
     "shell.execute_reply": "2021-11-09T07:30:10.474121Z"
    },
    "papermill": {
     "duration": 0.077192,
     "end_time": "2021-11-09T07:30:10.476084",
     "exception": false,
     "start_time": "2021-11-09T07:30:10.398892",
     "status": "completed"
    },
    "tags": []
   },
   "outputs": [],
   "source": [
    "df_pivot = df.pivot_table(index=\"PRODUCT\", columns = \"RECORD_TIME\", values = \"LISTING_COUNT\")"
   ]
  },
  {
   "cell_type": "code",
   "execution_count": 6,
   "id": "union-huntington",
   "metadata": {
    "execution": {
     "iopub.execute_input": "2021-11-09T07:30:10.535097Z",
     "iopub.status.busy": "2021-11-09T07:30:10.532881Z",
     "iopub.status.idle": "2021-11-09T07:30:10.538539Z",
     "shell.execute_reply": "2021-11-09T07:30:10.540025Z"
    },
    "papermill": {
     "duration": 0.044291,
     "end_time": "2021-11-09T07:30:10.540485",
     "exception": false,
     "start_time": "2021-11-09T07:30:10.496194",
     "status": "completed"
    },
    "tags": []
   },
   "outputs": [],
   "source": [
    "df_pivot.columns = [\"stamp_1\", \"stamp_2\"]\n",
    "df_pivot_diff = df_pivot.diff(axis=1)"
   ]
  },
  {
   "cell_type": "code",
   "execution_count": 7,
   "id": "fifth-motion",
   "metadata": {
    "execution": {
     "iopub.execute_input": "2021-11-09T07:30:10.610323Z",
     "iopub.status.busy": "2021-11-09T07:30:10.606162Z",
     "iopub.status.idle": "2021-11-09T07:30:12.341097Z",
     "shell.execute_reply": "2021-11-09T07:30:12.343323Z"
    },
    "papermill": {
     "duration": 1.781672,
     "end_time": "2021-11-09T07:30:12.343970",
     "exception": false,
     "start_time": "2021-11-09T07:30:10.562298",
     "status": "completed"
    },
    "tags": []
   },
   "outputs": [
    {
     "data": {
      "text/plain": [
       "<AxesSubplot:ylabel='PRODUCT'>"
      ]
     },
     "execution_count": 7,
     "metadata": {},
     "output_type": "execute_result"
    },
    {
     "data": {
      "image/png": "[encoded data removed]",
      "text/plain": [
       "<Figure size 432x288 with 1 Axes>"
      ]
     },
     "metadata": {
      "needs_background": "light"
     },
     "output_type": "display_data"
    }
   ],
   "source": [
    "df_pivot_diff.sort_values(\"stamp_2\", ascending = False)[\"stamp_2\"].head(10).plot.barh()"
   ]
  },
  {
   "cell_type": "code",
   "execution_count": null,
   "id": "extra-executive",
   "metadata": {
    "papermill": {
     "duration": 0.03655,
     "end_time": "2021-11-09T07:30:12.414886",
     "exception": false,
     "start_time": "2021-11-09T07:30:12.378336",
     "status": "completed"
    },
    "tags": []
   },
   "outputs": [],
   "source": []
  }
 ],
 "metadata": {
  "kernelspec": {
   "display_name": "Python 3",
   "language": "python",
   "name": "python3"
  },
  "language_info": {
   "codemirror_mode": {
    "name": "ipython",
    "version": 3
   },
   "file_extension": ".py",
   "mimetype": "text/x-python",
   "name": "python",
   "nbconvert_exporter": "python",
   "pygments_lexer": "ipython3",
   "version": "3.9.5"
  },
  "papermill": {
   "default_parameters": {},
   "duration": 8.682351,
   "end_time": "2021-11-09T07:30:13.284447",
   "environment_variables": {},
   "exception": null,
   "input_path": "eBay_Overview.ipynb",
   "output_path": "eBay_Overview.ipynb",
   "parameters": {},
   "start_time": "2021-11-09T07:30:04.602096",
   "version": "2.3.3"
  }
 },
 "nbformat": 4,
 "nbformat_minor": 5
}