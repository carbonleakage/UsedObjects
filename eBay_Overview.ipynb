{
 "cells": [
  {
   "cell_type": "code",
   "execution_count": 1,
   "id": "reverse-picking",
   "metadata": {
    "execution": {
     "iopub.execute_input": "2021-11-05T07:30:08.595896Z",
     "iopub.status.busy": "2021-11-05T07:30:08.586219Z",
     "iopub.status.idle": "2021-11-05T07:30:09.547768Z",
     "shell.execute_reply": "2021-11-05T07:30:09.549472Z"
    },
    "papermill": {
     "duration": 1.011546,
     "end_time": "2021-11-05T07:30:09.550214",
     "exception": false,
     "start_time": "2021-11-05T07:30:08.538668",
     "status": "completed"
    },
    "tags": []
   },
   "outputs": [],
   "source": [
    "import pandas as pd\n",
    "import sqlite3"
   ]
  },
  {
   "cell_type": "code",
   "execution_count": 2,
   "id": "innovative-syndrome",
   "metadata": {
    "execution": {
     "iopub.execute_input": "2021-11-05T07:30:09.606498Z",
     "iopub.status.busy": "2021-11-05T07:30:09.604235Z",
     "iopub.status.idle": "2021-11-05T07:30:10.338989Z",
     "shell.execute_reply": "2021-11-05T07:30:10.340219Z"
    },
    "papermill": {
     "duration": 0.768714,
     "end_time": "2021-11-05T07:30:10.340620",
     "exception": false,
     "start_time": "2021-11-05T07:30:09.571906",
     "status": "completed"
    },
    "tags": []
   },
   "outputs": [],
   "source": [
    "timestamps = pd.read_sql(\"select distinct record_time from EBAY_TOP_BERLIN order by record_time desc limit 2\", sqlite3.connect(\"UsedObjects.db\"))"
   ]
  },
  {
   "cell_type": "code",
   "execution_count": 3,
   "id": "periodic-identification",
   "metadata": {
    "execution": {
     "iopub.execute_input": "2021-11-05T07:30:10.410581Z",
     "iopub.status.busy": "2021-11-05T07:30:10.405209Z",
     "iopub.status.idle": "2021-11-05T07:30:10.425931Z",
     "shell.execute_reply": "2021-11-05T07:30:10.427329Z"
    },
    "papermill": {
     "duration": 0.065709,
     "end_time": "2021-11-05T07:30:10.427765",
     "exception": false,
     "start_time": "2021-11-05T07:30:10.362056",
     "status": "completed"
    },
    "tags": []
   },
   "outputs": [
    {
     "data": {
      "text/html": [
       "<div>\n",
       "<style scoped>\n",
       "    .dataframe tbody tr th:only-of-type {\n",
       "        vertical-align: middle;\n",
       "    }\n",
       "\n",
       "    .dataframe tbody tr th {\n",
       "        vertical-align: top;\n",
       "    }\n",
       "\n",
       "    .dataframe thead th {\n",
       "        text-align: right;\n",
       "    }\n",
       "</style>\n",
       "<table border=\"1\" class=\"dataframe\">\n",
       "  <thead>\n",
       "    <tr style=\"text-align: right;\">\n",
       "      <th></th>\n",
       "      <th>RECORD_TIME</th>\n",
       "    </tr>\n",
       "  </thead>\n",
       "  <tbody>\n",
       "    <tr>\n",
       "      <th>0</th>\n",
       "      <td>2021-11-05 08:30</td>\n",
       "    </tr>\n",
       "    <tr>\n",
       "      <th>1</th>\n",
       "      <td>2021-11-05 08:00</td>\n",
       "    </tr>\n",
       "  </tbody>\n",
       "</table>\n",
       "</div>"
      ],
      "text/plain": [
       "        RECORD_TIME\n",
       "0  2021-11-05 08:30\n",
       "1  2021-11-05 08:00"
      ]
     },
     "execution_count": 3,
     "metadata": {},
     "output_type": "execute_result"
    }
   ],
   "source": [
    "timestamps"
   ]
  },
  {
   "cell_type": "code",
   "execution_count": 4,
   "id": "alternate-victory",
   "metadata": {
    "execution": {
     "iopub.execute_input": "2021-11-05T07:30:10.483482Z",
     "iopub.status.busy": "2021-11-05T07:30:10.481405Z",
     "iopub.status.idle": "2021-11-05T07:30:11.561604Z",
     "shell.execute_reply": "2021-11-05T07:30:11.563249Z"
    },
    "papermill": {
     "duration": 1.113592,
     "end_time": "2021-11-05T07:30:11.563737",
     "exception": false,
     "start_time": "2021-11-05T07:30:10.450145",
     "status": "completed"
    },
    "tags": []
   },
   "outputs": [],
   "source": [
    "df = pd.read_sql(\"select * from EBAY_TOP_BERLIN where record_time in (select distinct record_time from EBAY_TOP_BERLIN order by record_time desc limit 2)\", sqlite3.connect(\"UsedObjects.db\"))"
   ]
  },
  {
   "cell_type": "code",
   "execution_count": 5,
   "id": "popular-active",
   "metadata": {
    "execution": {
     "iopub.execute_input": "2021-11-05T07:30:11.644094Z",
     "iopub.status.busy": "2021-11-05T07:30:11.630108Z",
     "iopub.status.idle": "2021-11-05T07:30:11.664438Z",
     "shell.execute_reply": "2021-11-05T07:30:11.666214Z"
    },
    "papermill": {
     "duration": 0.078951,
     "end_time": "2021-11-05T07:30:11.666693",
     "exception": false,
     "start_time": "2021-11-05T07:30:11.587742",
     "status": "completed"
    },
    "tags": []
   },
   "outputs": [],
   "source": [
    "df_pivot = df.pivot_table(index=\"PRODUCT\", columns = \"RECORD_TIME\", values = \"LISTING_COUNT\")"
   ]
  },
  {
   "cell_type": "code",
   "execution_count": 6,
   "id": "union-huntington",
   "metadata": {
    "execution": {
     "iopub.execute_input": "2021-11-05T07:30:11.731405Z",
     "iopub.status.busy": "2021-11-05T07:30:11.724866Z",
     "iopub.status.idle": "2021-11-05T07:30:11.734432Z",
     "shell.execute_reply": "2021-11-05T07:30:11.736251Z"
    },
    "papermill": {
     "duration": 0.047919,
     "end_time": "2021-11-05T07:30:11.736770",
     "exception": false,
     "start_time": "2021-11-05T07:30:11.688851",
     "status": "completed"
    },
    "tags": []
   },
   "outputs": [],
   "source": [
    "df_pivot.columns = [\"stamp_1\", \"stamp_2\"]\n",
    "df_pivot_diff = df_pivot.diff(axis=1)"
   ]
  },
  {
   "cell_type": "code",
   "execution_count": 7,
   "id": "fifth-motion",
   "metadata": {
    "execution": {
     "iopub.execute_input": "2021-11-05T07:30:11.788002Z",
     "iopub.status.busy": "2021-11-05T07:30:11.785576Z",
     "iopub.status.idle": "2021-11-05T07:30:13.775099Z",
     "shell.execute_reply": "2021-11-05T07:30:13.776981Z"
    },
    "papermill": {
     "duration": 2.020405,
     "end_time": "2021-11-05T07:30:13.777517",
     "exception": false,
     "start_time": "2021-11-05T07:30:11.757112",
     "status": "completed"
    },
    "tags": []
   },
   "outputs": [
    {
     "data": {
      "text/plain": [
       "<AxesSubplot:ylabel='PRODUCT'>"
      ]
     },
     "execution_count": 7,
     "metadata": {},
     "output_type": "execute_result"
    },
    {
     "data": {
      "image/png": "[encoded data removed]",
      "text/plain": [
       "<Figure size 432x288 with 1 Axes>"
      ]
     },
     "metadata": {
      "needs_background": "light"
     },
     "output_type": "display_data"
    }
   ],
   "source": [
    "df_pivot_diff.sort_values(\"stamp_2\", ascending = False)[\"stamp_2\"].head(10).plot.barh()"
   ]
  },
  {
   "cell_type": "code",
   "execution_count": null,
   "id": "extra-executive",
   "metadata": {
    "papermill": {
     "duration": 0.041077,
     "end_time": "2021-11-05T07:30:13.858874",
     "exception": false,
     "start_time": "2021-11-05T07:30:13.817797",
     "status": "completed"
    },
    "tags": []
   },
   "outputs": [],
   "source": []
  }
 ],
 "metadata": {
  "kernelspec": {
   "display_name": "Python 3",
   "language": "python",
   "name": "python3"
  },
  "language_info": {
   "codemirror_mode": {
    "name": "ipython",
    "version": 3
   },
   "file_extension": ".py",
   "mimetype": "text/x-python",
   "name": "python",
   "nbconvert_exporter": "python",
   "pygments_lexer": "ipython3",
   "version": "3.9.5"
  },
  "papermill": {
   "default_parameters": {},
   "duration": 9.930502,
   "end_time": "2021-11-05T07:30:15.737769",
   "environment_variables": {},
   "exception": null,
   "input_path": "eBay_Overview.ipynb",
   "output_path": "eBay_Overview.ipynb",
   "parameters": {},
   "start_time": "2021-11-05T07:30:05.807267",
   "version": "2.3.3"
  }
 },
 "nbformat": 4,
 "nbformat_minor": 5
}