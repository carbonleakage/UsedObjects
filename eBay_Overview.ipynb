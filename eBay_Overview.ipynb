{
 "cells": [
  {
   "cell_type": "code",
   "execution_count": 1,
   "id": "reverse-picking",
   "metadata": {
    "execution": {
     "iopub.execute_input": "2021-09-03T01:00:07.038158Z",
     "iopub.status.busy": "2021-09-03T01:00:07.036234Z",
     "iopub.status.idle": "2021-09-03T01:00:07.839975Z",
     "shell.execute_reply": "2021-09-03T01:00:07.841238Z"
    },
    "papermill": {
     "duration": 0.854147,
     "end_time": "2021-09-03T01:00:07.841845",
     "exception": false,
     "start_time": "2021-09-03T01:00:06.987698",
     "status": "completed"
    },
    "tags": []
   },
   "outputs": [],
   "source": [
    "import pandas as pd\n",
    "import sqlite3"
   ]
  },
  {
   "cell_type": "code",
   "execution_count": 2,
   "id": "innovative-syndrome",
   "metadata": {
    "execution": {
     "iopub.execute_input": "2021-09-03T01:00:07.892752Z",
     "iopub.status.busy": "2021-09-03T01:00:07.890710Z",
     "iopub.status.idle": "2021-09-03T01:00:08.085429Z",
     "shell.execute_reply": "2021-09-03T01:00:08.086613Z"
    },
    "papermill": {
     "duration": 0.223879,
     "end_time": "2021-09-03T01:00:08.087181",
     "exception": false,
     "start_time": "2021-09-03T01:00:07.863302",
     "status": "completed"
    },
    "tags": []
   },
   "outputs": [],
   "source": [
    "timestamps = pd.read_sql(\"select distinct record_time from EBAY_TOP_BERLIN order by record_time desc limit 2\", sqlite3.connect(\"UsedObjects.db\"))"
   ]
  },
  {
   "cell_type": "code",
   "execution_count": 3,
   "id": "periodic-identification",
   "metadata": {
    "execution": {
     "iopub.execute_input": "2021-09-03T01:00:08.154792Z",
     "iopub.status.busy": "2021-09-03T01:00:08.152763Z",
     "iopub.status.idle": "2021-09-03T01:00:08.173428Z",
     "shell.execute_reply": "2021-09-03T01:00:08.174696Z"
    },
    "papermill": {
     "duration": 0.066549,
     "end_time": "2021-09-03T01:00:08.175177",
     "exception": false,
     "start_time": "2021-09-03T01:00:08.108628",
     "status": "completed"
    },
    "tags": []
   },
   "outputs": [
    {
     "data": {
      "text/html": [
       "<div>\n",
       "<style scoped>\n",
       "    .dataframe tbody tr th:only-of-type {\n",
       "        vertical-align: middle;\n",
       "    }\n",
       "\n",
       "    .dataframe tbody tr th {\n",
       "        vertical-align: top;\n",
       "    }\n",
       "\n",
       "    .dataframe thead th {\n",
       "        text-align: right;\n",
       "    }\n",
       "</style>\n",
       "<table border=\"1\" class=\"dataframe\">\n",
       "  <thead>\n",
       "    <tr style=\"text-align: right;\">\n",
       "      <th></th>\n",
       "      <th>RECORD_TIME</th>\n",
       "    </tr>\n",
       "  </thead>\n",
       "  <tbody>\n",
       "    <tr>\n",
       "      <th>0</th>\n",
       "      <td>2021-09-03 03:00</td>\n",
       "    </tr>\n",
       "    <tr>\n",
       "      <th>1</th>\n",
       "      <td>2021-09-03 02:30</td>\n",
       "    </tr>\n",
       "  </tbody>\n",
       "</table>\n",
       "</div>"
      ],
      "text/plain": [
       "        RECORD_TIME\n",
       "0  2021-09-03 03:00\n",
       "1  2021-09-03 02:30"
      ]
     },
     "execution_count": 3,
     "metadata": {},
     "output_type": "execute_result"
    }
   ],
   "source": [
    "timestamps"
   ]
  },
  {
   "cell_type": "code",
   "execution_count": 4,
   "id": "alternate-victory",
   "metadata": {
    "execution": {
     "iopub.execute_input": "2021-09-03T01:00:08.226168Z",
     "iopub.status.busy": "2021-09-03T01:00:08.224350Z",
     "iopub.status.idle": "2021-09-03T01:00:08.504269Z",
     "shell.execute_reply": "2021-09-03T01:00:08.505554Z"
    },
    "papermill": {
     "duration": 0.309606,
     "end_time": "2021-09-03T01:00:08.505973",
     "exception": false,
     "start_time": "2021-09-03T01:00:08.196367",
     "status": "completed"
    },
    "tags": []
   },
   "outputs": [],
   "source": [
    "df = pd.read_sql(\"select * from EBAY_TOP_BERLIN where record_time in (select distinct record_time from EBAY_TOP_BERLIN order by record_time desc limit 2)\", sqlite3.connect(\"UsedObjects.db\"))"
   ]
  },
  {
   "cell_type": "code",
   "execution_count": 5,
   "id": "popular-active",
   "metadata": {
    "execution": {
     "iopub.execute_input": "2021-09-03T01:00:08.580900Z",
     "iopub.status.busy": "2021-09-03T01:00:08.573715Z",
     "iopub.status.idle": "2021-09-03T01:00:08.602320Z",
     "shell.execute_reply": "2021-09-03T01:00:08.603609Z"
    },
    "papermill": {
     "duration": 0.071782,
     "end_time": "2021-09-03T01:00:08.604010",
     "exception": false,
     "start_time": "2021-09-03T01:00:08.532228",
     "status": "completed"
    },
    "tags": []
   },
   "outputs": [],
   "source": [
    "df_pivot = df.pivot_table(index=\"PRODUCT\", columns = \"RECORD_TIME\", values = \"LISTING_COUNT\")"
   ]
  },
  {
   "cell_type": "code",
   "execution_count": 6,
   "id": "union-huntington",
   "metadata": {
    "execution": {
     "iopub.execute_input": "2021-09-03T01:00:08.659737Z",
     "iopub.status.busy": "2021-09-03T01:00:08.657595Z",
     "iopub.status.idle": "2021-09-03T01:00:08.662911Z",
     "shell.execute_reply": "2021-09-03T01:00:08.664190Z"
    },
    "papermill": {
     "duration": 0.040036,
     "end_time": "2021-09-03T01:00:08.664605",
     "exception": false,
     "start_time": "2021-09-03T01:00:08.624569",
     "status": "completed"
    },
    "tags": []
   },
   "outputs": [],
   "source": [
    "df_pivot.columns = [\"stamp_1\", \"stamp_2\"]\n",
    "df_pivot_diff = df_pivot.diff(axis=1)"
   ]
  },
  {
   "cell_type": "code",
   "execution_count": 7,
   "id": "fifth-motion",
   "metadata": {
    "execution": {
     "iopub.execute_input": "2021-09-03T01:00:08.719727Z",
     "iopub.status.busy": "2021-09-03T01:00:08.717163Z",
     "iopub.status.idle": "2021-09-03T01:00:10.215164Z",
     "shell.execute_reply": "2021-09-03T01:00:10.216600Z"
    },
    "papermill": {
     "duration": 1.53103,
     "end_time": "2021-09-03T01:00:10.217038",
     "exception": false,
     "start_time": "2021-09-03T01:00:08.686008",
     "status": "completed"
    },
    "tags": []
   },
   "outputs": [
    {
     "data": {
      "text/plain": [
       "<AxesSubplot:ylabel='PRODUCT'>"
      ]
     },
     "execution_count": 7,
     "metadata": {},
     "output_type": "execute_result"
    },
    {
     "data": {
      "image/png": "[encoded data removed]",
      "text/plain": [
       "<Figure size 432x288 with 1 Axes>"
      ]
     },
     "metadata": {
      "needs_background": "light"
     },
     "output_type": "display_data"
    }
   ],
   "source": [
    "df_pivot_diff.sort_values(\"stamp_2\", ascending = False)[\"stamp_2\"].head(10).plot.barh()"
   ]
  },
  {
   "cell_type": "code",
   "execution_count": null,
   "id": "extra-executive",
   "metadata": {
    "papermill": {
     "duration": 0.022002,
     "end_time": "2021-09-03T01:00:10.262760",
     "exception": false,
     "start_time": "2021-09-03T01:00:10.240758",
     "status": "completed"
    },
    "tags": []
   },
   "outputs": [],
   "source": []
  }
 ],
 "metadata": {
  "kernelspec": {
   "display_name": "Python 3",
   "language": "python",
   "name": "python3"
  },
  "language_info": {
   "codemirror_mode": {
    "name": "ipython",
    "version": 3
   },
   "file_extension": ".py",
   "mimetype": "text/x-python",
   "name": "python",
   "nbconvert_exporter": "python",
   "pygments_lexer": "ipython3",
   "version": "3.9.5"
  },
  "papermill": {
   "default_parameters": {},
   "duration": 6.820781,
   "end_time": "2021-09-03T01:00:11.406177",
   "environment_variables": {},
   "exception": null,
   "input_path": "eBay_Overview.ipynb",
   "output_path": "eBay_Overview.ipynb",
   "parameters": {},
   "start_time": "2021-09-03T01:00:04.585396",
   "version": "2.3.3"
  }
 },
 "nbformat": 4,
 "nbformat_minor": 5
}