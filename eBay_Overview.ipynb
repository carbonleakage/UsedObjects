{
 "cells": [
  {
   "cell_type": "code",
   "execution_count": 1,
   "id": "reverse-picking",
   "metadata": {
    "execution": {
     "iopub.execute_input": "2021-12-06T02:30:07.876623Z",
     "iopub.status.busy": "2021-12-06T02:30:07.874274Z",
     "iopub.status.idle": "2021-12-06T02:30:08.814011Z",
     "shell.execute_reply": "2021-12-06T02:30:08.815492Z"
    },
    "papermill": {
     "duration": 0.98902,
     "end_time": "2021-12-06T02:30:08.816219",
     "exception": false,
     "start_time": "2021-12-06T02:30:07.827199",
     "status": "completed"
    },
    "tags": []
   },
   "outputs": [],
   "source": [
    "import pandas as pd\n",
    "import sqlite3"
   ]
  },
  {
   "cell_type": "code",
   "execution_count": 2,
   "id": "innovative-syndrome",
   "metadata": {
    "execution": {
     "iopub.execute_input": "2021-12-06T02:30:08.943297Z",
     "iopub.status.busy": "2021-12-06T02:30:08.941055Z",
     "iopub.status.idle": "2021-12-06T02:30:09.927066Z",
     "shell.execute_reply": "2021-12-06T02:30:09.928305Z"
    },
    "papermill": {
     "duration": 1.021299,
     "end_time": "2021-12-06T02:30:09.928751",
     "exception": false,
     "start_time": "2021-12-06T02:30:08.907452",
     "status": "completed"
    },
    "tags": []
   },
   "outputs": [],
   "source": [
    "timestamps = pd.read_sql(\"select distinct record_time from EBAY_TOP_BERLIN order by record_time desc limit 2\", sqlite3.connect(\"UsedObjects.db\"))"
   ]
  },
  {
   "cell_type": "code",
   "execution_count": 3,
   "id": "periodic-identification",
   "metadata": {
    "execution": {
     "iopub.execute_input": "2021-12-06T02:30:09.998839Z",
     "iopub.status.busy": "2021-12-06T02:30:09.996308Z",
     "iopub.status.idle": "2021-12-06T02:30:10.020223Z",
     "shell.execute_reply": "2021-12-06T02:30:10.021856Z"
    },
    "papermill": {
     "duration": 0.072852,
     "end_time": "2021-12-06T02:30:10.022387",
     "exception": false,
     "start_time": "2021-12-06T02:30:09.949535",
     "status": "completed"
    },
    "tags": []
   },
   "outputs": [
    {
     "data": {
      "text/html": [
       "<div>\n",
       "<style scoped>\n",
       "    .dataframe tbody tr th:only-of-type {\n",
       "        vertical-align: middle;\n",
       "    }\n",
       "\n",
       "    .dataframe tbody tr th {\n",
       "        vertical-align: top;\n",
       "    }\n",
       "\n",
       "    .dataframe thead th {\n",
       "        text-align: right;\n",
       "    }\n",
       "</style>\n",
       "<table border=\"1\" class=\"dataframe\">\n",
       "  <thead>\n",
       "    <tr style=\"text-align: right;\">\n",
       "      <th></th>\n",
       "      <th>RECORD_TIME</th>\n",
       "    </tr>\n",
       "  </thead>\n",
       "  <tbody>\n",
       "    <tr>\n",
       "      <th>0</th>\n",
       "      <td>2021-12-06 03:30</td>\n",
       "    </tr>\n",
       "    <tr>\n",
       "      <th>1</th>\n",
       "      <td>2021-12-06 03:00</td>\n",
       "    </tr>\n",
       "  </tbody>\n",
       "</table>\n",
       "</div>"
      ],
      "text/plain": [
       "        RECORD_TIME\n",
       "0  2021-12-06 03:30\n",
       "1  2021-12-06 03:00"
      ]
     },
     "execution_count": 3,
     "metadata": {},
     "output_type": "execute_result"
    }
   ],
   "source": [
    "timestamps"
   ]
  },
  {
   "cell_type": "code",
   "execution_count": 4,
   "id": "alternate-victory",
   "metadata": {
    "execution": {
     "iopub.execute_input": "2021-12-06T02:30:10.080518Z",
     "iopub.status.busy": "2021-12-06T02:30:10.078652Z",
     "iopub.status.idle": "2021-12-06T02:30:11.529885Z",
     "shell.execute_reply": "2021-12-06T02:30:11.531707Z"
    },
    "papermill": {
     "duration": 1.483175,
     "end_time": "2021-12-06T02:30:11.532185",
     "exception": false,
     "start_time": "2021-12-06T02:30:10.049010",
     "status": "completed"
    },
    "tags": []
   },
   "outputs": [],
   "source": [
    "df = pd.read_sql(\"select * from EBAY_TOP_BERLIN where record_time in (select distinct record_time from EBAY_TOP_BERLIN order by record_time desc limit 2)\", sqlite3.connect(\"UsedObjects.db\"))"
   ]
  },
  {
   "cell_type": "code",
   "execution_count": 5,
   "id": "popular-active",
   "metadata": {
    "execution": {
     "iopub.execute_input": "2021-12-06T02:30:11.583376Z",
     "iopub.status.busy": "2021-12-06T02:30:11.580599Z",
     "iopub.status.idle": "2021-12-06T02:30:11.628348Z",
     "shell.execute_reply": "2021-12-06T02:30:11.630260Z"
    },
    "papermill": {
     "duration": 0.078082,
     "end_time": "2021-12-06T02:30:11.630757",
     "exception": false,
     "start_time": "2021-12-06T02:30:11.552675",
     "status": "completed"
    },
    "tags": []
   },
   "outputs": [],
   "source": [
    "df_pivot = df.pivot_table(index=\"PRODUCT\", columns = \"RECORD_TIME\", values = \"LISTING_COUNT\")"
   ]
  },
  {
   "cell_type": "code",
   "execution_count": 6,
   "id": "union-huntington",
   "metadata": {
    "execution": {
     "iopub.execute_input": "2021-12-06T02:30:11.699145Z",
     "iopub.status.busy": "2021-12-06T02:30:11.696668Z",
     "iopub.status.idle": "2021-12-06T02:30:11.703089Z",
     "shell.execute_reply": "2021-12-06T02:30:11.704403Z"
    },
    "papermill": {
     "duration": 0.053011,
     "end_time": "2021-12-06T02:30:11.704952",
     "exception": false,
     "start_time": "2021-12-06T02:30:11.651941",
     "status": "completed"
    },
    "tags": []
   },
   "outputs": [],
   "source": [
    "df_pivot.columns = [\"stamp_1\", \"stamp_2\"]\n",
    "df_pivot_diff = df_pivot.diff(axis=1)"
   ]
  },
  {
   "cell_type": "code",
   "execution_count": 7,
   "id": "fifth-motion",
   "metadata": {
    "execution": {
     "iopub.execute_input": "2021-12-06T02:30:11.763671Z",
     "iopub.status.busy": "2021-12-06T02:30:11.761163Z",
     "iopub.status.idle": "2021-12-06T02:30:13.811625Z",
     "shell.execute_reply": "2021-12-06T02:30:13.813789Z"
    },
    "papermill": {
     "duration": 2.087477,
     "end_time": "2021-12-06T02:30:13.814449",
     "exception": false,
     "start_time": "2021-12-06T02:30:11.726972",
     "status": "completed"
    },
    "tags": []
   },
   "outputs": [
    {
     "data": {
      "text/plain": [
       "<AxesSubplot:ylabel='PRODUCT'>"
      ]
     },
     "execution_count": 7,
     "metadata": {},
     "output_type": "execute_result"
    },
    {
     "data": {
      "image/png": "[encoded data removed]",
      "text/plain": [
       "<Figure size 432x288 with 1 Axes>"
      ]
     },
     "metadata": {
      "needs_background": "light"
     },
     "output_type": "display_data"
    }
   ],
   "source": [
    "df_pivot_diff.sort_values(\"stamp_2\", ascending = False)[\"stamp_2\"].head(10).plot.barh()"
   ]
  },
  {
   "cell_type": "code",
   "execution_count": null,
   "id": "extra-executive",
   "metadata": {
    "papermill": {
     "duration": 0.027425,
     "end_time": "2021-12-06T02:30:13.877147",
     "exception": false,
     "start_time": "2021-12-06T02:30:13.849722",
     "status": "completed"
    },
    "tags": []
   },
   "outputs": [],
   "source": []
  }
 ],
 "metadata": {
  "kernelspec": {
   "display_name": "Python 3",
   "language": "python",
   "name": "python3"
  },
  "language_info": {
   "codemirror_mode": {
    "name": "ipython",
    "version": 3
   },
   "file_extension": ".py",
   "mimetype": "text/x-python",
   "name": "python",
   "nbconvert_exporter": "python",
   "pygments_lexer": "ipython3",
   "version": "3.9.5"
  },
  "papermill": {
   "default_parameters": {},
   "duration": 9.952482,
   "end_time": "2021-12-06T02:30:15.039617",
   "environment_variables": {},
   "exception": null,
   "input_path": "eBay_Overview.ipynb",
   "output_path": "eBay_Overview.ipynb",
   "parameters": {},
   "start_time": "2021-12-06T02:30:05.087135",
   "version": "2.3.3"
  }
 },
 "nbformat": 4,
 "nbformat_minor": 5
}