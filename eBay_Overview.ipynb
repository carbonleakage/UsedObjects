{
 "cells": [
  {
   "cell_type": "code",
   "execution_count": 1,
   "id": "reverse-picking",
   "metadata": {
    "execution": {
     "iopub.execute_input": "2021-12-12T02:00:07.443398Z",
     "iopub.status.busy": "2021-12-12T02:00:07.432234Z",
     "iopub.status.idle": "2021-12-12T02:00:08.397593Z",
     "shell.execute_reply": "2021-12-12T02:00:08.395664Z"
    },
    "papermill": {
     "duration": 1.01331,
     "end_time": "2021-12-12T02:00:08.398098",
     "exception": false,
     "start_time": "2021-12-12T02:00:07.384788",
     "status": "completed"
    },
    "tags": []
   },
   "outputs": [],
   "source": [
    "import pandas as pd\n",
    "import sqlite3"
   ]
  },
  {
   "cell_type": "code",
   "execution_count": 2,
   "id": "innovative-syndrome",
   "metadata": {
    "execution": {
     "iopub.execute_input": "2021-12-12T02:00:08.466551Z",
     "iopub.status.busy": "2021-12-12T02:00:08.463272Z",
     "iopub.status.idle": "2021-12-12T02:00:09.530364Z",
     "shell.execute_reply": "2021-12-12T02:00:09.532780Z"
    },
    "papermill": {
     "duration": 1.102593,
     "end_time": "2021-12-12T02:00:09.533365",
     "exception": false,
     "start_time": "2021-12-12T02:00:08.430772",
     "status": "completed"
    },
    "tags": []
   },
   "outputs": [],
   "source": [
    "timestamps = pd.read_sql(\"select distinct record_time from EBAY_TOP_BERLIN order by record_time desc limit 2\", sqlite3.connect(\"UsedObjects.db\"))"
   ]
  },
  {
   "cell_type": "code",
   "execution_count": 3,
   "id": "periodic-identification",
   "metadata": {
    "execution": {
     "iopub.execute_input": "2021-12-12T02:00:09.606250Z",
     "iopub.status.busy": "2021-12-12T02:00:09.603984Z",
     "iopub.status.idle": "2021-12-12T02:00:09.627036Z",
     "shell.execute_reply": "2021-12-12T02:00:09.628363Z"
    },
    "papermill": {
     "duration": 0.072954,
     "end_time": "2021-12-12T02:00:09.628882",
     "exception": false,
     "start_time": "2021-12-12T02:00:09.555928",
     "status": "completed"
    },
    "tags": []
   },
   "outputs": [
    {
     "data": {
      "text/html": [
       "<div>\n",
       "<style scoped>\n",
       "    .dataframe tbody tr th:only-of-type {\n",
       "        vertical-align: middle;\n",
       "    }\n",
       "\n",
       "    .dataframe tbody tr th {\n",
       "        vertical-align: top;\n",
       "    }\n",
       "\n",
       "    .dataframe thead th {\n",
       "        text-align: right;\n",
       "    }\n",
       "</style>\n",
       "<table border=\"1\" class=\"dataframe\">\n",
       "  <thead>\n",
       "    <tr style=\"text-align: right;\">\n",
       "      <th></th>\n",
       "      <th>RECORD_TIME</th>\n",
       "    </tr>\n",
       "  </thead>\n",
       "  <tbody>\n",
       "    <tr>\n",
       "      <th>0</th>\n",
       "      <td>2021-12-12 03:00</td>\n",
       "    </tr>\n",
       "    <tr>\n",
       "      <th>1</th>\n",
       "      <td>2021-12-12 02:30</td>\n",
       "    </tr>\n",
       "  </tbody>\n",
       "</table>\n",
       "</div>"
      ],
      "text/plain": [
       "        RECORD_TIME\n",
       "0  2021-12-12 03:00\n",
       "1  2021-12-12 02:30"
      ]
     },
     "execution_count": 3,
     "metadata": {},
     "output_type": "execute_result"
    }
   ],
   "source": [
    "timestamps"
   ]
  },
  {
   "cell_type": "code",
   "execution_count": 4,
   "id": "alternate-victory",
   "metadata": {
    "execution": {
     "iopub.execute_input": "2021-12-12T02:00:09.686678Z",
     "iopub.status.busy": "2021-12-12T02:00:09.684336Z",
     "iopub.status.idle": "2021-12-12T02:00:11.238180Z",
     "shell.execute_reply": "2021-12-12T02:00:11.239696Z"
    },
    "papermill": {
     "duration": 1.590546,
     "end_time": "2021-12-12T02:00:11.240190",
     "exception": false,
     "start_time": "2021-12-12T02:00:09.649644",
     "status": "completed"
    },
    "tags": []
   },
   "outputs": [],
   "source": [
    "df = pd.read_sql(\"select * from EBAY_TOP_BERLIN where record_time in (select distinct record_time from EBAY_TOP_BERLIN order by record_time desc limit 2)\", sqlite3.connect(\"UsedObjects.db\"))"
   ]
  },
  {
   "cell_type": "code",
   "execution_count": 5,
   "id": "popular-active",
   "metadata": {
    "execution": {
     "iopub.execute_input": "2021-12-12T02:00:11.307159Z",
     "iopub.status.busy": "2021-12-12T02:00:11.304177Z",
     "iopub.status.idle": "2021-12-12T02:00:11.345448Z",
     "shell.execute_reply": "2021-12-12T02:00:11.347366Z"
    },
    "papermill": {
     "duration": 0.08603,
     "end_time": "2021-12-12T02:00:11.347978",
     "exception": false,
     "start_time": "2021-12-12T02:00:11.261948",
     "status": "completed"
    },
    "tags": []
   },
   "outputs": [],
   "source": [
    "df_pivot = df.pivot_table(index=\"PRODUCT\", columns = \"RECORD_TIME\", values = \"LISTING_COUNT\")"
   ]
  },
  {
   "cell_type": "code",
   "execution_count": 6,
   "id": "union-huntington",
   "metadata": {
    "execution": {
     "iopub.execute_input": "2021-12-12T02:00:11.409305Z",
     "iopub.status.busy": "2021-12-12T02:00:11.407030Z",
     "iopub.status.idle": "2021-12-12T02:00:11.412585Z",
     "shell.execute_reply": "2021-12-12T02:00:11.414003Z"
    },
    "papermill": {
     "duration": 0.044573,
     "end_time": "2021-12-12T02:00:11.414488",
     "exception": false,
     "start_time": "2021-12-12T02:00:11.369915",
     "status": "completed"
    },
    "tags": []
   },
   "outputs": [],
   "source": [
    "df_pivot.columns = [\"stamp_1\", \"stamp_2\"]\n",
    "df_pivot_diff = df_pivot.diff(axis=1)"
   ]
  },
  {
   "cell_type": "code",
   "execution_count": 7,
   "id": "fifth-motion",
   "metadata": {
    "execution": {
     "iopub.execute_input": "2021-12-12T02:00:11.469837Z",
     "iopub.status.busy": "2021-12-12T02:00:11.467307Z",
     "iopub.status.idle": "2021-12-12T02:00:13.438963Z",
     "shell.execute_reply": "2021-12-12T02:00:13.441051Z"
    },
    "papermill": {
     "duration": 2.007567,
     "end_time": "2021-12-12T02:00:13.441712",
     "exception": false,
     "start_time": "2021-12-12T02:00:11.434145",
     "status": "completed"
    },
    "tags": []
   },
   "outputs": [
    {
     "data": {
      "text/plain": [
       "<AxesSubplot:ylabel='PRODUCT'>"
      ]
     },
     "execution_count": 7,
     "metadata": {},
     "output_type": "execute_result"
    },
    {
     "data": {
      "image/png": "[encoded data removed]",
      "text/plain": [
       "<Figure size 432x288 with 1 Axes>"
      ]
     },
     "metadata": {
      "needs_background": "light"
     },
     "output_type": "display_data"
    }
   ],
   "source": [
    "df_pivot_diff.sort_values(\"stamp_2\", ascending = False)[\"stamp_2\"].head(10).plot.barh()"
   ]
  },
  {
   "cell_type": "code",
   "execution_count": null,
   "id": "extra-executive",
   "metadata": {
    "papermill": {
     "duration": 0.027365,
     "end_time": "2021-12-12T02:00:13.503254",
     "exception": false,
     "start_time": "2021-12-12T02:00:13.475889",
     "status": "completed"
    },
    "tags": []
   },
   "outputs": [],
   "source": []
  }
 ],
 "metadata": {
  "kernelspec": {
   "display_name": "Python 3",
   "language": "python",
   "name": "python3"
  },
  "language_info": {
   "codemirror_mode": {
    "name": "ipython",
    "version": 3
   },
   "file_extension": ".py",
   "mimetype": "text/x-python",
   "name": "python",
   "nbconvert_exporter": "python",
   "pygments_lexer": "ipython3",
   "version": "3.9.5"
  },
  "papermill": {
   "default_parameters": {},
   "duration": 9.491254,
   "end_time": "2021-12-12T02:00:14.153794",
   "environment_variables": {},
   "exception": null,
   "input_path": "eBay_Overview.ipynb",
   "output_path": "eBay_Overview.ipynb",
   "parameters": {},
   "start_time": "2021-12-12T02:00:04.662540",
   "version": "2.3.3"
  }
 },
 "nbformat": 4,
 "nbformat_minor": 5
}