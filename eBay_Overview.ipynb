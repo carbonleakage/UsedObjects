{
 "cells": [
  {
   "cell_type": "code",
   "execution_count": 1,
   "id": "reverse-picking",
   "metadata": {
    "execution": {
     "iopub.execute_input": "2021-08-18T00:30:06.942676Z",
     "iopub.status.busy": "2021-08-18T00:30:06.940650Z",
     "iopub.status.idle": "2021-08-18T00:30:07.743615Z",
     "shell.execute_reply": "2021-08-18T00:30:07.744857Z"
    },
    "papermill": {
     "duration": 0.854735,
     "end_time": "2021-08-18T00:30:07.745470",
     "exception": false,
     "start_time": "2021-08-18T00:30:06.890735",
     "status": "completed"
    },
    "tags": []
   },
   "outputs": [],
   "source": [
    "import pandas as pd\n",
    "import sqlite3"
   ]
  },
  {
   "cell_type": "code",
   "execution_count": 2,
   "id": "innovative-syndrome",
   "metadata": {
    "execution": {
     "iopub.execute_input": "2021-08-18T00:30:07.797103Z",
     "iopub.status.busy": "2021-08-18T00:30:07.795270Z",
     "iopub.status.idle": "2021-08-18T00:30:07.866248Z",
     "shell.execute_reply": "2021-08-18T00:30:07.867481Z"
    },
    "papermill": {
     "duration": 0.10071,
     "end_time": "2021-08-18T00:30:07.867874",
     "exception": false,
     "start_time": "2021-08-18T00:30:07.767164",
     "status": "completed"
    },
    "tags": []
   },
   "outputs": [],
   "source": [
    "timestamps = pd.read_sql(\"select distinct record_time from EBAY_TOP_BERLIN order by record_time desc limit 2\", sqlite3.connect(\"UsedObjects.db\"))"
   ]
  },
  {
   "cell_type": "code",
   "execution_count": 3,
   "id": "periodic-identification",
   "metadata": {
    "execution": {
     "iopub.execute_input": "2021-08-18T00:30:07.932842Z",
     "iopub.status.busy": "2021-08-18T00:30:07.930838Z",
     "iopub.status.idle": "2021-08-18T00:30:07.950664Z",
     "shell.execute_reply": "2021-08-18T00:30:07.951898Z"
    },
    "papermill": {
     "duration": 0.064905,
     "end_time": "2021-08-18T00:30:07.952294",
     "exception": false,
     "start_time": "2021-08-18T00:30:07.887389",
     "status": "completed"
    },
    "tags": []
   },
   "outputs": [
    {
     "data": {
      "text/html": [
       "<div>\n",
       "<style scoped>\n",
       "    .dataframe tbody tr th:only-of-type {\n",
       "        vertical-align: middle;\n",
       "    }\n",
       "\n",
       "    .dataframe tbody tr th {\n",
       "        vertical-align: top;\n",
       "    }\n",
       "\n",
       "    .dataframe thead th {\n",
       "        text-align: right;\n",
       "    }\n",
       "</style>\n",
       "<table border=\"1\" class=\"dataframe\">\n",
       "  <thead>\n",
       "    <tr style=\"text-align: right;\">\n",
       "      <th></th>\n",
       "      <th>RECORD_TIME</th>\n",
       "    </tr>\n",
       "  </thead>\n",
       "  <tbody>\n",
       "    <tr>\n",
       "      <th>0</th>\n",
       "      <td>2021-08-18 02:30</td>\n",
       "    </tr>\n",
       "    <tr>\n",
       "      <th>1</th>\n",
       "      <td>2021-08-18 02:00</td>\n",
       "    </tr>\n",
       "  </tbody>\n",
       "</table>\n",
       "</div>"
      ],
      "text/plain": [
       "        RECORD_TIME\n",
       "0  2021-08-18 02:30\n",
       "1  2021-08-18 02:00"
      ]
     },
     "execution_count": 3,
     "metadata": {},
     "output_type": "execute_result"
    }
   ],
   "source": [
    "timestamps"
   ]
  },
  {
   "cell_type": "code",
   "execution_count": 4,
   "id": "alternate-victory",
   "metadata": {
    "execution": {
     "iopub.execute_input": "2021-08-18T00:30:08.003967Z",
     "iopub.status.busy": "2021-08-18T00:30:08.001762Z",
     "iopub.status.idle": "2021-08-18T00:30:08.107724Z",
     "shell.execute_reply": "2021-08-18T00:30:08.108927Z"
    },
    "papermill": {
     "duration": 0.135989,
     "end_time": "2021-08-18T00:30:08.109315",
     "exception": false,
     "start_time": "2021-08-18T00:30:07.973326",
     "status": "completed"
    },
    "tags": []
   },
   "outputs": [],
   "source": [
    "df = pd.read_sql(\"select * from EBAY_TOP_BERLIN where record_time in (select distinct record_time from EBAY_TOP_BERLIN order by record_time desc limit 2)\", sqlite3.connect(\"UsedObjects.db\"))"
   ]
  },
  {
   "cell_type": "code",
   "execution_count": 5,
   "id": "popular-active",
   "metadata": {
    "execution": {
     "iopub.execute_input": "2021-08-18T00:30:08.170317Z",
     "iopub.status.busy": "2021-08-18T00:30:08.168023Z",
     "iopub.status.idle": "2021-08-18T00:30:08.195295Z",
     "shell.execute_reply": "2021-08-18T00:30:08.196491Z"
    },
    "papermill": {
     "duration": 0.067045,
     "end_time": "2021-08-18T00:30:08.196877",
     "exception": false,
     "start_time": "2021-08-18T00:30:08.129832",
     "status": "completed"
    },
    "tags": []
   },
   "outputs": [],
   "source": [
    "df_pivot = df.pivot_table(index=\"PRODUCT\", columns = \"RECORD_TIME\", values = \"LISTING_COUNT\")"
   ]
  },
  {
   "cell_type": "code",
   "execution_count": 6,
   "id": "union-huntington",
   "metadata": {
    "execution": {
     "iopub.execute_input": "2021-08-18T00:30:08.253983Z",
     "iopub.status.busy": "2021-08-18T00:30:08.251888Z",
     "iopub.status.idle": "2021-08-18T00:30:08.256967Z",
     "shell.execute_reply": "2021-08-18T00:30:08.258351Z"
    },
    "papermill": {
     "duration": 0.040283,
     "end_time": "2021-08-18T00:30:08.258795",
     "exception": false,
     "start_time": "2021-08-18T00:30:08.218512",
     "status": "completed"
    },
    "tags": []
   },
   "outputs": [],
   "source": [
    "df_pivot.columns = [\"stamp_1\", \"stamp_2\"]\n",
    "df_pivot_diff = df_pivot.diff(axis=1)"
   ]
  },
  {
   "cell_type": "code",
   "execution_count": 7,
   "id": "fifth-motion",
   "metadata": {
    "execution": {
     "iopub.execute_input": "2021-08-18T00:30:08.313270Z",
     "iopub.status.busy": "2021-08-18T00:30:08.310931Z",
     "iopub.status.idle": "2021-08-18T00:30:09.803116Z",
     "shell.execute_reply": "2021-08-18T00:30:09.804696Z"
    },
    "papermill": {
     "duration": 1.525844,
     "end_time": "2021-08-18T00:30:09.805191",
     "exception": false,
     "start_time": "2021-08-18T00:30:08.279347",
     "status": "completed"
    },
    "tags": []
   },
   "outputs": [
    {
     "data": {
      "text/plain": [
       "<AxesSubplot:ylabel='PRODUCT'>"
      ]
     },
     "execution_count": 7,
     "metadata": {},
     "output_type": "execute_result"
    },
    {
     "data": {
      "image/png": "[encoded data removed]",
      "text/plain": [
       "<Figure size 432x288 with 1 Axes>"
      ]
     },
     "metadata": {
      "needs_background": "light"
     },
     "output_type": "display_data"
    }
   ],
   "source": [
    "df_pivot_diff.sort_values(\"stamp_2\", ascending = False)[\"stamp_2\"].head(10).plot.barh()"
   ]
  },
  {
   "cell_type": "code",
   "execution_count": null,
   "id": "extra-executive",
   "metadata": {
    "papermill": {
     "duration": 0.022207,
     "end_time": "2021-08-18T00:30:09.851766",
     "exception": false,
     "start_time": "2021-08-18T00:30:09.829559",
     "status": "completed"
    },
    "tags": []
   },
   "outputs": [],
   "source": []
  }
 ],
 "metadata": {
  "kernelspec": {
   "display_name": "Python 3",
   "language": "python",
   "name": "python3"
  },
  "language_info": {
   "codemirror_mode": {
    "name": "ipython",
    "version": 3
   },
   "file_extension": ".py",
   "mimetype": "text/x-python",
   "name": "python",
   "nbconvert_exporter": "python",
   "pygments_lexer": "ipython3",
   "version": "3.9.5"
  },
  "papermill": {
   "default_parameters": {},
   "duration": 6.823857,
   "end_time": "2021-08-18T00:30:11.304839",
   "environment_variables": {},
   "exception": null,
   "input_path": "eBay_Overview.ipynb",
   "output_path": "eBay_Overview.ipynb",
   "parameters": {},
   "start_time": "2021-08-18T00:30:04.480982",
   "version": "2.3.3"
  }
 },
 "nbformat": 4,
 "nbformat_minor": 5
}