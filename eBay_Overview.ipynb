{
 "cells": [
  {
   "cell_type": "code",
   "execution_count": 1,
   "id": "reverse-picking",
   "metadata": {
    "execution": {
     "iopub.execute_input": "2021-11-28T01:00:07.988562Z",
     "iopub.status.busy": "2021-11-28T01:00:07.975328Z",
     "iopub.status.idle": "2021-11-28T01:00:08.944535Z",
     "shell.execute_reply": "2021-11-28T01:00:08.946045Z"
    },
    "papermill": {
     "duration": 1.018061,
     "end_time": "2021-11-28T01:00:08.946804",
     "exception": false,
     "start_time": "2021-11-28T01:00:07.928743",
     "status": "completed"
    },
    "tags": []
   },
   "outputs": [],
   "source": [
    "import pandas as pd\n",
    "import sqlite3"
   ]
  },
  {
   "cell_type": "code",
   "execution_count": 2,
   "id": "innovative-syndrome",
   "metadata": {
    "execution": {
     "iopub.execute_input": "2021-11-28T01:00:09.017939Z",
     "iopub.status.busy": "2021-11-28T01:00:09.015624Z",
     "iopub.status.idle": "2021-11-28T01:00:09.937719Z",
     "shell.execute_reply": "2021-11-28T01:00:09.939395Z"
    },
    "papermill": {
     "duration": 0.956146,
     "end_time": "2021-11-28T01:00:09.939910",
     "exception": false,
     "start_time": "2021-11-28T01:00:08.983764",
     "status": "completed"
    },
    "tags": []
   },
   "outputs": [],
   "source": [
    "timestamps = pd.read_sql(\"select distinct record_time from EBAY_TOP_BERLIN order by record_time desc limit 2\", sqlite3.connect(\"UsedObjects.db\"))"
   ]
  },
  {
   "cell_type": "code",
   "execution_count": 3,
   "id": "periodic-identification",
   "metadata": {
    "execution": {
     "iopub.execute_input": "2021-11-28T01:00:10.010556Z",
     "iopub.status.busy": "2021-11-28T01:00:10.008047Z",
     "iopub.status.idle": "2021-11-28T01:00:10.033069Z",
     "shell.execute_reply": "2021-11-28T01:00:10.034626Z"
    },
    "papermill": {
     "duration": 0.074694,
     "end_time": "2021-11-28T01:00:10.035154",
     "exception": false,
     "start_time": "2021-11-28T01:00:09.960460",
     "status": "completed"
    },
    "tags": []
   },
   "outputs": [
    {
     "data": {
      "text/html": [
       "<div>\n",
       "<style scoped>\n",
       "    .dataframe tbody tr th:only-of-type {\n",
       "        vertical-align: middle;\n",
       "    }\n",
       "\n",
       "    .dataframe tbody tr th {\n",
       "        vertical-align: top;\n",
       "    }\n",
       "\n",
       "    .dataframe thead th {\n",
       "        text-align: right;\n",
       "    }\n",
       "</style>\n",
       "<table border=\"1\" class=\"dataframe\">\n",
       "  <thead>\n",
       "    <tr style=\"text-align: right;\">\n",
       "      <th></th>\n",
       "      <th>RECORD_TIME</th>\n",
       "    </tr>\n",
       "  </thead>\n",
       "  <tbody>\n",
       "    <tr>\n",
       "      <th>0</th>\n",
       "      <td>2021-11-28 02:00</td>\n",
       "    </tr>\n",
       "    <tr>\n",
       "      <th>1</th>\n",
       "      <td>2021-11-28 01:30</td>\n",
       "    </tr>\n",
       "  </tbody>\n",
       "</table>\n",
       "</div>"
      ],
      "text/plain": [
       "        RECORD_TIME\n",
       "0  2021-11-28 02:00\n",
       "1  2021-11-28 01:30"
      ]
     },
     "execution_count": 3,
     "metadata": {},
     "output_type": "execute_result"
    }
   ],
   "source": [
    "timestamps"
   ]
  },
  {
   "cell_type": "code",
   "execution_count": 4,
   "id": "alternate-victory",
   "metadata": {
    "execution": {
     "iopub.execute_input": "2021-11-28T01:00:10.089341Z",
     "iopub.status.busy": "2021-11-28T01:00:10.087031Z",
     "iopub.status.idle": "2021-11-28T01:00:11.474631Z",
     "shell.execute_reply": "2021-11-28T01:00:11.476119Z"
    },
    "papermill": {
     "duration": 1.420347,
     "end_time": "2021-11-28T01:00:11.476590",
     "exception": false,
     "start_time": "2021-11-28T01:00:10.056243",
     "status": "completed"
    },
    "tags": []
   },
   "outputs": [],
   "source": [
    "df = pd.read_sql(\"select * from EBAY_TOP_BERLIN where record_time in (select distinct record_time from EBAY_TOP_BERLIN order by record_time desc limit 2)\", sqlite3.connect(\"UsedObjects.db\"))"
   ]
  },
  {
   "cell_type": "code",
   "execution_count": 5,
   "id": "popular-active",
   "metadata": {
    "execution": {
     "iopub.execute_input": "2021-11-28T01:00:11.538956Z",
     "iopub.status.busy": "2021-11-28T01:00:11.536537Z",
     "iopub.status.idle": "2021-11-28T01:00:11.571819Z",
     "shell.execute_reply": "2021-11-28T01:00:11.573306Z"
    },
    "papermill": {
     "duration": 0.076565,
     "end_time": "2021-11-28T01:00:11.573792",
     "exception": false,
     "start_time": "2021-11-28T01:00:11.497227",
     "status": "completed"
    },
    "tags": []
   },
   "outputs": [],
   "source": [
    "df_pivot = df.pivot_table(index=\"PRODUCT\", columns = \"RECORD_TIME\", values = \"LISTING_COUNT\")"
   ]
  },
  {
   "cell_type": "code",
   "execution_count": 6,
   "id": "union-huntington",
   "metadata": {
    "execution": {
     "iopub.execute_input": "2021-11-28T01:00:11.631694Z",
     "iopub.status.busy": "2021-11-28T01:00:11.629438Z",
     "iopub.status.idle": "2021-11-28T01:00:11.635261Z",
     "shell.execute_reply": "2021-11-28T01:00:11.636647Z"
    },
    "papermill": {
     "duration": 0.043721,
     "end_time": "2021-11-28T01:00:11.637192",
     "exception": false,
     "start_time": "2021-11-28T01:00:11.593471",
     "status": "completed"
    },
    "tags": []
   },
   "outputs": [],
   "source": [
    "df_pivot.columns = [\"stamp_1\", \"stamp_2\"]\n",
    "df_pivot_diff = df_pivot.diff(axis=1)"
   ]
  },
  {
   "cell_type": "code",
   "execution_count": 7,
   "id": "fifth-motion",
   "metadata": {
    "execution": {
     "iopub.execute_input": "2021-11-28T01:00:11.695921Z",
     "iopub.status.busy": "2021-11-28T01:00:11.693363Z",
     "iopub.status.idle": "2021-11-28T01:00:13.701152Z",
     "shell.execute_reply": "2021-11-28T01:00:13.702456Z"
    },
    "papermill": {
     "duration": 2.04552,
     "end_time": "2021-11-28T01:00:13.702877",
     "exception": false,
     "start_time": "2021-11-28T01:00:11.657357",
     "status": "completed"
    },
    "tags": []
   },
   "outputs": [
    {
     "data": {
      "text/plain": [
       "<AxesSubplot:ylabel='PRODUCT'>"
      ]
     },
     "execution_count": 7,
     "metadata": {},
     "output_type": "execute_result"
    },
    {
     "data": {
      "image/png": "[encoded data removed]",
      "text/plain": [
       "<Figure size 432x288 with 1 Axes>"
      ]
     },
     "metadata": {
      "needs_background": "light"
     },
     "output_type": "display_data"
    }
   ],
   "source": [
    "df_pivot_diff.sort_values(\"stamp_2\", ascending = False)[\"stamp_2\"].head(10).plot.barh()"
   ]
  },
  {
   "cell_type": "code",
   "execution_count": null,
   "id": "extra-executive",
   "metadata": {
    "papermill": {
     "duration": 0.022037,
     "end_time": "2021-11-28T01:00:13.749613",
     "exception": false,
     "start_time": "2021-11-28T01:00:13.727576",
     "status": "completed"
    },
    "tags": []
   },
   "outputs": [],
   "source": []
  }
 ],
 "metadata": {
  "kernelspec": {
   "display_name": "Python 3",
   "language": "python",
   "name": "python3"
  },
  "language_info": {
   "codemirror_mode": {
    "name": "ipython",
    "version": 3
   },
   "file_extension": ".py",
   "mimetype": "text/x-python",
   "name": "python",
   "nbconvert_exporter": "python",
   "pygments_lexer": "ipython3",
   "version": "3.9.5"
  },
  "papermill": {
   "default_parameters": {},
   "duration": 9.942621,
   "end_time": "2021-11-28T01:00:15.110061",
   "environment_variables": {},
   "exception": null,
   "input_path": "eBay_Overview.ipynb",
   "output_path": "eBay_Overview.ipynb",
   "parameters": {},
   "start_time": "2021-11-28T01:00:05.167440",
   "version": "2.3.3"
  }
 },
 "nbformat": 4,
 "nbformat_minor": 5
}