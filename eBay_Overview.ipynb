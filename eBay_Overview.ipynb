{
 "cells": [
  {
   "cell_type": "code",
   "execution_count": 1,
   "id": "reverse-picking",
   "metadata": {
    "execution": {
     "iopub.execute_input": "2021-09-21T22:00:06.720805Z",
     "iopub.status.busy": "2021-09-21T22:00:06.718834Z",
     "iopub.status.idle": "2021-09-21T22:00:07.519656Z",
     "shell.execute_reply": "2021-09-21T22:00:07.521091Z"
    },
    "papermill": {
     "duration": 0.853029,
     "end_time": "2021-09-21T22:00:07.521770",
     "exception": false,
     "start_time": "2021-09-21T22:00:06.668741",
     "status": "completed"
    },
    "tags": []
   },
   "outputs": [],
   "source": [
    "import pandas as pd\n",
    "import sqlite3"
   ]
  },
  {
   "cell_type": "code",
   "execution_count": 2,
   "id": "innovative-syndrome",
   "metadata": {
    "execution": {
     "iopub.execute_input": "2021-09-21T22:00:07.572594Z",
     "iopub.status.busy": "2021-09-21T22:00:07.570177Z",
     "iopub.status.idle": "2021-09-21T22:00:07.911836Z",
     "shell.execute_reply": "2021-09-21T22:00:07.913091Z"
    },
    "papermill": {
     "duration": 0.371306,
     "end_time": "2021-09-21T22:00:07.913483",
     "exception": false,
     "start_time": "2021-09-21T22:00:07.542177",
     "status": "completed"
    },
    "tags": []
   },
   "outputs": [],
   "source": [
    "timestamps = pd.read_sql(\"select distinct record_time from EBAY_TOP_BERLIN order by record_time desc limit 2\", sqlite3.connect(\"UsedObjects.db\"))"
   ]
  },
  {
   "cell_type": "code",
   "execution_count": 3,
   "id": "periodic-identification",
   "metadata": {
    "execution": {
     "iopub.execute_input": "2021-09-21T22:00:07.977107Z",
     "iopub.status.busy": "2021-09-21T22:00:07.975099Z",
     "iopub.status.idle": "2021-09-21T22:00:07.996975Z",
     "shell.execute_reply": "2021-09-21T22:00:07.998090Z"
    },
    "papermill": {
     "duration": 0.065826,
     "end_time": "2021-09-21T22:00:07.998494",
     "exception": false,
     "start_time": "2021-09-21T22:00:07.932668",
     "status": "completed"
    },
    "tags": []
   },
   "outputs": [
    {
     "data": {
      "text/html": [
       "<div>\n",
       "<style scoped>\n",
       "    .dataframe tbody tr th:only-of-type {\n",
       "        vertical-align: middle;\n",
       "    }\n",
       "\n",
       "    .dataframe tbody tr th {\n",
       "        vertical-align: top;\n",
       "    }\n",
       "\n",
       "    .dataframe thead th {\n",
       "        text-align: right;\n",
       "    }\n",
       "</style>\n",
       "<table border=\"1\" class=\"dataframe\">\n",
       "  <thead>\n",
       "    <tr style=\"text-align: right;\">\n",
       "      <th></th>\n",
       "      <th>RECORD_TIME</th>\n",
       "    </tr>\n",
       "  </thead>\n",
       "  <tbody>\n",
       "    <tr>\n",
       "      <th>0</th>\n",
       "      <td>2021-09-22 00:00</td>\n",
       "    </tr>\n",
       "    <tr>\n",
       "      <th>1</th>\n",
       "      <td>2021-09-21 23:30</td>\n",
       "    </tr>\n",
       "  </tbody>\n",
       "</table>\n",
       "</div>"
      ],
      "text/plain": [
       "        RECORD_TIME\n",
       "0  2021-09-22 00:00\n",
       "1  2021-09-21 23:30"
      ]
     },
     "execution_count": 3,
     "metadata": {},
     "output_type": "execute_result"
    }
   ],
   "source": [
    "timestamps"
   ]
  },
  {
   "cell_type": "code",
   "execution_count": 4,
   "id": "alternate-victory",
   "metadata": {
    "execution": {
     "iopub.execute_input": "2021-09-21T22:00:08.053376Z",
     "iopub.status.busy": "2021-09-21T22:00:08.051345Z",
     "iopub.status.idle": "2021-09-21T22:00:08.548921Z",
     "shell.execute_reply": "2021-09-21T22:00:08.550130Z"
    },
    "papermill": {
     "duration": 0.527856,
     "end_time": "2021-09-21T22:00:08.550525",
     "exception": false,
     "start_time": "2021-09-21T22:00:08.022669",
     "status": "completed"
    },
    "tags": []
   },
   "outputs": [],
   "source": [
    "df = pd.read_sql(\"select * from EBAY_TOP_BERLIN where record_time in (select distinct record_time from EBAY_TOP_BERLIN order by record_time desc limit 2)\", sqlite3.connect(\"UsedObjects.db\"))"
   ]
  },
  {
   "cell_type": "code",
   "execution_count": 5,
   "id": "popular-active",
   "metadata": {
    "execution": {
     "iopub.execute_input": "2021-09-21T22:00:08.642172Z",
     "iopub.status.busy": "2021-09-21T22:00:08.630167Z",
     "iopub.status.idle": "2021-09-21T22:00:08.657884Z",
     "shell.execute_reply": "2021-09-21T22:00:08.659326Z"
    },
    "papermill": {
     "duration": 0.075021,
     "end_time": "2021-09-21T22:00:08.659742",
     "exception": false,
     "start_time": "2021-09-21T22:00:08.584721",
     "status": "completed"
    },
    "tags": []
   },
   "outputs": [],
   "source": [
    "df_pivot = df.pivot_table(index=\"PRODUCT\", columns = \"RECORD_TIME\", values = \"LISTING_COUNT\")"
   ]
  },
  {
   "cell_type": "code",
   "execution_count": 6,
   "id": "union-huntington",
   "metadata": {
    "execution": {
     "iopub.execute_input": "2021-09-21T22:00:08.718080Z",
     "iopub.status.busy": "2021-09-21T22:00:08.715646Z",
     "iopub.status.idle": "2021-09-21T22:00:08.721595Z",
     "shell.execute_reply": "2021-09-21T22:00:08.722843Z"
    },
    "papermill": {
     "duration": 0.042128,
     "end_time": "2021-09-21T22:00:08.723282",
     "exception": false,
     "start_time": "2021-09-21T22:00:08.681154",
     "status": "completed"
    },
    "tags": []
   },
   "outputs": [],
   "source": [
    "df_pivot.columns = [\"stamp_1\", \"stamp_2\"]\n",
    "df_pivot_diff = df_pivot.diff(axis=1)"
   ]
  },
  {
   "cell_type": "code",
   "execution_count": 7,
   "id": "fifth-motion",
   "metadata": {
    "execution": {
     "iopub.execute_input": "2021-09-21T22:00:08.777986Z",
     "iopub.status.busy": "2021-09-21T22:00:08.775818Z",
     "iopub.status.idle": "2021-09-21T22:00:10.252134Z",
     "shell.execute_reply": "2021-09-21T22:00:10.253319Z"
    },
    "papermill": {
     "duration": 1.508785,
     "end_time": "2021-09-21T22:00:10.253751",
     "exception": false,
     "start_time": "2021-09-21T22:00:08.744966",
     "status": "completed"
    },
    "tags": []
   },
   "outputs": [
    {
     "data": {
      "text/plain": [
       "<AxesSubplot:ylabel='PRODUCT'>"
      ]
     },
     "execution_count": 7,
     "metadata": {},
     "output_type": "execute_result"
    },
    {
     "data": {
      "image/png": "[encoded data removed]",
      "text/plain": [
       "<Figure size 432x288 with 1 Axes>"
      ]
     },
     "metadata": {
      "needs_background": "light"
     },
     "output_type": "display_data"
    }
   ],
   "source": [
    "df_pivot_diff.sort_values(\"stamp_2\", ascending = False)[\"stamp_2\"].head(10).plot.barh()"
   ]
  },
  {
   "cell_type": "code",
   "execution_count": null,
   "id": "extra-executive",
   "metadata": {
    "papermill": {
     "duration": 0.022308,
     "end_time": "2021-09-21T22:00:10.299876",
     "exception": false,
     "start_time": "2021-09-21T22:00:10.277568",
     "status": "completed"
    },
    "tags": []
   },
   "outputs": [],
   "source": []
  }
 ],
 "metadata": {
  "kernelspec": {
   "display_name": "Python 3",
   "language": "python",
   "name": "python3"
  },
  "language_info": {
   "codemirror_mode": {
    "name": "ipython",
    "version": 3
   },
   "file_extension": ".py",
   "mimetype": "text/x-python",
   "name": "python",
   "nbconvert_exporter": "python",
   "pygments_lexer": "ipython3",
   "version": "3.9.5"
  },
  "papermill": {
   "default_parameters": {},
   "duration": 6.672675,
   "end_time": "2021-09-21T22:00:10.942956",
   "environment_variables": {},
   "exception": null,
   "input_path": "eBay_Overview.ipynb",
   "output_path": "eBay_Overview.ipynb",
   "parameters": {},
   "start_time": "2021-09-21T22:00:04.270281",
   "version": "2.3.3"
  }
 },
 "nbformat": 4,
 "nbformat_minor": 5
}