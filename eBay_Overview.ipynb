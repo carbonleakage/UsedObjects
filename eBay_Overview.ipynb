{
 "cells": [
  {
   "cell_type": "code",
   "execution_count": 1,
   "id": "reverse-picking",
   "metadata": {
    "execution": {
     "iopub.execute_input": "2021-08-13T21:30:07.376028Z",
     "iopub.status.busy": "2021-08-13T21:30:07.374070Z",
     "iopub.status.idle": "2021-08-13T21:30:08.186619Z",
     "shell.execute_reply": "2021-08-13T21:30:08.188059Z"
    },
    "papermill": {
     "duration": 0.866476,
     "end_time": "2021-08-13T21:30:08.188737",
     "exception": false,
     "start_time": "2021-08-13T21:30:07.322261",
     "status": "completed"
    },
    "tags": []
   },
   "outputs": [],
   "source": [
    "import pandas as pd\n",
    "import sqlite3"
   ]
  },
  {
   "cell_type": "code",
   "execution_count": 2,
   "id": "innovative-syndrome",
   "metadata": {
    "execution": {
     "iopub.execute_input": "2021-08-13T21:30:08.239941Z",
     "iopub.status.busy": "2021-08-13T21:30:08.237514Z",
     "iopub.status.idle": "2021-08-13T21:30:08.282617Z",
     "shell.execute_reply": "2021-08-13T21:30:08.284060Z"
    },
    "papermill": {
     "duration": 0.075437,
     "end_time": "2021-08-13T21:30:08.284494",
     "exception": false,
     "start_time": "2021-08-13T21:30:08.209057",
     "status": "completed"
    },
    "tags": []
   },
   "outputs": [],
   "source": [
    "timestamps = pd.read_sql(\"select distinct record_time from EBAY_TOP_BERLIN order by record_time desc limit 2\", sqlite3.connect(\"UsedObjects.db\"))"
   ]
  },
  {
   "cell_type": "code",
   "execution_count": 3,
   "id": "periodic-identification",
   "metadata": {
    "execution": {
     "iopub.execute_input": "2021-08-13T21:30:08.350294Z",
     "iopub.status.busy": "2021-08-13T21:30:08.348160Z",
     "iopub.status.idle": "2021-08-13T21:30:08.368490Z",
     "shell.execute_reply": "2021-08-13T21:30:08.369770Z"
    },
    "papermill": {
     "duration": 0.066527,
     "end_time": "2021-08-13T21:30:08.370262",
     "exception": false,
     "start_time": "2021-08-13T21:30:08.303735",
     "status": "completed"
    },
    "tags": []
   },
   "outputs": [
    {
     "data": {
      "text/html": [
       "<div>\n",
       "<style scoped>\n",
       "    .dataframe tbody tr th:only-of-type {\n",
       "        vertical-align: middle;\n",
       "    }\n",
       "\n",
       "    .dataframe tbody tr th {\n",
       "        vertical-align: top;\n",
       "    }\n",
       "\n",
       "    .dataframe thead th {\n",
       "        text-align: right;\n",
       "    }\n",
       "</style>\n",
       "<table border=\"1\" class=\"dataframe\">\n",
       "  <thead>\n",
       "    <tr style=\"text-align: right;\">\n",
       "      <th></th>\n",
       "      <th>RECORD_TIME</th>\n",
       "    </tr>\n",
       "  </thead>\n",
       "  <tbody>\n",
       "    <tr>\n",
       "      <th>0</th>\n",
       "      <td>2021-08-13 23:30</td>\n",
       "    </tr>\n",
       "    <tr>\n",
       "      <th>1</th>\n",
       "      <td>2021-08-13 23:00</td>\n",
       "    </tr>\n",
       "  </tbody>\n",
       "</table>\n",
       "</div>"
      ],
      "text/plain": [
       "        RECORD_TIME\n",
       "0  2021-08-13 23:30\n",
       "1  2021-08-13 23:00"
      ]
     },
     "execution_count": 3,
     "metadata": {},
     "output_type": "execute_result"
    }
   ],
   "source": [
    "timestamps"
   ]
  },
  {
   "cell_type": "code",
   "execution_count": 4,
   "id": "alternate-victory",
   "metadata": {
    "execution": {
     "iopub.execute_input": "2021-08-13T21:30:08.422132Z",
     "iopub.status.busy": "2021-08-13T21:30:08.420172Z",
     "iopub.status.idle": "2021-08-13T21:30:08.484328Z",
     "shell.execute_reply": "2021-08-13T21:30:08.485759Z"
    },
    "papermill": {
     "duration": 0.09439,
     "end_time": "2021-08-13T21:30:08.486241",
     "exception": false,
     "start_time": "2021-08-13T21:30:08.391851",
     "status": "completed"
    },
    "tags": []
   },
   "outputs": [],
   "source": [
    "df = pd.read_sql(\"select * from EBAY_TOP_BERLIN where record_time in (select distinct record_time from EBAY_TOP_BERLIN order by record_time desc limit 2)\", sqlite3.connect(\"UsedObjects.db\"))"
   ]
  },
  {
   "cell_type": "code",
   "execution_count": 5,
   "id": "popular-active",
   "metadata": {
    "execution": {
     "iopub.execute_input": "2021-08-13T21:30:08.556018Z",
     "iopub.status.busy": "2021-08-13T21:30:08.544755Z",
     "iopub.status.idle": "2021-08-13T21:30:08.571644Z",
     "shell.execute_reply": "2021-08-13T21:30:08.572859Z"
    },
    "papermill": {
     "duration": 0.067102,
     "end_time": "2021-08-13T21:30:08.573250",
     "exception": false,
     "start_time": "2021-08-13T21:30:08.506148",
     "status": "completed"
    },
    "tags": []
   },
   "outputs": [],
   "source": [
    "df_pivot = df.pivot_table(index=\"PRODUCT\", columns = \"RECORD_TIME\", values = \"LISTING_COUNT\")"
   ]
  },
  {
   "cell_type": "code",
   "execution_count": 6,
   "id": "union-huntington",
   "metadata": {
    "execution": {
     "iopub.execute_input": "2021-08-13T21:30:08.632389Z",
     "iopub.status.busy": "2021-08-13T21:30:08.629752Z",
     "iopub.status.idle": "2021-08-13T21:30:08.635843Z",
     "shell.execute_reply": "2021-08-13T21:30:08.637029Z"
    },
    "papermill": {
     "duration": 0.042166,
     "end_time": "2021-08-13T21:30:08.637452",
     "exception": false,
     "start_time": "2021-08-13T21:30:08.595286",
     "status": "completed"
    },
    "tags": []
   },
   "outputs": [],
   "source": [
    "df_pivot.columns = [\"stamp_1\", \"stamp_2\"]\n",
    "df_pivot_diff = df_pivot.diff(axis=1)"
   ]
  },
  {
   "cell_type": "code",
   "execution_count": 7,
   "id": "fifth-motion",
   "metadata": {
    "execution": {
     "iopub.execute_input": "2021-08-13T21:30:08.691000Z",
     "iopub.status.busy": "2021-08-13T21:30:08.688538Z",
     "iopub.status.idle": "2021-08-13T21:30:10.212188Z",
     "shell.execute_reply": "2021-08-13T21:30:10.213474Z"
    },
    "papermill": {
     "duration": 1.556138,
     "end_time": "2021-08-13T21:30:10.213945",
     "exception": false,
     "start_time": "2021-08-13T21:30:08.657807",
     "status": "completed"
    },
    "tags": []
   },
   "outputs": [
    {
     "data": {
      "text/plain": [
       "<AxesSubplot:ylabel='PRODUCT'>"
      ]
     },
     "execution_count": 7,
     "metadata": {},
     "output_type": "execute_result"
    },
    {
     "data": {
      "image/png": "[encoded data removed]",
      "text/plain": [
       "<Figure size 432x288 with 1 Axes>"
      ]
     },
     "metadata": {
      "needs_background": "light"
     },
     "output_type": "display_data"
    }
   ],
   "source": [
    "df_pivot_diff.sort_values(\"stamp_2\", ascending = False)[\"stamp_2\"].head(10).plot.barh()"
   ]
  },
  {
   "cell_type": "code",
   "execution_count": null,
   "id": "extra-executive",
   "metadata": {
    "papermill": {
     "duration": 0.0219,
     "end_time": "2021-08-13T21:30:10.259977",
     "exception": false,
     "start_time": "2021-08-13T21:30:10.238077",
     "status": "completed"
    },
    "tags": []
   },
   "outputs": [],
   "source": []
  }
 ],
 "metadata": {
  "kernelspec": {
   "display_name": "Python 3",
   "language": "python",
   "name": "python3"
  },
  "language_info": {
   "codemirror_mode": {
    "name": "ipython",
    "version": 3
   },
   "file_extension": ".py",
   "mimetype": "text/x-python",
   "name": "python",
   "nbconvert_exporter": "python",
   "pygments_lexer": "ipython3",
   "version": "3.9.5"
  },
  "papermill": {
   "default_parameters": {},
   "duration": 6.830674,
   "end_time": "2021-08-13T21:30:11.723602",
   "environment_variables": {},
   "exception": null,
   "input_path": "eBay_Overview.ipynb",
   "output_path": "eBay_Overview.ipynb",
   "parameters": {},
   "start_time": "2021-08-13T21:30:04.892928",
   "version": "2.3.3"
  }
 },
 "nbformat": 4,
 "nbformat_minor": 5
}