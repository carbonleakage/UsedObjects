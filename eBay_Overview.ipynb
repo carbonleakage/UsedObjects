{
 "cells": [
  {
   "cell_type": "code",
   "execution_count": 1,
   "id": "reverse-picking",
   "metadata": {
    "execution": {
     "iopub.execute_input": "2021-10-17T09:00:07.555297Z",
     "iopub.status.busy": "2021-10-17T09:00:07.553345Z",
     "iopub.status.idle": "2021-10-17T09:00:08.360584Z",
     "shell.execute_reply": "2021-10-17T09:00:08.361960Z"
    },
    "papermill": {
     "duration": 0.859241,
     "end_time": "2021-10-17T09:00:08.362572",
     "exception": false,
     "start_time": "2021-10-17T09:00:07.503331",
     "status": "completed"
    },
    "tags": []
   },
   "outputs": [],
   "source": [
    "import pandas as pd\n",
    "import sqlite3"
   ]
  },
  {
   "cell_type": "code",
   "execution_count": 2,
   "id": "innovative-syndrome",
   "metadata": {
    "execution": {
     "iopub.execute_input": "2021-10-17T09:00:08.413714Z",
     "iopub.status.busy": "2021-10-17T09:00:08.411601Z",
     "iopub.status.idle": "2021-10-17T09:00:08.969741Z",
     "shell.execute_reply": "2021-10-17T09:00:08.971004Z"
    },
    "papermill": {
     "duration": 0.587583,
     "end_time": "2021-10-17T09:00:08.971394",
     "exception": false,
     "start_time": "2021-10-17T09:00:08.383811",
     "status": "completed"
    },
    "tags": []
   },
   "outputs": [],
   "source": [
    "timestamps = pd.read_sql(\"select distinct record_time from EBAY_TOP_BERLIN order by record_time desc limit 2\", sqlite3.connect(\"UsedObjects.db\"))"
   ]
  },
  {
   "cell_type": "code",
   "execution_count": 3,
   "id": "periodic-identification",
   "metadata": {
    "execution": {
     "iopub.execute_input": "2021-10-17T09:00:09.047195Z",
     "iopub.status.busy": "2021-10-17T09:00:09.045175Z",
     "iopub.status.idle": "2021-10-17T09:00:09.065917Z",
     "shell.execute_reply": "2021-10-17T09:00:09.067122Z"
    },
    "papermill": {
     "duration": 0.071337,
     "end_time": "2021-10-17T09:00:09.067554",
     "exception": false,
     "start_time": "2021-10-17T09:00:08.996217",
     "status": "completed"
    },
    "tags": []
   },
   "outputs": [
    {
     "data": {
      "text/html": [
       "<div>\n",
       "<style scoped>\n",
       "    .dataframe tbody tr th:only-of-type {\n",
       "        vertical-align: middle;\n",
       "    }\n",
       "\n",
       "    .dataframe tbody tr th {\n",
       "        vertical-align: top;\n",
       "    }\n",
       "\n",
       "    .dataframe thead th {\n",
       "        text-align: right;\n",
       "    }\n",
       "</style>\n",
       "<table border=\"1\" class=\"dataframe\">\n",
       "  <thead>\n",
       "    <tr style=\"text-align: right;\">\n",
       "      <th></th>\n",
       "      <th>RECORD_TIME</th>\n",
       "    </tr>\n",
       "  </thead>\n",
       "  <tbody>\n",
       "    <tr>\n",
       "      <th>0</th>\n",
       "      <td>2021-10-17 11:00</td>\n",
       "    </tr>\n",
       "    <tr>\n",
       "      <th>1</th>\n",
       "      <td>2021-10-17 10:30</td>\n",
       "    </tr>\n",
       "  </tbody>\n",
       "</table>\n",
       "</div>"
      ],
      "text/plain": [
       "        RECORD_TIME\n",
       "0  2021-10-17 11:00\n",
       "1  2021-10-17 10:30"
      ]
     },
     "execution_count": 3,
     "metadata": {},
     "output_type": "execute_result"
    }
   ],
   "source": [
    "timestamps"
   ]
  },
  {
   "cell_type": "code",
   "execution_count": 4,
   "id": "alternate-victory",
   "metadata": {
    "execution": {
     "iopub.execute_input": "2021-10-17T09:00:09.119795Z",
     "iopub.status.busy": "2021-10-17T09:00:09.117527Z",
     "iopub.status.idle": "2021-10-17T09:00:09.949694Z",
     "shell.execute_reply": "2021-10-17T09:00:09.948108Z"
    },
    "papermill": {
     "duration": 0.860767,
     "end_time": "2021-10-17T09:00:09.950084",
     "exception": false,
     "start_time": "2021-10-17T09:00:09.089317",
     "status": "completed"
    },
    "tags": []
   },
   "outputs": [],
   "source": [
    "df = pd.read_sql(\"select * from EBAY_TOP_BERLIN where record_time in (select distinct record_time from EBAY_TOP_BERLIN order by record_time desc limit 2)\", sqlite3.connect(\"UsedObjects.db\"))"
   ]
  },
  {
   "cell_type": "code",
   "execution_count": 5,
   "id": "popular-active",
   "metadata": {
    "execution": {
     "iopub.execute_input": "2021-10-17T09:00:10.020389Z",
     "iopub.status.busy": "2021-10-17T09:00:10.007851Z",
     "iopub.status.idle": "2021-10-17T09:00:10.038290Z",
     "shell.execute_reply": "2021-10-17T09:00:10.039657Z"
    },
    "papermill": {
     "duration": 0.069419,
     "end_time": "2021-10-17T09:00:10.040089",
     "exception": false,
     "start_time": "2021-10-17T09:00:09.970670",
     "status": "completed"
    },
    "tags": []
   },
   "outputs": [],
   "source": [
    "df_pivot = df.pivot_table(index=\"PRODUCT\", columns = \"RECORD_TIME\", values = \"LISTING_COUNT\")"
   ]
  },
  {
   "cell_type": "code",
   "execution_count": 6,
   "id": "union-huntington",
   "metadata": {
    "execution": {
     "iopub.execute_input": "2021-10-17T09:00:10.096502Z",
     "iopub.status.busy": "2021-10-17T09:00:10.094473Z",
     "iopub.status.idle": "2021-10-17T09:00:10.099877Z",
     "shell.execute_reply": "2021-10-17T09:00:10.101128Z"
    },
    "papermill": {
     "duration": 0.04054,
     "end_time": "2021-10-17T09:00:10.101558",
     "exception": false,
     "start_time": "2021-10-17T09:00:10.061018",
     "status": "completed"
    },
    "tags": []
   },
   "outputs": [],
   "source": [
    "df_pivot.columns = [\"stamp_1\", \"stamp_2\"]\n",
    "df_pivot_diff = df_pivot.diff(axis=1)"
   ]
  },
  {
   "cell_type": "code",
   "execution_count": 7,
   "id": "fifth-motion",
   "metadata": {
    "execution": {
     "iopub.execute_input": "2021-10-17T09:00:10.158005Z",
     "iopub.status.busy": "2021-10-17T09:00:10.155423Z",
     "iopub.status.idle": "2021-10-17T09:00:11.671706Z",
     "shell.execute_reply": "2021-10-17T09:00:11.673097Z"
    },
    "papermill": {
     "duration": 1.549258,
     "end_time": "2021-10-17T09:00:11.673539",
     "exception": false,
     "start_time": "2021-10-17T09:00:10.124281",
     "status": "completed"
    },
    "tags": []
   },
   "outputs": [
    {
     "data": {
      "text/plain": [
       "<AxesSubplot:ylabel='PRODUCT'>"
      ]
     },
     "execution_count": 7,
     "metadata": {},
     "output_type": "execute_result"
    },
    {
     "data": {
      "image/png": "[encoded data removed]",
      "text/plain": [
       "<Figure size 432x288 with 1 Axes>"
      ]
     },
     "metadata": {
      "needs_background": "light"
     },
     "output_type": "display_data"
    }
   ],
   "source": [
    "df_pivot_diff.sort_values(\"stamp_2\", ascending = False)[\"stamp_2\"].head(10).plot.barh()"
   ]
  },
  {
   "cell_type": "code",
   "execution_count": null,
   "id": "extra-executive",
   "metadata": {
    "papermill": {
     "duration": 0.022193,
     "end_time": "2021-10-17T09:00:11.721524",
     "exception": false,
     "start_time": "2021-10-17T09:00:11.699331",
     "status": "completed"
    },
    "tags": []
   },
   "outputs": [],
   "source": []
  }
 ],
 "metadata": {
  "kernelspec": {
   "display_name": "Python 3",
   "language": "python",
   "name": "python3"
  },
  "language_info": {
   "codemirror_mode": {
    "name": "ipython",
    "version": 3
   },
   "file_extension": ".py",
   "mimetype": "text/x-python",
   "name": "python",
   "nbconvert_exporter": "python",
   "pygments_lexer": "ipython3",
   "version": "3.9.5"
  },
  "papermill": {
   "default_parameters": {},
   "duration": 7.820087,
   "end_time": "2021-10-17T09:00:12.922782",
   "environment_variables": {},
   "exception": null,
   "input_path": "eBay_Overview.ipynb",
   "output_path": "eBay_Overview.ipynb",
   "parameters": {},
   "start_time": "2021-10-17T09:00:05.102695",
   "version": "2.3.3"
  }
 },
 "nbformat": 4,
 "nbformat_minor": 5
}