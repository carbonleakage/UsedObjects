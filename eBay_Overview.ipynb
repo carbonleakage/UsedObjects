{
 "cells": [
  {
   "cell_type": "code",
   "execution_count": 1,
   "id": "reverse-picking",
   "metadata": {
    "execution": {
     "iopub.execute_input": "2021-11-03T05:30:07.533427Z",
     "iopub.status.busy": "2021-11-03T05:30:07.529997Z",
     "iopub.status.idle": "2021-11-03T05:30:08.487531Z",
     "shell.execute_reply": "2021-11-03T05:30:08.489150Z"
    },
    "papermill": {
     "duration": 1.005965,
     "end_time": "2021-11-03T05:30:08.489874",
     "exception": false,
     "start_time": "2021-11-03T05:30:07.483909",
     "status": "completed"
    },
    "tags": []
   },
   "outputs": [],
   "source": [
    "import pandas as pd\n",
    "import sqlite3"
   ]
  },
  {
   "cell_type": "code",
   "execution_count": 2,
   "id": "innovative-syndrome",
   "metadata": {
    "execution": {
     "iopub.execute_input": "2021-11-03T05:30:08.550627Z",
     "iopub.status.busy": "2021-11-03T05:30:08.548320Z",
     "iopub.status.idle": "2021-11-03T05:30:09.264537Z",
     "shell.execute_reply": "2021-11-03T05:30:09.266139Z"
    },
    "papermill": {
     "duration": 0.749104,
     "end_time": "2021-11-03T05:30:09.266628",
     "exception": false,
     "start_time": "2021-11-03T05:30:08.517524",
     "status": "completed"
    },
    "tags": []
   },
   "outputs": [],
   "source": [
    "timestamps = pd.read_sql(\"select distinct record_time from EBAY_TOP_BERLIN order by record_time desc limit 2\", sqlite3.connect(\"UsedObjects.db\"))"
   ]
  },
  {
   "cell_type": "code",
   "execution_count": 3,
   "id": "periodic-identification",
   "metadata": {
    "execution": {
     "iopub.execute_input": "2021-11-03T05:30:09.333606Z",
     "iopub.status.busy": "2021-11-03T05:30:09.331395Z",
     "iopub.status.idle": "2021-11-03T05:30:09.355753Z",
     "shell.execute_reply": "2021-11-03T05:30:09.357250Z"
    },
    "papermill": {
     "duration": 0.071785,
     "end_time": "2021-11-03T05:30:09.357734",
     "exception": false,
     "start_time": "2021-11-03T05:30:09.285949",
     "status": "completed"
    },
    "tags": []
   },
   "outputs": [
    {
     "data": {
      "text/html": [
       "<div>\n",
       "<style scoped>\n",
       "    .dataframe tbody tr th:only-of-type {\n",
       "        vertical-align: middle;\n",
       "    }\n",
       "\n",
       "    .dataframe tbody tr th {\n",
       "        vertical-align: top;\n",
       "    }\n",
       "\n",
       "    .dataframe thead th {\n",
       "        text-align: right;\n",
       "    }\n",
       "</style>\n",
       "<table border=\"1\" class=\"dataframe\">\n",
       "  <thead>\n",
       "    <tr style=\"text-align: right;\">\n",
       "      <th></th>\n",
       "      <th>RECORD_TIME</th>\n",
       "    </tr>\n",
       "  </thead>\n",
       "  <tbody>\n",
       "    <tr>\n",
       "      <th>0</th>\n",
       "      <td>2021-11-03 06:30</td>\n",
       "    </tr>\n",
       "    <tr>\n",
       "      <th>1</th>\n",
       "      <td>2021-11-03 06:00</td>\n",
       "    </tr>\n",
       "  </tbody>\n",
       "</table>\n",
       "</div>"
      ],
      "text/plain": [
       "        RECORD_TIME\n",
       "0  2021-11-03 06:30\n",
       "1  2021-11-03 06:00"
      ]
     },
     "execution_count": 3,
     "metadata": {},
     "output_type": "execute_result"
    }
   ],
   "source": [
    "timestamps"
   ]
  },
  {
   "cell_type": "code",
   "execution_count": 4,
   "id": "alternate-victory",
   "metadata": {
    "execution": {
     "iopub.execute_input": "2021-11-03T05:30:09.412263Z",
     "iopub.status.busy": "2021-11-03T05:30:09.410096Z",
     "iopub.status.idle": "2021-11-03T05:30:10.437243Z",
     "shell.execute_reply": "2021-11-03T05:30:10.438801Z"
    },
    "papermill": {
     "duration": 1.061209,
     "end_time": "2021-11-03T05:30:10.439283",
     "exception": false,
     "start_time": "2021-11-03T05:30:09.378074",
     "status": "completed"
    },
    "tags": []
   },
   "outputs": [],
   "source": [
    "df = pd.read_sql(\"select * from EBAY_TOP_BERLIN where record_time in (select distinct record_time from EBAY_TOP_BERLIN order by record_time desc limit 2)\", sqlite3.connect(\"UsedObjects.db\"))"
   ]
  },
  {
   "cell_type": "code",
   "execution_count": 5,
   "id": "popular-active",
   "metadata": {
    "execution": {
     "iopub.execute_input": "2021-11-03T05:30:10.518995Z",
     "iopub.status.busy": "2021-11-03T05:30:10.504725Z",
     "iopub.status.idle": "2021-11-03T05:30:10.538399Z",
     "shell.execute_reply": "2021-11-03T05:30:10.539870Z"
    },
    "papermill": {
     "duration": 0.078595,
     "end_time": "2021-11-03T05:30:10.540379",
     "exception": false,
     "start_time": "2021-11-03T05:30:10.461784",
     "status": "completed"
    },
    "tags": []
   },
   "outputs": [],
   "source": [
    "df_pivot = df.pivot_table(index=\"PRODUCT\", columns = \"RECORD_TIME\", values = \"LISTING_COUNT\")"
   ]
  },
  {
   "cell_type": "code",
   "execution_count": 6,
   "id": "union-huntington",
   "metadata": {
    "execution": {
     "iopub.execute_input": "2021-11-03T05:30:10.602867Z",
     "iopub.status.busy": "2021-11-03T05:30:10.600542Z",
     "iopub.status.idle": "2021-11-03T05:30:10.606417Z",
     "shell.execute_reply": "2021-11-03T05:30:10.607915Z"
    },
    "papermill": {
     "duration": 0.04526,
     "end_time": "2021-11-03T05:30:10.608434",
     "exception": false,
     "start_time": "2021-11-03T05:30:10.563174",
     "status": "completed"
    },
    "tags": []
   },
   "outputs": [],
   "source": [
    "df_pivot.columns = [\"stamp_1\", \"stamp_2\"]\n",
    "df_pivot_diff = df_pivot.diff(axis=1)"
   ]
  },
  {
   "cell_type": "code",
   "execution_count": 7,
   "id": "fifth-motion",
   "metadata": {
    "execution": {
     "iopub.execute_input": "2021-11-03T05:30:10.667965Z",
     "iopub.status.busy": "2021-11-03T05:30:10.665319Z",
     "iopub.status.idle": "2021-11-03T05:30:12.506799Z",
     "shell.execute_reply": "2021-11-03T05:30:12.509284Z"
    },
    "papermill": {
     "duration": 1.87913,
     "end_time": "2021-11-03T05:30:12.510011",
     "exception": false,
     "start_time": "2021-11-03T05:30:10.630881",
     "status": "completed"
    },
    "tags": []
   },
   "outputs": [
    {
     "data": {
      "text/plain": [
       "<AxesSubplot:ylabel='PRODUCT'>"
      ]
     },
     "execution_count": 7,
     "metadata": {},
     "output_type": "execute_result"
    },
    {
     "data": {
      "image/png": "[encoded data removed]",
      "text/plain": [
       "<Figure size 432x288 with 1 Axes>"
      ]
     },
     "metadata": {
      "needs_background": "light"
     },
     "output_type": "display_data"
    }
   ],
   "source": [
    "df_pivot_diff.sort_values(\"stamp_2\", ascending = False)[\"stamp_2\"].head(10).plot.barh()"
   ]
  },
  {
   "cell_type": "code",
   "execution_count": null,
   "id": "extra-executive",
   "metadata": {
    "papermill": {
     "duration": 0.035778,
     "end_time": "2021-11-03T05:30:12.573795",
     "exception": false,
     "start_time": "2021-11-03T05:30:12.538017",
     "status": "completed"
    },
    "tags": []
   },
   "outputs": [],
   "source": []
  }
 ],
 "metadata": {
  "kernelspec": {
   "display_name": "Python 3",
   "language": "python",
   "name": "python3"
  },
  "language_info": {
   "codemirror_mode": {
    "name": "ipython",
    "version": 3
   },
   "file_extension": ".py",
   "mimetype": "text/x-python",
   "name": "python",
   "nbconvert_exporter": "python",
   "pygments_lexer": "ipython3",
   "version": "3.9.5"
  },
  "papermill": {
   "default_parameters": {},
   "duration": 8.692288,
   "end_time": "2021-11-03T05:30:13.439495",
   "environment_variables": {},
   "exception": null,
   "input_path": "eBay_Overview.ipynb",
   "output_path": "eBay_Overview.ipynb",
   "parameters": {},
   "start_time": "2021-11-03T05:30:04.747207",
   "version": "2.3.3"
  }
 },
 "nbformat": 4,
 "nbformat_minor": 5
}