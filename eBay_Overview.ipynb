{
 "cells": [
  {
   "cell_type": "code",
   "execution_count": 1,
   "id": "reverse-picking",
   "metadata": {
    "execution": {
     "iopub.execute_input": "2021-09-15T06:30:06.897341Z",
     "iopub.status.busy": "2021-09-15T06:30:06.895387Z",
     "iopub.status.idle": "2021-09-15T06:30:07.699532Z",
     "shell.execute_reply": "2021-09-15T06:30:07.700785Z"
    },
    "papermill": {
     "duration": 0.856468,
     "end_time": "2021-09-15T06:30:07.701449",
     "exception": false,
     "start_time": "2021-09-15T06:30:06.844981",
     "status": "completed"
    },
    "tags": []
   },
   "outputs": [],
   "source": [
    "import pandas as pd\n",
    "import sqlite3"
   ]
  },
  {
   "cell_type": "code",
   "execution_count": 2,
   "id": "innovative-syndrome",
   "metadata": {
    "execution": {
     "iopub.execute_input": "2021-09-15T06:30:07.752598Z",
     "iopub.status.busy": "2021-09-15T06:30:07.750590Z",
     "iopub.status.idle": "2021-09-15T06:30:08.039115Z",
     "shell.execute_reply": "2021-09-15T06:30:08.040453Z"
    },
    "papermill": {
     "duration": 0.31829,
     "end_time": "2021-09-15T06:30:08.040865",
     "exception": false,
     "start_time": "2021-09-15T06:30:07.722575",
     "status": "completed"
    },
    "tags": []
   },
   "outputs": [],
   "source": [
    "timestamps = pd.read_sql(\"select distinct record_time from EBAY_TOP_BERLIN order by record_time desc limit 2\", sqlite3.connect(\"UsedObjects.db\"))"
   ]
  },
  {
   "cell_type": "code",
   "execution_count": 3,
   "id": "periodic-identification",
   "metadata": {
    "execution": {
     "iopub.execute_input": "2021-09-15T06:30:08.105183Z",
     "iopub.status.busy": "2021-09-15T06:30:08.103141Z",
     "iopub.status.idle": "2021-09-15T06:30:08.123361Z",
     "shell.execute_reply": "2021-09-15T06:30:08.124672Z"
    },
    "papermill": {
     "duration": 0.064743,
     "end_time": "2021-09-15T06:30:08.125074",
     "exception": false,
     "start_time": "2021-09-15T06:30:08.060331",
     "status": "completed"
    },
    "tags": []
   },
   "outputs": [
    {
     "data": {
      "text/html": [
       "<div>\n",
       "<style scoped>\n",
       "    .dataframe tbody tr th:only-of-type {\n",
       "        vertical-align: middle;\n",
       "    }\n",
       "\n",
       "    .dataframe tbody tr th {\n",
       "        vertical-align: top;\n",
       "    }\n",
       "\n",
       "    .dataframe thead th {\n",
       "        text-align: right;\n",
       "    }\n",
       "</style>\n",
       "<table border=\"1\" class=\"dataframe\">\n",
       "  <thead>\n",
       "    <tr style=\"text-align: right;\">\n",
       "      <th></th>\n",
       "      <th>RECORD_TIME</th>\n",
       "    </tr>\n",
       "  </thead>\n",
       "  <tbody>\n",
       "    <tr>\n",
       "      <th>0</th>\n",
       "      <td>2021-09-15 08:30</td>\n",
       "    </tr>\n",
       "    <tr>\n",
       "      <th>1</th>\n",
       "      <td>2021-09-15 08:00</td>\n",
       "    </tr>\n",
       "  </tbody>\n",
       "</table>\n",
       "</div>"
      ],
      "text/plain": [
       "        RECORD_TIME\n",
       "0  2021-09-15 08:30\n",
       "1  2021-09-15 08:00"
      ]
     },
     "execution_count": 3,
     "metadata": {},
     "output_type": "execute_result"
    }
   ],
   "source": [
    "timestamps"
   ]
  },
  {
   "cell_type": "code",
   "execution_count": 4,
   "id": "alternate-victory",
   "metadata": {
    "execution": {
     "iopub.execute_input": "2021-09-15T06:30:08.177737Z",
     "iopub.status.busy": "2021-09-15T06:30:08.175437Z",
     "iopub.status.idle": "2021-09-15T06:30:08.604520Z",
     "shell.execute_reply": "2021-09-15T06:30:08.605867Z"
    },
    "papermill": {
     "duration": 0.459386,
     "end_time": "2021-09-15T06:30:08.606284",
     "exception": false,
     "start_time": "2021-09-15T06:30:08.146898",
     "status": "completed"
    },
    "tags": []
   },
   "outputs": [],
   "source": [
    "df = pd.read_sql(\"select * from EBAY_TOP_BERLIN where record_time in (select distinct record_time from EBAY_TOP_BERLIN order by record_time desc limit 2)\", sqlite3.connect(\"UsedObjects.db\"))"
   ]
  },
  {
   "cell_type": "code",
   "execution_count": 5,
   "id": "popular-active",
   "metadata": {
    "execution": {
     "iopub.execute_input": "2021-09-15T06:30:08.688890Z",
     "iopub.status.busy": "2021-09-15T06:30:08.676022Z",
     "iopub.status.idle": "2021-09-15T06:30:08.704250Z",
     "shell.execute_reply": "2021-09-15T06:30:08.705453Z"
    },
    "papermill": {
     "duration": 0.071798,
     "end_time": "2021-09-15T06:30:08.705850",
     "exception": false,
     "start_time": "2021-09-15T06:30:08.634052",
     "status": "completed"
    },
    "tags": []
   },
   "outputs": [],
   "source": [
    "df_pivot = df.pivot_table(index=\"PRODUCT\", columns = \"RECORD_TIME\", values = \"LISTING_COUNT\")"
   ]
  },
  {
   "cell_type": "code",
   "execution_count": 6,
   "id": "union-huntington",
   "metadata": {
    "execution": {
     "iopub.execute_input": "2021-09-15T06:30:08.766160Z",
     "iopub.status.busy": "2021-09-15T06:30:08.763710Z",
     "iopub.status.idle": "2021-09-15T06:30:08.769699Z",
     "shell.execute_reply": "2021-09-15T06:30:08.771121Z"
    },
    "papermill": {
     "duration": 0.042658,
     "end_time": "2021-09-15T06:30:08.771565",
     "exception": false,
     "start_time": "2021-09-15T06:30:08.728907",
     "status": "completed"
    },
    "tags": []
   },
   "outputs": [],
   "source": [
    "df_pivot.columns = [\"stamp_1\", \"stamp_2\"]\n",
    "df_pivot_diff = df_pivot.diff(axis=1)"
   ]
  },
  {
   "cell_type": "code",
   "execution_count": 7,
   "id": "fifth-motion",
   "metadata": {
    "execution": {
     "iopub.execute_input": "2021-09-15T06:30:08.826276Z",
     "iopub.status.busy": "2021-09-15T06:30:08.824092Z",
     "iopub.status.idle": "2021-09-15T06:30:10.333580Z",
     "shell.execute_reply": "2021-09-15T06:30:10.334755Z"
    },
    "papermill": {
     "duration": 1.54232,
     "end_time": "2021-09-15T06:30:10.335389",
     "exception": false,
     "start_time": "2021-09-15T06:30:08.793069",
     "status": "completed"
    },
    "tags": []
   },
   "outputs": [
    {
     "data": {
      "text/plain": [
       "<AxesSubplot:ylabel='PRODUCT'>"
      ]
     },
     "execution_count": 7,
     "metadata": {},
     "output_type": "execute_result"
    },
    {
     "data": {
      "image/png": "[encoded data removed]",
      "text/plain": [
       "<Figure size 432x288 with 1 Axes>"
      ]
     },
     "metadata": {
      "needs_background": "light"
     },
     "output_type": "display_data"
    }
   ],
   "source": [
    "df_pivot_diff.sort_values(\"stamp_2\", ascending = False)[\"stamp_2\"].head(10).plot.barh()"
   ]
  },
  {
   "cell_type": "code",
   "execution_count": null,
   "id": "extra-executive",
   "metadata": {
    "papermill": {
     "duration": 0.022446,
     "end_time": "2021-09-15T06:30:10.383955",
     "exception": false,
     "start_time": "2021-09-15T06:30:10.361509",
     "status": "completed"
    },
    "tags": []
   },
   "outputs": [],
   "source": []
  }
 ],
 "metadata": {
  "kernelspec": {
   "display_name": "Python 3",
   "language": "python",
   "name": "python3"
  },
  "language_info": {
   "codemirror_mode": {
    "name": "ipython",
    "version": 3
   },
   "file_extension": ".py",
   "mimetype": "text/x-python",
   "name": "python",
   "nbconvert_exporter": "python",
   "pygments_lexer": "ipython3",
   "version": "3.9.5"
  },
  "papermill": {
   "default_parameters": {},
   "duration": 6.598319,
   "end_time": "2021-09-15T06:30:11.027893",
   "environment_variables": {},
   "exception": null,
   "input_path": "eBay_Overview.ipynb",
   "output_path": "eBay_Overview.ipynb",
   "parameters": {},
   "start_time": "2021-09-15T06:30:04.429574",
   "version": "2.3.3"
  }
 },
 "nbformat": 4,
 "nbformat_minor": 5
}