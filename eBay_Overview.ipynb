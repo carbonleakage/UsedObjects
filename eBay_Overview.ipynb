{
 "cells": [
  {
   "cell_type": "code",
   "execution_count": 1,
   "id": "reverse-picking",
   "metadata": {
    "execution": {
     "iopub.execute_input": "2021-10-20T19:30:06.943351Z",
     "iopub.status.busy": "2021-10-20T19:30:06.941377Z",
     "iopub.status.idle": "2021-10-20T19:30:07.751171Z",
     "shell.execute_reply": "2021-10-20T19:30:07.752321Z"
    },
    "papermill": {
     "duration": 0.8627,
     "end_time": "2021-10-20T19:30:07.753151",
     "exception": false,
     "start_time": "2021-10-20T19:30:06.890451",
     "status": "completed"
    },
    "tags": []
   },
   "outputs": [],
   "source": [
    "import pandas as pd\n",
    "import sqlite3"
   ]
  },
  {
   "cell_type": "code",
   "execution_count": 2,
   "id": "innovative-syndrome",
   "metadata": {
    "execution": {
     "iopub.execute_input": "2021-10-20T19:30:07.806705Z",
     "iopub.status.busy": "2021-10-20T19:30:07.804291Z",
     "iopub.status.idle": "2021-10-20T19:30:08.384143Z",
     "shell.execute_reply": "2021-10-20T19:30:08.385421Z"
    },
    "papermill": {
     "duration": 0.610282,
     "end_time": "2021-10-20T19:30:08.385825",
     "exception": false,
     "start_time": "2021-10-20T19:30:07.775543",
     "status": "completed"
    },
    "tags": []
   },
   "outputs": [],
   "source": [
    "timestamps = pd.read_sql(\"select distinct record_time from EBAY_TOP_BERLIN order by record_time desc limit 2\", sqlite3.connect(\"UsedObjects.db\"))"
   ]
  },
  {
   "cell_type": "code",
   "execution_count": 3,
   "id": "periodic-identification",
   "metadata": {
    "execution": {
     "iopub.execute_input": "2021-10-20T19:30:08.461903Z",
     "iopub.status.busy": "2021-10-20T19:30:08.459761Z",
     "iopub.status.idle": "2021-10-20T19:30:08.479773Z",
     "shell.execute_reply": "2021-10-20T19:30:08.481043Z"
    },
    "papermill": {
     "duration": 0.070247,
     "end_time": "2021-10-20T19:30:08.481484",
     "exception": false,
     "start_time": "2021-10-20T19:30:08.411237",
     "status": "completed"
    },
    "tags": []
   },
   "outputs": [
    {
     "data": {
      "text/html": [
       "<div>\n",
       "<style scoped>\n",
       "    .dataframe tbody tr th:only-of-type {\n",
       "        vertical-align: middle;\n",
       "    }\n",
       "\n",
       "    .dataframe tbody tr th {\n",
       "        vertical-align: top;\n",
       "    }\n",
       "\n",
       "    .dataframe thead th {\n",
       "        text-align: right;\n",
       "    }\n",
       "</style>\n",
       "<table border=\"1\" class=\"dataframe\">\n",
       "  <thead>\n",
       "    <tr style=\"text-align: right;\">\n",
       "      <th></th>\n",
       "      <th>RECORD_TIME</th>\n",
       "    </tr>\n",
       "  </thead>\n",
       "  <tbody>\n",
       "    <tr>\n",
       "      <th>0</th>\n",
       "      <td>2021-10-20 21:30</td>\n",
       "    </tr>\n",
       "    <tr>\n",
       "      <th>1</th>\n",
       "      <td>2021-10-20 21:00</td>\n",
       "    </tr>\n",
       "  </tbody>\n",
       "</table>\n",
       "</div>"
      ],
      "text/plain": [
       "        RECORD_TIME\n",
       "0  2021-10-20 21:30\n",
       "1  2021-10-20 21:00"
      ]
     },
     "execution_count": 3,
     "metadata": {},
     "output_type": "execute_result"
    }
   ],
   "source": [
    "timestamps"
   ]
  },
  {
   "cell_type": "code",
   "execution_count": 4,
   "id": "alternate-victory",
   "metadata": {
    "execution": {
     "iopub.execute_input": "2021-10-20T19:30:08.533020Z",
     "iopub.status.busy": "2021-10-20T19:30:08.531070Z",
     "iopub.status.idle": "2021-10-20T19:30:09.386063Z",
     "shell.execute_reply": "2021-10-20T19:30:09.387406Z"
    },
    "papermill": {
     "duration": 0.885022,
     "end_time": "2021-10-20T19:30:09.387823",
     "exception": false,
     "start_time": "2021-10-20T19:30:08.502801",
     "status": "completed"
    },
    "tags": []
   },
   "outputs": [],
   "source": [
    "df = pd.read_sql(\"select * from EBAY_TOP_BERLIN where record_time in (select distinct record_time from EBAY_TOP_BERLIN order by record_time desc limit 2)\", sqlite3.connect(\"UsedObjects.db\"))"
   ]
  },
  {
   "cell_type": "code",
   "execution_count": 5,
   "id": "popular-active",
   "metadata": {
    "execution": {
     "iopub.execute_input": "2021-10-20T19:30:09.459686Z",
     "iopub.status.busy": "2021-10-20T19:30:09.447171Z",
     "iopub.status.idle": "2021-10-20T19:30:09.476425Z",
     "shell.execute_reply": "2021-10-20T19:30:09.477899Z"
    },
    "papermill": {
     "duration": 0.07019,
     "end_time": "2021-10-20T19:30:09.478347",
     "exception": false,
     "start_time": "2021-10-20T19:30:09.408157",
     "status": "completed"
    },
    "tags": []
   },
   "outputs": [],
   "source": [
    "df_pivot = df.pivot_table(index=\"PRODUCT\", columns = \"RECORD_TIME\", values = \"LISTING_COUNT\")"
   ]
  },
  {
   "cell_type": "code",
   "execution_count": 6,
   "id": "union-huntington",
   "metadata": {
    "execution": {
     "iopub.execute_input": "2021-10-20T19:30:09.536155Z",
     "iopub.status.busy": "2021-10-20T19:30:09.533695Z",
     "iopub.status.idle": "2021-10-20T19:30:09.539602Z",
     "shell.execute_reply": "2021-10-20T19:30:09.540952Z"
    },
    "papermill": {
     "duration": 0.042314,
     "end_time": "2021-10-20T19:30:09.541371",
     "exception": false,
     "start_time": "2021-10-20T19:30:09.499057",
     "status": "completed"
    },
    "tags": []
   },
   "outputs": [],
   "source": [
    "df_pivot.columns = [\"stamp_1\", \"stamp_2\"]\n",
    "df_pivot_diff = df_pivot.diff(axis=1)"
   ]
  },
  {
   "cell_type": "code",
   "execution_count": 7,
   "id": "fifth-motion",
   "metadata": {
    "execution": {
     "iopub.execute_input": "2021-10-20T19:30:09.595497Z",
     "iopub.status.busy": "2021-10-20T19:30:09.593086Z",
     "iopub.status.idle": "2021-10-20T19:30:11.090910Z",
     "shell.execute_reply": "2021-10-20T19:30:11.092185Z"
    },
    "papermill": {
     "duration": 1.530811,
     "end_time": "2021-10-20T19:30:11.092603",
     "exception": false,
     "start_time": "2021-10-20T19:30:09.561792",
     "status": "completed"
    },
    "tags": []
   },
   "outputs": [
    {
     "data": {
      "text/plain": [
       "<AxesSubplot:ylabel='PRODUCT'>"
      ]
     },
     "execution_count": 7,
     "metadata": {},
     "output_type": "execute_result"
    },
    {
     "data": {
      "image/png": "[encoded data removed]",
      "text/plain": [
       "<Figure size 432x288 with 1 Axes>"
      ]
     },
     "metadata": {
      "needs_background": "light"
     },
     "output_type": "display_data"
    }
   ],
   "source": [
    "df_pivot_diff.sort_values(\"stamp_2\", ascending = False)[\"stamp_2\"].head(10).plot.barh()"
   ]
  },
  {
   "cell_type": "code",
   "execution_count": null,
   "id": "extra-executive",
   "metadata": {
    "papermill": {
     "duration": 0.022185,
     "end_time": "2021-10-20T19:30:11.139796",
     "exception": false,
     "start_time": "2021-10-20T19:30:11.117611",
     "status": "completed"
    },
    "tags": []
   },
   "outputs": [],
   "source": []
  }
 ],
 "metadata": {
  "kernelspec": {
   "display_name": "Python 3",
   "language": "python",
   "name": "python3"
  },
  "language_info": {
   "codemirror_mode": {
    "name": "ipython",
    "version": 3
   },
   "file_extension": ".py",
   "mimetype": "text/x-python",
   "name": "python",
   "nbconvert_exporter": "python",
   "pygments_lexer": "ipython3",
   "version": "3.9.5"
  },
  "papermill": {
   "default_parameters": {},
   "duration": 7.826383,
   "end_time": "2021-10-20T19:30:12.294774",
   "environment_variables": {},
   "exception": null,
   "input_path": "eBay_Overview.ipynb",
   "output_path": "eBay_Overview.ipynb",
   "parameters": {},
   "start_time": "2021-10-20T19:30:04.468391",
   "version": "2.3.3"
  }
 },
 "nbformat": 4,
 "nbformat_minor": 5
}