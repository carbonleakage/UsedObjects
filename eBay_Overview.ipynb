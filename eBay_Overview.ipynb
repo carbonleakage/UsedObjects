{
 "cells": [
  {
   "cell_type": "code",
   "execution_count": 1,
   "id": "reverse-picking",
   "metadata": {
    "execution": {
     "iopub.execute_input": "2021-11-16T09:00:09.201322Z",
     "iopub.status.busy": "2021-11-16T09:00:09.198942Z",
     "iopub.status.idle": "2021-11-16T09:00:10.123907Z",
     "shell.execute_reply": "2021-11-16T09:00:10.125520Z"
    },
    "papermill": {
     "duration": 0.97328,
     "end_time": "2021-11-16T09:00:10.126259",
     "exception": false,
     "start_time": "2021-11-16T09:00:09.152979",
     "status": "completed"
    },
    "tags": []
   },
   "outputs": [],
   "source": [
    "import pandas as pd\n",
    "import sqlite3"
   ]
  },
  {
   "cell_type": "code",
   "execution_count": 2,
   "id": "innovative-syndrome",
   "metadata": {
    "execution": {
     "iopub.execute_input": "2021-11-16T09:00:10.189171Z",
     "iopub.status.busy": "2021-11-16T09:00:10.186812Z",
     "iopub.status.idle": "2021-11-16T09:00:11.012495Z",
     "shell.execute_reply": "2021-11-16T09:00:11.013959Z"
    },
    "papermill": {
     "duration": 0.859414,
     "end_time": "2021-11-16T09:00:11.014433",
     "exception": false,
     "start_time": "2021-11-16T09:00:10.155019",
     "status": "completed"
    },
    "tags": []
   },
   "outputs": [],
   "source": [
    "timestamps = pd.read_sql(\"select distinct record_time from EBAY_TOP_BERLIN order by record_time desc limit 2\", sqlite3.connect(\"UsedObjects.db\"))"
   ]
  },
  {
   "cell_type": "code",
   "execution_count": 3,
   "id": "periodic-identification",
   "metadata": {
    "execution": {
     "iopub.execute_input": "2021-11-16T09:00:11.084871Z",
     "iopub.status.busy": "2021-11-16T09:00:11.078795Z",
     "iopub.status.idle": "2021-11-16T09:00:11.101036Z",
     "shell.execute_reply": "2021-11-16T09:00:11.102523Z"
    },
    "papermill": {
     "duration": 0.069452,
     "end_time": "2021-11-16T09:00:11.102978",
     "exception": false,
     "start_time": "2021-11-16T09:00:11.033526",
     "status": "completed"
    },
    "tags": []
   },
   "outputs": [
    {
     "data": {
      "text/html": [
       "<div>\n",
       "<style scoped>\n",
       "    .dataframe tbody tr th:only-of-type {\n",
       "        vertical-align: middle;\n",
       "    }\n",
       "\n",
       "    .dataframe tbody tr th {\n",
       "        vertical-align: top;\n",
       "    }\n",
       "\n",
       "    .dataframe thead th {\n",
       "        text-align: right;\n",
       "    }\n",
       "</style>\n",
       "<table border=\"1\" class=\"dataframe\">\n",
       "  <thead>\n",
       "    <tr style=\"text-align: right;\">\n",
       "      <th></th>\n",
       "      <th>RECORD_TIME</th>\n",
       "    </tr>\n",
       "  </thead>\n",
       "  <tbody>\n",
       "    <tr>\n",
       "      <th>0</th>\n",
       "      <td>2021-11-16 10:00</td>\n",
       "    </tr>\n",
       "    <tr>\n",
       "      <th>1</th>\n",
       "      <td>2021-11-16 09:30</td>\n",
       "    </tr>\n",
       "  </tbody>\n",
       "</table>\n",
       "</div>"
      ],
      "text/plain": [
       "        RECORD_TIME\n",
       "0  2021-11-16 10:00\n",
       "1  2021-11-16 09:30"
      ]
     },
     "execution_count": 3,
     "metadata": {},
     "output_type": "execute_result"
    }
   ],
   "source": [
    "timestamps"
   ]
  },
  {
   "cell_type": "code",
   "execution_count": 4,
   "id": "alternate-victory",
   "metadata": {
    "execution": {
     "iopub.execute_input": "2021-11-16T09:00:11.160866Z",
     "iopub.status.busy": "2021-11-16T09:00:11.158573Z",
     "iopub.status.idle": "2021-11-16T09:00:12.414693Z",
     "shell.execute_reply": "2021-11-16T09:00:12.412555Z"
    },
    "papermill": {
     "duration": 1.290466,
     "end_time": "2021-11-16T09:00:12.415354",
     "exception": false,
     "start_time": "2021-11-16T09:00:11.124888",
     "status": "completed"
    },
    "tags": []
   },
   "outputs": [],
   "source": [
    "df = pd.read_sql(\"select * from EBAY_TOP_BERLIN where record_time in (select distinct record_time from EBAY_TOP_BERLIN order by record_time desc limit 2)\", sqlite3.connect(\"UsedObjects.db\"))"
   ]
  },
  {
   "cell_type": "code",
   "execution_count": 5,
   "id": "popular-active",
   "metadata": {
    "execution": {
     "iopub.execute_input": "2021-11-16T09:00:12.532400Z",
     "iopub.status.busy": "2021-11-16T09:00:12.504176Z",
     "iopub.status.idle": "2021-11-16T09:00:12.568224Z",
     "shell.execute_reply": "2021-11-16T09:00:12.571326Z"
    },
    "papermill": {
     "duration": 0.132368,
     "end_time": "2021-11-16T09:00:12.572038",
     "exception": false,
     "start_time": "2021-11-16T09:00:12.439670",
     "status": "completed"
    },
    "tags": []
   },
   "outputs": [],
   "source": [
    "df_pivot = df.pivot_table(index=\"PRODUCT\", columns = \"RECORD_TIME\", values = \"LISTING_COUNT\")"
   ]
  },
  {
   "cell_type": "code",
   "execution_count": 6,
   "id": "union-huntington",
   "metadata": {
    "execution": {
     "iopub.execute_input": "2021-11-16T09:00:12.643618Z",
     "iopub.status.busy": "2021-11-16T09:00:12.640933Z",
     "iopub.status.idle": "2021-11-16T09:00:12.648095Z",
     "shell.execute_reply": "2021-11-16T09:00:12.650046Z"
    },
    "papermill": {
     "duration": 0.053485,
     "end_time": "2021-11-16T09:00:12.650588",
     "exception": false,
     "start_time": "2021-11-16T09:00:12.597103",
     "status": "completed"
    },
    "tags": []
   },
   "outputs": [],
   "source": [
    "df_pivot.columns = [\"stamp_1\", \"stamp_2\"]\n",
    "df_pivot_diff = df_pivot.diff(axis=1)"
   ]
  },
  {
   "cell_type": "code",
   "execution_count": 7,
   "id": "fifth-motion",
   "metadata": {
    "execution": {
     "iopub.execute_input": "2021-11-16T09:00:12.707830Z",
     "iopub.status.busy": "2021-11-16T09:00:12.705394Z",
     "iopub.status.idle": "2021-11-16T09:00:14.402053Z",
     "shell.execute_reply": "2021-11-16T09:00:14.403339Z"
    },
    "papermill": {
     "duration": 1.733829,
     "end_time": "2021-11-16T09:00:14.403756",
     "exception": false,
     "start_time": "2021-11-16T09:00:12.669927",
     "status": "completed"
    },
    "tags": []
   },
   "outputs": [
    {
     "data": {
      "text/plain": [
       "<AxesSubplot:ylabel='PRODUCT'>"
      ]
     },
     "execution_count": 7,
     "metadata": {},
     "output_type": "execute_result"
    },
    {
     "data": {
      "image/png": "[encoded data removed]",
      "text/plain": [
       "<Figure size 432x288 with 1 Axes>"
      ]
     },
     "metadata": {
      "needs_background": "light"
     },
     "output_type": "display_data"
    }
   ],
   "source": [
    "df_pivot_diff.sort_values(\"stamp_2\", ascending = False)[\"stamp_2\"].head(10).plot.barh()"
   ]
  },
  {
   "cell_type": "code",
   "execution_count": null,
   "id": "extra-executive",
   "metadata": {
    "papermill": {
     "duration": 0.021784,
     "end_time": "2021-11-16T09:00:14.449856",
     "exception": false,
     "start_time": "2021-11-16T09:00:14.428072",
     "status": "completed"
    },
    "tags": []
   },
   "outputs": [],
   "source": []
  }
 ],
 "metadata": {
  "kernelspec": {
   "display_name": "Python 3",
   "language": "python",
   "name": "python3"
  },
  "language_info": {
   "codemirror_mode": {
    "name": "ipython",
    "version": 3
   },
   "file_extension": ".py",
   "mimetype": "text/x-python",
   "name": "python",
   "nbconvert_exporter": "python",
   "pygments_lexer": "ipython3",
   "version": "3.9.5"
  },
  "papermill": {
   "default_parameters": {},
   "duration": 8.675484,
   "end_time": "2021-11-16T09:00:15.093290",
   "environment_variables": {},
   "exception": null,
   "input_path": "eBay_Overview.ipynb",
   "output_path": "eBay_Overview.ipynb",
   "parameters": {},
   "start_time": "2021-11-16T09:00:06.417806",
   "version": "2.3.3"
  }
 },
 "nbformat": 4,
 "nbformat_minor": 5
}