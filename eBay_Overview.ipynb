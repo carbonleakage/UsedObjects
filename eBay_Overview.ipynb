{
 "cells": [
  {
   "cell_type": "code",
   "execution_count": 1,
   "id": "reverse-picking",
   "metadata": {
    "execution": {
     "iopub.execute_input": "2021-09-10T02:30:07.305249Z",
     "iopub.status.busy": "2021-09-10T02:30:07.303279Z",
     "iopub.status.idle": "2021-09-10T02:30:08.117117Z",
     "shell.execute_reply": "2021-09-10T02:30:08.118444Z"
    },
    "papermill": {
     "duration": 0.867085,
     "end_time": "2021-09-10T02:30:08.119168",
     "exception": false,
     "start_time": "2021-09-10T02:30:07.252083",
     "status": "completed"
    },
    "tags": []
   },
   "outputs": [],
   "source": [
    "import pandas as pd\n",
    "import sqlite3"
   ]
  },
  {
   "cell_type": "code",
   "execution_count": 2,
   "id": "innovative-syndrome",
   "metadata": {
    "execution": {
     "iopub.execute_input": "2021-09-10T02:30:08.170687Z",
     "iopub.status.busy": "2021-09-10T02:30:08.168570Z",
     "iopub.status.idle": "2021-09-10T02:30:08.419889Z",
     "shell.execute_reply": "2021-09-10T02:30:08.421154Z"
    },
    "papermill": {
     "duration": 0.281725,
     "end_time": "2021-09-10T02:30:08.421559",
     "exception": false,
     "start_time": "2021-09-10T02:30:08.139834",
     "status": "completed"
    },
    "tags": []
   },
   "outputs": [],
   "source": [
    "timestamps = pd.read_sql(\"select distinct record_time from EBAY_TOP_BERLIN order by record_time desc limit 2\", sqlite3.connect(\"UsedObjects.db\"))"
   ]
  },
  {
   "cell_type": "code",
   "execution_count": 3,
   "id": "periodic-identification",
   "metadata": {
    "execution": {
     "iopub.execute_input": "2021-09-10T02:30:08.486697Z",
     "iopub.status.busy": "2021-09-10T02:30:08.484655Z",
     "iopub.status.idle": "2021-09-10T02:30:08.504876Z",
     "shell.execute_reply": "2021-09-10T02:30:08.506183Z"
    },
    "papermill": {
     "duration": 0.065373,
     "end_time": "2021-09-10T02:30:08.506612",
     "exception": false,
     "start_time": "2021-09-10T02:30:08.441239",
     "status": "completed"
    },
    "tags": []
   },
   "outputs": [
    {
     "data": {
      "text/html": [
       "<div>\n",
       "<style scoped>\n",
       "    .dataframe tbody tr th:only-of-type {\n",
       "        vertical-align: middle;\n",
       "    }\n",
       "\n",
       "    .dataframe tbody tr th {\n",
       "        vertical-align: top;\n",
       "    }\n",
       "\n",
       "    .dataframe thead th {\n",
       "        text-align: right;\n",
       "    }\n",
       "</style>\n",
       "<table border=\"1\" class=\"dataframe\">\n",
       "  <thead>\n",
       "    <tr style=\"text-align: right;\">\n",
       "      <th></th>\n",
       "      <th>RECORD_TIME</th>\n",
       "    </tr>\n",
       "  </thead>\n",
       "  <tbody>\n",
       "    <tr>\n",
       "      <th>0</th>\n",
       "      <td>2021-09-10 04:30</td>\n",
       "    </tr>\n",
       "    <tr>\n",
       "      <th>1</th>\n",
       "      <td>2021-09-10 04:00</td>\n",
       "    </tr>\n",
       "  </tbody>\n",
       "</table>\n",
       "</div>"
      ],
      "text/plain": [
       "        RECORD_TIME\n",
       "0  2021-09-10 04:30\n",
       "1  2021-09-10 04:00"
      ]
     },
     "execution_count": 3,
     "metadata": {},
     "output_type": "execute_result"
    }
   ],
   "source": [
    "timestamps"
   ]
  },
  {
   "cell_type": "code",
   "execution_count": 4,
   "id": "alternate-victory",
   "metadata": {
    "execution": {
     "iopub.execute_input": "2021-09-10T02:30:08.560950Z",
     "iopub.status.busy": "2021-09-10T02:30:08.558561Z",
     "iopub.status.idle": "2021-09-10T02:30:08.937633Z",
     "shell.execute_reply": "2021-09-10T02:30:08.939019Z"
    },
    "papermill": {
     "duration": 0.410066,
     "end_time": "2021-09-10T02:30:08.939470",
     "exception": false,
     "start_time": "2021-09-10T02:30:08.529404",
     "status": "completed"
    },
    "tags": []
   },
   "outputs": [],
   "source": [
    "df = pd.read_sql(\"select * from EBAY_TOP_BERLIN where record_time in (select distinct record_time from EBAY_TOP_BERLIN order by record_time desc limit 2)\", sqlite3.connect(\"UsedObjects.db\"))"
   ]
  },
  {
   "cell_type": "code",
   "execution_count": 5,
   "id": "popular-active",
   "metadata": {
    "execution": {
     "iopub.execute_input": "2021-09-10T02:30:09.026602Z",
     "iopub.status.busy": "2021-09-10T02:30:09.015237Z",
     "iopub.status.idle": "2021-09-10T02:30:09.043591Z",
     "shell.execute_reply": "2021-09-10T02:30:09.044833Z"
    },
    "papermill": {
     "duration": 0.073855,
     "end_time": "2021-09-10T02:30:09.045237",
     "exception": false,
     "start_time": "2021-09-10T02:30:08.971382",
     "status": "completed"
    },
    "tags": []
   },
   "outputs": [],
   "source": [
    "df_pivot = df.pivot_table(index=\"PRODUCT\", columns = \"RECORD_TIME\", values = \"LISTING_COUNT\")"
   ]
  },
  {
   "cell_type": "code",
   "execution_count": 6,
   "id": "union-huntington",
   "metadata": {
    "execution": {
     "iopub.execute_input": "2021-09-10T02:30:09.102735Z",
     "iopub.status.busy": "2021-09-10T02:30:09.100618Z",
     "iopub.status.idle": "2021-09-10T02:30:09.105599Z",
     "shell.execute_reply": "2021-09-10T02:30:09.106793Z"
    },
    "papermill": {
     "duration": 0.040348,
     "end_time": "2021-09-10T02:30:09.107348",
     "exception": false,
     "start_time": "2021-09-10T02:30:09.067000",
     "status": "completed"
    },
    "tags": []
   },
   "outputs": [],
   "source": [
    "df_pivot.columns = [\"stamp_1\", \"stamp_2\"]\n",
    "df_pivot_diff = df_pivot.diff(axis=1)"
   ]
  },
  {
   "cell_type": "code",
   "execution_count": 7,
   "id": "fifth-motion",
   "metadata": {
    "execution": {
     "iopub.execute_input": "2021-09-10T02:30:09.162795Z",
     "iopub.status.busy": "2021-09-10T02:30:09.160078Z",
     "iopub.status.idle": "2021-09-10T02:30:10.692809Z",
     "shell.execute_reply": "2021-09-10T02:30:10.694121Z"
    },
    "papermill": {
     "duration": 1.566637,
     "end_time": "2021-09-10T02:30:10.694553",
     "exception": false,
     "start_time": "2021-09-10T02:30:09.127916",
     "status": "completed"
    },
    "tags": []
   },
   "outputs": [
    {
     "data": {
      "text/plain": [
       "<AxesSubplot:ylabel='PRODUCT'>"
      ]
     },
     "execution_count": 7,
     "metadata": {},
     "output_type": "execute_result"
    },
    {
     "data": {
      "image/png": "[encoded data removed]",
      "text/plain": [
       "<Figure size 432x288 with 1 Axes>"
      ]
     },
     "metadata": {
      "needs_background": "light"
     },
     "output_type": "display_data"
    }
   ],
   "source": [
    "df_pivot_diff.sort_values(\"stamp_2\", ascending = False)[\"stamp_2\"].head(10).plot.barh()"
   ]
  },
  {
   "cell_type": "code",
   "execution_count": null,
   "id": "extra-executive",
   "metadata": {
    "papermill": {
     "duration": 0.022459,
     "end_time": "2021-09-10T02:30:10.742016",
     "exception": false,
     "start_time": "2021-09-10T02:30:10.719557",
     "status": "completed"
    },
    "tags": []
   },
   "outputs": [],
   "source": []
  }
 ],
 "metadata": {
  "kernelspec": {
   "display_name": "Python 3",
   "language": "python",
   "name": "python3"
  },
  "language_info": {
   "codemirror_mode": {
    "name": "ipython",
    "version": 3
   },
   "file_extension": ".py",
   "mimetype": "text/x-python",
   "name": "python",
   "nbconvert_exporter": "python",
   "pygments_lexer": "ipython3",
   "version": "3.9.5"
  },
  "papermill": {
   "default_parameters": {},
   "duration": 6.550905,
   "end_time": "2021-09-10T02:30:11.383377",
   "environment_variables": {},
   "exception": null,
   "input_path": "eBay_Overview.ipynb",
   "output_path": "eBay_Overview.ipynb",
   "parameters": {},
   "start_time": "2021-09-10T02:30:04.832472",
   "version": "2.3.3"
  }
 },
 "nbformat": 4,
 "nbformat_minor": 5
}