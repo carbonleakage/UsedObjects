{
 "cells": [
  {
   "cell_type": "code",
   "execution_count": 1,
   "id": "reverse-picking",
   "metadata": {
    "execution": {
     "iopub.execute_input": "2021-09-21T20:00:06.916429Z",
     "iopub.status.busy": "2021-09-21T20:00:06.914406Z",
     "iopub.status.idle": "2021-09-21T20:00:07.719317Z",
     "shell.execute_reply": "2021-09-21T20:00:07.720583Z"
    },
    "papermill": {
     "duration": 0.855329,
     "end_time": "2021-09-21T20:00:07.721190",
     "exception": false,
     "start_time": "2021-09-21T20:00:06.865861",
     "status": "completed"
    },
    "tags": []
   },
   "outputs": [],
   "source": [
    "import pandas as pd\n",
    "import sqlite3"
   ]
  },
  {
   "cell_type": "code",
   "execution_count": 2,
   "id": "innovative-syndrome",
   "metadata": {
    "execution": {
     "iopub.execute_input": "2021-09-21T20:00:07.774841Z",
     "iopub.status.busy": "2021-09-21T20:00:07.772504Z",
     "iopub.status.idle": "2021-09-21T20:00:08.121094Z",
     "shell.execute_reply": "2021-09-21T20:00:08.122265Z"
    },
    "papermill": {
     "duration": 0.378377,
     "end_time": "2021-09-21T20:00:08.122685",
     "exception": false,
     "start_time": "2021-09-21T20:00:07.744308",
     "status": "completed"
    },
    "tags": []
   },
   "outputs": [],
   "source": [
    "timestamps = pd.read_sql(\"select distinct record_time from EBAY_TOP_BERLIN order by record_time desc limit 2\", sqlite3.connect(\"UsedObjects.db\"))"
   ]
  },
  {
   "cell_type": "code",
   "execution_count": 3,
   "id": "periodic-identification",
   "metadata": {
    "execution": {
     "iopub.execute_input": "2021-09-21T20:00:08.189274Z",
     "iopub.status.busy": "2021-09-21T20:00:08.187267Z",
     "iopub.status.idle": "2021-09-21T20:00:08.207074Z",
     "shell.execute_reply": "2021-09-21T20:00:08.208421Z"
    },
    "papermill": {
     "duration": 0.066765,
     "end_time": "2021-09-21T20:00:08.208831",
     "exception": false,
     "start_time": "2021-09-21T20:00:08.142066",
     "status": "completed"
    },
    "tags": []
   },
   "outputs": [
    {
     "data": {
      "text/html": [
       "<div>\n",
       "<style scoped>\n",
       "    .dataframe tbody tr th:only-of-type {\n",
       "        vertical-align: middle;\n",
       "    }\n",
       "\n",
       "    .dataframe tbody tr th {\n",
       "        vertical-align: top;\n",
       "    }\n",
       "\n",
       "    .dataframe thead th {\n",
       "        text-align: right;\n",
       "    }\n",
       "</style>\n",
       "<table border=\"1\" class=\"dataframe\">\n",
       "  <thead>\n",
       "    <tr style=\"text-align: right;\">\n",
       "      <th></th>\n",
       "      <th>RECORD_TIME</th>\n",
       "    </tr>\n",
       "  </thead>\n",
       "  <tbody>\n",
       "    <tr>\n",
       "      <th>0</th>\n",
       "      <td>2021-09-21 22:00</td>\n",
       "    </tr>\n",
       "    <tr>\n",
       "      <th>1</th>\n",
       "      <td>2021-09-21 21:30</td>\n",
       "    </tr>\n",
       "  </tbody>\n",
       "</table>\n",
       "</div>"
      ],
      "text/plain": [
       "        RECORD_TIME\n",
       "0  2021-09-21 22:00\n",
       "1  2021-09-21 21:30"
      ]
     },
     "execution_count": 3,
     "metadata": {},
     "output_type": "execute_result"
    }
   ],
   "source": [
    "timestamps"
   ]
  },
  {
   "cell_type": "code",
   "execution_count": 4,
   "id": "alternate-victory",
   "metadata": {
    "execution": {
     "iopub.execute_input": "2021-09-21T20:00:08.258577Z",
     "iopub.status.busy": "2021-09-21T20:00:08.256744Z",
     "iopub.status.idle": "2021-09-21T20:00:08.774845Z",
     "shell.execute_reply": "2021-09-21T20:00:08.776181Z"
    },
    "papermill": {
     "duration": 0.547807,
     "end_time": "2021-09-21T20:00:08.776592",
     "exception": false,
     "start_time": "2021-09-21T20:00:08.228785",
     "status": "completed"
    },
    "tags": []
   },
   "outputs": [],
   "source": [
    "df = pd.read_sql(\"select * from EBAY_TOP_BERLIN where record_time in (select distinct record_time from EBAY_TOP_BERLIN order by record_time desc limit 2)\", sqlite3.connect(\"UsedObjects.db\"))"
   ]
  },
  {
   "cell_type": "code",
   "execution_count": 5,
   "id": "popular-active",
   "metadata": {
    "execution": {
     "iopub.execute_input": "2021-09-21T20:00:08.860869Z",
     "iopub.status.busy": "2021-09-21T20:00:08.849464Z",
     "iopub.status.idle": "2021-09-21T20:00:08.877298Z",
     "shell.execute_reply": "2021-09-21T20:00:08.878499Z"
    },
    "papermill": {
     "duration": 0.074115,
     "end_time": "2021-09-21T20:00:08.878944",
     "exception": false,
     "start_time": "2021-09-21T20:00:08.804829",
     "status": "completed"
    },
    "tags": []
   },
   "outputs": [],
   "source": [
    "df_pivot = df.pivot_table(index=\"PRODUCT\", columns = \"RECORD_TIME\", values = \"LISTING_COUNT\")"
   ]
  },
  {
   "cell_type": "code",
   "execution_count": 6,
   "id": "union-huntington",
   "metadata": {
    "execution": {
     "iopub.execute_input": "2021-09-21T20:00:08.935483Z",
     "iopub.status.busy": "2021-09-21T20:00:08.933395Z",
     "iopub.status.idle": "2021-09-21T20:00:08.939025Z",
     "shell.execute_reply": "2021-09-21T20:00:08.940579Z"
    },
    "papermill": {
     "duration": 0.040812,
     "end_time": "2021-09-21T20:00:08.941064",
     "exception": false,
     "start_time": "2021-09-21T20:00:08.900252",
     "status": "completed"
    },
    "tags": []
   },
   "outputs": [],
   "source": [
    "df_pivot.columns = [\"stamp_1\", \"stamp_2\"]\n",
    "df_pivot_diff = df_pivot.diff(axis=1)"
   ]
  },
  {
   "cell_type": "code",
   "execution_count": 7,
   "id": "fifth-motion",
   "metadata": {
    "execution": {
     "iopub.execute_input": "2021-09-21T20:00:08.996307Z",
     "iopub.status.busy": "2021-09-21T20:00:08.993778Z",
     "iopub.status.idle": "2021-09-21T20:00:10.487190Z",
     "shell.execute_reply": "2021-09-21T20:00:10.488620Z"
    },
    "papermill": {
     "duration": 1.526669,
     "end_time": "2021-09-21T20:00:10.489036",
     "exception": false,
     "start_time": "2021-09-21T20:00:08.962367",
     "status": "completed"
    },
    "tags": []
   },
   "outputs": [
    {
     "data": {
      "text/plain": [
       "<AxesSubplot:ylabel='PRODUCT'>"
      ]
     },
     "execution_count": 7,
     "metadata": {},
     "output_type": "execute_result"
    },
    {
     "data": {
      "image/png": "[encoded data removed]",
      "text/plain": [
       "<Figure size 432x288 with 1 Axes>"
      ]
     },
     "metadata": {
      "needs_background": "light"
     },
     "output_type": "display_data"
    }
   ],
   "source": [
    "df_pivot_diff.sort_values(\"stamp_2\", ascending = False)[\"stamp_2\"].head(10).plot.barh()"
   ]
  },
  {
   "cell_type": "code",
   "execution_count": null,
   "id": "extra-executive",
   "metadata": {
    "papermill": {
     "duration": 0.022003,
     "end_time": "2021-09-21T20:00:10.535350",
     "exception": false,
     "start_time": "2021-09-21T20:00:10.513347",
     "status": "completed"
    },
    "tags": []
   },
   "outputs": [],
   "source": []
  }
 ],
 "metadata": {
  "kernelspec": {
   "display_name": "Python 3",
   "language": "python",
   "name": "python3"
  },
  "language_info": {
   "codemirror_mode": {
    "name": "ipython",
    "version": 3
   },
   "file_extension": ".py",
   "mimetype": "text/x-python",
   "name": "python",
   "nbconvert_exporter": "python",
   "pygments_lexer": "ipython3",
   "version": "3.9.5"
  },
  "papermill": {
   "default_parameters": {},
   "duration": 6.713063,
   "end_time": "2021-09-21T20:00:11.178256",
   "environment_variables": {},
   "exception": null,
   "input_path": "eBay_Overview.ipynb",
   "output_path": "eBay_Overview.ipynb",
   "parameters": {},
   "start_time": "2021-09-21T20:00:04.465193",
   "version": "2.3.3"
  }
 },
 "nbformat": 4,
 "nbformat_minor": 5
}