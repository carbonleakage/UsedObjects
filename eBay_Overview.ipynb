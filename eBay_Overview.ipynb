{
 "cells": [
  {
   "cell_type": "code",
   "execution_count": 1,
   "id": "reverse-picking",
   "metadata": {
    "execution": {
     "iopub.execute_input": "2021-11-19T16:30:07.588111Z",
     "iopub.status.busy": "2021-11-19T16:30:07.586021Z",
     "iopub.status.idle": "2021-11-19T16:30:08.536192Z",
     "shell.execute_reply": "2021-11-19T16:30:08.537903Z"
    },
    "papermill": {
     "duration": 0.999085,
     "end_time": "2021-11-19T16:30:08.538686",
     "exception": false,
     "start_time": "2021-11-19T16:30:07.539601",
     "status": "completed"
    },
    "tags": []
   },
   "outputs": [],
   "source": [
    "import pandas as pd\n",
    "import sqlite3"
   ]
  },
  {
   "cell_type": "code",
   "execution_count": 2,
   "id": "innovative-syndrome",
   "metadata": {
    "execution": {
     "iopub.execute_input": "2021-11-19T16:30:08.602527Z",
     "iopub.status.busy": "2021-11-19T16:30:08.600113Z",
     "iopub.status.idle": "2021-11-19T16:30:09.455064Z",
     "shell.execute_reply": "2021-11-19T16:30:09.456809Z"
    },
    "papermill": {
     "duration": 0.889963,
     "end_time": "2021-11-19T16:30:09.457375",
     "exception": false,
     "start_time": "2021-11-19T16:30:08.567412",
     "status": "completed"
    },
    "tags": []
   },
   "outputs": [],
   "source": [
    "timestamps = pd.read_sql(\"select distinct record_time from EBAY_TOP_BERLIN order by record_time desc limit 2\", sqlite3.connect(\"UsedObjects.db\"))"
   ]
  },
  {
   "cell_type": "code",
   "execution_count": 3,
   "id": "periodic-identification",
   "metadata": {
    "execution": {
     "iopub.execute_input": "2021-11-19T16:30:09.529613Z",
     "iopub.status.busy": "2021-11-19T16:30:09.527285Z",
     "iopub.status.idle": "2021-11-19T16:30:09.550219Z",
     "shell.execute_reply": "2021-11-19T16:30:09.551670Z"
    },
    "papermill": {
     "duration": 0.072733,
     "end_time": "2021-11-19T16:30:09.552120",
     "exception": false,
     "start_time": "2021-11-19T16:30:09.479387",
     "status": "completed"
    },
    "tags": []
   },
   "outputs": [
    {
     "data": {
      "text/html": [
       "<div>\n",
       "<style scoped>\n",
       "    .dataframe tbody tr th:only-of-type {\n",
       "        vertical-align: middle;\n",
       "    }\n",
       "\n",
       "    .dataframe tbody tr th {\n",
       "        vertical-align: top;\n",
       "    }\n",
       "\n",
       "    .dataframe thead th {\n",
       "        text-align: right;\n",
       "    }\n",
       "</style>\n",
       "<table border=\"1\" class=\"dataframe\">\n",
       "  <thead>\n",
       "    <tr style=\"text-align: right;\">\n",
       "      <th></th>\n",
       "      <th>RECORD_TIME</th>\n",
       "    </tr>\n",
       "  </thead>\n",
       "  <tbody>\n",
       "    <tr>\n",
       "      <th>0</th>\n",
       "      <td>2021-11-19 17:30</td>\n",
       "    </tr>\n",
       "    <tr>\n",
       "      <th>1</th>\n",
       "      <td>2021-11-19 17:00</td>\n",
       "    </tr>\n",
       "  </tbody>\n",
       "</table>\n",
       "</div>"
      ],
      "text/plain": [
       "        RECORD_TIME\n",
       "0  2021-11-19 17:30\n",
       "1  2021-11-19 17:00"
      ]
     },
     "execution_count": 3,
     "metadata": {},
     "output_type": "execute_result"
    }
   ],
   "source": [
    "timestamps"
   ]
  },
  {
   "cell_type": "code",
   "execution_count": 4,
   "id": "alternate-victory",
   "metadata": {
    "execution": {
     "iopub.execute_input": "2021-11-19T16:30:09.605884Z",
     "iopub.status.busy": "2021-11-19T16:30:09.603805Z",
     "iopub.status.idle": "2021-11-19T16:30:10.826277Z",
     "shell.execute_reply": "2021-11-19T16:30:10.828027Z"
    },
    "papermill": {
     "duration": 1.255409,
     "end_time": "2021-11-19T16:30:10.828590",
     "exception": false,
     "start_time": "2021-11-19T16:30:09.573181",
     "status": "completed"
    },
    "tags": []
   },
   "outputs": [],
   "source": [
    "df = pd.read_sql(\"select * from EBAY_TOP_BERLIN where record_time in (select distinct record_time from EBAY_TOP_BERLIN order by record_time desc limit 2)\", sqlite3.connect(\"UsedObjects.db\"))"
   ]
  },
  {
   "cell_type": "code",
   "execution_count": 5,
   "id": "popular-active",
   "metadata": {
    "execution": {
     "iopub.execute_input": "2021-11-19T16:30:10.903138Z",
     "iopub.status.busy": "2021-11-19T16:30:10.894442Z",
     "iopub.status.idle": "2021-11-19T16:30:10.932162Z",
     "shell.execute_reply": "2021-11-19T16:30:10.930487Z"
    },
    "papermill": {
     "duration": 0.081186,
     "end_time": "2021-11-19T16:30:10.932568",
     "exception": false,
     "start_time": "2021-11-19T16:30:10.851382",
     "status": "completed"
    },
    "tags": []
   },
   "outputs": [],
   "source": [
    "df_pivot = df.pivot_table(index=\"PRODUCT\", columns = \"RECORD_TIME\", values = \"LISTING_COUNT\")"
   ]
  },
  {
   "cell_type": "code",
   "execution_count": 6,
   "id": "union-huntington",
   "metadata": {
    "execution": {
     "iopub.execute_input": "2021-11-19T16:30:10.995028Z",
     "iopub.status.busy": "2021-11-19T16:30:10.992664Z",
     "iopub.status.idle": "2021-11-19T16:30:10.998231Z",
     "shell.execute_reply": "2021-11-19T16:30:11.000809Z"
    },
    "papermill": {
     "duration": 0.048144,
     "end_time": "2021-11-19T16:30:11.001709",
     "exception": false,
     "start_time": "2021-11-19T16:30:10.953565",
     "status": "completed"
    },
    "tags": []
   },
   "outputs": [],
   "source": [
    "df_pivot.columns = [\"stamp_1\", \"stamp_2\"]\n",
    "df_pivot_diff = df_pivot.diff(axis=1)"
   ]
  },
  {
   "cell_type": "code",
   "execution_count": 7,
   "id": "fifth-motion",
   "metadata": {
    "execution": {
     "iopub.execute_input": "2021-11-19T16:30:11.059454Z",
     "iopub.status.busy": "2021-11-19T16:30:11.057158Z",
     "iopub.status.idle": "2021-11-19T16:30:12.839774Z",
     "shell.execute_reply": "2021-11-19T16:30:12.842680Z"
    },
    "papermill": {
     "duration": 1.820122,
     "end_time": "2021-11-19T16:30:12.843478",
     "exception": false,
     "start_time": "2021-11-19T16:30:11.023356",
     "status": "completed"
    },
    "tags": []
   },
   "outputs": [
    {
     "data": {
      "text/plain": [
       "<AxesSubplot:ylabel='PRODUCT'>"
      ]
     },
     "execution_count": 7,
     "metadata": {},
     "output_type": "execute_result"
    },
    {
     "data": {
      "image/png": "[encoded data removed]",
      "text/plain": [
       "<Figure size 432x288 with 1 Axes>"
      ]
     },
     "metadata": {
      "needs_background": "light"
     },
     "output_type": "display_data"
    }
   ],
   "source": [
    "df_pivot_diff.sort_values(\"stamp_2\", ascending = False)[\"stamp_2\"].head(10).plot.barh()"
   ]
  },
  {
   "cell_type": "code",
   "execution_count": null,
   "id": "extra-executive",
   "metadata": {
    "papermill": {
     "duration": 0.032891,
     "end_time": "2021-11-19T16:30:12.914281",
     "exception": false,
     "start_time": "2021-11-19T16:30:12.881390",
     "status": "completed"
    },
    "tags": []
   },
   "outputs": [],
   "source": []
  }
 ],
 "metadata": {
  "kernelspec": {
   "display_name": "Python 3",
   "language": "python",
   "name": "python3"
  },
  "language_info": {
   "codemirror_mode": {
    "name": "ipython",
    "version": 3
   },
   "file_extension": ".py",
   "mimetype": "text/x-python",
   "name": "python",
   "nbconvert_exporter": "python",
   "pygments_lexer": "ipython3",
   "version": "3.9.5"
  },
  "papermill": {
   "default_parameters": {},
   "duration": 10.000721,
   "end_time": "2021-11-19T16:30:14.740649",
   "environment_variables": {},
   "exception": null,
   "input_path": "eBay_Overview.ipynb",
   "output_path": "eBay_Overview.ipynb",
   "parameters": {},
   "start_time": "2021-11-19T16:30:04.739928",
   "version": "2.3.3"
  }
 },
 "nbformat": 4,
 "nbformat_minor": 5
}