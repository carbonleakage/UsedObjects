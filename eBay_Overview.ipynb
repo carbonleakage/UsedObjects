{
 "cells": [
  {
   "cell_type": "code",
   "execution_count": 1,
   "id": "reverse-picking",
   "metadata": {
    "execution": {
     "iopub.execute_input": "2021-10-20T08:00:07.432325Z",
     "iopub.status.busy": "2021-10-20T08:00:07.430421Z",
     "iopub.status.idle": "2021-10-20T08:00:08.236852Z",
     "shell.execute_reply": "2021-10-20T08:00:08.238209Z"
    },
    "papermill": {
     "duration": 0.858124,
     "end_time": "2021-10-20T08:00:08.238862",
     "exception": false,
     "start_time": "2021-10-20T08:00:07.380738",
     "status": "completed"
    },
    "tags": []
   },
   "outputs": [],
   "source": [
    "import pandas as pd\n",
    "import sqlite3"
   ]
  },
  {
   "cell_type": "code",
   "execution_count": 2,
   "id": "innovative-syndrome",
   "metadata": {
    "execution": {
     "iopub.execute_input": "2021-10-20T08:00:08.290634Z",
     "iopub.status.busy": "2021-10-20T08:00:08.288763Z",
     "iopub.status.idle": "2021-10-20T08:00:08.884820Z",
     "shell.execute_reply": "2021-10-20T08:00:08.886191Z"
    },
    "papermill": {
     "duration": 0.626586,
     "end_time": "2021-10-20T08:00:08.886608",
     "exception": false,
     "start_time": "2021-10-20T08:00:08.260022",
     "status": "completed"
    },
    "tags": []
   },
   "outputs": [],
   "source": [
    "timestamps = pd.read_sql(\"select distinct record_time from EBAY_TOP_BERLIN order by record_time desc limit 2\", sqlite3.connect(\"UsedObjects.db\"))"
   ]
  },
  {
   "cell_type": "code",
   "execution_count": 3,
   "id": "periodic-identification",
   "metadata": {
    "execution": {
     "iopub.execute_input": "2021-10-20T08:00:08.966523Z",
     "iopub.status.busy": "2021-10-20T08:00:08.960843Z",
     "iopub.status.idle": "2021-10-20T08:00:08.981473Z",
     "shell.execute_reply": "2021-10-20T08:00:08.982687Z"
    },
    "papermill": {
     "duration": 0.071545,
     "end_time": "2021-10-20T08:00:08.983115",
     "exception": false,
     "start_time": "2021-10-20T08:00:08.911570",
     "status": "completed"
    },
    "tags": []
   },
   "outputs": [
    {
     "data": {
      "text/html": [
       "<div>\n",
       "<style scoped>\n",
       "    .dataframe tbody tr th:only-of-type {\n",
       "        vertical-align: middle;\n",
       "    }\n",
       "\n",
       "    .dataframe tbody tr th {\n",
       "        vertical-align: top;\n",
       "    }\n",
       "\n",
       "    .dataframe thead th {\n",
       "        text-align: right;\n",
       "    }\n",
       "</style>\n",
       "<table border=\"1\" class=\"dataframe\">\n",
       "  <thead>\n",
       "    <tr style=\"text-align: right;\">\n",
       "      <th></th>\n",
       "      <th>RECORD_TIME</th>\n",
       "    </tr>\n",
       "  </thead>\n",
       "  <tbody>\n",
       "    <tr>\n",
       "      <th>0</th>\n",
       "      <td>2021-10-20 10:00</td>\n",
       "    </tr>\n",
       "    <tr>\n",
       "      <th>1</th>\n",
       "      <td>2021-10-20 09:30</td>\n",
       "    </tr>\n",
       "  </tbody>\n",
       "</table>\n",
       "</div>"
      ],
      "text/plain": [
       "        RECORD_TIME\n",
       "0  2021-10-20 10:00\n",
       "1  2021-10-20 09:30"
      ]
     },
     "execution_count": 3,
     "metadata": {},
     "output_type": "execute_result"
    }
   ],
   "source": [
    "timestamps"
   ]
  },
  {
   "cell_type": "code",
   "execution_count": 4,
   "id": "alternate-victory",
   "metadata": {
    "execution": {
     "iopub.execute_input": "2021-10-20T08:00:09.035631Z",
     "iopub.status.busy": "2021-10-20T08:00:09.033351Z",
     "iopub.status.idle": "2021-10-20T08:00:09.903275Z",
     "shell.execute_reply": "2021-10-20T08:00:09.904485Z"
    },
    "papermill": {
     "duration": 0.900453,
     "end_time": "2021-10-20T08:00:09.904951",
     "exception": false,
     "start_time": "2021-10-20T08:00:09.004498",
     "status": "completed"
    },
    "tags": []
   },
   "outputs": [],
   "source": [
    "df = pd.read_sql(\"select * from EBAY_TOP_BERLIN where record_time in (select distinct record_time from EBAY_TOP_BERLIN order by record_time desc limit 2)\", sqlite3.connect(\"UsedObjects.db\"))"
   ]
  },
  {
   "cell_type": "code",
   "execution_count": 5,
   "id": "popular-active",
   "metadata": {
    "execution": {
     "iopub.execute_input": "2021-10-20T08:00:09.974788Z",
     "iopub.status.busy": "2021-10-20T08:00:09.962794Z",
     "iopub.status.idle": "2021-10-20T08:00:09.992031Z",
     "shell.execute_reply": "2021-10-20T08:00:09.993387Z"
    },
    "papermill": {
     "duration": 0.068064,
     "end_time": "2021-10-20T08:00:09.993806",
     "exception": false,
     "start_time": "2021-10-20T08:00:09.925742",
     "status": "completed"
    },
    "tags": []
   },
   "outputs": [],
   "source": [
    "df_pivot = df.pivot_table(index=\"PRODUCT\", columns = \"RECORD_TIME\", values = \"LISTING_COUNT\")"
   ]
  },
  {
   "cell_type": "code",
   "execution_count": 6,
   "id": "union-huntington",
   "metadata": {
    "execution": {
     "iopub.execute_input": "2021-10-20T08:00:10.050926Z",
     "iopub.status.busy": "2021-10-20T08:00:10.048787Z",
     "iopub.status.idle": "2021-10-20T08:00:10.054149Z",
     "shell.execute_reply": "2021-10-20T08:00:10.055335Z"
    },
    "papermill": {
     "duration": 0.040414,
     "end_time": "2021-10-20T08:00:10.055766",
     "exception": false,
     "start_time": "2021-10-20T08:00:10.015352",
     "status": "completed"
    },
    "tags": []
   },
   "outputs": [],
   "source": [
    "df_pivot.columns = [\"stamp_1\", \"stamp_2\"]\n",
    "df_pivot_diff = df_pivot.diff(axis=1)"
   ]
  },
  {
   "cell_type": "code",
   "execution_count": 7,
   "id": "fifth-motion",
   "metadata": {
    "execution": {
     "iopub.execute_input": "2021-10-20T08:00:10.114425Z",
     "iopub.status.busy": "2021-10-20T08:00:10.111756Z",
     "iopub.status.idle": "2021-10-20T08:00:11.572444Z",
     "shell.execute_reply": "2021-10-20T08:00:11.573800Z"
    },
    "papermill": {
     "duration": 1.494549,
     "end_time": "2021-10-20T08:00:11.574225",
     "exception": false,
     "start_time": "2021-10-20T08:00:10.079676",
     "status": "completed"
    },
    "tags": []
   },
   "outputs": [
    {
     "data": {
      "text/plain": [
       "<AxesSubplot:ylabel='PRODUCT'>"
      ]
     },
     "execution_count": 7,
     "metadata": {},
     "output_type": "execute_result"
    },
    {
     "data": {
      "image/png": "[encoded data removed]",
      "text/plain": [
       "<Figure size 432x288 with 1 Axes>"
      ]
     },
     "metadata": {
      "needs_background": "light"
     },
     "output_type": "display_data"
    }
   ],
   "source": [
    "df_pivot_diff.sort_values(\"stamp_2\", ascending = False)[\"stamp_2\"].head(10).plot.barh()"
   ]
  },
  {
   "cell_type": "code",
   "execution_count": null,
   "id": "extra-executive",
   "metadata": {
    "papermill": {
     "duration": 0.022539,
     "end_time": "2021-10-20T08:00:11.621846",
     "exception": false,
     "start_time": "2021-10-20T08:00:11.599307",
     "status": "completed"
    },
    "tags": []
   },
   "outputs": [],
   "source": []
  }
 ],
 "metadata": {
  "kernelspec": {
   "display_name": "Python 3",
   "language": "python",
   "name": "python3"
  },
  "language_info": {
   "codemirror_mode": {
    "name": "ipython",
    "version": 3
   },
   "file_extension": ".py",
   "mimetype": "text/x-python",
   "name": "python",
   "nbconvert_exporter": "python",
   "pygments_lexer": "ipython3",
   "version": "3.9.5"
  },
  "papermill": {
   "default_parameters": {},
   "duration": 7.816983,
   "end_time": "2021-10-20T08:00:12.797767",
   "environment_variables": {},
   "exception": null,
   "input_path": "eBay_Overview.ipynb",
   "output_path": "eBay_Overview.ipynb",
   "parameters": {},
   "start_time": "2021-10-20T08:00:04.980784",
   "version": "2.3.3"
  }
 },
 "nbformat": 4,
 "nbformat_minor": 5
}