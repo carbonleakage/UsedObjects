{
 "cells": [
  {
   "cell_type": "code",
   "execution_count": 1,
   "id": "reverse-picking",
   "metadata": {
    "execution": {
     "iopub.execute_input": "2021-12-21T11:30:08.122823Z",
     "iopub.status.busy": "2021-12-21T11:30:08.120368Z",
     "iopub.status.idle": "2021-12-21T11:30:09.080803Z",
     "shell.execute_reply": "2021-12-21T11:30:09.082444Z"
    },
    "papermill": {
     "duration": 1.01088,
     "end_time": "2021-12-21T11:30:09.083199",
     "exception": false,
     "start_time": "2021-12-21T11:30:08.072319",
     "status": "completed"
    },
    "tags": []
   },
   "outputs": [],
   "source": [
    "import pandas as pd\n",
    "import sqlite3"
   ]
  },
  {
   "cell_type": "code",
   "execution_count": 2,
   "id": "innovative-syndrome",
   "metadata": {
    "execution": {
     "iopub.execute_input": "2021-12-21T11:30:09.149280Z",
     "iopub.status.busy": "2021-12-21T11:30:09.145152Z",
     "iopub.status.idle": "2021-12-21T11:30:10.280988Z",
     "shell.execute_reply": "2021-12-21T11:30:10.279374Z"
    },
    "papermill": {
     "duration": 1.176443,
     "end_time": "2021-12-21T11:30:10.281386",
     "exception": false,
     "start_time": "2021-12-21T11:30:09.104943",
     "status": "completed"
    },
    "tags": []
   },
   "outputs": [],
   "source": [
    "timestamps = pd.read_sql(\"select distinct record_time from EBAY_TOP_BERLIN order by record_time desc limit 2\", sqlite3.connect(\"UsedObjects.db\"))"
   ]
  },
  {
   "cell_type": "code",
   "execution_count": 3,
   "id": "periodic-identification",
   "metadata": {
    "execution": {
     "iopub.execute_input": "2021-12-21T11:30:10.353686Z",
     "iopub.status.busy": "2021-12-21T11:30:10.350304Z",
     "iopub.status.idle": "2021-12-21T11:30:10.372756Z",
     "shell.execute_reply": "2021-12-21T11:30:10.374407Z"
    },
    "papermill": {
     "duration": 0.074018,
     "end_time": "2021-12-21T11:30:10.374872",
     "exception": false,
     "start_time": "2021-12-21T11:30:10.300854",
     "status": "completed"
    },
    "tags": []
   },
   "outputs": [
    {
     "data": {
      "text/html": [
       "<div>\n",
       "<style scoped>\n",
       "    .dataframe tbody tr th:only-of-type {\n",
       "        vertical-align: middle;\n",
       "    }\n",
       "\n",
       "    .dataframe tbody tr th {\n",
       "        vertical-align: top;\n",
       "    }\n",
       "\n",
       "    .dataframe thead th {\n",
       "        text-align: right;\n",
       "    }\n",
       "</style>\n",
       "<table border=\"1\" class=\"dataframe\">\n",
       "  <thead>\n",
       "    <tr style=\"text-align: right;\">\n",
       "      <th></th>\n",
       "      <th>RECORD_TIME</th>\n",
       "    </tr>\n",
       "  </thead>\n",
       "  <tbody>\n",
       "    <tr>\n",
       "      <th>0</th>\n",
       "      <td>2021-12-21 12:30</td>\n",
       "    </tr>\n",
       "    <tr>\n",
       "      <th>1</th>\n",
       "      <td>2021-12-21 12:00</td>\n",
       "    </tr>\n",
       "  </tbody>\n",
       "</table>\n",
       "</div>"
      ],
      "text/plain": [
       "        RECORD_TIME\n",
       "0  2021-12-21 12:30\n",
       "1  2021-12-21 12:00"
      ]
     },
     "execution_count": 3,
     "metadata": {},
     "output_type": "execute_result"
    }
   ],
   "source": [
    "timestamps"
   ]
  },
  {
   "cell_type": "code",
   "execution_count": 4,
   "id": "alternate-victory",
   "metadata": {
    "execution": {
     "iopub.execute_input": "2021-12-21T11:30:10.455731Z",
     "iopub.status.busy": "2021-12-21T11:30:10.453615Z",
     "iopub.status.idle": "2021-12-21T11:30:12.123736Z",
     "shell.execute_reply": "2021-12-21T11:30:12.125587Z"
    },
    "papermill": {
     "duration": 1.705006,
     "end_time": "2021-12-21T11:30:12.126133",
     "exception": false,
     "start_time": "2021-12-21T11:30:10.421127",
     "status": "completed"
    },
    "tags": []
   },
   "outputs": [],
   "source": [
    "df = pd.read_sql(\"select * from EBAY_TOP_BERLIN where record_time in (select distinct record_time from EBAY_TOP_BERLIN order by record_time desc limit 2)\", sqlite3.connect(\"UsedObjects.db\"))"
   ]
  },
  {
   "cell_type": "code",
   "execution_count": 5,
   "id": "popular-active",
   "metadata": {
    "execution": {
     "iopub.execute_input": "2021-12-21T11:30:12.255471Z",
     "iopub.status.busy": "2021-12-21T11:30:12.242018Z",
     "iopub.status.idle": "2021-12-21T11:30:12.273529Z",
     "shell.execute_reply": "2021-12-21T11:30:12.274889Z"
    },
    "papermill": {
     "duration": 0.107422,
     "end_time": "2021-12-21T11:30:12.275369",
     "exception": false,
     "start_time": "2021-12-21T11:30:12.167947",
     "status": "completed"
    },
    "tags": []
   },
   "outputs": [],
   "source": [
    "df_pivot = df.pivot_table(index=\"PRODUCT\", columns = \"RECORD_TIME\", values = \"LISTING_COUNT\")"
   ]
  },
  {
   "cell_type": "code",
   "execution_count": 6,
   "id": "union-huntington",
   "metadata": {
    "execution": {
     "iopub.execute_input": "2021-12-21T11:30:12.334852Z",
     "iopub.status.busy": "2021-12-21T11:30:12.332898Z",
     "iopub.status.idle": "2021-12-21T11:30:12.338400Z",
     "shell.execute_reply": "2021-12-21T11:30:12.339837Z"
    },
    "papermill": {
     "duration": 0.044688,
     "end_time": "2021-12-21T11:30:12.340328",
     "exception": false,
     "start_time": "2021-12-21T11:30:12.295640",
     "status": "completed"
    },
    "tags": []
   },
   "outputs": [],
   "source": [
    "df_pivot.columns = [\"stamp_1\", \"stamp_2\"]\n",
    "df_pivot_diff = df_pivot.diff(axis=1)"
   ]
  },
  {
   "cell_type": "code",
   "execution_count": 7,
   "id": "fifth-motion",
   "metadata": {
    "execution": {
     "iopub.execute_input": "2021-12-21T11:30:12.399902Z",
     "iopub.status.busy": "2021-12-21T11:30:12.397235Z",
     "iopub.status.idle": "2021-12-21T11:30:14.363394Z",
     "shell.execute_reply": "2021-12-21T11:30:14.364677Z"
    },
    "papermill": {
     "duration": 2.002915,
     "end_time": "2021-12-21T11:30:14.365191",
     "exception": false,
     "start_time": "2021-12-21T11:30:12.362276",
     "status": "completed"
    },
    "tags": []
   },
   "outputs": [
    {
     "data": {
      "text/plain": [
       "<AxesSubplot:ylabel='PRODUCT'>"
      ]
     },
     "execution_count": 7,
     "metadata": {},
     "output_type": "execute_result"
    },
    {
     "data": {
      "image/png": "[encoded data removed]",
      "text/plain": [
       "<Figure size 432x288 with 1 Axes>"
      ]
     },
     "metadata": {
      "needs_background": "light"
     },
     "output_type": "display_data"
    }
   ],
   "source": [
    "df_pivot_diff.sort_values(\"stamp_2\", ascending = False)[\"stamp_2\"].head(10).plot.barh()"
   ]
  },
  {
   "cell_type": "code",
   "execution_count": null,
   "id": "extra-executive",
   "metadata": {
    "papermill": {
     "duration": 0.022225,
     "end_time": "2021-12-21T11:30:14.412320",
     "exception": false,
     "start_time": "2021-12-21T11:30:14.390095",
     "status": "completed"
    },
    "tags": []
   },
   "outputs": [],
   "source": []
  }
 ],
 "metadata": {
  "kernelspec": {
   "display_name": "Python 3",
   "language": "python",
   "name": "python3"
  },
  "language_info": {
   "codemirror_mode": {
    "name": "ipython",
    "version": 3
   },
   "file_extension": ".py",
   "mimetype": "text/x-python",
   "name": "python",
   "nbconvert_exporter": "python",
   "pygments_lexer": "ipython3",
   "version": "3.9.5"
  },
  "papermill": {
   "default_parameters": {},
   "duration": 9.740563,
   "end_time": "2021-12-21T11:30:15.055824",
   "environment_variables": {},
   "exception": null,
   "input_path": "eBay_Overview.ipynb",
   "output_path": "eBay_Overview.ipynb",
   "parameters": {},
   "start_time": "2021-12-21T11:30:05.315261",
   "version": "2.3.3"
  }
 },
 "nbformat": 4,
 "nbformat_minor": 5
}