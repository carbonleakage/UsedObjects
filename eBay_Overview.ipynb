{
 "cells": [
  {
   "cell_type": "code",
   "execution_count": 1,
   "id": "reverse-picking",
   "metadata": {
    "execution": {
     "iopub.execute_input": "2021-09-28T06:00:07.019460Z",
     "iopub.status.busy": "2021-09-28T06:00:07.017400Z",
     "iopub.status.idle": "2021-09-28T06:00:07.825273Z",
     "shell.execute_reply": "2021-09-28T06:00:07.826537Z"
    },
    "papermill": {
     "duration": 0.859178,
     "end_time": "2021-09-28T06:00:07.827224",
     "exception": false,
     "start_time": "2021-09-28T06:00:06.968046",
     "status": "completed"
    },
    "tags": []
   },
   "outputs": [],
   "source": [
    "import pandas as pd\n",
    "import sqlite3"
   ]
  },
  {
   "cell_type": "code",
   "execution_count": 2,
   "id": "innovative-syndrome",
   "metadata": {
    "execution": {
     "iopub.execute_input": "2021-09-28T06:00:07.877758Z",
     "iopub.status.busy": "2021-09-28T06:00:07.875888Z",
     "iopub.status.idle": "2021-09-28T06:00:08.281032Z",
     "shell.execute_reply": "2021-09-28T06:00:08.282166Z"
    },
    "papermill": {
     "duration": 0.43455,
     "end_time": "2021-09-28T06:00:08.282574",
     "exception": false,
     "start_time": "2021-09-28T06:00:07.848024",
     "status": "completed"
    },
    "tags": []
   },
   "outputs": [],
   "source": [
    "timestamps = pd.read_sql(\"select distinct record_time from EBAY_TOP_BERLIN order by record_time desc limit 2\", sqlite3.connect(\"UsedObjects.db\"))"
   ]
  },
  {
   "cell_type": "code",
   "execution_count": 3,
   "id": "periodic-identification",
   "metadata": {
    "execution": {
     "iopub.execute_input": "2021-09-28T06:00:08.350708Z",
     "iopub.status.busy": "2021-09-28T06:00:08.345374Z",
     "iopub.status.idle": "2021-09-28T06:00:08.365954Z",
     "shell.execute_reply": "2021-09-28T06:00:08.367556Z"
    },
    "papermill": {
     "duration": 0.064568,
     "end_time": "2021-09-28T06:00:08.368024",
     "exception": false,
     "start_time": "2021-09-28T06:00:08.303456",
     "status": "completed"
    },
    "tags": []
   },
   "outputs": [
    {
     "data": {
      "text/html": [
       "<div>\n",
       "<style scoped>\n",
       "    .dataframe tbody tr th:only-of-type {\n",
       "        vertical-align: middle;\n",
       "    }\n",
       "\n",
       "    .dataframe tbody tr th {\n",
       "        vertical-align: top;\n",
       "    }\n",
       "\n",
       "    .dataframe thead th {\n",
       "        text-align: right;\n",
       "    }\n",
       "</style>\n",
       "<table border=\"1\" class=\"dataframe\">\n",
       "  <thead>\n",
       "    <tr style=\"text-align: right;\">\n",
       "      <th></th>\n",
       "      <th>RECORD_TIME</th>\n",
       "    </tr>\n",
       "  </thead>\n",
       "  <tbody>\n",
       "    <tr>\n",
       "      <th>0</th>\n",
       "      <td>2021-09-28 08:00</td>\n",
       "    </tr>\n",
       "    <tr>\n",
       "      <th>1</th>\n",
       "      <td>2021-09-28 07:30</td>\n",
       "    </tr>\n",
       "  </tbody>\n",
       "</table>\n",
       "</div>"
      ],
      "text/plain": [
       "        RECORD_TIME\n",
       "0  2021-09-28 08:00\n",
       "1  2021-09-28 07:30"
      ]
     },
     "execution_count": 3,
     "metadata": {},
     "output_type": "execute_result"
    }
   ],
   "source": [
    "timestamps"
   ]
  },
  {
   "cell_type": "code",
   "execution_count": 4,
   "id": "alternate-victory",
   "metadata": {
    "execution": {
     "iopub.execute_input": "2021-09-28T06:00:08.422018Z",
     "iopub.status.busy": "2021-09-28T06:00:08.419958Z",
     "iopub.status.idle": "2021-09-28T06:00:09.007811Z",
     "shell.execute_reply": "2021-09-28T06:00:09.009102Z"
    },
    "papermill": {
     "duration": 0.618372,
     "end_time": "2021-09-28T06:00:09.009496",
     "exception": false,
     "start_time": "2021-09-28T06:00:08.391124",
     "status": "completed"
    },
    "tags": []
   },
   "outputs": [],
   "source": [
    "df = pd.read_sql(\"select * from EBAY_TOP_BERLIN where record_time in (select distinct record_time from EBAY_TOP_BERLIN order by record_time desc limit 2)\", sqlite3.connect(\"UsedObjects.db\"))"
   ]
  },
  {
   "cell_type": "code",
   "execution_count": 5,
   "id": "popular-active",
   "metadata": {
    "execution": {
     "iopub.execute_input": "2021-09-28T06:00:09.080162Z",
     "iopub.status.busy": "2021-09-28T06:00:09.067344Z",
     "iopub.status.idle": "2021-09-28T06:00:09.095613Z",
     "shell.execute_reply": "2021-09-28T06:00:09.096849Z"
    },
    "papermill": {
     "duration": 0.067437,
     "end_time": "2021-09-28T06:00:09.097244",
     "exception": false,
     "start_time": "2021-09-28T06:00:09.029807",
     "status": "completed"
    },
    "tags": []
   },
   "outputs": [],
   "source": [
    "df_pivot = df.pivot_table(index=\"PRODUCT\", columns = \"RECORD_TIME\", values = \"LISTING_COUNT\")"
   ]
  },
  {
   "cell_type": "code",
   "execution_count": 6,
   "id": "union-huntington",
   "metadata": {
    "execution": {
     "iopub.execute_input": "2021-09-28T06:00:09.152337Z",
     "iopub.status.busy": "2021-09-28T06:00:09.150278Z",
     "iopub.status.idle": "2021-09-28T06:00:09.155442Z",
     "shell.execute_reply": "2021-09-28T06:00:09.156669Z"
    },
    "papermill": {
     "duration": 0.03937,
     "end_time": "2021-09-28T06:00:09.157061",
     "exception": false,
     "start_time": "2021-09-28T06:00:09.117691",
     "status": "completed"
    },
    "tags": []
   },
   "outputs": [],
   "source": [
    "df_pivot.columns = [\"stamp_1\", \"stamp_2\"]\n",
    "df_pivot_diff = df_pivot.diff(axis=1)"
   ]
  },
  {
   "cell_type": "code",
   "execution_count": 7,
   "id": "fifth-motion",
   "metadata": {
    "execution": {
     "iopub.execute_input": "2021-09-28T06:00:09.211575Z",
     "iopub.status.busy": "2021-09-28T06:00:09.208931Z",
     "iopub.status.idle": "2021-09-28T06:00:10.700228Z",
     "shell.execute_reply": "2021-09-28T06:00:10.701518Z"
    },
    "papermill": {
     "duration": 1.523961,
     "end_time": "2021-09-28T06:00:10.701938",
     "exception": false,
     "start_time": "2021-09-28T06:00:09.177977",
     "status": "completed"
    },
    "tags": []
   },
   "outputs": [
    {
     "data": {
      "text/plain": [
       "<AxesSubplot:ylabel='PRODUCT'>"
      ]
     },
     "execution_count": 7,
     "metadata": {},
     "output_type": "execute_result"
    },
    {
     "data": {
      "image/png": "[encoded data removed]",
      "text/plain": [
       "<Figure size 432x288 with 1 Axes>"
      ]
     },
     "metadata": {
      "needs_background": "light"
     },
     "output_type": "display_data"
    }
   ],
   "source": [
    "df_pivot_diff.sort_values(\"stamp_2\", ascending = False)[\"stamp_2\"].head(10).plot.barh()"
   ]
  },
  {
   "cell_type": "code",
   "execution_count": null,
   "id": "extra-executive",
   "metadata": {
    "papermill": {
     "duration": 0.022001,
     "end_time": "2021-09-28T06:00:10.747274",
     "exception": false,
     "start_time": "2021-09-28T06:00:10.725273",
     "status": "completed"
    },
    "tags": []
   },
   "outputs": [],
   "source": []
  }
 ],
 "metadata": {
  "kernelspec": {
   "display_name": "Python 3",
   "language": "python",
   "name": "python3"
  },
  "language_info": {
   "codemirror_mode": {
    "name": "ipython",
    "version": 3
   },
   "file_extension": ".py",
   "mimetype": "text/x-python",
   "name": "python",
   "nbconvert_exporter": "python",
   "pygments_lexer": "ipython3",
   "version": "3.9.5"
  },
  "papermill": {
   "default_parameters": {},
   "duration": 6.833599,
   "end_time": "2021-09-28T06:00:11.388855",
   "environment_variables": {},
   "exception": null,
   "input_path": "eBay_Overview.ipynb",
   "output_path": "eBay_Overview.ipynb",
   "parameters": {},
   "start_time": "2021-09-28T06:00:04.555256",
   "version": "2.3.3"
  }
 },
 "nbformat": 4,
 "nbformat_minor": 5
}