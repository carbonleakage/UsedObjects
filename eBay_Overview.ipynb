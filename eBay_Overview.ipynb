{
 "cells": [
  {
   "cell_type": "code",
   "execution_count": 1,
   "id": "reverse-picking",
   "metadata": {
    "execution": {
     "iopub.execute_input": "2021-08-17T04:00:07.255649Z",
     "iopub.status.busy": "2021-08-17T04:00:07.253584Z",
     "iopub.status.idle": "2021-08-17T04:00:08.058638Z",
     "shell.execute_reply": "2021-08-17T04:00:08.059908Z"
    },
    "papermill": {
     "duration": 0.856971,
     "end_time": "2021-08-17T04:00:08.060515",
     "exception": false,
     "start_time": "2021-08-17T04:00:07.203544",
     "status": "completed"
    },
    "tags": []
   },
   "outputs": [],
   "source": [
    "import pandas as pd\n",
    "import sqlite3"
   ]
  },
  {
   "cell_type": "code",
   "execution_count": 2,
   "id": "innovative-syndrome",
   "metadata": {
    "execution": {
     "iopub.execute_input": "2021-08-17T04:00:08.112169Z",
     "iopub.status.busy": "2021-08-17T04:00:08.110294Z",
     "iopub.status.idle": "2021-08-17T04:00:08.175201Z",
     "shell.execute_reply": "2021-08-17T04:00:08.176512Z"
    },
    "papermill": {
     "duration": 0.094796,
     "end_time": "2021-08-17T04:00:08.176926",
     "exception": false,
     "start_time": "2021-08-17T04:00:08.082130",
     "status": "completed"
    },
    "tags": []
   },
   "outputs": [],
   "source": [
    "timestamps = pd.read_sql(\"select distinct record_time from EBAY_TOP_BERLIN order by record_time desc limit 2\", sqlite3.connect(\"UsedObjects.db\"))"
   ]
  },
  {
   "cell_type": "code",
   "execution_count": 3,
   "id": "periodic-identification",
   "metadata": {
    "execution": {
     "iopub.execute_input": "2021-08-17T04:00:08.243761Z",
     "iopub.status.busy": "2021-08-17T04:00:08.241635Z",
     "iopub.status.idle": "2021-08-17T04:00:08.261644Z",
     "shell.execute_reply": "2021-08-17T04:00:08.262942Z"
    },
    "papermill": {
     "duration": 0.067091,
     "end_time": "2021-08-17T04:00:08.263381",
     "exception": false,
     "start_time": "2021-08-17T04:00:08.196290",
     "status": "completed"
    },
    "tags": []
   },
   "outputs": [
    {
     "data": {
      "text/html": [
       "<div>\n",
       "<style scoped>\n",
       "    .dataframe tbody tr th:only-of-type {\n",
       "        vertical-align: middle;\n",
       "    }\n",
       "\n",
       "    .dataframe tbody tr th {\n",
       "        vertical-align: top;\n",
       "    }\n",
       "\n",
       "    .dataframe thead th {\n",
       "        text-align: right;\n",
       "    }\n",
       "</style>\n",
       "<table border=\"1\" class=\"dataframe\">\n",
       "  <thead>\n",
       "    <tr style=\"text-align: right;\">\n",
       "      <th></th>\n",
       "      <th>RECORD_TIME</th>\n",
       "    </tr>\n",
       "  </thead>\n",
       "  <tbody>\n",
       "    <tr>\n",
       "      <th>0</th>\n",
       "      <td>2021-08-17 06:00</td>\n",
       "    </tr>\n",
       "    <tr>\n",
       "      <th>1</th>\n",
       "      <td>2021-08-17 05:30</td>\n",
       "    </tr>\n",
       "  </tbody>\n",
       "</table>\n",
       "</div>"
      ],
      "text/plain": [
       "        RECORD_TIME\n",
       "0  2021-08-17 06:00\n",
       "1  2021-08-17 05:30"
      ]
     },
     "execution_count": 3,
     "metadata": {},
     "output_type": "execute_result"
    }
   ],
   "source": [
    "timestamps"
   ]
  },
  {
   "cell_type": "code",
   "execution_count": 4,
   "id": "alternate-victory",
   "metadata": {
    "execution": {
     "iopub.execute_input": "2021-08-17T04:00:08.317865Z",
     "iopub.status.busy": "2021-08-17T04:00:08.315577Z",
     "iopub.status.idle": "2021-08-17T04:00:08.416868Z",
     "shell.execute_reply": "2021-08-17T04:00:08.418184Z"
    },
    "papermill": {
     "duration": 0.132164,
     "end_time": "2021-08-17T04:00:08.418636",
     "exception": false,
     "start_time": "2021-08-17T04:00:08.286472",
     "status": "completed"
    },
    "tags": []
   },
   "outputs": [],
   "source": [
    "df = pd.read_sql(\"select * from EBAY_TOP_BERLIN where record_time in (select distinct record_time from EBAY_TOP_BERLIN order by record_time desc limit 2)\", sqlite3.connect(\"UsedObjects.db\"))"
   ]
  },
  {
   "cell_type": "code",
   "execution_count": 5,
   "id": "popular-active",
   "metadata": {
    "execution": {
     "iopub.execute_input": "2021-08-17T04:00:08.489172Z",
     "iopub.status.busy": "2021-08-17T04:00:08.476574Z",
     "iopub.status.idle": "2021-08-17T04:00:08.506238Z",
     "shell.execute_reply": "2021-08-17T04:00:08.507664Z"
    },
    "papermill": {
     "duration": 0.068743,
     "end_time": "2021-08-17T04:00:08.508098",
     "exception": false,
     "start_time": "2021-08-17T04:00:08.439355",
     "status": "completed"
    },
    "tags": []
   },
   "outputs": [],
   "source": [
    "df_pivot = df.pivot_table(index=\"PRODUCT\", columns = \"RECORD_TIME\", values = \"LISTING_COUNT\")"
   ]
  },
  {
   "cell_type": "code",
   "execution_count": 6,
   "id": "union-huntington",
   "metadata": {
    "execution": {
     "iopub.execute_input": "2021-08-17T04:00:08.566047Z",
     "iopub.status.busy": "2021-08-17T04:00:08.563530Z",
     "iopub.status.idle": "2021-08-17T04:00:08.569523Z",
     "shell.execute_reply": "2021-08-17T04:00:08.570982Z"
    },
    "papermill": {
     "duration": 0.042837,
     "end_time": "2021-08-17T04:00:08.571435",
     "exception": false,
     "start_time": "2021-08-17T04:00:08.528598",
     "status": "completed"
    },
    "tags": []
   },
   "outputs": [],
   "source": [
    "df_pivot.columns = [\"stamp_1\", \"stamp_2\"]\n",
    "df_pivot_diff = df_pivot.diff(axis=1)"
   ]
  },
  {
   "cell_type": "code",
   "execution_count": 7,
   "id": "fifth-motion",
   "metadata": {
    "execution": {
     "iopub.execute_input": "2021-08-17T04:00:08.627169Z",
     "iopub.status.busy": "2021-08-17T04:00:08.624785Z",
     "iopub.status.idle": "2021-08-17T04:00:10.105863Z",
     "shell.execute_reply": "2021-08-17T04:00:10.107153Z"
    },
    "papermill": {
     "duration": 1.514604,
     "end_time": "2021-08-17T04:00:10.107583",
     "exception": false,
     "start_time": "2021-08-17T04:00:08.592979",
     "status": "completed"
    },
    "tags": []
   },
   "outputs": [
    {
     "data": {
      "text/plain": [
       "<AxesSubplot:ylabel='PRODUCT'>"
      ]
     },
     "execution_count": 7,
     "metadata": {},
     "output_type": "execute_result"
    },
    {
     "data": {
      "image/png": "[encoded data removed]",
      "text/plain": [
       "<Figure size 432x288 with 1 Axes>"
      ]
     },
     "metadata": {
      "needs_background": "light"
     },
     "output_type": "display_data"
    }
   ],
   "source": [
    "df_pivot_diff.sort_values(\"stamp_2\", ascending = False)[\"stamp_2\"].head(10).plot.barh()"
   ]
  },
  {
   "cell_type": "code",
   "execution_count": null,
   "id": "extra-executive",
   "metadata": {
    "papermill": {
     "duration": 0.0223,
     "end_time": "2021-08-17T04:00:10.153781",
     "exception": false,
     "start_time": "2021-08-17T04:00:10.131481",
     "status": "completed"
    },
    "tags": []
   },
   "outputs": [],
   "source": []
  }
 ],
 "metadata": {
  "kernelspec": {
   "display_name": "Python 3",
   "language": "python",
   "name": "python3"
  },
  "language_info": {
   "codemirror_mode": {
    "name": "ipython",
    "version": 3
   },
   "file_extension": ".py",
   "mimetype": "text/x-python",
   "name": "python",
   "nbconvert_exporter": "python",
   "pygments_lexer": "ipython3",
   "version": "3.9.5"
  },
  "papermill": {
   "default_parameters": {},
   "duration": 6.827141,
   "end_time": "2021-08-17T04:00:11.617337",
   "environment_variables": {},
   "exception": null,
   "input_path": "eBay_Overview.ipynb",
   "output_path": "eBay_Overview.ipynb",
   "parameters": {},
   "start_time": "2021-08-17T04:00:04.790196",
   "version": "2.3.3"
  }
 },
 "nbformat": 4,
 "nbformat_minor": 5
}