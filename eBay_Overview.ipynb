{
 "cells": [
  {
   "cell_type": "code",
   "execution_count": 1,
   "id": "reverse-picking",
   "metadata": {
    "execution": {
     "iopub.execute_input": "2021-10-04T22:30:07.437047Z",
     "iopub.status.busy": "2021-10-04T22:30:07.435122Z",
     "iopub.status.idle": "2021-10-04T22:30:08.241543Z",
     "shell.execute_reply": "2021-10-04T22:30:08.242833Z"
    },
    "papermill": {
     "duration": 0.858595,
     "end_time": "2021-10-04T22:30:08.243469",
     "exception": false,
     "start_time": "2021-10-04T22:30:07.384874",
     "status": "completed"
    },
    "tags": []
   },
   "outputs": [],
   "source": [
    "import pandas as pd\n",
    "import sqlite3"
   ]
  },
  {
   "cell_type": "code",
   "execution_count": 2,
   "id": "innovative-syndrome",
   "metadata": {
    "execution": {
     "iopub.execute_input": "2021-10-04T22:30:08.293697Z",
     "iopub.status.busy": "2021-10-04T22:30:08.291850Z",
     "iopub.status.idle": "2021-10-04T22:30:08.750668Z",
     "shell.execute_reply": "2021-10-04T22:30:08.752150Z"
    },
    "papermill": {
     "duration": 0.488468,
     "end_time": "2021-10-04T22:30:08.752592",
     "exception": false,
     "start_time": "2021-10-04T22:30:08.264124",
     "status": "completed"
    },
    "tags": []
   },
   "outputs": [],
   "source": [
    "timestamps = pd.read_sql(\"select distinct record_time from EBAY_TOP_BERLIN order by record_time desc limit 2\", sqlite3.connect(\"UsedObjects.db\"))"
   ]
  },
  {
   "cell_type": "code",
   "execution_count": 3,
   "id": "periodic-identification",
   "metadata": {
    "execution": {
     "iopub.execute_input": "2021-10-04T22:30:08.817323Z",
     "iopub.status.busy": "2021-10-04T22:30:08.815228Z",
     "iopub.status.idle": "2021-10-04T22:30:08.835828Z",
     "shell.execute_reply": "2021-10-04T22:30:08.836961Z"
    },
    "papermill": {
     "duration": 0.065088,
     "end_time": "2021-10-04T22:30:08.837369",
     "exception": false,
     "start_time": "2021-10-04T22:30:08.772281",
     "status": "completed"
    },
    "tags": []
   },
   "outputs": [
    {
     "data": {
      "text/html": [
       "<div>\n",
       "<style scoped>\n",
       "    .dataframe tbody tr th:only-of-type {\n",
       "        vertical-align: middle;\n",
       "    }\n",
       "\n",
       "    .dataframe tbody tr th {\n",
       "        vertical-align: top;\n",
       "    }\n",
       "\n",
       "    .dataframe thead th {\n",
       "        text-align: right;\n",
       "    }\n",
       "</style>\n",
       "<table border=\"1\" class=\"dataframe\">\n",
       "  <thead>\n",
       "    <tr style=\"text-align: right;\">\n",
       "      <th></th>\n",
       "      <th>RECORD_TIME</th>\n",
       "    </tr>\n",
       "  </thead>\n",
       "  <tbody>\n",
       "    <tr>\n",
       "      <th>0</th>\n",
       "      <td>2021-10-05 00:30</td>\n",
       "    </tr>\n",
       "    <tr>\n",
       "      <th>1</th>\n",
       "      <td>2021-10-05 00:00</td>\n",
       "    </tr>\n",
       "  </tbody>\n",
       "</table>\n",
       "</div>"
      ],
      "text/plain": [
       "        RECORD_TIME\n",
       "0  2021-10-05 00:30\n",
       "1  2021-10-05 00:00"
      ]
     },
     "execution_count": 3,
     "metadata": {},
     "output_type": "execute_result"
    }
   ],
   "source": [
    "timestamps"
   ]
  },
  {
   "cell_type": "code",
   "execution_count": 4,
   "id": "alternate-victory",
   "metadata": {
    "execution": {
     "iopub.execute_input": "2021-10-04T22:30:08.914112Z",
     "iopub.status.busy": "2021-10-04T22:30:08.911841Z",
     "iopub.status.idle": "2021-10-04T22:30:09.572180Z",
     "shell.execute_reply": "2021-10-04T22:30:09.573322Z"
    },
    "papermill": {
     "duration": 0.698977,
     "end_time": "2021-10-04T22:30:09.573730",
     "exception": false,
     "start_time": "2021-10-04T22:30:08.874753",
     "status": "completed"
    },
    "tags": []
   },
   "outputs": [],
   "source": [
    "df = pd.read_sql(\"select * from EBAY_TOP_BERLIN where record_time in (select distinct record_time from EBAY_TOP_BERLIN order by record_time desc limit 2)\", sqlite3.connect(\"UsedObjects.db\"))"
   ]
  },
  {
   "cell_type": "code",
   "execution_count": 5,
   "id": "popular-active",
   "metadata": {
    "execution": {
     "iopub.execute_input": "2021-10-04T22:30:09.645412Z",
     "iopub.status.busy": "2021-10-04T22:30:09.633715Z",
     "iopub.status.idle": "2021-10-04T22:30:09.661743Z",
     "shell.execute_reply": "2021-10-04T22:30:09.663084Z"
    },
    "papermill": {
     "duration": 0.067975,
     "end_time": "2021-10-04T22:30:09.663504",
     "exception": false,
     "start_time": "2021-10-04T22:30:09.595529",
     "status": "completed"
    },
    "tags": []
   },
   "outputs": [],
   "source": [
    "df_pivot = df.pivot_table(index=\"PRODUCT\", columns = \"RECORD_TIME\", values = \"LISTING_COUNT\")"
   ]
  },
  {
   "cell_type": "code",
   "execution_count": 6,
   "id": "union-huntington",
   "metadata": {
    "execution": {
     "iopub.execute_input": "2021-10-04T22:30:09.719548Z",
     "iopub.status.busy": "2021-10-04T22:30:09.717453Z",
     "iopub.status.idle": "2021-10-04T22:30:09.722778Z",
     "shell.execute_reply": "2021-10-04T22:30:09.724062Z"
    },
    "papermill": {
     "duration": 0.040872,
     "end_time": "2021-10-04T22:30:09.724489",
     "exception": false,
     "start_time": "2021-10-04T22:30:09.683617",
     "status": "completed"
    },
    "tags": []
   },
   "outputs": [],
   "source": [
    "df_pivot.columns = [\"stamp_1\", \"stamp_2\"]\n",
    "df_pivot_diff = df_pivot.diff(axis=1)"
   ]
  },
  {
   "cell_type": "code",
   "execution_count": 7,
   "id": "fifth-motion",
   "metadata": {
    "execution": {
     "iopub.execute_input": "2021-10-04T22:30:09.782012Z",
     "iopub.status.busy": "2021-10-04T22:30:09.779373Z",
     "iopub.status.idle": "2021-10-04T22:30:11.288446Z",
     "shell.execute_reply": "2021-10-04T22:30:11.289722Z"
    },
    "papermill": {
     "duration": 1.542699,
     "end_time": "2021-10-04T22:30:11.290140",
     "exception": false,
     "start_time": "2021-10-04T22:30:09.747441",
     "status": "completed"
    },
    "tags": []
   },
   "outputs": [
    {
     "data": {
      "text/plain": [
       "<AxesSubplot:ylabel='PRODUCT'>"
      ]
     },
     "execution_count": 7,
     "metadata": {},
     "output_type": "execute_result"
    },
    {
     "data": {
      "image/png": "[encoded data removed]",
      "text/plain": [
       "<Figure size 432x288 with 1 Axes>"
      ]
     },
     "metadata": {
      "needs_background": "light"
     },
     "output_type": "display_data"
    }
   ],
   "source": [
    "df_pivot_diff.sort_values(\"stamp_2\", ascending = False)[\"stamp_2\"].head(10).plot.barh()"
   ]
  },
  {
   "cell_type": "code",
   "execution_count": null,
   "id": "extra-executive",
   "metadata": {
    "papermill": {
     "duration": 0.022165,
     "end_time": "2021-10-04T22:30:11.335917",
     "exception": false,
     "start_time": "2021-10-04T22:30:11.313752",
     "status": "completed"
    },
    "tags": []
   },
   "outputs": [],
   "source": []
  }
 ],
 "metadata": {
  "kernelspec": {
   "display_name": "Python 3",
   "language": "python",
   "name": "python3"
  },
  "language_info": {
   "codemirror_mode": {
    "name": "ipython",
    "version": 3
   },
   "file_extension": ".py",
   "mimetype": "text/x-python",
   "name": "python",
   "nbconvert_exporter": "python",
   "pygments_lexer": "ipython3",
   "version": "3.9.5"
  },
  "papermill": {
   "default_parameters": {},
   "duration": 7.829885,
   "end_time": "2021-10-04T22:30:12.795079",
   "environment_variables": {},
   "exception": null,
   "input_path": "eBay_Overview.ipynb",
   "output_path": "eBay_Overview.ipynb",
   "parameters": {},
   "start_time": "2021-10-04T22:30:04.965194",
   "version": "2.3.3"
  }
 },
 "nbformat": 4,
 "nbformat_minor": 5
}