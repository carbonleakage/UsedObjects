{
 "cells": [
  {
   "cell_type": "code",
   "execution_count": 1,
   "id": "reverse-picking",
   "metadata": {
    "execution": {
     "iopub.execute_input": "2021-09-25T14:00:07.211055Z",
     "iopub.status.busy": "2021-09-25T14:00:07.209065Z",
     "iopub.status.idle": "2021-09-25T14:00:08.012392Z",
     "shell.execute_reply": "2021-09-25T14:00:08.013792Z"
    },
    "papermill": {
     "duration": 0.855205,
     "end_time": "2021-09-25T14:00:08.014483",
     "exception": false,
     "start_time": "2021-09-25T14:00:07.159278",
     "status": "completed"
    },
    "tags": []
   },
   "outputs": [],
   "source": [
    "import pandas as pd\n",
    "import sqlite3"
   ]
  },
  {
   "cell_type": "code",
   "execution_count": 2,
   "id": "innovative-syndrome",
   "metadata": {
    "execution": {
     "iopub.execute_input": "2021-09-25T14:00:08.065046Z",
     "iopub.status.busy": "2021-09-25T14:00:08.062747Z",
     "iopub.status.idle": "2021-09-25T14:00:08.444844Z",
     "shell.execute_reply": "2021-09-25T14:00:08.446025Z"
    },
    "papermill": {
     "duration": 0.411826,
     "end_time": "2021-09-25T14:00:08.446455",
     "exception": false,
     "start_time": "2021-09-25T14:00:08.034629",
     "status": "completed"
    },
    "tags": []
   },
   "outputs": [],
   "source": [
    "timestamps = pd.read_sql(\"select distinct record_time from EBAY_TOP_BERLIN order by record_time desc limit 2\", sqlite3.connect(\"UsedObjects.db\"))"
   ]
  },
  {
   "cell_type": "code",
   "execution_count": 3,
   "id": "periodic-identification",
   "metadata": {
    "execution": {
     "iopub.execute_input": "2021-09-25T14:00:08.513316Z",
     "iopub.status.busy": "2021-09-25T14:00:08.511299Z",
     "iopub.status.idle": "2021-09-25T14:00:08.531284Z",
     "shell.execute_reply": "2021-09-25T14:00:08.532629Z"
    },
    "papermill": {
     "duration": 0.067187,
     "end_time": "2021-09-25T14:00:08.533051",
     "exception": false,
     "start_time": "2021-09-25T14:00:08.465864",
     "status": "completed"
    },
    "tags": []
   },
   "outputs": [
    {
     "data": {
      "text/html": [
       "<div>\n",
       "<style scoped>\n",
       "    .dataframe tbody tr th:only-of-type {\n",
       "        vertical-align: middle;\n",
       "    }\n",
       "\n",
       "    .dataframe tbody tr th {\n",
       "        vertical-align: top;\n",
       "    }\n",
       "\n",
       "    .dataframe thead th {\n",
       "        text-align: right;\n",
       "    }\n",
       "</style>\n",
       "<table border=\"1\" class=\"dataframe\">\n",
       "  <thead>\n",
       "    <tr style=\"text-align: right;\">\n",
       "      <th></th>\n",
       "      <th>RECORD_TIME</th>\n",
       "    </tr>\n",
       "  </thead>\n",
       "  <tbody>\n",
       "    <tr>\n",
       "      <th>0</th>\n",
       "      <td>2021-09-25 16:00</td>\n",
       "    </tr>\n",
       "    <tr>\n",
       "      <th>1</th>\n",
       "      <td>2021-09-25 15:30</td>\n",
       "    </tr>\n",
       "  </tbody>\n",
       "</table>\n",
       "</div>"
      ],
      "text/plain": [
       "        RECORD_TIME\n",
       "0  2021-09-25 16:00\n",
       "1  2021-09-25 15:30"
      ]
     },
     "execution_count": 3,
     "metadata": {},
     "output_type": "execute_result"
    }
   ],
   "source": [
    "timestamps"
   ]
  },
  {
   "cell_type": "code",
   "execution_count": 4,
   "id": "alternate-victory",
   "metadata": {
    "execution": {
     "iopub.execute_input": "2021-09-25T14:00:08.584391Z",
     "iopub.status.busy": "2021-09-25T14:00:08.582413Z",
     "iopub.status.idle": "2021-09-25T14:00:09.150524Z",
     "shell.execute_reply": "2021-09-25T14:00:09.151903Z"
    },
    "papermill": {
     "duration": 0.598313,
     "end_time": "2021-09-25T14:00:09.152329",
     "exception": false,
     "start_time": "2021-09-25T14:00:08.554016",
     "status": "completed"
    },
    "tags": []
   },
   "outputs": [],
   "source": [
    "df = pd.read_sql(\"select * from EBAY_TOP_BERLIN where record_time in (select distinct record_time from EBAY_TOP_BERLIN order by record_time desc limit 2)\", sqlite3.connect(\"UsedObjects.db\"))"
   ]
  },
  {
   "cell_type": "code",
   "execution_count": 5,
   "id": "popular-active",
   "metadata": {
    "execution": {
     "iopub.execute_input": "2021-09-25T14:00:09.232570Z",
     "iopub.status.busy": "2021-09-25T14:00:09.220709Z",
     "iopub.status.idle": "2021-09-25T14:00:09.248358Z",
     "shell.execute_reply": "2021-09-25T14:00:09.249571Z"
    },
    "papermill": {
     "duration": 0.071744,
     "end_time": "2021-09-25T14:00:09.249966",
     "exception": false,
     "start_time": "2021-09-25T14:00:09.178222",
     "status": "completed"
    },
    "tags": []
   },
   "outputs": [],
   "source": [
    "df_pivot = df.pivot_table(index=\"PRODUCT\", columns = \"RECORD_TIME\", values = \"LISTING_COUNT\")"
   ]
  },
  {
   "cell_type": "code",
   "execution_count": 6,
   "id": "union-huntington",
   "metadata": {
    "execution": {
     "iopub.execute_input": "2021-09-25T14:00:09.309308Z",
     "iopub.status.busy": "2021-09-25T14:00:09.306857Z",
     "iopub.status.idle": "2021-09-25T14:00:09.312977Z",
     "shell.execute_reply": "2021-09-25T14:00:09.314443Z"
    },
    "papermill": {
     "duration": 0.042762,
     "end_time": "2021-09-25T14:00:09.314957",
     "exception": false,
     "start_time": "2021-09-25T14:00:09.272195",
     "status": "completed"
    },
    "tags": []
   },
   "outputs": [],
   "source": [
    "df_pivot.columns = [\"stamp_1\", \"stamp_2\"]\n",
    "df_pivot_diff = df_pivot.diff(axis=1)"
   ]
  },
  {
   "cell_type": "code",
   "execution_count": 7,
   "id": "fifth-motion",
   "metadata": {
    "execution": {
     "iopub.execute_input": "2021-09-25T14:00:09.369763Z",
     "iopub.status.busy": "2021-09-25T14:00:09.367485Z",
     "iopub.status.idle": "2021-09-25T14:00:10.837990Z",
     "shell.execute_reply": "2021-09-25T14:00:10.839338Z"
    },
    "papermill": {
     "duration": 1.503668,
     "end_time": "2021-09-25T14:00:10.839763",
     "exception": false,
     "start_time": "2021-09-25T14:00:09.336095",
     "status": "completed"
    },
    "tags": []
   },
   "outputs": [
    {
     "data": {
      "text/plain": [
       "<AxesSubplot:ylabel='PRODUCT'>"
      ]
     },
     "execution_count": 7,
     "metadata": {},
     "output_type": "execute_result"
    },
    {
     "data": {
      "image/png": "[encoded data removed]",
      "text/plain": [
       "<Figure size 432x288 with 1 Axes>"
      ]
     },
     "metadata": {
      "needs_background": "light"
     },
     "output_type": "display_data"
    }
   ],
   "source": [
    "df_pivot_diff.sort_values(\"stamp_2\", ascending = False)[\"stamp_2\"].head(10).plot.barh()"
   ]
  },
  {
   "cell_type": "code",
   "execution_count": null,
   "id": "extra-executive",
   "metadata": {
    "papermill": {
     "duration": 0.022145,
     "end_time": "2021-09-25T14:00:10.886619",
     "exception": false,
     "start_time": "2021-09-25T14:00:10.864474",
     "status": "completed"
    },
    "tags": []
   },
   "outputs": [],
   "source": []
  }
 ],
 "metadata": {
  "kernelspec": {
   "display_name": "Python 3",
   "language": "python",
   "name": "python3"
  },
  "language_info": {
   "codemirror_mode": {
    "name": "ipython",
    "version": 3
   },
   "file_extension": ".py",
   "mimetype": "text/x-python",
   "name": "python",
   "nbconvert_exporter": "python",
   "pygments_lexer": "ipython3",
   "version": "3.9.5"
  },
  "papermill": {
   "default_parameters": {},
   "duration": 6.768285,
   "end_time": "2021-09-25T14:00:11.530135",
   "environment_variables": {},
   "exception": null,
   "input_path": "eBay_Overview.ipynb",
   "output_path": "eBay_Overview.ipynb",
   "parameters": {},
   "start_time": "2021-09-25T14:00:04.761850",
   "version": "2.3.3"
  }
 },
 "nbformat": 4,
 "nbformat_minor": 5
}