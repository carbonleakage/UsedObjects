{
 "cells": [
  {
   "cell_type": "code",
   "execution_count": 1,
   "id": "reverse-picking",
   "metadata": {
    "execution": {
     "iopub.execute_input": "2021-08-14T06:30:06.779634Z",
     "iopub.status.busy": "2021-08-14T06:30:06.777588Z",
     "iopub.status.idle": "2021-08-14T06:30:07.589571Z",
     "shell.execute_reply": "2021-08-14T06:30:07.588103Z"
    },
    "papermill": {
     "duration": 0.863466,
     "end_time": "2021-08-14T06:30:07.590136",
     "exception": false,
     "start_time": "2021-08-14T06:30:06.726670",
     "status": "completed"
    },
    "tags": []
   },
   "outputs": [],
   "source": [
    "import pandas as pd\n",
    "import sqlite3"
   ]
  },
  {
   "cell_type": "code",
   "execution_count": 2,
   "id": "innovative-syndrome",
   "metadata": {
    "execution": {
     "iopub.execute_input": "2021-08-14T06:30:07.643188Z",
     "iopub.status.busy": "2021-08-14T06:30:07.640771Z",
     "iopub.status.idle": "2021-08-14T06:30:07.688408Z",
     "shell.execute_reply": "2021-08-14T06:30:07.689665Z"
    },
    "papermill": {
     "duration": 0.077731,
     "end_time": "2021-08-14T06:30:07.690127",
     "exception": false,
     "start_time": "2021-08-14T06:30:07.612396",
     "status": "completed"
    },
    "tags": []
   },
   "outputs": [],
   "source": [
    "timestamps = pd.read_sql(\"select distinct record_time from EBAY_TOP_BERLIN order by record_time desc limit 2\", sqlite3.connect(\"UsedObjects.db\"))"
   ]
  },
  {
   "cell_type": "code",
   "execution_count": 3,
   "id": "periodic-identification",
   "metadata": {
    "execution": {
     "iopub.execute_input": "2021-08-14T06:30:07.759673Z",
     "iopub.status.busy": "2021-08-14T06:30:07.754439Z",
     "iopub.status.idle": "2021-08-14T06:30:07.775763Z",
     "shell.execute_reply": "2021-08-14T06:30:07.776953Z"
    },
    "papermill": {
     "duration": 0.06816,
     "end_time": "2021-08-14T06:30:07.777373",
     "exception": false,
     "start_time": "2021-08-14T06:30:07.709213",
     "status": "completed"
    },
    "tags": []
   },
   "outputs": [
    {
     "data": {
      "text/html": [
       "<div>\n",
       "<style scoped>\n",
       "    .dataframe tbody tr th:only-of-type {\n",
       "        vertical-align: middle;\n",
       "    }\n",
       "\n",
       "    .dataframe tbody tr th {\n",
       "        vertical-align: top;\n",
       "    }\n",
       "\n",
       "    .dataframe thead th {\n",
       "        text-align: right;\n",
       "    }\n",
       "</style>\n",
       "<table border=\"1\" class=\"dataframe\">\n",
       "  <thead>\n",
       "    <tr style=\"text-align: right;\">\n",
       "      <th></th>\n",
       "      <th>RECORD_TIME</th>\n",
       "    </tr>\n",
       "  </thead>\n",
       "  <tbody>\n",
       "    <tr>\n",
       "      <th>0</th>\n",
       "      <td>2021-08-14 08:30</td>\n",
       "    </tr>\n",
       "    <tr>\n",
       "      <th>1</th>\n",
       "      <td>2021-08-14 08:00</td>\n",
       "    </tr>\n",
       "  </tbody>\n",
       "</table>\n",
       "</div>"
      ],
      "text/plain": [
       "        RECORD_TIME\n",
       "0  2021-08-14 08:30\n",
       "1  2021-08-14 08:00"
      ]
     },
     "execution_count": 3,
     "metadata": {},
     "output_type": "execute_result"
    }
   ],
   "source": [
    "timestamps"
   ]
  },
  {
   "cell_type": "code",
   "execution_count": 4,
   "id": "alternate-victory",
   "metadata": {
    "execution": {
     "iopub.execute_input": "2021-08-14T06:30:07.829820Z",
     "iopub.status.busy": "2021-08-14T06:30:07.827542Z",
     "iopub.status.idle": "2021-08-14T06:30:07.897207Z",
     "shell.execute_reply": "2021-08-14T06:30:07.898763Z"
    },
    "papermill": {
     "duration": 0.100446,
     "end_time": "2021-08-14T06:30:07.899194",
     "exception": false,
     "start_time": "2021-08-14T06:30:07.798748",
     "status": "completed"
    },
    "tags": []
   },
   "outputs": [],
   "source": [
    "df = pd.read_sql(\"select * from EBAY_TOP_BERLIN where record_time in (select distinct record_time from EBAY_TOP_BERLIN order by record_time desc limit 2)\", sqlite3.connect(\"UsedObjects.db\"))"
   ]
  },
  {
   "cell_type": "code",
   "execution_count": 5,
   "id": "popular-active",
   "metadata": {
    "execution": {
     "iopub.execute_input": "2021-08-14T06:30:07.971025Z",
     "iopub.status.busy": "2021-08-14T06:30:07.958649Z",
     "iopub.status.idle": "2021-08-14T06:30:07.986589Z",
     "shell.execute_reply": "2021-08-14T06:30:07.987815Z"
    },
    "papermill": {
     "duration": 0.068746,
     "end_time": "2021-08-14T06:30:07.988200",
     "exception": false,
     "start_time": "2021-08-14T06:30:07.919454",
     "status": "completed"
    },
    "tags": []
   },
   "outputs": [],
   "source": [
    "df_pivot = df.pivot_table(index=\"PRODUCT\", columns = \"RECORD_TIME\", values = \"LISTING_COUNT\")"
   ]
  },
  {
   "cell_type": "code",
   "execution_count": 6,
   "id": "union-huntington",
   "metadata": {
    "execution": {
     "iopub.execute_input": "2021-08-14T06:30:08.046187Z",
     "iopub.status.busy": "2021-08-14T06:30:08.043843Z",
     "iopub.status.idle": "2021-08-14T06:30:08.049693Z",
     "shell.execute_reply": "2021-08-14T06:30:08.051047Z"
    },
    "papermill": {
     "duration": 0.041824,
     "end_time": "2021-08-14T06:30:08.051452",
     "exception": false,
     "start_time": "2021-08-14T06:30:08.009628",
     "status": "completed"
    },
    "tags": []
   },
   "outputs": [],
   "source": [
    "df_pivot.columns = [\"stamp_1\", \"stamp_2\"]\n",
    "df_pivot_diff = df_pivot.diff(axis=1)"
   ]
  },
  {
   "cell_type": "code",
   "execution_count": 7,
   "id": "fifth-motion",
   "metadata": {
    "execution": {
     "iopub.execute_input": "2021-08-14T06:30:08.105130Z",
     "iopub.status.busy": "2021-08-14T06:30:08.102915Z",
     "iopub.status.idle": "2021-08-14T06:30:09.580878Z",
     "shell.execute_reply": "2021-08-14T06:30:09.582389Z"
    },
    "papermill": {
     "duration": 1.51086,
     "end_time": "2021-08-14T06:30:09.582867",
     "exception": false,
     "start_time": "2021-08-14T06:30:08.072007",
     "status": "completed"
    },
    "tags": []
   },
   "outputs": [
    {
     "data": {
      "text/plain": [
       "<AxesSubplot:ylabel='PRODUCT'>"
      ]
     },
     "execution_count": 7,
     "metadata": {},
     "output_type": "execute_result"
    },
    {
     "data": {
      "image/png": "[encoded data removed]",
      "text/plain": [
       "<Figure size 432x288 with 1 Axes>"
      ]
     },
     "metadata": {
      "needs_background": "light"
     },
     "output_type": "display_data"
    }
   ],
   "source": [
    "df_pivot_diff.sort_values(\"stamp_2\", ascending = False)[\"stamp_2\"].head(10).plot.barh()"
   ]
  },
  {
   "cell_type": "code",
   "execution_count": null,
   "id": "extra-executive",
   "metadata": {
    "papermill": {
     "duration": 0.022097,
     "end_time": "2021-08-14T06:30:09.629708",
     "exception": false,
     "start_time": "2021-08-14T06:30:09.607611",
     "status": "completed"
    },
    "tags": []
   },
   "outputs": [],
   "source": []
  }
 ],
 "metadata": {
  "kernelspec": {
   "display_name": "Python 3",
   "language": "python",
   "name": "python3"
  },
  "language_info": {
   "codemirror_mode": {
    "name": "ipython",
    "version": 3
   },
   "file_extension": ".py",
   "mimetype": "text/x-python",
   "name": "python",
   "nbconvert_exporter": "python",
   "pygments_lexer": "ipython3",
   "version": "3.9.5"
  },
  "papermill": {
   "default_parameters": {},
   "duration": 6.831611,
   "end_time": "2021-08-14T06:30:11.140738",
   "environment_variables": {},
   "exception": null,
   "input_path": "eBay_Overview.ipynb",
   "output_path": "eBay_Overview.ipynb",
   "parameters": {},
   "start_time": "2021-08-14T06:30:04.309127",
   "version": "2.3.3"
  }
 },
 "nbformat": 4,
 "nbformat_minor": 5
}