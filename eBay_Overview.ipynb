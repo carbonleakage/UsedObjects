{
 "cells": [
  {
   "cell_type": "code",
   "execution_count": 1,
   "id": "reverse-picking",
   "metadata": {
    "execution": {
     "iopub.execute_input": "2021-10-09T15:00:06.704327Z",
     "iopub.status.busy": "2021-10-09T15:00:06.702333Z",
     "iopub.status.idle": "2021-10-09T15:00:07.512092Z",
     "shell.execute_reply": "2021-10-09T15:00:07.513534Z"
    },
    "papermill": {
     "duration": 0.860556,
     "end_time": "2021-10-09T15:00:07.514221",
     "exception": false,
     "start_time": "2021-10-09T15:00:06.653665",
     "status": "completed"
    },
    "tags": []
   },
   "outputs": [],
   "source": [
    "import pandas as pd\n",
    "import sqlite3"
   ]
  },
  {
   "cell_type": "code",
   "execution_count": 2,
   "id": "innovative-syndrome",
   "metadata": {
    "execution": {
     "iopub.execute_input": "2021-10-09T15:00:07.564409Z",
     "iopub.status.busy": "2021-10-09T15:00:07.562355Z",
     "iopub.status.idle": "2021-10-09T15:00:08.051028Z",
     "shell.execute_reply": "2021-10-09T15:00:08.052458Z"
    },
    "papermill": {
     "duration": 0.518588,
     "end_time": "2021-10-09T15:00:08.052887",
     "exception": false,
     "start_time": "2021-10-09T15:00:07.534299",
     "status": "completed"
    },
    "tags": []
   },
   "outputs": [],
   "source": [
    "timestamps = pd.read_sql(\"select distinct record_time from EBAY_TOP_BERLIN order by record_time desc limit 2\", sqlite3.connect(\"UsedObjects.db\"))"
   ]
  },
  {
   "cell_type": "code",
   "execution_count": 3,
   "id": "periodic-identification",
   "metadata": {
    "execution": {
     "iopub.execute_input": "2021-10-09T15:00:08.117675Z",
     "iopub.status.busy": "2021-10-09T15:00:08.115590Z",
     "iopub.status.idle": "2021-10-09T15:00:08.136230Z",
     "shell.execute_reply": "2021-10-09T15:00:08.137466Z"
    },
    "papermill": {
     "duration": 0.064903,
     "end_time": "2021-10-09T15:00:08.137859",
     "exception": false,
     "start_time": "2021-10-09T15:00:08.072956",
     "status": "completed"
    },
    "tags": []
   },
   "outputs": [
    {
     "data": {
      "text/html": [
       "<div>\n",
       "<style scoped>\n",
       "    .dataframe tbody tr th:only-of-type {\n",
       "        vertical-align: middle;\n",
       "    }\n",
       "\n",
       "    .dataframe tbody tr th {\n",
       "        vertical-align: top;\n",
       "    }\n",
       "\n",
       "    .dataframe thead th {\n",
       "        text-align: right;\n",
       "    }\n",
       "</style>\n",
       "<table border=\"1\" class=\"dataframe\">\n",
       "  <thead>\n",
       "    <tr style=\"text-align: right;\">\n",
       "      <th></th>\n",
       "      <th>RECORD_TIME</th>\n",
       "    </tr>\n",
       "  </thead>\n",
       "  <tbody>\n",
       "    <tr>\n",
       "      <th>0</th>\n",
       "      <td>2021-10-09 17:00</td>\n",
       "    </tr>\n",
       "    <tr>\n",
       "      <th>1</th>\n",
       "      <td>2021-10-09 16:30</td>\n",
       "    </tr>\n",
       "  </tbody>\n",
       "</table>\n",
       "</div>"
      ],
      "text/plain": [
       "        RECORD_TIME\n",
       "0  2021-10-09 17:00\n",
       "1  2021-10-09 16:30"
      ]
     },
     "execution_count": 3,
     "metadata": {},
     "output_type": "execute_result"
    }
   ],
   "source": [
    "timestamps"
   ]
  },
  {
   "cell_type": "code",
   "execution_count": 4,
   "id": "alternate-victory",
   "metadata": {
    "execution": {
     "iopub.execute_input": "2021-10-09T15:00:08.198944Z",
     "iopub.status.busy": "2021-10-09T15:00:08.196752Z",
     "iopub.status.idle": "2021-10-09T15:00:08.909241Z",
     "shell.execute_reply": "2021-10-09T15:00:08.910536Z"
    },
    "papermill": {
     "duration": 0.745933,
     "end_time": "2021-10-09T15:00:08.911022",
     "exception": false,
     "start_time": "2021-10-09T15:00:08.165089",
     "status": "completed"
    },
    "tags": []
   },
   "outputs": [],
   "source": [
    "df = pd.read_sql(\"select * from EBAY_TOP_BERLIN where record_time in (select distinct record_time from EBAY_TOP_BERLIN order by record_time desc limit 2)\", sqlite3.connect(\"UsedObjects.db\"))"
   ]
  },
  {
   "cell_type": "code",
   "execution_count": 5,
   "id": "popular-active",
   "metadata": {
    "execution": {
     "iopub.execute_input": "2021-10-09T15:00:08.981474Z",
     "iopub.status.busy": "2021-10-09T15:00:08.968818Z",
     "iopub.status.idle": "2021-10-09T15:00:08.998973Z",
     "shell.execute_reply": "2021-10-09T15:00:09.000497Z"
    },
    "papermill": {
     "duration": 0.069815,
     "end_time": "2021-10-09T15:00:09.000965",
     "exception": false,
     "start_time": "2021-10-09T15:00:08.931150",
     "status": "completed"
    },
    "tags": []
   },
   "outputs": [],
   "source": [
    "df_pivot = df.pivot_table(index=\"PRODUCT\", columns = \"RECORD_TIME\", values = \"LISTING_COUNT\")"
   ]
  },
  {
   "cell_type": "code",
   "execution_count": 6,
   "id": "union-huntington",
   "metadata": {
    "execution": {
     "iopub.execute_input": "2021-10-09T15:00:09.058624Z",
     "iopub.status.busy": "2021-10-09T15:00:09.056296Z",
     "iopub.status.idle": "2021-10-09T15:00:09.062007Z",
     "shell.execute_reply": "2021-10-09T15:00:09.063358Z"
    },
    "papermill": {
     "duration": 0.04184,
     "end_time": "2021-10-09T15:00:09.063777",
     "exception": false,
     "start_time": "2021-10-09T15:00:09.021937",
     "status": "completed"
    },
    "tags": []
   },
   "outputs": [],
   "source": [
    "df_pivot.columns = [\"stamp_1\", \"stamp_2\"]\n",
    "df_pivot_diff = df_pivot.diff(axis=1)"
   ]
  },
  {
   "cell_type": "code",
   "execution_count": 7,
   "id": "fifth-motion",
   "metadata": {
    "execution": {
     "iopub.execute_input": "2021-10-09T15:00:09.117964Z",
     "iopub.status.busy": "2021-10-09T15:00:09.115778Z",
     "iopub.status.idle": "2021-10-09T15:00:10.645088Z",
     "shell.execute_reply": "2021-10-09T15:00:10.646372Z"
    },
    "papermill": {
     "duration": 1.562187,
     "end_time": "2021-10-09T15:00:10.646841",
     "exception": false,
     "start_time": "2021-10-09T15:00:09.084654",
     "status": "completed"
    },
    "tags": []
   },
   "outputs": [
    {
     "data": {
      "text/plain": [
       "<AxesSubplot:ylabel='PRODUCT'>"
      ]
     },
     "execution_count": 7,
     "metadata": {},
     "output_type": "execute_result"
    },
    {
     "data": {
      "image/png": "[encoded data removed]",
      "text/plain": [
       "<Figure size 432x288 with 1 Axes>"
      ]
     },
     "metadata": {
      "needs_background": "light"
     },
     "output_type": "display_data"
    }
   ],
   "source": [
    "df_pivot_diff.sort_values(\"stamp_2\", ascending = False)[\"stamp_2\"].head(10).plot.barh()"
   ]
  },
  {
   "cell_type": "code",
   "execution_count": null,
   "id": "extra-executive",
   "metadata": {
    "papermill": {
     "duration": 0.022001,
     "end_time": "2021-10-09T15:00:10.693842",
     "exception": false,
     "start_time": "2021-10-09T15:00:10.671841",
     "status": "completed"
    },
    "tags": []
   },
   "outputs": [],
   "source": []
  }
 ],
 "metadata": {
  "kernelspec": {
   "display_name": "Python 3",
   "language": "python",
   "name": "python3"
  },
  "language_info": {
   "codemirror_mode": {
    "name": "ipython",
    "version": 3
   },
   "file_extension": ".py",
   "mimetype": "text/x-python",
   "name": "python",
   "nbconvert_exporter": "python",
   "pygments_lexer": "ipython3",
   "version": "3.9.5"
  },
  "papermill": {
   "default_parameters": {},
   "duration": 7.850131,
   "end_time": "2021-10-09T15:00:12.085818",
   "environment_variables": {},
   "exception": null,
   "input_path": "eBay_Overview.ipynb",
   "output_path": "eBay_Overview.ipynb",
   "parameters": {},
   "start_time": "2021-10-09T15:00:04.235687",
   "version": "2.3.3"
  }
 },
 "nbformat": 4,
 "nbformat_minor": 5
}