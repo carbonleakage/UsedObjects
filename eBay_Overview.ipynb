{
 "cells": [
  {
   "cell_type": "code",
   "execution_count": 1,
   "id": "reverse-picking",
   "metadata": {
    "execution": {
     "iopub.execute_input": "2021-09-06T11:30:07.406128Z",
     "iopub.status.busy": "2021-09-06T11:30:07.404166Z",
     "iopub.status.idle": "2021-09-06T11:30:08.207615Z",
     "shell.execute_reply": "2021-09-06T11:30:08.209028Z"
    },
    "papermill": {
     "duration": 0.856068,
     "end_time": "2021-09-06T11:30:08.209678",
     "exception": false,
     "start_time": "2021-09-06T11:30:07.353610",
     "status": "completed"
    },
    "tags": []
   },
   "outputs": [],
   "source": [
    "import pandas as pd\n",
    "import sqlite3"
   ]
  },
  {
   "cell_type": "code",
   "execution_count": 2,
   "id": "innovative-syndrome",
   "metadata": {
    "execution": {
     "iopub.execute_input": "2021-09-06T11:30:08.259702Z",
     "iopub.status.busy": "2021-09-06T11:30:08.257734Z",
     "iopub.status.idle": "2021-09-06T11:30:08.476253Z",
     "shell.execute_reply": "2021-09-06T11:30:08.477628Z"
    },
    "papermill": {
     "duration": 0.248203,
     "end_time": "2021-09-06T11:30:08.478072",
     "exception": false,
     "start_time": "2021-09-06T11:30:08.229869",
     "status": "completed"
    },
    "tags": []
   },
   "outputs": [],
   "source": [
    "timestamps = pd.read_sql(\"select distinct record_time from EBAY_TOP_BERLIN order by record_time desc limit 2\", sqlite3.connect(\"UsedObjects.db\"))"
   ]
  },
  {
   "cell_type": "code",
   "execution_count": 3,
   "id": "periodic-identification",
   "metadata": {
    "execution": {
     "iopub.execute_input": "2021-09-06T11:30:08.544605Z",
     "iopub.status.busy": "2021-09-06T11:30:08.542503Z",
     "iopub.status.idle": "2021-09-06T11:30:08.564309Z",
     "shell.execute_reply": "2021-09-06T11:30:08.562734Z"
    },
    "papermill": {
     "duration": 0.066961,
     "end_time": "2021-09-06T11:30:08.564687",
     "exception": false,
     "start_time": "2021-09-06T11:30:08.497726",
     "status": "completed"
    },
    "tags": []
   },
   "outputs": [
    {
     "data": {
      "text/html": [
       "<div>\n",
       "<style scoped>\n",
       "    .dataframe tbody tr th:only-of-type {\n",
       "        vertical-align: middle;\n",
       "    }\n",
       "\n",
       "    .dataframe tbody tr th {\n",
       "        vertical-align: top;\n",
       "    }\n",
       "\n",
       "    .dataframe thead th {\n",
       "        text-align: right;\n",
       "    }\n",
       "</style>\n",
       "<table border=\"1\" class=\"dataframe\">\n",
       "  <thead>\n",
       "    <tr style=\"text-align: right;\">\n",
       "      <th></th>\n",
       "      <th>RECORD_TIME</th>\n",
       "    </tr>\n",
       "  </thead>\n",
       "  <tbody>\n",
       "    <tr>\n",
       "      <th>0</th>\n",
       "      <td>2021-09-06 13:30</td>\n",
       "    </tr>\n",
       "    <tr>\n",
       "      <th>1</th>\n",
       "      <td>2021-09-06 13:00</td>\n",
       "    </tr>\n",
       "  </tbody>\n",
       "</table>\n",
       "</div>"
      ],
      "text/plain": [
       "        RECORD_TIME\n",
       "0  2021-09-06 13:30\n",
       "1  2021-09-06 13:00"
      ]
     },
     "execution_count": 3,
     "metadata": {},
     "output_type": "execute_result"
    }
   ],
   "source": [
    "timestamps"
   ]
  },
  {
   "cell_type": "code",
   "execution_count": 4,
   "id": "alternate-victory",
   "metadata": {
    "execution": {
     "iopub.execute_input": "2021-09-06T11:30:08.615582Z",
     "iopub.status.busy": "2021-09-06T11:30:08.613590Z",
     "iopub.status.idle": "2021-09-06T11:30:08.948191Z",
     "shell.execute_reply": "2021-09-06T11:30:08.949413Z"
    },
    "papermill": {
     "duration": 0.364244,
     "end_time": "2021-09-06T11:30:08.949822",
     "exception": false,
     "start_time": "2021-09-06T11:30:08.585578",
     "status": "completed"
    },
    "tags": []
   },
   "outputs": [],
   "source": [
    "df = pd.read_sql(\"select * from EBAY_TOP_BERLIN where record_time in (select distinct record_time from EBAY_TOP_BERLIN order by record_time desc limit 2)\", sqlite3.connect(\"UsedObjects.db\"))"
   ]
  },
  {
   "cell_type": "code",
   "execution_count": 5,
   "id": "popular-active",
   "metadata": {
    "execution": {
     "iopub.execute_input": "2021-09-06T11:30:09.031736Z",
     "iopub.status.busy": "2021-09-06T11:30:09.020037Z",
     "iopub.status.idle": "2021-09-06T11:30:09.046923Z",
     "shell.execute_reply": "2021-09-06T11:30:09.048176Z"
    },
    "papermill": {
     "duration": 0.070162,
     "end_time": "2021-09-06T11:30:09.048577",
     "exception": false,
     "start_time": "2021-09-06T11:30:08.978415",
     "status": "completed"
    },
    "tags": []
   },
   "outputs": [],
   "source": [
    "df_pivot = df.pivot_table(index=\"PRODUCT\", columns = \"RECORD_TIME\", values = \"LISTING_COUNT\")"
   ]
  },
  {
   "cell_type": "code",
   "execution_count": 6,
   "id": "union-huntington",
   "metadata": {
    "execution": {
     "iopub.execute_input": "2021-09-06T11:30:09.104135Z",
     "iopub.status.busy": "2021-09-06T11:30:09.102043Z",
     "iopub.status.idle": "2021-09-06T11:30:09.108819Z",
     "shell.execute_reply": "2021-09-06T11:30:09.107502Z"
    },
    "papermill": {
     "duration": 0.040107,
     "end_time": "2021-09-06T11:30:09.109197",
     "exception": false,
     "start_time": "2021-09-06T11:30:09.069090",
     "status": "completed"
    },
    "tags": []
   },
   "outputs": [],
   "source": [
    "df_pivot.columns = [\"stamp_1\", \"stamp_2\"]\n",
    "df_pivot_diff = df_pivot.diff(axis=1)"
   ]
  },
  {
   "cell_type": "code",
   "execution_count": 7,
   "id": "fifth-motion",
   "metadata": {
    "execution": {
     "iopub.execute_input": "2021-09-06T11:30:09.162620Z",
     "iopub.status.busy": "2021-09-06T11:30:09.160243Z",
     "iopub.status.idle": "2021-09-06T11:30:10.650815Z",
     "shell.execute_reply": "2021-09-06T11:30:10.652163Z"
    },
    "papermill": {
     "duration": 1.523223,
     "end_time": "2021-09-06T11:30:10.652590",
     "exception": false,
     "start_time": "2021-09-06T11:30:09.129367",
     "status": "completed"
    },
    "tags": []
   },
   "outputs": [
    {
     "data": {
      "text/plain": [
       "<AxesSubplot:ylabel='PRODUCT'>"
      ]
     },
     "execution_count": 7,
     "metadata": {},
     "output_type": "execute_result"
    },
    {
     "data": {
      "image/png": "[encoded data removed]",
      "text/plain": [
       "<Figure size 432x288 with 1 Axes>"
      ]
     },
     "metadata": {
      "needs_background": "light"
     },
     "output_type": "display_data"
    }
   ],
   "source": [
    "df_pivot_diff.sort_values(\"stamp_2\", ascending = False)[\"stamp_2\"].head(10).plot.barh()"
   ]
  },
  {
   "cell_type": "code",
   "execution_count": null,
   "id": "extra-executive",
   "metadata": {
    "papermill": {
     "duration": 0.022081,
     "end_time": "2021-09-06T11:30:10.699233",
     "exception": false,
     "start_time": "2021-09-06T11:30:10.677152",
     "status": "completed"
    },
    "tags": []
   },
   "outputs": [],
   "source": []
  }
 ],
 "metadata": {
  "kernelspec": {
   "display_name": "Python 3",
   "language": "python",
   "name": "python3"
  },
  "language_info": {
   "codemirror_mode": {
    "name": "ipython",
    "version": 3
   },
   "file_extension": ".py",
   "mimetype": "text/x-python",
   "name": "python",
   "nbconvert_exporter": "python",
   "pygments_lexer": "ipython3",
   "version": "3.9.5"
  },
  "papermill": {
   "default_parameters": {},
   "duration": 6.39545,
   "end_time": "2021-09-06T11:30:11.342125",
   "environment_variables": {},
   "exception": null,
   "input_path": "eBay_Overview.ipynb",
   "output_path": "eBay_Overview.ipynb",
   "parameters": {},
   "start_time": "2021-09-06T11:30:04.946675",
   "version": "2.3.3"
  }
 },
 "nbformat": 4,
 "nbformat_minor": 5
}