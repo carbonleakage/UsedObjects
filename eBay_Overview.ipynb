{
 "cells": [
  {
   "cell_type": "code",
   "execution_count": 1,
   "id": "reverse-picking",
   "metadata": {
    "execution": {
     "iopub.execute_input": "2021-11-03T03:00:07.991307Z",
     "iopub.status.busy": "2021-11-03T03:00:07.980830Z",
     "iopub.status.idle": "2021-11-03T03:00:08.933900Z",
     "shell.execute_reply": "2021-11-03T03:00:08.935500Z"
    },
    "papermill": {
     "duration": 0.999822,
     "end_time": "2021-11-03T03:00:08.936326",
     "exception": false,
     "start_time": "2021-11-03T03:00:07.936504",
     "status": "completed"
    },
    "tags": []
   },
   "outputs": [],
   "source": [
    "import pandas as pd\n",
    "import sqlite3"
   ]
  },
  {
   "cell_type": "code",
   "execution_count": 2,
   "id": "innovative-syndrome",
   "metadata": {
    "execution": {
     "iopub.execute_input": "2021-11-03T03:00:08.993093Z",
     "iopub.status.busy": "2021-11-03T03:00:08.990764Z",
     "iopub.status.idle": "2021-11-03T03:00:09.691079Z",
     "shell.execute_reply": "2021-11-03T03:00:09.692623Z"
    },
    "papermill": {
     "duration": 0.736048,
     "end_time": "2021-11-03T03:00:09.693163",
     "exception": false,
     "start_time": "2021-11-03T03:00:08.957115",
     "status": "completed"
    },
    "tags": []
   },
   "outputs": [],
   "source": [
    "timestamps = pd.read_sql(\"select distinct record_time from EBAY_TOP_BERLIN order by record_time desc limit 2\", sqlite3.connect(\"UsedObjects.db\"))"
   ]
  },
  {
   "cell_type": "code",
   "execution_count": 3,
   "id": "periodic-identification",
   "metadata": {
    "execution": {
     "iopub.execute_input": "2021-11-03T03:00:09.766001Z",
     "iopub.status.busy": "2021-11-03T03:00:09.763636Z",
     "iopub.status.idle": "2021-11-03T03:00:09.784803Z",
     "shell.execute_reply": "2021-11-03T03:00:09.786194Z"
    },
    "papermill": {
     "duration": 0.073227,
     "end_time": "2021-11-03T03:00:09.786625",
     "exception": false,
     "start_time": "2021-11-03T03:00:09.713398",
     "status": "completed"
    },
    "tags": []
   },
   "outputs": [
    {
     "data": {
      "text/html": [
       "<div>\n",
       "<style scoped>\n",
       "    .dataframe tbody tr th:only-of-type {\n",
       "        vertical-align: middle;\n",
       "    }\n",
       "\n",
       "    .dataframe tbody tr th {\n",
       "        vertical-align: top;\n",
       "    }\n",
       "\n",
       "    .dataframe thead th {\n",
       "        text-align: right;\n",
       "    }\n",
       "</style>\n",
       "<table border=\"1\" class=\"dataframe\">\n",
       "  <thead>\n",
       "    <tr style=\"text-align: right;\">\n",
       "      <th></th>\n",
       "      <th>RECORD_TIME</th>\n",
       "    </tr>\n",
       "  </thead>\n",
       "  <tbody>\n",
       "    <tr>\n",
       "      <th>0</th>\n",
       "      <td>2021-11-03 04:00</td>\n",
       "    </tr>\n",
       "    <tr>\n",
       "      <th>1</th>\n",
       "      <td>2021-11-03 03:30</td>\n",
       "    </tr>\n",
       "  </tbody>\n",
       "</table>\n",
       "</div>"
      ],
      "text/plain": [
       "        RECORD_TIME\n",
       "0  2021-11-03 04:00\n",
       "1  2021-11-03 03:30"
      ]
     },
     "execution_count": 3,
     "metadata": {},
     "output_type": "execute_result"
    }
   ],
   "source": [
    "timestamps"
   ]
  },
  {
   "cell_type": "code",
   "execution_count": 4,
   "id": "alternate-victory",
   "metadata": {
    "execution": {
     "iopub.execute_input": "2021-11-03T03:00:09.840134Z",
     "iopub.status.busy": "2021-11-03T03:00:09.838059Z",
     "iopub.status.idle": "2021-11-03T03:00:10.863506Z",
     "shell.execute_reply": "2021-11-03T03:00:10.865465Z"
    },
    "papermill": {
     "duration": 1.058605,
     "end_time": "2021-11-03T03:00:10.865963",
     "exception": false,
     "start_time": "2021-11-03T03:00:09.807358",
     "status": "completed"
    },
    "tags": []
   },
   "outputs": [],
   "source": [
    "df = pd.read_sql(\"select * from EBAY_TOP_BERLIN where record_time in (select distinct record_time from EBAY_TOP_BERLIN order by record_time desc limit 2)\", sqlite3.connect(\"UsedObjects.db\"))"
   ]
  },
  {
   "cell_type": "code",
   "execution_count": 5,
   "id": "popular-active",
   "metadata": {
    "execution": {
     "iopub.execute_input": "2021-11-03T03:00:10.930810Z",
     "iopub.status.busy": "2021-11-03T03:00:10.928326Z",
     "iopub.status.idle": "2021-11-03T03:00:10.961190Z",
     "shell.execute_reply": "2021-11-03T03:00:10.962843Z"
    },
    "papermill": {
     "duration": 0.076258,
     "end_time": "2021-11-03T03:00:10.963345",
     "exception": false,
     "start_time": "2021-11-03T03:00:10.887087",
     "status": "completed"
    },
    "tags": []
   },
   "outputs": [],
   "source": [
    "df_pivot = df.pivot_table(index=\"PRODUCT\", columns = \"RECORD_TIME\", values = \"LISTING_COUNT\")"
   ]
  },
  {
   "cell_type": "code",
   "execution_count": 6,
   "id": "union-huntington",
   "metadata": {
    "execution": {
     "iopub.execute_input": "2021-11-03T03:00:11.025156Z",
     "iopub.status.busy": "2021-11-03T03:00:11.022858Z",
     "iopub.status.idle": "2021-11-03T03:00:11.028380Z",
     "shell.execute_reply": "2021-11-03T03:00:11.029857Z"
    },
    "papermill": {
     "duration": 0.046124,
     "end_time": "2021-11-03T03:00:11.030358",
     "exception": false,
     "start_time": "2021-11-03T03:00:10.984234",
     "status": "completed"
    },
    "tags": []
   },
   "outputs": [],
   "source": [
    "df_pivot.columns = [\"stamp_1\", \"stamp_2\"]\n",
    "df_pivot_diff = df_pivot.diff(axis=1)"
   ]
  },
  {
   "cell_type": "code",
   "execution_count": 7,
   "id": "fifth-motion",
   "metadata": {
    "execution": {
     "iopub.execute_input": "2021-11-03T03:00:11.088924Z",
     "iopub.status.busy": "2021-11-03T03:00:11.086189Z",
     "iopub.status.idle": "2021-11-03T03:00:12.820076Z",
     "shell.execute_reply": "2021-11-03T03:00:12.823044Z"
    },
    "papermill": {
     "duration": 1.772448,
     "end_time": "2021-11-03T03:00:12.823929",
     "exception": false,
     "start_time": "2021-11-03T03:00:11.051481",
     "status": "completed"
    },
    "tags": []
   },
   "outputs": [
    {
     "data": {
      "text/plain": [
       "<AxesSubplot:ylabel='PRODUCT'>"
      ]
     },
     "execution_count": 7,
     "metadata": {},
     "output_type": "execute_result"
    },
    {
     "data": {
      "image/png": "[encoded data removed]",
      "text/plain": [
       "<Figure size 432x288 with 1 Axes>"
      ]
     },
     "metadata": {
      "needs_background": "light"
     },
     "output_type": "display_data"
    }
   ],
   "source": [
    "df_pivot_diff.sort_values(\"stamp_2\", ascending = False)[\"stamp_2\"].head(10).plot.barh()"
   ]
  },
  {
   "cell_type": "code",
   "execution_count": null,
   "id": "extra-executive",
   "metadata": {
    "papermill": {
     "duration": 0.034838,
     "end_time": "2021-11-03T03:00:12.897017",
     "exception": false,
     "start_time": "2021-11-03T03:00:12.862179",
     "status": "completed"
    },
    "tags": []
   },
   "outputs": [],
   "source": []
  }
 ],
 "metadata": {
  "kernelspec": {
   "display_name": "Python 3",
   "language": "python",
   "name": "python3"
  },
  "language_info": {
   "codemirror_mode": {
    "name": "ipython",
    "version": 3
   },
   "file_extension": ".py",
   "mimetype": "text/x-python",
   "name": "python",
   "nbconvert_exporter": "python",
   "pygments_lexer": "ipython3",
   "version": "3.9.5"
  },
  "papermill": {
   "default_parameters": {},
   "duration": 8.97702,
   "end_time": "2021-11-03T03:00:14.146849",
   "environment_variables": {},
   "exception": null,
   "input_path": "eBay_Overview.ipynb",
   "output_path": "eBay_Overview.ipynb",
   "parameters": {},
   "start_time": "2021-11-03T03:00:05.169829",
   "version": "2.3.3"
  }
 },
 "nbformat": 4,
 "nbformat_minor": 5
}