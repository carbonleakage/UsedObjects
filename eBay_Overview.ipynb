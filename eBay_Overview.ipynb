{
 "cells": [
  {
   "cell_type": "code",
   "execution_count": 1,
   "id": "reverse-picking",
   "metadata": {
    "execution": {
     "iopub.execute_input": "2021-10-11T00:00:07.331582Z",
     "iopub.status.busy": "2021-10-11T00:00:07.329564Z",
     "iopub.status.idle": "2021-10-11T00:00:08.130490Z",
     "shell.execute_reply": "2021-10-11T00:00:08.131890Z"
    },
    "papermill": {
     "duration": 0.850585,
     "end_time": "2021-10-11T00:00:08.132541",
     "exception": false,
     "start_time": "2021-10-11T00:00:07.281956",
     "status": "completed"
    },
    "tags": []
   },
   "outputs": [],
   "source": [
    "import pandas as pd\n",
    "import sqlite3"
   ]
  },
  {
   "cell_type": "code",
   "execution_count": 2,
   "id": "innovative-syndrome",
   "metadata": {
    "execution": {
     "iopub.execute_input": "2021-10-11T00:00:08.183458Z",
     "iopub.status.busy": "2021-10-11T00:00:08.181445Z",
     "iopub.status.idle": "2021-10-11T00:00:08.686863Z",
     "shell.execute_reply": "2021-10-11T00:00:08.688102Z"
    },
    "papermill": {
     "duration": 0.535415,
     "end_time": "2021-10-11T00:00:08.688501",
     "exception": false,
     "start_time": "2021-10-11T00:00:08.153086",
     "status": "completed"
    },
    "tags": []
   },
   "outputs": [],
   "source": [
    "timestamps = pd.read_sql(\"select distinct record_time from EBAY_TOP_BERLIN order by record_time desc limit 2\", sqlite3.connect(\"UsedObjects.db\"))"
   ]
  },
  {
   "cell_type": "code",
   "execution_count": 3,
   "id": "periodic-identification",
   "metadata": {
    "execution": {
     "iopub.execute_input": "2021-10-11T00:00:08.760526Z",
     "iopub.status.busy": "2021-10-11T00:00:08.754349Z",
     "iopub.status.idle": "2021-10-11T00:00:08.776988Z",
     "shell.execute_reply": "2021-10-11T00:00:08.778188Z"
    },
    "papermill": {
     "duration": 0.067142,
     "end_time": "2021-10-11T00:00:08.778584",
     "exception": false,
     "start_time": "2021-10-11T00:00:08.711442",
     "status": "completed"
    },
    "tags": []
   },
   "outputs": [
    {
     "data": {
      "text/html": [
       "<div>\n",
       "<style scoped>\n",
       "    .dataframe tbody tr th:only-of-type {\n",
       "        vertical-align: middle;\n",
       "    }\n",
       "\n",
       "    .dataframe tbody tr th {\n",
       "        vertical-align: top;\n",
       "    }\n",
       "\n",
       "    .dataframe thead th {\n",
       "        text-align: right;\n",
       "    }\n",
       "</style>\n",
       "<table border=\"1\" class=\"dataframe\">\n",
       "  <thead>\n",
       "    <tr style=\"text-align: right;\">\n",
       "      <th></th>\n",
       "      <th>RECORD_TIME</th>\n",
       "    </tr>\n",
       "  </thead>\n",
       "  <tbody>\n",
       "    <tr>\n",
       "      <th>0</th>\n",
       "      <td>2021-10-11 02:00</td>\n",
       "    </tr>\n",
       "    <tr>\n",
       "      <th>1</th>\n",
       "      <td>2021-10-11 01:30</td>\n",
       "    </tr>\n",
       "  </tbody>\n",
       "</table>\n",
       "</div>"
      ],
      "text/plain": [
       "        RECORD_TIME\n",
       "0  2021-10-11 02:00\n",
       "1  2021-10-11 01:30"
      ]
     },
     "execution_count": 3,
     "metadata": {},
     "output_type": "execute_result"
    }
   ],
   "source": [
    "timestamps"
   ]
  },
  {
   "cell_type": "code",
   "execution_count": 4,
   "id": "alternate-victory",
   "metadata": {
    "execution": {
     "iopub.execute_input": "2021-10-11T00:00:08.844182Z",
     "iopub.status.busy": "2021-10-11T00:00:08.842042Z",
     "iopub.status.idle": "2021-10-11T00:00:09.622986Z",
     "shell.execute_reply": "2021-10-11T00:00:09.624166Z"
    },
    "papermill": {
     "duration": 0.815694,
     "end_time": "2021-10-11T00:00:09.624582",
     "exception": false,
     "start_time": "2021-10-11T00:00:08.808888",
     "status": "completed"
    },
    "tags": []
   },
   "outputs": [],
   "source": [
    "df = pd.read_sql(\"select * from EBAY_TOP_BERLIN where record_time in (select distinct record_time from EBAY_TOP_BERLIN order by record_time desc limit 2)\", sqlite3.connect(\"UsedObjects.db\"))"
   ]
  },
  {
   "cell_type": "code",
   "execution_count": 5,
   "id": "popular-active",
   "metadata": {
    "execution": {
     "iopub.execute_input": "2021-10-11T00:00:09.698969Z",
     "iopub.status.busy": "2021-10-11T00:00:09.687568Z",
     "iopub.status.idle": "2021-10-11T00:00:09.715780Z",
     "shell.execute_reply": "2021-10-11T00:00:09.717008Z"
    },
    "papermill": {
     "duration": 0.069013,
     "end_time": "2021-10-11T00:00:09.717403",
     "exception": false,
     "start_time": "2021-10-11T00:00:09.648390",
     "status": "completed"
    },
    "tags": []
   },
   "outputs": [],
   "source": [
    "df_pivot = df.pivot_table(index=\"PRODUCT\", columns = \"RECORD_TIME\", values = \"LISTING_COUNT\")"
   ]
  },
  {
   "cell_type": "code",
   "execution_count": 6,
   "id": "union-huntington",
   "metadata": {
    "execution": {
     "iopub.execute_input": "2021-10-11T00:00:09.776377Z",
     "iopub.status.busy": "2021-10-11T00:00:09.773914Z",
     "iopub.status.idle": "2021-10-11T00:00:09.779923Z",
     "shell.execute_reply": "2021-10-11T00:00:09.781233Z"
    },
    "papermill": {
     "duration": 0.042586,
     "end_time": "2021-10-11T00:00:09.781649",
     "exception": false,
     "start_time": "2021-10-11T00:00:09.739063",
     "status": "completed"
    },
    "tags": []
   },
   "outputs": [],
   "source": [
    "df_pivot.columns = [\"stamp_1\", \"stamp_2\"]\n",
    "df_pivot_diff = df_pivot.diff(axis=1)"
   ]
  },
  {
   "cell_type": "code",
   "execution_count": 7,
   "id": "fifth-motion",
   "metadata": {
    "execution": {
     "iopub.execute_input": "2021-10-11T00:00:09.836463Z",
     "iopub.status.busy": "2021-10-11T00:00:09.834041Z",
     "iopub.status.idle": "2021-10-11T00:00:11.335466Z",
     "shell.execute_reply": "2021-10-11T00:00:11.336752Z"
    },
    "papermill": {
     "duration": 1.534545,
     "end_time": "2021-10-11T00:00:11.337168",
     "exception": false,
     "start_time": "2021-10-11T00:00:09.802623",
     "status": "completed"
    },
    "tags": []
   },
   "outputs": [
    {
     "data": {
      "text/plain": [
       "<AxesSubplot:ylabel='PRODUCT'>"
      ]
     },
     "execution_count": 7,
     "metadata": {},
     "output_type": "execute_result"
    },
    {
     "data": {
      "image/png": "[encoded data removed]",
      "text/plain": [
       "<Figure size 432x288 with 1 Axes>"
      ]
     },
     "metadata": {
      "needs_background": "light"
     },
     "output_type": "display_data"
    }
   ],
   "source": [
    "df_pivot_diff.sort_values(\"stamp_2\", ascending = False)[\"stamp_2\"].head(10).plot.barh()"
   ]
  },
  {
   "cell_type": "code",
   "execution_count": null,
   "id": "extra-executive",
   "metadata": {
    "papermill": {
     "duration": 0.022489,
     "end_time": "2021-10-11T00:00:11.385541",
     "exception": false,
     "start_time": "2021-10-11T00:00:11.363052",
     "status": "completed"
    },
    "tags": []
   },
   "outputs": [],
   "source": []
  }
 ],
 "metadata": {
  "kernelspec": {
   "display_name": "Python 3",
   "language": "python",
   "name": "python3"
  },
  "language_info": {
   "codemirror_mode": {
    "name": "ipython",
    "version": 3
   },
   "file_extension": ".py",
   "mimetype": "text/x-python",
   "name": "python",
   "nbconvert_exporter": "python",
   "pygments_lexer": "ipython3",
   "version": "3.9.5"
  },
  "papermill": {
   "default_parameters": {},
   "duration": 7.832738,
   "end_time": "2021-10-11T00:00:12.714726",
   "environment_variables": {},
   "exception": null,
   "input_path": "eBay_Overview.ipynb",
   "output_path": "eBay_Overview.ipynb",
   "parameters": {},
   "start_time": "2021-10-11T00:00:04.881988",
   "version": "2.3.3"
  }
 },
 "nbformat": 4,
 "nbformat_minor": 5
}