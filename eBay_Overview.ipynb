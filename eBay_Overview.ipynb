{
 "cells": [
  {
   "cell_type": "code",
   "execution_count": 1,
   "id": "reverse-picking",
   "metadata": {
    "execution": {
     "iopub.execute_input": "2021-11-14T07:30:07.666497Z",
     "iopub.status.busy": "2021-11-14T07:30:07.663788Z",
     "iopub.status.idle": "2021-11-14T07:30:08.623616Z",
     "shell.execute_reply": "2021-11-14T07:30:08.625272Z"
    },
    "papermill": {
     "duration": 1.010626,
     "end_time": "2021-11-14T07:30:08.626044",
     "exception": false,
     "start_time": "2021-11-14T07:30:07.615418",
     "status": "completed"
    },
    "tags": []
   },
   "outputs": [],
   "source": [
    "import pandas as pd\n",
    "import sqlite3"
   ]
  },
  {
   "cell_type": "code",
   "execution_count": 2,
   "id": "innovative-syndrome",
   "metadata": {
    "execution": {
     "iopub.execute_input": "2021-11-14T07:30:08.688005Z",
     "iopub.status.busy": "2021-11-14T07:30:08.685782Z",
     "iopub.status.idle": "2021-11-14T07:30:09.493852Z",
     "shell.execute_reply": "2021-11-14T07:30:09.496045Z"
    },
    "papermill": {
     "duration": 0.843006,
     "end_time": "2021-11-14T07:30:09.496535",
     "exception": false,
     "start_time": "2021-11-14T07:30:08.653529",
     "status": "completed"
    },
    "tags": []
   },
   "outputs": [],
   "source": [
    "timestamps = pd.read_sql(\"select distinct record_time from EBAY_TOP_BERLIN order by record_time desc limit 2\", sqlite3.connect(\"UsedObjects.db\"))"
   ]
  },
  {
   "cell_type": "code",
   "execution_count": 3,
   "id": "periodic-identification",
   "metadata": {
    "execution": {
     "iopub.execute_input": "2021-11-14T07:30:09.568770Z",
     "iopub.status.busy": "2021-11-14T07:30:09.560645Z",
     "iopub.status.idle": "2021-11-14T07:30:09.591025Z",
     "shell.execute_reply": "2021-11-14T07:30:09.592624Z"
    },
    "papermill": {
     "duration": 0.076235,
     "end_time": "2021-11-14T07:30:09.593177",
     "exception": false,
     "start_time": "2021-11-14T07:30:09.516942",
     "status": "completed"
    },
    "tags": []
   },
   "outputs": [
    {
     "data": {
      "text/html": [
       "<div>\n",
       "<style scoped>\n",
       "    .dataframe tbody tr th:only-of-type {\n",
       "        vertical-align: middle;\n",
       "    }\n",
       "\n",
       "    .dataframe tbody tr th {\n",
       "        vertical-align: top;\n",
       "    }\n",
       "\n",
       "    .dataframe thead th {\n",
       "        text-align: right;\n",
       "    }\n",
       "</style>\n",
       "<table border=\"1\" class=\"dataframe\">\n",
       "  <thead>\n",
       "    <tr style=\"text-align: right;\">\n",
       "      <th></th>\n",
       "      <th>RECORD_TIME</th>\n",
       "    </tr>\n",
       "  </thead>\n",
       "  <tbody>\n",
       "    <tr>\n",
       "      <th>0</th>\n",
       "      <td>2021-11-14 08:30</td>\n",
       "    </tr>\n",
       "    <tr>\n",
       "      <th>1</th>\n",
       "      <td>2021-11-14 08:00</td>\n",
       "    </tr>\n",
       "  </tbody>\n",
       "</table>\n",
       "</div>"
      ],
      "text/plain": [
       "        RECORD_TIME\n",
       "0  2021-11-14 08:30\n",
       "1  2021-11-14 08:00"
      ]
     },
     "execution_count": 3,
     "metadata": {},
     "output_type": "execute_result"
    }
   ],
   "source": [
    "timestamps"
   ]
  },
  {
   "cell_type": "code",
   "execution_count": 4,
   "id": "alternate-victory",
   "metadata": {
    "execution": {
     "iopub.execute_input": "2021-11-14T07:30:09.650657Z",
     "iopub.status.busy": "2021-11-14T07:30:09.648242Z",
     "iopub.status.idle": "2021-11-14T07:30:10.855879Z",
     "shell.execute_reply": "2021-11-14T07:30:10.857456Z"
    },
    "papermill": {
     "duration": 1.241655,
     "end_time": "2021-11-14T07:30:10.857967",
     "exception": false,
     "start_time": "2021-11-14T07:30:09.616312",
     "status": "completed"
    },
    "tags": []
   },
   "outputs": [],
   "source": [
    "df = pd.read_sql(\"select * from EBAY_TOP_BERLIN where record_time in (select distinct record_time from EBAY_TOP_BERLIN order by record_time desc limit 2)\", sqlite3.connect(\"UsedObjects.db\"))"
   ]
  },
  {
   "cell_type": "code",
   "execution_count": 5,
   "id": "popular-active",
   "metadata": {
    "execution": {
     "iopub.execute_input": "2021-11-14T07:30:10.940590Z",
     "iopub.status.busy": "2021-11-14T07:30:10.925010Z",
     "iopub.status.idle": "2021-11-14T07:30:10.957715Z",
     "shell.execute_reply": "2021-11-14T07:30:10.959002Z"
    },
    "papermill": {
     "duration": 0.078575,
     "end_time": "2021-11-14T07:30:10.959446",
     "exception": false,
     "start_time": "2021-11-14T07:30:10.880871",
     "status": "completed"
    },
    "tags": []
   },
   "outputs": [],
   "source": [
    "df_pivot = df.pivot_table(index=\"PRODUCT\", columns = \"RECORD_TIME\", values = \"LISTING_COUNT\")"
   ]
  },
  {
   "cell_type": "code",
   "execution_count": 6,
   "id": "union-huntington",
   "metadata": {
    "execution": {
     "iopub.execute_input": "2021-11-14T07:30:11.020537Z",
     "iopub.status.busy": "2021-11-14T07:30:11.018069Z",
     "iopub.status.idle": "2021-11-14T07:30:11.023594Z",
     "shell.execute_reply": "2021-11-14T07:30:11.025517Z"
    },
    "papermill": {
     "duration": 0.044545,
     "end_time": "2021-11-14T07:30:11.026016",
     "exception": false,
     "start_time": "2021-11-14T07:30:10.981471",
     "status": "completed"
    },
    "tags": []
   },
   "outputs": [],
   "source": [
    "df_pivot.columns = [\"stamp_1\", \"stamp_2\"]\n",
    "df_pivot_diff = df_pivot.diff(axis=1)"
   ]
  },
  {
   "cell_type": "code",
   "execution_count": 7,
   "id": "fifth-motion",
   "metadata": {
    "execution": {
     "iopub.execute_input": "2021-11-14T07:30:11.086621Z",
     "iopub.status.busy": "2021-11-14T07:30:11.083784Z",
     "iopub.status.idle": "2021-11-14T07:30:13.049568Z",
     "shell.execute_reply": "2021-11-14T07:30:13.051067Z"
    },
    "papermill": {
     "duration": 2.004673,
     "end_time": "2021-11-14T07:30:13.051534",
     "exception": false,
     "start_time": "2021-11-14T07:30:11.046861",
     "status": "completed"
    },
    "tags": []
   },
   "outputs": [
    {
     "data": {
      "text/plain": [
       "<AxesSubplot:ylabel='PRODUCT'>"
      ]
     },
     "execution_count": 7,
     "metadata": {},
     "output_type": "execute_result"
    },
    {
     "data": {
      "image/png": "[encoded data removed]",
      "text/plain": [
       "<Figure size 432x288 with 1 Axes>"
      ]
     },
     "metadata": {
      "needs_background": "light"
     },
     "output_type": "display_data"
    }
   ],
   "source": [
    "df_pivot_diff.sort_values(\"stamp_2\", ascending = False)[\"stamp_2\"].head(10).plot.barh()"
   ]
  },
  {
   "cell_type": "code",
   "execution_count": null,
   "id": "extra-executive",
   "metadata": {
    "papermill": {
     "duration": 0.023819,
     "end_time": "2021-11-14T07:30:13.100052",
     "exception": false,
     "start_time": "2021-11-14T07:30:13.076233",
     "status": "completed"
    },
    "tags": []
   },
   "outputs": [],
   "source": []
  }
 ],
 "metadata": {
  "kernelspec": {
   "display_name": "Python 3",
   "language": "python",
   "name": "python3"
  },
  "language_info": {
   "codemirror_mode": {
    "name": "ipython",
    "version": 3
   },
   "file_extension": ".py",
   "mimetype": "text/x-python",
   "name": "python",
   "nbconvert_exporter": "python",
   "pygments_lexer": "ipython3",
   "version": "3.9.5"
  },
  "papermill": {
   "default_parameters": {},
   "duration": 9.951253,
   "end_time": "2021-11-14T07:30:14.815544",
   "environment_variables": {},
   "exception": null,
   "input_path": "eBay_Overview.ipynb",
   "output_path": "eBay_Overview.ipynb",
   "parameters": {},
   "start_time": "2021-11-14T07:30:04.864291",
   "version": "2.3.3"
  }
 },
 "nbformat": 4,
 "nbformat_minor": 5
}