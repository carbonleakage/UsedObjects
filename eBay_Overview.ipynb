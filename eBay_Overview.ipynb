{
 "cells": [
  {
   "cell_type": "code",
   "execution_count": 1,
   "id": "reverse-picking",
   "metadata": {
    "execution": {
     "iopub.execute_input": "2021-10-23T12:00:07.003213Z",
     "iopub.status.busy": "2021-10-23T12:00:07.001301Z",
     "iopub.status.idle": "2021-10-23T12:00:07.807582Z",
     "shell.execute_reply": "2021-10-23T12:00:07.808924Z"
    },
    "papermill": {
     "duration": 0.85605,
     "end_time": "2021-10-23T12:00:07.809569",
     "exception": false,
     "start_time": "2021-10-23T12:00:06.953519",
     "status": "completed"
    },
    "tags": []
   },
   "outputs": [],
   "source": [
    "import pandas as pd\n",
    "import sqlite3"
   ]
  },
  {
   "cell_type": "code",
   "execution_count": 2,
   "id": "innovative-syndrome",
   "metadata": {
    "execution": {
     "iopub.execute_input": "2021-10-23T12:00:07.859699Z",
     "iopub.status.busy": "2021-10-23T12:00:07.857799Z",
     "iopub.status.idle": "2021-10-23T12:00:08.460611Z",
     "shell.execute_reply": "2021-10-23T12:00:08.462049Z"
    },
    "papermill": {
     "duration": 0.632335,
     "end_time": "2021-10-23T12:00:08.462500",
     "exception": false,
     "start_time": "2021-10-23T12:00:07.830165",
     "status": "completed"
    },
    "tags": []
   },
   "outputs": [],
   "source": [
    "timestamps = pd.read_sql(\"select distinct record_time from EBAY_TOP_BERLIN order by record_time desc limit 2\", sqlite3.connect(\"UsedObjects.db\"))"
   ]
  },
  {
   "cell_type": "code",
   "execution_count": 3,
   "id": "periodic-identification",
   "metadata": {
    "execution": {
     "iopub.execute_input": "2021-10-23T12:00:08.536029Z",
     "iopub.status.busy": "2021-10-23T12:00:08.534015Z",
     "iopub.status.idle": "2021-10-23T12:00:08.553969Z",
     "shell.execute_reply": "2021-10-23T12:00:08.555264Z"
    },
    "papermill": {
     "duration": 0.068633,
     "end_time": "2021-10-23T12:00:08.555726",
     "exception": false,
     "start_time": "2021-10-23T12:00:08.487093",
     "status": "completed"
    },
    "tags": []
   },
   "outputs": [
    {
     "data": {
      "text/html": [
       "<div>\n",
       "<style scoped>\n",
       "    .dataframe tbody tr th:only-of-type {\n",
       "        vertical-align: middle;\n",
       "    }\n",
       "\n",
       "    .dataframe tbody tr th {\n",
       "        vertical-align: top;\n",
       "    }\n",
       "\n",
       "    .dataframe thead th {\n",
       "        text-align: right;\n",
       "    }\n",
       "</style>\n",
       "<table border=\"1\" class=\"dataframe\">\n",
       "  <thead>\n",
       "    <tr style=\"text-align: right;\">\n",
       "      <th></th>\n",
       "      <th>RECORD_TIME</th>\n",
       "    </tr>\n",
       "  </thead>\n",
       "  <tbody>\n",
       "    <tr>\n",
       "      <th>0</th>\n",
       "      <td>2021-10-23 14:00</td>\n",
       "    </tr>\n",
       "    <tr>\n",
       "      <th>1</th>\n",
       "      <td>2021-10-23 13:30</td>\n",
       "    </tr>\n",
       "  </tbody>\n",
       "</table>\n",
       "</div>"
      ],
      "text/plain": [
       "        RECORD_TIME\n",
       "0  2021-10-23 14:00\n",
       "1  2021-10-23 13:30"
      ]
     },
     "execution_count": 3,
     "metadata": {},
     "output_type": "execute_result"
    }
   ],
   "source": [
    "timestamps"
   ]
  },
  {
   "cell_type": "code",
   "execution_count": 4,
   "id": "alternate-victory",
   "metadata": {
    "execution": {
     "iopub.execute_input": "2021-10-23T12:00:08.606685Z",
     "iopub.status.busy": "2021-10-23T12:00:08.604461Z",
     "iopub.status.idle": "2021-10-23T12:00:09.498627Z",
     "shell.execute_reply": "2021-10-23T12:00:09.499845Z"
    },
    "papermill": {
     "duration": 0.92413,
     "end_time": "2021-10-23T12:00:09.500251",
     "exception": false,
     "start_time": "2021-10-23T12:00:08.576121",
     "status": "completed"
    },
    "tags": []
   },
   "outputs": [],
   "source": [
    "df = pd.read_sql(\"select * from EBAY_TOP_BERLIN where record_time in (select distinct record_time from EBAY_TOP_BERLIN order by record_time desc limit 2)\", sqlite3.connect(\"UsedObjects.db\"))"
   ]
  },
  {
   "cell_type": "code",
   "execution_count": 5,
   "id": "popular-active",
   "metadata": {
    "execution": {
     "iopub.execute_input": "2021-10-23T12:00:09.572050Z",
     "iopub.status.busy": "2021-10-23T12:00:09.561010Z",
     "iopub.status.idle": "2021-10-23T12:00:09.588464Z",
     "shell.execute_reply": "2021-10-23T12:00:09.589751Z"
    },
    "papermill": {
     "duration": 0.067371,
     "end_time": "2021-10-23T12:00:09.590160",
     "exception": false,
     "start_time": "2021-10-23T12:00:09.522789",
     "status": "completed"
    },
    "tags": []
   },
   "outputs": [],
   "source": [
    "df_pivot = df.pivot_table(index=\"PRODUCT\", columns = \"RECORD_TIME\", values = \"LISTING_COUNT\")"
   ]
  },
  {
   "cell_type": "code",
   "execution_count": 6,
   "id": "union-huntington",
   "metadata": {
    "execution": {
     "iopub.execute_input": "2021-10-23T12:00:09.646578Z",
     "iopub.status.busy": "2021-10-23T12:00:09.644365Z",
     "iopub.status.idle": "2021-10-23T12:00:09.650017Z",
     "shell.execute_reply": "2021-10-23T12:00:09.651552Z"
    },
    "papermill": {
     "duration": 0.040607,
     "end_time": "2021-10-23T12:00:09.652035",
     "exception": false,
     "start_time": "2021-10-23T12:00:09.611428",
     "status": "completed"
    },
    "tags": []
   },
   "outputs": [],
   "source": [
    "df_pivot.columns = [\"stamp_1\", \"stamp_2\"]\n",
    "df_pivot_diff = df_pivot.diff(axis=1)"
   ]
  },
  {
   "cell_type": "code",
   "execution_count": 7,
   "id": "fifth-motion",
   "metadata": {
    "execution": {
     "iopub.execute_input": "2021-10-23T12:00:09.706892Z",
     "iopub.status.busy": "2021-10-23T12:00:09.704431Z",
     "iopub.status.idle": "2021-10-23T12:00:11.180201Z",
     "shell.execute_reply": "2021-10-23T12:00:11.181657Z"
    },
    "papermill": {
     "duration": 1.508943,
     "end_time": "2021-10-23T12:00:11.182108",
     "exception": false,
     "start_time": "2021-10-23T12:00:09.673165",
     "status": "completed"
    },
    "tags": []
   },
   "outputs": [
    {
     "data": {
      "text/plain": [
       "<AxesSubplot:ylabel='PRODUCT'>"
      ]
     },
     "execution_count": 7,
     "metadata": {},
     "output_type": "execute_result"
    },
    {
     "data": {
      "image/png": "[encoded data removed]",
      "text/plain": [
       "<Figure size 432x288 with 1 Axes>"
      ]
     },
     "metadata": {
      "needs_background": "light"
     },
     "output_type": "display_data"
    }
   ],
   "source": [
    "df_pivot_diff.sort_values(\"stamp_2\", ascending = False)[\"stamp_2\"].head(10).plot.barh()"
   ]
  },
  {
   "cell_type": "code",
   "execution_count": null,
   "id": "extra-executive",
   "metadata": {
    "papermill": {
     "duration": 0.021704,
     "end_time": "2021-10-23T12:00:11.227268",
     "exception": false,
     "start_time": "2021-10-23T12:00:11.205564",
     "status": "completed"
    },
    "tags": []
   },
   "outputs": [],
   "source": []
  }
 ],
 "metadata": {
  "kernelspec": {
   "display_name": "Python 3",
   "language": "python",
   "name": "python3"
  },
  "language_info": {
   "codemirror_mode": {
    "name": "ipython",
    "version": 3
   },
   "file_extension": ".py",
   "mimetype": "text/x-python",
   "name": "python",
   "nbconvert_exporter": "python",
   "pygments_lexer": "ipython3",
   "version": "3.9.5"
  },
  "papermill": {
   "default_parameters": {},
   "duration": 7.819747,
   "end_time": "2021-10-23T12:00:12.372671",
   "environment_variables": {},
   "exception": null,
   "input_path": "eBay_Overview.ipynb",
   "output_path": "eBay_Overview.ipynb",
   "parameters": {},
   "start_time": "2021-10-23T12:00:04.552924",
   "version": "2.3.3"
  }
 },
 "nbformat": 4,
 "nbformat_minor": 5
}