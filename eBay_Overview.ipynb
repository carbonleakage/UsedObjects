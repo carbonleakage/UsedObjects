{
 "cells": [
  {
   "cell_type": "code",
   "execution_count": 1,
   "id": "reverse-picking",
   "metadata": {
    "execution": {
     "iopub.execute_input": "2021-09-17T11:30:06.691515Z",
     "iopub.status.busy": "2021-09-17T11:30:06.689460Z",
     "iopub.status.idle": "2021-09-17T11:30:07.489221Z",
     "shell.execute_reply": "2021-09-17T11:30:07.490536Z"
    },
    "papermill": {
     "duration": 0.849829,
     "end_time": "2021-09-17T11:30:07.491243",
     "exception": false,
     "start_time": "2021-09-17T11:30:06.641414",
     "status": "completed"
    },
    "tags": []
   },
   "outputs": [],
   "source": [
    "import pandas as pd\n",
    "import sqlite3"
   ]
  },
  {
   "cell_type": "code",
   "execution_count": 2,
   "id": "innovative-syndrome",
   "metadata": {
    "execution": {
     "iopub.execute_input": "2021-09-17T11:30:07.541657Z",
     "iopub.status.busy": "2021-09-17T11:30:07.539621Z",
     "iopub.status.idle": "2021-09-17T11:30:07.852953Z",
     "shell.execute_reply": "2021-09-17T11:30:07.851638Z"
    },
    "papermill": {
     "duration": 0.341942,
     "end_time": "2021-09-17T11:30:07.853292",
     "exception": false,
     "start_time": "2021-09-17T11:30:07.511350",
     "status": "completed"
    },
    "tags": []
   },
   "outputs": [],
   "source": [
    "timestamps = pd.read_sql(\"select distinct record_time from EBAY_TOP_BERLIN order by record_time desc limit 2\", sqlite3.connect(\"UsedObjects.db\"))"
   ]
  },
  {
   "cell_type": "code",
   "execution_count": 3,
   "id": "periodic-identification",
   "metadata": {
    "execution": {
     "iopub.execute_input": "2021-09-17T11:30:07.921193Z",
     "iopub.status.busy": "2021-09-17T11:30:07.919189Z",
     "iopub.status.idle": "2021-09-17T11:30:07.939256Z",
     "shell.execute_reply": "2021-09-17T11:30:07.940519Z"
    },
    "papermill": {
     "duration": 0.065374,
     "end_time": "2021-09-17T11:30:07.940974",
     "exception": false,
     "start_time": "2021-09-17T11:30:07.875600",
     "status": "completed"
    },
    "tags": []
   },
   "outputs": [
    {
     "data": {
      "text/html": [
       "<div>\n",
       "<style scoped>\n",
       "    .dataframe tbody tr th:only-of-type {\n",
       "        vertical-align: middle;\n",
       "    }\n",
       "\n",
       "    .dataframe tbody tr th {\n",
       "        vertical-align: top;\n",
       "    }\n",
       "\n",
       "    .dataframe thead th {\n",
       "        text-align: right;\n",
       "    }\n",
       "</style>\n",
       "<table border=\"1\" class=\"dataframe\">\n",
       "  <thead>\n",
       "    <tr style=\"text-align: right;\">\n",
       "      <th></th>\n",
       "      <th>RECORD_TIME</th>\n",
       "    </tr>\n",
       "  </thead>\n",
       "  <tbody>\n",
       "    <tr>\n",
       "      <th>0</th>\n",
       "      <td>2021-09-17 13:30</td>\n",
       "    </tr>\n",
       "    <tr>\n",
       "      <th>1</th>\n",
       "      <td>2021-09-17 13:00</td>\n",
       "    </tr>\n",
       "  </tbody>\n",
       "</table>\n",
       "</div>"
      ],
      "text/plain": [
       "        RECORD_TIME\n",
       "0  2021-09-17 13:30\n",
       "1  2021-09-17 13:00"
      ]
     },
     "execution_count": 3,
     "metadata": {},
     "output_type": "execute_result"
    }
   ],
   "source": [
    "timestamps"
   ]
  },
  {
   "cell_type": "code",
   "execution_count": 4,
   "id": "alternate-victory",
   "metadata": {
    "execution": {
     "iopub.execute_input": "2021-09-17T11:30:07.991822Z",
     "iopub.status.busy": "2021-09-17T11:30:07.989911Z",
     "iopub.status.idle": "2021-09-17T11:30:08.447097Z",
     "shell.execute_reply": "2021-09-17T11:30:08.448483Z"
    },
    "papermill": {
     "duration": 0.487015,
     "end_time": "2021-09-17T11:30:08.448921",
     "exception": false,
     "start_time": "2021-09-17T11:30:07.961906",
     "status": "completed"
    },
    "tags": []
   },
   "outputs": [],
   "source": [
    "df = pd.read_sql(\"select * from EBAY_TOP_BERLIN where record_time in (select distinct record_time from EBAY_TOP_BERLIN order by record_time desc limit 2)\", sqlite3.connect(\"UsedObjects.db\"))"
   ]
  },
  {
   "cell_type": "code",
   "execution_count": 5,
   "id": "popular-active",
   "metadata": {
    "execution": {
     "iopub.execute_input": "2021-09-17T11:30:08.528579Z",
     "iopub.status.busy": "2021-09-17T11:30:08.516704Z",
     "iopub.status.idle": "2021-09-17T11:30:08.544164Z",
     "shell.execute_reply": "2021-09-17T11:30:08.545378Z"
    },
    "papermill": {
     "duration": 0.07073,
     "end_time": "2021-09-17T11:30:08.545771",
     "exception": false,
     "start_time": "2021-09-17T11:30:08.475041",
     "status": "completed"
    },
    "tags": []
   },
   "outputs": [],
   "source": [
    "df_pivot = df.pivot_table(index=\"PRODUCT\", columns = \"RECORD_TIME\", values = \"LISTING_COUNT\")"
   ]
  },
  {
   "cell_type": "code",
   "execution_count": 6,
   "id": "union-huntington",
   "metadata": {
    "execution": {
     "iopub.execute_input": "2021-09-17T11:30:08.601472Z",
     "iopub.status.busy": "2021-09-17T11:30:08.599416Z",
     "iopub.status.idle": "2021-09-17T11:30:08.604500Z",
     "shell.execute_reply": "2021-09-17T11:30:08.605779Z"
    },
    "papermill": {
     "duration": 0.039908,
     "end_time": "2021-09-17T11:30:08.606195",
     "exception": false,
     "start_time": "2021-09-17T11:30:08.566287",
     "status": "completed"
    },
    "tags": []
   },
   "outputs": [],
   "source": [
    "df_pivot.columns = [\"stamp_1\", \"stamp_2\"]\n",
    "df_pivot_diff = df_pivot.diff(axis=1)"
   ]
  },
  {
   "cell_type": "code",
   "execution_count": 7,
   "id": "fifth-motion",
   "metadata": {
    "execution": {
     "iopub.execute_input": "2021-09-17T11:30:08.659973Z",
     "iopub.status.busy": "2021-09-17T11:30:08.657404Z",
     "iopub.status.idle": "2021-09-17T11:30:10.163378Z",
     "shell.execute_reply": "2021-09-17T11:30:10.161767Z"
    },
    "papermill": {
     "duration": 1.537473,
     "end_time": "2021-09-17T11:30:10.163756",
     "exception": false,
     "start_time": "2021-09-17T11:30:08.626283",
     "status": "completed"
    },
    "tags": []
   },
   "outputs": [
    {
     "data": {
      "text/plain": [
       "<AxesSubplot:ylabel='PRODUCT'>"
      ]
     },
     "execution_count": 7,
     "metadata": {},
     "output_type": "execute_result"
    },
    {
     "data": {
      "image/png": "[encoded data removed]",
      "text/plain": [
       "<Figure size 432x288 with 1 Axes>"
      ]
     },
     "metadata": {
      "needs_background": "light"
     },
     "output_type": "display_data"
    }
   ],
   "source": [
    "df_pivot_diff.sort_values(\"stamp_2\", ascending = False)[\"stamp_2\"].head(10).plot.barh()"
   ]
  },
  {
   "cell_type": "code",
   "execution_count": null,
   "id": "extra-executive",
   "metadata": {
    "papermill": {
     "duration": 0.022186,
     "end_time": "2021-09-17T11:30:10.211561",
     "exception": false,
     "start_time": "2021-09-17T11:30:10.189375",
     "status": "completed"
    },
    "tags": []
   },
   "outputs": [],
   "source": []
  }
 ],
 "metadata": {
  "kernelspec": {
   "display_name": "Python 3",
   "language": "python",
   "name": "python3"
  },
  "language_info": {
   "codemirror_mode": {
    "name": "ipython",
    "version": 3
   },
   "file_extension": ".py",
   "mimetype": "text/x-python",
   "name": "python",
   "nbconvert_exporter": "python",
   "pygments_lexer": "ipython3",
   "version": "3.9.5"
  },
  "papermill": {
   "default_parameters": {},
   "duration": 6.596778,
   "end_time": "2021-09-17T11:30:10.854913",
   "environment_variables": {},
   "exception": null,
   "input_path": "eBay_Overview.ipynb",
   "output_path": "eBay_Overview.ipynb",
   "parameters": {},
   "start_time": "2021-09-17T11:30:04.258135",
   "version": "2.3.3"
  }
 },
 "nbformat": 4,
 "nbformat_minor": 5
}