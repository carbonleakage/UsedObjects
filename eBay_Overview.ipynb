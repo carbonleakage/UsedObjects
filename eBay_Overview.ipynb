{
 "cells": [
  {
   "cell_type": "code",
   "execution_count": 1,
   "id": "reverse-picking",
   "metadata": {
    "execution": {
     "iopub.execute_input": "2021-12-09T09:30:07.592310Z",
     "iopub.status.busy": "2021-12-09T09:30:07.579263Z",
     "iopub.status.idle": "2021-12-09T09:30:08.557626Z",
     "shell.execute_reply": "2021-12-09T09:30:08.559104Z"
    },
    "papermill": {
     "duration": 1.022226,
     "end_time": "2021-12-09T09:30:08.559825",
     "exception": false,
     "start_time": "2021-12-09T09:30:07.537599",
     "status": "completed"
    },
    "tags": []
   },
   "outputs": [],
   "source": [
    "import pandas as pd\n",
    "import sqlite3"
   ]
  },
  {
   "cell_type": "code",
   "execution_count": 2,
   "id": "innovative-syndrome",
   "metadata": {
    "execution": {
     "iopub.execute_input": "2021-12-09T09:30:08.650941Z",
     "iopub.status.busy": "2021-12-09T09:30:08.648571Z",
     "iopub.status.idle": "2021-12-09T09:30:09.681115Z",
     "shell.execute_reply": "2021-12-09T09:30:09.682802Z"
    },
    "papermill": {
     "duration": 1.102406,
     "end_time": "2021-12-09T09:30:09.683681",
     "exception": false,
     "start_time": "2021-12-09T09:30:08.581275",
     "status": "completed"
    },
    "tags": []
   },
   "outputs": [],
   "source": [
    "timestamps = pd.read_sql(\"select distinct record_time from EBAY_TOP_BERLIN order by record_time desc limit 2\", sqlite3.connect(\"UsedObjects.db\"))"
   ]
  },
  {
   "cell_type": "code",
   "execution_count": 3,
   "id": "periodic-identification",
   "metadata": {
    "execution": {
     "iopub.execute_input": "2021-12-09T09:30:09.786824Z",
     "iopub.status.busy": "2021-12-09T09:30:09.784245Z",
     "iopub.status.idle": "2021-12-09T09:30:09.809874Z",
     "shell.execute_reply": "2021-12-09T09:30:09.808106Z"
    },
    "papermill": {
     "duration": 0.101454,
     "end_time": "2021-12-09T09:30:09.810287",
     "exception": false,
     "start_time": "2021-12-09T09:30:09.708833",
     "status": "completed"
    },
    "tags": []
   },
   "outputs": [
    {
     "data": {
      "text/html": [
       "<div>\n",
       "<style scoped>\n",
       "    .dataframe tbody tr th:only-of-type {\n",
       "        vertical-align: middle;\n",
       "    }\n",
       "\n",
       "    .dataframe tbody tr th {\n",
       "        vertical-align: top;\n",
       "    }\n",
       "\n",
       "    .dataframe thead th {\n",
       "        text-align: right;\n",
       "    }\n",
       "</style>\n",
       "<table border=\"1\" class=\"dataframe\">\n",
       "  <thead>\n",
       "    <tr style=\"text-align: right;\">\n",
       "      <th></th>\n",
       "      <th>RECORD_TIME</th>\n",
       "    </tr>\n",
       "  </thead>\n",
       "  <tbody>\n",
       "    <tr>\n",
       "      <th>0</th>\n",
       "      <td>2021-12-09 10:30</td>\n",
       "    </tr>\n",
       "    <tr>\n",
       "      <th>1</th>\n",
       "      <td>2021-12-09 10:00</td>\n",
       "    </tr>\n",
       "  </tbody>\n",
       "</table>\n",
       "</div>"
      ],
      "text/plain": [
       "        RECORD_TIME\n",
       "0  2021-12-09 10:30\n",
       "1  2021-12-09 10:00"
      ]
     },
     "execution_count": 3,
     "metadata": {},
     "output_type": "execute_result"
    }
   ],
   "source": [
    "timestamps"
   ]
  },
  {
   "cell_type": "code",
   "execution_count": 4,
   "id": "alternate-victory",
   "metadata": {
    "execution": {
     "iopub.execute_input": "2021-12-09T09:30:09.868283Z",
     "iopub.status.busy": "2021-12-09T09:30:09.866087Z",
     "iopub.status.idle": "2021-12-09T09:30:11.386961Z",
     "shell.execute_reply": "2021-12-09T09:30:11.389719Z"
    },
    "papermill": {
     "duration": 1.558071,
     "end_time": "2021-12-09T09:30:11.390548",
     "exception": false,
     "start_time": "2021-12-09T09:30:09.832477",
     "status": "completed"
    },
    "tags": []
   },
   "outputs": [],
   "source": [
    "df = pd.read_sql(\"select * from EBAY_TOP_BERLIN where record_time in (select distinct record_time from EBAY_TOP_BERLIN order by record_time desc limit 2)\", sqlite3.connect(\"UsedObjects.db\"))"
   ]
  },
  {
   "cell_type": "code",
   "execution_count": 5,
   "id": "popular-active",
   "metadata": {
    "execution": {
     "iopub.execute_input": "2021-12-09T09:30:11.518609Z",
     "iopub.status.busy": "2021-12-09T09:30:11.504831Z",
     "iopub.status.idle": "2021-12-09T09:30:11.546375Z",
     "shell.execute_reply": "2021-12-09T09:30:11.548510Z"
    },
    "papermill": {
     "duration": 0.127202,
     "end_time": "2021-12-09T09:30:11.549249",
     "exception": false,
     "start_time": "2021-12-09T09:30:11.422047",
     "status": "completed"
    },
    "tags": []
   },
   "outputs": [],
   "source": [
    "df_pivot = df.pivot_table(index=\"PRODUCT\", columns = \"RECORD_TIME\", values = \"LISTING_COUNT\")"
   ]
  },
  {
   "cell_type": "code",
   "execution_count": 6,
   "id": "union-huntington",
   "metadata": {
    "execution": {
     "iopub.execute_input": "2021-12-09T09:30:11.639116Z",
     "iopub.status.busy": "2021-12-09T09:30:11.635272Z",
     "iopub.status.idle": "2021-12-09T09:30:11.648665Z",
     "shell.execute_reply": "2021-12-09T09:30:11.645994Z"
    },
    "papermill": {
     "duration": 0.075463,
     "end_time": "2021-12-09T09:30:11.649292",
     "exception": false,
     "start_time": "2021-12-09T09:30:11.573829",
     "status": "completed"
    },
    "tags": []
   },
   "outputs": [],
   "source": [
    "df_pivot.columns = [\"stamp_1\", \"stamp_2\"]\n",
    "df_pivot_diff = df_pivot.diff(axis=1)"
   ]
  },
  {
   "cell_type": "code",
   "execution_count": 7,
   "id": "fifth-motion",
   "metadata": {
    "execution": {
     "iopub.execute_input": "2021-12-09T09:30:11.732451Z",
     "iopub.status.busy": "2021-12-09T09:30:11.729230Z",
     "iopub.status.idle": "2021-12-09T09:30:13.435839Z",
     "shell.execute_reply": "2021-12-09T09:30:13.437343Z"
    },
    "papermill": {
     "duration": 1.758283,
     "end_time": "2021-12-09T09:30:13.437799",
     "exception": false,
     "start_time": "2021-12-09T09:30:11.679516",
     "status": "completed"
    },
    "tags": []
   },
   "outputs": [
    {
     "data": {
      "text/plain": [
       "<AxesSubplot:ylabel='PRODUCT'>"
      ]
     },
     "execution_count": 7,
     "metadata": {},
     "output_type": "execute_result"
    },
    {
     "data": {
      "image/png": "[encoded data removed]",
      "text/plain": [
       "<Figure size 432x288 with 1 Axes>"
      ]
     },
     "metadata": {
      "needs_background": "light"
     },
     "output_type": "display_data"
    }
   ],
   "source": [
    "df_pivot_diff.sort_values(\"stamp_2\", ascending = False)[\"stamp_2\"].head(10).plot.barh()"
   ]
  },
  {
   "cell_type": "code",
   "execution_count": null,
   "id": "extra-executive",
   "metadata": {
    "papermill": {
     "duration": 0.022043,
     "end_time": "2021-12-09T09:30:13.483457",
     "exception": false,
     "start_time": "2021-12-09T09:30:13.461414",
     "status": "completed"
    },
    "tags": []
   },
   "outputs": [],
   "source": []
  }
 ],
 "metadata": {
  "kernelspec": {
   "display_name": "Python 3",
   "language": "python",
   "name": "python3"
  },
  "language_info": {
   "codemirror_mode": {
    "name": "ipython",
    "version": 3
   },
   "file_extension": ".py",
   "mimetype": "text/x-python",
   "name": "python",
   "nbconvert_exporter": "python",
   "pygments_lexer": "ipython3",
   "version": "3.9.5"
  },
  "papermill": {
   "default_parameters": {},
   "duration": 9.956093,
   "end_time": "2021-12-09T09:30:14.728586",
   "environment_variables": {},
   "exception": null,
   "input_path": "eBay_Overview.ipynb",
   "output_path": "eBay_Overview.ipynb",
   "parameters": {},
   "start_time": "2021-12-09T09:30:04.772493",
   "version": "2.3.3"
  }
 },
 "nbformat": 4,
 "nbformat_minor": 5
}