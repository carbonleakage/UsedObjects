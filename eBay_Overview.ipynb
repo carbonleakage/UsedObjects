{
 "cells": [
  {
   "cell_type": "code",
   "execution_count": 1,
   "id": "reverse-picking",
   "metadata": {
    "execution": {
     "iopub.execute_input": "2021-12-04T01:30:07.334385Z",
     "iopub.status.busy": "2021-12-04T01:30:07.332251Z",
     "iopub.status.idle": "2021-12-04T01:30:08.290337Z",
     "shell.execute_reply": "2021-12-04T01:30:08.292006Z"
    },
    "papermill": {
     "duration": 1.008529,
     "end_time": "2021-12-04T01:30:08.292947",
     "exception": false,
     "start_time": "2021-12-04T01:30:07.284418",
     "status": "completed"
    },
    "tags": []
   },
   "outputs": [],
   "source": [
    "import pandas as pd\n",
    "import sqlite3"
   ]
  },
  {
   "cell_type": "code",
   "execution_count": 2,
   "id": "innovative-syndrome",
   "metadata": {
    "execution": {
     "iopub.execute_input": "2021-12-04T01:30:08.358191Z",
     "iopub.status.busy": "2021-12-04T01:30:08.354743Z",
     "iopub.status.idle": "2021-12-04T01:30:09.357565Z",
     "shell.execute_reply": "2021-12-04T01:30:09.359089Z"
    },
    "papermill": {
     "duration": 1.036711,
     "end_time": "2021-12-04T01:30:09.359618",
     "exception": false,
     "start_time": "2021-12-04T01:30:08.322907",
     "status": "completed"
    },
    "tags": []
   },
   "outputs": [],
   "source": [
    "timestamps = pd.read_sql(\"select distinct record_time from EBAY_TOP_BERLIN order by record_time desc limit 2\", sqlite3.connect(\"UsedObjects.db\"))"
   ]
  },
  {
   "cell_type": "code",
   "execution_count": 3,
   "id": "periodic-identification",
   "metadata": {
    "execution": {
     "iopub.execute_input": "2021-12-04T01:30:09.432016Z",
     "iopub.status.busy": "2021-12-04T01:30:09.428944Z",
     "iopub.status.idle": "2021-12-04T01:30:09.454619Z",
     "shell.execute_reply": "2021-12-04T01:30:09.456064Z"
    },
    "papermill": {
     "duration": 0.076542,
     "end_time": "2021-12-04T01:30:09.456552",
     "exception": false,
     "start_time": "2021-12-04T01:30:09.380010",
     "status": "completed"
    },
    "tags": []
   },
   "outputs": [
    {
     "data": {
      "text/html": [
       "<div>\n",
       "<style scoped>\n",
       "    .dataframe tbody tr th:only-of-type {\n",
       "        vertical-align: middle;\n",
       "    }\n",
       "\n",
       "    .dataframe tbody tr th {\n",
       "        vertical-align: top;\n",
       "    }\n",
       "\n",
       "    .dataframe thead th {\n",
       "        text-align: right;\n",
       "    }\n",
       "</style>\n",
       "<table border=\"1\" class=\"dataframe\">\n",
       "  <thead>\n",
       "    <tr style=\"text-align: right;\">\n",
       "      <th></th>\n",
       "      <th>RECORD_TIME</th>\n",
       "    </tr>\n",
       "  </thead>\n",
       "  <tbody>\n",
       "    <tr>\n",
       "      <th>0</th>\n",
       "      <td>2021-12-04 02:30</td>\n",
       "    </tr>\n",
       "    <tr>\n",
       "      <th>1</th>\n",
       "      <td>2021-12-04 02:00</td>\n",
       "    </tr>\n",
       "  </tbody>\n",
       "</table>\n",
       "</div>"
      ],
      "text/plain": [
       "        RECORD_TIME\n",
       "0  2021-12-04 02:30\n",
       "1  2021-12-04 02:00"
      ]
     },
     "execution_count": 3,
     "metadata": {},
     "output_type": "execute_result"
    }
   ],
   "source": [
    "timestamps"
   ]
  },
  {
   "cell_type": "code",
   "execution_count": 4,
   "id": "alternate-victory",
   "metadata": {
    "execution": {
     "iopub.execute_input": "2021-12-04T01:30:09.512824Z",
     "iopub.status.busy": "2021-12-04T01:30:09.510541Z",
     "iopub.status.idle": "2021-12-04T01:30:10.930243Z",
     "shell.execute_reply": "2021-12-04T01:30:10.931930Z"
    },
    "papermill": {
     "duration": 1.454452,
     "end_time": "2021-12-04T01:30:10.932416",
     "exception": false,
     "start_time": "2021-12-04T01:30:09.477964",
     "status": "completed"
    },
    "tags": []
   },
   "outputs": [],
   "source": [
    "df = pd.read_sql(\"select * from EBAY_TOP_BERLIN where record_time in (select distinct record_time from EBAY_TOP_BERLIN order by record_time desc limit 2)\", sqlite3.connect(\"UsedObjects.db\"))"
   ]
  },
  {
   "cell_type": "code",
   "execution_count": 5,
   "id": "popular-active",
   "metadata": {
    "execution": {
     "iopub.execute_input": "2021-12-04T01:30:11.000943Z",
     "iopub.status.busy": "2021-12-04T01:30:10.998416Z",
     "iopub.status.idle": "2021-12-04T01:30:11.030313Z",
     "shell.execute_reply": "2021-12-04T01:30:11.031711Z"
    },
    "papermill": {
     "duration": 0.076865,
     "end_time": "2021-12-04T01:30:11.032184",
     "exception": false,
     "start_time": "2021-12-04T01:30:10.955319",
     "status": "completed"
    },
    "tags": []
   },
   "outputs": [],
   "source": [
    "df_pivot = df.pivot_table(index=\"PRODUCT\", columns = \"RECORD_TIME\", values = \"LISTING_COUNT\")"
   ]
  },
  {
   "cell_type": "code",
   "execution_count": 6,
   "id": "union-huntington",
   "metadata": {
    "execution": {
     "iopub.execute_input": "2021-12-04T01:30:11.090866Z",
     "iopub.status.busy": "2021-12-04T01:30:11.088546Z",
     "iopub.status.idle": "2021-12-04T01:30:11.094526Z",
     "shell.execute_reply": "2021-12-04T01:30:11.095902Z"
    },
    "papermill": {
     "duration": 0.044296,
     "end_time": "2021-12-04T01:30:11.096376",
     "exception": false,
     "start_time": "2021-12-04T01:30:11.052080",
     "status": "completed"
    },
    "tags": []
   },
   "outputs": [],
   "source": [
    "df_pivot.columns = [\"stamp_1\", \"stamp_2\"]\n",
    "df_pivot_diff = df_pivot.diff(axis=1)"
   ]
  },
  {
   "cell_type": "code",
   "execution_count": 7,
   "id": "fifth-motion",
   "metadata": {
    "execution": {
     "iopub.execute_input": "2021-12-04T01:30:11.160221Z",
     "iopub.status.busy": "2021-12-04T01:30:11.157542Z",
     "iopub.status.idle": "2021-12-04T01:30:13.117882Z",
     "shell.execute_reply": "2021-12-04T01:30:13.120960Z"
    },
    "papermill": {
     "duration": 2.004772,
     "end_time": "2021-12-04T01:30:13.121775",
     "exception": false,
     "start_time": "2021-12-04T01:30:11.117003",
     "status": "completed"
    },
    "tags": []
   },
   "outputs": [
    {
     "data": {
      "text/plain": [
       "<AxesSubplot:ylabel='PRODUCT'>"
      ]
     },
     "execution_count": 7,
     "metadata": {},
     "output_type": "execute_result"
    },
    {
     "data": {
      "image/png": "[encoded data removed]",
      "text/plain": [
       "<Figure size 432x288 with 1 Axes>"
      ]
     },
     "metadata": {
      "needs_background": "light"
     },
     "output_type": "display_data"
    }
   ],
   "source": [
    "df_pivot_diff.sort_values(\"stamp_2\", ascending = False)[\"stamp_2\"].head(10).plot.barh()"
   ]
  },
  {
   "cell_type": "code",
   "execution_count": null,
   "id": "extra-executive",
   "metadata": {
    "papermill": {
     "duration": 0.031861,
     "end_time": "2021-12-04T01:30:13.190362",
     "exception": false,
     "start_time": "2021-12-04T01:30:13.158501",
     "status": "completed"
    },
    "tags": []
   },
   "outputs": [],
   "source": []
  }
 ],
 "metadata": {
  "kernelspec": {
   "display_name": "Python 3",
   "language": "python",
   "name": "python3"
  },
  "language_info": {
   "codemirror_mode": {
    "name": "ipython",
    "version": 3
   },
   "file_extension": ".py",
   "mimetype": "text/x-python",
   "name": "python",
   "nbconvert_exporter": "python",
   "pygments_lexer": "ipython3",
   "version": "3.9.5"
  },
  "papermill": {
   "default_parameters": {},
   "duration": 9.929794,
   "end_time": "2021-12-04T01:30:14.482553",
   "environment_variables": {},
   "exception": null,
   "input_path": "eBay_Overview.ipynb",
   "output_path": "eBay_Overview.ipynb",
   "parameters": {},
   "start_time": "2021-12-04T01:30:04.552759",
   "version": "2.3.3"
  }
 },
 "nbformat": 4,
 "nbformat_minor": 5
}