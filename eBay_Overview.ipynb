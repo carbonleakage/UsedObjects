{
 "cells": [
  {
   "cell_type": "code",
   "execution_count": 1,
   "id": "reverse-picking",
   "metadata": {
    "execution": {
     "iopub.execute_input": "2021-10-29T18:00:06.835032Z",
     "iopub.status.busy": "2021-10-29T18:00:06.833081Z",
     "iopub.status.idle": "2021-10-29T18:00:07.636401Z",
     "shell.execute_reply": "2021-10-29T18:00:07.637956Z"
    },
    "papermill": {
     "duration": 0.855485,
     "end_time": "2021-10-29T18:00:07.638653",
     "exception": false,
     "start_time": "2021-10-29T18:00:06.783168",
     "status": "completed"
    },
    "tags": []
   },
   "outputs": [],
   "source": [
    "import pandas as pd\n",
    "import sqlite3"
   ]
  },
  {
   "cell_type": "code",
   "execution_count": 2,
   "id": "innovative-syndrome",
   "metadata": {
    "execution": {
     "iopub.execute_input": "2021-10-29T18:00:07.689112Z",
     "iopub.status.busy": "2021-10-29T18:00:07.687066Z",
     "iopub.status.idle": "2021-10-29T18:00:08.359104Z",
     "shell.execute_reply": "2021-10-29T18:00:08.360320Z"
    },
    "papermill": {
     "duration": 0.701965,
     "end_time": "2021-10-29T18:00:08.360829",
     "exception": false,
     "start_time": "2021-10-29T18:00:07.658864",
     "status": "completed"
    },
    "tags": []
   },
   "outputs": [],
   "source": [
    "timestamps = pd.read_sql(\"select distinct record_time from EBAY_TOP_BERLIN order by record_time desc limit 2\", sqlite3.connect(\"UsedObjects.db\"))"
   ]
  },
  {
   "cell_type": "code",
   "execution_count": 3,
   "id": "periodic-identification",
   "metadata": {
    "execution": {
     "iopub.execute_input": "2021-10-29T18:00:08.435767Z",
     "iopub.status.busy": "2021-10-29T18:00:08.433718Z",
     "iopub.status.idle": "2021-10-29T18:00:08.453794Z",
     "shell.execute_reply": "2021-10-29T18:00:08.455009Z"
    },
    "papermill": {
     "duration": 0.067995,
     "end_time": "2021-10-29T18:00:08.455442",
     "exception": false,
     "start_time": "2021-10-29T18:00:08.387447",
     "status": "completed"
    },
    "tags": []
   },
   "outputs": [
    {
     "data": {
      "text/html": [
       "<div>\n",
       "<style scoped>\n",
       "    .dataframe tbody tr th:only-of-type {\n",
       "        vertical-align: middle;\n",
       "    }\n",
       "\n",
       "    .dataframe tbody tr th {\n",
       "        vertical-align: top;\n",
       "    }\n",
       "\n",
       "    .dataframe thead th {\n",
       "        text-align: right;\n",
       "    }\n",
       "</style>\n",
       "<table border=\"1\" class=\"dataframe\">\n",
       "  <thead>\n",
       "    <tr style=\"text-align: right;\">\n",
       "      <th></th>\n",
       "      <th>RECORD_TIME</th>\n",
       "    </tr>\n",
       "  </thead>\n",
       "  <tbody>\n",
       "    <tr>\n",
       "      <th>0</th>\n",
       "      <td>2021-10-29 20:00</td>\n",
       "    </tr>\n",
       "    <tr>\n",
       "      <th>1</th>\n",
       "      <td>2021-10-29 19:30</td>\n",
       "    </tr>\n",
       "  </tbody>\n",
       "</table>\n",
       "</div>"
      ],
      "text/plain": [
       "        RECORD_TIME\n",
       "0  2021-10-29 20:00\n",
       "1  2021-10-29 19:30"
      ]
     },
     "execution_count": 3,
     "metadata": {},
     "output_type": "execute_result"
    }
   ],
   "source": [
    "timestamps"
   ]
  },
  {
   "cell_type": "code",
   "execution_count": 4,
   "id": "alternate-victory",
   "metadata": {
    "execution": {
     "iopub.execute_input": "2021-10-29T18:00:08.584912Z",
     "iopub.status.busy": "2021-10-29T18:00:08.582574Z",
     "iopub.status.idle": "2021-10-29T18:00:09.659434Z",
     "shell.execute_reply": "2021-10-29T18:00:09.660647Z"
    },
    "papermill": {
     "duration": 1.113671,
     "end_time": "2021-10-29T18:00:09.661238",
     "exception": false,
     "start_time": "2021-10-29T18:00:08.547567",
     "status": "completed"
    },
    "tags": []
   },
   "outputs": [],
   "source": [
    "df = pd.read_sql(\"select * from EBAY_TOP_BERLIN where record_time in (select distinct record_time from EBAY_TOP_BERLIN order by record_time desc limit 2)\", sqlite3.connect(\"UsedObjects.db\"))"
   ]
  },
  {
   "cell_type": "code",
   "execution_count": 5,
   "id": "popular-active",
   "metadata": {
    "execution": {
     "iopub.execute_input": "2021-10-29T18:00:09.734660Z",
     "iopub.status.busy": "2021-10-29T18:00:09.723434Z",
     "iopub.status.idle": "2021-10-29T18:00:09.750133Z",
     "shell.execute_reply": "2021-10-29T18:00:09.751355Z"
    },
    "papermill": {
     "duration": 0.067898,
     "end_time": "2021-10-29T18:00:09.751751",
     "exception": false,
     "start_time": "2021-10-29T18:00:09.683853",
     "status": "completed"
    },
    "tags": []
   },
   "outputs": [],
   "source": [
    "df_pivot = df.pivot_table(index=\"PRODUCT\", columns = \"RECORD_TIME\", values = \"LISTING_COUNT\")"
   ]
  },
  {
   "cell_type": "code",
   "execution_count": 6,
   "id": "union-huntington",
   "metadata": {
    "execution": {
     "iopub.execute_input": "2021-10-29T18:00:09.810976Z",
     "iopub.status.busy": "2021-10-29T18:00:09.808470Z",
     "iopub.status.idle": "2021-10-29T18:00:09.814307Z",
     "shell.execute_reply": "2021-10-29T18:00:09.815591Z"
    },
    "papermill": {
     "duration": 0.042025,
     "end_time": "2021-10-29T18:00:09.816013",
     "exception": false,
     "start_time": "2021-10-29T18:00:09.773988",
     "status": "completed"
    },
    "tags": []
   },
   "outputs": [],
   "source": [
    "df_pivot.columns = [\"stamp_1\", \"stamp_2\"]\n",
    "df_pivot_diff = df_pivot.diff(axis=1)"
   ]
  },
  {
   "cell_type": "code",
   "execution_count": 7,
   "id": "fifth-motion",
   "metadata": {
    "execution": {
     "iopub.execute_input": "2021-10-29T18:00:09.868673Z",
     "iopub.status.busy": "2021-10-29T18:00:09.866479Z",
     "iopub.status.idle": "2021-10-29T18:00:11.377716Z",
     "shell.execute_reply": "2021-10-29T18:00:11.379025Z"
    },
    "papermill": {
     "duration": 1.543709,
     "end_time": "2021-10-29T18:00:11.379451",
     "exception": false,
     "start_time": "2021-10-29T18:00:09.835742",
     "status": "completed"
    },
    "tags": []
   },
   "outputs": [
    {
     "data": {
      "text/plain": [
       "<AxesSubplot:ylabel='PRODUCT'>"
      ]
     },
     "execution_count": 7,
     "metadata": {},
     "output_type": "execute_result"
    },
    {
     "data": {
      "image/png": "[encoded data removed]",
      "text/plain": [
       "<Figure size 432x288 with 1 Axes>"
      ]
     },
     "metadata": {
      "needs_background": "light"
     },
     "output_type": "display_data"
    }
   ],
   "source": [
    "df_pivot_diff.sort_values(\"stamp_2\", ascending = False)[\"stamp_2\"].head(10).plot.barh()"
   ]
  },
  {
   "cell_type": "code",
   "execution_count": null,
   "id": "extra-executive",
   "metadata": {
    "papermill": {
     "duration": 0.05829,
     "end_time": "2021-10-29T18:00:11.462301",
     "exception": false,
     "start_time": "2021-10-29T18:00:11.404011",
     "status": "completed"
    },
    "tags": []
   },
   "outputs": [],
   "source": []
  }
 ],
 "metadata": {
  "kernelspec": {
   "display_name": "Python 3",
   "language": "python",
   "name": "python3"
  },
  "language_info": {
   "codemirror_mode": {
    "name": "ipython",
    "version": 3
   },
   "file_extension": ".py",
   "mimetype": "text/x-python",
   "name": "python",
   "nbconvert_exporter": "python",
   "pygments_lexer": "ipython3",
   "version": "3.9.5"
  },
  "papermill": {
   "default_parameters": {},
   "duration": 7.724252,
   "end_time": "2021-10-29T18:00:12.111578",
   "environment_variables": {},
   "exception": null,
   "input_path": "eBay_Overview.ipynb",
   "output_path": "eBay_Overview.ipynb",
   "parameters": {},
   "start_time": "2021-10-29T18:00:04.387326",
   "version": "2.3.3"
  }
 },
 "nbformat": 4,
 "nbformat_minor": 5
}