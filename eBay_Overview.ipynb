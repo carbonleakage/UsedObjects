{
 "cells": [
  {
   "cell_type": "code",
   "execution_count": 1,
   "id": "reverse-picking",
   "metadata": {
    "execution": {
     "iopub.execute_input": "2021-08-18T06:30:06.543831Z",
     "iopub.status.busy": "2021-08-18T06:30:06.541800Z",
     "iopub.status.idle": "2021-08-18T06:30:07.349425Z",
     "shell.execute_reply": "2021-08-18T06:30:07.347857Z"
    },
    "papermill": {
     "duration": 0.857945,
     "end_time": "2021-08-18T06:30:07.349821",
     "exception": false,
     "start_time": "2021-08-18T06:30:06.491876",
     "status": "completed"
    },
    "tags": []
   },
   "outputs": [],
   "source": [
    "import pandas as pd\n",
    "import sqlite3"
   ]
  },
  {
   "cell_type": "code",
   "execution_count": 2,
   "id": "innovative-syndrome",
   "metadata": {
    "execution": {
     "iopub.execute_input": "2021-08-18T06:30:07.401073Z",
     "iopub.status.busy": "2021-08-18T06:30:07.399202Z",
     "iopub.status.idle": "2021-08-18T06:30:07.472036Z",
     "shell.execute_reply": "2021-08-18T06:30:07.473255Z"
    },
    "papermill": {
     "duration": 0.102214,
     "end_time": "2021-08-18T06:30:07.473657",
     "exception": false,
     "start_time": "2021-08-18T06:30:07.371443",
     "status": "completed"
    },
    "tags": []
   },
   "outputs": [],
   "source": [
    "timestamps = pd.read_sql(\"select distinct record_time from EBAY_TOP_BERLIN order by record_time desc limit 2\", sqlite3.connect(\"UsedObjects.db\"))"
   ]
  },
  {
   "cell_type": "code",
   "execution_count": 3,
   "id": "periodic-identification",
   "metadata": {
    "execution": {
     "iopub.execute_input": "2021-08-18T06:30:07.538034Z",
     "iopub.status.busy": "2021-08-18T06:30:07.535947Z",
     "iopub.status.idle": "2021-08-18T06:30:07.555664Z",
     "shell.execute_reply": "2021-08-18T06:30:07.556800Z"
    },
    "papermill": {
     "duration": 0.064404,
     "end_time": "2021-08-18T06:30:07.557220",
     "exception": false,
     "start_time": "2021-08-18T06:30:07.492816",
     "status": "completed"
    },
    "tags": []
   },
   "outputs": [
    {
     "data": {
      "text/html": [
       "<div>\n",
       "<style scoped>\n",
       "    .dataframe tbody tr th:only-of-type {\n",
       "        vertical-align: middle;\n",
       "    }\n",
       "\n",
       "    .dataframe tbody tr th {\n",
       "        vertical-align: top;\n",
       "    }\n",
       "\n",
       "    .dataframe thead th {\n",
       "        text-align: right;\n",
       "    }\n",
       "</style>\n",
       "<table border=\"1\" class=\"dataframe\">\n",
       "  <thead>\n",
       "    <tr style=\"text-align: right;\">\n",
       "      <th></th>\n",
       "      <th>RECORD_TIME</th>\n",
       "    </tr>\n",
       "  </thead>\n",
       "  <tbody>\n",
       "    <tr>\n",
       "      <th>0</th>\n",
       "      <td>2021-08-18 08:30</td>\n",
       "    </tr>\n",
       "    <tr>\n",
       "      <th>1</th>\n",
       "      <td>2021-08-18 08:00</td>\n",
       "    </tr>\n",
       "  </tbody>\n",
       "</table>\n",
       "</div>"
      ],
      "text/plain": [
       "        RECORD_TIME\n",
       "0  2021-08-18 08:30\n",
       "1  2021-08-18 08:00"
      ]
     },
     "execution_count": 3,
     "metadata": {},
     "output_type": "execute_result"
    }
   ],
   "source": [
    "timestamps"
   ]
  },
  {
   "cell_type": "code",
   "execution_count": 4,
   "id": "alternate-victory",
   "metadata": {
    "execution": {
     "iopub.execute_input": "2021-08-18T06:30:07.611715Z",
     "iopub.status.busy": "2021-08-18T06:30:07.609277Z",
     "iopub.status.idle": "2021-08-18T06:30:07.720793Z",
     "shell.execute_reply": "2021-08-18T06:30:07.722090Z"
    },
    "papermill": {
     "duration": 0.141958,
     "end_time": "2021-08-18T06:30:07.722510",
     "exception": false,
     "start_time": "2021-08-18T06:30:07.580552",
     "status": "completed"
    },
    "tags": []
   },
   "outputs": [],
   "source": [
    "df = pd.read_sql(\"select * from EBAY_TOP_BERLIN where record_time in (select distinct record_time from EBAY_TOP_BERLIN order by record_time desc limit 2)\", sqlite3.connect(\"UsedObjects.db\"))"
   ]
  },
  {
   "cell_type": "code",
   "execution_count": 5,
   "id": "popular-active",
   "metadata": {
    "execution": {
     "iopub.execute_input": "2021-08-18T06:30:07.791785Z",
     "iopub.status.busy": "2021-08-18T06:30:07.780163Z",
     "iopub.status.idle": "2021-08-18T06:30:07.808769Z",
     "shell.execute_reply": "2021-08-18T06:30:07.809905Z"
    },
    "papermill": {
     "duration": 0.067637,
     "end_time": "2021-08-18T06:30:07.810509",
     "exception": false,
     "start_time": "2021-08-18T06:30:07.742872",
     "status": "completed"
    },
    "tags": []
   },
   "outputs": [],
   "source": [
    "df_pivot = df.pivot_table(index=\"PRODUCT\", columns = \"RECORD_TIME\", values = \"LISTING_COUNT\")"
   ]
  },
  {
   "cell_type": "code",
   "execution_count": 6,
   "id": "union-huntington",
   "metadata": {
    "execution": {
     "iopub.execute_input": "2021-08-18T06:30:07.869386Z",
     "iopub.status.busy": "2021-08-18T06:30:07.866929Z",
     "iopub.status.idle": "2021-08-18T06:30:07.872742Z",
     "shell.execute_reply": "2021-08-18T06:30:07.874096Z"
    },
    "papermill": {
     "duration": 0.041935,
     "end_time": "2021-08-18T06:30:07.874520",
     "exception": false,
     "start_time": "2021-08-18T06:30:07.832585",
     "status": "completed"
    },
    "tags": []
   },
   "outputs": [],
   "source": [
    "df_pivot.columns = [\"stamp_1\", \"stamp_2\"]\n",
    "df_pivot_diff = df_pivot.diff(axis=1)"
   ]
  },
  {
   "cell_type": "code",
   "execution_count": 7,
   "id": "fifth-motion",
   "metadata": {
    "execution": {
     "iopub.execute_input": "2021-08-18T06:30:07.929661Z",
     "iopub.status.busy": "2021-08-18T06:30:07.927303Z",
     "iopub.status.idle": "2021-08-18T06:30:09.443686Z",
     "shell.execute_reply": "2021-08-18T06:30:09.444985Z"
    },
    "papermill": {
     "duration": 1.550482,
     "end_time": "2021-08-18T06:30:09.445405",
     "exception": false,
     "start_time": "2021-08-18T06:30:07.894923",
     "status": "completed"
    },
    "tags": []
   },
   "outputs": [
    {
     "data": {
      "text/plain": [
       "<AxesSubplot:ylabel='PRODUCT'>"
      ]
     },
     "execution_count": 7,
     "metadata": {},
     "output_type": "execute_result"
    },
    {
     "data": {
      "image/png": "[encoded data removed]",
      "text/plain": [
       "<Figure size 432x288 with 1 Axes>"
      ]
     },
     "metadata": {
      "needs_background": "light"
     },
     "output_type": "display_data"
    }
   ],
   "source": [
    "df_pivot_diff.sort_values(\"stamp_2\", ascending = False)[\"stamp_2\"].head(10).plot.barh()"
   ]
  },
  {
   "cell_type": "code",
   "execution_count": null,
   "id": "extra-executive",
   "metadata": {
    "papermill": {
     "duration": 0.022041,
     "end_time": "2021-08-18T06:30:09.491235",
     "exception": false,
     "start_time": "2021-08-18T06:30:09.469194",
     "status": "completed"
    },
    "tags": []
   },
   "outputs": [],
   "source": []
  }
 ],
 "metadata": {
  "kernelspec": {
   "display_name": "Python 3",
   "language": "python",
   "name": "python3"
  },
  "language_info": {
   "codemirror_mode": {
    "name": "ipython",
    "version": 3
   },
   "file_extension": ".py",
   "mimetype": "text/x-python",
   "name": "python",
   "nbconvert_exporter": "python",
   "pygments_lexer": "ipython3",
   "version": "3.9.5"
  },
  "papermill": {
   "default_parameters": {},
   "duration": 6.837737,
   "end_time": "2021-08-18T06:30:10.915621",
   "environment_variables": {},
   "exception": null,
   "input_path": "eBay_Overview.ipynb",
   "output_path": "eBay_Overview.ipynb",
   "parameters": {},
   "start_time": "2021-08-18T06:30:04.077884",
   "version": "2.3.3"
  }
 },
 "nbformat": 4,
 "nbformat_minor": 5
}