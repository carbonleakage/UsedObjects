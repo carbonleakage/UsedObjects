{
 "cells": [
  {
   "cell_type": "code",
   "execution_count": 1,
   "id": "reverse-picking",
   "metadata": {
    "execution": {
     "iopub.execute_input": "2021-10-16T18:30:06.990966Z",
     "iopub.status.busy": "2021-10-16T18:30:06.988971Z",
     "iopub.status.idle": "2021-10-16T18:30:07.798662Z",
     "shell.execute_reply": "2021-10-16T18:30:07.799930Z"
    },
    "papermill": {
     "duration": 0.861824,
     "end_time": "2021-10-16T18:30:07.800552",
     "exception": false,
     "start_time": "2021-10-16T18:30:06.938728",
     "status": "completed"
    },
    "tags": []
   },
   "outputs": [],
   "source": [
    "import pandas as pd\n",
    "import sqlite3"
   ]
  },
  {
   "cell_type": "code",
   "execution_count": 2,
   "id": "innovative-syndrome",
   "metadata": {
    "execution": {
     "iopub.execute_input": "2021-10-16T18:30:07.853600Z",
     "iopub.status.busy": "2021-10-16T18:30:07.851219Z",
     "iopub.status.idle": "2021-10-16T18:30:08.409102Z",
     "shell.execute_reply": "2021-10-16T18:30:08.410342Z"
    },
    "papermill": {
     "duration": 0.587869,
     "end_time": "2021-10-16T18:30:08.410740",
     "exception": false,
     "start_time": "2021-10-16T18:30:07.822871",
     "status": "completed"
    },
    "tags": []
   },
   "outputs": [],
   "source": [
    "timestamps = pd.read_sql(\"select distinct record_time from EBAY_TOP_BERLIN order by record_time desc limit 2\", sqlite3.connect(\"UsedObjects.db\"))"
   ]
  },
  {
   "cell_type": "code",
   "execution_count": 3,
   "id": "periodic-identification",
   "metadata": {
    "execution": {
     "iopub.execute_input": "2021-10-16T18:30:08.489829Z",
     "iopub.status.busy": "2021-10-16T18:30:08.484531Z",
     "iopub.status.idle": "2021-10-16T18:30:08.509023Z",
     "shell.execute_reply": "2021-10-16T18:30:08.507458Z"
    },
    "papermill": {
     "duration": 0.070943,
     "end_time": "2021-10-16T18:30:08.509424",
     "exception": false,
     "start_time": "2021-10-16T18:30:08.438481",
     "status": "completed"
    },
    "tags": []
   },
   "outputs": [
    {
     "data": {
      "text/html": [
       "<div>\n",
       "<style scoped>\n",
       "    .dataframe tbody tr th:only-of-type {\n",
       "        vertical-align: middle;\n",
       "    }\n",
       "\n",
       "    .dataframe tbody tr th {\n",
       "        vertical-align: top;\n",
       "    }\n",
       "\n",
       "    .dataframe thead th {\n",
       "        text-align: right;\n",
       "    }\n",
       "</style>\n",
       "<table border=\"1\" class=\"dataframe\">\n",
       "  <thead>\n",
       "    <tr style=\"text-align: right;\">\n",
       "      <th></th>\n",
       "      <th>RECORD_TIME</th>\n",
       "    </tr>\n",
       "  </thead>\n",
       "  <tbody>\n",
       "    <tr>\n",
       "      <th>0</th>\n",
       "      <td>2021-10-16 20:30</td>\n",
       "    </tr>\n",
       "    <tr>\n",
       "      <th>1</th>\n",
       "      <td>2021-10-16 20:00</td>\n",
       "    </tr>\n",
       "  </tbody>\n",
       "</table>\n",
       "</div>"
      ],
      "text/plain": [
       "        RECORD_TIME\n",
       "0  2021-10-16 20:30\n",
       "1  2021-10-16 20:00"
      ]
     },
     "execution_count": 3,
     "metadata": {},
     "output_type": "execute_result"
    }
   ],
   "source": [
    "timestamps"
   ]
  },
  {
   "cell_type": "code",
   "execution_count": 4,
   "id": "alternate-victory",
   "metadata": {
    "execution": {
     "iopub.execute_input": "2021-10-16T18:30:08.561297Z",
     "iopub.status.busy": "2021-10-16T18:30:08.559291Z",
     "iopub.status.idle": "2021-10-16T18:30:09.388393Z",
     "shell.execute_reply": "2021-10-16T18:30:09.389848Z"
    },
    "papermill": {
     "duration": 0.859117,
     "end_time": "2021-10-16T18:30:09.390303",
     "exception": false,
     "start_time": "2021-10-16T18:30:08.531186",
     "status": "completed"
    },
    "tags": []
   },
   "outputs": [],
   "source": [
    "df = pd.read_sql(\"select * from EBAY_TOP_BERLIN where record_time in (select distinct record_time from EBAY_TOP_BERLIN order by record_time desc limit 2)\", sqlite3.connect(\"UsedObjects.db\"))"
   ]
  },
  {
   "cell_type": "code",
   "execution_count": 5,
   "id": "popular-active",
   "metadata": {
    "execution": {
     "iopub.execute_input": "2021-10-16T18:30:09.460980Z",
     "iopub.status.busy": "2021-10-16T18:30:09.449851Z",
     "iopub.status.idle": "2021-10-16T18:30:09.477497Z",
     "shell.execute_reply": "2021-10-16T18:30:09.478725Z"
    },
    "papermill": {
     "duration": 0.067919,
     "end_time": "2021-10-16T18:30:09.479127",
     "exception": false,
     "start_time": "2021-10-16T18:30:09.411208",
     "status": "completed"
    },
    "tags": []
   },
   "outputs": [],
   "source": [
    "df_pivot = df.pivot_table(index=\"PRODUCT\", columns = \"RECORD_TIME\", values = \"LISTING_COUNT\")"
   ]
  },
  {
   "cell_type": "code",
   "execution_count": 6,
   "id": "union-huntington",
   "metadata": {
    "execution": {
     "iopub.execute_input": "2021-10-16T18:30:09.539039Z",
     "iopub.status.busy": "2021-10-16T18:30:09.536521Z",
     "iopub.status.idle": "2021-10-16T18:30:09.544490Z",
     "shell.execute_reply": "2021-10-16T18:30:09.542927Z"
    },
    "papermill": {
     "duration": 0.042813,
     "end_time": "2021-10-16T18:30:09.544946",
     "exception": false,
     "start_time": "2021-10-16T18:30:09.502133",
     "status": "completed"
    },
    "tags": []
   },
   "outputs": [],
   "source": [
    "df_pivot.columns = [\"stamp_1\", \"stamp_2\"]\n",
    "df_pivot_diff = df_pivot.diff(axis=1)"
   ]
  },
  {
   "cell_type": "code",
   "execution_count": 7,
   "id": "fifth-motion",
   "metadata": {
    "execution": {
     "iopub.execute_input": "2021-10-16T18:30:09.599527Z",
     "iopub.status.busy": "2021-10-16T18:30:09.597148Z",
     "iopub.status.idle": "2021-10-16T18:30:11.086023Z",
     "shell.execute_reply": "2021-10-16T18:30:11.087400Z"
    },
    "papermill": {
     "duration": 1.52177,
     "end_time": "2021-10-16T18:30:11.087851",
     "exception": false,
     "start_time": "2021-10-16T18:30:09.566081",
     "status": "completed"
    },
    "tags": []
   },
   "outputs": [
    {
     "data": {
      "text/plain": [
       "<AxesSubplot:ylabel='PRODUCT'>"
      ]
     },
     "execution_count": 7,
     "metadata": {},
     "output_type": "execute_result"
    },
    {
     "data": {
      "image/png": "[encoded data removed]",
      "text/plain": [
       "<Figure size 432x288 with 1 Axes>"
      ]
     },
     "metadata": {
      "needs_background": "light"
     },
     "output_type": "display_data"
    }
   ],
   "source": [
    "df_pivot_diff.sort_values(\"stamp_2\", ascending = False)[\"stamp_2\"].head(10).plot.barh()"
   ]
  },
  {
   "cell_type": "code",
   "execution_count": null,
   "id": "extra-executive",
   "metadata": {
    "papermill": {
     "duration": 0.027604,
     "end_time": "2021-10-16T18:30:11.164505",
     "exception": false,
     "start_time": "2021-10-16T18:30:11.136901",
     "status": "completed"
    },
    "tags": []
   },
   "outputs": [],
   "source": []
  }
 ],
 "metadata": {
  "kernelspec": {
   "display_name": "Python 3",
   "language": "python",
   "name": "python3"
  },
  "language_info": {
   "codemirror_mode": {
    "name": "ipython",
    "version": 3
   },
   "file_extension": ".py",
   "mimetype": "text/x-python",
   "name": "python",
   "nbconvert_exporter": "python",
   "pygments_lexer": "ipython3",
   "version": "3.9.5"
  },
  "papermill": {
   "default_parameters": {},
   "duration": 7.828137,
   "end_time": "2021-10-16T18:30:12.348092",
   "environment_variables": {},
   "exception": null,
   "input_path": "eBay_Overview.ipynb",
   "output_path": "eBay_Overview.ipynb",
   "parameters": {},
   "start_time": "2021-10-16T18:30:04.519955",
   "version": "2.3.3"
  }
 },
 "nbformat": 4,
 "nbformat_minor": 5
}