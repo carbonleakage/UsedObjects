{
 "cells": [
  {
   "cell_type": "code",
   "execution_count": 1,
   "id": "reverse-picking",
   "metadata": {
    "execution": {
     "iopub.execute_input": "2021-10-18T17:30:07.358957Z",
     "iopub.status.busy": "2021-10-18T17:30:07.356106Z",
     "iopub.status.idle": "2021-10-18T17:30:08.163135Z",
     "shell.execute_reply": "2021-10-18T17:30:08.164358Z"
    },
    "papermill": {
     "duration": 0.858907,
     "end_time": "2021-10-18T17:30:08.165083",
     "exception": false,
     "start_time": "2021-10-18T17:30:07.306176",
     "status": "completed"
    },
    "tags": []
   },
   "outputs": [],
   "source": [
    "import pandas as pd\n",
    "import sqlite3"
   ]
  },
  {
   "cell_type": "code",
   "execution_count": 2,
   "id": "innovative-syndrome",
   "metadata": {
    "execution": {
     "iopub.execute_input": "2021-10-18T17:30:08.215901Z",
     "iopub.status.busy": "2021-10-18T17:30:08.213872Z",
     "iopub.status.idle": "2021-10-18T17:30:08.790372Z",
     "shell.execute_reply": "2021-10-18T17:30:08.791569Z"
    },
    "papermill": {
     "duration": 0.606762,
     "end_time": "2021-10-18T17:30:08.791963",
     "exception": false,
     "start_time": "2021-10-18T17:30:08.185201",
     "status": "completed"
    },
    "tags": []
   },
   "outputs": [],
   "source": [
    "timestamps = pd.read_sql(\"select distinct record_time from EBAY_TOP_BERLIN order by record_time desc limit 2\", sqlite3.connect(\"UsedObjects.db\"))"
   ]
  },
  {
   "cell_type": "code",
   "execution_count": 3,
   "id": "periodic-identification",
   "metadata": {
    "execution": {
     "iopub.execute_input": "2021-10-18T17:30:08.868095Z",
     "iopub.status.busy": "2021-10-18T17:30:08.866093Z",
     "iopub.status.idle": "2021-10-18T17:30:08.885945Z",
     "shell.execute_reply": "2021-10-18T17:30:08.887225Z"
    },
    "papermill": {
     "duration": 0.069597,
     "end_time": "2021-10-18T17:30:08.887638",
     "exception": false,
     "start_time": "2021-10-18T17:30:08.818041",
     "status": "completed"
    },
    "tags": []
   },
   "outputs": [
    {
     "data": {
      "text/html": [
       "<div>\n",
       "<style scoped>\n",
       "    .dataframe tbody tr th:only-of-type {\n",
       "        vertical-align: middle;\n",
       "    }\n",
       "\n",
       "    .dataframe tbody tr th {\n",
       "        vertical-align: top;\n",
       "    }\n",
       "\n",
       "    .dataframe thead th {\n",
       "        text-align: right;\n",
       "    }\n",
       "</style>\n",
       "<table border=\"1\" class=\"dataframe\">\n",
       "  <thead>\n",
       "    <tr style=\"text-align: right;\">\n",
       "      <th></th>\n",
       "      <th>RECORD_TIME</th>\n",
       "    </tr>\n",
       "  </thead>\n",
       "  <tbody>\n",
       "    <tr>\n",
       "      <th>0</th>\n",
       "      <td>2021-10-18 19:30</td>\n",
       "    </tr>\n",
       "    <tr>\n",
       "      <th>1</th>\n",
       "      <td>2021-10-18 19:00</td>\n",
       "    </tr>\n",
       "  </tbody>\n",
       "</table>\n",
       "</div>"
      ],
      "text/plain": [
       "        RECORD_TIME\n",
       "0  2021-10-18 19:30\n",
       "1  2021-10-18 19:00"
      ]
     },
     "execution_count": 3,
     "metadata": {},
     "output_type": "execute_result"
    }
   ],
   "source": [
    "timestamps"
   ]
  },
  {
   "cell_type": "code",
   "execution_count": 4,
   "id": "alternate-victory",
   "metadata": {
    "execution": {
     "iopub.execute_input": "2021-10-18T17:30:08.937645Z",
     "iopub.status.busy": "2021-10-18T17:30:08.935739Z",
     "iopub.status.idle": "2021-10-18T17:30:09.760834Z",
     "shell.execute_reply": "2021-10-18T17:30:09.762222Z"
    },
    "papermill": {
     "duration": 0.854938,
     "end_time": "2021-10-18T17:30:09.762648",
     "exception": false,
     "start_time": "2021-10-18T17:30:08.907710",
     "status": "completed"
    },
    "tags": []
   },
   "outputs": [],
   "source": [
    "df = pd.read_sql(\"select * from EBAY_TOP_BERLIN where record_time in (select distinct record_time from EBAY_TOP_BERLIN order by record_time desc limit 2)\", sqlite3.connect(\"UsedObjects.db\"))"
   ]
  },
  {
   "cell_type": "code",
   "execution_count": 5,
   "id": "popular-active",
   "metadata": {
    "execution": {
     "iopub.execute_input": "2021-10-18T17:30:09.833211Z",
     "iopub.status.busy": "2021-10-18T17:30:09.826276Z",
     "iopub.status.idle": "2021-10-18T17:30:09.848548Z",
     "shell.execute_reply": "2021-10-18T17:30:09.849843Z"
    },
    "papermill": {
     "duration": 0.067266,
     "end_time": "2021-10-18T17:30:09.850247",
     "exception": false,
     "start_time": "2021-10-18T17:30:09.782981",
     "status": "completed"
    },
    "tags": []
   },
   "outputs": [],
   "source": [
    "df_pivot = df.pivot_table(index=\"PRODUCT\", columns = \"RECORD_TIME\", values = \"LISTING_COUNT\")"
   ]
  },
  {
   "cell_type": "code",
   "execution_count": 6,
   "id": "union-huntington",
   "metadata": {
    "execution": {
     "iopub.execute_input": "2021-10-18T17:30:09.906108Z",
     "iopub.status.busy": "2021-10-18T17:30:09.903922Z",
     "iopub.status.idle": "2021-10-18T17:30:09.909538Z",
     "shell.execute_reply": "2021-10-18T17:30:09.910817Z"
    },
    "papermill": {
     "duration": 0.040496,
     "end_time": "2021-10-18T17:30:09.911268",
     "exception": false,
     "start_time": "2021-10-18T17:30:09.870772",
     "status": "completed"
    },
    "tags": []
   },
   "outputs": [],
   "source": [
    "df_pivot.columns = [\"stamp_1\", \"stamp_2\"]\n",
    "df_pivot_diff = df_pivot.diff(axis=1)"
   ]
  },
  {
   "cell_type": "code",
   "execution_count": 7,
   "id": "fifth-motion",
   "metadata": {
    "execution": {
     "iopub.execute_input": "2021-10-18T17:30:09.966322Z",
     "iopub.status.busy": "2021-10-18T17:30:09.963770Z",
     "iopub.status.idle": "2021-10-18T17:30:11.485902Z",
     "shell.execute_reply": "2021-10-18T17:30:11.487320Z"
    },
    "papermill": {
     "duration": 1.555341,
     "end_time": "2021-10-18T17:30:11.487756",
     "exception": false,
     "start_time": "2021-10-18T17:30:09.932415",
     "status": "completed"
    },
    "tags": []
   },
   "outputs": [
    {
     "data": {
      "text/plain": [
       "<AxesSubplot:ylabel='PRODUCT'>"
      ]
     },
     "execution_count": 7,
     "metadata": {},
     "output_type": "execute_result"
    },
    {
     "data": {
      "image/png": "[encoded data removed]",
      "text/plain": [
       "<Figure size 432x288 with 1 Axes>"
      ]
     },
     "metadata": {
      "needs_background": "light"
     },
     "output_type": "display_data"
    }
   ],
   "source": [
    "df_pivot_diff.sort_values(\"stamp_2\", ascending = False)[\"stamp_2\"].head(10).plot.barh()"
   ]
  },
  {
   "cell_type": "code",
   "execution_count": null,
   "id": "extra-executive",
   "metadata": {
    "papermill": {
     "duration": 0.021923,
     "end_time": "2021-10-18T17:30:11.533989",
     "exception": false,
     "start_time": "2021-10-18T17:30:11.512066",
     "status": "completed"
    },
    "tags": []
   },
   "outputs": [],
   "source": []
  }
 ],
 "metadata": {
  "kernelspec": {
   "display_name": "Python 3",
   "language": "python",
   "name": "python3"
  },
  "language_info": {
   "codemirror_mode": {
    "name": "ipython",
    "version": 3
   },
   "file_extension": ".py",
   "mimetype": "text/x-python",
   "name": "python",
   "nbconvert_exporter": "python",
   "pygments_lexer": "ipython3",
   "version": "3.9.5"
  },
  "papermill": {
   "default_parameters": {},
   "duration": 7.818497,
   "end_time": "2021-10-18T17:30:12.725385",
   "environment_variables": {},
   "exception": null,
   "input_path": "eBay_Overview.ipynb",
   "output_path": "eBay_Overview.ipynb",
   "parameters": {},
   "start_time": "2021-10-18T17:30:04.906888",
   "version": "2.3.3"
  }
 },
 "nbformat": 4,
 "nbformat_minor": 5
}