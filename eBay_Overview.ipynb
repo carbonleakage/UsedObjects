{
 "cells": [
  {
   "cell_type": "code",
   "execution_count": 1,
   "id": "reverse-picking",
   "metadata": {
    "execution": {
     "iopub.execute_input": "2021-12-19T21:00:07.624887Z",
     "iopub.status.busy": "2021-12-19T21:00:07.622008Z",
     "iopub.status.idle": "2021-12-19T21:00:08.597824Z",
     "shell.execute_reply": "2021-12-19T21:00:08.599380Z"
    },
    "papermill": {
     "duration": 1.013282,
     "end_time": "2021-12-19T21:00:08.600177",
     "exception": false,
     "start_time": "2021-12-19T21:00:07.586895",
     "status": "completed"
    },
    "tags": []
   },
   "outputs": [],
   "source": [
    "import pandas as pd\n",
    "import sqlite3"
   ]
  },
  {
   "cell_type": "code",
   "execution_count": 2,
   "id": "innovative-syndrome",
   "metadata": {
    "execution": {
     "iopub.execute_input": "2021-12-19T21:00:08.678406Z",
     "iopub.status.busy": "2021-12-19T21:00:08.676071Z",
     "iopub.status.idle": "2021-12-19T21:00:09.804186Z",
     "shell.execute_reply": "2021-12-19T21:00:09.805630Z"
    },
    "papermill": {
     "duration": 1.16333,
     "end_time": "2021-12-19T21:00:09.806060",
     "exception": false,
     "start_time": "2021-12-19T21:00:08.642730",
     "status": "completed"
    },
    "tags": []
   },
   "outputs": [],
   "source": [
    "timestamps = pd.read_sql(\"select distinct record_time from EBAY_TOP_BERLIN order by record_time desc limit 2\", sqlite3.connect(\"UsedObjects.db\"))"
   ]
  },
  {
   "cell_type": "code",
   "execution_count": 3,
   "id": "periodic-identification",
   "metadata": {
    "execution": {
     "iopub.execute_input": "2021-12-19T21:00:09.875310Z",
     "iopub.status.busy": "2021-12-19T21:00:09.873078Z",
     "iopub.status.idle": "2021-12-19T21:00:09.893924Z",
     "shell.execute_reply": "2021-12-19T21:00:09.895522Z"
    },
    "papermill": {
     "duration": 0.06894,
     "end_time": "2021-12-19T21:00:09.896013",
     "exception": false,
     "start_time": "2021-12-19T21:00:09.827073",
     "status": "completed"
    },
    "tags": []
   },
   "outputs": [
    {
     "data": {
      "text/html": [
       "<div>\n",
       "<style scoped>\n",
       "    .dataframe tbody tr th:only-of-type {\n",
       "        vertical-align: middle;\n",
       "    }\n",
       "\n",
       "    .dataframe tbody tr th {\n",
       "        vertical-align: top;\n",
       "    }\n",
       "\n",
       "    .dataframe thead th {\n",
       "        text-align: right;\n",
       "    }\n",
       "</style>\n",
       "<table border=\"1\" class=\"dataframe\">\n",
       "  <thead>\n",
       "    <tr style=\"text-align: right;\">\n",
       "      <th></th>\n",
       "      <th>RECORD_TIME</th>\n",
       "    </tr>\n",
       "  </thead>\n",
       "  <tbody>\n",
       "    <tr>\n",
       "      <th>0</th>\n",
       "      <td>2021-12-19 22:00</td>\n",
       "    </tr>\n",
       "    <tr>\n",
       "      <th>1</th>\n",
       "      <td>2021-12-19 21:30</td>\n",
       "    </tr>\n",
       "  </tbody>\n",
       "</table>\n",
       "</div>"
      ],
      "text/plain": [
       "        RECORD_TIME\n",
       "0  2021-12-19 22:00\n",
       "1  2021-12-19 21:30"
      ]
     },
     "execution_count": 3,
     "metadata": {},
     "output_type": "execute_result"
    }
   ],
   "source": [
    "timestamps"
   ]
  },
  {
   "cell_type": "code",
   "execution_count": 4,
   "id": "alternate-victory",
   "metadata": {
    "execution": {
     "iopub.execute_input": "2021-12-19T21:00:09.951003Z",
     "iopub.status.busy": "2021-12-19T21:00:09.948893Z",
     "iopub.status.idle": "2021-12-19T21:00:11.590986Z",
     "shell.execute_reply": "2021-12-19T21:00:11.593268Z"
    },
    "papermill": {
     "duration": 1.675273,
     "end_time": "2021-12-19T21:00:11.593765",
     "exception": false,
     "start_time": "2021-12-19T21:00:09.918492",
     "status": "completed"
    },
    "tags": []
   },
   "outputs": [],
   "source": [
    "df = pd.read_sql(\"select * from EBAY_TOP_BERLIN where record_time in (select distinct record_time from EBAY_TOP_BERLIN order by record_time desc limit 2)\", sqlite3.connect(\"UsedObjects.db\"))"
   ]
  },
  {
   "cell_type": "code",
   "execution_count": 5,
   "id": "popular-active",
   "metadata": {
    "execution": {
     "iopub.execute_input": "2021-12-19T21:00:11.671577Z",
     "iopub.status.busy": "2021-12-19T21:00:11.656727Z",
     "iopub.status.idle": "2021-12-19T21:00:11.691197Z",
     "shell.execute_reply": "2021-12-19T21:00:11.692562Z"
    },
    "papermill": {
     "duration": 0.078609,
     "end_time": "2021-12-19T21:00:11.693104",
     "exception": false,
     "start_time": "2021-12-19T21:00:11.614495",
     "status": "completed"
    },
    "tags": []
   },
   "outputs": [],
   "source": [
    "df_pivot = df.pivot_table(index=\"PRODUCT\", columns = \"RECORD_TIME\", values = \"LISTING_COUNT\")"
   ]
  },
  {
   "cell_type": "code",
   "execution_count": 6,
   "id": "union-huntington",
   "metadata": {
    "execution": {
     "iopub.execute_input": "2021-12-19T21:00:11.751843Z",
     "iopub.status.busy": "2021-12-19T21:00:11.749617Z",
     "iopub.status.idle": "2021-12-19T21:00:11.757030Z",
     "shell.execute_reply": "2021-12-19T21:00:11.755373Z"
    },
    "papermill": {
     "duration": 0.044164,
     "end_time": "2021-12-19T21:00:11.757442",
     "exception": false,
     "start_time": "2021-12-19T21:00:11.713278",
     "status": "completed"
    },
    "tags": []
   },
   "outputs": [],
   "source": [
    "df_pivot.columns = [\"stamp_1\", \"stamp_2\"]\n",
    "df_pivot_diff = df_pivot.diff(axis=1)"
   ]
  },
  {
   "cell_type": "code",
   "execution_count": 7,
   "id": "fifth-motion",
   "metadata": {
    "execution": {
     "iopub.execute_input": "2021-12-19T21:00:11.817427Z",
     "iopub.status.busy": "2021-12-19T21:00:11.814785Z",
     "iopub.status.idle": "2021-12-19T21:00:13.798261Z",
     "shell.execute_reply": "2021-12-19T21:00:13.800113Z"
    },
    "papermill": {
     "duration": 2.022828,
     "end_time": "2021-12-19T21:00:13.800740",
     "exception": false,
     "start_time": "2021-12-19T21:00:11.777912",
     "status": "completed"
    },
    "tags": []
   },
   "outputs": [
    {
     "data": {
      "text/plain": [
       "<AxesSubplot:ylabel='PRODUCT'>"
      ]
     },
     "execution_count": 7,
     "metadata": {},
     "output_type": "execute_result"
    },
    {
     "data": {
      "image/png": "[encoded data removed]",
      "text/plain": [
       "<Figure size 432x288 with 1 Axes>"
      ]
     },
     "metadata": {
      "needs_background": "light"
     },
     "output_type": "display_data"
    }
   ],
   "source": [
    "df_pivot_diff.sort_values(\"stamp_2\", ascending = False)[\"stamp_2\"].head(10).plot.barh()"
   ]
  },
  {
   "cell_type": "code",
   "execution_count": null,
   "id": "extra-executive",
   "metadata": {
    "papermill": {
     "duration": 0.027865,
     "end_time": "2021-12-19T21:00:13.867460",
     "exception": false,
     "start_time": "2021-12-19T21:00:13.839595",
     "status": "completed"
    },
    "tags": []
   },
   "outputs": [],
   "source": []
  }
 ],
 "metadata": {
  "kernelspec": {
   "display_name": "Python 3",
   "language": "python",
   "name": "python3"
  },
  "language_info": {
   "codemirror_mode": {
    "name": "ipython",
    "version": 3
   },
   "file_extension": ".py",
   "mimetype": "text/x-python",
   "name": "python",
   "nbconvert_exporter": "python",
   "pygments_lexer": "ipython3",
   "version": "3.9.5"
  },
  "papermill": {
   "default_parameters": {},
   "duration": 9.665974,
   "end_time": "2021-12-19T21:00:14.517686",
   "environment_variables": {},
   "exception": null,
   "input_path": "eBay_Overview.ipynb",
   "output_path": "eBay_Overview.ipynb",
   "parameters": {},
   "start_time": "2021-12-19T21:00:04.851712",
   "version": "2.3.3"
  }
 },
 "nbformat": 4,
 "nbformat_minor": 5
}