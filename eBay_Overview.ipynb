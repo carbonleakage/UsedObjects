{
 "cells": [
  {
   "cell_type": "code",
   "execution_count": 1,
   "id": "reverse-picking",
   "metadata": {
    "execution": {
     "iopub.execute_input": "2021-08-29T02:30:06.948944Z",
     "iopub.status.busy": "2021-08-29T02:30:06.946892Z",
     "iopub.status.idle": "2021-08-29T02:30:07.755293Z",
     "shell.execute_reply": "2021-08-29T02:30:07.753724Z"
    },
    "papermill": {
     "duration": 0.855871,
     "end_time": "2021-08-29T02:30:07.755692",
     "exception": false,
     "start_time": "2021-08-29T02:30:06.899821",
     "status": "completed"
    },
    "tags": []
   },
   "outputs": [],
   "source": [
    "import pandas as pd\n",
    "import sqlite3"
   ]
  },
  {
   "cell_type": "code",
   "execution_count": 2,
   "id": "innovative-syndrome",
   "metadata": {
    "execution": {
     "iopub.execute_input": "2021-08-29T02:30:07.809148Z",
     "iopub.status.busy": "2021-08-29T02:30:07.806748Z",
     "iopub.status.idle": "2021-08-29T02:30:07.962287Z",
     "shell.execute_reply": "2021-08-29T02:30:07.963573Z"
    },
    "papermill": {
     "duration": 0.185389,
     "end_time": "2021-08-29T02:30:07.963991",
     "exception": false,
     "start_time": "2021-08-29T02:30:07.778602",
     "status": "completed"
    },
    "tags": []
   },
   "outputs": [],
   "source": [
    "timestamps = pd.read_sql(\"select distinct record_time from EBAY_TOP_BERLIN order by record_time desc limit 2\", sqlite3.connect(\"UsedObjects.db\"))"
   ]
  },
  {
   "cell_type": "code",
   "execution_count": 3,
   "id": "periodic-identification",
   "metadata": {
    "execution": {
     "iopub.execute_input": "2021-08-29T02:30:08.030282Z",
     "iopub.status.busy": "2021-08-29T02:30:08.028203Z",
     "iopub.status.idle": "2021-08-29T02:30:08.048277Z",
     "shell.execute_reply": "2021-08-29T02:30:08.049597Z"
    },
    "papermill": {
     "duration": 0.066618,
     "end_time": "2021-08-29T02:30:08.050014",
     "exception": false,
     "start_time": "2021-08-29T02:30:07.983396",
     "status": "completed"
    },
    "tags": []
   },
   "outputs": [
    {
     "data": {
      "text/html": [
       "<div>\n",
       "<style scoped>\n",
       "    .dataframe tbody tr th:only-of-type {\n",
       "        vertical-align: middle;\n",
       "    }\n",
       "\n",
       "    .dataframe tbody tr th {\n",
       "        vertical-align: top;\n",
       "    }\n",
       "\n",
       "    .dataframe thead th {\n",
       "        text-align: right;\n",
       "    }\n",
       "</style>\n",
       "<table border=\"1\" class=\"dataframe\">\n",
       "  <thead>\n",
       "    <tr style=\"text-align: right;\">\n",
       "      <th></th>\n",
       "      <th>RECORD_TIME</th>\n",
       "    </tr>\n",
       "  </thead>\n",
       "  <tbody>\n",
       "    <tr>\n",
       "      <th>0</th>\n",
       "      <td>2021-08-29 04:30</td>\n",
       "    </tr>\n",
       "    <tr>\n",
       "      <th>1</th>\n",
       "      <td>2021-08-29 04:00</td>\n",
       "    </tr>\n",
       "  </tbody>\n",
       "</table>\n",
       "</div>"
      ],
      "text/plain": [
       "        RECORD_TIME\n",
       "0  2021-08-29 04:30\n",
       "1  2021-08-29 04:00"
      ]
     },
     "execution_count": 3,
     "metadata": {},
     "output_type": "execute_result"
    }
   ],
   "source": [
    "timestamps"
   ]
  },
  {
   "cell_type": "code",
   "execution_count": 4,
   "id": "alternate-victory",
   "metadata": {
    "execution": {
     "iopub.execute_input": "2021-08-29T02:30:08.101010Z",
     "iopub.status.busy": "2021-08-29T02:30:08.099061Z",
     "iopub.status.idle": "2021-08-29T02:30:08.332157Z",
     "shell.execute_reply": "2021-08-29T02:30:08.333458Z"
    },
    "papermill": {
     "duration": 0.262918,
     "end_time": "2021-08-29T02:30:08.333858",
     "exception": false,
     "start_time": "2021-08-29T02:30:08.070940",
     "status": "completed"
    },
    "tags": []
   },
   "outputs": [],
   "source": [
    "df = pd.read_sql(\"select * from EBAY_TOP_BERLIN where record_time in (select distinct record_time from EBAY_TOP_BERLIN order by record_time desc limit 2)\", sqlite3.connect(\"UsedObjects.db\"))"
   ]
  },
  {
   "cell_type": "code",
   "execution_count": 5,
   "id": "popular-active",
   "metadata": {
    "execution": {
     "iopub.execute_input": "2021-08-29T02:30:08.408675Z",
     "iopub.status.busy": "2021-08-29T02:30:08.399684Z",
     "iopub.status.idle": "2021-08-29T02:30:08.428995Z",
     "shell.execute_reply": "2021-08-29T02:30:08.430378Z"
    },
    "papermill": {
     "duration": 0.075873,
     "end_time": "2021-08-29T02:30:08.430801",
     "exception": false,
     "start_time": "2021-08-29T02:30:08.354928",
     "status": "completed"
    },
    "tags": []
   },
   "outputs": [],
   "source": [
    "df_pivot = df.pivot_table(index=\"PRODUCT\", columns = \"RECORD_TIME\", values = \"LISTING_COUNT\")"
   ]
  },
  {
   "cell_type": "code",
   "execution_count": 6,
   "id": "union-huntington",
   "metadata": {
    "execution": {
     "iopub.execute_input": "2021-08-29T02:30:08.485802Z",
     "iopub.status.busy": "2021-08-29T02:30:08.483656Z",
     "iopub.status.idle": "2021-08-29T02:30:08.488836Z",
     "shell.execute_reply": "2021-08-29T02:30:08.490135Z"
    },
    "papermill": {
     "duration": 0.039877,
     "end_time": "2021-08-29T02:30:08.490553",
     "exception": false,
     "start_time": "2021-08-29T02:30:08.450676",
     "status": "completed"
    },
    "tags": []
   },
   "outputs": [],
   "source": [
    "df_pivot.columns = [\"stamp_1\", \"stamp_2\"]\n",
    "df_pivot_diff = df_pivot.diff(axis=1)"
   ]
  },
  {
   "cell_type": "code",
   "execution_count": 7,
   "id": "fifth-motion",
   "metadata": {
    "execution": {
     "iopub.execute_input": "2021-08-29T02:30:08.545293Z",
     "iopub.status.busy": "2021-08-29T02:30:08.542738Z",
     "iopub.status.idle": "2021-08-29T02:30:10.048717Z",
     "shell.execute_reply": "2021-08-29T02:30:10.050150Z"
    },
    "papermill": {
     "duration": 1.538916,
     "end_time": "2021-08-29T02:30:10.050593",
     "exception": false,
     "start_time": "2021-08-29T02:30:08.511677",
     "status": "completed"
    },
    "tags": []
   },
   "outputs": [
    {
     "data": {
      "text/plain": [
       "<AxesSubplot:ylabel='PRODUCT'>"
      ]
     },
     "execution_count": 7,
     "metadata": {},
     "output_type": "execute_result"
    },
    {
     "data": {
      "image/png": "[encoded data removed]",
      "text/plain": [
       "<Figure size 432x288 with 1 Axes>"
      ]
     },
     "metadata": {
      "needs_background": "light"
     },
     "output_type": "display_data"
    }
   ],
   "source": [
    "df_pivot_diff.sort_values(\"stamp_2\", ascending = False)[\"stamp_2\"].head(10).plot.barh()"
   ]
  },
  {
   "cell_type": "code",
   "execution_count": null,
   "id": "extra-executive",
   "metadata": {
    "papermill": {
     "duration": 0.022064,
     "end_time": "2021-08-29T02:30:10.096085",
     "exception": false,
     "start_time": "2021-08-29T02:30:10.074021",
     "status": "completed"
    },
    "tags": []
   },
   "outputs": [],
   "source": []
  }
 ],
 "metadata": {
  "kernelspec": {
   "display_name": "Python 3",
   "language": "python",
   "name": "python3"
  },
  "language_info": {
   "codemirror_mode": {
    "name": "ipython",
    "version": 3
   },
   "file_extension": ".py",
   "mimetype": "text/x-python",
   "name": "python",
   "nbconvert_exporter": "python",
   "pygments_lexer": "ipython3",
   "version": "3.9.5"
  },
  "papermill": {
   "default_parameters": {},
   "duration": 6.820396,
   "end_time": "2021-08-29T02:30:11.309087",
   "environment_variables": {},
   "exception": null,
   "input_path": "eBay_Overview.ipynb",
   "output_path": "eBay_Overview.ipynb",
   "parameters": {},
   "start_time": "2021-08-29T02:30:04.488691",
   "version": "2.3.3"
  }
 },
 "nbformat": 4,
 "nbformat_minor": 5
}