{
 "cells": [
  {
   "cell_type": "code",
   "execution_count": 1,
   "id": "reverse-picking",
   "metadata": {
    "execution": {
     "iopub.execute_input": "2021-08-11T02:30:03.651864Z",
     "iopub.status.busy": "2021-08-11T02:30:03.651105Z",
     "iopub.status.idle": "2021-08-11T02:30:04.301313Z",
     "shell.execute_reply": "2021-08-11T02:30:04.301898Z"
    },
    "papermill": {
     "duration": 0.669714,
     "end_time": "2021-08-11T02:30:04.302184",
     "exception": false,
     "start_time": "2021-08-11T02:30:03.632470",
     "status": "completed"
    },
    "tags": []
   },
   "outputs": [],
   "source": [
    "import pandas as pd\n",
    "import sqlite3"
   ]
  },
  {
   "cell_type": "code",
   "execution_count": 2,
   "id": "innovative-syndrome",
   "metadata": {
    "execution": {
     "iopub.execute_input": "2021-08-11T02:30:04.323663Z",
     "iopub.status.busy": "2021-08-11T02:30:04.322869Z",
     "iopub.status.idle": "2021-08-11T02:30:04.693675Z",
     "shell.execute_reply": "2021-08-11T02:30:04.693066Z"
    },
    "papermill": {
     "duration": 0.382981,
     "end_time": "2021-08-11T02:30:04.693836",
     "exception": false,
     "start_time": "2021-08-11T02:30:04.310855",
     "status": "completed"
    },
    "tags": []
   },
   "outputs": [],
   "source": [
    "timestamps = pd.read_sql(\"select distinct record_time from EBAY_TOP_BERLIN order by record_time desc limit 2\", sqlite3.connect(\"UsedObjects.db\"))"
   ]
  },
  {
   "cell_type": "code",
   "execution_count": 3,
   "id": "periodic-identification",
   "metadata": {
    "execution": {
     "iopub.execute_input": "2021-08-11T02:30:04.726966Z",
     "iopub.status.busy": "2021-08-11T02:30:04.726187Z",
     "iopub.status.idle": "2021-08-11T02:30:04.737308Z",
     "shell.execute_reply": "2021-08-11T02:30:04.737877Z"
    },
    "papermill": {
     "duration": 0.032309,
     "end_time": "2021-08-11T02:30:04.738057",
     "exception": false,
     "start_time": "2021-08-11T02:30:04.705748",
     "status": "completed"
    },
    "tags": []
   },
   "outputs": [
    {
     "data": {
      "text/html": [
       "<div>\n",
       "<style scoped>\n",
       "    .dataframe tbody tr th:only-of-type {\n",
       "        vertical-align: middle;\n",
       "    }\n",
       "\n",
       "    .dataframe tbody tr th {\n",
       "        vertical-align: top;\n",
       "    }\n",
       "\n",
       "    .dataframe thead th {\n",
       "        text-align: right;\n",
       "    }\n",
       "</style>\n",
       "<table border=\"1\" class=\"dataframe\">\n",
       "  <thead>\n",
       "    <tr style=\"text-align: right;\">\n",
       "      <th></th>\n",
       "      <th>RECORD_TIME</th>\n",
       "    </tr>\n",
       "  </thead>\n",
       "  <tbody>\n",
       "    <tr>\n",
       "      <th>0</th>\n",
       "      <td>2021-08-11 04:30</td>\n",
       "    </tr>\n",
       "    <tr>\n",
       "      <th>1</th>\n",
       "      <td>2021-08-11 04:00</td>\n",
       "    </tr>\n",
       "  </tbody>\n",
       "</table>\n",
       "</div>"
      ],
      "text/plain": [
       "        RECORD_TIME\n",
       "0  2021-08-11 04:30\n",
       "1  2021-08-11 04:00"
      ]
     },
     "execution_count": 3,
     "metadata": {},
     "output_type": "execute_result"
    }
   ],
   "source": [
    "timestamps"
   ]
  },
  {
   "cell_type": "code",
   "execution_count": 4,
   "id": "alternate-victory",
   "metadata": {
    "execution": {
     "iopub.execute_input": "2021-08-11T02:30:04.760308Z",
     "iopub.status.busy": "2021-08-11T02:30:04.759551Z",
     "iopub.status.idle": "2021-08-11T02:30:04.783704Z",
     "shell.execute_reply": "2021-08-11T02:30:04.784503Z"
    },
    "papermill": {
     "duration": 0.038388,
     "end_time": "2021-08-11T02:30:04.784764",
     "exception": false,
     "start_time": "2021-08-11T02:30:04.746376",
     "status": "completed"
    },
    "tags": []
   },
   "outputs": [],
   "source": [
    "df = pd.read_sql(\"select * from EBAY_TOP_BERLIN where record_time in (select distinct record_time from EBAY_TOP_BERLIN order by record_time desc limit 2)\", sqlite3.connect(\"UsedObjects.db\"))"
   ]
  },
  {
   "cell_type": "code",
   "execution_count": 5,
   "id": "popular-active",
   "metadata": {
    "execution": {
     "iopub.execute_input": "2021-08-11T02:30:04.813481Z",
     "iopub.status.busy": "2021-08-11T02:30:04.812231Z",
     "iopub.status.idle": "2021-08-11T02:30:04.829387Z",
     "shell.execute_reply": "2021-08-11T02:30:04.829952Z"
    },
    "papermill": {
     "duration": 0.036172,
     "end_time": "2021-08-11T02:30:04.830145",
     "exception": false,
     "start_time": "2021-08-11T02:30:04.793973",
     "status": "completed"
    },
    "tags": []
   },
   "outputs": [],
   "source": [
    "df_pivot = df.pivot_table(index=\"PRODUCT\", columns = \"RECORD_TIME\", values = \"LISTING_COUNT\")"
   ]
  },
  {
   "cell_type": "code",
   "execution_count": 6,
   "id": "union-huntington",
   "metadata": {
    "execution": {
     "iopub.execute_input": "2021-08-11T02:30:04.859898Z",
     "iopub.status.busy": "2021-08-11T02:30:04.859207Z",
     "iopub.status.idle": "2021-08-11T02:30:04.864777Z",
     "shell.execute_reply": "2021-08-11T02:30:04.864166Z"
    },
    "papermill": {
     "duration": 0.025875,
     "end_time": "2021-08-11T02:30:04.864938",
     "exception": false,
     "start_time": "2021-08-11T02:30:04.839063",
     "status": "completed"
    },
    "tags": []
   },
   "outputs": [],
   "source": [
    "df_pivot.columns = [\"stamp_1\", \"stamp_2\"]\n",
    "df_pivot_diff = df_pivot.diff(axis=1)"
   ]
  },
  {
   "cell_type": "code",
   "execution_count": 7,
   "id": "fifth-motion",
   "metadata": {
    "execution": {
     "iopub.execute_input": "2021-08-11T02:30:04.895045Z",
     "iopub.status.busy": "2021-08-11T02:30:04.894296Z",
     "iopub.status.idle": "2021-08-11T02:30:05.736400Z",
     "shell.execute_reply": "2021-08-11T02:30:05.736921Z"
    },
    "papermill": {
     "duration": 0.861872,
     "end_time": "2021-08-11T02:30:05.737100",
     "exception": false,
     "start_time": "2021-08-11T02:30:04.875228",
     "status": "completed"
    },
    "tags": []
   },
   "outputs": [
    {
     "data": {
      "text/plain": [
       "<AxesSubplot:ylabel='PRODUCT'>"
      ]
     },
     "execution_count": 7,
     "metadata": {},
     "output_type": "execute_result"
    },
    {
     "data": {
      "image/png": "[encoded data removed]",
      "text/plain": [
       "<Figure size 432x288 with 1 Axes>"
      ]
     },
     "metadata": {
      "needs_background": "light"
     },
     "output_type": "display_data"
    }
   ],
   "source": [
    "df_pivot_diff.sort_values(\"stamp_2\", ascending = False)[\"stamp_2\"].head(10).plot.barh()"
   ]
  },
  {
   "cell_type": "code",
   "execution_count": null,
   "id": "extra-executive",
   "metadata": {
    "papermill": {
     "duration": 0.012581,
     "end_time": "2021-08-11T02:30:05.760109",
     "exception": false,
     "start_time": "2021-08-11T02:30:05.747528",
     "status": "completed"
    },
    "tags": []
   },
   "outputs": [],
   "source": []
  }
 ],
 "metadata": {
  "kernelspec": {
   "display_name": "Python 3",
   "language": "python",
   "name": "python3"
  },
  "language_info": {
   "codemirror_mode": {
    "name": "ipython",
    "version": 3
   },
   "file_extension": ".py",
   "mimetype": "text/x-python",
   "name": "python",
   "nbconvert_exporter": "python",
   "pygments_lexer": "ipython3",
   "version": "3.8.8"
  },
  "papermill": {
   "default_parameters": {},
   "duration": 4.540247,
   "end_time": "2021-08-11T02:30:06.502979",
   "environment_variables": {},
   "exception": null,
   "input_path": "/Users/saravananshanmugam/Carbonleakage_Git/UsedObjects/eBay_Overview.ipynb",
   "output_path": "/Users/saravananshanmugam/Carbonleakage_Git/UsedObjects/eBay_Overview.ipynb",
   "parameters": {},
   "start_time": "2021-08-11T02:30:01.962732",
   "version": "2.3.3"
  }
 },
 "nbformat": 4,
 "nbformat_minor": 5
}