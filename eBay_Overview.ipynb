{
 "cells": [
  {
   "cell_type": "code",
   "execution_count": 1,
   "id": "reverse-picking",
   "metadata": {
    "execution": {
     "iopub.execute_input": "2021-11-20T23:30:07.408580Z",
     "iopub.status.busy": "2021-11-20T23:30:07.406542Z",
     "iopub.status.idle": "2021-11-20T23:30:08.373530Z",
     "shell.execute_reply": "2021-11-20T23:30:08.375219Z"
    },
    "papermill": {
     "duration": 1.015943,
     "end_time": "2021-11-20T23:30:08.375944",
     "exception": false,
     "start_time": "2021-11-20T23:30:07.360001",
     "status": "completed"
    },
    "tags": []
   },
   "outputs": [],
   "source": [
    "import pandas as pd\n",
    "import sqlite3"
   ]
  },
  {
   "cell_type": "code",
   "execution_count": 2,
   "id": "innovative-syndrome",
   "metadata": {
    "execution": {
     "iopub.execute_input": "2021-11-20T23:30:08.432951Z",
     "iopub.status.busy": "2021-11-20T23:30:08.430559Z",
     "iopub.status.idle": "2021-11-20T23:30:09.301295Z",
     "shell.execute_reply": "2021-11-20T23:30:09.303547Z"
    },
    "papermill": {
     "duration": 0.906569,
     "end_time": "2021-11-20T23:30:09.304035",
     "exception": false,
     "start_time": "2021-11-20T23:30:08.397466",
     "status": "completed"
    },
    "tags": []
   },
   "outputs": [],
   "source": [
    "timestamps = pd.read_sql(\"select distinct record_time from EBAY_TOP_BERLIN order by record_time desc limit 2\", sqlite3.connect(\"UsedObjects.db\"))"
   ]
  },
  {
   "cell_type": "code",
   "execution_count": 3,
   "id": "periodic-identification",
   "metadata": {
    "execution": {
     "iopub.execute_input": "2021-11-20T23:30:09.373309Z",
     "iopub.status.busy": "2021-11-20T23:30:09.370855Z",
     "iopub.status.idle": "2021-11-20T23:30:09.392529Z",
     "shell.execute_reply": "2021-11-20T23:30:09.393919Z"
    },
    "papermill": {
     "duration": 0.070499,
     "end_time": "2021-11-20T23:30:09.394376",
     "exception": false,
     "start_time": "2021-11-20T23:30:09.323877",
     "status": "completed"
    },
    "tags": []
   },
   "outputs": [
    {
     "data": {
      "text/html": [
       "<div>\n",
       "<style scoped>\n",
       "    .dataframe tbody tr th:only-of-type {\n",
       "        vertical-align: middle;\n",
       "    }\n",
       "\n",
       "    .dataframe tbody tr th {\n",
       "        vertical-align: top;\n",
       "    }\n",
       "\n",
       "    .dataframe thead th {\n",
       "        text-align: right;\n",
       "    }\n",
       "</style>\n",
       "<table border=\"1\" class=\"dataframe\">\n",
       "  <thead>\n",
       "    <tr style=\"text-align: right;\">\n",
       "      <th></th>\n",
       "      <th>RECORD_TIME</th>\n",
       "    </tr>\n",
       "  </thead>\n",
       "  <tbody>\n",
       "    <tr>\n",
       "      <th>0</th>\n",
       "      <td>2021-11-21 00:30</td>\n",
       "    </tr>\n",
       "    <tr>\n",
       "      <th>1</th>\n",
       "      <td>2021-11-21 00:00</td>\n",
       "    </tr>\n",
       "  </tbody>\n",
       "</table>\n",
       "</div>"
      ],
      "text/plain": [
       "        RECORD_TIME\n",
       "0  2021-11-21 00:30\n",
       "1  2021-11-21 00:00"
      ]
     },
     "execution_count": 3,
     "metadata": {},
     "output_type": "execute_result"
    }
   ],
   "source": [
    "timestamps"
   ]
  },
  {
   "cell_type": "code",
   "execution_count": 4,
   "id": "alternate-victory",
   "metadata": {
    "execution": {
     "iopub.execute_input": "2021-11-20T23:30:09.448094Z",
     "iopub.status.busy": "2021-11-20T23:30:09.446032Z",
     "iopub.status.idle": "2021-11-20T23:30:10.710914Z",
     "shell.execute_reply": "2021-11-20T23:30:10.712544Z"
    },
    "papermill": {
     "duration": 1.298067,
     "end_time": "2021-11-20T23:30:10.713119",
     "exception": false,
     "start_time": "2021-11-20T23:30:09.415052",
     "status": "completed"
    },
    "tags": []
   },
   "outputs": [],
   "source": [
    "df = pd.read_sql(\"select * from EBAY_TOP_BERLIN where record_time in (select distinct record_time from EBAY_TOP_BERLIN order by record_time desc limit 2)\", sqlite3.connect(\"UsedObjects.db\"))"
   ]
  },
  {
   "cell_type": "code",
   "execution_count": 5,
   "id": "popular-active",
   "metadata": {
    "execution": {
     "iopub.execute_input": "2021-11-20T23:30:10.795293Z",
     "iopub.status.busy": "2021-11-20T23:30:10.788114Z",
     "iopub.status.idle": "2021-11-20T23:30:10.812918Z",
     "shell.execute_reply": "2021-11-20T23:30:10.814268Z"
    },
    "papermill": {
     "duration": 0.079104,
     "end_time": "2021-11-20T23:30:10.814731",
     "exception": false,
     "start_time": "2021-11-20T23:30:10.735627",
     "status": "completed"
    },
    "tags": []
   },
   "outputs": [],
   "source": [
    "df_pivot = df.pivot_table(index=\"PRODUCT\", columns = \"RECORD_TIME\", values = \"LISTING_COUNT\")"
   ]
  },
  {
   "cell_type": "code",
   "execution_count": 6,
   "id": "union-huntington",
   "metadata": {
    "execution": {
     "iopub.execute_input": "2021-11-20T23:30:10.874338Z",
     "iopub.status.busy": "2021-11-20T23:30:10.872120Z",
     "iopub.status.idle": "2021-11-20T23:30:10.878469Z",
     "shell.execute_reply": "2021-11-20T23:30:10.879936Z"
    },
    "papermill": {
     "duration": 0.044483,
     "end_time": "2021-11-20T23:30:10.880400",
     "exception": false,
     "start_time": "2021-11-20T23:30:10.835917",
     "status": "completed"
    },
    "tags": []
   },
   "outputs": [],
   "source": [
    "df_pivot.columns = [\"stamp_1\", \"stamp_2\"]\n",
    "df_pivot_diff = df_pivot.diff(axis=1)"
   ]
  },
  {
   "cell_type": "code",
   "execution_count": 7,
   "id": "fifth-motion",
   "metadata": {
    "execution": {
     "iopub.execute_input": "2021-11-20T23:30:10.953925Z",
     "iopub.status.busy": "2021-11-20T23:30:10.944183Z",
     "iopub.status.idle": "2021-11-20T23:30:12.743672Z",
     "shell.execute_reply": "2021-11-20T23:30:12.746446Z"
    },
    "papermill": {
     "duration": 1.845583,
     "end_time": "2021-11-20T23:30:12.747238",
     "exception": false,
     "start_time": "2021-11-20T23:30:10.901655",
     "status": "completed"
    },
    "tags": []
   },
   "outputs": [
    {
     "data": {
      "text/plain": [
       "<AxesSubplot:ylabel='PRODUCT'>"
      ]
     },
     "execution_count": 7,
     "metadata": {},
     "output_type": "execute_result"
    },
    {
     "data": {
      "image/png": "[encoded data removed]",
      "text/plain": [
       "<Figure size 432x288 with 1 Axes>"
      ]
     },
     "metadata": {
      "needs_background": "light"
     },
     "output_type": "display_data"
    }
   ],
   "source": [
    "df_pivot_diff.sort_values(\"stamp_2\", ascending = False)[\"stamp_2\"].head(10).plot.barh()"
   ]
  },
  {
   "cell_type": "code",
   "execution_count": null,
   "id": "extra-executive",
   "metadata": {
    "papermill": {
     "duration": 0.037025,
     "end_time": "2021-11-20T23:30:12.820020",
     "exception": false,
     "start_time": "2021-11-20T23:30:12.782995",
     "status": "completed"
    },
    "tags": []
   },
   "outputs": [],
   "source": []
  }
 ],
 "metadata": {
  "kernelspec": {
   "display_name": "Python 3",
   "language": "python",
   "name": "python3"
  },
  "language_info": {
   "codemirror_mode": {
    "name": "ipython",
    "version": 3
   },
   "file_extension": ".py",
   "mimetype": "text/x-python",
   "name": "python",
   "nbconvert_exporter": "python",
   "pygments_lexer": "ipython3",
   "version": "3.9.5"
  },
  "papermill": {
   "default_parameters": {},
   "duration": 9.982689,
   "end_time": "2021-11-20T23:30:14.542586",
   "environment_variables": {},
   "exception": null,
   "input_path": "eBay_Overview.ipynb",
   "output_path": "eBay_Overview.ipynb",
   "parameters": {},
   "start_time": "2021-11-20T23:30:04.559897",
   "version": "2.3.3"
  }
 },
 "nbformat": 4,
 "nbformat_minor": 5
}