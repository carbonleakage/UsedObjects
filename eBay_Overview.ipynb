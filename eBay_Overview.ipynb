{
 "cells": [
  {
   "cell_type": "code",
   "execution_count": 1,
   "id": "reverse-picking",
   "metadata": {
    "execution": {
     "iopub.execute_input": "2021-11-25T17:00:08.009374Z",
     "iopub.status.busy": "2021-11-25T17:00:08.007031Z",
     "iopub.status.idle": "2021-11-25T17:00:08.963514Z",
     "shell.execute_reply": "2021-11-25T17:00:08.961562Z"
    },
    "papermill": {
     "duration": 1.004327,
     "end_time": "2021-11-25T17:00:08.964035",
     "exception": false,
     "start_time": "2021-11-25T17:00:07.959708",
     "status": "completed"
    },
    "tags": []
   },
   "outputs": [],
   "source": [
    "import pandas as pd\n",
    "import sqlite3"
   ]
  },
  {
   "cell_type": "code",
   "execution_count": 2,
   "id": "innovative-syndrome",
   "metadata": {
    "execution": {
     "iopub.execute_input": "2021-11-25T17:00:09.025554Z",
     "iopub.status.busy": "2021-11-25T17:00:09.022951Z",
     "iopub.status.idle": "2021-11-25T17:00:09.935803Z",
     "shell.execute_reply": "2021-11-25T17:00:09.937449Z"
    },
    "papermill": {
     "duration": 0.946695,
     "end_time": "2021-11-25T17:00:09.937985",
     "exception": false,
     "start_time": "2021-11-25T17:00:08.991290",
     "status": "completed"
    },
    "tags": []
   },
   "outputs": [],
   "source": [
    "timestamps = pd.read_sql(\"select distinct record_time from EBAY_TOP_BERLIN order by record_time desc limit 2\", sqlite3.connect(\"UsedObjects.db\"))"
   ]
  },
  {
   "cell_type": "code",
   "execution_count": 3,
   "id": "periodic-identification",
   "metadata": {
    "execution": {
     "iopub.execute_input": "2021-11-25T17:00:10.013332Z",
     "iopub.status.busy": "2021-11-25T17:00:10.010487Z",
     "iopub.status.idle": "2021-11-25T17:00:10.033977Z",
     "shell.execute_reply": "2021-11-25T17:00:10.035582Z"
    },
    "papermill": {
     "duration": 0.075965,
     "end_time": "2021-11-25T17:00:10.036096",
     "exception": false,
     "start_time": "2021-11-25T17:00:09.960131",
     "status": "completed"
    },
    "tags": []
   },
   "outputs": [
    {
     "data": {
      "text/html": [
       "<div>\n",
       "<style scoped>\n",
       "    .dataframe tbody tr th:only-of-type {\n",
       "        vertical-align: middle;\n",
       "    }\n",
       "\n",
       "    .dataframe tbody tr th {\n",
       "        vertical-align: top;\n",
       "    }\n",
       "\n",
       "    .dataframe thead th {\n",
       "        text-align: right;\n",
       "    }\n",
       "</style>\n",
       "<table border=\"1\" class=\"dataframe\">\n",
       "  <thead>\n",
       "    <tr style=\"text-align: right;\">\n",
       "      <th></th>\n",
       "      <th>RECORD_TIME</th>\n",
       "    </tr>\n",
       "  </thead>\n",
       "  <tbody>\n",
       "    <tr>\n",
       "      <th>0</th>\n",
       "      <td>2021-11-25 18:00</td>\n",
       "    </tr>\n",
       "    <tr>\n",
       "      <th>1</th>\n",
       "      <td>2021-11-25 17:30</td>\n",
       "    </tr>\n",
       "  </tbody>\n",
       "</table>\n",
       "</div>"
      ],
      "text/plain": [
       "        RECORD_TIME\n",
       "0  2021-11-25 18:00\n",
       "1  2021-11-25 17:30"
      ]
     },
     "execution_count": 3,
     "metadata": {},
     "output_type": "execute_result"
    }
   ],
   "source": [
    "timestamps"
   ]
  },
  {
   "cell_type": "code",
   "execution_count": 4,
   "id": "alternate-victory",
   "metadata": {
    "execution": {
     "iopub.execute_input": "2021-11-25T17:00:10.091874Z",
     "iopub.status.busy": "2021-11-25T17:00:10.089728Z",
     "iopub.status.idle": "2021-11-25T17:00:11.430748Z",
     "shell.execute_reply": "2021-11-25T17:00:11.432377Z"
    },
    "papermill": {
     "duration": 1.375708,
     "end_time": "2021-11-25T17:00:11.432919",
     "exception": false,
     "start_time": "2021-11-25T17:00:10.057211",
     "status": "completed"
    },
    "tags": []
   },
   "outputs": [],
   "source": [
    "df = pd.read_sql(\"select * from EBAY_TOP_BERLIN where record_time in (select distinct record_time from EBAY_TOP_BERLIN order by record_time desc limit 2)\", sqlite3.connect(\"UsedObjects.db\"))"
   ]
  },
  {
   "cell_type": "code",
   "execution_count": 5,
   "id": "popular-active",
   "metadata": {
    "execution": {
     "iopub.execute_input": "2021-11-25T17:00:11.509785Z",
     "iopub.status.busy": "2021-11-25T17:00:11.496969Z",
     "iopub.status.idle": "2021-11-25T17:00:11.530797Z",
     "shell.execute_reply": "2021-11-25T17:00:11.529442Z"
    },
    "papermill": {
     "duration": 0.075621,
     "end_time": "2021-11-25T17:00:11.531182",
     "exception": false,
     "start_time": "2021-11-25T17:00:11.455561",
     "status": "completed"
    },
    "tags": []
   },
   "outputs": [],
   "source": [
    "df_pivot = df.pivot_table(index=\"PRODUCT\", columns = \"RECORD_TIME\", values = \"LISTING_COUNT\")"
   ]
  },
  {
   "cell_type": "code",
   "execution_count": 6,
   "id": "union-huntington",
   "metadata": {
    "execution": {
     "iopub.execute_input": "2021-11-25T17:00:11.590326Z",
     "iopub.status.busy": "2021-11-25T17:00:11.587791Z",
     "iopub.status.idle": "2021-11-25T17:00:11.593696Z",
     "shell.execute_reply": "2021-11-25T17:00:11.595162Z"
    },
    "papermill": {
     "duration": 0.044409,
     "end_time": "2021-11-25T17:00:11.595710",
     "exception": false,
     "start_time": "2021-11-25T17:00:11.551301",
     "status": "completed"
    },
    "tags": []
   },
   "outputs": [],
   "source": [
    "df_pivot.columns = [\"stamp_1\", \"stamp_2\"]\n",
    "df_pivot_diff = df_pivot.diff(axis=1)"
   ]
  },
  {
   "cell_type": "code",
   "execution_count": 7,
   "id": "fifth-motion",
   "metadata": {
    "execution": {
     "iopub.execute_input": "2021-11-25T17:00:11.655964Z",
     "iopub.status.busy": "2021-11-25T17:00:11.653503Z",
     "iopub.status.idle": "2021-11-25T17:00:13.589645Z",
     "shell.execute_reply": "2021-11-25T17:00:13.591040Z"
    },
    "papermill": {
     "duration": 1.9735,
     "end_time": "2021-11-25T17:00:13.591519",
     "exception": false,
     "start_time": "2021-11-25T17:00:11.618019",
     "status": "completed"
    },
    "tags": []
   },
   "outputs": [
    {
     "data": {
      "text/plain": [
       "<AxesSubplot:ylabel='PRODUCT'>"
      ]
     },
     "execution_count": 7,
     "metadata": {},
     "output_type": "execute_result"
    },
    {
     "data": {
      "image/png": "[encoded data removed]",
      "text/plain": [
       "<Figure size 432x288 with 1 Axes>"
      ]
     },
     "metadata": {
      "needs_background": "light"
     },
     "output_type": "display_data"
    }
   ],
   "source": [
    "df_pivot_diff.sort_values(\"stamp_2\", ascending = False)[\"stamp_2\"].head(10).plot.barh()"
   ]
  },
  {
   "cell_type": "code",
   "execution_count": null,
   "id": "extra-executive",
   "metadata": {
    "papermill": {
     "duration": 0.023701,
     "end_time": "2021-11-25T17:00:13.639318",
     "exception": false,
     "start_time": "2021-11-25T17:00:13.615617",
     "status": "completed"
    },
    "tags": []
   },
   "outputs": [],
   "source": []
  }
 ],
 "metadata": {
  "kernelspec": {
   "display_name": "Python 3",
   "language": "python",
   "name": "python3"
  },
  "language_info": {
   "codemirror_mode": {
    "name": "ipython",
    "version": 3
   },
   "file_extension": ".py",
   "mimetype": "text/x-python",
   "name": "python",
   "nbconvert_exporter": "python",
   "pygments_lexer": "ipython3",
   "version": "3.9.5"
  },
  "papermill": {
   "default_parameters": {},
   "duration": 9.923994,
   "end_time": "2021-11-25T17:00:15.168888",
   "environment_variables": {},
   "exception": null,
   "input_path": "eBay_Overview.ipynb",
   "output_path": "eBay_Overview.ipynb",
   "parameters": {},
   "start_time": "2021-11-25T17:00:05.244894",
   "version": "2.3.3"
  }
 },
 "nbformat": 4,
 "nbformat_minor": 5
}