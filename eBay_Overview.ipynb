{
 "cells": [
  {
   "cell_type": "code",
   "execution_count": 1,
   "id": "reverse-picking",
   "metadata": {
    "execution": {
     "iopub.execute_input": "2021-10-02T07:00:07.272664Z",
     "iopub.status.busy": "2021-10-02T07:00:07.270688Z",
     "iopub.status.idle": "2021-10-02T07:00:08.074400Z",
     "shell.execute_reply": "2021-10-02T07:00:08.075788Z"
    },
    "papermill": {
     "duration": 0.85563,
     "end_time": "2021-10-02T07:00:08.076451",
     "exception": false,
     "start_time": "2021-10-02T07:00:07.220821",
     "status": "completed"
    },
    "tags": []
   },
   "outputs": [],
   "source": [
    "import pandas as pd\n",
    "import sqlite3"
   ]
  },
  {
   "cell_type": "code",
   "execution_count": 2,
   "id": "innovative-syndrome",
   "metadata": {
    "execution": {
     "iopub.execute_input": "2021-10-02T07:00:08.127196Z",
     "iopub.status.busy": "2021-10-02T07:00:08.125153Z",
     "iopub.status.idle": "2021-10-02T07:00:08.553017Z",
     "shell.execute_reply": "2021-10-02T07:00:08.554365Z"
    },
    "papermill": {
     "duration": 0.458096,
     "end_time": "2021-10-02T07:00:08.554923",
     "exception": false,
     "start_time": "2021-10-02T07:00:08.096827",
     "status": "completed"
    },
    "tags": []
   },
   "outputs": [],
   "source": [
    "timestamps = pd.read_sql(\"select distinct record_time from EBAY_TOP_BERLIN order by record_time desc limit 2\", sqlite3.connect(\"UsedObjects.db\"))"
   ]
  },
  {
   "cell_type": "code",
   "execution_count": 3,
   "id": "periodic-identification",
   "metadata": {
    "execution": {
     "iopub.execute_input": "2021-10-02T07:00:08.621580Z",
     "iopub.status.busy": "2021-10-02T07:00:08.619571Z",
     "iopub.status.idle": "2021-10-02T07:00:08.639335Z",
     "shell.execute_reply": "2021-10-02T07:00:08.640595Z"
    },
    "papermill": {
     "duration": 0.065013,
     "end_time": "2021-10-02T07:00:08.640994",
     "exception": false,
     "start_time": "2021-10-02T07:00:08.575981",
     "status": "completed"
    },
    "tags": []
   },
   "outputs": [
    {
     "data": {
      "text/html": [
       "<div>\n",
       "<style scoped>\n",
       "    .dataframe tbody tr th:only-of-type {\n",
       "        vertical-align: middle;\n",
       "    }\n",
       "\n",
       "    .dataframe tbody tr th {\n",
       "        vertical-align: top;\n",
       "    }\n",
       "\n",
       "    .dataframe thead th {\n",
       "        text-align: right;\n",
       "    }\n",
       "</style>\n",
       "<table border=\"1\" class=\"dataframe\">\n",
       "  <thead>\n",
       "    <tr style=\"text-align: right;\">\n",
       "      <th></th>\n",
       "      <th>RECORD_TIME</th>\n",
       "    </tr>\n",
       "  </thead>\n",
       "  <tbody>\n",
       "    <tr>\n",
       "      <th>0</th>\n",
       "      <td>2021-10-02 09:00</td>\n",
       "    </tr>\n",
       "    <tr>\n",
       "      <th>1</th>\n",
       "      <td>2021-10-02 08:30</td>\n",
       "    </tr>\n",
       "  </tbody>\n",
       "</table>\n",
       "</div>"
      ],
      "text/plain": [
       "        RECORD_TIME\n",
       "0  2021-10-02 09:00\n",
       "1  2021-10-02 08:30"
      ]
     },
     "execution_count": 3,
     "metadata": {},
     "output_type": "execute_result"
    }
   ],
   "source": [
    "timestamps"
   ]
  },
  {
   "cell_type": "code",
   "execution_count": 4,
   "id": "alternate-victory",
   "metadata": {
    "execution": {
     "iopub.execute_input": "2021-10-02T07:00:08.692400Z",
     "iopub.status.busy": "2021-10-02T07:00:08.690414Z",
     "iopub.status.idle": "2021-10-02T07:00:09.316292Z",
     "shell.execute_reply": "2021-10-02T07:00:09.317585Z"
    },
    "papermill": {
     "duration": 0.655884,
     "end_time": "2021-10-02T07:00:09.318003",
     "exception": false,
     "start_time": "2021-10-02T07:00:08.662119",
     "status": "completed"
    },
    "tags": []
   },
   "outputs": [],
   "source": [
    "df = pd.read_sql(\"select * from EBAY_TOP_BERLIN where record_time in (select distinct record_time from EBAY_TOP_BERLIN order by record_time desc limit 2)\", sqlite3.connect(\"UsedObjects.db\"))"
   ]
  },
  {
   "cell_type": "code",
   "execution_count": 5,
   "id": "popular-active",
   "metadata": {
    "execution": {
     "iopub.execute_input": "2021-10-02T07:00:09.397572Z",
     "iopub.status.busy": "2021-10-02T07:00:09.389988Z",
     "iopub.status.idle": "2021-10-02T07:00:09.417799Z",
     "shell.execute_reply": "2021-10-02T07:00:09.419061Z"
    },
    "papermill": {
     "duration": 0.073249,
     "end_time": "2021-10-02T07:00:09.419498",
     "exception": false,
     "start_time": "2021-10-02T07:00:09.346249",
     "status": "completed"
    },
    "tags": []
   },
   "outputs": [],
   "source": [
    "df_pivot = df.pivot_table(index=\"PRODUCT\", columns = \"RECORD_TIME\", values = \"LISTING_COUNT\")"
   ]
  },
  {
   "cell_type": "code",
   "execution_count": 6,
   "id": "union-huntington",
   "metadata": {
    "execution": {
     "iopub.execute_input": "2021-10-02T07:00:09.475948Z",
     "iopub.status.busy": "2021-10-02T07:00:09.473865Z",
     "iopub.status.idle": "2021-10-02T07:00:09.479272Z",
     "shell.execute_reply": "2021-10-02T07:00:09.480557Z"
    },
    "papermill": {
     "duration": 0.041201,
     "end_time": "2021-10-02T07:00:09.480976",
     "exception": false,
     "start_time": "2021-10-02T07:00:09.439775",
     "status": "completed"
    },
    "tags": []
   },
   "outputs": [],
   "source": [
    "df_pivot.columns = [\"stamp_1\", \"stamp_2\"]\n",
    "df_pivot_diff = df_pivot.diff(axis=1)"
   ]
  },
  {
   "cell_type": "code",
   "execution_count": 7,
   "id": "fifth-motion",
   "metadata": {
    "execution": {
     "iopub.execute_input": "2021-10-02T07:00:09.536628Z",
     "iopub.status.busy": "2021-10-02T07:00:09.534068Z",
     "iopub.status.idle": "2021-10-02T07:00:11.024922Z",
     "shell.execute_reply": "2021-10-02T07:00:11.026323Z"
    },
    "papermill": {
     "duration": 1.5243,
     "end_time": "2021-10-02T07:00:11.026764",
     "exception": false,
     "start_time": "2021-10-02T07:00:09.502464",
     "status": "completed"
    },
    "tags": []
   },
   "outputs": [
    {
     "data": {
      "text/plain": [
       "<AxesSubplot:ylabel='PRODUCT'>"
      ]
     },
     "execution_count": 7,
     "metadata": {},
     "output_type": "execute_result"
    },
    {
     "data": {
      "image/png": "[encoded data removed]",
      "text/plain": [
       "<Figure size 432x288 with 1 Axes>"
      ]
     },
     "metadata": {
      "needs_background": "light"
     },
     "output_type": "display_data"
    }
   ],
   "source": [
    "df_pivot_diff.sort_values(\"stamp_2\", ascending = False)[\"stamp_2\"].head(10).plot.barh()"
   ]
  },
  {
   "cell_type": "code",
   "execution_count": null,
   "id": "extra-executive",
   "metadata": {
    "papermill": {
     "duration": 0.022492,
     "end_time": "2021-10-02T07:00:11.073532",
     "exception": false,
     "start_time": "2021-10-02T07:00:11.051040",
     "status": "completed"
    },
    "tags": []
   },
   "outputs": [],
   "source": []
  }
 ],
 "metadata": {
  "kernelspec": {
   "display_name": "Python 3",
   "language": "python",
   "name": "python3"
  },
  "language_info": {
   "codemirror_mode": {
    "name": "ipython",
    "version": 3
   },
   "file_extension": ".py",
   "mimetype": "text/x-python",
   "name": "python",
   "nbconvert_exporter": "python",
   "pygments_lexer": "ipython3",
   "version": "3.9.5"
  },
  "papermill": {
   "default_parameters": {},
   "duration": 7.818,
   "end_time": "2021-10-02T07:00:12.641059",
   "environment_variables": {},
   "exception": null,
   "input_path": "eBay_Overview.ipynb",
   "output_path": "eBay_Overview.ipynb",
   "parameters": {},
   "start_time": "2021-10-02T07:00:04.823059",
   "version": "2.3.3"
  }
 },
 "nbformat": 4,
 "nbformat_minor": 5
}