{
 "cells": [
  {
   "cell_type": "code",
   "execution_count": 1,
   "id": "reverse-picking",
   "metadata": {
    "execution": {
     "iopub.execute_input": "2021-12-20T22:00:07.542978Z",
     "iopub.status.busy": "2021-12-20T22:00:07.540655Z",
     "iopub.status.idle": "2021-12-20T22:00:08.498178Z",
     "shell.execute_reply": "2021-12-20T22:00:08.499732Z"
    },
    "papermill": {
     "duration": 1.008679,
     "end_time": "2021-12-20T22:00:08.500569",
     "exception": false,
     "start_time": "2021-12-20T22:00:07.491890",
     "status": "completed"
    },
    "tags": []
   },
   "outputs": [],
   "source": [
    "import pandas as pd\n",
    "import sqlite3"
   ]
  },
  {
   "cell_type": "code",
   "execution_count": 2,
   "id": "innovative-syndrome",
   "metadata": {
    "execution": {
     "iopub.execute_input": "2021-12-20T22:00:08.572623Z",
     "iopub.status.busy": "2021-12-20T22:00:08.570422Z",
     "iopub.status.idle": "2021-12-20T22:00:09.684902Z",
     "shell.execute_reply": "2021-12-20T22:00:09.686312Z"
    },
    "papermill": {
     "duration": 1.162431,
     "end_time": "2021-12-20T22:00:09.686783",
     "exception": false,
     "start_time": "2021-12-20T22:00:08.524352",
     "status": "completed"
    },
    "tags": []
   },
   "outputs": [],
   "source": [
    "timestamps = pd.read_sql(\"select distinct record_time from EBAY_TOP_BERLIN order by record_time desc limit 2\", sqlite3.connect(\"UsedObjects.db\"))"
   ]
  },
  {
   "cell_type": "code",
   "execution_count": 3,
   "id": "periodic-identification",
   "metadata": {
    "execution": {
     "iopub.execute_input": "2021-12-20T22:00:09.759697Z",
     "iopub.status.busy": "2021-12-20T22:00:09.757296Z",
     "iopub.status.idle": "2021-12-20T22:00:09.789820Z",
     "shell.execute_reply": "2021-12-20T22:00:09.792286Z"
    },
    "papermill": {
     "duration": 0.086362,
     "end_time": "2021-12-20T22:00:09.792818",
     "exception": false,
     "start_time": "2021-12-20T22:00:09.706456",
     "status": "completed"
    },
    "tags": []
   },
   "outputs": [
    {
     "data": {
      "text/html": [
       "<div>\n",
       "<style scoped>\n",
       "    .dataframe tbody tr th:only-of-type {\n",
       "        vertical-align: middle;\n",
       "    }\n",
       "\n",
       "    .dataframe tbody tr th {\n",
       "        vertical-align: top;\n",
       "    }\n",
       "\n",
       "    .dataframe thead th {\n",
       "        text-align: right;\n",
       "    }\n",
       "</style>\n",
       "<table border=\"1\" class=\"dataframe\">\n",
       "  <thead>\n",
       "    <tr style=\"text-align: right;\">\n",
       "      <th></th>\n",
       "      <th>RECORD_TIME</th>\n",
       "    </tr>\n",
       "  </thead>\n",
       "  <tbody>\n",
       "    <tr>\n",
       "      <th>0</th>\n",
       "      <td>2021-12-20 23:00</td>\n",
       "    </tr>\n",
       "    <tr>\n",
       "      <th>1</th>\n",
       "      <td>2021-12-20 22:30</td>\n",
       "    </tr>\n",
       "  </tbody>\n",
       "</table>\n",
       "</div>"
      ],
      "text/plain": [
       "        RECORD_TIME\n",
       "0  2021-12-20 23:00\n",
       "1  2021-12-20 22:30"
      ]
     },
     "execution_count": 3,
     "metadata": {},
     "output_type": "execute_result"
    }
   ],
   "source": [
    "timestamps"
   ]
  },
  {
   "cell_type": "code",
   "execution_count": 4,
   "id": "alternate-victory",
   "metadata": {
    "execution": {
     "iopub.execute_input": "2021-12-20T22:00:09.867695Z",
     "iopub.status.busy": "2021-12-20T22:00:09.865504Z",
     "iopub.status.idle": "2021-12-20T22:00:11.548235Z",
     "shell.execute_reply": "2021-12-20T22:00:11.550473Z"
    },
    "papermill": {
     "duration": 1.718287,
     "end_time": "2021-12-20T22:00:11.550953",
     "exception": false,
     "start_time": "2021-12-20T22:00:09.832666",
     "status": "completed"
    },
    "tags": []
   },
   "outputs": [],
   "source": [
    "df = pd.read_sql(\"select * from EBAY_TOP_BERLIN where record_time in (select distinct record_time from EBAY_TOP_BERLIN order by record_time desc limit 2)\", sqlite3.connect(\"UsedObjects.db\"))"
   ]
  },
  {
   "cell_type": "code",
   "execution_count": 5,
   "id": "popular-active",
   "metadata": {
    "execution": {
     "iopub.execute_input": "2021-12-20T22:00:11.630788Z",
     "iopub.status.busy": "2021-12-20T22:00:11.616805Z",
     "iopub.status.idle": "2021-12-20T22:00:11.648524Z",
     "shell.execute_reply": "2021-12-20T22:00:11.650008Z"
    },
    "papermill": {
     "duration": 0.076775,
     "end_time": "2021-12-20T22:00:11.650479",
     "exception": false,
     "start_time": "2021-12-20T22:00:11.573704",
     "status": "completed"
    },
    "tags": []
   },
   "outputs": [],
   "source": [
    "df_pivot = df.pivot_table(index=\"PRODUCT\", columns = \"RECORD_TIME\", values = \"LISTING_COUNT\")"
   ]
  },
  {
   "cell_type": "code",
   "execution_count": 6,
   "id": "union-huntington",
   "metadata": {
    "execution": {
     "iopub.execute_input": "2021-12-20T22:00:11.709752Z",
     "iopub.status.busy": "2021-12-20T22:00:11.707434Z",
     "iopub.status.idle": "2021-12-20T22:00:11.715124Z",
     "shell.execute_reply": "2021-12-20T22:00:11.713544Z"
    },
    "papermill": {
     "duration": 0.0446,
     "end_time": "2021-12-20T22:00:11.715518",
     "exception": false,
     "start_time": "2021-12-20T22:00:11.670918",
     "status": "completed"
    },
    "tags": []
   },
   "outputs": [],
   "source": [
    "df_pivot.columns = [\"stamp_1\", \"stamp_2\"]\n",
    "df_pivot_diff = df_pivot.diff(axis=1)"
   ]
  },
  {
   "cell_type": "code",
   "execution_count": 7,
   "id": "fifth-motion",
   "metadata": {
    "execution": {
     "iopub.execute_input": "2021-12-20T22:00:11.775114Z",
     "iopub.status.busy": "2021-12-20T22:00:11.772652Z",
     "iopub.status.idle": "2021-12-20T22:00:13.749383Z",
     "shell.execute_reply": "2021-12-20T22:00:13.750839Z"
    },
    "papermill": {
     "duration": 2.01407,
     "end_time": "2021-12-20T22:00:13.751282",
     "exception": false,
     "start_time": "2021-12-20T22:00:11.737212",
     "status": "completed"
    },
    "tags": []
   },
   "outputs": [
    {
     "data": {
      "text/plain": [
       "<AxesSubplot:ylabel='PRODUCT'>"
      ]
     },
     "execution_count": 7,
     "metadata": {},
     "output_type": "execute_result"
    },
    {
     "data": {
      "image/png": "[encoded data removed]",
      "text/plain": [
       "<Figure size 432x288 with 1 Axes>"
      ]
     },
     "metadata": {
      "needs_background": "light"
     },
     "output_type": "display_data"
    }
   ],
   "source": [
    "df_pivot_diff.sort_values(\"stamp_2\", ascending = False)[\"stamp_2\"].head(10).plot.barh()"
   ]
  },
  {
   "cell_type": "code",
   "execution_count": null,
   "id": "extra-executive",
   "metadata": {
    "papermill": {
     "duration": 0.022405,
     "end_time": "2021-12-20T22:00:13.797915",
     "exception": false,
     "start_time": "2021-12-20T22:00:13.775510",
     "status": "completed"
    },
    "tags": []
   },
   "outputs": [],
   "source": []
  }
 ],
 "metadata": {
  "kernelspec": {
   "display_name": "Python 3",
   "language": "python",
   "name": "python3"
  },
  "language_info": {
   "codemirror_mode": {
    "name": "ipython",
    "version": 3
   },
   "file_extension": ".py",
   "mimetype": "text/x-python",
   "name": "python",
   "nbconvert_exporter": "python",
   "pygments_lexer": "ipython3",
   "version": "3.9.5"
  },
  "papermill": {
   "default_parameters": {},
   "duration": 9.688624,
   "end_time": "2021-12-20T22:00:14.439608",
   "environment_variables": {},
   "exception": null,
   "input_path": "eBay_Overview.ipynb",
   "output_path": "eBay_Overview.ipynb",
   "parameters": {},
   "start_time": "2021-12-20T22:00:04.750984",
   "version": "2.3.3"
  }
 },
 "nbformat": 4,
 "nbformat_minor": 5
}