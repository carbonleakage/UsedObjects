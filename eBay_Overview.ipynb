{
 "cells": [
  {
   "cell_type": "code",
   "execution_count": 1,
   "id": "reverse-picking",
   "metadata": {
    "execution": {
     "iopub.execute_input": "2021-09-02T07:00:06.786408Z",
     "iopub.status.busy": "2021-09-02T07:00:06.784482Z",
     "iopub.status.idle": "2021-09-02T07:00:07.585497Z",
     "shell.execute_reply": "2021-09-02T07:00:07.586739Z"
    },
    "papermill": {
     "duration": 0.853239,
     "end_time": "2021-09-02T07:00:07.587602",
     "exception": false,
     "start_time": "2021-09-02T07:00:06.734363",
     "status": "completed"
    },
    "tags": []
   },
   "outputs": [],
   "source": [
    "import pandas as pd\n",
    "import sqlite3"
   ]
  },
  {
   "cell_type": "code",
   "execution_count": 2,
   "id": "innovative-syndrome",
   "metadata": {
    "execution": {
     "iopub.execute_input": "2021-09-02T07:00:07.640663Z",
     "iopub.status.busy": "2021-09-02T07:00:07.638263Z",
     "iopub.status.idle": "2021-09-02T07:00:07.825665Z",
     "shell.execute_reply": "2021-09-02T07:00:07.827074Z"
    },
    "papermill": {
     "duration": 0.217666,
     "end_time": "2021-09-02T07:00:07.827546",
     "exception": false,
     "start_time": "2021-09-02T07:00:07.609880",
     "status": "completed"
    },
    "tags": []
   },
   "outputs": [],
   "source": [
    "timestamps = pd.read_sql(\"select distinct record_time from EBAY_TOP_BERLIN order by record_time desc limit 2\", sqlite3.connect(\"UsedObjects.db\"))"
   ]
  },
  {
   "cell_type": "code",
   "execution_count": 3,
   "id": "periodic-identification",
   "metadata": {
    "execution": {
     "iopub.execute_input": "2021-09-02T07:00:07.893458Z",
     "iopub.status.busy": "2021-09-02T07:00:07.891454Z",
     "iopub.status.idle": "2021-09-02T07:00:07.912059Z",
     "shell.execute_reply": "2021-09-02T07:00:07.913363Z"
    },
    "papermill": {
     "duration": 0.066289,
     "end_time": "2021-09-02T07:00:07.913774",
     "exception": false,
     "start_time": "2021-09-02T07:00:07.847485",
     "status": "completed"
    },
    "tags": []
   },
   "outputs": [
    {
     "data": {
      "text/html": [
       "<div>\n",
       "<style scoped>\n",
       "    .dataframe tbody tr th:only-of-type {\n",
       "        vertical-align: middle;\n",
       "    }\n",
       "\n",
       "    .dataframe tbody tr th {\n",
       "        vertical-align: top;\n",
       "    }\n",
       "\n",
       "    .dataframe thead th {\n",
       "        text-align: right;\n",
       "    }\n",
       "</style>\n",
       "<table border=\"1\" class=\"dataframe\">\n",
       "  <thead>\n",
       "    <tr style=\"text-align: right;\">\n",
       "      <th></th>\n",
       "      <th>RECORD_TIME</th>\n",
       "    </tr>\n",
       "  </thead>\n",
       "  <tbody>\n",
       "    <tr>\n",
       "      <th>0</th>\n",
       "      <td>2021-09-02 09:00</td>\n",
       "    </tr>\n",
       "    <tr>\n",
       "      <th>1</th>\n",
       "      <td>2021-09-02 08:30</td>\n",
       "    </tr>\n",
       "  </tbody>\n",
       "</table>\n",
       "</div>"
      ],
      "text/plain": [
       "        RECORD_TIME\n",
       "0  2021-09-02 09:00\n",
       "1  2021-09-02 08:30"
      ]
     },
     "execution_count": 3,
     "metadata": {},
     "output_type": "execute_result"
    }
   ],
   "source": [
    "timestamps"
   ]
  },
  {
   "cell_type": "code",
   "execution_count": 4,
   "id": "alternate-victory",
   "metadata": {
    "execution": {
     "iopub.execute_input": "2021-09-02T07:00:07.964130Z",
     "iopub.status.busy": "2021-09-02T07:00:07.962217Z",
     "iopub.status.idle": "2021-09-02T07:00:08.243971Z",
     "shell.execute_reply": "2021-09-02T07:00:08.245250Z"
    },
    "papermill": {
     "duration": 0.311494,
     "end_time": "2021-09-02T07:00:08.245640",
     "exception": false,
     "start_time": "2021-09-02T07:00:07.934146",
     "status": "completed"
    },
    "tags": []
   },
   "outputs": [],
   "source": [
    "df = pd.read_sql(\"select * from EBAY_TOP_BERLIN where record_time in (select distinct record_time from EBAY_TOP_BERLIN order by record_time desc limit 2)\", sqlite3.connect(\"UsedObjects.db\"))"
   ]
  },
  {
   "cell_type": "code",
   "execution_count": 5,
   "id": "popular-active",
   "metadata": {
    "execution": {
     "iopub.execute_input": "2021-09-02T07:00:08.320859Z",
     "iopub.status.busy": "2021-09-02T07:00:08.313759Z",
     "iopub.status.idle": "2021-09-02T07:00:08.341875Z",
     "shell.execute_reply": "2021-09-02T07:00:08.343311Z"
    },
    "papermill": {
     "duration": 0.072401,
     "end_time": "2021-09-02T07:00:08.343725",
     "exception": false,
     "start_time": "2021-09-02T07:00:08.271324",
     "status": "completed"
    },
    "tags": []
   },
   "outputs": [],
   "source": [
    "df_pivot = df.pivot_table(index=\"PRODUCT\", columns = \"RECORD_TIME\", values = \"LISTING_COUNT\")"
   ]
  },
  {
   "cell_type": "code",
   "execution_count": 6,
   "id": "union-huntington",
   "metadata": {
    "execution": {
     "iopub.execute_input": "2021-09-02T07:00:08.401544Z",
     "iopub.status.busy": "2021-09-02T07:00:08.399103Z",
     "iopub.status.idle": "2021-09-02T07:00:08.405060Z",
     "shell.execute_reply": "2021-09-02T07:00:08.406329Z"
    },
    "papermill": {
     "duration": 0.041887,
     "end_time": "2021-09-02T07:00:08.406740",
     "exception": false,
     "start_time": "2021-09-02T07:00:08.364853",
     "status": "completed"
    },
    "tags": []
   },
   "outputs": [],
   "source": [
    "df_pivot.columns = [\"stamp_1\", \"stamp_2\"]\n",
    "df_pivot_diff = df_pivot.diff(axis=1)"
   ]
  },
  {
   "cell_type": "code",
   "execution_count": 7,
   "id": "fifth-motion",
   "metadata": {
    "execution": {
     "iopub.execute_input": "2021-09-02T07:00:08.460598Z",
     "iopub.status.busy": "2021-09-02T07:00:08.458141Z",
     "iopub.status.idle": "2021-09-02T07:00:09.936105Z",
     "shell.execute_reply": "2021-09-02T07:00:09.937311Z"
    },
    "papermill": {
     "duration": 1.511205,
     "end_time": "2021-09-02T07:00:09.937741",
     "exception": false,
     "start_time": "2021-09-02T07:00:08.426536",
     "status": "completed"
    },
    "tags": []
   },
   "outputs": [
    {
     "data": {
      "text/plain": [
       "<AxesSubplot:ylabel='PRODUCT'>"
      ]
     },
     "execution_count": 7,
     "metadata": {},
     "output_type": "execute_result"
    },
    {
     "data": {
      "image/png": "[encoded data removed]",
      "text/plain": [
       "<Figure size 432x288 with 1 Axes>"
      ]
     },
     "metadata": {
      "needs_background": "light"
     },
     "output_type": "display_data"
    }
   ],
   "source": [
    "df_pivot_diff.sort_values(\"stamp_2\", ascending = False)[\"stamp_2\"].head(10).plot.barh()"
   ]
  },
  {
   "cell_type": "code",
   "execution_count": null,
   "id": "extra-executive",
   "metadata": {
    "papermill": {
     "duration": 0.022178,
     "end_time": "2021-09-02T07:00:09.983679",
     "exception": false,
     "start_time": "2021-09-02T07:00:09.961501",
     "status": "completed"
    },
    "tags": []
   },
   "outputs": [],
   "source": []
  }
 ],
 "metadata": {
  "kernelspec": {
   "display_name": "Python 3",
   "language": "python",
   "name": "python3"
  },
  "language_info": {
   "codemirror_mode": {
    "name": "ipython",
    "version": 3
   },
   "file_extension": ".py",
   "mimetype": "text/x-python",
   "name": "python",
   "nbconvert_exporter": "python",
   "pygments_lexer": "ipython3",
   "version": "3.9.5"
  },
  "papermill": {
   "default_parameters": {},
   "duration": 6.820358,
   "end_time": "2021-09-02T07:00:11.155394",
   "environment_variables": {},
   "exception": null,
   "input_path": "eBay_Overview.ipynb",
   "output_path": "eBay_Overview.ipynb",
   "parameters": {},
   "start_time": "2021-09-02T07:00:04.335036",
   "version": "2.3.3"
  }
 },
 "nbformat": 4,
 "nbformat_minor": 5
}