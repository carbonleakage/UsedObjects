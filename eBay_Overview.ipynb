{
 "cells": [
  {
   "cell_type": "code",
   "execution_count": 1,
   "id": "reverse-picking",
   "metadata": {
    "execution": {
     "iopub.execute_input": "2021-08-31T02:30:07.307280Z",
     "iopub.status.busy": "2021-08-31T02:30:07.305322Z",
     "iopub.status.idle": "2021-08-31T02:30:08.105886Z",
     "shell.execute_reply": "2021-08-31T02:30:08.107323Z"
    },
    "papermill": {
     "duration": 0.851211,
     "end_time": "2021-08-31T02:30:08.108005",
     "exception": false,
     "start_time": "2021-08-31T02:30:07.256794",
     "status": "completed"
    },
    "tags": []
   },
   "outputs": [],
   "source": [
    "import pandas as pd\n",
    "import sqlite3"
   ]
  },
  {
   "cell_type": "code",
   "execution_count": 2,
   "id": "innovative-syndrome",
   "metadata": {
    "execution": {
     "iopub.execute_input": "2021-08-31T02:30:08.159116Z",
     "iopub.status.busy": "2021-08-31T02:30:08.157029Z",
     "iopub.status.idle": "2021-08-31T02:30:08.330518Z",
     "shell.execute_reply": "2021-08-31T02:30:08.329150Z"
    },
    "papermill": {
     "duration": 0.20224,
     "end_time": "2021-08-31T02:30:08.330863",
     "exception": false,
     "start_time": "2021-08-31T02:30:08.128623",
     "status": "completed"
    },
    "tags": []
   },
   "outputs": [],
   "source": [
    "timestamps = pd.read_sql(\"select distinct record_time from EBAY_TOP_BERLIN order by record_time desc limit 2\", sqlite3.connect(\"UsedObjects.db\"))"
   ]
  },
  {
   "cell_type": "code",
   "execution_count": 3,
   "id": "periodic-identification",
   "metadata": {
    "execution": {
     "iopub.execute_input": "2021-08-31T02:30:08.395243Z",
     "iopub.status.busy": "2021-08-31T02:30:08.393203Z",
     "iopub.status.idle": "2021-08-31T02:30:08.413074Z",
     "shell.execute_reply": "2021-08-31T02:30:08.414589Z"
    },
    "papermill": {
     "duration": 0.064595,
     "end_time": "2021-08-31T02:30:08.415060",
     "exception": false,
     "start_time": "2021-08-31T02:30:08.350465",
     "status": "completed"
    },
    "tags": []
   },
   "outputs": [
    {
     "data": {
      "text/html": [
       "<div>\n",
       "<style scoped>\n",
       "    .dataframe tbody tr th:only-of-type {\n",
       "        vertical-align: middle;\n",
       "    }\n",
       "\n",
       "    .dataframe tbody tr th {\n",
       "        vertical-align: top;\n",
       "    }\n",
       "\n",
       "    .dataframe thead th {\n",
       "        text-align: right;\n",
       "    }\n",
       "</style>\n",
       "<table border=\"1\" class=\"dataframe\">\n",
       "  <thead>\n",
       "    <tr style=\"text-align: right;\">\n",
       "      <th></th>\n",
       "      <th>RECORD_TIME</th>\n",
       "    </tr>\n",
       "  </thead>\n",
       "  <tbody>\n",
       "    <tr>\n",
       "      <th>0</th>\n",
       "      <td>2021-08-31 04:30</td>\n",
       "    </tr>\n",
       "    <tr>\n",
       "      <th>1</th>\n",
       "      <td>2021-08-31 04:00</td>\n",
       "    </tr>\n",
       "  </tbody>\n",
       "</table>\n",
       "</div>"
      ],
      "text/plain": [
       "        RECORD_TIME\n",
       "0  2021-08-31 04:30\n",
       "1  2021-08-31 04:00"
      ]
     },
     "execution_count": 3,
     "metadata": {},
     "output_type": "execute_result"
    }
   ],
   "source": [
    "timestamps"
   ]
  },
  {
   "cell_type": "code",
   "execution_count": 4,
   "id": "alternate-victory",
   "metadata": {
    "execution": {
     "iopub.execute_input": "2021-08-31T02:30:08.467434Z",
     "iopub.status.busy": "2021-08-31T02:30:08.465503Z",
     "iopub.status.idle": "2021-08-31T02:30:08.722467Z",
     "shell.execute_reply": "2021-08-31T02:30:08.723679Z"
    },
    "papermill": {
     "duration": 0.287508,
     "end_time": "2021-08-31T02:30:08.724082",
     "exception": false,
     "start_time": "2021-08-31T02:30:08.436574",
     "status": "completed"
    },
    "tags": []
   },
   "outputs": [],
   "source": [
    "df = pd.read_sql(\"select * from EBAY_TOP_BERLIN where record_time in (select distinct record_time from EBAY_TOP_BERLIN order by record_time desc limit 2)\", sqlite3.connect(\"UsedObjects.db\"))"
   ]
  },
  {
   "cell_type": "code",
   "execution_count": 5,
   "id": "popular-active",
   "metadata": {
    "execution": {
     "iopub.execute_input": "2021-08-31T02:30:08.808978Z",
     "iopub.status.busy": "2021-08-31T02:30:08.795327Z",
     "iopub.status.idle": "2021-08-31T02:30:08.824196Z",
     "shell.execute_reply": "2021-08-31T02:30:08.825479Z"
    },
    "papermill": {
     "duration": 0.073375,
     "end_time": "2021-08-31T02:30:08.825881",
     "exception": false,
     "start_time": "2021-08-31T02:30:08.752506",
     "status": "completed"
    },
    "tags": []
   },
   "outputs": [],
   "source": [
    "df_pivot = df.pivot_table(index=\"PRODUCT\", columns = \"RECORD_TIME\", values = \"LISTING_COUNT\")"
   ]
  },
  {
   "cell_type": "code",
   "execution_count": 6,
   "id": "union-huntington",
   "metadata": {
    "execution": {
     "iopub.execute_input": "2021-08-31T02:30:08.886210Z",
     "iopub.status.busy": "2021-08-31T02:30:08.883737Z",
     "iopub.status.idle": "2021-08-31T02:30:08.890110Z",
     "shell.execute_reply": "2021-08-31T02:30:08.891467Z"
    },
    "papermill": {
     "duration": 0.042812,
     "end_time": "2021-08-31T02:30:08.891947",
     "exception": false,
     "start_time": "2021-08-31T02:30:08.849135",
     "status": "completed"
    },
    "tags": []
   },
   "outputs": [],
   "source": [
    "df_pivot.columns = [\"stamp_1\", \"stamp_2\"]\n",
    "df_pivot_diff = df_pivot.diff(axis=1)"
   ]
  },
  {
   "cell_type": "code",
   "execution_count": 7,
   "id": "fifth-motion",
   "metadata": {
    "execution": {
     "iopub.execute_input": "2021-08-31T02:30:08.947046Z",
     "iopub.status.busy": "2021-08-31T02:30:08.944678Z",
     "iopub.status.idle": "2021-08-31T02:30:10.445950Z",
     "shell.execute_reply": "2021-08-31T02:30:10.444545Z"
    },
    "papermill": {
     "duration": 1.532762,
     "end_time": "2021-08-31T02:30:10.446313",
     "exception": false,
     "start_time": "2021-08-31T02:30:08.913551",
     "status": "completed"
    },
    "tags": []
   },
   "outputs": [
    {
     "data": {
      "text/plain": [
       "<AxesSubplot:ylabel='PRODUCT'>"
      ]
     },
     "execution_count": 7,
     "metadata": {},
     "output_type": "execute_result"
    },
    {
     "data": {
      "image/png": "[encoded data removed]",
      "text/plain": [
       "<Figure size 432x288 with 1 Axes>"
      ]
     },
     "metadata": {
      "needs_background": "light"
     },
     "output_type": "display_data"
    }
   ],
   "source": [
    "df_pivot_diff.sort_values(\"stamp_2\", ascending = False)[\"stamp_2\"].head(10).plot.barh()"
   ]
  },
  {
   "cell_type": "code",
   "execution_count": null,
   "id": "extra-executive",
   "metadata": {
    "papermill": {
     "duration": 0.022597,
     "end_time": "2021-08-31T02:30:10.493824",
     "exception": false,
     "start_time": "2021-08-31T02:30:10.471227",
     "status": "completed"
    },
    "tags": []
   },
   "outputs": [],
   "source": []
  }
 ],
 "metadata": {
  "kernelspec": {
   "display_name": "Python 3",
   "language": "python",
   "name": "python3"
  },
  "language_info": {
   "codemirror_mode": {
    "name": "ipython",
    "version": 3
   },
   "file_extension": ".py",
   "mimetype": "text/x-python",
   "name": "python",
   "nbconvert_exporter": "python",
   "pygments_lexer": "ipython3",
   "version": "3.9.5"
  },
  "papermill": {
   "default_parameters": {},
   "duration": 6.819511,
   "end_time": "2021-08-31T02:30:11.684579",
   "environment_variables": {},
   "exception": null,
   "input_path": "eBay_Overview.ipynb",
   "output_path": "eBay_Overview.ipynb",
   "parameters": {},
   "start_time": "2021-08-31T02:30:04.865068",
   "version": "2.3.3"
  }
 },
 "nbformat": 4,
 "nbformat_minor": 5
}