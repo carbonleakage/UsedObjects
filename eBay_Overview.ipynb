{
 "cells": [
  {
   "cell_type": "code",
   "execution_count": 1,
   "id": "reverse-picking",
   "metadata": {
    "execution": {
     "iopub.execute_input": "2021-12-03T22:00:08.211422Z",
     "iopub.status.busy": "2021-12-03T22:00:08.200274Z",
     "iopub.status.idle": "2021-12-03T22:00:09.169779Z",
     "shell.execute_reply": "2021-12-03T22:00:09.171220Z"
    },
    "papermill": {
     "duration": 1.01897,
     "end_time": "2021-12-03T22:00:09.172005",
     "exception": false,
     "start_time": "2021-12-03T22:00:08.153035",
     "status": "completed"
    },
    "tags": []
   },
   "outputs": [],
   "source": [
    "import pandas as pd\n",
    "import sqlite3"
   ]
  },
  {
   "cell_type": "code",
   "execution_count": 2,
   "id": "innovative-syndrome",
   "metadata": {
    "execution": {
     "iopub.execute_input": "2021-12-03T22:00:09.298672Z",
     "iopub.status.busy": "2021-12-03T22:00:09.296423Z",
     "iopub.status.idle": "2021-12-03T22:00:10.262720Z",
     "shell.execute_reply": "2021-12-03T22:00:10.264299Z"
    },
    "papermill": {
     "duration": 1.00218,
     "end_time": "2021-12-03T22:00:10.264745",
     "exception": false,
     "start_time": "2021-12-03T22:00:09.262565",
     "status": "completed"
    },
    "tags": []
   },
   "outputs": [],
   "source": [
    "timestamps = pd.read_sql(\"select distinct record_time from EBAY_TOP_BERLIN order by record_time desc limit 2\", sqlite3.connect(\"UsedObjects.db\"))"
   ]
  },
  {
   "cell_type": "code",
   "execution_count": 3,
   "id": "periodic-identification",
   "metadata": {
    "execution": {
     "iopub.execute_input": "2021-12-03T22:00:10.361307Z",
     "iopub.status.busy": "2021-12-03T22:00:10.358859Z",
     "iopub.status.idle": "2021-12-03T22:00:10.381684Z",
     "shell.execute_reply": "2021-12-03T22:00:10.383106Z"
    },
    "papermill": {
     "duration": 0.085693,
     "end_time": "2021-12-03T22:00:10.383585",
     "exception": false,
     "start_time": "2021-12-03T22:00:10.297892",
     "status": "completed"
    },
    "tags": []
   },
   "outputs": [
    {
     "data": {
      "text/html": [
       "<div>\n",
       "<style scoped>\n",
       "    .dataframe tbody tr th:only-of-type {\n",
       "        vertical-align: middle;\n",
       "    }\n",
       "\n",
       "    .dataframe tbody tr th {\n",
       "        vertical-align: top;\n",
       "    }\n",
       "\n",
       "    .dataframe thead th {\n",
       "        text-align: right;\n",
       "    }\n",
       "</style>\n",
       "<table border=\"1\" class=\"dataframe\">\n",
       "  <thead>\n",
       "    <tr style=\"text-align: right;\">\n",
       "      <th></th>\n",
       "      <th>RECORD_TIME</th>\n",
       "    </tr>\n",
       "  </thead>\n",
       "  <tbody>\n",
       "    <tr>\n",
       "      <th>0</th>\n",
       "      <td>2021-12-03 23:00</td>\n",
       "    </tr>\n",
       "    <tr>\n",
       "      <th>1</th>\n",
       "      <td>2021-12-03 22:30</td>\n",
       "    </tr>\n",
       "  </tbody>\n",
       "</table>\n",
       "</div>"
      ],
      "text/plain": [
       "        RECORD_TIME\n",
       "0  2021-12-03 23:00\n",
       "1  2021-12-03 22:30"
      ]
     },
     "execution_count": 3,
     "metadata": {},
     "output_type": "execute_result"
    }
   ],
   "source": [
    "timestamps"
   ]
  },
  {
   "cell_type": "code",
   "execution_count": 4,
   "id": "alternate-victory",
   "metadata": {
    "execution": {
     "iopub.execute_input": "2021-12-03T22:00:10.440792Z",
     "iopub.status.busy": "2021-12-03T22:00:10.438423Z",
     "iopub.status.idle": "2021-12-03T22:00:11.862214Z",
     "shell.execute_reply": "2021-12-03T22:00:11.863889Z"
    },
    "papermill": {
     "duration": 1.458558,
     "end_time": "2021-12-03T22:00:11.864441",
     "exception": false,
     "start_time": "2021-12-03T22:00:10.405883",
     "status": "completed"
    },
    "tags": []
   },
   "outputs": [],
   "source": [
    "df = pd.read_sql(\"select * from EBAY_TOP_BERLIN where record_time in (select distinct record_time from EBAY_TOP_BERLIN order by record_time desc limit 2)\", sqlite3.connect(\"UsedObjects.db\"))"
   ]
  },
  {
   "cell_type": "code",
   "execution_count": 5,
   "id": "popular-active",
   "metadata": {
    "execution": {
     "iopub.execute_input": "2021-12-03T22:00:11.943807Z",
     "iopub.status.busy": "2021-12-03T22:00:11.930419Z",
     "iopub.status.idle": "2021-12-03T22:00:11.961787Z",
     "shell.execute_reply": "2021-12-03T22:00:11.963135Z"
    },
    "papermill": {
     "duration": 0.075672,
     "end_time": "2021-12-03T22:00:11.963605",
     "exception": false,
     "start_time": "2021-12-03T22:00:11.887933",
     "status": "completed"
    },
    "tags": []
   },
   "outputs": [],
   "source": [
    "df_pivot = df.pivot_table(index=\"PRODUCT\", columns = \"RECORD_TIME\", values = \"LISTING_COUNT\")"
   ]
  },
  {
   "cell_type": "code",
   "execution_count": 6,
   "id": "union-huntington",
   "metadata": {
    "execution": {
     "iopub.execute_input": "2021-12-03T22:00:12.024594Z",
     "iopub.status.busy": "2021-12-03T22:00:12.022323Z",
     "iopub.status.idle": "2021-12-03T22:00:12.027908Z",
     "shell.execute_reply": "2021-12-03T22:00:12.029527Z"
    },
    "papermill": {
     "duration": 0.045911,
     "end_time": "2021-12-03T22:00:12.030009",
     "exception": false,
     "start_time": "2021-12-03T22:00:11.984098",
     "status": "completed"
    },
    "tags": []
   },
   "outputs": [],
   "source": [
    "df_pivot.columns = [\"stamp_1\", \"stamp_2\"]\n",
    "df_pivot_diff = df_pivot.diff(axis=1)"
   ]
  },
  {
   "cell_type": "code",
   "execution_count": 7,
   "id": "fifth-motion",
   "metadata": {
    "execution": {
     "iopub.execute_input": "2021-12-03T22:00:12.090421Z",
     "iopub.status.busy": "2021-12-03T22:00:12.088069Z",
     "iopub.status.idle": "2021-12-03T22:00:14.080259Z",
     "shell.execute_reply": "2021-12-03T22:00:14.078646Z"
    },
    "papermill": {
     "duration": 2.027899,
     "end_time": "2021-12-03T22:00:14.080904",
     "exception": false,
     "start_time": "2021-12-03T22:00:12.053005",
     "status": "completed"
    },
    "tags": []
   },
   "outputs": [
    {
     "data": {
      "text/plain": [
       "<AxesSubplot:ylabel='PRODUCT'>"
      ]
     },
     "execution_count": 7,
     "metadata": {},
     "output_type": "execute_result"
    },
    {
     "data": {
      "image/png": "[encoded data removed]",
      "text/plain": [
       "<Figure size 432x288 with 1 Axes>"
      ]
     },
     "metadata": {
      "needs_background": "light"
     },
     "output_type": "display_data"
    }
   ],
   "source": [
    "df_pivot_diff.sort_values(\"stamp_2\", ascending = False)[\"stamp_2\"].head(10).plot.barh()"
   ]
  },
  {
   "cell_type": "code",
   "execution_count": null,
   "id": "extra-executive",
   "metadata": {
    "papermill": {
     "duration": 0.022478,
     "end_time": "2021-12-03T22:00:14.128485",
     "exception": false,
     "start_time": "2021-12-03T22:00:14.106007",
     "status": "completed"
    },
    "tags": []
   },
   "outputs": [],
   "source": []
  }
 ],
 "metadata": {
  "kernelspec": {
   "display_name": "Python 3",
   "language": "python",
   "name": "python3"
  },
  "language_info": {
   "codemirror_mode": {
    "name": "ipython",
    "version": 3
   },
   "file_extension": ".py",
   "mimetype": "text/x-python",
   "name": "python",
   "nbconvert_exporter": "python",
   "pygments_lexer": "ipython3",
   "version": "3.9.5"
  },
  "papermill": {
   "default_parameters": {},
   "duration": 9.949465,
   "end_time": "2021-12-03T22:00:15.336143",
   "environment_variables": {},
   "exception": null,
   "input_path": "eBay_Overview.ipynb",
   "output_path": "eBay_Overview.ipynb",
   "parameters": {},
   "start_time": "2021-12-03T22:00:05.386678",
   "version": "2.3.3"
  }
 },
 "nbformat": 4,
 "nbformat_minor": 5
}