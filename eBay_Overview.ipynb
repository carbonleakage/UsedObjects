{
 "cells": [
  {
   "cell_type": "code",
   "execution_count": 1,
   "id": "reverse-picking",
   "metadata": {
    "execution": {
     "iopub.execute_input": "2021-08-18T09:00:06.685316Z",
     "iopub.status.busy": "2021-08-18T09:00:06.683398Z",
     "iopub.status.idle": "2021-08-18T09:00:07.486113Z",
     "shell.execute_reply": "2021-08-18T09:00:07.487486Z"
    },
    "papermill": {
     "duration": 0.853331,
     "end_time": "2021-08-18T09:00:07.488131",
     "exception": false,
     "start_time": "2021-08-18T09:00:06.634800",
     "status": "completed"
    },
    "tags": []
   },
   "outputs": [],
   "source": [
    "import pandas as pd\n",
    "import sqlite3"
   ]
  },
  {
   "cell_type": "code",
   "execution_count": 2,
   "id": "innovative-syndrome",
   "metadata": {
    "execution": {
     "iopub.execute_input": "2021-08-18T09:00:07.538824Z",
     "iopub.status.busy": "2021-08-18T09:00:07.536857Z",
     "iopub.status.idle": "2021-08-18T09:00:07.610263Z",
     "shell.execute_reply": "2021-08-18T09:00:07.611658Z"
    },
    "papermill": {
     "duration": 0.103347,
     "end_time": "2021-08-18T09:00:07.612096",
     "exception": false,
     "start_time": "2021-08-18T09:00:07.508749",
     "status": "completed"
    },
    "tags": []
   },
   "outputs": [],
   "source": [
    "timestamps = pd.read_sql(\"select distinct record_time from EBAY_TOP_BERLIN order by record_time desc limit 2\", sqlite3.connect(\"UsedObjects.db\"))"
   ]
  },
  {
   "cell_type": "code",
   "execution_count": 3,
   "id": "periodic-identification",
   "metadata": {
    "execution": {
     "iopub.execute_input": "2021-08-18T09:00:07.676579Z",
     "iopub.status.busy": "2021-08-18T09:00:07.674495Z",
     "iopub.status.idle": "2021-08-18T09:00:07.694871Z",
     "shell.execute_reply": "2021-08-18T09:00:07.696139Z"
    },
    "papermill": {
     "duration": 0.065069,
     "end_time": "2021-08-18T09:00:07.696537",
     "exception": false,
     "start_time": "2021-08-18T09:00:07.631468",
     "status": "completed"
    },
    "tags": []
   },
   "outputs": [
    {
     "data": {
      "text/html": [
       "<div>\n",
       "<style scoped>\n",
       "    .dataframe tbody tr th:only-of-type {\n",
       "        vertical-align: middle;\n",
       "    }\n",
       "\n",
       "    .dataframe tbody tr th {\n",
       "        vertical-align: top;\n",
       "    }\n",
       "\n",
       "    .dataframe thead th {\n",
       "        text-align: right;\n",
       "    }\n",
       "</style>\n",
       "<table border=\"1\" class=\"dataframe\">\n",
       "  <thead>\n",
       "    <tr style=\"text-align: right;\">\n",
       "      <th></th>\n",
       "      <th>RECORD_TIME</th>\n",
       "    </tr>\n",
       "  </thead>\n",
       "  <tbody>\n",
       "    <tr>\n",
       "      <th>0</th>\n",
       "      <td>2021-08-18 11:00</td>\n",
       "    </tr>\n",
       "    <tr>\n",
       "      <th>1</th>\n",
       "      <td>2021-08-18 10:30</td>\n",
       "    </tr>\n",
       "  </tbody>\n",
       "</table>\n",
       "</div>"
      ],
      "text/plain": [
       "        RECORD_TIME\n",
       "0  2021-08-18 11:00\n",
       "1  2021-08-18 10:30"
      ]
     },
     "execution_count": 3,
     "metadata": {},
     "output_type": "execute_result"
    }
   ],
   "source": [
    "timestamps"
   ]
  },
  {
   "cell_type": "code",
   "execution_count": 4,
   "id": "alternate-victory",
   "metadata": {
    "execution": {
     "iopub.execute_input": "2021-08-18T09:00:07.750336Z",
     "iopub.status.busy": "2021-08-18T09:00:07.747985Z",
     "iopub.status.idle": "2021-08-18T09:00:07.860015Z",
     "shell.execute_reply": "2021-08-18T09:00:07.861219Z"
    },
    "papermill": {
     "duration": 0.14285,
     "end_time": "2021-08-18T09:00:07.861613",
     "exception": false,
     "start_time": "2021-08-18T09:00:07.718763",
     "status": "completed"
    },
    "tags": []
   },
   "outputs": [],
   "source": [
    "df = pd.read_sql(\"select * from EBAY_TOP_BERLIN where record_time in (select distinct record_time from EBAY_TOP_BERLIN order by record_time desc limit 2)\", sqlite3.connect(\"UsedObjects.db\"))"
   ]
  },
  {
   "cell_type": "code",
   "execution_count": 5,
   "id": "popular-active",
   "metadata": {
    "execution": {
     "iopub.execute_input": "2021-08-18T09:00:07.931490Z",
     "iopub.status.busy": "2021-08-18T09:00:07.920178Z",
     "iopub.status.idle": "2021-08-18T09:00:07.947685Z",
     "shell.execute_reply": "2021-08-18T09:00:07.948894Z"
    },
    "papermill": {
     "duration": 0.066962,
     "end_time": "2021-08-18T09:00:07.949286",
     "exception": false,
     "start_time": "2021-08-18T09:00:07.882324",
     "status": "completed"
    },
    "tags": []
   },
   "outputs": [],
   "source": [
    "df_pivot = df.pivot_table(index=\"PRODUCT\", columns = \"RECORD_TIME\", values = \"LISTING_COUNT\")"
   ]
  },
  {
   "cell_type": "code",
   "execution_count": 6,
   "id": "union-huntington",
   "metadata": {
    "execution": {
     "iopub.execute_input": "2021-08-18T09:00:08.006348Z",
     "iopub.status.busy": "2021-08-18T09:00:08.004128Z",
     "iopub.status.idle": "2021-08-18T09:00:08.009759Z",
     "shell.execute_reply": "2021-08-18T09:00:08.011446Z"
    },
    "papermill": {
     "duration": 0.041687,
     "end_time": "2021-08-18T09:00:08.011901",
     "exception": false,
     "start_time": "2021-08-18T09:00:07.970214",
     "status": "completed"
    },
    "tags": []
   },
   "outputs": [],
   "source": [
    "df_pivot.columns = [\"stamp_1\", \"stamp_2\"]\n",
    "df_pivot_diff = df_pivot.diff(axis=1)"
   ]
  },
  {
   "cell_type": "code",
   "execution_count": 7,
   "id": "fifth-motion",
   "metadata": {
    "execution": {
     "iopub.execute_input": "2021-08-18T09:00:08.069496Z",
     "iopub.status.busy": "2021-08-18T09:00:08.067204Z",
     "iopub.status.idle": "2021-08-18T09:00:09.545640Z",
     "shell.execute_reply": "2021-08-18T09:00:09.547098Z"
    },
    "papermill": {
     "duration": 1.512857,
     "end_time": "2021-08-18T09:00:09.547544",
     "exception": false,
     "start_time": "2021-08-18T09:00:08.034687",
     "status": "completed"
    },
    "tags": []
   },
   "outputs": [
    {
     "data": {
      "text/plain": [
       "<AxesSubplot:ylabel='PRODUCT'>"
      ]
     },
     "execution_count": 7,
     "metadata": {},
     "output_type": "execute_result"
    },
    {
     "data": {
      "image/png": "[encoded data removed]",
      "text/plain": [
       "<Figure size 432x288 with 1 Axes>"
      ]
     },
     "metadata": {
      "needs_background": "light"
     },
     "output_type": "display_data"
    }
   ],
   "source": [
    "df_pivot_diff.sort_values(\"stamp_2\", ascending = False)[\"stamp_2\"].head(10).plot.barh()"
   ]
  },
  {
   "cell_type": "code",
   "execution_count": null,
   "id": "extra-executive",
   "metadata": {
    "papermill": {
     "duration": 0.0224,
     "end_time": "2021-08-18T09:00:09.593860",
     "exception": false,
     "start_time": "2021-08-18T09:00:09.571460",
     "status": "completed"
    },
    "tags": []
   },
   "outputs": [],
   "source": []
  }
 ],
 "metadata": {
  "kernelspec": {
   "display_name": "Python 3",
   "language": "python",
   "name": "python3"
  },
  "language_info": {
   "codemirror_mode": {
    "name": "ipython",
    "version": 3
   },
   "file_extension": ".py",
   "mimetype": "text/x-python",
   "name": "python",
   "nbconvert_exporter": "python",
   "pygments_lexer": "ipython3",
   "version": "3.9.5"
  },
  "papermill": {
   "default_parameters": {},
   "duration": 6.830692,
   "end_time": "2021-08-18T09:00:11.057461",
   "environment_variables": {},
   "exception": null,
   "input_path": "eBay_Overview.ipynb",
   "output_path": "eBay_Overview.ipynb",
   "parameters": {},
   "start_time": "2021-08-18T09:00:04.226769",
   "version": "2.3.3"
  }
 },
 "nbformat": 4,
 "nbformat_minor": 5
}