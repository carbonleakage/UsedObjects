{
 "cells": [
  {
   "cell_type": "code",
   "execution_count": 1,
   "id": "reverse-picking",
   "metadata": {
    "execution": {
     "iopub.execute_input": "2021-11-16T23:00:07.443787Z",
     "iopub.status.busy": "2021-11-16T23:00:07.441508Z",
     "iopub.status.idle": "2021-11-16T23:00:08.387837Z",
     "shell.execute_reply": "2021-11-16T23:00:08.389600Z"
    },
    "papermill": {
     "duration": 0.996064,
     "end_time": "2021-11-16T23:00:08.390360",
     "exception": false,
     "start_time": "2021-11-16T23:00:07.394296",
     "status": "completed"
    },
    "tags": []
   },
   "outputs": [],
   "source": [
    "import pandas as pd\n",
    "import sqlite3"
   ]
  },
  {
   "cell_type": "code",
   "execution_count": 2,
   "id": "innovative-syndrome",
   "metadata": {
    "execution": {
     "iopub.execute_input": "2021-11-16T23:00:08.460803Z",
     "iopub.status.busy": "2021-11-16T23:00:08.458496Z",
     "iopub.status.idle": "2021-11-16T23:00:09.303299Z",
     "shell.execute_reply": "2021-11-16T23:00:09.304667Z"
    },
    "papermill": {
     "duration": 0.878721,
     "end_time": "2021-11-16T23:00:09.305247",
     "exception": false,
     "start_time": "2021-11-16T23:00:08.426526",
     "status": "completed"
    },
    "tags": []
   },
   "outputs": [],
   "source": [
    "timestamps = pd.read_sql(\"select distinct record_time from EBAY_TOP_BERLIN order by record_time desc limit 2\", sqlite3.connect(\"UsedObjects.db\"))"
   ]
  },
  {
   "cell_type": "code",
   "execution_count": 3,
   "id": "periodic-identification",
   "metadata": {
    "execution": {
     "iopub.execute_input": "2021-11-16T23:00:09.373961Z",
     "iopub.status.busy": "2021-11-16T23:00:09.352302Z",
     "iopub.status.idle": "2021-11-16T23:00:09.396225Z",
     "shell.execute_reply": "2021-11-16T23:00:09.397759Z"
    },
    "papermill": {
     "duration": 0.073127,
     "end_time": "2021-11-16T23:00:09.398260",
     "exception": false,
     "start_time": "2021-11-16T23:00:09.325133",
     "status": "completed"
    },
    "tags": []
   },
   "outputs": [
    {
     "data": {
      "text/html": [
       "<div>\n",
       "<style scoped>\n",
       "    .dataframe tbody tr th:only-of-type {\n",
       "        vertical-align: middle;\n",
       "    }\n",
       "\n",
       "    .dataframe tbody tr th {\n",
       "        vertical-align: top;\n",
       "    }\n",
       "\n",
       "    .dataframe thead th {\n",
       "        text-align: right;\n",
       "    }\n",
       "</style>\n",
       "<table border=\"1\" class=\"dataframe\">\n",
       "  <thead>\n",
       "    <tr style=\"text-align: right;\">\n",
       "      <th></th>\n",
       "      <th>RECORD_TIME</th>\n",
       "    </tr>\n",
       "  </thead>\n",
       "  <tbody>\n",
       "    <tr>\n",
       "      <th>0</th>\n",
       "      <td>2021-11-17 00:00</td>\n",
       "    </tr>\n",
       "    <tr>\n",
       "      <th>1</th>\n",
       "      <td>2021-11-16 23:30</td>\n",
       "    </tr>\n",
       "  </tbody>\n",
       "</table>\n",
       "</div>"
      ],
      "text/plain": [
       "        RECORD_TIME\n",
       "0  2021-11-17 00:00\n",
       "1  2021-11-16 23:30"
      ]
     },
     "execution_count": 3,
     "metadata": {},
     "output_type": "execute_result"
    }
   ],
   "source": [
    "timestamps"
   ]
  },
  {
   "cell_type": "code",
   "execution_count": 4,
   "id": "alternate-victory",
   "metadata": {
    "execution": {
     "iopub.execute_input": "2021-11-16T23:00:09.454150Z",
     "iopub.status.busy": "2021-11-16T23:00:09.452130Z",
     "iopub.status.idle": "2021-11-16T23:00:10.702927Z",
     "shell.execute_reply": "2021-11-16T23:00:10.704730Z"
    },
    "papermill": {
     "duration": 1.284675,
     "end_time": "2021-11-16T23:00:10.705308",
     "exception": false,
     "start_time": "2021-11-16T23:00:09.420633",
     "status": "completed"
    },
    "tags": []
   },
   "outputs": [],
   "source": [
    "df = pd.read_sql(\"select * from EBAY_TOP_BERLIN where record_time in (select distinct record_time from EBAY_TOP_BERLIN order by record_time desc limit 2)\", sqlite3.connect(\"UsedObjects.db\"))"
   ]
  },
  {
   "cell_type": "code",
   "execution_count": 5,
   "id": "popular-active",
   "metadata": {
    "execution": {
     "iopub.execute_input": "2021-11-16T23:00:10.784531Z",
     "iopub.status.busy": "2021-11-16T23:00:10.770541Z",
     "iopub.status.idle": "2021-11-16T23:00:10.803725Z",
     "shell.execute_reply": "2021-11-16T23:00:10.805319Z"
    },
    "papermill": {
     "duration": 0.07891,
     "end_time": "2021-11-16T23:00:10.805781",
     "exception": false,
     "start_time": "2021-11-16T23:00:10.726871",
     "status": "completed"
    },
    "tags": []
   },
   "outputs": [],
   "source": [
    "df_pivot = df.pivot_table(index=\"PRODUCT\", columns = \"RECORD_TIME\", values = \"LISTING_COUNT\")"
   ]
  },
  {
   "cell_type": "code",
   "execution_count": 6,
   "id": "union-huntington",
   "metadata": {
    "execution": {
     "iopub.execute_input": "2021-11-16T23:00:10.868250Z",
     "iopub.status.busy": "2021-11-16T23:00:10.865847Z",
     "iopub.status.idle": "2021-11-16T23:00:10.871831Z",
     "shell.execute_reply": "2021-11-16T23:00:10.873272Z"
    },
    "papermill": {
     "duration": 0.046466,
     "end_time": "2021-11-16T23:00:10.873758",
     "exception": false,
     "start_time": "2021-11-16T23:00:10.827292",
     "status": "completed"
    },
    "tags": []
   },
   "outputs": [],
   "source": [
    "df_pivot.columns = [\"stamp_1\", \"stamp_2\"]\n",
    "df_pivot_diff = df_pivot.diff(axis=1)"
   ]
  },
  {
   "cell_type": "code",
   "execution_count": 7,
   "id": "fifth-motion",
   "metadata": {
    "execution": {
     "iopub.execute_input": "2021-11-16T23:00:10.929311Z",
     "iopub.status.busy": "2021-11-16T23:00:10.926778Z",
     "iopub.status.idle": "2021-11-16T23:00:12.840610Z",
     "shell.execute_reply": "2021-11-16T23:00:12.838299Z"
    },
    "papermill": {
     "duration": 1.947437,
     "end_time": "2021-11-16T23:00:12.841095",
     "exception": false,
     "start_time": "2021-11-16T23:00:10.893658",
     "status": "completed"
    },
    "tags": []
   },
   "outputs": [
    {
     "data": {
      "text/plain": [
       "<AxesSubplot:ylabel='PRODUCT'>"
      ]
     },
     "execution_count": 7,
     "metadata": {},
     "output_type": "execute_result"
    },
    {
     "data": {
      "image/png": "[encoded data removed]",
      "text/plain": [
       "<Figure size 432x288 with 1 Axes>"
      ]
     },
     "metadata": {
      "needs_background": "light"
     },
     "output_type": "display_data"
    }
   ],
   "source": [
    "df_pivot_diff.sort_values(\"stamp_2\", ascending = False)[\"stamp_2\"].head(10).plot.barh()"
   ]
  },
  {
   "cell_type": "code",
   "execution_count": null,
   "id": "extra-executive",
   "metadata": {
    "papermill": {
     "duration": 0.023168,
     "end_time": "2021-11-16T23:00:12.888745",
     "exception": false,
     "start_time": "2021-11-16T23:00:12.865577",
     "status": "completed"
    },
    "tags": []
   },
   "outputs": [],
   "source": []
  }
 ],
 "metadata": {
  "kernelspec": {
   "display_name": "Python 3",
   "language": "python",
   "name": "python3"
  },
  "language_info": {
   "codemirror_mode": {
    "name": "ipython",
    "version": 3
   },
   "file_extension": ".py",
   "mimetype": "text/x-python",
   "name": "python",
   "nbconvert_exporter": "python",
   "pygments_lexer": "ipython3",
   "version": "3.9.5"
  },
  "papermill": {
   "default_parameters": {},
   "duration": 9.931511,
   "end_time": "2021-11-16T23:00:14.616318",
   "environment_variables": {},
   "exception": null,
   "input_path": "eBay_Overview.ipynb",
   "output_path": "eBay_Overview.ipynb",
   "parameters": {},
   "start_time": "2021-11-16T23:00:04.684807",
   "version": "2.3.3"
  }
 },
 "nbformat": 4,
 "nbformat_minor": 5
}