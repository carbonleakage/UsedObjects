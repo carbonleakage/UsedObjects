{
 "cells": [
  {
   "cell_type": "code",
   "execution_count": 1,
   "id": "reverse-picking",
   "metadata": {
    "execution": {
     "iopub.execute_input": "2021-08-27T09:30:07.586531Z",
     "iopub.status.busy": "2021-08-27T09:30:07.584605Z",
     "iopub.status.idle": "2021-08-27T09:30:08.388807Z",
     "shell.execute_reply": "2021-08-27T09:30:08.390071Z"
    },
    "papermill": {
     "duration": 0.856532,
     "end_time": "2021-08-27T09:30:08.390690",
     "exception": false,
     "start_time": "2021-08-27T09:30:07.534158",
     "status": "completed"
    },
    "tags": []
   },
   "outputs": [],
   "source": [
    "import pandas as pd\n",
    "import sqlite3"
   ]
  },
  {
   "cell_type": "code",
   "execution_count": 2,
   "id": "innovative-syndrome",
   "metadata": {
    "execution": {
     "iopub.execute_input": "2021-08-27T09:30:08.442725Z",
     "iopub.status.busy": "2021-08-27T09:30:08.440538Z",
     "iopub.status.idle": "2021-08-27T09:30:08.584591Z",
     "shell.execute_reply": "2021-08-27T09:30:08.586074Z"
    },
    "papermill": {
     "duration": 0.173973,
     "end_time": "2021-08-27T09:30:08.586516",
     "exception": false,
     "start_time": "2021-08-27T09:30:08.412543",
     "status": "completed"
    },
    "tags": []
   },
   "outputs": [],
   "source": [
    "timestamps = pd.read_sql(\"select distinct record_time from EBAY_TOP_BERLIN order by record_time desc limit 2\", sqlite3.connect(\"UsedObjects.db\"))"
   ]
  },
  {
   "cell_type": "code",
   "execution_count": 3,
   "id": "periodic-identification",
   "metadata": {
    "execution": {
     "iopub.execute_input": "2021-08-27T09:30:08.653462Z",
     "iopub.status.busy": "2021-08-27T09:30:08.651381Z",
     "iopub.status.idle": "2021-08-27T09:30:08.671049Z",
     "shell.execute_reply": "2021-08-27T09:30:08.672396Z"
    },
    "papermill": {
     "duration": 0.066389,
     "end_time": "2021-08-27T09:30:08.672840",
     "exception": false,
     "start_time": "2021-08-27T09:30:08.606451",
     "status": "completed"
    },
    "tags": []
   },
   "outputs": [
    {
     "data": {
      "text/html": [
       "<div>\n",
       "<style scoped>\n",
       "    .dataframe tbody tr th:only-of-type {\n",
       "        vertical-align: middle;\n",
       "    }\n",
       "\n",
       "    .dataframe tbody tr th {\n",
       "        vertical-align: top;\n",
       "    }\n",
       "\n",
       "    .dataframe thead th {\n",
       "        text-align: right;\n",
       "    }\n",
       "</style>\n",
       "<table border=\"1\" class=\"dataframe\">\n",
       "  <thead>\n",
       "    <tr style=\"text-align: right;\">\n",
       "      <th></th>\n",
       "      <th>RECORD_TIME</th>\n",
       "    </tr>\n",
       "  </thead>\n",
       "  <tbody>\n",
       "    <tr>\n",
       "      <th>0</th>\n",
       "      <td>2021-08-27 11:30</td>\n",
       "    </tr>\n",
       "    <tr>\n",
       "      <th>1</th>\n",
       "      <td>2021-08-27 11:00</td>\n",
       "    </tr>\n",
       "  </tbody>\n",
       "</table>\n",
       "</div>"
      ],
      "text/plain": [
       "        RECORD_TIME\n",
       "0  2021-08-27 11:30\n",
       "1  2021-08-27 11:00"
      ]
     },
     "execution_count": 3,
     "metadata": {},
     "output_type": "execute_result"
    }
   ],
   "source": [
    "timestamps"
   ]
  },
  {
   "cell_type": "code",
   "execution_count": 4,
   "id": "alternate-victory",
   "metadata": {
    "execution": {
     "iopub.execute_input": "2021-08-27T09:30:08.723093Z",
     "iopub.status.busy": "2021-08-27T09:30:08.721243Z",
     "iopub.status.idle": "2021-08-27T09:30:08.930618Z",
     "shell.execute_reply": "2021-08-27T09:30:08.931898Z"
    },
    "papermill": {
     "duration": 0.239376,
     "end_time": "2021-08-27T09:30:08.932360",
     "exception": false,
     "start_time": "2021-08-27T09:30:08.692984",
     "status": "completed"
    },
    "tags": []
   },
   "outputs": [],
   "source": [
    "df = pd.read_sql(\"select * from EBAY_TOP_BERLIN where record_time in (select distinct record_time from EBAY_TOP_BERLIN order by record_time desc limit 2)\", sqlite3.connect(\"UsedObjects.db\"))"
   ]
  },
  {
   "cell_type": "code",
   "execution_count": 5,
   "id": "popular-active",
   "metadata": {
    "execution": {
     "iopub.execute_input": "2021-08-27T09:30:08.997829Z",
     "iopub.status.busy": "2021-08-27T09:30:08.991456Z",
     "iopub.status.idle": "2021-08-27T09:30:09.018652Z",
     "shell.execute_reply": "2021-08-27T09:30:09.019772Z"
    },
    "papermill": {
     "duration": 0.066951,
     "end_time": "2021-08-27T09:30:09.020177",
     "exception": false,
     "start_time": "2021-08-27T09:30:08.953226",
     "status": "completed"
    },
    "tags": []
   },
   "outputs": [],
   "source": [
    "df_pivot = df.pivot_table(index=\"PRODUCT\", columns = \"RECORD_TIME\", values = \"LISTING_COUNT\")"
   ]
  },
  {
   "cell_type": "code",
   "execution_count": 6,
   "id": "union-huntington",
   "metadata": {
    "execution": {
     "iopub.execute_input": "2021-08-27T09:30:09.088444Z",
     "iopub.status.busy": "2021-08-27T09:30:09.085795Z",
     "iopub.status.idle": "2021-08-27T09:30:09.092340Z",
     "shell.execute_reply": "2021-08-27T09:30:09.093922Z"
    },
    "papermill": {
     "duration": 0.04626,
     "end_time": "2021-08-27T09:30:09.094410",
     "exception": false,
     "start_time": "2021-08-27T09:30:09.048150",
     "status": "completed"
    },
    "tags": []
   },
   "outputs": [],
   "source": [
    "df_pivot.columns = [\"stamp_1\", \"stamp_2\"]\n",
    "df_pivot_diff = df_pivot.diff(axis=1)"
   ]
  },
  {
   "cell_type": "code",
   "execution_count": 7,
   "id": "fifth-motion",
   "metadata": {
    "execution": {
     "iopub.execute_input": "2021-08-27T09:30:09.148315Z",
     "iopub.status.busy": "2021-08-27T09:30:09.146088Z",
     "iopub.status.idle": "2021-08-27T09:30:10.638432Z",
     "shell.execute_reply": "2021-08-27T09:30:10.639722Z"
    },
    "papermill": {
     "duration": 1.524608,
     "end_time": "2021-08-27T09:30:10.640134",
     "exception": false,
     "start_time": "2021-08-27T09:30:09.115526",
     "status": "completed"
    },
    "tags": []
   },
   "outputs": [
    {
     "data": {
      "text/plain": [
       "<AxesSubplot:ylabel='PRODUCT'>"
      ]
     },
     "execution_count": 7,
     "metadata": {},
     "output_type": "execute_result"
    },
    {
     "data": {
      "image/png": "[encoded data removed]",
      "text/plain": [
       "<Figure size 432x288 with 1 Axes>"
      ]
     },
     "metadata": {
      "needs_background": "light"
     },
     "output_type": "display_data"
    }
   ],
   "source": [
    "df_pivot_diff.sort_values(\"stamp_2\", ascending = False)[\"stamp_2\"].head(10).plot.barh()"
   ]
  },
  {
   "cell_type": "code",
   "execution_count": null,
   "id": "extra-executive",
   "metadata": {
    "papermill": {
     "duration": 0.02228,
     "end_time": "2021-08-27T09:30:10.686384",
     "exception": false,
     "start_time": "2021-08-27T09:30:10.664104",
     "status": "completed"
    },
    "tags": []
   },
   "outputs": [],
   "source": []
  }
 ],
 "metadata": {
  "kernelspec": {
   "display_name": "Python 3",
   "language": "python",
   "name": "python3"
  },
  "language_info": {
   "codemirror_mode": {
    "name": "ipython",
    "version": 3
   },
   "file_extension": ".py",
   "mimetype": "text/x-python",
   "name": "python",
   "nbconvert_exporter": "python",
   "pygments_lexer": "ipython3",
   "version": "3.9.5"
  },
  "papermill": {
   "default_parameters": {},
   "duration": 6.820263,
   "end_time": "2021-08-27T09:30:11.956297",
   "environment_variables": {},
   "exception": null,
   "input_path": "eBay_Overview.ipynb",
   "output_path": "eBay_Overview.ipynb",
   "parameters": {},
   "start_time": "2021-08-27T09:30:05.136034",
   "version": "2.3.3"
  }
 },
 "nbformat": 4,
 "nbformat_minor": 5
}