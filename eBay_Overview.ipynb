{
 "cells": [
  {
   "cell_type": "code",
   "execution_count": 1,
   "id": "reverse-picking",
   "metadata": {
    "execution": {
     "iopub.execute_input": "2021-08-10T06:00:05.079697Z",
     "iopub.status.busy": "2021-08-10T06:00:05.077807Z",
     "iopub.status.idle": "2021-08-10T06:00:05.796818Z",
     "shell.execute_reply": "2021-08-10T06:00:05.797800Z"
    },
    "papermill": {
     "duration": 0.736792,
     "end_time": "2021-08-10T06:00:05.798198",
     "exception": false,
     "start_time": "2021-08-10T06:00:05.061406",
     "status": "completed"
    },
    "tags": []
   },
   "outputs": [],
   "source": [
    "import pandas as pd\n",
    "import sqlite3"
   ]
  },
  {
   "cell_type": "code",
   "execution_count": 2,
   "id": "innovative-syndrome",
   "metadata": {
    "execution": {
     "iopub.execute_input": "2021-08-10T06:00:05.822952Z",
     "iopub.status.busy": "2021-08-10T06:00:05.822174Z",
     "iopub.status.idle": "2021-08-10T06:00:06.150980Z",
     "shell.execute_reply": "2021-08-10T06:00:06.151538Z"
    },
    "papermill": {
     "duration": 0.343364,
     "end_time": "2021-08-10T06:00:06.151718",
     "exception": false,
     "start_time": "2021-08-10T06:00:05.808354",
     "status": "completed"
    },
    "tags": []
   },
   "outputs": [],
   "source": [
    "timestamps = pd.read_sql(\"select distinct record_time from EBAY_TOP_BERLIN order by record_time desc limit 2\", sqlite3.connect(\"UsedObjects.db\"))"
   ]
  },
  {
   "cell_type": "code",
   "execution_count": 3,
   "id": "periodic-identification",
   "metadata": {
    "execution": {
     "iopub.execute_input": "2021-08-10T06:00:06.186900Z",
     "iopub.status.busy": "2021-08-10T06:00:06.186020Z",
     "iopub.status.idle": "2021-08-10T06:00:06.200090Z",
     "shell.execute_reply": "2021-08-10T06:00:06.199332Z"
    },
    "papermill": {
     "duration": 0.040415,
     "end_time": "2021-08-10T06:00:06.200255",
     "exception": false,
     "start_time": "2021-08-10T06:00:06.159840",
     "status": "completed"
    },
    "tags": []
   },
   "outputs": [
    {
     "data": {
      "text/html": [
       "<div>\n",
       "<style scoped>\n",
       "    .dataframe tbody tr th:only-of-type {\n",
       "        vertical-align: middle;\n",
       "    }\n",
       "\n",
       "    .dataframe tbody tr th {\n",
       "        vertical-align: top;\n",
       "    }\n",
       "\n",
       "    .dataframe thead th {\n",
       "        text-align: right;\n",
       "    }\n",
       "</style>\n",
       "<table border=\"1\" class=\"dataframe\">\n",
       "  <thead>\n",
       "    <tr style=\"text-align: right;\">\n",
       "      <th></th>\n",
       "      <th>RECORD_TIME</th>\n",
       "    </tr>\n",
       "  </thead>\n",
       "  <tbody>\n",
       "    <tr>\n",
       "      <th>0</th>\n",
       "      <td>2021-08-10 08:00</td>\n",
       "    </tr>\n",
       "    <tr>\n",
       "      <th>1</th>\n",
       "      <td>2021-08-10 07:30</td>\n",
       "    </tr>\n",
       "  </tbody>\n",
       "</table>\n",
       "</div>"
      ],
      "text/plain": [
       "        RECORD_TIME\n",
       "0  2021-08-10 08:00\n",
       "1  2021-08-10 07:30"
      ]
     },
     "execution_count": 3,
     "metadata": {},
     "output_type": "execute_result"
    }
   ],
   "source": [
    "timestamps"
   ]
  },
  {
   "cell_type": "code",
   "execution_count": 4,
   "id": "alternate-victory",
   "metadata": {
    "execution": {
     "iopub.execute_input": "2021-08-10T06:00:06.221753Z",
     "iopub.status.busy": "2021-08-10T06:00:06.220995Z",
     "iopub.status.idle": "2021-08-10T06:00:06.234226Z",
     "shell.execute_reply": "2021-08-10T06:00:06.234758Z"
    },
    "papermill": {
     "duration": 0.02618,
     "end_time": "2021-08-10T06:00:06.234941",
     "exception": false,
     "start_time": "2021-08-10T06:00:06.208761",
     "status": "completed"
    },
    "tags": []
   },
   "outputs": [],
   "source": [
    "df = pd.read_sql(\"select * from EBAY_TOP_BERLIN where record_time in (select distinct record_time from EBAY_TOP_BERLIN order by record_time desc limit 2)\", sqlite3.connect(\"UsedObjects.db\"))"
   ]
  },
  {
   "cell_type": "code",
   "execution_count": 5,
   "id": "popular-active",
   "metadata": {
    "execution": {
     "iopub.execute_input": "2021-08-10T06:00:06.260938Z",
     "iopub.status.busy": "2021-08-10T06:00:06.259707Z",
     "iopub.status.idle": "2021-08-10T06:00:06.281626Z",
     "shell.execute_reply": "2021-08-10T06:00:06.282639Z"
    },
    "papermill": {
     "duration": 0.038924,
     "end_time": "2021-08-10T06:00:06.282958",
     "exception": false,
     "start_time": "2021-08-10T06:00:06.244034",
     "status": "completed"
    },
    "tags": []
   },
   "outputs": [],
   "source": [
    "df_pivot = df.pivot_table(index=\"PRODUCT\", columns = \"RECORD_TIME\", values = \"LISTING_COUNT\")"
   ]
  },
  {
   "cell_type": "code",
   "execution_count": 6,
   "id": "union-huntington",
   "metadata": {
    "execution": {
     "iopub.execute_input": "2021-08-10T06:00:06.315221Z",
     "iopub.status.busy": "2021-08-10T06:00:06.314489Z",
     "iopub.status.idle": "2021-08-10T06:00:06.317165Z",
     "shell.execute_reply": "2021-08-10T06:00:06.317695Z"
    },
    "papermill": {
     "duration": 0.02005,
     "end_time": "2021-08-10T06:00:06.317874",
     "exception": false,
     "start_time": "2021-08-10T06:00:06.297824",
     "status": "completed"
    },
    "tags": []
   },
   "outputs": [],
   "source": [
    "df_pivot.columns = [\"stamp_1\", \"stamp_2\"]\n",
    "df_pivot_diff = df_pivot.diff(axis=1)"
   ]
  },
  {
   "cell_type": "code",
   "execution_count": 7,
   "id": "fifth-motion",
   "metadata": {
    "execution": {
     "iopub.execute_input": "2021-08-10T06:00:06.351342Z",
     "iopub.status.busy": "2021-08-10T06:00:06.350587Z",
     "iopub.status.idle": "2021-08-10T06:00:07.219181Z",
     "shell.execute_reply": "2021-08-10T06:00:07.217898Z"
    },
    "papermill": {
     "duration": 0.890971,
     "end_time": "2021-08-10T06:00:07.219463",
     "exception": false,
     "start_time": "2021-08-10T06:00:06.328492",
     "status": "completed"
    },
    "tags": []
   },
   "outputs": [
    {
     "data": {
      "text/plain": [
       "<AxesSubplot:ylabel='PRODUCT'>"
      ]
     },
     "execution_count": 7,
     "metadata": {},
     "output_type": "execute_result"
    },
    {
     "data": {
      "image/png": "[encoded data removed]",
      "text/plain": [
       "<Figure size 432x288 with 1 Axes>"
      ]
     },
     "metadata": {
      "needs_background": "light"
     },
     "output_type": "display_data"
    }
   ],
   "source": [
    "df_pivot_diff.sort_values(\"stamp_2\", ascending = False)[\"stamp_2\"].head(10).plot.barh()"
   ]
  },
  {
   "cell_type": "code",
   "execution_count": null,
   "id": "extra-executive",
   "metadata": {
    "papermill": {
     "duration": 0.009797,
     "end_time": "2021-08-10T06:00:07.241638",
     "exception": false,
     "start_time": "2021-08-10T06:00:07.231841",
     "status": "completed"
    },
    "tags": []
   },
   "outputs": [],
   "source": []
  }
 ],
 "metadata": {
  "kernelspec": {
   "display_name": "Python 3",
   "language": "python",
   "name": "python3"
  },
  "language_info": {
   "codemirror_mode": {
    "name": "ipython",
    "version": 3
   },
   "file_extension": ".py",
   "mimetype": "text/x-python",
   "name": "python",
   "nbconvert_exporter": "python",
   "pygments_lexer": "ipython3",
   "version": "3.8.8"
  },
  "papermill": {
   "default_parameters": {},
   "duration": 5.929943,
   "end_time": "2021-08-10T06:00:08.859234",
   "environment_variables": {},
   "exception": null,
   "input_path": "/Users/saravananshanmugam/Carbonleakage_Git/UsedObjects/eBay_Overview.ipynb",
   "output_path": "/Users/saravananshanmugam/Carbonleakage_Git/UsedObjects/eBay_Overview.ipynb",
   "parameters": {},
   "start_time": "2021-08-10T06:00:02.929291",
   "version": "2.3.3"
  }
 },
 "nbformat": 4,
 "nbformat_minor": 5
}