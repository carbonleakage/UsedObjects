{
 "cells": [
  {
   "cell_type": "code",
   "execution_count": 1,
   "id": "reverse-picking",
   "metadata": {
    "execution": {
     "iopub.execute_input": "2021-12-10T13:00:07.264839Z",
     "iopub.status.busy": "2021-12-10T13:00:07.262752Z",
     "iopub.status.idle": "2021-12-10T13:00:08.214248Z",
     "shell.execute_reply": "2021-12-10T13:00:08.215859Z"
    },
    "papermill": {
     "duration": 0.997905,
     "end_time": "2021-12-10T13:00:08.216610",
     "exception": false,
     "start_time": "2021-12-10T13:00:07.218705",
     "status": "completed"
    },
    "tags": []
   },
   "outputs": [],
   "source": [
    "import pandas as pd\n",
    "import sqlite3"
   ]
  },
  {
   "cell_type": "code",
   "execution_count": 2,
   "id": "innovative-syndrome",
   "metadata": {
    "execution": {
     "iopub.execute_input": "2021-12-10T13:00:08.278880Z",
     "iopub.status.busy": "2021-12-10T13:00:08.276569Z",
     "iopub.status.idle": "2021-12-10T13:00:09.322940Z",
     "shell.execute_reply": "2021-12-10T13:00:09.324622Z"
    },
    "papermill": {
     "duration": 1.081125,
     "end_time": "2021-12-10T13:00:09.325241",
     "exception": false,
     "start_time": "2021-12-10T13:00:08.244116",
     "status": "completed"
    },
    "tags": []
   },
   "outputs": [],
   "source": [
    "timestamps = pd.read_sql(\"select distinct record_time from EBAY_TOP_BERLIN order by record_time desc limit 2\", sqlite3.connect(\"UsedObjects.db\"))"
   ]
  },
  {
   "cell_type": "code",
   "execution_count": 3,
   "id": "periodic-identification",
   "metadata": {
    "execution": {
     "iopub.execute_input": "2021-12-10T13:00:09.396241Z",
     "iopub.status.busy": "2021-12-10T13:00:09.393937Z",
     "iopub.status.idle": "2021-12-10T13:00:09.417167Z",
     "shell.execute_reply": "2021-12-10T13:00:09.418612Z"
    },
    "papermill": {
     "duration": 0.073002,
     "end_time": "2021-12-10T13:00:09.419106",
     "exception": false,
     "start_time": "2021-12-10T13:00:09.346104",
     "status": "completed"
    },
    "tags": []
   },
   "outputs": [
    {
     "data": {
      "text/html": [
       "<div>\n",
       "<style scoped>\n",
       "    .dataframe tbody tr th:only-of-type {\n",
       "        vertical-align: middle;\n",
       "    }\n",
       "\n",
       "    .dataframe tbody tr th {\n",
       "        vertical-align: top;\n",
       "    }\n",
       "\n",
       "    .dataframe thead th {\n",
       "        text-align: right;\n",
       "    }\n",
       "</style>\n",
       "<table border=\"1\" class=\"dataframe\">\n",
       "  <thead>\n",
       "    <tr style=\"text-align: right;\">\n",
       "      <th></th>\n",
       "      <th>RECORD_TIME</th>\n",
       "    </tr>\n",
       "  </thead>\n",
       "  <tbody>\n",
       "    <tr>\n",
       "      <th>0</th>\n",
       "      <td>2021-12-10 14:00</td>\n",
       "    </tr>\n",
       "    <tr>\n",
       "      <th>1</th>\n",
       "      <td>2021-12-10 13:30</td>\n",
       "    </tr>\n",
       "  </tbody>\n",
       "</table>\n",
       "</div>"
      ],
      "text/plain": [
       "        RECORD_TIME\n",
       "0  2021-12-10 14:00\n",
       "1  2021-12-10 13:30"
      ]
     },
     "execution_count": 3,
     "metadata": {},
     "output_type": "execute_result"
    }
   ],
   "source": [
    "timestamps"
   ]
  },
  {
   "cell_type": "code",
   "execution_count": 4,
   "id": "alternate-victory",
   "metadata": {
    "execution": {
     "iopub.execute_input": "2021-12-10T13:00:09.477060Z",
     "iopub.status.busy": "2021-12-10T13:00:09.474860Z",
     "iopub.status.idle": "2021-12-10T13:00:11.018818Z",
     "shell.execute_reply": "2021-12-10T13:00:11.020141Z"
    },
    "papermill": {
     "duration": 1.579278,
     "end_time": "2021-12-10T13:00:11.020616",
     "exception": false,
     "start_time": "2021-12-10T13:00:09.441338",
     "status": "completed"
    },
    "tags": []
   },
   "outputs": [],
   "source": [
    "df = pd.read_sql(\"select * from EBAY_TOP_BERLIN where record_time in (select distinct record_time from EBAY_TOP_BERLIN order by record_time desc limit 2)\", sqlite3.connect(\"UsedObjects.db\"))"
   ]
  },
  {
   "cell_type": "code",
   "execution_count": 5,
   "id": "popular-active",
   "metadata": {
    "execution": {
     "iopub.execute_input": "2021-12-10T13:00:11.093775Z",
     "iopub.status.busy": "2021-12-10T13:00:11.081523Z",
     "iopub.status.idle": "2021-12-10T13:00:11.113755Z",
     "shell.execute_reply": "2021-12-10T13:00:11.115699Z"
    },
    "papermill": {
     "duration": 0.075196,
     "end_time": "2021-12-10T13:00:11.116322",
     "exception": false,
     "start_time": "2021-12-10T13:00:11.041126",
     "status": "completed"
    },
    "tags": []
   },
   "outputs": [],
   "source": [
    "df_pivot = df.pivot_table(index=\"PRODUCT\", columns = \"RECORD_TIME\", values = \"LISTING_COUNT\")"
   ]
  },
  {
   "cell_type": "code",
   "execution_count": 6,
   "id": "union-huntington",
   "metadata": {
    "execution": {
     "iopub.execute_input": "2021-12-10T13:00:11.179961Z",
     "iopub.status.busy": "2021-12-10T13:00:11.177403Z",
     "iopub.status.idle": "2021-12-10T13:00:11.183639Z",
     "shell.execute_reply": "2021-12-10T13:00:11.185308Z"
    },
    "papermill": {
     "duration": 0.045916,
     "end_time": "2021-12-10T13:00:11.185869",
     "exception": false,
     "start_time": "2021-12-10T13:00:11.139953",
     "status": "completed"
    },
    "tags": []
   },
   "outputs": [],
   "source": [
    "df_pivot.columns = [\"stamp_1\", \"stamp_2\"]\n",
    "df_pivot_diff = df_pivot.diff(axis=1)"
   ]
  },
  {
   "cell_type": "code",
   "execution_count": 7,
   "id": "fifth-motion",
   "metadata": {
    "execution": {
     "iopub.execute_input": "2021-12-10T13:00:11.250804Z",
     "iopub.status.busy": "2021-12-10T13:00:11.248385Z",
     "iopub.status.idle": "2021-12-10T13:00:13.216392Z",
     "shell.execute_reply": "2021-12-10T13:00:13.218629Z"
    },
    "papermill": {
     "duration": 2.007144,
     "end_time": "2021-12-10T13:00:13.219376",
     "exception": false,
     "start_time": "2021-12-10T13:00:11.212232",
     "status": "completed"
    },
    "tags": []
   },
   "outputs": [
    {
     "data": {
      "text/plain": [
       "<AxesSubplot:ylabel='PRODUCT'>"
      ]
     },
     "execution_count": 7,
     "metadata": {},
     "output_type": "execute_result"
    },
    {
     "data": {
      "image/png": "[encoded data removed]",
      "text/plain": [
       "<Figure size 432x288 with 1 Axes>"
      ]
     },
     "metadata": {
      "needs_background": "light"
     },
     "output_type": "display_data"
    }
   ],
   "source": [
    "df_pivot_diff.sort_values(\"stamp_2\", ascending = False)[\"stamp_2\"].head(10).plot.barh()"
   ]
  },
  {
   "cell_type": "code",
   "execution_count": null,
   "id": "extra-executive",
   "metadata": {
    "papermill": {
     "duration": 0.035026,
     "end_time": "2021-12-10T13:00:13.298523",
     "exception": false,
     "start_time": "2021-12-10T13:00:13.263497",
     "status": "completed"
    },
    "tags": []
   },
   "outputs": [],
   "source": []
  }
 ],
 "metadata": {
  "kernelspec": {
   "display_name": "Python 3",
   "language": "python",
   "name": "python3"
  },
  "language_info": {
   "codemirror_mode": {
    "name": "ipython",
    "version": 3
   },
   "file_extension": ".py",
   "mimetype": "text/x-python",
   "name": "python",
   "nbconvert_exporter": "python",
   "pygments_lexer": "ipython3",
   "version": "3.9.5"
  },
  "papermill": {
   "default_parameters": {},
   "duration": 9.482001,
   "end_time": "2021-12-10T13:00:13.954172",
   "environment_variables": {},
   "exception": null,
   "input_path": "eBay_Overview.ipynb",
   "output_path": "eBay_Overview.ipynb",
   "parameters": {},
   "start_time": "2021-12-10T13:00:04.472171",
   "version": "2.3.3"
  }
 },
 "nbformat": 4,
 "nbformat_minor": 5
}