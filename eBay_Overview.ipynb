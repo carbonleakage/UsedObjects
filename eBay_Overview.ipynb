{
 "cells": [
  {
   "cell_type": "code",
   "execution_count": 1,
   "id": "reverse-picking",
   "metadata": {
    "execution": {
     "iopub.execute_input": "2021-09-27T00:00:07.469061Z",
     "iopub.status.busy": "2021-09-27T00:00:07.467093Z",
     "iopub.status.idle": "2021-09-27T00:00:08.272698Z",
     "shell.execute_reply": "2021-09-27T00:00:08.273959Z"
    },
    "papermill": {
     "duration": 0.857813,
     "end_time": "2021-09-27T00:00:08.274576",
     "exception": false,
     "start_time": "2021-09-27T00:00:07.416763",
     "status": "completed"
    },
    "tags": []
   },
   "outputs": [],
   "source": [
    "import pandas as pd\n",
    "import sqlite3"
   ]
  },
  {
   "cell_type": "code",
   "execution_count": 2,
   "id": "innovative-syndrome",
   "metadata": {
    "execution": {
     "iopub.execute_input": "2021-09-27T00:00:08.325524Z",
     "iopub.status.busy": "2021-09-27T00:00:08.323656Z",
     "iopub.status.idle": "2021-09-27T00:00:08.707351Z",
     "shell.execute_reply": "2021-09-27T00:00:08.708594Z"
    },
    "papermill": {
     "duration": 0.413337,
     "end_time": "2021-09-27T00:00:08.708985",
     "exception": false,
     "start_time": "2021-09-27T00:00:08.295648",
     "status": "completed"
    },
    "tags": []
   },
   "outputs": [],
   "source": [
    "timestamps = pd.read_sql(\"select distinct record_time from EBAY_TOP_BERLIN order by record_time desc limit 2\", sqlite3.connect(\"UsedObjects.db\"))"
   ]
  },
  {
   "cell_type": "code",
   "execution_count": 3,
   "id": "periodic-identification",
   "metadata": {
    "execution": {
     "iopub.execute_input": "2021-09-27T00:00:08.776214Z",
     "iopub.status.busy": "2021-09-27T00:00:08.771007Z",
     "iopub.status.idle": "2021-09-27T00:00:08.790748Z",
     "shell.execute_reply": "2021-09-27T00:00:08.792001Z"
    },
    "papermill": {
     "duration": 0.063953,
     "end_time": "2021-09-27T00:00:08.792411",
     "exception": false,
     "start_time": "2021-09-27T00:00:08.728458",
     "status": "completed"
    },
    "tags": []
   },
   "outputs": [
    {
     "data": {
      "text/html": [
       "<div>\n",
       "<style scoped>\n",
       "    .dataframe tbody tr th:only-of-type {\n",
       "        vertical-align: middle;\n",
       "    }\n",
       "\n",
       "    .dataframe tbody tr th {\n",
       "        vertical-align: top;\n",
       "    }\n",
       "\n",
       "    .dataframe thead th {\n",
       "        text-align: right;\n",
       "    }\n",
       "</style>\n",
       "<table border=\"1\" class=\"dataframe\">\n",
       "  <thead>\n",
       "    <tr style=\"text-align: right;\">\n",
       "      <th></th>\n",
       "      <th>RECORD_TIME</th>\n",
       "    </tr>\n",
       "  </thead>\n",
       "  <tbody>\n",
       "    <tr>\n",
       "      <th>0</th>\n",
       "      <td>2021-09-27 02:00</td>\n",
       "    </tr>\n",
       "    <tr>\n",
       "      <th>1</th>\n",
       "      <td>2021-09-27 01:30</td>\n",
       "    </tr>\n",
       "  </tbody>\n",
       "</table>\n",
       "</div>"
      ],
      "text/plain": [
       "        RECORD_TIME\n",
       "0  2021-09-27 02:00\n",
       "1  2021-09-27 01:30"
      ]
     },
     "execution_count": 3,
     "metadata": {},
     "output_type": "execute_result"
    }
   ],
   "source": [
    "timestamps"
   ]
  },
  {
   "cell_type": "code",
   "execution_count": 4,
   "id": "alternate-victory",
   "metadata": {
    "execution": {
     "iopub.execute_input": "2021-09-27T00:00:08.847074Z",
     "iopub.status.busy": "2021-09-27T00:00:08.844735Z",
     "iopub.status.idle": "2021-09-27T00:00:09.421456Z",
     "shell.execute_reply": "2021-09-27T00:00:09.422661Z"
    },
    "papermill": {
     "duration": 0.607505,
     "end_time": "2021-09-27T00:00:09.423167",
     "exception": false,
     "start_time": "2021-09-27T00:00:08.815662",
     "status": "completed"
    },
    "tags": []
   },
   "outputs": [],
   "source": [
    "df = pd.read_sql(\"select * from EBAY_TOP_BERLIN where record_time in (select distinct record_time from EBAY_TOP_BERLIN order by record_time desc limit 2)\", sqlite3.connect(\"UsedObjects.db\"))"
   ]
  },
  {
   "cell_type": "code",
   "execution_count": 5,
   "id": "popular-active",
   "metadata": {
    "execution": {
     "iopub.execute_input": "2021-09-27T00:00:09.509391Z",
     "iopub.status.busy": "2021-09-27T00:00:09.496396Z",
     "iopub.status.idle": "2021-09-27T00:00:09.525918Z",
     "shell.execute_reply": "2021-09-27T00:00:09.527277Z"
    },
    "papermill": {
     "duration": 0.075111,
     "end_time": "2021-09-27T00:00:09.527697",
     "exception": false,
     "start_time": "2021-09-27T00:00:09.452586",
     "status": "completed"
    },
    "tags": []
   },
   "outputs": [],
   "source": [
    "df_pivot = df.pivot_table(index=\"PRODUCT\", columns = \"RECORD_TIME\", values = \"LISTING_COUNT\")"
   ]
  },
  {
   "cell_type": "code",
   "execution_count": 6,
   "id": "union-huntington",
   "metadata": {
    "execution": {
     "iopub.execute_input": "2021-09-27T00:00:09.583622Z",
     "iopub.status.busy": "2021-09-27T00:00:09.581519Z",
     "iopub.status.idle": "2021-09-27T00:00:09.586896Z",
     "shell.execute_reply": "2021-09-27T00:00:09.588233Z"
    },
    "papermill": {
     "duration": 0.040848,
     "end_time": "2021-09-27T00:00:09.588645",
     "exception": false,
     "start_time": "2021-09-27T00:00:09.547797",
     "status": "completed"
    },
    "tags": []
   },
   "outputs": [],
   "source": [
    "df_pivot.columns = [\"stamp_1\", \"stamp_2\"]\n",
    "df_pivot_diff = df_pivot.diff(axis=1)"
   ]
  },
  {
   "cell_type": "code",
   "execution_count": 7,
   "id": "fifth-motion",
   "metadata": {
    "execution": {
     "iopub.execute_input": "2021-09-27T00:00:09.643541Z",
     "iopub.status.busy": "2021-09-27T00:00:09.640942Z",
     "iopub.status.idle": "2021-09-27T00:00:11.130310Z",
     "shell.execute_reply": "2021-09-27T00:00:11.131764Z"
    },
    "papermill": {
     "duration": 1.522355,
     "end_time": "2021-09-27T00:00:11.132212",
     "exception": false,
     "start_time": "2021-09-27T00:00:09.609857",
     "status": "completed"
    },
    "tags": []
   },
   "outputs": [
    {
     "data": {
      "text/plain": [
       "<AxesSubplot:ylabel='PRODUCT'>"
      ]
     },
     "execution_count": 7,
     "metadata": {},
     "output_type": "execute_result"
    },
    {
     "data": {
      "image/png": "[encoded data removed]",
      "text/plain": [
       "<Figure size 432x288 with 1 Axes>"
      ]
     },
     "metadata": {
      "needs_background": "light"
     },
     "output_type": "display_data"
    }
   ],
   "source": [
    "df_pivot_diff.sort_values(\"stamp_2\", ascending = False)[\"stamp_2\"].head(10).plot.barh()"
   ]
  },
  {
   "cell_type": "code",
   "execution_count": null,
   "id": "extra-executive",
   "metadata": {
    "papermill": {
     "duration": 0.022307,
     "end_time": "2021-09-27T00:00:11.180336",
     "exception": false,
     "start_time": "2021-09-27T00:00:11.158029",
     "status": "completed"
    },
    "tags": []
   },
   "outputs": [],
   "source": []
  }
 ],
 "metadata": {
  "kernelspec": {
   "display_name": "Python 3",
   "language": "python",
   "name": "python3"
  },
  "language_info": {
   "codemirror_mode": {
    "name": "ipython",
    "version": 3
   },
   "file_extension": ".py",
   "mimetype": "text/x-python",
   "name": "python",
   "nbconvert_exporter": "python",
   "pygments_lexer": "ipython3",
   "version": "3.9.5"
  },
  "papermill": {
   "default_parameters": {},
   "duration": 6.821414,
   "end_time": "2021-09-27T00:00:11.823209",
   "environment_variables": {},
   "exception": null,
   "input_path": "eBay_Overview.ipynb",
   "output_path": "eBay_Overview.ipynb",
   "parameters": {},
   "start_time": "2021-09-27T00:00:05.001795",
   "version": "2.3.3"
  }
 },
 "nbformat": 4,
 "nbformat_minor": 5
}