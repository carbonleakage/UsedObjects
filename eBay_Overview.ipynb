{
 "cells": [
  {
   "cell_type": "code",
   "execution_count": 1,
   "id": "reverse-picking",
   "metadata": {
    "execution": {
     "iopub.execute_input": "2021-09-21T00:00:06.841224Z",
     "iopub.status.busy": "2021-09-21T00:00:06.839175Z",
     "iopub.status.idle": "2021-09-21T00:00:07.643749Z",
     "shell.execute_reply": "2021-09-21T00:00:07.645010Z"
    },
    "papermill": {
     "duration": 0.854991,
     "end_time": "2021-09-21T00:00:07.645603",
     "exception": false,
     "start_time": "2021-09-21T00:00:06.790612",
     "status": "completed"
    },
    "tags": []
   },
   "outputs": [],
   "source": [
    "import pandas as pd\n",
    "import sqlite3"
   ]
  },
  {
   "cell_type": "code",
   "execution_count": 2,
   "id": "innovative-syndrome",
   "metadata": {
    "execution": {
     "iopub.execute_input": "2021-09-21T00:00:07.696997Z",
     "iopub.status.busy": "2021-09-21T00:00:07.694730Z",
     "iopub.status.idle": "2021-09-21T00:00:08.040686Z",
     "shell.execute_reply": "2021-09-21T00:00:08.041880Z"
    },
    "papermill": {
     "duration": 0.375122,
     "end_time": "2021-09-21T00:00:08.042272",
     "exception": false,
     "start_time": "2021-09-21T00:00:07.667150",
     "status": "completed"
    },
    "tags": []
   },
   "outputs": [],
   "source": [
    "timestamps = pd.read_sql(\"select distinct record_time from EBAY_TOP_BERLIN order by record_time desc limit 2\", sqlite3.connect(\"UsedObjects.db\"))"
   ]
  },
  {
   "cell_type": "code",
   "execution_count": 3,
   "id": "periodic-identification",
   "metadata": {
    "execution": {
     "iopub.execute_input": "2021-09-21T00:00:08.106262Z",
     "iopub.status.busy": "2021-09-21T00:00:08.104263Z",
     "iopub.status.idle": "2021-09-21T00:00:08.123946Z",
     "shell.execute_reply": "2021-09-21T00:00:08.125213Z"
    },
    "papermill": {
     "duration": 0.06415,
     "end_time": "2021-09-21T00:00:08.125611",
     "exception": false,
     "start_time": "2021-09-21T00:00:08.061461",
     "status": "completed"
    },
    "tags": []
   },
   "outputs": [
    {
     "data": {
      "text/html": [
       "<div>\n",
       "<style scoped>\n",
       "    .dataframe tbody tr th:only-of-type {\n",
       "        vertical-align: middle;\n",
       "    }\n",
       "\n",
       "    .dataframe tbody tr th {\n",
       "        vertical-align: top;\n",
       "    }\n",
       "\n",
       "    .dataframe thead th {\n",
       "        text-align: right;\n",
       "    }\n",
       "</style>\n",
       "<table border=\"1\" class=\"dataframe\">\n",
       "  <thead>\n",
       "    <tr style=\"text-align: right;\">\n",
       "      <th></th>\n",
       "      <th>RECORD_TIME</th>\n",
       "    </tr>\n",
       "  </thead>\n",
       "  <tbody>\n",
       "    <tr>\n",
       "      <th>0</th>\n",
       "      <td>2021-09-21 02:00</td>\n",
       "    </tr>\n",
       "    <tr>\n",
       "      <th>1</th>\n",
       "      <td>2021-09-21 01:30</td>\n",
       "    </tr>\n",
       "  </tbody>\n",
       "</table>\n",
       "</div>"
      ],
      "text/plain": [
       "        RECORD_TIME\n",
       "0  2021-09-21 02:00\n",
       "1  2021-09-21 01:30"
      ]
     },
     "execution_count": 3,
     "metadata": {},
     "output_type": "execute_result"
    }
   ],
   "source": [
    "timestamps"
   ]
  },
  {
   "cell_type": "code",
   "execution_count": 4,
   "id": "alternate-victory",
   "metadata": {
    "execution": {
     "iopub.execute_input": "2021-09-21T00:00:08.178397Z",
     "iopub.status.busy": "2021-09-21T00:00:08.176137Z",
     "iopub.status.idle": "2021-09-21T00:00:08.679655Z",
     "shell.execute_reply": "2021-09-21T00:00:08.680989Z"
    },
    "papermill": {
     "duration": 0.534079,
     "end_time": "2021-09-21T00:00:08.681443",
     "exception": false,
     "start_time": "2021-09-21T00:00:08.147364",
     "status": "completed"
    },
    "tags": []
   },
   "outputs": [],
   "source": [
    "df = pd.read_sql(\"select * from EBAY_TOP_BERLIN where record_time in (select distinct record_time from EBAY_TOP_BERLIN order by record_time desc limit 2)\", sqlite3.connect(\"UsedObjects.db\"))"
   ]
  },
  {
   "cell_type": "code",
   "execution_count": 5,
   "id": "popular-active",
   "metadata": {
    "execution": {
     "iopub.execute_input": "2021-09-21T00:00:08.763859Z",
     "iopub.status.busy": "2021-09-21T00:00:08.752738Z",
     "iopub.status.idle": "2021-09-21T00:00:08.780541Z",
     "shell.execute_reply": "2021-09-21T00:00:08.781997Z"
    },
    "papermill": {
     "duration": 0.072525,
     "end_time": "2021-09-21T00:00:08.782463",
     "exception": false,
     "start_time": "2021-09-21T00:00:08.709938",
     "status": "completed"
    },
    "tags": []
   },
   "outputs": [],
   "source": [
    "df_pivot = df.pivot_table(index=\"PRODUCT\", columns = \"RECORD_TIME\", values = \"LISTING_COUNT\")"
   ]
  },
  {
   "cell_type": "code",
   "execution_count": 6,
   "id": "union-huntington",
   "metadata": {
    "execution": {
     "iopub.execute_input": "2021-09-21T00:00:08.841821Z",
     "iopub.status.busy": "2021-09-21T00:00:08.839395Z",
     "iopub.status.idle": "2021-09-21T00:00:08.845289Z",
     "shell.execute_reply": "2021-09-21T00:00:08.846474Z"
    },
    "papermill": {
     "duration": 0.042153,
     "end_time": "2021-09-21T00:00:08.846942",
     "exception": false,
     "start_time": "2021-09-21T00:00:08.804789",
     "status": "completed"
    },
    "tags": []
   },
   "outputs": [],
   "source": [
    "df_pivot.columns = [\"stamp_1\", \"stamp_2\"]\n",
    "df_pivot_diff = df_pivot.diff(axis=1)"
   ]
  },
  {
   "cell_type": "code",
   "execution_count": 7,
   "id": "fifth-motion",
   "metadata": {
    "execution": {
     "iopub.execute_input": "2021-09-21T00:00:08.900976Z",
     "iopub.status.busy": "2021-09-21T00:00:08.898622Z",
     "iopub.status.idle": "2021-09-21T00:00:10.368428Z",
     "shell.execute_reply": "2021-09-21T00:00:10.369699Z"
    },
    "papermill": {
     "duration": 1.502647,
     "end_time": "2021-09-21T00:00:10.370113",
     "exception": false,
     "start_time": "2021-09-21T00:00:08.867466",
     "status": "completed"
    },
    "tags": []
   },
   "outputs": [
    {
     "data": {
      "text/plain": [
       "<AxesSubplot:ylabel='PRODUCT'>"
      ]
     },
     "execution_count": 7,
     "metadata": {},
     "output_type": "execute_result"
    },
    {
     "data": {
      "image/png": "[encoded data removed]",
      "text/plain": [
       "<Figure size 432x288 with 1 Axes>"
      ]
     },
     "metadata": {
      "needs_background": "light"
     },
     "output_type": "display_data"
    }
   ],
   "source": [
    "df_pivot_diff.sort_values(\"stamp_2\", ascending = False)[\"stamp_2\"].head(10).plot.barh()"
   ]
  },
  {
   "cell_type": "code",
   "execution_count": null,
   "id": "extra-executive",
   "metadata": {
    "papermill": {
     "duration": 0.021975,
     "end_time": "2021-09-21T00:00:10.416273",
     "exception": false,
     "start_time": "2021-09-21T00:00:10.394298",
     "status": "completed"
    },
    "tags": []
   },
   "outputs": [],
   "source": []
  }
 ],
 "metadata": {
  "kernelspec": {
   "display_name": "Python 3",
   "language": "python",
   "name": "python3"
  },
  "language_info": {
   "codemirror_mode": {
    "name": "ipython",
    "version": 3
   },
   "file_extension": ".py",
   "mimetype": "text/x-python",
   "name": "python",
   "nbconvert_exporter": "python",
   "pygments_lexer": "ipython3",
   "version": "3.9.5"
  },
  "papermill": {
   "default_parameters": {},
   "duration": 6.673452,
   "end_time": "2021-09-21T00:00:11.059568",
   "environment_variables": {},
   "exception": null,
   "input_path": "eBay_Overview.ipynb",
   "output_path": "eBay_Overview.ipynb",
   "parameters": {},
   "start_time": "2021-09-21T00:00:04.386116",
   "version": "2.3.3"
  }
 },
 "nbformat": 4,
 "nbformat_minor": 5
}