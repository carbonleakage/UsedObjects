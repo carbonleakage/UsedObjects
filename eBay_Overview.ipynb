{
 "cells": [
  {
   "cell_type": "code",
   "execution_count": 1,
   "id": "reverse-picking",
   "metadata": {
    "execution": {
     "iopub.execute_input": "2021-09-15T06:00:06.835079Z",
     "iopub.status.busy": "2021-09-15T06:00:06.833061Z",
     "iopub.status.idle": "2021-09-15T06:00:07.640041Z",
     "shell.execute_reply": "2021-09-15T06:00:07.641371Z"
    },
    "papermill": {
     "duration": 0.859648,
     "end_time": "2021-09-15T06:00:07.641985",
     "exception": false,
     "start_time": "2021-09-15T06:00:06.782337",
     "status": "completed"
    },
    "tags": []
   },
   "outputs": [],
   "source": [
    "import pandas as pd\n",
    "import sqlite3"
   ]
  },
  {
   "cell_type": "code",
   "execution_count": 2,
   "id": "innovative-syndrome",
   "metadata": {
    "execution": {
     "iopub.execute_input": "2021-09-15T06:00:07.692410Z",
     "iopub.status.busy": "2021-09-15T06:00:07.690371Z",
     "iopub.status.idle": "2021-09-15T06:00:07.981975Z",
     "shell.execute_reply": "2021-09-15T06:00:07.983406Z"
    },
    "papermill": {
     "duration": 0.321571,
     "end_time": "2021-09-15T06:00:07.983875",
     "exception": false,
     "start_time": "2021-09-15T06:00:07.662304",
     "status": "completed"
    },
    "tags": []
   },
   "outputs": [],
   "source": [
    "timestamps = pd.read_sql(\"select distinct record_time from EBAY_TOP_BERLIN order by record_time desc limit 2\", sqlite3.connect(\"UsedObjects.db\"))"
   ]
  },
  {
   "cell_type": "code",
   "execution_count": 3,
   "id": "periodic-identification",
   "metadata": {
    "execution": {
     "iopub.execute_input": "2021-09-15T06:00:08.049390Z",
     "iopub.status.busy": "2021-09-15T06:00:08.047368Z",
     "iopub.status.idle": "2021-09-15T06:00:08.066795Z",
     "shell.execute_reply": "2021-09-15T06:00:08.068218Z"
    },
    "papermill": {
     "duration": 0.065027,
     "end_time": "2021-09-15T06:00:08.068646",
     "exception": false,
     "start_time": "2021-09-15T06:00:08.003619",
     "status": "completed"
    },
    "tags": []
   },
   "outputs": [
    {
     "data": {
      "text/html": [
       "<div>\n",
       "<style scoped>\n",
       "    .dataframe tbody tr th:only-of-type {\n",
       "        vertical-align: middle;\n",
       "    }\n",
       "\n",
       "    .dataframe tbody tr th {\n",
       "        vertical-align: top;\n",
       "    }\n",
       "\n",
       "    .dataframe thead th {\n",
       "        text-align: right;\n",
       "    }\n",
       "</style>\n",
       "<table border=\"1\" class=\"dataframe\">\n",
       "  <thead>\n",
       "    <tr style=\"text-align: right;\">\n",
       "      <th></th>\n",
       "      <th>RECORD_TIME</th>\n",
       "    </tr>\n",
       "  </thead>\n",
       "  <tbody>\n",
       "    <tr>\n",
       "      <th>0</th>\n",
       "      <td>2021-09-15 08:00</td>\n",
       "    </tr>\n",
       "    <tr>\n",
       "      <th>1</th>\n",
       "      <td>2021-09-15 07:30</td>\n",
       "    </tr>\n",
       "  </tbody>\n",
       "</table>\n",
       "</div>"
      ],
      "text/plain": [
       "        RECORD_TIME\n",
       "0  2021-09-15 08:00\n",
       "1  2021-09-15 07:30"
      ]
     },
     "execution_count": 3,
     "metadata": {},
     "output_type": "execute_result"
    }
   ],
   "source": [
    "timestamps"
   ]
  },
  {
   "cell_type": "code",
   "execution_count": 4,
   "id": "alternate-victory",
   "metadata": {
    "execution": {
     "iopub.execute_input": "2021-09-15T06:00:08.121074Z",
     "iopub.status.busy": "2021-09-15T06:00:08.118847Z",
     "iopub.status.idle": "2021-09-15T06:00:08.559645Z",
     "shell.execute_reply": "2021-09-15T06:00:08.560946Z"
    },
    "papermill": {
     "duration": 0.470859,
     "end_time": "2021-09-15T06:00:08.561350",
     "exception": false,
     "start_time": "2021-09-15T06:00:08.090491",
     "status": "completed"
    },
    "tags": []
   },
   "outputs": [],
   "source": [
    "df = pd.read_sql(\"select * from EBAY_TOP_BERLIN where record_time in (select distinct record_time from EBAY_TOP_BERLIN order by record_time desc limit 2)\", sqlite3.connect(\"UsedObjects.db\"))"
   ]
  },
  {
   "cell_type": "code",
   "execution_count": 5,
   "id": "popular-active",
   "metadata": {
    "execution": {
     "iopub.execute_input": "2021-09-15T06:00:08.640968Z",
     "iopub.status.busy": "2021-09-15T06:00:08.629518Z",
     "iopub.status.idle": "2021-09-15T06:00:08.657224Z",
     "shell.execute_reply": "2021-09-15T06:00:08.658531Z"
    },
    "papermill": {
     "duration": 0.071628,
     "end_time": "2021-09-15T06:00:08.659010",
     "exception": false,
     "start_time": "2021-09-15T06:00:08.587382",
     "status": "completed"
    },
    "tags": []
   },
   "outputs": [],
   "source": [
    "df_pivot = df.pivot_table(index=\"PRODUCT\", columns = \"RECORD_TIME\", values = \"LISTING_COUNT\")"
   ]
  },
  {
   "cell_type": "code",
   "execution_count": 6,
   "id": "union-huntington",
   "metadata": {
    "execution": {
     "iopub.execute_input": "2021-09-15T06:00:08.715237Z",
     "iopub.status.busy": "2021-09-15T06:00:08.713131Z",
     "iopub.status.idle": "2021-09-15T06:00:08.718532Z",
     "shell.execute_reply": "2021-09-15T06:00:08.719896Z"
    },
    "papermill": {
     "duration": 0.041063,
     "end_time": "2021-09-15T06:00:08.720322",
     "exception": false,
     "start_time": "2021-09-15T06:00:08.679259",
     "status": "completed"
    },
    "tags": []
   },
   "outputs": [],
   "source": [
    "df_pivot.columns = [\"stamp_1\", \"stamp_2\"]\n",
    "df_pivot_diff = df_pivot.diff(axis=1)"
   ]
  },
  {
   "cell_type": "code",
   "execution_count": 7,
   "id": "fifth-motion",
   "metadata": {
    "execution": {
     "iopub.execute_input": "2021-09-15T06:00:08.775751Z",
     "iopub.status.busy": "2021-09-15T06:00:08.773165Z",
     "iopub.status.idle": "2021-09-15T06:00:10.285471Z",
     "shell.execute_reply": "2021-09-15T06:00:10.286784Z"
    },
    "papermill": {
     "duration": 1.545506,
     "end_time": "2021-09-15T06:00:10.287266",
     "exception": false,
     "start_time": "2021-09-15T06:00:08.741760",
     "status": "completed"
    },
    "tags": []
   },
   "outputs": [
    {
     "data": {
      "text/plain": [
       "<AxesSubplot:ylabel='PRODUCT'>"
      ]
     },
     "execution_count": 7,
     "metadata": {},
     "output_type": "execute_result"
    },
    {
     "data": {
      "image/png": "[encoded data removed]",
      "text/plain": [
       "<Figure size 432x288 with 1 Axes>"
      ]
     },
     "metadata": {
      "needs_background": "light"
     },
     "output_type": "display_data"
    }
   ],
   "source": [
    "df_pivot_diff.sort_values(\"stamp_2\", ascending = False)[\"stamp_2\"].head(10).plot.barh()"
   ]
  },
  {
   "cell_type": "code",
   "execution_count": null,
   "id": "extra-executive",
   "metadata": {
    "papermill": {
     "duration": 0.022294,
     "end_time": "2021-09-15T06:00:10.334441",
     "exception": false,
     "start_time": "2021-09-15T06:00:10.312147",
     "status": "completed"
    },
    "tags": []
   },
   "outputs": [],
   "source": []
  }
 ],
 "metadata": {
  "kernelspec": {
   "display_name": "Python 3",
   "language": "python",
   "name": "python3"
  },
  "language_info": {
   "codemirror_mode": {
    "name": "ipython",
    "version": 3
   },
   "file_extension": ".py",
   "mimetype": "text/x-python",
   "name": "python",
   "nbconvert_exporter": "python",
   "pygments_lexer": "ipython3",
   "version": "3.9.5"
  },
  "papermill": {
   "default_parameters": {},
   "duration": 6.613533,
   "end_time": "2021-09-15T06:00:10.978083",
   "environment_variables": {},
   "exception": null,
   "input_path": "eBay_Overview.ipynb",
   "output_path": "eBay_Overview.ipynb",
   "parameters": {},
   "start_time": "2021-09-15T06:00:04.364550",
   "version": "2.3.3"
  }
 },
 "nbformat": 4,
 "nbformat_minor": 5
}