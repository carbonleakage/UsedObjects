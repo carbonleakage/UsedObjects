{
 "cells": [
  {
   "cell_type": "code",
   "execution_count": 1,
   "id": "reverse-picking",
   "metadata": {
    "execution": {
     "iopub.execute_input": "2021-09-11T16:00:07.169113Z",
     "iopub.status.busy": "2021-09-11T16:00:07.167161Z",
     "iopub.status.idle": "2021-09-11T16:00:07.978500Z",
     "shell.execute_reply": "2021-09-11T16:00:07.976938Z"
    },
    "papermill": {
     "duration": 0.86196,
     "end_time": "2021-09-11T16:00:07.979096",
     "exception": false,
     "start_time": "2021-09-11T16:00:07.117136",
     "status": "completed"
    },
    "tags": []
   },
   "outputs": [],
   "source": [
    "import pandas as pd\n",
    "import sqlite3"
   ]
  },
  {
   "cell_type": "code",
   "execution_count": 2,
   "id": "innovative-syndrome",
   "metadata": {
    "execution": {
     "iopub.execute_input": "2021-09-11T16:00:08.032252Z",
     "iopub.status.busy": "2021-09-11T16:00:08.029868Z",
     "iopub.status.idle": "2021-09-11T16:00:08.294422Z",
     "shell.execute_reply": "2021-09-11T16:00:08.295760Z"
    },
    "papermill": {
     "duration": 0.294749,
     "end_time": "2021-09-11T16:00:08.296186",
     "exception": false,
     "start_time": "2021-09-11T16:00:08.001437",
     "status": "completed"
    },
    "tags": []
   },
   "outputs": [],
   "source": [
    "timestamps = pd.read_sql(\"select distinct record_time from EBAY_TOP_BERLIN order by record_time desc limit 2\", sqlite3.connect(\"UsedObjects.db\"))"
   ]
  },
  {
   "cell_type": "code",
   "execution_count": 3,
   "id": "periodic-identification",
   "metadata": {
    "execution": {
     "iopub.execute_input": "2021-09-11T16:00:08.364640Z",
     "iopub.status.busy": "2021-09-11T16:00:08.359269Z",
     "iopub.status.idle": "2021-09-11T16:00:08.380699Z",
     "shell.execute_reply": "2021-09-11T16:00:08.382149Z"
    },
    "papermill": {
     "duration": 0.066941,
     "end_time": "2021-09-11T16:00:08.382607",
     "exception": false,
     "start_time": "2021-09-11T16:00:08.315666",
     "status": "completed"
    },
    "tags": []
   },
   "outputs": [
    {
     "data": {
      "text/html": [
       "<div>\n",
       "<style scoped>\n",
       "    .dataframe tbody tr th:only-of-type {\n",
       "        vertical-align: middle;\n",
       "    }\n",
       "\n",
       "    .dataframe tbody tr th {\n",
       "        vertical-align: top;\n",
       "    }\n",
       "\n",
       "    .dataframe thead th {\n",
       "        text-align: right;\n",
       "    }\n",
       "</style>\n",
       "<table border=\"1\" class=\"dataframe\">\n",
       "  <thead>\n",
       "    <tr style=\"text-align: right;\">\n",
       "      <th></th>\n",
       "      <th>RECORD_TIME</th>\n",
       "    </tr>\n",
       "  </thead>\n",
       "  <tbody>\n",
       "    <tr>\n",
       "      <th>0</th>\n",
       "      <td>2021-09-11 18:00</td>\n",
       "    </tr>\n",
       "    <tr>\n",
       "      <th>1</th>\n",
       "      <td>2021-09-11 17:30</td>\n",
       "    </tr>\n",
       "  </tbody>\n",
       "</table>\n",
       "</div>"
      ],
      "text/plain": [
       "        RECORD_TIME\n",
       "0  2021-09-11 18:00\n",
       "1  2021-09-11 17:30"
      ]
     },
     "execution_count": 3,
     "metadata": {},
     "output_type": "execute_result"
    }
   ],
   "source": [
    "timestamps"
   ]
  },
  {
   "cell_type": "code",
   "execution_count": 4,
   "id": "alternate-victory",
   "metadata": {
    "execution": {
     "iopub.execute_input": "2021-09-11T16:00:08.434837Z",
     "iopub.status.busy": "2021-09-11T16:00:08.432570Z",
     "iopub.status.idle": "2021-09-11T16:00:08.831877Z",
     "shell.execute_reply": "2021-09-11T16:00:08.833160Z"
    },
    "papermill": {
     "duration": 0.429819,
     "end_time": "2021-09-11T16:00:08.833556",
     "exception": false,
     "start_time": "2021-09-11T16:00:08.403737",
     "status": "completed"
    },
    "tags": []
   },
   "outputs": [],
   "source": [
    "df = pd.read_sql(\"select * from EBAY_TOP_BERLIN where record_time in (select distinct record_time from EBAY_TOP_BERLIN order by record_time desc limit 2)\", sqlite3.connect(\"UsedObjects.db\"))"
   ]
  },
  {
   "cell_type": "code",
   "execution_count": 5,
   "id": "popular-active",
   "metadata": {
    "execution": {
     "iopub.execute_input": "2021-09-11T16:00:08.902708Z",
     "iopub.status.busy": "2021-09-11T16:00:08.890494Z",
     "iopub.status.idle": "2021-09-11T16:00:08.918166Z",
     "shell.execute_reply": "2021-09-11T16:00:08.919636Z"
    },
    "papermill": {
     "duration": 0.066431,
     "end_time": "2021-09-11T16:00:08.920052",
     "exception": false,
     "start_time": "2021-09-11T16:00:08.853621",
     "status": "completed"
    },
    "tags": []
   },
   "outputs": [],
   "source": [
    "df_pivot = df.pivot_table(index=\"PRODUCT\", columns = \"RECORD_TIME\", values = \"LISTING_COUNT\")"
   ]
  },
  {
   "cell_type": "code",
   "execution_count": 6,
   "id": "union-huntington",
   "metadata": {
    "execution": {
     "iopub.execute_input": "2021-09-11T16:00:08.978092Z",
     "iopub.status.busy": "2021-09-11T16:00:08.975655Z",
     "iopub.status.idle": "2021-09-11T16:00:08.981629Z",
     "shell.execute_reply": "2021-09-11T16:00:08.982957Z"
    },
    "papermill": {
     "duration": 0.04215,
     "end_time": "2021-09-11T16:00:08.983414",
     "exception": false,
     "start_time": "2021-09-11T16:00:08.941264",
     "status": "completed"
    },
    "tags": []
   },
   "outputs": [],
   "source": [
    "df_pivot.columns = [\"stamp_1\", \"stamp_2\"]\n",
    "df_pivot_diff = df_pivot.diff(axis=1)"
   ]
  },
  {
   "cell_type": "code",
   "execution_count": 7,
   "id": "fifth-motion",
   "metadata": {
    "execution": {
     "iopub.execute_input": "2021-09-11T16:00:09.038319Z",
     "iopub.status.busy": "2021-09-11T16:00:09.036026Z",
     "iopub.status.idle": "2021-09-11T16:00:10.543908Z",
     "shell.execute_reply": "2021-09-11T16:00:10.545198Z"
    },
    "papermill": {
     "duration": 1.540953,
     "end_time": "2021-09-11T16:00:10.545611",
     "exception": false,
     "start_time": "2021-09-11T16:00:09.004658",
     "status": "completed"
    },
    "tags": []
   },
   "outputs": [
    {
     "data": {
      "text/plain": [
       "<AxesSubplot:ylabel='PRODUCT'>"
      ]
     },
     "execution_count": 7,
     "metadata": {},
     "output_type": "execute_result"
    },
    {
     "data": {
      "image/png": "[encoded data removed]",
      "text/plain": [
       "<Figure size 432x288 with 1 Axes>"
      ]
     },
     "metadata": {
      "needs_background": "light"
     },
     "output_type": "display_data"
    }
   ],
   "source": [
    "df_pivot_diff.sort_values(\"stamp_2\", ascending = False)[\"stamp_2\"].head(10).plot.barh()"
   ]
  },
  {
   "cell_type": "code",
   "execution_count": null,
   "id": "extra-executive",
   "metadata": {
    "papermill": {
     "duration": 0.022051,
     "end_time": "2021-09-11T16:00:10.591089",
     "exception": false,
     "start_time": "2021-09-11T16:00:10.569038",
     "status": "completed"
    },
    "tags": []
   },
   "outputs": [],
   "source": []
  }
 ],
 "metadata": {
  "kernelspec": {
   "display_name": "Python 3",
   "language": "python",
   "name": "python3"
  },
  "language_info": {
   "codemirror_mode": {
    "name": "ipython",
    "version": 3
   },
   "file_extension": ".py",
   "mimetype": "text/x-python",
   "name": "python",
   "nbconvert_exporter": "python",
   "pygments_lexer": "ipython3",
   "version": "3.9.5"
  },
  "papermill": {
   "default_parameters": {},
   "duration": 6.535948,
   "end_time": "2021-09-11T16:00:11.231689",
   "environment_variables": {},
   "exception": null,
   "input_path": "eBay_Overview.ipynb",
   "output_path": "eBay_Overview.ipynb",
   "parameters": {},
   "start_time": "2021-09-11T16:00:04.695741",
   "version": "2.3.3"
  }
 },
 "nbformat": 4,
 "nbformat_minor": 5
}