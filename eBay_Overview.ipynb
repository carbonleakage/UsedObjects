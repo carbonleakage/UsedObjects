{
 "cells": [
  {
   "cell_type": "code",
   "execution_count": 1,
   "id": "reverse-picking",
   "metadata": {
    "execution": {
     "iopub.execute_input": "2021-09-21T23:30:07.457040Z",
     "iopub.status.busy": "2021-09-21T23:30:07.455115Z",
     "iopub.status.idle": "2021-09-21T23:30:08.260077Z",
     "shell.execute_reply": "2021-09-21T23:30:08.261327Z"
    },
    "papermill": {
     "duration": 0.856442,
     "end_time": "2021-09-21T23:30:08.261943",
     "exception": false,
     "start_time": "2021-09-21T23:30:07.405501",
     "status": "completed"
    },
    "tags": []
   },
   "outputs": [],
   "source": [
    "import pandas as pd\n",
    "import sqlite3"
   ]
  },
  {
   "cell_type": "code",
   "execution_count": 2,
   "id": "innovative-syndrome",
   "metadata": {
    "execution": {
     "iopub.execute_input": "2021-09-21T23:30:08.312130Z",
     "iopub.status.busy": "2021-09-21T23:30:08.310152Z",
     "iopub.status.idle": "2021-09-21T23:30:08.649481Z",
     "shell.execute_reply": "2021-09-21T23:30:08.650905Z"
    },
    "papermill": {
     "duration": 0.368773,
     "end_time": "2021-09-21T23:30:08.651351",
     "exception": false,
     "start_time": "2021-09-21T23:30:08.282578",
     "status": "completed"
    },
    "tags": []
   },
   "outputs": [],
   "source": [
    "timestamps = pd.read_sql(\"select distinct record_time from EBAY_TOP_BERLIN order by record_time desc limit 2\", sqlite3.connect(\"UsedObjects.db\"))"
   ]
  },
  {
   "cell_type": "code",
   "execution_count": 3,
   "id": "periodic-identification",
   "metadata": {
    "execution": {
     "iopub.execute_input": "2021-09-21T23:30:08.720750Z",
     "iopub.status.busy": "2021-09-21T23:30:08.715408Z",
     "iopub.status.idle": "2021-09-21T23:30:08.736075Z",
     "shell.execute_reply": "2021-09-21T23:30:08.737426Z"
    },
    "papermill": {
     "duration": 0.066914,
     "end_time": "2021-09-21T23:30:08.737834",
     "exception": false,
     "start_time": "2021-09-21T23:30:08.670920",
     "status": "completed"
    },
    "tags": []
   },
   "outputs": [
    {
     "data": {
      "text/html": [
       "<div>\n",
       "<style scoped>\n",
       "    .dataframe tbody tr th:only-of-type {\n",
       "        vertical-align: middle;\n",
       "    }\n",
       "\n",
       "    .dataframe tbody tr th {\n",
       "        vertical-align: top;\n",
       "    }\n",
       "\n",
       "    .dataframe thead th {\n",
       "        text-align: right;\n",
       "    }\n",
       "</style>\n",
       "<table border=\"1\" class=\"dataframe\">\n",
       "  <thead>\n",
       "    <tr style=\"text-align: right;\">\n",
       "      <th></th>\n",
       "      <th>RECORD_TIME</th>\n",
       "    </tr>\n",
       "  </thead>\n",
       "  <tbody>\n",
       "    <tr>\n",
       "      <th>0</th>\n",
       "      <td>2021-09-22 01:30</td>\n",
       "    </tr>\n",
       "    <tr>\n",
       "      <th>1</th>\n",
       "      <td>2021-09-22 01:00</td>\n",
       "    </tr>\n",
       "  </tbody>\n",
       "</table>\n",
       "</div>"
      ],
      "text/plain": [
       "        RECORD_TIME\n",
       "0  2021-09-22 01:30\n",
       "1  2021-09-22 01:00"
      ]
     },
     "execution_count": 3,
     "metadata": {},
     "output_type": "execute_result"
    }
   ],
   "source": [
    "timestamps"
   ]
  },
  {
   "cell_type": "code",
   "execution_count": 4,
   "id": "alternate-victory",
   "metadata": {
    "execution": {
     "iopub.execute_input": "2021-09-21T23:30:08.789223Z",
     "iopub.status.busy": "2021-09-21T23:30:08.787054Z",
     "iopub.status.idle": "2021-09-21T23:30:09.315634Z",
     "shell.execute_reply": "2021-09-21T23:30:09.317033Z"
    },
    "papermill": {
     "duration": 0.558625,
     "end_time": "2021-09-21T23:30:09.317468",
     "exception": false,
     "start_time": "2021-09-21T23:30:08.758843",
     "status": "completed"
    },
    "tags": []
   },
   "outputs": [],
   "source": [
    "df = pd.read_sql(\"select * from EBAY_TOP_BERLIN where record_time in (select distinct record_time from EBAY_TOP_BERLIN order by record_time desc limit 2)\", sqlite3.connect(\"UsedObjects.db\"))"
   ]
  },
  {
   "cell_type": "code",
   "execution_count": 5,
   "id": "popular-active",
   "metadata": {
    "execution": {
     "iopub.execute_input": "2021-09-21T23:30:09.405808Z",
     "iopub.status.busy": "2021-09-21T23:30:09.393344Z",
     "iopub.status.idle": "2021-09-21T23:30:09.421571Z",
     "shell.execute_reply": "2021-09-21T23:30:09.422844Z"
    },
    "papermill": {
     "duration": 0.074358,
     "end_time": "2021-09-21T23:30:09.423252",
     "exception": false,
     "start_time": "2021-09-21T23:30:09.348894",
     "status": "completed"
    },
    "tags": []
   },
   "outputs": [],
   "source": [
    "df_pivot = df.pivot_table(index=\"PRODUCT\", columns = \"RECORD_TIME\", values = \"LISTING_COUNT\")"
   ]
  },
  {
   "cell_type": "code",
   "execution_count": 6,
   "id": "union-huntington",
   "metadata": {
    "execution": {
     "iopub.execute_input": "2021-09-21T23:30:09.479382Z",
     "iopub.status.busy": "2021-09-21T23:30:09.477188Z",
     "iopub.status.idle": "2021-09-21T23:30:09.482753Z",
     "shell.execute_reply": "2021-09-21T23:30:09.484393Z"
    },
    "papermill": {
     "duration": 0.04117,
     "end_time": "2021-09-21T23:30:09.484970",
     "exception": false,
     "start_time": "2021-09-21T23:30:09.443800",
     "status": "completed"
    },
    "tags": []
   },
   "outputs": [],
   "source": [
    "df_pivot.columns = [\"stamp_1\", \"stamp_2\"]\n",
    "df_pivot_diff = df_pivot.diff(axis=1)"
   ]
  },
  {
   "cell_type": "code",
   "execution_count": 7,
   "id": "fifth-motion",
   "metadata": {
    "execution": {
     "iopub.execute_input": "2021-09-21T23:30:09.540546Z",
     "iopub.status.busy": "2021-09-21T23:30:09.538003Z",
     "iopub.status.idle": "2021-09-21T23:30:11.041104Z",
     "shell.execute_reply": "2021-09-21T23:30:11.042387Z"
    },
    "papermill": {
     "duration": 1.536432,
     "end_time": "2021-09-21T23:30:11.042851",
     "exception": false,
     "start_time": "2021-09-21T23:30:09.506419",
     "status": "completed"
    },
    "tags": []
   },
   "outputs": [
    {
     "data": {
      "text/plain": [
       "<AxesSubplot:ylabel='PRODUCT'>"
      ]
     },
     "execution_count": 7,
     "metadata": {},
     "output_type": "execute_result"
    },
    {
     "data": {
      "image/png": "[encoded data removed]",
      "text/plain": [
       "<Figure size 432x288 with 1 Axes>"
      ]
     },
     "metadata": {
      "needs_background": "light"
     },
     "output_type": "display_data"
    }
   ],
   "source": [
    "df_pivot_diff.sort_values(\"stamp_2\", ascending = False)[\"stamp_2\"].head(10).plot.barh()"
   ]
  },
  {
   "cell_type": "code",
   "execution_count": null,
   "id": "extra-executive",
   "metadata": {
    "papermill": {
     "duration": 0.021968,
     "end_time": "2021-09-21T23:30:11.089562",
     "exception": false,
     "start_time": "2021-09-21T23:30:11.067594",
     "status": "completed"
    },
    "tags": []
   },
   "outputs": [],
   "source": []
  }
 ],
 "metadata": {
  "kernelspec": {
   "display_name": "Python 3",
   "language": "python",
   "name": "python3"
  },
  "language_info": {
   "codemirror_mode": {
    "name": "ipython",
    "version": 3
   },
   "file_extension": ".py",
   "mimetype": "text/x-python",
   "name": "python",
   "nbconvert_exporter": "python",
   "pygments_lexer": "ipython3",
   "version": "3.9.5"
  },
  "papermill": {
   "default_parameters": {},
   "duration": 6.721368,
   "end_time": "2021-09-21T23:30:11.732585",
   "environment_variables": {},
   "exception": null,
   "input_path": "eBay_Overview.ipynb",
   "output_path": "eBay_Overview.ipynb",
   "parameters": {},
   "start_time": "2021-09-21T23:30:05.011217",
   "version": "2.3.3"
  }
 },
 "nbformat": 4,
 "nbformat_minor": 5
}