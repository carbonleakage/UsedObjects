{
 "cells": [
  {
   "cell_type": "code",
   "execution_count": 1,
   "id": "reverse-picking",
   "metadata": {
    "execution": {
     "iopub.execute_input": "2021-10-10T07:00:06.924730Z",
     "iopub.status.busy": "2021-10-10T07:00:06.922759Z",
     "iopub.status.idle": "2021-10-10T07:00:07.737800Z",
     "shell.execute_reply": "2021-10-10T07:00:07.739095Z"
    },
    "papermill": {
     "duration": 0.867884,
     "end_time": "2021-10-10T07:00:07.739768",
     "exception": false,
     "start_time": "2021-10-10T07:00:06.871884",
     "status": "completed"
    },
    "tags": []
   },
   "outputs": [],
   "source": [
    "import pandas as pd\n",
    "import sqlite3"
   ]
  },
  {
   "cell_type": "code",
   "execution_count": 2,
   "id": "innovative-syndrome",
   "metadata": {
    "execution": {
     "iopub.execute_input": "2021-10-10T07:00:07.790947Z",
     "iopub.status.busy": "2021-10-10T07:00:07.788844Z",
     "iopub.status.idle": "2021-10-10T07:00:08.292211Z",
     "shell.execute_reply": "2021-10-10T07:00:08.293389Z"
    },
    "papermill": {
     "duration": 0.533833,
     "end_time": "2021-10-10T07:00:08.293776",
     "exception": false,
     "start_time": "2021-10-10T07:00:07.759943",
     "status": "completed"
    },
    "tags": []
   },
   "outputs": [],
   "source": [
    "timestamps = pd.read_sql(\"select distinct record_time from EBAY_TOP_BERLIN order by record_time desc limit 2\", sqlite3.connect(\"UsedObjects.db\"))"
   ]
  },
  {
   "cell_type": "code",
   "execution_count": 3,
   "id": "periodic-identification",
   "metadata": {
    "execution": {
     "iopub.execute_input": "2021-10-10T07:00:08.365029Z",
     "iopub.status.busy": "2021-10-10T07:00:08.362970Z",
     "iopub.status.idle": "2021-10-10T07:00:08.382928Z",
     "shell.execute_reply": "2021-10-10T07:00:08.384187Z"
    },
    "papermill": {
     "duration": 0.071261,
     "end_time": "2021-10-10T07:00:08.384583",
     "exception": false,
     "start_time": "2021-10-10T07:00:08.313322",
     "status": "completed"
    },
    "tags": []
   },
   "outputs": [
    {
     "data": {
      "text/html": [
       "<div>\n",
       "<style scoped>\n",
       "    .dataframe tbody tr th:only-of-type {\n",
       "        vertical-align: middle;\n",
       "    }\n",
       "\n",
       "    .dataframe tbody tr th {\n",
       "        vertical-align: top;\n",
       "    }\n",
       "\n",
       "    .dataframe thead th {\n",
       "        text-align: right;\n",
       "    }\n",
       "</style>\n",
       "<table border=\"1\" class=\"dataframe\">\n",
       "  <thead>\n",
       "    <tr style=\"text-align: right;\">\n",
       "      <th></th>\n",
       "      <th>RECORD_TIME</th>\n",
       "    </tr>\n",
       "  </thead>\n",
       "  <tbody>\n",
       "    <tr>\n",
       "      <th>0</th>\n",
       "      <td>2021-10-10 09:00</td>\n",
       "    </tr>\n",
       "    <tr>\n",
       "      <th>1</th>\n",
       "      <td>2021-10-10 08:30</td>\n",
       "    </tr>\n",
       "  </tbody>\n",
       "</table>\n",
       "</div>"
      ],
      "text/plain": [
       "        RECORD_TIME\n",
       "0  2021-10-10 09:00\n",
       "1  2021-10-10 08:30"
      ]
     },
     "execution_count": 3,
     "metadata": {},
     "output_type": "execute_result"
    }
   ],
   "source": [
    "timestamps"
   ]
  },
  {
   "cell_type": "code",
   "execution_count": 4,
   "id": "alternate-victory",
   "metadata": {
    "execution": {
     "iopub.execute_input": "2021-10-10T07:00:08.436572Z",
     "iopub.status.busy": "2021-10-10T07:00:08.434588Z",
     "iopub.status.idle": "2021-10-10T07:00:09.182611Z",
     "shell.execute_reply": "2021-10-10T07:00:09.183967Z"
    },
    "papermill": {
     "duration": 0.77801,
     "end_time": "2021-10-10T07:00:09.184385",
     "exception": false,
     "start_time": "2021-10-10T07:00:08.406375",
     "status": "completed"
    },
    "tags": []
   },
   "outputs": [],
   "source": [
    "df = pd.read_sql(\"select * from EBAY_TOP_BERLIN where record_time in (select distinct record_time from EBAY_TOP_BERLIN order by record_time desc limit 2)\", sqlite3.connect(\"UsedObjects.db\"))"
   ]
  },
  {
   "cell_type": "code",
   "execution_count": 5,
   "id": "popular-active",
   "metadata": {
    "execution": {
     "iopub.execute_input": "2021-10-10T07:00:09.255665Z",
     "iopub.status.busy": "2021-10-10T07:00:09.248622Z",
     "iopub.status.idle": "2021-10-10T07:00:09.271352Z",
     "shell.execute_reply": "2021-10-10T07:00:09.272635Z"
    },
    "papermill": {
     "duration": 0.068101,
     "end_time": "2021-10-10T07:00:09.273104",
     "exception": false,
     "start_time": "2021-10-10T07:00:09.205003",
     "status": "completed"
    },
    "tags": []
   },
   "outputs": [],
   "source": [
    "df_pivot = df.pivot_table(index=\"PRODUCT\", columns = \"RECORD_TIME\", values = \"LISTING_COUNT\")"
   ]
  },
  {
   "cell_type": "code",
   "execution_count": 6,
   "id": "union-huntington",
   "metadata": {
    "execution": {
     "iopub.execute_input": "2021-10-10T07:00:09.330692Z",
     "iopub.status.busy": "2021-10-10T07:00:09.328443Z",
     "iopub.status.idle": "2021-10-10T07:00:09.334239Z",
     "shell.execute_reply": "2021-10-10T07:00:09.336177Z"
    },
    "papermill": {
     "duration": 0.04225,
     "end_time": "2021-10-10T07:00:09.336744",
     "exception": false,
     "start_time": "2021-10-10T07:00:09.294494",
     "status": "completed"
    },
    "tags": []
   },
   "outputs": [],
   "source": [
    "df_pivot.columns = [\"stamp_1\", \"stamp_2\"]\n",
    "df_pivot_diff = df_pivot.diff(axis=1)"
   ]
  },
  {
   "cell_type": "code",
   "execution_count": 7,
   "id": "fifth-motion",
   "metadata": {
    "execution": {
     "iopub.execute_input": "2021-10-10T07:00:09.392553Z",
     "iopub.status.busy": "2021-10-10T07:00:09.389947Z",
     "iopub.status.idle": "2021-10-10T07:00:10.871344Z",
     "shell.execute_reply": "2021-10-10T07:00:10.872706Z"
    },
    "papermill": {
     "duration": 1.514926,
     "end_time": "2021-10-10T07:00:10.873120",
     "exception": false,
     "start_time": "2021-10-10T07:00:09.358194",
     "status": "completed"
    },
    "tags": []
   },
   "outputs": [
    {
     "data": {
      "text/plain": [
       "<AxesSubplot:ylabel='PRODUCT'>"
      ]
     },
     "execution_count": 7,
     "metadata": {},
     "output_type": "execute_result"
    },
    {
     "data": {
      "image/png": "[encoded data removed]",
      "text/plain": [
       "<Figure size 432x288 with 1 Axes>"
      ]
     },
     "metadata": {
      "needs_background": "light"
     },
     "output_type": "display_data"
    }
   ],
   "source": [
    "df_pivot_diff.sort_values(\"stamp_2\", ascending = False)[\"stamp_2\"].head(10).plot.barh()"
   ]
  },
  {
   "cell_type": "code",
   "execution_count": null,
   "id": "extra-executive",
   "metadata": {
    "papermill": {
     "duration": 0.022134,
     "end_time": "2021-10-10T07:00:10.918888",
     "exception": false,
     "start_time": "2021-10-10T07:00:10.896754",
     "status": "completed"
    },
    "tags": []
   },
   "outputs": [],
   "source": []
  }
 ],
 "metadata": {
  "kernelspec": {
   "display_name": "Python 3",
   "language": "python",
   "name": "python3"
  },
  "language_info": {
   "codemirror_mode": {
    "name": "ipython",
    "version": 3
   },
   "file_extension": ".py",
   "mimetype": "text/x-python",
   "name": "python",
   "nbconvert_exporter": "python",
   "pygments_lexer": "ipython3",
   "version": "3.9.5"
  },
  "papermill": {
   "default_parameters": {},
   "duration": 7.838745,
   "end_time": "2021-10-10T07:00:12.288017",
   "environment_variables": {},
   "exception": null,
   "input_path": "eBay_Overview.ipynb",
   "output_path": "eBay_Overview.ipynb",
   "parameters": {},
   "start_time": "2021-10-10T07:00:04.449272",
   "version": "2.3.3"
  }
 },
 "nbformat": 4,
 "nbformat_minor": 5
}