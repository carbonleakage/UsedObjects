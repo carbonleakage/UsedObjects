{
 "cells": [
  {
   "cell_type": "code",
   "execution_count": 1,
   "id": "reverse-picking",
   "metadata": {
    "execution": {
     "iopub.execute_input": "2021-11-24T01:00:08.117945Z",
     "iopub.status.busy": "2021-11-24T01:00:08.115542Z",
     "iopub.status.idle": "2021-11-24T01:00:09.072471Z",
     "shell.execute_reply": "2021-11-24T01:00:09.074087Z"
    },
    "papermill": {
     "duration": 1.00501,
     "end_time": "2021-11-24T01:00:09.074814",
     "exception": false,
     "start_time": "2021-11-24T01:00:08.069804",
     "status": "completed"
    },
    "tags": []
   },
   "outputs": [],
   "source": [
    "import pandas as pd\n",
    "import sqlite3"
   ]
  },
  {
   "cell_type": "code",
   "execution_count": 2,
   "id": "innovative-syndrome",
   "metadata": {
    "execution": {
     "iopub.execute_input": "2021-11-24T01:00:09.198829Z",
     "iopub.status.busy": "2021-11-24T01:00:09.196535Z",
     "iopub.status.idle": "2021-11-24T01:00:10.090233Z",
     "shell.execute_reply": "2021-11-24T01:00:10.091799Z"
    },
    "papermill": {
     "duration": 0.928791,
     "end_time": "2021-11-24T01:00:10.092301",
     "exception": false,
     "start_time": "2021-11-24T01:00:09.163510",
     "status": "completed"
    },
    "tags": []
   },
   "outputs": [],
   "source": [
    "timestamps = pd.read_sql(\"select distinct record_time from EBAY_TOP_BERLIN order by record_time desc limit 2\", sqlite3.connect(\"UsedObjects.db\"))"
   ]
  },
  {
   "cell_type": "code",
   "execution_count": 3,
   "id": "periodic-identification",
   "metadata": {
    "execution": {
     "iopub.execute_input": "2021-11-24T01:00:10.167208Z",
     "iopub.status.busy": "2021-11-24T01:00:10.161497Z",
     "iopub.status.idle": "2021-11-24T01:00:10.183750Z",
     "shell.execute_reply": "2021-11-24T01:00:10.185332Z"
    },
    "papermill": {
     "duration": 0.072725,
     "end_time": "2021-11-24T01:00:10.185860",
     "exception": false,
     "start_time": "2021-11-24T01:00:10.113135",
     "status": "completed"
    },
    "tags": []
   },
   "outputs": [
    {
     "data": {
      "text/html": [
       "<div>\n",
       "<style scoped>\n",
       "    .dataframe tbody tr th:only-of-type {\n",
       "        vertical-align: middle;\n",
       "    }\n",
       "\n",
       "    .dataframe tbody tr th {\n",
       "        vertical-align: top;\n",
       "    }\n",
       "\n",
       "    .dataframe thead th {\n",
       "        text-align: right;\n",
       "    }\n",
       "</style>\n",
       "<table border=\"1\" class=\"dataframe\">\n",
       "  <thead>\n",
       "    <tr style=\"text-align: right;\">\n",
       "      <th></th>\n",
       "      <th>RECORD_TIME</th>\n",
       "    </tr>\n",
       "  </thead>\n",
       "  <tbody>\n",
       "    <tr>\n",
       "      <th>0</th>\n",
       "      <td>2021-11-24 02:00</td>\n",
       "    </tr>\n",
       "    <tr>\n",
       "      <th>1</th>\n",
       "      <td>2021-11-24 01:30</td>\n",
       "    </tr>\n",
       "  </tbody>\n",
       "</table>\n",
       "</div>"
      ],
      "text/plain": [
       "        RECORD_TIME\n",
       "0  2021-11-24 02:00\n",
       "1  2021-11-24 01:30"
      ]
     },
     "execution_count": 3,
     "metadata": {},
     "output_type": "execute_result"
    }
   ],
   "source": [
    "timestamps"
   ]
  },
  {
   "cell_type": "code",
   "execution_count": 4,
   "id": "alternate-victory",
   "metadata": {
    "execution": {
     "iopub.execute_input": "2021-11-24T01:00:10.241726Z",
     "iopub.status.busy": "2021-11-24T01:00:10.239333Z",
     "iopub.status.idle": "2021-11-24T01:00:11.535797Z",
     "shell.execute_reply": "2021-11-24T01:00:11.537454Z"
    },
    "papermill": {
     "duration": 1.330866,
     "end_time": "2021-11-24T01:00:11.537983",
     "exception": false,
     "start_time": "2021-11-24T01:00:10.207117",
     "status": "completed"
    },
    "tags": []
   },
   "outputs": [],
   "source": [
    "df = pd.read_sql(\"select * from EBAY_TOP_BERLIN where record_time in (select distinct record_time from EBAY_TOP_BERLIN order by record_time desc limit 2)\", sqlite3.connect(\"UsedObjects.db\"))"
   ]
  },
  {
   "cell_type": "code",
   "execution_count": 5,
   "id": "popular-active",
   "metadata": {
    "execution": {
     "iopub.execute_input": "2021-11-24T01:00:11.604282Z",
     "iopub.status.busy": "2021-11-24T01:00:11.601810Z",
     "iopub.status.idle": "2021-11-24T01:00:11.635029Z",
     "shell.execute_reply": "2021-11-24T01:00:11.633513Z"
    },
    "papermill": {
     "duration": 0.075241,
     "end_time": "2021-11-24T01:00:11.635409",
     "exception": false,
     "start_time": "2021-11-24T01:00:11.560168",
     "status": "completed"
    },
    "tags": []
   },
   "outputs": [],
   "source": [
    "df_pivot = df.pivot_table(index=\"PRODUCT\", columns = \"RECORD_TIME\", values = \"LISTING_COUNT\")"
   ]
  },
  {
   "cell_type": "code",
   "execution_count": 6,
   "id": "union-huntington",
   "metadata": {
    "execution": {
     "iopub.execute_input": "2021-11-24T01:00:11.695608Z",
     "iopub.status.busy": "2021-11-24T01:00:11.693206Z",
     "iopub.status.idle": "2021-11-24T01:00:11.699174Z",
     "shell.execute_reply": "2021-11-24T01:00:11.700878Z"
    },
    "papermill": {
     "duration": 0.046145,
     "end_time": "2021-11-24T01:00:11.701362",
     "exception": false,
     "start_time": "2021-11-24T01:00:11.655217",
     "status": "completed"
    },
    "tags": []
   },
   "outputs": [],
   "source": [
    "df_pivot.columns = [\"stamp_1\", \"stamp_2\"]\n",
    "df_pivot_diff = df_pivot.diff(axis=1)"
   ]
  },
  {
   "cell_type": "code",
   "execution_count": 7,
   "id": "fifth-motion",
   "metadata": {
    "execution": {
     "iopub.execute_input": "2021-11-24T01:00:11.761629Z",
     "iopub.status.busy": "2021-11-24T01:00:11.759128Z",
     "iopub.status.idle": "2021-11-24T01:00:13.676410Z",
     "shell.execute_reply": "2021-11-24T01:00:13.678042Z"
    },
    "papermill": {
     "duration": 1.95454,
     "end_time": "2021-11-24T01:00:13.678569",
     "exception": false,
     "start_time": "2021-11-24T01:00:11.724029",
     "status": "completed"
    },
    "tags": []
   },
   "outputs": [
    {
     "data": {
      "text/plain": [
       "<AxesSubplot:ylabel='PRODUCT'>"
      ]
     },
     "execution_count": 7,
     "metadata": {},
     "output_type": "execute_result"
    },
    {
     "data": {
      "image/png": "[encoded data removed]",
      "text/plain": [
       "<Figure size 432x288 with 1 Axes>"
      ]
     },
     "metadata": {
      "needs_background": "light"
     },
     "output_type": "display_data"
    }
   ],
   "source": [
    "df_pivot_diff.sort_values(\"stamp_2\", ascending = False)[\"stamp_2\"].head(10).plot.barh()"
   ]
  },
  {
   "cell_type": "code",
   "execution_count": null,
   "id": "extra-executive",
   "metadata": {
    "papermill": {
     "duration": 0.023503,
     "end_time": "2021-11-24T01:00:13.726595",
     "exception": false,
     "start_time": "2021-11-24T01:00:13.703092",
     "status": "completed"
    },
    "tags": []
   },
   "outputs": [],
   "source": []
  }
 ],
 "metadata": {
  "kernelspec": {
   "display_name": "Python 3",
   "language": "python",
   "name": "python3"
  },
  "language_info": {
   "codemirror_mode": {
    "name": "ipython",
    "version": 3
   },
   "file_extension": ".py",
   "mimetype": "text/x-python",
   "name": "python",
   "nbconvert_exporter": "python",
   "pygments_lexer": "ipython3",
   "version": "3.9.5"
  },
  "papermill": {
   "default_parameters": {},
   "duration": 9.92942,
   "end_time": "2021-11-24T01:00:15.259697",
   "environment_variables": {},
   "exception": null,
   "input_path": "eBay_Overview.ipynb",
   "output_path": "eBay_Overview.ipynb",
   "parameters": {},
   "start_time": "2021-11-24T01:00:05.330277",
   "version": "2.3.3"
  }
 },
 "nbformat": 4,
 "nbformat_minor": 5
}