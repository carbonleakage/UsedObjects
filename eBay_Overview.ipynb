{
 "cells": [
  {
   "cell_type": "code",
   "execution_count": 1,
   "id": "reverse-picking",
   "metadata": {
    "execution": {
     "iopub.execute_input": "2021-09-08T20:00:06.768719Z",
     "iopub.status.busy": "2021-09-08T20:00:06.766659Z",
     "iopub.status.idle": "2021-09-08T20:00:07.577170Z",
     "shell.execute_reply": "2021-09-08T20:00:07.575599Z"
    },
    "papermill": {
     "duration": 0.86143,
     "end_time": "2021-09-08T20:00:07.577554",
     "exception": false,
     "start_time": "2021-09-08T20:00:06.716124",
     "status": "completed"
    },
    "tags": []
   },
   "outputs": [],
   "source": [
    "import pandas as pd\n",
    "import sqlite3"
   ]
  },
  {
   "cell_type": "code",
   "execution_count": 2,
   "id": "innovative-syndrome",
   "metadata": {
    "execution": {
     "iopub.execute_input": "2021-09-08T20:00:07.631087Z",
     "iopub.status.busy": "2021-09-08T20:00:07.628749Z",
     "iopub.status.idle": "2021-09-08T20:00:07.876406Z",
     "shell.execute_reply": "2021-09-08T20:00:07.877576Z"
    },
    "papermill": {
     "duration": 0.277436,
     "end_time": "2021-09-08T20:00:07.877966",
     "exception": false,
     "start_time": "2021-09-08T20:00:07.600530",
     "status": "completed"
    },
    "tags": []
   },
   "outputs": [],
   "source": [
    "timestamps = pd.read_sql(\"select distinct record_time from EBAY_TOP_BERLIN order by record_time desc limit 2\", sqlite3.connect(\"UsedObjects.db\"))"
   ]
  },
  {
   "cell_type": "code",
   "execution_count": 3,
   "id": "periodic-identification",
   "metadata": {
    "execution": {
     "iopub.execute_input": "2021-09-08T20:00:07.942312Z",
     "iopub.status.busy": "2021-09-08T20:00:07.940303Z",
     "iopub.status.idle": "2021-09-08T20:00:07.960201Z",
     "shell.execute_reply": "2021-09-08T20:00:07.961451Z"
    },
    "papermill": {
     "duration": 0.064334,
     "end_time": "2021-09-08T20:00:07.961841",
     "exception": false,
     "start_time": "2021-09-08T20:00:07.897507",
     "status": "completed"
    },
    "tags": []
   },
   "outputs": [
    {
     "data": {
      "text/html": [
       "<div>\n",
       "<style scoped>\n",
       "    .dataframe tbody tr th:only-of-type {\n",
       "        vertical-align: middle;\n",
       "    }\n",
       "\n",
       "    .dataframe tbody tr th {\n",
       "        vertical-align: top;\n",
       "    }\n",
       "\n",
       "    .dataframe thead th {\n",
       "        text-align: right;\n",
       "    }\n",
       "</style>\n",
       "<table border=\"1\" class=\"dataframe\">\n",
       "  <thead>\n",
       "    <tr style=\"text-align: right;\">\n",
       "      <th></th>\n",
       "      <th>RECORD_TIME</th>\n",
       "    </tr>\n",
       "  </thead>\n",
       "  <tbody>\n",
       "    <tr>\n",
       "      <th>0</th>\n",
       "      <td>2021-09-08 22:00</td>\n",
       "    </tr>\n",
       "    <tr>\n",
       "      <th>1</th>\n",
       "      <td>2021-09-08 21:30</td>\n",
       "    </tr>\n",
       "  </tbody>\n",
       "</table>\n",
       "</div>"
      ],
      "text/plain": [
       "        RECORD_TIME\n",
       "0  2021-09-08 22:00\n",
       "1  2021-09-08 21:30"
      ]
     },
     "execution_count": 3,
     "metadata": {},
     "output_type": "execute_result"
    }
   ],
   "source": [
    "timestamps"
   ]
  },
  {
   "cell_type": "code",
   "execution_count": 4,
   "id": "alternate-victory",
   "metadata": {
    "execution": {
     "iopub.execute_input": "2021-09-08T20:00:08.013783Z",
     "iopub.status.busy": "2021-09-08T20:00:08.011513Z",
     "iopub.status.idle": "2021-09-08T20:00:08.380784Z",
     "shell.execute_reply": "2021-09-08T20:00:08.381990Z"
    },
    "papermill": {
     "duration": 0.399569,
     "end_time": "2021-09-08T20:00:08.382383",
     "exception": false,
     "start_time": "2021-09-08T20:00:07.982814",
     "status": "completed"
    },
    "tags": []
   },
   "outputs": [],
   "source": [
    "df = pd.read_sql(\"select * from EBAY_TOP_BERLIN where record_time in (select distinct record_time from EBAY_TOP_BERLIN order by record_time desc limit 2)\", sqlite3.connect(\"UsedObjects.db\"))"
   ]
  },
  {
   "cell_type": "code",
   "execution_count": 5,
   "id": "popular-active",
   "metadata": {
    "execution": {
     "iopub.execute_input": "2021-09-08T20:00:08.465964Z",
     "iopub.status.busy": "2021-09-08T20:00:08.452898Z",
     "iopub.status.idle": "2021-09-08T20:00:08.482490Z",
     "shell.execute_reply": "2021-09-08T20:00:08.483834Z"
    },
    "papermill": {
     "duration": 0.073169,
     "end_time": "2021-09-08T20:00:08.484253",
     "exception": false,
     "start_time": "2021-09-08T20:00:08.411084",
     "status": "completed"
    },
    "tags": []
   },
   "outputs": [],
   "source": [
    "df_pivot = df.pivot_table(index=\"PRODUCT\", columns = \"RECORD_TIME\", values = \"LISTING_COUNT\")"
   ]
  },
  {
   "cell_type": "code",
   "execution_count": 6,
   "id": "union-huntington",
   "metadata": {
    "execution": {
     "iopub.execute_input": "2021-09-08T20:00:08.540000Z",
     "iopub.status.busy": "2021-09-08T20:00:08.537993Z",
     "iopub.status.idle": "2021-09-08T20:00:08.542939Z",
     "shell.execute_reply": "2021-09-08T20:00:08.544311Z"
    },
    "papermill": {
     "duration": 0.039536,
     "end_time": "2021-09-08T20:00:08.544724",
     "exception": false,
     "start_time": "2021-09-08T20:00:08.505188",
     "status": "completed"
    },
    "tags": []
   },
   "outputs": [],
   "source": [
    "df_pivot.columns = [\"stamp_1\", \"stamp_2\"]\n",
    "df_pivot_diff = df_pivot.diff(axis=1)"
   ]
  },
  {
   "cell_type": "code",
   "execution_count": 7,
   "id": "fifth-motion",
   "metadata": {
    "execution": {
     "iopub.execute_input": "2021-09-08T20:00:08.599639Z",
     "iopub.status.busy": "2021-09-08T20:00:08.597118Z",
     "iopub.status.idle": "2021-09-08T20:00:10.101871Z",
     "shell.execute_reply": "2021-09-08T20:00:10.103359Z"
    },
    "papermill": {
     "duration": 1.538049,
     "end_time": "2021-09-08T20:00:10.103845",
     "exception": false,
     "start_time": "2021-09-08T20:00:08.565796",
     "status": "completed"
    },
    "tags": []
   },
   "outputs": [
    {
     "data": {
      "text/plain": [
       "<AxesSubplot:ylabel='PRODUCT'>"
      ]
     },
     "execution_count": 7,
     "metadata": {},
     "output_type": "execute_result"
    },
    {
     "data": {
      "image/png": "[encoded data removed]",
      "text/plain": [
       "<Figure size 432x288 with 1 Axes>"
      ]
     },
     "metadata": {
      "needs_background": "light"
     },
     "output_type": "display_data"
    }
   ],
   "source": [
    "df_pivot_diff.sort_values(\"stamp_2\", ascending = False)[\"stamp_2\"].head(10).plot.barh()"
   ]
  },
  {
   "cell_type": "code",
   "execution_count": null,
   "id": "extra-executive",
   "metadata": {
    "papermill": {
     "duration": 0.022056,
     "end_time": "2021-09-08T20:00:10.150750",
     "exception": false,
     "start_time": "2021-09-08T20:00:10.128694",
     "status": "completed"
    },
    "tags": []
   },
   "outputs": [],
   "source": []
  }
 ],
 "metadata": {
  "kernelspec": {
   "display_name": "Python 3",
   "language": "python",
   "name": "python3"
  },
  "language_info": {
   "codemirror_mode": {
    "name": "ipython",
    "version": 3
   },
   "file_extension": ".py",
   "mimetype": "text/x-python",
   "name": "python",
   "nbconvert_exporter": "python",
   "pygments_lexer": "ipython3",
   "version": "3.9.5"
  },
  "papermill": {
   "default_parameters": {},
   "duration": 6.489222,
   "end_time": "2021-09-08T20:00:10.791153",
   "environment_variables": {},
   "exception": null,
   "input_path": "eBay_Overview.ipynb",
   "output_path": "eBay_Overview.ipynb",
   "parameters": {},
   "start_time": "2021-09-08T20:00:04.301931",
   "version": "2.3.3"
  }
 },
 "nbformat": 4,
 "nbformat_minor": 5
}