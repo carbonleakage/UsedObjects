{
 "cells": [
  {
   "cell_type": "code",
   "execution_count": 1,
   "id": "reverse-picking",
   "metadata": {
    "execution": {
     "iopub.execute_input": "2021-11-14T22:00:07.810707Z",
     "iopub.status.busy": "2021-11-14T22:00:07.808401Z",
     "iopub.status.idle": "2021-11-14T22:00:08.753205Z",
     "shell.execute_reply": "2021-11-14T22:00:08.754714Z"
    },
    "papermill": {
     "duration": 0.994646,
     "end_time": "2021-11-14T22:00:08.755448",
     "exception": false,
     "start_time": "2021-11-14T22:00:07.760802",
     "status": "completed"
    },
    "tags": []
   },
   "outputs": [],
   "source": [
    "import pandas as pd\n",
    "import sqlite3"
   ]
  },
  {
   "cell_type": "code",
   "execution_count": 2,
   "id": "innovative-syndrome",
   "metadata": {
    "execution": {
     "iopub.execute_input": "2021-11-14T22:00:08.822287Z",
     "iopub.status.busy": "2021-11-14T22:00:08.819967Z",
     "iopub.status.idle": "2021-11-14T22:00:09.618014Z",
     "shell.execute_reply": "2021-11-14T22:00:09.619627Z"
    },
    "papermill": {
     "duration": 0.831885,
     "end_time": "2021-11-14T22:00:09.620162",
     "exception": false,
     "start_time": "2021-11-14T22:00:08.788277",
     "status": "completed"
    },
    "tags": []
   },
   "outputs": [],
   "source": [
    "timestamps = pd.read_sql(\"select distinct record_time from EBAY_TOP_BERLIN order by record_time desc limit 2\", sqlite3.connect(\"UsedObjects.db\"))"
   ]
  },
  {
   "cell_type": "code",
   "execution_count": 3,
   "id": "periodic-identification",
   "metadata": {
    "execution": {
     "iopub.execute_input": "2021-11-14T22:00:09.682059Z",
     "iopub.status.busy": "2021-11-14T22:00:09.679760Z",
     "iopub.status.idle": "2021-11-14T22:00:09.712961Z",
     "shell.execute_reply": "2021-11-14T22:00:09.714312Z"
    },
    "papermill": {
     "duration": 0.07254,
     "end_time": "2021-11-14T22:00:09.714767",
     "exception": false,
     "start_time": "2021-11-14T22:00:09.642227",
     "status": "completed"
    },
    "tags": []
   },
   "outputs": [
    {
     "data": {
      "text/html": [
       "<div>\n",
       "<style scoped>\n",
       "    .dataframe tbody tr th:only-of-type {\n",
       "        vertical-align: middle;\n",
       "    }\n",
       "\n",
       "    .dataframe tbody tr th {\n",
       "        vertical-align: top;\n",
       "    }\n",
       "\n",
       "    .dataframe thead th {\n",
       "        text-align: right;\n",
       "    }\n",
       "</style>\n",
       "<table border=\"1\" class=\"dataframe\">\n",
       "  <thead>\n",
       "    <tr style=\"text-align: right;\">\n",
       "      <th></th>\n",
       "      <th>RECORD_TIME</th>\n",
       "    </tr>\n",
       "  </thead>\n",
       "  <tbody>\n",
       "    <tr>\n",
       "      <th>0</th>\n",
       "      <td>2021-11-14 23:00</td>\n",
       "    </tr>\n",
       "    <tr>\n",
       "      <th>1</th>\n",
       "      <td>2021-11-14 22:30</td>\n",
       "    </tr>\n",
       "  </tbody>\n",
       "</table>\n",
       "</div>"
      ],
      "text/plain": [
       "        RECORD_TIME\n",
       "0  2021-11-14 23:00\n",
       "1  2021-11-14 22:30"
      ]
     },
     "execution_count": 3,
     "metadata": {},
     "output_type": "execute_result"
    }
   ],
   "source": [
    "timestamps"
   ]
  },
  {
   "cell_type": "code",
   "execution_count": 4,
   "id": "alternate-victory",
   "metadata": {
    "execution": {
     "iopub.execute_input": "2021-11-14T22:00:09.772295Z",
     "iopub.status.busy": "2021-11-14T22:00:09.770340Z",
     "iopub.status.idle": "2021-11-14T22:00:10.946658Z",
     "shell.execute_reply": "2021-11-14T22:00:10.948265Z"
    },
    "papermill": {
     "duration": 1.213113,
     "end_time": "2021-11-14T22:00:10.948822",
     "exception": false,
     "start_time": "2021-11-14T22:00:09.735709",
     "status": "completed"
    },
    "tags": []
   },
   "outputs": [],
   "source": [
    "df = pd.read_sql(\"select * from EBAY_TOP_BERLIN where record_time in (select distinct record_time from EBAY_TOP_BERLIN order by record_time desc limit 2)\", sqlite3.connect(\"UsedObjects.db\"))"
   ]
  },
  {
   "cell_type": "code",
   "execution_count": 5,
   "id": "popular-active",
   "metadata": {
    "execution": {
     "iopub.execute_input": "2021-11-14T22:00:11.014658Z",
     "iopub.status.busy": "2021-11-14T22:00:11.012309Z",
     "iopub.status.idle": "2021-11-14T22:00:11.043633Z",
     "shell.execute_reply": "2021-11-14T22:00:11.041866Z"
    },
    "papermill": {
     "duration": 0.072411,
     "end_time": "2021-11-14T22:00:11.044063",
     "exception": false,
     "start_time": "2021-11-14T22:00:10.971652",
     "status": "completed"
    },
    "tags": []
   },
   "outputs": [],
   "source": [
    "df_pivot = df.pivot_table(index=\"PRODUCT\", columns = \"RECORD_TIME\", values = \"LISTING_COUNT\")"
   ]
  },
  {
   "cell_type": "code",
   "execution_count": 6,
   "id": "union-huntington",
   "metadata": {
    "execution": {
     "iopub.execute_input": "2021-11-14T22:00:11.106903Z",
     "iopub.status.busy": "2021-11-14T22:00:11.104379Z",
     "iopub.status.idle": "2021-11-14T22:00:11.109659Z",
     "shell.execute_reply": "2021-11-14T22:00:11.111244Z"
    },
    "papermill": {
     "duration": 0.047423,
     "end_time": "2021-11-14T22:00:11.111745",
     "exception": false,
     "start_time": "2021-11-14T22:00:11.064322",
     "status": "completed"
    },
    "tags": []
   },
   "outputs": [],
   "source": [
    "df_pivot.columns = [\"stamp_1\", \"stamp_2\"]\n",
    "df_pivot_diff = df_pivot.diff(axis=1)"
   ]
  },
  {
   "cell_type": "code",
   "execution_count": 7,
   "id": "fifth-motion",
   "metadata": {
    "execution": {
     "iopub.execute_input": "2021-11-14T22:00:11.170802Z",
     "iopub.status.busy": "2021-11-14T22:00:11.168131Z",
     "iopub.status.idle": "2021-11-14T22:00:13.081747Z",
     "shell.execute_reply": "2021-11-14T22:00:13.083127Z"
    },
    "papermill": {
     "duration": 1.950835,
     "end_time": "2021-11-14T22:00:13.083594",
     "exception": false,
     "start_time": "2021-11-14T22:00:11.132759",
     "status": "completed"
    },
    "tags": []
   },
   "outputs": [
    {
     "data": {
      "text/plain": [
       "<AxesSubplot:ylabel='PRODUCT'>"
      ]
     },
     "execution_count": 7,
     "metadata": {},
     "output_type": "execute_result"
    },
    {
     "data": {
      "image/png": "[encoded data removed]",
      "text/plain": [
       "<Figure size 432x288 with 1 Axes>"
      ]
     },
     "metadata": {
      "needs_background": "light"
     },
     "output_type": "display_data"
    }
   ],
   "source": [
    "df_pivot_diff.sort_values(\"stamp_2\", ascending = False)[\"stamp_2\"].head(10).plot.barh()"
   ]
  },
  {
   "cell_type": "code",
   "execution_count": null,
   "id": "extra-executive",
   "metadata": {
    "papermill": {
     "duration": 0.023214,
     "end_time": "2021-11-14T22:00:13.130435",
     "exception": false,
     "start_time": "2021-11-14T22:00:13.107221",
     "status": "completed"
    },
    "tags": []
   },
   "outputs": [],
   "source": []
  }
 ],
 "metadata": {
  "kernelspec": {
   "display_name": "Python 3",
   "language": "python",
   "name": "python3"
  },
  "language_info": {
   "codemirror_mode": {
    "name": "ipython",
    "version": 3
   },
   "file_extension": ".py",
   "mimetype": "text/x-python",
   "name": "python",
   "nbconvert_exporter": "python",
   "pygments_lexer": "ipython3",
   "version": "3.9.5"
  },
  "papermill": {
   "default_parameters": {},
   "duration": 9.938785,
   "end_time": "2021-11-14T22:00:14.974785",
   "environment_variables": {},
   "exception": null,
   "input_path": "eBay_Overview.ipynb",
   "output_path": "eBay_Overview.ipynb",
   "parameters": {},
   "start_time": "2021-11-14T22:00:05.036000",
   "version": "2.3.3"
  }
 },
 "nbformat": 4,
 "nbformat_minor": 5
}