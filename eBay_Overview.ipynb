{
 "cells": [
  {
   "cell_type": "code",
   "execution_count": 1,
   "id": "reverse-picking",
   "metadata": {
    "execution": {
     "iopub.execute_input": "2021-09-26T14:30:07.024718Z",
     "iopub.status.busy": "2021-09-26T14:30:07.022707Z",
     "iopub.status.idle": "2021-09-26T14:30:07.828269Z",
     "shell.execute_reply": "2021-09-26T14:30:07.829526Z"
    },
    "papermill": {
     "duration": 0.855633,
     "end_time": "2021-09-26T14:30:07.830160",
     "exception": false,
     "start_time": "2021-09-26T14:30:06.974527",
     "status": "completed"
    },
    "tags": []
   },
   "outputs": [],
   "source": [
    "import pandas as pd\n",
    "import sqlite3"
   ]
  },
  {
   "cell_type": "code",
   "execution_count": 2,
   "id": "innovative-syndrome",
   "metadata": {
    "execution": {
     "iopub.execute_input": "2021-09-26T14:30:07.882997Z",
     "iopub.status.busy": "2021-09-26T14:30:07.880628Z",
     "iopub.status.idle": "2021-09-26T14:30:08.258623Z",
     "shell.execute_reply": "2021-09-26T14:30:08.259884Z"
    },
    "papermill": {
     "duration": 0.407988,
     "end_time": "2021-09-26T14:30:08.260291",
     "exception": false,
     "start_time": "2021-09-26T14:30:07.852303",
     "status": "completed"
    },
    "tags": []
   },
   "outputs": [],
   "source": [
    "timestamps = pd.read_sql(\"select distinct record_time from EBAY_TOP_BERLIN order by record_time desc limit 2\", sqlite3.connect(\"UsedObjects.db\"))"
   ]
  },
  {
   "cell_type": "code",
   "execution_count": 3,
   "id": "periodic-identification",
   "metadata": {
    "execution": {
     "iopub.execute_input": "2021-09-26T14:30:08.326514Z",
     "iopub.status.busy": "2021-09-26T14:30:08.324495Z",
     "iopub.status.idle": "2021-09-26T14:30:08.343883Z",
     "shell.execute_reply": "2021-09-26T14:30:08.345016Z"
    },
    "papermill": {
     "duration": 0.06369,
     "end_time": "2021-09-26T14:30:08.345438",
     "exception": false,
     "start_time": "2021-09-26T14:30:08.281748",
     "status": "completed"
    },
    "tags": []
   },
   "outputs": [
    {
     "data": {
      "text/html": [
       "<div>\n",
       "<style scoped>\n",
       "    .dataframe tbody tr th:only-of-type {\n",
       "        vertical-align: middle;\n",
       "    }\n",
       "\n",
       "    .dataframe tbody tr th {\n",
       "        vertical-align: top;\n",
       "    }\n",
       "\n",
       "    .dataframe thead th {\n",
       "        text-align: right;\n",
       "    }\n",
       "</style>\n",
       "<table border=\"1\" class=\"dataframe\">\n",
       "  <thead>\n",
       "    <tr style=\"text-align: right;\">\n",
       "      <th></th>\n",
       "      <th>RECORD_TIME</th>\n",
       "    </tr>\n",
       "  </thead>\n",
       "  <tbody>\n",
       "    <tr>\n",
       "      <th>0</th>\n",
       "      <td>2021-09-26 16:30</td>\n",
       "    </tr>\n",
       "    <tr>\n",
       "      <th>1</th>\n",
       "      <td>2021-09-26 16:00</td>\n",
       "    </tr>\n",
       "  </tbody>\n",
       "</table>\n",
       "</div>"
      ],
      "text/plain": [
       "        RECORD_TIME\n",
       "0  2021-09-26 16:30\n",
       "1  2021-09-26 16:00"
      ]
     },
     "execution_count": 3,
     "metadata": {},
     "output_type": "execute_result"
    }
   ],
   "source": [
    "timestamps"
   ]
  },
  {
   "cell_type": "code",
   "execution_count": 4,
   "id": "alternate-victory",
   "metadata": {
    "execution": {
     "iopub.execute_input": "2021-09-26T14:30:08.400004Z",
     "iopub.status.busy": "2021-09-26T14:30:08.397633Z",
     "iopub.status.idle": "2021-09-26T14:30:08.950850Z",
     "shell.execute_reply": "2021-09-26T14:30:08.952256Z"
    },
    "papermill": {
     "duration": 0.58387,
     "end_time": "2021-09-26T14:30:08.952689",
     "exception": false,
     "start_time": "2021-09-26T14:30:08.368819",
     "status": "completed"
    },
    "tags": []
   },
   "outputs": [],
   "source": [
    "df = pd.read_sql(\"select * from EBAY_TOP_BERLIN where record_time in (select distinct record_time from EBAY_TOP_BERLIN order by record_time desc limit 2)\", sqlite3.connect(\"UsedObjects.db\"))"
   ]
  },
  {
   "cell_type": "code",
   "execution_count": 5,
   "id": "popular-active",
   "metadata": {
    "execution": {
     "iopub.execute_input": "2021-09-26T14:30:09.022968Z",
     "iopub.status.busy": "2021-09-26T14:30:09.010414Z",
     "iopub.status.idle": "2021-09-26T14:30:09.038630Z",
     "shell.execute_reply": "2021-09-26T14:30:09.039996Z"
    },
    "papermill": {
     "duration": 0.067624,
     "end_time": "2021-09-26T14:30:09.040426",
     "exception": false,
     "start_time": "2021-09-26T14:30:08.972802",
     "status": "completed"
    },
    "tags": []
   },
   "outputs": [],
   "source": [
    "df_pivot = df.pivot_table(index=\"PRODUCT\", columns = \"RECORD_TIME\", values = \"LISTING_COUNT\")"
   ]
  },
  {
   "cell_type": "code",
   "execution_count": 6,
   "id": "union-huntington",
   "metadata": {
    "execution": {
     "iopub.execute_input": "2021-09-26T14:30:09.096823Z",
     "iopub.status.busy": "2021-09-26T14:30:09.094755Z",
     "iopub.status.idle": "2021-09-26T14:30:09.100044Z",
     "shell.execute_reply": "2021-09-26T14:30:09.101335Z"
    },
    "papermill": {
     "duration": 0.04029,
     "end_time": "2021-09-26T14:30:09.101766",
     "exception": false,
     "start_time": "2021-09-26T14:30:09.061476",
     "status": "completed"
    },
    "tags": []
   },
   "outputs": [],
   "source": [
    "df_pivot.columns = [\"stamp_1\", \"stamp_2\"]\n",
    "df_pivot_diff = df_pivot.diff(axis=1)"
   ]
  },
  {
   "cell_type": "code",
   "execution_count": 7,
   "id": "fifth-motion",
   "metadata": {
    "execution": {
     "iopub.execute_input": "2021-09-26T14:30:09.155705Z",
     "iopub.status.busy": "2021-09-26T14:30:09.153124Z",
     "iopub.status.idle": "2021-09-26T14:30:10.658145Z",
     "shell.execute_reply": "2021-09-26T14:30:10.659792Z"
    },
    "papermill": {
     "duration": 1.538306,
     "end_time": "2021-09-26T14:30:10.660268",
     "exception": false,
     "start_time": "2021-09-26T14:30:09.121962",
     "status": "completed"
    },
    "tags": []
   },
   "outputs": [
    {
     "data": {
      "text/plain": [
       "<AxesSubplot:ylabel='PRODUCT'>"
      ]
     },
     "execution_count": 7,
     "metadata": {},
     "output_type": "execute_result"
    },
    {
     "data": {
      "image/png": "[encoded data removed]",
      "text/plain": [
       "<Figure size 432x288 with 1 Axes>"
      ]
     },
     "metadata": {
      "needs_background": "light"
     },
     "output_type": "display_data"
    }
   ],
   "source": [
    "df_pivot_diff.sort_values(\"stamp_2\", ascending = False)[\"stamp_2\"].head(10).plot.barh()"
   ]
  },
  {
   "cell_type": "code",
   "execution_count": null,
   "id": "extra-executive",
   "metadata": {
    "papermill": {
     "duration": 0.022157,
     "end_time": "2021-09-26T14:30:10.707383",
     "exception": false,
     "start_time": "2021-09-26T14:30:10.685226",
     "status": "completed"
    },
    "tags": []
   },
   "outputs": [],
   "source": []
  }
 ],
 "metadata": {
  "kernelspec": {
   "display_name": "Python 3",
   "language": "python",
   "name": "python3"
  },
  "language_info": {
   "codemirror_mode": {
    "name": "ipython",
    "version": 3
   },
   "file_extension": ".py",
   "mimetype": "text/x-python",
   "name": "python",
   "nbconvert_exporter": "python",
   "pygments_lexer": "ipython3",
   "version": "3.9.5"
  },
  "papermill": {
   "default_parameters": {},
   "duration": 6.777895,
   "end_time": "2021-09-26T14:30:11.350093",
   "environment_variables": {},
   "exception": null,
   "input_path": "eBay_Overview.ipynb",
   "output_path": "eBay_Overview.ipynb",
   "parameters": {},
   "start_time": "2021-09-26T14:30:04.572198",
   "version": "2.3.3"
  }
 },
 "nbformat": 4,
 "nbformat_minor": 5
}