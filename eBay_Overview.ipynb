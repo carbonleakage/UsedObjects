{
 "cells": [
  {
   "cell_type": "code",
   "execution_count": 1,
   "id": "reverse-picking",
   "metadata": {
    "execution": {
     "iopub.execute_input": "2021-10-13T16:30:06.695241Z",
     "iopub.status.busy": "2021-10-13T16:30:06.693285Z",
     "iopub.status.idle": "2021-10-13T16:30:07.491985Z",
     "shell.execute_reply": "2021-10-13T16:30:07.493472Z"
    },
    "papermill": {
     "duration": 0.851141,
     "end_time": "2021-10-13T16:30:07.494112",
     "exception": false,
     "start_time": "2021-10-13T16:30:06.642971",
     "status": "completed"
    },
    "tags": []
   },
   "outputs": [],
   "source": [
    "import pandas as pd\n",
    "import sqlite3"
   ]
  },
  {
   "cell_type": "code",
   "execution_count": 2,
   "id": "innovative-syndrome",
   "metadata": {
    "execution": {
     "iopub.execute_input": "2021-10-13T16:30:07.546527Z",
     "iopub.status.busy": "2021-10-13T16:30:07.544114Z",
     "iopub.status.idle": "2021-10-13T16:30:08.075219Z",
     "shell.execute_reply": "2021-10-13T16:30:08.076435Z"
    },
    "papermill": {
     "duration": 0.561244,
     "end_time": "2021-10-13T16:30:08.076884",
     "exception": false,
     "start_time": "2021-10-13T16:30:07.515640",
     "status": "completed"
    },
    "tags": []
   },
   "outputs": [],
   "source": [
    "timestamps = pd.read_sql(\"select distinct record_time from EBAY_TOP_BERLIN order by record_time desc limit 2\", sqlite3.connect(\"UsedObjects.db\"))"
   ]
  },
  {
   "cell_type": "code",
   "execution_count": 3,
   "id": "periodic-identification",
   "metadata": {
    "execution": {
     "iopub.execute_input": "2021-10-13T16:30:08.140110Z",
     "iopub.status.busy": "2021-10-13T16:30:08.138103Z",
     "iopub.status.idle": "2021-10-13T16:30:08.158055Z",
     "shell.execute_reply": "2021-10-13T16:30:08.159352Z"
    },
    "papermill": {
     "duration": 0.063363,
     "end_time": "2021-10-13T16:30:08.159763",
     "exception": false,
     "start_time": "2021-10-13T16:30:08.096400",
     "status": "completed"
    },
    "tags": []
   },
   "outputs": [
    {
     "data": {
      "text/html": [
       "<div>\n",
       "<style scoped>\n",
       "    .dataframe tbody tr th:only-of-type {\n",
       "        vertical-align: middle;\n",
       "    }\n",
       "\n",
       "    .dataframe tbody tr th {\n",
       "        vertical-align: top;\n",
       "    }\n",
       "\n",
       "    .dataframe thead th {\n",
       "        text-align: right;\n",
       "    }\n",
       "</style>\n",
       "<table border=\"1\" class=\"dataframe\">\n",
       "  <thead>\n",
       "    <tr style=\"text-align: right;\">\n",
       "      <th></th>\n",
       "      <th>RECORD_TIME</th>\n",
       "    </tr>\n",
       "  </thead>\n",
       "  <tbody>\n",
       "    <tr>\n",
       "      <th>0</th>\n",
       "      <td>2021-10-13 18:30</td>\n",
       "    </tr>\n",
       "    <tr>\n",
       "      <th>1</th>\n",
       "      <td>2021-10-13 18:00</td>\n",
       "    </tr>\n",
       "  </tbody>\n",
       "</table>\n",
       "</div>"
      ],
      "text/plain": [
       "        RECORD_TIME\n",
       "0  2021-10-13 18:30\n",
       "1  2021-10-13 18:00"
      ]
     },
     "execution_count": 3,
     "metadata": {},
     "output_type": "execute_result"
    }
   ],
   "source": [
    "timestamps"
   ]
  },
  {
   "cell_type": "code",
   "execution_count": 4,
   "id": "alternate-victory",
   "metadata": {
    "execution": {
     "iopub.execute_input": "2021-10-13T16:30:08.219894Z",
     "iopub.status.busy": "2021-10-13T16:30:08.218060Z",
     "iopub.status.idle": "2021-10-13T16:30:08.988726Z",
     "shell.execute_reply": "2021-10-13T16:30:08.990286Z"
    },
    "papermill": {
     "duration": 0.80417,
     "end_time": "2021-10-13T16:30:08.990747",
     "exception": false,
     "start_time": "2021-10-13T16:30:08.186577",
     "status": "completed"
    },
    "tags": []
   },
   "outputs": [],
   "source": [
    "df = pd.read_sql(\"select * from EBAY_TOP_BERLIN where record_time in (select distinct record_time from EBAY_TOP_BERLIN order by record_time desc limit 2)\", sqlite3.connect(\"UsedObjects.db\"))"
   ]
  },
  {
   "cell_type": "code",
   "execution_count": 5,
   "id": "popular-active",
   "metadata": {
    "execution": {
     "iopub.execute_input": "2021-10-13T16:30:09.061233Z",
     "iopub.status.busy": "2021-10-13T16:30:09.049846Z",
     "iopub.status.idle": "2021-10-13T16:30:09.077235Z",
     "shell.execute_reply": "2021-10-13T16:30:09.078674Z"
    },
    "papermill": {
     "duration": 0.067339,
     "end_time": "2021-10-13T16:30:09.079153",
     "exception": false,
     "start_time": "2021-10-13T16:30:09.011814",
     "status": "completed"
    },
    "tags": []
   },
   "outputs": [],
   "source": [
    "df_pivot = df.pivot_table(index=\"PRODUCT\", columns = \"RECORD_TIME\", values = \"LISTING_COUNT\")"
   ]
  },
  {
   "cell_type": "code",
   "execution_count": 6,
   "id": "union-huntington",
   "metadata": {
    "execution": {
     "iopub.execute_input": "2021-10-13T16:30:09.136597Z",
     "iopub.status.busy": "2021-10-13T16:30:09.134527Z",
     "iopub.status.idle": "2021-10-13T16:30:09.139958Z",
     "shell.execute_reply": "2021-10-13T16:30:09.141333Z"
    },
    "papermill": {
     "duration": 0.04147,
     "end_time": "2021-10-13T16:30:09.141767",
     "exception": false,
     "start_time": "2021-10-13T16:30:09.100297",
     "status": "completed"
    },
    "tags": []
   },
   "outputs": [],
   "source": [
    "df_pivot.columns = [\"stamp_1\", \"stamp_2\"]\n",
    "df_pivot_diff = df_pivot.diff(axis=1)"
   ]
  },
  {
   "cell_type": "code",
   "execution_count": 7,
   "id": "fifth-motion",
   "metadata": {
    "execution": {
     "iopub.execute_input": "2021-10-13T16:30:09.195933Z",
     "iopub.status.busy": "2021-10-13T16:30:09.193538Z",
     "iopub.status.idle": "2021-10-13T16:30:10.656639Z",
     "shell.execute_reply": "2021-10-13T16:30:10.658099Z"
    },
    "papermill": {
     "duration": 1.496208,
     "end_time": "2021-10-13T16:30:10.658539",
     "exception": false,
     "start_time": "2021-10-13T16:30:09.162331",
     "status": "completed"
    },
    "tags": []
   },
   "outputs": [
    {
     "data": {
      "text/plain": [
       "<AxesSubplot:ylabel='PRODUCT'>"
      ]
     },
     "execution_count": 7,
     "metadata": {},
     "output_type": "execute_result"
    },
    {
     "data": {
      "image/png": "[encoded data removed]",
      "text/plain": [
       "<Figure size 432x288 with 1 Axes>"
      ]
     },
     "metadata": {
      "needs_background": "light"
     },
     "output_type": "display_data"
    }
   ],
   "source": [
    "df_pivot_diff.sort_values(\"stamp_2\", ascending = False)[\"stamp_2\"].head(10).plot.barh()"
   ]
  },
  {
   "cell_type": "code",
   "execution_count": null,
   "id": "extra-executive",
   "metadata": {
    "papermill": {
     "duration": 0.022403,
     "end_time": "2021-10-13T16:30:10.705901",
     "exception": false,
     "start_time": "2021-10-13T16:30:10.683498",
     "status": "completed"
    },
    "tags": []
   },
   "outputs": [],
   "source": []
  }
 ],
 "metadata": {
  "kernelspec": {
   "display_name": "Python 3",
   "language": "python",
   "name": "python3"
  },
  "language_info": {
   "codemirror_mode": {
    "name": "ipython",
    "version": 3
   },
   "file_extension": ".py",
   "mimetype": "text/x-python",
   "name": "python",
   "nbconvert_exporter": "python",
   "pygments_lexer": "ipython3",
   "version": "3.9.5"
  },
  "papermill": {
   "default_parameters": {},
   "duration": 7.820264,
   "end_time": "2021-10-13T16:30:12.070096",
   "environment_variables": {},
   "exception": null,
   "input_path": "eBay_Overview.ipynb",
   "output_path": "eBay_Overview.ipynb",
   "parameters": {},
   "start_time": "2021-10-13T16:30:04.249832",
   "version": "2.3.3"
  }
 },
 "nbformat": 4,
 "nbformat_minor": 5
}