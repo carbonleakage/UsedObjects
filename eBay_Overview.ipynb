{
 "cells": [
  {
   "cell_type": "code",
   "execution_count": 1,
   "id": "reverse-picking",
   "metadata": {
    "execution": {
     "iopub.execute_input": "2021-11-07T14:30:08.369883Z",
     "iopub.status.busy": "2021-11-07T14:30:08.367457Z",
     "iopub.status.idle": "2021-11-07T14:30:09.337551Z",
     "shell.execute_reply": "2021-11-07T14:30:09.339106Z"
    },
    "papermill": {
     "duration": 1.019613,
     "end_time": "2021-11-07T14:30:09.339901",
     "exception": false,
     "start_time": "2021-11-07T14:30:08.320288",
     "status": "completed"
    },
    "tags": []
   },
   "outputs": [],
   "source": [
    "import pandas as pd\n",
    "import sqlite3"
   ]
  },
  {
   "cell_type": "code",
   "execution_count": 2,
   "id": "innovative-syndrome",
   "metadata": {
    "execution": {
     "iopub.execute_input": "2021-11-07T14:30:09.401981Z",
     "iopub.status.busy": "2021-11-07T14:30:09.399672Z",
     "iopub.status.idle": "2021-11-07T14:30:10.146655Z",
     "shell.execute_reply": "2021-11-07T14:30:10.149419Z"
    },
    "papermill": {
     "duration": 0.783543,
     "end_time": "2021-11-07T14:30:10.150136",
     "exception": false,
     "start_time": "2021-11-07T14:30:09.366593",
     "status": "completed"
    },
    "tags": []
   },
   "outputs": [],
   "source": [
    "timestamps = pd.read_sql(\"select distinct record_time from EBAY_TOP_BERLIN order by record_time desc limit 2\", sqlite3.connect(\"UsedObjects.db\"))"
   ]
  },
  {
   "cell_type": "code",
   "execution_count": 3,
   "id": "periodic-identification",
   "metadata": {
    "execution": {
     "iopub.execute_input": "2021-11-07T14:30:10.220250Z",
     "iopub.status.busy": "2021-11-07T14:30:10.217791Z",
     "iopub.status.idle": "2021-11-07T14:30:10.240305Z",
     "shell.execute_reply": "2021-11-07T14:30:10.242112Z"
    },
    "papermill": {
     "duration": 0.072832,
     "end_time": "2021-11-07T14:30:10.242603",
     "exception": false,
     "start_time": "2021-11-07T14:30:10.169771",
     "status": "completed"
    },
    "tags": []
   },
   "outputs": [
    {
     "data": {
      "text/html": [
       "<div>\n",
       "<style scoped>\n",
       "    .dataframe tbody tr th:only-of-type {\n",
       "        vertical-align: middle;\n",
       "    }\n",
       "\n",
       "    .dataframe tbody tr th {\n",
       "        vertical-align: top;\n",
       "    }\n",
       "\n",
       "    .dataframe thead th {\n",
       "        text-align: right;\n",
       "    }\n",
       "</style>\n",
       "<table border=\"1\" class=\"dataframe\">\n",
       "  <thead>\n",
       "    <tr style=\"text-align: right;\">\n",
       "      <th></th>\n",
       "      <th>RECORD_TIME</th>\n",
       "    </tr>\n",
       "  </thead>\n",
       "  <tbody>\n",
       "    <tr>\n",
       "      <th>0</th>\n",
       "      <td>2021-11-07 15:30</td>\n",
       "    </tr>\n",
       "    <tr>\n",
       "      <th>1</th>\n",
       "      <td>2021-11-07 15:00</td>\n",
       "    </tr>\n",
       "  </tbody>\n",
       "</table>\n",
       "</div>"
      ],
      "text/plain": [
       "        RECORD_TIME\n",
       "0  2021-11-07 15:30\n",
       "1  2021-11-07 15:00"
      ]
     },
     "execution_count": 3,
     "metadata": {},
     "output_type": "execute_result"
    }
   ],
   "source": [
    "timestamps"
   ]
  },
  {
   "cell_type": "code",
   "execution_count": 4,
   "id": "alternate-victory",
   "metadata": {
    "execution": {
     "iopub.execute_input": "2021-11-07T14:30:10.301169Z",
     "iopub.status.busy": "2021-11-07T14:30:10.298692Z",
     "iopub.status.idle": "2021-11-07T14:30:11.364901Z",
     "shell.execute_reply": "2021-11-07T14:30:11.367172Z"
    },
    "papermill": {
     "duration": 1.103656,
     "end_time": "2021-11-07T14:30:11.367769",
     "exception": false,
     "start_time": "2021-11-07T14:30:10.264113",
     "status": "completed"
    },
    "tags": []
   },
   "outputs": [],
   "source": [
    "df = pd.read_sql(\"select * from EBAY_TOP_BERLIN where record_time in (select distinct record_time from EBAY_TOP_BERLIN order by record_time desc limit 2)\", sqlite3.connect(\"UsedObjects.db\"))"
   ]
  },
  {
   "cell_type": "code",
   "execution_count": 5,
   "id": "popular-active",
   "metadata": {
    "execution": {
     "iopub.execute_input": "2021-11-07T14:30:11.448121Z",
     "iopub.status.busy": "2021-11-07T14:30:11.433939Z",
     "iopub.status.idle": "2021-11-07T14:30:11.467089Z",
     "shell.execute_reply": "2021-11-07T14:30:11.468622Z"
    },
    "papermill": {
     "duration": 0.079287,
     "end_time": "2021-11-07T14:30:11.469208",
     "exception": false,
     "start_time": "2021-11-07T14:30:11.389921",
     "status": "completed"
    },
    "tags": []
   },
   "outputs": [],
   "source": [
    "df_pivot = df.pivot_table(index=\"PRODUCT\", columns = \"RECORD_TIME\", values = \"LISTING_COUNT\")"
   ]
  },
  {
   "cell_type": "code",
   "execution_count": 6,
   "id": "union-huntington",
   "metadata": {
    "execution": {
     "iopub.execute_input": "2021-11-07T14:30:11.533230Z",
     "iopub.status.busy": "2021-11-07T14:30:11.530963Z",
     "iopub.status.idle": "2021-11-07T14:30:11.536799Z",
     "shell.execute_reply": "2021-11-07T14:30:11.538181Z"
    },
    "papermill": {
     "duration": 0.047511,
     "end_time": "2021-11-07T14:30:11.538647",
     "exception": false,
     "start_time": "2021-11-07T14:30:11.491136",
     "status": "completed"
    },
    "tags": []
   },
   "outputs": [],
   "source": [
    "df_pivot.columns = [\"stamp_1\", \"stamp_2\"]\n",
    "df_pivot_diff = df_pivot.diff(axis=1)"
   ]
  },
  {
   "cell_type": "code",
   "execution_count": 7,
   "id": "fifth-motion",
   "metadata": {
    "execution": {
     "iopub.execute_input": "2021-11-07T14:30:11.604273Z",
     "iopub.status.busy": "2021-11-07T14:30:11.592267Z",
     "iopub.status.idle": "2021-11-07T14:30:13.377608Z",
     "shell.execute_reply": "2021-11-07T14:30:13.380470Z"
    },
    "papermill": {
     "duration": 1.822699,
     "end_time": "2021-11-07T14:30:13.381382",
     "exception": false,
     "start_time": "2021-11-07T14:30:11.558683",
     "status": "completed"
    },
    "tags": []
   },
   "outputs": [
    {
     "data": {
      "text/plain": [
       "<AxesSubplot:ylabel='PRODUCT'>"
      ]
     },
     "execution_count": 7,
     "metadata": {},
     "output_type": "execute_result"
    },
    {
     "data": {
      "image/png": "[encoded data removed]",
      "text/plain": [
       "<Figure size 432x288 with 1 Axes>"
      ]
     },
     "metadata": {
      "needs_background": "light"
     },
     "output_type": "display_data"
    }
   ],
   "source": [
    "df_pivot_diff.sort_values(\"stamp_2\", ascending = False)[\"stamp_2\"].head(10).plot.barh()"
   ]
  },
  {
   "cell_type": "code",
   "execution_count": null,
   "id": "extra-executive",
   "metadata": {
    "papermill": {
     "duration": 0.034131,
     "end_time": "2021-11-07T14:30:13.452954",
     "exception": false,
     "start_time": "2021-11-07T14:30:13.418823",
     "status": "completed"
    },
    "tags": []
   },
   "outputs": [],
   "source": []
  }
 ],
 "metadata": {
  "kernelspec": {
   "display_name": "Python 3",
   "language": "python",
   "name": "python3"
  },
  "language_info": {
   "codemirror_mode": {
    "name": "ipython",
    "version": 3
   },
   "file_extension": ".py",
   "mimetype": "text/x-python",
   "name": "python",
   "nbconvert_exporter": "python",
   "pygments_lexer": "ipython3",
   "version": "3.9.5"
  },
  "papermill": {
   "default_parameters": {},
   "duration": 8.750784,
   "end_time": "2021-11-07T14:30:14.322954",
   "environment_variables": {},
   "exception": null,
   "input_path": "eBay_Overview.ipynb",
   "output_path": "eBay_Overview.ipynb",
   "parameters": {},
   "start_time": "2021-11-07T14:30:05.572170",
   "version": "2.3.3"
  }
 },
 "nbformat": 4,
 "nbformat_minor": 5
}