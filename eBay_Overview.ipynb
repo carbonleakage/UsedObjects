{
 "cells": [
  {
   "cell_type": "code",
   "execution_count": 1,
   "id": "reverse-picking",
   "metadata": {
    "execution": {
     "iopub.execute_input": "2021-10-10T17:30:06.744811Z",
     "iopub.status.busy": "2021-10-10T17:30:06.742841Z",
     "iopub.status.idle": "2021-10-10T17:30:07.556077Z",
     "shell.execute_reply": "2021-10-10T17:30:07.557344Z"
    },
    "papermill": {
     "duration": 0.864185,
     "end_time": "2021-10-10T17:30:07.557986",
     "exception": false,
     "start_time": "2021-10-10T17:30:06.693801",
     "status": "completed"
    },
    "tags": []
   },
   "outputs": [],
   "source": [
    "import pandas as pd\n",
    "import sqlite3"
   ]
  },
  {
   "cell_type": "code",
   "execution_count": 2,
   "id": "innovative-syndrome",
   "metadata": {
    "execution": {
     "iopub.execute_input": "2021-10-10T17:30:07.609727Z",
     "iopub.status.busy": "2021-10-10T17:30:07.607559Z",
     "iopub.status.idle": "2021-10-10T17:30:08.106852Z",
     "shell.execute_reply": "2021-10-10T17:30:08.108241Z"
    },
    "papermill": {
     "duration": 0.529336,
     "end_time": "2021-10-10T17:30:08.108665",
     "exception": false,
     "start_time": "2021-10-10T17:30:07.579329",
     "status": "completed"
    },
    "tags": []
   },
   "outputs": [],
   "source": [
    "timestamps = pd.read_sql(\"select distinct record_time from EBAY_TOP_BERLIN order by record_time desc limit 2\", sqlite3.connect(\"UsedObjects.db\"))"
   ]
  },
  {
   "cell_type": "code",
   "execution_count": 3,
   "id": "periodic-identification",
   "metadata": {
    "execution": {
     "iopub.execute_input": "2021-10-10T17:30:08.185885Z",
     "iopub.status.busy": "2021-10-10T17:30:08.180634Z",
     "iopub.status.idle": "2021-10-10T17:30:08.202708Z",
     "shell.execute_reply": "2021-10-10T17:30:08.204315Z"
    },
    "papermill": {
     "duration": 0.071128,
     "end_time": "2021-10-10T17:30:08.204837",
     "exception": false,
     "start_time": "2021-10-10T17:30:08.133709",
     "status": "completed"
    },
    "tags": []
   },
   "outputs": [
    {
     "data": {
      "text/html": [
       "<div>\n",
       "<style scoped>\n",
       "    .dataframe tbody tr th:only-of-type {\n",
       "        vertical-align: middle;\n",
       "    }\n",
       "\n",
       "    .dataframe tbody tr th {\n",
       "        vertical-align: top;\n",
       "    }\n",
       "\n",
       "    .dataframe thead th {\n",
       "        text-align: right;\n",
       "    }\n",
       "</style>\n",
       "<table border=\"1\" class=\"dataframe\">\n",
       "  <thead>\n",
       "    <tr style=\"text-align: right;\">\n",
       "      <th></th>\n",
       "      <th>RECORD_TIME</th>\n",
       "    </tr>\n",
       "  </thead>\n",
       "  <tbody>\n",
       "    <tr>\n",
       "      <th>0</th>\n",
       "      <td>2021-10-10 19:30</td>\n",
       "    </tr>\n",
       "    <tr>\n",
       "      <th>1</th>\n",
       "      <td>2021-10-10 19:00</td>\n",
       "    </tr>\n",
       "  </tbody>\n",
       "</table>\n",
       "</div>"
      ],
      "text/plain": [
       "        RECORD_TIME\n",
       "0  2021-10-10 19:30\n",
       "1  2021-10-10 19:00"
      ]
     },
     "execution_count": 3,
     "metadata": {},
     "output_type": "execute_result"
    }
   ],
   "source": [
    "timestamps"
   ]
  },
  {
   "cell_type": "code",
   "execution_count": 4,
   "id": "alternate-victory",
   "metadata": {
    "execution": {
     "iopub.execute_input": "2021-10-10T17:30:08.258200Z",
     "iopub.status.busy": "2021-10-10T17:30:08.256285Z",
     "iopub.status.idle": "2021-10-10T17:30:09.004994Z",
     "shell.execute_reply": "2021-10-10T17:30:09.006905Z"
    },
    "papermill": {
     "duration": 0.780303,
     "end_time": "2021-10-10T17:30:09.007477",
     "exception": false,
     "start_time": "2021-10-10T17:30:08.227174",
     "status": "completed"
    },
    "tags": []
   },
   "outputs": [],
   "source": [
    "df = pd.read_sql(\"select * from EBAY_TOP_BERLIN where record_time in (select distinct record_time from EBAY_TOP_BERLIN order by record_time desc limit 2)\", sqlite3.connect(\"UsedObjects.db\"))"
   ]
  },
  {
   "cell_type": "code",
   "execution_count": 5,
   "id": "popular-active",
   "metadata": {
    "execution": {
     "iopub.execute_input": "2021-10-10T17:30:09.135513Z",
     "iopub.status.busy": "2021-10-10T17:30:09.106132Z",
     "iopub.status.idle": "2021-10-10T17:30:09.151937Z",
     "shell.execute_reply": "2021-10-10T17:30:09.148215Z"
    },
    "papermill": {
     "duration": 0.121761,
     "end_time": "2021-10-10T17:30:09.152848",
     "exception": false,
     "start_time": "2021-10-10T17:30:09.031087",
     "status": "completed"
    },
    "tags": []
   },
   "outputs": [],
   "source": [
    "df_pivot = df.pivot_table(index=\"PRODUCT\", columns = \"RECORD_TIME\", values = \"LISTING_COUNT\")"
   ]
  },
  {
   "cell_type": "code",
   "execution_count": 6,
   "id": "union-huntington",
   "metadata": {
    "execution": {
     "iopub.execute_input": "2021-10-10T17:30:09.239598Z",
     "iopub.status.busy": "2021-10-10T17:30:09.234863Z",
     "iopub.status.idle": "2021-10-10T17:30:09.264647Z",
     "shell.execute_reply": "2021-10-10T17:30:09.267183Z"
    },
    "papermill": {
     "duration": 0.07521,
     "end_time": "2021-10-10T17:30:09.267976",
     "exception": false,
     "start_time": "2021-10-10T17:30:09.192766",
     "status": "completed"
    },
    "tags": []
   },
   "outputs": [],
   "source": [
    "df_pivot.columns = [\"stamp_1\", \"stamp_2\"]\n",
    "df_pivot_diff = df_pivot.diff(axis=1)"
   ]
  },
  {
   "cell_type": "code",
   "execution_count": 7,
   "id": "fifth-motion",
   "metadata": {
    "execution": {
     "iopub.execute_input": "2021-10-10T17:30:09.342842Z",
     "iopub.status.busy": "2021-10-10T17:30:09.340345Z",
     "iopub.status.idle": "2021-10-10T17:30:11.078588Z",
     "shell.execute_reply": "2021-10-10T17:30:11.079941Z"
    },
    "papermill": {
     "duration": 1.780976,
     "end_time": "2021-10-10T17:30:11.080362",
     "exception": false,
     "start_time": "2021-10-10T17:30:09.299386",
     "status": "completed"
    },
    "tags": []
   },
   "outputs": [
    {
     "data": {
      "text/plain": [
       "<AxesSubplot:ylabel='PRODUCT'>"
      ]
     },
     "execution_count": 7,
     "metadata": {},
     "output_type": "execute_result"
    },
    {
     "data": {
      "image/png": "[encoded data removed]",
      "text/plain": [
       "<Figure size 432x288 with 1 Axes>"
      ]
     },
     "metadata": {
      "needs_background": "light"
     },
     "output_type": "display_data"
    }
   ],
   "source": [
    "df_pivot_diff.sort_values(\"stamp_2\", ascending = False)[\"stamp_2\"].head(10).plot.barh()"
   ]
  },
  {
   "cell_type": "code",
   "execution_count": null,
   "id": "extra-executive",
   "metadata": {
    "papermill": {
     "duration": 0.022341,
     "end_time": "2021-10-10T17:30:11.128118",
     "exception": false,
     "start_time": "2021-10-10T17:30:11.105777",
     "status": "completed"
    },
    "tags": []
   },
   "outputs": [],
   "source": []
  }
 ],
 "metadata": {
  "kernelspec": {
   "display_name": "Python 3",
   "language": "python",
   "name": "python3"
  },
  "language_info": {
   "codemirror_mode": {
    "name": "ipython",
    "version": 3
   },
   "file_extension": ".py",
   "mimetype": "text/x-python",
   "name": "python",
   "nbconvert_exporter": "python",
   "pygments_lexer": "ipython3",
   "version": "3.9.5"
  },
  "papermill": {
   "default_parameters": {},
   "duration": 7.535523,
   "end_time": "2021-10-10T17:30:11.769097",
   "environment_variables": {},
   "exception": null,
   "input_path": "eBay_Overview.ipynb",
   "output_path": "eBay_Overview.ipynb",
   "parameters": {},
   "start_time": "2021-10-10T17:30:04.233574",
   "version": "2.3.3"
  }
 },
 "nbformat": 4,
 "nbformat_minor": 5
}