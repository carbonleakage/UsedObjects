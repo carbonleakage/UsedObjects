{
 "cells": [
  {
   "cell_type": "code",
   "execution_count": 1,
   "id": "reverse-picking",
   "metadata": {
    "execution": {
     "iopub.execute_input": "2021-08-24T18:00:07.723177Z",
     "iopub.status.busy": "2021-08-24T18:00:07.721137Z",
     "iopub.status.idle": "2021-08-24T18:00:08.528441Z",
     "shell.execute_reply": "2021-08-24T18:00:08.529700Z"
    },
    "papermill": {
     "duration": 0.857204,
     "end_time": "2021-08-24T18:00:08.530533",
     "exception": false,
     "start_time": "2021-08-24T18:00:07.673329",
     "status": "completed"
    },
    "tags": []
   },
   "outputs": [],
   "source": [
    "import pandas as pd\n",
    "import sqlite3"
   ]
  },
  {
   "cell_type": "code",
   "execution_count": 2,
   "id": "innovative-syndrome",
   "metadata": {
    "execution": {
     "iopub.execute_input": "2021-08-24T18:00:08.583193Z",
     "iopub.status.busy": "2021-08-24T18:00:08.580750Z",
     "iopub.status.idle": "2021-08-24T18:00:08.703760Z",
     "shell.execute_reply": "2021-08-24T18:00:08.704948Z"
    },
    "papermill": {
     "duration": 0.152737,
     "end_time": "2021-08-24T18:00:08.705343",
     "exception": false,
     "start_time": "2021-08-24T18:00:08.552606",
     "status": "completed"
    },
    "tags": []
   },
   "outputs": [],
   "source": [
    "timestamps = pd.read_sql(\"select distinct record_time from EBAY_TOP_BERLIN order by record_time desc limit 2\", sqlite3.connect(\"UsedObjects.db\"))"
   ]
  },
  {
   "cell_type": "code",
   "execution_count": 3,
   "id": "periodic-identification",
   "metadata": {
    "execution": {
     "iopub.execute_input": "2021-08-24T18:00:08.770282Z",
     "iopub.status.busy": "2021-08-24T18:00:08.768181Z",
     "iopub.status.idle": "2021-08-24T18:00:08.788200Z",
     "shell.execute_reply": "2021-08-24T18:00:08.789485Z"
    },
    "papermill": {
     "duration": 0.063591,
     "end_time": "2021-08-24T18:00:08.789901",
     "exception": false,
     "start_time": "2021-08-24T18:00:08.726310",
     "status": "completed"
    },
    "tags": []
   },
   "outputs": [
    {
     "data": {
      "text/html": [
       "<div>\n",
       "<style scoped>\n",
       "    .dataframe tbody tr th:only-of-type {\n",
       "        vertical-align: middle;\n",
       "    }\n",
       "\n",
       "    .dataframe tbody tr th {\n",
       "        vertical-align: top;\n",
       "    }\n",
       "\n",
       "    .dataframe thead th {\n",
       "        text-align: right;\n",
       "    }\n",
       "</style>\n",
       "<table border=\"1\" class=\"dataframe\">\n",
       "  <thead>\n",
       "    <tr style=\"text-align: right;\">\n",
       "      <th></th>\n",
       "      <th>RECORD_TIME</th>\n",
       "    </tr>\n",
       "  </thead>\n",
       "  <tbody>\n",
       "    <tr>\n",
       "      <th>0</th>\n",
       "      <td>2021-08-24 20:00</td>\n",
       "    </tr>\n",
       "    <tr>\n",
       "      <th>1</th>\n",
       "      <td>2021-08-24 19:30</td>\n",
       "    </tr>\n",
       "  </tbody>\n",
       "</table>\n",
       "</div>"
      ],
      "text/plain": [
       "        RECORD_TIME\n",
       "0  2021-08-24 20:00\n",
       "1  2021-08-24 19:30"
      ]
     },
     "execution_count": 3,
     "metadata": {},
     "output_type": "execute_result"
    }
   ],
   "source": [
    "timestamps"
   ]
  },
  {
   "cell_type": "code",
   "execution_count": 4,
   "id": "alternate-victory",
   "metadata": {
    "execution": {
     "iopub.execute_input": "2021-08-24T18:00:08.841089Z",
     "iopub.status.busy": "2021-08-24T18:00:08.839266Z",
     "iopub.status.idle": "2021-08-24T18:00:09.020385Z",
     "shell.execute_reply": "2021-08-24T18:00:09.021513Z"
    },
    "papermill": {
     "duration": 0.210926,
     "end_time": "2021-08-24T18:00:09.022091",
     "exception": false,
     "start_time": "2021-08-24T18:00:08.811165",
     "status": "completed"
    },
    "tags": []
   },
   "outputs": [],
   "source": [
    "df = pd.read_sql(\"select * from EBAY_TOP_BERLIN where record_time in (select distinct record_time from EBAY_TOP_BERLIN order by record_time desc limit 2)\", sqlite3.connect(\"UsedObjects.db\"))"
   ]
  },
  {
   "cell_type": "code",
   "execution_count": 5,
   "id": "popular-active",
   "metadata": {
    "execution": {
     "iopub.execute_input": "2021-08-24T18:00:09.096276Z",
     "iopub.status.busy": "2021-08-24T18:00:09.089379Z",
     "iopub.status.idle": "2021-08-24T18:00:09.113277Z",
     "shell.execute_reply": "2021-08-24T18:00:09.114984Z"
    },
    "papermill": {
     "duration": 0.070784,
     "end_time": "2021-08-24T18:00:09.115465",
     "exception": false,
     "start_time": "2021-08-24T18:00:09.044681",
     "status": "completed"
    },
    "tags": []
   },
   "outputs": [],
   "source": [
    "df_pivot = df.pivot_table(index=\"PRODUCT\", columns = \"RECORD_TIME\", values = \"LISTING_COUNT\")"
   ]
  },
  {
   "cell_type": "code",
   "execution_count": 6,
   "id": "union-huntington",
   "metadata": {
    "execution": {
     "iopub.execute_input": "2021-08-24T18:00:09.184312Z",
     "iopub.status.busy": "2021-08-24T18:00:09.181833Z",
     "iopub.status.idle": "2021-08-24T18:00:09.187977Z",
     "shell.execute_reply": "2021-08-24T18:00:09.189333Z"
    },
    "papermill": {
     "duration": 0.046607,
     "end_time": "2021-08-24T18:00:09.189767",
     "exception": false,
     "start_time": "2021-08-24T18:00:09.143160",
     "status": "completed"
    },
    "tags": []
   },
   "outputs": [],
   "source": [
    "df_pivot.columns = [\"stamp_1\", \"stamp_2\"]\n",
    "df_pivot_diff = df_pivot.diff(axis=1)"
   ]
  },
  {
   "cell_type": "code",
   "execution_count": 7,
   "id": "fifth-motion",
   "metadata": {
    "execution": {
     "iopub.execute_input": "2021-08-24T18:00:09.244678Z",
     "iopub.status.busy": "2021-08-24T18:00:09.242271Z",
     "iopub.status.idle": "2021-08-24T18:00:10.741161Z",
     "shell.execute_reply": "2021-08-24T18:00:10.742526Z"
    },
    "papermill": {
     "duration": 1.531571,
     "end_time": "2021-08-24T18:00:10.742955",
     "exception": false,
     "start_time": "2021-08-24T18:00:09.211384",
     "status": "completed"
    },
    "tags": []
   },
   "outputs": [
    {
     "data": {
      "text/plain": [
       "<AxesSubplot:ylabel='PRODUCT'>"
      ]
     },
     "execution_count": 7,
     "metadata": {},
     "output_type": "execute_result"
    },
    {
     "data": {
      "image/png": "[encoded data removed]",
      "text/plain": [
       "<Figure size 432x288 with 1 Axes>"
      ]
     },
     "metadata": {
      "needs_background": "light"
     },
     "output_type": "display_data"
    }
   ],
   "source": [
    "df_pivot_diff.sort_values(\"stamp_2\", ascending = False)[\"stamp_2\"].head(10).plot.barh()"
   ]
  },
  {
   "cell_type": "code",
   "execution_count": null,
   "id": "extra-executive",
   "metadata": {
    "papermill": {
     "duration": 0.02218,
     "end_time": "2021-08-24T18:00:10.789790",
     "exception": false,
     "start_time": "2021-08-24T18:00:10.767610",
     "status": "completed"
    },
    "tags": []
   },
   "outputs": [],
   "source": []
  }
 ],
 "metadata": {
  "kernelspec": {
   "display_name": "Python 3",
   "language": "python",
   "name": "python3"
  },
  "language_info": {
   "codemirror_mode": {
    "name": "ipython",
    "version": 3
   },
   "file_extension": ".py",
   "mimetype": "text/x-python",
   "name": "python",
   "nbconvert_exporter": "python",
   "pygments_lexer": "ipython3",
   "version": "3.9.5"
  },
  "papermill": {
   "default_parameters": {},
   "duration": 6.826977,
   "end_time": "2021-08-24T18:00:12.082898",
   "environment_variables": {},
   "exception": null,
   "input_path": "eBay_Overview.ipynb",
   "output_path": "eBay_Overview.ipynb",
   "parameters": {},
   "start_time": "2021-08-24T18:00:05.255921",
   "version": "2.3.3"
  }
 },
 "nbformat": 4,
 "nbformat_minor": 5
}