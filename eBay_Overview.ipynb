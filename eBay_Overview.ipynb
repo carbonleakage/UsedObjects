{
 "cells": [
  {
   "cell_type": "code",
   "execution_count": 1,
   "id": "reverse-picking",
   "metadata": {
    "execution": {
     "iopub.execute_input": "2021-08-19T03:30:06.718692Z",
     "iopub.status.busy": "2021-08-19T03:30:06.716650Z",
     "iopub.status.idle": "2021-08-19T03:30:07.522659Z",
     "shell.execute_reply": "2021-08-19T03:30:07.524016Z"
    },
    "papermill": {
     "duration": 0.857674,
     "end_time": "2021-08-19T03:30:07.524648",
     "exception": false,
     "start_time": "2021-08-19T03:30:06.666974",
     "status": "completed"
    },
    "tags": []
   },
   "outputs": [],
   "source": [
    "import pandas as pd\n",
    "import sqlite3"
   ]
  },
  {
   "cell_type": "code",
   "execution_count": 2,
   "id": "innovative-syndrome",
   "metadata": {
    "execution": {
     "iopub.execute_input": "2021-08-19T03:30:07.574568Z",
     "iopub.status.busy": "2021-08-19T03:30:07.572614Z",
     "iopub.status.idle": "2021-08-19T03:30:07.652054Z",
     "shell.execute_reply": "2021-08-19T03:30:07.653254Z"
    },
    "papermill": {
     "duration": 0.108746,
     "end_time": "2021-08-19T03:30:07.653646",
     "exception": false,
     "start_time": "2021-08-19T03:30:07.544900",
     "status": "completed"
    },
    "tags": []
   },
   "outputs": [],
   "source": [
    "timestamps = pd.read_sql(\"select distinct record_time from EBAY_TOP_BERLIN order by record_time desc limit 2\", sqlite3.connect(\"UsedObjects.db\"))"
   ]
  },
  {
   "cell_type": "code",
   "execution_count": 3,
   "id": "periodic-identification",
   "metadata": {
    "execution": {
     "iopub.execute_input": "2021-08-19T03:30:07.719869Z",
     "iopub.status.busy": "2021-08-19T03:30:07.714717Z",
     "iopub.status.idle": "2021-08-19T03:30:07.736921Z",
     "shell.execute_reply": "2021-08-19T03:30:07.735452Z"
    },
    "papermill": {
     "duration": 0.064191,
     "end_time": "2021-08-19T03:30:07.737288",
     "exception": false,
     "start_time": "2021-08-19T03:30:07.673097",
     "status": "completed"
    },
    "tags": []
   },
   "outputs": [
    {
     "data": {
      "text/html": [
       "<div>\n",
       "<style scoped>\n",
       "    .dataframe tbody tr th:only-of-type {\n",
       "        vertical-align: middle;\n",
       "    }\n",
       "\n",
       "    .dataframe tbody tr th {\n",
       "        vertical-align: top;\n",
       "    }\n",
       "\n",
       "    .dataframe thead th {\n",
       "        text-align: right;\n",
       "    }\n",
       "</style>\n",
       "<table border=\"1\" class=\"dataframe\">\n",
       "  <thead>\n",
       "    <tr style=\"text-align: right;\">\n",
       "      <th></th>\n",
       "      <th>RECORD_TIME</th>\n",
       "    </tr>\n",
       "  </thead>\n",
       "  <tbody>\n",
       "    <tr>\n",
       "      <th>0</th>\n",
       "      <td>2021-08-19 05:30</td>\n",
       "    </tr>\n",
       "    <tr>\n",
       "      <th>1</th>\n",
       "      <td>2021-08-19 05:00</td>\n",
       "    </tr>\n",
       "  </tbody>\n",
       "</table>\n",
       "</div>"
      ],
      "text/plain": [
       "        RECORD_TIME\n",
       "0  2021-08-19 05:30\n",
       "1  2021-08-19 05:00"
      ]
     },
     "execution_count": 3,
     "metadata": {},
     "output_type": "execute_result"
    }
   ],
   "source": [
    "timestamps"
   ]
  },
  {
   "cell_type": "code",
   "execution_count": 4,
   "id": "alternate-victory",
   "metadata": {
    "execution": {
     "iopub.execute_input": "2021-08-19T03:30:07.790037Z",
     "iopub.status.busy": "2021-08-19T03:30:07.787703Z",
     "iopub.status.idle": "2021-08-19T03:30:07.907569Z",
     "shell.execute_reply": "2021-08-19T03:30:07.908843Z"
    },
    "papermill": {
     "duration": 0.150157,
     "end_time": "2021-08-19T03:30:07.909247",
     "exception": false,
     "start_time": "2021-08-19T03:30:07.759090",
     "status": "completed"
    },
    "tags": []
   },
   "outputs": [],
   "source": [
    "df = pd.read_sql(\"select * from EBAY_TOP_BERLIN where record_time in (select distinct record_time from EBAY_TOP_BERLIN order by record_time desc limit 2)\", sqlite3.connect(\"UsedObjects.db\"))"
   ]
  },
  {
   "cell_type": "code",
   "execution_count": 5,
   "id": "popular-active",
   "metadata": {
    "execution": {
     "iopub.execute_input": "2021-08-19T03:30:07.979361Z",
     "iopub.status.busy": "2021-08-19T03:30:07.968042Z",
     "iopub.status.idle": "2021-08-19T03:30:07.995735Z",
     "shell.execute_reply": "2021-08-19T03:30:07.996936Z"
    },
    "papermill": {
     "duration": 0.067563,
     "end_time": "2021-08-19T03:30:07.997330",
     "exception": false,
     "start_time": "2021-08-19T03:30:07.929767",
     "status": "completed"
    },
    "tags": []
   },
   "outputs": [],
   "source": [
    "df_pivot = df.pivot_table(index=\"PRODUCT\", columns = \"RECORD_TIME\", values = \"LISTING_COUNT\")"
   ]
  },
  {
   "cell_type": "code",
   "execution_count": 6,
   "id": "union-huntington",
   "metadata": {
    "execution": {
     "iopub.execute_input": "2021-08-19T03:30:08.053505Z",
     "iopub.status.busy": "2021-08-19T03:30:08.051211Z",
     "iopub.status.idle": "2021-08-19T03:30:08.058359Z",
     "shell.execute_reply": "2021-08-19T03:30:08.056894Z"
    },
    "papermill": {
     "duration": 0.041526,
     "end_time": "2021-08-19T03:30:08.058716",
     "exception": false,
     "start_time": "2021-08-19T03:30:08.017190",
     "status": "completed"
    },
    "tags": []
   },
   "outputs": [],
   "source": [
    "df_pivot.columns = [\"stamp_1\", \"stamp_2\"]\n",
    "df_pivot_diff = df_pivot.diff(axis=1)"
   ]
  },
  {
   "cell_type": "code",
   "execution_count": 7,
   "id": "fifth-motion",
   "metadata": {
    "execution": {
     "iopub.execute_input": "2021-08-19T03:30:08.113458Z",
     "iopub.status.busy": "2021-08-19T03:30:08.111198Z",
     "iopub.status.idle": "2021-08-19T03:30:09.587845Z",
     "shell.execute_reply": "2021-08-19T03:30:09.589309Z"
    },
    "papermill": {
     "duration": 1.510217,
     "end_time": "2021-08-19T03:30:09.589774",
     "exception": false,
     "start_time": "2021-08-19T03:30:08.079557",
     "status": "completed"
    },
    "tags": []
   },
   "outputs": [
    {
     "data": {
      "text/plain": [
       "<AxesSubplot:ylabel='PRODUCT'>"
      ]
     },
     "execution_count": 7,
     "metadata": {},
     "output_type": "execute_result"
    },
    {
     "data": {
      "image/png": "[encoded data removed]",
      "text/plain": [
       "<Figure size 432x288 with 1 Axes>"
      ]
     },
     "metadata": {
      "needs_background": "light"
     },
     "output_type": "display_data"
    }
   ],
   "source": [
    "df_pivot_diff.sort_values(\"stamp_2\", ascending = False)[\"stamp_2\"].head(10).plot.barh()"
   ]
  },
  {
   "cell_type": "code",
   "execution_count": null,
   "id": "extra-executive",
   "metadata": {
    "papermill": {
     "duration": 0.022131,
     "end_time": "2021-08-19T03:30:09.636508",
     "exception": false,
     "start_time": "2021-08-19T03:30:09.614377",
     "status": "completed"
    },
    "tags": []
   },
   "outputs": [],
   "source": []
  }
 ],
 "metadata": {
  "kernelspec": {
   "display_name": "Python 3",
   "language": "python",
   "name": "python3"
  },
  "language_info": {
   "codemirror_mode": {
    "name": "ipython",
    "version": 3
   },
   "file_extension": ".py",
   "mimetype": "text/x-python",
   "name": "python",
   "nbconvert_exporter": "python",
   "pygments_lexer": "ipython3",
   "version": "3.9.5"
  },
  "papermill": {
   "default_parameters": {},
   "duration": 6.828257,
   "end_time": "2021-08-19T03:30:11.082676",
   "environment_variables": {},
   "exception": null,
   "input_path": "eBay_Overview.ipynb",
   "output_path": "eBay_Overview.ipynb",
   "parameters": {},
   "start_time": "2021-08-19T03:30:04.254419",
   "version": "2.3.3"
  }
 },
 "nbformat": 4,
 "nbformat_minor": 5
}