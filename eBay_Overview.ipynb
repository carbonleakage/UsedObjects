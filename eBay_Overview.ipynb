{
 "cells": [
  {
   "cell_type": "code",
   "execution_count": 1,
   "id": "reverse-picking",
   "metadata": {
    "execution": {
     "iopub.execute_input": "2021-09-07T16:00:06.596727Z",
     "iopub.status.busy": "2021-09-07T16:00:06.594671Z",
     "iopub.status.idle": "2021-09-07T16:00:07.405624Z",
     "shell.execute_reply": "2021-09-07T16:00:07.406996Z"
    },
    "papermill": {
     "duration": 0.862721,
     "end_time": "2021-09-07T16:00:07.407723",
     "exception": false,
     "start_time": "2021-09-07T16:00:06.545002",
     "status": "completed"
    },
    "tags": []
   },
   "outputs": [],
   "source": [
    "import pandas as pd\n",
    "import sqlite3"
   ]
  },
  {
   "cell_type": "code",
   "execution_count": 2,
   "id": "innovative-syndrome",
   "metadata": {
    "execution": {
     "iopub.execute_input": "2021-09-07T16:00:07.460306Z",
     "iopub.status.busy": "2021-09-07T16:00:07.457916Z",
     "iopub.status.idle": "2021-09-07T16:00:07.684698Z",
     "shell.execute_reply": "2021-09-07T16:00:07.685987Z"
    },
    "papermill": {
     "duration": 0.25665,
     "end_time": "2021-09-07T16:00:07.686404",
     "exception": false,
     "start_time": "2021-09-07T16:00:07.429754",
     "status": "completed"
    },
    "tags": []
   },
   "outputs": [],
   "source": [
    "timestamps = pd.read_sql(\"select distinct record_time from EBAY_TOP_BERLIN order by record_time desc limit 2\", sqlite3.connect(\"UsedObjects.db\"))"
   ]
  },
  {
   "cell_type": "code",
   "execution_count": 3,
   "id": "periodic-identification",
   "metadata": {
    "execution": {
     "iopub.execute_input": "2021-09-07T16:00:07.752488Z",
     "iopub.status.busy": "2021-09-07T16:00:07.750372Z",
     "iopub.status.idle": "2021-09-07T16:00:07.770758Z",
     "shell.execute_reply": "2021-09-07T16:00:07.772063Z"
    },
    "papermill": {
     "duration": 0.067075,
     "end_time": "2021-09-07T16:00:07.772500",
     "exception": false,
     "start_time": "2021-09-07T16:00:07.705425",
     "status": "completed"
    },
    "tags": []
   },
   "outputs": [
    {
     "data": {
      "text/html": [
       "<div>\n",
       "<style scoped>\n",
       "    .dataframe tbody tr th:only-of-type {\n",
       "        vertical-align: middle;\n",
       "    }\n",
       "\n",
       "    .dataframe tbody tr th {\n",
       "        vertical-align: top;\n",
       "    }\n",
       "\n",
       "    .dataframe thead th {\n",
       "        text-align: right;\n",
       "    }\n",
       "</style>\n",
       "<table border=\"1\" class=\"dataframe\">\n",
       "  <thead>\n",
       "    <tr style=\"text-align: right;\">\n",
       "      <th></th>\n",
       "      <th>RECORD_TIME</th>\n",
       "    </tr>\n",
       "  </thead>\n",
       "  <tbody>\n",
       "    <tr>\n",
       "      <th>0</th>\n",
       "      <td>2021-09-07 18:00</td>\n",
       "    </tr>\n",
       "    <tr>\n",
       "      <th>1</th>\n",
       "      <td>2021-09-07 17:30</td>\n",
       "    </tr>\n",
       "  </tbody>\n",
       "</table>\n",
       "</div>"
      ],
      "text/plain": [
       "        RECORD_TIME\n",
       "0  2021-09-07 18:00\n",
       "1  2021-09-07 17:30"
      ]
     },
     "execution_count": 3,
     "metadata": {},
     "output_type": "execute_result"
    }
   ],
   "source": [
    "timestamps"
   ]
  },
  {
   "cell_type": "code",
   "execution_count": 4,
   "id": "alternate-victory",
   "metadata": {
    "execution": {
     "iopub.execute_input": "2021-09-07T16:00:07.825496Z",
     "iopub.status.busy": "2021-09-07T16:00:07.823353Z",
     "iopub.status.idle": "2021-09-07T16:00:08.159622Z",
     "shell.execute_reply": "2021-09-07T16:00:08.160846Z"
    },
    "papermill": {
     "duration": 0.366242,
     "end_time": "2021-09-07T16:00:08.161240",
     "exception": false,
     "start_time": "2021-09-07T16:00:07.794998",
     "status": "completed"
    },
    "tags": []
   },
   "outputs": [],
   "source": [
    "df = pd.read_sql(\"select * from EBAY_TOP_BERLIN where record_time in (select distinct record_time from EBAY_TOP_BERLIN order by record_time desc limit 2)\", sqlite3.connect(\"UsedObjects.db\"))"
   ]
  },
  {
   "cell_type": "code",
   "execution_count": 5,
   "id": "popular-active",
   "metadata": {
    "execution": {
     "iopub.execute_input": "2021-09-07T16:00:08.242922Z",
     "iopub.status.busy": "2021-09-07T16:00:08.231414Z",
     "iopub.status.idle": "2021-09-07T16:00:08.260527Z",
     "shell.execute_reply": "2021-09-07T16:00:08.261913Z"
    },
    "papermill": {
     "duration": 0.074204,
     "end_time": "2021-09-07T16:00:08.262348",
     "exception": false,
     "start_time": "2021-09-07T16:00:08.188144",
     "status": "completed"
    },
    "tags": []
   },
   "outputs": [],
   "source": [
    "df_pivot = df.pivot_table(index=\"PRODUCT\", columns = \"RECORD_TIME\", values = \"LISTING_COUNT\")"
   ]
  },
  {
   "cell_type": "code",
   "execution_count": 6,
   "id": "union-huntington",
   "metadata": {
    "execution": {
     "iopub.execute_input": "2021-09-07T16:00:08.318977Z",
     "iopub.status.busy": "2021-09-07T16:00:08.316638Z",
     "iopub.status.idle": "2021-09-07T16:00:08.322445Z",
     "shell.execute_reply": "2021-09-07T16:00:08.323820Z"
    },
    "papermill": {
     "duration": 0.041998,
     "end_time": "2021-09-07T16:00:08.324248",
     "exception": false,
     "start_time": "2021-09-07T16:00:08.282250",
     "status": "completed"
    },
    "tags": []
   },
   "outputs": [],
   "source": [
    "df_pivot.columns = [\"stamp_1\", \"stamp_2\"]\n",
    "df_pivot_diff = df_pivot.diff(axis=1)"
   ]
  },
  {
   "cell_type": "code",
   "execution_count": 7,
   "id": "fifth-motion",
   "metadata": {
    "execution": {
     "iopub.execute_input": "2021-09-07T16:00:08.378144Z",
     "iopub.status.busy": "2021-09-07T16:00:08.375836Z",
     "iopub.status.idle": "2021-09-07T16:00:09.892545Z",
     "shell.execute_reply": "2021-09-07T16:00:09.893820Z"
    },
    "papermill": {
     "duration": 1.549611,
     "end_time": "2021-09-07T16:00:09.894238",
     "exception": false,
     "start_time": "2021-09-07T16:00:08.344627",
     "status": "completed"
    },
    "tags": []
   },
   "outputs": [
    {
     "data": {
      "text/plain": [
       "<AxesSubplot:ylabel='PRODUCT'>"
      ]
     },
     "execution_count": 7,
     "metadata": {},
     "output_type": "execute_result"
    },
    {
     "data": {
      "image/png": "[encoded data removed]",
      "text/plain": [
       "<Figure size 432x288 with 1 Axes>"
      ]
     },
     "metadata": {
      "needs_background": "light"
     },
     "output_type": "display_data"
    }
   ],
   "source": [
    "df_pivot_diff.sort_values(\"stamp_2\", ascending = False)[\"stamp_2\"].head(10).plot.barh()"
   ]
  },
  {
   "cell_type": "code",
   "execution_count": null,
   "id": "extra-executive",
   "metadata": {
    "papermill": {
     "duration": 0.021906,
     "end_time": "2021-09-07T16:00:09.939655",
     "exception": false,
     "start_time": "2021-09-07T16:00:09.917749",
     "status": "completed"
    },
    "tags": []
   },
   "outputs": [],
   "source": []
  }
 ],
 "metadata": {
  "kernelspec": {
   "display_name": "Python 3",
   "language": "python",
   "name": "python3"
  },
  "language_info": {
   "codemirror_mode": {
    "name": "ipython",
    "version": 3
   },
   "file_extension": ".py",
   "mimetype": "text/x-python",
   "name": "python",
   "nbconvert_exporter": "python",
   "pygments_lexer": "ipython3",
   "version": "3.9.5"
  },
  "papermill": {
   "default_parameters": {},
   "duration": 6.452755,
   "end_time": "2021-09-07T16:00:10.581194",
   "environment_variables": {},
   "exception": null,
   "input_path": "eBay_Overview.ipynb",
   "output_path": "eBay_Overview.ipynb",
   "parameters": {},
   "start_time": "2021-09-07T16:00:04.128439",
   "version": "2.3.3"
  }
 },
 "nbformat": 4,
 "nbformat_minor": 5
}