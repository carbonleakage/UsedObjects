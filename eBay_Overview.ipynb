{
 "cells": [
  {
   "cell_type": "code",
   "execution_count": 1,
   "id": "reverse-picking",
   "metadata": {
    "execution": {
     "iopub.execute_input": "2021-10-30T13:00:07.678607Z",
     "iopub.status.busy": "2021-10-30T13:00:07.676509Z",
     "iopub.status.idle": "2021-10-30T13:00:08.480660Z",
     "shell.execute_reply": "2021-10-30T13:00:08.482070Z"
    },
    "papermill": {
     "duration": 0.855159,
     "end_time": "2021-10-30T13:00:08.482696",
     "exception": false,
     "start_time": "2021-10-30T13:00:07.627537",
     "status": "completed"
    },
    "tags": []
   },
   "outputs": [],
   "source": [
    "import pandas as pd\n",
    "import sqlite3"
   ]
  },
  {
   "cell_type": "code",
   "execution_count": 2,
   "id": "innovative-syndrome",
   "metadata": {
    "execution": {
     "iopub.execute_input": "2021-10-30T13:00:08.533789Z",
     "iopub.status.busy": "2021-10-30T13:00:08.531827Z",
     "iopub.status.idle": "2021-10-30T13:00:09.195695Z",
     "shell.execute_reply": "2021-10-30T13:00:09.196935Z"
    },
    "papermill": {
     "duration": 0.69324,
     "end_time": "2021-10-30T13:00:09.197379",
     "exception": false,
     "start_time": "2021-10-30T13:00:08.504139",
     "status": "completed"
    },
    "tags": []
   },
   "outputs": [],
   "source": [
    "timestamps = pd.read_sql(\"select distinct record_time from EBAY_TOP_BERLIN order by record_time desc limit 2\", sqlite3.connect(\"UsedObjects.db\"))"
   ]
  },
  {
   "cell_type": "code",
   "execution_count": 3,
   "id": "periodic-identification",
   "metadata": {
    "execution": {
     "iopub.execute_input": "2021-10-30T13:00:09.274505Z",
     "iopub.status.busy": "2021-10-30T13:00:09.269570Z",
     "iopub.status.idle": "2021-10-30T13:00:09.291295Z",
     "shell.execute_reply": "2021-10-30T13:00:09.292653Z"
    },
    "papermill": {
     "duration": 0.071101,
     "end_time": "2021-10-30T13:00:09.293279",
     "exception": false,
     "start_time": "2021-10-30T13:00:09.222178",
     "status": "completed"
    },
    "tags": []
   },
   "outputs": [
    {
     "data": {
      "text/html": [
       "<div>\n",
       "<style scoped>\n",
       "    .dataframe tbody tr th:only-of-type {\n",
       "        vertical-align: middle;\n",
       "    }\n",
       "\n",
       "    .dataframe tbody tr th {\n",
       "        vertical-align: top;\n",
       "    }\n",
       "\n",
       "    .dataframe thead th {\n",
       "        text-align: right;\n",
       "    }\n",
       "</style>\n",
       "<table border=\"1\" class=\"dataframe\">\n",
       "  <thead>\n",
       "    <tr style=\"text-align: right;\">\n",
       "      <th></th>\n",
       "      <th>RECORD_TIME</th>\n",
       "    </tr>\n",
       "  </thead>\n",
       "  <tbody>\n",
       "    <tr>\n",
       "      <th>0</th>\n",
       "      <td>2021-10-30 15:00</td>\n",
       "    </tr>\n",
       "    <tr>\n",
       "      <th>1</th>\n",
       "      <td>2021-10-30 14:30</td>\n",
       "    </tr>\n",
       "  </tbody>\n",
       "</table>\n",
       "</div>"
      ],
      "text/plain": [
       "        RECORD_TIME\n",
       "0  2021-10-30 15:00\n",
       "1  2021-10-30 14:30"
      ]
     },
     "execution_count": 3,
     "metadata": {},
     "output_type": "execute_result"
    }
   ],
   "source": [
    "timestamps"
   ]
  },
  {
   "cell_type": "code",
   "execution_count": 4,
   "id": "alternate-victory",
   "metadata": {
    "execution": {
     "iopub.execute_input": "2021-10-30T13:00:09.348047Z",
     "iopub.status.busy": "2021-10-30T13:00:09.346058Z",
     "iopub.status.idle": "2021-10-30T13:00:10.341980Z",
     "shell.execute_reply": "2021-10-30T13:00:10.343239Z"
    },
    "papermill": {
     "duration": 1.026303,
     "end_time": "2021-10-30T13:00:10.343626",
     "exception": false,
     "start_time": "2021-10-30T13:00:09.317323",
     "status": "completed"
    },
    "tags": []
   },
   "outputs": [],
   "source": [
    "df = pd.read_sql(\"select * from EBAY_TOP_BERLIN where record_time in (select distinct record_time from EBAY_TOP_BERLIN order by record_time desc limit 2)\", sqlite3.connect(\"UsedObjects.db\"))"
   ]
  },
  {
   "cell_type": "code",
   "execution_count": 5,
   "id": "popular-active",
   "metadata": {
    "execution": {
     "iopub.execute_input": "2021-10-30T13:00:10.407665Z",
     "iopub.status.busy": "2021-10-30T13:00:10.400320Z",
     "iopub.status.idle": "2021-10-30T13:00:10.428359Z",
     "shell.execute_reply": "2021-10-30T13:00:10.429796Z"
    },
    "papermill": {
     "duration": 0.066199,
     "end_time": "2021-10-30T13:00:10.430208",
     "exception": false,
     "start_time": "2021-10-30T13:00:10.364009",
     "status": "completed"
    },
    "tags": []
   },
   "outputs": [],
   "source": [
    "df_pivot = df.pivot_table(index=\"PRODUCT\", columns = \"RECORD_TIME\", values = \"LISTING_COUNT\")"
   ]
  },
  {
   "cell_type": "code",
   "execution_count": 6,
   "id": "union-huntington",
   "metadata": {
    "execution": {
     "iopub.execute_input": "2021-10-30T13:00:10.488375Z",
     "iopub.status.busy": "2021-10-30T13:00:10.485964Z",
     "iopub.status.idle": "2021-10-30T13:00:10.493168Z",
     "shell.execute_reply": "2021-10-30T13:00:10.491632Z"
    },
    "papermill": {
     "duration": 0.042062,
     "end_time": "2021-10-30T13:00:10.493545",
     "exception": false,
     "start_time": "2021-10-30T13:00:10.451483",
     "status": "completed"
    },
    "tags": []
   },
   "outputs": [],
   "source": [
    "df_pivot.columns = [\"stamp_1\", \"stamp_2\"]\n",
    "df_pivot_diff = df_pivot.diff(axis=1)"
   ]
  },
  {
   "cell_type": "code",
   "execution_count": 7,
   "id": "fifth-motion",
   "metadata": {
    "execution": {
     "iopub.execute_input": "2021-10-30T13:00:10.547632Z",
     "iopub.status.busy": "2021-10-30T13:00:10.545469Z",
     "iopub.status.idle": "2021-10-30T13:00:12.063164Z",
     "shell.execute_reply": "2021-10-30T13:00:12.064431Z"
    },
    "papermill": {
     "duration": 1.55025,
     "end_time": "2021-10-30T13:00:12.065053",
     "exception": false,
     "start_time": "2021-10-30T13:00:10.514803",
     "status": "completed"
    },
    "tags": []
   },
   "outputs": [
    {
     "data": {
      "text/plain": [
       "<AxesSubplot:ylabel='PRODUCT'>"
      ]
     },
     "execution_count": 7,
     "metadata": {},
     "output_type": "execute_result"
    },
    {
     "data": {
      "image/png": "[encoded data removed]",
      "text/plain": [
       "<Figure size 432x288 with 1 Axes>"
      ]
     },
     "metadata": {
      "needs_background": "light"
     },
     "output_type": "display_data"
    }
   ],
   "source": [
    "df_pivot_diff.sort_values(\"stamp_2\", ascending = False)[\"stamp_2\"].head(10).plot.barh()"
   ]
  },
  {
   "cell_type": "code",
   "execution_count": null,
   "id": "extra-executive",
   "metadata": {
    "papermill": {
     "duration": 0.022241,
     "end_time": "2021-10-30T13:00:12.111883",
     "exception": false,
     "start_time": "2021-10-30T13:00:12.089642",
     "status": "completed"
    },
    "tags": []
   },
   "outputs": [],
   "source": []
  }
 ],
 "metadata": {
  "kernelspec": {
   "display_name": "Python 3",
   "language": "python",
   "name": "python3"
  },
  "language_info": {
   "codemirror_mode": {
    "name": "ipython",
    "version": 3
   },
   "file_extension": ".py",
   "mimetype": "text/x-python",
   "name": "python",
   "nbconvert_exporter": "python",
   "pygments_lexer": "ipython3",
   "version": "3.9.5"
  },
  "papermill": {
   "default_parameters": {},
   "duration": 7.529902,
   "end_time": "2021-10-30T13:00:12.754835",
   "environment_variables": {},
   "exception": null,
   "input_path": "eBay_Overview.ipynb",
   "output_path": "eBay_Overview.ipynb",
   "parameters": {},
   "start_time": "2021-10-30T13:00:05.224933",
   "version": "2.3.3"
  }
 },
 "nbformat": 4,
 "nbformat_minor": 5
}