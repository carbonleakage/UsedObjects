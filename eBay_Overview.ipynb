{
 "cells": [
  {
   "cell_type": "code",
   "execution_count": 1,
   "id": "reverse-picking",
   "metadata": {
    "execution": {
     "iopub.execute_input": "2021-08-14T08:30:06.700286Z",
     "iopub.status.busy": "2021-08-14T08:30:06.698297Z",
     "iopub.status.idle": "2021-08-14T08:30:07.508563Z",
     "shell.execute_reply": "2021-08-14T08:30:07.509811Z"
    },
    "papermill": {
     "duration": 0.863109,
     "end_time": "2021-08-14T08:30:07.510688",
     "exception": false,
     "start_time": "2021-08-14T08:30:06.647579",
     "status": "completed"
    },
    "tags": []
   },
   "outputs": [],
   "source": [
    "import pandas as pd\n",
    "import sqlite3"
   ]
  },
  {
   "cell_type": "code",
   "execution_count": 2,
   "id": "innovative-syndrome",
   "metadata": {
    "execution": {
     "iopub.execute_input": "2021-08-14T08:30:07.562551Z",
     "iopub.status.busy": "2021-08-14T08:30:07.560091Z",
     "iopub.status.idle": "2021-08-14T08:30:07.609003Z",
     "shell.execute_reply": "2021-08-14T08:30:07.610427Z"
    },
    "papermill": {
     "duration": 0.079343,
     "end_time": "2021-08-14T08:30:07.610874",
     "exception": false,
     "start_time": "2021-08-14T08:30:07.531531",
     "status": "completed"
    },
    "tags": []
   },
   "outputs": [],
   "source": [
    "timestamps = pd.read_sql(\"select distinct record_time from EBAY_TOP_BERLIN order by record_time desc limit 2\", sqlite3.connect(\"UsedObjects.db\"))"
   ]
  },
  {
   "cell_type": "code",
   "execution_count": 3,
   "id": "periodic-identification",
   "metadata": {
    "execution": {
     "iopub.execute_input": "2021-08-14T08:30:07.677648Z",
     "iopub.status.busy": "2021-08-14T08:30:07.675596Z",
     "iopub.status.idle": "2021-08-14T08:30:07.695451Z",
     "shell.execute_reply": "2021-08-14T08:30:07.696776Z"
    },
    "papermill": {
     "duration": 0.067047,
     "end_time": "2021-08-14T08:30:07.697188",
     "exception": false,
     "start_time": "2021-08-14T08:30:07.630141",
     "status": "completed"
    },
    "tags": []
   },
   "outputs": [
    {
     "data": {
      "text/html": [
       "<div>\n",
       "<style scoped>\n",
       "    .dataframe tbody tr th:only-of-type {\n",
       "        vertical-align: middle;\n",
       "    }\n",
       "\n",
       "    .dataframe tbody tr th {\n",
       "        vertical-align: top;\n",
       "    }\n",
       "\n",
       "    .dataframe thead th {\n",
       "        text-align: right;\n",
       "    }\n",
       "</style>\n",
       "<table border=\"1\" class=\"dataframe\">\n",
       "  <thead>\n",
       "    <tr style=\"text-align: right;\">\n",
       "      <th></th>\n",
       "      <th>RECORD_TIME</th>\n",
       "    </tr>\n",
       "  </thead>\n",
       "  <tbody>\n",
       "    <tr>\n",
       "      <th>0</th>\n",
       "      <td>2021-08-14 10:30</td>\n",
       "    </tr>\n",
       "    <tr>\n",
       "      <th>1</th>\n",
       "      <td>2021-08-14 10:00</td>\n",
       "    </tr>\n",
       "  </tbody>\n",
       "</table>\n",
       "</div>"
      ],
      "text/plain": [
       "        RECORD_TIME\n",
       "0  2021-08-14 10:30\n",
       "1  2021-08-14 10:00"
      ]
     },
     "execution_count": 3,
     "metadata": {},
     "output_type": "execute_result"
    }
   ],
   "source": [
    "timestamps"
   ]
  },
  {
   "cell_type": "code",
   "execution_count": 4,
   "id": "alternate-victory",
   "metadata": {
    "execution": {
     "iopub.execute_input": "2021-08-14T08:30:07.750196Z",
     "iopub.status.busy": "2021-08-14T08:30:07.747797Z",
     "iopub.status.idle": "2021-08-14T08:30:07.818844Z",
     "shell.execute_reply": "2021-08-14T08:30:07.820256Z"
    },
    "papermill": {
     "duration": 0.101926,
     "end_time": "2021-08-14T08:30:07.820694",
     "exception": false,
     "start_time": "2021-08-14T08:30:07.718768",
     "status": "completed"
    },
    "tags": []
   },
   "outputs": [],
   "source": [
    "df = pd.read_sql(\"select * from EBAY_TOP_BERLIN where record_time in (select distinct record_time from EBAY_TOP_BERLIN order by record_time desc limit 2)\", sqlite3.connect(\"UsedObjects.db\"))"
   ]
  },
  {
   "cell_type": "code",
   "execution_count": 5,
   "id": "popular-active",
   "metadata": {
    "execution": {
     "iopub.execute_input": "2021-08-14T08:30:07.891938Z",
     "iopub.status.busy": "2021-08-14T08:30:07.884571Z",
     "iopub.status.idle": "2021-08-14T08:30:07.907975Z",
     "shell.execute_reply": "2021-08-14T08:30:07.909207Z"
    },
    "papermill": {
     "duration": 0.068352,
     "end_time": "2021-08-14T08:30:07.909604",
     "exception": false,
     "start_time": "2021-08-14T08:30:07.841252",
     "status": "completed"
    },
    "tags": []
   },
   "outputs": [],
   "source": [
    "df_pivot = df.pivot_table(index=\"PRODUCT\", columns = \"RECORD_TIME\", values = \"LISTING_COUNT\")"
   ]
  },
  {
   "cell_type": "code",
   "execution_count": 6,
   "id": "union-huntington",
   "metadata": {
    "execution": {
     "iopub.execute_input": "2021-08-14T08:30:07.969249Z",
     "iopub.status.busy": "2021-08-14T08:30:07.966780Z",
     "iopub.status.idle": "2021-08-14T08:30:07.972496Z",
     "shell.execute_reply": "2021-08-14T08:30:07.973771Z"
    },
    "papermill": {
     "duration": 0.042264,
     "end_time": "2021-08-14T08:30:07.974247",
     "exception": false,
     "start_time": "2021-08-14T08:30:07.931983",
     "status": "completed"
    },
    "tags": []
   },
   "outputs": [],
   "source": [
    "df_pivot.columns = [\"stamp_1\", \"stamp_2\"]\n",
    "df_pivot_diff = df_pivot.diff(axis=1)"
   ]
  },
  {
   "cell_type": "code",
   "execution_count": 7,
   "id": "fifth-motion",
   "metadata": {
    "execution": {
     "iopub.execute_input": "2021-08-14T08:30:08.028792Z",
     "iopub.status.busy": "2021-08-14T08:30:08.026469Z",
     "iopub.status.idle": "2021-08-14T08:30:09.509440Z",
     "shell.execute_reply": "2021-08-14T08:30:09.510928Z"
    },
    "papermill": {
     "duration": 1.516552,
     "end_time": "2021-08-14T08:30:09.511380",
     "exception": false,
     "start_time": "2021-08-14T08:30:07.994828",
     "status": "completed"
    },
    "tags": []
   },
   "outputs": [
    {
     "data": {
      "text/plain": [
       "<AxesSubplot:ylabel='PRODUCT'>"
      ]
     },
     "execution_count": 7,
     "metadata": {},
     "output_type": "execute_result"
    },
    {
     "data": {
      "image/png": "[encoded data removed]",
      "text/plain": [
       "<Figure size 432x288 with 1 Axes>"
      ]
     },
     "metadata": {
      "needs_background": "light"
     },
     "output_type": "display_data"
    }
   ],
   "source": [
    "df_pivot_diff.sort_values(\"stamp_2\", ascending = False)[\"stamp_2\"].head(10).plot.barh()"
   ]
  },
  {
   "cell_type": "code",
   "execution_count": null,
   "id": "extra-executive",
   "metadata": {
    "papermill": {
     "duration": 0.022466,
     "end_time": "2021-08-14T08:30:09.558658",
     "exception": false,
     "start_time": "2021-08-14T08:30:09.536192",
     "status": "completed"
    },
    "tags": []
   },
   "outputs": [],
   "source": []
  }
 ],
 "metadata": {
  "kernelspec": {
   "display_name": "Python 3",
   "language": "python",
   "name": "python3"
  },
  "language_info": {
   "codemirror_mode": {
    "name": "ipython",
    "version": 3
   },
   "file_extension": ".py",
   "mimetype": "text/x-python",
   "name": "python",
   "nbconvert_exporter": "python",
   "pygments_lexer": "ipython3",
   "version": "3.9.5"
  },
  "papermill": {
   "default_parameters": {},
   "duration": 6.832844,
   "end_time": "2021-08-14T08:30:11.054686",
   "environment_variables": {},
   "exception": null,
   "input_path": "eBay_Overview.ipynb",
   "output_path": "eBay_Overview.ipynb",
   "parameters": {},
   "start_time": "2021-08-14T08:30:04.221842",
   "version": "2.3.3"
  }
 },
 "nbformat": 4,
 "nbformat_minor": 5
}