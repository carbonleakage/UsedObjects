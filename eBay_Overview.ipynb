{
 "cells": [
  {
   "cell_type": "code",
   "execution_count": 1,
   "id": "reverse-picking",
   "metadata": {
    "execution": {
     "iopub.execute_input": "2021-12-05T06:00:07.782240Z",
     "iopub.status.busy": "2021-12-05T06:00:07.779821Z",
     "iopub.status.idle": "2021-12-05T06:00:08.746525Z",
     "shell.execute_reply": "2021-12-05T06:00:08.748238Z"
    },
    "papermill": {
     "duration": 1.01734,
     "end_time": "2021-12-05T06:00:08.749053",
     "exception": false,
     "start_time": "2021-12-05T06:00:07.731713",
     "status": "completed"
    },
    "tags": []
   },
   "outputs": [],
   "source": [
    "import pandas as pd\n",
    "import sqlite3"
   ]
  },
  {
   "cell_type": "code",
   "execution_count": 2,
   "id": "innovative-syndrome",
   "metadata": {
    "execution": {
     "iopub.execute_input": "2021-12-05T06:00:08.809840Z",
     "iopub.status.busy": "2021-12-05T06:00:08.807514Z",
     "iopub.status.idle": "2021-12-05T06:00:09.808614Z",
     "shell.execute_reply": "2021-12-05T06:00:09.810163Z"
    },
    "papermill": {
     "duration": 1.034479,
     "end_time": "2021-12-05T06:00:09.810669",
     "exception": false,
     "start_time": "2021-12-05T06:00:08.776190",
     "status": "completed"
    },
    "tags": []
   },
   "outputs": [],
   "source": [
    "timestamps = pd.read_sql(\"select distinct record_time from EBAY_TOP_BERLIN order by record_time desc limit 2\", sqlite3.connect(\"UsedObjects.db\"))"
   ]
  },
  {
   "cell_type": "code",
   "execution_count": 3,
   "id": "periodic-identification",
   "metadata": {
    "execution": {
     "iopub.execute_input": "2021-12-05T06:00:09.887722Z",
     "iopub.status.busy": "2021-12-05T06:00:09.885342Z",
     "iopub.status.idle": "2021-12-05T06:00:09.905391Z",
     "shell.execute_reply": "2021-12-05T06:00:09.907011Z"
    },
    "papermill": {
     "duration": 0.077071,
     "end_time": "2021-12-05T06:00:09.907497",
     "exception": false,
     "start_time": "2021-12-05T06:00:09.830426",
     "status": "completed"
    },
    "tags": []
   },
   "outputs": [
    {
     "data": {
      "text/html": [
       "<div>\n",
       "<style scoped>\n",
       "    .dataframe tbody tr th:only-of-type {\n",
       "        vertical-align: middle;\n",
       "    }\n",
       "\n",
       "    .dataframe tbody tr th {\n",
       "        vertical-align: top;\n",
       "    }\n",
       "\n",
       "    .dataframe thead th {\n",
       "        text-align: right;\n",
       "    }\n",
       "</style>\n",
       "<table border=\"1\" class=\"dataframe\">\n",
       "  <thead>\n",
       "    <tr style=\"text-align: right;\">\n",
       "      <th></th>\n",
       "      <th>RECORD_TIME</th>\n",
       "    </tr>\n",
       "  </thead>\n",
       "  <tbody>\n",
       "    <tr>\n",
       "      <th>0</th>\n",
       "      <td>2021-12-05 07:00</td>\n",
       "    </tr>\n",
       "    <tr>\n",
       "      <th>1</th>\n",
       "      <td>2021-12-05 06:30</td>\n",
       "    </tr>\n",
       "  </tbody>\n",
       "</table>\n",
       "</div>"
      ],
      "text/plain": [
       "        RECORD_TIME\n",
       "0  2021-12-05 07:00\n",
       "1  2021-12-05 06:30"
      ]
     },
     "execution_count": 3,
     "metadata": {},
     "output_type": "execute_result"
    }
   ],
   "source": [
    "timestamps"
   ]
  },
  {
   "cell_type": "code",
   "execution_count": 4,
   "id": "alternate-victory",
   "metadata": {
    "execution": {
     "iopub.execute_input": "2021-12-05T06:00:09.962866Z",
     "iopub.status.busy": "2021-12-05T06:00:09.960772Z",
     "iopub.status.idle": "2021-12-05T06:00:11.408261Z",
     "shell.execute_reply": "2021-12-05T06:00:11.409927Z"
    },
    "papermill": {
     "duration": 1.482259,
     "end_time": "2021-12-05T06:00:11.410410",
     "exception": false,
     "start_time": "2021-12-05T06:00:09.928151",
     "status": "completed"
    },
    "tags": []
   },
   "outputs": [],
   "source": [
    "df = pd.read_sql(\"select * from EBAY_TOP_BERLIN where record_time in (select distinct record_time from EBAY_TOP_BERLIN order by record_time desc limit 2)\", sqlite3.connect(\"UsedObjects.db\"))"
   ]
  },
  {
   "cell_type": "code",
   "execution_count": 5,
   "id": "popular-active",
   "metadata": {
    "execution": {
     "iopub.execute_input": "2021-12-05T06:00:11.493870Z",
     "iopub.status.busy": "2021-12-05T06:00:11.480028Z",
     "iopub.status.idle": "2021-12-05T06:00:11.511621Z",
     "shell.execute_reply": "2021-12-05T06:00:11.513085Z"
    },
    "papermill": {
     "duration": 0.081082,
     "end_time": "2021-12-05T06:00:11.513563",
     "exception": false,
     "start_time": "2021-12-05T06:00:11.432481",
     "status": "completed"
    },
    "tags": []
   },
   "outputs": [],
   "source": [
    "df_pivot = df.pivot_table(index=\"PRODUCT\", columns = \"RECORD_TIME\", values = \"LISTING_COUNT\")"
   ]
  },
  {
   "cell_type": "code",
   "execution_count": 6,
   "id": "union-huntington",
   "metadata": {
    "execution": {
     "iopub.execute_input": "2021-12-05T06:00:11.571318Z",
     "iopub.status.busy": "2021-12-05T06:00:11.569130Z",
     "iopub.status.idle": "2021-12-05T06:00:11.574817Z",
     "shell.execute_reply": "2021-12-05T06:00:11.576138Z"
    },
    "papermill": {
     "duration": 0.043036,
     "end_time": "2021-12-05T06:00:11.576609",
     "exception": false,
     "start_time": "2021-12-05T06:00:11.533573",
     "status": "completed"
    },
    "tags": []
   },
   "outputs": [],
   "source": [
    "df_pivot.columns = [\"stamp_1\", \"stamp_2\"]\n",
    "df_pivot_diff = df_pivot.diff(axis=1)"
   ]
  },
  {
   "cell_type": "code",
   "execution_count": 7,
   "id": "fifth-motion",
   "metadata": {
    "execution": {
     "iopub.execute_input": "2021-12-05T06:00:11.636454Z",
     "iopub.status.busy": "2021-12-05T06:00:11.633881Z",
     "iopub.status.idle": "2021-12-05T06:00:13.550853Z",
     "shell.execute_reply": "2021-12-05T06:00:13.552916Z"
    },
    "papermill": {
     "duration": 1.956138,
     "end_time": "2021-12-05T06:00:13.553478",
     "exception": false,
     "start_time": "2021-12-05T06:00:11.597340",
     "status": "completed"
    },
    "tags": []
   },
   "outputs": [
    {
     "data": {
      "text/plain": [
       "<AxesSubplot:ylabel='PRODUCT'>"
      ]
     },
     "execution_count": 7,
     "metadata": {},
     "output_type": "execute_result"
    },
    {
     "data": {
      "image/png": "[encoded data removed]",
      "text/plain": [
       "<Figure size 432x288 with 1 Axes>"
      ]
     },
     "metadata": {
      "needs_background": "light"
     },
     "output_type": "display_data"
    }
   ],
   "source": [
    "df_pivot_diff.sort_values(\"stamp_2\", ascending = False)[\"stamp_2\"].head(10).plot.barh()"
   ]
  },
  {
   "cell_type": "code",
   "execution_count": null,
   "id": "extra-executive",
   "metadata": {
    "papermill": {
     "duration": 0.035694,
     "end_time": "2021-12-05T06:00:13.625978",
     "exception": false,
     "start_time": "2021-12-05T06:00:13.590284",
     "status": "completed"
    },
    "tags": []
   },
   "outputs": [],
   "source": []
  }
 ],
 "metadata": {
  "kernelspec": {
   "display_name": "Python 3",
   "language": "python",
   "name": "python3"
  },
  "language_info": {
   "codemirror_mode": {
    "name": "ipython",
    "version": 3
   },
   "file_extension": ".py",
   "mimetype": "text/x-python",
   "name": "python",
   "nbconvert_exporter": "python",
   "pygments_lexer": "ipython3",
   "version": "3.9.5"
  },
  "papermill": {
   "default_parameters": {},
   "duration": 9.930689,
   "end_time": "2021-12-05T06:00:14.945079",
   "environment_variables": {},
   "exception": null,
   "input_path": "eBay_Overview.ipynb",
   "output_path": "eBay_Overview.ipynb",
   "parameters": {},
   "start_time": "2021-12-05T06:00:05.014390",
   "version": "2.3.3"
  }
 },
 "nbformat": 4,
 "nbformat_minor": 5
}