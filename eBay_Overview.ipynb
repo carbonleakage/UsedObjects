{
 "cells": [
  {
   "cell_type": "code",
   "execution_count": 1,
   "id": "reverse-picking",
   "metadata": {
    "execution": {
     "iopub.execute_input": "2021-10-05T13:00:07.306914Z",
     "iopub.status.busy": "2021-10-05T13:00:07.304924Z",
     "iopub.status.idle": "2021-10-05T13:00:08.112879Z",
     "shell.execute_reply": "2021-10-05T13:00:08.114055Z"
    },
    "papermill": {
     "duration": 0.859858,
     "end_time": "2021-10-05T13:00:08.114697",
     "exception": false,
     "start_time": "2021-10-05T13:00:07.254839",
     "status": "completed"
    },
    "tags": []
   },
   "outputs": [],
   "source": [
    "import pandas as pd\n",
    "import sqlite3"
   ]
  },
  {
   "cell_type": "code",
   "execution_count": 2,
   "id": "innovative-syndrome",
   "metadata": {
    "execution": {
     "iopub.execute_input": "2021-10-05T13:00:08.166042Z",
     "iopub.status.busy": "2021-10-05T13:00:08.164186Z",
     "iopub.status.idle": "2021-10-05T13:00:08.617562Z",
     "shell.execute_reply": "2021-10-05T13:00:08.618767Z"
    },
    "papermill": {
     "duration": 0.482891,
     "end_time": "2021-10-05T13:00:08.619238",
     "exception": false,
     "start_time": "2021-10-05T13:00:08.136347",
     "status": "completed"
    },
    "tags": []
   },
   "outputs": [],
   "source": [
    "timestamps = pd.read_sql(\"select distinct record_time from EBAY_TOP_BERLIN order by record_time desc limit 2\", sqlite3.connect(\"UsedObjects.db\"))"
   ]
  },
  {
   "cell_type": "code",
   "execution_count": 3,
   "id": "periodic-identification",
   "metadata": {
    "execution": {
     "iopub.execute_input": "2021-10-05T13:00:08.683750Z",
     "iopub.status.busy": "2021-10-05T13:00:08.681663Z",
     "iopub.status.idle": "2021-10-05T13:00:08.701260Z",
     "shell.execute_reply": "2021-10-05T13:00:08.702479Z"
    },
    "papermill": {
     "duration": 0.064366,
     "end_time": "2021-10-05T13:00:08.703039",
     "exception": false,
     "start_time": "2021-10-05T13:00:08.638673",
     "status": "completed"
    },
    "tags": []
   },
   "outputs": [
    {
     "data": {
      "text/html": [
       "<div>\n",
       "<style scoped>\n",
       "    .dataframe tbody tr th:only-of-type {\n",
       "        vertical-align: middle;\n",
       "    }\n",
       "\n",
       "    .dataframe tbody tr th {\n",
       "        vertical-align: top;\n",
       "    }\n",
       "\n",
       "    .dataframe thead th {\n",
       "        text-align: right;\n",
       "    }\n",
       "</style>\n",
       "<table border=\"1\" class=\"dataframe\">\n",
       "  <thead>\n",
       "    <tr style=\"text-align: right;\">\n",
       "      <th></th>\n",
       "      <th>RECORD_TIME</th>\n",
       "    </tr>\n",
       "  </thead>\n",
       "  <tbody>\n",
       "    <tr>\n",
       "      <th>0</th>\n",
       "      <td>2021-10-05 15:00</td>\n",
       "    </tr>\n",
       "    <tr>\n",
       "      <th>1</th>\n",
       "      <td>2021-10-05 14:30</td>\n",
       "    </tr>\n",
       "  </tbody>\n",
       "</table>\n",
       "</div>"
      ],
      "text/plain": [
       "        RECORD_TIME\n",
       "0  2021-10-05 15:00\n",
       "1  2021-10-05 14:30"
      ]
     },
     "execution_count": 3,
     "metadata": {},
     "output_type": "execute_result"
    }
   ],
   "source": [
    "timestamps"
   ]
  },
  {
   "cell_type": "code",
   "execution_count": 4,
   "id": "alternate-victory",
   "metadata": {
    "execution": {
     "iopub.execute_input": "2021-10-05T13:00:08.763186Z",
     "iopub.status.busy": "2021-10-05T13:00:08.761235Z",
     "iopub.status.idle": "2021-10-05T13:00:09.447661Z",
     "shell.execute_reply": "2021-10-05T13:00:09.449152Z"
    },
    "papermill": {
     "duration": 0.719274,
     "end_time": "2021-10-05T13:00:09.449606",
     "exception": false,
     "start_time": "2021-10-05T13:00:08.730332",
     "status": "completed"
    },
    "tags": []
   },
   "outputs": [],
   "source": [
    "df = pd.read_sql(\"select * from EBAY_TOP_BERLIN where record_time in (select distinct record_time from EBAY_TOP_BERLIN order by record_time desc limit 2)\", sqlite3.connect(\"UsedObjects.db\"))"
   ]
  },
  {
   "cell_type": "code",
   "execution_count": 5,
   "id": "popular-active",
   "metadata": {
    "execution": {
     "iopub.execute_input": "2021-10-05T13:00:09.519865Z",
     "iopub.status.busy": "2021-10-05T13:00:09.508275Z",
     "iopub.status.idle": "2021-10-05T13:00:09.535582Z",
     "shell.execute_reply": "2021-10-05T13:00:09.536830Z"
    },
    "papermill": {
     "duration": 0.066824,
     "end_time": "2021-10-05T13:00:09.537230",
     "exception": false,
     "start_time": "2021-10-05T13:00:09.470406",
     "status": "completed"
    },
    "tags": []
   },
   "outputs": [],
   "source": [
    "df_pivot = df.pivot_table(index=\"PRODUCT\", columns = \"RECORD_TIME\", values = \"LISTING_COUNT\")"
   ]
  },
  {
   "cell_type": "code",
   "execution_count": 6,
   "id": "union-huntington",
   "metadata": {
    "execution": {
     "iopub.execute_input": "2021-10-05T13:00:09.594906Z",
     "iopub.status.busy": "2021-10-05T13:00:09.592641Z",
     "iopub.status.idle": "2021-10-05T13:00:09.598450Z",
     "shell.execute_reply": "2021-10-05T13:00:09.599807Z"
    },
    "papermill": {
     "duration": 0.041648,
     "end_time": "2021-10-05T13:00:09.600227",
     "exception": false,
     "start_time": "2021-10-05T13:00:09.558579",
     "status": "completed"
    },
    "tags": []
   },
   "outputs": [],
   "source": [
    "df_pivot.columns = [\"stamp_1\", \"stamp_2\"]\n",
    "df_pivot_diff = df_pivot.diff(axis=1)"
   ]
  },
  {
   "cell_type": "code",
   "execution_count": 7,
   "id": "fifth-motion",
   "metadata": {
    "execution": {
     "iopub.execute_input": "2021-10-05T13:00:09.653807Z",
     "iopub.status.busy": "2021-10-05T13:00:09.651541Z",
     "iopub.status.idle": "2021-10-05T13:00:11.135664Z",
     "shell.execute_reply": "2021-10-05T13:00:11.136968Z"
    },
    "papermill": {
     "duration": 1.517242,
     "end_time": "2021-10-05T13:00:11.137384",
     "exception": false,
     "start_time": "2021-10-05T13:00:09.620142",
     "status": "completed"
    },
    "tags": []
   },
   "outputs": [
    {
     "data": {
      "text/plain": [
       "<AxesSubplot:ylabel='PRODUCT'>"
      ]
     },
     "execution_count": 7,
     "metadata": {},
     "output_type": "execute_result"
    },
    {
     "data": {
      "image/png": "[encoded data removed]",
      "text/plain": [
       "<Figure size 432x288 with 1 Axes>"
      ]
     },
     "metadata": {
      "needs_background": "light"
     },
     "output_type": "display_data"
    }
   ],
   "source": [
    "df_pivot_diff.sort_values(\"stamp_2\", ascending = False)[\"stamp_2\"].head(10).plot.barh()"
   ]
  },
  {
   "cell_type": "code",
   "execution_count": null,
   "id": "extra-executive",
   "metadata": {
    "papermill": {
     "duration": 0.022146,
     "end_time": "2021-10-05T13:00:11.185101",
     "exception": false,
     "start_time": "2021-10-05T13:00:11.162955",
     "status": "completed"
    },
    "tags": []
   },
   "outputs": [],
   "source": []
  }
 ],
 "metadata": {
  "kernelspec": {
   "display_name": "Python 3",
   "language": "python",
   "name": "python3"
  },
  "language_info": {
   "codemirror_mode": {
    "name": "ipython",
    "version": 3
   },
   "file_extension": ".py",
   "mimetype": "text/x-python",
   "name": "python",
   "nbconvert_exporter": "python",
   "pygments_lexer": "ipython3",
   "version": "3.9.5"
  },
  "papermill": {
   "default_parameters": {},
   "duration": 7.826565,
   "end_time": "2021-10-05T13:00:12.672133",
   "environment_variables": {},
   "exception": null,
   "input_path": "eBay_Overview.ipynb",
   "output_path": "eBay_Overview.ipynb",
   "parameters": {},
   "start_time": "2021-10-05T13:00:04.845568",
   "version": "2.3.3"
  }
 },
 "nbformat": 4,
 "nbformat_minor": 5
}