{
 "cells": [
  {
   "cell_type": "code",
   "execution_count": 1,
   "id": "reverse-picking",
   "metadata": {
    "execution": {
     "iopub.execute_input": "2021-11-12T12:30:08.038835Z",
     "iopub.status.busy": "2021-11-12T12:30:08.032036Z",
     "iopub.status.idle": "2021-11-12T12:30:08.992227Z",
     "shell.execute_reply": "2021-11-12T12:30:08.993802Z"
    },
    "papermill": {
     "duration": 1.004381,
     "end_time": "2021-11-12T12:30:08.994536",
     "exception": false,
     "start_time": "2021-11-12T12:30:07.990155",
     "status": "completed"
    },
    "tags": []
   },
   "outputs": [],
   "source": [
    "import pandas as pd\n",
    "import sqlite3"
   ]
  },
  {
   "cell_type": "code",
   "execution_count": 2,
   "id": "innovative-syndrome",
   "metadata": {
    "execution": {
     "iopub.execute_input": "2021-11-12T12:30:09.056939Z",
     "iopub.status.busy": "2021-11-12T12:30:09.054516Z",
     "iopub.status.idle": "2021-11-12T12:30:09.852269Z",
     "shell.execute_reply": "2021-11-12T12:30:09.853779Z"
    },
    "papermill": {
     "duration": 0.832652,
     "end_time": "2021-11-12T12:30:09.854262",
     "exception": false,
     "start_time": "2021-11-12T12:30:09.021610",
     "status": "completed"
    },
    "tags": []
   },
   "outputs": [],
   "source": [
    "timestamps = pd.read_sql(\"select distinct record_time from EBAY_TOP_BERLIN order by record_time desc limit 2\", sqlite3.connect(\"UsedObjects.db\"))"
   ]
  },
  {
   "cell_type": "code",
   "execution_count": 3,
   "id": "periodic-identification",
   "metadata": {
    "execution": {
     "iopub.execute_input": "2021-11-12T12:30:09.926745Z",
     "iopub.status.busy": "2021-11-12T12:30:09.924312Z",
     "iopub.status.idle": "2021-11-12T12:30:09.947120Z",
     "shell.execute_reply": "2021-11-12T12:30:09.948959Z"
    },
    "papermill": {
     "duration": 0.074393,
     "end_time": "2021-11-12T12:30:09.949532",
     "exception": false,
     "start_time": "2021-11-12T12:30:09.875139",
     "status": "completed"
    },
    "tags": []
   },
   "outputs": [
    {
     "data": {
      "text/html": [
       "<div>\n",
       "<style scoped>\n",
       "    .dataframe tbody tr th:only-of-type {\n",
       "        vertical-align: middle;\n",
       "    }\n",
       "\n",
       "    .dataframe tbody tr th {\n",
       "        vertical-align: top;\n",
       "    }\n",
       "\n",
       "    .dataframe thead th {\n",
       "        text-align: right;\n",
       "    }\n",
       "</style>\n",
       "<table border=\"1\" class=\"dataframe\">\n",
       "  <thead>\n",
       "    <tr style=\"text-align: right;\">\n",
       "      <th></th>\n",
       "      <th>RECORD_TIME</th>\n",
       "    </tr>\n",
       "  </thead>\n",
       "  <tbody>\n",
       "    <tr>\n",
       "      <th>0</th>\n",
       "      <td>2021-11-12 13:30</td>\n",
       "    </tr>\n",
       "    <tr>\n",
       "      <th>1</th>\n",
       "      <td>2021-11-12 13:00</td>\n",
       "    </tr>\n",
       "  </tbody>\n",
       "</table>\n",
       "</div>"
      ],
      "text/plain": [
       "        RECORD_TIME\n",
       "0  2021-11-12 13:30\n",
       "1  2021-11-12 13:00"
      ]
     },
     "execution_count": 3,
     "metadata": {},
     "output_type": "execute_result"
    }
   ],
   "source": [
    "timestamps"
   ]
  },
  {
   "cell_type": "code",
   "execution_count": 4,
   "id": "alternate-victory",
   "metadata": {
    "execution": {
     "iopub.execute_input": "2021-11-12T12:30:10.008225Z",
     "iopub.status.busy": "2021-11-12T12:30:10.005939Z",
     "iopub.status.idle": "2021-11-12T12:30:11.173095Z",
     "shell.execute_reply": "2021-11-12T12:30:11.174619Z"
    },
    "papermill": {
     "duration": 1.201873,
     "end_time": "2021-11-12T12:30:11.175137",
     "exception": false,
     "start_time": "2021-11-12T12:30:09.973264",
     "status": "completed"
    },
    "tags": []
   },
   "outputs": [],
   "source": [
    "df = pd.read_sql(\"select * from EBAY_TOP_BERLIN where record_time in (select distinct record_time from EBAY_TOP_BERLIN order by record_time desc limit 2)\", sqlite3.connect(\"UsedObjects.db\"))"
   ]
  },
  {
   "cell_type": "code",
   "execution_count": 5,
   "id": "popular-active",
   "metadata": {
    "execution": {
     "iopub.execute_input": "2021-11-12T12:30:11.251672Z",
     "iopub.status.busy": "2021-11-12T12:30:11.238199Z",
     "iopub.status.idle": "2021-11-12T12:30:11.269204Z",
     "shell.execute_reply": "2021-11-12T12:30:11.270568Z"
    },
    "papermill": {
     "duration": 0.073253,
     "end_time": "2021-11-12T12:30:11.271035",
     "exception": false,
     "start_time": "2021-11-12T12:30:11.197782",
     "status": "completed"
    },
    "tags": []
   },
   "outputs": [],
   "source": [
    "df_pivot = df.pivot_table(index=\"PRODUCT\", columns = \"RECORD_TIME\", values = \"LISTING_COUNT\")"
   ]
  },
  {
   "cell_type": "code",
   "execution_count": 6,
   "id": "union-huntington",
   "metadata": {
    "execution": {
     "iopub.execute_input": "2021-11-12T12:30:11.335933Z",
     "iopub.status.busy": "2021-11-12T12:30:11.333323Z",
     "iopub.status.idle": "2021-11-12T12:30:11.340621Z",
     "shell.execute_reply": "2021-11-12T12:30:11.343754Z"
    },
    "papermill": {
     "duration": 0.053066,
     "end_time": "2021-11-12T12:30:11.344639",
     "exception": false,
     "start_time": "2021-11-12T12:30:11.291573",
     "status": "completed"
    },
    "tags": []
   },
   "outputs": [],
   "source": [
    "df_pivot.columns = [\"stamp_1\", \"stamp_2\"]\n",
    "df_pivot_diff = df_pivot.diff(axis=1)"
   ]
  },
  {
   "cell_type": "code",
   "execution_count": 7,
   "id": "fifth-motion",
   "metadata": {
    "execution": {
     "iopub.execute_input": "2021-11-12T12:30:11.429066Z",
     "iopub.status.busy": "2021-11-12T12:30:11.424252Z",
     "iopub.status.idle": "2021-11-12T12:30:13.193506Z",
     "shell.execute_reply": "2021-11-12T12:30:13.196331Z"
    },
    "papermill": {
     "duration": 1.819063,
     "end_time": "2021-11-12T12:30:13.197316",
     "exception": false,
     "start_time": "2021-11-12T12:30:11.378253",
     "status": "completed"
    },
    "tags": []
   },
   "outputs": [
    {
     "data": {
      "text/plain": [
       "<AxesSubplot:ylabel='PRODUCT'>"
      ]
     },
     "execution_count": 7,
     "metadata": {},
     "output_type": "execute_result"
    },
    {
     "data": {
      "image/png": "[encoded data removed]",
      "text/plain": [
       "<Figure size 432x288 with 1 Axes>"
      ]
     },
     "metadata": {
      "needs_background": "light"
     },
     "output_type": "display_data"
    }
   ],
   "source": [
    "df_pivot_diff.sort_values(\"stamp_2\", ascending = False)[\"stamp_2\"].head(10).plot.barh()"
   ]
  },
  {
   "cell_type": "code",
   "execution_count": null,
   "id": "extra-executive",
   "metadata": {
    "papermill": {
     "duration": 0.037111,
     "end_time": "2021-11-12T12:30:13.275520",
     "exception": false,
     "start_time": "2021-11-12T12:30:13.238409",
     "status": "completed"
    },
    "tags": []
   },
   "outputs": [],
   "source": []
  }
 ],
 "metadata": {
  "kernelspec": {
   "display_name": "Python 3",
   "language": "python",
   "name": "python3"
  },
  "language_info": {
   "codemirror_mode": {
    "name": "ipython",
    "version": 3
   },
   "file_extension": ".py",
   "mimetype": "text/x-python",
   "name": "python",
   "nbconvert_exporter": "python",
   "pygments_lexer": "ipython3",
   "version": "3.9.5"
  },
  "papermill": {
   "default_parameters": {},
   "duration": 8.874231,
   "end_time": "2021-11-12T12:30:14.142193",
   "environment_variables": {},
   "exception": null,
   "input_path": "eBay_Overview.ipynb",
   "output_path": "eBay_Overview.ipynb",
   "parameters": {},
   "start_time": "2021-11-12T12:30:05.267962",
   "version": "2.3.3"
  }
 },
 "nbformat": 4,
 "nbformat_minor": 5
}