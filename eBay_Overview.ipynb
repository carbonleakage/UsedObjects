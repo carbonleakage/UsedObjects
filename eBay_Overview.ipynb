{
 "cells": [
  {
   "cell_type": "code",
   "execution_count": 1,
   "id": "reverse-picking",
   "metadata": {
    "execution": {
     "iopub.execute_input": "2021-08-13T08:06:40.554604Z",
     "iopub.status.busy": "2021-08-13T08:06:40.552503Z",
     "iopub.status.idle": "2021-08-13T08:06:41.356103Z",
     "shell.execute_reply": "2021-08-13T08:06:41.357402Z"
    },
    "papermill": {
     "duration": 0.855687,
     "end_time": "2021-08-13T08:06:41.358040",
     "exception": false,
     "start_time": "2021-08-13T08:06:40.502353",
     "status": "completed"
    },
    "tags": []
   },
   "outputs": [],
   "source": [
    "import pandas as pd\n",
    "import sqlite3"
   ]
  },
  {
   "cell_type": "code",
   "execution_count": 2,
   "id": "innovative-syndrome",
   "metadata": {
    "execution": {
     "iopub.execute_input": "2021-08-13T08:06:41.408243Z",
     "iopub.status.busy": "2021-08-13T08:06:41.406395Z",
     "iopub.status.idle": "2021-08-13T08:06:41.445965Z",
     "shell.execute_reply": "2021-08-13T08:06:41.447332Z"
    },
    "papermill": {
     "duration": 0.06946,
     "end_time": "2021-08-13T08:06:41.447767",
     "exception": false,
     "start_time": "2021-08-13T08:06:41.378307",
     "status": "completed"
    },
    "tags": []
   },
   "outputs": [],
   "source": [
    "timestamps = pd.read_sql(\"select distinct record_time from EBAY_TOP_BERLIN order by record_time desc limit 2\", sqlite3.connect(\"UsedObjects.db\"))"
   ]
  },
  {
   "cell_type": "code",
   "execution_count": 3,
   "id": "periodic-identification",
   "metadata": {
    "execution": {
     "iopub.execute_input": "2021-08-13T08:06:41.517334Z",
     "iopub.status.busy": "2021-08-13T08:06:41.512202Z",
     "iopub.status.idle": "2021-08-13T08:06:41.532432Z",
     "shell.execute_reply": "2021-08-13T08:06:41.533789Z"
    },
    "papermill": {
     "duration": 0.067058,
     "end_time": "2021-08-13T08:06:41.534209",
     "exception": false,
     "start_time": "2021-08-13T08:06:41.467151",
     "status": "completed"
    },
    "tags": []
   },
   "outputs": [
    {
     "data": {
      "text/html": [
       "<div>\n",
       "<style scoped>\n",
       "    .dataframe tbody tr th:only-of-type {\n",
       "        vertical-align: middle;\n",
       "    }\n",
       "\n",
       "    .dataframe tbody tr th {\n",
       "        vertical-align: top;\n",
       "    }\n",
       "\n",
       "    .dataframe thead th {\n",
       "        text-align: right;\n",
       "    }\n",
       "</style>\n",
       "<table border=\"1\" class=\"dataframe\">\n",
       "  <thead>\n",
       "    <tr style=\"text-align: right;\">\n",
       "      <th></th>\n",
       "      <th>RECORD_TIME</th>\n",
       "    </tr>\n",
       "  </thead>\n",
       "  <tbody>\n",
       "    <tr>\n",
       "      <th>0</th>\n",
       "      <td>2021-08-13 10:06</td>\n",
       "    </tr>\n",
       "    <tr>\n",
       "      <th>1</th>\n",
       "      <td>2021-08-13 10:05</td>\n",
       "    </tr>\n",
       "  </tbody>\n",
       "</table>\n",
       "</div>"
      ],
      "text/plain": [
       "        RECORD_TIME\n",
       "0  2021-08-13 10:06\n",
       "1  2021-08-13 10:05"
      ]
     },
     "execution_count": 3,
     "metadata": {},
     "output_type": "execute_result"
    }
   ],
   "source": [
    "timestamps"
   ]
  },
  {
   "cell_type": "code",
   "execution_count": 4,
   "id": "alternate-victory",
   "metadata": {
    "execution": {
     "iopub.execute_input": "2021-08-13T08:06:41.585254Z",
     "iopub.status.busy": "2021-08-13T08:06:41.583199Z",
     "iopub.status.idle": "2021-08-13T08:06:41.636826Z",
     "shell.execute_reply": "2021-08-13T08:06:41.638124Z"
    },
    "papermill": {
     "duration": 0.083595,
     "end_time": "2021-08-13T08:06:41.638540",
     "exception": false,
     "start_time": "2021-08-13T08:06:41.554945",
     "status": "completed"
    },
    "tags": []
   },
   "outputs": [],
   "source": [
    "df = pd.read_sql(\"select * from EBAY_TOP_BERLIN where record_time in (select distinct record_time from EBAY_TOP_BERLIN order by record_time desc limit 2)\", sqlite3.connect(\"UsedObjects.db\"))"
   ]
  },
  {
   "cell_type": "code",
   "execution_count": 5,
   "id": "popular-active",
   "metadata": {
    "execution": {
     "iopub.execute_input": "2021-08-13T08:06:41.708929Z",
     "iopub.status.busy": "2021-08-13T08:06:41.697340Z",
     "iopub.status.idle": "2021-08-13T08:06:41.725068Z",
     "shell.execute_reply": "2021-08-13T08:06:41.726346Z"
    },
    "papermill": {
     "duration": 0.067447,
     "end_time": "2021-08-13T08:06:41.726793",
     "exception": false,
     "start_time": "2021-08-13T08:06:41.659346",
     "status": "completed"
    },
    "tags": []
   },
   "outputs": [],
   "source": [
    "df_pivot = df.pivot_table(index=\"PRODUCT\", columns = \"RECORD_TIME\", values = \"LISTING_COUNT\")"
   ]
  },
  {
   "cell_type": "code",
   "execution_count": 6,
   "id": "union-huntington",
   "metadata": {
    "execution": {
     "iopub.execute_input": "2021-08-13T08:06:41.784703Z",
     "iopub.status.busy": "2021-08-13T08:06:41.782272Z",
     "iopub.status.idle": "2021-08-13T08:06:41.787769Z",
     "shell.execute_reply": "2021-08-13T08:06:41.789104Z"
    },
    "papermill": {
     "duration": 0.042241,
     "end_time": "2021-08-13T08:06:41.789535",
     "exception": false,
     "start_time": "2021-08-13T08:06:41.747294",
     "status": "completed"
    },
    "tags": []
   },
   "outputs": [],
   "source": [
    "df_pivot.columns = [\"stamp_1\", \"stamp_2\"]\n",
    "df_pivot_diff = df_pivot.diff(axis=1)"
   ]
  },
  {
   "cell_type": "code",
   "execution_count": 7,
   "id": "fifth-motion",
   "metadata": {
    "execution": {
     "iopub.execute_input": "2021-08-13T08:06:41.843471Z",
     "iopub.status.busy": "2021-08-13T08:06:41.841312Z",
     "iopub.status.idle": "2021-08-13T08:06:43.308477Z",
     "shell.execute_reply": "2021-08-13T08:06:43.309965Z"
    },
    "papermill": {
     "duration": 1.500049,
     "end_time": "2021-08-13T08:06:43.310412",
     "exception": false,
     "start_time": "2021-08-13T08:06:41.810363",
     "status": "completed"
    },
    "tags": []
   },
   "outputs": [
    {
     "data": {
      "text/plain": [
       "<AxesSubplot:ylabel='PRODUCT'>"
      ]
     },
     "execution_count": 7,
     "metadata": {},
     "output_type": "execute_result"
    },
    {
     "data": {
      "image/png": "[encoded data removed]",
      "text/plain": [
       "<Figure size 432x288 with 1 Axes>"
      ]
     },
     "metadata": {
      "needs_background": "light"
     },
     "output_type": "display_data"
    }
   ],
   "source": [
    "df_pivot_diff.sort_values(\"stamp_2\", ascending = False)[\"stamp_2\"].head(10).plot.barh()"
   ]
  },
  {
   "cell_type": "code",
   "execution_count": null,
   "id": "extra-executive",
   "metadata": {
    "papermill": {
     "duration": 0.022047,
     "end_time": "2021-08-13T08:06:43.356721",
     "exception": false,
     "start_time": "2021-08-13T08:06:43.334674",
     "status": "completed"
    },
    "tags": []
   },
   "outputs": [],
   "source": []
  }
 ],
 "metadata": {
  "kernelspec": {
   "display_name": "Python 3",
   "language": "python",
   "name": "python3"
  },
  "language_info": {
   "codemirror_mode": {
    "name": "ipython",
    "version": 3
   },
   "file_extension": ".py",
   "mimetype": "text/x-python",
   "name": "python",
   "nbconvert_exporter": "python",
   "pygments_lexer": "ipython3",
   "version": "3.9.5"
  },
  "papermill": {
   "default_parameters": {},
   "duration": 6.824973,
   "end_time": "2021-08-13T08:06:44.920044",
   "environment_variables": {},
   "exception": null,
   "input_path": "eBay_Overview.ipynb",
   "output_path": "eBay_Overview.ipynb",
   "parameters": {},
   "start_time": "2021-08-13T08:06:38.095071",
   "version": "2.3.3"
  }
 },
 "nbformat": 4,
 "nbformat_minor": 5
}