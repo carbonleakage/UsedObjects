{
 "cells": [
  {
   "cell_type": "code",
   "execution_count": 1,
   "id": "reverse-picking",
   "metadata": {
    "execution": {
     "iopub.execute_input": "2021-08-12T01:30:04.197320Z",
     "iopub.status.busy": "2021-08-12T01:30:04.196556Z",
     "iopub.status.idle": "2021-08-12T01:30:04.968878Z",
     "shell.execute_reply": "2021-08-12T01:30:04.969454Z"
    },
    "papermill": {
     "duration": 0.792647,
     "end_time": "2021-08-12T01:30:04.969742",
     "exception": false,
     "start_time": "2021-08-12T01:30:04.177095",
     "status": "completed"
    },
    "tags": []
   },
   "outputs": [],
   "source": [
    "import pandas as pd\n",
    "import sqlite3"
   ]
  },
  {
   "cell_type": "code",
   "execution_count": 2,
   "id": "innovative-syndrome",
   "metadata": {
    "execution": {
     "iopub.execute_input": "2021-08-12T01:30:04.990836Z",
     "iopub.status.busy": "2021-08-12T01:30:04.990054Z",
     "iopub.status.idle": "2021-08-12T01:30:05.225208Z",
     "shell.execute_reply": "2021-08-12T01:30:05.225777Z"
    },
    "papermill": {
     "duration": 0.247851,
     "end_time": "2021-08-12T01:30:05.225973",
     "exception": false,
     "start_time": "2021-08-12T01:30:04.978122",
     "status": "completed"
    },
    "tags": []
   },
   "outputs": [],
   "source": [
    "timestamps = pd.read_sql(\"select distinct record_time from EBAY_TOP_BERLIN order by record_time desc limit 2\", sqlite3.connect(\"UsedObjects.db\"))"
   ]
  },
  {
   "cell_type": "code",
   "execution_count": 3,
   "id": "periodic-identification",
   "metadata": {
    "execution": {
     "iopub.execute_input": "2021-08-12T01:30:05.258926Z",
     "iopub.status.busy": "2021-08-12T01:30:05.258148Z",
     "iopub.status.idle": "2021-08-12T01:30:05.270741Z",
     "shell.execute_reply": "2021-08-12T01:30:05.271317Z"
    },
    "papermill": {
     "duration": 0.03565,
     "end_time": "2021-08-12T01:30:05.271511",
     "exception": false,
     "start_time": "2021-08-12T01:30:05.235861",
     "status": "completed"
    },
    "tags": []
   },
   "outputs": [
    {
     "data": {
      "text/html": [
       "<div>\n",
       "<style scoped>\n",
       "    .dataframe tbody tr th:only-of-type {\n",
       "        vertical-align: middle;\n",
       "    }\n",
       "\n",
       "    .dataframe tbody tr th {\n",
       "        vertical-align: top;\n",
       "    }\n",
       "\n",
       "    .dataframe thead th {\n",
       "        text-align: right;\n",
       "    }\n",
       "</style>\n",
       "<table border=\"1\" class=\"dataframe\">\n",
       "  <thead>\n",
       "    <tr style=\"text-align: right;\">\n",
       "      <th></th>\n",
       "      <th>RECORD_TIME</th>\n",
       "    </tr>\n",
       "  </thead>\n",
       "  <tbody>\n",
       "    <tr>\n",
       "      <th>0</th>\n",
       "      <td>2021-08-12 03:30</td>\n",
       "    </tr>\n",
       "    <tr>\n",
       "      <th>1</th>\n",
       "      <td>2021-08-12 03:00</td>\n",
       "    </tr>\n",
       "  </tbody>\n",
       "</table>\n",
       "</div>"
      ],
      "text/plain": [
       "        RECORD_TIME\n",
       "0  2021-08-12 03:30\n",
       "1  2021-08-12 03:00"
      ]
     },
     "execution_count": 3,
     "metadata": {},
     "output_type": "execute_result"
    }
   ],
   "source": [
    "timestamps"
   ]
  },
  {
   "cell_type": "code",
   "execution_count": 4,
   "id": "alternate-victory",
   "metadata": {
    "execution": {
     "iopub.execute_input": "2021-08-12T01:30:05.292970Z",
     "iopub.status.busy": "2021-08-12T01:30:05.292215Z",
     "iopub.status.idle": "2021-08-12T01:30:05.319351Z",
     "shell.execute_reply": "2021-08-12T01:30:05.318703Z"
    },
    "papermill": {
     "duration": 0.039436,
     "end_time": "2021-08-12T01:30:05.319506",
     "exception": false,
     "start_time": "2021-08-12T01:30:05.280070",
     "status": "completed"
    },
    "tags": []
   },
   "outputs": [],
   "source": [
    "df = pd.read_sql(\"select * from EBAY_TOP_BERLIN where record_time in (select distinct record_time from EBAY_TOP_BERLIN order by record_time desc limit 2)\", sqlite3.connect(\"UsedObjects.db\"))"
   ]
  },
  {
   "cell_type": "code",
   "execution_count": 5,
   "id": "popular-active",
   "metadata": {
    "execution": {
     "iopub.execute_input": "2021-08-12T01:30:05.351099Z",
     "iopub.status.busy": "2021-08-12T01:30:05.349931Z",
     "iopub.status.idle": "2021-08-12T01:30:05.367379Z",
     "shell.execute_reply": "2021-08-12T01:30:05.366767Z"
    },
    "papermill": {
     "duration": 0.037486,
     "end_time": "2021-08-12T01:30:05.367532",
     "exception": false,
     "start_time": "2021-08-12T01:30:05.330046",
     "status": "completed"
    },
    "tags": []
   },
   "outputs": [],
   "source": [
    "df_pivot = df.pivot_table(index=\"PRODUCT\", columns = \"RECORD_TIME\", values = \"LISTING_COUNT\")"
   ]
  },
  {
   "cell_type": "code",
   "execution_count": 6,
   "id": "union-huntington",
   "metadata": {
    "execution": {
     "iopub.execute_input": "2021-08-12T01:30:05.399425Z",
     "iopub.status.busy": "2021-08-12T01:30:05.398735Z",
     "iopub.status.idle": "2021-08-12T01:30:05.406005Z",
     "shell.execute_reply": "2021-08-12T01:30:05.406540Z"
    },
    "papermill": {
     "duration": 0.026429,
     "end_time": "2021-08-12T01:30:05.406723",
     "exception": false,
     "start_time": "2021-08-12T01:30:05.380294",
     "status": "completed"
    },
    "tags": []
   },
   "outputs": [],
   "source": [
    "df_pivot.columns = [\"stamp_1\", \"stamp_2\"]\n",
    "df_pivot_diff = df_pivot.diff(axis=1)"
   ]
  },
  {
   "cell_type": "code",
   "execution_count": 7,
   "id": "fifth-motion",
   "metadata": {
    "execution": {
     "iopub.execute_input": "2021-08-12T01:30:05.436962Z",
     "iopub.status.busy": "2021-08-12T01:30:05.436207Z",
     "iopub.status.idle": "2021-08-12T01:30:06.108900Z",
     "shell.execute_reply": "2021-08-12T01:30:06.109430Z"
    },
    "papermill": {
     "duration": 0.687723,
     "end_time": "2021-08-12T01:30:06.109611",
     "exception": false,
     "start_time": "2021-08-12T01:30:05.421888",
     "status": "completed"
    },
    "tags": []
   },
   "outputs": [
    {
     "data": {
      "text/plain": [
       "<AxesSubplot:ylabel='PRODUCT'>"
      ]
     },
     "execution_count": 7,
     "metadata": {},
     "output_type": "execute_result"
    },
    {
     "data": {
      "image/png": "[encoded data removed]",
      "text/plain": [
       "<Figure size 432x288 with 1 Axes>"
      ]
     },
     "metadata": {
      "needs_background": "light"
     },
     "output_type": "display_data"
    }
   ],
   "source": [
    "df_pivot_diff.sort_values(\"stamp_2\", ascending = False)[\"stamp_2\"].head(10).plot.barh()"
   ]
  },
  {
   "cell_type": "code",
   "execution_count": null,
   "id": "extra-executive",
   "metadata": {
    "papermill": {
     "duration": 0.01361,
     "end_time": "2021-08-12T01:30:06.133031",
     "exception": false,
     "start_time": "2021-08-12T01:30:06.119421",
     "status": "completed"
    },
    "tags": []
   },
   "outputs": [],
   "source": []
  }
 ],
 "metadata": {
  "kernelspec": {
   "display_name": "Python 3",
   "language": "python",
   "name": "python3"
  },
  "language_info": {
   "codemirror_mode": {
    "name": "ipython",
    "version": 3
   },
   "file_extension": ".py",
   "mimetype": "text/x-python",
   "name": "python",
   "nbconvert_exporter": "python",
   "pygments_lexer": "ipython3",
   "version": "3.8.8"
  },
  "papermill": {
   "default_parameters": {},
   "duration": 4.282221,
   "end_time": "2021-08-12T01:30:06.758622",
   "environment_variables": {},
   "exception": null,
   "input_path": "/Users/saravananshanmugam/Carbonleakage_Git/UsedObjects/eBay_Overview.ipynb",
   "output_path": "/Users/saravananshanmugam/Carbonleakage_Git/UsedObjects/eBay_Overview.ipynb",
   "parameters": {},
   "start_time": "2021-08-12T01:30:02.476401",
   "version": "2.3.3"
  }
 },
 "nbformat": 4,
 "nbformat_minor": 5
}