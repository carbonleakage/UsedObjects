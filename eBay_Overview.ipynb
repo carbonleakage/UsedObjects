{
 "cells": [
  {
   "cell_type": "code",
   "execution_count": 1,
   "id": "reverse-picking",
   "metadata": {
    "execution": {
     "iopub.execute_input": "2021-12-02T21:30:07.426077Z",
     "iopub.status.busy": "2021-12-02T21:30:07.423695Z",
     "iopub.status.idle": "2021-12-02T21:30:08.381071Z",
     "shell.execute_reply": "2021-12-02T21:30:08.382654Z"
    },
    "papermill": {
     "duration": 1.008638,
     "end_time": "2021-12-02T21:30:08.383394",
     "exception": false,
     "start_time": "2021-12-02T21:30:07.374756",
     "status": "completed"
    },
    "tags": []
   },
   "outputs": [],
   "source": [
    "import pandas as pd\n",
    "import sqlite3"
   ]
  },
  {
   "cell_type": "code",
   "execution_count": 2,
   "id": "innovative-syndrome",
   "metadata": {
    "execution": {
     "iopub.execute_input": "2021-12-02T21:30:08.503598Z",
     "iopub.status.busy": "2021-12-02T21:30:08.501025Z",
     "iopub.status.idle": "2021-12-02T21:30:09.485107Z",
     "shell.execute_reply": "2021-12-02T21:30:09.483385Z"
    },
    "papermill": {
     "duration": 1.016708,
     "end_time": "2021-12-02T21:30:09.485527",
     "exception": false,
     "start_time": "2021-12-02T21:30:08.468819",
     "status": "completed"
    },
    "tags": []
   },
   "outputs": [],
   "source": [
    "timestamps = pd.read_sql(\"select distinct record_time from EBAY_TOP_BERLIN order by record_time desc limit 2\", sqlite3.connect(\"UsedObjects.db\"))"
   ]
  },
  {
   "cell_type": "code",
   "execution_count": 3,
   "id": "periodic-identification",
   "metadata": {
    "execution": {
     "iopub.execute_input": "2021-12-02T21:30:09.559911Z",
     "iopub.status.busy": "2021-12-02T21:30:09.556356Z",
     "iopub.status.idle": "2021-12-02T21:30:09.585198Z",
     "shell.execute_reply": "2021-12-02T21:30:09.586428Z"
    },
    "papermill": {
     "duration": 0.080834,
     "end_time": "2021-12-02T21:30:09.586862",
     "exception": false,
     "start_time": "2021-12-02T21:30:09.506028",
     "status": "completed"
    },
    "tags": []
   },
   "outputs": [
    {
     "data": {
      "text/html": [
       "<div>\n",
       "<style scoped>\n",
       "    .dataframe tbody tr th:only-of-type {\n",
       "        vertical-align: middle;\n",
       "    }\n",
       "\n",
       "    .dataframe tbody tr th {\n",
       "        vertical-align: top;\n",
       "    }\n",
       "\n",
       "    .dataframe thead th {\n",
       "        text-align: right;\n",
       "    }\n",
       "</style>\n",
       "<table border=\"1\" class=\"dataframe\">\n",
       "  <thead>\n",
       "    <tr style=\"text-align: right;\">\n",
       "      <th></th>\n",
       "      <th>RECORD_TIME</th>\n",
       "    </tr>\n",
       "  </thead>\n",
       "  <tbody>\n",
       "    <tr>\n",
       "      <th>0</th>\n",
       "      <td>2021-12-02 22:30</td>\n",
       "    </tr>\n",
       "    <tr>\n",
       "      <th>1</th>\n",
       "      <td>2021-12-02 22:00</td>\n",
       "    </tr>\n",
       "  </tbody>\n",
       "</table>\n",
       "</div>"
      ],
      "text/plain": [
       "        RECORD_TIME\n",
       "0  2021-12-02 22:30\n",
       "1  2021-12-02 22:00"
      ]
     },
     "execution_count": 3,
     "metadata": {},
     "output_type": "execute_result"
    }
   ],
   "source": [
    "timestamps"
   ]
  },
  {
   "cell_type": "code",
   "execution_count": 4,
   "id": "alternate-victory",
   "metadata": {
    "execution": {
     "iopub.execute_input": "2021-12-02T21:30:09.641913Z",
     "iopub.status.busy": "2021-12-02T21:30:09.639543Z",
     "iopub.status.idle": "2021-12-02T21:30:11.058393Z",
     "shell.execute_reply": "2021-12-02T21:30:11.060558Z"
    },
    "papermill": {
     "duration": 1.450348,
     "end_time": "2021-12-02T21:30:11.061092",
     "exception": false,
     "start_time": "2021-12-02T21:30:09.610744",
     "status": "completed"
    },
    "tags": []
   },
   "outputs": [],
   "source": [
    "df = pd.read_sql(\"select * from EBAY_TOP_BERLIN where record_time in (select distinct record_time from EBAY_TOP_BERLIN order by record_time desc limit 2)\", sqlite3.connect(\"UsedObjects.db\"))"
   ]
  },
  {
   "cell_type": "code",
   "execution_count": 5,
   "id": "popular-active",
   "metadata": {
    "execution": {
     "iopub.execute_input": "2021-12-02T21:30:11.142173Z",
     "iopub.status.busy": "2021-12-02T21:30:11.128154Z",
     "iopub.status.idle": "2021-12-02T21:30:11.160599Z",
     "shell.execute_reply": "2021-12-02T21:30:11.162007Z"
    },
    "papermill": {
     "duration": 0.080814,
     "end_time": "2021-12-02T21:30:11.162458",
     "exception": false,
     "start_time": "2021-12-02T21:30:11.081644",
     "status": "completed"
    },
    "tags": []
   },
   "outputs": [],
   "source": [
    "df_pivot = df.pivot_table(index=\"PRODUCT\", columns = \"RECORD_TIME\", values = \"LISTING_COUNT\")"
   ]
  },
  {
   "cell_type": "code",
   "execution_count": 6,
   "id": "union-huntington",
   "metadata": {
    "execution": {
     "iopub.execute_input": "2021-12-02T21:30:11.230873Z",
     "iopub.status.busy": "2021-12-02T21:30:11.228188Z",
     "iopub.status.idle": "2021-12-02T21:30:11.235143Z",
     "shell.execute_reply": "2021-12-02T21:30:11.236864Z"
    },
    "papermill": {
     "duration": 0.052905,
     "end_time": "2021-12-02T21:30:11.237419",
     "exception": false,
     "start_time": "2021-12-02T21:30:11.184514",
     "status": "completed"
    },
    "tags": []
   },
   "outputs": [],
   "source": [
    "df_pivot.columns = [\"stamp_1\", \"stamp_2\"]\n",
    "df_pivot_diff = df_pivot.diff(axis=1)"
   ]
  },
  {
   "cell_type": "code",
   "execution_count": 7,
   "id": "fifth-motion",
   "metadata": {
    "execution": {
     "iopub.execute_input": "2021-12-02T21:30:11.301509Z",
     "iopub.status.busy": "2021-12-02T21:30:11.298931Z",
     "iopub.status.idle": "2021-12-02T21:30:13.352804Z",
     "shell.execute_reply": "2021-12-02T21:30:13.354779Z"
    },
    "papermill": {
     "duration": 2.091541,
     "end_time": "2021-12-02T21:30:13.355399",
     "exception": false,
     "start_time": "2021-12-02T21:30:11.263858",
     "status": "completed"
    },
    "tags": []
   },
   "outputs": [
    {
     "data": {
      "text/plain": [
       "<AxesSubplot:ylabel='PRODUCT'>"
      ]
     },
     "execution_count": 7,
     "metadata": {},
     "output_type": "execute_result"
    },
    {
     "data": {
      "image/png": "[encoded data removed]",
      "text/plain": [
       "<Figure size 432x288 with 1 Axes>"
      ]
     },
     "metadata": {
      "needs_background": "light"
     },
     "output_type": "display_data"
    }
   ],
   "source": [
    "df_pivot_diff.sort_values(\"stamp_2\", ascending = False)[\"stamp_2\"].head(10).plot.barh()"
   ]
  },
  {
   "cell_type": "code",
   "execution_count": null,
   "id": "extra-executive",
   "metadata": {
    "papermill": {
     "duration": 0.032196,
     "end_time": "2021-12-02T21:30:13.416560",
     "exception": false,
     "start_time": "2021-12-02T21:30:13.384364",
     "status": "completed"
    },
    "tags": []
   },
   "outputs": [],
   "source": []
  }
 ],
 "metadata": {
  "kernelspec": {
   "display_name": "Python 3",
   "language": "python",
   "name": "python3"
  },
  "language_info": {
   "codemirror_mode": {
    "name": "ipython",
    "version": 3
   },
   "file_extension": ".py",
   "mimetype": "text/x-python",
   "name": "python",
   "nbconvert_exporter": "python",
   "pygments_lexer": "ipython3",
   "version": "3.9.5"
  },
  "papermill": {
   "default_parameters": {},
   "duration": 9.448867,
   "end_time": "2021-12-02T21:30:14.063572",
   "environment_variables": {},
   "exception": null,
   "input_path": "eBay_Overview.ipynb",
   "output_path": "eBay_Overview.ipynb",
   "parameters": {},
   "start_time": "2021-12-02T21:30:04.614705",
   "version": "2.3.3"
  }
 },
 "nbformat": 4,
 "nbformat_minor": 5
}