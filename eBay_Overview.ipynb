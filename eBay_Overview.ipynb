{
 "cells": [
  {
   "cell_type": "code",
   "execution_count": 1,
   "id": "reverse-picking",
   "metadata": {
    "execution": {
     "iopub.execute_input": "2021-08-09T15:00:05.450131Z",
     "iopub.status.busy": "2021-08-09T15:00:05.449361Z",
     "iopub.status.idle": "2021-08-09T15:00:06.055763Z",
     "shell.execute_reply": "2021-08-09T15:00:06.056916Z"
    },
    "papermill": {
     "duration": 0.626693,
     "end_time": "2021-08-09T15:00:06.057449",
     "exception": false,
     "start_time": "2021-08-09T15:00:05.430756",
     "status": "completed"
    },
    "tags": []
   },
   "outputs": [],
   "source": [
    "import pandas as pd\n",
    "import sqlite3"
   ]
  },
  {
   "cell_type": "code",
   "execution_count": 2,
   "id": "innovative-syndrome",
   "metadata": {
    "execution": {
     "iopub.execute_input": "2021-08-09T15:00:06.081631Z",
     "iopub.status.busy": "2021-08-09T15:00:06.080840Z",
     "iopub.status.idle": "2021-08-09T15:00:06.316670Z",
     "shell.execute_reply": "2021-08-09T15:00:06.317243Z"
    },
    "papermill": {
     "duration": 0.24861,
     "end_time": "2021-08-09T15:00:06.317437",
     "exception": false,
     "start_time": "2021-08-09T15:00:06.068827",
     "status": "completed"
    },
    "tags": []
   },
   "outputs": [],
   "source": [
    "timestamps = pd.read_sql(\"select distinct record_time from EBAY_TOP_BERLIN order by record_time desc limit 2\", sqlite3.connect(\"UsedObjects.db\"))"
   ]
  },
  {
   "cell_type": "code",
   "execution_count": 3,
   "id": "periodic-identification",
   "metadata": {
    "execution": {
     "iopub.execute_input": "2021-08-09T15:00:06.349974Z",
     "iopub.status.busy": "2021-08-09T15:00:06.349211Z",
     "iopub.status.idle": "2021-08-09T15:00:06.362152Z",
     "shell.execute_reply": "2021-08-09T15:00:06.361541Z"
    },
    "papermill": {
     "duration": 0.034197,
     "end_time": "2021-08-09T15:00:06.362311",
     "exception": false,
     "start_time": "2021-08-09T15:00:06.328114",
     "status": "completed"
    },
    "tags": []
   },
   "outputs": [
    {
     "data": {
      "text/html": [
       "<div>\n",
       "<style scoped>\n",
       "    .dataframe tbody tr th:only-of-type {\n",
       "        vertical-align: middle;\n",
       "    }\n",
       "\n",
       "    .dataframe tbody tr th {\n",
       "        vertical-align: top;\n",
       "    }\n",
       "\n",
       "    .dataframe thead th {\n",
       "        text-align: right;\n",
       "    }\n",
       "</style>\n",
       "<table border=\"1\" class=\"dataframe\">\n",
       "  <thead>\n",
       "    <tr style=\"text-align: right;\">\n",
       "      <th></th>\n",
       "      <th>RECORD_TIME</th>\n",
       "    </tr>\n",
       "  </thead>\n",
       "  <tbody>\n",
       "    <tr>\n",
       "      <th>0</th>\n",
       "      <td>2021-08-09 17:00</td>\n",
       "    </tr>\n",
       "    <tr>\n",
       "      <th>1</th>\n",
       "      <td>2021-08-09 16:30</td>\n",
       "    </tr>\n",
       "  </tbody>\n",
       "</table>\n",
       "</div>"
      ],
      "text/plain": [
       "        RECORD_TIME\n",
       "0  2021-08-09 17:00\n",
       "1  2021-08-09 16:30"
      ]
     },
     "execution_count": 3,
     "metadata": {},
     "output_type": "execute_result"
    }
   ],
   "source": [
    "timestamps"
   ]
  },
  {
   "cell_type": "code",
   "execution_count": 4,
   "id": "alternate-victory",
   "metadata": {
    "execution": {
     "iopub.execute_input": "2021-08-09T15:00:06.385836Z",
     "iopub.status.busy": "2021-08-09T15:00:06.385068Z",
     "iopub.status.idle": "2021-08-09T15:00:06.397224Z",
     "shell.execute_reply": "2021-08-09T15:00:06.396463Z"
    },
    "papermill": {
     "duration": 0.026141,
     "end_time": "2021-08-09T15:00:06.397386",
     "exception": false,
     "start_time": "2021-08-09T15:00:06.371245",
     "status": "completed"
    },
    "tags": []
   },
   "outputs": [],
   "source": [
    "df = pd.read_sql(\"select * from EBAY_TOP_BERLIN where record_time in (select distinct record_time from EBAY_TOP_BERLIN order by record_time desc limit 2)\", sqlite3.connect(\"UsedObjects.db\"))"
   ]
  },
  {
   "cell_type": "code",
   "execution_count": 5,
   "id": "popular-active",
   "metadata": {
    "execution": {
     "iopub.execute_input": "2021-08-09T15:00:06.422023Z",
     "iopub.status.busy": "2021-08-09T15:00:06.421125Z",
     "iopub.status.idle": "2021-08-09T15:00:06.437585Z",
     "shell.execute_reply": "2021-08-09T15:00:06.438161Z"
    },
    "papermill": {
     "duration": 0.031957,
     "end_time": "2021-08-09T15:00:06.438353",
     "exception": false,
     "start_time": "2021-08-09T15:00:06.406396",
     "status": "completed"
    },
    "tags": []
   },
   "outputs": [],
   "source": [
    "df_pivot = df.pivot_table(index=\"PRODUCT\", columns = \"RECORD_TIME\", values = \"LISTING_COUNT\")"
   ]
  },
  {
   "cell_type": "code",
   "execution_count": 6,
   "id": "union-huntington",
   "metadata": {
    "execution": {
     "iopub.execute_input": "2021-08-09T15:00:06.468479Z",
     "iopub.status.busy": "2021-08-09T15:00:06.467787Z",
     "iopub.status.idle": "2021-08-09T15:00:06.475297Z",
     "shell.execute_reply": "2021-08-09T15:00:06.475843Z"
    },
    "papermill": {
     "duration": 0.028019,
     "end_time": "2021-08-09T15:00:06.476024",
     "exception": false,
     "start_time": "2021-08-09T15:00:06.448005",
     "status": "completed"
    },
    "tags": []
   },
   "outputs": [],
   "source": [
    "df_pivot.columns = [\"stamp_1\", \"stamp_2\"]\n",
    "df_pivot_diff = df_pivot.diff(axis=1)"
   ]
  },
  {
   "cell_type": "code",
   "execution_count": 7,
   "id": "fifth-motion",
   "metadata": {
    "execution": {
     "iopub.execute_input": "2021-08-09T15:00:06.500659Z",
     "iopub.status.busy": "2021-08-09T15:00:06.498926Z",
     "iopub.status.idle": "2021-08-09T15:00:07.210221Z",
     "shell.execute_reply": "2021-08-09T15:00:07.210754Z"
    },
    "papermill": {
     "duration": 0.726746,
     "end_time": "2021-08-09T15:00:07.210934",
     "exception": false,
     "start_time": "2021-08-09T15:00:06.484188",
     "status": "completed"
    },
    "tags": []
   },
   "outputs": [
    {
     "data": {
      "text/plain": [
       "<AxesSubplot:ylabel='PRODUCT'>"
      ]
     },
     "execution_count": 7,
     "metadata": {},
     "output_type": "execute_result"
    },
    {
     "data": {
      "image/png": "[encoded data removed]",
      "text/plain": [
       "<Figure size 432x288 with 1 Axes>"
      ]
     },
     "metadata": {
      "needs_background": "light"
     },
     "output_type": "display_data"
    }
   ],
   "source": [
    "df_pivot_diff.sort_values(\"stamp_2\", ascending = False)[\"stamp_2\"].head(10).plot.barh()"
   ]
  },
  {
   "cell_type": "code",
   "execution_count": null,
   "id": "extra-executive",
   "metadata": {
    "papermill": {
     "duration": 0.009692,
     "end_time": "2021-08-09T15:00:07.231455",
     "exception": false,
     "start_time": "2021-08-09T15:00:07.221763",
     "status": "completed"
    },
    "tags": []
   },
   "outputs": [],
   "source": []
  }
 ],
 "metadata": {
  "kernelspec": {
   "display_name": "Python 3",
   "language": "python",
   "name": "python3"
  },
  "language_info": {
   "codemirror_mode": {
    "name": "ipython",
    "version": 3
   },
   "file_extension": ".py",
   "mimetype": "text/x-python",
   "name": "python",
   "nbconvert_exporter": "python",
   "pygments_lexer": "ipython3",
   "version": "3.8.8"
  },
  "papermill": {
   "default_parameters": {},
   "duration": 4.23272,
   "end_time": "2021-08-09T15:00:07.977350",
   "environment_variables": {},
   "exception": null,
   "input_path": "/Users/saravananshanmugam/Carbonleakage_Git/UsedObjects/eBay_Overview.ipynb",
   "output_path": "/Users/saravananshanmugam/Carbonleakage_Git/UsedObjects/eBay_Overview.ipynb",
   "parameters": {},
   "start_time": "2021-08-09T15:00:03.744630",
   "version": "2.3.3"
  }
 },
 "nbformat": 4,
 "nbformat_minor": 5
}