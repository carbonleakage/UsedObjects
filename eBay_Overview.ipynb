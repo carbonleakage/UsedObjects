{
 "cells": [
  {
   "cell_type": "code",
   "execution_count": 1,
   "id": "reverse-picking",
   "metadata": {
    "execution": {
     "iopub.execute_input": "2021-12-08T15:00:07.602894Z",
     "iopub.status.busy": "2021-12-08T15:00:07.600464Z",
     "iopub.status.idle": "2021-12-08T15:00:08.548401Z",
     "shell.execute_reply": "2021-12-08T15:00:08.550136Z"
    },
    "papermill": {
     "duration": 0.997277,
     "end_time": "2021-12-08T15:00:08.550858",
     "exception": false,
     "start_time": "2021-12-08T15:00:07.553581",
     "status": "completed"
    },
    "tags": []
   },
   "outputs": [],
   "source": [
    "import pandas as pd\n",
    "import sqlite3"
   ]
  },
  {
   "cell_type": "code",
   "execution_count": 2,
   "id": "innovative-syndrome",
   "metadata": {
    "execution": {
     "iopub.execute_input": "2021-12-08T15:00:08.609479Z",
     "iopub.status.busy": "2021-12-08T15:00:08.607112Z",
     "iopub.status.idle": "2021-12-08T15:00:09.634550Z",
     "shell.execute_reply": "2021-12-08T15:00:09.636020Z"
    },
    "papermill": {
     "duration": 1.05926,
     "end_time": "2021-12-08T15:00:09.636514",
     "exception": false,
     "start_time": "2021-12-08T15:00:08.577254",
     "status": "completed"
    },
    "tags": []
   },
   "outputs": [],
   "source": [
    "timestamps = pd.read_sql(\"select distinct record_time from EBAY_TOP_BERLIN order by record_time desc limit 2\", sqlite3.connect(\"UsedObjects.db\"))"
   ]
  },
  {
   "cell_type": "code",
   "execution_count": 3,
   "id": "periodic-identification",
   "metadata": {
    "execution": {
     "iopub.execute_input": "2021-12-08T15:00:09.733975Z",
     "iopub.status.busy": "2021-12-08T15:00:09.730146Z",
     "iopub.status.idle": "2021-12-08T15:00:09.759773Z",
     "shell.execute_reply": "2021-12-08T15:00:09.758061Z"
    },
    "papermill": {
     "duration": 0.101259,
     "end_time": "2021-12-08T15:00:09.760259",
     "exception": false,
     "start_time": "2021-12-08T15:00:09.659000",
     "status": "completed"
    },
    "tags": []
   },
   "outputs": [
    {
     "data": {
      "text/html": [
       "<div>\n",
       "<style scoped>\n",
       "    .dataframe tbody tr th:only-of-type {\n",
       "        vertical-align: middle;\n",
       "    }\n",
       "\n",
       "    .dataframe tbody tr th {\n",
       "        vertical-align: top;\n",
       "    }\n",
       "\n",
       "    .dataframe thead th {\n",
       "        text-align: right;\n",
       "    }\n",
       "</style>\n",
       "<table border=\"1\" class=\"dataframe\">\n",
       "  <thead>\n",
       "    <tr style=\"text-align: right;\">\n",
       "      <th></th>\n",
       "      <th>RECORD_TIME</th>\n",
       "    </tr>\n",
       "  </thead>\n",
       "  <tbody>\n",
       "    <tr>\n",
       "      <th>0</th>\n",
       "      <td>2021-12-08 16:00</td>\n",
       "    </tr>\n",
       "    <tr>\n",
       "      <th>1</th>\n",
       "      <td>2021-12-08 15:30</td>\n",
       "    </tr>\n",
       "  </tbody>\n",
       "</table>\n",
       "</div>"
      ],
      "text/plain": [
       "        RECORD_TIME\n",
       "0  2021-12-08 16:00\n",
       "1  2021-12-08 15:30"
      ]
     },
     "execution_count": 3,
     "metadata": {},
     "output_type": "execute_result"
    }
   ],
   "source": [
    "timestamps"
   ]
  },
  {
   "cell_type": "code",
   "execution_count": 4,
   "id": "alternate-victory",
   "metadata": {
    "execution": {
     "iopub.execute_input": "2021-12-08T15:00:09.817025Z",
     "iopub.status.busy": "2021-12-08T15:00:09.814715Z",
     "iopub.status.idle": "2021-12-08T15:00:11.316305Z",
     "shell.execute_reply": "2021-12-08T15:00:11.319163Z"
    },
    "papermill": {
     "duration": 1.537563,
     "end_time": "2021-12-08T15:00:11.320027",
     "exception": false,
     "start_time": "2021-12-08T15:00:09.782464",
     "status": "completed"
    },
    "tags": []
   },
   "outputs": [],
   "source": [
    "df = pd.read_sql(\"select * from EBAY_TOP_BERLIN where record_time in (select distinct record_time from EBAY_TOP_BERLIN order by record_time desc limit 2)\", sqlite3.connect(\"UsedObjects.db\"))"
   ]
  },
  {
   "cell_type": "code",
   "execution_count": 5,
   "id": "popular-active",
   "metadata": {
    "execution": {
     "iopub.execute_input": "2021-12-08T15:00:11.446553Z",
     "iopub.status.busy": "2021-12-08T15:00:11.421023Z",
     "iopub.status.idle": "2021-12-08T15:00:11.475877Z",
     "shell.execute_reply": "2021-12-08T15:00:11.478956Z"
    },
    "papermill": {
     "duration": 0.127282,
     "end_time": "2021-12-08T15:00:11.479632",
     "exception": false,
     "start_time": "2021-12-08T15:00:11.352350",
     "status": "completed"
    },
    "tags": []
   },
   "outputs": [],
   "source": [
    "df_pivot = df.pivot_table(index=\"PRODUCT\", columns = \"RECORD_TIME\", values = \"LISTING_COUNT\")"
   ]
  },
  {
   "cell_type": "code",
   "execution_count": 6,
   "id": "union-huntington",
   "metadata": {
    "execution": {
     "iopub.execute_input": "2021-12-08T15:00:11.564408Z",
     "iopub.status.busy": "2021-12-08T15:00:11.561247Z",
     "iopub.status.idle": "2021-12-08T15:00:11.574609Z",
     "shell.execute_reply": "2021-12-08T15:00:11.571635Z"
    },
    "papermill": {
     "duration": 0.071171,
     "end_time": "2021-12-08T15:00:11.575290",
     "exception": false,
     "start_time": "2021-12-08T15:00:11.504119",
     "status": "completed"
    },
    "tags": []
   },
   "outputs": [],
   "source": [
    "df_pivot.columns = [\"stamp_1\", \"stamp_2\"]\n",
    "df_pivot_diff = df_pivot.diff(axis=1)"
   ]
  },
  {
   "cell_type": "code",
   "execution_count": 7,
   "id": "fifth-motion",
   "metadata": {
    "execution": {
     "iopub.execute_input": "2021-12-08T15:00:11.667101Z",
     "iopub.status.busy": "2021-12-08T15:00:11.654447Z",
     "iopub.status.idle": "2021-12-08T15:00:13.373425Z",
     "shell.execute_reply": "2021-12-08T15:00:13.374657Z"
    },
    "papermill": {
     "duration": 1.769502,
     "end_time": "2021-12-08T15:00:13.375096",
     "exception": false,
     "start_time": "2021-12-08T15:00:11.605594",
     "status": "completed"
    },
    "tags": []
   },
   "outputs": [
    {
     "data": {
      "text/plain": [
       "<AxesSubplot:ylabel='PRODUCT'>"
      ]
     },
     "execution_count": 7,
     "metadata": {},
     "output_type": "execute_result"
    },
    {
     "data": {
      "image/png": "[encoded data removed]",
      "text/plain": [
       "<Figure size 432x288 with 1 Axes>"
      ]
     },
     "metadata": {
      "needs_background": "light"
     },
     "output_type": "display_data"
    }
   ],
   "source": [
    "df_pivot_diff.sort_values(\"stamp_2\", ascending = False)[\"stamp_2\"].head(10).plot.barh()"
   ]
  },
  {
   "cell_type": "code",
   "execution_count": null,
   "id": "extra-executive",
   "metadata": {
    "papermill": {
     "duration": 0.022518,
     "end_time": "2021-12-08T15:00:13.424136",
     "exception": false,
     "start_time": "2021-12-08T15:00:13.401618",
     "status": "completed"
    },
    "tags": []
   },
   "outputs": [],
   "source": []
  }
 ],
 "metadata": {
  "kernelspec": {
   "display_name": "Python 3",
   "language": "python",
   "name": "python3"
  },
  "language_info": {
   "codemirror_mode": {
    "name": "ipython",
    "version": 3
   },
   "file_extension": ".py",
   "mimetype": "text/x-python",
   "name": "python",
   "nbconvert_exporter": "python",
   "pygments_lexer": "ipython3",
   "version": "3.9.5"
  },
  "papermill": {
   "default_parameters": {},
   "duration": 9.94079,
   "end_time": "2021-12-08T15:00:14.760278",
   "environment_variables": {},
   "exception": null,
   "input_path": "eBay_Overview.ipynb",
   "output_path": "eBay_Overview.ipynb",
   "parameters": {},
   "start_time": "2021-12-08T15:00:04.819488",
   "version": "2.3.3"
  }
 },
 "nbformat": 4,
 "nbformat_minor": 5
}