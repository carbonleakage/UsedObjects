{
 "cells": [
  {
   "cell_type": "code",
   "execution_count": 1,
   "id": "reverse-picking",
   "metadata": {
    "execution": {
     "iopub.execute_input": "2021-10-12T03:00:06.887147Z",
     "iopub.status.busy": "2021-10-12T03:00:06.885221Z",
     "iopub.status.idle": "2021-10-12T03:00:07.688557Z",
     "shell.execute_reply": "2021-10-12T03:00:07.689994Z"
    },
    "papermill": {
     "duration": 0.856726,
     "end_time": "2021-10-12T03:00:07.690638",
     "exception": false,
     "start_time": "2021-10-12T03:00:06.833912",
     "status": "completed"
    },
    "tags": []
   },
   "outputs": [],
   "source": [
    "import pandas as pd\n",
    "import sqlite3"
   ]
  },
  {
   "cell_type": "code",
   "execution_count": 2,
   "id": "innovative-syndrome",
   "metadata": {
    "execution": {
     "iopub.execute_input": "2021-10-12T03:00:07.741384Z",
     "iopub.status.busy": "2021-10-12T03:00:07.739393Z",
     "iopub.status.idle": "2021-10-12T03:00:08.243403Z",
     "shell.execute_reply": "2021-10-12T03:00:08.244587Z"
    },
    "papermill": {
     "duration": 0.533872,
     "end_time": "2021-10-12T03:00:08.245663",
     "exception": false,
     "start_time": "2021-10-12T03:00:07.711791",
     "status": "completed"
    },
    "tags": []
   },
   "outputs": [],
   "source": [
    "timestamps = pd.read_sql(\"select distinct record_time from EBAY_TOP_BERLIN order by record_time desc limit 2\", sqlite3.connect(\"UsedObjects.db\"))"
   ]
  },
  {
   "cell_type": "code",
   "execution_count": 3,
   "id": "periodic-identification",
   "metadata": {
    "execution": {
     "iopub.execute_input": "2021-10-12T03:00:08.310535Z",
     "iopub.status.busy": "2021-10-12T03:00:08.308436Z",
     "iopub.status.idle": "2021-10-12T03:00:08.328387Z",
     "shell.execute_reply": "2021-10-12T03:00:08.329604Z"
    },
    "papermill": {
     "duration": 0.064526,
     "end_time": "2021-10-12T03:00:08.330016",
     "exception": false,
     "start_time": "2021-10-12T03:00:08.265490",
     "status": "completed"
    },
    "tags": []
   },
   "outputs": [
    {
     "data": {
      "text/html": [
       "<div>\n",
       "<style scoped>\n",
       "    .dataframe tbody tr th:only-of-type {\n",
       "        vertical-align: middle;\n",
       "    }\n",
       "\n",
       "    .dataframe tbody tr th {\n",
       "        vertical-align: top;\n",
       "    }\n",
       "\n",
       "    .dataframe thead th {\n",
       "        text-align: right;\n",
       "    }\n",
       "</style>\n",
       "<table border=\"1\" class=\"dataframe\">\n",
       "  <thead>\n",
       "    <tr style=\"text-align: right;\">\n",
       "      <th></th>\n",
       "      <th>RECORD_TIME</th>\n",
       "    </tr>\n",
       "  </thead>\n",
       "  <tbody>\n",
       "    <tr>\n",
       "      <th>0</th>\n",
       "      <td>2021-10-12 05:00</td>\n",
       "    </tr>\n",
       "    <tr>\n",
       "      <th>1</th>\n",
       "      <td>2021-10-12 04:30</td>\n",
       "    </tr>\n",
       "  </tbody>\n",
       "</table>\n",
       "</div>"
      ],
      "text/plain": [
       "        RECORD_TIME\n",
       "0  2021-10-12 05:00\n",
       "1  2021-10-12 04:30"
      ]
     },
     "execution_count": 3,
     "metadata": {},
     "output_type": "execute_result"
    }
   ],
   "source": [
    "timestamps"
   ]
  },
  {
   "cell_type": "code",
   "execution_count": 4,
   "id": "alternate-victory",
   "metadata": {
    "execution": {
     "iopub.execute_input": "2021-10-12T03:00:08.393475Z",
     "iopub.status.busy": "2021-10-12T03:00:08.391510Z",
     "iopub.status.idle": "2021-10-12T03:00:09.140012Z",
     "shell.execute_reply": "2021-10-12T03:00:09.141367Z"
    },
    "papermill": {
     "duration": 0.782497,
     "end_time": "2021-10-12T03:00:09.141792",
     "exception": false,
     "start_time": "2021-10-12T03:00:08.359295",
     "status": "completed"
    },
    "tags": []
   },
   "outputs": [],
   "source": [
    "df = pd.read_sql(\"select * from EBAY_TOP_BERLIN where record_time in (select distinct record_time from EBAY_TOP_BERLIN order by record_time desc limit 2)\", sqlite3.connect(\"UsedObjects.db\"))"
   ]
  },
  {
   "cell_type": "code",
   "execution_count": 5,
   "id": "popular-active",
   "metadata": {
    "execution": {
     "iopub.execute_input": "2021-10-12T03:00:09.211175Z",
     "iopub.status.busy": "2021-10-12T03:00:09.199323Z",
     "iopub.status.idle": "2021-10-12T03:00:09.231247Z",
     "shell.execute_reply": "2021-10-12T03:00:09.232609Z"
    },
    "papermill": {
     "duration": 0.070612,
     "end_time": "2021-10-12T03:00:09.233147",
     "exception": false,
     "start_time": "2021-10-12T03:00:09.162535",
     "status": "completed"
    },
    "tags": []
   },
   "outputs": [],
   "source": [
    "df_pivot = df.pivot_table(index=\"PRODUCT\", columns = \"RECORD_TIME\", values = \"LISTING_COUNT\")"
   ]
  },
  {
   "cell_type": "code",
   "execution_count": 6,
   "id": "union-huntington",
   "metadata": {
    "execution": {
     "iopub.execute_input": "2021-10-12T03:00:09.290093Z",
     "iopub.status.busy": "2021-10-12T03:00:09.287970Z",
     "iopub.status.idle": "2021-10-12T03:00:09.293280Z",
     "shell.execute_reply": "2021-10-12T03:00:09.294482Z"
    },
    "papermill": {
     "duration": 0.041836,
     "end_time": "2021-10-12T03:00:09.294900",
     "exception": false,
     "start_time": "2021-10-12T03:00:09.253064",
     "status": "completed"
    },
    "tags": []
   },
   "outputs": [],
   "source": [
    "df_pivot.columns = [\"stamp_1\", \"stamp_2\"]\n",
    "df_pivot_diff = df_pivot.diff(axis=1)"
   ]
  },
  {
   "cell_type": "code",
   "execution_count": 7,
   "id": "fifth-motion",
   "metadata": {
    "execution": {
     "iopub.execute_input": "2021-10-12T03:00:09.351488Z",
     "iopub.status.busy": "2021-10-12T03:00:09.349252Z",
     "iopub.status.idle": "2021-10-12T03:00:10.855528Z",
     "shell.execute_reply": "2021-10-12T03:00:10.856885Z"
    },
    "papermill": {
     "duration": 1.539513,
     "end_time": "2021-10-12T03:00:10.857338",
     "exception": false,
     "start_time": "2021-10-12T03:00:09.317825",
     "status": "completed"
    },
    "tags": []
   },
   "outputs": [
    {
     "data": {
      "text/plain": [
       "<AxesSubplot:ylabel='PRODUCT'>"
      ]
     },
     "execution_count": 7,
     "metadata": {},
     "output_type": "execute_result"
    },
    {
     "data": {
      "image/png": "[encoded data removed]",
      "text/plain": [
       "<Figure size 432x288 with 1 Axes>"
      ]
     },
     "metadata": {
      "needs_background": "light"
     },
     "output_type": "display_data"
    }
   ],
   "source": [
    "df_pivot_diff.sort_values(\"stamp_2\", ascending = False)[\"stamp_2\"].head(10).plot.barh()"
   ]
  },
  {
   "cell_type": "code",
   "execution_count": null,
   "id": "extra-executive",
   "metadata": {
    "papermill": {
     "duration": 0.022071,
     "end_time": "2021-10-12T03:00:10.904012",
     "exception": false,
     "start_time": "2021-10-12T03:00:10.881941",
     "status": "completed"
    },
    "tags": []
   },
   "outputs": [],
   "source": []
  }
 ],
 "metadata": {
  "kernelspec": {
   "display_name": "Python 3",
   "language": "python",
   "name": "python3"
  },
  "language_info": {
   "codemirror_mode": {
    "name": "ipython",
    "version": 3
   },
   "file_extension": ".py",
   "mimetype": "text/x-python",
   "name": "python",
   "nbconvert_exporter": "python",
   "pygments_lexer": "ipython3",
   "version": "3.9.5"
  },
  "papermill": {
   "default_parameters": {},
   "duration": 7.833812,
   "end_time": "2021-10-12T03:00:12.275604",
   "environment_variables": {},
   "exception": null,
   "input_path": "eBay_Overview.ipynb",
   "output_path": "eBay_Overview.ipynb",
   "parameters": {},
   "start_time": "2021-10-12T03:00:04.441792",
   "version": "2.3.3"
  }
 },
 "nbformat": 4,
 "nbformat_minor": 5
}