{
 "cells": [
  {
   "cell_type": "code",
   "execution_count": 1,
   "id": "reverse-picking",
   "metadata": {
    "execution": {
     "iopub.execute_input": "2021-11-14T16:30:08.210302Z",
     "iopub.status.busy": "2021-11-14T16:30:08.208055Z",
     "iopub.status.idle": "2021-11-14T16:30:09.161053Z",
     "shell.execute_reply": "2021-11-14T16:30:09.162690Z"
    },
    "papermill": {
     "duration": 1.001844,
     "end_time": "2021-11-14T16:30:09.163489",
     "exception": false,
     "start_time": "2021-11-14T16:30:08.161645",
     "status": "completed"
    },
    "tags": []
   },
   "outputs": [],
   "source": [
    "import pandas as pd\n",
    "import sqlite3"
   ]
  },
  {
   "cell_type": "code",
   "execution_count": 2,
   "id": "innovative-syndrome",
   "metadata": {
    "execution": {
     "iopub.execute_input": "2021-11-14T16:30:09.236905Z",
     "iopub.status.busy": "2021-11-14T16:30:09.234599Z",
     "iopub.status.idle": "2021-11-14T16:30:10.035003Z",
     "shell.execute_reply": "2021-11-14T16:30:10.036384Z"
    },
    "papermill": {
     "duration": 0.840675,
     "end_time": "2021-11-14T16:30:10.036933",
     "exception": false,
     "start_time": "2021-11-14T16:30:09.196258",
     "status": "completed"
    },
    "tags": []
   },
   "outputs": [],
   "source": [
    "timestamps = pd.read_sql(\"select distinct record_time from EBAY_TOP_BERLIN order by record_time desc limit 2\", sqlite3.connect(\"UsedObjects.db\"))"
   ]
  },
  {
   "cell_type": "code",
   "execution_count": 3,
   "id": "periodic-identification",
   "metadata": {
    "execution": {
     "iopub.execute_input": "2021-11-14T16:30:10.108475Z",
     "iopub.status.busy": "2021-11-14T16:30:10.090444Z",
     "iopub.status.idle": "2021-11-14T16:30:10.129090Z",
     "shell.execute_reply": "2021-11-14T16:30:10.130496Z"
    },
    "papermill": {
     "duration": 0.073969,
     "end_time": "2021-11-14T16:30:10.130940",
     "exception": false,
     "start_time": "2021-11-14T16:30:10.056971",
     "status": "completed"
    },
    "tags": []
   },
   "outputs": [
    {
     "data": {
      "text/html": [
       "<div>\n",
       "<style scoped>\n",
       "    .dataframe tbody tr th:only-of-type {\n",
       "        vertical-align: middle;\n",
       "    }\n",
       "\n",
       "    .dataframe tbody tr th {\n",
       "        vertical-align: top;\n",
       "    }\n",
       "\n",
       "    .dataframe thead th {\n",
       "        text-align: right;\n",
       "    }\n",
       "</style>\n",
       "<table border=\"1\" class=\"dataframe\">\n",
       "  <thead>\n",
       "    <tr style=\"text-align: right;\">\n",
       "      <th></th>\n",
       "      <th>RECORD_TIME</th>\n",
       "    </tr>\n",
       "  </thead>\n",
       "  <tbody>\n",
       "    <tr>\n",
       "      <th>0</th>\n",
       "      <td>2021-11-14 17:30</td>\n",
       "    </tr>\n",
       "    <tr>\n",
       "      <th>1</th>\n",
       "      <td>2021-11-14 17:00</td>\n",
       "    </tr>\n",
       "  </tbody>\n",
       "</table>\n",
       "</div>"
      ],
      "text/plain": [
       "        RECORD_TIME\n",
       "0  2021-11-14 17:30\n",
       "1  2021-11-14 17:00"
      ]
     },
     "execution_count": 3,
     "metadata": {},
     "output_type": "execute_result"
    }
   ],
   "source": [
    "timestamps"
   ]
  },
  {
   "cell_type": "code",
   "execution_count": 4,
   "id": "alternate-victory",
   "metadata": {
    "execution": {
     "iopub.execute_input": "2021-11-14T16:30:10.182218Z",
     "iopub.status.busy": "2021-11-14T16:30:10.179813Z",
     "iopub.status.idle": "2021-11-14T16:30:11.369824Z",
     "shell.execute_reply": "2021-11-14T16:30:11.371540Z"
    },
    "papermill": {
     "duration": 1.220668,
     "end_time": "2021-11-14T16:30:11.372046",
     "exception": false,
     "start_time": "2021-11-14T16:30:10.151378",
     "status": "completed"
    },
    "tags": []
   },
   "outputs": [],
   "source": [
    "df = pd.read_sql(\"select * from EBAY_TOP_BERLIN where record_time in (select distinct record_time from EBAY_TOP_BERLIN order by record_time desc limit 2)\", sqlite3.connect(\"UsedObjects.db\"))"
   ]
  },
  {
   "cell_type": "code",
   "execution_count": 5,
   "id": "popular-active",
   "metadata": {
    "execution": {
     "iopub.execute_input": "2021-11-14T16:30:11.449808Z",
     "iopub.status.busy": "2021-11-14T16:30:11.436279Z",
     "iopub.status.idle": "2021-11-14T16:30:11.470374Z",
     "shell.execute_reply": "2021-11-14T16:30:11.468814Z"
    },
    "papermill": {
     "duration": 0.078247,
     "end_time": "2021-11-14T16:30:11.470802",
     "exception": false,
     "start_time": "2021-11-14T16:30:11.392555",
     "status": "completed"
    },
    "tags": []
   },
   "outputs": [],
   "source": [
    "df_pivot = df.pivot_table(index=\"PRODUCT\", columns = \"RECORD_TIME\", values = \"LISTING_COUNT\")"
   ]
  },
  {
   "cell_type": "code",
   "execution_count": 6,
   "id": "union-huntington",
   "metadata": {
    "execution": {
     "iopub.execute_input": "2021-11-14T16:30:11.532951Z",
     "iopub.status.busy": "2021-11-14T16:30:11.530482Z",
     "iopub.status.idle": "2021-11-14T16:30:11.536809Z",
     "shell.execute_reply": "2021-11-14T16:30:11.538322Z"
    },
    "papermill": {
     "duration": 0.046036,
     "end_time": "2021-11-14T16:30:11.538786",
     "exception": false,
     "start_time": "2021-11-14T16:30:11.492750",
     "status": "completed"
    },
    "tags": []
   },
   "outputs": [],
   "source": [
    "df_pivot.columns = [\"stamp_1\", \"stamp_2\"]\n",
    "df_pivot_diff = df_pivot.diff(axis=1)"
   ]
  },
  {
   "cell_type": "code",
   "execution_count": 7,
   "id": "fifth-motion",
   "metadata": {
    "execution": {
     "iopub.execute_input": "2021-11-14T16:30:11.594091Z",
     "iopub.status.busy": "2021-11-14T16:30:11.591517Z",
     "iopub.status.idle": "2021-11-14T16:30:13.525945Z",
     "shell.execute_reply": "2021-11-14T16:30:13.528552Z"
    },
    "papermill": {
     "duration": 1.970846,
     "end_time": "2021-11-14T16:30:13.529322",
     "exception": false,
     "start_time": "2021-11-14T16:30:11.558476",
     "status": "completed"
    },
    "tags": []
   },
   "outputs": [
    {
     "data": {
      "text/plain": [
       "<AxesSubplot:ylabel='PRODUCT'>"
      ]
     },
     "execution_count": 7,
     "metadata": {},
     "output_type": "execute_result"
    },
    {
     "data": {
      "image/png": "[encoded data removed]",
      "text/plain": [
       "<Figure size 432x288 with 1 Axes>"
      ]
     },
     "metadata": {
      "needs_background": "light"
     },
     "output_type": "display_data"
    }
   ],
   "source": [
    "df_pivot_diff.sort_values(\"stamp_2\", ascending = False)[\"stamp_2\"].head(10).plot.barh()"
   ]
  },
  {
   "cell_type": "code",
   "execution_count": null,
   "id": "extra-executive",
   "metadata": {
    "papermill": {
     "duration": 0.037765,
     "end_time": "2021-11-14T16:30:13.601193",
     "exception": false,
     "start_time": "2021-11-14T16:30:13.563428",
     "status": "completed"
    },
    "tags": []
   },
   "outputs": [],
   "source": []
  }
 ],
 "metadata": {
  "kernelspec": {
   "display_name": "Python 3",
   "language": "python",
   "name": "python3"
  },
  "language_info": {
   "codemirror_mode": {
    "name": "ipython",
    "version": 3
   },
   "file_extension": ".py",
   "mimetype": "text/x-python",
   "name": "python",
   "nbconvert_exporter": "python",
   "pygments_lexer": "ipython3",
   "version": "3.9.5"
  },
  "papermill": {
   "default_parameters": {},
   "duration": 9.936088,
   "end_time": "2021-11-14T16:30:15.350566",
   "environment_variables": {},
   "exception": null,
   "input_path": "eBay_Overview.ipynb",
   "output_path": "eBay_Overview.ipynb",
   "parameters": {},
   "start_time": "2021-11-14T16:30:05.414478",
   "version": "2.3.3"
  }
 },
 "nbformat": 4,
 "nbformat_minor": 5
}