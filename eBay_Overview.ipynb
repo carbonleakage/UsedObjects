{
 "cells": [
  {
   "cell_type": "code",
   "execution_count": 1,
   "id": "reverse-picking",
   "metadata": {
    "execution": {
     "iopub.execute_input": "2021-08-30T20:00:07.148334Z",
     "iopub.status.busy": "2021-08-30T20:00:07.146358Z",
     "iopub.status.idle": "2021-08-30T20:00:07.951969Z",
     "shell.execute_reply": "2021-08-30T20:00:07.953338Z"
    },
    "papermill": {
     "duration": 0.856057,
     "end_time": "2021-08-30T20:00:07.953970",
     "exception": false,
     "start_time": "2021-08-30T20:00:07.097913",
     "status": "completed"
    },
    "tags": []
   },
   "outputs": [],
   "source": [
    "import pandas as pd\n",
    "import sqlite3"
   ]
  },
  {
   "cell_type": "code",
   "execution_count": 2,
   "id": "innovative-syndrome",
   "metadata": {
    "execution": {
     "iopub.execute_input": "2021-08-30T20:00:08.005103Z",
     "iopub.status.busy": "2021-08-30T20:00:08.002991Z",
     "iopub.status.idle": "2021-08-30T20:00:08.168734Z",
     "shell.execute_reply": "2021-08-30T20:00:08.169962Z"
    },
    "papermill": {
     "duration": 0.195144,
     "end_time": "2021-08-30T20:00:08.170359",
     "exception": false,
     "start_time": "2021-08-30T20:00:07.975215",
     "status": "completed"
    },
    "tags": []
   },
   "outputs": [],
   "source": [
    "timestamps = pd.read_sql(\"select distinct record_time from EBAY_TOP_BERLIN order by record_time desc limit 2\", sqlite3.connect(\"UsedObjects.db\"))"
   ]
  },
  {
   "cell_type": "code",
   "execution_count": 3,
   "id": "periodic-identification",
   "metadata": {
    "execution": {
     "iopub.execute_input": "2021-08-30T20:00:08.238368Z",
     "iopub.status.busy": "2021-08-30T20:00:08.236351Z",
     "iopub.status.idle": "2021-08-30T20:00:08.259253Z",
     "shell.execute_reply": "2021-08-30T20:00:08.260700Z"
    },
    "papermill": {
     "duration": 0.068492,
     "end_time": "2021-08-30T20:00:08.261191",
     "exception": false,
     "start_time": "2021-08-30T20:00:08.192699",
     "status": "completed"
    },
    "tags": []
   },
   "outputs": [
    {
     "data": {
      "text/html": [
       "<div>\n",
       "<style scoped>\n",
       "    .dataframe tbody tr th:only-of-type {\n",
       "        vertical-align: middle;\n",
       "    }\n",
       "\n",
       "    .dataframe tbody tr th {\n",
       "        vertical-align: top;\n",
       "    }\n",
       "\n",
       "    .dataframe thead th {\n",
       "        text-align: right;\n",
       "    }\n",
       "</style>\n",
       "<table border=\"1\" class=\"dataframe\">\n",
       "  <thead>\n",
       "    <tr style=\"text-align: right;\">\n",
       "      <th></th>\n",
       "      <th>RECORD_TIME</th>\n",
       "    </tr>\n",
       "  </thead>\n",
       "  <tbody>\n",
       "    <tr>\n",
       "      <th>0</th>\n",
       "      <td>2021-08-30 22:00</td>\n",
       "    </tr>\n",
       "    <tr>\n",
       "      <th>1</th>\n",
       "      <td>2021-08-30 21:30</td>\n",
       "    </tr>\n",
       "  </tbody>\n",
       "</table>\n",
       "</div>"
      ],
      "text/plain": [
       "        RECORD_TIME\n",
       "0  2021-08-30 22:00\n",
       "1  2021-08-30 21:30"
      ]
     },
     "execution_count": 3,
     "metadata": {},
     "output_type": "execute_result"
    }
   ],
   "source": [
    "timestamps"
   ]
  },
  {
   "cell_type": "code",
   "execution_count": 4,
   "id": "alternate-victory",
   "metadata": {
    "execution": {
     "iopub.execute_input": "2021-08-30T20:00:08.313577Z",
     "iopub.status.busy": "2021-08-30T20:00:08.311567Z",
     "iopub.status.idle": "2021-08-30T20:00:08.556994Z",
     "shell.execute_reply": "2021-08-30T20:00:08.558223Z"
    },
    "papermill": {
     "duration": 0.275016,
     "end_time": "2021-08-30T20:00:08.558616",
     "exception": false,
     "start_time": "2021-08-30T20:00:08.283600",
     "status": "completed"
    },
    "tags": []
   },
   "outputs": [],
   "source": [
    "df = pd.read_sql(\"select * from EBAY_TOP_BERLIN where record_time in (select distinct record_time from EBAY_TOP_BERLIN order by record_time desc limit 2)\", sqlite3.connect(\"UsedObjects.db\"))"
   ]
  },
  {
   "cell_type": "code",
   "execution_count": 5,
   "id": "popular-active",
   "metadata": {
    "execution": {
     "iopub.execute_input": "2021-08-30T20:00:08.637243Z",
     "iopub.status.busy": "2021-08-30T20:00:08.626234Z",
     "iopub.status.idle": "2021-08-30T20:00:08.653432Z",
     "shell.execute_reply": "2021-08-30T20:00:08.654815Z"
    },
    "papermill": {
     "duration": 0.071899,
     "end_time": "2021-08-30T20:00:08.655253",
     "exception": false,
     "start_time": "2021-08-30T20:00:08.583354",
     "status": "completed"
    },
    "tags": []
   },
   "outputs": [],
   "source": [
    "df_pivot = df.pivot_table(index=\"PRODUCT\", columns = \"RECORD_TIME\", values = \"LISTING_COUNT\")"
   ]
  },
  {
   "cell_type": "code",
   "execution_count": 6,
   "id": "union-huntington",
   "metadata": {
    "execution": {
     "iopub.execute_input": "2021-08-30T20:00:08.713458Z",
     "iopub.status.busy": "2021-08-30T20:00:08.710975Z",
     "iopub.status.idle": "2021-08-30T20:00:08.716904Z",
     "shell.execute_reply": "2021-08-30T20:00:08.718215Z"
    },
    "papermill": {
     "duration": 0.041883,
     "end_time": "2021-08-30T20:00:08.718635",
     "exception": false,
     "start_time": "2021-08-30T20:00:08.676752",
     "status": "completed"
    },
    "tags": []
   },
   "outputs": [],
   "source": [
    "df_pivot.columns = [\"stamp_1\", \"stamp_2\"]\n",
    "df_pivot_diff = df_pivot.diff(axis=1)"
   ]
  },
  {
   "cell_type": "code",
   "execution_count": 7,
   "id": "fifth-motion",
   "metadata": {
    "execution": {
     "iopub.execute_input": "2021-08-30T20:00:08.772073Z",
     "iopub.status.busy": "2021-08-30T20:00:08.769647Z",
     "iopub.status.idle": "2021-08-30T20:00:10.257296Z",
     "shell.execute_reply": "2021-08-30T20:00:10.258594Z"
    },
    "papermill": {
     "duration": 1.52004,
     "end_time": "2021-08-30T20:00:10.259012",
     "exception": false,
     "start_time": "2021-08-30T20:00:08.738972",
     "status": "completed"
    },
    "tags": []
   },
   "outputs": [
    {
     "data": {
      "text/plain": [
       "<AxesSubplot:ylabel='PRODUCT'>"
      ]
     },
     "execution_count": 7,
     "metadata": {},
     "output_type": "execute_result"
    },
    {
     "data": {
      "image/png": "[encoded data removed]",
      "text/plain": [
       "<Figure size 432x288 with 1 Axes>"
      ]
     },
     "metadata": {
      "needs_background": "light"
     },
     "output_type": "display_data"
    }
   ],
   "source": [
    "df_pivot_diff.sort_values(\"stamp_2\", ascending = False)[\"stamp_2\"].head(10).plot.barh()"
   ]
  },
  {
   "cell_type": "code",
   "execution_count": null,
   "id": "extra-executive",
   "metadata": {
    "papermill": {
     "duration": 0.022077,
     "end_time": "2021-08-30T20:00:10.305597",
     "exception": false,
     "start_time": "2021-08-30T20:00:10.283520",
     "status": "completed"
    },
    "tags": []
   },
   "outputs": [],
   "source": []
  }
 ],
 "metadata": {
  "kernelspec": {
   "display_name": "Python 3",
   "language": "python",
   "name": "python3"
  },
  "language_info": {
   "codemirror_mode": {
    "name": "ipython",
    "version": 3
   },
   "file_extension": ".py",
   "mimetype": "text/x-python",
   "name": "python",
   "nbconvert_exporter": "python",
   "pygments_lexer": "ipython3",
   "version": "3.9.5"
  },
  "papermill": {
   "default_parameters": {},
   "duration": 6.824016,
   "end_time": "2021-08-30T20:00:11.515933",
   "environment_variables": {},
   "exception": null,
   "input_path": "eBay_Overview.ipynb",
   "output_path": "eBay_Overview.ipynb",
   "parameters": {},
   "start_time": "2021-08-30T20:00:04.691917",
   "version": "2.3.3"
  }
 },
 "nbformat": 4,
 "nbformat_minor": 5
}