{
 "cells": [
  {
   "cell_type": "code",
   "execution_count": 1,
   "id": "reverse-picking",
   "metadata": {
    "execution": {
     "iopub.execute_input": "2021-10-16T10:00:08.346997Z",
     "iopub.status.busy": "2021-10-16T10:00:08.345070Z",
     "iopub.status.idle": "2021-10-16T10:00:09.154320Z",
     "shell.execute_reply": "2021-10-16T10:00:09.152626Z"
    },
    "papermill": {
     "duration": 0.860152,
     "end_time": "2021-10-16T10:00:09.154715",
     "exception": false,
     "start_time": "2021-10-16T10:00:08.294563",
     "status": "completed"
    },
    "tags": []
   },
   "outputs": [],
   "source": [
    "import pandas as pd\n",
    "import sqlite3"
   ]
  },
  {
   "cell_type": "code",
   "execution_count": 2,
   "id": "innovative-syndrome",
   "metadata": {
    "execution": {
     "iopub.execute_input": "2021-10-16T10:00:09.205923Z",
     "iopub.status.busy": "2021-10-16T10:00:09.203957Z",
     "iopub.status.idle": "2021-10-16T10:00:09.765589Z",
     "shell.execute_reply": "2021-10-16T10:00:09.766792Z"
    },
    "papermill": {
     "duration": 0.590974,
     "end_time": "2021-10-16T10:00:09.767182",
     "exception": false,
     "start_time": "2021-10-16T10:00:09.176208",
     "status": "completed"
    },
    "tags": []
   },
   "outputs": [],
   "source": [
    "timestamps = pd.read_sql(\"select distinct record_time from EBAY_TOP_BERLIN order by record_time desc limit 2\", sqlite3.connect(\"UsedObjects.db\"))"
   ]
  },
  {
   "cell_type": "code",
   "execution_count": 3,
   "id": "periodic-identification",
   "metadata": {
    "execution": {
     "iopub.execute_input": "2021-10-16T10:00:09.845406Z",
     "iopub.status.busy": "2021-10-16T10:00:09.839936Z",
     "iopub.status.idle": "2021-10-16T10:00:09.860277Z",
     "shell.execute_reply": "2021-10-16T10:00:09.861682Z"
    },
    "papermill": {
     "duration": 0.069767,
     "end_time": "2021-10-16T10:00:09.862110",
     "exception": false,
     "start_time": "2021-10-16T10:00:09.792343",
     "status": "completed"
    },
    "tags": []
   },
   "outputs": [
    {
     "data": {
      "text/html": [
       "<div>\n",
       "<style scoped>\n",
       "    .dataframe tbody tr th:only-of-type {\n",
       "        vertical-align: middle;\n",
       "    }\n",
       "\n",
       "    .dataframe tbody tr th {\n",
       "        vertical-align: top;\n",
       "    }\n",
       "\n",
       "    .dataframe thead th {\n",
       "        text-align: right;\n",
       "    }\n",
       "</style>\n",
       "<table border=\"1\" class=\"dataframe\">\n",
       "  <thead>\n",
       "    <tr style=\"text-align: right;\">\n",
       "      <th></th>\n",
       "      <th>RECORD_TIME</th>\n",
       "    </tr>\n",
       "  </thead>\n",
       "  <tbody>\n",
       "    <tr>\n",
       "      <th>0</th>\n",
       "      <td>2021-10-16 12:00</td>\n",
       "    </tr>\n",
       "    <tr>\n",
       "      <th>1</th>\n",
       "      <td>2021-10-16 11:30</td>\n",
       "    </tr>\n",
       "  </tbody>\n",
       "</table>\n",
       "</div>"
      ],
      "text/plain": [
       "        RECORD_TIME\n",
       "0  2021-10-16 12:00\n",
       "1  2021-10-16 11:30"
      ]
     },
     "execution_count": 3,
     "metadata": {},
     "output_type": "execute_result"
    }
   ],
   "source": [
    "timestamps"
   ]
  },
  {
   "cell_type": "code",
   "execution_count": 4,
   "id": "alternate-victory",
   "metadata": {
    "execution": {
     "iopub.execute_input": "2021-10-16T10:00:09.913473Z",
     "iopub.status.busy": "2021-10-16T10:00:09.911506Z",
     "iopub.status.idle": "2021-10-16T10:00:10.723555Z",
     "shell.execute_reply": "2021-10-16T10:00:10.724824Z"
    },
    "papermill": {
     "duration": 0.841975,
     "end_time": "2021-10-16T10:00:10.725229",
     "exception": false,
     "start_time": "2021-10-16T10:00:09.883254",
     "status": "completed"
    },
    "tags": []
   },
   "outputs": [],
   "source": [
    "df = pd.read_sql(\"select * from EBAY_TOP_BERLIN where record_time in (select distinct record_time from EBAY_TOP_BERLIN order by record_time desc limit 2)\", sqlite3.connect(\"UsedObjects.db\"))"
   ]
  },
  {
   "cell_type": "code",
   "execution_count": 5,
   "id": "popular-active",
   "metadata": {
    "execution": {
     "iopub.execute_input": "2021-10-16T10:00:10.795657Z",
     "iopub.status.busy": "2021-10-16T10:00:10.783247Z",
     "iopub.status.idle": "2021-10-16T10:00:10.811461Z",
     "shell.execute_reply": "2021-10-16T10:00:10.812807Z"
    },
    "papermill": {
     "duration": 0.067389,
     "end_time": "2021-10-16T10:00:10.813229",
     "exception": false,
     "start_time": "2021-10-16T10:00:10.745840",
     "status": "completed"
    },
    "tags": []
   },
   "outputs": [],
   "source": [
    "df_pivot = df.pivot_table(index=\"PRODUCT\", columns = \"RECORD_TIME\", values = \"LISTING_COUNT\")"
   ]
  },
  {
   "cell_type": "code",
   "execution_count": 6,
   "id": "union-huntington",
   "metadata": {
    "execution": {
     "iopub.execute_input": "2021-10-16T10:00:10.869181Z",
     "iopub.status.busy": "2021-10-16T10:00:10.866990Z",
     "iopub.status.idle": "2021-10-16T10:00:10.872908Z",
     "shell.execute_reply": "2021-10-16T10:00:10.874246Z"
    },
    "papermill": {
     "duration": 0.04141,
     "end_time": "2021-10-16T10:00:10.874861",
     "exception": false,
     "start_time": "2021-10-16T10:00:10.833451",
     "status": "completed"
    },
    "tags": []
   },
   "outputs": [],
   "source": [
    "df_pivot.columns = [\"stamp_1\", \"stamp_2\"]\n",
    "df_pivot_diff = df_pivot.diff(axis=1)"
   ]
  },
  {
   "cell_type": "code",
   "execution_count": 7,
   "id": "fifth-motion",
   "metadata": {
    "execution": {
     "iopub.execute_input": "2021-10-16T10:00:10.931457Z",
     "iopub.status.busy": "2021-10-16T10:00:10.929162Z",
     "iopub.status.idle": "2021-10-16T10:00:12.425227Z",
     "shell.execute_reply": "2021-10-16T10:00:12.426544Z"
    },
    "papermill": {
     "duration": 1.52957,
     "end_time": "2021-10-16T10:00:12.426956",
     "exception": false,
     "start_time": "2021-10-16T10:00:10.897386",
     "status": "completed"
    },
    "tags": []
   },
   "outputs": [
    {
     "data": {
      "text/plain": [
       "<AxesSubplot:ylabel='PRODUCT'>"
      ]
     },
     "execution_count": 7,
     "metadata": {},
     "output_type": "execute_result"
    },
    {
     "data": {
      "image/png": "[encoded data removed]",
      "text/plain": [
       "<Figure size 432x288 with 1 Axes>"
      ]
     },
     "metadata": {
      "needs_background": "light"
     },
     "output_type": "display_data"
    }
   ],
   "source": [
    "df_pivot_diff.sort_values(\"stamp_2\", ascending = False)[\"stamp_2\"].head(10).plot.barh()"
   ]
  },
  {
   "cell_type": "code",
   "execution_count": null,
   "id": "extra-executive",
   "metadata": {
    "papermill": {
     "duration": 0.022494,
     "end_time": "2021-10-16T10:00:12.473515",
     "exception": false,
     "start_time": "2021-10-16T10:00:12.451021",
     "status": "completed"
    },
    "tags": []
   },
   "outputs": [],
   "source": []
  }
 ],
 "metadata": {
  "kernelspec": {
   "display_name": "Python 3",
   "language": "python",
   "name": "python3"
  },
  "language_info": {
   "codemirror_mode": {
    "name": "ipython",
    "version": 3
   },
   "file_extension": ".py",
   "mimetype": "text/x-python",
   "name": "python",
   "nbconvert_exporter": "python",
   "pygments_lexer": "ipython3",
   "version": "3.9.5"
  },
  "papermill": {
   "default_parameters": {},
   "duration": 7.823274,
   "end_time": "2021-10-16T10:00:13.703801",
   "environment_variables": {},
   "exception": null,
   "input_path": "eBay_Overview.ipynb",
   "output_path": "eBay_Overview.ipynb",
   "parameters": {},
   "start_time": "2021-10-16T10:00:05.880527",
   "version": "2.3.3"
  }
 },
 "nbformat": 4,
 "nbformat_minor": 5
}