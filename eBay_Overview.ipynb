{
 "cells": [
  {
   "cell_type": "code",
   "execution_count": 1,
   "id": "reverse-picking",
   "metadata": {
    "execution": {
     "iopub.execute_input": "2021-11-27T02:00:07.695478Z",
     "iopub.status.busy": "2021-11-27T02:00:07.692858Z",
     "iopub.status.idle": "2021-11-27T02:00:08.656783Z",
     "shell.execute_reply": "2021-11-27T02:00:08.654658Z"
    },
    "papermill": {
     "duration": 1.013392,
     "end_time": "2021-11-27T02:00:08.657297",
     "exception": false,
     "start_time": "2021-11-27T02:00:07.643905",
     "status": "completed"
    },
    "tags": []
   },
   "outputs": [],
   "source": [
    "import pandas as pd\n",
    "import sqlite3"
   ]
  },
  {
   "cell_type": "code",
   "execution_count": 2,
   "id": "innovative-syndrome",
   "metadata": {
    "execution": {
     "iopub.execute_input": "2021-11-27T02:00:08.724958Z",
     "iopub.status.busy": "2021-11-27T02:00:08.722412Z",
     "iopub.status.idle": "2021-11-27T02:00:09.627660Z",
     "shell.execute_reply": "2021-11-27T02:00:09.629656Z"
    },
    "papermill": {
     "duration": 0.939634,
     "end_time": "2021-11-27T02:00:09.630167",
     "exception": false,
     "start_time": "2021-11-27T02:00:08.690533",
     "status": "completed"
    },
    "tags": []
   },
   "outputs": [],
   "source": [
    "timestamps = pd.read_sql(\"select distinct record_time from EBAY_TOP_BERLIN order by record_time desc limit 2\", sqlite3.connect(\"UsedObjects.db\"))"
   ]
  },
  {
   "cell_type": "code",
   "execution_count": 3,
   "id": "periodic-identification",
   "metadata": {
    "execution": {
     "iopub.execute_input": "2021-11-27T02:00:09.700113Z",
     "iopub.status.busy": "2021-11-27T02:00:09.697891Z",
     "iopub.status.idle": "2021-11-27T02:00:09.720577Z",
     "shell.execute_reply": "2021-11-27T02:00:09.722317Z"
    },
    "papermill": {
     "duration": 0.072947,
     "end_time": "2021-11-27T02:00:09.722834",
     "exception": false,
     "start_time": "2021-11-27T02:00:09.649887",
     "status": "completed"
    },
    "tags": []
   },
   "outputs": [
    {
     "data": {
      "text/html": [
       "<div>\n",
       "<style scoped>\n",
       "    .dataframe tbody tr th:only-of-type {\n",
       "        vertical-align: middle;\n",
       "    }\n",
       "\n",
       "    .dataframe tbody tr th {\n",
       "        vertical-align: top;\n",
       "    }\n",
       "\n",
       "    .dataframe thead th {\n",
       "        text-align: right;\n",
       "    }\n",
       "</style>\n",
       "<table border=\"1\" class=\"dataframe\">\n",
       "  <thead>\n",
       "    <tr style=\"text-align: right;\">\n",
       "      <th></th>\n",
       "      <th>RECORD_TIME</th>\n",
       "    </tr>\n",
       "  </thead>\n",
       "  <tbody>\n",
       "    <tr>\n",
       "      <th>0</th>\n",
       "      <td>2021-11-27 03:00</td>\n",
       "    </tr>\n",
       "    <tr>\n",
       "      <th>1</th>\n",
       "      <td>2021-11-27 02:30</td>\n",
       "    </tr>\n",
       "  </tbody>\n",
       "</table>\n",
       "</div>"
      ],
      "text/plain": [
       "        RECORD_TIME\n",
       "0  2021-11-27 03:00\n",
       "1  2021-11-27 02:30"
      ]
     },
     "execution_count": 3,
     "metadata": {},
     "output_type": "execute_result"
    }
   ],
   "source": [
    "timestamps"
   ]
  },
  {
   "cell_type": "code",
   "execution_count": 4,
   "id": "alternate-victory",
   "metadata": {
    "execution": {
     "iopub.execute_input": "2021-11-27T02:00:09.779878Z",
     "iopub.status.busy": "2021-11-27T02:00:09.778014Z",
     "iopub.status.idle": "2021-11-27T02:00:11.098802Z",
     "shell.execute_reply": "2021-11-27T02:00:11.100395Z"
    },
    "papermill": {
     "duration": 1.356639,
     "end_time": "2021-11-27T02:00:11.100931",
     "exception": false,
     "start_time": "2021-11-27T02:00:09.744292",
     "status": "completed"
    },
    "tags": []
   },
   "outputs": [],
   "source": [
    "df = pd.read_sql(\"select * from EBAY_TOP_BERLIN where record_time in (select distinct record_time from EBAY_TOP_BERLIN order by record_time desc limit 2)\", sqlite3.connect(\"UsedObjects.db\"))"
   ]
  },
  {
   "cell_type": "code",
   "execution_count": 5,
   "id": "popular-active",
   "metadata": {
    "execution": {
     "iopub.execute_input": "2021-11-27T02:00:11.178618Z",
     "iopub.status.busy": "2021-11-27T02:00:11.165411Z",
     "iopub.status.idle": "2021-11-27T02:00:11.201023Z",
     "shell.execute_reply": "2021-11-27T02:00:11.199207Z"
    },
    "papermill": {
     "duration": 0.078888,
     "end_time": "2021-11-27T02:00:11.201476",
     "exception": false,
     "start_time": "2021-11-27T02:00:11.122588",
     "status": "completed"
    },
    "tags": []
   },
   "outputs": [],
   "source": [
    "df_pivot = df.pivot_table(index=\"PRODUCT\", columns = \"RECORD_TIME\", values = \"LISTING_COUNT\")"
   ]
  },
  {
   "cell_type": "code",
   "execution_count": 6,
   "id": "union-huntington",
   "metadata": {
    "execution": {
     "iopub.execute_input": "2021-11-27T02:00:11.260584Z",
     "iopub.status.busy": "2021-11-27T02:00:11.258365Z",
     "iopub.status.idle": "2021-11-27T02:00:11.264027Z",
     "shell.execute_reply": "2021-11-27T02:00:11.265647Z"
    },
    "papermill": {
     "duration": 0.04343,
     "end_time": "2021-11-27T02:00:11.266120",
     "exception": false,
     "start_time": "2021-11-27T02:00:11.222690",
     "status": "completed"
    },
    "tags": []
   },
   "outputs": [],
   "source": [
    "df_pivot.columns = [\"stamp_1\", \"stamp_2\"]\n",
    "df_pivot_diff = df_pivot.diff(axis=1)"
   ]
  },
  {
   "cell_type": "code",
   "execution_count": 7,
   "id": "fifth-motion",
   "metadata": {
    "execution": {
     "iopub.execute_input": "2021-11-27T02:00:11.323607Z",
     "iopub.status.busy": "2021-11-27T02:00:11.320923Z",
     "iopub.status.idle": "2021-11-27T02:00:13.297645Z",
     "shell.execute_reply": "2021-11-27T02:00:13.300538Z"
    },
    "papermill": {
     "duration": 2.015705,
     "end_time": "2021-11-27T02:00:13.301642",
     "exception": false,
     "start_time": "2021-11-27T02:00:11.285937",
     "status": "completed"
    },
    "tags": []
   },
   "outputs": [
    {
     "data": {
      "text/plain": [
       "<AxesSubplot:ylabel='PRODUCT'>"
      ]
     },
     "execution_count": 7,
     "metadata": {},
     "output_type": "execute_result"
    },
    {
     "data": {
      "image/png": "[encoded data removed]",
      "text/plain": [
       "<Figure size 432x288 with 1 Axes>"
      ]
     },
     "metadata": {
      "needs_background": "light"
     },
     "output_type": "display_data"
    }
   ],
   "source": [
    "df_pivot_diff.sort_values(\"stamp_2\", ascending = False)[\"stamp_2\"].head(10).plot.barh()"
   ]
  },
  {
   "cell_type": "code",
   "execution_count": null,
   "id": "extra-executive",
   "metadata": {
    "papermill": {
     "duration": 0.033157,
     "end_time": "2021-11-27T02:00:13.371884",
     "exception": false,
     "start_time": "2021-11-27T02:00:13.338727",
     "status": "completed"
    },
    "tags": []
   },
   "outputs": [],
   "source": []
  }
 ],
 "metadata": {
  "kernelspec": {
   "display_name": "Python 3",
   "language": "python",
   "name": "python3"
  },
  "language_info": {
   "codemirror_mode": {
    "name": "ipython",
    "version": 3
   },
   "file_extension": ".py",
   "mimetype": "text/x-python",
   "name": "python",
   "nbconvert_exporter": "python",
   "pygments_lexer": "ipython3",
   "version": "3.9.5"
  },
  "papermill": {
   "default_parameters": {},
   "duration": 9.9399,
   "end_time": "2021-11-27T02:00:14.844832",
   "environment_variables": {},
   "exception": null,
   "input_path": "eBay_Overview.ipynb",
   "output_path": "eBay_Overview.ipynb",
   "parameters": {},
   "start_time": "2021-11-27T02:00:04.904932",
   "version": "2.3.3"
  }
 },
 "nbformat": 4,
 "nbformat_minor": 5
}