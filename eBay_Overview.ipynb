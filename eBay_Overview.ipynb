{
 "cells": [
  {
   "cell_type": "code",
   "execution_count": 1,
   "id": "reverse-picking",
   "metadata": {
    "execution": {
     "iopub.execute_input": "2021-12-08T02:00:07.279785Z",
     "iopub.status.busy": "2021-12-08T02:00:07.277773Z",
     "iopub.status.idle": "2021-12-08T02:00:08.238961Z",
     "shell.execute_reply": "2021-12-08T02:00:08.240723Z"
    },
    "papermill": {
     "duration": 1.010408,
     "end_time": "2021-12-08T02:00:08.241568",
     "exception": false,
     "start_time": "2021-12-08T02:00:07.231160",
     "status": "completed"
    },
    "tags": []
   },
   "outputs": [],
   "source": [
    "import pandas as pd\n",
    "import sqlite3"
   ]
  },
  {
   "cell_type": "code",
   "execution_count": 2,
   "id": "innovative-syndrome",
   "metadata": {
    "execution": {
     "iopub.execute_input": "2021-12-08T02:00:08.299811Z",
     "iopub.status.busy": "2021-12-08T02:00:08.297537Z",
     "iopub.status.idle": "2021-12-08T02:00:09.314468Z",
     "shell.execute_reply": "2021-12-08T02:00:09.316131Z"
    },
    "papermill": {
     "duration": 1.054129,
     "end_time": "2021-12-08T02:00:09.316898",
     "exception": false,
     "start_time": "2021-12-08T02:00:08.262769",
     "status": "completed"
    },
    "tags": []
   },
   "outputs": [],
   "source": [
    "timestamps = pd.read_sql(\"select distinct record_time from EBAY_TOP_BERLIN order by record_time desc limit 2\", sqlite3.connect(\"UsedObjects.db\"))"
   ]
  },
  {
   "cell_type": "code",
   "execution_count": 3,
   "id": "periodic-identification",
   "metadata": {
    "execution": {
     "iopub.execute_input": "2021-12-08T02:00:09.391298Z",
     "iopub.status.busy": "2021-12-08T02:00:09.389009Z",
     "iopub.status.idle": "2021-12-08T02:00:09.412345Z",
     "shell.execute_reply": "2021-12-08T02:00:09.413856Z"
    },
    "papermill": {
     "duration": 0.075404,
     "end_time": "2021-12-08T02:00:09.414335",
     "exception": false,
     "start_time": "2021-12-08T02:00:09.338931",
     "status": "completed"
    },
    "tags": []
   },
   "outputs": [
    {
     "data": {
      "text/html": [
       "<div>\n",
       "<style scoped>\n",
       "    .dataframe tbody tr th:only-of-type {\n",
       "        vertical-align: middle;\n",
       "    }\n",
       "\n",
       "    .dataframe tbody tr th {\n",
       "        vertical-align: top;\n",
       "    }\n",
       "\n",
       "    .dataframe thead th {\n",
       "        text-align: right;\n",
       "    }\n",
       "</style>\n",
       "<table border=\"1\" class=\"dataframe\">\n",
       "  <thead>\n",
       "    <tr style=\"text-align: right;\">\n",
       "      <th></th>\n",
       "      <th>RECORD_TIME</th>\n",
       "    </tr>\n",
       "  </thead>\n",
       "  <tbody>\n",
       "    <tr>\n",
       "      <th>0</th>\n",
       "      <td>2021-12-08 03:00</td>\n",
       "    </tr>\n",
       "    <tr>\n",
       "      <th>1</th>\n",
       "      <td>2021-12-08 02:30</td>\n",
       "    </tr>\n",
       "  </tbody>\n",
       "</table>\n",
       "</div>"
      ],
      "text/plain": [
       "        RECORD_TIME\n",
       "0  2021-12-08 03:00\n",
       "1  2021-12-08 02:30"
      ]
     },
     "execution_count": 3,
     "metadata": {},
     "output_type": "execute_result"
    }
   ],
   "source": [
    "timestamps"
   ]
  },
  {
   "cell_type": "code",
   "execution_count": 4,
   "id": "alternate-victory",
   "metadata": {
    "execution": {
     "iopub.execute_input": "2021-12-08T02:00:09.471640Z",
     "iopub.status.busy": "2021-12-08T02:00:09.469411Z",
     "iopub.status.idle": "2021-12-08T02:00:10.944592Z",
     "shell.execute_reply": "2021-12-08T02:00:10.946155Z"
    },
    "papermill": {
     "duration": 1.510917,
     "end_time": "2021-12-08T02:00:10.946653",
     "exception": false,
     "start_time": "2021-12-08T02:00:09.435736",
     "status": "completed"
    },
    "tags": []
   },
   "outputs": [],
   "source": [
    "df = pd.read_sql(\"select * from EBAY_TOP_BERLIN where record_time in (select distinct record_time from EBAY_TOP_BERLIN order by record_time desc limit 2)\", sqlite3.connect(\"UsedObjects.db\"))"
   ]
  },
  {
   "cell_type": "code",
   "execution_count": 5,
   "id": "popular-active",
   "metadata": {
    "execution": {
     "iopub.execute_input": "2021-12-08T02:00:11.015643Z",
     "iopub.status.busy": "2021-12-08T02:00:11.007905Z",
     "iopub.status.idle": "2021-12-08T02:00:11.038992Z",
     "shell.execute_reply": "2021-12-08T02:00:11.040416Z"
    },
    "papermill": {
     "duration": 0.072774,
     "end_time": "2021-12-08T02:00:11.041018",
     "exception": false,
     "start_time": "2021-12-08T02:00:10.968244",
     "status": "completed"
    },
    "tags": []
   },
   "outputs": [],
   "source": [
    "df_pivot = df.pivot_table(index=\"PRODUCT\", columns = \"RECORD_TIME\", values = \"LISTING_COUNT\")"
   ]
  },
  {
   "cell_type": "code",
   "execution_count": 6,
   "id": "union-huntington",
   "metadata": {
    "execution": {
     "iopub.execute_input": "2021-12-08T02:00:11.099125Z",
     "iopub.status.busy": "2021-12-08T02:00:11.096922Z",
     "iopub.status.idle": "2021-12-08T02:00:11.102378Z",
     "shell.execute_reply": "2021-12-08T02:00:11.103819Z"
    },
    "papermill": {
     "duration": 0.043217,
     "end_time": "2021-12-08T02:00:11.104284",
     "exception": false,
     "start_time": "2021-12-08T02:00:11.061067",
     "status": "completed"
    },
    "tags": []
   },
   "outputs": [],
   "source": [
    "df_pivot.columns = [\"stamp_1\", \"stamp_2\"]\n",
    "df_pivot_diff = df_pivot.diff(axis=1)"
   ]
  },
  {
   "cell_type": "code",
   "execution_count": 7,
   "id": "fifth-motion",
   "metadata": {
    "execution": {
     "iopub.execute_input": "2021-12-08T02:00:11.159756Z",
     "iopub.status.busy": "2021-12-08T02:00:11.157328Z",
     "iopub.status.idle": "2021-12-08T02:00:13.039423Z",
     "shell.execute_reply": "2021-12-08T02:00:13.040761Z"
    },
    "papermill": {
     "duration": 1.916326,
     "end_time": "2021-12-08T02:00:13.041234",
     "exception": false,
     "start_time": "2021-12-08T02:00:11.124908",
     "status": "completed"
    },
    "tags": []
   },
   "outputs": [
    {
     "data": {
      "text/plain": [
       "<AxesSubplot:ylabel='PRODUCT'>"
      ]
     },
     "execution_count": 7,
     "metadata": {},
     "output_type": "execute_result"
    },
    {
     "data": {
      "image/png": "[encoded data removed]",
      "text/plain": [
       "<Figure size 432x288 with 1 Axes>"
      ]
     },
     "metadata": {
      "needs_background": "light"
     },
     "output_type": "display_data"
    }
   ],
   "source": [
    "df_pivot_diff.sort_values(\"stamp_2\", ascending = False)[\"stamp_2\"].head(10).plot.barh()"
   ]
  },
  {
   "cell_type": "code",
   "execution_count": null,
   "id": "extra-executive",
   "metadata": {
    "papermill": {
     "duration": 0.022267,
     "end_time": "2021-12-08T02:00:13.088588",
     "exception": false,
     "start_time": "2021-12-08T02:00:13.066321",
     "status": "completed"
    },
    "tags": []
   },
   "outputs": [],
   "source": []
  }
 ],
 "metadata": {
  "kernelspec": {
   "display_name": "Python 3",
   "language": "python",
   "name": "python3"
  },
  "language_info": {
   "codemirror_mode": {
    "name": "ipython",
    "version": 3
   },
   "file_extension": ".py",
   "mimetype": "text/x-python",
   "name": "python",
   "nbconvert_exporter": "python",
   "pygments_lexer": "ipython3",
   "version": "3.9.5"
  },
  "papermill": {
   "default_parameters": {},
   "duration": 9.949261,
   "end_time": "2021-12-08T02:00:14.454883",
   "environment_variables": {},
   "exception": null,
   "input_path": "eBay_Overview.ipynb",
   "output_path": "eBay_Overview.ipynb",
   "parameters": {},
   "start_time": "2021-12-08T02:00:04.505622",
   "version": "2.3.3"
  }
 },
 "nbformat": 4,
 "nbformat_minor": 5
}