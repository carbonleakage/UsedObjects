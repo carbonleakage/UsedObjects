{
 "cells": [
  {
   "cell_type": "code",
   "execution_count": 1,
   "id": "reverse-picking",
   "metadata": {
    "execution": {
     "iopub.execute_input": "2021-10-01T23:30:07.460475Z",
     "iopub.status.busy": "2021-10-01T23:30:07.458424Z",
     "iopub.status.idle": "2021-10-01T23:30:08.263078Z",
     "shell.execute_reply": "2021-10-01T23:30:08.264349Z"
    },
    "papermill": {
     "duration": 0.85479,
     "end_time": "2021-10-01T23:30:08.264969",
     "exception": false,
     "start_time": "2021-10-01T23:30:07.410179",
     "status": "completed"
    },
    "tags": []
   },
   "outputs": [],
   "source": [
    "import pandas as pd\n",
    "import sqlite3"
   ]
  },
  {
   "cell_type": "code",
   "execution_count": 2,
   "id": "innovative-syndrome",
   "metadata": {
    "execution": {
     "iopub.execute_input": "2021-10-01T23:30:08.318342Z",
     "iopub.status.busy": "2021-10-01T23:30:08.316041Z",
     "iopub.status.idle": "2021-10-01T23:30:08.737243Z",
     "shell.execute_reply": "2021-10-01T23:30:08.738425Z"
    },
    "papermill": {
     "duration": 0.450827,
     "end_time": "2021-10-01T23:30:08.738897",
     "exception": false,
     "start_time": "2021-10-01T23:30:08.288070",
     "status": "completed"
    },
    "tags": []
   },
   "outputs": [],
   "source": [
    "timestamps = pd.read_sql(\"select distinct record_time from EBAY_TOP_BERLIN order by record_time desc limit 2\", sqlite3.connect(\"UsedObjects.db\"))"
   ]
  },
  {
   "cell_type": "code",
   "execution_count": 3,
   "id": "periodic-identification",
   "metadata": {
    "execution": {
     "iopub.execute_input": "2021-10-01T23:30:08.807921Z",
     "iopub.status.busy": "2021-10-01T23:30:08.801856Z",
     "iopub.status.idle": "2021-10-01T23:30:08.826657Z",
     "shell.execute_reply": "2021-10-01T23:30:08.828226Z"
    },
    "papermill": {
     "duration": 0.068876,
     "end_time": "2021-10-01T23:30:08.828694",
     "exception": false,
     "start_time": "2021-10-01T23:30:08.759818",
     "status": "completed"
    },
    "tags": []
   },
   "outputs": [
    {
     "data": {
      "text/html": [
       "<div>\n",
       "<style scoped>\n",
       "    .dataframe tbody tr th:only-of-type {\n",
       "        vertical-align: middle;\n",
       "    }\n",
       "\n",
       "    .dataframe tbody tr th {\n",
       "        vertical-align: top;\n",
       "    }\n",
       "\n",
       "    .dataframe thead th {\n",
       "        text-align: right;\n",
       "    }\n",
       "</style>\n",
       "<table border=\"1\" class=\"dataframe\">\n",
       "  <thead>\n",
       "    <tr style=\"text-align: right;\">\n",
       "      <th></th>\n",
       "      <th>RECORD_TIME</th>\n",
       "    </tr>\n",
       "  </thead>\n",
       "  <tbody>\n",
       "    <tr>\n",
       "      <th>0</th>\n",
       "      <td>2021-10-02 01:30</td>\n",
       "    </tr>\n",
       "    <tr>\n",
       "      <th>1</th>\n",
       "      <td>2021-10-02 01:00</td>\n",
       "    </tr>\n",
       "  </tbody>\n",
       "</table>\n",
       "</div>"
      ],
      "text/plain": [
       "        RECORD_TIME\n",
       "0  2021-10-02 01:30\n",
       "1  2021-10-02 01:00"
      ]
     },
     "execution_count": 3,
     "metadata": {},
     "output_type": "execute_result"
    }
   ],
   "source": [
    "timestamps"
   ]
  },
  {
   "cell_type": "code",
   "execution_count": 4,
   "id": "alternate-victory",
   "metadata": {
    "execution": {
     "iopub.execute_input": "2021-10-01T23:30:08.893488Z",
     "iopub.status.busy": "2021-10-01T23:30:08.891462Z",
     "iopub.status.idle": "2021-10-01T23:30:09.508548Z",
     "shell.execute_reply": "2021-10-01T23:30:09.509751Z"
    },
    "papermill": {
     "duration": 0.659959,
     "end_time": "2021-10-01T23:30:09.510146",
     "exception": false,
     "start_time": "2021-10-01T23:30:08.850187",
     "status": "completed"
    },
    "tags": []
   },
   "outputs": [],
   "source": [
    "df = pd.read_sql(\"select * from EBAY_TOP_BERLIN where record_time in (select distinct record_time from EBAY_TOP_BERLIN order by record_time desc limit 2)\", sqlite3.connect(\"UsedObjects.db\"))"
   ]
  },
  {
   "cell_type": "code",
   "execution_count": 5,
   "id": "popular-active",
   "metadata": {
    "execution": {
     "iopub.execute_input": "2021-10-01T23:30:09.579637Z",
     "iopub.status.busy": "2021-10-01T23:30:09.568449Z",
     "iopub.status.idle": "2021-10-01T23:30:09.596130Z",
     "shell.execute_reply": "2021-10-01T23:30:09.597326Z"
    },
    "papermill": {
     "duration": 0.067242,
     "end_time": "2021-10-01T23:30:09.597720",
     "exception": false,
     "start_time": "2021-10-01T23:30:09.530478",
     "status": "completed"
    },
    "tags": []
   },
   "outputs": [],
   "source": [
    "df_pivot = df.pivot_table(index=\"PRODUCT\", columns = \"RECORD_TIME\", values = \"LISTING_COUNT\")"
   ]
  },
  {
   "cell_type": "code",
   "execution_count": 6,
   "id": "union-huntington",
   "metadata": {
    "execution": {
     "iopub.execute_input": "2021-10-01T23:30:09.654828Z",
     "iopub.status.busy": "2021-10-01T23:30:09.652757Z",
     "iopub.status.idle": "2021-10-01T23:30:09.657878Z",
     "shell.execute_reply": "2021-10-01T23:30:09.659361Z"
    },
    "papermill": {
     "duration": 0.040488,
     "end_time": "2021-10-01T23:30:09.659805",
     "exception": false,
     "start_time": "2021-10-01T23:30:09.619317",
     "status": "completed"
    },
    "tags": []
   },
   "outputs": [],
   "source": [
    "df_pivot.columns = [\"stamp_1\", \"stamp_2\"]\n",
    "df_pivot_diff = df_pivot.diff(axis=1)"
   ]
  },
  {
   "cell_type": "code",
   "execution_count": 7,
   "id": "fifth-motion",
   "metadata": {
    "execution": {
     "iopub.execute_input": "2021-10-01T23:30:09.715329Z",
     "iopub.status.busy": "2021-10-01T23:30:09.712583Z",
     "iopub.status.idle": "2021-10-01T23:30:11.194307Z",
     "shell.execute_reply": "2021-10-01T23:30:11.195726Z"
    },
    "papermill": {
     "duration": 1.515326,
     "end_time": "2021-10-01T23:30:11.196160",
     "exception": false,
     "start_time": "2021-10-01T23:30:09.680834",
     "status": "completed"
    },
    "tags": []
   },
   "outputs": [
    {
     "data": {
      "text/plain": [
       "<AxesSubplot:ylabel='PRODUCT'>"
      ]
     },
     "execution_count": 7,
     "metadata": {},
     "output_type": "execute_result"
    },
    {
     "data": {
      "image/png": "[encoded data removed]",
      "text/plain": [
       "<Figure size 432x288 with 1 Axes>"
      ]
     },
     "metadata": {
      "needs_background": "light"
     },
     "output_type": "display_data"
    }
   ],
   "source": [
    "df_pivot_diff.sort_values(\"stamp_2\", ascending = False)[\"stamp_2\"].head(10).plot.barh()"
   ]
  },
  {
   "cell_type": "code",
   "execution_count": null,
   "id": "extra-executive",
   "metadata": {
    "papermill": {
     "duration": 0.02221,
     "end_time": "2021-10-01T23:30:11.242979",
     "exception": false,
     "start_time": "2021-10-01T23:30:11.220769",
     "status": "completed"
    },
    "tags": []
   },
   "outputs": [],
   "source": []
  }
 ],
 "metadata": {
  "kernelspec": {
   "display_name": "Python 3",
   "language": "python",
   "name": "python3"
  },
  "language_info": {
   "codemirror_mode": {
    "name": "ipython",
    "version": 3
   },
   "file_extension": ".py",
   "mimetype": "text/x-python",
   "name": "python",
   "nbconvert_exporter": "python",
   "pygments_lexer": "ipython3",
   "version": "3.9.5"
  },
  "papermill": {
   "default_parameters": {},
   "duration": 7.826278,
   "end_time": "2021-10-01T23:30:12.822855",
   "environment_variables": {},
   "exception": null,
   "input_path": "eBay_Overview.ipynb",
   "output_path": "eBay_Overview.ipynb",
   "parameters": {},
   "start_time": "2021-10-01T23:30:04.996577",
   "version": "2.3.3"
  }
 },
 "nbformat": 4,
 "nbformat_minor": 5
}