{
 "cells": [
  {
   "cell_type": "code",
   "execution_count": 1,
   "id": "reverse-picking",
   "metadata": {
    "execution": {
     "iopub.execute_input": "2021-12-20T17:30:07.951539Z",
     "iopub.status.busy": "2021-12-20T17:30:07.949175Z",
     "iopub.status.idle": "2021-12-20T17:30:08.905921Z",
     "shell.execute_reply": "2021-12-20T17:30:08.907577Z"
    },
    "papermill": {
     "duration": 1.007739,
     "end_time": "2021-12-20T17:30:08.908302",
     "exception": false,
     "start_time": "2021-12-20T17:30:07.900563",
     "status": "completed"
    },
    "tags": []
   },
   "outputs": [],
   "source": [
    "import pandas as pd\n",
    "import sqlite3"
   ]
  },
  {
   "cell_type": "code",
   "execution_count": 2,
   "id": "innovative-syndrome",
   "metadata": {
    "execution": {
     "iopub.execute_input": "2021-12-20T17:30:08.977620Z",
     "iopub.status.busy": "2021-12-20T17:30:08.973762Z",
     "iopub.status.idle": "2021-12-20T17:30:10.110623Z",
     "shell.execute_reply": "2021-12-20T17:30:10.112107Z"
    },
    "papermill": {
     "duration": 1.181617,
     "end_time": "2021-12-20T17:30:10.112571",
     "exception": false,
     "start_time": "2021-12-20T17:30:08.930954",
     "status": "completed"
    },
    "tags": []
   },
   "outputs": [],
   "source": [
    "timestamps = pd.read_sql(\"select distinct record_time from EBAY_TOP_BERLIN order by record_time desc limit 2\", sqlite3.connect(\"UsedObjects.db\"))"
   ]
  },
  {
   "cell_type": "code",
   "execution_count": 3,
   "id": "periodic-identification",
   "metadata": {
    "execution": {
     "iopub.execute_input": "2021-12-20T17:30:10.175330Z",
     "iopub.status.busy": "2021-12-20T17:30:10.173326Z",
     "iopub.status.idle": "2021-12-20T17:30:10.221552Z",
     "shell.execute_reply": "2021-12-20T17:30:10.223975Z"
    },
    "papermill": {
     "duration": 0.090132,
     "end_time": "2021-12-20T17:30:10.224395",
     "exception": false,
     "start_time": "2021-12-20T17:30:10.134263",
     "status": "completed"
    },
    "tags": []
   },
   "outputs": [
    {
     "data": {
      "text/html": [
       "<div>\n",
       "<style scoped>\n",
       "    .dataframe tbody tr th:only-of-type {\n",
       "        vertical-align: middle;\n",
       "    }\n",
       "\n",
       "    .dataframe tbody tr th {\n",
       "        vertical-align: top;\n",
       "    }\n",
       "\n",
       "    .dataframe thead th {\n",
       "        text-align: right;\n",
       "    }\n",
       "</style>\n",
       "<table border=\"1\" class=\"dataframe\">\n",
       "  <thead>\n",
       "    <tr style=\"text-align: right;\">\n",
       "      <th></th>\n",
       "      <th>RECORD_TIME</th>\n",
       "    </tr>\n",
       "  </thead>\n",
       "  <tbody>\n",
       "    <tr>\n",
       "      <th>0</th>\n",
       "      <td>2021-12-20 18:30</td>\n",
       "    </tr>\n",
       "    <tr>\n",
       "      <th>1</th>\n",
       "      <td>2021-12-20 18:00</td>\n",
       "    </tr>\n",
       "  </tbody>\n",
       "</table>\n",
       "</div>"
      ],
      "text/plain": [
       "        RECORD_TIME\n",
       "0  2021-12-20 18:30\n",
       "1  2021-12-20 18:00"
      ]
     },
     "execution_count": 3,
     "metadata": {},
     "output_type": "execute_result"
    }
   ],
   "source": [
    "timestamps"
   ]
  },
  {
   "cell_type": "code",
   "execution_count": 4,
   "id": "alternate-victory",
   "metadata": {
    "execution": {
     "iopub.execute_input": "2021-12-20T17:30:10.287549Z",
     "iopub.status.busy": "2021-12-20T17:30:10.285075Z",
     "iopub.status.idle": "2021-12-20T17:30:11.991521Z",
     "shell.execute_reply": "2021-12-20T17:30:11.993254Z"
    },
    "papermill": {
     "duration": 1.742976,
     "end_time": "2021-12-20T17:30:11.993760",
     "exception": false,
     "start_time": "2021-12-20T17:30:10.250784",
     "status": "completed"
    },
    "tags": []
   },
   "outputs": [],
   "source": [
    "df = pd.read_sql(\"select * from EBAY_TOP_BERLIN where record_time in (select distinct record_time from EBAY_TOP_BERLIN order by record_time desc limit 2)\", sqlite3.connect(\"UsedObjects.db\"))"
   ]
  },
  {
   "cell_type": "code",
   "execution_count": 5,
   "id": "popular-active",
   "metadata": {
    "execution": {
     "iopub.execute_input": "2021-12-20T17:30:12.071785Z",
     "iopub.status.busy": "2021-12-20T17:30:12.058505Z",
     "iopub.status.idle": "2021-12-20T17:30:12.090499Z",
     "shell.execute_reply": "2021-12-20T17:30:12.091983Z"
    },
    "papermill": {
     "duration": 0.076928,
     "end_time": "2021-12-20T17:30:12.092454",
     "exception": false,
     "start_time": "2021-12-20T17:30:12.015526",
     "status": "completed"
    },
    "tags": []
   },
   "outputs": [],
   "source": [
    "df_pivot = df.pivot_table(index=\"PRODUCT\", columns = \"RECORD_TIME\", values = \"LISTING_COUNT\")"
   ]
  },
  {
   "cell_type": "code",
   "execution_count": 6,
   "id": "union-huntington",
   "metadata": {
    "execution": {
     "iopub.execute_input": "2021-12-20T17:30:12.150766Z",
     "iopub.status.busy": "2021-12-20T17:30:12.148447Z",
     "iopub.status.idle": "2021-12-20T17:30:12.154391Z",
     "shell.execute_reply": "2021-12-20T17:30:12.155753Z"
    },
    "papermill": {
     "duration": 0.043592,
     "end_time": "2021-12-20T17:30:12.156231",
     "exception": false,
     "start_time": "2021-12-20T17:30:12.112639",
     "status": "completed"
    },
    "tags": []
   },
   "outputs": [],
   "source": [
    "df_pivot.columns = [\"stamp_1\", \"stamp_2\"]\n",
    "df_pivot_diff = df_pivot.diff(axis=1)"
   ]
  },
  {
   "cell_type": "code",
   "execution_count": 7,
   "id": "fifth-motion",
   "metadata": {
    "execution": {
     "iopub.execute_input": "2021-12-20T17:30:12.218504Z",
     "iopub.status.busy": "2021-12-20T17:30:12.214140Z",
     "iopub.status.idle": "2021-12-20T17:30:14.179562Z",
     "shell.execute_reply": "2021-12-20T17:30:14.180978Z"
    },
    "papermill": {
     "duration": 2.003615,
     "end_time": "2021-12-20T17:30:14.181457",
     "exception": false,
     "start_time": "2021-12-20T17:30:12.177842",
     "status": "completed"
    },
    "tags": []
   },
   "outputs": [
    {
     "data": {
      "text/plain": [
       "<AxesSubplot:ylabel='PRODUCT'>"
      ]
     },
     "execution_count": 7,
     "metadata": {},
     "output_type": "execute_result"
    },
    {
     "data": {
      "image/png": "[encoded data removed]",
      "text/plain": [
       "<Figure size 432x288 with 1 Axes>"
      ]
     },
     "metadata": {
      "needs_background": "light"
     },
     "output_type": "display_data"
    }
   ],
   "source": [
    "df_pivot_diff.sort_values(\"stamp_2\", ascending = False)[\"stamp_2\"].head(10).plot.barh()"
   ]
  },
  {
   "cell_type": "code",
   "execution_count": null,
   "id": "extra-executive",
   "metadata": {
    "papermill": {
     "duration": 0.027049,
     "end_time": "2021-12-20T17:30:14.241366",
     "exception": false,
     "start_time": "2021-12-20T17:30:14.214317",
     "status": "completed"
    },
    "tags": []
   },
   "outputs": [],
   "source": []
  }
 ],
 "metadata": {
  "kernelspec": {
   "display_name": "Python 3",
   "language": "python",
   "name": "python3"
  },
  "language_info": {
   "codemirror_mode": {
    "name": "ipython",
    "version": 3
   },
   "file_extension": ".py",
   "mimetype": "text/x-python",
   "name": "python",
   "nbconvert_exporter": "python",
   "pygments_lexer": "ipython3",
   "version": "3.9.5"
  },
  "papermill": {
   "default_parameters": {},
   "duration": 9.765178,
   "end_time": "2021-12-20T17:30:14.913191",
   "environment_variables": {},
   "exception": null,
   "input_path": "eBay_Overview.ipynb",
   "output_path": "eBay_Overview.ipynb",
   "parameters": {},
   "start_time": "2021-12-20T17:30:05.148013",
   "version": "2.3.3"
  }
 },
 "nbformat": 4,
 "nbformat_minor": 5
}