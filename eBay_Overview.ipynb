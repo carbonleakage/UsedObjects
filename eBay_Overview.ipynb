{
 "cells": [
  {
   "cell_type": "code",
   "execution_count": 1,
   "id": "reverse-picking",
   "metadata": {
    "execution": {
     "iopub.execute_input": "2021-11-07T02:30:07.712124Z",
     "iopub.status.busy": "2021-11-07T02:30:07.709761Z",
     "iopub.status.idle": "2021-11-07T02:30:08.655809Z",
     "shell.execute_reply": "2021-11-07T02:30:08.657492Z"
    },
    "papermill": {
     "duration": 0.995468,
     "end_time": "2021-11-07T02:30:08.658267",
     "exception": false,
     "start_time": "2021-11-07T02:30:07.662799",
     "status": "completed"
    },
    "tags": []
   },
   "outputs": [],
   "source": [
    "import pandas as pd\n",
    "import sqlite3"
   ]
  },
  {
   "cell_type": "code",
   "execution_count": 2,
   "id": "innovative-syndrome",
   "metadata": {
    "execution": {
     "iopub.execute_input": "2021-11-07T02:30:08.715507Z",
     "iopub.status.busy": "2021-11-07T02:30:08.713287Z",
     "iopub.status.idle": "2021-11-07T02:30:09.459070Z",
     "shell.execute_reply": "2021-11-07T02:30:09.460513Z"
    },
    "papermill": {
     "duration": 0.78117,
     "end_time": "2021-11-07T02:30:09.461078",
     "exception": false,
     "start_time": "2021-11-07T02:30:08.679908",
     "status": "completed"
    },
    "tags": []
   },
   "outputs": [],
   "source": [
    "timestamps = pd.read_sql(\"select distinct record_time from EBAY_TOP_BERLIN order by record_time desc limit 2\", sqlite3.connect(\"UsedObjects.db\"))"
   ]
  },
  {
   "cell_type": "code",
   "execution_count": 3,
   "id": "periodic-identification",
   "metadata": {
    "execution": {
     "iopub.execute_input": "2021-11-07T02:30:09.533223Z",
     "iopub.status.busy": "2021-11-07T02:30:09.530785Z",
     "iopub.status.idle": "2021-11-07T02:30:09.555274Z",
     "shell.execute_reply": "2021-11-07T02:30:09.556806Z"
    },
    "papermill": {
     "duration": 0.075503,
     "end_time": "2021-11-07T02:30:09.557309",
     "exception": false,
     "start_time": "2021-11-07T02:30:09.481806",
     "status": "completed"
    },
    "tags": []
   },
   "outputs": [
    {
     "data": {
      "text/html": [
       "<div>\n",
       "<style scoped>\n",
       "    .dataframe tbody tr th:only-of-type {\n",
       "        vertical-align: middle;\n",
       "    }\n",
       "\n",
       "    .dataframe tbody tr th {\n",
       "        vertical-align: top;\n",
       "    }\n",
       "\n",
       "    .dataframe thead th {\n",
       "        text-align: right;\n",
       "    }\n",
       "</style>\n",
       "<table border=\"1\" class=\"dataframe\">\n",
       "  <thead>\n",
       "    <tr style=\"text-align: right;\">\n",
       "      <th></th>\n",
       "      <th>RECORD_TIME</th>\n",
       "    </tr>\n",
       "  </thead>\n",
       "  <tbody>\n",
       "    <tr>\n",
       "      <th>0</th>\n",
       "      <td>2021-11-07 03:30</td>\n",
       "    </tr>\n",
       "    <tr>\n",
       "      <th>1</th>\n",
       "      <td>2021-11-07 03:00</td>\n",
       "    </tr>\n",
       "  </tbody>\n",
       "</table>\n",
       "</div>"
      ],
      "text/plain": [
       "        RECORD_TIME\n",
       "0  2021-11-07 03:30\n",
       "1  2021-11-07 03:00"
      ]
     },
     "execution_count": 3,
     "metadata": {},
     "output_type": "execute_result"
    }
   ],
   "source": [
    "timestamps"
   ]
  },
  {
   "cell_type": "code",
   "execution_count": 4,
   "id": "alternate-victory",
   "metadata": {
    "execution": {
     "iopub.execute_input": "2021-11-07T02:30:09.626922Z",
     "iopub.status.busy": "2021-11-07T02:30:09.624463Z",
     "iopub.status.idle": "2021-11-07T02:30:10.712555Z",
     "shell.execute_reply": "2021-11-07T02:30:10.714098Z"
    },
    "papermill": {
     "duration": 1.127269,
     "end_time": "2021-11-07T02:30:10.714575",
     "exception": false,
     "start_time": "2021-11-07T02:30:09.587306",
     "status": "completed"
    },
    "tags": []
   },
   "outputs": [],
   "source": [
    "df = pd.read_sql(\"select * from EBAY_TOP_BERLIN where record_time in (select distinct record_time from EBAY_TOP_BERLIN order by record_time desc limit 2)\", sqlite3.connect(\"UsedObjects.db\"))"
   ]
  },
  {
   "cell_type": "code",
   "execution_count": 5,
   "id": "popular-active",
   "metadata": {
    "execution": {
     "iopub.execute_input": "2021-11-07T02:30:10.779012Z",
     "iopub.status.busy": "2021-11-07T02:30:10.776672Z",
     "iopub.status.idle": "2021-11-07T02:30:10.807992Z",
     "shell.execute_reply": "2021-11-07T02:30:10.809492Z"
    },
    "papermill": {
     "duration": 0.074741,
     "end_time": "2021-11-07T02:30:10.809963",
     "exception": false,
     "start_time": "2021-11-07T02:30:10.735222",
     "status": "completed"
    },
    "tags": []
   },
   "outputs": [],
   "source": [
    "df_pivot = df.pivot_table(index=\"PRODUCT\", columns = \"RECORD_TIME\", values = \"LISTING_COUNT\")"
   ]
  },
  {
   "cell_type": "code",
   "execution_count": 6,
   "id": "union-huntington",
   "metadata": {
    "execution": {
     "iopub.execute_input": "2021-11-07T02:30:10.897206Z",
     "iopub.status.busy": "2021-11-07T02:30:10.894879Z",
     "iopub.status.idle": "2021-11-07T02:30:10.900222Z",
     "shell.execute_reply": "2021-11-07T02:30:10.901729Z"
    },
    "papermill": {
     "duration": 0.046522,
     "end_time": "2021-11-07T02:30:10.902251",
     "exception": false,
     "start_time": "2021-11-07T02:30:10.855729",
     "status": "completed"
    },
    "tags": []
   },
   "outputs": [],
   "source": [
    "df_pivot.columns = [\"stamp_1\", \"stamp_2\"]\n",
    "df_pivot_diff = df_pivot.diff(axis=1)"
   ]
  },
  {
   "cell_type": "code",
   "execution_count": 7,
   "id": "fifth-motion",
   "metadata": {
    "execution": {
     "iopub.execute_input": "2021-11-07T02:30:10.961260Z",
     "iopub.status.busy": "2021-11-07T02:30:10.958625Z",
     "iopub.status.idle": "2021-11-07T02:30:12.743683Z",
     "shell.execute_reply": "2021-11-07T02:30:12.745116Z"
    },
    "papermill": {
     "duration": 1.821864,
     "end_time": "2021-11-07T02:30:12.745597",
     "exception": false,
     "start_time": "2021-11-07T02:30:10.923733",
     "status": "completed"
    },
    "tags": []
   },
   "outputs": [
    {
     "data": {
      "text/plain": [
       "<AxesSubplot:ylabel='PRODUCT'>"
      ]
     },
     "execution_count": 7,
     "metadata": {},
     "output_type": "execute_result"
    },
    {
     "data": {
      "image/png": "[encoded data removed]",
      "text/plain": [
       "<Figure size 432x288 with 1 Axes>"
      ]
     },
     "metadata": {
      "needs_background": "light"
     },
     "output_type": "display_data"
    }
   ],
   "source": [
    "df_pivot_diff.sort_values(\"stamp_2\", ascending = False)[\"stamp_2\"].head(10).plot.barh()"
   ]
  },
  {
   "cell_type": "code",
   "execution_count": null,
   "id": "extra-executive",
   "metadata": {
    "papermill": {
     "duration": 0.023813,
     "end_time": "2021-11-07T02:30:12.794645",
     "exception": false,
     "start_time": "2021-11-07T02:30:12.770832",
     "status": "completed"
    },
    "tags": []
   },
   "outputs": [],
   "source": []
  }
 ],
 "metadata": {
  "kernelspec": {
   "display_name": "Python 3",
   "language": "python",
   "name": "python3"
  },
  "language_info": {
   "codemirror_mode": {
    "name": "ipython",
    "version": 3
   },
   "file_extension": ".py",
   "mimetype": "text/x-python",
   "name": "python",
   "nbconvert_exporter": "python",
   "pygments_lexer": "ipython3",
   "version": "3.9.5"
  },
  "papermill": {
   "default_parameters": {},
   "duration": 8.687729,
   "end_time": "2021-11-07T02:30:13.542776",
   "environment_variables": {},
   "exception": null,
   "input_path": "eBay_Overview.ipynb",
   "output_path": "eBay_Overview.ipynb",
   "parameters": {},
   "start_time": "2021-11-07T02:30:04.855047",
   "version": "2.3.3"
  }
 },
 "nbformat": 4,
 "nbformat_minor": 5
}