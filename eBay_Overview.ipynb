{
 "cells": [
  {
   "cell_type": "code",
   "execution_count": 1,
   "id": "reverse-picking",
   "metadata": {
    "execution": {
     "iopub.execute_input": "2021-08-12T16:00:04.077959Z",
     "iopub.status.busy": "2021-08-12T16:00:04.077203Z",
     "iopub.status.idle": "2021-08-12T16:00:04.695508Z",
     "shell.execute_reply": "2021-08-12T16:00:04.696451Z"
    },
    "papermill": {
     "duration": 0.638576,
     "end_time": "2021-08-12T16:00:04.696856",
     "exception": false,
     "start_time": "2021-08-12T16:00:04.058280",
     "status": "completed"
    },
    "tags": []
   },
   "outputs": [],
   "source": [
    "import pandas as pd\n",
    "import sqlite3"
   ]
  },
  {
   "cell_type": "code",
   "execution_count": 2,
   "id": "innovative-syndrome",
   "metadata": {
    "execution": {
     "iopub.execute_input": "2021-08-12T16:00:04.726473Z",
     "iopub.status.busy": "2021-08-12T16:00:04.725142Z",
     "iopub.status.idle": "2021-08-12T16:00:04.946746Z",
     "shell.execute_reply": "2021-08-12T16:00:04.945666Z"
    },
    "papermill": {
     "duration": 0.240409,
     "end_time": "2021-08-12T16:00:04.947024",
     "exception": false,
     "start_time": "2021-08-12T16:00:04.706615",
     "status": "completed"
    },
    "tags": []
   },
   "outputs": [],
   "source": [
    "timestamps = pd.read_sql(\"select distinct record_time from EBAY_TOP_BERLIN order by record_time desc limit 2\", sqlite3.connect(\"UsedObjects.db\"))"
   ]
  },
  {
   "cell_type": "code",
   "execution_count": 3,
   "id": "periodic-identification",
   "metadata": {
    "execution": {
     "iopub.execute_input": "2021-08-12T16:00:04.982566Z",
     "iopub.status.busy": "2021-08-12T16:00:04.981796Z",
     "iopub.status.idle": "2021-08-12T16:00:04.992898Z",
     "shell.execute_reply": "2021-08-12T16:00:04.993422Z"
    },
    "papermill": {
     "duration": 0.034979,
     "end_time": "2021-08-12T16:00:04.993601",
     "exception": false,
     "start_time": "2021-08-12T16:00:04.958622",
     "status": "completed"
    },
    "tags": []
   },
   "outputs": [
    {
     "data": {
      "text/html": [
       "<div>\n",
       "<style scoped>\n",
       "    .dataframe tbody tr th:only-of-type {\n",
       "        vertical-align: middle;\n",
       "    }\n",
       "\n",
       "    .dataframe tbody tr th {\n",
       "        vertical-align: top;\n",
       "    }\n",
       "\n",
       "    .dataframe thead th {\n",
       "        text-align: right;\n",
       "    }\n",
       "</style>\n",
       "<table border=\"1\" class=\"dataframe\">\n",
       "  <thead>\n",
       "    <tr style=\"text-align: right;\">\n",
       "      <th></th>\n",
       "      <th>RECORD_TIME</th>\n",
       "    </tr>\n",
       "  </thead>\n",
       "  <tbody>\n",
       "    <tr>\n",
       "      <th>0</th>\n",
       "      <td>2021-08-12 18:00</td>\n",
       "    </tr>\n",
       "    <tr>\n",
       "      <th>1</th>\n",
       "      <td>2021-08-12 17:30</td>\n",
       "    </tr>\n",
       "  </tbody>\n",
       "</table>\n",
       "</div>"
      ],
      "text/plain": [
       "        RECORD_TIME\n",
       "0  2021-08-12 18:00\n",
       "1  2021-08-12 17:30"
      ]
     },
     "execution_count": 3,
     "metadata": {},
     "output_type": "execute_result"
    }
   ],
   "source": [
    "timestamps"
   ]
  },
  {
   "cell_type": "code",
   "execution_count": 4,
   "id": "alternate-victory",
   "metadata": {
    "execution": {
     "iopub.execute_input": "2021-08-12T16:00:05.021834Z",
     "iopub.status.busy": "2021-08-12T16:00:05.020828Z",
     "iopub.status.idle": "2021-08-12T16:00:05.049720Z",
     "shell.execute_reply": "2021-08-12T16:00:05.050253Z"
    },
    "papermill": {
     "duration": 0.044387,
     "end_time": "2021-08-12T16:00:05.050439",
     "exception": false,
     "start_time": "2021-08-12T16:00:05.006052",
     "status": "completed"
    },
    "tags": []
   },
   "outputs": [],
   "source": [
    "df = pd.read_sql(\"select * from EBAY_TOP_BERLIN where record_time in (select distinct record_time from EBAY_TOP_BERLIN order by record_time desc limit 2)\", sqlite3.connect(\"UsedObjects.db\"))"
   ]
  },
  {
   "cell_type": "code",
   "execution_count": 5,
   "id": "popular-active",
   "metadata": {
    "execution": {
     "iopub.execute_input": "2021-08-12T16:00:05.076930Z",
     "iopub.status.busy": "2021-08-12T16:00:05.075316Z",
     "iopub.status.idle": "2021-08-12T16:00:05.095336Z",
     "shell.execute_reply": "2021-08-12T16:00:05.094709Z"
    },
    "papermill": {
     "duration": 0.035872,
     "end_time": "2021-08-12T16:00:05.095499",
     "exception": false,
     "start_time": "2021-08-12T16:00:05.059627",
     "status": "completed"
    },
    "tags": []
   },
   "outputs": [],
   "source": [
    "df_pivot = df.pivot_table(index=\"PRODUCT\", columns = \"RECORD_TIME\", values = \"LISTING_COUNT\")"
   ]
  },
  {
   "cell_type": "code",
   "execution_count": 6,
   "id": "union-huntington",
   "metadata": {
    "execution": {
     "iopub.execute_input": "2021-08-12T16:00:05.119709Z",
     "iopub.status.busy": "2021-08-12T16:00:05.118985Z",
     "iopub.status.idle": "2021-08-12T16:00:05.122457Z",
     "shell.execute_reply": "2021-08-12T16:00:05.121869Z"
    },
    "papermill": {
     "duration": 0.018717,
     "end_time": "2021-08-12T16:00:05.122609",
     "exception": false,
     "start_time": "2021-08-12T16:00:05.103892",
     "status": "completed"
    },
    "tags": []
   },
   "outputs": [],
   "source": [
    "df_pivot.columns = [\"stamp_1\", \"stamp_2\"]\n",
    "df_pivot_diff = df_pivot.diff(axis=1)"
   ]
  },
  {
   "cell_type": "code",
   "execution_count": 7,
   "id": "fifth-motion",
   "metadata": {
    "execution": {
     "iopub.execute_input": "2021-08-12T16:00:05.152750Z",
     "iopub.status.busy": "2021-08-12T16:00:05.151992Z",
     "iopub.status.idle": "2021-08-12T16:00:05.856390Z",
     "shell.execute_reply": "2021-08-12T16:00:05.856971Z"
    },
    "papermill": {
     "duration": 0.722614,
     "end_time": "2021-08-12T16:00:05.857175",
     "exception": false,
     "start_time": "2021-08-12T16:00:05.134561",
     "status": "completed"
    },
    "tags": []
   },
   "outputs": [
    {
     "data": {
      "text/plain": [
       "<AxesSubplot:ylabel='PRODUCT'>"
      ]
     },
     "execution_count": 7,
     "metadata": {},
     "output_type": "execute_result"
    },
    {
     "data": {
      "image/png": "[encoded data removed]",
      "text/plain": [
       "<Figure size 432x288 with 1 Axes>"
      ]
     },
     "metadata": {
      "needs_background": "light"
     },
     "output_type": "display_data"
    }
   ],
   "source": [
    "df_pivot_diff.sort_values(\"stamp_2\", ascending = False)[\"stamp_2\"].head(10).plot.barh()"
   ]
  },
  {
   "cell_type": "code",
   "execution_count": null,
   "id": "extra-executive",
   "metadata": {
    "papermill": {
     "duration": 0.015915,
     "end_time": "2021-08-12T16:00:05.883233",
     "exception": false,
     "start_time": "2021-08-12T16:00:05.867318",
     "status": "completed"
    },
    "tags": []
   },
   "outputs": [],
   "source": []
  }
 ],
 "metadata": {
  "kernelspec": {
   "display_name": "Python 3",
   "language": "python",
   "name": "python3"
  },
  "language_info": {
   "codemirror_mode": {
    "name": "ipython",
    "version": 3
   },
   "file_extension": ".py",
   "mimetype": "text/x-python",
   "name": "python",
   "nbconvert_exporter": "python",
   "pygments_lexer": "ipython3",
   "version": "3.8.8"
  },
  "papermill": {
   "default_parameters": {},
   "duration": 4.298544,
   "end_time": "2021-08-12T16:00:06.639620",
   "environment_variables": {},
   "exception": null,
   "input_path": "/Users/saravananshanmugam/Carbonleakage_Git/UsedObjects/eBay_Overview.ipynb",
   "output_path": "/Users/saravananshanmugam/Carbonleakage_Git/UsedObjects/eBay_Overview.ipynb",
   "parameters": {},
   "start_time": "2021-08-12T16:00:02.341076",
   "version": "2.3.3"
  }
 },
 "nbformat": 4,
 "nbformat_minor": 5
}