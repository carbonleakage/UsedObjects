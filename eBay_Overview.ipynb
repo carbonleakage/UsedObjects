{
 "cells": [
  {
   "cell_type": "code",
   "execution_count": 1,
   "id": "reverse-picking",
   "metadata": {
    "execution": {
     "iopub.execute_input": "2021-08-23T15:00:06.876134Z",
     "iopub.status.busy": "2021-08-23T15:00:06.874197Z",
     "iopub.status.idle": "2021-08-23T15:00:07.679818Z",
     "shell.execute_reply": "2021-08-23T15:00:07.681075Z"
    },
    "papermill": {
     "duration": 0.859637,
     "end_time": "2021-08-23T15:00:07.681705",
     "exception": false,
     "start_time": "2021-08-23T15:00:06.822068",
     "status": "completed"
    },
    "tags": []
   },
   "outputs": [],
   "source": [
    "import pandas as pd\n",
    "import sqlite3"
   ]
  },
  {
   "cell_type": "code",
   "execution_count": 2,
   "id": "innovative-syndrome",
   "metadata": {
    "execution": {
     "iopub.execute_input": "2021-08-23T15:00:07.732941Z",
     "iopub.status.busy": "2021-08-23T15:00:07.731071Z",
     "iopub.status.idle": "2021-08-23T15:00:07.842317Z",
     "shell.execute_reply": "2021-08-23T15:00:07.843826Z"
    },
    "papermill": {
     "duration": 0.141017,
     "end_time": "2021-08-23T15:00:07.844283",
     "exception": false,
     "start_time": "2021-08-23T15:00:07.703266",
     "status": "completed"
    },
    "tags": []
   },
   "outputs": [],
   "source": [
    "timestamps = pd.read_sql(\"select distinct record_time from EBAY_TOP_BERLIN order by record_time desc limit 2\", sqlite3.connect(\"UsedObjects.db\"))"
   ]
  },
  {
   "cell_type": "code",
   "execution_count": 3,
   "id": "periodic-identification",
   "metadata": {
    "execution": {
     "iopub.execute_input": "2021-08-23T15:00:07.911511Z",
     "iopub.status.busy": "2021-08-23T15:00:07.909405Z",
     "iopub.status.idle": "2021-08-23T15:00:07.929291Z",
     "shell.execute_reply": "2021-08-23T15:00:07.930776Z"
    },
    "papermill": {
     "duration": 0.067101,
     "end_time": "2021-08-23T15:00:07.931248",
     "exception": false,
     "start_time": "2021-08-23T15:00:07.864147",
     "status": "completed"
    },
    "tags": []
   },
   "outputs": [
    {
     "data": {
      "text/html": [
       "<div>\n",
       "<style scoped>\n",
       "    .dataframe tbody tr th:only-of-type {\n",
       "        vertical-align: middle;\n",
       "    }\n",
       "\n",
       "    .dataframe tbody tr th {\n",
       "        vertical-align: top;\n",
       "    }\n",
       "\n",
       "    .dataframe thead th {\n",
       "        text-align: right;\n",
       "    }\n",
       "</style>\n",
       "<table border=\"1\" class=\"dataframe\">\n",
       "  <thead>\n",
       "    <tr style=\"text-align: right;\">\n",
       "      <th></th>\n",
       "      <th>RECORD_TIME</th>\n",
       "    </tr>\n",
       "  </thead>\n",
       "  <tbody>\n",
       "    <tr>\n",
       "      <th>0</th>\n",
       "      <td>2021-08-23 17:00</td>\n",
       "    </tr>\n",
       "    <tr>\n",
       "      <th>1</th>\n",
       "      <td>2021-08-23 16:30</td>\n",
       "    </tr>\n",
       "  </tbody>\n",
       "</table>\n",
       "</div>"
      ],
      "text/plain": [
       "        RECORD_TIME\n",
       "0  2021-08-23 17:00\n",
       "1  2021-08-23 16:30"
      ]
     },
     "execution_count": 3,
     "metadata": {},
     "output_type": "execute_result"
    }
   ],
   "source": [
    "timestamps"
   ]
  },
  {
   "cell_type": "code",
   "execution_count": 4,
   "id": "alternate-victory",
   "metadata": {
    "execution": {
     "iopub.execute_input": "2021-08-23T15:00:07.982507Z",
     "iopub.status.busy": "2021-08-23T15:00:07.980553Z",
     "iopub.status.idle": "2021-08-23T15:00:08.151914Z",
     "shell.execute_reply": "2021-08-23T15:00:08.153197Z"
    },
    "papermill": {
     "duration": 0.201103,
     "end_time": "2021-08-23T15:00:08.153617",
     "exception": false,
     "start_time": "2021-08-23T15:00:07.952514",
     "status": "completed"
    },
    "tags": []
   },
   "outputs": [],
   "source": [
    "df = pd.read_sql(\"select * from EBAY_TOP_BERLIN where record_time in (select distinct record_time from EBAY_TOP_BERLIN order by record_time desc limit 2)\", sqlite3.connect(\"UsedObjects.db\"))"
   ]
  },
  {
   "cell_type": "code",
   "execution_count": 5,
   "id": "popular-active",
   "metadata": {
    "execution": {
     "iopub.execute_input": "2021-08-23T15:00:08.224136Z",
     "iopub.status.busy": "2021-08-23T15:00:08.211862Z",
     "iopub.status.idle": "2021-08-23T15:00:08.241724Z",
     "shell.execute_reply": "2021-08-23T15:00:08.243556Z"
    },
    "papermill": {
     "duration": 0.069915,
     "end_time": "2021-08-23T15:00:08.244150",
     "exception": false,
     "start_time": "2021-08-23T15:00:08.174235",
     "status": "completed"
    },
    "tags": []
   },
   "outputs": [],
   "source": [
    "df_pivot = df.pivot_table(index=\"PRODUCT\", columns = \"RECORD_TIME\", values = \"LISTING_COUNT\")"
   ]
  },
  {
   "cell_type": "code",
   "execution_count": 6,
   "id": "union-huntington",
   "metadata": {
    "execution": {
     "iopub.execute_input": "2021-08-23T15:00:08.305613Z",
     "iopub.status.busy": "2021-08-23T15:00:08.303558Z",
     "iopub.status.idle": "2021-08-23T15:00:08.308708Z",
     "shell.execute_reply": "2021-08-23T15:00:08.310102Z"
    },
    "papermill": {
     "duration": 0.045238,
     "end_time": "2021-08-23T15:00:08.310548",
     "exception": false,
     "start_time": "2021-08-23T15:00:08.265310",
     "status": "completed"
    },
    "tags": []
   },
   "outputs": [],
   "source": [
    "df_pivot.columns = [\"stamp_1\", \"stamp_2\"]\n",
    "df_pivot_diff = df_pivot.diff(axis=1)"
   ]
  },
  {
   "cell_type": "code",
   "execution_count": 7,
   "id": "fifth-motion",
   "metadata": {
    "execution": {
     "iopub.execute_input": "2021-08-23T15:00:08.364515Z",
     "iopub.status.busy": "2021-08-23T15:00:08.362148Z",
     "iopub.status.idle": "2021-08-23T15:00:09.845606Z",
     "shell.execute_reply": "2021-08-23T15:00:09.846961Z"
    },
    "papermill": {
     "duration": 1.516909,
     "end_time": "2021-08-23T15:00:09.847395",
     "exception": false,
     "start_time": "2021-08-23T15:00:08.330486",
     "status": "completed"
    },
    "tags": []
   },
   "outputs": [
    {
     "data": {
      "text/plain": [
       "<AxesSubplot:ylabel='PRODUCT'>"
      ]
     },
     "execution_count": 7,
     "metadata": {},
     "output_type": "execute_result"
    },
    {
     "data": {
      "image/png": "[encoded data removed]",
      "text/plain": [
       "<Figure size 432x288 with 1 Axes>"
      ]
     },
     "metadata": {
      "needs_background": "light"
     },
     "output_type": "display_data"
    }
   ],
   "source": [
    "df_pivot_diff.sort_values(\"stamp_2\", ascending = False)[\"stamp_2\"].head(10).plot.barh()"
   ]
  },
  {
   "cell_type": "code",
   "execution_count": null,
   "id": "extra-executive",
   "metadata": {
    "papermill": {
     "duration": 0.022219,
     "end_time": "2021-08-23T15:00:09.893378",
     "exception": false,
     "start_time": "2021-08-23T15:00:09.871159",
     "status": "completed"
    },
    "tags": []
   },
   "outputs": [],
   "source": []
  }
 ],
 "metadata": {
  "kernelspec": {
   "display_name": "Python 3",
   "language": "python",
   "name": "python3"
  },
  "language_info": {
   "codemirror_mode": {
    "name": "ipython",
    "version": 3
   },
   "file_extension": ".py",
   "mimetype": "text/x-python",
   "name": "python",
   "nbconvert_exporter": "python",
   "pygments_lexer": "ipython3",
   "version": "3.9.5"
  },
  "papermill": {
   "default_parameters": {},
   "duration": 6.823021,
   "end_time": "2021-08-23T15:00:11.234501",
   "environment_variables": {},
   "exception": null,
   "input_path": "eBay_Overview.ipynb",
   "output_path": "eBay_Overview.ipynb",
   "parameters": {},
   "start_time": "2021-08-23T15:00:04.411480",
   "version": "2.3.3"
  }
 },
 "nbformat": 4,
 "nbformat_minor": 5
}