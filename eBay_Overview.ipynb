{
 "cells": [
  {
   "cell_type": "code",
   "execution_count": 1,
   "id": "reverse-picking",
   "metadata": {
    "execution": {
     "iopub.execute_input": "2021-09-07T23:30:07.248743Z",
     "iopub.status.busy": "2021-09-07T23:30:07.246706Z",
     "iopub.status.idle": "2021-09-07T23:30:08.061435Z",
     "shell.execute_reply": "2021-09-07T23:30:08.059685Z"
    },
    "papermill": {
     "duration": 0.865449,
     "end_time": "2021-09-07T23:30:08.061867",
     "exception": false,
     "start_time": "2021-09-07T23:30:07.196418",
     "status": "completed"
    },
    "tags": []
   },
   "outputs": [],
   "source": [
    "import pandas as pd\n",
    "import sqlite3"
   ]
  },
  {
   "cell_type": "code",
   "execution_count": 2,
   "id": "innovative-syndrome",
   "metadata": {
    "execution": {
     "iopub.execute_input": "2021-09-07T23:30:08.112886Z",
     "iopub.status.busy": "2021-09-07T23:30:08.110481Z",
     "iopub.status.idle": "2021-09-07T23:30:08.347122Z",
     "shell.execute_reply": "2021-09-07T23:30:08.348619Z"
    },
    "papermill": {
     "duration": 0.26687,
     "end_time": "2021-09-07T23:30:08.349061",
     "exception": false,
     "start_time": "2021-09-07T23:30:08.082191",
     "status": "completed"
    },
    "tags": []
   },
   "outputs": [],
   "source": [
    "timestamps = pd.read_sql(\"select distinct record_time from EBAY_TOP_BERLIN order by record_time desc limit 2\", sqlite3.connect(\"UsedObjects.db\"))"
   ]
  },
  {
   "cell_type": "code",
   "execution_count": 3,
   "id": "periodic-identification",
   "metadata": {
    "execution": {
     "iopub.execute_input": "2021-09-07T23:30:08.416100Z",
     "iopub.status.busy": "2021-09-07T23:30:08.414020Z",
     "iopub.status.idle": "2021-09-07T23:30:08.436320Z",
     "shell.execute_reply": "2021-09-07T23:30:08.437570Z"
    },
    "papermill": {
     "duration": 0.069074,
     "end_time": "2021-09-07T23:30:08.437967",
     "exception": false,
     "start_time": "2021-09-07T23:30:08.368893",
     "status": "completed"
    },
    "tags": []
   },
   "outputs": [
    {
     "data": {
      "text/html": [
       "<div>\n",
       "<style scoped>\n",
       "    .dataframe tbody tr th:only-of-type {\n",
       "        vertical-align: middle;\n",
       "    }\n",
       "\n",
       "    .dataframe tbody tr th {\n",
       "        vertical-align: top;\n",
       "    }\n",
       "\n",
       "    .dataframe thead th {\n",
       "        text-align: right;\n",
       "    }\n",
       "</style>\n",
       "<table border=\"1\" class=\"dataframe\">\n",
       "  <thead>\n",
       "    <tr style=\"text-align: right;\">\n",
       "      <th></th>\n",
       "      <th>RECORD_TIME</th>\n",
       "    </tr>\n",
       "  </thead>\n",
       "  <tbody>\n",
       "    <tr>\n",
       "      <th>0</th>\n",
       "      <td>2021-09-08 01:30</td>\n",
       "    </tr>\n",
       "    <tr>\n",
       "      <th>1</th>\n",
       "      <td>2021-09-08 01:00</td>\n",
       "    </tr>\n",
       "  </tbody>\n",
       "</table>\n",
       "</div>"
      ],
      "text/plain": [
       "        RECORD_TIME\n",
       "0  2021-09-08 01:30\n",
       "1  2021-09-08 01:00"
      ]
     },
     "execution_count": 3,
     "metadata": {},
     "output_type": "execute_result"
    }
   ],
   "source": [
    "timestamps"
   ]
  },
  {
   "cell_type": "code",
   "execution_count": 4,
   "id": "alternate-victory",
   "metadata": {
    "execution": {
     "iopub.execute_input": "2021-09-07T23:30:08.490924Z",
     "iopub.status.busy": "2021-09-07T23:30:08.488608Z",
     "iopub.status.idle": "2021-09-07T23:30:08.838185Z",
     "shell.execute_reply": "2021-09-07T23:30:08.839666Z"
    },
    "papermill": {
     "duration": 0.380457,
     "end_time": "2021-09-07T23:30:08.840123",
     "exception": false,
     "start_time": "2021-09-07T23:30:08.459666",
     "status": "completed"
    },
    "tags": []
   },
   "outputs": [],
   "source": [
    "df = pd.read_sql(\"select * from EBAY_TOP_BERLIN where record_time in (select distinct record_time from EBAY_TOP_BERLIN order by record_time desc limit 2)\", sqlite3.connect(\"UsedObjects.db\"))"
   ]
  },
  {
   "cell_type": "code",
   "execution_count": 5,
   "id": "popular-active",
   "metadata": {
    "execution": {
     "iopub.execute_input": "2021-09-07T23:30:08.926787Z",
     "iopub.status.busy": "2021-09-07T23:30:08.915356Z",
     "iopub.status.idle": "2021-09-07T23:30:08.942967Z",
     "shell.execute_reply": "2021-09-07T23:30:08.944283Z"
    },
    "papermill": {
     "duration": 0.075532,
     "end_time": "2021-09-07T23:30:08.944700",
     "exception": false,
     "start_time": "2021-09-07T23:30:08.869168",
     "status": "completed"
    },
    "tags": []
   },
   "outputs": [],
   "source": [
    "df_pivot = df.pivot_table(index=\"PRODUCT\", columns = \"RECORD_TIME\", values = \"LISTING_COUNT\")"
   ]
  },
  {
   "cell_type": "code",
   "execution_count": 6,
   "id": "union-huntington",
   "metadata": {
    "execution": {
     "iopub.execute_input": "2021-09-07T23:30:08.999871Z",
     "iopub.status.busy": "2021-09-07T23:30:08.997836Z",
     "iopub.status.idle": "2021-09-07T23:30:09.002827Z",
     "shell.execute_reply": "2021-09-07T23:30:09.004128Z"
    },
    "papermill": {
     "duration": 0.039803,
     "end_time": "2021-09-07T23:30:09.004528",
     "exception": false,
     "start_time": "2021-09-07T23:30:08.964725",
     "status": "completed"
    },
    "tags": []
   },
   "outputs": [],
   "source": [
    "df_pivot.columns = [\"stamp_1\", \"stamp_2\"]\n",
    "df_pivot_diff = df_pivot.diff(axis=1)"
   ]
  },
  {
   "cell_type": "code",
   "execution_count": 7,
   "id": "fifth-motion",
   "metadata": {
    "execution": {
     "iopub.execute_input": "2021-09-07T23:30:09.059224Z",
     "iopub.status.busy": "2021-09-07T23:30:09.056743Z",
     "iopub.status.idle": "2021-09-07T23:30:10.547166Z",
     "shell.execute_reply": "2021-09-07T23:30:10.548460Z"
    },
    "papermill": {
     "duration": 1.523368,
     "end_time": "2021-09-07T23:30:10.548878",
     "exception": false,
     "start_time": "2021-09-07T23:30:09.025510",
     "status": "completed"
    },
    "tags": []
   },
   "outputs": [
    {
     "data": {
      "text/plain": [
       "<AxesSubplot:ylabel='PRODUCT'>"
      ]
     },
     "execution_count": 7,
     "metadata": {},
     "output_type": "execute_result"
    },
    {
     "data": {
      "image/png": "[encoded data removed]",
      "text/plain": [
       "<Figure size 432x288 with 1 Axes>"
      ]
     },
     "metadata": {
      "needs_background": "light"
     },
     "output_type": "display_data"
    }
   ],
   "source": [
    "df_pivot_diff.sort_values(\"stamp_2\", ascending = False)[\"stamp_2\"].head(10).plot.barh()"
   ]
  },
  {
   "cell_type": "code",
   "execution_count": null,
   "id": "extra-executive",
   "metadata": {
    "papermill": {
     "duration": 0.022067,
     "end_time": "2021-09-07T23:30:10.595523",
     "exception": false,
     "start_time": "2021-09-07T23:30:10.573456",
     "status": "completed"
    },
    "tags": []
   },
   "outputs": [],
   "source": []
  }
 ],
 "metadata": {
  "kernelspec": {
   "display_name": "Python 3",
   "language": "python",
   "name": "python3"
  },
  "language_info": {
   "codemirror_mode": {
    "name": "ipython",
    "version": 3
   },
   "file_extension": ".py",
   "mimetype": "text/x-python",
   "name": "python",
   "nbconvert_exporter": "python",
   "pygments_lexer": "ipython3",
   "version": "3.9.5"
  },
  "papermill": {
   "default_parameters": {},
   "duration": 6.455208,
   "end_time": "2021-09-07T23:30:11.236767",
   "environment_variables": {},
   "exception": null,
   "input_path": "eBay_Overview.ipynb",
   "output_path": "eBay_Overview.ipynb",
   "parameters": {},
   "start_time": "2021-09-07T23:30:04.781559",
   "version": "2.3.3"
  }
 },
 "nbformat": 4,
 "nbformat_minor": 5
}