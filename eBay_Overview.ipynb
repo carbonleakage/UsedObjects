{
 "cells": [
  {
   "cell_type": "code",
   "execution_count": 1,
   "id": "reverse-picking",
   "metadata": {
    "execution": {
     "iopub.execute_input": "2021-11-27T16:00:07.313974Z",
     "iopub.status.busy": "2021-11-27T16:00:07.311089Z",
     "iopub.status.idle": "2021-11-27T16:00:08.236275Z",
     "shell.execute_reply": "2021-11-27T16:00:08.237976Z"
    },
    "papermill": {
     "duration": 0.977129,
     "end_time": "2021-11-27T16:00:08.238744",
     "exception": false,
     "start_time": "2021-11-27T16:00:07.261615",
     "status": "completed"
    },
    "tags": []
   },
   "outputs": [],
   "source": [
    "import pandas as pd\n",
    "import sqlite3"
   ]
  },
  {
   "cell_type": "code",
   "execution_count": 2,
   "id": "innovative-syndrome",
   "metadata": {
    "execution": {
     "iopub.execute_input": "2021-11-27T16:00:08.302428Z",
     "iopub.status.busy": "2021-11-27T16:00:08.299674Z",
     "iopub.status.idle": "2021-11-27T16:00:09.234072Z",
     "shell.execute_reply": "2021-11-27T16:00:09.235455Z"
    },
    "papermill": {
     "duration": 0.970123,
     "end_time": "2021-11-27T16:00:09.235927",
     "exception": false,
     "start_time": "2021-11-27T16:00:08.265804",
     "status": "completed"
    },
    "tags": []
   },
   "outputs": [],
   "source": [
    "timestamps = pd.read_sql(\"select distinct record_time from EBAY_TOP_BERLIN order by record_time desc limit 2\", sqlite3.connect(\"UsedObjects.db\"))"
   ]
  },
  {
   "cell_type": "code",
   "execution_count": 3,
   "id": "periodic-identification",
   "metadata": {
    "execution": {
     "iopub.execute_input": "2021-11-27T16:00:09.309911Z",
     "iopub.status.busy": "2021-11-27T16:00:09.307089Z",
     "iopub.status.idle": "2021-11-27T16:00:09.331252Z",
     "shell.execute_reply": "2021-11-27T16:00:09.332769Z"
    },
    "papermill": {
     "duration": 0.077021,
     "end_time": "2021-11-27T16:00:09.333278",
     "exception": false,
     "start_time": "2021-11-27T16:00:09.256257",
     "status": "completed"
    },
    "tags": []
   },
   "outputs": [
    {
     "data": {
      "text/html": [
       "<div>\n",
       "<style scoped>\n",
       "    .dataframe tbody tr th:only-of-type {\n",
       "        vertical-align: middle;\n",
       "    }\n",
       "\n",
       "    .dataframe tbody tr th {\n",
       "        vertical-align: top;\n",
       "    }\n",
       "\n",
       "    .dataframe thead th {\n",
       "        text-align: right;\n",
       "    }\n",
       "</style>\n",
       "<table border=\"1\" class=\"dataframe\">\n",
       "  <thead>\n",
       "    <tr style=\"text-align: right;\">\n",
       "      <th></th>\n",
       "      <th>RECORD_TIME</th>\n",
       "    </tr>\n",
       "  </thead>\n",
       "  <tbody>\n",
       "    <tr>\n",
       "      <th>0</th>\n",
       "      <td>2021-11-27 17:00</td>\n",
       "    </tr>\n",
       "    <tr>\n",
       "      <th>1</th>\n",
       "      <td>2021-11-27 16:30</td>\n",
       "    </tr>\n",
       "  </tbody>\n",
       "</table>\n",
       "</div>"
      ],
      "text/plain": [
       "        RECORD_TIME\n",
       "0  2021-11-27 17:00\n",
       "1  2021-11-27 16:30"
      ]
     },
     "execution_count": 3,
     "metadata": {},
     "output_type": "execute_result"
    }
   ],
   "source": [
    "timestamps"
   ]
  },
  {
   "cell_type": "code",
   "execution_count": 4,
   "id": "alternate-victory",
   "metadata": {
    "execution": {
     "iopub.execute_input": "2021-11-27T16:00:09.384822Z",
     "iopub.status.busy": "2021-11-27T16:00:09.382846Z",
     "iopub.status.idle": "2021-11-27T16:00:10.760056Z",
     "shell.execute_reply": "2021-11-27T16:00:10.762200Z"
    },
    "papermill": {
     "duration": 1.408383,
     "end_time": "2021-11-27T16:00:10.762685",
     "exception": false,
     "start_time": "2021-11-27T16:00:09.354302",
     "status": "completed"
    },
    "tags": []
   },
   "outputs": [],
   "source": [
    "df = pd.read_sql(\"select * from EBAY_TOP_BERLIN where record_time in (select distinct record_time from EBAY_TOP_BERLIN order by record_time desc limit 2)\", sqlite3.connect(\"UsedObjects.db\"))"
   ]
  },
  {
   "cell_type": "code",
   "execution_count": 5,
   "id": "popular-active",
   "metadata": {
    "execution": {
     "iopub.execute_input": "2021-11-27T16:00:10.825546Z",
     "iopub.status.busy": "2021-11-27T16:00:10.823236Z",
     "iopub.status.idle": "2021-11-27T16:00:10.856540Z",
     "shell.execute_reply": "2021-11-27T16:00:10.854773Z"
    },
    "papermill": {
     "duration": 0.073947,
     "end_time": "2021-11-27T16:00:10.857042",
     "exception": false,
     "start_time": "2021-11-27T16:00:10.783095",
     "status": "completed"
    },
    "tags": []
   },
   "outputs": [],
   "source": [
    "df_pivot = df.pivot_table(index=\"PRODUCT\", columns = \"RECORD_TIME\", values = \"LISTING_COUNT\")"
   ]
  },
  {
   "cell_type": "code",
   "execution_count": 6,
   "id": "union-huntington",
   "metadata": {
    "execution": {
     "iopub.execute_input": "2021-11-27T16:00:10.921911Z",
     "iopub.status.busy": "2021-11-27T16:00:10.919517Z",
     "iopub.status.idle": "2021-11-27T16:00:10.925679Z",
     "shell.execute_reply": "2021-11-27T16:00:10.927328Z"
    },
    "papermill": {
     "duration": 0.045723,
     "end_time": "2021-11-27T16:00:10.927884",
     "exception": false,
     "start_time": "2021-11-27T16:00:10.882161",
     "status": "completed"
    },
    "tags": []
   },
   "outputs": [],
   "source": [
    "df_pivot.columns = [\"stamp_1\", \"stamp_2\"]\n",
    "df_pivot_diff = df_pivot.diff(axis=1)"
   ]
  },
  {
   "cell_type": "code",
   "execution_count": 7,
   "id": "fifth-motion",
   "metadata": {
    "execution": {
     "iopub.execute_input": "2021-11-27T16:00:10.993435Z",
     "iopub.status.busy": "2021-11-27T16:00:10.990913Z",
     "iopub.status.idle": "2021-11-27T16:00:13.020047Z",
     "shell.execute_reply": "2021-11-27T16:00:13.017303Z"
    },
    "papermill": {
     "duration": 2.066652,
     "end_time": "2021-11-27T16:00:13.020751",
     "exception": false,
     "start_time": "2021-11-27T16:00:10.954099",
     "status": "completed"
    },
    "tags": []
   },
   "outputs": [
    {
     "data": {
      "text/plain": [
       "<AxesSubplot:ylabel='PRODUCT'>"
      ]
     },
     "execution_count": 7,
     "metadata": {},
     "output_type": "execute_result"
    },
    {
     "data": {
      "image/png": "[encoded data removed]",
      "text/plain": [
       "<Figure size 432x288 with 1 Axes>"
      ]
     },
     "metadata": {
      "needs_background": "light"
     },
     "output_type": "display_data"
    }
   ],
   "source": [
    "df_pivot_diff.sort_values(\"stamp_2\", ascending = False)[\"stamp_2\"].head(10).plot.barh()"
   ]
  },
  {
   "cell_type": "code",
   "execution_count": null,
   "id": "extra-executive",
   "metadata": {
    "papermill": {
     "duration": 0.028595,
     "end_time": "2021-11-27T16:00:13.086284",
     "exception": false,
     "start_time": "2021-11-27T16:00:13.057689",
     "status": "completed"
    },
    "tags": []
   },
   "outputs": [],
   "source": []
  }
 ],
 "metadata": {
  "kernelspec": {
   "display_name": "Python 3",
   "language": "python",
   "name": "python3"
  },
  "language_info": {
   "codemirror_mode": {
    "name": "ipython",
    "version": 3
   },
   "file_extension": ".py",
   "mimetype": "text/x-python",
   "name": "python",
   "nbconvert_exporter": "python",
   "pygments_lexer": "ipython3",
   "version": "3.9.5"
  },
  "papermill": {
   "default_parameters": {},
   "duration": 9.940036,
   "end_time": "2021-11-27T16:00:14.464199",
   "environment_variables": {},
   "exception": null,
   "input_path": "eBay_Overview.ipynb",
   "output_path": "eBay_Overview.ipynb",
   "parameters": {},
   "start_time": "2021-11-27T16:00:04.524163",
   "version": "2.3.3"
  }
 },
 "nbformat": 4,
 "nbformat_minor": 5
}