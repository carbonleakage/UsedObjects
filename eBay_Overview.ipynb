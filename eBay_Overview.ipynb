{
 "cells": [
  {
   "cell_type": "code",
   "execution_count": 1,
   "id": "reverse-picking",
   "metadata": {
    "execution": {
     "iopub.execute_input": "2021-09-08T05:30:07.225491Z",
     "iopub.status.busy": "2021-09-08T05:30:07.223193Z",
     "iopub.status.idle": "2021-09-08T05:30:08.024149Z",
     "shell.execute_reply": "2021-09-08T05:30:08.025417Z"
    },
    "papermill": {
     "duration": 0.851755,
     "end_time": "2021-09-08T05:30:08.026039",
     "exception": false,
     "start_time": "2021-09-08T05:30:07.174284",
     "status": "completed"
    },
    "tags": []
   },
   "outputs": [],
   "source": [
    "import pandas as pd\n",
    "import sqlite3"
   ]
  },
  {
   "cell_type": "code",
   "execution_count": 2,
   "id": "innovative-syndrome",
   "metadata": {
    "execution": {
     "iopub.execute_input": "2021-09-08T05:30:08.077118Z",
     "iopub.status.busy": "2021-09-08T05:30:08.075264Z",
     "iopub.status.idle": "2021-09-08T05:30:08.304562Z",
     "shell.execute_reply": "2021-09-08T05:30:08.305682Z"
    },
    "papermill": {
     "duration": 0.258878,
     "end_time": "2021-09-08T05:30:08.306085",
     "exception": false,
     "start_time": "2021-09-08T05:30:08.047207",
     "status": "completed"
    },
    "tags": []
   },
   "outputs": [],
   "source": [
    "timestamps = pd.read_sql(\"select distinct record_time from EBAY_TOP_BERLIN order by record_time desc limit 2\", sqlite3.connect(\"UsedObjects.db\"))"
   ]
  },
  {
   "cell_type": "code",
   "execution_count": 3,
   "id": "periodic-identification",
   "metadata": {
    "execution": {
     "iopub.execute_input": "2021-09-08T05:30:08.374164Z",
     "iopub.status.busy": "2021-09-08T05:30:08.372140Z",
     "iopub.status.idle": "2021-09-08T05:30:08.391666Z",
     "shell.execute_reply": "2021-09-08T05:30:08.393068Z"
    },
    "papermill": {
     "duration": 0.065571,
     "end_time": "2021-09-08T05:30:08.393546",
     "exception": false,
     "start_time": "2021-09-08T05:30:08.327975",
     "status": "completed"
    },
    "tags": []
   },
   "outputs": [
    {
     "data": {
      "text/html": [
       "<div>\n",
       "<style scoped>\n",
       "    .dataframe tbody tr th:only-of-type {\n",
       "        vertical-align: middle;\n",
       "    }\n",
       "\n",
       "    .dataframe tbody tr th {\n",
       "        vertical-align: top;\n",
       "    }\n",
       "\n",
       "    .dataframe thead th {\n",
       "        text-align: right;\n",
       "    }\n",
       "</style>\n",
       "<table border=\"1\" class=\"dataframe\">\n",
       "  <thead>\n",
       "    <tr style=\"text-align: right;\">\n",
       "      <th></th>\n",
       "      <th>RECORD_TIME</th>\n",
       "    </tr>\n",
       "  </thead>\n",
       "  <tbody>\n",
       "    <tr>\n",
       "      <th>0</th>\n",
       "      <td>2021-09-08 07:30</td>\n",
       "    </tr>\n",
       "    <tr>\n",
       "      <th>1</th>\n",
       "      <td>2021-09-08 07:00</td>\n",
       "    </tr>\n",
       "  </tbody>\n",
       "</table>\n",
       "</div>"
      ],
      "text/plain": [
       "        RECORD_TIME\n",
       "0  2021-09-08 07:30\n",
       "1  2021-09-08 07:00"
      ]
     },
     "execution_count": 3,
     "metadata": {},
     "output_type": "execute_result"
    }
   ],
   "source": [
    "timestamps"
   ]
  },
  {
   "cell_type": "code",
   "execution_count": 4,
   "id": "alternate-victory",
   "metadata": {
    "execution": {
     "iopub.execute_input": "2021-09-08T05:30:08.446076Z",
     "iopub.status.busy": "2021-09-08T05:30:08.444127Z",
     "iopub.status.idle": "2021-09-08T05:30:08.795897Z",
     "shell.execute_reply": "2021-09-08T05:30:08.797142Z"
    },
    "papermill": {
     "duration": 0.382404,
     "end_time": "2021-09-08T05:30:08.797534",
     "exception": false,
     "start_time": "2021-09-08T05:30:08.415130",
     "status": "completed"
    },
    "tags": []
   },
   "outputs": [],
   "source": [
    "df = pd.read_sql(\"select * from EBAY_TOP_BERLIN where record_time in (select distinct record_time from EBAY_TOP_BERLIN order by record_time desc limit 2)\", sqlite3.connect(\"UsedObjects.db\"))"
   ]
  },
  {
   "cell_type": "code",
   "execution_count": 5,
   "id": "popular-active",
   "metadata": {
    "execution": {
     "iopub.execute_input": "2021-09-08T05:30:08.879079Z",
     "iopub.status.busy": "2021-09-08T05:30:08.868117Z",
     "iopub.status.idle": "2021-09-08T05:30:08.895645Z",
     "shell.execute_reply": "2021-09-08T05:30:08.896886Z"
    },
    "papermill": {
     "duration": 0.070796,
     "end_time": "2021-09-08T05:30:08.897285",
     "exception": false,
     "start_time": "2021-09-08T05:30:08.826489",
     "status": "completed"
    },
    "tags": []
   },
   "outputs": [],
   "source": [
    "df_pivot = df.pivot_table(index=\"PRODUCT\", columns = \"RECORD_TIME\", values = \"LISTING_COUNT\")"
   ]
  },
  {
   "cell_type": "code",
   "execution_count": 6,
   "id": "union-huntington",
   "metadata": {
    "execution": {
     "iopub.execute_input": "2021-09-08T05:30:08.954201Z",
     "iopub.status.busy": "2021-09-08T05:30:08.952150Z",
     "iopub.status.idle": "2021-09-08T05:30:08.957406Z",
     "shell.execute_reply": "2021-09-08T05:30:08.958702Z"
    },
    "papermill": {
     "duration": 0.040251,
     "end_time": "2021-09-08T05:30:08.959174",
     "exception": false,
     "start_time": "2021-09-08T05:30:08.918923",
     "status": "completed"
    },
    "tags": []
   },
   "outputs": [],
   "source": [
    "df_pivot.columns = [\"stamp_1\", \"stamp_2\"]\n",
    "df_pivot_diff = df_pivot.diff(axis=1)"
   ]
  },
  {
   "cell_type": "code",
   "execution_count": 7,
   "id": "fifth-motion",
   "metadata": {
    "execution": {
     "iopub.execute_input": "2021-09-08T05:30:09.014367Z",
     "iopub.status.busy": "2021-09-08T05:30:09.012006Z",
     "iopub.status.idle": "2021-09-08T05:30:10.464885Z",
     "shell.execute_reply": "2021-09-08T05:30:10.466196Z"
    },
    "papermill": {
     "duration": 1.485892,
     "end_time": "2021-09-08T05:30:10.466615",
     "exception": false,
     "start_time": "2021-09-08T05:30:08.980723",
     "status": "completed"
    },
    "tags": []
   },
   "outputs": [
    {
     "data": {
      "text/plain": [
       "<AxesSubplot:ylabel='PRODUCT'>"
      ]
     },
     "execution_count": 7,
     "metadata": {},
     "output_type": "execute_result"
    },
    {
     "data": {
      "image/png": "[encoded data removed]",
      "text/plain": [
       "<Figure size 432x288 with 1 Axes>"
      ]
     },
     "metadata": {
      "needs_background": "light"
     },
     "output_type": "display_data"
    }
   ],
   "source": [
    "df_pivot_diff.sort_values(\"stamp_2\", ascending = False)[\"stamp_2\"].head(10).plot.barh()"
   ]
  },
  {
   "cell_type": "code",
   "execution_count": null,
   "id": "extra-executive",
   "metadata": {
    "papermill": {
     "duration": 0.022433,
     "end_time": "2021-09-08T05:30:10.514546",
     "exception": false,
     "start_time": "2021-09-08T05:30:10.492113",
     "status": "completed"
    },
    "tags": []
   },
   "outputs": [],
   "source": []
  }
 ],
 "metadata": {
  "kernelspec": {
   "display_name": "Python 3",
   "language": "python",
   "name": "python3"
  },
  "language_info": {
   "codemirror_mode": {
    "name": "ipython",
    "version": 3
   },
   "file_extension": ".py",
   "mimetype": "text/x-python",
   "name": "python",
   "nbconvert_exporter": "python",
   "pygments_lexer": "ipython3",
   "version": "3.9.5"
  },
  "papermill": {
   "default_parameters": {},
   "duration": 6.385695,
   "end_time": "2021-09-08T05:30:11.158074",
   "environment_variables": {},
   "exception": null,
   "input_path": "eBay_Overview.ipynb",
   "output_path": "eBay_Overview.ipynb",
   "parameters": {},
   "start_time": "2021-09-08T05:30:04.772379",
   "version": "2.3.3"
  }
 },
 "nbformat": 4,
 "nbformat_minor": 5
}