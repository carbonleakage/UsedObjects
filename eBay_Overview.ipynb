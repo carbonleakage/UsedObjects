{
 "cells": [
  {
   "cell_type": "code",
   "execution_count": 1,
   "id": "reverse-picking",
   "metadata": {
    "execution": {
     "iopub.execute_input": "2021-12-07T03:30:07.404645Z",
     "iopub.status.busy": "2021-12-07T03:30:07.402356Z",
     "iopub.status.idle": "2021-12-07T03:30:08.346605Z",
     "shell.execute_reply": "2021-12-07T03:30:08.348066Z"
    },
    "papermill": {
     "duration": 0.994404,
     "end_time": "2021-12-07T03:30:08.349116",
     "exception": false,
     "start_time": "2021-12-07T03:30:07.354712",
     "status": "completed"
    },
    "tags": []
   },
   "outputs": [],
   "source": [
    "import pandas as pd\n",
    "import sqlite3"
   ]
  },
  {
   "cell_type": "code",
   "execution_count": 2,
   "id": "innovative-syndrome",
   "metadata": {
    "execution": {
     "iopub.execute_input": "2021-12-07T03:30:08.413968Z",
     "iopub.status.busy": "2021-12-07T03:30:08.411824Z",
     "iopub.status.idle": "2021-12-07T03:30:09.441668Z",
     "shell.execute_reply": "2021-12-07T03:30:09.444306Z"
    },
    "papermill": {
     "duration": 1.064749,
     "end_time": "2021-12-07T03:30:09.445157",
     "exception": false,
     "start_time": "2021-12-07T03:30:08.380408",
     "status": "completed"
    },
    "tags": []
   },
   "outputs": [],
   "source": [
    "timestamps = pd.read_sql(\"select distinct record_time from EBAY_TOP_BERLIN order by record_time desc limit 2\", sqlite3.connect(\"UsedObjects.db\"))"
   ]
  },
  {
   "cell_type": "code",
   "execution_count": 3,
   "id": "periodic-identification",
   "metadata": {
    "execution": {
     "iopub.execute_input": "2021-12-07T03:30:09.531344Z",
     "iopub.status.busy": "2021-12-07T03:30:09.525124Z",
     "iopub.status.idle": "2021-12-07T03:30:09.549237Z",
     "shell.execute_reply": "2021-12-07T03:30:09.550789Z"
    },
    "papermill": {
     "duration": 0.076717,
     "end_time": "2021-12-07T03:30:09.551297",
     "exception": false,
     "start_time": "2021-12-07T03:30:09.474580",
     "status": "completed"
    },
    "tags": []
   },
   "outputs": [
    {
     "data": {
      "text/html": [
       "<div>\n",
       "<style scoped>\n",
       "    .dataframe tbody tr th:only-of-type {\n",
       "        vertical-align: middle;\n",
       "    }\n",
       "\n",
       "    .dataframe tbody tr th {\n",
       "        vertical-align: top;\n",
       "    }\n",
       "\n",
       "    .dataframe thead th {\n",
       "        text-align: right;\n",
       "    }\n",
       "</style>\n",
       "<table border=\"1\" class=\"dataframe\">\n",
       "  <thead>\n",
       "    <tr style=\"text-align: right;\">\n",
       "      <th></th>\n",
       "      <th>RECORD_TIME</th>\n",
       "    </tr>\n",
       "  </thead>\n",
       "  <tbody>\n",
       "    <tr>\n",
       "      <th>0</th>\n",
       "      <td>2021-12-07 04:30</td>\n",
       "    </tr>\n",
       "    <tr>\n",
       "      <th>1</th>\n",
       "      <td>2021-12-07 04:00</td>\n",
       "    </tr>\n",
       "  </tbody>\n",
       "</table>\n",
       "</div>"
      ],
      "text/plain": [
       "        RECORD_TIME\n",
       "0  2021-12-07 04:30\n",
       "1  2021-12-07 04:00"
      ]
     },
     "execution_count": 3,
     "metadata": {},
     "output_type": "execute_result"
    }
   ],
   "source": [
    "timestamps"
   ]
  },
  {
   "cell_type": "code",
   "execution_count": 4,
   "id": "alternate-victory",
   "metadata": {
    "execution": {
     "iopub.execute_input": "2021-12-07T03:30:09.608308Z",
     "iopub.status.busy": "2021-12-07T03:30:09.606271Z",
     "iopub.status.idle": "2021-12-07T03:30:11.080370Z",
     "shell.execute_reply": "2021-12-07T03:30:11.084098Z"
    },
    "papermill": {
     "duration": 1.511506,
     "end_time": "2021-12-07T03:30:11.084843",
     "exception": false,
     "start_time": "2021-12-07T03:30:09.573337",
     "status": "completed"
    },
    "tags": []
   },
   "outputs": [],
   "source": [
    "df = pd.read_sql(\"select * from EBAY_TOP_BERLIN where record_time in (select distinct record_time from EBAY_TOP_BERLIN order by record_time desc limit 2)\", sqlite3.connect(\"UsedObjects.db\"))"
   ]
  },
  {
   "cell_type": "code",
   "execution_count": 5,
   "id": "popular-active",
   "metadata": {
    "execution": {
     "iopub.execute_input": "2021-12-07T03:30:11.206662Z",
     "iopub.status.busy": "2021-12-07T03:30:11.185292Z",
     "iopub.status.idle": "2021-12-07T03:30:11.234036Z",
     "shell.execute_reply": "2021-12-07T03:30:11.235955Z"
    },
    "papermill": {
     "duration": 0.120113,
     "end_time": "2021-12-07T03:30:11.236542",
     "exception": false,
     "start_time": "2021-12-07T03:30:11.116429",
     "status": "completed"
    },
    "tags": []
   },
   "outputs": [],
   "source": [
    "df_pivot = df.pivot_table(index=\"PRODUCT\", columns = \"RECORD_TIME\", values = \"LISTING_COUNT\")"
   ]
  },
  {
   "cell_type": "code",
   "execution_count": 6,
   "id": "union-huntington",
   "metadata": {
    "execution": {
     "iopub.execute_input": "2021-12-07T03:30:11.328359Z",
     "iopub.status.busy": "2021-12-07T03:30:11.324632Z",
     "iopub.status.idle": "2021-12-07T03:30:11.334616Z",
     "shell.execute_reply": "2021-12-07T03:30:11.336568Z"
    },
    "papermill": {
     "duration": 0.073738,
     "end_time": "2021-12-07T03:30:11.337356",
     "exception": false,
     "start_time": "2021-12-07T03:30:11.263618",
     "status": "completed"
    },
    "tags": []
   },
   "outputs": [],
   "source": [
    "df_pivot.columns = [\"stamp_1\", \"stamp_2\"]\n",
    "df_pivot_diff = df_pivot.diff(axis=1)"
   ]
  },
  {
   "cell_type": "code",
   "execution_count": 7,
   "id": "fifth-motion",
   "metadata": {
    "execution": {
     "iopub.execute_input": "2021-12-07T03:30:11.426546Z",
     "iopub.status.busy": "2021-12-07T03:30:11.413062Z",
     "iopub.status.idle": "2021-12-07T03:30:13.099890Z",
     "shell.execute_reply": "2021-12-07T03:30:13.101236Z"
    },
    "papermill": {
     "duration": 1.731693,
     "end_time": "2021-12-07T03:30:13.101657",
     "exception": false,
     "start_time": "2021-12-07T03:30:11.369964",
     "status": "completed"
    },
    "tags": []
   },
   "outputs": [
    {
     "data": {
      "text/plain": [
       "<AxesSubplot:ylabel='PRODUCT'>"
      ]
     },
     "execution_count": 7,
     "metadata": {},
     "output_type": "execute_result"
    },
    {
     "data": {
      "image/png": "[encoded data removed]",
      "text/plain": [
       "<Figure size 432x288 with 1 Axes>"
      ]
     },
     "metadata": {
      "needs_background": "light"
     },
     "output_type": "display_data"
    }
   ],
   "source": [
    "df_pivot_diff.sort_values(\"stamp_2\", ascending = False)[\"stamp_2\"].head(10).plot.barh()"
   ]
  },
  {
   "cell_type": "code",
   "execution_count": null,
   "id": "extra-executive",
   "metadata": {
    "papermill": {
     "duration": 0.022504,
     "end_time": "2021-12-07T03:30:13.149372",
     "exception": false,
     "start_time": "2021-12-07T03:30:13.126868",
     "status": "completed"
    },
    "tags": []
   },
   "outputs": [],
   "source": []
  }
 ],
 "metadata": {
  "kernelspec": {
   "display_name": "Python 3",
   "language": "python",
   "name": "python3"
  },
  "language_info": {
   "codemirror_mode": {
    "name": "ipython",
    "version": 3
   },
   "file_extension": ".py",
   "mimetype": "text/x-python",
   "name": "python",
   "nbconvert_exporter": "python",
   "pygments_lexer": "ipython3",
   "version": "3.9.5"
  },
  "papermill": {
   "default_parameters": {},
   "duration": 9.950681,
   "end_time": "2021-12-07T03:30:14.593135",
   "environment_variables": {},
   "exception": null,
   "input_path": "eBay_Overview.ipynb",
   "output_path": "eBay_Overview.ipynb",
   "parameters": {},
   "start_time": "2021-12-07T03:30:04.642454",
   "version": "2.3.3"
  }
 },
 "nbformat": 4,
 "nbformat_minor": 5
}