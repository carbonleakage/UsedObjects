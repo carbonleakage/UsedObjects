{
 "cells": [
  {
   "cell_type": "code",
   "execution_count": 1,
   "id": "reverse-picking",
   "metadata": {
    "execution": {
     "iopub.execute_input": "2021-11-27T22:00:07.883175Z",
     "iopub.status.busy": "2021-11-27T22:00:07.880639Z",
     "iopub.status.idle": "2021-11-27T22:00:08.829338Z",
     "shell.execute_reply": "2021-11-27T22:00:08.831080Z"
    },
    "papermill": {
     "duration": 1.00013,
     "end_time": "2021-11-27T22:00:08.831813",
     "exception": false,
     "start_time": "2021-11-27T22:00:07.831683",
     "status": "completed"
    },
    "tags": []
   },
   "outputs": [],
   "source": [
    "import pandas as pd\n",
    "import sqlite3"
   ]
  },
  {
   "cell_type": "code",
   "execution_count": 2,
   "id": "innovative-syndrome",
   "metadata": {
    "execution": {
     "iopub.execute_input": "2021-11-27T22:00:08.911456Z",
     "iopub.status.busy": "2021-11-27T22:00:08.909191Z",
     "iopub.status.idle": "2021-11-27T22:00:09.844156Z",
     "shell.execute_reply": "2021-11-27T22:00:09.845627Z"
    },
    "papermill": {
     "duration": 0.980226,
     "end_time": "2021-11-27T22:00:09.846061",
     "exception": false,
     "start_time": "2021-11-27T22:00:08.865835",
     "status": "completed"
    },
    "tags": []
   },
   "outputs": [],
   "source": [
    "timestamps = pd.read_sql(\"select distinct record_time from EBAY_TOP_BERLIN order by record_time desc limit 2\", sqlite3.connect(\"UsedObjects.db\"))"
   ]
  },
  {
   "cell_type": "code",
   "execution_count": 3,
   "id": "periodic-identification",
   "metadata": {
    "execution": {
     "iopub.execute_input": "2021-11-27T22:00:09.914608Z",
     "iopub.status.busy": "2021-11-27T22:00:09.912512Z",
     "iopub.status.idle": "2021-11-27T22:00:09.932459Z",
     "shell.execute_reply": "2021-11-27T22:00:09.933966Z"
    },
    "papermill": {
     "duration": 0.067322,
     "end_time": "2021-11-27T22:00:09.934429",
     "exception": false,
     "start_time": "2021-11-27T22:00:09.867107",
     "status": "completed"
    },
    "tags": []
   },
   "outputs": [
    {
     "data": {
      "text/html": [
       "<div>\n",
       "<style scoped>\n",
       "    .dataframe tbody tr th:only-of-type {\n",
       "        vertical-align: middle;\n",
       "    }\n",
       "\n",
       "    .dataframe tbody tr th {\n",
       "        vertical-align: top;\n",
       "    }\n",
       "\n",
       "    .dataframe thead th {\n",
       "        text-align: right;\n",
       "    }\n",
       "</style>\n",
       "<table border=\"1\" class=\"dataframe\">\n",
       "  <thead>\n",
       "    <tr style=\"text-align: right;\">\n",
       "      <th></th>\n",
       "      <th>RECORD_TIME</th>\n",
       "    </tr>\n",
       "  </thead>\n",
       "  <tbody>\n",
       "    <tr>\n",
       "      <th>0</th>\n",
       "      <td>2021-11-27 23:00</td>\n",
       "    </tr>\n",
       "    <tr>\n",
       "      <th>1</th>\n",
       "      <td>2021-11-27 22:30</td>\n",
       "    </tr>\n",
       "  </tbody>\n",
       "</table>\n",
       "</div>"
      ],
      "text/plain": [
       "        RECORD_TIME\n",
       "0  2021-11-27 23:00\n",
       "1  2021-11-27 22:30"
      ]
     },
     "execution_count": 3,
     "metadata": {},
     "output_type": "execute_result"
    }
   ],
   "source": [
    "timestamps"
   ]
  },
  {
   "cell_type": "code",
   "execution_count": 4,
   "id": "alternate-victory",
   "metadata": {
    "execution": {
     "iopub.execute_input": "2021-11-27T22:00:09.988015Z",
     "iopub.status.busy": "2021-11-27T22:00:09.985904Z",
     "iopub.status.idle": "2021-11-27T22:00:11.368374Z",
     "shell.execute_reply": "2021-11-27T22:00:11.370933Z"
    },
    "papermill": {
     "duration": 1.415673,
     "end_time": "2021-11-27T22:00:11.371589",
     "exception": false,
     "start_time": "2021-11-27T22:00:09.955916",
     "status": "completed"
    },
    "tags": []
   },
   "outputs": [],
   "source": [
    "df = pd.read_sql(\"select * from EBAY_TOP_BERLIN where record_time in (select distinct record_time from EBAY_TOP_BERLIN order by record_time desc limit 2)\", sqlite3.connect(\"UsedObjects.db\"))"
   ]
  },
  {
   "cell_type": "code",
   "execution_count": 5,
   "id": "popular-active",
   "metadata": {
    "execution": {
     "iopub.execute_input": "2021-11-27T22:00:11.443556Z",
     "iopub.status.busy": "2021-11-27T22:00:11.440986Z",
     "iopub.status.idle": "2021-11-27T22:00:11.473598Z",
     "shell.execute_reply": "2021-11-27T22:00:11.474956Z"
    },
    "papermill": {
     "duration": 0.077008,
     "end_time": "2021-11-27T22:00:11.475442",
     "exception": false,
     "start_time": "2021-11-27T22:00:11.398434",
     "status": "completed"
    },
    "tags": []
   },
   "outputs": [],
   "source": [
    "df_pivot = df.pivot_table(index=\"PRODUCT\", columns = \"RECORD_TIME\", values = \"LISTING_COUNT\")"
   ]
  },
  {
   "cell_type": "code",
   "execution_count": 6,
   "id": "union-huntington",
   "metadata": {
    "execution": {
     "iopub.execute_input": "2021-11-27T22:00:11.533774Z",
     "iopub.status.busy": "2021-11-27T22:00:11.531433Z",
     "iopub.status.idle": "2021-11-27T22:00:11.537324Z",
     "shell.execute_reply": "2021-11-27T22:00:11.538680Z"
    },
    "papermill": {
     "duration": 0.043743,
     "end_time": "2021-11-27T22:00:11.539164",
     "exception": false,
     "start_time": "2021-11-27T22:00:11.495421",
     "status": "completed"
    },
    "tags": []
   },
   "outputs": [],
   "source": [
    "df_pivot.columns = [\"stamp_1\", \"stamp_2\"]\n",
    "df_pivot_diff = df_pivot.diff(axis=1)"
   ]
  },
  {
   "cell_type": "code",
   "execution_count": 7,
   "id": "fifth-motion",
   "metadata": {
    "execution": {
     "iopub.execute_input": "2021-11-27T22:00:11.598326Z",
     "iopub.status.busy": "2021-11-27T22:00:11.595721Z",
     "iopub.status.idle": "2021-11-27T22:00:13.605891Z",
     "shell.execute_reply": "2021-11-27T22:00:13.607735Z"
    },
    "papermill": {
     "duration": 2.048362,
     "end_time": "2021-11-27T22:00:13.608319",
     "exception": false,
     "start_time": "2021-11-27T22:00:11.559957",
     "status": "completed"
    },
    "tags": []
   },
   "outputs": [
    {
     "data": {
      "text/plain": [
       "<AxesSubplot:ylabel='PRODUCT'>"
      ]
     },
     "execution_count": 7,
     "metadata": {},
     "output_type": "execute_result"
    },
    {
     "data": {
      "image/png": "[encoded data removed]",
      "text/plain": [
       "<Figure size 432x288 with 1 Axes>"
      ]
     },
     "metadata": {
      "needs_background": "light"
     },
     "output_type": "display_data"
    }
   ],
   "source": [
    "df_pivot_diff.sort_values(\"stamp_2\", ascending = False)[\"stamp_2\"].head(10).plot.barh()"
   ]
  },
  {
   "cell_type": "code",
   "execution_count": null,
   "id": "extra-executive",
   "metadata": {
    "papermill": {
     "duration": 0.024271,
     "end_time": "2021-11-27T22:00:13.658904",
     "exception": false,
     "start_time": "2021-11-27T22:00:13.634633",
     "status": "completed"
    },
    "tags": []
   },
   "outputs": [],
   "source": []
  }
 ],
 "metadata": {
  "kernelspec": {
   "display_name": "Python 3",
   "language": "python",
   "name": "python3"
  },
  "language_info": {
   "codemirror_mode": {
    "name": "ipython",
    "version": 3
   },
   "file_extension": ".py",
   "mimetype": "text/x-python",
   "name": "python",
   "nbconvert_exporter": "python",
   "pygments_lexer": "ipython3",
   "version": "3.9.5"
  },
  "papermill": {
   "default_parameters": {},
   "duration": 9.942566,
   "end_time": "2021-11-27T22:00:15.030267",
   "environment_variables": {},
   "exception": null,
   "input_path": "eBay_Overview.ipynb",
   "output_path": "eBay_Overview.ipynb",
   "parameters": {},
   "start_time": "2021-11-27T22:00:05.087701",
   "version": "2.3.3"
  }
 },
 "nbformat": 4,
 "nbformat_minor": 5
}