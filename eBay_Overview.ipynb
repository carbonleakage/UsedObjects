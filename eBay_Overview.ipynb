{
 "cells": [
  {
   "cell_type": "code",
   "execution_count": 1,
   "id": "reverse-picking",
   "metadata": {
    "execution": {
     "iopub.execute_input": "2021-11-22T21:30:07.346192Z",
     "iopub.status.busy": "2021-11-22T21:30:07.343953Z",
     "iopub.status.idle": "2021-11-22T21:30:08.267120Z",
     "shell.execute_reply": "2021-11-22T21:30:08.268668Z"
    },
    "papermill": {
     "duration": 0.977025,
     "end_time": "2021-11-22T21:30:08.269479",
     "exception": false,
     "start_time": "2021-11-22T21:30:07.292454",
     "status": "completed"
    },
    "tags": []
   },
   "outputs": [],
   "source": [
    "import pandas as pd\n",
    "import sqlite3"
   ]
  },
  {
   "cell_type": "code",
   "execution_count": 2,
   "id": "innovative-syndrome",
   "metadata": {
    "execution": {
     "iopub.execute_input": "2021-11-22T21:30:08.364455Z",
     "iopub.status.busy": "2021-11-22T21:30:08.362204Z",
     "iopub.status.idle": "2021-11-22T21:30:09.276831Z",
     "shell.execute_reply": "2021-11-22T21:30:09.278952Z"
    },
    "papermill": {
     "duration": 0.950215,
     "end_time": "2021-11-22T21:30:09.279436",
     "exception": false,
     "start_time": "2021-11-22T21:30:08.329221",
     "status": "completed"
    },
    "tags": []
   },
   "outputs": [],
   "source": [
    "timestamps = pd.read_sql(\"select distinct record_time from EBAY_TOP_BERLIN order by record_time desc limit 2\", sqlite3.connect(\"UsedObjects.db\"))"
   ]
  },
  {
   "cell_type": "code",
   "execution_count": 3,
   "id": "periodic-identification",
   "metadata": {
    "execution": {
     "iopub.execute_input": "2021-11-22T21:30:09.349104Z",
     "iopub.status.busy": "2021-11-22T21:30:09.332852Z",
     "iopub.status.idle": "2021-11-22T21:30:09.380555Z",
     "shell.execute_reply": "2021-11-22T21:30:09.382355Z"
    },
    "papermill": {
     "duration": 0.082798,
     "end_time": "2021-11-22T21:30:09.382771",
     "exception": false,
     "start_time": "2021-11-22T21:30:09.299973",
     "status": "completed"
    },
    "tags": []
   },
   "outputs": [
    {
     "data": {
      "text/html": [
       "<div>\n",
       "<style scoped>\n",
       "    .dataframe tbody tr th:only-of-type {\n",
       "        vertical-align: middle;\n",
       "    }\n",
       "\n",
       "    .dataframe tbody tr th {\n",
       "        vertical-align: top;\n",
       "    }\n",
       "\n",
       "    .dataframe thead th {\n",
       "        text-align: right;\n",
       "    }\n",
       "</style>\n",
       "<table border=\"1\" class=\"dataframe\">\n",
       "  <thead>\n",
       "    <tr style=\"text-align: right;\">\n",
       "      <th></th>\n",
       "      <th>RECORD_TIME</th>\n",
       "    </tr>\n",
       "  </thead>\n",
       "  <tbody>\n",
       "    <tr>\n",
       "      <th>0</th>\n",
       "      <td>2021-11-22 22:30</td>\n",
       "    </tr>\n",
       "    <tr>\n",
       "      <th>1</th>\n",
       "      <td>2021-11-22 22:00</td>\n",
       "    </tr>\n",
       "  </tbody>\n",
       "</table>\n",
       "</div>"
      ],
      "text/plain": [
       "        RECORD_TIME\n",
       "0  2021-11-22 22:30\n",
       "1  2021-11-22 22:00"
      ]
     },
     "execution_count": 3,
     "metadata": {},
     "output_type": "execute_result"
    }
   ],
   "source": [
    "timestamps"
   ]
  },
  {
   "cell_type": "code",
   "execution_count": 4,
   "id": "alternate-victory",
   "metadata": {
    "execution": {
     "iopub.execute_input": "2021-11-22T21:30:09.437324Z",
     "iopub.status.busy": "2021-11-22T21:30:09.434960Z",
     "iopub.status.idle": "2021-11-22T21:30:10.754013Z",
     "shell.execute_reply": "2021-11-22T21:30:10.755493Z"
    },
    "papermill": {
     "duration": 1.350173,
     "end_time": "2021-11-22T21:30:10.755982",
     "exception": false,
     "start_time": "2021-11-22T21:30:09.405809",
     "status": "completed"
    },
    "tags": []
   },
   "outputs": [],
   "source": [
    "df = pd.read_sql(\"select * from EBAY_TOP_BERLIN where record_time in (select distinct record_time from EBAY_TOP_BERLIN order by record_time desc limit 2)\", sqlite3.connect(\"UsedObjects.db\"))"
   ]
  },
  {
   "cell_type": "code",
   "execution_count": 5,
   "id": "popular-active",
   "metadata": {
    "execution": {
     "iopub.execute_input": "2021-11-22T21:30:10.821879Z",
     "iopub.status.busy": "2021-11-22T21:30:10.819546Z",
     "iopub.status.idle": "2021-11-22T21:30:10.850216Z",
     "shell.execute_reply": "2021-11-22T21:30:10.851580Z"
    },
    "papermill": {
     "duration": 0.073819,
     "end_time": "2021-11-22T21:30:10.852043",
     "exception": false,
     "start_time": "2021-11-22T21:30:10.778224",
     "status": "completed"
    },
    "tags": []
   },
   "outputs": [],
   "source": [
    "df_pivot = df.pivot_table(index=\"PRODUCT\", columns = \"RECORD_TIME\", values = \"LISTING_COUNT\")"
   ]
  },
  {
   "cell_type": "code",
   "execution_count": 6,
   "id": "union-huntington",
   "metadata": {
    "execution": {
     "iopub.execute_input": "2021-11-22T21:30:10.911870Z",
     "iopub.status.busy": "2021-11-22T21:30:10.909667Z",
     "iopub.status.idle": "2021-11-22T21:30:10.914837Z",
     "shell.execute_reply": "2021-11-22T21:30:10.916099Z"
    },
    "papermill": {
     "duration": 0.043953,
     "end_time": "2021-11-22T21:30:10.916558",
     "exception": false,
     "start_time": "2021-11-22T21:30:10.872605",
     "status": "completed"
    },
    "tags": []
   },
   "outputs": [],
   "source": [
    "df_pivot.columns = [\"stamp_1\", \"stamp_2\"]\n",
    "df_pivot_diff = df_pivot.diff(axis=1)"
   ]
  },
  {
   "cell_type": "code",
   "execution_count": 7,
   "id": "fifth-motion",
   "metadata": {
    "execution": {
     "iopub.execute_input": "2021-11-22T21:30:10.980843Z",
     "iopub.status.busy": "2021-11-22T21:30:10.976880Z",
     "iopub.status.idle": "2021-11-22T21:30:12.979533Z",
     "shell.execute_reply": "2021-11-22T21:30:12.981518Z"
    },
    "papermill": {
     "duration": 2.042407,
     "end_time": "2021-11-22T21:30:12.982097",
     "exception": false,
     "start_time": "2021-11-22T21:30:10.939690",
     "status": "completed"
    },
    "tags": []
   },
   "outputs": [
    {
     "data": {
      "text/plain": [
       "<AxesSubplot:ylabel='PRODUCT'>"
      ]
     },
     "execution_count": 7,
     "metadata": {},
     "output_type": "execute_result"
    },
    {
     "data": {
      "image/png": "[encoded data removed]",
      "text/plain": [
       "<Figure size 432x288 with 1 Axes>"
      ]
     },
     "metadata": {
      "needs_background": "light"
     },
     "output_type": "display_data"
    }
   ],
   "source": [
    "df_pivot_diff.sort_values(\"stamp_2\", ascending = False)[\"stamp_2\"].head(10).plot.barh()"
   ]
  },
  {
   "cell_type": "code",
   "execution_count": null,
   "id": "extra-executive",
   "metadata": {
    "papermill": {
     "duration": 0.036518,
     "end_time": "2021-11-22T21:30:13.046519",
     "exception": false,
     "start_time": "2021-11-22T21:30:13.010001",
     "status": "completed"
    },
    "tags": []
   },
   "outputs": [],
   "source": []
  }
 ],
 "metadata": {
  "kernelspec": {
   "display_name": "Python 3",
   "language": "python",
   "name": "python3"
  },
  "language_info": {
   "codemirror_mode": {
    "name": "ipython",
    "version": 3
   },
   "file_extension": ".py",
   "mimetype": "text/x-python",
   "name": "python",
   "nbconvert_exporter": "python",
   "pygments_lexer": "ipython3",
   "version": "3.9.5"
  },
  "papermill": {
   "default_parameters": {},
   "duration": 9.93831,
   "end_time": "2021-11-22T21:30:14.495268",
   "environment_variables": {},
   "exception": null,
   "input_path": "eBay_Overview.ipynb",
   "output_path": "eBay_Overview.ipynb",
   "parameters": {},
   "start_time": "2021-11-22T21:30:04.556958",
   "version": "2.3.3"
  }
 },
 "nbformat": 4,
 "nbformat_minor": 5
}