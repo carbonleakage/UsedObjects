{
 "cells": [
  {
   "cell_type": "code",
   "execution_count": 1,
   "id": "reverse-picking",
   "metadata": {
    "execution": {
     "iopub.execute_input": "2021-10-31T06:00:07.031085Z",
     "iopub.status.busy": "2021-10-31T06:00:07.029077Z",
     "iopub.status.idle": "2021-10-31T06:00:07.832951Z",
     "shell.execute_reply": "2021-10-31T06:00:07.834240Z"
    },
    "papermill": {
     "duration": 0.85531,
     "end_time": "2021-10-31T06:00:07.834857",
     "exception": false,
     "start_time": "2021-10-31T06:00:06.979547",
     "status": "completed"
    },
    "tags": []
   },
   "outputs": [],
   "source": [
    "import pandas as pd\n",
    "import sqlite3"
   ]
  },
  {
   "cell_type": "code",
   "execution_count": 2,
   "id": "innovative-syndrome",
   "metadata": {
    "execution": {
     "iopub.execute_input": "2021-10-31T06:00:07.886779Z",
     "iopub.status.busy": "2021-10-31T06:00:07.884721Z",
     "iopub.status.idle": "2021-10-31T06:00:08.557401Z",
     "shell.execute_reply": "2021-10-31T06:00:08.558775Z"
    },
    "papermill": {
     "duration": 0.702688,
     "end_time": "2021-10-31T06:00:08.559208",
     "exception": false,
     "start_time": "2021-10-31T06:00:07.856520",
     "status": "completed"
    },
    "tags": []
   },
   "outputs": [],
   "source": [
    "timestamps = pd.read_sql(\"select distinct record_time from EBAY_TOP_BERLIN order by record_time desc limit 2\", sqlite3.connect(\"UsedObjects.db\"))"
   ]
  },
  {
   "cell_type": "code",
   "execution_count": 3,
   "id": "periodic-identification",
   "metadata": {
    "execution": {
     "iopub.execute_input": "2021-10-31T06:00:08.634084Z",
     "iopub.status.busy": "2021-10-31T06:00:08.631992Z",
     "iopub.status.idle": "2021-10-31T06:00:08.653989Z",
     "shell.execute_reply": "2021-10-31T06:00:08.655268Z"
    },
    "papermill": {
     "duration": 0.07066,
     "end_time": "2021-10-31T06:00:08.655675",
     "exception": false,
     "start_time": "2021-10-31T06:00:08.585015",
     "status": "completed"
    },
    "tags": []
   },
   "outputs": [
    {
     "data": {
      "text/html": [
       "<div>\n",
       "<style scoped>\n",
       "    .dataframe tbody tr th:only-of-type {\n",
       "        vertical-align: middle;\n",
       "    }\n",
       "\n",
       "    .dataframe tbody tr th {\n",
       "        vertical-align: top;\n",
       "    }\n",
       "\n",
       "    .dataframe thead th {\n",
       "        text-align: right;\n",
       "    }\n",
       "</style>\n",
       "<table border=\"1\" class=\"dataframe\">\n",
       "  <thead>\n",
       "    <tr style=\"text-align: right;\">\n",
       "      <th></th>\n",
       "      <th>RECORD_TIME</th>\n",
       "    </tr>\n",
       "  </thead>\n",
       "  <tbody>\n",
       "    <tr>\n",
       "      <th>0</th>\n",
       "      <td>2021-10-31 07:00</td>\n",
       "    </tr>\n",
       "    <tr>\n",
       "      <th>1</th>\n",
       "      <td>2021-10-31 06:30</td>\n",
       "    </tr>\n",
       "  </tbody>\n",
       "</table>\n",
       "</div>"
      ],
      "text/plain": [
       "        RECORD_TIME\n",
       "0  2021-10-31 07:00\n",
       "1  2021-10-31 06:30"
      ]
     },
     "execution_count": 3,
     "metadata": {},
     "output_type": "execute_result"
    }
   ],
   "source": [
    "timestamps"
   ]
  },
  {
   "cell_type": "code",
   "execution_count": 4,
   "id": "alternate-victory",
   "metadata": {
    "execution": {
     "iopub.execute_input": "2021-10-31T06:00:08.706646Z",
     "iopub.status.busy": "2021-10-31T06:00:08.704753Z",
     "iopub.status.idle": "2021-10-31T06:00:09.678306Z",
     "shell.execute_reply": "2021-10-31T06:00:09.679501Z"
    },
    "papermill": {
     "duration": 1.003547,
     "end_time": "2021-10-31T06:00:09.679888",
     "exception": false,
     "start_time": "2021-10-31T06:00:08.676341",
     "status": "completed"
    },
    "tags": []
   },
   "outputs": [],
   "source": [
    "df = pd.read_sql(\"select * from EBAY_TOP_BERLIN where record_time in (select distinct record_time from EBAY_TOP_BERLIN order by record_time desc limit 2)\", sqlite3.connect(\"UsedObjects.db\"))"
   ]
  },
  {
   "cell_type": "code",
   "execution_count": 5,
   "id": "popular-active",
   "metadata": {
    "execution": {
     "iopub.execute_input": "2021-10-31T06:00:09.752773Z",
     "iopub.status.busy": "2021-10-31T06:00:09.741997Z",
     "iopub.status.idle": "2021-10-31T06:00:09.769528Z",
     "shell.execute_reply": "2021-10-31T06:00:09.770735Z"
    },
    "papermill": {
     "duration": 0.068127,
     "end_time": "2021-10-31T06:00:09.771120",
     "exception": false,
     "start_time": "2021-10-31T06:00:09.702993",
     "status": "completed"
    },
    "tags": []
   },
   "outputs": [],
   "source": [
    "df_pivot = df.pivot_table(index=\"PRODUCT\", columns = \"RECORD_TIME\", values = \"LISTING_COUNT\")"
   ]
  },
  {
   "cell_type": "code",
   "execution_count": 6,
   "id": "union-huntington",
   "metadata": {
    "execution": {
     "iopub.execute_input": "2021-10-31T06:00:09.830857Z",
     "iopub.status.busy": "2021-10-31T06:00:09.828356Z",
     "iopub.status.idle": "2021-10-31T06:00:09.834182Z",
     "shell.execute_reply": "2021-10-31T06:00:09.835444Z"
    },
    "papermill": {
     "duration": 0.042173,
     "end_time": "2021-10-31T06:00:09.835850",
     "exception": false,
     "start_time": "2021-10-31T06:00:09.793677",
     "status": "completed"
    },
    "tags": []
   },
   "outputs": [],
   "source": [
    "df_pivot.columns = [\"stamp_1\", \"stamp_2\"]\n",
    "df_pivot_diff = df_pivot.diff(axis=1)"
   ]
  },
  {
   "cell_type": "code",
   "execution_count": 7,
   "id": "fifth-motion",
   "metadata": {
    "execution": {
     "iopub.execute_input": "2021-10-31T06:00:09.890499Z",
     "iopub.status.busy": "2021-10-31T06:00:09.888009Z",
     "iopub.status.idle": "2021-10-31T06:00:11.389515Z",
     "shell.execute_reply": "2021-10-31T06:00:11.390797Z"
    },
    "papermill": {
     "duration": 1.534602,
     "end_time": "2021-10-31T06:00:11.391207",
     "exception": false,
     "start_time": "2021-10-31T06:00:09.856605",
     "status": "completed"
    },
    "tags": []
   },
   "outputs": [
    {
     "data": {
      "text/plain": [
       "<AxesSubplot:ylabel='PRODUCT'>"
      ]
     },
     "execution_count": 7,
     "metadata": {},
     "output_type": "execute_result"
    },
    {
     "data": {
      "image/png": "[encoded data removed]",
      "text/plain": [
       "<Figure size 432x288 with 1 Axes>"
      ]
     },
     "metadata": {
      "needs_background": "light"
     },
     "output_type": "display_data"
    }
   ],
   "source": [
    "df_pivot_diff.sort_values(\"stamp_2\", ascending = False)[\"stamp_2\"].head(10).plot.barh()"
   ]
  },
  {
   "cell_type": "code",
   "execution_count": null,
   "id": "extra-executive",
   "metadata": {
    "papermill": {
     "duration": 0.022357,
     "end_time": "2021-10-31T06:00:11.438325",
     "exception": false,
     "start_time": "2021-10-31T06:00:11.415968",
     "status": "completed"
    },
    "tags": []
   },
   "outputs": [],
   "source": []
  }
 ],
 "metadata": {
  "kernelspec": {
   "display_name": "Python 3",
   "language": "python",
   "name": "python3"
  },
  "language_info": {
   "codemirror_mode": {
    "name": "ipython",
    "version": 3
   },
   "file_extension": ".py",
   "mimetype": "text/x-python",
   "name": "python",
   "nbconvert_exporter": "python",
   "pygments_lexer": "ipython3",
   "version": "3.9.5"
  },
  "papermill": {
   "default_parameters": {},
   "duration": 7.49561,
   "end_time": "2021-10-31T06:00:12.081296",
   "environment_variables": {},
   "exception": null,
   "input_path": "eBay_Overview.ipynb",
   "output_path": "eBay_Overview.ipynb",
   "parameters": {},
   "start_time": "2021-10-31T06:00:04.585686",
   "version": "2.3.3"
  }
 },
 "nbformat": 4,
 "nbformat_minor": 5
}