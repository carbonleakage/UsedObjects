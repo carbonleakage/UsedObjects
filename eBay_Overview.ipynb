{
 "cells": [
  {
   "cell_type": "code",
   "execution_count": 1,
   "id": "reverse-picking",
   "metadata": {
    "execution": {
     "iopub.execute_input": "2021-09-07T18:00:07.490007Z",
     "iopub.status.busy": "2021-09-07T18:00:07.488000Z",
     "iopub.status.idle": "2021-09-07T18:00:08.299274Z",
     "shell.execute_reply": "2021-09-07T18:00:08.297508Z"
    },
    "papermill": {
     "duration": 0.860619,
     "end_time": "2021-09-07T18:00:08.299693",
     "exception": false,
     "start_time": "2021-09-07T18:00:07.439074",
     "status": "completed"
    },
    "tags": []
   },
   "outputs": [],
   "source": [
    "import pandas as pd\n",
    "import sqlite3"
   ]
  },
  {
   "cell_type": "code",
   "execution_count": 2,
   "id": "innovative-syndrome",
   "metadata": {
    "execution": {
     "iopub.execute_input": "2021-09-07T18:00:08.352872Z",
     "iopub.status.busy": "2021-09-07T18:00:08.350435Z",
     "iopub.status.idle": "2021-09-07T18:00:08.586340Z",
     "shell.execute_reply": "2021-09-07T18:00:08.587771Z"
    },
    "papermill": {
     "duration": 0.26618,
     "end_time": "2021-09-07T18:00:08.588184",
     "exception": false,
     "start_time": "2021-09-07T18:00:08.322004",
     "status": "completed"
    },
    "tags": []
   },
   "outputs": [],
   "source": [
    "timestamps = pd.read_sql(\"select distinct record_time from EBAY_TOP_BERLIN order by record_time desc limit 2\", sqlite3.connect(\"UsedObjects.db\"))"
   ]
  },
  {
   "cell_type": "code",
   "execution_count": 3,
   "id": "periodic-identification",
   "metadata": {
    "execution": {
     "iopub.execute_input": "2021-09-07T18:00:08.656136Z",
     "iopub.status.busy": "2021-09-07T18:00:08.653938Z",
     "iopub.status.idle": "2021-09-07T18:00:08.674010Z",
     "shell.execute_reply": "2021-09-07T18:00:08.675289Z"
    },
    "papermill": {
     "duration": 0.066732,
     "end_time": "2021-09-07T18:00:08.675728",
     "exception": false,
     "start_time": "2021-09-07T18:00:08.608996",
     "status": "completed"
    },
    "tags": []
   },
   "outputs": [
    {
     "data": {
      "text/html": [
       "<div>\n",
       "<style scoped>\n",
       "    .dataframe tbody tr th:only-of-type {\n",
       "        vertical-align: middle;\n",
       "    }\n",
       "\n",
       "    .dataframe tbody tr th {\n",
       "        vertical-align: top;\n",
       "    }\n",
       "\n",
       "    .dataframe thead th {\n",
       "        text-align: right;\n",
       "    }\n",
       "</style>\n",
       "<table border=\"1\" class=\"dataframe\">\n",
       "  <thead>\n",
       "    <tr style=\"text-align: right;\">\n",
       "      <th></th>\n",
       "      <th>RECORD_TIME</th>\n",
       "    </tr>\n",
       "  </thead>\n",
       "  <tbody>\n",
       "    <tr>\n",
       "      <th>0</th>\n",
       "      <td>2021-09-07 20:00</td>\n",
       "    </tr>\n",
       "    <tr>\n",
       "      <th>1</th>\n",
       "      <td>2021-09-07 19:30</td>\n",
       "    </tr>\n",
       "  </tbody>\n",
       "</table>\n",
       "</div>"
      ],
      "text/plain": [
       "        RECORD_TIME\n",
       "0  2021-09-07 20:00\n",
       "1  2021-09-07 19:30"
      ]
     },
     "execution_count": 3,
     "metadata": {},
     "output_type": "execute_result"
    }
   ],
   "source": [
    "timestamps"
   ]
  },
  {
   "cell_type": "code",
   "execution_count": 4,
   "id": "alternate-victory",
   "metadata": {
    "execution": {
     "iopub.execute_input": "2021-09-07T18:00:08.729626Z",
     "iopub.status.busy": "2021-09-07T18:00:08.727460Z",
     "iopub.status.idle": "2021-09-07T18:00:09.068611Z",
     "shell.execute_reply": "2021-09-07T18:00:09.069839Z"
    },
    "papermill": {
     "duration": 0.371618,
     "end_time": "2021-09-07T18:00:09.070231",
     "exception": false,
     "start_time": "2021-09-07T18:00:08.698613",
     "status": "completed"
    },
    "tags": []
   },
   "outputs": [],
   "source": [
    "df = pd.read_sql(\"select * from EBAY_TOP_BERLIN where record_time in (select distinct record_time from EBAY_TOP_BERLIN order by record_time desc limit 2)\", sqlite3.connect(\"UsedObjects.db\"))"
   ]
  },
  {
   "cell_type": "code",
   "execution_count": 5,
   "id": "popular-active",
   "metadata": {
    "execution": {
     "iopub.execute_input": "2021-09-07T18:00:09.150382Z",
     "iopub.status.busy": "2021-09-07T18:00:09.139000Z",
     "iopub.status.idle": "2021-09-07T18:00:09.165971Z",
     "shell.execute_reply": "2021-09-07T18:00:09.167415Z"
    },
    "papermill": {
     "duration": 0.070181,
     "end_time": "2021-09-07T18:00:09.167832",
     "exception": false,
     "start_time": "2021-09-07T18:00:09.097651",
     "status": "completed"
    },
    "tags": []
   },
   "outputs": [],
   "source": [
    "df_pivot = df.pivot_table(index=\"PRODUCT\", columns = \"RECORD_TIME\", values = \"LISTING_COUNT\")"
   ]
  },
  {
   "cell_type": "code",
   "execution_count": 6,
   "id": "union-huntington",
   "metadata": {
    "execution": {
     "iopub.execute_input": "2021-09-07T18:00:09.226738Z",
     "iopub.status.busy": "2021-09-07T18:00:09.224286Z",
     "iopub.status.idle": "2021-09-07T18:00:09.229782Z",
     "shell.execute_reply": "2021-09-07T18:00:09.231169Z"
    },
    "papermill": {
     "duration": 0.042362,
     "end_time": "2021-09-07T18:00:09.231592",
     "exception": false,
     "start_time": "2021-09-07T18:00:09.189230",
     "status": "completed"
    },
    "tags": []
   },
   "outputs": [],
   "source": [
    "df_pivot.columns = [\"stamp_1\", \"stamp_2\"]\n",
    "df_pivot_diff = df_pivot.diff(axis=1)"
   ]
  },
  {
   "cell_type": "code",
   "execution_count": 7,
   "id": "fifth-motion",
   "metadata": {
    "execution": {
     "iopub.execute_input": "2021-09-07T18:00:09.286318Z",
     "iopub.status.busy": "2021-09-07T18:00:09.284013Z",
     "iopub.status.idle": "2021-09-07T18:00:10.784695Z",
     "shell.execute_reply": "2021-09-07T18:00:10.786063Z"
    },
    "papermill": {
     "duration": 1.534308,
     "end_time": "2021-09-07T18:00:10.786537",
     "exception": false,
     "start_time": "2021-09-07T18:00:09.252229",
     "status": "completed"
    },
    "tags": []
   },
   "outputs": [
    {
     "data": {
      "text/plain": [
       "<AxesSubplot:ylabel='PRODUCT'>"
      ]
     },
     "execution_count": 7,
     "metadata": {},
     "output_type": "execute_result"
    },
    {
     "data": {
      "image/png": "[encoded data removed]",
      "text/plain": [
       "<Figure size 432x288 with 1 Axes>"
      ]
     },
     "metadata": {
      "needs_background": "light"
     },
     "output_type": "display_data"
    }
   ],
   "source": [
    "df_pivot_diff.sort_values(\"stamp_2\", ascending = False)[\"stamp_2\"].head(10).plot.barh()"
   ]
  },
  {
   "cell_type": "code",
   "execution_count": null,
   "id": "extra-executive",
   "metadata": {
    "papermill": {
     "duration": 0.022487,
     "end_time": "2021-09-07T18:00:10.833963",
     "exception": false,
     "start_time": "2021-09-07T18:00:10.811476",
     "status": "completed"
    },
    "tags": []
   },
   "outputs": [],
   "source": []
  }
 ],
 "metadata": {
  "kernelspec": {
   "display_name": "Python 3",
   "language": "python",
   "name": "python3"
  },
  "language_info": {
   "codemirror_mode": {
    "name": "ipython",
    "version": 3
   },
   "file_extension": ".py",
   "mimetype": "text/x-python",
   "name": "python",
   "nbconvert_exporter": "python",
   "pygments_lexer": "ipython3",
   "version": "3.9.5"
  },
  "papermill": {
   "default_parameters": {},
   "duration": 6.454454,
   "end_time": "2021-09-07T18:00:11.475971",
   "environment_variables": {},
   "exception": null,
   "input_path": "eBay_Overview.ipynb",
   "output_path": "eBay_Overview.ipynb",
   "parameters": {},
   "start_time": "2021-09-07T18:00:05.021517",
   "version": "2.3.3"
  }
 },
 "nbformat": 4,
 "nbformat_minor": 5
}