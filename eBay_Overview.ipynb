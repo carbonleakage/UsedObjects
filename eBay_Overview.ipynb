{
 "cells": [
  {
   "cell_type": "code",
   "execution_count": 1,
   "id": "reverse-picking",
   "metadata": {
    "execution": {
     "iopub.execute_input": "2021-11-30T10:30:07.921417Z",
     "iopub.status.busy": "2021-11-30T10:30:07.918914Z",
     "iopub.status.idle": "2021-11-30T10:30:08.869735Z",
     "shell.execute_reply": "2021-11-30T10:30:08.871324Z"
    },
    "papermill": {
     "duration": 0.999714,
     "end_time": "2021-11-30T10:30:08.872061",
     "exception": false,
     "start_time": "2021-11-30T10:30:07.872347",
     "status": "completed"
    },
    "tags": []
   },
   "outputs": [],
   "source": [
    "import pandas as pd\n",
    "import sqlite3"
   ]
  },
  {
   "cell_type": "code",
   "execution_count": 2,
   "id": "innovative-syndrome",
   "metadata": {
    "execution": {
     "iopub.execute_input": "2021-11-30T10:30:08.940408Z",
     "iopub.status.busy": "2021-11-30T10:30:08.938038Z",
     "iopub.status.idle": "2021-11-30T10:30:09.882360Z",
     "shell.execute_reply": "2021-11-30T10:30:09.883664Z"
    },
    "papermill": {
     "duration": 0.981054,
     "end_time": "2021-11-30T10:30:09.884087",
     "exception": false,
     "start_time": "2021-11-30T10:30:08.903033",
     "status": "completed"
    },
    "tags": []
   },
   "outputs": [],
   "source": [
    "timestamps = pd.read_sql(\"select distinct record_time from EBAY_TOP_BERLIN order by record_time desc limit 2\", sqlite3.connect(\"UsedObjects.db\"))"
   ]
  },
  {
   "cell_type": "code",
   "execution_count": 3,
   "id": "periodic-identification",
   "metadata": {
    "execution": {
     "iopub.execute_input": "2021-11-30T10:30:09.950515Z",
     "iopub.status.busy": "2021-11-30T10:30:09.948376Z",
     "iopub.status.idle": "2021-11-30T10:30:09.971083Z",
     "shell.execute_reply": "2021-11-30T10:30:09.972389Z"
    },
    "papermill": {
     "duration": 0.069837,
     "end_time": "2021-11-30T10:30:09.973000",
     "exception": false,
     "start_time": "2021-11-30T10:30:09.903163",
     "status": "completed"
    },
    "tags": []
   },
   "outputs": [
    {
     "data": {
      "text/html": [
       "<div>\n",
       "<style scoped>\n",
       "    .dataframe tbody tr th:only-of-type {\n",
       "        vertical-align: middle;\n",
       "    }\n",
       "\n",
       "    .dataframe tbody tr th {\n",
       "        vertical-align: top;\n",
       "    }\n",
       "\n",
       "    .dataframe thead th {\n",
       "        text-align: right;\n",
       "    }\n",
       "</style>\n",
       "<table border=\"1\" class=\"dataframe\">\n",
       "  <thead>\n",
       "    <tr style=\"text-align: right;\">\n",
       "      <th></th>\n",
       "      <th>RECORD_TIME</th>\n",
       "    </tr>\n",
       "  </thead>\n",
       "  <tbody>\n",
       "    <tr>\n",
       "      <th>0</th>\n",
       "      <td>2021-11-30 11:30</td>\n",
       "    </tr>\n",
       "    <tr>\n",
       "      <th>1</th>\n",
       "      <td>2021-11-30 11:00</td>\n",
       "    </tr>\n",
       "  </tbody>\n",
       "</table>\n",
       "</div>"
      ],
      "text/plain": [
       "        RECORD_TIME\n",
       "0  2021-11-30 11:30\n",
       "1  2021-11-30 11:00"
      ]
     },
     "execution_count": 3,
     "metadata": {},
     "output_type": "execute_result"
    }
   ],
   "source": [
    "timestamps"
   ]
  },
  {
   "cell_type": "code",
   "execution_count": 4,
   "id": "alternate-victory",
   "metadata": {
    "execution": {
     "iopub.execute_input": "2021-11-30T10:30:10.026775Z",
     "iopub.status.busy": "2021-11-30T10:30:10.024300Z",
     "iopub.status.idle": "2021-11-30T10:30:11.407105Z",
     "shell.execute_reply": "2021-11-30T10:30:11.408451Z"
    },
    "papermill": {
     "duration": 1.413299,
     "end_time": "2021-11-30T10:30:11.408966",
     "exception": false,
     "start_time": "2021-11-30T10:30:09.995667",
     "status": "completed"
    },
    "tags": []
   },
   "outputs": [],
   "source": [
    "df = pd.read_sql(\"select * from EBAY_TOP_BERLIN where record_time in (select distinct record_time from EBAY_TOP_BERLIN order by record_time desc limit 2)\", sqlite3.connect(\"UsedObjects.db\"))"
   ]
  },
  {
   "cell_type": "code",
   "execution_count": 5,
   "id": "popular-active",
   "metadata": {
    "execution": {
     "iopub.execute_input": "2021-11-30T10:30:11.481228Z",
     "iopub.status.busy": "2021-11-30T10:30:11.471934Z",
     "iopub.status.idle": "2021-11-30T10:30:11.511103Z",
     "shell.execute_reply": "2021-11-30T10:30:11.512453Z"
    },
    "papermill": {
     "duration": 0.08184,
     "end_time": "2021-11-30T10:30:11.513020",
     "exception": false,
     "start_time": "2021-11-30T10:30:11.431180",
     "status": "completed"
    },
    "tags": []
   },
   "outputs": [],
   "source": [
    "df_pivot = df.pivot_table(index=\"PRODUCT\", columns = \"RECORD_TIME\", values = \"LISTING_COUNT\")"
   ]
  },
  {
   "cell_type": "code",
   "execution_count": 6,
   "id": "union-huntington",
   "metadata": {
    "execution": {
     "iopub.execute_input": "2021-11-30T10:30:11.572034Z",
     "iopub.status.busy": "2021-11-30T10:30:11.569834Z",
     "iopub.status.idle": "2021-11-30T10:30:11.574875Z",
     "shell.execute_reply": "2021-11-30T10:30:11.576331Z"
    },
    "papermill": {
     "duration": 0.043384,
     "end_time": "2021-11-30T10:30:11.576842",
     "exception": false,
     "start_time": "2021-11-30T10:30:11.533458",
     "status": "completed"
    },
    "tags": []
   },
   "outputs": [],
   "source": [
    "df_pivot.columns = [\"stamp_1\", \"stamp_2\"]\n",
    "df_pivot_diff = df_pivot.diff(axis=1)"
   ]
  },
  {
   "cell_type": "code",
   "execution_count": 7,
   "id": "fifth-motion",
   "metadata": {
    "execution": {
     "iopub.execute_input": "2021-11-30T10:30:11.634740Z",
     "iopub.status.busy": "2021-11-30T10:30:11.632076Z",
     "iopub.status.idle": "2021-11-30T10:30:13.669277Z",
     "shell.execute_reply": "2021-11-30T10:30:13.670844Z"
    },
    "papermill": {
     "duration": 2.074772,
     "end_time": "2021-11-30T10:30:13.671353",
     "exception": false,
     "start_time": "2021-11-30T10:30:11.596581",
     "status": "completed"
    },
    "tags": []
   },
   "outputs": [
    {
     "data": {
      "text/plain": [
       "<AxesSubplot:ylabel='PRODUCT'>"
      ]
     },
     "execution_count": 7,
     "metadata": {},
     "output_type": "execute_result"
    },
    {
     "data": {
      "image/png": "[encoded data removed]",
      "text/plain": [
       "<Figure size 432x288 with 1 Axes>"
      ]
     },
     "metadata": {
      "needs_background": "light"
     },
     "output_type": "display_data"
    }
   ],
   "source": [
    "df_pivot_diff.sort_values(\"stamp_2\", ascending = False)[\"stamp_2\"].head(10).plot.barh()"
   ]
  },
  {
   "cell_type": "code",
   "execution_count": null,
   "id": "extra-executive",
   "metadata": {
    "papermill": {
     "duration": 0.022006,
     "end_time": "2021-11-30T10:30:13.719281",
     "exception": false,
     "start_time": "2021-11-30T10:30:13.697275",
     "status": "completed"
    },
    "tags": []
   },
   "outputs": [],
   "source": []
  }
 ],
 "metadata": {
  "kernelspec": {
   "display_name": "Python 3",
   "language": "python",
   "name": "python3"
  },
  "language_info": {
   "codemirror_mode": {
    "name": "ipython",
    "version": 3
   },
   "file_extension": ".py",
   "mimetype": "text/x-python",
   "name": "python",
   "nbconvert_exporter": "python",
   "pygments_lexer": "ipython3",
   "version": "3.9.5"
  },
  "papermill": {
   "default_parameters": {},
   "duration": 9.931167,
   "end_time": "2021-11-30T10:30:15.082362",
   "environment_variables": {},
   "exception": null,
   "input_path": "eBay_Overview.ipynb",
   "output_path": "eBay_Overview.ipynb",
   "parameters": {},
   "start_time": "2021-11-30T10:30:05.151195",
   "version": "2.3.3"
  }
 },
 "nbformat": 4,
 "nbformat_minor": 5
}