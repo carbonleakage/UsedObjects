{
 "cells": [
  {
   "cell_type": "code",
   "execution_count": 1,
   "id": "reverse-picking",
   "metadata": {
    "execution": {
     "iopub.execute_input": "2021-10-03T21:30:07.203930Z",
     "iopub.status.busy": "2021-10-03T21:30:07.201890Z",
     "iopub.status.idle": "2021-10-03T21:30:08.009631Z",
     "shell.execute_reply": "2021-10-03T21:30:08.008048Z"
    },
    "papermill": {
     "duration": 0.855251,
     "end_time": "2021-10-03T21:30:08.010030",
     "exception": false,
     "start_time": "2021-10-03T21:30:07.154779",
     "status": "completed"
    },
    "tags": []
   },
   "outputs": [],
   "source": [
    "import pandas as pd\n",
    "import sqlite3"
   ]
  },
  {
   "cell_type": "code",
   "execution_count": 2,
   "id": "innovative-syndrome",
   "metadata": {
    "execution": {
     "iopub.execute_input": "2021-10-03T21:30:08.059806Z",
     "iopub.status.busy": "2021-10-03T21:30:08.057811Z",
     "iopub.status.idle": "2021-10-03T21:30:08.504939Z",
     "shell.execute_reply": "2021-10-03T21:30:08.506227Z"
    },
    "papermill": {
     "duration": 0.47654,
     "end_time": "2021-10-03T21:30:08.506641",
     "exception": false,
     "start_time": "2021-10-03T21:30:08.030101",
     "status": "completed"
    },
    "tags": []
   },
   "outputs": [],
   "source": [
    "timestamps = pd.read_sql(\"select distinct record_time from EBAY_TOP_BERLIN order by record_time desc limit 2\", sqlite3.connect(\"UsedObjects.db\"))"
   ]
  },
  {
   "cell_type": "code",
   "execution_count": 3,
   "id": "periodic-identification",
   "metadata": {
    "execution": {
     "iopub.execute_input": "2021-10-03T21:30:08.571525Z",
     "iopub.status.busy": "2021-10-03T21:30:08.569409Z",
     "iopub.status.idle": "2021-10-03T21:30:08.588778Z",
     "shell.execute_reply": "2021-10-03T21:30:08.590014Z"
    },
    "papermill": {
     "duration": 0.064086,
     "end_time": "2021-10-03T21:30:08.590408",
     "exception": false,
     "start_time": "2021-10-03T21:30:08.526322",
     "status": "completed"
    },
    "tags": []
   },
   "outputs": [
    {
     "data": {
      "text/html": [
       "<div>\n",
       "<style scoped>\n",
       "    .dataframe tbody tr th:only-of-type {\n",
       "        vertical-align: middle;\n",
       "    }\n",
       "\n",
       "    .dataframe tbody tr th {\n",
       "        vertical-align: top;\n",
       "    }\n",
       "\n",
       "    .dataframe thead th {\n",
       "        text-align: right;\n",
       "    }\n",
       "</style>\n",
       "<table border=\"1\" class=\"dataframe\">\n",
       "  <thead>\n",
       "    <tr style=\"text-align: right;\">\n",
       "      <th></th>\n",
       "      <th>RECORD_TIME</th>\n",
       "    </tr>\n",
       "  </thead>\n",
       "  <tbody>\n",
       "    <tr>\n",
       "      <th>0</th>\n",
       "      <td>2021-10-03 23:30</td>\n",
       "    </tr>\n",
       "    <tr>\n",
       "      <th>1</th>\n",
       "      <td>2021-10-03 23:00</td>\n",
       "    </tr>\n",
       "  </tbody>\n",
       "</table>\n",
       "</div>"
      ],
      "text/plain": [
       "        RECORD_TIME\n",
       "0  2021-10-03 23:30\n",
       "1  2021-10-03 23:00"
      ]
     },
     "execution_count": 3,
     "metadata": {},
     "output_type": "execute_result"
    }
   ],
   "source": [
    "timestamps"
   ]
  },
  {
   "cell_type": "code",
   "execution_count": 4,
   "id": "alternate-victory",
   "metadata": {
    "execution": {
     "iopub.execute_input": "2021-10-03T21:30:08.661461Z",
     "iopub.status.busy": "2021-10-03T21:30:08.659633Z",
     "iopub.status.idle": "2021-10-03T21:30:09.302990Z",
     "shell.execute_reply": "2021-10-03T21:30:09.304232Z"
    },
    "papermill": {
     "duration": 0.680641,
     "end_time": "2021-10-03T21:30:09.304631",
     "exception": false,
     "start_time": "2021-10-03T21:30:08.623990",
     "status": "completed"
    },
    "tags": []
   },
   "outputs": [],
   "source": [
    "df = pd.read_sql(\"select * from EBAY_TOP_BERLIN where record_time in (select distinct record_time from EBAY_TOP_BERLIN order by record_time desc limit 2)\", sqlite3.connect(\"UsedObjects.db\"))"
   ]
  },
  {
   "cell_type": "code",
   "execution_count": 5,
   "id": "popular-active",
   "metadata": {
    "execution": {
     "iopub.execute_input": "2021-10-03T21:30:09.376431Z",
     "iopub.status.busy": "2021-10-03T21:30:09.363945Z",
     "iopub.status.idle": "2021-10-03T21:30:09.392589Z",
     "shell.execute_reply": "2021-10-03T21:30:09.393972Z"
    },
    "papermill": {
     "duration": 0.067867,
     "end_time": "2021-10-03T21:30:09.394416",
     "exception": false,
     "start_time": "2021-10-03T21:30:09.326549",
     "status": "completed"
    },
    "tags": []
   },
   "outputs": [],
   "source": [
    "df_pivot = df.pivot_table(index=\"PRODUCT\", columns = \"RECORD_TIME\", values = \"LISTING_COUNT\")"
   ]
  },
  {
   "cell_type": "code",
   "execution_count": 6,
   "id": "union-huntington",
   "metadata": {
    "execution": {
     "iopub.execute_input": "2021-10-03T21:30:09.450815Z",
     "iopub.status.busy": "2021-10-03T21:30:09.448704Z",
     "iopub.status.idle": "2021-10-03T21:30:09.453978Z",
     "shell.execute_reply": "2021-10-03T21:30:09.455248Z"
    },
    "papermill": {
     "duration": 0.041034,
     "end_time": "2021-10-03T21:30:09.455686",
     "exception": false,
     "start_time": "2021-10-03T21:30:09.414652",
     "status": "completed"
    },
    "tags": []
   },
   "outputs": [],
   "source": [
    "df_pivot.columns = [\"stamp_1\", \"stamp_2\"]\n",
    "df_pivot_diff = df_pivot.diff(axis=1)"
   ]
  },
  {
   "cell_type": "code",
   "execution_count": 7,
   "id": "fifth-motion",
   "metadata": {
    "execution": {
     "iopub.execute_input": "2021-10-03T21:30:09.509442Z",
     "iopub.status.busy": "2021-10-03T21:30:09.507063Z",
     "iopub.status.idle": "2021-10-03T21:30:11.009270Z",
     "shell.execute_reply": "2021-10-03T21:30:11.010626Z"
    },
    "papermill": {
     "duration": 1.534948,
     "end_time": "2021-10-03T21:30:11.011128",
     "exception": false,
     "start_time": "2021-10-03T21:30:09.476180",
     "status": "completed"
    },
    "tags": []
   },
   "outputs": [
    {
     "data": {
      "text/plain": [
       "<AxesSubplot:ylabel='PRODUCT'>"
      ]
     },
     "execution_count": 7,
     "metadata": {},
     "output_type": "execute_result"
    },
    {
     "data": {
      "image/png": "[encoded data removed]",
      "text/plain": [
       "<Figure size 432x288 with 1 Axes>"
      ]
     },
     "metadata": {
      "needs_background": "light"
     },
     "output_type": "display_data"
    }
   ],
   "source": [
    "df_pivot_diff.sort_values(\"stamp_2\", ascending = False)[\"stamp_2\"].head(10).plot.barh()"
   ]
  },
  {
   "cell_type": "code",
   "execution_count": null,
   "id": "extra-executive",
   "metadata": {
    "papermill": {
     "duration": 0.022186,
     "end_time": "2021-10-03T21:30:11.058178",
     "exception": false,
     "start_time": "2021-10-03T21:30:11.035992",
     "status": "completed"
    },
    "tags": []
   },
   "outputs": [],
   "source": []
  }
 ],
 "metadata": {
  "kernelspec": {
   "display_name": "Python 3",
   "language": "python",
   "name": "python3"
  },
  "language_info": {
   "codemirror_mode": {
    "name": "ipython",
    "version": 3
   },
   "file_extension": ".py",
   "mimetype": "text/x-python",
   "name": "python",
   "nbconvert_exporter": "python",
   "pygments_lexer": "ipython3",
   "version": "3.9.5"
  },
  "papermill": {
   "default_parameters": {},
   "duration": 7.822752,
   "end_time": "2021-10-03T21:30:12.562017",
   "environment_variables": {},
   "exception": null,
   "input_path": "eBay_Overview.ipynb",
   "output_path": "eBay_Overview.ipynb",
   "parameters": {},
   "start_time": "2021-10-03T21:30:04.739265",
   "version": "2.3.3"
  }
 },
 "nbformat": 4,
 "nbformat_minor": 5
}