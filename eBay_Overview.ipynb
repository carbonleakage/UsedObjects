{
 "cells": [
  {
   "cell_type": "code",
   "execution_count": 1,
   "id": "reverse-picking",
   "metadata": {
    "execution": {
     "iopub.execute_input": "2021-12-06T19:30:07.761325Z",
     "iopub.status.busy": "2021-12-06T19:30:07.758931Z",
     "iopub.status.idle": "2021-12-06T19:30:08.700124Z",
     "shell.execute_reply": "2021-12-06T19:30:08.698551Z"
    },
    "papermill": {
     "duration": 0.988985,
     "end_time": "2021-12-06T19:30:08.700522",
     "exception": false,
     "start_time": "2021-12-06T19:30:07.711537",
     "status": "completed"
    },
    "tags": []
   },
   "outputs": [],
   "source": [
    "import pandas as pd\n",
    "import sqlite3"
   ]
  },
  {
   "cell_type": "code",
   "execution_count": 2,
   "id": "innovative-syndrome",
   "metadata": {
    "execution": {
     "iopub.execute_input": "2021-12-06T19:30:08.762430Z",
     "iopub.status.busy": "2021-12-06T19:30:08.760258Z",
     "iopub.status.idle": "2021-12-06T19:30:09.774997Z",
     "shell.execute_reply": "2021-12-06T19:30:09.776626Z"
    },
    "papermill": {
     "duration": 1.047929,
     "end_time": "2021-12-06T19:30:09.777147",
     "exception": false,
     "start_time": "2021-12-06T19:30:08.729218",
     "status": "completed"
    },
    "tags": []
   },
   "outputs": [],
   "source": [
    "timestamps = pd.read_sql(\"select distinct record_time from EBAY_TOP_BERLIN order by record_time desc limit 2\", sqlite3.connect(\"UsedObjects.db\"))"
   ]
  },
  {
   "cell_type": "code",
   "execution_count": 3,
   "id": "periodic-identification",
   "metadata": {
    "execution": {
     "iopub.execute_input": "2021-12-06T19:30:09.845723Z",
     "iopub.status.busy": "2021-12-06T19:30:09.843384Z",
     "iopub.status.idle": "2021-12-06T19:30:09.868206Z",
     "shell.execute_reply": "2021-12-06T19:30:09.866796Z"
    },
    "papermill": {
     "duration": 0.071119,
     "end_time": "2021-12-06T19:30:09.868617",
     "exception": false,
     "start_time": "2021-12-06T19:30:09.797498",
     "status": "completed"
    },
    "tags": []
   },
   "outputs": [
    {
     "data": {
      "text/html": [
       "<div>\n",
       "<style scoped>\n",
       "    .dataframe tbody tr th:only-of-type {\n",
       "        vertical-align: middle;\n",
       "    }\n",
       "\n",
       "    .dataframe tbody tr th {\n",
       "        vertical-align: top;\n",
       "    }\n",
       "\n",
       "    .dataframe thead th {\n",
       "        text-align: right;\n",
       "    }\n",
       "</style>\n",
       "<table border=\"1\" class=\"dataframe\">\n",
       "  <thead>\n",
       "    <tr style=\"text-align: right;\">\n",
       "      <th></th>\n",
       "      <th>RECORD_TIME</th>\n",
       "    </tr>\n",
       "  </thead>\n",
       "  <tbody>\n",
       "    <tr>\n",
       "      <th>0</th>\n",
       "      <td>2021-12-06 20:30</td>\n",
       "    </tr>\n",
       "    <tr>\n",
       "      <th>1</th>\n",
       "      <td>2021-12-06 20:00</td>\n",
       "    </tr>\n",
       "  </tbody>\n",
       "</table>\n",
       "</div>"
      ],
      "text/plain": [
       "        RECORD_TIME\n",
       "0  2021-12-06 20:30\n",
       "1  2021-12-06 20:00"
      ]
     },
     "execution_count": 3,
     "metadata": {},
     "output_type": "execute_result"
    }
   ],
   "source": [
    "timestamps"
   ]
  },
  {
   "cell_type": "code",
   "execution_count": 4,
   "id": "alternate-victory",
   "metadata": {
    "execution": {
     "iopub.execute_input": "2021-12-06T19:30:09.926809Z",
     "iopub.status.busy": "2021-12-06T19:30:09.924756Z",
     "iopub.status.idle": "2021-12-06T19:30:11.404257Z",
     "shell.execute_reply": "2021-12-06T19:30:11.406825Z"
    },
    "papermill": {
     "duration": 1.517052,
     "end_time": "2021-12-06T19:30:11.407511",
     "exception": false,
     "start_time": "2021-12-06T19:30:09.890459",
     "status": "completed"
    },
    "tags": []
   },
   "outputs": [],
   "source": [
    "df = pd.read_sql(\"select * from EBAY_TOP_BERLIN where record_time in (select distinct record_time from EBAY_TOP_BERLIN order by record_time desc limit 2)\", sqlite3.connect(\"UsedObjects.db\"))"
   ]
  },
  {
   "cell_type": "code",
   "execution_count": 5,
   "id": "popular-active",
   "metadata": {
    "execution": {
     "iopub.execute_input": "2021-12-06T19:30:11.527310Z",
     "iopub.status.busy": "2021-12-06T19:30:11.497550Z",
     "iopub.status.idle": "2021-12-06T19:30:11.562359Z",
     "shell.execute_reply": "2021-12-06T19:30:11.559552Z"
    },
    "papermill": {
     "duration": 0.124324,
     "end_time": "2021-12-06T19:30:11.562942",
     "exception": false,
     "start_time": "2021-12-06T19:30:11.438618",
     "status": "completed"
    },
    "tags": []
   },
   "outputs": [],
   "source": [
    "df_pivot = df.pivot_table(index=\"PRODUCT\", columns = \"RECORD_TIME\", values = \"LISTING_COUNT\")"
   ]
  },
  {
   "cell_type": "code",
   "execution_count": 6,
   "id": "union-huntington",
   "metadata": {
    "execution": {
     "iopub.execute_input": "2021-12-06T19:30:11.646042Z",
     "iopub.status.busy": "2021-12-06T19:30:11.643194Z",
     "iopub.status.idle": "2021-12-06T19:30:11.653680Z",
     "shell.execute_reply": "2021-12-06T19:30:11.651384Z"
    },
    "papermill": {
     "duration": 0.060095,
     "end_time": "2021-12-06T19:30:11.654190",
     "exception": false,
     "start_time": "2021-12-06T19:30:11.594095",
     "status": "completed"
    },
    "tags": []
   },
   "outputs": [],
   "source": [
    "df_pivot.columns = [\"stamp_1\", \"stamp_2\"]\n",
    "df_pivot_diff = df_pivot.diff(axis=1)"
   ]
  },
  {
   "cell_type": "code",
   "execution_count": 7,
   "id": "fifth-motion",
   "metadata": {
    "execution": {
     "iopub.execute_input": "2021-12-06T19:30:11.718674Z",
     "iopub.status.busy": "2021-12-06T19:30:11.715518Z",
     "iopub.status.idle": "2021-12-06T19:30:13.453645Z",
     "shell.execute_reply": "2021-12-06T19:30:13.454990Z"
    },
    "papermill": {
     "duration": 1.775123,
     "end_time": "2021-12-06T19:30:13.455410",
     "exception": false,
     "start_time": "2021-12-06T19:30:11.680287",
     "status": "completed"
    },
    "tags": []
   },
   "outputs": [
    {
     "data": {
      "text/plain": [
       "<AxesSubplot:ylabel='PRODUCT'>"
      ]
     },
     "execution_count": 7,
     "metadata": {},
     "output_type": "execute_result"
    },
    {
     "data": {
      "image/png": "[encoded data removed]",
      "text/plain": [
       "<Figure size 432x288 with 1 Axes>"
      ]
     },
     "metadata": {
      "needs_background": "light"
     },
     "output_type": "display_data"
    }
   ],
   "source": [
    "df_pivot_diff.sort_values(\"stamp_2\", ascending = False)[\"stamp_2\"].head(10).plot.barh()"
   ]
  },
  {
   "cell_type": "code",
   "execution_count": null,
   "id": "extra-executive",
   "metadata": {
    "papermill": {
     "duration": 0.022524,
     "end_time": "2021-12-06T19:30:13.502176",
     "exception": false,
     "start_time": "2021-12-06T19:30:13.479652",
     "status": "completed"
    },
    "tags": []
   },
   "outputs": [],
   "source": []
  }
 ],
 "metadata": {
  "kernelspec": {
   "display_name": "Python 3",
   "language": "python",
   "name": "python3"
  },
  "language_info": {
   "codemirror_mode": {
    "name": "ipython",
    "version": 3
   },
   "file_extension": ".py",
   "mimetype": "text/x-python",
   "name": "python",
   "nbconvert_exporter": "python",
   "pygments_lexer": "ipython3",
   "version": "3.9.5"
  },
  "papermill": {
   "default_parameters": {},
   "duration": 9.958444,
   "end_time": "2021-12-06T19:30:14.918184",
   "environment_variables": {},
   "exception": null,
   "input_path": "eBay_Overview.ipynb",
   "output_path": "eBay_Overview.ipynb",
   "parameters": {},
   "start_time": "2021-12-06T19:30:04.959740",
   "version": "2.3.3"
  }
 },
 "nbformat": 4,
 "nbformat_minor": 5
}