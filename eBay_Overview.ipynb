{
 "cells": [
  {
   "cell_type": "code",
   "execution_count": 1,
   "id": "reverse-picking",
   "metadata": {
    "execution": {
     "iopub.execute_input": "2021-10-29T06:30:07.522461Z",
     "iopub.status.busy": "2021-10-29T06:30:07.520476Z",
     "iopub.status.idle": "2021-10-29T06:30:08.326678Z",
     "shell.execute_reply": "2021-10-29T06:30:08.327936Z"
    },
    "papermill": {
     "duration": 0.856839,
     "end_time": "2021-10-29T06:30:08.328555",
     "exception": false,
     "start_time": "2021-10-29T06:30:07.471716",
     "status": "completed"
    },
    "tags": []
   },
   "outputs": [],
   "source": [
    "import pandas as pd\n",
    "import sqlite3"
   ]
  },
  {
   "cell_type": "code",
   "execution_count": 2,
   "id": "innovative-syndrome",
   "metadata": {
    "execution": {
     "iopub.execute_input": "2021-10-29T06:30:08.381740Z",
     "iopub.status.busy": "2021-10-29T06:30:08.379327Z",
     "iopub.status.idle": "2021-10-29T06:30:09.043461Z",
     "shell.execute_reply": "2021-10-29T06:30:09.044739Z"
    },
    "papermill": {
     "duration": 0.694199,
     "end_time": "2021-10-29T06:30:09.045197",
     "exception": false,
     "start_time": "2021-10-29T06:30:08.350998",
     "status": "completed"
    },
    "tags": []
   },
   "outputs": [],
   "source": [
    "timestamps = pd.read_sql(\"select distinct record_time from EBAY_TOP_BERLIN order by record_time desc limit 2\", sqlite3.connect(\"UsedObjects.db\"))"
   ]
  },
  {
   "cell_type": "code",
   "execution_count": 3,
   "id": "periodic-identification",
   "metadata": {
    "execution": {
     "iopub.execute_input": "2021-10-29T06:30:09.119829Z",
     "iopub.status.busy": "2021-10-29T06:30:09.117808Z",
     "iopub.status.idle": "2021-10-29T06:30:09.137812Z",
     "shell.execute_reply": "2021-10-29T06:30:09.139131Z"
    },
    "papermill": {
     "duration": 0.069251,
     "end_time": "2021-10-29T06:30:09.139545",
     "exception": false,
     "start_time": "2021-10-29T06:30:09.070294",
     "status": "completed"
    },
    "tags": []
   },
   "outputs": [
    {
     "data": {
      "text/html": [
       "<div>\n",
       "<style scoped>\n",
       "    .dataframe tbody tr th:only-of-type {\n",
       "        vertical-align: middle;\n",
       "    }\n",
       "\n",
       "    .dataframe tbody tr th {\n",
       "        vertical-align: top;\n",
       "    }\n",
       "\n",
       "    .dataframe thead th {\n",
       "        text-align: right;\n",
       "    }\n",
       "</style>\n",
       "<table border=\"1\" class=\"dataframe\">\n",
       "  <thead>\n",
       "    <tr style=\"text-align: right;\">\n",
       "      <th></th>\n",
       "      <th>RECORD_TIME</th>\n",
       "    </tr>\n",
       "  </thead>\n",
       "  <tbody>\n",
       "    <tr>\n",
       "      <th>0</th>\n",
       "      <td>2021-10-29 08:30</td>\n",
       "    </tr>\n",
       "    <tr>\n",
       "      <th>1</th>\n",
       "      <td>2021-10-29 08:00</td>\n",
       "    </tr>\n",
       "  </tbody>\n",
       "</table>\n",
       "</div>"
      ],
      "text/plain": [
       "        RECORD_TIME\n",
       "0  2021-10-29 08:30\n",
       "1  2021-10-29 08:00"
      ]
     },
     "execution_count": 3,
     "metadata": {},
     "output_type": "execute_result"
    }
   ],
   "source": [
    "timestamps"
   ]
  },
  {
   "cell_type": "code",
   "execution_count": 4,
   "id": "alternate-victory",
   "metadata": {
    "execution": {
     "iopub.execute_input": "2021-10-29T06:30:09.191703Z",
     "iopub.status.busy": "2021-10-29T06:30:09.189389Z",
     "iopub.status.idle": "2021-10-29T06:30:10.161599Z",
     "shell.execute_reply": "2021-10-29T06:30:10.163026Z"
    },
    "papermill": {
     "duration": 1.002718,
     "end_time": "2021-10-29T06:30:10.163479",
     "exception": false,
     "start_time": "2021-10-29T06:30:09.160761",
     "status": "completed"
    },
    "tags": []
   },
   "outputs": [],
   "source": [
    "df = pd.read_sql(\"select * from EBAY_TOP_BERLIN where record_time in (select distinct record_time from EBAY_TOP_BERLIN order by record_time desc limit 2)\", sqlite3.connect(\"UsedObjects.db\"))"
   ]
  },
  {
   "cell_type": "code",
   "execution_count": 5,
   "id": "popular-active",
   "metadata": {
    "execution": {
     "iopub.execute_input": "2021-10-29T06:30:10.229106Z",
     "iopub.status.busy": "2021-10-29T06:30:10.221812Z",
     "iopub.status.idle": "2021-10-29T06:30:10.249246Z",
     "shell.execute_reply": "2021-10-29T06:30:10.250583Z"
    },
    "papermill": {
     "duration": 0.066592,
     "end_time": "2021-10-29T06:30:10.250985",
     "exception": false,
     "start_time": "2021-10-29T06:30:10.184393",
     "status": "completed"
    },
    "tags": []
   },
   "outputs": [],
   "source": [
    "df_pivot = df.pivot_table(index=\"PRODUCT\", columns = \"RECORD_TIME\", values = \"LISTING_COUNT\")"
   ]
  },
  {
   "cell_type": "code",
   "execution_count": 6,
   "id": "union-huntington",
   "metadata": {
    "execution": {
     "iopub.execute_input": "2021-10-29T06:30:10.306685Z",
     "iopub.status.busy": "2021-10-29T06:30:10.304438Z",
     "iopub.status.idle": "2021-10-29T06:30:10.309976Z",
     "shell.execute_reply": "2021-10-29T06:30:10.311355Z"
    },
    "papermill": {
     "duration": 0.040848,
     "end_time": "2021-10-29T06:30:10.311802",
     "exception": false,
     "start_time": "2021-10-29T06:30:10.270954",
     "status": "completed"
    },
    "tags": []
   },
   "outputs": [],
   "source": [
    "df_pivot.columns = [\"stamp_1\", \"stamp_2\"]\n",
    "df_pivot_diff = df_pivot.diff(axis=1)"
   ]
  },
  {
   "cell_type": "code",
   "execution_count": 7,
   "id": "fifth-motion",
   "metadata": {
    "execution": {
     "iopub.execute_input": "2021-10-29T06:30:10.366433Z",
     "iopub.status.busy": "2021-10-29T06:30:10.363872Z",
     "iopub.status.idle": "2021-10-29T06:30:11.850662Z",
     "shell.execute_reply": "2021-10-29T06:30:11.851954Z"
    },
    "papermill": {
     "duration": 1.520034,
     "end_time": "2021-10-29T06:30:11.852376",
     "exception": false,
     "start_time": "2021-10-29T06:30:10.332342",
     "status": "completed"
    },
    "tags": []
   },
   "outputs": [
    {
     "data": {
      "text/plain": [
       "<AxesSubplot:ylabel='PRODUCT'>"
      ]
     },
     "execution_count": 7,
     "metadata": {},
     "output_type": "execute_result"
    },
    {
     "data": {
      "image/png": "[encoded data removed]",
      "text/plain": [
       "<Figure size 432x288 with 1 Axes>"
      ]
     },
     "metadata": {
      "needs_background": "light"
     },
     "output_type": "display_data"
    }
   ],
   "source": [
    "df_pivot_diff.sort_values(\"stamp_2\", ascending = False)[\"stamp_2\"].head(10).plot.barh()"
   ]
  },
  {
   "cell_type": "code",
   "execution_count": null,
   "id": "extra-executive",
   "metadata": {
    "papermill": {
     "duration": 0.022243,
     "end_time": "2021-10-29T06:30:11.898391",
     "exception": false,
     "start_time": "2021-10-29T06:30:11.876148",
     "status": "completed"
    },
    "tags": []
   },
   "outputs": [],
   "source": []
  }
 ],
 "metadata": {
  "kernelspec": {
   "display_name": "Python 3",
   "language": "python",
   "name": "python3"
  },
  "language_info": {
   "codemirror_mode": {
    "name": "ipython",
    "version": 3
   },
   "file_extension": ".py",
   "mimetype": "text/x-python",
   "name": "python",
   "nbconvert_exporter": "python",
   "pygments_lexer": "ipython3",
   "version": "3.9.5"
  },
  "papermill": {
   "default_parameters": {},
   "duration": 7.465429,
   "end_time": "2021-10-29T06:30:12.541780",
   "environment_variables": {},
   "exception": null,
   "input_path": "eBay_Overview.ipynb",
   "output_path": "eBay_Overview.ipynb",
   "parameters": {},
   "start_time": "2021-10-29T06:30:05.076351",
   "version": "2.3.3"
  }
 },
 "nbformat": 4,
 "nbformat_minor": 5
}