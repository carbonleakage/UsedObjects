{
 "cells": [
  {
   "cell_type": "code",
   "execution_count": 1,
   "id": "reverse-picking",
   "metadata": {
    "execution": {
     "iopub.execute_input": "2021-09-23T03:00:07.314073Z",
     "iopub.status.busy": "2021-09-23T03:00:07.312136Z",
     "iopub.status.idle": "2021-09-23T03:00:08.119777Z",
     "shell.execute_reply": "2021-09-23T03:00:08.121052Z"
    },
    "papermill": {
     "duration": 0.858333,
     "end_time": "2021-09-23T03:00:08.121662",
     "exception": false,
     "start_time": "2021-09-23T03:00:07.263329",
     "status": "completed"
    },
    "tags": []
   },
   "outputs": [],
   "source": [
    "import pandas as pd\n",
    "import sqlite3"
   ]
  },
  {
   "cell_type": "code",
   "execution_count": 2,
   "id": "innovative-syndrome",
   "metadata": {
    "execution": {
     "iopub.execute_input": "2021-09-23T03:00:08.175003Z",
     "iopub.status.busy": "2021-09-23T03:00:08.172627Z",
     "iopub.status.idle": "2021-09-23T03:00:08.523439Z",
     "shell.execute_reply": "2021-09-23T03:00:08.524728Z"
    },
    "papermill": {
     "duration": 0.380974,
     "end_time": "2021-09-23T03:00:08.525121",
     "exception": false,
     "start_time": "2021-09-23T03:00:08.144147",
     "status": "completed"
    },
    "tags": []
   },
   "outputs": [],
   "source": [
    "timestamps = pd.read_sql(\"select distinct record_time from EBAY_TOP_BERLIN order by record_time desc limit 2\", sqlite3.connect(\"UsedObjects.db\"))"
   ]
  },
  {
   "cell_type": "code",
   "execution_count": 3,
   "id": "periodic-identification",
   "metadata": {
    "execution": {
     "iopub.execute_input": "2021-09-23T03:00:08.592546Z",
     "iopub.status.busy": "2021-09-23T03:00:08.587007Z",
     "iopub.status.idle": "2021-09-23T03:00:08.609070Z",
     "shell.execute_reply": "2021-09-23T03:00:08.610526Z"
    },
    "papermill": {
     "duration": 0.066619,
     "end_time": "2021-09-23T03:00:08.611140",
     "exception": false,
     "start_time": "2021-09-23T03:00:08.544521",
     "status": "completed"
    },
    "tags": []
   },
   "outputs": [
    {
     "data": {
      "text/html": [
       "<div>\n",
       "<style scoped>\n",
       "    .dataframe tbody tr th:only-of-type {\n",
       "        vertical-align: middle;\n",
       "    }\n",
       "\n",
       "    .dataframe tbody tr th {\n",
       "        vertical-align: top;\n",
       "    }\n",
       "\n",
       "    .dataframe thead th {\n",
       "        text-align: right;\n",
       "    }\n",
       "</style>\n",
       "<table border=\"1\" class=\"dataframe\">\n",
       "  <thead>\n",
       "    <tr style=\"text-align: right;\">\n",
       "      <th></th>\n",
       "      <th>RECORD_TIME</th>\n",
       "    </tr>\n",
       "  </thead>\n",
       "  <tbody>\n",
       "    <tr>\n",
       "      <th>0</th>\n",
       "      <td>2021-09-23 05:00</td>\n",
       "    </tr>\n",
       "    <tr>\n",
       "      <th>1</th>\n",
       "      <td>2021-09-23 04:30</td>\n",
       "    </tr>\n",
       "  </tbody>\n",
       "</table>\n",
       "</div>"
      ],
      "text/plain": [
       "        RECORD_TIME\n",
       "0  2021-09-23 05:00\n",
       "1  2021-09-23 04:30"
      ]
     },
     "execution_count": 3,
     "metadata": {},
     "output_type": "execute_result"
    }
   ],
   "source": [
    "timestamps"
   ]
  },
  {
   "cell_type": "code",
   "execution_count": 4,
   "id": "alternate-victory",
   "metadata": {
    "execution": {
     "iopub.execute_input": "2021-09-23T03:00:08.664553Z",
     "iopub.status.busy": "2021-09-23T03:00:08.662090Z",
     "iopub.status.idle": "2021-09-23T03:00:09.174624Z",
     "shell.execute_reply": "2021-09-23T03:00:09.176831Z"
    },
    "papermill": {
     "duration": 0.544179,
     "end_time": "2021-09-23T03:00:09.177276",
     "exception": false,
     "start_time": "2021-09-23T03:00:08.633097",
     "status": "completed"
    },
    "tags": []
   },
   "outputs": [],
   "source": [
    "df = pd.read_sql(\"select * from EBAY_TOP_BERLIN where record_time in (select distinct record_time from EBAY_TOP_BERLIN order by record_time desc limit 2)\", sqlite3.connect(\"UsedObjects.db\"))"
   ]
  },
  {
   "cell_type": "code",
   "execution_count": 5,
   "id": "popular-active",
   "metadata": {
    "execution": {
     "iopub.execute_input": "2021-09-23T03:00:09.265999Z",
     "iopub.status.busy": "2021-09-23T03:00:09.254656Z",
     "iopub.status.idle": "2021-09-23T03:00:09.283119Z",
     "shell.execute_reply": "2021-09-23T03:00:09.284347Z"
    },
    "papermill": {
     "duration": 0.07582,
     "end_time": "2021-09-23T03:00:09.284740",
     "exception": false,
     "start_time": "2021-09-23T03:00:09.208920",
     "status": "completed"
    },
    "tags": []
   },
   "outputs": [],
   "source": [
    "df_pivot = df.pivot_table(index=\"PRODUCT\", columns = \"RECORD_TIME\", values = \"LISTING_COUNT\")"
   ]
  },
  {
   "cell_type": "code",
   "execution_count": 6,
   "id": "union-huntington",
   "metadata": {
    "execution": {
     "iopub.execute_input": "2021-09-23T03:00:09.342754Z",
     "iopub.status.busy": "2021-09-23T03:00:09.340506Z",
     "iopub.status.idle": "2021-09-23T03:00:09.346481Z",
     "shell.execute_reply": "2021-09-23T03:00:09.348011Z"
    },
    "papermill": {
     "duration": 0.042149,
     "end_time": "2021-09-23T03:00:09.348479",
     "exception": false,
     "start_time": "2021-09-23T03:00:09.306330",
     "status": "completed"
    },
    "tags": []
   },
   "outputs": [],
   "source": [
    "df_pivot.columns = [\"stamp_1\", \"stamp_2\"]\n",
    "df_pivot_diff = df_pivot.diff(axis=1)"
   ]
  },
  {
   "cell_type": "code",
   "execution_count": 7,
   "id": "fifth-motion",
   "metadata": {
    "execution": {
     "iopub.execute_input": "2021-09-23T03:00:09.403572Z",
     "iopub.status.busy": "2021-09-23T03:00:09.401104Z",
     "iopub.status.idle": "2021-09-23T03:00:10.921401Z",
     "shell.execute_reply": "2021-09-23T03:00:10.922675Z"
    },
    "papermill": {
     "duration": 1.552956,
     "end_time": "2021-09-23T03:00:10.923289",
     "exception": false,
     "start_time": "2021-09-23T03:00:09.370333",
     "status": "completed"
    },
    "tags": []
   },
   "outputs": [
    {
     "data": {
      "text/plain": [
       "<AxesSubplot:ylabel='PRODUCT'>"
      ]
     },
     "execution_count": 7,
     "metadata": {},
     "output_type": "execute_result"
    },
    {
     "data": {
      "image/png": "[encoded data removed]",
      "text/plain": [
       "<Figure size 432x288 with 1 Axes>"
      ]
     },
     "metadata": {
      "needs_background": "light"
     },
     "output_type": "display_data"
    }
   ],
   "source": [
    "df_pivot_diff.sort_values(\"stamp_2\", ascending = False)[\"stamp_2\"].head(10).plot.barh()"
   ]
  },
  {
   "cell_type": "code",
   "execution_count": null,
   "id": "extra-executive",
   "metadata": {
    "papermill": {
     "duration": 0.022433,
     "end_time": "2021-09-23T03:00:10.971812",
     "exception": false,
     "start_time": "2021-09-23T03:00:10.949379",
     "status": "completed"
    },
    "tags": []
   },
   "outputs": [],
   "source": []
  }
 ],
 "metadata": {
  "kernelspec": {
   "display_name": "Python 3",
   "language": "python",
   "name": "python3"
  },
  "language_info": {
   "codemirror_mode": {
    "name": "ipython",
    "version": 3
   },
   "file_extension": ".py",
   "mimetype": "text/x-python",
   "name": "python",
   "nbconvert_exporter": "python",
   "pygments_lexer": "ipython3",
   "version": "3.9.5"
  },
  "papermill": {
   "default_parameters": {},
   "duration": 6.756098,
   "end_time": "2021-09-23T03:00:11.614537",
   "environment_variables": {},
   "exception": null,
   "input_path": "eBay_Overview.ipynb",
   "output_path": "eBay_Overview.ipynb",
   "parameters": {},
   "start_time": "2021-09-23T03:00:04.858439",
   "version": "2.3.3"
  }
 },
 "nbformat": 4,
 "nbformat_minor": 5
}