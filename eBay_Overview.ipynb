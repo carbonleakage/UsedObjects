{
 "cells": [
  {
   "cell_type": "code",
   "execution_count": 1,
   "id": "reverse-picking",
   "metadata": {
    "execution": {
     "iopub.execute_input": "2021-10-19T21:30:07.034312Z",
     "iopub.status.busy": "2021-10-19T21:30:07.032322Z",
     "iopub.status.idle": "2021-10-19T21:30:07.839748Z",
     "shell.execute_reply": "2021-10-19T21:30:07.841125Z"
    },
    "papermill": {
     "duration": 0.859381,
     "end_time": "2021-10-19T21:30:07.841781",
     "exception": false,
     "start_time": "2021-10-19T21:30:06.982400",
     "status": "completed"
    },
    "tags": []
   },
   "outputs": [],
   "source": [
    "import pandas as pd\n",
    "import sqlite3"
   ]
  },
  {
   "cell_type": "code",
   "execution_count": 2,
   "id": "innovative-syndrome",
   "metadata": {
    "execution": {
     "iopub.execute_input": "2021-10-19T21:30:07.892329Z",
     "iopub.status.busy": "2021-10-19T21:30:07.890445Z",
     "iopub.status.idle": "2021-10-19T21:30:08.479769Z",
     "shell.execute_reply": "2021-10-19T21:30:08.481277Z"
    },
    "papermill": {
     "duration": 0.619034,
     "end_time": "2021-10-19T21:30:08.481717",
     "exception": false,
     "start_time": "2021-10-19T21:30:07.862683",
     "status": "completed"
    },
    "tags": []
   },
   "outputs": [],
   "source": [
    "timestamps = pd.read_sql(\"select distinct record_time from EBAY_TOP_BERLIN order by record_time desc limit 2\", sqlite3.connect(\"UsedObjects.db\"))"
   ]
  },
  {
   "cell_type": "code",
   "execution_count": 3,
   "id": "periodic-identification",
   "metadata": {
    "execution": {
     "iopub.execute_input": "2021-10-19T21:30:08.552304Z",
     "iopub.status.busy": "2021-10-19T21:30:08.550285Z",
     "iopub.status.idle": "2021-10-19T21:30:08.570200Z",
     "shell.execute_reply": "2021-10-19T21:30:08.571407Z"
    },
    "papermill": {
     "duration": 0.06399,
     "end_time": "2021-10-19T21:30:08.571797",
     "exception": false,
     "start_time": "2021-10-19T21:30:08.507807",
     "status": "completed"
    },
    "tags": []
   },
   "outputs": [
    {
     "data": {
      "text/html": [
       "<div>\n",
       "<style scoped>\n",
       "    .dataframe tbody tr th:only-of-type {\n",
       "        vertical-align: middle;\n",
       "    }\n",
       "\n",
       "    .dataframe tbody tr th {\n",
       "        vertical-align: top;\n",
       "    }\n",
       "\n",
       "    .dataframe thead th {\n",
       "        text-align: right;\n",
       "    }\n",
       "</style>\n",
       "<table border=\"1\" class=\"dataframe\">\n",
       "  <thead>\n",
       "    <tr style=\"text-align: right;\">\n",
       "      <th></th>\n",
       "      <th>RECORD_TIME</th>\n",
       "    </tr>\n",
       "  </thead>\n",
       "  <tbody>\n",
       "    <tr>\n",
       "      <th>0</th>\n",
       "      <td>2021-10-19 23:30</td>\n",
       "    </tr>\n",
       "    <tr>\n",
       "      <th>1</th>\n",
       "      <td>2021-10-19 23:00</td>\n",
       "    </tr>\n",
       "  </tbody>\n",
       "</table>\n",
       "</div>"
      ],
      "text/plain": [
       "        RECORD_TIME\n",
       "0  2021-10-19 23:30\n",
       "1  2021-10-19 23:00"
      ]
     },
     "execution_count": 3,
     "metadata": {},
     "output_type": "execute_result"
    }
   ],
   "source": [
    "timestamps"
   ]
  },
  {
   "cell_type": "code",
   "execution_count": 4,
   "id": "alternate-victory",
   "metadata": {
    "execution": {
     "iopub.execute_input": "2021-10-19T21:30:08.623793Z",
     "iopub.status.busy": "2021-10-19T21:30:08.621526Z",
     "iopub.status.idle": "2021-10-19T21:30:09.471037Z",
     "shell.execute_reply": "2021-10-19T21:30:09.472251Z"
    },
    "papermill": {
     "duration": 0.879414,
     "end_time": "2021-10-19T21:30:09.472650",
     "exception": false,
     "start_time": "2021-10-19T21:30:08.593236",
     "status": "completed"
    },
    "tags": []
   },
   "outputs": [],
   "source": [
    "df = pd.read_sql(\"select * from EBAY_TOP_BERLIN where record_time in (select distinct record_time from EBAY_TOP_BERLIN order by record_time desc limit 2)\", sqlite3.connect(\"UsedObjects.db\"))"
   ]
  },
  {
   "cell_type": "code",
   "execution_count": 5,
   "id": "popular-active",
   "metadata": {
    "execution": {
     "iopub.execute_input": "2021-10-19T21:30:09.540140Z",
     "iopub.status.busy": "2021-10-19T21:30:09.532261Z",
     "iopub.status.idle": "2021-10-19T21:30:09.563003Z",
     "shell.execute_reply": "2021-10-19T21:30:09.561658Z"
    },
    "papermill": {
     "duration": 0.070033,
     "end_time": "2021-10-19T21:30:09.563339",
     "exception": false,
     "start_time": "2021-10-19T21:30:09.493306",
     "status": "completed"
    },
    "tags": []
   },
   "outputs": [],
   "source": [
    "df_pivot = df.pivot_table(index=\"PRODUCT\", columns = \"RECORD_TIME\", values = \"LISTING_COUNT\")"
   ]
  },
  {
   "cell_type": "code",
   "execution_count": 6,
   "id": "union-huntington",
   "metadata": {
    "execution": {
     "iopub.execute_input": "2021-10-19T21:30:09.623415Z",
     "iopub.status.busy": "2021-10-19T21:30:09.620963Z",
     "iopub.status.idle": "2021-10-19T21:30:09.626738Z",
     "shell.execute_reply": "2021-10-19T21:30:09.628024Z"
    },
    "papermill": {
     "duration": 0.042122,
     "end_time": "2021-10-19T21:30:09.628438",
     "exception": false,
     "start_time": "2021-10-19T21:30:09.586316",
     "status": "completed"
    },
    "tags": []
   },
   "outputs": [],
   "source": [
    "df_pivot.columns = [\"stamp_1\", \"stamp_2\"]\n",
    "df_pivot_diff = df_pivot.diff(axis=1)"
   ]
  },
  {
   "cell_type": "code",
   "execution_count": 7,
   "id": "fifth-motion",
   "metadata": {
    "execution": {
     "iopub.execute_input": "2021-10-19T21:30:09.682609Z",
     "iopub.status.busy": "2021-10-19T21:30:09.680143Z",
     "iopub.status.idle": "2021-10-19T21:30:11.152841Z",
     "shell.execute_reply": "2021-10-19T21:30:11.154137Z"
    },
    "papermill": {
     "duration": 1.505506,
     "end_time": "2021-10-19T21:30:11.154553",
     "exception": false,
     "start_time": "2021-10-19T21:30:09.649047",
     "status": "completed"
    },
    "tags": []
   },
   "outputs": [
    {
     "data": {
      "text/plain": [
       "<AxesSubplot:ylabel='PRODUCT'>"
      ]
     },
     "execution_count": 7,
     "metadata": {},
     "output_type": "execute_result"
    },
    {
     "data": {
      "image/png": "[encoded data removed]",
      "text/plain": [
       "<Figure size 432x288 with 1 Axes>"
      ]
     },
     "metadata": {
      "needs_background": "light"
     },
     "output_type": "display_data"
    }
   ],
   "source": [
    "df_pivot_diff.sort_values(\"stamp_2\", ascending = False)[\"stamp_2\"].head(10).plot.barh()"
   ]
  },
  {
   "cell_type": "code",
   "execution_count": null,
   "id": "extra-executive",
   "metadata": {
    "papermill": {
     "duration": 0.021868,
     "end_time": "2021-10-19T21:30:11.200244",
     "exception": false,
     "start_time": "2021-10-19T21:30:11.178376",
     "status": "completed"
    },
    "tags": []
   },
   "outputs": [],
   "source": []
  }
 ],
 "metadata": {
  "kernelspec": {
   "display_name": "Python 3",
   "language": "python",
   "name": "python3"
  },
  "language_info": {
   "codemirror_mode": {
    "name": "ipython",
    "version": 3
   },
   "file_extension": ".py",
   "mimetype": "text/x-python",
   "name": "python",
   "nbconvert_exporter": "python",
   "pygments_lexer": "ipython3",
   "version": "3.9.5"
  },
  "papermill": {
   "default_parameters": {},
   "duration": 7.816661,
   "end_time": "2021-10-19T21:30:12.397134",
   "environment_variables": {},
   "exception": null,
   "input_path": "eBay_Overview.ipynb",
   "output_path": "eBay_Overview.ipynb",
   "parameters": {},
   "start_time": "2021-10-19T21:30:04.580473",
   "version": "2.3.3"
  }
 },
 "nbformat": 4,
 "nbformat_minor": 5
}