{
 "cells": [
  {
   "cell_type": "code",
   "execution_count": 1,
   "id": "reverse-picking",
   "metadata": {
    "execution": {
     "iopub.execute_input": "2021-10-04T15:30:07.553128Z",
     "iopub.status.busy": "2021-10-04T15:30:07.551128Z",
     "iopub.status.idle": "2021-10-04T15:30:08.356329Z",
     "shell.execute_reply": "2021-10-04T15:30:08.357561Z"
    },
    "papermill": {
     "duration": 0.855853,
     "end_time": "2021-10-04T15:30:08.358176",
     "exception": false,
     "start_time": "2021-10-04T15:30:07.502323",
     "status": "completed"
    },
    "tags": []
   },
   "outputs": [],
   "source": [
    "import pandas as pd\n",
    "import sqlite3"
   ]
  },
  {
   "cell_type": "code",
   "execution_count": 2,
   "id": "innovative-syndrome",
   "metadata": {
    "execution": {
     "iopub.execute_input": "2021-10-04T15:30:08.411755Z",
     "iopub.status.busy": "2021-10-04T15:30:08.409367Z",
     "iopub.status.idle": "2021-10-04T15:30:08.870246Z",
     "shell.execute_reply": "2021-10-04T15:30:08.871525Z"
    },
    "papermill": {
     "duration": 0.490762,
     "end_time": "2021-10-04T15:30:08.871927",
     "exception": false,
     "start_time": "2021-10-04T15:30:08.381165",
     "status": "completed"
    },
    "tags": []
   },
   "outputs": [],
   "source": [
    "timestamps = pd.read_sql(\"select distinct record_time from EBAY_TOP_BERLIN order by record_time desc limit 2\", sqlite3.connect(\"UsedObjects.db\"))"
   ]
  },
  {
   "cell_type": "code",
   "execution_count": 3,
   "id": "periodic-identification",
   "metadata": {
    "execution": {
     "iopub.execute_input": "2021-10-04T15:30:08.939903Z",
     "iopub.status.busy": "2021-10-04T15:30:08.934511Z",
     "iopub.status.idle": "2021-10-04T15:30:08.957607Z",
     "shell.execute_reply": "2021-10-04T15:30:08.956009Z"
    },
    "papermill": {
     "duration": 0.065991,
     "end_time": "2021-10-04T15:30:08.957987",
     "exception": false,
     "start_time": "2021-10-04T15:30:08.891996",
     "status": "completed"
    },
    "tags": []
   },
   "outputs": [
    {
     "data": {
      "text/html": [
       "<div>\n",
       "<style scoped>\n",
       "    .dataframe tbody tr th:only-of-type {\n",
       "        vertical-align: middle;\n",
       "    }\n",
       "\n",
       "    .dataframe tbody tr th {\n",
       "        vertical-align: top;\n",
       "    }\n",
       "\n",
       "    .dataframe thead th {\n",
       "        text-align: right;\n",
       "    }\n",
       "</style>\n",
       "<table border=\"1\" class=\"dataframe\">\n",
       "  <thead>\n",
       "    <tr style=\"text-align: right;\">\n",
       "      <th></th>\n",
       "      <th>RECORD_TIME</th>\n",
       "    </tr>\n",
       "  </thead>\n",
       "  <tbody>\n",
       "    <tr>\n",
       "      <th>0</th>\n",
       "      <td>2021-10-04 17:30</td>\n",
       "    </tr>\n",
       "    <tr>\n",
       "      <th>1</th>\n",
       "      <td>2021-10-04 17:00</td>\n",
       "    </tr>\n",
       "  </tbody>\n",
       "</table>\n",
       "</div>"
      ],
      "text/plain": [
       "        RECORD_TIME\n",
       "0  2021-10-04 17:30\n",
       "1  2021-10-04 17:00"
      ]
     },
     "execution_count": 3,
     "metadata": {},
     "output_type": "execute_result"
    }
   ],
   "source": [
    "timestamps"
   ]
  },
  {
   "cell_type": "code",
   "execution_count": 4,
   "id": "alternate-victory",
   "metadata": {
    "execution": {
     "iopub.execute_input": "2021-10-04T15:30:09.018435Z",
     "iopub.status.busy": "2021-10-04T15:30:09.016592Z",
     "iopub.status.idle": "2021-10-04T15:30:09.691367Z",
     "shell.execute_reply": "2021-10-04T15:30:09.692751Z"
    },
    "papermill": {
     "duration": 0.707931,
     "end_time": "2021-10-04T15:30:09.693185",
     "exception": false,
     "start_time": "2021-10-04T15:30:08.985254",
     "status": "completed"
    },
    "tags": []
   },
   "outputs": [],
   "source": [
    "df = pd.read_sql(\"select * from EBAY_TOP_BERLIN where record_time in (select distinct record_time from EBAY_TOP_BERLIN order by record_time desc limit 2)\", sqlite3.connect(\"UsedObjects.db\"))"
   ]
  },
  {
   "cell_type": "code",
   "execution_count": 5,
   "id": "popular-active",
   "metadata": {
    "execution": {
     "iopub.execute_input": "2021-10-04T15:30:09.764867Z",
     "iopub.status.busy": "2021-10-04T15:30:09.753644Z",
     "iopub.status.idle": "2021-10-04T15:30:09.781472Z",
     "shell.execute_reply": "2021-10-04T15:30:09.783016Z"
    },
    "papermill": {
     "duration": 0.069597,
     "end_time": "2021-10-04T15:30:09.783476",
     "exception": false,
     "start_time": "2021-10-04T15:30:09.713879",
     "status": "completed"
    },
    "tags": []
   },
   "outputs": [],
   "source": [
    "df_pivot = df.pivot_table(index=\"PRODUCT\", columns = \"RECORD_TIME\", values = \"LISTING_COUNT\")"
   ]
  },
  {
   "cell_type": "code",
   "execution_count": 6,
   "id": "union-huntington",
   "metadata": {
    "execution": {
     "iopub.execute_input": "2021-10-04T15:30:09.841712Z",
     "iopub.status.busy": "2021-10-04T15:30:09.839650Z",
     "iopub.status.idle": "2021-10-04T15:30:09.844935Z",
     "shell.execute_reply": "2021-10-04T15:30:09.846191Z"
    },
    "papermill": {
     "duration": 0.041036,
     "end_time": "2021-10-04T15:30:09.846601",
     "exception": false,
     "start_time": "2021-10-04T15:30:09.805565",
     "status": "completed"
    },
    "tags": []
   },
   "outputs": [],
   "source": [
    "df_pivot.columns = [\"stamp_1\", \"stamp_2\"]\n",
    "df_pivot_diff = df_pivot.diff(axis=1)"
   ]
  },
  {
   "cell_type": "code",
   "execution_count": 7,
   "id": "fifth-motion",
   "metadata": {
    "execution": {
     "iopub.execute_input": "2021-10-04T15:30:09.901394Z",
     "iopub.status.busy": "2021-10-04T15:30:09.899039Z",
     "iopub.status.idle": "2021-10-04T15:30:11.393985Z",
     "shell.execute_reply": "2021-10-04T15:30:11.395407Z"
    },
    "papermill": {
     "duration": 1.527831,
     "end_time": "2021-10-04T15:30:11.395856",
     "exception": false,
     "start_time": "2021-10-04T15:30:09.868025",
     "status": "completed"
    },
    "tags": []
   },
   "outputs": [
    {
     "data": {
      "text/plain": [
       "<AxesSubplot:ylabel='PRODUCT'>"
      ]
     },
     "execution_count": 7,
     "metadata": {},
     "output_type": "execute_result"
    },
    {
     "data": {
      "image/png": "[encoded data removed]",
      "text/plain": [
       "<Figure size 432x288 with 1 Axes>"
      ]
     },
     "metadata": {
      "needs_background": "light"
     },
     "output_type": "display_data"
    }
   ],
   "source": [
    "df_pivot_diff.sort_values(\"stamp_2\", ascending = False)[\"stamp_2\"].head(10).plot.barh()"
   ]
  },
  {
   "cell_type": "code",
   "execution_count": null,
   "id": "extra-executive",
   "metadata": {
    "papermill": {
     "duration": 0.022079,
     "end_time": "2021-10-04T15:30:11.442517",
     "exception": false,
     "start_time": "2021-10-04T15:30:11.420438",
     "status": "completed"
    },
    "tags": []
   },
   "outputs": [],
   "source": []
  }
 ],
 "metadata": {
  "kernelspec": {
   "display_name": "Python 3",
   "language": "python",
   "name": "python3"
  },
  "language_info": {
   "codemirror_mode": {
    "name": "ipython",
    "version": 3
   },
   "file_extension": ".py",
   "mimetype": "text/x-python",
   "name": "python",
   "nbconvert_exporter": "python",
   "pygments_lexer": "ipython3",
   "version": "3.9.5"
  },
  "papermill": {
   "default_parameters": {},
   "duration": 7.826652,
   "end_time": "2021-10-04T15:30:12.918158",
   "environment_variables": {},
   "exception": null,
   "input_path": "eBay_Overview.ipynb",
   "output_path": "eBay_Overview.ipynb",
   "parameters": {},
   "start_time": "2021-10-04T15:30:05.091506",
   "version": "2.3.3"
  }
 },
 "nbformat": 4,
 "nbformat_minor": 5
}