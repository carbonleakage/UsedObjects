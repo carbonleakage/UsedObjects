{
 "cells": [
  {
   "cell_type": "code",
   "execution_count": 1,
   "id": "reverse-picking",
   "metadata": {
    "execution": {
     "iopub.execute_input": "2021-09-17T19:00:06.581658Z",
     "iopub.status.busy": "2021-09-17T19:00:06.579713Z",
     "iopub.status.idle": "2021-09-17T19:00:07.381002Z",
     "shell.execute_reply": "2021-09-17T19:00:07.382318Z"
    },
    "papermill": {
     "duration": 0.851386,
     "end_time": "2021-09-17T19:00:07.383010",
     "exception": false,
     "start_time": "2021-09-17T19:00:06.531624",
     "status": "completed"
    },
    "tags": []
   },
   "outputs": [],
   "source": [
    "import pandas as pd\n",
    "import sqlite3"
   ]
  },
  {
   "cell_type": "code",
   "execution_count": 2,
   "id": "innovative-syndrome",
   "metadata": {
    "execution": {
     "iopub.execute_input": "2021-09-17T19:00:07.433153Z",
     "iopub.status.busy": "2021-09-17T19:00:07.431313Z",
     "iopub.status.idle": "2021-09-17T19:00:07.743357Z",
     "shell.execute_reply": "2021-09-17T19:00:07.744573Z"
    },
    "papermill": {
     "duration": 0.341633,
     "end_time": "2021-09-17T19:00:07.744962",
     "exception": false,
     "start_time": "2021-09-17T19:00:07.403329",
     "status": "completed"
    },
    "tags": []
   },
   "outputs": [],
   "source": [
    "timestamps = pd.read_sql(\"select distinct record_time from EBAY_TOP_BERLIN order by record_time desc limit 2\", sqlite3.connect(\"UsedObjects.db\"))"
   ]
  },
  {
   "cell_type": "code",
   "execution_count": 3,
   "id": "periodic-identification",
   "metadata": {
    "execution": {
     "iopub.execute_input": "2021-09-17T19:00:07.813546Z",
     "iopub.status.busy": "2021-09-17T19:00:07.811537Z",
     "iopub.status.idle": "2021-09-17T19:00:07.831445Z",
     "shell.execute_reply": "2021-09-17T19:00:07.833108Z"
    },
    "papermill": {
     "duration": 0.065993,
     "end_time": "2021-09-17T19:00:07.833593",
     "exception": false,
     "start_time": "2021-09-17T19:00:07.767600",
     "status": "completed"
    },
    "tags": []
   },
   "outputs": [
    {
     "data": {
      "text/html": [
       "<div>\n",
       "<style scoped>\n",
       "    .dataframe tbody tr th:only-of-type {\n",
       "        vertical-align: middle;\n",
       "    }\n",
       "\n",
       "    .dataframe tbody tr th {\n",
       "        vertical-align: top;\n",
       "    }\n",
       "\n",
       "    .dataframe thead th {\n",
       "        text-align: right;\n",
       "    }\n",
       "</style>\n",
       "<table border=\"1\" class=\"dataframe\">\n",
       "  <thead>\n",
       "    <tr style=\"text-align: right;\">\n",
       "      <th></th>\n",
       "      <th>RECORD_TIME</th>\n",
       "    </tr>\n",
       "  </thead>\n",
       "  <tbody>\n",
       "    <tr>\n",
       "      <th>0</th>\n",
       "      <td>2021-09-17 21:00</td>\n",
       "    </tr>\n",
       "    <tr>\n",
       "      <th>1</th>\n",
       "      <td>2021-09-17 20:30</td>\n",
       "    </tr>\n",
       "  </tbody>\n",
       "</table>\n",
       "</div>"
      ],
      "text/plain": [
       "        RECORD_TIME\n",
       "0  2021-09-17 21:00\n",
       "1  2021-09-17 20:30"
      ]
     },
     "execution_count": 3,
     "metadata": {},
     "output_type": "execute_result"
    }
   ],
   "source": [
    "timestamps"
   ]
  },
  {
   "cell_type": "code",
   "execution_count": 4,
   "id": "alternate-victory",
   "metadata": {
    "execution": {
     "iopub.execute_input": "2021-09-17T19:00:07.886236Z",
     "iopub.status.busy": "2021-09-17T19:00:07.884375Z",
     "iopub.status.idle": "2021-09-17T19:00:08.337303Z",
     "shell.execute_reply": "2021-09-17T19:00:08.338508Z"
    },
    "papermill": {
     "duration": 0.483253,
     "end_time": "2021-09-17T19:00:08.339002",
     "exception": false,
     "start_time": "2021-09-17T19:00:07.855749",
     "status": "completed"
    },
    "tags": []
   },
   "outputs": [],
   "source": [
    "df = pd.read_sql(\"select * from EBAY_TOP_BERLIN where record_time in (select distinct record_time from EBAY_TOP_BERLIN order by record_time desc limit 2)\", sqlite3.connect(\"UsedObjects.db\"))"
   ]
  },
  {
   "cell_type": "code",
   "execution_count": 5,
   "id": "popular-active",
   "metadata": {
    "execution": {
     "iopub.execute_input": "2021-09-17T19:00:08.420051Z",
     "iopub.status.busy": "2021-09-17T19:00:08.407562Z",
     "iopub.status.idle": "2021-09-17T19:00:08.435663Z",
     "shell.execute_reply": "2021-09-17T19:00:08.436887Z"
    },
    "papermill": {
     "duration": 0.072435,
     "end_time": "2021-09-17T19:00:08.437276",
     "exception": false,
     "start_time": "2021-09-17T19:00:08.364841",
     "status": "completed"
    },
    "tags": []
   },
   "outputs": [],
   "source": [
    "df_pivot = df.pivot_table(index=\"PRODUCT\", columns = \"RECORD_TIME\", values = \"LISTING_COUNT\")"
   ]
  },
  {
   "cell_type": "code",
   "execution_count": 6,
   "id": "union-huntington",
   "metadata": {
    "execution": {
     "iopub.execute_input": "2021-09-17T19:00:08.496212Z",
     "iopub.status.busy": "2021-09-17T19:00:08.493758Z",
     "iopub.status.idle": "2021-09-17T19:00:08.499755Z",
     "shell.execute_reply": "2021-09-17T19:00:08.501045Z"
    },
    "papermill": {
     "duration": 0.042033,
     "end_time": "2021-09-17T19:00:08.501455",
     "exception": false,
     "start_time": "2021-09-17T19:00:08.459422",
     "status": "completed"
    },
    "tags": []
   },
   "outputs": [],
   "source": [
    "df_pivot.columns = [\"stamp_1\", \"stamp_2\"]\n",
    "df_pivot_diff = df_pivot.diff(axis=1)"
   ]
  },
  {
   "cell_type": "code",
   "execution_count": 7,
   "id": "fifth-motion",
   "metadata": {
    "execution": {
     "iopub.execute_input": "2021-09-17T19:00:08.554158Z",
     "iopub.status.busy": "2021-09-17T19:00:08.551967Z",
     "iopub.status.idle": "2021-09-17T19:00:10.019998Z",
     "shell.execute_reply": "2021-09-17T19:00:10.021269Z"
    },
    "papermill": {
     "duration": 1.500502,
     "end_time": "2021-09-17T19:00:10.021679",
     "exception": false,
     "start_time": "2021-09-17T19:00:08.521177",
     "status": "completed"
    },
    "tags": []
   },
   "outputs": [
    {
     "data": {
      "text/plain": [
       "<AxesSubplot:ylabel='PRODUCT'>"
      ]
     },
     "execution_count": 7,
     "metadata": {},
     "output_type": "execute_result"
    },
    {
     "data": {
      "image/png": "[encoded data removed]",
      "text/plain": [
       "<Figure size 432x288 with 1 Axes>"
      ]
     },
     "metadata": {
      "needs_background": "light"
     },
     "output_type": "display_data"
    }
   ],
   "source": [
    "df_pivot_diff.sort_values(\"stamp_2\", ascending = False)[\"stamp_2\"].head(10).plot.barh()"
   ]
  },
  {
   "cell_type": "code",
   "execution_count": null,
   "id": "extra-executive",
   "metadata": {
    "papermill": {
     "duration": 0.0221,
     "end_time": "2021-09-17T19:00:10.068145",
     "exception": false,
     "start_time": "2021-09-17T19:00:10.046045",
     "status": "completed"
    },
    "tags": []
   },
   "outputs": [],
   "source": []
  }
 ],
 "metadata": {
  "kernelspec": {
   "display_name": "Python 3",
   "language": "python",
   "name": "python3"
  },
  "language_info": {
   "codemirror_mode": {
    "name": "ipython",
    "version": 3
   },
   "file_extension": ".py",
   "mimetype": "text/x-python",
   "name": "python",
   "nbconvert_exporter": "python",
   "pygments_lexer": "ipython3",
   "version": "3.9.5"
  },
  "papermill": {
   "default_parameters": {},
   "duration": 6.573586,
   "end_time": "2021-09-17T19:00:10.710352",
   "environment_variables": {},
   "exception": null,
   "input_path": "eBay_Overview.ipynb",
   "output_path": "eBay_Overview.ipynb",
   "parameters": {},
   "start_time": "2021-09-17T19:00:04.136766",
   "version": "2.3.3"
  }
 },
 "nbformat": 4,
 "nbformat_minor": 5
}