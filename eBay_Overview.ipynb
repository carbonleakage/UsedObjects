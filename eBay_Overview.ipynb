{
 "cells": [
  {
   "cell_type": "code",
   "execution_count": 1,
   "id": "reverse-picking",
   "metadata": {
    "execution": {
     "iopub.execute_input": "2021-12-22T14:30:07.772053Z",
     "iopub.status.busy": "2021-12-22T14:30:07.769640Z",
     "iopub.status.idle": "2021-12-22T14:30:08.741672Z",
     "shell.execute_reply": "2021-12-22T14:30:08.744342Z"
    },
    "papermill": {
     "duration": 1.023717,
     "end_time": "2021-12-22T14:30:08.745447",
     "exception": false,
     "start_time": "2021-12-22T14:30:07.721730",
     "status": "completed"
    },
    "tags": []
   },
   "outputs": [],
   "source": [
    "import pandas as pd\n",
    "import sqlite3"
   ]
  },
  {
   "cell_type": "code",
   "execution_count": 2,
   "id": "innovative-syndrome",
   "metadata": {
    "execution": {
     "iopub.execute_input": "2021-12-22T14:30:08.812993Z",
     "iopub.status.busy": "2021-12-22T14:30:08.810509Z",
     "iopub.status.idle": "2021-12-22T14:30:09.949193Z",
     "shell.execute_reply": "2021-12-22T14:30:09.950634Z"
    },
    "papermill": {
     "duration": 1.172755,
     "end_time": "2021-12-22T14:30:09.951136",
     "exception": false,
     "start_time": "2021-12-22T14:30:08.778381",
     "status": "completed"
    },
    "tags": []
   },
   "outputs": [],
   "source": [
    "timestamps = pd.read_sql(\"select distinct record_time from EBAY_TOP_BERLIN order by record_time desc limit 2\", sqlite3.connect(\"UsedObjects.db\"))"
   ]
  },
  {
   "cell_type": "code",
   "execution_count": 3,
   "id": "periodic-identification",
   "metadata": {
    "execution": {
     "iopub.execute_input": "2021-12-22T14:30:10.053958Z",
     "iopub.status.busy": "2021-12-22T14:30:10.047873Z",
     "iopub.status.idle": "2021-12-22T14:30:10.071089Z",
     "shell.execute_reply": "2021-12-22T14:30:10.072516Z"
    },
    "papermill": {
     "duration": 0.080059,
     "end_time": "2021-12-22T14:30:10.073066",
     "exception": false,
     "start_time": "2021-12-22T14:30:09.993007",
     "status": "completed"
    },
    "tags": []
   },
   "outputs": [
    {
     "data": {
      "text/html": [
       "<div>\n",
       "<style scoped>\n",
       "    .dataframe tbody tr th:only-of-type {\n",
       "        vertical-align: middle;\n",
       "    }\n",
       "\n",
       "    .dataframe tbody tr th {\n",
       "        vertical-align: top;\n",
       "    }\n",
       "\n",
       "    .dataframe thead th {\n",
       "        text-align: right;\n",
       "    }\n",
       "</style>\n",
       "<table border=\"1\" class=\"dataframe\">\n",
       "  <thead>\n",
       "    <tr style=\"text-align: right;\">\n",
       "      <th></th>\n",
       "      <th>RECORD_TIME</th>\n",
       "    </tr>\n",
       "  </thead>\n",
       "  <tbody>\n",
       "    <tr>\n",
       "      <th>0</th>\n",
       "      <td>2021-12-22 15:30</td>\n",
       "    </tr>\n",
       "    <tr>\n",
       "      <th>1</th>\n",
       "      <td>2021-12-22 15:00</td>\n",
       "    </tr>\n",
       "  </tbody>\n",
       "</table>\n",
       "</div>"
      ],
      "text/plain": [
       "        RECORD_TIME\n",
       "0  2021-12-22 15:30\n",
       "1  2021-12-22 15:00"
      ]
     },
     "execution_count": 3,
     "metadata": {},
     "output_type": "execute_result"
    }
   ],
   "source": [
    "timestamps"
   ]
  },
  {
   "cell_type": "code",
   "execution_count": 4,
   "id": "alternate-victory",
   "metadata": {
    "execution": {
     "iopub.execute_input": "2021-12-22T14:30:10.130661Z",
     "iopub.status.busy": "2021-12-22T14:30:10.128235Z",
     "iopub.status.idle": "2021-12-22T14:30:11.783457Z",
     "shell.execute_reply": "2021-12-22T14:30:11.785100Z"
    },
    "papermill": {
     "duration": 1.690501,
     "end_time": "2021-12-22T14:30:11.785570",
     "exception": false,
     "start_time": "2021-12-22T14:30:10.095069",
     "status": "completed"
    },
    "tags": []
   },
   "outputs": [],
   "source": [
    "df = pd.read_sql(\"select * from EBAY_TOP_BERLIN where record_time in (select distinct record_time from EBAY_TOP_BERLIN order by record_time desc limit 2)\", sqlite3.connect(\"UsedObjects.db\"))"
   ]
  },
  {
   "cell_type": "code",
   "execution_count": 5,
   "id": "popular-active",
   "metadata": {
    "execution": {
     "iopub.execute_input": "2021-12-22T14:30:11.847884Z",
     "iopub.status.busy": "2021-12-22T14:30:11.845567Z",
     "iopub.status.idle": "2021-12-22T14:30:11.877416Z",
     "shell.execute_reply": "2021-12-22T14:30:11.878801Z"
    },
    "papermill": {
     "duration": 0.072774,
     "end_time": "2021-12-22T14:30:11.879277",
     "exception": false,
     "start_time": "2021-12-22T14:30:11.806503",
     "status": "completed"
    },
    "tags": []
   },
   "outputs": [],
   "source": [
    "df_pivot = df.pivot_table(index=\"PRODUCT\", columns = \"RECORD_TIME\", values = \"LISTING_COUNT\")"
   ]
  },
  {
   "cell_type": "code",
   "execution_count": 6,
   "id": "union-huntington",
   "metadata": {
    "execution": {
     "iopub.execute_input": "2021-12-22T14:30:11.942858Z",
     "iopub.status.busy": "2021-12-22T14:30:11.940403Z",
     "iopub.status.idle": "2021-12-22T14:30:11.949880Z",
     "shell.execute_reply": "2021-12-22T14:30:11.945964Z"
    },
    "papermill": {
     "duration": 0.049524,
     "end_time": "2021-12-22T14:30:11.950304",
     "exception": false,
     "start_time": "2021-12-22T14:30:11.900780",
     "status": "completed"
    },
    "tags": []
   },
   "outputs": [],
   "source": [
    "df_pivot.columns = [\"stamp_1\", \"stamp_2\"]\n",
    "df_pivot_diff = df_pivot.diff(axis=1)"
   ]
  },
  {
   "cell_type": "code",
   "execution_count": 7,
   "id": "fifth-motion",
   "metadata": {
    "execution": {
     "iopub.execute_input": "2021-12-22T14:30:12.009738Z",
     "iopub.status.busy": "2021-12-22T14:30:12.007174Z",
     "iopub.status.idle": "2021-12-22T14:30:13.974680Z",
     "shell.execute_reply": "2021-12-22T14:30:13.975900Z"
    },
    "papermill": {
     "duration": 2.004243,
     "end_time": "2021-12-22T14:30:13.976334",
     "exception": false,
     "start_time": "2021-12-22T14:30:11.972091",
     "status": "completed"
    },
    "tags": []
   },
   "outputs": [
    {
     "data": {
      "text/plain": [
       "<AxesSubplot:ylabel='PRODUCT'>"
      ]
     },
     "execution_count": 7,
     "metadata": {},
     "output_type": "execute_result"
    },
    {
     "data": {
      "image/png": "[encoded data removed]",
      "text/plain": [
       "<Figure size 432x288 with 1 Axes>"
      ]
     },
     "metadata": {
      "needs_background": "light"
     },
     "output_type": "display_data"
    }
   ],
   "source": [
    "df_pivot_diff.sort_values(\"stamp_2\", ascending = False)[\"stamp_2\"].head(10).plot.barh()"
   ]
  },
  {
   "cell_type": "code",
   "execution_count": null,
   "id": "extra-executive",
   "metadata": {
    "papermill": {
     "duration": 0.023034,
     "end_time": "2021-12-22T14:30:14.024819",
     "exception": false,
     "start_time": "2021-12-22T14:30:14.001785",
     "status": "completed"
    },
    "tags": []
   },
   "outputs": [],
   "source": []
  }
 ],
 "metadata": {
  "kernelspec": {
   "display_name": "Python 3",
   "language": "python",
   "name": "python3"
  },
  "language_info": {
   "codemirror_mode": {
    "name": "ipython",
    "version": 3
   },
   "file_extension": ".py",
   "mimetype": "text/x-python",
   "name": "python",
   "nbconvert_exporter": "python",
   "pygments_lexer": "ipython3",
   "version": "3.9.5"
  },
  "papermill": {
   "default_parameters": {},
   "duration": 9.696898,
   "end_time": "2021-12-22T14:30:14.669651",
   "environment_variables": {},
   "exception": null,
   "input_path": "eBay_Overview.ipynb",
   "output_path": "eBay_Overview.ipynb",
   "parameters": {},
   "start_time": "2021-12-22T14:30:04.972753",
   "version": "2.3.3"
  }
 },
 "nbformat": 4,
 "nbformat_minor": 5
}