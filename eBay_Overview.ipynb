{
 "cells": [
  {
   "cell_type": "code",
   "execution_count": 1,
   "id": "reverse-picking",
   "metadata": {
    "execution": {
     "iopub.execute_input": "2021-12-16T00:00:08.236117Z",
     "iopub.status.busy": "2021-12-16T00:00:08.233797Z",
     "iopub.status.idle": "2021-12-16T00:00:09.199421Z",
     "shell.execute_reply": "2021-12-16T00:00:09.200979Z"
    },
    "papermill": {
     "duration": 1.013675,
     "end_time": "2021-12-16T00:00:09.201717",
     "exception": false,
     "start_time": "2021-12-16T00:00:08.188042",
     "status": "completed"
    },
    "tags": []
   },
   "outputs": [],
   "source": [
    "import pandas as pd\n",
    "import sqlite3"
   ]
  },
  {
   "cell_type": "code",
   "execution_count": 2,
   "id": "innovative-syndrome",
   "metadata": {
    "execution": {
     "iopub.execute_input": "2021-12-16T00:00:09.323939Z",
     "iopub.status.busy": "2021-12-16T00:00:09.321802Z",
     "iopub.status.idle": "2021-12-16T00:00:10.445975Z",
     "shell.execute_reply": "2021-12-16T00:00:10.447530Z"
    },
    "papermill": {
     "duration": 1.158251,
     "end_time": "2021-12-16T00:00:10.448033",
     "exception": false,
     "start_time": "2021-12-16T00:00:09.289782",
     "status": "completed"
    },
    "tags": []
   },
   "outputs": [],
   "source": [
    "timestamps = pd.read_sql(\"select distinct record_time from EBAY_TOP_BERLIN order by record_time desc limit 2\", sqlite3.connect(\"UsedObjects.db\"))"
   ]
  },
  {
   "cell_type": "code",
   "execution_count": 3,
   "id": "periodic-identification",
   "metadata": {
    "execution": {
     "iopub.execute_input": "2021-12-16T00:00:10.518095Z",
     "iopub.status.busy": "2021-12-16T00:00:10.515723Z",
     "iopub.status.idle": "2021-12-16T00:00:10.539045Z",
     "shell.execute_reply": "2021-12-16T00:00:10.540536Z"
    },
    "papermill": {
     "duration": 0.072864,
     "end_time": "2021-12-16T00:00:10.541086",
     "exception": false,
     "start_time": "2021-12-16T00:00:10.468222",
     "status": "completed"
    },
    "tags": []
   },
   "outputs": [
    {
     "data": {
      "text/html": [
       "<div>\n",
       "<style scoped>\n",
       "    .dataframe tbody tr th:only-of-type {\n",
       "        vertical-align: middle;\n",
       "    }\n",
       "\n",
       "    .dataframe tbody tr th {\n",
       "        vertical-align: top;\n",
       "    }\n",
       "\n",
       "    .dataframe thead th {\n",
       "        text-align: right;\n",
       "    }\n",
       "</style>\n",
       "<table border=\"1\" class=\"dataframe\">\n",
       "  <thead>\n",
       "    <tr style=\"text-align: right;\">\n",
       "      <th></th>\n",
       "      <th>RECORD_TIME</th>\n",
       "    </tr>\n",
       "  </thead>\n",
       "  <tbody>\n",
       "    <tr>\n",
       "      <th>0</th>\n",
       "      <td>2021-12-16 01:00</td>\n",
       "    </tr>\n",
       "    <tr>\n",
       "      <th>1</th>\n",
       "      <td>2021-12-16 00:30</td>\n",
       "    </tr>\n",
       "  </tbody>\n",
       "</table>\n",
       "</div>"
      ],
      "text/plain": [
       "        RECORD_TIME\n",
       "0  2021-12-16 01:00\n",
       "1  2021-12-16 00:30"
      ]
     },
     "execution_count": 3,
     "metadata": {},
     "output_type": "execute_result"
    }
   ],
   "source": [
    "timestamps"
   ]
  },
  {
   "cell_type": "code",
   "execution_count": 4,
   "id": "alternate-victory",
   "metadata": {
    "execution": {
     "iopub.execute_input": "2021-12-16T00:00:10.596778Z",
     "iopub.status.busy": "2021-12-16T00:00:10.594350Z",
     "iopub.status.idle": "2021-12-16T00:00:12.167980Z",
     "shell.execute_reply": "2021-12-16T00:00:12.165989Z"
    },
    "papermill": {
     "duration": 1.606172,
     "end_time": "2021-12-16T00:00:12.168404",
     "exception": false,
     "start_time": "2021-12-16T00:00:10.562232",
     "status": "completed"
    },
    "tags": []
   },
   "outputs": [],
   "source": [
    "df = pd.read_sql(\"select * from EBAY_TOP_BERLIN where record_time in (select distinct record_time from EBAY_TOP_BERLIN order by record_time desc limit 2)\", sqlite3.connect(\"UsedObjects.db\"))"
   ]
  },
  {
   "cell_type": "code",
   "execution_count": 5,
   "id": "popular-active",
   "metadata": {
    "execution": {
     "iopub.execute_input": "2021-12-16T00:00:12.245831Z",
     "iopub.status.busy": "2021-12-16T00:00:12.231755Z",
     "iopub.status.idle": "2021-12-16T00:00:12.263509Z",
     "shell.execute_reply": "2021-12-16T00:00:12.264983Z"
    },
    "papermill": {
     "duration": 0.07455,
     "end_time": "2021-12-16T00:00:12.265468",
     "exception": false,
     "start_time": "2021-12-16T00:00:12.190918",
     "status": "completed"
    },
    "tags": []
   },
   "outputs": [],
   "source": [
    "df_pivot = df.pivot_table(index=\"PRODUCT\", columns = \"RECORD_TIME\", values = \"LISTING_COUNT\")"
   ]
  },
  {
   "cell_type": "code",
   "execution_count": 6,
   "id": "union-huntington",
   "metadata": {
    "execution": {
     "iopub.execute_input": "2021-12-16T00:00:12.325529Z",
     "iopub.status.busy": "2021-12-16T00:00:12.320500Z",
     "iopub.status.idle": "2021-12-16T00:00:12.327646Z",
     "shell.execute_reply": "2021-12-16T00:00:12.329220Z"
    },
    "papermill": {
     "duration": 0.044492,
     "end_time": "2021-12-16T00:00:12.329730",
     "exception": false,
     "start_time": "2021-12-16T00:00:12.285238",
     "status": "completed"
    },
    "tags": []
   },
   "outputs": [],
   "source": [
    "df_pivot.columns = [\"stamp_1\", \"stamp_2\"]\n",
    "df_pivot_diff = df_pivot.diff(axis=1)"
   ]
  },
  {
   "cell_type": "code",
   "execution_count": 7,
   "id": "fifth-motion",
   "metadata": {
    "execution": {
     "iopub.execute_input": "2021-12-16T00:00:12.391826Z",
     "iopub.status.busy": "2021-12-16T00:00:12.386372Z",
     "iopub.status.idle": "2021-12-16T00:00:14.366254Z",
     "shell.execute_reply": "2021-12-16T00:00:14.367629Z"
    },
    "papermill": {
     "duration": 2.017301,
     "end_time": "2021-12-16T00:00:14.368054",
     "exception": false,
     "start_time": "2021-12-16T00:00:12.350753",
     "status": "completed"
    },
    "tags": []
   },
   "outputs": [
    {
     "data": {
      "text/plain": [
       "<AxesSubplot:ylabel='PRODUCT'>"
      ]
     },
     "execution_count": 7,
     "metadata": {},
     "output_type": "execute_result"
    },
    {
     "data": {
      "image/png": "[encoded data removed]",
      "text/plain": [
       "<Figure size 432x288 with 1 Axes>"
      ]
     },
     "metadata": {
      "needs_background": "light"
     },
     "output_type": "display_data"
    }
   ],
   "source": [
    "df_pivot_diff.sort_values(\"stamp_2\", ascending = False)[\"stamp_2\"].head(10).plot.barh()"
   ]
  },
  {
   "cell_type": "code",
   "execution_count": null,
   "id": "extra-executive",
   "metadata": {
    "papermill": {
     "duration": 0.074082,
     "end_time": "2021-12-16T00:00:14.466944",
     "exception": false,
     "start_time": "2021-12-16T00:00:14.392862",
     "status": "completed"
    },
    "tags": []
   },
   "outputs": [],
   "source": []
  }
 ],
 "metadata": {
  "kernelspec": {
   "display_name": "Python 3",
   "language": "python",
   "name": "python3"
  },
  "language_info": {
   "codemirror_mode": {
    "name": "ipython",
    "version": 3
   },
   "file_extension": ".py",
   "mimetype": "text/x-python",
   "name": "python",
   "nbconvert_exporter": "python",
   "pygments_lexer": "ipython3",
   "version": "3.9.5"
  },
  "papermill": {
   "default_parameters": {},
   "duration": 9.65744,
   "end_time": "2021-12-16T00:00:15.116088",
   "environment_variables": {},
   "exception": null,
   "input_path": "eBay_Overview.ipynb",
   "output_path": "eBay_Overview.ipynb",
   "parameters": {},
   "start_time": "2021-12-16T00:00:05.458648",
   "version": "2.3.3"
  }
 },
 "nbformat": 4,
 "nbformat_minor": 5
}