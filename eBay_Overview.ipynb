{
 "cells": [
  {
   "cell_type": "code",
   "execution_count": 1,
   "id": "reverse-picking",
   "metadata": {
    "execution": {
     "iopub.execute_input": "2021-08-28T20:30:08.044312Z",
     "iopub.status.busy": "2021-08-28T20:30:08.042330Z",
     "iopub.status.idle": "2021-08-28T20:30:08.848138Z",
     "shell.execute_reply": "2021-08-28T20:30:08.846607Z"
    },
    "papermill": {
     "duration": 0.854242,
     "end_time": "2021-08-28T20:30:08.848597",
     "exception": false,
     "start_time": "2021-08-28T20:30:07.994355",
     "status": "completed"
    },
    "tags": []
   },
   "outputs": [],
   "source": [
    "import pandas as pd\n",
    "import sqlite3"
   ]
  },
  {
   "cell_type": "code",
   "execution_count": 2,
   "id": "innovative-syndrome",
   "metadata": {
    "execution": {
     "iopub.execute_input": "2021-08-28T20:30:08.898899Z",
     "iopub.status.busy": "2021-08-28T20:30:08.897035Z",
     "iopub.status.idle": "2021-08-28T20:30:09.050879Z",
     "shell.execute_reply": "2021-08-28T20:30:09.052084Z"
    },
    "papermill": {
     "duration": 0.183303,
     "end_time": "2021-08-28T20:30:09.052553",
     "exception": false,
     "start_time": "2021-08-28T20:30:08.869250",
     "status": "completed"
    },
    "tags": []
   },
   "outputs": [],
   "source": [
    "timestamps = pd.read_sql(\"select distinct record_time from EBAY_TOP_BERLIN order by record_time desc limit 2\", sqlite3.connect(\"UsedObjects.db\"))"
   ]
  },
  {
   "cell_type": "code",
   "execution_count": 3,
   "id": "periodic-identification",
   "metadata": {
    "execution": {
     "iopub.execute_input": "2021-08-28T20:30:09.115525Z",
     "iopub.status.busy": "2021-08-28T20:30:09.113481Z",
     "iopub.status.idle": "2021-08-28T20:30:09.134388Z",
     "shell.execute_reply": "2021-08-28T20:30:09.135502Z"
    },
    "papermill": {
     "duration": 0.064188,
     "end_time": "2021-08-28T20:30:09.135924",
     "exception": false,
     "start_time": "2021-08-28T20:30:09.071736",
     "status": "completed"
    },
    "tags": []
   },
   "outputs": [
    {
     "data": {
      "text/html": [
       "<div>\n",
       "<style scoped>\n",
       "    .dataframe tbody tr th:only-of-type {\n",
       "        vertical-align: middle;\n",
       "    }\n",
       "\n",
       "    .dataframe tbody tr th {\n",
       "        vertical-align: top;\n",
       "    }\n",
       "\n",
       "    .dataframe thead th {\n",
       "        text-align: right;\n",
       "    }\n",
       "</style>\n",
       "<table border=\"1\" class=\"dataframe\">\n",
       "  <thead>\n",
       "    <tr style=\"text-align: right;\">\n",
       "      <th></th>\n",
       "      <th>RECORD_TIME</th>\n",
       "    </tr>\n",
       "  </thead>\n",
       "  <tbody>\n",
       "    <tr>\n",
       "      <th>0</th>\n",
       "      <td>2021-08-28 22:30</td>\n",
       "    </tr>\n",
       "    <tr>\n",
       "      <th>1</th>\n",
       "      <td>2021-08-28 22:00</td>\n",
       "    </tr>\n",
       "  </tbody>\n",
       "</table>\n",
       "</div>"
      ],
      "text/plain": [
       "        RECORD_TIME\n",
       "0  2021-08-28 22:30\n",
       "1  2021-08-28 22:00"
      ]
     },
     "execution_count": 3,
     "metadata": {},
     "output_type": "execute_result"
    }
   ],
   "source": [
    "timestamps"
   ]
  },
  {
   "cell_type": "code",
   "execution_count": 4,
   "id": "alternate-victory",
   "metadata": {
    "execution": {
     "iopub.execute_input": "2021-08-28T20:30:09.188502Z",
     "iopub.status.busy": "2021-08-28T20:30:09.186152Z",
     "iopub.status.idle": "2021-08-28T20:30:09.413430Z",
     "shell.execute_reply": "2021-08-28T20:30:09.414959Z"
    },
    "papermill": {
     "duration": 0.257925,
     "end_time": "2021-08-28T20:30:09.415431",
     "exception": false,
     "start_time": "2021-08-28T20:30:09.157506",
     "status": "completed"
    },
    "tags": []
   },
   "outputs": [],
   "source": [
    "df = pd.read_sql(\"select * from EBAY_TOP_BERLIN where record_time in (select distinct record_time from EBAY_TOP_BERLIN order by record_time desc limit 2)\", sqlite3.connect(\"UsedObjects.db\"))"
   ]
  },
  {
   "cell_type": "code",
   "execution_count": 5,
   "id": "popular-active",
   "metadata": {
    "execution": {
     "iopub.execute_input": "2021-08-28T20:30:09.486517Z",
     "iopub.status.busy": "2021-08-28T20:30:09.474165Z",
     "iopub.status.idle": "2021-08-28T20:30:09.505521Z",
     "shell.execute_reply": "2021-08-28T20:30:09.503800Z"
    },
    "papermill": {
     "duration": 0.069434,
     "end_time": "2021-08-28T20:30:09.505931",
     "exception": false,
     "start_time": "2021-08-28T20:30:09.436497",
     "status": "completed"
    },
    "tags": []
   },
   "outputs": [],
   "source": [
    "df_pivot = df.pivot_table(index=\"PRODUCT\", columns = \"RECORD_TIME\", values = \"LISTING_COUNT\")"
   ]
  },
  {
   "cell_type": "code",
   "execution_count": 6,
   "id": "union-huntington",
   "metadata": {
    "execution": {
     "iopub.execute_input": "2021-08-28T20:30:09.582236Z",
     "iopub.status.busy": "2021-08-28T20:30:09.579677Z",
     "iopub.status.idle": "2021-08-28T20:30:09.585329Z",
     "shell.execute_reply": "2021-08-28T20:30:09.586617Z"
    },
    "papermill": {
     "duration": 0.048877,
     "end_time": "2021-08-28T20:30:09.587042",
     "exception": false,
     "start_time": "2021-08-28T20:30:09.538165",
     "status": "completed"
    },
    "tags": []
   },
   "outputs": [],
   "source": [
    "df_pivot.columns = [\"stamp_1\", \"stamp_2\"]\n",
    "df_pivot_diff = df_pivot.diff(axis=1)"
   ]
  },
  {
   "cell_type": "code",
   "execution_count": 7,
   "id": "fifth-motion",
   "metadata": {
    "execution": {
     "iopub.execute_input": "2021-08-28T20:30:09.640736Z",
     "iopub.status.busy": "2021-08-28T20:30:09.638361Z",
     "iopub.status.idle": "2021-08-28T20:30:11.116043Z",
     "shell.execute_reply": "2021-08-28T20:30:11.117802Z"
    },
    "papermill": {
     "duration": 1.510412,
     "end_time": "2021-08-28T20:30:11.118314",
     "exception": false,
     "start_time": "2021-08-28T20:30:09.607902",
     "status": "completed"
    },
    "tags": []
   },
   "outputs": [
    {
     "data": {
      "text/plain": [
       "<AxesSubplot:ylabel='PRODUCT'>"
      ]
     },
     "execution_count": 7,
     "metadata": {},
     "output_type": "execute_result"
    },
    {
     "data": {
      "image/png": "[encoded data removed]",
      "text/plain": [
       "<Figure size 432x288 with 1 Axes>"
      ]
     },
     "metadata": {
      "needs_background": "light"
     },
     "output_type": "display_data"
    }
   ],
   "source": [
    "df_pivot_diff.sort_values(\"stamp_2\", ascending = False)[\"stamp_2\"].head(10).plot.barh()"
   ]
  },
  {
   "cell_type": "code",
   "execution_count": null,
   "id": "extra-executive",
   "metadata": {
    "papermill": {
     "duration": 0.022,
     "end_time": "2021-08-28T20:30:11.164628",
     "exception": false,
     "start_time": "2021-08-28T20:30:11.142628",
     "status": "completed"
    },
    "tags": []
   },
   "outputs": [],
   "source": []
  }
 ],
 "metadata": {
  "kernelspec": {
   "display_name": "Python 3",
   "language": "python",
   "name": "python3"
  },
  "language_info": {
   "codemirror_mode": {
    "name": "ipython",
    "version": 3
   },
   "file_extension": ".py",
   "mimetype": "text/x-python",
   "name": "python",
   "nbconvert_exporter": "python",
   "pygments_lexer": "ipython3",
   "version": "3.9.5"
  },
  "papermill": {
   "default_parameters": {},
   "duration": 6.816126,
   "end_time": "2021-08-28T20:30:12.411269",
   "environment_variables": {},
   "exception": null,
   "input_path": "eBay_Overview.ipynb",
   "output_path": "eBay_Overview.ipynb",
   "parameters": {},
   "start_time": "2021-08-28T20:30:05.595143",
   "version": "2.3.3"
  }
 },
 "nbformat": 4,
 "nbformat_minor": 5
}