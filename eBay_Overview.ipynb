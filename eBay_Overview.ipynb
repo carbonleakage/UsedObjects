{
 "cells": [
  {
   "cell_type": "code",
   "execution_count": 1,
   "id": "reverse-picking",
   "metadata": {
    "execution": {
     "iopub.execute_input": "2021-12-20T01:00:07.658568Z",
     "iopub.status.busy": "2021-12-20T01:00:07.655847Z",
     "iopub.status.idle": "2021-12-20T01:00:08.628108Z",
     "shell.execute_reply": "2021-12-20T01:00:08.629808Z"
    },
    "papermill": {
     "duration": 1.009907,
     "end_time": "2021-12-20T01:00:08.630566",
     "exception": false,
     "start_time": "2021-12-20T01:00:07.620659",
     "status": "completed"
    },
    "tags": []
   },
   "outputs": [],
   "source": [
    "import pandas as pd\n",
    "import sqlite3"
   ]
  },
  {
   "cell_type": "code",
   "execution_count": 2,
   "id": "innovative-syndrome",
   "metadata": {
    "execution": {
     "iopub.execute_input": "2021-12-20T01:00:08.701563Z",
     "iopub.status.busy": "2021-12-20T01:00:08.699162Z",
     "iopub.status.idle": "2021-12-20T01:00:09.836915Z",
     "shell.execute_reply": "2021-12-20T01:00:09.838230Z"
    },
    "papermill": {
     "duration": 1.172433,
     "end_time": "2021-12-20T01:00:09.838652",
     "exception": false,
     "start_time": "2021-12-20T01:00:08.666219",
     "status": "completed"
    },
    "tags": []
   },
   "outputs": [],
   "source": [
    "timestamps = pd.read_sql(\"select distinct record_time from EBAY_TOP_BERLIN order by record_time desc limit 2\", sqlite3.connect(\"UsedObjects.db\"))"
   ]
  },
  {
   "cell_type": "code",
   "execution_count": 3,
   "id": "periodic-identification",
   "metadata": {
    "execution": {
     "iopub.execute_input": "2021-12-20T01:00:09.902889Z",
     "iopub.status.busy": "2021-12-20T01:00:09.900861Z",
     "iopub.status.idle": "2021-12-20T01:00:09.922407Z",
     "shell.execute_reply": "2021-12-20T01:00:09.920793Z"
    },
    "papermill": {
     "duration": 0.064491,
     "end_time": "2021-12-20T01:00:09.922806",
     "exception": false,
     "start_time": "2021-12-20T01:00:09.858315",
     "status": "completed"
    },
    "tags": []
   },
   "outputs": [
    {
     "data": {
      "text/html": [
       "<div>\n",
       "<style scoped>\n",
       "    .dataframe tbody tr th:only-of-type {\n",
       "        vertical-align: middle;\n",
       "    }\n",
       "\n",
       "    .dataframe tbody tr th {\n",
       "        vertical-align: top;\n",
       "    }\n",
       "\n",
       "    .dataframe thead th {\n",
       "        text-align: right;\n",
       "    }\n",
       "</style>\n",
       "<table border=\"1\" class=\"dataframe\">\n",
       "  <thead>\n",
       "    <tr style=\"text-align: right;\">\n",
       "      <th></th>\n",
       "      <th>RECORD_TIME</th>\n",
       "    </tr>\n",
       "  </thead>\n",
       "  <tbody>\n",
       "    <tr>\n",
       "      <th>0</th>\n",
       "      <td>2021-12-20 02:00</td>\n",
       "    </tr>\n",
       "    <tr>\n",
       "      <th>1</th>\n",
       "      <td>2021-12-20 01:30</td>\n",
       "    </tr>\n",
       "  </tbody>\n",
       "</table>\n",
       "</div>"
      ],
      "text/plain": [
       "        RECORD_TIME\n",
       "0  2021-12-20 02:00\n",
       "1  2021-12-20 01:30"
      ]
     },
     "execution_count": 3,
     "metadata": {},
     "output_type": "execute_result"
    }
   ],
   "source": [
    "timestamps"
   ]
  },
  {
   "cell_type": "code",
   "execution_count": 4,
   "id": "alternate-victory",
   "metadata": {
    "execution": {
     "iopub.execute_input": "2021-12-20T01:00:09.978390Z",
     "iopub.status.busy": "2021-12-20T01:00:09.976160Z",
     "iopub.status.idle": "2021-12-20T01:00:11.625618Z",
     "shell.execute_reply": "2021-12-20T01:00:11.627662Z"
    },
    "papermill": {
     "duration": 1.682813,
     "end_time": "2021-12-20T01:00:11.628134",
     "exception": false,
     "start_time": "2021-12-20T01:00:09.945321",
     "status": "completed"
    },
    "tags": []
   },
   "outputs": [],
   "source": [
    "df = pd.read_sql(\"select * from EBAY_TOP_BERLIN where record_time in (select distinct record_time from EBAY_TOP_BERLIN order by record_time desc limit 2)\", sqlite3.connect(\"UsedObjects.db\"))"
   ]
  },
  {
   "cell_type": "code",
   "execution_count": 5,
   "id": "popular-active",
   "metadata": {
    "execution": {
     "iopub.execute_input": "2021-12-20T01:00:11.693144Z",
     "iopub.status.busy": "2021-12-20T01:00:11.690363Z",
     "iopub.status.idle": "2021-12-20T01:00:11.723200Z",
     "shell.execute_reply": "2021-12-20T01:00:11.724580Z"
    },
    "papermill": {
     "duration": 0.076053,
     "end_time": "2021-12-20T01:00:11.725127",
     "exception": false,
     "start_time": "2021-12-20T01:00:11.649074",
     "status": "completed"
    },
    "tags": []
   },
   "outputs": [],
   "source": [
    "df_pivot = df.pivot_table(index=\"PRODUCT\", columns = \"RECORD_TIME\", values = \"LISTING_COUNT\")"
   ]
  },
  {
   "cell_type": "code",
   "execution_count": 6,
   "id": "union-huntington",
   "metadata": {
    "execution": {
     "iopub.execute_input": "2021-12-20T01:00:11.783689Z",
     "iopub.status.busy": "2021-12-20T01:00:11.781439Z",
     "iopub.status.idle": "2021-12-20T01:00:11.788803Z",
     "shell.execute_reply": "2021-12-20T01:00:11.787274Z"
    },
    "papermill": {
     "duration": 0.043904,
     "end_time": "2021-12-20T01:00:11.789218",
     "exception": false,
     "start_time": "2021-12-20T01:00:11.745314",
     "status": "completed"
    },
    "tags": []
   },
   "outputs": [],
   "source": [
    "df_pivot.columns = [\"stamp_1\", \"stamp_2\"]\n",
    "df_pivot_diff = df_pivot.diff(axis=1)"
   ]
  },
  {
   "cell_type": "code",
   "execution_count": 7,
   "id": "fifth-motion",
   "metadata": {
    "execution": {
     "iopub.execute_input": "2021-12-20T01:00:11.849050Z",
     "iopub.status.busy": "2021-12-20T01:00:11.846100Z",
     "iopub.status.idle": "2021-12-20T01:00:13.467519Z",
     "shell.execute_reply": "2021-12-20T01:00:13.468773Z"
    },
    "papermill": {
     "duration": 1.659293,
     "end_time": "2021-12-20T01:00:13.469229",
     "exception": false,
     "start_time": "2021-12-20T01:00:11.809936",
     "status": "completed"
    },
    "tags": []
   },
   "outputs": [
    {
     "data": {
      "text/plain": [
       "<AxesSubplot:ylabel='PRODUCT'>"
      ]
     },
     "execution_count": 7,
     "metadata": {},
     "output_type": "execute_result"
    },
    {
     "data": {
      "image/png": "[encoded data removed]",
      "text/plain": [
       "<Figure size 432x288 with 1 Axes>"
      ]
     },
     "metadata": {
      "needs_background": "light"
     },
     "output_type": "display_data"
    }
   ],
   "source": [
    "df_pivot_diff.sort_values(\"stamp_2\", ascending = False)[\"stamp_2\"].head(10).plot.barh()"
   ]
  },
  {
   "cell_type": "code",
   "execution_count": null,
   "id": "extra-executive",
   "metadata": {
    "papermill": {
     "duration": 0.022163,
     "end_time": "2021-12-20T01:00:13.515568",
     "exception": false,
     "start_time": "2021-12-20T01:00:13.493405",
     "status": "completed"
    },
    "tags": []
   },
   "outputs": [],
   "source": []
  }
 ],
 "metadata": {
  "kernelspec": {
   "display_name": "Python 3",
   "language": "python",
   "name": "python3"
  },
  "language_info": {
   "codemirror_mode": {
    "name": "ipython",
    "version": 3
   },
   "file_extension": ".py",
   "mimetype": "text/x-python",
   "name": "python",
   "nbconvert_exporter": "python",
   "pygments_lexer": "ipython3",
   "version": "3.9.5"
  },
  "papermill": {
   "default_parameters": {},
   "duration": 9.952031,
   "end_time": "2021-12-20T01:00:14.835164",
   "environment_variables": {},
   "exception": null,
   "input_path": "eBay_Overview.ipynb",
   "output_path": "eBay_Overview.ipynb",
   "parameters": {},
   "start_time": "2021-12-20T01:00:04.883133",
   "version": "2.3.3"
  }
 },
 "nbformat": 4,
 "nbformat_minor": 5
}