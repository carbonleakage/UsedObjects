{
 "cells": [
  {
   "cell_type": "code",
   "execution_count": 1,
   "id": "reverse-picking",
   "metadata": {
    "execution": {
     "iopub.execute_input": "2021-11-26T06:00:07.819774Z",
     "iopub.status.busy": "2021-11-26T06:00:07.801379Z",
     "iopub.status.idle": "2021-11-26T06:00:08.767657Z",
     "shell.execute_reply": "2021-11-26T06:00:08.769801Z"
    },
    "papermill": {
     "duration": 1.002866,
     "end_time": "2021-11-26T06:00:08.770534",
     "exception": false,
     "start_time": "2021-11-26T06:00:07.767668",
     "status": "completed"
    },
    "tags": []
   },
   "outputs": [],
   "source": [
    "import pandas as pd\n",
    "import sqlite3"
   ]
  },
  {
   "cell_type": "code",
   "execution_count": 2,
   "id": "innovative-syndrome",
   "metadata": {
    "execution": {
     "iopub.execute_input": "2021-11-26T06:00:08.832031Z",
     "iopub.status.busy": "2021-11-26T06:00:08.829626Z",
     "iopub.status.idle": "2021-11-26T06:00:09.788289Z",
     "shell.execute_reply": "2021-11-26T06:00:09.789733Z"
    },
    "papermill": {
     "duration": 0.992066,
     "end_time": "2021-11-26T06:00:09.790207",
     "exception": false,
     "start_time": "2021-11-26T06:00:08.798141",
     "status": "completed"
    },
    "tags": []
   },
   "outputs": [],
   "source": [
    "timestamps = pd.read_sql(\"select distinct record_time from EBAY_TOP_BERLIN order by record_time desc limit 2\", sqlite3.connect(\"UsedObjects.db\"))"
   ]
  },
  {
   "cell_type": "code",
   "execution_count": 3,
   "id": "periodic-identification",
   "metadata": {
    "execution": {
     "iopub.execute_input": "2021-11-26T06:00:09.863201Z",
     "iopub.status.busy": "2021-11-26T06:00:09.860649Z",
     "iopub.status.idle": "2021-11-26T06:00:09.883734Z",
     "shell.execute_reply": "2021-11-26T06:00:09.885304Z"
    },
    "papermill": {
     "duration": 0.07539,
     "end_time": "2021-11-26T06:00:09.885796",
     "exception": false,
     "start_time": "2021-11-26T06:00:09.810406",
     "status": "completed"
    },
    "tags": []
   },
   "outputs": [
    {
     "data": {
      "text/html": [
       "<div>\n",
       "<style scoped>\n",
       "    .dataframe tbody tr th:only-of-type {\n",
       "        vertical-align: middle;\n",
       "    }\n",
       "\n",
       "    .dataframe tbody tr th {\n",
       "        vertical-align: top;\n",
       "    }\n",
       "\n",
       "    .dataframe thead th {\n",
       "        text-align: right;\n",
       "    }\n",
       "</style>\n",
       "<table border=\"1\" class=\"dataframe\">\n",
       "  <thead>\n",
       "    <tr style=\"text-align: right;\">\n",
       "      <th></th>\n",
       "      <th>RECORD_TIME</th>\n",
       "    </tr>\n",
       "  </thead>\n",
       "  <tbody>\n",
       "    <tr>\n",
       "      <th>0</th>\n",
       "      <td>2021-11-26 07:00</td>\n",
       "    </tr>\n",
       "    <tr>\n",
       "      <th>1</th>\n",
       "      <td>2021-11-26 06:30</td>\n",
       "    </tr>\n",
       "  </tbody>\n",
       "</table>\n",
       "</div>"
      ],
      "text/plain": [
       "        RECORD_TIME\n",
       "0  2021-11-26 07:00\n",
       "1  2021-11-26 06:30"
      ]
     },
     "execution_count": 3,
     "metadata": {},
     "output_type": "execute_result"
    }
   ],
   "source": [
    "timestamps"
   ]
  },
  {
   "cell_type": "code",
   "execution_count": 4,
   "id": "alternate-victory",
   "metadata": {
    "execution": {
     "iopub.execute_input": "2021-11-26T06:00:09.937428Z",
     "iopub.status.busy": "2021-11-26T06:00:09.935487Z",
     "iopub.status.idle": "2021-11-26T06:00:11.303130Z",
     "shell.execute_reply": "2021-11-26T06:00:11.304623Z"
    },
    "papermill": {
     "duration": 1.397958,
     "end_time": "2021-11-26T06:00:11.305172",
     "exception": false,
     "start_time": "2021-11-26T06:00:09.907214",
     "status": "completed"
    },
    "tags": []
   },
   "outputs": [],
   "source": [
    "df = pd.read_sql(\"select * from EBAY_TOP_BERLIN where record_time in (select distinct record_time from EBAY_TOP_BERLIN order by record_time desc limit 2)\", sqlite3.connect(\"UsedObjects.db\"))"
   ]
  },
  {
   "cell_type": "code",
   "execution_count": 5,
   "id": "popular-active",
   "metadata": {
    "execution": {
     "iopub.execute_input": "2021-11-26T06:00:11.374323Z",
     "iopub.status.busy": "2021-11-26T06:00:11.365873Z",
     "iopub.status.idle": "2021-11-26T06:00:11.398298Z",
     "shell.execute_reply": "2021-11-26T06:00:11.399744Z"
    },
    "papermill": {
     "duration": 0.073038,
     "end_time": "2021-11-26T06:00:11.400201",
     "exception": false,
     "start_time": "2021-11-26T06:00:11.327163",
     "status": "completed"
    },
    "tags": []
   },
   "outputs": [],
   "source": [
    "df_pivot = df.pivot_table(index=\"PRODUCT\", columns = \"RECORD_TIME\", values = \"LISTING_COUNT\")"
   ]
  },
  {
   "cell_type": "code",
   "execution_count": 6,
   "id": "union-huntington",
   "metadata": {
    "execution": {
     "iopub.execute_input": "2021-11-26T06:00:11.463584Z",
     "iopub.status.busy": "2021-11-26T06:00:11.461221Z",
     "iopub.status.idle": "2021-11-26T06:00:11.467247Z",
     "shell.execute_reply": "2021-11-26T06:00:11.468986Z"
    },
    "papermill": {
     "duration": 0.048577,
     "end_time": "2021-11-26T06:00:11.469492",
     "exception": false,
     "start_time": "2021-11-26T06:00:11.420915",
     "status": "completed"
    },
    "tags": []
   },
   "outputs": [],
   "source": [
    "df_pivot.columns = [\"stamp_1\", \"stamp_2\"]\n",
    "df_pivot_diff = df_pivot.diff(axis=1)"
   ]
  },
  {
   "cell_type": "code",
   "execution_count": 7,
   "id": "fifth-motion",
   "metadata": {
    "execution": {
     "iopub.execute_input": "2021-11-26T06:00:11.534711Z",
     "iopub.status.busy": "2021-11-26T06:00:11.531129Z",
     "iopub.status.idle": "2021-11-26T06:00:13.462616Z",
     "shell.execute_reply": "2021-11-26T06:00:13.465357Z"
    },
    "papermill": {
     "duration": 1.975003,
     "end_time": "2021-11-26T06:00:13.465981",
     "exception": false,
     "start_time": "2021-11-26T06:00:11.490978",
     "status": "completed"
    },
    "tags": []
   },
   "outputs": [
    {
     "data": {
      "text/plain": [
       "<AxesSubplot:ylabel='PRODUCT'>"
      ]
     },
     "execution_count": 7,
     "metadata": {},
     "output_type": "execute_result"
    },
    {
     "data": {
      "image/png": "[encoded data removed]",
      "text/plain": [
       "<Figure size 432x288 with 1 Axes>"
      ]
     },
     "metadata": {
      "needs_background": "light"
     },
     "output_type": "display_data"
    }
   ],
   "source": [
    "df_pivot_diff.sort_values(\"stamp_2\", ascending = False)[\"stamp_2\"].head(10).plot.barh()"
   ]
  },
  {
   "cell_type": "code",
   "execution_count": null,
   "id": "extra-executive",
   "metadata": {
    "papermill": {
     "duration": 0.027336,
     "end_time": "2021-11-26T06:00:13.525696",
     "exception": false,
     "start_time": "2021-11-26T06:00:13.498360",
     "status": "completed"
    },
    "tags": []
   },
   "outputs": [],
   "source": []
  }
 ],
 "metadata": {
  "kernelspec": {
   "display_name": "Python 3",
   "language": "python",
   "name": "python3"
  },
  "language_info": {
   "codemirror_mode": {
    "name": "ipython",
    "version": 3
   },
   "file_extension": ".py",
   "mimetype": "text/x-python",
   "name": "python",
   "nbconvert_exporter": "python",
   "pygments_lexer": "ipython3",
   "version": "3.9.5"
  },
  "papermill": {
   "default_parameters": {},
   "duration": 9.93288,
   "end_time": "2021-11-26T06:00:14.984326",
   "environment_variables": {},
   "exception": null,
   "input_path": "eBay_Overview.ipynb",
   "output_path": "eBay_Overview.ipynb",
   "parameters": {},
   "start_time": "2021-11-26T06:00:05.051446",
   "version": "2.3.3"
  }
 },
 "nbformat": 4,
 "nbformat_minor": 5
}