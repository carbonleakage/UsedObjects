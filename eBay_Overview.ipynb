{
 "cells": [
  {
   "cell_type": "code",
   "execution_count": 1,
   "id": "reverse-picking",
   "metadata": {
    "execution": {
     "iopub.execute_input": "2021-09-27T18:00:07.362831Z",
     "iopub.status.busy": "2021-09-27T18:00:07.360829Z",
     "iopub.status.idle": "2021-09-27T18:00:08.171185Z",
     "shell.execute_reply": "2021-09-27T18:00:08.172460Z"
    },
    "papermill": {
     "duration": 0.863543,
     "end_time": "2021-09-27T18:00:08.173080",
     "exception": false,
     "start_time": "2021-09-27T18:00:07.309537",
     "status": "completed"
    },
    "tags": []
   },
   "outputs": [],
   "source": [
    "import pandas as pd\n",
    "import sqlite3"
   ]
  },
  {
   "cell_type": "code",
   "execution_count": 2,
   "id": "innovative-syndrome",
   "metadata": {
    "execution": {
     "iopub.execute_input": "2021-09-27T18:00:08.227389Z",
     "iopub.status.busy": "2021-09-27T18:00:08.224986Z",
     "iopub.status.idle": "2021-09-27T18:00:08.613782Z",
     "shell.execute_reply": "2021-09-27T18:00:08.615079Z"
    },
    "papermill": {
     "duration": 0.419006,
     "end_time": "2021-09-27T18:00:08.615528",
     "exception": false,
     "start_time": "2021-09-27T18:00:08.196522",
     "status": "completed"
    },
    "tags": []
   },
   "outputs": [],
   "source": [
    "timestamps = pd.read_sql(\"select distinct record_time from EBAY_TOP_BERLIN order by record_time desc limit 2\", sqlite3.connect(\"UsedObjects.db\"))"
   ]
  },
  {
   "cell_type": "code",
   "execution_count": 3,
   "id": "periodic-identification",
   "metadata": {
    "execution": {
     "iopub.execute_input": "2021-09-27T18:00:08.680203Z",
     "iopub.status.busy": "2021-09-27T18:00:08.678110Z",
     "iopub.status.idle": "2021-09-27T18:00:08.698011Z",
     "shell.execute_reply": "2021-09-27T18:00:08.699514Z"
    },
    "papermill": {
     "duration": 0.064717,
     "end_time": "2021-09-27T18:00:08.699953",
     "exception": false,
     "start_time": "2021-09-27T18:00:08.635236",
     "status": "completed"
    },
    "tags": []
   },
   "outputs": [
    {
     "data": {
      "text/html": [
       "<div>\n",
       "<style scoped>\n",
       "    .dataframe tbody tr th:only-of-type {\n",
       "        vertical-align: middle;\n",
       "    }\n",
       "\n",
       "    .dataframe tbody tr th {\n",
       "        vertical-align: top;\n",
       "    }\n",
       "\n",
       "    .dataframe thead th {\n",
       "        text-align: right;\n",
       "    }\n",
       "</style>\n",
       "<table border=\"1\" class=\"dataframe\">\n",
       "  <thead>\n",
       "    <tr style=\"text-align: right;\">\n",
       "      <th></th>\n",
       "      <th>RECORD_TIME</th>\n",
       "    </tr>\n",
       "  </thead>\n",
       "  <tbody>\n",
       "    <tr>\n",
       "      <th>0</th>\n",
       "      <td>2021-09-27 20:00</td>\n",
       "    </tr>\n",
       "    <tr>\n",
       "      <th>1</th>\n",
       "      <td>2021-09-27 19:30</td>\n",
       "    </tr>\n",
       "  </tbody>\n",
       "</table>\n",
       "</div>"
      ],
      "text/plain": [
       "        RECORD_TIME\n",
       "0  2021-09-27 20:00\n",
       "1  2021-09-27 19:30"
      ]
     },
     "execution_count": 3,
     "metadata": {},
     "output_type": "execute_result"
    }
   ],
   "source": [
    "timestamps"
   ]
  },
  {
   "cell_type": "code",
   "execution_count": 4,
   "id": "alternate-victory",
   "metadata": {
    "execution": {
     "iopub.execute_input": "2021-09-27T18:00:08.754934Z",
     "iopub.status.busy": "2021-09-27T18:00:08.752984Z",
     "iopub.status.idle": "2021-09-27T18:00:09.321476Z",
     "shell.execute_reply": "2021-09-27T18:00:09.322601Z"
    },
    "papermill": {
     "duration": 0.599214,
     "end_time": "2021-09-27T18:00:09.323202",
     "exception": false,
     "start_time": "2021-09-27T18:00:08.723988",
     "status": "completed"
    },
    "tags": []
   },
   "outputs": [],
   "source": [
    "df = pd.read_sql(\"select * from EBAY_TOP_BERLIN where record_time in (select distinct record_time from EBAY_TOP_BERLIN order by record_time desc limit 2)\", sqlite3.connect(\"UsedObjects.db\"))"
   ]
  },
  {
   "cell_type": "code",
   "execution_count": 5,
   "id": "popular-active",
   "metadata": {
    "execution": {
     "iopub.execute_input": "2021-09-27T18:00:09.407500Z",
     "iopub.status.busy": "2021-09-27T18:00:09.394623Z",
     "iopub.status.idle": "2021-09-27T18:00:09.423772Z",
     "shell.execute_reply": "2021-09-27T18:00:09.425145Z"
    },
    "papermill": {
     "duration": 0.074042,
     "end_time": "2021-09-27T18:00:09.425577",
     "exception": false,
     "start_time": "2021-09-27T18:00:09.351535",
     "status": "completed"
    },
    "tags": []
   },
   "outputs": [],
   "source": [
    "df_pivot = df.pivot_table(index=\"PRODUCT\", columns = \"RECORD_TIME\", values = \"LISTING_COUNT\")"
   ]
  },
  {
   "cell_type": "code",
   "execution_count": 6,
   "id": "union-huntington",
   "metadata": {
    "execution": {
     "iopub.execute_input": "2021-09-27T18:00:09.486617Z",
     "iopub.status.busy": "2021-09-27T18:00:09.484218Z",
     "iopub.status.idle": "2021-09-27T18:00:09.490044Z",
     "shell.execute_reply": "2021-09-27T18:00:09.491379Z"
    },
    "papermill": {
     "duration": 0.042674,
     "end_time": "2021-09-27T18:00:09.491795",
     "exception": false,
     "start_time": "2021-09-27T18:00:09.449121",
     "status": "completed"
    },
    "tags": []
   },
   "outputs": [],
   "source": [
    "df_pivot.columns = [\"stamp_1\", \"stamp_2\"]\n",
    "df_pivot_diff = df_pivot.diff(axis=1)"
   ]
  },
  {
   "cell_type": "code",
   "execution_count": 7,
   "id": "fifth-motion",
   "metadata": {
    "execution": {
     "iopub.execute_input": "2021-09-27T18:00:09.546076Z",
     "iopub.status.busy": "2021-09-27T18:00:09.543871Z",
     "iopub.status.idle": "2021-09-27T18:00:11.010123Z",
     "shell.execute_reply": "2021-09-27T18:00:11.011612Z"
    },
    "papermill": {
     "duration": 1.499411,
     "end_time": "2021-09-27T18:00:11.012047",
     "exception": false,
     "start_time": "2021-09-27T18:00:09.512636",
     "status": "completed"
    },
    "tags": []
   },
   "outputs": [
    {
     "data": {
      "text/plain": [
       "<AxesSubplot:ylabel='PRODUCT'>"
      ]
     },
     "execution_count": 7,
     "metadata": {},
     "output_type": "execute_result"
    },
    {
     "data": {
      "image/png": "[encoded data removed]",
      "text/plain": [
       "<Figure size 432x288 with 1 Axes>"
      ]
     },
     "metadata": {
      "needs_background": "light"
     },
     "output_type": "display_data"
    }
   ],
   "source": [
    "df_pivot_diff.sort_values(\"stamp_2\", ascending = False)[\"stamp_2\"].head(10).plot.barh()"
   ]
  },
  {
   "cell_type": "code",
   "execution_count": null,
   "id": "extra-executive",
   "metadata": {
    "papermill": {
     "duration": 0.022596,
     "end_time": "2021-09-27T18:00:11.060642",
     "exception": false,
     "start_time": "2021-09-27T18:00:11.038046",
     "status": "completed"
    },
    "tags": []
   },
   "outputs": [],
   "source": []
  }
 ],
 "metadata": {
  "kernelspec": {
   "display_name": "Python 3",
   "language": "python",
   "name": "python3"
  },
  "language_info": {
   "codemirror_mode": {
    "name": "ipython",
    "version": 3
   },
   "file_extension": ".py",
   "mimetype": "text/x-python",
   "name": "python",
   "nbconvert_exporter": "python",
   "pygments_lexer": "ipython3",
   "version": "3.9.5"
  },
  "papermill": {
   "default_parameters": {},
   "duration": 6.800892,
   "end_time": "2021-09-27T18:00:11.702770",
   "environment_variables": {},
   "exception": null,
   "input_path": "eBay_Overview.ipynb",
   "output_path": "eBay_Overview.ipynb",
   "parameters": {},
   "start_time": "2021-09-27T18:00:04.901878",
   "version": "2.3.3"
  }
 },
 "nbformat": 4,
 "nbformat_minor": 5
}