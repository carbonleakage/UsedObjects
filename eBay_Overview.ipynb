{
 "cells": [
  {
   "cell_type": "code",
   "execution_count": 1,
   "id": "reverse-picking",
   "metadata": {
    "execution": {
     "iopub.execute_input": "2021-09-13T02:30:06.568802Z",
     "iopub.status.busy": "2021-09-13T02:30:06.566777Z",
     "iopub.status.idle": "2021-09-13T02:30:07.371975Z",
     "shell.execute_reply": "2021-09-13T02:30:07.373222Z"
    },
    "papermill": {
     "duration": 0.855763,
     "end_time": "2021-09-13T02:30:07.373837",
     "exception": false,
     "start_time": "2021-09-13T02:30:06.518074",
     "status": "completed"
    },
    "tags": []
   },
   "outputs": [],
   "source": [
    "import pandas as pd\n",
    "import sqlite3"
   ]
  },
  {
   "cell_type": "code",
   "execution_count": 2,
   "id": "innovative-syndrome",
   "metadata": {
    "execution": {
     "iopub.execute_input": "2021-09-13T02:30:07.427737Z",
     "iopub.status.busy": "2021-09-13T02:30:07.425368Z",
     "iopub.status.idle": "2021-09-13T02:30:07.696877Z",
     "shell.execute_reply": "2021-09-13T02:30:07.698045Z"
    },
    "papermill": {
     "duration": 0.301365,
     "end_time": "2021-09-13T02:30:07.698433",
     "exception": false,
     "start_time": "2021-09-13T02:30:07.397068",
     "status": "completed"
    },
    "tags": []
   },
   "outputs": [],
   "source": [
    "timestamps = pd.read_sql(\"select distinct record_time from EBAY_TOP_BERLIN order by record_time desc limit 2\", sqlite3.connect(\"UsedObjects.db\"))"
   ]
  },
  {
   "cell_type": "code",
   "execution_count": 3,
   "id": "periodic-identification",
   "metadata": {
    "execution": {
     "iopub.execute_input": "2021-09-13T02:30:07.769017Z",
     "iopub.status.busy": "2021-09-13T02:30:07.764107Z",
     "iopub.status.idle": "2021-09-13T02:30:07.786016Z",
     "shell.execute_reply": "2021-09-13T02:30:07.787405Z"
    },
    "papermill": {
     "duration": 0.06774,
     "end_time": "2021-09-13T02:30:07.787851",
     "exception": false,
     "start_time": "2021-09-13T02:30:07.720111",
     "status": "completed"
    },
    "tags": []
   },
   "outputs": [
    {
     "data": {
      "text/html": [
       "<div>\n",
       "<style scoped>\n",
       "    .dataframe tbody tr th:only-of-type {\n",
       "        vertical-align: middle;\n",
       "    }\n",
       "\n",
       "    .dataframe tbody tr th {\n",
       "        vertical-align: top;\n",
       "    }\n",
       "\n",
       "    .dataframe thead th {\n",
       "        text-align: right;\n",
       "    }\n",
       "</style>\n",
       "<table border=\"1\" class=\"dataframe\">\n",
       "  <thead>\n",
       "    <tr style=\"text-align: right;\">\n",
       "      <th></th>\n",
       "      <th>RECORD_TIME</th>\n",
       "    </tr>\n",
       "  </thead>\n",
       "  <tbody>\n",
       "    <tr>\n",
       "      <th>0</th>\n",
       "      <td>2021-09-13 04:30</td>\n",
       "    </tr>\n",
       "    <tr>\n",
       "      <th>1</th>\n",
       "      <td>2021-09-13 04:00</td>\n",
       "    </tr>\n",
       "  </tbody>\n",
       "</table>\n",
       "</div>"
      ],
      "text/plain": [
       "        RECORD_TIME\n",
       "0  2021-09-13 04:30\n",
       "1  2021-09-13 04:00"
      ]
     },
     "execution_count": 3,
     "metadata": {},
     "output_type": "execute_result"
    }
   ],
   "source": [
    "timestamps"
   ]
  },
  {
   "cell_type": "code",
   "execution_count": 4,
   "id": "alternate-victory",
   "metadata": {
    "execution": {
     "iopub.execute_input": "2021-09-13T02:30:07.839578Z",
     "iopub.status.busy": "2021-09-13T02:30:07.837507Z",
     "iopub.status.idle": "2021-09-13T02:30:08.241186Z",
     "shell.execute_reply": "2021-09-13T02:30:08.242376Z"
    },
    "papermill": {
     "duration": 0.433721,
     "end_time": "2021-09-13T02:30:08.242774",
     "exception": false,
     "start_time": "2021-09-13T02:30:07.809053",
     "status": "completed"
    },
    "tags": []
   },
   "outputs": [],
   "source": [
    "df = pd.read_sql(\"select * from EBAY_TOP_BERLIN where record_time in (select distinct record_time from EBAY_TOP_BERLIN order by record_time desc limit 2)\", sqlite3.connect(\"UsedObjects.db\"))"
   ]
  },
  {
   "cell_type": "code",
   "execution_count": 5,
   "id": "popular-active",
   "metadata": {
    "execution": {
     "iopub.execute_input": "2021-09-13T02:30:08.324258Z",
     "iopub.status.busy": "2021-09-13T02:30:08.313537Z",
     "iopub.status.idle": "2021-09-13T02:30:08.340554Z",
     "shell.execute_reply": "2021-09-13T02:30:08.341748Z"
    },
    "papermill": {
     "duration": 0.071168,
     "end_time": "2021-09-13T02:30:08.342138",
     "exception": false,
     "start_time": "2021-09-13T02:30:08.270970",
     "status": "completed"
    },
    "tags": []
   },
   "outputs": [],
   "source": [
    "df_pivot = df.pivot_table(index=\"PRODUCT\", columns = \"RECORD_TIME\", values = \"LISTING_COUNT\")"
   ]
  },
  {
   "cell_type": "code",
   "execution_count": 6,
   "id": "union-huntington",
   "metadata": {
    "execution": {
     "iopub.execute_input": "2021-09-13T02:30:08.397559Z",
     "iopub.status.busy": "2021-09-13T02:30:08.395525Z",
     "iopub.status.idle": "2021-09-13T02:30:08.400690Z",
     "shell.execute_reply": "2021-09-13T02:30:08.401945Z"
    },
    "papermill": {
     "duration": 0.040245,
     "end_time": "2021-09-13T02:30:08.402356",
     "exception": false,
     "start_time": "2021-09-13T02:30:08.362111",
     "status": "completed"
    },
    "tags": []
   },
   "outputs": [],
   "source": [
    "df_pivot.columns = [\"stamp_1\", \"stamp_2\"]\n",
    "df_pivot_diff = df_pivot.diff(axis=1)"
   ]
  },
  {
   "cell_type": "code",
   "execution_count": 7,
   "id": "fifth-motion",
   "metadata": {
    "execution": {
     "iopub.execute_input": "2021-09-13T02:30:08.458208Z",
     "iopub.status.busy": "2021-09-13T02:30:08.455621Z",
     "iopub.status.idle": "2021-09-13T02:30:09.939853Z",
     "shell.execute_reply": "2021-09-13T02:30:09.941130Z"
    },
    "papermill": {
     "duration": 1.517933,
     "end_time": "2021-09-13T02:30:09.941544",
     "exception": false,
     "start_time": "2021-09-13T02:30:08.423611",
     "status": "completed"
    },
    "tags": []
   },
   "outputs": [
    {
     "data": {
      "text/plain": [
       "<AxesSubplot:ylabel='PRODUCT'>"
      ]
     },
     "execution_count": 7,
     "metadata": {},
     "output_type": "execute_result"
    },
    {
     "data": {
      "image/png": "[encoded data removed]",
      "text/plain": [
       "<Figure size 432x288 with 1 Axes>"
      ]
     },
     "metadata": {
      "needs_background": "light"
     },
     "output_type": "display_data"
    }
   ],
   "source": [
    "df_pivot_diff.sort_values(\"stamp_2\", ascending = False)[\"stamp_2\"].head(10).plot.barh()"
   ]
  },
  {
   "cell_type": "code",
   "execution_count": null,
   "id": "extra-executive",
   "metadata": {
    "papermill": {
     "duration": 0.022119,
     "end_time": "2021-09-13T02:30:09.988230",
     "exception": false,
     "start_time": "2021-09-13T02:30:09.966111",
     "status": "completed"
    },
    "tags": []
   },
   "outputs": [],
   "source": []
  }
 ],
 "metadata": {
  "kernelspec": {
   "display_name": "Python 3",
   "language": "python",
   "name": "python3"
  },
  "language_info": {
   "codemirror_mode": {
    "name": "ipython",
    "version": 3
   },
   "file_extension": ".py",
   "mimetype": "text/x-python",
   "name": "python",
   "nbconvert_exporter": "python",
   "pygments_lexer": "ipython3",
   "version": "3.9.5"
  },
  "papermill": {
   "default_parameters": {},
   "duration": 6.528483,
   "end_time": "2021-09-13T02:30:10.631111",
   "environment_variables": {},
   "exception": null,
   "input_path": "eBay_Overview.ipynb",
   "output_path": "eBay_Overview.ipynb",
   "parameters": {},
   "start_time": "2021-09-13T02:30:04.102628",
   "version": "2.3.3"
  }
 },
 "nbformat": 4,
 "nbformat_minor": 5
}