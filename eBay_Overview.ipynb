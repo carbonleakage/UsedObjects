{
 "cells": [
  {
   "cell_type": "code",
   "execution_count": 1,
   "id": "reverse-picking",
   "metadata": {
    "execution": {
     "iopub.execute_input": "2021-08-08T21:58:04.969514Z",
     "iopub.status.busy": "2021-08-08T21:58:04.968629Z",
     "iopub.status.idle": "2021-08-08T21:58:05.599629Z",
     "shell.execute_reply": "2021-08-08T21:58:05.600506Z"
    },
    "papermill": {
     "duration": 0.652533,
     "end_time": "2021-08-08T21:58:05.600885",
     "exception": false,
     "start_time": "2021-08-08T21:58:04.948352",
     "status": "completed"
    },
    "tags": []
   },
   "outputs": [],
   "source": [
    "import pandas as pd\n",
    "import sqlite3"
   ]
  },
  {
   "cell_type": "code",
   "execution_count": 2,
   "id": "innovative-syndrome",
   "metadata": {
    "execution": {
     "iopub.execute_input": "2021-08-08T21:58:05.633893Z",
     "iopub.status.busy": "2021-08-08T21:58:05.633128Z",
     "iopub.status.idle": "2021-08-08T21:58:05.846754Z",
     "shell.execute_reply": "2021-08-08T21:58:05.847453Z"
    },
    "papermill": {
     "duration": 0.234778,
     "end_time": "2021-08-08T21:58:05.847688",
     "exception": false,
     "start_time": "2021-08-08T21:58:05.612910",
     "status": "completed"
    },
    "tags": []
   },
   "outputs": [],
   "source": [
    "timestamps = pd.read_sql(\"select distinct record_time from EBAY_TOP_BERLIN order by record_time desc limit 2\", sqlite3.connect(\"UsedObjects.db\"))"
   ]
  },
  {
   "cell_type": "code",
   "execution_count": 3,
   "id": "periodic-identification",
   "metadata": {
    "execution": {
     "iopub.execute_input": "2021-08-08T21:58:06.008682Z",
     "iopub.status.busy": "2021-08-08T21:58:06.006478Z",
     "iopub.status.idle": "2021-08-08T21:58:06.031830Z",
     "shell.execute_reply": "2021-08-08T21:58:06.030812Z"
    },
    "papermill": {
     "duration": 0.16264,
     "end_time": "2021-08-08T21:58:06.032102",
     "exception": false,
     "start_time": "2021-08-08T21:58:05.869462",
     "status": "completed"
    },
    "tags": []
   },
   "outputs": [
    {
     "data": {
      "text/html": [
       "<div>\n",
       "<style scoped>\n",
       "    .dataframe tbody tr th:only-of-type {\n",
       "        vertical-align: middle;\n",
       "    }\n",
       "\n",
       "    .dataframe tbody tr th {\n",
       "        vertical-align: top;\n",
       "    }\n",
       "\n",
       "    .dataframe thead th {\n",
       "        text-align: right;\n",
       "    }\n",
       "</style>\n",
       "<table border=\"1\" class=\"dataframe\">\n",
       "  <thead>\n",
       "    <tr style=\"text-align: right;\">\n",
       "      <th></th>\n",
       "      <th>RECORD_TIME</th>\n",
       "    </tr>\n",
       "  </thead>\n",
       "  <tbody>\n",
       "    <tr>\n",
       "      <th>0</th>\n",
       "      <td>2021-08-08 23:58</td>\n",
       "    </tr>\n",
       "    <tr>\n",
       "      <th>1</th>\n",
       "      <td>2021-08-08 23:56</td>\n",
       "    </tr>\n",
       "  </tbody>\n",
       "</table>\n",
       "</div>"
      ],
      "text/plain": [
       "        RECORD_TIME\n",
       "0  2021-08-08 23:58\n",
       "1  2021-08-08 23:56"
      ]
     },
     "execution_count": 3,
     "metadata": {},
     "output_type": "execute_result"
    }
   ],
   "source": [
    "timestamps"
   ]
  },
  {
   "cell_type": "code",
   "execution_count": 4,
   "id": "alternate-victory",
   "metadata": {
    "execution": {
     "iopub.execute_input": "2021-08-08T21:58:06.072840Z",
     "iopub.status.busy": "2021-08-08T21:58:06.071614Z",
     "iopub.status.idle": "2021-08-08T21:58:06.082091Z",
     "shell.execute_reply": "2021-08-08T21:58:06.082720Z"
    },
    "papermill": {
     "duration": 0.032422,
     "end_time": "2021-08-08T21:58:06.082925",
     "exception": false,
     "start_time": "2021-08-08T21:58:06.050503",
     "status": "completed"
    },
    "tags": []
   },
   "outputs": [],
   "source": [
    "df = pd.read_sql(\"select * from EBAY_TOP_BERLIN where record_time in (select distinct record_time from EBAY_TOP_BERLIN order by record_time desc limit 2)\", sqlite3.connect(\"UsedObjects.db\"))"
   ]
  },
  {
   "cell_type": "code",
   "execution_count": 5,
   "id": "popular-active",
   "metadata": {
    "execution": {
     "iopub.execute_input": "2021-08-08T21:58:06.164336Z",
     "iopub.status.busy": "2021-08-08T21:58:06.162514Z",
     "iopub.status.idle": "2021-08-08T21:58:06.193199Z",
     "shell.execute_reply": "2021-08-08T21:58:06.190508Z"
    },
    "papermill": {
     "duration": 0.05798,
     "end_time": "2021-08-08T21:58:06.193526",
     "exception": false,
     "start_time": "2021-08-08T21:58:06.135546",
     "status": "completed"
    },
    "tags": []
   },
   "outputs": [],
   "source": [
    "df_pivot = df.pivot_table(index=\"PRODUCT\", columns = \"RECORD_TIME\", values = \"LISTING_COUNT\")"
   ]
  },
  {
   "cell_type": "code",
   "execution_count": 6,
   "id": "union-huntington",
   "metadata": {
    "execution": {
     "iopub.execute_input": "2021-08-08T21:58:06.236446Z",
     "iopub.status.busy": "2021-08-08T21:58:06.233981Z",
     "iopub.status.idle": "2021-08-08T21:58:06.238755Z",
     "shell.execute_reply": "2021-08-08T21:58:06.239588Z"
    },
    "papermill": {
     "duration": 0.030466,
     "end_time": "2021-08-08T21:58:06.239790",
     "exception": false,
     "start_time": "2021-08-08T21:58:06.209324",
     "status": "completed"
    },
    "tags": []
   },
   "outputs": [],
   "source": [
    "df_pivot.columns = [\"stamp_1\", \"stamp_2\"]\n",
    "df_pivot_diff = df_pivot.diff(axis=1)"
   ]
  },
  {
   "cell_type": "code",
   "execution_count": 7,
   "id": "fifth-motion",
   "metadata": {
    "execution": {
     "iopub.execute_input": "2021-08-08T21:58:06.281314Z",
     "iopub.status.busy": "2021-08-08T21:58:06.279510Z",
     "iopub.status.idle": "2021-08-08T21:58:07.073084Z",
     "shell.execute_reply": "2021-08-08T21:58:07.073623Z"
    },
    "papermill": {
     "duration": 0.818946,
     "end_time": "2021-08-08T21:58:07.073801",
     "exception": false,
     "start_time": "2021-08-08T21:58:06.254855",
     "status": "completed"
    },
    "tags": []
   },
   "outputs": [
    {
     "data": {
      "text/plain": [
       "<AxesSubplot:ylabel='PRODUCT'>"
      ]
     },
     "execution_count": 7,
     "metadata": {},
     "output_type": "execute_result"
    },
    {
     "data": {
      "image/png": "[encoded data removed]",
      "text/plain": [
       "<Figure size 432x288 with 1 Axes>"
      ]
     },
     "metadata": {
      "needs_background": "light"
     },
     "output_type": "display_data"
    }
   ],
   "source": [
    "df_pivot_diff.sort_values(\"stamp_2\", ascending = False)[\"stamp_2\"].head(10).plot.barh()"
   ]
  },
  {
   "cell_type": "code",
   "execution_count": null,
   "id": "extra-executive",
   "metadata": {
    "papermill": {
     "duration": 0.012041,
     "end_time": "2021-08-08T21:58:07.102892",
     "exception": false,
     "start_time": "2021-08-08T21:58:07.090851",
     "status": "completed"
    },
    "tags": []
   },
   "outputs": [],
   "source": []
  }
 ],
 "metadata": {
  "kernelspec": {
   "display_name": "Python 3",
   "language": "python",
   "name": "python3"
  },
  "language_info": {
   "codemirror_mode": {
    "name": "ipython",
    "version": 3
   },
   "file_extension": ".py",
   "mimetype": "text/x-python",
   "name": "python",
   "nbconvert_exporter": "python",
   "pygments_lexer": "ipython3",
   "version": "3.8.8"
  },
  "papermill": {
   "default_parameters": {},
   "duration": 5.86328,
   "end_time": "2021-08-08T21:58:08.769192",
   "environment_variables": {},
   "exception": null,
   "input_path": "/Users/saravananshanmugam/Carbonleakage_Git/UsedObjects/eBay_Overview.ipynb",
   "output_path": "/Users/saravananshanmugam/Carbonleakage_Git/UsedObjects/eBay_Overview.ipynb",
   "parameters": {},
   "start_time": "2021-08-08T21:58:02.905912",
   "version": "2.3.3"
  }
 },
 "nbformat": 4,
 "nbformat_minor": 5
}