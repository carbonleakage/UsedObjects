{
 "cells": [
  {
   "cell_type": "code",
   "execution_count": 1,
   "id": "reverse-picking",
   "metadata": {
    "execution": {
     "iopub.execute_input": "2021-09-16T22:00:06.652022Z",
     "iopub.status.busy": "2021-09-16T22:00:06.649940Z",
     "iopub.status.idle": "2021-09-16T22:00:07.452958Z",
     "shell.execute_reply": "2021-09-16T22:00:07.454206Z"
    },
    "papermill": {
     "duration": 0.853999,
     "end_time": "2021-09-16T22:00:07.454995",
     "exception": false,
     "start_time": "2021-09-16T22:00:06.600996",
     "status": "completed"
    },
    "tags": []
   },
   "outputs": [],
   "source": [
    "import pandas as pd\n",
    "import sqlite3"
   ]
  },
  {
   "cell_type": "code",
   "execution_count": 2,
   "id": "innovative-syndrome",
   "metadata": {
    "execution": {
     "iopub.execute_input": "2021-09-16T22:00:07.508049Z",
     "iopub.status.busy": "2021-09-16T22:00:07.505681Z",
     "iopub.status.idle": "2021-09-16T22:00:07.808342Z",
     "shell.execute_reply": "2021-09-16T22:00:07.809534Z"
    },
    "papermill": {
     "duration": 0.332734,
     "end_time": "2021-09-16T22:00:07.809924",
     "exception": false,
     "start_time": "2021-09-16T22:00:07.477190",
     "status": "completed"
    },
    "tags": []
   },
   "outputs": [],
   "source": [
    "timestamps = pd.read_sql(\"select distinct record_time from EBAY_TOP_BERLIN order by record_time desc limit 2\", sqlite3.connect(\"UsedObjects.db\"))"
   ]
  },
  {
   "cell_type": "code",
   "execution_count": 3,
   "id": "periodic-identification",
   "metadata": {
    "execution": {
     "iopub.execute_input": "2021-09-16T22:00:07.874055Z",
     "iopub.status.busy": "2021-09-16T22:00:07.872057Z",
     "iopub.status.idle": "2021-09-16T22:00:07.892110Z",
     "shell.execute_reply": "2021-09-16T22:00:07.893437Z"
    },
    "papermill": {
     "duration": 0.062991,
     "end_time": "2021-09-16T22:00:07.893847",
     "exception": false,
     "start_time": "2021-09-16T22:00:07.830856",
     "status": "completed"
    },
    "tags": []
   },
   "outputs": [
    {
     "data": {
      "text/html": [
       "<div>\n",
       "<style scoped>\n",
       "    .dataframe tbody tr th:only-of-type {\n",
       "        vertical-align: middle;\n",
       "    }\n",
       "\n",
       "    .dataframe tbody tr th {\n",
       "        vertical-align: top;\n",
       "    }\n",
       "\n",
       "    .dataframe thead th {\n",
       "        text-align: right;\n",
       "    }\n",
       "</style>\n",
       "<table border=\"1\" class=\"dataframe\">\n",
       "  <thead>\n",
       "    <tr style=\"text-align: right;\">\n",
       "      <th></th>\n",
       "      <th>RECORD_TIME</th>\n",
       "    </tr>\n",
       "  </thead>\n",
       "  <tbody>\n",
       "    <tr>\n",
       "      <th>0</th>\n",
       "      <td>2021-09-17 00:00</td>\n",
       "    </tr>\n",
       "    <tr>\n",
       "      <th>1</th>\n",
       "      <td>2021-09-16 23:30</td>\n",
       "    </tr>\n",
       "  </tbody>\n",
       "</table>\n",
       "</div>"
      ],
      "text/plain": [
       "        RECORD_TIME\n",
       "0  2021-09-17 00:00\n",
       "1  2021-09-16 23:30"
      ]
     },
     "execution_count": 3,
     "metadata": {},
     "output_type": "execute_result"
    }
   ],
   "source": [
    "timestamps"
   ]
  },
  {
   "cell_type": "code",
   "execution_count": 4,
   "id": "alternate-victory",
   "metadata": {
    "execution": {
     "iopub.execute_input": "2021-09-16T22:00:07.945677Z",
     "iopub.status.busy": "2021-09-16T22:00:07.943408Z",
     "iopub.status.idle": "2021-09-16T22:00:08.386518Z",
     "shell.execute_reply": "2021-09-16T22:00:08.388579Z"
    },
    "papermill": {
     "duration": 0.474024,
     "end_time": "2021-09-16T22:00:08.389118",
     "exception": false,
     "start_time": "2021-09-16T22:00:07.915094",
     "status": "completed"
    },
    "tags": []
   },
   "outputs": [],
   "source": [
    "df = pd.read_sql(\"select * from EBAY_TOP_BERLIN where record_time in (select distinct record_time from EBAY_TOP_BERLIN order by record_time desc limit 2)\", sqlite3.connect(\"UsedObjects.db\"))"
   ]
  },
  {
   "cell_type": "code",
   "execution_count": 5,
   "id": "popular-active",
   "metadata": {
    "execution": {
     "iopub.execute_input": "2021-09-16T22:00:08.467599Z",
     "iopub.status.busy": "2021-09-16T22:00:08.460301Z",
     "iopub.status.idle": "2021-09-16T22:00:08.488306Z",
     "shell.execute_reply": "2021-09-16T22:00:08.489520Z"
    },
    "papermill": {
     "duration": 0.072221,
     "end_time": "2021-09-16T22:00:08.489910",
     "exception": false,
     "start_time": "2021-09-16T22:00:08.417689",
     "status": "completed"
    },
    "tags": []
   },
   "outputs": [],
   "source": [
    "df_pivot = df.pivot_table(index=\"PRODUCT\", columns = \"RECORD_TIME\", values = \"LISTING_COUNT\")"
   ]
  },
  {
   "cell_type": "code",
   "execution_count": 6,
   "id": "union-huntington",
   "metadata": {
    "execution": {
     "iopub.execute_input": "2021-09-16T22:00:08.548816Z",
     "iopub.status.busy": "2021-09-16T22:00:08.546367Z",
     "iopub.status.idle": "2021-09-16T22:00:08.552655Z",
     "shell.execute_reply": "2021-09-16T22:00:08.554003Z"
    },
    "papermill": {
     "duration": 0.042379,
     "end_time": "2021-09-16T22:00:08.554469",
     "exception": false,
     "start_time": "2021-09-16T22:00:08.512090",
     "status": "completed"
    },
    "tags": []
   },
   "outputs": [],
   "source": [
    "df_pivot.columns = [\"stamp_1\", \"stamp_2\"]\n",
    "df_pivot_diff = df_pivot.diff(axis=1)"
   ]
  },
  {
   "cell_type": "code",
   "execution_count": 7,
   "id": "fifth-motion",
   "metadata": {
    "execution": {
     "iopub.execute_input": "2021-09-16T22:00:08.609779Z",
     "iopub.status.busy": "2021-09-16T22:00:08.607442Z",
     "iopub.status.idle": "2021-09-16T22:00:10.087246Z",
     "shell.execute_reply": "2021-09-16T22:00:10.088611Z"
    },
    "papermill": {
     "duration": 1.513182,
     "end_time": "2021-09-16T22:00:10.089044",
     "exception": false,
     "start_time": "2021-09-16T22:00:08.575862",
     "status": "completed"
    },
    "tags": []
   },
   "outputs": [
    {
     "data": {
      "text/plain": [
       "<AxesSubplot:ylabel='PRODUCT'>"
      ]
     },
     "execution_count": 7,
     "metadata": {},
     "output_type": "execute_result"
    },
    {
     "data": {
      "image/png": "[encoded data removed]",
      "text/plain": [
       "<Figure size 432x288 with 1 Axes>"
      ]
     },
     "metadata": {
      "needs_background": "light"
     },
     "output_type": "display_data"
    }
   ],
   "source": [
    "df_pivot_diff.sort_values(\"stamp_2\", ascending = False)[\"stamp_2\"].head(10).plot.barh()"
   ]
  },
  {
   "cell_type": "code",
   "execution_count": null,
   "id": "extra-executive",
   "metadata": {
    "papermill": {
     "duration": 0.022253,
     "end_time": "2021-09-16T22:00:10.135807",
     "exception": false,
     "start_time": "2021-09-16T22:00:10.113554",
     "status": "completed"
    },
    "tags": []
   },
   "outputs": [],
   "source": []
  }
 ],
 "metadata": {
  "kernelspec": {
   "display_name": "Python 3",
   "language": "python",
   "name": "python3"
  },
  "language_info": {
   "codemirror_mode": {
    "name": "ipython",
    "version": 3
   },
   "file_extension": ".py",
   "mimetype": "text/x-python",
   "name": "python",
   "nbconvert_exporter": "python",
   "pygments_lexer": "ipython3",
   "version": "3.9.5"
  },
  "papermill": {
   "default_parameters": {},
   "duration": 6.576844,
   "end_time": "2021-09-16T22:00:10.778704",
   "environment_variables": {},
   "exception": null,
   "input_path": "eBay_Overview.ipynb",
   "output_path": "eBay_Overview.ipynb",
   "parameters": {},
   "start_time": "2021-09-16T22:00:04.201860",
   "version": "2.3.3"
  }
 },
 "nbformat": 4,
 "nbformat_minor": 5
}