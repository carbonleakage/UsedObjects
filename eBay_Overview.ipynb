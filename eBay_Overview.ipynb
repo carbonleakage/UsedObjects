{
 "cells": [
  {
   "cell_type": "code",
   "execution_count": 1,
   "id": "reverse-picking",
   "metadata": {
    "execution": {
     "iopub.execute_input": "2021-12-13T16:00:07.291186Z",
     "iopub.status.busy": "2021-12-13T16:00:07.288918Z",
     "iopub.status.idle": "2021-12-13T16:00:08.255002Z",
     "shell.execute_reply": "2021-12-13T16:00:08.256672Z"
    },
    "papermill": {
     "duration": 1.013041,
     "end_time": "2021-12-13T16:00:08.257672",
     "exception": false,
     "start_time": "2021-12-13T16:00:07.244631",
     "status": "completed"
    },
    "tags": []
   },
   "outputs": [],
   "source": [
    "import pandas as pd\n",
    "import sqlite3"
   ]
  },
  {
   "cell_type": "code",
   "execution_count": 2,
   "id": "innovative-syndrome",
   "metadata": {
    "execution": {
     "iopub.execute_input": "2021-12-13T16:00:08.320424Z",
     "iopub.status.busy": "2021-12-13T16:00:08.318211Z",
     "iopub.status.idle": "2021-12-13T16:00:09.404624Z",
     "shell.execute_reply": "2021-12-13T16:00:09.406259Z"
    },
    "papermill": {
     "duration": 1.119964,
     "end_time": "2021-12-13T16:00:09.406765",
     "exception": false,
     "start_time": "2021-12-13T16:00:08.286801",
     "status": "completed"
    },
    "tags": []
   },
   "outputs": [],
   "source": [
    "timestamps = pd.read_sql(\"select distinct record_time from EBAY_TOP_BERLIN order by record_time desc limit 2\", sqlite3.connect(\"UsedObjects.db\"))"
   ]
  },
  {
   "cell_type": "code",
   "execution_count": 3,
   "id": "periodic-identification",
   "metadata": {
    "execution": {
     "iopub.execute_input": "2021-12-13T16:00:09.481118Z",
     "iopub.status.busy": "2021-12-13T16:00:09.476545Z",
     "iopub.status.idle": "2021-12-13T16:00:09.502931Z",
     "shell.execute_reply": "2021-12-13T16:00:09.504408Z"
    },
    "papermill": {
     "duration": 0.077129,
     "end_time": "2021-12-13T16:00:09.505009",
     "exception": false,
     "start_time": "2021-12-13T16:00:09.427880",
     "status": "completed"
    },
    "tags": []
   },
   "outputs": [
    {
     "data": {
      "text/html": [
       "<div>\n",
       "<style scoped>\n",
       "    .dataframe tbody tr th:only-of-type {\n",
       "        vertical-align: middle;\n",
       "    }\n",
       "\n",
       "    .dataframe tbody tr th {\n",
       "        vertical-align: top;\n",
       "    }\n",
       "\n",
       "    .dataframe thead th {\n",
       "        text-align: right;\n",
       "    }\n",
       "</style>\n",
       "<table border=\"1\" class=\"dataframe\">\n",
       "  <thead>\n",
       "    <tr style=\"text-align: right;\">\n",
       "      <th></th>\n",
       "      <th>RECORD_TIME</th>\n",
       "    </tr>\n",
       "  </thead>\n",
       "  <tbody>\n",
       "    <tr>\n",
       "      <th>0</th>\n",
       "      <td>2021-12-13 17:00</td>\n",
       "    </tr>\n",
       "    <tr>\n",
       "      <th>1</th>\n",
       "      <td>2021-12-13 16:30</td>\n",
       "    </tr>\n",
       "  </tbody>\n",
       "</table>\n",
       "</div>"
      ],
      "text/plain": [
       "        RECORD_TIME\n",
       "0  2021-12-13 17:00\n",
       "1  2021-12-13 16:30"
      ]
     },
     "execution_count": 3,
     "metadata": {},
     "output_type": "execute_result"
    }
   ],
   "source": [
    "timestamps"
   ]
  },
  {
   "cell_type": "code",
   "execution_count": 4,
   "id": "alternate-victory",
   "metadata": {
    "execution": {
     "iopub.execute_input": "2021-12-13T16:00:09.560413Z",
     "iopub.status.busy": "2021-12-13T16:00:09.558175Z",
     "iopub.status.idle": "2021-12-13T16:00:11.093786Z",
     "shell.execute_reply": "2021-12-13T16:00:11.095229Z"
    },
    "papermill": {
     "duration": 1.569703,
     "end_time": "2021-12-13T16:00:11.095694",
     "exception": false,
     "start_time": "2021-12-13T16:00:09.525991",
     "status": "completed"
    },
    "tags": []
   },
   "outputs": [],
   "source": [
    "df = pd.read_sql(\"select * from EBAY_TOP_BERLIN where record_time in (select distinct record_time from EBAY_TOP_BERLIN order by record_time desc limit 2)\", sqlite3.connect(\"UsedObjects.db\"))"
   ]
  },
  {
   "cell_type": "code",
   "execution_count": 5,
   "id": "popular-active",
   "metadata": {
    "execution": {
     "iopub.execute_input": "2021-12-13T16:00:11.178244Z",
     "iopub.status.busy": "2021-12-13T16:00:11.164459Z",
     "iopub.status.idle": "2021-12-13T16:00:11.195363Z",
     "shell.execute_reply": "2021-12-13T16:00:11.193889Z"
    },
    "papermill": {
     "duration": 0.079288,
     "end_time": "2021-12-13T16:00:11.195793",
     "exception": false,
     "start_time": "2021-12-13T16:00:11.116505",
     "status": "completed"
    },
    "tags": []
   },
   "outputs": [],
   "source": [
    "df_pivot = df.pivot_table(index=\"PRODUCT\", columns = \"RECORD_TIME\", values = \"LISTING_COUNT\")"
   ]
  },
  {
   "cell_type": "code",
   "execution_count": 6,
   "id": "union-huntington",
   "metadata": {
    "execution": {
     "iopub.execute_input": "2021-12-13T16:00:11.248265Z",
     "iopub.status.busy": "2021-12-13T16:00:11.246325Z",
     "iopub.status.idle": "2021-12-13T16:00:11.261615Z",
     "shell.execute_reply": "2021-12-13T16:00:11.263085Z"
    },
    "papermill": {
     "duration": 0.045793,
     "end_time": "2021-12-13T16:00:11.263542",
     "exception": false,
     "start_time": "2021-12-13T16:00:11.217749",
     "status": "completed"
    },
    "tags": []
   },
   "outputs": [],
   "source": [
    "df_pivot.columns = [\"stamp_1\", \"stamp_2\"]\n",
    "df_pivot_diff = df_pivot.diff(axis=1)"
   ]
  },
  {
   "cell_type": "code",
   "execution_count": 7,
   "id": "fifth-motion",
   "metadata": {
    "execution": {
     "iopub.execute_input": "2021-12-13T16:00:11.326865Z",
     "iopub.status.busy": "2021-12-13T16:00:11.324343Z",
     "iopub.status.idle": "2021-12-13T16:00:13.319190Z",
     "shell.execute_reply": "2021-12-13T16:00:13.317062Z"
    },
    "papermill": {
     "duration": 2.032305,
     "end_time": "2021-12-13T16:00:13.319685",
     "exception": false,
     "start_time": "2021-12-13T16:00:11.287380",
     "status": "completed"
    },
    "tags": []
   },
   "outputs": [
    {
     "data": {
      "text/plain": [
       "<AxesSubplot:ylabel='PRODUCT'>"
      ]
     },
     "execution_count": 7,
     "metadata": {},
     "output_type": "execute_result"
    },
    {
     "data": {
      "image/png": "[encoded data removed]",
      "text/plain": [
       "<Figure size 432x288 with 1 Axes>"
      ]
     },
     "metadata": {
      "needs_background": "light"
     },
     "output_type": "display_data"
    }
   ],
   "source": [
    "df_pivot_diff.sort_values(\"stamp_2\", ascending = False)[\"stamp_2\"].head(10).plot.barh()"
   ]
  },
  {
   "cell_type": "code",
   "execution_count": null,
   "id": "extra-executive",
   "metadata": {
    "papermill": {
     "duration": 0.033577,
     "end_time": "2021-12-13T16:00:13.390918",
     "exception": false,
     "start_time": "2021-12-13T16:00:13.357341",
     "status": "completed"
    },
    "tags": []
   },
   "outputs": [],
   "source": []
  }
 ],
 "metadata": {
  "kernelspec": {
   "display_name": "Python 3",
   "language": "python",
   "name": "python3"
  },
  "language_info": {
   "codemirror_mode": {
    "name": "ipython",
    "version": 3
   },
   "file_extension": ".py",
   "mimetype": "text/x-python",
   "name": "python",
   "nbconvert_exporter": "python",
   "pygments_lexer": "ipython3",
   "version": "3.9.5"
  },
  "papermill": {
   "default_parameters": {},
   "duration": 9.669178,
   "end_time": "2021-12-13T16:00:14.153646",
   "environment_variables": {},
   "exception": null,
   "input_path": "eBay_Overview.ipynb",
   "output_path": "eBay_Overview.ipynb",
   "parameters": {},
   "start_time": "2021-12-13T16:00:04.484468",
   "version": "2.3.3"
  }
 },
 "nbformat": 4,
 "nbformat_minor": 5
}