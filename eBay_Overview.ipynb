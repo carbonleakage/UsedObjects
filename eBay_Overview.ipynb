{
 "cells": [
  {
   "cell_type": "code",
   "execution_count": 1,
   "id": "reverse-picking",
   "metadata": {
    "execution": {
     "iopub.execute_input": "2021-11-26T15:30:07.562376Z",
     "iopub.status.busy": "2021-11-26T15:30:07.560095Z",
     "iopub.status.idle": "2021-11-26T15:30:08.518349Z",
     "shell.execute_reply": "2021-11-26T15:30:08.519901Z"
    },
    "papermill": {
     "duration": 1.00938,
     "end_time": "2021-11-26T15:30:08.520782",
     "exception": false,
     "start_time": "2021-11-26T15:30:07.511402",
     "status": "completed"
    },
    "tags": []
   },
   "outputs": [],
   "source": [
    "import pandas as pd\n",
    "import sqlite3"
   ]
  },
  {
   "cell_type": "code",
   "execution_count": 2,
   "id": "innovative-syndrome",
   "metadata": {
    "execution": {
     "iopub.execute_input": "2021-11-26T15:30:08.636200Z",
     "iopub.status.busy": "2021-11-26T15:30:08.633890Z",
     "iopub.status.idle": "2021-11-26T15:30:09.529515Z",
     "shell.execute_reply": "2021-11-26T15:30:09.530963Z"
    },
    "papermill": {
     "duration": 0.929274,
     "end_time": "2021-11-26T15:30:09.531407",
     "exception": false,
     "start_time": "2021-11-26T15:30:08.602133",
     "status": "completed"
    },
    "tags": []
   },
   "outputs": [],
   "source": [
    "timestamps = pd.read_sql(\"select distinct record_time from EBAY_TOP_BERLIN order by record_time desc limit 2\", sqlite3.connect(\"UsedObjects.db\"))"
   ]
  },
  {
   "cell_type": "code",
   "execution_count": 3,
   "id": "periodic-identification",
   "metadata": {
    "execution": {
     "iopub.execute_input": "2021-11-26T15:30:09.599131Z",
     "iopub.status.busy": "2021-11-26T15:30:09.596992Z",
     "iopub.status.idle": "2021-11-26T15:30:09.618806Z",
     "shell.execute_reply": "2021-11-26T15:30:09.617339Z"
    },
    "papermill": {
     "duration": 0.067785,
     "end_time": "2021-11-26T15:30:09.619156",
     "exception": false,
     "start_time": "2021-11-26T15:30:09.551371",
     "status": "completed"
    },
    "tags": []
   },
   "outputs": [
    {
     "data": {
      "text/html": [
       "<div>\n",
       "<style scoped>\n",
       "    .dataframe tbody tr th:only-of-type {\n",
       "        vertical-align: middle;\n",
       "    }\n",
       "\n",
       "    .dataframe tbody tr th {\n",
       "        vertical-align: top;\n",
       "    }\n",
       "\n",
       "    .dataframe thead th {\n",
       "        text-align: right;\n",
       "    }\n",
       "</style>\n",
       "<table border=\"1\" class=\"dataframe\">\n",
       "  <thead>\n",
       "    <tr style=\"text-align: right;\">\n",
       "      <th></th>\n",
       "      <th>RECORD_TIME</th>\n",
       "    </tr>\n",
       "  </thead>\n",
       "  <tbody>\n",
       "    <tr>\n",
       "      <th>0</th>\n",
       "      <td>2021-11-26 16:30</td>\n",
       "    </tr>\n",
       "    <tr>\n",
       "      <th>1</th>\n",
       "      <td>2021-11-26 16:00</td>\n",
       "    </tr>\n",
       "  </tbody>\n",
       "</table>\n",
       "</div>"
      ],
      "text/plain": [
       "        RECORD_TIME\n",
       "0  2021-11-26 16:30\n",
       "1  2021-11-26 16:00"
      ]
     },
     "execution_count": 3,
     "metadata": {},
     "output_type": "execute_result"
    }
   ],
   "source": [
    "timestamps"
   ]
  },
  {
   "cell_type": "code",
   "execution_count": 4,
   "id": "alternate-victory",
   "metadata": {
    "execution": {
     "iopub.execute_input": "2021-11-26T15:30:09.672527Z",
     "iopub.status.busy": "2021-11-26T15:30:09.670391Z",
     "iopub.status.idle": "2021-11-26T15:30:10.989410Z",
     "shell.execute_reply": "2021-11-26T15:30:10.991017Z"
    },
    "papermill": {
     "duration": 1.350964,
     "end_time": "2021-11-26T15:30:10.991502",
     "exception": false,
     "start_time": "2021-11-26T15:30:09.640538",
     "status": "completed"
    },
    "tags": []
   },
   "outputs": [],
   "source": [
    "df = pd.read_sql(\"select * from EBAY_TOP_BERLIN where record_time in (select distinct record_time from EBAY_TOP_BERLIN order by record_time desc limit 2)\", sqlite3.connect(\"UsedObjects.db\"))"
   ]
  },
  {
   "cell_type": "code",
   "execution_count": 5,
   "id": "popular-active",
   "metadata": {
    "execution": {
     "iopub.execute_input": "2021-11-26T15:30:11.072174Z",
     "iopub.status.busy": "2021-11-26T15:30:11.056922Z",
     "iopub.status.idle": "2021-11-26T15:30:11.096911Z",
     "shell.execute_reply": "2021-11-26T15:30:11.099508Z"
    },
    "papermill": {
     "duration": 0.08526,
     "end_time": "2021-11-26T15:30:11.100070",
     "exception": false,
     "start_time": "2021-11-26T15:30:11.014810",
     "status": "completed"
    },
    "tags": []
   },
   "outputs": [],
   "source": [
    "df_pivot = df.pivot_table(index=\"PRODUCT\", columns = \"RECORD_TIME\", values = \"LISTING_COUNT\")"
   ]
  },
  {
   "cell_type": "code",
   "execution_count": 6,
   "id": "union-huntington",
   "metadata": {
    "execution": {
     "iopub.execute_input": "2021-11-26T15:30:11.163523Z",
     "iopub.status.busy": "2021-11-26T15:30:11.161274Z",
     "iopub.status.idle": "2021-11-26T15:30:11.167806Z",
     "shell.execute_reply": "2021-11-26T15:30:11.166196Z"
    },
    "papermill": {
     "duration": 0.044042,
     "end_time": "2021-11-26T15:30:11.168208",
     "exception": false,
     "start_time": "2021-11-26T15:30:11.124166",
     "status": "completed"
    },
    "tags": []
   },
   "outputs": [],
   "source": [
    "df_pivot.columns = [\"stamp_1\", \"stamp_2\"]\n",
    "df_pivot_diff = df_pivot.diff(axis=1)"
   ]
  },
  {
   "cell_type": "code",
   "execution_count": 7,
   "id": "fifth-motion",
   "metadata": {
    "execution": {
     "iopub.execute_input": "2021-11-26T15:30:11.224243Z",
     "iopub.status.busy": "2021-11-26T15:30:11.221751Z",
     "iopub.status.idle": "2021-11-26T15:30:13.257967Z",
     "shell.execute_reply": "2021-11-26T15:30:13.259949Z"
    },
    "papermill": {
     "duration": 2.072531,
     "end_time": "2021-11-26T15:30:13.260566",
     "exception": false,
     "start_time": "2021-11-26T15:30:11.188035",
     "status": "completed"
    },
    "tags": []
   },
   "outputs": [
    {
     "data": {
      "text/plain": [
       "<AxesSubplot:ylabel='PRODUCT'>"
      ]
     },
     "execution_count": 7,
     "metadata": {},
     "output_type": "execute_result"
    },
    {
     "data": {
      "image/png": "[encoded data removed]",
      "text/plain": [
       "<Figure size 432x288 with 1 Axes>"
      ]
     },
     "metadata": {
      "needs_background": "light"
     },
     "output_type": "display_data"
    }
   ],
   "source": [
    "df_pivot_diff.sort_values(\"stamp_2\", ascending = False)[\"stamp_2\"].head(10).plot.barh()"
   ]
  },
  {
   "cell_type": "code",
   "execution_count": null,
   "id": "extra-executive",
   "metadata": {
    "papermill": {
     "duration": 0.025553,
     "end_time": "2021-11-26T15:30:13.315772",
     "exception": false,
     "start_time": "2021-11-26T15:30:13.290219",
     "status": "completed"
    },
    "tags": []
   },
   "outputs": [],
   "source": []
  }
 ],
 "metadata": {
  "kernelspec": {
   "display_name": "Python 3",
   "language": "python",
   "name": "python3"
  },
  "language_info": {
   "codemirror_mode": {
    "name": "ipython",
    "version": 3
   },
   "file_extension": ".py",
   "mimetype": "text/x-python",
   "name": "python",
   "nbconvert_exporter": "python",
   "pygments_lexer": "ipython3",
   "version": "3.9.5"
  },
  "papermill": {
   "default_parameters": {},
   "duration": 9.93387,
   "end_time": "2021-11-26T15:30:14.708185",
   "environment_variables": {},
   "exception": null,
   "input_path": "eBay_Overview.ipynb",
   "output_path": "eBay_Overview.ipynb",
   "parameters": {},
   "start_time": "2021-11-26T15:30:04.774315",
   "version": "2.3.3"
  }
 },
 "nbformat": 4,
 "nbformat_minor": 5
}