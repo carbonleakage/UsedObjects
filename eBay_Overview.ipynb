{
 "cells": [
  {
   "cell_type": "code",
   "execution_count": 1,
   "id": "reverse-picking",
   "metadata": {
    "execution": {
     "iopub.execute_input": "2021-11-08T13:30:07.792079Z",
     "iopub.status.busy": "2021-11-08T13:30:07.789869Z",
     "iopub.status.idle": "2021-11-08T13:30:08.732486Z",
     "shell.execute_reply": "2021-11-08T13:30:08.730560Z"
    },
    "papermill": {
     "duration": 0.989822,
     "end_time": "2021-11-08T13:30:08.733058",
     "exception": false,
     "start_time": "2021-11-08T13:30:07.743236",
     "status": "completed"
    },
    "tags": []
   },
   "outputs": [],
   "source": [
    "import pandas as pd\n",
    "import sqlite3"
   ]
  },
  {
   "cell_type": "code",
   "execution_count": 2,
   "id": "innovative-syndrome",
   "metadata": {
    "execution": {
     "iopub.execute_input": "2021-11-08T13:30:08.789824Z",
     "iopub.status.busy": "2021-11-08T13:30:08.787165Z",
     "iopub.status.idle": "2021-11-08T13:30:09.558040Z",
     "shell.execute_reply": "2021-11-08T13:30:09.559581Z"
    },
    "papermill": {
     "duration": 0.80565,
     "end_time": "2021-11-08T13:30:09.560074",
     "exception": false,
     "start_time": "2021-11-08T13:30:08.754424",
     "status": "completed"
    },
    "tags": []
   },
   "outputs": [],
   "source": [
    "timestamps = pd.read_sql(\"select distinct record_time from EBAY_TOP_BERLIN order by record_time desc limit 2\", sqlite3.connect(\"UsedObjects.db\"))"
   ]
  },
  {
   "cell_type": "code",
   "execution_count": 3,
   "id": "periodic-identification",
   "metadata": {
    "execution": {
     "iopub.execute_input": "2021-11-08T13:30:09.632464Z",
     "iopub.status.busy": "2021-11-08T13:30:09.630025Z",
     "iopub.status.idle": "2021-11-08T13:30:09.652660Z",
     "shell.execute_reply": "2021-11-08T13:30:09.654269Z"
    },
    "papermill": {
     "duration": 0.074496,
     "end_time": "2021-11-08T13:30:09.654776",
     "exception": false,
     "start_time": "2021-11-08T13:30:09.580280",
     "status": "completed"
    },
    "tags": []
   },
   "outputs": [
    {
     "data": {
      "text/html": [
       "<div>\n",
       "<style scoped>\n",
       "    .dataframe tbody tr th:only-of-type {\n",
       "        vertical-align: middle;\n",
       "    }\n",
       "\n",
       "    .dataframe tbody tr th {\n",
       "        vertical-align: top;\n",
       "    }\n",
       "\n",
       "    .dataframe thead th {\n",
       "        text-align: right;\n",
       "    }\n",
       "</style>\n",
       "<table border=\"1\" class=\"dataframe\">\n",
       "  <thead>\n",
       "    <tr style=\"text-align: right;\">\n",
       "      <th></th>\n",
       "      <th>RECORD_TIME</th>\n",
       "    </tr>\n",
       "  </thead>\n",
       "  <tbody>\n",
       "    <tr>\n",
       "      <th>0</th>\n",
       "      <td>2021-11-08 14:30</td>\n",
       "    </tr>\n",
       "    <tr>\n",
       "      <th>1</th>\n",
       "      <td>2021-11-08 14:00</td>\n",
       "    </tr>\n",
       "  </tbody>\n",
       "</table>\n",
       "</div>"
      ],
      "text/plain": [
       "        RECORD_TIME\n",
       "0  2021-11-08 14:30\n",
       "1  2021-11-08 14:00"
      ]
     },
     "execution_count": 3,
     "metadata": {},
     "output_type": "execute_result"
    }
   ],
   "source": [
    "timestamps"
   ]
  },
  {
   "cell_type": "code",
   "execution_count": 4,
   "id": "alternate-victory",
   "metadata": {
    "execution": {
     "iopub.execute_input": "2021-11-08T13:30:09.709587Z",
     "iopub.status.busy": "2021-11-08T13:30:09.707204Z",
     "iopub.status.idle": "2021-11-08T13:30:10.842992Z",
     "shell.execute_reply": "2021-11-08T13:30:10.844541Z"
    },
    "papermill": {
     "duration": 1.169732,
     "end_time": "2021-11-08T13:30:10.845173",
     "exception": false,
     "start_time": "2021-11-08T13:30:09.675441",
     "status": "completed"
    },
    "tags": []
   },
   "outputs": [],
   "source": [
    "df = pd.read_sql(\"select * from EBAY_TOP_BERLIN where record_time in (select distinct record_time from EBAY_TOP_BERLIN order by record_time desc limit 2)\", sqlite3.connect(\"UsedObjects.db\"))"
   ]
  },
  {
   "cell_type": "code",
   "execution_count": 5,
   "id": "popular-active",
   "metadata": {
    "execution": {
     "iopub.execute_input": "2021-11-08T13:30:10.918014Z",
     "iopub.status.busy": "2021-11-08T13:30:10.905548Z",
     "iopub.status.idle": "2021-11-08T13:30:10.933679Z",
     "shell.execute_reply": "2021-11-08T13:30:10.934905Z"
    },
    "papermill": {
     "duration": 0.068268,
     "end_time": "2021-11-08T13:30:10.935306",
     "exception": false,
     "start_time": "2021-11-08T13:30:10.867038",
     "status": "completed"
    },
    "tags": []
   },
   "outputs": [],
   "source": [
    "df_pivot = df.pivot_table(index=\"PRODUCT\", columns = \"RECORD_TIME\", values = \"LISTING_COUNT\")"
   ]
  },
  {
   "cell_type": "code",
   "execution_count": 6,
   "id": "union-huntington",
   "metadata": {
    "execution": {
     "iopub.execute_input": "2021-11-08T13:30:10.994394Z",
     "iopub.status.busy": "2021-11-08T13:30:10.991922Z",
     "iopub.status.idle": "2021-11-08T13:30:10.999874Z",
     "shell.execute_reply": "2021-11-08T13:30:10.998390Z"
    },
    "papermill": {
     "duration": 0.042894,
     "end_time": "2021-11-08T13:30:11.000284",
     "exception": false,
     "start_time": "2021-11-08T13:30:10.957390",
     "status": "completed"
    },
    "tags": []
   },
   "outputs": [],
   "source": [
    "df_pivot.columns = [\"stamp_1\", \"stamp_2\"]\n",
    "df_pivot_diff = df_pivot.diff(axis=1)"
   ]
  },
  {
   "cell_type": "code",
   "execution_count": 7,
   "id": "fifth-motion",
   "metadata": {
    "execution": {
     "iopub.execute_input": "2021-11-08T13:30:11.055694Z",
     "iopub.status.busy": "2021-11-08T13:30:11.053314Z",
     "iopub.status.idle": "2021-11-08T13:30:12.834584Z",
     "shell.execute_reply": "2021-11-08T13:30:12.835941Z"
    },
    "papermill": {
     "duration": 1.814104,
     "end_time": "2021-11-08T13:30:12.836417",
     "exception": false,
     "start_time": "2021-11-08T13:30:11.022313",
     "status": "completed"
    },
    "tags": []
   },
   "outputs": [
    {
     "data": {
      "text/plain": [
       "<AxesSubplot:ylabel='PRODUCT'>"
      ]
     },
     "execution_count": 7,
     "metadata": {},
     "output_type": "execute_result"
    },
    {
     "data": {
      "image/png": "[encoded data removed]",
      "text/plain": [
       "<Figure size 432x288 with 1 Axes>"
      ]
     },
     "metadata": {
      "needs_background": "light"
     },
     "output_type": "display_data"
    }
   ],
   "source": [
    "df_pivot_diff.sort_values(\"stamp_2\", ascending = False)[\"stamp_2\"].head(10).plot.barh()"
   ]
  },
  {
   "cell_type": "code",
   "execution_count": null,
   "id": "extra-executive",
   "metadata": {
    "papermill": {
     "duration": 0.023182,
     "end_time": "2021-11-08T13:30:12.883397",
     "exception": false,
     "start_time": "2021-11-08T13:30:12.860215",
     "status": "completed"
    },
    "tags": []
   },
   "outputs": [],
   "source": []
  }
 ],
 "metadata": {
  "kernelspec": {
   "display_name": "Python 3",
   "language": "python",
   "name": "python3"
  },
  "language_info": {
   "codemirror_mode": {
    "name": "ipython",
    "version": 3
   },
   "file_extension": ".py",
   "mimetype": "text/x-python",
   "name": "python",
   "nbconvert_exporter": "python",
   "pygments_lexer": "ipython3",
   "version": "3.9.5"
  },
  "papermill": {
   "default_parameters": {},
   "duration": 8.654905,
   "end_time": "2021-11-08T13:30:13.628950",
   "environment_variables": {},
   "exception": null,
   "input_path": "eBay_Overview.ipynb",
   "output_path": "eBay_Overview.ipynb",
   "parameters": {},
   "start_time": "2021-11-08T13:30:04.974045",
   "version": "2.3.3"
  }
 },
 "nbformat": 4,
 "nbformat_minor": 5
}