{
 "cells": [
  {
   "cell_type": "code",
   "execution_count": 1,
   "id": "reverse-picking",
   "metadata": {
    "execution": {
     "iopub.execute_input": "2021-11-18T04:30:07.863033Z",
     "iopub.status.busy": "2021-11-18T04:30:07.859533Z",
     "iopub.status.idle": "2021-11-18T04:30:08.801394Z",
     "shell.execute_reply": "2021-11-18T04:30:08.803019Z"
    },
    "papermill": {
     "duration": 0.989968,
     "end_time": "2021-11-18T04:30:08.803793",
     "exception": false,
     "start_time": "2021-11-18T04:30:07.813825",
     "status": "completed"
    },
    "tags": []
   },
   "outputs": [],
   "source": [
    "import pandas as pd\n",
    "import sqlite3"
   ]
  },
  {
   "cell_type": "code",
   "execution_count": 2,
   "id": "innovative-syndrome",
   "metadata": {
    "execution": {
     "iopub.execute_input": "2021-11-18T04:30:08.860240Z",
     "iopub.status.busy": "2021-11-18T04:30:08.858101Z",
     "iopub.status.idle": "2021-11-18T04:30:09.706432Z",
     "shell.execute_reply": "2021-11-18T04:30:09.707948Z"
    },
    "papermill": {
     "duration": 0.882646,
     "end_time": "2021-11-18T04:30:09.708418",
     "exception": false,
     "start_time": "2021-11-18T04:30:08.825772",
     "status": "completed"
    },
    "tags": []
   },
   "outputs": [],
   "source": [
    "timestamps = pd.read_sql(\"select distinct record_time from EBAY_TOP_BERLIN order by record_time desc limit 2\", sqlite3.connect(\"UsedObjects.db\"))"
   ]
  },
  {
   "cell_type": "code",
   "execution_count": 3,
   "id": "periodic-identification",
   "metadata": {
    "execution": {
     "iopub.execute_input": "2021-11-18T04:30:09.781252Z",
     "iopub.status.busy": "2021-11-18T04:30:09.778744Z",
     "iopub.status.idle": "2021-11-18T04:30:09.801856Z",
     "shell.execute_reply": "2021-11-18T04:30:09.803334Z"
    },
    "papermill": {
     "duration": 0.074992,
     "end_time": "2021-11-18T04:30:09.803821",
     "exception": false,
     "start_time": "2021-11-18T04:30:09.728829",
     "status": "completed"
    },
    "tags": []
   },
   "outputs": [
    {
     "data": {
      "text/html": [
       "<div>\n",
       "<style scoped>\n",
       "    .dataframe tbody tr th:only-of-type {\n",
       "        vertical-align: middle;\n",
       "    }\n",
       "\n",
       "    .dataframe tbody tr th {\n",
       "        vertical-align: top;\n",
       "    }\n",
       "\n",
       "    .dataframe thead th {\n",
       "        text-align: right;\n",
       "    }\n",
       "</style>\n",
       "<table border=\"1\" class=\"dataframe\">\n",
       "  <thead>\n",
       "    <tr style=\"text-align: right;\">\n",
       "      <th></th>\n",
       "      <th>RECORD_TIME</th>\n",
       "    </tr>\n",
       "  </thead>\n",
       "  <tbody>\n",
       "    <tr>\n",
       "      <th>0</th>\n",
       "      <td>2021-11-18 05:30</td>\n",
       "    </tr>\n",
       "    <tr>\n",
       "      <th>1</th>\n",
       "      <td>2021-11-18 05:00</td>\n",
       "    </tr>\n",
       "  </tbody>\n",
       "</table>\n",
       "</div>"
      ],
      "text/plain": [
       "        RECORD_TIME\n",
       "0  2021-11-18 05:30\n",
       "1  2021-11-18 05:00"
      ]
     },
     "execution_count": 3,
     "metadata": {},
     "output_type": "execute_result"
    }
   ],
   "source": [
    "timestamps"
   ]
  },
  {
   "cell_type": "code",
   "execution_count": 4,
   "id": "alternate-victory",
   "metadata": {
    "execution": {
     "iopub.execute_input": "2021-11-18T04:30:09.859544Z",
     "iopub.status.busy": "2021-11-18T04:30:09.857244Z",
     "iopub.status.idle": "2021-11-18T04:30:11.120230Z",
     "shell.execute_reply": "2021-11-18T04:30:11.122336Z"
    },
    "papermill": {
     "duration": 1.297639,
     "end_time": "2021-11-18T04:30:11.122800",
     "exception": false,
     "start_time": "2021-11-18T04:30:09.825161",
     "status": "completed"
    },
    "tags": []
   },
   "outputs": [],
   "source": [
    "df = pd.read_sql(\"select * from EBAY_TOP_BERLIN where record_time in (select distinct record_time from EBAY_TOP_BERLIN order by record_time desc limit 2)\", sqlite3.connect(\"UsedObjects.db\"))"
   ]
  },
  {
   "cell_type": "code",
   "execution_count": 5,
   "id": "popular-active",
   "metadata": {
    "execution": {
     "iopub.execute_input": "2021-11-18T04:30:11.192675Z",
     "iopub.status.busy": "2021-11-18T04:30:11.183676Z",
     "iopub.status.idle": "2021-11-18T04:30:11.217036Z",
     "shell.execute_reply": "2021-11-18T04:30:11.219110Z"
    },
    "papermill": {
     "duration": 0.076547,
     "end_time": "2021-11-18T04:30:11.219524",
     "exception": false,
     "start_time": "2021-11-18T04:30:11.142977",
     "status": "completed"
    },
    "tags": []
   },
   "outputs": [],
   "source": [
    "df_pivot = df.pivot_table(index=\"PRODUCT\", columns = \"RECORD_TIME\", values = \"LISTING_COUNT\")"
   ]
  },
  {
   "cell_type": "code",
   "execution_count": 6,
   "id": "union-huntington",
   "metadata": {
    "execution": {
     "iopub.execute_input": "2021-11-18T04:30:11.272014Z",
     "iopub.status.busy": "2021-11-18T04:30:11.270123Z",
     "iopub.status.idle": "2021-11-18T04:30:11.294290Z",
     "shell.execute_reply": "2021-11-18T04:30:11.295772Z"
    },
    "papermill": {
     "duration": 0.057225,
     "end_time": "2021-11-18T04:30:11.296220",
     "exception": false,
     "start_time": "2021-11-18T04:30:11.238995",
     "status": "completed"
    },
    "tags": []
   },
   "outputs": [],
   "source": [
    "df_pivot.columns = [\"stamp_1\", \"stamp_2\"]\n",
    "df_pivot_diff = df_pivot.diff(axis=1)"
   ]
  },
  {
   "cell_type": "code",
   "execution_count": 7,
   "id": "fifth-motion",
   "metadata": {
    "execution": {
     "iopub.execute_input": "2021-11-18T04:30:11.355024Z",
     "iopub.status.busy": "2021-11-18T04:30:11.352359Z",
     "iopub.status.idle": "2021-11-18T04:30:13.090961Z",
     "shell.execute_reply": "2021-11-18T04:30:13.092318Z"
    },
    "papermill": {
     "duration": 1.775149,
     "end_time": "2021-11-18T04:30:13.092880",
     "exception": false,
     "start_time": "2021-11-18T04:30:11.317731",
     "status": "completed"
    },
    "tags": []
   },
   "outputs": [
    {
     "data": {
      "text/plain": [
       "<AxesSubplot:ylabel='PRODUCT'>"
      ]
     },
     "execution_count": 7,
     "metadata": {},
     "output_type": "execute_result"
    },
    {
     "data": {
      "image/png": "[encoded data removed]",
      "text/plain": [
       "<Figure size 432x288 with 1 Axes>"
      ]
     },
     "metadata": {
      "needs_background": "light"
     },
     "output_type": "display_data"
    }
   ],
   "source": [
    "df_pivot_diff.sort_values(\"stamp_2\", ascending = False)[\"stamp_2\"].head(10).plot.barh()"
   ]
  },
  {
   "cell_type": "code",
   "execution_count": null,
   "id": "extra-executive",
   "metadata": {
    "papermill": {
     "duration": 0.025005,
     "end_time": "2021-11-18T04:30:13.142884",
     "exception": false,
     "start_time": "2021-11-18T04:30:13.117879",
     "status": "completed"
    },
    "tags": []
   },
   "outputs": [],
   "source": []
  }
 ],
 "metadata": {
  "kernelspec": {
   "display_name": "Python 3",
   "language": "python",
   "name": "python3"
  },
  "language_info": {
   "codemirror_mode": {
    "name": "ipython",
    "version": 3
   },
   "file_extension": ".py",
   "mimetype": "text/x-python",
   "name": "python",
   "nbconvert_exporter": "python",
   "pygments_lexer": "ipython3",
   "version": "3.9.5"
  },
  "papermill": {
   "default_parameters": {},
   "duration": 8.826775,
   "end_time": "2021-11-18T04:30:13.890307",
   "environment_variables": {},
   "exception": null,
   "input_path": "eBay_Overview.ipynb",
   "output_path": "eBay_Overview.ipynb",
   "parameters": {},
   "start_time": "2021-11-18T04:30:05.063532",
   "version": "2.3.3"
  }
 },
 "nbformat": 4,
 "nbformat_minor": 5
}