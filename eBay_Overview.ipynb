{
 "cells": [
  {
   "cell_type": "code",
   "execution_count": 1,
   "id": "reverse-picking",
   "metadata": {
    "execution": {
     "iopub.execute_input": "2021-11-30T12:00:07.632450Z",
     "iopub.status.busy": "2021-11-30T12:00:07.630019Z",
     "iopub.status.idle": "2021-11-30T12:00:08.575238Z",
     "shell.execute_reply": "2021-11-30T12:00:08.576847Z"
    },
    "papermill": {
     "duration": 0.996012,
     "end_time": "2021-11-30T12:00:08.577589",
     "exception": false,
     "start_time": "2021-11-30T12:00:07.581577",
     "status": "completed"
    },
    "tags": []
   },
   "outputs": [],
   "source": [
    "import pandas as pd\n",
    "import sqlite3"
   ]
  },
  {
   "cell_type": "code",
   "execution_count": 2,
   "id": "innovative-syndrome",
   "metadata": {
    "execution": {
     "iopub.execute_input": "2021-11-30T12:00:08.652994Z",
     "iopub.status.busy": "2021-11-30T12:00:08.650695Z",
     "iopub.status.idle": "2021-11-30T12:00:09.607291Z",
     "shell.execute_reply": "2021-11-30T12:00:09.608586Z"
    },
    "papermill": {
     "duration": 1.002027,
     "end_time": "2021-11-30T12:00:09.609098",
     "exception": false,
     "start_time": "2021-11-30T12:00:08.607071",
     "status": "completed"
    },
    "tags": []
   },
   "outputs": [],
   "source": [
    "timestamps = pd.read_sql(\"select distinct record_time from EBAY_TOP_BERLIN order by record_time desc limit 2\", sqlite3.connect(\"UsedObjects.db\"))"
   ]
  },
  {
   "cell_type": "code",
   "execution_count": 3,
   "id": "periodic-identification",
   "metadata": {
    "execution": {
     "iopub.execute_input": "2021-11-30T12:00:09.674421Z",
     "iopub.status.busy": "2021-11-30T12:00:09.672259Z",
     "iopub.status.idle": "2021-11-30T12:00:09.694775Z",
     "shell.execute_reply": "2021-11-30T12:00:09.696426Z"
    },
    "papermill": {
     "duration": 0.06806,
     "end_time": "2021-11-30T12:00:09.696979",
     "exception": false,
     "start_time": "2021-11-30T12:00:09.628919",
     "status": "completed"
    },
    "tags": []
   },
   "outputs": [
    {
     "data": {
      "text/html": [
       "<div>\n",
       "<style scoped>\n",
       "    .dataframe tbody tr th:only-of-type {\n",
       "        vertical-align: middle;\n",
       "    }\n",
       "\n",
       "    .dataframe tbody tr th {\n",
       "        vertical-align: top;\n",
       "    }\n",
       "\n",
       "    .dataframe thead th {\n",
       "        text-align: right;\n",
       "    }\n",
       "</style>\n",
       "<table border=\"1\" class=\"dataframe\">\n",
       "  <thead>\n",
       "    <tr style=\"text-align: right;\">\n",
       "      <th></th>\n",
       "      <th>RECORD_TIME</th>\n",
       "    </tr>\n",
       "  </thead>\n",
       "  <tbody>\n",
       "    <tr>\n",
       "      <th>0</th>\n",
       "      <td>2021-11-30 13:00</td>\n",
       "    </tr>\n",
       "    <tr>\n",
       "      <th>1</th>\n",
       "      <td>2021-11-30 12:30</td>\n",
       "    </tr>\n",
       "  </tbody>\n",
       "</table>\n",
       "</div>"
      ],
      "text/plain": [
       "        RECORD_TIME\n",
       "0  2021-11-30 13:00\n",
       "1  2021-11-30 12:30"
      ]
     },
     "execution_count": 3,
     "metadata": {},
     "output_type": "execute_result"
    }
   ],
   "source": [
    "timestamps"
   ]
  },
  {
   "cell_type": "code",
   "execution_count": 4,
   "id": "alternate-victory",
   "metadata": {
    "execution": {
     "iopub.execute_input": "2021-11-30T12:00:09.752804Z",
     "iopub.status.busy": "2021-11-30T12:00:09.750657Z",
     "iopub.status.idle": "2021-11-30T12:00:11.131559Z",
     "shell.execute_reply": "2021-11-30T12:00:11.133785Z"
    },
    "papermill": {
     "duration": 1.414397,
     "end_time": "2021-11-30T12:00:11.134259",
     "exception": false,
     "start_time": "2021-11-30T12:00:09.719862",
     "status": "completed"
    },
    "tags": []
   },
   "outputs": [],
   "source": [
    "df = pd.read_sql(\"select * from EBAY_TOP_BERLIN where record_time in (select distinct record_time from EBAY_TOP_BERLIN order by record_time desc limit 2)\", sqlite3.connect(\"UsedObjects.db\"))"
   ]
  },
  {
   "cell_type": "code",
   "execution_count": 5,
   "id": "popular-active",
   "metadata": {
    "execution": {
     "iopub.execute_input": "2021-11-30T12:00:11.212868Z",
     "iopub.status.busy": "2021-11-30T12:00:11.199742Z",
     "iopub.status.idle": "2021-11-30T12:00:11.230460Z",
     "shell.execute_reply": "2021-11-30T12:00:11.232112Z"
    },
    "papermill": {
     "duration": 0.075418,
     "end_time": "2021-11-30T12:00:11.232602",
     "exception": false,
     "start_time": "2021-11-30T12:00:11.157184",
     "status": "completed"
    },
    "tags": []
   },
   "outputs": [],
   "source": [
    "df_pivot = df.pivot_table(index=\"PRODUCT\", columns = \"RECORD_TIME\", values = \"LISTING_COUNT\")"
   ]
  },
  {
   "cell_type": "code",
   "execution_count": 6,
   "id": "union-huntington",
   "metadata": {
    "execution": {
     "iopub.execute_input": "2021-11-30T12:00:11.290059Z",
     "iopub.status.busy": "2021-11-30T12:00:11.287501Z",
     "iopub.status.idle": "2021-11-30T12:00:11.296467Z",
     "shell.execute_reply": "2021-11-30T12:00:11.298349Z"
    },
    "papermill": {
     "duration": 0.046151,
     "end_time": "2021-11-30T12:00:11.298880",
     "exception": false,
     "start_time": "2021-11-30T12:00:11.252729",
     "status": "completed"
    },
    "tags": []
   },
   "outputs": [],
   "source": [
    "df_pivot.columns = [\"stamp_1\", \"stamp_2\"]\n",
    "df_pivot_diff = df_pivot.diff(axis=1)"
   ]
  },
  {
   "cell_type": "code",
   "execution_count": 7,
   "id": "fifth-motion",
   "metadata": {
    "execution": {
     "iopub.execute_input": "2021-11-30T12:00:11.359811Z",
     "iopub.status.busy": "2021-11-30T12:00:11.357381Z",
     "iopub.status.idle": "2021-11-30T12:00:13.360423Z",
     "shell.execute_reply": "2021-11-30T12:00:13.362463Z"
    },
    "papermill": {
     "duration": 2.041754,
     "end_time": "2021-11-30T12:00:13.363045",
     "exception": false,
     "start_time": "2021-11-30T12:00:11.321291",
     "status": "completed"
    },
    "tags": []
   },
   "outputs": [
    {
     "data": {
      "text/plain": [
       "<AxesSubplot:ylabel='PRODUCT'>"
      ]
     },
     "execution_count": 7,
     "metadata": {},
     "output_type": "execute_result"
    },
    {
     "data": {
      "image/png": "[encoded data removed]",
      "text/plain": [
       "<Figure size 432x288 with 1 Axes>"
      ]
     },
     "metadata": {
      "needs_background": "light"
     },
     "output_type": "display_data"
    }
   ],
   "source": [
    "df_pivot_diff.sort_values(\"stamp_2\", ascending = False)[\"stamp_2\"].head(10).plot.barh()"
   ]
  },
  {
   "cell_type": "code",
   "execution_count": null,
   "id": "extra-executive",
   "metadata": {
    "papermill": {
     "duration": 0.022236,
     "end_time": "2021-11-30T12:00:13.409497",
     "exception": false,
     "start_time": "2021-11-30T12:00:13.387261",
     "status": "completed"
    },
    "tags": []
   },
   "outputs": [],
   "source": []
  }
 ],
 "metadata": {
  "kernelspec": {
   "display_name": "Python 3",
   "language": "python",
   "name": "python3"
  },
  "language_info": {
   "codemirror_mode": {
    "name": "ipython",
    "version": 3
   },
   "file_extension": ".py",
   "mimetype": "text/x-python",
   "name": "python",
   "nbconvert_exporter": "python",
   "pygments_lexer": "ipython3",
   "version": "3.9.5"
  },
  "papermill": {
   "default_parameters": {},
   "duration": 9.92673,
   "end_time": "2021-11-30T12:00:14.794533",
   "environment_variables": {},
   "exception": null,
   "input_path": "eBay_Overview.ipynb",
   "output_path": "eBay_Overview.ipynb",
   "parameters": {},
   "start_time": "2021-11-30T12:00:04.867803",
   "version": "2.3.3"
  }
 },
 "nbformat": 4,
 "nbformat_minor": 5
}