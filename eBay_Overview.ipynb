{
 "cells": [
  {
   "cell_type": "code",
   "execution_count": 1,
   "id": "reverse-picking",
   "metadata": {
    "execution": {
     "iopub.execute_input": "2021-08-13T15:30:07.218678Z",
     "iopub.status.busy": "2021-08-13T15:30:07.216649Z",
     "iopub.status.idle": "2021-08-13T15:30:08.028124Z",
     "shell.execute_reply": "2021-08-13T15:30:08.026540Z"
    },
    "papermill": {
     "duration": 0.861883,
     "end_time": "2021-08-13T15:30:08.028516",
     "exception": false,
     "start_time": "2021-08-13T15:30:07.166633",
     "status": "completed"
    },
    "tags": []
   },
   "outputs": [],
   "source": [
    "import pandas as pd\n",
    "import sqlite3"
   ]
  },
  {
   "cell_type": "code",
   "execution_count": 2,
   "id": "innovative-syndrome",
   "metadata": {
    "execution": {
     "iopub.execute_input": "2021-08-13T15:30:08.080938Z",
     "iopub.status.busy": "2021-08-13T15:30:08.078755Z",
     "iopub.status.idle": "2021-08-13T15:30:08.121450Z",
     "shell.execute_reply": "2021-08-13T15:30:08.122719Z"
    },
    "papermill": {
     "duration": 0.072842,
     "end_time": "2021-08-13T15:30:08.123118",
     "exception": false,
     "start_time": "2021-08-13T15:30:08.050276",
     "status": "completed"
    },
    "tags": []
   },
   "outputs": [],
   "source": [
    "timestamps = pd.read_sql(\"select distinct record_time from EBAY_TOP_BERLIN order by record_time desc limit 2\", sqlite3.connect(\"UsedObjects.db\"))"
   ]
  },
  {
   "cell_type": "code",
   "execution_count": 3,
   "id": "periodic-identification",
   "metadata": {
    "execution": {
     "iopub.execute_input": "2021-08-13T15:30:08.187724Z",
     "iopub.status.busy": "2021-08-13T15:30:08.185623Z",
     "iopub.status.idle": "2021-08-13T15:30:08.207072Z",
     "shell.execute_reply": "2021-08-13T15:30:08.208550Z"
    },
    "papermill": {
     "duration": 0.066557,
     "end_time": "2021-08-13T15:30:08.209009",
     "exception": false,
     "start_time": "2021-08-13T15:30:08.142452",
     "status": "completed"
    },
    "tags": []
   },
   "outputs": [
    {
     "data": {
      "text/html": [
       "<div>\n",
       "<style scoped>\n",
       "    .dataframe tbody tr th:only-of-type {\n",
       "        vertical-align: middle;\n",
       "    }\n",
       "\n",
       "    .dataframe tbody tr th {\n",
       "        vertical-align: top;\n",
       "    }\n",
       "\n",
       "    .dataframe thead th {\n",
       "        text-align: right;\n",
       "    }\n",
       "</style>\n",
       "<table border=\"1\" class=\"dataframe\">\n",
       "  <thead>\n",
       "    <tr style=\"text-align: right;\">\n",
       "      <th></th>\n",
       "      <th>RECORD_TIME</th>\n",
       "    </tr>\n",
       "  </thead>\n",
       "  <tbody>\n",
       "    <tr>\n",
       "      <th>0</th>\n",
       "      <td>2021-08-13 17:30</td>\n",
       "    </tr>\n",
       "    <tr>\n",
       "      <th>1</th>\n",
       "      <td>2021-08-13 17:00</td>\n",
       "    </tr>\n",
       "  </tbody>\n",
       "</table>\n",
       "</div>"
      ],
      "text/plain": [
       "        RECORD_TIME\n",
       "0  2021-08-13 17:30\n",
       "1  2021-08-13 17:00"
      ]
     },
     "execution_count": 3,
     "metadata": {},
     "output_type": "execute_result"
    }
   ],
   "source": [
    "timestamps"
   ]
  },
  {
   "cell_type": "code",
   "execution_count": 4,
   "id": "alternate-victory",
   "metadata": {
    "execution": {
     "iopub.execute_input": "2021-08-13T15:30:08.262351Z",
     "iopub.status.busy": "2021-08-13T15:30:08.260218Z",
     "iopub.status.idle": "2021-08-13T15:30:08.320573Z",
     "shell.execute_reply": "2021-08-13T15:30:08.321787Z"
    },
    "papermill": {
     "duration": 0.091313,
     "end_time": "2021-08-13T15:30:08.322239",
     "exception": false,
     "start_time": "2021-08-13T15:30:08.230926",
     "status": "completed"
    },
    "tags": []
   },
   "outputs": [],
   "source": [
    "df = pd.read_sql(\"select * from EBAY_TOP_BERLIN where record_time in (select distinct record_time from EBAY_TOP_BERLIN order by record_time desc limit 2)\", sqlite3.connect(\"UsedObjects.db\"))"
   ]
  },
  {
   "cell_type": "code",
   "execution_count": 5,
   "id": "popular-active",
   "metadata": {
    "execution": {
     "iopub.execute_input": "2021-08-13T15:30:08.391866Z",
     "iopub.status.busy": "2021-08-13T15:30:08.380081Z",
     "iopub.status.idle": "2021-08-13T15:30:08.409328Z",
     "shell.execute_reply": "2021-08-13T15:30:08.410700Z"
    },
    "papermill": {
     "duration": 0.06851,
     "end_time": "2021-08-13T15:30:08.411122",
     "exception": false,
     "start_time": "2021-08-13T15:30:08.342612",
     "status": "completed"
    },
    "tags": []
   },
   "outputs": [],
   "source": [
    "df_pivot = df.pivot_table(index=\"PRODUCT\", columns = \"RECORD_TIME\", values = \"LISTING_COUNT\")"
   ]
  },
  {
   "cell_type": "code",
   "execution_count": 6,
   "id": "union-huntington",
   "metadata": {
    "execution": {
     "iopub.execute_input": "2021-08-13T15:30:08.467081Z",
     "iopub.status.busy": "2021-08-13T15:30:08.465033Z",
     "iopub.status.idle": "2021-08-13T15:30:08.470100Z",
     "shell.execute_reply": "2021-08-13T15:30:08.471314Z"
    },
    "papermill": {
     "duration": 0.040224,
     "end_time": "2021-08-13T15:30:08.471708",
     "exception": false,
     "start_time": "2021-08-13T15:30:08.431484",
     "status": "completed"
    },
    "tags": []
   },
   "outputs": [],
   "source": [
    "df_pivot.columns = [\"stamp_1\", \"stamp_2\"]\n",
    "df_pivot_diff = df_pivot.diff(axis=1)"
   ]
  },
  {
   "cell_type": "code",
   "execution_count": 7,
   "id": "fifth-motion",
   "metadata": {
    "execution": {
     "iopub.execute_input": "2021-08-13T15:30:08.527339Z",
     "iopub.status.busy": "2021-08-13T15:30:08.524729Z",
     "iopub.status.idle": "2021-08-13T15:30:10.021192Z",
     "shell.execute_reply": "2021-08-13T15:30:10.022629Z"
    },
    "papermill": {
     "duration": 1.530163,
     "end_time": "2021-08-13T15:30:10.023077",
     "exception": false,
     "start_time": "2021-08-13T15:30:08.492914",
     "status": "completed"
    },
    "tags": []
   },
   "outputs": [
    {
     "data": {
      "text/plain": [
       "<AxesSubplot:ylabel='PRODUCT'>"
      ]
     },
     "execution_count": 7,
     "metadata": {},
     "output_type": "execute_result"
    },
    {
     "data": {
      "image/png": "[encoded data removed]",
      "text/plain": [
       "<Figure size 432x288 with 1 Axes>"
      ]
     },
     "metadata": {
      "needs_background": "light"
     },
     "output_type": "display_data"
    }
   ],
   "source": [
    "df_pivot_diff.sort_values(\"stamp_2\", ascending = False)[\"stamp_2\"].head(10).plot.barh()"
   ]
  },
  {
   "cell_type": "code",
   "execution_count": null,
   "id": "extra-executive",
   "metadata": {
    "papermill": {
     "duration": 0.022409,
     "end_time": "2021-08-13T15:30:10.070368",
     "exception": false,
     "start_time": "2021-08-13T15:30:10.047959",
     "status": "completed"
    },
    "tags": []
   },
   "outputs": [],
   "source": []
  }
 ],
 "metadata": {
  "kernelspec": {
   "display_name": "Python 3",
   "language": "python",
   "name": "python3"
  },
  "language_info": {
   "codemirror_mode": {
    "name": "ipython",
    "version": 3
   },
   "file_extension": ".py",
   "mimetype": "text/x-python",
   "name": "python",
   "nbconvert_exporter": "python",
   "pygments_lexer": "ipython3",
   "version": "3.9.5"
  },
  "papermill": {
   "default_parameters": {},
   "duration": 6.830818,
   "end_time": "2021-08-13T15:30:11.571501",
   "environment_variables": {},
   "exception": null,
   "input_path": "eBay_Overview.ipynb",
   "output_path": "eBay_Overview.ipynb",
   "parameters": {},
   "start_time": "2021-08-13T15:30:04.740683",
   "version": "2.3.3"
  }
 },
 "nbformat": 4,
 "nbformat_minor": 5
}