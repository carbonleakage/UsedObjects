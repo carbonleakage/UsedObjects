{
 "cells": [
  {
   "cell_type": "code",
   "execution_count": 1,
   "id": "reverse-picking",
   "metadata": {
    "execution": {
     "iopub.execute_input": "2021-11-28T12:30:07.393704Z",
     "iopub.status.busy": "2021-11-28T12:30:07.390751Z",
     "iopub.status.idle": "2021-11-28T12:30:08.354114Z",
     "shell.execute_reply": "2021-11-28T12:30:08.355676Z"
    },
    "papermill": {
     "duration": 1.010851,
     "end_time": "2021-11-28T12:30:08.356421",
     "exception": false,
     "start_time": "2021-11-28T12:30:07.345570",
     "status": "completed"
    },
    "tags": []
   },
   "outputs": [],
   "source": [
    "import pandas as pd\n",
    "import sqlite3"
   ]
  },
  {
   "cell_type": "code",
   "execution_count": 2,
   "id": "innovative-syndrome",
   "metadata": {
    "execution": {
     "iopub.execute_input": "2021-11-28T12:30:08.421257Z",
     "iopub.status.busy": "2021-11-28T12:30:08.418891Z",
     "iopub.status.idle": "2021-11-28T12:30:09.362225Z",
     "shell.execute_reply": "2021-11-28T12:30:09.364386Z"
    },
    "papermill": {
     "duration": 0.978176,
     "end_time": "2021-11-28T12:30:09.364946",
     "exception": false,
     "start_time": "2021-11-28T12:30:08.386770",
     "status": "completed"
    },
    "tags": []
   },
   "outputs": [],
   "source": [
    "timestamps = pd.read_sql(\"select distinct record_time from EBAY_TOP_BERLIN order by record_time desc limit 2\", sqlite3.connect(\"UsedObjects.db\"))"
   ]
  },
  {
   "cell_type": "code",
   "execution_count": 3,
   "id": "periodic-identification",
   "metadata": {
    "execution": {
     "iopub.execute_input": "2021-11-28T12:30:09.435454Z",
     "iopub.status.busy": "2021-11-28T12:30:09.433162Z",
     "iopub.status.idle": "2021-11-28T12:30:09.460928Z",
     "shell.execute_reply": "2021-11-28T12:30:09.462425Z"
    },
    "papermill": {
     "duration": 0.077653,
     "end_time": "2021-11-28T12:30:09.462922",
     "exception": false,
     "start_time": "2021-11-28T12:30:09.385269",
     "status": "completed"
    },
    "tags": []
   },
   "outputs": [
    {
     "data": {
      "text/html": [
       "<div>\n",
       "<style scoped>\n",
       "    .dataframe tbody tr th:only-of-type {\n",
       "        vertical-align: middle;\n",
       "    }\n",
       "\n",
       "    .dataframe tbody tr th {\n",
       "        vertical-align: top;\n",
       "    }\n",
       "\n",
       "    .dataframe thead th {\n",
       "        text-align: right;\n",
       "    }\n",
       "</style>\n",
       "<table border=\"1\" class=\"dataframe\">\n",
       "  <thead>\n",
       "    <tr style=\"text-align: right;\">\n",
       "      <th></th>\n",
       "      <th>RECORD_TIME</th>\n",
       "    </tr>\n",
       "  </thead>\n",
       "  <tbody>\n",
       "    <tr>\n",
       "      <th>0</th>\n",
       "      <td>2021-11-28 13:30</td>\n",
       "    </tr>\n",
       "    <tr>\n",
       "      <th>1</th>\n",
       "      <td>2021-11-28 13:00</td>\n",
       "    </tr>\n",
       "  </tbody>\n",
       "</table>\n",
       "</div>"
      ],
      "text/plain": [
       "        RECORD_TIME\n",
       "0  2021-11-28 13:30\n",
       "1  2021-11-28 13:00"
      ]
     },
     "execution_count": 3,
     "metadata": {},
     "output_type": "execute_result"
    }
   ],
   "source": [
    "timestamps"
   ]
  },
  {
   "cell_type": "code",
   "execution_count": 4,
   "id": "alternate-victory",
   "metadata": {
    "execution": {
     "iopub.execute_input": "2021-11-28T12:30:09.512641Z",
     "iopub.status.busy": "2021-11-28T12:30:09.510778Z",
     "iopub.status.idle": "2021-11-28T12:30:10.837991Z",
     "shell.execute_reply": "2021-11-28T12:30:10.839421Z"
    },
    "papermill": {
     "duration": 1.357558,
     "end_time": "2021-11-28T12:30:10.839922",
     "exception": false,
     "start_time": "2021-11-28T12:30:09.482364",
     "status": "completed"
    },
    "tags": []
   },
   "outputs": [],
   "source": [
    "df = pd.read_sql(\"select * from EBAY_TOP_BERLIN where record_time in (select distinct record_time from EBAY_TOP_BERLIN order by record_time desc limit 2)\", sqlite3.connect(\"UsedObjects.db\"))"
   ]
  },
  {
   "cell_type": "code",
   "execution_count": 5,
   "id": "popular-active",
   "metadata": {
    "execution": {
     "iopub.execute_input": "2021-11-28T12:30:10.923320Z",
     "iopub.status.busy": "2021-11-28T12:30:10.909805Z",
     "iopub.status.idle": "2021-11-28T12:30:10.941361Z",
     "shell.execute_reply": "2021-11-28T12:30:10.942704Z"
    },
    "papermill": {
     "duration": 0.080359,
     "end_time": "2021-11-28T12:30:10.943169",
     "exception": false,
     "start_time": "2021-11-28T12:30:10.862810",
     "status": "completed"
    },
    "tags": []
   },
   "outputs": [],
   "source": [
    "df_pivot = df.pivot_table(index=\"PRODUCT\", columns = \"RECORD_TIME\", values = \"LISTING_COUNT\")"
   ]
  },
  {
   "cell_type": "code",
   "execution_count": 6,
   "id": "union-huntington",
   "metadata": {
    "execution": {
     "iopub.execute_input": "2021-11-28T12:30:11.002118Z",
     "iopub.status.busy": "2021-11-28T12:30:10.999940Z",
     "iopub.status.idle": "2021-11-28T12:30:11.005973Z",
     "shell.execute_reply": "2021-11-28T12:30:11.007853Z"
    },
    "papermill": {
     "duration": 0.04441,
     "end_time": "2021-11-28T12:30:11.008364",
     "exception": false,
     "start_time": "2021-11-28T12:30:10.963954",
     "status": "completed"
    },
    "tags": []
   },
   "outputs": [],
   "source": [
    "df_pivot.columns = [\"stamp_1\", \"stamp_2\"]\n",
    "df_pivot_diff = df_pivot.diff(axis=1)"
   ]
  },
  {
   "cell_type": "code",
   "execution_count": 7,
   "id": "fifth-motion",
   "metadata": {
    "execution": {
     "iopub.execute_input": "2021-11-28T12:30:11.070152Z",
     "iopub.status.busy": "2021-11-28T12:30:11.067522Z",
     "iopub.status.idle": "2021-11-28T12:30:13.077255Z",
     "shell.execute_reply": "2021-11-28T12:30:13.079048Z"
    },
    "papermill": {
     "duration": 2.048209,
     "end_time": "2021-11-28T12:30:13.079648",
     "exception": false,
     "start_time": "2021-11-28T12:30:11.031439",
     "status": "completed"
    },
    "tags": []
   },
   "outputs": [
    {
     "data": {
      "text/plain": [
       "<AxesSubplot:ylabel='PRODUCT'>"
      ]
     },
     "execution_count": 7,
     "metadata": {},
     "output_type": "execute_result"
    },
    {
     "data": {
      "image/png": "[encoded data removed]",
      "text/plain": [
       "<Figure size 432x288 with 1 Axes>"
      ]
     },
     "metadata": {
      "needs_background": "light"
     },
     "output_type": "display_data"
    }
   ],
   "source": [
    "df_pivot_diff.sort_values(\"stamp_2\", ascending = False)[\"stamp_2\"].head(10).plot.barh()"
   ]
  },
  {
   "cell_type": "code",
   "execution_count": null,
   "id": "extra-executive",
   "metadata": {
    "papermill": {
     "duration": 0.033693,
     "end_time": "2021-11-28T12:30:13.141653",
     "exception": false,
     "start_time": "2021-11-28T12:30:13.107960",
     "status": "completed"
    },
    "tags": []
   },
   "outputs": [],
   "source": []
  }
 ],
 "metadata": {
  "kernelspec": {
   "display_name": "Python 3",
   "language": "python",
   "name": "python3"
  },
  "language_info": {
   "codemirror_mode": {
    "name": "ipython",
    "version": 3
   },
   "file_extension": ".py",
   "mimetype": "text/x-python",
   "name": "python",
   "nbconvert_exporter": "python",
   "pygments_lexer": "ipython3",
   "version": "3.9.5"
  },
  "papermill": {
   "default_parameters": {},
   "duration": 9.936032,
   "end_time": "2021-11-28T12:30:14.557834",
   "environment_variables": {},
   "exception": null,
   "input_path": "eBay_Overview.ipynb",
   "output_path": "eBay_Overview.ipynb",
   "parameters": {},
   "start_time": "2021-11-28T12:30:04.621802",
   "version": "2.3.3"
  }
 },
 "nbformat": 4,
 "nbformat_minor": 5
}