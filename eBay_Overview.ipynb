{
 "cells": [
  {
   "cell_type": "code",
   "execution_count": 1,
   "id": "reverse-picking",
   "metadata": {
    "execution": {
     "iopub.execute_input": "2021-09-06T22:30:07.220624Z",
     "iopub.status.busy": "2021-09-06T22:30:07.218558Z",
     "iopub.status.idle": "2021-09-06T22:30:08.030429Z",
     "shell.execute_reply": "2021-09-06T22:30:08.031858Z"
    },
    "papermill": {
     "duration": 0.863045,
     "end_time": "2021-09-06T22:30:08.032523",
     "exception": false,
     "start_time": "2021-09-06T22:30:07.169478",
     "status": "completed"
    },
    "tags": []
   },
   "outputs": [],
   "source": [
    "import pandas as pd\n",
    "import sqlite3"
   ]
  },
  {
   "cell_type": "code",
   "execution_count": 2,
   "id": "innovative-syndrome",
   "metadata": {
    "execution": {
     "iopub.execute_input": "2021-09-06T22:30:08.083397Z",
     "iopub.status.busy": "2021-09-06T22:30:08.081367Z",
     "iopub.status.idle": "2021-09-06T22:30:08.302058Z",
     "shell.execute_reply": "2021-09-06T22:30:08.303435Z"
    },
    "papermill": {
     "duration": 0.250862,
     "end_time": "2021-09-06T22:30:08.303848",
     "exception": false,
     "start_time": "2021-09-06T22:30:08.052986",
     "status": "completed"
    },
    "tags": []
   },
   "outputs": [],
   "source": [
    "timestamps = pd.read_sql(\"select distinct record_time from EBAY_TOP_BERLIN order by record_time desc limit 2\", sqlite3.connect(\"UsedObjects.db\"))"
   ]
  },
  {
   "cell_type": "code",
   "execution_count": 3,
   "id": "periodic-identification",
   "metadata": {
    "execution": {
     "iopub.execute_input": "2021-09-06T22:30:08.370803Z",
     "iopub.status.busy": "2021-09-06T22:30:08.368787Z",
     "iopub.status.idle": "2021-09-06T22:30:08.389197Z",
     "shell.execute_reply": "2021-09-06T22:30:08.390757Z"
    },
    "papermill": {
     "duration": 0.066631,
     "end_time": "2021-09-06T22:30:08.391296",
     "exception": false,
     "start_time": "2021-09-06T22:30:08.324665",
     "status": "completed"
    },
    "tags": []
   },
   "outputs": [
    {
     "data": {
      "text/html": [
       "<div>\n",
       "<style scoped>\n",
       "    .dataframe tbody tr th:only-of-type {\n",
       "        vertical-align: middle;\n",
       "    }\n",
       "\n",
       "    .dataframe tbody tr th {\n",
       "        vertical-align: top;\n",
       "    }\n",
       "\n",
       "    .dataframe thead th {\n",
       "        text-align: right;\n",
       "    }\n",
       "</style>\n",
       "<table border=\"1\" class=\"dataframe\">\n",
       "  <thead>\n",
       "    <tr style=\"text-align: right;\">\n",
       "      <th></th>\n",
       "      <th>RECORD_TIME</th>\n",
       "    </tr>\n",
       "  </thead>\n",
       "  <tbody>\n",
       "    <tr>\n",
       "      <th>0</th>\n",
       "      <td>2021-09-07 00:30</td>\n",
       "    </tr>\n",
       "    <tr>\n",
       "      <th>1</th>\n",
       "      <td>2021-09-07 00:00</td>\n",
       "    </tr>\n",
       "  </tbody>\n",
       "</table>\n",
       "</div>"
      ],
      "text/plain": [
       "        RECORD_TIME\n",
       "0  2021-09-07 00:30\n",
       "1  2021-09-07 00:00"
      ]
     },
     "execution_count": 3,
     "metadata": {},
     "output_type": "execute_result"
    }
   ],
   "source": [
    "timestamps"
   ]
  },
  {
   "cell_type": "code",
   "execution_count": 4,
   "id": "alternate-victory",
   "metadata": {
    "execution": {
     "iopub.execute_input": "2021-09-06T22:30:08.443677Z",
     "iopub.status.busy": "2021-09-06T22:30:08.441684Z",
     "iopub.status.idle": "2021-09-06T22:30:08.774494Z",
     "shell.execute_reply": "2021-09-06T22:30:08.775919Z"
    },
    "papermill": {
     "duration": 0.36284,
     "end_time": "2021-09-06T22:30:08.776361",
     "exception": false,
     "start_time": "2021-09-06T22:30:08.413521",
     "status": "completed"
    },
    "tags": []
   },
   "outputs": [],
   "source": [
    "df = pd.read_sql(\"select * from EBAY_TOP_BERLIN where record_time in (select distinct record_time from EBAY_TOP_BERLIN order by record_time desc limit 2)\", sqlite3.connect(\"UsedObjects.db\"))"
   ]
  },
  {
   "cell_type": "code",
   "execution_count": 5,
   "id": "popular-active",
   "metadata": {
    "execution": {
     "iopub.execute_input": "2021-09-06T22:30:08.871325Z",
     "iopub.status.busy": "2021-09-06T22:30:08.859985Z",
     "iopub.status.idle": "2021-09-06T22:30:08.886983Z",
     "shell.execute_reply": "2021-09-06T22:30:08.888388Z"
    },
    "papermill": {
     "duration": 0.073792,
     "end_time": "2021-09-06T22:30:08.888818",
     "exception": false,
     "start_time": "2021-09-06T22:30:08.815026",
     "status": "completed"
    },
    "tags": []
   },
   "outputs": [],
   "source": [
    "df_pivot = df.pivot_table(index=\"PRODUCT\", columns = \"RECORD_TIME\", values = \"LISTING_COUNT\")"
   ]
  },
  {
   "cell_type": "code",
   "execution_count": 6,
   "id": "union-huntington",
   "metadata": {
    "execution": {
     "iopub.execute_input": "2021-09-06T22:30:08.946288Z",
     "iopub.status.busy": "2021-09-06T22:30:08.943826Z",
     "iopub.status.idle": "2021-09-06T22:30:08.949749Z",
     "shell.execute_reply": "2021-09-06T22:30:08.950995Z"
    },
    "papermill": {
     "duration": 0.042303,
     "end_time": "2021-09-06T22:30:08.951426",
     "exception": false,
     "start_time": "2021-09-06T22:30:08.909123",
     "status": "completed"
    },
    "tags": []
   },
   "outputs": [],
   "source": [
    "df_pivot.columns = [\"stamp_1\", \"stamp_2\"]\n",
    "df_pivot_diff = df_pivot.diff(axis=1)"
   ]
  },
  {
   "cell_type": "code",
   "execution_count": 7,
   "id": "fifth-motion",
   "metadata": {
    "execution": {
     "iopub.execute_input": "2021-09-06T22:30:09.005961Z",
     "iopub.status.busy": "2021-09-06T22:30:09.003674Z",
     "iopub.status.idle": "2021-09-06T22:30:10.485606Z",
     "shell.execute_reply": "2021-09-06T22:30:10.486927Z"
    },
    "papermill": {
     "duration": 1.515336,
     "end_time": "2021-09-06T22:30:10.487392",
     "exception": false,
     "start_time": "2021-09-06T22:30:08.972056",
     "status": "completed"
    },
    "tags": []
   },
   "outputs": [
    {
     "data": {
      "text/plain": [
       "<AxesSubplot:ylabel='PRODUCT'>"
      ]
     },
     "execution_count": 7,
     "metadata": {},
     "output_type": "execute_result"
    },
    {
     "data": {
      "image/png": "[encoded data removed]",
      "text/plain": [
       "<Figure size 432x288 with 1 Axes>"
      ]
     },
     "metadata": {
      "needs_background": "light"
     },
     "output_type": "display_data"
    }
   ],
   "source": [
    "df_pivot_diff.sort_values(\"stamp_2\", ascending = False)[\"stamp_2\"].head(10).plot.barh()"
   ]
  },
  {
   "cell_type": "code",
   "execution_count": null,
   "id": "extra-executive",
   "metadata": {
    "papermill": {
     "duration": 0.022058,
     "end_time": "2021-09-06T22:30:10.534167",
     "exception": false,
     "start_time": "2021-09-06T22:30:10.512109",
     "status": "completed"
    },
    "tags": []
   },
   "outputs": [],
   "source": []
  }
 ],
 "metadata": {
  "kernelspec": {
   "display_name": "Python 3",
   "language": "python",
   "name": "python3"
  },
  "language_info": {
   "codemirror_mode": {
    "name": "ipython",
    "version": 3
   },
   "file_extension": ".py",
   "mimetype": "text/x-python",
   "name": "python",
   "nbconvert_exporter": "python",
   "pygments_lexer": "ipython3",
   "version": "3.9.5"
  },
  "papermill": {
   "default_parameters": {},
   "duration": 6.427782,
   "end_time": "2021-09-06T22:30:11.174811",
   "environment_variables": {},
   "exception": null,
   "input_path": "eBay_Overview.ipynb",
   "output_path": "eBay_Overview.ipynb",
   "parameters": {},
   "start_time": "2021-09-06T22:30:04.747029",
   "version": "2.3.3"
  }
 },
 "nbformat": 4,
 "nbformat_minor": 5
}