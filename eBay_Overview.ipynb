{
 "cells": [
  {
   "cell_type": "code",
   "execution_count": 1,
   "id": "reverse-picking",
   "metadata": {
    "execution": {
     "iopub.execute_input": "2021-12-04T13:00:07.682608Z",
     "iopub.status.busy": "2021-12-04T13:00:07.678922Z",
     "iopub.status.idle": "2021-12-04T13:00:08.650356Z",
     "shell.execute_reply": "2021-12-04T13:00:08.651995Z"
    },
    "papermill": {
     "duration": 1.020437,
     "end_time": "2021-12-04T13:00:08.652830",
     "exception": false,
     "start_time": "2021-12-04T13:00:07.632393",
     "status": "completed"
    },
    "tags": []
   },
   "outputs": [],
   "source": [
    "import pandas as pd\n",
    "import sqlite3"
   ]
  },
  {
   "cell_type": "code",
   "execution_count": 2,
   "id": "innovative-syndrome",
   "metadata": {
    "execution": {
     "iopub.execute_input": "2021-12-04T13:00:08.708556Z",
     "iopub.status.busy": "2021-12-04T13:00:08.705460Z",
     "iopub.status.idle": "2021-12-04T13:00:09.696724Z",
     "shell.execute_reply": "2021-12-04T13:00:09.699202Z"
    },
    "papermill": {
     "duration": 1.025809,
     "end_time": "2021-12-04T13:00:09.699789",
     "exception": false,
     "start_time": "2021-12-04T13:00:08.673980",
     "status": "completed"
    },
    "tags": []
   },
   "outputs": [],
   "source": [
    "timestamps = pd.read_sql(\"select distinct record_time from EBAY_TOP_BERLIN order by record_time desc limit 2\", sqlite3.connect(\"UsedObjects.db\"))"
   ]
  },
  {
   "cell_type": "code",
   "execution_count": 3,
   "id": "periodic-identification",
   "metadata": {
    "execution": {
     "iopub.execute_input": "2021-12-04T13:00:09.772879Z",
     "iopub.status.busy": "2021-12-04T13:00:09.770206Z",
     "iopub.status.idle": "2021-12-04T13:00:09.793946Z",
     "shell.execute_reply": "2021-12-04T13:00:09.795581Z"
    },
    "papermill": {
     "duration": 0.073745,
     "end_time": "2021-12-04T13:00:09.796121",
     "exception": false,
     "start_time": "2021-12-04T13:00:09.722376",
     "status": "completed"
    },
    "tags": []
   },
   "outputs": [
    {
     "data": {
      "text/html": [
       "<div>\n",
       "<style scoped>\n",
       "    .dataframe tbody tr th:only-of-type {\n",
       "        vertical-align: middle;\n",
       "    }\n",
       "\n",
       "    .dataframe tbody tr th {\n",
       "        vertical-align: top;\n",
       "    }\n",
       "\n",
       "    .dataframe thead th {\n",
       "        text-align: right;\n",
       "    }\n",
       "</style>\n",
       "<table border=\"1\" class=\"dataframe\">\n",
       "  <thead>\n",
       "    <tr style=\"text-align: right;\">\n",
       "      <th></th>\n",
       "      <th>RECORD_TIME</th>\n",
       "    </tr>\n",
       "  </thead>\n",
       "  <tbody>\n",
       "    <tr>\n",
       "      <th>0</th>\n",
       "      <td>2021-12-04 14:00</td>\n",
       "    </tr>\n",
       "    <tr>\n",
       "      <th>1</th>\n",
       "      <td>2021-12-04 13:30</td>\n",
       "    </tr>\n",
       "  </tbody>\n",
       "</table>\n",
       "</div>"
      ],
      "text/plain": [
       "        RECORD_TIME\n",
       "0  2021-12-04 14:00\n",
       "1  2021-12-04 13:30"
      ]
     },
     "execution_count": 3,
     "metadata": {},
     "output_type": "execute_result"
    }
   ],
   "source": [
    "timestamps"
   ]
  },
  {
   "cell_type": "code",
   "execution_count": 4,
   "id": "alternate-victory",
   "metadata": {
    "execution": {
     "iopub.execute_input": "2021-12-04T13:00:09.853276Z",
     "iopub.status.busy": "2021-12-04T13:00:09.850987Z",
     "iopub.status.idle": "2021-12-04T13:00:11.288571Z",
     "shell.execute_reply": "2021-12-04T13:00:11.290786Z"
    },
    "papermill": {
     "duration": 1.473625,
     "end_time": "2021-12-04T13:00:11.291275",
     "exception": false,
     "start_time": "2021-12-04T13:00:09.817650",
     "status": "completed"
    },
    "tags": []
   },
   "outputs": [],
   "source": [
    "df = pd.read_sql(\"select * from EBAY_TOP_BERLIN where record_time in (select distinct record_time from EBAY_TOP_BERLIN order by record_time desc limit 2)\", sqlite3.connect(\"UsedObjects.db\"))"
   ]
  },
  {
   "cell_type": "code",
   "execution_count": 5,
   "id": "popular-active",
   "metadata": {
    "execution": {
     "iopub.execute_input": "2021-12-04T13:00:11.358816Z",
     "iopub.status.busy": "2021-12-04T13:00:11.356306Z",
     "iopub.status.idle": "2021-12-04T13:00:11.389980Z",
     "shell.execute_reply": "2021-12-04T13:00:11.388345Z"
    },
    "papermill": {
     "duration": 0.077302,
     "end_time": "2021-12-04T13:00:11.390411",
     "exception": false,
     "start_time": "2021-12-04T13:00:11.313109",
     "status": "completed"
    },
    "tags": []
   },
   "outputs": [],
   "source": [
    "df_pivot = df.pivot_table(index=\"PRODUCT\", columns = \"RECORD_TIME\", values = \"LISTING_COUNT\")"
   ]
  },
  {
   "cell_type": "code",
   "execution_count": 6,
   "id": "union-huntington",
   "metadata": {
    "execution": {
     "iopub.execute_input": "2021-12-04T13:00:11.450338Z",
     "iopub.status.busy": "2021-12-04T13:00:11.448182Z",
     "iopub.status.idle": "2021-12-04T13:00:11.453435Z",
     "shell.execute_reply": "2021-12-04T13:00:11.454803Z"
    },
    "papermill": {
     "duration": 0.043474,
     "end_time": "2021-12-04T13:00:11.455291",
     "exception": false,
     "start_time": "2021-12-04T13:00:11.411817",
     "status": "completed"
    },
    "tags": []
   },
   "outputs": [],
   "source": [
    "df_pivot.columns = [\"stamp_1\", \"stamp_2\"]\n",
    "df_pivot_diff = df_pivot.diff(axis=1)"
   ]
  },
  {
   "cell_type": "code",
   "execution_count": 7,
   "id": "fifth-motion",
   "metadata": {
    "execution": {
     "iopub.execute_input": "2021-12-04T13:00:11.549642Z",
     "iopub.status.busy": "2021-12-04T13:00:11.546871Z",
     "iopub.status.idle": "2021-12-04T13:00:13.493784Z",
     "shell.execute_reply": "2021-12-04T13:00:13.496404Z"
    },
    "papermill": {
     "duration": 2.022068,
     "end_time": "2021-12-04T13:00:13.497337",
     "exception": false,
     "start_time": "2021-12-04T13:00:11.475269",
     "status": "completed"
    },
    "tags": []
   },
   "outputs": [
    {
     "data": {
      "text/plain": [
       "<AxesSubplot:ylabel='PRODUCT'>"
      ]
     },
     "execution_count": 7,
     "metadata": {},
     "output_type": "execute_result"
    },
    {
     "data": {
      "image/png": "[encoded data removed]",
      "text/plain": [
       "<Figure size 432x288 with 1 Axes>"
      ]
     },
     "metadata": {
      "needs_background": "light"
     },
     "output_type": "display_data"
    }
   ],
   "source": [
    "df_pivot_diff.sort_values(\"stamp_2\", ascending = False)[\"stamp_2\"].head(10).plot.barh()"
   ]
  },
  {
   "cell_type": "code",
   "execution_count": null,
   "id": "extra-executive",
   "metadata": {
    "papermill": {
     "duration": 0.033794,
     "end_time": "2021-12-04T13:00:13.567304",
     "exception": false,
     "start_time": "2021-12-04T13:00:13.533510",
     "status": "completed"
    },
    "tags": []
   },
   "outputs": [],
   "source": []
  }
 ],
 "metadata": {
  "kernelspec": {
   "display_name": "Python 3",
   "language": "python",
   "name": "python3"
  },
  "language_info": {
   "codemirror_mode": {
    "name": "ipython",
    "version": 3
   },
   "file_extension": ".py",
   "mimetype": "text/x-python",
   "name": "python",
   "nbconvert_exporter": "python",
   "pygments_lexer": "ipython3",
   "version": "3.9.5"
  },
  "papermill": {
   "default_parameters": {},
   "duration": 9.937963,
   "end_time": "2021-12-04T13:00:14.834504",
   "environment_variables": {},
   "exception": null,
   "input_path": "eBay_Overview.ipynb",
   "output_path": "eBay_Overview.ipynb",
   "parameters": {},
   "start_time": "2021-12-04T13:00:04.896541",
   "version": "2.3.3"
  }
 },
 "nbformat": 4,
 "nbformat_minor": 5
}