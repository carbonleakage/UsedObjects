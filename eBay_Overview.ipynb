{
 "cells": [
  {
   "cell_type": "code",
   "execution_count": 1,
   "id": "reverse-picking",
   "metadata": {
    "execution": {
     "iopub.execute_input": "2021-12-06T15:30:08.236060Z",
     "iopub.status.busy": "2021-12-06T15:30:08.233463Z",
     "iopub.status.idle": "2021-12-06T15:30:09.200643Z",
     "shell.execute_reply": "2021-12-06T15:30:09.202165Z"
    },
    "papermill": {
     "duration": 1.017399,
     "end_time": "2021-12-06T15:30:09.202925",
     "exception": false,
     "start_time": "2021-12-06T15:30:08.185526",
     "status": "completed"
    },
    "tags": []
   },
   "outputs": [],
   "source": [
    "import pandas as pd\n",
    "import sqlite3"
   ]
  },
  {
   "cell_type": "code",
   "execution_count": 2,
   "id": "innovative-syndrome",
   "metadata": {
    "execution": {
     "iopub.execute_input": "2021-12-06T15:30:09.262335Z",
     "iopub.status.busy": "2021-12-06T15:30:09.260015Z",
     "iopub.status.idle": "2021-12-06T15:30:10.266728Z",
     "shell.execute_reply": "2021-12-06T15:30:10.268319Z"
    },
    "papermill": {
     "duration": 1.03987,
     "end_time": "2021-12-06T15:30:10.268755",
     "exception": false,
     "start_time": "2021-12-06T15:30:09.228885",
     "status": "completed"
    },
    "tags": []
   },
   "outputs": [],
   "source": [
    "timestamps = pd.read_sql(\"select distinct record_time from EBAY_TOP_BERLIN order by record_time desc limit 2\", sqlite3.connect(\"UsedObjects.db\"))"
   ]
  },
  {
   "cell_type": "code",
   "execution_count": 3,
   "id": "periodic-identification",
   "metadata": {
    "execution": {
     "iopub.execute_input": "2021-12-06T15:30:10.341049Z",
     "iopub.status.busy": "2021-12-06T15:30:10.338586Z",
     "iopub.status.idle": "2021-12-06T15:30:10.362006Z",
     "shell.execute_reply": "2021-12-06T15:30:10.363414Z"
    },
    "papermill": {
     "duration": 0.073965,
     "end_time": "2021-12-06T15:30:10.363983",
     "exception": false,
     "start_time": "2021-12-06T15:30:10.290018",
     "status": "completed"
    },
    "tags": []
   },
   "outputs": [
    {
     "data": {
      "text/html": [
       "<div>\n",
       "<style scoped>\n",
       "    .dataframe tbody tr th:only-of-type {\n",
       "        vertical-align: middle;\n",
       "    }\n",
       "\n",
       "    .dataframe tbody tr th {\n",
       "        vertical-align: top;\n",
       "    }\n",
       "\n",
       "    .dataframe thead th {\n",
       "        text-align: right;\n",
       "    }\n",
       "</style>\n",
       "<table border=\"1\" class=\"dataframe\">\n",
       "  <thead>\n",
       "    <tr style=\"text-align: right;\">\n",
       "      <th></th>\n",
       "      <th>RECORD_TIME</th>\n",
       "    </tr>\n",
       "  </thead>\n",
       "  <tbody>\n",
       "    <tr>\n",
       "      <th>0</th>\n",
       "      <td>2021-12-06 16:30</td>\n",
       "    </tr>\n",
       "    <tr>\n",
       "      <th>1</th>\n",
       "      <td>2021-12-06 16:00</td>\n",
       "    </tr>\n",
       "  </tbody>\n",
       "</table>\n",
       "</div>"
      ],
      "text/plain": [
       "        RECORD_TIME\n",
       "0  2021-12-06 16:30\n",
       "1  2021-12-06 16:00"
      ]
     },
     "execution_count": 3,
     "metadata": {},
     "output_type": "execute_result"
    }
   ],
   "source": [
    "timestamps"
   ]
  },
  {
   "cell_type": "code",
   "execution_count": 4,
   "id": "alternate-victory",
   "metadata": {
    "execution": {
     "iopub.execute_input": "2021-12-06T15:30:10.421259Z",
     "iopub.status.busy": "2021-12-06T15:30:10.418928Z",
     "iopub.status.idle": "2021-12-06T15:30:11.851117Z",
     "shell.execute_reply": "2021-12-06T15:30:11.852989Z"
    },
    "papermill": {
     "duration": 1.467312,
     "end_time": "2021-12-06T15:30:11.853529",
     "exception": false,
     "start_time": "2021-12-06T15:30:10.386217",
     "status": "completed"
    },
    "tags": []
   },
   "outputs": [],
   "source": [
    "df = pd.read_sql(\"select * from EBAY_TOP_BERLIN where record_time in (select distinct record_time from EBAY_TOP_BERLIN order by record_time desc limit 2)\", sqlite3.connect(\"UsedObjects.db\"))"
   ]
  },
  {
   "cell_type": "code",
   "execution_count": 5,
   "id": "popular-active",
   "metadata": {
    "execution": {
     "iopub.execute_input": "2021-12-06T15:30:11.930645Z",
     "iopub.status.busy": "2021-12-06T15:30:11.916805Z",
     "iopub.status.idle": "2021-12-06T15:30:11.948791Z",
     "shell.execute_reply": "2021-12-06T15:30:11.950189Z"
    },
    "papermill": {
     "duration": 0.074032,
     "end_time": "2021-12-06T15:30:11.950665",
     "exception": false,
     "start_time": "2021-12-06T15:30:11.876633",
     "status": "completed"
    },
    "tags": []
   },
   "outputs": [],
   "source": [
    "df_pivot = df.pivot_table(index=\"PRODUCT\", columns = \"RECORD_TIME\", values = \"LISTING_COUNT\")"
   ]
  },
  {
   "cell_type": "code",
   "execution_count": 6,
   "id": "union-huntington",
   "metadata": {
    "execution": {
     "iopub.execute_input": "2021-12-06T15:30:12.009993Z",
     "iopub.status.busy": "2021-12-06T15:30:12.007357Z",
     "iopub.status.idle": "2021-12-06T15:30:12.016015Z",
     "shell.execute_reply": "2021-12-06T15:30:12.014014Z"
    },
    "papermill": {
     "duration": 0.046233,
     "end_time": "2021-12-06T15:30:12.016611",
     "exception": false,
     "start_time": "2021-12-06T15:30:11.970378",
     "status": "completed"
    },
    "tags": []
   },
   "outputs": [],
   "source": [
    "df_pivot.columns = [\"stamp_1\", \"stamp_2\"]\n",
    "df_pivot_diff = df_pivot.diff(axis=1)"
   ]
  },
  {
   "cell_type": "code",
   "execution_count": 7,
   "id": "fifth-motion",
   "metadata": {
    "execution": {
     "iopub.execute_input": "2021-12-06T15:30:12.076959Z",
     "iopub.status.busy": "2021-12-06T15:30:12.074351Z",
     "iopub.status.idle": "2021-12-06T15:30:14.089520Z",
     "shell.execute_reply": "2021-12-06T15:30:14.091001Z"
    },
    "papermill": {
     "duration": 2.052848,
     "end_time": "2021-12-06T15:30:14.091518",
     "exception": false,
     "start_time": "2021-12-06T15:30:12.038670",
     "status": "completed"
    },
    "tags": []
   },
   "outputs": [
    {
     "data": {
      "text/plain": [
       "<AxesSubplot:ylabel='PRODUCT'>"
      ]
     },
     "execution_count": 7,
     "metadata": {},
     "output_type": "execute_result"
    },
    {
     "data": {
      "image/png": "[encoded data removed]",
      "text/plain": [
       "<Figure size 432x288 with 1 Axes>"
      ]
     },
     "metadata": {
      "needs_background": "light"
     },
     "output_type": "display_data"
    }
   ],
   "source": [
    "df_pivot_diff.sort_values(\"stamp_2\", ascending = False)[\"stamp_2\"].head(10).plot.barh()"
   ]
  },
  {
   "cell_type": "code",
   "execution_count": null,
   "id": "extra-executive",
   "metadata": {
    "papermill": {
     "duration": 0.022091,
     "end_time": "2021-12-06T15:30:14.138945",
     "exception": false,
     "start_time": "2021-12-06T15:30:14.116854",
     "status": "completed"
    },
    "tags": []
   },
   "outputs": [],
   "source": []
  }
 ],
 "metadata": {
  "kernelspec": {
   "display_name": "Python 3",
   "language": "python",
   "name": "python3"
  },
  "language_info": {
   "codemirror_mode": {
    "name": "ipython",
    "version": 3
   },
   "file_extension": ".py",
   "mimetype": "text/x-python",
   "name": "python",
   "nbconvert_exporter": "python",
   "pygments_lexer": "ipython3",
   "version": "3.9.5"
  },
  "papermill": {
   "default_parameters": {},
   "duration": 9.95363,
   "end_time": "2021-12-06T15:30:15.379815",
   "environment_variables": {},
   "exception": null,
   "input_path": "eBay_Overview.ipynb",
   "output_path": "eBay_Overview.ipynb",
   "parameters": {},
   "start_time": "2021-12-06T15:30:05.426185",
   "version": "2.3.3"
  }
 },
 "nbformat": 4,
 "nbformat_minor": 5
}