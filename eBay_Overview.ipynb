{
 "cells": [
  {
   "cell_type": "code",
   "execution_count": 1,
   "id": "reverse-picking",
   "metadata": {
    "execution": {
     "iopub.execute_input": "2021-11-10T06:00:07.789351Z",
     "iopub.status.busy": "2021-11-10T06:00:07.786351Z",
     "iopub.status.idle": "2021-11-10T06:00:08.749625Z",
     "shell.execute_reply": "2021-11-10T06:00:08.751109Z"
    },
    "papermill": {
     "duration": 1.013277,
     "end_time": "2021-11-10T06:00:08.751837",
     "exception": false,
     "start_time": "2021-11-10T06:00:07.738560",
     "status": "completed"
    },
    "tags": []
   },
   "outputs": [],
   "source": [
    "import pandas as pd\n",
    "import sqlite3"
   ]
  },
  {
   "cell_type": "code",
   "execution_count": 2,
   "id": "innovative-syndrome",
   "metadata": {
    "execution": {
     "iopub.execute_input": "2021-11-10T06:00:08.815705Z",
     "iopub.status.busy": "2021-11-10T06:00:08.813350Z",
     "iopub.status.idle": "2021-11-10T06:00:09.581925Z",
     "shell.execute_reply": "2021-11-10T06:00:09.583540Z"
    },
    "papermill": {
     "duration": 0.804449,
     "end_time": "2021-11-10T06:00:09.584386",
     "exception": false,
     "start_time": "2021-11-10T06:00:08.779937",
     "status": "completed"
    },
    "tags": []
   },
   "outputs": [],
   "source": [
    "timestamps = pd.read_sql(\"select distinct record_time from EBAY_TOP_BERLIN order by record_time desc limit 2\", sqlite3.connect(\"UsedObjects.db\"))"
   ]
  },
  {
   "cell_type": "code",
   "execution_count": 3,
   "id": "periodic-identification",
   "metadata": {
    "execution": {
     "iopub.execute_input": "2021-11-10T06:00:09.655411Z",
     "iopub.status.busy": "2021-11-10T06:00:09.653076Z",
     "iopub.status.idle": "2021-11-10T06:00:09.675040Z",
     "shell.execute_reply": "2021-11-10T06:00:09.676587Z"
    },
    "papermill": {
     "duration": 0.07236,
     "end_time": "2021-11-10T06:00:09.677125",
     "exception": false,
     "start_time": "2021-11-10T06:00:09.604765",
     "status": "completed"
    },
    "tags": []
   },
   "outputs": [
    {
     "data": {
      "text/html": [
       "<div>\n",
       "<style scoped>\n",
       "    .dataframe tbody tr th:only-of-type {\n",
       "        vertical-align: middle;\n",
       "    }\n",
       "\n",
       "    .dataframe tbody tr th {\n",
       "        vertical-align: top;\n",
       "    }\n",
       "\n",
       "    .dataframe thead th {\n",
       "        text-align: right;\n",
       "    }\n",
       "</style>\n",
       "<table border=\"1\" class=\"dataframe\">\n",
       "  <thead>\n",
       "    <tr style=\"text-align: right;\">\n",
       "      <th></th>\n",
       "      <th>RECORD_TIME</th>\n",
       "    </tr>\n",
       "  </thead>\n",
       "  <tbody>\n",
       "    <tr>\n",
       "      <th>0</th>\n",
       "      <td>2021-11-10 07:00</td>\n",
       "    </tr>\n",
       "    <tr>\n",
       "      <th>1</th>\n",
       "      <td>2021-11-10 06:30</td>\n",
       "    </tr>\n",
       "  </tbody>\n",
       "</table>\n",
       "</div>"
      ],
      "text/plain": [
       "        RECORD_TIME\n",
       "0  2021-11-10 07:00\n",
       "1  2021-11-10 06:30"
      ]
     },
     "execution_count": 3,
     "metadata": {},
     "output_type": "execute_result"
    }
   ],
   "source": [
    "timestamps"
   ]
  },
  {
   "cell_type": "code",
   "execution_count": 4,
   "id": "alternate-victory",
   "metadata": {
    "execution": {
     "iopub.execute_input": "2021-11-10T06:00:09.735332Z",
     "iopub.status.busy": "2021-11-10T06:00:09.731792Z",
     "iopub.status.idle": "2021-11-10T06:00:10.857784Z",
     "shell.execute_reply": "2021-11-10T06:00:10.859395Z"
    },
    "papermill": {
     "duration": 1.161098,
     "end_time": "2021-11-10T06:00:10.859852",
     "exception": false,
     "start_time": "2021-11-10T06:00:09.698754",
     "status": "completed"
    },
    "tags": []
   },
   "outputs": [],
   "source": [
    "df = pd.read_sql(\"select * from EBAY_TOP_BERLIN where record_time in (select distinct record_time from EBAY_TOP_BERLIN order by record_time desc limit 2)\", sqlite3.connect(\"UsedObjects.db\"))"
   ]
  },
  {
   "cell_type": "code",
   "execution_count": 5,
   "id": "popular-active",
   "metadata": {
    "execution": {
     "iopub.execute_input": "2021-11-10T06:00:10.939940Z",
     "iopub.status.busy": "2021-11-10T06:00:10.926002Z",
     "iopub.status.idle": "2021-11-10T06:00:10.958398Z",
     "shell.execute_reply": "2021-11-10T06:00:10.959868Z"
    },
    "papermill": {
     "duration": 0.078573,
     "end_time": "2021-11-10T06:00:10.960356",
     "exception": false,
     "start_time": "2021-11-10T06:00:10.881783",
     "status": "completed"
    },
    "tags": []
   },
   "outputs": [],
   "source": [
    "df_pivot = df.pivot_table(index=\"PRODUCT\", columns = \"RECORD_TIME\", values = \"LISTING_COUNT\")"
   ]
  },
  {
   "cell_type": "code",
   "execution_count": 6,
   "id": "union-huntington",
   "metadata": {
    "execution": {
     "iopub.execute_input": "2021-11-10T06:00:11.018529Z",
     "iopub.status.busy": "2021-11-10T06:00:11.016252Z",
     "iopub.status.idle": "2021-11-10T06:00:11.023843Z",
     "shell.execute_reply": "2021-11-10T06:00:11.022337Z"
    },
    "papermill": {
     "duration": 0.043959,
     "end_time": "2021-11-10T06:00:11.024245",
     "exception": false,
     "start_time": "2021-11-10T06:00:10.980286",
     "status": "completed"
    },
    "tags": []
   },
   "outputs": [],
   "source": [
    "df_pivot.columns = [\"stamp_1\", \"stamp_2\"]\n",
    "df_pivot_diff = df_pivot.diff(axis=1)"
   ]
  },
  {
   "cell_type": "code",
   "execution_count": 7,
   "id": "fifth-motion",
   "metadata": {
    "execution": {
     "iopub.execute_input": "2021-11-10T06:00:11.086526Z",
     "iopub.status.busy": "2021-11-10T06:00:11.083502Z",
     "iopub.status.idle": "2021-11-10T06:00:12.824878Z",
     "shell.execute_reply": "2021-11-10T06:00:12.826808Z"
    },
    "papermill": {
     "duration": 1.78201,
     "end_time": "2021-11-10T06:00:12.827360",
     "exception": false,
     "start_time": "2021-11-10T06:00:11.045350",
     "status": "completed"
    },
    "tags": []
   },
   "outputs": [
    {
     "data": {
      "text/plain": [
       "<AxesSubplot:ylabel='PRODUCT'>"
      ]
     },
     "execution_count": 7,
     "metadata": {},
     "output_type": "execute_result"
    },
    {
     "data": {
      "image/png": "[encoded data removed]",
      "text/plain": [
       "<Figure size 432x288 with 1 Axes>"
      ]
     },
     "metadata": {
      "needs_background": "light"
     },
     "output_type": "display_data"
    }
   ],
   "source": [
    "df_pivot_diff.sort_values(\"stamp_2\", ascending = False)[\"stamp_2\"].head(10).plot.barh()"
   ]
  },
  {
   "cell_type": "code",
   "execution_count": null,
   "id": "extra-executive",
   "metadata": {
    "papermill": {
     "duration": 0.035704,
     "end_time": "2021-11-10T06:00:12.901881",
     "exception": false,
     "start_time": "2021-11-10T06:00:12.866177",
     "status": "completed"
    },
    "tags": []
   },
   "outputs": [],
   "source": []
  }
 ],
 "metadata": {
  "kernelspec": {
   "display_name": "Python 3",
   "language": "python",
   "name": "python3"
  },
  "language_info": {
   "codemirror_mode": {
    "name": "ipython",
    "version": 3
   },
   "file_extension": ".py",
   "mimetype": "text/x-python",
   "name": "python",
   "nbconvert_exporter": "python",
   "pygments_lexer": "ipython3",
   "version": "3.9.5"
  },
  "papermill": {
   "default_parameters": {},
   "duration": 8.760995,
   "end_time": "2021-11-10T06:00:13.777526",
   "environment_variables": {},
   "exception": null,
   "input_path": "eBay_Overview.ipynb",
   "output_path": "eBay_Overview.ipynb",
   "parameters": {},
   "start_time": "2021-11-10T06:00:05.016531",
   "version": "2.3.3"
  }
 },
 "nbformat": 4,
 "nbformat_minor": 5
}