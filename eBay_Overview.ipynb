{
 "cells": [
  {
   "cell_type": "code",
   "execution_count": 1,
   "id": "reverse-picking",
   "metadata": {
    "execution": {
     "iopub.execute_input": "2021-08-17T07:00:06.923021Z",
     "iopub.status.busy": "2021-08-17T07:00:06.920899Z",
     "iopub.status.idle": "2021-08-17T07:00:07.726164Z",
     "shell.execute_reply": "2021-08-17T07:00:07.727470Z"
    },
    "papermill": {
     "duration": 0.856178,
     "end_time": "2021-08-17T07:00:07.728085",
     "exception": false,
     "start_time": "2021-08-17T07:00:06.871907",
     "status": "completed"
    },
    "tags": []
   },
   "outputs": [],
   "source": [
    "import pandas as pd\n",
    "import sqlite3"
   ]
  },
  {
   "cell_type": "code",
   "execution_count": 2,
   "id": "innovative-syndrome",
   "metadata": {
    "execution": {
     "iopub.execute_input": "2021-08-17T07:00:07.782194Z",
     "iopub.status.busy": "2021-08-17T07:00:07.779815Z",
     "iopub.status.idle": "2021-08-17T07:00:07.847762Z",
     "shell.execute_reply": "2021-08-17T07:00:07.848961Z"
    },
    "papermill": {
     "duration": 0.098024,
     "end_time": "2021-08-17T07:00:07.849358",
     "exception": false,
     "start_time": "2021-08-17T07:00:07.751334",
     "status": "completed"
    },
    "tags": []
   },
   "outputs": [],
   "source": [
    "timestamps = pd.read_sql(\"select distinct record_time from EBAY_TOP_BERLIN order by record_time desc limit 2\", sqlite3.connect(\"UsedObjects.db\"))"
   ]
  },
  {
   "cell_type": "code",
   "execution_count": 3,
   "id": "periodic-identification",
   "metadata": {
    "execution": {
     "iopub.execute_input": "2021-08-17T07:00:07.920788Z",
     "iopub.status.busy": "2021-08-17T07:00:07.915758Z",
     "iopub.status.idle": "2021-08-17T07:00:07.935876Z",
     "shell.execute_reply": "2021-08-17T07:00:07.937060Z"
    },
    "papermill": {
     "duration": 0.066144,
     "end_time": "2021-08-17T07:00:07.937491",
     "exception": false,
     "start_time": "2021-08-17T07:00:07.871347",
     "status": "completed"
    },
    "tags": []
   },
   "outputs": [
    {
     "data": {
      "text/html": [
       "<div>\n",
       "<style scoped>\n",
       "    .dataframe tbody tr th:only-of-type {\n",
       "        vertical-align: middle;\n",
       "    }\n",
       "\n",
       "    .dataframe tbody tr th {\n",
       "        vertical-align: top;\n",
       "    }\n",
       "\n",
       "    .dataframe thead th {\n",
       "        text-align: right;\n",
       "    }\n",
       "</style>\n",
       "<table border=\"1\" class=\"dataframe\">\n",
       "  <thead>\n",
       "    <tr style=\"text-align: right;\">\n",
       "      <th></th>\n",
       "      <th>RECORD_TIME</th>\n",
       "    </tr>\n",
       "  </thead>\n",
       "  <tbody>\n",
       "    <tr>\n",
       "      <th>0</th>\n",
       "      <td>2021-08-17 09:00</td>\n",
       "    </tr>\n",
       "    <tr>\n",
       "      <th>1</th>\n",
       "      <td>2021-08-17 08:30</td>\n",
       "    </tr>\n",
       "  </tbody>\n",
       "</table>\n",
       "</div>"
      ],
      "text/plain": [
       "        RECORD_TIME\n",
       "0  2021-08-17 09:00\n",
       "1  2021-08-17 08:30"
      ]
     },
     "execution_count": 3,
     "metadata": {},
     "output_type": "execute_result"
    }
   ],
   "source": [
    "timestamps"
   ]
  },
  {
   "cell_type": "code",
   "execution_count": 4,
   "id": "alternate-victory",
   "metadata": {
    "execution": {
     "iopub.execute_input": "2021-08-17T07:00:07.988332Z",
     "iopub.status.busy": "2021-08-17T07:00:07.986499Z",
     "iopub.status.idle": "2021-08-17T07:00:08.086858Z",
     "shell.execute_reply": "2021-08-17T07:00:08.088153Z"
    },
    "papermill": {
     "duration": 0.130563,
     "end_time": "2021-08-17T07:00:08.088612",
     "exception": false,
     "start_time": "2021-08-17T07:00:07.958049",
     "status": "completed"
    },
    "tags": []
   },
   "outputs": [],
   "source": [
    "df = pd.read_sql(\"select * from EBAY_TOP_BERLIN where record_time in (select distinct record_time from EBAY_TOP_BERLIN order by record_time desc limit 2)\", sqlite3.connect(\"UsedObjects.db\"))"
   ]
  },
  {
   "cell_type": "code",
   "execution_count": 5,
   "id": "popular-active",
   "metadata": {
    "execution": {
     "iopub.execute_input": "2021-08-17T07:00:08.159622Z",
     "iopub.status.busy": "2021-08-17T07:00:08.147654Z",
     "iopub.status.idle": "2021-08-17T07:00:08.176454Z",
     "shell.execute_reply": "2021-08-17T07:00:08.177915Z"
    },
    "papermill": {
     "duration": 0.069029,
     "end_time": "2021-08-17T07:00:08.178588",
     "exception": false,
     "start_time": "2021-08-17T07:00:08.109559",
     "status": "completed"
    },
    "tags": []
   },
   "outputs": [],
   "source": [
    "df_pivot = df.pivot_table(index=\"PRODUCT\", columns = \"RECORD_TIME\", values = \"LISTING_COUNT\")"
   ]
  },
  {
   "cell_type": "code",
   "execution_count": 6,
   "id": "union-huntington",
   "metadata": {
    "execution": {
     "iopub.execute_input": "2021-08-17T07:00:08.237194Z",
     "iopub.status.busy": "2021-08-17T07:00:08.235082Z",
     "iopub.status.idle": "2021-08-17T07:00:08.240447Z",
     "shell.execute_reply": "2021-08-17T07:00:08.241721Z"
    },
    "papermill": {
     "duration": 0.041163,
     "end_time": "2021-08-17T07:00:08.242193",
     "exception": false,
     "start_time": "2021-08-17T07:00:08.201030",
     "status": "completed"
    },
    "tags": []
   },
   "outputs": [],
   "source": [
    "df_pivot.columns = [\"stamp_1\", \"stamp_2\"]\n",
    "df_pivot_diff = df_pivot.diff(axis=1)"
   ]
  },
  {
   "cell_type": "code",
   "execution_count": 7,
   "id": "fifth-motion",
   "metadata": {
    "execution": {
     "iopub.execute_input": "2021-08-17T07:00:08.298475Z",
     "iopub.status.busy": "2021-08-17T07:00:08.295947Z",
     "iopub.status.idle": "2021-08-17T07:00:09.777257Z",
     "shell.execute_reply": "2021-08-17T07:00:09.778717Z"
    },
    "papermill": {
     "duration": 1.514623,
     "end_time": "2021-08-17T07:00:09.779171",
     "exception": false,
     "start_time": "2021-08-17T07:00:08.264548",
     "status": "completed"
    },
    "tags": []
   },
   "outputs": [
    {
     "data": {
      "text/plain": [
       "<AxesSubplot:ylabel='PRODUCT'>"
      ]
     },
     "execution_count": 7,
     "metadata": {},
     "output_type": "execute_result"
    },
    {
     "data": {
      "image/png": "[encoded data removed]",
      "text/plain": [
       "<Figure size 432x288 with 1 Axes>"
      ]
     },
     "metadata": {
      "needs_background": "light"
     },
     "output_type": "display_data"
    }
   ],
   "source": [
    "df_pivot_diff.sort_values(\"stamp_2\", ascending = False)[\"stamp_2\"].head(10).plot.barh()"
   ]
  },
  {
   "cell_type": "code",
   "execution_count": null,
   "id": "extra-executive",
   "metadata": {
    "papermill": {
     "duration": 0.022469,
     "end_time": "2021-08-17T07:00:09.825678",
     "exception": false,
     "start_time": "2021-08-17T07:00:09.803209",
     "status": "completed"
    },
    "tags": []
   },
   "outputs": [],
   "source": []
  }
 ],
 "metadata": {
  "kernelspec": {
   "display_name": "Python 3",
   "language": "python",
   "name": "python3"
  },
  "language_info": {
   "codemirror_mode": {
    "name": "ipython",
    "version": 3
   },
   "file_extension": ".py",
   "mimetype": "text/x-python",
   "name": "python",
   "nbconvert_exporter": "python",
   "pygments_lexer": "ipython3",
   "version": "3.9.5"
  },
  "papermill": {
   "default_parameters": {},
   "duration": 6.824974,
   "end_time": "2021-08-17T07:00:11.288560",
   "environment_variables": {},
   "exception": null,
   "input_path": "eBay_Overview.ipynb",
   "output_path": "eBay_Overview.ipynb",
   "parameters": {},
   "start_time": "2021-08-17T07:00:04.463586",
   "version": "2.3.3"
  }
 },
 "nbformat": 4,
 "nbformat_minor": 5
}