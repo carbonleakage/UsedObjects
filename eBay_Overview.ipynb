{
 "cells": [
  {
   "cell_type": "code",
   "execution_count": 1,
   "id": "reverse-picking",
   "metadata": {
    "execution": {
     "iopub.execute_input": "2021-09-29T11:30:07.041754Z",
     "iopub.status.busy": "2021-09-29T11:30:07.039845Z",
     "iopub.status.idle": "2021-09-29T11:30:07.845603Z",
     "shell.execute_reply": "2021-09-29T11:30:07.846881Z"
    },
    "papermill": {
     "duration": 0.856672,
     "end_time": "2021-09-29T11:30:07.847509",
     "exception": false,
     "start_time": "2021-09-29T11:30:06.990837",
     "status": "completed"
    },
    "tags": []
   },
   "outputs": [],
   "source": [
    "import pandas as pd\n",
    "import sqlite3"
   ]
  },
  {
   "cell_type": "code",
   "execution_count": 2,
   "id": "innovative-syndrome",
   "metadata": {
    "execution": {
     "iopub.execute_input": "2021-09-29T11:30:07.899894Z",
     "iopub.status.busy": "2021-09-29T11:30:07.897786Z",
     "iopub.status.idle": "2021-09-29T11:30:08.307446Z",
     "shell.execute_reply": "2021-09-29T11:30:08.308816Z"
    },
    "papermill": {
     "duration": 0.439227,
     "end_time": "2021-09-29T11:30:08.309248",
     "exception": false,
     "start_time": "2021-09-29T11:30:07.870021",
     "status": "completed"
    },
    "tags": []
   },
   "outputs": [],
   "source": [
    "timestamps = pd.read_sql(\"select distinct record_time from EBAY_TOP_BERLIN order by record_time desc limit 2\", sqlite3.connect(\"UsedObjects.db\"))"
   ]
  },
  {
   "cell_type": "code",
   "execution_count": 3,
   "id": "periodic-identification",
   "metadata": {
    "execution": {
     "iopub.execute_input": "2021-09-29T11:30:08.376060Z",
     "iopub.status.busy": "2021-09-29T11:30:08.373979Z",
     "iopub.status.idle": "2021-09-29T11:30:08.394532Z",
     "shell.execute_reply": "2021-09-29T11:30:08.395976Z"
    },
    "papermill": {
     "duration": 0.0673,
     "end_time": "2021-09-29T11:30:08.396451",
     "exception": false,
     "start_time": "2021-09-29T11:30:08.329151",
     "status": "completed"
    },
    "tags": []
   },
   "outputs": [
    {
     "data": {
      "text/html": [
       "<div>\n",
       "<style scoped>\n",
       "    .dataframe tbody tr th:only-of-type {\n",
       "        vertical-align: middle;\n",
       "    }\n",
       "\n",
       "    .dataframe tbody tr th {\n",
       "        vertical-align: top;\n",
       "    }\n",
       "\n",
       "    .dataframe thead th {\n",
       "        text-align: right;\n",
       "    }\n",
       "</style>\n",
       "<table border=\"1\" class=\"dataframe\">\n",
       "  <thead>\n",
       "    <tr style=\"text-align: right;\">\n",
       "      <th></th>\n",
       "      <th>RECORD_TIME</th>\n",
       "    </tr>\n",
       "  </thead>\n",
       "  <tbody>\n",
       "    <tr>\n",
       "      <th>0</th>\n",
       "      <td>2021-09-29 13:30</td>\n",
       "    </tr>\n",
       "    <tr>\n",
       "      <th>1</th>\n",
       "      <td>2021-09-29 13:00</td>\n",
       "    </tr>\n",
       "  </tbody>\n",
       "</table>\n",
       "</div>"
      ],
      "text/plain": [
       "        RECORD_TIME\n",
       "0  2021-09-29 13:30\n",
       "1  2021-09-29 13:00"
      ]
     },
     "execution_count": 3,
     "metadata": {},
     "output_type": "execute_result"
    }
   ],
   "source": [
    "timestamps"
   ]
  },
  {
   "cell_type": "code",
   "execution_count": 4,
   "id": "alternate-victory",
   "metadata": {
    "execution": {
     "iopub.execute_input": "2021-09-29T11:30:08.450538Z",
     "iopub.status.busy": "2021-09-29T11:30:08.448298Z",
     "iopub.status.idle": "2021-09-29T11:30:09.044277Z",
     "shell.execute_reply": "2021-09-29T11:30:09.045485Z"
    },
    "papermill": {
     "duration": 0.626541,
     "end_time": "2021-09-29T11:30:09.045874",
     "exception": false,
     "start_time": "2021-09-29T11:30:08.419333",
     "status": "completed"
    },
    "tags": []
   },
   "outputs": [],
   "source": [
    "df = pd.read_sql(\"select * from EBAY_TOP_BERLIN where record_time in (select distinct record_time from EBAY_TOP_BERLIN order by record_time desc limit 2)\", sqlite3.connect(\"UsedObjects.db\"))"
   ]
  },
  {
   "cell_type": "code",
   "execution_count": 5,
   "id": "popular-active",
   "metadata": {
    "execution": {
     "iopub.execute_input": "2021-09-29T11:30:09.117395Z",
     "iopub.status.busy": "2021-09-29T11:30:09.104794Z",
     "iopub.status.idle": "2021-09-29T11:30:09.132944Z",
     "shell.execute_reply": "2021-09-29T11:30:09.134133Z"
    },
    "papermill": {
     "duration": 0.068053,
     "end_time": "2021-09-29T11:30:09.134516",
     "exception": false,
     "start_time": "2021-09-29T11:30:09.066463",
     "status": "completed"
    },
    "tags": []
   },
   "outputs": [],
   "source": [
    "df_pivot = df.pivot_table(index=\"PRODUCT\", columns = \"RECORD_TIME\", values = \"LISTING_COUNT\")"
   ]
  },
  {
   "cell_type": "code",
   "execution_count": 6,
   "id": "union-huntington",
   "metadata": {
    "execution": {
     "iopub.execute_input": "2021-09-29T11:30:09.190866Z",
     "iopub.status.busy": "2021-09-29T11:30:09.188708Z",
     "iopub.status.idle": "2021-09-29T11:30:09.194275Z",
     "shell.execute_reply": "2021-09-29T11:30:09.195846Z"
    },
    "papermill": {
     "duration": 0.041003,
     "end_time": "2021-09-29T11:30:09.196289",
     "exception": false,
     "start_time": "2021-09-29T11:30:09.155286",
     "status": "completed"
    },
    "tags": []
   },
   "outputs": [],
   "source": [
    "df_pivot.columns = [\"stamp_1\", \"stamp_2\"]\n",
    "df_pivot_diff = df_pivot.diff(axis=1)"
   ]
  },
  {
   "cell_type": "code",
   "execution_count": 7,
   "id": "fifth-motion",
   "metadata": {
    "execution": {
     "iopub.execute_input": "2021-09-29T11:30:09.252880Z",
     "iopub.status.busy": "2021-09-29T11:30:09.250211Z",
     "iopub.status.idle": "2021-09-29T11:30:10.743775Z",
     "shell.execute_reply": "2021-09-29T11:30:10.745137Z"
    },
    "papermill": {
     "duration": 1.527421,
     "end_time": "2021-09-29T11:30:10.745551",
     "exception": false,
     "start_time": "2021-09-29T11:30:09.218130",
     "status": "completed"
    },
    "tags": []
   },
   "outputs": [
    {
     "data": {
      "text/plain": [
       "<AxesSubplot:ylabel='PRODUCT'>"
      ]
     },
     "execution_count": 7,
     "metadata": {},
     "output_type": "execute_result"
    },
    {
     "data": {
      "image/png": "[encoded data removed]",
      "text/plain": [
       "<Figure size 432x288 with 1 Axes>"
      ]
     },
     "metadata": {
      "needs_background": "light"
     },
     "output_type": "display_data"
    }
   ],
   "source": [
    "df_pivot_diff.sort_values(\"stamp_2\", ascending = False)[\"stamp_2\"].head(10).plot.barh()"
   ]
  },
  {
   "cell_type": "code",
   "execution_count": null,
   "id": "extra-executive",
   "metadata": {
    "papermill": {
     "duration": 0.02258,
     "end_time": "2021-09-29T11:30:10.792211",
     "exception": false,
     "start_time": "2021-09-29T11:30:10.769631",
     "status": "completed"
    },
    "tags": []
   },
   "outputs": [],
   "source": []
  }
 ],
 "metadata": {
  "kernelspec": {
   "display_name": "Python 3",
   "language": "python",
   "name": "python3"
  },
  "language_info": {
   "codemirror_mode": {
    "name": "ipython",
    "version": 3
   },
   "file_extension": ".py",
   "mimetype": "text/x-python",
   "name": "python",
   "nbconvert_exporter": "python",
   "pygments_lexer": "ipython3",
   "version": "3.9.5"
  },
  "papermill": {
   "default_parameters": {},
   "duration": 7.831914,
   "end_time": "2021-09-29T11:30:12.416952",
   "environment_variables": {},
   "exception": null,
   "input_path": "eBay_Overview.ipynb",
   "output_path": "eBay_Overview.ipynb",
   "parameters": {},
   "start_time": "2021-09-29T11:30:04.585038",
   "version": "2.3.3"
  }
 },
 "nbformat": 4,
 "nbformat_minor": 5
}