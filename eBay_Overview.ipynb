{
 "cells": [
  {
   "cell_type": "code",
   "execution_count": 1,
   "id": "reverse-picking",
   "metadata": {
    "execution": {
     "iopub.execute_input": "2021-11-16T10:00:07.727102Z",
     "iopub.status.busy": "2021-11-16T10:00:07.724857Z",
     "iopub.status.idle": "2021-11-16T10:00:08.690558Z",
     "shell.execute_reply": "2021-11-16T10:00:08.692132Z"
    },
    "papermill": {
     "duration": 1.014631,
     "end_time": "2021-11-16T10:00:08.692984",
     "exception": false,
     "start_time": "2021-11-16T10:00:07.678353",
     "status": "completed"
    },
    "tags": []
   },
   "outputs": [],
   "source": [
    "import pandas as pd\n",
    "import sqlite3"
   ]
  },
  {
   "cell_type": "code",
   "execution_count": 2,
   "id": "innovative-syndrome",
   "metadata": {
    "execution": {
     "iopub.execute_input": "2021-11-16T10:00:08.756614Z",
     "iopub.status.busy": "2021-11-16T10:00:08.753856Z",
     "iopub.status.idle": "2021-11-16T10:00:09.643876Z",
     "shell.execute_reply": "2021-11-16T10:00:09.645232Z"
    },
    "papermill": {
     "duration": 0.925166,
     "end_time": "2021-11-16T10:00:09.645734",
     "exception": false,
     "start_time": "2021-11-16T10:00:08.720568",
     "status": "completed"
    },
    "tags": []
   },
   "outputs": [],
   "source": [
    "timestamps = pd.read_sql(\"select distinct record_time from EBAY_TOP_BERLIN order by record_time desc limit 2\", sqlite3.connect(\"UsedObjects.db\"))"
   ]
  },
  {
   "cell_type": "code",
   "execution_count": 3,
   "id": "periodic-identification",
   "metadata": {
    "execution": {
     "iopub.execute_input": "2021-11-16T10:00:09.708834Z",
     "iopub.status.busy": "2021-11-16T10:00:09.706807Z",
     "iopub.status.idle": "2021-11-16T10:00:09.743021Z",
     "shell.execute_reply": "2021-11-16T10:00:09.745908Z"
    },
    "papermill": {
     "duration": 0.080833,
     "end_time": "2021-11-16T10:00:09.746400",
     "exception": false,
     "start_time": "2021-11-16T10:00:09.665567",
     "status": "completed"
    },
    "tags": []
   },
   "outputs": [
    {
     "data": {
      "text/html": [
       "<div>\n",
       "<style scoped>\n",
       "    .dataframe tbody tr th:only-of-type {\n",
       "        vertical-align: middle;\n",
       "    }\n",
       "\n",
       "    .dataframe tbody tr th {\n",
       "        vertical-align: top;\n",
       "    }\n",
       "\n",
       "    .dataframe thead th {\n",
       "        text-align: right;\n",
       "    }\n",
       "</style>\n",
       "<table border=\"1\" class=\"dataframe\">\n",
       "  <thead>\n",
       "    <tr style=\"text-align: right;\">\n",
       "      <th></th>\n",
       "      <th>RECORD_TIME</th>\n",
       "    </tr>\n",
       "  </thead>\n",
       "  <tbody>\n",
       "    <tr>\n",
       "      <th>0</th>\n",
       "      <td>2021-11-16 11:00</td>\n",
       "    </tr>\n",
       "    <tr>\n",
       "      <th>1</th>\n",
       "      <td>2021-11-16 10:30</td>\n",
       "    </tr>\n",
       "  </tbody>\n",
       "</table>\n",
       "</div>"
      ],
      "text/plain": [
       "        RECORD_TIME\n",
       "0  2021-11-16 11:00\n",
       "1  2021-11-16 10:30"
      ]
     },
     "execution_count": 3,
     "metadata": {},
     "output_type": "execute_result"
    }
   ],
   "source": [
    "timestamps"
   ]
  },
  {
   "cell_type": "code",
   "execution_count": 4,
   "id": "alternate-victory",
   "metadata": {
    "execution": {
     "iopub.execute_input": "2021-11-16T10:00:09.804664Z",
     "iopub.status.busy": "2021-11-16T10:00:09.802458Z",
     "iopub.status.idle": "2021-11-16T10:00:11.003059Z",
     "shell.execute_reply": "2021-11-16T10:00:11.004906Z"
    },
    "papermill": {
     "duration": 1.235085,
     "end_time": "2021-11-16T10:00:11.005423",
     "exception": false,
     "start_time": "2021-11-16T10:00:09.770338",
     "status": "completed"
    },
    "tags": []
   },
   "outputs": [],
   "source": [
    "df = pd.read_sql(\"select * from EBAY_TOP_BERLIN where record_time in (select distinct record_time from EBAY_TOP_BERLIN order by record_time desc limit 2)\", sqlite3.connect(\"UsedObjects.db\"))"
   ]
  },
  {
   "cell_type": "code",
   "execution_count": 5,
   "id": "popular-active",
   "metadata": {
    "execution": {
     "iopub.execute_input": "2021-11-16T10:00:11.070407Z",
     "iopub.status.busy": "2021-11-16T10:00:11.068096Z",
     "iopub.status.idle": "2021-11-16T10:00:11.098305Z",
     "shell.execute_reply": "2021-11-16T10:00:11.099642Z"
    },
    "papermill": {
     "duration": 0.07181,
     "end_time": "2021-11-16T10:00:11.100104",
     "exception": false,
     "start_time": "2021-11-16T10:00:11.028294",
     "status": "completed"
    },
    "tags": []
   },
   "outputs": [],
   "source": [
    "df_pivot = df.pivot_table(index=\"PRODUCT\", columns = \"RECORD_TIME\", values = \"LISTING_COUNT\")"
   ]
  },
  {
   "cell_type": "code",
   "execution_count": 6,
   "id": "union-huntington",
   "metadata": {
    "execution": {
     "iopub.execute_input": "2021-11-16T10:00:11.160573Z",
     "iopub.status.busy": "2021-11-16T10:00:11.158268Z",
     "iopub.status.idle": "2021-11-16T10:00:11.163843Z",
     "shell.execute_reply": "2021-11-16T10:00:11.165389Z"
    },
    "papermill": {
     "duration": 0.046184,
     "end_time": "2021-11-16T10:00:11.165876",
     "exception": false,
     "start_time": "2021-11-16T10:00:11.119692",
     "status": "completed"
    },
    "tags": []
   },
   "outputs": [],
   "source": [
    "df_pivot.columns = [\"stamp_1\", \"stamp_2\"]\n",
    "df_pivot_diff = df_pivot.diff(axis=1)"
   ]
  },
  {
   "cell_type": "code",
   "execution_count": 7,
   "id": "fifth-motion",
   "metadata": {
    "execution": {
     "iopub.execute_input": "2021-11-16T10:00:11.224021Z",
     "iopub.status.busy": "2021-11-16T10:00:11.221623Z",
     "iopub.status.idle": "2021-11-16T10:00:13.260832Z",
     "shell.execute_reply": "2021-11-16T10:00:13.262279Z"
    },
    "papermill": {
     "duration": 2.074583,
     "end_time": "2021-11-16T10:00:13.262723",
     "exception": false,
     "start_time": "2021-11-16T10:00:11.188140",
     "status": "completed"
    },
    "tags": []
   },
   "outputs": [
    {
     "data": {
      "text/plain": [
       "<AxesSubplot:ylabel='PRODUCT'>"
      ]
     },
     "execution_count": 7,
     "metadata": {},
     "output_type": "execute_result"
    },
    {
     "data": {
      "image/png": "[encoded data removed]",
      "text/plain": [
       "<Figure size 432x288 with 1 Axes>"
      ]
     },
     "metadata": {
      "needs_background": "light"
     },
     "output_type": "display_data"
    }
   ],
   "source": [
    "df_pivot_diff.sort_values(\"stamp_2\", ascending = False)[\"stamp_2\"].head(10).plot.barh()"
   ]
  },
  {
   "cell_type": "code",
   "execution_count": null,
   "id": "extra-executive",
   "metadata": {
    "papermill": {
     "duration": 0.021916,
     "end_time": "2021-11-16T10:00:13.308534",
     "exception": false,
     "start_time": "2021-11-16T10:00:13.286618",
     "status": "completed"
    },
    "tags": []
   },
   "outputs": [],
   "source": []
  }
 ],
 "metadata": {
  "kernelspec": {
   "display_name": "Python 3",
   "language": "python",
   "name": "python3"
  },
  "language_info": {
   "codemirror_mode": {
    "name": "ipython",
    "version": 3
   },
   "file_extension": ".py",
   "mimetype": "text/x-python",
   "name": "python",
   "nbconvert_exporter": "python",
   "pygments_lexer": "ipython3",
   "version": "3.9.5"
  },
  "papermill": {
   "default_parameters": {},
   "duration": 9.928028,
   "end_time": "2021-11-16T10:00:14.882829",
   "environment_variables": {},
   "exception": null,
   "input_path": "eBay_Overview.ipynb",
   "output_path": "eBay_Overview.ipynb",
   "parameters": {},
   "start_time": "2021-11-16T10:00:04.954801",
   "version": "2.3.3"
  }
 },
 "nbformat": 4,
 "nbformat_minor": 5
}