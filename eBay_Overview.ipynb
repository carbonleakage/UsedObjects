{
 "cells": [
  {
   "cell_type": "code",
   "execution_count": 1,
   "id": "reverse-picking",
   "metadata": {
    "execution": {
     "iopub.execute_input": "2021-11-09T12:00:07.578659Z",
     "iopub.status.busy": "2021-11-09T12:00:07.576155Z",
     "iopub.status.idle": "2021-11-09T12:00:08.540400Z",
     "shell.execute_reply": "2021-11-09T12:00:08.542073Z"
    },
    "papermill": {
     "duration": 1.014059,
     "end_time": "2021-11-09T12:00:08.542801",
     "exception": false,
     "start_time": "2021-11-09T12:00:07.528742",
     "status": "completed"
    },
    "tags": []
   },
   "outputs": [],
   "source": [
    "import pandas as pd\n",
    "import sqlite3"
   ]
  },
  {
   "cell_type": "code",
   "execution_count": 2,
   "id": "innovative-syndrome",
   "metadata": {
    "execution": {
     "iopub.execute_input": "2021-11-09T12:00:08.602095Z",
     "iopub.status.busy": "2021-11-09T12:00:08.599876Z",
     "iopub.status.idle": "2021-11-09T12:00:09.366313Z",
     "shell.execute_reply": "2021-11-09T12:00:09.367680Z"
    },
    "papermill": {
     "duration": 0.800317,
     "end_time": "2021-11-09T12:00:09.368148",
     "exception": false,
     "start_time": "2021-11-09T12:00:08.567831",
     "status": "completed"
    },
    "tags": []
   },
   "outputs": [],
   "source": [
    "timestamps = pd.read_sql(\"select distinct record_time from EBAY_TOP_BERLIN order by record_time desc limit 2\", sqlite3.connect(\"UsedObjects.db\"))"
   ]
  },
  {
   "cell_type": "code",
   "execution_count": 3,
   "id": "periodic-identification",
   "metadata": {
    "execution": {
     "iopub.execute_input": "2021-11-09T12:00:09.437337Z",
     "iopub.status.busy": "2021-11-09T12:00:09.434989Z",
     "iopub.status.idle": "2021-11-09T12:00:09.458688Z",
     "shell.execute_reply": "2021-11-09T12:00:09.460117Z"
    },
    "papermill": {
     "duration": 0.072966,
     "end_time": "2021-11-09T12:00:09.460590",
     "exception": false,
     "start_time": "2021-11-09T12:00:09.387624",
     "status": "completed"
    },
    "tags": []
   },
   "outputs": [
    {
     "data": {
      "text/html": [
       "<div>\n",
       "<style scoped>\n",
       "    .dataframe tbody tr th:only-of-type {\n",
       "        vertical-align: middle;\n",
       "    }\n",
       "\n",
       "    .dataframe tbody tr th {\n",
       "        vertical-align: top;\n",
       "    }\n",
       "\n",
       "    .dataframe thead th {\n",
       "        text-align: right;\n",
       "    }\n",
       "</style>\n",
       "<table border=\"1\" class=\"dataframe\">\n",
       "  <thead>\n",
       "    <tr style=\"text-align: right;\">\n",
       "      <th></th>\n",
       "      <th>RECORD_TIME</th>\n",
       "    </tr>\n",
       "  </thead>\n",
       "  <tbody>\n",
       "    <tr>\n",
       "      <th>0</th>\n",
       "      <td>2021-11-09 13:00</td>\n",
       "    </tr>\n",
       "    <tr>\n",
       "      <th>1</th>\n",
       "      <td>2021-11-09 12:30</td>\n",
       "    </tr>\n",
       "  </tbody>\n",
       "</table>\n",
       "</div>"
      ],
      "text/plain": [
       "        RECORD_TIME\n",
       "0  2021-11-09 13:00\n",
       "1  2021-11-09 12:30"
      ]
     },
     "execution_count": 3,
     "metadata": {},
     "output_type": "execute_result"
    }
   ],
   "source": [
    "timestamps"
   ]
  },
  {
   "cell_type": "code",
   "execution_count": 4,
   "id": "alternate-victory",
   "metadata": {
    "execution": {
     "iopub.execute_input": "2021-11-09T12:00:09.516879Z",
     "iopub.status.busy": "2021-11-09T12:00:09.514650Z",
     "iopub.status.idle": "2021-11-09T12:00:10.624894Z",
     "shell.execute_reply": "2021-11-09T12:00:10.626448Z"
    },
    "papermill": {
     "duration": 1.144624,
     "end_time": "2021-11-09T12:00:10.626970",
     "exception": false,
     "start_time": "2021-11-09T12:00:09.482346",
     "status": "completed"
    },
    "tags": []
   },
   "outputs": [],
   "source": [
    "df = pd.read_sql(\"select * from EBAY_TOP_BERLIN where record_time in (select distinct record_time from EBAY_TOP_BERLIN order by record_time desc limit 2)\", sqlite3.connect(\"UsedObjects.db\"))"
   ]
  },
  {
   "cell_type": "code",
   "execution_count": 5,
   "id": "popular-active",
   "metadata": {
    "execution": {
     "iopub.execute_input": "2021-11-09T12:00:10.707392Z",
     "iopub.status.busy": "2021-11-09T12:00:10.691898Z",
     "iopub.status.idle": "2021-11-09T12:00:10.735646Z",
     "shell.execute_reply": "2021-11-09T12:00:10.726873Z"
    },
    "papermill": {
     "duration": 0.087345,
     "end_time": "2021-11-09T12:00:10.736134",
     "exception": false,
     "start_time": "2021-11-09T12:00:10.648789",
     "status": "completed"
    },
    "tags": []
   },
   "outputs": [],
   "source": [
    "df_pivot = df.pivot_table(index=\"PRODUCT\", columns = \"RECORD_TIME\", values = \"LISTING_COUNT\")"
   ]
  },
  {
   "cell_type": "code",
   "execution_count": 6,
   "id": "union-huntington",
   "metadata": {
    "execution": {
     "iopub.execute_input": "2021-11-09T12:00:10.797646Z",
     "iopub.status.busy": "2021-11-09T12:00:10.795426Z",
     "iopub.status.idle": "2021-11-09T12:00:10.801066Z",
     "shell.execute_reply": "2021-11-09T12:00:10.802419Z"
    },
    "papermill": {
     "duration": 0.043896,
     "end_time": "2021-11-09T12:00:10.802881",
     "exception": false,
     "start_time": "2021-11-09T12:00:10.758985",
     "status": "completed"
    },
    "tags": []
   },
   "outputs": [],
   "source": [
    "df_pivot.columns = [\"stamp_1\", \"stamp_2\"]\n",
    "df_pivot_diff = df_pivot.diff(axis=1)"
   ]
  },
  {
   "cell_type": "code",
   "execution_count": 7,
   "id": "fifth-motion",
   "metadata": {
    "execution": {
     "iopub.execute_input": "2021-11-09T12:00:10.858967Z",
     "iopub.status.busy": "2021-11-09T12:00:10.856507Z",
     "iopub.status.idle": "2021-11-09T12:00:12.603605Z",
     "shell.execute_reply": "2021-11-09T12:00:12.607236Z"
    },
    "papermill": {
     "duration": 1.784774,
     "end_time": "2021-11-09T12:00:12.608131",
     "exception": false,
     "start_time": "2021-11-09T12:00:10.823357",
     "status": "completed"
    },
    "tags": []
   },
   "outputs": [
    {
     "data": {
      "text/plain": [
       "<AxesSubplot:ylabel='PRODUCT'>"
      ]
     },
     "execution_count": 7,
     "metadata": {},
     "output_type": "execute_result"
    },
    {
     "data": {
      "image/png": "[encoded data removed]",
      "text/plain": [
       "<Figure size 432x288 with 1 Axes>"
      ]
     },
     "metadata": {
      "needs_background": "light"
     },
     "output_type": "display_data"
    }
   ],
   "source": [
    "df_pivot_diff.sort_values(\"stamp_2\", ascending = False)[\"stamp_2\"].head(10).plot.barh()"
   ]
  },
  {
   "cell_type": "code",
   "execution_count": null,
   "id": "extra-executive",
   "metadata": {
    "papermill": {
     "duration": 0.034809,
     "end_time": "2021-11-09T12:00:12.680218",
     "exception": false,
     "start_time": "2021-11-09T12:00:12.645409",
     "status": "completed"
    },
    "tags": []
   },
   "outputs": [],
   "source": []
  }
 ],
 "metadata": {
  "kernelspec": {
   "display_name": "Python 3",
   "language": "python",
   "name": "python3"
  },
  "language_info": {
   "codemirror_mode": {
    "name": "ipython",
    "version": 3
   },
   "file_extension": ".py",
   "mimetype": "text/x-python",
   "name": "python",
   "nbconvert_exporter": "python",
   "pygments_lexer": "ipython3",
   "version": "3.9.5"
  },
  "papermill": {
   "default_parameters": {},
   "duration": 8.739084,
   "end_time": "2021-11-09T12:00:13.547445",
   "environment_variables": {},
   "exception": null,
   "input_path": "eBay_Overview.ipynb",
   "output_path": "eBay_Overview.ipynb",
   "parameters": {},
   "start_time": "2021-11-09T12:00:04.808361",
   "version": "2.3.3"
  }
 },
 "nbformat": 4,
 "nbformat_minor": 5
}