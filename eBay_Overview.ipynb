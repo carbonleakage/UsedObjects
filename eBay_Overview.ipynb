{
 "cells": [
  {
   "cell_type": "code",
   "execution_count": 1,
   "id": "reverse-picking",
   "metadata": {
    "execution": {
     "iopub.execute_input": "2021-10-03T22:30:06.478330Z",
     "iopub.status.busy": "2021-10-03T22:30:06.476415Z",
     "iopub.status.idle": "2021-10-03T22:30:07.282422Z",
     "shell.execute_reply": "2021-10-03T22:30:07.283813Z"
    },
    "papermill": {
     "duration": 0.85893,
     "end_time": "2021-10-03T22:30:07.284461",
     "exception": false,
     "start_time": "2021-10-03T22:30:06.425531",
     "status": "completed"
    },
    "tags": []
   },
   "outputs": [],
   "source": [
    "import pandas as pd\n",
    "import sqlite3"
   ]
  },
  {
   "cell_type": "code",
   "execution_count": 2,
   "id": "innovative-syndrome",
   "metadata": {
    "execution": {
     "iopub.execute_input": "2021-10-03T22:30:07.335568Z",
     "iopub.status.busy": "2021-10-03T22:30:07.333468Z",
     "iopub.status.idle": "2021-10-03T22:30:07.783926Z",
     "shell.execute_reply": "2021-10-03T22:30:07.785132Z"
    },
    "papermill": {
     "duration": 0.480661,
     "end_time": "2021-10-03T22:30:07.785522",
     "exception": false,
     "start_time": "2021-10-03T22:30:07.304861",
     "status": "completed"
    },
    "tags": []
   },
   "outputs": [],
   "source": [
    "timestamps = pd.read_sql(\"select distinct record_time from EBAY_TOP_BERLIN order by record_time desc limit 2\", sqlite3.connect(\"UsedObjects.db\"))"
   ]
  },
  {
   "cell_type": "code",
   "execution_count": 3,
   "id": "periodic-identification",
   "metadata": {
    "execution": {
     "iopub.execute_input": "2021-10-03T22:30:07.850692Z",
     "iopub.status.busy": "2021-10-03T22:30:07.848682Z",
     "iopub.status.idle": "2021-10-03T22:30:07.868928Z",
     "shell.execute_reply": "2021-10-03T22:30:07.870200Z"
    },
    "papermill": {
     "duration": 0.064101,
     "end_time": "2021-10-03T22:30:07.870609",
     "exception": false,
     "start_time": "2021-10-03T22:30:07.806508",
     "status": "completed"
    },
    "tags": []
   },
   "outputs": [
    {
     "data": {
      "text/html": [
       "<div>\n",
       "<style scoped>\n",
       "    .dataframe tbody tr th:only-of-type {\n",
       "        vertical-align: middle;\n",
       "    }\n",
       "\n",
       "    .dataframe tbody tr th {\n",
       "        vertical-align: top;\n",
       "    }\n",
       "\n",
       "    .dataframe thead th {\n",
       "        text-align: right;\n",
       "    }\n",
       "</style>\n",
       "<table border=\"1\" class=\"dataframe\">\n",
       "  <thead>\n",
       "    <tr style=\"text-align: right;\">\n",
       "      <th></th>\n",
       "      <th>RECORD_TIME</th>\n",
       "    </tr>\n",
       "  </thead>\n",
       "  <tbody>\n",
       "    <tr>\n",
       "      <th>0</th>\n",
       "      <td>2021-10-04 00:30</td>\n",
       "    </tr>\n",
       "    <tr>\n",
       "      <th>1</th>\n",
       "      <td>2021-10-04 00:00</td>\n",
       "    </tr>\n",
       "  </tbody>\n",
       "</table>\n",
       "</div>"
      ],
      "text/plain": [
       "        RECORD_TIME\n",
       "0  2021-10-04 00:30\n",
       "1  2021-10-04 00:00"
      ]
     },
     "execution_count": 3,
     "metadata": {},
     "output_type": "execute_result"
    }
   ],
   "source": [
    "timestamps"
   ]
  },
  {
   "cell_type": "code",
   "execution_count": 4,
   "id": "alternate-victory",
   "metadata": {
    "execution": {
     "iopub.execute_input": "2021-10-03T22:30:07.941440Z",
     "iopub.status.busy": "2021-10-03T22:30:07.939410Z",
     "iopub.status.idle": "2021-10-03T22:30:08.582066Z",
     "shell.execute_reply": "2021-10-03T22:30:08.584104Z"
    },
    "papermill": {
     "duration": 0.693457,
     "end_time": "2021-10-03T22:30:08.584658",
     "exception": false,
     "start_time": "2021-10-03T22:30:07.891201",
     "status": "completed"
    },
    "tags": []
   },
   "outputs": [],
   "source": [
    "df = pd.read_sql(\"select * from EBAY_TOP_BERLIN where record_time in (select distinct record_time from EBAY_TOP_BERLIN order by record_time desc limit 2)\", sqlite3.connect(\"UsedObjects.db\"))"
   ]
  },
  {
   "cell_type": "code",
   "execution_count": 5,
   "id": "popular-active",
   "metadata": {
    "execution": {
     "iopub.execute_input": "2021-10-03T22:30:08.656023Z",
     "iopub.status.busy": "2021-10-03T22:30:08.644114Z",
     "iopub.status.idle": "2021-10-03T22:30:08.671694Z",
     "shell.execute_reply": "2021-10-03T22:30:08.672924Z"
    },
    "papermill": {
     "duration": 0.068467,
     "end_time": "2021-10-03T22:30:08.673316",
     "exception": false,
     "start_time": "2021-10-03T22:30:08.604849",
     "status": "completed"
    },
    "tags": []
   },
   "outputs": [],
   "source": [
    "df_pivot = df.pivot_table(index=\"PRODUCT\", columns = \"RECORD_TIME\", values = \"LISTING_COUNT\")"
   ]
  },
  {
   "cell_type": "code",
   "execution_count": 6,
   "id": "union-huntington",
   "metadata": {
    "execution": {
     "iopub.execute_input": "2021-10-03T22:30:08.732745Z",
     "iopub.status.busy": "2021-10-03T22:30:08.730253Z",
     "iopub.status.idle": "2021-10-03T22:30:08.736640Z",
     "shell.execute_reply": "2021-10-03T22:30:08.738073Z"
    },
    "papermill": {
     "duration": 0.042868,
     "end_time": "2021-10-03T22:30:08.738527",
     "exception": false,
     "start_time": "2021-10-03T22:30:08.695659",
     "status": "completed"
    },
    "tags": []
   },
   "outputs": [],
   "source": [
    "df_pivot.columns = [\"stamp_1\", \"stamp_2\"]\n",
    "df_pivot_diff = df_pivot.diff(axis=1)"
   ]
  },
  {
   "cell_type": "code",
   "execution_count": 7,
   "id": "fifth-motion",
   "metadata": {
    "execution": {
     "iopub.execute_input": "2021-10-03T22:30:08.793736Z",
     "iopub.status.busy": "2021-10-03T22:30:08.791375Z",
     "iopub.status.idle": "2021-10-03T22:30:10.257200Z",
     "shell.execute_reply": "2021-10-03T22:30:10.258471Z"
    },
    "papermill": {
     "duration": 1.498968,
     "end_time": "2021-10-03T22:30:10.259086",
     "exception": false,
     "start_time": "2021-10-03T22:30:08.760118",
     "status": "completed"
    },
    "tags": []
   },
   "outputs": [
    {
     "data": {
      "text/plain": [
       "<AxesSubplot:ylabel='PRODUCT'>"
      ]
     },
     "execution_count": 7,
     "metadata": {},
     "output_type": "execute_result"
    },
    {
     "data": {
      "image/png": "[encoded data removed]",
      "text/plain": [
       "<Figure size 432x288 with 1 Axes>"
      ]
     },
     "metadata": {
      "needs_background": "light"
     },
     "output_type": "display_data"
    }
   ],
   "source": [
    "df_pivot_diff.sort_values(\"stamp_2\", ascending = False)[\"stamp_2\"].head(10).plot.barh()"
   ]
  },
  {
   "cell_type": "code",
   "execution_count": null,
   "id": "extra-executive",
   "metadata": {
    "papermill": {
     "duration": 0.022159,
     "end_time": "2021-10-03T22:30:10.307323",
     "exception": false,
     "start_time": "2021-10-03T22:30:10.285164",
     "status": "completed"
    },
    "tags": []
   },
   "outputs": [],
   "source": []
  }
 ],
 "metadata": {
  "kernelspec": {
   "display_name": "Python 3",
   "language": "python",
   "name": "python3"
  },
  "language_info": {
   "codemirror_mode": {
    "name": "ipython",
    "version": 3
   },
   "file_extension": ".py",
   "mimetype": "text/x-python",
   "name": "python",
   "nbconvert_exporter": "python",
   "pygments_lexer": "ipython3",
   "version": "3.9.5"
  },
  "papermill": {
   "default_parameters": {},
   "duration": 7.819296,
   "end_time": "2021-10-03T22:30:11.837594",
   "environment_variables": {},
   "exception": null,
   "input_path": "eBay_Overview.ipynb",
   "output_path": "eBay_Overview.ipynb",
   "parameters": {},
   "start_time": "2021-10-03T22:30:04.018298",
   "version": "2.3.3"
  }
 },
 "nbformat": 4,
 "nbformat_minor": 5
}