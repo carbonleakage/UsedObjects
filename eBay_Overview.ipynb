{
 "cells": [
  {
   "cell_type": "code",
   "execution_count": 1,
   "id": "reverse-picking",
   "metadata": {
    "execution": {
     "iopub.execute_input": "2021-11-17T11:00:07.085179Z",
     "iopub.status.busy": "2021-11-17T11:00:07.082806Z",
     "iopub.status.idle": "2021-11-17T11:00:08.058008Z",
     "shell.execute_reply": "2021-11-17T11:00:08.059390Z"
    },
    "papermill": {
     "duration": 1.02567,
     "end_time": "2021-11-17T11:00:08.060091",
     "exception": false,
     "start_time": "2021-11-17T11:00:07.034421",
     "status": "completed"
    },
    "tags": []
   },
   "outputs": [],
   "source": [
    "import pandas as pd\n",
    "import sqlite3"
   ]
  },
  {
   "cell_type": "code",
   "execution_count": 2,
   "id": "innovative-syndrome",
   "metadata": {
    "execution": {
     "iopub.execute_input": "2021-11-17T11:00:08.112855Z",
     "iopub.status.busy": "2021-11-17T11:00:08.110629Z",
     "iopub.status.idle": "2021-11-17T11:00:08.941209Z",
     "shell.execute_reply": "2021-11-17T11:00:08.942848Z"
    },
    "papermill": {
     "duration": 0.862541,
     "end_time": "2021-11-17T11:00:08.943323",
     "exception": false,
     "start_time": "2021-11-17T11:00:08.080782",
     "status": "completed"
    },
    "tags": []
   },
   "outputs": [],
   "source": [
    "timestamps = pd.read_sql(\"select distinct record_time from EBAY_TOP_BERLIN order by record_time desc limit 2\", sqlite3.connect(\"UsedObjects.db\"))"
   ]
  },
  {
   "cell_type": "code",
   "execution_count": 3,
   "id": "periodic-identification",
   "metadata": {
    "execution": {
     "iopub.execute_input": "2021-11-17T11:00:09.017203Z",
     "iopub.status.busy": "2021-11-17T11:00:09.014599Z",
     "iopub.status.idle": "2021-11-17T11:00:09.040452Z",
     "shell.execute_reply": "2021-11-17T11:00:09.042156Z"
    },
    "papermill": {
     "duration": 0.077429,
     "end_time": "2021-11-17T11:00:09.042897",
     "exception": false,
     "start_time": "2021-11-17T11:00:08.965468",
     "status": "completed"
    },
    "tags": []
   },
   "outputs": [
    {
     "data": {
      "text/html": [
       "<div>\n",
       "<style scoped>\n",
       "    .dataframe tbody tr th:only-of-type {\n",
       "        vertical-align: middle;\n",
       "    }\n",
       "\n",
       "    .dataframe tbody tr th {\n",
       "        vertical-align: top;\n",
       "    }\n",
       "\n",
       "    .dataframe thead th {\n",
       "        text-align: right;\n",
       "    }\n",
       "</style>\n",
       "<table border=\"1\" class=\"dataframe\">\n",
       "  <thead>\n",
       "    <tr style=\"text-align: right;\">\n",
       "      <th></th>\n",
       "      <th>RECORD_TIME</th>\n",
       "    </tr>\n",
       "  </thead>\n",
       "  <tbody>\n",
       "    <tr>\n",
       "      <th>0</th>\n",
       "      <td>2021-11-17 12:00</td>\n",
       "    </tr>\n",
       "    <tr>\n",
       "      <th>1</th>\n",
       "      <td>2021-11-17 11:30</td>\n",
       "    </tr>\n",
       "  </tbody>\n",
       "</table>\n",
       "</div>"
      ],
      "text/plain": [
       "        RECORD_TIME\n",
       "0  2021-11-17 12:00\n",
       "1  2021-11-17 11:30"
      ]
     },
     "execution_count": 3,
     "metadata": {},
     "output_type": "execute_result"
    }
   ],
   "source": [
    "timestamps"
   ]
  },
  {
   "cell_type": "code",
   "execution_count": 4,
   "id": "alternate-victory",
   "metadata": {
    "execution": {
     "iopub.execute_input": "2021-11-17T11:00:09.101025Z",
     "iopub.status.busy": "2021-11-17T11:00:09.098681Z",
     "iopub.status.idle": "2021-11-17T11:00:10.296135Z",
     "shell.execute_reply": "2021-11-17T11:00:10.297711Z"
    },
    "papermill": {
     "duration": 1.231973,
     "end_time": "2021-11-17T11:00:10.298179",
     "exception": false,
     "start_time": "2021-11-17T11:00:09.066206",
     "status": "completed"
    },
    "tags": []
   },
   "outputs": [],
   "source": [
    "df = pd.read_sql(\"select * from EBAY_TOP_BERLIN where record_time in (select distinct record_time from EBAY_TOP_BERLIN order by record_time desc limit 2)\", sqlite3.connect(\"UsedObjects.db\"))"
   ]
  },
  {
   "cell_type": "code",
   "execution_count": 5,
   "id": "popular-active",
   "metadata": {
    "execution": {
     "iopub.execute_input": "2021-11-17T11:00:10.370685Z",
     "iopub.status.busy": "2021-11-17T11:00:10.360311Z",
     "iopub.status.idle": "2021-11-17T11:00:10.395982Z",
     "shell.execute_reply": "2021-11-17T11:00:10.397776Z"
    },
    "papermill": {
     "duration": 0.077637,
     "end_time": "2021-11-17T11:00:10.398300",
     "exception": false,
     "start_time": "2021-11-17T11:00:10.320663",
     "status": "completed"
    },
    "tags": []
   },
   "outputs": [],
   "source": [
    "df_pivot = df.pivot_table(index=\"PRODUCT\", columns = \"RECORD_TIME\", values = \"LISTING_COUNT\")"
   ]
  },
  {
   "cell_type": "code",
   "execution_count": 6,
   "id": "union-huntington",
   "metadata": {
    "execution": {
     "iopub.execute_input": "2021-11-17T11:00:10.458952Z",
     "iopub.status.busy": "2021-11-17T11:00:10.456787Z",
     "iopub.status.idle": "2021-11-17T11:00:10.462323Z",
     "shell.execute_reply": "2021-11-17T11:00:10.463683Z"
    },
    "papermill": {
     "duration": 0.042012,
     "end_time": "2021-11-17T11:00:10.464118",
     "exception": false,
     "start_time": "2021-11-17T11:00:10.422106",
     "status": "completed"
    },
    "tags": []
   },
   "outputs": [],
   "source": [
    "df_pivot.columns = [\"stamp_1\", \"stamp_2\"]\n",
    "df_pivot_diff = df_pivot.diff(axis=1)"
   ]
  },
  {
   "cell_type": "code",
   "execution_count": 7,
   "id": "fifth-motion",
   "metadata": {
    "execution": {
     "iopub.execute_input": "2021-11-17T11:00:10.522256Z",
     "iopub.status.busy": "2021-11-17T11:00:10.519570Z",
     "iopub.status.idle": "2021-11-17T11:00:12.312100Z",
     "shell.execute_reply": "2021-11-17T11:00:12.313554Z"
    },
    "papermill": {
     "duration": 1.826856,
     "end_time": "2021-11-17T11:00:12.314034",
     "exception": false,
     "start_time": "2021-11-17T11:00:10.487178",
     "status": "completed"
    },
    "tags": []
   },
   "outputs": [
    {
     "data": {
      "text/plain": [
       "<AxesSubplot:ylabel='PRODUCT'>"
      ]
     },
     "execution_count": 7,
     "metadata": {},
     "output_type": "execute_result"
    },
    {
     "data": {
      "image/png": "[encoded data removed]",
      "text/plain": [
       "<Figure size 432x288 with 1 Axes>"
      ]
     },
     "metadata": {
      "needs_background": "light"
     },
     "output_type": "display_data"
    }
   ],
   "source": [
    "df_pivot_diff.sort_values(\"stamp_2\", ascending = False)[\"stamp_2\"].head(10).plot.barh()"
   ]
  },
  {
   "cell_type": "code",
   "execution_count": null,
   "id": "extra-executive",
   "metadata": {
    "papermill": {
     "duration": 0.026237,
     "end_time": "2021-11-17T11:00:12.366568",
     "exception": false,
     "start_time": "2021-11-17T11:00:12.340331",
     "status": "completed"
    },
    "tags": []
   },
   "outputs": [],
   "source": []
  }
 ],
 "metadata": {
  "kernelspec": {
   "display_name": "Python 3",
   "language": "python",
   "name": "python3"
  },
  "language_info": {
   "codemirror_mode": {
    "name": "ipython",
    "version": 3
   },
   "file_extension": ".py",
   "mimetype": "text/x-python",
   "name": "python",
   "nbconvert_exporter": "python",
   "pygments_lexer": "ipython3",
   "version": "3.9.5"
  },
  "papermill": {
   "default_parameters": {},
   "duration": 8.829816,
   "end_time": "2021-11-17T11:00:13.111516",
   "environment_variables": {},
   "exception": null,
   "input_path": "eBay_Overview.ipynb",
   "output_path": "eBay_Overview.ipynb",
   "parameters": {},
   "start_time": "2021-11-17T11:00:04.281700",
   "version": "2.3.3"
  }
 },
 "nbformat": 4,
 "nbformat_minor": 5
}