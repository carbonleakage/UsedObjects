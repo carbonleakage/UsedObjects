{
 "cells": [
  {
   "cell_type": "code",
   "execution_count": 1,
   "id": "reverse-picking",
   "metadata": {
    "execution": {
     "iopub.execute_input": "2021-09-25T11:30:06.535354Z",
     "iopub.status.busy": "2021-09-25T11:30:06.533339Z",
     "iopub.status.idle": "2021-09-25T11:30:07.337831Z",
     "shell.execute_reply": "2021-09-25T11:30:07.339162Z"
    },
    "papermill": {
     "duration": 0.855692,
     "end_time": "2021-09-25T11:30:07.339791",
     "exception": false,
     "start_time": "2021-09-25T11:30:06.484099",
     "status": "completed"
    },
    "tags": []
   },
   "outputs": [],
   "source": [
    "import pandas as pd\n",
    "import sqlite3"
   ]
  },
  {
   "cell_type": "code",
   "execution_count": 2,
   "id": "innovative-syndrome",
   "metadata": {
    "execution": {
     "iopub.execute_input": "2021-09-25T11:30:07.389823Z",
     "iopub.status.busy": "2021-09-25T11:30:07.387958Z",
     "iopub.status.idle": "2021-09-25T11:30:07.753187Z",
     "shell.execute_reply": "2021-09-25T11:30:07.754443Z"
    },
    "papermill": {
     "duration": 0.394387,
     "end_time": "2021-09-25T11:30:07.754903",
     "exception": false,
     "start_time": "2021-09-25T11:30:07.360516",
     "status": "completed"
    },
    "tags": []
   },
   "outputs": [],
   "source": [
    "timestamps = pd.read_sql(\"select distinct record_time from EBAY_TOP_BERLIN order by record_time desc limit 2\", sqlite3.connect(\"UsedObjects.db\"))"
   ]
  },
  {
   "cell_type": "code",
   "execution_count": 3,
   "id": "periodic-identification",
   "metadata": {
    "execution": {
     "iopub.execute_input": "2021-09-25T11:30:07.821151Z",
     "iopub.status.busy": "2021-09-25T11:30:07.819150Z",
     "iopub.status.idle": "2021-09-25T11:30:07.839073Z",
     "shell.execute_reply": "2021-09-25T11:30:07.840291Z"
    },
    "papermill": {
     "duration": 0.066424,
     "end_time": "2021-09-25T11:30:07.840710",
     "exception": false,
     "start_time": "2021-09-25T11:30:07.774286",
     "status": "completed"
    },
    "tags": []
   },
   "outputs": [
    {
     "data": {
      "text/html": [
       "<div>\n",
       "<style scoped>\n",
       "    .dataframe tbody tr th:only-of-type {\n",
       "        vertical-align: middle;\n",
       "    }\n",
       "\n",
       "    .dataframe tbody tr th {\n",
       "        vertical-align: top;\n",
       "    }\n",
       "\n",
       "    .dataframe thead th {\n",
       "        text-align: right;\n",
       "    }\n",
       "</style>\n",
       "<table border=\"1\" class=\"dataframe\">\n",
       "  <thead>\n",
       "    <tr style=\"text-align: right;\">\n",
       "      <th></th>\n",
       "      <th>RECORD_TIME</th>\n",
       "    </tr>\n",
       "  </thead>\n",
       "  <tbody>\n",
       "    <tr>\n",
       "      <th>0</th>\n",
       "      <td>2021-09-25 13:30</td>\n",
       "    </tr>\n",
       "    <tr>\n",
       "      <th>1</th>\n",
       "      <td>2021-09-25 13:00</td>\n",
       "    </tr>\n",
       "  </tbody>\n",
       "</table>\n",
       "</div>"
      ],
      "text/plain": [
       "        RECORD_TIME\n",
       "0  2021-09-25 13:30\n",
       "1  2021-09-25 13:00"
      ]
     },
     "execution_count": 3,
     "metadata": {},
     "output_type": "execute_result"
    }
   ],
   "source": [
    "timestamps"
   ]
  },
  {
   "cell_type": "code",
   "execution_count": 4,
   "id": "alternate-victory",
   "metadata": {
    "execution": {
     "iopub.execute_input": "2021-09-25T11:30:07.893832Z",
     "iopub.status.busy": "2021-09-25T11:30:07.891530Z",
     "iopub.status.idle": "2021-09-25T11:30:08.434840Z",
     "shell.execute_reply": "2021-09-25T11:30:08.436163Z"
    },
    "papermill": {
     "duration": 0.573294,
     "end_time": "2021-09-25T11:30:08.436573",
     "exception": false,
     "start_time": "2021-09-25T11:30:07.863279",
     "status": "completed"
    },
    "tags": []
   },
   "outputs": [],
   "source": [
    "df = pd.read_sql(\"select * from EBAY_TOP_BERLIN where record_time in (select distinct record_time from EBAY_TOP_BERLIN order by record_time desc limit 2)\", sqlite3.connect(\"UsedObjects.db\"))"
   ]
  },
  {
   "cell_type": "code",
   "execution_count": 5,
   "id": "popular-active",
   "metadata": {
    "execution": {
     "iopub.execute_input": "2021-09-25T11:30:08.514497Z",
     "iopub.status.busy": "2021-09-25T11:30:08.503730Z",
     "iopub.status.idle": "2021-09-25T11:30:08.530860Z",
     "shell.execute_reply": "2021-09-25T11:30:08.532083Z"
    },
    "papermill": {
     "duration": 0.070139,
     "end_time": "2021-09-25T11:30:08.532467",
     "exception": false,
     "start_time": "2021-09-25T11:30:08.462328",
     "status": "completed"
    },
    "tags": []
   },
   "outputs": [],
   "source": [
    "df_pivot = df.pivot_table(index=\"PRODUCT\", columns = \"RECORD_TIME\", values = \"LISTING_COUNT\")"
   ]
  },
  {
   "cell_type": "code",
   "execution_count": 6,
   "id": "union-huntington",
   "metadata": {
    "execution": {
     "iopub.execute_input": "2021-09-25T11:30:08.591516Z",
     "iopub.status.busy": "2021-09-25T11:30:08.589192Z",
     "iopub.status.idle": "2021-09-25T11:30:08.595083Z",
     "shell.execute_reply": "2021-09-25T11:30:08.596530Z"
    },
    "papermill": {
     "duration": 0.041628,
     "end_time": "2021-09-25T11:30:08.596980",
     "exception": false,
     "start_time": "2021-09-25T11:30:08.555352",
     "status": "completed"
    },
    "tags": []
   },
   "outputs": [],
   "source": [
    "df_pivot.columns = [\"stamp_1\", \"stamp_2\"]\n",
    "df_pivot_diff = df_pivot.diff(axis=1)"
   ]
  },
  {
   "cell_type": "code",
   "execution_count": 7,
   "id": "fifth-motion",
   "metadata": {
    "execution": {
     "iopub.execute_input": "2021-09-25T11:30:08.651696Z",
     "iopub.status.busy": "2021-09-25T11:30:08.649327Z",
     "iopub.status.idle": "2021-09-25T11:30:10.142582Z",
     "shell.execute_reply": "2021-09-25T11:30:10.144045Z"
    },
    "papermill": {
     "duration": 1.525791,
     "end_time": "2021-09-25T11:30:10.144475",
     "exception": false,
     "start_time": "2021-09-25T11:30:08.618684",
     "status": "completed"
    },
    "tags": []
   },
   "outputs": [
    {
     "data": {
      "text/plain": [
       "<AxesSubplot:ylabel='PRODUCT'>"
      ]
     },
     "execution_count": 7,
     "metadata": {},
     "output_type": "execute_result"
    },
    {
     "data": {
      "image/png": "[encoded data removed]",
      "text/plain": [
       "<Figure size 432x288 with 1 Axes>"
      ]
     },
     "metadata": {
      "needs_background": "light"
     },
     "output_type": "display_data"
    }
   ],
   "source": [
    "df_pivot_diff.sort_values(\"stamp_2\", ascending = False)[\"stamp_2\"].head(10).plot.barh()"
   ]
  },
  {
   "cell_type": "code",
   "execution_count": null,
   "id": "extra-executive",
   "metadata": {
    "papermill": {
     "duration": 0.021875,
     "end_time": "2021-09-25T11:30:10.189788",
     "exception": false,
     "start_time": "2021-09-25T11:30:10.167913",
     "status": "completed"
    },
    "tags": []
   },
   "outputs": [],
   "source": []
  }
 ],
 "metadata": {
  "kernelspec": {
   "display_name": "Python 3",
   "language": "python",
   "name": "python3"
  },
  "language_info": {
   "codemirror_mode": {
    "name": "ipython",
    "version": 3
   },
   "file_extension": ".py",
   "mimetype": "text/x-python",
   "name": "python",
   "nbconvert_exporter": "python",
   "pygments_lexer": "ipython3",
   "version": "3.9.5"
  },
  "papermill": {
   "default_parameters": {},
   "duration": 6.752603,
   "end_time": "2021-09-25T11:30:10.832280",
   "environment_variables": {},
   "exception": null,
   "input_path": "eBay_Overview.ipynb",
   "output_path": "eBay_Overview.ipynb",
   "parameters": {},
   "start_time": "2021-09-25T11:30:04.079677",
   "version": "2.3.3"
  }
 },
 "nbformat": 4,
 "nbformat_minor": 5
}