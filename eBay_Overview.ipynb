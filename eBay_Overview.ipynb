{
 "cells": [
  {
   "cell_type": "code",
   "execution_count": 1,
   "id": "reverse-picking",
   "metadata": {
    "execution": {
     "iopub.execute_input": "2021-11-04T23:00:08.036009Z",
     "iopub.status.busy": "2021-11-04T23:00:08.033860Z",
     "iopub.status.idle": "2021-11-04T23:00:08.987532Z",
     "shell.execute_reply": "2021-11-04T23:00:08.985556Z"
    },
    "papermill": {
     "duration": 0.998148,
     "end_time": "2021-11-04T23:00:08.988019",
     "exception": false,
     "start_time": "2021-11-04T23:00:07.989871",
     "status": "completed"
    },
    "tags": []
   },
   "outputs": [],
   "source": [
    "import pandas as pd\n",
    "import sqlite3"
   ]
  },
  {
   "cell_type": "code",
   "execution_count": 2,
   "id": "innovative-syndrome",
   "metadata": {
    "execution": {
     "iopub.execute_input": "2021-11-04T23:00:09.045130Z",
     "iopub.status.busy": "2021-11-04T23:00:09.042649Z",
     "iopub.status.idle": "2021-11-04T23:00:09.769744Z",
     "shell.execute_reply": "2021-11-04T23:00:09.771071Z"
    },
    "papermill": {
     "duration": 0.760909,
     "end_time": "2021-11-04T23:00:09.771548",
     "exception": false,
     "start_time": "2021-11-04T23:00:09.010639",
     "status": "completed"
    },
    "tags": []
   },
   "outputs": [],
   "source": [
    "timestamps = pd.read_sql(\"select distinct record_time from EBAY_TOP_BERLIN order by record_time desc limit 2\", sqlite3.connect(\"UsedObjects.db\"))"
   ]
  },
  {
   "cell_type": "code",
   "execution_count": 3,
   "id": "periodic-identification",
   "metadata": {
    "execution": {
     "iopub.execute_input": "2021-11-04T23:00:09.842638Z",
     "iopub.status.busy": "2021-11-04T23:00:09.836902Z",
     "iopub.status.idle": "2021-11-04T23:00:09.858638Z",
     "shell.execute_reply": "2021-11-04T23:00:09.859999Z"
    },
    "papermill": {
     "duration": 0.069146,
     "end_time": "2021-11-04T23:00:09.860472",
     "exception": false,
     "start_time": "2021-11-04T23:00:09.791326",
     "status": "completed"
    },
    "tags": []
   },
   "outputs": [
    {
     "data": {
      "text/html": [
       "<div>\n",
       "<style scoped>\n",
       "    .dataframe tbody tr th:only-of-type {\n",
       "        vertical-align: middle;\n",
       "    }\n",
       "\n",
       "    .dataframe tbody tr th {\n",
       "        vertical-align: top;\n",
       "    }\n",
       "\n",
       "    .dataframe thead th {\n",
       "        text-align: right;\n",
       "    }\n",
       "</style>\n",
       "<table border=\"1\" class=\"dataframe\">\n",
       "  <thead>\n",
       "    <tr style=\"text-align: right;\">\n",
       "      <th></th>\n",
       "      <th>RECORD_TIME</th>\n",
       "    </tr>\n",
       "  </thead>\n",
       "  <tbody>\n",
       "    <tr>\n",
       "      <th>0</th>\n",
       "      <td>2021-11-05 00:00</td>\n",
       "    </tr>\n",
       "    <tr>\n",
       "      <th>1</th>\n",
       "      <td>2021-11-04 23:30</td>\n",
       "    </tr>\n",
       "  </tbody>\n",
       "</table>\n",
       "</div>"
      ],
      "text/plain": [
       "        RECORD_TIME\n",
       "0  2021-11-05 00:00\n",
       "1  2021-11-04 23:30"
      ]
     },
     "execution_count": 3,
     "metadata": {},
     "output_type": "execute_result"
    }
   ],
   "source": [
    "timestamps"
   ]
  },
  {
   "cell_type": "code",
   "execution_count": 4,
   "id": "alternate-victory",
   "metadata": {
    "execution": {
     "iopub.execute_input": "2021-11-04T23:00:09.914641Z",
     "iopub.status.busy": "2021-11-04T23:00:09.912506Z",
     "iopub.status.idle": "2021-11-04T23:00:10.978408Z",
     "shell.execute_reply": "2021-11-04T23:00:10.980031Z"
    },
    "papermill": {
     "duration": 1.099926,
     "end_time": "2021-11-04T23:00:10.980594",
     "exception": false,
     "start_time": "2021-11-04T23:00:09.880668",
     "status": "completed"
    },
    "tags": []
   },
   "outputs": [],
   "source": [
    "df = pd.read_sql(\"select * from EBAY_TOP_BERLIN where record_time in (select distinct record_time from EBAY_TOP_BERLIN order by record_time desc limit 2)\", sqlite3.connect(\"UsedObjects.db\"))"
   ]
  },
  {
   "cell_type": "code",
   "execution_count": 5,
   "id": "popular-active",
   "metadata": {
    "execution": {
     "iopub.execute_input": "2021-11-04T23:00:11.060779Z",
     "iopub.status.busy": "2021-11-04T23:00:11.046173Z",
     "iopub.status.idle": "2021-11-04T23:00:11.081372Z",
     "shell.execute_reply": "2021-11-04T23:00:11.083226Z"
    },
    "papermill": {
     "duration": 0.07988,
     "end_time": "2021-11-04T23:00:11.083718",
     "exception": false,
     "start_time": "2021-11-04T23:00:11.003838",
     "status": "completed"
    },
    "tags": []
   },
   "outputs": [],
   "source": [
    "df_pivot = df.pivot_table(index=\"PRODUCT\", columns = \"RECORD_TIME\", values = \"LISTING_COUNT\")"
   ]
  },
  {
   "cell_type": "code",
   "execution_count": 6,
   "id": "union-huntington",
   "metadata": {
    "execution": {
     "iopub.execute_input": "2021-11-04T23:00:11.147163Z",
     "iopub.status.busy": "2021-11-04T23:00:11.144893Z",
     "iopub.status.idle": "2021-11-04T23:00:11.150752Z",
     "shell.execute_reply": "2021-11-04T23:00:11.152251Z"
    },
    "papermill": {
     "duration": 0.047297,
     "end_time": "2021-11-04T23:00:11.152798",
     "exception": false,
     "start_time": "2021-11-04T23:00:11.105501",
     "status": "completed"
    },
    "tags": []
   },
   "outputs": [],
   "source": [
    "df_pivot.columns = [\"stamp_1\", \"stamp_2\"]\n",
    "df_pivot_diff = df_pivot.diff(axis=1)"
   ]
  },
  {
   "cell_type": "code",
   "execution_count": 7,
   "id": "fifth-motion",
   "metadata": {
    "execution": {
     "iopub.execute_input": "2021-11-04T23:00:11.212141Z",
     "iopub.status.busy": "2021-11-04T23:00:11.209584Z",
     "iopub.status.idle": "2021-11-04T23:00:12.990892Z",
     "shell.execute_reply": "2021-11-04T23:00:12.992373Z"
    },
    "papermill": {
     "duration": 1.819513,
     "end_time": "2021-11-04T23:00:12.993011",
     "exception": false,
     "start_time": "2021-11-04T23:00:11.173498",
     "status": "completed"
    },
    "tags": []
   },
   "outputs": [
    {
     "data": {
      "text/plain": [
       "<AxesSubplot:ylabel='PRODUCT'>"
      ]
     },
     "execution_count": 7,
     "metadata": {},
     "output_type": "execute_result"
    },
    {
     "data": {
      "image/png": "[encoded data removed]",
      "text/plain": [
       "<Figure size 432x288 with 1 Axes>"
      ]
     },
     "metadata": {
      "needs_background": "light"
     },
     "output_type": "display_data"
    }
   ],
   "source": [
    "df_pivot_diff.sort_values(\"stamp_2\", ascending = False)[\"stamp_2\"].head(10).plot.barh()"
   ]
  },
  {
   "cell_type": "code",
   "execution_count": null,
   "id": "extra-executive",
   "metadata": {
    "papermill": {
     "duration": 0.02601,
     "end_time": "2021-11-04T23:00:13.050137",
     "exception": false,
     "start_time": "2021-11-04T23:00:13.024127",
     "status": "completed"
    },
    "tags": []
   },
   "outputs": [],
   "source": []
  }
 ],
 "metadata": {
  "kernelspec": {
   "display_name": "Python 3",
   "language": "python",
   "name": "python3"
  },
  "language_info": {
   "codemirror_mode": {
    "name": "ipython",
    "version": 3
   },
   "file_extension": ".py",
   "mimetype": "text/x-python",
   "name": "python",
   "nbconvert_exporter": "python",
   "pygments_lexer": "ipython3",
   "version": "3.9.5"
  },
  "papermill": {
   "default_parameters": {},
   "duration": 8.77874,
   "end_time": "2021-11-04T23:00:14.009174",
   "environment_variables": {},
   "exception": null,
   "input_path": "eBay_Overview.ipynb",
   "output_path": "eBay_Overview.ipynb",
   "parameters": {},
   "start_time": "2021-11-04T23:00:05.230434",
   "version": "2.3.3"
  }
 },
 "nbformat": 4,
 "nbformat_minor": 5
}