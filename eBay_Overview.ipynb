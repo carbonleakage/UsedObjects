{
 "cells": [
  {
   "cell_type": "code",
   "execution_count": 1,
   "id": "reverse-picking",
   "metadata": {
    "execution": {
     "iopub.execute_input": "2021-10-05T20:00:07.498953Z",
     "iopub.status.busy": "2021-10-05T20:00:07.496985Z",
     "iopub.status.idle": "2021-10-05T20:00:08.302164Z",
     "shell.execute_reply": "2021-10-05T20:00:08.303720Z"
    },
    "papermill": {
     "duration": 0.857297,
     "end_time": "2021-10-05T20:00:08.304402",
     "exception": false,
     "start_time": "2021-10-05T20:00:07.447105",
     "status": "completed"
    },
    "tags": []
   },
   "outputs": [],
   "source": [
    "import pandas as pd\n",
    "import sqlite3"
   ]
  },
  {
   "cell_type": "code",
   "execution_count": 2,
   "id": "innovative-syndrome",
   "metadata": {
    "execution": {
     "iopub.execute_input": "2021-10-05T20:00:08.353957Z",
     "iopub.status.busy": "2021-10-05T20:00:08.352058Z",
     "iopub.status.idle": "2021-10-05T20:00:08.811197Z",
     "shell.execute_reply": "2021-10-05T20:00:08.812721Z"
    },
    "papermill": {
     "duration": 0.488761,
     "end_time": "2021-10-05T20:00:08.813178",
     "exception": false,
     "start_time": "2021-10-05T20:00:08.324417",
     "status": "completed"
    },
    "tags": []
   },
   "outputs": [],
   "source": [
    "timestamps = pd.read_sql(\"select distinct record_time from EBAY_TOP_BERLIN order by record_time desc limit 2\", sqlite3.connect(\"UsedObjects.db\"))"
   ]
  },
  {
   "cell_type": "code",
   "execution_count": 3,
   "id": "periodic-identification",
   "metadata": {
    "execution": {
     "iopub.execute_input": "2021-10-05T20:00:08.880275Z",
     "iopub.status.busy": "2021-10-05T20:00:08.878173Z",
     "iopub.status.idle": "2021-10-05T20:00:08.898629Z",
     "shell.execute_reply": "2021-10-05T20:00:08.899934Z"
    },
    "papermill": {
     "duration": 0.067402,
     "end_time": "2021-10-05T20:00:08.900372",
     "exception": false,
     "start_time": "2021-10-05T20:00:08.832970",
     "status": "completed"
    },
    "tags": []
   },
   "outputs": [
    {
     "data": {
      "text/html": [
       "<div>\n",
       "<style scoped>\n",
       "    .dataframe tbody tr th:only-of-type {\n",
       "        vertical-align: middle;\n",
       "    }\n",
       "\n",
       "    .dataframe tbody tr th {\n",
       "        vertical-align: top;\n",
       "    }\n",
       "\n",
       "    .dataframe thead th {\n",
       "        text-align: right;\n",
       "    }\n",
       "</style>\n",
       "<table border=\"1\" class=\"dataframe\">\n",
       "  <thead>\n",
       "    <tr style=\"text-align: right;\">\n",
       "      <th></th>\n",
       "      <th>RECORD_TIME</th>\n",
       "    </tr>\n",
       "  </thead>\n",
       "  <tbody>\n",
       "    <tr>\n",
       "      <th>0</th>\n",
       "      <td>2021-10-05 22:00</td>\n",
       "    </tr>\n",
       "    <tr>\n",
       "      <th>1</th>\n",
       "      <td>2021-10-05 21:30</td>\n",
       "    </tr>\n",
       "  </tbody>\n",
       "</table>\n",
       "</div>"
      ],
      "text/plain": [
       "        RECORD_TIME\n",
       "0  2021-10-05 22:00\n",
       "1  2021-10-05 21:30"
      ]
     },
     "execution_count": 3,
     "metadata": {},
     "output_type": "execute_result"
    }
   ],
   "source": [
    "timestamps"
   ]
  },
  {
   "cell_type": "code",
   "execution_count": 4,
   "id": "alternate-victory",
   "metadata": {
    "execution": {
     "iopub.execute_input": "2021-10-05T20:00:08.962759Z",
     "iopub.status.busy": "2021-10-05T20:00:08.960798Z",
     "iopub.status.idle": "2021-10-05T20:00:09.643689Z",
     "shell.execute_reply": "2021-10-05T20:00:09.644986Z"
    },
    "papermill": {
     "duration": 0.71627,
     "end_time": "2021-10-05T20:00:09.645388",
     "exception": false,
     "start_time": "2021-10-05T20:00:08.929118",
     "status": "completed"
    },
    "tags": []
   },
   "outputs": [],
   "source": [
    "df = pd.read_sql(\"select * from EBAY_TOP_BERLIN where record_time in (select distinct record_time from EBAY_TOP_BERLIN order by record_time desc limit 2)\", sqlite3.connect(\"UsedObjects.db\"))"
   ]
  },
  {
   "cell_type": "code",
   "execution_count": 5,
   "id": "popular-active",
   "metadata": {
    "execution": {
     "iopub.execute_input": "2021-10-05T20:00:09.716448Z",
     "iopub.status.busy": "2021-10-05T20:00:09.704061Z",
     "iopub.status.idle": "2021-10-05T20:00:09.732168Z",
     "shell.execute_reply": "2021-10-05T20:00:09.733373Z"
    },
    "papermill": {
     "duration": 0.068119,
     "end_time": "2021-10-05T20:00:09.733771",
     "exception": false,
     "start_time": "2021-10-05T20:00:09.665652",
     "status": "completed"
    },
    "tags": []
   },
   "outputs": [],
   "source": [
    "df_pivot = df.pivot_table(index=\"PRODUCT\", columns = \"RECORD_TIME\", values = \"LISTING_COUNT\")"
   ]
  },
  {
   "cell_type": "code",
   "execution_count": 6,
   "id": "union-huntington",
   "metadata": {
    "execution": {
     "iopub.execute_input": "2021-10-05T20:00:09.790897Z",
     "iopub.status.busy": "2021-10-05T20:00:09.788711Z",
     "iopub.status.idle": "2021-10-05T20:00:09.794173Z",
     "shell.execute_reply": "2021-10-05T20:00:09.795842Z"
    },
    "papermill": {
     "duration": 0.040995,
     "end_time": "2021-10-05T20:00:09.796318",
     "exception": false,
     "start_time": "2021-10-05T20:00:09.755323",
     "status": "completed"
    },
    "tags": []
   },
   "outputs": [],
   "source": [
    "df_pivot.columns = [\"stamp_1\", \"stamp_2\"]\n",
    "df_pivot_diff = df_pivot.diff(axis=1)"
   ]
  },
  {
   "cell_type": "code",
   "execution_count": 7,
   "id": "fifth-motion",
   "metadata": {
    "execution": {
     "iopub.execute_input": "2021-10-05T20:00:09.851035Z",
     "iopub.status.busy": "2021-10-05T20:00:09.848314Z",
     "iopub.status.idle": "2021-10-05T20:00:11.358287Z",
     "shell.execute_reply": "2021-10-05T20:00:11.359712Z"
    },
    "papermill": {
     "duration": 1.543688,
     "end_time": "2021-10-05T20:00:11.360154",
     "exception": false,
     "start_time": "2021-10-05T20:00:09.816466",
     "status": "completed"
    },
    "tags": []
   },
   "outputs": [
    {
     "data": {
      "text/plain": [
       "<AxesSubplot:ylabel='PRODUCT'>"
      ]
     },
     "execution_count": 7,
     "metadata": {},
     "output_type": "execute_result"
    },
    {
     "data": {
      "image/png": "[encoded data removed]",
      "text/plain": [
       "<Figure size 432x288 with 1 Axes>"
      ]
     },
     "metadata": {
      "needs_background": "light"
     },
     "output_type": "display_data"
    }
   ],
   "source": [
    "df_pivot_diff.sort_values(\"stamp_2\", ascending = False)[\"stamp_2\"].head(10).plot.barh()"
   ]
  },
  {
   "cell_type": "code",
   "execution_count": null,
   "id": "extra-executive",
   "metadata": {
    "papermill": {
     "duration": 0.02229,
     "end_time": "2021-10-05T20:00:11.407248",
     "exception": false,
     "start_time": "2021-10-05T20:00:11.384958",
     "status": "completed"
    },
    "tags": []
   },
   "outputs": [],
   "source": []
  }
 ],
 "metadata": {
  "kernelspec": {
   "display_name": "Python 3",
   "language": "python",
   "name": "python3"
  },
  "language_info": {
   "codemirror_mode": {
    "name": "ipython",
    "version": 3
   },
   "file_extension": ".py",
   "mimetype": "text/x-python",
   "name": "python",
   "nbconvert_exporter": "python",
   "pygments_lexer": "ipython3",
   "version": "3.9.5"
  },
  "papermill": {
   "default_parameters": {},
   "duration": 7.821261,
   "end_time": "2021-10-05T20:00:12.863167",
   "environment_variables": {},
   "exception": null,
   "input_path": "eBay_Overview.ipynb",
   "output_path": "eBay_Overview.ipynb",
   "parameters": {},
   "start_time": "2021-10-05T20:00:05.041906",
   "version": "2.3.3"
  }
 },
 "nbformat": 4,
 "nbformat_minor": 5
}