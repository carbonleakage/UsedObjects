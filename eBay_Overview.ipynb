{
 "cells": [
  {
   "cell_type": "code",
   "execution_count": 1,
   "id": "reverse-picking",
   "metadata": {
    "execution": {
     "iopub.execute_input": "2021-12-03T15:30:07.650748Z",
     "iopub.status.busy": "2021-12-03T15:30:07.647944Z",
     "iopub.status.idle": "2021-12-03T15:30:08.608280Z",
     "shell.execute_reply": "2021-12-03T15:30:08.609939Z"
    },
    "papermill": {
     "duration": 1.008752,
     "end_time": "2021-12-03T15:30:08.610680",
     "exception": false,
     "start_time": "2021-12-03T15:30:07.601928",
     "status": "completed"
    },
    "tags": []
   },
   "outputs": [],
   "source": [
    "import pandas as pd\n",
    "import sqlite3"
   ]
  },
  {
   "cell_type": "code",
   "execution_count": 2,
   "id": "innovative-syndrome",
   "metadata": {
    "execution": {
     "iopub.execute_input": "2021-12-03T15:30:08.672907Z",
     "iopub.status.busy": "2021-12-03T15:30:08.670548Z",
     "iopub.status.idle": "2021-12-03T15:30:09.652491Z",
     "shell.execute_reply": "2021-12-03T15:30:09.654060Z"
    },
    "papermill": {
     "duration": 1.01636,
     "end_time": "2021-12-03T15:30:09.654567",
     "exception": false,
     "start_time": "2021-12-03T15:30:08.638207",
     "status": "completed"
    },
    "tags": []
   },
   "outputs": [],
   "source": [
    "timestamps = pd.read_sql(\"select distinct record_time from EBAY_TOP_BERLIN order by record_time desc limit 2\", sqlite3.connect(\"UsedObjects.db\"))"
   ]
  },
  {
   "cell_type": "code",
   "execution_count": 3,
   "id": "periodic-identification",
   "metadata": {
    "execution": {
     "iopub.execute_input": "2021-12-03T15:30:09.725548Z",
     "iopub.status.busy": "2021-12-03T15:30:09.723099Z",
     "iopub.status.idle": "2021-12-03T15:30:09.746501Z",
     "shell.execute_reply": "2021-12-03T15:30:09.747934Z"
    },
    "papermill": {
     "duration": 0.073199,
     "end_time": "2021-12-03T15:30:09.748415",
     "exception": false,
     "start_time": "2021-12-03T15:30:09.675216",
     "status": "completed"
    },
    "tags": []
   },
   "outputs": [
    {
     "data": {
      "text/html": [
       "<div>\n",
       "<style scoped>\n",
       "    .dataframe tbody tr th:only-of-type {\n",
       "        vertical-align: middle;\n",
       "    }\n",
       "\n",
       "    .dataframe tbody tr th {\n",
       "        vertical-align: top;\n",
       "    }\n",
       "\n",
       "    .dataframe thead th {\n",
       "        text-align: right;\n",
       "    }\n",
       "</style>\n",
       "<table border=\"1\" class=\"dataframe\">\n",
       "  <thead>\n",
       "    <tr style=\"text-align: right;\">\n",
       "      <th></th>\n",
       "      <th>RECORD_TIME</th>\n",
       "    </tr>\n",
       "  </thead>\n",
       "  <tbody>\n",
       "    <tr>\n",
       "      <th>0</th>\n",
       "      <td>2021-12-03 16:30</td>\n",
       "    </tr>\n",
       "    <tr>\n",
       "      <th>1</th>\n",
       "      <td>2021-12-03 16:00</td>\n",
       "    </tr>\n",
       "  </tbody>\n",
       "</table>\n",
       "</div>"
      ],
      "text/plain": [
       "        RECORD_TIME\n",
       "0  2021-12-03 16:30\n",
       "1  2021-12-03 16:00"
      ]
     },
     "execution_count": 3,
     "metadata": {},
     "output_type": "execute_result"
    }
   ],
   "source": [
    "timestamps"
   ]
  },
  {
   "cell_type": "code",
   "execution_count": 4,
   "id": "alternate-victory",
   "metadata": {
    "execution": {
     "iopub.execute_input": "2021-12-03T15:30:09.806142Z",
     "iopub.status.busy": "2021-12-03T15:30:09.803960Z",
     "iopub.status.idle": "2021-12-03T15:30:11.265829Z",
     "shell.execute_reply": "2021-12-03T15:30:11.267191Z"
    },
    "papermill": {
     "duration": 1.497431,
     "end_time": "2021-12-03T15:30:11.267611",
     "exception": false,
     "start_time": "2021-12-03T15:30:09.770180",
     "status": "completed"
    },
    "tags": []
   },
   "outputs": [],
   "source": [
    "df = pd.read_sql(\"select * from EBAY_TOP_BERLIN where record_time in (select distinct record_time from EBAY_TOP_BERLIN order by record_time desc limit 2)\", sqlite3.connect(\"UsedObjects.db\"))"
   ]
  },
  {
   "cell_type": "code",
   "execution_count": 5,
   "id": "popular-active",
   "metadata": {
    "execution": {
     "iopub.execute_input": "2021-12-03T15:30:11.350923Z",
     "iopub.status.busy": "2021-12-03T15:30:11.333362Z",
     "iopub.status.idle": "2021-12-03T15:30:11.368021Z",
     "shell.execute_reply": "2021-12-03T15:30:11.366464Z"
    },
    "papermill": {
     "duration": 0.078399,
     "end_time": "2021-12-03T15:30:11.368414",
     "exception": false,
     "start_time": "2021-12-03T15:30:11.290015",
     "status": "completed"
    },
    "tags": []
   },
   "outputs": [],
   "source": [
    "df_pivot = df.pivot_table(index=\"PRODUCT\", columns = \"RECORD_TIME\", values = \"LISTING_COUNT\")"
   ]
  },
  {
   "cell_type": "code",
   "execution_count": 6,
   "id": "union-huntington",
   "metadata": {
    "execution": {
     "iopub.execute_input": "2021-12-03T15:30:11.427164Z",
     "iopub.status.busy": "2021-12-03T15:30:11.424943Z",
     "iopub.status.idle": "2021-12-03T15:30:11.429815Z",
     "shell.execute_reply": "2021-12-03T15:30:11.431273Z"
    },
    "papermill": {
     "duration": 0.043251,
     "end_time": "2021-12-03T15:30:11.431733",
     "exception": false,
     "start_time": "2021-12-03T15:30:11.388482",
     "status": "completed"
    },
    "tags": []
   },
   "outputs": [],
   "source": [
    "df_pivot.columns = [\"stamp_1\", \"stamp_2\"]\n",
    "df_pivot_diff = df_pivot.diff(axis=1)"
   ]
  },
  {
   "cell_type": "code",
   "execution_count": 7,
   "id": "fifth-motion",
   "metadata": {
    "execution": {
     "iopub.execute_input": "2021-12-03T15:30:11.493282Z",
     "iopub.status.busy": "2021-12-03T15:30:11.489331Z",
     "iopub.status.idle": "2021-12-03T15:30:13.493028Z",
     "shell.execute_reply": "2021-12-03T15:30:13.495460Z"
    },
    "papermill": {
     "duration": 2.044057,
     "end_time": "2021-12-03T15:30:13.496133",
     "exception": false,
     "start_time": "2021-12-03T15:30:11.452076",
     "status": "completed"
    },
    "tags": []
   },
   "outputs": [
    {
     "data": {
      "text/plain": [
       "<AxesSubplot:ylabel='PRODUCT'>"
      ]
     },
     "execution_count": 7,
     "metadata": {},
     "output_type": "execute_result"
    },
    {
     "data": {
      "image/png": "[encoded data removed]",
      "text/plain": [
       "<Figure size 432x288 with 1 Axes>"
      ]
     },
     "metadata": {
      "needs_background": "light"
     },
     "output_type": "display_data"
    }
   ],
   "source": [
    "df_pivot_diff.sort_values(\"stamp_2\", ascending = False)[\"stamp_2\"].head(10).plot.barh()"
   ]
  },
  {
   "cell_type": "code",
   "execution_count": null,
   "id": "extra-executive",
   "metadata": {
    "papermill": {
     "duration": 0.027172,
     "end_time": "2021-12-03T15:30:13.558750",
     "exception": false,
     "start_time": "2021-12-03T15:30:13.531578",
     "status": "completed"
    },
    "tags": []
   },
   "outputs": [],
   "source": []
  }
 ],
 "metadata": {
  "kernelspec": {
   "display_name": "Python 3",
   "language": "python",
   "name": "python3"
  },
  "language_info": {
   "codemirror_mode": {
    "name": "ipython",
    "version": 3
   },
   "file_extension": ".py",
   "mimetype": "text/x-python",
   "name": "python",
   "nbconvert_exporter": "python",
   "pygments_lexer": "ipython3",
   "version": "3.9.5"
  },
  "papermill": {
   "default_parameters": {},
   "duration": 9.928515,
   "end_time": "2021-12-03T15:30:14.806229",
   "environment_variables": {},
   "exception": null,
   "input_path": "eBay_Overview.ipynb",
   "output_path": "eBay_Overview.ipynb",
   "parameters": {},
   "start_time": "2021-12-03T15:30:04.877714",
   "version": "2.3.3"
  }
 },
 "nbformat": 4,
 "nbformat_minor": 5
}