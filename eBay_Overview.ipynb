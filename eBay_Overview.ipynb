{
 "cells": [
  {
   "cell_type": "code",
   "execution_count": 1,
   "id": "reverse-picking",
   "metadata": {
    "execution": {
     "iopub.execute_input": "2021-12-17T06:30:07.566630Z",
     "iopub.status.busy": "2021-12-17T06:30:07.564176Z",
     "iopub.status.idle": "2021-12-17T06:30:08.514396Z",
     "shell.execute_reply": "2021-12-17T06:30:08.516081Z"
    },
    "papermill": {
     "duration": 0.999791,
     "end_time": "2021-12-17T06:30:08.517019",
     "exception": false,
     "start_time": "2021-12-17T06:30:07.517228",
     "status": "completed"
    },
    "tags": []
   },
   "outputs": [],
   "source": [
    "import pandas as pd\n",
    "import sqlite3"
   ]
  },
  {
   "cell_type": "code",
   "execution_count": 2,
   "id": "innovative-syndrome",
   "metadata": {
    "execution": {
     "iopub.execute_input": "2021-12-17T06:30:08.578911Z",
     "iopub.status.busy": "2021-12-17T06:30:08.576547Z",
     "iopub.status.idle": "2021-12-17T06:30:09.703637Z",
     "shell.execute_reply": "2021-12-17T06:30:09.705040Z"
    },
    "papermill": {
     "duration": 1.160846,
     "end_time": "2021-12-17T06:30:09.705510",
     "exception": false,
     "start_time": "2021-12-17T06:30:08.544664",
     "status": "completed"
    },
    "tags": []
   },
   "outputs": [],
   "source": [
    "timestamps = pd.read_sql(\"select distinct record_time from EBAY_TOP_BERLIN order by record_time desc limit 2\", sqlite3.connect(\"UsedObjects.db\"))"
   ]
  },
  {
   "cell_type": "code",
   "execution_count": 3,
   "id": "periodic-identification",
   "metadata": {
    "execution": {
     "iopub.execute_input": "2021-12-17T06:30:09.774653Z",
     "iopub.status.busy": "2021-12-17T06:30:09.772293Z",
     "iopub.status.idle": "2021-12-17T06:30:09.794113Z",
     "shell.execute_reply": "2021-12-17T06:30:09.795423Z"
    },
    "papermill": {
     "duration": 0.070726,
     "end_time": "2021-12-17T06:30:09.795891",
     "exception": false,
     "start_time": "2021-12-17T06:30:09.725165",
     "status": "completed"
    },
    "tags": []
   },
   "outputs": [
    {
     "data": {
      "text/html": [
       "<div>\n",
       "<style scoped>\n",
       "    .dataframe tbody tr th:only-of-type {\n",
       "        vertical-align: middle;\n",
       "    }\n",
       "\n",
       "    .dataframe tbody tr th {\n",
       "        vertical-align: top;\n",
       "    }\n",
       "\n",
       "    .dataframe thead th {\n",
       "        text-align: right;\n",
       "    }\n",
       "</style>\n",
       "<table border=\"1\" class=\"dataframe\">\n",
       "  <thead>\n",
       "    <tr style=\"text-align: right;\">\n",
       "      <th></th>\n",
       "      <th>RECORD_TIME</th>\n",
       "    </tr>\n",
       "  </thead>\n",
       "  <tbody>\n",
       "    <tr>\n",
       "      <th>0</th>\n",
       "      <td>2021-12-17 07:30</td>\n",
       "    </tr>\n",
       "    <tr>\n",
       "      <th>1</th>\n",
       "      <td>2021-12-17 07:00</td>\n",
       "    </tr>\n",
       "  </tbody>\n",
       "</table>\n",
       "</div>"
      ],
      "text/plain": [
       "        RECORD_TIME\n",
       "0  2021-12-17 07:30\n",
       "1  2021-12-17 07:00"
      ]
     },
     "execution_count": 3,
     "metadata": {},
     "output_type": "execute_result"
    }
   ],
   "source": [
    "timestamps"
   ]
  },
  {
   "cell_type": "code",
   "execution_count": 4,
   "id": "alternate-victory",
   "metadata": {
    "execution": {
     "iopub.execute_input": "2021-12-17T06:30:09.850722Z",
     "iopub.status.busy": "2021-12-17T06:30:09.848317Z",
     "iopub.status.idle": "2021-12-17T06:30:11.476349Z",
     "shell.execute_reply": "2021-12-17T06:30:11.478497Z"
    },
    "papermill": {
     "duration": 1.662882,
     "end_time": "2021-12-17T06:30:11.478969",
     "exception": false,
     "start_time": "2021-12-17T06:30:09.816087",
     "status": "completed"
    },
    "tags": []
   },
   "outputs": [],
   "source": [
    "df = pd.read_sql(\"select * from EBAY_TOP_BERLIN where record_time in (select distinct record_time from EBAY_TOP_BERLIN order by record_time desc limit 2)\", sqlite3.connect(\"UsedObjects.db\"))"
   ]
  },
  {
   "cell_type": "code",
   "execution_count": 5,
   "id": "popular-active",
   "metadata": {
    "execution": {
     "iopub.execute_input": "2021-12-17T06:30:11.544937Z",
     "iopub.status.busy": "2021-12-17T06:30:11.542310Z",
     "iopub.status.idle": "2021-12-17T06:30:11.574034Z",
     "shell.execute_reply": "2021-12-17T06:30:11.575507Z"
    },
    "papermill": {
     "duration": 0.076566,
     "end_time": "2021-12-17T06:30:11.575963",
     "exception": false,
     "start_time": "2021-12-17T06:30:11.499397",
     "status": "completed"
    },
    "tags": []
   },
   "outputs": [],
   "source": [
    "df_pivot = df.pivot_table(index=\"PRODUCT\", columns = \"RECORD_TIME\", values = \"LISTING_COUNT\")"
   ]
  },
  {
   "cell_type": "code",
   "execution_count": 6,
   "id": "union-huntington",
   "metadata": {
    "execution": {
     "iopub.execute_input": "2021-12-17T06:30:11.634142Z",
     "iopub.status.busy": "2021-12-17T06:30:11.631950Z",
     "iopub.status.idle": "2021-12-17T06:30:11.636813Z",
     "shell.execute_reply": "2021-12-17T06:30:11.638632Z"
    },
    "papermill": {
     "duration": 0.043323,
     "end_time": "2021-12-17T06:30:11.639101",
     "exception": false,
     "start_time": "2021-12-17T06:30:11.595778",
     "status": "completed"
    },
    "tags": []
   },
   "outputs": [],
   "source": [
    "df_pivot.columns = [\"stamp_1\", \"stamp_2\"]\n",
    "df_pivot_diff = df_pivot.diff(axis=1)"
   ]
  },
  {
   "cell_type": "code",
   "execution_count": 7,
   "id": "fifth-motion",
   "metadata": {
    "execution": {
     "iopub.execute_input": "2021-12-17T06:30:11.698344Z",
     "iopub.status.busy": "2021-12-17T06:30:11.695649Z",
     "iopub.status.idle": "2021-12-17T06:30:13.679154Z",
     "shell.execute_reply": "2021-12-17T06:30:13.680435Z"
    },
    "papermill": {
     "duration": 2.021679,
     "end_time": "2021-12-17T06:30:13.681083",
     "exception": false,
     "start_time": "2021-12-17T06:30:11.659404",
     "status": "completed"
    },
    "tags": []
   },
   "outputs": [
    {
     "data": {
      "text/plain": [
       "<AxesSubplot:ylabel='PRODUCT'>"
      ]
     },
     "execution_count": 7,
     "metadata": {},
     "output_type": "execute_result"
    },
    {
     "data": {
      "image/png": "[encoded data removed]",
      "text/plain": [
       "<Figure size 432x288 with 1 Axes>"
      ]
     },
     "metadata": {
      "needs_background": "light"
     },
     "output_type": "display_data"
    }
   ],
   "source": [
    "df_pivot_diff.sort_values(\"stamp_2\", ascending = False)[\"stamp_2\"].head(10).plot.barh()"
   ]
  },
  {
   "cell_type": "code",
   "execution_count": null,
   "id": "extra-executive",
   "metadata": {
    "papermill": {
     "duration": 0.027051,
     "end_time": "2021-12-17T06:30:13.740940",
     "exception": false,
     "start_time": "2021-12-17T06:30:13.713889",
     "status": "completed"
    },
    "tags": []
   },
   "outputs": [],
   "source": []
  }
 ],
 "metadata": {
  "kernelspec": {
   "display_name": "Python 3",
   "language": "python",
   "name": "python3"
  },
  "language_info": {
   "codemirror_mode": {
    "name": "ipython",
    "version": 3
   },
   "file_extension": ".py",
   "mimetype": "text/x-python",
   "name": "python",
   "nbconvert_exporter": "python",
   "pygments_lexer": "ipython3",
   "version": "3.9.5"
  },
  "papermill": {
   "default_parameters": {},
   "duration": 9.59662,
   "end_time": "2021-12-17T06:30:14.396070",
   "environment_variables": {},
   "exception": null,
   "input_path": "eBay_Overview.ipynb",
   "output_path": "eBay_Overview.ipynb",
   "parameters": {},
   "start_time": "2021-12-17T06:30:04.799450",
   "version": "2.3.3"
  }
 },
 "nbformat": 4,
 "nbformat_minor": 5
}