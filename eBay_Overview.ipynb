{
 "cells": [
  {
   "cell_type": "code",
   "execution_count": 1,
   "id": "reverse-picking",
   "metadata": {
    "execution": {
     "iopub.execute_input": "2021-11-08T06:00:07.182358Z",
     "iopub.status.busy": "2021-11-08T06:00:07.180022Z",
     "iopub.status.idle": "2021-11-08T06:00:08.132395Z",
     "shell.execute_reply": "2021-11-08T06:00:08.130439Z"
    },
    "papermill": {
     "duration": 1.000182,
     "end_time": "2021-11-08T06:00:08.132997",
     "exception": false,
     "start_time": "2021-11-08T06:00:07.132815",
     "status": "completed"
    },
    "tags": []
   },
   "outputs": [],
   "source": [
    "import pandas as pd\n",
    "import sqlite3"
   ]
  },
  {
   "cell_type": "code",
   "execution_count": 2,
   "id": "innovative-syndrome",
   "metadata": {
    "execution": {
     "iopub.execute_input": "2021-11-08T06:00:08.194676Z",
     "iopub.status.busy": "2021-11-08T06:00:08.192448Z",
     "iopub.status.idle": "2021-11-08T06:00:08.941327Z",
     "shell.execute_reply": "2021-11-08T06:00:08.942822Z"
    },
    "papermill": {
     "duration": 0.783173,
     "end_time": "2021-11-08T06:00:08.943390",
     "exception": false,
     "start_time": "2021-11-08T06:00:08.160217",
     "status": "completed"
    },
    "tags": []
   },
   "outputs": [],
   "source": [
    "timestamps = pd.read_sql(\"select distinct record_time from EBAY_TOP_BERLIN order by record_time desc limit 2\", sqlite3.connect(\"UsedObjects.db\"))"
   ]
  },
  {
   "cell_type": "code",
   "execution_count": 3,
   "id": "periodic-identification",
   "metadata": {
    "execution": {
     "iopub.execute_input": "2021-11-08T06:00:09.016214Z",
     "iopub.status.busy": "2021-11-08T06:00:09.013941Z",
     "iopub.status.idle": "2021-11-08T06:00:09.036614Z",
     "shell.execute_reply": "2021-11-08T06:00:09.038075Z"
    },
    "papermill": {
     "duration": 0.072823,
     "end_time": "2021-11-08T06:00:09.038574",
     "exception": false,
     "start_time": "2021-11-08T06:00:08.965751",
     "status": "completed"
    },
    "tags": []
   },
   "outputs": [
    {
     "data": {
      "text/html": [
       "<div>\n",
       "<style scoped>\n",
       "    .dataframe tbody tr th:only-of-type {\n",
       "        vertical-align: middle;\n",
       "    }\n",
       "\n",
       "    .dataframe tbody tr th {\n",
       "        vertical-align: top;\n",
       "    }\n",
       "\n",
       "    .dataframe thead th {\n",
       "        text-align: right;\n",
       "    }\n",
       "</style>\n",
       "<table border=\"1\" class=\"dataframe\">\n",
       "  <thead>\n",
       "    <tr style=\"text-align: right;\">\n",
       "      <th></th>\n",
       "      <th>RECORD_TIME</th>\n",
       "    </tr>\n",
       "  </thead>\n",
       "  <tbody>\n",
       "    <tr>\n",
       "      <th>0</th>\n",
       "      <td>2021-11-08 07:00</td>\n",
       "    </tr>\n",
       "    <tr>\n",
       "      <th>1</th>\n",
       "      <td>2021-11-08 06:30</td>\n",
       "    </tr>\n",
       "  </tbody>\n",
       "</table>\n",
       "</div>"
      ],
      "text/plain": [
       "        RECORD_TIME\n",
       "0  2021-11-08 07:00\n",
       "1  2021-11-08 06:30"
      ]
     },
     "execution_count": 3,
     "metadata": {},
     "output_type": "execute_result"
    }
   ],
   "source": [
    "timestamps"
   ]
  },
  {
   "cell_type": "code",
   "execution_count": 4,
   "id": "alternate-victory",
   "metadata": {
    "execution": {
     "iopub.execute_input": "2021-11-08T06:00:09.095734Z",
     "iopub.status.busy": "2021-11-08T06:00:09.093563Z",
     "iopub.status.idle": "2021-11-08T06:00:10.209356Z",
     "shell.execute_reply": "2021-11-08T06:00:10.210840Z"
    },
    "papermill": {
     "duration": 1.150307,
     "end_time": "2021-11-08T06:00:10.211287",
     "exception": false,
     "start_time": "2021-11-08T06:00:09.060980",
     "status": "completed"
    },
    "tags": []
   },
   "outputs": [],
   "source": [
    "df = pd.read_sql(\"select * from EBAY_TOP_BERLIN where record_time in (select distinct record_time from EBAY_TOP_BERLIN order by record_time desc limit 2)\", sqlite3.connect(\"UsedObjects.db\"))"
   ]
  },
  {
   "cell_type": "code",
   "execution_count": 5,
   "id": "popular-active",
   "metadata": {
    "execution": {
     "iopub.execute_input": "2021-11-08T06:00:10.286755Z",
     "iopub.status.busy": "2021-11-08T06:00:10.271520Z",
     "iopub.status.idle": "2021-11-08T06:00:10.304603Z",
     "shell.execute_reply": "2021-11-08T06:00:10.306107Z"
    },
    "papermill": {
     "duration": 0.074322,
     "end_time": "2021-11-08T06:00:10.306585",
     "exception": false,
     "start_time": "2021-11-08T06:00:10.232263",
     "status": "completed"
    },
    "tags": []
   },
   "outputs": [],
   "source": [
    "df_pivot = df.pivot_table(index=\"PRODUCT\", columns = \"RECORD_TIME\", values = \"LISTING_COUNT\")"
   ]
  },
  {
   "cell_type": "code",
   "execution_count": 6,
   "id": "union-huntington",
   "metadata": {
    "execution": {
     "iopub.execute_input": "2021-11-08T06:00:10.367357Z",
     "iopub.status.busy": "2021-11-08T06:00:10.365038Z",
     "iopub.status.idle": "2021-11-08T06:00:10.370893Z",
     "shell.execute_reply": "2021-11-08T06:00:10.372334Z"
    },
    "papermill": {
     "duration": 0.046054,
     "end_time": "2021-11-08T06:00:10.372892",
     "exception": false,
     "start_time": "2021-11-08T06:00:10.326838",
     "status": "completed"
    },
    "tags": []
   },
   "outputs": [],
   "source": [
    "df_pivot.columns = [\"stamp_1\", \"stamp_2\"]\n",
    "df_pivot_diff = df_pivot.diff(axis=1)"
   ]
  },
  {
   "cell_type": "code",
   "execution_count": 7,
   "id": "fifth-motion",
   "metadata": {
    "execution": {
     "iopub.execute_input": "2021-11-08T06:00:10.426628Z",
     "iopub.status.busy": "2021-11-08T06:00:10.424237Z",
     "iopub.status.idle": "2021-11-08T06:00:12.175663Z",
     "shell.execute_reply": "2021-11-08T06:00:12.177071Z"
    },
    "papermill": {
     "duration": 1.783458,
     "end_time": "2021-11-08T06:00:12.177552",
     "exception": false,
     "start_time": "2021-11-08T06:00:10.394094",
     "status": "completed"
    },
    "tags": []
   },
   "outputs": [
    {
     "data": {
      "text/plain": [
       "<AxesSubplot:ylabel='PRODUCT'>"
      ]
     },
     "execution_count": 7,
     "metadata": {},
     "output_type": "execute_result"
    },
    {
     "data": {
      "image/png": "[encoded data removed]",
      "text/plain": [
       "<Figure size 432x288 with 1 Axes>"
      ]
     },
     "metadata": {
      "needs_background": "light"
     },
     "output_type": "display_data"
    }
   ],
   "source": [
    "df_pivot_diff.sort_values(\"stamp_2\", ascending = False)[\"stamp_2\"].head(10).plot.barh()"
   ]
  },
  {
   "cell_type": "code",
   "execution_count": null,
   "id": "extra-executive",
   "metadata": {
    "papermill": {
     "duration": 0.023289,
     "end_time": "2021-11-08T06:00:12.224533",
     "exception": false,
     "start_time": "2021-11-08T06:00:12.201244",
     "status": "completed"
    },
    "tags": []
   },
   "outputs": [],
   "source": []
  }
 ],
 "metadata": {
  "kernelspec": {
   "display_name": "Python 3",
   "language": "python",
   "name": "python3"
  },
  "language_info": {
   "codemirror_mode": {
    "name": "ipython",
    "version": 3
   },
   "file_extension": ".py",
   "mimetype": "text/x-python",
   "name": "python",
   "nbconvert_exporter": "python",
   "pygments_lexer": "ipython3",
   "version": "3.9.5"
  },
  "papermill": {
   "default_parameters": {},
   "duration": 8.650384,
   "end_time": "2021-11-08T06:00:12.967821",
   "environment_variables": {},
   "exception": null,
   "input_path": "eBay_Overview.ipynb",
   "output_path": "eBay_Overview.ipynb",
   "parameters": {},
   "start_time": "2021-11-08T06:00:04.317437",
   "version": "2.3.3"
  }
 },
 "nbformat": 4,
 "nbformat_minor": 5
}