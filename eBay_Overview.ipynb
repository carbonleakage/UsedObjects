{
 "cells": [
  {
   "cell_type": "code",
   "execution_count": 1,
   "id": "reverse-picking",
   "metadata": {
    "execution": {
     "iopub.execute_input": "2021-12-11T05:00:07.321751Z",
     "iopub.status.busy": "2021-12-11T05:00:07.319618Z",
     "iopub.status.idle": "2021-12-11T05:00:08.272923Z",
     "shell.execute_reply": "2021-12-11T05:00:08.274407Z"
    },
    "papermill": {
     "duration": 1.001416,
     "end_time": "2021-12-11T05:00:08.275140",
     "exception": false,
     "start_time": "2021-12-11T05:00:07.273724",
     "status": "completed"
    },
    "tags": []
   },
   "outputs": [],
   "source": [
    "import pandas as pd\n",
    "import sqlite3"
   ]
  },
  {
   "cell_type": "code",
   "execution_count": 2,
   "id": "innovative-syndrome",
   "metadata": {
    "execution": {
     "iopub.execute_input": "2021-12-11T05:00:08.338066Z",
     "iopub.status.busy": "2021-12-11T05:00:08.335726Z",
     "iopub.status.idle": "2021-12-11T05:00:09.399328Z",
     "shell.execute_reply": "2021-12-11T05:00:09.400910Z"
    },
    "papermill": {
     "duration": 1.098193,
     "end_time": "2021-12-11T05:00:09.401420",
     "exception": false,
     "start_time": "2021-12-11T05:00:08.303227",
     "status": "completed"
    },
    "tags": []
   },
   "outputs": [],
   "source": [
    "timestamps = pd.read_sql(\"select distinct record_time from EBAY_TOP_BERLIN order by record_time desc limit 2\", sqlite3.connect(\"UsedObjects.db\"))"
   ]
  },
  {
   "cell_type": "code",
   "execution_count": 3,
   "id": "periodic-identification",
   "metadata": {
    "execution": {
     "iopub.execute_input": "2021-12-11T05:00:09.473227Z",
     "iopub.status.busy": "2021-12-11T05:00:09.470829Z",
     "iopub.status.idle": "2021-12-11T05:00:09.494244Z",
     "shell.execute_reply": "2021-12-11T05:00:09.495705Z"
    },
    "papermill": {
     "duration": 0.074437,
     "end_time": "2021-12-11T05:00:09.496249",
     "exception": false,
     "start_time": "2021-12-11T05:00:09.421812",
     "status": "completed"
    },
    "tags": []
   },
   "outputs": [
    {
     "data": {
      "text/html": [
       "<div>\n",
       "<style scoped>\n",
       "    .dataframe tbody tr th:only-of-type {\n",
       "        vertical-align: middle;\n",
       "    }\n",
       "\n",
       "    .dataframe tbody tr th {\n",
       "        vertical-align: top;\n",
       "    }\n",
       "\n",
       "    .dataframe thead th {\n",
       "        text-align: right;\n",
       "    }\n",
       "</style>\n",
       "<table border=\"1\" class=\"dataframe\">\n",
       "  <thead>\n",
       "    <tr style=\"text-align: right;\">\n",
       "      <th></th>\n",
       "      <th>RECORD_TIME</th>\n",
       "    </tr>\n",
       "  </thead>\n",
       "  <tbody>\n",
       "    <tr>\n",
       "      <th>0</th>\n",
       "      <td>2021-12-11 06:00</td>\n",
       "    </tr>\n",
       "    <tr>\n",
       "      <th>1</th>\n",
       "      <td>2021-12-11 05:30</td>\n",
       "    </tr>\n",
       "  </tbody>\n",
       "</table>\n",
       "</div>"
      ],
      "text/plain": [
       "        RECORD_TIME\n",
       "0  2021-12-11 06:00\n",
       "1  2021-12-11 05:30"
      ]
     },
     "execution_count": 3,
     "metadata": {},
     "output_type": "execute_result"
    }
   ],
   "source": [
    "timestamps"
   ]
  },
  {
   "cell_type": "code",
   "execution_count": 4,
   "id": "alternate-victory",
   "metadata": {
    "execution": {
     "iopub.execute_input": "2021-12-11T05:00:09.553878Z",
     "iopub.status.busy": "2021-12-11T05:00:09.551585Z",
     "iopub.status.idle": "2021-12-11T05:00:11.086783Z",
     "shell.execute_reply": "2021-12-11T05:00:11.088297Z"
    },
    "papermill": {
     "duration": 1.569598,
     "end_time": "2021-12-11T05:00:11.088871",
     "exception": false,
     "start_time": "2021-12-11T05:00:09.519273",
     "status": "completed"
    },
    "tags": []
   },
   "outputs": [],
   "source": [
    "df = pd.read_sql(\"select * from EBAY_TOP_BERLIN where record_time in (select distinct record_time from EBAY_TOP_BERLIN order by record_time desc limit 2)\", sqlite3.connect(\"UsedObjects.db\"))"
   ]
  },
  {
   "cell_type": "code",
   "execution_count": 5,
   "id": "popular-active",
   "metadata": {
    "execution": {
     "iopub.execute_input": "2021-12-11T05:00:11.160592Z",
     "iopub.status.busy": "2021-12-11T05:00:11.158298Z",
     "iopub.status.idle": "2021-12-11T05:00:11.183818Z",
     "shell.execute_reply": "2021-12-11T05:00:11.185398Z"
    },
    "papermill": {
     "duration": 0.075578,
     "end_time": "2021-12-11T05:00:11.185884",
     "exception": false,
     "start_time": "2021-12-11T05:00:11.110306",
     "status": "completed"
    },
    "tags": []
   },
   "outputs": [],
   "source": [
    "df_pivot = df.pivot_table(index=\"PRODUCT\", columns = \"RECORD_TIME\", values = \"LISTING_COUNT\")"
   ]
  },
  {
   "cell_type": "code",
   "execution_count": 6,
   "id": "union-huntington",
   "metadata": {
    "execution": {
     "iopub.execute_input": "2021-12-11T05:00:11.247552Z",
     "iopub.status.busy": "2021-12-11T05:00:11.245175Z",
     "iopub.status.idle": "2021-12-11T05:00:11.251324Z",
     "shell.execute_reply": "2021-12-11T05:00:11.253096Z"
    },
    "papermill": {
     "duration": 0.045239,
     "end_time": "2021-12-11T05:00:11.253604",
     "exception": false,
     "start_time": "2021-12-11T05:00:11.208365",
     "status": "completed"
    },
    "tags": []
   },
   "outputs": [],
   "source": [
    "df_pivot.columns = [\"stamp_1\", \"stamp_2\"]\n",
    "df_pivot_diff = df_pivot.diff(axis=1)"
   ]
  },
  {
   "cell_type": "code",
   "execution_count": 7,
   "id": "fifth-motion",
   "metadata": {
    "execution": {
     "iopub.execute_input": "2021-12-11T05:00:11.312621Z",
     "iopub.status.busy": "2021-12-11T05:00:11.310181Z",
     "iopub.status.idle": "2021-12-11T05:00:13.186151Z",
     "shell.execute_reply": "2021-12-11T05:00:13.187549Z"
    },
    "papermill": {
     "duration": 1.912746,
     "end_time": "2021-12-11T05:00:13.188009",
     "exception": false,
     "start_time": "2021-12-11T05:00:11.275263",
     "status": "completed"
    },
    "tags": []
   },
   "outputs": [
    {
     "data": {
      "text/plain": [
       "<AxesSubplot:ylabel='PRODUCT'>"
      ]
     },
     "execution_count": 7,
     "metadata": {},
     "output_type": "execute_result"
    },
    {
     "data": {
      "image/png": "[encoded data removed]",
      "text/plain": [
       "<Figure size 432x288 with 1 Axes>"
      ]
     },
     "metadata": {
      "needs_background": "light"
     },
     "output_type": "display_data"
    }
   ],
   "source": [
    "df_pivot_diff.sort_values(\"stamp_2\", ascending = False)[\"stamp_2\"].head(10).plot.barh()"
   ]
  },
  {
   "cell_type": "code",
   "execution_count": null,
   "id": "extra-executive",
   "metadata": {
    "papermill": {
     "duration": 0.023186,
     "end_time": "2021-12-11T05:00:13.236640",
     "exception": false,
     "start_time": "2021-12-11T05:00:13.213454",
     "status": "completed"
    },
    "tags": []
   },
   "outputs": [],
   "source": []
  }
 ],
 "metadata": {
  "kernelspec": {
   "display_name": "Python 3",
   "language": "python",
   "name": "python3"
  },
  "language_info": {
   "codemirror_mode": {
    "name": "ipython",
    "version": 3
   },
   "file_extension": ".py",
   "mimetype": "text/x-python",
   "name": "python",
   "nbconvert_exporter": "python",
   "pygments_lexer": "ipython3",
   "version": "3.9.5"
  },
  "papermill": {
   "default_parameters": {},
   "duration": 10.003754,
   "end_time": "2021-12-11T05:00:14.481834",
   "environment_variables": {},
   "exception": null,
   "input_path": "eBay_Overview.ipynb",
   "output_path": "eBay_Overview.ipynb",
   "parameters": {},
   "start_time": "2021-12-11T05:00:04.478080",
   "version": "2.3.3"
  }
 },
 "nbformat": 4,
 "nbformat_minor": 5
}