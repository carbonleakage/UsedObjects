{
 "cells": [
  {
   "cell_type": "code",
   "execution_count": 1,
   "id": "reverse-picking",
   "metadata": {
    "execution": {
     "iopub.execute_input": "2021-11-28T05:00:07.838203Z",
     "iopub.status.busy": "2021-11-28T05:00:07.835536Z",
     "iopub.status.idle": "2021-11-28T05:00:08.788241Z",
     "shell.execute_reply": "2021-11-28T05:00:08.789743Z"
    },
    "papermill": {
     "duration": 1.002869,
     "end_time": "2021-11-28T05:00:08.790482",
     "exception": false,
     "start_time": "2021-11-28T05:00:07.787613",
     "status": "completed"
    },
    "tags": []
   },
   "outputs": [],
   "source": [
    "import pandas as pd\n",
    "import sqlite3"
   ]
  },
  {
   "cell_type": "code",
   "execution_count": 2,
   "id": "innovative-syndrome",
   "metadata": {
    "execution": {
     "iopub.execute_input": "2021-11-28T05:00:08.908002Z",
     "iopub.status.busy": "2021-11-28T05:00:08.905761Z",
     "iopub.status.idle": "2021-11-28T05:00:09.847859Z",
     "shell.execute_reply": "2021-11-28T05:00:09.849425Z"
    },
    "papermill": {
     "duration": 0.976141,
     "end_time": "2021-11-28T05:00:09.849932",
     "exception": false,
     "start_time": "2021-11-28T05:00:08.873791",
     "status": "completed"
    },
    "tags": []
   },
   "outputs": [],
   "source": [
    "timestamps = pd.read_sql(\"select distinct record_time from EBAY_TOP_BERLIN order by record_time desc limit 2\", sqlite3.connect(\"UsedObjects.db\"))"
   ]
  },
  {
   "cell_type": "code",
   "execution_count": 3,
   "id": "periodic-identification",
   "metadata": {
    "execution": {
     "iopub.execute_input": "2021-11-28T05:00:09.922085Z",
     "iopub.status.busy": "2021-11-28T05:00:09.916293Z",
     "iopub.status.idle": "2021-11-28T05:00:09.940944Z",
     "shell.execute_reply": "2021-11-28T05:00:09.942400Z"
    },
    "papermill": {
     "duration": 0.072977,
     "end_time": "2021-11-28T05:00:09.942922",
     "exception": false,
     "start_time": "2021-11-28T05:00:09.869945",
     "status": "completed"
    },
    "tags": []
   },
   "outputs": [
    {
     "data": {
      "text/html": [
       "<div>\n",
       "<style scoped>\n",
       "    .dataframe tbody tr th:only-of-type {\n",
       "        vertical-align: middle;\n",
       "    }\n",
       "\n",
       "    .dataframe tbody tr th {\n",
       "        vertical-align: top;\n",
       "    }\n",
       "\n",
       "    .dataframe thead th {\n",
       "        text-align: right;\n",
       "    }\n",
       "</style>\n",
       "<table border=\"1\" class=\"dataframe\">\n",
       "  <thead>\n",
       "    <tr style=\"text-align: right;\">\n",
       "      <th></th>\n",
       "      <th>RECORD_TIME</th>\n",
       "    </tr>\n",
       "  </thead>\n",
       "  <tbody>\n",
       "    <tr>\n",
       "      <th>0</th>\n",
       "      <td>2021-11-28 06:00</td>\n",
       "    </tr>\n",
       "    <tr>\n",
       "      <th>1</th>\n",
       "      <td>2021-11-28 05:30</td>\n",
       "    </tr>\n",
       "  </tbody>\n",
       "</table>\n",
       "</div>"
      ],
      "text/plain": [
       "        RECORD_TIME\n",
       "0  2021-11-28 06:00\n",
       "1  2021-11-28 05:30"
      ]
     },
     "execution_count": 3,
     "metadata": {},
     "output_type": "execute_result"
    }
   ],
   "source": [
    "timestamps"
   ]
  },
  {
   "cell_type": "code",
   "execution_count": 4,
   "id": "alternate-victory",
   "metadata": {
    "execution": {
     "iopub.execute_input": "2021-11-28T05:00:09.998370Z",
     "iopub.status.busy": "2021-11-28T05:00:09.996415Z",
     "iopub.status.idle": "2021-11-28T05:00:11.412086Z",
     "shell.execute_reply": "2021-11-28T05:00:11.413569Z"
    },
    "papermill": {
     "duration": 1.446435,
     "end_time": "2021-11-28T05:00:11.414054",
     "exception": false,
     "start_time": "2021-11-28T05:00:09.967619",
     "status": "completed"
    },
    "tags": []
   },
   "outputs": [],
   "source": [
    "df = pd.read_sql(\"select * from EBAY_TOP_BERLIN where record_time in (select distinct record_time from EBAY_TOP_BERLIN order by record_time desc limit 2)\", sqlite3.connect(\"UsedObjects.db\"))"
   ]
  },
  {
   "cell_type": "code",
   "execution_count": 5,
   "id": "popular-active",
   "metadata": {
    "execution": {
     "iopub.execute_input": "2021-11-28T05:00:11.488665Z",
     "iopub.status.busy": "2021-11-28T05:00:11.475858Z",
     "iopub.status.idle": "2021-11-28T05:00:11.508924Z",
     "shell.execute_reply": "2021-11-28T05:00:11.510597Z"
    },
    "papermill": {
     "duration": 0.076706,
     "end_time": "2021-11-28T05:00:11.511119",
     "exception": false,
     "start_time": "2021-11-28T05:00:11.434413",
     "status": "completed"
    },
    "tags": []
   },
   "outputs": [],
   "source": [
    "df_pivot = df.pivot_table(index=\"PRODUCT\", columns = \"RECORD_TIME\", values = \"LISTING_COUNT\")"
   ]
  },
  {
   "cell_type": "code",
   "execution_count": 6,
   "id": "union-huntington",
   "metadata": {
    "execution": {
     "iopub.execute_input": "2021-11-28T05:00:11.575379Z",
     "iopub.status.busy": "2021-11-28T05:00:11.572794Z",
     "iopub.status.idle": "2021-11-28T05:00:11.582267Z",
     "shell.execute_reply": "2021-11-28T05:00:11.579864Z"
    },
    "papermill": {
     "duration": 0.047972,
     "end_time": "2021-11-28T05:00:11.582845",
     "exception": false,
     "start_time": "2021-11-28T05:00:11.534873",
     "status": "completed"
    },
    "tags": []
   },
   "outputs": [],
   "source": [
    "df_pivot.columns = [\"stamp_1\", \"stamp_2\"]\n",
    "df_pivot_diff = df_pivot.diff(axis=1)"
   ]
  },
  {
   "cell_type": "code",
   "execution_count": 7,
   "id": "fifth-motion",
   "metadata": {
    "execution": {
     "iopub.execute_input": "2021-11-28T05:00:11.646642Z",
     "iopub.status.busy": "2021-11-28T05:00:11.643957Z",
     "iopub.status.idle": "2021-11-28T05:00:13.605779Z",
     "shell.execute_reply": "2021-11-28T05:00:13.607559Z"
    },
    "papermill": {
     "duration": 2.000448,
     "end_time": "2021-11-28T05:00:13.608178",
     "exception": false,
     "start_time": "2021-11-28T05:00:11.607730",
     "status": "completed"
    },
    "tags": []
   },
   "outputs": [
    {
     "data": {
      "text/plain": [
       "<AxesSubplot:ylabel='PRODUCT'>"
      ]
     },
     "execution_count": 7,
     "metadata": {},
     "output_type": "execute_result"
    },
    {
     "data": {
      "image/png": "[encoded data removed]",
      "text/plain": [
       "<Figure size 432x288 with 1 Axes>"
      ]
     },
     "metadata": {
      "needs_background": "light"
     },
     "output_type": "display_data"
    }
   ],
   "source": [
    "df_pivot_diff.sort_values(\"stamp_2\", ascending = False)[\"stamp_2\"].head(10).plot.barh()"
   ]
  },
  {
   "cell_type": "code",
   "execution_count": null,
   "id": "extra-executive",
   "metadata": {
    "papermill": {
     "duration": 0.058118,
     "end_time": "2021-11-28T05:00:13.703374",
     "exception": false,
     "start_time": "2021-11-28T05:00:13.645256",
     "status": "completed"
    },
    "tags": []
   },
   "outputs": [],
   "source": []
  }
 ],
 "metadata": {
  "kernelspec": {
   "display_name": "Python 3",
   "language": "python",
   "name": "python3"
  },
  "language_info": {
   "codemirror_mode": {
    "name": "ipython",
    "version": 3
   },
   "file_extension": ".py",
   "mimetype": "text/x-python",
   "name": "python",
   "nbconvert_exporter": "python",
   "pygments_lexer": "ipython3",
   "version": "3.9.5"
  },
  "papermill": {
   "default_parameters": {},
   "duration": 9.952684,
   "end_time": "2021-11-28T05:00:14.991532",
   "environment_variables": {},
   "exception": null,
   "input_path": "eBay_Overview.ipynb",
   "output_path": "eBay_Overview.ipynb",
   "parameters": {},
   "start_time": "2021-11-28T05:00:05.038848",
   "version": "2.3.3"
  }
 },
 "nbformat": 4,
 "nbformat_minor": 5
}