{
 "cells": [
  {
   "cell_type": "code",
   "execution_count": 1,
   "id": "reverse-picking",
   "metadata": {
    "execution": {
     "iopub.execute_input": "2021-11-03T13:30:07.907540Z",
     "iopub.status.busy": "2021-11-03T13:30:07.904898Z",
     "iopub.status.idle": "2021-11-03T13:30:08.862657Z",
     "shell.execute_reply": "2021-11-03T13:30:08.865151Z"
    },
    "papermill": {
     "duration": 1.010691,
     "end_time": "2021-11-03T13:30:08.865887",
     "exception": false,
     "start_time": "2021-11-03T13:30:07.855196",
     "status": "completed"
    },
    "tags": []
   },
   "outputs": [],
   "source": [
    "import pandas as pd\n",
    "import sqlite3"
   ]
  },
  {
   "cell_type": "code",
   "execution_count": 2,
   "id": "innovative-syndrome",
   "metadata": {
    "execution": {
     "iopub.execute_input": "2021-11-03T13:30:08.927602Z",
     "iopub.status.busy": "2021-11-03T13:30:08.925289Z",
     "iopub.status.idle": "2021-11-03T13:30:09.643786Z",
     "shell.execute_reply": "2021-11-03T13:30:09.645767Z"
    },
    "papermill": {
     "duration": 0.752724,
     "end_time": "2021-11-03T13:30:09.646331",
     "exception": false,
     "start_time": "2021-11-03T13:30:08.893607",
     "status": "completed"
    },
    "tags": []
   },
   "outputs": [],
   "source": [
    "timestamps = pd.read_sql(\"select distinct record_time from EBAY_TOP_BERLIN order by record_time desc limit 2\", sqlite3.connect(\"UsedObjects.db\"))"
   ]
  },
  {
   "cell_type": "code",
   "execution_count": 3,
   "id": "periodic-identification",
   "metadata": {
    "execution": {
     "iopub.execute_input": "2021-11-03T13:30:09.721364Z",
     "iopub.status.busy": "2021-11-03T13:30:09.718189Z",
     "iopub.status.idle": "2021-11-03T13:30:09.742288Z",
     "shell.execute_reply": "2021-11-03T13:30:09.743785Z"
    },
    "papermill": {
     "duration": 0.075649,
     "end_time": "2021-11-03T13:30:09.744292",
     "exception": false,
     "start_time": "2021-11-03T13:30:09.668643",
     "status": "completed"
    },
    "tags": []
   },
   "outputs": [
    {
     "data": {
      "text/html": [
       "<div>\n",
       "<style scoped>\n",
       "    .dataframe tbody tr th:only-of-type {\n",
       "        vertical-align: middle;\n",
       "    }\n",
       "\n",
       "    .dataframe tbody tr th {\n",
       "        vertical-align: top;\n",
       "    }\n",
       "\n",
       "    .dataframe thead th {\n",
       "        text-align: right;\n",
       "    }\n",
       "</style>\n",
       "<table border=\"1\" class=\"dataframe\">\n",
       "  <thead>\n",
       "    <tr style=\"text-align: right;\">\n",
       "      <th></th>\n",
       "      <th>RECORD_TIME</th>\n",
       "    </tr>\n",
       "  </thead>\n",
       "  <tbody>\n",
       "    <tr>\n",
       "      <th>0</th>\n",
       "      <td>2021-11-03 14:30</td>\n",
       "    </tr>\n",
       "    <tr>\n",
       "      <th>1</th>\n",
       "      <td>2021-11-03 14:00</td>\n",
       "    </tr>\n",
       "  </tbody>\n",
       "</table>\n",
       "</div>"
      ],
      "text/plain": [
       "        RECORD_TIME\n",
       "0  2021-11-03 14:30\n",
       "1  2021-11-03 14:00"
      ]
     },
     "execution_count": 3,
     "metadata": {},
     "output_type": "execute_result"
    }
   ],
   "source": [
    "timestamps"
   ]
  },
  {
   "cell_type": "code",
   "execution_count": 4,
   "id": "alternate-victory",
   "metadata": {
    "execution": {
     "iopub.execute_input": "2021-11-03T13:30:09.801639Z",
     "iopub.status.busy": "2021-11-03T13:30:09.798937Z",
     "iopub.status.idle": "2021-11-03T13:30:10.867081Z",
     "shell.execute_reply": "2021-11-03T13:30:10.868661Z"
    },
    "papermill": {
     "duration": 1.103718,
     "end_time": "2021-11-03T13:30:10.869247",
     "exception": false,
     "start_time": "2021-11-03T13:30:09.765529",
     "status": "completed"
    },
    "tags": []
   },
   "outputs": [],
   "source": [
    "df = pd.read_sql(\"select * from EBAY_TOP_BERLIN where record_time in (select distinct record_time from EBAY_TOP_BERLIN order by record_time desc limit 2)\", sqlite3.connect(\"UsedObjects.db\"))"
   ]
  },
  {
   "cell_type": "code",
   "execution_count": 5,
   "id": "popular-active",
   "metadata": {
    "execution": {
     "iopub.execute_input": "2021-11-03T13:30:10.943969Z",
     "iopub.status.busy": "2021-11-03T13:30:10.929837Z",
     "iopub.status.idle": "2021-11-03T13:30:10.961812Z",
     "shell.execute_reply": "2021-11-03T13:30:10.963195Z"
    },
    "papermill": {
     "duration": 0.073414,
     "end_time": "2021-11-03T13:30:10.963667",
     "exception": false,
     "start_time": "2021-11-03T13:30:10.890253",
     "status": "completed"
    },
    "tags": []
   },
   "outputs": [],
   "source": [
    "df_pivot = df.pivot_table(index=\"PRODUCT\", columns = \"RECORD_TIME\", values = \"LISTING_COUNT\")"
   ]
  },
  {
   "cell_type": "code",
   "execution_count": 6,
   "id": "union-huntington",
   "metadata": {
    "execution": {
     "iopub.execute_input": "2021-11-03T13:30:11.034290Z",
     "iopub.status.busy": "2021-11-03T13:30:11.030657Z",
     "iopub.status.idle": "2021-11-03T13:30:11.042685Z",
     "shell.execute_reply": "2021-11-03T13:30:11.045525Z"
    },
    "papermill": {
     "duration": 0.061661,
     "end_time": "2021-11-03T13:30:11.046458",
     "exception": false,
     "start_time": "2021-11-03T13:30:10.984797",
     "status": "completed"
    },
    "tags": []
   },
   "outputs": [],
   "source": [
    "df_pivot.columns = [\"stamp_1\", \"stamp_2\"]\n",
    "df_pivot_diff = df_pivot.diff(axis=1)"
   ]
  },
  {
   "cell_type": "code",
   "execution_count": 7,
   "id": "fifth-motion",
   "metadata": {
    "execution": {
     "iopub.execute_input": "2021-11-03T13:30:11.123598Z",
     "iopub.status.busy": "2021-11-03T13:30:11.121090Z",
     "iopub.status.idle": "2021-11-03T13:30:13.051212Z",
     "shell.execute_reply": "2021-11-03T13:30:13.052744Z"
    },
    "papermill": {
     "duration": 1.97311,
     "end_time": "2021-11-03T13:30:13.053224",
     "exception": false,
     "start_time": "2021-11-03T13:30:11.080114",
     "status": "completed"
    },
    "tags": []
   },
   "outputs": [
    {
     "data": {
      "text/plain": [
       "<AxesSubplot:ylabel='PRODUCT'>"
      ]
     },
     "execution_count": 7,
     "metadata": {},
     "output_type": "execute_result"
    },
    {
     "data": {
      "image/png": "[encoded data removed]",
      "text/plain": [
       "<Figure size 432x288 with 1 Axes>"
      ]
     },
     "metadata": {
      "needs_background": "light"
     },
     "output_type": "display_data"
    }
   ],
   "source": [
    "df_pivot_diff.sort_values(\"stamp_2\", ascending = False)[\"stamp_2\"].head(10).plot.barh()"
   ]
  },
  {
   "cell_type": "code",
   "execution_count": null,
   "id": "extra-executive",
   "metadata": {
    "papermill": {
     "duration": 0.031442,
     "end_time": "2021-11-03T13:30:13.110560",
     "exception": false,
     "start_time": "2021-11-03T13:30:13.079118",
     "status": "completed"
    },
    "tags": []
   },
   "outputs": [],
   "source": []
  }
 ],
 "metadata": {
  "kernelspec": {
   "display_name": "Python 3",
   "language": "python",
   "name": "python3"
  },
  "language_info": {
   "codemirror_mode": {
    "name": "ipython",
    "version": 3
   },
   "file_extension": ".py",
   "mimetype": "text/x-python",
   "name": "python",
   "nbconvert_exporter": "python",
   "pygments_lexer": "ipython3",
   "version": "3.9.5"
  },
  "papermill": {
   "default_parameters": {},
   "duration": 8.852401,
   "end_time": "2021-11-03T13:30:13.982782",
   "environment_variables": {},
   "exception": null,
   "input_path": "eBay_Overview.ipynb",
   "output_path": "eBay_Overview.ipynb",
   "parameters": {},
   "start_time": "2021-11-03T13:30:05.130381",
   "version": "2.3.3"
  }
 },
 "nbformat": 4,
 "nbformat_minor": 5
}