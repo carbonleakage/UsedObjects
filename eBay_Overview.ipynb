{
 "cells": [
  {
   "cell_type": "code",
   "execution_count": 1,
   "id": "reverse-picking",
   "metadata": {
    "execution": {
     "iopub.execute_input": "2021-09-08T18:30:07.821403Z",
     "iopub.status.busy": "2021-09-08T18:30:07.819455Z",
     "iopub.status.idle": "2021-09-08T18:30:08.632788Z",
     "shell.execute_reply": "2021-09-08T18:30:08.631010Z"
    },
    "papermill": {
     "duration": 0.863105,
     "end_time": "2021-09-08T18:30:08.633239",
     "exception": false,
     "start_time": "2021-09-08T18:30:07.770134",
     "status": "completed"
    },
    "tags": []
   },
   "outputs": [],
   "source": [
    "import pandas as pd\n",
    "import sqlite3"
   ]
  },
  {
   "cell_type": "code",
   "execution_count": 2,
   "id": "innovative-syndrome",
   "metadata": {
    "execution": {
     "iopub.execute_input": "2021-09-08T18:30:08.683908Z",
     "iopub.status.busy": "2021-09-08T18:30:08.681486Z",
     "iopub.status.idle": "2021-09-08T18:30:08.917206Z",
     "shell.execute_reply": "2021-09-08T18:30:08.918406Z"
    },
    "papermill": {
     "duration": 0.265472,
     "end_time": "2021-09-08T18:30:08.918794",
     "exception": false,
     "start_time": "2021-09-08T18:30:08.653322",
     "status": "completed"
    },
    "tags": []
   },
   "outputs": [],
   "source": [
    "timestamps = pd.read_sql(\"select distinct record_time from EBAY_TOP_BERLIN order by record_time desc limit 2\", sqlite3.connect(\"UsedObjects.db\"))"
   ]
  },
  {
   "cell_type": "code",
   "execution_count": 3,
   "id": "periodic-identification",
   "metadata": {
    "execution": {
     "iopub.execute_input": "2021-09-08T18:30:08.986320Z",
     "iopub.status.busy": "2021-09-08T18:30:08.984261Z",
     "iopub.status.idle": "2021-09-08T18:30:09.004533Z",
     "shell.execute_reply": "2021-09-08T18:30:09.006021Z"
    },
    "papermill": {
     "duration": 0.066049,
     "end_time": "2021-09-08T18:30:09.006475",
     "exception": false,
     "start_time": "2021-09-08T18:30:08.940426",
     "status": "completed"
    },
    "tags": []
   },
   "outputs": [
    {
     "data": {
      "text/html": [
       "<div>\n",
       "<style scoped>\n",
       "    .dataframe tbody tr th:only-of-type {\n",
       "        vertical-align: middle;\n",
       "    }\n",
       "\n",
       "    .dataframe tbody tr th {\n",
       "        vertical-align: top;\n",
       "    }\n",
       "\n",
       "    .dataframe thead th {\n",
       "        text-align: right;\n",
       "    }\n",
       "</style>\n",
       "<table border=\"1\" class=\"dataframe\">\n",
       "  <thead>\n",
       "    <tr style=\"text-align: right;\">\n",
       "      <th></th>\n",
       "      <th>RECORD_TIME</th>\n",
       "    </tr>\n",
       "  </thead>\n",
       "  <tbody>\n",
       "    <tr>\n",
       "      <th>0</th>\n",
       "      <td>2021-09-08 20:30</td>\n",
       "    </tr>\n",
       "    <tr>\n",
       "      <th>1</th>\n",
       "      <td>2021-09-08 20:00</td>\n",
       "    </tr>\n",
       "  </tbody>\n",
       "</table>\n",
       "</div>"
      ],
      "text/plain": [
       "        RECORD_TIME\n",
       "0  2021-09-08 20:30\n",
       "1  2021-09-08 20:00"
      ]
     },
     "execution_count": 3,
     "metadata": {},
     "output_type": "execute_result"
    }
   ],
   "source": [
    "timestamps"
   ]
  },
  {
   "cell_type": "code",
   "execution_count": 4,
   "id": "alternate-victory",
   "metadata": {
    "execution": {
     "iopub.execute_input": "2021-09-08T18:30:09.058232Z",
     "iopub.status.busy": "2021-09-08T18:30:09.056288Z",
     "iopub.status.idle": "2021-09-08T18:30:09.406306Z",
     "shell.execute_reply": "2021-09-08T18:30:09.407606Z"
    },
    "papermill": {
     "duration": 0.380476,
     "end_time": "2021-09-08T18:30:09.408006",
     "exception": false,
     "start_time": "2021-09-08T18:30:09.027530",
     "status": "completed"
    },
    "tags": []
   },
   "outputs": [],
   "source": [
    "df = pd.read_sql(\"select * from EBAY_TOP_BERLIN where record_time in (select distinct record_time from EBAY_TOP_BERLIN order by record_time desc limit 2)\", sqlite3.connect(\"UsedObjects.db\"))"
   ]
  },
  {
   "cell_type": "code",
   "execution_count": 5,
   "id": "popular-active",
   "metadata": {
    "execution": {
     "iopub.execute_input": "2021-09-08T18:30:09.487223Z",
     "iopub.status.busy": "2021-09-08T18:30:09.473892Z",
     "iopub.status.idle": "2021-09-08T18:30:09.503837Z",
     "shell.execute_reply": "2021-09-08T18:30:09.505243Z"
    },
    "papermill": {
     "duration": 0.072241,
     "end_time": "2021-09-08T18:30:09.505676",
     "exception": false,
     "start_time": "2021-09-08T18:30:09.433435",
     "status": "completed"
    },
    "tags": []
   },
   "outputs": [],
   "source": [
    "df_pivot = df.pivot_table(index=\"PRODUCT\", columns = \"RECORD_TIME\", values = \"LISTING_COUNT\")"
   ]
  },
  {
   "cell_type": "code",
   "execution_count": 6,
   "id": "union-huntington",
   "metadata": {
    "execution": {
     "iopub.execute_input": "2021-09-08T18:30:09.563003Z",
     "iopub.status.busy": "2021-09-08T18:30:09.560530Z",
     "iopub.status.idle": "2021-09-08T18:30:09.566369Z",
     "shell.execute_reply": "2021-09-08T18:30:09.567733Z"
    },
    "papermill": {
     "duration": 0.042337,
     "end_time": "2021-09-08T18:30:09.568147",
     "exception": false,
     "start_time": "2021-09-08T18:30:09.525810",
     "status": "completed"
    },
    "tags": []
   },
   "outputs": [],
   "source": [
    "df_pivot.columns = [\"stamp_1\", \"stamp_2\"]\n",
    "df_pivot_diff = df_pivot.diff(axis=1)"
   ]
  },
  {
   "cell_type": "code",
   "execution_count": 7,
   "id": "fifth-motion",
   "metadata": {
    "execution": {
     "iopub.execute_input": "2021-09-08T18:30:09.622399Z",
     "iopub.status.busy": "2021-09-08T18:30:09.620078Z",
     "iopub.status.idle": "2021-09-08T18:30:11.111733Z",
     "shell.execute_reply": "2021-09-08T18:30:11.113044Z"
    },
    "papermill": {
     "duration": 1.524813,
     "end_time": "2021-09-08T18:30:11.113448",
     "exception": false,
     "start_time": "2021-09-08T18:30:09.588635",
     "status": "completed"
    },
    "tags": []
   },
   "outputs": [
    {
     "data": {
      "text/plain": [
       "<AxesSubplot:ylabel='PRODUCT'>"
      ]
     },
     "execution_count": 7,
     "metadata": {},
     "output_type": "execute_result"
    },
    {
     "data": {
      "image/png": "[encoded data removed]",
      "text/plain": [
       "<Figure size 432x288 with 1 Axes>"
      ]
     },
     "metadata": {
      "needs_background": "light"
     },
     "output_type": "display_data"
    }
   ],
   "source": [
    "df_pivot_diff.sort_values(\"stamp_2\", ascending = False)[\"stamp_2\"].head(10).plot.barh()"
   ]
  },
  {
   "cell_type": "code",
   "execution_count": null,
   "id": "extra-executive",
   "metadata": {
    "papermill": {
     "duration": 0.022017,
     "end_time": "2021-09-08T18:30:11.159116",
     "exception": false,
     "start_time": "2021-09-08T18:30:11.137099",
     "status": "completed"
    },
    "tags": []
   },
   "outputs": [],
   "source": []
  }
 ],
 "metadata": {
  "kernelspec": {
   "display_name": "Python 3",
   "language": "python",
   "name": "python3"
  },
  "language_info": {
   "codemirror_mode": {
    "name": "ipython",
    "version": 3
   },
   "file_extension": ".py",
   "mimetype": "text/x-python",
   "name": "python",
   "nbconvert_exporter": "python",
   "pygments_lexer": "ipython3",
   "version": "3.9.5"
  },
  "papermill": {
   "default_parameters": {},
   "duration": 6.443565,
   "end_time": "2021-09-08T18:30:11.800462",
   "environment_variables": {},
   "exception": null,
   "input_path": "eBay_Overview.ipynb",
   "output_path": "eBay_Overview.ipynb",
   "parameters": {},
   "start_time": "2021-09-08T18:30:05.356897",
   "version": "2.3.3"
  }
 },
 "nbformat": 4,
 "nbformat_minor": 5
}