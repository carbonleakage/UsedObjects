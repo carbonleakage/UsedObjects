{
 "cells": [
  {
   "cell_type": "code",
   "execution_count": 1,
   "id": "reverse-picking",
   "metadata": {
    "execution": {
     "iopub.execute_input": "2021-09-26T20:30:07.428475Z",
     "iopub.status.busy": "2021-09-26T20:30:07.426453Z",
     "iopub.status.idle": "2021-09-26T20:30:08.230132Z",
     "shell.execute_reply": "2021-09-26T20:30:08.231444Z"
    },
    "papermill": {
     "duration": 0.853899,
     "end_time": "2021-09-26T20:30:08.232071",
     "exception": false,
     "start_time": "2021-09-26T20:30:07.378172",
     "status": "completed"
    },
    "tags": []
   },
   "outputs": [],
   "source": [
    "import pandas as pd\n",
    "import sqlite3"
   ]
  },
  {
   "cell_type": "code",
   "execution_count": 2,
   "id": "innovative-syndrome",
   "metadata": {
    "execution": {
     "iopub.execute_input": "2021-09-26T20:30:08.284862Z",
     "iopub.status.busy": "2021-09-26T20:30:08.282610Z",
     "iopub.status.idle": "2021-09-26T20:30:08.674343Z",
     "shell.execute_reply": "2021-09-26T20:30:08.675627Z"
    },
    "papermill": {
     "duration": 0.421257,
     "end_time": "2021-09-26T20:30:08.676035",
     "exception": false,
     "start_time": "2021-09-26T20:30:08.254778",
     "status": "completed"
    },
    "tags": []
   },
   "outputs": [],
   "source": [
    "timestamps = pd.read_sql(\"select distinct record_time from EBAY_TOP_BERLIN order by record_time desc limit 2\", sqlite3.connect(\"UsedObjects.db\"))"
   ]
  },
  {
   "cell_type": "code",
   "execution_count": 3,
   "id": "periodic-identification",
   "metadata": {
    "execution": {
     "iopub.execute_input": "2021-09-26T20:30:08.743922Z",
     "iopub.status.busy": "2021-09-26T20:30:08.738453Z",
     "iopub.status.idle": "2021-09-26T20:30:08.758438Z",
     "shell.execute_reply": "2021-09-26T20:30:08.759637Z"
    },
    "papermill": {
     "duration": 0.064476,
     "end_time": "2021-09-26T20:30:08.760052",
     "exception": false,
     "start_time": "2021-09-26T20:30:08.695576",
     "status": "completed"
    },
    "tags": []
   },
   "outputs": [
    {
     "data": {
      "text/html": [
       "<div>\n",
       "<style scoped>\n",
       "    .dataframe tbody tr th:only-of-type {\n",
       "        vertical-align: middle;\n",
       "    }\n",
       "\n",
       "    .dataframe tbody tr th {\n",
       "        vertical-align: top;\n",
       "    }\n",
       "\n",
       "    .dataframe thead th {\n",
       "        text-align: right;\n",
       "    }\n",
       "</style>\n",
       "<table border=\"1\" class=\"dataframe\">\n",
       "  <thead>\n",
       "    <tr style=\"text-align: right;\">\n",
       "      <th></th>\n",
       "      <th>RECORD_TIME</th>\n",
       "    </tr>\n",
       "  </thead>\n",
       "  <tbody>\n",
       "    <tr>\n",
       "      <th>0</th>\n",
       "      <td>2021-09-26 22:30</td>\n",
       "    </tr>\n",
       "    <tr>\n",
       "      <th>1</th>\n",
       "      <td>2021-09-26 22:00</td>\n",
       "    </tr>\n",
       "  </tbody>\n",
       "</table>\n",
       "</div>"
      ],
      "text/plain": [
       "        RECORD_TIME\n",
       "0  2021-09-26 22:30\n",
       "1  2021-09-26 22:00"
      ]
     },
     "execution_count": 3,
     "metadata": {},
     "output_type": "execute_result"
    }
   ],
   "source": [
    "timestamps"
   ]
  },
  {
   "cell_type": "code",
   "execution_count": 4,
   "id": "alternate-victory",
   "metadata": {
    "execution": {
     "iopub.execute_input": "2021-09-26T20:30:08.814685Z",
     "iopub.status.busy": "2021-09-26T20:30:08.812402Z",
     "iopub.status.idle": "2021-09-26T20:30:09.384554Z",
     "shell.execute_reply": "2021-09-26T20:30:09.385762Z"
    },
    "papermill": {
     "duration": 0.602842,
     "end_time": "2021-09-26T20:30:09.386156",
     "exception": false,
     "start_time": "2021-09-26T20:30:08.783314",
     "status": "completed"
    },
    "tags": []
   },
   "outputs": [],
   "source": [
    "df = pd.read_sql(\"select * from EBAY_TOP_BERLIN where record_time in (select distinct record_time from EBAY_TOP_BERLIN order by record_time desc limit 2)\", sqlite3.connect(\"UsedObjects.db\"))"
   ]
  },
  {
   "cell_type": "code",
   "execution_count": 5,
   "id": "popular-active",
   "metadata": {
    "execution": {
     "iopub.execute_input": "2021-09-26T20:30:09.469486Z",
     "iopub.status.busy": "2021-09-26T20:30:09.457809Z",
     "iopub.status.idle": "2021-09-26T20:30:09.485391Z",
     "shell.execute_reply": "2021-09-26T20:30:09.486667Z"
    },
    "papermill": {
     "duration": 0.072022,
     "end_time": "2021-09-26T20:30:09.487131",
     "exception": false,
     "start_time": "2021-09-26T20:30:09.415109",
     "status": "completed"
    },
    "tags": []
   },
   "outputs": [],
   "source": [
    "df_pivot = df.pivot_table(index=\"PRODUCT\", columns = \"RECORD_TIME\", values = \"LISTING_COUNT\")"
   ]
  },
  {
   "cell_type": "code",
   "execution_count": 6,
   "id": "union-huntington",
   "metadata": {
    "execution": {
     "iopub.execute_input": "2021-09-26T20:30:09.544746Z",
     "iopub.status.busy": "2021-09-26T20:30:09.542500Z",
     "iopub.status.idle": "2021-09-26T20:30:09.547999Z",
     "shell.execute_reply": "2021-09-26T20:30:09.549405Z"
    },
    "papermill": {
     "duration": 0.040908,
     "end_time": "2021-09-26T20:30:09.549842",
     "exception": false,
     "start_time": "2021-09-26T20:30:09.508934",
     "status": "completed"
    },
    "tags": []
   },
   "outputs": [],
   "source": [
    "df_pivot.columns = [\"stamp_1\", \"stamp_2\"]\n",
    "df_pivot_diff = df_pivot.diff(axis=1)"
   ]
  },
  {
   "cell_type": "code",
   "execution_count": 7,
   "id": "fifth-motion",
   "metadata": {
    "execution": {
     "iopub.execute_input": "2021-09-26T20:30:09.606959Z",
     "iopub.status.busy": "2021-09-26T20:30:09.604215Z",
     "iopub.status.idle": "2021-09-26T20:30:11.110161Z",
     "shell.execute_reply": "2021-09-26T20:30:11.111530Z"
    },
    "papermill": {
     "duration": 1.539908,
     "end_time": "2021-09-26T20:30:11.111954",
     "exception": false,
     "start_time": "2021-09-26T20:30:09.572046",
     "status": "completed"
    },
    "tags": []
   },
   "outputs": [
    {
     "data": {
      "text/plain": [
       "<AxesSubplot:ylabel='PRODUCT'>"
      ]
     },
     "execution_count": 7,
     "metadata": {},
     "output_type": "execute_result"
    },
    {
     "data": {
      "image/png": "[encoded data removed]",
      "text/plain": [
       "<Figure size 432x288 with 1 Axes>"
      ]
     },
     "metadata": {
      "needs_background": "light"
     },
     "output_type": "display_data"
    }
   ],
   "source": [
    "df_pivot_diff.sort_values(\"stamp_2\", ascending = False)[\"stamp_2\"].head(10).plot.barh()"
   ]
  },
  {
   "cell_type": "code",
   "execution_count": null,
   "id": "extra-executive",
   "metadata": {
    "papermill": {
     "duration": 0.022192,
     "end_time": "2021-09-26T20:30:11.158196",
     "exception": false,
     "start_time": "2021-09-26T20:30:11.136004",
     "status": "completed"
    },
    "tags": []
   },
   "outputs": [],
   "source": []
  }
 ],
 "metadata": {
  "kernelspec": {
   "display_name": "Python 3",
   "language": "python",
   "name": "python3"
  },
  "language_info": {
   "codemirror_mode": {
    "name": "ipython",
    "version": 3
   },
   "file_extension": ".py",
   "mimetype": "text/x-python",
   "name": "python",
   "nbconvert_exporter": "python",
   "pygments_lexer": "ipython3",
   "version": "3.9.5"
  },
  "papermill": {
   "default_parameters": {},
   "duration": 6.82269,
   "end_time": "2021-09-26T20:30:11.801738",
   "environment_variables": {},
   "exception": null,
   "input_path": "eBay_Overview.ipynb",
   "output_path": "eBay_Overview.ipynb",
   "parameters": {},
   "start_time": "2021-09-26T20:30:04.979048",
   "version": "2.3.3"
  }
 },
 "nbformat": 4,
 "nbformat_minor": 5
}