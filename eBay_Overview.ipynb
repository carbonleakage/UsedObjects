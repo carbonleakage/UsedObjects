{
 "cells": [
  {
   "cell_type": "code",
   "execution_count": 1,
   "id": "reverse-picking",
   "metadata": {
    "execution": {
     "iopub.execute_input": "2021-09-02T18:30:07.141145Z",
     "iopub.status.busy": "2021-09-02T18:30:07.139051Z",
     "iopub.status.idle": "2021-09-02T18:30:07.943649Z",
     "shell.execute_reply": "2021-09-02T18:30:07.942007Z"
    },
    "papermill": {
     "duration": 0.853583,
     "end_time": "2021-09-02T18:30:07.944065",
     "exception": false,
     "start_time": "2021-09-02T18:30:07.090482",
     "status": "completed"
    },
    "tags": []
   },
   "outputs": [],
   "source": [
    "import pandas as pd\n",
    "import sqlite3"
   ]
  },
  {
   "cell_type": "code",
   "execution_count": 2,
   "id": "innovative-syndrome",
   "metadata": {
    "execution": {
     "iopub.execute_input": "2021-09-02T18:30:07.994517Z",
     "iopub.status.busy": "2021-09-02T18:30:07.992680Z",
     "iopub.status.idle": "2021-09-02T18:30:08.180767Z",
     "shell.execute_reply": "2021-09-02T18:30:08.181959Z"
    },
    "papermill": {
     "duration": 0.217419,
     "end_time": "2021-09-02T18:30:08.182354",
     "exception": false,
     "start_time": "2021-09-02T18:30:07.964935",
     "status": "completed"
    },
    "tags": []
   },
   "outputs": [],
   "source": [
    "timestamps = pd.read_sql(\"select distinct record_time from EBAY_TOP_BERLIN order by record_time desc limit 2\", sqlite3.connect(\"UsedObjects.db\"))"
   ]
  },
  {
   "cell_type": "code",
   "execution_count": 3,
   "id": "periodic-identification",
   "metadata": {
    "execution": {
     "iopub.execute_input": "2021-09-02T18:30:08.245319Z",
     "iopub.status.busy": "2021-09-02T18:30:08.243314Z",
     "iopub.status.idle": "2021-09-02T18:30:08.262760Z",
     "shell.execute_reply": "2021-09-02T18:30:08.264179Z"
    },
    "papermill": {
     "duration": 0.062746,
     "end_time": "2021-09-02T18:30:08.264602",
     "exception": false,
     "start_time": "2021-09-02T18:30:08.201856",
     "status": "completed"
    },
    "tags": []
   },
   "outputs": [
    {
     "data": {
      "text/html": [
       "<div>\n",
       "<style scoped>\n",
       "    .dataframe tbody tr th:only-of-type {\n",
       "        vertical-align: middle;\n",
       "    }\n",
       "\n",
       "    .dataframe tbody tr th {\n",
       "        vertical-align: top;\n",
       "    }\n",
       "\n",
       "    .dataframe thead th {\n",
       "        text-align: right;\n",
       "    }\n",
       "</style>\n",
       "<table border=\"1\" class=\"dataframe\">\n",
       "  <thead>\n",
       "    <tr style=\"text-align: right;\">\n",
       "      <th></th>\n",
       "      <th>RECORD_TIME</th>\n",
       "    </tr>\n",
       "  </thead>\n",
       "  <tbody>\n",
       "    <tr>\n",
       "      <th>0</th>\n",
       "      <td>2021-09-02 20:30</td>\n",
       "    </tr>\n",
       "    <tr>\n",
       "      <th>1</th>\n",
       "      <td>2021-09-02 20:00</td>\n",
       "    </tr>\n",
       "  </tbody>\n",
       "</table>\n",
       "</div>"
      ],
      "text/plain": [
       "        RECORD_TIME\n",
       "0  2021-09-02 20:30\n",
       "1  2021-09-02 20:00"
      ]
     },
     "execution_count": 3,
     "metadata": {},
     "output_type": "execute_result"
    }
   ],
   "source": [
    "timestamps"
   ]
  },
  {
   "cell_type": "code",
   "execution_count": 4,
   "id": "alternate-victory",
   "metadata": {
    "execution": {
     "iopub.execute_input": "2021-09-02T18:30:08.315798Z",
     "iopub.status.busy": "2021-09-02T18:30:08.313866Z",
     "iopub.status.idle": "2021-09-02T18:30:08.595462Z",
     "shell.execute_reply": "2021-09-02T18:30:08.596686Z"
    },
    "papermill": {
     "duration": 0.311359,
     "end_time": "2021-09-02T18:30:08.597079",
     "exception": false,
     "start_time": "2021-09-02T18:30:08.285720",
     "status": "completed"
    },
    "tags": []
   },
   "outputs": [],
   "source": [
    "df = pd.read_sql(\"select * from EBAY_TOP_BERLIN where record_time in (select distinct record_time from EBAY_TOP_BERLIN order by record_time desc limit 2)\", sqlite3.connect(\"UsedObjects.db\"))"
   ]
  },
  {
   "cell_type": "code",
   "execution_count": 5,
   "id": "popular-active",
   "metadata": {
    "execution": {
     "iopub.execute_input": "2021-09-02T18:30:08.678219Z",
     "iopub.status.busy": "2021-09-02T18:30:08.665970Z",
     "iopub.status.idle": "2021-09-02T18:30:08.694092Z",
     "shell.execute_reply": "2021-09-02T18:30:08.695505Z"
    },
    "papermill": {
     "duration": 0.071641,
     "end_time": "2021-09-02T18:30:08.695916",
     "exception": false,
     "start_time": "2021-09-02T18:30:08.624275",
     "status": "completed"
    },
    "tags": []
   },
   "outputs": [],
   "source": [
    "df_pivot = df.pivot_table(index=\"PRODUCT\", columns = \"RECORD_TIME\", values = \"LISTING_COUNT\")"
   ]
  },
  {
   "cell_type": "code",
   "execution_count": 6,
   "id": "union-huntington",
   "metadata": {
    "execution": {
     "iopub.execute_input": "2021-09-02T18:30:08.754425Z",
     "iopub.status.busy": "2021-09-02T18:30:08.751980Z",
     "iopub.status.idle": "2021-09-02T18:30:08.757710Z",
     "shell.execute_reply": "2021-09-02T18:30:08.758946Z"
    },
    "papermill": {
     "duration": 0.042078,
     "end_time": "2021-09-02T18:30:08.759380",
     "exception": false,
     "start_time": "2021-09-02T18:30:08.717302",
     "status": "completed"
    },
    "tags": []
   },
   "outputs": [],
   "source": [
    "df_pivot.columns = [\"stamp_1\", \"stamp_2\"]\n",
    "df_pivot_diff = df_pivot.diff(axis=1)"
   ]
  },
  {
   "cell_type": "code",
   "execution_count": 7,
   "id": "fifth-motion",
   "metadata": {
    "execution": {
     "iopub.execute_input": "2021-09-02T18:30:08.817597Z",
     "iopub.status.busy": "2021-09-02T18:30:08.812184Z",
     "iopub.status.idle": "2021-09-02T18:30:10.257494Z",
     "shell.execute_reply": "2021-09-02T18:30:10.258770Z"
    },
    "papermill": {
     "duration": 1.478544,
     "end_time": "2021-09-02T18:30:10.259394",
     "exception": false,
     "start_time": "2021-09-02T18:30:08.780850",
     "status": "completed"
    },
    "tags": []
   },
   "outputs": [
    {
     "data": {
      "text/plain": [
       "<AxesSubplot:ylabel='PRODUCT'>"
      ]
     },
     "execution_count": 7,
     "metadata": {},
     "output_type": "execute_result"
    },
    {
     "data": {
      "image/png": "[encoded data removed]",
      "text/plain": [
       "<Figure size 432x288 with 1 Axes>"
      ]
     },
     "metadata": {
      "needs_background": "light"
     },
     "output_type": "display_data"
    }
   ],
   "source": [
    "df_pivot_diff.sort_values(\"stamp_2\", ascending = False)[\"stamp_2\"].head(10).plot.barh()"
   ]
  },
  {
   "cell_type": "code",
   "execution_count": null,
   "id": "extra-executive",
   "metadata": {
    "papermill": {
     "duration": 0.021702,
     "end_time": "2021-09-02T18:30:10.306666",
     "exception": false,
     "start_time": "2021-09-02T18:30:10.284964",
     "status": "completed"
    },
    "tags": []
   },
   "outputs": [],
   "source": []
  }
 ],
 "metadata": {
  "kernelspec": {
   "display_name": "Python 3",
   "language": "python",
   "name": "python3"
  },
  "language_info": {
   "codemirror_mode": {
    "name": "ipython",
    "version": 3
   },
   "file_extension": ".py",
   "mimetype": "text/x-python",
   "name": "python",
   "nbconvert_exporter": "python",
   "pygments_lexer": "ipython3",
   "version": "3.9.5"
  },
  "papermill": {
   "default_parameters": {},
   "duration": 6.817623,
   "end_time": "2021-09-02T18:30:11.508656",
   "environment_variables": {},
   "exception": null,
   "input_path": "eBay_Overview.ipynb",
   "output_path": "eBay_Overview.ipynb",
   "parameters": {},
   "start_time": "2021-09-02T18:30:04.691033",
   "version": "2.3.3"
  }
 },
 "nbformat": 4,
 "nbformat_minor": 5
}