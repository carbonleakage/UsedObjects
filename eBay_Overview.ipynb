{
 "cells": [
  {
   "cell_type": "code",
   "execution_count": 1,
   "id": "reverse-picking",
   "metadata": {
    "execution": {
     "iopub.execute_input": "2021-10-30T20:30:06.770797Z",
     "iopub.status.busy": "2021-10-30T20:30:06.768863Z",
     "iopub.status.idle": "2021-10-30T20:30:07.573126Z",
     "shell.execute_reply": "2021-10-30T20:30:07.574471Z"
    },
    "papermill": {
     "duration": 0.856194,
     "end_time": "2021-10-30T20:30:07.575118",
     "exception": false,
     "start_time": "2021-10-30T20:30:06.718924",
     "status": "completed"
    },
    "tags": []
   },
   "outputs": [],
   "source": [
    "import pandas as pd\n",
    "import sqlite3"
   ]
  },
  {
   "cell_type": "code",
   "execution_count": 2,
   "id": "innovative-syndrome",
   "metadata": {
    "execution": {
     "iopub.execute_input": "2021-10-30T20:30:07.625569Z",
     "iopub.status.busy": "2021-10-30T20:30:07.623609Z",
     "iopub.status.idle": "2021-10-30T20:30:08.309777Z",
     "shell.execute_reply": "2021-10-30T20:30:08.311208Z"
    },
    "papermill": {
     "duration": 0.71609,
     "end_time": "2021-10-30T20:30:08.311648",
     "exception": false,
     "start_time": "2021-10-30T20:30:07.595558",
     "status": "completed"
    },
    "tags": []
   },
   "outputs": [],
   "source": [
    "timestamps = pd.read_sql(\"select distinct record_time from EBAY_TOP_BERLIN order by record_time desc limit 2\", sqlite3.connect(\"UsedObjects.db\"))"
   ]
  },
  {
   "cell_type": "code",
   "execution_count": 3,
   "id": "periodic-identification",
   "metadata": {
    "execution": {
     "iopub.execute_input": "2021-10-30T20:30:08.388095Z",
     "iopub.status.busy": "2021-10-30T20:30:08.386045Z",
     "iopub.status.idle": "2021-10-30T20:30:08.406076Z",
     "shell.execute_reply": "2021-10-30T20:30:08.407304Z"
    },
    "papermill": {
     "duration": 0.069779,
     "end_time": "2021-10-30T20:30:08.407699",
     "exception": false,
     "start_time": "2021-10-30T20:30:08.337920",
     "status": "completed"
    },
    "tags": []
   },
   "outputs": [
    {
     "data": {
      "text/html": [
       "<div>\n",
       "<style scoped>\n",
       "    .dataframe tbody tr th:only-of-type {\n",
       "        vertical-align: middle;\n",
       "    }\n",
       "\n",
       "    .dataframe tbody tr th {\n",
       "        vertical-align: top;\n",
       "    }\n",
       "\n",
       "    .dataframe thead th {\n",
       "        text-align: right;\n",
       "    }\n",
       "</style>\n",
       "<table border=\"1\" class=\"dataframe\">\n",
       "  <thead>\n",
       "    <tr style=\"text-align: right;\">\n",
       "      <th></th>\n",
       "      <th>RECORD_TIME</th>\n",
       "    </tr>\n",
       "  </thead>\n",
       "  <tbody>\n",
       "    <tr>\n",
       "      <th>0</th>\n",
       "      <td>2021-10-30 22:30</td>\n",
       "    </tr>\n",
       "    <tr>\n",
       "      <th>1</th>\n",
       "      <td>2021-10-30 22:00</td>\n",
       "    </tr>\n",
       "  </tbody>\n",
       "</table>\n",
       "</div>"
      ],
      "text/plain": [
       "        RECORD_TIME\n",
       "0  2021-10-30 22:30\n",
       "1  2021-10-30 22:00"
      ]
     },
     "execution_count": 3,
     "metadata": {},
     "output_type": "execute_result"
    }
   ],
   "source": [
    "timestamps"
   ]
  },
  {
   "cell_type": "code",
   "execution_count": 4,
   "id": "alternate-victory",
   "metadata": {
    "execution": {
     "iopub.execute_input": "2021-10-30T20:30:08.484829Z",
     "iopub.status.busy": "2021-10-30T20:30:08.482479Z",
     "iopub.status.idle": "2021-10-30T20:30:09.466838Z",
     "shell.execute_reply": "2021-10-30T20:30:09.468041Z"
    },
    "papermill": {
     "duration": 1.038782,
     "end_time": "2021-10-30T20:30:09.468439",
     "exception": false,
     "start_time": "2021-10-30T20:30:08.429657",
     "status": "completed"
    },
    "tags": []
   },
   "outputs": [],
   "source": [
    "df = pd.read_sql(\"select * from EBAY_TOP_BERLIN where record_time in (select distinct record_time from EBAY_TOP_BERLIN order by record_time desc limit 2)\", sqlite3.connect(\"UsedObjects.db\"))"
   ]
  },
  {
   "cell_type": "code",
   "execution_count": 5,
   "id": "popular-active",
   "metadata": {
    "execution": {
     "iopub.execute_input": "2021-10-30T20:30:09.539707Z",
     "iopub.status.busy": "2021-10-30T20:30:09.527544Z",
     "iopub.status.idle": "2021-10-30T20:30:09.555920Z",
     "shell.execute_reply": "2021-10-30T20:30:09.557261Z"
    },
    "papermill": {
     "duration": 0.0683,
     "end_time": "2021-10-30T20:30:09.557678",
     "exception": false,
     "start_time": "2021-10-30T20:30:09.489378",
     "status": "completed"
    },
    "tags": []
   },
   "outputs": [],
   "source": [
    "df_pivot = df.pivot_table(index=\"PRODUCT\", columns = \"RECORD_TIME\", values = \"LISTING_COUNT\")"
   ]
  },
  {
   "cell_type": "code",
   "execution_count": 6,
   "id": "union-huntington",
   "metadata": {
    "execution": {
     "iopub.execute_input": "2021-10-30T20:30:09.614224Z",
     "iopub.status.busy": "2021-10-30T20:30:09.612198Z",
     "iopub.status.idle": "2021-10-30T20:30:09.617358Z",
     "shell.execute_reply": "2021-10-30T20:30:09.618601Z"
    },
    "papermill": {
     "duration": 0.039875,
     "end_time": "2021-10-30T20:30:09.619003",
     "exception": false,
     "start_time": "2021-10-30T20:30:09.579128",
     "status": "completed"
    },
    "tags": []
   },
   "outputs": [],
   "source": [
    "df_pivot.columns = [\"stamp_1\", \"stamp_2\"]\n",
    "df_pivot_diff = df_pivot.diff(axis=1)"
   ]
  },
  {
   "cell_type": "code",
   "execution_count": 7,
   "id": "fifth-motion",
   "metadata": {
    "execution": {
     "iopub.execute_input": "2021-10-30T20:30:09.673378Z",
     "iopub.status.busy": "2021-10-30T20:30:09.670787Z",
     "iopub.status.idle": "2021-10-30T20:30:11.143809Z",
     "shell.execute_reply": "2021-10-30T20:30:11.145233Z"
    },
    "papermill": {
     "duration": 1.506155,
     "end_time": "2021-10-30T20:30:11.145690",
     "exception": false,
     "start_time": "2021-10-30T20:30:09.639535",
     "status": "completed"
    },
    "tags": []
   },
   "outputs": [
    {
     "data": {
      "text/plain": [
       "<AxesSubplot:ylabel='PRODUCT'>"
      ]
     },
     "execution_count": 7,
     "metadata": {},
     "output_type": "execute_result"
    },
    {
     "data": {
      "image/png": "[encoded data removed]",
      "text/plain": [
       "<Figure size 432x288 with 1 Axes>"
      ]
     },
     "metadata": {
      "needs_background": "light"
     },
     "output_type": "display_data"
    }
   ],
   "source": [
    "df_pivot_diff.sort_values(\"stamp_2\", ascending = False)[\"stamp_2\"].head(10).plot.barh()"
   ]
  },
  {
   "cell_type": "code",
   "execution_count": null,
   "id": "extra-executive",
   "metadata": {
    "papermill": {
     "duration": 0.02247,
     "end_time": "2021-10-30T20:30:11.192423",
     "exception": false,
     "start_time": "2021-10-30T20:30:11.169953",
     "status": "completed"
    },
    "tags": []
   },
   "outputs": [],
   "source": []
  }
 ],
 "metadata": {
  "kernelspec": {
   "display_name": "Python 3",
   "language": "python",
   "name": "python3"
  },
  "language_info": {
   "codemirror_mode": {
    "name": "ipython",
    "version": 3
   },
   "file_extension": ".py",
   "mimetype": "text/x-python",
   "name": "python",
   "nbconvert_exporter": "python",
   "pygments_lexer": "ipython3",
   "version": "3.9.5"
  },
  "papermill": {
   "default_parameters": {},
   "duration": 7.52142,
   "end_time": "2021-10-30T20:30:11.835722",
   "environment_variables": {},
   "exception": null,
   "input_path": "eBay_Overview.ipynb",
   "output_path": "eBay_Overview.ipynb",
   "parameters": {},
   "start_time": "2021-10-30T20:30:04.314302",
   "version": "2.3.3"
  }
 },
 "nbformat": 4,
 "nbformat_minor": 5
}