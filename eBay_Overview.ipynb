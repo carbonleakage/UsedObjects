{
 "cells": [
  {
   "cell_type": "code",
   "execution_count": 1,
   "id": "reverse-picking",
   "metadata": {
    "execution": {
     "iopub.execute_input": "2021-09-14T17:30:06.897050Z",
     "iopub.status.busy": "2021-09-14T17:30:06.895068Z",
     "iopub.status.idle": "2021-09-14T17:30:07.701951Z",
     "shell.execute_reply": "2021-09-14T17:30:07.703363Z"
    },
    "papermill": {
     "duration": 0.859079,
     "end_time": "2021-09-14T17:30:07.704004",
     "exception": false,
     "start_time": "2021-09-14T17:30:06.844925",
     "status": "completed"
    },
    "tags": []
   },
   "outputs": [],
   "source": [
    "import pandas as pd\n",
    "import sqlite3"
   ]
  },
  {
   "cell_type": "code",
   "execution_count": 2,
   "id": "innovative-syndrome",
   "metadata": {
    "execution": {
     "iopub.execute_input": "2021-09-14T17:30:07.754638Z",
     "iopub.status.busy": "2021-09-14T17:30:07.752762Z",
     "iopub.status.idle": "2021-09-14T17:30:08.036671Z",
     "shell.execute_reply": "2021-09-14T17:30:08.037880Z"
    },
    "papermill": {
     "duration": 0.313487,
     "end_time": "2021-09-14T17:30:08.038277",
     "exception": false,
     "start_time": "2021-09-14T17:30:07.724790",
     "status": "completed"
    },
    "tags": []
   },
   "outputs": [],
   "source": [
    "timestamps = pd.read_sql(\"select distinct record_time from EBAY_TOP_BERLIN order by record_time desc limit 2\", sqlite3.connect(\"UsedObjects.db\"))"
   ]
  },
  {
   "cell_type": "code",
   "execution_count": 3,
   "id": "periodic-identification",
   "metadata": {
    "execution": {
     "iopub.execute_input": "2021-09-14T17:30:08.101620Z",
     "iopub.status.busy": "2021-09-14T17:30:08.099585Z",
     "iopub.status.idle": "2021-09-14T17:30:08.119596Z",
     "shell.execute_reply": "2021-09-14T17:30:08.120830Z"
    },
    "papermill": {
     "duration": 0.063555,
     "end_time": "2021-09-14T17:30:08.121258",
     "exception": false,
     "start_time": "2021-09-14T17:30:08.057703",
     "status": "completed"
    },
    "tags": []
   },
   "outputs": [
    {
     "data": {
      "text/html": [
       "<div>\n",
       "<style scoped>\n",
       "    .dataframe tbody tr th:only-of-type {\n",
       "        vertical-align: middle;\n",
       "    }\n",
       "\n",
       "    .dataframe tbody tr th {\n",
       "        vertical-align: top;\n",
       "    }\n",
       "\n",
       "    .dataframe thead th {\n",
       "        text-align: right;\n",
       "    }\n",
       "</style>\n",
       "<table border=\"1\" class=\"dataframe\">\n",
       "  <thead>\n",
       "    <tr style=\"text-align: right;\">\n",
       "      <th></th>\n",
       "      <th>RECORD_TIME</th>\n",
       "    </tr>\n",
       "  </thead>\n",
       "  <tbody>\n",
       "    <tr>\n",
       "      <th>0</th>\n",
       "      <td>2021-09-14 19:30</td>\n",
       "    </tr>\n",
       "    <tr>\n",
       "      <th>1</th>\n",
       "      <td>2021-09-14 19:00</td>\n",
       "    </tr>\n",
       "  </tbody>\n",
       "</table>\n",
       "</div>"
      ],
      "text/plain": [
       "        RECORD_TIME\n",
       "0  2021-09-14 19:30\n",
       "1  2021-09-14 19:00"
      ]
     },
     "execution_count": 3,
     "metadata": {},
     "output_type": "execute_result"
    }
   ],
   "source": [
    "timestamps"
   ]
  },
  {
   "cell_type": "code",
   "execution_count": 4,
   "id": "alternate-victory",
   "metadata": {
    "execution": {
     "iopub.execute_input": "2021-09-14T17:30:08.175260Z",
     "iopub.status.busy": "2021-09-14T17:30:08.172885Z",
     "iopub.status.idle": "2021-09-14T17:30:08.593409Z",
     "shell.execute_reply": "2021-09-14T17:30:08.594717Z"
    },
    "papermill": {
     "duration": 0.451113,
     "end_time": "2021-09-14T17:30:08.595212",
     "exception": false,
     "start_time": "2021-09-14T17:30:08.144099",
     "status": "completed"
    },
    "tags": []
   },
   "outputs": [],
   "source": [
    "df = pd.read_sql(\"select * from EBAY_TOP_BERLIN where record_time in (select distinct record_time from EBAY_TOP_BERLIN order by record_time desc limit 2)\", sqlite3.connect(\"UsedObjects.db\"))"
   ]
  },
  {
   "cell_type": "code",
   "execution_count": 5,
   "id": "popular-active",
   "metadata": {
    "execution": {
     "iopub.execute_input": "2021-09-14T17:30:08.676081Z",
     "iopub.status.busy": "2021-09-14T17:30:08.664906Z",
     "iopub.status.idle": "2021-09-14T17:30:08.691530Z",
     "shell.execute_reply": "2021-09-14T17:30:08.693010Z"
    },
    "papermill": {
     "duration": 0.072064,
     "end_time": "2021-09-14T17:30:08.693422",
     "exception": false,
     "start_time": "2021-09-14T17:30:08.621358",
     "status": "completed"
    },
    "tags": []
   },
   "outputs": [],
   "source": [
    "df_pivot = df.pivot_table(index=\"PRODUCT\", columns = \"RECORD_TIME\", values = \"LISTING_COUNT\")"
   ]
  },
  {
   "cell_type": "code",
   "execution_count": 6,
   "id": "union-huntington",
   "metadata": {
    "execution": {
     "iopub.execute_input": "2021-09-14T17:30:08.753157Z",
     "iopub.status.busy": "2021-09-14T17:30:08.750644Z",
     "iopub.status.idle": "2021-09-14T17:30:08.756674Z",
     "shell.execute_reply": "2021-09-14T17:30:08.757879Z"
    },
    "papermill": {
     "duration": 0.042387,
     "end_time": "2021-09-14T17:30:08.758308",
     "exception": false,
     "start_time": "2021-09-14T17:30:08.715921",
     "status": "completed"
    },
    "tags": []
   },
   "outputs": [],
   "source": [
    "df_pivot.columns = [\"stamp_1\", \"stamp_2\"]\n",
    "df_pivot_diff = df_pivot.diff(axis=1)"
   ]
  },
  {
   "cell_type": "code",
   "execution_count": 7,
   "id": "fifth-motion",
   "metadata": {
    "execution": {
     "iopub.execute_input": "2021-09-14T17:30:08.812874Z",
     "iopub.status.busy": "2021-09-14T17:30:08.810340Z",
     "iopub.status.idle": "2021-09-14T17:30:10.268812Z",
     "shell.execute_reply": "2021-09-14T17:30:10.270119Z"
    },
    "papermill": {
     "duration": 1.491524,
     "end_time": "2021-09-14T17:30:10.270533",
     "exception": false,
     "start_time": "2021-09-14T17:30:08.779009",
     "status": "completed"
    },
    "tags": []
   },
   "outputs": [
    {
     "data": {
      "text/plain": [
       "<AxesSubplot:ylabel='PRODUCT'>"
      ]
     },
     "execution_count": 7,
     "metadata": {},
     "output_type": "execute_result"
    },
    {
     "data": {
      "image/png": "[encoded data removed]",
      "text/plain": [
       "<Figure size 432x288 with 1 Axes>"
      ]
     },
     "metadata": {
      "needs_background": "light"
     },
     "output_type": "display_data"
    }
   ],
   "source": [
    "df_pivot_diff.sort_values(\"stamp_2\", ascending = False)[\"stamp_2\"].head(10).plot.barh()"
   ]
  },
  {
   "cell_type": "code",
   "execution_count": null,
   "id": "extra-executive",
   "metadata": {
    "papermill": {
     "duration": 0.022308,
     "end_time": "2021-09-14T17:30:10.316776",
     "exception": false,
     "start_time": "2021-09-14T17:30:10.294468",
     "status": "completed"
    },
    "tags": []
   },
   "outputs": [],
   "source": []
  }
 ],
 "metadata": {
  "kernelspec": {
   "display_name": "Python 3",
   "language": "python",
   "name": "python3"
  },
  "language_info": {
   "codemirror_mode": {
    "name": "ipython",
    "version": 3
   },
   "file_extension": ".py",
   "mimetype": "text/x-python",
   "name": "python",
   "nbconvert_exporter": "python",
   "pygments_lexer": "ipython3",
   "version": "3.9.5"
  },
  "papermill": {
   "default_parameters": {},
   "duration": 6.526164,
   "end_time": "2021-09-14T17:30:10.959347",
   "environment_variables": {},
   "exception": null,
   "input_path": "eBay_Overview.ipynb",
   "output_path": "eBay_Overview.ipynb",
   "parameters": {},
   "start_time": "2021-09-14T17:30:04.433183",
   "version": "2.3.3"
  }
 },
 "nbformat": 4,
 "nbformat_minor": 5
}