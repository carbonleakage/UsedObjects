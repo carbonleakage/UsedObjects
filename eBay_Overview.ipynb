{
 "cells": [
  {
   "cell_type": "code",
   "execution_count": 1,
   "id": "reverse-picking",
   "metadata": {
    "execution": {
     "iopub.execute_input": "2021-09-24T11:30:07.713102Z",
     "iopub.status.busy": "2021-09-24T11:30:07.711143Z",
     "iopub.status.idle": "2021-09-24T11:30:08.516616Z",
     "shell.execute_reply": "2021-09-24T11:30:08.517856Z"
    },
    "papermill": {
     "duration": 0.859416,
     "end_time": "2021-09-24T11:30:08.518458",
     "exception": false,
     "start_time": "2021-09-24T11:30:07.659042",
     "status": "completed"
    },
    "tags": []
   },
   "outputs": [],
   "source": [
    "import pandas as pd\n",
    "import sqlite3"
   ]
  },
  {
   "cell_type": "code",
   "execution_count": 2,
   "id": "innovative-syndrome",
   "metadata": {
    "execution": {
     "iopub.execute_input": "2021-09-24T11:30:08.569379Z",
     "iopub.status.busy": "2021-09-24T11:30:08.567529Z",
     "iopub.status.idle": "2021-09-24T11:30:08.931057Z",
     "shell.execute_reply": "2021-09-24T11:30:08.932454Z"
    },
    "papermill": {
     "duration": 0.393469,
     "end_time": "2021-09-24T11:30:08.932890",
     "exception": false,
     "start_time": "2021-09-24T11:30:08.539421",
     "status": "completed"
    },
    "tags": []
   },
   "outputs": [],
   "source": [
    "timestamps = pd.read_sql(\"select distinct record_time from EBAY_TOP_BERLIN order by record_time desc limit 2\", sqlite3.connect(\"UsedObjects.db\"))"
   ]
  },
  {
   "cell_type": "code",
   "execution_count": 3,
   "id": "periodic-identification",
   "metadata": {
    "execution": {
     "iopub.execute_input": "2021-09-24T11:30:08.999998Z",
     "iopub.status.busy": "2021-09-24T11:30:08.997919Z",
     "iopub.status.idle": "2021-09-24T11:30:09.017902Z",
     "shell.execute_reply": "2021-09-24T11:30:09.019515Z"
    },
    "papermill": {
     "duration": 0.067051,
     "end_time": "2021-09-24T11:30:09.019965",
     "exception": false,
     "start_time": "2021-09-24T11:30:08.952914",
     "status": "completed"
    },
    "tags": []
   },
   "outputs": [
    {
     "data": {
      "text/html": [
       "<div>\n",
       "<style scoped>\n",
       "    .dataframe tbody tr th:only-of-type {\n",
       "        vertical-align: middle;\n",
       "    }\n",
       "\n",
       "    .dataframe tbody tr th {\n",
       "        vertical-align: top;\n",
       "    }\n",
       "\n",
       "    .dataframe thead th {\n",
       "        text-align: right;\n",
       "    }\n",
       "</style>\n",
       "<table border=\"1\" class=\"dataframe\">\n",
       "  <thead>\n",
       "    <tr style=\"text-align: right;\">\n",
       "      <th></th>\n",
       "      <th>RECORD_TIME</th>\n",
       "    </tr>\n",
       "  </thead>\n",
       "  <tbody>\n",
       "    <tr>\n",
       "      <th>0</th>\n",
       "      <td>2021-09-24 13:30</td>\n",
       "    </tr>\n",
       "    <tr>\n",
       "      <th>1</th>\n",
       "      <td>2021-09-24 13:00</td>\n",
       "    </tr>\n",
       "  </tbody>\n",
       "</table>\n",
       "</div>"
      ],
      "text/plain": [
       "        RECORD_TIME\n",
       "0  2021-09-24 13:30\n",
       "1  2021-09-24 13:00"
      ]
     },
     "execution_count": 3,
     "metadata": {},
     "output_type": "execute_result"
    }
   ],
   "source": [
    "timestamps"
   ]
  },
  {
   "cell_type": "code",
   "execution_count": 4,
   "id": "alternate-victory",
   "metadata": {
    "execution": {
     "iopub.execute_input": "2021-09-24T11:30:09.071676Z",
     "iopub.status.busy": "2021-09-24T11:30:09.069754Z",
     "iopub.status.idle": "2021-09-24T11:30:09.607977Z",
     "shell.execute_reply": "2021-09-24T11:30:09.609251Z"
    },
    "papermill": {
     "duration": 0.568307,
     "end_time": "2021-09-24T11:30:09.609645",
     "exception": false,
     "start_time": "2021-09-24T11:30:09.041338",
     "status": "completed"
    },
    "tags": []
   },
   "outputs": [],
   "source": [
    "df = pd.read_sql(\"select * from EBAY_TOP_BERLIN where record_time in (select distinct record_time from EBAY_TOP_BERLIN order by record_time desc limit 2)\", sqlite3.connect(\"UsedObjects.db\"))"
   ]
  },
  {
   "cell_type": "code",
   "execution_count": 5,
   "id": "popular-active",
   "metadata": {
    "execution": {
     "iopub.execute_input": "2021-09-24T11:30:09.688543Z",
     "iopub.status.busy": "2021-09-24T11:30:09.676603Z",
     "iopub.status.idle": "2021-09-24T11:30:09.704698Z",
     "shell.execute_reply": "2021-09-24T11:30:09.706062Z"
    },
    "papermill": {
     "duration": 0.070833,
     "end_time": "2021-09-24T11:30:09.706495",
     "exception": false,
     "start_time": "2021-09-24T11:30:09.635662",
     "status": "completed"
    },
    "tags": []
   },
   "outputs": [],
   "source": [
    "df_pivot = df.pivot_table(index=\"PRODUCT\", columns = \"RECORD_TIME\", values = \"LISTING_COUNT\")"
   ]
  },
  {
   "cell_type": "code",
   "execution_count": 6,
   "id": "union-huntington",
   "metadata": {
    "execution": {
     "iopub.execute_input": "2021-09-24T11:30:09.763587Z",
     "iopub.status.busy": "2021-09-24T11:30:09.761496Z",
     "iopub.status.idle": "2021-09-24T11:30:09.766911Z",
     "shell.execute_reply": "2021-09-24T11:30:09.768220Z"
    },
    "papermill": {
     "duration": 0.04098,
     "end_time": "2021-09-24T11:30:09.768637",
     "exception": false,
     "start_time": "2021-09-24T11:30:09.727657",
     "status": "completed"
    },
    "tags": []
   },
   "outputs": [],
   "source": [
    "df_pivot.columns = [\"stamp_1\", \"stamp_2\"]\n",
    "df_pivot_diff = df_pivot.diff(axis=1)"
   ]
  },
  {
   "cell_type": "code",
   "execution_count": 7,
   "id": "fifth-motion",
   "metadata": {
    "execution": {
     "iopub.execute_input": "2021-09-24T11:30:09.824356Z",
     "iopub.status.busy": "2021-09-24T11:30:09.821811Z",
     "iopub.status.idle": "2021-09-24T11:30:11.324275Z",
     "shell.execute_reply": "2021-09-24T11:30:11.325467Z"
    },
    "papermill": {
     "duration": 1.53577,
     "end_time": "2021-09-24T11:30:11.325896",
     "exception": false,
     "start_time": "2021-09-24T11:30:09.790126",
     "status": "completed"
    },
    "tags": []
   },
   "outputs": [
    {
     "data": {
      "text/plain": [
       "<AxesSubplot:ylabel='PRODUCT'>"
      ]
     },
     "execution_count": 7,
     "metadata": {},
     "output_type": "execute_result"
    },
    {
     "data": {
      "image/png": "[encoded data removed]",
      "text/plain": [
       "<Figure size 432x288 with 1 Axes>"
      ]
     },
     "metadata": {
      "needs_background": "light"
     },
     "output_type": "display_data"
    }
   ],
   "source": [
    "df_pivot_diff.sort_values(\"stamp_2\", ascending = False)[\"stamp_2\"].head(10).plot.barh()"
   ]
  },
  {
   "cell_type": "code",
   "execution_count": null,
   "id": "extra-executive",
   "metadata": {
    "papermill": {
     "duration": 0.022511,
     "end_time": "2021-09-24T11:30:11.372416",
     "exception": false,
     "start_time": "2021-09-24T11:30:11.349905",
     "status": "completed"
    },
    "tags": []
   },
   "outputs": [],
   "source": []
  }
 ],
 "metadata": {
  "kernelspec": {
   "display_name": "Python 3",
   "language": "python",
   "name": "python3"
  },
  "language_info": {
   "codemirror_mode": {
    "name": "ipython",
    "version": 3
   },
   "file_extension": ".py",
   "mimetype": "text/x-python",
   "name": "python",
   "nbconvert_exporter": "python",
   "pygments_lexer": "ipython3",
   "version": "3.9.5"
  },
  "papermill": {
   "default_parameters": {},
   "duration": 6.753336,
   "end_time": "2021-09-24T11:30:12.016284",
   "environment_variables": {},
   "exception": null,
   "input_path": "eBay_Overview.ipynb",
   "output_path": "eBay_Overview.ipynb",
   "parameters": {},
   "start_time": "2021-09-24T11:30:05.262948",
   "version": "2.3.3"
  }
 },
 "nbformat": 4,
 "nbformat_minor": 5
}