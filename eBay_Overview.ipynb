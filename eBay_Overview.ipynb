{
 "cells": [
  {
   "cell_type": "code",
   "execution_count": 1,
   "id": "reverse-picking",
   "metadata": {
    "execution": {
     "iopub.execute_input": "2021-10-02T05:30:07.080483Z",
     "iopub.status.busy": "2021-10-02T05:30:07.078494Z",
     "iopub.status.idle": "2021-10-02T05:30:07.883200Z",
     "shell.execute_reply": "2021-10-02T05:30:07.884545Z"
    },
    "papermill": {
     "duration": 0.856558,
     "end_time": "2021-10-02T05:30:07.885205",
     "exception": false,
     "start_time": "2021-10-02T05:30:07.028647",
     "status": "completed"
    },
    "tags": []
   },
   "outputs": [],
   "source": [
    "import pandas as pd\n",
    "import sqlite3"
   ]
  },
  {
   "cell_type": "code",
   "execution_count": 2,
   "id": "innovative-syndrome",
   "metadata": {
    "execution": {
     "iopub.execute_input": "2021-10-02T05:30:07.936562Z",
     "iopub.status.busy": "2021-10-02T05:30:07.934616Z",
     "iopub.status.idle": "2021-10-02T05:30:08.364308Z",
     "shell.execute_reply": "2021-10-02T05:30:08.365494Z"
    },
    "papermill": {
     "duration": 0.458775,
     "end_time": "2021-10-02T05:30:08.365887",
     "exception": false,
     "start_time": "2021-10-02T05:30:07.907112",
     "status": "completed"
    },
    "tags": []
   },
   "outputs": [],
   "source": [
    "timestamps = pd.read_sql(\"select distinct record_time from EBAY_TOP_BERLIN order by record_time desc limit 2\", sqlite3.connect(\"UsedObjects.db\"))"
   ]
  },
  {
   "cell_type": "code",
   "execution_count": 3,
   "id": "periodic-identification",
   "metadata": {
    "execution": {
     "iopub.execute_input": "2021-10-02T05:30:08.429863Z",
     "iopub.status.busy": "2021-10-02T05:30:08.427847Z",
     "iopub.status.idle": "2021-10-02T05:30:08.447815Z",
     "shell.execute_reply": "2021-10-02T05:30:08.449061Z"
    },
    "papermill": {
     "duration": 0.062921,
     "end_time": "2021-10-02T05:30:08.449462",
     "exception": false,
     "start_time": "2021-10-02T05:30:08.386541",
     "status": "completed"
    },
    "tags": []
   },
   "outputs": [
    {
     "data": {
      "text/html": [
       "<div>\n",
       "<style scoped>\n",
       "    .dataframe tbody tr th:only-of-type {\n",
       "        vertical-align: middle;\n",
       "    }\n",
       "\n",
       "    .dataframe tbody tr th {\n",
       "        vertical-align: top;\n",
       "    }\n",
       "\n",
       "    .dataframe thead th {\n",
       "        text-align: right;\n",
       "    }\n",
       "</style>\n",
       "<table border=\"1\" class=\"dataframe\">\n",
       "  <thead>\n",
       "    <tr style=\"text-align: right;\">\n",
       "      <th></th>\n",
       "      <th>RECORD_TIME</th>\n",
       "    </tr>\n",
       "  </thead>\n",
       "  <tbody>\n",
       "    <tr>\n",
       "      <th>0</th>\n",
       "      <td>2021-10-02 07:30</td>\n",
       "    </tr>\n",
       "    <tr>\n",
       "      <th>1</th>\n",
       "      <td>2021-10-02 07:00</td>\n",
       "    </tr>\n",
       "  </tbody>\n",
       "</table>\n",
       "</div>"
      ],
      "text/plain": [
       "        RECORD_TIME\n",
       "0  2021-10-02 07:30\n",
       "1  2021-10-02 07:00"
      ]
     },
     "execution_count": 3,
     "metadata": {},
     "output_type": "execute_result"
    }
   ],
   "source": [
    "timestamps"
   ]
  },
  {
   "cell_type": "code",
   "execution_count": 4,
   "id": "alternate-victory",
   "metadata": {
    "execution": {
     "iopub.execute_input": "2021-10-02T05:30:08.502444Z",
     "iopub.status.busy": "2021-10-02T05:30:08.500180Z",
     "iopub.status.idle": "2021-10-02T05:30:09.129644Z",
     "shell.execute_reply": "2021-10-02T05:30:09.128346Z"
    },
    "papermill": {
     "duration": 0.658241,
     "end_time": "2021-10-02T05:30:09.129975",
     "exception": false,
     "start_time": "2021-10-02T05:30:08.471734",
     "status": "completed"
    },
    "tags": []
   },
   "outputs": [],
   "source": [
    "df = pd.read_sql(\"select * from EBAY_TOP_BERLIN where record_time in (select distinct record_time from EBAY_TOP_BERLIN order by record_time desc limit 2)\", sqlite3.connect(\"UsedObjects.db\"))"
   ]
  },
  {
   "cell_type": "code",
   "execution_count": 5,
   "id": "popular-active",
   "metadata": {
    "execution": {
     "iopub.execute_input": "2021-10-02T05:30:09.200321Z",
     "iopub.status.busy": "2021-10-02T05:30:09.188661Z",
     "iopub.status.idle": "2021-10-02T05:30:09.217480Z",
     "shell.execute_reply": "2021-10-02T05:30:09.218745Z"
    },
    "papermill": {
     "duration": 0.068347,
     "end_time": "2021-10-02T05:30:09.219206",
     "exception": false,
     "start_time": "2021-10-02T05:30:09.150859",
     "status": "completed"
    },
    "tags": []
   },
   "outputs": [],
   "source": [
    "df_pivot = df.pivot_table(index=\"PRODUCT\", columns = \"RECORD_TIME\", values = \"LISTING_COUNT\")"
   ]
  },
  {
   "cell_type": "code",
   "execution_count": 6,
   "id": "union-huntington",
   "metadata": {
    "execution": {
     "iopub.execute_input": "2021-10-02T05:30:09.275824Z",
     "iopub.status.busy": "2021-10-02T05:30:09.273727Z",
     "iopub.status.idle": "2021-10-02T05:30:09.279142Z",
     "shell.execute_reply": "2021-10-02T05:30:09.280472Z"
    },
    "papermill": {
     "duration": 0.040873,
     "end_time": "2021-10-02T05:30:09.280893",
     "exception": false,
     "start_time": "2021-10-02T05:30:09.240020",
     "status": "completed"
    },
    "tags": []
   },
   "outputs": [],
   "source": [
    "df_pivot.columns = [\"stamp_1\", \"stamp_2\"]\n",
    "df_pivot_diff = df_pivot.diff(axis=1)"
   ]
  },
  {
   "cell_type": "code",
   "execution_count": 7,
   "id": "fifth-motion",
   "metadata": {
    "execution": {
     "iopub.execute_input": "2021-10-02T05:30:09.334264Z",
     "iopub.status.busy": "2021-10-02T05:30:09.331902Z",
     "iopub.status.idle": "2021-10-02T05:30:10.791149Z",
     "shell.execute_reply": "2021-10-02T05:30:10.792424Z"
    },
    "papermill": {
     "duration": 1.491868,
     "end_time": "2021-10-02T05:30:10.792844",
     "exception": false,
     "start_time": "2021-10-02T05:30:09.300976",
     "status": "completed"
    },
    "tags": []
   },
   "outputs": [
    {
     "data": {
      "text/plain": [
       "<AxesSubplot:ylabel='PRODUCT'>"
      ]
     },
     "execution_count": 7,
     "metadata": {},
     "output_type": "execute_result"
    },
    {
     "data": {
      "image/png": "[encoded data removed]",
      "text/plain": [
       "<Figure size 432x288 with 1 Axes>"
      ]
     },
     "metadata": {
      "needs_background": "light"
     },
     "output_type": "display_data"
    }
   ],
   "source": [
    "df_pivot_diff.sort_values(\"stamp_2\", ascending = False)[\"stamp_2\"].head(10).plot.barh()"
   ]
  },
  {
   "cell_type": "code",
   "execution_count": null,
   "id": "extra-executive",
   "metadata": {
    "papermill": {
     "duration": 0.022015,
     "end_time": "2021-10-02T05:30:10.838304",
     "exception": false,
     "start_time": "2021-10-02T05:30:10.816289",
     "status": "completed"
    },
    "tags": []
   },
   "outputs": [],
   "source": []
  }
 ],
 "metadata": {
  "kernelspec": {
   "display_name": "Python 3",
   "language": "python",
   "name": "python3"
  },
  "language_info": {
   "codemirror_mode": {
    "name": "ipython",
    "version": 3
   },
   "file_extension": ".py",
   "mimetype": "text/x-python",
   "name": "python",
   "nbconvert_exporter": "python",
   "pygments_lexer": "ipython3",
   "version": "3.9.5"
  },
  "papermill": {
   "default_parameters": {},
   "duration": 7.822692,
   "end_time": "2021-10-02T05:30:12.448794",
   "environment_variables": {},
   "exception": null,
   "input_path": "eBay_Overview.ipynb",
   "output_path": "eBay_Overview.ipynb",
   "parameters": {},
   "start_time": "2021-10-02T05:30:04.626102",
   "version": "2.3.3"
  }
 },
 "nbformat": 4,
 "nbformat_minor": 5
}