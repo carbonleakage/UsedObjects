{
 "cells": [
  {
   "cell_type": "code",
   "execution_count": 1,
   "id": "reverse-picking",
   "metadata": {
    "execution": {
     "iopub.execute_input": "2021-08-29T07:30:07.267563Z",
     "iopub.status.busy": "2021-08-29T07:30:07.265643Z",
     "iopub.status.idle": "2021-08-29T07:30:08.068389Z",
     "shell.execute_reply": "2021-08-29T07:30:08.069674Z"
    },
    "papermill": {
     "duration": 0.852777,
     "end_time": "2021-08-29T07:30:08.070285",
     "exception": false,
     "start_time": "2021-08-29T07:30:07.217508",
     "status": "completed"
    },
    "tags": []
   },
   "outputs": [],
   "source": [
    "import pandas as pd\n",
    "import sqlite3"
   ]
  },
  {
   "cell_type": "code",
   "execution_count": 2,
   "id": "innovative-syndrome",
   "metadata": {
    "execution": {
     "iopub.execute_input": "2021-08-29T07:30:08.121361Z",
     "iopub.status.busy": "2021-08-29T07:30:08.119406Z",
     "iopub.status.idle": "2021-08-29T07:30:08.278087Z",
     "shell.execute_reply": "2021-08-29T07:30:08.279536Z"
    },
    "papermill": {
     "duration": 0.188303,
     "end_time": "2021-08-29T07:30:08.279999",
     "exception": false,
     "start_time": "2021-08-29T07:30:08.091696",
     "status": "completed"
    },
    "tags": []
   },
   "outputs": [],
   "source": [
    "timestamps = pd.read_sql(\"select distinct record_time from EBAY_TOP_BERLIN order by record_time desc limit 2\", sqlite3.connect(\"UsedObjects.db\"))"
   ]
  },
  {
   "cell_type": "code",
   "execution_count": 3,
   "id": "periodic-identification",
   "metadata": {
    "execution": {
     "iopub.execute_input": "2021-08-29T07:30:08.347193Z",
     "iopub.status.busy": "2021-08-29T07:30:08.345172Z",
     "iopub.status.idle": "2021-08-29T07:30:08.365187Z",
     "shell.execute_reply": "2021-08-29T07:30:08.366484Z"
    },
    "papermill": {
     "duration": 0.066734,
     "end_time": "2021-08-29T07:30:08.366892",
     "exception": false,
     "start_time": "2021-08-29T07:30:08.300158",
     "status": "completed"
    },
    "tags": []
   },
   "outputs": [
    {
     "data": {
      "text/html": [
       "<div>\n",
       "<style scoped>\n",
       "    .dataframe tbody tr th:only-of-type {\n",
       "        vertical-align: middle;\n",
       "    }\n",
       "\n",
       "    .dataframe tbody tr th {\n",
       "        vertical-align: top;\n",
       "    }\n",
       "\n",
       "    .dataframe thead th {\n",
       "        text-align: right;\n",
       "    }\n",
       "</style>\n",
       "<table border=\"1\" class=\"dataframe\">\n",
       "  <thead>\n",
       "    <tr style=\"text-align: right;\">\n",
       "      <th></th>\n",
       "      <th>RECORD_TIME</th>\n",
       "    </tr>\n",
       "  </thead>\n",
       "  <tbody>\n",
       "    <tr>\n",
       "      <th>0</th>\n",
       "      <td>2021-08-29 09:30</td>\n",
       "    </tr>\n",
       "    <tr>\n",
       "      <th>1</th>\n",
       "      <td>2021-08-29 09:00</td>\n",
       "    </tr>\n",
       "  </tbody>\n",
       "</table>\n",
       "</div>"
      ],
      "text/plain": [
       "        RECORD_TIME\n",
       "0  2021-08-29 09:30\n",
       "1  2021-08-29 09:00"
      ]
     },
     "execution_count": 3,
     "metadata": {},
     "output_type": "execute_result"
    }
   ],
   "source": [
    "timestamps"
   ]
  },
  {
   "cell_type": "code",
   "execution_count": 4,
   "id": "alternate-victory",
   "metadata": {
    "execution": {
     "iopub.execute_input": "2021-08-29T07:30:08.418183Z",
     "iopub.status.busy": "2021-08-29T07:30:08.415928Z",
     "iopub.status.idle": "2021-08-29T07:30:08.653737Z",
     "shell.execute_reply": "2021-08-29T07:30:08.654962Z"
    },
    "papermill": {
     "duration": 0.267371,
     "end_time": "2021-08-29T07:30:08.655355",
     "exception": false,
     "start_time": "2021-08-29T07:30:08.387984",
     "status": "completed"
    },
    "tags": []
   },
   "outputs": [],
   "source": [
    "df = pd.read_sql(\"select * from EBAY_TOP_BERLIN where record_time in (select distinct record_time from EBAY_TOP_BERLIN order by record_time desc limit 2)\", sqlite3.connect(\"UsedObjects.db\"))"
   ]
  },
  {
   "cell_type": "code",
   "execution_count": 5,
   "id": "popular-active",
   "metadata": {
    "execution": {
     "iopub.execute_input": "2021-08-29T07:30:08.724836Z",
     "iopub.status.busy": "2021-08-29T07:30:08.722585Z",
     "iopub.status.idle": "2021-08-29T07:30:08.749982Z",
     "shell.execute_reply": "2021-08-29T07:30:08.751185Z"
    },
    "papermill": {
     "duration": 0.073687,
     "end_time": "2021-08-29T07:30:08.751611",
     "exception": false,
     "start_time": "2021-08-29T07:30:08.677924",
     "status": "completed"
    },
    "tags": []
   },
   "outputs": [],
   "source": [
    "df_pivot = df.pivot_table(index=\"PRODUCT\", columns = \"RECORD_TIME\", values = \"LISTING_COUNT\")"
   ]
  },
  {
   "cell_type": "code",
   "execution_count": 6,
   "id": "union-huntington",
   "metadata": {
    "execution": {
     "iopub.execute_input": "2021-08-29T07:30:08.806874Z",
     "iopub.status.busy": "2021-08-29T07:30:08.804815Z",
     "iopub.status.idle": "2021-08-29T07:30:08.810018Z",
     "shell.execute_reply": "2021-08-29T07:30:08.811291Z"
    },
    "papermill": {
     "duration": 0.040115,
     "end_time": "2021-08-29T07:30:08.811696",
     "exception": false,
     "start_time": "2021-08-29T07:30:08.771581",
     "status": "completed"
    },
    "tags": []
   },
   "outputs": [],
   "source": [
    "df_pivot.columns = [\"stamp_1\", \"stamp_2\"]\n",
    "df_pivot_diff = df_pivot.diff(axis=1)"
   ]
  },
  {
   "cell_type": "code",
   "execution_count": 7,
   "id": "fifth-motion",
   "metadata": {
    "execution": {
     "iopub.execute_input": "2021-08-29T07:30:08.866425Z",
     "iopub.status.busy": "2021-08-29T07:30:08.863847Z",
     "iopub.status.idle": "2021-08-29T07:30:10.351522Z",
     "shell.execute_reply": "2021-08-29T07:30:10.352996Z"
    },
    "papermill": {
     "duration": 1.520767,
     "end_time": "2021-08-29T07:30:10.353448",
     "exception": false,
     "start_time": "2021-08-29T07:30:08.832681",
     "status": "completed"
    },
    "tags": []
   },
   "outputs": [
    {
     "data": {
      "text/plain": [
       "<AxesSubplot:ylabel='PRODUCT'>"
      ]
     },
     "execution_count": 7,
     "metadata": {},
     "output_type": "execute_result"
    },
    {
     "data": {
      "image/png": "[encoded data removed]",
      "text/plain": [
       "<Figure size 432x288 with 1 Axes>"
      ]
     },
     "metadata": {
      "needs_background": "light"
     },
     "output_type": "display_data"
    }
   ],
   "source": [
    "df_pivot_diff.sort_values(\"stamp_2\", ascending = False)[\"stamp_2\"].head(10).plot.barh()"
   ]
  },
  {
   "cell_type": "code",
   "execution_count": null,
   "id": "extra-executive",
   "metadata": {
    "papermill": {
     "duration": 0.02227,
     "end_time": "2021-08-29T07:30:10.399704",
     "exception": false,
     "start_time": "2021-08-29T07:30:10.377434",
     "status": "completed"
    },
    "tags": []
   },
   "outputs": [],
   "source": []
  }
 ],
 "metadata": {
  "kernelspec": {
   "display_name": "Python 3",
   "language": "python",
   "name": "python3"
  },
  "language_info": {
   "codemirror_mode": {
    "name": "ipython",
    "version": 3
   },
   "file_extension": ".py",
   "mimetype": "text/x-python",
   "name": "python",
   "nbconvert_exporter": "python",
   "pygments_lexer": "ipython3",
   "version": "3.9.5"
  },
  "papermill": {
   "default_parameters": {},
   "duration": 6.820939,
   "end_time": "2021-08-29T07:30:11.635143",
   "environment_variables": {},
   "exception": null,
   "input_path": "eBay_Overview.ipynb",
   "output_path": "eBay_Overview.ipynb",
   "parameters": {},
   "start_time": "2021-08-29T07:30:04.814204",
   "version": "2.3.3"
  }
 },
 "nbformat": 4,
 "nbformat_minor": 5
}