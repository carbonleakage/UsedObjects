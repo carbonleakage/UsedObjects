{
 "cells": [
  {
   "cell_type": "code",
   "execution_count": 1,
   "id": "reverse-picking",
   "metadata": {
    "execution": {
     "iopub.execute_input": "2021-09-09T11:00:06.581341Z",
     "iopub.status.busy": "2021-09-09T11:00:06.579231Z",
     "iopub.status.idle": "2021-09-09T11:00:07.393293Z",
     "shell.execute_reply": "2021-09-09T11:00:07.391527Z"
    },
    "papermill": {
     "duration": 0.866743,
     "end_time": "2021-09-09T11:00:07.393726",
     "exception": false,
     "start_time": "2021-09-09T11:00:06.526983",
     "status": "completed"
    },
    "tags": []
   },
   "outputs": [],
   "source": [
    "import pandas as pd\n",
    "import sqlite3"
   ]
  },
  {
   "cell_type": "code",
   "execution_count": 2,
   "id": "innovative-syndrome",
   "metadata": {
    "execution": {
     "iopub.execute_input": "2021-09-09T11:00:07.444836Z",
     "iopub.status.busy": "2021-09-09T11:00:07.442408Z",
     "iopub.status.idle": "2021-09-09T11:00:07.694119Z",
     "shell.execute_reply": "2021-09-09T11:00:07.695401Z"
    },
    "papermill": {
     "duration": 0.28174,
     "end_time": "2021-09-09T11:00:07.695845",
     "exception": false,
     "start_time": "2021-09-09T11:00:07.414105",
     "status": "completed"
    },
    "tags": []
   },
   "outputs": [],
   "source": [
    "timestamps = pd.read_sql(\"select distinct record_time from EBAY_TOP_BERLIN order by record_time desc limit 2\", sqlite3.connect(\"UsedObjects.db\"))"
   ]
  },
  {
   "cell_type": "code",
   "execution_count": 3,
   "id": "periodic-identification",
   "metadata": {
    "execution": {
     "iopub.execute_input": "2021-09-09T11:00:07.761655Z",
     "iopub.status.busy": "2021-09-09T11:00:07.759622Z",
     "iopub.status.idle": "2021-09-09T11:00:07.779850Z",
     "shell.execute_reply": "2021-09-09T11:00:07.781138Z"
    },
    "papermill": {
     "duration": 0.066391,
     "end_time": "2021-09-09T11:00:07.781550",
     "exception": false,
     "start_time": "2021-09-09T11:00:07.715159",
     "status": "completed"
    },
    "tags": []
   },
   "outputs": [
    {
     "data": {
      "text/html": [
       "<div>\n",
       "<style scoped>\n",
       "    .dataframe tbody tr th:only-of-type {\n",
       "        vertical-align: middle;\n",
       "    }\n",
       "\n",
       "    .dataframe tbody tr th {\n",
       "        vertical-align: top;\n",
       "    }\n",
       "\n",
       "    .dataframe thead th {\n",
       "        text-align: right;\n",
       "    }\n",
       "</style>\n",
       "<table border=\"1\" class=\"dataframe\">\n",
       "  <thead>\n",
       "    <tr style=\"text-align: right;\">\n",
       "      <th></th>\n",
       "      <th>RECORD_TIME</th>\n",
       "    </tr>\n",
       "  </thead>\n",
       "  <tbody>\n",
       "    <tr>\n",
       "      <th>0</th>\n",
       "      <td>2021-09-09 13:00</td>\n",
       "    </tr>\n",
       "    <tr>\n",
       "      <th>1</th>\n",
       "      <td>2021-09-09 12:30</td>\n",
       "    </tr>\n",
       "  </tbody>\n",
       "</table>\n",
       "</div>"
      ],
      "text/plain": [
       "        RECORD_TIME\n",
       "0  2021-09-09 13:00\n",
       "1  2021-09-09 12:30"
      ]
     },
     "execution_count": 3,
     "metadata": {},
     "output_type": "execute_result"
    }
   ],
   "source": [
    "timestamps"
   ]
  },
  {
   "cell_type": "code",
   "execution_count": 4,
   "id": "alternate-victory",
   "metadata": {
    "execution": {
     "iopub.execute_input": "2021-09-09T11:00:07.832661Z",
     "iopub.status.busy": "2021-09-09T11:00:07.830611Z",
     "iopub.status.idle": "2021-09-09T11:00:08.199831Z",
     "shell.execute_reply": "2021-09-09T11:00:08.201106Z"
    },
    "papermill": {
     "duration": 0.399184,
     "end_time": "2021-09-09T11:00:08.201504",
     "exception": false,
     "start_time": "2021-09-09T11:00:07.802320",
     "status": "completed"
    },
    "tags": []
   },
   "outputs": [],
   "source": [
    "df = pd.read_sql(\"select * from EBAY_TOP_BERLIN where record_time in (select distinct record_time from EBAY_TOP_BERLIN order by record_time desc limit 2)\", sqlite3.connect(\"UsedObjects.db\"))"
   ]
  },
  {
   "cell_type": "code",
   "execution_count": 5,
   "id": "popular-active",
   "metadata": {
    "execution": {
     "iopub.execute_input": "2021-09-09T11:00:08.280437Z",
     "iopub.status.busy": "2021-09-09T11:00:08.267980Z",
     "iopub.status.idle": "2021-09-09T11:00:08.296095Z",
     "shell.execute_reply": "2021-09-09T11:00:08.297383Z"
    },
    "papermill": {
     "duration": 0.070694,
     "end_time": "2021-09-09T11:00:08.297799",
     "exception": false,
     "start_time": "2021-09-09T11:00:08.227105",
     "status": "completed"
    },
    "tags": []
   },
   "outputs": [],
   "source": [
    "df_pivot = df.pivot_table(index=\"PRODUCT\", columns = \"RECORD_TIME\", values = \"LISTING_COUNT\")"
   ]
  },
  {
   "cell_type": "code",
   "execution_count": 6,
   "id": "union-huntington",
   "metadata": {
    "execution": {
     "iopub.execute_input": "2021-09-09T11:00:08.352608Z",
     "iopub.status.busy": "2021-09-09T11:00:08.350502Z",
     "iopub.status.idle": "2021-09-09T11:00:08.355952Z",
     "shell.execute_reply": "2021-09-09T11:00:08.357233Z"
    },
    "papermill": {
     "duration": 0.039991,
     "end_time": "2021-09-09T11:00:08.357645",
     "exception": false,
     "start_time": "2021-09-09T11:00:08.317654",
     "status": "completed"
    },
    "tags": []
   },
   "outputs": [],
   "source": [
    "df_pivot.columns = [\"stamp_1\", \"stamp_2\"]\n",
    "df_pivot_diff = df_pivot.diff(axis=1)"
   ]
  },
  {
   "cell_type": "code",
   "execution_count": 7,
   "id": "fifth-motion",
   "metadata": {
    "execution": {
     "iopub.execute_input": "2021-09-09T11:00:08.414056Z",
     "iopub.status.busy": "2021-09-09T11:00:08.411408Z",
     "iopub.status.idle": "2021-09-09T11:00:09.901175Z",
     "shell.execute_reply": "2021-09-09T11:00:09.902435Z"
    },
    "papermill": {
     "duration": 1.523368,
     "end_time": "2021-09-09T11:00:09.902848",
     "exception": false,
     "start_time": "2021-09-09T11:00:08.379480",
     "status": "completed"
    },
    "tags": []
   },
   "outputs": [
    {
     "data": {
      "text/plain": [
       "<AxesSubplot:ylabel='PRODUCT'>"
      ]
     },
     "execution_count": 7,
     "metadata": {},
     "output_type": "execute_result"
    },
    {
     "data": {
      "image/png": "[encoded data removed]",
      "text/plain": [
       "<Figure size 432x288 with 1 Axes>"
      ]
     },
     "metadata": {
      "needs_background": "light"
     },
     "output_type": "display_data"
    }
   ],
   "source": [
    "df_pivot_diff.sort_values(\"stamp_2\", ascending = False)[\"stamp_2\"].head(10).plot.barh()"
   ]
  },
  {
   "cell_type": "code",
   "execution_count": null,
   "id": "extra-executive",
   "metadata": {
    "papermill": {
     "duration": 0.021856,
     "end_time": "2021-09-09T11:00:09.948301",
     "exception": false,
     "start_time": "2021-09-09T11:00:09.926445",
     "status": "completed"
    },
    "tags": []
   },
   "outputs": [],
   "source": []
  }
 ],
 "metadata": {
  "kernelspec": {
   "display_name": "Python 3",
   "language": "python",
   "name": "python3"
  },
  "language_info": {
   "codemirror_mode": {
    "name": "ipython",
    "version": 3
   },
   "file_extension": ".py",
   "mimetype": "text/x-python",
   "name": "python",
   "nbconvert_exporter": "python",
   "pygments_lexer": "ipython3",
   "version": "3.9.5"
  },
  "papermill": {
   "default_parameters": {},
   "duration": 6.485972,
   "end_time": "2021-09-09T11:00:10.588430",
   "environment_variables": {},
   "exception": null,
   "input_path": "eBay_Overview.ipynb",
   "output_path": "eBay_Overview.ipynb",
   "parameters": {},
   "start_time": "2021-09-09T11:00:04.102458",
   "version": "2.3.3"
  }
 },
 "nbformat": 4,
 "nbformat_minor": 5
}