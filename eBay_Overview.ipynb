{
 "cells": [
  {
   "cell_type": "code",
   "execution_count": 1,
   "id": "reverse-picking",
   "metadata": {
    "execution": {
     "iopub.execute_input": "2021-10-11T17:30:07.298429Z",
     "iopub.status.busy": "2021-10-11T17:30:07.296349Z",
     "iopub.status.idle": "2021-10-11T17:30:08.097322Z",
     "shell.execute_reply": "2021-10-11T17:30:08.095470Z"
    },
    "papermill": {
     "duration": 0.851875,
     "end_time": "2021-10-11T17:30:08.097750",
     "exception": false,
     "start_time": "2021-10-11T17:30:07.245875",
     "status": "completed"
    },
    "tags": []
   },
   "outputs": [],
   "source": [
    "import pandas as pd\n",
    "import sqlite3"
   ]
  },
  {
   "cell_type": "code",
   "execution_count": 2,
   "id": "innovative-syndrome",
   "metadata": {
    "execution": {
     "iopub.execute_input": "2021-10-11T17:30:08.150488Z",
     "iopub.status.busy": "2021-10-11T17:30:08.148040Z",
     "iopub.status.idle": "2021-10-11T17:30:08.665129Z",
     "shell.execute_reply": "2021-10-11T17:30:08.666449Z"
    },
    "papermill": {
     "duration": 0.546966,
     "end_time": "2021-10-11T17:30:08.666860",
     "exception": false,
     "start_time": "2021-10-11T17:30:08.119894",
     "status": "completed"
    },
    "tags": []
   },
   "outputs": [],
   "source": [
    "timestamps = pd.read_sql(\"select distinct record_time from EBAY_TOP_BERLIN order by record_time desc limit 2\", sqlite3.connect(\"UsedObjects.db\"))"
   ]
  },
  {
   "cell_type": "code",
   "execution_count": 3,
   "id": "periodic-identification",
   "metadata": {
    "execution": {
     "iopub.execute_input": "2021-10-11T17:30:08.732034Z",
     "iopub.status.busy": "2021-10-11T17:30:08.729973Z",
     "iopub.status.idle": "2021-10-11T17:30:08.749973Z",
     "shell.execute_reply": "2021-10-11T17:30:08.751299Z"
    },
    "papermill": {
     "duration": 0.064498,
     "end_time": "2021-10-11T17:30:08.751717",
     "exception": false,
     "start_time": "2021-10-11T17:30:08.687219",
     "status": "completed"
    },
    "tags": []
   },
   "outputs": [
    {
     "data": {
      "text/html": [
       "<div>\n",
       "<style scoped>\n",
       "    .dataframe tbody tr th:only-of-type {\n",
       "        vertical-align: middle;\n",
       "    }\n",
       "\n",
       "    .dataframe tbody tr th {\n",
       "        vertical-align: top;\n",
       "    }\n",
       "\n",
       "    .dataframe thead th {\n",
       "        text-align: right;\n",
       "    }\n",
       "</style>\n",
       "<table border=\"1\" class=\"dataframe\">\n",
       "  <thead>\n",
       "    <tr style=\"text-align: right;\">\n",
       "      <th></th>\n",
       "      <th>RECORD_TIME</th>\n",
       "    </tr>\n",
       "  </thead>\n",
       "  <tbody>\n",
       "    <tr>\n",
       "      <th>0</th>\n",
       "      <td>2021-10-11 19:30</td>\n",
       "    </tr>\n",
       "    <tr>\n",
       "      <th>1</th>\n",
       "      <td>2021-10-11 19:00</td>\n",
       "    </tr>\n",
       "  </tbody>\n",
       "</table>\n",
       "</div>"
      ],
      "text/plain": [
       "        RECORD_TIME\n",
       "0  2021-10-11 19:30\n",
       "1  2021-10-11 19:00"
      ]
     },
     "execution_count": 3,
     "metadata": {},
     "output_type": "execute_result"
    }
   ],
   "source": [
    "timestamps"
   ]
  },
  {
   "cell_type": "code",
   "execution_count": 4,
   "id": "alternate-victory",
   "metadata": {
    "execution": {
     "iopub.execute_input": "2021-10-11T17:30:08.811685Z",
     "iopub.status.busy": "2021-10-11T17:30:08.809792Z",
     "iopub.status.idle": "2021-10-11T17:30:09.572360Z",
     "shell.execute_reply": "2021-10-11T17:30:09.573774Z"
    },
    "papermill": {
     "duration": 0.795835,
     "end_time": "2021-10-11T17:30:09.574193",
     "exception": false,
     "start_time": "2021-10-11T17:30:08.778358",
     "status": "completed"
    },
    "tags": []
   },
   "outputs": [],
   "source": [
    "df = pd.read_sql(\"select * from EBAY_TOP_BERLIN where record_time in (select distinct record_time from EBAY_TOP_BERLIN order by record_time desc limit 2)\", sqlite3.connect(\"UsedObjects.db\"))"
   ]
  },
  {
   "cell_type": "code",
   "execution_count": 5,
   "id": "popular-active",
   "metadata": {
    "execution": {
     "iopub.execute_input": "2021-10-11T17:30:09.643142Z",
     "iopub.status.busy": "2021-10-11T17:30:09.631446Z",
     "iopub.status.idle": "2021-10-11T17:30:09.658619Z",
     "shell.execute_reply": "2021-10-11T17:30:09.659887Z"
    },
    "papermill": {
     "duration": 0.065474,
     "end_time": "2021-10-11T17:30:09.660286",
     "exception": false,
     "start_time": "2021-10-11T17:30:09.594812",
     "status": "completed"
    },
    "tags": []
   },
   "outputs": [],
   "source": [
    "df_pivot = df.pivot_table(index=\"PRODUCT\", columns = \"RECORD_TIME\", values = \"LISTING_COUNT\")"
   ]
  },
  {
   "cell_type": "code",
   "execution_count": 6,
   "id": "union-huntington",
   "metadata": {
    "execution": {
     "iopub.execute_input": "2021-10-11T17:30:09.720596Z",
     "iopub.status.busy": "2021-10-11T17:30:09.718120Z",
     "iopub.status.idle": "2021-10-11T17:30:09.723992Z",
     "shell.execute_reply": "2021-10-11T17:30:09.725409Z"
    },
    "papermill": {
     "duration": 0.042509,
     "end_time": "2021-10-11T17:30:09.725839",
     "exception": false,
     "start_time": "2021-10-11T17:30:09.683330",
     "status": "completed"
    },
    "tags": []
   },
   "outputs": [],
   "source": [
    "df_pivot.columns = [\"stamp_1\", \"stamp_2\"]\n",
    "df_pivot_diff = df_pivot.diff(axis=1)"
   ]
  },
  {
   "cell_type": "code",
   "execution_count": 7,
   "id": "fifth-motion",
   "metadata": {
    "execution": {
     "iopub.execute_input": "2021-10-11T17:30:09.780078Z",
     "iopub.status.busy": "2021-10-11T17:30:09.777773Z",
     "iopub.status.idle": "2021-10-11T17:30:11.236342Z",
     "shell.execute_reply": "2021-10-11T17:30:11.237862Z"
    },
    "papermill": {
     "duration": 1.491991,
     "end_time": "2021-10-11T17:30:11.238315",
     "exception": false,
     "start_time": "2021-10-11T17:30:09.746324",
     "status": "completed"
    },
    "tags": []
   },
   "outputs": [
    {
     "data": {
      "text/plain": [
       "<AxesSubplot:ylabel='PRODUCT'>"
      ]
     },
     "execution_count": 7,
     "metadata": {},
     "output_type": "execute_result"
    },
    {
     "data": {
      "image/png": "[encoded data removed]",
      "text/plain": [
       "<Figure size 432x288 with 1 Axes>"
      ]
     },
     "metadata": {
      "needs_background": "light"
     },
     "output_type": "display_data"
    }
   ],
   "source": [
    "df_pivot_diff.sort_values(\"stamp_2\", ascending = False)[\"stamp_2\"].head(10).plot.barh()"
   ]
  },
  {
   "cell_type": "code",
   "execution_count": null,
   "id": "extra-executive",
   "metadata": {
    "papermill": {
     "duration": 0.022048,
     "end_time": "2021-10-11T17:30:11.284799",
     "exception": false,
     "start_time": "2021-10-11T17:30:11.262751",
     "status": "completed"
    },
    "tags": []
   },
   "outputs": [],
   "source": []
  }
 ],
 "metadata": {
  "kernelspec": {
   "display_name": "Python 3",
   "language": "python",
   "name": "python3"
  },
  "language_info": {
   "codemirror_mode": {
    "name": "ipython",
    "version": 3
   },
   "file_extension": ".py",
   "mimetype": "text/x-python",
   "name": "python",
   "nbconvert_exporter": "python",
   "pygments_lexer": "ipython3",
   "version": "3.9.5"
  },
  "papermill": {
   "default_parameters": {},
   "duration": 7.831869,
   "end_time": "2021-10-11T17:30:12.677651",
   "environment_variables": {},
   "exception": null,
   "input_path": "eBay_Overview.ipynb",
   "output_path": "eBay_Overview.ipynb",
   "parameters": {},
   "start_time": "2021-10-11T17:30:04.845782",
   "version": "2.3.3"
  }
 },
 "nbformat": 4,
 "nbformat_minor": 5
}