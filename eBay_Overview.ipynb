{
 "cells": [
  {
   "cell_type": "code",
   "execution_count": 1,
   "id": "reverse-picking",
   "metadata": {
    "execution": {
     "iopub.execute_input": "2021-09-15T13:00:07.357269Z",
     "iopub.status.busy": "2021-09-15T13:00:07.355342Z",
     "iopub.status.idle": "2021-09-15T13:00:08.164115Z",
     "shell.execute_reply": "2021-09-15T13:00:08.165359Z"
    },
    "papermill": {
     "duration": 0.862652,
     "end_time": "2021-09-15T13:00:08.165977",
     "exception": false,
     "start_time": "2021-09-15T13:00:07.303325",
     "status": "completed"
    },
    "tags": []
   },
   "outputs": [],
   "source": [
    "import pandas as pd\n",
    "import sqlite3"
   ]
  },
  {
   "cell_type": "code",
   "execution_count": 2,
   "id": "innovative-syndrome",
   "metadata": {
    "execution": {
     "iopub.execute_input": "2021-09-15T13:00:08.219967Z",
     "iopub.status.busy": "2021-09-15T13:00:08.217579Z",
     "iopub.status.idle": "2021-09-15T13:00:08.510640Z",
     "shell.execute_reply": "2021-09-15T13:00:08.511943Z"
    },
    "papermill": {
     "duration": 0.323371,
     "end_time": "2021-09-15T13:00:08.512345",
     "exception": false,
     "start_time": "2021-09-15T13:00:08.188974",
     "status": "completed"
    },
    "tags": []
   },
   "outputs": [],
   "source": [
    "timestamps = pd.read_sql(\"select distinct record_time from EBAY_TOP_BERLIN order by record_time desc limit 2\", sqlite3.connect(\"UsedObjects.db\"))"
   ]
  },
  {
   "cell_type": "code",
   "execution_count": 3,
   "id": "periodic-identification",
   "metadata": {
    "execution": {
     "iopub.execute_input": "2021-09-15T13:00:08.576697Z",
     "iopub.status.busy": "2021-09-15T13:00:08.574493Z",
     "iopub.status.idle": "2021-09-15T13:00:08.595308Z",
     "shell.execute_reply": "2021-09-15T13:00:08.596463Z"
    },
    "papermill": {
     "duration": 0.064993,
     "end_time": "2021-09-15T13:00:08.596866",
     "exception": false,
     "start_time": "2021-09-15T13:00:08.531873",
     "status": "completed"
    },
    "tags": []
   },
   "outputs": [
    {
     "data": {
      "text/html": [
       "<div>\n",
       "<style scoped>\n",
       "    .dataframe tbody tr th:only-of-type {\n",
       "        vertical-align: middle;\n",
       "    }\n",
       "\n",
       "    .dataframe tbody tr th {\n",
       "        vertical-align: top;\n",
       "    }\n",
       "\n",
       "    .dataframe thead th {\n",
       "        text-align: right;\n",
       "    }\n",
       "</style>\n",
       "<table border=\"1\" class=\"dataframe\">\n",
       "  <thead>\n",
       "    <tr style=\"text-align: right;\">\n",
       "      <th></th>\n",
       "      <th>RECORD_TIME</th>\n",
       "    </tr>\n",
       "  </thead>\n",
       "  <tbody>\n",
       "    <tr>\n",
       "      <th>0</th>\n",
       "      <td>2021-09-15 15:00</td>\n",
       "    </tr>\n",
       "    <tr>\n",
       "      <th>1</th>\n",
       "      <td>2021-09-15 14:30</td>\n",
       "    </tr>\n",
       "  </tbody>\n",
       "</table>\n",
       "</div>"
      ],
      "text/plain": [
       "        RECORD_TIME\n",
       "0  2021-09-15 15:00\n",
       "1  2021-09-15 14:30"
      ]
     },
     "execution_count": 3,
     "metadata": {},
     "output_type": "execute_result"
    }
   ],
   "source": [
    "timestamps"
   ]
  },
  {
   "cell_type": "code",
   "execution_count": 4,
   "id": "alternate-victory",
   "metadata": {
    "execution": {
     "iopub.execute_input": "2021-09-15T13:00:08.650752Z",
     "iopub.status.busy": "2021-09-15T13:00:08.648486Z",
     "iopub.status.idle": "2021-09-15T13:00:09.077407Z",
     "shell.execute_reply": "2021-09-15T13:00:09.078541Z"
    },
    "papermill": {
     "duration": 0.459634,
     "end_time": "2021-09-15T13:00:09.079146",
     "exception": false,
     "start_time": "2021-09-15T13:00:08.619512",
     "status": "completed"
    },
    "tags": []
   },
   "outputs": [],
   "source": [
    "df = pd.read_sql(\"select * from EBAY_TOP_BERLIN where record_time in (select distinct record_time from EBAY_TOP_BERLIN order by record_time desc limit 2)\", sqlite3.connect(\"UsedObjects.db\"))"
   ]
  },
  {
   "cell_type": "code",
   "execution_count": 5,
   "id": "popular-active",
   "metadata": {
    "execution": {
     "iopub.execute_input": "2021-09-15T13:00:09.160855Z",
     "iopub.status.busy": "2021-09-15T13:00:09.147547Z",
     "iopub.status.idle": "2021-09-15T13:00:09.176440Z",
     "shell.execute_reply": "2021-09-15T13:00:09.177654Z"
    },
    "papermill": {
     "duration": 0.071088,
     "end_time": "2021-09-15T13:00:09.178042",
     "exception": false,
     "start_time": "2021-09-15T13:00:09.106954",
     "status": "completed"
    },
    "tags": []
   },
   "outputs": [],
   "source": [
    "df_pivot = df.pivot_table(index=\"PRODUCT\", columns = \"RECORD_TIME\", values = \"LISTING_COUNT\")"
   ]
  },
  {
   "cell_type": "code",
   "execution_count": 6,
   "id": "union-huntington",
   "metadata": {
    "execution": {
     "iopub.execute_input": "2021-09-15T13:00:09.242062Z",
     "iopub.status.busy": "2021-09-15T13:00:09.239909Z",
     "iopub.status.idle": "2021-09-15T13:00:09.245409Z",
     "shell.execute_reply": "2021-09-15T13:00:09.246690Z"
    },
    "papermill": {
     "duration": 0.048405,
     "end_time": "2021-09-15T13:00:09.247164",
     "exception": false,
     "start_time": "2021-09-15T13:00:09.198759",
     "status": "completed"
    },
    "tags": []
   },
   "outputs": [],
   "source": [
    "df_pivot.columns = [\"stamp_1\", \"stamp_2\"]\n",
    "df_pivot_diff = df_pivot.diff(axis=1)"
   ]
  },
  {
   "cell_type": "code",
   "execution_count": 7,
   "id": "fifth-motion",
   "metadata": {
    "execution": {
     "iopub.execute_input": "2021-09-15T13:00:09.301184Z",
     "iopub.status.busy": "2021-09-15T13:00:09.298844Z",
     "iopub.status.idle": "2021-09-15T13:00:10.771556Z",
     "shell.execute_reply": "2021-09-15T13:00:10.772843Z"
    },
    "papermill": {
     "duration": 1.506025,
     "end_time": "2021-09-15T13:00:10.773261",
     "exception": false,
     "start_time": "2021-09-15T13:00:09.267236",
     "status": "completed"
    },
    "tags": []
   },
   "outputs": [
    {
     "data": {
      "text/plain": [
       "<AxesSubplot:ylabel='PRODUCT'>"
      ]
     },
     "execution_count": 7,
     "metadata": {},
     "output_type": "execute_result"
    },
    {
     "data": {
      "image/png": "[encoded data removed]",
      "text/plain": [
       "<Figure size 432x288 with 1 Axes>"
      ]
     },
     "metadata": {
      "needs_background": "light"
     },
     "output_type": "display_data"
    }
   ],
   "source": [
    "df_pivot_diff.sort_values(\"stamp_2\", ascending = False)[\"stamp_2\"].head(10).plot.barh()"
   ]
  },
  {
   "cell_type": "code",
   "execution_count": null,
   "id": "extra-executive",
   "metadata": {
    "papermill": {
     "duration": 0.022342,
     "end_time": "2021-09-15T13:00:10.821116",
     "exception": false,
     "start_time": "2021-09-15T13:00:10.798774",
     "status": "completed"
    },
    "tags": []
   },
   "outputs": [],
   "source": []
  }
 ],
 "metadata": {
  "kernelspec": {
   "display_name": "Python 3",
   "language": "python",
   "name": "python3"
  },
  "language_info": {
   "codemirror_mode": {
    "name": "ipython",
    "version": 3
   },
   "file_extension": ".py",
   "mimetype": "text/x-python",
   "name": "python",
   "nbconvert_exporter": "python",
   "pygments_lexer": "ipython3",
   "version": "3.9.5"
  },
  "papermill": {
   "default_parameters": {},
   "duration": 6.565897,
   "end_time": "2021-09-15T13:00:11.461699",
   "environment_variables": {},
   "exception": null,
   "input_path": "eBay_Overview.ipynb",
   "output_path": "eBay_Overview.ipynb",
   "parameters": {},
   "start_time": "2021-09-15T13:00:04.895802",
   "version": "2.3.3"
  }
 },
 "nbformat": 4,
 "nbformat_minor": 5
}