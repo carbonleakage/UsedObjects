{
 "cells": [
  {
   "cell_type": "code",
   "execution_count": 1,
   "id": "reverse-picking",
   "metadata": {
    "execution": {
     "iopub.execute_input": "2021-11-29T06:30:07.753704Z",
     "iopub.status.busy": "2021-11-29T06:30:07.750936Z",
     "iopub.status.idle": "2021-11-29T06:30:08.674915Z",
     "shell.execute_reply": "2021-11-29T06:30:08.676448Z"
    },
    "papermill": {
     "duration": 0.974491,
     "end_time": "2021-11-29T06:30:08.677241",
     "exception": false,
     "start_time": "2021-11-29T06:30:07.702750",
     "status": "completed"
    },
    "tags": []
   },
   "outputs": [],
   "source": [
    "import pandas as pd\n",
    "import sqlite3"
   ]
  },
  {
   "cell_type": "code",
   "execution_count": 2,
   "id": "innovative-syndrome",
   "metadata": {
    "execution": {
     "iopub.execute_input": "2021-11-29T06:30:08.741635Z",
     "iopub.status.busy": "2021-11-29T06:30:08.738963Z",
     "iopub.status.idle": "2021-11-29T06:30:09.684492Z",
     "shell.execute_reply": "2021-11-29T06:30:09.686230Z"
    },
    "papermill": {
     "duration": 0.982126,
     "end_time": "2021-11-29T06:30:09.686897",
     "exception": false,
     "start_time": "2021-11-29T06:30:08.704771",
     "status": "completed"
    },
    "tags": []
   },
   "outputs": [],
   "source": [
    "timestamps = pd.read_sql(\"select distinct record_time from EBAY_TOP_BERLIN order by record_time desc limit 2\", sqlite3.connect(\"UsedObjects.db\"))"
   ]
  },
  {
   "cell_type": "code",
   "execution_count": 3,
   "id": "periodic-identification",
   "metadata": {
    "execution": {
     "iopub.execute_input": "2021-11-29T06:30:09.761920Z",
     "iopub.status.busy": "2021-11-29T06:30:09.758909Z",
     "iopub.status.idle": "2021-11-29T06:30:09.781074Z",
     "shell.execute_reply": "2021-11-29T06:30:09.782462Z"
    },
    "papermill": {
     "duration": 0.072775,
     "end_time": "2021-11-29T06:30:09.782941",
     "exception": false,
     "start_time": "2021-11-29T06:30:09.710166",
     "status": "completed"
    },
    "tags": []
   },
   "outputs": [
    {
     "data": {
      "text/html": [
       "<div>\n",
       "<style scoped>\n",
       "    .dataframe tbody tr th:only-of-type {\n",
       "        vertical-align: middle;\n",
       "    }\n",
       "\n",
       "    .dataframe tbody tr th {\n",
       "        vertical-align: top;\n",
       "    }\n",
       "\n",
       "    .dataframe thead th {\n",
       "        text-align: right;\n",
       "    }\n",
       "</style>\n",
       "<table border=\"1\" class=\"dataframe\">\n",
       "  <thead>\n",
       "    <tr style=\"text-align: right;\">\n",
       "      <th></th>\n",
       "      <th>RECORD_TIME</th>\n",
       "    </tr>\n",
       "  </thead>\n",
       "  <tbody>\n",
       "    <tr>\n",
       "      <th>0</th>\n",
       "      <td>2021-11-29 07:30</td>\n",
       "    </tr>\n",
       "    <tr>\n",
       "      <th>1</th>\n",
       "      <td>2021-11-29 07:00</td>\n",
       "    </tr>\n",
       "  </tbody>\n",
       "</table>\n",
       "</div>"
      ],
      "text/plain": [
       "        RECORD_TIME\n",
       "0  2021-11-29 07:30\n",
       "1  2021-11-29 07:00"
      ]
     },
     "execution_count": 3,
     "metadata": {},
     "output_type": "execute_result"
    }
   ],
   "source": [
    "timestamps"
   ]
  },
  {
   "cell_type": "code",
   "execution_count": 4,
   "id": "alternate-victory",
   "metadata": {
    "execution": {
     "iopub.execute_input": "2021-11-29T06:30:09.840816Z",
     "iopub.status.busy": "2021-11-29T06:30:09.838685Z",
     "iopub.status.idle": "2021-11-29T06:30:11.231218Z",
     "shell.execute_reply": "2021-11-29T06:30:11.233612Z"
    },
    "papermill": {
     "duration": 1.428923,
     "end_time": "2021-11-29T06:30:11.234149",
     "exception": false,
     "start_time": "2021-11-29T06:30:09.805226",
     "status": "completed"
    },
    "tags": []
   },
   "outputs": [],
   "source": [
    "df = pd.read_sql(\"select * from EBAY_TOP_BERLIN where record_time in (select distinct record_time from EBAY_TOP_BERLIN order by record_time desc limit 2)\", sqlite3.connect(\"UsedObjects.db\"))"
   ]
  },
  {
   "cell_type": "code",
   "execution_count": 5,
   "id": "popular-active",
   "metadata": {
    "execution": {
     "iopub.execute_input": "2021-11-29T06:30:11.299476Z",
     "iopub.status.busy": "2021-11-29T06:30:11.297133Z",
     "iopub.status.idle": "2021-11-29T06:30:11.327938Z",
     "shell.execute_reply": "2021-11-29T06:30:11.329427Z"
    },
    "papermill": {
     "duration": 0.073592,
     "end_time": "2021-11-29T06:30:11.329919",
     "exception": false,
     "start_time": "2021-11-29T06:30:11.256327",
     "status": "completed"
    },
    "tags": []
   },
   "outputs": [],
   "source": [
    "df_pivot = df.pivot_table(index=\"PRODUCT\", columns = \"RECORD_TIME\", values = \"LISTING_COUNT\")"
   ]
  },
  {
   "cell_type": "code",
   "execution_count": 6,
   "id": "union-huntington",
   "metadata": {
    "execution": {
     "iopub.execute_input": "2021-11-29T06:30:11.382857Z",
     "iopub.status.busy": "2021-11-29T06:30:11.380401Z",
     "iopub.status.idle": "2021-11-29T06:30:11.397937Z",
     "shell.execute_reply": "2021-11-29T06:30:11.399524Z"
    },
    "papermill": {
     "duration": 0.049988,
     "end_time": "2021-11-29T06:30:11.399999",
     "exception": false,
     "start_time": "2021-11-29T06:30:11.350011",
     "status": "completed"
    },
    "tags": []
   },
   "outputs": [],
   "source": [
    "df_pivot.columns = [\"stamp_1\", \"stamp_2\"]\n",
    "df_pivot_diff = df_pivot.diff(axis=1)"
   ]
  },
  {
   "cell_type": "code",
   "execution_count": 7,
   "id": "fifth-motion",
   "metadata": {
    "execution": {
     "iopub.execute_input": "2021-11-29T06:30:11.461962Z",
     "iopub.status.busy": "2021-11-29T06:30:11.458740Z",
     "iopub.status.idle": "2021-11-29T06:30:13.425136Z",
     "shell.execute_reply": "2021-11-29T06:30:13.427922Z"
    },
    "papermill": {
     "duration": 2.007125,
     "end_time": "2021-11-29T06:30:13.428818",
     "exception": false,
     "start_time": "2021-11-29T06:30:11.421693",
     "status": "completed"
    },
    "tags": []
   },
   "outputs": [
    {
     "data": {
      "text/plain": [
       "<AxesSubplot:ylabel='PRODUCT'>"
      ]
     },
     "execution_count": 7,
     "metadata": {},
     "output_type": "execute_result"
    },
    {
     "data": {
      "image/png": "[encoded data removed]",
      "text/plain": [
       "<Figure size 432x288 with 1 Axes>"
      ]
     },
     "metadata": {
      "needs_background": "light"
     },
     "output_type": "display_data"
    }
   ],
   "source": [
    "df_pivot_diff.sort_values(\"stamp_2\", ascending = False)[\"stamp_2\"].head(10).plot.barh()"
   ]
  },
  {
   "cell_type": "code",
   "execution_count": null,
   "id": "extra-executive",
   "metadata": {
    "papermill": {
     "duration": 0.028129,
     "end_time": "2021-11-29T06:30:13.487171",
     "exception": false,
     "start_time": "2021-11-29T06:30:13.459042",
     "status": "completed"
    },
    "tags": []
   },
   "outputs": [],
   "source": []
  }
 ],
 "metadata": {
  "kernelspec": {
   "display_name": "Python 3",
   "language": "python",
   "name": "python3"
  },
  "language_info": {
   "codemirror_mode": {
    "name": "ipython",
    "version": 3
   },
   "file_extension": ".py",
   "mimetype": "text/x-python",
   "name": "python",
   "nbconvert_exporter": "python",
   "pygments_lexer": "ipython3",
   "version": "3.9.5"
  },
  "papermill": {
   "default_parameters": {},
   "duration": 9.945451,
   "end_time": "2021-11-29T06:30:14.906685",
   "environment_variables": {},
   "exception": null,
   "input_path": "eBay_Overview.ipynb",
   "output_path": "eBay_Overview.ipynb",
   "parameters": {},
   "start_time": "2021-11-29T06:30:04.961234",
   "version": "2.3.3"
  }
 },
 "nbformat": 4,
 "nbformat_minor": 5
}