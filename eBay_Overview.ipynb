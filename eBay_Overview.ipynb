{
 "cells": [
  {
   "cell_type": "code",
   "execution_count": 1,
   "id": "reverse-picking",
   "metadata": {
    "execution": {
     "iopub.execute_input": "2021-08-28T04:00:07.310781Z",
     "iopub.status.busy": "2021-08-28T04:00:07.308850Z",
     "iopub.status.idle": "2021-08-28T04:00:08.112774Z",
     "shell.execute_reply": "2021-08-28T04:00:08.114132Z"
    },
    "papermill": {
     "duration": 0.858092,
     "end_time": "2021-08-28T04:00:08.114746",
     "exception": false,
     "start_time": "2021-08-28T04:00:07.256654",
     "status": "completed"
    },
    "tags": []
   },
   "outputs": [],
   "source": [
    "import pandas as pd\n",
    "import sqlite3"
   ]
  },
  {
   "cell_type": "code",
   "execution_count": 2,
   "id": "innovative-syndrome",
   "metadata": {
    "execution": {
     "iopub.execute_input": "2021-08-28T04:00:08.165289Z",
     "iopub.status.busy": "2021-08-28T04:00:08.163267Z",
     "iopub.status.idle": "2021-08-28T04:00:08.312965Z",
     "shell.execute_reply": "2021-08-28T04:00:08.311494Z"
    },
    "papermill": {
     "duration": 0.17845,
     "end_time": "2021-08-28T04:00:08.313342",
     "exception": false,
     "start_time": "2021-08-28T04:00:08.134892",
     "status": "completed"
    },
    "tags": []
   },
   "outputs": [],
   "source": [
    "timestamps = pd.read_sql(\"select distinct record_time from EBAY_TOP_BERLIN order by record_time desc limit 2\", sqlite3.connect(\"UsedObjects.db\"))"
   ]
  },
  {
   "cell_type": "code",
   "execution_count": 3,
   "id": "periodic-identification",
   "metadata": {
    "execution": {
     "iopub.execute_input": "2021-08-28T04:00:08.381327Z",
     "iopub.status.busy": "2021-08-28T04:00:08.379292Z",
     "iopub.status.idle": "2021-08-28T04:00:08.399193Z",
     "shell.execute_reply": "2021-08-28T04:00:08.400602Z"
    },
    "papermill": {
     "duration": 0.06693,
     "end_time": "2021-08-28T04:00:08.401064",
     "exception": false,
     "start_time": "2021-08-28T04:00:08.334134",
     "status": "completed"
    },
    "tags": []
   },
   "outputs": [
    {
     "data": {
      "text/html": [
       "<div>\n",
       "<style scoped>\n",
       "    .dataframe tbody tr th:only-of-type {\n",
       "        vertical-align: middle;\n",
       "    }\n",
       "\n",
       "    .dataframe tbody tr th {\n",
       "        vertical-align: top;\n",
       "    }\n",
       "\n",
       "    .dataframe thead th {\n",
       "        text-align: right;\n",
       "    }\n",
       "</style>\n",
       "<table border=\"1\" class=\"dataframe\">\n",
       "  <thead>\n",
       "    <tr style=\"text-align: right;\">\n",
       "      <th></th>\n",
       "      <th>RECORD_TIME</th>\n",
       "    </tr>\n",
       "  </thead>\n",
       "  <tbody>\n",
       "    <tr>\n",
       "      <th>0</th>\n",
       "      <td>2021-08-28 06:00</td>\n",
       "    </tr>\n",
       "    <tr>\n",
       "      <th>1</th>\n",
       "      <td>2021-08-28 05:30</td>\n",
       "    </tr>\n",
       "  </tbody>\n",
       "</table>\n",
       "</div>"
      ],
      "text/plain": [
       "        RECORD_TIME\n",
       "0  2021-08-28 06:00\n",
       "1  2021-08-28 05:30"
      ]
     },
     "execution_count": 3,
     "metadata": {},
     "output_type": "execute_result"
    }
   ],
   "source": [
    "timestamps"
   ]
  },
  {
   "cell_type": "code",
   "execution_count": 4,
   "id": "alternate-victory",
   "metadata": {
    "execution": {
     "iopub.execute_input": "2021-08-28T04:00:08.452688Z",
     "iopub.status.busy": "2021-08-28T04:00:08.450729Z",
     "iopub.status.idle": "2021-08-28T04:00:08.675124Z",
     "shell.execute_reply": "2021-08-28T04:00:08.676386Z"
    },
    "papermill": {
     "duration": 0.254335,
     "end_time": "2021-08-28T04:00:08.676825",
     "exception": false,
     "start_time": "2021-08-28T04:00:08.422490",
     "status": "completed"
    },
    "tags": []
   },
   "outputs": [],
   "source": [
    "df = pd.read_sql(\"select * from EBAY_TOP_BERLIN where record_time in (select distinct record_time from EBAY_TOP_BERLIN order by record_time desc limit 2)\", sqlite3.connect(\"UsedObjects.db\"))"
   ]
  },
  {
   "cell_type": "code",
   "execution_count": 5,
   "id": "popular-active",
   "metadata": {
    "execution": {
     "iopub.execute_input": "2021-08-28T04:00:08.747194Z",
     "iopub.status.busy": "2021-08-28T04:00:08.734712Z",
     "iopub.status.idle": "2021-08-28T04:00:08.763080Z",
     "shell.execute_reply": "2021-08-28T04:00:08.764452Z"
    },
    "papermill": {
     "duration": 0.067228,
     "end_time": "2021-08-28T04:00:08.764875",
     "exception": false,
     "start_time": "2021-08-28T04:00:08.697647",
     "status": "completed"
    },
    "tags": []
   },
   "outputs": [],
   "source": [
    "df_pivot = df.pivot_table(index=\"PRODUCT\", columns = \"RECORD_TIME\", values = \"LISTING_COUNT\")"
   ]
  },
  {
   "cell_type": "code",
   "execution_count": 6,
   "id": "union-huntington",
   "metadata": {
    "execution": {
     "iopub.execute_input": "2021-08-28T04:00:08.830321Z",
     "iopub.status.busy": "2021-08-28T04:00:08.827920Z",
     "iopub.status.idle": "2021-08-28T04:00:08.833418Z",
     "shell.execute_reply": "2021-08-28T04:00:08.834786Z"
    },
    "papermill": {
     "duration": 0.04389,
     "end_time": "2021-08-28T04:00:08.835221",
     "exception": false,
     "start_time": "2021-08-28T04:00:08.791331",
     "status": "completed"
    },
    "tags": []
   },
   "outputs": [],
   "source": [
    "df_pivot.columns = [\"stamp_1\", \"stamp_2\"]\n",
    "df_pivot_diff = df_pivot.diff(axis=1)"
   ]
  },
  {
   "cell_type": "code",
   "execution_count": 7,
   "id": "fifth-motion",
   "metadata": {
    "execution": {
     "iopub.execute_input": "2021-08-28T04:00:08.890161Z",
     "iopub.status.busy": "2021-08-28T04:00:08.887730Z",
     "iopub.status.idle": "2021-08-28T04:00:10.345089Z",
     "shell.execute_reply": "2021-08-28T04:00:10.346470Z"
    },
    "papermill": {
     "duration": 1.490871,
     "end_time": "2021-08-28T04:00:10.346910",
     "exception": false,
     "start_time": "2021-08-28T04:00:08.856039",
     "status": "completed"
    },
    "tags": []
   },
   "outputs": [
    {
     "data": {
      "text/plain": [
       "<AxesSubplot:ylabel='PRODUCT'>"
      ]
     },
     "execution_count": 7,
     "metadata": {},
     "output_type": "execute_result"
    },
    {
     "data": {
      "image/png": "[encoded data removed]",
      "text/plain": [
       "<Figure size 432x288 with 1 Axes>"
      ]
     },
     "metadata": {
      "needs_background": "light"
     },
     "output_type": "display_data"
    }
   ],
   "source": [
    "df_pivot_diff.sort_values(\"stamp_2\", ascending = False)[\"stamp_2\"].head(10).plot.barh()"
   ]
  },
  {
   "cell_type": "code",
   "execution_count": null,
   "id": "extra-executive",
   "metadata": {
    "papermill": {
     "duration": 0.022293,
     "end_time": "2021-08-28T04:00:10.394201",
     "exception": false,
     "start_time": "2021-08-28T04:00:10.371908",
     "status": "completed"
    },
    "tags": []
   },
   "outputs": [],
   "source": []
  }
 ],
 "metadata": {
  "kernelspec": {
   "display_name": "Python 3",
   "language": "python",
   "name": "python3"
  },
  "language_info": {
   "codemirror_mode": {
    "name": "ipython",
    "version": 3
   },
   "file_extension": ".py",
   "mimetype": "text/x-python",
   "name": "python",
   "nbconvert_exporter": "python",
   "pygments_lexer": "ipython3",
   "version": "3.9.5"
  },
  "papermill": {
   "default_parameters": {},
   "duration": 6.824875,
   "end_time": "2021-08-28T04:00:11.695566",
   "environment_variables": {},
   "exception": null,
   "input_path": "eBay_Overview.ipynb",
   "output_path": "eBay_Overview.ipynb",
   "parameters": {},
   "start_time": "2021-08-28T04:00:04.870691",
   "version": "2.3.3"
  }
 },
 "nbformat": 4,
 "nbformat_minor": 5
}