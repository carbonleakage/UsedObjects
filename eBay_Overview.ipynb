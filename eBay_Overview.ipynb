{
 "cells": [
  {
   "cell_type": "code",
   "execution_count": 1,
   "id": "reverse-picking",
   "metadata": {
    "execution": {
     "iopub.execute_input": "2021-11-28T08:30:07.647432Z",
     "iopub.status.busy": "2021-11-28T08:30:07.645076Z",
     "iopub.status.idle": "2021-11-28T08:30:08.596420Z",
     "shell.execute_reply": "2021-11-28T08:30:08.598085Z"
    },
    "papermill": {
     "duration": 1.001503,
     "end_time": "2021-11-28T08:30:08.598980",
     "exception": false,
     "start_time": "2021-11-28T08:30:07.597477",
     "status": "completed"
    },
    "tags": []
   },
   "outputs": [],
   "source": [
    "import pandas as pd\n",
    "import sqlite3"
   ]
  },
  {
   "cell_type": "code",
   "execution_count": 2,
   "id": "innovative-syndrome",
   "metadata": {
    "execution": {
     "iopub.execute_input": "2021-11-28T08:30:08.664429Z",
     "iopub.status.busy": "2021-11-28T08:30:08.662174Z",
     "iopub.status.idle": "2021-11-28T08:30:09.606462Z",
     "shell.execute_reply": "2021-11-28T08:30:09.603920Z"
    },
    "papermill": {
     "duration": 0.976338,
     "end_time": "2021-11-28T08:30:09.607001",
     "exception": false,
     "start_time": "2021-11-28T08:30:08.630663",
     "status": "completed"
    },
    "tags": []
   },
   "outputs": [],
   "source": [
    "timestamps = pd.read_sql(\"select distinct record_time from EBAY_TOP_BERLIN order by record_time desc limit 2\", sqlite3.connect(\"UsedObjects.db\"))"
   ]
  },
  {
   "cell_type": "code",
   "execution_count": 3,
   "id": "periodic-identification",
   "metadata": {
    "execution": {
     "iopub.execute_input": "2021-11-28T08:30:09.674684Z",
     "iopub.status.busy": "2021-11-28T08:30:09.672206Z",
     "iopub.status.idle": "2021-11-28T08:30:09.692524Z",
     "shell.execute_reply": "2021-11-28T08:30:09.693742Z"
    },
    "papermill": {
     "duration": 0.064427,
     "end_time": "2021-11-28T08:30:09.694160",
     "exception": false,
     "start_time": "2021-11-28T08:30:09.629733",
     "status": "completed"
    },
    "tags": []
   },
   "outputs": [
    {
     "data": {
      "text/html": [
       "<div>\n",
       "<style scoped>\n",
       "    .dataframe tbody tr th:only-of-type {\n",
       "        vertical-align: middle;\n",
       "    }\n",
       "\n",
       "    .dataframe tbody tr th {\n",
       "        vertical-align: top;\n",
       "    }\n",
       "\n",
       "    .dataframe thead th {\n",
       "        text-align: right;\n",
       "    }\n",
       "</style>\n",
       "<table border=\"1\" class=\"dataframe\">\n",
       "  <thead>\n",
       "    <tr style=\"text-align: right;\">\n",
       "      <th></th>\n",
       "      <th>RECORD_TIME</th>\n",
       "    </tr>\n",
       "  </thead>\n",
       "  <tbody>\n",
       "    <tr>\n",
       "      <th>0</th>\n",
       "      <td>2021-11-28 09:30</td>\n",
       "    </tr>\n",
       "    <tr>\n",
       "      <th>1</th>\n",
       "      <td>2021-11-28 09:00</td>\n",
       "    </tr>\n",
       "  </tbody>\n",
       "</table>\n",
       "</div>"
      ],
      "text/plain": [
       "        RECORD_TIME\n",
       "0  2021-11-28 09:30\n",
       "1  2021-11-28 09:00"
      ]
     },
     "execution_count": 3,
     "metadata": {},
     "output_type": "execute_result"
    }
   ],
   "source": [
    "timestamps"
   ]
  },
  {
   "cell_type": "code",
   "execution_count": 4,
   "id": "alternate-victory",
   "metadata": {
    "execution": {
     "iopub.execute_input": "2021-11-28T08:30:09.744642Z",
     "iopub.status.busy": "2021-11-28T08:30:09.742769Z",
     "iopub.status.idle": "2021-11-28T08:30:11.111799Z",
     "shell.execute_reply": "2021-11-28T08:30:11.113962Z"
    },
    "papermill": {
     "duration": 1.399618,
     "end_time": "2021-11-28T08:30:11.114445",
     "exception": false,
     "start_time": "2021-11-28T08:30:09.714827",
     "status": "completed"
    },
    "tags": []
   },
   "outputs": [],
   "source": [
    "df = pd.read_sql(\"select * from EBAY_TOP_BERLIN where record_time in (select distinct record_time from EBAY_TOP_BERLIN order by record_time desc limit 2)\", sqlite3.connect(\"UsedObjects.db\"))"
   ]
  },
  {
   "cell_type": "code",
   "execution_count": 5,
   "id": "popular-active",
   "metadata": {
    "execution": {
     "iopub.execute_input": "2021-11-28T08:30:11.187441Z",
     "iopub.status.busy": "2021-11-28T08:30:11.178276Z",
     "iopub.status.idle": "2021-11-28T08:30:11.213202Z",
     "shell.execute_reply": "2021-11-28T08:30:11.214823Z"
    },
    "papermill": {
     "duration": 0.080749,
     "end_time": "2021-11-28T08:30:11.215309",
     "exception": false,
     "start_time": "2021-11-28T08:30:11.134560",
     "status": "completed"
    },
    "tags": []
   },
   "outputs": [],
   "source": [
    "df_pivot = df.pivot_table(index=\"PRODUCT\", columns = \"RECORD_TIME\", values = \"LISTING_COUNT\")"
   ]
  },
  {
   "cell_type": "code",
   "execution_count": 6,
   "id": "union-huntington",
   "metadata": {
    "execution": {
     "iopub.execute_input": "2021-11-28T08:30:11.281853Z",
     "iopub.status.busy": "2021-11-28T08:30:11.279216Z",
     "iopub.status.idle": "2021-11-28T08:30:11.286180Z",
     "shell.execute_reply": "2021-11-28T08:30:11.287640Z"
    },
    "papermill": {
     "duration": 0.051535,
     "end_time": "2021-11-28T08:30:11.288154",
     "exception": false,
     "start_time": "2021-11-28T08:30:11.236619",
     "status": "completed"
    },
    "tags": []
   },
   "outputs": [],
   "source": [
    "df_pivot.columns = [\"stamp_1\", \"stamp_2\"]\n",
    "df_pivot_diff = df_pivot.diff(axis=1)"
   ]
  },
  {
   "cell_type": "code",
   "execution_count": 7,
   "id": "fifth-motion",
   "metadata": {
    "execution": {
     "iopub.execute_input": "2021-11-28T08:30:11.345951Z",
     "iopub.status.busy": "2021-11-28T08:30:11.343380Z",
     "iopub.status.idle": "2021-11-28T08:30:13.336303Z",
     "shell.execute_reply": "2021-11-28T08:30:13.339404Z"
    },
    "papermill": {
     "duration": 2.030275,
     "end_time": "2021-11-28T08:30:13.340385",
     "exception": false,
     "start_time": "2021-11-28T08:30:11.310110",
     "status": "completed"
    },
    "tags": []
   },
   "outputs": [
    {
     "data": {
      "text/plain": [
       "<AxesSubplot:ylabel='PRODUCT'>"
      ]
     },
     "execution_count": 7,
     "metadata": {},
     "output_type": "execute_result"
    },
    {
     "data": {
      "image/png": "[encoded data removed]",
      "text/plain": [
       "<Figure size 432x288 with 1 Axes>"
      ]
     },
     "metadata": {
      "needs_background": "light"
     },
     "output_type": "display_data"
    }
   ],
   "source": [
    "df_pivot_diff.sort_values(\"stamp_2\", ascending = False)[\"stamp_2\"].head(10).plot.barh()"
   ]
  },
  {
   "cell_type": "code",
   "execution_count": null,
   "id": "extra-executive",
   "metadata": {
    "papermill": {
     "duration": 0.027893,
     "end_time": "2021-11-28T08:30:13.402849",
     "exception": false,
     "start_time": "2021-11-28T08:30:13.374956",
     "status": "completed"
    },
    "tags": []
   },
   "outputs": [],
   "source": []
  }
 ],
 "metadata": {
  "kernelspec": {
   "display_name": "Python 3",
   "language": "python",
   "name": "python3"
  },
  "language_info": {
   "codemirror_mode": {
    "name": "ipython",
    "version": 3
   },
   "file_extension": ".py",
   "mimetype": "text/x-python",
   "name": "python",
   "nbconvert_exporter": "python",
   "pygments_lexer": "ipython3",
   "version": "3.9.5"
  },
  "papermill": {
   "default_parameters": {},
   "duration": 9.939667,
   "end_time": "2021-11-28T08:30:14.807909",
   "environment_variables": {},
   "exception": null,
   "input_path": "eBay_Overview.ipynb",
   "output_path": "eBay_Overview.ipynb",
   "parameters": {},
   "start_time": "2021-11-28T08:30:04.868242",
   "version": "2.3.3"
  }
 },
 "nbformat": 4,
 "nbformat_minor": 5
}