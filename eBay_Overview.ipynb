{
 "cells": [
  {
   "cell_type": "code",
   "execution_count": 1,
   "id": "reverse-picking",
   "metadata": {
    "execution": {
     "iopub.execute_input": "2021-09-23T22:00:07.500828Z",
     "iopub.status.busy": "2021-09-23T22:00:07.498900Z",
     "iopub.status.idle": "2021-09-23T22:00:08.301458Z",
     "shell.execute_reply": "2021-09-23T22:00:08.302838Z"
    },
    "papermill": {
     "duration": 0.854757,
     "end_time": "2021-09-23T22:00:08.303508",
     "exception": false,
     "start_time": "2021-09-23T22:00:07.448751",
     "status": "completed"
    },
    "tags": []
   },
   "outputs": [],
   "source": [
    "import pandas as pd\n",
    "import sqlite3"
   ]
  },
  {
   "cell_type": "code",
   "execution_count": 2,
   "id": "innovative-syndrome",
   "metadata": {
    "execution": {
     "iopub.execute_input": "2021-09-23T22:00:08.354386Z",
     "iopub.status.busy": "2021-09-23T22:00:08.352422Z",
     "iopub.status.idle": "2021-09-23T22:00:08.716018Z",
     "shell.execute_reply": "2021-09-23T22:00:08.717283Z"
    },
    "papermill": {
     "duration": 0.393853,
     "end_time": "2021-09-23T22:00:08.717683",
     "exception": false,
     "start_time": "2021-09-23T22:00:08.323830",
     "status": "completed"
    },
    "tags": []
   },
   "outputs": [],
   "source": [
    "timestamps = pd.read_sql(\"select distinct record_time from EBAY_TOP_BERLIN order by record_time desc limit 2\", sqlite3.connect(\"UsedObjects.db\"))"
   ]
  },
  {
   "cell_type": "code",
   "execution_count": 3,
   "id": "periodic-identification",
   "metadata": {
    "execution": {
     "iopub.execute_input": "2021-09-23T22:00:08.784647Z",
     "iopub.status.busy": "2021-09-23T22:00:08.779553Z",
     "iopub.status.idle": "2021-09-23T22:00:08.800997Z",
     "shell.execute_reply": "2021-09-23T22:00:08.802231Z"
    },
    "papermill": {
     "duration": 0.065585,
     "end_time": "2021-09-23T22:00:08.802625",
     "exception": false,
     "start_time": "2021-09-23T22:00:08.737040",
     "status": "completed"
    },
    "tags": []
   },
   "outputs": [
    {
     "data": {
      "text/html": [
       "<div>\n",
       "<style scoped>\n",
       "    .dataframe tbody tr th:only-of-type {\n",
       "        vertical-align: middle;\n",
       "    }\n",
       "\n",
       "    .dataframe tbody tr th {\n",
       "        vertical-align: top;\n",
       "    }\n",
       "\n",
       "    .dataframe thead th {\n",
       "        text-align: right;\n",
       "    }\n",
       "</style>\n",
       "<table border=\"1\" class=\"dataframe\">\n",
       "  <thead>\n",
       "    <tr style=\"text-align: right;\">\n",
       "      <th></th>\n",
       "      <th>RECORD_TIME</th>\n",
       "    </tr>\n",
       "  </thead>\n",
       "  <tbody>\n",
       "    <tr>\n",
       "      <th>0</th>\n",
       "      <td>2021-09-24 00:00</td>\n",
       "    </tr>\n",
       "    <tr>\n",
       "      <th>1</th>\n",
       "      <td>2021-09-23 23:30</td>\n",
       "    </tr>\n",
       "  </tbody>\n",
       "</table>\n",
       "</div>"
      ],
      "text/plain": [
       "        RECORD_TIME\n",
       "0  2021-09-24 00:00\n",
       "1  2021-09-23 23:30"
      ]
     },
     "execution_count": 3,
     "metadata": {},
     "output_type": "execute_result"
    }
   ],
   "source": [
    "timestamps"
   ]
  },
  {
   "cell_type": "code",
   "execution_count": 4,
   "id": "alternate-victory",
   "metadata": {
    "execution": {
     "iopub.execute_input": "2021-09-23T22:00:08.856353Z",
     "iopub.status.busy": "2021-09-23T22:00:08.854245Z",
     "iopub.status.idle": "2021-09-23T22:00:09.417026Z",
     "shell.execute_reply": "2021-09-23T22:00:09.418252Z"
    },
    "papermill": {
     "duration": 0.59331,
     "end_time": "2021-09-23T22:00:09.418646",
     "exception": false,
     "start_time": "2021-09-23T22:00:08.825336",
     "status": "completed"
    },
    "tags": []
   },
   "outputs": [],
   "source": [
    "df = pd.read_sql(\"select * from EBAY_TOP_BERLIN where record_time in (select distinct record_time from EBAY_TOP_BERLIN order by record_time desc limit 2)\", sqlite3.connect(\"UsedObjects.db\"))"
   ]
  },
  {
   "cell_type": "code",
   "execution_count": 5,
   "id": "popular-active",
   "metadata": {
    "execution": {
     "iopub.execute_input": "2021-09-23T22:00:09.505341Z",
     "iopub.status.busy": "2021-09-23T22:00:09.497846Z",
     "iopub.status.idle": "2021-09-23T22:00:09.525324Z",
     "shell.execute_reply": "2021-09-23T22:00:09.526541Z"
    },
    "papermill": {
     "duration": 0.072855,
     "end_time": "2021-09-23T22:00:09.527117",
     "exception": false,
     "start_time": "2021-09-23T22:00:09.454262",
     "status": "completed"
    },
    "tags": []
   },
   "outputs": [],
   "source": [
    "df_pivot = df.pivot_table(index=\"PRODUCT\", columns = \"RECORD_TIME\", values = \"LISTING_COUNT\")"
   ]
  },
  {
   "cell_type": "code",
   "execution_count": 6,
   "id": "union-huntington",
   "metadata": {
    "execution": {
     "iopub.execute_input": "2021-09-23T22:00:09.586538Z",
     "iopub.status.busy": "2021-09-23T22:00:09.584064Z",
     "iopub.status.idle": "2021-09-23T22:00:09.589877Z",
     "shell.execute_reply": "2021-09-23T22:00:09.591234Z"
    },
    "papermill": {
     "duration": 0.042411,
     "end_time": "2021-09-23T22:00:09.591655",
     "exception": false,
     "start_time": "2021-09-23T22:00:09.549244",
     "status": "completed"
    },
    "tags": []
   },
   "outputs": [],
   "source": [
    "df_pivot.columns = [\"stamp_1\", \"stamp_2\"]\n",
    "df_pivot_diff = df_pivot.diff(axis=1)"
   ]
  },
  {
   "cell_type": "code",
   "execution_count": 7,
   "id": "fifth-motion",
   "metadata": {
    "execution": {
     "iopub.execute_input": "2021-09-23T22:00:09.646085Z",
     "iopub.status.busy": "2021-09-23T22:00:09.643823Z",
     "iopub.status.idle": "2021-09-23T22:00:11.120090Z",
     "shell.execute_reply": "2021-09-23T22:00:11.121416Z"
    },
    "papermill": {
     "duration": 1.50953,
     "end_time": "2021-09-23T22:00:11.121834",
     "exception": false,
     "start_time": "2021-09-23T22:00:09.612304",
     "status": "completed"
    },
    "tags": []
   },
   "outputs": [
    {
     "data": {
      "text/plain": [
       "<AxesSubplot:ylabel='PRODUCT'>"
      ]
     },
     "execution_count": 7,
     "metadata": {},
     "output_type": "execute_result"
    },
    {
     "data": {
      "image/png": "[encoded data removed]",
      "text/plain": [
       "<Figure size 432x288 with 1 Axes>"
      ]
     },
     "metadata": {
      "needs_background": "light"
     },
     "output_type": "display_data"
    }
   ],
   "source": [
    "df_pivot_diff.sort_values(\"stamp_2\", ascending = False)[\"stamp_2\"].head(10).plot.barh()"
   ]
  },
  {
   "cell_type": "code",
   "execution_count": null,
   "id": "extra-executive",
   "metadata": {
    "papermill": {
     "duration": 0.022072,
     "end_time": "2021-09-23T22:00:11.167252",
     "exception": false,
     "start_time": "2021-09-23T22:00:11.145180",
     "status": "completed"
    },
    "tags": []
   },
   "outputs": [],
   "source": []
  }
 ],
 "metadata": {
  "kernelspec": {
   "display_name": "Python 3",
   "language": "python",
   "name": "python3"
  },
  "language_info": {
   "codemirror_mode": {
    "name": "ipython",
    "version": 3
   },
   "file_extension": ".py",
   "mimetype": "text/x-python",
   "name": "python",
   "nbconvert_exporter": "python",
   "pygments_lexer": "ipython3",
   "version": "3.9.5"
  },
  "papermill": {
   "default_parameters": {},
   "duration": 6.759788,
   "end_time": "2021-09-23T22:00:11.809618",
   "environment_variables": {},
   "exception": null,
   "input_path": "eBay_Overview.ipynb",
   "output_path": "eBay_Overview.ipynb",
   "parameters": {},
   "start_time": "2021-09-23T22:00:05.049830",
   "version": "2.3.3"
  }
 },
 "nbformat": 4,
 "nbformat_minor": 5
}