{
 "cells": [
  {
   "cell_type": "code",
   "execution_count": 1,
   "id": "reverse-picking",
   "metadata": {
    "execution": {
     "iopub.execute_input": "2021-11-22T01:00:08.975108Z",
     "iopub.status.busy": "2021-11-22T01:00:08.972792Z",
     "iopub.status.idle": "2021-11-22T01:00:09.938489Z",
     "shell.execute_reply": "2021-11-22T01:00:09.939903Z"
    },
    "papermill": {
     "duration": 1.01636,
     "end_time": "2021-11-22T01:00:09.940607",
     "exception": false,
     "start_time": "2021-11-22T01:00:08.924247",
     "status": "completed"
    },
    "tags": []
   },
   "outputs": [],
   "source": [
    "import pandas as pd\n",
    "import sqlite3"
   ]
  },
  {
   "cell_type": "code",
   "execution_count": 2,
   "id": "innovative-syndrome",
   "metadata": {
    "execution": {
     "iopub.execute_input": "2021-11-22T01:00:10.010826Z",
     "iopub.status.busy": "2021-11-22T01:00:10.008571Z",
     "iopub.status.idle": "2021-11-22T01:00:10.885578Z",
     "shell.execute_reply": "2021-11-22T01:00:10.887148Z"
    },
    "papermill": {
     "duration": 0.910966,
     "end_time": "2021-11-22T01:00:10.887697",
     "exception": false,
     "start_time": "2021-11-22T01:00:09.976731",
     "status": "completed"
    },
    "tags": []
   },
   "outputs": [],
   "source": [
    "timestamps = pd.read_sql(\"select distinct record_time from EBAY_TOP_BERLIN order by record_time desc limit 2\", sqlite3.connect(\"UsedObjects.db\"))"
   ]
  },
  {
   "cell_type": "code",
   "execution_count": 3,
   "id": "periodic-identification",
   "metadata": {
    "execution": {
     "iopub.execute_input": "2021-11-22T01:00:10.961280Z",
     "iopub.status.busy": "2021-11-22T01:00:10.958719Z",
     "iopub.status.idle": "2021-11-22T01:00:10.981589Z",
     "shell.execute_reply": "2021-11-22T01:00:10.983144Z"
    },
    "papermill": {
     "duration": 0.07524,
     "end_time": "2021-11-22T01:00:10.983685",
     "exception": false,
     "start_time": "2021-11-22T01:00:10.908445",
     "status": "completed"
    },
    "tags": []
   },
   "outputs": [
    {
     "data": {
      "text/html": [
       "<div>\n",
       "<style scoped>\n",
       "    .dataframe tbody tr th:only-of-type {\n",
       "        vertical-align: middle;\n",
       "    }\n",
       "\n",
       "    .dataframe tbody tr th {\n",
       "        vertical-align: top;\n",
       "    }\n",
       "\n",
       "    .dataframe thead th {\n",
       "        text-align: right;\n",
       "    }\n",
       "</style>\n",
       "<table border=\"1\" class=\"dataframe\">\n",
       "  <thead>\n",
       "    <tr style=\"text-align: right;\">\n",
       "      <th></th>\n",
       "      <th>RECORD_TIME</th>\n",
       "    </tr>\n",
       "  </thead>\n",
       "  <tbody>\n",
       "    <tr>\n",
       "      <th>0</th>\n",
       "      <td>2021-11-22 02:00</td>\n",
       "    </tr>\n",
       "    <tr>\n",
       "      <th>1</th>\n",
       "      <td>2021-11-22 01:30</td>\n",
       "    </tr>\n",
       "  </tbody>\n",
       "</table>\n",
       "</div>"
      ],
      "text/plain": [
       "        RECORD_TIME\n",
       "0  2021-11-22 02:00\n",
       "1  2021-11-22 01:30"
      ]
     },
     "execution_count": 3,
     "metadata": {},
     "output_type": "execute_result"
    }
   ],
   "source": [
    "timestamps"
   ]
  },
  {
   "cell_type": "code",
   "execution_count": 4,
   "id": "alternate-victory",
   "metadata": {
    "execution": {
     "iopub.execute_input": "2021-11-22T01:00:11.040812Z",
     "iopub.status.busy": "2021-11-22T01:00:11.038450Z",
     "iopub.status.idle": "2021-11-22T01:00:12.310655Z",
     "shell.execute_reply": "2021-11-22T01:00:12.312470Z"
    },
    "papermill": {
     "duration": 1.307799,
     "end_time": "2021-11-22T01:00:12.313065",
     "exception": false,
     "start_time": "2021-11-22T01:00:11.005266",
     "status": "completed"
    },
    "tags": []
   },
   "outputs": [],
   "source": [
    "df = pd.read_sql(\"select * from EBAY_TOP_BERLIN where record_time in (select distinct record_time from EBAY_TOP_BERLIN order by record_time desc limit 2)\", sqlite3.connect(\"UsedObjects.db\"))"
   ]
  },
  {
   "cell_type": "code",
   "execution_count": 5,
   "id": "popular-active",
   "metadata": {
    "execution": {
     "iopub.execute_input": "2021-11-22T01:00:12.391570Z",
     "iopub.status.busy": "2021-11-22T01:00:12.378247Z",
     "iopub.status.idle": "2021-11-22T01:00:12.409498Z",
     "shell.execute_reply": "2021-11-22T01:00:12.410867Z"
    },
    "papermill": {
     "duration": 0.074311,
     "end_time": "2021-11-22T01:00:12.411334",
     "exception": false,
     "start_time": "2021-11-22T01:00:12.337023",
     "status": "completed"
    },
    "tags": []
   },
   "outputs": [],
   "source": [
    "df_pivot = df.pivot_table(index=\"PRODUCT\", columns = \"RECORD_TIME\", values = \"LISTING_COUNT\")"
   ]
  },
  {
   "cell_type": "code",
   "execution_count": 6,
   "id": "union-huntington",
   "metadata": {
    "execution": {
     "iopub.execute_input": "2021-11-22T01:00:12.470483Z",
     "iopub.status.busy": "2021-11-22T01:00:12.468101Z",
     "iopub.status.idle": "2021-11-22T01:00:12.475177Z",
     "shell.execute_reply": "2021-11-22T01:00:12.476673Z"
    },
    "papermill": {
     "duration": 0.045944,
     "end_time": "2021-11-22T01:00:12.477231",
     "exception": false,
     "start_time": "2021-11-22T01:00:12.431287",
     "status": "completed"
    },
    "tags": []
   },
   "outputs": [],
   "source": [
    "df_pivot.columns = [\"stamp_1\", \"stamp_2\"]\n",
    "df_pivot_diff = df_pivot.diff(axis=1)"
   ]
  },
  {
   "cell_type": "code",
   "execution_count": 7,
   "id": "fifth-motion",
   "metadata": {
    "execution": {
     "iopub.execute_input": "2021-11-22T01:00:12.538625Z",
     "iopub.status.busy": "2021-11-22T01:00:12.536048Z",
     "iopub.status.idle": "2021-11-22T01:00:14.536265Z",
     "shell.execute_reply": "2021-11-22T01:00:14.537948Z"
    },
    "papermill": {
     "duration": 2.038066,
     "end_time": "2021-11-22T01:00:14.538453",
     "exception": false,
     "start_time": "2021-11-22T01:00:12.500387",
     "status": "completed"
    },
    "tags": []
   },
   "outputs": [
    {
     "data": {
      "text/plain": [
       "<AxesSubplot:ylabel='PRODUCT'>"
      ]
     },
     "execution_count": 7,
     "metadata": {},
     "output_type": "execute_result"
    },
    {
     "data": {
      "image/png": "[encoded data removed]",
      "text/plain": [
       "<Figure size 432x288 with 1 Axes>"
      ]
     },
     "metadata": {
      "needs_background": "light"
     },
     "output_type": "display_data"
    }
   ],
   "source": [
    "df_pivot_diff.sort_values(\"stamp_2\", ascending = False)[\"stamp_2\"].head(10).plot.barh()"
   ]
  },
  {
   "cell_type": "code",
   "execution_count": null,
   "id": "extra-executive",
   "metadata": {
    "papermill": {
     "duration": 0.022253,
     "end_time": "2021-11-22T01:00:14.585873",
     "exception": false,
     "start_time": "2021-11-22T01:00:14.563620",
     "status": "completed"
    },
    "tags": []
   },
   "outputs": [],
   "source": []
  }
 ],
 "metadata": {
  "kernelspec": {
   "display_name": "Python 3",
   "language": "python",
   "name": "python3"
  },
  "language_info": {
   "codemirror_mode": {
    "name": "ipython",
    "version": 3
   },
   "file_extension": ".py",
   "mimetype": "text/x-python",
   "name": "python",
   "nbconvert_exporter": "python",
   "pygments_lexer": "ipython3",
   "version": "3.9.5"
  },
  "papermill": {
   "default_parameters": {},
   "duration": 9.947516,
   "end_time": "2021-11-22T01:00:16.119230",
   "environment_variables": {},
   "exception": null,
   "input_path": "eBay_Overview.ipynb",
   "output_path": "eBay_Overview.ipynb",
   "parameters": {},
   "start_time": "2021-11-22T01:00:06.171714",
   "version": "2.3.3"
  }
 },
 "nbformat": 4,
 "nbformat_minor": 5
}