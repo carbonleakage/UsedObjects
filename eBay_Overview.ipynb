{
 "cells": [
  {
   "cell_type": "code",
   "execution_count": 1,
   "id": "reverse-picking",
   "metadata": {
    "execution": {
     "iopub.execute_input": "2021-09-17T08:30:07.365862Z",
     "iopub.status.busy": "2021-09-17T08:30:07.363926Z",
     "iopub.status.idle": "2021-09-17T08:30:08.167328Z",
     "shell.execute_reply": "2021-09-17T08:30:08.165620Z"
    },
    "papermill": {
     "duration": 0.852485,
     "end_time": "2021-09-17T08:30:08.167766",
     "exception": false,
     "start_time": "2021-09-17T08:30:07.315281",
     "status": "completed"
    },
    "tags": []
   },
   "outputs": [],
   "source": [
    "import pandas as pd\n",
    "import sqlite3"
   ]
  },
  {
   "cell_type": "code",
   "execution_count": 2,
   "id": "innovative-syndrome",
   "metadata": {
    "execution": {
     "iopub.execute_input": "2021-09-17T08:30:08.218544Z",
     "iopub.status.busy": "2021-09-17T08:30:08.216601Z",
     "iopub.status.idle": "2021-09-17T08:30:08.516967Z",
     "shell.execute_reply": "2021-09-17T08:30:08.518163Z"
    },
    "papermill": {
     "duration": 0.330345,
     "end_time": "2021-09-17T08:30:08.518560",
     "exception": false,
     "start_time": "2021-09-17T08:30:08.188215",
     "status": "completed"
    },
    "tags": []
   },
   "outputs": [],
   "source": [
    "timestamps = pd.read_sql(\"select distinct record_time from EBAY_TOP_BERLIN order by record_time desc limit 2\", sqlite3.connect(\"UsedObjects.db\"))"
   ]
  },
  {
   "cell_type": "code",
   "execution_count": 3,
   "id": "periodic-identification",
   "metadata": {
    "execution": {
     "iopub.execute_input": "2021-09-17T08:30:08.581794Z",
     "iopub.status.busy": "2021-09-17T08:30:08.579802Z",
     "iopub.status.idle": "2021-09-17T08:30:08.599516Z",
     "shell.execute_reply": "2021-09-17T08:30:08.600813Z"
    },
    "papermill": {
     "duration": 0.063002,
     "end_time": "2021-09-17T08:30:08.601213",
     "exception": false,
     "start_time": "2021-09-17T08:30:08.538211",
     "status": "completed"
    },
    "tags": []
   },
   "outputs": [
    {
     "data": {
      "text/html": [
       "<div>\n",
       "<style scoped>\n",
       "    .dataframe tbody tr th:only-of-type {\n",
       "        vertical-align: middle;\n",
       "    }\n",
       "\n",
       "    .dataframe tbody tr th {\n",
       "        vertical-align: top;\n",
       "    }\n",
       "\n",
       "    .dataframe thead th {\n",
       "        text-align: right;\n",
       "    }\n",
       "</style>\n",
       "<table border=\"1\" class=\"dataframe\">\n",
       "  <thead>\n",
       "    <tr style=\"text-align: right;\">\n",
       "      <th></th>\n",
       "      <th>RECORD_TIME</th>\n",
       "    </tr>\n",
       "  </thead>\n",
       "  <tbody>\n",
       "    <tr>\n",
       "      <th>0</th>\n",
       "      <td>2021-09-17 10:30</td>\n",
       "    </tr>\n",
       "    <tr>\n",
       "      <th>1</th>\n",
       "      <td>2021-09-17 10:00</td>\n",
       "    </tr>\n",
       "  </tbody>\n",
       "</table>\n",
       "</div>"
      ],
      "text/plain": [
       "        RECORD_TIME\n",
       "0  2021-09-17 10:30\n",
       "1  2021-09-17 10:00"
      ]
     },
     "execution_count": 3,
     "metadata": {},
     "output_type": "execute_result"
    }
   ],
   "source": [
    "timestamps"
   ]
  },
  {
   "cell_type": "code",
   "execution_count": 4,
   "id": "alternate-victory",
   "metadata": {
    "execution": {
     "iopub.execute_input": "2021-09-17T08:30:08.653240Z",
     "iopub.status.busy": "2021-09-17T08:30:08.651077Z",
     "iopub.status.idle": "2021-09-17T08:30:09.098580Z",
     "shell.execute_reply": "2021-09-17T08:30:09.099861Z"
    },
    "papermill": {
     "duration": 0.477946,
     "end_time": "2021-09-17T08:30:09.100263",
     "exception": false,
     "start_time": "2021-09-17T08:30:08.622317",
     "status": "completed"
    },
    "tags": []
   },
   "outputs": [],
   "source": [
    "df = pd.read_sql(\"select * from EBAY_TOP_BERLIN where record_time in (select distinct record_time from EBAY_TOP_BERLIN order by record_time desc limit 2)\", sqlite3.connect(\"UsedObjects.db\"))"
   ]
  },
  {
   "cell_type": "code",
   "execution_count": 5,
   "id": "popular-active",
   "metadata": {
    "execution": {
     "iopub.execute_input": "2021-09-17T08:30:09.182843Z",
     "iopub.status.busy": "2021-09-17T08:30:09.170417Z",
     "iopub.status.idle": "2021-09-17T08:30:09.198723Z",
     "shell.execute_reply": "2021-09-17T08:30:09.200102Z"
    },
    "papermill": {
     "duration": 0.071452,
     "end_time": "2021-09-17T08:30:09.200519",
     "exception": false,
     "start_time": "2021-09-17T08:30:09.129067",
     "status": "completed"
    },
    "tags": []
   },
   "outputs": [],
   "source": [
    "df_pivot = df.pivot_table(index=\"PRODUCT\", columns = \"RECORD_TIME\", values = \"LISTING_COUNT\")"
   ]
  },
  {
   "cell_type": "code",
   "execution_count": 6,
   "id": "union-huntington",
   "metadata": {
    "execution": {
     "iopub.execute_input": "2021-09-17T08:30:09.258583Z",
     "iopub.status.busy": "2021-09-17T08:30:09.256331Z",
     "iopub.status.idle": "2021-09-17T08:30:09.262200Z",
     "shell.execute_reply": "2021-09-17T08:30:09.263737Z"
    },
    "papermill": {
     "duration": 0.041863,
     "end_time": "2021-09-17T08:30:09.264216",
     "exception": false,
     "start_time": "2021-09-17T08:30:09.222353",
     "status": "completed"
    },
    "tags": []
   },
   "outputs": [],
   "source": [
    "df_pivot.columns = [\"stamp_1\", \"stamp_2\"]\n",
    "df_pivot_diff = df_pivot.diff(axis=1)"
   ]
  },
  {
   "cell_type": "code",
   "execution_count": 7,
   "id": "fifth-motion",
   "metadata": {
    "execution": {
     "iopub.execute_input": "2021-09-17T08:30:09.318307Z",
     "iopub.status.busy": "2021-09-17T08:30:09.316118Z",
     "iopub.status.idle": "2021-09-17T08:30:10.804262Z",
     "shell.execute_reply": "2021-09-17T08:30:10.805448Z"
    },
    "papermill": {
     "duration": 1.520607,
     "end_time": "2021-09-17T08:30:10.805874",
     "exception": false,
     "start_time": "2021-09-17T08:30:09.285267",
     "status": "completed"
    },
    "tags": []
   },
   "outputs": [
    {
     "data": {
      "text/plain": [
       "<AxesSubplot:ylabel='PRODUCT'>"
      ]
     },
     "execution_count": 7,
     "metadata": {},
     "output_type": "execute_result"
    },
    {
     "data": {
      "image/png": "[encoded data removed]",
      "text/plain": [
       "<Figure size 432x288 with 1 Axes>"
      ]
     },
     "metadata": {
      "needs_background": "light"
     },
     "output_type": "display_data"
    }
   ],
   "source": [
    "df_pivot_diff.sort_values(\"stamp_2\", ascending = False)[\"stamp_2\"].head(10).plot.barh()"
   ]
  },
  {
   "cell_type": "code",
   "execution_count": null,
   "id": "extra-executive",
   "metadata": {
    "papermill": {
     "duration": 0.022244,
     "end_time": "2021-09-17T08:30:10.852106",
     "exception": false,
     "start_time": "2021-09-17T08:30:10.829862",
     "status": "completed"
    },
    "tags": []
   },
   "outputs": [],
   "source": []
  }
 ],
 "metadata": {
  "kernelspec": {
   "display_name": "Python 3",
   "language": "python",
   "name": "python3"
  },
  "language_info": {
   "codemirror_mode": {
    "name": "ipython",
    "version": 3
   },
   "file_extension": ".py",
   "mimetype": "text/x-python",
   "name": "python",
   "nbconvert_exporter": "python",
   "pygments_lexer": "ipython3",
   "version": "3.9.5"
  },
  "papermill": {
   "default_parameters": {},
   "duration": 6.574032,
   "end_time": "2021-09-17T08:30:11.494415",
   "environment_variables": {},
   "exception": null,
   "input_path": "eBay_Overview.ipynb",
   "output_path": "eBay_Overview.ipynb",
   "parameters": {},
   "start_time": "2021-09-17T08:30:04.920383",
   "version": "2.3.3"
  }
 },
 "nbformat": 4,
 "nbformat_minor": 5
}