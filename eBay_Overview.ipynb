{
 "cells": [
  {
   "cell_type": "code",
   "execution_count": 1,
   "id": "reverse-picking",
   "metadata": {
    "execution": {
     "iopub.execute_input": "2021-11-17T23:30:07.313171Z",
     "iopub.status.busy": "2021-11-17T23:30:07.309302Z",
     "iopub.status.idle": "2021-11-17T23:30:08.253607Z",
     "shell.execute_reply": "2021-11-17T23:30:08.255299Z"
    },
    "papermill": {
     "duration": 1.008527,
     "end_time": "2021-11-17T23:30:08.256030",
     "exception": false,
     "start_time": "2021-11-17T23:30:07.247503",
     "status": "completed"
    },
    "tags": []
   },
   "outputs": [],
   "source": [
    "import pandas as pd\n",
    "import sqlite3"
   ]
  },
  {
   "cell_type": "code",
   "execution_count": 2,
   "id": "innovative-syndrome",
   "metadata": {
    "execution": {
     "iopub.execute_input": "2021-11-17T23:30:08.312451Z",
     "iopub.status.busy": "2021-11-17T23:30:08.310196Z",
     "iopub.status.idle": "2021-11-17T23:30:09.155200Z",
     "shell.execute_reply": "2021-11-17T23:30:09.156559Z"
    },
    "papermill": {
     "duration": 0.879734,
     "end_time": "2021-11-17T23:30:09.157125",
     "exception": false,
     "start_time": "2021-11-17T23:30:08.277391",
     "status": "completed"
    },
    "tags": []
   },
   "outputs": [],
   "source": [
    "timestamps = pd.read_sql(\"select distinct record_time from EBAY_TOP_BERLIN order by record_time desc limit 2\", sqlite3.connect(\"UsedObjects.db\"))"
   ]
  },
  {
   "cell_type": "code",
   "execution_count": 3,
   "id": "periodic-identification",
   "metadata": {
    "execution": {
     "iopub.execute_input": "2021-11-17T23:30:09.227481Z",
     "iopub.status.busy": "2021-11-17T23:30:09.225199Z",
     "iopub.status.idle": "2021-11-17T23:30:09.246914Z",
     "shell.execute_reply": "2021-11-17T23:30:09.248367Z"
    },
    "papermill": {
     "duration": 0.071382,
     "end_time": "2021-11-17T23:30:09.248916",
     "exception": false,
     "start_time": "2021-11-17T23:30:09.177534",
     "status": "completed"
    },
    "tags": []
   },
   "outputs": [
    {
     "data": {
      "text/html": [
       "<div>\n",
       "<style scoped>\n",
       "    .dataframe tbody tr th:only-of-type {\n",
       "        vertical-align: middle;\n",
       "    }\n",
       "\n",
       "    .dataframe tbody tr th {\n",
       "        vertical-align: top;\n",
       "    }\n",
       "\n",
       "    .dataframe thead th {\n",
       "        text-align: right;\n",
       "    }\n",
       "</style>\n",
       "<table border=\"1\" class=\"dataframe\">\n",
       "  <thead>\n",
       "    <tr style=\"text-align: right;\">\n",
       "      <th></th>\n",
       "      <th>RECORD_TIME</th>\n",
       "    </tr>\n",
       "  </thead>\n",
       "  <tbody>\n",
       "    <tr>\n",
       "      <th>0</th>\n",
       "      <td>2021-11-18 00:30</td>\n",
       "    </tr>\n",
       "    <tr>\n",
       "      <th>1</th>\n",
       "      <td>2021-11-18 00:00</td>\n",
       "    </tr>\n",
       "  </tbody>\n",
       "</table>\n",
       "</div>"
      ],
      "text/plain": [
       "        RECORD_TIME\n",
       "0  2021-11-18 00:30\n",
       "1  2021-11-18 00:00"
      ]
     },
     "execution_count": 3,
     "metadata": {},
     "output_type": "execute_result"
    }
   ],
   "source": [
    "timestamps"
   ]
  },
  {
   "cell_type": "code",
   "execution_count": 4,
   "id": "alternate-victory",
   "metadata": {
    "execution": {
     "iopub.execute_input": "2021-11-17T23:30:09.304661Z",
     "iopub.status.busy": "2021-11-17T23:30:09.302649Z",
     "iopub.status.idle": "2021-11-17T23:30:10.536915Z",
     "shell.execute_reply": "2021-11-17T23:30:10.538220Z"
    },
    "papermill": {
     "duration": 1.267388,
     "end_time": "2021-11-17T23:30:10.538637",
     "exception": false,
     "start_time": "2021-11-17T23:30:09.271249",
     "status": "completed"
    },
    "tags": []
   },
   "outputs": [],
   "source": [
    "df = pd.read_sql(\"select * from EBAY_TOP_BERLIN where record_time in (select distinct record_time from EBAY_TOP_BERLIN order by record_time desc limit 2)\", sqlite3.connect(\"UsedObjects.db\"))"
   ]
  },
  {
   "cell_type": "code",
   "execution_count": 5,
   "id": "popular-active",
   "metadata": {
    "execution": {
     "iopub.execute_input": "2021-11-17T23:30:10.602708Z",
     "iopub.status.busy": "2021-11-17T23:30:10.595443Z",
     "iopub.status.idle": "2021-11-17T23:30:10.622733Z",
     "shell.execute_reply": "2021-11-17T23:30:10.623937Z"
    },
    "papermill": {
     "duration": 0.06523,
     "end_time": "2021-11-17T23:30:10.624323",
     "exception": false,
     "start_time": "2021-11-17T23:30:10.559093",
     "status": "completed"
    },
    "tags": []
   },
   "outputs": [],
   "source": [
    "df_pivot = df.pivot_table(index=\"PRODUCT\", columns = \"RECORD_TIME\", values = \"LISTING_COUNT\")"
   ]
  },
  {
   "cell_type": "code",
   "execution_count": 6,
   "id": "union-huntington",
   "metadata": {
    "execution": {
     "iopub.execute_input": "2021-11-17T23:30:10.682950Z",
     "iopub.status.busy": "2021-11-17T23:30:10.680431Z",
     "iopub.status.idle": "2021-11-17T23:30:10.686300Z",
     "shell.execute_reply": "2021-11-17T23:30:10.687710Z"
    },
    "papermill": {
     "duration": 0.041771,
     "end_time": "2021-11-17T23:30:10.688193",
     "exception": false,
     "start_time": "2021-11-17T23:30:10.646422",
     "status": "completed"
    },
    "tags": []
   },
   "outputs": [],
   "source": [
    "df_pivot.columns = [\"stamp_1\", \"stamp_2\"]\n",
    "df_pivot_diff = df_pivot.diff(axis=1)"
   ]
  },
  {
   "cell_type": "code",
   "execution_count": 7,
   "id": "fifth-motion",
   "metadata": {
    "execution": {
     "iopub.execute_input": "2021-11-17T23:30:10.746547Z",
     "iopub.status.busy": "2021-11-17T23:30:10.742691Z",
     "iopub.status.idle": "2021-11-17T23:30:12.531016Z",
     "shell.execute_reply": "2021-11-17T23:30:12.532276Z"
    },
    "papermill": {
     "duration": 1.82321,
     "end_time": "2021-11-17T23:30:12.532764",
     "exception": false,
     "start_time": "2021-11-17T23:30:10.709554",
     "status": "completed"
    },
    "tags": []
   },
   "outputs": [
    {
     "data": {
      "text/plain": [
       "<AxesSubplot:ylabel='PRODUCT'>"
      ]
     },
     "execution_count": 7,
     "metadata": {},
     "output_type": "execute_result"
    },
    {
     "data": {
      "image/png": "[encoded data removed]",
      "text/plain": [
       "<Figure size 432x288 with 1 Axes>"
      ]
     },
     "metadata": {
      "needs_background": "light"
     },
     "output_type": "display_data"
    }
   ],
   "source": [
    "df_pivot_diff.sort_values(\"stamp_2\", ascending = False)[\"stamp_2\"].head(10).plot.barh()"
   ]
  },
  {
   "cell_type": "code",
   "execution_count": null,
   "id": "extra-executive",
   "metadata": {
    "papermill": {
     "duration": 0.024346,
     "end_time": "2021-11-17T23:30:12.582422",
     "exception": false,
     "start_time": "2021-11-17T23:30:12.558076",
     "status": "completed"
    },
    "tags": []
   },
   "outputs": [],
   "source": []
  }
 ],
 "metadata": {
  "kernelspec": {
   "display_name": "Python 3",
   "language": "python",
   "name": "python3"
  },
  "language_info": {
   "codemirror_mode": {
    "name": "ipython",
    "version": 3
   },
   "file_extension": ".py",
   "mimetype": "text/x-python",
   "name": "python",
   "nbconvert_exporter": "python",
   "pygments_lexer": "ipython3",
   "version": "3.9.5"
  },
  "papermill": {
   "default_parameters": {},
   "duration": 8.820949,
   "end_time": "2021-11-17T23:30:13.326962",
   "environment_variables": {},
   "exception": null,
   "input_path": "eBay_Overview.ipynb",
   "output_path": "eBay_Overview.ipynb",
   "parameters": {},
   "start_time": "2021-11-17T23:30:04.506013",
   "version": "2.3.3"
  }
 },
 "nbformat": 4,
 "nbformat_minor": 5
}