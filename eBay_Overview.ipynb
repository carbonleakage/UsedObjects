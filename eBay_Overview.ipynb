{
 "cells": [
  {
   "cell_type": "code",
   "execution_count": 1,
   "id": "reverse-picking",
   "metadata": {
    "execution": {
     "iopub.execute_input": "2021-09-26T13:00:06.962894Z",
     "iopub.status.busy": "2021-09-26T13:00:06.960946Z",
     "iopub.status.idle": "2021-09-26T13:00:07.768111Z",
     "shell.execute_reply": "2021-09-26T13:00:07.766421Z"
    },
    "papermill": {
     "duration": 0.857779,
     "end_time": "2021-09-26T13:00:07.768525",
     "exception": false,
     "start_time": "2021-09-26T13:00:06.910746",
     "status": "completed"
    },
    "tags": []
   },
   "outputs": [],
   "source": [
    "import pandas as pd\n",
    "import sqlite3"
   ]
  },
  {
   "cell_type": "code",
   "execution_count": 2,
   "id": "innovative-syndrome",
   "metadata": {
    "execution": {
     "iopub.execute_input": "2021-09-26T13:00:07.819253Z",
     "iopub.status.busy": "2021-09-26T13:00:07.817151Z",
     "iopub.status.idle": "2021-09-26T13:00:08.204880Z",
     "shell.execute_reply": "2021-09-26T13:00:08.206061Z"
    },
    "papermill": {
     "duration": 0.417466,
     "end_time": "2021-09-26T13:00:08.206448",
     "exception": false,
     "start_time": "2021-09-26T13:00:07.788982",
     "status": "completed"
    },
    "tags": []
   },
   "outputs": [],
   "source": [
    "timestamps = pd.read_sql(\"select distinct record_time from EBAY_TOP_BERLIN order by record_time desc limit 2\", sqlite3.connect(\"UsedObjects.db\"))"
   ]
  },
  {
   "cell_type": "code",
   "execution_count": 3,
   "id": "periodic-identification",
   "metadata": {
    "execution": {
     "iopub.execute_input": "2021-09-26T13:00:08.276961Z",
     "iopub.status.busy": "2021-09-26T13:00:08.271794Z",
     "iopub.status.idle": "2021-09-26T13:00:08.292410Z",
     "shell.execute_reply": "2021-09-26T13:00:08.293843Z"
    },
    "papermill": {
     "duration": 0.06619,
     "end_time": "2021-09-26T13:00:08.294297",
     "exception": false,
     "start_time": "2021-09-26T13:00:08.228107",
     "status": "completed"
    },
    "tags": []
   },
   "outputs": [
    {
     "data": {
      "text/html": [
       "<div>\n",
       "<style scoped>\n",
       "    .dataframe tbody tr th:only-of-type {\n",
       "        vertical-align: middle;\n",
       "    }\n",
       "\n",
       "    .dataframe tbody tr th {\n",
       "        vertical-align: top;\n",
       "    }\n",
       "\n",
       "    .dataframe thead th {\n",
       "        text-align: right;\n",
       "    }\n",
       "</style>\n",
       "<table border=\"1\" class=\"dataframe\">\n",
       "  <thead>\n",
       "    <tr style=\"text-align: right;\">\n",
       "      <th></th>\n",
       "      <th>RECORD_TIME</th>\n",
       "    </tr>\n",
       "  </thead>\n",
       "  <tbody>\n",
       "    <tr>\n",
       "      <th>0</th>\n",
       "      <td>2021-09-26 15:00</td>\n",
       "    </tr>\n",
       "    <tr>\n",
       "      <th>1</th>\n",
       "      <td>2021-09-26 14:30</td>\n",
       "    </tr>\n",
       "  </tbody>\n",
       "</table>\n",
       "</div>"
      ],
      "text/plain": [
       "        RECORD_TIME\n",
       "0  2021-09-26 15:00\n",
       "1  2021-09-26 14:30"
      ]
     },
     "execution_count": 3,
     "metadata": {},
     "output_type": "execute_result"
    }
   ],
   "source": [
    "timestamps"
   ]
  },
  {
   "cell_type": "code",
   "execution_count": 4,
   "id": "alternate-victory",
   "metadata": {
    "execution": {
     "iopub.execute_input": "2021-09-26T13:00:08.345392Z",
     "iopub.status.busy": "2021-09-26T13:00:08.343557Z",
     "iopub.status.idle": "2021-09-26T13:00:08.910296Z",
     "shell.execute_reply": "2021-09-26T13:00:08.911837Z"
    },
    "papermill": {
     "duration": 0.597431,
     "end_time": "2021-09-26T13:00:08.912271",
     "exception": false,
     "start_time": "2021-09-26T13:00:08.314840",
     "status": "completed"
    },
    "tags": []
   },
   "outputs": [],
   "source": [
    "df = pd.read_sql(\"select * from EBAY_TOP_BERLIN where record_time in (select distinct record_time from EBAY_TOP_BERLIN order by record_time desc limit 2)\", sqlite3.connect(\"UsedObjects.db\"))"
   ]
  },
  {
   "cell_type": "code",
   "execution_count": 5,
   "id": "popular-active",
   "metadata": {
    "execution": {
     "iopub.execute_input": "2021-09-26T13:00:08.982182Z",
     "iopub.status.busy": "2021-09-26T13:00:08.971686Z",
     "iopub.status.idle": "2021-09-26T13:00:08.999268Z",
     "shell.execute_reply": "2021-09-26T13:00:09.000555Z"
    },
    "papermill": {
     "duration": 0.068387,
     "end_time": "2021-09-26T13:00:09.000960",
     "exception": false,
     "start_time": "2021-09-26T13:00:08.932573",
     "status": "completed"
    },
    "tags": []
   },
   "outputs": [],
   "source": [
    "df_pivot = df.pivot_table(index=\"PRODUCT\", columns = \"RECORD_TIME\", values = \"LISTING_COUNT\")"
   ]
  },
  {
   "cell_type": "code",
   "execution_count": 6,
   "id": "union-huntington",
   "metadata": {
    "execution": {
     "iopub.execute_input": "2021-09-26T13:00:09.059247Z",
     "iopub.status.busy": "2021-09-26T13:00:09.056941Z",
     "iopub.status.idle": "2021-09-26T13:00:09.062571Z",
     "shell.execute_reply": "2021-09-26T13:00:09.063903Z"
    },
    "papermill": {
     "duration": 0.041614,
     "end_time": "2021-09-26T13:00:09.064314",
     "exception": false,
     "start_time": "2021-09-26T13:00:09.022700",
     "status": "completed"
    },
    "tags": []
   },
   "outputs": [],
   "source": [
    "df_pivot.columns = [\"stamp_1\", \"stamp_2\"]\n",
    "df_pivot_diff = df_pivot.diff(axis=1)"
   ]
  },
  {
   "cell_type": "code",
   "execution_count": 7,
   "id": "fifth-motion",
   "metadata": {
    "execution": {
     "iopub.execute_input": "2021-09-26T13:00:09.118068Z",
     "iopub.status.busy": "2021-09-26T13:00:09.115920Z",
     "iopub.status.idle": "2021-09-26T13:00:10.588337Z",
     "shell.execute_reply": "2021-09-26T13:00:10.589633Z"
    },
    "papermill": {
     "duration": 1.50504,
     "end_time": "2021-09-26T13:00:10.590042",
     "exception": false,
     "start_time": "2021-09-26T13:00:09.085002",
     "status": "completed"
    },
    "tags": []
   },
   "outputs": [
    {
     "data": {
      "text/plain": [
       "<AxesSubplot:ylabel='PRODUCT'>"
      ]
     },
     "execution_count": 7,
     "metadata": {},
     "output_type": "execute_result"
    },
    {
     "data": {
      "image/png": "[encoded data removed]",
      "text/plain": [
       "<Figure size 432x288 with 1 Axes>"
      ]
     },
     "metadata": {
      "needs_background": "light"
     },
     "output_type": "display_data"
    }
   ],
   "source": [
    "df_pivot_diff.sort_values(\"stamp_2\", ascending = False)[\"stamp_2\"].head(10).plot.barh()"
   ]
  },
  {
   "cell_type": "code",
   "execution_count": null,
   "id": "extra-executive",
   "metadata": {
    "papermill": {
     "duration": 0.022261,
     "end_time": "2021-09-26T13:00:10.638629",
     "exception": false,
     "start_time": "2021-09-26T13:00:10.616368",
     "status": "completed"
    },
    "tags": []
   },
   "outputs": [],
   "source": []
  }
 ],
 "metadata": {
  "kernelspec": {
   "display_name": "Python 3",
   "language": "python",
   "name": "python3"
  },
  "language_info": {
   "codemirror_mode": {
    "name": "ipython",
    "version": 3
   },
   "file_extension": ".py",
   "mimetype": "text/x-python",
   "name": "python",
   "nbconvert_exporter": "python",
   "pygments_lexer": "ipython3",
   "version": "3.9.5"
  },
  "papermill": {
   "default_parameters": {},
   "duration": 6.775351,
   "end_time": "2021-09-26T13:00:11.281289",
   "environment_variables": {},
   "exception": null,
   "input_path": "eBay_Overview.ipynb",
   "output_path": "eBay_Overview.ipynb",
   "parameters": {},
   "start_time": "2021-09-26T13:00:04.505938",
   "version": "2.3.3"
  }
 },
 "nbformat": 4,
 "nbformat_minor": 5
}