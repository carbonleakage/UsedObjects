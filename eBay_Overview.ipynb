{
 "cells": [
  {
   "cell_type": "code",
   "execution_count": 1,
   "id": "reverse-picking",
   "metadata": {
    "execution": {
     "iopub.execute_input": "2021-12-01T14:30:07.794288Z",
     "iopub.status.busy": "2021-12-01T14:30:07.792077Z",
     "iopub.status.idle": "2021-12-01T14:30:08.735737Z",
     "shell.execute_reply": "2021-12-01T14:30:08.737307Z"
    },
    "papermill": {
     "duration": 0.993033,
     "end_time": "2021-12-01T14:30:08.738085",
     "exception": false,
     "start_time": "2021-12-01T14:30:07.745052",
     "status": "completed"
    },
    "tags": []
   },
   "outputs": [],
   "source": [
    "import pandas as pd\n",
    "import sqlite3"
   ]
  },
  {
   "cell_type": "code",
   "execution_count": 2,
   "id": "innovative-syndrome",
   "metadata": {
    "execution": {
     "iopub.execute_input": "2021-12-01T14:30:08.810823Z",
     "iopub.status.busy": "2021-12-01T14:30:08.808549Z",
     "iopub.status.idle": "2021-12-01T14:30:09.783663Z",
     "shell.execute_reply": "2021-12-01T14:30:09.784950Z"
    },
    "papermill": {
     "duration": 1.014663,
     "end_time": "2021-12-01T14:30:09.785379",
     "exception": false,
     "start_time": "2021-12-01T14:30:08.770716",
     "status": "completed"
    },
    "tags": []
   },
   "outputs": [],
   "source": [
    "timestamps = pd.read_sql(\"select distinct record_time from EBAY_TOP_BERLIN order by record_time desc limit 2\", sqlite3.connect(\"UsedObjects.db\"))"
   ]
  },
  {
   "cell_type": "code",
   "execution_count": 3,
   "id": "periodic-identification",
   "metadata": {
    "execution": {
     "iopub.execute_input": "2021-12-01T14:30:09.851404Z",
     "iopub.status.busy": "2021-12-01T14:30:09.849388Z",
     "iopub.status.idle": "2021-12-01T14:30:09.871676Z",
     "shell.execute_reply": "2021-12-01T14:30:09.873208Z"
    },
    "papermill": {
     "duration": 0.066733,
     "end_time": "2021-12-01T14:30:09.873721",
     "exception": false,
     "start_time": "2021-12-01T14:30:09.806988",
     "status": "completed"
    },
    "tags": []
   },
   "outputs": [
    {
     "data": {
      "text/html": [
       "<div>\n",
       "<style scoped>\n",
       "    .dataframe tbody tr th:only-of-type {\n",
       "        vertical-align: middle;\n",
       "    }\n",
       "\n",
       "    .dataframe tbody tr th {\n",
       "        vertical-align: top;\n",
       "    }\n",
       "\n",
       "    .dataframe thead th {\n",
       "        text-align: right;\n",
       "    }\n",
       "</style>\n",
       "<table border=\"1\" class=\"dataframe\">\n",
       "  <thead>\n",
       "    <tr style=\"text-align: right;\">\n",
       "      <th></th>\n",
       "      <th>RECORD_TIME</th>\n",
       "    </tr>\n",
       "  </thead>\n",
       "  <tbody>\n",
       "    <tr>\n",
       "      <th>0</th>\n",
       "      <td>2021-12-01 15:30</td>\n",
       "    </tr>\n",
       "    <tr>\n",
       "      <th>1</th>\n",
       "      <td>2021-12-01 15:00</td>\n",
       "    </tr>\n",
       "  </tbody>\n",
       "</table>\n",
       "</div>"
      ],
      "text/plain": [
       "        RECORD_TIME\n",
       "0  2021-12-01 15:30\n",
       "1  2021-12-01 15:00"
      ]
     },
     "execution_count": 3,
     "metadata": {},
     "output_type": "execute_result"
    }
   ],
   "source": [
    "timestamps"
   ]
  },
  {
   "cell_type": "code",
   "execution_count": 4,
   "id": "alternate-victory",
   "metadata": {
    "execution": {
     "iopub.execute_input": "2021-12-01T14:30:09.927021Z",
     "iopub.status.busy": "2021-12-01T14:30:09.924544Z",
     "iopub.status.idle": "2021-12-01T14:30:11.334042Z",
     "shell.execute_reply": "2021-12-01T14:30:11.335524Z"
    },
    "papermill": {
     "duration": 1.441795,
     "end_time": "2021-12-01T14:30:11.336039",
     "exception": false,
     "start_time": "2021-12-01T14:30:09.894244",
     "status": "completed"
    },
    "tags": []
   },
   "outputs": [],
   "source": [
    "df = pd.read_sql(\"select * from EBAY_TOP_BERLIN where record_time in (select distinct record_time from EBAY_TOP_BERLIN order by record_time desc limit 2)\", sqlite3.connect(\"UsedObjects.db\"))"
   ]
  },
  {
   "cell_type": "code",
   "execution_count": 5,
   "id": "popular-active",
   "metadata": {
    "execution": {
     "iopub.execute_input": "2021-12-01T14:30:11.411516Z",
     "iopub.status.busy": "2021-12-01T14:30:11.398761Z",
     "iopub.status.idle": "2021-12-01T14:30:11.429253Z",
     "shell.execute_reply": "2021-12-01T14:30:11.430589Z"
    },
    "papermill": {
     "duration": 0.073347,
     "end_time": "2021-12-01T14:30:11.431071",
     "exception": false,
     "start_time": "2021-12-01T14:30:11.357724",
     "status": "completed"
    },
    "tags": []
   },
   "outputs": [],
   "source": [
    "df_pivot = df.pivot_table(index=\"PRODUCT\", columns = \"RECORD_TIME\", values = \"LISTING_COUNT\")"
   ]
  },
  {
   "cell_type": "code",
   "execution_count": 6,
   "id": "union-huntington",
   "metadata": {
    "execution": {
     "iopub.execute_input": "2021-12-01T14:30:11.494115Z",
     "iopub.status.busy": "2021-12-01T14:30:11.491519Z",
     "iopub.status.idle": "2021-12-01T14:30:11.496482Z",
     "shell.execute_reply": "2021-12-01T14:30:11.498325Z"
    },
    "papermill": {
     "duration": 0.047998,
     "end_time": "2021-12-01T14:30:11.498861",
     "exception": false,
     "start_time": "2021-12-01T14:30:11.450863",
     "status": "completed"
    },
    "tags": []
   },
   "outputs": [],
   "source": [
    "df_pivot.columns = [\"stamp_1\", \"stamp_2\"]\n",
    "df_pivot_diff = df_pivot.diff(axis=1)"
   ]
  },
  {
   "cell_type": "code",
   "execution_count": 7,
   "id": "fifth-motion",
   "metadata": {
    "execution": {
     "iopub.execute_input": "2021-12-01T14:30:11.554853Z",
     "iopub.status.busy": "2021-12-01T14:30:11.552286Z",
     "iopub.status.idle": "2021-12-01T14:30:13.543394Z",
     "shell.execute_reply": "2021-12-01T14:30:13.544759Z"
    },
    "papermill": {
     "duration": 2.025961,
     "end_time": "2021-12-01T14:30:13.545381",
     "exception": false,
     "start_time": "2021-12-01T14:30:11.519420",
     "status": "completed"
    },
    "tags": []
   },
   "outputs": [
    {
     "data": {
      "text/plain": [
       "<AxesSubplot:ylabel='PRODUCT'>"
      ]
     },
     "execution_count": 7,
     "metadata": {},
     "output_type": "execute_result"
    },
    {
     "data": {
      "image/png": "[encoded data removed]",
      "text/plain": [
       "<Figure size 432x288 with 1 Axes>"
      ]
     },
     "metadata": {
      "needs_background": "light"
     },
     "output_type": "display_data"
    }
   ],
   "source": [
    "df_pivot_diff.sort_values(\"stamp_2\", ascending = False)[\"stamp_2\"].head(10).plot.barh()"
   ]
  },
  {
   "cell_type": "code",
   "execution_count": null,
   "id": "extra-executive",
   "metadata": {
    "papermill": {
     "duration": 0.021824,
     "end_time": "2021-12-01T14:30:13.591625",
     "exception": false,
     "start_time": "2021-12-01T14:30:13.569801",
     "status": "completed"
    },
    "tags": []
   },
   "outputs": [],
   "source": []
  }
 ],
 "metadata": {
  "kernelspec": {
   "display_name": "Python 3",
   "language": "python",
   "name": "python3"
  },
  "language_info": {
   "codemirror_mode": {
    "name": "ipython",
    "version": 3
   },
   "file_extension": ".py",
   "mimetype": "text/x-python",
   "name": "python",
   "nbconvert_exporter": "python",
   "pygments_lexer": "ipython3",
   "version": "3.9.5"
  },
  "papermill": {
   "default_parameters": {},
   "duration": 9.928248,
   "end_time": "2021-12-01T14:30:14.955911",
   "environment_variables": {},
   "exception": null,
   "input_path": "eBay_Overview.ipynb",
   "output_path": "eBay_Overview.ipynb",
   "parameters": {},
   "start_time": "2021-12-01T14:30:05.027663",
   "version": "2.3.3"
  }
 },
 "nbformat": 4,
 "nbformat_minor": 5
}