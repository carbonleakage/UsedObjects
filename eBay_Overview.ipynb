{
 "cells": [
  {
   "cell_type": "code",
   "execution_count": 1,
   "id": "reverse-picking",
   "metadata": {
    "execution": {
     "iopub.execute_input": "2021-09-23T04:30:07.564700Z",
     "iopub.status.busy": "2021-09-23T04:30:07.562675Z",
     "iopub.status.idle": "2021-09-23T04:30:08.372003Z",
     "shell.execute_reply": "2021-09-23T04:30:08.370341Z"
    },
    "papermill": {
     "duration": 0.860135,
     "end_time": "2021-09-23T04:30:08.372402",
     "exception": false,
     "start_time": "2021-09-23T04:30:07.512267",
     "status": "completed"
    },
    "tags": []
   },
   "outputs": [],
   "source": [
    "import pandas as pd\n",
    "import sqlite3"
   ]
  },
  {
   "cell_type": "code",
   "execution_count": 2,
   "id": "innovative-syndrome",
   "metadata": {
    "execution": {
     "iopub.execute_input": "2021-09-23T04:30:08.423441Z",
     "iopub.status.busy": "2021-09-23T04:30:08.421467Z",
     "iopub.status.idle": "2021-09-23T04:30:08.780959Z",
     "shell.execute_reply": "2021-09-23T04:30:08.782062Z"
    },
    "papermill": {
     "duration": 0.389036,
     "end_time": "2021-09-23T04:30:08.782472",
     "exception": false,
     "start_time": "2021-09-23T04:30:08.393436",
     "status": "completed"
    },
    "tags": []
   },
   "outputs": [],
   "source": [
    "timestamps = pd.read_sql(\"select distinct record_time from EBAY_TOP_BERLIN order by record_time desc limit 2\", sqlite3.connect(\"UsedObjects.db\"))"
   ]
  },
  {
   "cell_type": "code",
   "execution_count": 3,
   "id": "periodic-identification",
   "metadata": {
    "execution": {
     "iopub.execute_input": "2021-09-23T04:30:08.850820Z",
     "iopub.status.busy": "2021-09-23T04:30:08.848766Z",
     "iopub.status.idle": "2021-09-23T04:30:08.868718Z",
     "shell.execute_reply": "2021-09-23T04:30:08.870311Z"
    },
    "papermill": {
     "duration": 0.066575,
     "end_time": "2021-09-23T04:30:08.870873",
     "exception": false,
     "start_time": "2021-09-23T04:30:08.804298",
     "status": "completed"
    },
    "tags": []
   },
   "outputs": [
    {
     "data": {
      "text/html": [
       "<div>\n",
       "<style scoped>\n",
       "    .dataframe tbody tr th:only-of-type {\n",
       "        vertical-align: middle;\n",
       "    }\n",
       "\n",
       "    .dataframe tbody tr th {\n",
       "        vertical-align: top;\n",
       "    }\n",
       "\n",
       "    .dataframe thead th {\n",
       "        text-align: right;\n",
       "    }\n",
       "</style>\n",
       "<table border=\"1\" class=\"dataframe\">\n",
       "  <thead>\n",
       "    <tr style=\"text-align: right;\">\n",
       "      <th></th>\n",
       "      <th>RECORD_TIME</th>\n",
       "    </tr>\n",
       "  </thead>\n",
       "  <tbody>\n",
       "    <tr>\n",
       "      <th>0</th>\n",
       "      <td>2021-09-23 06:30</td>\n",
       "    </tr>\n",
       "    <tr>\n",
       "      <th>1</th>\n",
       "      <td>2021-09-23 06:00</td>\n",
       "    </tr>\n",
       "  </tbody>\n",
       "</table>\n",
       "</div>"
      ],
      "text/plain": [
       "        RECORD_TIME\n",
       "0  2021-09-23 06:30\n",
       "1  2021-09-23 06:00"
      ]
     },
     "execution_count": 3,
     "metadata": {},
     "output_type": "execute_result"
    }
   ],
   "source": [
    "timestamps"
   ]
  },
  {
   "cell_type": "code",
   "execution_count": 4,
   "id": "alternate-victory",
   "metadata": {
    "execution": {
     "iopub.execute_input": "2021-09-23T04:30:08.923332Z",
     "iopub.status.busy": "2021-09-23T04:30:08.921112Z",
     "iopub.status.idle": "2021-09-23T04:30:09.448378Z",
     "shell.execute_reply": "2021-09-23T04:30:09.449596Z"
    },
    "papermill": {
     "duration": 0.557347,
     "end_time": "2021-09-23T04:30:09.449992",
     "exception": false,
     "start_time": "2021-09-23T04:30:08.892645",
     "status": "completed"
    },
    "tags": []
   },
   "outputs": [],
   "source": [
    "df = pd.read_sql(\"select * from EBAY_TOP_BERLIN where record_time in (select distinct record_time from EBAY_TOP_BERLIN order by record_time desc limit 2)\", sqlite3.connect(\"UsedObjects.db\"))"
   ]
  },
  {
   "cell_type": "code",
   "execution_count": 5,
   "id": "popular-active",
   "metadata": {
    "execution": {
     "iopub.execute_input": "2021-09-23T04:30:09.529807Z",
     "iopub.status.busy": "2021-09-23T04:30:09.517032Z",
     "iopub.status.idle": "2021-09-23T04:30:09.545105Z",
     "shell.execute_reply": "2021-09-23T04:30:09.546392Z"
    },
    "papermill": {
     "duration": 0.070409,
     "end_time": "2021-09-23T04:30:09.546858",
     "exception": false,
     "start_time": "2021-09-23T04:30:09.476449",
     "status": "completed"
    },
    "tags": []
   },
   "outputs": [],
   "source": [
    "df_pivot = df.pivot_table(index=\"PRODUCT\", columns = \"RECORD_TIME\", values = \"LISTING_COUNT\")"
   ]
  },
  {
   "cell_type": "code",
   "execution_count": 6,
   "id": "union-huntington",
   "metadata": {
    "execution": {
     "iopub.execute_input": "2021-09-23T04:30:09.603324Z",
     "iopub.status.busy": "2021-09-23T04:30:09.601237Z",
     "iopub.status.idle": "2021-09-23T04:30:09.606507Z",
     "shell.execute_reply": "2021-09-23T04:30:09.607907Z"
    },
    "papermill": {
     "duration": 0.041177,
     "end_time": "2021-09-23T04:30:09.608332",
     "exception": false,
     "start_time": "2021-09-23T04:30:09.567155",
     "status": "completed"
    },
    "tags": []
   },
   "outputs": [],
   "source": [
    "df_pivot.columns = [\"stamp_1\", \"stamp_2\"]\n",
    "df_pivot_diff = df_pivot.diff(axis=1)"
   ]
  },
  {
   "cell_type": "code",
   "execution_count": 7,
   "id": "fifth-motion",
   "metadata": {
    "execution": {
     "iopub.execute_input": "2021-09-23T04:30:09.666249Z",
     "iopub.status.busy": "2021-09-23T04:30:09.663615Z",
     "iopub.status.idle": "2021-09-23T04:30:11.136278Z",
     "shell.execute_reply": "2021-09-23T04:30:11.137540Z"
    },
    "papermill": {
     "duration": 1.506461,
     "end_time": "2021-09-23T04:30:11.137956",
     "exception": false,
     "start_time": "2021-09-23T04:30:09.631495",
     "status": "completed"
    },
    "tags": []
   },
   "outputs": [
    {
     "data": {
      "text/plain": [
       "<AxesSubplot:ylabel='PRODUCT'>"
      ]
     },
     "execution_count": 7,
     "metadata": {},
     "output_type": "execute_result"
    },
    {
     "data": {
      "image/png": "[encoded data removed]",
      "text/plain": [
       "<Figure size 432x288 with 1 Axes>"
      ]
     },
     "metadata": {
      "needs_background": "light"
     },
     "output_type": "display_data"
    }
   ],
   "source": [
    "df_pivot_diff.sort_values(\"stamp_2\", ascending = False)[\"stamp_2\"].head(10).plot.barh()"
   ]
  },
  {
   "cell_type": "code",
   "execution_count": null,
   "id": "extra-executive",
   "metadata": {
    "papermill": {
     "duration": 0.022277,
     "end_time": "2021-09-23T04:30:11.184763",
     "exception": false,
     "start_time": "2021-09-23T04:30:11.162486",
     "status": "completed"
    },
    "tags": []
   },
   "outputs": [],
   "source": []
  }
 ],
 "metadata": {
  "kernelspec": {
   "display_name": "Python 3",
   "language": "python",
   "name": "python3"
  },
  "language_info": {
   "codemirror_mode": {
    "name": "ipython",
    "version": 3
   },
   "file_extension": ".py",
   "mimetype": "text/x-python",
   "name": "python",
   "nbconvert_exporter": "python",
   "pygments_lexer": "ipython3",
   "version": "3.9.5"
  },
  "papermill": {
   "default_parameters": {},
   "duration": 6.725528,
   "end_time": "2021-09-23T04:30:11.828287",
   "environment_variables": {},
   "exception": null,
   "input_path": "eBay_Overview.ipynb",
   "output_path": "eBay_Overview.ipynb",
   "parameters": {},
   "start_time": "2021-09-23T04:30:05.102759",
   "version": "2.3.3"
  }
 },
 "nbformat": 4,
 "nbformat_minor": 5
}