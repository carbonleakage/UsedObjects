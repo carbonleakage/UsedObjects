{
 "cells": [
  {
   "cell_type": "code",
   "execution_count": 1,
   "id": "reverse-picking",
   "metadata": {
    "execution": {
     "iopub.execute_input": "2021-12-06T11:30:10.297088Z",
     "iopub.status.busy": "2021-12-06T11:30:10.294760Z",
     "iopub.status.idle": "2021-12-06T11:30:11.269535Z",
     "shell.execute_reply": "2021-12-06T11:30:11.271256Z"
    },
    "papermill": {
     "duration": 1.02961,
     "end_time": "2021-12-06T11:30:11.272080",
     "exception": false,
     "start_time": "2021-12-06T11:30:10.242470",
     "status": "completed"
    },
    "tags": []
   },
   "outputs": [],
   "source": [
    "import pandas as pd\n",
    "import sqlite3"
   ]
  },
  {
   "cell_type": "code",
   "execution_count": 2,
   "id": "innovative-syndrome",
   "metadata": {
    "execution": {
     "iopub.execute_input": "2021-12-06T11:30:11.339950Z",
     "iopub.status.busy": "2021-12-06T11:30:11.337220Z",
     "iopub.status.idle": "2021-12-06T11:30:12.362830Z",
     "shell.execute_reply": "2021-12-06T11:30:12.364312Z"
    },
    "papermill": {
     "duration": 1.0611,
     "end_time": "2021-12-06T11:30:12.364845",
     "exception": false,
     "start_time": "2021-12-06T11:30:11.303745",
     "status": "completed"
    },
    "tags": []
   },
   "outputs": [],
   "source": [
    "timestamps = pd.read_sql(\"select distinct record_time from EBAY_TOP_BERLIN order by record_time desc limit 2\", sqlite3.connect(\"UsedObjects.db\"))"
   ]
  },
  {
   "cell_type": "code",
   "execution_count": 3,
   "id": "periodic-identification",
   "metadata": {
    "execution": {
     "iopub.execute_input": "2021-12-06T11:30:12.436426Z",
     "iopub.status.busy": "2021-12-06T11:30:12.433976Z",
     "iopub.status.idle": "2021-12-06T11:30:12.457680Z",
     "shell.execute_reply": "2021-12-06T11:30:12.459597Z"
    },
    "papermill": {
     "duration": 0.074932,
     "end_time": "2021-12-06T11:30:12.460117",
     "exception": false,
     "start_time": "2021-12-06T11:30:12.385185",
     "status": "completed"
    },
    "tags": []
   },
   "outputs": [
    {
     "data": {
      "text/html": [
       "<div>\n",
       "<style scoped>\n",
       "    .dataframe tbody tr th:only-of-type {\n",
       "        vertical-align: middle;\n",
       "    }\n",
       "\n",
       "    .dataframe tbody tr th {\n",
       "        vertical-align: top;\n",
       "    }\n",
       "\n",
       "    .dataframe thead th {\n",
       "        text-align: right;\n",
       "    }\n",
       "</style>\n",
       "<table border=\"1\" class=\"dataframe\">\n",
       "  <thead>\n",
       "    <tr style=\"text-align: right;\">\n",
       "      <th></th>\n",
       "      <th>RECORD_TIME</th>\n",
       "    </tr>\n",
       "  </thead>\n",
       "  <tbody>\n",
       "    <tr>\n",
       "      <th>0</th>\n",
       "      <td>2021-12-06 12:30</td>\n",
       "    </tr>\n",
       "    <tr>\n",
       "      <th>1</th>\n",
       "      <td>2021-12-06 12:00</td>\n",
       "    </tr>\n",
       "  </tbody>\n",
       "</table>\n",
       "</div>"
      ],
      "text/plain": [
       "        RECORD_TIME\n",
       "0  2021-12-06 12:30\n",
       "1  2021-12-06 12:00"
      ]
     },
     "execution_count": 3,
     "metadata": {},
     "output_type": "execute_result"
    }
   ],
   "source": [
    "timestamps"
   ]
  },
  {
   "cell_type": "code",
   "execution_count": 4,
   "id": "alternate-victory",
   "metadata": {
    "execution": {
     "iopub.execute_input": "2021-12-06T11:30:12.549003Z",
     "iopub.status.busy": "2021-12-06T11:30:12.546815Z",
     "iopub.status.idle": "2021-12-06T11:30:14.023956Z",
     "shell.execute_reply": "2021-12-06T11:30:14.025266Z"
    },
    "papermill": {
     "duration": 1.543413,
     "end_time": "2021-12-06T11:30:14.025686",
     "exception": false,
     "start_time": "2021-12-06T11:30:12.482273",
     "status": "completed"
    },
    "tags": []
   },
   "outputs": [],
   "source": [
    "df = pd.read_sql(\"select * from EBAY_TOP_BERLIN where record_time in (select distinct record_time from EBAY_TOP_BERLIN order by record_time desc limit 2)\", sqlite3.connect(\"UsedObjects.db\"))"
   ]
  },
  {
   "cell_type": "code",
   "execution_count": 5,
   "id": "popular-active",
   "metadata": {
    "execution": {
     "iopub.execute_input": "2021-12-06T11:30:14.093841Z",
     "iopub.status.busy": "2021-12-06T11:30:14.087263Z",
     "iopub.status.idle": "2021-12-06T11:30:14.115565Z",
     "shell.execute_reply": "2021-12-06T11:30:14.116877Z"
    },
    "papermill": {
     "duration": 0.068696,
     "end_time": "2021-12-06T11:30:14.117343",
     "exception": false,
     "start_time": "2021-12-06T11:30:14.048647",
     "status": "completed"
    },
    "tags": []
   },
   "outputs": [],
   "source": [
    "df_pivot = df.pivot_table(index=\"PRODUCT\", columns = \"RECORD_TIME\", values = \"LISTING_COUNT\")"
   ]
  },
  {
   "cell_type": "code",
   "execution_count": 6,
   "id": "union-huntington",
   "metadata": {
    "execution": {
     "iopub.execute_input": "2021-12-06T11:30:14.174854Z",
     "iopub.status.busy": "2021-12-06T11:30:14.172569Z",
     "iopub.status.idle": "2021-12-06T11:30:14.178224Z",
     "shell.execute_reply": "2021-12-06T11:30:14.179597Z"
    },
    "papermill": {
     "duration": 0.041542,
     "end_time": "2021-12-06T11:30:14.180037",
     "exception": false,
     "start_time": "2021-12-06T11:30:14.138495",
     "status": "completed"
    },
    "tags": []
   },
   "outputs": [],
   "source": [
    "df_pivot.columns = [\"stamp_1\", \"stamp_2\"]\n",
    "df_pivot_diff = df_pivot.diff(axis=1)"
   ]
  },
  {
   "cell_type": "code",
   "execution_count": 7,
   "id": "fifth-motion",
   "metadata": {
    "execution": {
     "iopub.execute_input": "2021-12-06T11:30:14.237729Z",
     "iopub.status.busy": "2021-12-06T11:30:14.234923Z",
     "iopub.status.idle": "2021-12-06T11:30:15.722461Z",
     "shell.execute_reply": "2021-12-06T11:30:15.723759Z"
    },
    "papermill": {
     "duration": 1.521614,
     "end_time": "2021-12-06T11:30:15.724189",
     "exception": false,
     "start_time": "2021-12-06T11:30:14.202575",
     "status": "completed"
    },
    "tags": []
   },
   "outputs": [
    {
     "data": {
      "text/plain": [
       "<AxesSubplot:ylabel='PRODUCT'>"
      ]
     },
     "execution_count": 7,
     "metadata": {},
     "output_type": "execute_result"
    },
    {
     "data": {
      "image/png": "[encoded data removed]",
      "text/plain": [
       "<Figure size 432x288 with 1 Axes>"
      ]
     },
     "metadata": {
      "needs_background": "light"
     },
     "output_type": "display_data"
    }
   ],
   "source": [
    "df_pivot_diff.sort_values(\"stamp_2\", ascending = False)[\"stamp_2\"].head(10).plot.barh()"
   ]
  },
  {
   "cell_type": "code",
   "execution_count": null,
   "id": "extra-executive",
   "metadata": {
    "papermill": {
     "duration": 0.022607,
     "end_time": "2021-12-06T11:30:15.773540",
     "exception": false,
     "start_time": "2021-12-06T11:30:15.750933",
     "status": "completed"
    },
    "tags": []
   },
   "outputs": [],
   "source": []
  }
 ],
 "metadata": {
  "kernelspec": {
   "display_name": "Python 3",
   "language": "python",
   "name": "python3"
  },
  "language_info": {
   "codemirror_mode": {
    "name": "ipython",
    "version": 3
   },
   "file_extension": ".py",
   "mimetype": "text/x-python",
   "name": "python",
   "nbconvert_exporter": "python",
   "pygments_lexer": "ipython3",
   "version": "3.9.5"
  },
  "papermill": {
   "default_parameters": {},
   "duration": 9.944465,
   "end_time": "2021-12-06T11:30:17.435009",
   "environment_variables": {},
   "exception": null,
   "input_path": "eBay_Overview.ipynb",
   "output_path": "eBay_Overview.ipynb",
   "parameters": {},
   "start_time": "2021-12-06T11:30:07.490544",
   "version": "2.3.3"
  }
 },
 "nbformat": 4,
 "nbformat_minor": 5
}