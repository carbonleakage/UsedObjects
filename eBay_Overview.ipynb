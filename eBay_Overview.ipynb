{
 "cells": [
  {
   "cell_type": "code",
   "execution_count": 1,
   "id": "reverse-picking",
   "metadata": {
    "execution": {
     "iopub.execute_input": "2021-11-29T00:00:07.934929Z",
     "iopub.status.busy": "2021-11-29T00:00:07.932551Z",
     "iopub.status.idle": "2021-11-29T00:00:08.881310Z",
     "shell.execute_reply": "2021-11-29T00:00:08.883319Z"
    },
    "papermill": {
     "duration": 0.999678,
     "end_time": "2021-11-29T00:00:08.884178",
     "exception": false,
     "start_time": "2021-11-29T00:00:07.884500",
     "status": "completed"
    },
    "tags": []
   },
   "outputs": [],
   "source": [
    "import pandas as pd\n",
    "import sqlite3"
   ]
  },
  {
   "cell_type": "code",
   "execution_count": 2,
   "id": "innovative-syndrome",
   "metadata": {
    "execution": {
     "iopub.execute_input": "2021-11-29T00:00:08.951257Z",
     "iopub.status.busy": "2021-11-29T00:00:08.949089Z",
     "iopub.status.idle": "2021-11-29T00:00:09.903698Z",
     "shell.execute_reply": "2021-11-29T00:00:09.905332Z"
    },
    "papermill": {
     "duration": 0.98884,
     "end_time": "2021-11-29T00:00:09.905848",
     "exception": false,
     "start_time": "2021-11-29T00:00:08.917008",
     "status": "completed"
    },
    "tags": []
   },
   "outputs": [],
   "source": [
    "timestamps = pd.read_sql(\"select distinct record_time from EBAY_TOP_BERLIN order by record_time desc limit 2\", sqlite3.connect(\"UsedObjects.db\"))"
   ]
  },
  {
   "cell_type": "code",
   "execution_count": 3,
   "id": "periodic-identification",
   "metadata": {
    "execution": {
     "iopub.execute_input": "2021-11-29T00:00:09.981185Z",
     "iopub.status.busy": "2021-11-29T00:00:09.975058Z",
     "iopub.status.idle": "2021-11-29T00:00:09.998855Z",
     "shell.execute_reply": "2021-11-29T00:00:10.000390Z"
    },
    "papermill": {
     "duration": 0.073301,
     "end_time": "2021-11-29T00:00:10.000922",
     "exception": false,
     "start_time": "2021-11-29T00:00:09.927621",
     "status": "completed"
    },
    "tags": []
   },
   "outputs": [
    {
     "data": {
      "text/html": [
       "<div>\n",
       "<style scoped>\n",
       "    .dataframe tbody tr th:only-of-type {\n",
       "        vertical-align: middle;\n",
       "    }\n",
       "\n",
       "    .dataframe tbody tr th {\n",
       "        vertical-align: top;\n",
       "    }\n",
       "\n",
       "    .dataframe thead th {\n",
       "        text-align: right;\n",
       "    }\n",
       "</style>\n",
       "<table border=\"1\" class=\"dataframe\">\n",
       "  <thead>\n",
       "    <tr style=\"text-align: right;\">\n",
       "      <th></th>\n",
       "      <th>RECORD_TIME</th>\n",
       "    </tr>\n",
       "  </thead>\n",
       "  <tbody>\n",
       "    <tr>\n",
       "      <th>0</th>\n",
       "      <td>2021-11-29 01:00</td>\n",
       "    </tr>\n",
       "    <tr>\n",
       "      <th>1</th>\n",
       "      <td>2021-11-29 00:30</td>\n",
       "    </tr>\n",
       "  </tbody>\n",
       "</table>\n",
       "</div>"
      ],
      "text/plain": [
       "        RECORD_TIME\n",
       "0  2021-11-29 01:00\n",
       "1  2021-11-29 00:30"
      ]
     },
     "execution_count": 3,
     "metadata": {},
     "output_type": "execute_result"
    }
   ],
   "source": [
    "timestamps"
   ]
  },
  {
   "cell_type": "code",
   "execution_count": 4,
   "id": "alternate-victory",
   "metadata": {
    "execution": {
     "iopub.execute_input": "2021-11-29T00:00:10.056560Z",
     "iopub.status.busy": "2021-11-29T00:00:10.054399Z",
     "iopub.status.idle": "2021-11-29T00:00:11.416412Z",
     "shell.execute_reply": "2021-11-29T00:00:11.418164Z"
    },
    "papermill": {
     "duration": 1.396394,
     "end_time": "2021-11-29T00:00:11.418650",
     "exception": false,
     "start_time": "2021-11-29T00:00:10.022256",
     "status": "completed"
    },
    "tags": []
   },
   "outputs": [],
   "source": [
    "df = pd.read_sql(\"select * from EBAY_TOP_BERLIN where record_time in (select distinct record_time from EBAY_TOP_BERLIN order by record_time desc limit 2)\", sqlite3.connect(\"UsedObjects.db\"))"
   ]
  },
  {
   "cell_type": "code",
   "execution_count": 5,
   "id": "popular-active",
   "metadata": {
    "execution": {
     "iopub.execute_input": "2021-11-29T00:00:11.496213Z",
     "iopub.status.busy": "2021-11-29T00:00:11.482242Z",
     "iopub.status.idle": "2021-11-29T00:00:11.519646Z",
     "shell.execute_reply": "2021-11-29T00:00:11.521468Z"
    },
    "papermill": {
     "duration": 0.082149,
     "end_time": "2021-11-29T00:00:11.522011",
     "exception": false,
     "start_time": "2021-11-29T00:00:11.439862",
     "status": "completed"
    },
    "tags": []
   },
   "outputs": [],
   "source": [
    "df_pivot = df.pivot_table(index=\"PRODUCT\", columns = \"RECORD_TIME\", values = \"LISTING_COUNT\")"
   ]
  },
  {
   "cell_type": "code",
   "execution_count": 6,
   "id": "union-huntington",
   "metadata": {
    "execution": {
     "iopub.execute_input": "2021-11-29T00:00:11.581465Z",
     "iopub.status.busy": "2021-11-29T00:00:11.579175Z",
     "iopub.status.idle": "2021-11-29T00:00:11.584911Z",
     "shell.execute_reply": "2021-11-29T00:00:11.586300Z"
    },
    "papermill": {
     "duration": 0.043136,
     "end_time": "2021-11-29T00:00:11.586775",
     "exception": false,
     "start_time": "2021-11-29T00:00:11.543639",
     "status": "completed"
    },
    "tags": []
   },
   "outputs": [],
   "source": [
    "df_pivot.columns = [\"stamp_1\", \"stamp_2\"]\n",
    "df_pivot_diff = df_pivot.diff(axis=1)"
   ]
  },
  {
   "cell_type": "code",
   "execution_count": 7,
   "id": "fifth-motion",
   "metadata": {
    "execution": {
     "iopub.execute_input": "2021-11-29T00:00:11.644741Z",
     "iopub.status.busy": "2021-11-29T00:00:11.641860Z",
     "iopub.status.idle": "2021-11-29T00:00:13.635118Z",
     "shell.execute_reply": "2021-11-29T00:00:13.638196Z"
    },
    "papermill": {
     "duration": 2.032634,
     "end_time": "2021-11-29T00:00:13.639082",
     "exception": false,
     "start_time": "2021-11-29T00:00:11.606448",
     "status": "completed"
    },
    "tags": []
   },
   "outputs": [
    {
     "data": {
      "text/plain": [
       "<AxesSubplot:ylabel='PRODUCT'>"
      ]
     },
     "execution_count": 7,
     "metadata": {},
     "output_type": "execute_result"
    },
    {
     "data": {
      "image/png": "[encoded data removed]",
      "text/plain": [
       "<Figure size 432x288 with 1 Axes>"
      ]
     },
     "metadata": {
      "needs_background": "light"
     },
     "output_type": "display_data"
    }
   ],
   "source": [
    "df_pivot_diff.sort_values(\"stamp_2\", ascending = False)[\"stamp_2\"].head(10).plot.barh()"
   ]
  },
  {
   "cell_type": "code",
   "execution_count": null,
   "id": "extra-executive",
   "metadata": {
    "papermill": {
     "duration": 0.030839,
     "end_time": "2021-11-29T00:00:13.705670",
     "exception": false,
     "start_time": "2021-11-29T00:00:13.674831",
     "status": "completed"
    },
    "tags": []
   },
   "outputs": [],
   "source": []
  }
 ],
 "metadata": {
  "kernelspec": {
   "display_name": "Python 3",
   "language": "python",
   "name": "python3"
  },
  "language_info": {
   "codemirror_mode": {
    "name": "ipython",
    "version": 3
   },
   "file_extension": ".py",
   "mimetype": "text/x-python",
   "name": "python",
   "nbconvert_exporter": "python",
   "pygments_lexer": "ipython3",
   "version": "3.9.5"
  },
  "papermill": {
   "default_parameters": {},
   "duration": 9.941902,
   "end_time": "2021-11-29T00:00:15.099899",
   "environment_variables": {},
   "exception": null,
   "input_path": "eBay_Overview.ipynb",
   "output_path": "eBay_Overview.ipynb",
   "parameters": {},
   "start_time": "2021-11-29T00:00:05.157997",
   "version": "2.3.3"
  }
 },
 "nbformat": 4,
 "nbformat_minor": 5
}