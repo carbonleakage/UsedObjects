{
 "cells": [
  {
   "cell_type": "code",
   "execution_count": 1,
   "id": "reverse-picking",
   "metadata": {
    "execution": {
     "iopub.execute_input": "2021-11-27T19:00:07.818277Z",
     "iopub.status.busy": "2021-11-27T19:00:07.815795Z",
     "iopub.status.idle": "2021-11-27T19:00:08.768055Z",
     "shell.execute_reply": "2021-11-27T19:00:08.769713Z"
    },
    "papermill": {
     "duration": 1.002216,
     "end_time": "2021-11-27T19:00:08.770461",
     "exception": false,
     "start_time": "2021-11-27T19:00:07.768245",
     "status": "completed"
    },
    "tags": []
   },
   "outputs": [],
   "source": [
    "import pandas as pd\n",
    "import sqlite3"
   ]
  },
  {
   "cell_type": "code",
   "execution_count": 2,
   "id": "innovative-syndrome",
   "metadata": {
    "execution": {
     "iopub.execute_input": "2021-11-27T19:00:08.847195Z",
     "iopub.status.busy": "2021-11-27T19:00:08.844993Z",
     "iopub.status.idle": "2021-11-27T19:00:09.784833Z",
     "shell.execute_reply": "2021-11-27T19:00:09.786251Z"
    },
    "papermill": {
     "duration": 0.987608,
     "end_time": "2021-11-27T19:00:09.786692",
     "exception": false,
     "start_time": "2021-11-27T19:00:08.799084",
     "status": "completed"
    },
    "tags": []
   },
   "outputs": [],
   "source": [
    "timestamps = pd.read_sql(\"select distinct record_time from EBAY_TOP_BERLIN order by record_time desc limit 2\", sqlite3.connect(\"UsedObjects.db\"))"
   ]
  },
  {
   "cell_type": "code",
   "execution_count": 3,
   "id": "periodic-identification",
   "metadata": {
    "execution": {
     "iopub.execute_input": "2021-11-27T19:00:09.856840Z",
     "iopub.status.busy": "2021-11-27T19:00:09.851502Z",
     "iopub.status.idle": "2021-11-27T19:00:09.871845Z",
     "shell.execute_reply": "2021-11-27T19:00:09.873112Z"
    },
    "papermill": {
     "duration": 0.066784,
     "end_time": "2021-11-27T19:00:09.873557",
     "exception": false,
     "start_time": "2021-11-27T19:00:09.806773",
     "status": "completed"
    },
    "tags": []
   },
   "outputs": [
    {
     "data": {
      "text/html": [
       "<div>\n",
       "<style scoped>\n",
       "    .dataframe tbody tr th:only-of-type {\n",
       "        vertical-align: middle;\n",
       "    }\n",
       "\n",
       "    .dataframe tbody tr th {\n",
       "        vertical-align: top;\n",
       "    }\n",
       "\n",
       "    .dataframe thead th {\n",
       "        text-align: right;\n",
       "    }\n",
       "</style>\n",
       "<table border=\"1\" class=\"dataframe\">\n",
       "  <thead>\n",
       "    <tr style=\"text-align: right;\">\n",
       "      <th></th>\n",
       "      <th>RECORD_TIME</th>\n",
       "    </tr>\n",
       "  </thead>\n",
       "  <tbody>\n",
       "    <tr>\n",
       "      <th>0</th>\n",
       "      <td>2021-11-27 20:00</td>\n",
       "    </tr>\n",
       "    <tr>\n",
       "      <th>1</th>\n",
       "      <td>2021-11-27 19:30</td>\n",
       "    </tr>\n",
       "  </tbody>\n",
       "</table>\n",
       "</div>"
      ],
      "text/plain": [
       "        RECORD_TIME\n",
       "0  2021-11-27 20:00\n",
       "1  2021-11-27 19:30"
      ]
     },
     "execution_count": 3,
     "metadata": {},
     "output_type": "execute_result"
    }
   ],
   "source": [
    "timestamps"
   ]
  },
  {
   "cell_type": "code",
   "execution_count": 4,
   "id": "alternate-victory",
   "metadata": {
    "execution": {
     "iopub.execute_input": "2021-11-27T19:00:09.928953Z",
     "iopub.status.busy": "2021-11-27T19:00:09.926584Z",
     "iopub.status.idle": "2021-11-27T19:00:11.249511Z",
     "shell.execute_reply": "2021-11-27T19:00:11.251185Z"
    },
    "papermill": {
     "duration": 1.355087,
     "end_time": "2021-11-27T19:00:11.251672",
     "exception": false,
     "start_time": "2021-11-27T19:00:09.896585",
     "status": "completed"
    },
    "tags": []
   },
   "outputs": [],
   "source": [
    "df = pd.read_sql(\"select * from EBAY_TOP_BERLIN where record_time in (select distinct record_time from EBAY_TOP_BERLIN order by record_time desc limit 2)\", sqlite3.connect(\"UsedObjects.db\"))"
   ]
  },
  {
   "cell_type": "code",
   "execution_count": 5,
   "id": "popular-active",
   "metadata": {
    "execution": {
     "iopub.execute_input": "2021-11-27T19:00:11.321321Z",
     "iopub.status.busy": "2021-11-27T19:00:11.318631Z",
     "iopub.status.idle": "2021-11-27T19:00:11.361263Z",
     "shell.execute_reply": "2021-11-27T19:00:11.359473Z"
    },
    "papermill": {
     "duration": 0.084913,
     "end_time": "2021-11-27T19:00:11.361718",
     "exception": false,
     "start_time": "2021-11-27T19:00:11.276805",
     "status": "completed"
    },
    "tags": []
   },
   "outputs": [],
   "source": [
    "df_pivot = df.pivot_table(index=\"PRODUCT\", columns = \"RECORD_TIME\", values = \"LISTING_COUNT\")"
   ]
  },
  {
   "cell_type": "code",
   "execution_count": 6,
   "id": "union-huntington",
   "metadata": {
    "execution": {
     "iopub.execute_input": "2021-11-27T19:00:11.424048Z",
     "iopub.status.busy": "2021-11-27T19:00:11.421844Z",
     "iopub.status.idle": "2021-11-27T19:00:11.427012Z",
     "shell.execute_reply": "2021-11-27T19:00:11.428349Z"
    },
    "papermill": {
     "duration": 0.044836,
     "end_time": "2021-11-27T19:00:11.428871",
     "exception": false,
     "start_time": "2021-11-27T19:00:11.384035",
     "status": "completed"
    },
    "tags": []
   },
   "outputs": [],
   "source": [
    "df_pivot.columns = [\"stamp_1\", \"stamp_2\"]\n",
    "df_pivot_diff = df_pivot.diff(axis=1)"
   ]
  },
  {
   "cell_type": "code",
   "execution_count": 7,
   "id": "fifth-motion",
   "metadata": {
    "execution": {
     "iopub.execute_input": "2021-11-27T19:00:11.485360Z",
     "iopub.status.busy": "2021-11-27T19:00:11.482783Z",
     "iopub.status.idle": "2021-11-27T19:00:13.507758Z",
     "shell.execute_reply": "2021-11-27T19:00:13.509750Z"
    },
    "papermill": {
     "duration": 2.061428,
     "end_time": "2021-11-27T19:00:13.510364",
     "exception": false,
     "start_time": "2021-11-27T19:00:11.448936",
     "status": "completed"
    },
    "tags": []
   },
   "outputs": [
    {
     "data": {
      "text/plain": [
       "<AxesSubplot:ylabel='PRODUCT'>"
      ]
     },
     "execution_count": 7,
     "metadata": {},
     "output_type": "execute_result"
    },
    {
     "data": {
      "image/png": "[encoded data removed]",
      "text/plain": [
       "<Figure size 432x288 with 1 Axes>"
      ]
     },
     "metadata": {
      "needs_background": "light"
     },
     "output_type": "display_data"
    }
   ],
   "source": [
    "df_pivot_diff.sort_values(\"stamp_2\", ascending = False)[\"stamp_2\"].head(10).plot.barh()"
   ]
  },
  {
   "cell_type": "code",
   "execution_count": null,
   "id": "extra-executive",
   "metadata": {
    "papermill": {
     "duration": 0.024769,
     "end_time": "2021-11-27T19:00:13.563442",
     "exception": false,
     "start_time": "2021-11-27T19:00:13.538673",
     "status": "completed"
    },
    "tags": []
   },
   "outputs": [],
   "source": []
  }
 ],
 "metadata": {
  "kernelspec": {
   "display_name": "Python 3",
   "language": "python",
   "name": "python3"
  },
  "language_info": {
   "codemirror_mode": {
    "name": "ipython",
    "version": 3
   },
   "file_extension": ".py",
   "mimetype": "text/x-python",
   "name": "python",
   "nbconvert_exporter": "python",
   "pygments_lexer": "ipython3",
   "version": "3.9.5"
  },
  "papermill": {
   "default_parameters": {},
   "duration": 9.932337,
   "end_time": "2021-11-27T19:00:14.968105",
   "environment_variables": {},
   "exception": null,
   "input_path": "eBay_Overview.ipynb",
   "output_path": "eBay_Overview.ipynb",
   "parameters": {},
   "start_time": "2021-11-27T19:00:05.035768",
   "version": "2.3.3"
  }
 },
 "nbformat": 4,
 "nbformat_minor": 5
}