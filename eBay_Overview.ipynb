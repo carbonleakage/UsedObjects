{
 "cells": [
  {
   "cell_type": "code",
   "execution_count": 1,
   "id": "reverse-picking",
   "metadata": {
    "execution": {
     "iopub.execute_input": "2021-12-10T02:30:07.482602Z",
     "iopub.status.busy": "2021-12-10T02:30:07.480082Z",
     "iopub.status.idle": "2021-12-10T02:30:08.445637Z",
     "shell.execute_reply": "2021-12-10T02:30:08.442744Z"
    },
    "papermill": {
     "duration": 1.01309,
     "end_time": "2021-12-10T02:30:08.446176",
     "exception": false,
     "start_time": "2021-12-10T02:30:07.433086",
     "status": "completed"
    },
    "tags": []
   },
   "outputs": [],
   "source": [
    "import pandas as pd\n",
    "import sqlite3"
   ]
  },
  {
   "cell_type": "code",
   "execution_count": 2,
   "id": "innovative-syndrome",
   "metadata": {
    "execution": {
     "iopub.execute_input": "2021-12-10T02:30:08.504072Z",
     "iopub.status.busy": "2021-12-10T02:30:08.501540Z",
     "iopub.status.idle": "2021-12-10T02:30:09.535216Z",
     "shell.execute_reply": "2021-12-10T02:30:09.536581Z"
    },
    "papermill": {
     "duration": 1.066917,
     "end_time": "2021-12-10T02:30:09.537190",
     "exception": false,
     "start_time": "2021-12-10T02:30:08.470273",
     "status": "completed"
    },
    "tags": []
   },
   "outputs": [],
   "source": [
    "timestamps = pd.read_sql(\"select distinct record_time from EBAY_TOP_BERLIN order by record_time desc limit 2\", sqlite3.connect(\"UsedObjects.db\"))"
   ]
  },
  {
   "cell_type": "code",
   "execution_count": 3,
   "id": "periodic-identification",
   "metadata": {
    "execution": {
     "iopub.execute_input": "2021-12-10T02:30:09.608469Z",
     "iopub.status.busy": "2021-12-10T02:30:09.605856Z",
     "iopub.status.idle": "2021-12-10T02:30:09.633688Z",
     "shell.execute_reply": "2021-12-10T02:30:09.631146Z"
    },
    "papermill": {
     "duration": 0.07718,
     "end_time": "2021-12-10T02:30:09.634216",
     "exception": false,
     "start_time": "2021-12-10T02:30:09.557036",
     "status": "completed"
    },
    "tags": []
   },
   "outputs": [
    {
     "data": {
      "text/html": [
       "<div>\n",
       "<style scoped>\n",
       "    .dataframe tbody tr th:only-of-type {\n",
       "        vertical-align: middle;\n",
       "    }\n",
       "\n",
       "    .dataframe tbody tr th {\n",
       "        vertical-align: top;\n",
       "    }\n",
       "\n",
       "    .dataframe thead th {\n",
       "        text-align: right;\n",
       "    }\n",
       "</style>\n",
       "<table border=\"1\" class=\"dataframe\">\n",
       "  <thead>\n",
       "    <tr style=\"text-align: right;\">\n",
       "      <th></th>\n",
       "      <th>RECORD_TIME</th>\n",
       "    </tr>\n",
       "  </thead>\n",
       "  <tbody>\n",
       "    <tr>\n",
       "      <th>0</th>\n",
       "      <td>2021-12-10 03:30</td>\n",
       "    </tr>\n",
       "    <tr>\n",
       "      <th>1</th>\n",
       "      <td>2021-12-10 03:00</td>\n",
       "    </tr>\n",
       "  </tbody>\n",
       "</table>\n",
       "</div>"
      ],
      "text/plain": [
       "        RECORD_TIME\n",
       "0  2021-12-10 03:30\n",
       "1  2021-12-10 03:00"
      ]
     },
     "execution_count": 3,
     "metadata": {},
     "output_type": "execute_result"
    }
   ],
   "source": [
    "timestamps"
   ]
  },
  {
   "cell_type": "code",
   "execution_count": 4,
   "id": "alternate-victory",
   "metadata": {
    "execution": {
     "iopub.execute_input": "2021-12-10T02:30:09.715787Z",
     "iopub.status.busy": "2021-12-10T02:30:09.713360Z",
     "iopub.status.idle": "2021-12-10T02:30:11.231826Z",
     "shell.execute_reply": "2021-12-10T02:30:11.234473Z"
    },
    "papermill": {
     "duration": 1.56719,
     "end_time": "2021-12-10T02:30:11.235313",
     "exception": false,
     "start_time": "2021-12-10T02:30:09.668123",
     "status": "completed"
    },
    "tags": []
   },
   "outputs": [],
   "source": [
    "df = pd.read_sql(\"select * from EBAY_TOP_BERLIN where record_time in (select distinct record_time from EBAY_TOP_BERLIN order by record_time desc limit 2)\", sqlite3.connect(\"UsedObjects.db\"))"
   ]
  },
  {
   "cell_type": "code",
   "execution_count": 5,
   "id": "popular-active",
   "metadata": {
    "execution": {
     "iopub.execute_input": "2021-12-10T02:30:11.362769Z",
     "iopub.status.busy": "2021-12-10T02:30:11.332156Z",
     "iopub.status.idle": "2021-12-10T02:30:11.397359Z",
     "shell.execute_reply": "2021-12-10T02:30:11.400722Z"
    },
    "papermill": {
     "duration": 0.133774,
     "end_time": "2021-12-10T02:30:11.401646",
     "exception": false,
     "start_time": "2021-12-10T02:30:11.267872",
     "status": "completed"
    },
    "tags": []
   },
   "outputs": [],
   "source": [
    "df_pivot = df.pivot_table(index=\"PRODUCT\", columns = \"RECORD_TIME\", values = \"LISTING_COUNT\")"
   ]
  },
  {
   "cell_type": "code",
   "execution_count": 6,
   "id": "union-huntington",
   "metadata": {
    "execution": {
     "iopub.execute_input": "2021-12-10T02:30:11.489196Z",
     "iopub.status.busy": "2021-12-10T02:30:11.486406Z",
     "iopub.status.idle": "2021-12-10T02:30:11.493098Z",
     "shell.execute_reply": "2021-12-10T02:30:11.494911Z"
    },
    "papermill": {
     "duration": 0.060787,
     "end_time": "2021-12-10T02:30:11.495568",
     "exception": false,
     "start_time": "2021-12-10T02:30:11.434781",
     "status": "completed"
    },
    "tags": []
   },
   "outputs": [],
   "source": [
    "df_pivot.columns = [\"stamp_1\", \"stamp_2\"]\n",
    "df_pivot_diff = df_pivot.diff(axis=1)"
   ]
  },
  {
   "cell_type": "code",
   "execution_count": 7,
   "id": "fifth-motion",
   "metadata": {
    "execution": {
     "iopub.execute_input": "2021-12-10T02:30:11.585487Z",
     "iopub.status.busy": "2021-12-10T02:30:11.581612Z",
     "iopub.status.idle": "2021-12-10T02:30:13.302046Z",
     "shell.execute_reply": "2021-12-10T02:30:13.303257Z"
    },
    "papermill": {
     "duration": 1.77676,
     "end_time": "2021-12-10T02:30:13.303706",
     "exception": false,
     "start_time": "2021-12-10T02:30:11.526946",
     "status": "completed"
    },
    "tags": []
   },
   "outputs": [
    {
     "data": {
      "text/plain": [
       "<AxesSubplot:ylabel='PRODUCT'>"
      ]
     },
     "execution_count": 7,
     "metadata": {},
     "output_type": "execute_result"
    },
    {
     "data": {
      "image/png": "[encoded data removed]",
      "text/plain": [
       "<Figure size 432x288 with 1 Axes>"
      ]
     },
     "metadata": {
      "needs_background": "light"
     },
     "output_type": "display_data"
    }
   ],
   "source": [
    "df_pivot_diff.sort_values(\"stamp_2\", ascending = False)[\"stamp_2\"].head(10).plot.barh()"
   ]
  },
  {
   "cell_type": "code",
   "execution_count": null,
   "id": "extra-executive",
   "metadata": {
    "papermill": {
     "duration": 0.022092,
     "end_time": "2021-12-10T02:30:13.352785",
     "exception": false,
     "start_time": "2021-12-10T02:30:13.330693",
     "status": "completed"
    },
    "tags": []
   },
   "outputs": [],
   "source": []
  }
 ],
 "metadata": {
  "kernelspec": {
   "display_name": "Python 3",
   "language": "python",
   "name": "python3"
  },
  "language_info": {
   "codemirror_mode": {
    "name": "ipython",
    "version": 3
   },
   "file_extension": ".py",
   "mimetype": "text/x-python",
   "name": "python",
   "nbconvert_exporter": "python",
   "pygments_lexer": "ipython3",
   "version": "3.9.5"
  },
  "papermill": {
   "default_parameters": {},
   "duration": 9.947342,
   "end_time": "2021-12-10T02:30:14.633169",
   "environment_variables": {},
   "exception": null,
   "input_path": "eBay_Overview.ipynb",
   "output_path": "eBay_Overview.ipynb",
   "parameters": {},
   "start_time": "2021-12-10T02:30:04.685827",
   "version": "2.3.3"
  }
 },
 "nbformat": 4,
 "nbformat_minor": 5
}