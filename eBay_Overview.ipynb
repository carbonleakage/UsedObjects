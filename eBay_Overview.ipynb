{
 "cells": [
  {
   "cell_type": "code",
   "execution_count": 1,
   "id": "reverse-picking",
   "metadata": {
    "execution": {
     "iopub.execute_input": "2021-09-26T12:30:07.541959Z",
     "iopub.status.busy": "2021-09-26T12:30:07.540039Z",
     "iopub.status.idle": "2021-09-26T12:30:08.345747Z",
     "shell.execute_reply": "2021-09-26T12:30:08.347056Z"
    },
    "papermill": {
     "duration": 0.856289,
     "end_time": "2021-09-26T12:30:08.347681",
     "exception": false,
     "start_time": "2021-09-26T12:30:07.491392",
     "status": "completed"
    },
    "tags": []
   },
   "outputs": [],
   "source": [
    "import pandas as pd\n",
    "import sqlite3"
   ]
  },
  {
   "cell_type": "code",
   "execution_count": 2,
   "id": "innovative-syndrome",
   "metadata": {
    "execution": {
     "iopub.execute_input": "2021-09-26T12:30:08.400713Z",
     "iopub.status.busy": "2021-09-26T12:30:08.398478Z",
     "iopub.status.idle": "2021-09-26T12:30:08.780832Z",
     "shell.execute_reply": "2021-09-26T12:30:08.782000Z"
    },
    "papermill": {
     "duration": 0.412002,
     "end_time": "2021-09-26T12:30:08.782389",
     "exception": false,
     "start_time": "2021-09-26T12:30:08.370387",
     "status": "completed"
    },
    "tags": []
   },
   "outputs": [],
   "source": [
    "timestamps = pd.read_sql(\"select distinct record_time from EBAY_TOP_BERLIN order by record_time desc limit 2\", sqlite3.connect(\"UsedObjects.db\"))"
   ]
  },
  {
   "cell_type": "code",
   "execution_count": 3,
   "id": "periodic-identification",
   "metadata": {
    "execution": {
     "iopub.execute_input": "2021-09-26T12:30:08.854547Z",
     "iopub.status.busy": "2021-09-26T12:30:08.849298Z",
     "iopub.status.idle": "2021-09-26T12:30:08.869510Z",
     "shell.execute_reply": "2021-09-26T12:30:08.870773Z"
    },
    "papermill": {
     "duration": 0.066995,
     "end_time": "2021-09-26T12:30:08.871252",
     "exception": false,
     "start_time": "2021-09-26T12:30:08.804257",
     "status": "completed"
    },
    "tags": []
   },
   "outputs": [
    {
     "data": {
      "text/html": [
       "<div>\n",
       "<style scoped>\n",
       "    .dataframe tbody tr th:only-of-type {\n",
       "        vertical-align: middle;\n",
       "    }\n",
       "\n",
       "    .dataframe tbody tr th {\n",
       "        vertical-align: top;\n",
       "    }\n",
       "\n",
       "    .dataframe thead th {\n",
       "        text-align: right;\n",
       "    }\n",
       "</style>\n",
       "<table border=\"1\" class=\"dataframe\">\n",
       "  <thead>\n",
       "    <tr style=\"text-align: right;\">\n",
       "      <th></th>\n",
       "      <th>RECORD_TIME</th>\n",
       "    </tr>\n",
       "  </thead>\n",
       "  <tbody>\n",
       "    <tr>\n",
       "      <th>0</th>\n",
       "      <td>2021-09-26 14:30</td>\n",
       "    </tr>\n",
       "    <tr>\n",
       "      <th>1</th>\n",
       "      <td>2021-09-26 14:00</td>\n",
       "    </tr>\n",
       "  </tbody>\n",
       "</table>\n",
       "</div>"
      ],
      "text/plain": [
       "        RECORD_TIME\n",
       "0  2021-09-26 14:30\n",
       "1  2021-09-26 14:00"
      ]
     },
     "execution_count": 3,
     "metadata": {},
     "output_type": "execute_result"
    }
   ],
   "source": [
    "timestamps"
   ]
  },
  {
   "cell_type": "code",
   "execution_count": 4,
   "id": "alternate-victory",
   "metadata": {
    "execution": {
     "iopub.execute_input": "2021-09-26T12:30:08.923412Z",
     "iopub.status.busy": "2021-09-26T12:30:08.921166Z",
     "iopub.status.idle": "2021-09-26T12:30:09.497028Z",
     "shell.execute_reply": "2021-09-26T12:30:09.498302Z"
    },
    "papermill": {
     "duration": 0.606721,
     "end_time": "2021-09-26T12:30:09.498711",
     "exception": false,
     "start_time": "2021-09-26T12:30:08.891990",
     "status": "completed"
    },
    "tags": []
   },
   "outputs": [],
   "source": [
    "df = pd.read_sql(\"select * from EBAY_TOP_BERLIN where record_time in (select distinct record_time from EBAY_TOP_BERLIN order by record_time desc limit 2)\", sqlite3.connect(\"UsedObjects.db\"))"
   ]
  },
  {
   "cell_type": "code",
   "execution_count": 5,
   "id": "popular-active",
   "metadata": {
    "execution": {
     "iopub.execute_input": "2021-09-26T12:30:09.580103Z",
     "iopub.status.busy": "2021-09-26T12:30:09.568213Z",
     "iopub.status.idle": "2021-09-26T12:30:09.595459Z",
     "shell.execute_reply": "2021-09-26T12:30:09.596677Z"
    },
    "papermill": {
     "duration": 0.072465,
     "end_time": "2021-09-26T12:30:09.597066",
     "exception": false,
     "start_time": "2021-09-26T12:30:09.524601",
     "status": "completed"
    },
    "tags": []
   },
   "outputs": [],
   "source": [
    "df_pivot = df.pivot_table(index=\"PRODUCT\", columns = \"RECORD_TIME\", values = \"LISTING_COUNT\")"
   ]
  },
  {
   "cell_type": "code",
   "execution_count": 6,
   "id": "union-huntington",
   "metadata": {
    "execution": {
     "iopub.execute_input": "2021-09-26T12:30:09.656016Z",
     "iopub.status.busy": "2021-09-26T12:30:09.653547Z",
     "iopub.status.idle": "2021-09-26T12:30:09.660152Z",
     "shell.execute_reply": "2021-09-26T12:30:09.661494Z"
    },
    "papermill": {
     "duration": 0.043049,
     "end_time": "2021-09-26T12:30:09.661907",
     "exception": false,
     "start_time": "2021-09-26T12:30:09.618858",
     "status": "completed"
    },
    "tags": []
   },
   "outputs": [],
   "source": [
    "df_pivot.columns = [\"stamp_1\", \"stamp_2\"]\n",
    "df_pivot_diff = df_pivot.diff(axis=1)"
   ]
  },
  {
   "cell_type": "code",
   "execution_count": 7,
   "id": "fifth-motion",
   "metadata": {
    "execution": {
     "iopub.execute_input": "2021-09-26T12:30:09.716350Z",
     "iopub.status.busy": "2021-09-26T12:30:09.713931Z",
     "iopub.status.idle": "2021-09-26T12:30:11.176018Z",
     "shell.execute_reply": "2021-09-26T12:30:11.177302Z"
    },
    "papermill": {
     "duration": 1.495006,
     "end_time": "2021-09-26T12:30:11.177716",
     "exception": false,
     "start_time": "2021-09-26T12:30:09.682710",
     "status": "completed"
    },
    "tags": []
   },
   "outputs": [
    {
     "data": {
      "text/plain": [
       "<AxesSubplot:ylabel='PRODUCT'>"
      ]
     },
     "execution_count": 7,
     "metadata": {},
     "output_type": "execute_result"
    },
    {
     "data": {
      "image/png": "[encoded data removed]",
      "text/plain": [
       "<Figure size 432x288 with 1 Axes>"
      ]
     },
     "metadata": {
      "needs_background": "light"
     },
     "output_type": "display_data"
    }
   ],
   "source": [
    "df_pivot_diff.sort_values(\"stamp_2\", ascending = False)[\"stamp_2\"].head(10).plot.barh()"
   ]
  },
  {
   "cell_type": "code",
   "execution_count": null,
   "id": "extra-executive",
   "metadata": {
    "papermill": {
     "duration": 0.022448,
     "end_time": "2021-09-26T12:30:11.224774",
     "exception": false,
     "start_time": "2021-09-26T12:30:11.202326",
     "status": "completed"
    },
    "tags": []
   },
   "outputs": [],
   "source": []
  }
 ],
 "metadata": {
  "kernelspec": {
   "display_name": "Python 3",
   "language": "python",
   "name": "python3"
  },
  "language_info": {
   "codemirror_mode": {
    "name": "ipython",
    "version": 3
   },
   "file_extension": ".py",
   "mimetype": "text/x-python",
   "name": "python",
   "nbconvert_exporter": "python",
   "pygments_lexer": "ipython3",
   "version": "3.9.5"
  },
  "papermill": {
   "default_parameters": {},
   "duration": 6.779499,
   "end_time": "2021-09-26T12:30:11.868564",
   "environment_variables": {},
   "exception": null,
   "input_path": "eBay_Overview.ipynb",
   "output_path": "eBay_Overview.ipynb",
   "parameters": {},
   "start_time": "2021-09-26T12:30:05.089065",
   "version": "2.3.3"
  }
 },
 "nbformat": 4,
 "nbformat_minor": 5
}