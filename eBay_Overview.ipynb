{
 "cells": [
  {
   "cell_type": "code",
   "execution_count": 1,
   "id": "reverse-picking",
   "metadata": {
    "execution": {
     "iopub.execute_input": "2021-11-05T11:00:08.099099Z",
     "iopub.status.busy": "2021-11-05T11:00:08.096669Z",
     "iopub.status.idle": "2021-11-05T11:00:09.034453Z",
     "shell.execute_reply": "2021-11-05T11:00:09.036091Z"
    },
    "papermill": {
     "duration": 0.989856,
     "end_time": "2021-11-05T11:00:09.037006",
     "exception": false,
     "start_time": "2021-11-05T11:00:08.047150",
     "status": "completed"
    },
    "tags": []
   },
   "outputs": [],
   "source": [
    "import pandas as pd\n",
    "import sqlite3"
   ]
  },
  {
   "cell_type": "code",
   "execution_count": 2,
   "id": "innovative-syndrome",
   "metadata": {
    "execution": {
     "iopub.execute_input": "2021-11-05T11:00:09.098797Z",
     "iopub.status.busy": "2021-11-05T11:00:09.096473Z",
     "iopub.status.idle": "2021-11-05T11:00:09.831035Z",
     "shell.execute_reply": "2021-11-05T11:00:09.832434Z"
    },
    "papermill": {
     "duration": 0.768679,
     "end_time": "2021-11-05T11:00:09.833021",
     "exception": false,
     "start_time": "2021-11-05T11:00:09.064342",
     "status": "completed"
    },
    "tags": []
   },
   "outputs": [],
   "source": [
    "timestamps = pd.read_sql(\"select distinct record_time from EBAY_TOP_BERLIN order by record_time desc limit 2\", sqlite3.connect(\"UsedObjects.db\"))"
   ]
  },
  {
   "cell_type": "code",
   "execution_count": 3,
   "id": "periodic-identification",
   "metadata": {
    "execution": {
     "iopub.execute_input": "2021-11-05T11:00:09.902185Z",
     "iopub.status.busy": "2021-11-05T11:00:09.899880Z",
     "iopub.status.idle": "2021-11-05T11:00:09.922550Z",
     "shell.execute_reply": "2021-11-05T11:00:09.924196Z"
    },
    "papermill": {
     "duration": 0.071979,
     "end_time": "2021-11-05T11:00:09.924766",
     "exception": false,
     "start_time": "2021-11-05T11:00:09.852787",
     "status": "completed"
    },
    "tags": []
   },
   "outputs": [
    {
     "data": {
      "text/html": [
       "<div>\n",
       "<style scoped>\n",
       "    .dataframe tbody tr th:only-of-type {\n",
       "        vertical-align: middle;\n",
       "    }\n",
       "\n",
       "    .dataframe tbody tr th {\n",
       "        vertical-align: top;\n",
       "    }\n",
       "\n",
       "    .dataframe thead th {\n",
       "        text-align: right;\n",
       "    }\n",
       "</style>\n",
       "<table border=\"1\" class=\"dataframe\">\n",
       "  <thead>\n",
       "    <tr style=\"text-align: right;\">\n",
       "      <th></th>\n",
       "      <th>RECORD_TIME</th>\n",
       "    </tr>\n",
       "  </thead>\n",
       "  <tbody>\n",
       "    <tr>\n",
       "      <th>0</th>\n",
       "      <td>2021-11-05 12:00</td>\n",
       "    </tr>\n",
       "    <tr>\n",
       "      <th>1</th>\n",
       "      <td>2021-11-05 11:30</td>\n",
       "    </tr>\n",
       "  </tbody>\n",
       "</table>\n",
       "</div>"
      ],
      "text/plain": [
       "        RECORD_TIME\n",
       "0  2021-11-05 12:00\n",
       "1  2021-11-05 11:30"
      ]
     },
     "execution_count": 3,
     "metadata": {},
     "output_type": "execute_result"
    }
   ],
   "source": [
    "timestamps"
   ]
  },
  {
   "cell_type": "code",
   "execution_count": 4,
   "id": "alternate-victory",
   "metadata": {
    "execution": {
     "iopub.execute_input": "2021-11-05T11:00:09.981039Z",
     "iopub.status.busy": "2021-11-05T11:00:09.978725Z",
     "iopub.status.idle": "2021-11-05T11:00:11.145470Z",
     "shell.execute_reply": "2021-11-05T11:00:11.147115Z"
    },
    "papermill": {
     "duration": 1.201052,
     "end_time": "2021-11-05T11:00:11.147597",
     "exception": false,
     "start_time": "2021-11-05T11:00:09.946545",
     "status": "completed"
    },
    "tags": []
   },
   "outputs": [],
   "source": [
    "df = pd.read_sql(\"select * from EBAY_TOP_BERLIN where record_time in (select distinct record_time from EBAY_TOP_BERLIN order by record_time desc limit 2)\", sqlite3.connect(\"UsedObjects.db\"))"
   ]
  },
  {
   "cell_type": "code",
   "execution_count": 5,
   "id": "popular-active",
   "metadata": {
    "execution": {
     "iopub.execute_input": "2021-11-05T11:00:11.230119Z",
     "iopub.status.busy": "2021-11-05T11:00:11.212999Z",
     "iopub.status.idle": "2021-11-05T11:00:11.250676Z",
     "shell.execute_reply": "2021-11-05T11:00:11.248941Z"
    },
    "papermill": {
     "duration": 0.080916,
     "end_time": "2021-11-05T11:00:11.251095",
     "exception": false,
     "start_time": "2021-11-05T11:00:11.170179",
     "status": "completed"
    },
    "tags": []
   },
   "outputs": [],
   "source": [
    "df_pivot = df.pivot_table(index=\"PRODUCT\", columns = \"RECORD_TIME\", values = \"LISTING_COUNT\")"
   ]
  },
  {
   "cell_type": "code",
   "execution_count": 6,
   "id": "union-huntington",
   "metadata": {
    "execution": {
     "iopub.execute_input": "2021-11-05T11:00:11.310266Z",
     "iopub.status.busy": "2021-11-05T11:00:11.308015Z",
     "iopub.status.idle": "2021-11-05T11:00:11.313225Z",
     "shell.execute_reply": "2021-11-05T11:00:11.314817Z"
    },
    "papermill": {
     "duration": 0.043624,
     "end_time": "2021-11-05T11:00:11.315286",
     "exception": false,
     "start_time": "2021-11-05T11:00:11.271662",
     "status": "completed"
    },
    "tags": []
   },
   "outputs": [],
   "source": [
    "df_pivot.columns = [\"stamp_1\", \"stamp_2\"]\n",
    "df_pivot_diff = df_pivot.diff(axis=1)"
   ]
  },
  {
   "cell_type": "code",
   "execution_count": 7,
   "id": "fifth-motion",
   "metadata": {
    "execution": {
     "iopub.execute_input": "2021-11-05T11:00:11.372801Z",
     "iopub.status.busy": "2021-11-05T11:00:11.370395Z",
     "iopub.status.idle": "2021-11-05T11:00:13.216043Z",
     "shell.execute_reply": "2021-11-05T11:00:13.218939Z"
    },
    "papermill": {
     "duration": 1.884321,
     "end_time": "2021-11-05T11:00:13.219804",
     "exception": false,
     "start_time": "2021-11-05T11:00:11.335483",
     "status": "completed"
    },
    "tags": []
   },
   "outputs": [
    {
     "data": {
      "text/plain": [
       "<AxesSubplot:ylabel='PRODUCT'>"
      ]
     },
     "execution_count": 7,
     "metadata": {},
     "output_type": "execute_result"
    },
    {
     "data": {
      "image/png": "[encoded data removed]",
      "text/plain": [
       "<Figure size 432x288 with 1 Axes>"
      ]
     },
     "metadata": {
      "needs_background": "light"
     },
     "output_type": "display_data"
    }
   ],
   "source": [
    "df_pivot_diff.sort_values(\"stamp_2\", ascending = False)[\"stamp_2\"].head(10).plot.barh()"
   ]
  },
  {
   "cell_type": "code",
   "execution_count": null,
   "id": "extra-executive",
   "metadata": {
    "papermill": {
     "duration": 0.039328,
     "end_time": "2021-11-05T11:00:13.298315",
     "exception": false,
     "start_time": "2021-11-05T11:00:13.258987",
     "status": "completed"
    },
    "tags": []
   },
   "outputs": [],
   "source": []
  }
 ],
 "metadata": {
  "kernelspec": {
   "display_name": "Python 3",
   "language": "python",
   "name": "python3"
  },
  "language_info": {
   "codemirror_mode": {
    "name": "ipython",
    "version": 3
   },
   "file_extension": ".py",
   "mimetype": "text/x-python",
   "name": "python",
   "nbconvert_exporter": "python",
   "pygments_lexer": "ipython3",
   "version": "3.9.5"
  },
  "papermill": {
   "default_parameters": {},
   "duration": 8.865814,
   "end_time": "2021-11-05T11:00:14.169476",
   "environment_variables": {},
   "exception": null,
   "input_path": "eBay_Overview.ipynb",
   "output_path": "eBay_Overview.ipynb",
   "parameters": {},
   "start_time": "2021-11-05T11:00:05.303662",
   "version": "2.3.3"
  }
 },
 "nbformat": 4,
 "nbformat_minor": 5
}