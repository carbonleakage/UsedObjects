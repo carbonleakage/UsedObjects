{
 "cells": [
  {
   "cell_type": "code",
   "execution_count": 1,
   "id": "reverse-picking",
   "metadata": {
    "execution": {
     "iopub.execute_input": "2021-10-06T04:00:07.276913Z",
     "iopub.status.busy": "2021-10-06T04:00:07.274869Z",
     "iopub.status.idle": "2021-10-06T04:00:08.080240Z",
     "shell.execute_reply": "2021-10-06T04:00:08.081475Z"
    },
    "papermill": {
     "duration": 0.858125,
     "end_time": "2021-10-06T04:00:08.082082",
     "exception": false,
     "start_time": "2021-10-06T04:00:07.223957",
     "status": "completed"
    },
    "tags": []
   },
   "outputs": [],
   "source": [
    "import pandas as pd\n",
    "import sqlite3"
   ]
  },
  {
   "cell_type": "code",
   "execution_count": 2,
   "id": "innovative-syndrome",
   "metadata": {
    "execution": {
     "iopub.execute_input": "2021-10-06T04:00:08.132791Z",
     "iopub.status.busy": "2021-10-06T04:00:08.130897Z",
     "iopub.status.idle": "2021-10-06T04:00:08.587166Z",
     "shell.execute_reply": "2021-10-06T04:00:08.588388Z"
    },
    "papermill": {
     "duration": 0.485772,
     "end_time": "2021-10-06T04:00:08.588783",
     "exception": false,
     "start_time": "2021-10-06T04:00:08.103011",
     "status": "completed"
    },
    "tags": []
   },
   "outputs": [],
   "source": [
    "timestamps = pd.read_sql(\"select distinct record_time from EBAY_TOP_BERLIN order by record_time desc limit 2\", sqlite3.connect(\"UsedObjects.db\"))"
   ]
  },
  {
   "cell_type": "code",
   "execution_count": 3,
   "id": "periodic-identification",
   "metadata": {
    "execution": {
     "iopub.execute_input": "2021-10-06T04:00:08.653772Z",
     "iopub.status.busy": "2021-10-06T04:00:08.651563Z",
     "iopub.status.idle": "2021-10-06T04:00:08.673424Z",
     "shell.execute_reply": "2021-10-06T04:00:08.675123Z"
    },
    "papermill": {
     "duration": 0.067395,
     "end_time": "2021-10-06T04:00:08.675645",
     "exception": false,
     "start_time": "2021-10-06T04:00:08.608250",
     "status": "completed"
    },
    "tags": []
   },
   "outputs": [
    {
     "data": {
      "text/html": [
       "<div>\n",
       "<style scoped>\n",
       "    .dataframe tbody tr th:only-of-type {\n",
       "        vertical-align: middle;\n",
       "    }\n",
       "\n",
       "    .dataframe tbody tr th {\n",
       "        vertical-align: top;\n",
       "    }\n",
       "\n",
       "    .dataframe thead th {\n",
       "        text-align: right;\n",
       "    }\n",
       "</style>\n",
       "<table border=\"1\" class=\"dataframe\">\n",
       "  <thead>\n",
       "    <tr style=\"text-align: right;\">\n",
       "      <th></th>\n",
       "      <th>RECORD_TIME</th>\n",
       "    </tr>\n",
       "  </thead>\n",
       "  <tbody>\n",
       "    <tr>\n",
       "      <th>0</th>\n",
       "      <td>2021-10-06 06:00</td>\n",
       "    </tr>\n",
       "    <tr>\n",
       "      <th>1</th>\n",
       "      <td>2021-10-06 05:30</td>\n",
       "    </tr>\n",
       "  </tbody>\n",
       "</table>\n",
       "</div>"
      ],
      "text/plain": [
       "        RECORD_TIME\n",
       "0  2021-10-06 06:00\n",
       "1  2021-10-06 05:30"
      ]
     },
     "execution_count": 3,
     "metadata": {},
     "output_type": "execute_result"
    }
   ],
   "source": [
    "timestamps"
   ]
  },
  {
   "cell_type": "code",
   "execution_count": 4,
   "id": "alternate-victory",
   "metadata": {
    "execution": {
     "iopub.execute_input": "2021-10-06T04:00:08.729167Z",
     "iopub.status.busy": "2021-10-06T04:00:08.727300Z",
     "iopub.status.idle": "2021-10-06T04:00:09.412310Z",
     "shell.execute_reply": "2021-10-06T04:00:09.413525Z"
    },
    "papermill": {
     "duration": 0.715779,
     "end_time": "2021-10-06T04:00:09.413924",
     "exception": false,
     "start_time": "2021-10-06T04:00:08.698145",
     "status": "completed"
    },
    "tags": []
   },
   "outputs": [],
   "source": [
    "df = pd.read_sql(\"select * from EBAY_TOP_BERLIN where record_time in (select distinct record_time from EBAY_TOP_BERLIN order by record_time desc limit 2)\", sqlite3.connect(\"UsedObjects.db\"))"
   ]
  },
  {
   "cell_type": "code",
   "execution_count": 5,
   "id": "popular-active",
   "metadata": {
    "execution": {
     "iopub.execute_input": "2021-10-06T04:00:09.487795Z",
     "iopub.status.busy": "2021-10-06T04:00:09.475740Z",
     "iopub.status.idle": "2021-10-06T04:00:09.504108Z",
     "shell.execute_reply": "2021-10-06T04:00:09.505383Z"
    },
    "papermill": {
     "duration": 0.069244,
     "end_time": "2021-10-06T04:00:09.505838",
     "exception": false,
     "start_time": "2021-10-06T04:00:09.436594",
     "status": "completed"
    },
    "tags": []
   },
   "outputs": [],
   "source": [
    "df_pivot = df.pivot_table(index=\"PRODUCT\", columns = \"RECORD_TIME\", values = \"LISTING_COUNT\")"
   ]
  },
  {
   "cell_type": "code",
   "execution_count": 6,
   "id": "union-huntington",
   "metadata": {
    "execution": {
     "iopub.execute_input": "2021-10-06T04:00:09.566413Z",
     "iopub.status.busy": "2021-10-06T04:00:09.563998Z",
     "iopub.status.idle": "2021-10-06T04:00:09.570002Z",
     "shell.execute_reply": "2021-10-06T04:00:09.571449Z"
    },
    "papermill": {
     "duration": 0.042696,
     "end_time": "2021-10-06T04:00:09.571907",
     "exception": false,
     "start_time": "2021-10-06T04:00:09.529211",
     "status": "completed"
    },
    "tags": []
   },
   "outputs": [],
   "source": [
    "df_pivot.columns = [\"stamp_1\", \"stamp_2\"]\n",
    "df_pivot_diff = df_pivot.diff(axis=1)"
   ]
  },
  {
   "cell_type": "code",
   "execution_count": 7,
   "id": "fifth-motion",
   "metadata": {
    "execution": {
     "iopub.execute_input": "2021-10-06T04:00:09.626561Z",
     "iopub.status.busy": "2021-10-06T04:00:09.624371Z",
     "iopub.status.idle": "2021-10-06T04:00:11.133306Z",
     "shell.execute_reply": "2021-10-06T04:00:11.134587Z"
    },
    "papermill": {
     "duration": 1.541813,
     "end_time": "2021-10-06T04:00:11.135213",
     "exception": false,
     "start_time": "2021-10-06T04:00:09.593400",
     "status": "completed"
    },
    "tags": []
   },
   "outputs": [
    {
     "data": {
      "text/plain": [
       "<AxesSubplot:ylabel='PRODUCT'>"
      ]
     },
     "execution_count": 7,
     "metadata": {},
     "output_type": "execute_result"
    },
    {
     "data": {
      "image/png": "[encoded data removed]",
      "text/plain": [
       "<Figure size 432x288 with 1 Axes>"
      ]
     },
     "metadata": {
      "needs_background": "light"
     },
     "output_type": "display_data"
    }
   ],
   "source": [
    "df_pivot_diff.sort_values(\"stamp_2\", ascending = False)[\"stamp_2\"].head(10).plot.barh()"
   ]
  },
  {
   "cell_type": "code",
   "execution_count": null,
   "id": "extra-executive",
   "metadata": {
    "papermill": {
     "duration": 0.022392,
     "end_time": "2021-10-06T04:00:11.182356",
     "exception": false,
     "start_time": "2021-10-06T04:00:11.159964",
     "status": "completed"
    },
    "tags": []
   },
   "outputs": [],
   "source": []
  }
 ],
 "metadata": {
  "kernelspec": {
   "display_name": "Python 3",
   "language": "python",
   "name": "python3"
  },
  "language_info": {
   "codemirror_mode": {
    "name": "ipython",
    "version": 3
   },
   "file_extension": ".py",
   "mimetype": "text/x-python",
   "name": "python",
   "nbconvert_exporter": "python",
   "pygments_lexer": "ipython3",
   "version": "3.9.5"
  },
  "papermill": {
   "default_parameters": {},
   "duration": 7.821068,
   "end_time": "2021-10-06T04:00:12.645373",
   "environment_variables": {},
   "exception": null,
   "input_path": "eBay_Overview.ipynb",
   "output_path": "eBay_Overview.ipynb",
   "parameters": {},
   "start_time": "2021-10-06T04:00:04.824305",
   "version": "2.3.3"
  }
 },
 "nbformat": 4,
 "nbformat_minor": 5
}