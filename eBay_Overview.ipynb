{
 "cells": [
  {
   "cell_type": "code",
   "execution_count": 1,
   "id": "reverse-picking",
   "metadata": {
    "execution": {
     "iopub.execute_input": "2021-11-30T23:00:09.010452Z",
     "iopub.status.busy": "2021-11-30T23:00:08.993134Z",
     "iopub.status.idle": "2021-11-30T23:00:09.976343Z",
     "shell.execute_reply": "2021-11-30T23:00:09.977761Z"
    },
    "papermill": {
     "duration": 1.016973,
     "end_time": "2021-11-30T23:00:09.978551",
     "exception": false,
     "start_time": "2021-11-30T23:00:08.961578",
     "status": "completed"
    },
    "tags": []
   },
   "outputs": [],
   "source": [
    "import pandas as pd\n",
    "import sqlite3"
   ]
  },
  {
   "cell_type": "code",
   "execution_count": 2,
   "id": "innovative-syndrome",
   "metadata": {
    "execution": {
     "iopub.execute_input": "2021-11-30T23:00:10.037839Z",
     "iopub.status.busy": "2021-11-30T23:00:10.035618Z",
     "iopub.status.idle": "2021-11-30T23:00:10.983810Z",
     "shell.execute_reply": "2021-11-30T23:00:10.985451Z"
    },
    "papermill": {
     "duration": 0.984213,
     "end_time": "2021-11-30T23:00:10.985967",
     "exception": false,
     "start_time": "2021-11-30T23:00:10.001754",
     "status": "completed"
    },
    "tags": []
   },
   "outputs": [],
   "source": [
    "timestamps = pd.read_sql(\"select distinct record_time from EBAY_TOP_BERLIN order by record_time desc limit 2\", sqlite3.connect(\"UsedObjects.db\"))"
   ]
  },
  {
   "cell_type": "code",
   "execution_count": 3,
   "id": "periodic-identification",
   "metadata": {
    "execution": {
     "iopub.execute_input": "2021-11-30T23:00:11.058639Z",
     "iopub.status.busy": "2021-11-30T23:00:11.056309Z",
     "iopub.status.idle": "2021-11-30T23:00:11.078295Z",
     "shell.execute_reply": "2021-11-30T23:00:11.079642Z"
    },
    "papermill": {
     "duration": 0.072644,
     "end_time": "2021-11-30T23:00:11.080117",
     "exception": false,
     "start_time": "2021-11-30T23:00:11.007473",
     "status": "completed"
    },
    "tags": []
   },
   "outputs": [
    {
     "data": {
      "text/html": [
       "<div>\n",
       "<style scoped>\n",
       "    .dataframe tbody tr th:only-of-type {\n",
       "        vertical-align: middle;\n",
       "    }\n",
       "\n",
       "    .dataframe tbody tr th {\n",
       "        vertical-align: top;\n",
       "    }\n",
       "\n",
       "    .dataframe thead th {\n",
       "        text-align: right;\n",
       "    }\n",
       "</style>\n",
       "<table border=\"1\" class=\"dataframe\">\n",
       "  <thead>\n",
       "    <tr style=\"text-align: right;\">\n",
       "      <th></th>\n",
       "      <th>RECORD_TIME</th>\n",
       "    </tr>\n",
       "  </thead>\n",
       "  <tbody>\n",
       "    <tr>\n",
       "      <th>0</th>\n",
       "      <td>2021-12-01 00:00</td>\n",
       "    </tr>\n",
       "    <tr>\n",
       "      <th>1</th>\n",
       "      <td>2021-11-30 23:30</td>\n",
       "    </tr>\n",
       "  </tbody>\n",
       "</table>\n",
       "</div>"
      ],
      "text/plain": [
       "        RECORD_TIME\n",
       "0  2021-12-01 00:00\n",
       "1  2021-11-30 23:30"
      ]
     },
     "execution_count": 3,
     "metadata": {},
     "output_type": "execute_result"
    }
   ],
   "source": [
    "timestamps"
   ]
  },
  {
   "cell_type": "code",
   "execution_count": 4,
   "id": "alternate-victory",
   "metadata": {
    "execution": {
     "iopub.execute_input": "2021-11-30T23:00:11.133321Z",
     "iopub.status.busy": "2021-11-30T23:00:11.131150Z",
     "iopub.status.idle": "2021-11-30T23:00:12.538559Z",
     "shell.execute_reply": "2021-11-30T23:00:12.540658Z"
    },
    "papermill": {
     "duration": 1.440626,
     "end_time": "2021-11-30T23:00:12.541193",
     "exception": false,
     "start_time": "2021-11-30T23:00:11.100567",
     "status": "completed"
    },
    "tags": []
   },
   "outputs": [],
   "source": [
    "df = pd.read_sql(\"select * from EBAY_TOP_BERLIN where record_time in (select distinct record_time from EBAY_TOP_BERLIN order by record_time desc limit 2)\", sqlite3.connect(\"UsedObjects.db\"))"
   ]
  },
  {
   "cell_type": "code",
   "execution_count": 5,
   "id": "popular-active",
   "metadata": {
    "execution": {
     "iopub.execute_input": "2021-11-30T23:00:12.616351Z",
     "iopub.status.busy": "2021-11-30T23:00:12.603644Z",
     "iopub.status.idle": "2021-11-30T23:00:12.634510Z",
     "shell.execute_reply": "2021-11-30T23:00:12.635886Z"
    },
    "papermill": {
     "duration": 0.074093,
     "end_time": "2021-11-30T23:00:12.636364",
     "exception": false,
     "start_time": "2021-11-30T23:00:12.562271",
     "status": "completed"
    },
    "tags": []
   },
   "outputs": [],
   "source": [
    "df_pivot = df.pivot_table(index=\"PRODUCT\", columns = \"RECORD_TIME\", values = \"LISTING_COUNT\")"
   ]
  },
  {
   "cell_type": "code",
   "execution_count": 6,
   "id": "union-huntington",
   "metadata": {
    "execution": {
     "iopub.execute_input": "2021-11-30T23:00:12.695888Z",
     "iopub.status.busy": "2021-11-30T23:00:12.693524Z",
     "iopub.status.idle": "2021-11-30T23:00:12.702455Z",
     "shell.execute_reply": "2021-11-30T23:00:12.700573Z"
    },
    "papermill": {
     "duration": 0.046488,
     "end_time": "2021-11-30T23:00:12.702943",
     "exception": false,
     "start_time": "2021-11-30T23:00:12.656455",
     "status": "completed"
    },
    "tags": []
   },
   "outputs": [],
   "source": [
    "df_pivot.columns = [\"stamp_1\", \"stamp_2\"]\n",
    "df_pivot_diff = df_pivot.diff(axis=1)"
   ]
  },
  {
   "cell_type": "code",
   "execution_count": 7,
   "id": "fifth-motion",
   "metadata": {
    "execution": {
     "iopub.execute_input": "2021-11-30T23:00:12.794023Z",
     "iopub.status.busy": "2021-11-30T23:00:12.789854Z",
     "iopub.status.idle": "2021-11-30T23:00:14.660668Z",
     "shell.execute_reply": "2021-11-30T23:00:14.662208Z"
    },
    "papermill": {
     "duration": 1.927072,
     "end_time": "2021-11-30T23:00:14.662661",
     "exception": false,
     "start_time": "2021-11-30T23:00:12.735589",
     "status": "completed"
    },
    "tags": []
   },
   "outputs": [
    {
     "data": {
      "text/plain": [
       "<AxesSubplot:ylabel='PRODUCT'>"
      ]
     },
     "execution_count": 7,
     "metadata": {},
     "output_type": "execute_result"
    },
    {
     "data": {
      "image/png": "[encoded data removed]",
      "text/plain": [
       "<Figure size 432x288 with 1 Axes>"
      ]
     },
     "metadata": {
      "needs_background": "light"
     },
     "output_type": "display_data"
    }
   ],
   "source": [
    "df_pivot_diff.sort_values(\"stamp_2\", ascending = False)[\"stamp_2\"].head(10).plot.barh()"
   ]
  },
  {
   "cell_type": "code",
   "execution_count": null,
   "id": "extra-executive",
   "metadata": {
    "papermill": {
     "duration": 0.022218,
     "end_time": "2021-11-30T23:00:14.710173",
     "exception": false,
     "start_time": "2021-11-30T23:00:14.687955",
     "status": "completed"
    },
    "tags": []
   },
   "outputs": [],
   "source": []
  }
 ],
 "metadata": {
  "kernelspec": {
   "display_name": "Python 3",
   "language": "python",
   "name": "python3"
  },
  "language_info": {
   "codemirror_mode": {
    "name": "ipython",
    "version": 3
   },
   "file_extension": ".py",
   "mimetype": "text/x-python",
   "name": "python",
   "nbconvert_exporter": "python",
   "pygments_lexer": "ipython3",
   "version": "3.9.5"
  },
  "papermill": {
   "default_parameters": {},
   "duration": 9.942385,
   "end_time": "2021-11-30T23:00:16.156155",
   "environment_variables": {},
   "exception": null,
   "input_path": "eBay_Overview.ipynb",
   "output_path": "eBay_Overview.ipynb",
   "parameters": {},
   "start_time": "2021-11-30T23:00:06.213770",
   "version": "2.3.3"
  }
 },
 "nbformat": 4,
 "nbformat_minor": 5
}