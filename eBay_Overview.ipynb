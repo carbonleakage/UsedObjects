{
 "cells": [
  {
   "cell_type": "code",
   "execution_count": 1,
   "id": "reverse-picking",
   "metadata": {
    "execution": {
     "iopub.execute_input": "2021-09-15T19:30:07.247892Z",
     "iopub.status.busy": "2021-09-15T19:30:07.245827Z",
     "iopub.status.idle": "2021-09-15T19:30:08.049309Z",
     "shell.execute_reply": "2021-09-15T19:30:08.050549Z"
    },
    "papermill": {
     "duration": 0.852619,
     "end_time": "2021-09-15T19:30:08.051226",
     "exception": false,
     "start_time": "2021-09-15T19:30:07.198607",
     "status": "completed"
    },
    "tags": []
   },
   "outputs": [],
   "source": [
    "import pandas as pd\n",
    "import sqlite3"
   ]
  },
  {
   "cell_type": "code",
   "execution_count": 2,
   "id": "innovative-syndrome",
   "metadata": {
    "execution": {
     "iopub.execute_input": "2021-09-15T19:30:08.103201Z",
     "iopub.status.busy": "2021-09-15T19:30:08.101195Z",
     "iopub.status.idle": "2021-09-15T19:30:08.393801Z",
     "shell.execute_reply": "2021-09-15T19:30:08.395149Z"
    },
    "papermill": {
     "duration": 0.322163,
     "end_time": "2021-09-15T19:30:08.395579",
     "exception": false,
     "start_time": "2021-09-15T19:30:08.073416",
     "status": "completed"
    },
    "tags": []
   },
   "outputs": [],
   "source": [
    "timestamps = pd.read_sql(\"select distinct record_time from EBAY_TOP_BERLIN order by record_time desc limit 2\", sqlite3.connect(\"UsedObjects.db\"))"
   ]
  },
  {
   "cell_type": "code",
   "execution_count": 3,
   "id": "periodic-identification",
   "metadata": {
    "execution": {
     "iopub.execute_input": "2021-09-15T19:30:08.462150Z",
     "iopub.status.busy": "2021-09-15T19:30:08.460116Z",
     "iopub.status.idle": "2021-09-15T19:30:08.481347Z",
     "shell.execute_reply": "2021-09-15T19:30:08.479919Z"
    },
    "papermill": {
     "duration": 0.066613,
     "end_time": "2021-09-15T19:30:08.481695",
     "exception": false,
     "start_time": "2021-09-15T19:30:08.415082",
     "status": "completed"
    },
    "tags": []
   },
   "outputs": [
    {
     "data": {
      "text/html": [
       "<div>\n",
       "<style scoped>\n",
       "    .dataframe tbody tr th:only-of-type {\n",
       "        vertical-align: middle;\n",
       "    }\n",
       "\n",
       "    .dataframe tbody tr th {\n",
       "        vertical-align: top;\n",
       "    }\n",
       "\n",
       "    .dataframe thead th {\n",
       "        text-align: right;\n",
       "    }\n",
       "</style>\n",
       "<table border=\"1\" class=\"dataframe\">\n",
       "  <thead>\n",
       "    <tr style=\"text-align: right;\">\n",
       "      <th></th>\n",
       "      <th>RECORD_TIME</th>\n",
       "    </tr>\n",
       "  </thead>\n",
       "  <tbody>\n",
       "    <tr>\n",
       "      <th>0</th>\n",
       "      <td>2021-09-15 21:30</td>\n",
       "    </tr>\n",
       "    <tr>\n",
       "      <th>1</th>\n",
       "      <td>2021-09-15 21:00</td>\n",
       "    </tr>\n",
       "  </tbody>\n",
       "</table>\n",
       "</div>"
      ],
      "text/plain": [
       "        RECORD_TIME\n",
       "0  2021-09-15 21:30\n",
       "1  2021-09-15 21:00"
      ]
     },
     "execution_count": 3,
     "metadata": {},
     "output_type": "execute_result"
    }
   ],
   "source": [
    "timestamps"
   ]
  },
  {
   "cell_type": "code",
   "execution_count": 4,
   "id": "alternate-victory",
   "metadata": {
    "execution": {
     "iopub.execute_input": "2021-09-15T19:30:08.533942Z",
     "iopub.status.busy": "2021-09-15T19:30:08.531628Z",
     "iopub.status.idle": "2021-09-15T19:30:08.966434Z",
     "shell.execute_reply": "2021-09-15T19:30:08.967791Z"
    },
    "papermill": {
     "duration": 0.465363,
     "end_time": "2021-09-15T19:30:08.968215",
     "exception": false,
     "start_time": "2021-09-15T19:30:08.502852",
     "status": "completed"
    },
    "tags": []
   },
   "outputs": [],
   "source": [
    "df = pd.read_sql(\"select * from EBAY_TOP_BERLIN where record_time in (select distinct record_time from EBAY_TOP_BERLIN order by record_time desc limit 2)\", sqlite3.connect(\"UsedObjects.db\"))"
   ]
  },
  {
   "cell_type": "code",
   "execution_count": 5,
   "id": "popular-active",
   "metadata": {
    "execution": {
     "iopub.execute_input": "2021-09-15T19:30:09.051981Z",
     "iopub.status.busy": "2021-09-15T19:30:09.038919Z",
     "iopub.status.idle": "2021-09-15T19:30:09.067565Z",
     "shell.execute_reply": "2021-09-15T19:30:09.068811Z"
    },
    "papermill": {
     "duration": 0.071854,
     "end_time": "2021-09-15T19:30:09.069208",
     "exception": false,
     "start_time": "2021-09-15T19:30:08.997354",
     "status": "completed"
    },
    "tags": []
   },
   "outputs": [],
   "source": [
    "df_pivot = df.pivot_table(index=\"PRODUCT\", columns = \"RECORD_TIME\", values = \"LISTING_COUNT\")"
   ]
  },
  {
   "cell_type": "code",
   "execution_count": 6,
   "id": "union-huntington",
   "metadata": {
    "execution": {
     "iopub.execute_input": "2021-09-15T19:30:09.124937Z",
     "iopub.status.busy": "2021-09-15T19:30:09.122840Z",
     "iopub.status.idle": "2021-09-15T19:30:09.129625Z",
     "shell.execute_reply": "2021-09-15T19:30:09.128325Z"
    },
    "papermill": {
     "duration": 0.040142,
     "end_time": "2021-09-15T19:30:09.129995",
     "exception": false,
     "start_time": "2021-09-15T19:30:09.089853",
     "status": "completed"
    },
    "tags": []
   },
   "outputs": [],
   "source": [
    "df_pivot.columns = [\"stamp_1\", \"stamp_2\"]\n",
    "df_pivot_diff = df_pivot.diff(axis=1)"
   ]
  },
  {
   "cell_type": "code",
   "execution_count": 7,
   "id": "fifth-motion",
   "metadata": {
    "execution": {
     "iopub.execute_input": "2021-09-15T19:30:09.185383Z",
     "iopub.status.busy": "2021-09-15T19:30:09.182760Z",
     "iopub.status.idle": "2021-09-15T19:30:10.656665Z",
     "shell.execute_reply": "2021-09-15T19:30:10.657941Z"
    },
    "papermill": {
     "duration": 1.507194,
     "end_time": "2021-09-15T19:30:10.658355",
     "exception": false,
     "start_time": "2021-09-15T19:30:09.151161",
     "status": "completed"
    },
    "tags": []
   },
   "outputs": [
    {
     "data": {
      "text/plain": [
       "<AxesSubplot:ylabel='PRODUCT'>"
      ]
     },
     "execution_count": 7,
     "metadata": {},
     "output_type": "execute_result"
    },
    {
     "data": {
      "image/png": "[encoded data removed]",
      "text/plain": [
       "<Figure size 432x288 with 1 Axes>"
      ]
     },
     "metadata": {
      "needs_background": "light"
     },
     "output_type": "display_data"
    }
   ],
   "source": [
    "df_pivot_diff.sort_values(\"stamp_2\", ascending = False)[\"stamp_2\"].head(10).plot.barh()"
   ]
  },
  {
   "cell_type": "code",
   "execution_count": null,
   "id": "extra-executive",
   "metadata": {
    "papermill": {
     "duration": 0.02205,
     "end_time": "2021-09-15T19:30:10.705006",
     "exception": false,
     "start_time": "2021-09-15T19:30:10.682956",
     "status": "completed"
    },
    "tags": []
   },
   "outputs": [],
   "source": []
  }
 ],
 "metadata": {
  "kernelspec": {
   "display_name": "Python 3",
   "language": "python",
   "name": "python3"
  },
  "language_info": {
   "codemirror_mode": {
    "name": "ipython",
    "version": 3
   },
   "file_extension": ".py",
   "mimetype": "text/x-python",
   "name": "python",
   "nbconvert_exporter": "python",
   "pygments_lexer": "ipython3",
   "version": "3.9.5"
  },
  "papermill": {
   "default_parameters": {},
   "duration": 6.55778,
   "end_time": "2021-09-15T19:30:11.345766",
   "environment_variables": {},
   "exception": null,
   "input_path": "eBay_Overview.ipynb",
   "output_path": "eBay_Overview.ipynb",
   "parameters": {},
   "start_time": "2021-09-15T19:30:04.787986",
   "version": "2.3.3"
  }
 },
 "nbformat": 4,
 "nbformat_minor": 5
}