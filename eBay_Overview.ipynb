{
 "cells": [
  {
   "cell_type": "code",
   "execution_count": 1,
   "id": "reverse-picking",
   "metadata": {
    "execution": {
     "iopub.execute_input": "2021-11-15T04:00:07.359674Z",
     "iopub.status.busy": "2021-11-15T04:00:07.357485Z",
     "iopub.status.idle": "2021-11-15T04:00:08.310603Z",
     "shell.execute_reply": "2021-11-15T04:00:08.312586Z"
    },
    "papermill": {
     "duration": 1.004478,
     "end_time": "2021-11-15T04:00:08.313443",
     "exception": false,
     "start_time": "2021-11-15T04:00:07.308965",
     "status": "completed"
    },
    "tags": []
   },
   "outputs": [],
   "source": [
    "import pandas as pd\n",
    "import sqlite3"
   ]
  },
  {
   "cell_type": "code",
   "execution_count": 2,
   "id": "innovative-syndrome",
   "metadata": {
    "execution": {
     "iopub.execute_input": "2021-11-15T04:00:08.390415Z",
     "iopub.status.busy": "2021-11-15T04:00:08.387960Z",
     "iopub.status.idle": "2021-11-15T04:00:09.199552Z",
     "shell.execute_reply": "2021-11-15T04:00:09.201157Z"
    },
    "papermill": {
     "duration": 0.855322,
     "end_time": "2021-11-15T04:00:09.201639",
     "exception": false,
     "start_time": "2021-11-15T04:00:08.346317",
     "status": "completed"
    },
    "tags": []
   },
   "outputs": [],
   "source": [
    "timestamps = pd.read_sql(\"select distinct record_time from EBAY_TOP_BERLIN order by record_time desc limit 2\", sqlite3.connect(\"UsedObjects.db\"))"
   ]
  },
  {
   "cell_type": "code",
   "execution_count": 3,
   "id": "periodic-identification",
   "metadata": {
    "execution": {
     "iopub.execute_input": "2021-11-15T04:00:09.274007Z",
     "iopub.status.busy": "2021-11-15T04:00:09.271911Z",
     "iopub.status.idle": "2021-11-15T04:00:09.294552Z",
     "shell.execute_reply": "2021-11-15T04:00:09.295759Z"
    },
    "papermill": {
     "duration": 0.072623,
     "end_time": "2021-11-15T04:00:09.296192",
     "exception": false,
     "start_time": "2021-11-15T04:00:09.223569",
     "status": "completed"
    },
    "tags": []
   },
   "outputs": [
    {
     "data": {
      "text/html": [
       "<div>\n",
       "<style scoped>\n",
       "    .dataframe tbody tr th:only-of-type {\n",
       "        vertical-align: middle;\n",
       "    }\n",
       "\n",
       "    .dataframe tbody tr th {\n",
       "        vertical-align: top;\n",
       "    }\n",
       "\n",
       "    .dataframe thead th {\n",
       "        text-align: right;\n",
       "    }\n",
       "</style>\n",
       "<table border=\"1\" class=\"dataframe\">\n",
       "  <thead>\n",
       "    <tr style=\"text-align: right;\">\n",
       "      <th></th>\n",
       "      <th>RECORD_TIME</th>\n",
       "    </tr>\n",
       "  </thead>\n",
       "  <tbody>\n",
       "    <tr>\n",
       "      <th>0</th>\n",
       "      <td>2021-11-15 05:00</td>\n",
       "    </tr>\n",
       "    <tr>\n",
       "      <th>1</th>\n",
       "      <td>2021-11-15 04:30</td>\n",
       "    </tr>\n",
       "  </tbody>\n",
       "</table>\n",
       "</div>"
      ],
      "text/plain": [
       "        RECORD_TIME\n",
       "0  2021-11-15 05:00\n",
       "1  2021-11-15 04:30"
      ]
     },
     "execution_count": 3,
     "metadata": {},
     "output_type": "execute_result"
    }
   ],
   "source": [
    "timestamps"
   ]
  },
  {
   "cell_type": "code",
   "execution_count": 4,
   "id": "alternate-victory",
   "metadata": {
    "execution": {
     "iopub.execute_input": "2021-11-15T04:00:09.348669Z",
     "iopub.status.busy": "2021-11-15T04:00:09.346822Z",
     "iopub.status.idle": "2021-11-15T04:00:10.536509Z",
     "shell.execute_reply": "2021-11-15T04:00:10.538126Z"
    },
    "papermill": {
     "duration": 1.220175,
     "end_time": "2021-11-15T04:00:10.538636",
     "exception": false,
     "start_time": "2021-11-15T04:00:09.318461",
     "status": "completed"
    },
    "tags": []
   },
   "outputs": [],
   "source": [
    "df = pd.read_sql(\"select * from EBAY_TOP_BERLIN where record_time in (select distinct record_time from EBAY_TOP_BERLIN order by record_time desc limit 2)\", sqlite3.connect(\"UsedObjects.db\"))"
   ]
  },
  {
   "cell_type": "code",
   "execution_count": 5,
   "id": "popular-active",
   "metadata": {
    "execution": {
     "iopub.execute_input": "2021-11-15T04:00:10.615985Z",
     "iopub.status.busy": "2021-11-15T04:00:10.603036Z",
     "iopub.status.idle": "2021-11-15T04:00:10.637017Z",
     "shell.execute_reply": "2021-11-15T04:00:10.638879Z"
    },
    "papermill": {
     "duration": 0.078145,
     "end_time": "2021-11-15T04:00:10.639380",
     "exception": false,
     "start_time": "2021-11-15T04:00:10.561235",
     "status": "completed"
    },
    "tags": []
   },
   "outputs": [],
   "source": [
    "df_pivot = df.pivot_table(index=\"PRODUCT\", columns = \"RECORD_TIME\", values = \"LISTING_COUNT\")"
   ]
  },
  {
   "cell_type": "code",
   "execution_count": 6,
   "id": "union-huntington",
   "metadata": {
    "execution": {
     "iopub.execute_input": "2021-11-15T04:00:10.699521Z",
     "iopub.status.busy": "2021-11-15T04:00:10.697318Z",
     "iopub.status.idle": "2021-11-15T04:00:10.702773Z",
     "shell.execute_reply": "2021-11-15T04:00:10.704103Z"
    },
    "papermill": {
     "duration": 0.043962,
     "end_time": "2021-11-15T04:00:10.704581",
     "exception": false,
     "start_time": "2021-11-15T04:00:10.660619",
     "status": "completed"
    },
    "tags": []
   },
   "outputs": [],
   "source": [
    "df_pivot.columns = [\"stamp_1\", \"stamp_2\"]\n",
    "df_pivot_diff = df_pivot.diff(axis=1)"
   ]
  },
  {
   "cell_type": "code",
   "execution_count": 7,
   "id": "fifth-motion",
   "metadata": {
    "execution": {
     "iopub.execute_input": "2021-11-15T04:00:10.761072Z",
     "iopub.status.busy": "2021-11-15T04:00:10.758500Z",
     "iopub.status.idle": "2021-11-15T04:00:12.749331Z",
     "shell.execute_reply": "2021-11-15T04:00:12.751869Z"
    },
    "papermill": {
     "duration": 2.027884,
     "end_time": "2021-11-15T04:00:12.752875",
     "exception": false,
     "start_time": "2021-11-15T04:00:10.724991",
     "status": "completed"
    },
    "tags": []
   },
   "outputs": [
    {
     "data": {
      "text/plain": [
       "<AxesSubplot:ylabel='PRODUCT'>"
      ]
     },
     "execution_count": 7,
     "metadata": {},
     "output_type": "execute_result"
    },
    {
     "data": {
      "image/png": "[encoded data removed]",
      "text/plain": [
       "<Figure size 432x288 with 1 Axes>"
      ]
     },
     "metadata": {
      "needs_background": "light"
     },
     "output_type": "display_data"
    }
   ],
   "source": [
    "df_pivot_diff.sort_values(\"stamp_2\", ascending = False)[\"stamp_2\"].head(10).plot.barh()"
   ]
  },
  {
   "cell_type": "code",
   "execution_count": null,
   "id": "extra-executive",
   "metadata": {
    "papermill": {
     "duration": 0.032409,
     "end_time": "2021-11-15T04:00:12.822490",
     "exception": false,
     "start_time": "2021-11-15T04:00:12.790081",
     "status": "completed"
    },
    "tags": []
   },
   "outputs": [],
   "source": []
  }
 ],
 "metadata": {
  "kernelspec": {
   "display_name": "Python 3",
   "language": "python",
   "name": "python3"
  },
  "language_info": {
   "codemirror_mode": {
    "name": "ipython",
    "version": 3
   },
   "file_extension": ".py",
   "mimetype": "text/x-python",
   "name": "python",
   "nbconvert_exporter": "python",
   "pygments_lexer": "ipython3",
   "version": "3.9.5"
  },
  "papermill": {
   "default_parameters": {},
   "duration": 9.934922,
   "end_time": "2021-11-15T04:00:14.507495",
   "environment_variables": {},
   "exception": null,
   "input_path": "eBay_Overview.ipynb",
   "output_path": "eBay_Overview.ipynb",
   "parameters": {},
   "start_time": "2021-11-15T04:00:04.572573",
   "version": "2.3.3"
  }
 },
 "nbformat": 4,
 "nbformat_minor": 5
}