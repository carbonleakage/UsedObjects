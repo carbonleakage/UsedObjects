{
 "cells": [
  {
   "cell_type": "code",
   "execution_count": 1,
   "id": "reverse-picking",
   "metadata": {
    "execution": {
     "iopub.execute_input": "2021-10-29T12:00:06.952519Z",
     "iopub.status.busy": "2021-10-29T12:00:06.950592Z",
     "iopub.status.idle": "2021-10-29T12:00:07.753457Z",
     "shell.execute_reply": "2021-10-29T12:00:07.754798Z"
    },
    "papermill": {
     "duration": 0.853409,
     "end_time": "2021-10-29T12:00:07.755453",
     "exception": false,
     "start_time": "2021-10-29T12:00:06.902044",
     "status": "completed"
    },
    "tags": []
   },
   "outputs": [],
   "source": [
    "import pandas as pd\n",
    "import sqlite3"
   ]
  },
  {
   "cell_type": "code",
   "execution_count": 2,
   "id": "innovative-syndrome",
   "metadata": {
    "execution": {
     "iopub.execute_input": "2021-10-29T12:00:07.806826Z",
     "iopub.status.busy": "2021-10-29T12:00:07.804944Z",
     "iopub.status.idle": "2021-10-29T12:00:08.477564Z",
     "shell.execute_reply": "2021-10-29T12:00:08.478818Z"
    },
    "papermill": {
     "duration": 0.702053,
     "end_time": "2021-10-29T12:00:08.479213",
     "exception": false,
     "start_time": "2021-10-29T12:00:07.777160",
     "status": "completed"
    },
    "tags": []
   },
   "outputs": [],
   "source": [
    "timestamps = pd.read_sql(\"select distinct record_time from EBAY_TOP_BERLIN order by record_time desc limit 2\", sqlite3.connect(\"UsedObjects.db\"))"
   ]
  },
  {
   "cell_type": "code",
   "execution_count": 3,
   "id": "periodic-identification",
   "metadata": {
    "execution": {
     "iopub.execute_input": "2021-10-29T12:00:08.555456Z",
     "iopub.status.busy": "2021-10-29T12:00:08.553431Z",
     "iopub.status.idle": "2021-10-29T12:00:08.573237Z",
     "shell.execute_reply": "2021-10-29T12:00:08.574550Z"
    },
    "papermill": {
     "duration": 0.067419,
     "end_time": "2021-10-29T12:00:08.574953",
     "exception": false,
     "start_time": "2021-10-29T12:00:08.507534",
     "status": "completed"
    },
    "tags": []
   },
   "outputs": [
    {
     "data": {
      "text/html": [
       "<div>\n",
       "<style scoped>\n",
       "    .dataframe tbody tr th:only-of-type {\n",
       "        vertical-align: middle;\n",
       "    }\n",
       "\n",
       "    .dataframe tbody tr th {\n",
       "        vertical-align: top;\n",
       "    }\n",
       "\n",
       "    .dataframe thead th {\n",
       "        text-align: right;\n",
       "    }\n",
       "</style>\n",
       "<table border=\"1\" class=\"dataframe\">\n",
       "  <thead>\n",
       "    <tr style=\"text-align: right;\">\n",
       "      <th></th>\n",
       "      <th>RECORD_TIME</th>\n",
       "    </tr>\n",
       "  </thead>\n",
       "  <tbody>\n",
       "    <tr>\n",
       "      <th>0</th>\n",
       "      <td>2021-10-29 14:00</td>\n",
       "    </tr>\n",
       "    <tr>\n",
       "      <th>1</th>\n",
       "      <td>2021-10-29 13:30</td>\n",
       "    </tr>\n",
       "  </tbody>\n",
       "</table>\n",
       "</div>"
      ],
      "text/plain": [
       "        RECORD_TIME\n",
       "0  2021-10-29 14:00\n",
       "1  2021-10-29 13:30"
      ]
     },
     "execution_count": 3,
     "metadata": {},
     "output_type": "execute_result"
    }
   ],
   "source": [
    "timestamps"
   ]
  },
  {
   "cell_type": "code",
   "execution_count": 4,
   "id": "alternate-victory",
   "metadata": {
    "execution": {
     "iopub.execute_input": "2021-10-29T12:00:08.627168Z",
     "iopub.status.busy": "2021-10-29T12:00:08.625018Z",
     "iopub.status.idle": "2021-10-29T12:00:09.637857Z",
     "shell.execute_reply": "2021-10-29T12:00:09.639129Z"
    },
    "papermill": {
     "duration": 1.043024,
     "end_time": "2021-10-29T12:00:09.639532",
     "exception": false,
     "start_time": "2021-10-29T12:00:08.596508",
     "status": "completed"
    },
    "tags": []
   },
   "outputs": [],
   "source": [
    "df = pd.read_sql(\"select * from EBAY_TOP_BERLIN where record_time in (select distinct record_time from EBAY_TOP_BERLIN order by record_time desc limit 2)\", sqlite3.connect(\"UsedObjects.db\"))"
   ]
  },
  {
   "cell_type": "code",
   "execution_count": 5,
   "id": "popular-active",
   "metadata": {
    "execution": {
     "iopub.execute_input": "2021-10-29T12:00:09.706971Z",
     "iopub.status.busy": "2021-10-29T12:00:09.696388Z",
     "iopub.status.idle": "2021-10-29T12:00:09.723537Z",
     "shell.execute_reply": "2021-10-29T12:00:09.724931Z"
    },
    "papermill": {
     "duration": 0.065489,
     "end_time": "2021-10-29T12:00:09.725354",
     "exception": false,
     "start_time": "2021-10-29T12:00:09.659865",
     "status": "completed"
    },
    "tags": []
   },
   "outputs": [],
   "source": [
    "df_pivot = df.pivot_table(index=\"PRODUCT\", columns = \"RECORD_TIME\", values = \"LISTING_COUNT\")"
   ]
  },
  {
   "cell_type": "code",
   "execution_count": 6,
   "id": "union-huntington",
   "metadata": {
    "execution": {
     "iopub.execute_input": "2021-10-29T12:00:09.784626Z",
     "iopub.status.busy": "2021-10-29T12:00:09.782194Z",
     "iopub.status.idle": "2021-10-29T12:00:09.788107Z",
     "shell.execute_reply": "2021-10-29T12:00:09.789605Z"
    },
    "papermill": {
     "duration": 0.042629,
     "end_time": "2021-10-29T12:00:09.790062",
     "exception": false,
     "start_time": "2021-10-29T12:00:09.747433",
     "status": "completed"
    },
    "tags": []
   },
   "outputs": [],
   "source": [
    "df_pivot.columns = [\"stamp_1\", \"stamp_2\"]\n",
    "df_pivot_diff = df_pivot.diff(axis=1)"
   ]
  },
  {
   "cell_type": "code",
   "execution_count": 7,
   "id": "fifth-motion",
   "metadata": {
    "execution": {
     "iopub.execute_input": "2021-10-29T12:00:09.843746Z",
     "iopub.status.busy": "2021-10-29T12:00:09.841577Z",
     "iopub.status.idle": "2021-10-29T12:00:11.356963Z",
     "shell.execute_reply": "2021-10-29T12:00:11.358176Z"
    },
    "papermill": {
     "duration": 1.547894,
     "end_time": "2021-10-29T12:00:11.358604",
     "exception": false,
     "start_time": "2021-10-29T12:00:09.810710",
     "status": "completed"
    },
    "tags": []
   },
   "outputs": [
    {
     "data": {
      "text/plain": [
       "<AxesSubplot:ylabel='PRODUCT'>"
      ]
     },
     "execution_count": 7,
     "metadata": {},
     "output_type": "execute_result"
    },
    {
     "data": {
      "image/png": "[encoded data removed]",
      "text/plain": [
       "<Figure size 432x288 with 1 Axes>"
      ]
     },
     "metadata": {
      "needs_background": "light"
     },
     "output_type": "display_data"
    }
   ],
   "source": [
    "df_pivot_diff.sort_values(\"stamp_2\", ascending = False)[\"stamp_2\"].head(10).plot.barh()"
   ]
  },
  {
   "cell_type": "code",
   "execution_count": null,
   "id": "extra-executive",
   "metadata": {
    "papermill": {
     "duration": 0.02203,
     "end_time": "2021-10-29T12:00:11.404536",
     "exception": false,
     "start_time": "2021-10-29T12:00:11.382506",
     "status": "completed"
    },
    "tags": []
   },
   "outputs": [],
   "source": []
  }
 ],
 "metadata": {
  "kernelspec": {
   "display_name": "Python 3",
   "language": "python",
   "name": "python3"
  },
  "language_info": {
   "codemirror_mode": {
    "name": "ipython",
    "version": 3
   },
   "file_extension": ".py",
   "mimetype": "text/x-python",
   "name": "python",
   "nbconvert_exporter": "python",
   "pygments_lexer": "ipython3",
   "version": "3.9.5"
  },
  "papermill": {
   "default_parameters": {},
   "duration": 7.543535,
   "end_time": "2021-10-29T12:00:12.047270",
   "environment_variables": {},
   "exception": null,
   "input_path": "eBay_Overview.ipynb",
   "output_path": "eBay_Overview.ipynb",
   "parameters": {},
   "start_time": "2021-10-29T12:00:04.503735",
   "version": "2.3.3"
  }
 },
 "nbformat": 4,
 "nbformat_minor": 5
}