{
 "cells": [
  {
   "cell_type": "code",
   "execution_count": 1,
   "id": "reverse-picking",
   "metadata": {
    "execution": {
     "iopub.execute_input": "2021-12-22T19:00:07.937693Z",
     "iopub.status.busy": "2021-12-22T19:00:07.935134Z",
     "iopub.status.idle": "2021-12-22T19:00:08.888765Z",
     "shell.execute_reply": "2021-12-22T19:00:08.890381Z"
    },
    "papermill": {
     "duration": 1.003773,
     "end_time": "2021-12-22T19:00:08.891112",
     "exception": false,
     "start_time": "2021-12-22T19:00:07.887339",
     "status": "completed"
    },
    "tags": []
   },
   "outputs": [],
   "source": [
    "import pandas as pd\n",
    "import sqlite3"
   ]
  },
  {
   "cell_type": "code",
   "execution_count": 2,
   "id": "innovative-syndrome",
   "metadata": {
    "execution": {
     "iopub.execute_input": "2021-12-22T19:00:09.012852Z",
     "iopub.status.busy": "2021-12-22T19:00:09.010400Z",
     "iopub.status.idle": "2021-12-22T19:00:10.170854Z",
     "shell.execute_reply": "2021-12-22T19:00:10.172321Z"
    },
    "papermill": {
     "duration": 1.197438,
     "end_time": "2021-12-22T19:00:10.172906",
     "exception": false,
     "start_time": "2021-12-22T19:00:08.975468",
     "status": "completed"
    },
    "tags": []
   },
   "outputs": [],
   "source": [
    "timestamps = pd.read_sql(\"select distinct record_time from EBAY_TOP_BERLIN order by record_time desc limit 2\", sqlite3.connect(\"UsedObjects.db\"))"
   ]
  },
  {
   "cell_type": "code",
   "execution_count": 3,
   "id": "periodic-identification",
   "metadata": {
    "execution": {
     "iopub.execute_input": "2021-12-22T19:00:10.246790Z",
     "iopub.status.busy": "2021-12-22T19:00:10.244305Z",
     "iopub.status.idle": "2021-12-22T19:00:10.265061Z",
     "shell.execute_reply": "2021-12-22T19:00:10.267760Z"
    },
    "papermill": {
     "duration": 0.075744,
     "end_time": "2021-12-22T19:00:10.268236",
     "exception": false,
     "start_time": "2021-12-22T19:00:10.192492",
     "status": "completed"
    },
    "tags": []
   },
   "outputs": [
    {
     "data": {
      "text/html": [
       "<div>\n",
       "<style scoped>\n",
       "    .dataframe tbody tr th:only-of-type {\n",
       "        vertical-align: middle;\n",
       "    }\n",
       "\n",
       "    .dataframe tbody tr th {\n",
       "        vertical-align: top;\n",
       "    }\n",
       "\n",
       "    .dataframe thead th {\n",
       "        text-align: right;\n",
       "    }\n",
       "</style>\n",
       "<table border=\"1\" class=\"dataframe\">\n",
       "  <thead>\n",
       "    <tr style=\"text-align: right;\">\n",
       "      <th></th>\n",
       "      <th>RECORD_TIME</th>\n",
       "    </tr>\n",
       "  </thead>\n",
       "  <tbody>\n",
       "    <tr>\n",
       "      <th>0</th>\n",
       "      <td>2021-12-22 20:00</td>\n",
       "    </tr>\n",
       "    <tr>\n",
       "      <th>1</th>\n",
       "      <td>2021-12-22 19:30</td>\n",
       "    </tr>\n",
       "  </tbody>\n",
       "</table>\n",
       "</div>"
      ],
      "text/plain": [
       "        RECORD_TIME\n",
       "0  2021-12-22 20:00\n",
       "1  2021-12-22 19:30"
      ]
     },
     "execution_count": 3,
     "metadata": {},
     "output_type": "execute_result"
    }
   ],
   "source": [
    "timestamps"
   ]
  },
  {
   "cell_type": "code",
   "execution_count": 4,
   "id": "alternate-victory",
   "metadata": {
    "execution": {
     "iopub.execute_input": "2021-12-22T19:00:10.326928Z",
     "iopub.status.busy": "2021-12-22T19:00:10.316829Z",
     "iopub.status.idle": "2021-12-22T19:00:12.013725Z",
     "shell.execute_reply": "2021-12-22T19:00:12.015183Z"
    },
    "papermill": {
     "duration": 1.725603,
     "end_time": "2021-12-22T19:00:12.015645",
     "exception": false,
     "start_time": "2021-12-22T19:00:10.290042",
     "status": "completed"
    },
    "tags": []
   },
   "outputs": [],
   "source": [
    "df = pd.read_sql(\"select * from EBAY_TOP_BERLIN where record_time in (select distinct record_time from EBAY_TOP_BERLIN order by record_time desc limit 2)\", sqlite3.connect(\"UsedObjects.db\"))"
   ]
  },
  {
   "cell_type": "code",
   "execution_count": 5,
   "id": "popular-active",
   "metadata": {
    "execution": {
     "iopub.execute_input": "2021-12-22T19:00:12.083996Z",
     "iopub.status.busy": "2021-12-22T19:00:12.080556Z",
     "iopub.status.idle": "2021-12-22T19:00:12.115595Z",
     "shell.execute_reply": "2021-12-22T19:00:12.117068Z"
    },
    "papermill": {
     "duration": 0.080661,
     "end_time": "2021-12-22T19:00:12.117551",
     "exception": false,
     "start_time": "2021-12-22T19:00:12.036890",
     "status": "completed"
    },
    "tags": []
   },
   "outputs": [],
   "source": [
    "df_pivot = df.pivot_table(index=\"PRODUCT\", columns = \"RECORD_TIME\", values = \"LISTING_COUNT\")"
   ]
  },
  {
   "cell_type": "code",
   "execution_count": 6,
   "id": "union-huntington",
   "metadata": {
    "execution": {
     "iopub.execute_input": "2021-12-22T19:00:12.176534Z",
     "iopub.status.busy": "2021-12-22T19:00:12.174293Z",
     "iopub.status.idle": "2021-12-22T19:00:12.181726Z",
     "shell.execute_reply": "2021-12-22T19:00:12.180094Z"
    },
    "papermill": {
     "duration": 0.043949,
     "end_time": "2021-12-22T19:00:12.182132",
     "exception": false,
     "start_time": "2021-12-22T19:00:12.138183",
     "status": "completed"
    },
    "tags": []
   },
   "outputs": [],
   "source": [
    "df_pivot.columns = [\"stamp_1\", \"stamp_2\"]\n",
    "df_pivot_diff = df_pivot.diff(axis=1)"
   ]
  },
  {
   "cell_type": "code",
   "execution_count": 7,
   "id": "fifth-motion",
   "metadata": {
    "execution": {
     "iopub.execute_input": "2021-12-22T19:00:12.241742Z",
     "iopub.status.busy": "2021-12-22T19:00:12.238962Z",
     "iopub.status.idle": "2021-12-22T19:00:14.197017Z",
     "shell.execute_reply": "2021-12-22T19:00:14.198323Z"
    },
    "papermill": {
     "duration": 1.996501,
     "end_time": "2021-12-22T19:00:14.198747",
     "exception": false,
     "start_time": "2021-12-22T19:00:12.202246",
     "status": "completed"
    },
    "tags": []
   },
   "outputs": [
    {
     "data": {
      "text/plain": [
       "<AxesSubplot:ylabel='PRODUCT'>"
      ]
     },
     "execution_count": 7,
     "metadata": {},
     "output_type": "execute_result"
    },
    {
     "data": {
      "image/png": "[encoded data removed]",
      "text/plain": [
       "<Figure size 432x288 with 1 Axes>"
      ]
     },
     "metadata": {
      "needs_background": "light"
     },
     "output_type": "display_data"
    }
   ],
   "source": [
    "df_pivot_diff.sort_values(\"stamp_2\", ascending = False)[\"stamp_2\"].head(10).plot.barh()"
   ]
  },
  {
   "cell_type": "code",
   "execution_count": null,
   "id": "extra-executive",
   "metadata": {
    "papermill": {
     "duration": 0.025042,
     "end_time": "2021-12-22T19:00:14.299186",
     "exception": false,
     "start_time": "2021-12-22T19:00:14.274144",
     "status": "completed"
    },
    "tags": []
   },
   "outputs": [],
   "source": []
  }
 ],
 "metadata": {
  "kernelspec": {
   "display_name": "Python 3",
   "language": "python",
   "name": "python3"
  },
  "language_info": {
   "codemirror_mode": {
    "name": "ipython",
    "version": 3
   },
   "file_extension": ".py",
   "mimetype": "text/x-python",
   "name": "python",
   "nbconvert_exporter": "python",
   "pygments_lexer": "ipython3",
   "version": "3.9.5"
  },
  "papermill": {
   "default_parameters": {},
   "duration": 9.79155,
   "end_time": "2021-12-22T19:00:14.952828",
   "environment_variables": {},
   "exception": null,
   "input_path": "eBay_Overview.ipynb",
   "output_path": "eBay_Overview.ipynb",
   "parameters": {},
   "start_time": "2021-12-22T19:00:05.161278",
   "version": "2.3.3"
  }
 },
 "nbformat": 4,
 "nbformat_minor": 5
}