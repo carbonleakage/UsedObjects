{
 "cells": [
  {
   "cell_type": "code",
   "execution_count": 1,
   "id": "reverse-picking",
   "metadata": {
    "execution": {
     "iopub.execute_input": "2021-10-05T05:00:06.980722Z",
     "iopub.status.busy": "2021-10-05T05:00:06.978736Z",
     "iopub.status.idle": "2021-10-05T05:00:07.785098Z",
     "shell.execute_reply": "2021-10-05T05:00:07.786329Z"
    },
    "papermill": {
     "duration": 0.858719,
     "end_time": "2021-10-05T05:00:07.787025",
     "exception": false,
     "start_time": "2021-10-05T05:00:06.928306",
     "status": "completed"
    },
    "tags": []
   },
   "outputs": [],
   "source": [
    "import pandas as pd\n",
    "import sqlite3"
   ]
  },
  {
   "cell_type": "code",
   "execution_count": 2,
   "id": "innovative-syndrome",
   "metadata": {
    "execution": {
     "iopub.execute_input": "2021-10-05T05:00:07.838654Z",
     "iopub.status.busy": "2021-10-05T05:00:07.836806Z",
     "iopub.status.idle": "2021-10-05T05:00:08.294320Z",
     "shell.execute_reply": "2021-10-05T05:00:08.295731Z"
    },
    "papermill": {
     "duration": 0.487303,
     "end_time": "2021-10-05T05:00:08.296142",
     "exception": false,
     "start_time": "2021-10-05T05:00:07.808839",
     "status": "completed"
    },
    "tags": []
   },
   "outputs": [],
   "source": [
    "timestamps = pd.read_sql(\"select distinct record_time from EBAY_TOP_BERLIN order by record_time desc limit 2\", sqlite3.connect(\"UsedObjects.db\"))"
   ]
  },
  {
   "cell_type": "code",
   "execution_count": 3,
   "id": "periodic-identification",
   "metadata": {
    "execution": {
     "iopub.execute_input": "2021-10-05T05:00:08.364574Z",
     "iopub.status.busy": "2021-10-05T05:00:08.362505Z",
     "iopub.status.idle": "2021-10-05T05:00:08.382197Z",
     "shell.execute_reply": "2021-10-05T05:00:08.383565Z"
    },
    "papermill": {
     "duration": 0.066777,
     "end_time": "2021-10-05T05:00:08.383981",
     "exception": false,
     "start_time": "2021-10-05T05:00:08.317204",
     "status": "completed"
    },
    "tags": []
   },
   "outputs": [
    {
     "data": {
      "text/html": [
       "<div>\n",
       "<style scoped>\n",
       "    .dataframe tbody tr th:only-of-type {\n",
       "        vertical-align: middle;\n",
       "    }\n",
       "\n",
       "    .dataframe tbody tr th {\n",
       "        vertical-align: top;\n",
       "    }\n",
       "\n",
       "    .dataframe thead th {\n",
       "        text-align: right;\n",
       "    }\n",
       "</style>\n",
       "<table border=\"1\" class=\"dataframe\">\n",
       "  <thead>\n",
       "    <tr style=\"text-align: right;\">\n",
       "      <th></th>\n",
       "      <th>RECORD_TIME</th>\n",
       "    </tr>\n",
       "  </thead>\n",
       "  <tbody>\n",
       "    <tr>\n",
       "      <th>0</th>\n",
       "      <td>2021-10-05 07:00</td>\n",
       "    </tr>\n",
       "    <tr>\n",
       "      <th>1</th>\n",
       "      <td>2021-10-05 06:30</td>\n",
       "    </tr>\n",
       "  </tbody>\n",
       "</table>\n",
       "</div>"
      ],
      "text/plain": [
       "        RECORD_TIME\n",
       "0  2021-10-05 07:00\n",
       "1  2021-10-05 06:30"
      ]
     },
     "execution_count": 3,
     "metadata": {},
     "output_type": "execute_result"
    }
   ],
   "source": [
    "timestamps"
   ]
  },
  {
   "cell_type": "code",
   "execution_count": 4,
   "id": "alternate-victory",
   "metadata": {
    "execution": {
     "iopub.execute_input": "2021-10-05T05:00:08.444698Z",
     "iopub.status.busy": "2021-10-05T05:00:08.442553Z",
     "iopub.status.idle": "2021-10-05T05:00:09.111984Z",
     "shell.execute_reply": "2021-10-05T05:00:09.110520Z"
    },
    "papermill": {
     "duration": 0.702011,
     "end_time": "2021-10-05T05:00:09.112333",
     "exception": false,
     "start_time": "2021-10-05T05:00:08.410322",
     "status": "completed"
    },
    "tags": []
   },
   "outputs": [],
   "source": [
    "df = pd.read_sql(\"select * from EBAY_TOP_BERLIN where record_time in (select distinct record_time from EBAY_TOP_BERLIN order by record_time desc limit 2)\", sqlite3.connect(\"UsedObjects.db\"))"
   ]
  },
  {
   "cell_type": "code",
   "execution_count": 5,
   "id": "popular-active",
   "metadata": {
    "execution": {
     "iopub.execute_input": "2021-10-05T05:00:09.181361Z",
     "iopub.status.busy": "2021-10-05T05:00:09.169476Z",
     "iopub.status.idle": "2021-10-05T05:00:09.196838Z",
     "shell.execute_reply": "2021-10-05T05:00:09.198049Z"
    },
    "papermill": {
     "duration": 0.065498,
     "end_time": "2021-10-05T05:00:09.198440",
     "exception": false,
     "start_time": "2021-10-05T05:00:09.132942",
     "status": "completed"
    },
    "tags": []
   },
   "outputs": [],
   "source": [
    "df_pivot = df.pivot_table(index=\"PRODUCT\", columns = \"RECORD_TIME\", values = \"LISTING_COUNT\")"
   ]
  },
  {
   "cell_type": "code",
   "execution_count": 6,
   "id": "union-huntington",
   "metadata": {
    "execution": {
     "iopub.execute_input": "2021-10-05T05:00:09.257962Z",
     "iopub.status.busy": "2021-10-05T05:00:09.255529Z",
     "iopub.status.idle": "2021-10-05T05:00:09.261280Z",
     "shell.execute_reply": "2021-10-05T05:00:09.262571Z"
    },
    "papermill": {
     "duration": 0.04232,
     "end_time": "2021-10-05T05:00:09.263027",
     "exception": false,
     "start_time": "2021-10-05T05:00:09.220707",
     "status": "completed"
    },
    "tags": []
   },
   "outputs": [],
   "source": [
    "df_pivot.columns = [\"stamp_1\", \"stamp_2\"]\n",
    "df_pivot_diff = df_pivot.diff(axis=1)"
   ]
  },
  {
   "cell_type": "code",
   "execution_count": 7,
   "id": "fifth-motion",
   "metadata": {
    "execution": {
     "iopub.execute_input": "2021-10-05T05:00:09.317628Z",
     "iopub.status.busy": "2021-10-05T05:00:09.315335Z",
     "iopub.status.idle": "2021-10-05T05:00:10.809265Z",
     "shell.execute_reply": "2021-10-05T05:00:10.810544Z"
    },
    "papermill": {
     "duration": 1.527298,
     "end_time": "2021-10-05T05:00:10.811018",
     "exception": false,
     "start_time": "2021-10-05T05:00:09.283720",
     "status": "completed"
    },
    "tags": []
   },
   "outputs": [
    {
     "data": {
      "text/plain": [
       "<AxesSubplot:ylabel='PRODUCT'>"
      ]
     },
     "execution_count": 7,
     "metadata": {},
     "output_type": "execute_result"
    },
    {
     "data": {
      "image/png": "[encoded data removed]",
      "text/plain": [
       "<Figure size 432x288 with 1 Axes>"
      ]
     },
     "metadata": {
      "needs_background": "light"
     },
     "output_type": "display_data"
    }
   ],
   "source": [
    "df_pivot_diff.sort_values(\"stamp_2\", ascending = False)[\"stamp_2\"].head(10).plot.barh()"
   ]
  },
  {
   "cell_type": "code",
   "execution_count": null,
   "id": "extra-executive",
   "metadata": {
    "papermill": {
     "duration": 0.022108,
     "end_time": "2021-10-05T05:00:10.858671",
     "exception": false,
     "start_time": "2021-10-05T05:00:10.836563",
     "status": "completed"
    },
    "tags": []
   },
   "outputs": [],
   "source": []
  }
 ],
 "metadata": {
  "kernelspec": {
   "display_name": "Python 3",
   "language": "python",
   "name": "python3"
  },
  "language_info": {
   "codemirror_mode": {
    "name": "ipython",
    "version": 3
   },
   "file_extension": ".py",
   "mimetype": "text/x-python",
   "name": "python",
   "nbconvert_exporter": "python",
   "pygments_lexer": "ipython3",
   "version": "3.9.5"
  },
  "papermill": {
   "default_parameters": {},
   "duration": 7.826068,
   "end_time": "2021-10-05T05:00:12.351113",
   "environment_variables": {},
   "exception": null,
   "input_path": "eBay_Overview.ipynb",
   "output_path": "eBay_Overview.ipynb",
   "parameters": {},
   "start_time": "2021-10-05T05:00:04.525045",
   "version": "2.3.3"
  }
 },
 "nbformat": 4,
 "nbformat_minor": 5
}