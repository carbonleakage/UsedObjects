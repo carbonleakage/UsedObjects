{
 "cells": [
  {
   "cell_type": "code",
   "execution_count": 1,
   "id": "reverse-picking",
   "metadata": {
    "execution": {
     "iopub.execute_input": "2021-12-21T02:30:07.744887Z",
     "iopub.status.busy": "2021-12-21T02:30:07.742468Z",
     "iopub.status.idle": "2021-12-21T02:30:08.694535Z",
     "shell.execute_reply": "2021-12-21T02:30:08.696062Z"
    },
    "papermill": {
     "duration": 1.002313,
     "end_time": "2021-12-21T02:30:08.696862",
     "exception": false,
     "start_time": "2021-12-21T02:30:07.694549",
     "status": "completed"
    },
    "tags": []
   },
   "outputs": [],
   "source": [
    "import pandas as pd\n",
    "import sqlite3"
   ]
  },
  {
   "cell_type": "code",
   "execution_count": 2,
   "id": "innovative-syndrome",
   "metadata": {
    "execution": {
     "iopub.execute_input": "2021-12-21T02:30:08.764523Z",
     "iopub.status.busy": "2021-12-21T02:30:08.762330Z",
     "iopub.status.idle": "2021-12-21T02:30:09.911111Z",
     "shell.execute_reply": "2021-12-21T02:30:09.912413Z"
    },
    "papermill": {
     "duration": 1.182614,
     "end_time": "2021-12-21T02:30:09.912893",
     "exception": false,
     "start_time": "2021-12-21T02:30:08.730279",
     "status": "completed"
    },
    "tags": []
   },
   "outputs": [],
   "source": [
    "timestamps = pd.read_sql(\"select distinct record_time from EBAY_TOP_BERLIN order by record_time desc limit 2\", sqlite3.connect(\"UsedObjects.db\"))"
   ]
  },
  {
   "cell_type": "code",
   "execution_count": 3,
   "id": "periodic-identification",
   "metadata": {
    "execution": {
     "iopub.execute_input": "2021-12-21T02:30:09.984389Z",
     "iopub.status.busy": "2021-12-21T02:30:09.978630Z",
     "iopub.status.idle": "2021-12-21T02:30:10.002458Z",
     "shell.execute_reply": "2021-12-21T02:30:10.003916Z"
    },
    "papermill": {
     "duration": 0.071682,
     "end_time": "2021-12-21T02:30:10.004439",
     "exception": false,
     "start_time": "2021-12-21T02:30:09.932757",
     "status": "completed"
    },
    "tags": []
   },
   "outputs": [
    {
     "data": {
      "text/html": [
       "<div>\n",
       "<style scoped>\n",
       "    .dataframe tbody tr th:only-of-type {\n",
       "        vertical-align: middle;\n",
       "    }\n",
       "\n",
       "    .dataframe tbody tr th {\n",
       "        vertical-align: top;\n",
       "    }\n",
       "\n",
       "    .dataframe thead th {\n",
       "        text-align: right;\n",
       "    }\n",
       "</style>\n",
       "<table border=\"1\" class=\"dataframe\">\n",
       "  <thead>\n",
       "    <tr style=\"text-align: right;\">\n",
       "      <th></th>\n",
       "      <th>RECORD_TIME</th>\n",
       "    </tr>\n",
       "  </thead>\n",
       "  <tbody>\n",
       "    <tr>\n",
       "      <th>0</th>\n",
       "      <td>2021-12-21 03:30</td>\n",
       "    </tr>\n",
       "    <tr>\n",
       "      <th>1</th>\n",
       "      <td>2021-12-21 03:00</td>\n",
       "    </tr>\n",
       "  </tbody>\n",
       "</table>\n",
       "</div>"
      ],
      "text/plain": [
       "        RECORD_TIME\n",
       "0  2021-12-21 03:30\n",
       "1  2021-12-21 03:00"
      ]
     },
     "execution_count": 3,
     "metadata": {},
     "output_type": "execute_result"
    }
   ],
   "source": [
    "timestamps"
   ]
  },
  {
   "cell_type": "code",
   "execution_count": 4,
   "id": "alternate-victory",
   "metadata": {
    "execution": {
     "iopub.execute_input": "2021-12-21T02:30:10.058646Z",
     "iopub.status.busy": "2021-12-21T02:30:10.056758Z",
     "iopub.status.idle": "2021-12-21T02:30:11.722735Z",
     "shell.execute_reply": "2021-12-21T02:30:11.724117Z"
    },
    "papermill": {
     "duration": 1.698178,
     "end_time": "2021-12-21T02:30:11.724592",
     "exception": false,
     "start_time": "2021-12-21T02:30:10.026414",
     "status": "completed"
    },
    "tags": []
   },
   "outputs": [],
   "source": [
    "df = pd.read_sql(\"select * from EBAY_TOP_BERLIN where record_time in (select distinct record_time from EBAY_TOP_BERLIN order by record_time desc limit 2)\", sqlite3.connect(\"UsedObjects.db\"))"
   ]
  },
  {
   "cell_type": "code",
   "execution_count": 5,
   "id": "popular-active",
   "metadata": {
    "execution": {
     "iopub.execute_input": "2021-12-21T02:30:11.788408Z",
     "iopub.status.busy": "2021-12-21T02:30:11.786163Z",
     "iopub.status.idle": "2021-12-21T02:30:11.815590Z",
     "shell.execute_reply": "2021-12-21T02:30:11.817122Z"
    },
    "papermill": {
     "duration": 0.072217,
     "end_time": "2021-12-21T02:30:11.817595",
     "exception": false,
     "start_time": "2021-12-21T02:30:11.745378",
     "status": "completed"
    },
    "tags": []
   },
   "outputs": [],
   "source": [
    "df_pivot = df.pivot_table(index=\"PRODUCT\", columns = \"RECORD_TIME\", values = \"LISTING_COUNT\")"
   ]
  },
  {
   "cell_type": "code",
   "execution_count": 6,
   "id": "union-huntington",
   "metadata": {
    "execution": {
     "iopub.execute_input": "2021-12-21T02:30:11.878876Z",
     "iopub.status.busy": "2021-12-21T02:30:11.876161Z",
     "iopub.status.idle": "2021-12-21T02:30:11.882459Z",
     "shell.execute_reply": "2021-12-21T02:30:11.883959Z"
    },
    "papermill": {
     "duration": 0.046931,
     "end_time": "2021-12-21T02:30:11.884455",
     "exception": false,
     "start_time": "2021-12-21T02:30:11.837524",
     "status": "completed"
    },
    "tags": []
   },
   "outputs": [],
   "source": [
    "df_pivot.columns = [\"stamp_1\", \"stamp_2\"]\n",
    "df_pivot_diff = df_pivot.diff(axis=1)"
   ]
  },
  {
   "cell_type": "code",
   "execution_count": 7,
   "id": "fifth-motion",
   "metadata": {
    "execution": {
     "iopub.execute_input": "2021-12-21T02:30:11.943181Z",
     "iopub.status.busy": "2021-12-21T02:30:11.940005Z",
     "iopub.status.idle": "2021-12-21T02:30:13.908866Z",
     "shell.execute_reply": "2021-12-21T02:30:13.910185Z"
    },
    "papermill": {
     "duration": 2.003659,
     "end_time": "2021-12-21T02:30:13.910612",
     "exception": false,
     "start_time": "2021-12-21T02:30:11.906953",
     "status": "completed"
    },
    "tags": []
   },
   "outputs": [
    {
     "data": {
      "text/plain": [
       "<AxesSubplot:ylabel='PRODUCT'>"
      ]
     },
     "execution_count": 7,
     "metadata": {},
     "output_type": "execute_result"
    },
    {
     "data": {
      "image/png": "[encoded data removed]",
      "text/plain": [
       "<Figure size 432x288 with 1 Axes>"
      ]
     },
     "metadata": {
      "needs_background": "light"
     },
     "output_type": "display_data"
    }
   ],
   "source": [
    "df_pivot_diff.sort_values(\"stamp_2\", ascending = False)[\"stamp_2\"].head(10).plot.barh()"
   ]
  },
  {
   "cell_type": "code",
   "execution_count": null,
   "id": "extra-executive",
   "metadata": {
    "papermill": {
     "duration": 0.026761,
     "end_time": "2021-12-21T02:30:13.966509",
     "exception": false,
     "start_time": "2021-12-21T02:30:13.939748",
     "status": "completed"
    },
    "tags": []
   },
   "outputs": [],
   "source": []
  }
 ],
 "metadata": {
  "kernelspec": {
   "display_name": "Python 3",
   "language": "python",
   "name": "python3"
  },
  "language_info": {
   "codemirror_mode": {
    "name": "ipython",
    "version": 3
   },
   "file_extension": ".py",
   "mimetype": "text/x-python",
   "name": "python",
   "nbconvert_exporter": "python",
   "pygments_lexer": "ipython3",
   "version": "3.9.5"
  },
  "papermill": {
   "default_parameters": {},
   "duration": 9.634361,
   "end_time": "2021-12-21T02:30:14.608956",
   "environment_variables": {},
   "exception": null,
   "input_path": "eBay_Overview.ipynb",
   "output_path": "eBay_Overview.ipynb",
   "parameters": {},
   "start_time": "2021-12-21T02:30:04.974595",
   "version": "2.3.3"
  }
 },
 "nbformat": 4,
 "nbformat_minor": 5
}