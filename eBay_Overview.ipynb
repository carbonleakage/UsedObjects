{
 "cells": [
  {
   "cell_type": "code",
   "execution_count": 1,
   "id": "reverse-picking",
   "metadata": {
    "execution": {
     "iopub.execute_input": "2021-09-30T09:00:07.126881Z",
     "iopub.status.busy": "2021-09-30T09:00:07.124915Z",
     "iopub.status.idle": "2021-09-30T09:00:07.935022Z",
     "shell.execute_reply": "2021-09-30T09:00:07.933406Z"
    },
    "papermill": {
     "duration": 0.861065,
     "end_time": "2021-09-30T09:00:07.935433",
     "exception": false,
     "start_time": "2021-09-30T09:00:07.074368",
     "status": "completed"
    },
    "tags": []
   },
   "outputs": [],
   "source": [
    "import pandas as pd\n",
    "import sqlite3"
   ]
  },
  {
   "cell_type": "code",
   "execution_count": 2,
   "id": "innovative-syndrome",
   "metadata": {
    "execution": {
     "iopub.execute_input": "2021-09-30T09:00:07.986335Z",
     "iopub.status.busy": "2021-09-30T09:00:07.984468Z",
     "iopub.status.idle": "2021-09-30T09:00:08.395431Z",
     "shell.execute_reply": "2021-09-30T09:00:08.396806Z"
    },
    "papermill": {
     "duration": 0.440834,
     "end_time": "2021-09-30T09:00:08.397244",
     "exception": false,
     "start_time": "2021-09-30T09:00:07.956410",
     "status": "completed"
    },
    "tags": []
   },
   "outputs": [],
   "source": [
    "timestamps = pd.read_sql(\"select distinct record_time from EBAY_TOP_BERLIN order by record_time desc limit 2\", sqlite3.connect(\"UsedObjects.db\"))"
   ]
  },
  {
   "cell_type": "code",
   "execution_count": 3,
   "id": "periodic-identification",
   "metadata": {
    "execution": {
     "iopub.execute_input": "2021-09-30T09:00:08.464262Z",
     "iopub.status.busy": "2021-09-30T09:00:08.462200Z",
     "iopub.status.idle": "2021-09-30T09:00:08.482876Z",
     "shell.execute_reply": "2021-09-30T09:00:08.484333Z"
    },
    "papermill": {
     "duration": 0.067629,
     "end_time": "2021-09-30T09:00:08.484828",
     "exception": false,
     "start_time": "2021-09-30T09:00:08.417199",
     "status": "completed"
    },
    "tags": []
   },
   "outputs": [
    {
     "data": {
      "text/html": [
       "<div>\n",
       "<style scoped>\n",
       "    .dataframe tbody tr th:only-of-type {\n",
       "        vertical-align: middle;\n",
       "    }\n",
       "\n",
       "    .dataframe tbody tr th {\n",
       "        vertical-align: top;\n",
       "    }\n",
       "\n",
       "    .dataframe thead th {\n",
       "        text-align: right;\n",
       "    }\n",
       "</style>\n",
       "<table border=\"1\" class=\"dataframe\">\n",
       "  <thead>\n",
       "    <tr style=\"text-align: right;\">\n",
       "      <th></th>\n",
       "      <th>RECORD_TIME</th>\n",
       "    </tr>\n",
       "  </thead>\n",
       "  <tbody>\n",
       "    <tr>\n",
       "      <th>0</th>\n",
       "      <td>2021-09-30 11:00</td>\n",
       "    </tr>\n",
       "    <tr>\n",
       "      <th>1</th>\n",
       "      <td>2021-09-30 10:30</td>\n",
       "    </tr>\n",
       "  </tbody>\n",
       "</table>\n",
       "</div>"
      ],
      "text/plain": [
       "        RECORD_TIME\n",
       "0  2021-09-30 11:00\n",
       "1  2021-09-30 10:30"
      ]
     },
     "execution_count": 3,
     "metadata": {},
     "output_type": "execute_result"
    }
   ],
   "source": [
    "timestamps"
   ]
  },
  {
   "cell_type": "code",
   "execution_count": 4,
   "id": "alternate-victory",
   "metadata": {
    "execution": {
     "iopub.execute_input": "2021-09-30T09:00:08.537686Z",
     "iopub.status.busy": "2021-09-30T09:00:08.535432Z",
     "iopub.status.idle": "2021-09-30T09:00:09.151105Z",
     "shell.execute_reply": "2021-09-30T09:00:09.152466Z"
    },
    "papermill": {
     "duration": 0.645861,
     "end_time": "2021-09-30T09:00:09.152875",
     "exception": false,
     "start_time": "2021-09-30T09:00:08.507014",
     "status": "completed"
    },
    "tags": []
   },
   "outputs": [],
   "source": [
    "df = pd.read_sql(\"select * from EBAY_TOP_BERLIN where record_time in (select distinct record_time from EBAY_TOP_BERLIN order by record_time desc limit 2)\", sqlite3.connect(\"UsedObjects.db\"))"
   ]
  },
  {
   "cell_type": "code",
   "execution_count": 5,
   "id": "popular-active",
   "metadata": {
    "execution": {
     "iopub.execute_input": "2021-09-30T09:00:09.222290Z",
     "iopub.status.busy": "2021-09-30T09:00:09.211421Z",
     "iopub.status.idle": "2021-09-30T09:00:09.237777Z",
     "shell.execute_reply": "2021-09-30T09:00:09.239218Z"
    },
    "papermill": {
     "duration": 0.066197,
     "end_time": "2021-09-30T09:00:09.239636",
     "exception": false,
     "start_time": "2021-09-30T09:00:09.173439",
     "status": "completed"
    },
    "tags": []
   },
   "outputs": [],
   "source": [
    "df_pivot = df.pivot_table(index=\"PRODUCT\", columns = \"RECORD_TIME\", values = \"LISTING_COUNT\")"
   ]
  },
  {
   "cell_type": "code",
   "execution_count": 6,
   "id": "union-huntington",
   "metadata": {
    "execution": {
     "iopub.execute_input": "2021-09-30T09:00:09.298144Z",
     "iopub.status.busy": "2021-09-30T09:00:09.295739Z",
     "iopub.status.idle": "2021-09-30T09:00:09.301790Z",
     "shell.execute_reply": "2021-09-30T09:00:09.303110Z"
    },
    "papermill": {
     "duration": 0.04245,
     "end_time": "2021-09-30T09:00:09.303565",
     "exception": false,
     "start_time": "2021-09-30T09:00:09.261115",
     "status": "completed"
    },
    "tags": []
   },
   "outputs": [],
   "source": [
    "df_pivot.columns = [\"stamp_1\", \"stamp_2\"]\n",
    "df_pivot_diff = df_pivot.diff(axis=1)"
   ]
  },
  {
   "cell_type": "code",
   "execution_count": 7,
   "id": "fifth-motion",
   "metadata": {
    "execution": {
     "iopub.execute_input": "2021-09-30T09:00:09.358008Z",
     "iopub.status.busy": "2021-09-30T09:00:09.355816Z",
     "iopub.status.idle": "2021-09-30T09:00:10.869937Z",
     "shell.execute_reply": "2021-09-30T09:00:10.871544Z"
    },
    "papermill": {
     "duration": 1.546994,
     "end_time": "2021-09-30T09:00:10.872037",
     "exception": false,
     "start_time": "2021-09-30T09:00:09.325043",
     "status": "completed"
    },
    "tags": []
   },
   "outputs": [
    {
     "data": {
      "text/plain": [
       "<AxesSubplot:ylabel='PRODUCT'>"
      ]
     },
     "execution_count": 7,
     "metadata": {},
     "output_type": "execute_result"
    },
    {
     "data": {
      "image/png": "[encoded data removed]",
      "text/plain": [
       "<Figure size 432x288 with 1 Axes>"
      ]
     },
     "metadata": {
      "needs_background": "light"
     },
     "output_type": "display_data"
    }
   ],
   "source": [
    "df_pivot_diff.sort_values(\"stamp_2\", ascending = False)[\"stamp_2\"].head(10).plot.barh()"
   ]
  },
  {
   "cell_type": "code",
   "execution_count": null,
   "id": "extra-executive",
   "metadata": {
    "papermill": {
     "duration": 0.02248,
     "end_time": "2021-09-30T09:00:10.919790",
     "exception": false,
     "start_time": "2021-09-30T09:00:10.897310",
     "status": "completed"
    },
    "tags": []
   },
   "outputs": [],
   "source": []
  }
 ],
 "metadata": {
  "kernelspec": {
   "display_name": "Python 3",
   "language": "python",
   "name": "python3"
  },
  "language_info": {
   "codemirror_mode": {
    "name": "ipython",
    "version": 3
   },
   "file_extension": ".py",
   "mimetype": "text/x-python",
   "name": "python",
   "nbconvert_exporter": "python",
   "pygments_lexer": "ipython3",
   "version": "3.9.5"
  },
  "papermill": {
   "default_parameters": {},
   "duration": 7.831162,
   "end_time": "2021-09-30T09:00:12.499992",
   "environment_variables": {},
   "exception": null,
   "input_path": "eBay_Overview.ipynb",
   "output_path": "eBay_Overview.ipynb",
   "parameters": {},
   "start_time": "2021-09-30T09:00:04.668830",
   "version": "2.3.3"
  }
 },
 "nbformat": 4,
 "nbformat_minor": 5
}