{
 "cells": [
  {
   "cell_type": "code",
   "execution_count": 1,
   "id": "reverse-picking",
   "metadata": {
    "execution": {
     "iopub.execute_input": "2021-08-11T23:30:04.436155Z",
     "iopub.status.busy": "2021-08-11T23:30:04.435378Z",
     "iopub.status.idle": "2021-08-11T23:30:05.050015Z",
     "shell.execute_reply": "2021-08-11T23:30:05.049301Z"
    },
    "papermill": {
     "duration": 0.633122,
     "end_time": "2021-08-11T23:30:05.050199",
     "exception": false,
     "start_time": "2021-08-11T23:30:04.417077",
     "status": "completed"
    },
    "tags": []
   },
   "outputs": [],
   "source": [
    "import pandas as pd\n",
    "import sqlite3"
   ]
  },
  {
   "cell_type": "code",
   "execution_count": 2,
   "id": "innovative-syndrome",
   "metadata": {
    "execution": {
     "iopub.execute_input": "2021-08-11T23:30:05.078758Z",
     "iopub.status.busy": "2021-08-11T23:30:05.077840Z",
     "iopub.status.idle": "2021-08-11T23:30:05.280763Z",
     "shell.execute_reply": "2021-08-11T23:30:05.281331Z"
    },
    "papermill": {
     "duration": 0.220947,
     "end_time": "2021-08-11T23:30:05.281522",
     "exception": false,
     "start_time": "2021-08-11T23:30:05.060575",
     "status": "completed"
    },
    "tags": []
   },
   "outputs": [],
   "source": [
    "timestamps = pd.read_sql(\"select distinct record_time from EBAY_TOP_BERLIN order by record_time desc limit 2\", sqlite3.connect(\"UsedObjects.db\"))"
   ]
  },
  {
   "cell_type": "code",
   "execution_count": 3,
   "id": "periodic-identification",
   "metadata": {
    "execution": {
     "iopub.execute_input": "2021-08-11T23:30:05.320407Z",
     "iopub.status.busy": "2021-08-11T23:30:05.319330Z",
     "iopub.status.idle": "2021-08-11T23:30:05.336249Z",
     "shell.execute_reply": "2021-08-11T23:30:05.335493Z"
    },
    "papermill": {
     "duration": 0.045676,
     "end_time": "2021-08-11T23:30:05.336411",
     "exception": false,
     "start_time": "2021-08-11T23:30:05.290735",
     "status": "completed"
    },
    "tags": []
   },
   "outputs": [
    {
     "data": {
      "text/html": [
       "<div>\n",
       "<style scoped>\n",
       "    .dataframe tbody tr th:only-of-type {\n",
       "        vertical-align: middle;\n",
       "    }\n",
       "\n",
       "    .dataframe tbody tr th {\n",
       "        vertical-align: top;\n",
       "    }\n",
       "\n",
       "    .dataframe thead th {\n",
       "        text-align: right;\n",
       "    }\n",
       "</style>\n",
       "<table border=\"1\" class=\"dataframe\">\n",
       "  <thead>\n",
       "    <tr style=\"text-align: right;\">\n",
       "      <th></th>\n",
       "      <th>RECORD_TIME</th>\n",
       "    </tr>\n",
       "  </thead>\n",
       "  <tbody>\n",
       "    <tr>\n",
       "      <th>0</th>\n",
       "      <td>2021-08-12 01:30</td>\n",
       "    </tr>\n",
       "    <tr>\n",
       "      <th>1</th>\n",
       "      <td>2021-08-12 01:00</td>\n",
       "    </tr>\n",
       "  </tbody>\n",
       "</table>\n",
       "</div>"
      ],
      "text/plain": [
       "        RECORD_TIME\n",
       "0  2021-08-12 01:30\n",
       "1  2021-08-12 01:00"
      ]
     },
     "execution_count": 3,
     "metadata": {},
     "output_type": "execute_result"
    }
   ],
   "source": [
    "timestamps"
   ]
  },
  {
   "cell_type": "code",
   "execution_count": 4,
   "id": "alternate-victory",
   "metadata": {
    "execution": {
     "iopub.execute_input": "2021-08-11T23:30:05.360959Z",
     "iopub.status.busy": "2021-08-11T23:30:05.359532Z",
     "iopub.status.idle": "2021-08-11T23:30:05.388050Z",
     "shell.execute_reply": "2021-08-11T23:30:05.388923Z"
    },
    "papermill": {
     "duration": 0.044313,
     "end_time": "2021-08-11T23:30:05.389188",
     "exception": false,
     "start_time": "2021-08-11T23:30:05.344875",
     "status": "completed"
    },
    "tags": []
   },
   "outputs": [],
   "source": [
    "df = pd.read_sql(\"select * from EBAY_TOP_BERLIN where record_time in (select distinct record_time from EBAY_TOP_BERLIN order by record_time desc limit 2)\", sqlite3.connect(\"UsedObjects.db\"))"
   ]
  },
  {
   "cell_type": "code",
   "execution_count": 5,
   "id": "popular-active",
   "metadata": {
    "execution": {
     "iopub.execute_input": "2021-08-11T23:30:05.426118Z",
     "iopub.status.busy": "2021-08-11T23:30:05.424605Z",
     "iopub.status.idle": "2021-08-11T23:30:05.446861Z",
     "shell.execute_reply": "2021-08-11T23:30:05.445773Z"
    },
    "papermill": {
     "duration": 0.042057,
     "end_time": "2021-08-11T23:30:05.447133",
     "exception": false,
     "start_time": "2021-08-11T23:30:05.405076",
     "status": "completed"
    },
    "tags": []
   },
   "outputs": [],
   "source": [
    "df_pivot = df.pivot_table(index=\"PRODUCT\", columns = \"RECORD_TIME\", values = \"LISTING_COUNT\")"
   ]
  },
  {
   "cell_type": "code",
   "execution_count": 6,
   "id": "union-huntington",
   "metadata": {
    "execution": {
     "iopub.execute_input": "2021-08-11T23:30:05.480032Z",
     "iopub.status.busy": "2021-08-11T23:30:05.479327Z",
     "iopub.status.idle": "2021-08-11T23:30:05.486603Z",
     "shell.execute_reply": "2021-08-11T23:30:05.487175Z"
    },
    "papermill": {
     "duration": 0.02955,
     "end_time": "2021-08-11T23:30:05.487367",
     "exception": false,
     "start_time": "2021-08-11T23:30:05.457817",
     "status": "completed"
    },
    "tags": []
   },
   "outputs": [],
   "source": [
    "df_pivot.columns = [\"stamp_1\", \"stamp_2\"]\n",
    "df_pivot_diff = df_pivot.diff(axis=1)"
   ]
  },
  {
   "cell_type": "code",
   "execution_count": 7,
   "id": "fifth-motion",
   "metadata": {
    "execution": {
     "iopub.execute_input": "2021-08-11T23:30:05.514068Z",
     "iopub.status.busy": "2021-08-11T23:30:05.513303Z",
     "iopub.status.idle": "2021-08-11T23:30:06.183121Z",
     "shell.execute_reply": "2021-08-11T23:30:06.183691Z"
    },
    "papermill": {
     "duration": 0.687244,
     "end_time": "2021-08-11T23:30:06.183882",
     "exception": false,
     "start_time": "2021-08-11T23:30:05.496638",
     "status": "completed"
    },
    "tags": []
   },
   "outputs": [
    {
     "data": {
      "text/plain": [
       "<AxesSubplot:ylabel='PRODUCT'>"
      ]
     },
     "execution_count": 7,
     "metadata": {},
     "output_type": "execute_result"
    },
    {
     "data": {
      "image/png": "[encoded data removed]",
      "text/plain": [
       "<Figure size 432x288 with 1 Axes>"
      ]
     },
     "metadata": {
      "needs_background": "light"
     },
     "output_type": "display_data"
    }
   ],
   "source": [
    "df_pivot_diff.sort_values(\"stamp_2\", ascending = False)[\"stamp_2\"].head(10).plot.barh()"
   ]
  },
  {
   "cell_type": "code",
   "execution_count": null,
   "id": "extra-executive",
   "metadata": {
    "papermill": {
     "duration": 0.009421,
     "end_time": "2021-08-11T23:30:06.203266",
     "exception": false,
     "start_time": "2021-08-11T23:30:06.193845",
     "status": "completed"
    },
    "tags": []
   },
   "outputs": [],
   "source": []
  }
 ],
 "metadata": {
  "kernelspec": {
   "display_name": "Python 3",
   "language": "python",
   "name": "python3"
  },
  "language_info": {
   "codemirror_mode": {
    "name": "ipython",
    "version": 3
   },
   "file_extension": ".py",
   "mimetype": "text/x-python",
   "name": "python",
   "nbconvert_exporter": "python",
   "pygments_lexer": "ipython3",
   "version": "3.8.8"
  },
  "papermill": {
   "default_parameters": {},
   "duration": 5.073629,
   "end_time": "2021-08-11T23:30:07.680547",
   "environment_variables": {},
   "exception": null,
   "input_path": "/Users/saravananshanmugam/Carbonleakage_Git/UsedObjects/eBay_Overview.ipynb",
   "output_path": "/Users/saravananshanmugam/Carbonleakage_Git/UsedObjects/eBay_Overview.ipynb",
   "parameters": {},
   "start_time": "2021-08-11T23:30:02.606918",
   "version": "2.3.3"
  }
 },
 "nbformat": 4,
 "nbformat_minor": 5
}