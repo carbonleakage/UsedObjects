{
 "cells": [
  {
   "cell_type": "code",
   "execution_count": 1,
   "id": "reverse-picking",
   "metadata": {
    "execution": {
     "iopub.execute_input": "2021-09-16T08:00:06.952633Z",
     "iopub.status.busy": "2021-09-16T08:00:06.950629Z",
     "iopub.status.idle": "2021-09-16T08:00:07.752618Z",
     "shell.execute_reply": "2021-09-16T08:00:07.753990Z"
    },
    "papermill": {
     "duration": 0.855059,
     "end_time": "2021-09-16T08:00:07.754662",
     "exception": false,
     "start_time": "2021-09-16T08:00:06.899603",
     "status": "completed"
    },
    "tags": []
   },
   "outputs": [],
   "source": [
    "import pandas as pd\n",
    "import sqlite3"
   ]
  },
  {
   "cell_type": "code",
   "execution_count": 2,
   "id": "innovative-syndrome",
   "metadata": {
    "execution": {
     "iopub.execute_input": "2021-09-16T08:00:07.806334Z",
     "iopub.status.busy": "2021-09-16T08:00:07.804328Z",
     "iopub.status.idle": "2021-09-16T08:00:08.102541Z",
     "shell.execute_reply": "2021-09-16T08:00:08.103863Z"
    },
    "papermill": {
     "duration": 0.328582,
     "end_time": "2021-09-16T08:00:08.104281",
     "exception": false,
     "start_time": "2021-09-16T08:00:07.775699",
     "status": "completed"
    },
    "tags": []
   },
   "outputs": [],
   "source": [
    "timestamps = pd.read_sql(\"select distinct record_time from EBAY_TOP_BERLIN order by record_time desc limit 2\", sqlite3.connect(\"UsedObjects.db\"))"
   ]
  },
  {
   "cell_type": "code",
   "execution_count": 3,
   "id": "periodic-identification",
   "metadata": {
    "execution": {
     "iopub.execute_input": "2021-09-16T08:00:08.168432Z",
     "iopub.status.busy": "2021-09-16T08:00:08.166410Z",
     "iopub.status.idle": "2021-09-16T08:00:08.187804Z",
     "shell.execute_reply": "2021-09-16T08:00:08.189030Z"
    },
    "papermill": {
     "duration": 0.065441,
     "end_time": "2021-09-16T08:00:08.189427",
     "exception": false,
     "start_time": "2021-09-16T08:00:08.123986",
     "status": "completed"
    },
    "tags": []
   },
   "outputs": [
    {
     "data": {
      "text/html": [
       "<div>\n",
       "<style scoped>\n",
       "    .dataframe tbody tr th:only-of-type {\n",
       "        vertical-align: middle;\n",
       "    }\n",
       "\n",
       "    .dataframe tbody tr th {\n",
       "        vertical-align: top;\n",
       "    }\n",
       "\n",
       "    .dataframe thead th {\n",
       "        text-align: right;\n",
       "    }\n",
       "</style>\n",
       "<table border=\"1\" class=\"dataframe\">\n",
       "  <thead>\n",
       "    <tr style=\"text-align: right;\">\n",
       "      <th></th>\n",
       "      <th>RECORD_TIME</th>\n",
       "    </tr>\n",
       "  </thead>\n",
       "  <tbody>\n",
       "    <tr>\n",
       "      <th>0</th>\n",
       "      <td>2021-09-16 10:00</td>\n",
       "    </tr>\n",
       "    <tr>\n",
       "      <th>1</th>\n",
       "      <td>2021-09-16 09:30</td>\n",
       "    </tr>\n",
       "  </tbody>\n",
       "</table>\n",
       "</div>"
      ],
      "text/plain": [
       "        RECORD_TIME\n",
       "0  2021-09-16 10:00\n",
       "1  2021-09-16 09:30"
      ]
     },
     "execution_count": 3,
     "metadata": {},
     "output_type": "execute_result"
    }
   ],
   "source": [
    "timestamps"
   ]
  },
  {
   "cell_type": "code",
   "execution_count": 4,
   "id": "alternate-victory",
   "metadata": {
    "execution": {
     "iopub.execute_input": "2021-09-16T08:00:08.242284Z",
     "iopub.status.busy": "2021-09-16T08:00:08.240031Z",
     "iopub.status.idle": "2021-09-16T08:00:08.692151Z",
     "shell.execute_reply": "2021-09-16T08:00:08.690694Z"
    },
    "papermill": {
     "duration": 0.481355,
     "end_time": "2021-09-16T08:00:08.692490",
     "exception": false,
     "start_time": "2021-09-16T08:00:08.211135",
     "status": "completed"
    },
    "tags": []
   },
   "outputs": [],
   "source": [
    "df = pd.read_sql(\"select * from EBAY_TOP_BERLIN where record_time in (select distinct record_time from EBAY_TOP_BERLIN order by record_time desc limit 2)\", sqlite3.connect(\"UsedObjects.db\"))"
   ]
  },
  {
   "cell_type": "code",
   "execution_count": 5,
   "id": "popular-active",
   "metadata": {
    "execution": {
     "iopub.execute_input": "2021-09-16T08:00:08.774847Z",
     "iopub.status.busy": "2021-09-16T08:00:08.762393Z",
     "iopub.status.idle": "2021-09-16T08:00:08.790447Z",
     "shell.execute_reply": "2021-09-16T08:00:08.791798Z"
    },
    "papermill": {
     "duration": 0.07064,
     "end_time": "2021-09-16T08:00:08.792223",
     "exception": false,
     "start_time": "2021-09-16T08:00:08.721583",
     "status": "completed"
    },
    "tags": []
   },
   "outputs": [],
   "source": [
    "df_pivot = df.pivot_table(index=\"PRODUCT\", columns = \"RECORD_TIME\", values = \"LISTING_COUNT\")"
   ]
  },
  {
   "cell_type": "code",
   "execution_count": 6,
   "id": "union-huntington",
   "metadata": {
    "execution": {
     "iopub.execute_input": "2021-09-16T08:00:08.847550Z",
     "iopub.status.busy": "2021-09-16T08:00:08.845534Z",
     "iopub.status.idle": "2021-09-16T08:00:08.850585Z",
     "shell.execute_reply": "2021-09-16T08:00:08.851768Z"
    },
    "papermill": {
     "duration": 0.039633,
     "end_time": "2021-09-16T08:00:08.852179",
     "exception": false,
     "start_time": "2021-09-16T08:00:08.812546",
     "status": "completed"
    },
    "tags": []
   },
   "outputs": [],
   "source": [
    "df_pivot.columns = [\"stamp_1\", \"stamp_2\"]\n",
    "df_pivot_diff = df_pivot.diff(axis=1)"
   ]
  },
  {
   "cell_type": "code",
   "execution_count": 7,
   "id": "fifth-motion",
   "metadata": {
    "execution": {
     "iopub.execute_input": "2021-09-16T08:00:08.905899Z",
     "iopub.status.busy": "2021-09-16T08:00:08.903578Z",
     "iopub.status.idle": "2021-09-16T08:00:10.358053Z",
     "shell.execute_reply": "2021-09-16T08:00:10.359481Z"
    },
    "papermill": {
     "duration": 1.487325,
     "end_time": "2021-09-16T08:00:10.359935",
     "exception": false,
     "start_time": "2021-09-16T08:00:08.872610",
     "status": "completed"
    },
    "tags": []
   },
   "outputs": [
    {
     "data": {
      "text/plain": [
       "<AxesSubplot:ylabel='PRODUCT'>"
      ]
     },
     "execution_count": 7,
     "metadata": {},
     "output_type": "execute_result"
    },
    {
     "data": {
      "image/png": "[encoded data removed]",
      "text/plain": [
       "<Figure size 432x288 with 1 Axes>"
      ]
     },
     "metadata": {
      "needs_background": "light"
     },
     "output_type": "display_data"
    }
   ],
   "source": [
    "df_pivot_diff.sort_values(\"stamp_2\", ascending = False)[\"stamp_2\"].head(10).plot.barh()"
   ]
  },
  {
   "cell_type": "code",
   "execution_count": null,
   "id": "extra-executive",
   "metadata": {
    "papermill": {
     "duration": 0.02231,
     "end_time": "2021-09-16T08:00:10.406129",
     "exception": false,
     "start_time": "2021-09-16T08:00:10.383819",
     "status": "completed"
    },
    "tags": []
   },
   "outputs": [],
   "source": []
  }
 ],
 "metadata": {
  "kernelspec": {
   "display_name": "Python 3",
   "language": "python",
   "name": "python3"
  },
  "language_info": {
   "codemirror_mode": {
    "name": "ipython",
    "version": 3
   },
   "file_extension": ".py",
   "mimetype": "text/x-python",
   "name": "python",
   "nbconvert_exporter": "python",
   "pygments_lexer": "ipython3",
   "version": "3.9.5"
  },
  "papermill": {
   "default_parameters": {},
   "duration": 6.538199,
   "end_time": "2021-09-16T08:00:11.048915",
   "environment_variables": {},
   "exception": null,
   "input_path": "eBay_Overview.ipynb",
   "output_path": "eBay_Overview.ipynb",
   "parameters": {},
   "start_time": "2021-09-16T08:00:04.510716",
   "version": "2.3.3"
  }
 },
 "nbformat": 4,
 "nbformat_minor": 5
}