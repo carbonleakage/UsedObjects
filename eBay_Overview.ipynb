{
 "cells": [
  {
   "cell_type": "code",
   "execution_count": 1,
   "id": "reverse-picking",
   "metadata": {
    "execution": {
     "iopub.execute_input": "2021-10-24T01:30:06.918280Z",
     "iopub.status.busy": "2021-10-24T01:30:06.916305Z",
     "iopub.status.idle": "2021-10-24T01:30:07.721910Z",
     "shell.execute_reply": "2021-10-24T01:30:07.723207Z"
    },
    "papermill": {
     "duration": 0.855968,
     "end_time": "2021-10-24T01:30:07.723817",
     "exception": false,
     "start_time": "2021-10-24T01:30:06.867849",
     "status": "completed"
    },
    "tags": []
   },
   "outputs": [],
   "source": [
    "import pandas as pd\n",
    "import sqlite3"
   ]
  },
  {
   "cell_type": "code",
   "execution_count": 2,
   "id": "innovative-syndrome",
   "metadata": {
    "execution": {
     "iopub.execute_input": "2021-10-24T01:30:07.773650Z",
     "iopub.status.busy": "2021-10-24T01:30:07.771684Z",
     "iopub.status.idle": "2021-10-24T01:30:08.385803Z",
     "shell.execute_reply": "2021-10-24T01:30:08.387167Z"
    },
    "papermill": {
     "duration": 0.643791,
     "end_time": "2021-10-24T01:30:08.387600",
     "exception": false,
     "start_time": "2021-10-24T01:30:07.743809",
     "status": "completed"
    },
    "tags": []
   },
   "outputs": [],
   "source": [
    "timestamps = pd.read_sql(\"select distinct record_time from EBAY_TOP_BERLIN order by record_time desc limit 2\", sqlite3.connect(\"UsedObjects.db\"))"
   ]
  },
  {
   "cell_type": "code",
   "execution_count": 3,
   "id": "periodic-identification",
   "metadata": {
    "execution": {
     "iopub.execute_input": "2021-10-24T01:30:08.460911Z",
     "iopub.status.busy": "2021-10-24T01:30:08.458868Z",
     "iopub.status.idle": "2021-10-24T01:30:08.478717Z",
     "shell.execute_reply": "2021-10-24T01:30:08.479834Z"
    },
    "papermill": {
     "duration": 0.067302,
     "end_time": "2021-10-24T01:30:08.480240",
     "exception": false,
     "start_time": "2021-10-24T01:30:08.412938",
     "status": "completed"
    },
    "tags": []
   },
   "outputs": [
    {
     "data": {
      "text/html": [
       "<div>\n",
       "<style scoped>\n",
       "    .dataframe tbody tr th:only-of-type {\n",
       "        vertical-align: middle;\n",
       "    }\n",
       "\n",
       "    .dataframe tbody tr th {\n",
       "        vertical-align: top;\n",
       "    }\n",
       "\n",
       "    .dataframe thead th {\n",
       "        text-align: right;\n",
       "    }\n",
       "</style>\n",
       "<table border=\"1\" class=\"dataframe\">\n",
       "  <thead>\n",
       "    <tr style=\"text-align: right;\">\n",
       "      <th></th>\n",
       "      <th>RECORD_TIME</th>\n",
       "    </tr>\n",
       "  </thead>\n",
       "  <tbody>\n",
       "    <tr>\n",
       "      <th>0</th>\n",
       "      <td>2021-10-24 03:30</td>\n",
       "    </tr>\n",
       "    <tr>\n",
       "      <th>1</th>\n",
       "      <td>2021-10-24 03:00</td>\n",
       "    </tr>\n",
       "  </tbody>\n",
       "</table>\n",
       "</div>"
      ],
      "text/plain": [
       "        RECORD_TIME\n",
       "0  2021-10-24 03:30\n",
       "1  2021-10-24 03:00"
      ]
     },
     "execution_count": 3,
     "metadata": {},
     "output_type": "execute_result"
    }
   ],
   "source": [
    "timestamps"
   ]
  },
  {
   "cell_type": "code",
   "execution_count": 4,
   "id": "alternate-victory",
   "metadata": {
    "execution": {
     "iopub.execute_input": "2021-10-24T01:30:08.533487Z",
     "iopub.status.busy": "2021-10-24T01:30:08.531175Z",
     "iopub.status.idle": "2021-10-24T01:30:09.440304Z",
     "shell.execute_reply": "2021-10-24T01:30:09.441767Z"
    },
    "papermill": {
     "duration": 0.939674,
     "end_time": "2021-10-24T01:30:09.442215",
     "exception": false,
     "start_time": "2021-10-24T01:30:08.502541",
     "status": "completed"
    },
    "tags": []
   },
   "outputs": [],
   "source": [
    "df = pd.read_sql(\"select * from EBAY_TOP_BERLIN where record_time in (select distinct record_time from EBAY_TOP_BERLIN order by record_time desc limit 2)\", sqlite3.connect(\"UsedObjects.db\"))"
   ]
  },
  {
   "cell_type": "code",
   "execution_count": 5,
   "id": "popular-active",
   "metadata": {
    "execution": {
     "iopub.execute_input": "2021-10-24T01:30:09.514646Z",
     "iopub.status.busy": "2021-10-24T01:30:09.502041Z",
     "iopub.status.idle": "2021-10-24T01:30:09.530285Z",
     "shell.execute_reply": "2021-10-24T01:30:09.531482Z"
    },
    "papermill": {
     "duration": 0.0685,
     "end_time": "2021-10-24T01:30:09.531873",
     "exception": false,
     "start_time": "2021-10-24T01:30:09.463373",
     "status": "completed"
    },
    "tags": []
   },
   "outputs": [],
   "source": [
    "df_pivot = df.pivot_table(index=\"PRODUCT\", columns = \"RECORD_TIME\", values = \"LISTING_COUNT\")"
   ]
  },
  {
   "cell_type": "code",
   "execution_count": 6,
   "id": "union-huntington",
   "metadata": {
    "execution": {
     "iopub.execute_input": "2021-10-24T01:30:09.591003Z",
     "iopub.status.busy": "2021-10-24T01:30:09.588536Z",
     "iopub.status.idle": "2021-10-24T01:30:09.594311Z",
     "shell.execute_reply": "2021-10-24T01:30:09.595588Z"
    },
    "papermill": {
     "duration": 0.041778,
     "end_time": "2021-10-24T01:30:09.595999",
     "exception": false,
     "start_time": "2021-10-24T01:30:09.554221",
     "status": "completed"
    },
    "tags": []
   },
   "outputs": [],
   "source": [
    "df_pivot.columns = [\"stamp_1\", \"stamp_2\"]\n",
    "df_pivot_diff = df_pivot.diff(axis=1)"
   ]
  },
  {
   "cell_type": "code",
   "execution_count": 7,
   "id": "fifth-motion",
   "metadata": {
    "execution": {
     "iopub.execute_input": "2021-10-24T01:30:09.649465Z",
     "iopub.status.busy": "2021-10-24T01:30:09.647077Z",
     "iopub.status.idle": "2021-10-24T01:30:11.159034Z",
     "shell.execute_reply": "2021-10-24T01:30:11.160310Z"
    },
    "papermill": {
     "duration": 1.544287,
     "end_time": "2021-10-24T01:30:11.160781",
     "exception": false,
     "start_time": "2021-10-24T01:30:09.616494",
     "status": "completed"
    },
    "tags": []
   },
   "outputs": [
    {
     "data": {
      "text/plain": [
       "<AxesSubplot:ylabel='PRODUCT'>"
      ]
     },
     "execution_count": 7,
     "metadata": {},
     "output_type": "execute_result"
    },
    {
     "data": {
      "image/png": "[encoded data removed]",
      "text/plain": [
       "<Figure size 432x288 with 1 Axes>"
      ]
     },
     "metadata": {
      "needs_background": "light"
     },
     "output_type": "display_data"
    }
   ],
   "source": [
    "df_pivot_diff.sort_values(\"stamp_2\", ascending = False)[\"stamp_2\"].head(10).plot.barh()"
   ]
  },
  {
   "cell_type": "code",
   "execution_count": null,
   "id": "extra-executive",
   "metadata": {
    "papermill": {
     "duration": 0.02225,
     "end_time": "2021-10-24T01:30:11.206889",
     "exception": false,
     "start_time": "2021-10-24T01:30:11.184639",
     "status": "completed"
    },
    "tags": []
   },
   "outputs": [],
   "source": []
  }
 ],
 "metadata": {
  "kernelspec": {
   "display_name": "Python 3",
   "language": "python",
   "name": "python3"
  },
  "language_info": {
   "codemirror_mode": {
    "name": "ipython",
    "version": 3
   },
   "file_extension": ".py",
   "mimetype": "text/x-python",
   "name": "python",
   "nbconvert_exporter": "python",
   "pygments_lexer": "ipython3",
   "version": "3.9.5"
  },
  "papermill": {
   "default_parameters": {},
   "duration": 7.389357,
   "end_time": "2021-10-24T01:30:11.850806",
   "environment_variables": {},
   "exception": null,
   "input_path": "eBay_Overview.ipynb",
   "output_path": "eBay_Overview.ipynb",
   "parameters": {},
   "start_time": "2021-10-24T01:30:04.461449",
   "version": "2.3.3"
  }
 },
 "nbformat": 4,
 "nbformat_minor": 5
}