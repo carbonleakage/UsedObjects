{
 "cells": [
  {
   "cell_type": "code",
   "execution_count": 1,
   "id": "reverse-picking",
   "metadata": {
    "execution": {
     "iopub.execute_input": "2021-12-13T19:00:08.320189Z",
     "iopub.status.busy": "2021-12-13T19:00:08.317985Z",
     "iopub.status.idle": "2021-12-13T19:00:09.283237Z",
     "shell.execute_reply": "2021-12-13T19:00:09.280770Z"
    },
    "papermill": {
     "duration": 1.011307,
     "end_time": "2021-12-13T19:00:09.283727",
     "exception": false,
     "start_time": "2021-12-13T19:00:08.272420",
     "status": "completed"
    },
    "tags": []
   },
   "outputs": [],
   "source": [
    "import pandas as pd\n",
    "import sqlite3"
   ]
  },
  {
   "cell_type": "code",
   "execution_count": 2,
   "id": "innovative-syndrome",
   "metadata": {
    "execution": {
     "iopub.execute_input": "2021-12-13T19:00:09.345342Z",
     "iopub.status.busy": "2021-12-13T19:00:09.343076Z",
     "iopub.status.idle": "2021-12-13T19:00:10.419288Z",
     "shell.execute_reply": "2021-12-13T19:00:10.421428Z"
    },
    "papermill": {
     "duration": 1.110784,
     "end_time": "2021-12-13T19:00:10.421971",
     "exception": false,
     "start_time": "2021-12-13T19:00:09.311187",
     "status": "completed"
    },
    "tags": []
   },
   "outputs": [],
   "source": [
    "timestamps = pd.read_sql(\"select distinct record_time from EBAY_TOP_BERLIN order by record_time desc limit 2\", sqlite3.connect(\"UsedObjects.db\"))"
   ]
  },
  {
   "cell_type": "code",
   "execution_count": 3,
   "id": "periodic-identification",
   "metadata": {
    "execution": {
     "iopub.execute_input": "2021-12-13T19:00:10.496900Z",
     "iopub.status.busy": "2021-12-13T19:00:10.494477Z",
     "iopub.status.idle": "2021-12-13T19:00:10.517316Z",
     "shell.execute_reply": "2021-12-13T19:00:10.518901Z"
    },
    "papermill": {
     "duration": 0.076172,
     "end_time": "2021-12-13T19:00:10.519491",
     "exception": false,
     "start_time": "2021-12-13T19:00:10.443319",
     "status": "completed"
    },
    "tags": []
   },
   "outputs": [
    {
     "data": {
      "text/html": [
       "<div>\n",
       "<style scoped>\n",
       "    .dataframe tbody tr th:only-of-type {\n",
       "        vertical-align: middle;\n",
       "    }\n",
       "\n",
       "    .dataframe tbody tr th {\n",
       "        vertical-align: top;\n",
       "    }\n",
       "\n",
       "    .dataframe thead th {\n",
       "        text-align: right;\n",
       "    }\n",
       "</style>\n",
       "<table border=\"1\" class=\"dataframe\">\n",
       "  <thead>\n",
       "    <tr style=\"text-align: right;\">\n",
       "      <th></th>\n",
       "      <th>RECORD_TIME</th>\n",
       "    </tr>\n",
       "  </thead>\n",
       "  <tbody>\n",
       "    <tr>\n",
       "      <th>0</th>\n",
       "      <td>2021-12-13 20:00</td>\n",
       "    </tr>\n",
       "    <tr>\n",
       "      <th>1</th>\n",
       "      <td>2021-12-13 19:30</td>\n",
       "    </tr>\n",
       "  </tbody>\n",
       "</table>\n",
       "</div>"
      ],
      "text/plain": [
       "        RECORD_TIME\n",
       "0  2021-12-13 20:00\n",
       "1  2021-12-13 19:30"
      ]
     },
     "execution_count": 3,
     "metadata": {},
     "output_type": "execute_result"
    }
   ],
   "source": [
    "timestamps"
   ]
  },
  {
   "cell_type": "code",
   "execution_count": 4,
   "id": "alternate-victory",
   "metadata": {
    "execution": {
     "iopub.execute_input": "2021-12-13T19:00:10.574158Z",
     "iopub.status.busy": "2021-12-13T19:00:10.571826Z",
     "iopub.status.idle": "2021-12-13T19:00:12.156470Z",
     "shell.execute_reply": "2021-12-13T19:00:12.155139Z"
    },
    "papermill": {
     "duration": 1.616313,
     "end_time": "2021-12-13T19:00:12.156873",
     "exception": false,
     "start_time": "2021-12-13T19:00:10.540560",
     "status": "completed"
    },
    "tags": []
   },
   "outputs": [],
   "source": [
    "df = pd.read_sql(\"select * from EBAY_TOP_BERLIN where record_time in (select distinct record_time from EBAY_TOP_BERLIN order by record_time desc limit 2)\", sqlite3.connect(\"UsedObjects.db\"))"
   ]
  },
  {
   "cell_type": "code",
   "execution_count": 5,
   "id": "popular-active",
   "metadata": {
    "execution": {
     "iopub.execute_input": "2021-12-13T19:00:12.231976Z",
     "iopub.status.busy": "2021-12-13T19:00:12.229240Z",
     "iopub.status.idle": "2021-12-13T19:00:12.262284Z",
     "shell.execute_reply": "2021-12-13T19:00:12.264043Z"
    },
    "papermill": {
     "duration": 0.085101,
     "end_time": "2021-12-13T19:00:12.264646",
     "exception": false,
     "start_time": "2021-12-13T19:00:12.179545",
     "status": "completed"
    },
    "tags": []
   },
   "outputs": [],
   "source": [
    "df_pivot = df.pivot_table(index=\"PRODUCT\", columns = \"RECORD_TIME\", values = \"LISTING_COUNT\")"
   ]
  },
  {
   "cell_type": "code",
   "execution_count": 6,
   "id": "union-huntington",
   "metadata": {
    "execution": {
     "iopub.execute_input": "2021-12-13T19:00:12.327300Z",
     "iopub.status.busy": "2021-12-13T19:00:12.325086Z",
     "iopub.status.idle": "2021-12-13T19:00:12.330329Z",
     "shell.execute_reply": "2021-12-13T19:00:12.331681Z"
    },
    "papermill": {
     "duration": 0.045421,
     "end_time": "2021-12-13T19:00:12.332161",
     "exception": false,
     "start_time": "2021-12-13T19:00:12.286740",
     "status": "completed"
    },
    "tags": []
   },
   "outputs": [],
   "source": [
    "df_pivot.columns = [\"stamp_1\", \"stamp_2\"]\n",
    "df_pivot_diff = df_pivot.diff(axis=1)"
   ]
  },
  {
   "cell_type": "code",
   "execution_count": 7,
   "id": "fifth-motion",
   "metadata": {
    "execution": {
     "iopub.execute_input": "2021-12-13T19:00:12.388213Z",
     "iopub.status.busy": "2021-12-13T19:00:12.385687Z",
     "iopub.status.idle": "2021-12-13T19:00:14.436419Z",
     "shell.execute_reply": "2021-12-13T19:00:14.438343Z"
    },
    "papermill": {
     "duration": 2.086799,
     "end_time": "2021-12-13T19:00:14.438971",
     "exception": false,
     "start_time": "2021-12-13T19:00:12.352172",
     "status": "completed"
    },
    "tags": []
   },
   "outputs": [
    {
     "data": {
      "text/plain": [
       "<AxesSubplot:ylabel='PRODUCT'>"
      ]
     },
     "execution_count": 7,
     "metadata": {},
     "output_type": "execute_result"
    },
    {
     "data": {
      "image/png": "[encoded data removed]",
      "text/plain": [
       "<Figure size 432x288 with 1 Axes>"
      ]
     },
     "metadata": {
      "needs_background": "light"
     },
     "output_type": "display_data"
    }
   ],
   "source": [
    "df_pivot_diff.sort_values(\"stamp_2\", ascending = False)[\"stamp_2\"].head(10).plot.barh()"
   ]
  },
  {
   "cell_type": "code",
   "execution_count": null,
   "id": "extra-executive",
   "metadata": {
    "papermill": {
     "duration": 0.028132,
     "end_time": "2021-12-13T19:00:14.502137",
     "exception": false,
     "start_time": "2021-12-13T19:00:14.474005",
     "status": "completed"
    },
    "tags": []
   },
   "outputs": [],
   "source": []
  }
 ],
 "metadata": {
  "kernelspec": {
   "display_name": "Python 3",
   "language": "python",
   "name": "python3"
  },
  "language_info": {
   "codemirror_mode": {
    "name": "ipython",
    "version": 3
   },
   "file_extension": ".py",
   "mimetype": "text/x-python",
   "name": "python",
   "nbconvert_exporter": "python",
   "pygments_lexer": "ipython3",
   "version": "3.9.5"
  },
  "papermill": {
   "default_parameters": {},
   "duration": 9.62457,
   "end_time": "2021-12-13T19:00:15.145828",
   "environment_variables": {},
   "exception": null,
   "input_path": "eBay_Overview.ipynb",
   "output_path": "eBay_Overview.ipynb",
   "parameters": {},
   "start_time": "2021-12-13T19:00:05.521258",
   "version": "2.3.3"
  }
 },
 "nbformat": 4,
 "nbformat_minor": 5
}