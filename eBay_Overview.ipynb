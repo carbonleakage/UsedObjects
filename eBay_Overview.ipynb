{
 "cells": [
  {
   "cell_type": "code",
   "execution_count": 1,
   "id": "reverse-picking",
   "metadata": {
    "execution": {
     "iopub.execute_input": "2021-10-08T02:00:07.113008Z",
     "iopub.status.busy": "2021-10-08T02:00:07.111038Z",
     "iopub.status.idle": "2021-10-08T02:00:07.924069Z",
     "shell.execute_reply": "2021-10-08T02:00:07.925394Z"
    },
    "papermill": {
     "duration": 0.866964,
     "end_time": "2021-10-08T02:00:07.926091",
     "exception": false,
     "start_time": "2021-10-08T02:00:07.059127",
     "status": "completed"
    },
    "tags": []
   },
   "outputs": [],
   "source": [
    "import pandas as pd\n",
    "import sqlite3"
   ]
  },
  {
   "cell_type": "code",
   "execution_count": 2,
   "id": "innovative-syndrome",
   "metadata": {
    "execution": {
     "iopub.execute_input": "2021-10-08T02:00:07.977022Z",
     "iopub.status.busy": "2021-10-08T02:00:07.974593Z",
     "iopub.status.idle": "2021-10-08T02:00:08.458739Z",
     "shell.execute_reply": "2021-10-08T02:00:08.460172Z"
    },
    "papermill": {
     "duration": 0.514189,
     "end_time": "2021-10-08T02:00:08.460602",
     "exception": false,
     "start_time": "2021-10-08T02:00:07.946413",
     "status": "completed"
    },
    "tags": []
   },
   "outputs": [],
   "source": [
    "timestamps = pd.read_sql(\"select distinct record_time from EBAY_TOP_BERLIN order by record_time desc limit 2\", sqlite3.connect(\"UsedObjects.db\"))"
   ]
  },
  {
   "cell_type": "code",
   "execution_count": 3,
   "id": "periodic-identification",
   "metadata": {
    "execution": {
     "iopub.execute_input": "2021-10-08T02:00:08.527938Z",
     "iopub.status.busy": "2021-10-08T02:00:08.525840Z",
     "iopub.status.idle": "2021-10-08T02:00:08.545614Z",
     "shell.execute_reply": "2021-10-08T02:00:08.546974Z"
    },
    "papermill": {
     "duration": 0.066623,
     "end_time": "2021-10-08T02:00:08.547433",
     "exception": false,
     "start_time": "2021-10-08T02:00:08.480810",
     "status": "completed"
    },
    "tags": []
   },
   "outputs": [
    {
     "data": {
      "text/html": [
       "<div>\n",
       "<style scoped>\n",
       "    .dataframe tbody tr th:only-of-type {\n",
       "        vertical-align: middle;\n",
       "    }\n",
       "\n",
       "    .dataframe tbody tr th {\n",
       "        vertical-align: top;\n",
       "    }\n",
       "\n",
       "    .dataframe thead th {\n",
       "        text-align: right;\n",
       "    }\n",
       "</style>\n",
       "<table border=\"1\" class=\"dataframe\">\n",
       "  <thead>\n",
       "    <tr style=\"text-align: right;\">\n",
       "      <th></th>\n",
       "      <th>RECORD_TIME</th>\n",
       "    </tr>\n",
       "  </thead>\n",
       "  <tbody>\n",
       "    <tr>\n",
       "      <th>0</th>\n",
       "      <td>2021-10-08 04:00</td>\n",
       "    </tr>\n",
       "    <tr>\n",
       "      <th>1</th>\n",
       "      <td>2021-10-08 03:30</td>\n",
       "    </tr>\n",
       "  </tbody>\n",
       "</table>\n",
       "</div>"
      ],
      "text/plain": [
       "        RECORD_TIME\n",
       "0  2021-10-08 04:00\n",
       "1  2021-10-08 03:30"
      ]
     },
     "execution_count": 3,
     "metadata": {},
     "output_type": "execute_result"
    }
   ],
   "source": [
    "timestamps"
   ]
  },
  {
   "cell_type": "code",
   "execution_count": 4,
   "id": "alternate-victory",
   "metadata": {
    "execution": {
     "iopub.execute_input": "2021-10-08T02:00:08.608681Z",
     "iopub.status.busy": "2021-10-08T02:00:08.606664Z",
     "iopub.status.idle": "2021-10-08T02:00:09.308947Z",
     "shell.execute_reply": "2021-10-08T02:00:09.310168Z"
    },
    "papermill": {
     "duration": 0.736865,
     "end_time": "2021-10-08T02:00:09.310569",
     "exception": false,
     "start_time": "2021-10-08T02:00:08.573704",
     "status": "completed"
    },
    "tags": []
   },
   "outputs": [],
   "source": [
    "df = pd.read_sql(\"select * from EBAY_TOP_BERLIN where record_time in (select distinct record_time from EBAY_TOP_BERLIN order by record_time desc limit 2)\", sqlite3.connect(\"UsedObjects.db\"))"
   ]
  },
  {
   "cell_type": "code",
   "execution_count": 5,
   "id": "popular-active",
   "metadata": {
    "execution": {
     "iopub.execute_input": "2021-10-08T02:00:09.381557Z",
     "iopub.status.busy": "2021-10-08T02:00:09.369387Z",
     "iopub.status.idle": "2021-10-08T02:00:09.397983Z",
     "shell.execute_reply": "2021-10-08T02:00:09.399351Z"
    },
    "papermill": {
     "duration": 0.068734,
     "end_time": "2021-10-08T02:00:09.399788",
     "exception": false,
     "start_time": "2021-10-08T02:00:09.331054",
     "status": "completed"
    },
    "tags": []
   },
   "outputs": [],
   "source": [
    "df_pivot = df.pivot_table(index=\"PRODUCT\", columns = \"RECORD_TIME\", values = \"LISTING_COUNT\")"
   ]
  },
  {
   "cell_type": "code",
   "execution_count": 6,
   "id": "union-huntington",
   "metadata": {
    "execution": {
     "iopub.execute_input": "2021-10-08T02:00:09.456409Z",
     "iopub.status.busy": "2021-10-08T02:00:09.454292Z",
     "iopub.status.idle": "2021-10-08T02:00:09.459060Z",
     "shell.execute_reply": "2021-10-08T02:00:09.460358Z"
    },
    "papermill": {
     "duration": 0.040891,
     "end_time": "2021-10-08T02:00:09.460773",
     "exception": false,
     "start_time": "2021-10-08T02:00:09.419882",
     "status": "completed"
    },
    "tags": []
   },
   "outputs": [],
   "source": [
    "df_pivot.columns = [\"stamp_1\", \"stamp_2\"]\n",
    "df_pivot_diff = df_pivot.diff(axis=1)"
   ]
  },
  {
   "cell_type": "code",
   "execution_count": 7,
   "id": "fifth-motion",
   "metadata": {
    "execution": {
     "iopub.execute_input": "2021-10-08T02:00:09.514247Z",
     "iopub.status.busy": "2021-10-08T02:00:09.511849Z",
     "iopub.status.idle": "2021-10-08T02:00:10.987898Z",
     "shell.execute_reply": "2021-10-08T02:00:10.989195Z"
    },
    "papermill": {
     "duration": 1.508779,
     "end_time": "2021-10-08T02:00:10.989614",
     "exception": false,
     "start_time": "2021-10-08T02:00:09.480835",
     "status": "completed"
    },
    "tags": []
   },
   "outputs": [
    {
     "data": {
      "text/plain": [
       "<AxesSubplot:ylabel='PRODUCT'>"
      ]
     },
     "execution_count": 7,
     "metadata": {},
     "output_type": "execute_result"
    },
    {
     "data": {
      "image/png": "[encoded data removed]",
      "text/plain": [
       "<Figure size 432x288 with 1 Axes>"
      ]
     },
     "metadata": {
      "needs_background": "light"
     },
     "output_type": "display_data"
    }
   ],
   "source": [
    "df_pivot_diff.sort_values(\"stamp_2\", ascending = False)[\"stamp_2\"].head(10).plot.barh()"
   ]
  },
  {
   "cell_type": "code",
   "execution_count": null,
   "id": "extra-executive",
   "metadata": {
    "papermill": {
     "duration": 0.022038,
     "end_time": "2021-10-08T02:00:11.036037",
     "exception": false,
     "start_time": "2021-10-08T02:00:11.013999",
     "status": "completed"
    },
    "tags": []
   },
   "outputs": [],
   "source": []
  }
 ],
 "metadata": {
  "kernelspec": {
   "display_name": "Python 3",
   "language": "python",
   "name": "python3"
  },
  "language_info": {
   "codemirror_mode": {
    "name": "ipython",
    "version": 3
   },
   "file_extension": ".py",
   "mimetype": "text/x-python",
   "name": "python",
   "nbconvert_exporter": "python",
   "pygments_lexer": "ipython3",
   "version": "3.9.5"
  },
  "papermill": {
   "default_parameters": {},
   "duration": 7.842173,
   "end_time": "2021-10-08T02:00:12.483913",
   "environment_variables": {},
   "exception": null,
   "input_path": "eBay_Overview.ipynb",
   "output_path": "eBay_Overview.ipynb",
   "parameters": {},
   "start_time": "2021-10-08T02:00:04.641740",
   "version": "2.3.3"
  }
 },
 "nbformat": 4,
 "nbformat_minor": 5
}