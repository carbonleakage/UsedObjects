{
 "cells": [
  {
   "cell_type": "code",
   "execution_count": 1,
   "id": "reverse-picking",
   "metadata": {
    "execution": {
     "iopub.execute_input": "2021-09-16T16:00:06.636657Z",
     "iopub.status.busy": "2021-09-16T16:00:06.634672Z",
     "iopub.status.idle": "2021-09-16T16:00:07.435976Z",
     "shell.execute_reply": "2021-09-16T16:00:07.437215Z"
    },
    "papermill": {
     "duration": 0.854109,
     "end_time": "2021-09-16T16:00:07.437832",
     "exception": false,
     "start_time": "2021-09-16T16:00:06.583723",
     "status": "completed"
    },
    "tags": []
   },
   "outputs": [],
   "source": [
    "import pandas as pd\n",
    "import sqlite3"
   ]
  },
  {
   "cell_type": "code",
   "execution_count": 2,
   "id": "innovative-syndrome",
   "metadata": {
    "execution": {
     "iopub.execute_input": "2021-09-16T16:00:07.489482Z",
     "iopub.status.busy": "2021-09-16T16:00:07.487638Z",
     "iopub.status.idle": "2021-09-16T16:00:07.789713Z",
     "shell.execute_reply": "2021-09-16T16:00:07.790957Z"
    },
    "papermill": {
     "duration": 0.331787,
     "end_time": "2021-09-16T16:00:07.791396",
     "exception": false,
     "start_time": "2021-09-16T16:00:07.459609",
     "status": "completed"
    },
    "tags": []
   },
   "outputs": [],
   "source": [
    "timestamps = pd.read_sql(\"select distinct record_time from EBAY_TOP_BERLIN order by record_time desc limit 2\", sqlite3.connect(\"UsedObjects.db\"))"
   ]
  },
  {
   "cell_type": "code",
   "execution_count": 3,
   "id": "periodic-identification",
   "metadata": {
    "execution": {
     "iopub.execute_input": "2021-09-16T16:00:07.861397Z",
     "iopub.status.busy": "2021-09-16T16:00:07.856531Z",
     "iopub.status.idle": "2021-09-16T16:00:07.878408Z",
     "shell.execute_reply": "2021-09-16T16:00:07.879764Z"
    },
    "papermill": {
     "duration": 0.067928,
     "end_time": "2021-09-16T16:00:07.880188",
     "exception": false,
     "start_time": "2021-09-16T16:00:07.812260",
     "status": "completed"
    },
    "tags": []
   },
   "outputs": [
    {
     "data": {
      "text/html": [
       "<div>\n",
       "<style scoped>\n",
       "    .dataframe tbody tr th:only-of-type {\n",
       "        vertical-align: middle;\n",
       "    }\n",
       "\n",
       "    .dataframe tbody tr th {\n",
       "        vertical-align: top;\n",
       "    }\n",
       "\n",
       "    .dataframe thead th {\n",
       "        text-align: right;\n",
       "    }\n",
       "</style>\n",
       "<table border=\"1\" class=\"dataframe\">\n",
       "  <thead>\n",
       "    <tr style=\"text-align: right;\">\n",
       "      <th></th>\n",
       "      <th>RECORD_TIME</th>\n",
       "    </tr>\n",
       "  </thead>\n",
       "  <tbody>\n",
       "    <tr>\n",
       "      <th>0</th>\n",
       "      <td>2021-09-16 18:00</td>\n",
       "    </tr>\n",
       "    <tr>\n",
       "      <th>1</th>\n",
       "      <td>2021-09-16 17:30</td>\n",
       "    </tr>\n",
       "  </tbody>\n",
       "</table>\n",
       "</div>"
      ],
      "text/plain": [
       "        RECORD_TIME\n",
       "0  2021-09-16 18:00\n",
       "1  2021-09-16 17:30"
      ]
     },
     "execution_count": 3,
     "metadata": {},
     "output_type": "execute_result"
    }
   ],
   "source": [
    "timestamps"
   ]
  },
  {
   "cell_type": "code",
   "execution_count": 4,
   "id": "alternate-victory",
   "metadata": {
    "execution": {
     "iopub.execute_input": "2021-09-16T16:00:07.930764Z",
     "iopub.status.busy": "2021-09-16T16:00:07.928953Z",
     "iopub.status.idle": "2021-09-16T16:00:08.372129Z",
     "shell.execute_reply": "2021-09-16T16:00:08.373339Z"
    },
    "papermill": {
     "duration": 0.47313,
     "end_time": "2021-09-16T16:00:08.373739",
     "exception": false,
     "start_time": "2021-09-16T16:00:07.900609",
     "status": "completed"
    },
    "tags": []
   },
   "outputs": [],
   "source": [
    "df = pd.read_sql(\"select * from EBAY_TOP_BERLIN where record_time in (select distinct record_time from EBAY_TOP_BERLIN order by record_time desc limit 2)\", sqlite3.connect(\"UsedObjects.db\"))"
   ]
  },
  {
   "cell_type": "code",
   "execution_count": 5,
   "id": "popular-active",
   "metadata": {
    "execution": {
     "iopub.execute_input": "2021-09-16T16:00:08.456523Z",
     "iopub.status.busy": "2021-09-16T16:00:08.444373Z",
     "iopub.status.idle": "2021-09-16T16:00:08.471326Z",
     "shell.execute_reply": "2021-09-16T16:00:08.472549Z"
    },
    "papermill": {
     "duration": 0.070877,
     "end_time": "2021-09-16T16:00:08.472950",
     "exception": false,
     "start_time": "2021-09-16T16:00:08.402073",
     "status": "completed"
    },
    "tags": []
   },
   "outputs": [],
   "source": [
    "df_pivot = df.pivot_table(index=\"PRODUCT\", columns = \"RECORD_TIME\", values = \"LISTING_COUNT\")"
   ]
  },
  {
   "cell_type": "code",
   "execution_count": 6,
   "id": "union-huntington",
   "metadata": {
    "execution": {
     "iopub.execute_input": "2021-09-16T16:00:08.530007Z",
     "iopub.status.busy": "2021-09-16T16:00:08.527963Z",
     "iopub.status.idle": "2021-09-16T16:00:08.533111Z",
     "shell.execute_reply": "2021-09-16T16:00:08.534374Z"
    },
    "papermill": {
     "duration": 0.040395,
     "end_time": "2021-09-16T16:00:08.534888",
     "exception": false,
     "start_time": "2021-09-16T16:00:08.494493",
     "status": "completed"
    },
    "tags": []
   },
   "outputs": [],
   "source": [
    "df_pivot.columns = [\"stamp_1\", \"stamp_2\"]\n",
    "df_pivot_diff = df_pivot.diff(axis=1)"
   ]
  },
  {
   "cell_type": "code",
   "execution_count": 7,
   "id": "fifth-motion",
   "metadata": {
    "execution": {
     "iopub.execute_input": "2021-09-16T16:00:08.590008Z",
     "iopub.status.busy": "2021-09-16T16:00:08.587348Z",
     "iopub.status.idle": "2021-09-16T16:00:10.069472Z",
     "shell.execute_reply": "2021-09-16T16:00:10.070760Z"
    },
    "papermill": {
     "duration": 1.516017,
     "end_time": "2021-09-16T16:00:10.071272",
     "exception": false,
     "start_time": "2021-09-16T16:00:08.555255",
     "status": "completed"
    },
    "tags": []
   },
   "outputs": [
    {
     "data": {
      "text/plain": [
       "<AxesSubplot:ylabel='PRODUCT'>"
      ]
     },
     "execution_count": 7,
     "metadata": {},
     "output_type": "execute_result"
    },
    {
     "data": {
      "image/png": "[encoded data removed]",
      "text/plain": [
       "<Figure size 432x288 with 1 Axes>"
      ]
     },
     "metadata": {
      "needs_background": "light"
     },
     "output_type": "display_data"
    }
   ],
   "source": [
    "df_pivot_diff.sort_values(\"stamp_2\", ascending = False)[\"stamp_2\"].head(10).plot.barh()"
   ]
  },
  {
   "cell_type": "code",
   "execution_count": null,
   "id": "extra-executive",
   "metadata": {
    "papermill": {
     "duration": 0.022298,
     "end_time": "2021-09-16T16:00:10.117798",
     "exception": false,
     "start_time": "2021-09-16T16:00:10.095500",
     "status": "completed"
    },
    "tags": []
   },
   "outputs": [],
   "source": []
  }
 ],
 "metadata": {
  "kernelspec": {
   "display_name": "Python 3",
   "language": "python",
   "name": "python3"
  },
  "language_info": {
   "codemirror_mode": {
    "name": "ipython",
    "version": 3
   },
   "file_extension": ".py",
   "mimetype": "text/x-python",
   "name": "python",
   "nbconvert_exporter": "python",
   "pygments_lexer": "ipython3",
   "version": "3.9.5"
  },
  "papermill": {
   "default_parameters": {},
   "duration": 6.569951,
   "end_time": "2021-09-16T16:00:10.761311",
   "environment_variables": {},
   "exception": null,
   "input_path": "eBay_Overview.ipynb",
   "output_path": "eBay_Overview.ipynb",
   "parameters": {},
   "start_time": "2021-09-16T16:00:04.191360",
   "version": "2.3.3"
  }
 },
 "nbformat": 4,
 "nbformat_minor": 5
}