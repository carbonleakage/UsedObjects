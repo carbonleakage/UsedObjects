{
 "cells": [
  {
   "cell_type": "code",
   "execution_count": 1,
   "id": "reverse-picking",
   "metadata": {
    "execution": {
     "iopub.execute_input": "2021-08-24T02:30:06.756330Z",
     "iopub.status.busy": "2021-08-24T02:30:06.754404Z",
     "iopub.status.idle": "2021-08-24T02:30:07.560478Z",
     "shell.execute_reply": "2021-08-24T02:30:07.561753Z"
    },
    "papermill": {
     "duration": 0.857566,
     "end_time": "2021-08-24T02:30:07.562438",
     "exception": false,
     "start_time": "2021-08-24T02:30:06.704872",
     "status": "completed"
    },
    "tags": []
   },
   "outputs": [],
   "source": [
    "import pandas as pd\n",
    "import sqlite3"
   ]
  },
  {
   "cell_type": "code",
   "execution_count": 2,
   "id": "innovative-syndrome",
   "metadata": {
    "execution": {
     "iopub.execute_input": "2021-08-24T02:30:07.614640Z",
     "iopub.status.busy": "2021-08-24T02:30:07.612528Z",
     "iopub.status.idle": "2021-08-24T02:30:07.732266Z",
     "shell.execute_reply": "2021-08-24T02:30:07.733480Z"
    },
    "papermill": {
     "duration": 0.149144,
     "end_time": "2021-08-24T02:30:07.733877",
     "exception": false,
     "start_time": "2021-08-24T02:30:07.584733",
     "status": "completed"
    },
    "tags": []
   },
   "outputs": [],
   "source": [
    "timestamps = pd.read_sql(\"select distinct record_time from EBAY_TOP_BERLIN order by record_time desc limit 2\", sqlite3.connect(\"UsedObjects.db\"))"
   ]
  },
  {
   "cell_type": "code",
   "execution_count": 3,
   "id": "periodic-identification",
   "metadata": {
    "execution": {
     "iopub.execute_input": "2021-08-24T02:30:07.799488Z",
     "iopub.status.busy": "2021-08-24T02:30:07.797368Z",
     "iopub.status.idle": "2021-08-24T02:30:07.817072Z",
     "shell.execute_reply": "2021-08-24T02:30:07.818395Z"
    },
    "papermill": {
     "duration": 0.065652,
     "end_time": "2021-08-24T02:30:07.818816",
     "exception": false,
     "start_time": "2021-08-24T02:30:07.753164",
     "status": "completed"
    },
    "tags": []
   },
   "outputs": [
    {
     "data": {
      "text/html": [
       "<div>\n",
       "<style scoped>\n",
       "    .dataframe tbody tr th:only-of-type {\n",
       "        vertical-align: middle;\n",
       "    }\n",
       "\n",
       "    .dataframe tbody tr th {\n",
       "        vertical-align: top;\n",
       "    }\n",
       "\n",
       "    .dataframe thead th {\n",
       "        text-align: right;\n",
       "    }\n",
       "</style>\n",
       "<table border=\"1\" class=\"dataframe\">\n",
       "  <thead>\n",
       "    <tr style=\"text-align: right;\">\n",
       "      <th></th>\n",
       "      <th>RECORD_TIME</th>\n",
       "    </tr>\n",
       "  </thead>\n",
       "  <tbody>\n",
       "    <tr>\n",
       "      <th>0</th>\n",
       "      <td>2021-08-24 04:30</td>\n",
       "    </tr>\n",
       "    <tr>\n",
       "      <th>1</th>\n",
       "      <td>2021-08-24 04:00</td>\n",
       "    </tr>\n",
       "  </tbody>\n",
       "</table>\n",
       "</div>"
      ],
      "text/plain": [
       "        RECORD_TIME\n",
       "0  2021-08-24 04:30\n",
       "1  2021-08-24 04:00"
      ]
     },
     "execution_count": 3,
     "metadata": {},
     "output_type": "execute_result"
    }
   ],
   "source": [
    "timestamps"
   ]
  },
  {
   "cell_type": "code",
   "execution_count": 4,
   "id": "alternate-victory",
   "metadata": {
    "execution": {
     "iopub.execute_input": "2021-08-24T02:30:07.872600Z",
     "iopub.status.busy": "2021-08-24T02:30:07.870431Z",
     "iopub.status.idle": "2021-08-24T02:30:08.044100Z",
     "shell.execute_reply": "2021-08-24T02:30:08.045323Z"
    },
    "papermill": {
     "duration": 0.203889,
     "end_time": "2021-08-24T02:30:08.045722",
     "exception": false,
     "start_time": "2021-08-24T02:30:07.841833",
     "status": "completed"
    },
    "tags": []
   },
   "outputs": [],
   "source": [
    "df = pd.read_sql(\"select * from EBAY_TOP_BERLIN where record_time in (select distinct record_time from EBAY_TOP_BERLIN order by record_time desc limit 2)\", sqlite3.connect(\"UsedObjects.db\"))"
   ]
  },
  {
   "cell_type": "code",
   "execution_count": 5,
   "id": "popular-active",
   "metadata": {
    "execution": {
     "iopub.execute_input": "2021-08-24T02:30:08.119925Z",
     "iopub.status.busy": "2021-08-24T02:30:08.107321Z",
     "iopub.status.idle": "2021-08-24T02:30:08.136970Z",
     "shell.execute_reply": "2021-08-24T02:30:08.138682Z"
    },
    "papermill": {
     "duration": 0.070849,
     "end_time": "2021-08-24T02:30:08.139167",
     "exception": false,
     "start_time": "2021-08-24T02:30:08.068318",
     "status": "completed"
    },
    "tags": []
   },
   "outputs": [],
   "source": [
    "df_pivot = df.pivot_table(index=\"PRODUCT\", columns = \"RECORD_TIME\", values = \"LISTING_COUNT\")"
   ]
  },
  {
   "cell_type": "code",
   "execution_count": 6,
   "id": "union-huntington",
   "metadata": {
    "execution": {
     "iopub.execute_input": "2021-08-24T02:30:08.205482Z",
     "iopub.status.busy": "2021-08-24T02:30:08.203109Z",
     "iopub.status.idle": "2021-08-24T02:30:08.208791Z",
     "shell.execute_reply": "2021-08-24T02:30:08.210162Z"
    },
    "papermill": {
     "duration": 0.044295,
     "end_time": "2021-08-24T02:30:08.210593",
     "exception": false,
     "start_time": "2021-08-24T02:30:08.166298",
     "status": "completed"
    },
    "tags": []
   },
   "outputs": [],
   "source": [
    "df_pivot.columns = [\"stamp_1\", \"stamp_2\"]\n",
    "df_pivot_diff = df_pivot.diff(axis=1)"
   ]
  },
  {
   "cell_type": "code",
   "execution_count": 7,
   "id": "fifth-motion",
   "metadata": {
    "execution": {
     "iopub.execute_input": "2021-08-24T02:30:08.264600Z",
     "iopub.status.busy": "2021-08-24T02:30:08.262219Z",
     "iopub.status.idle": "2021-08-24T02:30:09.778431Z",
     "shell.execute_reply": "2021-08-24T02:30:09.779878Z"
    },
    "papermill": {
     "duration": 1.54981,
     "end_time": "2021-08-24T02:30:09.780310",
     "exception": false,
     "start_time": "2021-08-24T02:30:08.230500",
     "status": "completed"
    },
    "tags": []
   },
   "outputs": [
    {
     "data": {
      "text/plain": [
       "<AxesSubplot:ylabel='PRODUCT'>"
      ]
     },
     "execution_count": 7,
     "metadata": {},
     "output_type": "execute_result"
    },
    {
     "data": {
      "image/png": "[encoded data removed]",
      "text/plain": [
       "<Figure size 432x288 with 1 Axes>"
      ]
     },
     "metadata": {
      "needs_background": "light"
     },
     "output_type": "display_data"
    }
   ],
   "source": [
    "df_pivot_diff.sort_values(\"stamp_2\", ascending = False)[\"stamp_2\"].head(10).plot.barh()"
   ]
  },
  {
   "cell_type": "code",
   "execution_count": null,
   "id": "extra-executive",
   "metadata": {
    "papermill": {
     "duration": 0.022078,
     "end_time": "2021-08-24T02:30:09.826231",
     "exception": false,
     "start_time": "2021-08-24T02:30:09.804153",
     "status": "completed"
    },
    "tags": []
   },
   "outputs": [],
   "source": []
  }
 ],
 "metadata": {
  "kernelspec": {
   "display_name": "Python 3",
   "language": "python",
   "name": "python3"
  },
  "language_info": {
   "codemirror_mode": {
    "name": "ipython",
    "version": 3
   },
   "file_extension": ".py",
   "mimetype": "text/x-python",
   "name": "python",
   "nbconvert_exporter": "python",
   "pygments_lexer": "ipython3",
   "version": "3.9.5"
  },
  "papermill": {
   "default_parameters": {},
   "duration": 6.825328,
   "end_time": "2021-08-24T02:30:11.117492",
   "environment_variables": {},
   "exception": null,
   "input_path": "eBay_Overview.ipynb",
   "output_path": "eBay_Overview.ipynb",
   "parameters": {},
   "start_time": "2021-08-24T02:30:04.292164",
   "version": "2.3.3"
  }
 },
 "nbformat": 4,
 "nbformat_minor": 5
}