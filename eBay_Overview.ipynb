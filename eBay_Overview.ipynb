{
 "cells": [
  {
   "cell_type": "code",
   "execution_count": 1,
   "id": "reverse-picking",
   "metadata": {
    "execution": {
     "iopub.execute_input": "2021-10-20T16:00:07.486593Z",
     "iopub.status.busy": "2021-10-20T16:00:07.484544Z",
     "iopub.status.idle": "2021-10-20T16:00:08.295220Z",
     "shell.execute_reply": "2021-10-20T16:00:08.296587Z"
    },
    "papermill": {
     "duration": 0.861044,
     "end_time": "2021-10-20T16:00:08.297281",
     "exception": false,
     "start_time": "2021-10-20T16:00:07.436237",
     "status": "completed"
    },
    "tags": []
   },
   "outputs": [],
   "source": [
    "import pandas as pd\n",
    "import sqlite3"
   ]
  },
  {
   "cell_type": "code",
   "execution_count": 2,
   "id": "innovative-syndrome",
   "metadata": {
    "execution": {
     "iopub.execute_input": "2021-10-20T16:00:08.348106Z",
     "iopub.status.busy": "2021-10-20T16:00:08.346132Z",
     "iopub.status.idle": "2021-10-20T16:00:08.936058Z",
     "shell.execute_reply": "2021-10-20T16:00:08.937338Z"
    },
    "papermill": {
     "duration": 0.620154,
     "end_time": "2021-10-20T16:00:08.937745",
     "exception": false,
     "start_time": "2021-10-20T16:00:08.317591",
     "status": "completed"
    },
    "tags": []
   },
   "outputs": [],
   "source": [
    "timestamps = pd.read_sql(\"select distinct record_time from EBAY_TOP_BERLIN order by record_time desc limit 2\", sqlite3.connect(\"UsedObjects.db\"))"
   ]
  },
  {
   "cell_type": "code",
   "execution_count": 3,
   "id": "periodic-identification",
   "metadata": {
    "execution": {
     "iopub.execute_input": "2021-10-20T16:00:09.012986Z",
     "iopub.status.busy": "2021-10-20T16:00:09.007778Z",
     "iopub.status.idle": "2021-10-20T16:00:09.029220Z",
     "shell.execute_reply": "2021-10-20T16:00:09.030899Z"
    },
    "papermill": {
     "duration": 0.067744,
     "end_time": "2021-10-20T16:00:09.031399",
     "exception": false,
     "start_time": "2021-10-20T16:00:08.963655",
     "status": "completed"
    },
    "tags": []
   },
   "outputs": [
    {
     "data": {
      "text/html": [
       "<div>\n",
       "<style scoped>\n",
       "    .dataframe tbody tr th:only-of-type {\n",
       "        vertical-align: middle;\n",
       "    }\n",
       "\n",
       "    .dataframe tbody tr th {\n",
       "        vertical-align: top;\n",
       "    }\n",
       "\n",
       "    .dataframe thead th {\n",
       "        text-align: right;\n",
       "    }\n",
       "</style>\n",
       "<table border=\"1\" class=\"dataframe\">\n",
       "  <thead>\n",
       "    <tr style=\"text-align: right;\">\n",
       "      <th></th>\n",
       "      <th>RECORD_TIME</th>\n",
       "    </tr>\n",
       "  </thead>\n",
       "  <tbody>\n",
       "    <tr>\n",
       "      <th>0</th>\n",
       "      <td>2021-10-20 18:00</td>\n",
       "    </tr>\n",
       "    <tr>\n",
       "      <th>1</th>\n",
       "      <td>2021-10-20 17:30</td>\n",
       "    </tr>\n",
       "  </tbody>\n",
       "</table>\n",
       "</div>"
      ],
      "text/plain": [
       "        RECORD_TIME\n",
       "0  2021-10-20 18:00\n",
       "1  2021-10-20 17:30"
      ]
     },
     "execution_count": 3,
     "metadata": {},
     "output_type": "execute_result"
    }
   ],
   "source": [
    "timestamps"
   ]
  },
  {
   "cell_type": "code",
   "execution_count": 4,
   "id": "alternate-victory",
   "metadata": {
    "execution": {
     "iopub.execute_input": "2021-10-20T16:00:09.084119Z",
     "iopub.status.busy": "2021-10-20T16:00:09.082208Z",
     "iopub.status.idle": "2021-10-20T16:00:09.936419Z",
     "shell.execute_reply": "2021-10-20T16:00:09.937704Z"
    },
    "papermill": {
     "duration": 0.884663,
     "end_time": "2021-10-20T16:00:09.938104",
     "exception": false,
     "start_time": "2021-10-20T16:00:09.053441",
     "status": "completed"
    },
    "tags": []
   },
   "outputs": [],
   "source": [
    "df = pd.read_sql(\"select * from EBAY_TOP_BERLIN where record_time in (select distinct record_time from EBAY_TOP_BERLIN order by record_time desc limit 2)\", sqlite3.connect(\"UsedObjects.db\"))"
   ]
  },
  {
   "cell_type": "code",
   "execution_count": 5,
   "id": "popular-active",
   "metadata": {
    "execution": {
     "iopub.execute_input": "2021-10-20T16:00:10.010675Z",
     "iopub.status.busy": "2021-10-20T16:00:09.998890Z",
     "iopub.status.idle": "2021-10-20T16:00:10.026342Z",
     "shell.execute_reply": "2021-10-20T16:00:10.027469Z"
    },
    "papermill": {
     "duration": 0.069023,
     "end_time": "2021-10-20T16:00:10.027874",
     "exception": false,
     "start_time": "2021-10-20T16:00:09.958851",
     "status": "completed"
    },
    "tags": []
   },
   "outputs": [],
   "source": [
    "df_pivot = df.pivot_table(index=\"PRODUCT\", columns = \"RECORD_TIME\", values = \"LISTING_COUNT\")"
   ]
  },
  {
   "cell_type": "code",
   "execution_count": 6,
   "id": "union-huntington",
   "metadata": {
    "execution": {
     "iopub.execute_input": "2021-10-20T16:00:10.084767Z",
     "iopub.status.busy": "2021-10-20T16:00:10.082670Z",
     "iopub.status.idle": "2021-10-20T16:00:10.088056Z",
     "shell.execute_reply": "2021-10-20T16:00:10.089311Z"
    },
    "papermill": {
     "duration": 0.040193,
     "end_time": "2021-10-20T16:00:10.089745",
     "exception": false,
     "start_time": "2021-10-20T16:00:10.049552",
     "status": "completed"
    },
    "tags": []
   },
   "outputs": [],
   "source": [
    "df_pivot.columns = [\"stamp_1\", \"stamp_2\"]\n",
    "df_pivot_diff = df_pivot.diff(axis=1)"
   ]
  },
  {
   "cell_type": "code",
   "execution_count": 7,
   "id": "fifth-motion",
   "metadata": {
    "execution": {
     "iopub.execute_input": "2021-10-20T16:00:10.143889Z",
     "iopub.status.busy": "2021-10-20T16:00:10.141466Z",
     "iopub.status.idle": "2021-10-20T16:00:11.637971Z",
     "shell.execute_reply": "2021-10-20T16:00:11.639287Z"
    },
    "papermill": {
     "duration": 1.529439,
     "end_time": "2021-10-20T16:00:11.639716",
     "exception": false,
     "start_time": "2021-10-20T16:00:10.110277",
     "status": "completed"
    },
    "tags": []
   },
   "outputs": [
    {
     "data": {
      "text/plain": [
       "<AxesSubplot:ylabel='PRODUCT'>"
      ]
     },
     "execution_count": 7,
     "metadata": {},
     "output_type": "execute_result"
    },
    {
     "data": {
      "image/png": "[encoded data removed]",
      "text/plain": [
       "<Figure size 432x288 with 1 Axes>"
      ]
     },
     "metadata": {
      "needs_background": "light"
     },
     "output_type": "display_data"
    }
   ],
   "source": [
    "df_pivot_diff.sort_values(\"stamp_2\", ascending = False)[\"stamp_2\"].head(10).plot.barh()"
   ]
  },
  {
   "cell_type": "code",
   "execution_count": null,
   "id": "extra-executive",
   "metadata": {
    "papermill": {
     "duration": 0.022206,
     "end_time": "2021-10-20T16:00:11.687425",
     "exception": false,
     "start_time": "2021-10-20T16:00:11.665219",
     "status": "completed"
    },
    "tags": []
   },
   "outputs": [],
   "source": []
  }
 ],
 "metadata": {
  "kernelspec": {
   "display_name": "Python 3",
   "language": "python",
   "name": "python3"
  },
  "language_info": {
   "codemirror_mode": {
    "name": "ipython",
    "version": 3
   },
   "file_extension": ".py",
   "mimetype": "text/x-python",
   "name": "python",
   "nbconvert_exporter": "python",
   "pygments_lexer": "ipython3",
   "version": "3.9.5"
  },
  "papermill": {
   "default_parameters": {},
   "duration": 7.820841,
   "end_time": "2021-10-20T16:00:12.838471",
   "environment_variables": {},
   "exception": null,
   "input_path": "eBay_Overview.ipynb",
   "output_path": "eBay_Overview.ipynb",
   "parameters": {},
   "start_time": "2021-10-20T16:00:05.017630",
   "version": "2.3.3"
  }
 },
 "nbformat": 4,
 "nbformat_minor": 5
}