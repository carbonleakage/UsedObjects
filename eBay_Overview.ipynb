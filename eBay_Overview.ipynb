{
 "cells": [
  {
   "cell_type": "code",
   "execution_count": 1,
   "id": "reverse-picking",
   "metadata": {
    "execution": {
     "iopub.execute_input": "2021-08-21T14:30:07.235740Z",
     "iopub.status.busy": "2021-08-21T14:30:07.233702Z",
     "iopub.status.idle": "2021-08-21T14:30:08.043002Z",
     "shell.execute_reply": "2021-08-21T14:30:08.044259Z"
    },
    "papermill": {
     "duration": 0.861332,
     "end_time": "2021-08-21T14:30:08.044878",
     "exception": false,
     "start_time": "2021-08-21T14:30:07.183546",
     "status": "completed"
    },
    "tags": []
   },
   "outputs": [],
   "source": [
    "import pandas as pd\n",
    "import sqlite3"
   ]
  },
  {
   "cell_type": "code",
   "execution_count": 2,
   "id": "innovative-syndrome",
   "metadata": {
    "execution": {
     "iopub.execute_input": "2021-08-21T14:30:08.098368Z",
     "iopub.status.busy": "2021-08-21T14:30:08.095990Z",
     "iopub.status.idle": "2021-08-21T14:30:08.195236Z",
     "shell.execute_reply": "2021-08-21T14:30:08.196441Z"
    },
    "papermill": {
     "duration": 0.129044,
     "end_time": "2021-08-21T14:30:08.196842",
     "exception": false,
     "start_time": "2021-08-21T14:30:08.067798",
     "status": "completed"
    },
    "tags": []
   },
   "outputs": [],
   "source": [
    "timestamps = pd.read_sql(\"select distinct record_time from EBAY_TOP_BERLIN order by record_time desc limit 2\", sqlite3.connect(\"UsedObjects.db\"))"
   ]
  },
  {
   "cell_type": "code",
   "execution_count": 3,
   "id": "periodic-identification",
   "metadata": {
    "execution": {
     "iopub.execute_input": "2021-08-21T14:30:08.261147Z",
     "iopub.status.busy": "2021-08-21T14:30:08.259140Z",
     "iopub.status.idle": "2021-08-21T14:30:08.279032Z",
     "shell.execute_reply": "2021-08-21T14:30:08.280341Z"
    },
    "papermill": {
     "duration": 0.063074,
     "end_time": "2021-08-21T14:30:08.280764",
     "exception": false,
     "start_time": "2021-08-21T14:30:08.217690",
     "status": "completed"
    },
    "tags": []
   },
   "outputs": [
    {
     "data": {
      "text/html": [
       "<div>\n",
       "<style scoped>\n",
       "    .dataframe tbody tr th:only-of-type {\n",
       "        vertical-align: middle;\n",
       "    }\n",
       "\n",
       "    .dataframe tbody tr th {\n",
       "        vertical-align: top;\n",
       "    }\n",
       "\n",
       "    .dataframe thead th {\n",
       "        text-align: right;\n",
       "    }\n",
       "</style>\n",
       "<table border=\"1\" class=\"dataframe\">\n",
       "  <thead>\n",
       "    <tr style=\"text-align: right;\">\n",
       "      <th></th>\n",
       "      <th>RECORD_TIME</th>\n",
       "    </tr>\n",
       "  </thead>\n",
       "  <tbody>\n",
       "    <tr>\n",
       "      <th>0</th>\n",
       "      <td>2021-08-21 16:30</td>\n",
       "    </tr>\n",
       "    <tr>\n",
       "      <th>1</th>\n",
       "      <td>2021-08-21 16:00</td>\n",
       "    </tr>\n",
       "  </tbody>\n",
       "</table>\n",
       "</div>"
      ],
      "text/plain": [
       "        RECORD_TIME\n",
       "0  2021-08-21 16:30\n",
       "1  2021-08-21 16:00"
      ]
     },
     "execution_count": 3,
     "metadata": {},
     "output_type": "execute_result"
    }
   ],
   "source": [
    "timestamps"
   ]
  },
  {
   "cell_type": "code",
   "execution_count": 4,
   "id": "alternate-victory",
   "metadata": {
    "execution": {
     "iopub.execute_input": "2021-08-21T14:30:08.332443Z",
     "iopub.status.busy": "2021-08-21T14:30:08.330294Z",
     "iopub.status.idle": "2021-08-21T14:30:08.477981Z",
     "shell.execute_reply": "2021-08-21T14:30:08.479362Z"
    },
    "papermill": {
     "duration": 0.177818,
     "end_time": "2021-08-21T14:30:08.479788",
     "exception": false,
     "start_time": "2021-08-21T14:30:08.301970",
     "status": "completed"
    },
    "tags": []
   },
   "outputs": [],
   "source": [
    "df = pd.read_sql(\"select * from EBAY_TOP_BERLIN where record_time in (select distinct record_time from EBAY_TOP_BERLIN order by record_time desc limit 2)\", sqlite3.connect(\"UsedObjects.db\"))"
   ]
  },
  {
   "cell_type": "code",
   "execution_count": 5,
   "id": "popular-active",
   "metadata": {
    "execution": {
     "iopub.execute_input": "2021-08-21T14:30:08.548843Z",
     "iopub.status.busy": "2021-08-21T14:30:08.537747Z",
     "iopub.status.idle": "2021-08-21T14:30:08.564147Z",
     "shell.execute_reply": "2021-08-21T14:30:08.565355Z"
    },
    "papermill": {
     "duration": 0.065684,
     "end_time": "2021-08-21T14:30:08.565753",
     "exception": false,
     "start_time": "2021-08-21T14:30:08.500069",
     "status": "completed"
    },
    "tags": []
   },
   "outputs": [],
   "source": [
    "df_pivot = df.pivot_table(index=\"PRODUCT\", columns = \"RECORD_TIME\", values = \"LISTING_COUNT\")"
   ]
  },
  {
   "cell_type": "code",
   "execution_count": 6,
   "id": "union-huntington",
   "metadata": {
    "execution": {
     "iopub.execute_input": "2021-08-21T14:30:08.625795Z",
     "iopub.status.busy": "2021-08-21T14:30:08.623365Z",
     "iopub.status.idle": "2021-08-21T14:30:08.629446Z",
     "shell.execute_reply": "2021-08-21T14:30:08.630890Z"
    },
    "papermill": {
     "duration": 0.043393,
     "end_time": "2021-08-21T14:30:08.631338",
     "exception": false,
     "start_time": "2021-08-21T14:30:08.587945",
     "status": "completed"
    },
    "tags": []
   },
   "outputs": [],
   "source": [
    "df_pivot.columns = [\"stamp_1\", \"stamp_2\"]\n",
    "df_pivot_diff = df_pivot.diff(axis=1)"
   ]
  },
  {
   "cell_type": "code",
   "execution_count": 7,
   "id": "fifth-motion",
   "metadata": {
    "execution": {
     "iopub.execute_input": "2021-08-21T14:30:08.693195Z",
     "iopub.status.busy": "2021-08-21T14:30:08.690598Z",
     "iopub.status.idle": "2021-08-21T14:30:10.178030Z",
     "shell.execute_reply": "2021-08-21T14:30:10.179341Z"
    },
    "papermill": {
     "duration": 1.523127,
     "end_time": "2021-08-21T14:30:10.179768",
     "exception": false,
     "start_time": "2021-08-21T14:30:08.656641",
     "status": "completed"
    },
    "tags": []
   },
   "outputs": [
    {
     "data": {
      "text/plain": [
       "<AxesSubplot:ylabel='PRODUCT'>"
      ]
     },
     "execution_count": 7,
     "metadata": {},
     "output_type": "execute_result"
    },
    {
     "data": {
      "image/png": "[encoded data removed]",
      "text/plain": [
       "<Figure size 432x288 with 1 Axes>"
      ]
     },
     "metadata": {
      "needs_background": "light"
     },
     "output_type": "display_data"
    }
   ],
   "source": [
    "df_pivot_diff.sort_values(\"stamp_2\", ascending = False)[\"stamp_2\"].head(10).plot.barh()"
   ]
  },
  {
   "cell_type": "code",
   "execution_count": null,
   "id": "extra-executive",
   "metadata": {
    "papermill": {
     "duration": 0.022176,
     "end_time": "2021-08-21T14:30:10.226515",
     "exception": false,
     "start_time": "2021-08-21T14:30:10.204339",
     "status": "completed"
    },
    "tags": []
   },
   "outputs": [],
   "source": []
  }
 ],
 "metadata": {
  "kernelspec": {
   "display_name": "Python 3",
   "language": "python",
   "name": "python3"
  },
  "language_info": {
   "codemirror_mode": {
    "name": "ipython",
    "version": 3
   },
   "file_extension": ".py",
   "mimetype": "text/x-python",
   "name": "python",
   "nbconvert_exporter": "python",
   "pygments_lexer": "ipython3",
   "version": "3.9.5"
  },
  "papermill": {
   "default_parameters": {},
   "duration": 6.8356,
   "end_time": "2021-08-21T14:30:11.607618",
   "environment_variables": {},
   "exception": null,
   "input_path": "eBay_Overview.ipynb",
   "output_path": "eBay_Overview.ipynb",
   "parameters": {},
   "start_time": "2021-08-21T14:30:04.772018",
   "version": "2.3.3"
  }
 },
 "nbformat": 4,
 "nbformat_minor": 5
}