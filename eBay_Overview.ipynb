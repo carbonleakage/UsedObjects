{
 "cells": [
  {
   "cell_type": "code",
   "execution_count": 1,
   "id": "reverse-picking",
   "metadata": {
    "execution": {
     "iopub.execute_input": "2021-10-16T08:30:07.238829Z",
     "iopub.status.busy": "2021-10-16T08:30:07.236854Z",
     "iopub.status.idle": "2021-10-16T08:30:08.045499Z",
     "shell.execute_reply": "2021-10-16T08:30:08.046795Z"
    },
    "papermill": {
     "duration": 0.861508,
     "end_time": "2021-10-16T08:30:08.047406",
     "exception": false,
     "start_time": "2021-10-16T08:30:07.185898",
     "status": "completed"
    },
    "tags": []
   },
   "outputs": [],
   "source": [
    "import pandas as pd\n",
    "import sqlite3"
   ]
  },
  {
   "cell_type": "code",
   "execution_count": 2,
   "id": "innovative-syndrome",
   "metadata": {
    "execution": {
     "iopub.execute_input": "2021-10-16T08:30:08.098925Z",
     "iopub.status.busy": "2021-10-16T08:30:08.096725Z",
     "iopub.status.idle": "2021-10-16T08:30:08.653377Z",
     "shell.execute_reply": "2021-10-16T08:30:08.654603Z"
    },
    "papermill": {
     "duration": 0.586146,
     "end_time": "2021-10-16T08:30:08.654997",
     "exception": false,
     "start_time": "2021-10-16T08:30:08.068851",
     "status": "completed"
    },
    "tags": []
   },
   "outputs": [],
   "source": [
    "timestamps = pd.read_sql(\"select distinct record_time from EBAY_TOP_BERLIN order by record_time desc limit 2\", sqlite3.connect(\"UsedObjects.db\"))"
   ]
  },
  {
   "cell_type": "code",
   "execution_count": 3,
   "id": "periodic-identification",
   "metadata": {
    "execution": {
     "iopub.execute_input": "2021-10-16T08:30:08.732141Z",
     "iopub.status.busy": "2021-10-16T08:30:08.730086Z",
     "iopub.status.idle": "2021-10-16T08:30:08.749884Z",
     "shell.execute_reply": "2021-10-16T08:30:08.751109Z"
    },
    "papermill": {
     "duration": 0.071311,
     "end_time": "2021-10-16T08:30:08.751536",
     "exception": false,
     "start_time": "2021-10-16T08:30:08.680225",
     "status": "completed"
    },
    "tags": []
   },
   "outputs": [
    {
     "data": {
      "text/html": [
       "<div>\n",
       "<style scoped>\n",
       "    .dataframe tbody tr th:only-of-type {\n",
       "        vertical-align: middle;\n",
       "    }\n",
       "\n",
       "    .dataframe tbody tr th {\n",
       "        vertical-align: top;\n",
       "    }\n",
       "\n",
       "    .dataframe thead th {\n",
       "        text-align: right;\n",
       "    }\n",
       "</style>\n",
       "<table border=\"1\" class=\"dataframe\">\n",
       "  <thead>\n",
       "    <tr style=\"text-align: right;\">\n",
       "      <th></th>\n",
       "      <th>RECORD_TIME</th>\n",
       "    </tr>\n",
       "  </thead>\n",
       "  <tbody>\n",
       "    <tr>\n",
       "      <th>0</th>\n",
       "      <td>2021-10-16 10:30</td>\n",
       "    </tr>\n",
       "    <tr>\n",
       "      <th>1</th>\n",
       "      <td>2021-10-16 10:00</td>\n",
       "    </tr>\n",
       "  </tbody>\n",
       "</table>\n",
       "</div>"
      ],
      "text/plain": [
       "        RECORD_TIME\n",
       "0  2021-10-16 10:30\n",
       "1  2021-10-16 10:00"
      ]
     },
     "execution_count": 3,
     "metadata": {},
     "output_type": "execute_result"
    }
   ],
   "source": [
    "timestamps"
   ]
  },
  {
   "cell_type": "code",
   "execution_count": 4,
   "id": "alternate-victory",
   "metadata": {
    "execution": {
     "iopub.execute_input": "2021-10-16T08:30:08.804791Z",
     "iopub.status.busy": "2021-10-16T08:30:08.802468Z",
     "iopub.status.idle": "2021-10-16T08:30:09.623148Z",
     "shell.execute_reply": "2021-10-16T08:30:09.624374Z"
    },
    "papermill": {
     "duration": 0.850899,
     "end_time": "2021-10-16T08:30:09.624832",
     "exception": false,
     "start_time": "2021-10-16T08:30:08.773933",
     "status": "completed"
    },
    "tags": []
   },
   "outputs": [],
   "source": [
    "df = pd.read_sql(\"select * from EBAY_TOP_BERLIN where record_time in (select distinct record_time from EBAY_TOP_BERLIN order by record_time desc limit 2)\", sqlite3.connect(\"UsedObjects.db\"))"
   ]
  },
  {
   "cell_type": "code",
   "execution_count": 5,
   "id": "popular-active",
   "metadata": {
    "execution": {
     "iopub.execute_input": "2021-10-16T08:30:09.689794Z",
     "iopub.status.busy": "2021-10-16T08:30:09.682030Z",
     "iopub.status.idle": "2021-10-16T08:30:09.710547Z",
     "shell.execute_reply": "2021-10-16T08:30:09.711849Z"
    },
    "papermill": {
     "duration": 0.066956,
     "end_time": "2021-10-16T08:30:09.712265",
     "exception": false,
     "start_time": "2021-10-16T08:30:09.645309",
     "status": "completed"
    },
    "tags": []
   },
   "outputs": [],
   "source": [
    "df_pivot = df.pivot_table(index=\"PRODUCT\", columns = \"RECORD_TIME\", values = \"LISTING_COUNT\")"
   ]
  },
  {
   "cell_type": "code",
   "execution_count": 6,
   "id": "union-huntington",
   "metadata": {
    "execution": {
     "iopub.execute_input": "2021-10-16T08:30:09.768342Z",
     "iopub.status.busy": "2021-10-16T08:30:09.766040Z",
     "iopub.status.idle": "2021-10-16T08:30:09.771889Z",
     "shell.execute_reply": "2021-10-16T08:30:09.773437Z"
    },
    "papermill": {
     "duration": 0.04211,
     "end_time": "2021-10-16T08:30:09.773910",
     "exception": false,
     "start_time": "2021-10-16T08:30:09.731800",
     "status": "completed"
    },
    "tags": []
   },
   "outputs": [],
   "source": [
    "df_pivot.columns = [\"stamp_1\", \"stamp_2\"]\n",
    "df_pivot_diff = df_pivot.diff(axis=1)"
   ]
  },
  {
   "cell_type": "code",
   "execution_count": 7,
   "id": "fifth-motion",
   "metadata": {
    "execution": {
     "iopub.execute_input": "2021-10-16T08:30:09.828054Z",
     "iopub.status.busy": "2021-10-16T08:30:09.825829Z",
     "iopub.status.idle": "2021-10-16T08:30:11.308204Z",
     "shell.execute_reply": "2021-10-16T08:30:11.309552Z"
    },
    "papermill": {
     "duration": 1.514872,
     "end_time": "2021-10-16T08:30:11.309963",
     "exception": false,
     "start_time": "2021-10-16T08:30:09.795091",
     "status": "completed"
    },
    "tags": []
   },
   "outputs": [
    {
     "data": {
      "text/plain": [
       "<AxesSubplot:ylabel='PRODUCT'>"
      ]
     },
     "execution_count": 7,
     "metadata": {},
     "output_type": "execute_result"
    },
    {
     "data": {
      "image/png": "[encoded data removed]",
      "text/plain": [
       "<Figure size 432x288 with 1 Axes>"
      ]
     },
     "metadata": {
      "needs_background": "light"
     },
     "output_type": "display_data"
    }
   ],
   "source": [
    "df_pivot_diff.sort_values(\"stamp_2\", ascending = False)[\"stamp_2\"].head(10).plot.barh()"
   ]
  },
  {
   "cell_type": "code",
   "execution_count": null,
   "id": "extra-executive",
   "metadata": {
    "papermill": {
     "duration": 0.021745,
     "end_time": "2021-10-16T08:30:11.356270",
     "exception": false,
     "start_time": "2021-10-16T08:30:11.334525",
     "status": "completed"
    },
    "tags": []
   },
   "outputs": [],
   "source": []
  }
 ],
 "metadata": {
  "kernelspec": {
   "display_name": "Python 3",
   "language": "python",
   "name": "python3"
  },
  "language_info": {
   "codemirror_mode": {
    "name": "ipython",
    "version": 3
   },
   "file_extension": ".py",
   "mimetype": "text/x-python",
   "name": "python",
   "nbconvert_exporter": "python",
   "pygments_lexer": "ipython3",
   "version": "3.9.5"
  },
  "papermill": {
   "default_parameters": {},
   "duration": 7.825124,
   "end_time": "2021-10-16T08:30:12.595879",
   "environment_variables": {},
   "exception": null,
   "input_path": "eBay_Overview.ipynb",
   "output_path": "eBay_Overview.ipynb",
   "parameters": {},
   "start_time": "2021-10-16T08:30:04.770755",
   "version": "2.3.3"
  }
 },
 "nbformat": 4,
 "nbformat_minor": 5
}