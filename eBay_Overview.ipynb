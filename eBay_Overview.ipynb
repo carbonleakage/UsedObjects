{
 "cells": [
  {
   "cell_type": "code",
   "execution_count": 1,
   "id": "reverse-picking",
   "metadata": {
    "execution": {
     "iopub.execute_input": "2021-10-16T22:00:07.486880Z",
     "iopub.status.busy": "2021-10-16T22:00:07.484853Z",
     "iopub.status.idle": "2021-10-16T22:00:08.295167Z",
     "shell.execute_reply": "2021-10-16T22:00:08.293052Z"
    },
    "papermill": {
     "duration": 0.860183,
     "end_time": "2021-10-16T22:00:08.295603",
     "exception": false,
     "start_time": "2021-10-16T22:00:07.435420",
     "status": "completed"
    },
    "tags": []
   },
   "outputs": [],
   "source": [
    "import pandas as pd\n",
    "import sqlite3"
   ]
  },
  {
   "cell_type": "code",
   "execution_count": 2,
   "id": "innovative-syndrome",
   "metadata": {
    "execution": {
     "iopub.execute_input": "2021-10-16T22:00:08.347458Z",
     "iopub.status.busy": "2021-10-16T22:00:08.345113Z",
     "iopub.status.idle": "2021-10-16T22:00:08.895247Z",
     "shell.execute_reply": "2021-10-16T22:00:08.896547Z"
    },
    "papermill": {
     "duration": 0.580725,
     "end_time": "2021-10-16T22:00:08.897045",
     "exception": false,
     "start_time": "2021-10-16T22:00:08.316320",
     "status": "completed"
    },
    "tags": []
   },
   "outputs": [],
   "source": [
    "timestamps = pd.read_sql(\"select distinct record_time from EBAY_TOP_BERLIN order by record_time desc limit 2\", sqlite3.connect(\"UsedObjects.db\"))"
   ]
  },
  {
   "cell_type": "code",
   "execution_count": 3,
   "id": "periodic-identification",
   "metadata": {
    "execution": {
     "iopub.execute_input": "2021-10-16T22:00:08.979214Z",
     "iopub.status.busy": "2021-10-16T22:00:08.974006Z",
     "iopub.status.idle": "2021-10-16T22:00:08.993997Z",
     "shell.execute_reply": "2021-10-16T22:00:08.995229Z"
    },
    "papermill": {
     "duration": 0.070817,
     "end_time": "2021-10-16T22:00:08.995619",
     "exception": false,
     "start_time": "2021-10-16T22:00:08.924802",
     "status": "completed"
    },
    "tags": []
   },
   "outputs": [
    {
     "data": {
      "text/html": [
       "<div>\n",
       "<style scoped>\n",
       "    .dataframe tbody tr th:only-of-type {\n",
       "        vertical-align: middle;\n",
       "    }\n",
       "\n",
       "    .dataframe tbody tr th {\n",
       "        vertical-align: top;\n",
       "    }\n",
       "\n",
       "    .dataframe thead th {\n",
       "        text-align: right;\n",
       "    }\n",
       "</style>\n",
       "<table border=\"1\" class=\"dataframe\">\n",
       "  <thead>\n",
       "    <tr style=\"text-align: right;\">\n",
       "      <th></th>\n",
       "      <th>RECORD_TIME</th>\n",
       "    </tr>\n",
       "  </thead>\n",
       "  <tbody>\n",
       "    <tr>\n",
       "      <th>0</th>\n",
       "      <td>2021-10-17 00:00</td>\n",
       "    </tr>\n",
       "    <tr>\n",
       "      <th>1</th>\n",
       "      <td>2021-10-16 23:30</td>\n",
       "    </tr>\n",
       "  </tbody>\n",
       "</table>\n",
       "</div>"
      ],
      "text/plain": [
       "        RECORD_TIME\n",
       "0  2021-10-17 00:00\n",
       "1  2021-10-16 23:30"
      ]
     },
     "execution_count": 3,
     "metadata": {},
     "output_type": "execute_result"
    }
   ],
   "source": [
    "timestamps"
   ]
  },
  {
   "cell_type": "code",
   "execution_count": 4,
   "id": "alternate-victory",
   "metadata": {
    "execution": {
     "iopub.execute_input": "2021-10-16T22:00:09.049165Z",
     "iopub.status.busy": "2021-10-16T22:00:09.046775Z",
     "iopub.status.idle": "2021-10-16T22:00:09.900104Z",
     "shell.execute_reply": "2021-10-16T22:00:09.901479Z"
    },
    "papermill": {
     "duration": 0.884254,
     "end_time": "2021-10-16T22:00:09.901902",
     "exception": false,
     "start_time": "2021-10-16T22:00:09.017648",
     "status": "completed"
    },
    "tags": []
   },
   "outputs": [],
   "source": [
    "df = pd.read_sql(\"select * from EBAY_TOP_BERLIN where record_time in (select distinct record_time from EBAY_TOP_BERLIN order by record_time desc limit 2)\", sqlite3.connect(\"UsedObjects.db\"))"
   ]
  },
  {
   "cell_type": "code",
   "execution_count": 5,
   "id": "popular-active",
   "metadata": {
    "execution": {
     "iopub.execute_input": "2021-10-16T22:00:09.972856Z",
     "iopub.status.busy": "2021-10-16T22:00:09.960986Z",
     "iopub.status.idle": "2021-10-16T22:00:09.990429Z",
     "shell.execute_reply": "2021-10-16T22:00:09.988906Z"
    },
    "papermill": {
     "duration": 0.067778,
     "end_time": "2021-10-16T22:00:09.990803",
     "exception": false,
     "start_time": "2021-10-16T22:00:09.923025",
     "status": "completed"
    },
    "tags": []
   },
   "outputs": [],
   "source": [
    "df_pivot = df.pivot_table(index=\"PRODUCT\", columns = \"RECORD_TIME\", values = \"LISTING_COUNT\")"
   ]
  },
  {
   "cell_type": "code",
   "execution_count": 6,
   "id": "union-huntington",
   "metadata": {
    "execution": {
     "iopub.execute_input": "2021-10-16T22:00:10.049102Z",
     "iopub.status.busy": "2021-10-16T22:00:10.046574Z",
     "iopub.status.idle": "2021-10-16T22:00:10.052471Z",
     "shell.execute_reply": "2021-10-16T22:00:10.053831Z"
    },
    "papermill": {
     "duration": 0.042792,
     "end_time": "2021-10-16T22:00:10.054249",
     "exception": false,
     "start_time": "2021-10-16T22:00:10.011457",
     "status": "completed"
    },
    "tags": []
   },
   "outputs": [],
   "source": [
    "df_pivot.columns = [\"stamp_1\", \"stamp_2\"]\n",
    "df_pivot_diff = df_pivot.diff(axis=1)"
   ]
  },
  {
   "cell_type": "code",
   "execution_count": 7,
   "id": "fifth-motion",
   "metadata": {
    "execution": {
     "iopub.execute_input": "2021-10-16T22:00:10.108977Z",
     "iopub.status.busy": "2021-10-16T22:00:10.106545Z",
     "iopub.status.idle": "2021-10-16T22:00:11.584378Z",
     "shell.execute_reply": "2021-10-16T22:00:11.585903Z"
    },
    "papermill": {
     "duration": 1.51114,
     "end_time": "2021-10-16T22:00:11.586354",
     "exception": false,
     "start_time": "2021-10-16T22:00:10.075214",
     "status": "completed"
    },
    "tags": []
   },
   "outputs": [
    {
     "data": {
      "text/plain": [
       "<AxesSubplot:ylabel='PRODUCT'>"
      ]
     },
     "execution_count": 7,
     "metadata": {},
     "output_type": "execute_result"
    },
    {
     "data": {
      "image/png": "[encoded data removed]",
      "text/plain": [
       "<Figure size 432x288 with 1 Axes>"
      ]
     },
     "metadata": {
      "needs_background": "light"
     },
     "output_type": "display_data"
    }
   ],
   "source": [
    "df_pivot_diff.sort_values(\"stamp_2\", ascending = False)[\"stamp_2\"].head(10).plot.barh()"
   ]
  },
  {
   "cell_type": "code",
   "execution_count": null,
   "id": "extra-executive",
   "metadata": {
    "papermill": {
     "duration": 0.022295,
     "end_time": "2021-10-16T22:00:11.633537",
     "exception": false,
     "start_time": "2021-10-16T22:00:11.611242",
     "status": "completed"
    },
    "tags": []
   },
   "outputs": [],
   "source": []
  }
 ],
 "metadata": {
  "kernelspec": {
   "display_name": "Python 3",
   "language": "python",
   "name": "python3"
  },
  "language_info": {
   "codemirror_mode": {
    "name": "ipython",
    "version": 3
   },
   "file_extension": ".py",
   "mimetype": "text/x-python",
   "name": "python",
   "nbconvert_exporter": "python",
   "pygments_lexer": "ipython3",
   "version": "3.9.5"
  },
  "papermill": {
   "default_parameters": {},
   "duration": 7.820377,
   "end_time": "2021-10-16T22:00:12.847869",
   "environment_variables": {},
   "exception": null,
   "input_path": "eBay_Overview.ipynb",
   "output_path": "eBay_Overview.ipynb",
   "parameters": {},
   "start_time": "2021-10-16T22:00:05.027492",
   "version": "2.3.3"
  }
 },
 "nbformat": 4,
 "nbformat_minor": 5
}