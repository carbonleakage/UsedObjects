{
 "cells": [
  {
   "cell_type": "code",
   "execution_count": 1,
   "id": "reverse-picking",
   "metadata": {
    "execution": {
     "iopub.execute_input": "2021-09-21T03:30:07.073512Z",
     "iopub.status.busy": "2021-09-21T03:30:07.071596Z",
     "iopub.status.idle": "2021-09-21T03:30:07.875919Z",
     "shell.execute_reply": "2021-09-21T03:30:07.877197Z"
    },
    "papermill": {
     "duration": 0.854441,
     "end_time": "2021-09-21T03:30:07.877816",
     "exception": false,
     "start_time": "2021-09-21T03:30:07.023375",
     "status": "completed"
    },
    "tags": []
   },
   "outputs": [],
   "source": [
    "import pandas as pd\n",
    "import sqlite3"
   ]
  },
  {
   "cell_type": "code",
   "execution_count": 2,
   "id": "innovative-syndrome",
   "metadata": {
    "execution": {
     "iopub.execute_input": "2021-09-21T03:30:07.927630Z",
     "iopub.status.busy": "2021-09-21T03:30:07.925705Z",
     "iopub.status.idle": "2021-09-21T03:30:08.258254Z",
     "shell.execute_reply": "2021-09-21T03:30:08.259504Z"
    },
    "papermill": {
     "duration": 0.362046,
     "end_time": "2021-09-21T03:30:08.259903",
     "exception": false,
     "start_time": "2021-09-21T03:30:07.897857",
     "status": "completed"
    },
    "tags": []
   },
   "outputs": [],
   "source": [
    "timestamps = pd.read_sql(\"select distinct record_time from EBAY_TOP_BERLIN order by record_time desc limit 2\", sqlite3.connect(\"UsedObjects.db\"))"
   ]
  },
  {
   "cell_type": "code",
   "execution_count": 3,
   "id": "periodic-identification",
   "metadata": {
    "execution": {
     "iopub.execute_input": "2021-09-21T03:30:08.326066Z",
     "iopub.status.busy": "2021-09-21T03:30:08.324073Z",
     "iopub.status.idle": "2021-09-21T03:30:08.344947Z",
     "shell.execute_reply": "2021-09-21T03:30:08.346143Z"
    },
    "papermill": {
     "duration": 0.065031,
     "end_time": "2021-09-21T03:30:08.346531",
     "exception": false,
     "start_time": "2021-09-21T03:30:08.281500",
     "status": "completed"
    },
    "tags": []
   },
   "outputs": [
    {
     "data": {
      "text/html": [
       "<div>\n",
       "<style scoped>\n",
       "    .dataframe tbody tr th:only-of-type {\n",
       "        vertical-align: middle;\n",
       "    }\n",
       "\n",
       "    .dataframe tbody tr th {\n",
       "        vertical-align: top;\n",
       "    }\n",
       "\n",
       "    .dataframe thead th {\n",
       "        text-align: right;\n",
       "    }\n",
       "</style>\n",
       "<table border=\"1\" class=\"dataframe\">\n",
       "  <thead>\n",
       "    <tr style=\"text-align: right;\">\n",
       "      <th></th>\n",
       "      <th>RECORD_TIME</th>\n",
       "    </tr>\n",
       "  </thead>\n",
       "  <tbody>\n",
       "    <tr>\n",
       "      <th>0</th>\n",
       "      <td>2021-09-21 05:30</td>\n",
       "    </tr>\n",
       "    <tr>\n",
       "      <th>1</th>\n",
       "      <td>2021-09-21 05:00</td>\n",
       "    </tr>\n",
       "  </tbody>\n",
       "</table>\n",
       "</div>"
      ],
      "text/plain": [
       "        RECORD_TIME\n",
       "0  2021-09-21 05:30\n",
       "1  2021-09-21 05:00"
      ]
     },
     "execution_count": 3,
     "metadata": {},
     "output_type": "execute_result"
    }
   ],
   "source": [
    "timestamps"
   ]
  },
  {
   "cell_type": "code",
   "execution_count": 4,
   "id": "alternate-victory",
   "metadata": {
    "execution": {
     "iopub.execute_input": "2021-09-21T03:30:08.399508Z",
     "iopub.status.busy": "2021-09-21T03:30:08.397171Z",
     "iopub.status.idle": "2021-09-21T03:30:08.898156Z",
     "shell.execute_reply": "2021-09-21T03:30:08.899561Z"
    },
    "papermill": {
     "duration": 0.531697,
     "end_time": "2021-09-21T03:30:08.899987",
     "exception": false,
     "start_time": "2021-09-21T03:30:08.368290",
     "status": "completed"
    },
    "tags": []
   },
   "outputs": [],
   "source": [
    "df = pd.read_sql(\"select * from EBAY_TOP_BERLIN where record_time in (select distinct record_time from EBAY_TOP_BERLIN order by record_time desc limit 2)\", sqlite3.connect(\"UsedObjects.db\"))"
   ]
  },
  {
   "cell_type": "code",
   "execution_count": 5,
   "id": "popular-active",
   "metadata": {
    "execution": {
     "iopub.execute_input": "2021-09-21T03:30:08.972625Z",
     "iopub.status.busy": "2021-09-21T03:30:08.960613Z",
     "iopub.status.idle": "2021-09-21T03:30:08.988017Z",
     "shell.execute_reply": "2021-09-21T03:30:08.989221Z"
    },
    "papermill": {
     "duration": 0.067862,
     "end_time": "2021-09-21T03:30:08.989611",
     "exception": false,
     "start_time": "2021-09-21T03:30:08.921749",
     "status": "completed"
    },
    "tags": []
   },
   "outputs": [],
   "source": [
    "df_pivot = df.pivot_table(index=\"PRODUCT\", columns = \"RECORD_TIME\", values = \"LISTING_COUNT\")"
   ]
  },
  {
   "cell_type": "code",
   "execution_count": 6,
   "id": "union-huntington",
   "metadata": {
    "execution": {
     "iopub.execute_input": "2021-09-21T03:30:09.048862Z",
     "iopub.status.busy": "2021-09-21T03:30:09.046418Z",
     "iopub.status.idle": "2021-09-21T03:30:09.052767Z",
     "shell.execute_reply": "2021-09-21T03:30:09.054205Z"
    },
    "papermill": {
     "duration": 0.042809,
     "end_time": "2021-09-21T03:30:09.054663",
     "exception": false,
     "start_time": "2021-09-21T03:30:09.011854",
     "status": "completed"
    },
    "tags": []
   },
   "outputs": [],
   "source": [
    "df_pivot.columns = [\"stamp_1\", \"stamp_2\"]\n",
    "df_pivot_diff = df_pivot.diff(axis=1)"
   ]
  },
  {
   "cell_type": "code",
   "execution_count": 7,
   "id": "fifth-motion",
   "metadata": {
    "execution": {
     "iopub.execute_input": "2021-09-21T03:30:09.109380Z",
     "iopub.status.busy": "2021-09-21T03:30:09.107028Z",
     "iopub.status.idle": "2021-09-21T03:30:10.602512Z",
     "shell.execute_reply": "2021-09-21T03:30:10.603948Z"
    },
    "papermill": {
     "duration": 1.528354,
     "end_time": "2021-09-21T03:30:10.604396",
     "exception": false,
     "start_time": "2021-09-21T03:30:09.076042",
     "status": "completed"
    },
    "tags": []
   },
   "outputs": [
    {
     "data": {
      "text/plain": [
       "<AxesSubplot:ylabel='PRODUCT'>"
      ]
     },
     "execution_count": 7,
     "metadata": {},
     "output_type": "execute_result"
    },
    {
     "data": {
      "image/png": "[encoded data removed]",
      "text/plain": [
       "<Figure size 432x288 with 1 Axes>"
      ]
     },
     "metadata": {
      "needs_background": "light"
     },
     "output_type": "display_data"
    }
   ],
   "source": [
    "df_pivot_diff.sort_values(\"stamp_2\", ascending = False)[\"stamp_2\"].head(10).plot.barh()"
   ]
  },
  {
   "cell_type": "code",
   "execution_count": null,
   "id": "extra-executive",
   "metadata": {
    "papermill": {
     "duration": 0.02226,
     "end_time": "2021-09-21T03:30:10.651295",
     "exception": false,
     "start_time": "2021-09-21T03:30:10.629035",
     "status": "completed"
    },
    "tags": []
   },
   "outputs": [],
   "source": []
  }
 ],
 "metadata": {
  "kernelspec": {
   "display_name": "Python 3",
   "language": "python",
   "name": "python3"
  },
  "language_info": {
   "codemirror_mode": {
    "name": "ipython",
    "version": 3
   },
   "file_extension": ".py",
   "mimetype": "text/x-python",
   "name": "python",
   "nbconvert_exporter": "python",
   "pygments_lexer": "ipython3",
   "version": "3.9.5"
  },
  "papermill": {
   "default_parameters": {},
   "duration": 6.671187,
   "end_time": "2021-09-21T03:30:11.293240",
   "environment_variables": {},
   "exception": null,
   "input_path": "eBay_Overview.ipynb",
   "output_path": "eBay_Overview.ipynb",
   "parameters": {},
   "start_time": "2021-09-21T03:30:04.622053",
   "version": "2.3.3"
  }
 },
 "nbformat": 4,
 "nbformat_minor": 5
}