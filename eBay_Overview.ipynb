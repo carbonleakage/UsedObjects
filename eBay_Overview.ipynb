{
 "cells": [
  {
   "cell_type": "code",
   "execution_count": 1,
   "id": "reverse-picking",
   "metadata": {
    "execution": {
     "iopub.execute_input": "2021-08-27T11:30:07.698835Z",
     "iopub.status.busy": "2021-08-27T11:30:07.696885Z",
     "iopub.status.idle": "2021-08-27T11:30:08.501758Z",
     "shell.execute_reply": "2021-08-27T11:30:08.500029Z"
    },
    "papermill": {
     "duration": 0.856879,
     "end_time": "2021-08-27T11:30:08.502166",
     "exception": false,
     "start_time": "2021-08-27T11:30:07.645287",
     "status": "completed"
    },
    "tags": []
   },
   "outputs": [],
   "source": [
    "import pandas as pd\n",
    "import sqlite3"
   ]
  },
  {
   "cell_type": "code",
   "execution_count": 2,
   "id": "innovative-syndrome",
   "metadata": {
    "execution": {
     "iopub.execute_input": "2021-08-27T11:30:08.552921Z",
     "iopub.status.busy": "2021-08-27T11:30:08.550889Z",
     "iopub.status.idle": "2021-08-27T11:30:08.692783Z",
     "shell.execute_reply": "2021-08-27T11:30:08.694093Z"
    },
    "papermill": {
     "duration": 0.17195,
     "end_time": "2021-08-27T11:30:08.694489",
     "exception": false,
     "start_time": "2021-08-27T11:30:08.522539",
     "status": "completed"
    },
    "tags": []
   },
   "outputs": [],
   "source": [
    "timestamps = pd.read_sql(\"select distinct record_time from EBAY_TOP_BERLIN order by record_time desc limit 2\", sqlite3.connect(\"UsedObjects.db\"))"
   ]
  },
  {
   "cell_type": "code",
   "execution_count": 3,
   "id": "periodic-identification",
   "metadata": {
    "execution": {
     "iopub.execute_input": "2021-08-27T11:30:08.758676Z",
     "iopub.status.busy": "2021-08-27T11:30:08.756581Z",
     "iopub.status.idle": "2021-08-27T11:30:08.777135Z",
     "shell.execute_reply": "2021-08-27T11:30:08.778415Z"
    },
    "papermill": {
     "duration": 0.065078,
     "end_time": "2021-08-27T11:30:08.778804",
     "exception": false,
     "start_time": "2021-08-27T11:30:08.713726",
     "status": "completed"
    },
    "tags": []
   },
   "outputs": [
    {
     "data": {
      "text/html": [
       "<div>\n",
       "<style scoped>\n",
       "    .dataframe tbody tr th:only-of-type {\n",
       "        vertical-align: middle;\n",
       "    }\n",
       "\n",
       "    .dataframe tbody tr th {\n",
       "        vertical-align: top;\n",
       "    }\n",
       "\n",
       "    .dataframe thead th {\n",
       "        text-align: right;\n",
       "    }\n",
       "</style>\n",
       "<table border=\"1\" class=\"dataframe\">\n",
       "  <thead>\n",
       "    <tr style=\"text-align: right;\">\n",
       "      <th></th>\n",
       "      <th>RECORD_TIME</th>\n",
       "    </tr>\n",
       "  </thead>\n",
       "  <tbody>\n",
       "    <tr>\n",
       "      <th>0</th>\n",
       "      <td>2021-08-27 13:30</td>\n",
       "    </tr>\n",
       "    <tr>\n",
       "      <th>1</th>\n",
       "      <td>2021-08-27 13:00</td>\n",
       "    </tr>\n",
       "  </tbody>\n",
       "</table>\n",
       "</div>"
      ],
      "text/plain": [
       "        RECORD_TIME\n",
       "0  2021-08-27 13:30\n",
       "1  2021-08-27 13:00"
      ]
     },
     "execution_count": 3,
     "metadata": {},
     "output_type": "execute_result"
    }
   ],
   "source": [
    "timestamps"
   ]
  },
  {
   "cell_type": "code",
   "execution_count": 4,
   "id": "alternate-victory",
   "metadata": {
    "execution": {
     "iopub.execute_input": "2021-08-27T11:30:08.831688Z",
     "iopub.status.busy": "2021-08-27T11:30:08.829405Z",
     "iopub.status.idle": "2021-08-27T11:30:09.038236Z",
     "shell.execute_reply": "2021-08-27T11:30:09.039454Z"
    },
    "papermill": {
     "duration": 0.239254,
     "end_time": "2021-08-27T11:30:09.039844",
     "exception": false,
     "start_time": "2021-08-27T11:30:08.800590",
     "status": "completed"
    },
    "tags": []
   },
   "outputs": [],
   "source": [
    "df = pd.read_sql(\"select * from EBAY_TOP_BERLIN where record_time in (select distinct record_time from EBAY_TOP_BERLIN order by record_time desc limit 2)\", sqlite3.connect(\"UsedObjects.db\"))"
   ]
  },
  {
   "cell_type": "code",
   "execution_count": 5,
   "id": "popular-active",
   "metadata": {
    "execution": {
     "iopub.execute_input": "2021-08-27T11:30:09.109678Z",
     "iopub.status.busy": "2021-08-27T11:30:09.098434Z",
     "iopub.status.idle": "2021-08-27T11:30:09.126597Z",
     "shell.execute_reply": "2021-08-27T11:30:09.127886Z"
    },
    "papermill": {
     "duration": 0.067675,
     "end_time": "2021-08-27T11:30:09.128353",
     "exception": false,
     "start_time": "2021-08-27T11:30:09.060678",
     "status": "completed"
    },
    "tags": []
   },
   "outputs": [],
   "source": [
    "df_pivot = df.pivot_table(index=\"PRODUCT\", columns = \"RECORD_TIME\", values = \"LISTING_COUNT\")"
   ]
  },
  {
   "cell_type": "code",
   "execution_count": 6,
   "id": "union-huntington",
   "metadata": {
    "execution": {
     "iopub.execute_input": "2021-08-27T11:30:09.194753Z",
     "iopub.status.busy": "2021-08-27T11:30:09.192317Z",
     "iopub.status.idle": "2021-08-27T11:30:09.198257Z",
     "shell.execute_reply": "2021-08-27T11:30:09.199450Z"
    },
    "papermill": {
     "duration": 0.045758,
     "end_time": "2021-08-27T11:30:09.199875",
     "exception": false,
     "start_time": "2021-08-27T11:30:09.154117",
     "status": "completed"
    },
    "tags": []
   },
   "outputs": [],
   "source": [
    "df_pivot.columns = [\"stamp_1\", \"stamp_2\"]\n",
    "df_pivot_diff = df_pivot.diff(axis=1)"
   ]
  },
  {
   "cell_type": "code",
   "execution_count": 7,
   "id": "fifth-motion",
   "metadata": {
    "execution": {
     "iopub.execute_input": "2021-08-27T11:30:09.254155Z",
     "iopub.status.busy": "2021-08-27T11:30:09.251679Z",
     "iopub.status.idle": "2021-08-27T11:30:10.748803Z",
     "shell.execute_reply": "2021-08-27T11:30:10.750101Z"
    },
    "papermill": {
     "duration": 1.530056,
     "end_time": "2021-08-27T11:30:10.750517",
     "exception": false,
     "start_time": "2021-08-27T11:30:09.220461",
     "status": "completed"
    },
    "tags": []
   },
   "outputs": [
    {
     "data": {
      "text/plain": [
       "<AxesSubplot:ylabel='PRODUCT'>"
      ]
     },
     "execution_count": 7,
     "metadata": {},
     "output_type": "execute_result"
    },
    {
     "data": {
      "image/png": "[encoded data removed]",
      "text/plain": [
       "<Figure size 432x288 with 1 Axes>"
      ]
     },
     "metadata": {
      "needs_background": "light"
     },
     "output_type": "display_data"
    }
   ],
   "source": [
    "df_pivot_diff.sort_values(\"stamp_2\", ascending = False)[\"stamp_2\"].head(10).plot.barh()"
   ]
  },
  {
   "cell_type": "code",
   "execution_count": null,
   "id": "extra-executive",
   "metadata": {
    "papermill": {
     "duration": 0.022103,
     "end_time": "2021-08-27T11:30:10.796436",
     "exception": false,
     "start_time": "2021-08-27T11:30:10.774333",
     "status": "completed"
    },
    "tags": []
   },
   "outputs": [],
   "source": []
  }
 ],
 "metadata": {
  "kernelspec": {
   "display_name": "Python 3",
   "language": "python",
   "name": "python3"
  },
  "language_info": {
   "codemirror_mode": {
    "name": "ipython",
    "version": 3
   },
   "file_extension": ".py",
   "mimetype": "text/x-python",
   "name": "python",
   "nbconvert_exporter": "python",
   "pygments_lexer": "ipython3",
   "version": "3.9.5"
  },
  "papermill": {
   "default_parameters": {},
   "duration": 6.818823,
   "end_time": "2021-08-27T11:30:12.063780",
   "environment_variables": {},
   "exception": null,
   "input_path": "eBay_Overview.ipynb",
   "output_path": "eBay_Overview.ipynb",
   "parameters": {},
   "start_time": "2021-08-27T11:30:05.244957",
   "version": "2.3.3"
  }
 },
 "nbformat": 4,
 "nbformat_minor": 5
}