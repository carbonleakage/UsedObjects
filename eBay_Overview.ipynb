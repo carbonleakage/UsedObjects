{
 "cells": [
  {
   "cell_type": "code",
   "execution_count": 1,
   "id": "reverse-picking",
   "metadata": {
    "execution": {
     "iopub.execute_input": "2021-10-29T21:30:08.152216Z",
     "iopub.status.busy": "2021-10-29T21:30:08.150323Z",
     "iopub.status.idle": "2021-10-29T21:30:08.952386Z",
     "shell.execute_reply": "2021-10-29T21:30:08.953877Z"
    },
    "papermill": {
     "duration": 0.853579,
     "end_time": "2021-10-29T21:30:08.954574",
     "exception": false,
     "start_time": "2021-10-29T21:30:08.100995",
     "status": "completed"
    },
    "tags": []
   },
   "outputs": [],
   "source": [
    "import pandas as pd\n",
    "import sqlite3"
   ]
  },
  {
   "cell_type": "code",
   "execution_count": 2,
   "id": "innovative-syndrome",
   "metadata": {
    "execution": {
     "iopub.execute_input": "2021-10-29T21:30:09.005676Z",
     "iopub.status.busy": "2021-10-29T21:30:09.003282Z",
     "iopub.status.idle": "2021-10-29T21:30:09.677842Z",
     "shell.execute_reply": "2021-10-29T21:30:09.679082Z"
    },
    "papermill": {
     "duration": 0.704388,
     "end_time": "2021-10-29T21:30:09.679481",
     "exception": false,
     "start_time": "2021-10-29T21:30:08.975093",
     "status": "completed"
    },
    "tags": []
   },
   "outputs": [],
   "source": [
    "timestamps = pd.read_sql(\"select distinct record_time from EBAY_TOP_BERLIN order by record_time desc limit 2\", sqlite3.connect(\"UsedObjects.db\"))"
   ]
  },
  {
   "cell_type": "code",
   "execution_count": 3,
   "id": "periodic-identification",
   "metadata": {
    "execution": {
     "iopub.execute_input": "2021-10-29T21:30:09.813932Z",
     "iopub.status.busy": "2021-10-29T21:30:09.811858Z",
     "iopub.status.idle": "2021-10-29T21:30:09.832620Z",
     "shell.execute_reply": "2021-10-29T21:30:09.833968Z"
    },
    "papermill": {
     "duration": 0.073902,
     "end_time": "2021-10-29T21:30:09.834389",
     "exception": false,
     "start_time": "2021-10-29T21:30:09.760487",
     "status": "completed"
    },
    "tags": []
   },
   "outputs": [
    {
     "data": {
      "text/html": [
       "<div>\n",
       "<style scoped>\n",
       "    .dataframe tbody tr th:only-of-type {\n",
       "        vertical-align: middle;\n",
       "    }\n",
       "\n",
       "    .dataframe tbody tr th {\n",
       "        vertical-align: top;\n",
       "    }\n",
       "\n",
       "    .dataframe thead th {\n",
       "        text-align: right;\n",
       "    }\n",
       "</style>\n",
       "<table border=\"1\" class=\"dataframe\">\n",
       "  <thead>\n",
       "    <tr style=\"text-align: right;\">\n",
       "      <th></th>\n",
       "      <th>RECORD_TIME</th>\n",
       "    </tr>\n",
       "  </thead>\n",
       "  <tbody>\n",
       "    <tr>\n",
       "      <th>0</th>\n",
       "      <td>2021-10-29 23:30</td>\n",
       "    </tr>\n",
       "    <tr>\n",
       "      <th>1</th>\n",
       "      <td>2021-10-29 23:00</td>\n",
       "    </tr>\n",
       "  </tbody>\n",
       "</table>\n",
       "</div>"
      ],
      "text/plain": [
       "        RECORD_TIME\n",
       "0  2021-10-29 23:30\n",
       "1  2021-10-29 23:00"
      ]
     },
     "execution_count": 3,
     "metadata": {},
     "output_type": "execute_result"
    }
   ],
   "source": [
    "timestamps"
   ]
  },
  {
   "cell_type": "code",
   "execution_count": 4,
   "id": "alternate-victory",
   "metadata": {
    "execution": {
     "iopub.execute_input": "2021-10-29T21:30:09.885185Z",
     "iopub.status.busy": "2021-10-29T21:30:09.883451Z",
     "iopub.status.idle": "2021-10-29T21:30:10.853136Z",
     "shell.execute_reply": "2021-10-29T21:30:10.854460Z"
    },
    "papermill": {
     "duration": 0.999333,
     "end_time": "2021-10-29T21:30:10.854864",
     "exception": false,
     "start_time": "2021-10-29T21:30:09.855531",
     "status": "completed"
    },
    "tags": []
   },
   "outputs": [],
   "source": [
    "df = pd.read_sql(\"select * from EBAY_TOP_BERLIN where record_time in (select distinct record_time from EBAY_TOP_BERLIN order by record_time desc limit 2)\", sqlite3.connect(\"UsedObjects.db\"))"
   ]
  },
  {
   "cell_type": "code",
   "execution_count": 5,
   "id": "popular-active",
   "metadata": {
    "execution": {
     "iopub.execute_input": "2021-10-29T21:30:10.925598Z",
     "iopub.status.busy": "2021-10-29T21:30:10.919276Z",
     "iopub.status.idle": "2021-10-29T21:30:10.940849Z",
     "shell.execute_reply": "2021-10-29T21:30:10.942046Z"
    },
    "papermill": {
     "duration": 0.067111,
     "end_time": "2021-10-29T21:30:10.942440",
     "exception": false,
     "start_time": "2021-10-29T21:30:10.875329",
     "status": "completed"
    },
    "tags": []
   },
   "outputs": [],
   "source": [
    "df_pivot = df.pivot_table(index=\"PRODUCT\", columns = \"RECORD_TIME\", values = \"LISTING_COUNT\")"
   ]
  },
  {
   "cell_type": "code",
   "execution_count": 6,
   "id": "union-huntington",
   "metadata": {
    "execution": {
     "iopub.execute_input": "2021-10-29T21:30:11.000949Z",
     "iopub.status.busy": "2021-10-29T21:30:10.998654Z",
     "iopub.status.idle": "2021-10-29T21:30:11.004569Z",
     "shell.execute_reply": "2021-10-29T21:30:11.006076Z"
    },
    "papermill": {
     "duration": 0.041888,
     "end_time": "2021-10-29T21:30:11.006541",
     "exception": false,
     "start_time": "2021-10-29T21:30:10.964653",
     "status": "completed"
    },
    "tags": []
   },
   "outputs": [],
   "source": [
    "df_pivot.columns = [\"stamp_1\", \"stamp_2\"]\n",
    "df_pivot_diff = df_pivot.diff(axis=1)"
   ]
  },
  {
   "cell_type": "code",
   "execution_count": 7,
   "id": "fifth-motion",
   "metadata": {
    "execution": {
     "iopub.execute_input": "2021-10-29T21:30:11.060065Z",
     "iopub.status.busy": "2021-10-29T21:30:11.057935Z",
     "iopub.status.idle": "2021-10-29T21:30:12.539087Z",
     "shell.execute_reply": "2021-10-29T21:30:12.540352Z"
    },
    "papermill": {
     "duration": 1.513476,
     "end_time": "2021-10-29T21:30:12.540833",
     "exception": false,
     "start_time": "2021-10-29T21:30:11.027357",
     "status": "completed"
    },
    "tags": []
   },
   "outputs": [
    {
     "data": {
      "text/plain": [
       "<AxesSubplot:ylabel='PRODUCT'>"
      ]
     },
     "execution_count": 7,
     "metadata": {},
     "output_type": "execute_result"
    },
    {
     "data": {
      "image/png": "[encoded data removed]",
      "text/plain": [
       "<Figure size 432x288 with 1 Axes>"
      ]
     },
     "metadata": {
      "needs_background": "light"
     },
     "output_type": "display_data"
    }
   ],
   "source": [
    "df_pivot_diff.sort_values(\"stamp_2\", ascending = False)[\"stamp_2\"].head(10).plot.barh()"
   ]
  },
  {
   "cell_type": "code",
   "execution_count": null,
   "id": "extra-executive",
   "metadata": {
    "papermill": {
     "duration": 0.021808,
     "end_time": "2021-10-29T21:30:12.586628",
     "exception": false,
     "start_time": "2021-10-29T21:30:12.564820",
     "status": "completed"
    },
    "tags": []
   },
   "outputs": [],
   "source": []
  }
 ],
 "metadata": {
  "kernelspec": {
   "display_name": "Python 3",
   "language": "python",
   "name": "python3"
  },
  "language_info": {
   "codemirror_mode": {
    "name": "ipython",
    "version": 3
   },
   "file_extension": ".py",
   "mimetype": "text/x-python",
   "name": "python",
   "nbconvert_exporter": "python",
   "pygments_lexer": "ipython3",
   "version": "3.9.5"
  },
  "papermill": {
   "default_parameters": {},
   "duration": 7.523249,
   "end_time": "2021-10-29T21:30:13.230212",
   "environment_variables": {},
   "exception": null,
   "input_path": "eBay_Overview.ipynb",
   "output_path": "eBay_Overview.ipynb",
   "parameters": {},
   "start_time": "2021-10-29T21:30:05.706963",
   "version": "2.3.3"
  }
 },
 "nbformat": 4,
 "nbformat_minor": 5
}