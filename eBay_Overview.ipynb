{
 "cells": [
  {
   "cell_type": "code",
   "execution_count": 1,
   "id": "reverse-picking",
   "metadata": {
    "execution": {
     "iopub.execute_input": "2021-08-13T22:30:07.436238Z",
     "iopub.status.busy": "2021-08-13T22:30:07.434308Z",
     "iopub.status.idle": "2021-08-13T22:30:08.245473Z",
     "shell.execute_reply": "2021-08-13T22:30:08.247006Z"
    },
    "papermill": {
     "duration": 0.865256,
     "end_time": "2021-08-13T22:30:08.247718",
     "exception": false,
     "start_time": "2021-08-13T22:30:07.382462",
     "status": "completed"
    },
    "tags": []
   },
   "outputs": [],
   "source": [
    "import pandas as pd\n",
    "import sqlite3"
   ]
  },
  {
   "cell_type": "code",
   "execution_count": 2,
   "id": "innovative-syndrome",
   "metadata": {
    "execution": {
     "iopub.execute_input": "2021-08-13T22:30:08.298917Z",
     "iopub.status.busy": "2021-08-13T22:30:08.296486Z",
     "iopub.status.idle": "2021-08-13T22:30:08.341542Z",
     "shell.execute_reply": "2021-08-13T22:30:08.342993Z"
    },
    "papermill": {
     "duration": 0.07531,
     "end_time": "2021-08-13T22:30:08.343438",
     "exception": false,
     "start_time": "2021-08-13T22:30:08.268128",
     "status": "completed"
    },
    "tags": []
   },
   "outputs": [],
   "source": [
    "timestamps = pd.read_sql(\"select distinct record_time from EBAY_TOP_BERLIN order by record_time desc limit 2\", sqlite3.connect(\"UsedObjects.db\"))"
   ]
  },
  {
   "cell_type": "code",
   "execution_count": 3,
   "id": "periodic-identification",
   "metadata": {
    "execution": {
     "iopub.execute_input": "2021-08-13T22:30:08.409105Z",
     "iopub.status.busy": "2021-08-13T22:30:08.407076Z",
     "iopub.status.idle": "2021-08-13T22:30:08.427244Z",
     "shell.execute_reply": "2021-08-13T22:30:08.428736Z"
    },
    "papermill": {
     "duration": 0.066233,
     "end_time": "2021-08-13T22:30:08.429243",
     "exception": false,
     "start_time": "2021-08-13T22:30:08.363010",
     "status": "completed"
    },
    "tags": []
   },
   "outputs": [
    {
     "data": {
      "text/html": [
       "<div>\n",
       "<style scoped>\n",
       "    .dataframe tbody tr th:only-of-type {\n",
       "        vertical-align: middle;\n",
       "    }\n",
       "\n",
       "    .dataframe tbody tr th {\n",
       "        vertical-align: top;\n",
       "    }\n",
       "\n",
       "    .dataframe thead th {\n",
       "        text-align: right;\n",
       "    }\n",
       "</style>\n",
       "<table border=\"1\" class=\"dataframe\">\n",
       "  <thead>\n",
       "    <tr style=\"text-align: right;\">\n",
       "      <th></th>\n",
       "      <th>RECORD_TIME</th>\n",
       "    </tr>\n",
       "  </thead>\n",
       "  <tbody>\n",
       "    <tr>\n",
       "      <th>0</th>\n",
       "      <td>2021-08-14 00:30</td>\n",
       "    </tr>\n",
       "    <tr>\n",
       "      <th>1</th>\n",
       "      <td>2021-08-14 00:00</td>\n",
       "    </tr>\n",
       "  </tbody>\n",
       "</table>\n",
       "</div>"
      ],
      "text/plain": [
       "        RECORD_TIME\n",
       "0  2021-08-14 00:30\n",
       "1  2021-08-14 00:00"
      ]
     },
     "execution_count": 3,
     "metadata": {},
     "output_type": "execute_result"
    }
   ],
   "source": [
    "timestamps"
   ]
  },
  {
   "cell_type": "code",
   "execution_count": 4,
   "id": "alternate-victory",
   "metadata": {
    "execution": {
     "iopub.execute_input": "2021-08-13T22:30:08.482072Z",
     "iopub.status.busy": "2021-08-13T22:30:08.480149Z",
     "iopub.status.idle": "2021-08-13T22:30:08.541039Z",
     "shell.execute_reply": "2021-08-13T22:30:08.542483Z"
    },
    "papermill": {
     "duration": 0.091198,
     "end_time": "2021-08-13T22:30:08.542898",
     "exception": false,
     "start_time": "2021-08-13T22:30:08.451700",
     "status": "completed"
    },
    "tags": []
   },
   "outputs": [],
   "source": [
    "df = pd.read_sql(\"select * from EBAY_TOP_BERLIN where record_time in (select distinct record_time from EBAY_TOP_BERLIN order by record_time desc limit 2)\", sqlite3.connect(\"UsedObjects.db\"))"
   ]
  },
  {
   "cell_type": "code",
   "execution_count": 5,
   "id": "popular-active",
   "metadata": {
    "execution": {
     "iopub.execute_input": "2021-08-13T22:30:08.612966Z",
     "iopub.status.busy": "2021-08-13T22:30:08.602144Z",
     "iopub.status.idle": "2021-08-13T22:30:08.629641Z",
     "shell.execute_reply": "2021-08-13T22:30:08.630945Z"
    },
    "papermill": {
     "duration": 0.068321,
     "end_time": "2021-08-13T22:30:08.631347",
     "exception": false,
     "start_time": "2021-08-13T22:30:08.563026",
     "status": "completed"
    },
    "tags": []
   },
   "outputs": [],
   "source": [
    "df_pivot = df.pivot_table(index=\"PRODUCT\", columns = \"RECORD_TIME\", values = \"LISTING_COUNT\")"
   ]
  },
  {
   "cell_type": "code",
   "execution_count": 6,
   "id": "union-huntington",
   "metadata": {
    "execution": {
     "iopub.execute_input": "2021-08-13T22:30:08.688591Z",
     "iopub.status.busy": "2021-08-13T22:30:08.686408Z",
     "iopub.status.idle": "2021-08-13T22:30:08.691912Z",
     "shell.execute_reply": "2021-08-13T22:30:08.693264Z"
    },
    "papermill": {
     "duration": 0.040945,
     "end_time": "2021-08-13T22:30:08.693704",
     "exception": false,
     "start_time": "2021-08-13T22:30:08.652759",
     "status": "completed"
    },
    "tags": []
   },
   "outputs": [],
   "source": [
    "df_pivot.columns = [\"stamp_1\", \"stamp_2\"]\n",
    "df_pivot_diff = df_pivot.diff(axis=1)"
   ]
  },
  {
   "cell_type": "code",
   "execution_count": 7,
   "id": "fifth-motion",
   "metadata": {
    "execution": {
     "iopub.execute_input": "2021-08-13T22:30:08.748951Z",
     "iopub.status.busy": "2021-08-13T22:30:08.746276Z",
     "iopub.status.idle": "2021-08-13T22:30:10.223182Z",
     "shell.execute_reply": "2021-08-13T22:30:10.224714Z"
    },
    "papermill": {
     "duration": 1.51082,
     "end_time": "2021-08-13T22:30:10.225176",
     "exception": false,
     "start_time": "2021-08-13T22:30:08.714356",
     "status": "completed"
    },
    "tags": []
   },
   "outputs": [
    {
     "data": {
      "text/plain": [
       "<AxesSubplot:ylabel='PRODUCT'>"
      ]
     },
     "execution_count": 7,
     "metadata": {},
     "output_type": "execute_result"
    },
    {
     "data": {
      "image/png": "[encoded data removed]",
      "text/plain": [
       "<Figure size 432x288 with 1 Axes>"
      ]
     },
     "metadata": {
      "needs_background": "light"
     },
     "output_type": "display_data"
    }
   ],
   "source": [
    "df_pivot_diff.sort_values(\"stamp_2\", ascending = False)[\"stamp_2\"].head(10).plot.barh()"
   ]
  },
  {
   "cell_type": "code",
   "execution_count": null,
   "id": "extra-executive",
   "metadata": {
    "papermill": {
     "duration": 0.022035,
     "end_time": "2021-08-13T22:30:10.271707",
     "exception": false,
     "start_time": "2021-08-13T22:30:10.249672",
     "status": "completed"
    },
    "tags": []
   },
   "outputs": [],
   "source": []
  }
 ],
 "metadata": {
  "kernelspec": {
   "display_name": "Python 3",
   "language": "python",
   "name": "python3"
  },
  "language_info": {
   "codemirror_mode": {
    "name": "ipython",
    "version": 3
   },
   "file_extension": ".py",
   "mimetype": "text/x-python",
   "name": "python",
   "nbconvert_exporter": "python",
   "pygments_lexer": "ipython3",
   "version": "3.9.5"
  },
  "papermill": {
   "default_parameters": {},
   "duration": 6.830719,
   "end_time": "2021-08-13T22:30:11.786637",
   "environment_variables": {},
   "exception": null,
   "input_path": "eBay_Overview.ipynb",
   "output_path": "eBay_Overview.ipynb",
   "parameters": {},
   "start_time": "2021-08-13T22:30:04.955918",
   "version": "2.3.3"
  }
 },
 "nbformat": 4,
 "nbformat_minor": 5
}