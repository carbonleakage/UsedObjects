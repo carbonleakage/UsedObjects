{
 "cells": [
  {
   "cell_type": "code",
   "execution_count": 1,
   "id": "reverse-picking",
   "metadata": {
    "execution": {
     "iopub.execute_input": "2021-10-04T08:30:07.445003Z",
     "iopub.status.busy": "2021-10-04T08:30:07.443036Z",
     "iopub.status.idle": "2021-10-04T08:30:08.248073Z",
     "shell.execute_reply": "2021-10-04T08:30:08.249315Z"
    },
    "papermill": {
     "duration": 0.85688,
     "end_time": "2021-10-04T08:30:08.249938",
     "exception": false,
     "start_time": "2021-10-04T08:30:07.393058",
     "status": "completed"
    },
    "tags": []
   },
   "outputs": [],
   "source": [
    "import pandas as pd\n",
    "import sqlite3"
   ]
  },
  {
   "cell_type": "code",
   "execution_count": 2,
   "id": "innovative-syndrome",
   "metadata": {
    "execution": {
     "iopub.execute_input": "2021-10-04T08:30:08.300442Z",
     "iopub.status.busy": "2021-10-04T08:30:08.298467Z",
     "iopub.status.idle": "2021-10-04T08:30:08.741526Z",
     "shell.execute_reply": "2021-10-04T08:30:08.742725Z"
    },
    "papermill": {
     "duration": 0.472448,
     "end_time": "2021-10-04T08:30:08.743184",
     "exception": false,
     "start_time": "2021-10-04T08:30:08.270736",
     "status": "completed"
    },
    "tags": []
   },
   "outputs": [],
   "source": [
    "timestamps = pd.read_sql(\"select distinct record_time from EBAY_TOP_BERLIN order by record_time desc limit 2\", sqlite3.connect(\"UsedObjects.db\"))"
   ]
  },
  {
   "cell_type": "code",
   "execution_count": 3,
   "id": "periodic-identification",
   "metadata": {
    "execution": {
     "iopub.execute_input": "2021-10-04T08:30:08.813143Z",
     "iopub.status.busy": "2021-10-04T08:30:08.807914Z",
     "iopub.status.idle": "2021-10-04T08:30:08.828286Z",
     "shell.execute_reply": "2021-10-04T08:30:08.829763Z"
    },
    "papermill": {
     "duration": 0.065411,
     "end_time": "2021-10-04T08:30:08.830229",
     "exception": false,
     "start_time": "2021-10-04T08:30:08.764818",
     "status": "completed"
    },
    "tags": []
   },
   "outputs": [
    {
     "data": {
      "text/html": [
       "<div>\n",
       "<style scoped>\n",
       "    .dataframe tbody tr th:only-of-type {\n",
       "        vertical-align: middle;\n",
       "    }\n",
       "\n",
       "    .dataframe tbody tr th {\n",
       "        vertical-align: top;\n",
       "    }\n",
       "\n",
       "    .dataframe thead th {\n",
       "        text-align: right;\n",
       "    }\n",
       "</style>\n",
       "<table border=\"1\" class=\"dataframe\">\n",
       "  <thead>\n",
       "    <tr style=\"text-align: right;\">\n",
       "      <th></th>\n",
       "      <th>RECORD_TIME</th>\n",
       "    </tr>\n",
       "  </thead>\n",
       "  <tbody>\n",
       "    <tr>\n",
       "      <th>0</th>\n",
       "      <td>2021-10-04 10:30</td>\n",
       "    </tr>\n",
       "    <tr>\n",
       "      <th>1</th>\n",
       "      <td>2021-10-04 10:00</td>\n",
       "    </tr>\n",
       "  </tbody>\n",
       "</table>\n",
       "</div>"
      ],
      "text/plain": [
       "        RECORD_TIME\n",
       "0  2021-10-04 10:30\n",
       "1  2021-10-04 10:00"
      ]
     },
     "execution_count": 3,
     "metadata": {},
     "output_type": "execute_result"
    }
   ],
   "source": [
    "timestamps"
   ]
  },
  {
   "cell_type": "code",
   "execution_count": 4,
   "id": "alternate-victory",
   "metadata": {
    "execution": {
     "iopub.execute_input": "2021-10-04T08:30:08.889877Z",
     "iopub.status.busy": "2021-10-04T08:30:08.887853Z",
     "iopub.status.idle": "2021-10-04T08:30:09.534065Z",
     "shell.execute_reply": "2021-10-04T08:30:09.535525Z"
    },
    "papermill": {
     "duration": 0.684537,
     "end_time": "2021-10-04T08:30:09.535949",
     "exception": false,
     "start_time": "2021-10-04T08:30:08.851412",
     "status": "completed"
    },
    "tags": []
   },
   "outputs": [],
   "source": [
    "df = pd.read_sql(\"select * from EBAY_TOP_BERLIN where record_time in (select distinct record_time from EBAY_TOP_BERLIN order by record_time desc limit 2)\", sqlite3.connect(\"UsedObjects.db\"))"
   ]
  },
  {
   "cell_type": "code",
   "execution_count": 5,
   "id": "popular-active",
   "metadata": {
    "execution": {
     "iopub.execute_input": "2021-10-04T08:30:09.605071Z",
     "iopub.status.busy": "2021-10-04T08:30:09.593185Z",
     "iopub.status.idle": "2021-10-04T08:30:09.620630Z",
     "shell.execute_reply": "2021-10-04T08:30:09.621848Z"
    },
    "papermill": {
     "duration": 0.065723,
     "end_time": "2021-10-04T08:30:09.622244",
     "exception": false,
     "start_time": "2021-10-04T08:30:09.556521",
     "status": "completed"
    },
    "tags": []
   },
   "outputs": [],
   "source": [
    "df_pivot = df.pivot_table(index=\"PRODUCT\", columns = \"RECORD_TIME\", values = \"LISTING_COUNT\")"
   ]
  },
  {
   "cell_type": "code",
   "execution_count": 6,
   "id": "union-huntington",
   "metadata": {
    "execution": {
     "iopub.execute_input": "2021-10-04T08:30:09.681220Z",
     "iopub.status.busy": "2021-10-04T08:30:09.678724Z",
     "iopub.status.idle": "2021-10-04T08:30:09.684593Z",
     "shell.execute_reply": "2021-10-04T08:30:09.685876Z"
    },
    "papermill": {
     "duration": 0.04194,
     "end_time": "2021-10-04T08:30:09.686291",
     "exception": false,
     "start_time": "2021-10-04T08:30:09.644351",
     "status": "completed"
    },
    "tags": []
   },
   "outputs": [],
   "source": [
    "df_pivot.columns = [\"stamp_1\", \"stamp_2\"]\n",
    "df_pivot_diff = df_pivot.diff(axis=1)"
   ]
  },
  {
   "cell_type": "code",
   "execution_count": 7,
   "id": "fifth-motion",
   "metadata": {
    "execution": {
     "iopub.execute_input": "2021-10-04T08:30:09.739967Z",
     "iopub.status.busy": "2021-10-04T08:30:09.737479Z",
     "iopub.status.idle": "2021-10-04T08:30:11.221830Z",
     "shell.execute_reply": "2021-10-04T08:30:11.223320Z"
    },
    "papermill": {
     "duration": 1.517067,
     "end_time": "2021-10-04T08:30:11.223799",
     "exception": false,
     "start_time": "2021-10-04T08:30:09.706732",
     "status": "completed"
    },
    "tags": []
   },
   "outputs": [
    {
     "data": {
      "text/plain": [
       "<AxesSubplot:ylabel='PRODUCT'>"
      ]
     },
     "execution_count": 7,
     "metadata": {},
     "output_type": "execute_result"
    },
    {
     "data": {
      "image/png": "[encoded data removed]",
      "text/plain": [
       "<Figure size 432x288 with 1 Axes>"
      ]
     },
     "metadata": {
      "needs_background": "light"
     },
     "output_type": "display_data"
    }
   ],
   "source": [
    "df_pivot_diff.sort_values(\"stamp_2\", ascending = False)[\"stamp_2\"].head(10).plot.barh()"
   ]
  },
  {
   "cell_type": "code",
   "execution_count": null,
   "id": "extra-executive",
   "metadata": {
    "papermill": {
     "duration": 0.022176,
     "end_time": "2021-10-04T08:30:11.270685",
     "exception": false,
     "start_time": "2021-10-04T08:30:11.248509",
     "status": "completed"
    },
    "tags": []
   },
   "outputs": [],
   "source": []
  }
 ],
 "metadata": {
  "kernelspec": {
   "display_name": "Python 3",
   "language": "python",
   "name": "python3"
  },
  "language_info": {
   "codemirror_mode": {
    "name": "ipython",
    "version": 3
   },
   "file_extension": ".py",
   "mimetype": "text/x-python",
   "name": "python",
   "nbconvert_exporter": "python",
   "pygments_lexer": "ipython3",
   "version": "3.9.5"
  },
  "papermill": {
   "default_parameters": {},
   "duration": 7.82286,
   "end_time": "2021-10-04T08:30:12.805578",
   "environment_variables": {},
   "exception": null,
   "input_path": "eBay_Overview.ipynb",
   "output_path": "eBay_Overview.ipynb",
   "parameters": {},
   "start_time": "2021-10-04T08:30:04.982718",
   "version": "2.3.3"
  }
 },
 "nbformat": 4,
 "nbformat_minor": 5
}