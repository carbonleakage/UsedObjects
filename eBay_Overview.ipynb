{
 "cells": [
  {
   "cell_type": "code",
   "execution_count": 1,
   "id": "reverse-picking",
   "metadata": {
    "execution": {
     "iopub.execute_input": "2021-10-05T04:30:07.335771Z",
     "iopub.status.busy": "2021-10-05T04:30:07.333668Z",
     "iopub.status.idle": "2021-10-05T04:30:08.140852Z",
     "shell.execute_reply": "2021-10-05T04:30:08.142074Z"
    },
    "papermill": {
     "duration": 0.857684,
     "end_time": "2021-10-05T04:30:08.142732",
     "exception": false,
     "start_time": "2021-10-05T04:30:07.285048",
     "status": "completed"
    },
    "tags": []
   },
   "outputs": [],
   "source": [
    "import pandas as pd\n",
    "import sqlite3"
   ]
  },
  {
   "cell_type": "code",
   "execution_count": 2,
   "id": "innovative-syndrome",
   "metadata": {
    "execution": {
     "iopub.execute_input": "2021-10-05T04:30:08.194062Z",
     "iopub.status.busy": "2021-10-05T04:30:08.191762Z",
     "iopub.status.idle": "2021-10-05T04:30:08.646958Z",
     "shell.execute_reply": "2021-10-05T04:30:08.648250Z"
    },
    "papermill": {
     "duration": 0.485779,
     "end_time": "2021-10-05T04:30:08.648663",
     "exception": false,
     "start_time": "2021-10-05T04:30:08.162884",
     "status": "completed"
    },
    "tags": []
   },
   "outputs": [],
   "source": [
    "timestamps = pd.read_sql(\"select distinct record_time from EBAY_TOP_BERLIN order by record_time desc limit 2\", sqlite3.connect(\"UsedObjects.db\"))"
   ]
  },
  {
   "cell_type": "code",
   "execution_count": 3,
   "id": "periodic-identification",
   "metadata": {
    "execution": {
     "iopub.execute_input": "2021-10-05T04:30:08.716105Z",
     "iopub.status.busy": "2021-10-05T04:30:08.711216Z",
     "iopub.status.idle": "2021-10-05T04:30:08.733041Z",
     "shell.execute_reply": "2021-10-05T04:30:08.734330Z"
    },
    "papermill": {
     "duration": 0.066225,
     "end_time": "2021-10-05T04:30:08.734750",
     "exception": false,
     "start_time": "2021-10-05T04:30:08.668525",
     "status": "completed"
    },
    "tags": []
   },
   "outputs": [
    {
     "data": {
      "text/html": [
       "<div>\n",
       "<style scoped>\n",
       "    .dataframe tbody tr th:only-of-type {\n",
       "        vertical-align: middle;\n",
       "    }\n",
       "\n",
       "    .dataframe tbody tr th {\n",
       "        vertical-align: top;\n",
       "    }\n",
       "\n",
       "    .dataframe thead th {\n",
       "        text-align: right;\n",
       "    }\n",
       "</style>\n",
       "<table border=\"1\" class=\"dataframe\">\n",
       "  <thead>\n",
       "    <tr style=\"text-align: right;\">\n",
       "      <th></th>\n",
       "      <th>RECORD_TIME</th>\n",
       "    </tr>\n",
       "  </thead>\n",
       "  <tbody>\n",
       "    <tr>\n",
       "      <th>0</th>\n",
       "      <td>2021-10-05 06:30</td>\n",
       "    </tr>\n",
       "    <tr>\n",
       "      <th>1</th>\n",
       "      <td>2021-10-05 06:00</td>\n",
       "    </tr>\n",
       "  </tbody>\n",
       "</table>\n",
       "</div>"
      ],
      "text/plain": [
       "        RECORD_TIME\n",
       "0  2021-10-05 06:30\n",
       "1  2021-10-05 06:00"
      ]
     },
     "execution_count": 3,
     "metadata": {},
     "output_type": "execute_result"
    }
   ],
   "source": [
    "timestamps"
   ]
  },
  {
   "cell_type": "code",
   "execution_count": 4,
   "id": "alternate-victory",
   "metadata": {
    "execution": {
     "iopub.execute_input": "2021-10-05T04:30:08.786127Z",
     "iopub.status.busy": "2021-10-05T04:30:08.784014Z",
     "iopub.status.idle": "2021-10-05T04:30:09.478565Z",
     "shell.execute_reply": "2021-10-05T04:30:09.479801Z"
    },
    "papermill": {
     "duration": 0.725629,
     "end_time": "2021-10-05T04:30:09.480246",
     "exception": false,
     "start_time": "2021-10-05T04:30:08.754617",
     "status": "completed"
    },
    "tags": []
   },
   "outputs": [],
   "source": [
    "df = pd.read_sql(\"select * from EBAY_TOP_BERLIN where record_time in (select distinct record_time from EBAY_TOP_BERLIN order by record_time desc limit 2)\", sqlite3.connect(\"UsedObjects.db\"))"
   ]
  },
  {
   "cell_type": "code",
   "execution_count": 5,
   "id": "popular-active",
   "metadata": {
    "execution": {
     "iopub.execute_input": "2021-10-05T04:30:09.549908Z",
     "iopub.status.busy": "2021-10-05T04:30:09.543063Z",
     "iopub.status.idle": "2021-10-05T04:30:09.566849Z",
     "shell.execute_reply": "2021-10-05T04:30:09.568249Z"
    },
    "papermill": {
     "duration": 0.067825,
     "end_time": "2021-10-05T04:30:09.568696",
     "exception": false,
     "start_time": "2021-10-05T04:30:09.500871",
     "status": "completed"
    },
    "tags": []
   },
   "outputs": [],
   "source": [
    "df_pivot = df.pivot_table(index=\"PRODUCT\", columns = \"RECORD_TIME\", values = \"LISTING_COUNT\")"
   ]
  },
  {
   "cell_type": "code",
   "execution_count": 6,
   "id": "union-huntington",
   "metadata": {
    "execution": {
     "iopub.execute_input": "2021-10-05T04:30:09.626214Z",
     "iopub.status.busy": "2021-10-05T04:30:09.623786Z",
     "iopub.status.idle": "2021-10-05T04:30:09.629519Z",
     "shell.execute_reply": "2021-10-05T04:30:09.630844Z"
    },
    "papermill": {
     "duration": 0.042133,
     "end_time": "2021-10-05T04:30:09.631273",
     "exception": false,
     "start_time": "2021-10-05T04:30:09.589140",
     "status": "completed"
    },
    "tags": []
   },
   "outputs": [],
   "source": [
    "df_pivot.columns = [\"stamp_1\", \"stamp_2\"]\n",
    "df_pivot_diff = df_pivot.diff(axis=1)"
   ]
  },
  {
   "cell_type": "code",
   "execution_count": 7,
   "id": "fifth-motion",
   "metadata": {
    "execution": {
     "iopub.execute_input": "2021-10-05T04:30:09.685714Z",
     "iopub.status.busy": "2021-10-05T04:30:09.683431Z",
     "iopub.status.idle": "2021-10-05T04:30:11.170167Z",
     "shell.execute_reply": "2021-10-05T04:30:11.171506Z"
    },
    "papermill": {
     "duration": 1.520061,
     "end_time": "2021-10-05T04:30:11.171936",
     "exception": false,
     "start_time": "2021-10-05T04:30:09.651875",
     "status": "completed"
    },
    "tags": []
   },
   "outputs": [
    {
     "data": {
      "text/plain": [
       "<AxesSubplot:ylabel='PRODUCT'>"
      ]
     },
     "execution_count": 7,
     "metadata": {},
     "output_type": "execute_result"
    },
    {
     "data": {
      "image/png": "[encoded data removed]",
      "text/plain": [
       "<Figure size 432x288 with 1 Axes>"
      ]
     },
     "metadata": {
      "needs_background": "light"
     },
     "output_type": "display_data"
    }
   ],
   "source": [
    "df_pivot_diff.sort_values(\"stamp_2\", ascending = False)[\"stamp_2\"].head(10).plot.barh()"
   ]
  },
  {
   "cell_type": "code",
   "execution_count": null,
   "id": "extra-executive",
   "metadata": {
    "papermill": {
     "duration": 0.022403,
     "end_time": "2021-10-05T04:30:11.218481",
     "exception": false,
     "start_time": "2021-10-05T04:30:11.196078",
     "status": "completed"
    },
    "tags": []
   },
   "outputs": [],
   "source": []
  }
 ],
 "metadata": {
  "kernelspec": {
   "display_name": "Python 3",
   "language": "python",
   "name": "python3"
  },
  "language_info": {
   "codemirror_mode": {
    "name": "ipython",
    "version": 3
   },
   "file_extension": ".py",
   "mimetype": "text/x-python",
   "name": "python",
   "nbconvert_exporter": "python",
   "pygments_lexer": "ipython3",
   "version": "3.9.5"
  },
  "papermill": {
   "default_parameters": {},
   "duration": 7.824324,
   "end_time": "2021-10-05T04:30:12.701689",
   "environment_variables": {},
   "exception": null,
   "input_path": "eBay_Overview.ipynb",
   "output_path": "eBay_Overview.ipynb",
   "parameters": {},
   "start_time": "2021-10-05T04:30:04.877365",
   "version": "2.3.3"
  }
 },
 "nbformat": 4,
 "nbformat_minor": 5
}