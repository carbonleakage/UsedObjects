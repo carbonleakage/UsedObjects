{
 "cells": [
  {
   "cell_type": "code",
   "execution_count": 1,
   "id": "reverse-picking",
   "metadata": {
    "execution": {
     "iopub.execute_input": "2021-09-18T17:00:06.816830Z",
     "iopub.status.busy": "2021-09-18T17:00:06.814913Z",
     "iopub.status.idle": "2021-09-18T17:00:07.616575Z",
     "shell.execute_reply": "2021-09-18T17:00:07.617882Z"
    },
    "papermill": {
     "duration": 0.854515,
     "end_time": "2021-09-18T17:00:07.618519",
     "exception": false,
     "start_time": "2021-09-18T17:00:06.764004",
     "status": "completed"
    },
    "tags": []
   },
   "outputs": [],
   "source": [
    "import pandas as pd\n",
    "import sqlite3"
   ]
  },
  {
   "cell_type": "code",
   "execution_count": 2,
   "id": "innovative-syndrome",
   "metadata": {
    "execution": {
     "iopub.execute_input": "2021-09-18T17:00:07.670502Z",
     "iopub.status.busy": "2021-09-18T17:00:07.668470Z",
     "iopub.status.idle": "2021-09-18T17:00:07.989094Z",
     "shell.execute_reply": "2021-09-18T17:00:07.990269Z"
    },
    "papermill": {
     "duration": 0.351448,
     "end_time": "2021-09-18T17:00:07.990693",
     "exception": false,
     "start_time": "2021-09-18T17:00:07.639245",
     "status": "completed"
    },
    "tags": []
   },
   "outputs": [],
   "source": [
    "timestamps = pd.read_sql(\"select distinct record_time from EBAY_TOP_BERLIN order by record_time desc limit 2\", sqlite3.connect(\"UsedObjects.db\"))"
   ]
  },
  {
   "cell_type": "code",
   "execution_count": 3,
   "id": "periodic-identification",
   "metadata": {
    "execution": {
     "iopub.execute_input": "2021-09-18T17:00:08.061216Z",
     "iopub.status.busy": "2021-09-18T17:00:08.056135Z",
     "iopub.status.idle": "2021-09-18T17:00:08.076322Z",
     "shell.execute_reply": "2021-09-18T17:00:08.077590Z"
    },
    "papermill": {
     "duration": 0.067566,
     "end_time": "2021-09-18T17:00:08.077999",
     "exception": false,
     "start_time": "2021-09-18T17:00:08.010433",
     "status": "completed"
    },
    "tags": []
   },
   "outputs": [
    {
     "data": {
      "text/html": [
       "<div>\n",
       "<style scoped>\n",
       "    .dataframe tbody tr th:only-of-type {\n",
       "        vertical-align: middle;\n",
       "    }\n",
       "\n",
       "    .dataframe tbody tr th {\n",
       "        vertical-align: top;\n",
       "    }\n",
       "\n",
       "    .dataframe thead th {\n",
       "        text-align: right;\n",
       "    }\n",
       "</style>\n",
       "<table border=\"1\" class=\"dataframe\">\n",
       "  <thead>\n",
       "    <tr style=\"text-align: right;\">\n",
       "      <th></th>\n",
       "      <th>RECORD_TIME</th>\n",
       "    </tr>\n",
       "  </thead>\n",
       "  <tbody>\n",
       "    <tr>\n",
       "      <th>0</th>\n",
       "      <td>2021-09-18 19:00</td>\n",
       "    </tr>\n",
       "    <tr>\n",
       "      <th>1</th>\n",
       "      <td>2021-09-18 18:30</td>\n",
       "    </tr>\n",
       "  </tbody>\n",
       "</table>\n",
       "</div>"
      ],
      "text/plain": [
       "        RECORD_TIME\n",
       "0  2021-09-18 19:00\n",
       "1  2021-09-18 18:30"
      ]
     },
     "execution_count": 3,
     "metadata": {},
     "output_type": "execute_result"
    }
   ],
   "source": [
    "timestamps"
   ]
  },
  {
   "cell_type": "code",
   "execution_count": 4,
   "id": "alternate-victory",
   "metadata": {
    "execution": {
     "iopub.execute_input": "2021-09-18T17:00:08.131212Z",
     "iopub.status.busy": "2021-09-18T17:00:08.128855Z",
     "iopub.status.idle": "2021-09-18T17:00:08.602030Z",
     "shell.execute_reply": "2021-09-18T17:00:08.603293Z"
    },
    "papermill": {
     "duration": 0.503619,
     "end_time": "2021-09-18T17:00:08.603694",
     "exception": false,
     "start_time": "2021-09-18T17:00:08.100075",
     "status": "completed"
    },
    "tags": []
   },
   "outputs": [],
   "source": [
    "df = pd.read_sql(\"select * from EBAY_TOP_BERLIN where record_time in (select distinct record_time from EBAY_TOP_BERLIN order by record_time desc limit 2)\", sqlite3.connect(\"UsedObjects.db\"))"
   ]
  },
  {
   "cell_type": "code",
   "execution_count": 5,
   "id": "popular-active",
   "metadata": {
    "execution": {
     "iopub.execute_input": "2021-09-18T17:00:08.685180Z",
     "iopub.status.busy": "2021-09-18T17:00:08.672922Z",
     "iopub.status.idle": "2021-09-18T17:00:08.701291Z",
     "shell.execute_reply": "2021-09-18T17:00:08.702483Z"
    },
    "papermill": {
     "duration": 0.073032,
     "end_time": "2021-09-18T17:00:08.702966",
     "exception": false,
     "start_time": "2021-09-18T17:00:08.629934",
     "status": "completed"
    },
    "tags": []
   },
   "outputs": [],
   "source": [
    "df_pivot = df.pivot_table(index=\"PRODUCT\", columns = \"RECORD_TIME\", values = \"LISTING_COUNT\")"
   ]
  },
  {
   "cell_type": "code",
   "execution_count": 6,
   "id": "union-huntington",
   "metadata": {
    "execution": {
     "iopub.execute_input": "2021-09-18T17:00:08.759543Z",
     "iopub.status.busy": "2021-09-18T17:00:08.757424Z",
     "iopub.status.idle": "2021-09-18T17:00:08.762387Z",
     "shell.execute_reply": "2021-09-18T17:00:08.763727Z"
    },
    "papermill": {
     "duration": 0.040068,
     "end_time": "2021-09-18T17:00:08.764144",
     "exception": false,
     "start_time": "2021-09-18T17:00:08.724076",
     "status": "completed"
    },
    "tags": []
   },
   "outputs": [],
   "source": [
    "df_pivot.columns = [\"stamp_1\", \"stamp_2\"]\n",
    "df_pivot_diff = df_pivot.diff(axis=1)"
   ]
  },
  {
   "cell_type": "code",
   "execution_count": 7,
   "id": "fifth-motion",
   "metadata": {
    "execution": {
     "iopub.execute_input": "2021-09-18T17:00:08.819821Z",
     "iopub.status.busy": "2021-09-18T17:00:08.817219Z",
     "iopub.status.idle": "2021-09-18T17:00:10.317525Z",
     "shell.execute_reply": "2021-09-18T17:00:10.318854Z"
    },
    "papermill": {
     "duration": 1.533586,
     "end_time": "2021-09-18T17:00:10.319316",
     "exception": false,
     "start_time": "2021-09-18T17:00:08.785730",
     "status": "completed"
    },
    "tags": []
   },
   "outputs": [
    {
     "data": {
      "text/plain": [
       "<AxesSubplot:ylabel='PRODUCT'>"
      ]
     },
     "execution_count": 7,
     "metadata": {},
     "output_type": "execute_result"
    },
    {
     "data": {
      "image/png": "[encoded data removed]",
      "text/plain": [
       "<Figure size 432x288 with 1 Axes>"
      ]
     },
     "metadata": {
      "needs_background": "light"
     },
     "output_type": "display_data"
    }
   ],
   "source": [
    "df_pivot_diff.sort_values(\"stamp_2\", ascending = False)[\"stamp_2\"].head(10).plot.barh()"
   ]
  },
  {
   "cell_type": "code",
   "execution_count": null,
   "id": "extra-executive",
   "metadata": {
    "papermill": {
     "duration": 0.022624,
     "end_time": "2021-09-18T17:00:10.367135",
     "exception": false,
     "start_time": "2021-09-18T17:00:10.344511",
     "status": "completed"
    },
    "tags": []
   },
   "outputs": [],
   "source": []
  }
 ],
 "metadata": {
  "kernelspec": {
   "display_name": "Python 3",
   "language": "python",
   "name": "python3"
  },
  "language_info": {
   "codemirror_mode": {
    "name": "ipython",
    "version": 3
   },
   "file_extension": ".py",
   "mimetype": "text/x-python",
   "name": "python",
   "nbconvert_exporter": "python",
   "pygments_lexer": "ipython3",
   "version": "3.9.5"
  },
  "papermill": {
   "default_parameters": {},
   "duration": 6.638156,
   "end_time": "2021-09-18T17:00:11.009044",
   "environment_variables": {},
   "exception": null,
   "input_path": "eBay_Overview.ipynb",
   "output_path": "eBay_Overview.ipynb",
   "parameters": {},
   "start_time": "2021-09-18T17:00:04.370888",
   "version": "2.3.3"
  }
 },
 "nbformat": 4,
 "nbformat_minor": 5
}