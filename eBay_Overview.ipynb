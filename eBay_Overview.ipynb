{
 "cells": [
  {
   "cell_type": "code",
   "execution_count": 1,
   "id": "reverse-picking",
   "metadata": {
    "execution": {
     "iopub.execute_input": "2021-11-23T22:30:07.292859Z",
     "iopub.status.busy": "2021-11-23T22:30:07.290607Z",
     "iopub.status.idle": "2021-11-23T22:30:08.242471Z",
     "shell.execute_reply": "2021-11-23T22:30:08.244031Z"
    },
    "papermill": {
     "duration": 0.997861,
     "end_time": "2021-11-23T22:30:08.244897",
     "exception": false,
     "start_time": "2021-11-23T22:30:07.247036",
     "status": "completed"
    },
    "tags": []
   },
   "outputs": [],
   "source": [
    "import pandas as pd\n",
    "import sqlite3"
   ]
  },
  {
   "cell_type": "code",
   "execution_count": 2,
   "id": "innovative-syndrome",
   "metadata": {
    "execution": {
     "iopub.execute_input": "2021-11-23T22:30:08.309447Z",
     "iopub.status.busy": "2021-11-23T22:30:08.307055Z",
     "iopub.status.idle": "2021-11-23T22:30:09.199899Z",
     "shell.execute_reply": "2021-11-23T22:30:09.201526Z"
    },
    "papermill": {
     "duration": 0.926096,
     "end_time": "2021-11-23T22:30:09.202010",
     "exception": false,
     "start_time": "2021-11-23T22:30:08.275914",
     "status": "completed"
    },
    "tags": []
   },
   "outputs": [],
   "source": [
    "timestamps = pd.read_sql(\"select distinct record_time from EBAY_TOP_BERLIN order by record_time desc limit 2\", sqlite3.connect(\"UsedObjects.db\"))"
   ]
  },
  {
   "cell_type": "code",
   "execution_count": 3,
   "id": "periodic-identification",
   "metadata": {
    "execution": {
     "iopub.execute_input": "2021-11-23T22:30:09.273436Z",
     "iopub.status.busy": "2021-11-23T22:30:09.271061Z",
     "iopub.status.idle": "2021-11-23T22:30:09.296901Z",
     "shell.execute_reply": "2021-11-23T22:30:09.298528Z"
    },
    "papermill": {
     "duration": 0.076019,
     "end_time": "2021-11-23T22:30:09.299034",
     "exception": false,
     "start_time": "2021-11-23T22:30:09.223015",
     "status": "completed"
    },
    "tags": []
   },
   "outputs": [
    {
     "data": {
      "text/html": [
       "<div>\n",
       "<style scoped>\n",
       "    .dataframe tbody tr th:only-of-type {\n",
       "        vertical-align: middle;\n",
       "    }\n",
       "\n",
       "    .dataframe tbody tr th {\n",
       "        vertical-align: top;\n",
       "    }\n",
       "\n",
       "    .dataframe thead th {\n",
       "        text-align: right;\n",
       "    }\n",
       "</style>\n",
       "<table border=\"1\" class=\"dataframe\">\n",
       "  <thead>\n",
       "    <tr style=\"text-align: right;\">\n",
       "      <th></th>\n",
       "      <th>RECORD_TIME</th>\n",
       "    </tr>\n",
       "  </thead>\n",
       "  <tbody>\n",
       "    <tr>\n",
       "      <th>0</th>\n",
       "      <td>2021-11-23 23:30</td>\n",
       "    </tr>\n",
       "    <tr>\n",
       "      <th>1</th>\n",
       "      <td>2021-11-23 23:00</td>\n",
       "    </tr>\n",
       "  </tbody>\n",
       "</table>\n",
       "</div>"
      ],
      "text/plain": [
       "        RECORD_TIME\n",
       "0  2021-11-23 23:30\n",
       "1  2021-11-23 23:00"
      ]
     },
     "execution_count": 3,
     "metadata": {},
     "output_type": "execute_result"
    }
   ],
   "source": [
    "timestamps"
   ]
  },
  {
   "cell_type": "code",
   "execution_count": 4,
   "id": "alternate-victory",
   "metadata": {
    "execution": {
     "iopub.execute_input": "2021-11-23T22:30:09.355200Z",
     "iopub.status.busy": "2021-11-23T22:30:09.352731Z",
     "iopub.status.idle": "2021-11-23T22:30:10.624229Z",
     "shell.execute_reply": "2021-11-23T22:30:10.626925Z"
    },
    "papermill": {
     "duration": 1.306975,
     "end_time": "2021-11-23T22:30:10.627485",
     "exception": false,
     "start_time": "2021-11-23T22:30:09.320510",
     "status": "completed"
    },
    "tags": []
   },
   "outputs": [],
   "source": [
    "df = pd.read_sql(\"select * from EBAY_TOP_BERLIN where record_time in (select distinct record_time from EBAY_TOP_BERLIN order by record_time desc limit 2)\", sqlite3.connect(\"UsedObjects.db\"))"
   ]
  },
  {
   "cell_type": "code",
   "execution_count": 5,
   "id": "popular-active",
   "metadata": {
    "execution": {
     "iopub.execute_input": "2021-11-23T22:30:10.731023Z",
     "iopub.status.busy": "2021-11-23T22:30:10.717386Z",
     "iopub.status.idle": "2021-11-23T22:30:10.750542Z",
     "shell.execute_reply": "2021-11-23T22:30:10.752113Z"
    },
    "papermill": {
     "duration": 0.100541,
     "end_time": "2021-11-23T22:30:10.752603",
     "exception": false,
     "start_time": "2021-11-23T22:30:10.652062",
     "status": "completed"
    },
    "tags": []
   },
   "outputs": [],
   "source": [
    "df_pivot = df.pivot_table(index=\"PRODUCT\", columns = \"RECORD_TIME\", values = \"LISTING_COUNT\")"
   ]
  },
  {
   "cell_type": "code",
   "execution_count": 6,
   "id": "union-huntington",
   "metadata": {
    "execution": {
     "iopub.execute_input": "2021-11-23T22:30:10.813973Z",
     "iopub.status.busy": "2021-11-23T22:30:10.811824Z",
     "iopub.status.idle": "2021-11-23T22:30:10.817217Z",
     "shell.execute_reply": "2021-11-23T22:30:10.818471Z"
    },
    "papermill": {
     "duration": 0.044616,
     "end_time": "2021-11-23T22:30:10.818925",
     "exception": false,
     "start_time": "2021-11-23T22:30:10.774309",
     "status": "completed"
    },
    "tags": []
   },
   "outputs": [],
   "source": [
    "df_pivot.columns = [\"stamp_1\", \"stamp_2\"]\n",
    "df_pivot_diff = df_pivot.diff(axis=1)"
   ]
  },
  {
   "cell_type": "code",
   "execution_count": 7,
   "id": "fifth-motion",
   "metadata": {
    "execution": {
     "iopub.execute_input": "2021-11-23T22:30:10.874597Z",
     "iopub.status.busy": "2021-11-23T22:30:10.872240Z",
     "iopub.status.idle": "2021-11-23T22:30:12.722586Z",
     "shell.execute_reply": "2021-11-23T22:30:12.725515Z"
    },
    "papermill": {
     "duration": 1.886886,
     "end_time": "2021-11-23T22:30:12.726465",
     "exception": false,
     "start_time": "2021-11-23T22:30:10.839579",
     "status": "completed"
    },
    "tags": []
   },
   "outputs": [
    {
     "data": {
      "text/plain": [
       "<AxesSubplot:ylabel='PRODUCT'>"
      ]
     },
     "execution_count": 7,
     "metadata": {},
     "output_type": "execute_result"
    },
    {
     "data": {
      "image/png": "[encoded data removed]",
      "text/plain": [
       "<Figure size 432x288 with 1 Axes>"
      ]
     },
     "metadata": {
      "needs_background": "light"
     },
     "output_type": "display_data"
    }
   ],
   "source": [
    "df_pivot_diff.sort_values(\"stamp_2\", ascending = False)[\"stamp_2\"].head(10).plot.barh()"
   ]
  },
  {
   "cell_type": "code",
   "execution_count": null,
   "id": "extra-executive",
   "metadata": {
    "papermill": {
     "duration": 0.027844,
     "end_time": "2021-11-23T22:30:12.784453",
     "exception": false,
     "start_time": "2021-11-23T22:30:12.756609",
     "status": "completed"
    },
    "tags": []
   },
   "outputs": [],
   "source": []
  }
 ],
 "metadata": {
  "kernelspec": {
   "display_name": "Python 3",
   "language": "python",
   "name": "python3"
  },
  "language_info": {
   "codemirror_mode": {
    "name": "ipython",
    "version": 3
   },
   "file_extension": ".py",
   "mimetype": "text/x-python",
   "name": "python",
   "nbconvert_exporter": "python",
   "pygments_lexer": "ipython3",
   "version": "3.9.5"
  },
  "papermill": {
   "default_parameters": {},
   "duration": 9.948472,
   "end_time": "2021-11-23T22:30:14.452205",
   "environment_variables": {},
   "exception": null,
   "input_path": "eBay_Overview.ipynb",
   "output_path": "eBay_Overview.ipynb",
   "parameters": {},
   "start_time": "2021-11-23T22:30:04.503733",
   "version": "2.3.3"
  }
 },
 "nbformat": 4,
 "nbformat_minor": 5
}