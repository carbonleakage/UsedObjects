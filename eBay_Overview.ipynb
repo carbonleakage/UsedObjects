{
 "cells": [
  {
   "cell_type": "code",
   "execution_count": 1,
   "id": "reverse-picking",
   "metadata": {
    "execution": {
     "iopub.execute_input": "2021-09-03T20:30:07.137771Z",
     "iopub.status.busy": "2021-09-03T20:30:07.135826Z",
     "iopub.status.idle": "2021-09-03T20:30:07.938673Z",
     "shell.execute_reply": "2021-09-03T20:30:07.940177Z"
    },
    "papermill": {
     "duration": 0.853732,
     "end_time": "2021-09-03T20:30:07.940851",
     "exception": false,
     "start_time": "2021-09-03T20:30:07.087119",
     "status": "completed"
    },
    "tags": []
   },
   "outputs": [],
   "source": [
    "import pandas as pd\n",
    "import sqlite3"
   ]
  },
  {
   "cell_type": "code",
   "execution_count": 2,
   "id": "innovative-syndrome",
   "metadata": {
    "execution": {
     "iopub.execute_input": "2021-09-03T20:30:07.991605Z",
     "iopub.status.busy": "2021-09-03T20:30:07.989571Z",
     "iopub.status.idle": "2021-09-03T20:30:08.193807Z",
     "shell.execute_reply": "2021-09-03T20:30:08.195095Z"
    },
    "papermill": {
     "duration": 0.234305,
     "end_time": "2021-09-03T20:30:08.195505",
     "exception": false,
     "start_time": "2021-09-03T20:30:07.961200",
     "status": "completed"
    },
    "tags": []
   },
   "outputs": [],
   "source": [
    "timestamps = pd.read_sql(\"select distinct record_time from EBAY_TOP_BERLIN order by record_time desc limit 2\", sqlite3.connect(\"UsedObjects.db\"))"
   ]
  },
  {
   "cell_type": "code",
   "execution_count": 3,
   "id": "periodic-identification",
   "metadata": {
    "execution": {
     "iopub.execute_input": "2021-09-03T20:30:08.258149Z",
     "iopub.status.busy": "2021-09-03T20:30:08.256123Z",
     "iopub.status.idle": "2021-09-03T20:30:08.276174Z",
     "shell.execute_reply": "2021-09-03T20:30:08.277519Z"
    },
    "papermill": {
     "duration": 0.063335,
     "end_time": "2021-09-03T20:30:08.277932",
     "exception": false,
     "start_time": "2021-09-03T20:30:08.214597",
     "status": "completed"
    },
    "tags": []
   },
   "outputs": [
    {
     "data": {
      "text/html": [
       "<div>\n",
       "<style scoped>\n",
       "    .dataframe tbody tr th:only-of-type {\n",
       "        vertical-align: middle;\n",
       "    }\n",
       "\n",
       "    .dataframe tbody tr th {\n",
       "        vertical-align: top;\n",
       "    }\n",
       "\n",
       "    .dataframe thead th {\n",
       "        text-align: right;\n",
       "    }\n",
       "</style>\n",
       "<table border=\"1\" class=\"dataframe\">\n",
       "  <thead>\n",
       "    <tr style=\"text-align: right;\">\n",
       "      <th></th>\n",
       "      <th>RECORD_TIME</th>\n",
       "    </tr>\n",
       "  </thead>\n",
       "  <tbody>\n",
       "    <tr>\n",
       "      <th>0</th>\n",
       "      <td>2021-09-03 22:30</td>\n",
       "    </tr>\n",
       "    <tr>\n",
       "      <th>1</th>\n",
       "      <td>2021-09-03 22:00</td>\n",
       "    </tr>\n",
       "  </tbody>\n",
       "</table>\n",
       "</div>"
      ],
      "text/plain": [
       "        RECORD_TIME\n",
       "0  2021-09-03 22:30\n",
       "1  2021-09-03 22:00"
      ]
     },
     "execution_count": 3,
     "metadata": {},
     "output_type": "execute_result"
    }
   ],
   "source": [
    "timestamps"
   ]
  },
  {
   "cell_type": "code",
   "execution_count": 4,
   "id": "alternate-victory",
   "metadata": {
    "execution": {
     "iopub.execute_input": "2021-09-03T20:30:08.329823Z",
     "iopub.status.busy": "2021-09-03T20:30:08.327535Z",
     "iopub.status.idle": "2021-09-03T20:30:08.629856Z",
     "shell.execute_reply": "2021-09-03T20:30:08.631267Z"
    },
    "papermill": {
     "duration": 0.332627,
     "end_time": "2021-09-03T20:30:08.631704",
     "exception": false,
     "start_time": "2021-09-03T20:30:08.299077",
     "status": "completed"
    },
    "tags": []
   },
   "outputs": [],
   "source": [
    "df = pd.read_sql(\"select * from EBAY_TOP_BERLIN where record_time in (select distinct record_time from EBAY_TOP_BERLIN order by record_time desc limit 2)\", sqlite3.connect(\"UsedObjects.db\"))"
   ]
  },
  {
   "cell_type": "code",
   "execution_count": 5,
   "id": "popular-active",
   "metadata": {
    "execution": {
     "iopub.execute_input": "2021-09-03T20:30:08.714308Z",
     "iopub.status.busy": "2021-09-03T20:30:08.707577Z",
     "iopub.status.idle": "2021-09-03T20:30:08.729648Z",
     "shell.execute_reply": "2021-09-03T20:30:08.730926Z"
    },
    "papermill": {
     "duration": 0.071042,
     "end_time": "2021-09-03T20:30:08.731333",
     "exception": false,
     "start_time": "2021-09-03T20:30:08.660291",
     "status": "completed"
    },
    "tags": []
   },
   "outputs": [],
   "source": [
    "df_pivot = df.pivot_table(index=\"PRODUCT\", columns = \"RECORD_TIME\", values = \"LISTING_COUNT\")"
   ]
  },
  {
   "cell_type": "code",
   "execution_count": 6,
   "id": "union-huntington",
   "metadata": {
    "execution": {
     "iopub.execute_input": "2021-09-03T20:30:08.788992Z",
     "iopub.status.busy": "2021-09-03T20:30:08.786742Z",
     "iopub.status.idle": "2021-09-03T20:30:08.792352Z",
     "shell.execute_reply": "2021-09-03T20:30:08.793626Z"
    },
    "papermill": {
     "duration": 0.04066,
     "end_time": "2021-09-03T20:30:08.794082",
     "exception": false,
     "start_time": "2021-09-03T20:30:08.753422",
     "status": "completed"
    },
    "tags": []
   },
   "outputs": [],
   "source": [
    "df_pivot.columns = [\"stamp_1\", \"stamp_2\"]\n",
    "df_pivot_diff = df_pivot.diff(axis=1)"
   ]
  },
  {
   "cell_type": "code",
   "execution_count": 7,
   "id": "fifth-motion",
   "metadata": {
    "execution": {
     "iopub.execute_input": "2021-09-03T20:30:08.849703Z",
     "iopub.status.busy": "2021-09-03T20:30:08.847074Z",
     "iopub.status.idle": "2021-09-03T20:30:10.349556Z",
     "shell.execute_reply": "2021-09-03T20:30:10.350841Z"
    },
    "papermill": {
     "duration": 1.536194,
     "end_time": "2021-09-03T20:30:10.351507",
     "exception": false,
     "start_time": "2021-09-03T20:30:08.815313",
     "status": "completed"
    },
    "tags": []
   },
   "outputs": [
    {
     "data": {
      "text/plain": [
       "<AxesSubplot:ylabel='PRODUCT'>"
      ]
     },
     "execution_count": 7,
     "metadata": {},
     "output_type": "execute_result"
    },
    {
     "data": {
      "image/png": "[encoded data removed]",
      "text/plain": [
       "<Figure size 432x288 with 1 Axes>"
      ]
     },
     "metadata": {
      "needs_background": "light"
     },
     "output_type": "display_data"
    }
   ],
   "source": [
    "df_pivot_diff.sort_values(\"stamp_2\", ascending = False)[\"stamp_2\"].head(10).plot.barh()"
   ]
  },
  {
   "cell_type": "code",
   "execution_count": null,
   "id": "extra-executive",
   "metadata": {
    "papermill": {
     "duration": 0.022151,
     "end_time": "2021-09-03T20:30:10.400329",
     "exception": false,
     "start_time": "2021-09-03T20:30:10.378178",
     "status": "completed"
    },
    "tags": []
   },
   "outputs": [],
   "source": []
  }
 ],
 "metadata": {
  "kernelspec": {
   "display_name": "Python 3",
   "language": "python",
   "name": "python3"
  },
  "language_info": {
   "codemirror_mode": {
    "name": "ipython",
    "version": 3
   },
   "file_extension": ".py",
   "mimetype": "text/x-python",
   "name": "python",
   "nbconvert_exporter": "python",
   "pygments_lexer": "ipython3",
   "version": "3.9.5"
  },
  "papermill": {
   "default_parameters": {},
   "duration": 6.354794,
   "end_time": "2021-09-03T20:30:11.041640",
   "environment_variables": {},
   "exception": null,
   "input_path": "eBay_Overview.ipynb",
   "output_path": "eBay_Overview.ipynb",
   "parameters": {},
   "start_time": "2021-09-03T20:30:04.686846",
   "version": "2.3.3"
  }
 },
 "nbformat": 4,
 "nbformat_minor": 5
}