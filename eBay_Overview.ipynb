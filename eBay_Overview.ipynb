{
 "cells": [
  {
   "cell_type": "code",
   "execution_count": 1,
   "id": "reverse-picking",
   "metadata": {
    "execution": {
     "iopub.execute_input": "2021-12-05T02:30:07.756284Z",
     "iopub.status.busy": "2021-12-05T02:30:07.753736Z",
     "iopub.status.idle": "2021-12-05T02:30:08.702687Z",
     "shell.execute_reply": "2021-12-05T02:30:08.704302Z"
    },
    "papermill": {
     "duration": 0.998758,
     "end_time": "2021-12-05T02:30:08.705152",
     "exception": false,
     "start_time": "2021-12-05T02:30:07.706394",
     "status": "completed"
    },
    "tags": []
   },
   "outputs": [],
   "source": [
    "import pandas as pd\n",
    "import sqlite3"
   ]
  },
  {
   "cell_type": "code",
   "execution_count": 2,
   "id": "innovative-syndrome",
   "metadata": {
    "execution": {
     "iopub.execute_input": "2021-12-05T02:30:08.771459Z",
     "iopub.status.busy": "2021-12-05T02:30:08.769274Z",
     "iopub.status.idle": "2021-12-05T02:30:09.767751Z",
     "shell.execute_reply": "2021-12-05T02:30:09.769197Z"
    },
    "papermill": {
     "duration": 1.034244,
     "end_time": "2021-12-05T02:30:09.769647",
     "exception": false,
     "start_time": "2021-12-05T02:30:08.735403",
     "status": "completed"
    },
    "tags": []
   },
   "outputs": [],
   "source": [
    "timestamps = pd.read_sql(\"select distinct record_time from EBAY_TOP_BERLIN order by record_time desc limit 2\", sqlite3.connect(\"UsedObjects.db\"))"
   ]
  },
  {
   "cell_type": "code",
   "execution_count": 3,
   "id": "periodic-identification",
   "metadata": {
    "execution": {
     "iopub.execute_input": "2021-12-05T02:30:09.841248Z",
     "iopub.status.busy": "2021-12-05T02:30:09.835822Z",
     "iopub.status.idle": "2021-12-05T02:30:09.857328Z",
     "shell.execute_reply": "2021-12-05T02:30:09.858634Z"
    },
    "papermill": {
     "duration": 0.069914,
     "end_time": "2021-12-05T02:30:09.859060",
     "exception": false,
     "start_time": "2021-12-05T02:30:09.789146",
     "status": "completed"
    },
    "tags": []
   },
   "outputs": [
    {
     "data": {
      "text/html": [
       "<div>\n",
       "<style scoped>\n",
       "    .dataframe tbody tr th:only-of-type {\n",
       "        vertical-align: middle;\n",
       "    }\n",
       "\n",
       "    .dataframe tbody tr th {\n",
       "        vertical-align: top;\n",
       "    }\n",
       "\n",
       "    .dataframe thead th {\n",
       "        text-align: right;\n",
       "    }\n",
       "</style>\n",
       "<table border=\"1\" class=\"dataframe\">\n",
       "  <thead>\n",
       "    <tr style=\"text-align: right;\">\n",
       "      <th></th>\n",
       "      <th>RECORD_TIME</th>\n",
       "    </tr>\n",
       "  </thead>\n",
       "  <tbody>\n",
       "    <tr>\n",
       "      <th>0</th>\n",
       "      <td>2021-12-05 03:30</td>\n",
       "    </tr>\n",
       "    <tr>\n",
       "      <th>1</th>\n",
       "      <td>2021-12-05 03:00</td>\n",
       "    </tr>\n",
       "  </tbody>\n",
       "</table>\n",
       "</div>"
      ],
      "text/plain": [
       "        RECORD_TIME\n",
       "0  2021-12-05 03:30\n",
       "1  2021-12-05 03:00"
      ]
     },
     "execution_count": 3,
     "metadata": {},
     "output_type": "execute_result"
    }
   ],
   "source": [
    "timestamps"
   ]
  },
  {
   "cell_type": "code",
   "execution_count": 4,
   "id": "alternate-victory",
   "metadata": {
    "execution": {
     "iopub.execute_input": "2021-12-05T02:30:09.914688Z",
     "iopub.status.busy": "2021-12-05T02:30:09.912337Z",
     "iopub.status.idle": "2021-12-05T02:30:11.365313Z",
     "shell.execute_reply": "2021-12-05T02:30:11.366768Z"
    },
    "papermill": {
     "duration": 1.486413,
     "end_time": "2021-12-05T02:30:11.367204",
     "exception": false,
     "start_time": "2021-12-05T02:30:09.880791",
     "status": "completed"
    },
    "tags": []
   },
   "outputs": [],
   "source": [
    "df = pd.read_sql(\"select * from EBAY_TOP_BERLIN where record_time in (select distinct record_time from EBAY_TOP_BERLIN order by record_time desc limit 2)\", sqlite3.connect(\"UsedObjects.db\"))"
   ]
  },
  {
   "cell_type": "code",
   "execution_count": 5,
   "id": "popular-active",
   "metadata": {
    "execution": {
     "iopub.execute_input": "2021-12-05T02:30:11.470979Z",
     "iopub.status.busy": "2021-12-05T02:30:11.459739Z",
     "iopub.status.idle": "2021-12-05T02:30:11.497574Z",
     "shell.execute_reply": "2021-12-05T02:30:11.499070Z"
    },
    "papermill": {
     "duration": 0.10783,
     "end_time": "2021-12-05T02:30:11.499556",
     "exception": false,
     "start_time": "2021-12-05T02:30:11.391726",
     "status": "completed"
    },
    "tags": []
   },
   "outputs": [],
   "source": [
    "df_pivot = df.pivot_table(index=\"PRODUCT\", columns = \"RECORD_TIME\", values = \"LISTING_COUNT\")"
   ]
  },
  {
   "cell_type": "code",
   "execution_count": 6,
   "id": "union-huntington",
   "metadata": {
    "execution": {
     "iopub.execute_input": "2021-12-05T02:30:11.563038Z",
     "iopub.status.busy": "2021-12-05T02:30:11.560888Z",
     "iopub.status.idle": "2021-12-05T02:30:11.566277Z",
     "shell.execute_reply": "2021-12-05T02:30:11.567553Z"
    },
    "papermill": {
     "duration": 0.046292,
     "end_time": "2021-12-05T02:30:11.568009",
     "exception": false,
     "start_time": "2021-12-05T02:30:11.521717",
     "status": "completed"
    },
    "tags": []
   },
   "outputs": [],
   "source": [
    "df_pivot.columns = [\"stamp_1\", \"stamp_2\"]\n",
    "df_pivot_diff = df_pivot.diff(axis=1)"
   ]
  },
  {
   "cell_type": "code",
   "execution_count": 7,
   "id": "fifth-motion",
   "metadata": {
    "execution": {
     "iopub.execute_input": "2021-12-05T02:30:11.624786Z",
     "iopub.status.busy": "2021-12-05T02:30:11.622389Z",
     "iopub.status.idle": "2021-12-05T02:30:13.524581Z",
     "shell.execute_reply": "2021-12-05T02:30:13.526504Z"
    },
    "papermill": {
     "duration": 1.938342,
     "end_time": "2021-12-05T02:30:13.527111",
     "exception": false,
     "start_time": "2021-12-05T02:30:11.588769",
     "status": "completed"
    },
    "tags": []
   },
   "outputs": [
    {
     "data": {
      "text/plain": [
       "<AxesSubplot:ylabel='PRODUCT'>"
      ]
     },
     "execution_count": 7,
     "metadata": {},
     "output_type": "execute_result"
    },
    {
     "data": {
      "image/png": "[encoded data removed]",
      "text/plain": [
       "<Figure size 432x288 with 1 Axes>"
      ]
     },
     "metadata": {
      "needs_background": "light"
     },
     "output_type": "display_data"
    }
   ],
   "source": [
    "df_pivot_diff.sort_values(\"stamp_2\", ascending = False)[\"stamp_2\"].head(10).plot.barh()"
   ]
  },
  {
   "cell_type": "code",
   "execution_count": null,
   "id": "extra-executive",
   "metadata": {
    "papermill": {
     "duration": 0.027187,
     "end_time": "2021-12-05T02:30:13.583849",
     "exception": false,
     "start_time": "2021-12-05T02:30:13.556662",
     "status": "completed"
    },
    "tags": []
   },
   "outputs": [],
   "source": []
  }
 ],
 "metadata": {
  "kernelspec": {
   "display_name": "Python 3",
   "language": "python",
   "name": "python3"
  },
  "language_info": {
   "codemirror_mode": {
    "name": "ipython",
    "version": 3
   },
   "file_extension": ".py",
   "mimetype": "text/x-python",
   "name": "python",
   "nbconvert_exporter": "python",
   "pygments_lexer": "ipython3",
   "version": "3.9.5"
  },
  "papermill": {
   "default_parameters": {},
   "duration": 10.016909,
   "end_time": "2021-12-05T02:30:14.905549",
   "environment_variables": {},
   "exception": null,
   "input_path": "eBay_Overview.ipynb",
   "output_path": "eBay_Overview.ipynb",
   "parameters": {},
   "start_time": "2021-12-05T02:30:04.888640",
   "version": "2.3.3"
  }
 },
 "nbformat": 4,
 "nbformat_minor": 5
}