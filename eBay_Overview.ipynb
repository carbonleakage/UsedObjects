{
 "cells": [
  {
   "cell_type": "code",
   "execution_count": 1,
   "id": "reverse-picking",
   "metadata": {
    "execution": {
     "iopub.execute_input": "2021-08-13T11:30:07.295901Z",
     "iopub.status.busy": "2021-08-13T11:30:07.293996Z",
     "iopub.status.idle": "2021-08-13T11:30:08.094118Z",
     "shell.execute_reply": "2021-08-13T11:30:08.095516Z"
    },
    "papermill": {
     "duration": 0.851816,
     "end_time": "2021-08-13T11:30:08.096197",
     "exception": false,
     "start_time": "2021-08-13T11:30:07.244381",
     "status": "completed"
    },
    "tags": []
   },
   "outputs": [],
   "source": [
    "import pandas as pd\n",
    "import sqlite3"
   ]
  },
  {
   "cell_type": "code",
   "execution_count": 2,
   "id": "innovative-syndrome",
   "metadata": {
    "execution": {
     "iopub.execute_input": "2021-08-13T11:30:08.146829Z",
     "iopub.status.busy": "2021-08-13T11:30:08.144435Z",
     "iopub.status.idle": "2021-08-13T11:30:08.186458Z",
     "shell.execute_reply": "2021-08-13T11:30:08.187627Z"
    },
    "papermill": {
     "duration": 0.071654,
     "end_time": "2021-08-13T11:30:08.188020",
     "exception": false,
     "start_time": "2021-08-13T11:30:08.116366",
     "status": "completed"
    },
    "tags": []
   },
   "outputs": [],
   "source": [
    "timestamps = pd.read_sql(\"select distinct record_time from EBAY_TOP_BERLIN order by record_time desc limit 2\", sqlite3.connect(\"UsedObjects.db\"))"
   ]
  },
  {
   "cell_type": "code",
   "execution_count": 3,
   "id": "periodic-identification",
   "metadata": {
    "execution": {
     "iopub.execute_input": "2021-08-13T11:30:08.255233Z",
     "iopub.status.busy": "2021-08-13T11:30:08.253260Z",
     "iopub.status.idle": "2021-08-13T11:30:08.273370Z",
     "shell.execute_reply": "2021-08-13T11:30:08.274581Z"
    },
    "papermill": {
     "duration": 0.06578,
     "end_time": "2021-08-13T11:30:08.275011",
     "exception": false,
     "start_time": "2021-08-13T11:30:08.209231",
     "status": "completed"
    },
    "tags": []
   },
   "outputs": [
    {
     "data": {
      "text/html": [
       "<div>\n",
       "<style scoped>\n",
       "    .dataframe tbody tr th:only-of-type {\n",
       "        vertical-align: middle;\n",
       "    }\n",
       "\n",
       "    .dataframe tbody tr th {\n",
       "        vertical-align: top;\n",
       "    }\n",
       "\n",
       "    .dataframe thead th {\n",
       "        text-align: right;\n",
       "    }\n",
       "</style>\n",
       "<table border=\"1\" class=\"dataframe\">\n",
       "  <thead>\n",
       "    <tr style=\"text-align: right;\">\n",
       "      <th></th>\n",
       "      <th>RECORD_TIME</th>\n",
       "    </tr>\n",
       "  </thead>\n",
       "  <tbody>\n",
       "    <tr>\n",
       "      <th>0</th>\n",
       "      <td>2021-08-13 13:30</td>\n",
       "    </tr>\n",
       "    <tr>\n",
       "      <th>1</th>\n",
       "      <td>2021-08-13 13:00</td>\n",
       "    </tr>\n",
       "  </tbody>\n",
       "</table>\n",
       "</div>"
      ],
      "text/plain": [
       "        RECORD_TIME\n",
       "0  2021-08-13 13:30\n",
       "1  2021-08-13 13:00"
      ]
     },
     "execution_count": 3,
     "metadata": {},
     "output_type": "execute_result"
    }
   ],
   "source": [
    "timestamps"
   ]
  },
  {
   "cell_type": "code",
   "execution_count": 4,
   "id": "alternate-victory",
   "metadata": {
    "execution": {
     "iopub.execute_input": "2021-08-13T11:30:08.327159Z",
     "iopub.status.busy": "2021-08-13T11:30:08.325326Z",
     "iopub.status.idle": "2021-08-13T11:30:08.383083Z",
     "shell.execute_reply": "2021-08-13T11:30:08.384272Z"
    },
    "papermill": {
     "duration": 0.087361,
     "end_time": "2021-08-13T11:30:08.384714",
     "exception": false,
     "start_time": "2021-08-13T11:30:08.297353",
     "status": "completed"
    },
    "tags": []
   },
   "outputs": [],
   "source": [
    "df = pd.read_sql(\"select * from EBAY_TOP_BERLIN where record_time in (select distinct record_time from EBAY_TOP_BERLIN order by record_time desc limit 2)\", sqlite3.connect(\"UsedObjects.db\"))"
   ]
  },
  {
   "cell_type": "code",
   "execution_count": 5,
   "id": "popular-active",
   "metadata": {
    "execution": {
     "iopub.execute_input": "2021-08-13T11:30:08.454225Z",
     "iopub.status.busy": "2021-08-13T11:30:08.441746Z",
     "iopub.status.idle": "2021-08-13T11:30:08.471284Z",
     "shell.execute_reply": "2021-08-13T11:30:08.472543Z"
    },
    "papermill": {
     "duration": 0.068182,
     "end_time": "2021-08-13T11:30:08.473018",
     "exception": false,
     "start_time": "2021-08-13T11:30:08.404836",
     "status": "completed"
    },
    "tags": []
   },
   "outputs": [],
   "source": [
    "df_pivot = df.pivot_table(index=\"PRODUCT\", columns = \"RECORD_TIME\", values = \"LISTING_COUNT\")"
   ]
  },
  {
   "cell_type": "code",
   "execution_count": 6,
   "id": "union-huntington",
   "metadata": {
    "execution": {
     "iopub.execute_input": "2021-08-13T11:30:08.528872Z",
     "iopub.status.busy": "2021-08-13T11:30:08.526777Z",
     "iopub.status.idle": "2021-08-13T11:30:08.532076Z",
     "shell.execute_reply": "2021-08-13T11:30:08.533400Z"
    },
    "papermill": {
     "duration": 0.041011,
     "end_time": "2021-08-13T11:30:08.533819",
     "exception": false,
     "start_time": "2021-08-13T11:30:08.492808",
     "status": "completed"
    },
    "tags": []
   },
   "outputs": [],
   "source": [
    "df_pivot.columns = [\"stamp_1\", \"stamp_2\"]\n",
    "df_pivot_diff = df_pivot.diff(axis=1)"
   ]
  },
  {
   "cell_type": "code",
   "execution_count": 7,
   "id": "fifth-motion",
   "metadata": {
    "execution": {
     "iopub.execute_input": "2021-08-13T11:30:08.587302Z",
     "iopub.status.busy": "2021-08-13T11:30:08.584953Z",
     "iopub.status.idle": "2021-08-13T11:30:10.108259Z",
     "shell.execute_reply": "2021-08-13T11:30:10.109586Z"
    },
    "papermill": {
     "duration": 1.55599,
     "end_time": "2021-08-13T11:30:10.110002",
     "exception": false,
     "start_time": "2021-08-13T11:30:08.554012",
     "status": "completed"
    },
    "tags": []
   },
   "outputs": [
    {
     "data": {
      "text/plain": [
       "<AxesSubplot:ylabel='PRODUCT'>"
      ]
     },
     "execution_count": 7,
     "metadata": {},
     "output_type": "execute_result"
    },
    {
     "data": {
      "image/png": "[encoded data removed]",
      "text/plain": [
       "<Figure size 432x288 with 1 Axes>"
      ]
     },
     "metadata": {
      "needs_background": "light"
     },
     "output_type": "display_data"
    }
   ],
   "source": [
    "df_pivot_diff.sort_values(\"stamp_2\", ascending = False)[\"stamp_2\"].head(10).plot.barh()"
   ]
  },
  {
   "cell_type": "code",
   "execution_count": null,
   "id": "extra-executive",
   "metadata": {
    "papermill": {
     "duration": 0.021893,
     "end_time": "2021-08-13T11:30:10.154926",
     "exception": false,
     "start_time": "2021-08-13T11:30:10.133033",
     "status": "completed"
    },
    "tags": []
   },
   "outputs": [],
   "source": []
  }
 ],
 "metadata": {
  "kernelspec": {
   "display_name": "Python 3",
   "language": "python",
   "name": "python3"
  },
  "language_info": {
   "codemirror_mode": {
    "name": "ipython",
    "version": 3
   },
   "file_extension": ".py",
   "mimetype": "text/x-python",
   "name": "python",
   "nbconvert_exporter": "python",
   "pygments_lexer": "ipython3",
   "version": "3.9.5"
  },
  "papermill": {
   "default_parameters": {},
   "duration": 6.821672,
   "end_time": "2021-08-13T11:30:11.667091",
   "environment_variables": {},
   "exception": null,
   "input_path": "eBay_Overview.ipynb",
   "output_path": "eBay_Overview.ipynb",
   "parameters": {},
   "start_time": "2021-08-13T11:30:04.845419",
   "version": "2.3.3"
  }
 },
 "nbformat": 4,
 "nbformat_minor": 5
}