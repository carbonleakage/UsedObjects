{
 "cells": [
  {
   "cell_type": "code",
   "execution_count": 1,
   "id": "reverse-picking",
   "metadata": {
    "execution": {
     "iopub.execute_input": "2021-11-28T00:30:07.209921Z",
     "iopub.status.busy": "2021-11-28T00:30:07.207515Z",
     "iopub.status.idle": "2021-11-28T00:30:08.123910Z",
     "shell.execute_reply": "2021-11-28T00:30:08.125602Z"
    },
    "papermill": {
     "duration": 0.968205,
     "end_time": "2021-11-28T00:30:08.126363",
     "exception": false,
     "start_time": "2021-11-28T00:30:07.158158",
     "status": "completed"
    },
    "tags": []
   },
   "outputs": [],
   "source": [
    "import pandas as pd\n",
    "import sqlite3"
   ]
  },
  {
   "cell_type": "code",
   "execution_count": 2,
   "id": "innovative-syndrome",
   "metadata": {
    "execution": {
     "iopub.execute_input": "2021-11-28T00:30:08.197707Z",
     "iopub.status.busy": "2021-11-28T00:30:08.195346Z",
     "iopub.status.idle": "2021-11-28T00:30:09.129918Z",
     "shell.execute_reply": "2021-11-28T00:30:09.131288Z"
    },
    "papermill": {
     "duration": 0.970967,
     "end_time": "2021-11-28T00:30:09.131755",
     "exception": false,
     "start_time": "2021-11-28T00:30:08.160788",
     "status": "completed"
    },
    "tags": []
   },
   "outputs": [],
   "source": [
    "timestamps = pd.read_sql(\"select distinct record_time from EBAY_TOP_BERLIN order by record_time desc limit 2\", sqlite3.connect(\"UsedObjects.db\"))"
   ]
  },
  {
   "cell_type": "code",
   "execution_count": 3,
   "id": "periodic-identification",
   "metadata": {
    "execution": {
     "iopub.execute_input": "2021-11-28T00:30:09.200532Z",
     "iopub.status.busy": "2021-11-28T00:30:09.198396Z",
     "iopub.status.idle": "2021-11-28T00:30:09.225814Z",
     "shell.execute_reply": "2021-11-28T00:30:09.227063Z"
    },
    "papermill": {
     "duration": 0.074505,
     "end_time": "2021-11-28T00:30:09.227451",
     "exception": false,
     "start_time": "2021-11-28T00:30:09.152946",
     "status": "completed"
    },
    "tags": []
   },
   "outputs": [
    {
     "data": {
      "text/html": [
       "<div>\n",
       "<style scoped>\n",
       "    .dataframe tbody tr th:only-of-type {\n",
       "        vertical-align: middle;\n",
       "    }\n",
       "\n",
       "    .dataframe tbody tr th {\n",
       "        vertical-align: top;\n",
       "    }\n",
       "\n",
       "    .dataframe thead th {\n",
       "        text-align: right;\n",
       "    }\n",
       "</style>\n",
       "<table border=\"1\" class=\"dataframe\">\n",
       "  <thead>\n",
       "    <tr style=\"text-align: right;\">\n",
       "      <th></th>\n",
       "      <th>RECORD_TIME</th>\n",
       "    </tr>\n",
       "  </thead>\n",
       "  <tbody>\n",
       "    <tr>\n",
       "      <th>0</th>\n",
       "      <td>2021-11-28 01:30</td>\n",
       "    </tr>\n",
       "    <tr>\n",
       "      <th>1</th>\n",
       "      <td>2021-11-28 01:00</td>\n",
       "    </tr>\n",
       "  </tbody>\n",
       "</table>\n",
       "</div>"
      ],
      "text/plain": [
       "        RECORD_TIME\n",
       "0  2021-11-28 01:30\n",
       "1  2021-11-28 01:00"
      ]
     },
     "execution_count": 3,
     "metadata": {},
     "output_type": "execute_result"
    }
   ],
   "source": [
    "timestamps"
   ]
  },
  {
   "cell_type": "code",
   "execution_count": 4,
   "id": "alternate-victory",
   "metadata": {
    "execution": {
     "iopub.execute_input": "2021-11-28T00:30:09.280804Z",
     "iopub.status.busy": "2021-11-28T00:30:09.278489Z",
     "iopub.status.idle": "2021-11-28T00:30:10.637560Z",
     "shell.execute_reply": "2021-11-28T00:30:10.639350Z"
    },
    "papermill": {
     "duration": 1.390366,
     "end_time": "2021-11-28T00:30:10.639810",
     "exception": false,
     "start_time": "2021-11-28T00:30:09.249444",
     "status": "completed"
    },
    "tags": []
   },
   "outputs": [],
   "source": [
    "df = pd.read_sql(\"select * from EBAY_TOP_BERLIN where record_time in (select distinct record_time from EBAY_TOP_BERLIN order by record_time desc limit 2)\", sqlite3.connect(\"UsedObjects.db\"))"
   ]
  },
  {
   "cell_type": "code",
   "execution_count": 5,
   "id": "popular-active",
   "metadata": {
    "execution": {
     "iopub.execute_input": "2021-11-28T00:30:10.713895Z",
     "iopub.status.busy": "2021-11-28T00:30:10.702141Z",
     "iopub.status.idle": "2021-11-28T00:30:10.732815Z",
     "shell.execute_reply": "2021-11-28T00:30:10.734163Z"
    },
    "papermill": {
     "duration": 0.07397,
     "end_time": "2021-11-28T00:30:10.734627",
     "exception": false,
     "start_time": "2021-11-28T00:30:10.660657",
     "status": "completed"
    },
    "tags": []
   },
   "outputs": [],
   "source": [
    "df_pivot = df.pivot_table(index=\"PRODUCT\", columns = \"RECORD_TIME\", values = \"LISTING_COUNT\")"
   ]
  },
  {
   "cell_type": "code",
   "execution_count": 6,
   "id": "union-huntington",
   "metadata": {
    "execution": {
     "iopub.execute_input": "2021-11-28T00:30:10.798612Z",
     "iopub.status.busy": "2021-11-28T00:30:10.796239Z",
     "iopub.status.idle": "2021-11-28T00:30:10.802335Z",
     "shell.execute_reply": "2021-11-28T00:30:10.803899Z"
    },
    "papermill": {
     "duration": 0.047797,
     "end_time": "2021-11-28T00:30:10.804419",
     "exception": false,
     "start_time": "2021-11-28T00:30:10.756622",
     "status": "completed"
    },
    "tags": []
   },
   "outputs": [],
   "source": [
    "df_pivot.columns = [\"stamp_1\", \"stamp_2\"]\n",
    "df_pivot_diff = df_pivot.diff(axis=1)"
   ]
  },
  {
   "cell_type": "code",
   "execution_count": 7,
   "id": "fifth-motion",
   "metadata": {
    "execution": {
     "iopub.execute_input": "2021-11-28T00:30:10.868038Z",
     "iopub.status.busy": "2021-11-28T00:30:10.865155Z",
     "iopub.status.idle": "2021-11-28T00:30:12.878245Z",
     "shell.execute_reply": "2021-11-28T00:30:12.881362Z"
    },
    "papermill": {
     "duration": 2.056088,
     "end_time": "2021-11-28T00:30:12.882343",
     "exception": false,
     "start_time": "2021-11-28T00:30:10.826255",
     "status": "completed"
    },
    "tags": []
   },
   "outputs": [
    {
     "data": {
      "text/plain": [
       "<AxesSubplot:ylabel='PRODUCT'>"
      ]
     },
     "execution_count": 7,
     "metadata": {},
     "output_type": "execute_result"
    },
    {
     "data": {
      "image/png": "[encoded data removed]",
      "text/plain": [
       "<Figure size 432x288 with 1 Axes>"
      ]
     },
     "metadata": {
      "needs_background": "light"
     },
     "output_type": "display_data"
    }
   ],
   "source": [
    "df_pivot_diff.sort_values(\"stamp_2\", ascending = False)[\"stamp_2\"].head(10).plot.barh()"
   ]
  },
  {
   "cell_type": "code",
   "execution_count": null,
   "id": "extra-executive",
   "metadata": {
    "papermill": {
     "duration": 0.035686,
     "end_time": "2021-11-28T00:30:12.955656",
     "exception": false,
     "start_time": "2021-11-28T00:30:12.919970",
     "status": "completed"
    },
    "tags": []
   },
   "outputs": [],
   "source": []
  }
 ],
 "metadata": {
  "kernelspec": {
   "display_name": "Python 3",
   "language": "python",
   "name": "python3"
  },
  "language_info": {
   "codemirror_mode": {
    "name": "ipython",
    "version": 3
   },
   "file_extension": ".py",
   "mimetype": "text/x-python",
   "name": "python",
   "nbconvert_exporter": "python",
   "pygments_lexer": "ipython3",
   "version": "3.9.5"
  },
  "papermill": {
   "default_parameters": {},
   "duration": 9.942788,
   "end_time": "2021-11-28T00:30:14.367854",
   "environment_variables": {},
   "exception": null,
   "input_path": "eBay_Overview.ipynb",
   "output_path": "eBay_Overview.ipynb",
   "parameters": {},
   "start_time": "2021-11-28T00:30:04.425066",
   "version": "2.3.3"
  }
 },
 "nbformat": 4,
 "nbformat_minor": 5
}