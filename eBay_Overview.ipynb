{
 "cells": [
  {
   "cell_type": "code",
   "execution_count": 1,
   "id": "reverse-picking",
   "metadata": {
    "execution": {
     "iopub.execute_input": "2021-09-17T05:00:06.648185Z",
     "iopub.status.busy": "2021-09-17T05:00:06.646227Z",
     "iopub.status.idle": "2021-09-17T05:00:07.447136Z",
     "shell.execute_reply": "2021-09-17T05:00:07.448466Z"
    },
    "papermill": {
     "duration": 0.851677,
     "end_time": "2021-09-17T05:00:07.449114",
     "exception": false,
     "start_time": "2021-09-17T05:00:06.597437",
     "status": "completed"
    },
    "tags": []
   },
   "outputs": [],
   "source": [
    "import pandas as pd\n",
    "import sqlite3"
   ]
  },
  {
   "cell_type": "code",
   "execution_count": 2,
   "id": "innovative-syndrome",
   "metadata": {
    "execution": {
     "iopub.execute_input": "2021-09-17T05:00:07.499271Z",
     "iopub.status.busy": "2021-09-17T05:00:07.497225Z",
     "iopub.status.idle": "2021-09-17T05:00:07.808397Z",
     "shell.execute_reply": "2021-09-17T05:00:07.809584Z"
    },
    "papermill": {
     "duration": 0.340849,
     "end_time": "2021-09-17T05:00:07.809982",
     "exception": false,
     "start_time": "2021-09-17T05:00:07.469133",
     "status": "completed"
    },
    "tags": []
   },
   "outputs": [],
   "source": [
    "timestamps = pd.read_sql(\"select distinct record_time from EBAY_TOP_BERLIN order by record_time desc limit 2\", sqlite3.connect(\"UsedObjects.db\"))"
   ]
  },
  {
   "cell_type": "code",
   "execution_count": 3,
   "id": "periodic-identification",
   "metadata": {
    "execution": {
     "iopub.execute_input": "2021-09-17T05:00:07.873850Z",
     "iopub.status.busy": "2021-09-17T05:00:07.871872Z",
     "iopub.status.idle": "2021-09-17T05:00:07.891811Z",
     "shell.execute_reply": "2021-09-17T05:00:07.893013Z"
    },
    "papermill": {
     "duration": 0.064176,
     "end_time": "2021-09-17T05:00:07.893442",
     "exception": false,
     "start_time": "2021-09-17T05:00:07.829266",
     "status": "completed"
    },
    "tags": []
   },
   "outputs": [
    {
     "data": {
      "text/html": [
       "<div>\n",
       "<style scoped>\n",
       "    .dataframe tbody tr th:only-of-type {\n",
       "        vertical-align: middle;\n",
       "    }\n",
       "\n",
       "    .dataframe tbody tr th {\n",
       "        vertical-align: top;\n",
       "    }\n",
       "\n",
       "    .dataframe thead th {\n",
       "        text-align: right;\n",
       "    }\n",
       "</style>\n",
       "<table border=\"1\" class=\"dataframe\">\n",
       "  <thead>\n",
       "    <tr style=\"text-align: right;\">\n",
       "      <th></th>\n",
       "      <th>RECORD_TIME</th>\n",
       "    </tr>\n",
       "  </thead>\n",
       "  <tbody>\n",
       "    <tr>\n",
       "      <th>0</th>\n",
       "      <td>2021-09-17 07:00</td>\n",
       "    </tr>\n",
       "    <tr>\n",
       "      <th>1</th>\n",
       "      <td>2021-09-17 06:30</td>\n",
       "    </tr>\n",
       "  </tbody>\n",
       "</table>\n",
       "</div>"
      ],
      "text/plain": [
       "        RECORD_TIME\n",
       "0  2021-09-17 07:00\n",
       "1  2021-09-17 06:30"
      ]
     },
     "execution_count": 3,
     "metadata": {},
     "output_type": "execute_result"
    }
   ],
   "source": [
    "timestamps"
   ]
  },
  {
   "cell_type": "code",
   "execution_count": 4,
   "id": "alternate-victory",
   "metadata": {
    "execution": {
     "iopub.execute_input": "2021-09-17T05:00:07.946963Z",
     "iopub.status.busy": "2021-09-17T05:00:07.944674Z",
     "iopub.status.idle": "2021-09-17T05:00:08.392390Z",
     "shell.execute_reply": "2021-09-17T05:00:08.391153Z"
    },
    "papermill": {
     "duration": 0.476711,
     "end_time": "2021-09-17T05:00:08.392735",
     "exception": false,
     "start_time": "2021-09-17T05:00:07.916024",
     "status": "completed"
    },
    "tags": []
   },
   "outputs": [],
   "source": [
    "df = pd.read_sql(\"select * from EBAY_TOP_BERLIN where record_time in (select distinct record_time from EBAY_TOP_BERLIN order by record_time desc limit 2)\", sqlite3.connect(\"UsedObjects.db\"))"
   ]
  },
  {
   "cell_type": "code",
   "execution_count": 5,
   "id": "popular-active",
   "metadata": {
    "execution": {
     "iopub.execute_input": "2021-09-17T05:00:08.473030Z",
     "iopub.status.busy": "2021-09-17T05:00:08.460953Z",
     "iopub.status.idle": "2021-09-17T05:00:08.489410Z",
     "shell.execute_reply": "2021-09-17T05:00:08.490689Z"
    },
    "papermill": {
     "duration": 0.070572,
     "end_time": "2021-09-17T05:00:08.491161",
     "exception": false,
     "start_time": "2021-09-17T05:00:08.420589",
     "status": "completed"
    },
    "tags": []
   },
   "outputs": [],
   "source": [
    "df_pivot = df.pivot_table(index=\"PRODUCT\", columns = \"RECORD_TIME\", values = \"LISTING_COUNT\")"
   ]
  },
  {
   "cell_type": "code",
   "execution_count": 6,
   "id": "union-huntington",
   "metadata": {
    "execution": {
     "iopub.execute_input": "2021-09-17T05:00:08.547660Z",
     "iopub.status.busy": "2021-09-17T05:00:08.545586Z",
     "iopub.status.idle": "2021-09-17T05:00:08.550838Z",
     "shell.execute_reply": "2021-09-17T05:00:08.552279Z"
    },
    "papermill": {
     "duration": 0.040823,
     "end_time": "2021-09-17T05:00:08.552717",
     "exception": false,
     "start_time": "2021-09-17T05:00:08.511894",
     "status": "completed"
    },
    "tags": []
   },
   "outputs": [],
   "source": [
    "df_pivot.columns = [\"stamp_1\", \"stamp_2\"]\n",
    "df_pivot_diff = df_pivot.diff(axis=1)"
   ]
  },
  {
   "cell_type": "code",
   "execution_count": 7,
   "id": "fifth-motion",
   "metadata": {
    "execution": {
     "iopub.execute_input": "2021-09-17T05:00:08.607518Z",
     "iopub.status.busy": "2021-09-17T05:00:08.605007Z",
     "iopub.status.idle": "2021-09-17T05:00:10.112078Z",
     "shell.execute_reply": "2021-09-17T05:00:10.113362Z"
    },
    "papermill": {
     "duration": 1.539802,
     "end_time": "2021-09-17T05:00:10.113779",
     "exception": false,
     "start_time": "2021-09-17T05:00:08.573977",
     "status": "completed"
    },
    "tags": []
   },
   "outputs": [
    {
     "data": {
      "text/plain": [
       "<AxesSubplot:ylabel='PRODUCT'>"
      ]
     },
     "execution_count": 7,
     "metadata": {},
     "output_type": "execute_result"
    },
    {
     "data": {
      "image/png": "[encoded data removed]",
      "text/plain": [
       "<Figure size 432x288 with 1 Axes>"
      ]
     },
     "metadata": {
      "needs_background": "light"
     },
     "output_type": "display_data"
    }
   ],
   "source": [
    "df_pivot_diff.sort_values(\"stamp_2\", ascending = False)[\"stamp_2\"].head(10).plot.barh()"
   ]
  },
  {
   "cell_type": "code",
   "execution_count": null,
   "id": "extra-executive",
   "metadata": {
    "papermill": {
     "duration": 0.022183,
     "end_time": "2021-09-17T05:00:10.159670",
     "exception": false,
     "start_time": "2021-09-17T05:00:10.137487",
     "status": "completed"
    },
    "tags": []
   },
   "outputs": [],
   "source": []
  }
 ],
 "metadata": {
  "kernelspec": {
   "display_name": "Python 3",
   "language": "python",
   "name": "python3"
  },
  "language_info": {
   "codemirror_mode": {
    "name": "ipython",
    "version": 3
   },
   "file_extension": ".py",
   "mimetype": "text/x-python",
   "name": "python",
   "nbconvert_exporter": "python",
   "pygments_lexer": "ipython3",
   "version": "3.9.5"
  },
  "papermill": {
   "default_parameters": {},
   "duration": 6.595316,
   "end_time": "2021-09-17T05:00:10.802020",
   "environment_variables": {},
   "exception": null,
   "input_path": "eBay_Overview.ipynb",
   "output_path": "eBay_Overview.ipynb",
   "parameters": {},
   "start_time": "2021-09-17T05:00:04.206704",
   "version": "2.3.3"
  }
 },
 "nbformat": 4,
 "nbformat_minor": 5
}