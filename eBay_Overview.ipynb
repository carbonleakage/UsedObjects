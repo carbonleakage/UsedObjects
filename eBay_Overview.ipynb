{
 "cells": [
  {
   "cell_type": "code",
   "execution_count": 1,
   "id": "reverse-picking",
   "metadata": {
    "execution": {
     "iopub.execute_input": "2021-09-28T14:30:07.436346Z",
     "iopub.status.busy": "2021-09-28T14:30:07.434339Z",
     "iopub.status.idle": "2021-09-28T14:30:08.245356Z",
     "shell.execute_reply": "2021-09-28T14:30:08.246677Z"
    },
    "papermill": {
     "duration": 0.861837,
     "end_time": "2021-09-28T14:30:08.247388",
     "exception": false,
     "start_time": "2021-09-28T14:30:07.385551",
     "status": "completed"
    },
    "tags": []
   },
   "outputs": [],
   "source": [
    "import pandas as pd\n",
    "import sqlite3"
   ]
  },
  {
   "cell_type": "code",
   "execution_count": 2,
   "id": "innovative-syndrome",
   "metadata": {
    "execution": {
     "iopub.execute_input": "2021-09-28T14:30:08.297989Z",
     "iopub.status.busy": "2021-09-28T14:30:08.295946Z",
     "iopub.status.idle": "2021-09-28T14:30:08.690973Z",
     "shell.execute_reply": "2021-09-28T14:30:08.692376Z"
    },
    "papermill": {
     "duration": 0.425361,
     "end_time": "2021-09-28T14:30:08.692806",
     "exception": false,
     "start_time": "2021-09-28T14:30:08.267445",
     "status": "completed"
    },
    "tags": []
   },
   "outputs": [],
   "source": [
    "timestamps = pd.read_sql(\"select distinct record_time from EBAY_TOP_BERLIN order by record_time desc limit 2\", sqlite3.connect(\"UsedObjects.db\"))"
   ]
  },
  {
   "cell_type": "code",
   "execution_count": 3,
   "id": "periodic-identification",
   "metadata": {
    "execution": {
     "iopub.execute_input": "2021-09-28T14:30:08.758196Z",
     "iopub.status.busy": "2021-09-28T14:30:08.755974Z",
     "iopub.status.idle": "2021-09-28T14:30:08.777128Z",
     "shell.execute_reply": "2021-09-28T14:30:08.778335Z"
    },
    "papermill": {
     "duration": 0.066544,
     "end_time": "2021-09-28T14:30:08.778731",
     "exception": false,
     "start_time": "2021-09-28T14:30:08.712187",
     "status": "completed"
    },
    "tags": []
   },
   "outputs": [
    {
     "data": {
      "text/html": [
       "<div>\n",
       "<style scoped>\n",
       "    .dataframe tbody tr th:only-of-type {\n",
       "        vertical-align: middle;\n",
       "    }\n",
       "\n",
       "    .dataframe tbody tr th {\n",
       "        vertical-align: top;\n",
       "    }\n",
       "\n",
       "    .dataframe thead th {\n",
       "        text-align: right;\n",
       "    }\n",
       "</style>\n",
       "<table border=\"1\" class=\"dataframe\">\n",
       "  <thead>\n",
       "    <tr style=\"text-align: right;\">\n",
       "      <th></th>\n",
       "      <th>RECORD_TIME</th>\n",
       "    </tr>\n",
       "  </thead>\n",
       "  <tbody>\n",
       "    <tr>\n",
       "      <th>0</th>\n",
       "      <td>2021-09-28 16:30</td>\n",
       "    </tr>\n",
       "    <tr>\n",
       "      <th>1</th>\n",
       "      <td>2021-09-28 16:00</td>\n",
       "    </tr>\n",
       "  </tbody>\n",
       "</table>\n",
       "</div>"
      ],
      "text/plain": [
       "        RECORD_TIME\n",
       "0  2021-09-28 16:30\n",
       "1  2021-09-28 16:00"
      ]
     },
     "execution_count": 3,
     "metadata": {},
     "output_type": "execute_result"
    }
   ],
   "source": [
    "timestamps"
   ]
  },
  {
   "cell_type": "code",
   "execution_count": 4,
   "id": "alternate-victory",
   "metadata": {
    "execution": {
     "iopub.execute_input": "2021-09-28T14:30:08.833590Z",
     "iopub.status.busy": "2021-09-28T14:30:08.831585Z",
     "iopub.status.idle": "2021-09-28T14:30:09.411433Z",
     "shell.execute_reply": "2021-09-28T14:30:09.412744Z"
    },
    "papermill": {
     "duration": 0.610281,
     "end_time": "2021-09-28T14:30:09.413148",
     "exception": false,
     "start_time": "2021-09-28T14:30:08.802867",
     "status": "completed"
    },
    "tags": []
   },
   "outputs": [],
   "source": [
    "df = pd.read_sql(\"select * from EBAY_TOP_BERLIN where record_time in (select distinct record_time from EBAY_TOP_BERLIN order by record_time desc limit 2)\", sqlite3.connect(\"UsedObjects.db\"))"
   ]
  },
  {
   "cell_type": "code",
   "execution_count": 5,
   "id": "popular-active",
   "metadata": {
    "execution": {
     "iopub.execute_input": "2021-09-28T14:30:09.492238Z",
     "iopub.status.busy": "2021-09-28T14:30:09.489847Z",
     "iopub.status.idle": "2021-09-28T14:30:09.507607Z",
     "shell.execute_reply": "2021-09-28T14:30:09.508976Z"
    },
    "papermill": {
     "duration": 0.070559,
     "end_time": "2021-09-28T14:30:09.509416",
     "exception": false,
     "start_time": "2021-09-28T14:30:09.438857",
     "status": "completed"
    },
    "tags": []
   },
   "outputs": [],
   "source": [
    "df_pivot = df.pivot_table(index=\"PRODUCT\", columns = \"RECORD_TIME\", values = \"LISTING_COUNT\")"
   ]
  },
  {
   "cell_type": "code",
   "execution_count": 6,
   "id": "union-huntington",
   "metadata": {
    "execution": {
     "iopub.execute_input": "2021-09-28T14:30:09.566627Z",
     "iopub.status.busy": "2021-09-28T14:30:09.564183Z",
     "iopub.status.idle": "2021-09-28T14:30:09.569815Z",
     "shell.execute_reply": "2021-09-28T14:30:09.571160Z"
    },
    "papermill": {
     "duration": 0.041967,
     "end_time": "2021-09-28T14:30:09.571583",
     "exception": false,
     "start_time": "2021-09-28T14:30:09.529616",
     "status": "completed"
    },
    "tags": []
   },
   "outputs": [],
   "source": [
    "df_pivot.columns = [\"stamp_1\", \"stamp_2\"]\n",
    "df_pivot_diff = df_pivot.diff(axis=1)"
   ]
  },
  {
   "cell_type": "code",
   "execution_count": 7,
   "id": "fifth-motion",
   "metadata": {
    "execution": {
     "iopub.execute_input": "2021-09-28T14:30:09.625670Z",
     "iopub.status.busy": "2021-09-28T14:30:09.623406Z",
     "iopub.status.idle": "2021-09-28T14:30:11.139008Z",
     "shell.execute_reply": "2021-09-28T14:30:11.140420Z"
    },
    "papermill": {
     "duration": 1.548854,
     "end_time": "2021-09-28T14:30:11.140861",
     "exception": false,
     "start_time": "2021-09-28T14:30:09.592007",
     "status": "completed"
    },
    "tags": []
   },
   "outputs": [
    {
     "data": {
      "text/plain": [
       "<AxesSubplot:ylabel='PRODUCT'>"
      ]
     },
     "execution_count": 7,
     "metadata": {},
     "output_type": "execute_result"
    },
    {
     "data": {
      "image/png": "[encoded data removed]",
      "text/plain": [
       "<Figure size 432x288 with 1 Axes>"
      ]
     },
     "metadata": {
      "needs_background": "light"
     },
     "output_type": "display_data"
    }
   ],
   "source": [
    "df_pivot_diff.sort_values(\"stamp_2\", ascending = False)[\"stamp_2\"].head(10).plot.barh()"
   ]
  },
  {
   "cell_type": "code",
   "execution_count": null,
   "id": "extra-executive",
   "metadata": {
    "papermill": {
     "duration": 0.021924,
     "end_time": "2021-09-28T14:30:11.186265",
     "exception": false,
     "start_time": "2021-09-28T14:30:11.164341",
     "status": "completed"
    },
    "tags": []
   },
   "outputs": [],
   "source": []
  }
 ],
 "metadata": {
  "kernelspec": {
   "display_name": "Python 3",
   "language": "python",
   "name": "python3"
  },
  "language_info": {
   "codemirror_mode": {
    "name": "ipython",
    "version": 3
   },
   "file_extension": ".py",
   "mimetype": "text/x-python",
   "name": "python",
   "nbconvert_exporter": "python",
   "pygments_lexer": "ipython3",
   "version": "3.9.5"
  },
  "papermill": {
   "default_parameters": {},
   "duration": 7.831241,
   "end_time": "2021-09-28T14:30:12.802285",
   "environment_variables": {},
   "exception": null,
   "input_path": "eBay_Overview.ipynb",
   "output_path": "eBay_Overview.ipynb",
   "parameters": {},
   "start_time": "2021-09-28T14:30:04.971044",
   "version": "2.3.3"
  }
 },
 "nbformat": 4,
 "nbformat_minor": 5
}