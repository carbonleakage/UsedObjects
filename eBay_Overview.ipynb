{
 "cells": [
  {
   "cell_type": "code",
   "execution_count": 1,
   "id": "reverse-picking",
   "metadata": {
    "execution": {
     "iopub.execute_input": "2021-08-27T17:30:07.048747Z",
     "iopub.status.busy": "2021-08-27T17:30:07.046730Z",
     "iopub.status.idle": "2021-08-27T17:30:07.849289Z",
     "shell.execute_reply": "2021-08-27T17:30:07.850740Z"
    },
    "papermill": {
     "duration": 0.85406,
     "end_time": "2021-08-27T17:30:07.851415",
     "exception": false,
     "start_time": "2021-08-27T17:30:06.997355",
     "status": "completed"
    },
    "tags": []
   },
   "outputs": [],
   "source": [
    "import pandas as pd\n",
    "import sqlite3"
   ]
  },
  {
   "cell_type": "code",
   "execution_count": 2,
   "id": "innovative-syndrome",
   "metadata": {
    "execution": {
     "iopub.execute_input": "2021-08-27T17:30:07.902652Z",
     "iopub.status.busy": "2021-08-27T17:30:07.900323Z",
     "iopub.status.idle": "2021-08-27T17:30:08.045087Z",
     "shell.execute_reply": "2021-08-27T17:30:08.046304Z"
    },
    "papermill": {
     "duration": 0.17481,
     "end_time": "2021-08-27T17:30:08.046707",
     "exception": false,
     "start_time": "2021-08-27T17:30:07.871897",
     "status": "completed"
    },
    "tags": []
   },
   "outputs": [],
   "source": [
    "timestamps = pd.read_sql(\"select distinct record_time from EBAY_TOP_BERLIN order by record_time desc limit 2\", sqlite3.connect(\"UsedObjects.db\"))"
   ]
  },
  {
   "cell_type": "code",
   "execution_count": 3,
   "id": "periodic-identification",
   "metadata": {
    "execution": {
     "iopub.execute_input": "2021-08-27T17:30:08.111340Z",
     "iopub.status.busy": "2021-08-27T17:30:08.109355Z",
     "iopub.status.idle": "2021-08-27T17:30:08.129112Z",
     "shell.execute_reply": "2021-08-27T17:30:08.130422Z"
    },
    "papermill": {
     "duration": 0.063217,
     "end_time": "2021-08-27T17:30:08.130841",
     "exception": false,
     "start_time": "2021-08-27T17:30:08.067624",
     "status": "completed"
    },
    "tags": []
   },
   "outputs": [
    {
     "data": {
      "text/html": [
       "<div>\n",
       "<style scoped>\n",
       "    .dataframe tbody tr th:only-of-type {\n",
       "        vertical-align: middle;\n",
       "    }\n",
       "\n",
       "    .dataframe tbody tr th {\n",
       "        vertical-align: top;\n",
       "    }\n",
       "\n",
       "    .dataframe thead th {\n",
       "        text-align: right;\n",
       "    }\n",
       "</style>\n",
       "<table border=\"1\" class=\"dataframe\">\n",
       "  <thead>\n",
       "    <tr style=\"text-align: right;\">\n",
       "      <th></th>\n",
       "      <th>RECORD_TIME</th>\n",
       "    </tr>\n",
       "  </thead>\n",
       "  <tbody>\n",
       "    <tr>\n",
       "      <th>0</th>\n",
       "      <td>2021-08-27 19:30</td>\n",
       "    </tr>\n",
       "    <tr>\n",
       "      <th>1</th>\n",
       "      <td>2021-08-27 19:00</td>\n",
       "    </tr>\n",
       "  </tbody>\n",
       "</table>\n",
       "</div>"
      ],
      "text/plain": [
       "        RECORD_TIME\n",
       "0  2021-08-27 19:30\n",
       "1  2021-08-27 19:00"
      ]
     },
     "execution_count": 3,
     "metadata": {},
     "output_type": "execute_result"
    }
   ],
   "source": [
    "timestamps"
   ]
  },
  {
   "cell_type": "code",
   "execution_count": 4,
   "id": "alternate-victory",
   "metadata": {
    "execution": {
     "iopub.execute_input": "2021-08-27T17:30:08.183091Z",
     "iopub.status.busy": "2021-08-27T17:30:08.180831Z",
     "iopub.status.idle": "2021-08-27T17:30:08.396688Z",
     "shell.execute_reply": "2021-08-27T17:30:08.398189Z"
    },
    "papermill": {
     "duration": 0.246485,
     "end_time": "2021-08-27T17:30:08.398636",
     "exception": false,
     "start_time": "2021-08-27T17:30:08.152151",
     "status": "completed"
    },
    "tags": []
   },
   "outputs": [],
   "source": [
    "df = pd.read_sql(\"select * from EBAY_TOP_BERLIN where record_time in (select distinct record_time from EBAY_TOP_BERLIN order by record_time desc limit 2)\", sqlite3.connect(\"UsedObjects.db\"))"
   ]
  },
  {
   "cell_type": "code",
   "execution_count": 5,
   "id": "popular-active",
   "metadata": {
    "execution": {
     "iopub.execute_input": "2021-08-27T17:30:08.463654Z",
     "iopub.status.busy": "2021-08-27T17:30:08.457474Z",
     "iopub.status.idle": "2021-08-27T17:30:08.485442Z",
     "shell.execute_reply": "2021-08-27T17:30:08.486723Z"
    },
    "papermill": {
     "duration": 0.067611,
     "end_time": "2021-08-27T17:30:08.487181",
     "exception": false,
     "start_time": "2021-08-27T17:30:08.419570",
     "status": "completed"
    },
    "tags": []
   },
   "outputs": [],
   "source": [
    "df_pivot = df.pivot_table(index=\"PRODUCT\", columns = \"RECORD_TIME\", values = \"LISTING_COUNT\")"
   ]
  },
  {
   "cell_type": "code",
   "execution_count": 6,
   "id": "union-huntington",
   "metadata": {
    "execution": {
     "iopub.execute_input": "2021-08-27T17:30:08.551646Z",
     "iopub.status.busy": "2021-08-27T17:30:08.549382Z",
     "iopub.status.idle": "2021-08-27T17:30:08.555353Z",
     "shell.execute_reply": "2021-08-27T17:30:08.557002Z"
    },
    "papermill": {
     "duration": 0.044976,
     "end_time": "2021-08-27T17:30:08.557506",
     "exception": false,
     "start_time": "2021-08-27T17:30:08.512530",
     "status": "completed"
    },
    "tags": []
   },
   "outputs": [],
   "source": [
    "df_pivot.columns = [\"stamp_1\", \"stamp_2\"]\n",
    "df_pivot_diff = df_pivot.diff(axis=1)"
   ]
  },
  {
   "cell_type": "code",
   "execution_count": 7,
   "id": "fifth-motion",
   "metadata": {
    "execution": {
     "iopub.execute_input": "2021-08-27T17:30:08.612401Z",
     "iopub.status.busy": "2021-08-27T17:30:08.610043Z",
     "iopub.status.idle": "2021-08-27T17:30:10.077226Z",
     "shell.execute_reply": "2021-08-27T17:30:10.078658Z"
    },
    "papermill": {
     "duration": 1.500073,
     "end_time": "2021-08-27T17:30:10.079110",
     "exception": false,
     "start_time": "2021-08-27T17:30:08.579037",
     "status": "completed"
    },
    "tags": []
   },
   "outputs": [
    {
     "data": {
      "text/plain": [
       "<AxesSubplot:ylabel='PRODUCT'>"
      ]
     },
     "execution_count": 7,
     "metadata": {},
     "output_type": "execute_result"
    },
    {
     "data": {
      "image/png": "[encoded data removed]",
      "text/plain": [
       "<Figure size 432x288 with 1 Axes>"
      ]
     },
     "metadata": {
      "needs_background": "light"
     },
     "output_type": "display_data"
    }
   ],
   "source": [
    "df_pivot_diff.sort_values(\"stamp_2\", ascending = False)[\"stamp_2\"].head(10).plot.barh()"
   ]
  },
  {
   "cell_type": "code",
   "execution_count": null,
   "id": "extra-executive",
   "metadata": {
    "papermill": {
     "duration": 0.022289,
     "end_time": "2021-08-27T17:30:10.125878",
     "exception": false,
     "start_time": "2021-08-27T17:30:10.103589",
     "status": "completed"
    },
    "tags": []
   },
   "outputs": [],
   "source": []
  }
 ],
 "metadata": {
  "kernelspec": {
   "display_name": "Python 3",
   "language": "python",
   "name": "python3"
  },
  "language_info": {
   "codemirror_mode": {
    "name": "ipython",
    "version": 3
   },
   "file_extension": ".py",
   "mimetype": "text/x-python",
   "name": "python",
   "nbconvert_exporter": "python",
   "pygments_lexer": "ipython3",
   "version": "3.9.5"
  },
  "papermill": {
   "default_parameters": {},
   "duration": 6.829033,
   "end_time": "2021-08-27T17:30:11.439529",
   "environment_variables": {},
   "exception": null,
   "input_path": "eBay_Overview.ipynb",
   "output_path": "eBay_Overview.ipynb",
   "parameters": {},
   "start_time": "2021-08-27T17:30:04.610496",
   "version": "2.3.3"
  }
 },
 "nbformat": 4,
 "nbformat_minor": 5
}