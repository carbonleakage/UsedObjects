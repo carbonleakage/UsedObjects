{
 "cells": [
  {
   "cell_type": "code",
   "execution_count": 1,
   "id": "reverse-picking",
   "metadata": {
    "execution": {
     "iopub.execute_input": "2021-10-30T03:30:07.073252Z",
     "iopub.status.busy": "2021-10-30T03:30:07.071186Z",
     "iopub.status.idle": "2021-10-30T03:30:07.879369Z",
     "shell.execute_reply": "2021-10-30T03:30:07.877797Z"
    },
    "papermill": {
     "duration": 0.857808,
     "end_time": "2021-10-30T03:30:07.879756",
     "exception": false,
     "start_time": "2021-10-30T03:30:07.021948",
     "status": "completed"
    },
    "tags": []
   },
   "outputs": [],
   "source": [
    "import pandas as pd\n",
    "import sqlite3"
   ]
  },
  {
   "cell_type": "code",
   "execution_count": 2,
   "id": "innovative-syndrome",
   "metadata": {
    "execution": {
     "iopub.execute_input": "2021-10-30T03:30:07.929934Z",
     "iopub.status.busy": "2021-10-30T03:30:07.927959Z",
     "iopub.status.idle": "2021-10-30T03:30:08.582619Z",
     "shell.execute_reply": "2021-10-30T03:30:08.583819Z"
    },
    "papermill": {
     "duration": 0.68382,
     "end_time": "2021-10-30T03:30:08.584209",
     "exception": false,
     "start_time": "2021-10-30T03:30:07.900389",
     "status": "completed"
    },
    "tags": []
   },
   "outputs": [],
   "source": [
    "timestamps = pd.read_sql(\"select distinct record_time from EBAY_TOP_BERLIN order by record_time desc limit 2\", sqlite3.connect(\"UsedObjects.db\"))"
   ]
  },
  {
   "cell_type": "code",
   "execution_count": 3,
   "id": "periodic-identification",
   "metadata": {
    "execution": {
     "iopub.execute_input": "2021-10-30T03:30:08.723803Z",
     "iopub.status.busy": "2021-10-30T03:30:08.721794Z",
     "iopub.status.idle": "2021-10-30T03:30:08.743939Z",
     "shell.execute_reply": "2021-10-30T03:30:08.745625Z"
    },
    "papermill": {
     "duration": 0.074584,
     "end_time": "2021-10-30T03:30:08.746130",
     "exception": false,
     "start_time": "2021-10-30T03:30:08.671546",
     "status": "completed"
    },
    "tags": []
   },
   "outputs": [
    {
     "data": {
      "text/html": [
       "<div>\n",
       "<style scoped>\n",
       "    .dataframe tbody tr th:only-of-type {\n",
       "        vertical-align: middle;\n",
       "    }\n",
       "\n",
       "    .dataframe tbody tr th {\n",
       "        vertical-align: top;\n",
       "    }\n",
       "\n",
       "    .dataframe thead th {\n",
       "        text-align: right;\n",
       "    }\n",
       "</style>\n",
       "<table border=\"1\" class=\"dataframe\">\n",
       "  <thead>\n",
       "    <tr style=\"text-align: right;\">\n",
       "      <th></th>\n",
       "      <th>RECORD_TIME</th>\n",
       "    </tr>\n",
       "  </thead>\n",
       "  <tbody>\n",
       "    <tr>\n",
       "      <th>0</th>\n",
       "      <td>2021-10-30 05:30</td>\n",
       "    </tr>\n",
       "    <tr>\n",
       "      <th>1</th>\n",
       "      <td>2021-10-30 05:00</td>\n",
       "    </tr>\n",
       "  </tbody>\n",
       "</table>\n",
       "</div>"
      ],
      "text/plain": [
       "        RECORD_TIME\n",
       "0  2021-10-30 05:30\n",
       "1  2021-10-30 05:00"
      ]
     },
     "execution_count": 3,
     "metadata": {},
     "output_type": "execute_result"
    }
   ],
   "source": [
    "timestamps"
   ]
  },
  {
   "cell_type": "code",
   "execution_count": 4,
   "id": "alternate-victory",
   "metadata": {
    "execution": {
     "iopub.execute_input": "2021-10-30T03:30:08.798213Z",
     "iopub.status.busy": "2021-10-30T03:30:08.796281Z",
     "iopub.status.idle": "2021-10-30T03:30:09.780796Z",
     "shell.execute_reply": "2021-10-30T03:30:09.782323Z"
    },
    "papermill": {
     "duration": 1.014599,
     "end_time": "2021-10-30T03:30:09.782764",
     "exception": false,
     "start_time": "2021-10-30T03:30:08.768165",
     "status": "completed"
    },
    "tags": []
   },
   "outputs": [],
   "source": [
    "df = pd.read_sql(\"select * from EBAY_TOP_BERLIN where record_time in (select distinct record_time from EBAY_TOP_BERLIN order by record_time desc limit 2)\", sqlite3.connect(\"UsedObjects.db\"))"
   ]
  },
  {
   "cell_type": "code",
   "execution_count": 5,
   "id": "popular-active",
   "metadata": {
    "execution": {
     "iopub.execute_input": "2021-10-30T03:30:09.853801Z",
     "iopub.status.busy": "2021-10-30T03:30:09.841986Z",
     "iopub.status.idle": "2021-10-30T03:30:09.869352Z",
     "shell.execute_reply": "2021-10-30T03:30:09.870574Z"
    },
    "papermill": {
     "duration": 0.067327,
     "end_time": "2021-10-30T03:30:09.870962",
     "exception": false,
     "start_time": "2021-10-30T03:30:09.803635",
     "status": "completed"
    },
    "tags": []
   },
   "outputs": [],
   "source": [
    "df_pivot = df.pivot_table(index=\"PRODUCT\", columns = \"RECORD_TIME\", values = \"LISTING_COUNT\")"
   ]
  },
  {
   "cell_type": "code",
   "execution_count": 6,
   "id": "union-huntington",
   "metadata": {
    "execution": {
     "iopub.execute_input": "2021-10-30T03:30:09.928384Z",
     "iopub.status.busy": "2021-10-30T03:30:09.926123Z",
     "iopub.status.idle": "2021-10-30T03:30:09.932171Z",
     "shell.execute_reply": "2021-10-30T03:30:09.933503Z"
    },
    "papermill": {
     "duration": 0.04164,
     "end_time": "2021-10-30T03:30:09.933916",
     "exception": false,
     "start_time": "2021-10-30T03:30:09.892276",
     "status": "completed"
    },
    "tags": []
   },
   "outputs": [],
   "source": [
    "df_pivot.columns = [\"stamp_1\", \"stamp_2\"]\n",
    "df_pivot_diff = df_pivot.diff(axis=1)"
   ]
  },
  {
   "cell_type": "code",
   "execution_count": 7,
   "id": "fifth-motion",
   "metadata": {
    "execution": {
     "iopub.execute_input": "2021-10-30T03:30:09.987342Z",
     "iopub.status.busy": "2021-10-30T03:30:09.985106Z",
     "iopub.status.idle": "2021-10-30T03:30:11.495308Z",
     "shell.execute_reply": "2021-10-30T03:30:11.496592Z"
    },
    "papermill": {
     "duration": 1.543334,
     "end_time": "2021-10-30T03:30:11.497087",
     "exception": false,
     "start_time": "2021-10-30T03:30:09.953753",
     "status": "completed"
    },
    "tags": []
   },
   "outputs": [
    {
     "data": {
      "text/plain": [
       "<AxesSubplot:ylabel='PRODUCT'>"
      ]
     },
     "execution_count": 7,
     "metadata": {},
     "output_type": "execute_result"
    },
    {
     "data": {
      "image/png": "[encoded data removed]",
      "text/plain": [
       "<Figure size 432x288 with 1 Axes>"
      ]
     },
     "metadata": {
      "needs_background": "light"
     },
     "output_type": "display_data"
    }
   ],
   "source": [
    "df_pivot_diff.sort_values(\"stamp_2\", ascending = False)[\"stamp_2\"].head(10).plot.barh()"
   ]
  },
  {
   "cell_type": "code",
   "execution_count": null,
   "id": "extra-executive",
   "metadata": {
    "papermill": {
     "duration": 0.021928,
     "end_time": "2021-10-30T03:30:11.543782",
     "exception": false,
     "start_time": "2021-10-30T03:30:11.521854",
     "status": "completed"
    },
    "tags": []
   },
   "outputs": [],
   "source": []
  }
 ],
 "metadata": {
  "kernelspec": {
   "display_name": "Python 3",
   "language": "python",
   "name": "python3"
  },
  "language_info": {
   "codemirror_mode": {
    "name": "ipython",
    "version": 3
   },
   "file_extension": ".py",
   "mimetype": "text/x-python",
   "name": "python",
   "nbconvert_exporter": "python",
   "pygments_lexer": "ipython3",
   "version": "3.9.5"
  },
  "papermill": {
   "default_parameters": {},
   "duration": 7.570229,
   "end_time": "2021-10-30T03:30:12.187699",
   "environment_variables": {},
   "exception": null,
   "input_path": "eBay_Overview.ipynb",
   "output_path": "eBay_Overview.ipynb",
   "parameters": {},
   "start_time": "2021-10-30T03:30:04.617470",
   "version": "2.3.3"
  }
 },
 "nbformat": 4,
 "nbformat_minor": 5
}