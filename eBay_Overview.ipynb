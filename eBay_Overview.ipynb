{
 "cells": [
  {
   "cell_type": "code",
   "execution_count": 1,
   "id": "reverse-picking",
   "metadata": {
    "execution": {
     "iopub.execute_input": "2021-10-22T12:00:07.537006Z",
     "iopub.status.busy": "2021-10-22T12:00:07.534394Z",
     "iopub.status.idle": "2021-10-22T12:00:08.341443Z",
     "shell.execute_reply": "2021-10-22T12:00:08.342874Z"
    },
    "papermill": {
     "duration": 0.859441,
     "end_time": "2021-10-22T12:00:08.343558",
     "exception": false,
     "start_time": "2021-10-22T12:00:07.484117",
     "status": "completed"
    },
    "tags": []
   },
   "outputs": [],
   "source": [
    "import pandas as pd\n",
    "import sqlite3"
   ]
  },
  {
   "cell_type": "code",
   "execution_count": 2,
   "id": "innovative-syndrome",
   "metadata": {
    "execution": {
     "iopub.execute_input": "2021-10-22T12:00:08.394399Z",
     "iopub.status.busy": "2021-10-22T12:00:08.392016Z",
     "iopub.status.idle": "2021-10-22T12:00:09.002889Z",
     "shell.execute_reply": "2021-10-22T12:00:09.004138Z"
    },
    "papermill": {
     "duration": 0.640756,
     "end_time": "2021-10-22T12:00:09.004548",
     "exception": false,
     "start_time": "2021-10-22T12:00:08.363792",
     "status": "completed"
    },
    "tags": []
   },
   "outputs": [],
   "source": [
    "timestamps = pd.read_sql(\"select distinct record_time from EBAY_TOP_BERLIN order by record_time desc limit 2\", sqlite3.connect(\"UsedObjects.db\"))"
   ]
  },
  {
   "cell_type": "code",
   "execution_count": 3,
   "id": "periodic-identification",
   "metadata": {
    "execution": {
     "iopub.execute_input": "2021-10-22T12:00:09.079729Z",
     "iopub.status.busy": "2021-10-22T12:00:09.077733Z",
     "iopub.status.idle": "2021-10-22T12:00:09.097389Z",
     "shell.execute_reply": "2021-10-22T12:00:09.098574Z"
    },
    "papermill": {
     "duration": 0.068611,
     "end_time": "2021-10-22T12:00:09.098996",
     "exception": false,
     "start_time": "2021-10-22T12:00:09.030385",
     "status": "completed"
    },
    "tags": []
   },
   "outputs": [
    {
     "data": {
      "text/html": [
       "<div>\n",
       "<style scoped>\n",
       "    .dataframe tbody tr th:only-of-type {\n",
       "        vertical-align: middle;\n",
       "    }\n",
       "\n",
       "    .dataframe tbody tr th {\n",
       "        vertical-align: top;\n",
       "    }\n",
       "\n",
       "    .dataframe thead th {\n",
       "        text-align: right;\n",
       "    }\n",
       "</style>\n",
       "<table border=\"1\" class=\"dataframe\">\n",
       "  <thead>\n",
       "    <tr style=\"text-align: right;\">\n",
       "      <th></th>\n",
       "      <th>RECORD_TIME</th>\n",
       "    </tr>\n",
       "  </thead>\n",
       "  <tbody>\n",
       "    <tr>\n",
       "      <th>0</th>\n",
       "      <td>2021-10-22 14:00</td>\n",
       "    </tr>\n",
       "    <tr>\n",
       "      <th>1</th>\n",
       "      <td>2021-10-22 13:30</td>\n",
       "    </tr>\n",
       "  </tbody>\n",
       "</table>\n",
       "</div>"
      ],
      "text/plain": [
       "        RECORD_TIME\n",
       "0  2021-10-22 14:00\n",
       "1  2021-10-22 13:30"
      ]
     },
     "execution_count": 3,
     "metadata": {},
     "output_type": "execute_result"
    }
   ],
   "source": [
    "timestamps"
   ]
  },
  {
   "cell_type": "code",
   "execution_count": 4,
   "id": "alternate-victory",
   "metadata": {
    "execution": {
     "iopub.execute_input": "2021-10-22T12:00:09.150004Z",
     "iopub.status.busy": "2021-10-22T12:00:09.148030Z",
     "iopub.status.idle": "2021-10-22T12:00:10.047029Z",
     "shell.execute_reply": "2021-10-22T12:00:10.048222Z"
    },
    "papermill": {
     "duration": 0.928702,
     "end_time": "2021-10-22T12:00:10.048616",
     "exception": false,
     "start_time": "2021-10-22T12:00:09.119914",
     "status": "completed"
    },
    "tags": []
   },
   "outputs": [],
   "source": [
    "df = pd.read_sql(\"select * from EBAY_TOP_BERLIN where record_time in (select distinct record_time from EBAY_TOP_BERLIN order by record_time desc limit 2)\", sqlite3.connect(\"UsedObjects.db\"))"
   ]
  },
  {
   "cell_type": "code",
   "execution_count": 5,
   "id": "popular-active",
   "metadata": {
    "execution": {
     "iopub.execute_input": "2021-10-22T12:00:10.117170Z",
     "iopub.status.busy": "2021-10-22T12:00:10.109878Z",
     "iopub.status.idle": "2021-10-22T12:00:10.137164Z",
     "shell.execute_reply": "2021-10-22T12:00:10.138368Z"
    },
    "papermill": {
     "duration": 0.067339,
     "end_time": "2021-10-22T12:00:10.138755",
     "exception": false,
     "start_time": "2021-10-22T12:00:10.071416",
     "status": "completed"
    },
    "tags": []
   },
   "outputs": [],
   "source": [
    "df_pivot = df.pivot_table(index=\"PRODUCT\", columns = \"RECORD_TIME\", values = \"LISTING_COUNT\")"
   ]
  },
  {
   "cell_type": "code",
   "execution_count": 6,
   "id": "union-huntington",
   "metadata": {
    "execution": {
     "iopub.execute_input": "2021-10-22T12:00:10.196045Z",
     "iopub.status.busy": "2021-10-22T12:00:10.193798Z",
     "iopub.status.idle": "2021-10-22T12:00:10.199637Z",
     "shell.execute_reply": "2021-10-22T12:00:10.201041Z"
    },
    "papermill": {
     "duration": 0.041455,
     "end_time": "2021-10-22T12:00:10.201521",
     "exception": false,
     "start_time": "2021-10-22T12:00:10.160066",
     "status": "completed"
    },
    "tags": []
   },
   "outputs": [],
   "source": [
    "df_pivot.columns = [\"stamp_1\", \"stamp_2\"]\n",
    "df_pivot_diff = df_pivot.diff(axis=1)"
   ]
  },
  {
   "cell_type": "code",
   "execution_count": 7,
   "id": "fifth-motion",
   "metadata": {
    "execution": {
     "iopub.execute_input": "2021-10-22T12:00:10.255681Z",
     "iopub.status.busy": "2021-10-22T12:00:10.253436Z",
     "iopub.status.idle": "2021-10-22T12:00:11.730010Z",
     "shell.execute_reply": "2021-10-22T12:00:11.731412Z"
    },
    "papermill": {
     "duration": 1.509459,
     "end_time": "2021-10-22T12:00:11.731848",
     "exception": false,
     "start_time": "2021-10-22T12:00:10.222389",
     "status": "completed"
    },
    "tags": []
   },
   "outputs": [
    {
     "data": {
      "text/plain": [
       "<AxesSubplot:ylabel='PRODUCT'>"
      ]
     },
     "execution_count": 7,
     "metadata": {},
     "output_type": "execute_result"
    },
    {
     "data": {
      "image/png": "[encoded data removed]",
      "text/plain": [
       "<Figure size 432x288 with 1 Axes>"
      ]
     },
     "metadata": {
      "needs_background": "light"
     },
     "output_type": "display_data"
    }
   ],
   "source": [
    "df_pivot_diff.sort_values(\"stamp_2\", ascending = False)[\"stamp_2\"].head(10).plot.barh()"
   ]
  },
  {
   "cell_type": "code",
   "execution_count": null,
   "id": "extra-executive",
   "metadata": {
    "papermill": {
     "duration": 0.021687,
     "end_time": "2021-10-22T12:00:11.776795",
     "exception": false,
     "start_time": "2021-10-22T12:00:11.755108",
     "status": "completed"
    },
    "tags": []
   },
   "outputs": [],
   "source": []
  }
 ],
 "metadata": {
  "kernelspec": {
   "display_name": "Python 3",
   "language": "python",
   "name": "python3"
  },
  "language_info": {
   "codemirror_mode": {
    "name": "ipython",
    "version": 3
   },
   "file_extension": ".py",
   "mimetype": "text/x-python",
   "name": "python",
   "nbconvert_exporter": "python",
   "pygments_lexer": "ipython3",
   "version": "3.9.5"
  },
  "papermill": {
   "default_parameters": {},
   "duration": 7.33517,
   "end_time": "2021-10-22T12:00:12.419337",
   "environment_variables": {},
   "exception": null,
   "input_path": "eBay_Overview.ipynb",
   "output_path": "eBay_Overview.ipynb",
   "parameters": {},
   "start_time": "2021-10-22T12:00:05.084167",
   "version": "2.3.3"
  }
 },
 "nbformat": 4,
 "nbformat_minor": 5
}