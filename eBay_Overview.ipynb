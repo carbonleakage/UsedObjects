{
 "cells": [
  {
   "cell_type": "code",
   "execution_count": 1,
   "id": "reverse-picking",
   "metadata": {
    "execution": {
     "iopub.execute_input": "2021-11-21T03:00:08.011127Z",
     "iopub.status.busy": "2021-11-21T03:00:08.005440Z",
     "iopub.status.idle": "2021-11-21T03:00:08.963758Z",
     "shell.execute_reply": "2021-11-21T03:00:08.965349Z"
    },
    "papermill": {
     "duration": 1.002428,
     "end_time": "2021-11-21T03:00:08.966099",
     "exception": false,
     "start_time": "2021-11-21T03:00:07.963671",
     "status": "completed"
    },
    "tags": []
   },
   "outputs": [],
   "source": [
    "import pandas as pd\n",
    "import sqlite3"
   ]
  },
  {
   "cell_type": "code",
   "execution_count": 2,
   "id": "innovative-syndrome",
   "metadata": {
    "execution": {
     "iopub.execute_input": "2021-11-21T03:00:09.031676Z",
     "iopub.status.busy": "2021-11-21T03:00:09.029385Z",
     "iopub.status.idle": "2021-11-21T03:00:09.908651Z",
     "shell.execute_reply": "2021-11-21T03:00:09.910216Z"
    },
    "papermill": {
     "duration": 0.913666,
     "end_time": "2021-11-21T03:00:09.910709",
     "exception": false,
     "start_time": "2021-11-21T03:00:08.997043",
     "status": "completed"
    },
    "tags": []
   },
   "outputs": [],
   "source": [
    "timestamps = pd.read_sql(\"select distinct record_time from EBAY_TOP_BERLIN order by record_time desc limit 2\", sqlite3.connect(\"UsedObjects.db\"))"
   ]
  },
  {
   "cell_type": "code",
   "execution_count": 3,
   "id": "periodic-identification",
   "metadata": {
    "execution": {
     "iopub.execute_input": "2021-11-21T03:00:09.980486Z",
     "iopub.status.busy": "2021-11-21T03:00:09.978147Z",
     "iopub.status.idle": "2021-11-21T03:00:09.999701Z",
     "shell.execute_reply": "2021-11-21T03:00:10.001202Z"
    },
    "papermill": {
     "duration": 0.071093,
     "end_time": "2021-11-21T03:00:10.001672",
     "exception": false,
     "start_time": "2021-11-21T03:00:09.930579",
     "status": "completed"
    },
    "tags": []
   },
   "outputs": [
    {
     "data": {
      "text/html": [
       "<div>\n",
       "<style scoped>\n",
       "    .dataframe tbody tr th:only-of-type {\n",
       "        vertical-align: middle;\n",
       "    }\n",
       "\n",
       "    .dataframe tbody tr th {\n",
       "        vertical-align: top;\n",
       "    }\n",
       "\n",
       "    .dataframe thead th {\n",
       "        text-align: right;\n",
       "    }\n",
       "</style>\n",
       "<table border=\"1\" class=\"dataframe\">\n",
       "  <thead>\n",
       "    <tr style=\"text-align: right;\">\n",
       "      <th></th>\n",
       "      <th>RECORD_TIME</th>\n",
       "    </tr>\n",
       "  </thead>\n",
       "  <tbody>\n",
       "    <tr>\n",
       "      <th>0</th>\n",
       "      <td>2021-11-21 04:00</td>\n",
       "    </tr>\n",
       "    <tr>\n",
       "      <th>1</th>\n",
       "      <td>2021-11-21 03:30</td>\n",
       "    </tr>\n",
       "  </tbody>\n",
       "</table>\n",
       "</div>"
      ],
      "text/plain": [
       "        RECORD_TIME\n",
       "0  2021-11-21 04:00\n",
       "1  2021-11-21 03:30"
      ]
     },
     "execution_count": 3,
     "metadata": {},
     "output_type": "execute_result"
    }
   ],
   "source": [
    "timestamps"
   ]
  },
  {
   "cell_type": "code",
   "execution_count": 4,
   "id": "alternate-victory",
   "metadata": {
    "execution": {
     "iopub.execute_input": "2021-11-21T03:00:10.055779Z",
     "iopub.status.busy": "2021-11-21T03:00:10.053558Z",
     "iopub.status.idle": "2021-11-21T03:00:11.352445Z",
     "shell.execute_reply": "2021-11-21T03:00:11.354177Z"
    },
    "papermill": {
     "duration": 1.33262,
     "end_time": "2021-11-21T03:00:11.354682",
     "exception": false,
     "start_time": "2021-11-21T03:00:10.022062",
     "status": "completed"
    },
    "tags": []
   },
   "outputs": [],
   "source": [
    "df = pd.read_sql(\"select * from EBAY_TOP_BERLIN where record_time in (select distinct record_time from EBAY_TOP_BERLIN order by record_time desc limit 2)\", sqlite3.connect(\"UsedObjects.db\"))"
   ]
  },
  {
   "cell_type": "code",
   "execution_count": 5,
   "id": "popular-active",
   "metadata": {
    "execution": {
     "iopub.execute_input": "2021-11-21T03:00:11.436244Z",
     "iopub.status.busy": "2021-11-21T03:00:11.427463Z",
     "iopub.status.idle": "2021-11-21T03:00:11.454509Z",
     "shell.execute_reply": "2021-11-21T03:00:11.455908Z"
    },
    "papermill": {
     "duration": 0.080034,
     "end_time": "2021-11-21T03:00:11.456355",
     "exception": false,
     "start_time": "2021-11-21T03:00:11.376321",
     "status": "completed"
    },
    "tags": []
   },
   "outputs": [],
   "source": [
    "df_pivot = df.pivot_table(index=\"PRODUCT\", columns = \"RECORD_TIME\", values = \"LISTING_COUNT\")"
   ]
  },
  {
   "cell_type": "code",
   "execution_count": 6,
   "id": "union-huntington",
   "metadata": {
    "execution": {
     "iopub.execute_input": "2021-11-21T03:00:11.515867Z",
     "iopub.status.busy": "2021-11-21T03:00:11.513692Z",
     "iopub.status.idle": "2021-11-21T03:00:11.518875Z",
     "shell.execute_reply": "2021-11-21T03:00:11.520212Z"
    },
    "papermill": {
     "duration": 0.043593,
     "end_time": "2021-11-21T03:00:11.520676",
     "exception": false,
     "start_time": "2021-11-21T03:00:11.477083",
     "status": "completed"
    },
    "tags": []
   },
   "outputs": [],
   "source": [
    "df_pivot.columns = [\"stamp_1\", \"stamp_2\"]\n",
    "df_pivot_diff = df_pivot.diff(axis=1)"
   ]
  },
  {
   "cell_type": "code",
   "execution_count": 7,
   "id": "fifth-motion",
   "metadata": {
    "execution": {
     "iopub.execute_input": "2021-11-21T03:00:11.581377Z",
     "iopub.status.busy": "2021-11-21T03:00:11.578718Z",
     "iopub.status.idle": "2021-11-21T03:00:13.339994Z",
     "shell.execute_reply": "2021-11-21T03:00:13.343155Z"
    },
    "papermill": {
     "duration": 1.802165,
     "end_time": "2021-11-21T03:00:13.344046",
     "exception": false,
     "start_time": "2021-11-21T03:00:11.541881",
     "status": "completed"
    },
    "tags": []
   },
   "outputs": [
    {
     "data": {
      "text/plain": [
       "<AxesSubplot:ylabel='PRODUCT'>"
      ]
     },
     "execution_count": 7,
     "metadata": {},
     "output_type": "execute_result"
    },
    {
     "data": {
      "image/png": "[encoded data removed]",
      "text/plain": [
       "<Figure size 432x288 with 1 Axes>"
      ]
     },
     "metadata": {
      "needs_background": "light"
     },
     "output_type": "display_data"
    }
   ],
   "source": [
    "df_pivot_diff.sort_values(\"stamp_2\", ascending = False)[\"stamp_2\"].head(10).plot.barh()"
   ]
  },
  {
   "cell_type": "code",
   "execution_count": null,
   "id": "extra-executive",
   "metadata": {
    "papermill": {
     "duration": 0.035359,
     "end_time": "2021-11-21T03:00:13.417778",
     "exception": false,
     "start_time": "2021-11-21T03:00:13.382419",
     "status": "completed"
    },
    "tags": []
   },
   "outputs": [],
   "source": []
  }
 ],
 "metadata": {
  "kernelspec": {
   "display_name": "Python 3",
   "language": "python",
   "name": "python3"
  },
  "language_info": {
   "codemirror_mode": {
    "name": "ipython",
    "version": 3
   },
   "file_extension": ".py",
   "mimetype": "text/x-python",
   "name": "python",
   "nbconvert_exporter": "python",
   "pygments_lexer": "ipython3",
   "version": "3.9.5"
  },
  "papermill": {
   "default_parameters": {},
   "duration": 10.008996,
   "end_time": "2021-11-21T03:00:15.157441",
   "environment_variables": {},
   "exception": null,
   "input_path": "eBay_Overview.ipynb",
   "output_path": "eBay_Overview.ipynb",
   "parameters": {},
   "start_time": "2021-11-21T03:00:05.148445",
   "version": "2.3.3"
  }
 },
 "nbformat": 4,
 "nbformat_minor": 5
}