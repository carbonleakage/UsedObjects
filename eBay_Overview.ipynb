{
 "cells": [
  {
   "cell_type": "code",
   "execution_count": 1,
   "id": "reverse-picking",
   "metadata": {
    "execution": {
     "iopub.execute_input": "2021-11-13T10:30:07.767334Z",
     "iopub.status.busy": "2021-11-13T10:30:07.764992Z",
     "iopub.status.idle": "2021-11-13T10:30:08.724291Z",
     "shell.execute_reply": "2021-11-13T10:30:08.725973Z"
    },
    "papermill": {
     "duration": 1.008778,
     "end_time": "2021-11-13T10:30:08.726699",
     "exception": false,
     "start_time": "2021-11-13T10:30:07.717921",
     "status": "completed"
    },
    "tags": []
   },
   "outputs": [],
   "source": [
    "import pandas as pd\n",
    "import sqlite3"
   ]
  },
  {
   "cell_type": "code",
   "execution_count": 2,
   "id": "innovative-syndrome",
   "metadata": {
    "execution": {
     "iopub.execute_input": "2021-11-13T10:30:08.790201Z",
     "iopub.status.busy": "2021-11-13T10:30:08.787850Z",
     "iopub.status.idle": "2021-11-13T10:30:09.607237Z",
     "shell.execute_reply": "2021-11-13T10:30:09.608517Z"
    },
    "papermill": {
     "duration": 0.852991,
     "end_time": "2021-11-13T10:30:09.609006",
     "exception": false,
     "start_time": "2021-11-13T10:30:08.756015",
     "status": "completed"
    },
    "tags": []
   },
   "outputs": [],
   "source": [
    "timestamps = pd.read_sql(\"select distinct record_time from EBAY_TOP_BERLIN order by record_time desc limit 2\", sqlite3.connect(\"UsedObjects.db\"))"
   ]
  },
  {
   "cell_type": "code",
   "execution_count": 3,
   "id": "periodic-identification",
   "metadata": {
    "execution": {
     "iopub.execute_input": "2021-11-13T10:30:09.672474Z",
     "iopub.status.busy": "2021-11-13T10:30:09.670907Z",
     "iopub.status.idle": "2021-11-13T10:30:09.693847Z",
     "shell.execute_reply": "2021-11-13T10:30:09.695125Z"
    },
    "papermill": {
     "duration": 0.066093,
     "end_time": "2021-11-13T10:30:09.695531",
     "exception": false,
     "start_time": "2021-11-13T10:30:09.629438",
     "status": "completed"
    },
    "tags": []
   },
   "outputs": [
    {
     "data": {
      "text/html": [
       "<div>\n",
       "<style scoped>\n",
       "    .dataframe tbody tr th:only-of-type {\n",
       "        vertical-align: middle;\n",
       "    }\n",
       "\n",
       "    .dataframe tbody tr th {\n",
       "        vertical-align: top;\n",
       "    }\n",
       "\n",
       "    .dataframe thead th {\n",
       "        text-align: right;\n",
       "    }\n",
       "</style>\n",
       "<table border=\"1\" class=\"dataframe\">\n",
       "  <thead>\n",
       "    <tr style=\"text-align: right;\">\n",
       "      <th></th>\n",
       "      <th>RECORD_TIME</th>\n",
       "    </tr>\n",
       "  </thead>\n",
       "  <tbody>\n",
       "    <tr>\n",
       "      <th>0</th>\n",
       "      <td>2021-11-13 11:30</td>\n",
       "    </tr>\n",
       "    <tr>\n",
       "      <th>1</th>\n",
       "      <td>2021-11-13 11:00</td>\n",
       "    </tr>\n",
       "  </tbody>\n",
       "</table>\n",
       "</div>"
      ],
      "text/plain": [
       "        RECORD_TIME\n",
       "0  2021-11-13 11:30\n",
       "1  2021-11-13 11:00"
      ]
     },
     "execution_count": 3,
     "metadata": {},
     "output_type": "execute_result"
    }
   ],
   "source": [
    "timestamps"
   ]
  },
  {
   "cell_type": "code",
   "execution_count": 4,
   "id": "alternate-victory",
   "metadata": {
    "execution": {
     "iopub.execute_input": "2021-11-13T10:30:09.747293Z",
     "iopub.status.busy": "2021-11-13T10:30:09.744990Z",
     "iopub.status.idle": "2021-11-13T10:30:10.889314Z",
     "shell.execute_reply": "2021-11-13T10:30:10.890874Z"
    },
    "papermill": {
     "duration": 1.174781,
     "end_time": "2021-11-13T10:30:10.891384",
     "exception": false,
     "start_time": "2021-11-13T10:30:09.716603",
     "status": "completed"
    },
    "tags": []
   },
   "outputs": [],
   "source": [
    "df = pd.read_sql(\"select * from EBAY_TOP_BERLIN where record_time in (select distinct record_time from EBAY_TOP_BERLIN order by record_time desc limit 2)\", sqlite3.connect(\"UsedObjects.db\"))"
   ]
  },
  {
   "cell_type": "code",
   "execution_count": 5,
   "id": "popular-active",
   "metadata": {
    "execution": {
     "iopub.execute_input": "2021-11-13T10:30:10.970690Z",
     "iopub.status.busy": "2021-11-13T10:30:10.955992Z",
     "iopub.status.idle": "2021-11-13T10:30:10.988608Z",
     "shell.execute_reply": "2021-11-13T10:30:10.990072Z"
    },
    "papermill": {
     "duration": 0.077544,
     "end_time": "2021-11-13T10:30:10.990549",
     "exception": false,
     "start_time": "2021-11-13T10:30:10.913005",
     "status": "completed"
    },
    "tags": []
   },
   "outputs": [],
   "source": [
    "df_pivot = df.pivot_table(index=\"PRODUCT\", columns = \"RECORD_TIME\", values = \"LISTING_COUNT\")"
   ]
  },
  {
   "cell_type": "code",
   "execution_count": 6,
   "id": "union-huntington",
   "metadata": {
    "execution": {
     "iopub.execute_input": "2021-11-13T10:30:11.047968Z",
     "iopub.status.busy": "2021-11-13T10:30:11.045793Z",
     "iopub.status.idle": "2021-11-13T10:30:11.051747Z",
     "shell.execute_reply": "2021-11-13T10:30:11.053198Z"
    },
    "papermill": {
     "duration": 0.043412,
     "end_time": "2021-11-13T10:30:11.053686",
     "exception": false,
     "start_time": "2021-11-13T10:30:11.010274",
     "status": "completed"
    },
    "tags": []
   },
   "outputs": [],
   "source": [
    "df_pivot.columns = [\"stamp_1\", \"stamp_2\"]\n",
    "df_pivot_diff = df_pivot.diff(axis=1)"
   ]
  },
  {
   "cell_type": "code",
   "execution_count": 7,
   "id": "fifth-motion",
   "metadata": {
    "execution": {
     "iopub.execute_input": "2021-11-13T10:30:11.113091Z",
     "iopub.status.busy": "2021-11-13T10:30:11.110349Z",
     "iopub.status.idle": "2021-11-13T10:30:12.995288Z",
     "shell.execute_reply": "2021-11-13T10:30:12.997378Z"
    },
    "papermill": {
     "duration": 1.924242,
     "end_time": "2021-11-13T10:30:12.998132",
     "exception": false,
     "start_time": "2021-11-13T10:30:11.073890",
     "status": "completed"
    },
    "tags": []
   },
   "outputs": [
    {
     "data": {
      "text/plain": [
       "<AxesSubplot:ylabel='PRODUCT'>"
      ]
     },
     "execution_count": 7,
     "metadata": {},
     "output_type": "execute_result"
    },
    {
     "data": {
      "image/png": "[encoded data removed]",
      "text/plain": [
       "<Figure size 432x288 with 1 Axes>"
      ]
     },
     "metadata": {
      "needs_background": "light"
     },
     "output_type": "display_data"
    }
   ],
   "source": [
    "df_pivot_diff.sort_values(\"stamp_2\", ascending = False)[\"stamp_2\"].head(10).plot.barh()"
   ]
  },
  {
   "cell_type": "code",
   "execution_count": null,
   "id": "extra-executive",
   "metadata": {
    "papermill": {
     "duration": 0.035726,
     "end_time": "2021-11-13T10:30:13.072009",
     "exception": false,
     "start_time": "2021-11-13T10:30:13.036283",
     "status": "completed"
    },
    "tags": []
   },
   "outputs": [],
   "source": []
  }
 ],
 "metadata": {
  "kernelspec": {
   "display_name": "Python 3",
   "language": "python",
   "name": "python3"
  },
  "language_info": {
   "codemirror_mode": {
    "name": "ipython",
    "version": 3
   },
   "file_extension": ".py",
   "mimetype": "text/x-python",
   "name": "python",
   "nbconvert_exporter": "python",
   "pygments_lexer": "ipython3",
   "version": "3.9.5"
  },
  "papermill": {
   "default_parameters": {},
   "duration": 8.846218,
   "end_time": "2021-11-13T10:30:13.840612",
   "environment_variables": {},
   "exception": null,
   "input_path": "eBay_Overview.ipynb",
   "output_path": "eBay_Overview.ipynb",
   "parameters": {},
   "start_time": "2021-11-13T10:30:04.994394",
   "version": "2.3.3"
  }
 },
 "nbformat": 4,
 "nbformat_minor": 5
}