{
 "cells": [
  {
   "cell_type": "code",
   "execution_count": 1,
   "id": "reverse-picking",
   "metadata": {
    "execution": {
     "iopub.execute_input": "2021-09-14T13:30:08.084487Z",
     "iopub.status.busy": "2021-09-14T13:30:08.082431Z",
     "iopub.status.idle": "2021-09-14T13:30:08.885541Z",
     "shell.execute_reply": "2021-09-14T13:30:08.886913Z"
    },
    "papermill": {
     "duration": 0.855025,
     "end_time": "2021-09-14T13:30:08.887587",
     "exception": false,
     "start_time": "2021-09-14T13:30:08.032562",
     "status": "completed"
    },
    "tags": []
   },
   "outputs": [],
   "source": [
    "import pandas as pd\n",
    "import sqlite3"
   ]
  },
  {
   "cell_type": "code",
   "execution_count": 2,
   "id": "innovative-syndrome",
   "metadata": {
    "execution": {
     "iopub.execute_input": "2021-09-14T13:30:08.938979Z",
     "iopub.status.busy": "2021-09-14T13:30:08.936957Z",
     "iopub.status.idle": "2021-09-14T13:30:09.226085Z",
     "shell.execute_reply": "2021-09-14T13:30:09.227430Z"
    },
    "papermill": {
     "duration": 0.319194,
     "end_time": "2021-09-14T13:30:09.227861",
     "exception": false,
     "start_time": "2021-09-14T13:30:08.908667",
     "status": "completed"
    },
    "tags": []
   },
   "outputs": [],
   "source": [
    "timestamps = pd.read_sql(\"select distinct record_time from EBAY_TOP_BERLIN order by record_time desc limit 2\", sqlite3.connect(\"UsedObjects.db\"))"
   ]
  },
  {
   "cell_type": "code",
   "execution_count": 3,
   "id": "periodic-identification",
   "metadata": {
    "execution": {
     "iopub.execute_input": "2021-09-14T13:30:09.291244Z",
     "iopub.status.busy": "2021-09-14T13:30:09.289148Z",
     "iopub.status.idle": "2021-09-14T13:30:09.308925Z",
     "shell.execute_reply": "2021-09-14T13:30:09.310138Z"
    },
    "papermill": {
     "duration": 0.063259,
     "end_time": "2021-09-14T13:30:09.310531",
     "exception": false,
     "start_time": "2021-09-14T13:30:09.247272",
     "status": "completed"
    },
    "tags": []
   },
   "outputs": [
    {
     "data": {
      "text/html": [
       "<div>\n",
       "<style scoped>\n",
       "    .dataframe tbody tr th:only-of-type {\n",
       "        vertical-align: middle;\n",
       "    }\n",
       "\n",
       "    .dataframe tbody tr th {\n",
       "        vertical-align: top;\n",
       "    }\n",
       "\n",
       "    .dataframe thead th {\n",
       "        text-align: right;\n",
       "    }\n",
       "</style>\n",
       "<table border=\"1\" class=\"dataframe\">\n",
       "  <thead>\n",
       "    <tr style=\"text-align: right;\">\n",
       "      <th></th>\n",
       "      <th>RECORD_TIME</th>\n",
       "    </tr>\n",
       "  </thead>\n",
       "  <tbody>\n",
       "    <tr>\n",
       "      <th>0</th>\n",
       "      <td>2021-09-14 15:30</td>\n",
       "    </tr>\n",
       "    <tr>\n",
       "      <th>1</th>\n",
       "      <td>2021-09-14 15:00</td>\n",
       "    </tr>\n",
       "  </tbody>\n",
       "</table>\n",
       "</div>"
      ],
      "text/plain": [
       "        RECORD_TIME\n",
       "0  2021-09-14 15:30\n",
       "1  2021-09-14 15:00"
      ]
     },
     "execution_count": 3,
     "metadata": {},
     "output_type": "execute_result"
    }
   ],
   "source": [
    "timestamps"
   ]
  },
  {
   "cell_type": "code",
   "execution_count": 4,
   "id": "alternate-victory",
   "metadata": {
    "execution": {
     "iopub.execute_input": "2021-09-14T13:30:09.364925Z",
     "iopub.status.busy": "2021-09-14T13:30:09.362555Z",
     "iopub.status.idle": "2021-09-14T13:30:09.787915Z",
     "shell.execute_reply": "2021-09-14T13:30:09.789194Z"
    },
    "papermill": {
     "duration": 0.455751,
     "end_time": "2021-09-14T13:30:09.789590",
     "exception": false,
     "start_time": "2021-09-14T13:30:09.333839",
     "status": "completed"
    },
    "tags": []
   },
   "outputs": [],
   "source": [
    "df = pd.read_sql(\"select * from EBAY_TOP_BERLIN where record_time in (select distinct record_time from EBAY_TOP_BERLIN order by record_time desc limit 2)\", sqlite3.connect(\"UsedObjects.db\"))"
   ]
  },
  {
   "cell_type": "code",
   "execution_count": 5,
   "id": "popular-active",
   "metadata": {
    "execution": {
     "iopub.execute_input": "2021-09-14T13:30:09.861118Z",
     "iopub.status.busy": "2021-09-14T13:30:09.848437Z",
     "iopub.status.idle": "2021-09-14T13:30:09.876907Z",
     "shell.execute_reply": "2021-09-14T13:30:09.878194Z"
    },
    "papermill": {
     "duration": 0.068408,
     "end_time": "2021-09-14T13:30:09.878601",
     "exception": false,
     "start_time": "2021-09-14T13:30:09.810193",
     "status": "completed"
    },
    "tags": []
   },
   "outputs": [],
   "source": [
    "df_pivot = df.pivot_table(index=\"PRODUCT\", columns = \"RECORD_TIME\", values = \"LISTING_COUNT\")"
   ]
  },
  {
   "cell_type": "code",
   "execution_count": 6,
   "id": "union-huntington",
   "metadata": {
    "execution": {
     "iopub.execute_input": "2021-09-14T13:30:09.933733Z",
     "iopub.status.busy": "2021-09-14T13:30:09.931685Z",
     "iopub.status.idle": "2021-09-14T13:30:09.936952Z",
     "shell.execute_reply": "2021-09-14T13:30:09.938216Z"
    },
    "papermill": {
     "duration": 0.039918,
     "end_time": "2021-09-14T13:30:09.938629",
     "exception": false,
     "start_time": "2021-09-14T13:30:09.898711",
     "status": "completed"
    },
    "tags": []
   },
   "outputs": [],
   "source": [
    "df_pivot.columns = [\"stamp_1\", \"stamp_2\"]\n",
    "df_pivot_diff = df_pivot.diff(axis=1)"
   ]
  },
  {
   "cell_type": "code",
   "execution_count": 7,
   "id": "fifth-motion",
   "metadata": {
    "execution": {
     "iopub.execute_input": "2021-09-14T13:30:09.993080Z",
     "iopub.status.busy": "2021-09-14T13:30:09.990506Z",
     "iopub.status.idle": "2021-09-14T13:30:11.463488Z",
     "shell.execute_reply": "2021-09-14T13:30:11.464807Z"
    },
    "papermill": {
     "duration": 1.506263,
     "end_time": "2021-09-14T13:30:11.465244",
     "exception": false,
     "start_time": "2021-09-14T13:30:09.958981",
     "status": "completed"
    },
    "tags": []
   },
   "outputs": [
    {
     "data": {
      "text/plain": [
       "<AxesSubplot:ylabel='PRODUCT'>"
      ]
     },
     "execution_count": 7,
     "metadata": {},
     "output_type": "execute_result"
    },
    {
     "data": {
      "image/png": "[encoded data removed]",
      "text/plain": [
       "<Figure size 432x288 with 1 Axes>"
      ]
     },
     "metadata": {
      "needs_background": "light"
     },
     "output_type": "display_data"
    }
   ],
   "source": [
    "df_pivot_diff.sort_values(\"stamp_2\", ascending = False)[\"stamp_2\"].head(10).plot.barh()"
   ]
  },
  {
   "cell_type": "code",
   "execution_count": null,
   "id": "extra-executive",
   "metadata": {
    "papermill": {
     "duration": 0.022141,
     "end_time": "2021-09-14T13:30:11.512202",
     "exception": false,
     "start_time": "2021-09-14T13:30:11.490061",
     "status": "completed"
    },
    "tags": []
   },
   "outputs": [],
   "source": []
  }
 ],
 "metadata": {
  "kernelspec": {
   "display_name": "Python 3",
   "language": "python",
   "name": "python3"
  },
  "language_info": {
   "codemirror_mode": {
    "name": "ipython",
    "version": 3
   },
   "file_extension": ".py",
   "mimetype": "text/x-python",
   "name": "python",
   "nbconvert_exporter": "python",
   "pygments_lexer": "ipython3",
   "version": "3.9.5"
  },
  "papermill": {
   "default_parameters": {},
   "duration": 6.5278,
   "end_time": "2021-09-14T13:30:12.154914",
   "environment_variables": {},
   "exception": null,
   "input_path": "eBay_Overview.ipynb",
   "output_path": "eBay_Overview.ipynb",
   "parameters": {},
   "start_time": "2021-09-14T13:30:05.627114",
   "version": "2.3.3"
  }
 },
 "nbformat": 4,
 "nbformat_minor": 5
}