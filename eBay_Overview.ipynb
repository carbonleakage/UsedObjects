{
 "cells": [
  {
   "cell_type": "code",
   "execution_count": 1,
   "id": "reverse-picking",
   "metadata": {
    "execution": {
     "iopub.execute_input": "2021-11-29T20:30:07.858891Z",
     "iopub.status.busy": "2021-11-29T20:30:07.856378Z",
     "iopub.status.idle": "2021-11-29T20:30:08.805113Z",
     "shell.execute_reply": "2021-11-29T20:30:08.806719Z"
    },
    "papermill": {
     "duration": 0.998678,
     "end_time": "2021-11-29T20:30:08.807468",
     "exception": false,
     "start_time": "2021-11-29T20:30:07.808790",
     "status": "completed"
    },
    "tags": []
   },
   "outputs": [],
   "source": [
    "import pandas as pd\n",
    "import sqlite3"
   ]
  },
  {
   "cell_type": "code",
   "execution_count": 2,
   "id": "innovative-syndrome",
   "metadata": {
    "execution": {
     "iopub.execute_input": "2021-11-29T20:30:08.917430Z",
     "iopub.status.busy": "2021-11-29T20:30:08.915259Z",
     "iopub.status.idle": "2021-11-29T20:30:09.861158Z",
     "shell.execute_reply": "2021-11-29T20:30:09.862694Z"
    },
    "papermill": {
     "duration": 0.981377,
     "end_time": "2021-11-29T20:30:09.863153",
     "exception": false,
     "start_time": "2021-11-29T20:30:08.881776",
     "status": "completed"
    },
    "tags": []
   },
   "outputs": [],
   "source": [
    "timestamps = pd.read_sql(\"select distinct record_time from EBAY_TOP_BERLIN order by record_time desc limit 2\", sqlite3.connect(\"UsedObjects.db\"))"
   ]
  },
  {
   "cell_type": "code",
   "execution_count": 3,
   "id": "periodic-identification",
   "metadata": {
    "execution": {
     "iopub.execute_input": "2021-11-29T20:30:09.930771Z",
     "iopub.status.busy": "2021-11-29T20:30:09.928728Z",
     "iopub.status.idle": "2021-11-29T20:30:09.950698Z",
     "shell.execute_reply": "2021-11-29T20:30:09.952191Z"
    },
    "papermill": {
     "duration": 0.069595,
     "end_time": "2021-11-29T20:30:09.952870",
     "exception": false,
     "start_time": "2021-11-29T20:30:09.883275",
     "status": "completed"
    },
    "tags": []
   },
   "outputs": [
    {
     "data": {
      "text/html": [
       "<div>\n",
       "<style scoped>\n",
       "    .dataframe tbody tr th:only-of-type {\n",
       "        vertical-align: middle;\n",
       "    }\n",
       "\n",
       "    .dataframe tbody tr th {\n",
       "        vertical-align: top;\n",
       "    }\n",
       "\n",
       "    .dataframe thead th {\n",
       "        text-align: right;\n",
       "    }\n",
       "</style>\n",
       "<table border=\"1\" class=\"dataframe\">\n",
       "  <thead>\n",
       "    <tr style=\"text-align: right;\">\n",
       "      <th></th>\n",
       "      <th>RECORD_TIME</th>\n",
       "    </tr>\n",
       "  </thead>\n",
       "  <tbody>\n",
       "    <tr>\n",
       "      <th>0</th>\n",
       "      <td>2021-11-29 21:30</td>\n",
       "    </tr>\n",
       "    <tr>\n",
       "      <th>1</th>\n",
       "      <td>2021-11-29 21:00</td>\n",
       "    </tr>\n",
       "  </tbody>\n",
       "</table>\n",
       "</div>"
      ],
      "text/plain": [
       "        RECORD_TIME\n",
       "0  2021-11-29 21:30\n",
       "1  2021-11-29 21:00"
      ]
     },
     "execution_count": 3,
     "metadata": {},
     "output_type": "execute_result"
    }
   ],
   "source": [
    "timestamps"
   ]
  },
  {
   "cell_type": "code",
   "execution_count": 4,
   "id": "alternate-victory",
   "metadata": {
    "execution": {
     "iopub.execute_input": "2021-11-29T20:30:10.007336Z",
     "iopub.status.busy": "2021-11-29T20:30:10.004998Z",
     "iopub.status.idle": "2021-11-29T20:30:11.408249Z",
     "shell.execute_reply": "2021-11-29T20:30:11.410551Z"
    },
    "papermill": {
     "duration": 1.437542,
     "end_time": "2021-11-29T20:30:11.411065",
     "exception": false,
     "start_time": "2021-11-29T20:30:09.973523",
     "status": "completed"
    },
    "tags": []
   },
   "outputs": [],
   "source": [
    "df = pd.read_sql(\"select * from EBAY_TOP_BERLIN where record_time in (select distinct record_time from EBAY_TOP_BERLIN order by record_time desc limit 2)\", sqlite3.connect(\"UsedObjects.db\"))"
   ]
  },
  {
   "cell_type": "code",
   "execution_count": 5,
   "id": "popular-active",
   "metadata": {
    "execution": {
     "iopub.execute_input": "2021-11-29T20:30:11.488091Z",
     "iopub.status.busy": "2021-11-29T20:30:11.475204Z",
     "iopub.status.idle": "2021-11-29T20:30:11.506026Z",
     "shell.execute_reply": "2021-11-29T20:30:11.507405Z"
    },
    "papermill": {
     "duration": 0.074109,
     "end_time": "2021-11-29T20:30:11.507883",
     "exception": false,
     "start_time": "2021-11-29T20:30:11.433774",
     "status": "completed"
    },
    "tags": []
   },
   "outputs": [],
   "source": [
    "df_pivot = df.pivot_table(index=\"PRODUCT\", columns = \"RECORD_TIME\", values = \"LISTING_COUNT\")"
   ]
  },
  {
   "cell_type": "code",
   "execution_count": 6,
   "id": "union-huntington",
   "metadata": {
    "execution": {
     "iopub.execute_input": "2021-11-29T20:30:11.572209Z",
     "iopub.status.busy": "2021-11-29T20:30:11.568892Z",
     "iopub.status.idle": "2021-11-29T20:30:11.575449Z",
     "shell.execute_reply": "2021-11-29T20:30:11.576970Z"
    },
    "papermill": {
     "duration": 0.049261,
     "end_time": "2021-11-29T20:30:11.577461",
     "exception": false,
     "start_time": "2021-11-29T20:30:11.528200",
     "status": "completed"
    },
    "tags": []
   },
   "outputs": [],
   "source": [
    "df_pivot.columns = [\"stamp_1\", \"stamp_2\"]\n",
    "df_pivot_diff = df_pivot.diff(axis=1)"
   ]
  },
  {
   "cell_type": "code",
   "execution_count": 7,
   "id": "fifth-motion",
   "metadata": {
    "execution": {
     "iopub.execute_input": "2021-11-29T20:30:11.634010Z",
     "iopub.status.busy": "2021-11-29T20:30:11.631389Z",
     "iopub.status.idle": "2021-11-29T20:30:13.629672Z",
     "shell.execute_reply": "2021-11-29T20:30:13.631341Z"
    },
    "papermill": {
     "duration": 2.033931,
     "end_time": "2021-11-29T20:30:13.631862",
     "exception": false,
     "start_time": "2021-11-29T20:30:11.597931",
     "status": "completed"
    },
    "tags": []
   },
   "outputs": [
    {
     "data": {
      "text/plain": [
       "<AxesSubplot:ylabel='PRODUCT'>"
      ]
     },
     "execution_count": 7,
     "metadata": {},
     "output_type": "execute_result"
    },
    {
     "data": {
      "image/png": "[encoded data removed]",
      "text/plain": [
       "<Figure size 432x288 with 1 Axes>"
      ]
     },
     "metadata": {
      "needs_background": "light"
     },
     "output_type": "display_data"
    }
   ],
   "source": [
    "df_pivot_diff.sort_values(\"stamp_2\", ascending = False)[\"stamp_2\"].head(10).plot.barh()"
   ]
  },
  {
   "cell_type": "code",
   "execution_count": null,
   "id": "extra-executive",
   "metadata": {
    "papermill": {
     "duration": 0.022192,
     "end_time": "2021-11-29T20:30:13.679495",
     "exception": false,
     "start_time": "2021-11-29T20:30:13.657303",
     "status": "completed"
    },
    "tags": []
   },
   "outputs": [],
   "source": []
  }
 ],
 "metadata": {
  "kernelspec": {
   "display_name": "Python 3",
   "language": "python",
   "name": "python3"
  },
  "language_info": {
   "codemirror_mode": {
    "name": "ipython",
    "version": 3
   },
   "file_extension": ".py",
   "mimetype": "text/x-python",
   "name": "python",
   "nbconvert_exporter": "python",
   "pygments_lexer": "ipython3",
   "version": "3.9.5"
  },
  "papermill": {
   "default_parameters": {},
   "duration": 9.936435,
   "end_time": "2021-11-29T20:30:15.007984",
   "environment_variables": {},
   "exception": null,
   "input_path": "eBay_Overview.ipynb",
   "output_path": "eBay_Overview.ipynb",
   "parameters": {},
   "start_time": "2021-11-29T20:30:05.071549",
   "version": "2.3.3"
  }
 },
 "nbformat": 4,
 "nbformat_minor": 5
}