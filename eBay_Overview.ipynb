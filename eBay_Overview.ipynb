{
 "cells": [
  {
   "cell_type": "code",
   "execution_count": 1,
   "id": "reverse-picking",
   "metadata": {
    "execution": {
     "iopub.execute_input": "2021-10-05T00:00:07.384646Z",
     "iopub.status.busy": "2021-10-05T00:00:07.382605Z",
     "iopub.status.idle": "2021-10-05T00:00:08.189203Z",
     "shell.execute_reply": "2021-10-05T00:00:08.190459Z"
    },
    "papermill": {
     "duration": 0.857258,
     "end_time": "2021-10-05T00:00:08.191259",
     "exception": false,
     "start_time": "2021-10-05T00:00:07.334001",
     "status": "completed"
    },
    "tags": []
   },
   "outputs": [],
   "source": [
    "import pandas as pd\n",
    "import sqlite3"
   ]
  },
  {
   "cell_type": "code",
   "execution_count": 2,
   "id": "innovative-syndrome",
   "metadata": {
    "execution": {
     "iopub.execute_input": "2021-10-05T00:00:08.244618Z",
     "iopub.status.busy": "2021-10-05T00:00:08.242190Z",
     "iopub.status.idle": "2021-10-05T00:00:08.706532Z",
     "shell.execute_reply": "2021-10-05T00:00:08.708656Z"
    },
    "papermill": {
     "duration": 0.495414,
     "end_time": "2021-10-05T00:00:08.709114",
     "exception": false,
     "start_time": "2021-10-05T00:00:08.213700",
     "status": "completed"
    },
    "tags": []
   },
   "outputs": [],
   "source": [
    "timestamps = pd.read_sql(\"select distinct record_time from EBAY_TOP_BERLIN order by record_time desc limit 2\", sqlite3.connect(\"UsedObjects.db\"))"
   ]
  },
  {
   "cell_type": "code",
   "execution_count": 3,
   "id": "periodic-identification",
   "metadata": {
    "execution": {
     "iopub.execute_input": "2021-10-05T00:00:08.774652Z",
     "iopub.status.busy": "2021-10-05T00:00:08.772647Z",
     "iopub.status.idle": "2021-10-05T00:00:08.792251Z",
     "shell.execute_reply": "2021-10-05T00:00:08.793489Z"
    },
    "papermill": {
     "duration": 0.065515,
     "end_time": "2021-10-05T00:00:08.793890",
     "exception": false,
     "start_time": "2021-10-05T00:00:08.728375",
     "status": "completed"
    },
    "tags": []
   },
   "outputs": [
    {
     "data": {
      "text/html": [
       "<div>\n",
       "<style scoped>\n",
       "    .dataframe tbody tr th:only-of-type {\n",
       "        vertical-align: middle;\n",
       "    }\n",
       "\n",
       "    .dataframe tbody tr th {\n",
       "        vertical-align: top;\n",
       "    }\n",
       "\n",
       "    .dataframe thead th {\n",
       "        text-align: right;\n",
       "    }\n",
       "</style>\n",
       "<table border=\"1\" class=\"dataframe\">\n",
       "  <thead>\n",
       "    <tr style=\"text-align: right;\">\n",
       "      <th></th>\n",
       "      <th>RECORD_TIME</th>\n",
       "    </tr>\n",
       "  </thead>\n",
       "  <tbody>\n",
       "    <tr>\n",
       "      <th>0</th>\n",
       "      <td>2021-10-05 02:00</td>\n",
       "    </tr>\n",
       "    <tr>\n",
       "      <th>1</th>\n",
       "      <td>2021-10-05 01:30</td>\n",
       "    </tr>\n",
       "  </tbody>\n",
       "</table>\n",
       "</div>"
      ],
      "text/plain": [
       "        RECORD_TIME\n",
       "0  2021-10-05 02:00\n",
       "1  2021-10-05 01:30"
      ]
     },
     "execution_count": 3,
     "metadata": {},
     "output_type": "execute_result"
    }
   ],
   "source": [
    "timestamps"
   ]
  },
  {
   "cell_type": "code",
   "execution_count": 4,
   "id": "alternate-victory",
   "metadata": {
    "execution": {
     "iopub.execute_input": "2021-10-05T00:00:08.861029Z",
     "iopub.status.busy": "2021-10-05T00:00:08.858592Z",
     "iopub.status.idle": "2021-10-05T00:00:09.549508Z",
     "shell.execute_reply": "2021-10-05T00:00:09.550835Z"
    },
    "papermill": {
     "duration": 0.7262,
     "end_time": "2021-10-05T00:00:09.551302",
     "exception": false,
     "start_time": "2021-10-05T00:00:08.825102",
     "status": "completed"
    },
    "tags": []
   },
   "outputs": [],
   "source": [
    "df = pd.read_sql(\"select * from EBAY_TOP_BERLIN where record_time in (select distinct record_time from EBAY_TOP_BERLIN order by record_time desc limit 2)\", sqlite3.connect(\"UsedObjects.db\"))"
   ]
  },
  {
   "cell_type": "code",
   "execution_count": 5,
   "id": "popular-active",
   "metadata": {
    "execution": {
     "iopub.execute_input": "2021-10-05T00:00:09.622623Z",
     "iopub.status.busy": "2021-10-05T00:00:09.610057Z",
     "iopub.status.idle": "2021-10-05T00:00:09.638532Z",
     "shell.execute_reply": "2021-10-05T00:00:09.640013Z"
    },
    "papermill": {
     "duration": 0.068274,
     "end_time": "2021-10-05T00:00:09.640466",
     "exception": false,
     "start_time": "2021-10-05T00:00:09.572192",
     "status": "completed"
    },
    "tags": []
   },
   "outputs": [],
   "source": [
    "df_pivot = df.pivot_table(index=\"PRODUCT\", columns = \"RECORD_TIME\", values = \"LISTING_COUNT\")"
   ]
  },
  {
   "cell_type": "code",
   "execution_count": 6,
   "id": "union-huntington",
   "metadata": {
    "execution": {
     "iopub.execute_input": "2021-10-05T00:00:09.698187Z",
     "iopub.status.busy": "2021-10-05T00:00:09.695740Z",
     "iopub.status.idle": "2021-10-05T00:00:09.701553Z",
     "shell.execute_reply": "2021-10-05T00:00:09.702893Z"
    },
    "papermill": {
     "duration": 0.042333,
     "end_time": "2021-10-05T00:00:09.703319",
     "exception": false,
     "start_time": "2021-10-05T00:00:09.660986",
     "status": "completed"
    },
    "tags": []
   },
   "outputs": [],
   "source": [
    "df_pivot.columns = [\"stamp_1\", \"stamp_2\"]\n",
    "df_pivot_diff = df_pivot.diff(axis=1)"
   ]
  },
  {
   "cell_type": "code",
   "execution_count": 7,
   "id": "fifth-motion",
   "metadata": {
    "execution": {
     "iopub.execute_input": "2021-10-05T00:00:09.758156Z",
     "iopub.status.busy": "2021-10-05T00:00:09.755844Z",
     "iopub.status.idle": "2021-10-05T00:00:11.242252Z",
     "shell.execute_reply": "2021-10-05T00:00:11.243694Z"
    },
    "papermill": {
     "duration": 1.52016,
     "end_time": "2021-10-05T00:00:11.244140",
     "exception": false,
     "start_time": "2021-10-05T00:00:09.723980",
     "status": "completed"
    },
    "tags": []
   },
   "outputs": [
    {
     "data": {
      "text/plain": [
       "<AxesSubplot:ylabel='PRODUCT'>"
      ]
     },
     "execution_count": 7,
     "metadata": {},
     "output_type": "execute_result"
    },
    {
     "data": {
      "image/png": "[encoded data removed]",
      "text/plain": [
       "<Figure size 432x288 with 1 Axes>"
      ]
     },
     "metadata": {
      "needs_background": "light"
     },
     "output_type": "display_data"
    }
   ],
   "source": [
    "df_pivot_diff.sort_values(\"stamp_2\", ascending = False)[\"stamp_2\"].head(10).plot.barh()"
   ]
  },
  {
   "cell_type": "code",
   "execution_count": null,
   "id": "extra-executive",
   "metadata": {
    "papermill": {
     "duration": 0.022516,
     "end_time": "2021-10-05T00:00:11.291460",
     "exception": false,
     "start_time": "2021-10-05T00:00:11.268944",
     "status": "completed"
    },
    "tags": []
   },
   "outputs": [],
   "source": []
  }
 ],
 "metadata": {
  "kernelspec": {
   "display_name": "Python 3",
   "language": "python",
   "name": "python3"
  },
  "language_info": {
   "codemirror_mode": {
    "name": "ipython",
    "version": 3
   },
   "file_extension": ".py",
   "mimetype": "text/x-python",
   "name": "python",
   "nbconvert_exporter": "python",
   "pygments_lexer": "ipython3",
   "version": "3.9.5"
  },
  "papermill": {
   "default_parameters": {},
   "duration": 7.826603,
   "end_time": "2021-10-05T00:00:12.750109",
   "environment_variables": {},
   "exception": null,
   "input_path": "eBay_Overview.ipynb",
   "output_path": "eBay_Overview.ipynb",
   "parameters": {},
   "start_time": "2021-10-05T00:00:04.923506",
   "version": "2.3.3"
  }
 },
 "nbformat": 4,
 "nbformat_minor": 5
}