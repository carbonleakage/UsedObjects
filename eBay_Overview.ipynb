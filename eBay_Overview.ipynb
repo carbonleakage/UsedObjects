{
 "cells": [
  {
   "cell_type": "code",
   "execution_count": 1,
   "id": "reverse-picking",
   "metadata": {
    "execution": {
     "iopub.execute_input": "2021-10-20T09:00:07.146380Z",
     "iopub.status.busy": "2021-10-20T09:00:07.144303Z",
     "iopub.status.idle": "2021-10-20T09:00:07.962055Z",
     "shell.execute_reply": "2021-10-20T09:00:07.960355Z"
    },
    "papermill": {
     "duration": 0.866843,
     "end_time": "2021-10-20T09:00:07.962450",
     "exception": false,
     "start_time": "2021-10-20T09:00:07.095607",
     "status": "completed"
    },
    "tags": []
   },
   "outputs": [],
   "source": [
    "import pandas as pd\n",
    "import sqlite3"
   ]
  },
  {
   "cell_type": "code",
   "execution_count": 2,
   "id": "innovative-syndrome",
   "metadata": {
    "execution": {
     "iopub.execute_input": "2021-10-20T09:00:08.015061Z",
     "iopub.status.busy": "2021-10-20T09:00:08.012601Z",
     "iopub.status.idle": "2021-10-20T09:00:08.607112Z",
     "shell.execute_reply": "2021-10-20T09:00:08.608233Z"
    },
    "papermill": {
     "duration": 0.624182,
     "end_time": "2021-10-20T09:00:08.608638",
     "exception": false,
     "start_time": "2021-10-20T09:00:07.984456",
     "status": "completed"
    },
    "tags": []
   },
   "outputs": [],
   "source": [
    "timestamps = pd.read_sql(\"select distinct record_time from EBAY_TOP_BERLIN order by record_time desc limit 2\", sqlite3.connect(\"UsedObjects.db\"))"
   ]
  },
  {
   "cell_type": "code",
   "execution_count": 3,
   "id": "periodic-identification",
   "metadata": {
    "execution": {
     "iopub.execute_input": "2021-10-20T09:00:08.684798Z",
     "iopub.status.busy": "2021-10-20T09:00:08.682737Z",
     "iopub.status.idle": "2021-10-20T09:00:08.702772Z",
     "shell.execute_reply": "2021-10-20T09:00:08.704150Z"
    },
    "papermill": {
     "duration": 0.068145,
     "end_time": "2021-10-20T09:00:08.704583",
     "exception": false,
     "start_time": "2021-10-20T09:00:08.636438",
     "status": "completed"
    },
    "tags": []
   },
   "outputs": [
    {
     "data": {
      "text/html": [
       "<div>\n",
       "<style scoped>\n",
       "    .dataframe tbody tr th:only-of-type {\n",
       "        vertical-align: middle;\n",
       "    }\n",
       "\n",
       "    .dataframe tbody tr th {\n",
       "        vertical-align: top;\n",
       "    }\n",
       "\n",
       "    .dataframe thead th {\n",
       "        text-align: right;\n",
       "    }\n",
       "</style>\n",
       "<table border=\"1\" class=\"dataframe\">\n",
       "  <thead>\n",
       "    <tr style=\"text-align: right;\">\n",
       "      <th></th>\n",
       "      <th>RECORD_TIME</th>\n",
       "    </tr>\n",
       "  </thead>\n",
       "  <tbody>\n",
       "    <tr>\n",
       "      <th>0</th>\n",
       "      <td>2021-10-20 11:00</td>\n",
       "    </tr>\n",
       "    <tr>\n",
       "      <th>1</th>\n",
       "      <td>2021-10-20 10:30</td>\n",
       "    </tr>\n",
       "  </tbody>\n",
       "</table>\n",
       "</div>"
      ],
      "text/plain": [
       "        RECORD_TIME\n",
       "0  2021-10-20 11:00\n",
       "1  2021-10-20 10:30"
      ]
     },
     "execution_count": 3,
     "metadata": {},
     "output_type": "execute_result"
    }
   ],
   "source": [
    "timestamps"
   ]
  },
  {
   "cell_type": "code",
   "execution_count": 4,
   "id": "alternate-victory",
   "metadata": {
    "execution": {
     "iopub.execute_input": "2021-10-20T09:00:08.756667Z",
     "iopub.status.busy": "2021-10-20T09:00:08.754769Z",
     "iopub.status.idle": "2021-10-20T09:00:09.622594Z",
     "shell.execute_reply": "2021-10-20T09:00:09.623807Z"
    },
    "papermill": {
     "duration": 0.898449,
     "end_time": "2021-10-20T09:00:09.624201",
     "exception": false,
     "start_time": "2021-10-20T09:00:08.725752",
     "status": "completed"
    },
    "tags": []
   },
   "outputs": [],
   "source": [
    "df = pd.read_sql(\"select * from EBAY_TOP_BERLIN where record_time in (select distinct record_time from EBAY_TOP_BERLIN order by record_time desc limit 2)\", sqlite3.connect(\"UsedObjects.db\"))"
   ]
  },
  {
   "cell_type": "code",
   "execution_count": 5,
   "id": "popular-active",
   "metadata": {
    "execution": {
     "iopub.execute_input": "2021-10-20T09:00:09.694675Z",
     "iopub.status.busy": "2021-10-20T09:00:09.682046Z",
     "iopub.status.idle": "2021-10-20T09:00:09.710970Z",
     "shell.execute_reply": "2021-10-20T09:00:09.712254Z"
    },
    "papermill": {
     "duration": 0.067731,
     "end_time": "2021-10-20T09:00:09.712660",
     "exception": false,
     "start_time": "2021-10-20T09:00:09.644929",
     "status": "completed"
    },
    "tags": []
   },
   "outputs": [],
   "source": [
    "df_pivot = df.pivot_table(index=\"PRODUCT\", columns = \"RECORD_TIME\", values = \"LISTING_COUNT\")"
   ]
  },
  {
   "cell_type": "code",
   "execution_count": 6,
   "id": "union-huntington",
   "metadata": {
    "execution": {
     "iopub.execute_input": "2021-10-20T09:00:09.769612Z",
     "iopub.status.busy": "2021-10-20T09:00:09.767520Z",
     "iopub.status.idle": "2021-10-20T09:00:09.772952Z",
     "shell.execute_reply": "2021-10-20T09:00:09.774244Z"
    },
    "papermill": {
     "duration": 0.041592,
     "end_time": "2021-10-20T09:00:09.774652",
     "exception": false,
     "start_time": "2021-10-20T09:00:09.733060",
     "status": "completed"
    },
    "tags": []
   },
   "outputs": [],
   "source": [
    "df_pivot.columns = [\"stamp_1\", \"stamp_2\"]\n",
    "df_pivot_diff = df_pivot.diff(axis=1)"
   ]
  },
  {
   "cell_type": "code",
   "execution_count": 7,
   "id": "fifth-motion",
   "metadata": {
    "execution": {
     "iopub.execute_input": "2021-10-20T09:00:09.828805Z",
     "iopub.status.busy": "2021-10-20T09:00:09.826368Z",
     "iopub.status.idle": "2021-10-20T09:00:11.332070Z",
     "shell.execute_reply": "2021-10-20T09:00:11.333465Z"
    },
    "papermill": {
     "duration": 1.538834,
     "end_time": "2021-10-20T09:00:11.333890",
     "exception": false,
     "start_time": "2021-10-20T09:00:09.795056",
     "status": "completed"
    },
    "tags": []
   },
   "outputs": [
    {
     "data": {
      "text/plain": [
       "<AxesSubplot:ylabel='PRODUCT'>"
      ]
     },
     "execution_count": 7,
     "metadata": {},
     "output_type": "execute_result"
    },
    {
     "data": {
      "image/png": "[encoded data removed]",
      "text/plain": [
       "<Figure size 432x288 with 1 Axes>"
      ]
     },
     "metadata": {
      "needs_background": "light"
     },
     "output_type": "display_data"
    }
   ],
   "source": [
    "df_pivot_diff.sort_values(\"stamp_2\", ascending = False)[\"stamp_2\"].head(10).plot.barh()"
   ]
  },
  {
   "cell_type": "code",
   "execution_count": null,
   "id": "extra-executive",
   "metadata": {
    "papermill": {
     "duration": 0.022358,
     "end_time": "2021-10-20T09:00:11.380984",
     "exception": false,
     "start_time": "2021-10-20T09:00:11.358626",
     "status": "completed"
    },
    "tags": []
   },
   "outputs": [],
   "source": []
  }
 ],
 "metadata": {
  "kernelspec": {
   "display_name": "Python 3",
   "language": "python",
   "name": "python3"
  },
  "language_info": {
   "codemirror_mode": {
    "name": "ipython",
    "version": 3
   },
   "file_extension": ".py",
   "mimetype": "text/x-python",
   "name": "python",
   "nbconvert_exporter": "python",
   "pygments_lexer": "ipython3",
   "version": "3.9.5"
  },
  "papermill": {
   "default_parameters": {},
   "duration": 7.349401,
   "end_time": "2021-10-20T09:00:12.021677",
   "environment_variables": {},
   "exception": null,
   "input_path": "eBay_Overview.ipynb",
   "output_path": "eBay_Overview.ipynb",
   "parameters": {},
   "start_time": "2021-10-20T09:00:04.672276",
   "version": "2.3.3"
  }
 },
 "nbformat": 4,
 "nbformat_minor": 5
}