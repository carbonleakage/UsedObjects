{
 "cells": [
  {
   "cell_type": "code",
   "execution_count": 1,
   "id": "reverse-picking",
   "metadata": {
    "execution": {
     "iopub.execute_input": "2021-10-02T18:30:06.802904Z",
     "iopub.status.busy": "2021-10-02T18:30:06.800952Z",
     "iopub.status.idle": "2021-10-02T18:30:07.607704Z",
     "shell.execute_reply": "2021-10-02T18:30:07.608973Z"
    },
    "papermill": {
     "duration": 0.85694,
     "end_time": "2021-10-02T18:30:07.609593",
     "exception": false,
     "start_time": "2021-10-02T18:30:06.752653",
     "status": "completed"
    },
    "tags": []
   },
   "outputs": [],
   "source": [
    "import pandas as pd\n",
    "import sqlite3"
   ]
  },
  {
   "cell_type": "code",
   "execution_count": 2,
   "id": "innovative-syndrome",
   "metadata": {
    "execution": {
     "iopub.execute_input": "2021-10-02T18:30:07.663032Z",
     "iopub.status.busy": "2021-10-02T18:30:07.660681Z",
     "iopub.status.idle": "2021-10-02T18:30:08.093323Z",
     "shell.execute_reply": "2021-10-02T18:30:08.094495Z"
    },
    "papermill": {
     "duration": 0.462515,
     "end_time": "2021-10-02T18:30:08.094937",
     "exception": false,
     "start_time": "2021-10-02T18:30:07.632422",
     "status": "completed"
    },
    "tags": []
   },
   "outputs": [],
   "source": [
    "timestamps = pd.read_sql(\"select distinct record_time from EBAY_TOP_BERLIN order by record_time desc limit 2\", sqlite3.connect(\"UsedObjects.db\"))"
   ]
  },
  {
   "cell_type": "code",
   "execution_count": 3,
   "id": "periodic-identification",
   "metadata": {
    "execution": {
     "iopub.execute_input": "2021-10-02T18:30:08.160255Z",
     "iopub.status.busy": "2021-10-02T18:30:08.158068Z",
     "iopub.status.idle": "2021-10-02T18:30:08.180095Z",
     "shell.execute_reply": "2021-10-02T18:30:08.178547Z"
    },
    "papermill": {
     "duration": 0.06468,
     "end_time": "2021-10-02T18:30:08.180455",
     "exception": false,
     "start_time": "2021-10-02T18:30:08.115775",
     "status": "completed"
    },
    "tags": []
   },
   "outputs": [
    {
     "data": {
      "text/html": [
       "<div>\n",
       "<style scoped>\n",
       "    .dataframe tbody tr th:only-of-type {\n",
       "        vertical-align: middle;\n",
       "    }\n",
       "\n",
       "    .dataframe tbody tr th {\n",
       "        vertical-align: top;\n",
       "    }\n",
       "\n",
       "    .dataframe thead th {\n",
       "        text-align: right;\n",
       "    }\n",
       "</style>\n",
       "<table border=\"1\" class=\"dataframe\">\n",
       "  <thead>\n",
       "    <tr style=\"text-align: right;\">\n",
       "      <th></th>\n",
       "      <th>RECORD_TIME</th>\n",
       "    </tr>\n",
       "  </thead>\n",
       "  <tbody>\n",
       "    <tr>\n",
       "      <th>0</th>\n",
       "      <td>2021-10-02 20:30</td>\n",
       "    </tr>\n",
       "    <tr>\n",
       "      <th>1</th>\n",
       "      <td>2021-10-02 20:00</td>\n",
       "    </tr>\n",
       "  </tbody>\n",
       "</table>\n",
       "</div>"
      ],
      "text/plain": [
       "        RECORD_TIME\n",
       "0  2021-10-02 20:30\n",
       "1  2021-10-02 20:00"
      ]
     },
     "execution_count": 3,
     "metadata": {},
     "output_type": "execute_result"
    }
   ],
   "source": [
    "timestamps"
   ]
  },
  {
   "cell_type": "code",
   "execution_count": 4,
   "id": "alternate-victory",
   "metadata": {
    "execution": {
     "iopub.execute_input": "2021-10-02T18:30:08.239926Z",
     "iopub.status.busy": "2021-10-02T18:30:08.237195Z",
     "iopub.status.idle": "2021-10-02T18:30:08.893523Z",
     "shell.execute_reply": "2021-10-02T18:30:08.894719Z"
    },
    "papermill": {
     "duration": 0.693908,
     "end_time": "2021-10-02T18:30:08.895178",
     "exception": false,
     "start_time": "2021-10-02T18:30:08.201270",
     "status": "completed"
    },
    "tags": []
   },
   "outputs": [],
   "source": [
    "df = pd.read_sql(\"select * from EBAY_TOP_BERLIN where record_time in (select distinct record_time from EBAY_TOP_BERLIN order by record_time desc limit 2)\", sqlite3.connect(\"UsedObjects.db\"))"
   ]
  },
  {
   "cell_type": "code",
   "execution_count": 5,
   "id": "popular-active",
   "metadata": {
    "execution": {
     "iopub.execute_input": "2021-10-02T18:30:08.968045Z",
     "iopub.status.busy": "2021-10-02T18:30:08.955741Z",
     "iopub.status.idle": "2021-10-02T18:30:08.983764Z",
     "shell.execute_reply": "2021-10-02T18:30:08.984981Z"
    },
    "papermill": {
     "duration": 0.067691,
     "end_time": "2021-10-02T18:30:08.985374",
     "exception": false,
     "start_time": "2021-10-02T18:30:08.917683",
     "status": "completed"
    },
    "tags": []
   },
   "outputs": [],
   "source": [
    "df_pivot = df.pivot_table(index=\"PRODUCT\", columns = \"RECORD_TIME\", values = \"LISTING_COUNT\")"
   ]
  },
  {
   "cell_type": "code",
   "execution_count": 6,
   "id": "union-huntington",
   "metadata": {
    "execution": {
     "iopub.execute_input": "2021-10-02T18:30:09.041411Z",
     "iopub.status.busy": "2021-10-02T18:30:09.039364Z",
     "iopub.status.idle": "2021-10-02T18:30:09.044576Z",
     "shell.execute_reply": "2021-10-02T18:30:09.045840Z"
    },
    "papermill": {
     "duration": 0.039964,
     "end_time": "2021-10-02T18:30:09.046254",
     "exception": false,
     "start_time": "2021-10-02T18:30:09.006290",
     "status": "completed"
    },
    "tags": []
   },
   "outputs": [],
   "source": [
    "df_pivot.columns = [\"stamp_1\", \"stamp_2\"]\n",
    "df_pivot_diff = df_pivot.diff(axis=1)"
   ]
  },
  {
   "cell_type": "code",
   "execution_count": 7,
   "id": "fifth-motion",
   "metadata": {
    "execution": {
     "iopub.execute_input": "2021-10-02T18:30:09.101697Z",
     "iopub.status.busy": "2021-10-02T18:30:09.099072Z",
     "iopub.status.idle": "2021-10-02T18:30:10.586580Z",
     "shell.execute_reply": "2021-10-02T18:30:10.587936Z"
    },
    "papermill": {
     "duration": 1.521063,
     "end_time": "2021-10-02T18:30:10.588353",
     "exception": false,
     "start_time": "2021-10-02T18:30:09.067290",
     "status": "completed"
    },
    "tags": []
   },
   "outputs": [
    {
     "data": {
      "text/plain": [
       "<AxesSubplot:ylabel='PRODUCT'>"
      ]
     },
     "execution_count": 7,
     "metadata": {},
     "output_type": "execute_result"
    },
    {
     "data": {
      "image/png": "[encoded data removed]",
      "text/plain": [
       "<Figure size 432x288 with 1 Axes>"
      ]
     },
     "metadata": {
      "needs_background": "light"
     },
     "output_type": "display_data"
    }
   ],
   "source": [
    "df_pivot_diff.sort_values(\"stamp_2\", ascending = False)[\"stamp_2\"].head(10).plot.barh()"
   ]
  },
  {
   "cell_type": "code",
   "execution_count": null,
   "id": "extra-executive",
   "metadata": {
    "papermill": {
     "duration": 0.02192,
     "end_time": "2021-10-02T18:30:10.634762",
     "exception": false,
     "start_time": "2021-10-02T18:30:10.612842",
     "status": "completed"
    },
    "tags": []
   },
   "outputs": [],
   "source": []
  }
 ],
 "metadata": {
  "kernelspec": {
   "display_name": "Python 3",
   "language": "python",
   "name": "python3"
  },
  "language_info": {
   "codemirror_mode": {
    "name": "ipython",
    "version": 3
   },
   "file_extension": ".py",
   "mimetype": "text/x-python",
   "name": "python",
   "nbconvert_exporter": "python",
   "pygments_lexer": "ipython3",
   "version": "3.9.5"
  },
  "papermill": {
   "default_parameters": {},
   "duration": 7.821928,
   "end_time": "2021-10-02T18:30:12.168783",
   "environment_variables": {},
   "exception": null,
   "input_path": "eBay_Overview.ipynb",
   "output_path": "eBay_Overview.ipynb",
   "parameters": {},
   "start_time": "2021-10-02T18:30:04.346855",
   "version": "2.3.3"
  }
 },
 "nbformat": 4,
 "nbformat_minor": 5
}