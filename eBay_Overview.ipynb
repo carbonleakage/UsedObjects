{
 "cells": [
  {
   "cell_type": "code",
   "execution_count": 1,
   "id": "reverse-picking",
   "metadata": {
    "execution": {
     "iopub.execute_input": "2021-12-22T02:00:07.725654Z",
     "iopub.status.busy": "2021-12-22T02:00:07.723141Z",
     "iopub.status.idle": "2021-12-22T02:00:08.679453Z",
     "shell.execute_reply": "2021-12-22T02:00:08.681108Z"
    },
    "papermill": {
     "duration": 1.007491,
     "end_time": "2021-12-22T02:00:08.682106",
     "exception": false,
     "start_time": "2021-12-22T02:00:07.674615",
     "status": "completed"
    },
    "tags": []
   },
   "outputs": [],
   "source": [
    "import pandas as pd\n",
    "import sqlite3"
   ]
  },
  {
   "cell_type": "code",
   "execution_count": 2,
   "id": "innovative-syndrome",
   "metadata": {
    "execution": {
     "iopub.execute_input": "2021-12-22T02:00:08.750775Z",
     "iopub.status.busy": "2021-12-22T02:00:08.748284Z",
     "iopub.status.idle": "2021-12-22T02:00:09.876822Z",
     "shell.execute_reply": "2021-12-22T02:00:09.878131Z"
    },
    "papermill": {
     "duration": 1.162453,
     "end_time": "2021-12-22T02:00:09.878557",
     "exception": false,
     "start_time": "2021-12-22T02:00:08.716104",
     "status": "completed"
    },
    "tags": []
   },
   "outputs": [],
   "source": [
    "timestamps = pd.read_sql(\"select distinct record_time from EBAY_TOP_BERLIN order by record_time desc limit 2\", sqlite3.connect(\"UsedObjects.db\"))"
   ]
  },
  {
   "cell_type": "code",
   "execution_count": 3,
   "id": "periodic-identification",
   "metadata": {
    "execution": {
     "iopub.execute_input": "2021-12-22T02:00:09.950800Z",
     "iopub.status.busy": "2021-12-22T02:00:09.945390Z",
     "iopub.status.idle": "2021-12-22T02:00:09.967770Z",
     "shell.execute_reply": "2021-12-22T02:00:09.969491Z"
    },
    "papermill": {
     "duration": 0.071436,
     "end_time": "2021-12-22T02:00:09.970044",
     "exception": false,
     "start_time": "2021-12-22T02:00:09.898608",
     "status": "completed"
    },
    "tags": []
   },
   "outputs": [
    {
     "data": {
      "text/html": [
       "<div>\n",
       "<style scoped>\n",
       "    .dataframe tbody tr th:only-of-type {\n",
       "        vertical-align: middle;\n",
       "    }\n",
       "\n",
       "    .dataframe tbody tr th {\n",
       "        vertical-align: top;\n",
       "    }\n",
       "\n",
       "    .dataframe thead th {\n",
       "        text-align: right;\n",
       "    }\n",
       "</style>\n",
       "<table border=\"1\" class=\"dataframe\">\n",
       "  <thead>\n",
       "    <tr style=\"text-align: right;\">\n",
       "      <th></th>\n",
       "      <th>RECORD_TIME</th>\n",
       "    </tr>\n",
       "  </thead>\n",
       "  <tbody>\n",
       "    <tr>\n",
       "      <th>0</th>\n",
       "      <td>2021-12-22 03:00</td>\n",
       "    </tr>\n",
       "    <tr>\n",
       "      <th>1</th>\n",
       "      <td>2021-12-22 02:30</td>\n",
       "    </tr>\n",
       "  </tbody>\n",
       "</table>\n",
       "</div>"
      ],
      "text/plain": [
       "        RECORD_TIME\n",
       "0  2021-12-22 03:00\n",
       "1  2021-12-22 02:30"
      ]
     },
     "execution_count": 3,
     "metadata": {},
     "output_type": "execute_result"
    }
   ],
   "source": [
    "timestamps"
   ]
  },
  {
   "cell_type": "code",
   "execution_count": 4,
   "id": "alternate-victory",
   "metadata": {
    "execution": {
     "iopub.execute_input": "2021-12-22T02:00:10.029277Z",
     "iopub.status.busy": "2021-12-22T02:00:10.027386Z",
     "iopub.status.idle": "2021-12-22T02:00:11.746953Z",
     "shell.execute_reply": "2021-12-22T02:00:11.748382Z"
    },
    "papermill": {
     "duration": 1.756602,
     "end_time": "2021-12-22T02:00:11.748916",
     "exception": false,
     "start_time": "2021-12-22T02:00:09.992314",
     "status": "completed"
    },
    "tags": []
   },
   "outputs": [],
   "source": [
    "df = pd.read_sql(\"select * from EBAY_TOP_BERLIN where record_time in (select distinct record_time from EBAY_TOP_BERLIN order by record_time desc limit 2)\", sqlite3.connect(\"UsedObjects.db\"))"
   ]
  },
  {
   "cell_type": "code",
   "execution_count": 5,
   "id": "popular-active",
   "metadata": {
    "execution": {
     "iopub.execute_input": "2021-12-22T02:00:11.814983Z",
     "iopub.status.busy": "2021-12-22T02:00:11.812376Z",
     "iopub.status.idle": "2021-12-22T02:00:11.851871Z",
     "shell.execute_reply": "2021-12-22T02:00:11.853577Z"
    },
    "papermill": {
     "duration": 0.08416,
     "end_time": "2021-12-22T02:00:11.854107",
     "exception": false,
     "start_time": "2021-12-22T02:00:11.769947",
     "status": "completed"
    },
    "tags": []
   },
   "outputs": [],
   "source": [
    "df_pivot = df.pivot_table(index=\"PRODUCT\", columns = \"RECORD_TIME\", values = \"LISTING_COUNT\")"
   ]
  },
  {
   "cell_type": "code",
   "execution_count": 6,
   "id": "union-huntington",
   "metadata": {
    "execution": {
     "iopub.execute_input": "2021-12-22T02:00:11.916393Z",
     "iopub.status.busy": "2021-12-22T02:00:11.914197Z",
     "iopub.status.idle": "2021-12-22T02:00:11.919920Z",
     "shell.execute_reply": "2021-12-22T02:00:11.921504Z"
    },
    "papermill": {
     "duration": 0.04417,
     "end_time": "2021-12-22T02:00:11.922002",
     "exception": false,
     "start_time": "2021-12-22T02:00:11.877832",
     "status": "completed"
    },
    "tags": []
   },
   "outputs": [],
   "source": [
    "df_pivot.columns = [\"stamp_1\", \"stamp_2\"]\n",
    "df_pivot_diff = df_pivot.diff(axis=1)"
   ]
  },
  {
   "cell_type": "code",
   "execution_count": 7,
   "id": "fifth-motion",
   "metadata": {
    "execution": {
     "iopub.execute_input": "2021-12-22T02:00:11.979117Z",
     "iopub.status.busy": "2021-12-22T02:00:11.976737Z",
     "iopub.status.idle": "2021-12-22T02:00:13.941286Z",
     "shell.execute_reply": "2021-12-22T02:00:13.942789Z"
    },
    "papermill": {
     "duration": 2.000727,
     "end_time": "2021-12-22T02:00:13.943262",
     "exception": false,
     "start_time": "2021-12-22T02:00:11.942535",
     "status": "completed"
    },
    "tags": []
   },
   "outputs": [
    {
     "data": {
      "text/plain": [
       "<AxesSubplot:ylabel='PRODUCT'>"
      ]
     },
     "execution_count": 7,
     "metadata": {},
     "output_type": "execute_result"
    },
    {
     "data": {
      "image/png": "[encoded data removed]",
      "text/plain": [
       "<Figure size 432x288 with 1 Axes>"
      ]
     },
     "metadata": {
      "needs_background": "light"
     },
     "output_type": "display_data"
    }
   ],
   "source": [
    "df_pivot_diff.sort_values(\"stamp_2\", ascending = False)[\"stamp_2\"].head(10).plot.barh()"
   ]
  },
  {
   "cell_type": "code",
   "execution_count": null,
   "id": "extra-executive",
   "metadata": {
    "papermill": {
     "duration": 0.022189,
     "end_time": "2021-12-22T02:00:13.989962",
     "exception": false,
     "start_time": "2021-12-22T02:00:13.967773",
     "status": "completed"
    },
    "tags": []
   },
   "outputs": [],
   "source": []
  }
 ],
 "metadata": {
  "kernelspec": {
   "display_name": "Python 3",
   "language": "python",
   "name": "python3"
  },
  "language_info": {
   "codemirror_mode": {
    "name": "ipython",
    "version": 3
   },
   "file_extension": ".py",
   "mimetype": "text/x-python",
   "name": "python",
   "nbconvert_exporter": "python",
   "pygments_lexer": "ipython3",
   "version": "3.9.5"
  },
  "papermill": {
   "default_parameters": {},
   "duration": 9.724385,
   "end_time": "2021-12-22T02:00:14.657864",
   "environment_variables": {},
   "exception": null,
   "input_path": "eBay_Overview.ipynb",
   "output_path": "eBay_Overview.ipynb",
   "parameters": {},
   "start_time": "2021-12-22T02:00:04.933479",
   "version": "2.3.3"
  }
 },
 "nbformat": 4,
 "nbformat_minor": 5
}