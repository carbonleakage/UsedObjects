{
 "cells": [
  {
   "cell_type": "code",
   "execution_count": 1,
   "id": "reverse-picking",
   "metadata": {
    "execution": {
     "iopub.execute_input": "2021-12-12T06:00:07.430572Z",
     "iopub.status.busy": "2021-12-12T06:00:07.428374Z",
     "iopub.status.idle": "2021-12-12T06:00:08.386139Z",
     "shell.execute_reply": "2021-12-12T06:00:08.387871Z"
    },
    "papermill": {
     "duration": 1.005462,
     "end_time": "2021-12-12T06:00:08.388632",
     "exception": false,
     "start_time": "2021-12-12T06:00:07.383170",
     "status": "completed"
    },
    "tags": []
   },
   "outputs": [],
   "source": [
    "import pandas as pd\n",
    "import sqlite3"
   ]
  },
  {
   "cell_type": "code",
   "execution_count": 2,
   "id": "innovative-syndrome",
   "metadata": {
    "execution": {
     "iopub.execute_input": "2021-12-12T06:00:08.455487Z",
     "iopub.status.busy": "2021-12-12T06:00:08.453156Z",
     "iopub.status.idle": "2021-12-12T06:00:09.510947Z",
     "shell.execute_reply": "2021-12-12T06:00:09.512541Z"
    },
    "papermill": {
     "duration": 1.092922,
     "end_time": "2021-12-12T06:00:09.513134",
     "exception": false,
     "start_time": "2021-12-12T06:00:08.420212",
     "status": "completed"
    },
    "tags": []
   },
   "outputs": [],
   "source": [
    "timestamps = pd.read_sql(\"select distinct record_time from EBAY_TOP_BERLIN order by record_time desc limit 2\", sqlite3.connect(\"UsedObjects.db\"))"
   ]
  },
  {
   "cell_type": "code",
   "execution_count": 3,
   "id": "periodic-identification",
   "metadata": {
    "execution": {
     "iopub.execute_input": "2021-12-12T06:00:09.588254Z",
     "iopub.status.busy": "2021-12-12T06:00:09.585999Z",
     "iopub.status.idle": "2021-12-12T06:00:09.609723Z",
     "shell.execute_reply": "2021-12-12T06:00:09.611128Z"
    },
    "papermill": {
     "duration": 0.075915,
     "end_time": "2021-12-12T06:00:09.611608",
     "exception": false,
     "start_time": "2021-12-12T06:00:09.535693",
     "status": "completed"
    },
    "tags": []
   },
   "outputs": [
    {
     "data": {
      "text/html": [
       "<div>\n",
       "<style scoped>\n",
       "    .dataframe tbody tr th:only-of-type {\n",
       "        vertical-align: middle;\n",
       "    }\n",
       "\n",
       "    .dataframe tbody tr th {\n",
       "        vertical-align: top;\n",
       "    }\n",
       "\n",
       "    .dataframe thead th {\n",
       "        text-align: right;\n",
       "    }\n",
       "</style>\n",
       "<table border=\"1\" class=\"dataframe\">\n",
       "  <thead>\n",
       "    <tr style=\"text-align: right;\">\n",
       "      <th></th>\n",
       "      <th>RECORD_TIME</th>\n",
       "    </tr>\n",
       "  </thead>\n",
       "  <tbody>\n",
       "    <tr>\n",
       "      <th>0</th>\n",
       "      <td>2021-12-12 07:00</td>\n",
       "    </tr>\n",
       "    <tr>\n",
       "      <th>1</th>\n",
       "      <td>2021-12-12 06:30</td>\n",
       "    </tr>\n",
       "  </tbody>\n",
       "</table>\n",
       "</div>"
      ],
      "text/plain": [
       "        RECORD_TIME\n",
       "0  2021-12-12 07:00\n",
       "1  2021-12-12 06:30"
      ]
     },
     "execution_count": 3,
     "metadata": {},
     "output_type": "execute_result"
    }
   ],
   "source": [
    "timestamps"
   ]
  },
  {
   "cell_type": "code",
   "execution_count": 4,
   "id": "alternate-victory",
   "metadata": {
    "execution": {
     "iopub.execute_input": "2021-12-12T06:00:09.667112Z",
     "iopub.status.busy": "2021-12-12T06:00:09.664762Z",
     "iopub.status.idle": "2021-12-12T06:00:11.201210Z",
     "shell.execute_reply": "2021-12-12T06:00:11.202663Z"
    },
    "papermill": {
     "duration": 1.570634,
     "end_time": "2021-12-12T06:00:11.203146",
     "exception": false,
     "start_time": "2021-12-12T06:00:09.632512",
     "status": "completed"
    },
    "tags": []
   },
   "outputs": [],
   "source": [
    "df = pd.read_sql(\"select * from EBAY_TOP_BERLIN where record_time in (select distinct record_time from EBAY_TOP_BERLIN order by record_time desc limit 2)\", sqlite3.connect(\"UsedObjects.db\"))"
   ]
  },
  {
   "cell_type": "code",
   "execution_count": 5,
   "id": "popular-active",
   "metadata": {
    "execution": {
     "iopub.execute_input": "2021-12-12T06:00:11.280527Z",
     "iopub.status.busy": "2021-12-12T06:00:11.267302Z",
     "iopub.status.idle": "2021-12-12T06:00:11.305078Z",
     "shell.execute_reply": "2021-12-12T06:00:11.306793Z"
    },
    "papermill": {
     "duration": 0.08287,
     "end_time": "2021-12-12T06:00:11.307349",
     "exception": false,
     "start_time": "2021-12-12T06:00:11.224479",
     "status": "completed"
    },
    "tags": []
   },
   "outputs": [],
   "source": [
    "df_pivot = df.pivot_table(index=\"PRODUCT\", columns = \"RECORD_TIME\", values = \"LISTING_COUNT\")"
   ]
  },
  {
   "cell_type": "code",
   "execution_count": 6,
   "id": "union-huntington",
   "metadata": {
    "execution": {
     "iopub.execute_input": "2021-12-12T06:00:11.367414Z",
     "iopub.status.busy": "2021-12-12T06:00:11.365220Z",
     "iopub.status.idle": "2021-12-12T06:00:11.370807Z",
     "shell.execute_reply": "2021-12-12T06:00:11.372148Z"
    },
    "papermill": {
     "duration": 0.043293,
     "end_time": "2021-12-12T06:00:11.372608",
     "exception": false,
     "start_time": "2021-12-12T06:00:11.329315",
     "status": "completed"
    },
    "tags": []
   },
   "outputs": [],
   "source": [
    "df_pivot.columns = [\"stamp_1\", \"stamp_2\"]\n",
    "df_pivot_diff = df_pivot.diff(axis=1)"
   ]
  },
  {
   "cell_type": "code",
   "execution_count": 7,
   "id": "fifth-motion",
   "metadata": {
    "execution": {
     "iopub.execute_input": "2021-12-12T06:00:11.430829Z",
     "iopub.status.busy": "2021-12-12T06:00:11.428119Z",
     "iopub.status.idle": "2021-12-12T06:00:13.336408Z",
     "shell.execute_reply": "2021-12-12T06:00:13.339236Z"
    },
    "papermill": {
     "duration": 1.947554,
     "end_time": "2021-12-12T06:00:13.340033",
     "exception": false,
     "start_time": "2021-12-12T06:00:11.392479",
     "status": "completed"
    },
    "tags": []
   },
   "outputs": [
    {
     "data": {
      "text/plain": [
       "<AxesSubplot:ylabel='PRODUCT'>"
      ]
     },
     "execution_count": 7,
     "metadata": {},
     "output_type": "execute_result"
    },
    {
     "data": {
      "image/png": "[encoded data removed]",
      "text/plain": [
       "<Figure size 432x288 with 1 Axes>"
      ]
     },
     "metadata": {
      "needs_background": "light"
     },
     "output_type": "display_data"
    }
   ],
   "source": [
    "df_pivot_diff.sort_values(\"stamp_2\", ascending = False)[\"stamp_2\"].head(10).plot.barh()"
   ]
  },
  {
   "cell_type": "code",
   "execution_count": null,
   "id": "extra-executive",
   "metadata": {
    "papermill": {
     "duration": 0.041167,
     "end_time": "2021-12-12T06:00:13.415907",
     "exception": false,
     "start_time": "2021-12-12T06:00:13.374740",
     "status": "completed"
    },
    "tags": []
   },
   "outputs": [],
   "source": []
  }
 ],
 "metadata": {
  "kernelspec": {
   "display_name": "Python 3",
   "language": "python",
   "name": "python3"
  },
  "language_info": {
   "codemirror_mode": {
    "name": "ipython",
    "version": 3
   },
   "file_extension": ".py",
   "mimetype": "text/x-python",
   "name": "python",
   "nbconvert_exporter": "python",
   "pygments_lexer": "ipython3",
   "version": "3.9.5"
  },
  "papermill": {
   "default_parameters": {},
   "duration": 9.538254,
   "end_time": "2021-12-12T06:00:14.181337",
   "environment_variables": {},
   "exception": null,
   "input_path": "eBay_Overview.ipynb",
   "output_path": "eBay_Overview.ipynb",
   "parameters": {},
   "start_time": "2021-12-12T06:00:04.643083",
   "version": "2.3.3"
  }
 },
 "nbformat": 4,
 "nbformat_minor": 5
}