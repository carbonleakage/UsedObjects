{
 "cells": [
  {
   "cell_type": "code",
   "execution_count": 1,
   "id": "reverse-picking",
   "metadata": {
    "execution": {
     "iopub.execute_input": "2021-12-18T05:30:07.695296Z",
     "iopub.status.busy": "2021-12-18T05:30:07.692334Z",
     "iopub.status.idle": "2021-12-18T05:30:08.663021Z",
     "shell.execute_reply": "2021-12-18T05:30:08.664673Z"
    },
    "papermill": {
     "duration": 1.004634,
     "end_time": "2021-12-18T05:30:08.665513",
     "exception": false,
     "start_time": "2021-12-18T05:30:07.660879",
     "status": "completed"
    },
    "tags": []
   },
   "outputs": [],
   "source": [
    "import pandas as pd\n",
    "import sqlite3"
   ]
  },
  {
   "cell_type": "code",
   "execution_count": 2,
   "id": "innovative-syndrome",
   "metadata": {
    "execution": {
     "iopub.execute_input": "2021-12-18T05:30:08.730714Z",
     "iopub.status.busy": "2021-12-18T05:30:08.728345Z",
     "iopub.status.idle": "2021-12-18T05:30:09.850729Z",
     "shell.execute_reply": "2021-12-18T05:30:09.851958Z"
    },
    "papermill": {
     "duration": 1.156695,
     "end_time": "2021-12-18T05:30:09.852356",
     "exception": false,
     "start_time": "2021-12-18T05:30:08.695661",
     "status": "completed"
    },
    "tags": []
   },
   "outputs": [],
   "source": [
    "timestamps = pd.read_sql(\"select distinct record_time from EBAY_TOP_BERLIN order by record_time desc limit 2\", sqlite3.connect(\"UsedObjects.db\"))"
   ]
  },
  {
   "cell_type": "code",
   "execution_count": 3,
   "id": "periodic-identification",
   "metadata": {
    "execution": {
     "iopub.execute_input": "2021-12-18T05:30:09.919369Z",
     "iopub.status.busy": "2021-12-18T05:30:09.917332Z",
     "iopub.status.idle": "2021-12-18T05:30:09.938969Z",
     "shell.execute_reply": "2021-12-18T05:30:09.937336Z"
    },
    "papermill": {
     "duration": 0.066167,
     "end_time": "2021-12-18T05:30:09.939365",
     "exception": false,
     "start_time": "2021-12-18T05:30:09.873198",
     "status": "completed"
    },
    "tags": []
   },
   "outputs": [
    {
     "data": {
      "text/html": [
       "<div>\n",
       "<style scoped>\n",
       "    .dataframe tbody tr th:only-of-type {\n",
       "        vertical-align: middle;\n",
       "    }\n",
       "\n",
       "    .dataframe tbody tr th {\n",
       "        vertical-align: top;\n",
       "    }\n",
       "\n",
       "    .dataframe thead th {\n",
       "        text-align: right;\n",
       "    }\n",
       "</style>\n",
       "<table border=\"1\" class=\"dataframe\">\n",
       "  <thead>\n",
       "    <tr style=\"text-align: right;\">\n",
       "      <th></th>\n",
       "      <th>RECORD_TIME</th>\n",
       "    </tr>\n",
       "  </thead>\n",
       "  <tbody>\n",
       "    <tr>\n",
       "      <th>0</th>\n",
       "      <td>2021-12-18 06:30</td>\n",
       "    </tr>\n",
       "    <tr>\n",
       "      <th>1</th>\n",
       "      <td>2021-12-18 06:00</td>\n",
       "    </tr>\n",
       "  </tbody>\n",
       "</table>\n",
       "</div>"
      ],
      "text/plain": [
       "        RECORD_TIME\n",
       "0  2021-12-18 06:30\n",
       "1  2021-12-18 06:00"
      ]
     },
     "execution_count": 3,
     "metadata": {},
     "output_type": "execute_result"
    }
   ],
   "source": [
    "timestamps"
   ]
  },
  {
   "cell_type": "code",
   "execution_count": 4,
   "id": "alternate-victory",
   "metadata": {
    "execution": {
     "iopub.execute_input": "2021-12-18T05:30:09.994674Z",
     "iopub.status.busy": "2021-12-18T05:30:09.992477Z",
     "iopub.status.idle": "2021-12-18T05:30:11.602946Z",
     "shell.execute_reply": "2021-12-18T05:30:11.604420Z"
    },
    "papermill": {
     "duration": 1.643447,
     "end_time": "2021-12-18T05:30:11.604967",
     "exception": false,
     "start_time": "2021-12-18T05:30:09.961520",
     "status": "completed"
    },
    "tags": []
   },
   "outputs": [],
   "source": [
    "df = pd.read_sql(\"select * from EBAY_TOP_BERLIN where record_time in (select distinct record_time from EBAY_TOP_BERLIN order by record_time desc limit 2)\", sqlite3.connect(\"UsedObjects.db\"))"
   ]
  },
  {
   "cell_type": "code",
   "execution_count": 5,
   "id": "popular-active",
   "metadata": {
    "execution": {
     "iopub.execute_input": "2021-12-18T05:30:11.669834Z",
     "iopub.status.busy": "2021-12-18T05:30:11.667461Z",
     "iopub.status.idle": "2021-12-18T05:30:11.697169Z",
     "shell.execute_reply": "2021-12-18T05:30:11.698569Z"
    },
    "papermill": {
     "duration": 0.073241,
     "end_time": "2021-12-18T05:30:11.699049",
     "exception": false,
     "start_time": "2021-12-18T05:30:11.625808",
     "status": "completed"
    },
    "tags": []
   },
   "outputs": [],
   "source": [
    "df_pivot = df.pivot_table(index=\"PRODUCT\", columns = \"RECORD_TIME\", values = \"LISTING_COUNT\")"
   ]
  },
  {
   "cell_type": "code",
   "execution_count": 6,
   "id": "union-huntington",
   "metadata": {
    "execution": {
     "iopub.execute_input": "2021-12-18T05:30:11.765066Z",
     "iopub.status.busy": "2021-12-18T05:30:11.762770Z",
     "iopub.status.idle": "2021-12-18T05:30:11.767886Z",
     "shell.execute_reply": "2021-12-18T05:30:11.769817Z"
    },
    "papermill": {
     "duration": 0.0465,
     "end_time": "2021-12-18T05:30:11.770294",
     "exception": false,
     "start_time": "2021-12-18T05:30:11.723794",
     "status": "completed"
    },
    "tags": []
   },
   "outputs": [],
   "source": [
    "df_pivot.columns = [\"stamp_1\", \"stamp_2\"]\n",
    "df_pivot_diff = df_pivot.diff(axis=1)"
   ]
  },
  {
   "cell_type": "code",
   "execution_count": 7,
   "id": "fifth-motion",
   "metadata": {
    "execution": {
     "iopub.execute_input": "2021-12-18T05:30:11.828006Z",
     "iopub.status.busy": "2021-12-18T05:30:11.825581Z",
     "iopub.status.idle": "2021-12-18T05:30:13.846405Z",
     "shell.execute_reply": "2021-12-18T05:30:13.847994Z"
    },
    "papermill": {
     "duration": 2.057441,
     "end_time": "2021-12-18T05:30:13.848496",
     "exception": false,
     "start_time": "2021-12-18T05:30:11.791055",
     "status": "completed"
    },
    "tags": []
   },
   "outputs": [
    {
     "data": {
      "text/plain": [
       "<AxesSubplot:ylabel='PRODUCT'>"
      ]
     },
     "execution_count": 7,
     "metadata": {},
     "output_type": "execute_result"
    },
    {
     "data": {
      "image/png": "[encoded data removed]",
      "text/plain": [
       "<Figure size 432x288 with 1 Axes>"
      ]
     },
     "metadata": {
      "needs_background": "light"
     },
     "output_type": "display_data"
    }
   ],
   "source": [
    "df_pivot_diff.sort_values(\"stamp_2\", ascending = False)[\"stamp_2\"].head(10).plot.barh()"
   ]
  },
  {
   "cell_type": "code",
   "execution_count": null,
   "id": "extra-executive",
   "metadata": {
    "papermill": {
     "duration": 0.026746,
     "end_time": "2021-12-18T05:30:13.907838",
     "exception": false,
     "start_time": "2021-12-18T05:30:13.881092",
     "status": "completed"
    },
    "tags": []
   },
   "outputs": [],
   "source": []
  }
 ],
 "metadata": {
  "kernelspec": {
   "display_name": "Python 3",
   "language": "python",
   "name": "python3"
  },
  "language_info": {
   "codemirror_mode": {
    "name": "ipython",
    "version": 3
   },
   "file_extension": ".py",
   "mimetype": "text/x-python",
   "name": "python",
   "nbconvert_exporter": "python",
   "pygments_lexer": "ipython3",
   "version": "3.9.5"
  },
  "papermill": {
   "default_parameters": {},
   "duration": 9.623579,
   "end_time": "2021-12-18T05:30:14.555306",
   "environment_variables": {},
   "exception": null,
   "input_path": "eBay_Overview.ipynb",
   "output_path": "eBay_Overview.ipynb",
   "parameters": {},
   "start_time": "2021-12-18T05:30:04.931727",
   "version": "2.3.3"
  }
 },
 "nbformat": 4,
 "nbformat_minor": 5
}