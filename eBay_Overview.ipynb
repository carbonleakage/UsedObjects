{
 "cells": [
  {
   "cell_type": "code",
   "execution_count": 1,
   "id": "reverse-picking",
   "metadata": {
    "execution": {
     "iopub.execute_input": "2021-11-18T06:30:07.126508Z",
     "iopub.status.busy": "2021-11-18T06:30:07.124193Z",
     "iopub.status.idle": "2021-11-18T06:30:08.073809Z",
     "shell.execute_reply": "2021-11-18T06:30:08.075202Z"
    },
    "papermill": {
     "duration": 0.997699,
     "end_time": "2021-11-18T06:30:08.075906",
     "exception": false,
     "start_time": "2021-11-18T06:30:07.078207",
     "status": "completed"
    },
    "tags": []
   },
   "outputs": [],
   "source": [
    "import pandas as pd\n",
    "import sqlite3"
   ]
  },
  {
   "cell_type": "code",
   "execution_count": 2,
   "id": "innovative-syndrome",
   "metadata": {
    "execution": {
     "iopub.execute_input": "2021-11-18T06:30:08.130599Z",
     "iopub.status.busy": "2021-11-18T06:30:08.128356Z",
     "iopub.status.idle": "2021-11-18T06:30:08.977355Z",
     "shell.execute_reply": "2021-11-18T06:30:08.978976Z"
    },
    "papermill": {
     "duration": 0.882915,
     "end_time": "2021-11-18T06:30:08.979480",
     "exception": false,
     "start_time": "2021-11-18T06:30:08.096565",
     "status": "completed"
    },
    "tags": []
   },
   "outputs": [],
   "source": [
    "timestamps = pd.read_sql(\"select distinct record_time from EBAY_TOP_BERLIN order by record_time desc limit 2\", sqlite3.connect(\"UsedObjects.db\"))"
   ]
  },
  {
   "cell_type": "code",
   "execution_count": 3,
   "id": "periodic-identification",
   "metadata": {
    "execution": {
     "iopub.execute_input": "2021-11-18T06:30:09.056433Z",
     "iopub.status.busy": "2021-11-18T06:30:09.050397Z",
     "iopub.status.idle": "2021-11-18T06:30:09.074424Z",
     "shell.execute_reply": "2021-11-18T06:30:09.072616Z"
    },
    "papermill": {
     "duration": 0.073556,
     "end_time": "2021-11-18T06:30:09.074901",
     "exception": false,
     "start_time": "2021-11-18T06:30:09.001345",
     "status": "completed"
    },
    "tags": []
   },
   "outputs": [
    {
     "data": {
      "text/html": [
       "<div>\n",
       "<style scoped>\n",
       "    .dataframe tbody tr th:only-of-type {\n",
       "        vertical-align: middle;\n",
       "    }\n",
       "\n",
       "    .dataframe tbody tr th {\n",
       "        vertical-align: top;\n",
       "    }\n",
       "\n",
       "    .dataframe thead th {\n",
       "        text-align: right;\n",
       "    }\n",
       "</style>\n",
       "<table border=\"1\" class=\"dataframe\">\n",
       "  <thead>\n",
       "    <tr style=\"text-align: right;\">\n",
       "      <th></th>\n",
       "      <th>RECORD_TIME</th>\n",
       "    </tr>\n",
       "  </thead>\n",
       "  <tbody>\n",
       "    <tr>\n",
       "      <th>0</th>\n",
       "      <td>2021-11-18 07:30</td>\n",
       "    </tr>\n",
       "    <tr>\n",
       "      <th>1</th>\n",
       "      <td>2021-11-18 07:00</td>\n",
       "    </tr>\n",
       "  </tbody>\n",
       "</table>\n",
       "</div>"
      ],
      "text/plain": [
       "        RECORD_TIME\n",
       "0  2021-11-18 07:30\n",
       "1  2021-11-18 07:00"
      ]
     },
     "execution_count": 3,
     "metadata": {},
     "output_type": "execute_result"
    }
   ],
   "source": [
    "timestamps"
   ]
  },
  {
   "cell_type": "code",
   "execution_count": 4,
   "id": "alternate-victory",
   "metadata": {
    "execution": {
     "iopub.execute_input": "2021-11-18T06:30:09.130557Z",
     "iopub.status.busy": "2021-11-18T06:30:09.128179Z",
     "iopub.status.idle": "2021-11-18T06:30:10.369033Z",
     "shell.execute_reply": "2021-11-18T06:30:10.370550Z"
    },
    "papermill": {
     "duration": 1.274811,
     "end_time": "2021-11-18T06:30:10.371008",
     "exception": false,
     "start_time": "2021-11-18T06:30:09.096197",
     "status": "completed"
    },
    "tags": []
   },
   "outputs": [],
   "source": [
    "df = pd.read_sql(\"select * from EBAY_TOP_BERLIN where record_time in (select distinct record_time from EBAY_TOP_BERLIN order by record_time desc limit 2)\", sqlite3.connect(\"UsedObjects.db\"))"
   ]
  },
  {
   "cell_type": "code",
   "execution_count": 5,
   "id": "popular-active",
   "metadata": {
    "execution": {
     "iopub.execute_input": "2021-11-18T06:30:10.441650Z",
     "iopub.status.busy": "2021-11-18T06:30:10.430563Z",
     "iopub.status.idle": "2021-11-18T06:30:10.457244Z",
     "shell.execute_reply": "2021-11-18T06:30:10.458464Z"
    },
    "papermill": {
     "duration": 0.06697,
     "end_time": "2021-11-18T06:30:10.458868",
     "exception": false,
     "start_time": "2021-11-18T06:30:10.391898",
     "status": "completed"
    },
    "tags": []
   },
   "outputs": [],
   "source": [
    "df_pivot = df.pivot_table(index=\"PRODUCT\", columns = \"RECORD_TIME\", values = \"LISTING_COUNT\")"
   ]
  },
  {
   "cell_type": "code",
   "execution_count": 6,
   "id": "union-huntington",
   "metadata": {
    "execution": {
     "iopub.execute_input": "2021-11-18T06:30:10.517082Z",
     "iopub.status.busy": "2021-11-18T06:30:10.514775Z",
     "iopub.status.idle": "2021-11-18T06:30:10.520483Z",
     "shell.execute_reply": "2021-11-18T06:30:10.521826Z"
    },
    "papermill": {
     "duration": 0.041741,
     "end_time": "2021-11-18T06:30:10.522258",
     "exception": false,
     "start_time": "2021-11-18T06:30:10.480517",
     "status": "completed"
    },
    "tags": []
   },
   "outputs": [],
   "source": [
    "df_pivot.columns = [\"stamp_1\", \"stamp_2\"]\n",
    "df_pivot_diff = df_pivot.diff(axis=1)"
   ]
  },
  {
   "cell_type": "code",
   "execution_count": 7,
   "id": "fifth-motion",
   "metadata": {
    "execution": {
     "iopub.execute_input": "2021-11-18T06:30:10.578013Z",
     "iopub.status.busy": "2021-11-18T06:30:10.575388Z",
     "iopub.status.idle": "2021-11-18T06:30:12.307367Z",
     "shell.execute_reply": "2021-11-18T06:30:12.308746Z"
    },
    "papermill": {
     "duration": 1.76619,
     "end_time": "2021-11-18T06:30:12.309239",
     "exception": false,
     "start_time": "2021-11-18T06:30:10.543049",
     "status": "completed"
    },
    "tags": []
   },
   "outputs": [
    {
     "data": {
      "text/plain": [
       "<AxesSubplot:ylabel='PRODUCT'>"
      ]
     },
     "execution_count": 7,
     "metadata": {},
     "output_type": "execute_result"
    },
    {
     "data": {
      "image/png": "[encoded data removed]",
      "text/plain": [
       "<Figure size 432x288 with 1 Axes>"
      ]
     },
     "metadata": {
      "needs_background": "light"
     },
     "output_type": "display_data"
    }
   ],
   "source": [
    "df_pivot_diff.sort_values(\"stamp_2\", ascending = False)[\"stamp_2\"].head(10).plot.barh()"
   ]
  },
  {
   "cell_type": "code",
   "execution_count": null,
   "id": "extra-executive",
   "metadata": {
    "papermill": {
     "duration": 0.02333,
     "end_time": "2021-11-18T06:30:12.355763",
     "exception": false,
     "start_time": "2021-11-18T06:30:12.332433",
     "status": "completed"
    },
    "tags": []
   },
   "outputs": [],
   "source": []
  }
 ],
 "metadata": {
  "kernelspec": {
   "display_name": "Python 3",
   "language": "python",
   "name": "python3"
  },
  "language_info": {
   "codemirror_mode": {
    "name": "ipython",
    "version": 3
   },
   "file_extension": ".py",
   "mimetype": "text/x-python",
   "name": "python",
   "nbconvert_exporter": "python",
   "pygments_lexer": "ipython3",
   "version": "3.9.5"
  },
  "papermill": {
   "default_parameters": {},
   "duration": 8.76006,
   "end_time": "2021-11-18T06:30:13.100393",
   "environment_variables": {},
   "exception": null,
   "input_path": "eBay_Overview.ipynb",
   "output_path": "eBay_Overview.ipynb",
   "parameters": {},
   "start_time": "2021-11-18T06:30:04.340333",
   "version": "2.3.3"
  }
 },
 "nbformat": 4,
 "nbformat_minor": 5
}