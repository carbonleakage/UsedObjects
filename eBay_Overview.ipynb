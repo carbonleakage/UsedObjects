{
 "cells": [
  {
   "cell_type": "code",
   "execution_count": 1,
   "id": "reverse-picking",
   "metadata": {
    "execution": {
     "iopub.execute_input": "2021-12-01T22:00:07.725801Z",
     "iopub.status.busy": "2021-12-01T22:00:07.723456Z",
     "iopub.status.idle": "2021-12-01T22:00:08.686424Z",
     "shell.execute_reply": "2021-12-01T22:00:08.687942Z"
    },
    "papermill": {
     "duration": 1.013563,
     "end_time": "2021-12-01T22:00:08.688803",
     "exception": false,
     "start_time": "2021-12-01T22:00:07.675240",
     "status": "completed"
    },
    "tags": []
   },
   "outputs": [],
   "source": [
    "import pandas as pd\n",
    "import sqlite3"
   ]
  },
  {
   "cell_type": "code",
   "execution_count": 2,
   "id": "innovative-syndrome",
   "metadata": {
    "execution": {
     "iopub.execute_input": "2021-12-01T22:00:08.744230Z",
     "iopub.status.busy": "2021-12-01T22:00:08.741819Z",
     "iopub.status.idle": "2021-12-01T22:00:09.701420Z",
     "shell.execute_reply": "2021-12-01T22:00:09.703342Z"
    },
    "papermill": {
     "duration": 0.993675,
     "end_time": "2021-12-01T22:00:09.703830",
     "exception": false,
     "start_time": "2021-12-01T22:00:08.710155",
     "status": "completed"
    },
    "tags": []
   },
   "outputs": [],
   "source": [
    "timestamps = pd.read_sql(\"select distinct record_time from EBAY_TOP_BERLIN order by record_time desc limit 2\", sqlite3.connect(\"UsedObjects.db\"))"
   ]
  },
  {
   "cell_type": "code",
   "execution_count": 3,
   "id": "periodic-identification",
   "metadata": {
    "execution": {
     "iopub.execute_input": "2021-12-01T22:00:09.779482Z",
     "iopub.status.busy": "2021-12-01T22:00:09.773809Z",
     "iopub.status.idle": "2021-12-01T22:00:09.799753Z",
     "shell.execute_reply": "2021-12-01T22:00:09.798195Z"
    },
    "papermill": {
     "duration": 0.074845,
     "end_time": "2021-12-01T22:00:09.800142",
     "exception": false,
     "start_time": "2021-12-01T22:00:09.725297",
     "status": "completed"
    },
    "tags": []
   },
   "outputs": [
    {
     "data": {
      "text/html": [
       "<div>\n",
       "<style scoped>\n",
       "    .dataframe tbody tr th:only-of-type {\n",
       "        vertical-align: middle;\n",
       "    }\n",
       "\n",
       "    .dataframe tbody tr th {\n",
       "        vertical-align: top;\n",
       "    }\n",
       "\n",
       "    .dataframe thead th {\n",
       "        text-align: right;\n",
       "    }\n",
       "</style>\n",
       "<table border=\"1\" class=\"dataframe\">\n",
       "  <thead>\n",
       "    <tr style=\"text-align: right;\">\n",
       "      <th></th>\n",
       "      <th>RECORD_TIME</th>\n",
       "    </tr>\n",
       "  </thead>\n",
       "  <tbody>\n",
       "    <tr>\n",
       "      <th>0</th>\n",
       "      <td>2021-12-01 23:00</td>\n",
       "    </tr>\n",
       "    <tr>\n",
       "      <th>1</th>\n",
       "      <td>2021-12-01 22:30</td>\n",
       "    </tr>\n",
       "  </tbody>\n",
       "</table>\n",
       "</div>"
      ],
      "text/plain": [
       "        RECORD_TIME\n",
       "0  2021-12-01 23:00\n",
       "1  2021-12-01 22:30"
      ]
     },
     "execution_count": 3,
     "metadata": {},
     "output_type": "execute_result"
    }
   ],
   "source": [
    "timestamps"
   ]
  },
  {
   "cell_type": "code",
   "execution_count": 4,
   "id": "alternate-victory",
   "metadata": {
    "execution": {
     "iopub.execute_input": "2021-12-01T22:00:09.855885Z",
     "iopub.status.busy": "2021-12-01T22:00:09.853368Z",
     "iopub.status.idle": "2021-12-01T22:00:11.259346Z",
     "shell.execute_reply": "2021-12-01T22:00:11.261043Z"
    },
    "papermill": {
     "duration": 1.440401,
     "end_time": "2021-12-01T22:00:11.261664",
     "exception": false,
     "start_time": "2021-12-01T22:00:09.821263",
     "status": "completed"
    },
    "tags": []
   },
   "outputs": [],
   "source": [
    "df = pd.read_sql(\"select * from EBAY_TOP_BERLIN where record_time in (select distinct record_time from EBAY_TOP_BERLIN order by record_time desc limit 2)\", sqlite3.connect(\"UsedObjects.db\"))"
   ]
  },
  {
   "cell_type": "code",
   "execution_count": 5,
   "id": "popular-active",
   "metadata": {
    "execution": {
     "iopub.execute_input": "2021-12-01T22:00:11.339236Z",
     "iopub.status.busy": "2021-12-01T22:00:11.332065Z",
     "iopub.status.idle": "2021-12-01T22:00:11.356456Z",
     "shell.execute_reply": "2021-12-01T22:00:11.357919Z"
    },
    "papermill": {
     "duration": 0.074575,
     "end_time": "2021-12-01T22:00:11.358397",
     "exception": false,
     "start_time": "2021-12-01T22:00:11.283822",
     "status": "completed"
    },
    "tags": []
   },
   "outputs": [],
   "source": [
    "df_pivot = df.pivot_table(index=\"PRODUCT\", columns = \"RECORD_TIME\", values = \"LISTING_COUNT\")"
   ]
  },
  {
   "cell_type": "code",
   "execution_count": 6,
   "id": "union-huntington",
   "metadata": {
    "execution": {
     "iopub.execute_input": "2021-12-01T22:00:11.417482Z",
     "iopub.status.busy": "2021-12-01T22:00:11.415036Z",
     "iopub.status.idle": "2021-12-01T22:00:11.423502Z",
     "shell.execute_reply": "2021-12-01T22:00:11.420931Z"
    },
    "papermill": {
     "duration": 0.045782,
     "end_time": "2021-12-01T22:00:11.424011",
     "exception": false,
     "start_time": "2021-12-01T22:00:11.378229",
     "status": "completed"
    },
    "tags": []
   },
   "outputs": [],
   "source": [
    "df_pivot.columns = [\"stamp_1\", \"stamp_2\"]\n",
    "df_pivot_diff = df_pivot.diff(axis=1)"
   ]
  },
  {
   "cell_type": "code",
   "execution_count": 7,
   "id": "fifth-motion",
   "metadata": {
    "execution": {
     "iopub.execute_input": "2021-12-01T22:00:11.486008Z",
     "iopub.status.busy": "2021-12-01T22:00:11.483073Z",
     "iopub.status.idle": "2021-12-01T22:00:13.430802Z",
     "shell.execute_reply": "2021-12-01T22:00:13.433574Z"
    },
    "papermill": {
     "duration": 1.98637,
     "end_time": "2021-12-01T22:00:13.434409",
     "exception": false,
     "start_time": "2021-12-01T22:00:11.448039",
     "status": "completed"
    },
    "tags": []
   },
   "outputs": [
    {
     "data": {
      "text/plain": [
       "<AxesSubplot:ylabel='PRODUCT'>"
      ]
     },
     "execution_count": 7,
     "metadata": {},
     "output_type": "execute_result"
    },
    {
     "data": {
      "image/png": "[encoded data removed]",
      "text/plain": [
       "<Figure size 432x288 with 1 Axes>"
      ]
     },
     "metadata": {
      "needs_background": "light"
     },
     "output_type": "display_data"
    }
   ],
   "source": [
    "df_pivot_diff.sort_values(\"stamp_2\", ascending = False)[\"stamp_2\"].head(10).plot.barh()"
   ]
  },
  {
   "cell_type": "code",
   "execution_count": null,
   "id": "extra-executive",
   "metadata": {
    "papermill": {
     "duration": 0.029127,
     "end_time": "2021-12-01T22:00:13.498672",
     "exception": false,
     "start_time": "2021-12-01T22:00:13.469545",
     "status": "completed"
    },
    "tags": []
   },
   "outputs": [],
   "source": []
  }
 ],
 "metadata": {
  "kernelspec": {
   "display_name": "Python 3",
   "language": "python",
   "name": "python3"
  },
  "language_info": {
   "codemirror_mode": {
    "name": "ipython",
    "version": 3
   },
   "file_extension": ".py",
   "mimetype": "text/x-python",
   "name": "python",
   "nbconvert_exporter": "python",
   "pygments_lexer": "ipython3",
   "version": "3.9.5"
  },
  "papermill": {
   "default_parameters": {},
   "duration": 9.941935,
   "end_time": "2021-12-01T22:00:14.877251",
   "environment_variables": {},
   "exception": null,
   "input_path": "eBay_Overview.ipynb",
   "output_path": "eBay_Overview.ipynb",
   "parameters": {},
   "start_time": "2021-12-01T22:00:04.935316",
   "version": "2.3.3"
  }
 },
 "nbformat": 4,
 "nbformat_minor": 5
}