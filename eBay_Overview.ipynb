{
 "cells": [
  {
   "cell_type": "code",
   "execution_count": 1,
   "id": "reverse-picking",
   "metadata": {
    "execution": {
     "iopub.execute_input": "2021-11-16T08:00:07.264586Z",
     "iopub.status.busy": "2021-11-16T08:00:07.248619Z",
     "iopub.status.idle": "2021-11-16T08:00:08.215209Z",
     "shell.execute_reply": "2021-11-16T08:00:08.216771Z"
    },
    "papermill": {
     "duration": 1.001994,
     "end_time": "2021-11-16T08:00:08.217538",
     "exception": false,
     "start_time": "2021-11-16T08:00:07.215544",
     "status": "completed"
    },
    "tags": []
   },
   "outputs": [],
   "source": [
    "import pandas as pd\n",
    "import sqlite3"
   ]
  },
  {
   "cell_type": "code",
   "execution_count": 2,
   "id": "innovative-syndrome",
   "metadata": {
    "execution": {
     "iopub.execute_input": "2021-11-16T08:00:08.294305Z",
     "iopub.status.busy": "2021-11-16T08:00:08.291622Z",
     "iopub.status.idle": "2021-11-16T08:00:09.126005Z",
     "shell.execute_reply": "2021-11-16T08:00:09.127490Z"
    },
    "papermill": {
     "duration": 0.88274,
     "end_time": "2021-11-16T08:00:09.127984",
     "exception": false,
     "start_time": "2021-11-16T08:00:08.245244",
     "status": "completed"
    },
    "tags": []
   },
   "outputs": [],
   "source": [
    "timestamps = pd.read_sql(\"select distinct record_time from EBAY_TOP_BERLIN order by record_time desc limit 2\", sqlite3.connect(\"UsedObjects.db\"))"
   ]
  },
  {
   "cell_type": "code",
   "execution_count": 3,
   "id": "periodic-identification",
   "metadata": {
    "execution": {
     "iopub.execute_input": "2021-11-16T08:00:09.199273Z",
     "iopub.status.busy": "2021-11-16T08:00:09.197237Z",
     "iopub.status.idle": "2021-11-16T08:00:09.217934Z",
     "shell.execute_reply": "2021-11-16T08:00:09.219148Z"
    },
    "papermill": {
     "duration": 0.069731,
     "end_time": "2021-11-16T08:00:09.219535",
     "exception": false,
     "start_time": "2021-11-16T08:00:09.149804",
     "status": "completed"
    },
    "tags": []
   },
   "outputs": [
    {
     "data": {
      "text/html": [
       "<div>\n",
       "<style scoped>\n",
       "    .dataframe tbody tr th:only-of-type {\n",
       "        vertical-align: middle;\n",
       "    }\n",
       "\n",
       "    .dataframe tbody tr th {\n",
       "        vertical-align: top;\n",
       "    }\n",
       "\n",
       "    .dataframe thead th {\n",
       "        text-align: right;\n",
       "    }\n",
       "</style>\n",
       "<table border=\"1\" class=\"dataframe\">\n",
       "  <thead>\n",
       "    <tr style=\"text-align: right;\">\n",
       "      <th></th>\n",
       "      <th>RECORD_TIME</th>\n",
       "    </tr>\n",
       "  </thead>\n",
       "  <tbody>\n",
       "    <tr>\n",
       "      <th>0</th>\n",
       "      <td>2021-11-16 09:00</td>\n",
       "    </tr>\n",
       "    <tr>\n",
       "      <th>1</th>\n",
       "      <td>2021-11-16 08:30</td>\n",
       "    </tr>\n",
       "  </tbody>\n",
       "</table>\n",
       "</div>"
      ],
      "text/plain": [
       "        RECORD_TIME\n",
       "0  2021-11-16 09:00\n",
       "1  2021-11-16 08:30"
      ]
     },
     "execution_count": 3,
     "metadata": {},
     "output_type": "execute_result"
    }
   ],
   "source": [
    "timestamps"
   ]
  },
  {
   "cell_type": "code",
   "execution_count": 4,
   "id": "alternate-victory",
   "metadata": {
    "execution": {
     "iopub.execute_input": "2021-11-16T08:00:09.271858Z",
     "iopub.status.busy": "2021-11-16T08:00:09.269599Z",
     "iopub.status.idle": "2021-11-16T08:00:10.492215Z",
     "shell.execute_reply": "2021-11-16T08:00:10.493819Z"
    },
    "papermill": {
     "duration": 1.253472,
     "end_time": "2021-11-16T08:00:10.494295",
     "exception": false,
     "start_time": "2021-11-16T08:00:09.240823",
     "status": "completed"
    },
    "tags": []
   },
   "outputs": [],
   "source": [
    "df = pd.read_sql(\"select * from EBAY_TOP_BERLIN where record_time in (select distinct record_time from EBAY_TOP_BERLIN order by record_time desc limit 2)\", sqlite3.connect(\"UsedObjects.db\"))"
   ]
  },
  {
   "cell_type": "code",
   "execution_count": 5,
   "id": "popular-active",
   "metadata": {
    "execution": {
     "iopub.execute_input": "2021-11-16T08:00:10.572732Z",
     "iopub.status.busy": "2021-11-16T08:00:10.559295Z",
     "iopub.status.idle": "2021-11-16T08:00:10.595199Z",
     "shell.execute_reply": "2021-11-16T08:00:10.593366Z"
    },
    "papermill": {
     "duration": 0.079373,
     "end_time": "2021-11-16T08:00:10.595628",
     "exception": false,
     "start_time": "2021-11-16T08:00:10.516255",
     "status": "completed"
    },
    "tags": []
   },
   "outputs": [],
   "source": [
    "df_pivot = df.pivot_table(index=\"PRODUCT\", columns = \"RECORD_TIME\", values = \"LISTING_COUNT\")"
   ]
  },
  {
   "cell_type": "code",
   "execution_count": 6,
   "id": "union-huntington",
   "metadata": {
    "execution": {
     "iopub.execute_input": "2021-11-16T08:00:10.655500Z",
     "iopub.status.busy": "2021-11-16T08:00:10.653319Z",
     "iopub.status.idle": "2021-11-16T08:00:10.659172Z",
     "shell.execute_reply": "2021-11-16T08:00:10.660509Z"
    },
    "papermill": {
     "duration": 0.043884,
     "end_time": "2021-11-16T08:00:10.661092",
     "exception": false,
     "start_time": "2021-11-16T08:00:10.617208",
     "status": "completed"
    },
    "tags": []
   },
   "outputs": [],
   "source": [
    "df_pivot.columns = [\"stamp_1\", \"stamp_2\"]\n",
    "df_pivot_diff = df_pivot.diff(axis=1)"
   ]
  },
  {
   "cell_type": "code",
   "execution_count": 7,
   "id": "fifth-motion",
   "metadata": {
    "execution": {
     "iopub.execute_input": "2021-11-16T08:00:10.730260Z",
     "iopub.status.busy": "2021-11-16T08:00:10.727972Z",
     "iopub.status.idle": "2021-11-16T08:00:12.682254Z",
     "shell.execute_reply": "2021-11-16T08:00:12.684769Z"
    },
    "papermill": {
     "duration": 2.004406,
     "end_time": "2021-11-16T08:00:12.685465",
     "exception": false,
     "start_time": "2021-11-16T08:00:10.681059",
     "status": "completed"
    },
    "tags": []
   },
   "outputs": [
    {
     "data": {
      "text/plain": [
       "<AxesSubplot:ylabel='PRODUCT'>"
      ]
     },
     "execution_count": 7,
     "metadata": {},
     "output_type": "execute_result"
    },
    {
     "data": {
      "image/png": "[encoded data removed]",
      "text/plain": [
       "<Figure size 432x288 with 1 Axes>"
      ]
     },
     "metadata": {
      "needs_background": "light"
     },
     "output_type": "display_data"
    }
   ],
   "source": [
    "df_pivot_diff.sort_values(\"stamp_2\", ascending = False)[\"stamp_2\"].head(10).plot.barh()"
   ]
  },
  {
   "cell_type": "code",
   "execution_count": null,
   "id": "extra-executive",
   "metadata": {
    "papermill": {
     "duration": 0.02819,
     "end_time": "2021-11-16T08:00:12.747873",
     "exception": false,
     "start_time": "2021-11-16T08:00:12.719683",
     "status": "completed"
    },
    "tags": []
   },
   "outputs": [],
   "source": []
  }
 ],
 "metadata": {
  "kernelspec": {
   "display_name": "Python 3",
   "language": "python",
   "name": "python3"
  },
  "language_info": {
   "codemirror_mode": {
    "name": "ipython",
    "version": 3
   },
   "file_extension": ".py",
   "mimetype": "text/x-python",
   "name": "python",
   "nbconvert_exporter": "python",
   "pygments_lexer": "ipython3",
   "version": "3.9.5"
  },
  "papermill": {
   "default_parameters": {},
   "duration": 9.927684,
   "end_time": "2021-11-16T08:00:14.426842",
   "environment_variables": {},
   "exception": null,
   "input_path": "eBay_Overview.ipynb",
   "output_path": "eBay_Overview.ipynb",
   "parameters": {},
   "start_time": "2021-11-16T08:00:04.499158",
   "version": "2.3.3"
  }
 },
 "nbformat": 4,
 "nbformat_minor": 5
}