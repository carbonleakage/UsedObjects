{
 "cells": [
  {
   "cell_type": "code",
   "execution_count": 1,
   "id": "reverse-picking",
   "metadata": {
    "execution": {
     "iopub.execute_input": "2021-10-25T13:30:07.477854Z",
     "iopub.status.busy": "2021-10-25T13:30:07.475748Z",
     "iopub.status.idle": "2021-10-25T13:30:08.294946Z",
     "shell.execute_reply": "2021-10-25T13:30:08.296262Z"
    },
    "papermill": {
     "duration": 0.870048,
     "end_time": "2021-10-25T13:30:08.296957",
     "exception": false,
     "start_time": "2021-10-25T13:30:07.426909",
     "status": "completed"
    },
    "tags": []
   },
   "outputs": [],
   "source": [
    "import pandas as pd\n",
    "import sqlite3"
   ]
  },
  {
   "cell_type": "code",
   "execution_count": 2,
   "id": "innovative-syndrome",
   "metadata": {
    "execution": {
     "iopub.execute_input": "2021-10-25T13:30:08.347822Z",
     "iopub.status.busy": "2021-10-25T13:30:08.345952Z",
     "iopub.status.idle": "2021-10-25T13:30:08.985613Z",
     "shell.execute_reply": "2021-10-25T13:30:08.986891Z"
    },
    "papermill": {
     "duration": 0.669277,
     "end_time": "2021-10-25T13:30:08.987339",
     "exception": false,
     "start_time": "2021-10-25T13:30:08.318062",
     "status": "completed"
    },
    "tags": []
   },
   "outputs": [],
   "source": [
    "timestamps = pd.read_sql(\"select distinct record_time from EBAY_TOP_BERLIN order by record_time desc limit 2\", sqlite3.connect(\"UsedObjects.db\"))"
   ]
  },
  {
   "cell_type": "code",
   "execution_count": 3,
   "id": "periodic-identification",
   "metadata": {
    "execution": {
     "iopub.execute_input": "2021-10-25T13:30:09.064269Z",
     "iopub.status.busy": "2021-10-25T13:30:09.058901Z",
     "iopub.status.idle": "2021-10-25T13:30:09.078944Z",
     "shell.execute_reply": "2021-10-25T13:30:09.080069Z"
    },
    "papermill": {
     "duration": 0.068018,
     "end_time": "2021-10-25T13:30:09.080476",
     "exception": false,
     "start_time": "2021-10-25T13:30:09.012458",
     "status": "completed"
    },
    "tags": []
   },
   "outputs": [
    {
     "data": {
      "text/html": [
       "<div>\n",
       "<style scoped>\n",
       "    .dataframe tbody tr th:only-of-type {\n",
       "        vertical-align: middle;\n",
       "    }\n",
       "\n",
       "    .dataframe tbody tr th {\n",
       "        vertical-align: top;\n",
       "    }\n",
       "\n",
       "    .dataframe thead th {\n",
       "        text-align: right;\n",
       "    }\n",
       "</style>\n",
       "<table border=\"1\" class=\"dataframe\">\n",
       "  <thead>\n",
       "    <tr style=\"text-align: right;\">\n",
       "      <th></th>\n",
       "      <th>RECORD_TIME</th>\n",
       "    </tr>\n",
       "  </thead>\n",
       "  <tbody>\n",
       "    <tr>\n",
       "      <th>0</th>\n",
       "      <td>2021-10-25 15:30</td>\n",
       "    </tr>\n",
       "    <tr>\n",
       "      <th>1</th>\n",
       "      <td>2021-10-25 15:00</td>\n",
       "    </tr>\n",
       "  </tbody>\n",
       "</table>\n",
       "</div>"
      ],
      "text/plain": [
       "        RECORD_TIME\n",
       "0  2021-10-25 15:30\n",
       "1  2021-10-25 15:00"
      ]
     },
     "execution_count": 3,
     "metadata": {},
     "output_type": "execute_result"
    }
   ],
   "source": [
    "timestamps"
   ]
  },
  {
   "cell_type": "code",
   "execution_count": 4,
   "id": "alternate-victory",
   "metadata": {
    "execution": {
     "iopub.execute_input": "2021-10-25T13:30:09.134716Z",
     "iopub.status.busy": "2021-10-25T13:30:09.132344Z",
     "iopub.status.idle": "2021-10-25T13:30:10.074818Z",
     "shell.execute_reply": "2021-10-25T13:30:10.076026Z"
    },
    "papermill": {
     "duration": 0.972602,
     "end_time": "2021-10-25T13:30:10.076414",
     "exception": false,
     "start_time": "2021-10-25T13:30:09.103812",
     "status": "completed"
    },
    "tags": []
   },
   "outputs": [],
   "source": [
    "df = pd.read_sql(\"select * from EBAY_TOP_BERLIN where record_time in (select distinct record_time from EBAY_TOP_BERLIN order by record_time desc limit 2)\", sqlite3.connect(\"UsedObjects.db\"))"
   ]
  },
  {
   "cell_type": "code",
   "execution_count": 5,
   "id": "popular-active",
   "metadata": {
    "execution": {
     "iopub.execute_input": "2021-10-25T13:30:10.147750Z",
     "iopub.status.busy": "2021-10-25T13:30:10.134813Z",
     "iopub.status.idle": "2021-10-25T13:30:10.163244Z",
     "shell.execute_reply": "2021-10-25T13:30:10.164516Z"
    },
    "papermill": {
     "duration": 0.068173,
     "end_time": "2021-10-25T13:30:10.165002",
     "exception": false,
     "start_time": "2021-10-25T13:30:10.096829",
     "status": "completed"
    },
    "tags": []
   },
   "outputs": [],
   "source": [
    "df_pivot = df.pivot_table(index=\"PRODUCT\", columns = \"RECORD_TIME\", values = \"LISTING_COUNT\")"
   ]
  },
  {
   "cell_type": "code",
   "execution_count": 6,
   "id": "union-huntington",
   "metadata": {
    "execution": {
     "iopub.execute_input": "2021-10-25T13:30:10.221139Z",
     "iopub.status.busy": "2021-10-25T13:30:10.218962Z",
     "iopub.status.idle": "2021-10-25T13:30:10.224520Z",
     "shell.execute_reply": "2021-10-25T13:30:10.226035Z"
    },
    "papermill": {
     "duration": 0.041327,
     "end_time": "2021-10-25T13:30:10.226621",
     "exception": false,
     "start_time": "2021-10-25T13:30:10.185294",
     "status": "completed"
    },
    "tags": []
   },
   "outputs": [],
   "source": [
    "df_pivot.columns = [\"stamp_1\", \"stamp_2\"]\n",
    "df_pivot_diff = df_pivot.diff(axis=1)"
   ]
  },
  {
   "cell_type": "code",
   "execution_count": 7,
   "id": "fifth-motion",
   "metadata": {
    "execution": {
     "iopub.execute_input": "2021-10-25T13:30:10.283011Z",
     "iopub.status.busy": "2021-10-25T13:30:10.280626Z",
     "iopub.status.idle": "2021-10-25T13:30:11.749049Z",
     "shell.execute_reply": "2021-10-25T13:30:11.750382Z"
    },
    "papermill": {
     "duration": 1.501746,
     "end_time": "2021-10-25T13:30:11.750799",
     "exception": false,
     "start_time": "2021-10-25T13:30:10.249053",
     "status": "completed"
    },
    "tags": []
   },
   "outputs": [
    {
     "data": {
      "text/plain": [
       "<AxesSubplot:ylabel='PRODUCT'>"
      ]
     },
     "execution_count": 7,
     "metadata": {},
     "output_type": "execute_result"
    },
    {
     "data": {
      "image/png": "[encoded data removed]",
      "text/plain": [
       "<Figure size 432x288 with 1 Axes>"
      ]
     },
     "metadata": {
      "needs_background": "light"
     },
     "output_type": "display_data"
    }
   ],
   "source": [
    "df_pivot_diff.sort_values(\"stamp_2\", ascending = False)[\"stamp_2\"].head(10).plot.barh()"
   ]
  },
  {
   "cell_type": "code",
   "execution_count": null,
   "id": "extra-executive",
   "metadata": {
    "papermill": {
     "duration": 0.022337,
     "end_time": "2021-10-25T13:30:11.797969",
     "exception": false,
     "start_time": "2021-10-25T13:30:11.775632",
     "status": "completed"
    },
    "tags": []
   },
   "outputs": [],
   "source": []
  }
 ],
 "metadata": {
  "kernelspec": {
   "display_name": "Python 3",
   "language": "python",
   "name": "python3"
  },
  "language_info": {
   "codemirror_mode": {
    "name": "ipython",
    "version": 3
   },
   "file_extension": ".py",
   "mimetype": "text/x-python",
   "name": "python",
   "nbconvert_exporter": "python",
   "pygments_lexer": "ipython3",
   "version": "3.9.5"
  },
  "papermill": {
   "default_parameters": {},
   "duration": 7.441662,
   "end_time": "2021-10-25T13:30:12.441165",
   "environment_variables": {},
   "exception": null,
   "input_path": "eBay_Overview.ipynb",
   "output_path": "eBay_Overview.ipynb",
   "parameters": {},
   "start_time": "2021-10-25T13:30:04.999503",
   "version": "2.3.3"
  }
 },
 "nbformat": 4,
 "nbformat_minor": 5
}