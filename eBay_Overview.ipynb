{
 "cells": [
  {
   "cell_type": "code",
   "execution_count": 1,
   "id": "reverse-picking",
   "metadata": {
    "execution": {
     "iopub.execute_input": "2021-11-16T10:30:07.998367Z",
     "iopub.status.busy": "2021-11-16T10:30:07.996175Z",
     "iopub.status.idle": "2021-11-16T10:30:08.965462Z",
     "shell.execute_reply": "2021-11-16T10:30:08.967054Z"
    },
    "papermill": {
     "duration": 1.017807,
     "end_time": "2021-11-16T10:30:08.967766",
     "exception": false,
     "start_time": "2021-11-16T10:30:07.949959",
     "status": "completed"
    },
    "tags": []
   },
   "outputs": [],
   "source": [
    "import pandas as pd\n",
    "import sqlite3"
   ]
  },
  {
   "cell_type": "code",
   "execution_count": 2,
   "id": "innovative-syndrome",
   "metadata": {
    "execution": {
     "iopub.execute_input": "2021-11-16T10:30:09.029301Z",
     "iopub.status.busy": "2021-11-16T10:30:09.026905Z",
     "iopub.status.idle": "2021-11-16T10:30:09.861734Z",
     "shell.execute_reply": "2021-11-16T10:30:09.862958Z"
    },
    "papermill": {
     "duration": 0.868686,
     "end_time": "2021-11-16T10:30:09.863360",
     "exception": false,
     "start_time": "2021-11-16T10:30:08.994674",
     "status": "completed"
    },
    "tags": []
   },
   "outputs": [],
   "source": [
    "timestamps = pd.read_sql(\"select distinct record_time from EBAY_TOP_BERLIN order by record_time desc limit 2\", sqlite3.connect(\"UsedObjects.db\"))"
   ]
  },
  {
   "cell_type": "code",
   "execution_count": 3,
   "id": "periodic-identification",
   "metadata": {
    "execution": {
     "iopub.execute_input": "2021-11-16T10:30:09.930037Z",
     "iopub.status.busy": "2021-11-16T10:30:09.927956Z",
     "iopub.status.idle": "2021-11-16T10:30:09.949687Z",
     "shell.execute_reply": "2021-11-16T10:30:09.951100Z"
    },
    "papermill": {
     "duration": 0.066768,
     "end_time": "2021-11-16T10:30:09.951587",
     "exception": false,
     "start_time": "2021-11-16T10:30:09.884819",
     "status": "completed"
    },
    "tags": []
   },
   "outputs": [
    {
     "data": {
      "text/html": [
       "<div>\n",
       "<style scoped>\n",
       "    .dataframe tbody tr th:only-of-type {\n",
       "        vertical-align: middle;\n",
       "    }\n",
       "\n",
       "    .dataframe tbody tr th {\n",
       "        vertical-align: top;\n",
       "    }\n",
       "\n",
       "    .dataframe thead th {\n",
       "        text-align: right;\n",
       "    }\n",
       "</style>\n",
       "<table border=\"1\" class=\"dataframe\">\n",
       "  <thead>\n",
       "    <tr style=\"text-align: right;\">\n",
       "      <th></th>\n",
       "      <th>RECORD_TIME</th>\n",
       "    </tr>\n",
       "  </thead>\n",
       "  <tbody>\n",
       "    <tr>\n",
       "      <th>0</th>\n",
       "      <td>2021-11-16 11:30</td>\n",
       "    </tr>\n",
       "    <tr>\n",
       "      <th>1</th>\n",
       "      <td>2021-11-16 11:00</td>\n",
       "    </tr>\n",
       "  </tbody>\n",
       "</table>\n",
       "</div>"
      ],
      "text/plain": [
       "        RECORD_TIME\n",
       "0  2021-11-16 11:30\n",
       "1  2021-11-16 11:00"
      ]
     },
     "execution_count": 3,
     "metadata": {},
     "output_type": "execute_result"
    }
   ],
   "source": [
    "timestamps"
   ]
  },
  {
   "cell_type": "code",
   "execution_count": 4,
   "id": "alternate-victory",
   "metadata": {
    "execution": {
     "iopub.execute_input": "2021-11-16T10:30:10.005589Z",
     "iopub.status.busy": "2021-11-16T10:30:10.003362Z",
     "iopub.status.idle": "2021-11-16T10:30:11.218657Z",
     "shell.execute_reply": "2021-11-16T10:30:11.220467Z"
    },
    "papermill": {
     "duration": 1.248002,
     "end_time": "2021-11-16T10:30:11.221005",
     "exception": false,
     "start_time": "2021-11-16T10:30:09.973003",
     "status": "completed"
    },
    "tags": []
   },
   "outputs": [],
   "source": [
    "df = pd.read_sql(\"select * from EBAY_TOP_BERLIN where record_time in (select distinct record_time from EBAY_TOP_BERLIN order by record_time desc limit 2)\", sqlite3.connect(\"UsedObjects.db\"))"
   ]
  },
  {
   "cell_type": "code",
   "execution_count": 5,
   "id": "popular-active",
   "metadata": {
    "execution": {
     "iopub.execute_input": "2021-11-16T10:30:11.285891Z",
     "iopub.status.busy": "2021-11-16T10:30:11.283205Z",
     "iopub.status.idle": "2021-11-16T10:30:11.317457Z",
     "shell.execute_reply": "2021-11-16T10:30:11.319089Z"
    },
    "papermill": {
     "duration": 0.078192,
     "end_time": "2021-11-16T10:30:11.319590",
     "exception": false,
     "start_time": "2021-11-16T10:30:11.241398",
     "status": "completed"
    },
    "tags": []
   },
   "outputs": [],
   "source": [
    "df_pivot = df.pivot_table(index=\"PRODUCT\", columns = \"RECORD_TIME\", values = \"LISTING_COUNT\")"
   ]
  },
  {
   "cell_type": "code",
   "execution_count": 6,
   "id": "union-huntington",
   "metadata": {
    "execution": {
     "iopub.execute_input": "2021-11-16T10:30:11.381131Z",
     "iopub.status.busy": "2021-11-16T10:30:11.378675Z",
     "iopub.status.idle": "2021-11-16T10:30:11.389659Z",
     "shell.execute_reply": "2021-11-16T10:30:11.387868Z"
    },
    "papermill": {
     "duration": 0.049476,
     "end_time": "2021-11-16T10:30:11.390093",
     "exception": false,
     "start_time": "2021-11-16T10:30:11.340617",
     "status": "completed"
    },
    "tags": []
   },
   "outputs": [],
   "source": [
    "df_pivot.columns = [\"stamp_1\", \"stamp_2\"]\n",
    "df_pivot_diff = df_pivot.diff(axis=1)"
   ]
  },
  {
   "cell_type": "code",
   "execution_count": 7,
   "id": "fifth-motion",
   "metadata": {
    "execution": {
     "iopub.execute_input": "2021-11-16T10:30:11.449460Z",
     "iopub.status.busy": "2021-11-16T10:30:11.446828Z",
     "iopub.status.idle": "2021-11-16T10:30:13.403895Z",
     "shell.execute_reply": "2021-11-16T10:30:13.401381Z"
    },
    "papermill": {
     "duration": 1.992645,
     "end_time": "2021-11-16T10:30:13.404503",
     "exception": false,
     "start_time": "2021-11-16T10:30:11.411858",
     "status": "completed"
    },
    "tags": []
   },
   "outputs": [
    {
     "data": {
      "text/plain": [
       "<AxesSubplot:ylabel='PRODUCT'>"
      ]
     },
     "execution_count": 7,
     "metadata": {},
     "output_type": "execute_result"
    },
    {
     "data": {
      "image/png": "[encoded data removed]",
      "text/plain": [
       "<Figure size 432x288 with 1 Axes>"
      ]
     },
     "metadata": {
      "needs_background": "light"
     },
     "output_type": "display_data"
    }
   ],
   "source": [
    "df_pivot_diff.sort_values(\"stamp_2\", ascending = False)[\"stamp_2\"].head(10).plot.barh()"
   ]
  },
  {
   "cell_type": "code",
   "execution_count": null,
   "id": "extra-executive",
   "metadata": {
    "papermill": {
     "duration": 0.029663,
     "end_time": "2021-11-16T10:30:13.469929",
     "exception": false,
     "start_time": "2021-11-16T10:30:13.440266",
     "status": "completed"
    },
    "tags": []
   },
   "outputs": [],
   "source": []
  }
 ],
 "metadata": {
  "kernelspec": {
   "display_name": "Python 3",
   "language": "python",
   "name": "python3"
  },
  "language_info": {
   "codemirror_mode": {
    "name": "ipython",
    "version": 3
   },
   "file_extension": ".py",
   "mimetype": "text/x-python",
   "name": "python",
   "nbconvert_exporter": "python",
   "pygments_lexer": "ipython3",
   "version": "3.9.5"
  },
  "papermill": {
   "default_parameters": {},
   "duration": 8.903227,
   "end_time": "2021-11-16T10:30:14.131053",
   "environment_variables": {},
   "exception": null,
   "input_path": "eBay_Overview.ipynb",
   "output_path": "eBay_Overview.ipynb",
   "parameters": {},
   "start_time": "2021-11-16T10:30:05.227826",
   "version": "2.3.3"
  }
 },
 "nbformat": 4,
 "nbformat_minor": 5
}