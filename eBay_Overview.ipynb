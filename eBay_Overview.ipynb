{
 "cells": [
  {
   "cell_type": "code",
   "execution_count": 1,
   "id": "reverse-picking",
   "metadata": {
    "execution": {
     "iopub.execute_input": "2021-08-21T10:30:07.119982Z",
     "iopub.status.busy": "2021-08-21T10:30:07.118041Z",
     "iopub.status.idle": "2021-08-21T10:30:07.919548Z",
     "shell.execute_reply": "2021-08-21T10:30:07.920949Z"
    },
    "papermill": {
     "duration": 0.854038,
     "end_time": "2021-08-21T10:30:07.921628",
     "exception": false,
     "start_time": "2021-08-21T10:30:07.067590",
     "status": "completed"
    },
    "tags": []
   },
   "outputs": [],
   "source": [
    "import pandas as pd\n",
    "import sqlite3"
   ]
  },
  {
   "cell_type": "code",
   "execution_count": 2,
   "id": "innovative-syndrome",
   "metadata": {
    "execution": {
     "iopub.execute_input": "2021-08-21T10:30:07.972317Z",
     "iopub.status.busy": "2021-08-21T10:30:07.969993Z",
     "iopub.status.idle": "2021-08-21T10:30:08.066839Z",
     "shell.execute_reply": "2021-08-21T10:30:08.068110Z"
    },
    "papermill": {
     "duration": 0.12654,
     "end_time": "2021-08-21T10:30:08.068505",
     "exception": false,
     "start_time": "2021-08-21T10:30:07.941965",
     "status": "completed"
    },
    "tags": []
   },
   "outputs": [],
   "source": [
    "timestamps = pd.read_sql(\"select distinct record_time from EBAY_TOP_BERLIN order by record_time desc limit 2\", sqlite3.connect(\"UsedObjects.db\"))"
   ]
  },
  {
   "cell_type": "code",
   "execution_count": 3,
   "id": "periodic-identification",
   "metadata": {
    "execution": {
     "iopub.execute_input": "2021-08-21T10:30:08.135485Z",
     "iopub.status.busy": "2021-08-21T10:30:08.130154Z",
     "iopub.status.idle": "2021-08-21T10:30:08.150033Z",
     "shell.execute_reply": "2021-08-21T10:30:08.151409Z"
    },
    "papermill": {
     "duration": 0.064075,
     "end_time": "2021-08-21T10:30:08.151827",
     "exception": false,
     "start_time": "2021-08-21T10:30:08.087752",
     "status": "completed"
    },
    "tags": []
   },
   "outputs": [
    {
     "data": {
      "text/html": [
       "<div>\n",
       "<style scoped>\n",
       "    .dataframe tbody tr th:only-of-type {\n",
       "        vertical-align: middle;\n",
       "    }\n",
       "\n",
       "    .dataframe tbody tr th {\n",
       "        vertical-align: top;\n",
       "    }\n",
       "\n",
       "    .dataframe thead th {\n",
       "        text-align: right;\n",
       "    }\n",
       "</style>\n",
       "<table border=\"1\" class=\"dataframe\">\n",
       "  <thead>\n",
       "    <tr style=\"text-align: right;\">\n",
       "      <th></th>\n",
       "      <th>RECORD_TIME</th>\n",
       "    </tr>\n",
       "  </thead>\n",
       "  <tbody>\n",
       "    <tr>\n",
       "      <th>0</th>\n",
       "      <td>2021-08-21 12:30</td>\n",
       "    </tr>\n",
       "    <tr>\n",
       "      <th>1</th>\n",
       "      <td>2021-08-21 12:00</td>\n",
       "    </tr>\n",
       "  </tbody>\n",
       "</table>\n",
       "</div>"
      ],
      "text/plain": [
       "        RECORD_TIME\n",
       "0  2021-08-21 12:30\n",
       "1  2021-08-21 12:00"
      ]
     },
     "execution_count": 3,
     "metadata": {},
     "output_type": "execute_result"
    }
   ],
   "source": [
    "timestamps"
   ]
  },
  {
   "cell_type": "code",
   "execution_count": 4,
   "id": "alternate-victory",
   "metadata": {
    "execution": {
     "iopub.execute_input": "2021-08-21T10:30:08.202655Z",
     "iopub.status.busy": "2021-08-21T10:30:08.200698Z",
     "iopub.status.idle": "2021-08-21T10:30:08.347870Z",
     "shell.execute_reply": "2021-08-21T10:30:08.349132Z"
    },
    "papermill": {
     "duration": 0.176852,
     "end_time": "2021-08-21T10:30:08.349544",
     "exception": false,
     "start_time": "2021-08-21T10:30:08.172692",
     "status": "completed"
    },
    "tags": []
   },
   "outputs": [],
   "source": [
    "df = pd.read_sql(\"select * from EBAY_TOP_BERLIN where record_time in (select distinct record_time from EBAY_TOP_BERLIN order by record_time desc limit 2)\", sqlite3.connect(\"UsedObjects.db\"))"
   ]
  },
  {
   "cell_type": "code",
   "execution_count": 5,
   "id": "popular-active",
   "metadata": {
    "execution": {
     "iopub.execute_input": "2021-08-21T10:30:08.409206Z",
     "iopub.status.busy": "2021-08-21T10:30:08.407151Z",
     "iopub.status.idle": "2021-08-21T10:30:08.435513Z",
     "shell.execute_reply": "2021-08-21T10:30:08.436720Z"
    },
    "papermill": {
     "duration": 0.06707,
     "end_time": "2021-08-21T10:30:08.437112",
     "exception": false,
     "start_time": "2021-08-21T10:30:08.370042",
     "status": "completed"
    },
    "tags": []
   },
   "outputs": [],
   "source": [
    "df_pivot = df.pivot_table(index=\"PRODUCT\", columns = \"RECORD_TIME\", values = \"LISTING_COUNT\")"
   ]
  },
  {
   "cell_type": "code",
   "execution_count": 6,
   "id": "union-huntington",
   "metadata": {
    "execution": {
     "iopub.execute_input": "2021-08-21T10:30:08.496407Z",
     "iopub.status.busy": "2021-08-21T10:30:08.493910Z",
     "iopub.status.idle": "2021-08-21T10:30:08.499749Z",
     "shell.execute_reply": "2021-08-21T10:30:08.501019Z"
    },
    "papermill": {
     "duration": 0.042251,
     "end_time": "2021-08-21T10:30:08.501428",
     "exception": false,
     "start_time": "2021-08-21T10:30:08.459177",
     "status": "completed"
    },
    "tags": []
   },
   "outputs": [],
   "source": [
    "df_pivot.columns = [\"stamp_1\", \"stamp_2\"]\n",
    "df_pivot_diff = df_pivot.diff(axis=1)"
   ]
  },
  {
   "cell_type": "code",
   "execution_count": 7,
   "id": "fifth-motion",
   "metadata": {
    "execution": {
     "iopub.execute_input": "2021-08-21T10:30:08.555199Z",
     "iopub.status.busy": "2021-08-21T10:30:08.552743Z",
     "iopub.status.idle": "2021-08-21T10:30:10.028227Z",
     "shell.execute_reply": "2021-08-21T10:30:10.029496Z"
    },
    "papermill": {
     "duration": 1.508037,
     "end_time": "2021-08-21T10:30:10.029908",
     "exception": false,
     "start_time": "2021-08-21T10:30:08.521871",
     "status": "completed"
    },
    "tags": []
   },
   "outputs": [
    {
     "data": {
      "text/plain": [
       "<AxesSubplot:ylabel='PRODUCT'>"
      ]
     },
     "execution_count": 7,
     "metadata": {},
     "output_type": "execute_result"
    },
    {
     "data": {
      "image/png": "[encoded data removed]",
      "text/plain": [
       "<Figure size 432x288 with 1 Axes>"
      ]
     },
     "metadata": {
      "needs_background": "light"
     },
     "output_type": "display_data"
    }
   ],
   "source": [
    "df_pivot_diff.sort_values(\"stamp_2\", ascending = False)[\"stamp_2\"].head(10).plot.barh()"
   ]
  },
  {
   "cell_type": "code",
   "execution_count": null,
   "id": "extra-executive",
   "metadata": {
    "papermill": {
     "duration": 0.023977,
     "end_time": "2021-08-21T10:30:10.078557",
     "exception": false,
     "start_time": "2021-08-21T10:30:10.054580",
     "status": "completed"
    },
    "tags": []
   },
   "outputs": [],
   "source": []
  }
 ],
 "metadata": {
  "kernelspec": {
   "display_name": "Python 3",
   "language": "python",
   "name": "python3"
  },
  "language_info": {
   "codemirror_mode": {
    "name": "ipython",
    "version": 3
   },
   "file_extension": ".py",
   "mimetype": "text/x-python",
   "name": "python",
   "nbconvert_exporter": "python",
   "pygments_lexer": "ipython3",
   "version": "3.9.5"
  },
  "papermill": {
   "default_parameters": {},
   "duration": 6.819327,
   "end_time": "2021-08-21T10:30:11.489097",
   "environment_variables": {},
   "exception": null,
   "input_path": "eBay_Overview.ipynb",
   "output_path": "eBay_Overview.ipynb",
   "parameters": {},
   "start_time": "2021-08-21T10:30:04.669770",
   "version": "2.3.3"
  }
 },
 "nbformat": 4,
 "nbformat_minor": 5
}