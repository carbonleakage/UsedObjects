{
 "cells": [
  {
   "cell_type": "code",
   "execution_count": 1,
   "id": "reverse-picking",
   "metadata": {
    "execution": {
     "iopub.execute_input": "2021-12-14T11:00:07.350602Z",
     "iopub.status.busy": "2021-12-14T11:00:07.348155Z",
     "iopub.status.idle": "2021-12-14T11:00:08.295674Z",
     "shell.execute_reply": "2021-12-14T11:00:08.297387Z"
    },
    "papermill": {
     "duration": 0.996266,
     "end_time": "2021-12-14T11:00:08.298136",
     "exception": false,
     "start_time": "2021-12-14T11:00:07.301870",
     "status": "completed"
    },
    "tags": []
   },
   "outputs": [],
   "source": [
    "import pandas as pd\n",
    "import sqlite3"
   ]
  },
  {
   "cell_type": "code",
   "execution_count": 2,
   "id": "innovative-syndrome",
   "metadata": {
    "execution": {
     "iopub.execute_input": "2021-12-14T11:00:08.369790Z",
     "iopub.status.busy": "2021-12-14T11:00:08.367335Z",
     "iopub.status.idle": "2021-12-14T11:00:09.448313Z",
     "shell.execute_reply": "2021-12-14T11:00:09.449790Z"
    },
    "papermill": {
     "duration": 1.115778,
     "end_time": "2021-12-14T11:00:09.450275",
     "exception": false,
     "start_time": "2021-12-14T11:00:08.334497",
     "status": "completed"
    },
    "tags": []
   },
   "outputs": [],
   "source": [
    "timestamps = pd.read_sql(\"select distinct record_time from EBAY_TOP_BERLIN order by record_time desc limit 2\", sqlite3.connect(\"UsedObjects.db\"))"
   ]
  },
  {
   "cell_type": "code",
   "execution_count": 3,
   "id": "periodic-identification",
   "metadata": {
    "execution": {
     "iopub.execute_input": "2021-12-14T11:00:09.521076Z",
     "iopub.status.busy": "2021-12-14T11:00:09.518617Z",
     "iopub.status.idle": "2021-12-14T11:00:09.543182Z",
     "shell.execute_reply": "2021-12-14T11:00:09.545816Z"
    },
    "papermill": {
     "duration": 0.076696,
     "end_time": "2021-12-14T11:00:09.546291",
     "exception": false,
     "start_time": "2021-12-14T11:00:09.469595",
     "status": "completed"
    },
    "tags": []
   },
   "outputs": [
    {
     "data": {
      "text/html": [
       "<div>\n",
       "<style scoped>\n",
       "    .dataframe tbody tr th:only-of-type {\n",
       "        vertical-align: middle;\n",
       "    }\n",
       "\n",
       "    .dataframe tbody tr th {\n",
       "        vertical-align: top;\n",
       "    }\n",
       "\n",
       "    .dataframe thead th {\n",
       "        text-align: right;\n",
       "    }\n",
       "</style>\n",
       "<table border=\"1\" class=\"dataframe\">\n",
       "  <thead>\n",
       "    <tr style=\"text-align: right;\">\n",
       "      <th></th>\n",
       "      <th>RECORD_TIME</th>\n",
       "    </tr>\n",
       "  </thead>\n",
       "  <tbody>\n",
       "    <tr>\n",
       "      <th>0</th>\n",
       "      <td>2021-12-14 12:00</td>\n",
       "    </tr>\n",
       "    <tr>\n",
       "      <th>1</th>\n",
       "      <td>2021-12-14 11:30</td>\n",
       "    </tr>\n",
       "  </tbody>\n",
       "</table>\n",
       "</div>"
      ],
      "text/plain": [
       "        RECORD_TIME\n",
       "0  2021-12-14 12:00\n",
       "1  2021-12-14 11:30"
      ]
     },
     "execution_count": 3,
     "metadata": {},
     "output_type": "execute_result"
    }
   ],
   "source": [
    "timestamps"
   ]
  },
  {
   "cell_type": "code",
   "execution_count": 4,
   "id": "alternate-victory",
   "metadata": {
    "execution": {
     "iopub.execute_input": "2021-12-14T11:00:09.602419Z",
     "iopub.status.busy": "2021-12-14T11:00:09.600251Z",
     "iopub.status.idle": "2021-12-14T11:00:11.149081Z",
     "shell.execute_reply": "2021-12-14T11:00:11.150591Z"
    },
    "papermill": {
     "duration": 1.583386,
     "end_time": "2021-12-14T11:00:11.151052",
     "exception": false,
     "start_time": "2021-12-14T11:00:09.567666",
     "status": "completed"
    },
    "tags": []
   },
   "outputs": [],
   "source": [
    "df = pd.read_sql(\"select * from EBAY_TOP_BERLIN where record_time in (select distinct record_time from EBAY_TOP_BERLIN order by record_time desc limit 2)\", sqlite3.connect(\"UsedObjects.db\"))"
   ]
  },
  {
   "cell_type": "code",
   "execution_count": 5,
   "id": "popular-active",
   "metadata": {
    "execution": {
     "iopub.execute_input": "2021-12-14T11:00:11.229059Z",
     "iopub.status.busy": "2021-12-14T11:00:11.215666Z",
     "iopub.status.idle": "2021-12-14T11:00:11.246621Z",
     "shell.execute_reply": "2021-12-14T11:00:11.247979Z"
    },
    "papermill": {
     "duration": 0.07584,
     "end_time": "2021-12-14T11:00:11.248450",
     "exception": false,
     "start_time": "2021-12-14T11:00:11.172610",
     "status": "completed"
    },
    "tags": []
   },
   "outputs": [],
   "source": [
    "df_pivot = df.pivot_table(index=\"PRODUCT\", columns = \"RECORD_TIME\", values = \"LISTING_COUNT\")"
   ]
  },
  {
   "cell_type": "code",
   "execution_count": 6,
   "id": "union-huntington",
   "metadata": {
    "execution": {
     "iopub.execute_input": "2021-12-14T11:00:11.306580Z",
     "iopub.status.busy": "2021-12-14T11:00:11.304325Z",
     "iopub.status.idle": "2021-12-14T11:00:11.311611Z",
     "shell.execute_reply": "2021-12-14T11:00:11.310182Z"
    },
    "papermill": {
     "duration": 0.043531,
     "end_time": "2021-12-14T11:00:11.312007",
     "exception": false,
     "start_time": "2021-12-14T11:00:11.268476",
     "status": "completed"
    },
    "tags": []
   },
   "outputs": [],
   "source": [
    "df_pivot.columns = [\"stamp_1\", \"stamp_2\"]\n",
    "df_pivot_diff = df_pivot.diff(axis=1)"
   ]
  },
  {
   "cell_type": "code",
   "execution_count": 7,
   "id": "fifth-motion",
   "metadata": {
    "execution": {
     "iopub.execute_input": "2021-12-14T11:00:11.372242Z",
     "iopub.status.busy": "2021-12-14T11:00:11.369429Z",
     "iopub.status.idle": "2021-12-14T11:00:13.319905Z",
     "shell.execute_reply": "2021-12-14T11:00:13.321388Z"
    },
    "papermill": {
     "duration": 1.988197,
     "end_time": "2021-12-14T11:00:13.321851",
     "exception": false,
     "start_time": "2021-12-14T11:00:11.333654",
     "status": "completed"
    },
    "tags": []
   },
   "outputs": [
    {
     "data": {
      "text/plain": [
       "<AxesSubplot:ylabel='PRODUCT'>"
      ]
     },
     "execution_count": 7,
     "metadata": {},
     "output_type": "execute_result"
    },
    {
     "data": {
      "image/png": "[encoded data removed]",
      "text/plain": [
       "<Figure size 432x288 with 1 Axes>"
      ]
     },
     "metadata": {
      "needs_background": "light"
     },
     "output_type": "display_data"
    }
   ],
   "source": [
    "df_pivot_diff.sort_values(\"stamp_2\", ascending = False)[\"stamp_2\"].head(10).plot.barh()"
   ]
  },
  {
   "cell_type": "code",
   "execution_count": null,
   "id": "extra-executive",
   "metadata": {
    "papermill": {
     "duration": 0.026551,
     "end_time": "2021-12-14T11:00:13.381922",
     "exception": false,
     "start_time": "2021-12-14T11:00:13.355371",
     "status": "completed"
    },
    "tags": []
   },
   "outputs": [],
   "source": []
  }
 ],
 "metadata": {
  "kernelspec": {
   "display_name": "Python 3",
   "language": "python",
   "name": "python3"
  },
  "language_info": {
   "codemirror_mode": {
    "name": "ipython",
    "version": 3
   },
   "file_extension": ".py",
   "mimetype": "text/x-python",
   "name": "python",
   "nbconvert_exporter": "python",
   "pygments_lexer": "ipython3",
   "version": "3.9.5"
  },
  "papermill": {
   "default_parameters": {},
   "duration": 9.434663,
   "end_time": "2021-12-14T11:00:14.024522",
   "environment_variables": {},
   "exception": null,
   "input_path": "eBay_Overview.ipynb",
   "output_path": "eBay_Overview.ipynb",
   "parameters": {},
   "start_time": "2021-12-14T11:00:04.589859",
   "version": "2.3.3"
  }
 },
 "nbformat": 4,
 "nbformat_minor": 5
}