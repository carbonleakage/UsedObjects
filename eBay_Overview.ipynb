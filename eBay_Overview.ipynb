{
 "cells": [
  {
   "cell_type": "code",
   "execution_count": 1,
   "id": "reverse-picking",
   "metadata": {
    "execution": {
     "iopub.execute_input": "2021-08-19T17:30:07.239805Z",
     "iopub.status.busy": "2021-08-19T17:30:07.237790Z",
     "iopub.status.idle": "2021-08-19T17:30:08.044283Z",
     "shell.execute_reply": "2021-08-19T17:30:08.045518Z"
    },
    "papermill": {
     "duration": 0.85816,
     "end_time": "2021-08-19T17:30:08.046205",
     "exception": false,
     "start_time": "2021-08-19T17:30:07.188045",
     "status": "completed"
    },
    "tags": []
   },
   "outputs": [],
   "source": [
    "import pandas as pd\n",
    "import sqlite3"
   ]
  },
  {
   "cell_type": "code",
   "execution_count": 2,
   "id": "innovative-syndrome",
   "metadata": {
    "execution": {
     "iopub.execute_input": "2021-08-19T17:30:08.097760Z",
     "iopub.status.busy": "2021-08-19T17:30:08.095891Z",
     "iopub.status.idle": "2021-08-19T17:30:08.182262Z",
     "shell.execute_reply": "2021-08-19T17:30:08.183646Z"
    },
    "papermill": {
     "duration": 0.115769,
     "end_time": "2021-08-19T17:30:08.184076",
     "exception": false,
     "start_time": "2021-08-19T17:30:08.068307",
     "status": "completed"
    },
    "tags": []
   },
   "outputs": [],
   "source": [
    "timestamps = pd.read_sql(\"select distinct record_time from EBAY_TOP_BERLIN order by record_time desc limit 2\", sqlite3.connect(\"UsedObjects.db\"))"
   ]
  },
  {
   "cell_type": "code",
   "execution_count": 3,
   "id": "periodic-identification",
   "metadata": {
    "execution": {
     "iopub.execute_input": "2021-08-19T17:30:08.250038Z",
     "iopub.status.busy": "2021-08-19T17:30:08.247995Z",
     "iopub.status.idle": "2021-08-19T17:30:08.267625Z",
     "shell.execute_reply": "2021-08-19T17:30:08.268901Z"
    },
    "papermill": {
     "duration": 0.065475,
     "end_time": "2021-08-19T17:30:08.269302",
     "exception": false,
     "start_time": "2021-08-19T17:30:08.203827",
     "status": "completed"
    },
    "tags": []
   },
   "outputs": [
    {
     "data": {
      "text/html": [
       "<div>\n",
       "<style scoped>\n",
       "    .dataframe tbody tr th:only-of-type {\n",
       "        vertical-align: middle;\n",
       "    }\n",
       "\n",
       "    .dataframe tbody tr th {\n",
       "        vertical-align: top;\n",
       "    }\n",
       "\n",
       "    .dataframe thead th {\n",
       "        text-align: right;\n",
       "    }\n",
       "</style>\n",
       "<table border=\"1\" class=\"dataframe\">\n",
       "  <thead>\n",
       "    <tr style=\"text-align: right;\">\n",
       "      <th></th>\n",
       "      <th>RECORD_TIME</th>\n",
       "    </tr>\n",
       "  </thead>\n",
       "  <tbody>\n",
       "    <tr>\n",
       "      <th>0</th>\n",
       "      <td>2021-08-19 19:30</td>\n",
       "    </tr>\n",
       "    <tr>\n",
       "      <th>1</th>\n",
       "      <td>2021-08-19 19:00</td>\n",
       "    </tr>\n",
       "  </tbody>\n",
       "</table>\n",
       "</div>"
      ],
      "text/plain": [
       "        RECORD_TIME\n",
       "0  2021-08-19 19:30\n",
       "1  2021-08-19 19:00"
      ]
     },
     "execution_count": 3,
     "metadata": {},
     "output_type": "execute_result"
    }
   ],
   "source": [
    "timestamps"
   ]
  },
  {
   "cell_type": "code",
   "execution_count": 4,
   "id": "alternate-victory",
   "metadata": {
    "execution": {
     "iopub.execute_input": "2021-08-19T17:30:08.319621Z",
     "iopub.status.busy": "2021-08-19T17:30:08.317708Z",
     "iopub.status.idle": "2021-08-19T17:30:08.440631Z",
     "shell.execute_reply": "2021-08-19T17:30:08.441836Z"
    },
    "papermill": {
     "duration": 0.152835,
     "end_time": "2021-08-19T17:30:08.442447",
     "exception": false,
     "start_time": "2021-08-19T17:30:08.289612",
     "status": "completed"
    },
    "tags": []
   },
   "outputs": [],
   "source": [
    "df = pd.read_sql(\"select * from EBAY_TOP_BERLIN where record_time in (select distinct record_time from EBAY_TOP_BERLIN order by record_time desc limit 2)\", sqlite3.connect(\"UsedObjects.db\"))"
   ]
  },
  {
   "cell_type": "code",
   "execution_count": 5,
   "id": "popular-active",
   "metadata": {
    "execution": {
     "iopub.execute_input": "2021-08-19T17:30:08.514358Z",
     "iopub.status.busy": "2021-08-19T17:30:08.501583Z",
     "iopub.status.idle": "2021-08-19T17:30:08.529863Z",
     "shell.execute_reply": "2021-08-19T17:30:08.531160Z"
    },
    "papermill": {
     "duration": 0.068692,
     "end_time": "2021-08-19T17:30:08.531548",
     "exception": false,
     "start_time": "2021-08-19T17:30:08.462856",
     "status": "completed"
    },
    "tags": []
   },
   "outputs": [],
   "source": [
    "df_pivot = df.pivot_table(index=\"PRODUCT\", columns = \"RECORD_TIME\", values = \"LISTING_COUNT\")"
   ]
  },
  {
   "cell_type": "code",
   "execution_count": 6,
   "id": "union-huntington",
   "metadata": {
    "execution": {
     "iopub.execute_input": "2021-08-19T17:30:08.589396Z",
     "iopub.status.busy": "2021-08-19T17:30:08.587065Z",
     "iopub.status.idle": "2021-08-19T17:30:08.592924Z",
     "shell.execute_reply": "2021-08-19T17:30:08.594393Z"
    },
    "papermill": {
     "duration": 0.041829,
     "end_time": "2021-08-19T17:30:08.594804",
     "exception": false,
     "start_time": "2021-08-19T17:30:08.552975",
     "status": "completed"
    },
    "tags": []
   },
   "outputs": [],
   "source": [
    "df_pivot.columns = [\"stamp_1\", \"stamp_2\"]\n",
    "df_pivot_diff = df_pivot.diff(axis=1)"
   ]
  },
  {
   "cell_type": "code",
   "execution_count": 7,
   "id": "fifth-motion",
   "metadata": {
    "execution": {
     "iopub.execute_input": "2021-08-19T17:30:08.648203Z",
     "iopub.status.busy": "2021-08-19T17:30:08.645893Z",
     "iopub.status.idle": "2021-08-19T17:30:10.139096Z",
     "shell.execute_reply": "2021-08-19T17:30:10.140383Z"
    },
    "papermill": {
     "duration": 1.526145,
     "end_time": "2021-08-19T17:30:10.140790",
     "exception": false,
     "start_time": "2021-08-19T17:30:08.614645",
     "status": "completed"
    },
    "tags": []
   },
   "outputs": [
    {
     "data": {
      "text/plain": [
       "<AxesSubplot:ylabel='PRODUCT'>"
      ]
     },
     "execution_count": 7,
     "metadata": {},
     "output_type": "execute_result"
    },
    {
     "data": {
      "image/png": "[encoded data removed]",
      "text/plain": [
       "<Figure size 432x288 with 1 Axes>"
      ]
     },
     "metadata": {
      "needs_background": "light"
     },
     "output_type": "display_data"
    }
   ],
   "source": [
    "df_pivot_diff.sort_values(\"stamp_2\", ascending = False)[\"stamp_2\"].head(10).plot.barh()"
   ]
  },
  {
   "cell_type": "code",
   "execution_count": null,
   "id": "extra-executive",
   "metadata": {
    "papermill": {
     "duration": 0.021881,
     "end_time": "2021-08-19T17:30:10.187706",
     "exception": false,
     "start_time": "2021-08-19T17:30:10.165825",
     "status": "completed"
    },
    "tags": []
   },
   "outputs": [],
   "source": []
  }
 ],
 "metadata": {
  "kernelspec": {
   "display_name": "Python 3",
   "language": "python",
   "name": "python3"
  },
  "language_info": {
   "codemirror_mode": {
    "name": "ipython",
    "version": 3
   },
   "file_extension": ".py",
   "mimetype": "text/x-python",
   "name": "python",
   "nbconvert_exporter": "python",
   "pygments_lexer": "ipython3",
   "version": "3.9.5"
  },
  "papermill": {
   "default_parameters": {},
   "duration": 6.827131,
   "end_time": "2021-08-19T17:30:11.594693",
   "environment_variables": {},
   "exception": null,
   "input_path": "eBay_Overview.ipynb",
   "output_path": "eBay_Overview.ipynb",
   "parameters": {},
   "start_time": "2021-08-19T17:30:04.767562",
   "version": "2.3.3"
  }
 },
 "nbformat": 4,
 "nbformat_minor": 5
}