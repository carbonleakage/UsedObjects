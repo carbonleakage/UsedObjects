{
 "cells": [
  {
   "cell_type": "code",
   "execution_count": 1,
   "id": "reverse-picking",
   "metadata": {
    "execution": {
     "iopub.execute_input": "2021-11-21T05:00:08.182910Z",
     "iopub.status.busy": "2021-11-21T05:00:08.180862Z",
     "iopub.status.idle": "2021-11-21T05:00:09.138339Z",
     "shell.execute_reply": "2021-11-21T05:00:09.139842Z"
    },
    "papermill": {
     "duration": 1.004922,
     "end_time": "2021-11-21T05:00:09.140814",
     "exception": false,
     "start_time": "2021-11-21T05:00:08.135892",
     "status": "completed"
    },
    "tags": []
   },
   "outputs": [],
   "source": [
    "import pandas as pd\n",
    "import sqlite3"
   ]
  },
  {
   "cell_type": "code",
   "execution_count": 2,
   "id": "innovative-syndrome",
   "metadata": {
    "execution": {
     "iopub.execute_input": "2021-11-21T05:00:09.206700Z",
     "iopub.status.busy": "2021-11-21T05:00:09.204385Z",
     "iopub.status.idle": "2021-11-21T05:00:10.086420Z",
     "shell.execute_reply": "2021-11-21T05:00:10.087796Z"
    },
    "papermill": {
     "duration": 0.917285,
     "end_time": "2021-11-21T05:00:10.088266",
     "exception": false,
     "start_time": "2021-11-21T05:00:09.170981",
     "status": "completed"
    },
    "tags": []
   },
   "outputs": [],
   "source": [
    "timestamps = pd.read_sql(\"select distinct record_time from EBAY_TOP_BERLIN order by record_time desc limit 2\", sqlite3.connect(\"UsedObjects.db\"))"
   ]
  },
  {
   "cell_type": "code",
   "execution_count": 3,
   "id": "periodic-identification",
   "metadata": {
    "execution": {
     "iopub.execute_input": "2021-11-21T05:00:10.158672Z",
     "iopub.status.busy": "2021-11-21T05:00:10.156312Z",
     "iopub.status.idle": "2021-11-21T05:00:10.178871Z",
     "shell.execute_reply": "2021-11-21T05:00:10.180365Z"
    },
    "papermill": {
     "duration": 0.073209,
     "end_time": "2021-11-21T05:00:10.180932",
     "exception": false,
     "start_time": "2021-11-21T05:00:10.107723",
     "status": "completed"
    },
    "tags": []
   },
   "outputs": [
    {
     "data": {
      "text/html": [
       "<div>\n",
       "<style scoped>\n",
       "    .dataframe tbody tr th:only-of-type {\n",
       "        vertical-align: middle;\n",
       "    }\n",
       "\n",
       "    .dataframe tbody tr th {\n",
       "        vertical-align: top;\n",
       "    }\n",
       "\n",
       "    .dataframe thead th {\n",
       "        text-align: right;\n",
       "    }\n",
       "</style>\n",
       "<table border=\"1\" class=\"dataframe\">\n",
       "  <thead>\n",
       "    <tr style=\"text-align: right;\">\n",
       "      <th></th>\n",
       "      <th>RECORD_TIME</th>\n",
       "    </tr>\n",
       "  </thead>\n",
       "  <tbody>\n",
       "    <tr>\n",
       "      <th>0</th>\n",
       "      <td>2021-11-21 06:00</td>\n",
       "    </tr>\n",
       "    <tr>\n",
       "      <th>1</th>\n",
       "      <td>2021-11-21 05:30</td>\n",
       "    </tr>\n",
       "  </tbody>\n",
       "</table>\n",
       "</div>"
      ],
      "text/plain": [
       "        RECORD_TIME\n",
       "0  2021-11-21 06:00\n",
       "1  2021-11-21 05:30"
      ]
     },
     "execution_count": 3,
     "metadata": {},
     "output_type": "execute_result"
    }
   ],
   "source": [
    "timestamps"
   ]
  },
  {
   "cell_type": "code",
   "execution_count": 4,
   "id": "alternate-victory",
   "metadata": {
    "execution": {
     "iopub.execute_input": "2021-11-21T05:00:10.238891Z",
     "iopub.status.busy": "2021-11-21T05:00:10.236377Z",
     "iopub.status.idle": "2021-11-21T05:00:11.490442Z",
     "shell.execute_reply": "2021-11-21T05:00:11.491886Z"
    },
    "papermill": {
     "duration": 1.290077,
     "end_time": "2021-11-21T05:00:11.492344",
     "exception": false,
     "start_time": "2021-11-21T05:00:10.202267",
     "status": "completed"
    },
    "tags": []
   },
   "outputs": [],
   "source": [
    "df = pd.read_sql(\"select * from EBAY_TOP_BERLIN where record_time in (select distinct record_time from EBAY_TOP_BERLIN order by record_time desc limit 2)\", sqlite3.connect(\"UsedObjects.db\"))"
   ]
  },
  {
   "cell_type": "code",
   "execution_count": 5,
   "id": "popular-active",
   "metadata": {
    "execution": {
     "iopub.execute_input": "2021-11-21T05:00:11.564324Z",
     "iopub.status.busy": "2021-11-21T05:00:11.554096Z",
     "iopub.status.idle": "2021-11-21T05:00:11.597010Z",
     "shell.execute_reply": "2021-11-21T05:00:11.600391Z"
    },
    "papermill": {
     "duration": 0.08745,
     "end_time": "2021-11-21T05:00:11.601226",
     "exception": false,
     "start_time": "2021-11-21T05:00:11.513776",
     "status": "completed"
    },
    "tags": []
   },
   "outputs": [],
   "source": [
    "df_pivot = df.pivot_table(index=\"PRODUCT\", columns = \"RECORD_TIME\", values = \"LISTING_COUNT\")"
   ]
  },
  {
   "cell_type": "code",
   "execution_count": 6,
   "id": "union-huntington",
   "metadata": {
    "execution": {
     "iopub.execute_input": "2021-11-21T05:00:11.684262Z",
     "iopub.status.busy": "2021-11-21T05:00:11.682155Z",
     "iopub.status.idle": "2021-11-21T05:00:11.688106Z",
     "shell.execute_reply": "2021-11-21T05:00:11.689601Z"
    },
    "papermill": {
     "duration": 0.056244,
     "end_time": "2021-11-21T05:00:11.690096",
     "exception": false,
     "start_time": "2021-11-21T05:00:11.633852",
     "status": "completed"
    },
    "tags": []
   },
   "outputs": [],
   "source": [
    "df_pivot.columns = [\"stamp_1\", \"stamp_2\"]\n",
    "df_pivot_diff = df_pivot.diff(axis=1)"
   ]
  },
  {
   "cell_type": "code",
   "execution_count": 7,
   "id": "fifth-motion",
   "metadata": {
    "execution": {
     "iopub.execute_input": "2021-11-21T05:00:11.750183Z",
     "iopub.status.busy": "2021-11-21T05:00:11.747736Z",
     "iopub.status.idle": "2021-11-21T05:00:13.576061Z",
     "shell.execute_reply": "2021-11-21T05:00:13.578546Z"
    },
    "papermill": {
     "duration": 1.867981,
     "end_time": "2021-11-21T05:00:13.579460",
     "exception": false,
     "start_time": "2021-11-21T05:00:11.711479",
     "status": "completed"
    },
    "tags": []
   },
   "outputs": [
    {
     "data": {
      "text/plain": [
       "<AxesSubplot:ylabel='PRODUCT'>"
      ]
     },
     "execution_count": 7,
     "metadata": {},
     "output_type": "execute_result"
    },
    {
     "data": {
      "image/png": "[encoded data removed]",
      "text/plain": [
       "<Figure size 432x288 with 1 Axes>"
      ]
     },
     "metadata": {
      "needs_background": "light"
     },
     "output_type": "display_data"
    }
   ],
   "source": [
    "df_pivot_diff.sort_values(\"stamp_2\", ascending = False)[\"stamp_2\"].head(10).plot.barh()"
   ]
  },
  {
   "cell_type": "code",
   "execution_count": null,
   "id": "extra-executive",
   "metadata": {
    "papermill": {
     "duration": 0.033886,
     "end_time": "2021-11-21T05:00:13.654006",
     "exception": false,
     "start_time": "2021-11-21T05:00:13.620120",
     "status": "completed"
    },
    "tags": []
   },
   "outputs": [],
   "source": []
  }
 ],
 "metadata": {
  "kernelspec": {
   "display_name": "Python 3",
   "language": "python",
   "name": "python3"
  },
  "language_info": {
   "codemirror_mode": {
    "name": "ipython",
    "version": 3
   },
   "file_extension": ".py",
   "mimetype": "text/x-python",
   "name": "python",
   "nbconvert_exporter": "python",
   "pygments_lexer": "ipython3",
   "version": "3.9.5"
  },
  "papermill": {
   "default_parameters": {},
   "duration": 9.945994,
   "end_time": "2021-11-21T05:00:15.341892",
   "environment_variables": {},
   "exception": null,
   "input_path": "eBay_Overview.ipynb",
   "output_path": "eBay_Overview.ipynb",
   "parameters": {},
   "start_time": "2021-11-21T05:00:05.395898",
   "version": "2.3.3"
  }
 },
 "nbformat": 4,
 "nbformat_minor": 5
}