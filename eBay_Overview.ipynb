{
 "cells": [
  {
   "cell_type": "code",
   "execution_count": 1,
   "id": "reverse-picking",
   "metadata": {
    "execution": {
     "iopub.execute_input": "2021-10-20T19:00:07.534245Z",
     "iopub.status.busy": "2021-10-20T19:00:07.532207Z",
     "iopub.status.idle": "2021-10-20T19:00:08.341980Z",
     "shell.execute_reply": "2021-10-20T19:00:08.343433Z"
    },
    "papermill": {
     "duration": 0.859546,
     "end_time": "2021-10-20T19:00:08.344116",
     "exception": false,
     "start_time": "2021-10-20T19:00:07.484570",
     "status": "completed"
    },
    "tags": []
   },
   "outputs": [],
   "source": [
    "import pandas as pd\n",
    "import sqlite3"
   ]
  },
  {
   "cell_type": "code",
   "execution_count": 2,
   "id": "innovative-syndrome",
   "metadata": {
    "execution": {
     "iopub.execute_input": "2021-10-20T19:00:08.396767Z",
     "iopub.status.busy": "2021-10-20T19:00:08.394583Z",
     "iopub.status.idle": "2021-10-20T19:00:08.979819Z",
     "shell.execute_reply": "2021-10-20T19:00:08.981135Z"
    },
    "papermill": {
     "duration": 0.615901,
     "end_time": "2021-10-20T19:00:08.981558",
     "exception": false,
     "start_time": "2021-10-20T19:00:08.365657",
     "status": "completed"
    },
    "tags": []
   },
   "outputs": [],
   "source": [
    "timestamps = pd.read_sql(\"select distinct record_time from EBAY_TOP_BERLIN order by record_time desc limit 2\", sqlite3.connect(\"UsedObjects.db\"))"
   ]
  },
  {
   "cell_type": "code",
   "execution_count": 3,
   "id": "periodic-identification",
   "metadata": {
    "execution": {
     "iopub.execute_input": "2021-10-20T19:00:09.059853Z",
     "iopub.status.busy": "2021-10-20T19:00:09.054774Z",
     "iopub.status.idle": "2021-10-20T19:00:09.075518Z",
     "shell.execute_reply": "2021-10-20T19:00:09.077112Z"
    },
    "papermill": {
     "duration": 0.070972,
     "end_time": "2021-10-20T19:00:09.077579",
     "exception": false,
     "start_time": "2021-10-20T19:00:09.006607",
     "status": "completed"
    },
    "tags": []
   },
   "outputs": [
    {
     "data": {
      "text/html": [
       "<div>\n",
       "<style scoped>\n",
       "    .dataframe tbody tr th:only-of-type {\n",
       "        vertical-align: middle;\n",
       "    }\n",
       "\n",
       "    .dataframe tbody tr th {\n",
       "        vertical-align: top;\n",
       "    }\n",
       "\n",
       "    .dataframe thead th {\n",
       "        text-align: right;\n",
       "    }\n",
       "</style>\n",
       "<table border=\"1\" class=\"dataframe\">\n",
       "  <thead>\n",
       "    <tr style=\"text-align: right;\">\n",
       "      <th></th>\n",
       "      <th>RECORD_TIME</th>\n",
       "    </tr>\n",
       "  </thead>\n",
       "  <tbody>\n",
       "    <tr>\n",
       "      <th>0</th>\n",
       "      <td>2021-10-20 21:00</td>\n",
       "    </tr>\n",
       "    <tr>\n",
       "      <th>1</th>\n",
       "      <td>2021-10-20 20:30</td>\n",
       "    </tr>\n",
       "  </tbody>\n",
       "</table>\n",
       "</div>"
      ],
      "text/plain": [
       "        RECORD_TIME\n",
       "0  2021-10-20 21:00\n",
       "1  2021-10-20 20:30"
      ]
     },
     "execution_count": 3,
     "metadata": {},
     "output_type": "execute_result"
    }
   ],
   "source": [
    "timestamps"
   ]
  },
  {
   "cell_type": "code",
   "execution_count": 4,
   "id": "alternate-victory",
   "metadata": {
    "execution": {
     "iopub.execute_input": "2021-10-20T19:00:09.131923Z",
     "iopub.status.busy": "2021-10-20T19:00:09.129866Z",
     "iopub.status.idle": "2021-10-20T19:00:09.996551Z",
     "shell.execute_reply": "2021-10-20T19:00:09.998041Z"
    },
    "papermill": {
     "duration": 0.898051,
     "end_time": "2021-10-20T19:00:09.998485",
     "exception": false,
     "start_time": "2021-10-20T19:00:09.100434",
     "status": "completed"
    },
    "tags": []
   },
   "outputs": [],
   "source": [
    "df = pd.read_sql(\"select * from EBAY_TOP_BERLIN where record_time in (select distinct record_time from EBAY_TOP_BERLIN order by record_time desc limit 2)\", sqlite3.connect(\"UsedObjects.db\"))"
   ]
  },
  {
   "cell_type": "code",
   "execution_count": 5,
   "id": "popular-active",
   "metadata": {
    "execution": {
     "iopub.execute_input": "2021-10-20T19:00:10.070021Z",
     "iopub.status.busy": "2021-10-20T19:00:10.057953Z",
     "iopub.status.idle": "2021-10-20T19:00:10.085480Z",
     "shell.execute_reply": "2021-10-20T19:00:10.086723Z"
    },
    "papermill": {
     "duration": 0.068295,
     "end_time": "2021-10-20T19:00:10.087123",
     "exception": false,
     "start_time": "2021-10-20T19:00:10.018828",
     "status": "completed"
    },
    "tags": []
   },
   "outputs": [],
   "source": [
    "df_pivot = df.pivot_table(index=\"PRODUCT\", columns = \"RECORD_TIME\", values = \"LISTING_COUNT\")"
   ]
  },
  {
   "cell_type": "code",
   "execution_count": 6,
   "id": "union-huntington",
   "metadata": {
    "execution": {
     "iopub.execute_input": "2021-10-20T19:00:10.144648Z",
     "iopub.status.busy": "2021-10-20T19:00:10.142573Z",
     "iopub.status.idle": "2021-10-20T19:00:10.147938Z",
     "shell.execute_reply": "2021-10-20T19:00:10.149203Z"
    },
    "papermill": {
     "duration": 0.040513,
     "end_time": "2021-10-20T19:00:10.149640",
     "exception": false,
     "start_time": "2021-10-20T19:00:10.109127",
     "status": "completed"
    },
    "tags": []
   },
   "outputs": [],
   "source": [
    "df_pivot.columns = [\"stamp_1\", \"stamp_2\"]\n",
    "df_pivot_diff = df_pivot.diff(axis=1)"
   ]
  },
  {
   "cell_type": "code",
   "execution_count": 7,
   "id": "fifth-motion",
   "metadata": {
    "execution": {
     "iopub.execute_input": "2021-10-20T19:00:10.204265Z",
     "iopub.status.busy": "2021-10-20T19:00:10.201834Z",
     "iopub.status.idle": "2021-10-20T19:00:11.683460Z",
     "shell.execute_reply": "2021-10-20T19:00:11.684985Z"
    },
    "papermill": {
     "duration": 1.515067,
     "end_time": "2021-10-20T19:00:11.685467",
     "exception": false,
     "start_time": "2021-10-20T19:00:10.170400",
     "status": "completed"
    },
    "tags": []
   },
   "outputs": [
    {
     "data": {
      "text/plain": [
       "<AxesSubplot:ylabel='PRODUCT'>"
      ]
     },
     "execution_count": 7,
     "metadata": {},
     "output_type": "execute_result"
    },
    {
     "data": {
      "image/png": "[encoded data removed]",
      "text/plain": [
       "<Figure size 432x288 with 1 Axes>"
      ]
     },
     "metadata": {
      "needs_background": "light"
     },
     "output_type": "display_data"
    }
   ],
   "source": [
    "df_pivot_diff.sort_values(\"stamp_2\", ascending = False)[\"stamp_2\"].head(10).plot.barh()"
   ]
  },
  {
   "cell_type": "code",
   "execution_count": null,
   "id": "extra-executive",
   "metadata": {
    "papermill": {
     "duration": 0.02251,
     "end_time": "2021-10-20T19:00:11.735017",
     "exception": false,
     "start_time": "2021-10-20T19:00:11.712507",
     "status": "completed"
    },
    "tags": []
   },
   "outputs": [],
   "source": []
  }
 ],
 "metadata": {
  "kernelspec": {
   "display_name": "Python 3",
   "language": "python",
   "name": "python3"
  },
  "language_info": {
   "codemirror_mode": {
    "name": "ipython",
    "version": 3
   },
   "file_extension": ".py",
   "mimetype": "text/x-python",
   "name": "python",
   "nbconvert_exporter": "python",
   "pygments_lexer": "ipython3",
   "version": "3.9.5"
  },
  "papermill": {
   "default_parameters": {},
   "duration": 7.821083,
   "end_time": "2021-10-20T19:00:12.889573",
   "environment_variables": {},
   "exception": null,
   "input_path": "eBay_Overview.ipynb",
   "output_path": "eBay_Overview.ipynb",
   "parameters": {},
   "start_time": "2021-10-20T19:00:05.068490",
   "version": "2.3.3"
  }
 },
 "nbformat": 4,
 "nbformat_minor": 5
}