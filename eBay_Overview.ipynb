{
 "cells": [
  {
   "cell_type": "code",
   "execution_count": 1,
   "id": "reverse-picking",
   "metadata": {
    "execution": {
     "iopub.execute_input": "2021-09-22T11:00:07.160730Z",
     "iopub.status.busy": "2021-09-22T11:00:07.158578Z",
     "iopub.status.idle": "2021-09-22T11:00:07.961296Z",
     "shell.execute_reply": "2021-09-22T11:00:07.962539Z"
    },
    "papermill": {
     "duration": 0.853375,
     "end_time": "2021-09-22T11:00:07.963206",
     "exception": false,
     "start_time": "2021-09-22T11:00:07.109831",
     "status": "completed"
    },
    "tags": []
   },
   "outputs": [],
   "source": [
    "import pandas as pd\n",
    "import sqlite3"
   ]
  },
  {
   "cell_type": "code",
   "execution_count": 2,
   "id": "innovative-syndrome",
   "metadata": {
    "execution": {
     "iopub.execute_input": "2021-09-22T11:00:08.013641Z",
     "iopub.status.busy": "2021-09-22T11:00:08.011781Z",
     "iopub.status.idle": "2021-09-22T11:00:08.361707Z",
     "shell.execute_reply": "2021-09-22T11:00:08.363081Z"
    },
    "papermill": {
     "duration": 0.379616,
     "end_time": "2021-09-22T11:00:08.363514",
     "exception": false,
     "start_time": "2021-09-22T11:00:07.983898",
     "status": "completed"
    },
    "tags": []
   },
   "outputs": [],
   "source": [
    "timestamps = pd.read_sql(\"select distinct record_time from EBAY_TOP_BERLIN order by record_time desc limit 2\", sqlite3.connect(\"UsedObjects.db\"))"
   ]
  },
  {
   "cell_type": "code",
   "execution_count": 3,
   "id": "periodic-identification",
   "metadata": {
    "execution": {
     "iopub.execute_input": "2021-09-22T11:00:08.429817Z",
     "iopub.status.busy": "2021-09-22T11:00:08.427810Z",
     "iopub.status.idle": "2021-09-22T11:00:08.450010Z",
     "shell.execute_reply": "2021-09-22T11:00:08.451776Z"
    },
    "papermill": {
     "duration": 0.068084,
     "end_time": "2021-09-22T11:00:08.452311",
     "exception": false,
     "start_time": "2021-09-22T11:00:08.384227",
     "status": "completed"
    },
    "tags": []
   },
   "outputs": [
    {
     "data": {
      "text/html": [
       "<div>\n",
       "<style scoped>\n",
       "    .dataframe tbody tr th:only-of-type {\n",
       "        vertical-align: middle;\n",
       "    }\n",
       "\n",
       "    .dataframe tbody tr th {\n",
       "        vertical-align: top;\n",
       "    }\n",
       "\n",
       "    .dataframe thead th {\n",
       "        text-align: right;\n",
       "    }\n",
       "</style>\n",
       "<table border=\"1\" class=\"dataframe\">\n",
       "  <thead>\n",
       "    <tr style=\"text-align: right;\">\n",
       "      <th></th>\n",
       "      <th>RECORD_TIME</th>\n",
       "    </tr>\n",
       "  </thead>\n",
       "  <tbody>\n",
       "    <tr>\n",
       "      <th>0</th>\n",
       "      <td>2021-09-22 13:00</td>\n",
       "    </tr>\n",
       "    <tr>\n",
       "      <th>1</th>\n",
       "      <td>2021-09-22 12:30</td>\n",
       "    </tr>\n",
       "  </tbody>\n",
       "</table>\n",
       "</div>"
      ],
      "text/plain": [
       "        RECORD_TIME\n",
       "0  2021-09-22 13:00\n",
       "1  2021-09-22 12:30"
      ]
     },
     "execution_count": 3,
     "metadata": {},
     "output_type": "execute_result"
    }
   ],
   "source": [
    "timestamps"
   ]
  },
  {
   "cell_type": "code",
   "execution_count": 4,
   "id": "alternate-victory",
   "metadata": {
    "execution": {
     "iopub.execute_input": "2021-09-22T11:00:08.502884Z",
     "iopub.status.busy": "2021-09-22T11:00:08.501005Z",
     "iopub.status.idle": "2021-09-22T11:00:09.029555Z",
     "shell.execute_reply": "2021-09-22T11:00:09.030771Z"
    },
    "papermill": {
     "duration": 0.558244,
     "end_time": "2021-09-22T11:00:09.031274",
     "exception": false,
     "start_time": "2021-09-22T11:00:08.473030",
     "status": "completed"
    },
    "tags": []
   },
   "outputs": [],
   "source": [
    "df = pd.read_sql(\"select * from EBAY_TOP_BERLIN where record_time in (select distinct record_time from EBAY_TOP_BERLIN order by record_time desc limit 2)\", sqlite3.connect(\"UsedObjects.db\"))"
   ]
  },
  {
   "cell_type": "code",
   "execution_count": 5,
   "id": "popular-active",
   "metadata": {
    "execution": {
     "iopub.execute_input": "2021-09-22T11:00:09.109171Z",
     "iopub.status.busy": "2021-09-22T11:00:09.097148Z",
     "iopub.status.idle": "2021-09-22T11:00:09.125476Z",
     "shell.execute_reply": "2021-09-22T11:00:09.126764Z"
    },
    "papermill": {
     "duration": 0.069982,
     "end_time": "2021-09-22T11:00:09.127244",
     "exception": false,
     "start_time": "2021-09-22T11:00:09.057262",
     "status": "completed"
    },
    "tags": []
   },
   "outputs": [],
   "source": [
    "df_pivot = df.pivot_table(index=\"PRODUCT\", columns = \"RECORD_TIME\", values = \"LISTING_COUNT\")"
   ]
  },
  {
   "cell_type": "code",
   "execution_count": 6,
   "id": "union-huntington",
   "metadata": {
    "execution": {
     "iopub.execute_input": "2021-09-22T11:00:09.182972Z",
     "iopub.status.busy": "2021-09-22T11:00:09.180882Z",
     "iopub.status.idle": "2021-09-22T11:00:09.186094Z",
     "shell.execute_reply": "2021-09-22T11:00:09.187556Z"
    },
    "papermill": {
     "duration": 0.040831,
     "end_time": "2021-09-22T11:00:09.188012",
     "exception": false,
     "start_time": "2021-09-22T11:00:09.147181",
     "status": "completed"
    },
    "tags": []
   },
   "outputs": [],
   "source": [
    "df_pivot.columns = [\"stamp_1\", \"stamp_2\"]\n",
    "df_pivot_diff = df_pivot.diff(axis=1)"
   ]
  },
  {
   "cell_type": "code",
   "execution_count": 7,
   "id": "fifth-motion",
   "metadata": {
    "execution": {
     "iopub.execute_input": "2021-09-22T11:00:09.242679Z",
     "iopub.status.busy": "2021-09-22T11:00:09.240263Z",
     "iopub.status.idle": "2021-09-22T11:00:10.742488Z",
     "shell.execute_reply": "2021-09-22T11:00:10.743842Z"
    },
    "papermill": {
     "duration": 1.534751,
     "end_time": "2021-09-22T11:00:10.744271",
     "exception": false,
     "start_time": "2021-09-22T11:00:09.209520",
     "status": "completed"
    },
    "tags": []
   },
   "outputs": [
    {
     "data": {
      "text/plain": [
       "<AxesSubplot:ylabel='PRODUCT'>"
      ]
     },
     "execution_count": 7,
     "metadata": {},
     "output_type": "execute_result"
    },
    {
     "data": {
      "image/png": "[encoded data removed]",
      "text/plain": [
       "<Figure size 432x288 with 1 Axes>"
      ]
     },
     "metadata": {
      "needs_background": "light"
     },
     "output_type": "display_data"
    }
   ],
   "source": [
    "df_pivot_diff.sort_values(\"stamp_2\", ascending = False)[\"stamp_2\"].head(10).plot.barh()"
   ]
  },
  {
   "cell_type": "code",
   "execution_count": null,
   "id": "extra-executive",
   "metadata": {
    "papermill": {
     "duration": 0.022132,
     "end_time": "2021-09-22T11:00:10.791178",
     "exception": false,
     "start_time": "2021-09-22T11:00:10.769046",
     "status": "completed"
    },
    "tags": []
   },
   "outputs": [],
   "source": []
  }
 ],
 "metadata": {
  "kernelspec": {
   "display_name": "Python 3",
   "language": "python",
   "name": "python3"
  },
  "language_info": {
   "codemirror_mode": {
    "name": "ipython",
    "version": 3
   },
   "file_extension": ".py",
   "mimetype": "text/x-python",
   "name": "python",
   "nbconvert_exporter": "python",
   "pygments_lexer": "ipython3",
   "version": "3.9.5"
  },
  "papermill": {
   "default_parameters": {},
   "duration": 6.726113,
   "end_time": "2021-09-22T11:00:11.433564",
   "environment_variables": {},
   "exception": null,
   "input_path": "eBay_Overview.ipynb",
   "output_path": "eBay_Overview.ipynb",
   "parameters": {},
   "start_time": "2021-09-22T11:00:04.707451",
   "version": "2.3.3"
  }
 },
 "nbformat": 4,
 "nbformat_minor": 5
}