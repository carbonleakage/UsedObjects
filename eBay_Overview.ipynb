{
 "cells": [
  {
   "cell_type": "code",
   "execution_count": 1,
   "id": "reverse-picking",
   "metadata": {
    "execution": {
     "iopub.execute_input": "2021-09-23T20:30:06.821435Z",
     "iopub.status.busy": "2021-09-23T20:30:06.819534Z",
     "iopub.status.idle": "2021-09-23T20:30:07.623179Z",
     "shell.execute_reply": "2021-09-23T20:30:07.624528Z"
    },
    "papermill": {
     "duration": 0.857272,
     "end_time": "2021-09-23T20:30:07.625179",
     "exception": false,
     "start_time": "2021-09-23T20:30:06.767907",
     "status": "completed"
    },
    "tags": []
   },
   "outputs": [],
   "source": [
    "import pandas as pd\n",
    "import sqlite3"
   ]
  },
  {
   "cell_type": "code",
   "execution_count": 2,
   "id": "innovative-syndrome",
   "metadata": {
    "execution": {
     "iopub.execute_input": "2021-09-23T20:30:07.676838Z",
     "iopub.status.busy": "2021-09-23T20:30:07.674969Z",
     "iopub.status.idle": "2021-09-23T20:30:08.031696Z",
     "shell.execute_reply": "2021-09-23T20:30:08.032816Z"
    },
    "papermill": {
     "duration": 0.385995,
     "end_time": "2021-09-23T20:30:08.033222",
     "exception": false,
     "start_time": "2021-09-23T20:30:07.647227",
     "status": "completed"
    },
    "tags": []
   },
   "outputs": [],
   "source": [
    "timestamps = pd.read_sql(\"select distinct record_time from EBAY_TOP_BERLIN order by record_time desc limit 2\", sqlite3.connect(\"UsedObjects.db\"))"
   ]
  },
  {
   "cell_type": "code",
   "execution_count": 3,
   "id": "periodic-identification",
   "metadata": {
    "execution": {
     "iopub.execute_input": "2021-09-23T20:30:08.097768Z",
     "iopub.status.busy": "2021-09-23T20:30:08.095539Z",
     "iopub.status.idle": "2021-09-23T20:30:08.116210Z",
     "shell.execute_reply": "2021-09-23T20:30:08.117418Z"
    },
    "papermill": {
     "duration": 0.063818,
     "end_time": "2021-09-23T20:30:08.117813",
     "exception": false,
     "start_time": "2021-09-23T20:30:08.053995",
     "status": "completed"
    },
    "tags": []
   },
   "outputs": [
    {
     "data": {
      "text/html": [
       "<div>\n",
       "<style scoped>\n",
       "    .dataframe tbody tr th:only-of-type {\n",
       "        vertical-align: middle;\n",
       "    }\n",
       "\n",
       "    .dataframe tbody tr th {\n",
       "        vertical-align: top;\n",
       "    }\n",
       "\n",
       "    .dataframe thead th {\n",
       "        text-align: right;\n",
       "    }\n",
       "</style>\n",
       "<table border=\"1\" class=\"dataframe\">\n",
       "  <thead>\n",
       "    <tr style=\"text-align: right;\">\n",
       "      <th></th>\n",
       "      <th>RECORD_TIME</th>\n",
       "    </tr>\n",
       "  </thead>\n",
       "  <tbody>\n",
       "    <tr>\n",
       "      <th>0</th>\n",
       "      <td>2021-09-23 22:30</td>\n",
       "    </tr>\n",
       "    <tr>\n",
       "      <th>1</th>\n",
       "      <td>2021-09-23 22:00</td>\n",
       "    </tr>\n",
       "  </tbody>\n",
       "</table>\n",
       "</div>"
      ],
      "text/plain": [
       "        RECORD_TIME\n",
       "0  2021-09-23 22:30\n",
       "1  2021-09-23 22:00"
      ]
     },
     "execution_count": 3,
     "metadata": {},
     "output_type": "execute_result"
    }
   ],
   "source": [
    "timestamps"
   ]
  },
  {
   "cell_type": "code",
   "execution_count": 4,
   "id": "alternate-victory",
   "metadata": {
    "execution": {
     "iopub.execute_input": "2021-09-23T20:30:08.170382Z",
     "iopub.status.busy": "2021-09-23T20:30:08.168144Z",
     "iopub.status.idle": "2021-09-23T20:30:08.705996Z",
     "shell.execute_reply": "2021-09-23T20:30:08.704713Z"
    },
    "papermill": {
     "duration": 0.566835,
     "end_time": "2021-09-23T20:30:08.706330",
     "exception": false,
     "start_time": "2021-09-23T20:30:08.139495",
     "status": "completed"
    },
    "tags": []
   },
   "outputs": [],
   "source": [
    "df = pd.read_sql(\"select * from EBAY_TOP_BERLIN where record_time in (select distinct record_time from EBAY_TOP_BERLIN order by record_time desc limit 2)\", sqlite3.connect(\"UsedObjects.db\"))"
   ]
  },
  {
   "cell_type": "code",
   "execution_count": 5,
   "id": "popular-active",
   "metadata": {
    "execution": {
     "iopub.execute_input": "2021-09-23T20:30:08.791469Z",
     "iopub.status.busy": "2021-09-23T20:30:08.779245Z",
     "iopub.status.idle": "2021-09-23T20:30:08.806690Z",
     "shell.execute_reply": "2021-09-23T20:30:08.807967Z"
    },
    "papermill": {
     "duration": 0.071312,
     "end_time": "2021-09-23T20:30:08.808365",
     "exception": false,
     "start_time": "2021-09-23T20:30:08.737053",
     "status": "completed"
    },
    "tags": []
   },
   "outputs": [],
   "source": [
    "df_pivot = df.pivot_table(index=\"PRODUCT\", columns = \"RECORD_TIME\", values = \"LISTING_COUNT\")"
   ]
  },
  {
   "cell_type": "code",
   "execution_count": 6,
   "id": "union-huntington",
   "metadata": {
    "execution": {
     "iopub.execute_input": "2021-09-23T20:30:08.865482Z",
     "iopub.status.busy": "2021-09-23T20:30:08.863336Z",
     "iopub.status.idle": "2021-09-23T20:30:08.868817Z",
     "shell.execute_reply": "2021-09-23T20:30:08.870151Z"
    },
    "papermill": {
     "duration": 0.040773,
     "end_time": "2021-09-23T20:30:08.870588",
     "exception": false,
     "start_time": "2021-09-23T20:30:08.829815",
     "status": "completed"
    },
    "tags": []
   },
   "outputs": [],
   "source": [
    "df_pivot.columns = [\"stamp_1\", \"stamp_2\"]\n",
    "df_pivot_diff = df_pivot.diff(axis=1)"
   ]
  },
  {
   "cell_type": "code",
   "execution_count": 7,
   "id": "fifth-motion",
   "metadata": {
    "execution": {
     "iopub.execute_input": "2021-09-23T20:30:08.927933Z",
     "iopub.status.busy": "2021-09-23T20:30:08.925221Z",
     "iopub.status.idle": "2021-09-23T20:30:10.426025Z",
     "shell.execute_reply": "2021-09-23T20:30:10.427271Z"
    },
    "papermill": {
     "duration": 1.534296,
     "end_time": "2021-09-23T20:30:10.427707",
     "exception": false,
     "start_time": "2021-09-23T20:30:08.893411",
     "status": "completed"
    },
    "tags": []
   },
   "outputs": [
    {
     "data": {
      "text/plain": [
       "<AxesSubplot:ylabel='PRODUCT'>"
      ]
     },
     "execution_count": 7,
     "metadata": {},
     "output_type": "execute_result"
    },
    {
     "data": {
      "image/png": "[encoded data removed]",
      "text/plain": [
       "<Figure size 432x288 with 1 Axes>"
      ]
     },
     "metadata": {
      "needs_background": "light"
     },
     "output_type": "display_data"
    }
   ],
   "source": [
    "df_pivot_diff.sort_values(\"stamp_2\", ascending = False)[\"stamp_2\"].head(10).plot.barh()"
   ]
  },
  {
   "cell_type": "code",
   "execution_count": null,
   "id": "extra-executive",
   "metadata": {
    "papermill": {
     "duration": 0.02224,
     "end_time": "2021-09-23T20:30:10.476111",
     "exception": false,
     "start_time": "2021-09-23T20:30:10.453871",
     "status": "completed"
    },
    "tags": []
   },
   "outputs": [],
   "source": []
  }
 ],
 "metadata": {
  "kernelspec": {
   "display_name": "Python 3",
   "language": "python",
   "name": "python3"
  },
  "language_info": {
   "codemirror_mode": {
    "name": "ipython",
    "version": 3
   },
   "file_extension": ".py",
   "mimetype": "text/x-python",
   "name": "python",
   "nbconvert_exporter": "python",
   "pygments_lexer": "ipython3",
   "version": "3.9.5"
  },
  "papermill": {
   "default_parameters": {},
   "duration": 6.748639,
   "end_time": "2021-09-23T20:30:11.118723",
   "environment_variables": {},
   "exception": null,
   "input_path": "eBay_Overview.ipynb",
   "output_path": "eBay_Overview.ipynb",
   "parameters": {},
   "start_time": "2021-09-23T20:30:04.370084",
   "version": "2.3.3"
  }
 },
 "nbformat": 4,
 "nbformat_minor": 5
}