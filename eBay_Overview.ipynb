{
 "cells": [
  {
   "cell_type": "code",
   "execution_count": 1,
   "id": "reverse-picking",
   "metadata": {
    "execution": {
     "iopub.execute_input": "2021-12-09T17:30:07.306356Z",
     "iopub.status.busy": "2021-12-09T17:30:07.303976Z",
     "iopub.status.idle": "2021-12-09T17:30:08.269483Z",
     "shell.execute_reply": "2021-12-09T17:30:08.271958Z"
    },
    "papermill": {
     "duration": 1.015334,
     "end_time": "2021-12-09T17:30:08.272826",
     "exception": false,
     "start_time": "2021-12-09T17:30:07.257492",
     "status": "completed"
    },
    "tags": []
   },
   "outputs": [],
   "source": [
    "import pandas as pd\n",
    "import sqlite3"
   ]
  },
  {
   "cell_type": "code",
   "execution_count": 2,
   "id": "innovative-syndrome",
   "metadata": {
    "execution": {
     "iopub.execute_input": "2021-12-09T17:30:08.330948Z",
     "iopub.status.busy": "2021-12-09T17:30:08.328752Z",
     "iopub.status.idle": "2021-12-09T17:30:09.366431Z",
     "shell.execute_reply": "2021-12-09T17:30:09.367869Z"
    },
    "papermill": {
     "duration": 1.072039,
     "end_time": "2021-12-09T17:30:09.368328",
     "exception": false,
     "start_time": "2021-12-09T17:30:08.296289",
     "status": "completed"
    },
    "tags": []
   },
   "outputs": [],
   "source": [
    "timestamps = pd.read_sql(\"select distinct record_time from EBAY_TOP_BERLIN order by record_time desc limit 2\", sqlite3.connect(\"UsedObjects.db\"))"
   ]
  },
  {
   "cell_type": "code",
   "execution_count": 3,
   "id": "periodic-identification",
   "metadata": {
    "execution": {
     "iopub.execute_input": "2021-12-09T17:30:09.441030Z",
     "iopub.status.busy": "2021-12-09T17:30:09.437962Z",
     "iopub.status.idle": "2021-12-09T17:30:09.474014Z",
     "shell.execute_reply": "2021-12-09T17:30:09.476908Z"
    },
    "papermill": {
     "duration": 0.089856,
     "end_time": "2021-12-09T17:30:09.477844",
     "exception": false,
     "start_time": "2021-12-09T17:30:09.387988",
     "status": "completed"
    },
    "tags": []
   },
   "outputs": [
    {
     "data": {
      "text/html": [
       "<div>\n",
       "<style scoped>\n",
       "    .dataframe tbody tr th:only-of-type {\n",
       "        vertical-align: middle;\n",
       "    }\n",
       "\n",
       "    .dataframe tbody tr th {\n",
       "        vertical-align: top;\n",
       "    }\n",
       "\n",
       "    .dataframe thead th {\n",
       "        text-align: right;\n",
       "    }\n",
       "</style>\n",
       "<table border=\"1\" class=\"dataframe\">\n",
       "  <thead>\n",
       "    <tr style=\"text-align: right;\">\n",
       "      <th></th>\n",
       "      <th>RECORD_TIME</th>\n",
       "    </tr>\n",
       "  </thead>\n",
       "  <tbody>\n",
       "    <tr>\n",
       "      <th>0</th>\n",
       "      <td>2021-12-09 18:30</td>\n",
       "    </tr>\n",
       "    <tr>\n",
       "      <th>1</th>\n",
       "      <td>2021-12-09 18:00</td>\n",
       "    </tr>\n",
       "  </tbody>\n",
       "</table>\n",
       "</div>"
      ],
      "text/plain": [
       "        RECORD_TIME\n",
       "0  2021-12-09 18:30\n",
       "1  2021-12-09 18:00"
      ]
     },
     "execution_count": 3,
     "metadata": {},
     "output_type": "execute_result"
    }
   ],
   "source": [
    "timestamps"
   ]
  },
  {
   "cell_type": "code",
   "execution_count": 4,
   "id": "alternate-victory",
   "metadata": {
    "execution": {
     "iopub.execute_input": "2021-12-09T17:30:09.550275Z",
     "iopub.status.busy": "2021-12-09T17:30:09.547735Z",
     "iopub.status.idle": "2021-12-09T17:30:11.070662Z",
     "shell.execute_reply": "2021-12-09T17:30:11.072402Z"
    },
    "papermill": {
     "duration": 1.563427,
     "end_time": "2021-12-09T17:30:11.073034",
     "exception": false,
     "start_time": "2021-12-09T17:30:09.509607",
     "status": "completed"
    },
    "tags": []
   },
   "outputs": [],
   "source": [
    "df = pd.read_sql(\"select * from EBAY_TOP_BERLIN where record_time in (select distinct record_time from EBAY_TOP_BERLIN order by record_time desc limit 2)\", sqlite3.connect(\"UsedObjects.db\"))"
   ]
  },
  {
   "cell_type": "code",
   "execution_count": 5,
   "id": "popular-active",
   "metadata": {
    "execution": {
     "iopub.execute_input": "2021-12-09T17:30:11.198999Z",
     "iopub.status.busy": "2021-12-09T17:30:11.171482Z",
     "iopub.status.idle": "2021-12-09T17:30:11.235554Z",
     "shell.execute_reply": "2021-12-09T17:30:11.238378Z"
    },
    "papermill": {
     "duration": 0.132884,
     "end_time": "2021-12-09T17:30:11.239280",
     "exception": false,
     "start_time": "2021-12-09T17:30:11.106396",
     "status": "completed"
    },
    "tags": []
   },
   "outputs": [],
   "source": [
    "df_pivot = df.pivot_table(index=\"PRODUCT\", columns = \"RECORD_TIME\", values = \"LISTING_COUNT\")"
   ]
  },
  {
   "cell_type": "code",
   "execution_count": 6,
   "id": "union-huntington",
   "metadata": {
    "execution": {
     "iopub.execute_input": "2021-12-09T17:30:11.323344Z",
     "iopub.status.busy": "2021-12-09T17:30:11.320546Z",
     "iopub.status.idle": "2021-12-09T17:30:11.330134Z",
     "shell.execute_reply": "2021-12-09T17:30:11.327993Z"
    },
    "papermill": {
     "duration": 0.059273,
     "end_time": "2021-12-09T17:30:11.330669",
     "exception": false,
     "start_time": "2021-12-09T17:30:11.271396",
     "status": "completed"
    },
    "tags": []
   },
   "outputs": [],
   "source": [
    "df_pivot.columns = [\"stamp_1\", \"stamp_2\"]\n",
    "df_pivot_diff = df_pivot.diff(axis=1)"
   ]
  },
  {
   "cell_type": "code",
   "execution_count": 7,
   "id": "fifth-motion",
   "metadata": {
    "execution": {
     "iopub.execute_input": "2021-12-09T17:30:11.419677Z",
     "iopub.status.busy": "2021-12-09T17:30:11.416098Z",
     "iopub.status.idle": "2021-12-09T17:30:13.144477Z",
     "shell.execute_reply": "2021-12-09T17:30:13.145829Z"
    },
    "papermill": {
     "duration": 1.783924,
     "end_time": "2021-12-09T17:30:13.146262",
     "exception": false,
     "start_time": "2021-12-09T17:30:11.362338",
     "status": "completed"
    },
    "tags": []
   },
   "outputs": [
    {
     "data": {
      "text/plain": [
       "<AxesSubplot:ylabel='PRODUCT'>"
      ]
     },
     "execution_count": 7,
     "metadata": {},
     "output_type": "execute_result"
    },
    {
     "data": {
      "image/png": "[encoded data removed]",
      "text/plain": [
       "<Figure size 432x288 with 1 Axes>"
      ]
     },
     "metadata": {
      "needs_background": "light"
     },
     "output_type": "display_data"
    }
   ],
   "source": [
    "df_pivot_diff.sort_values(\"stamp_2\", ascending = False)[\"stamp_2\"].head(10).plot.barh()"
   ]
  },
  {
   "cell_type": "code",
   "execution_count": null,
   "id": "extra-executive",
   "metadata": {
    "papermill": {
     "duration": 0.021705,
     "end_time": "2021-12-09T17:30:13.191086",
     "exception": false,
     "start_time": "2021-12-09T17:30:13.169381",
     "status": "completed"
    },
    "tags": []
   },
   "outputs": [],
   "source": []
  }
 ],
 "metadata": {
  "kernelspec": {
   "display_name": "Python 3",
   "language": "python",
   "name": "python3"
  },
  "language_info": {
   "codemirror_mode": {
    "name": "ipython",
    "version": 3
   },
   "file_extension": ".py",
   "mimetype": "text/x-python",
   "name": "python",
   "nbconvert_exporter": "python",
   "pygments_lexer": "ipython3",
   "version": "3.9.5"
  },
  "papermill": {
   "default_parameters": {},
   "duration": 9.944858,
   "end_time": "2021-12-09T17:30:14.453830",
   "environment_variables": {},
   "exception": null,
   "input_path": "eBay_Overview.ipynb",
   "output_path": "eBay_Overview.ipynb",
   "parameters": {},
   "start_time": "2021-12-09T17:30:04.508972",
   "version": "2.3.3"
  }
 },
 "nbformat": 4,
 "nbformat_minor": 5
}