{
 "cells": [
  {
   "cell_type": "code",
   "execution_count": 1,
   "id": "reverse-picking",
   "metadata": {
    "execution": {
     "iopub.execute_input": "2021-10-04T04:30:06.578758Z",
     "iopub.status.busy": "2021-10-04T04:30:06.576795Z",
     "iopub.status.idle": "2021-10-04T04:30:07.385349Z",
     "shell.execute_reply": "2021-10-04T04:30:07.386595Z"
    },
    "papermill": {
     "duration": 0.861167,
     "end_time": "2021-10-04T04:30:07.387293",
     "exception": false,
     "start_time": "2021-10-04T04:30:06.526126",
     "status": "completed"
    },
    "tags": []
   },
   "outputs": [],
   "source": [
    "import pandas as pd\n",
    "import sqlite3"
   ]
  },
  {
   "cell_type": "code",
   "execution_count": 2,
   "id": "innovative-syndrome",
   "metadata": {
    "execution": {
     "iopub.execute_input": "2021-10-04T04:30:07.439391Z",
     "iopub.status.busy": "2021-10-04T04:30:07.437409Z",
     "iopub.status.idle": "2021-10-04T04:30:07.888587Z",
     "shell.execute_reply": "2021-10-04T04:30:07.889793Z"
    },
    "papermill": {
     "duration": 0.480669,
     "end_time": "2021-10-04T04:30:07.890189",
     "exception": false,
     "start_time": "2021-10-04T04:30:07.409520",
     "status": "completed"
    },
    "tags": []
   },
   "outputs": [],
   "source": [
    "timestamps = pd.read_sql(\"select distinct record_time from EBAY_TOP_BERLIN order by record_time desc limit 2\", sqlite3.connect(\"UsedObjects.db\"))"
   ]
  },
  {
   "cell_type": "code",
   "execution_count": 3,
   "id": "periodic-identification",
   "metadata": {
    "execution": {
     "iopub.execute_input": "2021-10-04T04:30:07.958378Z",
     "iopub.status.busy": "2021-10-04T04:30:07.953221Z",
     "iopub.status.idle": "2021-10-04T04:30:07.973016Z",
     "shell.execute_reply": "2021-10-04T04:30:07.974167Z"
    },
    "papermill": {
     "duration": 0.063409,
     "end_time": "2021-10-04T04:30:07.974576",
     "exception": false,
     "start_time": "2021-10-04T04:30:07.911167",
     "status": "completed"
    },
    "tags": []
   },
   "outputs": [
    {
     "data": {
      "text/html": [
       "<div>\n",
       "<style scoped>\n",
       "    .dataframe tbody tr th:only-of-type {\n",
       "        vertical-align: middle;\n",
       "    }\n",
       "\n",
       "    .dataframe tbody tr th {\n",
       "        vertical-align: top;\n",
       "    }\n",
       "\n",
       "    .dataframe thead th {\n",
       "        text-align: right;\n",
       "    }\n",
       "</style>\n",
       "<table border=\"1\" class=\"dataframe\">\n",
       "  <thead>\n",
       "    <tr style=\"text-align: right;\">\n",
       "      <th></th>\n",
       "      <th>RECORD_TIME</th>\n",
       "    </tr>\n",
       "  </thead>\n",
       "  <tbody>\n",
       "    <tr>\n",
       "      <th>0</th>\n",
       "      <td>2021-10-04 06:30</td>\n",
       "    </tr>\n",
       "    <tr>\n",
       "      <th>1</th>\n",
       "      <td>2021-10-04 06:00</td>\n",
       "    </tr>\n",
       "  </tbody>\n",
       "</table>\n",
       "</div>"
      ],
      "text/plain": [
       "        RECORD_TIME\n",
       "0  2021-10-04 06:30\n",
       "1  2021-10-04 06:00"
      ]
     },
     "execution_count": 3,
     "metadata": {},
     "output_type": "execute_result"
    }
   ],
   "source": [
    "timestamps"
   ]
  },
  {
   "cell_type": "code",
   "execution_count": 4,
   "id": "alternate-victory",
   "metadata": {
    "execution": {
     "iopub.execute_input": "2021-10-04T04:30:08.028994Z",
     "iopub.status.busy": "2021-10-04T04:30:08.026961Z",
     "iopub.status.idle": "2021-10-04T04:30:08.668936Z",
     "shell.execute_reply": "2021-10-04T04:30:08.670154Z"
    },
    "papermill": {
     "duration": 0.672528,
     "end_time": "2021-10-04T04:30:08.670548",
     "exception": false,
     "start_time": "2021-10-04T04:30:07.998020",
     "status": "completed"
    },
    "tags": []
   },
   "outputs": [],
   "source": [
    "df = pd.read_sql(\"select * from EBAY_TOP_BERLIN where record_time in (select distinct record_time from EBAY_TOP_BERLIN order by record_time desc limit 2)\", sqlite3.connect(\"UsedObjects.db\"))"
   ]
  },
  {
   "cell_type": "code",
   "execution_count": 5,
   "id": "popular-active",
   "metadata": {
    "execution": {
     "iopub.execute_input": "2021-10-04T04:30:08.742878Z",
     "iopub.status.busy": "2021-10-04T04:30:08.730749Z",
     "iopub.status.idle": "2021-10-04T04:30:08.758352Z",
     "shell.execute_reply": "2021-10-04T04:30:08.759637Z"
    },
    "papermill": {
     "duration": 0.068163,
     "end_time": "2021-10-04T04:30:08.760045",
     "exception": false,
     "start_time": "2021-10-04T04:30:08.691882",
     "status": "completed"
    },
    "tags": []
   },
   "outputs": [],
   "source": [
    "df_pivot = df.pivot_table(index=\"PRODUCT\", columns = \"RECORD_TIME\", values = \"LISTING_COUNT\")"
   ]
  },
  {
   "cell_type": "code",
   "execution_count": 6,
   "id": "union-huntington",
   "metadata": {
    "execution": {
     "iopub.execute_input": "2021-10-04T04:30:08.818146Z",
     "iopub.status.busy": "2021-10-04T04:30:08.815875Z",
     "iopub.status.idle": "2021-10-04T04:30:08.821871Z",
     "shell.execute_reply": "2021-10-04T04:30:08.823411Z"
    },
    "papermill": {
     "duration": 0.042228,
     "end_time": "2021-10-04T04:30:08.823877",
     "exception": false,
     "start_time": "2021-10-04T04:30:08.781649",
     "status": "completed"
    },
    "tags": []
   },
   "outputs": [],
   "source": [
    "df_pivot.columns = [\"stamp_1\", \"stamp_2\"]\n",
    "df_pivot_diff = df_pivot.diff(axis=1)"
   ]
  },
  {
   "cell_type": "code",
   "execution_count": 7,
   "id": "fifth-motion",
   "metadata": {
    "execution": {
     "iopub.execute_input": "2021-10-04T04:30:08.877968Z",
     "iopub.status.busy": "2021-10-04T04:30:08.875673Z",
     "iopub.status.idle": "2021-10-04T04:30:10.349429Z",
     "shell.execute_reply": "2021-10-04T04:30:10.350968Z"
    },
    "papermill": {
     "duration": 1.506584,
     "end_time": "2021-10-04T04:30:10.351443",
     "exception": false,
     "start_time": "2021-10-04T04:30:08.844859",
     "status": "completed"
    },
    "tags": []
   },
   "outputs": [
    {
     "data": {
      "text/plain": [
       "<AxesSubplot:ylabel='PRODUCT'>"
      ]
     },
     "execution_count": 7,
     "metadata": {},
     "output_type": "execute_result"
    },
    {
     "data": {
      "image/png": "[encoded data removed]",
      "text/plain": [
       "<Figure size 432x288 with 1 Axes>"
      ]
     },
     "metadata": {
      "needs_background": "light"
     },
     "output_type": "display_data"
    }
   ],
   "source": [
    "df_pivot_diff.sort_values(\"stamp_2\", ascending = False)[\"stamp_2\"].head(10).plot.barh()"
   ]
  },
  {
   "cell_type": "code",
   "execution_count": null,
   "id": "extra-executive",
   "metadata": {
    "papermill": {
     "duration": 0.02219,
     "end_time": "2021-10-04T04:30:10.398109",
     "exception": false,
     "start_time": "2021-10-04T04:30:10.375919",
     "status": "completed"
    },
    "tags": []
   },
   "outputs": [],
   "source": []
  }
 ],
 "metadata": {
  "kernelspec": {
   "display_name": "Python 3",
   "language": "python",
   "name": "python3"
  },
  "language_info": {
   "codemirror_mode": {
    "name": "ipython",
    "version": 3
   },
   "file_extension": ".py",
   "mimetype": "text/x-python",
   "name": "python",
   "nbconvert_exporter": "python",
   "pygments_lexer": "ipython3",
   "version": "3.9.5"
  },
  "papermill": {
   "default_parameters": {},
   "duration": 7.819503,
   "end_time": "2021-10-04T04:30:11.939363",
   "environment_variables": {},
   "exception": null,
   "input_path": "eBay_Overview.ipynb",
   "output_path": "eBay_Overview.ipynb",
   "parameters": {},
   "start_time": "2021-10-04T04:30:04.119860",
   "version": "2.3.3"
  }
 },
 "nbformat": 4,
 "nbformat_minor": 5
}