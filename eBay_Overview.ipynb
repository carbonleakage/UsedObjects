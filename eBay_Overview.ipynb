{
 "cells": [
  {
   "cell_type": "code",
   "execution_count": 1,
   "id": "reverse-picking",
   "metadata": {
    "execution": {
     "iopub.execute_input": "2021-09-23T14:00:06.872051Z",
     "iopub.status.busy": "2021-09-23T14:00:06.870019Z",
     "iopub.status.idle": "2021-09-23T14:00:07.673847Z",
     "shell.execute_reply": "2021-09-23T14:00:07.675281Z"
    },
    "papermill": {
     "duration": 0.856268,
     "end_time": "2021-09-23T14:00:07.675947",
     "exception": false,
     "start_time": "2021-09-23T14:00:06.819679",
     "status": "completed"
    },
    "tags": []
   },
   "outputs": [],
   "source": [
    "import pandas as pd\n",
    "import sqlite3"
   ]
  },
  {
   "cell_type": "code",
   "execution_count": 2,
   "id": "innovative-syndrome",
   "metadata": {
    "execution": {
     "iopub.execute_input": "2021-09-23T14:00:07.727552Z",
     "iopub.status.busy": "2021-09-23T14:00:07.725593Z",
     "iopub.status.idle": "2021-09-23T14:00:08.090315Z",
     "shell.execute_reply": "2021-09-23T14:00:08.091670Z"
    },
    "papermill": {
     "duration": 0.394682,
     "end_time": "2021-09-23T14:00:08.092099",
     "exception": false,
     "start_time": "2021-09-23T14:00:07.697417",
     "status": "completed"
    },
    "tags": []
   },
   "outputs": [],
   "source": [
    "timestamps = pd.read_sql(\"select distinct record_time from EBAY_TOP_BERLIN order by record_time desc limit 2\", sqlite3.connect(\"UsedObjects.db\"))"
   ]
  },
  {
   "cell_type": "code",
   "execution_count": 3,
   "id": "periodic-identification",
   "metadata": {
    "execution": {
     "iopub.execute_input": "2021-09-23T14:00:08.158128Z",
     "iopub.status.busy": "2021-09-23T14:00:08.156094Z",
     "iopub.status.idle": "2021-09-23T14:00:08.175961Z",
     "shell.execute_reply": "2021-09-23T14:00:08.177186Z"
    },
    "papermill": {
     "duration": 0.064674,
     "end_time": "2021-09-23T14:00:08.177575",
     "exception": false,
     "start_time": "2021-09-23T14:00:08.112901",
     "status": "completed"
    },
    "tags": []
   },
   "outputs": [
    {
     "data": {
      "text/html": [
       "<div>\n",
       "<style scoped>\n",
       "    .dataframe tbody tr th:only-of-type {\n",
       "        vertical-align: middle;\n",
       "    }\n",
       "\n",
       "    .dataframe tbody tr th {\n",
       "        vertical-align: top;\n",
       "    }\n",
       "\n",
       "    .dataframe thead th {\n",
       "        text-align: right;\n",
       "    }\n",
       "</style>\n",
       "<table border=\"1\" class=\"dataframe\">\n",
       "  <thead>\n",
       "    <tr style=\"text-align: right;\">\n",
       "      <th></th>\n",
       "      <th>RECORD_TIME</th>\n",
       "    </tr>\n",
       "  </thead>\n",
       "  <tbody>\n",
       "    <tr>\n",
       "      <th>0</th>\n",
       "      <td>2021-09-23 16:00</td>\n",
       "    </tr>\n",
       "    <tr>\n",
       "      <th>1</th>\n",
       "      <td>2021-09-23 15:30</td>\n",
       "    </tr>\n",
       "  </tbody>\n",
       "</table>\n",
       "</div>"
      ],
      "text/plain": [
       "        RECORD_TIME\n",
       "0  2021-09-23 16:00\n",
       "1  2021-09-23 15:30"
      ]
     },
     "execution_count": 3,
     "metadata": {},
     "output_type": "execute_result"
    }
   ],
   "source": [
    "timestamps"
   ]
  },
  {
   "cell_type": "code",
   "execution_count": 4,
   "id": "alternate-victory",
   "metadata": {
    "execution": {
     "iopub.execute_input": "2021-09-23T14:00:08.231364Z",
     "iopub.status.busy": "2021-09-23T14:00:08.228919Z",
     "iopub.status.idle": "2021-09-23T14:00:08.767195Z",
     "shell.execute_reply": "2021-09-23T14:00:08.768732Z"
    },
    "papermill": {
     "duration": 0.569435,
     "end_time": "2021-09-23T14:00:08.769177",
     "exception": false,
     "start_time": "2021-09-23T14:00:08.199742",
     "status": "completed"
    },
    "tags": []
   },
   "outputs": [],
   "source": [
    "df = pd.read_sql(\"select * from EBAY_TOP_BERLIN where record_time in (select distinct record_time from EBAY_TOP_BERLIN order by record_time desc limit 2)\", sqlite3.connect(\"UsedObjects.db\"))"
   ]
  },
  {
   "cell_type": "code",
   "execution_count": 5,
   "id": "popular-active",
   "metadata": {
    "execution": {
     "iopub.execute_input": "2021-09-23T14:00:08.850725Z",
     "iopub.status.busy": "2021-09-23T14:00:08.838649Z",
     "iopub.status.idle": "2021-09-23T14:00:08.867289Z",
     "shell.execute_reply": "2021-09-23T14:00:08.868683Z"
    },
    "papermill": {
     "duration": 0.073317,
     "end_time": "2021-09-23T14:00:08.869119",
     "exception": false,
     "start_time": "2021-09-23T14:00:08.795802",
     "status": "completed"
    },
    "tags": []
   },
   "outputs": [],
   "source": [
    "df_pivot = df.pivot_table(index=\"PRODUCT\", columns = \"RECORD_TIME\", values = \"LISTING_COUNT\")"
   ]
  },
  {
   "cell_type": "code",
   "execution_count": 6,
   "id": "union-huntington",
   "metadata": {
    "execution": {
     "iopub.execute_input": "2021-09-23T14:00:08.928741Z",
     "iopub.status.busy": "2021-09-23T14:00:08.926220Z",
     "iopub.status.idle": "2021-09-23T14:00:08.932240Z",
     "shell.execute_reply": "2021-09-23T14:00:08.933532Z"
    },
    "papermill": {
     "duration": 0.042692,
     "end_time": "2021-09-23T14:00:08.933944",
     "exception": false,
     "start_time": "2021-09-23T14:00:08.891252",
     "status": "completed"
    },
    "tags": []
   },
   "outputs": [],
   "source": [
    "df_pivot.columns = [\"stamp_1\", \"stamp_2\"]\n",
    "df_pivot_diff = df_pivot.diff(axis=1)"
   ]
  },
  {
   "cell_type": "code",
   "execution_count": 7,
   "id": "fifth-motion",
   "metadata": {
    "execution": {
     "iopub.execute_input": "2021-09-23T14:00:08.988769Z",
     "iopub.status.busy": "2021-09-23T14:00:08.986278Z",
     "iopub.status.idle": "2021-09-23T14:00:10.486895Z",
     "shell.execute_reply": "2021-09-23T14:00:10.488303Z"
    },
    "papermill": {
     "duration": 1.533863,
     "end_time": "2021-09-23T14:00:10.488727",
     "exception": false,
     "start_time": "2021-09-23T14:00:08.954864",
     "status": "completed"
    },
    "tags": []
   },
   "outputs": [
    {
     "data": {
      "text/plain": [
       "<AxesSubplot:ylabel='PRODUCT'>"
      ]
     },
     "execution_count": 7,
     "metadata": {},
     "output_type": "execute_result"
    },
    {
     "data": {
      "image/png": "[encoded data removed]",
      "text/plain": [
       "<Figure size 432x288 with 1 Axes>"
      ]
     },
     "metadata": {
      "needs_background": "light"
     },
     "output_type": "display_data"
    }
   ],
   "source": [
    "df_pivot_diff.sort_values(\"stamp_2\", ascending = False)[\"stamp_2\"].head(10).plot.barh()"
   ]
  },
  {
   "cell_type": "code",
   "execution_count": null,
   "id": "extra-executive",
   "metadata": {
    "papermill": {
     "duration": 0.02255,
     "end_time": "2021-09-23T14:00:10.535610",
     "exception": false,
     "start_time": "2021-09-23T14:00:10.513060",
     "status": "completed"
    },
    "tags": []
   },
   "outputs": [],
   "source": []
  }
 ],
 "metadata": {
  "kernelspec": {
   "display_name": "Python 3",
   "language": "python",
   "name": "python3"
  },
  "language_info": {
   "codemirror_mode": {
    "name": "ipython",
    "version": 3
   },
   "file_extension": ".py",
   "mimetype": "text/x-python",
   "name": "python",
   "nbconvert_exporter": "python",
   "pygments_lexer": "ipython3",
   "version": "3.9.5"
  },
  "papermill": {
   "default_parameters": {},
   "duration": 6.763847,
   "end_time": "2021-09-23T14:00:11.179603",
   "environment_variables": {},
   "exception": null,
   "input_path": "eBay_Overview.ipynb",
   "output_path": "eBay_Overview.ipynb",
   "parameters": {},
   "start_time": "2021-09-23T14:00:04.415756",
   "version": "2.3.3"
  }
 },
 "nbformat": 4,
 "nbformat_minor": 5
}