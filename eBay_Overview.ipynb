{
 "cells": [
  {
   "cell_type": "code",
   "execution_count": 1,
   "id": "reverse-picking",
   "metadata": {
    "execution": {
     "iopub.execute_input": "2021-08-21T09:00:06.806208Z",
     "iopub.status.busy": "2021-08-21T09:00:06.804213Z",
     "iopub.status.idle": "2021-08-21T09:00:07.606648Z",
     "shell.execute_reply": "2021-08-21T09:00:07.607986Z"
    },
    "papermill": {
     "duration": 0.853418,
     "end_time": "2021-08-21T09:00:07.608632",
     "exception": false,
     "start_time": "2021-08-21T09:00:06.755214",
     "status": "completed"
    },
    "tags": []
   },
   "outputs": [],
   "source": [
    "import pandas as pd\n",
    "import sqlite3"
   ]
  },
  {
   "cell_type": "code",
   "execution_count": 2,
   "id": "innovative-syndrome",
   "metadata": {
    "execution": {
     "iopub.execute_input": "2021-08-21T09:00:07.660524Z",
     "iopub.status.busy": "2021-08-21T09:00:07.658678Z",
     "iopub.status.idle": "2021-08-21T09:00:07.753049Z",
     "shell.execute_reply": "2021-08-21T09:00:07.754286Z"
    },
    "papermill": {
     "duration": 0.124088,
     "end_time": "2021-08-21T09:00:07.754689",
     "exception": false,
     "start_time": "2021-08-21T09:00:07.630601",
     "status": "completed"
    },
    "tags": []
   },
   "outputs": [],
   "source": [
    "timestamps = pd.read_sql(\"select distinct record_time from EBAY_TOP_BERLIN order by record_time desc limit 2\", sqlite3.connect(\"UsedObjects.db\"))"
   ]
  },
  {
   "cell_type": "code",
   "execution_count": 3,
   "id": "periodic-identification",
   "metadata": {
    "execution": {
     "iopub.execute_input": "2021-08-21T09:00:07.821044Z",
     "iopub.status.busy": "2021-08-21T09:00:07.819030Z",
     "iopub.status.idle": "2021-08-21T09:00:07.838644Z",
     "shell.execute_reply": "2021-08-21T09:00:07.839780Z"
    },
    "papermill": {
     "duration": 0.063849,
     "end_time": "2021-08-21T09:00:07.840187",
     "exception": false,
     "start_time": "2021-08-21T09:00:07.776338",
     "status": "completed"
    },
    "tags": []
   },
   "outputs": [
    {
     "data": {
      "text/html": [
       "<div>\n",
       "<style scoped>\n",
       "    .dataframe tbody tr th:only-of-type {\n",
       "        vertical-align: middle;\n",
       "    }\n",
       "\n",
       "    .dataframe tbody tr th {\n",
       "        vertical-align: top;\n",
       "    }\n",
       "\n",
       "    .dataframe thead th {\n",
       "        text-align: right;\n",
       "    }\n",
       "</style>\n",
       "<table border=\"1\" class=\"dataframe\">\n",
       "  <thead>\n",
       "    <tr style=\"text-align: right;\">\n",
       "      <th></th>\n",
       "      <th>RECORD_TIME</th>\n",
       "    </tr>\n",
       "  </thead>\n",
       "  <tbody>\n",
       "    <tr>\n",
       "      <th>0</th>\n",
       "      <td>2021-08-21 11:00</td>\n",
       "    </tr>\n",
       "    <tr>\n",
       "      <th>1</th>\n",
       "      <td>2021-08-21 10:30</td>\n",
       "    </tr>\n",
       "  </tbody>\n",
       "</table>\n",
       "</div>"
      ],
      "text/plain": [
       "        RECORD_TIME\n",
       "0  2021-08-21 11:00\n",
       "1  2021-08-21 10:30"
      ]
     },
     "execution_count": 3,
     "metadata": {},
     "output_type": "execute_result"
    }
   ],
   "source": [
    "timestamps"
   ]
  },
  {
   "cell_type": "code",
   "execution_count": 4,
   "id": "alternate-victory",
   "metadata": {
    "execution": {
     "iopub.execute_input": "2021-08-21T09:00:07.894676Z",
     "iopub.status.busy": "2021-08-21T09:00:07.892342Z",
     "iopub.status.idle": "2021-08-21T09:00:08.035707Z",
     "shell.execute_reply": "2021-08-21T09:00:08.036979Z"
    },
    "papermill": {
     "duration": 0.173753,
     "end_time": "2021-08-21T09:00:08.037390",
     "exception": false,
     "start_time": "2021-08-21T09:00:07.863637",
     "status": "completed"
    },
    "tags": []
   },
   "outputs": [],
   "source": [
    "df = pd.read_sql(\"select * from EBAY_TOP_BERLIN where record_time in (select distinct record_time from EBAY_TOP_BERLIN order by record_time desc limit 2)\", sqlite3.connect(\"UsedObjects.db\"))"
   ]
  },
  {
   "cell_type": "code",
   "execution_count": 5,
   "id": "popular-active",
   "metadata": {
    "execution": {
     "iopub.execute_input": "2021-08-21T09:00:08.106055Z",
     "iopub.status.busy": "2021-08-21T09:00:08.095417Z",
     "iopub.status.idle": "2021-08-21T09:00:08.122818Z",
     "shell.execute_reply": "2021-08-21T09:00:08.124113Z"
    },
    "papermill": {
     "duration": 0.06693,
     "end_time": "2021-08-21T09:00:08.124505",
     "exception": false,
     "start_time": "2021-08-21T09:00:08.057575",
     "status": "completed"
    },
    "tags": []
   },
   "outputs": [],
   "source": [
    "df_pivot = df.pivot_table(index=\"PRODUCT\", columns = \"RECORD_TIME\", values = \"LISTING_COUNT\")"
   ]
  },
  {
   "cell_type": "code",
   "execution_count": 6,
   "id": "union-huntington",
   "metadata": {
    "execution": {
     "iopub.execute_input": "2021-08-21T09:00:08.180636Z",
     "iopub.status.busy": "2021-08-21T09:00:08.178470Z",
     "iopub.status.idle": "2021-08-21T09:00:08.183654Z",
     "shell.execute_reply": "2021-08-21T09:00:08.185014Z"
    },
    "papermill": {
     "duration": 0.040998,
     "end_time": "2021-08-21T09:00:08.185448",
     "exception": false,
     "start_time": "2021-08-21T09:00:08.144450",
     "status": "completed"
    },
    "tags": []
   },
   "outputs": [],
   "source": [
    "df_pivot.columns = [\"stamp_1\", \"stamp_2\"]\n",
    "df_pivot_diff = df_pivot.diff(axis=1)"
   ]
  },
  {
   "cell_type": "code",
   "execution_count": 7,
   "id": "fifth-motion",
   "metadata": {
    "execution": {
     "iopub.execute_input": "2021-08-21T09:00:08.242720Z",
     "iopub.status.busy": "2021-08-21T09:00:08.239980Z",
     "iopub.status.idle": "2021-08-21T09:00:09.738974Z",
     "shell.execute_reply": "2021-08-21T09:00:09.740272Z"
    },
    "papermill": {
     "duration": 1.53235,
     "end_time": "2021-08-21T09:00:09.740687",
     "exception": false,
     "start_time": "2021-08-21T09:00:08.208337",
     "status": "completed"
    },
    "tags": []
   },
   "outputs": [
    {
     "data": {
      "text/plain": [
       "<AxesSubplot:ylabel='PRODUCT'>"
      ]
     },
     "execution_count": 7,
     "metadata": {},
     "output_type": "execute_result"
    },
    {
     "data": {
      "image/png": "[encoded data removed]",
      "text/plain": [
       "<Figure size 432x288 with 1 Axes>"
      ]
     },
     "metadata": {
      "needs_background": "light"
     },
     "output_type": "display_data"
    }
   ],
   "source": [
    "df_pivot_diff.sort_values(\"stamp_2\", ascending = False)[\"stamp_2\"].head(10).plot.barh()"
   ]
  },
  {
   "cell_type": "code",
   "execution_count": null,
   "id": "extra-executive",
   "metadata": {
    "papermill": {
     "duration": 0.022149,
     "end_time": "2021-08-21T09:00:09.788410",
     "exception": false,
     "start_time": "2021-08-21T09:00:09.766261",
     "status": "completed"
    },
    "tags": []
   },
   "outputs": [],
   "source": []
  }
 ],
 "metadata": {
  "kernelspec": {
   "display_name": "Python 3",
   "language": "python",
   "name": "python3"
  },
  "language_info": {
   "codemirror_mode": {
    "name": "ipython",
    "version": 3
   },
   "file_extension": ".py",
   "mimetype": "text/x-python",
   "name": "python",
   "nbconvert_exporter": "python",
   "pygments_lexer": "ipython3",
   "version": "3.9.5"
  },
  "papermill": {
   "default_parameters": {},
   "duration": 6.825313,
   "end_time": "2021-08-21T09:00:11.174788",
   "environment_variables": {},
   "exception": null,
   "input_path": "eBay_Overview.ipynb",
   "output_path": "eBay_Overview.ipynb",
   "parameters": {},
   "start_time": "2021-08-21T09:00:04.349475",
   "version": "2.3.3"
  }
 },
 "nbformat": 4,
 "nbformat_minor": 5
}