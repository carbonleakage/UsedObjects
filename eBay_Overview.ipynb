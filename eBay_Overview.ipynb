{
 "cells": [
  {
   "cell_type": "code",
   "execution_count": 1,
   "id": "reverse-picking",
   "metadata": {
    "execution": {
     "iopub.execute_input": "2021-11-14T20:00:07.289721Z",
     "iopub.status.busy": "2021-11-14T20:00:07.287361Z",
     "iopub.status.idle": "2021-11-14T20:00:08.230079Z",
     "shell.execute_reply": "2021-11-14T20:00:08.231594Z"
    },
    "papermill": {
     "duration": 0.992917,
     "end_time": "2021-11-14T20:00:08.232358",
     "exception": false,
     "start_time": "2021-11-14T20:00:07.239441",
     "status": "completed"
    },
    "tags": []
   },
   "outputs": [],
   "source": [
    "import pandas as pd\n",
    "import sqlite3"
   ]
  },
  {
   "cell_type": "code",
   "execution_count": 2,
   "id": "innovative-syndrome",
   "metadata": {
    "execution": {
     "iopub.execute_input": "2021-11-14T20:00:08.300647Z",
     "iopub.status.busy": "2021-11-14T20:00:08.298408Z",
     "iopub.status.idle": "2021-11-14T20:00:09.125681Z",
     "shell.execute_reply": "2021-11-14T20:00:09.127237Z"
    },
    "papermill": {
     "duration": 0.861563,
     "end_time": "2021-11-14T20:00:09.127708",
     "exception": false,
     "start_time": "2021-11-14T20:00:08.266145",
     "status": "completed"
    },
    "tags": []
   },
   "outputs": [],
   "source": [
    "timestamps = pd.read_sql(\"select distinct record_time from EBAY_TOP_BERLIN order by record_time desc limit 2\", sqlite3.connect(\"UsedObjects.db\"))"
   ]
  },
  {
   "cell_type": "code",
   "execution_count": 3,
   "id": "periodic-identification",
   "metadata": {
    "execution": {
     "iopub.execute_input": "2021-11-14T20:00:09.203964Z",
     "iopub.status.busy": "2021-11-14T20:00:09.198139Z",
     "iopub.status.idle": "2021-11-14T20:00:09.222904Z",
     "shell.execute_reply": "2021-11-14T20:00:09.224885Z"
    },
    "papermill": {
     "duration": 0.076246,
     "end_time": "2021-11-14T20:00:09.225394",
     "exception": false,
     "start_time": "2021-11-14T20:00:09.149148",
     "status": "completed"
    },
    "tags": []
   },
   "outputs": [
    {
     "data": {
      "text/html": [
       "<div>\n",
       "<style scoped>\n",
       "    .dataframe tbody tr th:only-of-type {\n",
       "        vertical-align: middle;\n",
       "    }\n",
       "\n",
       "    .dataframe tbody tr th {\n",
       "        vertical-align: top;\n",
       "    }\n",
       "\n",
       "    .dataframe thead th {\n",
       "        text-align: right;\n",
       "    }\n",
       "</style>\n",
       "<table border=\"1\" class=\"dataframe\">\n",
       "  <thead>\n",
       "    <tr style=\"text-align: right;\">\n",
       "      <th></th>\n",
       "      <th>RECORD_TIME</th>\n",
       "    </tr>\n",
       "  </thead>\n",
       "  <tbody>\n",
       "    <tr>\n",
       "      <th>0</th>\n",
       "      <td>2021-11-14 21:00</td>\n",
       "    </tr>\n",
       "    <tr>\n",
       "      <th>1</th>\n",
       "      <td>2021-11-14 20:30</td>\n",
       "    </tr>\n",
       "  </tbody>\n",
       "</table>\n",
       "</div>"
      ],
      "text/plain": [
       "        RECORD_TIME\n",
       "0  2021-11-14 21:00\n",
       "1  2021-11-14 20:30"
      ]
     },
     "execution_count": 3,
     "metadata": {},
     "output_type": "execute_result"
    }
   ],
   "source": [
    "timestamps"
   ]
  },
  {
   "cell_type": "code",
   "execution_count": 4,
   "id": "alternate-victory",
   "metadata": {
    "execution": {
     "iopub.execute_input": "2021-11-14T20:00:09.283396Z",
     "iopub.status.busy": "2021-11-14T20:00:09.280577Z",
     "iopub.status.idle": "2021-11-14T20:00:10.445943Z",
     "shell.execute_reply": "2021-11-14T20:00:10.447779Z"
    },
    "papermill": {
     "duration": 1.200995,
     "end_time": "2021-11-14T20:00:10.448337",
     "exception": false,
     "start_time": "2021-11-14T20:00:09.247342",
     "status": "completed"
    },
    "tags": []
   },
   "outputs": [],
   "source": [
    "df = pd.read_sql(\"select * from EBAY_TOP_BERLIN where record_time in (select distinct record_time from EBAY_TOP_BERLIN order by record_time desc limit 2)\", sqlite3.connect(\"UsedObjects.db\"))"
   ]
  },
  {
   "cell_type": "code",
   "execution_count": 5,
   "id": "popular-active",
   "metadata": {
    "execution": {
     "iopub.execute_input": "2021-11-14T20:00:10.523541Z",
     "iopub.status.busy": "2021-11-14T20:00:10.511320Z",
     "iopub.status.idle": "2021-11-14T20:00:10.543654Z",
     "shell.execute_reply": "2021-11-14T20:00:10.542044Z"
    },
    "papermill": {
     "duration": 0.073994,
     "end_time": "2021-11-14T20:00:10.544072",
     "exception": false,
     "start_time": "2021-11-14T20:00:10.470078",
     "status": "completed"
    },
    "tags": []
   },
   "outputs": [],
   "source": [
    "df_pivot = df.pivot_table(index=\"PRODUCT\", columns = \"RECORD_TIME\", values = \"LISTING_COUNT\")"
   ]
  },
  {
   "cell_type": "code",
   "execution_count": 6,
   "id": "union-huntington",
   "metadata": {
    "execution": {
     "iopub.execute_input": "2021-11-14T20:00:10.623038Z",
     "iopub.status.busy": "2021-11-14T20:00:10.619421Z",
     "iopub.status.idle": "2021-11-14T20:00:10.630032Z",
     "shell.execute_reply": "2021-11-14T20:00:10.632738Z"
    },
    "papermill": {
     "duration": 0.067212,
     "end_time": "2021-11-14T20:00:10.633457",
     "exception": false,
     "start_time": "2021-11-14T20:00:10.566245",
     "status": "completed"
    },
    "tags": []
   },
   "outputs": [],
   "source": [
    "df_pivot.columns = [\"stamp_1\", \"stamp_2\"]\n",
    "df_pivot_diff = df_pivot.diff(axis=1)"
   ]
  },
  {
   "cell_type": "code",
   "execution_count": 7,
   "id": "fifth-motion",
   "metadata": {
    "execution": {
     "iopub.execute_input": "2021-11-14T20:00:10.700876Z",
     "iopub.status.busy": "2021-11-14T20:00:10.698158Z",
     "iopub.status.idle": "2021-11-14T20:00:12.406718Z",
     "shell.execute_reply": "2021-11-14T20:00:12.408011Z"
    },
    "papermill": {
     "duration": 1.746515,
     "end_time": "2021-11-14T20:00:12.408425",
     "exception": false,
     "start_time": "2021-11-14T20:00:10.661910",
     "status": "completed"
    },
    "tags": []
   },
   "outputs": [
    {
     "data": {
      "text/plain": [
       "<AxesSubplot:ylabel='PRODUCT'>"
      ]
     },
     "execution_count": 7,
     "metadata": {},
     "output_type": "execute_result"
    },
    {
     "data": {
      "image/png": "[encoded data removed]",
      "text/plain": [
       "<Figure size 432x288 with 1 Axes>"
      ]
     },
     "metadata": {
      "needs_background": "light"
     },
     "output_type": "display_data"
    }
   ],
   "source": [
    "df_pivot_diff.sort_values(\"stamp_2\", ascending = False)[\"stamp_2\"].head(10).plot.barh()"
   ]
  },
  {
   "cell_type": "code",
   "execution_count": null,
   "id": "extra-executive",
   "metadata": {
    "papermill": {
     "duration": 0.022848,
     "end_time": "2021-11-14T20:00:12.455720",
     "exception": false,
     "start_time": "2021-11-14T20:00:12.432872",
     "status": "completed"
    },
    "tags": []
   },
   "outputs": [],
   "source": []
  }
 ],
 "metadata": {
  "kernelspec": {
   "display_name": "Python 3",
   "language": "python",
   "name": "python3"
  },
  "language_info": {
   "codemirror_mode": {
    "name": "ipython",
    "version": 3
   },
   "file_extension": ".py",
   "mimetype": "text/x-python",
   "name": "python",
   "nbconvert_exporter": "python",
   "pygments_lexer": "ipython3",
   "version": "3.9.5"
  },
  "papermill": {
   "default_parameters": {},
   "duration": 8.575494,
   "end_time": "2021-11-14T20:00:13.099046",
   "environment_variables": {},
   "exception": null,
   "input_path": "eBay_Overview.ipynb",
   "output_path": "eBay_Overview.ipynb",
   "parameters": {},
   "start_time": "2021-11-14T20:00:04.523552",
   "version": "2.3.3"
  }
 },
 "nbformat": 4,
 "nbformat_minor": 5
}