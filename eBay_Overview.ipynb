{
 "cells": [
  {
   "cell_type": "code",
   "execution_count": 1,
   "id": "reverse-picking",
   "metadata": {
    "execution": {
     "iopub.execute_input": "2021-11-09T11:30:07.732109Z",
     "iopub.status.busy": "2021-11-09T11:30:07.729833Z",
     "iopub.status.idle": "2021-11-09T11:30:08.674274Z",
     "shell.execute_reply": "2021-11-09T11:30:08.675760Z"
    },
    "papermill": {
     "duration": 0.999634,
     "end_time": "2021-11-09T11:30:08.676519",
     "exception": false,
     "start_time": "2021-11-09T11:30:07.676885",
     "status": "completed"
    },
    "tags": []
   },
   "outputs": [],
   "source": [
    "import pandas as pd\n",
    "import sqlite3"
   ]
  },
  {
   "cell_type": "code",
   "execution_count": 2,
   "id": "innovative-syndrome",
   "metadata": {
    "execution": {
     "iopub.execute_input": "2021-11-09T11:30:08.740187Z",
     "iopub.status.busy": "2021-11-09T11:30:08.736809Z",
     "iopub.status.idle": "2021-11-09T11:30:09.497208Z",
     "shell.execute_reply": "2021-11-09T11:30:09.499021Z"
    },
    "papermill": {
     "duration": 0.795254,
     "end_time": "2021-11-09T11:30:09.499601",
     "exception": false,
     "start_time": "2021-11-09T11:30:08.704347",
     "status": "completed"
    },
    "tags": []
   },
   "outputs": [],
   "source": [
    "timestamps = pd.read_sql(\"select distinct record_time from EBAY_TOP_BERLIN order by record_time desc limit 2\", sqlite3.connect(\"UsedObjects.db\"))"
   ]
  },
  {
   "cell_type": "code",
   "execution_count": 3,
   "id": "periodic-identification",
   "metadata": {
    "execution": {
     "iopub.execute_input": "2021-11-09T11:30:09.572578Z",
     "iopub.status.busy": "2021-11-09T11:30:09.569884Z",
     "iopub.status.idle": "2021-11-09T11:30:09.594816Z",
     "shell.execute_reply": "2021-11-09T11:30:09.593043Z"
    },
    "papermill": {
     "duration": 0.073412,
     "end_time": "2021-11-09T11:30:09.595266",
     "exception": false,
     "start_time": "2021-11-09T11:30:09.521854",
     "status": "completed"
    },
    "tags": []
   },
   "outputs": [
    {
     "data": {
      "text/html": [
       "<div>\n",
       "<style scoped>\n",
       "    .dataframe tbody tr th:only-of-type {\n",
       "        vertical-align: middle;\n",
       "    }\n",
       "\n",
       "    .dataframe tbody tr th {\n",
       "        vertical-align: top;\n",
       "    }\n",
       "\n",
       "    .dataframe thead th {\n",
       "        text-align: right;\n",
       "    }\n",
       "</style>\n",
       "<table border=\"1\" class=\"dataframe\">\n",
       "  <thead>\n",
       "    <tr style=\"text-align: right;\">\n",
       "      <th></th>\n",
       "      <th>RECORD_TIME</th>\n",
       "    </tr>\n",
       "  </thead>\n",
       "  <tbody>\n",
       "    <tr>\n",
       "      <th>0</th>\n",
       "      <td>2021-11-09 12:30</td>\n",
       "    </tr>\n",
       "    <tr>\n",
       "      <th>1</th>\n",
       "      <td>2021-11-09 12:00</td>\n",
       "    </tr>\n",
       "  </tbody>\n",
       "</table>\n",
       "</div>"
      ],
      "text/plain": [
       "        RECORD_TIME\n",
       "0  2021-11-09 12:30\n",
       "1  2021-11-09 12:00"
      ]
     },
     "execution_count": 3,
     "metadata": {},
     "output_type": "execute_result"
    }
   ],
   "source": [
    "timestamps"
   ]
  },
  {
   "cell_type": "code",
   "execution_count": 4,
   "id": "alternate-victory",
   "metadata": {
    "execution": {
     "iopub.execute_input": "2021-11-09T11:30:09.652140Z",
     "iopub.status.busy": "2021-11-09T11:30:09.649999Z",
     "iopub.status.idle": "2021-11-09T11:30:10.733003Z",
     "shell.execute_reply": "2021-11-09T11:30:10.734403Z"
    },
    "papermill": {
     "duration": 1.117749,
     "end_time": "2021-11-09T11:30:10.734882",
     "exception": false,
     "start_time": "2021-11-09T11:30:09.617133",
     "status": "completed"
    },
    "tags": []
   },
   "outputs": [],
   "source": [
    "df = pd.read_sql(\"select * from EBAY_TOP_BERLIN where record_time in (select distinct record_time from EBAY_TOP_BERLIN order by record_time desc limit 2)\", sqlite3.connect(\"UsedObjects.db\"))"
   ]
  },
  {
   "cell_type": "code",
   "execution_count": 5,
   "id": "popular-active",
   "metadata": {
    "execution": {
     "iopub.execute_input": "2021-11-09T11:30:10.817298Z",
     "iopub.status.busy": "2021-11-09T11:30:10.801929Z",
     "iopub.status.idle": "2021-11-09T11:30:10.860879Z",
     "shell.execute_reply": "2021-11-09T11:30:10.863627Z"
    },
    "papermill": {
     "duration": 0.108351,
     "end_time": "2021-11-09T11:30:10.864440",
     "exception": false,
     "start_time": "2021-11-09T11:30:10.756089",
     "status": "completed"
    },
    "tags": []
   },
   "outputs": [],
   "source": [
    "df_pivot = df.pivot_table(index=\"PRODUCT\", columns = \"RECORD_TIME\", values = \"LISTING_COUNT\")"
   ]
  },
  {
   "cell_type": "code",
   "execution_count": 6,
   "id": "union-huntington",
   "metadata": {
    "execution": {
     "iopub.execute_input": "2021-11-09T11:30:10.932016Z",
     "iopub.status.busy": "2021-11-09T11:30:10.929612Z",
     "iopub.status.idle": "2021-11-09T11:30:10.937466Z",
     "shell.execute_reply": "2021-11-09T11:30:10.935787Z"
    },
    "papermill": {
     "duration": 0.047719,
     "end_time": "2021-11-09T11:30:10.937920",
     "exception": false,
     "start_time": "2021-11-09T11:30:10.890201",
     "status": "completed"
    },
    "tags": []
   },
   "outputs": [],
   "source": [
    "df_pivot.columns = [\"stamp_1\", \"stamp_2\"]\n",
    "df_pivot_diff = df_pivot.diff(axis=1)"
   ]
  },
  {
   "cell_type": "code",
   "execution_count": 7,
   "id": "fifth-motion",
   "metadata": {
    "execution": {
     "iopub.execute_input": "2021-11-09T11:30:11.003885Z",
     "iopub.status.busy": "2021-11-09T11:30:10.993917Z",
     "iopub.status.idle": "2021-11-09T11:30:12.809207Z",
     "shell.execute_reply": "2021-11-09T11:30:12.811422Z"
    },
    "papermill": {
     "duration": 1.852398,
     "end_time": "2021-11-09T11:30:12.812100",
     "exception": false,
     "start_time": "2021-11-09T11:30:10.959702",
     "status": "completed"
    },
    "tags": []
   },
   "outputs": [
    {
     "data": {
      "text/plain": [
       "<AxesSubplot:ylabel='PRODUCT'>"
      ]
     },
     "execution_count": 7,
     "metadata": {},
     "output_type": "execute_result"
    },
    {
     "data": {
      "image/png": "[encoded data removed]",
      "text/plain": [
       "<Figure size 432x288 with 1 Axes>"
      ]
     },
     "metadata": {
      "needs_background": "light"
     },
     "output_type": "display_data"
    }
   ],
   "source": [
    "df_pivot_diff.sort_values(\"stamp_2\", ascending = False)[\"stamp_2\"].head(10).plot.barh()"
   ]
  },
  {
   "cell_type": "code",
   "execution_count": null,
   "id": "extra-executive",
   "metadata": {
    "papermill": {
     "duration": 0.039167,
     "end_time": "2021-11-09T11:30:12.881366",
     "exception": false,
     "start_time": "2021-11-09T11:30:12.842199",
     "status": "completed"
    },
    "tags": []
   },
   "outputs": [],
   "source": []
  }
 ],
 "metadata": {
  "kernelspec": {
   "display_name": "Python 3",
   "language": "python",
   "name": "python3"
  },
  "language_info": {
   "codemirror_mode": {
    "name": "ipython",
    "version": 3
   },
   "file_extension": ".py",
   "mimetype": "text/x-python",
   "name": "python",
   "nbconvert_exporter": "python",
   "pygments_lexer": "ipython3",
   "version": "3.9.5"
  },
  "papermill": {
   "default_parameters": {},
   "duration": 8.775924,
   "end_time": "2021-11-09T11:30:13.750852",
   "environment_variables": {},
   "exception": null,
   "input_path": "eBay_Overview.ipynb",
   "output_path": "eBay_Overview.ipynb",
   "parameters": {},
   "start_time": "2021-11-09T11:30:04.974928",
   "version": "2.3.3"
  }
 },
 "nbformat": 4,
 "nbformat_minor": 5
}