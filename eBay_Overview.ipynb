{
 "cells": [
  {
   "cell_type": "code",
   "execution_count": 1,
   "id": "reverse-picking",
   "metadata": {
    "execution": {
     "iopub.execute_input": "2021-11-15T14:30:07.743122Z",
     "iopub.status.busy": "2021-11-15T14:30:07.740842Z",
     "iopub.status.idle": "2021-11-15T14:30:08.696726Z",
     "shell.execute_reply": "2021-11-15T14:30:08.698359Z"
    },
    "papermill": {
     "duration": 1.005931,
     "end_time": "2021-11-15T14:30:08.699067",
     "exception": false,
     "start_time": "2021-11-15T14:30:07.693136",
     "status": "completed"
    },
    "tags": []
   },
   "outputs": [],
   "source": [
    "import pandas as pd\n",
    "import sqlite3"
   ]
  },
  {
   "cell_type": "code",
   "execution_count": 2,
   "id": "innovative-syndrome",
   "metadata": {
    "execution": {
     "iopub.execute_input": "2021-11-15T14:30:08.762906Z",
     "iopub.status.busy": "2021-11-15T14:30:08.760510Z",
     "iopub.status.idle": "2021-11-15T14:30:09.598487Z",
     "shell.execute_reply": "2021-11-15T14:30:09.601242Z"
    },
    "papermill": {
     "duration": 0.873699,
     "end_time": "2021-11-15T14:30:09.601944",
     "exception": false,
     "start_time": "2021-11-15T14:30:08.728245",
     "status": "completed"
    },
    "tags": []
   },
   "outputs": [],
   "source": [
    "timestamps = pd.read_sql(\"select distinct record_time from EBAY_TOP_BERLIN order by record_time desc limit 2\", sqlite3.connect(\"UsedObjects.db\"))"
   ]
  },
  {
   "cell_type": "code",
   "execution_count": 3,
   "id": "periodic-identification",
   "metadata": {
    "execution": {
     "iopub.execute_input": "2021-11-15T14:30:09.673015Z",
     "iopub.status.busy": "2021-11-15T14:30:09.670715Z",
     "iopub.status.idle": "2021-11-15T14:30:09.694015Z",
     "shell.execute_reply": "2021-11-15T14:30:09.695494Z"
    },
    "papermill": {
     "duration": 0.074033,
     "end_time": "2021-11-15T14:30:09.696002",
     "exception": false,
     "start_time": "2021-11-15T14:30:09.621969",
     "status": "completed"
    },
    "tags": []
   },
   "outputs": [
    {
     "data": {
      "text/html": [
       "<div>\n",
       "<style scoped>\n",
       "    .dataframe tbody tr th:only-of-type {\n",
       "        vertical-align: middle;\n",
       "    }\n",
       "\n",
       "    .dataframe tbody tr th {\n",
       "        vertical-align: top;\n",
       "    }\n",
       "\n",
       "    .dataframe thead th {\n",
       "        text-align: right;\n",
       "    }\n",
       "</style>\n",
       "<table border=\"1\" class=\"dataframe\">\n",
       "  <thead>\n",
       "    <tr style=\"text-align: right;\">\n",
       "      <th></th>\n",
       "      <th>RECORD_TIME</th>\n",
       "    </tr>\n",
       "  </thead>\n",
       "  <tbody>\n",
       "    <tr>\n",
       "      <th>0</th>\n",
       "      <td>2021-11-15 15:30</td>\n",
       "    </tr>\n",
       "    <tr>\n",
       "      <th>1</th>\n",
       "      <td>2021-11-15 15:00</td>\n",
       "    </tr>\n",
       "  </tbody>\n",
       "</table>\n",
       "</div>"
      ],
      "text/plain": [
       "        RECORD_TIME\n",
       "0  2021-11-15 15:30\n",
       "1  2021-11-15 15:00"
      ]
     },
     "execution_count": 3,
     "metadata": {},
     "output_type": "execute_result"
    }
   ],
   "source": [
    "timestamps"
   ]
  },
  {
   "cell_type": "code",
   "execution_count": 4,
   "id": "alternate-victory",
   "metadata": {
    "execution": {
     "iopub.execute_input": "2021-11-15T14:30:09.752043Z",
     "iopub.status.busy": "2021-11-15T14:30:09.750170Z",
     "iopub.status.idle": "2021-11-15T14:30:10.944086Z",
     "shell.execute_reply": "2021-11-15T14:30:10.945480Z"
    },
    "papermill": {
     "duration": 1.228613,
     "end_time": "2021-11-15T14:30:10.945955",
     "exception": false,
     "start_time": "2021-11-15T14:30:09.717342",
     "status": "completed"
    },
    "tags": []
   },
   "outputs": [],
   "source": [
    "df = pd.read_sql(\"select * from EBAY_TOP_BERLIN where record_time in (select distinct record_time from EBAY_TOP_BERLIN order by record_time desc limit 2)\", sqlite3.connect(\"UsedObjects.db\"))"
   ]
  },
  {
   "cell_type": "code",
   "execution_count": 5,
   "id": "popular-active",
   "metadata": {
    "execution": {
     "iopub.execute_input": "2021-11-15T14:30:11.014736Z",
     "iopub.status.busy": "2021-11-15T14:30:11.006558Z",
     "iopub.status.idle": "2021-11-15T14:30:11.038839Z",
     "shell.execute_reply": "2021-11-15T14:30:11.040326Z"
    },
    "papermill": {
     "duration": 0.074015,
     "end_time": "2021-11-15T14:30:11.040900",
     "exception": false,
     "start_time": "2021-11-15T14:30:10.966885",
     "status": "completed"
    },
    "tags": []
   },
   "outputs": [],
   "source": [
    "df_pivot = df.pivot_table(index=\"PRODUCT\", columns = \"RECORD_TIME\", values = \"LISTING_COUNT\")"
   ]
  },
  {
   "cell_type": "code",
   "execution_count": 6,
   "id": "union-huntington",
   "metadata": {
    "execution": {
     "iopub.execute_input": "2021-11-15T14:30:11.103682Z",
     "iopub.status.busy": "2021-11-15T14:30:11.101251Z",
     "iopub.status.idle": "2021-11-15T14:30:11.106838Z",
     "shell.execute_reply": "2021-11-15T14:30:11.108447Z"
    },
    "papermill": {
     "duration": 0.047151,
     "end_time": "2021-11-15T14:30:11.108994",
     "exception": false,
     "start_time": "2021-11-15T14:30:11.061843",
     "status": "completed"
    },
    "tags": []
   },
   "outputs": [],
   "source": [
    "df_pivot.columns = [\"stamp_1\", \"stamp_2\"]\n",
    "df_pivot_diff = df_pivot.diff(axis=1)"
   ]
  },
  {
   "cell_type": "code",
   "execution_count": 7,
   "id": "fifth-motion",
   "metadata": {
    "execution": {
     "iopub.execute_input": "2021-11-15T14:30:11.168310Z",
     "iopub.status.busy": "2021-11-15T14:30:11.165696Z",
     "iopub.status.idle": "2021-11-15T14:30:13.094079Z",
     "shell.execute_reply": "2021-11-15T14:30:13.095568Z"
    },
    "papermill": {
     "duration": 1.965799,
     "end_time": "2021-11-15T14:30:13.096052",
     "exception": false,
     "start_time": "2021-11-15T14:30:11.130253",
     "status": "completed"
    },
    "tags": []
   },
   "outputs": [
    {
     "data": {
      "text/plain": [
       "<AxesSubplot:ylabel='PRODUCT'>"
      ]
     },
     "execution_count": 7,
     "metadata": {},
     "output_type": "execute_result"
    },
    {
     "data": {
      "image/png": "[encoded data removed]",
      "text/plain": [
       "<Figure size 432x288 with 1 Axes>"
      ]
     },
     "metadata": {
      "needs_background": "light"
     },
     "output_type": "display_data"
    }
   ],
   "source": [
    "df_pivot_diff.sort_values(\"stamp_2\", ascending = False)[\"stamp_2\"].head(10).plot.barh()"
   ]
  },
  {
   "cell_type": "code",
   "execution_count": null,
   "id": "extra-executive",
   "metadata": {
    "papermill": {
     "duration": 0.029659,
     "end_time": "2021-11-15T14:30:13.150573",
     "exception": false,
     "start_time": "2021-11-15T14:30:13.120914",
     "status": "completed"
    },
    "tags": []
   },
   "outputs": [],
   "source": []
  }
 ],
 "metadata": {
  "kernelspec": {
   "display_name": "Python 3",
   "language": "python",
   "name": "python3"
  },
  "language_info": {
   "codemirror_mode": {
    "name": "ipython",
    "version": 3
   },
   "file_extension": ".py",
   "mimetype": "text/x-python",
   "name": "python",
   "nbconvert_exporter": "python",
   "pygments_lexer": "ipython3",
   "version": "3.9.5"
  },
  "papermill": {
   "default_parameters": {},
   "duration": 9.938768,
   "end_time": "2021-11-15T14:30:14.898598",
   "environment_variables": {},
   "exception": null,
   "input_path": "eBay_Overview.ipynb",
   "output_path": "eBay_Overview.ipynb",
   "parameters": {},
   "start_time": "2021-11-15T14:30:04.959830",
   "version": "2.3.3"
  }
 },
 "nbformat": 4,
 "nbformat_minor": 5
}