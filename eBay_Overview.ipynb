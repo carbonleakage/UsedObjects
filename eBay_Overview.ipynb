{
 "cells": [
  {
   "cell_type": "code",
   "execution_count": 1,
   "id": "reverse-picking",
   "metadata": {
    "execution": {
     "iopub.execute_input": "2021-11-16T03:00:07.200875Z",
     "iopub.status.busy": "2021-11-16T03:00:07.197608Z",
     "iopub.status.idle": "2021-11-16T03:00:08.121370Z",
     "shell.execute_reply": "2021-11-16T03:00:08.123566Z"
    },
    "papermill": {
     "duration": 0.976877,
     "end_time": "2021-11-16T03:00:08.124267",
     "exception": false,
     "start_time": "2021-11-16T03:00:07.147390",
     "status": "completed"
    },
    "tags": []
   },
   "outputs": [],
   "source": [
    "import pandas as pd\n",
    "import sqlite3"
   ]
  },
  {
   "cell_type": "code",
   "execution_count": 2,
   "id": "innovative-syndrome",
   "metadata": {
    "execution": {
     "iopub.execute_input": "2021-11-16T03:00:08.187071Z",
     "iopub.status.busy": "2021-11-16T03:00:08.184495Z",
     "iopub.status.idle": "2021-11-16T03:00:09.033454Z",
     "shell.execute_reply": "2021-11-16T03:00:09.035659Z"
    },
    "papermill": {
     "duration": 0.884624,
     "end_time": "2021-11-16T03:00:09.036145",
     "exception": false,
     "start_time": "2021-11-16T03:00:08.151521",
     "status": "completed"
    },
    "tags": []
   },
   "outputs": [],
   "source": [
    "timestamps = pd.read_sql(\"select distinct record_time from EBAY_TOP_BERLIN order by record_time desc limit 2\", sqlite3.connect(\"UsedObjects.db\"))"
   ]
  },
  {
   "cell_type": "code",
   "execution_count": 3,
   "id": "periodic-identification",
   "metadata": {
    "execution": {
     "iopub.execute_input": "2021-11-16T03:00:09.121169Z",
     "iopub.status.busy": "2021-11-16T03:00:09.107192Z",
     "iopub.status.idle": "2021-11-16T03:00:09.129962Z",
     "shell.execute_reply": "2021-11-16T03:00:09.131459Z"
    },
    "papermill": {
     "duration": 0.073053,
     "end_time": "2021-11-16T03:00:09.131983",
     "exception": false,
     "start_time": "2021-11-16T03:00:09.058930",
     "status": "completed"
    },
    "tags": []
   },
   "outputs": [
    {
     "data": {
      "text/html": [
       "<div>\n",
       "<style scoped>\n",
       "    .dataframe tbody tr th:only-of-type {\n",
       "        vertical-align: middle;\n",
       "    }\n",
       "\n",
       "    .dataframe tbody tr th {\n",
       "        vertical-align: top;\n",
       "    }\n",
       "\n",
       "    .dataframe thead th {\n",
       "        text-align: right;\n",
       "    }\n",
       "</style>\n",
       "<table border=\"1\" class=\"dataframe\">\n",
       "  <thead>\n",
       "    <tr style=\"text-align: right;\">\n",
       "      <th></th>\n",
       "      <th>RECORD_TIME</th>\n",
       "    </tr>\n",
       "  </thead>\n",
       "  <tbody>\n",
       "    <tr>\n",
       "      <th>0</th>\n",
       "      <td>2021-11-16 04:00</td>\n",
       "    </tr>\n",
       "    <tr>\n",
       "      <th>1</th>\n",
       "      <td>2021-11-16 03:30</td>\n",
       "    </tr>\n",
       "  </tbody>\n",
       "</table>\n",
       "</div>"
      ],
      "text/plain": [
       "        RECORD_TIME\n",
       "0  2021-11-16 04:00\n",
       "1  2021-11-16 03:30"
      ]
     },
     "execution_count": 3,
     "metadata": {},
     "output_type": "execute_result"
    }
   ],
   "source": [
    "timestamps"
   ]
  },
  {
   "cell_type": "code",
   "execution_count": 4,
   "id": "alternate-victory",
   "metadata": {
    "execution": {
     "iopub.execute_input": "2021-11-16T03:00:09.188659Z",
     "iopub.status.busy": "2021-11-16T03:00:09.186050Z",
     "iopub.status.idle": "2021-11-16T03:00:10.404579Z",
     "shell.execute_reply": "2021-11-16T03:00:10.406103Z"
    },
    "papermill": {
     "duration": 1.253196,
     "end_time": "2021-11-16T03:00:10.406534",
     "exception": false,
     "start_time": "2021-11-16T03:00:09.153338",
     "status": "completed"
    },
    "tags": []
   },
   "outputs": [],
   "source": [
    "df = pd.read_sql(\"select * from EBAY_TOP_BERLIN where record_time in (select distinct record_time from EBAY_TOP_BERLIN order by record_time desc limit 2)\", sqlite3.connect(\"UsedObjects.db\"))"
   ]
  },
  {
   "cell_type": "code",
   "execution_count": 5,
   "id": "popular-active",
   "metadata": {
    "execution": {
     "iopub.execute_input": "2021-11-16T03:00:10.482114Z",
     "iopub.status.busy": "2021-11-16T03:00:10.469918Z",
     "iopub.status.idle": "2021-11-16T03:00:10.502150Z",
     "shell.execute_reply": "2021-11-16T03:00:10.503425Z"
    },
    "papermill": {
     "duration": 0.075317,
     "end_time": "2021-11-16T03:00:10.503893",
     "exception": false,
     "start_time": "2021-11-16T03:00:10.428576",
     "status": "completed"
    },
    "tags": []
   },
   "outputs": [],
   "source": [
    "df_pivot = df.pivot_table(index=\"PRODUCT\", columns = \"RECORD_TIME\", values = \"LISTING_COUNT\")"
   ]
  },
  {
   "cell_type": "code",
   "execution_count": 6,
   "id": "union-huntington",
   "metadata": {
    "execution": {
     "iopub.execute_input": "2021-11-16T03:00:10.566719Z",
     "iopub.status.busy": "2021-11-16T03:00:10.564387Z",
     "iopub.status.idle": "2021-11-16T03:00:10.570450Z",
     "shell.execute_reply": "2021-11-16T03:00:10.571928Z"
    },
    "papermill": {
     "duration": 0.04728,
     "end_time": "2021-11-16T03:00:10.572413",
     "exception": false,
     "start_time": "2021-11-16T03:00:10.525133",
     "status": "completed"
    },
    "tags": []
   },
   "outputs": [],
   "source": [
    "df_pivot.columns = [\"stamp_1\", \"stamp_2\"]\n",
    "df_pivot_diff = df_pivot.diff(axis=1)"
   ]
  },
  {
   "cell_type": "code",
   "execution_count": 7,
   "id": "fifth-motion",
   "metadata": {
    "execution": {
     "iopub.execute_input": "2021-11-16T03:00:10.633175Z",
     "iopub.status.busy": "2021-11-16T03:00:10.630467Z",
     "iopub.status.idle": "2021-11-16T03:00:12.573943Z",
     "shell.execute_reply": "2021-11-16T03:00:12.575459Z"
    },
    "papermill": {
     "duration": 1.98142,
     "end_time": "2021-11-16T03:00:12.575916",
     "exception": false,
     "start_time": "2021-11-16T03:00:10.594496",
     "status": "completed"
    },
    "tags": []
   },
   "outputs": [
    {
     "data": {
      "text/plain": [
       "<AxesSubplot:ylabel='PRODUCT'>"
      ]
     },
     "execution_count": 7,
     "metadata": {},
     "output_type": "execute_result"
    },
    {
     "data": {
      "image/png": "[encoded data removed]",
      "text/plain": [
       "<Figure size 432x288 with 1 Axes>"
      ]
     },
     "metadata": {
      "needs_background": "light"
     },
     "output_type": "display_data"
    }
   ],
   "source": [
    "df_pivot_diff.sort_values(\"stamp_2\", ascending = False)[\"stamp_2\"].head(10).plot.barh()"
   ]
  },
  {
   "cell_type": "code",
   "execution_count": null,
   "id": "extra-executive",
   "metadata": {
    "papermill": {
     "duration": 0.028547,
     "end_time": "2021-11-16T03:00:12.629620",
     "exception": false,
     "start_time": "2021-11-16T03:00:12.601073",
     "status": "completed"
    },
    "tags": []
   },
   "outputs": [],
   "source": []
  }
 ],
 "metadata": {
  "kernelspec": {
   "display_name": "Python 3",
   "language": "python",
   "name": "python3"
  },
  "language_info": {
   "codemirror_mode": {
    "name": "ipython",
    "version": 3
   },
   "file_extension": ".py",
   "mimetype": "text/x-python",
   "name": "python",
   "nbconvert_exporter": "python",
   "pygments_lexer": "ipython3",
   "version": "3.9.5"
  },
  "papermill": {
   "default_parameters": {},
   "duration": 9.939215,
   "end_time": "2021-11-16T03:00:14.353141",
   "environment_variables": {},
   "exception": null,
   "input_path": "eBay_Overview.ipynb",
   "output_path": "eBay_Overview.ipynb",
   "parameters": {},
   "start_time": "2021-11-16T03:00:04.413926",
   "version": "2.3.3"
  }
 },
 "nbformat": 4,
 "nbformat_minor": 5
}