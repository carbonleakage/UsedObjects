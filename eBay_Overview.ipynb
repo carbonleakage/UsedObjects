{
 "cells": [
  {
   "cell_type": "code",
   "execution_count": 1,
   "id": "reverse-picking",
   "metadata": {
    "execution": {
     "iopub.execute_input": "2021-10-24T13:30:07.646919Z",
     "iopub.status.busy": "2021-10-24T13:30:07.644950Z",
     "iopub.status.idle": "2021-10-24T13:30:08.462489Z",
     "shell.execute_reply": "2021-10-24T13:30:08.460798Z"
    },
    "papermill": {
     "duration": 0.868266,
     "end_time": "2021-10-24T13:30:08.462912",
     "exception": false,
     "start_time": "2021-10-24T13:30:07.594646",
     "status": "completed"
    },
    "tags": []
   },
   "outputs": [],
   "source": [
    "import pandas as pd\n",
    "import sqlite3"
   ]
  },
  {
   "cell_type": "code",
   "execution_count": 2,
   "id": "innovative-syndrome",
   "metadata": {
    "execution": {
     "iopub.execute_input": "2021-10-24T13:30:08.516331Z",
     "iopub.status.busy": "2021-10-24T13:30:08.514019Z",
     "iopub.status.idle": "2021-10-24T13:30:09.146375Z",
     "shell.execute_reply": "2021-10-24T13:30:09.147567Z"
    },
    "papermill": {
     "duration": 0.662326,
     "end_time": "2021-10-24T13:30:09.147963",
     "exception": false,
     "start_time": "2021-10-24T13:30:08.485637",
     "status": "completed"
    },
    "tags": []
   },
   "outputs": [],
   "source": [
    "timestamps = pd.read_sql(\"select distinct record_time from EBAY_TOP_BERLIN order by record_time desc limit 2\", sqlite3.connect(\"UsedObjects.db\"))"
   ]
  },
  {
   "cell_type": "code",
   "execution_count": 3,
   "id": "periodic-identification",
   "metadata": {
    "execution": {
     "iopub.execute_input": "2021-10-24T13:30:09.223157Z",
     "iopub.status.busy": "2021-10-24T13:30:09.221140Z",
     "iopub.status.idle": "2021-10-24T13:30:09.240796Z",
     "shell.execute_reply": "2021-10-24T13:30:09.241958Z"
    },
    "papermill": {
     "duration": 0.067173,
     "end_time": "2021-10-24T13:30:09.242370",
     "exception": false,
     "start_time": "2021-10-24T13:30:09.175197",
     "status": "completed"
    },
    "tags": []
   },
   "outputs": [
    {
     "data": {
      "text/html": [
       "<div>\n",
       "<style scoped>\n",
       "    .dataframe tbody tr th:only-of-type {\n",
       "        vertical-align: middle;\n",
       "    }\n",
       "\n",
       "    .dataframe tbody tr th {\n",
       "        vertical-align: top;\n",
       "    }\n",
       "\n",
       "    .dataframe thead th {\n",
       "        text-align: right;\n",
       "    }\n",
       "</style>\n",
       "<table border=\"1\" class=\"dataframe\">\n",
       "  <thead>\n",
       "    <tr style=\"text-align: right;\">\n",
       "      <th></th>\n",
       "      <th>RECORD_TIME</th>\n",
       "    </tr>\n",
       "  </thead>\n",
       "  <tbody>\n",
       "    <tr>\n",
       "      <th>0</th>\n",
       "      <td>2021-10-24 15:30</td>\n",
       "    </tr>\n",
       "    <tr>\n",
       "      <th>1</th>\n",
       "      <td>2021-10-24 15:00</td>\n",
       "    </tr>\n",
       "  </tbody>\n",
       "</table>\n",
       "</div>"
      ],
      "text/plain": [
       "        RECORD_TIME\n",
       "0  2021-10-24 15:30\n",
       "1  2021-10-24 15:00"
      ]
     },
     "execution_count": 3,
     "metadata": {},
     "output_type": "execute_result"
    }
   ],
   "source": [
    "timestamps"
   ]
  },
  {
   "cell_type": "code",
   "execution_count": 4,
   "id": "alternate-victory",
   "metadata": {
    "execution": {
     "iopub.execute_input": "2021-10-24T13:30:09.293964Z",
     "iopub.status.busy": "2021-10-24T13:30:09.291990Z",
     "iopub.status.idle": "2021-10-24T13:30:10.211726Z",
     "shell.execute_reply": "2021-10-24T13:30:10.212920Z"
    },
    "papermill": {
     "duration": 0.949824,
     "end_time": "2021-10-24T13:30:10.213349",
     "exception": false,
     "start_time": "2021-10-24T13:30:09.263525",
     "status": "completed"
    },
    "tags": []
   },
   "outputs": [],
   "source": [
    "df = pd.read_sql(\"select * from EBAY_TOP_BERLIN where record_time in (select distinct record_time from EBAY_TOP_BERLIN order by record_time desc limit 2)\", sqlite3.connect(\"UsedObjects.db\"))"
   ]
  },
  {
   "cell_type": "code",
   "execution_count": 5,
   "id": "popular-active",
   "metadata": {
    "execution": {
     "iopub.execute_input": "2021-10-24T13:30:10.287254Z",
     "iopub.status.busy": "2021-10-24T13:30:10.275555Z",
     "iopub.status.idle": "2021-10-24T13:30:10.303077Z",
     "shell.execute_reply": "2021-10-24T13:30:10.304373Z"
    },
    "papermill": {
     "duration": 0.068562,
     "end_time": "2021-10-24T13:30:10.304845",
     "exception": false,
     "start_time": "2021-10-24T13:30:10.236283",
     "status": "completed"
    },
    "tags": []
   },
   "outputs": [],
   "source": [
    "df_pivot = df.pivot_table(index=\"PRODUCT\", columns = \"RECORD_TIME\", values = \"LISTING_COUNT\")"
   ]
  },
  {
   "cell_type": "code",
   "execution_count": 6,
   "id": "union-huntington",
   "metadata": {
    "execution": {
     "iopub.execute_input": "2021-10-24T13:30:10.361842Z",
     "iopub.status.busy": "2021-10-24T13:30:10.359595Z",
     "iopub.status.idle": "2021-10-24T13:30:10.365284Z",
     "shell.execute_reply": "2021-10-24T13:30:10.366574Z"
    },
    "papermill": {
     "duration": 0.040948,
     "end_time": "2021-10-24T13:30:10.367030",
     "exception": false,
     "start_time": "2021-10-24T13:30:10.326082",
     "status": "completed"
    },
    "tags": []
   },
   "outputs": [],
   "source": [
    "df_pivot.columns = [\"stamp_1\", \"stamp_2\"]\n",
    "df_pivot_diff = df_pivot.diff(axis=1)"
   ]
  },
  {
   "cell_type": "code",
   "execution_count": 7,
   "id": "fifth-motion",
   "metadata": {
    "execution": {
     "iopub.execute_input": "2021-10-24T13:30:10.422677Z",
     "iopub.status.busy": "2021-10-24T13:30:10.420088Z",
     "iopub.status.idle": "2021-10-24T13:30:11.907605Z",
     "shell.execute_reply": "2021-10-24T13:30:11.909154Z"
    },
    "papermill": {
     "duration": 1.521665,
     "end_time": "2021-10-24T13:30:11.909625",
     "exception": false,
     "start_time": "2021-10-24T13:30:10.387960",
     "status": "completed"
    },
    "tags": []
   },
   "outputs": [
    {
     "data": {
      "text/plain": [
       "<AxesSubplot:ylabel='PRODUCT'>"
      ]
     },
     "execution_count": 7,
     "metadata": {},
     "output_type": "execute_result"
    },
    {
     "data": {
      "image/png": "[encoded data removed]",
      "text/plain": [
       "<Figure size 432x288 with 1 Axes>"
      ]
     },
     "metadata": {
      "needs_background": "light"
     },
     "output_type": "display_data"
    }
   ],
   "source": [
    "df_pivot_diff.sort_values(\"stamp_2\", ascending = False)[\"stamp_2\"].head(10).plot.barh()"
   ]
  },
  {
   "cell_type": "code",
   "execution_count": null,
   "id": "extra-executive",
   "metadata": {
    "papermill": {
     "duration": 0.022067,
     "end_time": "2021-10-24T13:30:11.956074",
     "exception": false,
     "start_time": "2021-10-24T13:30:11.934007",
     "status": "completed"
    },
    "tags": []
   },
   "outputs": [],
   "source": []
  }
 ],
 "metadata": {
  "kernelspec": {
   "display_name": "Python 3",
   "language": "python",
   "name": "python3"
  },
  "language_info": {
   "codemirror_mode": {
    "name": "ipython",
    "version": 3
   },
   "file_extension": ".py",
   "mimetype": "text/x-python",
   "name": "python",
   "nbconvert_exporter": "python",
   "pygments_lexer": "ipython3",
   "version": "3.9.5"
  },
  "papermill": {
   "default_parameters": {},
   "duration": 7.426367,
   "end_time": "2021-10-24T13:30:12.595844",
   "environment_variables": {},
   "exception": null,
   "input_path": "eBay_Overview.ipynb",
   "output_path": "eBay_Overview.ipynb",
   "parameters": {},
   "start_time": "2021-10-24T13:30:05.169477",
   "version": "2.3.3"
  }
 },
 "nbformat": 4,
 "nbformat_minor": 5
}