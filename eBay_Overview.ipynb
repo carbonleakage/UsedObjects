{
 "cells": [
  {
   "cell_type": "code",
   "execution_count": 1,
   "id": "reverse-picking",
   "metadata": {
    "execution": {
     "iopub.execute_input": "2021-08-13T22:00:06.957201Z",
     "iopub.status.busy": "2021-08-13T22:00:06.955200Z",
     "iopub.status.idle": "2021-08-13T22:00:07.766967Z",
     "shell.execute_reply": "2021-08-13T22:00:07.765165Z"
    },
    "papermill": {
     "duration": 0.8613,
     "end_time": "2021-08-13T22:00:07.767380",
     "exception": false,
     "start_time": "2021-08-13T22:00:06.906080",
     "status": "completed"
    },
    "tags": []
   },
   "outputs": [],
   "source": [
    "import pandas as pd\n",
    "import sqlite3"
   ]
  },
  {
   "cell_type": "code",
   "execution_count": 2,
   "id": "innovative-syndrome",
   "metadata": {
    "execution": {
     "iopub.execute_input": "2021-08-13T22:00:07.819981Z",
     "iopub.status.busy": "2021-08-13T22:00:07.817560Z",
     "iopub.status.idle": "2021-08-13T22:00:07.862714Z",
     "shell.execute_reply": "2021-08-13T22:00:07.864092Z"
    },
    "papermill": {
     "duration": 0.075623,
     "end_time": "2021-08-13T22:00:07.864529",
     "exception": false,
     "start_time": "2021-08-13T22:00:07.788906",
     "status": "completed"
    },
    "tags": []
   },
   "outputs": [],
   "source": [
    "timestamps = pd.read_sql(\"select distinct record_time from EBAY_TOP_BERLIN order by record_time desc limit 2\", sqlite3.connect(\"UsedObjects.db\"))"
   ]
  },
  {
   "cell_type": "code",
   "execution_count": 3,
   "id": "periodic-identification",
   "metadata": {
    "execution": {
     "iopub.execute_input": "2021-08-13T22:00:07.931927Z",
     "iopub.status.busy": "2021-08-13T22:00:07.929808Z",
     "iopub.status.idle": "2021-08-13T22:00:07.949845Z",
     "shell.execute_reply": "2021-08-13T22:00:07.951126Z"
    },
    "papermill": {
     "duration": 0.067385,
     "end_time": "2021-08-13T22:00:07.951556",
     "exception": false,
     "start_time": "2021-08-13T22:00:07.884171",
     "status": "completed"
    },
    "tags": []
   },
   "outputs": [
    {
     "data": {
      "text/html": [
       "<div>\n",
       "<style scoped>\n",
       "    .dataframe tbody tr th:only-of-type {\n",
       "        vertical-align: middle;\n",
       "    }\n",
       "\n",
       "    .dataframe tbody tr th {\n",
       "        vertical-align: top;\n",
       "    }\n",
       "\n",
       "    .dataframe thead th {\n",
       "        text-align: right;\n",
       "    }\n",
       "</style>\n",
       "<table border=\"1\" class=\"dataframe\">\n",
       "  <thead>\n",
       "    <tr style=\"text-align: right;\">\n",
       "      <th></th>\n",
       "      <th>RECORD_TIME</th>\n",
       "    </tr>\n",
       "  </thead>\n",
       "  <tbody>\n",
       "    <tr>\n",
       "      <th>0</th>\n",
       "      <td>2021-08-14 00:00</td>\n",
       "    </tr>\n",
       "    <tr>\n",
       "      <th>1</th>\n",
       "      <td>2021-08-13 23:30</td>\n",
       "    </tr>\n",
       "  </tbody>\n",
       "</table>\n",
       "</div>"
      ],
      "text/plain": [
       "        RECORD_TIME\n",
       "0  2021-08-14 00:00\n",
       "1  2021-08-13 23:30"
      ]
     },
     "execution_count": 3,
     "metadata": {},
     "output_type": "execute_result"
    }
   ],
   "source": [
    "timestamps"
   ]
  },
  {
   "cell_type": "code",
   "execution_count": 4,
   "id": "alternate-victory",
   "metadata": {
    "execution": {
     "iopub.execute_input": "2021-08-13T22:00:08.006409Z",
     "iopub.status.busy": "2021-08-13T22:00:08.004034Z",
     "iopub.status.idle": "2021-08-13T22:00:08.068850Z",
     "shell.execute_reply": "2021-08-13T22:00:08.070136Z"
    },
    "papermill": {
     "duration": 0.095568,
     "end_time": "2021-08-13T22:00:08.070549",
     "exception": false,
     "start_time": "2021-08-13T22:00:07.974981",
     "status": "completed"
    },
    "tags": []
   },
   "outputs": [],
   "source": [
    "df = pd.read_sql(\"select * from EBAY_TOP_BERLIN where record_time in (select distinct record_time from EBAY_TOP_BERLIN order by record_time desc limit 2)\", sqlite3.connect(\"UsedObjects.db\"))"
   ]
  },
  {
   "cell_type": "code",
   "execution_count": 5,
   "id": "popular-active",
   "metadata": {
    "execution": {
     "iopub.execute_input": "2021-08-13T22:00:08.141618Z",
     "iopub.status.busy": "2021-08-13T22:00:08.128594Z",
     "iopub.status.idle": "2021-08-13T22:00:08.159709Z",
     "shell.execute_reply": "2021-08-13T22:00:08.161068Z"
    },
    "papermill": {
     "duration": 0.070477,
     "end_time": "2021-08-13T22:00:08.161499",
     "exception": false,
     "start_time": "2021-08-13T22:00:08.091022",
     "status": "completed"
    },
    "tags": []
   },
   "outputs": [],
   "source": [
    "df_pivot = df.pivot_table(index=\"PRODUCT\", columns = \"RECORD_TIME\", values = \"LISTING_COUNT\")"
   ]
  },
  {
   "cell_type": "code",
   "execution_count": 6,
   "id": "union-huntington",
   "metadata": {
    "execution": {
     "iopub.execute_input": "2021-08-13T22:00:08.219216Z",
     "iopub.status.busy": "2021-08-13T22:00:08.217107Z",
     "iopub.status.idle": "2021-08-13T22:00:08.222748Z",
     "shell.execute_reply": "2021-08-13T22:00:08.224042Z"
    },
    "papermill": {
     "duration": 0.041766,
     "end_time": "2021-08-13T22:00:08.224457",
     "exception": false,
     "start_time": "2021-08-13T22:00:08.182691",
     "status": "completed"
    },
    "tags": []
   },
   "outputs": [],
   "source": [
    "df_pivot.columns = [\"stamp_1\", \"stamp_2\"]\n",
    "df_pivot_diff = df_pivot.diff(axis=1)"
   ]
  },
  {
   "cell_type": "code",
   "execution_count": 7,
   "id": "fifth-motion",
   "metadata": {
    "execution": {
     "iopub.execute_input": "2021-08-13T22:00:08.280072Z",
     "iopub.status.busy": "2021-08-13T22:00:08.277348Z",
     "iopub.status.idle": "2021-08-13T22:00:09.814222Z",
     "shell.execute_reply": "2021-08-13T22:00:09.815679Z"
    },
    "papermill": {
     "duration": 1.570314,
     "end_time": "2021-08-13T22:00:09.816109",
     "exception": false,
     "start_time": "2021-08-13T22:00:08.245795",
     "status": "completed"
    },
    "tags": []
   },
   "outputs": [
    {
     "data": {
      "text/plain": [
       "<AxesSubplot:ylabel='PRODUCT'>"
      ]
     },
     "execution_count": 7,
     "metadata": {},
     "output_type": "execute_result"
    },
    {
     "data": {
      "image/png": "[encoded data removed]",
      "text/plain": [
       "<Figure size 432x288 with 1 Axes>"
      ]
     },
     "metadata": {
      "needs_background": "light"
     },
     "output_type": "display_data"
    }
   ],
   "source": [
    "df_pivot_diff.sort_values(\"stamp_2\", ascending = False)[\"stamp_2\"].head(10).plot.barh()"
   ]
  },
  {
   "cell_type": "code",
   "execution_count": null,
   "id": "extra-executive",
   "metadata": {
    "papermill": {
     "duration": 0.022517,
     "end_time": "2021-08-13T22:00:09.862778",
     "exception": false,
     "start_time": "2021-08-13T22:00:09.840261",
     "status": "completed"
    },
    "tags": []
   },
   "outputs": [],
   "source": []
  }
 ],
 "metadata": {
  "kernelspec": {
   "display_name": "Python 3",
   "language": "python",
   "name": "python3"
  },
  "language_info": {
   "codemirror_mode": {
    "name": "ipython",
    "version": 3
   },
   "file_extension": ".py",
   "mimetype": "text/x-python",
   "name": "python",
   "nbconvert_exporter": "python",
   "pygments_lexer": "ipython3",
   "version": "3.9.5"
  },
  "papermill": {
   "default_parameters": {},
   "duration": 6.829737,
   "end_time": "2021-08-13T22:00:11.307684",
   "environment_variables": {},
   "exception": null,
   "input_path": "eBay_Overview.ipynb",
   "output_path": "eBay_Overview.ipynb",
   "parameters": {},
   "start_time": "2021-08-13T22:00:04.477947",
   "version": "2.3.3"
  }
 },
 "nbformat": 4,
 "nbformat_minor": 5
}