{
 "cells": [
  {
   "cell_type": "code",
   "execution_count": 1,
   "id": "reverse-picking",
   "metadata": {
    "execution": {
     "iopub.execute_input": "2021-11-05T20:00:07.574644Z",
     "iopub.status.busy": "2021-11-05T20:00:07.571903Z",
     "iopub.status.idle": "2021-11-05T20:00:08.527819Z",
     "shell.execute_reply": "2021-11-05T20:00:08.530021Z"
    },
    "papermill": {
     "duration": 1.006464,
     "end_time": "2021-11-05T20:00:08.530771",
     "exception": false,
     "start_time": "2021-11-05T20:00:07.524307",
     "status": "completed"
    },
    "tags": []
   },
   "outputs": [],
   "source": [
    "import pandas as pd\n",
    "import sqlite3"
   ]
  },
  {
   "cell_type": "code",
   "execution_count": 2,
   "id": "innovative-syndrome",
   "metadata": {
    "execution": {
     "iopub.execute_input": "2021-11-05T20:00:08.593253Z",
     "iopub.status.busy": "2021-11-05T20:00:08.590791Z",
     "iopub.status.idle": "2021-11-05T20:00:09.348752Z",
     "shell.execute_reply": "2021-11-05T20:00:09.350328Z"
    },
    "papermill": {
     "duration": 0.79288,
     "end_time": "2021-11-05T20:00:09.350860",
     "exception": false,
     "start_time": "2021-11-05T20:00:08.557980",
     "status": "completed"
    },
    "tags": []
   },
   "outputs": [],
   "source": [
    "timestamps = pd.read_sql(\"select distinct record_time from EBAY_TOP_BERLIN order by record_time desc limit 2\", sqlite3.connect(\"UsedObjects.db\"))"
   ]
  },
  {
   "cell_type": "code",
   "execution_count": 3,
   "id": "periodic-identification",
   "metadata": {
    "execution": {
     "iopub.execute_input": "2021-11-05T20:00:09.424913Z",
     "iopub.status.busy": "2021-11-05T20:00:09.422491Z",
     "iopub.status.idle": "2021-11-05T20:00:09.445763Z",
     "shell.execute_reply": "2021-11-05T20:00:09.447280Z"
    },
    "papermill": {
     "duration": 0.075953,
     "end_time": "2021-11-05T20:00:09.447788",
     "exception": false,
     "start_time": "2021-11-05T20:00:09.371835",
     "status": "completed"
    },
    "tags": []
   },
   "outputs": [
    {
     "data": {
      "text/html": [
       "<div>\n",
       "<style scoped>\n",
       "    .dataframe tbody tr th:only-of-type {\n",
       "        vertical-align: middle;\n",
       "    }\n",
       "\n",
       "    .dataframe tbody tr th {\n",
       "        vertical-align: top;\n",
       "    }\n",
       "\n",
       "    .dataframe thead th {\n",
       "        text-align: right;\n",
       "    }\n",
       "</style>\n",
       "<table border=\"1\" class=\"dataframe\">\n",
       "  <thead>\n",
       "    <tr style=\"text-align: right;\">\n",
       "      <th></th>\n",
       "      <th>RECORD_TIME</th>\n",
       "    </tr>\n",
       "  </thead>\n",
       "  <tbody>\n",
       "    <tr>\n",
       "      <th>0</th>\n",
       "      <td>2021-11-05 21:00</td>\n",
       "    </tr>\n",
       "    <tr>\n",
       "      <th>1</th>\n",
       "      <td>2021-11-05 20:30</td>\n",
       "    </tr>\n",
       "  </tbody>\n",
       "</table>\n",
       "</div>"
      ],
      "text/plain": [
       "        RECORD_TIME\n",
       "0  2021-11-05 21:00\n",
       "1  2021-11-05 20:30"
      ]
     },
     "execution_count": 3,
     "metadata": {},
     "output_type": "execute_result"
    }
   ],
   "source": [
    "timestamps"
   ]
  },
  {
   "cell_type": "code",
   "execution_count": 4,
   "id": "alternate-victory",
   "metadata": {
    "execution": {
     "iopub.execute_input": "2021-11-05T20:00:09.504201Z",
     "iopub.status.busy": "2021-11-05T20:00:09.502040Z",
     "iopub.status.idle": "2021-11-05T20:00:10.588834Z",
     "shell.execute_reply": "2021-11-05T20:00:10.590504Z"
    },
    "papermill": {
     "duration": 1.12157,
     "end_time": "2021-11-05T20:00:10.590997",
     "exception": false,
     "start_time": "2021-11-05T20:00:09.469427",
     "status": "completed"
    },
    "tags": []
   },
   "outputs": [],
   "source": [
    "df = pd.read_sql(\"select * from EBAY_TOP_BERLIN where record_time in (select distinct record_time from EBAY_TOP_BERLIN order by record_time desc limit 2)\", sqlite3.connect(\"UsedObjects.db\"))"
   ]
  },
  {
   "cell_type": "code",
   "execution_count": 5,
   "id": "popular-active",
   "metadata": {
    "execution": {
     "iopub.execute_input": "2021-11-05T20:00:10.669253Z",
     "iopub.status.busy": "2021-11-05T20:00:10.656139Z",
     "iopub.status.idle": "2021-11-05T20:00:10.690390Z",
     "shell.execute_reply": "2021-11-05T20:00:10.691901Z"
    },
    "papermill": {
     "duration": 0.078936,
     "end_time": "2021-11-05T20:00:10.692424",
     "exception": false,
     "start_time": "2021-11-05T20:00:10.613488",
     "status": "completed"
    },
    "tags": []
   },
   "outputs": [],
   "source": [
    "df_pivot = df.pivot_table(index=\"PRODUCT\", columns = \"RECORD_TIME\", values = \"LISTING_COUNT\")"
   ]
  },
  {
   "cell_type": "code",
   "execution_count": 6,
   "id": "union-huntington",
   "metadata": {
    "execution": {
     "iopub.execute_input": "2021-11-05T20:00:10.756403Z",
     "iopub.status.busy": "2021-11-05T20:00:10.753929Z",
     "iopub.status.idle": "2021-11-05T20:00:10.759453Z",
     "shell.execute_reply": "2021-11-05T20:00:10.761167Z"
    },
    "papermill": {
     "duration": 0.045596,
     "end_time": "2021-11-05T20:00:10.761640",
     "exception": false,
     "start_time": "2021-11-05T20:00:10.716044",
     "status": "completed"
    },
    "tags": []
   },
   "outputs": [],
   "source": [
    "df_pivot.columns = [\"stamp_1\", \"stamp_2\"]\n",
    "df_pivot_diff = df_pivot.diff(axis=1)"
   ]
  },
  {
   "cell_type": "code",
   "execution_count": 7,
   "id": "fifth-motion",
   "metadata": {
    "execution": {
     "iopub.execute_input": "2021-11-05T20:00:10.831606Z",
     "iopub.status.busy": "2021-11-05T20:00:10.819518Z",
     "iopub.status.idle": "2021-11-05T20:00:12.587605Z",
     "shell.execute_reply": "2021-11-05T20:00:12.589300Z"
    },
    "papermill": {
     "duration": 1.806319,
     "end_time": "2021-11-05T20:00:12.589804",
     "exception": false,
     "start_time": "2021-11-05T20:00:10.783485",
     "status": "completed"
    },
    "tags": []
   },
   "outputs": [
    {
     "data": {
      "text/plain": [
       "<AxesSubplot:ylabel='PRODUCT'>"
      ]
     },
     "execution_count": 7,
     "metadata": {},
     "output_type": "execute_result"
    },
    {
     "data": {
      "image/png": "[encoded data removed]",
      "text/plain": [
       "<Figure size 432x288 with 1 Axes>"
      ]
     },
     "metadata": {
      "needs_background": "light"
     },
     "output_type": "display_data"
    }
   ],
   "source": [
    "df_pivot_diff.sort_values(\"stamp_2\", ascending = False)[\"stamp_2\"].head(10).plot.barh()"
   ]
  },
  {
   "cell_type": "code",
   "execution_count": null,
   "id": "extra-executive",
   "metadata": {
    "papermill": {
     "duration": 0.057605,
     "end_time": "2021-11-05T20:00:12.676329",
     "exception": false,
     "start_time": "2021-11-05T20:00:12.618724",
     "status": "completed"
    },
    "tags": []
   },
   "outputs": [],
   "source": []
  }
 ],
 "metadata": {
  "kernelspec": {
   "display_name": "Python 3",
   "language": "python",
   "name": "python3"
  },
  "language_info": {
   "codemirror_mode": {
    "name": "ipython",
    "version": 3
   },
   "file_extension": ".py",
   "mimetype": "text/x-python",
   "name": "python",
   "nbconvert_exporter": "python",
   "pygments_lexer": "ipython3",
   "version": "3.9.5"
  },
  "papermill": {
   "default_parameters": {},
   "duration": 8.974358,
   "end_time": "2021-11-05T20:00:13.642341",
   "environment_variables": {},
   "exception": null,
   "input_path": "eBay_Overview.ipynb",
   "output_path": "eBay_Overview.ipynb",
   "parameters": {},
   "start_time": "2021-11-05T20:00:04.667983",
   "version": "2.3.3"
  }
 },
 "nbformat": 4,
 "nbformat_minor": 5
}