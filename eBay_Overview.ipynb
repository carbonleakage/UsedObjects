{
 "cells": [
  {
   "cell_type": "code",
   "execution_count": 1,
   "id": "reverse-picking",
   "metadata": {
    "execution": {
     "iopub.execute_input": "2021-09-16T14:00:07.326922Z",
     "iopub.status.busy": "2021-09-16T14:00:07.324953Z",
     "iopub.status.idle": "2021-09-16T14:00:08.124463Z",
     "shell.execute_reply": "2021-09-16T14:00:08.125845Z"
    },
    "papermill": {
     "duration": 0.84983,
     "end_time": "2021-09-16T14:00:08.126514",
     "exception": false,
     "start_time": "2021-09-16T14:00:07.276684",
     "status": "completed"
    },
    "tags": []
   },
   "outputs": [],
   "source": [
    "import pandas as pd\n",
    "import sqlite3"
   ]
  },
  {
   "cell_type": "code",
   "execution_count": 2,
   "id": "innovative-syndrome",
   "metadata": {
    "execution": {
     "iopub.execute_input": "2021-09-16T14:00:08.177229Z",
     "iopub.status.busy": "2021-09-16T14:00:08.174946Z",
     "iopub.status.idle": "2021-09-16T14:00:08.473149Z",
     "shell.execute_reply": "2021-09-16T14:00:08.474413Z"
    },
    "papermill": {
     "duration": 0.32821,
     "end_time": "2021-09-16T14:00:08.474884",
     "exception": false,
     "start_time": "2021-09-16T14:00:08.146674",
     "status": "completed"
    },
    "tags": []
   },
   "outputs": [],
   "source": [
    "timestamps = pd.read_sql(\"select distinct record_time from EBAY_TOP_BERLIN order by record_time desc limit 2\", sqlite3.connect(\"UsedObjects.db\"))"
   ]
  },
  {
   "cell_type": "code",
   "execution_count": 3,
   "id": "periodic-identification",
   "metadata": {
    "execution": {
     "iopub.execute_input": "2021-09-16T14:00:08.541139Z",
     "iopub.status.busy": "2021-09-16T14:00:08.539167Z",
     "iopub.status.idle": "2021-09-16T14:00:08.558889Z",
     "shell.execute_reply": "2021-09-16T14:00:08.560175Z"
    },
    "papermill": {
     "duration": 0.06634,
     "end_time": "2021-09-16T14:00:08.560582",
     "exception": false,
     "start_time": "2021-09-16T14:00:08.494242",
     "status": "completed"
    },
    "tags": []
   },
   "outputs": [
    {
     "data": {
      "text/html": [
       "<div>\n",
       "<style scoped>\n",
       "    .dataframe tbody tr th:only-of-type {\n",
       "        vertical-align: middle;\n",
       "    }\n",
       "\n",
       "    .dataframe tbody tr th {\n",
       "        vertical-align: top;\n",
       "    }\n",
       "\n",
       "    .dataframe thead th {\n",
       "        text-align: right;\n",
       "    }\n",
       "</style>\n",
       "<table border=\"1\" class=\"dataframe\">\n",
       "  <thead>\n",
       "    <tr style=\"text-align: right;\">\n",
       "      <th></th>\n",
       "      <th>RECORD_TIME</th>\n",
       "    </tr>\n",
       "  </thead>\n",
       "  <tbody>\n",
       "    <tr>\n",
       "      <th>0</th>\n",
       "      <td>2021-09-16 16:00</td>\n",
       "    </tr>\n",
       "    <tr>\n",
       "      <th>1</th>\n",
       "      <td>2021-09-16 15:30</td>\n",
       "    </tr>\n",
       "  </tbody>\n",
       "</table>\n",
       "</div>"
      ],
      "text/plain": [
       "        RECORD_TIME\n",
       "0  2021-09-16 16:00\n",
       "1  2021-09-16 15:30"
      ]
     },
     "execution_count": 3,
     "metadata": {},
     "output_type": "execute_result"
    }
   ],
   "source": [
    "timestamps"
   ]
  },
  {
   "cell_type": "code",
   "execution_count": 4,
   "id": "alternate-victory",
   "metadata": {
    "execution": {
     "iopub.execute_input": "2021-09-16T14:00:08.611380Z",
     "iopub.status.busy": "2021-09-16T14:00:08.609405Z",
     "iopub.status.idle": "2021-09-16T14:00:09.047002Z",
     "shell.execute_reply": "2021-09-16T14:00:09.048140Z"
    },
    "papermill": {
     "duration": 0.467071,
     "end_time": "2021-09-16T14:00:09.048544",
     "exception": false,
     "start_time": "2021-09-16T14:00:08.581473",
     "status": "completed"
    },
    "tags": []
   },
   "outputs": [],
   "source": [
    "df = pd.read_sql(\"select * from EBAY_TOP_BERLIN where record_time in (select distinct record_time from EBAY_TOP_BERLIN order by record_time desc limit 2)\", sqlite3.connect(\"UsedObjects.db\"))"
   ]
  },
  {
   "cell_type": "code",
   "execution_count": 5,
   "id": "popular-active",
   "metadata": {
    "execution": {
     "iopub.execute_input": "2021-09-16T14:00:09.129312Z",
     "iopub.status.busy": "2021-09-16T14:00:09.116827Z",
     "iopub.status.idle": "2021-09-16T14:00:09.146571Z",
     "shell.execute_reply": "2021-09-16T14:00:09.148082Z"
    },
    "papermill": {
     "duration": 0.074135,
     "end_time": "2021-09-16T14:00:09.148560",
     "exception": false,
     "start_time": "2021-09-16T14:00:09.074425",
     "status": "completed"
    },
    "tags": []
   },
   "outputs": [],
   "source": [
    "df_pivot = df.pivot_table(index=\"PRODUCT\", columns = \"RECORD_TIME\", values = \"LISTING_COUNT\")"
   ]
  },
  {
   "cell_type": "code",
   "execution_count": 6,
   "id": "union-huntington",
   "metadata": {
    "execution": {
     "iopub.execute_input": "2021-09-16T14:00:09.206384Z",
     "iopub.status.busy": "2021-09-16T14:00:09.203995Z",
     "iopub.status.idle": "2021-09-16T14:00:09.209987Z",
     "shell.execute_reply": "2021-09-16T14:00:09.211404Z"
    },
    "papermill": {
     "duration": 0.042274,
     "end_time": "2021-09-16T14:00:09.211841",
     "exception": false,
     "start_time": "2021-09-16T14:00:09.169567",
     "status": "completed"
    },
    "tags": []
   },
   "outputs": [],
   "source": [
    "df_pivot.columns = [\"stamp_1\", \"stamp_2\"]\n",
    "df_pivot_diff = df_pivot.diff(axis=1)"
   ]
  },
  {
   "cell_type": "code",
   "execution_count": 7,
   "id": "fifth-motion",
   "metadata": {
    "execution": {
     "iopub.execute_input": "2021-09-16T14:00:09.265842Z",
     "iopub.status.busy": "2021-09-16T14:00:09.263578Z",
     "iopub.status.idle": "2021-09-16T14:00:10.773507Z",
     "shell.execute_reply": "2021-09-16T14:00:10.774934Z"
    },
    "papermill": {
     "duration": 1.542381,
     "end_time": "2021-09-16T14:00:10.775412",
     "exception": false,
     "start_time": "2021-09-16T14:00:09.233031",
     "status": "completed"
    },
    "tags": []
   },
   "outputs": [
    {
     "data": {
      "text/plain": [
       "<AxesSubplot:ylabel='PRODUCT'>"
      ]
     },
     "execution_count": 7,
     "metadata": {},
     "output_type": "execute_result"
    },
    {
     "data": {
      "image/png": "[encoded data removed]",
      "text/plain": [
       "<Figure size 432x288 with 1 Axes>"
      ]
     },
     "metadata": {
      "needs_background": "light"
     },
     "output_type": "display_data"
    }
   ],
   "source": [
    "df_pivot_diff.sort_values(\"stamp_2\", ascending = False)[\"stamp_2\"].head(10).plot.barh()"
   ]
  },
  {
   "cell_type": "code",
   "execution_count": null,
   "id": "extra-executive",
   "metadata": {
    "papermill": {
     "duration": 0.021915,
     "end_time": "2021-09-16T14:00:10.821949",
     "exception": false,
     "start_time": "2021-09-16T14:00:10.800034",
     "status": "completed"
    },
    "tags": []
   },
   "outputs": [],
   "source": []
  }
 ],
 "metadata": {
  "kernelspec": {
   "display_name": "Python 3",
   "language": "python",
   "name": "python3"
  },
  "language_info": {
   "codemirror_mode": {
    "name": "ipython",
    "version": 3
   },
   "file_extension": ".py",
   "mimetype": "text/x-python",
   "name": "python",
   "nbconvert_exporter": "python",
   "pygments_lexer": "ipython3",
   "version": "3.9.5"
  },
  "papermill": {
   "default_parameters": {},
   "duration": 6.56852,
   "end_time": "2021-09-16T14:00:11.463924",
   "environment_variables": {},
   "exception": null,
   "input_path": "eBay_Overview.ipynb",
   "output_path": "eBay_Overview.ipynb",
   "parameters": {},
   "start_time": "2021-09-16T14:00:04.895404",
   "version": "2.3.3"
  }
 },
 "nbformat": 4,
 "nbformat_minor": 5
}