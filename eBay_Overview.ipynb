{
 "cells": [
  {
   "cell_type": "code",
   "execution_count": 1,
   "id": "reverse-picking",
   "metadata": {
    "execution": {
     "iopub.execute_input": "2021-12-04T04:30:07.447542Z",
     "iopub.status.busy": "2021-12-04T04:30:07.444905Z",
     "iopub.status.idle": "2021-12-04T04:30:08.410447Z",
     "shell.execute_reply": "2021-12-04T04:30:08.408484Z"
    },
    "papermill": {
     "duration": 1.01682,
     "end_time": "2021-12-04T04:30:08.410955",
     "exception": false,
     "start_time": "2021-12-04T04:30:07.394135",
     "status": "completed"
    },
    "tags": []
   },
   "outputs": [],
   "source": [
    "import pandas as pd\n",
    "import sqlite3"
   ]
  },
  {
   "cell_type": "code",
   "execution_count": 2,
   "id": "innovative-syndrome",
   "metadata": {
    "execution": {
     "iopub.execute_input": "2021-12-04T04:30:08.476794Z",
     "iopub.status.busy": "2021-12-04T04:30:08.473706Z",
     "iopub.status.idle": "2021-12-04T04:30:09.471757Z",
     "shell.execute_reply": "2021-12-04T04:30:09.470103Z"
    },
    "papermill": {
     "duration": 1.031031,
     "end_time": "2021-12-04T04:30:09.472204",
     "exception": false,
     "start_time": "2021-12-04T04:30:08.441173",
     "status": "completed"
    },
    "tags": []
   },
   "outputs": [],
   "source": [
    "timestamps = pd.read_sql(\"select distinct record_time from EBAY_TOP_BERLIN order by record_time desc limit 2\", sqlite3.connect(\"UsedObjects.db\"))"
   ]
  },
  {
   "cell_type": "code",
   "execution_count": 3,
   "id": "periodic-identification",
   "metadata": {
    "execution": {
     "iopub.execute_input": "2021-12-04T04:30:09.541448Z",
     "iopub.status.busy": "2021-12-04T04:30:09.539328Z",
     "iopub.status.idle": "2021-12-04T04:30:09.559345Z",
     "shell.execute_reply": "2021-12-04T04:30:09.560612Z"
    },
    "papermill": {
     "duration": 0.064967,
     "end_time": "2021-12-04T04:30:09.561090",
     "exception": false,
     "start_time": "2021-12-04T04:30:09.496123",
     "status": "completed"
    },
    "tags": []
   },
   "outputs": [
    {
     "data": {
      "text/html": [
       "<div>\n",
       "<style scoped>\n",
       "    .dataframe tbody tr th:only-of-type {\n",
       "        vertical-align: middle;\n",
       "    }\n",
       "\n",
       "    .dataframe tbody tr th {\n",
       "        vertical-align: top;\n",
       "    }\n",
       "\n",
       "    .dataframe thead th {\n",
       "        text-align: right;\n",
       "    }\n",
       "</style>\n",
       "<table border=\"1\" class=\"dataframe\">\n",
       "  <thead>\n",
       "    <tr style=\"text-align: right;\">\n",
       "      <th></th>\n",
       "      <th>RECORD_TIME</th>\n",
       "    </tr>\n",
       "  </thead>\n",
       "  <tbody>\n",
       "    <tr>\n",
       "      <th>0</th>\n",
       "      <td>2021-12-04 05:30</td>\n",
       "    </tr>\n",
       "    <tr>\n",
       "      <th>1</th>\n",
       "      <td>2021-12-04 05:00</td>\n",
       "    </tr>\n",
       "  </tbody>\n",
       "</table>\n",
       "</div>"
      ],
      "text/plain": [
       "        RECORD_TIME\n",
       "0  2021-12-04 05:30\n",
       "1  2021-12-04 05:00"
      ]
     },
     "execution_count": 3,
     "metadata": {},
     "output_type": "execute_result"
    }
   ],
   "source": [
    "timestamps"
   ]
  },
  {
   "cell_type": "code",
   "execution_count": 4,
   "id": "alternate-victory",
   "metadata": {
    "execution": {
     "iopub.execute_input": "2021-12-04T04:30:09.613380Z",
     "iopub.status.busy": "2021-12-04T04:30:09.611432Z",
     "iopub.status.idle": "2021-12-04T04:30:11.018726Z",
     "shell.execute_reply": "2021-12-04T04:30:11.020152Z"
    },
    "papermill": {
     "duration": 1.437892,
     "end_time": "2021-12-04T04:30:11.020604",
     "exception": false,
     "start_time": "2021-12-04T04:30:09.582712",
     "status": "completed"
    },
    "tags": []
   },
   "outputs": [],
   "source": [
    "df = pd.read_sql(\"select * from EBAY_TOP_BERLIN where record_time in (select distinct record_time from EBAY_TOP_BERLIN order by record_time desc limit 2)\", sqlite3.connect(\"UsedObjects.db\"))"
   ]
  },
  {
   "cell_type": "code",
   "execution_count": 5,
   "id": "popular-active",
   "metadata": {
    "execution": {
     "iopub.execute_input": "2021-12-04T04:30:11.102049Z",
     "iopub.status.busy": "2021-12-04T04:30:11.089412Z",
     "iopub.status.idle": "2021-12-04T04:30:11.128340Z",
     "shell.execute_reply": "2021-12-04T04:30:11.130688Z"
    },
    "papermill": {
     "duration": 0.086456,
     "end_time": "2021-12-04T04:30:11.131194",
     "exception": false,
     "start_time": "2021-12-04T04:30:11.044738",
     "status": "completed"
    },
    "tags": []
   },
   "outputs": [],
   "source": [
    "df_pivot = df.pivot_table(index=\"PRODUCT\", columns = \"RECORD_TIME\", values = \"LISTING_COUNT\")"
   ]
  },
  {
   "cell_type": "code",
   "execution_count": 6,
   "id": "union-huntington",
   "metadata": {
    "execution": {
     "iopub.execute_input": "2021-12-04T04:30:11.197209Z",
     "iopub.status.busy": "2021-12-04T04:30:11.194817Z",
     "iopub.status.idle": "2021-12-04T04:30:11.199401Z",
     "shell.execute_reply": "2021-12-04T04:30:11.200980Z"
    },
    "papermill": {
     "duration": 0.047467,
     "end_time": "2021-12-04T04:30:11.201475",
     "exception": false,
     "start_time": "2021-12-04T04:30:11.154008",
     "status": "completed"
    },
    "tags": []
   },
   "outputs": [],
   "source": [
    "df_pivot.columns = [\"stamp_1\", \"stamp_2\"]\n",
    "df_pivot_diff = df_pivot.diff(axis=1)"
   ]
  },
  {
   "cell_type": "code",
   "execution_count": 7,
   "id": "fifth-motion",
   "metadata": {
    "execution": {
     "iopub.execute_input": "2021-12-04T04:30:11.257820Z",
     "iopub.status.busy": "2021-12-04T04:30:11.255205Z",
     "iopub.status.idle": "2021-12-04T04:30:13.253323Z",
     "shell.execute_reply": "2021-12-04T04:30:13.255393Z"
    },
    "papermill": {
     "duration": 2.034423,
     "end_time": "2021-12-04T04:30:13.255987",
     "exception": false,
     "start_time": "2021-12-04T04:30:11.221564",
     "status": "completed"
    },
    "tags": []
   },
   "outputs": [
    {
     "data": {
      "text/plain": [
       "<AxesSubplot:ylabel='PRODUCT'>"
      ]
     },
     "execution_count": 7,
     "metadata": {},
     "output_type": "execute_result"
    },
    {
     "data": {
      "image/png": "[encoded data removed]",
      "text/plain": [
       "<Figure size 432x288 with 1 Axes>"
      ]
     },
     "metadata": {
      "needs_background": "light"
     },
     "output_type": "display_data"
    }
   ],
   "source": [
    "df_pivot_diff.sort_values(\"stamp_2\", ascending = False)[\"stamp_2\"].head(10).plot.barh()"
   ]
  },
  {
   "cell_type": "code",
   "execution_count": null,
   "id": "extra-executive",
   "metadata": {
    "papermill": {
     "duration": 0.028814,
     "end_time": "2021-12-04T04:30:13.314187",
     "exception": false,
     "start_time": "2021-12-04T04:30:13.285373",
     "status": "completed"
    },
    "tags": []
   },
   "outputs": [],
   "source": []
  }
 ],
 "metadata": {
  "kernelspec": {
   "display_name": "Python 3",
   "language": "python",
   "name": "python3"
  },
  "language_info": {
   "codemirror_mode": {
    "name": "ipython",
    "version": 3
   },
   "file_extension": ".py",
   "mimetype": "text/x-python",
   "name": "python",
   "nbconvert_exporter": "python",
   "pygments_lexer": "ipython3",
   "version": "3.9.5"
  },
  "papermill": {
   "default_parameters": {},
   "duration": 9.933171,
   "end_time": "2021-12-04T04:30:14.611465",
   "environment_variables": {},
   "exception": null,
   "input_path": "eBay_Overview.ipynb",
   "output_path": "eBay_Overview.ipynb",
   "parameters": {},
   "start_time": "2021-12-04T04:30:04.678294",
   "version": "2.3.3"
  }
 },
 "nbformat": 4,
 "nbformat_minor": 5
}