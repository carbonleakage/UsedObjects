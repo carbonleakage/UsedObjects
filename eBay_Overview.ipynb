{
 "cells": [
  {
   "cell_type": "code",
   "execution_count": 1,
   "id": "reverse-picking",
   "metadata": {
    "execution": {
     "iopub.execute_input": "2021-12-02T23:30:07.939912Z",
     "iopub.status.busy": "2021-12-02T23:30:07.936634Z",
     "iopub.status.idle": "2021-12-02T23:30:08.902444Z",
     "shell.execute_reply": "2021-12-02T23:30:08.904454Z"
    },
    "papermill": {
     "duration": 1.016272,
     "end_time": "2021-12-02T23:30:08.905232",
     "exception": false,
     "start_time": "2021-12-02T23:30:07.888960",
     "status": "completed"
    },
    "tags": []
   },
   "outputs": [],
   "source": [
    "import pandas as pd\n",
    "import sqlite3"
   ]
  },
  {
   "cell_type": "code",
   "execution_count": 2,
   "id": "innovative-syndrome",
   "metadata": {
    "execution": {
     "iopub.execute_input": "2021-12-02T23:30:09.026739Z",
     "iopub.status.busy": "2021-12-02T23:30:09.024361Z",
     "iopub.status.idle": "2021-12-02T23:30:10.027084Z",
     "shell.execute_reply": "2021-12-02T23:30:10.028672Z"
    },
    "papermill": {
     "duration": 1.037087,
     "end_time": "2021-12-02T23:30:10.029330",
     "exception": false,
     "start_time": "2021-12-02T23:30:08.992243",
     "status": "completed"
    },
    "tags": []
   },
   "outputs": [],
   "source": [
    "timestamps = pd.read_sql(\"select distinct record_time from EBAY_TOP_BERLIN order by record_time desc limit 2\", sqlite3.connect(\"UsedObjects.db\"))"
   ]
  },
  {
   "cell_type": "code",
   "execution_count": 3,
   "id": "periodic-identification",
   "metadata": {
    "execution": {
     "iopub.execute_input": "2021-12-02T23:30:10.079846Z",
     "iopub.status.busy": "2021-12-02T23:30:10.077552Z",
     "iopub.status.idle": "2021-12-02T23:30:10.121361Z",
     "shell.execute_reply": "2021-12-02T23:30:10.122698Z"
    },
    "papermill": {
     "duration": 0.071494,
     "end_time": "2021-12-02T23:30:10.123172",
     "exception": false,
     "start_time": "2021-12-02T23:30:10.051678",
     "status": "completed"
    },
    "tags": []
   },
   "outputs": [
    {
     "data": {
      "text/html": [
       "<div>\n",
       "<style scoped>\n",
       "    .dataframe tbody tr th:only-of-type {\n",
       "        vertical-align: middle;\n",
       "    }\n",
       "\n",
       "    .dataframe tbody tr th {\n",
       "        vertical-align: top;\n",
       "    }\n",
       "\n",
       "    .dataframe thead th {\n",
       "        text-align: right;\n",
       "    }\n",
       "</style>\n",
       "<table border=\"1\" class=\"dataframe\">\n",
       "  <thead>\n",
       "    <tr style=\"text-align: right;\">\n",
       "      <th></th>\n",
       "      <th>RECORD_TIME</th>\n",
       "    </tr>\n",
       "  </thead>\n",
       "  <tbody>\n",
       "    <tr>\n",
       "      <th>0</th>\n",
       "      <td>2021-12-03 00:30</td>\n",
       "    </tr>\n",
       "    <tr>\n",
       "      <th>1</th>\n",
       "      <td>2021-12-03 00:00</td>\n",
       "    </tr>\n",
       "  </tbody>\n",
       "</table>\n",
       "</div>"
      ],
      "text/plain": [
       "        RECORD_TIME\n",
       "0  2021-12-03 00:30\n",
       "1  2021-12-03 00:00"
      ]
     },
     "execution_count": 3,
     "metadata": {},
     "output_type": "execute_result"
    }
   ],
   "source": [
    "timestamps"
   ]
  },
  {
   "cell_type": "code",
   "execution_count": 4,
   "id": "alternate-victory",
   "metadata": {
    "execution": {
     "iopub.execute_input": "2021-12-02T23:30:10.177746Z",
     "iopub.status.busy": "2021-12-02T23:30:10.175565Z",
     "iopub.status.idle": "2021-12-02T23:30:11.599936Z",
     "shell.execute_reply": "2021-12-02T23:30:11.597730Z"
    },
    "papermill": {
     "duration": 1.455954,
     "end_time": "2021-12-02T23:30:11.600428",
     "exception": false,
     "start_time": "2021-12-02T23:30:10.144474",
     "status": "completed"
    },
    "tags": []
   },
   "outputs": [],
   "source": [
    "df = pd.read_sql(\"select * from EBAY_TOP_BERLIN where record_time in (select distinct record_time from EBAY_TOP_BERLIN order by record_time desc limit 2)\", sqlite3.connect(\"UsedObjects.db\"))"
   ]
  },
  {
   "cell_type": "code",
   "execution_count": 5,
   "id": "popular-active",
   "metadata": {
    "execution": {
     "iopub.execute_input": "2021-12-02T23:30:11.678532Z",
     "iopub.status.busy": "2021-12-02T23:30:11.664572Z",
     "iopub.status.idle": "2021-12-02T23:30:11.697461Z",
     "shell.execute_reply": "2021-12-02T23:30:11.698837Z"
    },
    "papermill": {
     "duration": 0.076666,
     "end_time": "2021-12-02T23:30:11.699311",
     "exception": false,
     "start_time": "2021-12-02T23:30:11.622645",
     "status": "completed"
    },
    "tags": []
   },
   "outputs": [],
   "source": [
    "df_pivot = df.pivot_table(index=\"PRODUCT\", columns = \"RECORD_TIME\", values = \"LISTING_COUNT\")"
   ]
  },
  {
   "cell_type": "code",
   "execution_count": 6,
   "id": "union-huntington",
   "metadata": {
    "execution": {
     "iopub.execute_input": "2021-12-02T23:30:11.763607Z",
     "iopub.status.busy": "2021-12-02T23:30:11.761253Z",
     "iopub.status.idle": "2021-12-02T23:30:11.767576Z",
     "shell.execute_reply": "2021-12-02T23:30:11.769205Z"
    },
    "papermill": {
     "duration": 0.050236,
     "end_time": "2021-12-02T23:30:11.769682",
     "exception": false,
     "start_time": "2021-12-02T23:30:11.719446",
     "status": "completed"
    },
    "tags": []
   },
   "outputs": [],
   "source": [
    "df_pivot.columns = [\"stamp_1\", \"stamp_2\"]\n",
    "df_pivot_diff = df_pivot.diff(axis=1)"
   ]
  },
  {
   "cell_type": "code",
   "execution_count": 7,
   "id": "fifth-motion",
   "metadata": {
    "execution": {
     "iopub.execute_input": "2021-12-02T23:30:11.829883Z",
     "iopub.status.busy": "2021-12-02T23:30:11.826472Z",
     "iopub.status.idle": "2021-12-02T23:30:13.787170Z",
     "shell.execute_reply": "2021-12-02T23:30:13.789762Z"
    },
    "papermill": {
     "duration": 1.999262,
     "end_time": "2021-12-02T23:30:13.790559",
     "exception": false,
     "start_time": "2021-12-02T23:30:11.791297",
     "status": "completed"
    },
    "tags": []
   },
   "outputs": [
    {
     "data": {
      "text/plain": [
       "<AxesSubplot:ylabel='PRODUCT'>"
      ]
     },
     "execution_count": 7,
     "metadata": {},
     "output_type": "execute_result"
    },
    {
     "data": {
      "image/png": "[encoded data removed]",
      "text/plain": [
       "<Figure size 432x288 with 1 Axes>"
      ]
     },
     "metadata": {
      "needs_background": "light"
     },
     "output_type": "display_data"
    }
   ],
   "source": [
    "df_pivot_diff.sort_values(\"stamp_2\", ascending = False)[\"stamp_2\"].head(10).plot.barh()"
   ]
  },
  {
   "cell_type": "code",
   "execution_count": null,
   "id": "extra-executive",
   "metadata": {
    "papermill": {
     "duration": 0.027409,
     "end_time": "2021-12-02T23:30:13.848919",
     "exception": false,
     "start_time": "2021-12-02T23:30:13.821510",
     "status": "completed"
    },
    "tags": []
   },
   "outputs": [],
   "source": []
  }
 ],
 "metadata": {
  "kernelspec": {
   "display_name": "Python 3",
   "language": "python",
   "name": "python3"
  },
  "language_info": {
   "codemirror_mode": {
    "name": "ipython",
    "version": 3
   },
   "file_extension": ".py",
   "mimetype": "text/x-python",
   "name": "python",
   "nbconvert_exporter": "python",
   "pygments_lexer": "ipython3",
   "version": "3.9.5"
  },
  "papermill": {
   "default_parameters": {},
   "duration": 9.933018,
   "end_time": "2021-12-02T23:30:15.079986",
   "environment_variables": {},
   "exception": null,
   "input_path": "eBay_Overview.ipynb",
   "output_path": "eBay_Overview.ipynb",
   "parameters": {},
   "start_time": "2021-12-02T23:30:05.146968",
   "version": "2.3.3"
  }
 },
 "nbformat": 4,
 "nbformat_minor": 5
}