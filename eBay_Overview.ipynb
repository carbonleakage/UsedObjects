{
 "cells": [
  {
   "cell_type": "code",
   "execution_count": 1,
   "id": "reverse-picking",
   "metadata": {
    "execution": {
     "iopub.execute_input": "2021-12-20T02:00:07.632565Z",
     "iopub.status.busy": "2021-12-20T02:00:07.629624Z",
     "iopub.status.idle": "2021-12-20T02:00:08.609518Z",
     "shell.execute_reply": "2021-12-20T02:00:08.611001Z"
    },
    "papermill": {
     "duration": 1.017053,
     "end_time": "2021-12-20T02:00:08.611766",
     "exception": false,
     "start_time": "2021-12-20T02:00:07.594713",
     "status": "completed"
    },
    "tags": []
   },
   "outputs": [],
   "source": [
    "import pandas as pd\n",
    "import sqlite3"
   ]
  },
  {
   "cell_type": "code",
   "execution_count": 2,
   "id": "innovative-syndrome",
   "metadata": {
    "execution": {
     "iopub.execute_input": "2021-12-20T02:00:08.681834Z",
     "iopub.status.busy": "2021-12-20T02:00:08.679148Z",
     "iopub.status.idle": "2021-12-20T02:00:09.820152Z",
     "shell.execute_reply": "2021-12-20T02:00:09.821612Z"
    },
    "papermill": {
     "duration": 1.176961,
     "end_time": "2021-12-20T02:00:09.822038",
     "exception": false,
     "start_time": "2021-12-20T02:00:08.645077",
     "status": "completed"
    },
    "tags": []
   },
   "outputs": [],
   "source": [
    "timestamps = pd.read_sql(\"select distinct record_time from EBAY_TOP_BERLIN order by record_time desc limit 2\", sqlite3.connect(\"UsedObjects.db\"))"
   ]
  },
  {
   "cell_type": "code",
   "execution_count": 3,
   "id": "periodic-identification",
   "metadata": {
    "execution": {
     "iopub.execute_input": "2021-12-20T02:00:09.887374Z",
     "iopub.status.busy": "2021-12-20T02:00:09.885386Z",
     "iopub.status.idle": "2021-12-20T02:00:09.908216Z",
     "shell.execute_reply": "2021-12-20T02:00:09.909826Z"
    },
    "papermill": {
     "duration": 0.068765,
     "end_time": "2021-12-20T02:00:09.910321",
     "exception": false,
     "start_time": "2021-12-20T02:00:09.841556",
     "status": "completed"
    },
    "tags": []
   },
   "outputs": [
    {
     "data": {
      "text/html": [
       "<div>\n",
       "<style scoped>\n",
       "    .dataframe tbody tr th:only-of-type {\n",
       "        vertical-align: middle;\n",
       "    }\n",
       "\n",
       "    .dataframe tbody tr th {\n",
       "        vertical-align: top;\n",
       "    }\n",
       "\n",
       "    .dataframe thead th {\n",
       "        text-align: right;\n",
       "    }\n",
       "</style>\n",
       "<table border=\"1\" class=\"dataframe\">\n",
       "  <thead>\n",
       "    <tr style=\"text-align: right;\">\n",
       "      <th></th>\n",
       "      <th>RECORD_TIME</th>\n",
       "    </tr>\n",
       "  </thead>\n",
       "  <tbody>\n",
       "    <tr>\n",
       "      <th>0</th>\n",
       "      <td>2021-12-20 03:00</td>\n",
       "    </tr>\n",
       "    <tr>\n",
       "      <th>1</th>\n",
       "      <td>2021-12-20 02:30</td>\n",
       "    </tr>\n",
       "  </tbody>\n",
       "</table>\n",
       "</div>"
      ],
      "text/plain": [
       "        RECORD_TIME\n",
       "0  2021-12-20 03:00\n",
       "1  2021-12-20 02:30"
      ]
     },
     "execution_count": 3,
     "metadata": {},
     "output_type": "execute_result"
    }
   ],
   "source": [
    "timestamps"
   ]
  },
  {
   "cell_type": "code",
   "execution_count": 4,
   "id": "alternate-victory",
   "metadata": {
    "execution": {
     "iopub.execute_input": "2021-12-20T02:00:09.966215Z",
     "iopub.status.busy": "2021-12-20T02:00:09.962713Z",
     "iopub.status.idle": "2021-12-20T02:00:11.604789Z",
     "shell.execute_reply": "2021-12-20T02:00:11.606867Z"
    },
    "papermill": {
     "duration": 1.676426,
     "end_time": "2021-12-20T02:00:11.607341",
     "exception": false,
     "start_time": "2021-12-20T02:00:09.930915",
     "status": "completed"
    },
    "tags": []
   },
   "outputs": [],
   "source": [
    "df = pd.read_sql(\"select * from EBAY_TOP_BERLIN where record_time in (select distinct record_time from EBAY_TOP_BERLIN order by record_time desc limit 2)\", sqlite3.connect(\"UsedObjects.db\"))"
   ]
  },
  {
   "cell_type": "code",
   "execution_count": 5,
   "id": "popular-active",
   "metadata": {
    "execution": {
     "iopub.execute_input": "2021-12-20T02:00:11.685219Z",
     "iopub.status.busy": "2021-12-20T02:00:11.672374Z",
     "iopub.status.idle": "2021-12-20T02:00:11.705006Z",
     "shell.execute_reply": "2021-12-20T02:00:11.706388Z"
    },
    "papermill": {
     "duration": 0.079049,
     "end_time": "2021-12-20T02:00:11.706870",
     "exception": false,
     "start_time": "2021-12-20T02:00:11.627821",
     "status": "completed"
    },
    "tags": []
   },
   "outputs": [],
   "source": [
    "df_pivot = df.pivot_table(index=\"PRODUCT\", columns = \"RECORD_TIME\", values = \"LISTING_COUNT\")"
   ]
  },
  {
   "cell_type": "code",
   "execution_count": 6,
   "id": "union-huntington",
   "metadata": {
    "execution": {
     "iopub.execute_input": "2021-12-20T02:00:11.765827Z",
     "iopub.status.busy": "2021-12-20T02:00:11.763551Z",
     "iopub.status.idle": "2021-12-20T02:00:11.770481Z",
     "shell.execute_reply": "2021-12-20T02:00:11.769015Z"
    },
    "papermill": {
     "duration": 0.044055,
     "end_time": "2021-12-20T02:00:11.770897",
     "exception": false,
     "start_time": "2021-12-20T02:00:11.726842",
     "status": "completed"
    },
    "tags": []
   },
   "outputs": [],
   "source": [
    "df_pivot.columns = [\"stamp_1\", \"stamp_2\"]\n",
    "df_pivot_diff = df_pivot.diff(axis=1)"
   ]
  },
  {
   "cell_type": "code",
   "execution_count": 7,
   "id": "fifth-motion",
   "metadata": {
    "execution": {
     "iopub.execute_input": "2021-12-20T02:00:11.829443Z",
     "iopub.status.busy": "2021-12-20T02:00:11.826699Z",
     "iopub.status.idle": "2021-12-20T02:00:13.831414Z",
     "shell.execute_reply": "2021-12-20T02:00:13.832890Z"
    },
    "papermill": {
     "duration": 2.041638,
     "end_time": "2021-12-20T02:00:13.833358",
     "exception": false,
     "start_time": "2021-12-20T02:00:11.791720",
     "status": "completed"
    },
    "tags": []
   },
   "outputs": [
    {
     "data": {
      "text/plain": [
       "<AxesSubplot:ylabel='PRODUCT'>"
      ]
     },
     "execution_count": 7,
     "metadata": {},
     "output_type": "execute_result"
    },
    {
     "data": {
      "image/png": "[encoded data removed]",
      "text/plain": [
       "<Figure size 432x288 with 1 Axes>"
      ]
     },
     "metadata": {
      "needs_background": "light"
     },
     "output_type": "display_data"
    }
   ],
   "source": [
    "df_pivot_diff.sort_values(\"stamp_2\", ascending = False)[\"stamp_2\"].head(10).plot.barh()"
   ]
  },
  {
   "cell_type": "code",
   "execution_count": null,
   "id": "extra-executive",
   "metadata": {
    "papermill": {
     "duration": 0.027091,
     "end_time": "2021-12-20T02:00:13.892442",
     "exception": false,
     "start_time": "2021-12-20T02:00:13.865351",
     "status": "completed"
    },
    "tags": []
   },
   "outputs": [],
   "source": []
  }
 ],
 "metadata": {
  "kernelspec": {
   "display_name": "Python 3",
   "language": "python",
   "name": "python3"
  },
  "language_info": {
   "codemirror_mode": {
    "name": "ipython",
    "version": 3
   },
   "file_extension": ".py",
   "mimetype": "text/x-python",
   "name": "python",
   "nbconvert_exporter": "python",
   "pygments_lexer": "ipython3",
   "version": "3.9.5"
  },
  "papermill": {
   "default_parameters": {},
   "duration": 9.677644,
   "end_time": "2021-12-20T02:00:14.533870",
   "environment_variables": {},
   "exception": null,
   "input_path": "eBay_Overview.ipynb",
   "output_path": "eBay_Overview.ipynb",
   "parameters": {},
   "start_time": "2021-12-20T02:00:04.856226",
   "version": "2.3.3"
  }
 },
 "nbformat": 4,
 "nbformat_minor": 5
}