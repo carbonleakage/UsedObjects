{
 "cells": [
  {
   "cell_type": "code",
   "execution_count": 1,
   "id": "reverse-picking",
   "metadata": {
    "execution": {
     "iopub.execute_input": "2021-08-26T17:00:07.138494Z",
     "iopub.status.busy": "2021-08-26T17:00:07.136435Z",
     "iopub.status.idle": "2021-08-26T17:00:07.940597Z",
     "shell.execute_reply": "2021-08-26T17:00:07.941892Z"
    },
    "papermill": {
     "duration": 0.855562,
     "end_time": "2021-08-26T17:00:07.942508",
     "exception": false,
     "start_time": "2021-08-26T17:00:07.086946",
     "status": "completed"
    },
    "tags": []
   },
   "outputs": [],
   "source": [
    "import pandas as pd\n",
    "import sqlite3"
   ]
  },
  {
   "cell_type": "code",
   "execution_count": 2,
   "id": "innovative-syndrome",
   "metadata": {
    "execution": {
     "iopub.execute_input": "2021-08-26T17:00:07.994452Z",
     "iopub.status.busy": "2021-08-26T17:00:07.992204Z",
     "iopub.status.idle": "2021-08-26T17:00:08.128296Z",
     "shell.execute_reply": "2021-08-26T17:00:08.129649Z"
    },
    "papermill": {
     "duration": 0.16587,
     "end_time": "2021-08-26T17:00:08.130076",
     "exception": false,
     "start_time": "2021-08-26T17:00:07.964206",
     "status": "completed"
    },
    "tags": []
   },
   "outputs": [],
   "source": [
    "timestamps = pd.read_sql(\"select distinct record_time from EBAY_TOP_BERLIN order by record_time desc limit 2\", sqlite3.connect(\"UsedObjects.db\"))"
   ]
  },
  {
   "cell_type": "code",
   "execution_count": 3,
   "id": "periodic-identification",
   "metadata": {
    "execution": {
     "iopub.execute_input": "2021-08-26T17:00:08.198073Z",
     "iopub.status.busy": "2021-08-26T17:00:08.192788Z",
     "iopub.status.idle": "2021-08-26T17:00:08.212529Z",
     "shell.execute_reply": "2021-08-26T17:00:08.213906Z"
    },
    "papermill": {
     "duration": 0.064547,
     "end_time": "2021-08-26T17:00:08.214322",
     "exception": false,
     "start_time": "2021-08-26T17:00:08.149775",
     "status": "completed"
    },
    "tags": []
   },
   "outputs": [
    {
     "data": {
      "text/html": [
       "<div>\n",
       "<style scoped>\n",
       "    .dataframe tbody tr th:only-of-type {\n",
       "        vertical-align: middle;\n",
       "    }\n",
       "\n",
       "    .dataframe tbody tr th {\n",
       "        vertical-align: top;\n",
       "    }\n",
       "\n",
       "    .dataframe thead th {\n",
       "        text-align: right;\n",
       "    }\n",
       "</style>\n",
       "<table border=\"1\" class=\"dataframe\">\n",
       "  <thead>\n",
       "    <tr style=\"text-align: right;\">\n",
       "      <th></th>\n",
       "      <th>RECORD_TIME</th>\n",
       "    </tr>\n",
       "  </thead>\n",
       "  <tbody>\n",
       "    <tr>\n",
       "      <th>0</th>\n",
       "      <td>2021-08-26 19:00</td>\n",
       "    </tr>\n",
       "    <tr>\n",
       "      <th>1</th>\n",
       "      <td>2021-08-26 18:30</td>\n",
       "    </tr>\n",
       "  </tbody>\n",
       "</table>\n",
       "</div>"
      ],
      "text/plain": [
       "        RECORD_TIME\n",
       "0  2021-08-26 19:00\n",
       "1  2021-08-26 18:30"
      ]
     },
     "execution_count": 3,
     "metadata": {},
     "output_type": "execute_result"
    }
   ],
   "source": [
    "timestamps"
   ]
  },
  {
   "cell_type": "code",
   "execution_count": 4,
   "id": "alternate-victory",
   "metadata": {
    "execution": {
     "iopub.execute_input": "2021-08-26T17:00:08.266180Z",
     "iopub.status.busy": "2021-08-26T17:00:08.263926Z",
     "iopub.status.idle": "2021-08-26T17:00:08.463021Z",
     "shell.execute_reply": "2021-08-26T17:00:08.464296Z"
    },
    "papermill": {
     "duration": 0.229266,
     "end_time": "2021-08-26T17:00:08.464737",
     "exception": false,
     "start_time": "2021-08-26T17:00:08.235471",
     "status": "completed"
    },
    "tags": []
   },
   "outputs": [],
   "source": [
    "df = pd.read_sql(\"select * from EBAY_TOP_BERLIN where record_time in (select distinct record_time from EBAY_TOP_BERLIN order by record_time desc limit 2)\", sqlite3.connect(\"UsedObjects.db\"))"
   ]
  },
  {
   "cell_type": "code",
   "execution_count": 5,
   "id": "popular-active",
   "metadata": {
    "execution": {
     "iopub.execute_input": "2021-08-26T17:00:08.535432Z",
     "iopub.status.busy": "2021-08-26T17:00:08.523837Z",
     "iopub.status.idle": "2021-08-26T17:00:08.551266Z",
     "shell.execute_reply": "2021-08-26T17:00:08.552655Z"
    },
    "papermill": {
     "duration": 0.067931,
     "end_time": "2021-08-26T17:00:08.553086",
     "exception": false,
     "start_time": "2021-08-26T17:00:08.485155",
     "status": "completed"
    },
    "tags": []
   },
   "outputs": [],
   "source": [
    "df_pivot = df.pivot_table(index=\"PRODUCT\", columns = \"RECORD_TIME\", values = \"LISTING_COUNT\")"
   ]
  },
  {
   "cell_type": "code",
   "execution_count": 6,
   "id": "union-huntington",
   "metadata": {
    "execution": {
     "iopub.execute_input": "2021-08-26T17:00:08.610522Z",
     "iopub.status.busy": "2021-08-26T17:00:08.608323Z",
     "iopub.status.idle": "2021-08-26T17:00:08.614104Z",
     "shell.execute_reply": "2021-08-26T17:00:08.615482Z"
    },
    "papermill": {
     "duration": 0.041701,
     "end_time": "2021-08-26T17:00:08.615928",
     "exception": false,
     "start_time": "2021-08-26T17:00:08.574227",
     "status": "completed"
    },
    "tags": []
   },
   "outputs": [],
   "source": [
    "df_pivot.columns = [\"stamp_1\", \"stamp_2\"]\n",
    "df_pivot_diff = df_pivot.diff(axis=1)"
   ]
  },
  {
   "cell_type": "code",
   "execution_count": 7,
   "id": "fifth-motion",
   "metadata": {
    "execution": {
     "iopub.execute_input": "2021-08-26T17:00:08.671619Z",
     "iopub.status.busy": "2021-08-26T17:00:08.669420Z",
     "iopub.status.idle": "2021-08-26T17:00:10.165252Z",
     "shell.execute_reply": "2021-08-26T17:00:10.166461Z"
    },
    "papermill": {
     "duration": 1.528796,
     "end_time": "2021-08-26T17:00:10.166891",
     "exception": false,
     "start_time": "2021-08-26T17:00:08.638095",
     "status": "completed"
    },
    "tags": []
   },
   "outputs": [
    {
     "data": {
      "text/plain": [
       "<AxesSubplot:ylabel='PRODUCT'>"
      ]
     },
     "execution_count": 7,
     "metadata": {},
     "output_type": "execute_result"
    },
    {
     "data": {
      "image/png": "[encoded data removed]",
      "text/plain": [
       "<Figure size 432x288 with 1 Axes>"
      ]
     },
     "metadata": {
      "needs_background": "light"
     },
     "output_type": "display_data"
    }
   ],
   "source": [
    "df_pivot_diff.sort_values(\"stamp_2\", ascending = False)[\"stamp_2\"].head(10).plot.barh()"
   ]
  },
  {
   "cell_type": "code",
   "execution_count": null,
   "id": "extra-executive",
   "metadata": {
    "papermill": {
     "duration": 0.022569,
     "end_time": "2021-08-26T17:00:10.213450",
     "exception": false,
     "start_time": "2021-08-26T17:00:10.190881",
     "status": "completed"
    },
    "tags": []
   },
   "outputs": [],
   "source": []
  }
 ],
 "metadata": {
  "kernelspec": {
   "display_name": "Python 3",
   "language": "python",
   "name": "python3"
  },
  "language_info": {
   "codemirror_mode": {
    "name": "ipython",
    "version": 3
   },
   "file_extension": ".py",
   "mimetype": "text/x-python",
   "name": "python",
   "nbconvert_exporter": "python",
   "pygments_lexer": "ipython3",
   "version": "3.9.5"
  },
  "papermill": {
   "default_parameters": {},
   "duration": 6.822351,
   "end_time": "2021-08-26T17:00:11.508025",
   "environment_variables": {},
   "exception": null,
   "input_path": "eBay_Overview.ipynb",
   "output_path": "eBay_Overview.ipynb",
   "parameters": {},
   "start_time": "2021-08-26T17:00:04.685674",
   "version": "2.3.3"
  }
 },
 "nbformat": 4,
 "nbformat_minor": 5
}