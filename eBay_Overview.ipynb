{
 "cells": [
  {
   "cell_type": "code",
   "execution_count": 1,
   "id": "reverse-picking",
   "metadata": {
    "execution": {
     "iopub.execute_input": "2021-10-24T18:00:07.577463Z",
     "iopub.status.busy": "2021-10-24T18:00:07.575431Z",
     "iopub.status.idle": "2021-10-24T18:00:08.388652Z",
     "shell.execute_reply": "2021-10-24T18:00:08.387104Z"
    },
    "papermill": {
     "duration": 0.863136,
     "end_time": "2021-10-24T18:00:08.389232",
     "exception": false,
     "start_time": "2021-10-24T18:00:07.526096",
     "status": "completed"
    },
    "tags": []
   },
   "outputs": [],
   "source": [
    "import pandas as pd\n",
    "import sqlite3"
   ]
  },
  {
   "cell_type": "code",
   "execution_count": 2,
   "id": "innovative-syndrome",
   "metadata": {
    "execution": {
     "iopub.execute_input": "2021-10-24T18:00:08.441926Z",
     "iopub.status.busy": "2021-10-24T18:00:08.439543Z",
     "iopub.status.idle": "2021-10-24T18:00:09.074380Z",
     "shell.execute_reply": "2021-10-24T18:00:09.075667Z"
    },
    "papermill": {
     "duration": 0.664642,
     "end_time": "2021-10-24T18:00:09.076083",
     "exception": false,
     "start_time": "2021-10-24T18:00:08.411441",
     "status": "completed"
    },
    "tags": []
   },
   "outputs": [],
   "source": [
    "timestamps = pd.read_sql(\"select distinct record_time from EBAY_TOP_BERLIN order by record_time desc limit 2\", sqlite3.connect(\"UsedObjects.db\"))"
   ]
  },
  {
   "cell_type": "code",
   "execution_count": 3,
   "id": "periodic-identification",
   "metadata": {
    "execution": {
     "iopub.execute_input": "2021-10-24T18:00:09.148622Z",
     "iopub.status.busy": "2021-10-24T18:00:09.146388Z",
     "iopub.status.idle": "2021-10-24T18:00:09.167494Z",
     "shell.execute_reply": "2021-10-24T18:00:09.168606Z"
    },
    "papermill": {
     "duration": 0.068612,
     "end_time": "2021-10-24T18:00:09.169197",
     "exception": false,
     "start_time": "2021-10-24T18:00:09.100585",
     "status": "completed"
    },
    "tags": []
   },
   "outputs": [
    {
     "data": {
      "text/html": [
       "<div>\n",
       "<style scoped>\n",
       "    .dataframe tbody tr th:only-of-type {\n",
       "        vertical-align: middle;\n",
       "    }\n",
       "\n",
       "    .dataframe tbody tr th {\n",
       "        vertical-align: top;\n",
       "    }\n",
       "\n",
       "    .dataframe thead th {\n",
       "        text-align: right;\n",
       "    }\n",
       "</style>\n",
       "<table border=\"1\" class=\"dataframe\">\n",
       "  <thead>\n",
       "    <tr style=\"text-align: right;\">\n",
       "      <th></th>\n",
       "      <th>RECORD_TIME</th>\n",
       "    </tr>\n",
       "  </thead>\n",
       "  <tbody>\n",
       "    <tr>\n",
       "      <th>0</th>\n",
       "      <td>2021-10-24 20:00</td>\n",
       "    </tr>\n",
       "    <tr>\n",
       "      <th>1</th>\n",
       "      <td>2021-10-24 19:30</td>\n",
       "    </tr>\n",
       "  </tbody>\n",
       "</table>\n",
       "</div>"
      ],
      "text/plain": [
       "        RECORD_TIME\n",
       "0  2021-10-24 20:00\n",
       "1  2021-10-24 19:30"
      ]
     },
     "execution_count": 3,
     "metadata": {},
     "output_type": "execute_result"
    }
   ],
   "source": [
    "timestamps"
   ]
  },
  {
   "cell_type": "code",
   "execution_count": 4,
   "id": "alternate-victory",
   "metadata": {
    "execution": {
     "iopub.execute_input": "2021-10-24T18:00:09.222707Z",
     "iopub.status.busy": "2021-10-24T18:00:09.220308Z",
     "iopub.status.idle": "2021-10-24T18:00:10.137820Z",
     "shell.execute_reply": "2021-10-24T18:00:10.139029Z"
    },
    "papermill": {
     "duration": 0.947847,
     "end_time": "2021-10-24T18:00:10.139424",
     "exception": false,
     "start_time": "2021-10-24T18:00:09.191577",
     "status": "completed"
    },
    "tags": []
   },
   "outputs": [],
   "source": [
    "df = pd.read_sql(\"select * from EBAY_TOP_BERLIN where record_time in (select distinct record_time from EBAY_TOP_BERLIN order by record_time desc limit 2)\", sqlite3.connect(\"UsedObjects.db\"))"
   ]
  },
  {
   "cell_type": "code",
   "execution_count": 5,
   "id": "popular-active",
   "metadata": {
    "execution": {
     "iopub.execute_input": "2021-10-24T18:00:10.204791Z",
     "iopub.status.busy": "2021-10-24T18:00:10.195295Z",
     "iopub.status.idle": "2021-10-24T18:00:10.224782Z",
     "shell.execute_reply": "2021-10-24T18:00:10.226019Z"
    },
    "papermill": {
     "duration": 0.066577,
     "end_time": "2021-10-24T18:00:10.226416",
     "exception": false,
     "start_time": "2021-10-24T18:00:10.159839",
     "status": "completed"
    },
    "tags": []
   },
   "outputs": [],
   "source": [
    "df_pivot = df.pivot_table(index=\"PRODUCT\", columns = \"RECORD_TIME\", values = \"LISTING_COUNT\")"
   ]
  },
  {
   "cell_type": "code",
   "execution_count": 6,
   "id": "union-huntington",
   "metadata": {
    "execution": {
     "iopub.execute_input": "2021-10-24T18:00:10.281676Z",
     "iopub.status.busy": "2021-10-24T18:00:10.279623Z",
     "iopub.status.idle": "2021-10-24T18:00:10.284756Z",
     "shell.execute_reply": "2021-10-24T18:00:10.285880Z"
    },
    "papermill": {
     "duration": 0.039264,
     "end_time": "2021-10-24T18:00:10.286289",
     "exception": false,
     "start_time": "2021-10-24T18:00:10.247025",
     "status": "completed"
    },
    "tags": []
   },
   "outputs": [],
   "source": [
    "df_pivot.columns = [\"stamp_1\", \"stamp_2\"]\n",
    "df_pivot_diff = df_pivot.diff(axis=1)"
   ]
  },
  {
   "cell_type": "code",
   "execution_count": 7,
   "id": "fifth-motion",
   "metadata": {
    "execution": {
     "iopub.execute_input": "2021-10-24T18:00:10.339678Z",
     "iopub.status.busy": "2021-10-24T18:00:10.337294Z",
     "iopub.status.idle": "2021-10-24T18:00:11.862377Z",
     "shell.execute_reply": "2021-10-24T18:00:11.863648Z"
    },
    "papermill": {
     "duration": 1.557558,
     "end_time": "2021-10-24T18:00:11.864054",
     "exception": false,
     "start_time": "2021-10-24T18:00:10.306496",
     "status": "completed"
    },
    "tags": []
   },
   "outputs": [
    {
     "data": {
      "text/plain": [
       "<AxesSubplot:ylabel='PRODUCT'>"
      ]
     },
     "execution_count": 7,
     "metadata": {},
     "output_type": "execute_result"
    },
    {
     "data": {
      "image/png": "[encoded data removed]",
      "text/plain": [
       "<Figure size 432x288 with 1 Axes>"
      ]
     },
     "metadata": {
      "needs_background": "light"
     },
     "output_type": "display_data"
    }
   ],
   "source": [
    "df_pivot_diff.sort_values(\"stamp_2\", ascending = False)[\"stamp_2\"].head(10).plot.barh()"
   ]
  },
  {
   "cell_type": "code",
   "execution_count": null,
   "id": "extra-executive",
   "metadata": {
    "papermill": {
     "duration": 0.02179,
     "end_time": "2021-10-24T18:00:11.910531",
     "exception": false,
     "start_time": "2021-10-24T18:00:11.888741",
     "status": "completed"
    },
    "tags": []
   },
   "outputs": [],
   "source": []
  }
 ],
 "metadata": {
  "kernelspec": {
   "display_name": "Python 3",
   "language": "python",
   "name": "python3"
  },
  "language_info": {
   "codemirror_mode": {
    "name": "ipython",
    "version": 3
   },
   "file_extension": ".py",
   "mimetype": "text/x-python",
   "name": "python",
   "nbconvert_exporter": "python",
   "pygments_lexer": "ipython3",
   "version": "3.9.5"
  },
  "papermill": {
   "default_parameters": {},
   "duration": 7.455574,
   "end_time": "2021-10-24T18:00:12.552068",
   "environment_variables": {},
   "exception": null,
   "input_path": "eBay_Overview.ipynb",
   "output_path": "eBay_Overview.ipynb",
   "parameters": {},
   "start_time": "2021-10-24T18:00:05.096494",
   "version": "2.3.3"
  }
 },
 "nbformat": 4,
 "nbformat_minor": 5
}