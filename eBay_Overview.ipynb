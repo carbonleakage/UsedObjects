{
 "cells": [
  {
   "cell_type": "code",
   "execution_count": 1,
   "id": "reverse-picking",
   "metadata": {
    "execution": {
     "iopub.execute_input": "2021-08-11T15:30:04.493426Z",
     "iopub.status.busy": "2021-08-11T15:30:04.492661Z",
     "iopub.status.idle": "2021-08-11T15:30:05.109086Z",
     "shell.execute_reply": "2021-08-11T15:30:05.108241Z"
    },
    "papermill": {
     "duration": 0.635094,
     "end_time": "2021-08-11T15:30:05.109277",
     "exception": false,
     "start_time": "2021-08-11T15:30:04.474183",
     "status": "completed"
    },
    "tags": []
   },
   "outputs": [],
   "source": [
    "import pandas as pd\n",
    "import sqlite3"
   ]
  },
  {
   "cell_type": "code",
   "execution_count": 2,
   "id": "innovative-syndrome",
   "metadata": {
    "execution": {
     "iopub.execute_input": "2021-08-11T15:30:05.134057Z",
     "iopub.status.busy": "2021-08-11T15:30:05.133233Z",
     "iopub.status.idle": "2021-08-11T15:30:05.337286Z",
     "shell.execute_reply": "2021-08-11T15:30:05.337833Z"
    },
    "papermill": {
     "duration": 0.216831,
     "end_time": "2021-08-11T15:30:05.338011",
     "exception": false,
     "start_time": "2021-08-11T15:30:05.121180",
     "status": "completed"
    },
    "tags": []
   },
   "outputs": [],
   "source": [
    "timestamps = pd.read_sql(\"select distinct record_time from EBAY_TOP_BERLIN order by record_time desc limit 2\", sqlite3.connect(\"UsedObjects.db\"))"
   ]
  },
  {
   "cell_type": "code",
   "execution_count": 3,
   "id": "periodic-identification",
   "metadata": {
    "execution": {
     "iopub.execute_input": "2021-08-11T15:30:05.370801Z",
     "iopub.status.busy": "2021-08-11T15:30:05.370037Z",
     "iopub.status.idle": "2021-08-11T15:30:05.382968Z",
     "shell.execute_reply": "2021-08-11T15:30:05.382359Z"
    },
    "papermill": {
     "duration": 0.032644,
     "end_time": "2021-08-11T15:30:05.383129",
     "exception": false,
     "start_time": "2021-08-11T15:30:05.350485",
     "status": "completed"
    },
    "tags": []
   },
   "outputs": [
    {
     "data": {
      "text/html": [
       "<div>\n",
       "<style scoped>\n",
       "    .dataframe tbody tr th:only-of-type {\n",
       "        vertical-align: middle;\n",
       "    }\n",
       "\n",
       "    .dataframe tbody tr th {\n",
       "        vertical-align: top;\n",
       "    }\n",
       "\n",
       "    .dataframe thead th {\n",
       "        text-align: right;\n",
       "    }\n",
       "</style>\n",
       "<table border=\"1\" class=\"dataframe\">\n",
       "  <thead>\n",
       "    <tr style=\"text-align: right;\">\n",
       "      <th></th>\n",
       "      <th>RECORD_TIME</th>\n",
       "    </tr>\n",
       "  </thead>\n",
       "  <tbody>\n",
       "    <tr>\n",
       "      <th>0</th>\n",
       "      <td>2021-08-11 17:30</td>\n",
       "    </tr>\n",
       "    <tr>\n",
       "      <th>1</th>\n",
       "      <td>2021-08-11 17:00</td>\n",
       "    </tr>\n",
       "  </tbody>\n",
       "</table>\n",
       "</div>"
      ],
      "text/plain": [
       "        RECORD_TIME\n",
       "0  2021-08-11 17:30\n",
       "1  2021-08-11 17:00"
      ]
     },
     "execution_count": 3,
     "metadata": {},
     "output_type": "execute_result"
    }
   ],
   "source": [
    "timestamps"
   ]
  },
  {
   "cell_type": "code",
   "execution_count": 4,
   "id": "alternate-victory",
   "metadata": {
    "execution": {
     "iopub.execute_input": "2021-08-11T15:30:05.409962Z",
     "iopub.status.busy": "2021-08-11T15:30:05.409198Z",
     "iopub.status.idle": "2021-08-11T15:30:05.432777Z",
     "shell.execute_reply": "2021-08-11T15:30:05.431943Z"
    },
    "papermill": {
     "duration": 0.03731,
     "end_time": "2021-08-11T15:30:05.432974",
     "exception": false,
     "start_time": "2021-08-11T15:30:05.395664",
     "status": "completed"
    },
    "tags": []
   },
   "outputs": [],
   "source": [
    "df = pd.read_sql(\"select * from EBAY_TOP_BERLIN where record_time in (select distinct record_time from EBAY_TOP_BERLIN order by record_time desc limit 2)\", sqlite3.connect(\"UsedObjects.db\"))"
   ]
  },
  {
   "cell_type": "code",
   "execution_count": 5,
   "id": "popular-active",
   "metadata": {
    "execution": {
     "iopub.execute_input": "2021-08-11T15:30:05.468907Z",
     "iopub.status.busy": "2021-08-11T15:30:05.468123Z",
     "iopub.status.idle": "2021-08-11T15:30:05.491044Z",
     "shell.execute_reply": "2021-08-11T15:30:05.492080Z"
    },
    "papermill": {
     "duration": 0.048342,
     "end_time": "2021-08-11T15:30:05.492380",
     "exception": false,
     "start_time": "2021-08-11T15:30:05.444038",
     "status": "completed"
    },
    "tags": []
   },
   "outputs": [],
   "source": [
    "df_pivot = df.pivot_table(index=\"PRODUCT\", columns = \"RECORD_TIME\", values = \"LISTING_COUNT\")"
   ]
  },
  {
   "cell_type": "code",
   "execution_count": 6,
   "id": "union-huntington",
   "metadata": {
    "execution": {
     "iopub.execute_input": "2021-08-11T15:30:05.521310Z",
     "iopub.status.busy": "2021-08-11T15:30:05.520393Z",
     "iopub.status.idle": "2021-08-11T15:30:05.527006Z",
     "shell.execute_reply": "2021-08-11T15:30:05.525881Z"
    },
    "papermill": {
     "duration": 0.02449,
     "end_time": "2021-08-11T15:30:05.527281",
     "exception": false,
     "start_time": "2021-08-11T15:30:05.502791",
     "status": "completed"
    },
    "tags": []
   },
   "outputs": [],
   "source": [
    "df_pivot.columns = [\"stamp_1\", \"stamp_2\"]\n",
    "df_pivot_diff = df_pivot.diff(axis=1)"
   ]
  },
  {
   "cell_type": "code",
   "execution_count": 7,
   "id": "fifth-motion",
   "metadata": {
    "execution": {
     "iopub.execute_input": "2021-08-11T15:30:05.555440Z",
     "iopub.status.busy": "2021-08-11T15:30:05.554691Z",
     "iopub.status.idle": "2021-08-11T15:30:06.275316Z",
     "shell.execute_reply": "2021-08-11T15:30:06.275889Z"
    },
    "papermill": {
     "duration": 0.7378,
     "end_time": "2021-08-11T15:30:06.276080",
     "exception": false,
     "start_time": "2021-08-11T15:30:05.538280",
     "status": "completed"
    },
    "tags": []
   },
   "outputs": [
    {
     "data": {
      "text/plain": [
       "<AxesSubplot:ylabel='PRODUCT'>"
      ]
     },
     "execution_count": 7,
     "metadata": {},
     "output_type": "execute_result"
    },
    {
     "data": {
      "image/png": "[encoded data removed]",
      "text/plain": [
       "<Figure size 432x288 with 1 Axes>"
      ]
     },
     "metadata": {
      "needs_background": "light"
     },
     "output_type": "display_data"
    }
   ],
   "source": [
    "df_pivot_diff.sort_values(\"stamp_2\", ascending = False)[\"stamp_2\"].head(10).plot.barh()"
   ]
  },
  {
   "cell_type": "code",
   "execution_count": null,
   "id": "extra-executive",
   "metadata": {
    "papermill": {
     "duration": 0.012073,
     "end_time": "2021-08-11T15:30:06.298136",
     "exception": false,
     "start_time": "2021-08-11T15:30:06.286063",
     "status": "completed"
    },
    "tags": []
   },
   "outputs": [],
   "source": []
  }
 ],
 "metadata": {
  "kernelspec": {
   "display_name": "Python 3",
   "language": "python",
   "name": "python3"
  },
  "language_info": {
   "codemirror_mode": {
    "name": "ipython",
    "version": 3
   },
   "file_extension": ".py",
   "mimetype": "text/x-python",
   "name": "python",
   "nbconvert_exporter": "python",
   "pygments_lexer": "ipython3",
   "version": "3.8.8"
  },
  "papermill": {
   "default_parameters": {},
   "duration": 4.215143,
   "end_time": "2021-08-11T15:30:07.041913",
   "environment_variables": {},
   "exception": null,
   "input_path": "/Users/saravananshanmugam/Carbonleakage_Git/UsedObjects/eBay_Overview.ipynb",
   "output_path": "/Users/saravananshanmugam/Carbonleakage_Git/UsedObjects/eBay_Overview.ipynb",
   "parameters": {},
   "start_time": "2021-08-11T15:30:02.826770",
   "version": "2.3.3"
  }
 },
 "nbformat": 4,
 "nbformat_minor": 5
}