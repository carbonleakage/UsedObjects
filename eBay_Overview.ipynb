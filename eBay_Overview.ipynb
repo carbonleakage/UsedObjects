{
 "cells": [
  {
   "cell_type": "code",
   "execution_count": 1,
   "id": "reverse-picking",
   "metadata": {
    "execution": {
     "iopub.execute_input": "2021-09-28T03:30:06.864694Z",
     "iopub.status.busy": "2021-09-28T03:30:06.862645Z",
     "iopub.status.idle": "2021-09-28T03:30:07.674308Z",
     "shell.execute_reply": "2021-09-28T03:30:07.675819Z"
    },
    "papermill": {
     "duration": 0.863921,
     "end_time": "2021-09-28T03:30:07.676585",
     "exception": false,
     "start_time": "2021-09-28T03:30:06.812664",
     "status": "completed"
    },
    "tags": []
   },
   "outputs": [],
   "source": [
    "import pandas as pd\n",
    "import sqlite3"
   ]
  },
  {
   "cell_type": "code",
   "execution_count": 2,
   "id": "innovative-syndrome",
   "metadata": {
    "execution": {
     "iopub.execute_input": "2021-09-28T03:30:07.728797Z",
     "iopub.status.busy": "2021-09-28T03:30:07.726392Z",
     "iopub.status.idle": "2021-09-28T03:30:08.119033Z",
     "shell.execute_reply": "2021-09-28T03:30:08.120430Z"
    },
    "papermill": {
     "duration": 0.422858,
     "end_time": "2021-09-28T03:30:08.120872",
     "exception": false,
     "start_time": "2021-09-28T03:30:07.698014",
     "status": "completed"
    },
    "tags": []
   },
   "outputs": [],
   "source": [
    "timestamps = pd.read_sql(\"select distinct record_time from EBAY_TOP_BERLIN order by record_time desc limit 2\", sqlite3.connect(\"UsedObjects.db\"))"
   ]
  },
  {
   "cell_type": "code",
   "execution_count": 3,
   "id": "periodic-identification",
   "metadata": {
    "execution": {
     "iopub.execute_input": "2021-09-28T03:30:08.187795Z",
     "iopub.status.busy": "2021-09-28T03:30:08.185683Z",
     "iopub.status.idle": "2021-09-28T03:30:08.205841Z",
     "shell.execute_reply": "2021-09-28T03:30:08.207119Z"
    },
    "papermill": {
     "duration": 0.066792,
     "end_time": "2021-09-28T03:30:08.207560",
     "exception": false,
     "start_time": "2021-09-28T03:30:08.140768",
     "status": "completed"
    },
    "tags": []
   },
   "outputs": [
    {
     "data": {
      "text/html": [
       "<div>\n",
       "<style scoped>\n",
       "    .dataframe tbody tr th:only-of-type {\n",
       "        vertical-align: middle;\n",
       "    }\n",
       "\n",
       "    .dataframe tbody tr th {\n",
       "        vertical-align: top;\n",
       "    }\n",
       "\n",
       "    .dataframe thead th {\n",
       "        text-align: right;\n",
       "    }\n",
       "</style>\n",
       "<table border=\"1\" class=\"dataframe\">\n",
       "  <thead>\n",
       "    <tr style=\"text-align: right;\">\n",
       "      <th></th>\n",
       "      <th>RECORD_TIME</th>\n",
       "    </tr>\n",
       "  </thead>\n",
       "  <tbody>\n",
       "    <tr>\n",
       "      <th>0</th>\n",
       "      <td>2021-09-28 05:30</td>\n",
       "    </tr>\n",
       "    <tr>\n",
       "      <th>1</th>\n",
       "      <td>2021-09-28 05:00</td>\n",
       "    </tr>\n",
       "  </tbody>\n",
       "</table>\n",
       "</div>"
      ],
      "text/plain": [
       "        RECORD_TIME\n",
       "0  2021-09-28 05:30\n",
       "1  2021-09-28 05:00"
      ]
     },
     "execution_count": 3,
     "metadata": {},
     "output_type": "execute_result"
    }
   ],
   "source": [
    "timestamps"
   ]
  },
  {
   "cell_type": "code",
   "execution_count": 4,
   "id": "alternate-victory",
   "metadata": {
    "execution": {
     "iopub.execute_input": "2021-09-28T03:30:08.261800Z",
     "iopub.status.busy": "2021-09-28T03:30:08.259789Z",
     "iopub.status.idle": "2021-09-28T03:30:08.836523Z",
     "shell.execute_reply": "2021-09-28T03:30:08.837741Z"
    },
    "papermill": {
     "duration": 0.6072,
     "end_time": "2021-09-28T03:30:08.838142",
     "exception": false,
     "start_time": "2021-09-28T03:30:08.230942",
     "status": "completed"
    },
    "tags": []
   },
   "outputs": [],
   "source": [
    "df = pd.read_sql(\"select * from EBAY_TOP_BERLIN where record_time in (select distinct record_time from EBAY_TOP_BERLIN order by record_time desc limit 2)\", sqlite3.connect(\"UsedObjects.db\"))"
   ]
  },
  {
   "cell_type": "code",
   "execution_count": 5,
   "id": "popular-active",
   "metadata": {
    "execution": {
     "iopub.execute_input": "2021-09-28T03:30:08.910719Z",
     "iopub.status.busy": "2021-09-28T03:30:08.898173Z",
     "iopub.status.idle": "2021-09-28T03:30:08.928940Z",
     "shell.execute_reply": "2021-09-28T03:30:08.930303Z"
    },
    "papermill": {
     "duration": 0.070641,
     "end_time": "2021-09-28T03:30:08.930743",
     "exception": false,
     "start_time": "2021-09-28T03:30:08.860102",
     "status": "completed"
    },
    "tags": []
   },
   "outputs": [],
   "source": [
    "df_pivot = df.pivot_table(index=\"PRODUCT\", columns = \"RECORD_TIME\", values = \"LISTING_COUNT\")"
   ]
  },
  {
   "cell_type": "code",
   "execution_count": 6,
   "id": "union-huntington",
   "metadata": {
    "execution": {
     "iopub.execute_input": "2021-09-28T03:30:08.987744Z",
     "iopub.status.busy": "2021-09-28T03:30:08.985635Z",
     "iopub.status.idle": "2021-09-28T03:30:08.991029Z",
     "shell.execute_reply": "2021-09-28T03:30:08.992335Z"
    },
    "papermill": {
     "duration": 0.040988,
     "end_time": "2021-09-28T03:30:08.992752",
     "exception": false,
     "start_time": "2021-09-28T03:30:08.951764",
     "status": "completed"
    },
    "tags": []
   },
   "outputs": [],
   "source": [
    "df_pivot.columns = [\"stamp_1\", \"stamp_2\"]\n",
    "df_pivot_diff = df_pivot.diff(axis=1)"
   ]
  },
  {
   "cell_type": "code",
   "execution_count": 7,
   "id": "fifth-motion",
   "metadata": {
    "execution": {
     "iopub.execute_input": "2021-09-28T03:30:09.048008Z",
     "iopub.status.busy": "2021-09-28T03:30:09.045405Z",
     "iopub.status.idle": "2021-09-28T03:30:10.528492Z",
     "shell.execute_reply": "2021-09-28T03:30:10.529782Z"
    },
    "papermill": {
     "duration": 1.516073,
     "end_time": "2021-09-28T03:30:10.530204",
     "exception": false,
     "start_time": "2021-09-28T03:30:09.014131",
     "status": "completed"
    },
    "tags": []
   },
   "outputs": [
    {
     "data": {
      "text/plain": [
       "<AxesSubplot:ylabel='PRODUCT'>"
      ]
     },
     "execution_count": 7,
     "metadata": {},
     "output_type": "execute_result"
    },
    {
     "data": {
      "image/png": "[encoded data removed]",
      "text/plain": [
       "<Figure size 432x288 with 1 Axes>"
      ]
     },
     "metadata": {
      "needs_background": "light"
     },
     "output_type": "display_data"
    }
   ],
   "source": [
    "df_pivot_diff.sort_values(\"stamp_2\", ascending = False)[\"stamp_2\"].head(10).plot.barh()"
   ]
  },
  {
   "cell_type": "code",
   "execution_count": null,
   "id": "extra-executive",
   "metadata": {
    "papermill": {
     "duration": 0.022304,
     "end_time": "2021-09-28T03:30:10.576442",
     "exception": false,
     "start_time": "2021-09-28T03:30:10.554138",
     "status": "completed"
    },
    "tags": []
   },
   "outputs": [],
   "source": []
  }
 ],
 "metadata": {
  "kernelspec": {
   "display_name": "Python 3",
   "language": "python",
   "name": "python3"
  },
  "language_info": {
   "codemirror_mode": {
    "name": "ipython",
    "version": 3
   },
   "file_extension": ".py",
   "mimetype": "text/x-python",
   "name": "python",
   "nbconvert_exporter": "python",
   "pygments_lexer": "ipython3",
   "version": "3.9.5"
  },
  "papermill": {
   "default_parameters": {},
   "duration": 6.820393,
   "end_time": "2021-09-28T03:30:11.218594",
   "environment_variables": {},
   "exception": null,
   "input_path": "eBay_Overview.ipynb",
   "output_path": "eBay_Overview.ipynb",
   "parameters": {},
   "start_time": "2021-09-28T03:30:04.398201",
   "version": "2.3.3"
  }
 },
 "nbformat": 4,
 "nbformat_minor": 5
}