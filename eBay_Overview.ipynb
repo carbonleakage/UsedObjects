{
 "cells": [
  {
   "cell_type": "code",
   "execution_count": 1,
   "id": "reverse-picking",
   "metadata": {
    "execution": {
     "iopub.execute_input": "2021-12-21T07:30:07.887466Z",
     "iopub.status.busy": "2021-12-21T07:30:07.884936Z",
     "iopub.status.idle": "2021-12-21T07:30:08.830319Z",
     "shell.execute_reply": "2021-12-21T07:30:08.831962Z"
    },
    "papermill": {
     "duration": 0.995937,
     "end_time": "2021-12-21T07:30:08.832734",
     "exception": false,
     "start_time": "2021-12-21T07:30:07.836797",
     "status": "completed"
    },
    "tags": []
   },
   "outputs": [],
   "source": [
    "import pandas as pd\n",
    "import sqlite3"
   ]
  },
  {
   "cell_type": "code",
   "execution_count": 2,
   "id": "innovative-syndrome",
   "metadata": {
    "execution": {
     "iopub.execute_input": "2021-12-21T07:30:08.896946Z",
     "iopub.status.busy": "2021-12-21T07:30:08.894599Z",
     "iopub.status.idle": "2021-12-21T07:30:10.076399Z",
     "shell.execute_reply": "2021-12-21T07:30:10.074848Z"
    },
    "papermill": {
     "duration": 1.214653,
     "end_time": "2021-12-21T07:30:10.076843",
     "exception": false,
     "start_time": "2021-12-21T07:30:08.862190",
     "status": "completed"
    },
    "tags": []
   },
   "outputs": [],
   "source": [
    "timestamps = pd.read_sql(\"select distinct record_time from EBAY_TOP_BERLIN order by record_time desc limit 2\", sqlite3.connect(\"UsedObjects.db\"))"
   ]
  },
  {
   "cell_type": "code",
   "execution_count": 3,
   "id": "periodic-identification",
   "metadata": {
    "execution": {
     "iopub.execute_input": "2021-12-21T07:30:10.140972Z",
     "iopub.status.busy": "2021-12-21T07:30:10.138796Z",
     "iopub.status.idle": "2021-12-21T07:30:10.159507Z",
     "shell.execute_reply": "2021-12-21T07:30:10.160892Z"
    },
    "papermill": {
     "duration": 0.064632,
     "end_time": "2021-12-21T07:30:10.161370",
     "exception": false,
     "start_time": "2021-12-21T07:30:10.096738",
     "status": "completed"
    },
    "tags": []
   },
   "outputs": [
    {
     "data": {
      "text/html": [
       "<div>\n",
       "<style scoped>\n",
       "    .dataframe tbody tr th:only-of-type {\n",
       "        vertical-align: middle;\n",
       "    }\n",
       "\n",
       "    .dataframe tbody tr th {\n",
       "        vertical-align: top;\n",
       "    }\n",
       "\n",
       "    .dataframe thead th {\n",
       "        text-align: right;\n",
       "    }\n",
       "</style>\n",
       "<table border=\"1\" class=\"dataframe\">\n",
       "  <thead>\n",
       "    <tr style=\"text-align: right;\">\n",
       "      <th></th>\n",
       "      <th>RECORD_TIME</th>\n",
       "    </tr>\n",
       "  </thead>\n",
       "  <tbody>\n",
       "    <tr>\n",
       "      <th>0</th>\n",
       "      <td>2021-12-21 08:30</td>\n",
       "    </tr>\n",
       "    <tr>\n",
       "      <th>1</th>\n",
       "      <td>2021-12-21 08:00</td>\n",
       "    </tr>\n",
       "  </tbody>\n",
       "</table>\n",
       "</div>"
      ],
      "text/plain": [
       "        RECORD_TIME\n",
       "0  2021-12-21 08:30\n",
       "1  2021-12-21 08:00"
      ]
     },
     "execution_count": 3,
     "metadata": {},
     "output_type": "execute_result"
    }
   ],
   "source": [
    "timestamps"
   ]
  },
  {
   "cell_type": "code",
   "execution_count": 4,
   "id": "alternate-victory",
   "metadata": {
    "execution": {
     "iopub.execute_input": "2021-12-21T07:30:10.212779Z",
     "iopub.status.busy": "2021-12-21T07:30:10.210861Z",
     "iopub.status.idle": "2021-12-21T07:30:11.874624Z",
     "shell.execute_reply": "2021-12-21T07:30:11.876169Z"
    },
    "papermill": {
     "duration": 1.694109,
     "end_time": "2021-12-21T07:30:11.876746",
     "exception": false,
     "start_time": "2021-12-21T07:30:10.182637",
     "status": "completed"
    },
    "tags": []
   },
   "outputs": [],
   "source": [
    "df = pd.read_sql(\"select * from EBAY_TOP_BERLIN where record_time in (select distinct record_time from EBAY_TOP_BERLIN order by record_time desc limit 2)\", sqlite3.connect(\"UsedObjects.db\"))"
   ]
  },
  {
   "cell_type": "code",
   "execution_count": 5,
   "id": "popular-active",
   "metadata": {
    "execution": {
     "iopub.execute_input": "2021-12-21T07:30:11.954534Z",
     "iopub.status.busy": "2021-12-21T07:30:11.941155Z",
     "iopub.status.idle": "2021-12-21T07:30:11.972589Z",
     "shell.execute_reply": "2021-12-21T07:30:11.974035Z"
    },
    "papermill": {
     "duration": 0.074972,
     "end_time": "2021-12-21T07:30:11.974515",
     "exception": false,
     "start_time": "2021-12-21T07:30:11.899543",
     "status": "completed"
    },
    "tags": []
   },
   "outputs": [],
   "source": [
    "df_pivot = df.pivot_table(index=\"PRODUCT\", columns = \"RECORD_TIME\", values = \"LISTING_COUNT\")"
   ]
  },
  {
   "cell_type": "code",
   "execution_count": 6,
   "id": "union-huntington",
   "metadata": {
    "execution": {
     "iopub.execute_input": "2021-12-21T07:30:12.032488Z",
     "iopub.status.busy": "2021-12-21T07:30:12.030223Z",
     "iopub.status.idle": "2021-12-21T07:30:12.035868Z",
     "shell.execute_reply": "2021-12-21T07:30:12.037332Z"
    },
    "papermill": {
     "duration": 0.043526,
     "end_time": "2021-12-21T07:30:12.037820",
     "exception": false,
     "start_time": "2021-12-21T07:30:11.994294",
     "status": "completed"
    },
    "tags": []
   },
   "outputs": [],
   "source": [
    "df_pivot.columns = [\"stamp_1\", \"stamp_2\"]\n",
    "df_pivot_diff = df_pivot.diff(axis=1)"
   ]
  },
  {
   "cell_type": "code",
   "execution_count": 7,
   "id": "fifth-motion",
   "metadata": {
    "execution": {
     "iopub.execute_input": "2021-12-21T07:30:12.097600Z",
     "iopub.status.busy": "2021-12-21T07:30:12.095007Z",
     "iopub.status.idle": "2021-12-21T07:30:14.098804Z",
     "shell.execute_reply": "2021-12-21T07:30:14.100276Z"
    },
    "papermill": {
     "duration": 2.041854,
     "end_time": "2021-12-21T07:30:14.100810",
     "exception": false,
     "start_time": "2021-12-21T07:30:12.058956",
     "status": "completed"
    },
    "tags": []
   },
   "outputs": [
    {
     "data": {
      "text/plain": [
       "<AxesSubplot:ylabel='PRODUCT'>"
      ]
     },
     "execution_count": 7,
     "metadata": {},
     "output_type": "execute_result"
    },
    {
     "data": {
      "image/png": "[encoded data removed]",
      "text/plain": [
       "<Figure size 432x288 with 1 Axes>"
      ]
     },
     "metadata": {
      "needs_background": "light"
     },
     "output_type": "display_data"
    }
   ],
   "source": [
    "df_pivot_diff.sort_values(\"stamp_2\", ascending = False)[\"stamp_2\"].head(10).plot.barh()"
   ]
  },
  {
   "cell_type": "code",
   "execution_count": null,
   "id": "extra-executive",
   "metadata": {
    "papermill": {
     "duration": 0.022055,
     "end_time": "2021-12-21T07:30:14.147421",
     "exception": false,
     "start_time": "2021-12-21T07:30:14.125366",
     "status": "completed"
    },
    "tags": []
   },
   "outputs": [],
   "source": []
  }
 ],
 "metadata": {
  "kernelspec": {
   "display_name": "Python 3",
   "language": "python",
   "name": "python3"
  },
  "language_info": {
   "codemirror_mode": {
    "name": "ipython",
    "version": 3
   },
   "file_extension": ".py",
   "mimetype": "text/x-python",
   "name": "python",
   "nbconvert_exporter": "python",
   "pygments_lexer": "ipython3",
   "version": "3.9.5"
  },
  "papermill": {
   "default_parameters": {},
   "duration": 9.688086,
   "end_time": "2021-12-21T07:30:14.789582",
   "environment_variables": {},
   "exception": null,
   "input_path": "eBay_Overview.ipynb",
   "output_path": "eBay_Overview.ipynb",
   "parameters": {},
   "start_time": "2021-12-21T07:30:05.101496",
   "version": "2.3.3"
  }
 },
 "nbformat": 4,
 "nbformat_minor": 5
}