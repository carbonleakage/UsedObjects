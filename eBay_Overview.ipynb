{
 "cells": [
  {
   "cell_type": "code",
   "execution_count": 1,
   "id": "reverse-picking",
   "metadata": {
    "execution": {
     "iopub.execute_input": "2021-11-07T15:30:07.244047Z",
     "iopub.status.busy": "2021-11-07T15:30:07.241755Z",
     "iopub.status.idle": "2021-11-07T15:30:08.196579Z",
     "shell.execute_reply": "2021-11-07T15:30:08.198355Z"
    },
    "papermill": {
     "duration": 1.004363,
     "end_time": "2021-11-07T15:30:08.199066",
     "exception": false,
     "start_time": "2021-11-07T15:30:07.194703",
     "status": "completed"
    },
    "tags": []
   },
   "outputs": [],
   "source": [
    "import pandas as pd\n",
    "import sqlite3"
   ]
  },
  {
   "cell_type": "code",
   "execution_count": 2,
   "id": "innovative-syndrome",
   "metadata": {
    "execution": {
     "iopub.execute_input": "2021-11-07T15:30:08.262530Z",
     "iopub.status.busy": "2021-11-07T15:30:08.260199Z",
     "iopub.status.idle": "2021-11-07T15:30:08.997784Z",
     "shell.execute_reply": "2021-11-07T15:30:08.999521Z"
    },
    "papermill": {
     "duration": 0.773662,
     "end_time": "2021-11-07T15:30:09.000053",
     "exception": false,
     "start_time": "2021-11-07T15:30:08.226391",
     "status": "completed"
    },
    "tags": []
   },
   "outputs": [],
   "source": [
    "timestamps = pd.read_sql(\"select distinct record_time from EBAY_TOP_BERLIN order by record_time desc limit 2\", sqlite3.connect(\"UsedObjects.db\"))"
   ]
  },
  {
   "cell_type": "code",
   "execution_count": 3,
   "id": "periodic-identification",
   "metadata": {
    "execution": {
     "iopub.execute_input": "2021-11-07T15:30:09.072519Z",
     "iopub.status.busy": "2021-11-07T15:30:09.070195Z",
     "iopub.status.idle": "2021-11-07T15:30:09.093251Z",
     "shell.execute_reply": "2021-11-07T15:30:09.094620Z"
    },
    "papermill": {
     "duration": 0.073168,
     "end_time": "2021-11-07T15:30:09.095117",
     "exception": false,
     "start_time": "2021-11-07T15:30:09.021949",
     "status": "completed"
    },
    "tags": []
   },
   "outputs": [
    {
     "data": {
      "text/html": [
       "<div>\n",
       "<style scoped>\n",
       "    .dataframe tbody tr th:only-of-type {\n",
       "        vertical-align: middle;\n",
       "    }\n",
       "\n",
       "    .dataframe tbody tr th {\n",
       "        vertical-align: top;\n",
       "    }\n",
       "\n",
       "    .dataframe thead th {\n",
       "        text-align: right;\n",
       "    }\n",
       "</style>\n",
       "<table border=\"1\" class=\"dataframe\">\n",
       "  <thead>\n",
       "    <tr style=\"text-align: right;\">\n",
       "      <th></th>\n",
       "      <th>RECORD_TIME</th>\n",
       "    </tr>\n",
       "  </thead>\n",
       "  <tbody>\n",
       "    <tr>\n",
       "      <th>0</th>\n",
       "      <td>2021-11-07 16:30</td>\n",
       "    </tr>\n",
       "    <tr>\n",
       "      <th>1</th>\n",
       "      <td>2021-11-07 16:00</td>\n",
       "    </tr>\n",
       "  </tbody>\n",
       "</table>\n",
       "</div>"
      ],
      "text/plain": [
       "        RECORD_TIME\n",
       "0  2021-11-07 16:30\n",
       "1  2021-11-07 16:00"
      ]
     },
     "execution_count": 3,
     "metadata": {},
     "output_type": "execute_result"
    }
   ],
   "source": [
    "timestamps"
   ]
  },
  {
   "cell_type": "code",
   "execution_count": 4,
   "id": "alternate-victory",
   "metadata": {
    "execution": {
     "iopub.execute_input": "2021-11-07T15:30:09.152217Z",
     "iopub.status.busy": "2021-11-07T15:30:09.149936Z",
     "iopub.status.idle": "2021-11-07T15:30:10.226504Z",
     "shell.execute_reply": "2021-11-07T15:30:10.227813Z"
    },
    "papermill": {
     "duration": 1.110444,
     "end_time": "2021-11-07T15:30:10.228228",
     "exception": false,
     "start_time": "2021-11-07T15:30:09.117784",
     "status": "completed"
    },
    "tags": []
   },
   "outputs": [],
   "source": [
    "df = pd.read_sql(\"select * from EBAY_TOP_BERLIN where record_time in (select distinct record_time from EBAY_TOP_BERLIN order by record_time desc limit 2)\", sqlite3.connect(\"UsedObjects.db\"))"
   ]
  },
  {
   "cell_type": "code",
   "execution_count": 5,
   "id": "popular-active",
   "metadata": {
    "execution": {
     "iopub.execute_input": "2021-11-07T15:30:10.298075Z",
     "iopub.status.busy": "2021-11-07T15:30:10.286123Z",
     "iopub.status.idle": "2021-11-07T15:30:10.314561Z",
     "shell.execute_reply": "2021-11-07T15:30:10.315935Z"
    },
    "papermill": {
     "duration": 0.067854,
     "end_time": "2021-11-07T15:30:10.316371",
     "exception": false,
     "start_time": "2021-11-07T15:30:10.248517",
     "status": "completed"
    },
    "tags": []
   },
   "outputs": [],
   "source": [
    "df_pivot = df.pivot_table(index=\"PRODUCT\", columns = \"RECORD_TIME\", values = \"LISTING_COUNT\")"
   ]
  },
  {
   "cell_type": "code",
   "execution_count": 6,
   "id": "union-huntington",
   "metadata": {
    "execution": {
     "iopub.execute_input": "2021-11-07T15:30:10.378546Z",
     "iopub.status.busy": "2021-11-07T15:30:10.376270Z",
     "iopub.status.idle": "2021-11-07T15:30:10.381531Z",
     "shell.execute_reply": "2021-11-07T15:30:10.382920Z"
    },
    "papermill": {
     "duration": 0.043814,
     "end_time": "2021-11-07T15:30:10.383395",
     "exception": false,
     "start_time": "2021-11-07T15:30:10.339581",
     "status": "completed"
    },
    "tags": []
   },
   "outputs": [],
   "source": [
    "df_pivot.columns = [\"stamp_1\", \"stamp_2\"]\n",
    "df_pivot_diff = df_pivot.diff(axis=1)"
   ]
  },
  {
   "cell_type": "code",
   "execution_count": 7,
   "id": "fifth-motion",
   "metadata": {
    "execution": {
     "iopub.execute_input": "2021-11-07T15:30:10.443441Z",
     "iopub.status.busy": "2021-11-07T15:30:10.440758Z",
     "iopub.status.idle": "2021-11-07T15:30:12.199115Z",
     "shell.execute_reply": "2021-11-07T15:30:12.200835Z"
    },
    "papermill": {
     "duration": 1.79665,
     "end_time": "2021-11-07T15:30:12.201374",
     "exception": false,
     "start_time": "2021-11-07T15:30:10.404724",
     "status": "completed"
    },
    "tags": []
   },
   "outputs": [
    {
     "data": {
      "text/plain": [
       "<AxesSubplot:ylabel='PRODUCT'>"
      ]
     },
     "execution_count": 7,
     "metadata": {},
     "output_type": "execute_result"
    },
    {
     "data": {
      "image/png": "[encoded data removed]",
      "text/plain": [
       "<Figure size 432x288 with 1 Axes>"
      ]
     },
     "metadata": {
      "needs_background": "light"
     },
     "output_type": "display_data"
    }
   ],
   "source": [
    "df_pivot_diff.sort_values(\"stamp_2\", ascending = False)[\"stamp_2\"].head(10).plot.barh()"
   ]
  },
  {
   "cell_type": "code",
   "execution_count": null,
   "id": "extra-executive",
   "metadata": {
    "papermill": {
     "duration": 0.023394,
     "end_time": "2021-11-07T15:30:12.251597",
     "exception": false,
     "start_time": "2021-11-07T15:30:12.228203",
     "status": "completed"
    },
    "tags": []
   },
   "outputs": [],
   "source": []
  }
 ],
 "metadata": {
  "kernelspec": {
   "display_name": "Python 3",
   "language": "python",
   "name": "python3"
  },
  "language_info": {
   "codemirror_mode": {
    "name": "ipython",
    "version": 3
   },
   "file_extension": ".py",
   "mimetype": "text/x-python",
   "name": "python",
   "nbconvert_exporter": "python",
   "pygments_lexer": "ipython3",
   "version": "3.9.5"
  },
  "papermill": {
   "default_parameters": {},
   "duration": 8.647656,
   "end_time": "2021-11-07T15:30:12.995710",
   "environment_variables": {},
   "exception": null,
   "input_path": "eBay_Overview.ipynb",
   "output_path": "eBay_Overview.ipynb",
   "parameters": {},
   "start_time": "2021-11-07T15:30:04.348054",
   "version": "2.3.3"
  }
 },
 "nbformat": 4,
 "nbformat_minor": 5
}