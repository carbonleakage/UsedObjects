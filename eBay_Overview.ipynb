{
 "cells": [
  {
   "cell_type": "code",
   "execution_count": 1,
   "id": "reverse-picking",
   "metadata": {
    "execution": {
     "iopub.execute_input": "2021-11-19T02:00:07.102625Z",
     "iopub.status.busy": "2021-11-19T02:00:07.100313Z",
     "iopub.status.idle": "2021-11-19T02:00:08.036060Z",
     "shell.execute_reply": "2021-11-19T02:00:08.037744Z"
    },
    "papermill": {
     "duration": 0.993981,
     "end_time": "2021-11-19T02:00:08.038505",
     "exception": false,
     "start_time": "2021-11-19T02:00:07.044524",
     "status": "completed"
    },
    "tags": []
   },
   "outputs": [],
   "source": [
    "import pandas as pd\n",
    "import sqlite3"
   ]
  },
  {
   "cell_type": "code",
   "execution_count": 2,
   "id": "innovative-syndrome",
   "metadata": {
    "execution": {
     "iopub.execute_input": "2021-11-19T02:00:08.094836Z",
     "iopub.status.busy": "2021-11-19T02:00:08.092217Z",
     "iopub.status.idle": "2021-11-19T02:00:08.941444Z",
     "shell.execute_reply": "2021-11-19T02:00:08.942997Z"
    },
    "papermill": {
     "duration": 0.883287,
     "end_time": "2021-11-19T02:00:08.943482",
     "exception": false,
     "start_time": "2021-11-19T02:00:08.060195",
     "status": "completed"
    },
    "tags": []
   },
   "outputs": [],
   "source": [
    "timestamps = pd.read_sql(\"select distinct record_time from EBAY_TOP_BERLIN order by record_time desc limit 2\", sqlite3.connect(\"UsedObjects.db\"))"
   ]
  },
  {
   "cell_type": "code",
   "execution_count": 3,
   "id": "periodic-identification",
   "metadata": {
    "execution": {
     "iopub.execute_input": "2021-11-19T02:00:09.014029Z",
     "iopub.status.busy": "2021-11-19T02:00:09.011603Z",
     "iopub.status.idle": "2021-11-19T02:00:09.035759Z",
     "shell.execute_reply": "2021-11-19T02:00:09.037390Z"
    },
    "papermill": {
     "duration": 0.07371,
     "end_time": "2021-11-19T02:00:09.037905",
     "exception": false,
     "start_time": "2021-11-19T02:00:08.964195",
     "status": "completed"
    },
    "tags": []
   },
   "outputs": [
    {
     "data": {
      "text/html": [
       "<div>\n",
       "<style scoped>\n",
       "    .dataframe tbody tr th:only-of-type {\n",
       "        vertical-align: middle;\n",
       "    }\n",
       "\n",
       "    .dataframe tbody tr th {\n",
       "        vertical-align: top;\n",
       "    }\n",
       "\n",
       "    .dataframe thead th {\n",
       "        text-align: right;\n",
       "    }\n",
       "</style>\n",
       "<table border=\"1\" class=\"dataframe\">\n",
       "  <thead>\n",
       "    <tr style=\"text-align: right;\">\n",
       "      <th></th>\n",
       "      <th>RECORD_TIME</th>\n",
       "    </tr>\n",
       "  </thead>\n",
       "  <tbody>\n",
       "    <tr>\n",
       "      <th>0</th>\n",
       "      <td>2021-11-19 03:00</td>\n",
       "    </tr>\n",
       "    <tr>\n",
       "      <th>1</th>\n",
       "      <td>2021-11-19 02:30</td>\n",
       "    </tr>\n",
       "  </tbody>\n",
       "</table>\n",
       "</div>"
      ],
      "text/plain": [
       "        RECORD_TIME\n",
       "0  2021-11-19 03:00\n",
       "1  2021-11-19 02:30"
      ]
     },
     "execution_count": 3,
     "metadata": {},
     "output_type": "execute_result"
    }
   ],
   "source": [
    "timestamps"
   ]
  },
  {
   "cell_type": "code",
   "execution_count": 4,
   "id": "alternate-victory",
   "metadata": {
    "execution": {
     "iopub.execute_input": "2021-11-19T02:00:09.092942Z",
     "iopub.status.busy": "2021-11-19T02:00:09.090712Z",
     "iopub.status.idle": "2021-11-19T02:00:10.323062Z",
     "shell.execute_reply": "2021-11-19T02:00:10.324366Z"
    },
    "papermill": {
     "duration": 1.265806,
     "end_time": "2021-11-19T02:00:10.324874",
     "exception": false,
     "start_time": "2021-11-19T02:00:09.059068",
     "status": "completed"
    },
    "tags": []
   },
   "outputs": [],
   "source": [
    "df = pd.read_sql(\"select * from EBAY_TOP_BERLIN where record_time in (select distinct record_time from EBAY_TOP_BERLIN order by record_time desc limit 2)\", sqlite3.connect(\"UsedObjects.db\"))"
   ]
  },
  {
   "cell_type": "code",
   "execution_count": 5,
   "id": "popular-active",
   "metadata": {
    "execution": {
     "iopub.execute_input": "2021-11-19T02:00:10.394279Z",
     "iopub.status.busy": "2021-11-19T02:00:10.382844Z",
     "iopub.status.idle": "2021-11-19T02:00:10.410005Z",
     "shell.execute_reply": "2021-11-19T02:00:10.411282Z"
    },
    "papermill": {
     "duration": 0.065977,
     "end_time": "2021-11-19T02:00:10.411686",
     "exception": false,
     "start_time": "2021-11-19T02:00:10.345709",
     "status": "completed"
    },
    "tags": []
   },
   "outputs": [],
   "source": [
    "df_pivot = df.pivot_table(index=\"PRODUCT\", columns = \"RECORD_TIME\", values = \"LISTING_COUNT\")"
   ]
  },
  {
   "cell_type": "code",
   "execution_count": 6,
   "id": "union-huntington",
   "metadata": {
    "execution": {
     "iopub.execute_input": "2021-11-19T02:00:10.469113Z",
     "iopub.status.busy": "2021-11-19T02:00:10.466824Z",
     "iopub.status.idle": "2021-11-19T02:00:10.474119Z",
     "shell.execute_reply": "2021-11-19T02:00:10.472463Z"
    },
    "papermill": {
     "duration": 0.042877,
     "end_time": "2021-11-19T02:00:10.474530",
     "exception": false,
     "start_time": "2021-11-19T02:00:10.431653",
     "status": "completed"
    },
    "tags": []
   },
   "outputs": [],
   "source": [
    "df_pivot.columns = [\"stamp_1\", \"stamp_2\"]\n",
    "df_pivot_diff = df_pivot.diff(axis=1)"
   ]
  },
  {
   "cell_type": "code",
   "execution_count": 7,
   "id": "fifth-motion",
   "metadata": {
    "execution": {
     "iopub.execute_input": "2021-11-19T02:00:10.533771Z",
     "iopub.status.busy": "2021-11-19T02:00:10.531066Z",
     "iopub.status.idle": "2021-11-19T02:00:12.306816Z",
     "shell.execute_reply": "2021-11-19T02:00:12.308297Z"
    },
    "papermill": {
     "duration": 1.814222,
     "end_time": "2021-11-19T02:00:12.308929",
     "exception": false,
     "start_time": "2021-11-19T02:00:10.494707",
     "status": "completed"
    },
    "tags": []
   },
   "outputs": [
    {
     "data": {
      "text/plain": [
       "<AxesSubplot:ylabel='PRODUCT'>"
      ]
     },
     "execution_count": 7,
     "metadata": {},
     "output_type": "execute_result"
    },
    {
     "data": {
      "image/png": "[encoded data removed]",
      "text/plain": [
       "<Figure size 432x288 with 1 Axes>"
      ]
     },
     "metadata": {
      "needs_background": "light"
     },
     "output_type": "display_data"
    }
   ],
   "source": [
    "df_pivot_diff.sort_values(\"stamp_2\", ascending = False)[\"stamp_2\"].head(10).plot.barh()"
   ]
  },
  {
   "cell_type": "code",
   "execution_count": null,
   "id": "extra-executive",
   "metadata": {
    "papermill": {
     "duration": 0.023044,
     "end_time": "2021-11-19T02:00:12.357312",
     "exception": false,
     "start_time": "2021-11-19T02:00:12.334268",
     "status": "completed"
    },
    "tags": []
   },
   "outputs": [],
   "source": []
  }
 ],
 "metadata": {
  "kernelspec": {
   "display_name": "Python 3",
   "language": "python",
   "name": "python3"
  },
  "language_info": {
   "codemirror_mode": {
    "name": "ipython",
    "version": 3
   },
   "file_extension": ".py",
   "mimetype": "text/x-python",
   "name": "python",
   "nbconvert_exporter": "python",
   "pygments_lexer": "ipython3",
   "version": "3.9.5"
  },
  "papermill": {
   "default_parameters": {},
   "duration": 8.812254,
   "end_time": "2021-11-19T02:00:13.101074",
   "environment_variables": {},
   "exception": null,
   "input_path": "eBay_Overview.ipynb",
   "output_path": "eBay_Overview.ipynb",
   "parameters": {},
   "start_time": "2021-11-19T02:00:04.288820",
   "version": "2.3.3"
  }
 },
 "nbformat": 4,
 "nbformat_minor": 5
}