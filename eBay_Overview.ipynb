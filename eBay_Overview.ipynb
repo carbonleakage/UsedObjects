{
 "cells": [
  {
   "cell_type": "code",
   "execution_count": 1,
   "id": "reverse-picking",
   "metadata": {
    "execution": {
     "iopub.execute_input": "2021-12-08T11:00:09.611278Z",
     "iopub.status.busy": "2021-12-08T11:00:09.609161Z",
     "iopub.status.idle": "2021-12-08T11:00:10.552839Z",
     "shell.execute_reply": "2021-12-08T11:00:10.554437Z"
    },
    "papermill": {
     "duration": 0.993391,
     "end_time": "2021-12-08T11:00:10.555187",
     "exception": false,
     "start_time": "2021-12-08T11:00:09.561796",
     "status": "completed"
    },
    "tags": []
   },
   "outputs": [],
   "source": [
    "import pandas as pd\n",
    "import sqlite3"
   ]
  },
  {
   "cell_type": "code",
   "execution_count": 2,
   "id": "innovative-syndrome",
   "metadata": {
    "execution": {
     "iopub.execute_input": "2021-12-08T11:00:10.619002Z",
     "iopub.status.busy": "2021-12-08T11:00:10.616927Z",
     "iopub.status.idle": "2021-12-08T11:00:11.654911Z",
     "shell.execute_reply": "2021-12-08T11:00:11.656354Z"
    },
    "papermill": {
     "duration": 1.080772,
     "end_time": "2021-12-08T11:00:11.656944",
     "exception": false,
     "start_time": "2021-12-08T11:00:10.576172",
     "status": "completed"
    },
    "tags": []
   },
   "outputs": [],
   "source": [
    "timestamps = pd.read_sql(\"select distinct record_time from EBAY_TOP_BERLIN order by record_time desc limit 2\", sqlite3.connect(\"UsedObjects.db\"))"
   ]
  },
  {
   "cell_type": "code",
   "execution_count": 3,
   "id": "periodic-identification",
   "metadata": {
    "execution": {
     "iopub.execute_input": "2021-12-08T11:00:11.728185Z",
     "iopub.status.busy": "2021-12-08T11:00:11.722703Z",
     "iopub.status.idle": "2021-12-08T11:00:11.744385Z",
     "shell.execute_reply": "2021-12-08T11:00:11.745776Z"
    },
    "papermill": {
     "duration": 0.069839,
     "end_time": "2021-12-08T11:00:11.746245",
     "exception": false,
     "start_time": "2021-12-08T11:00:11.676406",
     "status": "completed"
    },
    "tags": []
   },
   "outputs": [
    {
     "data": {
      "text/html": [
       "<div>\n",
       "<style scoped>\n",
       "    .dataframe tbody tr th:only-of-type {\n",
       "        vertical-align: middle;\n",
       "    }\n",
       "\n",
       "    .dataframe tbody tr th {\n",
       "        vertical-align: top;\n",
       "    }\n",
       "\n",
       "    .dataframe thead th {\n",
       "        text-align: right;\n",
       "    }\n",
       "</style>\n",
       "<table border=\"1\" class=\"dataframe\">\n",
       "  <thead>\n",
       "    <tr style=\"text-align: right;\">\n",
       "      <th></th>\n",
       "      <th>RECORD_TIME</th>\n",
       "    </tr>\n",
       "  </thead>\n",
       "  <tbody>\n",
       "    <tr>\n",
       "      <th>0</th>\n",
       "      <td>2021-12-08 12:00</td>\n",
       "    </tr>\n",
       "    <tr>\n",
       "      <th>1</th>\n",
       "      <td>2021-12-08 11:30</td>\n",
       "    </tr>\n",
       "  </tbody>\n",
       "</table>\n",
       "</div>"
      ],
      "text/plain": [
       "        RECORD_TIME\n",
       "0  2021-12-08 12:00\n",
       "1  2021-12-08 11:30"
      ]
     },
     "execution_count": 3,
     "metadata": {},
     "output_type": "execute_result"
    }
   ],
   "source": [
    "timestamps"
   ]
  },
  {
   "cell_type": "code",
   "execution_count": 4,
   "id": "alternate-victory",
   "metadata": {
    "execution": {
     "iopub.execute_input": "2021-12-08T11:00:11.819987Z",
     "iopub.status.busy": "2021-12-08T11:00:11.816289Z",
     "iopub.status.idle": "2021-12-08T11:00:13.288766Z",
     "shell.execute_reply": "2021-12-08T11:00:13.290013Z"
    },
    "papermill": {
     "duration": 1.521783,
     "end_time": "2021-12-08T11:00:13.290406",
     "exception": false,
     "start_time": "2021-12-08T11:00:11.768623",
     "status": "completed"
    },
    "tags": []
   },
   "outputs": [],
   "source": [
    "df = pd.read_sql(\"select * from EBAY_TOP_BERLIN where record_time in (select distinct record_time from EBAY_TOP_BERLIN order by record_time desc limit 2)\", sqlite3.connect(\"UsedObjects.db\"))"
   ]
  },
  {
   "cell_type": "code",
   "execution_count": 5,
   "id": "popular-active",
   "metadata": {
    "execution": {
     "iopub.execute_input": "2021-12-08T11:00:13.359740Z",
     "iopub.status.busy": "2021-12-08T11:00:13.347714Z",
     "iopub.status.idle": "2021-12-08T11:00:13.376002Z",
     "shell.execute_reply": "2021-12-08T11:00:13.377435Z"
    },
    "papermill": {
     "duration": 0.066892,
     "end_time": "2021-12-08T11:00:13.377852",
     "exception": false,
     "start_time": "2021-12-08T11:00:13.310960",
     "status": "completed"
    },
    "tags": []
   },
   "outputs": [],
   "source": [
    "df_pivot = df.pivot_table(index=\"PRODUCT\", columns = \"RECORD_TIME\", values = \"LISTING_COUNT\")"
   ]
  },
  {
   "cell_type": "code",
   "execution_count": 6,
   "id": "union-huntington",
   "metadata": {
    "execution": {
     "iopub.execute_input": "2021-12-08T11:00:13.436592Z",
     "iopub.status.busy": "2021-12-08T11:00:13.434150Z",
     "iopub.status.idle": "2021-12-08T11:00:13.440171Z",
     "shell.execute_reply": "2021-12-08T11:00:13.441635Z"
    },
    "papermill": {
     "duration": 0.042919,
     "end_time": "2021-12-08T11:00:13.442083",
     "exception": false,
     "start_time": "2021-12-08T11:00:13.399164",
     "status": "completed"
    },
    "tags": []
   },
   "outputs": [],
   "source": [
    "df_pivot.columns = [\"stamp_1\", \"stamp_2\"]\n",
    "df_pivot_diff = df_pivot.diff(axis=1)"
   ]
  },
  {
   "cell_type": "code",
   "execution_count": 7,
   "id": "fifth-motion",
   "metadata": {
    "execution": {
     "iopub.execute_input": "2021-12-08T11:00:13.496582Z",
     "iopub.status.busy": "2021-12-08T11:00:13.494414Z",
     "iopub.status.idle": "2021-12-08T11:00:14.989250Z",
     "shell.execute_reply": "2021-12-08T11:00:14.990655Z"
    },
    "papermill": {
     "duration": 1.527471,
     "end_time": "2021-12-08T11:00:14.991074",
     "exception": false,
     "start_time": "2021-12-08T11:00:13.463603",
     "status": "completed"
    },
    "tags": []
   },
   "outputs": [
    {
     "data": {
      "text/plain": [
       "<AxesSubplot:ylabel='PRODUCT'>"
      ]
     },
     "execution_count": 7,
     "metadata": {},
     "output_type": "execute_result"
    },
    {
     "data": {
      "image/png": "[encoded data removed]",
      "text/plain": [
       "<Figure size 432x288 with 1 Axes>"
      ]
     },
     "metadata": {
      "needs_background": "light"
     },
     "output_type": "display_data"
    }
   ],
   "source": [
    "df_pivot_diff.sort_values(\"stamp_2\", ascending = False)[\"stamp_2\"].head(10).plot.barh()"
   ]
  },
  {
   "cell_type": "code",
   "execution_count": null,
   "id": "extra-executive",
   "metadata": {
    "papermill": {
     "duration": 0.02206,
     "end_time": "2021-12-08T11:00:15.037778",
     "exception": false,
     "start_time": "2021-12-08T11:00:15.015718",
     "status": "completed"
    },
    "tags": []
   },
   "outputs": [],
   "source": []
  }
 ],
 "metadata": {
  "kernelspec": {
   "display_name": "Python 3",
   "language": "python",
   "name": "python3"
  },
  "language_info": {
   "codemirror_mode": {
    "name": "ipython",
    "version": 3
   },
   "file_extension": ".py",
   "mimetype": "text/x-python",
   "name": "python",
   "nbconvert_exporter": "python",
   "pygments_lexer": "ipython3",
   "version": "3.9.5"
  },
  "papermill": {
   "default_parameters": {},
   "duration": 8.819873,
   "end_time": "2021-12-08T11:00:15.687742",
   "environment_variables": {},
   "exception": null,
   "input_path": "eBay_Overview.ipynb",
   "output_path": "eBay_Overview.ipynb",
   "parameters": {},
   "start_time": "2021-12-08T11:00:06.867869",
   "version": "2.3.3"
  }
 },
 "nbformat": 4,
 "nbformat_minor": 5
}