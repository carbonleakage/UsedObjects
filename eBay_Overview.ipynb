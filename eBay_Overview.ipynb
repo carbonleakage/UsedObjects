{
 "cells": [
  {
   "cell_type": "code",
   "execution_count": 1,
   "id": "reverse-picking",
   "metadata": {
    "execution": {
     "iopub.execute_input": "2021-09-27T01:30:06.528895Z",
     "iopub.status.busy": "2021-09-27T01:30:06.526948Z",
     "iopub.status.idle": "2021-09-27T01:30:07.333534Z",
     "shell.execute_reply": "2021-09-27T01:30:07.331925Z"
    },
    "papermill": {
     "duration": 0.856812,
     "end_time": "2021-09-27T01:30:07.333936",
     "exception": false,
     "start_time": "2021-09-27T01:30:06.477124",
     "status": "completed"
    },
    "tags": []
   },
   "outputs": [],
   "source": [
    "import pandas as pd\n",
    "import sqlite3"
   ]
  },
  {
   "cell_type": "code",
   "execution_count": 2,
   "id": "innovative-syndrome",
   "metadata": {
    "execution": {
     "iopub.execute_input": "2021-09-27T01:30:07.384572Z",
     "iopub.status.busy": "2021-09-27T01:30:07.382585Z",
     "iopub.status.idle": "2021-09-27T01:30:07.768311Z",
     "shell.execute_reply": "2021-09-27T01:30:07.769523Z"
    },
    "papermill": {
     "duration": 0.415551,
     "end_time": "2021-09-27T01:30:07.769912",
     "exception": false,
     "start_time": "2021-09-27T01:30:07.354361",
     "status": "completed"
    },
    "tags": []
   },
   "outputs": [],
   "source": [
    "timestamps = pd.read_sql(\"select distinct record_time from EBAY_TOP_BERLIN order by record_time desc limit 2\", sqlite3.connect(\"UsedObjects.db\"))"
   ]
  },
  {
   "cell_type": "code",
   "execution_count": 3,
   "id": "periodic-identification",
   "metadata": {
    "execution": {
     "iopub.execute_input": "2021-09-27T01:30:07.840658Z",
     "iopub.status.busy": "2021-09-27T01:30:07.838554Z",
     "iopub.status.idle": "2021-09-27T01:30:07.858768Z",
     "shell.execute_reply": "2021-09-27T01:30:07.860217Z"
    },
    "papermill": {
     "duration": 0.067831,
     "end_time": "2021-09-27T01:30:07.860639",
     "exception": false,
     "start_time": "2021-09-27T01:30:07.792808",
     "status": "completed"
    },
    "tags": []
   },
   "outputs": [
    {
     "data": {
      "text/html": [
       "<div>\n",
       "<style scoped>\n",
       "    .dataframe tbody tr th:only-of-type {\n",
       "        vertical-align: middle;\n",
       "    }\n",
       "\n",
       "    .dataframe tbody tr th {\n",
       "        vertical-align: top;\n",
       "    }\n",
       "\n",
       "    .dataframe thead th {\n",
       "        text-align: right;\n",
       "    }\n",
       "</style>\n",
       "<table border=\"1\" class=\"dataframe\">\n",
       "  <thead>\n",
       "    <tr style=\"text-align: right;\">\n",
       "      <th></th>\n",
       "      <th>RECORD_TIME</th>\n",
       "    </tr>\n",
       "  </thead>\n",
       "  <tbody>\n",
       "    <tr>\n",
       "      <th>0</th>\n",
       "      <td>2021-09-27 03:30</td>\n",
       "    </tr>\n",
       "    <tr>\n",
       "      <th>1</th>\n",
       "      <td>2021-09-27 03:00</td>\n",
       "    </tr>\n",
       "  </tbody>\n",
       "</table>\n",
       "</div>"
      ],
      "text/plain": [
       "        RECORD_TIME\n",
       "0  2021-09-27 03:30\n",
       "1  2021-09-27 03:00"
      ]
     },
     "execution_count": 3,
     "metadata": {},
     "output_type": "execute_result"
    }
   ],
   "source": [
    "timestamps"
   ]
  },
  {
   "cell_type": "code",
   "execution_count": 4,
   "id": "alternate-victory",
   "metadata": {
    "execution": {
     "iopub.execute_input": "2021-09-27T01:30:07.914007Z",
     "iopub.status.busy": "2021-09-27T01:30:07.911864Z",
     "iopub.status.idle": "2021-09-27T01:30:08.476543Z",
     "shell.execute_reply": "2021-09-27T01:30:08.477842Z"
    },
    "papermill": {
     "duration": 0.595933,
     "end_time": "2021-09-27T01:30:08.478256",
     "exception": false,
     "start_time": "2021-09-27T01:30:07.882323",
     "status": "completed"
    },
    "tags": []
   },
   "outputs": [],
   "source": [
    "df = pd.read_sql(\"select * from EBAY_TOP_BERLIN where record_time in (select distinct record_time from EBAY_TOP_BERLIN order by record_time desc limit 2)\", sqlite3.connect(\"UsedObjects.db\"))"
   ]
  },
  {
   "cell_type": "code",
   "execution_count": 5,
   "id": "popular-active",
   "metadata": {
    "execution": {
     "iopub.execute_input": "2021-09-27T01:30:08.559884Z",
     "iopub.status.busy": "2021-09-27T01:30:08.548171Z",
     "iopub.status.idle": "2021-09-27T01:30:08.575633Z",
     "shell.execute_reply": "2021-09-27T01:30:08.576863Z"
    },
    "papermill": {
     "duration": 0.072573,
     "end_time": "2021-09-27T01:30:08.577249",
     "exception": false,
     "start_time": "2021-09-27T01:30:08.504676",
     "status": "completed"
    },
    "tags": []
   },
   "outputs": [],
   "source": [
    "df_pivot = df.pivot_table(index=\"PRODUCT\", columns = \"RECORD_TIME\", values = \"LISTING_COUNT\")"
   ]
  },
  {
   "cell_type": "code",
   "execution_count": 6,
   "id": "union-huntington",
   "metadata": {
    "execution": {
     "iopub.execute_input": "2021-09-27T01:30:08.634250Z",
     "iopub.status.busy": "2021-09-27T01:30:08.631977Z",
     "iopub.status.idle": "2021-09-27T01:30:08.637586Z",
     "shell.execute_reply": "2021-09-27T01:30:08.638989Z"
    },
    "papermill": {
     "duration": 0.041855,
     "end_time": "2021-09-27T01:30:08.639412",
     "exception": false,
     "start_time": "2021-09-27T01:30:08.597557",
     "status": "completed"
    },
    "tags": []
   },
   "outputs": [],
   "source": [
    "df_pivot.columns = [\"stamp_1\", \"stamp_2\"]\n",
    "df_pivot_diff = df_pivot.diff(axis=1)"
   ]
  },
  {
   "cell_type": "code",
   "execution_count": 7,
   "id": "fifth-motion",
   "metadata": {
    "execution": {
     "iopub.execute_input": "2021-09-27T01:30:08.694064Z",
     "iopub.status.busy": "2021-09-27T01:30:08.691760Z",
     "iopub.status.idle": "2021-09-27T01:30:10.174701Z",
     "shell.execute_reply": "2021-09-27T01:30:10.176209Z"
    },
    "papermill": {
     "duration": 1.51688,
     "end_time": "2021-09-27T01:30:10.176650",
     "exception": false,
     "start_time": "2021-09-27T01:30:08.659770",
     "status": "completed"
    },
    "tags": []
   },
   "outputs": [
    {
     "data": {
      "text/plain": [
       "<AxesSubplot:ylabel='PRODUCT'>"
      ]
     },
     "execution_count": 7,
     "metadata": {},
     "output_type": "execute_result"
    },
    {
     "data": {
      "image/png": "[encoded data removed]",
      "text/plain": [
       "<Figure size 432x288 with 1 Axes>"
      ]
     },
     "metadata": {
      "needs_background": "light"
     },
     "output_type": "display_data"
    }
   ],
   "source": [
    "df_pivot_diff.sort_values(\"stamp_2\", ascending = False)[\"stamp_2\"].head(10).plot.barh()"
   ]
  },
  {
   "cell_type": "code",
   "execution_count": null,
   "id": "extra-executive",
   "metadata": {
    "papermill": {
     "duration": 0.022713,
     "end_time": "2021-09-27T01:30:10.224550",
     "exception": false,
     "start_time": "2021-09-27T01:30:10.201837",
     "status": "completed"
    },
    "tags": []
   },
   "outputs": [],
   "source": []
  }
 ],
 "metadata": {
  "kernelspec": {
   "display_name": "Python 3",
   "language": "python",
   "name": "python3"
  },
  "language_info": {
   "codemirror_mode": {
    "name": "ipython",
    "version": 3
   },
   "file_extension": ".py",
   "mimetype": "text/x-python",
   "name": "python",
   "nbconvert_exporter": "python",
   "pygments_lexer": "ipython3",
   "version": "3.9.5"
  },
  "papermill": {
   "default_parameters": {},
   "duration": 6.793893,
   "end_time": "2021-09-27T01:30:10.868211",
   "environment_variables": {},
   "exception": null,
   "input_path": "eBay_Overview.ipynb",
   "output_path": "eBay_Overview.ipynb",
   "parameters": {},
   "start_time": "2021-09-27T01:30:04.074318",
   "version": "2.3.3"
  }
 },
 "nbformat": 4,
 "nbformat_minor": 5
}