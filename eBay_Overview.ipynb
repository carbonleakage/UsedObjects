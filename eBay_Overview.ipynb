{
 "cells": [
  {
   "cell_type": "code",
   "execution_count": 1,
   "id": "reverse-picking",
   "metadata": {
    "execution": {
     "iopub.execute_input": "2021-11-04T11:30:09.397539Z",
     "iopub.status.busy": "2021-11-04T11:30:09.395194Z",
     "iopub.status.idle": "2021-11-04T11:30:10.329993Z",
     "shell.execute_reply": "2021-11-04T11:30:10.327830Z"
    },
    "papermill": {
     "duration": 0.98146,
     "end_time": "2021-11-04T11:30:10.330481",
     "exception": false,
     "start_time": "2021-11-04T11:30:09.349021",
     "status": "completed"
    },
    "tags": []
   },
   "outputs": [],
   "source": [
    "import pandas as pd\n",
    "import sqlite3"
   ]
  },
  {
   "cell_type": "code",
   "execution_count": 2,
   "id": "innovative-syndrome",
   "metadata": {
    "execution": {
     "iopub.execute_input": "2021-11-04T11:30:10.413295Z",
     "iopub.status.busy": "2021-11-04T11:30:10.411002Z",
     "iopub.status.idle": "2021-11-04T11:30:11.128789Z",
     "shell.execute_reply": "2021-11-04T11:30:11.130510Z"
    },
    "papermill": {
     "duration": 0.765424,
     "end_time": "2021-11-04T11:30:11.131019",
     "exception": false,
     "start_time": "2021-11-04T11:30:10.365595",
     "status": "completed"
    },
    "tags": []
   },
   "outputs": [],
   "source": [
    "timestamps = pd.read_sql(\"select distinct record_time from EBAY_TOP_BERLIN order by record_time desc limit 2\", sqlite3.connect(\"UsedObjects.db\"))"
   ]
  },
  {
   "cell_type": "code",
   "execution_count": 3,
   "id": "periodic-identification",
   "metadata": {
    "execution": {
     "iopub.execute_input": "2021-11-04T11:30:11.203007Z",
     "iopub.status.busy": "2021-11-04T11:30:11.200637Z",
     "iopub.status.idle": "2021-11-04T11:30:11.222506Z",
     "shell.execute_reply": "2021-11-04T11:30:11.223788Z"
    },
    "papermill": {
     "duration": 0.072418,
     "end_time": "2021-11-04T11:30:11.224244",
     "exception": false,
     "start_time": "2021-11-04T11:30:11.151826",
     "status": "completed"
    },
    "tags": []
   },
   "outputs": [
    {
     "data": {
      "text/html": [
       "<div>\n",
       "<style scoped>\n",
       "    .dataframe tbody tr th:only-of-type {\n",
       "        vertical-align: middle;\n",
       "    }\n",
       "\n",
       "    .dataframe tbody tr th {\n",
       "        vertical-align: top;\n",
       "    }\n",
       "\n",
       "    .dataframe thead th {\n",
       "        text-align: right;\n",
       "    }\n",
       "</style>\n",
       "<table border=\"1\" class=\"dataframe\">\n",
       "  <thead>\n",
       "    <tr style=\"text-align: right;\">\n",
       "      <th></th>\n",
       "      <th>RECORD_TIME</th>\n",
       "    </tr>\n",
       "  </thead>\n",
       "  <tbody>\n",
       "    <tr>\n",
       "      <th>0</th>\n",
       "      <td>2021-11-04 12:30</td>\n",
       "    </tr>\n",
       "    <tr>\n",
       "      <th>1</th>\n",
       "      <td>2021-11-04 12:00</td>\n",
       "    </tr>\n",
       "  </tbody>\n",
       "</table>\n",
       "</div>"
      ],
      "text/plain": [
       "        RECORD_TIME\n",
       "0  2021-11-04 12:30\n",
       "1  2021-11-04 12:00"
      ]
     },
     "execution_count": 3,
     "metadata": {},
     "output_type": "execute_result"
    }
   ],
   "source": [
    "timestamps"
   ]
  },
  {
   "cell_type": "code",
   "execution_count": 4,
   "id": "alternate-victory",
   "metadata": {
    "execution": {
     "iopub.execute_input": "2021-11-04T11:30:11.278590Z",
     "iopub.status.busy": "2021-11-04T11:30:11.276303Z",
     "iopub.status.idle": "2021-11-04T11:30:12.338244Z",
     "shell.execute_reply": "2021-11-04T11:30:12.340984Z"
    },
    "papermill": {
     "duration": 1.097805,
     "end_time": "2021-11-04T11:30:12.341886",
     "exception": false,
     "start_time": "2021-11-04T11:30:11.244081",
     "status": "completed"
    },
    "tags": []
   },
   "outputs": [],
   "source": [
    "df = pd.read_sql(\"select * from EBAY_TOP_BERLIN where record_time in (select distinct record_time from EBAY_TOP_BERLIN order by record_time desc limit 2)\", sqlite3.connect(\"UsedObjects.db\"))"
   ]
  },
  {
   "cell_type": "code",
   "execution_count": 5,
   "id": "popular-active",
   "metadata": {
    "execution": {
     "iopub.execute_input": "2021-11-04T11:30:12.466054Z",
     "iopub.status.busy": "2021-11-04T11:30:12.442515Z",
     "iopub.status.idle": "2021-11-04T11:30:12.499942Z",
     "shell.execute_reply": "2021-11-04T11:30:12.502909Z"
    },
    "papermill": {
     "duration": 0.130048,
     "end_time": "2021-11-04T11:30:12.503773",
     "exception": false,
     "start_time": "2021-11-04T11:30:12.373725",
     "status": "completed"
    },
    "tags": []
   },
   "outputs": [],
   "source": [
    "df_pivot = df.pivot_table(index=\"PRODUCT\", columns = \"RECORD_TIME\", values = \"LISTING_COUNT\")"
   ]
  },
  {
   "cell_type": "code",
   "execution_count": 6,
   "id": "union-huntington",
   "metadata": {
    "execution": {
     "iopub.execute_input": "2021-11-04T11:30:12.600030Z",
     "iopub.status.busy": "2021-11-04T11:30:12.597181Z",
     "iopub.status.idle": "2021-11-04T11:30:12.604896Z",
     "shell.execute_reply": "2021-11-04T11:30:12.607354Z"
    },
    "papermill": {
     "duration": 0.068521,
     "end_time": "2021-11-04T11:30:12.608219",
     "exception": false,
     "start_time": "2021-11-04T11:30:12.539698",
     "status": "completed"
    },
    "tags": []
   },
   "outputs": [],
   "source": [
    "df_pivot.columns = [\"stamp_1\", \"stamp_2\"]\n",
    "df_pivot_diff = df_pivot.diff(axis=1)"
   ]
  },
  {
   "cell_type": "code",
   "execution_count": 7,
   "id": "fifth-motion",
   "metadata": {
    "execution": {
     "iopub.execute_input": "2021-11-04T11:30:12.691262Z",
     "iopub.status.busy": "2021-11-04T11:30:12.686523Z",
     "iopub.status.idle": "2021-11-04T11:30:14.439297Z",
     "shell.execute_reply": "2021-11-04T11:30:14.440558Z"
    },
    "papermill": {
     "duration": 1.808554,
     "end_time": "2021-11-04T11:30:14.441201",
     "exception": false,
     "start_time": "2021-11-04T11:30:12.632647",
     "status": "completed"
    },
    "tags": []
   },
   "outputs": [
    {
     "data": {
      "text/plain": [
       "<AxesSubplot:ylabel='PRODUCT'>"
      ]
     },
     "execution_count": 7,
     "metadata": {},
     "output_type": "execute_result"
    },
    {
     "data": {
      "image/png": "[encoded data removed]",
      "text/plain": [
       "<Figure size 432x288 with 1 Axes>"
      ]
     },
     "metadata": {
      "needs_background": "light"
     },
     "output_type": "display_data"
    }
   ],
   "source": [
    "df_pivot_diff.sort_values(\"stamp_2\", ascending = False)[\"stamp_2\"].head(10).plot.barh()"
   ]
  },
  {
   "cell_type": "code",
   "execution_count": null,
   "id": "extra-executive",
   "metadata": {
    "papermill": {
     "duration": 0.022117,
     "end_time": "2021-11-04T11:30:14.487919",
     "exception": false,
     "start_time": "2021-11-04T11:30:14.465802",
     "status": "completed"
    },
    "tags": []
   },
   "outputs": [],
   "source": []
  }
 ],
 "metadata": {
  "kernelspec": {
   "display_name": "Python 3",
   "language": "python",
   "name": "python3"
  },
  "language_info": {
   "codemirror_mode": {
    "name": "ipython",
    "version": 3
   },
   "file_extension": ".py",
   "mimetype": "text/x-python",
   "name": "python",
   "nbconvert_exporter": "python",
   "pygments_lexer": "ipython3",
   "version": "3.9.5"
  },
  "papermill": {
   "default_parameters": {},
   "duration": 8.555573,
   "end_time": "2021-11-04T11:30:15.129001",
   "environment_variables": {},
   "exception": null,
   "input_path": "eBay_Overview.ipynb",
   "output_path": "eBay_Overview.ipynb",
   "parameters": {},
   "start_time": "2021-11-04T11:30:06.573428",
   "version": "2.3.3"
  }
 },
 "nbformat": 4,
 "nbformat_minor": 5
}