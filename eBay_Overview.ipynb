{
 "cells": [
  {
   "cell_type": "code",
   "execution_count": 1,
   "id": "reverse-picking",
   "metadata": {
    "execution": {
     "iopub.execute_input": "2021-11-29T19:30:08.219768Z",
     "iopub.status.busy": "2021-11-29T19:30:08.216909Z",
     "iopub.status.idle": "2021-11-29T19:30:09.139735Z",
     "shell.execute_reply": "2021-11-29T19:30:09.141464Z"
    },
    "papermill": {
     "duration": 0.973192,
     "end_time": "2021-11-29T19:30:09.142223",
     "exception": false,
     "start_time": "2021-11-29T19:30:08.169031",
     "status": "completed"
    },
    "tags": []
   },
   "outputs": [],
   "source": [
    "import pandas as pd\n",
    "import sqlite3"
   ]
  },
  {
   "cell_type": "code",
   "execution_count": 2,
   "id": "innovative-syndrome",
   "metadata": {
    "execution": {
     "iopub.execute_input": "2021-11-29T19:30:09.205990Z",
     "iopub.status.busy": "2021-11-29T19:30:09.203415Z",
     "iopub.status.idle": "2021-11-29T19:30:10.165631Z",
     "shell.execute_reply": "2021-11-29T19:30:10.167767Z"
    },
    "papermill": {
     "duration": 0.996843,
     "end_time": "2021-11-29T19:30:10.168251",
     "exception": false,
     "start_time": "2021-11-29T19:30:09.171408",
     "status": "completed"
    },
    "tags": []
   },
   "outputs": [],
   "source": [
    "timestamps = pd.read_sql(\"select distinct record_time from EBAY_TOP_BERLIN order by record_time desc limit 2\", sqlite3.connect(\"UsedObjects.db\"))"
   ]
  },
  {
   "cell_type": "code",
   "execution_count": 3,
   "id": "periodic-identification",
   "metadata": {
    "execution": {
     "iopub.execute_input": "2021-11-29T19:30:10.238796Z",
     "iopub.status.busy": "2021-11-29T19:30:10.236270Z",
     "iopub.status.idle": "2021-11-29T19:30:10.263216Z",
     "shell.execute_reply": "2021-11-29T19:30:10.265095Z"
    },
    "papermill": {
     "duration": 0.076804,
     "end_time": "2021-11-29T19:30:10.265655",
     "exception": false,
     "start_time": "2021-11-29T19:30:10.188851",
     "status": "completed"
    },
    "tags": []
   },
   "outputs": [
    {
     "data": {
      "text/html": [
       "<div>\n",
       "<style scoped>\n",
       "    .dataframe tbody tr th:only-of-type {\n",
       "        vertical-align: middle;\n",
       "    }\n",
       "\n",
       "    .dataframe tbody tr th {\n",
       "        vertical-align: top;\n",
       "    }\n",
       "\n",
       "    .dataframe thead th {\n",
       "        text-align: right;\n",
       "    }\n",
       "</style>\n",
       "<table border=\"1\" class=\"dataframe\">\n",
       "  <thead>\n",
       "    <tr style=\"text-align: right;\">\n",
       "      <th></th>\n",
       "      <th>RECORD_TIME</th>\n",
       "    </tr>\n",
       "  </thead>\n",
       "  <tbody>\n",
       "    <tr>\n",
       "      <th>0</th>\n",
       "      <td>2021-11-29 20:30</td>\n",
       "    </tr>\n",
       "    <tr>\n",
       "      <th>1</th>\n",
       "      <td>2021-11-29 20:00</td>\n",
       "    </tr>\n",
       "  </tbody>\n",
       "</table>\n",
       "</div>"
      ],
      "text/plain": [
       "        RECORD_TIME\n",
       "0  2021-11-29 20:30\n",
       "1  2021-11-29 20:00"
      ]
     },
     "execution_count": 3,
     "metadata": {},
     "output_type": "execute_result"
    }
   ],
   "source": [
    "timestamps"
   ]
  },
  {
   "cell_type": "code",
   "execution_count": 4,
   "id": "alternate-victory",
   "metadata": {
    "execution": {
     "iopub.execute_input": "2021-11-29T19:30:10.317243Z",
     "iopub.status.busy": "2021-11-29T19:30:10.315132Z",
     "iopub.status.idle": "2021-11-29T19:30:11.694848Z",
     "shell.execute_reply": "2021-11-29T19:30:11.696393Z"
    },
    "papermill": {
     "duration": 1.410328,
     "end_time": "2021-11-29T19:30:11.696991",
     "exception": false,
     "start_time": "2021-11-29T19:30:10.286663",
     "status": "completed"
    },
    "tags": []
   },
   "outputs": [],
   "source": [
    "df = pd.read_sql(\"select * from EBAY_TOP_BERLIN where record_time in (select distinct record_time from EBAY_TOP_BERLIN order by record_time desc limit 2)\", sqlite3.connect(\"UsedObjects.db\"))"
   ]
  },
  {
   "cell_type": "code",
   "execution_count": 5,
   "id": "popular-active",
   "metadata": {
    "execution": {
     "iopub.execute_input": "2021-11-29T19:30:11.772535Z",
     "iopub.status.busy": "2021-11-29T19:30:11.759212Z",
     "iopub.status.idle": "2021-11-29T19:30:11.790693Z",
     "shell.execute_reply": "2021-11-29T19:30:11.792050Z"
    },
    "papermill": {
     "duration": 0.073665,
     "end_time": "2021-11-29T19:30:11.792519",
     "exception": false,
     "start_time": "2021-11-29T19:30:11.718854",
     "status": "completed"
    },
    "tags": []
   },
   "outputs": [],
   "source": [
    "df_pivot = df.pivot_table(index=\"PRODUCT\", columns = \"RECORD_TIME\", values = \"LISTING_COUNT\")"
   ]
  },
  {
   "cell_type": "code",
   "execution_count": 6,
   "id": "union-huntington",
   "metadata": {
    "execution": {
     "iopub.execute_input": "2021-11-29T19:30:11.855301Z",
     "iopub.status.busy": "2021-11-29T19:30:11.852936Z",
     "iopub.status.idle": "2021-11-29T19:30:11.858089Z",
     "shell.execute_reply": "2021-11-29T19:30:11.859679Z"
    },
    "papermill": {
     "duration": 0.047215,
     "end_time": "2021-11-29T19:30:11.860178",
     "exception": false,
     "start_time": "2021-11-29T19:30:11.812963",
     "status": "completed"
    },
    "tags": []
   },
   "outputs": [],
   "source": [
    "df_pivot.columns = [\"stamp_1\", \"stamp_2\"]\n",
    "df_pivot_diff = df_pivot.diff(axis=1)"
   ]
  },
  {
   "cell_type": "code",
   "execution_count": 7,
   "id": "fifth-motion",
   "metadata": {
    "execution": {
     "iopub.execute_input": "2021-11-29T19:30:11.925169Z",
     "iopub.status.busy": "2021-11-29T19:30:11.922480Z",
     "iopub.status.idle": "2021-11-29T19:30:13.858182Z",
     "shell.execute_reply": "2021-11-29T19:30:13.861082Z"
    },
    "papermill": {
     "duration": 1.980161,
     "end_time": "2021-11-29T19:30:13.861808",
     "exception": false,
     "start_time": "2021-11-29T19:30:11.881647",
     "status": "completed"
    },
    "tags": []
   },
   "outputs": [
    {
     "data": {
      "text/plain": [
       "<AxesSubplot:ylabel='PRODUCT'>"
      ]
     },
     "execution_count": 7,
     "metadata": {},
     "output_type": "execute_result"
    },
    {
     "data": {
      "image/png": "[encoded data removed]",
      "text/plain": [
       "<Figure size 432x288 with 1 Axes>"
      ]
     },
     "metadata": {
      "needs_background": "light"
     },
     "output_type": "display_data"
    }
   ],
   "source": [
    "df_pivot_diff.sort_values(\"stamp_2\", ascending = False)[\"stamp_2\"].head(10).plot.barh()"
   ]
  },
  {
   "cell_type": "code",
   "execution_count": null,
   "id": "extra-executive",
   "metadata": {
    "papermill": {
     "duration": 0.027337,
     "end_time": "2021-11-29T19:30:13.920144",
     "exception": false,
     "start_time": "2021-11-29T19:30:13.892807",
     "status": "completed"
    },
    "tags": []
   },
   "outputs": [],
   "source": []
  }
 ],
 "metadata": {
  "kernelspec": {
   "display_name": "Python 3",
   "language": "python",
   "name": "python3"
  },
  "language_info": {
   "codemirror_mode": {
    "name": "ipython",
    "version": 3
   },
   "file_extension": ".py",
   "mimetype": "text/x-python",
   "name": "python",
   "nbconvert_exporter": "python",
   "pygments_lexer": "ipython3",
   "version": "3.9.5"
  },
  "papermill": {
   "default_parameters": {},
   "duration": 9.942839,
   "end_time": "2021-11-29T19:30:15.370357",
   "environment_variables": {},
   "exception": null,
   "input_path": "eBay_Overview.ipynb",
   "output_path": "eBay_Overview.ipynb",
   "parameters": {},
   "start_time": "2021-11-29T19:30:05.427518",
   "version": "2.3.3"
  }
 },
 "nbformat": 4,
 "nbformat_minor": 5
}