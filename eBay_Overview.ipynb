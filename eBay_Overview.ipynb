{
 "cells": [
  {
   "cell_type": "code",
   "execution_count": 1,
   "id": "reverse-picking",
   "metadata": {
    "execution": {
     "iopub.execute_input": "2021-11-17T02:30:07.554085Z",
     "iopub.status.busy": "2021-11-17T02:30:07.551833Z",
     "iopub.status.idle": "2021-11-17T02:30:08.513859Z",
     "shell.execute_reply": "2021-11-17T02:30:08.515333Z"
    },
    "papermill": {
     "duration": 1.015835,
     "end_time": "2021-11-17T02:30:08.516040",
     "exception": false,
     "start_time": "2021-11-17T02:30:07.500205",
     "status": "completed"
    },
    "tags": []
   },
   "outputs": [],
   "source": [
    "import pandas as pd\n",
    "import sqlite3"
   ]
  },
  {
   "cell_type": "code",
   "execution_count": 2,
   "id": "innovative-syndrome",
   "metadata": {
    "execution": {
     "iopub.execute_input": "2021-11-17T02:30:08.580912Z",
     "iopub.status.busy": "2021-11-17T02:30:08.578615Z",
     "iopub.status.idle": "2021-11-17T02:30:09.408035Z",
     "shell.execute_reply": "2021-11-17T02:30:09.409906Z"
    },
    "papermill": {
     "duration": 0.86464,
     "end_time": "2021-11-17T02:30:09.410430",
     "exception": false,
     "start_time": "2021-11-17T02:30:08.545790",
     "status": "completed"
    },
    "tags": []
   },
   "outputs": [],
   "source": [
    "timestamps = pd.read_sql(\"select distinct record_time from EBAY_TOP_BERLIN order by record_time desc limit 2\", sqlite3.connect(\"UsedObjects.db\"))"
   ]
  },
  {
   "cell_type": "code",
   "execution_count": 3,
   "id": "periodic-identification",
   "metadata": {
    "execution": {
     "iopub.execute_input": "2021-11-17T02:30:09.485049Z",
     "iopub.status.busy": "2021-11-17T02:30:09.482420Z",
     "iopub.status.idle": "2021-11-17T02:30:09.507105Z",
     "shell.execute_reply": "2021-11-17T02:30:09.508888Z"
    },
    "papermill": {
     "duration": 0.078068,
     "end_time": "2021-11-17T02:30:09.509402",
     "exception": false,
     "start_time": "2021-11-17T02:30:09.431334",
     "status": "completed"
    },
    "tags": []
   },
   "outputs": [
    {
     "data": {
      "text/html": [
       "<div>\n",
       "<style scoped>\n",
       "    .dataframe tbody tr th:only-of-type {\n",
       "        vertical-align: middle;\n",
       "    }\n",
       "\n",
       "    .dataframe tbody tr th {\n",
       "        vertical-align: top;\n",
       "    }\n",
       "\n",
       "    .dataframe thead th {\n",
       "        text-align: right;\n",
       "    }\n",
       "</style>\n",
       "<table border=\"1\" class=\"dataframe\">\n",
       "  <thead>\n",
       "    <tr style=\"text-align: right;\">\n",
       "      <th></th>\n",
       "      <th>RECORD_TIME</th>\n",
       "    </tr>\n",
       "  </thead>\n",
       "  <tbody>\n",
       "    <tr>\n",
       "      <th>0</th>\n",
       "      <td>2021-11-17 03:30</td>\n",
       "    </tr>\n",
       "    <tr>\n",
       "      <th>1</th>\n",
       "      <td>2021-11-17 03:00</td>\n",
       "    </tr>\n",
       "  </tbody>\n",
       "</table>\n",
       "</div>"
      ],
      "text/plain": [
       "        RECORD_TIME\n",
       "0  2021-11-17 03:30\n",
       "1  2021-11-17 03:00"
      ]
     },
     "execution_count": 3,
     "metadata": {},
     "output_type": "execute_result"
    }
   ],
   "source": [
    "timestamps"
   ]
  },
  {
   "cell_type": "code",
   "execution_count": 4,
   "id": "alternate-victory",
   "metadata": {
    "execution": {
     "iopub.execute_input": "2021-11-17T02:30:09.566875Z",
     "iopub.status.busy": "2021-11-17T02:30:09.564760Z",
     "iopub.status.idle": "2021-11-17T02:30:10.779706Z",
     "shell.execute_reply": "2021-11-17T02:30:10.781520Z"
    },
    "papermill": {
     "duration": 1.249064,
     "end_time": "2021-11-17T02:30:10.782074",
     "exception": false,
     "start_time": "2021-11-17T02:30:09.533010",
     "status": "completed"
    },
    "tags": []
   },
   "outputs": [],
   "source": [
    "df = pd.read_sql(\"select * from EBAY_TOP_BERLIN where record_time in (select distinct record_time from EBAY_TOP_BERLIN order by record_time desc limit 2)\", sqlite3.connect(\"UsedObjects.db\"))"
   ]
  },
  {
   "cell_type": "code",
   "execution_count": 5,
   "id": "popular-active",
   "metadata": {
    "execution": {
     "iopub.execute_input": "2021-11-17T02:30:10.856106Z",
     "iopub.status.busy": "2021-11-17T02:30:10.848103Z",
     "iopub.status.idle": "2021-11-17T02:30:10.880109Z",
     "shell.execute_reply": "2021-11-17T02:30:10.881464Z"
    },
    "papermill": {
     "duration": 0.077389,
     "end_time": "2021-11-17T02:30:10.881907",
     "exception": false,
     "start_time": "2021-11-17T02:30:10.804518",
     "status": "completed"
    },
    "tags": []
   },
   "outputs": [],
   "source": [
    "df_pivot = df.pivot_table(index=\"PRODUCT\", columns = \"RECORD_TIME\", values = \"LISTING_COUNT\")"
   ]
  },
  {
   "cell_type": "code",
   "execution_count": 6,
   "id": "union-huntington",
   "metadata": {
    "execution": {
     "iopub.execute_input": "2021-11-17T02:30:10.941397Z",
     "iopub.status.busy": "2021-11-17T02:30:10.939175Z",
     "iopub.status.idle": "2021-11-17T02:30:10.944920Z",
     "shell.execute_reply": "2021-11-17T02:30:10.946494Z"
    },
    "papermill": {
     "duration": 0.04442,
     "end_time": "2021-11-17T02:30:10.946976",
     "exception": false,
     "start_time": "2021-11-17T02:30:10.902556",
     "status": "completed"
    },
    "tags": []
   },
   "outputs": [],
   "source": [
    "df_pivot.columns = [\"stamp_1\", \"stamp_2\"]\n",
    "df_pivot_diff = df_pivot.diff(axis=1)"
   ]
  },
  {
   "cell_type": "code",
   "execution_count": 7,
   "id": "fifth-motion",
   "metadata": {
    "execution": {
     "iopub.execute_input": "2021-11-17T02:30:11.008189Z",
     "iopub.status.busy": "2021-11-17T02:30:11.005632Z",
     "iopub.status.idle": "2021-11-17T02:30:12.966892Z",
     "shell.execute_reply": "2021-11-17T02:30:12.968256Z"
    },
    "papermill": {
     "duration": 1.999662,
     "end_time": "2021-11-17T02:30:12.968775",
     "exception": false,
     "start_time": "2021-11-17T02:30:10.969113",
     "status": "completed"
    },
    "tags": []
   },
   "outputs": [
    {
     "data": {
      "text/plain": [
       "<AxesSubplot:ylabel='PRODUCT'>"
      ]
     },
     "execution_count": 7,
     "metadata": {},
     "output_type": "execute_result"
    },
    {
     "data": {
      "image/png": "[encoded data removed]",
      "text/plain": [
       "<Figure size 432x288 with 1 Axes>"
      ]
     },
     "metadata": {
      "needs_background": "light"
     },
     "output_type": "display_data"
    }
   ],
   "source": [
    "df_pivot_diff.sort_values(\"stamp_2\", ascending = False)[\"stamp_2\"].head(10).plot.barh()"
   ]
  },
  {
   "cell_type": "code",
   "execution_count": null,
   "id": "extra-executive",
   "metadata": {
    "papermill": {
     "duration": 0.024115,
     "end_time": "2021-11-17T02:30:13.017016",
     "exception": false,
     "start_time": "2021-11-17T02:30:12.992901",
     "status": "completed"
    },
    "tags": []
   },
   "outputs": [],
   "source": []
  }
 ],
 "metadata": {
  "kernelspec": {
   "display_name": "Python 3",
   "language": "python",
   "name": "python3"
  },
  "language_info": {
   "codemirror_mode": {
    "name": "ipython",
    "version": 3
   },
   "file_extension": ".py",
   "mimetype": "text/x-python",
   "name": "python",
   "nbconvert_exporter": "python",
   "pygments_lexer": "ipython3",
   "version": "3.9.5"
  },
  "papermill": {
   "default_parameters": {},
   "duration": 9.935495,
   "end_time": "2021-11-17T02:30:14.707678",
   "environment_variables": {},
   "exception": null,
   "input_path": "eBay_Overview.ipynb",
   "output_path": "eBay_Overview.ipynb",
   "parameters": {},
   "start_time": "2021-11-17T02:30:04.772183",
   "version": "2.3.3"
  }
 },
 "nbformat": 4,
 "nbformat_minor": 5
}