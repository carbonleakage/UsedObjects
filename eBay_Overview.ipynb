{
 "cells": [
  {
   "cell_type": "code",
   "execution_count": 1,
   "id": "reverse-picking",
   "metadata": {
    "execution": {
     "iopub.execute_input": "2021-11-05T20:30:07.763961Z",
     "iopub.status.busy": "2021-11-05T20:30:07.761060Z",
     "iopub.status.idle": "2021-11-05T20:30:08.716856Z",
     "shell.execute_reply": "2021-11-05T20:30:08.718493Z"
    },
    "papermill": {
     "duration": 1.004392,
     "end_time": "2021-11-05T20:30:08.719599",
     "exception": false,
     "start_time": "2021-11-05T20:30:07.715207",
     "status": "completed"
    },
    "tags": []
   },
   "outputs": [],
   "source": [
    "import pandas as pd\n",
    "import sqlite3"
   ]
  },
  {
   "cell_type": "code",
   "execution_count": 2,
   "id": "innovative-syndrome",
   "metadata": {
    "execution": {
     "iopub.execute_input": "2021-11-05T20:30:08.896479Z",
     "iopub.status.busy": "2021-11-05T20:30:08.894501Z",
     "iopub.status.idle": "2021-11-05T20:30:09.627326Z",
     "shell.execute_reply": "2021-11-05T20:30:09.629122Z"
    },
    "papermill": {
     "duration": 0.815605,
     "end_time": "2021-11-05T20:30:09.630012",
     "exception": false,
     "start_time": "2021-11-05T20:30:08.814407",
     "status": "completed"
    },
    "tags": []
   },
   "outputs": [],
   "source": [
    "timestamps = pd.read_sql(\"select distinct record_time from EBAY_TOP_BERLIN order by record_time desc limit 2\", sqlite3.connect(\"UsedObjects.db\"))"
   ]
  },
  {
   "cell_type": "code",
   "execution_count": 3,
   "id": "periodic-identification",
   "metadata": {
    "execution": {
     "iopub.execute_input": "2021-11-05T20:30:09.702341Z",
     "iopub.status.busy": "2021-11-05T20:30:09.700007Z",
     "iopub.status.idle": "2021-11-05T20:30:09.722825Z",
     "shell.execute_reply": "2021-11-05T20:30:09.724262Z"
    },
    "papermill": {
     "duration": 0.073001,
     "end_time": "2021-11-05T20:30:09.724809",
     "exception": false,
     "start_time": "2021-11-05T20:30:09.651808",
     "status": "completed"
    },
    "tags": []
   },
   "outputs": [
    {
     "data": {
      "text/html": [
       "<div>\n",
       "<style scoped>\n",
       "    .dataframe tbody tr th:only-of-type {\n",
       "        vertical-align: middle;\n",
       "    }\n",
       "\n",
       "    .dataframe tbody tr th {\n",
       "        vertical-align: top;\n",
       "    }\n",
       "\n",
       "    .dataframe thead th {\n",
       "        text-align: right;\n",
       "    }\n",
       "</style>\n",
       "<table border=\"1\" class=\"dataframe\">\n",
       "  <thead>\n",
       "    <tr style=\"text-align: right;\">\n",
       "      <th></th>\n",
       "      <th>RECORD_TIME</th>\n",
       "    </tr>\n",
       "  </thead>\n",
       "  <tbody>\n",
       "    <tr>\n",
       "      <th>0</th>\n",
       "      <td>2021-11-05 21:30</td>\n",
       "    </tr>\n",
       "    <tr>\n",
       "      <th>1</th>\n",
       "      <td>2021-11-05 21:00</td>\n",
       "    </tr>\n",
       "  </tbody>\n",
       "</table>\n",
       "</div>"
      ],
      "text/plain": [
       "        RECORD_TIME\n",
       "0  2021-11-05 21:30\n",
       "1  2021-11-05 21:00"
      ]
     },
     "execution_count": 3,
     "metadata": {},
     "output_type": "execute_result"
    }
   ],
   "source": [
    "timestamps"
   ]
  },
  {
   "cell_type": "code",
   "execution_count": 4,
   "id": "alternate-victory",
   "metadata": {
    "execution": {
     "iopub.execute_input": "2021-11-05T20:30:09.781899Z",
     "iopub.status.busy": "2021-11-05T20:30:09.779702Z",
     "iopub.status.idle": "2021-11-05T20:30:10.856308Z",
     "shell.execute_reply": "2021-11-05T20:30:10.857886Z"
    },
    "papermill": {
     "duration": 1.112012,
     "end_time": "2021-11-05T20:30:10.858355",
     "exception": false,
     "start_time": "2021-11-05T20:30:09.746343",
     "status": "completed"
    },
    "tags": []
   },
   "outputs": [],
   "source": [
    "df = pd.read_sql(\"select * from EBAY_TOP_BERLIN where record_time in (select distinct record_time from EBAY_TOP_BERLIN order by record_time desc limit 2)\", sqlite3.connect(\"UsedObjects.db\"))"
   ]
  },
  {
   "cell_type": "code",
   "execution_count": 5,
   "id": "popular-active",
   "metadata": {
    "execution": {
     "iopub.execute_input": "2021-11-05T20:30:10.942788Z",
     "iopub.status.busy": "2021-11-05T20:30:10.924464Z",
     "iopub.status.idle": "2021-11-05T20:30:10.963637Z",
     "shell.execute_reply": "2021-11-05T20:30:10.965837Z"
    },
    "papermill": {
     "duration": 0.085447,
     "end_time": "2021-11-05T20:30:10.966388",
     "exception": false,
     "start_time": "2021-11-05T20:30:10.880941",
     "status": "completed"
    },
    "tags": []
   },
   "outputs": [],
   "source": [
    "df_pivot = df.pivot_table(index=\"PRODUCT\", columns = \"RECORD_TIME\", values = \"LISTING_COUNT\")"
   ]
  },
  {
   "cell_type": "code",
   "execution_count": 6,
   "id": "union-huntington",
   "metadata": {
    "execution": {
     "iopub.execute_input": "2021-11-05T20:30:11.031733Z",
     "iopub.status.busy": "2021-11-05T20:30:11.029207Z",
     "iopub.status.idle": "2021-11-05T20:30:11.035556Z",
     "shell.execute_reply": "2021-11-05T20:30:11.037344Z"
    },
    "papermill": {
     "duration": 0.048734,
     "end_time": "2021-11-05T20:30:11.037841",
     "exception": false,
     "start_time": "2021-11-05T20:30:10.989107",
     "status": "completed"
    },
    "tags": []
   },
   "outputs": [],
   "source": [
    "df_pivot.columns = [\"stamp_1\", \"stamp_2\"]\n",
    "df_pivot_diff = df_pivot.diff(axis=1)"
   ]
  },
  {
   "cell_type": "code",
   "execution_count": 7,
   "id": "fifth-motion",
   "metadata": {
    "execution": {
     "iopub.execute_input": "2021-11-05T20:30:11.098261Z",
     "iopub.status.busy": "2021-11-05T20:30:11.095618Z",
     "iopub.status.idle": "2021-11-05T20:30:12.902953Z",
     "shell.execute_reply": "2021-11-05T20:30:12.904462Z"
    },
    "papermill": {
     "duration": 1.845959,
     "end_time": "2021-11-05T20:30:12.905018",
     "exception": false,
     "start_time": "2021-11-05T20:30:11.059059",
     "status": "completed"
    },
    "tags": []
   },
   "outputs": [
    {
     "data": {
      "text/plain": [
       "<AxesSubplot:ylabel='PRODUCT'>"
      ]
     },
     "execution_count": 7,
     "metadata": {},
     "output_type": "execute_result"
    },
    {
     "data": {
      "image/png": "[encoded data removed]",
      "text/plain": [
       "<Figure size 432x288 with 1 Axes>"
      ]
     },
     "metadata": {
      "needs_background": "light"
     },
     "output_type": "display_data"
    }
   ],
   "source": [
    "df_pivot_diff.sort_values(\"stamp_2\", ascending = False)[\"stamp_2\"].head(10).plot.barh()"
   ]
  },
  {
   "cell_type": "code",
   "execution_count": null,
   "id": "extra-executive",
   "metadata": {
    "papermill": {
     "duration": 0.025998,
     "end_time": "2021-11-05T20:30:12.957675",
     "exception": false,
     "start_time": "2021-11-05T20:30:12.931677",
     "status": "completed"
    },
    "tags": []
   },
   "outputs": [],
   "source": []
  }
 ],
 "metadata": {
  "kernelspec": {
   "display_name": "Python 3",
   "language": "python",
   "name": "python3"
  },
  "language_info": {
   "codemirror_mode": {
    "name": "ipython",
    "version": 3
   },
   "file_extension": ".py",
   "mimetype": "text/x-python",
   "name": "python",
   "nbconvert_exporter": "python",
   "pygments_lexer": "ipython3",
   "version": "3.9.5"
  },
  "papermill": {
   "default_parameters": {},
   "duration": 10.062881,
   "end_time": "2021-11-05T20:30:14.904244",
   "environment_variables": {},
   "exception": null,
   "input_path": "eBay_Overview.ipynb",
   "output_path": "eBay_Overview.ipynb",
   "parameters": {},
   "start_time": "2021-11-05T20:30:04.841363",
   "version": "2.3.3"
  }
 },
 "nbformat": 4,
 "nbformat_minor": 5
}