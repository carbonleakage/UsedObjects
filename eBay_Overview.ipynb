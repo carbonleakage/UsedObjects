{
 "cells": [
  {
   "cell_type": "code",
   "execution_count": 1,
   "id": "reverse-picking",
   "metadata": {
    "execution": {
     "iopub.execute_input": "2021-11-26T19:00:08.309583Z",
     "iopub.status.busy": "2021-11-26T19:00:08.307162Z",
     "iopub.status.idle": "2021-11-26T19:00:09.276882Z",
     "shell.execute_reply": "2021-11-26T19:00:09.278597Z"
    },
    "papermill": {
     "duration": 1.019005,
     "end_time": "2021-11-26T19:00:09.279322",
     "exception": false,
     "start_time": "2021-11-26T19:00:08.260317",
     "status": "completed"
    },
    "tags": []
   },
   "outputs": [],
   "source": [
    "import pandas as pd\n",
    "import sqlite3"
   ]
  },
  {
   "cell_type": "code",
   "execution_count": 2,
   "id": "innovative-syndrome",
   "metadata": {
    "execution": {
     "iopub.execute_input": "2021-11-26T19:00:09.342857Z",
     "iopub.status.busy": "2021-11-26T19:00:09.340331Z",
     "iopub.status.idle": "2021-11-26T19:00:10.258746Z",
     "shell.execute_reply": "2021-11-26T19:00:10.260818Z"
    },
    "papermill": {
     "duration": 0.954464,
     "end_time": "2021-11-26T19:00:10.261320",
     "exception": false,
     "start_time": "2021-11-26T19:00:09.306856",
     "status": "completed"
    },
    "tags": []
   },
   "outputs": [],
   "source": [
    "timestamps = pd.read_sql(\"select distinct record_time from EBAY_TOP_BERLIN order by record_time desc limit 2\", sqlite3.connect(\"UsedObjects.db\"))"
   ]
  },
  {
   "cell_type": "code",
   "execution_count": 3,
   "id": "periodic-identification",
   "metadata": {
    "execution": {
     "iopub.execute_input": "2021-11-26T19:00:10.330698Z",
     "iopub.status.busy": "2021-11-26T19:00:10.328612Z",
     "iopub.status.idle": "2021-11-26T19:00:10.351629Z",
     "shell.execute_reply": "2021-11-26T19:00:10.350255Z"
    },
    "papermill": {
     "duration": 0.069721,
     "end_time": "2021-11-26T19:00:10.351976",
     "exception": false,
     "start_time": "2021-11-26T19:00:10.282255",
     "status": "completed"
    },
    "tags": []
   },
   "outputs": [
    {
     "data": {
      "text/html": [
       "<div>\n",
       "<style scoped>\n",
       "    .dataframe tbody tr th:only-of-type {\n",
       "        vertical-align: middle;\n",
       "    }\n",
       "\n",
       "    .dataframe tbody tr th {\n",
       "        vertical-align: top;\n",
       "    }\n",
       "\n",
       "    .dataframe thead th {\n",
       "        text-align: right;\n",
       "    }\n",
       "</style>\n",
       "<table border=\"1\" class=\"dataframe\">\n",
       "  <thead>\n",
       "    <tr style=\"text-align: right;\">\n",
       "      <th></th>\n",
       "      <th>RECORD_TIME</th>\n",
       "    </tr>\n",
       "  </thead>\n",
       "  <tbody>\n",
       "    <tr>\n",
       "      <th>0</th>\n",
       "      <td>2021-11-26 20:00</td>\n",
       "    </tr>\n",
       "    <tr>\n",
       "      <th>1</th>\n",
       "      <td>2021-11-26 19:30</td>\n",
       "    </tr>\n",
       "  </tbody>\n",
       "</table>\n",
       "</div>"
      ],
      "text/plain": [
       "        RECORD_TIME\n",
       "0  2021-11-26 20:00\n",
       "1  2021-11-26 19:30"
      ]
     },
     "execution_count": 3,
     "metadata": {},
     "output_type": "execute_result"
    }
   ],
   "source": [
    "timestamps"
   ]
  },
  {
   "cell_type": "code",
   "execution_count": 4,
   "id": "alternate-victory",
   "metadata": {
    "execution": {
     "iopub.execute_input": "2021-11-26T19:00:10.407584Z",
     "iopub.status.busy": "2021-11-26T19:00:10.405459Z",
     "iopub.status.idle": "2021-11-26T19:00:11.767967Z",
     "shell.execute_reply": "2021-11-26T19:00:11.769976Z"
    },
    "papermill": {
     "duration": 1.395918,
     "end_time": "2021-11-26T19:00:11.770634",
     "exception": false,
     "start_time": "2021-11-26T19:00:10.374716",
     "status": "completed"
    },
    "tags": []
   },
   "outputs": [],
   "source": [
    "df = pd.read_sql(\"select * from EBAY_TOP_BERLIN where record_time in (select distinct record_time from EBAY_TOP_BERLIN order by record_time desc limit 2)\", sqlite3.connect(\"UsedObjects.db\"))"
   ]
  },
  {
   "cell_type": "code",
   "execution_count": 5,
   "id": "popular-active",
   "metadata": {
    "execution": {
     "iopub.execute_input": "2021-11-26T19:00:11.843412Z",
     "iopub.status.busy": "2021-11-26T19:00:11.840867Z",
     "iopub.status.idle": "2021-11-26T19:00:11.872097Z",
     "shell.execute_reply": "2021-11-26T19:00:11.873540Z"
    },
    "papermill": {
     "duration": 0.076455,
     "end_time": "2021-11-26T19:00:11.874020",
     "exception": false,
     "start_time": "2021-11-26T19:00:11.797565",
     "status": "completed"
    },
    "tags": []
   },
   "outputs": [],
   "source": [
    "df_pivot = df.pivot_table(index=\"PRODUCT\", columns = \"RECORD_TIME\", values = \"LISTING_COUNT\")"
   ]
  },
  {
   "cell_type": "code",
   "execution_count": 6,
   "id": "union-huntington",
   "metadata": {
    "execution": {
     "iopub.execute_input": "2021-11-26T19:00:11.933090Z",
     "iopub.status.busy": "2021-11-26T19:00:11.930724Z",
     "iopub.status.idle": "2021-11-26T19:00:11.937411Z",
     "shell.execute_reply": "2021-11-26T19:00:11.935766Z"
    },
    "papermill": {
     "duration": 0.043831,
     "end_time": "2021-11-26T19:00:11.937813",
     "exception": false,
     "start_time": "2021-11-26T19:00:11.893982",
     "status": "completed"
    },
    "tags": []
   },
   "outputs": [],
   "source": [
    "df_pivot.columns = [\"stamp_1\", \"stamp_2\"]\n",
    "df_pivot_diff = df_pivot.diff(axis=1)"
   ]
  },
  {
   "cell_type": "code",
   "execution_count": 7,
   "id": "fifth-motion",
   "metadata": {
    "execution": {
     "iopub.execute_input": "2021-11-26T19:00:11.995845Z",
     "iopub.status.busy": "2021-11-26T19:00:11.993184Z",
     "iopub.status.idle": "2021-11-26T19:00:14.015108Z",
     "shell.execute_reply": "2021-11-26T19:00:14.017036Z"
    },
    "papermill": {
     "duration": 2.059818,
     "end_time": "2021-11-26T19:00:14.017612",
     "exception": false,
     "start_time": "2021-11-26T19:00:11.957794",
     "status": "completed"
    },
    "tags": []
   },
   "outputs": [
    {
     "data": {
      "text/plain": [
       "<AxesSubplot:ylabel='PRODUCT'>"
      ]
     },
     "execution_count": 7,
     "metadata": {},
     "output_type": "execute_result"
    },
    {
     "data": {
      "image/png": "[encoded data removed]",
      "text/plain": [
       "<Figure size 432x288 with 1 Axes>"
      ]
     },
     "metadata": {
      "needs_background": "light"
     },
     "output_type": "display_data"
    }
   ],
   "source": [
    "df_pivot_diff.sort_values(\"stamp_2\", ascending = False)[\"stamp_2\"].head(10).plot.barh()"
   ]
  },
  {
   "cell_type": "code",
   "execution_count": null,
   "id": "extra-executive",
   "metadata": {
    "papermill": {
     "duration": 0.024172,
     "end_time": "2021-11-26T19:00:14.066546",
     "exception": false,
     "start_time": "2021-11-26T19:00:14.042374",
     "status": "completed"
    },
    "tags": []
   },
   "outputs": [],
   "source": []
  }
 ],
 "metadata": {
  "kernelspec": {
   "display_name": "Python 3",
   "language": "python",
   "name": "python3"
  },
  "language_info": {
   "codemirror_mode": {
    "name": "ipython",
    "version": 3
   },
   "file_extension": ".py",
   "mimetype": "text/x-python",
   "name": "python",
   "nbconvert_exporter": "python",
   "pygments_lexer": "ipython3",
   "version": "3.9.5"
  },
  "papermill": {
   "default_parameters": {},
   "duration": 9.940538,
   "end_time": "2021-11-26T19:00:15.441396",
   "environment_variables": {},
   "exception": null,
   "input_path": "eBay_Overview.ipynb",
   "output_path": "eBay_Overview.ipynb",
   "parameters": {},
   "start_time": "2021-11-26T19:00:05.500858",
   "version": "2.3.3"
  }
 },
 "nbformat": 4,
 "nbformat_minor": 5
}