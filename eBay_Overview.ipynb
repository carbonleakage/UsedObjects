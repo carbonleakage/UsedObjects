{
 "cells": [
  {
   "cell_type": "code",
   "execution_count": 1,
   "id": "reverse-picking",
   "metadata": {
    "execution": {
     "iopub.execute_input": "2021-12-11T02:30:07.567676Z",
     "iopub.status.busy": "2021-12-11T02:30:07.565420Z",
     "iopub.status.idle": "2021-12-11T02:30:08.513489Z",
     "shell.execute_reply": "2021-12-11T02:30:08.515044Z"
    },
    "papermill": {
     "duration": 0.997636,
     "end_time": "2021-12-11T02:30:08.515783",
     "exception": false,
     "start_time": "2021-12-11T02:30:07.518147",
     "status": "completed"
    },
    "tags": []
   },
   "outputs": [],
   "source": [
    "import pandas as pd\n",
    "import sqlite3"
   ]
  },
  {
   "cell_type": "code",
   "execution_count": 2,
   "id": "innovative-syndrome",
   "metadata": {
    "execution": {
     "iopub.execute_input": "2021-12-11T02:30:08.587460Z",
     "iopub.status.busy": "2021-12-11T02:30:08.585036Z",
     "iopub.status.idle": "2021-12-11T02:30:09.651927Z",
     "shell.execute_reply": "2021-12-11T02:30:09.653358Z"
    },
    "papermill": {
     "duration": 1.100858,
     "end_time": "2021-12-11T02:30:09.653831",
     "exception": false,
     "start_time": "2021-12-11T02:30:08.552973",
     "status": "completed"
    },
    "tags": []
   },
   "outputs": [],
   "source": [
    "timestamps = pd.read_sql(\"select distinct record_time from EBAY_TOP_BERLIN order by record_time desc limit 2\", sqlite3.connect(\"UsedObjects.db\"))"
   ]
  },
  {
   "cell_type": "code",
   "execution_count": 3,
   "id": "periodic-identification",
   "metadata": {
    "execution": {
     "iopub.execute_input": "2021-12-11T02:30:09.724515Z",
     "iopub.status.busy": "2021-12-11T02:30:09.722180Z",
     "iopub.status.idle": "2021-12-11T02:30:09.746721Z",
     "shell.execute_reply": "2021-12-11T02:30:09.745003Z"
    },
    "papermill": {
     "duration": 0.073437,
     "end_time": "2021-12-11T02:30:09.747131",
     "exception": false,
     "start_time": "2021-12-11T02:30:09.673694",
     "status": "completed"
    },
    "tags": []
   },
   "outputs": [
    {
     "data": {
      "text/html": [
       "<div>\n",
       "<style scoped>\n",
       "    .dataframe tbody tr th:only-of-type {\n",
       "        vertical-align: middle;\n",
       "    }\n",
       "\n",
       "    .dataframe tbody tr th {\n",
       "        vertical-align: top;\n",
       "    }\n",
       "\n",
       "    .dataframe thead th {\n",
       "        text-align: right;\n",
       "    }\n",
       "</style>\n",
       "<table border=\"1\" class=\"dataframe\">\n",
       "  <thead>\n",
       "    <tr style=\"text-align: right;\">\n",
       "      <th></th>\n",
       "      <th>RECORD_TIME</th>\n",
       "    </tr>\n",
       "  </thead>\n",
       "  <tbody>\n",
       "    <tr>\n",
       "      <th>0</th>\n",
       "      <td>2021-12-11 03:30</td>\n",
       "    </tr>\n",
       "    <tr>\n",
       "      <th>1</th>\n",
       "      <td>2021-12-11 03:00</td>\n",
       "    </tr>\n",
       "  </tbody>\n",
       "</table>\n",
       "</div>"
      ],
      "text/plain": [
       "        RECORD_TIME\n",
       "0  2021-12-11 03:30\n",
       "1  2021-12-11 03:00"
      ]
     },
     "execution_count": 3,
     "metadata": {},
     "output_type": "execute_result"
    }
   ],
   "source": [
    "timestamps"
   ]
  },
  {
   "cell_type": "code",
   "execution_count": 4,
   "id": "alternate-victory",
   "metadata": {
    "execution": {
     "iopub.execute_input": "2021-12-11T02:30:09.805142Z",
     "iopub.status.busy": "2021-12-11T02:30:09.802679Z",
     "iopub.status.idle": "2021-12-11T02:30:11.325515Z",
     "shell.execute_reply": "2021-12-11T02:30:11.326779Z"
    },
    "papermill": {
     "duration": 1.558447,
     "end_time": "2021-12-11T02:30:11.327253",
     "exception": false,
     "start_time": "2021-12-11T02:30:09.768806",
     "status": "completed"
    },
    "tags": []
   },
   "outputs": [],
   "source": [
    "df = pd.read_sql(\"select * from EBAY_TOP_BERLIN where record_time in (select distinct record_time from EBAY_TOP_BERLIN order by record_time desc limit 2)\", sqlite3.connect(\"UsedObjects.db\"))"
   ]
  },
  {
   "cell_type": "code",
   "execution_count": 5,
   "id": "popular-active",
   "metadata": {
    "execution": {
     "iopub.execute_input": "2021-12-11T02:30:11.405890Z",
     "iopub.status.busy": "2021-12-11T02:30:11.389566Z",
     "iopub.status.idle": "2021-12-11T02:30:11.424090Z",
     "shell.execute_reply": "2021-12-11T02:30:11.425669Z"
    },
    "papermill": {
     "duration": 0.077657,
     "end_time": "2021-12-11T02:30:11.426160",
     "exception": false,
     "start_time": "2021-12-11T02:30:11.348503",
     "status": "completed"
    },
    "tags": []
   },
   "outputs": [],
   "source": [
    "df_pivot = df.pivot_table(index=\"PRODUCT\", columns = \"RECORD_TIME\", values = \"LISTING_COUNT\")"
   ]
  },
  {
   "cell_type": "code",
   "execution_count": 6,
   "id": "union-huntington",
   "metadata": {
    "execution": {
     "iopub.execute_input": "2021-12-11T02:30:11.486749Z",
     "iopub.status.busy": "2021-12-11T02:30:11.484426Z",
     "iopub.status.idle": "2021-12-11T02:30:11.491952Z",
     "shell.execute_reply": "2021-12-11T02:30:11.490355Z"
    },
    "papermill": {
     "duration": 0.045343,
     "end_time": "2021-12-11T02:30:11.492392",
     "exception": false,
     "start_time": "2021-12-11T02:30:11.447049",
     "status": "completed"
    },
    "tags": []
   },
   "outputs": [],
   "source": [
    "df_pivot.columns = [\"stamp_1\", \"stamp_2\"]\n",
    "df_pivot_diff = df_pivot.diff(axis=1)"
   ]
  },
  {
   "cell_type": "code",
   "execution_count": 7,
   "id": "fifth-motion",
   "metadata": {
    "execution": {
     "iopub.execute_input": "2021-12-11T02:30:11.550194Z",
     "iopub.status.busy": "2021-12-11T02:30:11.547688Z",
     "iopub.status.idle": "2021-12-11T02:30:13.209748Z",
     "shell.execute_reply": "2021-12-11T02:30:13.211037Z"
    },
    "papermill": {
     "duration": 1.696938,
     "end_time": "2021-12-11T02:30:13.211459",
     "exception": false,
     "start_time": "2021-12-11T02:30:11.514521",
     "status": "completed"
    },
    "tags": []
   },
   "outputs": [
    {
     "data": {
      "text/plain": [
       "<AxesSubplot:ylabel='PRODUCT'>"
      ]
     },
     "execution_count": 7,
     "metadata": {},
     "output_type": "execute_result"
    },
    {
     "data": {
      "image/png": "[encoded data removed]",
      "text/plain": [
       "<Figure size 432x288 with 1 Axes>"
      ]
     },
     "metadata": {
      "needs_background": "light"
     },
     "output_type": "display_data"
    }
   ],
   "source": [
    "df_pivot_diff.sort_values(\"stamp_2\", ascending = False)[\"stamp_2\"].head(10).plot.barh()"
   ]
  },
  {
   "cell_type": "code",
   "execution_count": null,
   "id": "extra-executive",
   "metadata": {
    "papermill": {
     "duration": 0.021819,
     "end_time": "2021-12-11T02:30:13.257825",
     "exception": false,
     "start_time": "2021-12-11T02:30:13.236006",
     "status": "completed"
    },
    "tags": []
   },
   "outputs": [],
   "source": []
  }
 ],
 "metadata": {
  "kernelspec": {
   "display_name": "Python 3",
   "language": "python",
   "name": "python3"
  },
  "language_info": {
   "codemirror_mode": {
    "name": "ipython",
    "version": 3
   },
   "file_extension": ".py",
   "mimetype": "text/x-python",
   "name": "python",
   "nbconvert_exporter": "python",
   "pygments_lexer": "ipython3",
   "version": "3.9.5"
  },
  "papermill": {
   "default_parameters": {},
   "duration": 9.999135,
   "end_time": "2021-12-11T02:30:14.723027",
   "environment_variables": {},
   "exception": null,
   "input_path": "eBay_Overview.ipynb",
   "output_path": "eBay_Overview.ipynb",
   "parameters": {},
   "start_time": "2021-12-11T02:30:04.723892",
   "version": "2.3.3"
  }
 },
 "nbformat": 4,
 "nbformat_minor": 5
}