{
 "cells": [
  {
   "cell_type": "code",
   "execution_count": 1,
   "id": "reverse-picking",
   "metadata": {
    "execution": {
     "iopub.execute_input": "2021-11-19T03:00:07.408056Z",
     "iopub.status.busy": "2021-11-19T03:00:07.405054Z",
     "iopub.status.idle": "2021-11-19T03:00:08.345999Z",
     "shell.execute_reply": "2021-11-19T03:00:08.347669Z"
    },
    "papermill": {
     "duration": 0.988694,
     "end_time": "2021-11-19T03:00:08.348392",
     "exception": false,
     "start_time": "2021-11-19T03:00:07.359698",
     "status": "completed"
    },
    "tags": []
   },
   "outputs": [],
   "source": [
    "import pandas as pd\n",
    "import sqlite3"
   ]
  },
  {
   "cell_type": "code",
   "execution_count": 2,
   "id": "innovative-syndrome",
   "metadata": {
    "execution": {
     "iopub.execute_input": "2021-11-19T03:00:08.404585Z",
     "iopub.status.busy": "2021-11-19T03:00:08.402181Z",
     "iopub.status.idle": "2021-11-19T03:00:09.269001Z",
     "shell.execute_reply": "2021-11-19T03:00:09.270440Z"
    },
    "papermill": {
     "duration": 0.901112,
     "end_time": "2021-11-19T03:00:09.270940",
     "exception": false,
     "start_time": "2021-11-19T03:00:08.369828",
     "status": "completed"
    },
    "tags": []
   },
   "outputs": [],
   "source": [
    "timestamps = pd.read_sql(\"select distinct record_time from EBAY_TOP_BERLIN order by record_time desc limit 2\", sqlite3.connect(\"UsedObjects.db\"))"
   ]
  },
  {
   "cell_type": "code",
   "execution_count": 3,
   "id": "periodic-identification",
   "metadata": {
    "execution": {
     "iopub.execute_input": "2021-11-19T03:00:09.344423Z",
     "iopub.status.busy": "2021-11-19T03:00:09.341959Z",
     "iopub.status.idle": "2021-11-19T03:00:09.365295Z",
     "shell.execute_reply": "2021-11-19T03:00:09.366906Z"
    },
    "papermill": {
     "duration": 0.07571,
     "end_time": "2021-11-19T03:00:09.367385",
     "exception": false,
     "start_time": "2021-11-19T03:00:09.291675",
     "status": "completed"
    },
    "tags": []
   },
   "outputs": [
    {
     "data": {
      "text/html": [
       "<div>\n",
       "<style scoped>\n",
       "    .dataframe tbody tr th:only-of-type {\n",
       "        vertical-align: middle;\n",
       "    }\n",
       "\n",
       "    .dataframe tbody tr th {\n",
       "        vertical-align: top;\n",
       "    }\n",
       "\n",
       "    .dataframe thead th {\n",
       "        text-align: right;\n",
       "    }\n",
       "</style>\n",
       "<table border=\"1\" class=\"dataframe\">\n",
       "  <thead>\n",
       "    <tr style=\"text-align: right;\">\n",
       "      <th></th>\n",
       "      <th>RECORD_TIME</th>\n",
       "    </tr>\n",
       "  </thead>\n",
       "  <tbody>\n",
       "    <tr>\n",
       "      <th>0</th>\n",
       "      <td>2021-11-19 04:00</td>\n",
       "    </tr>\n",
       "    <tr>\n",
       "      <th>1</th>\n",
       "      <td>2021-11-19 03:30</td>\n",
       "    </tr>\n",
       "  </tbody>\n",
       "</table>\n",
       "</div>"
      ],
      "text/plain": [
       "        RECORD_TIME\n",
       "0  2021-11-19 04:00\n",
       "1  2021-11-19 03:30"
      ]
     },
     "execution_count": 3,
     "metadata": {},
     "output_type": "execute_result"
    }
   ],
   "source": [
    "timestamps"
   ]
  },
  {
   "cell_type": "code",
   "execution_count": 4,
   "id": "alternate-victory",
   "metadata": {
    "execution": {
     "iopub.execute_input": "2021-11-19T03:00:09.422551Z",
     "iopub.status.busy": "2021-11-19T03:00:09.420334Z",
     "iopub.status.idle": "2021-11-19T03:00:10.696529Z",
     "shell.execute_reply": "2021-11-19T03:00:10.697978Z"
    },
    "papermill": {
     "duration": 1.309589,
     "end_time": "2021-11-19T03:00:10.698458",
     "exception": false,
     "start_time": "2021-11-19T03:00:09.388869",
     "status": "completed"
    },
    "tags": []
   },
   "outputs": [],
   "source": [
    "df = pd.read_sql(\"select * from EBAY_TOP_BERLIN where record_time in (select distinct record_time from EBAY_TOP_BERLIN order by record_time desc limit 2)\", sqlite3.connect(\"UsedObjects.db\"))"
   ]
  },
  {
   "cell_type": "code",
   "execution_count": 5,
   "id": "popular-active",
   "metadata": {
    "execution": {
     "iopub.execute_input": "2021-11-19T03:00:10.764148Z",
     "iopub.status.busy": "2021-11-19T03:00:10.761763Z",
     "iopub.status.idle": "2021-11-19T03:00:10.789007Z",
     "shell.execute_reply": "2021-11-19T03:00:10.791393Z"
    },
    "papermill": {
     "duration": 0.072839,
     "end_time": "2021-11-19T03:00:10.791879",
     "exception": false,
     "start_time": "2021-11-19T03:00:10.719040",
     "status": "completed"
    },
    "tags": []
   },
   "outputs": [],
   "source": [
    "df_pivot = df.pivot_table(index=\"PRODUCT\", columns = \"RECORD_TIME\", values = \"LISTING_COUNT\")"
   ]
  },
  {
   "cell_type": "code",
   "execution_count": 6,
   "id": "union-huntington",
   "metadata": {
    "execution": {
     "iopub.execute_input": "2021-11-19T03:00:10.878530Z",
     "iopub.status.busy": "2021-11-19T03:00:10.876096Z",
     "iopub.status.idle": "2021-11-19T03:00:10.882172Z",
     "shell.execute_reply": "2021-11-19T03:00:10.883680Z"
    },
    "papermill": {
     "duration": 0.046548,
     "end_time": "2021-11-19T03:00:10.884178",
     "exception": false,
     "start_time": "2021-11-19T03:00:10.837630",
     "status": "completed"
    },
    "tags": []
   },
   "outputs": [],
   "source": [
    "df_pivot.columns = [\"stamp_1\", \"stamp_2\"]\n",
    "df_pivot_diff = df_pivot.diff(axis=1)"
   ]
  },
  {
   "cell_type": "code",
   "execution_count": 7,
   "id": "fifth-motion",
   "metadata": {
    "execution": {
     "iopub.execute_input": "2021-11-19T03:00:10.942922Z",
     "iopub.status.busy": "2021-11-19T03:00:10.940336Z",
     "iopub.status.idle": "2021-11-19T03:00:12.700281Z",
     "shell.execute_reply": "2021-11-19T03:00:12.701702Z"
    },
    "papermill": {
     "duration": 1.797167,
     "end_time": "2021-11-19T03:00:12.702186",
     "exception": false,
     "start_time": "2021-11-19T03:00:10.905019",
     "status": "completed"
    },
    "tags": []
   },
   "outputs": [
    {
     "data": {
      "text/plain": [
       "<AxesSubplot:ylabel='PRODUCT'>"
      ]
     },
     "execution_count": 7,
     "metadata": {},
     "output_type": "execute_result"
    },
    {
     "data": {
      "image/png": "[encoded data removed]",
      "text/plain": [
       "<Figure size 432x288 with 1 Axes>"
      ]
     },
     "metadata": {
      "needs_background": "light"
     },
     "output_type": "display_data"
    }
   ],
   "source": [
    "df_pivot_diff.sort_values(\"stamp_2\", ascending = False)[\"stamp_2\"].head(10).plot.barh()"
   ]
  },
  {
   "cell_type": "code",
   "execution_count": null,
   "id": "extra-executive",
   "metadata": {
    "papermill": {
     "duration": 0.023294,
     "end_time": "2021-11-19T03:00:12.748910",
     "exception": false,
     "start_time": "2021-11-19T03:00:12.725616",
     "status": "completed"
    },
    "tags": []
   },
   "outputs": [],
   "source": []
  }
 ],
 "metadata": {
  "kernelspec": {
   "display_name": "Python 3",
   "language": "python",
   "name": "python3"
  },
  "language_info": {
   "codemirror_mode": {
    "name": "ipython",
    "version": 3
   },
   "file_extension": ".py",
   "mimetype": "text/x-python",
   "name": "python",
   "nbconvert_exporter": "python",
   "pygments_lexer": "ipython3",
   "version": "3.9.5"
  },
  "papermill": {
   "default_parameters": {},
   "duration": 8.891598,
   "end_time": "2021-11-19T03:00:13.498604",
   "environment_variables": {},
   "exception": null,
   "input_path": "eBay_Overview.ipynb",
   "output_path": "eBay_Overview.ipynb",
   "parameters": {},
   "start_time": "2021-11-19T03:00:04.607006",
   "version": "2.3.3"
  }
 },
 "nbformat": 4,
 "nbformat_minor": 5
}