{
 "cells": [
  {
   "cell_type": "code",
   "execution_count": 1,
   "id": "reverse-picking",
   "metadata": {
    "execution": {
     "iopub.execute_input": "2021-10-14T22:00:07.450805Z",
     "iopub.status.busy": "2021-10-14T22:00:07.448759Z",
     "iopub.status.idle": "2021-10-14T22:00:08.252730Z",
     "shell.execute_reply": "2021-10-14T22:00:08.254068Z"
    },
    "papermill": {
     "duration": 0.855023,
     "end_time": "2021-10-14T22:00:08.254688",
     "exception": false,
     "start_time": "2021-10-14T22:00:07.399665",
     "status": "completed"
    },
    "tags": []
   },
   "outputs": [],
   "source": [
    "import pandas as pd\n",
    "import sqlite3"
   ]
  },
  {
   "cell_type": "code",
   "execution_count": 2,
   "id": "innovative-syndrome",
   "metadata": {
    "execution": {
     "iopub.execute_input": "2021-10-14T22:00:08.306332Z",
     "iopub.status.busy": "2021-10-14T22:00:08.304086Z",
     "iopub.status.idle": "2021-10-14T22:00:08.851831Z",
     "shell.execute_reply": "2021-10-14T22:00:08.853108Z"
    },
    "papermill": {
     "duration": 0.577387,
     "end_time": "2021-10-14T22:00:08.853517",
     "exception": false,
     "start_time": "2021-10-14T22:00:08.276130",
     "status": "completed"
    },
    "tags": []
   },
   "outputs": [],
   "source": [
    "timestamps = pd.read_sql(\"select distinct record_time from EBAY_TOP_BERLIN order by record_time desc limit 2\", sqlite3.connect(\"UsedObjects.db\"))"
   ]
  },
  {
   "cell_type": "code",
   "execution_count": 3,
   "id": "periodic-identification",
   "metadata": {
    "execution": {
     "iopub.execute_input": "2021-10-14T22:00:08.934733Z",
     "iopub.status.busy": "2021-10-14T22:00:08.929635Z",
     "iopub.status.idle": "2021-10-14T22:00:08.950200Z",
     "shell.execute_reply": "2021-10-14T22:00:08.951695Z"
    },
    "papermill": {
     "duration": 0.079019,
     "end_time": "2021-10-14T22:00:08.952157",
     "exception": false,
     "start_time": "2021-10-14T22:00:08.873138",
     "status": "completed"
    },
    "tags": []
   },
   "outputs": [
    {
     "data": {
      "text/html": [
       "<div>\n",
       "<style scoped>\n",
       "    .dataframe tbody tr th:only-of-type {\n",
       "        vertical-align: middle;\n",
       "    }\n",
       "\n",
       "    .dataframe tbody tr th {\n",
       "        vertical-align: top;\n",
       "    }\n",
       "\n",
       "    .dataframe thead th {\n",
       "        text-align: right;\n",
       "    }\n",
       "</style>\n",
       "<table border=\"1\" class=\"dataframe\">\n",
       "  <thead>\n",
       "    <tr style=\"text-align: right;\">\n",
       "      <th></th>\n",
       "      <th>RECORD_TIME</th>\n",
       "    </tr>\n",
       "  </thead>\n",
       "  <tbody>\n",
       "    <tr>\n",
       "      <th>0</th>\n",
       "      <td>2021-10-15 00:00</td>\n",
       "    </tr>\n",
       "    <tr>\n",
       "      <th>1</th>\n",
       "      <td>2021-10-14 23:30</td>\n",
       "    </tr>\n",
       "  </tbody>\n",
       "</table>\n",
       "</div>"
      ],
      "text/plain": [
       "        RECORD_TIME\n",
       "0  2021-10-15 00:00\n",
       "1  2021-10-14 23:30"
      ]
     },
     "execution_count": 3,
     "metadata": {},
     "output_type": "execute_result"
    }
   ],
   "source": [
    "timestamps"
   ]
  },
  {
   "cell_type": "code",
   "execution_count": 4,
   "id": "alternate-victory",
   "metadata": {
    "execution": {
     "iopub.execute_input": "2021-10-14T22:00:09.004113Z",
     "iopub.status.busy": "2021-10-14T22:00:09.002291Z",
     "iopub.status.idle": "2021-10-14T22:00:09.810457Z",
     "shell.execute_reply": "2021-10-14T22:00:09.811946Z"
    },
    "papermill": {
     "duration": 0.838453,
     "end_time": "2021-10-14T22:00:09.812410",
     "exception": false,
     "start_time": "2021-10-14T22:00:08.973957",
     "status": "completed"
    },
    "tags": []
   },
   "outputs": [],
   "source": [
    "df = pd.read_sql(\"select * from EBAY_TOP_BERLIN where record_time in (select distinct record_time from EBAY_TOP_BERLIN order by record_time desc limit 2)\", sqlite3.connect(\"UsedObjects.db\"))"
   ]
  },
  {
   "cell_type": "code",
   "execution_count": 5,
   "id": "popular-active",
   "metadata": {
    "execution": {
     "iopub.execute_input": "2021-10-14T22:00:09.882229Z",
     "iopub.status.busy": "2021-10-14T22:00:09.870784Z",
     "iopub.status.idle": "2021-10-14T22:00:09.899150Z",
     "shell.execute_reply": "2021-10-14T22:00:09.900446Z"
    },
    "papermill": {
     "duration": 0.067024,
     "end_time": "2021-10-14T22:00:09.900921",
     "exception": false,
     "start_time": "2021-10-14T22:00:09.833897",
     "status": "completed"
    },
    "tags": []
   },
   "outputs": [],
   "source": [
    "df_pivot = df.pivot_table(index=\"PRODUCT\", columns = \"RECORD_TIME\", values = \"LISTING_COUNT\")"
   ]
  },
  {
   "cell_type": "code",
   "execution_count": 6,
   "id": "union-huntington",
   "metadata": {
    "execution": {
     "iopub.execute_input": "2021-10-14T22:00:09.957270Z",
     "iopub.status.busy": "2021-10-14T22:00:09.955181Z",
     "iopub.status.idle": "2021-10-14T22:00:09.960804Z",
     "shell.execute_reply": "2021-10-14T22:00:09.962020Z"
    },
    "papermill": {
     "duration": 0.041315,
     "end_time": "2021-10-14T22:00:09.962453",
     "exception": false,
     "start_time": "2021-10-14T22:00:09.921138",
     "status": "completed"
    },
    "tags": []
   },
   "outputs": [],
   "source": [
    "df_pivot.columns = [\"stamp_1\", \"stamp_2\"]\n",
    "df_pivot_diff = df_pivot.diff(axis=1)"
   ]
  },
  {
   "cell_type": "code",
   "execution_count": 7,
   "id": "fifth-motion",
   "metadata": {
    "execution": {
     "iopub.execute_input": "2021-10-14T22:00:10.020025Z",
     "iopub.status.busy": "2021-10-14T22:00:10.017366Z",
     "iopub.status.idle": "2021-10-14T22:00:11.518200Z",
     "shell.execute_reply": "2021-10-14T22:00:11.519487Z"
    },
    "papermill": {
     "duration": 1.53455,
     "end_time": "2021-10-14T22:00:11.519904",
     "exception": false,
     "start_time": "2021-10-14T22:00:09.985354",
     "status": "completed"
    },
    "tags": []
   },
   "outputs": [
    {
     "data": {
      "text/plain": [
       "<AxesSubplot:ylabel='PRODUCT'>"
      ]
     },
     "execution_count": 7,
     "metadata": {},
     "output_type": "execute_result"
    },
    {
     "data": {
      "image/png": "[encoded data removed]",
      "text/plain": [
       "<Figure size 432x288 with 1 Axes>"
      ]
     },
     "metadata": {
      "needs_background": "light"
     },
     "output_type": "display_data"
    }
   ],
   "source": [
    "df_pivot_diff.sort_values(\"stamp_2\", ascending = False)[\"stamp_2\"].head(10).plot.barh()"
   ]
  },
  {
   "cell_type": "code",
   "execution_count": null,
   "id": "extra-executive",
   "metadata": {
    "papermill": {
     "duration": 0.021945,
     "end_time": "2021-10-14T22:00:11.565375",
     "exception": false,
     "start_time": "2021-10-14T22:00:11.543430",
     "status": "completed"
    },
    "tags": []
   },
   "outputs": [],
   "source": []
  }
 ],
 "metadata": {
  "kernelspec": {
   "display_name": "Python 3",
   "language": "python",
   "name": "python3"
  },
  "language_info": {
   "codemirror_mode": {
    "name": "ipython",
    "version": 3
   },
   "file_extension": ".py",
   "mimetype": "text/x-python",
   "name": "python",
   "nbconvert_exporter": "python",
   "pygments_lexer": "ipython3",
   "version": "3.9.5"
  },
  "papermill": {
   "default_parameters": {},
   "duration": 7.832149,
   "end_time": "2021-10-14T22:00:12.827872",
   "environment_variables": {},
   "exception": null,
   "input_path": "eBay_Overview.ipynb",
   "output_path": "eBay_Overview.ipynb",
   "parameters": {},
   "start_time": "2021-10-14T22:00:04.995723",
   "version": "2.3.3"
  }
 },
 "nbformat": 4,
 "nbformat_minor": 5
}