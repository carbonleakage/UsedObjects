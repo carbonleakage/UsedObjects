{
 "cells": [
  {
   "cell_type": "code",
   "execution_count": 1,
   "id": "reverse-picking",
   "metadata": {
    "execution": {
     "iopub.execute_input": "2021-10-19T10:00:07.290648Z",
     "iopub.status.busy": "2021-10-19T10:00:07.288744Z",
     "iopub.status.idle": "2021-10-19T10:00:08.100493Z",
     "shell.execute_reply": "2021-10-19T10:00:08.098872Z"
    },
    "papermill": {
     "duration": 0.860644,
     "end_time": "2021-10-19T10:00:08.100957",
     "exception": false,
     "start_time": "2021-10-19T10:00:07.240313",
     "status": "completed"
    },
    "tags": []
   },
   "outputs": [],
   "source": [
    "import pandas as pd\n",
    "import sqlite3"
   ]
  },
  {
   "cell_type": "code",
   "execution_count": 2,
   "id": "innovative-syndrome",
   "metadata": {
    "execution": {
     "iopub.execute_input": "2021-10-19T10:00:08.151818Z",
     "iopub.status.busy": "2021-10-19T10:00:08.149752Z",
     "iopub.status.idle": "2021-10-19T10:00:08.728033Z",
     "shell.execute_reply": "2021-10-19T10:00:08.729306Z"
    },
    "papermill": {
     "duration": 0.60847,
     "end_time": "2021-10-19T10:00:08.729711",
     "exception": false,
     "start_time": "2021-10-19T10:00:08.121241",
     "status": "completed"
    },
    "tags": []
   },
   "outputs": [],
   "source": [
    "timestamps = pd.read_sql(\"select distinct record_time from EBAY_TOP_BERLIN order by record_time desc limit 2\", sqlite3.connect(\"UsedObjects.db\"))"
   ]
  },
  {
   "cell_type": "code",
   "execution_count": 3,
   "id": "periodic-identification",
   "metadata": {
    "execution": {
     "iopub.execute_input": "2021-10-19T10:00:08.805724Z",
     "iopub.status.busy": "2021-10-19T10:00:08.803651Z",
     "iopub.status.idle": "2021-10-19T10:00:08.823430Z",
     "shell.execute_reply": "2021-10-19T10:00:08.824624Z"
    },
    "papermill": {
     "duration": 0.069283,
     "end_time": "2021-10-19T10:00:08.825215",
     "exception": false,
     "start_time": "2021-10-19T10:00:08.755932",
     "status": "completed"
    },
    "tags": []
   },
   "outputs": [
    {
     "data": {
      "text/html": [
       "<div>\n",
       "<style scoped>\n",
       "    .dataframe tbody tr th:only-of-type {\n",
       "        vertical-align: middle;\n",
       "    }\n",
       "\n",
       "    .dataframe tbody tr th {\n",
       "        vertical-align: top;\n",
       "    }\n",
       "\n",
       "    .dataframe thead th {\n",
       "        text-align: right;\n",
       "    }\n",
       "</style>\n",
       "<table border=\"1\" class=\"dataframe\">\n",
       "  <thead>\n",
       "    <tr style=\"text-align: right;\">\n",
       "      <th></th>\n",
       "      <th>RECORD_TIME</th>\n",
       "    </tr>\n",
       "  </thead>\n",
       "  <tbody>\n",
       "    <tr>\n",
       "      <th>0</th>\n",
       "      <td>2021-10-19 12:00</td>\n",
       "    </tr>\n",
       "    <tr>\n",
       "      <th>1</th>\n",
       "      <td>2021-10-19 11:30</td>\n",
       "    </tr>\n",
       "  </tbody>\n",
       "</table>\n",
       "</div>"
      ],
      "text/plain": [
       "        RECORD_TIME\n",
       "0  2021-10-19 12:00\n",
       "1  2021-10-19 11:30"
      ]
     },
     "execution_count": 3,
     "metadata": {},
     "output_type": "execute_result"
    }
   ],
   "source": [
    "timestamps"
   ]
  },
  {
   "cell_type": "code",
   "execution_count": 4,
   "id": "alternate-victory",
   "metadata": {
    "execution": {
     "iopub.execute_input": "2021-10-19T10:00:08.876982Z",
     "iopub.status.busy": "2021-10-19T10:00:08.874695Z",
     "iopub.status.idle": "2021-10-19T10:00:09.702065Z",
     "shell.execute_reply": "2021-10-19T10:00:09.703259Z"
    },
    "papermill": {
     "duration": 0.857603,
     "end_time": "2021-10-19T10:00:09.703647",
     "exception": false,
     "start_time": "2021-10-19T10:00:08.846044",
     "status": "completed"
    },
    "tags": []
   },
   "outputs": [],
   "source": [
    "df = pd.read_sql(\"select * from EBAY_TOP_BERLIN where record_time in (select distinct record_time from EBAY_TOP_BERLIN order by record_time desc limit 2)\", sqlite3.connect(\"UsedObjects.db\"))"
   ]
  },
  {
   "cell_type": "code",
   "execution_count": 5,
   "id": "popular-active",
   "metadata": {
    "execution": {
     "iopub.execute_input": "2021-10-19T10:00:09.774005Z",
     "iopub.status.busy": "2021-10-19T10:00:09.761627Z",
     "iopub.status.idle": "2021-10-19T10:00:09.790304Z",
     "shell.execute_reply": "2021-10-19T10:00:09.791657Z"
    },
    "papermill": {
     "duration": 0.067433,
     "end_time": "2021-10-19T10:00:09.792094",
     "exception": false,
     "start_time": "2021-10-19T10:00:09.724661",
     "status": "completed"
    },
    "tags": []
   },
   "outputs": [],
   "source": [
    "df_pivot = df.pivot_table(index=\"PRODUCT\", columns = \"RECORD_TIME\", values = \"LISTING_COUNT\")"
   ]
  },
  {
   "cell_type": "code",
   "execution_count": 6,
   "id": "union-huntington",
   "metadata": {
    "execution": {
     "iopub.execute_input": "2021-10-19T10:00:09.848610Z",
     "iopub.status.busy": "2021-10-19T10:00:09.846576Z",
     "iopub.status.idle": "2021-10-19T10:00:09.852019Z",
     "shell.execute_reply": "2021-10-19T10:00:09.853375Z"
    },
    "papermill": {
     "duration": 0.041328,
     "end_time": "2021-10-19T10:00:09.853794",
     "exception": false,
     "start_time": "2021-10-19T10:00:09.812466",
     "status": "completed"
    },
    "tags": []
   },
   "outputs": [],
   "source": [
    "df_pivot.columns = [\"stamp_1\", \"stamp_2\"]\n",
    "df_pivot_diff = df_pivot.diff(axis=1)"
   ]
  },
  {
   "cell_type": "code",
   "execution_count": 7,
   "id": "fifth-motion",
   "metadata": {
    "execution": {
     "iopub.execute_input": "2021-10-19T10:00:09.908881Z",
     "iopub.status.busy": "2021-10-19T10:00:09.906503Z",
     "iopub.status.idle": "2021-10-19T10:00:11.430708Z",
     "shell.execute_reply": "2021-10-19T10:00:11.432056Z"
    },
    "papermill": {
     "duration": 1.557349,
     "end_time": "2021-10-19T10:00:11.432520",
     "exception": false,
     "start_time": "2021-10-19T10:00:09.875171",
     "status": "completed"
    },
    "tags": []
   },
   "outputs": [
    {
     "data": {
      "text/plain": [
       "<AxesSubplot:ylabel='PRODUCT'>"
      ]
     },
     "execution_count": 7,
     "metadata": {},
     "output_type": "execute_result"
    },
    {
     "data": {
      "image/png": "[encoded data removed]",
      "text/plain": [
       "<Figure size 432x288 with 1 Axes>"
      ]
     },
     "metadata": {
      "needs_background": "light"
     },
     "output_type": "display_data"
    }
   ],
   "source": [
    "df_pivot_diff.sort_values(\"stamp_2\", ascending = False)[\"stamp_2\"].head(10).plot.barh()"
   ]
  },
  {
   "cell_type": "code",
   "execution_count": null,
   "id": "extra-executive",
   "metadata": {
    "papermill": {
     "duration": 0.022183,
     "end_time": "2021-10-19T10:00:11.479767",
     "exception": false,
     "start_time": "2021-10-19T10:00:11.457584",
     "status": "completed"
    },
    "tags": []
   },
   "outputs": [],
   "source": []
  }
 ],
 "metadata": {
  "kernelspec": {
   "display_name": "Python 3",
   "language": "python",
   "name": "python3"
  },
  "language_info": {
   "codemirror_mode": {
    "name": "ipython",
    "version": 3
   },
   "file_extension": ".py",
   "mimetype": "text/x-python",
   "name": "python",
   "nbconvert_exporter": "python",
   "pygments_lexer": "ipython3",
   "version": "3.9.5"
  },
  "papermill": {
   "default_parameters": {},
   "duration": 7.819277,
   "end_time": "2021-10-19T10:00:12.657830",
   "environment_variables": {},
   "exception": null,
   "input_path": "eBay_Overview.ipynb",
   "output_path": "eBay_Overview.ipynb",
   "parameters": {},
   "start_time": "2021-10-19T10:00:04.838553",
   "version": "2.3.3"
  }
 },
 "nbformat": 4,
 "nbformat_minor": 5
}