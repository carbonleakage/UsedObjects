{
 "cells": [
  {
   "cell_type": "code",
   "execution_count": 1,
   "id": "reverse-picking",
   "metadata": {
    "execution": {
     "iopub.execute_input": "2021-09-12T10:30:07.028694Z",
     "iopub.status.busy": "2021-09-12T10:30:07.026663Z",
     "iopub.status.idle": "2021-09-12T10:30:07.835885Z",
     "shell.execute_reply": "2021-09-12T10:30:07.837302Z"
    },
    "papermill": {
     "duration": 0.860269,
     "end_time": "2021-09-12T10:30:07.837978",
     "exception": false,
     "start_time": "2021-09-12T10:30:06.977709",
     "status": "completed"
    },
    "tags": []
   },
   "outputs": [],
   "source": [
    "import pandas as pd\n",
    "import sqlite3"
   ]
  },
  {
   "cell_type": "code",
   "execution_count": 2,
   "id": "innovative-syndrome",
   "metadata": {
    "execution": {
     "iopub.execute_input": "2021-09-12T10:30:07.889122Z",
     "iopub.status.busy": "2021-09-12T10:30:07.886719Z",
     "iopub.status.idle": "2021-09-12T10:30:08.161783Z",
     "shell.execute_reply": "2021-09-12T10:30:08.163100Z"
    },
    "papermill": {
     "duration": 0.30501,
     "end_time": "2021-09-12T10:30:08.163536",
     "exception": false,
     "start_time": "2021-09-12T10:30:07.858526",
     "status": "completed"
    },
    "tags": []
   },
   "outputs": [],
   "source": [
    "timestamps = pd.read_sql(\"select distinct record_time from EBAY_TOP_BERLIN order by record_time desc limit 2\", sqlite3.connect(\"UsedObjects.db\"))"
   ]
  },
  {
   "cell_type": "code",
   "execution_count": 3,
   "id": "periodic-identification",
   "metadata": {
    "execution": {
     "iopub.execute_input": "2021-09-12T10:30:08.231920Z",
     "iopub.status.busy": "2021-09-12T10:30:08.226733Z",
     "iopub.status.idle": "2021-09-12T10:30:08.246526Z",
     "shell.execute_reply": "2021-09-12T10:30:08.247932Z"
    },
    "papermill": {
     "duration": 0.065221,
     "end_time": "2021-09-12T10:30:08.248362",
     "exception": false,
     "start_time": "2021-09-12T10:30:08.183141",
     "status": "completed"
    },
    "tags": []
   },
   "outputs": [
    {
     "data": {
      "text/html": [
       "<div>\n",
       "<style scoped>\n",
       "    .dataframe tbody tr th:only-of-type {\n",
       "        vertical-align: middle;\n",
       "    }\n",
       "\n",
       "    .dataframe tbody tr th {\n",
       "        vertical-align: top;\n",
       "    }\n",
       "\n",
       "    .dataframe thead th {\n",
       "        text-align: right;\n",
       "    }\n",
       "</style>\n",
       "<table border=\"1\" class=\"dataframe\">\n",
       "  <thead>\n",
       "    <tr style=\"text-align: right;\">\n",
       "      <th></th>\n",
       "      <th>RECORD_TIME</th>\n",
       "    </tr>\n",
       "  </thead>\n",
       "  <tbody>\n",
       "    <tr>\n",
       "      <th>0</th>\n",
       "      <td>2021-09-12 12:30</td>\n",
       "    </tr>\n",
       "    <tr>\n",
       "      <th>1</th>\n",
       "      <td>2021-09-12 12:00</td>\n",
       "    </tr>\n",
       "  </tbody>\n",
       "</table>\n",
       "</div>"
      ],
      "text/plain": [
       "        RECORD_TIME\n",
       "0  2021-09-12 12:30\n",
       "1  2021-09-12 12:00"
      ]
     },
     "execution_count": 3,
     "metadata": {},
     "output_type": "execute_result"
    }
   ],
   "source": [
    "timestamps"
   ]
  },
  {
   "cell_type": "code",
   "execution_count": 4,
   "id": "alternate-victory",
   "metadata": {
    "execution": {
     "iopub.execute_input": "2021-09-12T10:30:08.299906Z",
     "iopub.status.busy": "2021-09-12T10:30:08.297933Z",
     "iopub.status.idle": "2021-09-12T10:30:08.700223Z",
     "shell.execute_reply": "2021-09-12T10:30:08.701423Z"
    },
    "papermill": {
     "duration": 0.432366,
     "end_time": "2021-09-12T10:30:08.701820",
     "exception": false,
     "start_time": "2021-09-12T10:30:08.269454",
     "status": "completed"
    },
    "tags": []
   },
   "outputs": [],
   "source": [
    "df = pd.read_sql(\"select * from EBAY_TOP_BERLIN where record_time in (select distinct record_time from EBAY_TOP_BERLIN order by record_time desc limit 2)\", sqlite3.connect(\"UsedObjects.db\"))"
   ]
  },
  {
   "cell_type": "code",
   "execution_count": 5,
   "id": "popular-active",
   "metadata": {
    "execution": {
     "iopub.execute_input": "2021-09-12T10:30:08.772347Z",
     "iopub.status.busy": "2021-09-12T10:30:08.761122Z",
     "iopub.status.idle": "2021-09-12T10:30:08.789582Z",
     "shell.execute_reply": "2021-09-12T10:30:08.790928Z"
    },
    "papermill": {
     "duration": 0.067515,
     "end_time": "2021-09-12T10:30:08.791362",
     "exception": false,
     "start_time": "2021-09-12T10:30:08.723847",
     "status": "completed"
    },
    "tags": []
   },
   "outputs": [],
   "source": [
    "df_pivot = df.pivot_table(index=\"PRODUCT\", columns = \"RECORD_TIME\", values = \"LISTING_COUNT\")"
   ]
  },
  {
   "cell_type": "code",
   "execution_count": 6,
   "id": "union-huntington",
   "metadata": {
    "execution": {
     "iopub.execute_input": "2021-09-12T10:30:08.847580Z",
     "iopub.status.busy": "2021-09-12T10:30:08.845498Z",
     "iopub.status.idle": "2021-09-12T10:30:08.850992Z",
     "shell.execute_reply": "2021-09-12T10:30:08.852190Z"
    },
    "papermill": {
     "duration": 0.041017,
     "end_time": "2021-09-12T10:30:08.852620",
     "exception": false,
     "start_time": "2021-09-12T10:30:08.811603",
     "status": "completed"
    },
    "tags": []
   },
   "outputs": [],
   "source": [
    "df_pivot.columns = [\"stamp_1\", \"stamp_2\"]\n",
    "df_pivot_diff = df_pivot.diff(axis=1)"
   ]
  },
  {
   "cell_type": "code",
   "execution_count": 7,
   "id": "fifth-motion",
   "metadata": {
    "execution": {
     "iopub.execute_input": "2021-09-12T10:30:08.910337Z",
     "iopub.status.busy": "2021-09-12T10:30:08.907710Z",
     "iopub.status.idle": "2021-09-12T10:30:10.385558Z",
     "shell.execute_reply": "2021-09-12T10:30:10.386840Z"
    },
    "papermill": {
     "duration": 1.511851,
     "end_time": "2021-09-12T10:30:10.387463",
     "exception": false,
     "start_time": "2021-09-12T10:30:08.875612",
     "status": "completed"
    },
    "tags": []
   },
   "outputs": [
    {
     "data": {
      "text/plain": [
       "<AxesSubplot:ylabel='PRODUCT'>"
      ]
     },
     "execution_count": 7,
     "metadata": {},
     "output_type": "execute_result"
    },
    {
     "data": {
      "image/png": "[encoded data removed]",
      "text/plain": [
       "<Figure size 432x288 with 1 Axes>"
      ]
     },
     "metadata": {
      "needs_background": "light"
     },
     "output_type": "display_data"
    }
   ],
   "source": [
    "df_pivot_diff.sort_values(\"stamp_2\", ascending = False)[\"stamp_2\"].head(10).plot.barh()"
   ]
  },
  {
   "cell_type": "code",
   "execution_count": null,
   "id": "extra-executive",
   "metadata": {
    "papermill": {
     "duration": 0.022491,
     "end_time": "2021-09-12T10:30:10.435222",
     "exception": false,
     "start_time": "2021-09-12T10:30:10.412731",
     "status": "completed"
    },
    "tags": []
   },
   "outputs": [],
   "source": []
  }
 ],
 "metadata": {
  "kernelspec": {
   "display_name": "Python 3",
   "language": "python",
   "name": "python3"
  },
  "language_info": {
   "codemirror_mode": {
    "name": "ipython",
    "version": 3
   },
   "file_extension": ".py",
   "mimetype": "text/x-python",
   "name": "python",
   "nbconvert_exporter": "python",
   "pygments_lexer": "ipython3",
   "version": "3.9.5"
  },
  "papermill": {
   "default_parameters": {},
   "duration": 6.513299,
   "end_time": "2021-09-12T10:30:11.075876",
   "environment_variables": {},
   "exception": null,
   "input_path": "eBay_Overview.ipynb",
   "output_path": "eBay_Overview.ipynb",
   "parameters": {},
   "start_time": "2021-09-12T10:30:04.562577",
   "version": "2.3.3"
  }
 },
 "nbformat": 4,
 "nbformat_minor": 5
}