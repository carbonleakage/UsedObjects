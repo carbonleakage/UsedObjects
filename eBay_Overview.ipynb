{
 "cells": [
  {
   "cell_type": "code",
   "execution_count": 1,
   "id": "reverse-picking",
   "metadata": {
    "execution": {
     "iopub.execute_input": "2021-09-24T15:00:06.873831Z",
     "iopub.status.busy": "2021-09-24T15:00:06.871906Z",
     "iopub.status.idle": "2021-09-24T15:00:07.680134Z",
     "shell.execute_reply": "2021-09-24T15:00:07.681414Z"
    },
    "papermill": {
     "duration": 0.85826,
     "end_time": "2021-09-24T15:00:07.682034",
     "exception": false,
     "start_time": "2021-09-24T15:00:06.823774",
     "status": "completed"
    },
    "tags": []
   },
   "outputs": [],
   "source": [
    "import pandas as pd\n",
    "import sqlite3"
   ]
  },
  {
   "cell_type": "code",
   "execution_count": 2,
   "id": "innovative-syndrome",
   "metadata": {
    "execution": {
     "iopub.execute_input": "2021-09-24T15:00:07.731586Z",
     "iopub.status.busy": "2021-09-24T15:00:07.729587Z",
     "iopub.status.idle": "2021-09-24T15:00:08.121420Z",
     "shell.execute_reply": "2021-09-24T15:00:08.122624Z"
    },
    "papermill": {
     "duration": 0.421279,
     "end_time": "2021-09-24T15:00:08.123106",
     "exception": false,
     "start_time": "2021-09-24T15:00:07.701827",
     "status": "completed"
    },
    "tags": []
   },
   "outputs": [],
   "source": [
    "timestamps = pd.read_sql(\"select distinct record_time from EBAY_TOP_BERLIN order by record_time desc limit 2\", sqlite3.connect(\"UsedObjects.db\"))"
   ]
  },
  {
   "cell_type": "code",
   "execution_count": 3,
   "id": "periodic-identification",
   "metadata": {
    "execution": {
     "iopub.execute_input": "2021-09-24T15:00:08.185950Z",
     "iopub.status.busy": "2021-09-24T15:00:08.183922Z",
     "iopub.status.idle": "2021-09-24T15:00:08.204144Z",
     "shell.execute_reply": "2021-09-24T15:00:08.205331Z"
    },
    "papermill": {
     "duration": 0.06338,
     "end_time": "2021-09-24T15:00:08.205767",
     "exception": false,
     "start_time": "2021-09-24T15:00:08.142387",
     "status": "completed"
    },
    "tags": []
   },
   "outputs": [
    {
     "data": {
      "text/html": [
       "<div>\n",
       "<style scoped>\n",
       "    .dataframe tbody tr th:only-of-type {\n",
       "        vertical-align: middle;\n",
       "    }\n",
       "\n",
       "    .dataframe tbody tr th {\n",
       "        vertical-align: top;\n",
       "    }\n",
       "\n",
       "    .dataframe thead th {\n",
       "        text-align: right;\n",
       "    }\n",
       "</style>\n",
       "<table border=\"1\" class=\"dataframe\">\n",
       "  <thead>\n",
       "    <tr style=\"text-align: right;\">\n",
       "      <th></th>\n",
       "      <th>RECORD_TIME</th>\n",
       "    </tr>\n",
       "  </thead>\n",
       "  <tbody>\n",
       "    <tr>\n",
       "      <th>0</th>\n",
       "      <td>2021-09-24 17:00</td>\n",
       "    </tr>\n",
       "    <tr>\n",
       "      <th>1</th>\n",
       "      <td>2021-09-24 16:30</td>\n",
       "    </tr>\n",
       "  </tbody>\n",
       "</table>\n",
       "</div>"
      ],
      "text/plain": [
       "        RECORD_TIME\n",
       "0  2021-09-24 17:00\n",
       "1  2021-09-24 16:30"
      ]
     },
     "execution_count": 3,
     "metadata": {},
     "output_type": "execute_result"
    }
   ],
   "source": [
    "timestamps"
   ]
  },
  {
   "cell_type": "code",
   "execution_count": 4,
   "id": "alternate-victory",
   "metadata": {
    "execution": {
     "iopub.execute_input": "2021-09-24T15:00:08.259770Z",
     "iopub.status.busy": "2021-09-24T15:00:08.257680Z",
     "iopub.status.idle": "2021-09-24T15:00:08.808708Z",
     "shell.execute_reply": "2021-09-24T15:00:08.809840Z"
    },
    "papermill": {
     "duration": 0.582063,
     "end_time": "2021-09-24T15:00:08.810262",
     "exception": false,
     "start_time": "2021-09-24T15:00:08.228199",
     "status": "completed"
    },
    "tags": []
   },
   "outputs": [],
   "source": [
    "df = pd.read_sql(\"select * from EBAY_TOP_BERLIN where record_time in (select distinct record_time from EBAY_TOP_BERLIN order by record_time desc limit 2)\", sqlite3.connect(\"UsedObjects.db\"))"
   ]
  },
  {
   "cell_type": "code",
   "execution_count": 5,
   "id": "popular-active",
   "metadata": {
    "execution": {
     "iopub.execute_input": "2021-09-24T15:00:08.882514Z",
     "iopub.status.busy": "2021-09-24T15:00:08.869760Z",
     "iopub.status.idle": "2021-09-24T15:00:08.898286Z",
     "shell.execute_reply": "2021-09-24T15:00:08.899640Z"
    },
    "papermill": {
     "duration": 0.068257,
     "end_time": "2021-09-24T15:00:08.900072",
     "exception": false,
     "start_time": "2021-09-24T15:00:08.831815",
     "status": "completed"
    },
    "tags": []
   },
   "outputs": [],
   "source": [
    "df_pivot = df.pivot_table(index=\"PRODUCT\", columns = \"RECORD_TIME\", values = \"LISTING_COUNT\")"
   ]
  },
  {
   "cell_type": "code",
   "execution_count": 6,
   "id": "union-huntington",
   "metadata": {
    "execution": {
     "iopub.execute_input": "2021-09-24T15:00:08.955284Z",
     "iopub.status.busy": "2021-09-24T15:00:08.953198Z",
     "iopub.status.idle": "2021-09-24T15:00:08.958601Z",
     "shell.execute_reply": "2021-09-24T15:00:08.959952Z"
    },
    "papermill": {
     "duration": 0.040531,
     "end_time": "2021-09-24T15:00:08.960383",
     "exception": false,
     "start_time": "2021-09-24T15:00:08.919852",
     "status": "completed"
    },
    "tags": []
   },
   "outputs": [],
   "source": [
    "df_pivot.columns = [\"stamp_1\", \"stamp_2\"]\n",
    "df_pivot_diff = df_pivot.diff(axis=1)"
   ]
  },
  {
   "cell_type": "code",
   "execution_count": 7,
   "id": "fifth-motion",
   "metadata": {
    "execution": {
     "iopub.execute_input": "2021-09-24T15:00:09.014711Z",
     "iopub.status.busy": "2021-09-24T15:00:09.012325Z",
     "iopub.status.idle": "2021-09-24T15:00:10.495944Z",
     "shell.execute_reply": "2021-09-24T15:00:10.497232Z"
    },
    "papermill": {
     "duration": 1.516131,
     "end_time": "2021-09-24T15:00:10.497660",
     "exception": false,
     "start_time": "2021-09-24T15:00:08.981529",
     "status": "completed"
    },
    "tags": []
   },
   "outputs": [
    {
     "data": {
      "text/plain": [
       "<AxesSubplot:ylabel='PRODUCT'>"
      ]
     },
     "execution_count": 7,
     "metadata": {},
     "output_type": "execute_result"
    },
    {
     "data": {
      "image/png": "[encoded data removed]",
      "text/plain": [
       "<Figure size 432x288 with 1 Axes>"
      ]
     },
     "metadata": {
      "needs_background": "light"
     },
     "output_type": "display_data"
    }
   ],
   "source": [
    "df_pivot_diff.sort_values(\"stamp_2\", ascending = False)[\"stamp_2\"].head(10).plot.barh()"
   ]
  },
  {
   "cell_type": "code",
   "execution_count": null,
   "id": "extra-executive",
   "metadata": {
    "papermill": {
     "duration": 0.022127,
     "end_time": "2021-09-24T15:00:10.542691",
     "exception": false,
     "start_time": "2021-09-24T15:00:10.520564",
     "status": "completed"
    },
    "tags": []
   },
   "outputs": [],
   "source": []
  }
 ],
 "metadata": {
  "kernelspec": {
   "display_name": "Python 3",
   "language": "python",
   "name": "python3"
  },
  "language_info": {
   "codemirror_mode": {
    "name": "ipython",
    "version": 3
   },
   "file_extension": ".py",
   "mimetype": "text/x-python",
   "name": "python",
   "nbconvert_exporter": "python",
   "pygments_lexer": "ipython3",
   "version": "3.9.5"
  },
  "papermill": {
   "default_parameters": {},
   "duration": 6.763496,
   "end_time": "2021-09-24T15:00:11.185270",
   "environment_variables": {},
   "exception": null,
   "input_path": "eBay_Overview.ipynb",
   "output_path": "eBay_Overview.ipynb",
   "parameters": {},
   "start_time": "2021-09-24T15:00:04.421774",
   "version": "2.3.3"
  }
 },
 "nbformat": 4,
 "nbformat_minor": 5
}