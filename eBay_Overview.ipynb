{
 "cells": [
  {
   "cell_type": "code",
   "execution_count": 1,
   "id": "reverse-picking",
   "metadata": {
    "execution": {
     "iopub.execute_input": "2021-12-19T06:00:07.165429Z",
     "iopub.status.busy": "2021-12-19T06:00:07.163037Z",
     "iopub.status.idle": "2021-12-19T06:00:08.127926Z",
     "shell.execute_reply": "2021-12-19T06:00:08.129628Z"
    },
    "papermill": {
     "duration": 1.014644,
     "end_time": "2021-12-19T06:00:08.130385",
     "exception": false,
     "start_time": "2021-12-19T06:00:07.115741",
     "status": "completed"
    },
    "tags": []
   },
   "outputs": [],
   "source": [
    "import pandas as pd\n",
    "import sqlite3"
   ]
  },
  {
   "cell_type": "code",
   "execution_count": 2,
   "id": "innovative-syndrome",
   "metadata": {
    "execution": {
     "iopub.execute_input": "2021-12-19T06:00:08.198368Z",
     "iopub.status.busy": "2021-12-19T06:00:08.195796Z",
     "iopub.status.idle": "2021-12-19T06:00:09.331850Z",
     "shell.execute_reply": "2021-12-19T06:00:09.333389Z"
    },
    "papermill": {
     "duration": 1.170618,
     "end_time": "2021-12-19T06:00:09.333853",
     "exception": false,
     "start_time": "2021-12-19T06:00:08.163235",
     "status": "completed"
    },
    "tags": []
   },
   "outputs": [],
   "source": [
    "timestamps = pd.read_sql(\"select distinct record_time from EBAY_TOP_BERLIN order by record_time desc limit 2\", sqlite3.connect(\"UsedObjects.db\"))"
   ]
  },
  {
   "cell_type": "code",
   "execution_count": 3,
   "id": "periodic-identification",
   "metadata": {
    "execution": {
     "iopub.execute_input": "2021-12-19T06:00:09.408242Z",
     "iopub.status.busy": "2021-12-19T06:00:09.404444Z",
     "iopub.status.idle": "2021-12-19T06:00:09.429468Z",
     "shell.execute_reply": "2021-12-19T06:00:09.427968Z"
    },
    "papermill": {
     "duration": 0.075068,
     "end_time": "2021-12-19T06:00:09.429840",
     "exception": false,
     "start_time": "2021-12-19T06:00:09.354772",
     "status": "completed"
    },
    "tags": []
   },
   "outputs": [
    {
     "data": {
      "text/html": [
       "<div>\n",
       "<style scoped>\n",
       "    .dataframe tbody tr th:only-of-type {\n",
       "        vertical-align: middle;\n",
       "    }\n",
       "\n",
       "    .dataframe tbody tr th {\n",
       "        vertical-align: top;\n",
       "    }\n",
       "\n",
       "    .dataframe thead th {\n",
       "        text-align: right;\n",
       "    }\n",
       "</style>\n",
       "<table border=\"1\" class=\"dataframe\">\n",
       "  <thead>\n",
       "    <tr style=\"text-align: right;\">\n",
       "      <th></th>\n",
       "      <th>RECORD_TIME</th>\n",
       "    </tr>\n",
       "  </thead>\n",
       "  <tbody>\n",
       "    <tr>\n",
       "      <th>0</th>\n",
       "      <td>2021-12-19 07:00</td>\n",
       "    </tr>\n",
       "    <tr>\n",
       "      <th>1</th>\n",
       "      <td>2021-12-19 06:30</td>\n",
       "    </tr>\n",
       "  </tbody>\n",
       "</table>\n",
       "</div>"
      ],
      "text/plain": [
       "        RECORD_TIME\n",
       "0  2021-12-19 07:00\n",
       "1  2021-12-19 06:30"
      ]
     },
     "execution_count": 3,
     "metadata": {},
     "output_type": "execute_result"
    }
   ],
   "source": [
    "timestamps"
   ]
  },
  {
   "cell_type": "code",
   "execution_count": 4,
   "id": "alternate-victory",
   "metadata": {
    "execution": {
     "iopub.execute_input": "2021-12-19T06:00:09.480471Z",
     "iopub.status.busy": "2021-12-19T06:00:09.478519Z",
     "iopub.status.idle": "2021-12-19T06:00:11.119885Z",
     "shell.execute_reply": "2021-12-19T06:00:11.122077Z"
    },
    "papermill": {
     "duration": 1.672624,
     "end_time": "2021-12-19T06:00:11.122558",
     "exception": false,
     "start_time": "2021-12-19T06:00:09.449934",
     "status": "completed"
    },
    "tags": []
   },
   "outputs": [],
   "source": [
    "df = pd.read_sql(\"select * from EBAY_TOP_BERLIN where record_time in (select distinct record_time from EBAY_TOP_BERLIN order by record_time desc limit 2)\", sqlite3.connect(\"UsedObjects.db\"))"
   ]
  },
  {
   "cell_type": "code",
   "execution_count": 5,
   "id": "popular-active",
   "metadata": {
    "execution": {
     "iopub.execute_input": "2021-12-19T06:00:11.190952Z",
     "iopub.status.busy": "2021-12-19T06:00:11.182381Z",
     "iopub.status.idle": "2021-12-19T06:00:11.217157Z",
     "shell.execute_reply": "2021-12-19T06:00:11.218758Z"
    },
    "papermill": {
     "duration": 0.076734,
     "end_time": "2021-12-19T06:00:11.219305",
     "exception": false,
     "start_time": "2021-12-19T06:00:11.142571",
     "status": "completed"
    },
    "tags": []
   },
   "outputs": [],
   "source": [
    "df_pivot = df.pivot_table(index=\"PRODUCT\", columns = \"RECORD_TIME\", values = \"LISTING_COUNT\")"
   ]
  },
  {
   "cell_type": "code",
   "execution_count": 6,
   "id": "union-huntington",
   "metadata": {
    "execution": {
     "iopub.execute_input": "2021-12-19T06:00:11.279947Z",
     "iopub.status.busy": "2021-12-19T06:00:11.277731Z",
     "iopub.status.idle": "2021-12-19T06:00:11.285110Z",
     "shell.execute_reply": "2021-12-19T06:00:11.283539Z"
    },
    "papermill": {
     "duration": 0.045628,
     "end_time": "2021-12-19T06:00:11.285527",
     "exception": false,
     "start_time": "2021-12-19T06:00:11.239899",
     "status": "completed"
    },
    "tags": []
   },
   "outputs": [],
   "source": [
    "df_pivot.columns = [\"stamp_1\", \"stamp_2\"]\n",
    "df_pivot_diff = df_pivot.diff(axis=1)"
   ]
  },
  {
   "cell_type": "code",
   "execution_count": 7,
   "id": "fifth-motion",
   "metadata": {
    "execution": {
     "iopub.execute_input": "2021-12-19T06:00:11.342233Z",
     "iopub.status.busy": "2021-12-19T06:00:11.339635Z",
     "iopub.status.idle": "2021-12-19T06:00:13.340205Z",
     "shell.execute_reply": "2021-12-19T06:00:13.341580Z"
    },
    "papermill": {
     "duration": 2.036019,
     "end_time": "2021-12-19T06:00:13.342051",
     "exception": false,
     "start_time": "2021-12-19T06:00:11.306032",
     "status": "completed"
    },
    "tags": []
   },
   "outputs": [
    {
     "data": {
      "text/plain": [
       "<AxesSubplot:ylabel='PRODUCT'>"
      ]
     },
     "execution_count": 7,
     "metadata": {},
     "output_type": "execute_result"
    },
    {
     "data": {
      "image/png": "[encoded data removed]",
      "text/plain": [
       "<Figure size 432x288 with 1 Axes>"
      ]
     },
     "metadata": {
      "needs_background": "light"
     },
     "output_type": "display_data"
    }
   ],
   "source": [
    "df_pivot_diff.sort_values(\"stamp_2\", ascending = False)[\"stamp_2\"].head(10).plot.barh()"
   ]
  },
  {
   "cell_type": "code",
   "execution_count": null,
   "id": "extra-executive",
   "metadata": {
    "papermill": {
     "duration": 0.021719,
     "end_time": "2021-12-19T06:00:13.389303",
     "exception": false,
     "start_time": "2021-12-19T06:00:13.367584",
     "status": "completed"
    },
    "tags": []
   },
   "outputs": [],
   "source": []
  }
 ],
 "metadata": {
  "kernelspec": {
   "display_name": "Python 3",
   "language": "python",
   "name": "python3"
  },
  "language_info": {
   "codemirror_mode": {
    "name": "ipython",
    "version": 3
   },
   "file_extension": ".py",
   "mimetype": "text/x-python",
   "name": "python",
   "nbconvert_exporter": "python",
   "pygments_lexer": "ipython3",
   "version": "3.9.5"
  },
  "papermill": {
   "default_parameters": {},
   "duration": 9.649998,
   "end_time": "2021-12-19T06:00:14.029295",
   "environment_variables": {},
   "exception": null,
   "input_path": "eBay_Overview.ipynb",
   "output_path": "eBay_Overview.ipynb",
   "parameters": {},
   "start_time": "2021-12-19T06:00:04.379297",
   "version": "2.3.3"
  }
 },
 "nbformat": 4,
 "nbformat_minor": 5
}