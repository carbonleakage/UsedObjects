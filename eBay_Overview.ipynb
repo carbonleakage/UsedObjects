{
 "cells": [
  {
   "cell_type": "code",
   "execution_count": 1,
   "id": "reverse-picking",
   "metadata": {
    "execution": {
     "iopub.execute_input": "2021-08-23T08:00:06.814618Z",
     "iopub.status.busy": "2021-08-23T08:00:06.812603Z",
     "iopub.status.idle": "2021-08-23T08:00:07.619261Z",
     "shell.execute_reply": "2021-08-23T08:00:07.620507Z"
    },
    "papermill": {
     "duration": 0.85899,
     "end_time": "2021-08-23T08:00:07.621136",
     "exception": false,
     "start_time": "2021-08-23T08:00:06.762146",
     "status": "completed"
    },
    "tags": []
   },
   "outputs": [],
   "source": [
    "import pandas as pd\n",
    "import sqlite3"
   ]
  },
  {
   "cell_type": "code",
   "execution_count": 2,
   "id": "innovative-syndrome",
   "metadata": {
    "execution": {
     "iopub.execute_input": "2021-08-23T08:00:07.672957Z",
     "iopub.status.busy": "2021-08-23T08:00:07.671115Z",
     "iopub.status.idle": "2021-08-23T08:00:07.782962Z",
     "shell.execute_reply": "2021-08-23T08:00:07.784340Z"
    },
    "papermill": {
     "duration": 0.141776,
     "end_time": "2021-08-23T08:00:07.784780",
     "exception": false,
     "start_time": "2021-08-23T08:00:07.643004",
     "status": "completed"
    },
    "tags": []
   },
   "outputs": [],
   "source": [
    "timestamps = pd.read_sql(\"select distinct record_time from EBAY_TOP_BERLIN order by record_time desc limit 2\", sqlite3.connect(\"UsedObjects.db\"))"
   ]
  },
  {
   "cell_type": "code",
   "execution_count": 3,
   "id": "periodic-identification",
   "metadata": {
    "execution": {
     "iopub.execute_input": "2021-08-23T08:00:07.852365Z",
     "iopub.status.busy": "2021-08-23T08:00:07.850333Z",
     "iopub.status.idle": "2021-08-23T08:00:07.870439Z",
     "shell.execute_reply": "2021-08-23T08:00:07.871632Z"
    },
    "papermill": {
     "duration": 0.067196,
     "end_time": "2021-08-23T08:00:07.872055",
     "exception": false,
     "start_time": "2021-08-23T08:00:07.804859",
     "status": "completed"
    },
    "tags": []
   },
   "outputs": [
    {
     "data": {
      "text/html": [
       "<div>\n",
       "<style scoped>\n",
       "    .dataframe tbody tr th:only-of-type {\n",
       "        vertical-align: middle;\n",
       "    }\n",
       "\n",
       "    .dataframe tbody tr th {\n",
       "        vertical-align: top;\n",
       "    }\n",
       "\n",
       "    .dataframe thead th {\n",
       "        text-align: right;\n",
       "    }\n",
       "</style>\n",
       "<table border=\"1\" class=\"dataframe\">\n",
       "  <thead>\n",
       "    <tr style=\"text-align: right;\">\n",
       "      <th></th>\n",
       "      <th>RECORD_TIME</th>\n",
       "    </tr>\n",
       "  </thead>\n",
       "  <tbody>\n",
       "    <tr>\n",
       "      <th>0</th>\n",
       "      <td>2021-08-23 10:00</td>\n",
       "    </tr>\n",
       "    <tr>\n",
       "      <th>1</th>\n",
       "      <td>2021-08-23 09:30</td>\n",
       "    </tr>\n",
       "  </tbody>\n",
       "</table>\n",
       "</div>"
      ],
      "text/plain": [
       "        RECORD_TIME\n",
       "0  2021-08-23 10:00\n",
       "1  2021-08-23 09:30"
      ]
     },
     "execution_count": 3,
     "metadata": {},
     "output_type": "execute_result"
    }
   ],
   "source": [
    "timestamps"
   ]
  },
  {
   "cell_type": "code",
   "execution_count": 4,
   "id": "alternate-victory",
   "metadata": {
    "execution": {
     "iopub.execute_input": "2021-08-23T08:00:07.923063Z",
     "iopub.status.busy": "2021-08-23T08:00:07.921108Z",
     "iopub.status.idle": "2021-08-23T08:00:08.084810Z",
     "shell.execute_reply": "2021-08-23T08:00:08.086077Z"
    },
    "papermill": {
     "duration": 0.193921,
     "end_time": "2021-08-23T08:00:08.086490",
     "exception": false,
     "start_time": "2021-08-23T08:00:07.892569",
     "status": "completed"
    },
    "tags": []
   },
   "outputs": [],
   "source": [
    "df = pd.read_sql(\"select * from EBAY_TOP_BERLIN where record_time in (select distinct record_time from EBAY_TOP_BERLIN order by record_time desc limit 2)\", sqlite3.connect(\"UsedObjects.db\"))"
   ]
  },
  {
   "cell_type": "code",
   "execution_count": 5,
   "id": "popular-active",
   "metadata": {
    "execution": {
     "iopub.execute_input": "2021-08-23T08:00:08.157142Z",
     "iopub.status.busy": "2021-08-23T08:00:08.149984Z",
     "iopub.status.idle": "2021-08-23T08:00:08.173356Z",
     "shell.execute_reply": "2021-08-23T08:00:08.175026Z"
    },
    "papermill": {
     "duration": 0.068425,
     "end_time": "2021-08-23T08:00:08.175461",
     "exception": false,
     "start_time": "2021-08-23T08:00:08.107036",
     "status": "completed"
    },
    "tags": []
   },
   "outputs": [],
   "source": [
    "df_pivot = df.pivot_table(index=\"PRODUCT\", columns = \"RECORD_TIME\", values = \"LISTING_COUNT\")"
   ]
  },
  {
   "cell_type": "code",
   "execution_count": 6,
   "id": "union-huntington",
   "metadata": {
    "execution": {
     "iopub.execute_input": "2021-08-23T08:00:08.230959Z",
     "iopub.status.busy": "2021-08-23T08:00:08.228946Z",
     "iopub.status.idle": "2021-08-23T08:00:08.234217Z",
     "shell.execute_reply": "2021-08-23T08:00:08.235348Z"
    },
    "papermill": {
     "duration": 0.03999,
     "end_time": "2021-08-23T08:00:08.235751",
     "exception": false,
     "start_time": "2021-08-23T08:00:08.195761",
     "status": "completed"
    },
    "tags": []
   },
   "outputs": [],
   "source": [
    "df_pivot.columns = [\"stamp_1\", \"stamp_2\"]\n",
    "df_pivot_diff = df_pivot.diff(axis=1)"
   ]
  },
  {
   "cell_type": "code",
   "execution_count": 7,
   "id": "fifth-motion",
   "metadata": {
    "execution": {
     "iopub.execute_input": "2021-08-23T08:00:08.298438Z",
     "iopub.status.busy": "2021-08-23T08:00:08.295772Z",
     "iopub.status.idle": "2021-08-23T08:00:09.759950Z",
     "shell.execute_reply": "2021-08-23T08:00:09.761225Z"
    },
    "papermill": {
     "duration": 1.499651,
     "end_time": "2021-08-23T08:00:09.761639",
     "exception": false,
     "start_time": "2021-08-23T08:00:08.261988",
     "status": "completed"
    },
    "tags": []
   },
   "outputs": [
    {
     "data": {
      "text/plain": [
       "<AxesSubplot:ylabel='PRODUCT'>"
      ]
     },
     "execution_count": 7,
     "metadata": {},
     "output_type": "execute_result"
    },
    {
     "data": {
      "image/png": "[encoded data removed]",
      "text/plain": [
       "<Figure size 432x288 with 1 Axes>"
      ]
     },
     "metadata": {
      "needs_background": "light"
     },
     "output_type": "display_data"
    }
   ],
   "source": [
    "df_pivot_diff.sort_values(\"stamp_2\", ascending = False)[\"stamp_2\"].head(10).plot.barh()"
   ]
  },
  {
   "cell_type": "code",
   "execution_count": null,
   "id": "extra-executive",
   "metadata": {
    "papermill": {
     "duration": 0.022414,
     "end_time": "2021-08-23T08:00:09.808890",
     "exception": false,
     "start_time": "2021-08-23T08:00:09.786476",
     "status": "completed"
    },
    "tags": []
   },
   "outputs": [],
   "source": []
  }
 ],
 "metadata": {
  "kernelspec": {
   "display_name": "Python 3",
   "language": "python",
   "name": "python3"
  },
  "language_info": {
   "codemirror_mode": {
    "name": "ipython",
    "version": 3
   },
   "file_extension": ".py",
   "mimetype": "text/x-python",
   "name": "python",
   "nbconvert_exporter": "python",
   "pygments_lexer": "ipython3",
   "version": "3.9.5"
  },
  "papermill": {
   "default_parameters": {},
   "duration": 6.827819,
   "end_time": "2021-08-23T08:00:11.176433",
   "environment_variables": {},
   "exception": null,
   "input_path": "eBay_Overview.ipynb",
   "output_path": "eBay_Overview.ipynb",
   "parameters": {},
   "start_time": "2021-08-23T08:00:04.348614",
   "version": "2.3.3"
  }
 },
 "nbformat": 4,
 "nbformat_minor": 5
}