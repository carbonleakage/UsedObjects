{
 "cells": [
  {
   "cell_type": "code",
   "execution_count": 1,
   "id": "reverse-picking",
   "metadata": {
    "execution": {
     "iopub.execute_input": "2021-08-19T07:00:07.555934Z",
     "iopub.status.busy": "2021-08-19T07:00:07.553970Z",
     "iopub.status.idle": "2021-08-19T07:00:08.358994Z",
     "shell.execute_reply": "2021-08-19T07:00:08.360279Z"
    },
    "papermill": {
     "duration": 0.857371,
     "end_time": "2021-08-19T07:00:08.360901",
     "exception": false,
     "start_time": "2021-08-19T07:00:07.503530",
     "status": "completed"
    },
    "tags": []
   },
   "outputs": [],
   "source": [
    "import pandas as pd\n",
    "import sqlite3"
   ]
  },
  {
   "cell_type": "code",
   "execution_count": 2,
   "id": "innovative-syndrome",
   "metadata": {
    "execution": {
     "iopub.execute_input": "2021-08-19T07:00:08.412298Z",
     "iopub.status.busy": "2021-08-19T07:00:08.410456Z",
     "iopub.status.idle": "2021-08-19T07:00:08.492073Z",
     "shell.execute_reply": "2021-08-19T07:00:08.493265Z"
    },
    "papermill": {
     "duration": 0.111222,
     "end_time": "2021-08-19T07:00:08.493665",
     "exception": false,
     "start_time": "2021-08-19T07:00:08.382443",
     "status": "completed"
    },
    "tags": []
   },
   "outputs": [],
   "source": [
    "timestamps = pd.read_sql(\"select distinct record_time from EBAY_TOP_BERLIN order by record_time desc limit 2\", sqlite3.connect(\"UsedObjects.db\"))"
   ]
  },
  {
   "cell_type": "code",
   "execution_count": 3,
   "id": "periodic-identification",
   "metadata": {
    "execution": {
     "iopub.execute_input": "2021-08-19T07:00:08.557171Z",
     "iopub.status.busy": "2021-08-19T07:00:08.555171Z",
     "iopub.status.idle": "2021-08-19T07:00:08.574807Z",
     "shell.execute_reply": "2021-08-19T07:00:08.576094Z"
    },
    "papermill": {
     "duration": 0.063265,
     "end_time": "2021-08-19T07:00:08.576495",
     "exception": false,
     "start_time": "2021-08-19T07:00:08.513230",
     "status": "completed"
    },
    "tags": []
   },
   "outputs": [
    {
     "data": {
      "text/html": [
       "<div>\n",
       "<style scoped>\n",
       "    .dataframe tbody tr th:only-of-type {\n",
       "        vertical-align: middle;\n",
       "    }\n",
       "\n",
       "    .dataframe tbody tr th {\n",
       "        vertical-align: top;\n",
       "    }\n",
       "\n",
       "    .dataframe thead th {\n",
       "        text-align: right;\n",
       "    }\n",
       "</style>\n",
       "<table border=\"1\" class=\"dataframe\">\n",
       "  <thead>\n",
       "    <tr style=\"text-align: right;\">\n",
       "      <th></th>\n",
       "      <th>RECORD_TIME</th>\n",
       "    </tr>\n",
       "  </thead>\n",
       "  <tbody>\n",
       "    <tr>\n",
       "      <th>0</th>\n",
       "      <td>2021-08-19 09:00</td>\n",
       "    </tr>\n",
       "    <tr>\n",
       "      <th>1</th>\n",
       "      <td>2021-08-19 08:30</td>\n",
       "    </tr>\n",
       "  </tbody>\n",
       "</table>\n",
       "</div>"
      ],
      "text/plain": [
       "        RECORD_TIME\n",
       "0  2021-08-19 09:00\n",
       "1  2021-08-19 08:30"
      ]
     },
     "execution_count": 3,
     "metadata": {},
     "output_type": "execute_result"
    }
   ],
   "source": [
    "timestamps"
   ]
  },
  {
   "cell_type": "code",
   "execution_count": 4,
   "id": "alternate-victory",
   "metadata": {
    "execution": {
     "iopub.execute_input": "2021-08-19T07:00:08.628229Z",
     "iopub.status.busy": "2021-08-19T07:00:08.626091Z",
     "iopub.status.idle": "2021-08-19T07:00:08.749694Z",
     "shell.execute_reply": "2021-08-19T07:00:08.751051Z"
    },
    "papermill": {
     "duration": 0.153912,
     "end_time": "2021-08-19T07:00:08.751474",
     "exception": false,
     "start_time": "2021-08-19T07:00:08.597562",
     "status": "completed"
    },
    "tags": []
   },
   "outputs": [],
   "source": [
    "df = pd.read_sql(\"select * from EBAY_TOP_BERLIN where record_time in (select distinct record_time from EBAY_TOP_BERLIN order by record_time desc limit 2)\", sqlite3.connect(\"UsedObjects.db\"))"
   ]
  },
  {
   "cell_type": "code",
   "execution_count": 5,
   "id": "popular-active",
   "metadata": {
    "execution": {
     "iopub.execute_input": "2021-08-19T07:00:08.822145Z",
     "iopub.status.busy": "2021-08-19T07:00:08.810483Z",
     "iopub.status.idle": "2021-08-19T07:00:08.838079Z",
     "shell.execute_reply": "2021-08-19T07:00:08.839481Z"
    },
    "papermill": {
     "duration": 0.067443,
     "end_time": "2021-08-19T07:00:08.839924",
     "exception": false,
     "start_time": "2021-08-19T07:00:08.772481",
     "status": "completed"
    },
    "tags": []
   },
   "outputs": [],
   "source": [
    "df_pivot = df.pivot_table(index=\"PRODUCT\", columns = \"RECORD_TIME\", values = \"LISTING_COUNT\")"
   ]
  },
  {
   "cell_type": "code",
   "execution_count": 6,
   "id": "union-huntington",
   "metadata": {
    "execution": {
     "iopub.execute_input": "2021-08-19T07:00:08.897819Z",
     "iopub.status.busy": "2021-08-19T07:00:08.895420Z",
     "iopub.status.idle": "2021-08-19T07:00:08.901118Z",
     "shell.execute_reply": "2021-08-19T07:00:08.902468Z"
    },
    "papermill": {
     "duration": 0.042387,
     "end_time": "2021-08-19T07:00:08.902892",
     "exception": false,
     "start_time": "2021-08-19T07:00:08.860505",
     "status": "completed"
    },
    "tags": []
   },
   "outputs": [],
   "source": [
    "df_pivot.columns = [\"stamp_1\", \"stamp_2\"]\n",
    "df_pivot_diff = df_pivot.diff(axis=1)"
   ]
  },
  {
   "cell_type": "code",
   "execution_count": 7,
   "id": "fifth-motion",
   "metadata": {
    "execution": {
     "iopub.execute_input": "2021-08-19T07:00:08.957340Z",
     "iopub.status.busy": "2021-08-19T07:00:08.955155Z",
     "iopub.status.idle": "2021-08-19T07:00:10.466374Z",
     "shell.execute_reply": "2021-08-19T07:00:10.467707Z"
    },
    "papermill": {
     "duration": 1.543969,
     "end_time": "2021-08-19T07:00:10.468125",
     "exception": false,
     "start_time": "2021-08-19T07:00:08.924156",
     "status": "completed"
    },
    "tags": []
   },
   "outputs": [
    {
     "data": {
      "text/plain": [
       "<AxesSubplot:ylabel='PRODUCT'>"
      ]
     },
     "execution_count": 7,
     "metadata": {},
     "output_type": "execute_result"
    },
    {
     "data": {
      "image/png": "[encoded data removed]",
      "text/plain": [
       "<Figure size 432x288 with 1 Axes>"
      ]
     },
     "metadata": {
      "needs_background": "light"
     },
     "output_type": "display_data"
    }
   ],
   "source": [
    "df_pivot_diff.sort_values(\"stamp_2\", ascending = False)[\"stamp_2\"].head(10).plot.barh()"
   ]
  },
  {
   "cell_type": "code",
   "execution_count": null,
   "id": "extra-executive",
   "metadata": {
    "papermill": {
     "duration": 0.022396,
     "end_time": "2021-08-19T07:00:10.514778",
     "exception": false,
     "start_time": "2021-08-19T07:00:10.492382",
     "status": "completed"
    },
    "tags": []
   },
   "outputs": [],
   "source": []
  }
 ],
 "metadata": {
  "kernelspec": {
   "display_name": "Python 3",
   "language": "python",
   "name": "python3"
  },
  "language_info": {
   "codemirror_mode": {
    "name": "ipython",
    "version": 3
   },
   "file_extension": ".py",
   "mimetype": "text/x-python",
   "name": "python",
   "nbconvert_exporter": "python",
   "pygments_lexer": "ipython3",
   "version": "3.9.5"
  },
  "papermill": {
   "default_parameters": {},
   "duration": 6.831548,
   "end_time": "2021-08-19T07:00:11.924963",
   "environment_variables": {},
   "exception": null,
   "input_path": "eBay_Overview.ipynb",
   "output_path": "eBay_Overview.ipynb",
   "parameters": {},
   "start_time": "2021-08-19T07:00:05.093415",
   "version": "2.3.3"
  }
 },
 "nbformat": 4,
 "nbformat_minor": 5
}