{
 "cells": [
  {
   "cell_type": "code",
   "execution_count": 1,
   "id": "reverse-picking",
   "metadata": {
    "execution": {
     "iopub.execute_input": "2021-10-16T14:30:07.206720Z",
     "iopub.status.busy": "2021-10-16T14:30:07.204769Z",
     "iopub.status.idle": "2021-10-16T14:30:08.010645Z",
     "shell.execute_reply": "2021-10-16T14:30:08.011883Z"
    },
    "papermill": {
     "duration": 0.857219,
     "end_time": "2021-10-16T14:30:08.012508",
     "exception": false,
     "start_time": "2021-10-16T14:30:07.155289",
     "status": "completed"
    },
    "tags": []
   },
   "outputs": [],
   "source": [
    "import pandas as pd\n",
    "import sqlite3"
   ]
  },
  {
   "cell_type": "code",
   "execution_count": 2,
   "id": "innovative-syndrome",
   "metadata": {
    "execution": {
     "iopub.execute_input": "2021-10-16T14:30:08.066099Z",
     "iopub.status.busy": "2021-10-16T14:30:08.063743Z",
     "iopub.status.idle": "2021-10-16T14:30:08.629679Z",
     "shell.execute_reply": "2021-10-16T14:30:08.630944Z"
    },
    "papermill": {
     "duration": 0.596144,
     "end_time": "2021-10-16T14:30:08.631342",
     "exception": false,
     "start_time": "2021-10-16T14:30:08.035198",
     "status": "completed"
    },
    "tags": []
   },
   "outputs": [],
   "source": [
    "timestamps = pd.read_sql(\"select distinct record_time from EBAY_TOP_BERLIN order by record_time desc limit 2\", sqlite3.connect(\"UsedObjects.db\"))"
   ]
  },
  {
   "cell_type": "code",
   "execution_count": 3,
   "id": "periodic-identification",
   "metadata": {
    "execution": {
     "iopub.execute_input": "2021-10-16T14:30:08.706865Z",
     "iopub.status.busy": "2021-10-16T14:30:08.704840Z",
     "iopub.status.idle": "2021-10-16T14:30:08.726115Z",
     "shell.execute_reply": "2021-10-16T14:30:08.724842Z"
    },
    "papermill": {
     "duration": 0.070072,
     "end_time": "2021-10-16T14:30:08.726463",
     "exception": false,
     "start_time": "2021-10-16T14:30:08.656391",
     "status": "completed"
    },
    "tags": []
   },
   "outputs": [
    {
     "data": {
      "text/html": [
       "<div>\n",
       "<style scoped>\n",
       "    .dataframe tbody tr th:only-of-type {\n",
       "        vertical-align: middle;\n",
       "    }\n",
       "\n",
       "    .dataframe tbody tr th {\n",
       "        vertical-align: top;\n",
       "    }\n",
       "\n",
       "    .dataframe thead th {\n",
       "        text-align: right;\n",
       "    }\n",
       "</style>\n",
       "<table border=\"1\" class=\"dataframe\">\n",
       "  <thead>\n",
       "    <tr style=\"text-align: right;\">\n",
       "      <th></th>\n",
       "      <th>RECORD_TIME</th>\n",
       "    </tr>\n",
       "  </thead>\n",
       "  <tbody>\n",
       "    <tr>\n",
       "      <th>0</th>\n",
       "      <td>2021-10-16 16:30</td>\n",
       "    </tr>\n",
       "    <tr>\n",
       "      <th>1</th>\n",
       "      <td>2021-10-16 16:00</td>\n",
       "    </tr>\n",
       "  </tbody>\n",
       "</table>\n",
       "</div>"
      ],
      "text/plain": [
       "        RECORD_TIME\n",
       "0  2021-10-16 16:30\n",
       "1  2021-10-16 16:00"
      ]
     },
     "execution_count": 3,
     "metadata": {},
     "output_type": "execute_result"
    }
   ],
   "source": [
    "timestamps"
   ]
  },
  {
   "cell_type": "code",
   "execution_count": 4,
   "id": "alternate-victory",
   "metadata": {
    "execution": {
     "iopub.execute_input": "2021-10-16T14:30:08.778910Z",
     "iopub.status.busy": "2021-10-16T14:30:08.776747Z",
     "iopub.status.idle": "2021-10-16T14:30:09.594668Z",
     "shell.execute_reply": "2021-10-16T14:30:09.595975Z"
    },
    "papermill": {
     "duration": 0.848276,
     "end_time": "2021-10-16T14:30:09.596390",
     "exception": false,
     "start_time": "2021-10-16T14:30:08.748114",
     "status": "completed"
    },
    "tags": []
   },
   "outputs": [],
   "source": [
    "df = pd.read_sql(\"select * from EBAY_TOP_BERLIN where record_time in (select distinct record_time from EBAY_TOP_BERLIN order by record_time desc limit 2)\", sqlite3.connect(\"UsedObjects.db\"))"
   ]
  },
  {
   "cell_type": "code",
   "execution_count": 5,
   "id": "popular-active",
   "metadata": {
    "execution": {
     "iopub.execute_input": "2021-10-16T14:30:09.666397Z",
     "iopub.status.busy": "2021-10-16T14:30:09.654411Z",
     "iopub.status.idle": "2021-10-16T14:30:09.683494Z",
     "shell.execute_reply": "2021-10-16T14:30:09.685173Z"
    },
    "papermill": {
     "duration": 0.069063,
     "end_time": "2021-10-16T14:30:09.685650",
     "exception": false,
     "start_time": "2021-10-16T14:30:09.616587",
     "status": "completed"
    },
    "tags": []
   },
   "outputs": [],
   "source": [
    "df_pivot = df.pivot_table(index=\"PRODUCT\", columns = \"RECORD_TIME\", values = \"LISTING_COUNT\")"
   ]
  },
  {
   "cell_type": "code",
   "execution_count": 6,
   "id": "union-huntington",
   "metadata": {
    "execution": {
     "iopub.execute_input": "2021-10-16T14:30:09.744537Z",
     "iopub.status.busy": "2021-10-16T14:30:09.742410Z",
     "iopub.status.idle": "2021-10-16T14:30:09.749440Z",
     "shell.execute_reply": "2021-10-16T14:30:09.747998Z"
    },
    "papermill": {
     "duration": 0.041776,
     "end_time": "2021-10-16T14:30:09.749803",
     "exception": false,
     "start_time": "2021-10-16T14:30:09.708027",
     "status": "completed"
    },
    "tags": []
   },
   "outputs": [],
   "source": [
    "df_pivot.columns = [\"stamp_1\", \"stamp_2\"]\n",
    "df_pivot_diff = df_pivot.diff(axis=1)"
   ]
  },
  {
   "cell_type": "code",
   "execution_count": 7,
   "id": "fifth-motion",
   "metadata": {
    "execution": {
     "iopub.execute_input": "2021-10-16T14:30:09.806433Z",
     "iopub.status.busy": "2021-10-16T14:30:09.803890Z",
     "iopub.status.idle": "2021-10-16T14:30:11.321684Z",
     "shell.execute_reply": "2021-10-16T14:30:11.323113Z"
    },
    "papermill": {
     "duration": 1.551236,
     "end_time": "2021-10-16T14:30:11.323549",
     "exception": false,
     "start_time": "2021-10-16T14:30:09.772313",
     "status": "completed"
    },
    "tags": []
   },
   "outputs": [
    {
     "data": {
      "text/plain": [
       "<AxesSubplot:ylabel='PRODUCT'>"
      ]
     },
     "execution_count": 7,
     "metadata": {},
     "output_type": "execute_result"
    },
    {
     "data": {
      "image/png": "[encoded data removed]",
      "text/plain": [
       "<Figure size 432x288 with 1 Axes>"
      ]
     },
     "metadata": {
      "needs_background": "light"
     },
     "output_type": "display_data"
    }
   ],
   "source": [
    "df_pivot_diff.sort_values(\"stamp_2\", ascending = False)[\"stamp_2\"].head(10).plot.barh()"
   ]
  },
  {
   "cell_type": "code",
   "execution_count": null,
   "id": "extra-executive",
   "metadata": {
    "papermill": {
     "duration": 0.022579,
     "end_time": "2021-10-16T14:30:11.370934",
     "exception": false,
     "start_time": "2021-10-16T14:30:11.348355",
     "status": "completed"
    },
    "tags": []
   },
   "outputs": [],
   "source": []
  }
 ],
 "metadata": {
  "kernelspec": {
   "display_name": "Python 3",
   "language": "python",
   "name": "python3"
  },
  "language_info": {
   "codemirror_mode": {
    "name": "ipython",
    "version": 3
   },
   "file_extension": ".py",
   "mimetype": "text/x-python",
   "name": "python",
   "nbconvert_exporter": "python",
   "pygments_lexer": "ipython3",
   "version": "3.9.5"
  },
  "papermill": {
   "default_parameters": {},
   "duration": 7.82658,
   "end_time": "2021-10-16T14:30:12.567507",
   "environment_variables": {},
   "exception": null,
   "input_path": "eBay_Overview.ipynb",
   "output_path": "eBay_Overview.ipynb",
   "parameters": {},
   "start_time": "2021-10-16T14:30:04.740927",
   "version": "2.3.3"
  }
 },
 "nbformat": 4,
 "nbformat_minor": 5
}