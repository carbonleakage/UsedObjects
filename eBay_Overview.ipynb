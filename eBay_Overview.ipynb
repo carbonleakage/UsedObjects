{
 "cells": [
  {
   "cell_type": "code",
   "execution_count": 1,
   "id": "reverse-picking",
   "metadata": {
    "execution": {
     "iopub.execute_input": "2021-11-18T22:00:07.619880Z",
     "iopub.status.busy": "2021-11-18T22:00:07.611594Z",
     "iopub.status.idle": "2021-11-18T22:00:08.557174Z",
     "shell.execute_reply": "2021-11-18T22:00:08.558711Z"
    },
    "papermill": {
     "duration": 0.994093,
     "end_time": "2021-11-18T22:00:08.559444",
     "exception": false,
     "start_time": "2021-11-18T22:00:07.565351",
     "status": "completed"
    },
    "tags": []
   },
   "outputs": [],
   "source": [
    "import pandas as pd\n",
    "import sqlite3"
   ]
  },
  {
   "cell_type": "code",
   "execution_count": 2,
   "id": "innovative-syndrome",
   "metadata": {
    "execution": {
     "iopub.execute_input": "2021-11-18T22:00:08.615564Z",
     "iopub.status.busy": "2021-11-18T22:00:08.612935Z",
     "iopub.status.idle": "2021-11-18T22:00:09.474068Z",
     "shell.execute_reply": "2021-11-18T22:00:09.475695Z"
    },
    "papermill": {
     "duration": 0.895113,
     "end_time": "2021-11-18T22:00:09.476170",
     "exception": false,
     "start_time": "2021-11-18T22:00:08.581057",
     "status": "completed"
    },
    "tags": []
   },
   "outputs": [],
   "source": [
    "timestamps = pd.read_sql(\"select distinct record_time from EBAY_TOP_BERLIN order by record_time desc limit 2\", sqlite3.connect(\"UsedObjects.db\"))"
   ]
  },
  {
   "cell_type": "code",
   "execution_count": 3,
   "id": "periodic-identification",
   "metadata": {
    "execution": {
     "iopub.execute_input": "2021-11-18T22:00:09.547175Z",
     "iopub.status.busy": "2021-11-18T22:00:09.544797Z",
     "iopub.status.idle": "2021-11-18T22:00:09.569913Z",
     "shell.execute_reply": "2021-11-18T22:00:09.571482Z"
    },
    "papermill": {
     "duration": 0.075963,
     "end_time": "2021-11-18T22:00:09.571975",
     "exception": false,
     "start_time": "2021-11-18T22:00:09.496012",
     "status": "completed"
    },
    "tags": []
   },
   "outputs": [
    {
     "data": {
      "text/html": [
       "<div>\n",
       "<style scoped>\n",
       "    .dataframe tbody tr th:only-of-type {\n",
       "        vertical-align: middle;\n",
       "    }\n",
       "\n",
       "    .dataframe tbody tr th {\n",
       "        vertical-align: top;\n",
       "    }\n",
       "\n",
       "    .dataframe thead th {\n",
       "        text-align: right;\n",
       "    }\n",
       "</style>\n",
       "<table border=\"1\" class=\"dataframe\">\n",
       "  <thead>\n",
       "    <tr style=\"text-align: right;\">\n",
       "      <th></th>\n",
       "      <th>RECORD_TIME</th>\n",
       "    </tr>\n",
       "  </thead>\n",
       "  <tbody>\n",
       "    <tr>\n",
       "      <th>0</th>\n",
       "      <td>2021-11-18 23:00</td>\n",
       "    </tr>\n",
       "    <tr>\n",
       "      <th>1</th>\n",
       "      <td>2021-11-18 22:30</td>\n",
       "    </tr>\n",
       "  </tbody>\n",
       "</table>\n",
       "</div>"
      ],
      "text/plain": [
       "        RECORD_TIME\n",
       "0  2021-11-18 23:00\n",
       "1  2021-11-18 22:30"
      ]
     },
     "execution_count": 3,
     "metadata": {},
     "output_type": "execute_result"
    }
   ],
   "source": [
    "timestamps"
   ]
  },
  {
   "cell_type": "code",
   "execution_count": 4,
   "id": "alternate-victory",
   "metadata": {
    "execution": {
     "iopub.execute_input": "2021-11-18T22:00:09.627357Z",
     "iopub.status.busy": "2021-11-18T22:00:09.625122Z",
     "iopub.status.idle": "2021-11-18T22:00:10.861232Z",
     "shell.execute_reply": "2021-11-18T22:00:10.862491Z"
    },
    "papermill": {
     "duration": 1.269377,
     "end_time": "2021-11-18T22:00:10.862890",
     "exception": false,
     "start_time": "2021-11-18T22:00:09.593513",
     "status": "completed"
    },
    "tags": []
   },
   "outputs": [],
   "source": [
    "df = pd.read_sql(\"select * from EBAY_TOP_BERLIN where record_time in (select distinct record_time from EBAY_TOP_BERLIN order by record_time desc limit 2)\", sqlite3.connect(\"UsedObjects.db\"))"
   ]
  },
  {
   "cell_type": "code",
   "execution_count": 5,
   "id": "popular-active",
   "metadata": {
    "execution": {
     "iopub.execute_input": "2021-11-18T22:00:10.928787Z",
     "iopub.status.busy": "2021-11-18T22:00:10.926443Z",
     "iopub.status.idle": "2021-11-18T22:00:10.958066Z",
     "shell.execute_reply": "2021-11-18T22:00:10.959620Z"
    },
    "papermill": {
     "duration": 0.073256,
     "end_time": "2021-11-18T22:00:10.960117",
     "exception": false,
     "start_time": "2021-11-18T22:00:10.886861",
     "status": "completed"
    },
    "tags": []
   },
   "outputs": [],
   "source": [
    "df_pivot = df.pivot_table(index=\"PRODUCT\", columns = \"RECORD_TIME\", values = \"LISTING_COUNT\")"
   ]
  },
  {
   "cell_type": "code",
   "execution_count": 6,
   "id": "union-huntington",
   "metadata": {
    "execution": {
     "iopub.execute_input": "2021-11-18T22:00:11.020368Z",
     "iopub.status.busy": "2021-11-18T22:00:11.018090Z",
     "iopub.status.idle": "2021-11-18T22:00:11.039526Z",
     "shell.execute_reply": "2021-11-18T22:00:11.040988Z"
    },
    "papermill": {
     "duration": 0.059733,
     "end_time": "2021-11-18T22:00:11.041462",
     "exception": false,
     "start_time": "2021-11-18T22:00:10.981729",
     "status": "completed"
    },
    "tags": []
   },
   "outputs": [],
   "source": [
    "df_pivot.columns = [\"stamp_1\", \"stamp_2\"]\n",
    "df_pivot_diff = df_pivot.diff(axis=1)"
   ]
  },
  {
   "cell_type": "code",
   "execution_count": 7,
   "id": "fifth-motion",
   "metadata": {
    "execution": {
     "iopub.execute_input": "2021-11-18T22:00:11.112245Z",
     "iopub.status.busy": "2021-11-18T22:00:11.109779Z",
     "iopub.status.idle": "2021-11-18T22:00:12.891791Z",
     "shell.execute_reply": "2021-11-18T22:00:12.893271Z"
    },
    "papermill": {
     "duration": 1.818612,
     "end_time": "2021-11-18T22:00:12.893750",
     "exception": false,
     "start_time": "2021-11-18T22:00:11.075138",
     "status": "completed"
    },
    "tags": []
   },
   "outputs": [
    {
     "data": {
      "text/plain": [
       "<AxesSubplot:ylabel='PRODUCT'>"
      ]
     },
     "execution_count": 7,
     "metadata": {},
     "output_type": "execute_result"
    },
    {
     "data": {
      "image/png": "[encoded data removed]",
      "text/plain": [
       "<Figure size 432x288 with 1 Axes>"
      ]
     },
     "metadata": {
      "needs_background": "light"
     },
     "output_type": "display_data"
    }
   ],
   "source": [
    "df_pivot_diff.sort_values(\"stamp_2\", ascending = False)[\"stamp_2\"].head(10).plot.barh()"
   ]
  },
  {
   "cell_type": "code",
   "execution_count": null,
   "id": "extra-executive",
   "metadata": {
    "papermill": {
     "duration": 0.023183,
     "end_time": "2021-11-18T22:00:12.941782",
     "exception": false,
     "start_time": "2021-11-18T22:00:12.918599",
     "status": "completed"
    },
    "tags": []
   },
   "outputs": [],
   "source": []
  }
 ],
 "metadata": {
  "kernelspec": {
   "display_name": "Python 3",
   "language": "python",
   "name": "python3"
  },
  "language_info": {
   "codemirror_mode": {
    "name": "ipython",
    "version": 3
   },
   "file_extension": ".py",
   "mimetype": "text/x-python",
   "name": "python",
   "nbconvert_exporter": "python",
   "pygments_lexer": "ipython3",
   "version": "3.9.5"
  },
  "papermill": {
   "default_parameters": {},
   "duration": 8.891038,
   "end_time": "2021-11-18T22:00:13.692265",
   "environment_variables": {},
   "exception": null,
   "input_path": "eBay_Overview.ipynb",
   "output_path": "eBay_Overview.ipynb",
   "parameters": {},
   "start_time": "2021-11-18T22:00:04.801227",
   "version": "2.3.3"
  }
 },
 "nbformat": 4,
 "nbformat_minor": 5
}