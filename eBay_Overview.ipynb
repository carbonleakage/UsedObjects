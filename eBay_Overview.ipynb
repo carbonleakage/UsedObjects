{
 "cells": [
  {
   "cell_type": "code",
   "execution_count": 1,
   "id": "reverse-picking",
   "metadata": {
    "execution": {
     "iopub.execute_input": "2021-09-30T06:00:07.406989Z",
     "iopub.status.busy": "2021-09-30T06:00:07.405020Z",
     "iopub.status.idle": "2021-09-30T06:00:08.208541Z",
     "shell.execute_reply": "2021-09-30T06:00:08.209850Z"
    },
    "papermill": {
     "duration": 0.854656,
     "end_time": "2021-09-30T06:00:08.210509",
     "exception": false,
     "start_time": "2021-09-30T06:00:07.355853",
     "status": "completed"
    },
    "tags": []
   },
   "outputs": [],
   "source": [
    "import pandas as pd\n",
    "import sqlite3"
   ]
  },
  {
   "cell_type": "code",
   "execution_count": 2,
   "id": "innovative-syndrome",
   "metadata": {
    "execution": {
     "iopub.execute_input": "2021-09-30T06:00:08.261606Z",
     "iopub.status.busy": "2021-09-30T06:00:08.259471Z",
     "iopub.status.idle": "2021-09-30T06:00:08.672392Z",
     "shell.execute_reply": "2021-09-30T06:00:08.673506Z"
    },
    "papermill": {
     "duration": 0.44309,
     "end_time": "2021-09-30T06:00:08.673913",
     "exception": false,
     "start_time": "2021-09-30T06:00:08.230823",
     "status": "completed"
    },
    "tags": []
   },
   "outputs": [],
   "source": [
    "timestamps = pd.read_sql(\"select distinct record_time from EBAY_TOP_BERLIN order by record_time desc limit 2\", sqlite3.connect(\"UsedObjects.db\"))"
   ]
  },
  {
   "cell_type": "code",
   "execution_count": 3,
   "id": "periodic-identification",
   "metadata": {
    "execution": {
     "iopub.execute_input": "2021-09-30T06:00:08.742391Z",
     "iopub.status.busy": "2021-09-30T06:00:08.740397Z",
     "iopub.status.idle": "2021-09-30T06:00:08.760230Z",
     "shell.execute_reply": "2021-09-30T06:00:08.761850Z"
    },
    "papermill": {
     "duration": 0.066082,
     "end_time": "2021-09-30T06:00:08.762342",
     "exception": false,
     "start_time": "2021-09-30T06:00:08.696260",
     "status": "completed"
    },
    "tags": []
   },
   "outputs": [
    {
     "data": {
      "text/html": [
       "<div>\n",
       "<style scoped>\n",
       "    .dataframe tbody tr th:only-of-type {\n",
       "        vertical-align: middle;\n",
       "    }\n",
       "\n",
       "    .dataframe tbody tr th {\n",
       "        vertical-align: top;\n",
       "    }\n",
       "\n",
       "    .dataframe thead th {\n",
       "        text-align: right;\n",
       "    }\n",
       "</style>\n",
       "<table border=\"1\" class=\"dataframe\">\n",
       "  <thead>\n",
       "    <tr style=\"text-align: right;\">\n",
       "      <th></th>\n",
       "      <th>RECORD_TIME</th>\n",
       "    </tr>\n",
       "  </thead>\n",
       "  <tbody>\n",
       "    <tr>\n",
       "      <th>0</th>\n",
       "      <td>2021-09-30 08:00</td>\n",
       "    </tr>\n",
       "    <tr>\n",
       "      <th>1</th>\n",
       "      <td>2021-09-30 07:30</td>\n",
       "    </tr>\n",
       "  </tbody>\n",
       "</table>\n",
       "</div>"
      ],
      "text/plain": [
       "        RECORD_TIME\n",
       "0  2021-09-30 08:00\n",
       "1  2021-09-30 07:30"
      ]
     },
     "execution_count": 3,
     "metadata": {},
     "output_type": "execute_result"
    }
   ],
   "source": [
    "timestamps"
   ]
  },
  {
   "cell_type": "code",
   "execution_count": 4,
   "id": "alternate-victory",
   "metadata": {
    "execution": {
     "iopub.execute_input": "2021-09-30T06:00:08.816501Z",
     "iopub.status.busy": "2021-09-30T06:00:08.814551Z",
     "iopub.status.idle": "2021-09-30T06:00:09.441975Z",
     "shell.execute_reply": "2021-09-30T06:00:09.443347Z"
    },
    "papermill": {
     "duration": 0.658541,
     "end_time": "2021-09-30T06:00:09.443764",
     "exception": false,
     "start_time": "2021-09-30T06:00:08.785223",
     "status": "completed"
    },
    "tags": []
   },
   "outputs": [],
   "source": [
    "df = pd.read_sql(\"select * from EBAY_TOP_BERLIN where record_time in (select distinct record_time from EBAY_TOP_BERLIN order by record_time desc limit 2)\", sqlite3.connect(\"UsedObjects.db\"))"
   ]
  },
  {
   "cell_type": "code",
   "execution_count": 5,
   "id": "popular-active",
   "metadata": {
    "execution": {
     "iopub.execute_input": "2021-09-30T06:00:09.525363Z",
     "iopub.status.busy": "2021-09-30T06:00:09.513229Z",
     "iopub.status.idle": "2021-09-30T06:00:09.541129Z",
     "shell.execute_reply": "2021-09-30T06:00:09.542398Z"
    },
    "papermill": {
     "duration": 0.071295,
     "end_time": "2021-09-30T06:00:09.542859",
     "exception": false,
     "start_time": "2021-09-30T06:00:09.471564",
     "status": "completed"
    },
    "tags": []
   },
   "outputs": [],
   "source": [
    "df_pivot = df.pivot_table(index=\"PRODUCT\", columns = \"RECORD_TIME\", values = \"LISTING_COUNT\")"
   ]
  },
  {
   "cell_type": "code",
   "execution_count": 6,
   "id": "union-huntington",
   "metadata": {
    "execution": {
     "iopub.execute_input": "2021-09-30T06:00:09.598287Z",
     "iopub.status.busy": "2021-09-30T06:00:09.596149Z",
     "iopub.status.idle": "2021-09-30T06:00:09.601764Z",
     "shell.execute_reply": "2021-09-30T06:00:09.603245Z"
    },
    "papermill": {
     "duration": 0.040742,
     "end_time": "2021-09-30T06:00:09.603719",
     "exception": false,
     "start_time": "2021-09-30T06:00:09.562977",
     "status": "completed"
    },
    "tags": []
   },
   "outputs": [],
   "source": [
    "df_pivot.columns = [\"stamp_1\", \"stamp_2\"]\n",
    "df_pivot_diff = df_pivot.diff(axis=1)"
   ]
  },
  {
   "cell_type": "code",
   "execution_count": 7,
   "id": "fifth-motion",
   "metadata": {
    "execution": {
     "iopub.execute_input": "2021-09-30T06:00:09.660529Z",
     "iopub.status.busy": "2021-09-30T06:00:09.658076Z",
     "iopub.status.idle": "2021-09-30T06:00:11.173988Z",
     "shell.execute_reply": "2021-09-30T06:00:11.175342Z"
    },
    "papermill": {
     "duration": 1.54944,
     "end_time": "2021-09-30T06:00:11.175771",
     "exception": false,
     "start_time": "2021-09-30T06:00:09.626331",
     "status": "completed"
    },
    "tags": []
   },
   "outputs": [
    {
     "data": {
      "text/plain": [
       "<AxesSubplot:ylabel='PRODUCT'>"
      ]
     },
     "execution_count": 7,
     "metadata": {},
     "output_type": "execute_result"
    },
    {
     "data": {
      "image/png": "[encoded data removed]",
      "text/plain": [
       "<Figure size 432x288 with 1 Axes>"
      ]
     },
     "metadata": {
      "needs_background": "light"
     },
     "output_type": "display_data"
    }
   ],
   "source": [
    "df_pivot_diff.sort_values(\"stamp_2\", ascending = False)[\"stamp_2\"].head(10).plot.barh()"
   ]
  },
  {
   "cell_type": "code",
   "execution_count": null,
   "id": "extra-executive",
   "metadata": {
    "papermill": {
     "duration": 0.022226,
     "end_time": "2021-09-30T06:00:11.222751",
     "exception": false,
     "start_time": "2021-09-30T06:00:11.200525",
     "status": "completed"
    },
    "tags": []
   },
   "outputs": [],
   "source": []
  }
 ],
 "metadata": {
  "kernelspec": {
   "display_name": "Python 3",
   "language": "python",
   "name": "python3"
  },
  "language_info": {
   "codemirror_mode": {
    "name": "ipython",
    "version": 3
   },
   "file_extension": ".py",
   "mimetype": "text/x-python",
   "name": "python",
   "nbconvert_exporter": "python",
   "pygments_lexer": "ipython3",
   "version": "3.9.5"
  },
  "papermill": {
   "default_parameters": {},
   "duration": 7.827178,
   "end_time": "2021-09-30T06:00:12.782505",
   "environment_variables": {},
   "exception": null,
   "input_path": "eBay_Overview.ipynb",
   "output_path": "eBay_Overview.ipynb",
   "parameters": {},
   "start_time": "2021-09-30T06:00:04.955327",
   "version": "2.3.3"
  }
 },
 "nbformat": 4,
 "nbformat_minor": 5
}