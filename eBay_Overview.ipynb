{
 "cells": [
  {
   "cell_type": "code",
   "execution_count": 1,
   "id": "reverse-picking",
   "metadata": {
    "execution": {
     "iopub.execute_input": "2021-12-19T11:30:07.250045Z",
     "iopub.status.busy": "2021-12-19T11:30:07.247692Z",
     "iopub.status.idle": "2021-12-19T11:30:08.205054Z",
     "shell.execute_reply": "2021-12-19T11:30:08.203140Z"
    },
    "papermill": {
     "duration": 1.006483,
     "end_time": "2021-12-19T11:30:08.205551",
     "exception": false,
     "start_time": "2021-12-19T11:30:07.199068",
     "status": "completed"
    },
    "tags": []
   },
   "outputs": [],
   "source": [
    "import pandas as pd\n",
    "import sqlite3"
   ]
  },
  {
   "cell_type": "code",
   "execution_count": 2,
   "id": "innovative-syndrome",
   "metadata": {
    "execution": {
     "iopub.execute_input": "2021-12-19T11:30:08.267171Z",
     "iopub.status.busy": "2021-12-19T11:30:08.264874Z",
     "iopub.status.idle": "2021-12-19T11:30:09.393851Z",
     "shell.execute_reply": "2021-12-19T11:30:09.396165Z"
    },
    "papermill": {
     "duration": 1.164103,
     "end_time": "2021-12-19T11:30:09.396644",
     "exception": false,
     "start_time": "2021-12-19T11:30:08.232541",
     "status": "completed"
    },
    "tags": []
   },
   "outputs": [],
   "source": [
    "timestamps = pd.read_sql(\"select distinct record_time from EBAY_TOP_BERLIN order by record_time desc limit 2\", sqlite3.connect(\"UsedObjects.db\"))"
   ]
  },
  {
   "cell_type": "code",
   "execution_count": 3,
   "id": "periodic-identification",
   "metadata": {
    "execution": {
     "iopub.execute_input": "2021-12-19T11:30:09.457001Z",
     "iopub.status.busy": "2021-12-19T11:30:09.453578Z",
     "iopub.status.idle": "2021-12-19T11:30:09.493379Z",
     "shell.execute_reply": "2021-12-19T11:30:09.494946Z"
    },
    "papermill": {
     "duration": 0.078383,
     "end_time": "2021-12-19T11:30:09.495421",
     "exception": false,
     "start_time": "2021-12-19T11:30:09.417038",
     "status": "completed"
    },
    "tags": []
   },
   "outputs": [
    {
     "data": {
      "text/html": [
       "<div>\n",
       "<style scoped>\n",
       "    .dataframe tbody tr th:only-of-type {\n",
       "        vertical-align: middle;\n",
       "    }\n",
       "\n",
       "    .dataframe tbody tr th {\n",
       "        vertical-align: top;\n",
       "    }\n",
       "\n",
       "    .dataframe thead th {\n",
       "        text-align: right;\n",
       "    }\n",
       "</style>\n",
       "<table border=\"1\" class=\"dataframe\">\n",
       "  <thead>\n",
       "    <tr style=\"text-align: right;\">\n",
       "      <th></th>\n",
       "      <th>RECORD_TIME</th>\n",
       "    </tr>\n",
       "  </thead>\n",
       "  <tbody>\n",
       "    <tr>\n",
       "      <th>0</th>\n",
       "      <td>2021-12-19 12:30</td>\n",
       "    </tr>\n",
       "    <tr>\n",
       "      <th>1</th>\n",
       "      <td>2021-12-19 12:00</td>\n",
       "    </tr>\n",
       "  </tbody>\n",
       "</table>\n",
       "</div>"
      ],
      "text/plain": [
       "        RECORD_TIME\n",
       "0  2021-12-19 12:30\n",
       "1  2021-12-19 12:00"
      ]
     },
     "execution_count": 3,
     "metadata": {},
     "output_type": "execute_result"
    }
   ],
   "source": [
    "timestamps"
   ]
  },
  {
   "cell_type": "code",
   "execution_count": 4,
   "id": "alternate-victory",
   "metadata": {
    "execution": {
     "iopub.execute_input": "2021-12-19T11:30:09.548356Z",
     "iopub.status.busy": "2021-12-19T11:30:09.546293Z",
     "iopub.status.idle": "2021-12-19T11:30:11.191855Z",
     "shell.execute_reply": "2021-12-19T11:30:11.193733Z"
    },
    "papermill": {
     "duration": 1.677036,
     "end_time": "2021-12-19T11:30:11.194220",
     "exception": false,
     "start_time": "2021-12-19T11:30:09.517184",
     "status": "completed"
    },
    "tags": []
   },
   "outputs": [],
   "source": [
    "df = pd.read_sql(\"select * from EBAY_TOP_BERLIN where record_time in (select distinct record_time from EBAY_TOP_BERLIN order by record_time desc limit 2)\", sqlite3.connect(\"UsedObjects.db\"))"
   ]
  },
  {
   "cell_type": "code",
   "execution_count": 5,
   "id": "popular-active",
   "metadata": {
    "execution": {
     "iopub.execute_input": "2021-12-19T11:30:11.269747Z",
     "iopub.status.busy": "2021-12-19T11:30:11.261646Z",
     "iopub.status.idle": "2021-12-19T11:30:11.287866Z",
     "shell.execute_reply": "2021-12-19T11:30:11.289518Z"
    },
    "papermill": {
     "duration": 0.075256,
     "end_time": "2021-12-19T11:30:11.290040",
     "exception": false,
     "start_time": "2021-12-19T11:30:11.214784",
     "status": "completed"
    },
    "tags": []
   },
   "outputs": [],
   "source": [
    "df_pivot = df.pivot_table(index=\"PRODUCT\", columns = \"RECORD_TIME\", values = \"LISTING_COUNT\")"
   ]
  },
  {
   "cell_type": "code",
   "execution_count": 6,
   "id": "union-huntington",
   "metadata": {
    "execution": {
     "iopub.execute_input": "2021-12-19T11:30:11.351754Z",
     "iopub.status.busy": "2021-12-19T11:30:11.349529Z",
     "iopub.status.idle": "2021-12-19T11:30:11.355283Z",
     "shell.execute_reply": "2021-12-19T11:30:11.356620Z"
    },
    "papermill": {
     "duration": 0.045562,
     "end_time": "2021-12-19T11:30:11.357166",
     "exception": false,
     "start_time": "2021-12-19T11:30:11.311604",
     "status": "completed"
    },
    "tags": []
   },
   "outputs": [],
   "source": [
    "df_pivot.columns = [\"stamp_1\", \"stamp_2\"]\n",
    "df_pivot_diff = df_pivot.diff(axis=1)"
   ]
  },
  {
   "cell_type": "code",
   "execution_count": 7,
   "id": "fifth-motion",
   "metadata": {
    "execution": {
     "iopub.execute_input": "2021-12-19T11:30:11.414573Z",
     "iopub.status.busy": "2021-12-19T11:30:11.412050Z",
     "iopub.status.idle": "2021-12-19T11:30:13.450334Z",
     "shell.execute_reply": "2021-12-19T11:30:13.451643Z"
    },
    "papermill": {
     "duration": 2.074597,
     "end_time": "2021-12-19T11:30:13.452106",
     "exception": false,
     "start_time": "2021-12-19T11:30:11.377509",
     "status": "completed"
    },
    "tags": []
   },
   "outputs": [
    {
     "data": {
      "text/plain": [
       "<AxesSubplot:ylabel='PRODUCT'>"
      ]
     },
     "execution_count": 7,
     "metadata": {},
     "output_type": "execute_result"
    },
    {
     "data": {
      "image/png": "[encoded data removed]",
      "text/plain": [
       "<Figure size 432x288 with 1 Axes>"
      ]
     },
     "metadata": {
      "needs_background": "light"
     },
     "output_type": "display_data"
    }
   ],
   "source": [
    "df_pivot_diff.sort_values(\"stamp_2\", ascending = False)[\"stamp_2\"].head(10).plot.barh()"
   ]
  },
  {
   "cell_type": "code",
   "execution_count": null,
   "id": "extra-executive",
   "metadata": {
    "papermill": {
     "duration": 0.022219,
     "end_time": "2021-12-19T11:30:13.498710",
     "exception": false,
     "start_time": "2021-12-19T11:30:13.476491",
     "status": "completed"
    },
    "tags": []
   },
   "outputs": [],
   "source": []
  }
 ],
 "metadata": {
  "kernelspec": {
   "display_name": "Python 3",
   "language": "python",
   "name": "python3"
  },
  "language_info": {
   "codemirror_mode": {
    "name": "ipython",
    "version": 3
   },
   "file_extension": ".py",
   "mimetype": "text/x-python",
   "name": "python",
   "nbconvert_exporter": "python",
   "pygments_lexer": "ipython3",
   "version": "3.9.5"
  },
  "papermill": {
   "default_parameters": {},
   "duration": 9.680516,
   "end_time": "2021-12-19T11:30:14.142633",
   "environment_variables": {},
   "exception": null,
   "input_path": "eBay_Overview.ipynb",
   "output_path": "eBay_Overview.ipynb",
   "parameters": {},
   "start_time": "2021-12-19T11:30:04.462117",
   "version": "2.3.3"
  }
 },
 "nbformat": 4,
 "nbformat_minor": 5
}