{
 "cells": [
  {
   "cell_type": "code",
   "execution_count": 1,
   "id": "reverse-picking",
   "metadata": {
    "execution": {
     "iopub.execute_input": "2021-11-14T11:30:07.430420Z",
     "iopub.status.busy": "2021-11-14T11:30:07.427470Z",
     "iopub.status.idle": "2021-11-14T11:30:08.348189Z",
     "shell.execute_reply": "2021-11-14T11:30:08.349844Z"
    },
    "papermill": {
     "duration": 0.97127,
     "end_time": "2021-11-14T11:30:08.350600",
     "exception": false,
     "start_time": "2021-11-14T11:30:07.379330",
     "status": "completed"
    },
    "tags": []
   },
   "outputs": [],
   "source": [
    "import pandas as pd\n",
    "import sqlite3"
   ]
  },
  {
   "cell_type": "code",
   "execution_count": 2,
   "id": "innovative-syndrome",
   "metadata": {
    "execution": {
     "iopub.execute_input": "2021-11-14T11:30:08.412658Z",
     "iopub.status.busy": "2021-11-14T11:30:08.410437Z",
     "iopub.status.idle": "2021-11-14T11:30:09.208490Z",
     "shell.execute_reply": "2021-11-14T11:30:09.209968Z"
    },
    "papermill": {
     "duration": 0.83163,
     "end_time": "2021-11-14T11:30:09.210463",
     "exception": false,
     "start_time": "2021-11-14T11:30:08.378833",
     "status": "completed"
    },
    "tags": []
   },
   "outputs": [],
   "source": [
    "timestamps = pd.read_sql(\"select distinct record_time from EBAY_TOP_BERLIN order by record_time desc limit 2\", sqlite3.connect(\"UsedObjects.db\"))"
   ]
  },
  {
   "cell_type": "code",
   "execution_count": 3,
   "id": "periodic-identification",
   "metadata": {
    "execution": {
     "iopub.execute_input": "2021-11-14T11:30:09.285375Z",
     "iopub.status.busy": "2021-11-14T11:30:09.282953Z",
     "iopub.status.idle": "2021-11-14T11:30:09.306772Z",
     "shell.execute_reply": "2021-11-14T11:30:09.308271Z"
    },
    "papermill": {
     "duration": 0.077687,
     "end_time": "2021-11-14T11:30:09.308844",
     "exception": false,
     "start_time": "2021-11-14T11:30:09.231157",
     "status": "completed"
    },
    "tags": []
   },
   "outputs": [
    {
     "data": {
      "text/html": [
       "<div>\n",
       "<style scoped>\n",
       "    .dataframe tbody tr th:only-of-type {\n",
       "        vertical-align: middle;\n",
       "    }\n",
       "\n",
       "    .dataframe tbody tr th {\n",
       "        vertical-align: top;\n",
       "    }\n",
       "\n",
       "    .dataframe thead th {\n",
       "        text-align: right;\n",
       "    }\n",
       "</style>\n",
       "<table border=\"1\" class=\"dataframe\">\n",
       "  <thead>\n",
       "    <tr style=\"text-align: right;\">\n",
       "      <th></th>\n",
       "      <th>RECORD_TIME</th>\n",
       "    </tr>\n",
       "  </thead>\n",
       "  <tbody>\n",
       "    <tr>\n",
       "      <th>0</th>\n",
       "      <td>2021-11-14 12:30</td>\n",
       "    </tr>\n",
       "    <tr>\n",
       "      <th>1</th>\n",
       "      <td>2021-11-14 12:00</td>\n",
       "    </tr>\n",
       "  </tbody>\n",
       "</table>\n",
       "</div>"
      ],
      "text/plain": [
       "        RECORD_TIME\n",
       "0  2021-11-14 12:30\n",
       "1  2021-11-14 12:00"
      ]
     },
     "execution_count": 3,
     "metadata": {},
     "output_type": "execute_result"
    }
   ],
   "source": [
    "timestamps"
   ]
  },
  {
   "cell_type": "code",
   "execution_count": 4,
   "id": "alternate-victory",
   "metadata": {
    "execution": {
     "iopub.execute_input": "2021-11-14T11:30:09.365999Z",
     "iopub.status.busy": "2021-11-14T11:30:09.363702Z",
     "iopub.status.idle": "2021-11-14T11:30:10.550332Z",
     "shell.execute_reply": "2021-11-14T11:30:10.551779Z"
    },
    "papermill": {
     "duration": 1.22082,
     "end_time": "2021-11-14T11:30:10.552242",
     "exception": false,
     "start_time": "2021-11-14T11:30:09.331422",
     "status": "completed"
    },
    "tags": []
   },
   "outputs": [],
   "source": [
    "df = pd.read_sql(\"select * from EBAY_TOP_BERLIN where record_time in (select distinct record_time from EBAY_TOP_BERLIN order by record_time desc limit 2)\", sqlite3.connect(\"UsedObjects.db\"))"
   ]
  },
  {
   "cell_type": "code",
   "execution_count": 5,
   "id": "popular-active",
   "metadata": {
    "execution": {
     "iopub.execute_input": "2021-11-14T11:30:10.650036Z",
     "iopub.status.busy": "2021-11-14T11:30:10.627891Z",
     "iopub.status.idle": "2021-11-14T11:30:10.676603Z",
     "shell.execute_reply": "2021-11-14T11:30:10.679484Z"
    },
    "papermill": {
     "duration": 0.106343,
     "end_time": "2021-11-14T11:30:10.680374",
     "exception": false,
     "start_time": "2021-11-14T11:30:10.574031",
     "status": "completed"
    },
    "tags": []
   },
   "outputs": [],
   "source": [
    "df_pivot = df.pivot_table(index=\"PRODUCT\", columns = \"RECORD_TIME\", values = \"LISTING_COUNT\")"
   ]
  },
  {
   "cell_type": "code",
   "execution_count": 6,
   "id": "union-huntington",
   "metadata": {
    "execution": {
     "iopub.execute_input": "2021-11-14T11:30:10.752144Z",
     "iopub.status.busy": "2021-11-14T11:30:10.749741Z",
     "iopub.status.idle": "2021-11-14T11:30:10.755820Z",
     "shell.execute_reply": "2021-11-14T11:30:10.757476Z"
    },
    "papermill": {
     "duration": 0.047254,
     "end_time": "2021-11-14T11:30:10.758027",
     "exception": false,
     "start_time": "2021-11-14T11:30:10.710773",
     "status": "completed"
    },
    "tags": []
   },
   "outputs": [],
   "source": [
    "df_pivot.columns = [\"stamp_1\", \"stamp_2\"]\n",
    "df_pivot_diff = df_pivot.diff(axis=1)"
   ]
  },
  {
   "cell_type": "code",
   "execution_count": 7,
   "id": "fifth-motion",
   "metadata": {
    "execution": {
     "iopub.execute_input": "2021-11-14T11:30:10.817659Z",
     "iopub.status.busy": "2021-11-14T11:30:10.814989Z",
     "iopub.status.idle": "2021-11-14T11:30:12.741196Z",
     "shell.execute_reply": "2021-11-14T11:30:12.743345Z"
    },
    "papermill": {
     "duration": 1.964221,
     "end_time": "2021-11-14T11:30:12.743989",
     "exception": false,
     "start_time": "2021-11-14T11:30:10.779768",
     "status": "completed"
    },
    "tags": []
   },
   "outputs": [
    {
     "data": {
      "text/plain": [
       "<AxesSubplot:ylabel='PRODUCT'>"
      ]
     },
     "execution_count": 7,
     "metadata": {},
     "output_type": "execute_result"
    },
    {
     "data": {
      "image/png": "[encoded data removed]",
      "text/plain": [
       "<Figure size 432x288 with 1 Axes>"
      ]
     },
     "metadata": {
      "needs_background": "light"
     },
     "output_type": "display_data"
    }
   ],
   "source": [
    "df_pivot_diff.sort_values(\"stamp_2\", ascending = False)[\"stamp_2\"].head(10).plot.barh()"
   ]
  },
  {
   "cell_type": "code",
   "execution_count": null,
   "id": "extra-executive",
   "metadata": {
    "papermill": {
     "duration": 0.02922,
     "end_time": "2021-11-14T11:30:12.802778",
     "exception": false,
     "start_time": "2021-11-14T11:30:12.773558",
     "status": "completed"
    },
    "tags": []
   },
   "outputs": [],
   "source": []
  }
 ],
 "metadata": {
  "kernelspec": {
   "display_name": "Python 3",
   "language": "python",
   "name": "python3"
  },
  "language_info": {
   "codemirror_mode": {
    "name": "ipython",
    "version": 3
   },
   "file_extension": ".py",
   "mimetype": "text/x-python",
   "name": "python",
   "nbconvert_exporter": "python",
   "pygments_lexer": "ipython3",
   "version": "3.9.5"
  },
  "papermill": {
   "default_parameters": {},
   "duration": 9.946428,
   "end_time": "2021-11-14T11:30:14.577709",
   "environment_variables": {},
   "exception": null,
   "input_path": "eBay_Overview.ipynb",
   "output_path": "eBay_Overview.ipynb",
   "parameters": {},
   "start_time": "2021-11-14T11:30:04.631281",
   "version": "2.3.3"
  }
 },
 "nbformat": 4,
 "nbformat_minor": 5
}