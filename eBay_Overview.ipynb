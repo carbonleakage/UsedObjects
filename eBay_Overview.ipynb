{
 "cells": [
  {
   "cell_type": "code",
   "execution_count": 1,
   "id": "reverse-picking",
   "metadata": {
    "execution": {
     "iopub.execute_input": "2021-10-09T16:00:07.277231Z",
     "iopub.status.busy": "2021-10-09T16:00:07.275313Z",
     "iopub.status.idle": "2021-10-09T16:00:08.090558Z",
     "shell.execute_reply": "2021-10-09T16:00:08.088848Z"
    },
    "papermill": {
     "duration": 0.866075,
     "end_time": "2021-10-09T16:00:08.091039",
     "exception": false,
     "start_time": "2021-10-09T16:00:07.224964",
     "status": "completed"
    },
    "tags": []
   },
   "outputs": [],
   "source": [
    "import pandas as pd\n",
    "import sqlite3"
   ]
  },
  {
   "cell_type": "code",
   "execution_count": 2,
   "id": "innovative-syndrome",
   "metadata": {
    "execution": {
     "iopub.execute_input": "2021-10-09T16:00:08.142229Z",
     "iopub.status.busy": "2021-10-09T16:00:08.140369Z",
     "iopub.status.idle": "2021-10-09T16:00:08.627133Z",
     "shell.execute_reply": "2021-10-09T16:00:08.628539Z"
    },
    "papermill": {
     "duration": 0.518051,
     "end_time": "2021-10-09T16:00:08.628979",
     "exception": false,
     "start_time": "2021-10-09T16:00:08.110928",
     "status": "completed"
    },
    "tags": []
   },
   "outputs": [],
   "source": [
    "timestamps = pd.read_sql(\"select distinct record_time from EBAY_TOP_BERLIN order by record_time desc limit 2\", sqlite3.connect(\"UsedObjects.db\"))"
   ]
  },
  {
   "cell_type": "code",
   "execution_count": 3,
   "id": "periodic-identification",
   "metadata": {
    "execution": {
     "iopub.execute_input": "2021-10-09T16:00:08.696208Z",
     "iopub.status.busy": "2021-10-09T16:00:08.694124Z",
     "iopub.status.idle": "2021-10-09T16:00:08.714193Z",
     "shell.execute_reply": "2021-10-09T16:00:08.715468Z"
    },
    "papermill": {
     "duration": 0.066877,
     "end_time": "2021-10-09T16:00:08.715913",
     "exception": false,
     "start_time": "2021-10-09T16:00:08.649036",
     "status": "completed"
    },
    "tags": []
   },
   "outputs": [
    {
     "data": {
      "text/html": [
       "<div>\n",
       "<style scoped>\n",
       "    .dataframe tbody tr th:only-of-type {\n",
       "        vertical-align: middle;\n",
       "    }\n",
       "\n",
       "    .dataframe tbody tr th {\n",
       "        vertical-align: top;\n",
       "    }\n",
       "\n",
       "    .dataframe thead th {\n",
       "        text-align: right;\n",
       "    }\n",
       "</style>\n",
       "<table border=\"1\" class=\"dataframe\">\n",
       "  <thead>\n",
       "    <tr style=\"text-align: right;\">\n",
       "      <th></th>\n",
       "      <th>RECORD_TIME</th>\n",
       "    </tr>\n",
       "  </thead>\n",
       "  <tbody>\n",
       "    <tr>\n",
       "      <th>0</th>\n",
       "      <td>2021-10-09 18:00</td>\n",
       "    </tr>\n",
       "    <tr>\n",
       "      <th>1</th>\n",
       "      <td>2021-10-09 17:30</td>\n",
       "    </tr>\n",
       "  </tbody>\n",
       "</table>\n",
       "</div>"
      ],
      "text/plain": [
       "        RECORD_TIME\n",
       "0  2021-10-09 18:00\n",
       "1  2021-10-09 17:30"
      ]
     },
     "execution_count": 3,
     "metadata": {},
     "output_type": "execute_result"
    }
   ],
   "source": [
    "timestamps"
   ]
  },
  {
   "cell_type": "code",
   "execution_count": 4,
   "id": "alternate-victory",
   "metadata": {
    "execution": {
     "iopub.execute_input": "2021-10-09T16:00:08.777637Z",
     "iopub.status.busy": "2021-10-09T16:00:08.775805Z",
     "iopub.status.idle": "2021-10-09T16:00:09.501827Z",
     "shell.execute_reply": "2021-10-09T16:00:09.503147Z"
    },
    "papermill": {
     "duration": 0.759338,
     "end_time": "2021-10-09T16:00:09.503607",
     "exception": false,
     "start_time": "2021-10-09T16:00:08.744269",
     "status": "completed"
    },
    "tags": []
   },
   "outputs": [],
   "source": [
    "df = pd.read_sql(\"select * from EBAY_TOP_BERLIN where record_time in (select distinct record_time from EBAY_TOP_BERLIN order by record_time desc limit 2)\", sqlite3.connect(\"UsedObjects.db\"))"
   ]
  },
  {
   "cell_type": "code",
   "execution_count": 5,
   "id": "popular-active",
   "metadata": {
    "execution": {
     "iopub.execute_input": "2021-10-09T16:00:09.573900Z",
     "iopub.status.busy": "2021-10-09T16:00:09.567129Z",
     "iopub.status.idle": "2021-10-09T16:00:09.591169Z",
     "shell.execute_reply": "2021-10-09T16:00:09.592556Z"
    },
    "papermill": {
     "duration": 0.068929,
     "end_time": "2021-10-09T16:00:09.592996",
     "exception": false,
     "start_time": "2021-10-09T16:00:09.524067",
     "status": "completed"
    },
    "tags": []
   },
   "outputs": [],
   "source": [
    "df_pivot = df.pivot_table(index=\"PRODUCT\", columns = \"RECORD_TIME\", values = \"LISTING_COUNT\")"
   ]
  },
  {
   "cell_type": "code",
   "execution_count": 6,
   "id": "union-huntington",
   "metadata": {
    "execution": {
     "iopub.execute_input": "2021-10-09T16:00:09.650510Z",
     "iopub.status.busy": "2021-10-09T16:00:09.648457Z",
     "iopub.status.idle": "2021-10-09T16:00:09.653746Z",
     "shell.execute_reply": "2021-10-09T16:00:09.654992Z"
    },
    "papermill": {
     "duration": 0.041816,
     "end_time": "2021-10-09T16:00:09.655439",
     "exception": false,
     "start_time": "2021-10-09T16:00:09.613623",
     "status": "completed"
    },
    "tags": []
   },
   "outputs": [],
   "source": [
    "df_pivot.columns = [\"stamp_1\", \"stamp_2\"]\n",
    "df_pivot_diff = df_pivot.diff(axis=1)"
   ]
  },
  {
   "cell_type": "code",
   "execution_count": 7,
   "id": "fifth-motion",
   "metadata": {
    "execution": {
     "iopub.execute_input": "2021-10-09T16:00:09.712720Z",
     "iopub.status.busy": "2021-10-09T16:00:09.710135Z",
     "iopub.status.idle": "2021-10-09T16:00:11.229633Z",
     "shell.execute_reply": "2021-10-09T16:00:11.231200Z"
    },
    "papermill": {
     "duration": 1.553373,
     "end_time": "2021-10-09T16:00:11.231714",
     "exception": false,
     "start_time": "2021-10-09T16:00:09.678341",
     "status": "completed"
    },
    "tags": []
   },
   "outputs": [
    {
     "data": {
      "text/plain": [
       "<AxesSubplot:ylabel='PRODUCT'>"
      ]
     },
     "execution_count": 7,
     "metadata": {},
     "output_type": "execute_result"
    },
    {
     "data": {
      "image/png": "[encoded data removed]",
      "text/plain": [
       "<Figure size 432x288 with 1 Axes>"
      ]
     },
     "metadata": {
      "needs_background": "light"
     },
     "output_type": "display_data"
    }
   ],
   "source": [
    "df_pivot_diff.sort_values(\"stamp_2\", ascending = False)[\"stamp_2\"].head(10).plot.barh()"
   ]
  },
  {
   "cell_type": "code",
   "execution_count": null,
   "id": "extra-executive",
   "metadata": {
    "papermill": {
     "duration": 0.022188,
     "end_time": "2021-10-09T16:00:11.279213",
     "exception": false,
     "start_time": "2021-10-09T16:00:11.257025",
     "status": "completed"
    },
    "tags": []
   },
   "outputs": [],
   "source": []
  }
 ],
 "metadata": {
  "kernelspec": {
   "display_name": "Python 3",
   "language": "python",
   "name": "python3"
  },
  "language_info": {
   "codemirror_mode": {
    "name": "ipython",
    "version": 3
   },
   "file_extension": ".py",
   "mimetype": "text/x-python",
   "name": "python",
   "nbconvert_exporter": "python",
   "pygments_lexer": "ipython3",
   "version": "3.9.5"
  },
  "papermill": {
   "default_parameters": {},
   "duration": 7.835097,
   "end_time": "2021-10-09T16:00:12.636098",
   "environment_variables": {},
   "exception": null,
   "input_path": "eBay_Overview.ipynb",
   "output_path": "eBay_Overview.ipynb",
   "parameters": {},
   "start_time": "2021-10-09T16:00:04.801001",
   "version": "2.3.3"
  }
 },
 "nbformat": 4,
 "nbformat_minor": 5
}