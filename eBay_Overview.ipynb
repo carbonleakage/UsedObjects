{
 "cells": [
  {
   "cell_type": "code",
   "execution_count": 1,
   "id": "reverse-picking",
   "metadata": {
    "execution": {
     "iopub.execute_input": "2021-09-14T12:30:06.930115Z",
     "iopub.status.busy": "2021-09-14T12:30:06.928193Z",
     "iopub.status.idle": "2021-09-14T12:30:07.733488Z",
     "shell.execute_reply": "2021-09-14T12:30:07.731839Z"
    },
    "papermill": {
     "duration": 0.85445,
     "end_time": "2021-09-14T12:30:07.733908",
     "exception": false,
     "start_time": "2021-09-14T12:30:06.879458",
     "status": "completed"
    },
    "tags": []
   },
   "outputs": [],
   "source": [
    "import pandas as pd\n",
    "import sqlite3"
   ]
  },
  {
   "cell_type": "code",
   "execution_count": 2,
   "id": "innovative-syndrome",
   "metadata": {
    "execution": {
     "iopub.execute_input": "2021-09-14T12:30:07.785847Z",
     "iopub.status.busy": "2021-09-14T12:30:07.783976Z",
     "iopub.status.idle": "2021-09-14T12:30:08.072504Z",
     "shell.execute_reply": "2021-09-14T12:30:08.073708Z"
    },
    "papermill": {
     "duration": 0.318115,
     "end_time": "2021-09-14T12:30:08.074096",
     "exception": false,
     "start_time": "2021-09-14T12:30:07.755981",
     "status": "completed"
    },
    "tags": []
   },
   "outputs": [],
   "source": [
    "timestamps = pd.read_sql(\"select distinct record_time from EBAY_TOP_BERLIN order by record_time desc limit 2\", sqlite3.connect(\"UsedObjects.db\"))"
   ]
  },
  {
   "cell_type": "code",
   "execution_count": 3,
   "id": "periodic-identification",
   "metadata": {
    "execution": {
     "iopub.execute_input": "2021-09-14T12:30:08.138536Z",
     "iopub.status.busy": "2021-09-14T12:30:08.136532Z",
     "iopub.status.idle": "2021-09-14T12:30:08.156165Z",
     "shell.execute_reply": "2021-09-14T12:30:08.157305Z"
    },
    "papermill": {
     "duration": 0.06409,
     "end_time": "2021-09-14T12:30:08.157709",
     "exception": false,
     "start_time": "2021-09-14T12:30:08.093619",
     "status": "completed"
    },
    "tags": []
   },
   "outputs": [
    {
     "data": {
      "text/html": [
       "<div>\n",
       "<style scoped>\n",
       "    .dataframe tbody tr th:only-of-type {\n",
       "        vertical-align: middle;\n",
       "    }\n",
       "\n",
       "    .dataframe tbody tr th {\n",
       "        vertical-align: top;\n",
       "    }\n",
       "\n",
       "    .dataframe thead th {\n",
       "        text-align: right;\n",
       "    }\n",
       "</style>\n",
       "<table border=\"1\" class=\"dataframe\">\n",
       "  <thead>\n",
       "    <tr style=\"text-align: right;\">\n",
       "      <th></th>\n",
       "      <th>RECORD_TIME</th>\n",
       "    </tr>\n",
       "  </thead>\n",
       "  <tbody>\n",
       "    <tr>\n",
       "      <th>0</th>\n",
       "      <td>2021-09-14 14:30</td>\n",
       "    </tr>\n",
       "    <tr>\n",
       "      <th>1</th>\n",
       "      <td>2021-09-14 14:00</td>\n",
       "    </tr>\n",
       "  </tbody>\n",
       "</table>\n",
       "</div>"
      ],
      "text/plain": [
       "        RECORD_TIME\n",
       "0  2021-09-14 14:30\n",
       "1  2021-09-14 14:00"
      ]
     },
     "execution_count": 3,
     "metadata": {},
     "output_type": "execute_result"
    }
   ],
   "source": [
    "timestamps"
   ]
  },
  {
   "cell_type": "code",
   "execution_count": 4,
   "id": "alternate-victory",
   "metadata": {
    "execution": {
     "iopub.execute_input": "2021-09-14T12:30:08.211705Z",
     "iopub.status.busy": "2021-09-14T12:30:08.209336Z",
     "iopub.status.idle": "2021-09-14T12:30:08.641688Z",
     "shell.execute_reply": "2021-09-14T12:30:08.643103Z"
    },
    "papermill": {
     "duration": 0.462989,
     "end_time": "2021-09-14T12:30:08.643537",
     "exception": false,
     "start_time": "2021-09-14T12:30:08.180548",
     "status": "completed"
    },
    "tags": []
   },
   "outputs": [],
   "source": [
    "df = pd.read_sql(\"select * from EBAY_TOP_BERLIN where record_time in (select distinct record_time from EBAY_TOP_BERLIN order by record_time desc limit 2)\", sqlite3.connect(\"UsedObjects.db\"))"
   ]
  },
  {
   "cell_type": "code",
   "execution_count": 5,
   "id": "popular-active",
   "metadata": {
    "execution": {
     "iopub.execute_input": "2021-09-14T12:30:08.715244Z",
     "iopub.status.busy": "2021-09-14T12:30:08.702783Z",
     "iopub.status.idle": "2021-09-14T12:30:08.731371Z",
     "shell.execute_reply": "2021-09-14T12:30:08.732682Z"
    },
    "papermill": {
     "duration": 0.068726,
     "end_time": "2021-09-14T12:30:08.733128",
     "exception": false,
     "start_time": "2021-09-14T12:30:08.664402",
     "status": "completed"
    },
    "tags": []
   },
   "outputs": [],
   "source": [
    "df_pivot = df.pivot_table(index=\"PRODUCT\", columns = \"RECORD_TIME\", values = \"LISTING_COUNT\")"
   ]
  },
  {
   "cell_type": "code",
   "execution_count": 6,
   "id": "union-huntington",
   "metadata": {
    "execution": {
     "iopub.execute_input": "2021-09-14T12:30:08.790890Z",
     "iopub.status.busy": "2021-09-14T12:30:08.788433Z",
     "iopub.status.idle": "2021-09-14T12:30:08.794258Z",
     "shell.execute_reply": "2021-09-14T12:30:08.795609Z"
    },
    "papermill": {
     "duration": 0.042426,
     "end_time": "2021-09-14T12:30:08.796028",
     "exception": false,
     "start_time": "2021-09-14T12:30:08.753602",
     "status": "completed"
    },
    "tags": []
   },
   "outputs": [],
   "source": [
    "df_pivot.columns = [\"stamp_1\", \"stamp_2\"]\n",
    "df_pivot_diff = df_pivot.diff(axis=1)"
   ]
  },
  {
   "cell_type": "code",
   "execution_count": 7,
   "id": "fifth-motion",
   "metadata": {
    "execution": {
     "iopub.execute_input": "2021-09-14T12:30:08.849986Z",
     "iopub.status.busy": "2021-09-14T12:30:08.847789Z",
     "iopub.status.idle": "2021-09-14T12:30:10.350039Z",
     "shell.execute_reply": "2021-09-14T12:30:10.351575Z"
    },
    "papermill": {
     "duration": 1.535337,
     "end_time": "2021-09-14T12:30:10.352046",
     "exception": false,
     "start_time": "2021-09-14T12:30:08.816709",
     "status": "completed"
    },
    "tags": []
   },
   "outputs": [
    {
     "data": {
      "text/plain": [
       "<AxesSubplot:ylabel='PRODUCT'>"
      ]
     },
     "execution_count": 7,
     "metadata": {},
     "output_type": "execute_result"
    },
    {
     "data": {
      "image/png": "[encoded data removed]",
      "text/plain": [
       "<Figure size 432x288 with 1 Axes>"
      ]
     },
     "metadata": {
      "needs_background": "light"
     },
     "output_type": "display_data"
    }
   ],
   "source": [
    "df_pivot_diff.sort_values(\"stamp_2\", ascending = False)[\"stamp_2\"].head(10).plot.barh()"
   ]
  },
  {
   "cell_type": "code",
   "execution_count": null,
   "id": "extra-executive",
   "metadata": {
    "papermill": {
     "duration": 0.022356,
     "end_time": "2021-09-14T12:30:10.399130",
     "exception": false,
     "start_time": "2021-09-14T12:30:10.376774",
     "status": "completed"
    },
    "tags": []
   },
   "outputs": [],
   "source": []
  }
 ],
 "metadata": {
  "kernelspec": {
   "display_name": "Python 3",
   "language": "python",
   "name": "python3"
  },
  "language_info": {
   "codemirror_mode": {
    "name": "ipython",
    "version": 3
   },
   "file_extension": ".py",
   "mimetype": "text/x-python",
   "name": "python",
   "nbconvert_exporter": "python",
   "pygments_lexer": "ipython3",
   "version": "3.9.5"
  },
  "papermill": {
   "default_parameters": {},
   "duration": 6.561859,
   "end_time": "2021-09-14T12:30:11.041585",
   "environment_variables": {},
   "exception": null,
   "input_path": "eBay_Overview.ipynb",
   "output_path": "eBay_Overview.ipynb",
   "parameters": {},
   "start_time": "2021-09-14T12:30:04.479726",
   "version": "2.3.3"
  }
 },
 "nbformat": 4,
 "nbformat_minor": 5
}