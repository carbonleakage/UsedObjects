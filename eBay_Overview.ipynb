{
 "cells": [
  {
   "cell_type": "code",
   "execution_count": 1,
   "id": "reverse-picking",
   "metadata": {
    "execution": {
     "iopub.execute_input": "2021-09-02T21:00:07.570749Z",
     "iopub.status.busy": "2021-09-02T21:00:07.568822Z",
     "iopub.status.idle": "2021-09-02T21:00:08.372606Z",
     "shell.execute_reply": "2021-09-02T21:00:08.373846Z"
    },
    "papermill": {
     "duration": 0.854262,
     "end_time": "2021-09-02T21:00:08.374466",
     "exception": false,
     "start_time": "2021-09-02T21:00:07.520204",
     "status": "completed"
    },
    "tags": []
   },
   "outputs": [],
   "source": [
    "import pandas as pd\n",
    "import sqlite3"
   ]
  },
  {
   "cell_type": "code",
   "execution_count": 2,
   "id": "innovative-syndrome",
   "metadata": {
    "execution": {
     "iopub.execute_input": "2021-09-02T21:00:08.425585Z",
     "iopub.status.busy": "2021-09-02T21:00:08.423757Z",
     "iopub.status.idle": "2021-09-02T21:00:08.612688Z",
     "shell.execute_reply": "2021-09-02T21:00:08.613888Z"
    },
    "papermill": {
     "duration": 0.218201,
     "end_time": "2021-09-02T21:00:08.614281",
     "exception": false,
     "start_time": "2021-09-02T21:00:08.396080",
     "status": "completed"
    },
    "tags": []
   },
   "outputs": [],
   "source": [
    "timestamps = pd.read_sql(\"select distinct record_time from EBAY_TOP_BERLIN order by record_time desc limit 2\", sqlite3.connect(\"UsedObjects.db\"))"
   ]
  },
  {
   "cell_type": "code",
   "execution_count": 3,
   "id": "periodic-identification",
   "metadata": {
    "execution": {
     "iopub.execute_input": "2021-09-02T21:00:08.678027Z",
     "iopub.status.busy": "2021-09-02T21:00:08.676023Z",
     "iopub.status.idle": "2021-09-02T21:00:08.697547Z",
     "shell.execute_reply": "2021-09-02T21:00:08.698751Z"
    },
    "papermill": {
     "duration": 0.065663,
     "end_time": "2021-09-02T21:00:08.699330",
     "exception": false,
     "start_time": "2021-09-02T21:00:08.633667",
     "status": "completed"
    },
    "tags": []
   },
   "outputs": [
    {
     "data": {
      "text/html": [
       "<div>\n",
       "<style scoped>\n",
       "    .dataframe tbody tr th:only-of-type {\n",
       "        vertical-align: middle;\n",
       "    }\n",
       "\n",
       "    .dataframe tbody tr th {\n",
       "        vertical-align: top;\n",
       "    }\n",
       "\n",
       "    .dataframe thead th {\n",
       "        text-align: right;\n",
       "    }\n",
       "</style>\n",
       "<table border=\"1\" class=\"dataframe\">\n",
       "  <thead>\n",
       "    <tr style=\"text-align: right;\">\n",
       "      <th></th>\n",
       "      <th>RECORD_TIME</th>\n",
       "    </tr>\n",
       "  </thead>\n",
       "  <tbody>\n",
       "    <tr>\n",
       "      <th>0</th>\n",
       "      <td>2021-09-02 23:00</td>\n",
       "    </tr>\n",
       "    <tr>\n",
       "      <th>1</th>\n",
       "      <td>2021-09-02 22:30</td>\n",
       "    </tr>\n",
       "  </tbody>\n",
       "</table>\n",
       "</div>"
      ],
      "text/plain": [
       "        RECORD_TIME\n",
       "0  2021-09-02 23:00\n",
       "1  2021-09-02 22:30"
      ]
     },
     "execution_count": 3,
     "metadata": {},
     "output_type": "execute_result"
    }
   ],
   "source": [
    "timestamps"
   ]
  },
  {
   "cell_type": "code",
   "execution_count": 4,
   "id": "alternate-victory",
   "metadata": {
    "execution": {
     "iopub.execute_input": "2021-09-02T21:00:08.751108Z",
     "iopub.status.busy": "2021-09-02T21:00:08.748792Z",
     "iopub.status.idle": "2021-09-02T21:00:09.043452Z",
     "shell.execute_reply": "2021-09-02T21:00:09.044677Z"
    },
    "papermill": {
     "duration": 0.324802,
     "end_time": "2021-09-02T21:00:09.045066",
     "exception": false,
     "start_time": "2021-09-02T21:00:08.720264",
     "status": "completed"
    },
    "tags": []
   },
   "outputs": [],
   "source": [
    "df = pd.read_sql(\"select * from EBAY_TOP_BERLIN where record_time in (select distinct record_time from EBAY_TOP_BERLIN order by record_time desc limit 2)\", sqlite3.connect(\"UsedObjects.db\"))"
   ]
  },
  {
   "cell_type": "code",
   "execution_count": 5,
   "id": "popular-active",
   "metadata": {
    "execution": {
     "iopub.execute_input": "2021-09-02T21:00:09.135387Z",
     "iopub.status.busy": "2021-09-02T21:00:09.132871Z",
     "iopub.status.idle": "2021-09-02T21:00:09.161673Z",
     "shell.execute_reply": "2021-09-02T21:00:09.162943Z"
    },
    "papermill": {
     "duration": 0.077007,
     "end_time": "2021-09-02T21:00:09.163344",
     "exception": false,
     "start_time": "2021-09-02T21:00:09.086337",
     "status": "completed"
    },
    "tags": []
   },
   "outputs": [],
   "source": [
    "df_pivot = df.pivot_table(index=\"PRODUCT\", columns = \"RECORD_TIME\", values = \"LISTING_COUNT\")"
   ]
  },
  {
   "cell_type": "code",
   "execution_count": 6,
   "id": "union-huntington",
   "metadata": {
    "execution": {
     "iopub.execute_input": "2021-09-02T21:00:09.221109Z",
     "iopub.status.busy": "2021-09-02T21:00:09.218964Z",
     "iopub.status.idle": "2021-09-02T21:00:09.226008Z",
     "shell.execute_reply": "2021-09-02T21:00:09.224545Z"
    },
    "papermill": {
     "duration": 0.040874,
     "end_time": "2021-09-02T21:00:09.226379",
     "exception": false,
     "start_time": "2021-09-02T21:00:09.185505",
     "status": "completed"
    },
    "tags": []
   },
   "outputs": [],
   "source": [
    "df_pivot.columns = [\"stamp_1\", \"stamp_2\"]\n",
    "df_pivot_diff = df_pivot.diff(axis=1)"
   ]
  },
  {
   "cell_type": "code",
   "execution_count": 7,
   "id": "fifth-motion",
   "metadata": {
    "execution": {
     "iopub.execute_input": "2021-09-02T21:00:09.283557Z",
     "iopub.status.busy": "2021-09-02T21:00:09.280861Z",
     "iopub.status.idle": "2021-09-02T21:00:10.737222Z",
     "shell.execute_reply": "2021-09-02T21:00:10.738433Z"
    },
    "papermill": {
     "duration": 1.489757,
     "end_time": "2021-09-02T21:00:10.738915",
     "exception": false,
     "start_time": "2021-09-02T21:00:09.249158",
     "status": "completed"
    },
    "tags": []
   },
   "outputs": [
    {
     "data": {
      "text/plain": [
       "<AxesSubplot:ylabel='PRODUCT'>"
      ]
     },
     "execution_count": 7,
     "metadata": {},
     "output_type": "execute_result"
    },
    {
     "data": {
      "image/png": "[encoded data removed]",
      "text/plain": [
       "<Figure size 432x288 with 1 Axes>"
      ]
     },
     "metadata": {
      "needs_background": "light"
     },
     "output_type": "display_data"
    }
   ],
   "source": [
    "df_pivot_diff.sort_values(\"stamp_2\", ascending = False)[\"stamp_2\"].head(10).plot.barh()"
   ]
  },
  {
   "cell_type": "code",
   "execution_count": null,
   "id": "extra-executive",
   "metadata": {
    "papermill": {
     "duration": 0.022008,
     "end_time": "2021-09-02T21:00:10.784653",
     "exception": false,
     "start_time": "2021-09-02T21:00:10.762645",
     "status": "completed"
    },
    "tags": []
   },
   "outputs": [],
   "source": []
  }
 ],
 "metadata": {
  "kernelspec": {
   "display_name": "Python 3",
   "language": "python",
   "name": "python3"
  },
  "language_info": {
   "codemirror_mode": {
    "name": "ipython",
    "version": 3
   },
   "file_extension": ".py",
   "mimetype": "text/x-python",
   "name": "python",
   "nbconvert_exporter": "python",
   "pygments_lexer": "ipython3",
   "version": "3.9.5"
  },
  "papermill": {
   "default_parameters": {},
   "duration": 6.81842,
   "end_time": "2021-09-02T21:00:11.937355",
   "environment_variables": {},
   "exception": null,
   "input_path": "eBay_Overview.ipynb",
   "output_path": "eBay_Overview.ipynb",
   "parameters": {},
   "start_time": "2021-09-02T21:00:05.118935",
   "version": "2.3.3"
  }
 },
 "nbformat": 4,
 "nbformat_minor": 5
}