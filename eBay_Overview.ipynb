{
 "cells": [
  {
   "cell_type": "code",
   "execution_count": 1,
   "id": "reverse-picking",
   "metadata": {
    "execution": {
     "iopub.execute_input": "2021-09-21T14:30:06.698976Z",
     "iopub.status.busy": "2021-09-21T14:30:06.696945Z",
     "iopub.status.idle": "2021-09-21T14:30:07.502673Z",
     "shell.execute_reply": "2021-09-21T14:30:07.504112Z"
    },
    "papermill": {
     "duration": 0.858376,
     "end_time": "2021-09-21T14:30:07.504754",
     "exception": false,
     "start_time": "2021-09-21T14:30:06.646378",
     "status": "completed"
    },
    "tags": []
   },
   "outputs": [],
   "source": [
    "import pandas as pd\n",
    "import sqlite3"
   ]
  },
  {
   "cell_type": "code",
   "execution_count": 2,
   "id": "innovative-syndrome",
   "metadata": {
    "execution": {
     "iopub.execute_input": "2021-09-21T14:30:07.555473Z",
     "iopub.status.busy": "2021-09-21T14:30:07.553498Z",
     "iopub.status.idle": "2021-09-21T14:30:07.891337Z",
     "shell.execute_reply": "2021-09-21T14:30:07.892736Z"
    },
    "papermill": {
     "duration": 0.36777,
     "end_time": "2021-09-21T14:30:07.893168",
     "exception": false,
     "start_time": "2021-09-21T14:30:07.525398",
     "status": "completed"
    },
    "tags": []
   },
   "outputs": [],
   "source": [
    "timestamps = pd.read_sql(\"select distinct record_time from EBAY_TOP_BERLIN order by record_time desc limit 2\", sqlite3.connect(\"UsedObjects.db\"))"
   ]
  },
  {
   "cell_type": "code",
   "execution_count": 3,
   "id": "periodic-identification",
   "metadata": {
    "execution": {
     "iopub.execute_input": "2021-09-21T14:30:07.960841Z",
     "iopub.status.busy": "2021-09-21T14:30:07.958749Z",
     "iopub.status.idle": "2021-09-21T14:30:07.979087Z",
     "shell.execute_reply": "2021-09-21T14:30:07.980309Z"
    },
    "papermill": {
     "duration": 0.067288,
     "end_time": "2021-09-21T14:30:07.980735",
     "exception": false,
     "start_time": "2021-09-21T14:30:07.913447",
     "status": "completed"
    },
    "tags": []
   },
   "outputs": [
    {
     "data": {
      "text/html": [
       "<div>\n",
       "<style scoped>\n",
       "    .dataframe tbody tr th:only-of-type {\n",
       "        vertical-align: middle;\n",
       "    }\n",
       "\n",
       "    .dataframe tbody tr th {\n",
       "        vertical-align: top;\n",
       "    }\n",
       "\n",
       "    .dataframe thead th {\n",
       "        text-align: right;\n",
       "    }\n",
       "</style>\n",
       "<table border=\"1\" class=\"dataframe\">\n",
       "  <thead>\n",
       "    <tr style=\"text-align: right;\">\n",
       "      <th></th>\n",
       "      <th>RECORD_TIME</th>\n",
       "    </tr>\n",
       "  </thead>\n",
       "  <tbody>\n",
       "    <tr>\n",
       "      <th>0</th>\n",
       "      <td>2021-09-21 16:30</td>\n",
       "    </tr>\n",
       "    <tr>\n",
       "      <th>1</th>\n",
       "      <td>2021-09-21 16:00</td>\n",
       "    </tr>\n",
       "  </tbody>\n",
       "</table>\n",
       "</div>"
      ],
      "text/plain": [
       "        RECORD_TIME\n",
       "0  2021-09-21 16:30\n",
       "1  2021-09-21 16:00"
      ]
     },
     "execution_count": 3,
     "metadata": {},
     "output_type": "execute_result"
    }
   ],
   "source": [
    "timestamps"
   ]
  },
  {
   "cell_type": "code",
   "execution_count": 4,
   "id": "alternate-victory",
   "metadata": {
    "execution": {
     "iopub.execute_input": "2021-09-21T14:30:08.035512Z",
     "iopub.status.busy": "2021-09-21T14:30:08.033142Z",
     "iopub.status.idle": "2021-09-21T14:30:08.552242Z",
     "shell.execute_reply": "2021-09-21T14:30:08.553457Z"
    },
    "papermill": {
     "duration": 0.549854,
     "end_time": "2021-09-21T14:30:08.553845",
     "exception": false,
     "start_time": "2021-09-21T14:30:08.003991",
     "status": "completed"
    },
    "tags": []
   },
   "outputs": [],
   "source": [
    "df = pd.read_sql(\"select * from EBAY_TOP_BERLIN where record_time in (select distinct record_time from EBAY_TOP_BERLIN order by record_time desc limit 2)\", sqlite3.connect(\"UsedObjects.db\"))"
   ]
  },
  {
   "cell_type": "code",
   "execution_count": 5,
   "id": "popular-active",
   "metadata": {
    "execution": {
     "iopub.execute_input": "2021-09-21T14:30:08.634124Z",
     "iopub.status.busy": "2021-09-21T14:30:08.626957Z",
     "iopub.status.idle": "2021-09-21T14:30:08.652035Z",
     "shell.execute_reply": "2021-09-21T14:30:08.653435Z"
    },
    "papermill": {
     "duration": 0.074022,
     "end_time": "2021-09-21T14:30:08.653866",
     "exception": false,
     "start_time": "2021-09-21T14:30:08.579844",
     "status": "completed"
    },
    "tags": []
   },
   "outputs": [],
   "source": [
    "df_pivot = df.pivot_table(index=\"PRODUCT\", columns = \"RECORD_TIME\", values = \"LISTING_COUNT\")"
   ]
  },
  {
   "cell_type": "code",
   "execution_count": 6,
   "id": "union-huntington",
   "metadata": {
    "execution": {
     "iopub.execute_input": "2021-09-21T14:30:08.710882Z",
     "iopub.status.busy": "2021-09-21T14:30:08.708782Z",
     "iopub.status.idle": "2021-09-21T14:30:08.714085Z",
     "shell.execute_reply": "2021-09-21T14:30:08.715465Z"
    },
    "papermill": {
     "duration": 0.041378,
     "end_time": "2021-09-21T14:30:08.715887",
     "exception": false,
     "start_time": "2021-09-21T14:30:08.674509",
     "status": "completed"
    },
    "tags": []
   },
   "outputs": [],
   "source": [
    "df_pivot.columns = [\"stamp_1\", \"stamp_2\"]\n",
    "df_pivot_diff = df_pivot.diff(axis=1)"
   ]
  },
  {
   "cell_type": "code",
   "execution_count": 7,
   "id": "fifth-motion",
   "metadata": {
    "execution": {
     "iopub.execute_input": "2021-09-21T14:30:08.770414Z",
     "iopub.status.busy": "2021-09-21T14:30:08.768036Z",
     "iopub.status.idle": "2021-09-21T14:30:10.268317Z",
     "shell.execute_reply": "2021-09-21T14:30:10.269615Z"
    },
    "papermill": {
     "duration": 1.533332,
     "end_time": "2021-09-21T14:30:10.270029",
     "exception": false,
     "start_time": "2021-09-21T14:30:08.736697",
     "status": "completed"
    },
    "tags": []
   },
   "outputs": [
    {
     "data": {
      "text/plain": [
       "<AxesSubplot:ylabel='PRODUCT'>"
      ]
     },
     "execution_count": 7,
     "metadata": {},
     "output_type": "execute_result"
    },
    {
     "data": {
      "image/png": "[encoded data removed]",
      "text/plain": [
       "<Figure size 432x288 with 1 Axes>"
      ]
     },
     "metadata": {
      "needs_background": "light"
     },
     "output_type": "display_data"
    }
   ],
   "source": [
    "df_pivot_diff.sort_values(\"stamp_2\", ascending = False)[\"stamp_2\"].head(10).plot.barh()"
   ]
  },
  {
   "cell_type": "code",
   "execution_count": null,
   "id": "extra-executive",
   "metadata": {
    "papermill": {
     "duration": 0.022447,
     "end_time": "2021-09-21T14:30:10.317134",
     "exception": false,
     "start_time": "2021-09-21T14:30:10.294687",
     "status": "completed"
    },
    "tags": []
   },
   "outputs": [],
   "source": []
  }
 ],
 "metadata": {
  "kernelspec": {
   "display_name": "Python 3",
   "language": "python",
   "name": "python3"
  },
  "language_info": {
   "codemirror_mode": {
    "name": "ipython",
    "version": 3
   },
   "file_extension": ".py",
   "mimetype": "text/x-python",
   "name": "python",
   "nbconvert_exporter": "python",
   "pygments_lexer": "ipython3",
   "version": "3.9.5"
  },
  "papermill": {
   "default_parameters": {},
   "duration": 6.722054,
   "end_time": "2021-09-21T14:30:10.959833",
   "environment_variables": {},
   "exception": null,
   "input_path": "eBay_Overview.ipynb",
   "output_path": "eBay_Overview.ipynb",
   "parameters": {},
   "start_time": "2021-09-21T14:30:04.237779",
   "version": "2.3.3"
  }
 },
 "nbformat": 4,
 "nbformat_minor": 5
}