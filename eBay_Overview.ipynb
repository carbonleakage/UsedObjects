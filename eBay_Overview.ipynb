{
 "cells": [
  {
   "cell_type": "code",
   "execution_count": 1,
   "id": "reverse-picking",
   "metadata": {
    "execution": {
     "iopub.execute_input": "2021-11-30T05:30:07.203120Z",
     "iopub.status.busy": "2021-11-30T05:30:07.200624Z",
     "iopub.status.idle": "2021-11-30T05:30:08.126579Z",
     "shell.execute_reply": "2021-11-30T05:30:08.128156Z"
    },
    "papermill": {
     "duration": 0.981987,
     "end_time": "2021-11-30T05:30:08.129217",
     "exception": false,
     "start_time": "2021-11-30T05:30:07.147230",
     "status": "completed"
    },
    "tags": []
   },
   "outputs": [],
   "source": [
    "import pandas as pd\n",
    "import sqlite3"
   ]
  },
  {
   "cell_type": "code",
   "execution_count": 2,
   "id": "innovative-syndrome",
   "metadata": {
    "execution": {
     "iopub.execute_input": "2021-11-30T05:30:08.193335Z",
     "iopub.status.busy": "2021-11-30T05:30:08.190871Z",
     "iopub.status.idle": "2021-11-30T05:30:09.138399Z",
     "shell.execute_reply": "2021-11-30T05:30:09.139785Z"
    },
    "papermill": {
     "duration": 0.981592,
     "end_time": "2021-11-30T05:30:09.140281",
     "exception": false,
     "start_time": "2021-11-30T05:30:08.158689",
     "status": "completed"
    },
    "tags": []
   },
   "outputs": [],
   "source": [
    "timestamps = pd.read_sql(\"select distinct record_time from EBAY_TOP_BERLIN order by record_time desc limit 2\", sqlite3.connect(\"UsedObjects.db\"))"
   ]
  },
  {
   "cell_type": "code",
   "execution_count": 3,
   "id": "periodic-identification",
   "metadata": {
    "execution": {
     "iopub.execute_input": "2021-11-30T05:30:09.214222Z",
     "iopub.status.busy": "2021-11-30T05:30:09.211797Z",
     "iopub.status.idle": "2021-11-30T05:30:09.234931Z",
     "shell.execute_reply": "2021-11-30T05:30:09.236555Z"
    },
    "papermill": {
     "duration": 0.075914,
     "end_time": "2021-11-30T05:30:09.237192",
     "exception": false,
     "start_time": "2021-11-30T05:30:09.161278",
     "status": "completed"
    },
    "tags": []
   },
   "outputs": [
    {
     "data": {
      "text/html": [
       "<div>\n",
       "<style scoped>\n",
       "    .dataframe tbody tr th:only-of-type {\n",
       "        vertical-align: middle;\n",
       "    }\n",
       "\n",
       "    .dataframe tbody tr th {\n",
       "        vertical-align: top;\n",
       "    }\n",
       "\n",
       "    .dataframe thead th {\n",
       "        text-align: right;\n",
       "    }\n",
       "</style>\n",
       "<table border=\"1\" class=\"dataframe\">\n",
       "  <thead>\n",
       "    <tr style=\"text-align: right;\">\n",
       "      <th></th>\n",
       "      <th>RECORD_TIME</th>\n",
       "    </tr>\n",
       "  </thead>\n",
       "  <tbody>\n",
       "    <tr>\n",
       "      <th>0</th>\n",
       "      <td>2021-11-30 06:30</td>\n",
       "    </tr>\n",
       "    <tr>\n",
       "      <th>1</th>\n",
       "      <td>2021-11-30 06:00</td>\n",
       "    </tr>\n",
       "  </tbody>\n",
       "</table>\n",
       "</div>"
      ],
      "text/plain": [
       "        RECORD_TIME\n",
       "0  2021-11-30 06:30\n",
       "1  2021-11-30 06:00"
      ]
     },
     "execution_count": 3,
     "metadata": {},
     "output_type": "execute_result"
    }
   ],
   "source": [
    "timestamps"
   ]
  },
  {
   "cell_type": "code",
   "execution_count": 4,
   "id": "alternate-victory",
   "metadata": {
    "execution": {
     "iopub.execute_input": "2021-11-30T05:30:09.292585Z",
     "iopub.status.busy": "2021-11-30T05:30:09.290651Z",
     "iopub.status.idle": "2021-11-30T05:30:10.654189Z",
     "shell.execute_reply": "2021-11-30T05:30:10.655920Z"
    },
    "papermill": {
     "duration": 1.394769,
     "end_time": "2021-11-30T05:30:10.656385",
     "exception": false,
     "start_time": "2021-11-30T05:30:09.261616",
     "status": "completed"
    },
    "tags": []
   },
   "outputs": [],
   "source": [
    "df = pd.read_sql(\"select * from EBAY_TOP_BERLIN where record_time in (select distinct record_time from EBAY_TOP_BERLIN order by record_time desc limit 2)\", sqlite3.connect(\"UsedObjects.db\"))"
   ]
  },
  {
   "cell_type": "code",
   "execution_count": 5,
   "id": "popular-active",
   "metadata": {
    "execution": {
     "iopub.execute_input": "2021-11-30T05:30:10.733567Z",
     "iopub.status.busy": "2021-11-30T05:30:10.719756Z",
     "iopub.status.idle": "2021-11-30T05:30:10.751390Z",
     "shell.execute_reply": "2021-11-30T05:30:10.752795Z"
    },
    "papermill": {
     "duration": 0.074156,
     "end_time": "2021-11-30T05:30:10.753268",
     "exception": false,
     "start_time": "2021-11-30T05:30:10.679112",
     "status": "completed"
    },
    "tags": []
   },
   "outputs": [],
   "source": [
    "df_pivot = df.pivot_table(index=\"PRODUCT\", columns = \"RECORD_TIME\", values = \"LISTING_COUNT\")"
   ]
  },
  {
   "cell_type": "code",
   "execution_count": 6,
   "id": "union-huntington",
   "metadata": {
    "execution": {
     "iopub.execute_input": "2021-11-30T05:30:10.817104Z",
     "iopub.status.busy": "2021-11-30T05:30:10.813816Z",
     "iopub.status.idle": "2021-11-30T05:30:10.823432Z",
     "shell.execute_reply": "2021-11-30T05:30:10.821747Z"
    },
    "papermill": {
     "duration": 0.050442,
     "end_time": "2021-11-30T05:30:10.823865",
     "exception": false,
     "start_time": "2021-11-30T05:30:10.773423",
     "status": "completed"
    },
    "tags": []
   },
   "outputs": [],
   "source": [
    "df_pivot.columns = [\"stamp_1\", \"stamp_2\"]\n",
    "df_pivot_diff = df_pivot.diff(axis=1)"
   ]
  },
  {
   "cell_type": "code",
   "execution_count": 7,
   "id": "fifth-motion",
   "metadata": {
    "execution": {
     "iopub.execute_input": "2021-11-30T05:30:10.881979Z",
     "iopub.status.busy": "2021-11-30T05:30:10.879368Z",
     "iopub.status.idle": "2021-11-30T05:30:12.868334Z",
     "shell.execute_reply": "2021-11-30T05:30:12.871256Z"
    },
    "papermill": {
     "duration": 2.025876,
     "end_time": "2021-11-30T05:30:12.872054",
     "exception": false,
     "start_time": "2021-11-30T05:30:10.846178",
     "status": "completed"
    },
    "tags": []
   },
   "outputs": [
    {
     "data": {
      "text/plain": [
       "<AxesSubplot:ylabel='PRODUCT'>"
      ]
     },
     "execution_count": 7,
     "metadata": {},
     "output_type": "execute_result"
    },
    {
     "data": {
      "image/png": "[encoded data removed]",
      "text/plain": [
       "<Figure size 432x288 with 1 Axes>"
      ]
     },
     "metadata": {
      "needs_background": "light"
     },
     "output_type": "display_data"
    }
   ],
   "source": [
    "df_pivot_diff.sort_values(\"stamp_2\", ascending = False)[\"stamp_2\"].head(10).plot.barh()"
   ]
  },
  {
   "cell_type": "code",
   "execution_count": null,
   "id": "extra-executive",
   "metadata": {
    "papermill": {
     "duration": 0.033306,
     "end_time": "2021-11-30T05:30:12.944010",
     "exception": false,
     "start_time": "2021-11-30T05:30:12.910704",
     "status": "completed"
    },
    "tags": []
   },
   "outputs": [],
   "source": []
  }
 ],
 "metadata": {
  "kernelspec": {
   "display_name": "Python 3",
   "language": "python",
   "name": "python3"
  },
  "language_info": {
   "codemirror_mode": {
    "name": "ipython",
    "version": 3
   },
   "file_extension": ".py",
   "mimetype": "text/x-python",
   "name": "python",
   "nbconvert_exporter": "python",
   "pygments_lexer": "ipython3",
   "version": "3.9.5"
  },
  "papermill": {
   "default_parameters": {},
   "duration": 9.953551,
   "end_time": "2021-11-30T05:30:14.347503",
   "environment_variables": {},
   "exception": null,
   "input_path": "eBay_Overview.ipynb",
   "output_path": "eBay_Overview.ipynb",
   "parameters": {},
   "start_time": "2021-11-30T05:30:04.393952",
   "version": "2.3.3"
  }
 },
 "nbformat": 4,
 "nbformat_minor": 5
}