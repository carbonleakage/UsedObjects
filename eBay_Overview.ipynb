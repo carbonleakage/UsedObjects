{
 "cells": [
  {
   "cell_type": "code",
   "execution_count": 1,
   "id": "reverse-picking",
   "metadata": {
    "execution": {
     "iopub.execute_input": "2021-08-20T08:00:06.772699Z",
     "iopub.status.busy": "2021-08-20T08:00:06.770487Z",
     "iopub.status.idle": "2021-08-20T08:00:07.574696Z",
     "shell.execute_reply": "2021-08-20T08:00:07.576012Z"
    },
    "papermill": {
     "duration": 0.857662,
     "end_time": "2021-08-20T08:00:07.576648",
     "exception": false,
     "start_time": "2021-08-20T08:00:06.718986",
     "status": "completed"
    },
    "tags": []
   },
   "outputs": [],
   "source": [
    "import pandas as pd\n",
    "import sqlite3"
   ]
  },
  {
   "cell_type": "code",
   "execution_count": 2,
   "id": "innovative-syndrome",
   "metadata": {
    "execution": {
     "iopub.execute_input": "2021-08-20T08:00:07.628858Z",
     "iopub.status.busy": "2021-08-20T08:00:07.627018Z",
     "iopub.status.idle": "2021-08-20T08:00:07.715349Z",
     "shell.execute_reply": "2021-08-20T08:00:07.716607Z"
    },
    "papermill": {
     "duration": 0.117971,
     "end_time": "2021-08-20T08:00:07.717015",
     "exception": false,
     "start_time": "2021-08-20T08:00:07.599044",
     "status": "completed"
    },
    "tags": []
   },
   "outputs": [],
   "source": [
    "timestamps = pd.read_sql(\"select distinct record_time from EBAY_TOP_BERLIN order by record_time desc limit 2\", sqlite3.connect(\"UsedObjects.db\"))"
   ]
  },
  {
   "cell_type": "code",
   "execution_count": 3,
   "id": "periodic-identification",
   "metadata": {
    "execution": {
     "iopub.execute_input": "2021-08-20T08:00:07.783830Z",
     "iopub.status.busy": "2021-08-20T08:00:07.781794Z",
     "iopub.status.idle": "2021-08-20T08:00:07.801448Z",
     "shell.execute_reply": "2021-08-20T08:00:07.802897Z"
    },
    "papermill": {
     "duration": 0.066629,
     "end_time": "2021-08-20T08:00:07.803341",
     "exception": false,
     "start_time": "2021-08-20T08:00:07.736712",
     "status": "completed"
    },
    "tags": []
   },
   "outputs": [
    {
     "data": {
      "text/html": [
       "<div>\n",
       "<style scoped>\n",
       "    .dataframe tbody tr th:only-of-type {\n",
       "        vertical-align: middle;\n",
       "    }\n",
       "\n",
       "    .dataframe tbody tr th {\n",
       "        vertical-align: top;\n",
       "    }\n",
       "\n",
       "    .dataframe thead th {\n",
       "        text-align: right;\n",
       "    }\n",
       "</style>\n",
       "<table border=\"1\" class=\"dataframe\">\n",
       "  <thead>\n",
       "    <tr style=\"text-align: right;\">\n",
       "      <th></th>\n",
       "      <th>RECORD_TIME</th>\n",
       "    </tr>\n",
       "  </thead>\n",
       "  <tbody>\n",
       "    <tr>\n",
       "      <th>0</th>\n",
       "      <td>2021-08-20 10:00</td>\n",
       "    </tr>\n",
       "    <tr>\n",
       "      <th>1</th>\n",
       "      <td>2021-08-20 09:30</td>\n",
       "    </tr>\n",
       "  </tbody>\n",
       "</table>\n",
       "</div>"
      ],
      "text/plain": [
       "        RECORD_TIME\n",
       "0  2021-08-20 10:00\n",
       "1  2021-08-20 09:30"
      ]
     },
     "execution_count": 3,
     "metadata": {},
     "output_type": "execute_result"
    }
   ],
   "source": [
    "timestamps"
   ]
  },
  {
   "cell_type": "code",
   "execution_count": 4,
   "id": "alternate-victory",
   "metadata": {
    "execution": {
     "iopub.execute_input": "2021-08-20T08:00:07.855108Z",
     "iopub.status.busy": "2021-08-20T08:00:07.853197Z",
     "iopub.status.idle": "2021-08-20T08:00:07.983201Z",
     "shell.execute_reply": "2021-08-20T08:00:07.984454Z"
    },
    "papermill": {
     "duration": 0.16002,
     "end_time": "2021-08-20T08:00:07.984843",
     "exception": false,
     "start_time": "2021-08-20T08:00:07.824823",
     "status": "completed"
    },
    "tags": []
   },
   "outputs": [],
   "source": [
    "df = pd.read_sql(\"select * from EBAY_TOP_BERLIN where record_time in (select distinct record_time from EBAY_TOP_BERLIN order by record_time desc limit 2)\", sqlite3.connect(\"UsedObjects.db\"))"
   ]
  },
  {
   "cell_type": "code",
   "execution_count": 5,
   "id": "popular-active",
   "metadata": {
    "execution": {
     "iopub.execute_input": "2021-08-20T08:00:08.055287Z",
     "iopub.status.busy": "2021-08-20T08:00:08.044998Z",
     "iopub.status.idle": "2021-08-20T08:00:08.071554Z",
     "shell.execute_reply": "2021-08-20T08:00:08.072745Z"
    },
    "papermill": {
     "duration": 0.06772,
     "end_time": "2021-08-20T08:00:08.073133",
     "exception": false,
     "start_time": "2021-08-20T08:00:08.005413",
     "status": "completed"
    },
    "tags": []
   },
   "outputs": [],
   "source": [
    "df_pivot = df.pivot_table(index=\"PRODUCT\", columns = \"RECORD_TIME\", values = \"LISTING_COUNT\")"
   ]
  },
  {
   "cell_type": "code",
   "execution_count": 6,
   "id": "union-huntington",
   "metadata": {
    "execution": {
     "iopub.execute_input": "2021-08-20T08:00:08.128172Z",
     "iopub.status.busy": "2021-08-20T08:00:08.126246Z",
     "iopub.status.idle": "2021-08-20T08:00:08.131221Z",
     "shell.execute_reply": "2021-08-20T08:00:08.132326Z"
    },
    "papermill": {
     "duration": 0.039544,
     "end_time": "2021-08-20T08:00:08.132735",
     "exception": false,
     "start_time": "2021-08-20T08:00:08.093191",
     "status": "completed"
    },
    "tags": []
   },
   "outputs": [],
   "source": [
    "df_pivot.columns = [\"stamp_1\", \"stamp_2\"]\n",
    "df_pivot_diff = df_pivot.diff(axis=1)"
   ]
  },
  {
   "cell_type": "code",
   "execution_count": 7,
   "id": "fifth-motion",
   "metadata": {
    "execution": {
     "iopub.execute_input": "2021-08-20T08:00:08.190012Z",
     "iopub.status.busy": "2021-08-20T08:00:08.187709Z",
     "iopub.status.idle": "2021-08-20T08:00:09.676753Z",
     "shell.execute_reply": "2021-08-20T08:00:09.678078Z"
    },
    "papermill": {
     "duration": 1.521698,
     "end_time": "2021-08-20T08:00:09.678541",
     "exception": false,
     "start_time": "2021-08-20T08:00:08.156843",
     "status": "completed"
    },
    "tags": []
   },
   "outputs": [
    {
     "data": {
      "text/plain": [
       "<AxesSubplot:ylabel='PRODUCT'>"
      ]
     },
     "execution_count": 7,
     "metadata": {},
     "output_type": "execute_result"
    },
    {
     "data": {
      "image/png": "[encoded data removed]",
      "text/plain": [
       "<Figure size 432x288 with 1 Axes>"
      ]
     },
     "metadata": {
      "needs_background": "light"
     },
     "output_type": "display_data"
    }
   ],
   "source": [
    "df_pivot_diff.sort_values(\"stamp_2\", ascending = False)[\"stamp_2\"].head(10).plot.barh()"
   ]
  },
  {
   "cell_type": "code",
   "execution_count": null,
   "id": "extra-executive",
   "metadata": {
    "papermill": {
     "duration": 0.022247,
     "end_time": "2021-08-20T08:00:09.725650",
     "exception": false,
     "start_time": "2021-08-20T08:00:09.703403",
     "status": "completed"
    },
    "tags": []
   },
   "outputs": [],
   "source": []
  }
 ],
 "metadata": {
  "kernelspec": {
   "display_name": "Python 3",
   "language": "python",
   "name": "python3"
  },
  "language_info": {
   "codemirror_mode": {
    "name": "ipython",
    "version": 3
   },
   "file_extension": ".py",
   "mimetype": "text/x-python",
   "name": "python",
   "nbconvert_exporter": "python",
   "pygments_lexer": "ipython3",
   "version": "3.9.5"
  },
  "papermill": {
   "default_parameters": {},
   "duration": 6.832252,
   "end_time": "2021-08-20T08:00:11.155477",
   "environment_variables": {},
   "exception": null,
   "input_path": "eBay_Overview.ipynb",
   "output_path": "eBay_Overview.ipynb",
   "parameters": {},
   "start_time": "2021-08-20T08:00:04.323225",
   "version": "2.3.3"
  }
 },
 "nbformat": 4,
 "nbformat_minor": 5
}