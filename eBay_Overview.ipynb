{
 "cells": [
  {
   "cell_type": "code",
   "execution_count": 1,
   "id": "reverse-picking",
   "metadata": {
    "execution": {
     "iopub.execute_input": "2021-10-27T10:00:07.312084Z",
     "iopub.status.busy": "2021-10-27T10:00:07.310180Z",
     "iopub.status.idle": "2021-10-27T10:00:08.117390Z",
     "shell.execute_reply": "2021-10-27T10:00:08.115660Z"
    },
    "papermill": {
     "duration": 0.858357,
     "end_time": "2021-10-27T10:00:08.117820",
     "exception": false,
     "start_time": "2021-10-27T10:00:07.259463",
     "status": "completed"
    },
    "tags": []
   },
   "outputs": [],
   "source": [
    "import pandas as pd\n",
    "import sqlite3"
   ]
  },
  {
   "cell_type": "code",
   "execution_count": 2,
   "id": "innovative-syndrome",
   "metadata": {
    "execution": {
     "iopub.execute_input": "2021-10-27T10:00:08.169228Z",
     "iopub.status.busy": "2021-10-27T10:00:08.167182Z",
     "iopub.status.idle": "2021-10-27T10:00:08.823384Z",
     "shell.execute_reply": "2021-10-27T10:00:08.824589Z"
    },
    "papermill": {
     "duration": 0.686085,
     "end_time": "2021-10-27T10:00:08.825035",
     "exception": false,
     "start_time": "2021-10-27T10:00:08.138950",
     "status": "completed"
    },
    "tags": []
   },
   "outputs": [],
   "source": [
    "timestamps = pd.read_sql(\"select distinct record_time from EBAY_TOP_BERLIN order by record_time desc limit 2\", sqlite3.connect(\"UsedObjects.db\"))"
   ]
  },
  {
   "cell_type": "code",
   "execution_count": 3,
   "id": "periodic-identification",
   "metadata": {
    "execution": {
     "iopub.execute_input": "2021-10-27T10:00:08.898963Z",
     "iopub.status.busy": "2021-10-27T10:00:08.896936Z",
     "iopub.status.idle": "2021-10-27T10:00:08.917244Z",
     "shell.execute_reply": "2021-10-27T10:00:08.918625Z"
    },
    "papermill": {
     "duration": 0.069356,
     "end_time": "2021-10-27T10:00:08.919036",
     "exception": false,
     "start_time": "2021-10-27T10:00:08.849680",
     "status": "completed"
    },
    "tags": []
   },
   "outputs": [
    {
     "data": {
      "text/html": [
       "<div>\n",
       "<style scoped>\n",
       "    .dataframe tbody tr th:only-of-type {\n",
       "        vertical-align: middle;\n",
       "    }\n",
       "\n",
       "    .dataframe tbody tr th {\n",
       "        vertical-align: top;\n",
       "    }\n",
       "\n",
       "    .dataframe thead th {\n",
       "        text-align: right;\n",
       "    }\n",
       "</style>\n",
       "<table border=\"1\" class=\"dataframe\">\n",
       "  <thead>\n",
       "    <tr style=\"text-align: right;\">\n",
       "      <th></th>\n",
       "      <th>RECORD_TIME</th>\n",
       "    </tr>\n",
       "  </thead>\n",
       "  <tbody>\n",
       "    <tr>\n",
       "      <th>0</th>\n",
       "      <td>2021-10-27 12:00</td>\n",
       "    </tr>\n",
       "    <tr>\n",
       "      <th>1</th>\n",
       "      <td>2021-10-27 11:30</td>\n",
       "    </tr>\n",
       "  </tbody>\n",
       "</table>\n",
       "</div>"
      ],
      "text/plain": [
       "        RECORD_TIME\n",
       "0  2021-10-27 12:00\n",
       "1  2021-10-27 11:30"
      ]
     },
     "execution_count": 3,
     "metadata": {},
     "output_type": "execute_result"
    }
   ],
   "source": [
    "timestamps"
   ]
  },
  {
   "cell_type": "code",
   "execution_count": 4,
   "id": "alternate-victory",
   "metadata": {
    "execution": {
     "iopub.execute_input": "2021-10-27T10:00:08.970642Z",
     "iopub.status.busy": "2021-10-27T10:00:08.968422Z",
     "iopub.status.idle": "2021-10-27T10:00:09.896510Z",
     "shell.execute_reply": "2021-10-27T10:00:09.897856Z"
    },
    "papermill": {
     "duration": 0.958032,
     "end_time": "2021-10-27T10:00:09.898270",
     "exception": false,
     "start_time": "2021-10-27T10:00:08.940238",
     "status": "completed"
    },
    "tags": []
   },
   "outputs": [],
   "source": [
    "df = pd.read_sql(\"select * from EBAY_TOP_BERLIN where record_time in (select distinct record_time from EBAY_TOP_BERLIN order by record_time desc limit 2)\", sqlite3.connect(\"UsedObjects.db\"))"
   ]
  },
  {
   "cell_type": "code",
   "execution_count": 5,
   "id": "popular-active",
   "metadata": {
    "execution": {
     "iopub.execute_input": "2021-10-27T10:00:09.969306Z",
     "iopub.status.busy": "2021-10-27T10:00:09.957566Z",
     "iopub.status.idle": "2021-10-27T10:00:09.984770Z",
     "shell.execute_reply": "2021-10-27T10:00:09.986013Z"
    },
    "papermill": {
     "duration": 0.067475,
     "end_time": "2021-10-27T10:00:09.986409",
     "exception": false,
     "start_time": "2021-10-27T10:00:09.918934",
     "status": "completed"
    },
    "tags": []
   },
   "outputs": [],
   "source": [
    "df_pivot = df.pivot_table(index=\"PRODUCT\", columns = \"RECORD_TIME\", values = \"LISTING_COUNT\")"
   ]
  },
  {
   "cell_type": "code",
   "execution_count": 6,
   "id": "union-huntington",
   "metadata": {
    "execution": {
     "iopub.execute_input": "2021-10-27T10:00:10.044956Z",
     "iopub.status.busy": "2021-10-27T10:00:10.042654Z",
     "iopub.status.idle": "2021-10-27T10:00:10.048514Z",
     "shell.execute_reply": "2021-10-27T10:00:10.049862Z"
    },
    "papermill": {
     "duration": 0.041508,
     "end_time": "2021-10-27T10:00:10.050276",
     "exception": false,
     "start_time": "2021-10-27T10:00:10.008768",
     "status": "completed"
    },
    "tags": []
   },
   "outputs": [],
   "source": [
    "df_pivot.columns = [\"stamp_1\", \"stamp_2\"]\n",
    "df_pivot_diff = df_pivot.diff(axis=1)"
   ]
  },
  {
   "cell_type": "code",
   "execution_count": 7,
   "id": "fifth-motion",
   "metadata": {
    "execution": {
     "iopub.execute_input": "2021-10-27T10:00:10.103856Z",
     "iopub.status.busy": "2021-10-27T10:00:10.101611Z",
     "iopub.status.idle": "2021-10-27T10:00:11.571397Z",
     "shell.execute_reply": "2021-10-27T10:00:11.572741Z"
    },
    "papermill": {
     "duration": 1.502905,
     "end_time": "2021-10-27T10:00:11.573186",
     "exception": false,
     "start_time": "2021-10-27T10:00:10.070281",
     "status": "completed"
    },
    "tags": []
   },
   "outputs": [
    {
     "data": {
      "text/plain": [
       "<AxesSubplot:ylabel='PRODUCT'>"
      ]
     },
     "execution_count": 7,
     "metadata": {},
     "output_type": "execute_result"
    },
    {
     "data": {
      "image/png": "[encoded data removed]",
      "text/plain": [
       "<Figure size 432x288 with 1 Axes>"
      ]
     },
     "metadata": {
      "needs_background": "light"
     },
     "output_type": "display_data"
    }
   ],
   "source": [
    "df_pivot_diff.sort_values(\"stamp_2\", ascending = False)[\"stamp_2\"].head(10).plot.barh()"
   ]
  },
  {
   "cell_type": "code",
   "execution_count": null,
   "id": "extra-executive",
   "metadata": {
    "papermill": {
     "duration": 0.022011,
     "end_time": "2021-10-27T10:00:11.620072",
     "exception": false,
     "start_time": "2021-10-27T10:00:11.598061",
     "status": "completed"
    },
    "tags": []
   },
   "outputs": [],
   "source": []
  }
 ],
 "metadata": {
  "kernelspec": {
   "display_name": "Python 3",
   "language": "python",
   "name": "python3"
  },
  "language_info": {
   "codemirror_mode": {
    "name": "ipython",
    "version": 3
   },
   "file_extension": ".py",
   "mimetype": "text/x-python",
   "name": "python",
   "nbconvert_exporter": "python",
   "pygments_lexer": "ipython3",
   "version": "3.9.5"
  },
  "papermill": {
   "default_parameters": {},
   "duration": 7.411516,
   "end_time": "2021-10-27T10:00:12.263967",
   "environment_variables": {},
   "exception": null,
   "input_path": "eBay_Overview.ipynb",
   "output_path": "eBay_Overview.ipynb",
   "parameters": {},
   "start_time": "2021-10-27T10:00:04.852451",
   "version": "2.3.3"
  }
 },
 "nbformat": 4,
 "nbformat_minor": 5
}