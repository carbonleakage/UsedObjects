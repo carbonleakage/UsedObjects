{
 "cells": [
  {
   "cell_type": "code",
   "execution_count": 1,
   "id": "reverse-picking",
   "metadata": {
    "execution": {
     "iopub.execute_input": "2021-12-15T22:00:07.852266Z",
     "iopub.status.busy": "2021-12-15T22:00:07.849891Z",
     "iopub.status.idle": "2021-12-15T22:00:08.822517Z",
     "shell.execute_reply": "2021-12-15T22:00:08.824176Z"
    },
    "papermill": {
     "duration": 1.00562,
     "end_time": "2021-12-15T22:00:08.824931",
     "exception": false,
     "start_time": "2021-12-15T22:00:07.819311",
     "status": "completed"
    },
    "tags": []
   },
   "outputs": [],
   "source": [
    "import pandas as pd\n",
    "import sqlite3"
   ]
  },
  {
   "cell_type": "code",
   "execution_count": 2,
   "id": "innovative-syndrome",
   "metadata": {
    "execution": {
     "iopub.execute_input": "2021-12-15T22:00:08.894052Z",
     "iopub.status.busy": "2021-12-15T22:00:08.891687Z",
     "iopub.status.idle": "2021-12-15T22:00:10.012544Z",
     "shell.execute_reply": "2021-12-15T22:00:10.013999Z"
    },
    "papermill": {
     "duration": 1.154878,
     "end_time": "2021-12-15T22:00:10.014440",
     "exception": false,
     "start_time": "2021-12-15T22:00:08.859562",
     "status": "completed"
    },
    "tags": []
   },
   "outputs": [],
   "source": [
    "timestamps = pd.read_sql(\"select distinct record_time from EBAY_TOP_BERLIN order by record_time desc limit 2\", sqlite3.connect(\"UsedObjects.db\"))"
   ]
  },
  {
   "cell_type": "code",
   "execution_count": 3,
   "id": "periodic-identification",
   "metadata": {
    "execution": {
     "iopub.execute_input": "2021-12-15T22:00:10.079597Z",
     "iopub.status.busy": "2021-12-15T22:00:10.077586Z",
     "iopub.status.idle": "2021-12-15T22:00:10.097536Z",
     "shell.execute_reply": "2021-12-15T22:00:10.098750Z"
    },
    "papermill": {
     "duration": 0.064614,
     "end_time": "2021-12-15T22:00:10.099181",
     "exception": false,
     "start_time": "2021-12-15T22:00:10.034567",
     "status": "completed"
    },
    "tags": []
   },
   "outputs": [
    {
     "data": {
      "text/html": [
       "<div>\n",
       "<style scoped>\n",
       "    .dataframe tbody tr th:only-of-type {\n",
       "        vertical-align: middle;\n",
       "    }\n",
       "\n",
       "    .dataframe tbody tr th {\n",
       "        vertical-align: top;\n",
       "    }\n",
       "\n",
       "    .dataframe thead th {\n",
       "        text-align: right;\n",
       "    }\n",
       "</style>\n",
       "<table border=\"1\" class=\"dataframe\">\n",
       "  <thead>\n",
       "    <tr style=\"text-align: right;\">\n",
       "      <th></th>\n",
       "      <th>RECORD_TIME</th>\n",
       "    </tr>\n",
       "  </thead>\n",
       "  <tbody>\n",
       "    <tr>\n",
       "      <th>0</th>\n",
       "      <td>2021-12-15 23:00</td>\n",
       "    </tr>\n",
       "    <tr>\n",
       "      <th>1</th>\n",
       "      <td>2021-12-15 22:30</td>\n",
       "    </tr>\n",
       "  </tbody>\n",
       "</table>\n",
       "</div>"
      ],
      "text/plain": [
       "        RECORD_TIME\n",
       "0  2021-12-15 23:00\n",
       "1  2021-12-15 22:30"
      ]
     },
     "execution_count": 3,
     "metadata": {},
     "output_type": "execute_result"
    }
   ],
   "source": [
    "timestamps"
   ]
  },
  {
   "cell_type": "code",
   "execution_count": 4,
   "id": "alternate-victory",
   "metadata": {
    "execution": {
     "iopub.execute_input": "2021-12-15T22:00:10.153298Z",
     "iopub.status.busy": "2021-12-15T22:00:10.150734Z",
     "iopub.status.idle": "2021-12-15T22:00:11.752371Z",
     "shell.execute_reply": "2021-12-15T22:00:11.754153Z"
    },
    "papermill": {
     "duration": 1.632657,
     "end_time": "2021-12-15T22:00:11.754663",
     "exception": false,
     "start_time": "2021-12-15T22:00:10.122006",
     "status": "completed"
    },
    "tags": []
   },
   "outputs": [],
   "source": [
    "df = pd.read_sql(\"select * from EBAY_TOP_BERLIN where record_time in (select distinct record_time from EBAY_TOP_BERLIN order by record_time desc limit 2)\", sqlite3.connect(\"UsedObjects.db\"))"
   ]
  },
  {
   "cell_type": "code",
   "execution_count": 5,
   "id": "popular-active",
   "metadata": {
    "execution": {
     "iopub.execute_input": "2021-12-15T22:00:11.819812Z",
     "iopub.status.busy": "2021-12-15T22:00:11.817553Z",
     "iopub.status.idle": "2021-12-15T22:00:11.847898Z",
     "shell.execute_reply": "2021-12-15T22:00:11.849370Z"
    },
    "papermill": {
     "duration": 0.072895,
     "end_time": "2021-12-15T22:00:11.849850",
     "exception": false,
     "start_time": "2021-12-15T22:00:11.776955",
     "status": "completed"
    },
    "tags": []
   },
   "outputs": [],
   "source": [
    "df_pivot = df.pivot_table(index=\"PRODUCT\", columns = \"RECORD_TIME\", values = \"LISTING_COUNT\")"
   ]
  },
  {
   "cell_type": "code",
   "execution_count": 6,
   "id": "union-huntington",
   "metadata": {
    "execution": {
     "iopub.execute_input": "2021-12-15T22:00:11.909834Z",
     "iopub.status.busy": "2021-12-15T22:00:11.907286Z",
     "iopub.status.idle": "2021-12-15T22:00:11.913044Z",
     "shell.execute_reply": "2021-12-15T22:00:11.915074Z"
    },
    "papermill": {
     "duration": 0.045935,
     "end_time": "2021-12-15T22:00:11.915600",
     "exception": false,
     "start_time": "2021-12-15T22:00:11.869665",
     "status": "completed"
    },
    "tags": []
   },
   "outputs": [],
   "source": [
    "df_pivot.columns = [\"stamp_1\", \"stamp_2\"]\n",
    "df_pivot_diff = df_pivot.diff(axis=1)"
   ]
  },
  {
   "cell_type": "code",
   "execution_count": 7,
   "id": "fifth-motion",
   "metadata": {
    "execution": {
     "iopub.execute_input": "2021-12-15T22:00:11.974520Z",
     "iopub.status.busy": "2021-12-15T22:00:11.972013Z",
     "iopub.status.idle": "2021-12-15T22:00:13.979393Z",
     "shell.execute_reply": "2021-12-15T22:00:13.980904Z"
    },
    "papermill": {
     "duration": 2.042903,
     "end_time": "2021-12-15T22:00:13.981361",
     "exception": false,
     "start_time": "2021-12-15T22:00:11.938458",
     "status": "completed"
    },
    "tags": []
   },
   "outputs": [
    {
     "data": {
      "text/plain": [
       "<AxesSubplot:ylabel='PRODUCT'>"
      ]
     },
     "execution_count": 7,
     "metadata": {},
     "output_type": "execute_result"
    },
    {
     "data": {
      "image/png": "[encoded data removed]",
      "text/plain": [
       "<Figure size 432x288 with 1 Axes>"
      ]
     },
     "metadata": {
      "needs_background": "light"
     },
     "output_type": "display_data"
    }
   ],
   "source": [
    "df_pivot_diff.sort_values(\"stamp_2\", ascending = False)[\"stamp_2\"].head(10).plot.barh()"
   ]
  },
  {
   "cell_type": "code",
   "execution_count": null,
   "id": "extra-executive",
   "metadata": {
    "papermill": {
     "duration": 0.026934,
     "end_time": "2021-12-15T22:00:14.044531",
     "exception": false,
     "start_time": "2021-12-15T22:00:14.017597",
     "status": "completed"
    },
    "tags": []
   },
   "outputs": [],
   "source": []
  }
 ],
 "metadata": {
  "kernelspec": {
   "display_name": "Python 3",
   "language": "python",
   "name": "python3"
  },
  "language_info": {
   "codemirror_mode": {
    "name": "ipython",
    "version": 3
   },
   "file_extension": ".py",
   "mimetype": "text/x-python",
   "name": "python",
   "nbconvert_exporter": "python",
   "pygments_lexer": "ipython3",
   "version": "3.9.5"
  },
  "papermill": {
   "default_parameters": {},
   "duration": 9.577592,
   "end_time": "2021-12-15T22:00:14.687252",
   "environment_variables": {},
   "exception": null,
   "input_path": "eBay_Overview.ipynb",
   "output_path": "eBay_Overview.ipynb",
   "parameters": {},
   "start_time": "2021-12-15T22:00:05.109660",
   "version": "2.3.3"
  }
 },
 "nbformat": 4,
 "nbformat_minor": 5
}