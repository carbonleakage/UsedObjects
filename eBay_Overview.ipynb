{
 "cells": [
  {
   "cell_type": "code",
   "execution_count": 1,
   "id": "reverse-picking",
   "metadata": {
    "execution": {
     "iopub.execute_input": "2021-10-04T01:00:07.194481Z",
     "iopub.status.busy": "2021-10-04T01:00:07.192535Z",
     "iopub.status.idle": "2021-10-04T01:00:07.999751Z",
     "shell.execute_reply": "2021-10-04T01:00:08.001029Z"
    },
    "papermill": {
     "duration": 0.85729,
     "end_time": "2021-10-04T01:00:08.001649",
     "exception": false,
     "start_time": "2021-10-04T01:00:07.144359",
     "status": "completed"
    },
    "tags": []
   },
   "outputs": [],
   "source": [
    "import pandas as pd\n",
    "import sqlite3"
   ]
  },
  {
   "cell_type": "code",
   "execution_count": 2,
   "id": "innovative-syndrome",
   "metadata": {
    "execution": {
     "iopub.execute_input": "2021-10-04T01:00:08.054194Z",
     "iopub.status.busy": "2021-10-04T01:00:08.052045Z",
     "iopub.status.idle": "2021-10-04T01:00:08.507946Z",
     "shell.execute_reply": "2021-10-04T01:00:08.509315Z"
    },
    "papermill": {
     "duration": 0.485495,
     "end_time": "2021-10-04T01:00:08.509746",
     "exception": false,
     "start_time": "2021-10-04T01:00:08.024251",
     "status": "completed"
    },
    "tags": []
   },
   "outputs": [],
   "source": [
    "timestamps = pd.read_sql(\"select distinct record_time from EBAY_TOP_BERLIN order by record_time desc limit 2\", sqlite3.connect(\"UsedObjects.db\"))"
   ]
  },
  {
   "cell_type": "code",
   "execution_count": 3,
   "id": "periodic-identification",
   "metadata": {
    "execution": {
     "iopub.execute_input": "2021-10-04T01:00:08.575812Z",
     "iopub.status.busy": "2021-10-04T01:00:08.573741Z",
     "iopub.status.idle": "2021-10-04T01:00:08.594191Z",
     "shell.execute_reply": "2021-10-04T01:00:08.595446Z"
    },
    "papermill": {
     "duration": 0.066777,
     "end_time": "2021-10-04T01:00:08.595871",
     "exception": false,
     "start_time": "2021-10-04T01:00:08.529094",
     "status": "completed"
    },
    "tags": []
   },
   "outputs": [
    {
     "data": {
      "text/html": [
       "<div>\n",
       "<style scoped>\n",
       "    .dataframe tbody tr th:only-of-type {\n",
       "        vertical-align: middle;\n",
       "    }\n",
       "\n",
       "    .dataframe tbody tr th {\n",
       "        vertical-align: top;\n",
       "    }\n",
       "\n",
       "    .dataframe thead th {\n",
       "        text-align: right;\n",
       "    }\n",
       "</style>\n",
       "<table border=\"1\" class=\"dataframe\">\n",
       "  <thead>\n",
       "    <tr style=\"text-align: right;\">\n",
       "      <th></th>\n",
       "      <th>RECORD_TIME</th>\n",
       "    </tr>\n",
       "  </thead>\n",
       "  <tbody>\n",
       "    <tr>\n",
       "      <th>0</th>\n",
       "      <td>2021-10-04 03:00</td>\n",
       "    </tr>\n",
       "    <tr>\n",
       "      <th>1</th>\n",
       "      <td>2021-10-04 02:30</td>\n",
       "    </tr>\n",
       "  </tbody>\n",
       "</table>\n",
       "</div>"
      ],
      "text/plain": [
       "        RECORD_TIME\n",
       "0  2021-10-04 03:00\n",
       "1  2021-10-04 02:30"
      ]
     },
     "execution_count": 3,
     "metadata": {},
     "output_type": "execute_result"
    }
   ],
   "source": [
    "timestamps"
   ]
  },
  {
   "cell_type": "code",
   "execution_count": 4,
   "id": "alternate-victory",
   "metadata": {
    "execution": {
     "iopub.execute_input": "2021-10-04T01:00:08.663521Z",
     "iopub.status.busy": "2021-10-04T01:00:08.661430Z",
     "iopub.status.idle": "2021-10-04T01:00:09.311379Z",
     "shell.execute_reply": "2021-10-04T01:00:09.312689Z"
    },
    "papermill": {
     "duration": 0.697174,
     "end_time": "2021-10-04T01:00:09.313082",
     "exception": false,
     "start_time": "2021-10-04T01:00:08.615908",
     "status": "completed"
    },
    "tags": []
   },
   "outputs": [],
   "source": [
    "df = pd.read_sql(\"select * from EBAY_TOP_BERLIN where record_time in (select distinct record_time from EBAY_TOP_BERLIN order by record_time desc limit 2)\", sqlite3.connect(\"UsedObjects.db\"))"
   ]
  },
  {
   "cell_type": "code",
   "execution_count": 5,
   "id": "popular-active",
   "metadata": {
    "execution": {
     "iopub.execute_input": "2021-10-04T01:00:09.382007Z",
     "iopub.status.busy": "2021-10-04T01:00:09.370395Z",
     "iopub.status.idle": "2021-10-04T01:00:09.398017Z",
     "shell.execute_reply": "2021-10-04T01:00:09.399460Z"
    },
    "papermill": {
     "duration": 0.06676,
     "end_time": "2021-10-04T01:00:09.399871",
     "exception": false,
     "start_time": "2021-10-04T01:00:09.333111",
     "status": "completed"
    },
    "tags": []
   },
   "outputs": [],
   "source": [
    "df_pivot = df.pivot_table(index=\"PRODUCT\", columns = \"RECORD_TIME\", values = \"LISTING_COUNT\")"
   ]
  },
  {
   "cell_type": "code",
   "execution_count": 6,
   "id": "union-huntington",
   "metadata": {
    "execution": {
     "iopub.execute_input": "2021-10-04T01:00:09.457532Z",
     "iopub.status.busy": "2021-10-04T01:00:09.455109Z",
     "iopub.status.idle": "2021-10-04T01:00:09.462300Z",
     "shell.execute_reply": "2021-10-04T01:00:09.461010Z"
    },
    "papermill": {
     "duration": 0.041925,
     "end_time": "2021-10-04T01:00:09.462664",
     "exception": false,
     "start_time": "2021-10-04T01:00:09.420739",
     "status": "completed"
    },
    "tags": []
   },
   "outputs": [],
   "source": [
    "df_pivot.columns = [\"stamp_1\", \"stamp_2\"]\n",
    "df_pivot_diff = df_pivot.diff(axis=1)"
   ]
  },
  {
   "cell_type": "code",
   "execution_count": 7,
   "id": "fifth-motion",
   "metadata": {
    "execution": {
     "iopub.execute_input": "2021-10-04T01:00:09.516902Z",
     "iopub.status.busy": "2021-10-04T01:00:09.514485Z",
     "iopub.status.idle": "2021-10-04T01:00:11.036298Z",
     "shell.execute_reply": "2021-10-04T01:00:11.037573Z"
    },
    "papermill": {
     "duration": 1.554211,
     "end_time": "2021-10-04T01:00:11.037986",
     "exception": false,
     "start_time": "2021-10-04T01:00:09.483775",
     "status": "completed"
    },
    "tags": []
   },
   "outputs": [
    {
     "data": {
      "text/plain": [
       "<AxesSubplot:ylabel='PRODUCT'>"
      ]
     },
     "execution_count": 7,
     "metadata": {},
     "output_type": "execute_result"
    },
    {
     "data": {
      "image/png": "[encoded data removed]",
      "text/plain": [
       "<Figure size 432x288 with 1 Axes>"
      ]
     },
     "metadata": {
      "needs_background": "light"
     },
     "output_type": "display_data"
    }
   ],
   "source": [
    "df_pivot_diff.sort_values(\"stamp_2\", ascending = False)[\"stamp_2\"].head(10).plot.barh()"
   ]
  },
  {
   "cell_type": "code",
   "execution_count": null,
   "id": "extra-executive",
   "metadata": {
    "papermill": {
     "duration": 0.021657,
     "end_time": "2021-10-04T01:00:11.084640",
     "exception": false,
     "start_time": "2021-10-04T01:00:11.062983",
     "status": "completed"
    },
    "tags": []
   },
   "outputs": [],
   "source": []
  }
 ],
 "metadata": {
  "kernelspec": {
   "display_name": "Python 3",
   "language": "python",
   "name": "python3"
  },
  "language_info": {
   "codemirror_mode": {
    "name": "ipython",
    "version": 3
   },
   "file_extension": ".py",
   "mimetype": "text/x-python",
   "name": "python",
   "nbconvert_exporter": "python",
   "pygments_lexer": "ipython3",
   "version": "3.9.5"
  },
  "papermill": {
   "default_parameters": {},
   "duration": 7.81982,
   "end_time": "2021-10-04T01:00:12.564077",
   "environment_variables": {},
   "exception": null,
   "input_path": "eBay_Overview.ipynb",
   "output_path": "eBay_Overview.ipynb",
   "parameters": {},
   "start_time": "2021-10-04T01:00:04.744257",
   "version": "2.3.3"
  }
 },
 "nbformat": 4,
 "nbformat_minor": 5
}