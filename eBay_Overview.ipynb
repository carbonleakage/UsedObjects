{
 "cells": [
  {
   "cell_type": "code",
   "execution_count": 1,
   "id": "reverse-picking",
   "metadata": {
    "execution": {
     "iopub.execute_input": "2021-10-30T05:30:07.014554Z",
     "iopub.status.busy": "2021-10-30T05:30:07.012569Z",
     "iopub.status.idle": "2021-10-30T05:30:07.817040Z",
     "shell.execute_reply": "2021-10-30T05:30:07.818312Z"
    },
    "papermill": {
     "duration": 0.856348,
     "end_time": "2021-10-30T05:30:07.818913",
     "exception": false,
     "start_time": "2021-10-30T05:30:06.962565",
     "status": "completed"
    },
    "tags": []
   },
   "outputs": [],
   "source": [
    "import pandas as pd\n",
    "import sqlite3"
   ]
  },
  {
   "cell_type": "code",
   "execution_count": 2,
   "id": "innovative-syndrome",
   "metadata": {
    "execution": {
     "iopub.execute_input": "2021-10-30T05:30:07.869394Z",
     "iopub.status.busy": "2021-10-30T05:30:07.867487Z",
     "iopub.status.idle": "2021-10-30T05:30:08.535394Z",
     "shell.execute_reply": "2021-10-30T05:30:08.536577Z"
    },
    "papermill": {
     "duration": 0.69745,
     "end_time": "2021-10-30T05:30:08.537058",
     "exception": false,
     "start_time": "2021-10-30T05:30:07.839608",
     "status": "completed"
    },
    "tags": []
   },
   "outputs": [],
   "source": [
    "timestamps = pd.read_sql(\"select distinct record_time from EBAY_TOP_BERLIN order by record_time desc limit 2\", sqlite3.connect(\"UsedObjects.db\"))"
   ]
  },
  {
   "cell_type": "code",
   "execution_count": 3,
   "id": "periodic-identification",
   "metadata": {
    "execution": {
     "iopub.execute_input": "2021-10-30T05:30:08.619189Z",
     "iopub.status.busy": "2021-10-30T05:30:08.614122Z",
     "iopub.status.idle": "2021-10-30T05:30:08.636320Z",
     "shell.execute_reply": "2021-10-30T05:30:08.637889Z"
    },
    "papermill": {
     "duration": 0.073549,
     "end_time": "2021-10-30T05:30:08.638406",
     "exception": false,
     "start_time": "2021-10-30T05:30:08.564857",
     "status": "completed"
    },
    "tags": []
   },
   "outputs": [
    {
     "data": {
      "text/html": [
       "<div>\n",
       "<style scoped>\n",
       "    .dataframe tbody tr th:only-of-type {\n",
       "        vertical-align: middle;\n",
       "    }\n",
       "\n",
       "    .dataframe tbody tr th {\n",
       "        vertical-align: top;\n",
       "    }\n",
       "\n",
       "    .dataframe thead th {\n",
       "        text-align: right;\n",
       "    }\n",
       "</style>\n",
       "<table border=\"1\" class=\"dataframe\">\n",
       "  <thead>\n",
       "    <tr style=\"text-align: right;\">\n",
       "      <th></th>\n",
       "      <th>RECORD_TIME</th>\n",
       "    </tr>\n",
       "  </thead>\n",
       "  <tbody>\n",
       "    <tr>\n",
       "      <th>0</th>\n",
       "      <td>2021-10-30 07:30</td>\n",
       "    </tr>\n",
       "    <tr>\n",
       "      <th>1</th>\n",
       "      <td>2021-10-30 07:00</td>\n",
       "    </tr>\n",
       "  </tbody>\n",
       "</table>\n",
       "</div>"
      ],
      "text/plain": [
       "        RECORD_TIME\n",
       "0  2021-10-30 07:30\n",
       "1  2021-10-30 07:00"
      ]
     },
     "execution_count": 3,
     "metadata": {},
     "output_type": "execute_result"
    }
   ],
   "source": [
    "timestamps"
   ]
  },
  {
   "cell_type": "code",
   "execution_count": 4,
   "id": "alternate-victory",
   "metadata": {
    "execution": {
     "iopub.execute_input": "2021-10-30T05:30:08.691659Z",
     "iopub.status.busy": "2021-10-30T05:30:08.689645Z",
     "iopub.status.idle": "2021-10-30T05:30:09.667687Z",
     "shell.execute_reply": "2021-10-30T05:30:09.669010Z"
    },
    "papermill": {
     "duration": 1.008694,
     "end_time": "2021-10-30T05:30:09.669442",
     "exception": false,
     "start_time": "2021-10-30T05:30:08.660748",
     "status": "completed"
    },
    "tags": []
   },
   "outputs": [],
   "source": [
    "df = pd.read_sql(\"select * from EBAY_TOP_BERLIN where record_time in (select distinct record_time from EBAY_TOP_BERLIN order by record_time desc limit 2)\", sqlite3.connect(\"UsedObjects.db\"))"
   ]
  },
  {
   "cell_type": "code",
   "execution_count": 5,
   "id": "popular-active",
   "metadata": {
    "execution": {
     "iopub.execute_input": "2021-10-30T05:30:09.739245Z",
     "iopub.status.busy": "2021-10-30T05:30:09.727673Z",
     "iopub.status.idle": "2021-10-30T05:30:09.755382Z",
     "shell.execute_reply": "2021-10-30T05:30:09.756808Z"
    },
    "papermill": {
     "duration": 0.066175,
     "end_time": "2021-10-30T05:30:09.757251",
     "exception": false,
     "start_time": "2021-10-30T05:30:09.691076",
     "status": "completed"
    },
    "tags": []
   },
   "outputs": [],
   "source": [
    "df_pivot = df.pivot_table(index=\"PRODUCT\", columns = \"RECORD_TIME\", values = \"LISTING_COUNT\")"
   ]
  },
  {
   "cell_type": "code",
   "execution_count": 6,
   "id": "union-huntington",
   "metadata": {
    "execution": {
     "iopub.execute_input": "2021-10-30T05:30:09.812996Z",
     "iopub.status.busy": "2021-10-30T05:30:09.810932Z",
     "iopub.status.idle": "2021-10-30T05:30:09.816243Z",
     "shell.execute_reply": "2021-10-30T05:30:09.817576Z"
    },
    "papermill": {
     "duration": 0.040593,
     "end_time": "2021-10-30T05:30:09.817994",
     "exception": false,
     "start_time": "2021-10-30T05:30:09.777401",
     "status": "completed"
    },
    "tags": []
   },
   "outputs": [],
   "source": [
    "df_pivot.columns = [\"stamp_1\", \"stamp_2\"]\n",
    "df_pivot_diff = df_pivot.diff(axis=1)"
   ]
  },
  {
   "cell_type": "code",
   "execution_count": 7,
   "id": "fifth-motion",
   "metadata": {
    "execution": {
     "iopub.execute_input": "2021-10-30T05:30:09.872807Z",
     "iopub.status.busy": "2021-10-30T05:30:09.870419Z",
     "iopub.status.idle": "2021-10-30T05:30:11.373792Z",
     "shell.execute_reply": "2021-10-30T05:30:11.375466Z"
    },
    "papermill": {
     "duration": 1.536774,
     "end_time": "2021-10-30T05:30:11.376109",
     "exception": false,
     "start_time": "2021-10-30T05:30:09.839335",
     "status": "completed"
    },
    "tags": []
   },
   "outputs": [
    {
     "data": {
      "text/plain": [
       "<AxesSubplot:ylabel='PRODUCT'>"
      ]
     },
     "execution_count": 7,
     "metadata": {},
     "output_type": "execute_result"
    },
    {
     "data": {
      "image/png": "[encoded data removed]",
      "text/plain": [
       "<Figure size 432x288 with 1 Axes>"
      ]
     },
     "metadata": {
      "needs_background": "light"
     },
     "output_type": "display_data"
    }
   ],
   "source": [
    "df_pivot_diff.sort_values(\"stamp_2\", ascending = False)[\"stamp_2\"].head(10).plot.barh()"
   ]
  },
  {
   "cell_type": "code",
   "execution_count": null,
   "id": "extra-executive",
   "metadata": {
    "papermill": {
     "duration": 0.022001,
     "end_time": "2021-10-30T05:30:11.422846",
     "exception": false,
     "start_time": "2021-10-30T05:30:11.400845",
     "status": "completed"
    },
    "tags": []
   },
   "outputs": [],
   "source": []
  }
 ],
 "metadata": {
  "kernelspec": {
   "display_name": "Python 3",
   "language": "python",
   "name": "python3"
  },
  "language_info": {
   "codemirror_mode": {
    "name": "ipython",
    "version": 3
   },
   "file_extension": ".py",
   "mimetype": "text/x-python",
   "name": "python",
   "nbconvert_exporter": "python",
   "pygments_lexer": "ipython3",
   "version": "3.9.5"
  },
  "papermill": {
   "default_parameters": {},
   "duration": 7.508875,
   "end_time": "2021-10-30T05:30:12.066077",
   "environment_variables": {},
   "exception": null,
   "input_path": "eBay_Overview.ipynb",
   "output_path": "eBay_Overview.ipynb",
   "parameters": {},
   "start_time": "2021-10-30T05:30:04.557202",
   "version": "2.3.3"
  }
 },
 "nbformat": 4,
 "nbformat_minor": 5
}