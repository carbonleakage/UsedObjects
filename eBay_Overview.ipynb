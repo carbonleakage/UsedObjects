{
 "cells": [
  {
   "cell_type": "code",
   "execution_count": 1,
   "id": "reverse-picking",
   "metadata": {
    "execution": {
     "iopub.execute_input": "2021-09-02T23:30:06.729687Z",
     "iopub.status.busy": "2021-09-02T23:30:06.727753Z",
     "iopub.status.idle": "2021-09-02T23:30:07.529957Z",
     "shell.execute_reply": "2021-09-02T23:30:07.531386Z"
    },
    "papermill": {
     "duration": 0.852867,
     "end_time": "2021-09-02T23:30:07.532037",
     "exception": false,
     "start_time": "2021-09-02T23:30:06.679170",
     "status": "completed"
    },
    "tags": []
   },
   "outputs": [],
   "source": [
    "import pandas as pd\n",
    "import sqlite3"
   ]
  },
  {
   "cell_type": "code",
   "execution_count": 2,
   "id": "innovative-syndrome",
   "metadata": {
    "execution": {
     "iopub.execute_input": "2021-09-02T23:30:07.582367Z",
     "iopub.status.busy": "2021-09-02T23:30:07.580417Z",
     "iopub.status.idle": "2021-09-02T23:30:07.773197Z",
     "shell.execute_reply": "2021-09-02T23:30:07.774406Z"
    },
    "papermill": {
     "duration": 0.222658,
     "end_time": "2021-09-02T23:30:07.774794",
     "exception": false,
     "start_time": "2021-09-02T23:30:07.552136",
     "status": "completed"
    },
    "tags": []
   },
   "outputs": [],
   "source": [
    "timestamps = pd.read_sql(\"select distinct record_time from EBAY_TOP_BERLIN order by record_time desc limit 2\", sqlite3.connect(\"UsedObjects.db\"))"
   ]
  },
  {
   "cell_type": "code",
   "execution_count": 3,
   "id": "periodic-identification",
   "metadata": {
    "execution": {
     "iopub.execute_input": "2021-09-02T23:30:07.842240Z",
     "iopub.status.busy": "2021-09-02T23:30:07.840221Z",
     "iopub.status.idle": "2021-09-02T23:30:07.859889Z",
     "shell.execute_reply": "2021-09-02T23:30:07.861293Z"
    },
    "papermill": {
     "duration": 0.065357,
     "end_time": "2021-09-02T23:30:07.861726",
     "exception": false,
     "start_time": "2021-09-02T23:30:07.796369",
     "status": "completed"
    },
    "tags": []
   },
   "outputs": [
    {
     "data": {
      "text/html": [
       "<div>\n",
       "<style scoped>\n",
       "    .dataframe tbody tr th:only-of-type {\n",
       "        vertical-align: middle;\n",
       "    }\n",
       "\n",
       "    .dataframe tbody tr th {\n",
       "        vertical-align: top;\n",
       "    }\n",
       "\n",
       "    .dataframe thead th {\n",
       "        text-align: right;\n",
       "    }\n",
       "</style>\n",
       "<table border=\"1\" class=\"dataframe\">\n",
       "  <thead>\n",
       "    <tr style=\"text-align: right;\">\n",
       "      <th></th>\n",
       "      <th>RECORD_TIME</th>\n",
       "    </tr>\n",
       "  </thead>\n",
       "  <tbody>\n",
       "    <tr>\n",
       "      <th>0</th>\n",
       "      <td>2021-09-03 01:30</td>\n",
       "    </tr>\n",
       "    <tr>\n",
       "      <th>1</th>\n",
       "      <td>2021-09-03 01:00</td>\n",
       "    </tr>\n",
       "  </tbody>\n",
       "</table>\n",
       "</div>"
      ],
      "text/plain": [
       "        RECORD_TIME\n",
       "0  2021-09-03 01:30\n",
       "1  2021-09-03 01:00"
      ]
     },
     "execution_count": 3,
     "metadata": {},
     "output_type": "execute_result"
    }
   ],
   "source": [
    "timestamps"
   ]
  },
  {
   "cell_type": "code",
   "execution_count": 4,
   "id": "alternate-victory",
   "metadata": {
    "execution": {
     "iopub.execute_input": "2021-09-02T23:30:07.912917Z",
     "iopub.status.busy": "2021-09-02T23:30:07.910654Z",
     "iopub.status.idle": "2021-09-02T23:30:08.193424Z",
     "shell.execute_reply": "2021-09-02T23:30:08.194650Z"
    },
    "papermill": {
     "duration": 0.313043,
     "end_time": "2021-09-02T23:30:08.195244",
     "exception": false,
     "start_time": "2021-09-02T23:30:07.882201",
     "status": "completed"
    },
    "tags": []
   },
   "outputs": [],
   "source": [
    "df = pd.read_sql(\"select * from EBAY_TOP_BERLIN where record_time in (select distinct record_time from EBAY_TOP_BERLIN order by record_time desc limit 2)\", sqlite3.connect(\"UsedObjects.db\"))"
   ]
  },
  {
   "cell_type": "code",
   "execution_count": 5,
   "id": "popular-active",
   "metadata": {
    "execution": {
     "iopub.execute_input": "2021-09-02T23:30:08.277491Z",
     "iopub.status.busy": "2021-09-02T23:30:08.265091Z",
     "iopub.status.idle": "2021-09-02T23:30:08.293260Z",
     "shell.execute_reply": "2021-09-02T23:30:08.294552Z"
    },
    "papermill": {
     "duration": 0.071288,
     "end_time": "2021-09-02T23:30:08.295018",
     "exception": false,
     "start_time": "2021-09-02T23:30:08.223730",
     "status": "completed"
    },
    "tags": []
   },
   "outputs": [],
   "source": [
    "df_pivot = df.pivot_table(index=\"PRODUCT\", columns = \"RECORD_TIME\", values = \"LISTING_COUNT\")"
   ]
  },
  {
   "cell_type": "code",
   "execution_count": 6,
   "id": "union-huntington",
   "metadata": {
    "execution": {
     "iopub.execute_input": "2021-09-02T23:30:08.350118Z",
     "iopub.status.busy": "2021-09-02T23:30:08.348052Z",
     "iopub.status.idle": "2021-09-02T23:30:08.353166Z",
     "shell.execute_reply": "2021-09-02T23:30:08.354361Z"
    },
    "papermill": {
     "duration": 0.039753,
     "end_time": "2021-09-02T23:30:08.354785",
     "exception": false,
     "start_time": "2021-09-02T23:30:08.315032",
     "status": "completed"
    },
    "tags": []
   },
   "outputs": [],
   "source": [
    "df_pivot.columns = [\"stamp_1\", \"stamp_2\"]\n",
    "df_pivot_diff = df_pivot.diff(axis=1)"
   ]
  },
  {
   "cell_type": "code",
   "execution_count": 7,
   "id": "fifth-motion",
   "metadata": {
    "execution": {
     "iopub.execute_input": "2021-09-02T23:30:08.408362Z",
     "iopub.status.busy": "2021-09-02T23:30:08.405936Z",
     "iopub.status.idle": "2021-09-02T23:30:09.873705Z",
     "shell.execute_reply": "2021-09-02T23:30:09.875051Z"
    },
    "papermill": {
     "duration": 1.500301,
     "end_time": "2021-09-02T23:30:09.875472",
     "exception": false,
     "start_time": "2021-09-02T23:30:08.375171",
     "status": "completed"
    },
    "tags": []
   },
   "outputs": [
    {
     "data": {
      "text/plain": [
       "<AxesSubplot:ylabel='PRODUCT'>"
      ]
     },
     "execution_count": 7,
     "metadata": {},
     "output_type": "execute_result"
    },
    {
     "data": {
      "image/png": "[encoded data removed]",
      "text/plain": [
       "<Figure size 432x288 with 1 Axes>"
      ]
     },
     "metadata": {
      "needs_background": "light"
     },
     "output_type": "display_data"
    }
   ],
   "source": [
    "df_pivot_diff.sort_values(\"stamp_2\", ascending = False)[\"stamp_2\"].head(10).plot.barh()"
   ]
  },
  {
   "cell_type": "code",
   "execution_count": null,
   "id": "extra-executive",
   "metadata": {
    "papermill": {
     "duration": 0.02203,
     "end_time": "2021-09-02T23:30:09.920429",
     "exception": false,
     "start_time": "2021-09-02T23:30:09.898399",
     "status": "completed"
    },
    "tags": []
   },
   "outputs": [],
   "source": []
  }
 ],
 "metadata": {
  "kernelspec": {
   "display_name": "Python 3",
   "language": "python",
   "name": "python3"
  },
  "language_info": {
   "codemirror_mode": {
    "name": "ipython",
    "version": 3
   },
   "file_extension": ".py",
   "mimetype": "text/x-python",
   "name": "python",
   "nbconvert_exporter": "python",
   "pygments_lexer": "ipython3",
   "version": "3.9.5"
  },
  "papermill": {
   "default_parameters": {},
   "duration": 6.815274,
   "end_time": "2021-09-02T23:30:11.099383",
   "environment_variables": {},
   "exception": null,
   "input_path": "eBay_Overview.ipynb",
   "output_path": "eBay_Overview.ipynb",
   "parameters": {},
   "start_time": "2021-09-02T23:30:04.284109",
   "version": "2.3.3"
  }
 },
 "nbformat": 4,
 "nbformat_minor": 5
}