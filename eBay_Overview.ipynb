{
 "cells": [
  {
   "cell_type": "code",
   "execution_count": 1,
   "id": "reverse-picking",
   "metadata": {
    "execution": {
     "iopub.execute_input": "2021-12-07T11:30:07.847813Z",
     "iopub.status.busy": "2021-12-07T11:30:07.844036Z",
     "iopub.status.idle": "2021-12-07T11:30:08.794149Z",
     "shell.execute_reply": "2021-12-07T11:30:08.795761Z"
    },
    "papermill": {
     "duration": 1.006163,
     "end_time": "2021-12-07T11:30:08.796492",
     "exception": false,
     "start_time": "2021-12-07T11:30:07.790329",
     "status": "completed"
    },
    "tags": []
   },
   "outputs": [],
   "source": [
    "import pandas as pd\n",
    "import sqlite3"
   ]
  },
  {
   "cell_type": "code",
   "execution_count": 2,
   "id": "innovative-syndrome",
   "metadata": {
    "execution": {
     "iopub.execute_input": "2021-12-07T11:30:08.908219Z",
     "iopub.status.busy": "2021-12-07T11:30:08.906357Z",
     "iopub.status.idle": "2021-12-07T11:30:09.922888Z",
     "shell.execute_reply": "2021-12-07T11:30:09.924204Z"
    },
    "papermill": {
     "duration": 1.048546,
     "end_time": "2021-12-07T11:30:09.924780",
     "exception": false,
     "start_time": "2021-12-07T11:30:08.876234",
     "status": "completed"
    },
    "tags": []
   },
   "outputs": [],
   "source": [
    "timestamps = pd.read_sql(\"select distinct record_time from EBAY_TOP_BERLIN order by record_time desc limit 2\", sqlite3.connect(\"UsedObjects.db\"))"
   ]
  },
  {
   "cell_type": "code",
   "execution_count": 3,
   "id": "periodic-identification",
   "metadata": {
    "execution": {
     "iopub.execute_input": "2021-12-07T11:30:09.993613Z",
     "iopub.status.busy": "2021-12-07T11:30:09.991044Z",
     "iopub.status.idle": "2021-12-07T11:30:10.016222Z",
     "shell.execute_reply": "2021-12-07T11:30:10.018176Z"
    },
    "papermill": {
     "duration": 0.074553,
     "end_time": "2021-12-07T11:30:10.018824",
     "exception": false,
     "start_time": "2021-12-07T11:30:09.944271",
     "status": "completed"
    },
    "tags": []
   },
   "outputs": [
    {
     "data": {
      "text/html": [
       "<div>\n",
       "<style scoped>\n",
       "    .dataframe tbody tr th:only-of-type {\n",
       "        vertical-align: middle;\n",
       "    }\n",
       "\n",
       "    .dataframe tbody tr th {\n",
       "        vertical-align: top;\n",
       "    }\n",
       "\n",
       "    .dataframe thead th {\n",
       "        text-align: right;\n",
       "    }\n",
       "</style>\n",
       "<table border=\"1\" class=\"dataframe\">\n",
       "  <thead>\n",
       "    <tr style=\"text-align: right;\">\n",
       "      <th></th>\n",
       "      <th>RECORD_TIME</th>\n",
       "    </tr>\n",
       "  </thead>\n",
       "  <tbody>\n",
       "    <tr>\n",
       "      <th>0</th>\n",
       "      <td>2021-12-07 12:30</td>\n",
       "    </tr>\n",
       "    <tr>\n",
       "      <th>1</th>\n",
       "      <td>2021-12-07 12:00</td>\n",
       "    </tr>\n",
       "  </tbody>\n",
       "</table>\n",
       "</div>"
      ],
      "text/plain": [
       "        RECORD_TIME\n",
       "0  2021-12-07 12:30\n",
       "1  2021-12-07 12:00"
      ]
     },
     "execution_count": 3,
     "metadata": {},
     "output_type": "execute_result"
    }
   ],
   "source": [
    "timestamps"
   ]
  },
  {
   "cell_type": "code",
   "execution_count": 4,
   "id": "alternate-victory",
   "metadata": {
    "execution": {
     "iopub.execute_input": "2021-12-07T11:30:10.099057Z",
     "iopub.status.busy": "2021-12-07T11:30:10.096383Z",
     "iopub.status.idle": "2021-12-07T11:30:11.581901Z",
     "shell.execute_reply": "2021-12-07T11:30:11.584840Z"
    },
    "papermill": {
     "duration": 1.535967,
     "end_time": "2021-12-07T11:30:11.585704",
     "exception": false,
     "start_time": "2021-12-07T11:30:10.049737",
     "status": "completed"
    },
    "tags": []
   },
   "outputs": [],
   "source": [
    "df = pd.read_sql(\"select * from EBAY_TOP_BERLIN where record_time in (select distinct record_time from EBAY_TOP_BERLIN order by record_time desc limit 2)\", sqlite3.connect(\"UsedObjects.db\"))"
   ]
  },
  {
   "cell_type": "code",
   "execution_count": 5,
   "id": "popular-active",
   "metadata": {
    "execution": {
     "iopub.execute_input": "2021-12-07T11:30:11.706515Z",
     "iopub.status.busy": "2021-12-07T11:30:11.682865Z",
     "iopub.status.idle": "2021-12-07T11:30:11.739597Z",
     "shell.execute_reply": "2021-12-07T11:30:11.742271Z"
    },
    "papermill": {
     "duration": 0.126139,
     "end_time": "2021-12-07T11:30:11.743113",
     "exception": false,
     "start_time": "2021-12-07T11:30:11.616974",
     "status": "completed"
    },
    "tags": []
   },
   "outputs": [],
   "source": [
    "df_pivot = df.pivot_table(index=\"PRODUCT\", columns = \"RECORD_TIME\", values = \"LISTING_COUNT\")"
   ]
  },
  {
   "cell_type": "code",
   "execution_count": 6,
   "id": "union-huntington",
   "metadata": {
    "execution": {
     "iopub.execute_input": "2021-12-07T11:30:11.835121Z",
     "iopub.status.busy": "2021-12-07T11:30:11.832219Z",
     "iopub.status.idle": "2021-12-07T11:30:11.840574Z",
     "shell.execute_reply": "2021-12-07T11:30:11.842532Z"
    },
    "papermill": {
     "duration": 0.067057,
     "end_time": "2021-12-07T11:30:11.843118",
     "exception": false,
     "start_time": "2021-12-07T11:30:11.776061",
     "status": "completed"
    },
    "tags": []
   },
   "outputs": [],
   "source": [
    "df_pivot.columns = [\"stamp_1\", \"stamp_2\"]\n",
    "df_pivot_diff = df_pivot.diff(axis=1)"
   ]
  },
  {
   "cell_type": "code",
   "execution_count": 7,
   "id": "fifth-motion",
   "metadata": {
    "execution": {
     "iopub.execute_input": "2021-12-07T11:30:11.923926Z",
     "iopub.status.busy": "2021-12-07T11:30:11.919931Z",
     "iopub.status.idle": "2021-12-07T11:30:13.636734Z",
     "shell.execute_reply": "2021-12-07T11:30:13.638120Z"
    },
    "papermill": {
     "duration": 1.771776,
     "end_time": "2021-12-07T11:30:13.638566",
     "exception": false,
     "start_time": "2021-12-07T11:30:11.866790",
     "status": "completed"
    },
    "tags": []
   },
   "outputs": [
    {
     "data": {
      "text/plain": [
       "<AxesSubplot:ylabel='PRODUCT'>"
      ]
     },
     "execution_count": 7,
     "metadata": {},
     "output_type": "execute_result"
    },
    {
     "data": {
      "image/png": "[encoded data removed]",
      "text/plain": [
       "<Figure size 432x288 with 1 Axes>"
      ]
     },
     "metadata": {
      "needs_background": "light"
     },
     "output_type": "display_data"
    }
   ],
   "source": [
    "df_pivot_diff.sort_values(\"stamp_2\", ascending = False)[\"stamp_2\"].head(10).plot.barh()"
   ]
  },
  {
   "cell_type": "code",
   "execution_count": null,
   "id": "extra-executive",
   "metadata": {
    "papermill": {
     "duration": 0.022062,
     "end_time": "2021-12-07T11:30:13.685326",
     "exception": false,
     "start_time": "2021-12-07T11:30:13.663264",
     "status": "completed"
    },
    "tags": []
   },
   "outputs": [],
   "source": []
  }
 ],
 "metadata": {
  "kernelspec": {
   "display_name": "Python 3",
   "language": "python",
   "name": "python3"
  },
  "language_info": {
   "codemirror_mode": {
    "name": "ipython",
    "version": 3
   },
   "file_extension": ".py",
   "mimetype": "text/x-python",
   "name": "python",
   "nbconvert_exporter": "python",
   "pygments_lexer": "ipython3",
   "version": "3.9.5"
  },
  "papermill": {
   "default_parameters": {},
   "duration": 9.940697,
   "end_time": "2021-12-07T11:30:15.007923",
   "environment_variables": {},
   "exception": null,
   "input_path": "eBay_Overview.ipynb",
   "output_path": "eBay_Overview.ipynb",
   "parameters": {},
   "start_time": "2021-12-07T11:30:05.067226",
   "version": "2.3.3"
  }
 },
 "nbformat": 4,
 "nbformat_minor": 5
}