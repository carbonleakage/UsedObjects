{
 "cells": [
  {
   "cell_type": "code",
   "execution_count": 1,
   "id": "reverse-picking",
   "metadata": {
    "execution": {
     "iopub.execute_input": "2021-11-18T16:30:07.613783Z",
     "iopub.status.busy": "2021-11-18T16:30:07.611234Z",
     "iopub.status.idle": "2021-11-18T16:30:08.553846Z",
     "shell.execute_reply": "2021-11-18T16:30:08.555431Z"
    },
    "papermill": {
     "duration": 0.992056,
     "end_time": "2021-11-18T16:30:08.556219",
     "exception": false,
     "start_time": "2021-11-18T16:30:07.564163",
     "status": "completed"
    },
    "tags": []
   },
   "outputs": [],
   "source": [
    "import pandas as pd\n",
    "import sqlite3"
   ]
  },
  {
   "cell_type": "code",
   "execution_count": 2,
   "id": "innovative-syndrome",
   "metadata": {
    "execution": {
     "iopub.execute_input": "2021-11-18T16:30:08.619952Z",
     "iopub.status.busy": "2021-11-18T16:30:08.617762Z",
     "iopub.status.idle": "2021-11-18T16:30:09.475400Z",
     "shell.execute_reply": "2021-11-18T16:30:09.476976Z"
    },
    "papermill": {
     "duration": 0.893163,
     "end_time": "2021-11-18T16:30:09.477468",
     "exception": false,
     "start_time": "2021-11-18T16:30:08.584305",
     "status": "completed"
    },
    "tags": []
   },
   "outputs": [],
   "source": [
    "timestamps = pd.read_sql(\"select distinct record_time from EBAY_TOP_BERLIN order by record_time desc limit 2\", sqlite3.connect(\"UsedObjects.db\"))"
   ]
  },
  {
   "cell_type": "code",
   "execution_count": 3,
   "id": "periodic-identification",
   "metadata": {
    "execution": {
     "iopub.execute_input": "2021-11-18T16:30:09.552162Z",
     "iopub.status.busy": "2021-11-18T16:30:09.546094Z",
     "iopub.status.idle": "2021-11-18T16:30:09.568662Z",
     "shell.execute_reply": "2021-11-18T16:30:09.570172Z"
    },
    "papermill": {
     "duration": 0.07189,
     "end_time": "2021-11-18T16:30:09.570646",
     "exception": false,
     "start_time": "2021-11-18T16:30:09.498756",
     "status": "completed"
    },
    "tags": []
   },
   "outputs": [
    {
     "data": {
      "text/html": [
       "<div>\n",
       "<style scoped>\n",
       "    .dataframe tbody tr th:only-of-type {\n",
       "        vertical-align: middle;\n",
       "    }\n",
       "\n",
       "    .dataframe tbody tr th {\n",
       "        vertical-align: top;\n",
       "    }\n",
       "\n",
       "    .dataframe thead th {\n",
       "        text-align: right;\n",
       "    }\n",
       "</style>\n",
       "<table border=\"1\" class=\"dataframe\">\n",
       "  <thead>\n",
       "    <tr style=\"text-align: right;\">\n",
       "      <th></th>\n",
       "      <th>RECORD_TIME</th>\n",
       "    </tr>\n",
       "  </thead>\n",
       "  <tbody>\n",
       "    <tr>\n",
       "      <th>0</th>\n",
       "      <td>2021-11-18 17:30</td>\n",
       "    </tr>\n",
       "    <tr>\n",
       "      <th>1</th>\n",
       "      <td>2021-11-18 17:00</td>\n",
       "    </tr>\n",
       "  </tbody>\n",
       "</table>\n",
       "</div>"
      ],
      "text/plain": [
       "        RECORD_TIME\n",
       "0  2021-11-18 17:30\n",
       "1  2021-11-18 17:00"
      ]
     },
     "execution_count": 3,
     "metadata": {},
     "output_type": "execute_result"
    }
   ],
   "source": [
    "timestamps"
   ]
  },
  {
   "cell_type": "code",
   "execution_count": 4,
   "id": "alternate-victory",
   "metadata": {
    "execution": {
     "iopub.execute_input": "2021-11-18T16:30:09.624175Z",
     "iopub.status.busy": "2021-11-18T16:30:09.622234Z",
     "iopub.status.idle": "2021-11-18T16:30:10.827752Z",
     "shell.execute_reply": "2021-11-18T16:30:10.829474Z"
    },
    "papermill": {
     "duration": 1.238728,
     "end_time": "2021-11-18T16:30:10.829964",
     "exception": false,
     "start_time": "2021-11-18T16:30:09.591236",
     "status": "completed"
    },
    "tags": []
   },
   "outputs": [],
   "source": [
    "df = pd.read_sql(\"select * from EBAY_TOP_BERLIN where record_time in (select distinct record_time from EBAY_TOP_BERLIN order by record_time desc limit 2)\", sqlite3.connect(\"UsedObjects.db\"))"
   ]
  },
  {
   "cell_type": "code",
   "execution_count": 5,
   "id": "popular-active",
   "metadata": {
    "execution": {
     "iopub.execute_input": "2021-11-18T16:30:10.912164Z",
     "iopub.status.busy": "2021-11-18T16:30:10.897600Z",
     "iopub.status.idle": "2021-11-18T16:30:10.932625Z",
     "shell.execute_reply": "2021-11-18T16:30:10.930974Z"
    },
    "papermill": {
     "duration": 0.08023,
     "end_time": "2021-11-18T16:30:10.933182",
     "exception": false,
     "start_time": "2021-11-18T16:30:10.852952",
     "status": "completed"
    },
    "tags": []
   },
   "outputs": [],
   "source": [
    "df_pivot = df.pivot_table(index=\"PRODUCT\", columns = \"RECORD_TIME\", values = \"LISTING_COUNT\")"
   ]
  },
  {
   "cell_type": "code",
   "execution_count": 6,
   "id": "union-huntington",
   "metadata": {
    "execution": {
     "iopub.execute_input": "2021-11-18T16:30:10.996408Z",
     "iopub.status.busy": "2021-11-18T16:30:10.994128Z",
     "iopub.status.idle": "2021-11-18T16:30:11.000753Z",
     "shell.execute_reply": "2021-11-18T16:30:11.002404Z"
    },
    "papermill": {
     "duration": 0.046134,
     "end_time": "2021-11-18T16:30:11.002908",
     "exception": false,
     "start_time": "2021-11-18T16:30:10.956774",
     "status": "completed"
    },
    "tags": []
   },
   "outputs": [],
   "source": [
    "df_pivot.columns = [\"stamp_1\", \"stamp_2\"]\n",
    "df_pivot_diff = df_pivot.diff(axis=1)"
   ]
  },
  {
   "cell_type": "code",
   "execution_count": 7,
   "id": "fifth-motion",
   "metadata": {
    "execution": {
     "iopub.execute_input": "2021-11-18T16:30:11.062648Z",
     "iopub.status.busy": "2021-11-18T16:30:11.060158Z",
     "iopub.status.idle": "2021-11-18T16:30:12.776814Z",
     "shell.execute_reply": "2021-11-18T16:30:12.778518Z"
    },
    "papermill": {
     "duration": 1.754518,
     "end_time": "2021-11-18T16:30:12.779019",
     "exception": false,
     "start_time": "2021-11-18T16:30:11.024501",
     "status": "completed"
    },
    "tags": []
   },
   "outputs": [
    {
     "data": {
      "text/plain": [
       "<AxesSubplot:ylabel='PRODUCT'>"
      ]
     },
     "execution_count": 7,
     "metadata": {},
     "output_type": "execute_result"
    },
    {
     "data": {
      "image/png": "[encoded data removed]",
      "text/plain": [
       "<Figure size 432x288 with 1 Axes>"
      ]
     },
     "metadata": {
      "needs_background": "light"
     },
     "output_type": "display_data"
    }
   ],
   "source": [
    "df_pivot_diff.sort_values(\"stamp_2\", ascending = False)[\"stamp_2\"].head(10).plot.barh()"
   ]
  },
  {
   "cell_type": "code",
   "execution_count": null,
   "id": "extra-executive",
   "metadata": {
    "papermill": {
     "duration": 0.036953,
     "end_time": "2021-11-18T16:30:12.848640",
     "exception": false,
     "start_time": "2021-11-18T16:30:12.811687",
     "status": "completed"
    },
    "tags": []
   },
   "outputs": [],
   "source": []
  }
 ],
 "metadata": {
  "kernelspec": {
   "display_name": "Python 3",
   "language": "python",
   "name": "python3"
  },
  "language_info": {
   "codemirror_mode": {
    "name": "ipython",
    "version": 3
   },
   "file_extension": ".py",
   "mimetype": "text/x-python",
   "name": "python",
   "nbconvert_exporter": "python",
   "pygments_lexer": "ipython3",
   "version": "3.9.5"
  },
  "papermill": {
   "default_parameters": {},
   "duration": 8.947921,
   "end_time": "2021-11-18T16:30:13.713683",
   "environment_variables": {},
   "exception": null,
   "input_path": "eBay_Overview.ipynb",
   "output_path": "eBay_Overview.ipynb",
   "parameters": {},
   "start_time": "2021-11-18T16:30:04.765762",
   "version": "2.3.3"
  }
 },
 "nbformat": 4,
 "nbformat_minor": 5
}