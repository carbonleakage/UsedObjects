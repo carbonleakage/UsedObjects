{
 "cells": [
  {
   "cell_type": "code",
   "execution_count": 1,
   "id": "reverse-picking",
   "metadata": {
    "execution": {
     "iopub.execute_input": "2021-09-05T09:00:06.841665Z",
     "iopub.status.busy": "2021-09-05T09:00:06.839755Z",
     "iopub.status.idle": "2021-09-05T09:00:07.641711Z",
     "shell.execute_reply": "2021-09-05T09:00:07.643117Z"
    },
    "papermill": {
     "duration": 0.852784,
     "end_time": "2021-09-05T09:00:07.643776",
     "exception": false,
     "start_time": "2021-09-05T09:00:06.790992",
     "status": "completed"
    },
    "tags": []
   },
   "outputs": [],
   "source": [
    "import pandas as pd\n",
    "import sqlite3"
   ]
  },
  {
   "cell_type": "code",
   "execution_count": 2,
   "id": "innovative-syndrome",
   "metadata": {
    "execution": {
     "iopub.execute_input": "2021-09-05T09:00:07.694406Z",
     "iopub.status.busy": "2021-09-05T09:00:07.692365Z",
     "iopub.status.idle": "2021-09-05T09:00:07.904003Z",
     "shell.execute_reply": "2021-09-05T09:00:07.905405Z"
    },
    "papermill": {
     "duration": 0.242005,
     "end_time": "2021-09-05T09:00:07.905851",
     "exception": false,
     "start_time": "2021-09-05T09:00:07.663846",
     "status": "completed"
    },
    "tags": []
   },
   "outputs": [],
   "source": [
    "timestamps = pd.read_sql(\"select distinct record_time from EBAY_TOP_BERLIN order by record_time desc limit 2\", sqlite3.connect(\"UsedObjects.db\"))"
   ]
  },
  {
   "cell_type": "code",
   "execution_count": 3,
   "id": "periodic-identification",
   "metadata": {
    "execution": {
     "iopub.execute_input": "2021-09-05T09:00:07.972192Z",
     "iopub.status.busy": "2021-09-05T09:00:07.970115Z",
     "iopub.status.idle": "2021-09-05T09:00:07.990454Z",
     "shell.execute_reply": "2021-09-05T09:00:07.991811Z"
    },
    "papermill": {
     "duration": 0.066859,
     "end_time": "2021-09-05T09:00:07.992241",
     "exception": false,
     "start_time": "2021-09-05T09:00:07.925382",
     "status": "completed"
    },
    "tags": []
   },
   "outputs": [
    {
     "data": {
      "text/html": [
       "<div>\n",
       "<style scoped>\n",
       "    .dataframe tbody tr th:only-of-type {\n",
       "        vertical-align: middle;\n",
       "    }\n",
       "\n",
       "    .dataframe tbody tr th {\n",
       "        vertical-align: top;\n",
       "    }\n",
       "\n",
       "    .dataframe thead th {\n",
       "        text-align: right;\n",
       "    }\n",
       "</style>\n",
       "<table border=\"1\" class=\"dataframe\">\n",
       "  <thead>\n",
       "    <tr style=\"text-align: right;\">\n",
       "      <th></th>\n",
       "      <th>RECORD_TIME</th>\n",
       "    </tr>\n",
       "  </thead>\n",
       "  <tbody>\n",
       "    <tr>\n",
       "      <th>0</th>\n",
       "      <td>2021-09-05 11:00</td>\n",
       "    </tr>\n",
       "    <tr>\n",
       "      <th>1</th>\n",
       "      <td>2021-09-05 10:30</td>\n",
       "    </tr>\n",
       "  </tbody>\n",
       "</table>\n",
       "</div>"
      ],
      "text/plain": [
       "        RECORD_TIME\n",
       "0  2021-09-05 11:00\n",
       "1  2021-09-05 10:30"
      ]
     },
     "execution_count": 3,
     "metadata": {},
     "output_type": "execute_result"
    }
   ],
   "source": [
    "timestamps"
   ]
  },
  {
   "cell_type": "code",
   "execution_count": 4,
   "id": "alternate-victory",
   "metadata": {
    "execution": {
     "iopub.execute_input": "2021-09-05T09:00:08.043407Z",
     "iopub.status.busy": "2021-09-05T09:00:08.041459Z",
     "iopub.status.idle": "2021-09-05T09:00:08.358979Z",
     "shell.execute_reply": "2021-09-05T09:00:08.360195Z"
    },
    "papermill": {
     "duration": 0.347335,
     "end_time": "2021-09-05T09:00:08.360629",
     "exception": false,
     "start_time": "2021-09-05T09:00:08.013294",
     "status": "completed"
    },
    "tags": []
   },
   "outputs": [],
   "source": [
    "df = pd.read_sql(\"select * from EBAY_TOP_BERLIN where record_time in (select distinct record_time from EBAY_TOP_BERLIN order by record_time desc limit 2)\", sqlite3.connect(\"UsedObjects.db\"))"
   ]
  },
  {
   "cell_type": "code",
   "execution_count": 5,
   "id": "popular-active",
   "metadata": {
    "execution": {
     "iopub.execute_input": "2021-09-05T09:00:08.442011Z",
     "iopub.status.busy": "2021-09-05T09:00:08.429486Z",
     "iopub.status.idle": "2021-09-05T09:00:08.460547Z",
     "shell.execute_reply": "2021-09-05T09:00:08.461915Z"
    },
    "papermill": {
     "duration": 0.075283,
     "end_time": "2021-09-05T09:00:08.462353",
     "exception": false,
     "start_time": "2021-09-05T09:00:08.387070",
     "status": "completed"
    },
    "tags": []
   },
   "outputs": [],
   "source": [
    "df_pivot = df.pivot_table(index=\"PRODUCT\", columns = \"RECORD_TIME\", values = \"LISTING_COUNT\")"
   ]
  },
  {
   "cell_type": "code",
   "execution_count": 6,
   "id": "union-huntington",
   "metadata": {
    "execution": {
     "iopub.execute_input": "2021-09-05T09:00:08.518320Z",
     "iopub.status.busy": "2021-09-05T09:00:08.516255Z",
     "iopub.status.idle": "2021-09-05T09:00:08.521668Z",
     "shell.execute_reply": "2021-09-05T09:00:08.522998Z"
    },
    "papermill": {
     "duration": 0.040992,
     "end_time": "2021-09-05T09:00:08.523420",
     "exception": false,
     "start_time": "2021-09-05T09:00:08.482428",
     "status": "completed"
    },
    "tags": []
   },
   "outputs": [],
   "source": [
    "df_pivot.columns = [\"stamp_1\", \"stamp_2\"]\n",
    "df_pivot_diff = df_pivot.diff(axis=1)"
   ]
  },
  {
   "cell_type": "code",
   "execution_count": 7,
   "id": "fifth-motion",
   "metadata": {
    "execution": {
     "iopub.execute_input": "2021-09-05T09:00:08.577145Z",
     "iopub.status.busy": "2021-09-05T09:00:08.574667Z",
     "iopub.status.idle": "2021-09-05T09:00:10.065720Z",
     "shell.execute_reply": "2021-09-05T09:00:10.067221Z"
    },
    "papermill": {
     "duration": 1.523986,
     "end_time": "2021-09-05T09:00:10.067701",
     "exception": false,
     "start_time": "2021-09-05T09:00:08.543715",
     "status": "completed"
    },
    "tags": []
   },
   "outputs": [
    {
     "data": {
      "text/plain": [
       "<AxesSubplot:ylabel='PRODUCT'>"
      ]
     },
     "execution_count": 7,
     "metadata": {},
     "output_type": "execute_result"
    },
    {
     "data": {
      "image/png": "[encoded data removed]",
      "text/plain": [
       "<Figure size 432x288 with 1 Axes>"
      ]
     },
     "metadata": {
      "needs_background": "light"
     },
     "output_type": "display_data"
    }
   ],
   "source": [
    "df_pivot_diff.sort_values(\"stamp_2\", ascending = False)[\"stamp_2\"].head(10).plot.barh()"
   ]
  },
  {
   "cell_type": "code",
   "execution_count": null,
   "id": "extra-executive",
   "metadata": {
    "papermill": {
     "duration": 0.022176,
     "end_time": "2021-09-05T09:00:10.116422",
     "exception": false,
     "start_time": "2021-09-05T09:00:10.094246",
     "status": "completed"
    },
    "tags": []
   },
   "outputs": [],
   "source": []
  }
 ],
 "metadata": {
  "kernelspec": {
   "display_name": "Python 3",
   "language": "python",
   "name": "python3"
  },
  "language_info": {
   "codemirror_mode": {
    "name": "ipython",
    "version": 3
   },
   "file_extension": ".py",
   "mimetype": "text/x-python",
   "name": "python",
   "nbconvert_exporter": "python",
   "pygments_lexer": "ipython3",
   "version": "3.9.5"
  },
  "papermill": {
   "default_parameters": {},
   "duration": 6.365265,
   "end_time": "2021-09-05T09:00:10.756829",
   "environment_variables": {},
   "exception": null,
   "input_path": "eBay_Overview.ipynb",
   "output_path": "eBay_Overview.ipynb",
   "parameters": {},
   "start_time": "2021-09-05T09:00:04.391564",
   "version": "2.3.3"
  }
 },
 "nbformat": 4,
 "nbformat_minor": 5
}