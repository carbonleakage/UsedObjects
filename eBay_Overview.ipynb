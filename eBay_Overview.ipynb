{
 "cells": [
  {
   "cell_type": "code",
   "execution_count": 1,
   "id": "reverse-picking",
   "metadata": {
    "execution": {
     "iopub.execute_input": "2021-09-08T03:30:07.452628Z",
     "iopub.status.busy": "2021-09-08T03:30:07.450568Z",
     "iopub.status.idle": "2021-09-08T03:30:08.258581Z",
     "shell.execute_reply": "2021-09-08T03:30:08.260102Z"
    },
    "papermill": {
     "duration": 0.859272,
     "end_time": "2021-09-08T03:30:08.260875",
     "exception": false,
     "start_time": "2021-09-08T03:30:07.401603",
     "status": "completed"
    },
    "tags": []
   },
   "outputs": [],
   "source": [
    "import pandas as pd\n",
    "import sqlite3"
   ]
  },
  {
   "cell_type": "code",
   "execution_count": 2,
   "id": "innovative-syndrome",
   "metadata": {
    "execution": {
     "iopub.execute_input": "2021-09-08T03:30:08.312989Z",
     "iopub.status.busy": "2021-09-08T03:30:08.310567Z",
     "iopub.status.idle": "2021-09-08T03:30:08.545412Z",
     "shell.execute_reply": "2021-09-08T03:30:08.546618Z"
    },
    "papermill": {
     "duration": 0.264982,
     "end_time": "2021-09-08T03:30:08.547178",
     "exception": false,
     "start_time": "2021-09-08T03:30:08.282196",
     "status": "completed"
    },
    "tags": []
   },
   "outputs": [],
   "source": [
    "timestamps = pd.read_sql(\"select distinct record_time from EBAY_TOP_BERLIN order by record_time desc limit 2\", sqlite3.connect(\"UsedObjects.db\"))"
   ]
  },
  {
   "cell_type": "code",
   "execution_count": 3,
   "id": "periodic-identification",
   "metadata": {
    "execution": {
     "iopub.execute_input": "2021-09-08T03:30:08.614986Z",
     "iopub.status.busy": "2021-09-08T03:30:08.612900Z",
     "iopub.status.idle": "2021-09-08T03:30:08.633587Z",
     "shell.execute_reply": "2021-09-08T03:30:08.635024Z"
    },
    "papermill": {
     "duration": 0.066768,
     "end_time": "2021-09-08T03:30:08.635465",
     "exception": false,
     "start_time": "2021-09-08T03:30:08.568697",
     "status": "completed"
    },
    "tags": []
   },
   "outputs": [
    {
     "data": {
      "text/html": [
       "<div>\n",
       "<style scoped>\n",
       "    .dataframe tbody tr th:only-of-type {\n",
       "        vertical-align: middle;\n",
       "    }\n",
       "\n",
       "    .dataframe tbody tr th {\n",
       "        vertical-align: top;\n",
       "    }\n",
       "\n",
       "    .dataframe thead th {\n",
       "        text-align: right;\n",
       "    }\n",
       "</style>\n",
       "<table border=\"1\" class=\"dataframe\">\n",
       "  <thead>\n",
       "    <tr style=\"text-align: right;\">\n",
       "      <th></th>\n",
       "      <th>RECORD_TIME</th>\n",
       "    </tr>\n",
       "  </thead>\n",
       "  <tbody>\n",
       "    <tr>\n",
       "      <th>0</th>\n",
       "      <td>2021-09-08 05:30</td>\n",
       "    </tr>\n",
       "    <tr>\n",
       "      <th>1</th>\n",
       "      <td>2021-09-08 05:00</td>\n",
       "    </tr>\n",
       "  </tbody>\n",
       "</table>\n",
       "</div>"
      ],
      "text/plain": [
       "        RECORD_TIME\n",
       "0  2021-09-08 05:30\n",
       "1  2021-09-08 05:00"
      ]
     },
     "execution_count": 3,
     "metadata": {},
     "output_type": "execute_result"
    }
   ],
   "source": [
    "timestamps"
   ]
  },
  {
   "cell_type": "code",
   "execution_count": 4,
   "id": "alternate-victory",
   "metadata": {
    "execution": {
     "iopub.execute_input": "2021-09-08T03:30:08.687017Z",
     "iopub.status.busy": "2021-09-08T03:30:08.685109Z",
     "iopub.status.idle": "2021-09-08T03:30:09.031887Z",
     "shell.execute_reply": "2021-09-08T03:30:09.033121Z"
    },
    "papermill": {
     "duration": 0.376834,
     "end_time": "2021-09-08T03:30:09.033513",
     "exception": false,
     "start_time": "2021-09-08T03:30:08.656679",
     "status": "completed"
    },
    "tags": []
   },
   "outputs": [],
   "source": [
    "df = pd.read_sql(\"select * from EBAY_TOP_BERLIN where record_time in (select distinct record_time from EBAY_TOP_BERLIN order by record_time desc limit 2)\", sqlite3.connect(\"UsedObjects.db\"))"
   ]
  },
  {
   "cell_type": "code",
   "execution_count": 5,
   "id": "popular-active",
   "metadata": {
    "execution": {
     "iopub.execute_input": "2021-09-08T03:30:09.116444Z",
     "iopub.status.busy": "2021-09-08T03:30:09.104814Z",
     "iopub.status.idle": "2021-09-08T03:30:09.132370Z",
     "shell.execute_reply": "2021-09-08T03:30:09.133603Z"
    },
    "papermill": {
     "duration": 0.071741,
     "end_time": "2021-09-08T03:30:09.133997",
     "exception": false,
     "start_time": "2021-09-08T03:30:09.062256",
     "status": "completed"
    },
    "tags": []
   },
   "outputs": [],
   "source": [
    "df_pivot = df.pivot_table(index=\"PRODUCT\", columns = \"RECORD_TIME\", values = \"LISTING_COUNT\")"
   ]
  },
  {
   "cell_type": "code",
   "execution_count": 6,
   "id": "union-huntington",
   "metadata": {
    "execution": {
     "iopub.execute_input": "2021-09-08T03:30:09.193131Z",
     "iopub.status.busy": "2021-09-08T03:30:09.190582Z",
     "iopub.status.idle": "2021-09-08T03:30:09.196422Z",
     "shell.execute_reply": "2021-09-08T03:30:09.197716Z"
    },
    "papermill": {
     "duration": 0.042014,
     "end_time": "2021-09-08T03:30:09.198126",
     "exception": false,
     "start_time": "2021-09-08T03:30:09.156112",
     "status": "completed"
    },
    "tags": []
   },
   "outputs": [],
   "source": [
    "df_pivot.columns = [\"stamp_1\", \"stamp_2\"]\n",
    "df_pivot_diff = df_pivot.diff(axis=1)"
   ]
  },
  {
   "cell_type": "code",
   "execution_count": 7,
   "id": "fifth-motion",
   "metadata": {
    "execution": {
     "iopub.execute_input": "2021-09-08T03:30:09.251656Z",
     "iopub.status.busy": "2021-09-08T03:30:09.249283Z",
     "iopub.status.idle": "2021-09-08T03:30:10.761544Z",
     "shell.execute_reply": "2021-09-08T03:30:10.762830Z"
    },
    "papermill": {
     "duration": 1.544911,
     "end_time": "2021-09-08T03:30:10.763483",
     "exception": false,
     "start_time": "2021-09-08T03:30:09.218572",
     "status": "completed"
    },
    "tags": []
   },
   "outputs": [
    {
     "data": {
      "text/plain": [
       "<AxesSubplot:ylabel='PRODUCT'>"
      ]
     },
     "execution_count": 7,
     "metadata": {},
     "output_type": "execute_result"
    },
    {
     "data": {
      "image/png": "[encoded data removed]",
      "text/plain": [
       "<Figure size 432x288 with 1 Axes>"
      ]
     },
     "metadata": {
      "needs_background": "light"
     },
     "output_type": "display_data"
    }
   ],
   "source": [
    "df_pivot_diff.sort_values(\"stamp_2\", ascending = False)[\"stamp_2\"].head(10).plot.barh()"
   ]
  },
  {
   "cell_type": "code",
   "execution_count": null,
   "id": "extra-executive",
   "metadata": {
    "papermill": {
     "duration": 0.022401,
     "end_time": "2021-09-08T03:30:10.812528",
     "exception": false,
     "start_time": "2021-09-08T03:30:10.790127",
     "status": "completed"
    },
    "tags": []
   },
   "outputs": [],
   "source": []
  }
 ],
 "metadata": {
  "kernelspec": {
   "display_name": "Python 3",
   "language": "python",
   "name": "python3"
  },
  "language_info": {
   "codemirror_mode": {
    "name": "ipython",
    "version": 3
   },
   "file_extension": ".py",
   "mimetype": "text/x-python",
   "name": "python",
   "nbconvert_exporter": "python",
   "pygments_lexer": "ipython3",
   "version": "3.9.5"
  },
  "papermill": {
   "default_parameters": {},
   "duration": 6.459882,
   "end_time": "2021-09-08T03:30:11.453395",
   "environment_variables": {},
   "exception": null,
   "input_path": "eBay_Overview.ipynb",
   "output_path": "eBay_Overview.ipynb",
   "parameters": {},
   "start_time": "2021-09-08T03:30:04.993513",
   "version": "2.3.3"
  }
 },
 "nbformat": 4,
 "nbformat_minor": 5
}