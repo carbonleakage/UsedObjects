{
 "cells": [
  {
   "cell_type": "code",
   "execution_count": 1,
   "id": "reverse-picking",
   "metadata": {
    "execution": {
     "iopub.execute_input": "2021-10-30T17:30:07.474411Z",
     "iopub.status.busy": "2021-10-30T17:30:07.472300Z",
     "iopub.status.idle": "2021-10-30T17:30:08.276467Z",
     "shell.execute_reply": "2021-10-30T17:30:08.277787Z"
    },
    "papermill": {
     "duration": 0.854688,
     "end_time": "2021-10-30T17:30:08.278404",
     "exception": false,
     "start_time": "2021-10-30T17:30:07.423716",
     "status": "completed"
    },
    "tags": []
   },
   "outputs": [],
   "source": [
    "import pandas as pd\n",
    "import sqlite3"
   ]
  },
  {
   "cell_type": "code",
   "execution_count": 2,
   "id": "innovative-syndrome",
   "metadata": {
    "execution": {
     "iopub.execute_input": "2021-10-30T17:30:08.329012Z",
     "iopub.status.busy": "2021-10-30T17:30:08.327079Z",
     "iopub.status.idle": "2021-10-30T17:30:08.990229Z",
     "shell.execute_reply": "2021-10-30T17:30:08.991571Z"
    },
    "papermill": {
     "duration": 0.692473,
     "end_time": "2021-10-30T17:30:08.992011",
     "exception": false,
     "start_time": "2021-10-30T17:30:08.299538",
     "status": "completed"
    },
    "tags": []
   },
   "outputs": [],
   "source": [
    "timestamps = pd.read_sql(\"select distinct record_time from EBAY_TOP_BERLIN order by record_time desc limit 2\", sqlite3.connect(\"UsedObjects.db\"))"
   ]
  },
  {
   "cell_type": "code",
   "execution_count": 3,
   "id": "periodic-identification",
   "metadata": {
    "execution": {
     "iopub.execute_input": "2021-10-30T17:30:09.064358Z",
     "iopub.status.busy": "2021-10-30T17:30:09.062373Z",
     "iopub.status.idle": "2021-10-30T17:30:09.083560Z",
     "shell.execute_reply": "2021-10-30T17:30:09.084983Z"
    },
    "papermill": {
     "duration": 0.068432,
     "end_time": "2021-10-30T17:30:09.085474",
     "exception": false,
     "start_time": "2021-10-30T17:30:09.017042",
     "status": "completed"
    },
    "tags": []
   },
   "outputs": [
    {
     "data": {
      "text/html": [
       "<div>\n",
       "<style scoped>\n",
       "    .dataframe tbody tr th:only-of-type {\n",
       "        vertical-align: middle;\n",
       "    }\n",
       "\n",
       "    .dataframe tbody tr th {\n",
       "        vertical-align: top;\n",
       "    }\n",
       "\n",
       "    .dataframe thead th {\n",
       "        text-align: right;\n",
       "    }\n",
       "</style>\n",
       "<table border=\"1\" class=\"dataframe\">\n",
       "  <thead>\n",
       "    <tr style=\"text-align: right;\">\n",
       "      <th></th>\n",
       "      <th>RECORD_TIME</th>\n",
       "    </tr>\n",
       "  </thead>\n",
       "  <tbody>\n",
       "    <tr>\n",
       "      <th>0</th>\n",
       "      <td>2021-10-30 19:30</td>\n",
       "    </tr>\n",
       "    <tr>\n",
       "      <th>1</th>\n",
       "      <td>2021-10-30 19:00</td>\n",
       "    </tr>\n",
       "  </tbody>\n",
       "</table>\n",
       "</div>"
      ],
      "text/plain": [
       "        RECORD_TIME\n",
       "0  2021-10-30 19:30\n",
       "1  2021-10-30 19:00"
      ]
     },
     "execution_count": 3,
     "metadata": {},
     "output_type": "execute_result"
    }
   ],
   "source": [
    "timestamps"
   ]
  },
  {
   "cell_type": "code",
   "execution_count": 4,
   "id": "alternate-victory",
   "metadata": {
    "execution": {
     "iopub.execute_input": "2021-10-30T17:30:09.136812Z",
     "iopub.status.busy": "2021-10-30T17:30:09.134937Z",
     "iopub.status.idle": "2021-10-30T17:30:10.125628Z",
     "shell.execute_reply": "2021-10-30T17:30:10.127004Z"
    },
    "papermill": {
     "duration": 1.020466,
     "end_time": "2021-10-30T17:30:10.127449",
     "exception": false,
     "start_time": "2021-10-30T17:30:09.106983",
     "status": "completed"
    },
    "tags": []
   },
   "outputs": [],
   "source": [
    "df = pd.read_sql(\"select * from EBAY_TOP_BERLIN where record_time in (select distinct record_time from EBAY_TOP_BERLIN order by record_time desc limit 2)\", sqlite3.connect(\"UsedObjects.db\"))"
   ]
  },
  {
   "cell_type": "code",
   "execution_count": 5,
   "id": "popular-active",
   "metadata": {
    "execution": {
     "iopub.execute_input": "2021-10-30T17:30:10.198662Z",
     "iopub.status.busy": "2021-10-30T17:30:10.187465Z",
     "iopub.status.idle": "2021-10-30T17:30:10.214376Z",
     "shell.execute_reply": "2021-10-30T17:30:10.215561Z"
    },
    "papermill": {
     "duration": 0.06787,
     "end_time": "2021-10-30T17:30:10.215953",
     "exception": false,
     "start_time": "2021-10-30T17:30:10.148083",
     "status": "completed"
    },
    "tags": []
   },
   "outputs": [],
   "source": [
    "df_pivot = df.pivot_table(index=\"PRODUCT\", columns = \"RECORD_TIME\", values = \"LISTING_COUNT\")"
   ]
  },
  {
   "cell_type": "code",
   "execution_count": 6,
   "id": "union-huntington",
   "metadata": {
    "execution": {
     "iopub.execute_input": "2021-10-30T17:30:10.274753Z",
     "iopub.status.busy": "2021-10-30T17:30:10.272285Z",
     "iopub.status.idle": "2021-10-30T17:30:10.278225Z",
     "shell.execute_reply": "2021-10-30T17:30:10.279487Z"
    },
    "papermill": {
     "duration": 0.041841,
     "end_time": "2021-10-30T17:30:10.279898",
     "exception": false,
     "start_time": "2021-10-30T17:30:10.238057",
     "status": "completed"
    },
    "tags": []
   },
   "outputs": [],
   "source": [
    "df_pivot.columns = [\"stamp_1\", \"stamp_2\"]\n",
    "df_pivot_diff = df_pivot.diff(axis=1)"
   ]
  },
  {
   "cell_type": "code",
   "execution_count": 7,
   "id": "fifth-motion",
   "metadata": {
    "execution": {
     "iopub.execute_input": "2021-10-30T17:30:10.332996Z",
     "iopub.status.busy": "2021-10-30T17:30:10.330719Z",
     "iopub.status.idle": "2021-10-30T17:30:11.828211Z",
     "shell.execute_reply": "2021-10-30T17:30:11.829734Z"
    },
    "papermill": {
     "duration": 1.529995,
     "end_time": "2021-10-30T17:30:11.830200",
     "exception": false,
     "start_time": "2021-10-30T17:30:10.300205",
     "status": "completed"
    },
    "tags": []
   },
   "outputs": [
    {
     "data": {
      "text/plain": [
       "<AxesSubplot:ylabel='PRODUCT'>"
      ]
     },
     "execution_count": 7,
     "metadata": {},
     "output_type": "execute_result"
    },
    {
     "data": {
      "image/png": "[encoded data removed]",
      "text/plain": [
       "<Figure size 432x288 with 1 Axes>"
      ]
     },
     "metadata": {
      "needs_background": "light"
     },
     "output_type": "display_data"
    }
   ],
   "source": [
    "df_pivot_diff.sort_values(\"stamp_2\", ascending = False)[\"stamp_2\"].head(10).plot.barh()"
   ]
  },
  {
   "cell_type": "code",
   "execution_count": null,
   "id": "extra-executive",
   "metadata": {
    "papermill": {
     "duration": 0.021955,
     "end_time": "2021-10-30T17:30:11.876747",
     "exception": false,
     "start_time": "2021-10-30T17:30:11.854792",
     "status": "completed"
    },
    "tags": []
   },
   "outputs": [],
   "source": []
  }
 ],
 "metadata": {
  "kernelspec": {
   "display_name": "Python 3",
   "language": "python",
   "name": "python3"
  },
  "language_info": {
   "codemirror_mode": {
    "name": "ipython",
    "version": 3
   },
   "file_extension": ".py",
   "mimetype": "text/x-python",
   "name": "python",
   "nbconvert_exporter": "python",
   "pygments_lexer": "ipython3",
   "version": "3.9.5"
  },
  "papermill": {
   "default_parameters": {},
   "duration": 7.491632,
   "end_time": "2021-10-30T17:30:12.519405",
   "environment_variables": {},
   "exception": null,
   "input_path": "eBay_Overview.ipynb",
   "output_path": "eBay_Overview.ipynb",
   "parameters": {},
   "start_time": "2021-10-30T17:30:05.027773",
   "version": "2.3.3"
  }
 },
 "nbformat": 4,
 "nbformat_minor": 5
}