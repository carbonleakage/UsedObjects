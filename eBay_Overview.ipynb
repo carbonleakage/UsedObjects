{
 "cells": [
  {
   "cell_type": "code",
   "execution_count": 1,
   "id": "reverse-picking",
   "metadata": {
    "execution": {
     "iopub.execute_input": "2021-10-24T00:30:07.359126Z",
     "iopub.status.busy": "2021-10-24T00:30:07.357197Z",
     "iopub.status.idle": "2021-10-24T00:30:08.161810Z",
     "shell.execute_reply": "2021-10-24T00:30:08.163119Z"
    },
    "papermill": {
     "duration": 0.858632,
     "end_time": "2021-10-24T00:30:08.163733",
     "exception": false,
     "start_time": "2021-10-24T00:30:07.305101",
     "status": "completed"
    },
    "tags": []
   },
   "outputs": [],
   "source": [
    "import pandas as pd\n",
    "import sqlite3"
   ]
  },
  {
   "cell_type": "code",
   "execution_count": 2,
   "id": "innovative-syndrome",
   "metadata": {
    "execution": {
     "iopub.execute_input": "2021-10-24T00:30:08.213504Z",
     "iopub.status.busy": "2021-10-24T00:30:08.211518Z",
     "iopub.status.idle": "2021-10-24T00:30:08.832792Z",
     "shell.execute_reply": "2021-10-24T00:30:08.834031Z"
    },
    "papermill": {
     "duration": 0.650632,
     "end_time": "2021-10-24T00:30:08.834423",
     "exception": false,
     "start_time": "2021-10-24T00:30:08.183791",
     "status": "completed"
    },
    "tags": []
   },
   "outputs": [],
   "source": [
    "timestamps = pd.read_sql(\"select distinct record_time from EBAY_TOP_BERLIN order by record_time desc limit 2\", sqlite3.connect(\"UsedObjects.db\"))"
   ]
  },
  {
   "cell_type": "code",
   "execution_count": 3,
   "id": "periodic-identification",
   "metadata": {
    "execution": {
     "iopub.execute_input": "2021-10-24T00:30:08.919807Z",
     "iopub.status.busy": "2021-10-24T00:30:08.917782Z",
     "iopub.status.idle": "2021-10-24T00:30:08.937578Z",
     "shell.execute_reply": "2021-10-24T00:30:08.939069Z"
    },
    "papermill": {
     "duration": 0.070147,
     "end_time": "2021-10-24T00:30:08.939524",
     "exception": false,
     "start_time": "2021-10-24T00:30:08.869377",
     "status": "completed"
    },
    "tags": []
   },
   "outputs": [
    {
     "data": {
      "text/html": [
       "<div>\n",
       "<style scoped>\n",
       "    .dataframe tbody tr th:only-of-type {\n",
       "        vertical-align: middle;\n",
       "    }\n",
       "\n",
       "    .dataframe tbody tr th {\n",
       "        vertical-align: top;\n",
       "    }\n",
       "\n",
       "    .dataframe thead th {\n",
       "        text-align: right;\n",
       "    }\n",
       "</style>\n",
       "<table border=\"1\" class=\"dataframe\">\n",
       "  <thead>\n",
       "    <tr style=\"text-align: right;\">\n",
       "      <th></th>\n",
       "      <th>RECORD_TIME</th>\n",
       "    </tr>\n",
       "  </thead>\n",
       "  <tbody>\n",
       "    <tr>\n",
       "      <th>0</th>\n",
       "      <td>2021-10-24 02:30</td>\n",
       "    </tr>\n",
       "    <tr>\n",
       "      <th>1</th>\n",
       "      <td>2021-10-24 02:00</td>\n",
       "    </tr>\n",
       "  </tbody>\n",
       "</table>\n",
       "</div>"
      ],
      "text/plain": [
       "        RECORD_TIME\n",
       "0  2021-10-24 02:30\n",
       "1  2021-10-24 02:00"
      ]
     },
     "execution_count": 3,
     "metadata": {},
     "output_type": "execute_result"
    }
   ],
   "source": [
    "timestamps"
   ]
  },
  {
   "cell_type": "code",
   "execution_count": 4,
   "id": "alternate-victory",
   "metadata": {
    "execution": {
     "iopub.execute_input": "2021-10-24T00:30:08.991966Z",
     "iopub.status.busy": "2021-10-24T00:30:08.989931Z",
     "iopub.status.idle": "2021-10-24T00:30:09.942592Z",
     "shell.execute_reply": "2021-10-24T00:30:09.943804Z"
    },
    "papermill": {
     "duration": 0.98326,
     "end_time": "2021-10-24T00:30:09.944198",
     "exception": false,
     "start_time": "2021-10-24T00:30:08.960938",
     "status": "completed"
    },
    "tags": []
   },
   "outputs": [],
   "source": [
    "df = pd.read_sql(\"select * from EBAY_TOP_BERLIN where record_time in (select distinct record_time from EBAY_TOP_BERLIN order by record_time desc limit 2)\", sqlite3.connect(\"UsedObjects.db\"))"
   ]
  },
  {
   "cell_type": "code",
   "execution_count": 5,
   "id": "popular-active",
   "metadata": {
    "execution": {
     "iopub.execute_input": "2021-10-24T00:30:10.015277Z",
     "iopub.status.busy": "2021-10-24T00:30:10.002938Z",
     "iopub.status.idle": "2021-10-24T00:30:10.031041Z",
     "shell.execute_reply": "2021-10-24T00:30:10.032322Z"
    },
    "papermill": {
     "duration": 0.068019,
     "end_time": "2021-10-24T00:30:10.032780",
     "exception": false,
     "start_time": "2021-10-24T00:30:09.964761",
     "status": "completed"
    },
    "tags": []
   },
   "outputs": [],
   "source": [
    "df_pivot = df.pivot_table(index=\"PRODUCT\", columns = \"RECORD_TIME\", values = \"LISTING_COUNT\")"
   ]
  },
  {
   "cell_type": "code",
   "execution_count": 6,
   "id": "union-huntington",
   "metadata": {
    "execution": {
     "iopub.execute_input": "2021-10-24T00:30:10.091490Z",
     "iopub.status.busy": "2021-10-24T00:30:10.089328Z",
     "iopub.status.idle": "2021-10-24T00:30:10.094623Z",
     "shell.execute_reply": "2021-10-24T00:30:10.095977Z"
    },
    "papermill": {
     "duration": 0.040928,
     "end_time": "2021-10-24T00:30:10.096413",
     "exception": false,
     "start_time": "2021-10-24T00:30:10.055485",
     "status": "completed"
    },
    "tags": []
   },
   "outputs": [],
   "source": [
    "df_pivot.columns = [\"stamp_1\", \"stamp_2\"]\n",
    "df_pivot_diff = df_pivot.diff(axis=1)"
   ]
  },
  {
   "cell_type": "code",
   "execution_count": 7,
   "id": "fifth-motion",
   "metadata": {
    "execution": {
     "iopub.execute_input": "2021-10-24T00:30:10.151887Z",
     "iopub.status.busy": "2021-10-24T00:30:10.149271Z",
     "iopub.status.idle": "2021-10-24T00:30:11.624314Z",
     "shell.execute_reply": "2021-10-24T00:30:11.625753Z"
    },
    "papermill": {
     "duration": 1.508986,
     "end_time": "2021-10-24T00:30:11.626187",
     "exception": false,
     "start_time": "2021-10-24T00:30:10.117201",
     "status": "completed"
    },
    "tags": []
   },
   "outputs": [
    {
     "data": {
      "text/plain": [
       "<AxesSubplot:ylabel='PRODUCT'>"
      ]
     },
     "execution_count": 7,
     "metadata": {},
     "output_type": "execute_result"
    },
    {
     "data": {
      "image/png": "[encoded data removed]",
      "text/plain": [
       "<Figure size 432x288 with 1 Axes>"
      ]
     },
     "metadata": {
      "needs_background": "light"
     },
     "output_type": "display_data"
    }
   ],
   "source": [
    "df_pivot_diff.sort_values(\"stamp_2\", ascending = False)[\"stamp_2\"].head(10).plot.barh()"
   ]
  },
  {
   "cell_type": "code",
   "execution_count": null,
   "id": "extra-executive",
   "metadata": {
    "papermill": {
     "duration": 0.022418,
     "end_time": "2021-10-24T00:30:11.673427",
     "exception": false,
     "start_time": "2021-10-24T00:30:11.651009",
     "status": "completed"
    },
    "tags": []
   },
   "outputs": [],
   "source": []
  }
 ],
 "metadata": {
  "kernelspec": {
   "display_name": "Python 3",
   "language": "python",
   "name": "python3"
  },
  "language_info": {
   "codemirror_mode": {
    "name": "ipython",
    "version": 3
   },
   "file_extension": ".py",
   "mimetype": "text/x-python",
   "name": "python",
   "nbconvert_exporter": "python",
   "pygments_lexer": "ipython3",
   "version": "3.9.5"
  },
  "papermill": {
   "default_parameters": {},
   "duration": 7.41005,
   "end_time": "2021-10-24T00:30:12.316602",
   "environment_variables": {},
   "exception": null,
   "input_path": "eBay_Overview.ipynb",
   "output_path": "eBay_Overview.ipynb",
   "parameters": {},
   "start_time": "2021-10-24T00:30:04.906552",
   "version": "2.3.3"
  }
 },
 "nbformat": 4,
 "nbformat_minor": 5
}