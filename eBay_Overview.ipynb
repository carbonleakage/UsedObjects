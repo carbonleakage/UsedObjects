{
 "cells": [
  {
   "cell_type": "code",
   "execution_count": 1,
   "id": "reverse-picking",
   "metadata": {
    "execution": {
     "iopub.execute_input": "2021-10-12T01:00:07.578373Z",
     "iopub.status.busy": "2021-10-12T01:00:07.576363Z",
     "iopub.status.idle": "2021-10-12T01:00:08.377627Z",
     "shell.execute_reply": "2021-10-12T01:00:08.378985Z"
    },
    "papermill": {
     "duration": 0.852829,
     "end_time": "2021-10-12T01:00:08.379682",
     "exception": false,
     "start_time": "2021-10-12T01:00:07.526853",
     "status": "completed"
    },
    "tags": []
   },
   "outputs": [],
   "source": [
    "import pandas as pd\n",
    "import sqlite3"
   ]
  },
  {
   "cell_type": "code",
   "execution_count": 2,
   "id": "innovative-syndrome",
   "metadata": {
    "execution": {
     "iopub.execute_input": "2021-10-12T01:00:08.430661Z",
     "iopub.status.busy": "2021-10-12T01:00:08.428211Z",
     "iopub.status.idle": "2021-10-12T01:00:08.950371Z",
     "shell.execute_reply": "2021-10-12T01:00:08.951590Z"
    },
    "papermill": {
     "duration": 0.552021,
     "end_time": "2021-10-12T01:00:08.951983",
     "exception": false,
     "start_time": "2021-10-12T01:00:08.399962",
     "status": "completed"
    },
    "tags": []
   },
   "outputs": [],
   "source": [
    "timestamps = pd.read_sql(\"select distinct record_time from EBAY_TOP_BERLIN order by record_time desc limit 2\", sqlite3.connect(\"UsedObjects.db\"))"
   ]
  },
  {
   "cell_type": "code",
   "execution_count": 3,
   "id": "periodic-identification",
   "metadata": {
    "execution": {
     "iopub.execute_input": "2021-10-12T01:00:09.015966Z",
     "iopub.status.busy": "2021-10-12T01:00:09.013939Z",
     "iopub.status.idle": "2021-10-12T01:00:09.033468Z",
     "shell.execute_reply": "2021-10-12T01:00:09.034716Z"
    },
    "papermill": {
     "duration": 0.063839,
     "end_time": "2021-10-12T01:00:09.035106",
     "exception": false,
     "start_time": "2021-10-12T01:00:08.971267",
     "status": "completed"
    },
    "tags": []
   },
   "outputs": [
    {
     "data": {
      "text/html": [
       "<div>\n",
       "<style scoped>\n",
       "    .dataframe tbody tr th:only-of-type {\n",
       "        vertical-align: middle;\n",
       "    }\n",
       "\n",
       "    .dataframe tbody tr th {\n",
       "        vertical-align: top;\n",
       "    }\n",
       "\n",
       "    .dataframe thead th {\n",
       "        text-align: right;\n",
       "    }\n",
       "</style>\n",
       "<table border=\"1\" class=\"dataframe\">\n",
       "  <thead>\n",
       "    <tr style=\"text-align: right;\">\n",
       "      <th></th>\n",
       "      <th>RECORD_TIME</th>\n",
       "    </tr>\n",
       "  </thead>\n",
       "  <tbody>\n",
       "    <tr>\n",
       "      <th>0</th>\n",
       "      <td>2021-10-12 03:00</td>\n",
       "    </tr>\n",
       "    <tr>\n",
       "      <th>1</th>\n",
       "      <td>2021-10-12 02:30</td>\n",
       "    </tr>\n",
       "  </tbody>\n",
       "</table>\n",
       "</div>"
      ],
      "text/plain": [
       "        RECORD_TIME\n",
       "0  2021-10-12 03:00\n",
       "1  2021-10-12 02:30"
      ]
     },
     "execution_count": 3,
     "metadata": {},
     "output_type": "execute_result"
    }
   ],
   "source": [
    "timestamps"
   ]
  },
  {
   "cell_type": "code",
   "execution_count": 4,
   "id": "alternate-victory",
   "metadata": {
    "execution": {
     "iopub.execute_input": "2021-10-12T01:00:09.099635Z",
     "iopub.status.busy": "2021-10-12T01:00:09.097788Z",
     "iopub.status.idle": "2021-10-12T01:00:09.858042Z",
     "shell.execute_reply": "2021-10-12T01:00:09.859445Z"
    },
    "papermill": {
     "duration": 0.794426,
     "end_time": "2021-10-12T01:00:09.859880",
     "exception": false,
     "start_time": "2021-10-12T01:00:09.065454",
     "status": "completed"
    },
    "tags": []
   },
   "outputs": [],
   "source": [
    "df = pd.read_sql(\"select * from EBAY_TOP_BERLIN where record_time in (select distinct record_time from EBAY_TOP_BERLIN order by record_time desc limit 2)\", sqlite3.connect(\"UsedObjects.db\"))"
   ]
  },
  {
   "cell_type": "code",
   "execution_count": 5,
   "id": "popular-active",
   "metadata": {
    "execution": {
     "iopub.execute_input": "2021-10-12T01:00:09.930322Z",
     "iopub.status.busy": "2021-10-12T01:00:09.918343Z",
     "iopub.status.idle": "2021-10-12T01:00:09.947030Z",
     "shell.execute_reply": "2021-10-12T01:00:09.948425Z"
    },
    "papermill": {
     "duration": 0.068834,
     "end_time": "2021-10-12T01:00:09.949048",
     "exception": false,
     "start_time": "2021-10-12T01:00:09.880214",
     "status": "completed"
    },
    "tags": []
   },
   "outputs": [],
   "source": [
    "df_pivot = df.pivot_table(index=\"PRODUCT\", columns = \"RECORD_TIME\", values = \"LISTING_COUNT\")"
   ]
  },
  {
   "cell_type": "code",
   "execution_count": 6,
   "id": "union-huntington",
   "metadata": {
    "execution": {
     "iopub.execute_input": "2021-10-12T01:00:10.007760Z",
     "iopub.status.busy": "2021-10-12T01:00:10.005317Z",
     "iopub.status.idle": "2021-10-12T01:00:10.011001Z",
     "shell.execute_reply": "2021-10-12T01:00:10.012205Z"
    },
    "papermill": {
     "duration": 0.041589,
     "end_time": "2021-10-12T01:00:10.012629",
     "exception": false,
     "start_time": "2021-10-12T01:00:09.971040",
     "status": "completed"
    },
    "tags": []
   },
   "outputs": [],
   "source": [
    "df_pivot.columns = [\"stamp_1\", \"stamp_2\"]\n",
    "df_pivot_diff = df_pivot.diff(axis=1)"
   ]
  },
  {
   "cell_type": "code",
   "execution_count": 7,
   "id": "fifth-motion",
   "metadata": {
    "execution": {
     "iopub.execute_input": "2021-10-12T01:00:10.066232Z",
     "iopub.status.busy": "2021-10-12T01:00:10.063762Z",
     "iopub.status.idle": "2021-10-12T01:00:11.573264Z",
     "shell.execute_reply": "2021-10-12T01:00:11.574682Z"
    },
    "papermill": {
     "duration": 1.542567,
     "end_time": "2021-10-12T01:00:11.575117",
     "exception": false,
     "start_time": "2021-10-12T01:00:10.032550",
     "status": "completed"
    },
    "tags": []
   },
   "outputs": [
    {
     "data": {
      "text/plain": [
       "<AxesSubplot:ylabel='PRODUCT'>"
      ]
     },
     "execution_count": 7,
     "metadata": {},
     "output_type": "execute_result"
    },
    {
     "data": {
      "image/png": "[encoded data removed]",
      "text/plain": [
       "<Figure size 432x288 with 1 Axes>"
      ]
     },
     "metadata": {
      "needs_background": "light"
     },
     "output_type": "display_data"
    }
   ],
   "source": [
    "df_pivot_diff.sort_values(\"stamp_2\", ascending = False)[\"stamp_2\"].head(10).plot.barh()"
   ]
  },
  {
   "cell_type": "code",
   "execution_count": null,
   "id": "extra-executive",
   "metadata": {
    "papermill": {
     "duration": 0.021862,
     "end_time": "2021-10-12T01:00:11.620267",
     "exception": false,
     "start_time": "2021-10-12T01:00:11.598405",
     "status": "completed"
    },
    "tags": []
   },
   "outputs": [],
   "source": []
  }
 ],
 "metadata": {
  "kernelspec": {
   "display_name": "Python 3",
   "language": "python",
   "name": "python3"
  },
  "language_info": {
   "codemirror_mode": {
    "name": "ipython",
    "version": 3
   },
   "file_extension": ".py",
   "mimetype": "text/x-python",
   "name": "python",
   "nbconvert_exporter": "python",
   "pygments_lexer": "ipython3",
   "version": "3.9.5"
  },
  "papermill": {
   "default_parameters": {},
   "duration": 7.816632,
   "end_time": "2021-10-12T01:00:12.941922",
   "environment_variables": {},
   "exception": null,
   "input_path": "eBay_Overview.ipynb",
   "output_path": "eBay_Overview.ipynb",
   "parameters": {},
   "start_time": "2021-10-12T01:00:05.125290",
   "version": "2.3.3"
  }
 },
 "nbformat": 4,
 "nbformat_minor": 5
}