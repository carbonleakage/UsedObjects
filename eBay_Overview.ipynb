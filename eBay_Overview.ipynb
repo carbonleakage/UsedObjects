{
 "cells": [
  {
   "cell_type": "code",
   "execution_count": 1,
   "id": "reverse-picking",
   "metadata": {
    "execution": {
     "iopub.execute_input": "2021-08-16T13:00:07.196235Z",
     "iopub.status.busy": "2021-08-16T13:00:07.194274Z",
     "iopub.status.idle": "2021-08-16T13:00:08.007194Z",
     "shell.execute_reply": "2021-08-16T13:00:08.008500Z"
    },
    "papermill": {
     "duration": 0.866723,
     "end_time": "2021-08-16T13:00:08.009128",
     "exception": false,
     "start_time": "2021-08-16T13:00:07.142405",
     "status": "completed"
    },
    "tags": []
   },
   "outputs": [],
   "source": [
    "import pandas as pd\n",
    "import sqlite3"
   ]
  },
  {
   "cell_type": "code",
   "execution_count": 2,
   "id": "innovative-syndrome",
   "metadata": {
    "execution": {
     "iopub.execute_input": "2021-08-16T13:00:08.058696Z",
     "iopub.status.busy": "2021-08-16T13:00:08.056706Z",
     "iopub.status.idle": "2021-08-16T13:00:08.117553Z",
     "shell.execute_reply": "2021-08-16T13:00:08.118982Z"
    },
    "papermill": {
     "duration": 0.090483,
     "end_time": "2021-08-16T13:00:08.119411",
     "exception": false,
     "start_time": "2021-08-16T13:00:08.028928",
     "status": "completed"
    },
    "tags": []
   },
   "outputs": [],
   "source": [
    "timestamps = pd.read_sql(\"select distinct record_time from EBAY_TOP_BERLIN order by record_time desc limit 2\", sqlite3.connect(\"UsedObjects.db\"))"
   ]
  },
  {
   "cell_type": "code",
   "execution_count": 3,
   "id": "periodic-identification",
   "metadata": {
    "execution": {
     "iopub.execute_input": "2021-08-16T13:00:08.185876Z",
     "iopub.status.busy": "2021-08-16T13:00:08.183827Z",
     "iopub.status.idle": "2021-08-16T13:00:08.206433Z",
     "shell.execute_reply": "2021-08-16T13:00:08.207814Z"
    },
    "papermill": {
     "duration": 0.068337,
     "end_time": "2021-08-16T13:00:08.208302",
     "exception": false,
     "start_time": "2021-08-16T13:00:08.139965",
     "status": "completed"
    },
    "tags": []
   },
   "outputs": [
    {
     "data": {
      "text/html": [
       "<div>\n",
       "<style scoped>\n",
       "    .dataframe tbody tr th:only-of-type {\n",
       "        vertical-align: middle;\n",
       "    }\n",
       "\n",
       "    .dataframe tbody tr th {\n",
       "        vertical-align: top;\n",
       "    }\n",
       "\n",
       "    .dataframe thead th {\n",
       "        text-align: right;\n",
       "    }\n",
       "</style>\n",
       "<table border=\"1\" class=\"dataframe\">\n",
       "  <thead>\n",
       "    <tr style=\"text-align: right;\">\n",
       "      <th></th>\n",
       "      <th>RECORD_TIME</th>\n",
       "    </tr>\n",
       "  </thead>\n",
       "  <tbody>\n",
       "    <tr>\n",
       "      <th>0</th>\n",
       "      <td>2021-08-16 15:00</td>\n",
       "    </tr>\n",
       "    <tr>\n",
       "      <th>1</th>\n",
       "      <td>2021-08-16 14:30</td>\n",
       "    </tr>\n",
       "  </tbody>\n",
       "</table>\n",
       "</div>"
      ],
      "text/plain": [
       "        RECORD_TIME\n",
       "0  2021-08-16 15:00\n",
       "1  2021-08-16 14:30"
      ]
     },
     "execution_count": 3,
     "metadata": {},
     "output_type": "execute_result"
    }
   ],
   "source": [
    "timestamps"
   ]
  },
  {
   "cell_type": "code",
   "execution_count": 4,
   "id": "alternate-victory",
   "metadata": {
    "execution": {
     "iopub.execute_input": "2021-08-16T13:00:08.259806Z",
     "iopub.status.busy": "2021-08-16T13:00:08.257573Z",
     "iopub.status.idle": "2021-08-16T13:00:08.354993Z",
     "shell.execute_reply": "2021-08-16T13:00:08.356391Z"
    },
    "papermill": {
     "duration": 0.127437,
     "end_time": "2021-08-16T13:00:08.356838",
     "exception": false,
     "start_time": "2021-08-16T13:00:08.229401",
     "status": "completed"
    },
    "tags": []
   },
   "outputs": [],
   "source": [
    "df = pd.read_sql(\"select * from EBAY_TOP_BERLIN where record_time in (select distinct record_time from EBAY_TOP_BERLIN order by record_time desc limit 2)\", sqlite3.connect(\"UsedObjects.db\"))"
   ]
  },
  {
   "cell_type": "code",
   "execution_count": 5,
   "id": "popular-active",
   "metadata": {
    "execution": {
     "iopub.execute_input": "2021-08-16T13:00:08.427839Z",
     "iopub.status.busy": "2021-08-16T13:00:08.416637Z",
     "iopub.status.idle": "2021-08-16T13:00:08.444961Z",
     "shell.execute_reply": "2021-08-16T13:00:08.446649Z"
    },
    "papermill": {
     "duration": 0.069993,
     "end_time": "2021-08-16T13:00:08.447143",
     "exception": false,
     "start_time": "2021-08-16T13:00:08.377150",
     "status": "completed"
    },
    "tags": []
   },
   "outputs": [],
   "source": [
    "df_pivot = df.pivot_table(index=\"PRODUCT\", columns = \"RECORD_TIME\", values = \"LISTING_COUNT\")"
   ]
  },
  {
   "cell_type": "code",
   "execution_count": 6,
   "id": "union-huntington",
   "metadata": {
    "execution": {
     "iopub.execute_input": "2021-08-16T13:00:08.506200Z",
     "iopub.status.busy": "2021-08-16T13:00:08.503721Z",
     "iopub.status.idle": "2021-08-16T13:00:08.509627Z",
     "shell.execute_reply": "2021-08-16T13:00:08.511035Z"
    },
    "papermill": {
     "duration": 0.042505,
     "end_time": "2021-08-16T13:00:08.511474",
     "exception": false,
     "start_time": "2021-08-16T13:00:08.468969",
     "status": "completed"
    },
    "tags": []
   },
   "outputs": [],
   "source": [
    "df_pivot.columns = [\"stamp_1\", \"stamp_2\"]\n",
    "df_pivot_diff = df_pivot.diff(axis=1)"
   ]
  },
  {
   "cell_type": "code",
   "execution_count": 7,
   "id": "fifth-motion",
   "metadata": {
    "execution": {
     "iopub.execute_input": "2021-08-16T13:00:08.565495Z",
     "iopub.status.busy": "2021-08-16T13:00:08.563174Z",
     "iopub.status.idle": "2021-08-16T13:00:10.041045Z",
     "shell.execute_reply": "2021-08-16T13:00:10.042575Z"
    },
    "papermill": {
     "duration": 1.511225,
     "end_time": "2021-08-16T13:00:10.043070",
     "exception": false,
     "start_time": "2021-08-16T13:00:08.531845",
     "status": "completed"
    },
    "tags": []
   },
   "outputs": [
    {
     "data": {
      "text/plain": [
       "<AxesSubplot:ylabel='PRODUCT'>"
      ]
     },
     "execution_count": 7,
     "metadata": {},
     "output_type": "execute_result"
    },
    {
     "data": {
      "image/png": "[encoded data removed]",
      "text/plain": [
       "<Figure size 432x288 with 1 Axes>"
      ]
     },
     "metadata": {
      "needs_background": "light"
     },
     "output_type": "display_data"
    }
   ],
   "source": [
    "df_pivot_diff.sort_values(\"stamp_2\", ascending = False)[\"stamp_2\"].head(10).plot.barh()"
   ]
  },
  {
   "cell_type": "code",
   "execution_count": null,
   "id": "extra-executive",
   "metadata": {
    "papermill": {
     "duration": 0.021888,
     "end_time": "2021-08-16T13:00:10.089342",
     "exception": false,
     "start_time": "2021-08-16T13:00:10.067454",
     "status": "completed"
    },
    "tags": []
   },
   "outputs": [],
   "source": []
  }
 ],
 "metadata": {
  "kernelspec": {
   "display_name": "Python 3",
   "language": "python",
   "name": "python3"
  },
  "language_info": {
   "codemirror_mode": {
    "name": "ipython",
    "version": 3
   },
   "file_extension": ".py",
   "mimetype": "text/x-python",
   "name": "python",
   "nbconvert_exporter": "python",
   "pygments_lexer": "ipython3",
   "version": "3.9.5"
  },
  "papermill": {
   "default_parameters": {},
   "duration": 6.838132,
   "end_time": "2021-08-16T13:00:11.550706",
   "environment_variables": {},
   "exception": null,
   "input_path": "eBay_Overview.ipynb",
   "output_path": "eBay_Overview.ipynb",
   "parameters": {},
   "start_time": "2021-08-16T13:00:04.712574",
   "version": "2.3.3"
  }
 },
 "nbformat": 4,
 "nbformat_minor": 5
}