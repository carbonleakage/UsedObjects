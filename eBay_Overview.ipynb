{
 "cells": [
  {
   "cell_type": "code",
   "execution_count": 1,
   "id": "reverse-picking",
   "metadata": {
    "execution": {
     "iopub.execute_input": "2021-10-11T08:30:06.592661Z",
     "iopub.status.busy": "2021-10-11T08:30:06.590743Z",
     "iopub.status.idle": "2021-10-11T08:30:07.393621Z",
     "shell.execute_reply": "2021-10-11T08:30:07.395065Z"
    },
    "papermill": {
     "duration": 0.854595,
     "end_time": "2021-10-11T08:30:07.395746",
     "exception": false,
     "start_time": "2021-10-11T08:30:06.541151",
     "status": "completed"
    },
    "tags": []
   },
   "outputs": [],
   "source": [
    "import pandas as pd\n",
    "import sqlite3"
   ]
  },
  {
   "cell_type": "code",
   "execution_count": 2,
   "id": "innovative-syndrome",
   "metadata": {
    "execution": {
     "iopub.execute_input": "2021-10-11T08:30:07.446498Z",
     "iopub.status.busy": "2021-10-11T08:30:07.444078Z",
     "iopub.status.idle": "2021-10-11T08:30:07.953330Z",
     "shell.execute_reply": "2021-10-11T08:30:07.954478Z"
    },
    "papermill": {
     "duration": 0.538884,
     "end_time": "2021-10-11T08:30:07.954888",
     "exception": false,
     "start_time": "2021-10-11T08:30:07.416004",
     "status": "completed"
    },
    "tags": []
   },
   "outputs": [],
   "source": [
    "timestamps = pd.read_sql(\"select distinct record_time from EBAY_TOP_BERLIN order by record_time desc limit 2\", sqlite3.connect(\"UsedObjects.db\"))"
   ]
  },
  {
   "cell_type": "code",
   "execution_count": 3,
   "id": "periodic-identification",
   "metadata": {
    "execution": {
     "iopub.execute_input": "2021-10-11T08:30:08.025825Z",
     "iopub.status.busy": "2021-10-11T08:30:08.020931Z",
     "iopub.status.idle": "2021-10-11T08:30:08.043526Z",
     "shell.execute_reply": "2021-10-11T08:30:08.044975Z"
    },
    "papermill": {
     "duration": 0.068279,
     "end_time": "2021-10-11T08:30:08.045461",
     "exception": false,
     "start_time": "2021-10-11T08:30:07.977182",
     "status": "completed"
    },
    "tags": []
   },
   "outputs": [
    {
     "data": {
      "text/html": [
       "<div>\n",
       "<style scoped>\n",
       "    .dataframe tbody tr th:only-of-type {\n",
       "        vertical-align: middle;\n",
       "    }\n",
       "\n",
       "    .dataframe tbody tr th {\n",
       "        vertical-align: top;\n",
       "    }\n",
       "\n",
       "    .dataframe thead th {\n",
       "        text-align: right;\n",
       "    }\n",
       "</style>\n",
       "<table border=\"1\" class=\"dataframe\">\n",
       "  <thead>\n",
       "    <tr style=\"text-align: right;\">\n",
       "      <th></th>\n",
       "      <th>RECORD_TIME</th>\n",
       "    </tr>\n",
       "  </thead>\n",
       "  <tbody>\n",
       "    <tr>\n",
       "      <th>0</th>\n",
       "      <td>2021-10-11 10:30</td>\n",
       "    </tr>\n",
       "    <tr>\n",
       "      <th>1</th>\n",
       "      <td>2021-10-11 10:00</td>\n",
       "    </tr>\n",
       "  </tbody>\n",
       "</table>\n",
       "</div>"
      ],
      "text/plain": [
       "        RECORD_TIME\n",
       "0  2021-10-11 10:30\n",
       "1  2021-10-11 10:00"
      ]
     },
     "execution_count": 3,
     "metadata": {},
     "output_type": "execute_result"
    }
   ],
   "source": [
    "timestamps"
   ]
  },
  {
   "cell_type": "code",
   "execution_count": 4,
   "id": "alternate-victory",
   "metadata": {
    "execution": {
     "iopub.execute_input": "2021-10-11T08:30:08.103536Z",
     "iopub.status.busy": "2021-10-11T08:30:08.101650Z",
     "iopub.status.idle": "2021-10-11T08:30:08.848293Z",
     "shell.execute_reply": "2021-10-11T08:30:08.849671Z"
    },
    "papermill": {
     "duration": 0.779504,
     "end_time": "2021-10-11T08:30:08.850100",
     "exception": false,
     "start_time": "2021-10-11T08:30:08.070596",
     "status": "completed"
    },
    "tags": []
   },
   "outputs": [],
   "source": [
    "df = pd.read_sql(\"select * from EBAY_TOP_BERLIN where record_time in (select distinct record_time from EBAY_TOP_BERLIN order by record_time desc limit 2)\", sqlite3.connect(\"UsedObjects.db\"))"
   ]
  },
  {
   "cell_type": "code",
   "execution_count": 5,
   "id": "popular-active",
   "metadata": {
    "execution": {
     "iopub.execute_input": "2021-10-11T08:30:08.914800Z",
     "iopub.status.busy": "2021-10-11T08:30:08.907322Z",
     "iopub.status.idle": "2021-10-11T08:30:08.935215Z",
     "shell.execute_reply": "2021-10-11T08:30:08.936446Z"
    },
    "papermill": {
     "duration": 0.067048,
     "end_time": "2021-10-11T08:30:08.937029",
     "exception": false,
     "start_time": "2021-10-11T08:30:08.869981",
     "status": "completed"
    },
    "tags": []
   },
   "outputs": [],
   "source": [
    "df_pivot = df.pivot_table(index=\"PRODUCT\", columns = \"RECORD_TIME\", values = \"LISTING_COUNT\")"
   ]
  },
  {
   "cell_type": "code",
   "execution_count": 6,
   "id": "union-huntington",
   "metadata": {
    "execution": {
     "iopub.execute_input": "2021-10-11T08:30:08.995982Z",
     "iopub.status.busy": "2021-10-11T08:30:08.993554Z",
     "iopub.status.idle": "2021-10-11T08:30:08.999541Z",
     "shell.execute_reply": "2021-10-11T08:30:09.000874Z"
    },
    "papermill": {
     "duration": 0.042132,
     "end_time": "2021-10-11T08:30:09.001330",
     "exception": false,
     "start_time": "2021-10-11T08:30:08.959198",
     "status": "completed"
    },
    "tags": []
   },
   "outputs": [],
   "source": [
    "df_pivot.columns = [\"stamp_1\", \"stamp_2\"]\n",
    "df_pivot_diff = df_pivot.diff(axis=1)"
   ]
  },
  {
   "cell_type": "code",
   "execution_count": 7,
   "id": "fifth-motion",
   "metadata": {
    "execution": {
     "iopub.execute_input": "2021-10-11T08:30:09.054816Z",
     "iopub.status.busy": "2021-10-11T08:30:09.052475Z",
     "iopub.status.idle": "2021-10-11T08:30:10.559345Z",
     "shell.execute_reply": "2021-10-11T08:30:10.560554Z"
    },
    "papermill": {
     "duration": 1.53949,
     "end_time": "2021-10-11T08:30:10.561049",
     "exception": false,
     "start_time": "2021-10-11T08:30:09.021559",
     "status": "completed"
    },
    "tags": []
   },
   "outputs": [
    {
     "data": {
      "text/plain": [
       "<AxesSubplot:ylabel='PRODUCT'>"
      ]
     },
     "execution_count": 7,
     "metadata": {},
     "output_type": "execute_result"
    },
    {
     "data": {
      "image/png": "[encoded data removed]",
      "text/plain": [
       "<Figure size 432x288 with 1 Axes>"
      ]
     },
     "metadata": {
      "needs_background": "light"
     },
     "output_type": "display_data"
    }
   ],
   "source": [
    "df_pivot_diff.sort_values(\"stamp_2\", ascending = False)[\"stamp_2\"].head(10).plot.barh()"
   ]
  },
  {
   "cell_type": "code",
   "execution_count": null,
   "id": "extra-executive",
   "metadata": {
    "papermill": {
     "duration": 0.022087,
     "end_time": "2021-10-11T08:30:10.608449",
     "exception": false,
     "start_time": "2021-10-11T08:30:10.586362",
     "status": "completed"
    },
    "tags": []
   },
   "outputs": [],
   "source": []
  }
 ],
 "metadata": {
  "kernelspec": {
   "display_name": "Python 3",
   "language": "python",
   "name": "python3"
  },
  "language_info": {
   "codemirror_mode": {
    "name": "ipython",
    "version": 3
   },
   "file_extension": ".py",
   "mimetype": "text/x-python",
   "name": "python",
   "nbconvert_exporter": "python",
   "pygments_lexer": "ipython3",
   "version": "3.9.5"
  },
  "papermill": {
   "default_parameters": {},
   "duration": 7.82608,
   "end_time": "2021-10-11T08:30:11.962727",
   "environment_variables": {},
   "exception": null,
   "input_path": "eBay_Overview.ipynb",
   "output_path": "eBay_Overview.ipynb",
   "parameters": {},
   "start_time": "2021-10-11T08:30:04.136647",
   "version": "2.3.3"
  }
 },
 "nbformat": 4,
 "nbformat_minor": 5
}