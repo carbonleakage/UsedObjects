{
 "cells": [
  {
   "cell_type": "code",
   "execution_count": 1,
   "id": "reverse-picking",
   "metadata": {
    "execution": {
     "iopub.execute_input": "2021-12-17T18:00:07.716741Z",
     "iopub.status.busy": "2021-12-17T18:00:07.714712Z",
     "iopub.status.idle": "2021-12-17T18:00:08.685645Z",
     "shell.execute_reply": "2021-12-17T18:00:08.687177Z"
    },
    "papermill": {
     "duration": 1.019428,
     "end_time": "2021-12-17T18:00:08.687927",
     "exception": false,
     "start_time": "2021-12-17T18:00:07.668499",
     "status": "completed"
    },
    "tags": []
   },
   "outputs": [],
   "source": [
    "import pandas as pd\n",
    "import sqlite3"
   ]
  },
  {
   "cell_type": "code",
   "execution_count": 2,
   "id": "innovative-syndrome",
   "metadata": {
    "execution": {
     "iopub.execute_input": "2021-12-17T18:00:08.753623Z",
     "iopub.status.busy": "2021-12-17T18:00:08.751014Z",
     "iopub.status.idle": "2021-12-17T18:00:09.865068Z",
     "shell.execute_reply": "2021-12-17T18:00:09.866716Z"
    },
    "papermill": {
     "duration": 1.148635,
     "end_time": "2021-12-17T18:00:09.867135",
     "exception": false,
     "start_time": "2021-12-17T18:00:08.718500",
     "status": "completed"
    },
    "tags": []
   },
   "outputs": [],
   "source": [
    "timestamps = pd.read_sql(\"select distinct record_time from EBAY_TOP_BERLIN order by record_time desc limit 2\", sqlite3.connect(\"UsedObjects.db\"))"
   ]
  },
  {
   "cell_type": "code",
   "execution_count": 3,
   "id": "periodic-identification",
   "metadata": {
    "execution": {
     "iopub.execute_input": "2021-12-17T18:00:09.951559Z",
     "iopub.status.busy": "2021-12-17T18:00:09.949243Z",
     "iopub.status.idle": "2021-12-17T18:00:09.972553Z",
     "shell.execute_reply": "2021-12-17T18:00:09.974110Z"
    },
    "papermill": {
     "duration": 0.074513,
     "end_time": "2021-12-17T18:00:09.974627",
     "exception": false,
     "start_time": "2021-12-17T18:00:09.900114",
     "status": "completed"
    },
    "tags": []
   },
   "outputs": [
    {
     "data": {
      "text/html": [
       "<div>\n",
       "<style scoped>\n",
       "    .dataframe tbody tr th:only-of-type {\n",
       "        vertical-align: middle;\n",
       "    }\n",
       "\n",
       "    .dataframe tbody tr th {\n",
       "        vertical-align: top;\n",
       "    }\n",
       "\n",
       "    .dataframe thead th {\n",
       "        text-align: right;\n",
       "    }\n",
       "</style>\n",
       "<table border=\"1\" class=\"dataframe\">\n",
       "  <thead>\n",
       "    <tr style=\"text-align: right;\">\n",
       "      <th></th>\n",
       "      <th>RECORD_TIME</th>\n",
       "    </tr>\n",
       "  </thead>\n",
       "  <tbody>\n",
       "    <tr>\n",
       "      <th>0</th>\n",
       "      <td>2021-12-17 19:00</td>\n",
       "    </tr>\n",
       "    <tr>\n",
       "      <th>1</th>\n",
       "      <td>2021-12-17 18:30</td>\n",
       "    </tr>\n",
       "  </tbody>\n",
       "</table>\n",
       "</div>"
      ],
      "text/plain": [
       "        RECORD_TIME\n",
       "0  2021-12-17 19:00\n",
       "1  2021-12-17 18:30"
      ]
     },
     "execution_count": 3,
     "metadata": {},
     "output_type": "execute_result"
    }
   ],
   "source": [
    "timestamps"
   ]
  },
  {
   "cell_type": "code",
   "execution_count": 4,
   "id": "alternate-victory",
   "metadata": {
    "execution": {
     "iopub.execute_input": "2021-12-17T18:00:10.031297Z",
     "iopub.status.busy": "2021-12-17T18:00:10.029043Z",
     "iopub.status.idle": "2021-12-17T18:00:11.613712Z",
     "shell.execute_reply": "2021-12-17T18:00:11.616250Z"
    },
    "papermill": {
     "duration": 1.620885,
     "end_time": "2021-12-17T18:00:11.616943",
     "exception": false,
     "start_time": "2021-12-17T18:00:09.996058",
     "status": "completed"
    },
    "tags": []
   },
   "outputs": [],
   "source": [
    "df = pd.read_sql(\"select * from EBAY_TOP_BERLIN where record_time in (select distinct record_time from EBAY_TOP_BERLIN order by record_time desc limit 2)\", sqlite3.connect(\"UsedObjects.db\"))"
   ]
  },
  {
   "cell_type": "code",
   "execution_count": 5,
   "id": "popular-active",
   "metadata": {
    "execution": {
     "iopub.execute_input": "2021-12-17T18:00:11.697778Z",
     "iopub.status.busy": "2021-12-17T18:00:11.683478Z",
     "iopub.status.idle": "2021-12-17T18:00:11.715465Z",
     "shell.execute_reply": "2021-12-17T18:00:11.716906Z"
    },
    "papermill": {
     "duration": 0.078218,
     "end_time": "2021-12-17T18:00:11.717395",
     "exception": false,
     "start_time": "2021-12-17T18:00:11.639177",
     "status": "completed"
    },
    "tags": []
   },
   "outputs": [],
   "source": [
    "df_pivot = df.pivot_table(index=\"PRODUCT\", columns = \"RECORD_TIME\", values = \"LISTING_COUNT\")"
   ]
  },
  {
   "cell_type": "code",
   "execution_count": 6,
   "id": "union-huntington",
   "metadata": {
    "execution": {
     "iopub.execute_input": "2021-12-17T18:00:11.775989Z",
     "iopub.status.busy": "2021-12-17T18:00:11.773799Z",
     "iopub.status.idle": "2021-12-17T18:00:11.780480Z",
     "shell.execute_reply": "2021-12-17T18:00:11.778579Z"
    },
    "papermill": {
     "duration": 0.043669,
     "end_time": "2021-12-17T18:00:11.780943",
     "exception": false,
     "start_time": "2021-12-17T18:00:11.737274",
     "status": "completed"
    },
    "tags": []
   },
   "outputs": [],
   "source": [
    "df_pivot.columns = [\"stamp_1\", \"stamp_2\"]\n",
    "df_pivot_diff = df_pivot.diff(axis=1)"
   ]
  },
  {
   "cell_type": "code",
   "execution_count": 7,
   "id": "fifth-motion",
   "metadata": {
    "execution": {
     "iopub.execute_input": "2021-12-17T18:00:11.838162Z",
     "iopub.status.busy": "2021-12-17T18:00:11.835541Z",
     "iopub.status.idle": "2021-12-17T18:00:13.794717Z",
     "shell.execute_reply": "2021-12-17T18:00:13.795928Z"
    },
    "papermill": {
     "duration": 1.994664,
     "end_time": "2021-12-17T18:00:13.796369",
     "exception": false,
     "start_time": "2021-12-17T18:00:11.801705",
     "status": "completed"
    },
    "tags": []
   },
   "outputs": [
    {
     "data": {
      "text/plain": [
       "<AxesSubplot:ylabel='PRODUCT'>"
      ]
     },
     "execution_count": 7,
     "metadata": {},
     "output_type": "execute_result"
    },
    {
     "data": {
      "image/png": "[encoded data removed]",
      "text/plain": [
       "<Figure size 432x288 with 1 Axes>"
      ]
     },
     "metadata": {
      "needs_background": "light"
     },
     "output_type": "display_data"
    }
   ],
   "source": [
    "df_pivot_diff.sort_values(\"stamp_2\", ascending = False)[\"stamp_2\"].head(10).plot.barh()"
   ]
  },
  {
   "cell_type": "code",
   "execution_count": null,
   "id": "extra-executive",
   "metadata": {
    "papermill": {
     "duration": 0.022212,
     "end_time": "2021-12-17T18:00:13.844958",
     "exception": false,
     "start_time": "2021-12-17T18:00:13.822746",
     "status": "completed"
    },
    "tags": []
   },
   "outputs": [],
   "source": []
  }
 ],
 "metadata": {
  "kernelspec": {
   "display_name": "Python 3",
   "language": "python",
   "name": "python3"
  },
  "language_info": {
   "codemirror_mode": {
    "name": "ipython",
    "version": 3
   },
   "file_extension": ".py",
   "mimetype": "text/x-python",
   "name": "python",
   "nbconvert_exporter": "python",
   "pygments_lexer": "ipython3",
   "version": "3.9.5"
  },
  "papermill": {
   "default_parameters": {},
   "duration": 9.562045,
   "end_time": "2021-12-17T18:00:14.486343",
   "environment_variables": {},
   "exception": null,
   "input_path": "eBay_Overview.ipynb",
   "output_path": "eBay_Overview.ipynb",
   "parameters": {},
   "start_time": "2021-12-17T18:00:04.924298",
   "version": "2.3.3"
  }
 },
 "nbformat": 4,
 "nbformat_minor": 5
}