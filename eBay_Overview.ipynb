{
 "cells": [
  {
   "cell_type": "code",
   "execution_count": 1,
   "id": "reverse-picking",
   "metadata": {
    "execution": {
     "iopub.execute_input": "2021-12-07T13:30:08.289197Z",
     "iopub.status.busy": "2021-12-07T13:30:08.286505Z",
     "iopub.status.idle": "2021-12-07T13:30:09.202929Z",
     "shell.execute_reply": "2021-12-07T13:30:09.204204Z"
    },
    "papermill": {
     "duration": 0.96708,
     "end_time": "2021-12-07T13:30:09.204884",
     "exception": false,
     "start_time": "2021-12-07T13:30:08.237804",
     "status": "completed"
    },
    "tags": []
   },
   "outputs": [],
   "source": [
    "import pandas as pd\n",
    "import sqlite3"
   ]
  },
  {
   "cell_type": "code",
   "execution_count": 2,
   "id": "innovative-syndrome",
   "metadata": {
    "execution": {
     "iopub.execute_input": "2021-12-07T13:30:09.259727Z",
     "iopub.status.busy": "2021-12-07T13:30:09.257318Z",
     "iopub.status.idle": "2021-12-07T13:30:10.277971Z",
     "shell.execute_reply": "2021-12-07T13:30:10.279536Z"
    },
    "papermill": {
     "duration": 1.055008,
     "end_time": "2021-12-07T13:30:10.280073",
     "exception": false,
     "start_time": "2021-12-07T13:30:09.225065",
     "status": "completed"
    },
    "tags": []
   },
   "outputs": [],
   "source": [
    "timestamps = pd.read_sql(\"select distinct record_time from EBAY_TOP_BERLIN order by record_time desc limit 2\", sqlite3.connect(\"UsedObjects.db\"))"
   ]
  },
  {
   "cell_type": "code",
   "execution_count": 3,
   "id": "periodic-identification",
   "metadata": {
    "execution": {
     "iopub.execute_input": "2021-12-07T13:30:10.352249Z",
     "iopub.status.busy": "2021-12-07T13:30:10.349863Z",
     "iopub.status.idle": "2021-12-07T13:30:10.372754Z",
     "shell.execute_reply": "2021-12-07T13:30:10.374464Z"
    },
    "papermill": {
     "duration": 0.074413,
     "end_time": "2021-12-07T13:30:10.374943",
     "exception": false,
     "start_time": "2021-12-07T13:30:10.300530",
     "status": "completed"
    },
    "tags": []
   },
   "outputs": [
    {
     "data": {
      "text/html": [
       "<div>\n",
       "<style scoped>\n",
       "    .dataframe tbody tr th:only-of-type {\n",
       "        vertical-align: middle;\n",
       "    }\n",
       "\n",
       "    .dataframe tbody tr th {\n",
       "        vertical-align: top;\n",
       "    }\n",
       "\n",
       "    .dataframe thead th {\n",
       "        text-align: right;\n",
       "    }\n",
       "</style>\n",
       "<table border=\"1\" class=\"dataframe\">\n",
       "  <thead>\n",
       "    <tr style=\"text-align: right;\">\n",
       "      <th></th>\n",
       "      <th>RECORD_TIME</th>\n",
       "    </tr>\n",
       "  </thead>\n",
       "  <tbody>\n",
       "    <tr>\n",
       "      <th>0</th>\n",
       "      <td>2021-12-07 14:30</td>\n",
       "    </tr>\n",
       "    <tr>\n",
       "      <th>1</th>\n",
       "      <td>2021-12-07 14:00</td>\n",
       "    </tr>\n",
       "  </tbody>\n",
       "</table>\n",
       "</div>"
      ],
      "text/plain": [
       "        RECORD_TIME\n",
       "0  2021-12-07 14:30\n",
       "1  2021-12-07 14:00"
      ]
     },
     "execution_count": 3,
     "metadata": {},
     "output_type": "execute_result"
    }
   ],
   "source": [
    "timestamps"
   ]
  },
  {
   "cell_type": "code",
   "execution_count": 4,
   "id": "alternate-victory",
   "metadata": {
    "execution": {
     "iopub.execute_input": "2021-12-07T13:30:10.430169Z",
     "iopub.status.busy": "2021-12-07T13:30:10.428035Z",
     "iopub.status.idle": "2021-12-07T13:30:11.918119Z",
     "shell.execute_reply": "2021-12-07T13:30:11.921681Z"
    },
    "papermill": {
     "duration": 1.524754,
     "end_time": "2021-12-07T13:30:11.922303",
     "exception": false,
     "start_time": "2021-12-07T13:30:10.397549",
     "status": "completed"
    },
    "tags": []
   },
   "outputs": [],
   "source": [
    "df = pd.read_sql(\"select * from EBAY_TOP_BERLIN where record_time in (select distinct record_time from EBAY_TOP_BERLIN order by record_time desc limit 2)\", sqlite3.connect(\"UsedObjects.db\"))"
   ]
  },
  {
   "cell_type": "code",
   "execution_count": 5,
   "id": "popular-active",
   "metadata": {
    "execution": {
     "iopub.execute_input": "2021-12-07T13:30:12.009124Z",
     "iopub.status.busy": "2021-12-07T13:30:12.005999Z",
     "iopub.status.idle": "2021-12-07T13:30:12.045426Z",
     "shell.execute_reply": "2021-12-07T13:30:12.046621Z"
    },
    "papermill": {
     "duration": 0.092832,
     "end_time": "2021-12-07T13:30:12.047033",
     "exception": false,
     "start_time": "2021-12-07T13:30:11.954201",
     "status": "completed"
    },
    "tags": []
   },
   "outputs": [],
   "source": [
    "df_pivot = df.pivot_table(index=\"PRODUCT\", columns = \"RECORD_TIME\", values = \"LISTING_COUNT\")"
   ]
  },
  {
   "cell_type": "code",
   "execution_count": 6,
   "id": "union-huntington",
   "metadata": {
    "execution": {
     "iopub.execute_input": "2021-12-07T13:30:12.106484Z",
     "iopub.status.busy": "2021-12-07T13:30:12.104100Z",
     "iopub.status.idle": "2021-12-07T13:30:12.110163Z",
     "shell.execute_reply": "2021-12-07T13:30:12.111546Z"
    },
    "papermill": {
     "duration": 0.043051,
     "end_time": "2021-12-07T13:30:12.112018",
     "exception": false,
     "start_time": "2021-12-07T13:30:12.068967",
     "status": "completed"
    },
    "tags": []
   },
   "outputs": [],
   "source": [
    "df_pivot.columns = [\"stamp_1\", \"stamp_2\"]\n",
    "df_pivot_diff = df_pivot.diff(axis=1)"
   ]
  },
  {
   "cell_type": "code",
   "execution_count": 7,
   "id": "fifth-motion",
   "metadata": {
    "execution": {
     "iopub.execute_input": "2021-12-07T13:30:12.168269Z",
     "iopub.status.busy": "2021-12-07T13:30:12.165782Z",
     "iopub.status.idle": "2021-12-07T13:30:13.860014Z",
     "shell.execute_reply": "2021-12-07T13:30:13.861526Z"
    },
    "papermill": {
     "duration": 1.729674,
     "end_time": "2021-12-07T13:30:13.861974",
     "exception": false,
     "start_time": "2021-12-07T13:30:12.132300",
     "status": "completed"
    },
    "tags": []
   },
   "outputs": [
    {
     "data": {
      "text/plain": [
       "<AxesSubplot:ylabel='PRODUCT'>"
      ]
     },
     "execution_count": 7,
     "metadata": {},
     "output_type": "execute_result"
    },
    {
     "data": {
      "image/png": "[encoded data removed]",
      "text/plain": [
       "<Figure size 432x288 with 1 Axes>"
      ]
     },
     "metadata": {
      "needs_background": "light"
     },
     "output_type": "display_data"
    }
   ],
   "source": [
    "df_pivot_diff.sort_values(\"stamp_2\", ascending = False)[\"stamp_2\"].head(10).plot.barh()"
   ]
  },
  {
   "cell_type": "code",
   "execution_count": null,
   "id": "extra-executive",
   "metadata": {
    "papermill": {
     "duration": 0.022417,
     "end_time": "2021-12-07T13:30:13.908506",
     "exception": false,
     "start_time": "2021-12-07T13:30:13.886089",
     "status": "completed"
    },
    "tags": []
   },
   "outputs": [],
   "source": []
  }
 ],
 "metadata": {
  "kernelspec": {
   "display_name": "Python 3",
   "language": "python",
   "name": "python3"
  },
  "language_info": {
   "codemirror_mode": {
    "name": "ipython",
    "version": 3
   },
   "file_extension": ".py",
   "mimetype": "text/x-python",
   "name": "python",
   "nbconvert_exporter": "python",
   "pygments_lexer": "ipython3",
   "version": "3.9.5"
  },
  "papermill": {
   "default_parameters": {},
   "duration": 9.949599,
   "end_time": "2021-12-07T13:30:15.441694",
   "environment_variables": {},
   "exception": null,
   "input_path": "eBay_Overview.ipynb",
   "output_path": "eBay_Overview.ipynb",
   "parameters": {},
   "start_time": "2021-12-07T13:30:05.492095",
   "version": "2.3.3"
  }
 },
 "nbformat": 4,
 "nbformat_minor": 5
}