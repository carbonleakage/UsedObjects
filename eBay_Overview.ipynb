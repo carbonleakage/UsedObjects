{
 "cells": [
  {
   "cell_type": "code",
   "execution_count": 1,
   "id": "reverse-picking",
   "metadata": {
    "execution": {
     "iopub.execute_input": "2021-08-29T00:00:06.930505Z",
     "iopub.status.busy": "2021-08-29T00:00:06.928400Z",
     "iopub.status.idle": "2021-08-29T00:00:07.731536Z",
     "shell.execute_reply": "2021-08-29T00:00:07.733017Z"
    },
    "papermill": {
     "duration": 0.854748,
     "end_time": "2021-08-29T00:00:07.733680",
     "exception": false,
     "start_time": "2021-08-29T00:00:06.878932",
     "status": "completed"
    },
    "tags": []
   },
   "outputs": [],
   "source": [
    "import pandas as pd\n",
    "import sqlite3"
   ]
  },
  {
   "cell_type": "code",
   "execution_count": 2,
   "id": "innovative-syndrome",
   "metadata": {
    "execution": {
     "iopub.execute_input": "2021-08-29T00:00:07.783915Z",
     "iopub.status.busy": "2021-08-29T00:00:07.782056Z",
     "iopub.status.idle": "2021-08-29T00:00:07.936489Z",
     "shell.execute_reply": "2021-08-29T00:00:07.937706Z"
    },
    "papermill": {
     "duration": 0.184128,
     "end_time": "2021-08-29T00:00:07.938107",
     "exception": false,
     "start_time": "2021-08-29T00:00:07.753979",
     "status": "completed"
    },
    "tags": []
   },
   "outputs": [],
   "source": [
    "timestamps = pd.read_sql(\"select distinct record_time from EBAY_TOP_BERLIN order by record_time desc limit 2\", sqlite3.connect(\"UsedObjects.db\"))"
   ]
  },
  {
   "cell_type": "code",
   "execution_count": 3,
   "id": "periodic-identification",
   "metadata": {
    "execution": {
     "iopub.execute_input": "2021-08-29T00:00:08.002302Z",
     "iopub.status.busy": "2021-08-29T00:00:08.000290Z",
     "iopub.status.idle": "2021-08-29T00:00:08.021194Z",
     "shell.execute_reply": "2021-08-29T00:00:08.019864Z"
    },
    "papermill": {
     "duration": 0.06389,
     "end_time": "2021-08-29T00:00:08.021551",
     "exception": false,
     "start_time": "2021-08-29T00:00:07.957661",
     "status": "completed"
    },
    "tags": []
   },
   "outputs": [
    {
     "data": {
      "text/html": [
       "<div>\n",
       "<style scoped>\n",
       "    .dataframe tbody tr th:only-of-type {\n",
       "        vertical-align: middle;\n",
       "    }\n",
       "\n",
       "    .dataframe tbody tr th {\n",
       "        vertical-align: top;\n",
       "    }\n",
       "\n",
       "    .dataframe thead th {\n",
       "        text-align: right;\n",
       "    }\n",
       "</style>\n",
       "<table border=\"1\" class=\"dataframe\">\n",
       "  <thead>\n",
       "    <tr style=\"text-align: right;\">\n",
       "      <th></th>\n",
       "      <th>RECORD_TIME</th>\n",
       "    </tr>\n",
       "  </thead>\n",
       "  <tbody>\n",
       "    <tr>\n",
       "      <th>0</th>\n",
       "      <td>2021-08-29 02:00</td>\n",
       "    </tr>\n",
       "    <tr>\n",
       "      <th>1</th>\n",
       "      <td>2021-08-29 01:30</td>\n",
       "    </tr>\n",
       "  </tbody>\n",
       "</table>\n",
       "</div>"
      ],
      "text/plain": [
       "        RECORD_TIME\n",
       "0  2021-08-29 02:00\n",
       "1  2021-08-29 01:30"
      ]
     },
     "execution_count": 3,
     "metadata": {},
     "output_type": "execute_result"
    }
   ],
   "source": [
    "timestamps"
   ]
  },
  {
   "cell_type": "code",
   "execution_count": 4,
   "id": "alternate-victory",
   "metadata": {
    "execution": {
     "iopub.execute_input": "2021-08-29T00:00:08.075211Z",
     "iopub.status.busy": "2021-08-29T00:00:08.072910Z",
     "iopub.status.idle": "2021-08-29T00:00:08.303649Z",
     "shell.execute_reply": "2021-08-29T00:00:08.305015Z"
    },
    "papermill": {
     "duration": 0.261119,
     "end_time": "2021-08-29T00:00:08.305434",
     "exception": false,
     "start_time": "2021-08-29T00:00:08.044315",
     "status": "completed"
    },
    "tags": []
   },
   "outputs": [],
   "source": [
    "df = pd.read_sql(\"select * from EBAY_TOP_BERLIN where record_time in (select distinct record_time from EBAY_TOP_BERLIN order by record_time desc limit 2)\", sqlite3.connect(\"UsedObjects.db\"))"
   ]
  },
  {
   "cell_type": "code",
   "execution_count": 5,
   "id": "popular-active",
   "metadata": {
    "execution": {
     "iopub.execute_input": "2021-08-29T00:00:08.376881Z",
     "iopub.status.busy": "2021-08-29T00:00:08.365128Z",
     "iopub.status.idle": "2021-08-29T00:00:08.392613Z",
     "shell.execute_reply": "2021-08-29T00:00:08.393842Z"
    },
    "papermill": {
     "duration": 0.068037,
     "end_time": "2021-08-29T00:00:08.394238",
     "exception": false,
     "start_time": "2021-08-29T00:00:08.326201",
     "status": "completed"
    },
    "tags": []
   },
   "outputs": [],
   "source": [
    "df_pivot = df.pivot_table(index=\"PRODUCT\", columns = \"RECORD_TIME\", values = \"LISTING_COUNT\")"
   ]
  },
  {
   "cell_type": "code",
   "execution_count": 6,
   "id": "union-huntington",
   "metadata": {
    "execution": {
     "iopub.execute_input": "2021-08-29T00:00:08.461062Z",
     "iopub.status.busy": "2021-08-29T00:00:08.458963Z",
     "iopub.status.idle": "2021-08-29T00:00:08.465700Z",
     "shell.execute_reply": "2021-08-29T00:00:08.464387Z"
    },
    "papermill": {
     "duration": 0.045381,
     "end_time": "2021-08-29T00:00:08.466068",
     "exception": false,
     "start_time": "2021-08-29T00:00:08.420687",
     "status": "completed"
    },
    "tags": []
   },
   "outputs": [],
   "source": [
    "df_pivot.columns = [\"stamp_1\", \"stamp_2\"]\n",
    "df_pivot_diff = df_pivot.diff(axis=1)"
   ]
  },
  {
   "cell_type": "code",
   "execution_count": 7,
   "id": "fifth-motion",
   "metadata": {
    "execution": {
     "iopub.execute_input": "2021-08-29T00:00:08.520315Z",
     "iopub.status.busy": "2021-08-29T00:00:08.517864Z",
     "iopub.status.idle": "2021-08-29T00:00:10.019077Z",
     "shell.execute_reply": "2021-08-29T00:00:10.020594Z"
    },
    "papermill": {
     "duration": 1.534484,
     "end_time": "2021-08-29T00:00:10.021071",
     "exception": false,
     "start_time": "2021-08-29T00:00:08.486587",
     "status": "completed"
    },
    "tags": []
   },
   "outputs": [
    {
     "data": {
      "text/plain": [
       "<AxesSubplot:ylabel='PRODUCT'>"
      ]
     },
     "execution_count": 7,
     "metadata": {},
     "output_type": "execute_result"
    },
    {
     "data": {
      "image/png": "[encoded data removed]",
      "text/plain": [
       "<Figure size 432x288 with 1 Axes>"
      ]
     },
     "metadata": {
      "needs_background": "light"
     },
     "output_type": "display_data"
    }
   ],
   "source": [
    "df_pivot_diff.sort_values(\"stamp_2\", ascending = False)[\"stamp_2\"].head(10).plot.barh()"
   ]
  },
  {
   "cell_type": "code",
   "execution_count": null,
   "id": "extra-executive",
   "metadata": {
    "papermill": {
     "duration": 0.022509,
     "end_time": "2021-08-29T00:00:10.070423",
     "exception": false,
     "start_time": "2021-08-29T00:00:10.047914",
     "status": "completed"
    },
    "tags": []
   },
   "outputs": [],
   "source": []
  }
 ],
 "metadata": {
  "kernelspec": {
   "display_name": "Python 3",
   "language": "python",
   "name": "python3"
  },
  "language_info": {
   "codemirror_mode": {
    "name": "ipython",
    "version": 3
   },
   "file_extension": ".py",
   "mimetype": "text/x-python",
   "name": "python",
   "nbconvert_exporter": "python",
   "pygments_lexer": "ipython3",
   "version": "3.9.5"
  },
  "papermill": {
   "default_parameters": {},
   "duration": 6.821081,
   "end_time": "2021-08-29T00:00:11.295733",
   "environment_variables": {},
   "exception": null,
   "input_path": "eBay_Overview.ipynb",
   "output_path": "eBay_Overview.ipynb",
   "parameters": {},
   "start_time": "2021-08-29T00:00:04.474652",
   "version": "2.3.3"
  }
 },
 "nbformat": 4,
 "nbformat_minor": 5
}