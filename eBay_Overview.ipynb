{
 "cells": [
  {
   "cell_type": "code",
   "execution_count": 1,
   "id": "reverse-picking",
   "metadata": {
    "execution": {
     "iopub.execute_input": "2021-10-12T02:00:07.241183Z",
     "iopub.status.busy": "2021-10-12T02:00:07.239153Z",
     "iopub.status.idle": "2021-10-12T02:00:08.039082Z",
     "shell.execute_reply": "2021-10-12T02:00:08.040384Z"
    },
    "papermill": {
     "duration": 0.859187,
     "end_time": "2021-10-12T02:00:08.041129",
     "exception": false,
     "start_time": "2021-10-12T02:00:07.181942",
     "status": "completed"
    },
    "tags": []
   },
   "outputs": [],
   "source": [
    "import pandas as pd\n",
    "import sqlite3"
   ]
  },
  {
   "cell_type": "code",
   "execution_count": 2,
   "id": "innovative-syndrome",
   "metadata": {
    "execution": {
     "iopub.execute_input": "2021-10-12T02:00:08.092663Z",
     "iopub.status.busy": "2021-10-12T02:00:08.090736Z",
     "iopub.status.idle": "2021-10-12T02:00:08.608133Z",
     "shell.execute_reply": "2021-10-12T02:00:08.609407Z"
    },
    "papermill": {
     "duration": 0.547349,
     "end_time": "2021-10-12T02:00:08.609808",
     "exception": false,
     "start_time": "2021-10-12T02:00:08.062459",
     "status": "completed"
    },
    "tags": []
   },
   "outputs": [],
   "source": [
    "timestamps = pd.read_sql(\"select distinct record_time from EBAY_TOP_BERLIN order by record_time desc limit 2\", sqlite3.connect(\"UsedObjects.db\"))"
   ]
  },
  {
   "cell_type": "code",
   "execution_count": 3,
   "id": "periodic-identification",
   "metadata": {
    "execution": {
     "iopub.execute_input": "2021-10-12T02:00:08.675784Z",
     "iopub.status.busy": "2021-10-12T02:00:08.670811Z",
     "iopub.status.idle": "2021-10-12T02:00:08.691355Z",
     "shell.execute_reply": "2021-10-12T02:00:08.692812Z"
    },
    "papermill": {
     "duration": 0.064094,
     "end_time": "2021-10-12T02:00:08.693278",
     "exception": false,
     "start_time": "2021-10-12T02:00:08.629184",
     "status": "completed"
    },
    "tags": []
   },
   "outputs": [
    {
     "data": {
      "text/html": [
       "<div>\n",
       "<style scoped>\n",
       "    .dataframe tbody tr th:only-of-type {\n",
       "        vertical-align: middle;\n",
       "    }\n",
       "\n",
       "    .dataframe tbody tr th {\n",
       "        vertical-align: top;\n",
       "    }\n",
       "\n",
       "    .dataframe thead th {\n",
       "        text-align: right;\n",
       "    }\n",
       "</style>\n",
       "<table border=\"1\" class=\"dataframe\">\n",
       "  <thead>\n",
       "    <tr style=\"text-align: right;\">\n",
       "      <th></th>\n",
       "      <th>RECORD_TIME</th>\n",
       "    </tr>\n",
       "  </thead>\n",
       "  <tbody>\n",
       "    <tr>\n",
       "      <th>0</th>\n",
       "      <td>2021-10-12 04:00</td>\n",
       "    </tr>\n",
       "    <tr>\n",
       "      <th>1</th>\n",
       "      <td>2021-10-12 03:30</td>\n",
       "    </tr>\n",
       "  </tbody>\n",
       "</table>\n",
       "</div>"
      ],
      "text/plain": [
       "        RECORD_TIME\n",
       "0  2021-10-12 04:00\n",
       "1  2021-10-12 03:30"
      ]
     },
     "execution_count": 3,
     "metadata": {},
     "output_type": "execute_result"
    }
   ],
   "source": [
    "timestamps"
   ]
  },
  {
   "cell_type": "code",
   "execution_count": 4,
   "id": "alternate-victory",
   "metadata": {
    "execution": {
     "iopub.execute_input": "2021-10-12T02:00:08.758460Z",
     "iopub.status.busy": "2021-10-12T02:00:08.756059Z",
     "iopub.status.idle": "2021-10-12T02:00:09.545313Z",
     "shell.execute_reply": "2021-10-12T02:00:09.546709Z"
    },
    "papermill": {
     "duration": 0.824269,
     "end_time": "2021-10-12T02:00:09.547141",
     "exception": false,
     "start_time": "2021-10-12T02:00:08.722872",
     "status": "completed"
    },
    "tags": []
   },
   "outputs": [],
   "source": [
    "df = pd.read_sql(\"select * from EBAY_TOP_BERLIN where record_time in (select distinct record_time from EBAY_TOP_BERLIN order by record_time desc limit 2)\", sqlite3.connect(\"UsedObjects.db\"))"
   ]
  },
  {
   "cell_type": "code",
   "execution_count": 5,
   "id": "popular-active",
   "metadata": {
    "execution": {
     "iopub.execute_input": "2021-10-12T02:00:09.636330Z",
     "iopub.status.busy": "2021-10-12T02:00:09.624439Z",
     "iopub.status.idle": "2021-10-12T02:00:09.651985Z",
     "shell.execute_reply": "2021-10-12T02:00:09.653277Z"
    },
    "papermill": {
     "duration": 0.085802,
     "end_time": "2021-10-12T02:00:09.653683",
     "exception": false,
     "start_time": "2021-10-12T02:00:09.567881",
     "status": "completed"
    },
    "tags": []
   },
   "outputs": [],
   "source": [
    "df_pivot = df.pivot_table(index=\"PRODUCT\", columns = \"RECORD_TIME\", values = \"LISTING_COUNT\")"
   ]
  },
  {
   "cell_type": "code",
   "execution_count": 6,
   "id": "union-huntington",
   "metadata": {
    "execution": {
     "iopub.execute_input": "2021-10-12T02:00:09.710412Z",
     "iopub.status.busy": "2021-10-12T02:00:09.708074Z",
     "iopub.status.idle": "2021-10-12T02:00:09.713662Z",
     "shell.execute_reply": "2021-10-12T02:00:09.715033Z"
    },
    "papermill": {
     "duration": 0.040789,
     "end_time": "2021-10-12T02:00:09.715465",
     "exception": false,
     "start_time": "2021-10-12T02:00:09.674676",
     "status": "completed"
    },
    "tags": []
   },
   "outputs": [],
   "source": [
    "df_pivot.columns = [\"stamp_1\", \"stamp_2\"]\n",
    "df_pivot_diff = df_pivot.diff(axis=1)"
   ]
  },
  {
   "cell_type": "code",
   "execution_count": 7,
   "id": "fifth-motion",
   "metadata": {
    "execution": {
     "iopub.execute_input": "2021-10-12T02:00:09.769977Z",
     "iopub.status.busy": "2021-10-12T02:00:09.767436Z",
     "iopub.status.idle": "2021-10-12T02:00:11.296263Z",
     "shell.execute_reply": "2021-10-12T02:00:11.297801Z"
    },
    "papermill": {
     "duration": 1.561961,
     "end_time": "2021-10-12T02:00:11.298269",
     "exception": false,
     "start_time": "2021-10-12T02:00:09.736308",
     "status": "completed"
    },
    "tags": []
   },
   "outputs": [
    {
     "data": {
      "text/plain": [
       "<AxesSubplot:ylabel='PRODUCT'>"
      ]
     },
     "execution_count": 7,
     "metadata": {},
     "output_type": "execute_result"
    },
    {
     "data": {
      "image/png": "[encoded data removed]",
      "text/plain": [
       "<Figure size 432x288 with 1 Axes>"
      ]
     },
     "metadata": {
      "needs_background": "light"
     },
     "output_type": "display_data"
    }
   ],
   "source": [
    "df_pivot_diff.sort_values(\"stamp_2\", ascending = False)[\"stamp_2\"].head(10).plot.barh()"
   ]
  },
  {
   "cell_type": "code",
   "execution_count": null,
   "id": "extra-executive",
   "metadata": {
    "papermill": {
     "duration": 0.023177,
     "end_time": "2021-10-12T02:00:11.346375",
     "exception": false,
     "start_time": "2021-10-12T02:00:11.323198",
     "status": "completed"
    },
    "tags": []
   },
   "outputs": [],
   "source": []
  }
 ],
 "metadata": {
  "kernelspec": {
   "display_name": "Python 3",
   "language": "python",
   "name": "python3"
  },
  "language_info": {
   "codemirror_mode": {
    "name": "ipython",
    "version": 3
   },
   "file_extension": ".py",
   "mimetype": "text/x-python",
   "name": "python",
   "nbconvert_exporter": "python",
   "pygments_lexer": "ipython3",
   "version": "3.9.5"
  },
  "papermill": {
   "default_parameters": {},
   "duration": 7.820245,
   "end_time": "2021-10-12T02:00:12.606490",
   "environment_variables": {},
   "exception": null,
   "input_path": "eBay_Overview.ipynb",
   "output_path": "eBay_Overview.ipynb",
   "parameters": {},
   "start_time": "2021-10-12T02:00:04.786245",
   "version": "2.3.3"
  }
 },
 "nbformat": 4,
 "nbformat_minor": 5
}