{
 "cells": [
  {
   "cell_type": "code",
   "execution_count": 1,
   "id": "reverse-picking",
   "metadata": {
    "execution": {
     "iopub.execute_input": "2021-12-09T12:30:07.276821Z",
     "iopub.status.busy": "2021-12-09T12:30:07.259233Z",
     "iopub.status.idle": "2021-12-09T12:30:08.247174Z",
     "shell.execute_reply": "2021-12-09T12:30:08.249323Z"
    },
    "papermill": {
     "duration": 1.021559,
     "end_time": "2021-12-09T12:30:08.250122",
     "exception": false,
     "start_time": "2021-12-09T12:30:07.228563",
     "status": "completed"
    },
    "tags": []
   },
   "outputs": [],
   "source": [
    "import pandas as pd\n",
    "import sqlite3"
   ]
  },
  {
   "cell_type": "code",
   "execution_count": 2,
   "id": "innovative-syndrome",
   "metadata": {
    "execution": {
     "iopub.execute_input": "2021-12-09T12:30:08.307041Z",
     "iopub.status.busy": "2021-12-09T12:30:08.304905Z",
     "iopub.status.idle": "2021-12-09T12:30:09.349036Z",
     "shell.execute_reply": "2021-12-09T12:30:09.350532Z"
    },
    "papermill": {
     "duration": 1.078097,
     "end_time": "2021-12-09T12:30:09.351009",
     "exception": false,
     "start_time": "2021-12-09T12:30:08.272912",
     "status": "completed"
    },
    "tags": []
   },
   "outputs": [],
   "source": [
    "timestamps = pd.read_sql(\"select distinct record_time from EBAY_TOP_BERLIN order by record_time desc limit 2\", sqlite3.connect(\"UsedObjects.db\"))"
   ]
  },
  {
   "cell_type": "code",
   "execution_count": 3,
   "id": "periodic-identification",
   "metadata": {
    "execution": {
     "iopub.execute_input": "2021-12-09T12:30:09.423209Z",
     "iopub.status.busy": "2021-12-09T12:30:09.420941Z",
     "iopub.status.idle": "2021-12-09T12:30:09.454788Z",
     "shell.execute_reply": "2021-12-09T12:30:09.457755Z"
    },
    "papermill": {
     "duration": 0.087458,
     "end_time": "2021-12-09T12:30:09.458525",
     "exception": false,
     "start_time": "2021-12-09T12:30:09.371067",
     "status": "completed"
    },
    "tags": []
   },
   "outputs": [
    {
     "data": {
      "text/html": [
       "<div>\n",
       "<style scoped>\n",
       "    .dataframe tbody tr th:only-of-type {\n",
       "        vertical-align: middle;\n",
       "    }\n",
       "\n",
       "    .dataframe tbody tr th {\n",
       "        vertical-align: top;\n",
       "    }\n",
       "\n",
       "    .dataframe thead th {\n",
       "        text-align: right;\n",
       "    }\n",
       "</style>\n",
       "<table border=\"1\" class=\"dataframe\">\n",
       "  <thead>\n",
       "    <tr style=\"text-align: right;\">\n",
       "      <th></th>\n",
       "      <th>RECORD_TIME</th>\n",
       "    </tr>\n",
       "  </thead>\n",
       "  <tbody>\n",
       "    <tr>\n",
       "      <th>0</th>\n",
       "      <td>2021-12-09 13:30</td>\n",
       "    </tr>\n",
       "    <tr>\n",
       "      <th>1</th>\n",
       "      <td>2021-12-09 13:00</td>\n",
       "    </tr>\n",
       "  </tbody>\n",
       "</table>\n",
       "</div>"
      ],
      "text/plain": [
       "        RECORD_TIME\n",
       "0  2021-12-09 13:30\n",
       "1  2021-12-09 13:00"
      ]
     },
     "execution_count": 3,
     "metadata": {},
     "output_type": "execute_result"
    }
   ],
   "source": [
    "timestamps"
   ]
  },
  {
   "cell_type": "code",
   "execution_count": 4,
   "id": "alternate-victory",
   "metadata": {
    "execution": {
     "iopub.execute_input": "2021-12-09T12:30:09.534122Z",
     "iopub.status.busy": "2021-12-09T12:30:09.531671Z",
     "iopub.status.idle": "2021-12-09T12:30:11.054510Z",
     "shell.execute_reply": "2021-12-09T12:30:11.058033Z"
    },
    "papermill": {
     "duration": 1.567092,
     "end_time": "2021-12-09T12:30:11.058948",
     "exception": false,
     "start_time": "2021-12-09T12:30:09.491856",
     "status": "completed"
    },
    "tags": []
   },
   "outputs": [],
   "source": [
    "df = pd.read_sql(\"select * from EBAY_TOP_BERLIN where record_time in (select distinct record_time from EBAY_TOP_BERLIN order by record_time desc limit 2)\", sqlite3.connect(\"UsedObjects.db\"))"
   ]
  },
  {
   "cell_type": "code",
   "execution_count": 5,
   "id": "popular-active",
   "metadata": {
    "execution": {
     "iopub.execute_input": "2021-12-09T12:30:11.184429Z",
     "iopub.status.busy": "2021-12-09T12:30:11.159951Z",
     "iopub.status.idle": "2021-12-09T12:30:11.228122Z",
     "shell.execute_reply": "2021-12-09T12:30:11.224881Z"
    },
    "papermill": {
     "duration": 0.13512,
     "end_time": "2021-12-09T12:30:11.229035",
     "exception": false,
     "start_time": "2021-12-09T12:30:11.093915",
     "status": "completed"
    },
    "tags": []
   },
   "outputs": [],
   "source": [
    "df_pivot = df.pivot_table(index=\"PRODUCT\", columns = \"RECORD_TIME\", values = \"LISTING_COUNT\")"
   ]
  },
  {
   "cell_type": "code",
   "execution_count": 6,
   "id": "union-huntington",
   "metadata": {
    "execution": {
     "iopub.execute_input": "2021-12-09T12:30:11.310445Z",
     "iopub.status.busy": "2021-12-09T12:30:11.306474Z",
     "iopub.status.idle": "2021-12-09T12:30:11.318512Z",
     "shell.execute_reply": "2021-12-09T12:30:11.321766Z"
    },
    "papermill": {
     "duration": 0.062541,
     "end_time": "2021-12-09T12:30:11.322698",
     "exception": false,
     "start_time": "2021-12-09T12:30:11.260157",
     "status": "completed"
    },
    "tags": []
   },
   "outputs": [],
   "source": [
    "df_pivot.columns = [\"stamp_1\", \"stamp_2\"]\n",
    "df_pivot_diff = df_pivot.diff(axis=1)"
   ]
  },
  {
   "cell_type": "code",
   "execution_count": 7,
   "id": "fifth-motion",
   "metadata": {
    "execution": {
     "iopub.execute_input": "2021-12-09T12:30:11.413044Z",
     "iopub.status.busy": "2021-12-09T12:30:11.408946Z",
     "iopub.status.idle": "2021-12-09T12:30:13.152884Z",
     "shell.execute_reply": "2021-12-09T12:30:13.151292Z"
    },
    "papermill": {
     "duration": 1.795458,
     "end_time": "2021-12-09T12:30:13.153245",
     "exception": false,
     "start_time": "2021-12-09T12:30:11.357787",
     "status": "completed"
    },
    "tags": []
   },
   "outputs": [
    {
     "data": {
      "text/plain": [
       "<AxesSubplot:ylabel='PRODUCT'>"
      ]
     },
     "execution_count": 7,
     "metadata": {},
     "output_type": "execute_result"
    },
    {
     "data": {
      "image/png": "[encoded data removed]",
      "text/plain": [
       "<Figure size 432x288 with 1 Axes>"
      ]
     },
     "metadata": {
      "needs_background": "light"
     },
     "output_type": "display_data"
    }
   ],
   "source": [
    "df_pivot_diff.sort_values(\"stamp_2\", ascending = False)[\"stamp_2\"].head(10).plot.barh()"
   ]
  },
  {
   "cell_type": "code",
   "execution_count": null,
   "id": "extra-executive",
   "metadata": {
    "papermill": {
     "duration": 0.022451,
     "end_time": "2021-12-09T12:30:13.200734",
     "exception": false,
     "start_time": "2021-12-09T12:30:13.178283",
     "status": "completed"
    },
    "tags": []
   },
   "outputs": [],
   "source": []
  }
 ],
 "metadata": {
  "kernelspec": {
   "display_name": "Python 3",
   "language": "python",
   "name": "python3"
  },
  "language_info": {
   "codemirror_mode": {
    "name": "ipython",
    "version": 3
   },
   "file_extension": ".py",
   "mimetype": "text/x-python",
   "name": "python",
   "nbconvert_exporter": "python",
   "pygments_lexer": "ipython3",
   "version": "3.9.5"
  },
  "papermill": {
   "default_parameters": {},
   "duration": 9.940777,
   "end_time": "2021-12-09T12:30:14.419000",
   "environment_variables": {},
   "exception": null,
   "input_path": "eBay_Overview.ipynb",
   "output_path": "eBay_Overview.ipynb",
   "parameters": {},
   "start_time": "2021-12-09T12:30:04.478223",
   "version": "2.3.3"
  }
 },
 "nbformat": 4,
 "nbformat_minor": 5
}