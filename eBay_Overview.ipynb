{
 "cells": [
  {
   "cell_type": "code",
   "execution_count": 1,
   "id": "reverse-picking",
   "metadata": {
    "execution": {
     "iopub.execute_input": "2021-11-12T08:00:08.307314Z",
     "iopub.status.busy": "2021-11-12T08:00:08.296667Z",
     "iopub.status.idle": "2021-11-12T08:00:09.263316Z",
     "shell.execute_reply": "2021-11-12T08:00:09.265031Z"
    },
    "papermill": {
     "duration": 1.013739,
     "end_time": "2021-11-12T08:00:09.265786",
     "exception": false,
     "start_time": "2021-11-12T08:00:08.252047",
     "status": "completed"
    },
    "tags": []
   },
   "outputs": [],
   "source": [
    "import pandas as pd\n",
    "import sqlite3"
   ]
  },
  {
   "cell_type": "code",
   "execution_count": 2,
   "id": "innovative-syndrome",
   "metadata": {
    "execution": {
     "iopub.execute_input": "2021-11-12T08:00:09.329461Z",
     "iopub.status.busy": "2021-11-12T08:00:09.326956Z",
     "iopub.status.idle": "2021-11-12T08:00:10.133128Z",
     "shell.execute_reply": "2021-11-12T08:00:10.134354Z"
    },
    "papermill": {
     "duration": 0.83927,
     "end_time": "2021-11-12T08:00:10.134790",
     "exception": false,
     "start_time": "2021-11-12T08:00:09.295520",
     "status": "completed"
    },
    "tags": []
   },
   "outputs": [],
   "source": [
    "timestamps = pd.read_sql(\"select distinct record_time from EBAY_TOP_BERLIN order by record_time desc limit 2\", sqlite3.connect(\"UsedObjects.db\"))"
   ]
  },
  {
   "cell_type": "code",
   "execution_count": 3,
   "id": "periodic-identification",
   "metadata": {
    "execution": {
     "iopub.execute_input": "2021-11-12T08:00:10.202066Z",
     "iopub.status.busy": "2021-11-12T08:00:10.199794Z",
     "iopub.status.idle": "2021-11-12T08:00:10.221412Z",
     "shell.execute_reply": "2021-11-12T08:00:10.222583Z"
    },
    "papermill": {
     "duration": 0.069125,
     "end_time": "2021-11-12T08:00:10.223013",
     "exception": false,
     "start_time": "2021-11-12T08:00:10.153888",
     "status": "completed"
    },
    "tags": []
   },
   "outputs": [
    {
     "data": {
      "text/html": [
       "<div>\n",
       "<style scoped>\n",
       "    .dataframe tbody tr th:only-of-type {\n",
       "        vertical-align: middle;\n",
       "    }\n",
       "\n",
       "    .dataframe tbody tr th {\n",
       "        vertical-align: top;\n",
       "    }\n",
       "\n",
       "    .dataframe thead th {\n",
       "        text-align: right;\n",
       "    }\n",
       "</style>\n",
       "<table border=\"1\" class=\"dataframe\">\n",
       "  <thead>\n",
       "    <tr style=\"text-align: right;\">\n",
       "      <th></th>\n",
       "      <th>RECORD_TIME</th>\n",
       "    </tr>\n",
       "  </thead>\n",
       "  <tbody>\n",
       "    <tr>\n",
       "      <th>0</th>\n",
       "      <td>2021-11-12 09:00</td>\n",
       "    </tr>\n",
       "    <tr>\n",
       "      <th>1</th>\n",
       "      <td>2021-11-12 08:30</td>\n",
       "    </tr>\n",
       "  </tbody>\n",
       "</table>\n",
       "</div>"
      ],
      "text/plain": [
       "        RECORD_TIME\n",
       "0  2021-11-12 09:00\n",
       "1  2021-11-12 08:30"
      ]
     },
     "execution_count": 3,
     "metadata": {},
     "output_type": "execute_result"
    }
   ],
   "source": [
    "timestamps"
   ]
  },
  {
   "cell_type": "code",
   "execution_count": 4,
   "id": "alternate-victory",
   "metadata": {
    "execution": {
     "iopub.execute_input": "2021-11-12T08:00:10.277025Z",
     "iopub.status.busy": "2021-11-12T08:00:10.274711Z",
     "iopub.status.idle": "2021-11-12T08:00:11.426040Z",
     "shell.execute_reply": "2021-11-12T08:00:11.427432Z"
    },
    "papermill": {
     "duration": 1.183789,
     "end_time": "2021-11-12T08:00:11.427895",
     "exception": false,
     "start_time": "2021-11-12T08:00:10.244106",
     "status": "completed"
    },
    "tags": []
   },
   "outputs": [],
   "source": [
    "df = pd.read_sql(\"select * from EBAY_TOP_BERLIN where record_time in (select distinct record_time from EBAY_TOP_BERLIN order by record_time desc limit 2)\", sqlite3.connect(\"UsedObjects.db\"))"
   ]
  },
  {
   "cell_type": "code",
   "execution_count": 5,
   "id": "popular-active",
   "metadata": {
    "execution": {
     "iopub.execute_input": "2021-11-12T08:00:11.496801Z",
     "iopub.status.busy": "2021-11-12T08:00:11.494350Z",
     "iopub.status.idle": "2021-11-12T08:00:11.525875Z",
     "shell.execute_reply": "2021-11-12T08:00:11.527429Z"
    },
    "papermill": {
     "duration": 0.078049,
     "end_time": "2021-11-12T08:00:11.527932",
     "exception": false,
     "start_time": "2021-11-12T08:00:11.449883",
     "status": "completed"
    },
    "tags": []
   },
   "outputs": [],
   "source": [
    "df_pivot = df.pivot_table(index=\"PRODUCT\", columns = \"RECORD_TIME\", values = \"LISTING_COUNT\")"
   ]
  },
  {
   "cell_type": "code",
   "execution_count": 6,
   "id": "union-huntington",
   "metadata": {
    "execution": {
     "iopub.execute_input": "2021-11-12T08:00:11.590485Z",
     "iopub.status.busy": "2021-11-12T08:00:11.588276Z",
     "iopub.status.idle": "2021-11-12T08:00:11.593636Z",
     "shell.execute_reply": "2021-11-12T08:00:11.594950Z"
    },
    "papermill": {
     "duration": 0.046232,
     "end_time": "2021-11-12T08:00:11.595406",
     "exception": false,
     "start_time": "2021-11-12T08:00:11.549174",
     "status": "completed"
    },
    "tags": []
   },
   "outputs": [],
   "source": [
    "df_pivot.columns = [\"stamp_1\", \"stamp_2\"]\n",
    "df_pivot_diff = df_pivot.diff(axis=1)"
   ]
  },
  {
   "cell_type": "code",
   "execution_count": 7,
   "id": "fifth-motion",
   "metadata": {
    "execution": {
     "iopub.execute_input": "2021-11-12T08:00:11.650502Z",
     "iopub.status.busy": "2021-11-12T08:00:11.648071Z",
     "iopub.status.idle": "2021-11-12T08:00:13.392000Z",
     "shell.execute_reply": "2021-11-12T08:00:13.394667Z"
    },
    "papermill": {
     "duration": 1.780098,
     "end_time": "2021-11-12T08:00:13.395475",
     "exception": false,
     "start_time": "2021-11-12T08:00:11.615377",
     "status": "completed"
    },
    "tags": []
   },
   "outputs": [
    {
     "data": {
      "text/plain": [
       "<AxesSubplot:ylabel='PRODUCT'>"
      ]
     },
     "execution_count": 7,
     "metadata": {},
     "output_type": "execute_result"
    },
    {
     "data": {
      "image/png": "[encoded data removed]",
      "text/plain": [
       "<Figure size 432x288 with 1 Axes>"
      ]
     },
     "metadata": {
      "needs_background": "light"
     },
     "output_type": "display_data"
    }
   ],
   "source": [
    "df_pivot_diff.sort_values(\"stamp_2\", ascending = False)[\"stamp_2\"].head(10).plot.barh()"
   ]
  },
  {
   "cell_type": "code",
   "execution_count": null,
   "id": "extra-executive",
   "metadata": {
    "papermill": {
     "duration": 0.033188,
     "end_time": "2021-11-12T08:00:13.465762",
     "exception": false,
     "start_time": "2021-11-12T08:00:13.432574",
     "status": "completed"
    },
    "tags": []
   },
   "outputs": [],
   "source": []
  }
 ],
 "metadata": {
  "kernelspec": {
   "display_name": "Python 3",
   "language": "python",
   "name": "python3"
  },
  "language_info": {
   "codemirror_mode": {
    "name": "ipython",
    "version": 3
   },
   "file_extension": ".py",
   "mimetype": "text/x-python",
   "name": "python",
   "nbconvert_exporter": "python",
   "pygments_lexer": "ipython3",
   "version": "3.9.5"
  },
  "papermill": {
   "default_parameters": {},
   "duration": 8.815593,
   "end_time": "2021-11-12T08:00:14.334692",
   "environment_variables": {},
   "exception": null,
   "input_path": "eBay_Overview.ipynb",
   "output_path": "eBay_Overview.ipynb",
   "parameters": {},
   "start_time": "2021-11-12T08:00:05.519099",
   "version": "2.3.3"
  }
 },
 "nbformat": 4,
 "nbformat_minor": 5
}