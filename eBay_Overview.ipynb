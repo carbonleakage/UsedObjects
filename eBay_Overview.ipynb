{
 "cells": [
  {
   "cell_type": "code",
   "execution_count": 1,
   "id": "reverse-picking",
   "metadata": {
    "execution": {
     "iopub.execute_input": "2021-10-11T12:00:06.994672Z",
     "iopub.status.busy": "2021-10-11T12:00:06.992650Z",
     "iopub.status.idle": "2021-10-11T12:00:07.793305Z",
     "shell.execute_reply": "2021-10-11T12:00:07.794655Z"
    },
    "papermill": {
     "duration": 0.853908,
     "end_time": "2021-10-11T12:00:07.795342",
     "exception": false,
     "start_time": "2021-10-11T12:00:06.941434",
     "status": "completed"
    },
    "tags": []
   },
   "outputs": [],
   "source": [
    "import pandas as pd\n",
    "import sqlite3"
   ]
  },
  {
   "cell_type": "code",
   "execution_count": 2,
   "id": "innovative-syndrome",
   "metadata": {
    "execution": {
     "iopub.execute_input": "2021-10-11T12:00:07.846846Z",
     "iopub.status.busy": "2021-10-11T12:00:07.844427Z",
     "iopub.status.idle": "2021-10-11T12:00:08.352135Z",
     "shell.execute_reply": "2021-10-11T12:00:08.353374Z"
    },
    "papermill": {
     "duration": 0.537708,
     "end_time": "2021-10-11T12:00:08.353800",
     "exception": false,
     "start_time": "2021-10-11T12:00:07.816092",
     "status": "completed"
    },
    "tags": []
   },
   "outputs": [],
   "source": [
    "timestamps = pd.read_sql(\"select distinct record_time from EBAY_TOP_BERLIN order by record_time desc limit 2\", sqlite3.connect(\"UsedObjects.db\"))"
   ]
  },
  {
   "cell_type": "code",
   "execution_count": 3,
   "id": "periodic-identification",
   "metadata": {
    "execution": {
     "iopub.execute_input": "2021-10-11T12:00:08.421829Z",
     "iopub.status.busy": "2021-10-11T12:00:08.419762Z",
     "iopub.status.idle": "2021-10-11T12:00:08.440534Z",
     "shell.execute_reply": "2021-10-11T12:00:08.442101Z"
    },
    "papermill": {
     "duration": 0.066349,
     "end_time": "2021-10-11T12:00:08.442575",
     "exception": false,
     "start_time": "2021-10-11T12:00:08.376226",
     "status": "completed"
    },
    "tags": []
   },
   "outputs": [
    {
     "data": {
      "text/html": [
       "<div>\n",
       "<style scoped>\n",
       "    .dataframe tbody tr th:only-of-type {\n",
       "        vertical-align: middle;\n",
       "    }\n",
       "\n",
       "    .dataframe tbody tr th {\n",
       "        vertical-align: top;\n",
       "    }\n",
       "\n",
       "    .dataframe thead th {\n",
       "        text-align: right;\n",
       "    }\n",
       "</style>\n",
       "<table border=\"1\" class=\"dataframe\">\n",
       "  <thead>\n",
       "    <tr style=\"text-align: right;\">\n",
       "      <th></th>\n",
       "      <th>RECORD_TIME</th>\n",
       "    </tr>\n",
       "  </thead>\n",
       "  <tbody>\n",
       "    <tr>\n",
       "      <th>0</th>\n",
       "      <td>2021-10-11 14:00</td>\n",
       "    </tr>\n",
       "    <tr>\n",
       "      <th>1</th>\n",
       "      <td>2021-10-11 13:30</td>\n",
       "    </tr>\n",
       "  </tbody>\n",
       "</table>\n",
       "</div>"
      ],
      "text/plain": [
       "        RECORD_TIME\n",
       "0  2021-10-11 14:00\n",
       "1  2021-10-11 13:30"
      ]
     },
     "execution_count": 3,
     "metadata": {},
     "output_type": "execute_result"
    }
   ],
   "source": [
    "timestamps"
   ]
  },
  {
   "cell_type": "code",
   "execution_count": 4,
   "id": "alternate-victory",
   "metadata": {
    "execution": {
     "iopub.execute_input": "2021-10-11T12:00:08.505249Z",
     "iopub.status.busy": "2021-10-11T12:00:08.502996Z",
     "iopub.status.idle": "2021-10-11T12:00:09.289477Z",
     "shell.execute_reply": "2021-10-11T12:00:09.290867Z"
    },
    "papermill": {
     "duration": 0.822043,
     "end_time": "2021-10-11T12:00:09.291301",
     "exception": false,
     "start_time": "2021-10-11T12:00:08.469258",
     "status": "completed"
    },
    "tags": []
   },
   "outputs": [],
   "source": [
    "df = pd.read_sql(\"select * from EBAY_TOP_BERLIN where record_time in (select distinct record_time from EBAY_TOP_BERLIN order by record_time desc limit 2)\", sqlite3.connect(\"UsedObjects.db\"))"
   ]
  },
  {
   "cell_type": "code",
   "execution_count": 5,
   "id": "popular-active",
   "metadata": {
    "execution": {
     "iopub.execute_input": "2021-10-11T12:00:09.362111Z",
     "iopub.status.busy": "2021-10-11T12:00:09.350297Z",
     "iopub.status.idle": "2021-10-11T12:00:09.377488Z",
     "shell.execute_reply": "2021-10-11T12:00:09.378722Z"
    },
    "papermill": {
     "duration": 0.066905,
     "end_time": "2021-10-11T12:00:09.379119",
     "exception": false,
     "start_time": "2021-10-11T12:00:09.312214",
     "status": "completed"
    },
    "tags": []
   },
   "outputs": [],
   "source": [
    "df_pivot = df.pivot_table(index=\"PRODUCT\", columns = \"RECORD_TIME\", values = \"LISTING_COUNT\")"
   ]
  },
  {
   "cell_type": "code",
   "execution_count": 6,
   "id": "union-huntington",
   "metadata": {
    "execution": {
     "iopub.execute_input": "2021-10-11T12:00:09.437969Z",
     "iopub.status.busy": "2021-10-11T12:00:09.435505Z",
     "iopub.status.idle": "2021-10-11T12:00:09.441634Z",
     "shell.execute_reply": "2021-10-11T12:00:09.442920Z"
    },
    "papermill": {
     "duration": 0.042568,
     "end_time": "2021-10-11T12:00:09.443328",
     "exception": false,
     "start_time": "2021-10-11T12:00:09.400760",
     "status": "completed"
    },
    "tags": []
   },
   "outputs": [],
   "source": [
    "df_pivot.columns = [\"stamp_1\", \"stamp_2\"]\n",
    "df_pivot_diff = df_pivot.diff(axis=1)"
   ]
  },
  {
   "cell_type": "code",
   "execution_count": 7,
   "id": "fifth-motion",
   "metadata": {
    "execution": {
     "iopub.execute_input": "2021-10-11T12:00:09.497446Z",
     "iopub.status.busy": "2021-10-11T12:00:09.495088Z",
     "iopub.status.idle": "2021-10-11T12:00:10.977469Z",
     "shell.execute_reply": "2021-10-11T12:00:10.978730Z"
    },
    "papermill": {
     "duration": 1.515132,
     "end_time": "2021-10-11T12:00:10.979175",
     "exception": false,
     "start_time": "2021-10-11T12:00:09.464043",
     "status": "completed"
    },
    "tags": []
   },
   "outputs": [
    {
     "data": {
      "text/plain": [
       "<AxesSubplot:ylabel='PRODUCT'>"
      ]
     },
     "execution_count": 7,
     "metadata": {},
     "output_type": "execute_result"
    },
    {
     "data": {
      "image/png": "[encoded data removed]",
      "text/plain": [
       "<Figure size 432x288 with 1 Axes>"
      ]
     },
     "metadata": {
      "needs_background": "light"
     },
     "output_type": "display_data"
    }
   ],
   "source": [
    "df_pivot_diff.sort_values(\"stamp_2\", ascending = False)[\"stamp_2\"].head(10).plot.barh()"
   ]
  },
  {
   "cell_type": "code",
   "execution_count": null,
   "id": "extra-executive",
   "metadata": {
    "papermill": {
     "duration": 0.022513,
     "end_time": "2021-10-11T12:00:11.026336",
     "exception": false,
     "start_time": "2021-10-11T12:00:11.003823",
     "status": "completed"
    },
    "tags": []
   },
   "outputs": [],
   "source": []
  }
 ],
 "metadata": {
  "kernelspec": {
   "display_name": "Python 3",
   "language": "python",
   "name": "python3"
  },
  "language_info": {
   "codemirror_mode": {
    "name": "ipython",
    "version": 3
   },
   "file_extension": ".py",
   "mimetype": "text/x-python",
   "name": "python",
   "nbconvert_exporter": "python",
   "pygments_lexer": "ipython3",
   "version": "3.9.5"
  },
  "papermill": {
   "default_parameters": {},
   "duration": 7.828816,
   "end_time": "2021-10-11T12:00:12.375345",
   "environment_variables": {},
   "exception": null,
   "input_path": "eBay_Overview.ipynb",
   "output_path": "eBay_Overview.ipynb",
   "parameters": {},
   "start_time": "2021-10-11T12:00:04.546529",
   "version": "2.3.3"
  }
 },
 "nbformat": 4,
 "nbformat_minor": 5
}