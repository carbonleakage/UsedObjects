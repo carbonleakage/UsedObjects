{
 "cells": [
  {
   "cell_type": "code",
   "execution_count": 1,
   "id": "reverse-picking",
   "metadata": {
    "execution": {
     "iopub.execute_input": "2021-12-06T22:30:09.321709Z",
     "iopub.status.busy": "2021-12-06T22:30:09.319468Z",
     "iopub.status.idle": "2021-12-06T22:30:10.294306Z",
     "shell.execute_reply": "2021-12-06T22:30:10.295814Z"
    },
    "papermill": {
     "duration": 1.015676,
     "end_time": "2021-12-06T22:30:10.296529",
     "exception": false,
     "start_time": "2021-12-06T22:30:09.280853",
     "status": "completed"
    },
    "tags": []
   },
   "outputs": [],
   "source": [
    "import pandas as pd\n",
    "import sqlite3"
   ]
  },
  {
   "cell_type": "code",
   "execution_count": 2,
   "id": "innovative-syndrome",
   "metadata": {
    "execution": {
     "iopub.execute_input": "2021-12-06T22:30:10.359539Z",
     "iopub.status.busy": "2021-12-06T22:30:10.357112Z",
     "iopub.status.idle": "2021-12-06T22:30:11.366311Z",
     "shell.execute_reply": "2021-12-06T22:30:11.368205Z"
    },
    "papermill": {
     "duration": 1.04334,
     "end_time": "2021-12-06T22:30:11.368840",
     "exception": false,
     "start_time": "2021-12-06T22:30:10.325500",
     "status": "completed"
    },
    "tags": []
   },
   "outputs": [],
   "source": [
    "timestamps = pd.read_sql(\"select distinct record_time from EBAY_TOP_BERLIN order by record_time desc limit 2\", sqlite3.connect(\"UsedObjects.db\"))"
   ]
  },
  {
   "cell_type": "code",
   "execution_count": 3,
   "id": "periodic-identification",
   "metadata": {
    "execution": {
     "iopub.execute_input": "2021-12-06T22:30:11.438003Z",
     "iopub.status.busy": "2021-12-06T22:30:11.435797Z",
     "iopub.status.idle": "2021-12-06T22:30:11.456905Z",
     "shell.execute_reply": "2021-12-06T22:30:11.458699Z"
    },
    "papermill": {
     "duration": 0.06956,
     "end_time": "2021-12-06T22:30:11.459163",
     "exception": false,
     "start_time": "2021-12-06T22:30:11.389603",
     "status": "completed"
    },
    "tags": []
   },
   "outputs": [
    {
     "data": {
      "text/html": [
       "<div>\n",
       "<style scoped>\n",
       "    .dataframe tbody tr th:only-of-type {\n",
       "        vertical-align: middle;\n",
       "    }\n",
       "\n",
       "    .dataframe tbody tr th {\n",
       "        vertical-align: top;\n",
       "    }\n",
       "\n",
       "    .dataframe thead th {\n",
       "        text-align: right;\n",
       "    }\n",
       "</style>\n",
       "<table border=\"1\" class=\"dataframe\">\n",
       "  <thead>\n",
       "    <tr style=\"text-align: right;\">\n",
       "      <th></th>\n",
       "      <th>RECORD_TIME</th>\n",
       "    </tr>\n",
       "  </thead>\n",
       "  <tbody>\n",
       "    <tr>\n",
       "      <th>0</th>\n",
       "      <td>2021-12-06 23:30</td>\n",
       "    </tr>\n",
       "    <tr>\n",
       "      <th>1</th>\n",
       "      <td>2021-12-06 23:00</td>\n",
       "    </tr>\n",
       "  </tbody>\n",
       "</table>\n",
       "</div>"
      ],
      "text/plain": [
       "        RECORD_TIME\n",
       "0  2021-12-06 23:30\n",
       "1  2021-12-06 23:00"
      ]
     },
     "execution_count": 3,
     "metadata": {},
     "output_type": "execute_result"
    }
   ],
   "source": [
    "timestamps"
   ]
  },
  {
   "cell_type": "code",
   "execution_count": 4,
   "id": "alternate-victory",
   "metadata": {
    "execution": {
     "iopub.execute_input": "2021-12-06T22:30:11.512511Z",
     "iopub.status.busy": "2021-12-06T22:30:11.510419Z",
     "iopub.status.idle": "2021-12-06T22:30:12.988981Z",
     "shell.execute_reply": "2021-12-06T22:30:12.990416Z"
    },
    "papermill": {
     "duration": 1.511414,
     "end_time": "2021-12-06T22:30:12.990861",
     "exception": false,
     "start_time": "2021-12-06T22:30:11.479447",
     "status": "completed"
    },
    "tags": []
   },
   "outputs": [],
   "source": [
    "df = pd.read_sql(\"select * from EBAY_TOP_BERLIN where record_time in (select distinct record_time from EBAY_TOP_BERLIN order by record_time desc limit 2)\", sqlite3.connect(\"UsedObjects.db\"))"
   ]
  },
  {
   "cell_type": "code",
   "execution_count": 5,
   "id": "popular-active",
   "metadata": {
    "execution": {
     "iopub.execute_input": "2021-12-06T22:30:13.062108Z",
     "iopub.status.busy": "2021-12-06T22:30:13.049826Z",
     "iopub.status.idle": "2021-12-06T22:30:13.077646Z",
     "shell.execute_reply": "2021-12-06T22:30:13.078869Z"
    },
    "papermill": {
     "duration": 0.067241,
     "end_time": "2021-12-06T22:30:13.079269",
     "exception": false,
     "start_time": "2021-12-06T22:30:13.012028",
     "status": "completed"
    },
    "tags": []
   },
   "outputs": [],
   "source": [
    "df_pivot = df.pivot_table(index=\"PRODUCT\", columns = \"RECORD_TIME\", values = \"LISTING_COUNT\")"
   ]
  },
  {
   "cell_type": "code",
   "execution_count": 6,
   "id": "union-huntington",
   "metadata": {
    "execution": {
     "iopub.execute_input": "2021-12-06T22:30:13.138850Z",
     "iopub.status.busy": "2021-12-06T22:30:13.136371Z",
     "iopub.status.idle": "2021-12-06T22:30:13.142364Z",
     "shell.execute_reply": "2021-12-06T22:30:13.143634Z"
    },
    "papermill": {
     "duration": 0.04231,
     "end_time": "2021-12-06T22:30:13.144051",
     "exception": false,
     "start_time": "2021-12-06T22:30:13.101741",
     "status": "completed"
    },
    "tags": []
   },
   "outputs": [],
   "source": [
    "df_pivot.columns = [\"stamp_1\", \"stamp_2\"]\n",
    "df_pivot_diff = df_pivot.diff(axis=1)"
   ]
  },
  {
   "cell_type": "code",
   "execution_count": 7,
   "id": "fifth-motion",
   "metadata": {
    "execution": {
     "iopub.execute_input": "2021-12-06T22:30:13.198653Z",
     "iopub.status.busy": "2021-12-06T22:30:13.196114Z",
     "iopub.status.idle": "2021-12-06T22:30:14.705291Z",
     "shell.execute_reply": "2021-12-06T22:30:14.706676Z"
    },
    "papermill": {
     "duration": 1.542896,
     "end_time": "2021-12-06T22:30:14.707100",
     "exception": false,
     "start_time": "2021-12-06T22:30:13.164204",
     "status": "completed"
    },
    "tags": []
   },
   "outputs": [
    {
     "data": {
      "text/plain": [
       "<AxesSubplot:ylabel='PRODUCT'>"
      ]
     },
     "execution_count": 7,
     "metadata": {},
     "output_type": "execute_result"
    },
    {
     "data": {
      "image/png": "[encoded data removed]",
      "text/plain": [
       "<Figure size 432x288 with 1 Axes>"
      ]
     },
     "metadata": {
      "needs_background": "light"
     },
     "output_type": "display_data"
    }
   ],
   "source": [
    "df_pivot_diff.sort_values(\"stamp_2\", ascending = False)[\"stamp_2\"].head(10).plot.barh()"
   ]
  },
  {
   "cell_type": "code",
   "execution_count": null,
   "id": "extra-executive",
   "metadata": {
    "papermill": {
     "duration": 0.022349,
     "end_time": "2021-12-06T22:30:14.752897",
     "exception": false,
     "start_time": "2021-12-06T22:30:14.730548",
     "status": "completed"
    },
    "tags": []
   },
   "outputs": [],
   "source": []
  }
 ],
 "metadata": {
  "kernelspec": {
   "display_name": "Python 3",
   "language": "python",
   "name": "python3"
  },
  "language_info": {
   "codemirror_mode": {
    "name": "ipython",
    "version": 3
   },
   "file_extension": ".py",
   "mimetype": "text/x-python",
   "name": "python",
   "nbconvert_exporter": "python",
   "pygments_lexer": "ipython3",
   "version": "3.9.5"
  },
  "papermill": {
   "default_parameters": {},
   "duration": 8.849387,
   "end_time": "2021-12-06T22:30:15.404219",
   "environment_variables": {},
   "exception": null,
   "input_path": "eBay_Overview.ipynb",
   "output_path": "eBay_Overview.ipynb",
   "parameters": {},
   "start_time": "2021-12-06T22:30:06.554832",
   "version": "2.3.3"
  }
 },
 "nbformat": 4,
 "nbformat_minor": 5
}