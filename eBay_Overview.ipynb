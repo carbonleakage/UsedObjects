{
 "cells": [
  {
   "cell_type": "code",
   "execution_count": 1,
   "id": "reverse-picking",
   "metadata": {
    "execution": {
     "iopub.execute_input": "2021-12-13T23:00:08.298027Z",
     "iopub.status.busy": "2021-12-13T23:00:08.295586Z",
     "iopub.status.idle": "2021-12-13T23:00:09.238833Z",
     "shell.execute_reply": "2021-12-13T23:00:09.240257Z"
    },
    "papermill": {
     "duration": 0.992771,
     "end_time": "2021-12-13T23:00:09.241070",
     "exception": false,
     "start_time": "2021-12-13T23:00:08.248299",
     "status": "completed"
    },
    "tags": []
   },
   "outputs": [],
   "source": [
    "import pandas as pd\n",
    "import sqlite3"
   ]
  },
  {
   "cell_type": "code",
   "execution_count": 2,
   "id": "innovative-syndrome",
   "metadata": {
    "execution": {
     "iopub.execute_input": "2021-12-13T23:00:09.297450Z",
     "iopub.status.busy": "2021-12-13T23:00:09.295029Z",
     "iopub.status.idle": "2021-12-13T23:00:10.368867Z",
     "shell.execute_reply": "2021-12-13T23:00:10.370300Z"
    },
    "papermill": {
     "duration": 1.108368,
     "end_time": "2021-12-13T23:00:10.370787",
     "exception": false,
     "start_time": "2021-12-13T23:00:09.262419",
     "status": "completed"
    },
    "tags": []
   },
   "outputs": [],
   "source": [
    "timestamps = pd.read_sql(\"select distinct record_time from EBAY_TOP_BERLIN order by record_time desc limit 2\", sqlite3.connect(\"UsedObjects.db\"))"
   ]
  },
  {
   "cell_type": "code",
   "execution_count": 3,
   "id": "periodic-identification",
   "metadata": {
    "execution": {
     "iopub.execute_input": "2021-12-13T23:00:10.441858Z",
     "iopub.status.busy": "2021-12-13T23:00:10.438779Z",
     "iopub.status.idle": "2021-12-13T23:00:10.466127Z",
     "shell.execute_reply": "2021-12-13T23:00:10.464052Z"
    },
    "papermill": {
     "duration": 0.075785,
     "end_time": "2021-12-13T23:00:10.466501",
     "exception": false,
     "start_time": "2021-12-13T23:00:10.390716",
     "status": "completed"
    },
    "tags": []
   },
   "outputs": [
    {
     "data": {
      "text/html": [
       "<div>\n",
       "<style scoped>\n",
       "    .dataframe tbody tr th:only-of-type {\n",
       "        vertical-align: middle;\n",
       "    }\n",
       "\n",
       "    .dataframe tbody tr th {\n",
       "        vertical-align: top;\n",
       "    }\n",
       "\n",
       "    .dataframe thead th {\n",
       "        text-align: right;\n",
       "    }\n",
       "</style>\n",
       "<table border=\"1\" class=\"dataframe\">\n",
       "  <thead>\n",
       "    <tr style=\"text-align: right;\">\n",
       "      <th></th>\n",
       "      <th>RECORD_TIME</th>\n",
       "    </tr>\n",
       "  </thead>\n",
       "  <tbody>\n",
       "    <tr>\n",
       "      <th>0</th>\n",
       "      <td>2021-12-14 00:00</td>\n",
       "    </tr>\n",
       "    <tr>\n",
       "      <th>1</th>\n",
       "      <td>2021-12-13 23:30</td>\n",
       "    </tr>\n",
       "  </tbody>\n",
       "</table>\n",
       "</div>"
      ],
      "text/plain": [
       "        RECORD_TIME\n",
       "0  2021-12-14 00:00\n",
       "1  2021-12-13 23:30"
      ]
     },
     "execution_count": 3,
     "metadata": {},
     "output_type": "execute_result"
    }
   ],
   "source": [
    "timestamps"
   ]
  },
  {
   "cell_type": "code",
   "execution_count": 4,
   "id": "alternate-victory",
   "metadata": {
    "execution": {
     "iopub.execute_input": "2021-12-13T23:00:10.523692Z",
     "iopub.status.busy": "2021-12-13T23:00:10.521645Z",
     "iopub.status.idle": "2021-12-13T23:00:12.040394Z",
     "shell.execute_reply": "2021-12-13T23:00:12.042834Z"
    },
    "papermill": {
     "duration": 1.55499,
     "end_time": "2021-12-13T23:00:12.043421",
     "exception": false,
     "start_time": "2021-12-13T23:00:10.488431",
     "status": "completed"
    },
    "tags": []
   },
   "outputs": [],
   "source": [
    "df = pd.read_sql(\"select * from EBAY_TOP_BERLIN where record_time in (select distinct record_time from EBAY_TOP_BERLIN order by record_time desc limit 2)\", sqlite3.connect(\"UsedObjects.db\"))"
   ]
  },
  {
   "cell_type": "code",
   "execution_count": 5,
   "id": "popular-active",
   "metadata": {
    "execution": {
     "iopub.execute_input": "2021-12-13T23:00:12.125270Z",
     "iopub.status.busy": "2021-12-13T23:00:12.110430Z",
     "iopub.status.idle": "2021-12-13T23:00:12.154061Z",
     "shell.execute_reply": "2021-12-13T23:00:12.155716Z"
    },
    "papermill": {
     "duration": 0.088505,
     "end_time": "2021-12-13T23:00:12.156354",
     "exception": false,
     "start_time": "2021-12-13T23:00:12.067849",
     "status": "completed"
    },
    "tags": []
   },
   "outputs": [],
   "source": [
    "df_pivot = df.pivot_table(index=\"PRODUCT\", columns = \"RECORD_TIME\", values = \"LISTING_COUNT\")"
   ]
  },
  {
   "cell_type": "code",
   "execution_count": 6,
   "id": "union-huntington",
   "metadata": {
    "execution": {
     "iopub.execute_input": "2021-12-13T23:00:12.218322Z",
     "iopub.status.busy": "2021-12-13T23:00:12.216040Z",
     "iopub.status.idle": "2021-12-13T23:00:12.221503Z",
     "shell.execute_reply": "2021-12-13T23:00:12.222959Z"
    },
    "papermill": {
     "duration": 0.043985,
     "end_time": "2021-12-13T23:00:12.223420",
     "exception": false,
     "start_time": "2021-12-13T23:00:12.179435",
     "status": "completed"
    },
    "tags": []
   },
   "outputs": [],
   "source": [
    "df_pivot.columns = [\"stamp_1\", \"stamp_2\"]\n",
    "df_pivot_diff = df_pivot.diff(axis=1)"
   ]
  },
  {
   "cell_type": "code",
   "execution_count": 7,
   "id": "fifth-motion",
   "metadata": {
    "execution": {
     "iopub.execute_input": "2021-12-13T23:00:12.278840Z",
     "iopub.status.busy": "2021-12-13T23:00:12.276239Z",
     "iopub.status.idle": "2021-12-13T23:00:14.278741Z",
     "shell.execute_reply": "2021-12-13T23:00:14.280660Z"
    },
    "papermill": {
     "duration": 2.038431,
     "end_time": "2021-12-13T23:00:14.281429",
     "exception": false,
     "start_time": "2021-12-13T23:00:12.242998",
     "status": "completed"
    },
    "tags": []
   },
   "outputs": [
    {
     "data": {
      "text/plain": [
       "<AxesSubplot:ylabel='PRODUCT'>"
      ]
     },
     "execution_count": 7,
     "metadata": {},
     "output_type": "execute_result"
    },
    {
     "data": {
      "image/png": "[encoded data removed]",
      "text/plain": [
       "<Figure size 432x288 with 1 Axes>"
      ]
     },
     "metadata": {
      "needs_background": "light"
     },
     "output_type": "display_data"
    }
   ],
   "source": [
    "df_pivot_diff.sort_values(\"stamp_2\", ascending = False)[\"stamp_2\"].head(10).plot.barh()"
   ]
  },
  {
   "cell_type": "code",
   "execution_count": null,
   "id": "extra-executive",
   "metadata": {
    "papermill": {
     "duration": 0.027676,
     "end_time": "2021-12-13T23:00:14.337295",
     "exception": false,
     "start_time": "2021-12-13T23:00:14.309619",
     "status": "completed"
    },
    "tags": []
   },
   "outputs": [],
   "source": []
  }
 ],
 "metadata": {
  "kernelspec": {
   "display_name": "Python 3",
   "language": "python",
   "name": "python3"
  },
  "language_info": {
   "codemirror_mode": {
    "name": "ipython",
    "version": 3
   },
   "file_extension": ".py",
   "mimetype": "text/x-python",
   "name": "python",
   "nbconvert_exporter": "python",
   "pygments_lexer": "ipython3",
   "version": "3.9.5"
  },
  "papermill": {
   "default_parameters": {},
   "duration": 11.929543,
   "end_time": "2021-12-13T23:00:17.449800",
   "environment_variables": {},
   "exception": null,
   "input_path": "eBay_Overview.ipynb",
   "output_path": "eBay_Overview.ipynb",
   "parameters": {},
   "start_time": "2021-12-13T23:00:05.520257",
   "version": "2.3.3"
  }
 },
 "nbformat": 4,
 "nbformat_minor": 5
}