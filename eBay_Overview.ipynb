{
 "cells": [
  {
   "cell_type": "code",
   "execution_count": 1,
   "id": "reverse-picking",
   "metadata": {
    "execution": {
     "iopub.execute_input": "2021-12-10T03:30:08.065347Z",
     "iopub.status.busy": "2021-12-10T03:30:08.060752Z",
     "iopub.status.idle": "2021-12-10T03:30:09.032545Z",
     "shell.execute_reply": "2021-12-10T03:30:09.034228Z"
    },
    "papermill": {
     "duration": 1.020942,
     "end_time": "2021-12-10T03:30:09.034975",
     "exception": false,
     "start_time": "2021-12-10T03:30:08.014033",
     "status": "completed"
    },
    "tags": []
   },
   "outputs": [],
   "source": [
    "import pandas as pd\n",
    "import sqlite3"
   ]
  },
  {
   "cell_type": "code",
   "execution_count": 2,
   "id": "innovative-syndrome",
   "metadata": {
    "execution": {
     "iopub.execute_input": "2021-12-10T03:30:09.092029Z",
     "iopub.status.busy": "2021-12-10T03:30:09.089858Z",
     "iopub.status.idle": "2021-12-10T03:30:10.126897Z",
     "shell.execute_reply": "2021-12-10T03:30:10.128276Z"
    },
    "papermill": {
     "duration": 1.071567,
     "end_time": "2021-12-10T03:30:10.128794",
     "exception": false,
     "start_time": "2021-12-10T03:30:09.057227",
     "status": "completed"
    },
    "tags": []
   },
   "outputs": [],
   "source": [
    "timestamps = pd.read_sql(\"select distinct record_time from EBAY_TOP_BERLIN order by record_time desc limit 2\", sqlite3.connect(\"UsedObjects.db\"))"
   ]
  },
  {
   "cell_type": "code",
   "execution_count": 3,
   "id": "periodic-identification",
   "metadata": {
    "execution": {
     "iopub.execute_input": "2021-12-10T03:30:10.196467Z",
     "iopub.status.busy": "2021-12-10T03:30:10.194133Z",
     "iopub.status.idle": "2021-12-10T03:30:10.219473Z",
     "shell.execute_reply": "2021-12-10T03:30:10.221034Z"
    },
    "papermill": {
     "duration": 0.073761,
     "end_time": "2021-12-10T03:30:10.221635",
     "exception": false,
     "start_time": "2021-12-10T03:30:10.147874",
     "status": "completed"
    },
    "tags": []
   },
   "outputs": [
    {
     "data": {
      "text/html": [
       "<div>\n",
       "<style scoped>\n",
       "    .dataframe tbody tr th:only-of-type {\n",
       "        vertical-align: middle;\n",
       "    }\n",
       "\n",
       "    .dataframe tbody tr th {\n",
       "        vertical-align: top;\n",
       "    }\n",
       "\n",
       "    .dataframe thead th {\n",
       "        text-align: right;\n",
       "    }\n",
       "</style>\n",
       "<table border=\"1\" class=\"dataframe\">\n",
       "  <thead>\n",
       "    <tr style=\"text-align: right;\">\n",
       "      <th></th>\n",
       "      <th>RECORD_TIME</th>\n",
       "    </tr>\n",
       "  </thead>\n",
       "  <tbody>\n",
       "    <tr>\n",
       "      <th>0</th>\n",
       "      <td>2021-12-10 04:30</td>\n",
       "    </tr>\n",
       "    <tr>\n",
       "      <th>1</th>\n",
       "      <td>2021-12-10 04:00</td>\n",
       "    </tr>\n",
       "  </tbody>\n",
       "</table>\n",
       "</div>"
      ],
      "text/plain": [
       "        RECORD_TIME\n",
       "0  2021-12-10 04:30\n",
       "1  2021-12-10 04:00"
      ]
     },
     "execution_count": 3,
     "metadata": {},
     "output_type": "execute_result"
    }
   ],
   "source": [
    "timestamps"
   ]
  },
  {
   "cell_type": "code",
   "execution_count": 4,
   "id": "alternate-victory",
   "metadata": {
    "execution": {
     "iopub.execute_input": "2021-12-10T03:30:10.301855Z",
     "iopub.status.busy": "2021-12-10T03:30:10.297965Z",
     "iopub.status.idle": "2021-12-10T03:30:11.811551Z",
     "shell.execute_reply": "2021-12-10T03:30:11.814704Z"
    },
    "papermill": {
     "duration": 1.565684,
     "end_time": "2021-12-10T03:30:11.815589",
     "exception": false,
     "start_time": "2021-12-10T03:30:10.249905",
     "status": "completed"
    },
    "tags": []
   },
   "outputs": [],
   "source": [
    "df = pd.read_sql(\"select * from EBAY_TOP_BERLIN where record_time in (select distinct record_time from EBAY_TOP_BERLIN order by record_time desc limit 2)\", sqlite3.connect(\"UsedObjects.db\"))"
   ]
  },
  {
   "cell_type": "code",
   "execution_count": 5,
   "id": "popular-active",
   "metadata": {
    "execution": {
     "iopub.execute_input": "2021-12-10T03:30:11.936845Z",
     "iopub.status.busy": "2021-12-10T03:30:11.909530Z",
     "iopub.status.idle": "2021-12-10T03:30:11.969944Z",
     "shell.execute_reply": "2021-12-10T03:30:11.973428Z"
    },
    "papermill": {
     "duration": 0.128041,
     "end_time": "2021-12-10T03:30:11.974285",
     "exception": false,
     "start_time": "2021-12-10T03:30:11.846244",
     "status": "completed"
    },
    "tags": []
   },
   "outputs": [],
   "source": [
    "df_pivot = df.pivot_table(index=\"PRODUCT\", columns = \"RECORD_TIME\", values = \"LISTING_COUNT\")"
   ]
  },
  {
   "cell_type": "code",
   "execution_count": 6,
   "id": "union-huntington",
   "metadata": {
    "execution": {
     "iopub.execute_input": "2021-12-10T03:30:12.068464Z",
     "iopub.status.busy": "2021-12-10T03:30:12.064898Z",
     "iopub.status.idle": "2021-12-10T03:30:12.076329Z",
     "shell.execute_reply": "2021-12-10T03:30:12.074101Z"
    },
    "papermill": {
     "duration": 0.070041,
     "end_time": "2021-12-10T03:30:12.076974",
     "exception": false,
     "start_time": "2021-12-10T03:30:12.006933",
     "status": "completed"
    },
    "tags": []
   },
   "outputs": [],
   "source": [
    "df_pivot.columns = [\"stamp_1\", \"stamp_2\"]\n",
    "df_pivot_diff = df_pivot.diff(axis=1)"
   ]
  },
  {
   "cell_type": "code",
   "execution_count": 7,
   "id": "fifth-motion",
   "metadata": {
    "execution": {
     "iopub.execute_input": "2021-12-10T03:30:12.156743Z",
     "iopub.status.busy": "2021-12-10T03:30:12.151950Z",
     "iopub.status.idle": "2021-12-10T03:30:13.890229Z",
     "shell.execute_reply": "2021-12-10T03:30:13.891516Z"
    },
    "papermill": {
     "duration": 1.790228,
     "end_time": "2021-12-10T03:30:13.891940",
     "exception": false,
     "start_time": "2021-12-10T03:30:12.101712",
     "status": "completed"
    },
    "tags": []
   },
   "outputs": [
    {
     "data": {
      "text/plain": [
       "<AxesSubplot:ylabel='PRODUCT'>"
      ]
     },
     "execution_count": 7,
     "metadata": {},
     "output_type": "execute_result"
    },
    {
     "data": {
      "image/png": "[encoded data removed]",
      "text/plain": [
       "<Figure size 432x288 with 1 Axes>"
      ]
     },
     "metadata": {
      "needs_background": "light"
     },
     "output_type": "display_data"
    }
   ],
   "source": [
    "df_pivot_diff.sort_values(\"stamp_2\", ascending = False)[\"stamp_2\"].head(10).plot.barh()"
   ]
  },
  {
   "cell_type": "code",
   "execution_count": null,
   "id": "extra-executive",
   "metadata": {
    "papermill": {
     "duration": 0.021772,
     "end_time": "2021-12-10T03:30:13.937935",
     "exception": false,
     "start_time": "2021-12-10T03:30:13.916163",
     "status": "completed"
    },
    "tags": []
   },
   "outputs": [],
   "source": []
  }
 ],
 "metadata": {
  "kernelspec": {
   "display_name": "Python 3",
   "language": "python",
   "name": "python3"
  },
  "language_info": {
   "codemirror_mode": {
    "name": "ipython",
    "version": 3
   },
   "file_extension": ".py",
   "mimetype": "text/x-python",
   "name": "python",
   "nbconvert_exporter": "python",
   "pygments_lexer": "ipython3",
   "version": "3.9.5"
  },
  "papermill": {
   "default_parameters": {},
   "duration": 9.949321,
   "end_time": "2021-12-10T03:30:15.215430",
   "environment_variables": {},
   "exception": null,
   "input_path": "eBay_Overview.ipynb",
   "output_path": "eBay_Overview.ipynb",
   "parameters": {},
   "start_time": "2021-12-10T03:30:05.266109",
   "version": "2.3.3"
  }
 },
 "nbformat": 4,
 "nbformat_minor": 5
}