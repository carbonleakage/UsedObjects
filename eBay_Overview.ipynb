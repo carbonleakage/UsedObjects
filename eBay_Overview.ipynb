{
 "cells": [
  {
   "cell_type": "code",
   "execution_count": 1,
   "id": "reverse-picking",
   "metadata": {
    "execution": {
     "iopub.execute_input": "2021-11-04T16:30:08.719845Z",
     "iopub.status.busy": "2021-11-04T16:30:08.717489Z",
     "iopub.status.idle": "2021-11-04T16:30:09.677848Z",
     "shell.execute_reply": "2021-11-04T16:30:09.679340Z"
    },
    "papermill": {
     "duration": 1.010271,
     "end_time": "2021-11-04T16:30:09.680069",
     "exception": false,
     "start_time": "2021-11-04T16:30:08.669798",
     "status": "completed"
    },
    "tags": []
   },
   "outputs": [],
   "source": [
    "import pandas as pd\n",
    "import sqlite3"
   ]
  },
  {
   "cell_type": "code",
   "execution_count": 2,
   "id": "innovative-syndrome",
   "metadata": {
    "execution": {
     "iopub.execute_input": "2021-11-04T16:30:09.741909Z",
     "iopub.status.busy": "2021-11-04T16:30:09.739606Z",
     "iopub.status.idle": "2021-11-04T16:30:10.475407Z",
     "shell.execute_reply": "2021-11-04T16:30:10.477210Z"
    },
    "papermill": {
     "duration": 0.769838,
     "end_time": "2021-11-04T16:30:10.477685",
     "exception": false,
     "start_time": "2021-11-04T16:30:09.707847",
     "status": "completed"
    },
    "tags": []
   },
   "outputs": [],
   "source": [
    "timestamps = pd.read_sql(\"select distinct record_time from EBAY_TOP_BERLIN order by record_time desc limit 2\", sqlite3.connect(\"UsedObjects.db\"))"
   ]
  },
  {
   "cell_type": "code",
   "execution_count": 3,
   "id": "periodic-identification",
   "metadata": {
    "execution": {
     "iopub.execute_input": "2021-11-04T16:30:10.529040Z",
     "iopub.status.busy": "2021-11-04T16:30:10.526714Z",
     "iopub.status.idle": "2021-11-04T16:30:10.569075Z",
     "shell.execute_reply": "2021-11-04T16:30:10.570374Z"
    },
    "papermill": {
     "duration": 0.072439,
     "end_time": "2021-11-04T16:30:10.570837",
     "exception": false,
     "start_time": "2021-11-04T16:30:10.498398",
     "status": "completed"
    },
    "tags": []
   },
   "outputs": [
    {
     "data": {
      "text/html": [
       "<div>\n",
       "<style scoped>\n",
       "    .dataframe tbody tr th:only-of-type {\n",
       "        vertical-align: middle;\n",
       "    }\n",
       "\n",
       "    .dataframe tbody tr th {\n",
       "        vertical-align: top;\n",
       "    }\n",
       "\n",
       "    .dataframe thead th {\n",
       "        text-align: right;\n",
       "    }\n",
       "</style>\n",
       "<table border=\"1\" class=\"dataframe\">\n",
       "  <thead>\n",
       "    <tr style=\"text-align: right;\">\n",
       "      <th></th>\n",
       "      <th>RECORD_TIME</th>\n",
       "    </tr>\n",
       "  </thead>\n",
       "  <tbody>\n",
       "    <tr>\n",
       "      <th>0</th>\n",
       "      <td>2021-11-04 17:30</td>\n",
       "    </tr>\n",
       "    <tr>\n",
       "      <th>1</th>\n",
       "      <td>2021-11-04 17:00</td>\n",
       "    </tr>\n",
       "  </tbody>\n",
       "</table>\n",
       "</div>"
      ],
      "text/plain": [
       "        RECORD_TIME\n",
       "0  2021-11-04 17:30\n",
       "1  2021-11-04 17:00"
      ]
     },
     "execution_count": 3,
     "metadata": {},
     "output_type": "execute_result"
    }
   ],
   "source": [
    "timestamps"
   ]
  },
  {
   "cell_type": "code",
   "execution_count": 4,
   "id": "alternate-victory",
   "metadata": {
    "execution": {
     "iopub.execute_input": "2021-11-04T16:30:10.622417Z",
     "iopub.status.busy": "2021-11-04T16:30:10.620430Z",
     "iopub.status.idle": "2021-11-04T16:30:11.690232Z",
     "shell.execute_reply": "2021-11-04T16:30:11.691671Z"
    },
    "papermill": {
     "duration": 1.099979,
     "end_time": "2021-11-04T16:30:11.692151",
     "exception": false,
     "start_time": "2021-11-04T16:30:10.592172",
     "status": "completed"
    },
    "tags": []
   },
   "outputs": [],
   "source": [
    "df = pd.read_sql(\"select * from EBAY_TOP_BERLIN where record_time in (select distinct record_time from EBAY_TOP_BERLIN order by record_time desc limit 2)\", sqlite3.connect(\"UsedObjects.db\"))"
   ]
  },
  {
   "cell_type": "code",
   "execution_count": 5,
   "id": "popular-active",
   "metadata": {
    "execution": {
     "iopub.execute_input": "2021-11-04T16:30:11.770758Z",
     "iopub.status.busy": "2021-11-04T16:30:11.762849Z",
     "iopub.status.idle": "2021-11-04T16:30:11.789472Z",
     "shell.execute_reply": "2021-11-04T16:30:11.790831Z"
    },
    "papermill": {
     "duration": 0.07682,
     "end_time": "2021-11-04T16:30:11.791328",
     "exception": false,
     "start_time": "2021-11-04T16:30:11.714508",
     "status": "completed"
    },
    "tags": []
   },
   "outputs": [],
   "source": [
    "df_pivot = df.pivot_table(index=\"PRODUCT\", columns = \"RECORD_TIME\", values = \"LISTING_COUNT\")"
   ]
  },
  {
   "cell_type": "code",
   "execution_count": 6,
   "id": "union-huntington",
   "metadata": {
    "execution": {
     "iopub.execute_input": "2021-11-04T16:30:11.850621Z",
     "iopub.status.busy": "2021-11-04T16:30:11.848235Z",
     "iopub.status.idle": "2021-11-04T16:30:11.853998Z",
     "shell.execute_reply": "2021-11-04T16:30:11.855761Z"
    },
    "papermill": {
     "duration": 0.044488,
     "end_time": "2021-11-04T16:30:11.856258",
     "exception": false,
     "start_time": "2021-11-04T16:30:11.811770",
     "status": "completed"
    },
    "tags": []
   },
   "outputs": [],
   "source": [
    "df_pivot.columns = [\"stamp_1\", \"stamp_2\"]\n",
    "df_pivot_diff = df_pivot.diff(axis=1)"
   ]
  },
  {
   "cell_type": "code",
   "execution_count": 7,
   "id": "fifth-motion",
   "metadata": {
    "execution": {
     "iopub.execute_input": "2021-11-04T16:30:11.918113Z",
     "iopub.status.busy": "2021-11-04T16:30:11.915572Z",
     "iopub.status.idle": "2021-11-04T16:30:13.855191Z",
     "shell.execute_reply": "2021-11-04T16:30:13.857586Z"
    },
    "papermill": {
     "duration": 1.979751,
     "end_time": "2021-11-04T16:30:13.858379",
     "exception": false,
     "start_time": "2021-11-04T16:30:11.878628",
     "status": "completed"
    },
    "tags": []
   },
   "outputs": [
    {
     "data": {
      "text/plain": [
       "<AxesSubplot:ylabel='PRODUCT'>"
      ]
     },
     "execution_count": 7,
     "metadata": {},
     "output_type": "execute_result"
    },
    {
     "data": {
      "image/png": "[encoded data removed]",
      "text/plain": [
       "<Figure size 432x288 with 1 Axes>"
      ]
     },
     "metadata": {
      "needs_background": "light"
     },
     "output_type": "display_data"
    }
   ],
   "source": [
    "df_pivot_diff.sort_values(\"stamp_2\", ascending = False)[\"stamp_2\"].head(10).plot.barh()"
   ]
  },
  {
   "cell_type": "code",
   "execution_count": null,
   "id": "extra-executive",
   "metadata": {
    "papermill": {
     "duration": 0.02874,
     "end_time": "2021-11-04T16:30:13.916914",
     "exception": false,
     "start_time": "2021-11-04T16:30:13.888174",
     "status": "completed"
    },
    "tags": []
   },
   "outputs": [],
   "source": []
  }
 ],
 "metadata": {
  "kernelspec": {
   "display_name": "Python 3",
   "language": "python",
   "name": "python3"
  },
  "language_info": {
   "codemirror_mode": {
    "name": "ipython",
    "version": 3
   },
   "file_extension": ".py",
   "mimetype": "text/x-python",
   "name": "python",
   "nbconvert_exporter": "python",
   "pygments_lexer": "ipython3",
   "version": "3.9.5"
  },
  "papermill": {
   "default_parameters": {},
   "duration": 8.822856,
   "end_time": "2021-11-04T16:30:14.766169",
   "environment_variables": {},
   "exception": null,
   "input_path": "eBay_Overview.ipynb",
   "output_path": "eBay_Overview.ipynb",
   "parameters": {},
   "start_time": "2021-11-04T16:30:05.943313",
   "version": "2.3.3"
  }
 },
 "nbformat": 4,
 "nbformat_minor": 5
}