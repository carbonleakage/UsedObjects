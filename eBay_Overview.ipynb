{
 "cells": [
  {
   "cell_type": "code",
   "execution_count": 1,
   "id": "reverse-picking",
   "metadata": {
    "execution": {
     "iopub.execute_input": "2021-08-20T13:30:07.444020Z",
     "iopub.status.busy": "2021-08-20T13:30:07.442022Z",
     "iopub.status.idle": "2021-08-20T13:30:08.249433Z",
     "shell.execute_reply": "2021-08-20T13:30:08.250792Z"
    },
    "papermill": {
     "duration": 0.859632,
     "end_time": "2021-08-20T13:30:08.251436",
     "exception": false,
     "start_time": "2021-08-20T13:30:07.391804",
     "status": "completed"
    },
    "tags": []
   },
   "outputs": [],
   "source": [
    "import pandas as pd\n",
    "import sqlite3"
   ]
  },
  {
   "cell_type": "code",
   "execution_count": 2,
   "id": "innovative-syndrome",
   "metadata": {
    "execution": {
     "iopub.execute_input": "2021-08-20T13:30:08.302173Z",
     "iopub.status.busy": "2021-08-20T13:30:08.300127Z",
     "iopub.status.idle": "2021-08-20T13:30:08.389784Z",
     "shell.execute_reply": "2021-08-20T13:30:08.391067Z"
    },
    "papermill": {
     "duration": 0.119355,
     "end_time": "2021-08-20T13:30:08.391472",
     "exception": false,
     "start_time": "2021-08-20T13:30:08.272117",
     "status": "completed"
    },
    "tags": []
   },
   "outputs": [],
   "source": [
    "timestamps = pd.read_sql(\"select distinct record_time from EBAY_TOP_BERLIN order by record_time desc limit 2\", sqlite3.connect(\"UsedObjects.db\"))"
   ]
  },
  {
   "cell_type": "code",
   "execution_count": 3,
   "id": "periodic-identification",
   "metadata": {
    "execution": {
     "iopub.execute_input": "2021-08-20T13:30:08.455670Z",
     "iopub.status.busy": "2021-08-20T13:30:08.453458Z",
     "iopub.status.idle": "2021-08-20T13:30:08.474821Z",
     "shell.execute_reply": "2021-08-20T13:30:08.473395Z"
    },
    "papermill": {
     "duration": 0.064338,
     "end_time": "2021-08-20T13:30:08.475168",
     "exception": false,
     "start_time": "2021-08-20T13:30:08.410830",
     "status": "completed"
    },
    "tags": []
   },
   "outputs": [
    {
     "data": {
      "text/html": [
       "<div>\n",
       "<style scoped>\n",
       "    .dataframe tbody tr th:only-of-type {\n",
       "        vertical-align: middle;\n",
       "    }\n",
       "\n",
       "    .dataframe tbody tr th {\n",
       "        vertical-align: top;\n",
       "    }\n",
       "\n",
       "    .dataframe thead th {\n",
       "        text-align: right;\n",
       "    }\n",
       "</style>\n",
       "<table border=\"1\" class=\"dataframe\">\n",
       "  <thead>\n",
       "    <tr style=\"text-align: right;\">\n",
       "      <th></th>\n",
       "      <th>RECORD_TIME</th>\n",
       "    </tr>\n",
       "  </thead>\n",
       "  <tbody>\n",
       "    <tr>\n",
       "      <th>0</th>\n",
       "      <td>2021-08-20 15:30</td>\n",
       "    </tr>\n",
       "    <tr>\n",
       "      <th>1</th>\n",
       "      <td>2021-08-20 15:00</td>\n",
       "    </tr>\n",
       "  </tbody>\n",
       "</table>\n",
       "</div>"
      ],
      "text/plain": [
       "        RECORD_TIME\n",
       "0  2021-08-20 15:30\n",
       "1  2021-08-20 15:00"
      ]
     },
     "execution_count": 3,
     "metadata": {},
     "output_type": "execute_result"
    }
   ],
   "source": [
    "timestamps"
   ]
  },
  {
   "cell_type": "code",
   "execution_count": 4,
   "id": "alternate-victory",
   "metadata": {
    "execution": {
     "iopub.execute_input": "2021-08-20T13:30:08.526176Z",
     "iopub.status.busy": "2021-08-20T13:30:08.524280Z",
     "iopub.status.idle": "2021-08-20T13:30:08.656728Z",
     "shell.execute_reply": "2021-08-20T13:30:08.657991Z"
    },
    "papermill": {
     "duration": 0.162611,
     "end_time": "2021-08-20T13:30:08.658463",
     "exception": false,
     "start_time": "2021-08-20T13:30:08.495852",
     "status": "completed"
    },
    "tags": []
   },
   "outputs": [],
   "source": [
    "df = pd.read_sql(\"select * from EBAY_TOP_BERLIN where record_time in (select distinct record_time from EBAY_TOP_BERLIN order by record_time desc limit 2)\", sqlite3.connect(\"UsedObjects.db\"))"
   ]
  },
  {
   "cell_type": "code",
   "execution_count": 5,
   "id": "popular-active",
   "metadata": {
    "execution": {
     "iopub.execute_input": "2021-08-20T13:30:08.729852Z",
     "iopub.status.busy": "2021-08-20T13:30:08.718481Z",
     "iopub.status.idle": "2021-08-20T13:30:08.745436Z",
     "shell.execute_reply": "2021-08-20T13:30:08.746733Z"
    },
    "papermill": {
     "duration": 0.068496,
     "end_time": "2021-08-20T13:30:08.747133",
     "exception": false,
     "start_time": "2021-08-20T13:30:08.678637",
     "status": "completed"
    },
    "tags": []
   },
   "outputs": [],
   "source": [
    "df_pivot = df.pivot_table(index=\"PRODUCT\", columns = \"RECORD_TIME\", values = \"LISTING_COUNT\")"
   ]
  },
  {
   "cell_type": "code",
   "execution_count": 6,
   "id": "union-huntington",
   "metadata": {
    "execution": {
     "iopub.execute_input": "2021-08-20T13:30:08.801609Z",
     "iopub.status.busy": "2021-08-20T13:30:08.799140Z",
     "iopub.status.idle": "2021-08-20T13:30:08.808760Z",
     "shell.execute_reply": "2021-08-20T13:30:08.807274Z"
    },
    "papermill": {
     "duration": 0.041394,
     "end_time": "2021-08-20T13:30:08.809133",
     "exception": false,
     "start_time": "2021-08-20T13:30:08.767739",
     "status": "completed"
    },
    "tags": []
   },
   "outputs": [],
   "source": [
    "df_pivot.columns = [\"stamp_1\", \"stamp_2\"]\n",
    "df_pivot_diff = df_pivot.diff(axis=1)"
   ]
  },
  {
   "cell_type": "code",
   "execution_count": 7,
   "id": "fifth-motion",
   "metadata": {
    "execution": {
     "iopub.execute_input": "2021-08-20T13:30:08.866417Z",
     "iopub.status.busy": "2021-08-20T13:30:08.863709Z",
     "iopub.status.idle": "2021-08-20T13:30:10.341586Z",
     "shell.execute_reply": "2021-08-20T13:30:10.343052Z"
    },
    "papermill": {
     "duration": 1.511456,
     "end_time": "2021-08-20T13:30:10.343503",
     "exception": false,
     "start_time": "2021-08-20T13:30:08.832047",
     "status": "completed"
    },
    "tags": []
   },
   "outputs": [
    {
     "data": {
      "text/plain": [
       "<AxesSubplot:ylabel='PRODUCT'>"
      ]
     },
     "execution_count": 7,
     "metadata": {},
     "output_type": "execute_result"
    },
    {
     "data": {
      "image/png": "[encoded data removed]",
      "text/plain": [
       "<Figure size 432x288 with 1 Axes>"
      ]
     },
     "metadata": {
      "needs_background": "light"
     },
     "output_type": "display_data"
    }
   ],
   "source": [
    "df_pivot_diff.sort_values(\"stamp_2\", ascending = False)[\"stamp_2\"].head(10).plot.barh()"
   ]
  },
  {
   "cell_type": "code",
   "execution_count": null,
   "id": "extra-executive",
   "metadata": {
    "papermill": {
     "duration": 0.022149,
     "end_time": "2021-08-20T13:30:10.389282",
     "exception": false,
     "start_time": "2021-08-20T13:30:10.367133",
     "status": "completed"
    },
    "tags": []
   },
   "outputs": [],
   "source": []
  }
 ],
 "metadata": {
  "kernelspec": {
   "display_name": "Python 3",
   "language": "python",
   "name": "python3"
  },
  "language_info": {
   "codemirror_mode": {
    "name": "ipython",
    "version": 3
   },
   "file_extension": ".py",
   "mimetype": "text/x-python",
   "name": "python",
   "nbconvert_exporter": "python",
   "pygments_lexer": "ipython3",
   "version": "3.9.5"
  },
  "papermill": {
   "default_parameters": {},
   "duration": 6.825235,
   "end_time": "2021-08-20T13:30:11.806864",
   "environment_variables": {},
   "exception": null,
   "input_path": "eBay_Overview.ipynb",
   "output_path": "eBay_Overview.ipynb",
   "parameters": {},
   "start_time": "2021-08-20T13:30:04.981629",
   "version": "2.3.3"
  }
 },
 "nbformat": 4,
 "nbformat_minor": 5
}