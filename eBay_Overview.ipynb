{
 "cells": [
  {
   "cell_type": "code",
   "execution_count": 1,
   "id": "reverse-picking",
   "metadata": {
    "execution": {
     "iopub.execute_input": "2021-08-23T11:00:06.843627Z",
     "iopub.status.busy": "2021-08-23T11:00:06.841634Z",
     "iopub.status.idle": "2021-08-23T11:00:07.649171Z",
     "shell.execute_reply": "2021-08-23T11:00:07.650497Z"
    },
    "papermill": {
     "duration": 0.859302,
     "end_time": "2021-08-23T11:00:07.651131",
     "exception": false,
     "start_time": "2021-08-23T11:00:06.791829",
     "status": "completed"
    },
    "tags": []
   },
   "outputs": [],
   "source": [
    "import pandas as pd\n",
    "import sqlite3"
   ]
  },
  {
   "cell_type": "code",
   "execution_count": 2,
   "id": "innovative-syndrome",
   "metadata": {
    "execution": {
     "iopub.execute_input": "2021-08-23T11:00:07.701011Z",
     "iopub.status.busy": "2021-08-23T11:00:07.699189Z",
     "iopub.status.idle": "2021-08-23T11:00:07.809367Z",
     "shell.execute_reply": "2021-08-23T11:00:07.810755Z"
    },
    "papermill": {
     "duration": 0.139562,
     "end_time": "2021-08-23T11:00:07.811175",
     "exception": false,
     "start_time": "2021-08-23T11:00:07.671613",
     "status": "completed"
    },
    "tags": []
   },
   "outputs": [],
   "source": [
    "timestamps = pd.read_sql(\"select distinct record_time from EBAY_TOP_BERLIN order by record_time desc limit 2\", sqlite3.connect(\"UsedObjects.db\"))"
   ]
  },
  {
   "cell_type": "code",
   "execution_count": 3,
   "id": "periodic-identification",
   "metadata": {
    "execution": {
     "iopub.execute_input": "2021-08-23T11:00:07.878758Z",
     "iopub.status.busy": "2021-08-23T11:00:07.876668Z",
     "iopub.status.idle": "2021-08-23T11:00:07.898141Z",
     "shell.execute_reply": "2021-08-23T11:00:07.899668Z"
    },
    "papermill": {
     "duration": 0.067787,
     "end_time": "2021-08-23T11:00:07.900135",
     "exception": false,
     "start_time": "2021-08-23T11:00:07.832348",
     "status": "completed"
    },
    "tags": []
   },
   "outputs": [
    {
     "data": {
      "text/html": [
       "<div>\n",
       "<style scoped>\n",
       "    .dataframe tbody tr th:only-of-type {\n",
       "        vertical-align: middle;\n",
       "    }\n",
       "\n",
       "    .dataframe tbody tr th {\n",
       "        vertical-align: top;\n",
       "    }\n",
       "\n",
       "    .dataframe thead th {\n",
       "        text-align: right;\n",
       "    }\n",
       "</style>\n",
       "<table border=\"1\" class=\"dataframe\">\n",
       "  <thead>\n",
       "    <tr style=\"text-align: right;\">\n",
       "      <th></th>\n",
       "      <th>RECORD_TIME</th>\n",
       "    </tr>\n",
       "  </thead>\n",
       "  <tbody>\n",
       "    <tr>\n",
       "      <th>0</th>\n",
       "      <td>2021-08-23 13:00</td>\n",
       "    </tr>\n",
       "    <tr>\n",
       "      <th>1</th>\n",
       "      <td>2021-08-23 12:30</td>\n",
       "    </tr>\n",
       "  </tbody>\n",
       "</table>\n",
       "</div>"
      ],
      "text/plain": [
       "        RECORD_TIME\n",
       "0  2021-08-23 13:00\n",
       "1  2021-08-23 12:30"
      ]
     },
     "execution_count": 3,
     "metadata": {},
     "output_type": "execute_result"
    }
   ],
   "source": [
    "timestamps"
   ]
  },
  {
   "cell_type": "code",
   "execution_count": 4,
   "id": "alternate-victory",
   "metadata": {
    "execution": {
     "iopub.execute_input": "2021-08-23T11:00:07.950809Z",
     "iopub.status.busy": "2021-08-23T11:00:07.948923Z",
     "iopub.status.idle": "2021-08-23T11:00:08.115549Z",
     "shell.execute_reply": "2021-08-23T11:00:08.116752Z"
    },
    "papermill": {
     "duration": 0.196178,
     "end_time": "2021-08-23T11:00:08.117152",
     "exception": false,
     "start_time": "2021-08-23T11:00:07.920974",
     "status": "completed"
    },
    "tags": []
   },
   "outputs": [],
   "source": [
    "df = pd.read_sql(\"select * from EBAY_TOP_BERLIN where record_time in (select distinct record_time from EBAY_TOP_BERLIN order by record_time desc limit 2)\", sqlite3.connect(\"UsedObjects.db\"))"
   ]
  },
  {
   "cell_type": "code",
   "execution_count": 5,
   "id": "popular-active",
   "metadata": {
    "execution": {
     "iopub.execute_input": "2021-08-23T11:00:08.187583Z",
     "iopub.status.busy": "2021-08-23T11:00:08.175211Z",
     "iopub.status.idle": "2021-08-23T11:00:08.203565Z",
     "shell.execute_reply": "2021-08-23T11:00:08.204833Z"
    },
    "papermill": {
     "duration": 0.068032,
     "end_time": "2021-08-23T11:00:08.205252",
     "exception": false,
     "start_time": "2021-08-23T11:00:08.137220",
     "status": "completed"
    },
    "tags": []
   },
   "outputs": [],
   "source": [
    "df_pivot = df.pivot_table(index=\"PRODUCT\", columns = \"RECORD_TIME\", values = \"LISTING_COUNT\")"
   ]
  },
  {
   "cell_type": "code",
   "execution_count": 6,
   "id": "union-huntington",
   "metadata": {
    "execution": {
     "iopub.execute_input": "2021-08-23T11:00:08.261062Z",
     "iopub.status.busy": "2021-08-23T11:00:08.259025Z",
     "iopub.status.idle": "2021-08-23T11:00:08.264185Z",
     "shell.execute_reply": "2021-08-23T11:00:08.265444Z"
    },
    "papermill": {
     "duration": 0.039851,
     "end_time": "2021-08-23T11:00:08.265863",
     "exception": false,
     "start_time": "2021-08-23T11:00:08.226012",
     "status": "completed"
    },
    "tags": []
   },
   "outputs": [],
   "source": [
    "df_pivot.columns = [\"stamp_1\", \"stamp_2\"]\n",
    "df_pivot_diff = df_pivot.diff(axis=1)"
   ]
  },
  {
   "cell_type": "code",
   "execution_count": 7,
   "id": "fifth-motion",
   "metadata": {
    "execution": {
     "iopub.execute_input": "2021-08-23T11:00:08.327556Z",
     "iopub.status.busy": "2021-08-23T11:00:08.325073Z",
     "iopub.status.idle": "2021-08-23T11:00:09.800433Z",
     "shell.execute_reply": "2021-08-23T11:00:09.801706Z"
    },
    "papermill": {
     "duration": 1.510396,
     "end_time": "2021-08-23T11:00:09.802198",
     "exception": false,
     "start_time": "2021-08-23T11:00:08.291802",
     "status": "completed"
    },
    "tags": []
   },
   "outputs": [
    {
     "data": {
      "text/plain": [
       "<AxesSubplot:ylabel='PRODUCT'>"
      ]
     },
     "execution_count": 7,
     "metadata": {},
     "output_type": "execute_result"
    },
    {
     "data": {
      "image/png": "[encoded data removed]",
      "text/plain": [
       "<Figure size 432x288 with 1 Axes>"
      ]
     },
     "metadata": {
      "needs_background": "light"
     },
     "output_type": "display_data"
    }
   ],
   "source": [
    "df_pivot_diff.sort_values(\"stamp_2\", ascending = False)[\"stamp_2\"].head(10).plot.barh()"
   ]
  },
  {
   "cell_type": "code",
   "execution_count": null,
   "id": "extra-executive",
   "metadata": {
    "papermill": {
     "duration": 0.02186,
     "end_time": "2021-08-23T11:00:09.848411",
     "exception": false,
     "start_time": "2021-08-23T11:00:09.826551",
     "status": "completed"
    },
    "tags": []
   },
   "outputs": [],
   "source": []
  }
 ],
 "metadata": {
  "kernelspec": {
   "display_name": "Python 3",
   "language": "python",
   "name": "python3"
  },
  "language_info": {
   "codemirror_mode": {
    "name": "ipython",
    "version": 3
   },
   "file_extension": ".py",
   "mimetype": "text/x-python",
   "name": "python",
   "nbconvert_exporter": "python",
   "pygments_lexer": "ipython3",
   "version": "3.9.5"
  },
  "papermill": {
   "default_parameters": {},
   "duration": 6.821085,
   "end_time": "2021-08-23T11:00:11.203844",
   "environment_variables": {},
   "exception": null,
   "input_path": "eBay_Overview.ipynb",
   "output_path": "eBay_Overview.ipynb",
   "parameters": {},
   "start_time": "2021-08-23T11:00:04.382759",
   "version": "2.3.3"
  }
 },
 "nbformat": 4,
 "nbformat_minor": 5
}