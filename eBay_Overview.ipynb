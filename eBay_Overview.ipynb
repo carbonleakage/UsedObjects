{
 "cells": [
  {
   "cell_type": "code",
   "execution_count": 1,
   "id": "reverse-picking",
   "metadata": {
    "execution": {
     "iopub.execute_input": "2021-09-24T05:00:07.569189Z",
     "iopub.status.busy": "2021-09-24T05:00:07.567216Z",
     "iopub.status.idle": "2021-09-24T05:00:08.371783Z",
     "shell.execute_reply": "2021-09-24T05:00:08.373059Z"
    },
    "papermill": {
     "duration": 0.857708,
     "end_time": "2021-09-24T05:00:08.373673",
     "exception": false,
     "start_time": "2021-09-24T05:00:07.515965",
     "status": "completed"
    },
    "tags": []
   },
   "outputs": [],
   "source": [
    "import pandas as pd\n",
    "import sqlite3"
   ]
  },
  {
   "cell_type": "code",
   "execution_count": 2,
   "id": "innovative-syndrome",
   "metadata": {
    "execution": {
     "iopub.execute_input": "2021-09-24T05:00:08.424734Z",
     "iopub.status.busy": "2021-09-24T05:00:08.422847Z",
     "iopub.status.idle": "2021-09-24T05:00:08.778585Z",
     "shell.execute_reply": "2021-09-24T05:00:08.779947Z"
    },
    "papermill": {
     "duration": 0.385134,
     "end_time": "2021-09-24T05:00:08.780361",
     "exception": false,
     "start_time": "2021-09-24T05:00:08.395227",
     "status": "completed"
    },
    "tags": []
   },
   "outputs": [],
   "source": [
    "timestamps = pd.read_sql(\"select distinct record_time from EBAY_TOP_BERLIN order by record_time desc limit 2\", sqlite3.connect(\"UsedObjects.db\"))"
   ]
  },
  {
   "cell_type": "code",
   "execution_count": 3,
   "id": "periodic-identification",
   "metadata": {
    "execution": {
     "iopub.execute_input": "2021-09-24T05:00:08.848215Z",
     "iopub.status.busy": "2021-09-24T05:00:08.843158Z",
     "iopub.status.idle": "2021-09-24T05:00:08.864294Z",
     "shell.execute_reply": "2021-09-24T05:00:08.865649Z"
    },
    "papermill": {
     "duration": 0.066084,
     "end_time": "2021-09-24T05:00:08.866127",
     "exception": false,
     "start_time": "2021-09-24T05:00:08.800043",
     "status": "completed"
    },
    "tags": []
   },
   "outputs": [
    {
     "data": {
      "text/html": [
       "<div>\n",
       "<style scoped>\n",
       "    .dataframe tbody tr th:only-of-type {\n",
       "        vertical-align: middle;\n",
       "    }\n",
       "\n",
       "    .dataframe tbody tr th {\n",
       "        vertical-align: top;\n",
       "    }\n",
       "\n",
       "    .dataframe thead th {\n",
       "        text-align: right;\n",
       "    }\n",
       "</style>\n",
       "<table border=\"1\" class=\"dataframe\">\n",
       "  <thead>\n",
       "    <tr style=\"text-align: right;\">\n",
       "      <th></th>\n",
       "      <th>RECORD_TIME</th>\n",
       "    </tr>\n",
       "  </thead>\n",
       "  <tbody>\n",
       "    <tr>\n",
       "      <th>0</th>\n",
       "      <td>2021-09-24 07:00</td>\n",
       "    </tr>\n",
       "    <tr>\n",
       "      <th>1</th>\n",
       "      <td>2021-09-24 06:30</td>\n",
       "    </tr>\n",
       "  </tbody>\n",
       "</table>\n",
       "</div>"
      ],
      "text/plain": [
       "        RECORD_TIME\n",
       "0  2021-09-24 07:00\n",
       "1  2021-09-24 06:30"
      ]
     },
     "execution_count": 3,
     "metadata": {},
     "output_type": "execute_result"
    }
   ],
   "source": [
    "timestamps"
   ]
  },
  {
   "cell_type": "code",
   "execution_count": 4,
   "id": "alternate-victory",
   "metadata": {
    "execution": {
     "iopub.execute_input": "2021-09-24T05:00:08.920726Z",
     "iopub.status.busy": "2021-09-24T05:00:08.918349Z",
     "iopub.status.idle": "2021-09-24T05:00:09.444422Z",
     "shell.execute_reply": "2021-09-24T05:00:09.445697Z"
    },
    "papermill": {
     "duration": 0.556454,
     "end_time": "2021-09-24T05:00:09.446109",
     "exception": false,
     "start_time": "2021-09-24T05:00:08.889655",
     "status": "completed"
    },
    "tags": []
   },
   "outputs": [],
   "source": [
    "df = pd.read_sql(\"select * from EBAY_TOP_BERLIN where record_time in (select distinct record_time from EBAY_TOP_BERLIN order by record_time desc limit 2)\", sqlite3.connect(\"UsedObjects.db\"))"
   ]
  },
  {
   "cell_type": "code",
   "execution_count": 5,
   "id": "popular-active",
   "metadata": {
    "execution": {
     "iopub.execute_input": "2021-09-24T05:00:09.524334Z",
     "iopub.status.busy": "2021-09-24T05:00:09.512608Z",
     "iopub.status.idle": "2021-09-24T05:00:09.540034Z",
     "shell.execute_reply": "2021-09-24T05:00:09.541259Z"
    },
    "papermill": {
     "duration": 0.070242,
     "end_time": "2021-09-24T05:00:09.541651",
     "exception": false,
     "start_time": "2021-09-24T05:00:09.471409",
     "status": "completed"
    },
    "tags": []
   },
   "outputs": [],
   "source": [
    "df_pivot = df.pivot_table(index=\"PRODUCT\", columns = \"RECORD_TIME\", values = \"LISTING_COUNT\")"
   ]
  },
  {
   "cell_type": "code",
   "execution_count": 6,
   "id": "union-huntington",
   "metadata": {
    "execution": {
     "iopub.execute_input": "2021-09-24T05:00:09.597034Z",
     "iopub.status.busy": "2021-09-24T05:00:09.595066Z",
     "iopub.status.idle": "2021-09-24T05:00:09.599985Z",
     "shell.execute_reply": "2021-09-24T05:00:09.601192Z"
    },
    "papermill": {
     "duration": 0.039366,
     "end_time": "2021-09-24T05:00:09.601582",
     "exception": false,
     "start_time": "2021-09-24T05:00:09.562216",
     "status": "completed"
    },
    "tags": []
   },
   "outputs": [],
   "source": [
    "df_pivot.columns = [\"stamp_1\", \"stamp_2\"]\n",
    "df_pivot_diff = df_pivot.diff(axis=1)"
   ]
  },
  {
   "cell_type": "code",
   "execution_count": 7,
   "id": "fifth-motion",
   "metadata": {
    "execution": {
     "iopub.execute_input": "2021-09-24T05:00:09.656432Z",
     "iopub.status.busy": "2021-09-24T05:00:09.653846Z",
     "iopub.status.idle": "2021-09-24T05:00:11.134574Z",
     "shell.execute_reply": "2021-09-24T05:00:11.136239Z"
    },
    "papermill": {
     "duration": 1.514094,
     "end_time": "2021-09-24T05:00:11.136740",
     "exception": false,
     "start_time": "2021-09-24T05:00:09.622646",
     "status": "completed"
    },
    "tags": []
   },
   "outputs": [
    {
     "data": {
      "text/plain": [
       "<AxesSubplot:ylabel='PRODUCT'>"
      ]
     },
     "execution_count": 7,
     "metadata": {},
     "output_type": "execute_result"
    },
    {
     "data": {
      "image/png": "[encoded data removed]",
      "text/plain": [
       "<Figure size 432x288 with 1 Axes>"
      ]
     },
     "metadata": {
      "needs_background": "light"
     },
     "output_type": "display_data"
    }
   ],
   "source": [
    "df_pivot_diff.sort_values(\"stamp_2\", ascending = False)[\"stamp_2\"].head(10).plot.barh()"
   ]
  },
  {
   "cell_type": "code",
   "execution_count": null,
   "id": "extra-executive",
   "metadata": {
    "papermill": {
     "duration": 0.022168,
     "end_time": "2021-09-24T05:00:11.183442",
     "exception": false,
     "start_time": "2021-09-24T05:00:11.161274",
     "status": "completed"
    },
    "tags": []
   },
   "outputs": [],
   "source": []
  }
 ],
 "metadata": {
  "kernelspec": {
   "display_name": "Python 3",
   "language": "python",
   "name": "python3"
  },
  "language_info": {
   "codemirror_mode": {
    "name": "ipython",
    "version": 3
   },
   "file_extension": ".py",
   "mimetype": "text/x-python",
   "name": "python",
   "nbconvert_exporter": "python",
   "pygments_lexer": "ipython3",
   "version": "3.9.5"
  },
  "papermill": {
   "default_parameters": {},
   "duration": 6.725258,
   "end_time": "2021-09-24T05:00:11.825869",
   "environment_variables": {},
   "exception": null,
   "input_path": "eBay_Overview.ipynb",
   "output_path": "eBay_Overview.ipynb",
   "parameters": {},
   "start_time": "2021-09-24T05:00:05.100611",
   "version": "2.3.3"
  }
 },
 "nbformat": 4,
 "nbformat_minor": 5
}