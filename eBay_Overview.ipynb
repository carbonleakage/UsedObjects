{
 "cells": [
  {
   "cell_type": "code",
   "execution_count": 1,
   "id": "reverse-picking",
   "metadata": {
    "execution": {
     "iopub.execute_input": "2021-11-08T08:00:08.202946Z",
     "iopub.status.busy": "2021-11-08T08:00:08.200657Z",
     "iopub.status.idle": "2021-11-08T08:00:09.152414Z",
     "shell.execute_reply": "2021-11-08T08:00:09.154087Z"
    },
    "papermill": {
     "duration": 1.00002,
     "end_time": "2021-11-08T08:00:09.154879",
     "exception": false,
     "start_time": "2021-11-08T08:00:08.154859",
     "status": "completed"
    },
    "tags": []
   },
   "outputs": [],
   "source": [
    "import pandas as pd\n",
    "import sqlite3"
   ]
  },
  {
   "cell_type": "code",
   "execution_count": 2,
   "id": "innovative-syndrome",
   "metadata": {
    "execution": {
     "iopub.execute_input": "2021-11-08T08:00:09.219971Z",
     "iopub.status.busy": "2021-11-08T08:00:09.217421Z",
     "iopub.status.idle": "2021-11-08T08:00:09.983985Z",
     "shell.execute_reply": "2021-11-08T08:00:09.985524Z"
    },
    "papermill": {
     "duration": 0.800456,
     "end_time": "2021-11-08T08:00:09.986075",
     "exception": false,
     "start_time": "2021-11-08T08:00:09.185619",
     "status": "completed"
    },
    "tags": []
   },
   "outputs": [],
   "source": [
    "timestamps = pd.read_sql(\"select distinct record_time from EBAY_TOP_BERLIN order by record_time desc limit 2\", sqlite3.connect(\"UsedObjects.db\"))"
   ]
  },
  {
   "cell_type": "code",
   "execution_count": 3,
   "id": "periodic-identification",
   "metadata": {
    "execution": {
     "iopub.execute_input": "2021-11-08T08:00:10.057584Z",
     "iopub.status.busy": "2021-11-08T08:00:10.055003Z",
     "iopub.status.idle": "2021-11-08T08:00:10.077757Z",
     "shell.execute_reply": "2021-11-08T08:00:10.079135Z"
    },
    "papermill": {
     "duration": 0.073234,
     "end_time": "2021-11-08T08:00:10.079622",
     "exception": false,
     "start_time": "2021-11-08T08:00:10.006388",
     "status": "completed"
    },
    "tags": []
   },
   "outputs": [
    {
     "data": {
      "text/html": [
       "<div>\n",
       "<style scoped>\n",
       "    .dataframe tbody tr th:only-of-type {\n",
       "        vertical-align: middle;\n",
       "    }\n",
       "\n",
       "    .dataframe tbody tr th {\n",
       "        vertical-align: top;\n",
       "    }\n",
       "\n",
       "    .dataframe thead th {\n",
       "        text-align: right;\n",
       "    }\n",
       "</style>\n",
       "<table border=\"1\" class=\"dataframe\">\n",
       "  <thead>\n",
       "    <tr style=\"text-align: right;\">\n",
       "      <th></th>\n",
       "      <th>RECORD_TIME</th>\n",
       "    </tr>\n",
       "  </thead>\n",
       "  <tbody>\n",
       "    <tr>\n",
       "      <th>0</th>\n",
       "      <td>2021-11-08 09:00</td>\n",
       "    </tr>\n",
       "    <tr>\n",
       "      <th>1</th>\n",
       "      <td>2021-11-08 08:30</td>\n",
       "    </tr>\n",
       "  </tbody>\n",
       "</table>\n",
       "</div>"
      ],
      "text/plain": [
       "        RECORD_TIME\n",
       "0  2021-11-08 09:00\n",
       "1  2021-11-08 08:30"
      ]
     },
     "execution_count": 3,
     "metadata": {},
     "output_type": "execute_result"
    }
   ],
   "source": [
    "timestamps"
   ]
  },
  {
   "cell_type": "code",
   "execution_count": 4,
   "id": "alternate-victory",
   "metadata": {
    "execution": {
     "iopub.execute_input": "2021-11-08T08:00:10.136289Z",
     "iopub.status.busy": "2021-11-08T08:00:10.134142Z",
     "iopub.status.idle": "2021-11-08T08:00:11.261945Z",
     "shell.execute_reply": "2021-11-08T08:00:11.263704Z"
    },
    "papermill": {
     "duration": 1.161803,
     "end_time": "2021-11-08T08:00:11.264117",
     "exception": false,
     "start_time": "2021-11-08T08:00:10.102314",
     "status": "completed"
    },
    "tags": []
   },
   "outputs": [],
   "source": [
    "df = pd.read_sql(\"select * from EBAY_TOP_BERLIN where record_time in (select distinct record_time from EBAY_TOP_BERLIN order by record_time desc limit 2)\", sqlite3.connect(\"UsedObjects.db\"))"
   ]
  },
  {
   "cell_type": "code",
   "execution_count": 5,
   "id": "popular-active",
   "metadata": {
    "execution": {
     "iopub.execute_input": "2021-11-08T08:00:11.354617Z",
     "iopub.status.busy": "2021-11-08T08:00:11.339719Z",
     "iopub.status.idle": "2021-11-08T08:00:11.373899Z",
     "shell.execute_reply": "2021-11-08T08:00:11.375427Z"
    },
    "papermill": {
     "duration": 0.078127,
     "end_time": "2021-11-08T08:00:11.375922",
     "exception": false,
     "start_time": "2021-11-08T08:00:11.297795",
     "status": "completed"
    },
    "tags": []
   },
   "outputs": [],
   "source": [
    "df_pivot = df.pivot_table(index=\"PRODUCT\", columns = \"RECORD_TIME\", values = \"LISTING_COUNT\")"
   ]
  },
  {
   "cell_type": "code",
   "execution_count": 6,
   "id": "union-huntington",
   "metadata": {
    "execution": {
     "iopub.execute_input": "2021-11-08T08:00:11.436771Z",
     "iopub.status.busy": "2021-11-08T08:00:11.434417Z",
     "iopub.status.idle": "2021-11-08T08:00:11.440175Z",
     "shell.execute_reply": "2021-11-08T08:00:11.441915Z"
    },
    "papermill": {
     "duration": 0.045588,
     "end_time": "2021-11-08T08:00:11.442419",
     "exception": false,
     "start_time": "2021-11-08T08:00:11.396831",
     "status": "completed"
    },
    "tags": []
   },
   "outputs": [],
   "source": [
    "df_pivot.columns = [\"stamp_1\", \"stamp_2\"]\n",
    "df_pivot_diff = df_pivot.diff(axis=1)"
   ]
  },
  {
   "cell_type": "code",
   "execution_count": 7,
   "id": "fifth-motion",
   "metadata": {
    "execution": {
     "iopub.execute_input": "2021-11-08T08:00:11.501630Z",
     "iopub.status.busy": "2021-11-08T08:00:11.499128Z",
     "iopub.status.idle": "2021-11-08T08:00:13.253557Z",
     "shell.execute_reply": "2021-11-08T08:00:13.254936Z"
    },
    "papermill": {
     "duration": 1.789958,
     "end_time": "2021-11-08T08:00:13.255413",
     "exception": false,
     "start_time": "2021-11-08T08:00:11.465455",
     "status": "completed"
    },
    "tags": []
   },
   "outputs": [
    {
     "data": {
      "text/plain": [
       "<AxesSubplot:ylabel='PRODUCT'>"
      ]
     },
     "execution_count": 7,
     "metadata": {},
     "output_type": "execute_result"
    },
    {
     "data": {
      "image/png": "[encoded data removed]",
      "text/plain": [
       "<Figure size 432x288 with 1 Axes>"
      ]
     },
     "metadata": {
      "needs_background": "light"
     },
     "output_type": "display_data"
    }
   ],
   "source": [
    "df_pivot_diff.sort_values(\"stamp_2\", ascending = False)[\"stamp_2\"].head(10).plot.barh()"
   ]
  },
  {
   "cell_type": "code",
   "execution_count": null,
   "id": "extra-executive",
   "metadata": {
    "papermill": {
     "duration": 0.024256,
     "end_time": "2021-11-08T08:00:13.303534",
     "exception": false,
     "start_time": "2021-11-08T08:00:13.279278",
     "status": "completed"
    },
    "tags": []
   },
   "outputs": [],
   "source": []
  }
 ],
 "metadata": {
  "kernelspec": {
   "display_name": "Python 3",
   "language": "python",
   "name": "python3"
  },
  "language_info": {
   "codemirror_mode": {
    "name": "ipython",
    "version": 3
   },
   "file_extension": ".py",
   "mimetype": "text/x-python",
   "name": "python",
   "nbconvert_exporter": "python",
   "pygments_lexer": "ipython3",
   "version": "3.9.5"
  },
  "papermill": {
   "default_parameters": {},
   "duration": 8.818916,
   "end_time": "2021-11-08T08:00:14.151890",
   "environment_variables": {},
   "exception": null,
   "input_path": "eBay_Overview.ipynb",
   "output_path": "eBay_Overview.ipynb",
   "parameters": {},
   "start_time": "2021-11-08T08:00:05.332974",
   "version": "2.3.3"
  }
 },
 "nbformat": 4,
 "nbformat_minor": 5
}