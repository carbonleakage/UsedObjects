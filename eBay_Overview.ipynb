{
 "cells": [
  {
   "cell_type": "code",
   "execution_count": 1,
   "id": "reverse-picking",
   "metadata": {
    "execution": {
     "iopub.execute_input": "2021-09-21T23:00:07.220830Z",
     "iopub.status.busy": "2021-09-21T23:00:07.218907Z",
     "iopub.status.idle": "2021-09-21T23:00:08.022587Z",
     "shell.execute_reply": "2021-09-21T23:00:08.024139Z"
    },
    "papermill": {
     "duration": 0.856488,
     "end_time": "2021-09-21T23:00:08.024820",
     "exception": false,
     "start_time": "2021-09-21T23:00:07.168332",
     "status": "completed"
    },
    "tags": []
   },
   "outputs": [],
   "source": [
    "import pandas as pd\n",
    "import sqlite3"
   ]
  },
  {
   "cell_type": "code",
   "execution_count": 2,
   "id": "innovative-syndrome",
   "metadata": {
    "execution": {
     "iopub.execute_input": "2021-09-21T23:00:08.075728Z",
     "iopub.status.busy": "2021-09-21T23:00:08.073682Z",
     "iopub.status.idle": "2021-09-21T23:00:08.416128Z",
     "shell.execute_reply": "2021-09-21T23:00:08.417515Z"
    },
    "papermill": {
     "duration": 0.372738,
     "end_time": "2021-09-21T23:00:08.417959",
     "exception": false,
     "start_time": "2021-09-21T23:00:08.045221",
     "status": "completed"
    },
    "tags": []
   },
   "outputs": [],
   "source": [
    "timestamps = pd.read_sql(\"select distinct record_time from EBAY_TOP_BERLIN order by record_time desc limit 2\", sqlite3.connect(\"UsedObjects.db\"))"
   ]
  },
  {
   "cell_type": "code",
   "execution_count": 3,
   "id": "periodic-identification",
   "metadata": {
    "execution": {
     "iopub.execute_input": "2021-09-21T23:00:08.485061Z",
     "iopub.status.busy": "2021-09-21T23:00:08.483034Z",
     "iopub.status.idle": "2021-09-21T23:00:08.505133Z",
     "shell.execute_reply": "2021-09-21T23:00:08.506351Z"
    },
    "papermill": {
     "duration": 0.068917,
     "end_time": "2021-09-21T23:00:08.506750",
     "exception": false,
     "start_time": "2021-09-21T23:00:08.437833",
     "status": "completed"
    },
    "tags": []
   },
   "outputs": [
    {
     "data": {
      "text/html": [
       "<div>\n",
       "<style scoped>\n",
       "    .dataframe tbody tr th:only-of-type {\n",
       "        vertical-align: middle;\n",
       "    }\n",
       "\n",
       "    .dataframe tbody tr th {\n",
       "        vertical-align: top;\n",
       "    }\n",
       "\n",
       "    .dataframe thead th {\n",
       "        text-align: right;\n",
       "    }\n",
       "</style>\n",
       "<table border=\"1\" class=\"dataframe\">\n",
       "  <thead>\n",
       "    <tr style=\"text-align: right;\">\n",
       "      <th></th>\n",
       "      <th>RECORD_TIME</th>\n",
       "    </tr>\n",
       "  </thead>\n",
       "  <tbody>\n",
       "    <tr>\n",
       "      <th>0</th>\n",
       "      <td>2021-09-22 01:00</td>\n",
       "    </tr>\n",
       "    <tr>\n",
       "      <th>1</th>\n",
       "      <td>2021-09-22 00:30</td>\n",
       "    </tr>\n",
       "  </tbody>\n",
       "</table>\n",
       "</div>"
      ],
      "text/plain": [
       "        RECORD_TIME\n",
       "0  2021-09-22 01:00\n",
       "1  2021-09-22 00:30"
      ]
     },
     "execution_count": 3,
     "metadata": {},
     "output_type": "execute_result"
    }
   ],
   "source": [
    "timestamps"
   ]
  },
  {
   "cell_type": "code",
   "execution_count": 4,
   "id": "alternate-victory",
   "metadata": {
    "execution": {
     "iopub.execute_input": "2021-09-21T23:00:08.560544Z",
     "iopub.status.busy": "2021-09-21T23:00:08.558173Z",
     "iopub.status.idle": "2021-09-21T23:00:09.061377Z",
     "shell.execute_reply": "2021-09-21T23:00:09.062661Z"
    },
    "papermill": {
     "duration": 0.533608,
     "end_time": "2021-09-21T23:00:09.063147",
     "exception": false,
     "start_time": "2021-09-21T23:00:08.529539",
     "status": "completed"
    },
    "tags": []
   },
   "outputs": [],
   "source": [
    "df = pd.read_sql(\"select * from EBAY_TOP_BERLIN where record_time in (select distinct record_time from EBAY_TOP_BERLIN order by record_time desc limit 2)\", sqlite3.connect(\"UsedObjects.db\"))"
   ]
  },
  {
   "cell_type": "code",
   "execution_count": 5,
   "id": "popular-active",
   "metadata": {
    "execution": {
     "iopub.execute_input": "2021-09-21T23:00:09.155972Z",
     "iopub.status.busy": "2021-09-21T23:00:09.143612Z",
     "iopub.status.idle": "2021-09-21T23:00:09.172033Z",
     "shell.execute_reply": "2021-09-21T23:00:09.173441Z"
    },
    "papermill": {
     "duration": 0.074769,
     "end_time": "2021-09-21T23:00:09.173883",
     "exception": false,
     "start_time": "2021-09-21T23:00:09.099114",
     "status": "completed"
    },
    "tags": []
   },
   "outputs": [],
   "source": [
    "df_pivot = df.pivot_table(index=\"PRODUCT\", columns = \"RECORD_TIME\", values = \"LISTING_COUNT\")"
   ]
  },
  {
   "cell_type": "code",
   "execution_count": 6,
   "id": "union-huntington",
   "metadata": {
    "execution": {
     "iopub.execute_input": "2021-09-21T23:00:09.230298Z",
     "iopub.status.busy": "2021-09-21T23:00:09.228166Z",
     "iopub.status.idle": "2021-09-21T23:00:09.233621Z",
     "shell.execute_reply": "2021-09-21T23:00:09.234998Z"
    },
    "papermill": {
     "duration": 0.041182,
     "end_time": "2021-09-21T23:00:09.235429",
     "exception": false,
     "start_time": "2021-09-21T23:00:09.194247",
     "status": "completed"
    },
    "tags": []
   },
   "outputs": [],
   "source": [
    "df_pivot.columns = [\"stamp_1\", \"stamp_2\"]\n",
    "df_pivot_diff = df_pivot.diff(axis=1)"
   ]
  },
  {
   "cell_type": "code",
   "execution_count": 7,
   "id": "fifth-motion",
   "metadata": {
    "execution": {
     "iopub.execute_input": "2021-09-21T23:00:09.291611Z",
     "iopub.status.busy": "2021-09-21T23:00:09.289007Z",
     "iopub.status.idle": "2021-09-21T23:00:10.806983Z",
     "shell.execute_reply": "2021-09-21T23:00:10.808425Z"
    },
    "papermill": {
     "duration": 1.551222,
     "end_time": "2021-09-21T23:00:10.808875",
     "exception": false,
     "start_time": "2021-09-21T23:00:09.257653",
     "status": "completed"
    },
    "tags": []
   },
   "outputs": [
    {
     "data": {
      "text/plain": [
       "<AxesSubplot:ylabel='PRODUCT'>"
      ]
     },
     "execution_count": 7,
     "metadata": {},
     "output_type": "execute_result"
    },
    {
     "data": {
      "image/png": "[encoded data removed]",
      "text/plain": [
       "<Figure size 432x288 with 1 Axes>"
      ]
     },
     "metadata": {
      "needs_background": "light"
     },
     "output_type": "display_data"
    }
   ],
   "source": [
    "df_pivot_diff.sort_values(\"stamp_2\", ascending = False)[\"stamp_2\"].head(10).plot.barh()"
   ]
  },
  {
   "cell_type": "code",
   "execution_count": null,
   "id": "extra-executive",
   "metadata": {
    "papermill": {
     "duration": 0.022492,
     "end_time": "2021-09-21T23:00:10.855179",
     "exception": false,
     "start_time": "2021-09-21T23:00:10.832687",
     "status": "completed"
    },
    "tags": []
   },
   "outputs": [],
   "source": []
  }
 ],
 "metadata": {
  "kernelspec": {
   "display_name": "Python 3",
   "language": "python",
   "name": "python3"
  },
  "language_info": {
   "codemirror_mode": {
    "name": "ipython",
    "version": 3
   },
   "file_extension": ".py",
   "mimetype": "text/x-python",
   "name": "python",
   "nbconvert_exporter": "python",
   "pygments_lexer": "ipython3",
   "version": "3.9.5"
  },
  "papermill": {
   "default_parameters": {},
   "duration": 6.730107,
   "end_time": "2021-09-21T23:00:11.498313",
   "environment_variables": {},
   "exception": null,
   "input_path": "eBay_Overview.ipynb",
   "output_path": "eBay_Overview.ipynb",
   "parameters": {},
   "start_time": "2021-09-21T23:00:04.768206",
   "version": "2.3.3"
  }
 },
 "nbformat": 4,
 "nbformat_minor": 5
}