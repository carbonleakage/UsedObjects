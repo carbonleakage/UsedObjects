{
 "cells": [
  {
   "cell_type": "code",
   "execution_count": 1,
   "id": "reverse-picking",
   "metadata": {
    "execution": {
     "iopub.execute_input": "2021-08-19T08:30:07.748185Z",
     "iopub.status.busy": "2021-08-19T08:30:07.746240Z",
     "iopub.status.idle": "2021-08-19T08:30:08.554346Z",
     "shell.execute_reply": "2021-08-19T08:30:08.552703Z"
    },
    "papermill": {
     "duration": 0.859835,
     "end_time": "2021-08-19T08:30:08.554761",
     "exception": false,
     "start_time": "2021-08-19T08:30:07.694926",
     "status": "completed"
    },
    "tags": []
   },
   "outputs": [],
   "source": [
    "import pandas as pd\n",
    "import sqlite3"
   ]
  },
  {
   "cell_type": "code",
   "execution_count": 2,
   "id": "innovative-syndrome",
   "metadata": {
    "execution": {
     "iopub.execute_input": "2021-08-19T08:30:08.605337Z",
     "iopub.status.busy": "2021-08-19T08:30:08.603490Z",
     "iopub.status.idle": "2021-08-19T08:30:08.683732Z",
     "shell.execute_reply": "2021-08-19T08:30:08.684923Z"
    },
    "papermill": {
     "duration": 0.109742,
     "end_time": "2021-08-19T08:30:08.685324",
     "exception": false,
     "start_time": "2021-08-19T08:30:08.575582",
     "status": "completed"
    },
    "tags": []
   },
   "outputs": [],
   "source": [
    "timestamps = pd.read_sql(\"select distinct record_time from EBAY_TOP_BERLIN order by record_time desc limit 2\", sqlite3.connect(\"UsedObjects.db\"))"
   ]
  },
  {
   "cell_type": "code",
   "execution_count": 3,
   "id": "periodic-identification",
   "metadata": {
    "execution": {
     "iopub.execute_input": "2021-08-19T08:30:08.751833Z",
     "iopub.status.busy": "2021-08-19T08:30:08.749642Z",
     "iopub.status.idle": "2021-08-19T08:30:08.769682Z",
     "shell.execute_reply": "2021-08-19T08:30:08.771117Z"
    },
    "papermill": {
     "duration": 0.065052,
     "end_time": "2021-08-19T08:30:08.771552",
     "exception": false,
     "start_time": "2021-08-19T08:30:08.706500",
     "status": "completed"
    },
    "tags": []
   },
   "outputs": [
    {
     "data": {
      "text/html": [
       "<div>\n",
       "<style scoped>\n",
       "    .dataframe tbody tr th:only-of-type {\n",
       "        vertical-align: middle;\n",
       "    }\n",
       "\n",
       "    .dataframe tbody tr th {\n",
       "        vertical-align: top;\n",
       "    }\n",
       "\n",
       "    .dataframe thead th {\n",
       "        text-align: right;\n",
       "    }\n",
       "</style>\n",
       "<table border=\"1\" class=\"dataframe\">\n",
       "  <thead>\n",
       "    <tr style=\"text-align: right;\">\n",
       "      <th></th>\n",
       "      <th>RECORD_TIME</th>\n",
       "    </tr>\n",
       "  </thead>\n",
       "  <tbody>\n",
       "    <tr>\n",
       "      <th>0</th>\n",
       "      <td>2021-08-19 10:30</td>\n",
       "    </tr>\n",
       "    <tr>\n",
       "      <th>1</th>\n",
       "      <td>2021-08-19 10:00</td>\n",
       "    </tr>\n",
       "  </tbody>\n",
       "</table>\n",
       "</div>"
      ],
      "text/plain": [
       "        RECORD_TIME\n",
       "0  2021-08-19 10:30\n",
       "1  2021-08-19 10:00"
      ]
     },
     "execution_count": 3,
     "metadata": {},
     "output_type": "execute_result"
    }
   ],
   "source": [
    "timestamps"
   ]
  },
  {
   "cell_type": "code",
   "execution_count": 4,
   "id": "alternate-victory",
   "metadata": {
    "execution": {
     "iopub.execute_input": "2021-08-19T08:30:08.824254Z",
     "iopub.status.busy": "2021-08-19T08:30:08.822097Z",
     "iopub.status.idle": "2021-08-19T08:30:08.943183Z",
     "shell.execute_reply": "2021-08-19T08:30:08.944568Z"
    },
    "papermill": {
     "duration": 0.15167,
     "end_time": "2021-08-19T08:30:08.945010",
     "exception": false,
     "start_time": "2021-08-19T08:30:08.793340",
     "status": "completed"
    },
    "tags": []
   },
   "outputs": [],
   "source": [
    "df = pd.read_sql(\"select * from EBAY_TOP_BERLIN where record_time in (select distinct record_time from EBAY_TOP_BERLIN order by record_time desc limit 2)\", sqlite3.connect(\"UsedObjects.db\"))"
   ]
  },
  {
   "cell_type": "code",
   "execution_count": 5,
   "id": "popular-active",
   "metadata": {
    "execution": {
     "iopub.execute_input": "2021-08-19T08:30:09.010957Z",
     "iopub.status.busy": "2021-08-19T08:30:09.002269Z",
     "iopub.status.idle": "2021-08-19T08:30:09.031410Z",
     "shell.execute_reply": "2021-08-19T08:30:09.032628Z"
    },
    "papermill": {
     "duration": 0.067252,
     "end_time": "2021-08-19T08:30:09.033032",
     "exception": false,
     "start_time": "2021-08-19T08:30:08.965780",
     "status": "completed"
    },
    "tags": []
   },
   "outputs": [],
   "source": [
    "df_pivot = df.pivot_table(index=\"PRODUCT\", columns = \"RECORD_TIME\", values = \"LISTING_COUNT\")"
   ]
  },
  {
   "cell_type": "code",
   "execution_count": 6,
   "id": "union-huntington",
   "metadata": {
    "execution": {
     "iopub.execute_input": "2021-08-19T08:30:09.092334Z",
     "iopub.status.busy": "2021-08-19T08:30:09.089871Z",
     "iopub.status.idle": "2021-08-19T08:30:09.096048Z",
     "shell.execute_reply": "2021-08-19T08:30:09.097493Z"
    },
    "papermill": {
     "duration": 0.042615,
     "end_time": "2021-08-19T08:30:09.098012",
     "exception": false,
     "start_time": "2021-08-19T08:30:09.055397",
     "status": "completed"
    },
    "tags": []
   },
   "outputs": [],
   "source": [
    "df_pivot.columns = [\"stamp_1\", \"stamp_2\"]\n",
    "df_pivot_diff = df_pivot.diff(axis=1)"
   ]
  },
  {
   "cell_type": "code",
   "execution_count": 7,
   "id": "fifth-motion",
   "metadata": {
    "execution": {
     "iopub.execute_input": "2021-08-19T08:30:09.153996Z",
     "iopub.status.busy": "2021-08-19T08:30:09.151778Z",
     "iopub.status.idle": "2021-08-19T08:30:10.655906Z",
     "shell.execute_reply": "2021-08-19T08:30:10.657102Z"
    },
    "papermill": {
     "duration": 1.537038,
     "end_time": "2021-08-19T08:30:10.657532",
     "exception": false,
     "start_time": "2021-08-19T08:30:09.120494",
     "status": "completed"
    },
    "tags": []
   },
   "outputs": [
    {
     "data": {
      "text/plain": [
       "<AxesSubplot:ylabel='PRODUCT'>"
      ]
     },
     "execution_count": 7,
     "metadata": {},
     "output_type": "execute_result"
    },
    {
     "data": {
      "image/png": "[encoded data removed]",
      "text/plain": [
       "<Figure size 432x288 with 1 Axes>"
      ]
     },
     "metadata": {
      "needs_background": "light"
     },
     "output_type": "display_data"
    }
   ],
   "source": [
    "df_pivot_diff.sort_values(\"stamp_2\", ascending = False)[\"stamp_2\"].head(10).plot.barh()"
   ]
  },
  {
   "cell_type": "code",
   "execution_count": null,
   "id": "extra-executive",
   "metadata": {
    "papermill": {
     "duration": 0.022444,
     "end_time": "2021-08-19T08:30:10.704282",
     "exception": false,
     "start_time": "2021-08-19T08:30:10.681838",
     "status": "completed"
    },
    "tags": []
   },
   "outputs": [],
   "source": []
  }
 ],
 "metadata": {
  "kernelspec": {
   "display_name": "Python 3",
   "language": "python",
   "name": "python3"
  },
  "language_info": {
   "codemirror_mode": {
    "name": "ipython",
    "version": 3
   },
   "file_extension": ".py",
   "mimetype": "text/x-python",
   "name": "python",
   "nbconvert_exporter": "python",
   "pygments_lexer": "ipython3",
   "version": "3.9.5"
  },
  "papermill": {
   "default_parameters": {},
   "duration": 6.836024,
   "end_time": "2021-08-19T08:30:12.115405",
   "environment_variables": {},
   "exception": null,
   "input_path": "eBay_Overview.ipynb",
   "output_path": "eBay_Overview.ipynb",
   "parameters": {},
   "start_time": "2021-08-19T08:30:05.279381",
   "version": "2.3.3"
  }
 },
 "nbformat": 4,
 "nbformat_minor": 5
}