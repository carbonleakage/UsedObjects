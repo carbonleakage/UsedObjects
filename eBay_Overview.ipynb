{
 "cells": [
  {
   "cell_type": "code",
   "execution_count": 1,
   "id": "reverse-picking",
   "metadata": {
    "execution": {
     "iopub.execute_input": "2021-10-11T18:30:08.011526Z",
     "iopub.status.busy": "2021-10-11T18:30:08.009601Z",
     "iopub.status.idle": "2021-10-11T18:30:08.807780Z",
     "shell.execute_reply": "2021-10-11T18:30:08.809350Z"
    },
    "papermill": {
     "duration": 0.84387,
     "end_time": "2021-10-11T18:30:08.810008",
     "exception": false,
     "start_time": "2021-10-11T18:30:07.966138",
     "status": "completed"
    },
    "tags": []
   },
   "outputs": [],
   "source": [
    "import pandas as pd\n",
    "import sqlite3"
   ]
  },
  {
   "cell_type": "code",
   "execution_count": 2,
   "id": "innovative-syndrome",
   "metadata": {
    "execution": {
     "iopub.execute_input": "2021-10-11T18:30:08.861285Z",
     "iopub.status.busy": "2021-10-11T18:30:08.858896Z",
     "iopub.status.idle": "2021-10-11T18:30:09.374585Z",
     "shell.execute_reply": "2021-10-11T18:30:09.375867Z"
    },
    "papermill": {
     "duration": 0.546085,
     "end_time": "2021-10-11T18:30:09.376283",
     "exception": false,
     "start_time": "2021-10-11T18:30:08.830198",
     "status": "completed"
    },
    "tags": []
   },
   "outputs": [],
   "source": [
    "timestamps = pd.read_sql(\"select distinct record_time from EBAY_TOP_BERLIN order by record_time desc limit 2\", sqlite3.connect(\"UsedObjects.db\"))"
   ]
  },
  {
   "cell_type": "code",
   "execution_count": 3,
   "id": "periodic-identification",
   "metadata": {
    "execution": {
     "iopub.execute_input": "2021-10-11T18:30:09.446766Z",
     "iopub.status.busy": "2021-10-11T18:30:09.441690Z",
     "iopub.status.idle": "2021-10-11T18:30:09.461616Z",
     "shell.execute_reply": "2021-10-11T18:30:09.462926Z"
    },
    "papermill": {
     "duration": 0.066918,
     "end_time": "2021-10-11T18:30:09.463333",
     "exception": false,
     "start_time": "2021-10-11T18:30:09.396415",
     "status": "completed"
    },
    "tags": []
   },
   "outputs": [
    {
     "data": {
      "text/html": [
       "<div>\n",
       "<style scoped>\n",
       "    .dataframe tbody tr th:only-of-type {\n",
       "        vertical-align: middle;\n",
       "    }\n",
       "\n",
       "    .dataframe tbody tr th {\n",
       "        vertical-align: top;\n",
       "    }\n",
       "\n",
       "    .dataframe thead th {\n",
       "        text-align: right;\n",
       "    }\n",
       "</style>\n",
       "<table border=\"1\" class=\"dataframe\">\n",
       "  <thead>\n",
       "    <tr style=\"text-align: right;\">\n",
       "      <th></th>\n",
       "      <th>RECORD_TIME</th>\n",
       "    </tr>\n",
       "  </thead>\n",
       "  <tbody>\n",
       "    <tr>\n",
       "      <th>0</th>\n",
       "      <td>2021-10-11 20:30</td>\n",
       "    </tr>\n",
       "    <tr>\n",
       "      <th>1</th>\n",
       "      <td>2021-10-11 20:00</td>\n",
       "    </tr>\n",
       "  </tbody>\n",
       "</table>\n",
       "</div>"
      ],
      "text/plain": [
       "        RECORD_TIME\n",
       "0  2021-10-11 20:30\n",
       "1  2021-10-11 20:00"
      ]
     },
     "execution_count": 3,
     "metadata": {},
     "output_type": "execute_result"
    }
   ],
   "source": [
    "timestamps"
   ]
  },
  {
   "cell_type": "code",
   "execution_count": 4,
   "id": "alternate-victory",
   "metadata": {
    "execution": {
     "iopub.execute_input": "2021-10-11T18:30:09.523397Z",
     "iopub.status.busy": "2021-10-11T18:30:09.521563Z",
     "iopub.status.idle": "2021-10-11T18:30:10.280237Z",
     "shell.execute_reply": "2021-10-11T18:30:10.281663Z"
    },
    "papermill": {
     "duration": 0.792578,
     "end_time": "2021-10-11T18:30:10.282078",
     "exception": false,
     "start_time": "2021-10-11T18:30:09.489500",
     "status": "completed"
    },
    "tags": []
   },
   "outputs": [],
   "source": [
    "df = pd.read_sql(\"select * from EBAY_TOP_BERLIN where record_time in (select distinct record_time from EBAY_TOP_BERLIN order by record_time desc limit 2)\", sqlite3.connect(\"UsedObjects.db\"))"
   ]
  },
  {
   "cell_type": "code",
   "execution_count": 5,
   "id": "popular-active",
   "metadata": {
    "execution": {
     "iopub.execute_input": "2021-10-11T18:30:10.349262Z",
     "iopub.status.busy": "2021-10-11T18:30:10.342066Z",
     "iopub.status.idle": "2021-10-11T18:30:10.369103Z",
     "shell.execute_reply": "2021-10-11T18:30:10.370318Z"
    },
    "papermill": {
     "duration": 0.066521,
     "end_time": "2021-10-11T18:30:10.370710",
     "exception": false,
     "start_time": "2021-10-11T18:30:10.304189",
     "status": "completed"
    },
    "tags": []
   },
   "outputs": [],
   "source": [
    "df_pivot = df.pivot_table(index=\"PRODUCT\", columns = \"RECORD_TIME\", values = \"LISTING_COUNT\")"
   ]
  },
  {
   "cell_type": "code",
   "execution_count": 6,
   "id": "union-huntington",
   "metadata": {
    "execution": {
     "iopub.execute_input": "2021-10-11T18:30:10.430232Z",
     "iopub.status.busy": "2021-10-11T18:30:10.427786Z",
     "iopub.status.idle": "2021-10-11T18:30:10.433718Z",
     "shell.execute_reply": "2021-10-11T18:30:10.434988Z"
    },
    "papermill": {
     "duration": 0.04254,
     "end_time": "2021-10-11T18:30:10.435397",
     "exception": false,
     "start_time": "2021-10-11T18:30:10.392857",
     "status": "completed"
    },
    "tags": []
   },
   "outputs": [],
   "source": [
    "df_pivot.columns = [\"stamp_1\", \"stamp_2\"]\n",
    "df_pivot_diff = df_pivot.diff(axis=1)"
   ]
  },
  {
   "cell_type": "code",
   "execution_count": 7,
   "id": "fifth-motion",
   "metadata": {
    "execution": {
     "iopub.execute_input": "2021-10-11T18:30:10.489853Z",
     "iopub.status.busy": "2021-10-11T18:30:10.487407Z",
     "iopub.status.idle": "2021-10-11T18:30:11.961150Z",
     "shell.execute_reply": "2021-10-11T18:30:11.962864Z"
    },
    "papermill": {
     "duration": 1.507193,
     "end_time": "2021-10-11T18:30:11.963373",
     "exception": false,
     "start_time": "2021-10-11T18:30:10.456180",
     "status": "completed"
    },
    "tags": []
   },
   "outputs": [
    {
     "data": {
      "text/plain": [
       "<AxesSubplot:ylabel='PRODUCT'>"
      ]
     },
     "execution_count": 7,
     "metadata": {},
     "output_type": "execute_result"
    },
    {
     "data": {
      "image/png": "[encoded data removed]",
      "text/plain": [
       "<Figure size 432x288 with 1 Axes>"
      ]
     },
     "metadata": {
      "needs_background": "light"
     },
     "output_type": "display_data"
    }
   ],
   "source": [
    "df_pivot_diff.sort_values(\"stamp_2\", ascending = False)[\"stamp_2\"].head(10).plot.barh()"
   ]
  },
  {
   "cell_type": "code",
   "execution_count": null,
   "id": "extra-executive",
   "metadata": {
    "papermill": {
     "duration": 0.022537,
     "end_time": "2021-10-11T18:30:12.010473",
     "exception": false,
     "start_time": "2021-10-11T18:30:11.987936",
     "status": "completed"
    },
    "tags": []
   },
   "outputs": [],
   "source": []
  }
 ],
 "metadata": {
  "kernelspec": {
   "display_name": "Python 3",
   "language": "python",
   "name": "python3"
  },
  "language_info": {
   "codemirror_mode": {
    "name": "ipython",
    "version": 3
   },
   "file_extension": ".py",
   "mimetype": "text/x-python",
   "name": "python",
   "nbconvert_exporter": "python",
   "pygments_lexer": "ipython3",
   "version": "3.9.5"
  },
  "papermill": {
   "default_parameters": {},
   "duration": 7.83228,
   "end_time": "2021-10-11T18:30:13.396416",
   "environment_variables": {},
   "exception": null,
   "input_path": "eBay_Overview.ipynb",
   "output_path": "eBay_Overview.ipynb",
   "parameters": {},
   "start_time": "2021-10-11T18:30:05.564136",
   "version": "2.3.3"
  }
 },
 "nbformat": 4,
 "nbformat_minor": 5
}