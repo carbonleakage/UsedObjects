{
 "cells": [
  {
   "cell_type": "code",
   "execution_count": 1,
   "id": "reverse-picking",
   "metadata": {
    "execution": {
     "iopub.execute_input": "2021-11-22T10:30:07.359255Z",
     "iopub.status.busy": "2021-11-22T10:30:07.356935Z",
     "iopub.status.idle": "2021-11-22T10:30:08.302961Z",
     "shell.execute_reply": "2021-11-22T10:30:08.304596Z"
    },
    "papermill": {
     "duration": 0.997408,
     "end_time": "2021-11-22T10:30:08.305360",
     "exception": false,
     "start_time": "2021-11-22T10:30:07.307952",
     "status": "completed"
    },
    "tags": []
   },
   "outputs": [],
   "source": [
    "import pandas as pd\n",
    "import sqlite3"
   ]
  },
  {
   "cell_type": "code",
   "execution_count": 2,
   "id": "innovative-syndrome",
   "metadata": {
    "execution": {
     "iopub.execute_input": "2021-11-22T10:30:08.370205Z",
     "iopub.status.busy": "2021-11-22T10:30:08.367885Z",
     "iopub.status.idle": "2021-11-22T10:30:09.244971Z",
     "shell.execute_reply": "2021-11-22T10:30:09.242992Z"
    },
    "papermill": {
     "duration": 0.910883,
     "end_time": "2021-11-22T10:30:09.245458",
     "exception": false,
     "start_time": "2021-11-22T10:30:08.334575",
     "status": "completed"
    },
    "tags": []
   },
   "outputs": [],
   "source": [
    "timestamps = pd.read_sql(\"select distinct record_time from EBAY_TOP_BERLIN order by record_time desc limit 2\", sqlite3.connect(\"UsedObjects.db\"))"
   ]
  },
  {
   "cell_type": "code",
   "execution_count": 3,
   "id": "periodic-identification",
   "metadata": {
    "execution": {
     "iopub.execute_input": "2021-11-22T10:30:09.320753Z",
     "iopub.status.busy": "2021-11-22T10:30:09.318258Z",
     "iopub.status.idle": "2021-11-22T10:30:09.341160Z",
     "shell.execute_reply": "2021-11-22T10:30:09.342629Z"
    },
    "papermill": {
     "duration": 0.075099,
     "end_time": "2021-11-22T10:30:09.343127",
     "exception": false,
     "start_time": "2021-11-22T10:30:09.268028",
     "status": "completed"
    },
    "tags": []
   },
   "outputs": [
    {
     "data": {
      "text/html": [
       "<div>\n",
       "<style scoped>\n",
       "    .dataframe tbody tr th:only-of-type {\n",
       "        vertical-align: middle;\n",
       "    }\n",
       "\n",
       "    .dataframe tbody tr th {\n",
       "        vertical-align: top;\n",
       "    }\n",
       "\n",
       "    .dataframe thead th {\n",
       "        text-align: right;\n",
       "    }\n",
       "</style>\n",
       "<table border=\"1\" class=\"dataframe\">\n",
       "  <thead>\n",
       "    <tr style=\"text-align: right;\">\n",
       "      <th></th>\n",
       "      <th>RECORD_TIME</th>\n",
       "    </tr>\n",
       "  </thead>\n",
       "  <tbody>\n",
       "    <tr>\n",
       "      <th>0</th>\n",
       "      <td>2021-11-22 11:30</td>\n",
       "    </tr>\n",
       "    <tr>\n",
       "      <th>1</th>\n",
       "      <td>2021-11-22 11:00</td>\n",
       "    </tr>\n",
       "  </tbody>\n",
       "</table>\n",
       "</div>"
      ],
      "text/plain": [
       "        RECORD_TIME\n",
       "0  2021-11-22 11:30\n",
       "1  2021-11-22 11:00"
      ]
     },
     "execution_count": 3,
     "metadata": {},
     "output_type": "execute_result"
    }
   ],
   "source": [
    "timestamps"
   ]
  },
  {
   "cell_type": "code",
   "execution_count": 4,
   "id": "alternate-victory",
   "metadata": {
    "execution": {
     "iopub.execute_input": "2021-11-22T10:30:09.399176Z",
     "iopub.status.busy": "2021-11-22T10:30:09.397088Z",
     "iopub.status.idle": "2021-11-22T10:30:10.727728Z",
     "shell.execute_reply": "2021-11-22T10:30:10.729483Z"
    },
    "papermill": {
     "duration": 1.365869,
     "end_time": "2021-11-22T10:30:10.729974",
     "exception": false,
     "start_time": "2021-11-22T10:30:09.364105",
     "status": "completed"
    },
    "tags": []
   },
   "outputs": [],
   "source": [
    "df = pd.read_sql(\"select * from EBAY_TOP_BERLIN where record_time in (select distinct record_time from EBAY_TOP_BERLIN order by record_time desc limit 2)\", sqlite3.connect(\"UsedObjects.db\"))"
   ]
  },
  {
   "cell_type": "code",
   "execution_count": 5,
   "id": "popular-active",
   "metadata": {
    "execution": {
     "iopub.execute_input": "2021-11-22T10:30:10.808800Z",
     "iopub.status.busy": "2021-11-22T10:30:10.800075Z",
     "iopub.status.idle": "2021-11-22T10:30:10.827950Z",
     "shell.execute_reply": "2021-11-22T10:30:10.826327Z"
    },
    "papermill": {
     "duration": 0.075734,
     "end_time": "2021-11-22T10:30:10.828447",
     "exception": false,
     "start_time": "2021-11-22T10:30:10.752713",
     "status": "completed"
    },
    "tags": []
   },
   "outputs": [],
   "source": [
    "df_pivot = df.pivot_table(index=\"PRODUCT\", columns = \"RECORD_TIME\", values = \"LISTING_COUNT\")"
   ]
  },
  {
   "cell_type": "code",
   "execution_count": 6,
   "id": "union-huntington",
   "metadata": {
    "execution": {
     "iopub.execute_input": "2021-11-22T10:30:10.888567Z",
     "iopub.status.busy": "2021-11-22T10:30:10.886260Z",
     "iopub.status.idle": "2021-11-22T10:30:10.891376Z",
     "shell.execute_reply": "2021-11-22T10:30:10.893100Z"
    },
    "papermill": {
     "duration": 0.045081,
     "end_time": "2021-11-22T10:30:10.893593",
     "exception": false,
     "start_time": "2021-11-22T10:30:10.848512",
     "status": "completed"
    },
    "tags": []
   },
   "outputs": [],
   "source": [
    "df_pivot.columns = [\"stamp_1\", \"stamp_2\"]\n",
    "df_pivot_diff = df_pivot.diff(axis=1)"
   ]
  },
  {
   "cell_type": "code",
   "execution_count": 7,
   "id": "fifth-motion",
   "metadata": {
    "execution": {
     "iopub.execute_input": "2021-11-22T10:30:10.952903Z",
     "iopub.status.busy": "2021-11-22T10:30:10.950192Z",
     "iopub.status.idle": "2021-11-22T10:30:12.664377Z",
     "shell.execute_reply": "2021-11-22T10:30:12.665771Z"
    },
    "papermill": {
     "duration": 1.749731,
     "end_time": "2021-11-22T10:30:12.666244",
     "exception": false,
     "start_time": "2021-11-22T10:30:10.916513",
     "status": "completed"
    },
    "tags": []
   },
   "outputs": [
    {
     "data": {
      "text/plain": [
       "<AxesSubplot:ylabel='PRODUCT'>"
      ]
     },
     "execution_count": 7,
     "metadata": {},
     "output_type": "execute_result"
    },
    {
     "data": {
      "image/png": "[encoded data removed]",
      "text/plain": [
       "<Figure size 432x288 with 1 Axes>"
      ]
     },
     "metadata": {
      "needs_background": "light"
     },
     "output_type": "display_data"
    }
   ],
   "source": [
    "df_pivot_diff.sort_values(\"stamp_2\", ascending = False)[\"stamp_2\"].head(10).plot.barh()"
   ]
  },
  {
   "cell_type": "code",
   "execution_count": null,
   "id": "extra-executive",
   "metadata": {
    "papermill": {
     "duration": 0.02227,
     "end_time": "2021-11-22T10:30:12.713107",
     "exception": false,
     "start_time": "2021-11-22T10:30:12.690837",
     "status": "completed"
    },
    "tags": []
   },
   "outputs": [],
   "source": []
  }
 ],
 "metadata": {
  "kernelspec": {
   "display_name": "Python 3",
   "language": "python",
   "name": "python3"
  },
  "language_info": {
   "codemirror_mode": {
    "name": "ipython",
    "version": 3
   },
   "file_extension": ".py",
   "mimetype": "text/x-python",
   "name": "python",
   "nbconvert_exporter": "python",
   "pygments_lexer": "ipython3",
   "version": "3.9.5"
  },
  "papermill": {
   "default_parameters": {},
   "duration": 8.775656,
   "end_time": "2021-11-22T10:30:13.357563",
   "environment_variables": {},
   "exception": null,
   "input_path": "eBay_Overview.ipynb",
   "output_path": "eBay_Overview.ipynb",
   "parameters": {},
   "start_time": "2021-11-22T10:30:04.581907",
   "version": "2.3.3"
  }
 },
 "nbformat": 4,
 "nbformat_minor": 5
}