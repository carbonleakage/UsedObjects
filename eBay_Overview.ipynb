{
 "cells": [
  {
   "cell_type": "code",
   "execution_count": 1,
   "id": "reverse-picking",
   "metadata": {
    "execution": {
     "iopub.execute_input": "2021-11-16T11:00:08.035597Z",
     "iopub.status.busy": "2021-11-16T11:00:08.033635Z",
     "iopub.status.idle": "2021-11-16T11:00:08.846289Z",
     "shell.execute_reply": "2021-11-16T11:00:08.844443Z"
    },
    "papermill": {
     "duration": 0.865288,
     "end_time": "2021-11-16T11:00:08.846873",
     "exception": false,
     "start_time": "2021-11-16T11:00:07.981585",
     "status": "completed"
    },
    "tags": []
   },
   "outputs": [],
   "source": [
    "import pandas as pd\n",
    "import sqlite3"
   ]
  },
  {
   "cell_type": "code",
   "execution_count": 2,
   "id": "innovative-syndrome",
   "metadata": {
    "execution": {
     "iopub.execute_input": "2021-11-16T11:00:08.899577Z",
     "iopub.status.busy": "2021-11-16T11:00:08.897267Z",
     "iopub.status.idle": "2021-11-16T11:00:09.724053Z",
     "shell.execute_reply": "2021-11-16T11:00:09.725391Z"
    },
    "papermill": {
     "duration": 0.857279,
     "end_time": "2021-11-16T11:00:09.725817",
     "exception": false,
     "start_time": "2021-11-16T11:00:08.868538",
     "status": "completed"
    },
    "tags": []
   },
   "outputs": [],
   "source": [
    "timestamps = pd.read_sql(\"select distinct record_time from EBAY_TOP_BERLIN order by record_time desc limit 2\", sqlite3.connect(\"UsedObjects.db\"))"
   ]
  },
  {
   "cell_type": "code",
   "execution_count": 3,
   "id": "periodic-identification",
   "metadata": {
    "execution": {
     "iopub.execute_input": "2021-11-16T11:00:09.804156Z",
     "iopub.status.busy": "2021-11-16T11:00:09.802156Z",
     "iopub.status.idle": "2021-11-16T11:00:09.823434Z",
     "shell.execute_reply": "2021-11-16T11:00:09.824971Z"
    },
    "papermill": {
     "duration": 0.071787,
     "end_time": "2021-11-16T11:00:09.825450",
     "exception": false,
     "start_time": "2021-11-16T11:00:09.753663",
     "status": "completed"
    },
    "tags": []
   },
   "outputs": [
    {
     "data": {
      "text/html": [
       "<div>\n",
       "<style scoped>\n",
       "    .dataframe tbody tr th:only-of-type {\n",
       "        vertical-align: middle;\n",
       "    }\n",
       "\n",
       "    .dataframe tbody tr th {\n",
       "        vertical-align: top;\n",
       "    }\n",
       "\n",
       "    .dataframe thead th {\n",
       "        text-align: right;\n",
       "    }\n",
       "</style>\n",
       "<table border=\"1\" class=\"dataframe\">\n",
       "  <thead>\n",
       "    <tr style=\"text-align: right;\">\n",
       "      <th></th>\n",
       "      <th>RECORD_TIME</th>\n",
       "    </tr>\n",
       "  </thead>\n",
       "  <tbody>\n",
       "    <tr>\n",
       "      <th>0</th>\n",
       "      <td>2021-11-16 12:00</td>\n",
       "    </tr>\n",
       "    <tr>\n",
       "      <th>1</th>\n",
       "      <td>2021-11-16 11:30</td>\n",
       "    </tr>\n",
       "  </tbody>\n",
       "</table>\n",
       "</div>"
      ],
      "text/plain": [
       "        RECORD_TIME\n",
       "0  2021-11-16 12:00\n",
       "1  2021-11-16 11:30"
      ]
     },
     "execution_count": 3,
     "metadata": {},
     "output_type": "execute_result"
    }
   ],
   "source": [
    "timestamps"
   ]
  },
  {
   "cell_type": "code",
   "execution_count": 4,
   "id": "alternate-victory",
   "metadata": {
    "execution": {
     "iopub.execute_input": "2021-11-16T11:00:09.877231Z",
     "iopub.status.busy": "2021-11-16T11:00:09.875292Z",
     "iopub.status.idle": "2021-11-16T11:00:11.090226Z",
     "shell.execute_reply": "2021-11-16T11:00:11.091435Z"
    },
    "papermill": {
     "duration": 1.244733,
     "end_time": "2021-11-16T11:00:11.091837",
     "exception": false,
     "start_time": "2021-11-16T11:00:09.847104",
     "status": "completed"
    },
    "tags": []
   },
   "outputs": [],
   "source": [
    "df = pd.read_sql(\"select * from EBAY_TOP_BERLIN where record_time in (select distinct record_time from EBAY_TOP_BERLIN order by record_time desc limit 2)\", sqlite3.connect(\"UsedObjects.db\"))"
   ]
  },
  {
   "cell_type": "code",
   "execution_count": 5,
   "id": "popular-active",
   "metadata": {
    "execution": {
     "iopub.execute_input": "2021-11-16T11:00:11.161703Z",
     "iopub.status.busy": "2021-11-16T11:00:11.150420Z",
     "iopub.status.idle": "2021-11-16T11:00:11.178544Z",
     "shell.execute_reply": "2021-11-16T11:00:11.179745Z"
    },
    "papermill": {
     "duration": 0.067625,
     "end_time": "2021-11-16T11:00:11.180145",
     "exception": false,
     "start_time": "2021-11-16T11:00:11.112520",
     "status": "completed"
    },
    "tags": []
   },
   "outputs": [],
   "source": [
    "df_pivot = df.pivot_table(index=\"PRODUCT\", columns = \"RECORD_TIME\", values = \"LISTING_COUNT\")"
   ]
  },
  {
   "cell_type": "code",
   "execution_count": 6,
   "id": "union-huntington",
   "metadata": {
    "execution": {
     "iopub.execute_input": "2021-11-16T11:00:11.237237Z",
     "iopub.status.busy": "2021-11-16T11:00:11.235058Z",
     "iopub.status.idle": "2021-11-16T11:00:11.240913Z",
     "shell.execute_reply": "2021-11-16T11:00:11.242269Z"
    },
    "papermill": {
     "duration": 0.04114,
     "end_time": "2021-11-16T11:00:11.242890",
     "exception": false,
     "start_time": "2021-11-16T11:00:11.201750",
     "status": "completed"
    },
    "tags": []
   },
   "outputs": [],
   "source": [
    "df_pivot.columns = [\"stamp_1\", \"stamp_2\"]\n",
    "df_pivot_diff = df_pivot.diff(axis=1)"
   ]
  },
  {
   "cell_type": "code",
   "execution_count": 7,
   "id": "fifth-motion",
   "metadata": {
    "execution": {
     "iopub.execute_input": "2021-11-16T11:00:11.299488Z",
     "iopub.status.busy": "2021-11-16T11:00:11.297147Z",
     "iopub.status.idle": "2021-11-16T11:00:12.788378Z",
     "shell.execute_reply": "2021-11-16T11:00:12.790045Z"
    },
    "papermill": {
     "duration": 1.525195,
     "end_time": "2021-11-16T11:00:12.790544",
     "exception": false,
     "start_time": "2021-11-16T11:00:11.265349",
     "status": "completed"
    },
    "tags": []
   },
   "outputs": [
    {
     "data": {
      "text/plain": [
       "<AxesSubplot:ylabel='PRODUCT'>"
      ]
     },
     "execution_count": 7,
     "metadata": {},
     "output_type": "execute_result"
    },
    {
     "data": {
      "image/png": "[encoded data removed]",
      "text/plain": [
       "<Figure size 432x288 with 1 Axes>"
      ]
     },
     "metadata": {
      "needs_background": "light"
     },
     "output_type": "display_data"
    }
   ],
   "source": [
    "df_pivot_diff.sort_values(\"stamp_2\", ascending = False)[\"stamp_2\"].head(10).plot.barh()"
   ]
  },
  {
   "cell_type": "code",
   "execution_count": null,
   "id": "extra-executive",
   "metadata": {
    "papermill": {
     "duration": 0.022087,
     "end_time": "2021-11-16T11:00:12.837833",
     "exception": false,
     "start_time": "2021-11-16T11:00:12.815746",
     "status": "completed"
    },
    "tags": []
   },
   "outputs": [],
   "source": []
  }
 ],
 "metadata": {
  "kernelspec": {
   "display_name": "Python 3",
   "language": "python",
   "name": "python3"
  },
  "language_info": {
   "codemirror_mode": {
    "name": "ipython",
    "version": 3
   },
   "file_extension": ".py",
   "mimetype": "text/x-python",
   "name": "python",
   "nbconvert_exporter": "python",
   "pygments_lexer": "ipython3",
   "version": "3.9.5"
  },
  "papermill": {
   "default_parameters": {},
   "duration": 8.82478,
   "end_time": "2021-11-16T11:00:14.393916",
   "environment_variables": {},
   "exception": null,
   "input_path": "eBay_Overview.ipynb",
   "output_path": "eBay_Overview.ipynb",
   "parameters": {},
   "start_time": "2021-11-16T11:00:05.569136",
   "version": "2.3.3"
  }
 },
 "nbformat": 4,
 "nbformat_minor": 5
}