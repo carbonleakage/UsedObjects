{
 "cells": [
  {
   "cell_type": "code",
   "execution_count": 1,
   "id": "reverse-picking",
   "metadata": {
    "execution": {
     "iopub.execute_input": "2021-08-30T14:30:07.597595Z",
     "iopub.status.busy": "2021-08-30T14:30:07.595589Z",
     "iopub.status.idle": "2021-08-30T14:30:08.398784Z",
     "shell.execute_reply": "2021-08-30T14:30:08.400046Z"
    },
    "papermill": {
     "duration": 0.853791,
     "end_time": "2021-08-30T14:30:08.400744",
     "exception": false,
     "start_time": "2021-08-30T14:30:07.546953",
     "status": "completed"
    },
    "tags": []
   },
   "outputs": [],
   "source": [
    "import pandas as pd\n",
    "import sqlite3"
   ]
  },
  {
   "cell_type": "code",
   "execution_count": 2,
   "id": "innovative-syndrome",
   "metadata": {
    "execution": {
     "iopub.execute_input": "2021-08-30T14:30:08.450760Z",
     "iopub.status.busy": "2021-08-30T14:30:08.448893Z",
     "iopub.status.idle": "2021-08-30T14:30:08.614833Z",
     "shell.execute_reply": "2021-08-30T14:30:08.616015Z"
    },
    "papermill": {
     "duration": 0.195228,
     "end_time": "2021-08-30T14:30:08.616468",
     "exception": false,
     "start_time": "2021-08-30T14:30:08.421240",
     "status": "completed"
    },
    "tags": []
   },
   "outputs": [],
   "source": [
    "timestamps = pd.read_sql(\"select distinct record_time from EBAY_TOP_BERLIN order by record_time desc limit 2\", sqlite3.connect(\"UsedObjects.db\"))"
   ]
  },
  {
   "cell_type": "code",
   "execution_count": 3,
   "id": "periodic-identification",
   "metadata": {
    "execution": {
     "iopub.execute_input": "2021-08-30T14:30:08.685790Z",
     "iopub.status.busy": "2021-08-30T14:30:08.680513Z",
     "iopub.status.idle": "2021-08-30T14:30:08.700075Z",
     "shell.execute_reply": "2021-08-30T14:30:08.701519Z"
    },
    "papermill": {
     "duration": 0.063947,
     "end_time": "2021-08-30T14:30:08.701950",
     "exception": false,
     "start_time": "2021-08-30T14:30:08.638003",
     "status": "completed"
    },
    "tags": []
   },
   "outputs": [
    {
     "data": {
      "text/html": [
       "<div>\n",
       "<style scoped>\n",
       "    .dataframe tbody tr th:only-of-type {\n",
       "        vertical-align: middle;\n",
       "    }\n",
       "\n",
       "    .dataframe tbody tr th {\n",
       "        vertical-align: top;\n",
       "    }\n",
       "\n",
       "    .dataframe thead th {\n",
       "        text-align: right;\n",
       "    }\n",
       "</style>\n",
       "<table border=\"1\" class=\"dataframe\">\n",
       "  <thead>\n",
       "    <tr style=\"text-align: right;\">\n",
       "      <th></th>\n",
       "      <th>RECORD_TIME</th>\n",
       "    </tr>\n",
       "  </thead>\n",
       "  <tbody>\n",
       "    <tr>\n",
       "      <th>0</th>\n",
       "      <td>2021-08-30 16:30</td>\n",
       "    </tr>\n",
       "    <tr>\n",
       "      <th>1</th>\n",
       "      <td>2021-08-30 16:00</td>\n",
       "    </tr>\n",
       "  </tbody>\n",
       "</table>\n",
       "</div>"
      ],
      "text/plain": [
       "        RECORD_TIME\n",
       "0  2021-08-30 16:30\n",
       "1  2021-08-30 16:00"
      ]
     },
     "execution_count": 3,
     "metadata": {},
     "output_type": "execute_result"
    }
   ],
   "source": [
    "timestamps"
   ]
  },
  {
   "cell_type": "code",
   "execution_count": 4,
   "id": "alternate-victory",
   "metadata": {
    "execution": {
     "iopub.execute_input": "2021-08-30T14:30:08.753192Z",
     "iopub.status.busy": "2021-08-30T14:30:08.751104Z",
     "iopub.status.idle": "2021-08-30T14:30:08.997274Z",
     "shell.execute_reply": "2021-08-30T14:30:08.998544Z"
    },
    "papermill": {
     "duration": 0.275973,
     "end_time": "2021-08-30T14:30:08.998939",
     "exception": false,
     "start_time": "2021-08-30T14:30:08.722966",
     "status": "completed"
    },
    "tags": []
   },
   "outputs": [],
   "source": [
    "df = pd.read_sql(\"select * from EBAY_TOP_BERLIN where record_time in (select distinct record_time from EBAY_TOP_BERLIN order by record_time desc limit 2)\", sqlite3.connect(\"UsedObjects.db\"))"
   ]
  },
  {
   "cell_type": "code",
   "execution_count": 5,
   "id": "popular-active",
   "metadata": {
    "execution": {
     "iopub.execute_input": "2021-08-30T14:30:09.069344Z",
     "iopub.status.busy": "2021-08-30T14:30:09.057192Z",
     "iopub.status.idle": "2021-08-30T14:30:09.084923Z",
     "shell.execute_reply": "2021-08-30T14:30:09.086216Z"
    },
    "papermill": {
     "duration": 0.06762,
     "end_time": "2021-08-30T14:30:09.086634",
     "exception": false,
     "start_time": "2021-08-30T14:30:09.019014",
     "status": "completed"
    },
    "tags": []
   },
   "outputs": [],
   "source": [
    "df_pivot = df.pivot_table(index=\"PRODUCT\", columns = \"RECORD_TIME\", values = \"LISTING_COUNT\")"
   ]
  },
  {
   "cell_type": "code",
   "execution_count": 6,
   "id": "union-huntington",
   "metadata": {
    "execution": {
     "iopub.execute_input": "2021-08-30T14:30:09.141612Z",
     "iopub.status.busy": "2021-08-30T14:30:09.139612Z",
     "iopub.status.idle": "2021-08-30T14:30:09.144951Z",
     "shell.execute_reply": "2021-08-30T14:30:09.146080Z"
    },
    "papermill": {
     "duration": 0.039927,
     "end_time": "2021-08-30T14:30:09.146493",
     "exception": false,
     "start_time": "2021-08-30T14:30:09.106566",
     "status": "completed"
    },
    "tags": []
   },
   "outputs": [],
   "source": [
    "df_pivot.columns = [\"stamp_1\", \"stamp_2\"]\n",
    "df_pivot_diff = df_pivot.diff(axis=1)"
   ]
  },
  {
   "cell_type": "code",
   "execution_count": 7,
   "id": "fifth-motion",
   "metadata": {
    "execution": {
     "iopub.execute_input": "2021-08-30T14:30:09.203224Z",
     "iopub.status.busy": "2021-08-30T14:30:09.200601Z",
     "iopub.status.idle": "2021-08-30T14:30:10.688011Z",
     "shell.execute_reply": "2021-08-30T14:30:10.689369Z"
    },
    "papermill": {
     "duration": 1.520835,
     "end_time": "2021-08-30T14:30:10.689799",
     "exception": false,
     "start_time": "2021-08-30T14:30:09.168964",
     "status": "completed"
    },
    "tags": []
   },
   "outputs": [
    {
     "data": {
      "text/plain": [
       "<AxesSubplot:ylabel='PRODUCT'>"
      ]
     },
     "execution_count": 7,
     "metadata": {},
     "output_type": "execute_result"
    },
    {
     "data": {
      "image/png": "[encoded data removed]",
      "text/plain": [
       "<Figure size 432x288 with 1 Axes>"
      ]
     },
     "metadata": {
      "needs_background": "light"
     },
     "output_type": "display_data"
    }
   ],
   "source": [
    "df_pivot_diff.sort_values(\"stamp_2\", ascending = False)[\"stamp_2\"].head(10).plot.barh()"
   ]
  },
  {
   "cell_type": "code",
   "execution_count": null,
   "id": "extra-executive",
   "metadata": {
    "papermill": {
     "duration": 0.021902,
     "end_time": "2021-08-30T14:30:10.736214",
     "exception": false,
     "start_time": "2021-08-30T14:30:10.714312",
     "status": "completed"
    },
    "tags": []
   },
   "outputs": [],
   "source": []
  }
 ],
 "metadata": {
  "kernelspec": {
   "display_name": "Python 3",
   "language": "python",
   "name": "python3"
  },
  "language_info": {
   "codemirror_mode": {
    "name": "ipython",
    "version": 3
   },
   "file_extension": ".py",
   "mimetype": "text/x-python",
   "name": "python",
   "nbconvert_exporter": "python",
   "pygments_lexer": "ipython3",
   "version": "3.9.5"
  },
  "papermill": {
   "default_parameters": {},
   "duration": 6.82144,
   "end_time": "2021-08-30T14:30:11.968174",
   "environment_variables": {},
   "exception": null,
   "input_path": "eBay_Overview.ipynb",
   "output_path": "eBay_Overview.ipynb",
   "parameters": {},
   "start_time": "2021-08-30T14:30:05.146734",
   "version": "2.3.3"
  }
 },
 "nbformat": 4,
 "nbformat_minor": 5
}