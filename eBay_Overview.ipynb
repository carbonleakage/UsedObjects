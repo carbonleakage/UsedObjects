{
 "cells": [
  {
   "cell_type": "code",
   "execution_count": 1,
   "id": "reverse-picking",
   "metadata": {
    "execution": {
     "iopub.execute_input": "2021-10-03T01:30:07.288507Z",
     "iopub.status.busy": "2021-10-03T01:30:07.286477Z",
     "iopub.status.idle": "2021-10-03T01:30:08.091047Z",
     "shell.execute_reply": "2021-10-03T01:30:08.092403Z"
    },
    "papermill": {
     "duration": 0.856727,
     "end_time": "2021-10-03T01:30:08.093050",
     "exception": false,
     "start_time": "2021-10-03T01:30:07.236323",
     "status": "completed"
    },
    "tags": []
   },
   "outputs": [],
   "source": [
    "import pandas as pd\n",
    "import sqlite3"
   ]
  },
  {
   "cell_type": "code",
   "execution_count": 2,
   "id": "innovative-syndrome",
   "metadata": {
    "execution": {
     "iopub.execute_input": "2021-10-03T01:30:08.143356Z",
     "iopub.status.busy": "2021-10-03T01:30:08.141285Z",
     "iopub.status.idle": "2021-10-03T01:30:08.582672Z",
     "shell.execute_reply": "2021-10-03T01:30:08.584164Z"
    },
    "papermill": {
     "duration": 0.471282,
     "end_time": "2021-10-03T01:30:08.584607",
     "exception": false,
     "start_time": "2021-10-03T01:30:08.113325",
     "status": "completed"
    },
    "tags": []
   },
   "outputs": [],
   "source": [
    "timestamps = pd.read_sql(\"select distinct record_time from EBAY_TOP_BERLIN order by record_time desc limit 2\", sqlite3.connect(\"UsedObjects.db\"))"
   ]
  },
  {
   "cell_type": "code",
   "execution_count": 3,
   "id": "periodic-identification",
   "metadata": {
    "execution": {
     "iopub.execute_input": "2021-10-03T01:30:08.649637Z",
     "iopub.status.busy": "2021-10-03T01:30:08.647235Z",
     "iopub.status.idle": "2021-10-03T01:30:08.666768Z",
     "shell.execute_reply": "2021-10-03T01:30:08.668196Z"
    },
    "papermill": {
     "duration": 0.064461,
     "end_time": "2021-10-03T01:30:08.668611",
     "exception": false,
     "start_time": "2021-10-03T01:30:08.604150",
     "status": "completed"
    },
    "tags": []
   },
   "outputs": [
    {
     "data": {
      "text/html": [
       "<div>\n",
       "<style scoped>\n",
       "    .dataframe tbody tr th:only-of-type {\n",
       "        vertical-align: middle;\n",
       "    }\n",
       "\n",
       "    .dataframe tbody tr th {\n",
       "        vertical-align: top;\n",
       "    }\n",
       "\n",
       "    .dataframe thead th {\n",
       "        text-align: right;\n",
       "    }\n",
       "</style>\n",
       "<table border=\"1\" class=\"dataframe\">\n",
       "  <thead>\n",
       "    <tr style=\"text-align: right;\">\n",
       "      <th></th>\n",
       "      <th>RECORD_TIME</th>\n",
       "    </tr>\n",
       "  </thead>\n",
       "  <tbody>\n",
       "    <tr>\n",
       "      <th>0</th>\n",
       "      <td>2021-10-03 03:30</td>\n",
       "    </tr>\n",
       "    <tr>\n",
       "      <th>1</th>\n",
       "      <td>2021-10-03 03:00</td>\n",
       "    </tr>\n",
       "  </tbody>\n",
       "</table>\n",
       "</div>"
      ],
      "text/plain": [
       "        RECORD_TIME\n",
       "0  2021-10-03 03:30\n",
       "1  2021-10-03 03:00"
      ]
     },
     "execution_count": 3,
     "metadata": {},
     "output_type": "execute_result"
    }
   ],
   "source": [
    "timestamps"
   ]
  },
  {
   "cell_type": "code",
   "execution_count": 4,
   "id": "alternate-victory",
   "metadata": {
    "execution": {
     "iopub.execute_input": "2021-10-03T01:30:08.729432Z",
     "iopub.status.busy": "2021-10-03T01:30:08.726696Z",
     "iopub.status.idle": "2021-10-03T01:30:09.387536Z",
     "shell.execute_reply": "2021-10-03T01:30:09.388836Z"
    },
    "papermill": {
     "duration": 0.698762,
     "end_time": "2021-10-03T01:30:09.389238",
     "exception": false,
     "start_time": "2021-10-03T01:30:08.690476",
     "status": "completed"
    },
    "tags": []
   },
   "outputs": [],
   "source": [
    "df = pd.read_sql(\"select * from EBAY_TOP_BERLIN where record_time in (select distinct record_time from EBAY_TOP_BERLIN order by record_time desc limit 2)\", sqlite3.connect(\"UsedObjects.db\"))"
   ]
  },
  {
   "cell_type": "code",
   "execution_count": 5,
   "id": "popular-active",
   "metadata": {
    "execution": {
     "iopub.execute_input": "2021-10-03T01:30:09.460392Z",
     "iopub.status.busy": "2021-10-03T01:30:09.448052Z",
     "iopub.status.idle": "2021-10-03T01:30:09.476160Z",
     "shell.execute_reply": "2021-10-03T01:30:09.477359Z"
    },
    "papermill": {
     "duration": 0.068012,
     "end_time": "2021-10-03T01:30:09.477752",
     "exception": false,
     "start_time": "2021-10-03T01:30:09.409740",
     "status": "completed"
    },
    "tags": []
   },
   "outputs": [],
   "source": [
    "df_pivot = df.pivot_table(index=\"PRODUCT\", columns = \"RECORD_TIME\", values = \"LISTING_COUNT\")"
   ]
  },
  {
   "cell_type": "code",
   "execution_count": 6,
   "id": "union-huntington",
   "metadata": {
    "execution": {
     "iopub.execute_input": "2021-10-03T01:30:09.533755Z",
     "iopub.status.busy": "2021-10-03T01:30:09.531739Z",
     "iopub.status.idle": "2021-10-03T01:30:09.536974Z",
     "shell.execute_reply": "2021-10-03T01:30:09.538157Z"
    },
    "papermill": {
     "duration": 0.040083,
     "end_time": "2021-10-03T01:30:09.538586",
     "exception": false,
     "start_time": "2021-10-03T01:30:09.498503",
     "status": "completed"
    },
    "tags": []
   },
   "outputs": [],
   "source": [
    "df_pivot.columns = [\"stamp_1\", \"stamp_2\"]\n",
    "df_pivot_diff = df_pivot.diff(axis=1)"
   ]
  },
  {
   "cell_type": "code",
   "execution_count": 7,
   "id": "fifth-motion",
   "metadata": {
    "execution": {
     "iopub.execute_input": "2021-10-03T01:30:09.593460Z",
     "iopub.status.busy": "2021-10-03T01:30:09.590754Z",
     "iopub.status.idle": "2021-10-03T01:30:11.071460Z",
     "shell.execute_reply": "2021-10-03T01:30:11.072735Z"
    },
    "papermill": {
     "duration": 1.514171,
     "end_time": "2021-10-03T01:30:11.073150",
     "exception": false,
     "start_time": "2021-10-03T01:30:09.558979",
     "status": "completed"
    },
    "tags": []
   },
   "outputs": [
    {
     "data": {
      "text/plain": [
       "<AxesSubplot:ylabel='PRODUCT'>"
      ]
     },
     "execution_count": 7,
     "metadata": {},
     "output_type": "execute_result"
    },
    {
     "data": {
      "image/png": "[encoded data removed]",
      "text/plain": [
       "<Figure size 432x288 with 1 Axes>"
      ]
     },
     "metadata": {
      "needs_background": "light"
     },
     "output_type": "display_data"
    }
   ],
   "source": [
    "df_pivot_diff.sort_values(\"stamp_2\", ascending = False)[\"stamp_2\"].head(10).plot.barh()"
   ]
  },
  {
   "cell_type": "code",
   "execution_count": null,
   "id": "extra-executive",
   "metadata": {
    "papermill": {
     "duration": 0.022189,
     "end_time": "2021-10-03T01:30:11.119985",
     "exception": false,
     "start_time": "2021-10-03T01:30:11.097796",
     "status": "completed"
    },
    "tags": []
   },
   "outputs": [],
   "source": []
  }
 ],
 "metadata": {
  "kernelspec": {
   "display_name": "Python 3",
   "language": "python",
   "name": "python3"
  },
  "language_info": {
   "codemirror_mode": {
    "name": "ipython",
    "version": 3
   },
   "file_extension": ".py",
   "mimetype": "text/x-python",
   "name": "python",
   "nbconvert_exporter": "python",
   "pygments_lexer": "ipython3",
   "version": "3.9.5"
  },
  "papermill": {
   "default_parameters": {},
   "duration": 7.825147,
   "end_time": "2021-10-03T01:30:12.653001",
   "environment_variables": {},
   "exception": null,
   "input_path": "eBay_Overview.ipynb",
   "output_path": "eBay_Overview.ipynb",
   "parameters": {},
   "start_time": "2021-10-03T01:30:04.827854",
   "version": "2.3.3"
  }
 },
 "nbformat": 4,
 "nbformat_minor": 5
}