{
 "cells": [
  {
   "cell_type": "code",
   "execution_count": 1,
   "id": "reverse-picking",
   "metadata": {
    "execution": {
     "iopub.execute_input": "2021-09-15T05:30:06.956906Z",
     "iopub.status.busy": "2021-09-15T05:30:06.954915Z",
     "iopub.status.idle": "2021-09-15T05:30:07.761838Z",
     "shell.execute_reply": "2021-09-15T05:30:07.763215Z"
    },
    "papermill": {
     "duration": 0.859243,
     "end_time": "2021-09-15T05:30:07.763863",
     "exception": false,
     "start_time": "2021-09-15T05:30:06.904620",
     "status": "completed"
    },
    "tags": []
   },
   "outputs": [],
   "source": [
    "import pandas as pd\n",
    "import sqlite3"
   ]
  },
  {
   "cell_type": "code",
   "execution_count": 2,
   "id": "innovative-syndrome",
   "metadata": {
    "execution": {
     "iopub.execute_input": "2021-09-15T05:30:07.815051Z",
     "iopub.status.busy": "2021-09-15T05:30:07.812991Z",
     "iopub.status.idle": "2021-09-15T05:30:08.106983Z",
     "shell.execute_reply": "2021-09-15T05:30:08.108351Z"
    },
    "papermill": {
     "duration": 0.323811,
     "end_time": "2021-09-15T05:30:08.108770",
     "exception": false,
     "start_time": "2021-09-15T05:30:07.784959",
     "status": "completed"
    },
    "tags": []
   },
   "outputs": [],
   "source": [
    "timestamps = pd.read_sql(\"select distinct record_time from EBAY_TOP_BERLIN order by record_time desc limit 2\", sqlite3.connect(\"UsedObjects.db\"))"
   ]
  },
  {
   "cell_type": "code",
   "execution_count": 3,
   "id": "periodic-identification",
   "metadata": {
    "execution": {
     "iopub.execute_input": "2021-09-15T05:30:08.173558Z",
     "iopub.status.busy": "2021-09-15T05:30:08.171544Z",
     "iopub.status.idle": "2021-09-15T05:30:08.191417Z",
     "shell.execute_reply": "2021-09-15T05:30:08.192556Z"
    },
    "papermill": {
     "duration": 0.064598,
     "end_time": "2021-09-15T05:30:08.192964",
     "exception": false,
     "start_time": "2021-09-15T05:30:08.128366",
     "status": "completed"
    },
    "tags": []
   },
   "outputs": [
    {
     "data": {
      "text/html": [
       "<div>\n",
       "<style scoped>\n",
       "    .dataframe tbody tr th:only-of-type {\n",
       "        vertical-align: middle;\n",
       "    }\n",
       "\n",
       "    .dataframe tbody tr th {\n",
       "        vertical-align: top;\n",
       "    }\n",
       "\n",
       "    .dataframe thead th {\n",
       "        text-align: right;\n",
       "    }\n",
       "</style>\n",
       "<table border=\"1\" class=\"dataframe\">\n",
       "  <thead>\n",
       "    <tr style=\"text-align: right;\">\n",
       "      <th></th>\n",
       "      <th>RECORD_TIME</th>\n",
       "    </tr>\n",
       "  </thead>\n",
       "  <tbody>\n",
       "    <tr>\n",
       "      <th>0</th>\n",
       "      <td>2021-09-15 07:30</td>\n",
       "    </tr>\n",
       "    <tr>\n",
       "      <th>1</th>\n",
       "      <td>2021-09-15 07:00</td>\n",
       "    </tr>\n",
       "  </tbody>\n",
       "</table>\n",
       "</div>"
      ],
      "text/plain": [
       "        RECORD_TIME\n",
       "0  2021-09-15 07:30\n",
       "1  2021-09-15 07:00"
      ]
     },
     "execution_count": 3,
     "metadata": {},
     "output_type": "execute_result"
    }
   ],
   "source": [
    "timestamps"
   ]
  },
  {
   "cell_type": "code",
   "execution_count": 4,
   "id": "alternate-victory",
   "metadata": {
    "execution": {
     "iopub.execute_input": "2021-09-15T05:30:08.247111Z",
     "iopub.status.busy": "2021-09-15T05:30:08.244774Z",
     "iopub.status.idle": "2021-09-15T05:30:08.680490Z",
     "shell.execute_reply": "2021-09-15T05:30:08.681709Z"
    },
    "papermill": {
     "duration": 0.466213,
     "end_time": "2021-09-15T05:30:08.682105",
     "exception": false,
     "start_time": "2021-09-15T05:30:08.215892",
     "status": "completed"
    },
    "tags": []
   },
   "outputs": [],
   "source": [
    "df = pd.read_sql(\"select * from EBAY_TOP_BERLIN where record_time in (select distinct record_time from EBAY_TOP_BERLIN order by record_time desc limit 2)\", sqlite3.connect(\"UsedObjects.db\"))"
   ]
  },
  {
   "cell_type": "code",
   "execution_count": 5,
   "id": "popular-active",
   "metadata": {
    "execution": {
     "iopub.execute_input": "2021-09-15T05:30:08.766184Z",
     "iopub.status.busy": "2021-09-15T05:30:08.758794Z",
     "iopub.status.idle": "2021-09-15T05:30:08.781266Z",
     "shell.execute_reply": "2021-09-15T05:30:08.782557Z"
    },
    "papermill": {
     "duration": 0.072309,
     "end_time": "2021-09-15T05:30:08.783016",
     "exception": false,
     "start_time": "2021-09-15T05:30:08.710707",
     "status": "completed"
    },
    "tags": []
   },
   "outputs": [],
   "source": [
    "df_pivot = df.pivot_table(index=\"PRODUCT\", columns = \"RECORD_TIME\", values = \"LISTING_COUNT\")"
   ]
  },
  {
   "cell_type": "code",
   "execution_count": 6,
   "id": "union-huntington",
   "metadata": {
    "execution": {
     "iopub.execute_input": "2021-09-15T05:30:08.839741Z",
     "iopub.status.busy": "2021-09-15T05:30:08.837632Z",
     "iopub.status.idle": "2021-09-15T05:30:08.842686Z",
     "shell.execute_reply": "2021-09-15T05:30:08.844140Z"
    },
    "papermill": {
     "duration": 0.041191,
     "end_time": "2021-09-15T05:30:08.844570",
     "exception": false,
     "start_time": "2021-09-15T05:30:08.803379",
     "status": "completed"
    },
    "tags": []
   },
   "outputs": [],
   "source": [
    "df_pivot.columns = [\"stamp_1\", \"stamp_2\"]\n",
    "df_pivot_diff = df_pivot.diff(axis=1)"
   ]
  },
  {
   "cell_type": "code",
   "execution_count": 7,
   "id": "fifth-motion",
   "metadata": {
    "execution": {
     "iopub.execute_input": "2021-09-15T05:30:08.898631Z",
     "iopub.status.busy": "2021-09-15T05:30:08.896242Z",
     "iopub.status.idle": "2021-09-15T05:30:10.363968Z",
     "shell.execute_reply": "2021-09-15T05:30:10.365274Z"
    },
    "papermill": {
     "duration": 1.500548,
     "end_time": "2021-09-15T05:30:10.365690",
     "exception": false,
     "start_time": "2021-09-15T05:30:08.865142",
     "status": "completed"
    },
    "tags": []
   },
   "outputs": [
    {
     "data": {
      "text/plain": [
       "<AxesSubplot:ylabel='PRODUCT'>"
      ]
     },
     "execution_count": 7,
     "metadata": {},
     "output_type": "execute_result"
    },
    {
     "data": {
      "image/png": "[encoded data removed]",
      "text/plain": [
       "<Figure size 432x288 with 1 Axes>"
      ]
     },
     "metadata": {
      "needs_background": "light"
     },
     "output_type": "display_data"
    }
   ],
   "source": [
    "df_pivot_diff.sort_values(\"stamp_2\", ascending = False)[\"stamp_2\"].head(10).plot.barh()"
   ]
  },
  {
   "cell_type": "code",
   "execution_count": null,
   "id": "extra-executive",
   "metadata": {
    "papermill": {
     "duration": 0.022292,
     "end_time": "2021-09-15T05:30:10.413505",
     "exception": false,
     "start_time": "2021-09-15T05:30:10.391213",
     "status": "completed"
    },
    "tags": []
   },
   "outputs": [],
   "source": []
  }
 ],
 "metadata": {
  "kernelspec": {
   "display_name": "Python 3",
   "language": "python",
   "name": "python3"
  },
  "language_info": {
   "codemirror_mode": {
    "name": "ipython",
    "version": 3
   },
   "file_extension": ".py",
   "mimetype": "text/x-python",
   "name": "python",
   "nbconvert_exporter": "python",
   "pygments_lexer": "ipython3",
   "version": "3.9.5"
  },
  "papermill": {
   "default_parameters": {},
   "duration": 6.560578,
   "end_time": "2021-09-15T05:30:11.055877",
   "environment_variables": {},
   "exception": null,
   "input_path": "eBay_Overview.ipynb",
   "output_path": "eBay_Overview.ipynb",
   "parameters": {},
   "start_time": "2021-09-15T05:30:04.495299",
   "version": "2.3.3"
  }
 },
 "nbformat": 4,
 "nbformat_minor": 5
}