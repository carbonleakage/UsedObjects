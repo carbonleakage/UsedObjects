{
 "cells": [
  {
   "cell_type": "code",
   "execution_count": 1,
   "id": "reverse-picking",
   "metadata": {
    "execution": {
     "iopub.execute_input": "2021-10-18T07:00:06.732806Z",
     "iopub.status.busy": "2021-10-18T07:00:06.730779Z",
     "iopub.status.idle": "2021-10-18T07:00:07.537819Z",
     "shell.execute_reply": "2021-10-18T07:00:07.539112Z"
    },
    "papermill": {
     "duration": 0.859952,
     "end_time": "2021-10-18T07:00:07.539724",
     "exception": false,
     "start_time": "2021-10-18T07:00:06.679772",
     "status": "completed"
    },
    "tags": []
   },
   "outputs": [],
   "source": [
    "import pandas as pd\n",
    "import sqlite3"
   ]
  },
  {
   "cell_type": "code",
   "execution_count": 2,
   "id": "innovative-syndrome",
   "metadata": {
    "execution": {
     "iopub.execute_input": "2021-10-18T07:00:07.591711Z",
     "iopub.status.busy": "2021-10-18T07:00:07.589829Z",
     "iopub.status.idle": "2021-10-18T07:00:08.175527Z",
     "shell.execute_reply": "2021-10-18T07:00:08.176665Z"
    },
    "papermill": {
     "duration": 0.615457,
     "end_time": "2021-10-18T07:00:08.177139",
     "exception": false,
     "start_time": "2021-10-18T07:00:07.561682",
     "status": "completed"
    },
    "tags": []
   },
   "outputs": [],
   "source": [
    "timestamps = pd.read_sql(\"select distinct record_time from EBAY_TOP_BERLIN order by record_time desc limit 2\", sqlite3.connect(\"UsedObjects.db\"))"
   ]
  },
  {
   "cell_type": "code",
   "execution_count": 3,
   "id": "periodic-identification",
   "metadata": {
    "execution": {
     "iopub.execute_input": "2021-10-18T07:00:08.254751Z",
     "iopub.status.busy": "2021-10-18T07:00:08.252615Z",
     "iopub.status.idle": "2021-10-18T07:00:08.274046Z",
     "shell.execute_reply": "2021-10-18T07:00:08.272346Z"
    },
    "papermill": {
     "duration": 0.069055,
     "end_time": "2021-10-18T07:00:08.274528",
     "exception": false,
     "start_time": "2021-10-18T07:00:08.205473",
     "status": "completed"
    },
    "tags": []
   },
   "outputs": [
    {
     "data": {
      "text/html": [
       "<div>\n",
       "<style scoped>\n",
       "    .dataframe tbody tr th:only-of-type {\n",
       "        vertical-align: middle;\n",
       "    }\n",
       "\n",
       "    .dataframe tbody tr th {\n",
       "        vertical-align: top;\n",
       "    }\n",
       "\n",
       "    .dataframe thead th {\n",
       "        text-align: right;\n",
       "    }\n",
       "</style>\n",
       "<table border=\"1\" class=\"dataframe\">\n",
       "  <thead>\n",
       "    <tr style=\"text-align: right;\">\n",
       "      <th></th>\n",
       "      <th>RECORD_TIME</th>\n",
       "    </tr>\n",
       "  </thead>\n",
       "  <tbody>\n",
       "    <tr>\n",
       "      <th>0</th>\n",
       "      <td>2021-10-18 09:00</td>\n",
       "    </tr>\n",
       "    <tr>\n",
       "      <th>1</th>\n",
       "      <td>2021-10-18 08:30</td>\n",
       "    </tr>\n",
       "  </tbody>\n",
       "</table>\n",
       "</div>"
      ],
      "text/plain": [
       "        RECORD_TIME\n",
       "0  2021-10-18 09:00\n",
       "1  2021-10-18 08:30"
      ]
     },
     "execution_count": 3,
     "metadata": {},
     "output_type": "execute_result"
    }
   ],
   "source": [
    "timestamps"
   ]
  },
  {
   "cell_type": "code",
   "execution_count": 4,
   "id": "alternate-victory",
   "metadata": {
    "execution": {
     "iopub.execute_input": "2021-10-18T07:00:08.326987Z",
     "iopub.status.busy": "2021-10-18T07:00:08.324628Z",
     "iopub.status.idle": "2021-10-18T07:00:09.180335Z",
     "shell.execute_reply": "2021-10-18T07:00:09.181628Z"
    },
    "papermill": {
     "duration": 0.886481,
     "end_time": "2021-10-18T07:00:09.182030",
     "exception": false,
     "start_time": "2021-10-18T07:00:08.295549",
     "status": "completed"
    },
    "tags": []
   },
   "outputs": [],
   "source": [
    "df = pd.read_sql(\"select * from EBAY_TOP_BERLIN where record_time in (select distinct record_time from EBAY_TOP_BERLIN order by record_time desc limit 2)\", sqlite3.connect(\"UsedObjects.db\"))"
   ]
  },
  {
   "cell_type": "code",
   "execution_count": 5,
   "id": "popular-active",
   "metadata": {
    "execution": {
     "iopub.execute_input": "2021-10-18T07:00:09.253332Z",
     "iopub.status.busy": "2021-10-18T07:00:09.242824Z",
     "iopub.status.idle": "2021-10-18T07:00:09.269634Z",
     "shell.execute_reply": "2021-10-18T07:00:09.270794Z"
    },
    "papermill": {
     "duration": 0.06817,
     "end_time": "2021-10-18T07:00:09.271204",
     "exception": false,
     "start_time": "2021-10-18T07:00:09.203034",
     "status": "completed"
    },
    "tags": []
   },
   "outputs": [],
   "source": [
    "df_pivot = df.pivot_table(index=\"PRODUCT\", columns = \"RECORD_TIME\", values = \"LISTING_COUNT\")"
   ]
  },
  {
   "cell_type": "code",
   "execution_count": 6,
   "id": "union-huntington",
   "metadata": {
    "execution": {
     "iopub.execute_input": "2021-10-18T07:00:09.328598Z",
     "iopub.status.busy": "2021-10-18T07:00:09.326536Z",
     "iopub.status.idle": "2021-10-18T07:00:09.333254Z",
     "shell.execute_reply": "2021-10-18T07:00:09.331608Z"
    },
    "papermill": {
     "duration": 0.040614,
     "end_time": "2021-10-18T07:00:09.333632",
     "exception": false,
     "start_time": "2021-10-18T07:00:09.293018",
     "status": "completed"
    },
    "tags": []
   },
   "outputs": [],
   "source": [
    "df_pivot.columns = [\"stamp_1\", \"stamp_2\"]\n",
    "df_pivot_diff = df_pivot.diff(axis=1)"
   ]
  },
  {
   "cell_type": "code",
   "execution_count": 7,
   "id": "fifth-motion",
   "metadata": {
    "execution": {
     "iopub.execute_input": "2021-10-18T07:00:09.389574Z",
     "iopub.status.busy": "2021-10-18T07:00:09.386857Z",
     "iopub.status.idle": "2021-10-18T07:00:10.902046Z",
     "shell.execute_reply": "2021-10-18T07:00:10.903335Z"
    },
    "papermill": {
     "duration": 1.54897,
     "end_time": "2021-10-18T07:00:10.903789",
     "exception": false,
     "start_time": "2021-10-18T07:00:09.354819",
     "status": "completed"
    },
    "tags": []
   },
   "outputs": [
    {
     "data": {
      "text/plain": [
       "<AxesSubplot:ylabel='PRODUCT'>"
      ]
     },
     "execution_count": 7,
     "metadata": {},
     "output_type": "execute_result"
    },
    {
     "data": {
      "image/png": "[encoded data removed]",
      "text/plain": [
       "<Figure size 432x288 with 1 Axes>"
      ]
     },
     "metadata": {
      "needs_background": "light"
     },
     "output_type": "display_data"
    }
   ],
   "source": [
    "df_pivot_diff.sort_values(\"stamp_2\", ascending = False)[\"stamp_2\"].head(10).plot.barh()"
   ]
  },
  {
   "cell_type": "code",
   "execution_count": null,
   "id": "extra-executive",
   "metadata": {
    "papermill": {
     "duration": 0.022308,
     "end_time": "2021-10-18T07:00:10.950713",
     "exception": false,
     "start_time": "2021-10-18T07:00:10.928405",
     "status": "completed"
    },
    "tags": []
   },
   "outputs": [],
   "source": []
  }
 ],
 "metadata": {
  "kernelspec": {
   "display_name": "Python 3",
   "language": "python",
   "name": "python3"
  },
  "language_info": {
   "codemirror_mode": {
    "name": "ipython",
    "version": 3
   },
   "file_extension": ".py",
   "mimetype": "text/x-python",
   "name": "python",
   "nbconvert_exporter": "python",
   "pygments_lexer": "ipython3",
   "version": "3.9.5"
  },
  "papermill": {
   "default_parameters": {},
   "duration": 7.3202,
   "end_time": "2021-10-18T07:00:11.592080",
   "environment_variables": {},
   "exception": null,
   "input_path": "eBay_Overview.ipynb",
   "output_path": "eBay_Overview.ipynb",
   "parameters": {},
   "start_time": "2021-10-18T07:00:04.271880",
   "version": "2.3.3"
  }
 },
 "nbformat": 4,
 "nbformat_minor": 5
}