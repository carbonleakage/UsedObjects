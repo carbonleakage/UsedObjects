{
 "cells": [
  {
   "cell_type": "code",
   "execution_count": 1,
   "id": "reverse-picking",
   "metadata": {
    "execution": {
     "iopub.execute_input": "2021-08-10T12:30:04.323597Z",
     "iopub.status.busy": "2021-08-10T12:30:04.322847Z",
     "iopub.status.idle": "2021-08-10T12:30:04.984170Z",
     "shell.execute_reply": "2021-08-10T12:30:04.984748Z"
    },
    "papermill": {
     "duration": 0.680522,
     "end_time": "2021-08-10T12:30:04.985057",
     "exception": false,
     "start_time": "2021-08-10T12:30:04.304535",
     "status": "completed"
    },
    "tags": []
   },
   "outputs": [],
   "source": [
    "import pandas as pd\n",
    "import sqlite3"
   ]
  },
  {
   "cell_type": "code",
   "execution_count": 2,
   "id": "innovative-syndrome",
   "metadata": {
    "execution": {
     "iopub.execute_input": "2021-08-10T12:30:05.013416Z",
     "iopub.status.busy": "2021-08-10T12:30:05.012651Z",
     "iopub.status.idle": "2021-08-10T12:30:05.247328Z",
     "shell.execute_reply": "2021-08-10T12:30:05.247896Z"
    },
    "papermill": {
     "duration": 0.249504,
     "end_time": "2021-08-10T12:30:05.248088",
     "exception": false,
     "start_time": "2021-08-10T12:30:04.998584",
     "status": "completed"
    },
    "tags": []
   },
   "outputs": [],
   "source": [
    "timestamps = pd.read_sql(\"select distinct record_time from EBAY_TOP_BERLIN order by record_time desc limit 2\", sqlite3.connect(\"UsedObjects.db\"))"
   ]
  },
  {
   "cell_type": "code",
   "execution_count": 3,
   "id": "periodic-identification",
   "metadata": {
    "execution": {
     "iopub.execute_input": "2021-08-10T12:30:05.282501Z",
     "iopub.status.busy": "2021-08-10T12:30:05.281692Z",
     "iopub.status.idle": "2021-08-10T12:30:05.294433Z",
     "shell.execute_reply": "2021-08-10T12:30:05.294968Z"
    },
    "papermill": {
     "duration": 0.036891,
     "end_time": "2021-08-10T12:30:05.295149",
     "exception": false,
     "start_time": "2021-08-10T12:30:05.258258",
     "status": "completed"
    },
    "tags": []
   },
   "outputs": [
    {
     "data": {
      "text/html": [
       "<div>\n",
       "<style scoped>\n",
       "    .dataframe tbody tr th:only-of-type {\n",
       "        vertical-align: middle;\n",
       "    }\n",
       "\n",
       "    .dataframe tbody tr th {\n",
       "        vertical-align: top;\n",
       "    }\n",
       "\n",
       "    .dataframe thead th {\n",
       "        text-align: right;\n",
       "    }\n",
       "</style>\n",
       "<table border=\"1\" class=\"dataframe\">\n",
       "  <thead>\n",
       "    <tr style=\"text-align: right;\">\n",
       "      <th></th>\n",
       "      <th>RECORD_TIME</th>\n",
       "    </tr>\n",
       "  </thead>\n",
       "  <tbody>\n",
       "    <tr>\n",
       "      <th>0</th>\n",
       "      <td>2021-08-10 14:30</td>\n",
       "    </tr>\n",
       "    <tr>\n",
       "      <th>1</th>\n",
       "      <td>2021-08-10 14:00</td>\n",
       "    </tr>\n",
       "  </tbody>\n",
       "</table>\n",
       "</div>"
      ],
      "text/plain": [
       "        RECORD_TIME\n",
       "0  2021-08-10 14:30\n",
       "1  2021-08-10 14:00"
      ]
     },
     "execution_count": 3,
     "metadata": {},
     "output_type": "execute_result"
    }
   ],
   "source": [
    "timestamps"
   ]
  },
  {
   "cell_type": "code",
   "execution_count": 4,
   "id": "alternate-victory",
   "metadata": {
    "execution": {
     "iopub.execute_input": "2021-08-10T12:30:05.321828Z",
     "iopub.status.busy": "2021-08-10T12:30:05.321069Z",
     "iopub.status.idle": "2021-08-10T12:30:05.335138Z",
     "shell.execute_reply": "2021-08-10T12:30:05.336063Z"
    },
    "papermill": {
     "duration": 0.03003,
     "end_time": "2021-08-10T12:30:05.336386",
     "exception": false,
     "start_time": "2021-08-10T12:30:05.306356",
     "status": "completed"
    },
    "tags": []
   },
   "outputs": [],
   "source": [
    "df = pd.read_sql(\"select * from EBAY_TOP_BERLIN where record_time in (select distinct record_time from EBAY_TOP_BERLIN order by record_time desc limit 2)\", sqlite3.connect(\"UsedObjects.db\"))"
   ]
  },
  {
   "cell_type": "code",
   "execution_count": 5,
   "id": "popular-active",
   "metadata": {
    "execution": {
     "iopub.execute_input": "2021-08-10T12:30:05.369743Z",
     "iopub.status.busy": "2021-08-10T12:30:05.368976Z",
     "iopub.status.idle": "2021-08-10T12:30:05.387341Z",
     "shell.execute_reply": "2021-08-10T12:30:05.386730Z"
    },
    "papermill": {
     "duration": 0.038322,
     "end_time": "2021-08-10T12:30:05.387494",
     "exception": false,
     "start_time": "2021-08-10T12:30:05.349172",
     "status": "completed"
    },
    "tags": []
   },
   "outputs": [],
   "source": [
    "df_pivot = df.pivot_table(index=\"PRODUCT\", columns = \"RECORD_TIME\", values = \"LISTING_COUNT\")"
   ]
  },
  {
   "cell_type": "code",
   "execution_count": 6,
   "id": "union-huntington",
   "metadata": {
    "execution": {
     "iopub.execute_input": "2021-08-10T12:30:05.412485Z",
     "iopub.status.busy": "2021-08-10T12:30:05.411759Z",
     "iopub.status.idle": "2021-08-10T12:30:05.414423Z",
     "shell.execute_reply": "2021-08-10T12:30:05.414946Z"
    },
    "papermill": {
     "duration": 0.018993,
     "end_time": "2021-08-10T12:30:05.415125",
     "exception": false,
     "start_time": "2021-08-10T12:30:05.396132",
     "status": "completed"
    },
    "tags": []
   },
   "outputs": [],
   "source": [
    "df_pivot.columns = [\"stamp_1\", \"stamp_2\"]\n",
    "df_pivot_diff = df_pivot.diff(axis=1)"
   ]
  },
  {
   "cell_type": "code",
   "execution_count": 7,
   "id": "fifth-motion",
   "metadata": {
    "execution": {
     "iopub.execute_input": "2021-08-10T12:30:05.444716Z",
     "iopub.status.busy": "2021-08-10T12:30:05.440063Z",
     "iopub.status.idle": "2021-08-10T12:30:06.107679Z",
     "shell.execute_reply": "2021-08-10T12:30:06.108243Z"
    },
    "papermill": {
     "duration": 0.684918,
     "end_time": "2021-08-10T12:30:06.108436",
     "exception": false,
     "start_time": "2021-08-10T12:30:05.423518",
     "status": "completed"
    },
    "tags": []
   },
   "outputs": [
    {
     "data": {
      "text/plain": [
       "<AxesSubplot:ylabel='PRODUCT'>"
      ]
     },
     "execution_count": 7,
     "metadata": {},
     "output_type": "execute_result"
    },
    {
     "data": {
      "image/png": "[encoded data removed]",
      "text/plain": [
       "<Figure size 432x288 with 1 Axes>"
      ]
     },
     "metadata": {
      "needs_background": "light"
     },
     "output_type": "display_data"
    }
   ],
   "source": [
    "df_pivot_diff.sort_values(\"stamp_2\", ascending = False)[\"stamp_2\"].head(10).plot.barh()"
   ]
  },
  {
   "cell_type": "code",
   "execution_count": null,
   "id": "extra-executive",
   "metadata": {
    "papermill": {
     "duration": 0.012772,
     "end_time": "2021-08-10T12:30:06.131329",
     "exception": false,
     "start_time": "2021-08-10T12:30:06.118557",
     "status": "completed"
    },
    "tags": []
   },
   "outputs": [],
   "source": []
  }
 ],
 "metadata": {
  "kernelspec": {
   "display_name": "Python 3",
   "language": "python",
   "name": "python3"
  },
  "language_info": {
   "codemirror_mode": {
    "name": "ipython",
    "version": 3
   },
   "file_extension": ".py",
   "mimetype": "text/x-python",
   "name": "python",
   "nbconvert_exporter": "python",
   "pygments_lexer": "ipython3",
   "version": "3.8.8"
  },
  "papermill": {
   "default_parameters": {},
   "duration": 4.119195,
   "end_time": "2021-08-10T12:30:06.746127",
   "environment_variables": {},
   "exception": null,
   "input_path": "/Users/saravananshanmugam/Carbonleakage_Git/UsedObjects/eBay_Overview.ipynb",
   "output_path": "/Users/saravananshanmugam/Carbonleakage_Git/UsedObjects/eBay_Overview.ipynb",
   "parameters": {},
   "start_time": "2021-08-10T12:30:02.626932",
   "version": "2.3.3"
  }
 },
 "nbformat": 4,
 "nbformat_minor": 5
}