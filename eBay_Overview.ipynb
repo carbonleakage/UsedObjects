{
 "cells": [
  {
   "cell_type": "code",
   "execution_count": 1,
   "id": "reverse-picking",
   "metadata": {
    "execution": {
     "iopub.execute_input": "2021-12-05T01:30:07.320024Z",
     "iopub.status.busy": "2021-12-05T01:30:07.317801Z",
     "iopub.status.idle": "2021-12-05T01:30:08.259715Z",
     "shell.execute_reply": "2021-12-05T01:30:08.261438Z"
    },
    "papermill": {
     "duration": 0.992659,
     "end_time": "2021-12-05T01:30:08.262156",
     "exception": false,
     "start_time": "2021-12-05T01:30:07.269497",
     "status": "completed"
    },
    "tags": []
   },
   "outputs": [],
   "source": [
    "import pandas as pd\n",
    "import sqlite3"
   ]
  },
  {
   "cell_type": "code",
   "execution_count": 2,
   "id": "innovative-syndrome",
   "metadata": {
    "execution": {
     "iopub.execute_input": "2021-12-05T01:30:08.378999Z",
     "iopub.status.busy": "2021-12-05T01:30:08.376566Z",
     "iopub.status.idle": "2021-12-05T01:30:09.362457Z",
     "shell.execute_reply": "2021-12-05T01:30:09.364628Z"
    },
    "papermill": {
     "duration": 1.021081,
     "end_time": "2021-12-05T01:30:09.365229",
     "exception": false,
     "start_time": "2021-12-05T01:30:08.344148",
     "status": "completed"
    },
    "tags": []
   },
   "outputs": [],
   "source": [
    "timestamps = pd.read_sql(\"select distinct record_time from EBAY_TOP_BERLIN order by record_time desc limit 2\", sqlite3.connect(\"UsedObjects.db\"))"
   ]
  },
  {
   "cell_type": "code",
   "execution_count": 3,
   "id": "periodic-identification",
   "metadata": {
    "execution": {
     "iopub.execute_input": "2021-12-05T01:30:09.436179Z",
     "iopub.status.busy": "2021-12-05T01:30:09.431302Z",
     "iopub.status.idle": "2021-12-05T01:30:09.457549Z",
     "shell.execute_reply": "2021-12-05T01:30:09.458939Z"
    },
    "papermill": {
     "duration": 0.071628,
     "end_time": "2021-12-05T01:30:09.459481",
     "exception": false,
     "start_time": "2021-12-05T01:30:09.387853",
     "status": "completed"
    },
    "tags": []
   },
   "outputs": [
    {
     "data": {
      "text/html": [
       "<div>\n",
       "<style scoped>\n",
       "    .dataframe tbody tr th:only-of-type {\n",
       "        vertical-align: middle;\n",
       "    }\n",
       "\n",
       "    .dataframe tbody tr th {\n",
       "        vertical-align: top;\n",
       "    }\n",
       "\n",
       "    .dataframe thead th {\n",
       "        text-align: right;\n",
       "    }\n",
       "</style>\n",
       "<table border=\"1\" class=\"dataframe\">\n",
       "  <thead>\n",
       "    <tr style=\"text-align: right;\">\n",
       "      <th></th>\n",
       "      <th>RECORD_TIME</th>\n",
       "    </tr>\n",
       "  </thead>\n",
       "  <tbody>\n",
       "    <tr>\n",
       "      <th>0</th>\n",
       "      <td>2021-12-05 02:30</td>\n",
       "    </tr>\n",
       "    <tr>\n",
       "      <th>1</th>\n",
       "      <td>2021-12-05 02:00</td>\n",
       "    </tr>\n",
       "  </tbody>\n",
       "</table>\n",
       "</div>"
      ],
      "text/plain": [
       "        RECORD_TIME\n",
       "0  2021-12-05 02:30\n",
       "1  2021-12-05 02:00"
      ]
     },
     "execution_count": 3,
     "metadata": {},
     "output_type": "execute_result"
    }
   ],
   "source": [
    "timestamps"
   ]
  },
  {
   "cell_type": "code",
   "execution_count": 4,
   "id": "alternate-victory",
   "metadata": {
    "execution": {
     "iopub.execute_input": "2021-12-05T01:30:09.516819Z",
     "iopub.status.busy": "2021-12-05T01:30:09.512808Z",
     "iopub.status.idle": "2021-12-05T01:30:10.955776Z",
     "shell.execute_reply": "2021-12-05T01:30:10.957269Z"
    },
    "papermill": {
     "duration": 1.475883,
     "end_time": "2021-12-05T01:30:10.957760",
     "exception": false,
     "start_time": "2021-12-05T01:30:09.481877",
     "status": "completed"
    },
    "tags": []
   },
   "outputs": [],
   "source": [
    "df = pd.read_sql(\"select * from EBAY_TOP_BERLIN where record_time in (select distinct record_time from EBAY_TOP_BERLIN order by record_time desc limit 2)\", sqlite3.connect(\"UsedObjects.db\"))"
   ]
  },
  {
   "cell_type": "code",
   "execution_count": 5,
   "id": "popular-active",
   "metadata": {
    "execution": {
     "iopub.execute_input": "2021-12-05T01:30:11.032098Z",
     "iopub.status.busy": "2021-12-05T01:30:11.019258Z",
     "iopub.status.idle": "2021-12-05T01:30:11.050469Z",
     "shell.execute_reply": "2021-12-05T01:30:11.051747Z"
    },
    "papermill": {
     "duration": 0.073917,
     "end_time": "2021-12-05T01:30:11.052212",
     "exception": false,
     "start_time": "2021-12-05T01:30:10.978295",
     "status": "completed"
    },
    "tags": []
   },
   "outputs": [],
   "source": [
    "df_pivot = df.pivot_table(index=\"PRODUCT\", columns = \"RECORD_TIME\", values = \"LISTING_COUNT\")"
   ]
  },
  {
   "cell_type": "code",
   "execution_count": 6,
   "id": "union-huntington",
   "metadata": {
    "execution": {
     "iopub.execute_input": "2021-12-05T01:30:11.116290Z",
     "iopub.status.busy": "2021-12-05T01:30:11.113843Z",
     "iopub.status.idle": "2021-12-05T01:30:11.120005Z",
     "shell.execute_reply": "2021-12-05T01:30:11.121399Z"
    },
    "papermill": {
     "duration": 0.047251,
     "end_time": "2021-12-05T01:30:11.121856",
     "exception": false,
     "start_time": "2021-12-05T01:30:11.074605",
     "status": "completed"
    },
    "tags": []
   },
   "outputs": [],
   "source": [
    "df_pivot.columns = [\"stamp_1\", \"stamp_2\"]\n",
    "df_pivot_diff = df_pivot.diff(axis=1)"
   ]
  },
  {
   "cell_type": "code",
   "execution_count": 7,
   "id": "fifth-motion",
   "metadata": {
    "execution": {
     "iopub.execute_input": "2021-12-05T01:30:11.186679Z",
     "iopub.status.busy": "2021-12-05T01:30:11.183582Z",
     "iopub.status.idle": "2021-12-05T01:30:13.205655Z",
     "shell.execute_reply": "2021-12-05T01:30:13.208309Z"
    },
    "papermill": {
     "duration": 2.064552,
     "end_time": "2021-12-05T01:30:13.209123",
     "exception": false,
     "start_time": "2021-12-05T01:30:11.144571",
     "status": "completed"
    },
    "tags": []
   },
   "outputs": [
    {
     "data": {
      "text/plain": [
       "<AxesSubplot:ylabel='PRODUCT'>"
      ]
     },
     "execution_count": 7,
     "metadata": {},
     "output_type": "execute_result"
    },
    {
     "data": {
      "image/png": "[encoded data removed]",
      "text/plain": [
       "<Figure size 432x288 with 1 Axes>"
      ]
     },
     "metadata": {
      "needs_background": "light"
     },
     "output_type": "display_data"
    }
   ],
   "source": [
    "df_pivot_diff.sort_values(\"stamp_2\", ascending = False)[\"stamp_2\"].head(10).plot.barh()"
   ]
  },
  {
   "cell_type": "code",
   "execution_count": null,
   "id": "extra-executive",
   "metadata": {
    "papermill": {
     "duration": 0.034828,
     "end_time": "2021-12-05T01:30:13.279003",
     "exception": false,
     "start_time": "2021-12-05T01:30:13.244175",
     "status": "completed"
    },
    "tags": []
   },
   "outputs": [],
   "source": []
  }
 ],
 "metadata": {
  "kernelspec": {
   "display_name": "Python 3",
   "language": "python",
   "name": "python3"
  },
  "language_info": {
   "codemirror_mode": {
    "name": "ipython",
    "version": 3
   },
   "file_extension": ".py",
   "mimetype": "text/x-python",
   "name": "python",
   "nbconvert_exporter": "python",
   "pygments_lexer": "ipython3",
   "version": "3.9.5"
  },
  "papermill": {
   "default_parameters": {},
   "duration": 9.944344,
   "end_time": "2021-12-05T01:30:14.475280",
   "environment_variables": {},
   "exception": null,
   "input_path": "eBay_Overview.ipynb",
   "output_path": "eBay_Overview.ipynb",
   "parameters": {},
   "start_time": "2021-12-05T01:30:04.530936",
   "version": "2.3.3"
  }
 },
 "nbformat": 4,
 "nbformat_minor": 5
}