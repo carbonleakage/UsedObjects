{
 "cells": [
  {
   "cell_type": "code",
   "execution_count": 1,
   "id": "reverse-picking",
   "metadata": {
    "execution": {
     "iopub.execute_input": "2021-12-21T01:30:07.253297Z",
     "iopub.status.busy": "2021-12-21T01:30:07.250774Z",
     "iopub.status.idle": "2021-12-21T01:30:08.174425Z",
     "shell.execute_reply": "2021-12-21T01:30:08.176642Z"
    },
    "papermill": {
     "duration": 0.974536,
     "end_time": "2021-12-21T01:30:08.177438",
     "exception": false,
     "start_time": "2021-12-21T01:30:07.202902",
     "status": "completed"
    },
    "tags": []
   },
   "outputs": [],
   "source": [
    "import pandas as pd\n",
    "import sqlite3"
   ]
  },
  {
   "cell_type": "code",
   "execution_count": 2,
   "id": "innovative-syndrome",
   "metadata": {
    "execution": {
     "iopub.execute_input": "2021-12-21T01:30:08.244674Z",
     "iopub.status.busy": "2021-12-21T01:30:08.242355Z",
     "iopub.status.idle": "2021-12-21T01:30:09.366953Z",
     "shell.execute_reply": "2021-12-21T01:30:09.365017Z"
    },
    "papermill": {
     "duration": 1.157571,
     "end_time": "2021-12-21T01:30:09.367366",
     "exception": false,
     "start_time": "2021-12-21T01:30:08.209795",
     "status": "completed"
    },
    "tags": []
   },
   "outputs": [],
   "source": [
    "timestamps = pd.read_sql(\"select distinct record_time from EBAY_TOP_BERLIN order by record_time desc limit 2\", sqlite3.connect(\"UsedObjects.db\"))"
   ]
  },
  {
   "cell_type": "code",
   "execution_count": 3,
   "id": "periodic-identification",
   "metadata": {
    "execution": {
     "iopub.execute_input": "2021-12-21T01:30:09.456661Z",
     "iopub.status.busy": "2021-12-21T01:30:09.431484Z",
     "iopub.status.idle": "2021-12-21T01:30:09.466593Z",
     "shell.execute_reply": "2021-12-21T01:30:09.467974Z"
    },
    "papermill": {
     "duration": 0.079952,
     "end_time": "2021-12-21T01:30:09.468420",
     "exception": false,
     "start_time": "2021-12-21T01:30:09.388468",
     "status": "completed"
    },
    "tags": []
   },
   "outputs": [
    {
     "data": {
      "text/html": [
       "<div>\n",
       "<style scoped>\n",
       "    .dataframe tbody tr th:only-of-type {\n",
       "        vertical-align: middle;\n",
       "    }\n",
       "\n",
       "    .dataframe tbody tr th {\n",
       "        vertical-align: top;\n",
       "    }\n",
       "\n",
       "    .dataframe thead th {\n",
       "        text-align: right;\n",
       "    }\n",
       "</style>\n",
       "<table border=\"1\" class=\"dataframe\">\n",
       "  <thead>\n",
       "    <tr style=\"text-align: right;\">\n",
       "      <th></th>\n",
       "      <th>RECORD_TIME</th>\n",
       "    </tr>\n",
       "  </thead>\n",
       "  <tbody>\n",
       "    <tr>\n",
       "      <th>0</th>\n",
       "      <td>2021-12-21 02:30</td>\n",
       "    </tr>\n",
       "    <tr>\n",
       "      <th>1</th>\n",
       "      <td>2021-12-21 02:00</td>\n",
       "    </tr>\n",
       "  </tbody>\n",
       "</table>\n",
       "</div>"
      ],
      "text/plain": [
       "        RECORD_TIME\n",
       "0  2021-12-21 02:30\n",
       "1  2021-12-21 02:00"
      ]
     },
     "execution_count": 3,
     "metadata": {},
     "output_type": "execute_result"
    }
   ],
   "source": [
    "timestamps"
   ]
  },
  {
   "cell_type": "code",
   "execution_count": 4,
   "id": "alternate-victory",
   "metadata": {
    "execution": {
     "iopub.execute_input": "2021-12-21T01:30:09.521016Z",
     "iopub.status.busy": "2021-12-21T01:30:09.518636Z",
     "iopub.status.idle": "2021-12-21T01:30:11.186100Z",
     "shell.execute_reply": "2021-12-21T01:30:11.188164Z"
    },
    "papermill": {
     "duration": 1.69875,
     "end_time": "2021-12-21T01:30:11.188634",
     "exception": false,
     "start_time": "2021-12-21T01:30:09.489884",
     "status": "completed"
    },
    "tags": []
   },
   "outputs": [],
   "source": [
    "df = pd.read_sql(\"select * from EBAY_TOP_BERLIN where record_time in (select distinct record_time from EBAY_TOP_BERLIN order by record_time desc limit 2)\", sqlite3.connect(\"UsedObjects.db\"))"
   ]
  },
  {
   "cell_type": "code",
   "execution_count": 5,
   "id": "popular-active",
   "metadata": {
    "execution": {
     "iopub.execute_input": "2021-12-21T01:30:11.263407Z",
     "iopub.status.busy": "2021-12-21T01:30:11.250151Z",
     "iopub.status.idle": "2021-12-21T01:30:11.285541Z",
     "shell.execute_reply": "2021-12-21T01:30:11.287144Z"
    },
    "papermill": {
     "duration": 0.078289,
     "end_time": "2021-12-21T01:30:11.287634",
     "exception": false,
     "start_time": "2021-12-21T01:30:11.209345",
     "status": "completed"
    },
    "tags": []
   },
   "outputs": [],
   "source": [
    "df_pivot = df.pivot_table(index=\"PRODUCT\", columns = \"RECORD_TIME\", values = \"LISTING_COUNT\")"
   ]
  },
  {
   "cell_type": "code",
   "execution_count": 6,
   "id": "union-huntington",
   "metadata": {
    "execution": {
     "iopub.execute_input": "2021-12-21T01:30:11.352310Z",
     "iopub.status.busy": "2021-12-21T01:30:11.350063Z",
     "iopub.status.idle": "2021-12-21T01:30:11.355935Z",
     "shell.execute_reply": "2021-12-21T01:30:11.357495Z"
    },
    "papermill": {
     "duration": 0.043441,
     "end_time": "2021-12-21T01:30:11.357984",
     "exception": false,
     "start_time": "2021-12-21T01:30:11.314543",
     "status": "completed"
    },
    "tags": []
   },
   "outputs": [],
   "source": [
    "df_pivot.columns = [\"stamp_1\", \"stamp_2\"]\n",
    "df_pivot_diff = df_pivot.diff(axis=1)"
   ]
  },
  {
   "cell_type": "code",
   "execution_count": 7,
   "id": "fifth-motion",
   "metadata": {
    "execution": {
     "iopub.execute_input": "2021-12-21T01:30:11.414427Z",
     "iopub.status.busy": "2021-12-21T01:30:11.411867Z",
     "iopub.status.idle": "2021-12-21T01:30:13.391368Z",
     "shell.execute_reply": "2021-12-21T01:30:13.393344Z"
    },
    "papermill": {
     "duration": 2.015966,
     "end_time": "2021-12-21T01:30:13.393895",
     "exception": false,
     "start_time": "2021-12-21T01:30:11.377929",
     "status": "completed"
    },
    "tags": []
   },
   "outputs": [
    {
     "data": {
      "text/plain": [
       "<AxesSubplot:ylabel='PRODUCT'>"
      ]
     },
     "execution_count": 7,
     "metadata": {},
     "output_type": "execute_result"
    },
    {
     "data": {
      "image/png": "[encoded data removed]",
      "text/plain": [
       "<Figure size 432x288 with 1 Axes>"
      ]
     },
     "metadata": {
      "needs_background": "light"
     },
     "output_type": "display_data"
    }
   ],
   "source": [
    "df_pivot_diff.sort_values(\"stamp_2\", ascending = False)[\"stamp_2\"].head(10).plot.barh()"
   ]
  },
  {
   "cell_type": "code",
   "execution_count": null,
   "id": "extra-executive",
   "metadata": {
    "papermill": {
     "duration": 0.021715,
     "end_time": "2021-12-21T01:30:13.440073",
     "exception": false,
     "start_time": "2021-12-21T01:30:13.418358",
     "status": "completed"
    },
    "tags": []
   },
   "outputs": [],
   "source": []
  }
 ],
 "metadata": {
  "kernelspec": {
   "display_name": "Python 3",
   "language": "python",
   "name": "python3"
  },
  "language_info": {
   "codemirror_mode": {
    "name": "ipython",
    "version": 3
   },
   "file_extension": ".py",
   "mimetype": "text/x-python",
   "name": "python",
   "nbconvert_exporter": "python",
   "pygments_lexer": "ipython3",
   "version": "3.9.5"
  },
  "papermill": {
   "default_parameters": {},
   "duration": 9.629107,
   "end_time": "2021-12-21T01:30:14.084478",
   "environment_variables": {},
   "exception": null,
   "input_path": "eBay_Overview.ipynb",
   "output_path": "eBay_Overview.ipynb",
   "parameters": {},
   "start_time": "2021-12-21T01:30:04.455371",
   "version": "2.3.3"
  }
 },
 "nbformat": 4,
 "nbformat_minor": 5
}