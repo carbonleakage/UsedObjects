{
 "cells": [
  {
   "cell_type": "code",
   "execution_count": 1,
   "id": "reverse-picking",
   "metadata": {
    "execution": {
     "iopub.execute_input": "2021-08-09T05:00:04.059142Z",
     "iopub.status.busy": "2021-08-09T05:00:04.058382Z",
     "iopub.status.idle": "2021-08-09T05:00:04.649775Z",
     "shell.execute_reply": "2021-08-09T05:00:04.649055Z"
    },
    "papermill": {
     "duration": 0.609731,
     "end_time": "2021-08-09T05:00:04.649954",
     "exception": false,
     "start_time": "2021-08-09T05:00:04.040223",
     "status": "completed"
    },
    "tags": []
   },
   "outputs": [],
   "source": [
    "import pandas as pd\n",
    "import sqlite3"
   ]
  },
  {
   "cell_type": "code",
   "execution_count": 2,
   "id": "innovative-syndrome",
   "metadata": {
    "execution": {
     "iopub.execute_input": "2021-08-09T05:00:04.671438Z",
     "iopub.status.busy": "2021-08-09T05:00:04.670666Z",
     "iopub.status.idle": "2021-08-09T05:00:04.893109Z",
     "shell.execute_reply": "2021-08-09T05:00:04.892031Z"
    },
    "papermill": {
     "duration": 0.234643,
     "end_time": "2021-08-09T05:00:04.893381",
     "exception": false,
     "start_time": "2021-08-09T05:00:04.658738",
     "status": "completed"
    },
    "tags": []
   },
   "outputs": [],
   "source": [
    "timestamps = pd.read_sql(\"select distinct record_time from EBAY_TOP_BERLIN order by record_time desc limit 2\", sqlite3.connect(\"UsedObjects.db\"))"
   ]
  },
  {
   "cell_type": "code",
   "execution_count": 3,
   "id": "periodic-identification",
   "metadata": {
    "execution": {
     "iopub.execute_input": "2021-08-09T05:00:04.922645Z",
     "iopub.status.busy": "2021-08-09T05:00:04.921891Z",
     "iopub.status.idle": "2021-08-09T05:00:04.936611Z",
     "shell.execute_reply": "2021-08-09T05:00:04.937647Z"
    },
    "papermill": {
     "duration": 0.034422,
     "end_time": "2021-08-09T05:00:04.937916",
     "exception": false,
     "start_time": "2021-08-09T05:00:04.903494",
     "status": "completed"
    },
    "tags": []
   },
   "outputs": [
    {
     "data": {
      "text/html": [
       "<div>\n",
       "<style scoped>\n",
       "    .dataframe tbody tr th:only-of-type {\n",
       "        vertical-align: middle;\n",
       "    }\n",
       "\n",
       "    .dataframe tbody tr th {\n",
       "        vertical-align: top;\n",
       "    }\n",
       "\n",
       "    .dataframe thead th {\n",
       "        text-align: right;\n",
       "    }\n",
       "</style>\n",
       "<table border=\"1\" class=\"dataframe\">\n",
       "  <thead>\n",
       "    <tr style=\"text-align: right;\">\n",
       "      <th></th>\n",
       "      <th>RECORD_TIME</th>\n",
       "    </tr>\n",
       "  </thead>\n",
       "  <tbody>\n",
       "    <tr>\n",
       "      <th>0</th>\n",
       "      <td>2021-08-09 07:00</td>\n",
       "    </tr>\n",
       "    <tr>\n",
       "      <th>1</th>\n",
       "      <td>2021-08-09 06:30</td>\n",
       "    </tr>\n",
       "  </tbody>\n",
       "</table>\n",
       "</div>"
      ],
      "text/plain": [
       "        RECORD_TIME\n",
       "0  2021-08-09 07:00\n",
       "1  2021-08-09 06:30"
      ]
     },
     "execution_count": 3,
     "metadata": {},
     "output_type": "execute_result"
    }
   ],
   "source": [
    "timestamps"
   ]
  },
  {
   "cell_type": "code",
   "execution_count": 4,
   "id": "alternate-victory",
   "metadata": {
    "execution": {
     "iopub.execute_input": "2021-08-09T05:00:04.962932Z",
     "iopub.status.busy": "2021-08-09T05:00:04.961859Z",
     "iopub.status.idle": "2021-08-09T05:00:04.972408Z",
     "shell.execute_reply": "2021-08-09T05:00:04.971649Z"
    },
    "papermill": {
     "duration": 0.024602,
     "end_time": "2021-08-09T05:00:04.972593",
     "exception": false,
     "start_time": "2021-08-09T05:00:04.947991",
     "status": "completed"
    },
    "tags": []
   },
   "outputs": [],
   "source": [
    "df = pd.read_sql(\"select * from EBAY_TOP_BERLIN where record_time in (select distinct record_time from EBAY_TOP_BERLIN order by record_time desc limit 2)\", sqlite3.connect(\"UsedObjects.db\"))"
   ]
  },
  {
   "cell_type": "code",
   "execution_count": 5,
   "id": "popular-active",
   "metadata": {
    "execution": {
     "iopub.execute_input": "2021-08-09T05:00:05.003212Z",
     "iopub.status.busy": "2021-08-09T05:00:05.002321Z",
     "iopub.status.idle": "2021-08-09T05:00:05.025893Z",
     "shell.execute_reply": "2021-08-09T05:00:05.027011Z"
    },
    "papermill": {
     "duration": 0.041061,
     "end_time": "2021-08-09T05:00:05.027276",
     "exception": false,
     "start_time": "2021-08-09T05:00:04.986215",
     "status": "completed"
    },
    "tags": []
   },
   "outputs": [],
   "source": [
    "df_pivot = df.pivot_table(index=\"PRODUCT\", columns = \"RECORD_TIME\", values = \"LISTING_COUNT\")"
   ]
  },
  {
   "cell_type": "code",
   "execution_count": 6,
   "id": "union-huntington",
   "metadata": {
    "execution": {
     "iopub.execute_input": "2021-08-09T05:00:05.063626Z",
     "iopub.status.busy": "2021-08-09T05:00:05.062926Z",
     "iopub.status.idle": "2021-08-09T05:00:05.067341Z",
     "shell.execute_reply": "2021-08-09T05:00:05.067869Z"
    },
    "papermill": {
     "duration": 0.030268,
     "end_time": "2021-08-09T05:00:05.068052",
     "exception": false,
     "start_time": "2021-08-09T05:00:05.037784",
     "status": "completed"
    },
    "tags": []
   },
   "outputs": [],
   "source": [
    "df_pivot.columns = [\"stamp_1\", \"stamp_2\"]\n",
    "df_pivot_diff = df_pivot.diff(axis=1)"
   ]
  },
  {
   "cell_type": "code",
   "execution_count": 7,
   "id": "fifth-motion",
   "metadata": {
    "execution": {
     "iopub.execute_input": "2021-08-09T05:00:05.099330Z",
     "iopub.status.busy": "2021-08-09T05:00:05.098583Z",
     "iopub.status.idle": "2021-08-09T05:00:05.753267Z",
     "shell.execute_reply": "2021-08-09T05:00:05.752689Z"
    },
    "papermill": {
     "duration": 0.674636,
     "end_time": "2021-08-09T05:00:05.753415",
     "exception": false,
     "start_time": "2021-08-09T05:00:05.078779",
     "status": "completed"
    },
    "tags": []
   },
   "outputs": [
    {
     "data": {
      "text/plain": [
       "<AxesSubplot:ylabel='PRODUCT'>"
      ]
     },
     "execution_count": 7,
     "metadata": {},
     "output_type": "execute_result"
    },
    {
     "data": {
      "image/png": "[encoded data removed]",
      "text/plain": [
       "<Figure size 432x288 with 1 Axes>"
      ]
     },
     "metadata": {
      "needs_background": "light"
     },
     "output_type": "display_data"
    }
   ],
   "source": [
    "df_pivot_diff.sort_values(\"stamp_2\", ascending = False)[\"stamp_2\"].head(10).plot.barh()"
   ]
  },
  {
   "cell_type": "code",
   "execution_count": null,
   "id": "extra-executive",
   "metadata": {
    "papermill": {
     "duration": 0.009848,
     "end_time": "2021-08-09T05:00:05.778174",
     "exception": false,
     "start_time": "2021-08-09T05:00:05.768326",
     "status": "completed"
    },
    "tags": []
   },
   "outputs": [],
   "source": []
  }
 ],
 "metadata": {
  "kernelspec": {
   "display_name": "Python 3",
   "language": "python",
   "name": "python3"
  },
  "language_info": {
   "codemirror_mode": {
    "name": "ipython",
    "version": 3
   },
   "file_extension": ".py",
   "mimetype": "text/x-python",
   "name": "python",
   "nbconvert_exporter": "python",
   "pygments_lexer": "ipython3",
   "version": "3.8.8"
  },
  "papermill": {
   "default_parameters": {},
   "duration": 4.175355,
   "end_time": "2021-08-09T05:00:06.516787",
   "environment_variables": {},
   "exception": null,
   "input_path": "/Users/saravananshanmugam/Carbonleakage_Git/UsedObjects/eBay_Overview.ipynb",
   "output_path": "/Users/saravananshanmugam/Carbonleakage_Git/UsedObjects/eBay_Overview.ipynb",
   "parameters": {},
   "start_time": "2021-08-09T05:00:02.341432",
   "version": "2.3.3"
  }
 },
 "nbformat": 4,
 "nbformat_minor": 5
}