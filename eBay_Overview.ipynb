{
 "cells": [
  {
   "cell_type": "code",
   "execution_count": 1,
   "id": "reverse-picking",
   "metadata": {
    "execution": {
     "iopub.execute_input": "2021-09-30T13:30:06.768921Z",
     "iopub.status.busy": "2021-09-30T13:30:06.766980Z",
     "iopub.status.idle": "2021-09-30T13:30:07.573656Z",
     "shell.execute_reply": "2021-09-30T13:30:07.572081Z"
    },
    "papermill": {
     "duration": 0.8568,
     "end_time": "2021-09-30T13:30:07.574048",
     "exception": false,
     "start_time": "2021-09-30T13:30:06.717248",
     "status": "completed"
    },
    "tags": []
   },
   "outputs": [],
   "source": [
    "import pandas as pd\n",
    "import sqlite3"
   ]
  },
  {
   "cell_type": "code",
   "execution_count": 2,
   "id": "innovative-syndrome",
   "metadata": {
    "execution": {
     "iopub.execute_input": "2021-09-30T13:30:07.625602Z",
     "iopub.status.busy": "2021-09-30T13:30:07.623723Z",
     "iopub.status.idle": "2021-09-30T13:30:08.043582Z",
     "shell.execute_reply": "2021-09-30T13:30:08.044803Z"
    },
    "papermill": {
     "duration": 0.44951,
     "end_time": "2021-09-30T13:30:08.045189",
     "exception": false,
     "start_time": "2021-09-30T13:30:07.595679",
     "status": "completed"
    },
    "tags": []
   },
   "outputs": [],
   "source": [
    "timestamps = pd.read_sql(\"select distinct record_time from EBAY_TOP_BERLIN order by record_time desc limit 2\", sqlite3.connect(\"UsedObjects.db\"))"
   ]
  },
  {
   "cell_type": "code",
   "execution_count": 3,
   "id": "periodic-identification",
   "metadata": {
    "execution": {
     "iopub.execute_input": "2021-09-30T13:30:08.114143Z",
     "iopub.status.busy": "2021-09-30T13:30:08.112155Z",
     "iopub.status.idle": "2021-09-30T13:30:08.132343Z",
     "shell.execute_reply": "2021-09-30T13:30:08.133949Z"
    },
    "papermill": {
     "duration": 0.066567,
     "end_time": "2021-09-30T13:30:08.134437",
     "exception": false,
     "start_time": "2021-09-30T13:30:08.067870",
     "status": "completed"
    },
    "tags": []
   },
   "outputs": [
    {
     "data": {
      "text/html": [
       "<div>\n",
       "<style scoped>\n",
       "    .dataframe tbody tr th:only-of-type {\n",
       "        vertical-align: middle;\n",
       "    }\n",
       "\n",
       "    .dataframe tbody tr th {\n",
       "        vertical-align: top;\n",
       "    }\n",
       "\n",
       "    .dataframe thead th {\n",
       "        text-align: right;\n",
       "    }\n",
       "</style>\n",
       "<table border=\"1\" class=\"dataframe\">\n",
       "  <thead>\n",
       "    <tr style=\"text-align: right;\">\n",
       "      <th></th>\n",
       "      <th>RECORD_TIME</th>\n",
       "    </tr>\n",
       "  </thead>\n",
       "  <tbody>\n",
       "    <tr>\n",
       "      <th>0</th>\n",
       "      <td>2021-09-30 15:30</td>\n",
       "    </tr>\n",
       "    <tr>\n",
       "      <th>1</th>\n",
       "      <td>2021-09-30 15:00</td>\n",
       "    </tr>\n",
       "  </tbody>\n",
       "</table>\n",
       "</div>"
      ],
      "text/plain": [
       "        RECORD_TIME\n",
       "0  2021-09-30 15:30\n",
       "1  2021-09-30 15:00"
      ]
     },
     "execution_count": 3,
     "metadata": {},
     "output_type": "execute_result"
    }
   ],
   "source": [
    "timestamps"
   ]
  },
  {
   "cell_type": "code",
   "execution_count": 4,
   "id": "alternate-victory",
   "metadata": {
    "execution": {
     "iopub.execute_input": "2021-09-30T13:30:08.186491Z",
     "iopub.status.busy": "2021-09-30T13:30:08.184664Z",
     "iopub.status.idle": "2021-09-30T13:30:08.800252Z",
     "shell.execute_reply": "2021-09-30T13:30:08.801607Z"
    },
    "papermill": {
     "duration": 0.645723,
     "end_time": "2021-09-30T13:30:08.802019",
     "exception": false,
     "start_time": "2021-09-30T13:30:08.156296",
     "status": "completed"
    },
    "tags": []
   },
   "outputs": [],
   "source": [
    "df = pd.read_sql(\"select * from EBAY_TOP_BERLIN where record_time in (select distinct record_time from EBAY_TOP_BERLIN order by record_time desc limit 2)\", sqlite3.connect(\"UsedObjects.db\"))"
   ]
  },
  {
   "cell_type": "code",
   "execution_count": 5,
   "id": "popular-active",
   "metadata": {
    "execution": {
     "iopub.execute_input": "2021-09-30T13:30:08.868123Z",
     "iopub.status.busy": "2021-09-30T13:30:08.859547Z",
     "iopub.status.idle": "2021-09-30T13:30:08.889218Z",
     "shell.execute_reply": "2021-09-30T13:30:08.890361Z"
    },
    "papermill": {
     "duration": 0.068385,
     "end_time": "2021-09-30T13:30:08.890764",
     "exception": false,
     "start_time": "2021-09-30T13:30:08.822379",
     "status": "completed"
    },
    "tags": []
   },
   "outputs": [],
   "source": [
    "df_pivot = df.pivot_table(index=\"PRODUCT\", columns = \"RECORD_TIME\", values = \"LISTING_COUNT\")"
   ]
  },
  {
   "cell_type": "code",
   "execution_count": 6,
   "id": "union-huntington",
   "metadata": {
    "execution": {
     "iopub.execute_input": "2021-09-30T13:30:08.950534Z",
     "iopub.status.busy": "2021-09-30T13:30:08.948097Z",
     "iopub.status.idle": "2021-09-30T13:30:08.954095Z",
     "shell.execute_reply": "2021-09-30T13:30:08.955558Z"
    },
    "papermill": {
     "duration": 0.042819,
     "end_time": "2021-09-30T13:30:08.956010",
     "exception": false,
     "start_time": "2021-09-30T13:30:08.913191",
     "status": "completed"
    },
    "tags": []
   },
   "outputs": [],
   "source": [
    "df_pivot.columns = [\"stamp_1\", \"stamp_2\"]\n",
    "df_pivot_diff = df_pivot.diff(axis=1)"
   ]
  },
  {
   "cell_type": "code",
   "execution_count": 7,
   "id": "fifth-motion",
   "metadata": {
    "execution": {
     "iopub.execute_input": "2021-09-30T13:30:09.010682Z",
     "iopub.status.busy": "2021-09-30T13:30:09.008405Z",
     "iopub.status.idle": "2021-09-30T13:30:10.528367Z",
     "shell.execute_reply": "2021-09-30T13:30:10.529654Z"
    },
    "papermill": {
     "duration": 1.552702,
     "end_time": "2021-09-30T13:30:10.530069",
     "exception": false,
     "start_time": "2021-09-30T13:30:08.977367",
     "status": "completed"
    },
    "tags": []
   },
   "outputs": [
    {
     "data": {
      "text/plain": [
       "<AxesSubplot:ylabel='PRODUCT'>"
      ]
     },
     "execution_count": 7,
     "metadata": {},
     "output_type": "execute_result"
    },
    {
     "data": {
      "image/png": "[encoded data removed]",
      "text/plain": [
       "<Figure size 432x288 with 1 Axes>"
      ]
     },
     "metadata": {
      "needs_background": "light"
     },
     "output_type": "display_data"
    }
   ],
   "source": [
    "df_pivot_diff.sort_values(\"stamp_2\", ascending = False)[\"stamp_2\"].head(10).plot.barh()"
   ]
  },
  {
   "cell_type": "code",
   "execution_count": null,
   "id": "extra-executive",
   "metadata": {
    "papermill": {
     "duration": 0.022365,
     "end_time": "2021-09-30T13:30:10.576402",
     "exception": false,
     "start_time": "2021-09-30T13:30:10.554037",
     "status": "completed"
    },
    "tags": []
   },
   "outputs": [],
   "source": []
  }
 ],
 "metadata": {
  "kernelspec": {
   "display_name": "Python 3",
   "language": "python",
   "name": "python3"
  },
  "language_info": {
   "codemirror_mode": {
    "name": "ipython",
    "version": 3
   },
   "file_extension": ".py",
   "mimetype": "text/x-python",
   "name": "python",
   "nbconvert_exporter": "python",
   "pygments_lexer": "ipython3",
   "version": "3.9.5"
  },
  "papermill": {
   "default_parameters": {},
   "duration": 7.826691,
   "end_time": "2021-09-30T13:30:12.133363",
   "environment_variables": {},
   "exception": null,
   "input_path": "eBay_Overview.ipynb",
   "output_path": "eBay_Overview.ipynb",
   "parameters": {},
   "start_time": "2021-09-30T13:30:04.306672",
   "version": "2.3.3"
  }
 },
 "nbformat": 4,
 "nbformat_minor": 5
}