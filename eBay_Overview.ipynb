{
 "cells": [
  {
   "cell_type": "code",
   "execution_count": 1,
   "id": "reverse-picking",
   "metadata": {
    "execution": {
     "iopub.execute_input": "2021-09-18T10:30:07.152845Z",
     "iopub.status.busy": "2021-09-18T10:30:07.150922Z",
     "iopub.status.idle": "2021-09-18T10:30:07.949841Z",
     "shell.execute_reply": "2021-09-18T10:30:07.951324Z"
    },
    "papermill": {
     "duration": 0.853063,
     "end_time": "2021-09-18T10:30:07.951961",
     "exception": false,
     "start_time": "2021-09-18T10:30:07.098898",
     "status": "completed"
    },
    "tags": []
   },
   "outputs": [],
   "source": [
    "import pandas as pd\n",
    "import sqlite3"
   ]
  },
  {
   "cell_type": "code",
   "execution_count": 2,
   "id": "innovative-syndrome",
   "metadata": {
    "execution": {
     "iopub.execute_input": "2021-09-18T10:30:08.003856Z",
     "iopub.status.busy": "2021-09-18T10:30:08.001444Z",
     "iopub.status.idle": "2021-09-18T10:30:08.319062Z",
     "shell.execute_reply": "2021-09-18T10:30:08.320281Z"
    },
    "papermill": {
     "duration": 0.347398,
     "end_time": "2021-09-18T10:30:08.320668",
     "exception": false,
     "start_time": "2021-09-18T10:30:07.973270",
     "status": "completed"
    },
    "tags": []
   },
   "outputs": [],
   "source": [
    "timestamps = pd.read_sql(\"select distinct record_time from EBAY_TOP_BERLIN order by record_time desc limit 2\", sqlite3.connect(\"UsedObjects.db\"))"
   ]
  },
  {
   "cell_type": "code",
   "execution_count": 3,
   "id": "periodic-identification",
   "metadata": {
    "execution": {
     "iopub.execute_input": "2021-09-18T10:30:08.388635Z",
     "iopub.status.busy": "2021-09-18T10:30:08.386617Z",
     "iopub.status.idle": "2021-09-18T10:30:08.409558Z",
     "shell.execute_reply": "2021-09-18T10:30:08.410882Z"
    },
    "papermill": {
     "duration": 0.068087,
     "end_time": "2021-09-18T10:30:08.411328",
     "exception": false,
     "start_time": "2021-09-18T10:30:08.343241",
     "status": "completed"
    },
    "tags": []
   },
   "outputs": [
    {
     "data": {
      "text/html": [
       "<div>\n",
       "<style scoped>\n",
       "    .dataframe tbody tr th:only-of-type {\n",
       "        vertical-align: middle;\n",
       "    }\n",
       "\n",
       "    .dataframe tbody tr th {\n",
       "        vertical-align: top;\n",
       "    }\n",
       "\n",
       "    .dataframe thead th {\n",
       "        text-align: right;\n",
       "    }\n",
       "</style>\n",
       "<table border=\"1\" class=\"dataframe\">\n",
       "  <thead>\n",
       "    <tr style=\"text-align: right;\">\n",
       "      <th></th>\n",
       "      <th>RECORD_TIME</th>\n",
       "    </tr>\n",
       "  </thead>\n",
       "  <tbody>\n",
       "    <tr>\n",
       "      <th>0</th>\n",
       "      <td>2021-09-18 12:30</td>\n",
       "    </tr>\n",
       "    <tr>\n",
       "      <th>1</th>\n",
       "      <td>2021-09-18 12:00</td>\n",
       "    </tr>\n",
       "  </tbody>\n",
       "</table>\n",
       "</div>"
      ],
      "text/plain": [
       "        RECORD_TIME\n",
       "0  2021-09-18 12:30\n",
       "1  2021-09-18 12:00"
      ]
     },
     "execution_count": 3,
     "metadata": {},
     "output_type": "execute_result"
    }
   ],
   "source": [
    "timestamps"
   ]
  },
  {
   "cell_type": "code",
   "execution_count": 4,
   "id": "alternate-victory",
   "metadata": {
    "execution": {
     "iopub.execute_input": "2021-09-18T10:30:08.462473Z",
     "iopub.status.busy": "2021-09-18T10:30:08.460674Z",
     "iopub.status.idle": "2021-09-18T10:30:08.925469Z",
     "shell.execute_reply": "2021-09-18T10:30:08.926680Z"
    },
    "papermill": {
     "duration": 0.494622,
     "end_time": "2021-09-18T10:30:08.927148",
     "exception": false,
     "start_time": "2021-09-18T10:30:08.432526",
     "status": "completed"
    },
    "tags": []
   },
   "outputs": [],
   "source": [
    "df = pd.read_sql(\"select * from EBAY_TOP_BERLIN where record_time in (select distinct record_time from EBAY_TOP_BERLIN order by record_time desc limit 2)\", sqlite3.connect(\"UsedObjects.db\"))"
   ]
  },
  {
   "cell_type": "code",
   "execution_count": 5,
   "id": "popular-active",
   "metadata": {
    "execution": {
     "iopub.execute_input": "2021-09-18T10:30:08.997070Z",
     "iopub.status.busy": "2021-09-18T10:30:08.984744Z",
     "iopub.status.idle": "2021-09-18T10:30:09.013419Z",
     "shell.execute_reply": "2021-09-18T10:30:09.014829Z"
    },
    "papermill": {
     "duration": 0.067611,
     "end_time": "2021-09-18T10:30:09.015266",
     "exception": false,
     "start_time": "2021-09-18T10:30:08.947655",
     "status": "completed"
    },
    "tags": []
   },
   "outputs": [],
   "source": [
    "df_pivot = df.pivot_table(index=\"PRODUCT\", columns = \"RECORD_TIME\", values = \"LISTING_COUNT\")"
   ]
  },
  {
   "cell_type": "code",
   "execution_count": 6,
   "id": "union-huntington",
   "metadata": {
    "execution": {
     "iopub.execute_input": "2021-09-18T10:30:09.071253Z",
     "iopub.status.busy": "2021-09-18T10:30:09.069159Z",
     "iopub.status.idle": "2021-09-18T10:30:09.074446Z",
     "shell.execute_reply": "2021-09-18T10:30:09.075786Z"
    },
    "papermill": {
     "duration": 0.040869,
     "end_time": "2021-09-18T10:30:09.076198",
     "exception": false,
     "start_time": "2021-09-18T10:30:09.035329",
     "status": "completed"
    },
    "tags": []
   },
   "outputs": [],
   "source": [
    "df_pivot.columns = [\"stamp_1\", \"stamp_2\"]\n",
    "df_pivot_diff = df_pivot.diff(axis=1)"
   ]
  },
  {
   "cell_type": "code",
   "execution_count": 7,
   "id": "fifth-motion",
   "metadata": {
    "execution": {
     "iopub.execute_input": "2021-09-18T10:30:09.131111Z",
     "iopub.status.busy": "2021-09-18T10:30:09.128703Z",
     "iopub.status.idle": "2021-09-18T10:30:10.614677Z",
     "shell.execute_reply": "2021-09-18T10:30:10.616169Z"
    },
    "papermill": {
     "duration": 1.519039,
     "end_time": "2021-09-18T10:30:10.616607",
     "exception": false,
     "start_time": "2021-09-18T10:30:09.097568",
     "status": "completed"
    },
    "tags": []
   },
   "outputs": [
    {
     "data": {
      "text/plain": [
       "<AxesSubplot:ylabel='PRODUCT'>"
      ]
     },
     "execution_count": 7,
     "metadata": {},
     "output_type": "execute_result"
    },
    {
     "data": {
      "image/png": "[encoded data removed]",
      "text/plain": [
       "<Figure size 432x288 with 1 Axes>"
      ]
     },
     "metadata": {
      "needs_background": "light"
     },
     "output_type": "display_data"
    }
   ],
   "source": [
    "df_pivot_diff.sort_values(\"stamp_2\", ascending = False)[\"stamp_2\"].head(10).plot.barh()"
   ]
  },
  {
   "cell_type": "code",
   "execution_count": null,
   "id": "extra-executive",
   "metadata": {
    "papermill": {
     "duration": 0.022303,
     "end_time": "2021-09-18T10:30:10.662722",
     "exception": false,
     "start_time": "2021-09-18T10:30:10.640419",
     "status": "completed"
    },
    "tags": []
   },
   "outputs": [],
   "source": []
  }
 ],
 "metadata": {
  "kernelspec": {
   "display_name": "Python 3",
   "language": "python",
   "name": "python3"
  },
  "language_info": {
   "codemirror_mode": {
    "name": "ipython",
    "version": 3
   },
   "file_extension": ".py",
   "mimetype": "text/x-python",
   "name": "python",
   "nbconvert_exporter": "python",
   "pygments_lexer": "ipython3",
   "version": "3.9.5"
  },
  "papermill": {
   "default_parameters": {},
   "duration": 6.597844,
   "end_time": "2021-09-18T10:30:11.303621",
   "environment_variables": {},
   "exception": null,
   "input_path": "eBay_Overview.ipynb",
   "output_path": "eBay_Overview.ipynb",
   "parameters": {},
   "start_time": "2021-09-18T10:30:04.705777",
   "version": "2.3.3"
  }
 },
 "nbformat": 4,
 "nbformat_minor": 5
}