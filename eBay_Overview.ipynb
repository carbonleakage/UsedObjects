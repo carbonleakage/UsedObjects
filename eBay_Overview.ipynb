{
 "cells": [
  {
   "cell_type": "code",
   "execution_count": 1,
   "id": "reverse-picking",
   "metadata": {
    "execution": {
     "iopub.execute_input": "2021-10-09T12:30:07.473408Z",
     "iopub.status.busy": "2021-10-09T12:30:07.471469Z",
     "iopub.status.idle": "2021-10-09T12:30:08.282146Z",
     "shell.execute_reply": "2021-10-09T12:30:08.280498Z"
    },
    "papermill": {
     "duration": 0.863442,
     "end_time": "2021-10-09T12:30:08.282565",
     "exception": false,
     "start_time": "2021-10-09T12:30:07.419123",
     "status": "completed"
    },
    "tags": []
   },
   "outputs": [],
   "source": [
    "import pandas as pd\n",
    "import sqlite3"
   ]
  },
  {
   "cell_type": "code",
   "execution_count": 2,
   "id": "innovative-syndrome",
   "metadata": {
    "execution": {
     "iopub.execute_input": "2021-10-09T12:30:08.333488Z",
     "iopub.status.busy": "2021-10-09T12:30:08.331329Z",
     "iopub.status.idle": "2021-10-09T12:30:08.817887Z",
     "shell.execute_reply": "2021-10-09T12:30:08.819360Z"
    },
    "papermill": {
     "duration": 0.517353,
     "end_time": "2021-10-09T12:30:08.819795",
     "exception": false,
     "start_time": "2021-10-09T12:30:08.302442",
     "status": "completed"
    },
    "tags": []
   },
   "outputs": [],
   "source": [
    "timestamps = pd.read_sql(\"select distinct record_time from EBAY_TOP_BERLIN order by record_time desc limit 2\", sqlite3.connect(\"UsedObjects.db\"))"
   ]
  },
  {
   "cell_type": "code",
   "execution_count": 3,
   "id": "periodic-identification",
   "metadata": {
    "execution": {
     "iopub.execute_input": "2021-10-09T12:30:08.889080Z",
     "iopub.status.busy": "2021-10-09T12:30:08.887068Z",
     "iopub.status.idle": "2021-10-09T12:30:08.907872Z",
     "shell.execute_reply": "2021-10-09T12:30:08.909230Z"
    },
    "papermill": {
     "duration": 0.068217,
     "end_time": "2021-10-09T12:30:08.909706",
     "exception": false,
     "start_time": "2021-10-09T12:30:08.841489",
     "status": "completed"
    },
    "tags": []
   },
   "outputs": [
    {
     "data": {
      "text/html": [
       "<div>\n",
       "<style scoped>\n",
       "    .dataframe tbody tr th:only-of-type {\n",
       "        vertical-align: middle;\n",
       "    }\n",
       "\n",
       "    .dataframe tbody tr th {\n",
       "        vertical-align: top;\n",
       "    }\n",
       "\n",
       "    .dataframe thead th {\n",
       "        text-align: right;\n",
       "    }\n",
       "</style>\n",
       "<table border=\"1\" class=\"dataframe\">\n",
       "  <thead>\n",
       "    <tr style=\"text-align: right;\">\n",
       "      <th></th>\n",
       "      <th>RECORD_TIME</th>\n",
       "    </tr>\n",
       "  </thead>\n",
       "  <tbody>\n",
       "    <tr>\n",
       "      <th>0</th>\n",
       "      <td>2021-10-09 14:30</td>\n",
       "    </tr>\n",
       "    <tr>\n",
       "      <th>1</th>\n",
       "      <td>2021-10-09 14:00</td>\n",
       "    </tr>\n",
       "  </tbody>\n",
       "</table>\n",
       "</div>"
      ],
      "text/plain": [
       "        RECORD_TIME\n",
       "0  2021-10-09 14:30\n",
       "1  2021-10-09 14:00"
      ]
     },
     "execution_count": 3,
     "metadata": {},
     "output_type": "execute_result"
    }
   ],
   "source": [
    "timestamps"
   ]
  },
  {
   "cell_type": "code",
   "execution_count": 4,
   "id": "alternate-victory",
   "metadata": {
    "execution": {
     "iopub.execute_input": "2021-10-09T12:30:08.969168Z",
     "iopub.status.busy": "2021-10-09T12:30:08.967329Z",
     "iopub.status.idle": "2021-10-09T12:30:09.713606Z",
     "shell.execute_reply": "2021-10-09T12:30:09.715004Z"
    },
    "papermill": {
     "duration": 0.780031,
     "end_time": "2021-10-09T12:30:09.715483",
     "exception": false,
     "start_time": "2021-10-09T12:30:08.935452",
     "status": "completed"
    },
    "tags": []
   },
   "outputs": [],
   "source": [
    "df = pd.read_sql(\"select * from EBAY_TOP_BERLIN where record_time in (select distinct record_time from EBAY_TOP_BERLIN order by record_time desc limit 2)\", sqlite3.connect(\"UsedObjects.db\"))"
   ]
  },
  {
   "cell_type": "code",
   "execution_count": 5,
   "id": "popular-active",
   "metadata": {
    "execution": {
     "iopub.execute_input": "2021-10-09T12:30:09.786379Z",
     "iopub.status.busy": "2021-10-09T12:30:09.774494Z",
     "iopub.status.idle": "2021-10-09T12:30:09.801739Z",
     "shell.execute_reply": "2021-10-09T12:30:09.803170Z"
    },
    "papermill": {
     "duration": 0.067861,
     "end_time": "2021-10-09T12:30:09.803596",
     "exception": false,
     "start_time": "2021-10-09T12:30:09.735735",
     "status": "completed"
    },
    "tags": []
   },
   "outputs": [],
   "source": [
    "df_pivot = df.pivot_table(index=\"PRODUCT\", columns = \"RECORD_TIME\", values = \"LISTING_COUNT\")"
   ]
  },
  {
   "cell_type": "code",
   "execution_count": 6,
   "id": "union-huntington",
   "metadata": {
    "execution": {
     "iopub.execute_input": "2021-10-09T12:30:09.861795Z",
     "iopub.status.busy": "2021-10-09T12:30:09.859749Z",
     "iopub.status.idle": "2021-10-09T12:30:09.865109Z",
     "shell.execute_reply": "2021-10-09T12:30:09.866299Z"
    },
    "papermill": {
     "duration": 0.041584,
     "end_time": "2021-10-09T12:30:09.866733",
     "exception": false,
     "start_time": "2021-10-09T12:30:09.825149",
     "status": "completed"
    },
    "tags": []
   },
   "outputs": [],
   "source": [
    "df_pivot.columns = [\"stamp_1\", \"stamp_2\"]\n",
    "df_pivot_diff = df_pivot.diff(axis=1)"
   ]
  },
  {
   "cell_type": "code",
   "execution_count": 7,
   "id": "fifth-motion",
   "metadata": {
    "execution": {
     "iopub.execute_input": "2021-10-09T12:30:09.923303Z",
     "iopub.status.busy": "2021-10-09T12:30:09.920734Z",
     "iopub.status.idle": "2021-10-09T12:30:11.401468Z",
     "shell.execute_reply": "2021-10-09T12:30:11.402749Z"
    },
    "papermill": {
     "duration": 1.514198,
     "end_time": "2021-10-09T12:30:11.403374",
     "exception": false,
     "start_time": "2021-10-09T12:30:09.889176",
     "status": "completed"
    },
    "tags": []
   },
   "outputs": [
    {
     "data": {
      "text/plain": [
       "<AxesSubplot:ylabel='PRODUCT'>"
      ]
     },
     "execution_count": 7,
     "metadata": {},
     "output_type": "execute_result"
    },
    {
     "data": {
      "image/png": "[encoded data removed]",
      "text/plain": [
       "<Figure size 432x288 with 1 Axes>"
      ]
     },
     "metadata": {
      "needs_background": "light"
     },
     "output_type": "display_data"
    }
   ],
   "source": [
    "df_pivot_diff.sort_values(\"stamp_2\", ascending = False)[\"stamp_2\"].head(10).plot.barh()"
   ]
  },
  {
   "cell_type": "code",
   "execution_count": null,
   "id": "extra-executive",
   "metadata": {
    "papermill": {
     "duration": 0.02239,
     "end_time": "2021-10-09T12:30:11.452670",
     "exception": false,
     "start_time": "2021-10-09T12:30:11.430280",
     "status": "completed"
    },
    "tags": []
   },
   "outputs": [],
   "source": []
  }
 ],
 "metadata": {
  "kernelspec": {
   "display_name": "Python 3",
   "language": "python",
   "name": "python3"
  },
  "language_info": {
   "codemirror_mode": {
    "name": "ipython",
    "version": 3
   },
   "file_extension": ".py",
   "mimetype": "text/x-python",
   "name": "python",
   "nbconvert_exporter": "python",
   "pygments_lexer": "ipython3",
   "version": "3.9.5"
  },
  "papermill": {
   "default_parameters": {},
   "duration": 7.840822,
   "end_time": "2021-10-09T12:30:12.847826",
   "environment_variables": {},
   "exception": null,
   "input_path": "eBay_Overview.ipynb",
   "output_path": "eBay_Overview.ipynb",
   "parameters": {},
   "start_time": "2021-10-09T12:30:05.007004",
   "version": "2.3.3"
  }
 },
 "nbformat": 4,
 "nbformat_minor": 5
}