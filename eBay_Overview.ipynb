{
 "cells": [
  {
   "cell_type": "code",
   "execution_count": 1,
   "id": "reverse-picking",
   "metadata": {
    "execution": {
     "iopub.execute_input": "2021-10-21T20:30:07.424295Z",
     "iopub.status.busy": "2021-10-21T20:30:07.422326Z",
     "iopub.status.idle": "2021-10-21T20:30:08.230348Z",
     "shell.execute_reply": "2021-10-21T20:30:08.228484Z"
    },
    "papermill": {
     "duration": 0.859254,
     "end_time": "2021-10-21T20:30:08.230783",
     "exception": false,
     "start_time": "2021-10-21T20:30:07.371529",
     "status": "completed"
    },
    "tags": []
   },
   "outputs": [],
   "source": [
    "import pandas as pd\n",
    "import sqlite3"
   ]
  },
  {
   "cell_type": "code",
   "execution_count": 2,
   "id": "innovative-syndrome",
   "metadata": {
    "execution": {
     "iopub.execute_input": "2021-10-21T20:30:08.281461Z",
     "iopub.status.busy": "2021-10-21T20:30:08.279442Z",
     "iopub.status.idle": "2021-10-21T20:30:08.888644Z",
     "shell.execute_reply": "2021-10-21T20:30:08.889929Z"
    },
    "papermill": {
     "duration": 0.639281,
     "end_time": "2021-10-21T20:30:08.890331",
     "exception": false,
     "start_time": "2021-10-21T20:30:08.251050",
     "status": "completed"
    },
    "tags": []
   },
   "outputs": [],
   "source": [
    "timestamps = pd.read_sql(\"select distinct record_time from EBAY_TOP_BERLIN order by record_time desc limit 2\", sqlite3.connect(\"UsedObjects.db\"))"
   ]
  },
  {
   "cell_type": "code",
   "execution_count": 3,
   "id": "periodic-identification",
   "metadata": {
    "execution": {
     "iopub.execute_input": "2021-10-21T20:30:08.968500Z",
     "iopub.status.busy": "2021-10-21T20:30:08.966507Z",
     "iopub.status.idle": "2021-10-21T20:30:08.986369Z",
     "shell.execute_reply": "2021-10-21T20:30:08.987542Z"
    },
    "papermill": {
     "duration": 0.070194,
     "end_time": "2021-10-21T20:30:08.987969",
     "exception": false,
     "start_time": "2021-10-21T20:30:08.917775",
     "status": "completed"
    },
    "tags": []
   },
   "outputs": [
    {
     "data": {
      "text/html": [
       "<div>\n",
       "<style scoped>\n",
       "    .dataframe tbody tr th:only-of-type {\n",
       "        vertical-align: middle;\n",
       "    }\n",
       "\n",
       "    .dataframe tbody tr th {\n",
       "        vertical-align: top;\n",
       "    }\n",
       "\n",
       "    .dataframe thead th {\n",
       "        text-align: right;\n",
       "    }\n",
       "</style>\n",
       "<table border=\"1\" class=\"dataframe\">\n",
       "  <thead>\n",
       "    <tr style=\"text-align: right;\">\n",
       "      <th></th>\n",
       "      <th>RECORD_TIME</th>\n",
       "    </tr>\n",
       "  </thead>\n",
       "  <tbody>\n",
       "    <tr>\n",
       "      <th>0</th>\n",
       "      <td>2021-10-21 22:30</td>\n",
       "    </tr>\n",
       "    <tr>\n",
       "      <th>1</th>\n",
       "      <td>2021-10-21 22:00</td>\n",
       "    </tr>\n",
       "  </tbody>\n",
       "</table>\n",
       "</div>"
      ],
      "text/plain": [
       "        RECORD_TIME\n",
       "0  2021-10-21 22:30\n",
       "1  2021-10-21 22:00"
      ]
     },
     "execution_count": 3,
     "metadata": {},
     "output_type": "execute_result"
    }
   ],
   "source": [
    "timestamps"
   ]
  },
  {
   "cell_type": "code",
   "execution_count": 4,
   "id": "alternate-victory",
   "metadata": {
    "execution": {
     "iopub.execute_input": "2021-10-21T20:30:09.040254Z",
     "iopub.status.busy": "2021-10-21T20:30:09.038426Z",
     "iopub.status.idle": "2021-10-21T20:30:09.930764Z",
     "shell.execute_reply": "2021-10-21T20:30:09.932030Z"
    },
    "papermill": {
     "duration": 0.922219,
     "end_time": "2021-10-21T20:30:09.932446",
     "exception": false,
     "start_time": "2021-10-21T20:30:09.010227",
     "status": "completed"
    },
    "tags": []
   },
   "outputs": [],
   "source": [
    "df = pd.read_sql(\"select * from EBAY_TOP_BERLIN where record_time in (select distinct record_time from EBAY_TOP_BERLIN order by record_time desc limit 2)\", sqlite3.connect(\"UsedObjects.db\"))"
   ]
  },
  {
   "cell_type": "code",
   "execution_count": 5,
   "id": "popular-active",
   "metadata": {
    "execution": {
     "iopub.execute_input": "2021-10-21T20:30:10.001786Z",
     "iopub.status.busy": "2021-10-21T20:30:09.990866Z",
     "iopub.status.idle": "2021-10-21T20:30:10.018316Z",
     "shell.execute_reply": "2021-10-21T20:30:10.019509Z"
    },
    "papermill": {
     "duration": 0.066632,
     "end_time": "2021-10-21T20:30:10.019898",
     "exception": false,
     "start_time": "2021-10-21T20:30:09.953266",
     "status": "completed"
    },
    "tags": []
   },
   "outputs": [],
   "source": [
    "df_pivot = df.pivot_table(index=\"PRODUCT\", columns = \"RECORD_TIME\", values = \"LISTING_COUNT\")"
   ]
  },
  {
   "cell_type": "code",
   "execution_count": 6,
   "id": "union-huntington",
   "metadata": {
    "execution": {
     "iopub.execute_input": "2021-10-21T20:30:10.079273Z",
     "iopub.status.busy": "2021-10-21T20:30:10.076875Z",
     "iopub.status.idle": "2021-10-21T20:30:10.082680Z",
     "shell.execute_reply": "2021-10-21T20:30:10.083934Z"
    },
    "papermill": {
     "duration": 0.04211,
     "end_time": "2021-10-21T20:30:10.084352",
     "exception": false,
     "start_time": "2021-10-21T20:30:10.042242",
     "status": "completed"
    },
    "tags": []
   },
   "outputs": [],
   "source": [
    "df_pivot.columns = [\"stamp_1\", \"stamp_2\"]\n",
    "df_pivot_diff = df_pivot.diff(axis=1)"
   ]
  },
  {
   "cell_type": "code",
   "execution_count": 7,
   "id": "fifth-motion",
   "metadata": {
    "execution": {
     "iopub.execute_input": "2021-10-21T20:30:10.139375Z",
     "iopub.status.busy": "2021-10-21T20:30:10.136910Z",
     "iopub.status.idle": "2021-10-21T20:30:11.654055Z",
     "shell.execute_reply": "2021-10-21T20:30:11.655379Z"
    },
    "papermill": {
     "duration": 1.550809,
     "end_time": "2021-10-21T20:30:11.655798",
     "exception": false,
     "start_time": "2021-10-21T20:30:10.104989",
     "status": "completed"
    },
    "tags": []
   },
   "outputs": [
    {
     "data": {
      "text/plain": [
       "<AxesSubplot:ylabel='PRODUCT'>"
      ]
     },
     "execution_count": 7,
     "metadata": {},
     "output_type": "execute_result"
    },
    {
     "data": {
      "image/png": "[encoded data removed]",
      "text/plain": [
       "<Figure size 432x288 with 1 Axes>"
      ]
     },
     "metadata": {
      "needs_background": "light"
     },
     "output_type": "display_data"
    }
   ],
   "source": [
    "df_pivot_diff.sort_values(\"stamp_2\", ascending = False)[\"stamp_2\"].head(10).plot.barh()"
   ]
  },
  {
   "cell_type": "code",
   "execution_count": null,
   "id": "extra-executive",
   "metadata": {
    "papermill": {
     "duration": 0.02227,
     "end_time": "2021-10-21T20:30:11.702681",
     "exception": false,
     "start_time": "2021-10-21T20:30:11.680411",
     "status": "completed"
    },
    "tags": []
   },
   "outputs": [],
   "source": []
  }
 ],
 "metadata": {
  "kernelspec": {
   "display_name": "Python 3",
   "language": "python",
   "name": "python3"
  },
  "language_info": {
   "codemirror_mode": {
    "name": "ipython",
    "version": 3
   },
   "file_extension": ".py",
   "mimetype": "text/x-python",
   "name": "python",
   "nbconvert_exporter": "python",
   "pygments_lexer": "ipython3",
   "version": "3.9.5"
  },
  "papermill": {
   "default_parameters": {},
   "duration": 7.378915,
   "end_time": "2021-10-21T20:30:12.345854",
   "environment_variables": {},
   "exception": null,
   "input_path": "eBay_Overview.ipynb",
   "output_path": "eBay_Overview.ipynb",
   "parameters": {},
   "start_time": "2021-10-21T20:30:04.966939",
   "version": "2.3.3"
  }
 },
 "nbformat": 4,
 "nbformat_minor": 5
}