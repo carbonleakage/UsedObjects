{
 "cells": [
  {
   "cell_type": "code",
   "execution_count": 1,
   "id": "reverse-picking",
   "metadata": {
    "execution": {
     "iopub.execute_input": "2021-11-25T20:00:07.713422Z",
     "iopub.status.busy": "2021-11-25T20:00:07.711037Z",
     "iopub.status.idle": "2021-11-25T20:00:08.664973Z",
     "shell.execute_reply": "2021-11-25T20:00:08.666528Z"
    },
    "papermill": {
     "duration": 1.002809,
     "end_time": "2021-11-25T20:00:08.667252",
     "exception": false,
     "start_time": "2021-11-25T20:00:07.664443",
     "status": "completed"
    },
    "tags": []
   },
   "outputs": [],
   "source": [
    "import pandas as pd\n",
    "import sqlite3"
   ]
  },
  {
   "cell_type": "code",
   "execution_count": 2,
   "id": "innovative-syndrome",
   "metadata": {
    "execution": {
     "iopub.execute_input": "2021-11-25T20:00:08.753361Z",
     "iopub.status.busy": "2021-11-25T20:00:08.749293Z",
     "iopub.status.idle": "2021-11-25T20:00:09.661209Z",
     "shell.execute_reply": "2021-11-25T20:00:09.663179Z"
    },
    "papermill": {
     "duration": 0.950976,
     "end_time": "2021-11-25T20:00:09.663629",
     "exception": false,
     "start_time": "2021-11-25T20:00:08.712653",
     "status": "completed"
    },
    "tags": []
   },
   "outputs": [],
   "source": [
    "timestamps = pd.read_sql(\"select distinct record_time from EBAY_TOP_BERLIN order by record_time desc limit 2\", sqlite3.connect(\"UsedObjects.db\"))"
   ]
  },
  {
   "cell_type": "code",
   "execution_count": 3,
   "id": "periodic-identification",
   "metadata": {
    "execution": {
     "iopub.execute_input": "2021-11-25T20:00:09.727885Z",
     "iopub.status.busy": "2021-11-25T20:00:09.725854Z",
     "iopub.status.idle": "2021-11-25T20:00:09.745769Z",
     "shell.execute_reply": "2021-11-25T20:00:09.747134Z"
    },
    "papermill": {
     "duration": 0.064189,
     "end_time": "2021-11-25T20:00:09.747556",
     "exception": false,
     "start_time": "2021-11-25T20:00:09.683367",
     "status": "completed"
    },
    "tags": []
   },
   "outputs": [
    {
     "data": {
      "text/html": [
       "<div>\n",
       "<style scoped>\n",
       "    .dataframe tbody tr th:only-of-type {\n",
       "        vertical-align: middle;\n",
       "    }\n",
       "\n",
       "    .dataframe tbody tr th {\n",
       "        vertical-align: top;\n",
       "    }\n",
       "\n",
       "    .dataframe thead th {\n",
       "        text-align: right;\n",
       "    }\n",
       "</style>\n",
       "<table border=\"1\" class=\"dataframe\">\n",
       "  <thead>\n",
       "    <tr style=\"text-align: right;\">\n",
       "      <th></th>\n",
       "      <th>RECORD_TIME</th>\n",
       "    </tr>\n",
       "  </thead>\n",
       "  <tbody>\n",
       "    <tr>\n",
       "      <th>0</th>\n",
       "      <td>2021-11-25 21:00</td>\n",
       "    </tr>\n",
       "    <tr>\n",
       "      <th>1</th>\n",
       "      <td>2021-11-25 20:30</td>\n",
       "    </tr>\n",
       "  </tbody>\n",
       "</table>\n",
       "</div>"
      ],
      "text/plain": [
       "        RECORD_TIME\n",
       "0  2021-11-25 21:00\n",
       "1  2021-11-25 20:30"
      ]
     },
     "execution_count": 3,
     "metadata": {},
     "output_type": "execute_result"
    }
   ],
   "source": [
    "timestamps"
   ]
  },
  {
   "cell_type": "code",
   "execution_count": 4,
   "id": "alternate-victory",
   "metadata": {
    "execution": {
     "iopub.execute_input": "2021-11-25T20:00:09.800008Z",
     "iopub.status.busy": "2021-11-25T20:00:09.797704Z",
     "iopub.status.idle": "2021-11-25T20:00:11.110789Z",
     "shell.execute_reply": "2021-11-25T20:00:11.112285Z"
    },
    "papermill": {
     "duration": 1.34379,
     "end_time": "2021-11-25T20:00:11.112829",
     "exception": false,
     "start_time": "2021-11-25T20:00:09.769039",
     "status": "completed"
    },
    "tags": []
   },
   "outputs": [],
   "source": [
    "df = pd.read_sql(\"select * from EBAY_TOP_BERLIN where record_time in (select distinct record_time from EBAY_TOP_BERLIN order by record_time desc limit 2)\", sqlite3.connect(\"UsedObjects.db\"))"
   ]
  },
  {
   "cell_type": "code",
   "execution_count": 5,
   "id": "popular-active",
   "metadata": {
    "execution": {
     "iopub.execute_input": "2021-11-25T20:00:11.188343Z",
     "iopub.status.busy": "2021-11-25T20:00:11.179910Z",
     "iopub.status.idle": "2021-11-25T20:00:11.208024Z",
     "shell.execute_reply": "2021-11-25T20:00:11.209720Z"
    },
    "papermill": {
     "duration": 0.076703,
     "end_time": "2021-11-25T20:00:11.210233",
     "exception": false,
     "start_time": "2021-11-25T20:00:11.133530",
     "status": "completed"
    },
    "tags": []
   },
   "outputs": [],
   "source": [
    "df_pivot = df.pivot_table(index=\"PRODUCT\", columns = \"RECORD_TIME\", values = \"LISTING_COUNT\")"
   ]
  },
  {
   "cell_type": "code",
   "execution_count": 6,
   "id": "union-huntington",
   "metadata": {
    "execution": {
     "iopub.execute_input": "2021-11-25T20:00:11.275136Z",
     "iopub.status.busy": "2021-11-25T20:00:11.272483Z",
     "iopub.status.idle": "2021-11-25T20:00:11.279065Z",
     "shell.execute_reply": "2021-11-25T20:00:11.281508Z"
    },
    "papermill": {
     "duration": 0.047967,
     "end_time": "2021-11-25T20:00:11.282200",
     "exception": false,
     "start_time": "2021-11-25T20:00:11.234233",
     "status": "completed"
    },
    "tags": []
   },
   "outputs": [],
   "source": [
    "df_pivot.columns = [\"stamp_1\", \"stamp_2\"]\n",
    "df_pivot_diff = df_pivot.diff(axis=1)"
   ]
  },
  {
   "cell_type": "code",
   "execution_count": 7,
   "id": "fifth-motion",
   "metadata": {
    "execution": {
     "iopub.execute_input": "2021-11-25T20:00:11.344189Z",
     "iopub.status.busy": "2021-11-25T20:00:11.341974Z",
     "iopub.status.idle": "2021-11-25T20:00:13.299078Z",
     "shell.execute_reply": "2021-11-25T20:00:13.301129Z"
    },
    "papermill": {
     "duration": 1.99525,
     "end_time": "2021-11-25T20:00:13.301866",
     "exception": false,
     "start_time": "2021-11-25T20:00:11.306616",
     "status": "completed"
    },
    "tags": []
   },
   "outputs": [
    {
     "data": {
      "text/plain": [
       "<AxesSubplot:ylabel='PRODUCT'>"
      ]
     },
     "execution_count": 7,
     "metadata": {},
     "output_type": "execute_result"
    },
    {
     "data": {
      "image/png": "[encoded data removed]",
      "text/plain": [
       "<Figure size 432x288 with 1 Axes>"
      ]
     },
     "metadata": {
      "needs_background": "light"
     },
     "output_type": "display_data"
    }
   ],
   "source": [
    "df_pivot_diff.sort_values(\"stamp_2\", ascending = False)[\"stamp_2\"].head(10).plot.barh()"
   ]
  },
  {
   "cell_type": "code",
   "execution_count": null,
   "id": "extra-executive",
   "metadata": {
    "papermill": {
     "duration": 0.033646,
     "end_time": "2021-11-25T20:00:13.374436",
     "exception": false,
     "start_time": "2021-11-25T20:00:13.340790",
     "status": "completed"
    },
    "tags": []
   },
   "outputs": [],
   "source": []
  }
 ],
 "metadata": {
  "kernelspec": {
   "display_name": "Python 3",
   "language": "python",
   "name": "python3"
  },
  "language_info": {
   "codemirror_mode": {
    "name": "ipython",
    "version": 3
   },
   "file_extension": ".py",
   "mimetype": "text/x-python",
   "name": "python",
   "nbconvert_exporter": "python",
   "pygments_lexer": "ipython3",
   "version": "3.9.5"
  },
  "papermill": {
   "default_parameters": {},
   "duration": 9.931343,
   "end_time": "2021-11-25T20:00:14.879607",
   "environment_variables": {},
   "exception": null,
   "input_path": "eBay_Overview.ipynb",
   "output_path": "eBay_Overview.ipynb",
   "parameters": {},
   "start_time": "2021-11-25T20:00:04.948264",
   "version": "2.3.3"
  }
 },
 "nbformat": 4,
 "nbformat_minor": 5
}