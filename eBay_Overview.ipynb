{
 "cells": [
  {
   "cell_type": "code",
   "execution_count": 1,
   "id": "reverse-picking",
   "metadata": {
    "execution": {
     "iopub.execute_input": "2021-09-05T00:00:06.975277Z",
     "iopub.status.busy": "2021-09-05T00:00:06.973290Z",
     "iopub.status.idle": "2021-09-05T00:00:07.781918Z",
     "shell.execute_reply": "2021-09-05T00:00:07.783230Z"
    },
    "papermill": {
     "duration": 0.861366,
     "end_time": "2021-09-05T00:00:07.783865",
     "exception": false,
     "start_time": "2021-09-05T00:00:06.922499",
     "status": "completed"
    },
    "tags": []
   },
   "outputs": [],
   "source": [
    "import pandas as pd\n",
    "import sqlite3"
   ]
  },
  {
   "cell_type": "code",
   "execution_count": 2,
   "id": "innovative-syndrome",
   "metadata": {
    "execution": {
     "iopub.execute_input": "2021-09-05T00:00:07.834933Z",
     "iopub.status.busy": "2021-09-05T00:00:07.833050Z",
     "iopub.status.idle": "2021-09-05T00:00:08.036340Z",
     "shell.execute_reply": "2021-09-05T00:00:08.037519Z"
    },
    "papermill": {
     "duration": 0.232901,
     "end_time": "2021-09-05T00:00:08.037911",
     "exception": false,
     "start_time": "2021-09-05T00:00:07.805010",
     "status": "completed"
    },
    "tags": []
   },
   "outputs": [],
   "source": [
    "timestamps = pd.read_sql(\"select distinct record_time from EBAY_TOP_BERLIN order by record_time desc limit 2\", sqlite3.connect(\"UsedObjects.db\"))"
   ]
  },
  {
   "cell_type": "code",
   "execution_count": 3,
   "id": "periodic-identification",
   "metadata": {
    "execution": {
     "iopub.execute_input": "2021-09-05T00:00:08.103669Z",
     "iopub.status.busy": "2021-09-05T00:00:08.101588Z",
     "iopub.status.idle": "2021-09-05T00:00:08.123982Z",
     "shell.execute_reply": "2021-09-05T00:00:08.125362Z"
    },
    "papermill": {
     "duration": 0.06814,
     "end_time": "2021-09-05T00:00:08.125799",
     "exception": false,
     "start_time": "2021-09-05T00:00:08.057659",
     "status": "completed"
    },
    "tags": []
   },
   "outputs": [
    {
     "data": {
      "text/html": [
       "<div>\n",
       "<style scoped>\n",
       "    .dataframe tbody tr th:only-of-type {\n",
       "        vertical-align: middle;\n",
       "    }\n",
       "\n",
       "    .dataframe tbody tr th {\n",
       "        vertical-align: top;\n",
       "    }\n",
       "\n",
       "    .dataframe thead th {\n",
       "        text-align: right;\n",
       "    }\n",
       "</style>\n",
       "<table border=\"1\" class=\"dataframe\">\n",
       "  <thead>\n",
       "    <tr style=\"text-align: right;\">\n",
       "      <th></th>\n",
       "      <th>RECORD_TIME</th>\n",
       "    </tr>\n",
       "  </thead>\n",
       "  <tbody>\n",
       "    <tr>\n",
       "      <th>0</th>\n",
       "      <td>2021-09-05 02:00</td>\n",
       "    </tr>\n",
       "    <tr>\n",
       "      <th>1</th>\n",
       "      <td>2021-09-05 01:30</td>\n",
       "    </tr>\n",
       "  </tbody>\n",
       "</table>\n",
       "</div>"
      ],
      "text/plain": [
       "        RECORD_TIME\n",
       "0  2021-09-05 02:00\n",
       "1  2021-09-05 01:30"
      ]
     },
     "execution_count": 3,
     "metadata": {},
     "output_type": "execute_result"
    }
   ],
   "source": [
    "timestamps"
   ]
  },
  {
   "cell_type": "code",
   "execution_count": 4,
   "id": "alternate-victory",
   "metadata": {
    "execution": {
     "iopub.execute_input": "2021-09-05T00:00:08.177893Z",
     "iopub.status.busy": "2021-09-05T00:00:08.175908Z",
     "iopub.status.idle": "2021-09-05T00:00:08.480872Z",
     "shell.execute_reply": "2021-09-05T00:00:08.482063Z"
    },
    "papermill": {
     "duration": 0.335834,
     "end_time": "2021-09-05T00:00:08.482461",
     "exception": false,
     "start_time": "2021-09-05T00:00:08.146627",
     "status": "completed"
    },
    "tags": []
   },
   "outputs": [],
   "source": [
    "df = pd.read_sql(\"select * from EBAY_TOP_BERLIN where record_time in (select distinct record_time from EBAY_TOP_BERLIN order by record_time desc limit 2)\", sqlite3.connect(\"UsedObjects.db\"))"
   ]
  },
  {
   "cell_type": "code",
   "execution_count": 5,
   "id": "popular-active",
   "metadata": {
    "execution": {
     "iopub.execute_input": "2021-09-05T00:00:08.564927Z",
     "iopub.status.busy": "2021-09-05T00:00:08.553720Z",
     "iopub.status.idle": "2021-09-05T00:00:08.581870Z",
     "shell.execute_reply": "2021-09-05T00:00:08.583200Z"
    },
    "papermill": {
     "duration": 0.072029,
     "end_time": "2021-09-05T00:00:08.583619",
     "exception": false,
     "start_time": "2021-09-05T00:00:08.511590",
     "status": "completed"
    },
    "tags": []
   },
   "outputs": [],
   "source": [
    "df_pivot = df.pivot_table(index=\"PRODUCT\", columns = \"RECORD_TIME\", values = \"LISTING_COUNT\")"
   ]
  },
  {
   "cell_type": "code",
   "execution_count": 6,
   "id": "union-huntington",
   "metadata": {
    "execution": {
     "iopub.execute_input": "2021-09-05T00:00:08.640570Z",
     "iopub.status.busy": "2021-09-05T00:00:08.638451Z",
     "iopub.status.idle": "2021-09-05T00:00:08.643709Z",
     "shell.execute_reply": "2021-09-05T00:00:08.644879Z"
    },
    "papermill": {
     "duration": 0.041231,
     "end_time": "2021-09-05T00:00:08.645312",
     "exception": false,
     "start_time": "2021-09-05T00:00:08.604081",
     "status": "completed"
    },
    "tags": []
   },
   "outputs": [],
   "source": [
    "df_pivot.columns = [\"stamp_1\", \"stamp_2\"]\n",
    "df_pivot_diff = df_pivot.diff(axis=1)"
   ]
  },
  {
   "cell_type": "code",
   "execution_count": 7,
   "id": "fifth-motion",
   "metadata": {
    "execution": {
     "iopub.execute_input": "2021-09-05T00:00:08.700383Z",
     "iopub.status.busy": "2021-09-05T00:00:08.697839Z",
     "iopub.status.idle": "2021-09-05T00:00:10.157452Z",
     "shell.execute_reply": "2021-09-05T00:00:10.158714Z"
    },
    "papermill": {
     "duration": 1.493157,
     "end_time": "2021-09-05T00:00:10.159215",
     "exception": false,
     "start_time": "2021-09-05T00:00:08.666058",
     "status": "completed"
    },
    "tags": []
   },
   "outputs": [
    {
     "data": {
      "text/plain": [
       "<AxesSubplot:ylabel='PRODUCT'>"
      ]
     },
     "execution_count": 7,
     "metadata": {},
     "output_type": "execute_result"
    },
    {
     "data": {
      "image/png": "[encoded data removed]",
      "text/plain": [
       "<Figure size 432x288 with 1 Axes>"
      ]
     },
     "metadata": {
      "needs_background": "light"
     },
     "output_type": "display_data"
    }
   ],
   "source": [
    "df_pivot_diff.sort_values(\"stamp_2\", ascending = False)[\"stamp_2\"].head(10).plot.barh()"
   ]
  },
  {
   "cell_type": "code",
   "execution_count": null,
   "id": "extra-executive",
   "metadata": {
    "papermill": {
     "duration": 0.022365,
     "end_time": "2021-09-05T00:00:10.205999",
     "exception": false,
     "start_time": "2021-09-05T00:00:10.183634",
     "status": "completed"
    },
    "tags": []
   },
   "outputs": [],
   "source": []
  }
 ],
 "metadata": {
  "kernelspec": {
   "display_name": "Python 3",
   "language": "python",
   "name": "python3"
  },
  "language_info": {
   "codemirror_mode": {
    "name": "ipython",
    "version": 3
   },
   "file_extension": ".py",
   "mimetype": "text/x-python",
   "name": "python",
   "nbconvert_exporter": "python",
   "pygments_lexer": "ipython3",
   "version": "3.9.5"
  },
  "papermill": {
   "default_parameters": {},
   "duration": 6.333197,
   "end_time": "2021-09-05T00:00:10.846476",
   "environment_variables": {},
   "exception": null,
   "input_path": "eBay_Overview.ipynb",
   "output_path": "eBay_Overview.ipynb",
   "parameters": {},
   "start_time": "2021-09-05T00:00:04.513279",
   "version": "2.3.3"
  }
 },
 "nbformat": 4,
 "nbformat_minor": 5
}