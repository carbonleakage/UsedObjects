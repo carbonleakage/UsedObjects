{
 "cells": [
  {
   "cell_type": "code",
   "execution_count": 1,
   "id": "reverse-picking",
   "metadata": {
    "execution": {
     "iopub.execute_input": "2021-08-28T13:00:06.720496Z",
     "iopub.status.busy": "2021-08-28T13:00:06.718496Z",
     "iopub.status.idle": "2021-08-28T13:00:07.522872Z",
     "shell.execute_reply": "2021-08-28T13:00:07.521296Z"
    },
    "papermill": {
     "duration": 0.853405,
     "end_time": "2021-08-28T13:00:07.523270",
     "exception": false,
     "start_time": "2021-08-28T13:00:06.669865",
     "status": "completed"
    },
    "tags": []
   },
   "outputs": [],
   "source": [
    "import pandas as pd\n",
    "import sqlite3"
   ]
  },
  {
   "cell_type": "code",
   "execution_count": 2,
   "id": "innovative-syndrome",
   "metadata": {
    "execution": {
     "iopub.execute_input": "2021-08-28T13:00:07.577271Z",
     "iopub.status.busy": "2021-08-28T13:00:07.574853Z",
     "iopub.status.idle": "2021-08-28T13:00:07.725674Z",
     "shell.execute_reply": "2021-08-28T13:00:07.726882Z"
    },
    "papermill": {
     "duration": 0.180875,
     "end_time": "2021-08-28T13:00:07.727283",
     "exception": false,
     "start_time": "2021-08-28T13:00:07.546408",
     "status": "completed"
    },
    "tags": []
   },
   "outputs": [],
   "source": [
    "timestamps = pd.read_sql(\"select distinct record_time from EBAY_TOP_BERLIN order by record_time desc limit 2\", sqlite3.connect(\"UsedObjects.db\"))"
   ]
  },
  {
   "cell_type": "code",
   "execution_count": 3,
   "id": "periodic-identification",
   "metadata": {
    "execution": {
     "iopub.execute_input": "2021-08-28T13:00:07.791424Z",
     "iopub.status.busy": "2021-08-28T13:00:07.789396Z",
     "iopub.status.idle": "2021-08-28T13:00:07.810248Z",
     "shell.execute_reply": "2021-08-28T13:00:07.811465Z"
    },
    "papermill": {
     "duration": 0.065051,
     "end_time": "2021-08-28T13:00:07.811864",
     "exception": false,
     "start_time": "2021-08-28T13:00:07.746813",
     "status": "completed"
    },
    "tags": []
   },
   "outputs": [
    {
     "data": {
      "text/html": [
       "<div>\n",
       "<style scoped>\n",
       "    .dataframe tbody tr th:only-of-type {\n",
       "        vertical-align: middle;\n",
       "    }\n",
       "\n",
       "    .dataframe tbody tr th {\n",
       "        vertical-align: top;\n",
       "    }\n",
       "\n",
       "    .dataframe thead th {\n",
       "        text-align: right;\n",
       "    }\n",
       "</style>\n",
       "<table border=\"1\" class=\"dataframe\">\n",
       "  <thead>\n",
       "    <tr style=\"text-align: right;\">\n",
       "      <th></th>\n",
       "      <th>RECORD_TIME</th>\n",
       "    </tr>\n",
       "  </thead>\n",
       "  <tbody>\n",
       "    <tr>\n",
       "      <th>0</th>\n",
       "      <td>2021-08-28 15:00</td>\n",
       "    </tr>\n",
       "    <tr>\n",
       "      <th>1</th>\n",
       "      <td>2021-08-28 14:30</td>\n",
       "    </tr>\n",
       "  </tbody>\n",
       "</table>\n",
       "</div>"
      ],
      "text/plain": [
       "        RECORD_TIME\n",
       "0  2021-08-28 15:00\n",
       "1  2021-08-28 14:30"
      ]
     },
     "execution_count": 3,
     "metadata": {},
     "output_type": "execute_result"
    }
   ],
   "source": [
    "timestamps"
   ]
  },
  {
   "cell_type": "code",
   "execution_count": 4,
   "id": "alternate-victory",
   "metadata": {
    "execution": {
     "iopub.execute_input": "2021-08-28T13:00:07.865657Z",
     "iopub.status.busy": "2021-08-28T13:00:07.863269Z",
     "iopub.status.idle": "2021-08-28T13:00:08.086809Z",
     "shell.execute_reply": "2021-08-28T13:00:08.087939Z"
    },
    "papermill": {
     "duration": 0.254052,
     "end_time": "2021-08-28T13:00:08.088521",
     "exception": false,
     "start_time": "2021-08-28T13:00:07.834469",
     "status": "completed"
    },
    "tags": []
   },
   "outputs": [],
   "source": [
    "df = pd.read_sql(\"select * from EBAY_TOP_BERLIN where record_time in (select distinct record_time from EBAY_TOP_BERLIN order by record_time desc limit 2)\", sqlite3.connect(\"UsedObjects.db\"))"
   ]
  },
  {
   "cell_type": "code",
   "execution_count": 5,
   "id": "popular-active",
   "metadata": {
    "execution": {
     "iopub.execute_input": "2021-08-28T13:00:08.161973Z",
     "iopub.status.busy": "2021-08-28T13:00:08.149794Z",
     "iopub.status.idle": "2021-08-28T13:00:08.178762Z",
     "shell.execute_reply": "2021-08-28T13:00:08.180131Z"
    },
    "papermill": {
     "duration": 0.069549,
     "end_time": "2021-08-28T13:00:08.180777",
     "exception": false,
     "start_time": "2021-08-28T13:00:08.111228",
     "status": "completed"
    },
    "tags": []
   },
   "outputs": [],
   "source": [
    "df_pivot = df.pivot_table(index=\"PRODUCT\", columns = \"RECORD_TIME\", values = \"LISTING_COUNT\")"
   ]
  },
  {
   "cell_type": "code",
   "execution_count": 6,
   "id": "union-huntington",
   "metadata": {
    "execution": {
     "iopub.execute_input": "2021-08-28T13:00:08.248550Z",
     "iopub.status.busy": "2021-08-28T13:00:08.246246Z",
     "iopub.status.idle": "2021-08-28T13:00:08.252407Z",
     "shell.execute_reply": "2021-08-28T13:00:08.253977Z"
    },
    "papermill": {
     "duration": 0.045805,
     "end_time": "2021-08-28T13:00:08.254480",
     "exception": false,
     "start_time": "2021-08-28T13:00:08.208675",
     "status": "completed"
    },
    "tags": []
   },
   "outputs": [],
   "source": [
    "df_pivot.columns = [\"stamp_1\", \"stamp_2\"]\n",
    "df_pivot_diff = df_pivot.diff(axis=1)"
   ]
  },
  {
   "cell_type": "code",
   "execution_count": 7,
   "id": "fifth-motion",
   "metadata": {
    "execution": {
     "iopub.execute_input": "2021-08-28T13:00:08.309836Z",
     "iopub.status.busy": "2021-08-28T13:00:08.307391Z",
     "iopub.status.idle": "2021-08-28T13:00:09.819069Z",
     "shell.execute_reply": "2021-08-28T13:00:09.820552Z"
    },
    "papermill": {
     "duration": 1.54467,
     "end_time": "2021-08-28T13:00:09.821057",
     "exception": false,
     "start_time": "2021-08-28T13:00:08.276387",
     "status": "completed"
    },
    "tags": []
   },
   "outputs": [
    {
     "data": {
      "text/plain": [
       "<AxesSubplot:ylabel='PRODUCT'>"
      ]
     },
     "execution_count": 7,
     "metadata": {},
     "output_type": "execute_result"
    },
    {
     "data": {
      "image/png": "[encoded data removed]",
      "text/plain": [
       "<Figure size 432x288 with 1 Axes>"
      ]
     },
     "metadata": {
      "needs_background": "light"
     },
     "output_type": "display_data"
    }
   ],
   "source": [
    "df_pivot_diff.sort_values(\"stamp_2\", ascending = False)[\"stamp_2\"].head(10).plot.barh()"
   ]
  },
  {
   "cell_type": "code",
   "execution_count": null,
   "id": "extra-executive",
   "metadata": {
    "papermill": {
     "duration": 0.02253,
     "end_time": "2021-08-28T13:00:09.868550",
     "exception": false,
     "start_time": "2021-08-28T13:00:09.846020",
     "status": "completed"
    },
    "tags": []
   },
   "outputs": [],
   "source": []
  }
 ],
 "metadata": {
  "kernelspec": {
   "display_name": "Python 3",
   "language": "python",
   "name": "python3"
  },
  "language_info": {
   "codemirror_mode": {
    "name": "ipython",
    "version": 3
   },
   "file_extension": ".py",
   "mimetype": "text/x-python",
   "name": "python",
   "nbconvert_exporter": "python",
   "pygments_lexer": "ipython3",
   "version": "3.9.5"
  },
  "papermill": {
   "default_parameters": {},
   "duration": 6.818814,
   "end_time": "2021-08-28T13:00:11.086741",
   "environment_variables": {},
   "exception": null,
   "input_path": "eBay_Overview.ipynb",
   "output_path": "eBay_Overview.ipynb",
   "parameters": {},
   "start_time": "2021-08-28T13:00:04.267927",
   "version": "2.3.3"
  }
 },
 "nbformat": 4,
 "nbformat_minor": 5
}