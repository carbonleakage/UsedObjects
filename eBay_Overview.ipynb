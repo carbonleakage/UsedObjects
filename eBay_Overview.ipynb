{
 "cells": [
  {
   "cell_type": "code",
   "execution_count": 1,
   "id": "reverse-picking",
   "metadata": {
    "execution": {
     "iopub.execute_input": "2021-12-10T15:30:08.377210Z",
     "iopub.status.busy": "2021-12-10T15:30:08.374473Z",
     "iopub.status.idle": "2021-12-10T15:30:09.313096Z",
     "shell.execute_reply": "2021-12-10T15:30:09.315287Z"
    },
    "papermill": {
     "duration": 0.988511,
     "end_time": "2021-12-10T15:30:09.316015",
     "exception": false,
     "start_time": "2021-12-10T15:30:08.327504",
     "status": "completed"
    },
    "tags": []
   },
   "outputs": [],
   "source": [
    "import pandas as pd\n",
    "import sqlite3"
   ]
  },
  {
   "cell_type": "code",
   "execution_count": 2,
   "id": "innovative-syndrome",
   "metadata": {
    "execution": {
     "iopub.execute_input": "2021-12-10T15:30:09.379089Z",
     "iopub.status.busy": "2021-12-10T15:30:09.376379Z",
     "iopub.status.idle": "2021-12-10T15:30:10.405239Z",
     "shell.execute_reply": "2021-12-10T15:30:10.406582Z"
    },
    "papermill": {
     "duration": 1.063295,
     "end_time": "2021-12-10T15:30:10.406994",
     "exception": false,
     "start_time": "2021-12-10T15:30:09.343699",
     "status": "completed"
    },
    "tags": []
   },
   "outputs": [],
   "source": [
    "timestamps = pd.read_sql(\"select distinct record_time from EBAY_TOP_BERLIN order by record_time desc limit 2\", sqlite3.connect(\"UsedObjects.db\"))"
   ]
  },
  {
   "cell_type": "code",
   "execution_count": 3,
   "id": "periodic-identification",
   "metadata": {
    "execution": {
     "iopub.execute_input": "2021-12-10T15:30:10.471815Z",
     "iopub.status.busy": "2021-12-10T15:30:10.469771Z",
     "iopub.status.idle": "2021-12-10T15:30:10.489623Z",
     "shell.execute_reply": "2021-12-10T15:30:10.490784Z"
    },
    "papermill": {
     "duration": 0.064433,
     "end_time": "2021-12-10T15:30:10.491265",
     "exception": false,
     "start_time": "2021-12-10T15:30:10.426832",
     "status": "completed"
    },
    "tags": []
   },
   "outputs": [
    {
     "data": {
      "text/html": [
       "<div>\n",
       "<style scoped>\n",
       "    .dataframe tbody tr th:only-of-type {\n",
       "        vertical-align: middle;\n",
       "    }\n",
       "\n",
       "    .dataframe tbody tr th {\n",
       "        vertical-align: top;\n",
       "    }\n",
       "\n",
       "    .dataframe thead th {\n",
       "        text-align: right;\n",
       "    }\n",
       "</style>\n",
       "<table border=\"1\" class=\"dataframe\">\n",
       "  <thead>\n",
       "    <tr style=\"text-align: right;\">\n",
       "      <th></th>\n",
       "      <th>RECORD_TIME</th>\n",
       "    </tr>\n",
       "  </thead>\n",
       "  <tbody>\n",
       "    <tr>\n",
       "      <th>0</th>\n",
       "      <td>2021-12-10 16:30</td>\n",
       "    </tr>\n",
       "    <tr>\n",
       "      <th>1</th>\n",
       "      <td>2021-12-10 16:00</td>\n",
       "    </tr>\n",
       "  </tbody>\n",
       "</table>\n",
       "</div>"
      ],
      "text/plain": [
       "        RECORD_TIME\n",
       "0  2021-12-10 16:30\n",
       "1  2021-12-10 16:00"
      ]
     },
     "execution_count": 3,
     "metadata": {},
     "output_type": "execute_result"
    }
   ],
   "source": [
    "timestamps"
   ]
  },
  {
   "cell_type": "code",
   "execution_count": 4,
   "id": "alternate-victory",
   "metadata": {
    "execution": {
     "iopub.execute_input": "2021-12-10T15:30:10.550077Z",
     "iopub.status.busy": "2021-12-10T15:30:10.547679Z",
     "iopub.status.idle": "2021-12-10T15:30:12.049454Z",
     "shell.execute_reply": "2021-12-10T15:30:12.050951Z"
    },
    "papermill": {
     "duration": 1.534553,
     "end_time": "2021-12-10T15:30:12.051417",
     "exception": false,
     "start_time": "2021-12-10T15:30:10.516864",
     "status": "completed"
    },
    "tags": []
   },
   "outputs": [],
   "source": [
    "df = pd.read_sql(\"select * from EBAY_TOP_BERLIN where record_time in (select distinct record_time from EBAY_TOP_BERLIN order by record_time desc limit 2)\", sqlite3.connect(\"UsedObjects.db\"))"
   ]
  },
  {
   "cell_type": "code",
   "execution_count": 5,
   "id": "popular-active",
   "metadata": {
    "execution": {
     "iopub.execute_input": "2021-12-10T15:30:12.118767Z",
     "iopub.status.busy": "2021-12-10T15:30:12.115006Z",
     "iopub.status.idle": "2021-12-10T15:30:12.146971Z",
     "shell.execute_reply": "2021-12-10T15:30:12.148220Z"
    },
    "papermill": {
     "duration": 0.075419,
     "end_time": "2021-12-10T15:30:12.148628",
     "exception": false,
     "start_time": "2021-12-10T15:30:12.073209",
     "status": "completed"
    },
    "tags": []
   },
   "outputs": [],
   "source": [
    "df_pivot = df.pivot_table(index=\"PRODUCT\", columns = \"RECORD_TIME\", values = \"LISTING_COUNT\")"
   ]
  },
  {
   "cell_type": "code",
   "execution_count": 6,
   "id": "union-huntington",
   "metadata": {
    "execution": {
     "iopub.execute_input": "2021-12-10T15:30:12.208269Z",
     "iopub.status.busy": "2021-12-10T15:30:12.206040Z",
     "iopub.status.idle": "2021-12-10T15:30:12.211047Z",
     "shell.execute_reply": "2021-12-10T15:30:12.212519Z"
    },
    "papermill": {
     "duration": 0.043918,
     "end_time": "2021-12-10T15:30:12.213065",
     "exception": false,
     "start_time": "2021-12-10T15:30:12.169147",
     "status": "completed"
    },
    "tags": []
   },
   "outputs": [],
   "source": [
    "df_pivot.columns = [\"stamp_1\", \"stamp_2\"]\n",
    "df_pivot_diff = df_pivot.diff(axis=1)"
   ]
  },
  {
   "cell_type": "code",
   "execution_count": 7,
   "id": "fifth-motion",
   "metadata": {
    "execution": {
     "iopub.execute_input": "2021-12-10T15:30:12.266288Z",
     "iopub.status.busy": "2021-12-10T15:30:12.263650Z",
     "iopub.status.idle": "2021-12-10T15:30:14.246903Z",
     "shell.execute_reply": "2021-12-10T15:30:14.248379Z"
    },
    "papermill": {
     "duration": 2.015097,
     "end_time": "2021-12-10T15:30:14.248918",
     "exception": false,
     "start_time": "2021-12-10T15:30:12.233821",
     "status": "completed"
    },
    "tags": []
   },
   "outputs": [
    {
     "data": {
      "text/plain": [
       "<AxesSubplot:ylabel='PRODUCT'>"
      ]
     },
     "execution_count": 7,
     "metadata": {},
     "output_type": "execute_result"
    },
    {
     "data": {
      "image/png": "[encoded data removed]",
      "text/plain": [
       "<Figure size 432x288 with 1 Axes>"
      ]
     },
     "metadata": {
      "needs_background": "light"
     },
     "output_type": "display_data"
    }
   ],
   "source": [
    "df_pivot_diff.sort_values(\"stamp_2\", ascending = False)[\"stamp_2\"].head(10).plot.barh()"
   ]
  },
  {
   "cell_type": "code",
   "execution_count": null,
   "id": "extra-executive",
   "metadata": {
    "papermill": {
     "duration": 0.022681,
     "end_time": "2021-12-10T15:30:14.296654",
     "exception": false,
     "start_time": "2021-12-10T15:30:14.273973",
     "status": "completed"
    },
    "tags": []
   },
   "outputs": [],
   "source": []
  }
 ],
 "metadata": {
  "kernelspec": {
   "display_name": "Python 3",
   "language": "python",
   "name": "python3"
  },
  "language_info": {
   "codemirror_mode": {
    "name": "ipython",
    "version": 3
   },
   "file_extension": ".py",
   "mimetype": "text/x-python",
   "name": "python",
   "nbconvert_exporter": "python",
   "pygments_lexer": "ipython3",
   "version": "3.9.5"
  },
  "papermill": {
   "default_parameters": {},
   "duration": 9.932513,
   "end_time": "2021-12-10T15:30:15.555401",
   "environment_variables": {},
   "exception": null,
   "input_path": "eBay_Overview.ipynb",
   "output_path": "eBay_Overview.ipynb",
   "parameters": {},
   "start_time": "2021-12-10T15:30:05.622888",
   "version": "2.3.3"
  }
 },
 "nbformat": 4,
 "nbformat_minor": 5
}