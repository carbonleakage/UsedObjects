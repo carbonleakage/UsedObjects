{
 "cells": [
  {
   "cell_type": "code",
   "execution_count": 1,
   "id": "reverse-picking",
   "metadata": {
    "execution": {
     "iopub.execute_input": "2021-08-20T17:00:06.660133Z",
     "iopub.status.busy": "2021-08-20T17:00:06.658113Z",
     "iopub.status.idle": "2021-08-20T17:00:07.463377Z",
     "shell.execute_reply": "2021-08-20T17:00:07.464654Z"
    },
    "papermill": {
     "duration": 0.85658,
     "end_time": "2021-08-20T17:00:07.465266",
     "exception": false,
     "start_time": "2021-08-20T17:00:06.608686",
     "status": "completed"
    },
    "tags": []
   },
   "outputs": [],
   "source": [
    "import pandas as pd\n",
    "import sqlite3"
   ]
  },
  {
   "cell_type": "code",
   "execution_count": 2,
   "id": "innovative-syndrome",
   "metadata": {
    "execution": {
     "iopub.execute_input": "2021-08-20T17:00:07.516135Z",
     "iopub.status.busy": "2021-08-20T17:00:07.513882Z",
     "iopub.status.idle": "2021-08-20T17:00:07.609323Z",
     "shell.execute_reply": "2021-08-20T17:00:07.610655Z"
    },
    "papermill": {
     "duration": 0.125414,
     "end_time": "2021-08-20T17:00:07.611085",
     "exception": false,
     "start_time": "2021-08-20T17:00:07.485671",
     "status": "completed"
    },
    "tags": []
   },
   "outputs": [],
   "source": [
    "timestamps = pd.read_sql(\"select distinct record_time from EBAY_TOP_BERLIN order by record_time desc limit 2\", sqlite3.connect(\"UsedObjects.db\"))"
   ]
  },
  {
   "cell_type": "code",
   "execution_count": 3,
   "id": "periodic-identification",
   "metadata": {
    "execution": {
     "iopub.execute_input": "2021-08-20T17:00:07.679406Z",
     "iopub.status.busy": "2021-08-20T17:00:07.677327Z",
     "iopub.status.idle": "2021-08-20T17:00:07.697324Z",
     "shell.execute_reply": "2021-08-20T17:00:07.698952Z"
    },
    "papermill": {
     "duration": 0.067241,
     "end_time": "2021-08-20T17:00:07.699427",
     "exception": false,
     "start_time": "2021-08-20T17:00:07.632186",
     "status": "completed"
    },
    "tags": []
   },
   "outputs": [
    {
     "data": {
      "text/html": [
       "<div>\n",
       "<style scoped>\n",
       "    .dataframe tbody tr th:only-of-type {\n",
       "        vertical-align: middle;\n",
       "    }\n",
       "\n",
       "    .dataframe tbody tr th {\n",
       "        vertical-align: top;\n",
       "    }\n",
       "\n",
       "    .dataframe thead th {\n",
       "        text-align: right;\n",
       "    }\n",
       "</style>\n",
       "<table border=\"1\" class=\"dataframe\">\n",
       "  <thead>\n",
       "    <tr style=\"text-align: right;\">\n",
       "      <th></th>\n",
       "      <th>RECORD_TIME</th>\n",
       "    </tr>\n",
       "  </thead>\n",
       "  <tbody>\n",
       "    <tr>\n",
       "      <th>0</th>\n",
       "      <td>2021-08-20 19:00</td>\n",
       "    </tr>\n",
       "    <tr>\n",
       "      <th>1</th>\n",
       "      <td>2021-08-20 18:30</td>\n",
       "    </tr>\n",
       "  </tbody>\n",
       "</table>\n",
       "</div>"
      ],
      "text/plain": [
       "        RECORD_TIME\n",
       "0  2021-08-20 19:00\n",
       "1  2021-08-20 18:30"
      ]
     },
     "execution_count": 3,
     "metadata": {},
     "output_type": "execute_result"
    }
   ],
   "source": [
    "timestamps"
   ]
  },
  {
   "cell_type": "code",
   "execution_count": 4,
   "id": "alternate-victory",
   "metadata": {
    "execution": {
     "iopub.execute_input": "2021-08-20T17:00:07.752606Z",
     "iopub.status.busy": "2021-08-20T17:00:07.750783Z",
     "iopub.status.idle": "2021-08-20T17:00:07.888757Z",
     "shell.execute_reply": "2021-08-20T17:00:07.890106Z"
    },
    "papermill": {
     "duration": 0.168347,
     "end_time": "2021-08-20T17:00:07.890573",
     "exception": false,
     "start_time": "2021-08-20T17:00:07.722226",
     "status": "completed"
    },
    "tags": []
   },
   "outputs": [],
   "source": [
    "df = pd.read_sql(\"select * from EBAY_TOP_BERLIN where record_time in (select distinct record_time from EBAY_TOP_BERLIN order by record_time desc limit 2)\", sqlite3.connect(\"UsedObjects.db\"))"
   ]
  },
  {
   "cell_type": "code",
   "execution_count": 5,
   "id": "popular-active",
   "metadata": {
    "execution": {
     "iopub.execute_input": "2021-08-20T17:00:07.956187Z",
     "iopub.status.busy": "2021-08-20T17:00:07.949771Z",
     "iopub.status.idle": "2021-08-20T17:00:07.976576Z",
     "shell.execute_reply": "2021-08-20T17:00:07.977787Z"
    },
    "papermill": {
     "duration": 0.067396,
     "end_time": "2021-08-20T17:00:07.978362",
     "exception": false,
     "start_time": "2021-08-20T17:00:07.910966",
     "status": "completed"
    },
    "tags": []
   },
   "outputs": [],
   "source": [
    "df_pivot = df.pivot_table(index=\"PRODUCT\", columns = \"RECORD_TIME\", values = \"LISTING_COUNT\")"
   ]
  },
  {
   "cell_type": "code",
   "execution_count": 6,
   "id": "union-huntington",
   "metadata": {
    "execution": {
     "iopub.execute_input": "2021-08-20T17:00:08.037745Z",
     "iopub.status.busy": "2021-08-20T17:00:08.035469Z",
     "iopub.status.idle": "2021-08-20T17:00:08.040993Z",
     "shell.execute_reply": "2021-08-20T17:00:08.042333Z"
    },
    "papermill": {
     "duration": 0.041998,
     "end_time": "2021-08-20T17:00:08.042754",
     "exception": false,
     "start_time": "2021-08-20T17:00:08.000756",
     "status": "completed"
    },
    "tags": []
   },
   "outputs": [],
   "source": [
    "df_pivot.columns = [\"stamp_1\", \"stamp_2\"]\n",
    "df_pivot_diff = df_pivot.diff(axis=1)"
   ]
  },
  {
   "cell_type": "code",
   "execution_count": 7,
   "id": "fifth-motion",
   "metadata": {
    "execution": {
     "iopub.execute_input": "2021-08-20T17:00:08.103332Z",
     "iopub.status.busy": "2021-08-20T17:00:08.100893Z",
     "iopub.status.idle": "2021-08-20T17:00:09.593003Z",
     "shell.execute_reply": "2021-08-20T17:00:09.594572Z"
    },
    "papermill": {
     "duration": 1.530535,
     "end_time": "2021-08-20T17:00:09.595036",
     "exception": false,
     "start_time": "2021-08-20T17:00:08.064501",
     "status": "completed"
    },
    "tags": []
   },
   "outputs": [
    {
     "data": {
      "text/plain": [
       "<AxesSubplot:ylabel='PRODUCT'>"
      ]
     },
     "execution_count": 7,
     "metadata": {},
     "output_type": "execute_result"
    },
    {
     "data": {
      "image/png": "[encoded data removed]",
      "text/plain": [
       "<Figure size 432x288 with 1 Axes>"
      ]
     },
     "metadata": {
      "needs_background": "light"
     },
     "output_type": "display_data"
    }
   ],
   "source": [
    "df_pivot_diff.sort_values(\"stamp_2\", ascending = False)[\"stamp_2\"].head(10).plot.barh()"
   ]
  },
  {
   "cell_type": "code",
   "execution_count": null,
   "id": "extra-executive",
   "metadata": {
    "papermill": {
     "duration": 0.022484,
     "end_time": "2021-08-20T17:00:09.644216",
     "exception": false,
     "start_time": "2021-08-20T17:00:09.621732",
     "status": "completed"
    },
    "tags": []
   },
   "outputs": [],
   "source": []
  }
 ],
 "metadata": {
  "kernelspec": {
   "display_name": "Python 3",
   "language": "python",
   "name": "python3"
  },
  "language_info": {
   "codemirror_mode": {
    "name": "ipython",
    "version": 3
   },
   "file_extension": ".py",
   "mimetype": "text/x-python",
   "name": "python",
   "nbconvert_exporter": "python",
   "pygments_lexer": "ipython3",
   "version": "3.9.5"
  },
  "papermill": {
   "default_parameters": {},
   "duration": 6.821951,
   "end_time": "2021-08-20T17:00:11.025733",
   "environment_variables": {},
   "exception": null,
   "input_path": "eBay_Overview.ipynb",
   "output_path": "eBay_Overview.ipynb",
   "parameters": {},
   "start_time": "2021-08-20T17:00:04.203782",
   "version": "2.3.3"
  }
 },
 "nbformat": 4,
 "nbformat_minor": 5
}