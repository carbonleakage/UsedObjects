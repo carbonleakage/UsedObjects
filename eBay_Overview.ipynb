{
 "cells": [
  {
   "cell_type": "code",
   "execution_count": 1,
   "id": "reverse-picking",
   "metadata": {
    "execution": {
     "iopub.execute_input": "2021-10-09T07:30:06.864914Z",
     "iopub.status.busy": "2021-10-09T07:30:06.862996Z",
     "iopub.status.idle": "2021-10-09T07:30:07.673083Z",
     "shell.execute_reply": "2021-10-09T07:30:07.674373Z"
    },
    "papermill": {
     "duration": 0.856937,
     "end_time": "2021-10-09T07:30:07.675077",
     "exception": false,
     "start_time": "2021-10-09T07:30:06.818140",
     "status": "completed"
    },
    "tags": []
   },
   "outputs": [],
   "source": [
    "import pandas as pd\n",
    "import sqlite3"
   ]
  },
  {
   "cell_type": "code",
   "execution_count": 2,
   "id": "innovative-syndrome",
   "metadata": {
    "execution": {
     "iopub.execute_input": "2021-10-09T07:30:07.725482Z",
     "iopub.status.busy": "2021-10-09T07:30:07.723186Z",
     "iopub.status.idle": "2021-10-09T07:30:08.217269Z",
     "shell.execute_reply": "2021-10-09T07:30:08.215950Z"
    },
    "papermill": {
     "duration": 0.522962,
     "end_time": "2021-10-09T07:30:08.217606",
     "exception": false,
     "start_time": "2021-10-09T07:30:07.694644",
     "status": "completed"
    },
    "tags": []
   },
   "outputs": [],
   "source": [
    "timestamps = pd.read_sql(\"select distinct record_time from EBAY_TOP_BERLIN order by record_time desc limit 2\", sqlite3.connect(\"UsedObjects.db\"))"
   ]
  },
  {
   "cell_type": "code",
   "execution_count": 3,
   "id": "periodic-identification",
   "metadata": {
    "execution": {
     "iopub.execute_input": "2021-10-09T07:30:08.283783Z",
     "iopub.status.busy": "2021-10-09T07:30:08.281690Z",
     "iopub.status.idle": "2021-10-09T07:30:08.303246Z",
     "shell.execute_reply": "2021-10-09T07:30:08.301733Z"
    },
    "papermill": {
     "duration": 0.06584,
     "end_time": "2021-10-09T07:30:08.303612",
     "exception": false,
     "start_time": "2021-10-09T07:30:08.237772",
     "status": "completed"
    },
    "tags": []
   },
   "outputs": [
    {
     "data": {
      "text/html": [
       "<div>\n",
       "<style scoped>\n",
       "    .dataframe tbody tr th:only-of-type {\n",
       "        vertical-align: middle;\n",
       "    }\n",
       "\n",
       "    .dataframe tbody tr th {\n",
       "        vertical-align: top;\n",
       "    }\n",
       "\n",
       "    .dataframe thead th {\n",
       "        text-align: right;\n",
       "    }\n",
       "</style>\n",
       "<table border=\"1\" class=\"dataframe\">\n",
       "  <thead>\n",
       "    <tr style=\"text-align: right;\">\n",
       "      <th></th>\n",
       "      <th>RECORD_TIME</th>\n",
       "    </tr>\n",
       "  </thead>\n",
       "  <tbody>\n",
       "    <tr>\n",
       "      <th>0</th>\n",
       "      <td>2021-10-09 09:30</td>\n",
       "    </tr>\n",
       "    <tr>\n",
       "      <th>1</th>\n",
       "      <td>2021-10-09 09:00</td>\n",
       "    </tr>\n",
       "  </tbody>\n",
       "</table>\n",
       "</div>"
      ],
      "text/plain": [
       "        RECORD_TIME\n",
       "0  2021-10-09 09:30\n",
       "1  2021-10-09 09:00"
      ]
     },
     "execution_count": 3,
     "metadata": {},
     "output_type": "execute_result"
    }
   ],
   "source": [
    "timestamps"
   ]
  },
  {
   "cell_type": "code",
   "execution_count": 4,
   "id": "alternate-victory",
   "metadata": {
    "execution": {
     "iopub.execute_input": "2021-10-09T07:30:08.365024Z",
     "iopub.status.busy": "2021-10-09T07:30:08.362604Z",
     "iopub.status.idle": "2021-10-09T07:30:09.088931Z",
     "shell.execute_reply": "2021-10-09T07:30:09.090398Z"
    },
    "papermill": {
     "duration": 0.759958,
     "end_time": "2021-10-09T07:30:09.090959",
     "exception": false,
     "start_time": "2021-10-09T07:30:08.331001",
     "status": "completed"
    },
    "tags": []
   },
   "outputs": [],
   "source": [
    "df = pd.read_sql(\"select * from EBAY_TOP_BERLIN where record_time in (select distinct record_time from EBAY_TOP_BERLIN order by record_time desc limit 2)\", sqlite3.connect(\"UsedObjects.db\"))"
   ]
  },
  {
   "cell_type": "code",
   "execution_count": 5,
   "id": "popular-active",
   "metadata": {
    "execution": {
     "iopub.execute_input": "2021-10-09T07:30:09.163016Z",
     "iopub.status.busy": "2021-10-09T07:30:09.151772Z",
     "iopub.status.idle": "2021-10-09T07:30:09.178910Z",
     "shell.execute_reply": "2021-10-09T07:30:09.180143Z"
    },
    "papermill": {
     "duration": 0.068598,
     "end_time": "2021-10-09T07:30:09.180542",
     "exception": false,
     "start_time": "2021-10-09T07:30:09.111944",
     "status": "completed"
    },
    "tags": []
   },
   "outputs": [],
   "source": [
    "df_pivot = df.pivot_table(index=\"PRODUCT\", columns = \"RECORD_TIME\", values = \"LISTING_COUNT\")"
   ]
  },
  {
   "cell_type": "code",
   "execution_count": 6,
   "id": "union-huntington",
   "metadata": {
    "execution": {
     "iopub.execute_input": "2021-10-09T07:30:09.238931Z",
     "iopub.status.busy": "2021-10-09T07:30:09.236312Z",
     "iopub.status.idle": "2021-10-09T07:30:09.244017Z",
     "shell.execute_reply": "2021-10-09T07:30:09.242353Z"
    },
    "papermill": {
     "duration": 0.042229,
     "end_time": "2021-10-09T07:30:09.244422",
     "exception": false,
     "start_time": "2021-10-09T07:30:09.202193",
     "status": "completed"
    },
    "tags": []
   },
   "outputs": [],
   "source": [
    "df_pivot.columns = [\"stamp_1\", \"stamp_2\"]\n",
    "df_pivot_diff = df_pivot.diff(axis=1)"
   ]
  },
  {
   "cell_type": "code",
   "execution_count": 7,
   "id": "fifth-motion",
   "metadata": {
    "execution": {
     "iopub.execute_input": "2021-10-09T07:30:09.298656Z",
     "iopub.status.busy": "2021-10-09T07:30:09.296401Z",
     "iopub.status.idle": "2021-10-09T07:30:10.818509Z",
     "shell.execute_reply": "2021-10-09T07:30:10.819874Z"
    },
    "papermill": {
     "duration": 1.555114,
     "end_time": "2021-10-09T07:30:10.820302",
     "exception": false,
     "start_time": "2021-10-09T07:30:09.265188",
     "status": "completed"
    },
    "tags": []
   },
   "outputs": [
    {
     "data": {
      "text/plain": [
       "<AxesSubplot:ylabel='PRODUCT'>"
      ]
     },
     "execution_count": 7,
     "metadata": {},
     "output_type": "execute_result"
    },
    {
     "data": {
      "image/png": "[encoded data removed]",
      "text/plain": [
       "<Figure size 432x288 with 1 Axes>"
      ]
     },
     "metadata": {
      "needs_background": "light"
     },
     "output_type": "display_data"
    }
   ],
   "source": [
    "df_pivot_diff.sort_values(\"stamp_2\", ascending = False)[\"stamp_2\"].head(10).plot.barh()"
   ]
  },
  {
   "cell_type": "code",
   "execution_count": null,
   "id": "extra-executive",
   "metadata": {
    "papermill": {
     "duration": 0.022557,
     "end_time": "2021-10-09T07:30:10.868025",
     "exception": false,
     "start_time": "2021-10-09T07:30:10.845468",
     "status": "completed"
    },
    "tags": []
   },
   "outputs": [],
   "source": []
  }
 ],
 "metadata": {
  "kernelspec": {
   "display_name": "Python 3",
   "language": "python",
   "name": "python3"
  },
  "language_info": {
   "codemirror_mode": {
    "name": "ipython",
    "version": 3
   },
   "file_extension": ".py",
   "mimetype": "text/x-python",
   "name": "python",
   "nbconvert_exporter": "python",
   "pygments_lexer": "ipython3",
   "version": "3.9.5"
  },
  "papermill": {
   "default_parameters": {},
   "duration": 7.841044,
   "end_time": "2021-10-09T07:30:12.244007",
   "environment_variables": {},
   "exception": null,
   "input_path": "eBay_Overview.ipynb",
   "output_path": "eBay_Overview.ipynb",
   "parameters": {},
   "start_time": "2021-10-09T07:30:04.402963",
   "version": "2.3.3"
  }
 },
 "nbformat": 4,
 "nbformat_minor": 5
}