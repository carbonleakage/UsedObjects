{
 "cells": [
  {
   "cell_type": "code",
   "execution_count": 1,
   "id": "reverse-picking",
   "metadata": {
    "execution": {
     "iopub.execute_input": "2021-10-16T05:00:07.258946Z",
     "iopub.status.busy": "2021-10-16T05:00:07.256968Z",
     "iopub.status.idle": "2021-10-16T05:00:08.066669Z",
     "shell.execute_reply": "2021-10-16T05:00:08.067931Z"
    },
    "papermill": {
     "duration": 0.861975,
     "end_time": "2021-10-16T05:00:08.068558",
     "exception": false,
     "start_time": "2021-10-16T05:00:07.206583",
     "status": "completed"
    },
    "tags": []
   },
   "outputs": [],
   "source": [
    "import pandas as pd\n",
    "import sqlite3"
   ]
  },
  {
   "cell_type": "code",
   "execution_count": 2,
   "id": "innovative-syndrome",
   "metadata": {
    "execution": {
     "iopub.execute_input": "2021-10-16T05:00:08.120766Z",
     "iopub.status.busy": "2021-10-16T05:00:08.118421Z",
     "iopub.status.idle": "2021-10-16T05:00:08.676168Z",
     "shell.execute_reply": "2021-10-16T05:00:08.677495Z"
    },
    "papermill": {
     "duration": 0.588197,
     "end_time": "2021-10-16T05:00:08.677914",
     "exception": false,
     "start_time": "2021-10-16T05:00:08.089717",
     "status": "completed"
    },
    "tags": []
   },
   "outputs": [],
   "source": [
    "timestamps = pd.read_sql(\"select distinct record_time from EBAY_TOP_BERLIN order by record_time desc limit 2\", sqlite3.connect(\"UsedObjects.db\"))"
   ]
  },
  {
   "cell_type": "code",
   "execution_count": 3,
   "id": "periodic-identification",
   "metadata": {
    "execution": {
     "iopub.execute_input": "2021-10-16T05:00:08.754326Z",
     "iopub.status.busy": "2021-10-16T05:00:08.752228Z",
     "iopub.status.idle": "2021-10-16T05:00:08.773549Z",
     "shell.execute_reply": "2021-10-16T05:00:08.771962Z"
    },
    "papermill": {
     "duration": 0.068589,
     "end_time": "2021-10-16T05:00:08.773910",
     "exception": false,
     "start_time": "2021-10-16T05:00:08.705321",
     "status": "completed"
    },
    "tags": []
   },
   "outputs": [
    {
     "data": {
      "text/html": [
       "<div>\n",
       "<style scoped>\n",
       "    .dataframe tbody tr th:only-of-type {\n",
       "        vertical-align: middle;\n",
       "    }\n",
       "\n",
       "    .dataframe tbody tr th {\n",
       "        vertical-align: top;\n",
       "    }\n",
       "\n",
       "    .dataframe thead th {\n",
       "        text-align: right;\n",
       "    }\n",
       "</style>\n",
       "<table border=\"1\" class=\"dataframe\">\n",
       "  <thead>\n",
       "    <tr style=\"text-align: right;\">\n",
       "      <th></th>\n",
       "      <th>RECORD_TIME</th>\n",
       "    </tr>\n",
       "  </thead>\n",
       "  <tbody>\n",
       "    <tr>\n",
       "      <th>0</th>\n",
       "      <td>2021-10-16 07:00</td>\n",
       "    </tr>\n",
       "    <tr>\n",
       "      <th>1</th>\n",
       "      <td>2021-10-16 06:30</td>\n",
       "    </tr>\n",
       "  </tbody>\n",
       "</table>\n",
       "</div>"
      ],
      "text/plain": [
       "        RECORD_TIME\n",
       "0  2021-10-16 07:00\n",
       "1  2021-10-16 06:30"
      ]
     },
     "execution_count": 3,
     "metadata": {},
     "output_type": "execute_result"
    }
   ],
   "source": [
    "timestamps"
   ]
  },
  {
   "cell_type": "code",
   "execution_count": 4,
   "id": "alternate-victory",
   "metadata": {
    "execution": {
     "iopub.execute_input": "2021-10-16T05:00:08.826100Z",
     "iopub.status.busy": "2021-10-16T05:00:08.823737Z",
     "iopub.status.idle": "2021-10-16T05:00:09.645124Z",
     "shell.execute_reply": "2021-10-16T05:00:09.646272Z"
    },
    "papermill": {
     "duration": 0.851863,
     "end_time": "2021-10-16T05:00:09.646686",
     "exception": false,
     "start_time": "2021-10-16T05:00:08.794823",
     "status": "completed"
    },
    "tags": []
   },
   "outputs": [],
   "source": [
    "df = pd.read_sql(\"select * from EBAY_TOP_BERLIN where record_time in (select distinct record_time from EBAY_TOP_BERLIN order by record_time desc limit 2)\", sqlite3.connect(\"UsedObjects.db\"))"
   ]
  },
  {
   "cell_type": "code",
   "execution_count": 5,
   "id": "popular-active",
   "metadata": {
    "execution": {
     "iopub.execute_input": "2021-10-16T05:00:09.721650Z",
     "iopub.status.busy": "2021-10-16T05:00:09.709203Z",
     "iopub.status.idle": "2021-10-16T05:00:09.737234Z",
     "shell.execute_reply": "2021-10-16T05:00:09.738456Z"
    },
    "papermill": {
     "duration": 0.068529,
     "end_time": "2021-10-16T05:00:09.738857",
     "exception": false,
     "start_time": "2021-10-16T05:00:09.670328",
     "status": "completed"
    },
    "tags": []
   },
   "outputs": [],
   "source": [
    "df_pivot = df.pivot_table(index=\"PRODUCT\", columns = \"RECORD_TIME\", values = \"LISTING_COUNT\")"
   ]
  },
  {
   "cell_type": "code",
   "execution_count": 6,
   "id": "union-huntington",
   "metadata": {
    "execution": {
     "iopub.execute_input": "2021-10-16T05:00:09.799234Z",
     "iopub.status.busy": "2021-10-16T05:00:09.796810Z",
     "iopub.status.idle": "2021-10-16T05:00:09.802846Z",
     "shell.execute_reply": "2021-10-16T05:00:09.804200Z"
    },
    "papermill": {
     "duration": 0.042556,
     "end_time": "2021-10-16T05:00:09.804641",
     "exception": false,
     "start_time": "2021-10-16T05:00:09.762085",
     "status": "completed"
    },
    "tags": []
   },
   "outputs": [],
   "source": [
    "df_pivot.columns = [\"stamp_1\", \"stamp_2\"]\n",
    "df_pivot_diff = df_pivot.diff(axis=1)"
   ]
  },
  {
   "cell_type": "code",
   "execution_count": 7,
   "id": "fifth-motion",
   "metadata": {
    "execution": {
     "iopub.execute_input": "2021-10-16T05:00:09.860358Z",
     "iopub.status.busy": "2021-10-16T05:00:09.858070Z",
     "iopub.status.idle": "2021-10-16T05:00:11.356529Z",
     "shell.execute_reply": "2021-10-16T05:00:11.358050Z"
    },
    "papermill": {
     "duration": 1.532183,
     "end_time": "2021-10-16T05:00:11.358500",
     "exception": false,
     "start_time": "2021-10-16T05:00:09.826317",
     "status": "completed"
    },
    "tags": []
   },
   "outputs": [
    {
     "data": {
      "text/plain": [
       "<AxesSubplot:ylabel='PRODUCT'>"
      ]
     },
     "execution_count": 7,
     "metadata": {},
     "output_type": "execute_result"
    },
    {
     "data": {
      "image/png": "[encoded data removed]",
      "text/plain": [
       "<Figure size 432x288 with 1 Axes>"
      ]
     },
     "metadata": {
      "needs_background": "light"
     },
     "output_type": "display_data"
    }
   ],
   "source": [
    "df_pivot_diff.sort_values(\"stamp_2\", ascending = False)[\"stamp_2\"].head(10).plot.barh()"
   ]
  },
  {
   "cell_type": "code",
   "execution_count": null,
   "id": "extra-executive",
   "metadata": {
    "papermill": {
     "duration": 0.022437,
     "end_time": "2021-10-16T05:00:11.405794",
     "exception": false,
     "start_time": "2021-10-16T05:00:11.383357",
     "status": "completed"
    },
    "tags": []
   },
   "outputs": [],
   "source": []
  }
 ],
 "metadata": {
  "kernelspec": {
   "display_name": "Python 3",
   "language": "python",
   "name": "python3"
  },
  "language_info": {
   "codemirror_mode": {
    "name": "ipython",
    "version": 3
   },
   "file_extension": ".py",
   "mimetype": "text/x-python",
   "name": "python",
   "nbconvert_exporter": "python",
   "pygments_lexer": "ipython3",
   "version": "3.9.5"
  },
  "papermill": {
   "default_parameters": {},
   "duration": 7.823851,
   "end_time": "2021-10-16T05:00:12.619706",
   "environment_variables": {},
   "exception": null,
   "input_path": "eBay_Overview.ipynb",
   "output_path": "eBay_Overview.ipynb",
   "parameters": {},
   "start_time": "2021-10-16T05:00:04.795855",
   "version": "2.3.3"
  }
 },
 "nbformat": 4,
 "nbformat_minor": 5
}