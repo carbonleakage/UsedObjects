{
 "cells": [
  {
   "cell_type": "code",
   "execution_count": 1,
   "id": "reverse-picking",
   "metadata": {
    "execution": {
     "iopub.execute_input": "2021-09-24T03:00:07.025160Z",
     "iopub.status.busy": "2021-09-24T03:00:07.023249Z",
     "iopub.status.idle": "2021-09-24T03:00:07.829242Z",
     "shell.execute_reply": "2021-09-24T03:00:07.830474Z"
    },
    "papermill": {
     "duration": 0.858905,
     "end_time": "2021-09-24T03:00:07.831146",
     "exception": false,
     "start_time": "2021-09-24T03:00:06.972241",
     "status": "completed"
    },
    "tags": []
   },
   "outputs": [],
   "source": [
    "import pandas as pd\n",
    "import sqlite3"
   ]
  },
  {
   "cell_type": "code",
   "execution_count": 2,
   "id": "innovative-syndrome",
   "metadata": {
    "execution": {
     "iopub.execute_input": "2021-09-24T03:00:07.882746Z",
     "iopub.status.busy": "2021-09-24T03:00:07.880885Z",
     "iopub.status.idle": "2021-09-24T03:00:08.244452Z",
     "shell.execute_reply": "2021-09-24T03:00:08.245719Z"
    },
    "papermill": {
     "duration": 0.392779,
     "end_time": "2021-09-24T03:00:08.246133",
     "exception": false,
     "start_time": "2021-09-24T03:00:07.853354",
     "status": "completed"
    },
    "tags": []
   },
   "outputs": [],
   "source": [
    "timestamps = pd.read_sql(\"select distinct record_time from EBAY_TOP_BERLIN order by record_time desc limit 2\", sqlite3.connect(\"UsedObjects.db\"))"
   ]
  },
  {
   "cell_type": "code",
   "execution_count": 3,
   "id": "periodic-identification",
   "metadata": {
    "execution": {
     "iopub.execute_input": "2021-09-24T03:00:08.311625Z",
     "iopub.status.busy": "2021-09-24T03:00:08.309554Z",
     "iopub.status.idle": "2021-09-24T03:00:08.329562Z",
     "shell.execute_reply": "2021-09-24T03:00:08.330980Z"
    },
    "papermill": {
     "duration": 0.066306,
     "end_time": "2021-09-24T03:00:08.331451",
     "exception": false,
     "start_time": "2021-09-24T03:00:08.265145",
     "status": "completed"
    },
    "tags": []
   },
   "outputs": [
    {
     "data": {
      "text/html": [
       "<div>\n",
       "<style scoped>\n",
       "    .dataframe tbody tr th:only-of-type {\n",
       "        vertical-align: middle;\n",
       "    }\n",
       "\n",
       "    .dataframe tbody tr th {\n",
       "        vertical-align: top;\n",
       "    }\n",
       "\n",
       "    .dataframe thead th {\n",
       "        text-align: right;\n",
       "    }\n",
       "</style>\n",
       "<table border=\"1\" class=\"dataframe\">\n",
       "  <thead>\n",
       "    <tr style=\"text-align: right;\">\n",
       "      <th></th>\n",
       "      <th>RECORD_TIME</th>\n",
       "    </tr>\n",
       "  </thead>\n",
       "  <tbody>\n",
       "    <tr>\n",
       "      <th>0</th>\n",
       "      <td>2021-09-24 05:00</td>\n",
       "    </tr>\n",
       "    <tr>\n",
       "      <th>1</th>\n",
       "      <td>2021-09-24 04:30</td>\n",
       "    </tr>\n",
       "  </tbody>\n",
       "</table>\n",
       "</div>"
      ],
      "text/plain": [
       "        RECORD_TIME\n",
       "0  2021-09-24 05:00\n",
       "1  2021-09-24 04:30"
      ]
     },
     "execution_count": 3,
     "metadata": {},
     "output_type": "execute_result"
    }
   ],
   "source": [
    "timestamps"
   ]
  },
  {
   "cell_type": "code",
   "execution_count": 4,
   "id": "alternate-victory",
   "metadata": {
    "execution": {
     "iopub.execute_input": "2021-09-24T03:00:08.382992Z",
     "iopub.status.busy": "2021-09-24T03:00:08.381014Z",
     "iopub.status.idle": "2021-09-24T03:00:08.930417Z",
     "shell.execute_reply": "2021-09-24T03:00:08.931773Z"
    },
    "papermill": {
     "duration": 0.579583,
     "end_time": "2021-09-24T03:00:08.932195",
     "exception": false,
     "start_time": "2021-09-24T03:00:08.352612",
     "status": "completed"
    },
    "tags": []
   },
   "outputs": [],
   "source": [
    "df = pd.read_sql(\"select * from EBAY_TOP_BERLIN where record_time in (select distinct record_time from EBAY_TOP_BERLIN order by record_time desc limit 2)\", sqlite3.connect(\"UsedObjects.db\"))"
   ]
  },
  {
   "cell_type": "code",
   "execution_count": 5,
   "id": "popular-active",
   "metadata": {
    "execution": {
     "iopub.execute_input": "2021-09-24T03:00:09.002907Z",
     "iopub.status.busy": "2021-09-24T03:00:08.990602Z",
     "iopub.status.idle": "2021-09-24T03:00:09.018541Z",
     "shell.execute_reply": "2021-09-24T03:00:09.019892Z"
    },
    "papermill": {
     "duration": 0.067058,
     "end_time": "2021-09-24T03:00:09.020316",
     "exception": false,
     "start_time": "2021-09-24T03:00:08.953258",
     "status": "completed"
    },
    "tags": []
   },
   "outputs": [],
   "source": [
    "df_pivot = df.pivot_table(index=\"PRODUCT\", columns = \"RECORD_TIME\", values = \"LISTING_COUNT\")"
   ]
  },
  {
   "cell_type": "code",
   "execution_count": 6,
   "id": "union-huntington",
   "metadata": {
    "execution": {
     "iopub.execute_input": "2021-09-24T03:00:09.076137Z",
     "iopub.status.busy": "2021-09-24T03:00:09.074160Z",
     "iopub.status.idle": "2021-09-24T03:00:09.079353Z",
     "shell.execute_reply": "2021-09-24T03:00:09.080500Z"
    },
    "papermill": {
     "duration": 0.039601,
     "end_time": "2021-09-24T03:00:09.080910",
     "exception": false,
     "start_time": "2021-09-24T03:00:09.041309",
     "status": "completed"
    },
    "tags": []
   },
   "outputs": [],
   "source": [
    "df_pivot.columns = [\"stamp_1\", \"stamp_2\"]\n",
    "df_pivot_diff = df_pivot.diff(axis=1)"
   ]
  },
  {
   "cell_type": "code",
   "execution_count": 7,
   "id": "fifth-motion",
   "metadata": {
    "execution": {
     "iopub.execute_input": "2021-09-24T03:00:09.138075Z",
     "iopub.status.busy": "2021-09-24T03:00:09.135455Z",
     "iopub.status.idle": "2021-09-24T03:00:10.616395Z",
     "shell.execute_reply": "2021-09-24T03:00:10.617768Z"
    },
    "papermill": {
     "duration": 1.514696,
     "end_time": "2021-09-24T03:00:10.618206",
     "exception": false,
     "start_time": "2021-09-24T03:00:09.103510",
     "status": "completed"
    },
    "tags": []
   },
   "outputs": [
    {
     "data": {
      "text/plain": [
       "<AxesSubplot:ylabel='PRODUCT'>"
      ]
     },
     "execution_count": 7,
     "metadata": {},
     "output_type": "execute_result"
    },
    {
     "data": {
      "image/png": "[encoded data removed]",
      "text/plain": [
       "<Figure size 432x288 with 1 Axes>"
      ]
     },
     "metadata": {
      "needs_background": "light"
     },
     "output_type": "display_data"
    }
   ],
   "source": [
    "df_pivot_diff.sort_values(\"stamp_2\", ascending = False)[\"stamp_2\"].head(10).plot.barh()"
   ]
  },
  {
   "cell_type": "code",
   "execution_count": null,
   "id": "extra-executive",
   "metadata": {
    "papermill": {
     "duration": 0.021979,
     "end_time": "2021-09-24T03:00:10.664276",
     "exception": false,
     "start_time": "2021-09-24T03:00:10.642297",
     "status": "completed"
    },
    "tags": []
   },
   "outputs": [],
   "source": []
  }
 ],
 "metadata": {
  "kernelspec": {
   "display_name": "Python 3",
   "language": "python",
   "name": "python3"
  },
  "language_info": {
   "codemirror_mode": {
    "name": "ipython",
    "version": 3
   },
   "file_extension": ".py",
   "mimetype": "text/x-python",
   "name": "python",
   "nbconvert_exporter": "python",
   "pygments_lexer": "ipython3",
   "version": "3.9.5"
  },
  "papermill": {
   "default_parameters": {},
   "duration": 6.734811,
   "end_time": "2021-09-24T03:00:11.307808",
   "environment_variables": {},
   "exception": null,
   "input_path": "eBay_Overview.ipynb",
   "output_path": "eBay_Overview.ipynb",
   "parameters": {},
   "start_time": "2021-09-24T03:00:04.572997",
   "version": "2.3.3"
  }
 },
 "nbformat": 4,
 "nbformat_minor": 5
}