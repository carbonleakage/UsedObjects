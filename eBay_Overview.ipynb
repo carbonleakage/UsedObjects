{
 "cells": [
  {
   "cell_type": "code",
   "execution_count": 1,
   "id": "reverse-picking",
   "metadata": {
    "execution": {
     "iopub.execute_input": "2021-10-15T22:30:07.415447Z",
     "iopub.status.busy": "2021-10-15T22:30:07.412307Z",
     "iopub.status.idle": "2021-10-15T22:30:08.219856Z",
     "shell.execute_reply": "2021-10-15T22:30:08.221195Z"
    },
    "papermill": {
     "duration": 0.860024,
     "end_time": "2021-10-15T22:30:08.221833",
     "exception": false,
     "start_time": "2021-10-15T22:30:07.361809",
     "status": "completed"
    },
    "tags": []
   },
   "outputs": [],
   "source": [
    "import pandas as pd\n",
    "import sqlite3"
   ]
  },
  {
   "cell_type": "code",
   "execution_count": 2,
   "id": "innovative-syndrome",
   "metadata": {
    "execution": {
     "iopub.execute_input": "2021-10-15T22:30:08.272629Z",
     "iopub.status.busy": "2021-10-15T22:30:08.270763Z",
     "iopub.status.idle": "2021-10-15T22:30:08.809525Z",
     "shell.execute_reply": "2021-10-15T22:30:08.810736Z"
    },
    "papermill": {
     "duration": 0.568381,
     "end_time": "2021-10-15T22:30:08.811132",
     "exception": false,
     "start_time": "2021-10-15T22:30:08.242751",
     "status": "completed"
    },
    "tags": []
   },
   "outputs": [],
   "source": [
    "timestamps = pd.read_sql(\"select distinct record_time from EBAY_TOP_BERLIN order by record_time desc limit 2\", sqlite3.connect(\"UsedObjects.db\"))"
   ]
  },
  {
   "cell_type": "code",
   "execution_count": 3,
   "id": "periodic-identification",
   "metadata": {
    "execution": {
     "iopub.execute_input": "2021-10-15T22:30:08.892565Z",
     "iopub.status.busy": "2021-10-15T22:30:08.890544Z",
     "iopub.status.idle": "2021-10-15T22:30:08.910542Z",
     "shell.execute_reply": "2021-10-15T22:30:08.911829Z"
    },
    "papermill": {
     "duration": 0.070181,
     "end_time": "2021-10-15T22:30:08.912242",
     "exception": false,
     "start_time": "2021-10-15T22:30:08.842061",
     "status": "completed"
    },
    "tags": []
   },
   "outputs": [
    {
     "data": {
      "text/html": [
       "<div>\n",
       "<style scoped>\n",
       "    .dataframe tbody tr th:only-of-type {\n",
       "        vertical-align: middle;\n",
       "    }\n",
       "\n",
       "    .dataframe tbody tr th {\n",
       "        vertical-align: top;\n",
       "    }\n",
       "\n",
       "    .dataframe thead th {\n",
       "        text-align: right;\n",
       "    }\n",
       "</style>\n",
       "<table border=\"1\" class=\"dataframe\">\n",
       "  <thead>\n",
       "    <tr style=\"text-align: right;\">\n",
       "      <th></th>\n",
       "      <th>RECORD_TIME</th>\n",
       "    </tr>\n",
       "  </thead>\n",
       "  <tbody>\n",
       "    <tr>\n",
       "      <th>0</th>\n",
       "      <td>2021-10-16 00:30</td>\n",
       "    </tr>\n",
       "    <tr>\n",
       "      <th>1</th>\n",
       "      <td>2021-10-16 00:00</td>\n",
       "    </tr>\n",
       "  </tbody>\n",
       "</table>\n",
       "</div>"
      ],
      "text/plain": [
       "        RECORD_TIME\n",
       "0  2021-10-16 00:30\n",
       "1  2021-10-16 00:00"
      ]
     },
     "execution_count": 3,
     "metadata": {},
     "output_type": "execute_result"
    }
   ],
   "source": [
    "timestamps"
   ]
  },
  {
   "cell_type": "code",
   "execution_count": 4,
   "id": "alternate-victory",
   "metadata": {
    "execution": {
     "iopub.execute_input": "2021-10-15T22:30:08.963727Z",
     "iopub.status.busy": "2021-10-15T22:30:08.961878Z",
     "iopub.status.idle": "2021-10-15T22:30:09.753240Z",
     "shell.execute_reply": "2021-10-15T22:30:09.754580Z"
    },
    "papermill": {
     "duration": 0.821384,
     "end_time": "2021-10-15T22:30:09.754977",
     "exception": false,
     "start_time": "2021-10-15T22:30:08.933593",
     "status": "completed"
    },
    "tags": []
   },
   "outputs": [],
   "source": [
    "df = pd.read_sql(\"select * from EBAY_TOP_BERLIN where record_time in (select distinct record_time from EBAY_TOP_BERLIN order by record_time desc limit 2)\", sqlite3.connect(\"UsedObjects.db\"))"
   ]
  },
  {
   "cell_type": "code",
   "execution_count": 5,
   "id": "popular-active",
   "metadata": {
    "execution": {
     "iopub.execute_input": "2021-10-15T22:30:09.826221Z",
     "iopub.status.busy": "2021-10-15T22:30:09.814239Z",
     "iopub.status.idle": "2021-10-15T22:30:09.841659Z",
     "shell.execute_reply": "2021-10-15T22:30:09.842883Z"
    },
    "papermill": {
     "duration": 0.067496,
     "end_time": "2021-10-15T22:30:09.843276",
     "exception": false,
     "start_time": "2021-10-15T22:30:09.775780",
     "status": "completed"
    },
    "tags": []
   },
   "outputs": [],
   "source": [
    "df_pivot = df.pivot_table(index=\"PRODUCT\", columns = \"RECORD_TIME\", values = \"LISTING_COUNT\")"
   ]
  },
  {
   "cell_type": "code",
   "execution_count": 6,
   "id": "union-huntington",
   "metadata": {
    "execution": {
     "iopub.execute_input": "2021-10-15T22:30:09.899418Z",
     "iopub.status.busy": "2021-10-15T22:30:09.897356Z",
     "iopub.status.idle": "2021-10-15T22:30:09.902458Z",
     "shell.execute_reply": "2021-10-15T22:30:09.903739Z"
    },
    "papermill": {
     "duration": 0.04015,
     "end_time": "2021-10-15T22:30:09.904151",
     "exception": false,
     "start_time": "2021-10-15T22:30:09.864001",
     "status": "completed"
    },
    "tags": []
   },
   "outputs": [],
   "source": [
    "df_pivot.columns = [\"stamp_1\", \"stamp_2\"]\n",
    "df_pivot_diff = df_pivot.diff(axis=1)"
   ]
  },
  {
   "cell_type": "code",
   "execution_count": 7,
   "id": "fifth-motion",
   "metadata": {
    "execution": {
     "iopub.execute_input": "2021-10-15T22:30:09.960753Z",
     "iopub.status.busy": "2021-10-15T22:30:09.958072Z",
     "iopub.status.idle": "2021-10-15T22:30:11.429864Z",
     "shell.execute_reply": "2021-10-15T22:30:11.431281Z"
    },
    "papermill": {
     "duration": 1.505507,
     "end_time": "2021-10-15T22:30:11.431725",
     "exception": false,
     "start_time": "2021-10-15T22:30:09.926218",
     "status": "completed"
    },
    "tags": []
   },
   "outputs": [
    {
     "data": {
      "text/plain": [
       "<AxesSubplot:ylabel='PRODUCT'>"
      ]
     },
     "execution_count": 7,
     "metadata": {},
     "output_type": "execute_result"
    },
    {
     "data": {
      "image/png": "[encoded data removed]",
      "text/plain": [
       "<Figure size 432x288 with 1 Axes>"
      ]
     },
     "metadata": {
      "needs_background": "light"
     },
     "output_type": "display_data"
    }
   ],
   "source": [
    "df_pivot_diff.sort_values(\"stamp_2\", ascending = False)[\"stamp_2\"].head(10).plot.barh()"
   ]
  },
  {
   "cell_type": "code",
   "execution_count": null,
   "id": "extra-executive",
   "metadata": {
    "papermill": {
     "duration": 0.022053,
     "end_time": "2021-10-15T22:30:11.478014",
     "exception": false,
     "start_time": "2021-10-15T22:30:11.455961",
     "status": "completed"
    },
    "tags": []
   },
   "outputs": [],
   "source": []
  }
 ],
 "metadata": {
  "kernelspec": {
   "display_name": "Python 3",
   "language": "python",
   "name": "python3"
  },
  "language_info": {
   "codemirror_mode": {
    "name": "ipython",
    "version": 3
   },
   "file_extension": ".py",
   "mimetype": "text/x-python",
   "name": "python",
   "nbconvert_exporter": "python",
   "pygments_lexer": "ipython3",
   "version": "3.9.5"
  },
  "papermill": {
   "default_parameters": {},
   "duration": 7.829694,
   "end_time": "2021-10-15T22:30:12.779091",
   "environment_variables": {},
   "exception": null,
   "input_path": "eBay_Overview.ipynb",
   "output_path": "eBay_Overview.ipynb",
   "parameters": {},
   "start_time": "2021-10-15T22:30:04.949397",
   "version": "2.3.3"
  }
 },
 "nbformat": 4,
 "nbformat_minor": 5
}