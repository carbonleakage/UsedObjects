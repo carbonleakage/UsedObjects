{
 "cells": [
  {
   "cell_type": "code",
   "execution_count": 1,
   "id": "reverse-picking",
   "metadata": {
    "execution": {
     "iopub.execute_input": "2021-10-20T07:00:07.174224Z",
     "iopub.status.busy": "2021-10-20T07:00:07.172208Z",
     "iopub.status.idle": "2021-10-20T07:00:07.981350Z",
     "shell.execute_reply": "2021-10-20T07:00:07.982647Z"
    },
    "papermill": {
     "duration": 0.861582,
     "end_time": "2021-10-20T07:00:07.983265",
     "exception": false,
     "start_time": "2021-10-20T07:00:07.121683",
     "status": "completed"
    },
    "tags": []
   },
   "outputs": [],
   "source": [
    "import pandas as pd\n",
    "import sqlite3"
   ]
  },
  {
   "cell_type": "code",
   "execution_count": 2,
   "id": "innovative-syndrome",
   "metadata": {
    "execution": {
     "iopub.execute_input": "2021-10-20T07:00:08.035011Z",
     "iopub.status.busy": "2021-10-20T07:00:08.032810Z",
     "iopub.status.idle": "2021-10-20T07:00:08.630421Z",
     "shell.execute_reply": "2021-10-20T07:00:08.631620Z"
    },
    "papermill": {
     "duration": 0.627118,
     "end_time": "2021-10-20T07:00:08.632021",
     "exception": false,
     "start_time": "2021-10-20T07:00:08.004903",
     "status": "completed"
    },
    "tags": []
   },
   "outputs": [],
   "source": [
    "timestamps = pd.read_sql(\"select distinct record_time from EBAY_TOP_BERLIN order by record_time desc limit 2\", sqlite3.connect(\"UsedObjects.db\"))"
   ]
  },
  {
   "cell_type": "code",
   "execution_count": 3,
   "id": "periodic-identification",
   "metadata": {
    "execution": {
     "iopub.execute_input": "2021-10-20T07:00:08.711810Z",
     "iopub.status.busy": "2021-10-20T07:00:08.709805Z",
     "iopub.status.idle": "2021-10-20T07:00:08.729611Z",
     "shell.execute_reply": "2021-10-20T07:00:08.730901Z"
    },
    "papermill": {
     "duration": 0.069319,
     "end_time": "2021-10-20T07:00:08.731356",
     "exception": false,
     "start_time": "2021-10-20T07:00:08.662037",
     "status": "completed"
    },
    "tags": []
   },
   "outputs": [
    {
     "data": {
      "text/html": [
       "<div>\n",
       "<style scoped>\n",
       "    .dataframe tbody tr th:only-of-type {\n",
       "        vertical-align: middle;\n",
       "    }\n",
       "\n",
       "    .dataframe tbody tr th {\n",
       "        vertical-align: top;\n",
       "    }\n",
       "\n",
       "    .dataframe thead th {\n",
       "        text-align: right;\n",
       "    }\n",
       "</style>\n",
       "<table border=\"1\" class=\"dataframe\">\n",
       "  <thead>\n",
       "    <tr style=\"text-align: right;\">\n",
       "      <th></th>\n",
       "      <th>RECORD_TIME</th>\n",
       "    </tr>\n",
       "  </thead>\n",
       "  <tbody>\n",
       "    <tr>\n",
       "      <th>0</th>\n",
       "      <td>2021-10-20 09:00</td>\n",
       "    </tr>\n",
       "    <tr>\n",
       "      <th>1</th>\n",
       "      <td>2021-10-20 08:30</td>\n",
       "    </tr>\n",
       "  </tbody>\n",
       "</table>\n",
       "</div>"
      ],
      "text/plain": [
       "        RECORD_TIME\n",
       "0  2021-10-20 09:00\n",
       "1  2021-10-20 08:30"
      ]
     },
     "execution_count": 3,
     "metadata": {},
     "output_type": "execute_result"
    }
   ],
   "source": [
    "timestamps"
   ]
  },
  {
   "cell_type": "code",
   "execution_count": 4,
   "id": "alternate-victory",
   "metadata": {
    "execution": {
     "iopub.execute_input": "2021-10-20T07:00:08.783406Z",
     "iopub.status.busy": "2021-10-20T07:00:08.781372Z",
     "iopub.status.idle": "2021-10-20T07:00:09.654065Z",
     "shell.execute_reply": "2021-10-20T07:00:09.655448Z"
    },
    "papermill": {
     "duration": 0.903668,
     "end_time": "2021-10-20T07:00:09.655891",
     "exception": false,
     "start_time": "2021-10-20T07:00:08.752223",
     "status": "completed"
    },
    "tags": []
   },
   "outputs": [],
   "source": [
    "df = pd.read_sql(\"select * from EBAY_TOP_BERLIN where record_time in (select distinct record_time from EBAY_TOP_BERLIN order by record_time desc limit 2)\", sqlite3.connect(\"UsedObjects.db\"))"
   ]
  },
  {
   "cell_type": "code",
   "execution_count": 5,
   "id": "popular-active",
   "metadata": {
    "execution": {
     "iopub.execute_input": "2021-10-20T07:00:09.727774Z",
     "iopub.status.busy": "2021-10-20T07:00:09.715870Z",
     "iopub.status.idle": "2021-10-20T07:00:09.743630Z",
     "shell.execute_reply": "2021-10-20T07:00:09.745026Z"
    },
    "papermill": {
     "duration": 0.068522,
     "end_time": "2021-10-20T07:00:09.745512",
     "exception": false,
     "start_time": "2021-10-20T07:00:09.676990",
     "status": "completed"
    },
    "tags": []
   },
   "outputs": [],
   "source": [
    "df_pivot = df.pivot_table(index=\"PRODUCT\", columns = \"RECORD_TIME\", values = \"LISTING_COUNT\")"
   ]
  },
  {
   "cell_type": "code",
   "execution_count": 6,
   "id": "union-huntington",
   "metadata": {
    "execution": {
     "iopub.execute_input": "2021-10-20T07:00:09.804332Z",
     "iopub.status.busy": "2021-10-20T07:00:09.801883Z",
     "iopub.status.idle": "2021-10-20T07:00:09.807600Z",
     "shell.execute_reply": "2021-10-20T07:00:09.809000Z"
    },
    "papermill": {
     "duration": 0.042339,
     "end_time": "2021-10-20T07:00:09.809467",
     "exception": false,
     "start_time": "2021-10-20T07:00:09.767128",
     "status": "completed"
    },
    "tags": []
   },
   "outputs": [],
   "source": [
    "df_pivot.columns = [\"stamp_1\", \"stamp_2\"]\n",
    "df_pivot_diff = df_pivot.diff(axis=1)"
   ]
  },
  {
   "cell_type": "code",
   "execution_count": 7,
   "id": "fifth-motion",
   "metadata": {
    "execution": {
     "iopub.execute_input": "2021-10-20T07:00:09.864171Z",
     "iopub.status.busy": "2021-10-20T07:00:09.861898Z",
     "iopub.status.idle": "2021-10-20T07:00:11.366977Z",
     "shell.execute_reply": "2021-10-20T07:00:11.368418Z"
    },
    "papermill": {
     "duration": 1.538695,
     "end_time": "2021-10-20T07:00:11.369019",
     "exception": false,
     "start_time": "2021-10-20T07:00:09.830324",
     "status": "completed"
    },
    "tags": []
   },
   "outputs": [
    {
     "data": {
      "text/plain": [
       "<AxesSubplot:ylabel='PRODUCT'>"
      ]
     },
     "execution_count": 7,
     "metadata": {},
     "output_type": "execute_result"
    },
    {
     "data": {
      "image/png": "[encoded data removed]",
      "text/plain": [
       "<Figure size 432x288 with 1 Axes>"
      ]
     },
     "metadata": {
      "needs_background": "light"
     },
     "output_type": "display_data"
    }
   ],
   "source": [
    "df_pivot_diff.sort_values(\"stamp_2\", ascending = False)[\"stamp_2\"].head(10).plot.barh()"
   ]
  },
  {
   "cell_type": "code",
   "execution_count": null,
   "id": "extra-executive",
   "metadata": {
    "papermill": {
     "duration": 0.022523,
     "end_time": "2021-10-20T07:00:11.417065",
     "exception": false,
     "start_time": "2021-10-20T07:00:11.394542",
     "status": "completed"
    },
    "tags": []
   },
   "outputs": [],
   "source": []
  }
 ],
 "metadata": {
  "kernelspec": {
   "display_name": "Python 3",
   "language": "python",
   "name": "python3"
  },
  "language_info": {
   "codemirror_mode": {
    "name": "ipython",
    "version": 3
   },
   "file_extension": ".py",
   "mimetype": "text/x-python",
   "name": "python",
   "nbconvert_exporter": "python",
   "pygments_lexer": "ipython3",
   "version": "3.9.5"
  },
  "papermill": {
   "default_parameters": {},
   "duration": 7.338511,
   "end_time": "2021-10-20T07:00:12.060521",
   "environment_variables": {},
   "exception": null,
   "input_path": "eBay_Overview.ipynb",
   "output_path": "eBay_Overview.ipynb",
   "parameters": {},
   "start_time": "2021-10-20T07:00:04.722010",
   "version": "2.3.3"
  }
 },
 "nbformat": 4,
 "nbformat_minor": 5
}