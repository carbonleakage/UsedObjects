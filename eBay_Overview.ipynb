{
 "cells": [
  {
   "cell_type": "code",
   "execution_count": 1,
   "id": "reverse-picking",
   "metadata": {
    "execution": {
     "iopub.execute_input": "2021-11-16T06:00:07.856157Z",
     "iopub.status.busy": "2021-11-16T06:00:07.853837Z",
     "iopub.status.idle": "2021-11-16T06:00:08.826881Z",
     "shell.execute_reply": "2021-11-16T06:00:08.828413Z"
    },
    "papermill": {
     "duration": 1.022878,
     "end_time": "2021-11-16T06:00:08.829175",
     "exception": false,
     "start_time": "2021-11-16T06:00:07.806297",
     "status": "completed"
    },
    "tags": []
   },
   "outputs": [],
   "source": [
    "import pandas as pd\n",
    "import sqlite3"
   ]
  },
  {
   "cell_type": "code",
   "execution_count": 2,
   "id": "innovative-syndrome",
   "metadata": {
    "execution": {
     "iopub.execute_input": "2021-11-16T06:00:08.899849Z",
     "iopub.status.busy": "2021-11-16T06:00:08.897664Z",
     "iopub.status.idle": "2021-11-16T06:00:09.710684Z",
     "shell.execute_reply": "2021-11-16T06:00:09.711870Z"
    },
    "papermill": {
     "duration": 0.849351,
     "end_time": "2021-11-16T06:00:09.712270",
     "exception": false,
     "start_time": "2021-11-16T06:00:08.862919",
     "status": "completed"
    },
    "tags": []
   },
   "outputs": [],
   "source": [
    "timestamps = pd.read_sql(\"select distinct record_time from EBAY_TOP_BERLIN order by record_time desc limit 2\", sqlite3.connect(\"UsedObjects.db\"))"
   ]
  },
  {
   "cell_type": "code",
   "execution_count": 3,
   "id": "periodic-identification",
   "metadata": {
    "execution": {
     "iopub.execute_input": "2021-11-16T06:00:09.775887Z",
     "iopub.status.busy": "2021-11-16T06:00:09.773886Z",
     "iopub.status.idle": "2021-11-16T06:00:09.793941Z",
     "shell.execute_reply": "2021-11-16T06:00:09.795208Z"
    },
    "papermill": {
     "duration": 0.0636,
     "end_time": "2021-11-16T06:00:09.795624",
     "exception": false,
     "start_time": "2021-11-16T06:00:09.732024",
     "status": "completed"
    },
    "tags": []
   },
   "outputs": [
    {
     "data": {
      "text/html": [
       "<div>\n",
       "<style scoped>\n",
       "    .dataframe tbody tr th:only-of-type {\n",
       "        vertical-align: middle;\n",
       "    }\n",
       "\n",
       "    .dataframe tbody tr th {\n",
       "        vertical-align: top;\n",
       "    }\n",
       "\n",
       "    .dataframe thead th {\n",
       "        text-align: right;\n",
       "    }\n",
       "</style>\n",
       "<table border=\"1\" class=\"dataframe\">\n",
       "  <thead>\n",
       "    <tr style=\"text-align: right;\">\n",
       "      <th></th>\n",
       "      <th>RECORD_TIME</th>\n",
       "    </tr>\n",
       "  </thead>\n",
       "  <tbody>\n",
       "    <tr>\n",
       "      <th>0</th>\n",
       "      <td>2021-11-16 07:00</td>\n",
       "    </tr>\n",
       "    <tr>\n",
       "      <th>1</th>\n",
       "      <td>2021-11-16 06:30</td>\n",
       "    </tr>\n",
       "  </tbody>\n",
       "</table>\n",
       "</div>"
      ],
      "text/plain": [
       "        RECORD_TIME\n",
       "0  2021-11-16 07:00\n",
       "1  2021-11-16 06:30"
      ]
     },
     "execution_count": 3,
     "metadata": {},
     "output_type": "execute_result"
    }
   ],
   "source": [
    "timestamps"
   ]
  },
  {
   "cell_type": "code",
   "execution_count": 4,
   "id": "alternate-victory",
   "metadata": {
    "execution": {
     "iopub.execute_input": "2021-11-16T06:00:09.847936Z",
     "iopub.status.busy": "2021-11-16T06:00:09.845673Z",
     "iopub.status.idle": "2021-11-16T06:00:11.041739Z",
     "shell.execute_reply": "2021-11-16T06:00:11.044024Z"
    },
    "papermill": {
     "duration": 1.227545,
     "end_time": "2021-11-16T06:00:11.044516",
     "exception": false,
     "start_time": "2021-11-16T06:00:09.816971",
     "status": "completed"
    },
    "tags": []
   },
   "outputs": [],
   "source": [
    "df = pd.read_sql(\"select * from EBAY_TOP_BERLIN where record_time in (select distinct record_time from EBAY_TOP_BERLIN order by record_time desc limit 2)\", sqlite3.connect(\"UsedObjects.db\"))"
   ]
  },
  {
   "cell_type": "code",
   "execution_count": 5,
   "id": "popular-active",
   "metadata": {
    "execution": {
     "iopub.execute_input": "2021-11-16T06:00:11.120647Z",
     "iopub.status.busy": "2021-11-16T06:00:11.107949Z",
     "iopub.status.idle": "2021-11-16T06:00:11.138717Z",
     "shell.execute_reply": "2021-11-16T06:00:11.140042Z"
    },
    "papermill": {
     "duration": 0.07386,
     "end_time": "2021-11-16T06:00:11.140510",
     "exception": false,
     "start_time": "2021-11-16T06:00:11.066650",
     "status": "completed"
    },
    "tags": []
   },
   "outputs": [],
   "source": [
    "df_pivot = df.pivot_table(index=\"PRODUCT\", columns = \"RECORD_TIME\", values = \"LISTING_COUNT\")"
   ]
  },
  {
   "cell_type": "code",
   "execution_count": 6,
   "id": "union-huntington",
   "metadata": {
    "execution": {
     "iopub.execute_input": "2021-11-16T06:00:11.202837Z",
     "iopub.status.busy": "2021-11-16T06:00:11.199801Z",
     "iopub.status.idle": "2021-11-16T06:00:11.206061Z",
     "shell.execute_reply": "2021-11-16T06:00:11.207967Z"
    },
    "papermill": {
     "duration": 0.047855,
     "end_time": "2021-11-16T06:00:11.208450",
     "exception": false,
     "start_time": "2021-11-16T06:00:11.160595",
     "status": "completed"
    },
    "tags": []
   },
   "outputs": [],
   "source": [
    "df_pivot.columns = [\"stamp_1\", \"stamp_2\"]\n",
    "df_pivot_diff = df_pivot.diff(axis=1)"
   ]
  },
  {
   "cell_type": "code",
   "execution_count": 7,
   "id": "fifth-motion",
   "metadata": {
    "execution": {
     "iopub.execute_input": "2021-11-16T06:00:11.268560Z",
     "iopub.status.busy": "2021-11-16T06:00:11.265481Z",
     "iopub.status.idle": "2021-11-16T06:00:13.268518Z",
     "shell.execute_reply": "2021-11-16T06:00:13.271460Z"
    },
    "papermill": {
     "duration": 2.042167,
     "end_time": "2021-11-16T06:00:13.272385",
     "exception": false,
     "start_time": "2021-11-16T06:00:11.230218",
     "status": "completed"
    },
    "tags": []
   },
   "outputs": [
    {
     "data": {
      "text/plain": [
       "<AxesSubplot:ylabel='PRODUCT'>"
      ]
     },
     "execution_count": 7,
     "metadata": {},
     "output_type": "execute_result"
    },
    {
     "data": {
      "image/png": "[encoded data removed]",
      "text/plain": [
       "<Figure size 432x288 with 1 Axes>"
      ]
     },
     "metadata": {
      "needs_background": "light"
     },
     "output_type": "display_data"
    }
   ],
   "source": [
    "df_pivot_diff.sort_values(\"stamp_2\", ascending = False)[\"stamp_2\"].head(10).plot.barh()"
   ]
  },
  {
   "cell_type": "code",
   "execution_count": null,
   "id": "extra-executive",
   "metadata": {
    "papermill": {
     "duration": 0.035981,
     "end_time": "2021-11-16T06:00:13.344304",
     "exception": false,
     "start_time": "2021-11-16T06:00:13.308323",
     "status": "completed"
    },
    "tags": []
   },
   "outputs": [],
   "source": []
  }
 ],
 "metadata": {
  "kernelspec": {
   "display_name": "Python 3",
   "language": "python",
   "name": "python3"
  },
  "language_info": {
   "codemirror_mode": {
    "name": "ipython",
    "version": 3
   },
   "file_extension": ".py",
   "mimetype": "text/x-python",
   "name": "python",
   "nbconvert_exporter": "python",
   "pygments_lexer": "ipython3",
   "version": "3.9.5"
  },
  "papermill": {
   "default_parameters": {},
   "duration": 8.926879,
   "end_time": "2021-11-16T06:00:14.000060",
   "environment_variables": {},
   "exception": null,
   "input_path": "eBay_Overview.ipynb",
   "output_path": "eBay_Overview.ipynb",
   "parameters": {},
   "start_time": "2021-11-16T06:00:05.073181",
   "version": "2.3.3"
  }
 },
 "nbformat": 4,
 "nbformat_minor": 5
}