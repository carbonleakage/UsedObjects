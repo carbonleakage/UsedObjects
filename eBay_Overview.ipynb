{
 "cells": [
  {
   "cell_type": "code",
   "execution_count": 1,
   "id": "reverse-picking",
   "metadata": {
    "execution": {
     "iopub.execute_input": "2021-11-08T23:30:07.435008Z",
     "iopub.status.busy": "2021-11-08T23:30:07.432602Z",
     "iopub.status.idle": "2021-11-08T23:30:08.377759Z",
     "shell.execute_reply": "2021-11-08T23:30:08.380092Z"
    },
    "papermill": {
     "duration": 0.995465,
     "end_time": "2021-11-08T23:30:08.380868",
     "exception": false,
     "start_time": "2021-11-08T23:30:07.385403",
     "status": "completed"
    },
    "tags": []
   },
   "outputs": [],
   "source": [
    "import pandas as pd\n",
    "import sqlite3"
   ]
  },
  {
   "cell_type": "code",
   "execution_count": 2,
   "id": "innovative-syndrome",
   "metadata": {
    "execution": {
     "iopub.execute_input": "2021-11-08T23:30:08.451050Z",
     "iopub.status.busy": "2021-11-08T23:30:08.448668Z",
     "iopub.status.idle": "2021-11-08T23:30:09.218778Z",
     "shell.execute_reply": "2021-11-08T23:30:09.220379Z"
    },
    "papermill": {
     "duration": 0.804187,
     "end_time": "2021-11-08T23:30:09.221025",
     "exception": false,
     "start_time": "2021-11-08T23:30:08.416838",
     "status": "completed"
    },
    "tags": []
   },
   "outputs": [],
   "source": [
    "timestamps = pd.read_sql(\"select distinct record_time from EBAY_TOP_BERLIN order by record_time desc limit 2\", sqlite3.connect(\"UsedObjects.db\"))"
   ]
  },
  {
   "cell_type": "code",
   "execution_count": 3,
   "id": "periodic-identification",
   "metadata": {
    "execution": {
     "iopub.execute_input": "2021-11-08T23:30:09.292649Z",
     "iopub.status.busy": "2021-11-08T23:30:09.290208Z",
     "iopub.status.idle": "2021-11-08T23:30:09.313610Z",
     "shell.execute_reply": "2021-11-08T23:30:09.315168Z"
    },
    "papermill": {
     "duration": 0.074272,
     "end_time": "2021-11-08T23:30:09.315658",
     "exception": false,
     "start_time": "2021-11-08T23:30:09.241386",
     "status": "completed"
    },
    "tags": []
   },
   "outputs": [
    {
     "data": {
      "text/html": [
       "<div>\n",
       "<style scoped>\n",
       "    .dataframe tbody tr th:only-of-type {\n",
       "        vertical-align: middle;\n",
       "    }\n",
       "\n",
       "    .dataframe tbody tr th {\n",
       "        vertical-align: top;\n",
       "    }\n",
       "\n",
       "    .dataframe thead th {\n",
       "        text-align: right;\n",
       "    }\n",
       "</style>\n",
       "<table border=\"1\" class=\"dataframe\">\n",
       "  <thead>\n",
       "    <tr style=\"text-align: right;\">\n",
       "      <th></th>\n",
       "      <th>RECORD_TIME</th>\n",
       "    </tr>\n",
       "  </thead>\n",
       "  <tbody>\n",
       "    <tr>\n",
       "      <th>0</th>\n",
       "      <td>2021-11-09 00:30</td>\n",
       "    </tr>\n",
       "    <tr>\n",
       "      <th>1</th>\n",
       "      <td>2021-11-09 00:00</td>\n",
       "    </tr>\n",
       "  </tbody>\n",
       "</table>\n",
       "</div>"
      ],
      "text/plain": [
       "        RECORD_TIME\n",
       "0  2021-11-09 00:30\n",
       "1  2021-11-09 00:00"
      ]
     },
     "execution_count": 3,
     "metadata": {},
     "output_type": "execute_result"
    }
   ],
   "source": [
    "timestamps"
   ]
  },
  {
   "cell_type": "code",
   "execution_count": 4,
   "id": "alternate-victory",
   "metadata": {
    "execution": {
     "iopub.execute_input": "2021-11-08T23:30:09.370982Z",
     "iopub.status.busy": "2021-11-08T23:30:09.368860Z",
     "iopub.status.idle": "2021-11-08T23:30:10.477080Z",
     "shell.execute_reply": "2021-11-08T23:30:10.478709Z"
    },
    "papermill": {
     "duration": 1.142078,
     "end_time": "2021-11-08T23:30:10.479190",
     "exception": false,
     "start_time": "2021-11-08T23:30:09.337112",
     "status": "completed"
    },
    "tags": []
   },
   "outputs": [],
   "source": [
    "df = pd.read_sql(\"select * from EBAY_TOP_BERLIN where record_time in (select distinct record_time from EBAY_TOP_BERLIN order by record_time desc limit 2)\", sqlite3.connect(\"UsedObjects.db\"))"
   ]
  },
  {
   "cell_type": "code",
   "execution_count": 5,
   "id": "popular-active",
   "metadata": {
    "execution": {
     "iopub.execute_input": "2021-11-08T23:30:10.550730Z",
     "iopub.status.busy": "2021-11-08T23:30:10.542119Z",
     "iopub.status.idle": "2021-11-08T23:30:10.578842Z",
     "shell.execute_reply": "2021-11-08T23:30:10.580349Z"
    },
    "papermill": {
     "duration": 0.079691,
     "end_time": "2021-11-08T23:30:10.580942",
     "exception": false,
     "start_time": "2021-11-08T23:30:10.501251",
     "status": "completed"
    },
    "tags": []
   },
   "outputs": [],
   "source": [
    "df_pivot = df.pivot_table(index=\"PRODUCT\", columns = \"RECORD_TIME\", values = \"LISTING_COUNT\")"
   ]
  },
  {
   "cell_type": "code",
   "execution_count": 6,
   "id": "union-huntington",
   "metadata": {
    "execution": {
     "iopub.execute_input": "2021-11-08T23:30:10.643520Z",
     "iopub.status.busy": "2021-11-08T23:30:10.641121Z",
     "iopub.status.idle": "2021-11-08T23:30:10.648181Z",
     "shell.execute_reply": "2021-11-08T23:30:10.646488Z"
    },
    "papermill": {
     "duration": 0.045865,
     "end_time": "2021-11-08T23:30:10.648605",
     "exception": false,
     "start_time": "2021-11-08T23:30:10.602740",
     "status": "completed"
    },
    "tags": []
   },
   "outputs": [],
   "source": [
    "df_pivot.columns = [\"stamp_1\", \"stamp_2\"]\n",
    "df_pivot_diff = df_pivot.diff(axis=1)"
   ]
  },
  {
   "cell_type": "code",
   "execution_count": 7,
   "id": "fifth-motion",
   "metadata": {
    "execution": {
     "iopub.execute_input": "2021-11-08T23:30:10.709143Z",
     "iopub.status.busy": "2021-11-08T23:30:10.706597Z",
     "iopub.status.idle": "2021-11-08T23:30:12.479798Z",
     "shell.execute_reply": "2021-11-08T23:30:12.481190Z"
    },
    "papermill": {
     "duration": 1.811664,
     "end_time": "2021-11-08T23:30:12.481675",
     "exception": false,
     "start_time": "2021-11-08T23:30:10.670011",
     "status": "completed"
    },
    "tags": []
   },
   "outputs": [
    {
     "data": {
      "text/plain": [
       "<AxesSubplot:ylabel='PRODUCT'>"
      ]
     },
     "execution_count": 7,
     "metadata": {},
     "output_type": "execute_result"
    },
    {
     "data": {
      "image/png": "[encoded data removed]",
      "text/plain": [
       "<Figure size 432x288 with 1 Axes>"
      ]
     },
     "metadata": {
      "needs_background": "light"
     },
     "output_type": "display_data"
    }
   ],
   "source": [
    "df_pivot_diff.sort_values(\"stamp_2\", ascending = False)[\"stamp_2\"].head(10).plot.barh()"
   ]
  },
  {
   "cell_type": "code",
   "execution_count": null,
   "id": "extra-executive",
   "metadata": {
    "papermill": {
     "duration": 0.02665,
     "end_time": "2021-11-08T23:30:12.533175",
     "exception": false,
     "start_time": "2021-11-08T23:30:12.506525",
     "status": "completed"
    },
    "tags": []
   },
   "outputs": [],
   "source": []
  }
 ],
 "metadata": {
  "kernelspec": {
   "display_name": "Python 3",
   "language": "python",
   "name": "python3"
  },
  "language_info": {
   "codemirror_mode": {
    "name": "ipython",
    "version": 3
   },
   "file_extension": ".py",
   "mimetype": "text/x-python",
   "name": "python",
   "nbconvert_exporter": "python",
   "pygments_lexer": "ipython3",
   "version": "3.9.5"
  },
  "papermill": {
   "default_parameters": {},
   "duration": 8.787268,
   "end_time": "2021-11-08T23:30:13.381084",
   "environment_variables": {},
   "exception": null,
   "input_path": "eBay_Overview.ipynb",
   "output_path": "eBay_Overview.ipynb",
   "parameters": {},
   "start_time": "2021-11-08T23:30:04.593816",
   "version": "2.3.3"
  }
 },
 "nbformat": 4,
 "nbformat_minor": 5
}