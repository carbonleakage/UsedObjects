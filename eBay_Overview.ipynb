{
 "cells": [
  {
   "cell_type": "code",
   "execution_count": 1,
   "id": "reverse-picking",
   "metadata": {
    "execution": {
     "iopub.execute_input": "2021-08-11T09:00:04.054499Z",
     "iopub.status.busy": "2021-08-11T09:00:04.053739Z",
     "iopub.status.idle": "2021-08-11T09:00:04.665348Z",
     "shell.execute_reply": "2021-08-11T09:00:04.664388Z"
    },
    "papermill": {
     "duration": 0.630258,
     "end_time": "2021-08-11T09:00:04.665562",
     "exception": false,
     "start_time": "2021-08-11T09:00:04.035304",
     "status": "completed"
    },
    "tags": []
   },
   "outputs": [],
   "source": [
    "import pandas as pd\n",
    "import sqlite3"
   ]
  },
  {
   "cell_type": "code",
   "execution_count": 2,
   "id": "innovative-syndrome",
   "metadata": {
    "execution": {
     "iopub.execute_input": "2021-08-11T09:00:04.687764Z",
     "iopub.status.busy": "2021-08-11T09:00:04.686792Z",
     "iopub.status.idle": "2021-08-11T09:00:04.879410Z",
     "shell.execute_reply": "2021-08-11T09:00:04.878688Z"
    },
    "papermill": {
     "duration": 0.205047,
     "end_time": "2021-08-11T09:00:04.879568",
     "exception": false,
     "start_time": "2021-08-11T09:00:04.674521",
     "status": "completed"
    },
    "tags": []
   },
   "outputs": [],
   "source": [
    "timestamps = pd.read_sql(\"select distinct record_time from EBAY_TOP_BERLIN order by record_time desc limit 2\", sqlite3.connect(\"UsedObjects.db\"))"
   ]
  },
  {
   "cell_type": "code",
   "execution_count": 3,
   "id": "periodic-identification",
   "metadata": {
    "execution": {
     "iopub.execute_input": "2021-08-11T09:00:04.912501Z",
     "iopub.status.busy": "2021-08-11T09:00:04.911737Z",
     "iopub.status.idle": "2021-08-11T09:00:04.922343Z",
     "shell.execute_reply": "2021-08-11T09:00:04.922923Z"
    },
    "papermill": {
     "duration": 0.035234,
     "end_time": "2021-08-11T09:00:04.923101",
     "exception": false,
     "start_time": "2021-08-11T09:00:04.887867",
     "status": "completed"
    },
    "tags": []
   },
   "outputs": [
    {
     "data": {
      "text/html": [
       "<div>\n",
       "<style scoped>\n",
       "    .dataframe tbody tr th:only-of-type {\n",
       "        vertical-align: middle;\n",
       "    }\n",
       "\n",
       "    .dataframe tbody tr th {\n",
       "        vertical-align: top;\n",
       "    }\n",
       "\n",
       "    .dataframe thead th {\n",
       "        text-align: right;\n",
       "    }\n",
       "</style>\n",
       "<table border=\"1\" class=\"dataframe\">\n",
       "  <thead>\n",
       "    <tr style=\"text-align: right;\">\n",
       "      <th></th>\n",
       "      <th>RECORD_TIME</th>\n",
       "    </tr>\n",
       "  </thead>\n",
       "  <tbody>\n",
       "    <tr>\n",
       "      <th>0</th>\n",
       "      <td>2021-08-11 11:00</td>\n",
       "    </tr>\n",
       "    <tr>\n",
       "      <th>1</th>\n",
       "      <td>2021-08-11 10:30</td>\n",
       "    </tr>\n",
       "  </tbody>\n",
       "</table>\n",
       "</div>"
      ],
      "text/plain": [
       "        RECORD_TIME\n",
       "0  2021-08-11 11:00\n",
       "1  2021-08-11 10:30"
      ]
     },
     "execution_count": 3,
     "metadata": {},
     "output_type": "execute_result"
    }
   ],
   "source": [
    "timestamps"
   ]
  },
  {
   "cell_type": "code",
   "execution_count": 4,
   "id": "alternate-victory",
   "metadata": {
    "execution": {
     "iopub.execute_input": "2021-08-11T09:00:04.951560Z",
     "iopub.status.busy": "2021-08-11T09:00:04.950738Z",
     "iopub.status.idle": "2021-08-11T09:00:04.970246Z",
     "shell.execute_reply": "2021-08-11T09:00:04.970813Z"
    },
    "papermill": {
     "duration": 0.03552,
     "end_time": "2021-08-11T09:00:04.971004",
     "exception": false,
     "start_time": "2021-08-11T09:00:04.935484",
     "status": "completed"
    },
    "tags": []
   },
   "outputs": [],
   "source": [
    "df = pd.read_sql(\"select * from EBAY_TOP_BERLIN where record_time in (select distinct record_time from EBAY_TOP_BERLIN order by record_time desc limit 2)\", sqlite3.connect(\"UsedObjects.db\"))"
   ]
  },
  {
   "cell_type": "code",
   "execution_count": 5,
   "id": "popular-active",
   "metadata": {
    "execution": {
     "iopub.execute_input": "2021-08-11T09:00:05.004353Z",
     "iopub.status.busy": "2021-08-11T09:00:05.003262Z",
     "iopub.status.idle": "2021-08-11T09:00:05.026663Z",
     "shell.execute_reply": "2021-08-11T09:00:05.027684Z"
    },
    "papermill": {
     "duration": 0.043885,
     "end_time": "2021-08-11T09:00:05.028008",
     "exception": false,
     "start_time": "2021-08-11T09:00:04.984123",
     "status": "completed"
    },
    "tags": []
   },
   "outputs": [],
   "source": [
    "df_pivot = df.pivot_table(index=\"PRODUCT\", columns = \"RECORD_TIME\", values = \"LISTING_COUNT\")"
   ]
  },
  {
   "cell_type": "code",
   "execution_count": 6,
   "id": "union-huntington",
   "metadata": {
    "execution": {
     "iopub.execute_input": "2021-08-11T09:00:05.055768Z",
     "iopub.status.busy": "2021-08-11T09:00:05.054753Z",
     "iopub.status.idle": "2021-08-11T09:00:05.059733Z",
     "shell.execute_reply": "2021-08-11T09:00:05.060487Z"
    },
    "papermill": {
     "duration": 0.021988,
     "end_time": "2021-08-11T09:00:05.060713",
     "exception": false,
     "start_time": "2021-08-11T09:00:05.038725",
     "status": "completed"
    },
    "tags": []
   },
   "outputs": [],
   "source": [
    "df_pivot.columns = [\"stamp_1\", \"stamp_2\"]\n",
    "df_pivot_diff = df_pivot.diff(axis=1)"
   ]
  },
  {
   "cell_type": "code",
   "execution_count": 7,
   "id": "fifth-motion",
   "metadata": {
    "execution": {
     "iopub.execute_input": "2021-08-11T09:00:05.091779Z",
     "iopub.status.busy": "2021-08-11T09:00:05.090417Z",
     "iopub.status.idle": "2021-08-11T09:00:05.743488Z",
     "shell.execute_reply": "2021-08-11T09:00:05.742921Z"
    },
    "papermill": {
     "duration": 0.668603,
     "end_time": "2021-08-11T09:00:05.743634",
     "exception": false,
     "start_time": "2021-08-11T09:00:05.075031",
     "status": "completed"
    },
    "tags": []
   },
   "outputs": [
    {
     "data": {
      "text/plain": [
       "<AxesSubplot:ylabel='PRODUCT'>"
      ]
     },
     "execution_count": 7,
     "metadata": {},
     "output_type": "execute_result"
    },
    {
     "data": {
      "image/png": "[encoded data removed]",
      "text/plain": [
       "<Figure size 432x288 with 1 Axes>"
      ]
     },
     "metadata": {
      "needs_background": "light"
     },
     "output_type": "display_data"
    }
   ],
   "source": [
    "df_pivot_diff.sort_values(\"stamp_2\", ascending = False)[\"stamp_2\"].head(10).plot.barh()"
   ]
  },
  {
   "cell_type": "code",
   "execution_count": null,
   "id": "extra-executive",
   "metadata": {
    "papermill": {
     "duration": 0.013422,
     "end_time": "2021-08-11T09:00:05.768829",
     "exception": false,
     "start_time": "2021-08-11T09:00:05.755407",
     "status": "completed"
    },
    "tags": []
   },
   "outputs": [],
   "source": []
  }
 ],
 "metadata": {
  "kernelspec": {
   "display_name": "Python 3",
   "language": "python",
   "name": "python3"
  },
  "language_info": {
   "codemirror_mode": {
    "name": "ipython",
    "version": 3
   },
   "file_extension": ".py",
   "mimetype": "text/x-python",
   "name": "python",
   "nbconvert_exporter": "python",
   "pygments_lexer": "ipython3",
   "version": "3.8.8"
  },
  "papermill": {
   "default_parameters": {},
   "duration": 5.109443,
   "end_time": "2021-08-11T09:00:07.287511",
   "environment_variables": {},
   "exception": null,
   "input_path": "/Users/saravananshanmugam/Carbonleakage_Git/UsedObjects/eBay_Overview.ipynb",
   "output_path": "/Users/saravananshanmugam/Carbonleakage_Git/UsedObjects/eBay_Overview.ipynb",
   "parameters": {},
   "start_time": "2021-08-11T09:00:02.178068",
   "version": "2.3.3"
  }
 },
 "nbformat": 4,
 "nbformat_minor": 5
}