{
 "cells": [
  {
   "cell_type": "code",
   "execution_count": 1,
   "id": "reverse-picking",
   "metadata": {
    "execution": {
     "iopub.execute_input": "2021-09-10T07:00:06.847886Z",
     "iopub.status.busy": "2021-09-10T07:00:06.845857Z",
     "iopub.status.idle": "2021-09-10T07:00:07.654675Z",
     "shell.execute_reply": "2021-09-10T07:00:07.656196Z"
    },
    "papermill": {
     "duration": 0.858782,
     "end_time": "2021-09-10T07:00:07.656995",
     "exception": false,
     "start_time": "2021-09-10T07:00:06.798213",
     "status": "completed"
    },
    "tags": []
   },
   "outputs": [],
   "source": [
    "import pandas as pd\n",
    "import sqlite3"
   ]
  },
  {
   "cell_type": "code",
   "execution_count": 2,
   "id": "innovative-syndrome",
   "metadata": {
    "execution": {
     "iopub.execute_input": "2021-09-10T07:00:07.709201Z",
     "iopub.status.busy": "2021-09-10T07:00:07.706787Z",
     "iopub.status.idle": "2021-09-10T07:00:07.962250Z",
     "shell.execute_reply": "2021-09-10T07:00:07.963515Z"
    },
    "papermill": {
     "duration": 0.285518,
     "end_time": "2021-09-10T07:00:07.963916",
     "exception": false,
     "start_time": "2021-09-10T07:00:07.678398",
     "status": "completed"
    },
    "tags": []
   },
   "outputs": [],
   "source": [
    "timestamps = pd.read_sql(\"select distinct record_time from EBAY_TOP_BERLIN order by record_time desc limit 2\", sqlite3.connect(\"UsedObjects.db\"))"
   ]
  },
  {
   "cell_type": "code",
   "execution_count": 3,
   "id": "periodic-identification",
   "metadata": {
    "execution": {
     "iopub.execute_input": "2021-09-10T07:00:08.029343Z",
     "iopub.status.busy": "2021-09-10T07:00:08.027315Z",
     "iopub.status.idle": "2021-09-10T07:00:08.047443Z",
     "shell.execute_reply": "2021-09-10T07:00:08.049061Z"
    },
    "papermill": {
     "duration": 0.064828,
     "end_time": "2021-09-10T07:00:08.049611",
     "exception": false,
     "start_time": "2021-09-10T07:00:07.984783",
     "status": "completed"
    },
    "tags": []
   },
   "outputs": [
    {
     "data": {
      "text/html": [
       "<div>\n",
       "<style scoped>\n",
       "    .dataframe tbody tr th:only-of-type {\n",
       "        vertical-align: middle;\n",
       "    }\n",
       "\n",
       "    .dataframe tbody tr th {\n",
       "        vertical-align: top;\n",
       "    }\n",
       "\n",
       "    .dataframe thead th {\n",
       "        text-align: right;\n",
       "    }\n",
       "</style>\n",
       "<table border=\"1\" class=\"dataframe\">\n",
       "  <thead>\n",
       "    <tr style=\"text-align: right;\">\n",
       "      <th></th>\n",
       "      <th>RECORD_TIME</th>\n",
       "    </tr>\n",
       "  </thead>\n",
       "  <tbody>\n",
       "    <tr>\n",
       "      <th>0</th>\n",
       "      <td>2021-09-10 09:00</td>\n",
       "    </tr>\n",
       "    <tr>\n",
       "      <th>1</th>\n",
       "      <td>2021-09-10 08:30</td>\n",
       "    </tr>\n",
       "  </tbody>\n",
       "</table>\n",
       "</div>"
      ],
      "text/plain": [
       "        RECORD_TIME\n",
       "0  2021-09-10 09:00\n",
       "1  2021-09-10 08:30"
      ]
     },
     "execution_count": 3,
     "metadata": {},
     "output_type": "execute_result"
    }
   ],
   "source": [
    "timestamps"
   ]
  },
  {
   "cell_type": "code",
   "execution_count": 4,
   "id": "alternate-victory",
   "metadata": {
    "execution": {
     "iopub.execute_input": "2021-09-10T07:00:08.103002Z",
     "iopub.status.busy": "2021-09-10T07:00:08.101131Z",
     "iopub.status.idle": "2021-09-10T07:00:08.484233Z",
     "shell.execute_reply": "2021-09-10T07:00:08.485443Z"
    },
    "papermill": {
     "duration": 0.413249,
     "end_time": "2021-09-10T07:00:08.485844",
     "exception": false,
     "start_time": "2021-09-10T07:00:08.072595",
     "status": "completed"
    },
    "tags": []
   },
   "outputs": [],
   "source": [
    "df = pd.read_sql(\"select * from EBAY_TOP_BERLIN where record_time in (select distinct record_time from EBAY_TOP_BERLIN order by record_time desc limit 2)\", sqlite3.connect(\"UsedObjects.db\"))"
   ]
  },
  {
   "cell_type": "code",
   "execution_count": 5,
   "id": "popular-active",
   "metadata": {
    "execution": {
     "iopub.execute_input": "2021-09-10T07:00:08.561412Z",
     "iopub.status.busy": "2021-09-10T07:00:08.554083Z",
     "iopub.status.idle": "2021-09-10T07:00:08.582657Z",
     "shell.execute_reply": "2021-09-10T07:00:08.584135Z"
    },
    "papermill": {
     "duration": 0.072595,
     "end_time": "2021-09-10T07:00:08.584580",
     "exception": false,
     "start_time": "2021-09-10T07:00:08.511985",
     "status": "completed"
    },
    "tags": []
   },
   "outputs": [],
   "source": [
    "df_pivot = df.pivot_table(index=\"PRODUCT\", columns = \"RECORD_TIME\", values = \"LISTING_COUNT\")"
   ]
  },
  {
   "cell_type": "code",
   "execution_count": 6,
   "id": "union-huntington",
   "metadata": {
    "execution": {
     "iopub.execute_input": "2021-09-10T07:00:08.642844Z",
     "iopub.status.busy": "2021-09-10T07:00:08.640393Z",
     "iopub.status.idle": "2021-09-10T07:00:08.646210Z",
     "shell.execute_reply": "2021-09-10T07:00:08.647561Z"
    },
    "papermill": {
     "duration": 0.042624,
     "end_time": "2021-09-10T07:00:08.647980",
     "exception": false,
     "start_time": "2021-09-10T07:00:08.605356",
     "status": "completed"
    },
    "tags": []
   },
   "outputs": [],
   "source": [
    "df_pivot.columns = [\"stamp_1\", \"stamp_2\"]\n",
    "df_pivot_diff = df_pivot.diff(axis=1)"
   ]
  },
  {
   "cell_type": "code",
   "execution_count": 7,
   "id": "fifth-motion",
   "metadata": {
    "execution": {
     "iopub.execute_input": "2021-09-10T07:00:08.702655Z",
     "iopub.status.busy": "2021-09-10T07:00:08.700206Z",
     "iopub.status.idle": "2021-09-10T07:00:10.182654Z",
     "shell.execute_reply": "2021-09-10T07:00:10.184016Z"
    },
    "papermill": {
     "duration": 1.515461,
     "end_time": "2021-09-10T07:00:10.184437",
     "exception": false,
     "start_time": "2021-09-10T07:00:08.668976",
     "status": "completed"
    },
    "tags": []
   },
   "outputs": [
    {
     "data": {
      "text/plain": [
       "<AxesSubplot:ylabel='PRODUCT'>"
      ]
     },
     "execution_count": 7,
     "metadata": {},
     "output_type": "execute_result"
    },
    {
     "data": {
      "image/png": "[encoded data removed]",
      "text/plain": [
       "<Figure size 432x288 with 1 Axes>"
      ]
     },
     "metadata": {
      "needs_background": "light"
     },
     "output_type": "display_data"
    }
   ],
   "source": [
    "df_pivot_diff.sort_values(\"stamp_2\", ascending = False)[\"stamp_2\"].head(10).plot.barh()"
   ]
  },
  {
   "cell_type": "code",
   "execution_count": null,
   "id": "extra-executive",
   "metadata": {
    "papermill": {
     "duration": 0.022444,
     "end_time": "2021-09-10T07:00:10.231596",
     "exception": false,
     "start_time": "2021-09-10T07:00:10.209152",
     "status": "completed"
    },
    "tags": []
   },
   "outputs": [],
   "source": []
  }
 ],
 "metadata": {
  "kernelspec": {
   "display_name": "Python 3",
   "language": "python",
   "name": "python3"
  },
  "language_info": {
   "codemirror_mode": {
    "name": "ipython",
    "version": 3
   },
   "file_extension": ".py",
   "mimetype": "text/x-python",
   "name": "python",
   "nbconvert_exporter": "python",
   "pygments_lexer": "ipython3",
   "version": "3.9.5"
  },
  "papermill": {
   "default_parameters": {},
   "duration": 6.490909,
   "end_time": "2021-09-10T07:00:10.872833",
   "environment_variables": {},
   "exception": null,
   "input_path": "eBay_Overview.ipynb",
   "output_path": "eBay_Overview.ipynb",
   "parameters": {},
   "start_time": "2021-09-10T07:00:04.381924",
   "version": "2.3.3"
  }
 },
 "nbformat": 4,
 "nbformat_minor": 5
}