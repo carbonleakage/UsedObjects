{
 "cells": [
  {
   "cell_type": "code",
   "execution_count": 1,
   "id": "reverse-picking",
   "metadata": {
    "execution": {
     "iopub.execute_input": "2021-11-23T00:00:08.273733Z",
     "iopub.status.busy": "2021-11-23T00:00:08.271396Z",
     "iopub.status.idle": "2021-11-23T00:00:09.229331Z",
     "shell.execute_reply": "2021-11-23T00:00:09.230833Z"
    },
    "papermill": {
     "duration": 1.006533,
     "end_time": "2021-11-23T00:00:09.231572",
     "exception": false,
     "start_time": "2021-11-23T00:00:08.225039",
     "status": "completed"
    },
    "tags": []
   },
   "outputs": [],
   "source": [
    "import pandas as pd\n",
    "import sqlite3"
   ]
  },
  {
   "cell_type": "code",
   "execution_count": 2,
   "id": "innovative-syndrome",
   "metadata": {
    "execution": {
     "iopub.execute_input": "2021-11-23T00:00:09.366593Z",
     "iopub.status.busy": "2021-11-23T00:00:09.364264Z",
     "iopub.status.idle": "2021-11-23T00:00:10.247602Z",
     "shell.execute_reply": "2021-11-23T00:00:10.248962Z"
    },
    "papermill": {
     "duration": 0.926613,
     "end_time": "2021-11-23T00:00:10.249434",
     "exception": false,
     "start_time": "2021-11-23T00:00:09.322821",
     "status": "completed"
    },
    "tags": []
   },
   "outputs": [],
   "source": [
    "timestamps = pd.read_sql(\"select distinct record_time from EBAY_TOP_BERLIN order by record_time desc limit 2\", sqlite3.connect(\"UsedObjects.db\"))"
   ]
  },
  {
   "cell_type": "code",
   "execution_count": 3,
   "id": "periodic-identification",
   "metadata": {
    "execution": {
     "iopub.execute_input": "2021-11-23T00:00:10.315852Z",
     "iopub.status.busy": "2021-11-23T00:00:10.313886Z",
     "iopub.status.idle": "2021-11-23T00:00:10.334219Z",
     "shell.execute_reply": "2021-11-23T00:00:10.335486Z"
    },
    "papermill": {
     "duration": 0.067364,
     "end_time": "2021-11-23T00:00:10.335900",
     "exception": false,
     "start_time": "2021-11-23T00:00:10.268536",
     "status": "completed"
    },
    "tags": []
   },
   "outputs": [
    {
     "data": {
      "text/html": [
       "<div>\n",
       "<style scoped>\n",
       "    .dataframe tbody tr th:only-of-type {\n",
       "        vertical-align: middle;\n",
       "    }\n",
       "\n",
       "    .dataframe tbody tr th {\n",
       "        vertical-align: top;\n",
       "    }\n",
       "\n",
       "    .dataframe thead th {\n",
       "        text-align: right;\n",
       "    }\n",
       "</style>\n",
       "<table border=\"1\" class=\"dataframe\">\n",
       "  <thead>\n",
       "    <tr style=\"text-align: right;\">\n",
       "      <th></th>\n",
       "      <th>RECORD_TIME</th>\n",
       "    </tr>\n",
       "  </thead>\n",
       "  <tbody>\n",
       "    <tr>\n",
       "      <th>0</th>\n",
       "      <td>2021-11-23 01:00</td>\n",
       "    </tr>\n",
       "    <tr>\n",
       "      <th>1</th>\n",
       "      <td>2021-11-23 00:30</td>\n",
       "    </tr>\n",
       "  </tbody>\n",
       "</table>\n",
       "</div>"
      ],
      "text/plain": [
       "        RECORD_TIME\n",
       "0  2021-11-23 01:00\n",
       "1  2021-11-23 00:30"
      ]
     },
     "execution_count": 3,
     "metadata": {},
     "output_type": "execute_result"
    }
   ],
   "source": [
    "timestamps"
   ]
  },
  {
   "cell_type": "code",
   "execution_count": 4,
   "id": "alternate-victory",
   "metadata": {
    "execution": {
     "iopub.execute_input": "2021-11-23T00:00:10.387982Z",
     "iopub.status.busy": "2021-11-23T00:00:10.385739Z",
     "iopub.status.idle": "2021-11-23T00:00:11.706201Z",
     "shell.execute_reply": "2021-11-23T00:00:11.708275Z"
    },
    "papermill": {
     "duration": 1.351738,
     "end_time": "2021-11-23T00:00:11.708813",
     "exception": false,
     "start_time": "2021-11-23T00:00:10.357075",
     "status": "completed"
    },
    "tags": []
   },
   "outputs": [],
   "source": [
    "df = pd.read_sql(\"select * from EBAY_TOP_BERLIN where record_time in (select distinct record_time from EBAY_TOP_BERLIN order by record_time desc limit 2)\", sqlite3.connect(\"UsedObjects.db\"))"
   ]
  },
  {
   "cell_type": "code",
   "execution_count": 5,
   "id": "popular-active",
   "metadata": {
    "execution": {
     "iopub.execute_input": "2021-11-23T00:00:11.789310Z",
     "iopub.status.busy": "2021-11-23T00:00:11.772657Z",
     "iopub.status.idle": "2021-11-23T00:00:11.810251Z",
     "shell.execute_reply": "2021-11-23T00:00:11.808595Z"
    },
    "papermill": {
     "duration": 0.081311,
     "end_time": "2021-11-23T00:00:11.810670",
     "exception": false,
     "start_time": "2021-11-23T00:00:11.729359",
     "status": "completed"
    },
    "tags": []
   },
   "outputs": [],
   "source": [
    "df_pivot = df.pivot_table(index=\"PRODUCT\", columns = \"RECORD_TIME\", values = \"LISTING_COUNT\")"
   ]
  },
  {
   "cell_type": "code",
   "execution_count": 6,
   "id": "union-huntington",
   "metadata": {
    "execution": {
     "iopub.execute_input": "2021-11-23T00:00:11.877893Z",
     "iopub.status.busy": "2021-11-23T00:00:11.875607Z",
     "iopub.status.idle": "2021-11-23T00:00:11.883288Z",
     "shell.execute_reply": "2021-11-23T00:00:11.881694Z"
    },
    "papermill": {
     "duration": 0.051289,
     "end_time": "2021-11-23T00:00:11.883697",
     "exception": false,
     "start_time": "2021-11-23T00:00:11.832408",
     "status": "completed"
    },
    "tags": []
   },
   "outputs": [],
   "source": [
    "df_pivot.columns = [\"stamp_1\", \"stamp_2\"]\n",
    "df_pivot_diff = df_pivot.diff(axis=1)"
   ]
  },
  {
   "cell_type": "code",
   "execution_count": 7,
   "id": "fifth-motion",
   "metadata": {
    "execution": {
     "iopub.execute_input": "2021-11-23T00:00:11.941296Z",
     "iopub.status.busy": "2021-11-23T00:00:11.938751Z",
     "iopub.status.idle": "2021-11-23T00:00:13.968562Z",
     "shell.execute_reply": "2021-11-23T00:00:13.970538Z"
    },
    "papermill": {
     "duration": 2.065682,
     "end_time": "2021-11-23T00:00:13.971173",
     "exception": false,
     "start_time": "2021-11-23T00:00:11.905491",
     "status": "completed"
    },
    "tags": []
   },
   "outputs": [
    {
     "data": {
      "text/plain": [
       "<AxesSubplot:ylabel='PRODUCT'>"
      ]
     },
     "execution_count": 7,
     "metadata": {},
     "output_type": "execute_result"
    },
    {
     "data": {
      "image/png": "[encoded data removed]",
      "text/plain": [
       "<Figure size 432x288 with 1 Axes>"
      ]
     },
     "metadata": {
      "needs_background": "light"
     },
     "output_type": "display_data"
    }
   ],
   "source": [
    "df_pivot_diff.sort_values(\"stamp_2\", ascending = False)[\"stamp_2\"].head(10).plot.barh()"
   ]
  },
  {
   "cell_type": "code",
   "execution_count": null,
   "id": "extra-executive",
   "metadata": {
    "papermill": {
     "duration": 0.027944,
     "end_time": "2021-11-23T00:00:14.027437",
     "exception": false,
     "start_time": "2021-11-23T00:00:13.999493",
     "status": "completed"
    },
    "tags": []
   },
   "outputs": [],
   "source": []
  }
 ],
 "metadata": {
  "kernelspec": {
   "display_name": "Python 3",
   "language": "python",
   "name": "python3"
  },
  "language_info": {
   "codemirror_mode": {
    "name": "ipython",
    "version": 3
   },
   "file_extension": ".py",
   "mimetype": "text/x-python",
   "name": "python",
   "nbconvert_exporter": "python",
   "pygments_lexer": "ipython3",
   "version": "3.9.5"
  },
  "papermill": {
   "default_parameters": {},
   "duration": 9.936345,
   "end_time": "2021-11-23T00:00:15.426381",
   "environment_variables": {},
   "exception": null,
   "input_path": "eBay_Overview.ipynb",
   "output_path": "eBay_Overview.ipynb",
   "parameters": {},
   "start_time": "2021-11-23T00:00:05.490036",
   "version": "2.3.3"
  }
 },
 "nbformat": 4,
 "nbformat_minor": 5
}