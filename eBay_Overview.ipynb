{
 "cells": [
  {
   "cell_type": "code",
   "execution_count": 1,
   "id": "reverse-picking",
   "metadata": {
    "execution": {
     "iopub.execute_input": "2021-09-24T06:00:06.928901Z",
     "iopub.status.busy": "2021-09-24T06:00:06.926958Z",
     "iopub.status.idle": "2021-09-24T06:00:07.729972Z",
     "shell.execute_reply": "2021-09-24T06:00:07.731415Z"
    },
    "papermill": {
     "duration": 0.855367,
     "end_time": "2021-09-24T06:00:07.732098",
     "exception": false,
     "start_time": "2021-09-24T06:00:06.876731",
     "status": "completed"
    },
    "tags": []
   },
   "outputs": [],
   "source": [
    "import pandas as pd\n",
    "import sqlite3"
   ]
  },
  {
   "cell_type": "code",
   "execution_count": 2,
   "id": "innovative-syndrome",
   "metadata": {
    "execution": {
     "iopub.execute_input": "2021-09-24T06:00:07.782530Z",
     "iopub.status.busy": "2021-09-24T06:00:07.780608Z",
     "iopub.status.idle": "2021-09-24T06:00:08.140278Z",
     "shell.execute_reply": "2021-09-24T06:00:08.141459Z"
    },
    "papermill": {
     "duration": 0.389623,
     "end_time": "2021-09-24T06:00:08.141855",
     "exception": false,
     "start_time": "2021-09-24T06:00:07.752232",
     "status": "completed"
    },
    "tags": []
   },
   "outputs": [],
   "source": [
    "timestamps = pd.read_sql(\"select distinct record_time from EBAY_TOP_BERLIN order by record_time desc limit 2\", sqlite3.connect(\"UsedObjects.db\"))"
   ]
  },
  {
   "cell_type": "code",
   "execution_count": 3,
   "id": "periodic-identification",
   "metadata": {
    "execution": {
     "iopub.execute_input": "2021-09-24T06:00:08.206009Z",
     "iopub.status.busy": "2021-09-24T06:00:08.204019Z",
     "iopub.status.idle": "2021-09-24T06:00:08.224041Z",
     "shell.execute_reply": "2021-09-24T06:00:08.225345Z"
    },
    "papermill": {
     "duration": 0.06447,
     "end_time": "2021-09-24T06:00:08.225761",
     "exception": false,
     "start_time": "2021-09-24T06:00:08.161291",
     "status": "completed"
    },
    "tags": []
   },
   "outputs": [
    {
     "data": {
      "text/html": [
       "<div>\n",
       "<style scoped>\n",
       "    .dataframe tbody tr th:only-of-type {\n",
       "        vertical-align: middle;\n",
       "    }\n",
       "\n",
       "    .dataframe tbody tr th {\n",
       "        vertical-align: top;\n",
       "    }\n",
       "\n",
       "    .dataframe thead th {\n",
       "        text-align: right;\n",
       "    }\n",
       "</style>\n",
       "<table border=\"1\" class=\"dataframe\">\n",
       "  <thead>\n",
       "    <tr style=\"text-align: right;\">\n",
       "      <th></th>\n",
       "      <th>RECORD_TIME</th>\n",
       "    </tr>\n",
       "  </thead>\n",
       "  <tbody>\n",
       "    <tr>\n",
       "      <th>0</th>\n",
       "      <td>2021-09-24 08:00</td>\n",
       "    </tr>\n",
       "    <tr>\n",
       "      <th>1</th>\n",
       "      <td>2021-09-24 07:30</td>\n",
       "    </tr>\n",
       "  </tbody>\n",
       "</table>\n",
       "</div>"
      ],
      "text/plain": [
       "        RECORD_TIME\n",
       "0  2021-09-24 08:00\n",
       "1  2021-09-24 07:30"
      ]
     },
     "execution_count": 3,
     "metadata": {},
     "output_type": "execute_result"
    }
   ],
   "source": [
    "timestamps"
   ]
  },
  {
   "cell_type": "code",
   "execution_count": 4,
   "id": "alternate-victory",
   "metadata": {
    "execution": {
     "iopub.execute_input": "2021-09-24T06:00:08.277167Z",
     "iopub.status.busy": "2021-09-24T06:00:08.275058Z",
     "iopub.status.idle": "2021-09-24T06:00:08.808665Z",
     "shell.execute_reply": "2021-09-24T06:00:08.809769Z"
    },
    "papermill": {
     "duration": 0.563289,
     "end_time": "2021-09-24T06:00:08.810180",
     "exception": false,
     "start_time": "2021-09-24T06:00:08.246891",
     "status": "completed"
    },
    "tags": []
   },
   "outputs": [],
   "source": [
    "df = pd.read_sql(\"select * from EBAY_TOP_BERLIN where record_time in (select distinct record_time from EBAY_TOP_BERLIN order by record_time desc limit 2)\", sqlite3.connect(\"UsedObjects.db\"))"
   ]
  },
  {
   "cell_type": "code",
   "execution_count": 5,
   "id": "popular-active",
   "metadata": {
    "execution": {
     "iopub.execute_input": "2021-09-24T06:00:08.886053Z",
     "iopub.status.busy": "2021-09-24T06:00:08.874579Z",
     "iopub.status.idle": "2021-09-24T06:00:08.901823Z",
     "shell.execute_reply": "2021-09-24T06:00:08.903219Z"
    },
    "papermill": {
     "duration": 0.070932,
     "end_time": "2021-09-24T06:00:08.903637",
     "exception": false,
     "start_time": "2021-09-24T06:00:08.832705",
     "status": "completed"
    },
    "tags": []
   },
   "outputs": [],
   "source": [
    "df_pivot = df.pivot_table(index=\"PRODUCT\", columns = \"RECORD_TIME\", values = \"LISTING_COUNT\")"
   ]
  },
  {
   "cell_type": "code",
   "execution_count": 6,
   "id": "union-huntington",
   "metadata": {
    "execution": {
     "iopub.execute_input": "2021-09-24T06:00:08.961775Z",
     "iopub.status.busy": "2021-09-24T06:00:08.959374Z",
     "iopub.status.idle": "2021-09-24T06:00:08.965151Z",
     "shell.execute_reply": "2021-09-24T06:00:08.966385Z"
    },
    "papermill": {
     "duration": 0.041995,
     "end_time": "2021-09-24T06:00:08.966852",
     "exception": false,
     "start_time": "2021-09-24T06:00:08.924857",
     "status": "completed"
    },
    "tags": []
   },
   "outputs": [],
   "source": [
    "df_pivot.columns = [\"stamp_1\", \"stamp_2\"]\n",
    "df_pivot_diff = df_pivot.diff(axis=1)"
   ]
  },
  {
   "cell_type": "code",
   "execution_count": 7,
   "id": "fifth-motion",
   "metadata": {
    "execution": {
     "iopub.execute_input": "2021-09-24T06:00:09.021039Z",
     "iopub.status.busy": "2021-09-24T06:00:09.018744Z",
     "iopub.status.idle": "2021-09-24T06:00:10.512754Z",
     "shell.execute_reply": "2021-09-24T06:00:10.514002Z"
    },
    "papermill": {
     "duration": 1.527014,
     "end_time": "2021-09-24T06:00:10.514416",
     "exception": false,
     "start_time": "2021-09-24T06:00:08.987402",
     "status": "completed"
    },
    "tags": []
   },
   "outputs": [
    {
     "data": {
      "text/plain": [
       "<AxesSubplot:ylabel='PRODUCT'>"
      ]
     },
     "execution_count": 7,
     "metadata": {},
     "output_type": "execute_result"
    },
    {
     "data": {
      "image/png": "[encoded data removed]",
      "text/plain": [
       "<Figure size 432x288 with 1 Axes>"
      ]
     },
     "metadata": {
      "needs_background": "light"
     },
     "output_type": "display_data"
    }
   ],
   "source": [
    "df_pivot_diff.sort_values(\"stamp_2\", ascending = False)[\"stamp_2\"].head(10).plot.barh()"
   ]
  },
  {
   "cell_type": "code",
   "execution_count": null,
   "id": "extra-executive",
   "metadata": {
    "papermill": {
     "duration": 0.022089,
     "end_time": "2021-09-24T06:00:10.560984",
     "exception": false,
     "start_time": "2021-09-24T06:00:10.538895",
     "status": "completed"
    },
    "tags": []
   },
   "outputs": [],
   "source": []
  }
 ],
 "metadata": {
  "kernelspec": {
   "display_name": "Python 3",
   "language": "python",
   "name": "python3"
  },
  "language_info": {
   "codemirror_mode": {
    "name": "ipython",
    "version": 3
   },
   "file_extension": ".py",
   "mimetype": "text/x-python",
   "name": "python",
   "nbconvert_exporter": "python",
   "pygments_lexer": "ipython3",
   "version": "3.9.5"
  },
  "papermill": {
   "default_parameters": {},
   "duration": 6.718542,
   "end_time": "2021-09-24T06:00:11.203118",
   "environment_variables": {},
   "exception": null,
   "input_path": "eBay_Overview.ipynb",
   "output_path": "eBay_Overview.ipynb",
   "parameters": {},
   "start_time": "2021-09-24T06:00:04.484576",
   "version": "2.3.3"
  }
 },
 "nbformat": 4,
 "nbformat_minor": 5
}