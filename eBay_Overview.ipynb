{
 "cells": [
  {
   "cell_type": "code",
   "execution_count": 1,
   "id": "reverse-picking",
   "metadata": {
    "execution": {
     "iopub.execute_input": "2021-08-14T11:30:07.512335Z",
     "iopub.status.busy": "2021-08-14T11:30:07.510393Z",
     "iopub.status.idle": "2021-08-14T11:30:08.321036Z",
     "shell.execute_reply": "2021-08-14T11:30:08.322512Z"
    },
    "papermill": {
     "duration": 0.862896,
     "end_time": "2021-08-14T11:30:08.323159",
     "exception": false,
     "start_time": "2021-08-14T11:30:07.460263",
     "status": "completed"
    },
    "tags": []
   },
   "outputs": [],
   "source": [
    "import pandas as pd\n",
    "import sqlite3"
   ]
  },
  {
   "cell_type": "code",
   "execution_count": 2,
   "id": "innovative-syndrome",
   "metadata": {
    "execution": {
     "iopub.execute_input": "2021-08-14T11:30:08.375460Z",
     "iopub.status.busy": "2021-08-14T11:30:08.373009Z",
     "iopub.status.idle": "2021-08-14T11:30:08.422228Z",
     "shell.execute_reply": "2021-08-14T11:30:08.423582Z"
    },
    "papermill": {
     "duration": 0.079418,
     "end_time": "2021-08-14T11:30:08.423991",
     "exception": false,
     "start_time": "2021-08-14T11:30:08.344573",
     "status": "completed"
    },
    "tags": []
   },
   "outputs": [],
   "source": [
    "timestamps = pd.read_sql(\"select distinct record_time from EBAY_TOP_BERLIN order by record_time desc limit 2\", sqlite3.connect(\"UsedObjects.db\"))"
   ]
  },
  {
   "cell_type": "code",
   "execution_count": 3,
   "id": "periodic-identification",
   "metadata": {
    "execution": {
     "iopub.execute_input": "2021-08-14T11:30:08.488181Z",
     "iopub.status.busy": "2021-08-14T11:30:08.486148Z",
     "iopub.status.idle": "2021-08-14T11:30:08.506247Z",
     "shell.execute_reply": "2021-08-14T11:30:08.507594Z"
    },
    "papermill": {
     "duration": 0.065079,
     "end_time": "2021-08-14T11:30:08.507994",
     "exception": false,
     "start_time": "2021-08-14T11:30:08.442915",
     "status": "completed"
    },
    "tags": []
   },
   "outputs": [
    {
     "data": {
      "text/html": [
       "<div>\n",
       "<style scoped>\n",
       "    .dataframe tbody tr th:only-of-type {\n",
       "        vertical-align: middle;\n",
       "    }\n",
       "\n",
       "    .dataframe tbody tr th {\n",
       "        vertical-align: top;\n",
       "    }\n",
       "\n",
       "    .dataframe thead th {\n",
       "        text-align: right;\n",
       "    }\n",
       "</style>\n",
       "<table border=\"1\" class=\"dataframe\">\n",
       "  <thead>\n",
       "    <tr style=\"text-align: right;\">\n",
       "      <th></th>\n",
       "      <th>RECORD_TIME</th>\n",
       "    </tr>\n",
       "  </thead>\n",
       "  <tbody>\n",
       "    <tr>\n",
       "      <th>0</th>\n",
       "      <td>2021-08-14 13:30</td>\n",
       "    </tr>\n",
       "    <tr>\n",
       "      <th>1</th>\n",
       "      <td>2021-08-14 13:00</td>\n",
       "    </tr>\n",
       "  </tbody>\n",
       "</table>\n",
       "</div>"
      ],
      "text/plain": [
       "        RECORD_TIME\n",
       "0  2021-08-14 13:30\n",
       "1  2021-08-14 13:00"
      ]
     },
     "execution_count": 3,
     "metadata": {},
     "output_type": "execute_result"
    }
   ],
   "source": [
    "timestamps"
   ]
  },
  {
   "cell_type": "code",
   "execution_count": 4,
   "id": "alternate-victory",
   "metadata": {
    "execution": {
     "iopub.execute_input": "2021-08-14T11:30:08.560138Z",
     "iopub.status.busy": "2021-08-14T11:30:08.557948Z",
     "iopub.status.idle": "2021-08-14T11:30:08.631327Z",
     "shell.execute_reply": "2021-08-14T11:30:08.632678Z"
    },
    "papermill": {
     "duration": 0.103648,
     "end_time": "2021-08-14T11:30:08.633095",
     "exception": false,
     "start_time": "2021-08-14T11:30:08.529447",
     "status": "completed"
    },
    "tags": []
   },
   "outputs": [],
   "source": [
    "df = pd.read_sql(\"select * from EBAY_TOP_BERLIN where record_time in (select distinct record_time from EBAY_TOP_BERLIN order by record_time desc limit 2)\", sqlite3.connect(\"UsedObjects.db\"))"
   ]
  },
  {
   "cell_type": "code",
   "execution_count": 5,
   "id": "popular-active",
   "metadata": {
    "execution": {
     "iopub.execute_input": "2021-08-14T11:30:08.697580Z",
     "iopub.status.busy": "2021-08-14T11:30:08.691360Z",
     "iopub.status.idle": "2021-08-14T11:30:08.719191Z",
     "shell.execute_reply": "2021-08-14T11:30:08.720395Z"
    },
    "papermill": {
     "duration": 0.067513,
     "end_time": "2021-08-14T11:30:08.720781",
     "exception": false,
     "start_time": "2021-08-14T11:30:08.653268",
     "status": "completed"
    },
    "tags": []
   },
   "outputs": [],
   "source": [
    "df_pivot = df.pivot_table(index=\"PRODUCT\", columns = \"RECORD_TIME\", values = \"LISTING_COUNT\")"
   ]
  },
  {
   "cell_type": "code",
   "execution_count": 6,
   "id": "union-huntington",
   "metadata": {
    "execution": {
     "iopub.execute_input": "2021-08-14T11:30:08.781534Z",
     "iopub.status.busy": "2021-08-14T11:30:08.779069Z",
     "iopub.status.idle": "2021-08-14T11:30:08.785144Z",
     "shell.execute_reply": "2021-08-14T11:30:08.786569Z"
    },
    "papermill": {
     "duration": 0.043094,
     "end_time": "2021-08-14T11:30:08.787012",
     "exception": false,
     "start_time": "2021-08-14T11:30:08.743918",
     "status": "completed"
    },
    "tags": []
   },
   "outputs": [],
   "source": [
    "df_pivot.columns = [\"stamp_1\", \"stamp_2\"]\n",
    "df_pivot_diff = df_pivot.diff(axis=1)"
   ]
  },
  {
   "cell_type": "code",
   "execution_count": 7,
   "id": "fifth-motion",
   "metadata": {
    "execution": {
     "iopub.execute_input": "2021-08-14T11:30:08.841712Z",
     "iopub.status.busy": "2021-08-14T11:30:08.839387Z",
     "iopub.status.idle": "2021-08-14T11:30:10.325259Z",
     "shell.execute_reply": "2021-08-14T11:30:10.326696Z"
    },
    "papermill": {
     "duration": 1.518691,
     "end_time": "2021-08-14T11:30:10.327138",
     "exception": false,
     "start_time": "2021-08-14T11:30:08.808447",
     "status": "completed"
    },
    "tags": []
   },
   "outputs": [
    {
     "data": {
      "text/plain": [
       "<AxesSubplot:ylabel='PRODUCT'>"
      ]
     },
     "execution_count": 7,
     "metadata": {},
     "output_type": "execute_result"
    },
    {
     "data": {
      "image/png": "[encoded data removed]",
      "text/plain": [
       "<Figure size 432x288 with 1 Axes>"
      ]
     },
     "metadata": {
      "needs_background": "light"
     },
     "output_type": "display_data"
    }
   ],
   "source": [
    "df_pivot_diff.sort_values(\"stamp_2\", ascending = False)[\"stamp_2\"].head(10).plot.barh()"
   ]
  },
  {
   "cell_type": "code",
   "execution_count": null,
   "id": "extra-executive",
   "metadata": {
    "papermill": {
     "duration": 0.022273,
     "end_time": "2021-08-14T11:30:10.374037",
     "exception": false,
     "start_time": "2021-08-14T11:30:10.351764",
     "status": "completed"
    },
    "tags": []
   },
   "outputs": [],
   "source": []
  }
 ],
 "metadata": {
  "kernelspec": {
   "display_name": "Python 3",
   "language": "python",
   "name": "python3"
  },
  "language_info": {
   "codemirror_mode": {
    "name": "ipython",
    "version": 3
   },
   "file_extension": ".py",
   "mimetype": "text/x-python",
   "name": "python",
   "nbconvert_exporter": "python",
   "pygments_lexer": "ipython3",
   "version": "3.9.5"
  },
  "papermill": {
   "default_parameters": {},
   "duration": 6.832175,
   "end_time": "2021-08-14T11:30:11.869300",
   "environment_variables": {},
   "exception": null,
   "input_path": "eBay_Overview.ipynb",
   "output_path": "eBay_Overview.ipynb",
   "parameters": {},
   "start_time": "2021-08-14T11:30:05.037125",
   "version": "2.3.3"
  }
 },
 "nbformat": 4,
 "nbformat_minor": 5
}