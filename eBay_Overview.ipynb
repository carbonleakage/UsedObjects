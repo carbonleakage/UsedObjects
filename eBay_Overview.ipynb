{
 "cells": [
  {
   "cell_type": "code",
   "execution_count": 1,
   "id": "reverse-picking",
   "metadata": {
    "execution": {
     "iopub.execute_input": "2021-12-14T14:00:07.667731Z",
     "iopub.status.busy": "2021-12-14T14:00:07.665540Z",
     "iopub.status.idle": "2021-12-14T14:00:08.619113Z",
     "shell.execute_reply": "2021-12-14T14:00:08.620731Z"
    },
    "papermill": {
     "duration": 1.003268,
     "end_time": "2021-12-14T14:00:08.621502",
     "exception": false,
     "start_time": "2021-12-14T14:00:07.618234",
     "status": "completed"
    },
    "tags": []
   },
   "outputs": [],
   "source": [
    "import pandas as pd\n",
    "import sqlite3"
   ]
  },
  {
   "cell_type": "code",
   "execution_count": 2,
   "id": "innovative-syndrome",
   "metadata": {
    "execution": {
     "iopub.execute_input": "2021-12-14T14:00:08.690167Z",
     "iopub.status.busy": "2021-12-14T14:00:08.687603Z",
     "iopub.status.idle": "2021-12-14T14:00:09.779025Z",
     "shell.execute_reply": "2021-12-14T14:00:09.781758Z"
    },
    "papermill": {
     "duration": 1.127829,
     "end_time": "2021-12-14T14:00:09.782355",
     "exception": false,
     "start_time": "2021-12-14T14:00:08.654526",
     "status": "completed"
    },
    "tags": []
   },
   "outputs": [],
   "source": [
    "timestamps = pd.read_sql(\"select distinct record_time from EBAY_TOP_BERLIN order by record_time desc limit 2\", sqlite3.connect(\"UsedObjects.db\"))"
   ]
  },
  {
   "cell_type": "code",
   "execution_count": 3,
   "id": "periodic-identification",
   "metadata": {
    "execution": {
     "iopub.execute_input": "2021-12-14T14:00:09.855669Z",
     "iopub.status.busy": "2021-12-14T14:00:09.853269Z",
     "iopub.status.idle": "2021-12-14T14:00:09.878737Z",
     "shell.execute_reply": "2021-12-14T14:00:09.880240Z"
    },
    "papermill": {
     "duration": 0.077556,
     "end_time": "2021-12-14T14:00:09.880877",
     "exception": false,
     "start_time": "2021-12-14T14:00:09.803321",
     "status": "completed"
    },
    "tags": []
   },
   "outputs": [
    {
     "data": {
      "text/html": [
       "<div>\n",
       "<style scoped>\n",
       "    .dataframe tbody tr th:only-of-type {\n",
       "        vertical-align: middle;\n",
       "    }\n",
       "\n",
       "    .dataframe tbody tr th {\n",
       "        vertical-align: top;\n",
       "    }\n",
       "\n",
       "    .dataframe thead th {\n",
       "        text-align: right;\n",
       "    }\n",
       "</style>\n",
       "<table border=\"1\" class=\"dataframe\">\n",
       "  <thead>\n",
       "    <tr style=\"text-align: right;\">\n",
       "      <th></th>\n",
       "      <th>RECORD_TIME</th>\n",
       "    </tr>\n",
       "  </thead>\n",
       "  <tbody>\n",
       "    <tr>\n",
       "      <th>0</th>\n",
       "      <td>2021-12-14 15:00</td>\n",
       "    </tr>\n",
       "    <tr>\n",
       "      <th>1</th>\n",
       "      <td>2021-12-14 14:30</td>\n",
       "    </tr>\n",
       "  </tbody>\n",
       "</table>\n",
       "</div>"
      ],
      "text/plain": [
       "        RECORD_TIME\n",
       "0  2021-12-14 15:00\n",
       "1  2021-12-14 14:30"
      ]
     },
     "execution_count": 3,
     "metadata": {},
     "output_type": "execute_result"
    }
   ],
   "source": [
    "timestamps"
   ]
  },
  {
   "cell_type": "code",
   "execution_count": 4,
   "id": "alternate-victory",
   "metadata": {
    "execution": {
     "iopub.execute_input": "2021-12-14T14:00:09.938238Z",
     "iopub.status.busy": "2021-12-14T14:00:09.935877Z",
     "iopub.status.idle": "2021-12-14T14:00:11.480447Z",
     "shell.execute_reply": "2021-12-14T14:00:11.482112Z"
    },
    "papermill": {
     "duration": 1.580254,
     "end_time": "2021-12-14T14:00:11.482625",
     "exception": false,
     "start_time": "2021-12-14T14:00:09.902371",
     "status": "completed"
    },
    "tags": []
   },
   "outputs": [],
   "source": [
    "df = pd.read_sql(\"select * from EBAY_TOP_BERLIN where record_time in (select distinct record_time from EBAY_TOP_BERLIN order by record_time desc limit 2)\", sqlite3.connect(\"UsedObjects.db\"))"
   ]
  },
  {
   "cell_type": "code",
   "execution_count": 5,
   "id": "popular-active",
   "metadata": {
    "execution": {
     "iopub.execute_input": "2021-12-14T14:00:11.562367Z",
     "iopub.status.busy": "2021-12-14T14:00:11.548550Z",
     "iopub.status.idle": "2021-12-14T14:00:11.579872Z",
     "shell.execute_reply": "2021-12-14T14:00:11.581413Z"
    },
    "papermill": {
     "duration": 0.076835,
     "end_time": "2021-12-14T14:00:11.581899",
     "exception": false,
     "start_time": "2021-12-14T14:00:11.505064",
     "status": "completed"
    },
    "tags": []
   },
   "outputs": [],
   "source": [
    "df_pivot = df.pivot_table(index=\"PRODUCT\", columns = \"RECORD_TIME\", values = \"LISTING_COUNT\")"
   ]
  },
  {
   "cell_type": "code",
   "execution_count": 6,
   "id": "union-huntington",
   "metadata": {
    "execution": {
     "iopub.execute_input": "2021-12-14T14:00:11.640334Z",
     "iopub.status.busy": "2021-12-14T14:00:11.638137Z",
     "iopub.status.idle": "2021-12-14T14:00:11.645178Z",
     "shell.execute_reply": "2021-12-14T14:00:11.643554Z"
    },
    "papermill": {
     "duration": 0.043599,
     "end_time": "2021-12-14T14:00:11.645590",
     "exception": false,
     "start_time": "2021-12-14T14:00:11.601991",
     "status": "completed"
    },
    "tags": []
   },
   "outputs": [],
   "source": [
    "df_pivot.columns = [\"stamp_1\", \"stamp_2\"]\n",
    "df_pivot_diff = df_pivot.diff(axis=1)"
   ]
  },
  {
   "cell_type": "code",
   "execution_count": 7,
   "id": "fifth-motion",
   "metadata": {
    "execution": {
     "iopub.execute_input": "2021-12-14T14:00:11.706950Z",
     "iopub.status.busy": "2021-12-14T14:00:11.704257Z",
     "iopub.status.idle": "2021-12-14T14:00:13.654754Z",
     "shell.execute_reply": "2021-12-14T14:00:13.657495Z"
    },
    "papermill": {
     "duration": 1.992553,
     "end_time": "2021-12-14T14:00:13.658364",
     "exception": false,
     "start_time": "2021-12-14T14:00:11.665811",
     "status": "completed"
    },
    "tags": []
   },
   "outputs": [
    {
     "data": {
      "text/plain": [
       "<AxesSubplot:ylabel='PRODUCT'>"
      ]
     },
     "execution_count": 7,
     "metadata": {},
     "output_type": "execute_result"
    },
    {
     "data": {
      "image/png": "[encoded data removed]",
      "text/plain": [
       "<Figure size 432x288 with 1 Axes>"
      ]
     },
     "metadata": {
      "needs_background": "light"
     },
     "output_type": "display_data"
    }
   ],
   "source": [
    "df_pivot_diff.sort_values(\"stamp_2\", ascending = False)[\"stamp_2\"].head(10).plot.barh()"
   ]
  },
  {
   "cell_type": "code",
   "execution_count": null,
   "id": "extra-executive",
   "metadata": {
    "papermill": {
     "duration": 0.029795,
     "end_time": "2021-12-14T14:00:13.730934",
     "exception": false,
     "start_time": "2021-12-14T14:00:13.701139",
     "status": "completed"
    },
    "tags": []
   },
   "outputs": [],
   "source": []
  }
 ],
 "metadata": {
  "kernelspec": {
   "display_name": "Python 3",
   "language": "python",
   "name": "python3"
  },
  "language_info": {
   "codemirror_mode": {
    "name": "ipython",
    "version": 3
   },
   "file_extension": ".py",
   "mimetype": "text/x-python",
   "name": "python",
   "nbconvert_exporter": "python",
   "pygments_lexer": "ipython3",
   "version": "3.9.5"
  },
  "papermill": {
   "default_parameters": {},
   "duration": 9.644013,
   "end_time": "2021-12-14T14:00:14.491341",
   "environment_variables": {},
   "exception": null,
   "input_path": "eBay_Overview.ipynb",
   "output_path": "eBay_Overview.ipynb",
   "parameters": {},
   "start_time": "2021-12-14T14:00:04.847328",
   "version": "2.3.3"
  }
 },
 "nbformat": 4,
 "nbformat_minor": 5
}