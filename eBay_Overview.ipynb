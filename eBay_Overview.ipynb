{
 "cells": [
  {
   "cell_type": "code",
   "execution_count": 1,
   "id": "reverse-picking",
   "metadata": {
    "execution": {
     "iopub.execute_input": "2021-09-28T09:30:07.213145Z",
     "iopub.status.busy": "2021-09-28T09:30:07.211211Z",
     "iopub.status.idle": "2021-09-28T09:30:08.020214Z",
     "shell.execute_reply": "2021-09-28T09:30:08.021446Z"
    },
    "papermill": {
     "duration": 0.862819,
     "end_time": "2021-09-28T09:30:08.022048",
     "exception": false,
     "start_time": "2021-09-28T09:30:07.159229",
     "status": "completed"
    },
    "tags": []
   },
   "outputs": [],
   "source": [
    "import pandas as pd\n",
    "import sqlite3"
   ]
  },
  {
   "cell_type": "code",
   "execution_count": 2,
   "id": "innovative-syndrome",
   "metadata": {
    "execution": {
     "iopub.execute_input": "2021-09-28T09:30:08.075862Z",
     "iopub.status.busy": "2021-09-28T09:30:08.073484Z",
     "iopub.status.idle": "2021-09-28T09:30:08.475848Z",
     "shell.execute_reply": "2021-09-28T09:30:08.477101Z"
    },
    "papermill": {
     "duration": 0.432442,
     "end_time": "2021-09-28T09:30:08.477491",
     "exception": false,
     "start_time": "2021-09-28T09:30:08.045049",
     "status": "completed"
    },
    "tags": []
   },
   "outputs": [],
   "source": [
    "timestamps = pd.read_sql(\"select distinct record_time from EBAY_TOP_BERLIN order by record_time desc limit 2\", sqlite3.connect(\"UsedObjects.db\"))"
   ]
  },
  {
   "cell_type": "code",
   "execution_count": 3,
   "id": "periodic-identification",
   "metadata": {
    "execution": {
     "iopub.execute_input": "2021-09-28T09:30:08.541816Z",
     "iopub.status.busy": "2021-09-28T09:30:08.539777Z",
     "iopub.status.idle": "2021-09-28T09:30:08.560142Z",
     "shell.execute_reply": "2021-09-28T09:30:08.561537Z"
    },
    "papermill": {
     "duration": 0.065115,
     "end_time": "2021-09-28T09:30:08.561965",
     "exception": false,
     "start_time": "2021-09-28T09:30:08.496850",
     "status": "completed"
    },
    "tags": []
   },
   "outputs": [
    {
     "data": {
      "text/html": [
       "<div>\n",
       "<style scoped>\n",
       "    .dataframe tbody tr th:only-of-type {\n",
       "        vertical-align: middle;\n",
       "    }\n",
       "\n",
       "    .dataframe tbody tr th {\n",
       "        vertical-align: top;\n",
       "    }\n",
       "\n",
       "    .dataframe thead th {\n",
       "        text-align: right;\n",
       "    }\n",
       "</style>\n",
       "<table border=\"1\" class=\"dataframe\">\n",
       "  <thead>\n",
       "    <tr style=\"text-align: right;\">\n",
       "      <th></th>\n",
       "      <th>RECORD_TIME</th>\n",
       "    </tr>\n",
       "  </thead>\n",
       "  <tbody>\n",
       "    <tr>\n",
       "      <th>0</th>\n",
       "      <td>2021-09-28 11:30</td>\n",
       "    </tr>\n",
       "    <tr>\n",
       "      <th>1</th>\n",
       "      <td>2021-09-28 11:00</td>\n",
       "    </tr>\n",
       "  </tbody>\n",
       "</table>\n",
       "</div>"
      ],
      "text/plain": [
       "        RECORD_TIME\n",
       "0  2021-09-28 11:30\n",
       "1  2021-09-28 11:00"
      ]
     },
     "execution_count": 3,
     "metadata": {},
     "output_type": "execute_result"
    }
   ],
   "source": [
    "timestamps"
   ]
  },
  {
   "cell_type": "code",
   "execution_count": 4,
   "id": "alternate-victory",
   "metadata": {
    "execution": {
     "iopub.execute_input": "2021-09-28T09:30:08.613456Z",
     "iopub.status.busy": "2021-09-28T09:30:08.611621Z",
     "iopub.status.idle": "2021-09-28T09:30:09.194672Z",
     "shell.execute_reply": "2021-09-28T09:30:09.196044Z"
    },
    "papermill": {
     "duration": 0.613066,
     "end_time": "2021-09-28T09:30:09.196451",
     "exception": false,
     "start_time": "2021-09-28T09:30:08.583385",
     "status": "completed"
    },
    "tags": []
   },
   "outputs": [],
   "source": [
    "df = pd.read_sql(\"select * from EBAY_TOP_BERLIN where record_time in (select distinct record_time from EBAY_TOP_BERLIN order by record_time desc limit 2)\", sqlite3.connect(\"UsedObjects.db\"))"
   ]
  },
  {
   "cell_type": "code",
   "execution_count": 5,
   "id": "popular-active",
   "metadata": {
    "execution": {
     "iopub.execute_input": "2021-09-28T09:30:09.278866Z",
     "iopub.status.busy": "2021-09-28T09:30:09.267262Z",
     "iopub.status.idle": "2021-09-28T09:30:09.296430Z",
     "shell.execute_reply": "2021-09-28T09:30:09.297790Z"
    },
    "papermill": {
     "duration": 0.074738,
     "end_time": "2021-09-28T09:30:09.298218",
     "exception": false,
     "start_time": "2021-09-28T09:30:09.223480",
     "status": "completed"
    },
    "tags": []
   },
   "outputs": [],
   "source": [
    "df_pivot = df.pivot_table(index=\"PRODUCT\", columns = \"RECORD_TIME\", values = \"LISTING_COUNT\")"
   ]
  },
  {
   "cell_type": "code",
   "execution_count": 6,
   "id": "union-huntington",
   "metadata": {
    "execution": {
     "iopub.execute_input": "2021-09-28T09:30:09.355346Z",
     "iopub.status.busy": "2021-09-28T09:30:09.353280Z",
     "iopub.status.idle": "2021-09-28T09:30:09.358616Z",
     "shell.execute_reply": "2021-09-28T09:30:09.359954Z"
    },
    "papermill": {
     "duration": 0.041049,
     "end_time": "2021-09-28T09:30:09.360364",
     "exception": false,
     "start_time": "2021-09-28T09:30:09.319315",
     "status": "completed"
    },
    "tags": []
   },
   "outputs": [],
   "source": [
    "df_pivot.columns = [\"stamp_1\", \"stamp_2\"]\n",
    "df_pivot_diff = df_pivot.diff(axis=1)"
   ]
  },
  {
   "cell_type": "code",
   "execution_count": 7,
   "id": "fifth-motion",
   "metadata": {
    "execution": {
     "iopub.execute_input": "2021-09-28T09:30:09.415114Z",
     "iopub.status.busy": "2021-09-28T09:30:09.412683Z",
     "iopub.status.idle": "2021-09-28T09:30:10.893818Z",
     "shell.execute_reply": "2021-09-28T09:30:10.895372Z"
    },
    "papermill": {
     "duration": 1.514232,
     "end_time": "2021-09-28T09:30:10.895836",
     "exception": false,
     "start_time": "2021-09-28T09:30:09.381604",
     "status": "completed"
    },
    "tags": []
   },
   "outputs": [
    {
     "data": {
      "text/plain": [
       "<AxesSubplot:ylabel='PRODUCT'>"
      ]
     },
     "execution_count": 7,
     "metadata": {},
     "output_type": "execute_result"
    },
    {
     "data": {
      "image/png": "[encoded data removed]",
      "text/plain": [
       "<Figure size 432x288 with 1 Axes>"
      ]
     },
     "metadata": {
      "needs_background": "light"
     },
     "output_type": "display_data"
    }
   ],
   "source": [
    "df_pivot_diff.sort_values(\"stamp_2\", ascending = False)[\"stamp_2\"].head(10).plot.barh()"
   ]
  },
  {
   "cell_type": "code",
   "execution_count": null,
   "id": "extra-executive",
   "metadata": {
    "papermill": {
     "duration": 0.022415,
     "end_time": "2021-09-28T09:30:10.945014",
     "exception": false,
     "start_time": "2021-09-28T09:30:10.922599",
     "status": "completed"
    },
    "tags": []
   },
   "outputs": [],
   "source": []
  }
 ],
 "metadata": {
  "kernelspec": {
   "display_name": "Python 3",
   "language": "python",
   "name": "python3"
  },
  "language_info": {
   "codemirror_mode": {
    "name": "ipython",
    "version": 3
   },
   "file_extension": ".py",
   "mimetype": "text/x-python",
   "name": "python",
   "nbconvert_exporter": "python",
   "pygments_lexer": "ipython3",
   "version": "3.9.5"
  },
  "papermill": {
   "default_parameters": {},
   "duration": 7.836815,
   "end_time": "2021-09-28T09:30:12.577898",
   "environment_variables": {},
   "exception": null,
   "input_path": "eBay_Overview.ipynb",
   "output_path": "eBay_Overview.ipynb",
   "parameters": {},
   "start_time": "2021-09-28T09:30:04.741083",
   "version": "2.3.3"
  }
 },
 "nbformat": 4,
 "nbformat_minor": 5
}