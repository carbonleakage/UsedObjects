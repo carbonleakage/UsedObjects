{
 "cells": [
  {
   "cell_type": "code",
   "execution_count": 1,
   "id": "reverse-picking",
   "metadata": {
    "execution": {
     "iopub.execute_input": "2021-08-27T20:30:07.283596Z",
     "iopub.status.busy": "2021-08-27T20:30:07.281670Z",
     "iopub.status.idle": "2021-08-27T20:30:08.084621Z",
     "shell.execute_reply": "2021-08-27T20:30:08.085982Z"
    },
    "papermill": {
     "duration": 0.85348,
     "end_time": "2021-08-27T20:30:08.086642",
     "exception": false,
     "start_time": "2021-08-27T20:30:07.233162",
     "status": "completed"
    },
    "tags": []
   },
   "outputs": [],
   "source": [
    "import pandas as pd\n",
    "import sqlite3"
   ]
  },
  {
   "cell_type": "code",
   "execution_count": 2,
   "id": "innovative-syndrome",
   "metadata": {
    "execution": {
     "iopub.execute_input": "2021-08-27T20:30:08.138826Z",
     "iopub.status.busy": "2021-08-27T20:30:08.136964Z",
     "iopub.status.idle": "2021-08-27T20:30:08.284560Z",
     "shell.execute_reply": "2021-08-27T20:30:08.285869Z"
    },
    "papermill": {
     "duration": 0.177468,
     "end_time": "2021-08-27T20:30:08.286331",
     "exception": false,
     "start_time": "2021-08-27T20:30:08.108863",
     "status": "completed"
    },
    "tags": []
   },
   "outputs": [],
   "source": [
    "timestamps = pd.read_sql(\"select distinct record_time from EBAY_TOP_BERLIN order by record_time desc limit 2\", sqlite3.connect(\"UsedObjects.db\"))"
   ]
  },
  {
   "cell_type": "code",
   "execution_count": 3,
   "id": "periodic-identification",
   "metadata": {
    "execution": {
     "iopub.execute_input": "2021-08-27T20:30:08.353417Z",
     "iopub.status.busy": "2021-08-27T20:30:08.351341Z",
     "iopub.status.idle": "2021-08-27T20:30:08.371064Z",
     "shell.execute_reply": "2021-08-27T20:30:08.372532Z"
    },
    "papermill": {
     "duration": 0.066724,
     "end_time": "2021-08-27T20:30:08.373028",
     "exception": false,
     "start_time": "2021-08-27T20:30:08.306304",
     "status": "completed"
    },
    "tags": []
   },
   "outputs": [
    {
     "data": {
      "text/html": [
       "<div>\n",
       "<style scoped>\n",
       "    .dataframe tbody tr th:only-of-type {\n",
       "        vertical-align: middle;\n",
       "    }\n",
       "\n",
       "    .dataframe tbody tr th {\n",
       "        vertical-align: top;\n",
       "    }\n",
       "\n",
       "    .dataframe thead th {\n",
       "        text-align: right;\n",
       "    }\n",
       "</style>\n",
       "<table border=\"1\" class=\"dataframe\">\n",
       "  <thead>\n",
       "    <tr style=\"text-align: right;\">\n",
       "      <th></th>\n",
       "      <th>RECORD_TIME</th>\n",
       "    </tr>\n",
       "  </thead>\n",
       "  <tbody>\n",
       "    <tr>\n",
       "      <th>0</th>\n",
       "      <td>2021-08-27 22:30</td>\n",
       "    </tr>\n",
       "    <tr>\n",
       "      <th>1</th>\n",
       "      <td>2021-08-27 22:00</td>\n",
       "    </tr>\n",
       "  </tbody>\n",
       "</table>\n",
       "</div>"
      ],
      "text/plain": [
       "        RECORD_TIME\n",
       "0  2021-08-27 22:30\n",
       "1  2021-08-27 22:00"
      ]
     },
     "execution_count": 3,
     "metadata": {},
     "output_type": "execute_result"
    }
   ],
   "source": [
    "timestamps"
   ]
  },
  {
   "cell_type": "code",
   "execution_count": 4,
   "id": "alternate-victory",
   "metadata": {
    "execution": {
     "iopub.execute_input": "2021-08-27T20:30:08.424770Z",
     "iopub.status.busy": "2021-08-27T20:30:08.422784Z",
     "iopub.status.idle": "2021-08-27T20:30:08.646574Z",
     "shell.execute_reply": "2021-08-27T20:30:08.647794Z"
    },
    "papermill": {
     "duration": 0.25368,
     "end_time": "2021-08-27T20:30:08.648193",
     "exception": false,
     "start_time": "2021-08-27T20:30:08.394513",
     "status": "completed"
    },
    "tags": []
   },
   "outputs": [],
   "source": [
    "df = pd.read_sql(\"select * from EBAY_TOP_BERLIN where record_time in (select distinct record_time from EBAY_TOP_BERLIN order by record_time desc limit 2)\", sqlite3.connect(\"UsedObjects.db\"))"
   ]
  },
  {
   "cell_type": "code",
   "execution_count": 5,
   "id": "popular-active",
   "metadata": {
    "execution": {
     "iopub.execute_input": "2021-08-27T20:30:08.719603Z",
     "iopub.status.busy": "2021-08-27T20:30:08.707214Z",
     "iopub.status.idle": "2021-08-27T20:30:08.735210Z",
     "shell.execute_reply": "2021-08-27T20:30:08.736564Z"
    },
    "papermill": {
     "duration": 0.067347,
     "end_time": "2021-08-27T20:30:08.736989",
     "exception": false,
     "start_time": "2021-08-27T20:30:08.669642",
     "status": "completed"
    },
    "tags": []
   },
   "outputs": [],
   "source": [
    "df_pivot = df.pivot_table(index=\"PRODUCT\", columns = \"RECORD_TIME\", values = \"LISTING_COUNT\")"
   ]
  },
  {
   "cell_type": "code",
   "execution_count": 6,
   "id": "union-huntington",
   "metadata": {
    "execution": {
     "iopub.execute_input": "2021-08-27T20:30:08.812135Z",
     "iopub.status.busy": "2021-08-27T20:30:08.809866Z",
     "iopub.status.idle": "2021-08-27T20:30:08.815510Z",
     "shell.execute_reply": "2021-08-27T20:30:08.816876Z"
    },
    "papermill": {
     "duration": 0.04829,
     "end_time": "2021-08-27T20:30:08.817311",
     "exception": false,
     "start_time": "2021-08-27T20:30:08.769021",
     "status": "completed"
    },
    "tags": []
   },
   "outputs": [],
   "source": [
    "df_pivot.columns = [\"stamp_1\", \"stamp_2\"]\n",
    "df_pivot_diff = df_pivot.diff(axis=1)"
   ]
  },
  {
   "cell_type": "code",
   "execution_count": 7,
   "id": "fifth-motion",
   "metadata": {
    "execution": {
     "iopub.execute_input": "2021-08-27T20:30:08.871176Z",
     "iopub.status.busy": "2021-08-27T20:30:08.868910Z",
     "iopub.status.idle": "2021-08-27T20:30:10.344609Z",
     "shell.execute_reply": "2021-08-27T20:30:10.346260Z"
    },
    "papermill": {
     "duration": 1.509466,
     "end_time": "2021-08-27T20:30:10.346768",
     "exception": false,
     "start_time": "2021-08-27T20:30:08.837302",
     "status": "completed"
    },
    "tags": []
   },
   "outputs": [
    {
     "data": {
      "text/plain": [
       "<AxesSubplot:ylabel='PRODUCT'>"
      ]
     },
     "execution_count": 7,
     "metadata": {},
     "output_type": "execute_result"
    },
    {
     "data": {
      "image/png": "[encoded data removed]",
      "text/plain": [
       "<Figure size 432x288 with 1 Axes>"
      ]
     },
     "metadata": {
      "needs_background": "light"
     },
     "output_type": "display_data"
    }
   ],
   "source": [
    "df_pivot_diff.sort_values(\"stamp_2\", ascending = False)[\"stamp_2\"].head(10).plot.barh()"
   ]
  },
  {
   "cell_type": "code",
   "execution_count": null,
   "id": "extra-executive",
   "metadata": {
    "papermill": {
     "duration": 0.022298,
     "end_time": "2021-08-27T20:30:10.393516",
     "exception": false,
     "start_time": "2021-08-27T20:30:10.371218",
     "status": "completed"
    },
    "tags": []
   },
   "outputs": [],
   "source": []
  }
 ],
 "metadata": {
  "kernelspec": {
   "display_name": "Python 3",
   "language": "python",
   "name": "python3"
  },
  "language_info": {
   "codemirror_mode": {
    "name": "ipython",
    "version": 3
   },
   "file_extension": ".py",
   "mimetype": "text/x-python",
   "name": "python",
   "nbconvert_exporter": "python",
   "pygments_lexer": "ipython3",
   "version": "3.9.5"
  },
  "papermill": {
   "default_parameters": {},
   "duration": 6.8281,
   "end_time": "2021-08-27T20:30:11.664916",
   "environment_variables": {},
   "exception": null,
   "input_path": "eBay_Overview.ipynb",
   "output_path": "eBay_Overview.ipynb",
   "parameters": {},
   "start_time": "2021-08-27T20:30:04.836816",
   "version": "2.3.3"
  }
 },
 "nbformat": 4,
 "nbformat_minor": 5
}