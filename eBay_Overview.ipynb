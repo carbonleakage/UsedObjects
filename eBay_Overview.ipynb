{
 "cells": [
  {
   "cell_type": "code",
   "execution_count": 1,
   "id": "reverse-picking",
   "metadata": {
    "execution": {
     "iopub.execute_input": "2021-12-20T15:30:07.972801Z",
     "iopub.status.busy": "2021-12-20T15:30:07.970330Z",
     "iopub.status.idle": "2021-12-20T15:30:08.924777Z",
     "shell.execute_reply": "2021-12-20T15:30:08.926966Z"
    },
    "papermill": {
     "duration": 1.006133,
     "end_time": "2021-12-20T15:30:08.927706",
     "exception": false,
     "start_time": "2021-12-20T15:30:07.921573",
     "status": "completed"
    },
    "tags": []
   },
   "outputs": [],
   "source": [
    "import pandas as pd\n",
    "import sqlite3"
   ]
  },
  {
   "cell_type": "code",
   "execution_count": 2,
   "id": "innovative-syndrome",
   "metadata": {
    "execution": {
     "iopub.execute_input": "2021-12-20T15:30:08.990493Z",
     "iopub.status.busy": "2021-12-20T15:30:08.988167Z",
     "iopub.status.idle": "2021-12-20T15:30:10.133944Z",
     "shell.execute_reply": "2021-12-20T15:30:10.135216Z"
    },
    "papermill": {
     "duration": 1.17953,
     "end_time": "2021-12-20T15:30:10.135614",
     "exception": false,
     "start_time": "2021-12-20T15:30:08.956084",
     "status": "completed"
    },
    "tags": []
   },
   "outputs": [],
   "source": [
    "timestamps = pd.read_sql(\"select distinct record_time from EBAY_TOP_BERLIN order by record_time desc limit 2\", sqlite3.connect(\"UsedObjects.db\"))"
   ]
  },
  {
   "cell_type": "code",
   "execution_count": 3,
   "id": "periodic-identification",
   "metadata": {
    "execution": {
     "iopub.execute_input": "2021-12-20T15:30:10.199014Z",
     "iopub.status.busy": "2021-12-20T15:30:10.196995Z",
     "iopub.status.idle": "2021-12-20T15:30:10.216525Z",
     "shell.execute_reply": "2021-12-20T15:30:10.218104Z"
    },
    "papermill": {
     "duration": 0.064077,
     "end_time": "2021-12-20T15:30:10.218753",
     "exception": false,
     "start_time": "2021-12-20T15:30:10.154676",
     "status": "completed"
    },
    "tags": []
   },
   "outputs": [
    {
     "data": {
      "text/html": [
       "<div>\n",
       "<style scoped>\n",
       "    .dataframe tbody tr th:only-of-type {\n",
       "        vertical-align: middle;\n",
       "    }\n",
       "\n",
       "    .dataframe tbody tr th {\n",
       "        vertical-align: top;\n",
       "    }\n",
       "\n",
       "    .dataframe thead th {\n",
       "        text-align: right;\n",
       "    }\n",
       "</style>\n",
       "<table border=\"1\" class=\"dataframe\">\n",
       "  <thead>\n",
       "    <tr style=\"text-align: right;\">\n",
       "      <th></th>\n",
       "      <th>RECORD_TIME</th>\n",
       "    </tr>\n",
       "  </thead>\n",
       "  <tbody>\n",
       "    <tr>\n",
       "      <th>0</th>\n",
       "      <td>2021-12-20 16:30</td>\n",
       "    </tr>\n",
       "    <tr>\n",
       "      <th>1</th>\n",
       "      <td>2021-12-20 16:00</td>\n",
       "    </tr>\n",
       "  </tbody>\n",
       "</table>\n",
       "</div>"
      ],
      "text/plain": [
       "        RECORD_TIME\n",
       "0  2021-12-20 16:30\n",
       "1  2021-12-20 16:00"
      ]
     },
     "execution_count": 3,
     "metadata": {},
     "output_type": "execute_result"
    }
   ],
   "source": [
    "timestamps"
   ]
  },
  {
   "cell_type": "code",
   "execution_count": 4,
   "id": "alternate-victory",
   "metadata": {
    "execution": {
     "iopub.execute_input": "2021-12-20T15:30:10.272054Z",
     "iopub.status.busy": "2021-12-20T15:30:10.270006Z",
     "iopub.status.idle": "2021-12-20T15:30:11.926664Z",
     "shell.execute_reply": "2021-12-20T15:30:11.929005Z"
    },
    "papermill": {
     "duration": 1.688241,
     "end_time": "2021-12-20T15:30:11.929509",
     "exception": false,
     "start_time": "2021-12-20T15:30:10.241268",
     "status": "completed"
    },
    "tags": []
   },
   "outputs": [],
   "source": [
    "df = pd.read_sql(\"select * from EBAY_TOP_BERLIN where record_time in (select distinct record_time from EBAY_TOP_BERLIN order by record_time desc limit 2)\", sqlite3.connect(\"UsedObjects.db\"))"
   ]
  },
  {
   "cell_type": "code",
   "execution_count": 5,
   "id": "popular-active",
   "metadata": {
    "execution": {
     "iopub.execute_input": "2021-12-20T15:30:12.004008Z",
     "iopub.status.busy": "2021-12-20T15:30:11.991563Z",
     "iopub.status.idle": "2021-12-20T15:30:12.023110Z",
     "shell.execute_reply": "2021-12-20T15:30:12.024502Z"
    },
    "papermill": {
     "duration": 0.073419,
     "end_time": "2021-12-20T15:30:12.025114",
     "exception": false,
     "start_time": "2021-12-20T15:30:11.951695",
     "status": "completed"
    },
    "tags": []
   },
   "outputs": [],
   "source": [
    "df_pivot = df.pivot_table(index=\"PRODUCT\", columns = \"RECORD_TIME\", values = \"LISTING_COUNT\")"
   ]
  },
  {
   "cell_type": "code",
   "execution_count": 6,
   "id": "union-huntington",
   "metadata": {
    "execution": {
     "iopub.execute_input": "2021-12-20T15:30:12.084261Z",
     "iopub.status.busy": "2021-12-20T15:30:12.081717Z",
     "iopub.status.idle": "2021-12-20T15:30:12.090822Z",
     "shell.execute_reply": "2021-12-20T15:30:12.088515Z"
    },
    "papermill": {
     "duration": 0.046501,
     "end_time": "2021-12-20T15:30:12.091275",
     "exception": false,
     "start_time": "2021-12-20T15:30:12.044774",
     "status": "completed"
    },
    "tags": []
   },
   "outputs": [],
   "source": [
    "df_pivot.columns = [\"stamp_1\", \"stamp_2\"]\n",
    "df_pivot_diff = df_pivot.diff(axis=1)"
   ]
  },
  {
   "cell_type": "code",
   "execution_count": 7,
   "id": "fifth-motion",
   "metadata": {
    "execution": {
     "iopub.execute_input": "2021-12-20T15:30:12.159594Z",
     "iopub.status.busy": "2021-12-20T15:30:12.146742Z",
     "iopub.status.idle": "2021-12-20T15:30:14.186666Z",
     "shell.execute_reply": "2021-12-20T15:30:14.187953Z"
    },
    "papermill": {
     "duration": 2.075314,
     "end_time": "2021-12-20T15:30:14.188379",
     "exception": false,
     "start_time": "2021-12-20T15:30:12.113065",
     "status": "completed"
    },
    "tags": []
   },
   "outputs": [
    {
     "data": {
      "text/plain": [
       "<AxesSubplot:ylabel='PRODUCT'>"
      ]
     },
     "execution_count": 7,
     "metadata": {},
     "output_type": "execute_result"
    },
    {
     "data": {
      "image/png": "[encoded data removed]",
      "text/plain": [
       "<Figure size 432x288 with 1 Axes>"
      ]
     },
     "metadata": {
      "needs_background": "light"
     },
     "output_type": "display_data"
    }
   ],
   "source": [
    "df_pivot_diff.sort_values(\"stamp_2\", ascending = False)[\"stamp_2\"].head(10).plot.barh()"
   ]
  },
  {
   "cell_type": "code",
   "execution_count": null,
   "id": "extra-executive",
   "metadata": {
    "papermill": {
     "duration": 0.021877,
     "end_time": "2021-12-20T15:30:14.234375",
     "exception": false,
     "start_time": "2021-12-20T15:30:14.212498",
     "status": "completed"
    },
    "tags": []
   },
   "outputs": [],
   "source": []
  }
 ],
 "metadata": {
  "kernelspec": {
   "display_name": "Python 3",
   "language": "python",
   "name": "python3"
  },
  "language_info": {
   "codemirror_mode": {
    "name": "ipython",
    "version": 3
   },
   "file_extension": ".py",
   "mimetype": "text/x-python",
   "name": "python",
   "nbconvert_exporter": "python",
   "pygments_lexer": "ipython3",
   "version": "3.9.5"
  },
  "papermill": {
   "default_parameters": {},
   "duration": 9.695219,
   "end_time": "2021-12-20T15:30:14.876996",
   "environment_variables": {},
   "exception": null,
   "input_path": "eBay_Overview.ipynb",
   "output_path": "eBay_Overview.ipynb",
   "parameters": {},
   "start_time": "2021-12-20T15:30:05.181777",
   "version": "2.3.3"
  }
 },
 "nbformat": 4,
 "nbformat_minor": 5
}