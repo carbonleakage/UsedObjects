{
 "cells": [
  {
   "cell_type": "code",
   "execution_count": 1,
   "id": "reverse-picking",
   "metadata": {
    "execution": {
     "iopub.execute_input": "2021-08-29T19:30:07.490185Z",
     "iopub.status.busy": "2021-08-29T19:30:07.488043Z",
     "iopub.status.idle": "2021-08-29T19:30:08.292911Z",
     "shell.execute_reply": "2021-08-29T19:30:08.294315Z"
    },
    "papermill": {
     "duration": 0.857579,
     "end_time": "2021-08-29T19:30:08.294966",
     "exception": false,
     "start_time": "2021-08-29T19:30:07.437387",
     "status": "completed"
    },
    "tags": []
   },
   "outputs": [],
   "source": [
    "import pandas as pd\n",
    "import sqlite3"
   ]
  },
  {
   "cell_type": "code",
   "execution_count": 2,
   "id": "innovative-syndrome",
   "metadata": {
    "execution": {
     "iopub.execute_input": "2021-08-29T19:30:08.345343Z",
     "iopub.status.busy": "2021-08-29T19:30:08.343362Z",
     "iopub.status.idle": "2021-08-29T19:30:08.500300Z",
     "shell.execute_reply": "2021-08-29T19:30:08.501726Z"
    },
    "papermill": {
     "duration": 0.186874,
     "end_time": "2021-08-29T19:30:08.502172",
     "exception": false,
     "start_time": "2021-08-29T19:30:08.315298",
     "status": "completed"
    },
    "tags": []
   },
   "outputs": [],
   "source": [
    "timestamps = pd.read_sql(\"select distinct record_time from EBAY_TOP_BERLIN order by record_time desc limit 2\", sqlite3.connect(\"UsedObjects.db\"))"
   ]
  },
  {
   "cell_type": "code",
   "execution_count": 3,
   "id": "periodic-identification",
   "metadata": {
    "execution": {
     "iopub.execute_input": "2021-08-29T19:30:08.565986Z",
     "iopub.status.busy": "2021-08-29T19:30:08.563875Z",
     "iopub.status.idle": "2021-08-29T19:30:08.584829Z",
     "shell.execute_reply": "2021-08-29T19:30:08.586098Z"
    },
    "papermill": {
     "duration": 0.065054,
     "end_time": "2021-08-29T19:30:08.586496",
     "exception": false,
     "start_time": "2021-08-29T19:30:08.521442",
     "status": "completed"
    },
    "tags": []
   },
   "outputs": [
    {
     "data": {
      "text/html": [
       "<div>\n",
       "<style scoped>\n",
       "    .dataframe tbody tr th:only-of-type {\n",
       "        vertical-align: middle;\n",
       "    }\n",
       "\n",
       "    .dataframe tbody tr th {\n",
       "        vertical-align: top;\n",
       "    }\n",
       "\n",
       "    .dataframe thead th {\n",
       "        text-align: right;\n",
       "    }\n",
       "</style>\n",
       "<table border=\"1\" class=\"dataframe\">\n",
       "  <thead>\n",
       "    <tr style=\"text-align: right;\">\n",
       "      <th></th>\n",
       "      <th>RECORD_TIME</th>\n",
       "    </tr>\n",
       "  </thead>\n",
       "  <tbody>\n",
       "    <tr>\n",
       "      <th>0</th>\n",
       "      <td>2021-08-29 21:30</td>\n",
       "    </tr>\n",
       "    <tr>\n",
       "      <th>1</th>\n",
       "      <td>2021-08-29 21:00</td>\n",
       "    </tr>\n",
       "  </tbody>\n",
       "</table>\n",
       "</div>"
      ],
      "text/plain": [
       "        RECORD_TIME\n",
       "0  2021-08-29 21:30\n",
       "1  2021-08-29 21:00"
      ]
     },
     "execution_count": 3,
     "metadata": {},
     "output_type": "execute_result"
    }
   ],
   "source": [
    "timestamps"
   ]
  },
  {
   "cell_type": "code",
   "execution_count": 4,
   "id": "alternate-victory",
   "metadata": {
    "execution": {
     "iopub.execute_input": "2021-08-29T19:30:08.639582Z",
     "iopub.status.busy": "2021-08-29T19:30:08.637281Z",
     "iopub.status.idle": "2021-08-29T19:30:08.875187Z",
     "shell.execute_reply": "2021-08-29T19:30:08.876509Z"
    },
    "papermill": {
     "duration": 0.268564,
     "end_time": "2021-08-29T19:30:08.876946",
     "exception": false,
     "start_time": "2021-08-29T19:30:08.608382",
     "status": "completed"
    },
    "tags": []
   },
   "outputs": [],
   "source": [
    "df = pd.read_sql(\"select * from EBAY_TOP_BERLIN where record_time in (select distinct record_time from EBAY_TOP_BERLIN order by record_time desc limit 2)\", sqlite3.connect(\"UsedObjects.db\"))"
   ]
  },
  {
   "cell_type": "code",
   "execution_count": 5,
   "id": "popular-active",
   "metadata": {
    "execution": {
     "iopub.execute_input": "2021-08-29T19:30:08.963236Z",
     "iopub.status.busy": "2021-08-29T19:30:08.950438Z",
     "iopub.status.idle": "2021-08-29T19:30:08.979644Z",
     "shell.execute_reply": "2021-08-29T19:30:08.980925Z"
    },
    "papermill": {
     "duration": 0.082345,
     "end_time": "2021-08-29T19:30:08.981324",
     "exception": false,
     "start_time": "2021-08-29T19:30:08.898979",
     "status": "completed"
    },
    "tags": []
   },
   "outputs": [],
   "source": [
    "df_pivot = df.pivot_table(index=\"PRODUCT\", columns = \"RECORD_TIME\", values = \"LISTING_COUNT\")"
   ]
  },
  {
   "cell_type": "code",
   "execution_count": 6,
   "id": "union-huntington",
   "metadata": {
    "execution": {
     "iopub.execute_input": "2021-08-29T19:30:09.041456Z",
     "iopub.status.busy": "2021-08-29T19:30:09.038961Z",
     "iopub.status.idle": "2021-08-29T19:30:09.044939Z",
     "shell.execute_reply": "2021-08-29T19:30:09.046241Z"
    },
    "papermill": {
     "duration": 0.042439,
     "end_time": "2021-08-29T19:30:09.046656",
     "exception": false,
     "start_time": "2021-08-29T19:30:09.004217",
     "status": "completed"
    },
    "tags": []
   },
   "outputs": [],
   "source": [
    "df_pivot.columns = [\"stamp_1\", \"stamp_2\"]\n",
    "df_pivot_diff = df_pivot.diff(axis=1)"
   ]
  },
  {
   "cell_type": "code",
   "execution_count": 7,
   "id": "fifth-motion",
   "metadata": {
    "execution": {
     "iopub.execute_input": "2021-08-29T19:30:09.100447Z",
     "iopub.status.busy": "2021-08-29T19:30:09.098045Z",
     "iopub.status.idle": "2021-08-29T19:30:10.573901Z",
     "shell.execute_reply": "2021-08-29T19:30:10.575197Z"
    },
    "papermill": {
     "duration": 1.508544,
     "end_time": "2021-08-29T19:30:10.575614",
     "exception": false,
     "start_time": "2021-08-29T19:30:09.067070",
     "status": "completed"
    },
    "tags": []
   },
   "outputs": [
    {
     "data": {
      "text/plain": [
       "<AxesSubplot:ylabel='PRODUCT'>"
      ]
     },
     "execution_count": 7,
     "metadata": {},
     "output_type": "execute_result"
    },
    {
     "data": {
      "image/png": "[encoded data removed]",
      "text/plain": [
       "<Figure size 432x288 with 1 Axes>"
      ]
     },
     "metadata": {
      "needs_background": "light"
     },
     "output_type": "display_data"
    }
   ],
   "source": [
    "df_pivot_diff.sort_values(\"stamp_2\", ascending = False)[\"stamp_2\"].head(10).plot.barh()"
   ]
  },
  {
   "cell_type": "code",
   "execution_count": null,
   "id": "extra-executive",
   "metadata": {
    "papermill": {
     "duration": 0.022383,
     "end_time": "2021-08-29T19:30:10.622134",
     "exception": false,
     "start_time": "2021-08-29T19:30:10.599751",
     "status": "completed"
    },
    "tags": []
   },
   "outputs": [],
   "source": []
  }
 ],
 "metadata": {
  "kernelspec": {
   "display_name": "Python 3",
   "language": "python",
   "name": "python3"
  },
  "language_info": {
   "codemirror_mode": {
    "name": "ipython",
    "version": 3
   },
   "file_extension": ".py",
   "mimetype": "text/x-python",
   "name": "python",
   "nbconvert_exporter": "python",
   "pygments_lexer": "ipython3",
   "version": "3.9.5"
  },
  "papermill": {
   "default_parameters": {},
   "duration": 6.820513,
   "end_time": "2021-08-29T19:30:11.859542",
   "environment_variables": {},
   "exception": null,
   "input_path": "eBay_Overview.ipynb",
   "output_path": "eBay_Overview.ipynb",
   "parameters": {},
   "start_time": "2021-08-29T19:30:05.039029",
   "version": "2.3.3"
  }
 },
 "nbformat": 4,
 "nbformat_minor": 5
}