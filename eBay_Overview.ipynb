{
 "cells": [
  {
   "cell_type": "code",
   "execution_count": 1,
   "id": "reverse-picking",
   "metadata": {
    "execution": {
     "iopub.execute_input": "2021-12-12T20:00:07.837341Z",
     "iopub.status.busy": "2021-12-12T20:00:07.835066Z",
     "iopub.status.idle": "2021-12-12T20:00:08.783500Z",
     "shell.execute_reply": "2021-12-12T20:00:08.785325Z"
    },
    "papermill": {
     "duration": 0.997177,
     "end_time": "2021-12-12T20:00:08.786076",
     "exception": false,
     "start_time": "2021-12-12T20:00:07.788899",
     "status": "completed"
    },
    "tags": []
   },
   "outputs": [],
   "source": [
    "import pandas as pd\n",
    "import sqlite3"
   ]
  },
  {
   "cell_type": "code",
   "execution_count": 2,
   "id": "innovative-syndrome",
   "metadata": {
    "execution": {
     "iopub.execute_input": "2021-12-12T20:00:08.852294Z",
     "iopub.status.busy": "2021-12-12T20:00:08.850104Z",
     "iopub.status.idle": "2021-12-12T20:00:09.895391Z",
     "shell.execute_reply": "2021-12-12T20:00:09.896942Z"
    },
    "papermill": {
     "duration": 1.081547,
     "end_time": "2021-12-12T20:00:09.897443",
     "exception": false,
     "start_time": "2021-12-12T20:00:08.815896",
     "status": "completed"
    },
    "tags": []
   },
   "outputs": [],
   "source": [
    "timestamps = pd.read_sql(\"select distinct record_time from EBAY_TOP_BERLIN order by record_time desc limit 2\", sqlite3.connect(\"UsedObjects.db\"))"
   ]
  },
  {
   "cell_type": "code",
   "execution_count": 3,
   "id": "periodic-identification",
   "metadata": {
    "execution": {
     "iopub.execute_input": "2021-12-12T20:00:09.966158Z",
     "iopub.status.busy": "2021-12-12T20:00:09.963869Z",
     "iopub.status.idle": "2021-12-12T20:00:09.986656Z",
     "shell.execute_reply": "2021-12-12T20:00:09.988098Z"
    },
    "papermill": {
     "duration": 0.071462,
     "end_time": "2021-12-12T20:00:09.988578",
     "exception": false,
     "start_time": "2021-12-12T20:00:09.917116",
     "status": "completed"
    },
    "tags": []
   },
   "outputs": [
    {
     "data": {
      "text/html": [
       "<div>\n",
       "<style scoped>\n",
       "    .dataframe tbody tr th:only-of-type {\n",
       "        vertical-align: middle;\n",
       "    }\n",
       "\n",
       "    .dataframe tbody tr th {\n",
       "        vertical-align: top;\n",
       "    }\n",
       "\n",
       "    .dataframe thead th {\n",
       "        text-align: right;\n",
       "    }\n",
       "</style>\n",
       "<table border=\"1\" class=\"dataframe\">\n",
       "  <thead>\n",
       "    <tr style=\"text-align: right;\">\n",
       "      <th></th>\n",
       "      <th>RECORD_TIME</th>\n",
       "    </tr>\n",
       "  </thead>\n",
       "  <tbody>\n",
       "    <tr>\n",
       "      <th>0</th>\n",
       "      <td>2021-12-12 21:00</td>\n",
       "    </tr>\n",
       "    <tr>\n",
       "      <th>1</th>\n",
       "      <td>2021-12-12 20:30</td>\n",
       "    </tr>\n",
       "  </tbody>\n",
       "</table>\n",
       "</div>"
      ],
      "text/plain": [
       "        RECORD_TIME\n",
       "0  2021-12-12 21:00\n",
       "1  2021-12-12 20:30"
      ]
     },
     "execution_count": 3,
     "metadata": {},
     "output_type": "execute_result"
    }
   ],
   "source": [
    "timestamps"
   ]
  },
  {
   "cell_type": "code",
   "execution_count": 4,
   "id": "alternate-victory",
   "metadata": {
    "execution": {
     "iopub.execute_input": "2021-12-12T20:00:10.045398Z",
     "iopub.status.busy": "2021-12-12T20:00:10.043168Z",
     "iopub.status.idle": "2021-12-12T20:00:11.595483Z",
     "shell.execute_reply": "2021-12-12T20:00:11.597293Z"
    },
    "papermill": {
     "duration": 1.586447,
     "end_time": "2021-12-12T20:00:11.597805",
     "exception": false,
     "start_time": "2021-12-12T20:00:10.011358",
     "status": "completed"
    },
    "tags": []
   },
   "outputs": [],
   "source": [
    "df = pd.read_sql(\"select * from EBAY_TOP_BERLIN where record_time in (select distinct record_time from EBAY_TOP_BERLIN order by record_time desc limit 2)\", sqlite3.connect(\"UsedObjects.db\"))"
   ]
  },
  {
   "cell_type": "code",
   "execution_count": 5,
   "id": "popular-active",
   "metadata": {
    "execution": {
     "iopub.execute_input": "2021-12-12T20:00:11.674375Z",
     "iopub.status.busy": "2021-12-12T20:00:11.660963Z",
     "iopub.status.idle": "2021-12-12T20:00:11.691918Z",
     "shell.execute_reply": "2021-12-12T20:00:11.693232Z"
    },
    "papermill": {
     "duration": 0.073602,
     "end_time": "2021-12-12T20:00:11.693676",
     "exception": false,
     "start_time": "2021-12-12T20:00:11.620074",
     "status": "completed"
    },
    "tags": []
   },
   "outputs": [],
   "source": [
    "df_pivot = df.pivot_table(index=\"PRODUCT\", columns = \"RECORD_TIME\", values = \"LISTING_COUNT\")"
   ]
  },
  {
   "cell_type": "code",
   "execution_count": 6,
   "id": "union-huntington",
   "metadata": {
    "execution": {
     "iopub.execute_input": "2021-12-12T20:00:11.756141Z",
     "iopub.status.busy": "2021-12-12T20:00:11.753898Z",
     "iopub.status.idle": "2021-12-12T20:00:11.760270Z",
     "shell.execute_reply": "2021-12-12T20:00:11.761954Z"
    },
    "papermill": {
     "duration": 0.047783,
     "end_time": "2021-12-12T20:00:11.762477",
     "exception": false,
     "start_time": "2021-12-12T20:00:11.714694",
     "status": "completed"
    },
    "tags": []
   },
   "outputs": [],
   "source": [
    "df_pivot.columns = [\"stamp_1\", \"stamp_2\"]\n",
    "df_pivot_diff = df_pivot.diff(axis=1)"
   ]
  },
  {
   "cell_type": "code",
   "execution_count": 7,
   "id": "fifth-motion",
   "metadata": {
    "execution": {
     "iopub.execute_input": "2021-12-12T20:00:11.821891Z",
     "iopub.status.busy": "2021-12-12T20:00:11.819200Z",
     "iopub.status.idle": "2021-12-12T20:00:13.521962Z",
     "shell.execute_reply": "2021-12-12T20:00:13.523303Z"
    },
    "papermill": {
     "duration": 1.739996,
     "end_time": "2021-12-12T20:00:13.523720",
     "exception": false,
     "start_time": "2021-12-12T20:00:11.783724",
     "status": "completed"
    },
    "tags": []
   },
   "outputs": [
    {
     "data": {
      "text/plain": [
       "<AxesSubplot:ylabel='PRODUCT'>"
      ]
     },
     "execution_count": 7,
     "metadata": {},
     "output_type": "execute_result"
    },
    {
     "data": {
      "image/png": "[encoded data removed]",
      "text/plain": [
       "<Figure size 432x288 with 1 Axes>"
      ]
     },
     "metadata": {
      "needs_background": "light"
     },
     "output_type": "display_data"
    }
   ],
   "source": [
    "df_pivot_diff.sort_values(\"stamp_2\", ascending = False)[\"stamp_2\"].head(10).plot.barh()"
   ]
  },
  {
   "cell_type": "code",
   "execution_count": null,
   "id": "extra-executive",
   "metadata": {
    "papermill": {
     "duration": 0.021878,
     "end_time": "2021-12-12T20:00:13.571125",
     "exception": false,
     "start_time": "2021-12-12T20:00:13.549247",
     "status": "completed"
    },
    "tags": []
   },
   "outputs": [],
   "source": []
  }
 ],
 "metadata": {
  "kernelspec": {
   "display_name": "Python 3",
   "language": "python",
   "name": "python3"
  },
  "language_info": {
   "codemirror_mode": {
    "name": "ipython",
    "version": 3
   },
   "file_extension": ".py",
   "mimetype": "text/x-python",
   "name": "python",
   "nbconvert_exporter": "python",
   "pygments_lexer": "ipython3",
   "version": "3.9.5"
  },
  "papermill": {
   "default_parameters": {},
   "duration": 10.010616,
   "end_time": "2021-12-12T20:00:15.005472",
   "environment_variables": {},
   "exception": null,
   "input_path": "eBay_Overview.ipynb",
   "output_path": "eBay_Overview.ipynb",
   "parameters": {},
   "start_time": "2021-12-12T20:00:04.994856",
   "version": "2.3.3"
  }
 },
 "nbformat": 4,
 "nbformat_minor": 5
}