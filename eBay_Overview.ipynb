{
 "cells": [
  {
   "cell_type": "code",
   "execution_count": 1,
   "id": "reverse-picking",
   "metadata": {
    "execution": {
     "iopub.execute_input": "2021-11-07T13:00:07.964111Z",
     "iopub.status.busy": "2021-11-07T13:00:07.961866Z",
     "iopub.status.idle": "2021-11-07T13:00:08.914318Z",
     "shell.execute_reply": "2021-11-07T13:00:08.915844Z"
    },
    "papermill": {
     "duration": 1.001503,
     "end_time": "2021-11-07T13:00:08.916605",
     "exception": false,
     "start_time": "2021-11-07T13:00:07.915102",
     "status": "completed"
    },
    "tags": []
   },
   "outputs": [],
   "source": [
    "import pandas as pd\n",
    "import sqlite3"
   ]
  },
  {
   "cell_type": "code",
   "execution_count": 2,
   "id": "innovative-syndrome",
   "metadata": {
    "execution": {
     "iopub.execute_input": "2021-11-07T13:00:08.981593Z",
     "iopub.status.busy": "2021-11-07T13:00:08.979269Z",
     "iopub.status.idle": "2021-11-07T13:00:09.728619Z",
     "shell.execute_reply": "2021-11-07T13:00:09.731511Z"
    },
    "papermill": {
     "duration": 0.786968,
     "end_time": "2021-11-07T13:00:09.732284",
     "exception": false,
     "start_time": "2021-11-07T13:00:08.945316",
     "status": "completed"
    },
    "tags": []
   },
   "outputs": [],
   "source": [
    "timestamps = pd.read_sql(\"select distinct record_time from EBAY_TOP_BERLIN order by record_time desc limit 2\", sqlite3.connect(\"UsedObjects.db\"))"
   ]
  },
  {
   "cell_type": "code",
   "execution_count": 3,
   "id": "periodic-identification",
   "metadata": {
    "execution": {
     "iopub.execute_input": "2021-11-07T13:00:09.805483Z",
     "iopub.status.busy": "2021-11-07T13:00:09.803006Z",
     "iopub.status.idle": "2021-11-07T13:00:09.826196Z",
     "shell.execute_reply": "2021-11-07T13:00:09.827703Z"
    },
    "papermill": {
     "duration": 0.07414,
     "end_time": "2021-11-07T13:00:09.828229",
     "exception": false,
     "start_time": "2021-11-07T13:00:09.754089",
     "status": "completed"
    },
    "tags": []
   },
   "outputs": [
    {
     "data": {
      "text/html": [
       "<div>\n",
       "<style scoped>\n",
       "    .dataframe tbody tr th:only-of-type {\n",
       "        vertical-align: middle;\n",
       "    }\n",
       "\n",
       "    .dataframe tbody tr th {\n",
       "        vertical-align: top;\n",
       "    }\n",
       "\n",
       "    .dataframe thead th {\n",
       "        text-align: right;\n",
       "    }\n",
       "</style>\n",
       "<table border=\"1\" class=\"dataframe\">\n",
       "  <thead>\n",
       "    <tr style=\"text-align: right;\">\n",
       "      <th></th>\n",
       "      <th>RECORD_TIME</th>\n",
       "    </tr>\n",
       "  </thead>\n",
       "  <tbody>\n",
       "    <tr>\n",
       "      <th>0</th>\n",
       "      <td>2021-11-07 14:00</td>\n",
       "    </tr>\n",
       "    <tr>\n",
       "      <th>1</th>\n",
       "      <td>2021-11-07 13:30</td>\n",
       "    </tr>\n",
       "  </tbody>\n",
       "</table>\n",
       "</div>"
      ],
      "text/plain": [
       "        RECORD_TIME\n",
       "0  2021-11-07 14:00\n",
       "1  2021-11-07 13:30"
      ]
     },
     "execution_count": 3,
     "metadata": {},
     "output_type": "execute_result"
    }
   ],
   "source": [
    "timestamps"
   ]
  },
  {
   "cell_type": "code",
   "execution_count": 4,
   "id": "alternate-victory",
   "metadata": {
    "execution": {
     "iopub.execute_input": "2021-11-07T13:00:09.885590Z",
     "iopub.status.busy": "2021-11-07T13:00:09.883351Z",
     "iopub.status.idle": "2021-11-07T13:00:10.950099Z",
     "shell.execute_reply": "2021-11-07T13:00:10.951903Z"
    },
    "papermill": {
     "duration": 1.102244,
     "end_time": "2021-11-07T13:00:10.952376",
     "exception": false,
     "start_time": "2021-11-07T13:00:09.850132",
     "status": "completed"
    },
    "tags": []
   },
   "outputs": [],
   "source": [
    "df = pd.read_sql(\"select * from EBAY_TOP_BERLIN where record_time in (select distinct record_time from EBAY_TOP_BERLIN order by record_time desc limit 2)\", sqlite3.connect(\"UsedObjects.db\"))"
   ]
  },
  {
   "cell_type": "code",
   "execution_count": 5,
   "id": "popular-active",
   "metadata": {
    "execution": {
     "iopub.execute_input": "2021-11-07T13:00:11.049740Z",
     "iopub.status.busy": "2021-11-07T13:00:11.034358Z",
     "iopub.status.idle": "2021-11-07T13:00:11.070409Z",
     "shell.execute_reply": "2021-11-07T13:00:11.071941Z"
    },
    "papermill": {
     "duration": 0.079034,
     "end_time": "2021-11-07T13:00:11.072455",
     "exception": false,
     "start_time": "2021-11-07T13:00:10.993421",
     "status": "completed"
    },
    "tags": []
   },
   "outputs": [],
   "source": [
    "df_pivot = df.pivot_table(index=\"PRODUCT\", columns = \"RECORD_TIME\", values = \"LISTING_COUNT\")"
   ]
  },
  {
   "cell_type": "code",
   "execution_count": 6,
   "id": "union-huntington",
   "metadata": {
    "execution": {
     "iopub.execute_input": "2021-11-07T13:00:11.137240Z",
     "iopub.status.busy": "2021-11-07T13:00:11.134426Z",
     "iopub.status.idle": "2021-11-07T13:00:11.142237Z",
     "shell.execute_reply": "2021-11-07T13:00:11.143873Z"
    },
    "papermill": {
     "duration": 0.049735,
     "end_time": "2021-11-07T13:00:11.144389",
     "exception": false,
     "start_time": "2021-11-07T13:00:11.094654",
     "status": "completed"
    },
    "tags": []
   },
   "outputs": [],
   "source": [
    "df_pivot.columns = [\"stamp_1\", \"stamp_2\"]\n",
    "df_pivot_diff = df_pivot.diff(axis=1)"
   ]
  },
  {
   "cell_type": "code",
   "execution_count": 7,
   "id": "fifth-motion",
   "metadata": {
    "execution": {
     "iopub.execute_input": "2021-11-07T13:00:11.212181Z",
     "iopub.status.busy": "2021-11-07T13:00:11.201346Z",
     "iopub.status.idle": "2021-11-07T13:00:12.976958Z",
     "shell.execute_reply": "2021-11-07T13:00:12.978696Z"
    },
    "papermill": {
     "duration": 1.813355,
     "end_time": "2021-11-07T13:00:12.979234",
     "exception": false,
     "start_time": "2021-11-07T13:00:11.165879",
     "status": "completed"
    },
    "tags": []
   },
   "outputs": [
    {
     "data": {
      "text/plain": [
       "<AxesSubplot:ylabel='PRODUCT'>"
      ]
     },
     "execution_count": 7,
     "metadata": {},
     "output_type": "execute_result"
    },
    {
     "data": {
      "image/png": "[encoded data removed]",
      "text/plain": [
       "<Figure size 432x288 with 1 Axes>"
      ]
     },
     "metadata": {
      "needs_background": "light"
     },
     "output_type": "display_data"
    }
   ],
   "source": [
    "df_pivot_diff.sort_values(\"stamp_2\", ascending = False)[\"stamp_2\"].head(10).plot.barh()"
   ]
  },
  {
   "cell_type": "code",
   "execution_count": null,
   "id": "extra-executive",
   "metadata": {
    "papermill": {
     "duration": 0.024956,
     "end_time": "2021-11-07T13:00:13.031441",
     "exception": false,
     "start_time": "2021-11-07T13:00:13.006485",
     "status": "completed"
    },
    "tags": []
   },
   "outputs": [],
   "source": []
  }
 ],
 "metadata": {
  "kernelspec": {
   "display_name": "Python 3",
   "language": "python",
   "name": "python3"
  },
  "language_info": {
   "codemirror_mode": {
    "name": "ipython",
    "version": 3
   },
   "file_extension": ".py",
   "mimetype": "text/x-python",
   "name": "python",
   "nbconvert_exporter": "python",
   "pygments_lexer": "ipython3",
   "version": "3.9.5"
  },
  "papermill": {
   "default_parameters": {},
   "duration": 11.047244,
   "end_time": "2021-11-07T13:00:16.114561",
   "environment_variables": {},
   "exception": null,
   "input_path": "eBay_Overview.ipynb",
   "output_path": "eBay_Overview.ipynb",
   "parameters": {},
   "start_time": "2021-11-07T13:00:05.067317",
   "version": "2.3.3"
  }
 },
 "nbformat": 4,
 "nbformat_minor": 5
}