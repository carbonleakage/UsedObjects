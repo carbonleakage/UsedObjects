{
 "cells": [
  {
   "cell_type": "code",
   "execution_count": 1,
   "id": "reverse-picking",
   "metadata": {
    "execution": {
     "iopub.execute_input": "2021-08-16T08:00:07.275255Z",
     "iopub.status.busy": "2021-08-16T08:00:07.273207Z",
     "iopub.status.idle": "2021-08-16T08:00:08.079335Z",
     "shell.execute_reply": "2021-08-16T08:00:08.080624Z"
    },
    "papermill": {
     "duration": 0.855578,
     "end_time": "2021-08-16T08:00:08.081236",
     "exception": false,
     "start_time": "2021-08-16T08:00:07.225658",
     "status": "completed"
    },
    "tags": []
   },
   "outputs": [],
   "source": [
    "import pandas as pd\n",
    "import sqlite3"
   ]
  },
  {
   "cell_type": "code",
   "execution_count": 2,
   "id": "innovative-syndrome",
   "metadata": {
    "execution": {
     "iopub.execute_input": "2021-08-16T08:00:08.131776Z",
     "iopub.status.busy": "2021-08-16T08:00:08.129625Z",
     "iopub.status.idle": "2021-08-16T08:00:08.193429Z",
     "shell.execute_reply": "2021-08-16T08:00:08.194909Z"
    },
    "papermill": {
     "duration": 0.094089,
     "end_time": "2021-08-16T08:00:08.195367",
     "exception": false,
     "start_time": "2021-08-16T08:00:08.101278",
     "status": "completed"
    },
    "tags": []
   },
   "outputs": [],
   "source": [
    "timestamps = pd.read_sql(\"select distinct record_time from EBAY_TOP_BERLIN order by record_time desc limit 2\", sqlite3.connect(\"UsedObjects.db\"))"
   ]
  },
  {
   "cell_type": "code",
   "execution_count": 3,
   "id": "periodic-identification",
   "metadata": {
    "execution": {
     "iopub.execute_input": "2021-08-16T08:00:08.261025Z",
     "iopub.status.busy": "2021-08-16T08:00:08.258805Z",
     "iopub.status.idle": "2021-08-16T08:00:08.279051Z",
     "shell.execute_reply": "2021-08-16T08:00:08.280329Z"
    },
    "papermill": {
     "duration": 0.065475,
     "end_time": "2021-08-16T08:00:08.280728",
     "exception": false,
     "start_time": "2021-08-16T08:00:08.215253",
     "status": "completed"
    },
    "tags": []
   },
   "outputs": [
    {
     "data": {
      "text/html": [
       "<div>\n",
       "<style scoped>\n",
       "    .dataframe tbody tr th:only-of-type {\n",
       "        vertical-align: middle;\n",
       "    }\n",
       "\n",
       "    .dataframe tbody tr th {\n",
       "        vertical-align: top;\n",
       "    }\n",
       "\n",
       "    .dataframe thead th {\n",
       "        text-align: right;\n",
       "    }\n",
       "</style>\n",
       "<table border=\"1\" class=\"dataframe\">\n",
       "  <thead>\n",
       "    <tr style=\"text-align: right;\">\n",
       "      <th></th>\n",
       "      <th>RECORD_TIME</th>\n",
       "    </tr>\n",
       "  </thead>\n",
       "  <tbody>\n",
       "    <tr>\n",
       "      <th>0</th>\n",
       "      <td>2021-08-16 10:00</td>\n",
       "    </tr>\n",
       "    <tr>\n",
       "      <th>1</th>\n",
       "      <td>2021-08-16 09:30</td>\n",
       "    </tr>\n",
       "  </tbody>\n",
       "</table>\n",
       "</div>"
      ],
      "text/plain": [
       "        RECORD_TIME\n",
       "0  2021-08-16 10:00\n",
       "1  2021-08-16 09:30"
      ]
     },
     "execution_count": 3,
     "metadata": {},
     "output_type": "execute_result"
    }
   ],
   "source": [
    "timestamps"
   ]
  },
  {
   "cell_type": "code",
   "execution_count": 4,
   "id": "alternate-victory",
   "metadata": {
    "execution": {
     "iopub.execute_input": "2021-08-16T08:00:08.334279Z",
     "iopub.status.busy": "2021-08-16T08:00:08.331901Z",
     "iopub.status.idle": "2021-08-16T08:00:08.422198Z",
     "shell.execute_reply": "2021-08-16T08:00:08.423578Z"
    },
    "papermill": {
     "duration": 0.121287,
     "end_time": "2021-08-16T08:00:08.423993",
     "exception": false,
     "start_time": "2021-08-16T08:00:08.302706",
     "status": "completed"
    },
    "tags": []
   },
   "outputs": [],
   "source": [
    "df = pd.read_sql(\"select * from EBAY_TOP_BERLIN where record_time in (select distinct record_time from EBAY_TOP_BERLIN order by record_time desc limit 2)\", sqlite3.connect(\"UsedObjects.db\"))"
   ]
  },
  {
   "cell_type": "code",
   "execution_count": 5,
   "id": "popular-active",
   "metadata": {
    "execution": {
     "iopub.execute_input": "2021-08-16T08:00:08.495558Z",
     "iopub.status.busy": "2021-08-16T08:00:08.483094Z",
     "iopub.status.idle": "2021-08-16T08:00:08.511339Z",
     "shell.execute_reply": "2021-08-16T08:00:08.512546Z"
    },
    "papermill": {
     "duration": 0.0684,
     "end_time": "2021-08-16T08:00:08.512946",
     "exception": false,
     "start_time": "2021-08-16T08:00:08.444546",
     "status": "completed"
    },
    "tags": []
   },
   "outputs": [],
   "source": [
    "df_pivot = df.pivot_table(index=\"PRODUCT\", columns = \"RECORD_TIME\", values = \"LISTING_COUNT\")"
   ]
  },
  {
   "cell_type": "code",
   "execution_count": 6,
   "id": "union-huntington",
   "metadata": {
    "execution": {
     "iopub.execute_input": "2021-08-16T08:00:08.570772Z",
     "iopub.status.busy": "2021-08-16T08:00:08.568527Z",
     "iopub.status.idle": "2021-08-16T08:00:08.574249Z",
     "shell.execute_reply": "2021-08-16T08:00:08.575816Z"
    },
    "papermill": {
     "duration": 0.041685,
     "end_time": "2021-08-16T08:00:08.576298",
     "exception": false,
     "start_time": "2021-08-16T08:00:08.534613",
     "status": "completed"
    },
    "tags": []
   },
   "outputs": [],
   "source": [
    "df_pivot.columns = [\"stamp_1\", \"stamp_2\"]\n",
    "df_pivot_diff = df_pivot.diff(axis=1)"
   ]
  },
  {
   "cell_type": "code",
   "execution_count": 7,
   "id": "fifth-motion",
   "metadata": {
    "execution": {
     "iopub.execute_input": "2021-08-16T08:00:08.632293Z",
     "iopub.status.busy": "2021-08-16T08:00:08.629820Z",
     "iopub.status.idle": "2021-08-16T08:00:10.149964Z",
     "shell.execute_reply": "2021-08-16T08:00:10.151248Z"
    },
    "papermill": {
     "duration": 1.553664,
     "end_time": "2021-08-16T08:00:10.151704",
     "exception": false,
     "start_time": "2021-08-16T08:00:08.598040",
     "status": "completed"
    },
    "tags": []
   },
   "outputs": [
    {
     "data": {
      "text/plain": [
       "<AxesSubplot:ylabel='PRODUCT'>"
      ]
     },
     "execution_count": 7,
     "metadata": {},
     "output_type": "execute_result"
    },
    {
     "data": {
      "image/png": "[encoded data removed]",
      "text/plain": [
       "<Figure size 432x288 with 1 Axes>"
      ]
     },
     "metadata": {
      "needs_background": "light"
     },
     "output_type": "display_data"
    }
   ],
   "source": [
    "df_pivot_diff.sort_values(\"stamp_2\", ascending = False)[\"stamp_2\"].head(10).plot.barh()"
   ]
  },
  {
   "cell_type": "code",
   "execution_count": null,
   "id": "extra-executive",
   "metadata": {
    "papermill": {
     "duration": 0.022375,
     "end_time": "2021-08-16T08:00:10.198882",
     "exception": false,
     "start_time": "2021-08-16T08:00:10.176507",
     "status": "completed"
    },
    "tags": []
   },
   "outputs": [],
   "source": []
  }
 ],
 "metadata": {
  "kernelspec": {
   "display_name": "Python 3",
   "language": "python",
   "name": "python3"
  },
  "language_info": {
   "codemirror_mode": {
    "name": "ipython",
    "version": 3
   },
   "file_extension": ".py",
   "mimetype": "text/x-python",
   "name": "python",
   "nbconvert_exporter": "python",
   "pygments_lexer": "ipython3",
   "version": "3.9.5"
  },
  "papermill": {
   "default_parameters": {},
   "duration": 6.822813,
   "end_time": "2021-08-16T08:00:11.637455",
   "environment_variables": {},
   "exception": null,
   "input_path": "eBay_Overview.ipynb",
   "output_path": "eBay_Overview.ipynb",
   "parameters": {},
   "start_time": "2021-08-16T08:00:04.814642",
   "version": "2.3.3"
  }
 },
 "nbformat": 4,
 "nbformat_minor": 5
}