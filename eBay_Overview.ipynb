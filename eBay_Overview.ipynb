{
 "cells": [
  {
   "cell_type": "code",
   "execution_count": 1,
   "id": "reverse-picking",
   "metadata": {
    "execution": {
     "iopub.execute_input": "2021-12-06T23:00:08.296988Z",
     "iopub.status.busy": "2021-12-06T23:00:08.294478Z",
     "iopub.status.idle": "2021-12-06T23:00:09.212931Z",
     "shell.execute_reply": "2021-12-06T23:00:09.214443Z"
    },
    "papermill": {
     "duration": 0.967762,
     "end_time": "2021-12-06T23:00:09.215117",
     "exception": false,
     "start_time": "2021-12-06T23:00:08.247355",
     "status": "completed"
    },
    "tags": []
   },
   "outputs": [],
   "source": [
    "import pandas as pd\n",
    "import sqlite3"
   ]
  },
  {
   "cell_type": "code",
   "execution_count": 2,
   "id": "innovative-syndrome",
   "metadata": {
    "execution": {
     "iopub.execute_input": "2021-12-06T23:00:09.281894Z",
     "iopub.status.busy": "2021-12-06T23:00:09.279261Z",
     "iopub.status.idle": "2021-12-06T23:00:10.282983Z",
     "shell.execute_reply": "2021-12-06T23:00:10.284533Z"
    },
    "papermill": {
     "duration": 1.049831,
     "end_time": "2021-12-06T23:00:10.285047",
     "exception": false,
     "start_time": "2021-12-06T23:00:09.235216",
     "status": "completed"
    },
    "tags": []
   },
   "outputs": [],
   "source": [
    "timestamps = pd.read_sql(\"select distinct record_time from EBAY_TOP_BERLIN order by record_time desc limit 2\", sqlite3.connect(\"UsedObjects.db\"))"
   ]
  },
  {
   "cell_type": "code",
   "execution_count": 3,
   "id": "periodic-identification",
   "metadata": {
    "execution": {
     "iopub.execute_input": "2021-12-06T23:00:10.353754Z",
     "iopub.status.busy": "2021-12-06T23:00:10.351309Z",
     "iopub.status.idle": "2021-12-06T23:00:10.375879Z",
     "shell.execute_reply": "2021-12-06T23:00:10.377623Z"
    },
    "papermill": {
     "duration": 0.073697,
     "end_time": "2021-12-06T23:00:10.378163",
     "exception": false,
     "start_time": "2021-12-06T23:00:10.304466",
     "status": "completed"
    },
    "tags": []
   },
   "outputs": [
    {
     "data": {
      "text/html": [
       "<div>\n",
       "<style scoped>\n",
       "    .dataframe tbody tr th:only-of-type {\n",
       "        vertical-align: middle;\n",
       "    }\n",
       "\n",
       "    .dataframe tbody tr th {\n",
       "        vertical-align: top;\n",
       "    }\n",
       "\n",
       "    .dataframe thead th {\n",
       "        text-align: right;\n",
       "    }\n",
       "</style>\n",
       "<table border=\"1\" class=\"dataframe\">\n",
       "  <thead>\n",
       "    <tr style=\"text-align: right;\">\n",
       "      <th></th>\n",
       "      <th>RECORD_TIME</th>\n",
       "    </tr>\n",
       "  </thead>\n",
       "  <tbody>\n",
       "    <tr>\n",
       "      <th>0</th>\n",
       "      <td>2021-12-07 00:00</td>\n",
       "    </tr>\n",
       "    <tr>\n",
       "      <th>1</th>\n",
       "      <td>2021-12-06 23:30</td>\n",
       "    </tr>\n",
       "  </tbody>\n",
       "</table>\n",
       "</div>"
      ],
      "text/plain": [
       "        RECORD_TIME\n",
       "0  2021-12-07 00:00\n",
       "1  2021-12-06 23:30"
      ]
     },
     "execution_count": 3,
     "metadata": {},
     "output_type": "execute_result"
    }
   ],
   "source": [
    "timestamps"
   ]
  },
  {
   "cell_type": "code",
   "execution_count": 4,
   "id": "alternate-victory",
   "metadata": {
    "execution": {
     "iopub.execute_input": "2021-12-06T23:00:10.433202Z",
     "iopub.status.busy": "2021-12-06T23:00:10.430645Z",
     "iopub.status.idle": "2021-12-06T23:00:11.890223Z",
     "shell.execute_reply": "2021-12-06T23:00:11.893125Z"
    },
    "papermill": {
     "duration": 1.494931,
     "end_time": "2021-12-06T23:00:11.893915",
     "exception": false,
     "start_time": "2021-12-06T23:00:10.398984",
     "status": "completed"
    },
    "tags": []
   },
   "outputs": [],
   "source": [
    "df = pd.read_sql(\"select * from EBAY_TOP_BERLIN where record_time in (select distinct record_time from EBAY_TOP_BERLIN order by record_time desc limit 2)\", sqlite3.connect(\"UsedObjects.db\"))"
   ]
  },
  {
   "cell_type": "code",
   "execution_count": 5,
   "id": "popular-active",
   "metadata": {
    "execution": {
     "iopub.execute_input": "2021-12-06T23:00:12.007543Z",
     "iopub.status.busy": "2021-12-06T23:00:11.981991Z",
     "iopub.status.idle": "2021-12-06T23:00:12.037986Z",
     "shell.execute_reply": "2021-12-06T23:00:12.040858Z"
    },
    "papermill": {
     "duration": 0.120807,
     "end_time": "2021-12-06T23:00:12.041563",
     "exception": false,
     "start_time": "2021-12-06T23:00:11.920756",
     "status": "completed"
    },
    "tags": []
   },
   "outputs": [],
   "source": [
    "df_pivot = df.pivot_table(index=\"PRODUCT\", columns = \"RECORD_TIME\", values = \"LISTING_COUNT\")"
   ]
  },
  {
   "cell_type": "code",
   "execution_count": 6,
   "id": "union-huntington",
   "metadata": {
    "execution": {
     "iopub.execute_input": "2021-12-06T23:00:12.120375Z",
     "iopub.status.busy": "2021-12-06T23:00:12.116986Z",
     "iopub.status.idle": "2021-12-06T23:00:12.126160Z",
     "shell.execute_reply": "2021-12-06T23:00:12.127875Z"
    },
    "papermill": {
     "duration": 0.056312,
     "end_time": "2021-12-06T23:00:12.128457",
     "exception": false,
     "start_time": "2021-12-06T23:00:12.072145",
     "status": "completed"
    },
    "tags": []
   },
   "outputs": [],
   "source": [
    "df_pivot.columns = [\"stamp_1\", \"stamp_2\"]\n",
    "df_pivot_diff = df_pivot.diff(axis=1)"
   ]
  },
  {
   "cell_type": "code",
   "execution_count": 7,
   "id": "fifth-motion",
   "metadata": {
    "execution": {
     "iopub.execute_input": "2021-12-06T23:00:12.184677Z",
     "iopub.status.busy": "2021-12-06T23:00:12.182337Z",
     "iopub.status.idle": "2021-12-06T23:00:13.874996Z",
     "shell.execute_reply": "2021-12-06T23:00:13.876302Z"
    },
    "papermill": {
     "duration": 1.725578,
     "end_time": "2021-12-06T23:00:13.876921",
     "exception": false,
     "start_time": "2021-12-06T23:00:12.151343",
     "status": "completed"
    },
    "tags": []
   },
   "outputs": [
    {
     "data": {
      "text/plain": [
       "<AxesSubplot:ylabel='PRODUCT'>"
      ]
     },
     "execution_count": 7,
     "metadata": {},
     "output_type": "execute_result"
    },
    {
     "data": {
      "image/png": "[encoded data removed]",
      "text/plain": [
       "<Figure size 432x288 with 1 Axes>"
      ]
     },
     "metadata": {
      "needs_background": "light"
     },
     "output_type": "display_data"
    }
   ],
   "source": [
    "df_pivot_diff.sort_values(\"stamp_2\", ascending = False)[\"stamp_2\"].head(10).plot.barh()"
   ]
  },
  {
   "cell_type": "code",
   "execution_count": null,
   "id": "extra-executive",
   "metadata": {
    "papermill": {
     "duration": 0.021724,
     "end_time": "2021-12-06T23:00:13.922915",
     "exception": false,
     "start_time": "2021-12-06T23:00:13.901191",
     "status": "completed"
    },
    "tags": []
   },
   "outputs": [],
   "source": []
  }
 ],
 "metadata": {
  "kernelspec": {
   "display_name": "Python 3",
   "language": "python",
   "name": "python3"
  },
  "language_info": {
   "codemirror_mode": {
    "name": "ipython",
    "version": 3
   },
   "file_extension": ".py",
   "mimetype": "text/x-python",
   "name": "python",
   "nbconvert_exporter": "python",
   "pygments_lexer": "ipython3",
   "version": "3.9.5"
  },
  "papermill": {
   "default_parameters": {},
   "duration": 9.940009,
   "end_time": "2021-12-06T23:00:15.454700",
   "environment_variables": {},
   "exception": null,
   "input_path": "eBay_Overview.ipynb",
   "output_path": "eBay_Overview.ipynb",
   "parameters": {},
   "start_time": "2021-12-06T23:00:05.514691",
   "version": "2.3.3"
  }
 },
 "nbformat": 4,
 "nbformat_minor": 5
}