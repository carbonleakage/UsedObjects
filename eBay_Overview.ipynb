{
 "cells": [
  {
   "cell_type": "code",
   "execution_count": 1,
   "id": "reverse-picking",
   "metadata": {
    "execution": {
     "iopub.execute_input": "2021-10-11T19:30:06.724099Z",
     "iopub.status.busy": "2021-10-11T19:30:06.722124Z",
     "iopub.status.idle": "2021-10-11T19:30:07.522179Z",
     "shell.execute_reply": "2021-10-11T19:30:07.523622Z"
    },
    "papermill": {
     "duration": 0.850909,
     "end_time": "2021-10-11T19:30:07.524303",
     "exception": false,
     "start_time": "2021-10-11T19:30:06.673394",
     "status": "completed"
    },
    "tags": []
   },
   "outputs": [],
   "source": [
    "import pandas as pd\n",
    "import sqlite3"
   ]
  },
  {
   "cell_type": "code",
   "execution_count": 2,
   "id": "innovative-syndrome",
   "metadata": {
    "execution": {
     "iopub.execute_input": "2021-10-11T19:30:07.575590Z",
     "iopub.status.busy": "2021-10-11T19:30:07.573550Z",
     "iopub.status.idle": "2021-10-11T19:30:08.086733Z",
     "shell.execute_reply": "2021-10-11T19:30:08.087941Z"
    },
    "papermill": {
     "duration": 0.543709,
     "end_time": "2021-10-11T19:30:08.088338",
     "exception": false,
     "start_time": "2021-10-11T19:30:07.544629",
     "status": "completed"
    },
    "tags": []
   },
   "outputs": [],
   "source": [
    "timestamps = pd.read_sql(\"select distinct record_time from EBAY_TOP_BERLIN order by record_time desc limit 2\", sqlite3.connect(\"UsedObjects.db\"))"
   ]
  },
  {
   "cell_type": "code",
   "execution_count": 3,
   "id": "periodic-identification",
   "metadata": {
    "execution": {
     "iopub.execute_input": "2021-10-11T19:30:08.158577Z",
     "iopub.status.busy": "2021-10-11T19:30:08.153334Z",
     "iopub.status.idle": "2021-10-11T19:30:08.172968Z",
     "shell.execute_reply": "2021-10-11T19:30:08.174246Z"
    },
    "papermill": {
     "duration": 0.064237,
     "end_time": "2021-10-11T19:30:08.174647",
     "exception": false,
     "start_time": "2021-10-11T19:30:08.110410",
     "status": "completed"
    },
    "tags": []
   },
   "outputs": [
    {
     "data": {
      "text/html": [
       "<div>\n",
       "<style scoped>\n",
       "    .dataframe tbody tr th:only-of-type {\n",
       "        vertical-align: middle;\n",
       "    }\n",
       "\n",
       "    .dataframe tbody tr th {\n",
       "        vertical-align: top;\n",
       "    }\n",
       "\n",
       "    .dataframe thead th {\n",
       "        text-align: right;\n",
       "    }\n",
       "</style>\n",
       "<table border=\"1\" class=\"dataframe\">\n",
       "  <thead>\n",
       "    <tr style=\"text-align: right;\">\n",
       "      <th></th>\n",
       "      <th>RECORD_TIME</th>\n",
       "    </tr>\n",
       "  </thead>\n",
       "  <tbody>\n",
       "    <tr>\n",
       "      <th>0</th>\n",
       "      <td>2021-10-11 21:30</td>\n",
       "    </tr>\n",
       "    <tr>\n",
       "      <th>1</th>\n",
       "      <td>2021-10-11 21:00</td>\n",
       "    </tr>\n",
       "  </tbody>\n",
       "</table>\n",
       "</div>"
      ],
      "text/plain": [
       "        RECORD_TIME\n",
       "0  2021-10-11 21:30\n",
       "1  2021-10-11 21:00"
      ]
     },
     "execution_count": 3,
     "metadata": {},
     "output_type": "execute_result"
    }
   ],
   "source": [
    "timestamps"
   ]
  },
  {
   "cell_type": "code",
   "execution_count": 4,
   "id": "alternate-victory",
   "metadata": {
    "execution": {
     "iopub.execute_input": "2021-10-11T19:30:08.235084Z",
     "iopub.status.busy": "2021-10-11T19:30:08.233229Z",
     "iopub.status.idle": "2021-10-11T19:30:08.977909Z",
     "shell.execute_reply": "2021-10-11T19:30:08.979345Z"
    },
    "papermill": {
     "duration": 0.778625,
     "end_time": "2021-10-11T19:30:08.979790",
     "exception": false,
     "start_time": "2021-10-11T19:30:08.201165",
     "status": "completed"
    },
    "tags": []
   },
   "outputs": [],
   "source": [
    "df = pd.read_sql(\"select * from EBAY_TOP_BERLIN where record_time in (select distinct record_time from EBAY_TOP_BERLIN order by record_time desc limit 2)\", sqlite3.connect(\"UsedObjects.db\"))"
   ]
  },
  {
   "cell_type": "code",
   "execution_count": 5,
   "id": "popular-active",
   "metadata": {
    "execution": {
     "iopub.execute_input": "2021-10-11T19:30:09.050096Z",
     "iopub.status.busy": "2021-10-11T19:30:09.038419Z",
     "iopub.status.idle": "2021-10-11T19:30:09.066372Z",
     "shell.execute_reply": "2021-10-11T19:30:09.067600Z"
    },
    "papermill": {
     "duration": 0.068144,
     "end_time": "2021-10-11T19:30:09.067991",
     "exception": false,
     "start_time": "2021-10-11T19:30:08.999847",
     "status": "completed"
    },
    "tags": []
   },
   "outputs": [],
   "source": [
    "df_pivot = df.pivot_table(index=\"PRODUCT\", columns = \"RECORD_TIME\", values = \"LISTING_COUNT\")"
   ]
  },
  {
   "cell_type": "code",
   "execution_count": 6,
   "id": "union-huntington",
   "metadata": {
    "execution": {
     "iopub.execute_input": "2021-10-11T19:30:09.125684Z",
     "iopub.status.busy": "2021-10-11T19:30:09.123491Z",
     "iopub.status.idle": "2021-10-11T19:30:09.129327Z",
     "shell.execute_reply": "2021-10-11T19:30:09.130911Z"
    },
    "papermill": {
     "duration": 0.042435,
     "end_time": "2021-10-11T19:30:09.131391",
     "exception": false,
     "start_time": "2021-10-11T19:30:09.088956",
     "status": "completed"
    },
    "tags": []
   },
   "outputs": [],
   "source": [
    "df_pivot.columns = [\"stamp_1\", \"stamp_2\"]\n",
    "df_pivot_diff = df_pivot.diff(axis=1)"
   ]
  },
  {
   "cell_type": "code",
   "execution_count": 7,
   "id": "fifth-motion",
   "metadata": {
    "execution": {
     "iopub.execute_input": "2021-10-11T19:30:09.187195Z",
     "iopub.status.busy": "2021-10-11T19:30:09.184903Z",
     "iopub.status.idle": "2021-10-11T19:30:10.664574Z",
     "shell.execute_reply": "2021-10-11T19:30:10.666039Z"
    },
    "papermill": {
     "duration": 1.513395,
     "end_time": "2021-10-11T19:30:10.666527",
     "exception": false,
     "start_time": "2021-10-11T19:30:09.153132",
     "status": "completed"
    },
    "tags": []
   },
   "outputs": [
    {
     "data": {
      "text/plain": [
       "<AxesSubplot:ylabel='PRODUCT'>"
      ]
     },
     "execution_count": 7,
     "metadata": {},
     "output_type": "execute_result"
    },
    {
     "data": {
      "image/png": "[encoded data removed]",
      "text/plain": [
       "<Figure size 432x288 with 1 Axes>"
      ]
     },
     "metadata": {
      "needs_background": "light"
     },
     "output_type": "display_data"
    }
   ],
   "source": [
    "df_pivot_diff.sort_values(\"stamp_2\", ascending = False)[\"stamp_2\"].head(10).plot.barh()"
   ]
  },
  {
   "cell_type": "code",
   "execution_count": null,
   "id": "extra-executive",
   "metadata": {
    "papermill": {
     "duration": 0.022324,
     "end_time": "2021-10-11T19:30:10.714896",
     "exception": false,
     "start_time": "2021-10-11T19:30:10.692572",
     "status": "completed"
    },
    "tags": []
   },
   "outputs": [],
   "source": []
  }
 ],
 "metadata": {
  "kernelspec": {
   "display_name": "Python 3",
   "language": "python",
   "name": "python3"
  },
  "language_info": {
   "codemirror_mode": {
    "name": "ipython",
    "version": 3
   },
   "file_extension": ".py",
   "mimetype": "text/x-python",
   "name": "python",
   "nbconvert_exporter": "python",
   "pygments_lexer": "ipython3",
   "version": "3.9.5"
  },
  "papermill": {
   "default_parameters": {},
   "duration": 7.838477,
   "end_time": "2021-10-11T19:30:12.110788",
   "environment_variables": {},
   "exception": null,
   "input_path": "eBay_Overview.ipynb",
   "output_path": "eBay_Overview.ipynb",
   "parameters": {},
   "start_time": "2021-10-11T19:30:04.272311",
   "version": "2.3.3"
  }
 },
 "nbformat": 4,
 "nbformat_minor": 5
}