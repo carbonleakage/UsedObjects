{
 "cells": [
  {
   "cell_type": "code",
   "execution_count": 1,
   "id": "reverse-picking",
   "metadata": {
    "execution": {
     "iopub.execute_input": "2021-10-18T05:00:06.593666Z",
     "iopub.status.busy": "2021-10-18T05:00:06.591583Z",
     "iopub.status.idle": "2021-10-18T05:00:07.399861Z",
     "shell.execute_reply": "2021-10-18T05:00:07.401224Z"
    },
    "papermill": {
     "duration": 0.860172,
     "end_time": "2021-10-18T05:00:07.401852",
     "exception": false,
     "start_time": "2021-10-18T05:00:06.541680",
     "status": "completed"
    },
    "tags": []
   },
   "outputs": [],
   "source": [
    "import pandas as pd\n",
    "import sqlite3"
   ]
  },
  {
   "cell_type": "code",
   "execution_count": 2,
   "id": "innovative-syndrome",
   "metadata": {
    "execution": {
     "iopub.execute_input": "2021-10-18T05:00:07.453081Z",
     "iopub.status.busy": "2021-10-18T05:00:07.450990Z",
     "iopub.status.idle": "2021-10-18T05:00:08.034674Z",
     "shell.execute_reply": "2021-10-18T05:00:08.035884Z"
    },
    "papermill": {
     "duration": 0.613458,
     "end_time": "2021-10-18T05:00:08.036284",
     "exception": false,
     "start_time": "2021-10-18T05:00:07.422826",
     "status": "completed"
    },
    "tags": []
   },
   "outputs": [],
   "source": [
    "timestamps = pd.read_sql(\"select distinct record_time from EBAY_TOP_BERLIN order by record_time desc limit 2\", sqlite3.connect(\"UsedObjects.db\"))"
   ]
  },
  {
   "cell_type": "code",
   "execution_count": 3,
   "id": "periodic-identification",
   "metadata": {
    "execution": {
     "iopub.execute_input": "2021-10-18T05:00:08.112259Z",
     "iopub.status.busy": "2021-10-18T05:00:08.110221Z",
     "iopub.status.idle": "2021-10-18T05:00:08.129681Z",
     "shell.execute_reply": "2021-10-18T05:00:08.130956Z"
    },
    "papermill": {
     "duration": 0.06988,
     "end_time": "2021-10-18T05:00:08.131354",
     "exception": false,
     "start_time": "2021-10-18T05:00:08.061474",
     "status": "completed"
    },
    "tags": []
   },
   "outputs": [
    {
     "data": {
      "text/html": [
       "<div>\n",
       "<style scoped>\n",
       "    .dataframe tbody tr th:only-of-type {\n",
       "        vertical-align: middle;\n",
       "    }\n",
       "\n",
       "    .dataframe tbody tr th {\n",
       "        vertical-align: top;\n",
       "    }\n",
       "\n",
       "    .dataframe thead th {\n",
       "        text-align: right;\n",
       "    }\n",
       "</style>\n",
       "<table border=\"1\" class=\"dataframe\">\n",
       "  <thead>\n",
       "    <tr style=\"text-align: right;\">\n",
       "      <th></th>\n",
       "      <th>RECORD_TIME</th>\n",
       "    </tr>\n",
       "  </thead>\n",
       "  <tbody>\n",
       "    <tr>\n",
       "      <th>0</th>\n",
       "      <td>2021-10-18 07:00</td>\n",
       "    </tr>\n",
       "    <tr>\n",
       "      <th>1</th>\n",
       "      <td>2021-10-18 06:30</td>\n",
       "    </tr>\n",
       "  </tbody>\n",
       "</table>\n",
       "</div>"
      ],
      "text/plain": [
       "        RECORD_TIME\n",
       "0  2021-10-18 07:00\n",
       "1  2021-10-18 06:30"
      ]
     },
     "execution_count": 3,
     "metadata": {},
     "output_type": "execute_result"
    }
   ],
   "source": [
    "timestamps"
   ]
  },
  {
   "cell_type": "code",
   "execution_count": 4,
   "id": "alternate-victory",
   "metadata": {
    "execution": {
     "iopub.execute_input": "2021-10-18T05:00:08.184432Z",
     "iopub.status.busy": "2021-10-18T05:00:08.182150Z",
     "iopub.status.idle": "2021-10-18T05:00:09.004090Z",
     "shell.execute_reply": "2021-10-18T05:00:09.005372Z"
    },
    "papermill": {
     "duration": 0.852552,
     "end_time": "2021-10-18T05:00:09.005785",
     "exception": false,
     "start_time": "2021-10-18T05:00:08.153233",
     "status": "completed"
    },
    "tags": []
   },
   "outputs": [],
   "source": [
    "df = pd.read_sql(\"select * from EBAY_TOP_BERLIN where record_time in (select distinct record_time from EBAY_TOP_BERLIN order by record_time desc limit 2)\", sqlite3.connect(\"UsedObjects.db\"))"
   ]
  },
  {
   "cell_type": "code",
   "execution_count": 5,
   "id": "popular-active",
   "metadata": {
    "execution": {
     "iopub.execute_input": "2021-10-18T05:00:09.076407Z",
     "iopub.status.busy": "2021-10-18T05:00:09.065544Z",
     "iopub.status.idle": "2021-10-18T05:00:09.092505Z",
     "shell.execute_reply": "2021-10-18T05:00:09.093876Z"
    },
    "papermill": {
     "duration": 0.067522,
     "end_time": "2021-10-18T05:00:09.094306",
     "exception": false,
     "start_time": "2021-10-18T05:00:09.026784",
     "status": "completed"
    },
    "tags": []
   },
   "outputs": [],
   "source": [
    "df_pivot = df.pivot_table(index=\"PRODUCT\", columns = \"RECORD_TIME\", values = \"LISTING_COUNT\")"
   ]
  },
  {
   "cell_type": "code",
   "execution_count": 6,
   "id": "union-huntington",
   "metadata": {
    "execution": {
     "iopub.execute_input": "2021-10-18T05:00:09.151165Z",
     "iopub.status.busy": "2021-10-18T05:00:09.149065Z",
     "iopub.status.idle": "2021-10-18T05:00:09.154559Z",
     "shell.execute_reply": "2021-10-18T05:00:09.155758Z"
    },
    "papermill": {
     "duration": 0.040553,
     "end_time": "2021-10-18T05:00:09.156192",
     "exception": false,
     "start_time": "2021-10-18T05:00:09.115639",
     "status": "completed"
    },
    "tags": []
   },
   "outputs": [],
   "source": [
    "df_pivot.columns = [\"stamp_1\", \"stamp_2\"]\n",
    "df_pivot_diff = df_pivot.diff(axis=1)"
   ]
  },
  {
   "cell_type": "code",
   "execution_count": 7,
   "id": "fifth-motion",
   "metadata": {
    "execution": {
     "iopub.execute_input": "2021-10-18T05:00:09.214897Z",
     "iopub.status.busy": "2021-10-18T05:00:09.212121Z",
     "iopub.status.idle": "2021-10-18T05:00:10.694812Z",
     "shell.execute_reply": "2021-10-18T05:00:10.696095Z"
    },
    "papermill": {
     "duration": 1.516614,
     "end_time": "2021-10-18T05:00:10.696516",
     "exception": false,
     "start_time": "2021-10-18T05:00:09.179902",
     "status": "completed"
    },
    "tags": []
   },
   "outputs": [
    {
     "data": {
      "text/plain": [
       "<AxesSubplot:ylabel='PRODUCT'>"
      ]
     },
     "execution_count": 7,
     "metadata": {},
     "output_type": "execute_result"
    },
    {
     "data": {
      "image/png": "[encoded data removed]",
      "text/plain": [
       "<Figure size 432x288 with 1 Axes>"
      ]
     },
     "metadata": {
      "needs_background": "light"
     },
     "output_type": "display_data"
    }
   ],
   "source": [
    "df_pivot_diff.sort_values(\"stamp_2\", ascending = False)[\"stamp_2\"].head(10).plot.barh()"
   ]
  },
  {
   "cell_type": "code",
   "execution_count": null,
   "id": "extra-executive",
   "metadata": {
    "papermill": {
     "duration": 0.022194,
     "end_time": "2021-10-18T05:00:10.742654",
     "exception": false,
     "start_time": "2021-10-18T05:00:10.720460",
     "status": "completed"
    },
    "tags": []
   },
   "outputs": [],
   "source": []
  }
 ],
 "metadata": {
  "kernelspec": {
   "display_name": "Python 3",
   "language": "python",
   "name": "python3"
  },
  "language_info": {
   "codemirror_mode": {
    "name": "ipython",
    "version": 3
   },
   "file_extension": ".py",
   "mimetype": "text/x-python",
   "name": "python",
   "nbconvert_exporter": "python",
   "pygments_lexer": "ipython3",
   "version": "3.9.5"
  },
  "papermill": {
   "default_parameters": {},
   "duration": 7.821894,
   "end_time": "2021-10-18T05:00:11.956038",
   "environment_variables": {},
   "exception": null,
   "input_path": "eBay_Overview.ipynb",
   "output_path": "eBay_Overview.ipynb",
   "parameters": {},
   "start_time": "2021-10-18T05:00:04.134144",
   "version": "2.3.3"
  }
 },
 "nbformat": 4,
 "nbformat_minor": 5
}