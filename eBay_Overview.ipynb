{
 "cells": [
  {
   "cell_type": "code",
   "execution_count": 1,
   "id": "reverse-picking",
   "metadata": {
    "execution": {
     "iopub.execute_input": "2021-12-10T14:00:07.290602Z",
     "iopub.status.busy": "2021-12-10T14:00:07.288388Z",
     "iopub.status.idle": "2021-12-10T14:00:08.230428Z",
     "shell.execute_reply": "2021-12-10T14:00:08.232909Z"
    },
    "papermill": {
     "duration": 0.992248,
     "end_time": "2021-12-10T14:00:08.233672",
     "exception": false,
     "start_time": "2021-12-10T14:00:07.241424",
     "status": "completed"
    },
    "tags": []
   },
   "outputs": [],
   "source": [
    "import pandas as pd\n",
    "import sqlite3"
   ]
  },
  {
   "cell_type": "code",
   "execution_count": 2,
   "id": "innovative-syndrome",
   "metadata": {
    "execution": {
     "iopub.execute_input": "2021-12-10T14:00:08.296308Z",
     "iopub.status.busy": "2021-12-10T14:00:08.293509Z",
     "iopub.status.idle": "2021-12-10T14:00:09.329976Z",
     "shell.execute_reply": "2021-12-10T14:00:09.328275Z"
    },
    "papermill": {
     "duration": 1.069679,
     "end_time": "2021-12-10T14:00:09.330404",
     "exception": false,
     "start_time": "2021-12-10T14:00:08.260725",
     "status": "completed"
    },
    "tags": []
   },
   "outputs": [],
   "source": [
    "timestamps = pd.read_sql(\"select distinct record_time from EBAY_TOP_BERLIN order by record_time desc limit 2\", sqlite3.connect(\"UsedObjects.db\"))"
   ]
  },
  {
   "cell_type": "code",
   "execution_count": 3,
   "id": "periodic-identification",
   "metadata": {
    "execution": {
     "iopub.execute_input": "2021-12-10T14:00:09.403344Z",
     "iopub.status.busy": "2021-12-10T14:00:09.399818Z",
     "iopub.status.idle": "2021-12-10T14:00:09.424988Z",
     "shell.execute_reply": "2021-12-10T14:00:09.426515Z"
    },
    "papermill": {
     "duration": 0.076081,
     "end_time": "2021-12-10T14:00:09.427055",
     "exception": false,
     "start_time": "2021-12-10T14:00:09.350974",
     "status": "completed"
    },
    "tags": []
   },
   "outputs": [
    {
     "data": {
      "text/html": [
       "<div>\n",
       "<style scoped>\n",
       "    .dataframe tbody tr th:only-of-type {\n",
       "        vertical-align: middle;\n",
       "    }\n",
       "\n",
       "    .dataframe tbody tr th {\n",
       "        vertical-align: top;\n",
       "    }\n",
       "\n",
       "    .dataframe thead th {\n",
       "        text-align: right;\n",
       "    }\n",
       "</style>\n",
       "<table border=\"1\" class=\"dataframe\">\n",
       "  <thead>\n",
       "    <tr style=\"text-align: right;\">\n",
       "      <th></th>\n",
       "      <th>RECORD_TIME</th>\n",
       "    </tr>\n",
       "  </thead>\n",
       "  <tbody>\n",
       "    <tr>\n",
       "      <th>0</th>\n",
       "      <td>2021-12-10 15:00</td>\n",
       "    </tr>\n",
       "    <tr>\n",
       "      <th>1</th>\n",
       "      <td>2021-12-10 14:30</td>\n",
       "    </tr>\n",
       "  </tbody>\n",
       "</table>\n",
       "</div>"
      ],
      "text/plain": [
       "        RECORD_TIME\n",
       "0  2021-12-10 15:00\n",
       "1  2021-12-10 14:30"
      ]
     },
     "execution_count": 3,
     "metadata": {},
     "output_type": "execute_result"
    }
   ],
   "source": [
    "timestamps"
   ]
  },
  {
   "cell_type": "code",
   "execution_count": 4,
   "id": "alternate-victory",
   "metadata": {
    "execution": {
     "iopub.execute_input": "2021-12-10T14:00:09.484602Z",
     "iopub.status.busy": "2021-12-10T14:00:09.482313Z",
     "iopub.status.idle": "2021-12-10T14:00:10.971781Z",
     "shell.execute_reply": "2021-12-10T14:00:10.973685Z"
    },
    "papermill": {
     "duration": 1.525101,
     "end_time": "2021-12-10T14:00:10.974182",
     "exception": false,
     "start_time": "2021-12-10T14:00:09.449081",
     "status": "completed"
    },
    "tags": []
   },
   "outputs": [],
   "source": [
    "df = pd.read_sql(\"select * from EBAY_TOP_BERLIN where record_time in (select distinct record_time from EBAY_TOP_BERLIN order by record_time desc limit 2)\", sqlite3.connect(\"UsedObjects.db\"))"
   ]
  },
  {
   "cell_type": "code",
   "execution_count": 5,
   "id": "popular-active",
   "metadata": {
    "execution": {
     "iopub.execute_input": "2021-12-10T14:00:11.051601Z",
     "iopub.status.busy": "2021-12-10T14:00:11.039159Z",
     "iopub.status.idle": "2021-12-10T14:00:11.072218Z",
     "shell.execute_reply": "2021-12-10T14:00:11.073725Z"
    },
    "papermill": {
     "duration": 0.078737,
     "end_time": "2021-12-10T14:00:11.074198",
     "exception": false,
     "start_time": "2021-12-10T14:00:10.995461",
     "status": "completed"
    },
    "tags": []
   },
   "outputs": [],
   "source": [
    "df_pivot = df.pivot_table(index=\"PRODUCT\", columns = \"RECORD_TIME\", values = \"LISTING_COUNT\")"
   ]
  },
  {
   "cell_type": "code",
   "execution_count": 6,
   "id": "union-huntington",
   "metadata": {
    "execution": {
     "iopub.execute_input": "2021-12-10T14:00:11.136576Z",
     "iopub.status.busy": "2021-12-10T14:00:11.134210Z",
     "iopub.status.idle": "2021-12-10T14:00:11.140501Z",
     "shell.execute_reply": "2021-12-10T14:00:11.141923Z"
    },
    "papermill": {
     "duration": 0.046515,
     "end_time": "2021-12-10T14:00:11.142396",
     "exception": false,
     "start_time": "2021-12-10T14:00:11.095881",
     "status": "completed"
    },
    "tags": []
   },
   "outputs": [],
   "source": [
    "df_pivot.columns = [\"stamp_1\", \"stamp_2\"]\n",
    "df_pivot_diff = df_pivot.diff(axis=1)"
   ]
  },
  {
   "cell_type": "code",
   "execution_count": 7,
   "id": "fifth-motion",
   "metadata": {
    "execution": {
     "iopub.execute_input": "2021-12-10T14:00:11.198164Z",
     "iopub.status.busy": "2021-12-10T14:00:11.195679Z",
     "iopub.status.idle": "2021-12-10T14:00:13.095355Z",
     "shell.execute_reply": "2021-12-10T14:00:13.093635Z"
    },
    "papermill": {
     "duration": 1.933731,
     "end_time": "2021-12-10T14:00:13.095867",
     "exception": false,
     "start_time": "2021-12-10T14:00:11.162136",
     "status": "completed"
    },
    "tags": []
   },
   "outputs": [
    {
     "data": {
      "text/plain": [
       "<AxesSubplot:ylabel='PRODUCT'>"
      ]
     },
     "execution_count": 7,
     "metadata": {},
     "output_type": "execute_result"
    },
    {
     "data": {
      "image/png": "[encoded data removed]",
      "text/plain": [
       "<Figure size 432x288 with 1 Axes>"
      ]
     },
     "metadata": {
      "needs_background": "light"
     },
     "output_type": "display_data"
    }
   ],
   "source": [
    "df_pivot_diff.sort_values(\"stamp_2\", ascending = False)[\"stamp_2\"].head(10).plot.barh()"
   ]
  },
  {
   "cell_type": "code",
   "execution_count": null,
   "id": "extra-executive",
   "metadata": {
    "papermill": {
     "duration": 0.035737,
     "end_time": "2021-12-10T14:00:13.160957",
     "exception": false,
     "start_time": "2021-12-10T14:00:13.125220",
     "status": "completed"
    },
    "tags": []
   },
   "outputs": [],
   "source": []
  }
 ],
 "metadata": {
  "kernelspec": {
   "display_name": "Python 3",
   "language": "python",
   "name": "python3"
  },
  "language_info": {
   "codemirror_mode": {
    "name": "ipython",
    "version": 3
   },
   "file_extension": ".py",
   "mimetype": "text/x-python",
   "name": "python",
   "nbconvert_exporter": "python",
   "pygments_lexer": "ipython3",
   "version": "3.9.5"
  },
  "papermill": {
   "default_parameters": {},
   "duration": 9.970735,
   "end_time": "2021-12-10T14:00:14.453602",
   "environment_variables": {},
   "exception": null,
   "input_path": "eBay_Overview.ipynb",
   "output_path": "eBay_Overview.ipynb",
   "parameters": {},
   "start_time": "2021-12-10T14:00:04.482867",
   "version": "2.3.3"
  }
 },
 "nbformat": 4,
 "nbformat_minor": 5
}