{
 "cells": [
  {
   "cell_type": "code",
   "execution_count": 1,
   "id": "reverse-picking",
   "metadata": {
    "execution": {
     "iopub.execute_input": "2021-08-08T21:56:03.413056Z",
     "iopub.status.busy": "2021-08-08T21:56:03.412292Z",
     "iopub.status.idle": "2021-08-08T21:56:04.112061Z",
     "shell.execute_reply": "2021-08-08T21:56:04.111146Z"
    },
    "papermill": {
     "duration": 0.718586,
     "end_time": "2021-08-08T21:56:04.112257",
     "exception": false,
     "start_time": "2021-08-08T21:56:03.393671",
     "status": "completed"
    },
    "tags": []
   },
   "outputs": [],
   "source": [
    "import pandas as pd\n",
    "import sqlite3"
   ]
  },
  {
   "cell_type": "code",
   "execution_count": 2,
   "id": "innovative-syndrome",
   "metadata": {
    "execution": {
     "iopub.execute_input": "2021-08-08T21:56:04.135162Z",
     "iopub.status.busy": "2021-08-08T21:56:04.134285Z",
     "iopub.status.idle": "2021-08-08T21:56:04.340787Z",
     "shell.execute_reply": "2021-08-08T21:56:04.341418Z"
    },
    "papermill": {
     "duration": 0.22075,
     "end_time": "2021-08-08T21:56:04.341622",
     "exception": false,
     "start_time": "2021-08-08T21:56:04.120872",
     "status": "completed"
    },
    "tags": []
   },
   "outputs": [],
   "source": [
    "timestamps = pd.read_sql(\"select distinct record_time from EBAY_TOP_BERLIN order by record_time desc limit 2\", sqlite3.connect(\"UsedObjects.db\"))"
   ]
  },
  {
   "cell_type": "code",
   "execution_count": 3,
   "id": "periodic-identification",
   "metadata": {
    "execution": {
     "iopub.execute_input": "2021-08-08T21:56:04.377417Z",
     "iopub.status.busy": "2021-08-08T21:56:04.376653Z",
     "iopub.status.idle": "2021-08-08T21:56:04.387533Z",
     "shell.execute_reply": "2021-08-08T21:56:04.388068Z"
    },
    "papermill": {
     "duration": 0.034805,
     "end_time": "2021-08-08T21:56:04.388245",
     "exception": false,
     "start_time": "2021-08-08T21:56:04.353440",
     "status": "completed"
    },
    "tags": []
   },
   "outputs": [
    {
     "data": {
      "text/html": [
       "<div>\n",
       "<style scoped>\n",
       "    .dataframe tbody tr th:only-of-type {\n",
       "        vertical-align: middle;\n",
       "    }\n",
       "\n",
       "    .dataframe tbody tr th {\n",
       "        vertical-align: top;\n",
       "    }\n",
       "\n",
       "    .dataframe thead th {\n",
       "        text-align: right;\n",
       "    }\n",
       "</style>\n",
       "<table border=\"1\" class=\"dataframe\">\n",
       "  <thead>\n",
       "    <tr style=\"text-align: right;\">\n",
       "      <th></th>\n",
       "      <th>RECORD_TIME</th>\n",
       "    </tr>\n",
       "  </thead>\n",
       "  <tbody>\n",
       "    <tr>\n",
       "      <th>0</th>\n",
       "      <td>2021-08-08 23:56</td>\n",
       "    </tr>\n",
       "    <tr>\n",
       "      <th>1</th>\n",
       "      <td>2021-08-08 23:54</td>\n",
       "    </tr>\n",
       "  </tbody>\n",
       "</table>\n",
       "</div>"
      ],
      "text/plain": [
       "        RECORD_TIME\n",
       "0  2021-08-08 23:56\n",
       "1  2021-08-08 23:54"
      ]
     },
     "execution_count": 3,
     "metadata": {},
     "output_type": "execute_result"
    }
   ],
   "source": [
    "timestamps"
   ]
  },
  {
   "cell_type": "code",
   "execution_count": 4,
   "id": "alternate-victory",
   "metadata": {
    "execution": {
     "iopub.execute_input": "2021-08-08T21:56:04.413938Z",
     "iopub.status.busy": "2021-08-08T21:56:04.413033Z",
     "iopub.status.idle": "2021-08-08T21:56:04.423378Z",
     "shell.execute_reply": "2021-08-08T21:56:04.424099Z"
    },
    "papermill": {
     "duration": 0.027065,
     "end_time": "2021-08-08T21:56:04.424307",
     "exception": false,
     "start_time": "2021-08-08T21:56:04.397242",
     "status": "completed"
    },
    "tags": []
   },
   "outputs": [],
   "source": [
    "df = pd.read_sql(\"select * from EBAY_TOP_BERLIN where record_time in (select distinct record_time from EBAY_TOP_BERLIN order by record_time desc limit 2)\", sqlite3.connect(\"UsedObjects.db\"))"
   ]
  },
  {
   "cell_type": "code",
   "execution_count": 5,
   "id": "popular-active",
   "metadata": {
    "execution": {
     "iopub.execute_input": "2021-08-08T21:56:04.455905Z",
     "iopub.status.busy": "2021-08-08T21:56:04.454393Z",
     "iopub.status.idle": "2021-08-08T21:56:04.474098Z",
     "shell.execute_reply": "2021-08-08T21:56:04.474721Z"
    },
    "papermill": {
     "duration": 0.041395,
     "end_time": "2021-08-08T21:56:04.474970",
     "exception": false,
     "start_time": "2021-08-08T21:56:04.433575",
     "status": "completed"
    },
    "tags": []
   },
   "outputs": [],
   "source": [
    "df_pivot = df.pivot_table(index=\"PRODUCT\", columns = \"RECORD_TIME\", values = \"LISTING_COUNT\")"
   ]
  },
  {
   "cell_type": "code",
   "execution_count": 6,
   "id": "union-huntington",
   "metadata": {
    "execution": {
     "iopub.execute_input": "2021-08-08T21:56:04.509555Z",
     "iopub.status.busy": "2021-08-08T21:56:04.504023Z",
     "iopub.status.idle": "2021-08-08T21:56:04.512121Z",
     "shell.execute_reply": "2021-08-08T21:56:04.512684Z"
    },
    "papermill": {
     "duration": 0.027273,
     "end_time": "2021-08-08T21:56:04.512876",
     "exception": false,
     "start_time": "2021-08-08T21:56:04.485603",
     "status": "completed"
    },
    "tags": []
   },
   "outputs": [],
   "source": [
    "df_pivot.columns = [\"stamp_1\", \"stamp_2\"]\n",
    "df_pivot_diff = df_pivot.diff(axis=1)"
   ]
  },
  {
   "cell_type": "code",
   "execution_count": 7,
   "id": "fifth-motion",
   "metadata": {
    "execution": {
     "iopub.execute_input": "2021-08-08T21:56:04.540976Z",
     "iopub.status.busy": "2021-08-08T21:56:04.540010Z",
     "iopub.status.idle": "2021-08-08T21:56:05.362950Z",
     "shell.execute_reply": "2021-08-08T21:56:05.363477Z"
    },
    "papermill": {
     "duration": 0.840759,
     "end_time": "2021-08-08T21:56:05.363655",
     "exception": false,
     "start_time": "2021-08-08T21:56:04.522896",
     "status": "completed"
    },
    "tags": []
   },
   "outputs": [
    {
     "data": {
      "text/plain": [
       "<AxesSubplot:ylabel='PRODUCT'>"
      ]
     },
     "execution_count": 7,
     "metadata": {},
     "output_type": "execute_result"
    },
    {
     "data": {
      "image/png": "[encoded data removed]",
      "text/plain": [
       "<Figure size 432x288 with 1 Axes>"
      ]
     },
     "metadata": {
      "needs_background": "light"
     },
     "output_type": "display_data"
    }
   ],
   "source": [
    "df_pivot_diff.sort_values(\"stamp_2\", ascending = False)[\"stamp_2\"].head(10).plot.barh()"
   ]
  },
  {
   "cell_type": "code",
   "execution_count": null,
   "id": "extra-executive",
   "metadata": {
    "papermill": {
     "duration": 0.010787,
     "end_time": "2021-08-08T21:56:05.384440",
     "exception": false,
     "start_time": "2021-08-08T21:56:05.373653",
     "status": "completed"
    },
    "tags": []
   },
   "outputs": [],
   "source": []
  }
 ],
 "metadata": {
  "kernelspec": {
   "display_name": "Python 3",
   "language": "python",
   "name": "python3"
  },
  "language_info": {
   "codemirror_mode": {
    "name": "ipython",
    "version": 3
   },
   "file_extension": ".py",
   "mimetype": "text/x-python",
   "name": "python",
   "nbconvert_exporter": "python",
   "pygments_lexer": "ipython3",
   "version": "3.8.8"
  },
  "papermill": {
   "default_parameters": {},
   "duration": 4.122158,
   "end_time": "2021-08-08T21:56:05.915553",
   "environment_variables": {},
   "exception": null,
   "input_path": "/Users/saravananshanmugam/Carbonleakage_Git/UsedObjects/eBay_Overview.ipynb",
   "output_path": "/Users/saravananshanmugam/Carbonleakage_Git/UsedObjects/eBay_Overview.ipynb",
   "parameters": {},
   "start_time": "2021-08-08T21:56:01.793395",
   "version": "2.3.3"
  }
 },
 "nbformat": 4,
 "nbformat_minor": 5
}