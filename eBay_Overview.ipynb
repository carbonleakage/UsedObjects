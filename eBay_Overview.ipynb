{
 "cells": [
  {
   "cell_type": "code",
   "execution_count": 1,
   "id": "reverse-picking",
   "metadata": {
    "execution": {
     "iopub.execute_input": "2021-12-20T18:00:07.932671Z",
     "iopub.status.busy": "2021-12-20T18:00:07.930251Z",
     "iopub.status.idle": "2021-12-20T18:00:08.893381Z",
     "shell.execute_reply": "2021-12-20T18:00:08.894882Z"
    },
    "papermill": {
     "duration": 1.01381,
     "end_time": "2021-12-20T18:00:08.895698",
     "exception": false,
     "start_time": "2021-12-20T18:00:07.881888",
     "status": "completed"
    },
    "tags": []
   },
   "outputs": [],
   "source": [
    "import pandas as pd\n",
    "import sqlite3"
   ]
  },
  {
   "cell_type": "code",
   "execution_count": 2,
   "id": "innovative-syndrome",
   "metadata": {
    "execution": {
     "iopub.execute_input": "2021-12-20T18:00:08.960013Z",
     "iopub.status.busy": "2021-12-20T18:00:08.957236Z",
     "iopub.status.idle": "2021-12-20T18:00:10.096276Z",
     "shell.execute_reply": "2021-12-20T18:00:10.098080Z"
    },
    "papermill": {
     "duration": 1.173364,
     "end_time": "2021-12-20T18:00:10.098492",
     "exception": false,
     "start_time": "2021-12-20T18:00:08.925128",
     "status": "completed"
    },
    "tags": []
   },
   "outputs": [],
   "source": [
    "timestamps = pd.read_sql(\"select distinct record_time from EBAY_TOP_BERLIN order by record_time desc limit 2\", sqlite3.connect(\"UsedObjects.db\"))"
   ]
  },
  {
   "cell_type": "code",
   "execution_count": 3,
   "id": "periodic-identification",
   "metadata": {
    "execution": {
     "iopub.execute_input": "2021-12-20T18:00:10.165584Z",
     "iopub.status.busy": "2021-12-20T18:00:10.163494Z",
     "iopub.status.idle": "2021-12-20T18:00:10.185799Z",
     "shell.execute_reply": "2021-12-20T18:00:10.187115Z"
    },
    "papermill": {
     "duration": 0.067453,
     "end_time": "2021-12-20T18:00:10.187536",
     "exception": false,
     "start_time": "2021-12-20T18:00:10.120083",
     "status": "completed"
    },
    "tags": []
   },
   "outputs": [
    {
     "data": {
      "text/html": [
       "<div>\n",
       "<style scoped>\n",
       "    .dataframe tbody tr th:only-of-type {\n",
       "        vertical-align: middle;\n",
       "    }\n",
       "\n",
       "    .dataframe tbody tr th {\n",
       "        vertical-align: top;\n",
       "    }\n",
       "\n",
       "    .dataframe thead th {\n",
       "        text-align: right;\n",
       "    }\n",
       "</style>\n",
       "<table border=\"1\" class=\"dataframe\">\n",
       "  <thead>\n",
       "    <tr style=\"text-align: right;\">\n",
       "      <th></th>\n",
       "      <th>RECORD_TIME</th>\n",
       "    </tr>\n",
       "  </thead>\n",
       "  <tbody>\n",
       "    <tr>\n",
       "      <th>0</th>\n",
       "      <td>2021-12-20 19:00</td>\n",
       "    </tr>\n",
       "    <tr>\n",
       "      <th>1</th>\n",
       "      <td>2021-12-20 18:30</td>\n",
       "    </tr>\n",
       "  </tbody>\n",
       "</table>\n",
       "</div>"
      ],
      "text/plain": [
       "        RECORD_TIME\n",
       "0  2021-12-20 19:00\n",
       "1  2021-12-20 18:30"
      ]
     },
     "execution_count": 3,
     "metadata": {},
     "output_type": "execute_result"
    }
   ],
   "source": [
    "timestamps"
   ]
  },
  {
   "cell_type": "code",
   "execution_count": 4,
   "id": "alternate-victory",
   "metadata": {
    "execution": {
     "iopub.execute_input": "2021-12-20T18:00:10.240495Z",
     "iopub.status.busy": "2021-12-20T18:00:10.238437Z",
     "iopub.status.idle": "2021-12-20T18:00:11.936130Z",
     "shell.execute_reply": "2021-12-20T18:00:11.938315Z"
    },
    "papermill": {
     "duration": 1.730954,
     "end_time": "2021-12-20T18:00:11.938790",
     "exception": false,
     "start_time": "2021-12-20T18:00:10.207836",
     "status": "completed"
    },
    "tags": []
   },
   "outputs": [],
   "source": [
    "df = pd.read_sql(\"select * from EBAY_TOP_BERLIN where record_time in (select distinct record_time from EBAY_TOP_BERLIN order by record_time desc limit 2)\", sqlite3.connect(\"UsedObjects.db\"))"
   ]
  },
  {
   "cell_type": "code",
   "execution_count": 5,
   "id": "popular-active",
   "metadata": {
    "execution": {
     "iopub.execute_input": "2021-12-20T18:00:12.017001Z",
     "iopub.status.busy": "2021-12-20T18:00:11.999635Z",
     "iopub.status.idle": "2021-12-20T18:00:12.036863Z",
     "shell.execute_reply": "2021-12-20T18:00:12.038421Z"
    },
    "papermill": {
     "duration": 0.079325,
     "end_time": "2021-12-20T18:00:12.038915",
     "exception": false,
     "start_time": "2021-12-20T18:00:11.959590",
     "status": "completed"
    },
    "tags": []
   },
   "outputs": [],
   "source": [
    "df_pivot = df.pivot_table(index=\"PRODUCT\", columns = \"RECORD_TIME\", values = \"LISTING_COUNT\")"
   ]
  },
  {
   "cell_type": "code",
   "execution_count": 6,
   "id": "union-huntington",
   "metadata": {
    "execution": {
     "iopub.execute_input": "2021-12-20T18:00:12.098433Z",
     "iopub.status.busy": "2021-12-20T18:00:12.096262Z",
     "iopub.status.idle": "2021-12-20T18:00:12.103849Z",
     "shell.execute_reply": "2021-12-20T18:00:12.105333Z"
    },
    "papermill": {
     "duration": 0.045712,
     "end_time": "2021-12-20T18:00:12.105825",
     "exception": false,
     "start_time": "2021-12-20T18:00:12.060113",
     "status": "completed"
    },
    "tags": []
   },
   "outputs": [],
   "source": [
    "df_pivot.columns = [\"stamp_1\", \"stamp_2\"]\n",
    "df_pivot_diff = df_pivot.diff(axis=1)"
   ]
  },
  {
   "cell_type": "code",
   "execution_count": 7,
   "id": "fifth-motion",
   "metadata": {
    "execution": {
     "iopub.execute_input": "2021-12-20T18:00:12.162679Z",
     "iopub.status.busy": "2021-12-20T18:00:12.160022Z",
     "iopub.status.idle": "2021-12-20T18:00:14.188663Z",
     "shell.execute_reply": "2021-12-20T18:00:14.190150Z"
    },
    "papermill": {
     "duration": 2.064825,
     "end_time": "2021-12-20T18:00:14.190598",
     "exception": false,
     "start_time": "2021-12-20T18:00:12.125773",
     "status": "completed"
    },
    "tags": []
   },
   "outputs": [
    {
     "data": {
      "text/plain": [
       "<AxesSubplot:ylabel='PRODUCT'>"
      ]
     },
     "execution_count": 7,
     "metadata": {},
     "output_type": "execute_result"
    },
    {
     "data": {
      "image/png": "[encoded data removed]",
      "text/plain": [
       "<Figure size 432x288 with 1 Axes>"
      ]
     },
     "metadata": {
      "needs_background": "light"
     },
     "output_type": "display_data"
    }
   ],
   "source": [
    "df_pivot_diff.sort_values(\"stamp_2\", ascending = False)[\"stamp_2\"].head(10).plot.barh()"
   ]
  },
  {
   "cell_type": "code",
   "execution_count": null,
   "id": "extra-executive",
   "metadata": {
    "papermill": {
     "duration": 0.022151,
     "end_time": "2021-12-20T18:00:14.237354",
     "exception": false,
     "start_time": "2021-12-20T18:00:14.215203",
     "status": "completed"
    },
    "tags": []
   },
   "outputs": [],
   "source": []
  }
 ],
 "metadata": {
  "kernelspec": {
   "display_name": "Python 3",
   "language": "python",
   "name": "python3"
  },
  "language_info": {
   "codemirror_mode": {
    "name": "ipython",
    "version": 3
   },
   "file_extension": ".py",
   "mimetype": "text/x-python",
   "name": "python",
   "nbconvert_exporter": "python",
   "pygments_lexer": "ipython3",
   "version": "3.9.5"
  },
  "papermill": {
   "default_parameters": {},
   "duration": 9.750546,
   "end_time": "2021-12-20T18:00:14.882092",
   "environment_variables": {},
   "exception": null,
   "input_path": "eBay_Overview.ipynb",
   "output_path": "eBay_Overview.ipynb",
   "parameters": {},
   "start_time": "2021-12-20T18:00:05.131546",
   "version": "2.3.3"
  }
 },
 "nbformat": 4,
 "nbformat_minor": 5
}