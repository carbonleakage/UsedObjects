{
 "cells": [
  {
   "cell_type": "code",
   "execution_count": 1,
   "id": "reverse-picking",
   "metadata": {
    "execution": {
     "iopub.execute_input": "2021-12-19T07:00:07.759925Z",
     "iopub.status.busy": "2021-12-19T07:00:07.757630Z",
     "iopub.status.idle": "2021-12-19T07:00:08.718418Z",
     "shell.execute_reply": "2021-12-19T07:00:08.719988Z"
    },
    "papermill": {
     "duration": 1.01066,
     "end_time": "2021-12-19T07:00:08.720814",
     "exception": false,
     "start_time": "2021-12-19T07:00:07.710154",
     "status": "completed"
    },
    "tags": []
   },
   "outputs": [],
   "source": [
    "import pandas as pd\n",
    "import sqlite3"
   ]
  },
  {
   "cell_type": "code",
   "execution_count": 2,
   "id": "innovative-syndrome",
   "metadata": {
    "execution": {
     "iopub.execute_input": "2021-12-19T07:00:08.782799Z",
     "iopub.status.busy": "2021-12-19T07:00:08.780328Z",
     "iopub.status.idle": "2021-12-19T07:00:09.909341Z",
     "shell.execute_reply": "2021-12-19T07:00:09.910589Z"
    },
    "papermill": {
     "duration": 1.163005,
     "end_time": "2021-12-19T07:00:09.910990",
     "exception": false,
     "start_time": "2021-12-19T07:00:08.747985",
     "status": "completed"
    },
    "tags": []
   },
   "outputs": [],
   "source": [
    "timestamps = pd.read_sql(\"select distinct record_time from EBAY_TOP_BERLIN order by record_time desc limit 2\", sqlite3.connect(\"UsedObjects.db\"))"
   ]
  },
  {
   "cell_type": "code",
   "execution_count": 3,
   "id": "periodic-identification",
   "metadata": {
    "execution": {
     "iopub.execute_input": "2021-12-19T07:00:09.979536Z",
     "iopub.status.busy": "2021-12-19T07:00:09.977232Z",
     "iopub.status.idle": "2021-12-19T07:00:10.003189Z",
     "shell.execute_reply": "2021-12-19T07:00:10.000413Z"
    },
    "papermill": {
     "duration": 0.073029,
     "end_time": "2021-12-19T07:00:10.003585",
     "exception": false,
     "start_time": "2021-12-19T07:00:09.930556",
     "status": "completed"
    },
    "tags": []
   },
   "outputs": [
    {
     "data": {
      "text/html": [
       "<div>\n",
       "<style scoped>\n",
       "    .dataframe tbody tr th:only-of-type {\n",
       "        vertical-align: middle;\n",
       "    }\n",
       "\n",
       "    .dataframe tbody tr th {\n",
       "        vertical-align: top;\n",
       "    }\n",
       "\n",
       "    .dataframe thead th {\n",
       "        text-align: right;\n",
       "    }\n",
       "</style>\n",
       "<table border=\"1\" class=\"dataframe\">\n",
       "  <thead>\n",
       "    <tr style=\"text-align: right;\">\n",
       "      <th></th>\n",
       "      <th>RECORD_TIME</th>\n",
       "    </tr>\n",
       "  </thead>\n",
       "  <tbody>\n",
       "    <tr>\n",
       "      <th>0</th>\n",
       "      <td>2021-12-19 08:00</td>\n",
       "    </tr>\n",
       "    <tr>\n",
       "      <th>1</th>\n",
       "      <td>2021-12-19 07:30</td>\n",
       "    </tr>\n",
       "  </tbody>\n",
       "</table>\n",
       "</div>"
      ],
      "text/plain": [
       "        RECORD_TIME\n",
       "0  2021-12-19 08:00\n",
       "1  2021-12-19 07:30"
      ]
     },
     "execution_count": 3,
     "metadata": {},
     "output_type": "execute_result"
    }
   ],
   "source": [
    "timestamps"
   ]
  },
  {
   "cell_type": "code",
   "execution_count": 4,
   "id": "alternate-victory",
   "metadata": {
    "execution": {
     "iopub.execute_input": "2021-12-19T07:00:10.062078Z",
     "iopub.status.busy": "2021-12-19T07:00:10.059963Z",
     "iopub.status.idle": "2021-12-19T07:00:11.711463Z",
     "shell.execute_reply": "2021-12-19T07:00:11.708735Z"
    },
    "papermill": {
     "duration": 1.686954,
     "end_time": "2021-12-19T07:00:11.711902",
     "exception": false,
     "start_time": "2021-12-19T07:00:10.024948",
     "status": "completed"
    },
    "tags": []
   },
   "outputs": [],
   "source": [
    "df = pd.read_sql(\"select * from EBAY_TOP_BERLIN where record_time in (select distinct record_time from EBAY_TOP_BERLIN order by record_time desc limit 2)\", sqlite3.connect(\"UsedObjects.db\"))"
   ]
  },
  {
   "cell_type": "code",
   "execution_count": 5,
   "id": "popular-active",
   "metadata": {
    "execution": {
     "iopub.execute_input": "2021-12-19T07:00:11.776162Z",
     "iopub.status.busy": "2021-12-19T07:00:11.773839Z",
     "iopub.status.idle": "2021-12-19T07:00:11.804592Z",
     "shell.execute_reply": "2021-12-19T07:00:11.806045Z"
    },
    "papermill": {
     "duration": 0.072959,
     "end_time": "2021-12-19T07:00:11.806554",
     "exception": false,
     "start_time": "2021-12-19T07:00:11.733595",
     "status": "completed"
    },
    "tags": []
   },
   "outputs": [],
   "source": [
    "df_pivot = df.pivot_table(index=\"PRODUCT\", columns = \"RECORD_TIME\", values = \"LISTING_COUNT\")"
   ]
  },
  {
   "cell_type": "code",
   "execution_count": 6,
   "id": "union-huntington",
   "metadata": {
    "execution": {
     "iopub.execute_input": "2021-12-19T07:00:11.867248Z",
     "iopub.status.busy": "2021-12-19T07:00:11.864823Z",
     "iopub.status.idle": "2021-12-19T07:00:11.873138Z",
     "shell.execute_reply": "2021-12-19T07:00:11.871270Z"
    },
    "papermill": {
     "duration": 0.047099,
     "end_time": "2021-12-19T07:00:11.873622",
     "exception": false,
     "start_time": "2021-12-19T07:00:11.826523",
     "status": "completed"
    },
    "tags": []
   },
   "outputs": [],
   "source": [
    "df_pivot.columns = [\"stamp_1\", \"stamp_2\"]\n",
    "df_pivot_diff = df_pivot.diff(axis=1)"
   ]
  },
  {
   "cell_type": "code",
   "execution_count": 7,
   "id": "fifth-motion",
   "metadata": {
    "execution": {
     "iopub.execute_input": "2021-12-19T07:00:11.934050Z",
     "iopub.status.busy": "2021-12-19T07:00:11.931483Z",
     "iopub.status.idle": "2021-12-19T07:00:13.916741Z",
     "shell.execute_reply": "2021-12-19T07:00:13.918382Z"
    },
    "papermill": {
     "duration": 2.022416,
     "end_time": "2021-12-19T07:00:13.918881",
     "exception": false,
     "start_time": "2021-12-19T07:00:11.896465",
     "status": "completed"
    },
    "tags": []
   },
   "outputs": [
    {
     "data": {
      "text/plain": [
       "<AxesSubplot:ylabel='PRODUCT'>"
      ]
     },
     "execution_count": 7,
     "metadata": {},
     "output_type": "execute_result"
    },
    {
     "data": {
      "image/png": "[encoded data removed]",
      "text/plain": [
       "<Figure size 432x288 with 1 Axes>"
      ]
     },
     "metadata": {
      "needs_background": "light"
     },
     "output_type": "display_data"
    }
   ],
   "source": [
    "df_pivot_diff.sort_values(\"stamp_2\", ascending = False)[\"stamp_2\"].head(10).plot.barh()"
   ]
  },
  {
   "cell_type": "code",
   "execution_count": null,
   "id": "extra-executive",
   "metadata": {
    "papermill": {
     "duration": 0.027572,
     "end_time": "2021-12-19T07:00:14.036650",
     "exception": false,
     "start_time": "2021-12-19T07:00:14.009078",
     "status": "completed"
    },
    "tags": []
   },
   "outputs": [],
   "source": []
  }
 ],
 "metadata": {
  "kernelspec": {
   "display_name": "Python 3",
   "language": "python",
   "name": "python3"
  },
  "language_info": {
   "codemirror_mode": {
    "name": "ipython",
    "version": 3
   },
   "file_extension": ".py",
   "mimetype": "text/x-python",
   "name": "python",
   "nbconvert_exporter": "python",
   "pygments_lexer": "ipython3",
   "version": "3.9.5"
  },
  "papermill": {
   "default_parameters": {},
   "duration": 9.714742,
   "end_time": "2021-12-19T07:00:14.677480",
   "environment_variables": {},
   "exception": null,
   "input_path": "eBay_Overview.ipynb",
   "output_path": "eBay_Overview.ipynb",
   "parameters": {},
   "start_time": "2021-12-19T07:00:04.962738",
   "version": "2.3.3"
  }
 },
 "nbformat": 4,
 "nbformat_minor": 5
}