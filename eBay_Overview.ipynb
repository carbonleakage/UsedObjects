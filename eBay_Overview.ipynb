{
 "cells": [
  {
   "cell_type": "code",
   "execution_count": 1,
   "id": "reverse-picking",
   "metadata": {
    "execution": {
     "iopub.execute_input": "2021-12-21T19:30:07.793833Z",
     "iopub.status.busy": "2021-12-21T19:30:07.791425Z",
     "iopub.status.idle": "2021-12-21T19:30:08.750492Z",
     "shell.execute_reply": "2021-12-21T19:30:08.752118Z"
    },
    "papermill": {
     "duration": 1.009667,
     "end_time": "2021-12-21T19:30:08.752927",
     "exception": false,
     "start_time": "2021-12-21T19:30:07.743260",
     "status": "completed"
    },
    "tags": []
   },
   "outputs": [],
   "source": [
    "import pandas as pd\n",
    "import sqlite3"
   ]
  },
  {
   "cell_type": "code",
   "execution_count": 2,
   "id": "innovative-syndrome",
   "metadata": {
    "execution": {
     "iopub.execute_input": "2021-12-21T19:30:08.817927Z",
     "iopub.status.busy": "2021-12-21T19:30:08.815520Z",
     "iopub.status.idle": "2021-12-21T19:30:09.959482Z",
     "shell.execute_reply": "2021-12-21T19:30:09.960675Z"
    },
    "papermill": {
     "duration": 1.178503,
     "end_time": "2021-12-21T19:30:09.961198",
     "exception": false,
     "start_time": "2021-12-21T19:30:08.782695",
     "status": "completed"
    },
    "tags": []
   },
   "outputs": [],
   "source": [
    "timestamps = pd.read_sql(\"select distinct record_time from EBAY_TOP_BERLIN order by record_time desc limit 2\", sqlite3.connect(\"UsedObjects.db\"))"
   ]
  },
  {
   "cell_type": "code",
   "execution_count": 3,
   "id": "periodic-identification",
   "metadata": {
    "execution": {
     "iopub.execute_input": "2021-12-21T19:30:10.030605Z",
     "iopub.status.busy": "2021-12-21T19:30:10.027846Z",
     "iopub.status.idle": "2021-12-21T19:30:10.051578Z",
     "shell.execute_reply": "2021-12-21T19:30:10.053342Z"
    },
    "papermill": {
     "duration": 0.072269,
     "end_time": "2021-12-21T19:30:10.053912",
     "exception": false,
     "start_time": "2021-12-21T19:30:09.981643",
     "status": "completed"
    },
    "tags": []
   },
   "outputs": [
    {
     "data": {
      "text/html": [
       "<div>\n",
       "<style scoped>\n",
       "    .dataframe tbody tr th:only-of-type {\n",
       "        vertical-align: middle;\n",
       "    }\n",
       "\n",
       "    .dataframe tbody tr th {\n",
       "        vertical-align: top;\n",
       "    }\n",
       "\n",
       "    .dataframe thead th {\n",
       "        text-align: right;\n",
       "    }\n",
       "</style>\n",
       "<table border=\"1\" class=\"dataframe\">\n",
       "  <thead>\n",
       "    <tr style=\"text-align: right;\">\n",
       "      <th></th>\n",
       "      <th>RECORD_TIME</th>\n",
       "    </tr>\n",
       "  </thead>\n",
       "  <tbody>\n",
       "    <tr>\n",
       "      <th>0</th>\n",
       "      <td>2021-12-21 20:30</td>\n",
       "    </tr>\n",
       "    <tr>\n",
       "      <th>1</th>\n",
       "      <td>2021-12-21 20:00</td>\n",
       "    </tr>\n",
       "  </tbody>\n",
       "</table>\n",
       "</div>"
      ],
      "text/plain": [
       "        RECORD_TIME\n",
       "0  2021-12-21 20:30\n",
       "1  2021-12-21 20:00"
      ]
     },
     "execution_count": 3,
     "metadata": {},
     "output_type": "execute_result"
    }
   ],
   "source": [
    "timestamps"
   ]
  },
  {
   "cell_type": "code",
   "execution_count": 4,
   "id": "alternate-victory",
   "metadata": {
    "execution": {
     "iopub.execute_input": "2021-12-21T19:30:10.109225Z",
     "iopub.status.busy": "2021-12-21T19:30:10.106624Z",
     "iopub.status.idle": "2021-12-21T19:30:11.793389Z",
     "shell.execute_reply": "2021-12-21T19:30:11.794998Z"
    },
    "papermill": {
     "duration": 1.720023,
     "end_time": "2021-12-21T19:30:11.795497",
     "exception": false,
     "start_time": "2021-12-21T19:30:10.075474",
     "status": "completed"
    },
    "tags": []
   },
   "outputs": [],
   "source": [
    "df = pd.read_sql(\"select * from EBAY_TOP_BERLIN where record_time in (select distinct record_time from EBAY_TOP_BERLIN order by record_time desc limit 2)\", sqlite3.connect(\"UsedObjects.db\"))"
   ]
  },
  {
   "cell_type": "code",
   "execution_count": 5,
   "id": "popular-active",
   "metadata": {
    "execution": {
     "iopub.execute_input": "2021-12-21T19:30:11.874011Z",
     "iopub.status.busy": "2021-12-21T19:30:11.857726Z",
     "iopub.status.idle": "2021-12-21T19:30:11.895783Z",
     "shell.execute_reply": "2021-12-21T19:30:11.893021Z"
    },
    "papermill": {
     "duration": 0.0792,
     "end_time": "2021-12-21T19:30:11.896262",
     "exception": false,
     "start_time": "2021-12-21T19:30:11.817062",
     "status": "completed"
    },
    "tags": []
   },
   "outputs": [],
   "source": [
    "df_pivot = df.pivot_table(index=\"PRODUCT\", columns = \"RECORD_TIME\", values = \"LISTING_COUNT\")"
   ]
  },
  {
   "cell_type": "code",
   "execution_count": 6,
   "id": "union-huntington",
   "metadata": {
    "execution": {
     "iopub.execute_input": "2021-12-21T19:30:11.957965Z",
     "iopub.status.busy": "2021-12-21T19:30:11.955708Z",
     "iopub.status.idle": "2021-12-21T19:30:11.963161Z",
     "shell.execute_reply": "2021-12-21T19:30:11.961578Z"
    },
    "papermill": {
     "duration": 0.044448,
     "end_time": "2021-12-21T19:30:11.963573",
     "exception": false,
     "start_time": "2021-12-21T19:30:11.919125",
     "status": "completed"
    },
    "tags": []
   },
   "outputs": [],
   "source": [
    "df_pivot.columns = [\"stamp_1\", \"stamp_2\"]\n",
    "df_pivot_diff = df_pivot.diff(axis=1)"
   ]
  },
  {
   "cell_type": "code",
   "execution_count": 7,
   "id": "fifth-motion",
   "metadata": {
    "execution": {
     "iopub.execute_input": "2021-12-21T19:30:12.020412Z",
     "iopub.status.busy": "2021-12-21T19:30:12.017922Z",
     "iopub.status.idle": "2021-12-21T19:30:13.986433Z",
     "shell.execute_reply": "2021-12-21T19:30:13.987817Z"
    },
    "papermill": {
     "duration": 2.004454,
     "end_time": "2021-12-21T19:30:13.988296",
     "exception": false,
     "start_time": "2021-12-21T19:30:11.983842",
     "status": "completed"
    },
    "tags": []
   },
   "outputs": [
    {
     "data": {
      "text/plain": [
       "<AxesSubplot:ylabel='PRODUCT'>"
      ]
     },
     "execution_count": 7,
     "metadata": {},
     "output_type": "execute_result"
    },
    {
     "data": {
      "image/png": "[encoded data removed]",
      "text/plain": [
       "<Figure size 432x288 with 1 Axes>"
      ]
     },
     "metadata": {
      "needs_background": "light"
     },
     "output_type": "display_data"
    }
   ],
   "source": [
    "df_pivot_diff.sort_values(\"stamp_2\", ascending = False)[\"stamp_2\"].head(10).plot.barh()"
   ]
  },
  {
   "cell_type": "code",
   "execution_count": null,
   "id": "extra-executive",
   "metadata": {
    "papermill": {
     "duration": 0.022294,
     "end_time": "2021-12-21T19:30:14.035477",
     "exception": false,
     "start_time": "2021-12-21T19:30:14.013183",
     "status": "completed"
    },
    "tags": []
   },
   "outputs": [],
   "source": []
  }
 ],
 "metadata": {
  "kernelspec": {
   "display_name": "Python 3",
   "language": "python",
   "name": "python3"
  },
  "language_info": {
   "codemirror_mode": {
    "name": "ipython",
    "version": 3
   },
   "file_extension": ".py",
   "mimetype": "text/x-python",
   "name": "python",
   "nbconvert_exporter": "python",
   "pygments_lexer": "ipython3",
   "version": "3.9.5"
  },
  "papermill": {
   "default_parameters": {},
   "duration": 9.676542,
   "end_time": "2021-12-21T19:30:14.677651",
   "environment_variables": {},
   "exception": null,
   "input_path": "eBay_Overview.ipynb",
   "output_path": "eBay_Overview.ipynb",
   "parameters": {},
   "start_time": "2021-12-21T19:30:05.001109",
   "version": "2.3.3"
  }
 },
 "nbformat": 4,
 "nbformat_minor": 5
}