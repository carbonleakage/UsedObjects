{
 "cells": [
  {
   "cell_type": "code",
   "execution_count": 1,
   "id": "reverse-picking",
   "metadata": {
    "execution": {
     "iopub.execute_input": "2021-10-13T07:00:07.248761Z",
     "iopub.status.busy": "2021-10-13T07:00:07.246781Z",
     "iopub.status.idle": "2021-10-13T07:00:08.046410Z",
     "shell.execute_reply": "2021-10-13T07:00:08.047657Z"
    },
    "papermill": {
     "duration": 0.85137,
     "end_time": "2021-10-13T07:00:08.048276",
     "exception": false,
     "start_time": "2021-10-13T07:00:07.196906",
     "status": "completed"
    },
    "tags": []
   },
   "outputs": [],
   "source": [
    "import pandas as pd\n",
    "import sqlite3"
   ]
  },
  {
   "cell_type": "code",
   "execution_count": 2,
   "id": "innovative-syndrome",
   "metadata": {
    "execution": {
     "iopub.execute_input": "2021-10-13T07:00:08.101103Z",
     "iopub.status.busy": "2021-10-13T07:00:08.098718Z",
     "iopub.status.idle": "2021-10-13T07:00:08.616757Z",
     "shell.execute_reply": "2021-10-13T07:00:08.617987Z"
    },
    "papermill": {
     "duration": 0.547761,
     "end_time": "2021-10-13T07:00:08.618389",
     "exception": false,
     "start_time": "2021-10-13T07:00:08.070628",
     "status": "completed"
    },
    "tags": []
   },
   "outputs": [],
   "source": [
    "timestamps = pd.read_sql(\"select distinct record_time from EBAY_TOP_BERLIN order by record_time desc limit 2\", sqlite3.connect(\"UsedObjects.db\"))"
   ]
  },
  {
   "cell_type": "code",
   "execution_count": 3,
   "id": "periodic-identification",
   "metadata": {
    "execution": {
     "iopub.execute_input": "2021-10-13T07:00:08.682650Z",
     "iopub.status.busy": "2021-10-13T07:00:08.680565Z",
     "iopub.status.idle": "2021-10-13T07:00:08.700471Z",
     "shell.execute_reply": "2021-10-13T07:00:08.701754Z"
    },
    "papermill": {
     "duration": 0.064711,
     "end_time": "2021-10-13T07:00:08.702160",
     "exception": false,
     "start_time": "2021-10-13T07:00:08.637449",
     "status": "completed"
    },
    "tags": []
   },
   "outputs": [
    {
     "data": {
      "text/html": [
       "<div>\n",
       "<style scoped>\n",
       "    .dataframe tbody tr th:only-of-type {\n",
       "        vertical-align: middle;\n",
       "    }\n",
       "\n",
       "    .dataframe tbody tr th {\n",
       "        vertical-align: top;\n",
       "    }\n",
       "\n",
       "    .dataframe thead th {\n",
       "        text-align: right;\n",
       "    }\n",
       "</style>\n",
       "<table border=\"1\" class=\"dataframe\">\n",
       "  <thead>\n",
       "    <tr style=\"text-align: right;\">\n",
       "      <th></th>\n",
       "      <th>RECORD_TIME</th>\n",
       "    </tr>\n",
       "  </thead>\n",
       "  <tbody>\n",
       "    <tr>\n",
       "      <th>0</th>\n",
       "      <td>2021-10-13 09:00</td>\n",
       "    </tr>\n",
       "    <tr>\n",
       "      <th>1</th>\n",
       "      <td>2021-10-13 08:30</td>\n",
       "    </tr>\n",
       "  </tbody>\n",
       "</table>\n",
       "</div>"
      ],
      "text/plain": [
       "        RECORD_TIME\n",
       "0  2021-10-13 09:00\n",
       "1  2021-10-13 08:30"
      ]
     },
     "execution_count": 3,
     "metadata": {},
     "output_type": "execute_result"
    }
   ],
   "source": [
    "timestamps"
   ]
  },
  {
   "cell_type": "code",
   "execution_count": 4,
   "id": "alternate-victory",
   "metadata": {
    "execution": {
     "iopub.execute_input": "2021-10-13T07:00:08.763168Z",
     "iopub.status.busy": "2021-10-13T07:00:08.761333Z",
     "iopub.status.idle": "2021-10-13T07:00:09.525084Z",
     "shell.execute_reply": "2021-10-13T07:00:09.526232Z"
    },
    "papermill": {
     "duration": 0.796819,
     "end_time": "2021-10-13T07:00:09.526646",
     "exception": false,
     "start_time": "2021-10-13T07:00:08.729827",
     "status": "completed"
    },
    "tags": []
   },
   "outputs": [],
   "source": [
    "df = pd.read_sql(\"select * from EBAY_TOP_BERLIN where record_time in (select distinct record_time from EBAY_TOP_BERLIN order by record_time desc limit 2)\", sqlite3.connect(\"UsedObjects.db\"))"
   ]
  },
  {
   "cell_type": "code",
   "execution_count": 5,
   "id": "popular-active",
   "metadata": {
    "execution": {
     "iopub.execute_input": "2021-10-13T07:00:09.598036Z",
     "iopub.status.busy": "2021-10-13T07:00:09.585368Z",
     "iopub.status.idle": "2021-10-13T07:00:09.616264Z",
     "shell.execute_reply": "2021-10-13T07:00:09.614875Z"
    },
    "papermill": {
     "duration": 0.068228,
     "end_time": "2021-10-13T07:00:09.616620",
     "exception": false,
     "start_time": "2021-10-13T07:00:09.548392",
     "status": "completed"
    },
    "tags": []
   },
   "outputs": [],
   "source": [
    "df_pivot = df.pivot_table(index=\"PRODUCT\", columns = \"RECORD_TIME\", values = \"LISTING_COUNT\")"
   ]
  },
  {
   "cell_type": "code",
   "execution_count": 6,
   "id": "union-huntington",
   "metadata": {
    "execution": {
     "iopub.execute_input": "2021-10-13T07:00:09.672793Z",
     "iopub.status.busy": "2021-10-13T07:00:09.670722Z",
     "iopub.status.idle": "2021-10-13T07:00:09.676007Z",
     "shell.execute_reply": "2021-10-13T07:00:09.677369Z"
    },
    "papermill": {
     "duration": 0.041252,
     "end_time": "2021-10-13T07:00:09.677794",
     "exception": false,
     "start_time": "2021-10-13T07:00:09.636542",
     "status": "completed"
    },
    "tags": []
   },
   "outputs": [],
   "source": [
    "df_pivot.columns = [\"stamp_1\", \"stamp_2\"]\n",
    "df_pivot_diff = df_pivot.diff(axis=1)"
   ]
  },
  {
   "cell_type": "code",
   "execution_count": 7,
   "id": "fifth-motion",
   "metadata": {
    "execution": {
     "iopub.execute_input": "2021-10-13T07:00:09.731224Z",
     "iopub.status.busy": "2021-10-13T07:00:09.728859Z",
     "iopub.status.idle": "2021-10-13T07:00:11.250159Z",
     "shell.execute_reply": "2021-10-13T07:00:11.251351Z"
    },
    "papermill": {
     "duration": 1.553795,
     "end_time": "2021-10-13T07:00:11.251783",
     "exception": false,
     "start_time": "2021-10-13T07:00:09.697988",
     "status": "completed"
    },
    "tags": []
   },
   "outputs": [
    {
     "data": {
      "text/plain": [
       "<AxesSubplot:ylabel='PRODUCT'>"
      ]
     },
     "execution_count": 7,
     "metadata": {},
     "output_type": "execute_result"
    },
    {
     "data": {
      "image/png": "[encoded data removed]",
      "text/plain": [
       "<Figure size 432x288 with 1 Axes>"
      ]
     },
     "metadata": {
      "needs_background": "light"
     },
     "output_type": "display_data"
    }
   ],
   "source": [
    "df_pivot_diff.sort_values(\"stamp_2\", ascending = False)[\"stamp_2\"].head(10).plot.barh()"
   ]
  },
  {
   "cell_type": "code",
   "execution_count": null,
   "id": "extra-executive",
   "metadata": {
    "papermill": {
     "duration": 0.022267,
     "end_time": "2021-10-13T07:00:11.299475",
     "exception": false,
     "start_time": "2021-10-13T07:00:11.277208",
     "status": "completed"
    },
    "tags": []
   },
   "outputs": [],
   "source": []
  }
 ],
 "metadata": {
  "kernelspec": {
   "display_name": "Python 3",
   "language": "python",
   "name": "python3"
  },
  "language_info": {
   "codemirror_mode": {
    "name": "ipython",
    "version": 3
   },
   "file_extension": ".py",
   "mimetype": "text/x-python",
   "name": "python",
   "nbconvert_exporter": "python",
   "pygments_lexer": "ipython3",
   "version": "3.9.5"
  },
  "papermill": {
   "default_parameters": {},
   "duration": 7.818179,
   "end_time": "2021-10-13T07:00:12.611856",
   "environment_variables": {},
   "exception": null,
   "input_path": "eBay_Overview.ipynb",
   "output_path": "eBay_Overview.ipynb",
   "parameters": {},
   "start_time": "2021-10-13T07:00:04.793677",
   "version": "2.3.3"
  }
 },
 "nbformat": 4,
 "nbformat_minor": 5
}