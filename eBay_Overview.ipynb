{
 "cells": [
  {
   "cell_type": "code",
   "execution_count": 1,
   "id": "reverse-picking",
   "metadata": {
    "execution": {
     "iopub.execute_input": "2021-11-03T16:30:07.849630Z",
     "iopub.status.busy": "2021-11-03T16:30:07.847548Z",
     "iopub.status.idle": "2021-11-03T16:30:08.810074Z",
     "shell.execute_reply": "2021-11-03T16:30:08.811678Z"
    },
    "papermill": {
     "duration": 1.010255,
     "end_time": "2021-11-03T16:30:08.812410",
     "exception": false,
     "start_time": "2021-11-03T16:30:07.802155",
     "status": "completed"
    },
    "tags": []
   },
   "outputs": [],
   "source": [
    "import pandas as pd\n",
    "import sqlite3"
   ]
  },
  {
   "cell_type": "code",
   "execution_count": 2,
   "id": "innovative-syndrome",
   "metadata": {
    "execution": {
     "iopub.execute_input": "2021-11-03T16:30:08.874385Z",
     "iopub.status.busy": "2021-11-03T16:30:08.871986Z",
     "iopub.status.idle": "2021-11-03T16:30:09.597441Z",
     "shell.execute_reply": "2021-11-03T16:30:09.598906Z"
    },
    "papermill": {
     "duration": 0.759663,
     "end_time": "2021-11-03T16:30:09.599389",
     "exception": false,
     "start_time": "2021-11-03T16:30:08.839726",
     "status": "completed"
    },
    "tags": []
   },
   "outputs": [],
   "source": [
    "timestamps = pd.read_sql(\"select distinct record_time from EBAY_TOP_BERLIN order by record_time desc limit 2\", sqlite3.connect(\"UsedObjects.db\"))"
   ]
  },
  {
   "cell_type": "code",
   "execution_count": 3,
   "id": "periodic-identification",
   "metadata": {
    "execution": {
     "iopub.execute_input": "2021-11-03T16:30:09.674522Z",
     "iopub.status.busy": "2021-11-03T16:30:09.668549Z",
     "iopub.status.idle": "2021-11-03T16:30:09.691726Z",
     "shell.execute_reply": "2021-11-03T16:30:09.693339Z"
    },
    "papermill": {
     "duration": 0.074015,
     "end_time": "2021-11-03T16:30:09.693847",
     "exception": false,
     "start_time": "2021-11-03T16:30:09.619832",
     "status": "completed"
    },
    "tags": []
   },
   "outputs": [
    {
     "data": {
      "text/html": [
       "<div>\n",
       "<style scoped>\n",
       "    .dataframe tbody tr th:only-of-type {\n",
       "        vertical-align: middle;\n",
       "    }\n",
       "\n",
       "    .dataframe tbody tr th {\n",
       "        vertical-align: top;\n",
       "    }\n",
       "\n",
       "    .dataframe thead th {\n",
       "        text-align: right;\n",
       "    }\n",
       "</style>\n",
       "<table border=\"1\" class=\"dataframe\">\n",
       "  <thead>\n",
       "    <tr style=\"text-align: right;\">\n",
       "      <th></th>\n",
       "      <th>RECORD_TIME</th>\n",
       "    </tr>\n",
       "  </thead>\n",
       "  <tbody>\n",
       "    <tr>\n",
       "      <th>0</th>\n",
       "      <td>2021-11-03 17:30</td>\n",
       "    </tr>\n",
       "    <tr>\n",
       "      <th>1</th>\n",
       "      <td>2021-11-03 17:00</td>\n",
       "    </tr>\n",
       "  </tbody>\n",
       "</table>\n",
       "</div>"
      ],
      "text/plain": [
       "        RECORD_TIME\n",
       "0  2021-11-03 17:30\n",
       "1  2021-11-03 17:00"
      ]
     },
     "execution_count": 3,
     "metadata": {},
     "output_type": "execute_result"
    }
   ],
   "source": [
    "timestamps"
   ]
  },
  {
   "cell_type": "code",
   "execution_count": 4,
   "id": "alternate-victory",
   "metadata": {
    "execution": {
     "iopub.execute_input": "2021-11-03T16:30:09.750242Z",
     "iopub.status.busy": "2021-11-03T16:30:09.747944Z",
     "iopub.status.idle": "2021-11-03T16:30:10.794579Z",
     "shell.execute_reply": "2021-11-03T16:30:10.796105Z"
    },
    "papermill": {
     "duration": 1.080169,
     "end_time": "2021-11-03T16:30:10.796564",
     "exception": false,
     "start_time": "2021-11-03T16:30:09.716395",
     "status": "completed"
    },
    "tags": []
   },
   "outputs": [],
   "source": [
    "df = pd.read_sql(\"select * from EBAY_TOP_BERLIN where record_time in (select distinct record_time from EBAY_TOP_BERLIN order by record_time desc limit 2)\", sqlite3.connect(\"UsedObjects.db\"))"
   ]
  },
  {
   "cell_type": "code",
   "execution_count": 5,
   "id": "popular-active",
   "metadata": {
    "execution": {
     "iopub.execute_input": "2021-11-03T16:30:10.874742Z",
     "iopub.status.busy": "2021-11-03T16:30:10.861281Z",
     "iopub.status.idle": "2021-11-03T16:30:10.897136Z",
     "shell.execute_reply": "2021-11-03T16:30:10.898622Z"
    },
    "papermill": {
     "duration": 0.080439,
     "end_time": "2021-11-03T16:30:10.899120",
     "exception": false,
     "start_time": "2021-11-03T16:30:10.818681",
     "status": "completed"
    },
    "tags": []
   },
   "outputs": [],
   "source": [
    "df_pivot = df.pivot_table(index=\"PRODUCT\", columns = \"RECORD_TIME\", values = \"LISTING_COUNT\")"
   ]
  },
  {
   "cell_type": "code",
   "execution_count": 6,
   "id": "union-huntington",
   "metadata": {
    "execution": {
     "iopub.execute_input": "2021-11-03T16:30:10.961351Z",
     "iopub.status.busy": "2021-11-03T16:30:10.959034Z",
     "iopub.status.idle": "2021-11-03T16:30:10.964485Z",
     "shell.execute_reply": "2021-11-03T16:30:10.966193Z"
    },
    "papermill": {
     "duration": 0.046363,
     "end_time": "2021-11-03T16:30:10.966706",
     "exception": false,
     "start_time": "2021-11-03T16:30:10.920343",
     "status": "completed"
    },
    "tags": []
   },
   "outputs": [],
   "source": [
    "df_pivot.columns = [\"stamp_1\", \"stamp_2\"]\n",
    "df_pivot_diff = df_pivot.diff(axis=1)"
   ]
  },
  {
   "cell_type": "code",
   "execution_count": 7,
   "id": "fifth-motion",
   "metadata": {
    "execution": {
     "iopub.execute_input": "2021-11-03T16:30:11.028455Z",
     "iopub.status.busy": "2021-11-03T16:30:11.025923Z",
     "iopub.status.idle": "2021-11-03T16:30:12.808169Z",
     "shell.execute_reply": "2021-11-03T16:30:12.805548Z"
    },
    "papermill": {
     "duration": 1.819097,
     "end_time": "2021-11-03T16:30:12.808889",
     "exception": false,
     "start_time": "2021-11-03T16:30:10.989792",
     "status": "completed"
    },
    "tags": []
   },
   "outputs": [
    {
     "data": {
      "text/plain": [
       "<AxesSubplot:ylabel='PRODUCT'>"
      ]
     },
     "execution_count": 7,
     "metadata": {},
     "output_type": "execute_result"
    },
    {
     "data": {
      "image/png": "[encoded data removed]",
      "text/plain": [
       "<Figure size 432x288 with 1 Axes>"
      ]
     },
     "metadata": {
      "needs_background": "light"
     },
     "output_type": "display_data"
    }
   ],
   "source": [
    "df_pivot_diff.sort_values(\"stamp_2\", ascending = False)[\"stamp_2\"].head(10).plot.barh()"
   ]
  },
  {
   "cell_type": "code",
   "execution_count": null,
   "id": "extra-executive",
   "metadata": {
    "papermill": {
     "duration": 0.037076,
     "end_time": "2021-11-03T16:30:12.880218",
     "exception": false,
     "start_time": "2021-11-03T16:30:12.843142",
     "status": "completed"
    },
    "tags": []
   },
   "outputs": [],
   "source": []
  }
 ],
 "metadata": {
  "kernelspec": {
   "display_name": "Python 3",
   "language": "python",
   "name": "python3"
  },
  "language_info": {
   "codemirror_mode": {
    "name": "ipython",
    "version": 3
   },
   "file_extension": ".py",
   "mimetype": "text/x-python",
   "name": "python",
   "nbconvert_exporter": "python",
   "pygments_lexer": "ipython3",
   "version": "3.9.5"
  },
  "papermill": {
   "default_parameters": {},
   "duration": 8.769774,
   "end_time": "2021-11-03T16:30:13.746915",
   "environment_variables": {},
   "exception": null,
   "input_path": "eBay_Overview.ipynb",
   "output_path": "eBay_Overview.ipynb",
   "parameters": {},
   "start_time": "2021-11-03T16:30:04.977141",
   "version": "2.3.3"
  }
 },
 "nbformat": 4,
 "nbformat_minor": 5
}