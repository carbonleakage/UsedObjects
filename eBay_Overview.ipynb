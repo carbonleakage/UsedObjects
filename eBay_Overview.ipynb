{
 "cells": [
  {
   "cell_type": "code",
   "execution_count": 1,
   "id": "reverse-picking",
   "metadata": {
    "execution": {
     "iopub.execute_input": "2021-10-27T15:30:07.059602Z",
     "iopub.status.busy": "2021-10-27T15:30:07.057681Z",
     "iopub.status.idle": "2021-10-27T15:30:07.864067Z",
     "shell.execute_reply": "2021-10-27T15:30:07.865407Z"
    },
    "papermill": {
     "duration": 0.857086,
     "end_time": "2021-10-27T15:30:07.866041",
     "exception": false,
     "start_time": "2021-10-27T15:30:07.008955",
     "status": "completed"
    },
    "tags": []
   },
   "outputs": [],
   "source": [
    "import pandas as pd\n",
    "import sqlite3"
   ]
  },
  {
   "cell_type": "code",
   "execution_count": 2,
   "id": "innovative-syndrome",
   "metadata": {
    "execution": {
     "iopub.execute_input": "2021-10-27T15:30:07.916878Z",
     "iopub.status.busy": "2021-10-27T15:30:07.914966Z",
     "iopub.status.idle": "2021-10-27T15:30:08.554310Z",
     "shell.execute_reply": "2021-10-27T15:30:08.555670Z"
    },
    "papermill": {
     "duration": 0.669195,
     "end_time": "2021-10-27T15:30:08.556107",
     "exception": false,
     "start_time": "2021-10-27T15:30:07.886912",
     "status": "completed"
    },
    "tags": []
   },
   "outputs": [],
   "source": [
    "timestamps = pd.read_sql(\"select distinct record_time from EBAY_TOP_BERLIN order by record_time desc limit 2\", sqlite3.connect(\"UsedObjects.db\"))"
   ]
  },
  {
   "cell_type": "code",
   "execution_count": 3,
   "id": "periodic-identification",
   "metadata": {
    "execution": {
     "iopub.execute_input": "2021-10-27T15:30:08.630061Z",
     "iopub.status.busy": "2021-10-27T15:30:08.627985Z",
     "iopub.status.idle": "2021-10-27T15:30:08.651777Z",
     "shell.execute_reply": "2021-10-27T15:30:08.653232Z"
    },
    "papermill": {
     "duration": 0.072413,
     "end_time": "2021-10-27T15:30:08.653721",
     "exception": false,
     "start_time": "2021-10-27T15:30:08.581308",
     "status": "completed"
    },
    "tags": []
   },
   "outputs": [
    {
     "data": {
      "text/html": [
       "<div>\n",
       "<style scoped>\n",
       "    .dataframe tbody tr th:only-of-type {\n",
       "        vertical-align: middle;\n",
       "    }\n",
       "\n",
       "    .dataframe tbody tr th {\n",
       "        vertical-align: top;\n",
       "    }\n",
       "\n",
       "    .dataframe thead th {\n",
       "        text-align: right;\n",
       "    }\n",
       "</style>\n",
       "<table border=\"1\" class=\"dataframe\">\n",
       "  <thead>\n",
       "    <tr style=\"text-align: right;\">\n",
       "      <th></th>\n",
       "      <th>RECORD_TIME</th>\n",
       "    </tr>\n",
       "  </thead>\n",
       "  <tbody>\n",
       "    <tr>\n",
       "      <th>0</th>\n",
       "      <td>2021-10-27 17:30</td>\n",
       "    </tr>\n",
       "    <tr>\n",
       "      <th>1</th>\n",
       "      <td>2021-10-27 17:00</td>\n",
       "    </tr>\n",
       "  </tbody>\n",
       "</table>\n",
       "</div>"
      ],
      "text/plain": [
       "        RECORD_TIME\n",
       "0  2021-10-27 17:30\n",
       "1  2021-10-27 17:00"
      ]
     },
     "execution_count": 3,
     "metadata": {},
     "output_type": "execute_result"
    }
   ],
   "source": [
    "timestamps"
   ]
  },
  {
   "cell_type": "code",
   "execution_count": 4,
   "id": "alternate-victory",
   "metadata": {
    "execution": {
     "iopub.execute_input": "2021-10-27T15:30:08.706625Z",
     "iopub.status.busy": "2021-10-27T15:30:08.704385Z",
     "iopub.status.idle": "2021-10-27T15:30:09.660227Z",
     "shell.execute_reply": "2021-10-27T15:30:09.658912Z"
    },
    "papermill": {
     "duration": 0.984304,
     "end_time": "2021-10-27T15:30:09.660561",
     "exception": false,
     "start_time": "2021-10-27T15:30:08.676257",
     "status": "completed"
    },
    "tags": []
   },
   "outputs": [],
   "source": [
    "df = pd.read_sql(\"select * from EBAY_TOP_BERLIN where record_time in (select distinct record_time from EBAY_TOP_BERLIN order by record_time desc limit 2)\", sqlite3.connect(\"UsedObjects.db\"))"
   ]
  },
  {
   "cell_type": "code",
   "execution_count": 5,
   "id": "popular-active",
   "metadata": {
    "execution": {
     "iopub.execute_input": "2021-10-27T15:30:09.733565Z",
     "iopub.status.busy": "2021-10-27T15:30:09.722345Z",
     "iopub.status.idle": "2021-10-27T15:30:09.750227Z",
     "shell.execute_reply": "2021-10-27T15:30:09.751436Z"
    },
    "papermill": {
     "duration": 0.068338,
     "end_time": "2021-10-27T15:30:09.751829",
     "exception": false,
     "start_time": "2021-10-27T15:30:09.683491",
     "status": "completed"
    },
    "tags": []
   },
   "outputs": [],
   "source": [
    "df_pivot = df.pivot_table(index=\"PRODUCT\", columns = \"RECORD_TIME\", values = \"LISTING_COUNT\")"
   ]
  },
  {
   "cell_type": "code",
   "execution_count": 6,
   "id": "union-huntington",
   "metadata": {
    "execution": {
     "iopub.execute_input": "2021-10-27T15:30:09.812123Z",
     "iopub.status.busy": "2021-10-27T15:30:09.809649Z",
     "iopub.status.idle": "2021-10-27T15:30:09.815364Z",
     "shell.execute_reply": "2021-10-27T15:30:09.816650Z"
    },
    "papermill": {
     "duration": 0.042143,
     "end_time": "2021-10-27T15:30:09.817122",
     "exception": false,
     "start_time": "2021-10-27T15:30:09.774979",
     "status": "completed"
    },
    "tags": []
   },
   "outputs": [],
   "source": [
    "df_pivot.columns = [\"stamp_1\", \"stamp_2\"]\n",
    "df_pivot_diff = df_pivot.diff(axis=1)"
   ]
  },
  {
   "cell_type": "code",
   "execution_count": 7,
   "id": "fifth-motion",
   "metadata": {
    "execution": {
     "iopub.execute_input": "2021-10-27T15:30:09.871748Z",
     "iopub.status.busy": "2021-10-27T15:30:09.869500Z",
     "iopub.status.idle": "2021-10-27T15:30:11.369821Z",
     "shell.execute_reply": "2021-10-27T15:30:11.371203Z"
    },
    "papermill": {
     "duration": 1.5338,
     "end_time": "2021-10-27T15:30:11.371641",
     "exception": false,
     "start_time": "2021-10-27T15:30:09.837841",
     "status": "completed"
    },
    "tags": []
   },
   "outputs": [
    {
     "data": {
      "text/plain": [
       "<AxesSubplot:ylabel='PRODUCT'>"
      ]
     },
     "execution_count": 7,
     "metadata": {},
     "output_type": "execute_result"
    },
    {
     "data": {
      "image/png": "[encoded data removed]",
      "text/plain": [
       "<Figure size 432x288 with 1 Axes>"
      ]
     },
     "metadata": {
      "needs_background": "light"
     },
     "output_type": "display_data"
    }
   ],
   "source": [
    "df_pivot_diff.sort_values(\"stamp_2\", ascending = False)[\"stamp_2\"].head(10).plot.barh()"
   ]
  },
  {
   "cell_type": "code",
   "execution_count": null,
   "id": "extra-executive",
   "metadata": {
    "papermill": {
     "duration": 0.022212,
     "end_time": "2021-10-27T15:30:11.418446",
     "exception": false,
     "start_time": "2021-10-27T15:30:11.396234",
     "status": "completed"
    },
    "tags": []
   },
   "outputs": [],
   "source": []
  }
 ],
 "metadata": {
  "kernelspec": {
   "display_name": "Python 3",
   "language": "python",
   "name": "python3"
  },
  "language_info": {
   "codemirror_mode": {
    "name": "ipython",
    "version": 3
   },
   "file_extension": ".py",
   "mimetype": "text/x-python",
   "name": "python",
   "nbconvert_exporter": "python",
   "pygments_lexer": "ipython3",
   "version": "3.9.5"
  },
  "papermill": {
   "default_parameters": {},
   "duration": 7.455956,
   "end_time": "2021-10-27T15:30:12.063319",
   "environment_variables": {},
   "exception": null,
   "input_path": "eBay_Overview.ipynb",
   "output_path": "eBay_Overview.ipynb",
   "parameters": {},
   "start_time": "2021-10-27T15:30:04.607363",
   "version": "2.3.3"
  }
 },
 "nbformat": 4,
 "nbformat_minor": 5
}