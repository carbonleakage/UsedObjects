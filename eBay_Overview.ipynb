{
 "cells": [
  {
   "cell_type": "code",
   "execution_count": 1,
   "id": "reverse-picking",
   "metadata": {
    "execution": {
     "iopub.execute_input": "2021-11-02T05:00:08.026611Z",
     "iopub.status.busy": "2021-11-02T05:00:08.024191Z",
     "iopub.status.idle": "2021-11-02T05:00:08.968227Z",
     "shell.execute_reply": "2021-11-02T05:00:08.969967Z"
    },
    "papermill": {
     "duration": 0.992712,
     "end_time": "2021-11-02T05:00:08.970706",
     "exception": false,
     "start_time": "2021-11-02T05:00:07.977994",
     "status": "completed"
    },
    "tags": []
   },
   "outputs": [],
   "source": [
    "import pandas as pd\n",
    "import sqlite3"
   ]
  },
  {
   "cell_type": "code",
   "execution_count": 2,
   "id": "innovative-syndrome",
   "metadata": {
    "execution": {
     "iopub.execute_input": "2021-11-02T05:00:09.035083Z",
     "iopub.status.busy": "2021-11-02T05:00:09.032673Z",
     "iopub.status.idle": "2021-11-02T05:00:09.740995Z",
     "shell.execute_reply": "2021-11-02T05:00:09.742541Z"
    },
    "papermill": {
     "duration": 0.742651,
     "end_time": "2021-11-02T05:00:09.743004",
     "exception": false,
     "start_time": "2021-11-02T05:00:09.000353",
     "status": "completed"
    },
    "tags": []
   },
   "outputs": [],
   "source": [
    "timestamps = pd.read_sql(\"select distinct record_time from EBAY_TOP_BERLIN order by record_time desc limit 2\", sqlite3.connect(\"UsedObjects.db\"))"
   ]
  },
  {
   "cell_type": "code",
   "execution_count": 3,
   "id": "periodic-identification",
   "metadata": {
    "execution": {
     "iopub.execute_input": "2021-11-02T05:00:09.815366Z",
     "iopub.status.busy": "2021-11-02T05:00:09.812977Z",
     "iopub.status.idle": "2021-11-02T05:00:09.841320Z",
     "shell.execute_reply": "2021-11-02T05:00:09.842787Z"
    },
    "papermill": {
     "duration": 0.080391,
     "end_time": "2021-11-02T05:00:09.843283",
     "exception": false,
     "start_time": "2021-11-02T05:00:09.762892",
     "status": "completed"
    },
    "tags": []
   },
   "outputs": [
    {
     "data": {
      "text/html": [
       "<div>\n",
       "<style scoped>\n",
       "    .dataframe tbody tr th:only-of-type {\n",
       "        vertical-align: middle;\n",
       "    }\n",
       "\n",
       "    .dataframe tbody tr th {\n",
       "        vertical-align: top;\n",
       "    }\n",
       "\n",
       "    .dataframe thead th {\n",
       "        text-align: right;\n",
       "    }\n",
       "</style>\n",
       "<table border=\"1\" class=\"dataframe\">\n",
       "  <thead>\n",
       "    <tr style=\"text-align: right;\">\n",
       "      <th></th>\n",
       "      <th>RECORD_TIME</th>\n",
       "    </tr>\n",
       "  </thead>\n",
       "  <tbody>\n",
       "    <tr>\n",
       "      <th>0</th>\n",
       "      <td>2021-11-02 06:00</td>\n",
       "    </tr>\n",
       "    <tr>\n",
       "      <th>1</th>\n",
       "      <td>2021-11-02 05:30</td>\n",
       "    </tr>\n",
       "  </tbody>\n",
       "</table>\n",
       "</div>"
      ],
      "text/plain": [
       "        RECORD_TIME\n",
       "0  2021-11-02 06:00\n",
       "1  2021-11-02 05:30"
      ]
     },
     "execution_count": 3,
     "metadata": {},
     "output_type": "execute_result"
    }
   ],
   "source": [
    "timestamps"
   ]
  },
  {
   "cell_type": "code",
   "execution_count": 4,
   "id": "alternate-victory",
   "metadata": {
    "execution": {
     "iopub.execute_input": "2021-11-02T05:00:09.899449Z",
     "iopub.status.busy": "2021-11-02T05:00:09.897399Z",
     "iopub.status.idle": "2021-11-02T05:00:10.917014Z",
     "shell.execute_reply": "2021-11-02T05:00:10.918465Z"
    },
    "papermill": {
     "duration": 1.053616,
     "end_time": "2021-11-02T05:00:10.918920",
     "exception": false,
     "start_time": "2021-11-02T05:00:09.865304",
     "status": "completed"
    },
    "tags": []
   },
   "outputs": [],
   "source": [
    "df = pd.read_sql(\"select * from EBAY_TOP_BERLIN where record_time in (select distinct record_time from EBAY_TOP_BERLIN order by record_time desc limit 2)\", sqlite3.connect(\"UsedObjects.db\"))"
   ]
  },
  {
   "cell_type": "code",
   "execution_count": 5,
   "id": "popular-active",
   "metadata": {
    "execution": {
     "iopub.execute_input": "2021-11-02T05:00:11.003985Z",
     "iopub.status.busy": "2021-11-02T05:00:10.984123Z",
     "iopub.status.idle": "2021-11-02T05:00:11.040036Z",
     "shell.execute_reply": "2021-11-02T05:00:11.042776Z"
    },
    "papermill": {
     "duration": 0.103506,
     "end_time": "2021-11-02T05:00:11.043619",
     "exception": false,
     "start_time": "2021-11-02T05:00:10.940113",
     "status": "completed"
    },
    "tags": []
   },
   "outputs": [],
   "source": [
    "df_pivot = df.pivot_table(index=\"PRODUCT\", columns = \"RECORD_TIME\", values = \"LISTING_COUNT\")"
   ]
  },
  {
   "cell_type": "code",
   "execution_count": 6,
   "id": "union-huntington",
   "metadata": {
    "execution": {
     "iopub.execute_input": "2021-11-02T05:00:11.112607Z",
     "iopub.status.busy": "2021-11-02T05:00:11.110260Z",
     "iopub.status.idle": "2021-11-02T05:00:11.116311Z",
     "shell.execute_reply": "2021-11-02T05:00:11.118105Z"
    },
    "papermill": {
     "duration": 0.046654,
     "end_time": "2021-11-02T05:00:11.118605",
     "exception": false,
     "start_time": "2021-11-02T05:00:11.071951",
     "status": "completed"
    },
    "tags": []
   },
   "outputs": [],
   "source": [
    "df_pivot.columns = [\"stamp_1\", \"stamp_2\"]\n",
    "df_pivot_diff = df_pivot.diff(axis=1)"
   ]
  },
  {
   "cell_type": "code",
   "execution_count": 7,
   "id": "fifth-motion",
   "metadata": {
    "execution": {
     "iopub.execute_input": "2021-11-02T05:00:11.177588Z",
     "iopub.status.busy": "2021-11-02T05:00:11.174670Z",
     "iopub.status.idle": "2021-11-02T05:00:13.078899Z",
     "shell.execute_reply": "2021-11-02T05:00:13.081486Z"
    },
    "papermill": {
     "duration": 1.942353,
     "end_time": "2021-11-02T05:00:13.082238",
     "exception": false,
     "start_time": "2021-11-02T05:00:11.139885",
     "status": "completed"
    },
    "tags": []
   },
   "outputs": [
    {
     "data": {
      "text/plain": [
       "<AxesSubplot:ylabel='PRODUCT'>"
      ]
     },
     "execution_count": 7,
     "metadata": {},
     "output_type": "execute_result"
    },
    {
     "data": {
      "image/png": "[encoded data removed]",
      "text/plain": [
       "<Figure size 432x288 with 1 Axes>"
      ]
     },
     "metadata": {
      "needs_background": "light"
     },
     "output_type": "display_data"
    }
   ],
   "source": [
    "df_pivot_diff.sort_values(\"stamp_2\", ascending = False)[\"stamp_2\"].head(10).plot.barh()"
   ]
  },
  {
   "cell_type": "code",
   "execution_count": null,
   "id": "extra-executive",
   "metadata": {
    "papermill": {
     "duration": 0.03719,
     "end_time": "2021-11-02T05:00:13.153445",
     "exception": false,
     "start_time": "2021-11-02T05:00:13.116255",
     "status": "completed"
    },
    "tags": []
   },
   "outputs": [],
   "source": []
  }
 ],
 "metadata": {
  "kernelspec": {
   "display_name": "Python 3",
   "language": "python",
   "name": "python3"
  },
  "language_info": {
   "codemirror_mode": {
    "name": "ipython",
    "version": 3
   },
   "file_extension": ".py",
   "mimetype": "text/x-python",
   "name": "python",
   "nbconvert_exporter": "python",
   "pygments_lexer": "ipython3",
   "version": "3.9.5"
  },
  "papermill": {
   "default_parameters": {},
   "duration": 8.641633,
   "end_time": "2021-11-02T05:00:13.918826",
   "environment_variables": {},
   "exception": null,
   "input_path": "eBay_Overview.ipynb",
   "output_path": "eBay_Overview.ipynb",
   "parameters": {},
   "start_time": "2021-11-02T05:00:05.277193",
   "version": "2.3.3"
  }
 },
 "nbformat": 4,
 "nbformat_minor": 5
}