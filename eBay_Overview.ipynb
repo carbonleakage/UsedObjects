{
 "cells": [
  {
   "cell_type": "code",
   "execution_count": 1,
   "id": "reverse-picking",
   "metadata": {
    "execution": {
     "iopub.execute_input": "2021-11-08T23:00:07.579561Z",
     "iopub.status.busy": "2021-11-08T23:00:07.577389Z",
     "iopub.status.idle": "2021-11-08T23:00:08.529356Z",
     "shell.execute_reply": "2021-11-08T23:00:08.530823Z"
    },
    "papermill": {
     "duration": 1.001803,
     "end_time": "2021-11-08T23:00:08.531581",
     "exception": false,
     "start_time": "2021-11-08T23:00:07.529778",
     "status": "completed"
    },
    "tags": []
   },
   "outputs": [],
   "source": [
    "import pandas as pd\n",
    "import sqlite3"
   ]
  },
  {
   "cell_type": "code",
   "execution_count": 2,
   "id": "innovative-syndrome",
   "metadata": {
    "execution": {
     "iopub.execute_input": "2021-11-08T23:00:08.597894Z",
     "iopub.status.busy": "2021-11-08T23:00:08.595600Z",
     "iopub.status.idle": "2021-11-08T23:00:09.360897Z",
     "shell.execute_reply": "2021-11-08T23:00:09.362352Z"
    },
    "papermill": {
     "duration": 0.800876,
     "end_time": "2021-11-08T23:00:09.362878",
     "exception": false,
     "start_time": "2021-11-08T23:00:08.562002",
     "status": "completed"
    },
    "tags": []
   },
   "outputs": [],
   "source": [
    "timestamps = pd.read_sql(\"select distinct record_time from EBAY_TOP_BERLIN order by record_time desc limit 2\", sqlite3.connect(\"UsedObjects.db\"))"
   ]
  },
  {
   "cell_type": "code",
   "execution_count": 3,
   "id": "periodic-identification",
   "metadata": {
    "execution": {
     "iopub.execute_input": "2021-11-08T23:00:09.434135Z",
     "iopub.status.busy": "2021-11-08T23:00:09.431808Z",
     "iopub.status.idle": "2021-11-08T23:00:09.454358Z",
     "shell.execute_reply": "2021-11-08T23:00:09.455774Z"
    },
    "papermill": {
     "duration": 0.071425,
     "end_time": "2021-11-08T23:00:09.456229",
     "exception": false,
     "start_time": "2021-11-08T23:00:09.384804",
     "status": "completed"
    },
    "tags": []
   },
   "outputs": [
    {
     "data": {
      "text/html": [
       "<div>\n",
       "<style scoped>\n",
       "    .dataframe tbody tr th:only-of-type {\n",
       "        vertical-align: middle;\n",
       "    }\n",
       "\n",
       "    .dataframe tbody tr th {\n",
       "        vertical-align: top;\n",
       "    }\n",
       "\n",
       "    .dataframe thead th {\n",
       "        text-align: right;\n",
       "    }\n",
       "</style>\n",
       "<table border=\"1\" class=\"dataframe\">\n",
       "  <thead>\n",
       "    <tr style=\"text-align: right;\">\n",
       "      <th></th>\n",
       "      <th>RECORD_TIME</th>\n",
       "    </tr>\n",
       "  </thead>\n",
       "  <tbody>\n",
       "    <tr>\n",
       "      <th>0</th>\n",
       "      <td>2021-11-09 00:00</td>\n",
       "    </tr>\n",
       "    <tr>\n",
       "      <th>1</th>\n",
       "      <td>2021-11-08 23:30</td>\n",
       "    </tr>\n",
       "  </tbody>\n",
       "</table>\n",
       "</div>"
      ],
      "text/plain": [
       "        RECORD_TIME\n",
       "0  2021-11-09 00:00\n",
       "1  2021-11-08 23:30"
      ]
     },
     "execution_count": 3,
     "metadata": {},
     "output_type": "execute_result"
    }
   ],
   "source": [
    "timestamps"
   ]
  },
  {
   "cell_type": "code",
   "execution_count": 4,
   "id": "alternate-victory",
   "metadata": {
    "execution": {
     "iopub.execute_input": "2021-11-08T23:00:09.509839Z",
     "iopub.status.busy": "2021-11-08T23:00:09.507707Z",
     "iopub.status.idle": "2021-11-08T23:00:10.612752Z",
     "shell.execute_reply": "2021-11-08T23:00:10.614333Z"
    },
    "papermill": {
     "duration": 1.137733,
     "end_time": "2021-11-08T23:00:10.614824",
     "exception": false,
     "start_time": "2021-11-08T23:00:09.477091",
     "status": "completed"
    },
    "tags": []
   },
   "outputs": [],
   "source": [
    "df = pd.read_sql(\"select * from EBAY_TOP_BERLIN where record_time in (select distinct record_time from EBAY_TOP_BERLIN order by record_time desc limit 2)\", sqlite3.connect(\"UsedObjects.db\"))"
   ]
  },
  {
   "cell_type": "code",
   "execution_count": 5,
   "id": "popular-active",
   "metadata": {
    "execution": {
     "iopub.execute_input": "2021-11-08T23:00:10.689656Z",
     "iopub.status.busy": "2021-11-08T23:00:10.687329Z",
     "iopub.status.idle": "2021-11-08T23:00:10.714848Z",
     "shell.execute_reply": "2021-11-08T23:00:10.716378Z"
    },
    "papermill": {
     "duration": 0.079823,
     "end_time": "2021-11-08T23:00:10.716963",
     "exception": false,
     "start_time": "2021-11-08T23:00:10.637140",
     "status": "completed"
    },
    "tags": []
   },
   "outputs": [],
   "source": [
    "df_pivot = df.pivot_table(index=\"PRODUCT\", columns = \"RECORD_TIME\", values = \"LISTING_COUNT\")"
   ]
  },
  {
   "cell_type": "code",
   "execution_count": 6,
   "id": "union-huntington",
   "metadata": {
    "execution": {
     "iopub.execute_input": "2021-11-08T23:00:10.780445Z",
     "iopub.status.busy": "2021-11-08T23:00:10.778152Z",
     "iopub.status.idle": "2021-11-08T23:00:10.783940Z",
     "shell.execute_reply": "2021-11-08T23:00:10.785596Z"
    },
    "papermill": {
     "duration": 0.046435,
     "end_time": "2021-11-08T23:00:10.786072",
     "exception": false,
     "start_time": "2021-11-08T23:00:10.739637",
     "status": "completed"
    },
    "tags": []
   },
   "outputs": [],
   "source": [
    "df_pivot.columns = [\"stamp_1\", \"stamp_2\"]\n",
    "df_pivot_diff = df_pivot.diff(axis=1)"
   ]
  },
  {
   "cell_type": "code",
   "execution_count": 7,
   "id": "fifth-motion",
   "metadata": {
    "execution": {
     "iopub.execute_input": "2021-11-08T23:00:10.846929Z",
     "iopub.status.busy": "2021-11-08T23:00:10.844026Z",
     "iopub.status.idle": "2021-11-08T23:00:12.612609Z",
     "shell.execute_reply": "2021-11-08T23:00:12.614057Z"
    },
    "papermill": {
     "duration": 1.805674,
     "end_time": "2021-11-08T23:00:12.614529",
     "exception": false,
     "start_time": "2021-11-08T23:00:10.808855",
     "status": "completed"
    },
    "tags": []
   },
   "outputs": [
    {
     "data": {
      "text/plain": [
       "<AxesSubplot:ylabel='PRODUCT'>"
      ]
     },
     "execution_count": 7,
     "metadata": {},
     "output_type": "execute_result"
    },
    {
     "data": {
      "image/png": "[encoded data removed]",
      "text/plain": [
       "<Figure size 432x288 with 1 Axes>"
      ]
     },
     "metadata": {
      "needs_background": "light"
     },
     "output_type": "display_data"
    }
   ],
   "source": [
    "df_pivot_diff.sort_values(\"stamp_2\", ascending = False)[\"stamp_2\"].head(10).plot.barh()"
   ]
  },
  {
   "cell_type": "code",
   "execution_count": null,
   "id": "extra-executive",
   "metadata": {
    "papermill": {
     "duration": 0.023742,
     "end_time": "2021-11-08T23:00:12.662209",
     "exception": false,
     "start_time": "2021-11-08T23:00:12.638467",
     "status": "completed"
    },
    "tags": []
   },
   "outputs": [],
   "source": []
  }
 ],
 "metadata": {
  "kernelspec": {
   "display_name": "Python 3",
   "language": "python",
   "name": "python3"
  },
  "language_info": {
   "codemirror_mode": {
    "name": "ipython",
    "version": 3
   },
   "file_extension": ".py",
   "mimetype": "text/x-python",
   "name": "python",
   "nbconvert_exporter": "python",
   "pygments_lexer": "ipython3",
   "version": "3.9.5"
  },
  "papermill": {
   "default_parameters": {},
   "duration": 8.725144,
   "end_time": "2021-11-08T23:00:13.510806",
   "environment_variables": {},
   "exception": null,
   "input_path": "eBay_Overview.ipynb",
   "output_path": "eBay_Overview.ipynb",
   "parameters": {},
   "start_time": "2021-11-08T23:00:04.785662",
   "version": "2.3.3"
  }
 },
 "nbformat": 4,
 "nbformat_minor": 5
}