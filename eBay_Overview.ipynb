{
 "cells": [
  {
   "cell_type": "code",
   "execution_count": 1,
   "id": "reverse-picking",
   "metadata": {
    "execution": {
     "iopub.execute_input": "2021-08-18T03:30:06.891903Z",
     "iopub.status.busy": "2021-08-18T03:30:06.889867Z",
     "iopub.status.idle": "2021-08-18T03:30:07.696676Z",
     "shell.execute_reply": "2021-08-18T03:30:07.697961Z"
    },
    "papermill": {
     "duration": 0.85917,
     "end_time": "2021-08-18T03:30:07.698610",
     "exception": false,
     "start_time": "2021-08-18T03:30:06.839440",
     "status": "completed"
    },
    "tags": []
   },
   "outputs": [],
   "source": [
    "import pandas as pd\n",
    "import sqlite3"
   ]
  },
  {
   "cell_type": "code",
   "execution_count": 2,
   "id": "innovative-syndrome",
   "metadata": {
    "execution": {
     "iopub.execute_input": "2021-08-18T03:30:07.750614Z",
     "iopub.status.busy": "2021-08-18T03:30:07.748553Z",
     "iopub.status.idle": "2021-08-18T03:30:07.820158Z",
     "shell.execute_reply": "2021-08-18T03:30:07.821254Z"
    },
    "papermill": {
     "duration": 0.100764,
     "end_time": "2021-08-18T03:30:07.821659",
     "exception": false,
     "start_time": "2021-08-18T03:30:07.720895",
     "status": "completed"
    },
    "tags": []
   },
   "outputs": [],
   "source": [
    "timestamps = pd.read_sql(\"select distinct record_time from EBAY_TOP_BERLIN order by record_time desc limit 2\", sqlite3.connect(\"UsedObjects.db\"))"
   ]
  },
  {
   "cell_type": "code",
   "execution_count": 3,
   "id": "periodic-identification",
   "metadata": {
    "execution": {
     "iopub.execute_input": "2021-08-18T03:30:07.888903Z",
     "iopub.status.busy": "2021-08-18T03:30:07.886902Z",
     "iopub.status.idle": "2021-08-18T03:30:07.906797Z",
     "shell.execute_reply": "2021-08-18T03:30:07.908578Z"
    },
    "papermill": {
     "duration": 0.06587,
     "end_time": "2021-08-18T03:30:07.909105",
     "exception": false,
     "start_time": "2021-08-18T03:30:07.843235",
     "status": "completed"
    },
    "tags": []
   },
   "outputs": [
    {
     "data": {
      "text/html": [
       "<div>\n",
       "<style scoped>\n",
       "    .dataframe tbody tr th:only-of-type {\n",
       "        vertical-align: middle;\n",
       "    }\n",
       "\n",
       "    .dataframe tbody tr th {\n",
       "        vertical-align: top;\n",
       "    }\n",
       "\n",
       "    .dataframe thead th {\n",
       "        text-align: right;\n",
       "    }\n",
       "</style>\n",
       "<table border=\"1\" class=\"dataframe\">\n",
       "  <thead>\n",
       "    <tr style=\"text-align: right;\">\n",
       "      <th></th>\n",
       "      <th>RECORD_TIME</th>\n",
       "    </tr>\n",
       "  </thead>\n",
       "  <tbody>\n",
       "    <tr>\n",
       "      <th>0</th>\n",
       "      <td>2021-08-18 05:30</td>\n",
       "    </tr>\n",
       "    <tr>\n",
       "      <th>1</th>\n",
       "      <td>2021-08-18 05:00</td>\n",
       "    </tr>\n",
       "  </tbody>\n",
       "</table>\n",
       "</div>"
      ],
      "text/plain": [
       "        RECORD_TIME\n",
       "0  2021-08-18 05:30\n",
       "1  2021-08-18 05:00"
      ]
     },
     "execution_count": 3,
     "metadata": {},
     "output_type": "execute_result"
    }
   ],
   "source": [
    "timestamps"
   ]
  },
  {
   "cell_type": "code",
   "execution_count": 4,
   "id": "alternate-victory",
   "metadata": {
    "execution": {
     "iopub.execute_input": "2021-08-18T03:30:07.962118Z",
     "iopub.status.busy": "2021-08-18T03:30:07.960068Z",
     "iopub.status.idle": "2021-08-18T03:30:08.066711Z",
     "shell.execute_reply": "2021-08-18T03:30:08.067985Z"
    },
    "papermill": {
     "duration": 0.137077,
     "end_time": "2021-08-18T03:30:08.068375",
     "exception": false,
     "start_time": "2021-08-18T03:30:07.931298",
     "status": "completed"
    },
    "tags": []
   },
   "outputs": [],
   "source": [
    "df = pd.read_sql(\"select * from EBAY_TOP_BERLIN where record_time in (select distinct record_time from EBAY_TOP_BERLIN order by record_time desc limit 2)\", sqlite3.connect(\"UsedObjects.db\"))"
   ]
  },
  {
   "cell_type": "code",
   "execution_count": 5,
   "id": "popular-active",
   "metadata": {
    "execution": {
     "iopub.execute_input": "2021-08-18T03:30:08.137702Z",
     "iopub.status.busy": "2021-08-18T03:30:08.125056Z",
     "iopub.status.idle": "2021-08-18T03:30:08.154582Z",
     "shell.execute_reply": "2021-08-18T03:30:08.155992Z"
    },
    "papermill": {
     "duration": 0.067886,
     "end_time": "2021-08-18T03:30:08.156427",
     "exception": false,
     "start_time": "2021-08-18T03:30:08.088541",
     "status": "completed"
    },
    "tags": []
   },
   "outputs": [],
   "source": [
    "df_pivot = df.pivot_table(index=\"PRODUCT\", columns = \"RECORD_TIME\", values = \"LISTING_COUNT\")"
   ]
  },
  {
   "cell_type": "code",
   "execution_count": 6,
   "id": "union-huntington",
   "metadata": {
    "execution": {
     "iopub.execute_input": "2021-08-18T03:30:08.213306Z",
     "iopub.status.busy": "2021-08-18T03:30:08.210883Z",
     "iopub.status.idle": "2021-08-18T03:30:08.216961Z",
     "shell.execute_reply": "2021-08-18T03:30:08.218388Z"
    },
    "papermill": {
     "duration": 0.04227,
     "end_time": "2021-08-18T03:30:08.218829",
     "exception": false,
     "start_time": "2021-08-18T03:30:08.176559",
     "status": "completed"
    },
    "tags": []
   },
   "outputs": [],
   "source": [
    "df_pivot.columns = [\"stamp_1\", \"stamp_2\"]\n",
    "df_pivot_diff = df_pivot.diff(axis=1)"
   ]
  },
  {
   "cell_type": "code",
   "execution_count": 7,
   "id": "fifth-motion",
   "metadata": {
    "execution": {
     "iopub.execute_input": "2021-08-18T03:30:08.274724Z",
     "iopub.status.busy": "2021-08-18T03:30:08.272284Z",
     "iopub.status.idle": "2021-08-18T03:30:09.741804Z",
     "shell.execute_reply": "2021-08-18T03:30:09.743242Z"
    },
    "papermill": {
     "duration": 1.502885,
     "end_time": "2021-08-18T03:30:09.743680",
     "exception": false,
     "start_time": "2021-08-18T03:30:08.240795",
     "status": "completed"
    },
    "tags": []
   },
   "outputs": [
    {
     "data": {
      "text/plain": [
       "<AxesSubplot:ylabel='PRODUCT'>"
      ]
     },
     "execution_count": 7,
     "metadata": {},
     "output_type": "execute_result"
    },
    {
     "data": {
      "image/png": "[encoded data removed]",
      "text/plain": [
       "<Figure size 432x288 with 1 Axes>"
      ]
     },
     "metadata": {
      "needs_background": "light"
     },
     "output_type": "display_data"
    }
   ],
   "source": [
    "df_pivot_diff.sort_values(\"stamp_2\", ascending = False)[\"stamp_2\"].head(10).plot.barh()"
   ]
  },
  {
   "cell_type": "code",
   "execution_count": null,
   "id": "extra-executive",
   "metadata": {
    "papermill": {
     "duration": 0.022148,
     "end_time": "2021-08-18T03:30:09.789418",
     "exception": false,
     "start_time": "2021-08-18T03:30:09.767270",
     "status": "completed"
    },
    "tags": []
   },
   "outputs": [],
   "source": []
  }
 ],
 "metadata": {
  "kernelspec": {
   "display_name": "Python 3",
   "language": "python",
   "name": "python3"
  },
  "language_info": {
   "codemirror_mode": {
    "name": "ipython",
    "version": 3
   },
   "file_extension": ".py",
   "mimetype": "text/x-python",
   "name": "python",
   "nbconvert_exporter": "python",
   "pygments_lexer": "ipython3",
   "version": "3.9.5"
  },
  "papermill": {
   "default_parameters": {},
   "duration": 6.835365,
   "end_time": "2021-08-18T03:30:11.257906",
   "environment_variables": {},
   "exception": null,
   "input_path": "eBay_Overview.ipynb",
   "output_path": "eBay_Overview.ipynb",
   "parameters": {},
   "start_time": "2021-08-18T03:30:04.422541",
   "version": "2.3.3"
  }
 },
 "nbformat": 4,
 "nbformat_minor": 5
}