{
 "cells": [
  {
   "cell_type": "code",
   "execution_count": 1,
   "id": "reverse-picking",
   "metadata": {
    "execution": {
     "iopub.execute_input": "2021-10-20T02:00:06.953926Z",
     "iopub.status.busy": "2021-10-20T02:00:06.951918Z",
     "iopub.status.idle": "2021-10-20T02:00:07.763441Z",
     "shell.execute_reply": "2021-10-20T02:00:07.764811Z"
    },
    "papermill": {
     "duration": 0.861237,
     "end_time": "2021-10-20T02:00:07.765456",
     "exception": false,
     "start_time": "2021-10-20T02:00:06.904219",
     "status": "completed"
    },
    "tags": []
   },
   "outputs": [],
   "source": [
    "import pandas as pd\n",
    "import sqlite3"
   ]
  },
  {
   "cell_type": "code",
   "execution_count": 2,
   "id": "innovative-syndrome",
   "metadata": {
    "execution": {
     "iopub.execute_input": "2021-10-20T02:00:07.818131Z",
     "iopub.status.busy": "2021-10-20T02:00:07.816040Z",
     "iopub.status.idle": "2021-10-20T02:00:08.404104Z",
     "shell.execute_reply": "2021-10-20T02:00:08.405535Z"
    },
    "papermill": {
     "duration": 0.619194,
     "end_time": "2021-10-20T02:00:08.405948",
     "exception": false,
     "start_time": "2021-10-20T02:00:07.786754",
     "status": "completed"
    },
    "tags": []
   },
   "outputs": [],
   "source": [
    "timestamps = pd.read_sql(\"select distinct record_time from EBAY_TOP_BERLIN order by record_time desc limit 2\", sqlite3.connect(\"UsedObjects.db\"))"
   ]
  },
  {
   "cell_type": "code",
   "execution_count": 3,
   "id": "periodic-identification",
   "metadata": {
    "execution": {
     "iopub.execute_input": "2021-10-20T02:00:08.488080Z",
     "iopub.status.busy": "2021-10-20T02:00:08.486088Z",
     "iopub.status.idle": "2021-10-20T02:00:08.507678Z",
     "shell.execute_reply": "2021-10-20T02:00:08.508969Z"
    },
    "papermill": {
     "duration": 0.073381,
     "end_time": "2021-10-20T02:00:08.509377",
     "exception": false,
     "start_time": "2021-10-20T02:00:08.435996",
     "status": "completed"
    },
    "tags": []
   },
   "outputs": [
    {
     "data": {
      "text/html": [
       "<div>\n",
       "<style scoped>\n",
       "    .dataframe tbody tr th:only-of-type {\n",
       "        vertical-align: middle;\n",
       "    }\n",
       "\n",
       "    .dataframe tbody tr th {\n",
       "        vertical-align: top;\n",
       "    }\n",
       "\n",
       "    .dataframe thead th {\n",
       "        text-align: right;\n",
       "    }\n",
       "</style>\n",
       "<table border=\"1\" class=\"dataframe\">\n",
       "  <thead>\n",
       "    <tr style=\"text-align: right;\">\n",
       "      <th></th>\n",
       "      <th>RECORD_TIME</th>\n",
       "    </tr>\n",
       "  </thead>\n",
       "  <tbody>\n",
       "    <tr>\n",
       "      <th>0</th>\n",
       "      <td>2021-10-20 04:00</td>\n",
       "    </tr>\n",
       "    <tr>\n",
       "      <th>1</th>\n",
       "      <td>2021-10-20 03:30</td>\n",
       "    </tr>\n",
       "  </tbody>\n",
       "</table>\n",
       "</div>"
      ],
      "text/plain": [
       "        RECORD_TIME\n",
       "0  2021-10-20 04:00\n",
       "1  2021-10-20 03:30"
      ]
     },
     "execution_count": 3,
     "metadata": {},
     "output_type": "execute_result"
    }
   ],
   "source": [
    "timestamps"
   ]
  },
  {
   "cell_type": "code",
   "execution_count": 4,
   "id": "alternate-victory",
   "metadata": {
    "execution": {
     "iopub.execute_input": "2021-10-20T02:00:08.560503Z",
     "iopub.status.busy": "2021-10-20T02:00:08.558703Z",
     "iopub.status.idle": "2021-10-20T02:00:09.427157Z",
     "shell.execute_reply": "2021-10-20T02:00:09.428448Z"
    },
    "papermill": {
     "duration": 0.898461,
     "end_time": "2021-10-20T02:00:09.428943",
     "exception": false,
     "start_time": "2021-10-20T02:00:08.530482",
     "status": "completed"
    },
    "tags": []
   },
   "outputs": [],
   "source": [
    "df = pd.read_sql(\"select * from EBAY_TOP_BERLIN where record_time in (select distinct record_time from EBAY_TOP_BERLIN order by record_time desc limit 2)\", sqlite3.connect(\"UsedObjects.db\"))"
   ]
  },
  {
   "cell_type": "code",
   "execution_count": 5,
   "id": "popular-active",
   "metadata": {
    "execution": {
     "iopub.execute_input": "2021-10-20T02:00:09.498526Z",
     "iopub.status.busy": "2021-10-20T02:00:09.486592Z",
     "iopub.status.idle": "2021-10-20T02:00:09.515535Z",
     "shell.execute_reply": "2021-10-20T02:00:09.517244Z"
    },
    "papermill": {
     "duration": 0.068394,
     "end_time": "2021-10-20T02:00:09.517721",
     "exception": false,
     "start_time": "2021-10-20T02:00:09.449327",
     "status": "completed"
    },
    "tags": []
   },
   "outputs": [],
   "source": [
    "df_pivot = df.pivot_table(index=\"PRODUCT\", columns = \"RECORD_TIME\", values = \"LISTING_COUNT\")"
   ]
  },
  {
   "cell_type": "code",
   "execution_count": 6,
   "id": "union-huntington",
   "metadata": {
    "execution": {
     "iopub.execute_input": "2021-10-20T02:00:09.576490Z",
     "iopub.status.busy": "2021-10-20T02:00:09.574431Z",
     "iopub.status.idle": "2021-10-20T02:00:09.579622Z",
     "shell.execute_reply": "2021-10-20T02:00:09.580989Z"
    },
    "papermill": {
     "duration": 0.041266,
     "end_time": "2021-10-20T02:00:09.581405",
     "exception": false,
     "start_time": "2021-10-20T02:00:09.540139",
     "status": "completed"
    },
    "tags": []
   },
   "outputs": [],
   "source": [
    "df_pivot.columns = [\"stamp_1\", \"stamp_2\"]\n",
    "df_pivot_diff = df_pivot.diff(axis=1)"
   ]
  },
  {
   "cell_type": "code",
   "execution_count": 7,
   "id": "fifth-motion",
   "metadata": {
    "execution": {
     "iopub.execute_input": "2021-10-20T02:00:09.635737Z",
     "iopub.status.busy": "2021-10-20T02:00:09.633253Z",
     "iopub.status.idle": "2021-10-20T02:00:11.106245Z",
     "shell.execute_reply": "2021-10-20T02:00:11.107525Z"
    },
    "papermill": {
     "duration": 1.506011,
     "end_time": "2021-10-20T02:00:11.107936",
     "exception": false,
     "start_time": "2021-10-20T02:00:09.601925",
     "status": "completed"
    },
    "tags": []
   },
   "outputs": [
    {
     "data": {
      "text/plain": [
       "<AxesSubplot:ylabel='PRODUCT'>"
      ]
     },
     "execution_count": 7,
     "metadata": {},
     "output_type": "execute_result"
    },
    {
     "data": {
      "image/png": "[encoded data removed]",
      "text/plain": [
       "<Figure size 432x288 with 1 Axes>"
      ]
     },
     "metadata": {
      "needs_background": "light"
     },
     "output_type": "display_data"
    }
   ],
   "source": [
    "df_pivot_diff.sort_values(\"stamp_2\", ascending = False)[\"stamp_2\"].head(10).plot.barh()"
   ]
  },
  {
   "cell_type": "code",
   "execution_count": null,
   "id": "extra-executive",
   "metadata": {
    "papermill": {
     "duration": 0.02209,
     "end_time": "2021-10-20T02:00:11.154550",
     "exception": false,
     "start_time": "2021-10-20T02:00:11.132460",
     "status": "completed"
    },
    "tags": []
   },
   "outputs": [],
   "source": []
  }
 ],
 "metadata": {
  "kernelspec": {
   "display_name": "Python 3",
   "language": "python",
   "name": "python3"
  },
  "language_info": {
   "codemirror_mode": {
    "name": "ipython",
    "version": 3
   },
   "file_extension": ".py",
   "mimetype": "text/x-python",
   "name": "python",
   "nbconvert_exporter": "python",
   "pygments_lexer": "ipython3",
   "version": "3.9.5"
  },
  "papermill": {
   "default_parameters": {},
   "duration": 7.821016,
   "end_time": "2021-10-20T02:00:12.306781",
   "environment_variables": {},
   "exception": null,
   "input_path": "eBay_Overview.ipynb",
   "output_path": "eBay_Overview.ipynb",
   "parameters": {},
   "start_time": "2021-10-20T02:00:04.485765",
   "version": "2.3.3"
  }
 },
 "nbformat": 4,
 "nbformat_minor": 5
}