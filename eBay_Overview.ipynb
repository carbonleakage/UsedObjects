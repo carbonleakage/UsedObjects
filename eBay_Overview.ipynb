{
 "cells": [
  {
   "cell_type": "code",
   "execution_count": 1,
   "id": "reverse-picking",
   "metadata": {
    "execution": {
     "iopub.execute_input": "2021-10-07T01:00:06.737102Z",
     "iopub.status.busy": "2021-10-07T01:00:06.735186Z",
     "iopub.status.idle": "2021-10-07T01:00:07.545370Z",
     "shell.execute_reply": "2021-10-07T01:00:07.543782Z"
    },
    "papermill": {
     "duration": 0.860989,
     "end_time": "2021-10-07T01:00:07.545762",
     "exception": false,
     "start_time": "2021-10-07T01:00:06.684773",
     "status": "completed"
    },
    "tags": []
   },
   "outputs": [],
   "source": [
    "import pandas as pd\n",
    "import sqlite3"
   ]
  },
  {
   "cell_type": "code",
   "execution_count": 2,
   "id": "innovative-syndrome",
   "metadata": {
    "execution": {
     "iopub.execute_input": "2021-10-07T01:00:07.595999Z",
     "iopub.status.busy": "2021-10-07T01:00:07.593747Z",
     "iopub.status.idle": "2021-10-07T01:00:08.065625Z",
     "shell.execute_reply": "2021-10-07T01:00:08.066872Z"
    },
    "papermill": {
     "duration": 0.5015,
     "end_time": "2021-10-07T01:00:08.067320",
     "exception": false,
     "start_time": "2021-10-07T01:00:07.565820",
     "status": "completed"
    },
    "tags": []
   },
   "outputs": [],
   "source": [
    "timestamps = pd.read_sql(\"select distinct record_time from EBAY_TOP_BERLIN order by record_time desc limit 2\", sqlite3.connect(\"UsedObjects.db\"))"
   ]
  },
  {
   "cell_type": "code",
   "execution_count": 3,
   "id": "periodic-identification",
   "metadata": {
    "execution": {
     "iopub.execute_input": "2021-10-07T01:00:08.131625Z",
     "iopub.status.busy": "2021-10-07T01:00:08.129534Z",
     "iopub.status.idle": "2021-10-07T01:00:08.149087Z",
     "shell.execute_reply": "2021-10-07T01:00:08.150182Z"
    },
    "papermill": {
     "duration": 0.063681,
     "end_time": "2021-10-07T01:00:08.150590",
     "exception": false,
     "start_time": "2021-10-07T01:00:08.086909",
     "status": "completed"
    },
    "tags": []
   },
   "outputs": [
    {
     "data": {
      "text/html": [
       "<div>\n",
       "<style scoped>\n",
       "    .dataframe tbody tr th:only-of-type {\n",
       "        vertical-align: middle;\n",
       "    }\n",
       "\n",
       "    .dataframe tbody tr th {\n",
       "        vertical-align: top;\n",
       "    }\n",
       "\n",
       "    .dataframe thead th {\n",
       "        text-align: right;\n",
       "    }\n",
       "</style>\n",
       "<table border=\"1\" class=\"dataframe\">\n",
       "  <thead>\n",
       "    <tr style=\"text-align: right;\">\n",
       "      <th></th>\n",
       "      <th>RECORD_TIME</th>\n",
       "    </tr>\n",
       "  </thead>\n",
       "  <tbody>\n",
       "    <tr>\n",
       "      <th>0</th>\n",
       "      <td>2021-10-07 03:00</td>\n",
       "    </tr>\n",
       "    <tr>\n",
       "      <th>1</th>\n",
       "      <td>2021-10-07 02:30</td>\n",
       "    </tr>\n",
       "  </tbody>\n",
       "</table>\n",
       "</div>"
      ],
      "text/plain": [
       "        RECORD_TIME\n",
       "0  2021-10-07 03:00\n",
       "1  2021-10-07 02:30"
      ]
     },
     "execution_count": 3,
     "metadata": {},
     "output_type": "execute_result"
    }
   ],
   "source": [
    "timestamps"
   ]
  },
  {
   "cell_type": "code",
   "execution_count": 4,
   "id": "alternate-victory",
   "metadata": {
    "execution": {
     "iopub.execute_input": "2021-10-07T01:00:08.218769Z",
     "iopub.status.busy": "2021-10-07T01:00:08.216768Z",
     "iopub.status.idle": "2021-10-07T01:00:08.928272Z",
     "shell.execute_reply": "2021-10-07T01:00:08.929477Z"
    },
    "papermill": {
     "duration": 0.747732,
     "end_time": "2021-10-07T01:00:08.929873",
     "exception": false,
     "start_time": "2021-10-07T01:00:08.182141",
     "status": "completed"
    },
    "tags": []
   },
   "outputs": [],
   "source": [
    "df = pd.read_sql(\"select * from EBAY_TOP_BERLIN where record_time in (select distinct record_time from EBAY_TOP_BERLIN order by record_time desc limit 2)\", sqlite3.connect(\"UsedObjects.db\"))"
   ]
  },
  {
   "cell_type": "code",
   "execution_count": 5,
   "id": "popular-active",
   "metadata": {
    "execution": {
     "iopub.execute_input": "2021-10-07T01:00:08.991058Z",
     "iopub.status.busy": "2021-10-07T01:00:08.988723Z",
     "iopub.status.idle": "2021-10-07T01:00:09.016167Z",
     "shell.execute_reply": "2021-10-07T01:00:09.017374Z"
    },
    "papermill": {
     "duration": 0.06733,
     "end_time": "2021-10-07T01:00:09.017765",
     "exception": false,
     "start_time": "2021-10-07T01:00:08.950435",
     "status": "completed"
    },
    "tags": []
   },
   "outputs": [],
   "source": [
    "df_pivot = df.pivot_table(index=\"PRODUCT\", columns = \"RECORD_TIME\", values = \"LISTING_COUNT\")"
   ]
  },
  {
   "cell_type": "code",
   "execution_count": 6,
   "id": "union-huntington",
   "metadata": {
    "execution": {
     "iopub.execute_input": "2021-10-07T01:00:09.075241Z",
     "iopub.status.busy": "2021-10-07T01:00:09.073092Z",
     "iopub.status.idle": "2021-10-07T01:00:09.078589Z",
     "shell.execute_reply": "2021-10-07T01:00:09.080110Z"
    },
    "papermill": {
     "duration": 0.041135,
     "end_time": "2021-10-07T01:00:09.080554",
     "exception": false,
     "start_time": "2021-10-07T01:00:09.039419",
     "status": "completed"
    },
    "tags": []
   },
   "outputs": [],
   "source": [
    "df_pivot.columns = [\"stamp_1\", \"stamp_2\"]\n",
    "df_pivot_diff = df_pivot.diff(axis=1)"
   ]
  },
  {
   "cell_type": "code",
   "execution_count": 7,
   "id": "fifth-motion",
   "metadata": {
    "execution": {
     "iopub.execute_input": "2021-10-07T01:00:09.136740Z",
     "iopub.status.busy": "2021-10-07T01:00:09.134038Z",
     "iopub.status.idle": "2021-10-07T01:00:10.637245Z",
     "shell.execute_reply": "2021-10-07T01:00:10.638504Z"
    },
    "papermill": {
     "duration": 1.537363,
     "end_time": "2021-10-07T01:00:10.638987",
     "exception": false,
     "start_time": "2021-10-07T01:00:09.101624",
     "status": "completed"
    },
    "tags": []
   },
   "outputs": [
    {
     "data": {
      "text/plain": [
       "<AxesSubplot:ylabel='PRODUCT'>"
      ]
     },
     "execution_count": 7,
     "metadata": {},
     "output_type": "execute_result"
    },
    {
     "data": {
      "image/png": "[encoded data removed]",
      "text/plain": [
       "<Figure size 432x288 with 1 Axes>"
      ]
     },
     "metadata": {
      "needs_background": "light"
     },
     "output_type": "display_data"
    }
   ],
   "source": [
    "df_pivot_diff.sort_values(\"stamp_2\", ascending = False)[\"stamp_2\"].head(10).plot.barh()"
   ]
  },
  {
   "cell_type": "code",
   "execution_count": null,
   "id": "extra-executive",
   "metadata": {
    "papermill": {
     "duration": 0.022401,
     "end_time": "2021-10-07T01:00:10.685943",
     "exception": false,
     "start_time": "2021-10-07T01:00:10.663542",
     "status": "completed"
    },
    "tags": []
   },
   "outputs": [],
   "source": []
  }
 ],
 "metadata": {
  "kernelspec": {
   "display_name": "Python 3",
   "language": "python",
   "name": "python3"
  },
  "language_info": {
   "codemirror_mode": {
    "name": "ipython",
    "version": 3
   },
   "file_extension": ".py",
   "mimetype": "text/x-python",
   "name": "python",
   "nbconvert_exporter": "python",
   "pygments_lexer": "ipython3",
   "version": "3.9.5"
  },
  "papermill": {
   "default_parameters": {},
   "duration": 7.841833,
   "end_time": "2021-10-07T01:00:12.118276",
   "environment_variables": {},
   "exception": null,
   "input_path": "eBay_Overview.ipynb",
   "output_path": "eBay_Overview.ipynb",
   "parameters": {},
   "start_time": "2021-10-07T01:00:04.276443",
   "version": "2.3.3"
  }
 },
 "nbformat": 4,
 "nbformat_minor": 5
}