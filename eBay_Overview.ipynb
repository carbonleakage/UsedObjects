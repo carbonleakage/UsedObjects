{
 "cells": [
  {
   "cell_type": "code",
   "execution_count": 1,
   "id": "reverse-picking",
   "metadata": {
    "execution": {
     "iopub.execute_input": "2021-10-02T10:00:06.796508Z",
     "iopub.status.busy": "2021-10-02T10:00:06.794451Z",
     "iopub.status.idle": "2021-10-02T10:00:07.599449Z",
     "shell.execute_reply": "2021-10-02T10:00:07.600719Z"
    },
    "papermill": {
     "duration": 0.856338,
     "end_time": "2021-10-02T10:00:07.601375",
     "exception": false,
     "start_time": "2021-10-02T10:00:06.745037",
     "status": "completed"
    },
    "tags": []
   },
   "outputs": [],
   "source": [
    "import pandas as pd\n",
    "import sqlite3"
   ]
  },
  {
   "cell_type": "code",
   "execution_count": 2,
   "id": "innovative-syndrome",
   "metadata": {
    "execution": {
     "iopub.execute_input": "2021-10-02T10:00:07.652072Z",
     "iopub.status.busy": "2021-10-02T10:00:07.650039Z",
     "iopub.status.idle": "2021-10-02T10:00:08.076046Z",
     "shell.execute_reply": "2021-10-02T10:00:08.077265Z"
    },
    "papermill": {
     "duration": 0.455226,
     "end_time": "2021-10-02T10:00:08.077667",
     "exception": false,
     "start_time": "2021-10-02T10:00:07.622441",
     "status": "completed"
    },
    "tags": []
   },
   "outputs": [],
   "source": [
    "timestamps = pd.read_sql(\"select distinct record_time from EBAY_TOP_BERLIN order by record_time desc limit 2\", sqlite3.connect(\"UsedObjects.db\"))"
   ]
  },
  {
   "cell_type": "code",
   "execution_count": 3,
   "id": "periodic-identification",
   "metadata": {
    "execution": {
     "iopub.execute_input": "2021-10-02T10:00:08.141434Z",
     "iopub.status.busy": "2021-10-02T10:00:08.139344Z",
     "iopub.status.idle": "2021-10-02T10:00:08.160154Z",
     "shell.execute_reply": "2021-10-02T10:00:08.161375Z"
    },
    "papermill": {
     "duration": 0.064934,
     "end_time": "2021-10-02T10:00:08.161775",
     "exception": false,
     "start_time": "2021-10-02T10:00:08.096841",
     "status": "completed"
    },
    "tags": []
   },
   "outputs": [
    {
     "data": {
      "text/html": [
       "<div>\n",
       "<style scoped>\n",
       "    .dataframe tbody tr th:only-of-type {\n",
       "        vertical-align: middle;\n",
       "    }\n",
       "\n",
       "    .dataframe tbody tr th {\n",
       "        vertical-align: top;\n",
       "    }\n",
       "\n",
       "    .dataframe thead th {\n",
       "        text-align: right;\n",
       "    }\n",
       "</style>\n",
       "<table border=\"1\" class=\"dataframe\">\n",
       "  <thead>\n",
       "    <tr style=\"text-align: right;\">\n",
       "      <th></th>\n",
       "      <th>RECORD_TIME</th>\n",
       "    </tr>\n",
       "  </thead>\n",
       "  <tbody>\n",
       "    <tr>\n",
       "      <th>0</th>\n",
       "      <td>2021-10-02 12:00</td>\n",
       "    </tr>\n",
       "    <tr>\n",
       "      <th>1</th>\n",
       "      <td>2021-10-02 11:30</td>\n",
       "    </tr>\n",
       "  </tbody>\n",
       "</table>\n",
       "</div>"
      ],
      "text/plain": [
       "        RECORD_TIME\n",
       "0  2021-10-02 12:00\n",
       "1  2021-10-02 11:30"
      ]
     },
     "execution_count": 3,
     "metadata": {},
     "output_type": "execute_result"
    }
   ],
   "source": [
    "timestamps"
   ]
  },
  {
   "cell_type": "code",
   "execution_count": 4,
   "id": "alternate-victory",
   "metadata": {
    "execution": {
     "iopub.execute_input": "2021-10-02T10:00:08.221120Z",
     "iopub.status.busy": "2021-10-02T10:00:08.218605Z",
     "iopub.status.idle": "2021-10-02T10:00:08.851146Z",
     "shell.execute_reply": "2021-10-02T10:00:08.852603Z"
    },
    "papermill": {
     "duration": 0.670362,
     "end_time": "2021-10-02T10:00:08.853045",
     "exception": false,
     "start_time": "2021-10-02T10:00:08.182683",
     "status": "completed"
    },
    "tags": []
   },
   "outputs": [],
   "source": [
    "df = pd.read_sql(\"select * from EBAY_TOP_BERLIN where record_time in (select distinct record_time from EBAY_TOP_BERLIN order by record_time desc limit 2)\", sqlite3.connect(\"UsedObjects.db\"))"
   ]
  },
  {
   "cell_type": "code",
   "execution_count": 5,
   "id": "popular-active",
   "metadata": {
    "execution": {
     "iopub.execute_input": "2021-10-02T10:00:08.921641Z",
     "iopub.status.busy": "2021-10-02T10:00:08.910155Z",
     "iopub.status.idle": "2021-10-02T10:00:08.937288Z",
     "shell.execute_reply": "2021-10-02T10:00:08.938508Z"
    },
    "papermill": {
     "duration": 0.065647,
     "end_time": "2021-10-02T10:00:08.939098",
     "exception": false,
     "start_time": "2021-10-02T10:00:08.873451",
     "status": "completed"
    },
    "tags": []
   },
   "outputs": [],
   "source": [
    "df_pivot = df.pivot_table(index=\"PRODUCT\", columns = \"RECORD_TIME\", values = \"LISTING_COUNT\")"
   ]
  },
  {
   "cell_type": "code",
   "execution_count": 6,
   "id": "union-huntington",
   "metadata": {
    "execution": {
     "iopub.execute_input": "2021-10-02T10:00:08.997915Z",
     "iopub.status.busy": "2021-10-02T10:00:08.995461Z",
     "iopub.status.idle": "2021-10-02T10:00:09.001235Z",
     "shell.execute_reply": "2021-10-02T10:00:09.002507Z"
    },
    "papermill": {
     "duration": 0.041942,
     "end_time": "2021-10-02T10:00:09.002990",
     "exception": false,
     "start_time": "2021-10-02T10:00:08.961048",
     "status": "completed"
    },
    "tags": []
   },
   "outputs": [],
   "source": [
    "df_pivot.columns = [\"stamp_1\", \"stamp_2\"]\n",
    "df_pivot_diff = df_pivot.diff(axis=1)"
   ]
  },
  {
   "cell_type": "code",
   "execution_count": 7,
   "id": "fifth-motion",
   "metadata": {
    "execution": {
     "iopub.execute_input": "2021-10-02T10:00:09.056995Z",
     "iopub.status.busy": "2021-10-02T10:00:09.054647Z",
     "iopub.status.idle": "2021-10-02T10:00:10.553826Z",
     "shell.execute_reply": "2021-10-02T10:00:10.555324Z"
    },
    "papermill": {
     "duration": 1.532408,
     "end_time": "2021-10-02T10:00:10.555799",
     "exception": false,
     "start_time": "2021-10-02T10:00:09.023391",
     "status": "completed"
    },
    "tags": []
   },
   "outputs": [
    {
     "data": {
      "text/plain": [
       "<AxesSubplot:ylabel='PRODUCT'>"
      ]
     },
     "execution_count": 7,
     "metadata": {},
     "output_type": "execute_result"
    },
    {
     "data": {
      "image/png": "[encoded data removed]",
      "text/plain": [
       "<Figure size 432x288 with 1 Axes>"
      ]
     },
     "metadata": {
      "needs_background": "light"
     },
     "output_type": "display_data"
    }
   ],
   "source": [
    "df_pivot_diff.sort_values(\"stamp_2\", ascending = False)[\"stamp_2\"].head(10).plot.barh()"
   ]
  },
  {
   "cell_type": "code",
   "execution_count": null,
   "id": "extra-executive",
   "metadata": {
    "papermill": {
     "duration": 0.022059,
     "end_time": "2021-10-02T10:00:10.602411",
     "exception": false,
     "start_time": "2021-10-02T10:00:10.580352",
     "status": "completed"
    },
    "tags": []
   },
   "outputs": [],
   "source": []
  }
 ],
 "metadata": {
  "kernelspec": {
   "display_name": "Python 3",
   "language": "python",
   "name": "python3"
  },
  "language_info": {
   "codemirror_mode": {
    "name": "ipython",
    "version": 3
   },
   "file_extension": ".py",
   "mimetype": "text/x-python",
   "name": "python",
   "nbconvert_exporter": "python",
   "pygments_lexer": "ipython3",
   "version": "3.9.5"
  },
  "papermill": {
   "default_parameters": {},
   "duration": 7.825636,
   "end_time": "2021-10-02T10:00:12.157585",
   "environment_variables": {},
   "exception": null,
   "input_path": "eBay_Overview.ipynb",
   "output_path": "eBay_Overview.ipynb",
   "parameters": {},
   "start_time": "2021-10-02T10:00:04.331949",
   "version": "2.3.3"
  }
 },
 "nbformat": 4,
 "nbformat_minor": 5
}