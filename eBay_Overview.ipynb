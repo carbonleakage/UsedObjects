{
 "cells": [
  {
   "cell_type": "code",
   "execution_count": 1,
   "id": "reverse-picking",
   "metadata": {
    "execution": {
     "iopub.execute_input": "2021-11-02T19:30:07.837385Z",
     "iopub.status.busy": "2021-11-02T19:30:07.834791Z",
     "iopub.status.idle": "2021-11-02T19:30:08.790336Z",
     "shell.execute_reply": "2021-11-02T19:30:08.791854Z"
    },
    "papermill": {
     "duration": 1.003793,
     "end_time": "2021-11-02T19:30:08.792610",
     "exception": false,
     "start_time": "2021-11-02T19:30:07.788817",
     "status": "completed"
    },
    "tags": []
   },
   "outputs": [],
   "source": [
    "import pandas as pd\n",
    "import sqlite3"
   ]
  },
  {
   "cell_type": "code",
   "execution_count": 2,
   "id": "innovative-syndrome",
   "metadata": {
    "execution": {
     "iopub.execute_input": "2021-11-02T19:30:08.855683Z",
     "iopub.status.busy": "2021-11-02T19:30:08.853502Z",
     "iopub.status.idle": "2021-11-02T19:30:09.576625Z",
     "shell.execute_reply": "2021-11-02T19:30:09.578098Z"
    },
    "papermill": {
     "duration": 0.756286,
     "end_time": "2021-11-02T19:30:09.578573",
     "exception": false,
     "start_time": "2021-11-02T19:30:08.822287",
     "status": "completed"
    },
    "tags": []
   },
   "outputs": [],
   "source": [
    "timestamps = pd.read_sql(\"select distinct record_time from EBAY_TOP_BERLIN order by record_time desc limit 2\", sqlite3.connect(\"UsedObjects.db\"))"
   ]
  },
  {
   "cell_type": "code",
   "execution_count": 3,
   "id": "periodic-identification",
   "metadata": {
    "execution": {
     "iopub.execute_input": "2021-11-02T19:30:09.646755Z",
     "iopub.status.busy": "2021-11-02T19:30:09.644385Z",
     "iopub.status.idle": "2021-11-02T19:30:09.666466Z",
     "shell.execute_reply": "2021-11-02T19:30:09.667917Z"
    },
    "papermill": {
     "duration": 0.070138,
     "end_time": "2021-11-02T19:30:09.668370",
     "exception": false,
     "start_time": "2021-11-02T19:30:09.598232",
     "status": "completed"
    },
    "tags": []
   },
   "outputs": [
    {
     "data": {
      "text/html": [
       "<div>\n",
       "<style scoped>\n",
       "    .dataframe tbody tr th:only-of-type {\n",
       "        vertical-align: middle;\n",
       "    }\n",
       "\n",
       "    .dataframe tbody tr th {\n",
       "        vertical-align: top;\n",
       "    }\n",
       "\n",
       "    .dataframe thead th {\n",
       "        text-align: right;\n",
       "    }\n",
       "</style>\n",
       "<table border=\"1\" class=\"dataframe\">\n",
       "  <thead>\n",
       "    <tr style=\"text-align: right;\">\n",
       "      <th></th>\n",
       "      <th>RECORD_TIME</th>\n",
       "    </tr>\n",
       "  </thead>\n",
       "  <tbody>\n",
       "    <tr>\n",
       "      <th>0</th>\n",
       "      <td>2021-11-02 20:30</td>\n",
       "    </tr>\n",
       "    <tr>\n",
       "      <th>1</th>\n",
       "      <td>2021-11-02 20:00</td>\n",
       "    </tr>\n",
       "  </tbody>\n",
       "</table>\n",
       "</div>"
      ],
      "text/plain": [
       "        RECORD_TIME\n",
       "0  2021-11-02 20:30\n",
       "1  2021-11-02 20:00"
      ]
     },
     "execution_count": 3,
     "metadata": {},
     "output_type": "execute_result"
    }
   ],
   "source": [
    "timestamps"
   ]
  },
  {
   "cell_type": "code",
   "execution_count": 4,
   "id": "alternate-victory",
   "metadata": {
    "execution": {
     "iopub.execute_input": "2021-11-02T19:30:09.723230Z",
     "iopub.status.busy": "2021-11-02T19:30:09.721057Z",
     "iopub.status.idle": "2021-11-02T19:30:10.748221Z",
     "shell.execute_reply": "2021-11-02T19:30:10.749944Z"
    },
    "papermill": {
     "duration": 1.061154,
     "end_time": "2021-11-02T19:30:10.750435",
     "exception": false,
     "start_time": "2021-11-02T19:30:09.689281",
     "status": "completed"
    },
    "tags": []
   },
   "outputs": [],
   "source": [
    "df = pd.read_sql(\"select * from EBAY_TOP_BERLIN where record_time in (select distinct record_time from EBAY_TOP_BERLIN order by record_time desc limit 2)\", sqlite3.connect(\"UsedObjects.db\"))"
   ]
  },
  {
   "cell_type": "code",
   "execution_count": 5,
   "id": "popular-active",
   "metadata": {
    "execution": {
     "iopub.execute_input": "2021-11-02T19:30:10.818021Z",
     "iopub.status.busy": "2021-11-02T19:30:10.815483Z",
     "iopub.status.idle": "2021-11-02T19:30:10.849176Z",
     "shell.execute_reply": "2021-11-02T19:30:10.850804Z"
    },
    "papermill": {
     "duration": 0.078451,
     "end_time": "2021-11-02T19:30:10.851315",
     "exception": false,
     "start_time": "2021-11-02T19:30:10.772864",
     "status": "completed"
    },
    "tags": []
   },
   "outputs": [],
   "source": [
    "df_pivot = df.pivot_table(index=\"PRODUCT\", columns = \"RECORD_TIME\", values = \"LISTING_COUNT\")"
   ]
  },
  {
   "cell_type": "code",
   "execution_count": 6,
   "id": "union-huntington",
   "metadata": {
    "execution": {
     "iopub.execute_input": "2021-11-02T19:30:10.913655Z",
     "iopub.status.busy": "2021-11-02T19:30:10.911126Z",
     "iopub.status.idle": "2021-11-02T19:30:10.917578Z",
     "shell.execute_reply": "2021-11-02T19:30:10.919136Z"
    },
    "papermill": {
     "duration": 0.046735,
     "end_time": "2021-11-02T19:30:10.919641",
     "exception": false,
     "start_time": "2021-11-02T19:30:10.872906",
     "status": "completed"
    },
    "tags": []
   },
   "outputs": [],
   "source": [
    "df_pivot.columns = [\"stamp_1\", \"stamp_2\"]\n",
    "df_pivot_diff = df_pivot.diff(axis=1)"
   ]
  },
  {
   "cell_type": "code",
   "execution_count": 7,
   "id": "fifth-motion",
   "metadata": {
    "execution": {
     "iopub.execute_input": "2021-11-02T19:30:10.987563Z",
     "iopub.status.busy": "2021-11-02T19:30:10.977362Z",
     "iopub.status.idle": "2021-11-02T19:30:12.776193Z",
     "shell.execute_reply": "2021-11-02T19:30:12.778579Z"
    },
    "papermill": {
     "duration": 1.83874,
     "end_time": "2021-11-02T19:30:12.779358",
     "exception": false,
     "start_time": "2021-11-02T19:30:10.940618",
     "status": "completed"
    },
    "tags": []
   },
   "outputs": [
    {
     "data": {
      "text/plain": [
       "<AxesSubplot:ylabel='PRODUCT'>"
      ]
     },
     "execution_count": 7,
     "metadata": {},
     "output_type": "execute_result"
    },
    {
     "data": {
      "image/png": "[encoded data removed]",
      "text/plain": [
       "<Figure size 432x288 with 1 Axes>"
      ]
     },
     "metadata": {
      "needs_background": "light"
     },
     "output_type": "display_data"
    }
   ],
   "source": [
    "df_pivot_diff.sort_values(\"stamp_2\", ascending = False)[\"stamp_2\"].head(10).plot.barh()"
   ]
  },
  {
   "cell_type": "code",
   "execution_count": null,
   "id": "extra-executive",
   "metadata": {
    "papermill": {
     "duration": 0.034322,
     "end_time": "2021-11-02T19:30:12.842047",
     "exception": false,
     "start_time": "2021-11-02T19:30:12.807725",
     "status": "completed"
    },
    "tags": []
   },
   "outputs": [],
   "source": []
  }
 ],
 "metadata": {
  "kernelspec": {
   "display_name": "Python 3",
   "language": "python",
   "name": "python3"
  },
  "language_info": {
   "codemirror_mode": {
    "name": "ipython",
    "version": 3
   },
   "file_extension": ".py",
   "mimetype": "text/x-python",
   "name": "python",
   "nbconvert_exporter": "python",
   "pygments_lexer": "ipython3",
   "version": "3.9.5"
  },
  "papermill": {
   "default_parameters": {},
   "duration": 8.650127,
   "end_time": "2021-11-02T19:30:13.708903",
   "environment_variables": {},
   "exception": null,
   "input_path": "eBay_Overview.ipynb",
   "output_path": "eBay_Overview.ipynb",
   "parameters": {},
   "start_time": "2021-11-02T19:30:05.058776",
   "version": "2.3.3"
  }
 },
 "nbformat": 4,
 "nbformat_minor": 5
}