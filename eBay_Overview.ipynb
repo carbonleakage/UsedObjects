{
 "cells": [
  {
   "cell_type": "code",
   "execution_count": 1,
   "id": "reverse-picking",
   "metadata": {
    "execution": {
     "iopub.execute_input": "2021-11-02T17:30:07.244429Z",
     "iopub.status.busy": "2021-11-02T17:30:07.231808Z",
     "iopub.status.idle": "2021-11-02T17:30:08.182278Z",
     "shell.execute_reply": "2021-11-02T17:30:08.183792Z"
    },
    "papermill": {
     "duration": 0.998493,
     "end_time": "2021-11-02T17:30:08.184557",
     "exception": false,
     "start_time": "2021-11-02T17:30:07.186064",
     "status": "completed"
    },
    "tags": []
   },
   "outputs": [],
   "source": [
    "import pandas as pd\n",
    "import sqlite3"
   ]
  },
  {
   "cell_type": "code",
   "execution_count": 2,
   "id": "innovative-syndrome",
   "metadata": {
    "execution": {
     "iopub.execute_input": "2021-11-02T17:30:08.246435Z",
     "iopub.status.busy": "2021-11-02T17:30:08.244157Z",
     "iopub.status.idle": "2021-11-02T17:30:08.966727Z",
     "shell.execute_reply": "2021-11-02T17:30:08.965203Z"
    },
    "papermill": {
     "duration": 0.754941,
     "end_time": "2021-11-02T17:30:08.967145",
     "exception": false,
     "start_time": "2021-11-02T17:30:08.212204",
     "status": "completed"
    },
    "tags": []
   },
   "outputs": [],
   "source": [
    "timestamps = pd.read_sql(\"select distinct record_time from EBAY_TOP_BERLIN order by record_time desc limit 2\", sqlite3.connect(\"UsedObjects.db\"))"
   ]
  },
  {
   "cell_type": "code",
   "execution_count": 3,
   "id": "periodic-identification",
   "metadata": {
    "execution": {
     "iopub.execute_input": "2021-11-02T17:30:09.041782Z",
     "iopub.status.busy": "2021-11-02T17:30:09.035706Z",
     "iopub.status.idle": "2021-11-02T17:30:09.058744Z",
     "shell.execute_reply": "2021-11-02T17:30:09.060167Z"
    },
    "papermill": {
     "duration": 0.07318,
     "end_time": "2021-11-02T17:30:09.060652",
     "exception": false,
     "start_time": "2021-11-02T17:30:08.987472",
     "status": "completed"
    },
    "tags": []
   },
   "outputs": [
    {
     "data": {
      "text/html": [
       "<div>\n",
       "<style scoped>\n",
       "    .dataframe tbody tr th:only-of-type {\n",
       "        vertical-align: middle;\n",
       "    }\n",
       "\n",
       "    .dataframe tbody tr th {\n",
       "        vertical-align: top;\n",
       "    }\n",
       "\n",
       "    .dataframe thead th {\n",
       "        text-align: right;\n",
       "    }\n",
       "</style>\n",
       "<table border=\"1\" class=\"dataframe\">\n",
       "  <thead>\n",
       "    <tr style=\"text-align: right;\">\n",
       "      <th></th>\n",
       "      <th>RECORD_TIME</th>\n",
       "    </tr>\n",
       "  </thead>\n",
       "  <tbody>\n",
       "    <tr>\n",
       "      <th>0</th>\n",
       "      <td>2021-11-02 18:30</td>\n",
       "    </tr>\n",
       "    <tr>\n",
       "      <th>1</th>\n",
       "      <td>2021-11-02 18:00</td>\n",
       "    </tr>\n",
       "  </tbody>\n",
       "</table>\n",
       "</div>"
      ],
      "text/plain": [
       "        RECORD_TIME\n",
       "0  2021-11-02 18:30\n",
       "1  2021-11-02 18:00"
      ]
     },
     "execution_count": 3,
     "metadata": {},
     "output_type": "execute_result"
    }
   ],
   "source": [
    "timestamps"
   ]
  },
  {
   "cell_type": "code",
   "execution_count": 4,
   "id": "alternate-victory",
   "metadata": {
    "execution": {
     "iopub.execute_input": "2021-11-02T17:30:09.116317Z",
     "iopub.status.busy": "2021-11-02T17:30:09.114204Z",
     "iopub.status.idle": "2021-11-02T17:30:10.147008Z",
     "shell.execute_reply": "2021-11-02T17:30:10.148519Z"
    },
    "papermill": {
     "duration": 1.065829,
     "end_time": "2021-11-02T17:30:10.149044",
     "exception": false,
     "start_time": "2021-11-02T17:30:09.083215",
     "status": "completed"
    },
    "tags": []
   },
   "outputs": [],
   "source": [
    "df = pd.read_sql(\"select * from EBAY_TOP_BERLIN where record_time in (select distinct record_time from EBAY_TOP_BERLIN order by record_time desc limit 2)\", sqlite3.connect(\"UsedObjects.db\"))"
   ]
  },
  {
   "cell_type": "code",
   "execution_count": 5,
   "id": "popular-active",
   "metadata": {
    "execution": {
     "iopub.execute_input": "2021-11-02T17:30:10.215860Z",
     "iopub.status.busy": "2021-11-02T17:30:10.213368Z",
     "iopub.status.idle": "2021-11-02T17:30:10.247034Z",
     "shell.execute_reply": "2021-11-02T17:30:10.249523Z"
    },
    "papermill": {
     "duration": 0.078714,
     "end_time": "2021-11-02T17:30:10.250079",
     "exception": false,
     "start_time": "2021-11-02T17:30:10.171365",
     "status": "completed"
    },
    "tags": []
   },
   "outputs": [],
   "source": [
    "df_pivot = df.pivot_table(index=\"PRODUCT\", columns = \"RECORD_TIME\", values = \"LISTING_COUNT\")"
   ]
  },
  {
   "cell_type": "code",
   "execution_count": 6,
   "id": "union-huntington",
   "metadata": {
    "execution": {
     "iopub.execute_input": "2021-11-02T17:30:10.311920Z",
     "iopub.status.busy": "2021-11-02T17:30:10.309599Z",
     "iopub.status.idle": "2021-11-02T17:30:10.314871Z",
     "shell.execute_reply": "2021-11-02T17:30:10.317083Z"
    },
    "papermill": {
     "duration": 0.046189,
     "end_time": "2021-11-02T17:30:10.317632",
     "exception": false,
     "start_time": "2021-11-02T17:30:10.271443",
     "status": "completed"
    },
    "tags": []
   },
   "outputs": [],
   "source": [
    "df_pivot.columns = [\"stamp_1\", \"stamp_2\"]\n",
    "df_pivot_diff = df_pivot.diff(axis=1)"
   ]
  },
  {
   "cell_type": "code",
   "execution_count": 7,
   "id": "fifth-motion",
   "metadata": {
    "execution": {
     "iopub.execute_input": "2021-11-02T17:30:10.378294Z",
     "iopub.status.busy": "2021-11-02T17:30:10.375703Z",
     "iopub.status.idle": "2021-11-02T17:30:12.150283Z",
     "shell.execute_reply": "2021-11-02T17:30:12.152429Z"
    },
    "papermill": {
     "duration": 1.814024,
     "end_time": "2021-11-02T17:30:12.153043",
     "exception": false,
     "start_time": "2021-11-02T17:30:10.339019",
     "status": "completed"
    },
    "tags": []
   },
   "outputs": [
    {
     "data": {
      "text/plain": [
       "<AxesSubplot:ylabel='PRODUCT'>"
      ]
     },
     "execution_count": 7,
     "metadata": {},
     "output_type": "execute_result"
    },
    {
     "data": {
      "image/png": "[encoded data removed]",
      "text/plain": [
       "<Figure size 432x288 with 1 Axes>"
      ]
     },
     "metadata": {
      "needs_background": "light"
     },
     "output_type": "display_data"
    }
   ],
   "source": [
    "df_pivot_diff.sort_values(\"stamp_2\", ascending = False)[\"stamp_2\"].head(10).plot.barh()"
   ]
  },
  {
   "cell_type": "code",
   "execution_count": null,
   "id": "extra-executive",
   "metadata": {
    "papermill": {
     "duration": 0.035606,
     "end_time": "2021-11-02T17:30:12.224170",
     "exception": false,
     "start_time": "2021-11-02T17:30:12.188564",
     "status": "completed"
    },
    "tags": []
   },
   "outputs": [],
   "source": []
  }
 ],
 "metadata": {
  "kernelspec": {
   "display_name": "Python 3",
   "language": "python",
   "name": "python3"
  },
  "language_info": {
   "codemirror_mode": {
    "name": "ipython",
    "version": 3
   },
   "file_extension": ".py",
   "mimetype": "text/x-python",
   "name": "python",
   "nbconvert_exporter": "python",
   "pygments_lexer": "ipython3",
   "version": "3.9.5"
  },
  "papermill": {
   "default_parameters": {},
   "duration": 8.704263,
   "end_time": "2021-11-02T17:30:13.092747",
   "environment_variables": {},
   "exception": null,
   "input_path": "eBay_Overview.ipynb",
   "output_path": "eBay_Overview.ipynb",
   "parameters": {},
   "start_time": "2021-11-02T17:30:04.388484",
   "version": "2.3.3"
  }
 },
 "nbformat": 4,
 "nbformat_minor": 5
}