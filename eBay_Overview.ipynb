{
 "cells": [
  {
   "cell_type": "code",
   "execution_count": 1,
   "id": "reverse-picking",
   "metadata": {
    "execution": {
     "iopub.execute_input": "2021-09-13T18:00:07.061003Z",
     "iopub.status.busy": "2021-09-13T18:00:07.059017Z",
     "iopub.status.idle": "2021-09-13T18:00:07.863908Z",
     "shell.execute_reply": "2021-09-13T18:00:07.865186Z"
    },
    "papermill": {
     "duration": 0.858607,
     "end_time": "2021-09-13T18:00:07.865804",
     "exception": false,
     "start_time": "2021-09-13T18:00:07.007197",
     "status": "completed"
    },
    "tags": []
   },
   "outputs": [],
   "source": [
    "import pandas as pd\n",
    "import sqlite3"
   ]
  },
  {
   "cell_type": "code",
   "execution_count": 2,
   "id": "innovative-syndrome",
   "metadata": {
    "execution": {
     "iopub.execute_input": "2021-09-13T18:00:07.915924Z",
     "iopub.status.busy": "2021-09-13T18:00:07.913953Z",
     "iopub.status.idle": "2021-09-13T18:00:08.188007Z",
     "shell.execute_reply": "2021-09-13T18:00:08.189239Z"
    },
    "papermill": {
     "duration": 0.303369,
     "end_time": "2021-09-13T18:00:08.189635",
     "exception": false,
     "start_time": "2021-09-13T18:00:07.886266",
     "status": "completed"
    },
    "tags": []
   },
   "outputs": [],
   "source": [
    "timestamps = pd.read_sql(\"select distinct record_time from EBAY_TOP_BERLIN order by record_time desc limit 2\", sqlite3.connect(\"UsedObjects.db\"))"
   ]
  },
  {
   "cell_type": "code",
   "execution_count": 3,
   "id": "periodic-identification",
   "metadata": {
    "execution": {
     "iopub.execute_input": "2021-09-13T18:00:08.257765Z",
     "iopub.status.busy": "2021-09-13T18:00:08.255739Z",
     "iopub.status.idle": "2021-09-13T18:00:08.277612Z",
     "shell.execute_reply": "2021-09-13T18:00:08.275716Z"
    },
    "papermill": {
     "duration": 0.066165,
     "end_time": "2021-09-13T18:00:08.278066",
     "exception": false,
     "start_time": "2021-09-13T18:00:08.211901",
     "status": "completed"
    },
    "tags": []
   },
   "outputs": [
    {
     "data": {
      "text/html": [
       "<div>\n",
       "<style scoped>\n",
       "    .dataframe tbody tr th:only-of-type {\n",
       "        vertical-align: middle;\n",
       "    }\n",
       "\n",
       "    .dataframe tbody tr th {\n",
       "        vertical-align: top;\n",
       "    }\n",
       "\n",
       "    .dataframe thead th {\n",
       "        text-align: right;\n",
       "    }\n",
       "</style>\n",
       "<table border=\"1\" class=\"dataframe\">\n",
       "  <thead>\n",
       "    <tr style=\"text-align: right;\">\n",
       "      <th></th>\n",
       "      <th>RECORD_TIME</th>\n",
       "    </tr>\n",
       "  </thead>\n",
       "  <tbody>\n",
       "    <tr>\n",
       "      <th>0</th>\n",
       "      <td>2021-09-13 20:00</td>\n",
       "    </tr>\n",
       "    <tr>\n",
       "      <th>1</th>\n",
       "      <td>2021-09-13 19:30</td>\n",
       "    </tr>\n",
       "  </tbody>\n",
       "</table>\n",
       "</div>"
      ],
      "text/plain": [
       "        RECORD_TIME\n",
       "0  2021-09-13 20:00\n",
       "1  2021-09-13 19:30"
      ]
     },
     "execution_count": 3,
     "metadata": {},
     "output_type": "execute_result"
    }
   ],
   "source": [
    "timestamps"
   ]
  },
  {
   "cell_type": "code",
   "execution_count": 4,
   "id": "alternate-victory",
   "metadata": {
    "execution": {
     "iopub.execute_input": "2021-09-13T18:00:08.331244Z",
     "iopub.status.busy": "2021-09-13T18:00:08.329212Z",
     "iopub.status.idle": "2021-09-13T18:00:08.744253Z",
     "shell.execute_reply": "2021-09-13T18:00:08.745555Z"
    },
    "papermill": {
     "duration": 0.445455,
     "end_time": "2021-09-13T18:00:08.745970",
     "exception": false,
     "start_time": "2021-09-13T18:00:08.300515",
     "status": "completed"
    },
    "tags": []
   },
   "outputs": [],
   "source": [
    "df = pd.read_sql(\"select * from EBAY_TOP_BERLIN where record_time in (select distinct record_time from EBAY_TOP_BERLIN order by record_time desc limit 2)\", sqlite3.connect(\"UsedObjects.db\"))"
   ]
  },
  {
   "cell_type": "code",
   "execution_count": 5,
   "id": "popular-active",
   "metadata": {
    "execution": {
     "iopub.execute_input": "2021-09-13T18:00:08.816480Z",
     "iopub.status.busy": "2021-09-13T18:00:08.804775Z",
     "iopub.status.idle": "2021-09-13T18:00:08.832167Z",
     "shell.execute_reply": "2021-09-13T18:00:08.833442Z"
    },
    "papermill": {
     "duration": 0.067702,
     "end_time": "2021-09-13T18:00:08.833843",
     "exception": false,
     "start_time": "2021-09-13T18:00:08.766141",
     "status": "completed"
    },
    "tags": []
   },
   "outputs": [],
   "source": [
    "df_pivot = df.pivot_table(index=\"PRODUCT\", columns = \"RECORD_TIME\", values = \"LISTING_COUNT\")"
   ]
  },
  {
   "cell_type": "code",
   "execution_count": 6,
   "id": "union-huntington",
   "metadata": {
    "execution": {
     "iopub.execute_input": "2021-09-13T18:00:08.889366Z",
     "iopub.status.busy": "2021-09-13T18:00:08.887191Z",
     "iopub.status.idle": "2021-09-13T18:00:08.892805Z",
     "shell.execute_reply": "2021-09-13T18:00:08.894178Z"
    },
    "papermill": {
     "duration": 0.0409,
     "end_time": "2021-09-13T18:00:08.894617",
     "exception": false,
     "start_time": "2021-09-13T18:00:08.853717",
     "status": "completed"
    },
    "tags": []
   },
   "outputs": [],
   "source": [
    "df_pivot.columns = [\"stamp_1\", \"stamp_2\"]\n",
    "df_pivot_diff = df_pivot.diff(axis=1)"
   ]
  },
  {
   "cell_type": "code",
   "execution_count": 7,
   "id": "fifth-motion",
   "metadata": {
    "execution": {
     "iopub.execute_input": "2021-09-13T18:00:08.951988Z",
     "iopub.status.busy": "2021-09-13T18:00:08.949272Z",
     "iopub.status.idle": "2021-09-13T18:00:10.421017Z",
     "shell.execute_reply": "2021-09-13T18:00:10.422432Z"
    },
    "papermill": {
     "duration": 1.505533,
     "end_time": "2021-09-13T18:00:10.422850",
     "exception": false,
     "start_time": "2021-09-13T18:00:08.917317",
     "status": "completed"
    },
    "tags": []
   },
   "outputs": [
    {
     "data": {
      "text/plain": [
       "<AxesSubplot:ylabel='PRODUCT'>"
      ]
     },
     "execution_count": 7,
     "metadata": {},
     "output_type": "execute_result"
    },
    {
     "data": {
      "image/png": "[encoded data removed]",
      "text/plain": [
       "<Figure size 432x288 with 1 Axes>"
      ]
     },
     "metadata": {
      "needs_background": "light"
     },
     "output_type": "display_data"
    }
   ],
   "source": [
    "df_pivot_diff.sort_values(\"stamp_2\", ascending = False)[\"stamp_2\"].head(10).plot.barh()"
   ]
  },
  {
   "cell_type": "code",
   "execution_count": null,
   "id": "extra-executive",
   "metadata": {
    "papermill": {
     "duration": 0.022146,
     "end_time": "2021-09-13T18:00:10.469796",
     "exception": false,
     "start_time": "2021-09-13T18:00:10.447650",
     "status": "completed"
    },
    "tags": []
   },
   "outputs": [],
   "source": []
  }
 ],
 "metadata": {
  "kernelspec": {
   "display_name": "Python 3",
   "language": "python",
   "name": "python3"
  },
  "language_info": {
   "codemirror_mode": {
    "name": "ipython",
    "version": 3
   },
   "file_extension": ".py",
   "mimetype": "text/x-python",
   "name": "python",
   "nbconvert_exporter": "python",
   "pygments_lexer": "ipython3",
   "version": "3.9.5"
  },
  "papermill": {
   "default_parameters": {},
   "duration": 6.512617,
   "end_time": "2021-09-13T18:00:11.112925",
   "environment_variables": {},
   "exception": null,
   "input_path": "eBay_Overview.ipynb",
   "output_path": "eBay_Overview.ipynb",
   "parameters": {},
   "start_time": "2021-09-13T18:00:04.600308",
   "version": "2.3.3"
  }
 },
 "nbformat": 4,
 "nbformat_minor": 5
}