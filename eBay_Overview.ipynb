{
 "cells": [
  {
   "cell_type": "code",
   "execution_count": 1,
   "id": "reverse-picking",
   "metadata": {
    "execution": {
     "iopub.execute_input": "2021-12-09T23:30:07.592577Z",
     "iopub.status.busy": "2021-12-09T23:30:07.590221Z",
     "iopub.status.idle": "2021-12-09T23:30:08.561950Z",
     "shell.execute_reply": "2021-12-09T23:30:08.559340Z"
    },
    "papermill": {
     "duration": 1.019713,
     "end_time": "2021-12-09T23:30:08.562445",
     "exception": false,
     "start_time": "2021-12-09T23:30:07.542732",
     "status": "completed"
    },
    "tags": []
   },
   "outputs": [],
   "source": [
    "import pandas as pd\n",
    "import sqlite3"
   ]
  },
  {
   "cell_type": "code",
   "execution_count": 2,
   "id": "innovative-syndrome",
   "metadata": {
    "execution": {
     "iopub.execute_input": "2021-12-09T23:30:08.619450Z",
     "iopub.status.busy": "2021-12-09T23:30:08.617285Z",
     "iopub.status.idle": "2021-12-09T23:30:09.658935Z",
     "shell.execute_reply": "2021-12-09T23:30:09.660294Z"
    },
    "papermill": {
     "duration": 1.075304,
     "end_time": "2021-12-09T23:30:09.660848",
     "exception": false,
     "start_time": "2021-12-09T23:30:08.585544",
     "status": "completed"
    },
    "tags": []
   },
   "outputs": [],
   "source": [
    "timestamps = pd.read_sql(\"select distinct record_time from EBAY_TOP_BERLIN order by record_time desc limit 2\", sqlite3.connect(\"UsedObjects.db\"))"
   ]
  },
  {
   "cell_type": "code",
   "execution_count": 3,
   "id": "periodic-identification",
   "metadata": {
    "execution": {
     "iopub.execute_input": "2021-12-09T23:30:09.732263Z",
     "iopub.status.busy": "2021-12-09T23:30:09.730045Z",
     "iopub.status.idle": "2021-12-09T23:30:09.763039Z",
     "shell.execute_reply": "2021-12-09T23:30:09.765743Z"
    },
    "papermill": {
     "duration": 0.086244,
     "end_time": "2021-12-09T23:30:09.766618",
     "exception": false,
     "start_time": "2021-12-09T23:30:09.680374",
     "status": "completed"
    },
    "tags": []
   },
   "outputs": [
    {
     "data": {
      "text/html": [
       "<div>\n",
       "<style scoped>\n",
       "    .dataframe tbody tr th:only-of-type {\n",
       "        vertical-align: middle;\n",
       "    }\n",
       "\n",
       "    .dataframe tbody tr th {\n",
       "        vertical-align: top;\n",
       "    }\n",
       "\n",
       "    .dataframe thead th {\n",
       "        text-align: right;\n",
       "    }\n",
       "</style>\n",
       "<table border=\"1\" class=\"dataframe\">\n",
       "  <thead>\n",
       "    <tr style=\"text-align: right;\">\n",
       "      <th></th>\n",
       "      <th>RECORD_TIME</th>\n",
       "    </tr>\n",
       "  </thead>\n",
       "  <tbody>\n",
       "    <tr>\n",
       "      <th>0</th>\n",
       "      <td>2021-12-10 00:30</td>\n",
       "    </tr>\n",
       "    <tr>\n",
       "      <th>1</th>\n",
       "      <td>2021-12-10 00:00</td>\n",
       "    </tr>\n",
       "  </tbody>\n",
       "</table>\n",
       "</div>"
      ],
      "text/plain": [
       "        RECORD_TIME\n",
       "0  2021-12-10 00:30\n",
       "1  2021-12-10 00:00"
      ]
     },
     "execution_count": 3,
     "metadata": {},
     "output_type": "execute_result"
    }
   ],
   "source": [
    "timestamps"
   ]
  },
  {
   "cell_type": "code",
   "execution_count": 4,
   "id": "alternate-victory",
   "metadata": {
    "execution": {
     "iopub.execute_input": "2021-12-09T23:30:09.842981Z",
     "iopub.status.busy": "2021-12-09T23:30:09.840294Z",
     "iopub.status.idle": "2021-12-09T23:30:11.377001Z",
     "shell.execute_reply": "2021-12-09T23:30:11.379816Z"
    },
    "papermill": {
     "duration": 1.580126,
     "end_time": "2021-12-09T23:30:11.380363",
     "exception": false,
     "start_time": "2021-12-09T23:30:09.800237",
     "status": "completed"
    },
    "tags": []
   },
   "outputs": [],
   "source": [
    "df = pd.read_sql(\"select * from EBAY_TOP_BERLIN where record_time in (select distinct record_time from EBAY_TOP_BERLIN order by record_time desc limit 2)\", sqlite3.connect(\"UsedObjects.db\"))"
   ]
  },
  {
   "cell_type": "code",
   "execution_count": 5,
   "id": "popular-active",
   "metadata": {
    "execution": {
     "iopub.execute_input": "2021-12-09T23:30:11.505357Z",
     "iopub.status.busy": "2021-12-09T23:30:11.476843Z",
     "iopub.status.idle": "2021-12-09T23:30:11.545027Z",
     "shell.execute_reply": "2021-12-09T23:30:11.548224Z"
    },
    "papermill": {
     "duration": 0.136749,
     "end_time": "2021-12-09T23:30:11.549113",
     "exception": false,
     "start_time": "2021-12-09T23:30:11.412364",
     "status": "completed"
    },
    "tags": []
   },
   "outputs": [],
   "source": [
    "df_pivot = df.pivot_table(index=\"PRODUCT\", columns = \"RECORD_TIME\", values = \"LISTING_COUNT\")"
   ]
  },
  {
   "cell_type": "code",
   "execution_count": 6,
   "id": "union-huntington",
   "metadata": {
    "execution": {
     "iopub.execute_input": "2021-12-09T23:30:11.634489Z",
     "iopub.status.busy": "2021-12-09T23:30:11.631789Z",
     "iopub.status.idle": "2021-12-09T23:30:11.641551Z",
     "shell.execute_reply": "2021-12-09T23:30:11.639136Z"
    },
    "papermill": {
     "duration": 0.060127,
     "end_time": "2021-12-09T23:30:11.642077",
     "exception": false,
     "start_time": "2021-12-09T23:30:11.581950",
     "status": "completed"
    },
    "tags": []
   },
   "outputs": [],
   "source": [
    "df_pivot.columns = [\"stamp_1\", \"stamp_2\"]\n",
    "df_pivot_diff = df_pivot.diff(axis=1)"
   ]
  },
  {
   "cell_type": "code",
   "execution_count": 7,
   "id": "fifth-motion",
   "metadata": {
    "execution": {
     "iopub.execute_input": "2021-12-09T23:30:11.732035Z",
     "iopub.status.busy": "2021-12-09T23:30:11.728810Z",
     "iopub.status.idle": "2021-12-09T23:30:13.494254Z",
     "shell.execute_reply": "2021-12-09T23:30:13.495618Z"
    },
    "papermill": {
     "duration": 1.822392,
     "end_time": "2021-12-09T23:30:13.496061",
     "exception": false,
     "start_time": "2021-12-09T23:30:11.673669",
     "status": "completed"
    },
    "tags": []
   },
   "outputs": [
    {
     "data": {
      "text/plain": [
       "<AxesSubplot:ylabel='PRODUCT'>"
      ]
     },
     "execution_count": 7,
     "metadata": {},
     "output_type": "execute_result"
    },
    {
     "data": {
      "image/png": "[encoded data removed]",
      "text/plain": [
       "<Figure size 432x288 with 1 Axes>"
      ]
     },
     "metadata": {
      "needs_background": "light"
     },
     "output_type": "display_data"
    }
   ],
   "source": [
    "df_pivot_diff.sort_values(\"stamp_2\", ascending = False)[\"stamp_2\"].head(10).plot.barh()"
   ]
  },
  {
   "cell_type": "code",
   "execution_count": null,
   "id": "extra-executive",
   "metadata": {
    "papermill": {
     "duration": 0.022265,
     "end_time": "2021-12-09T23:30:13.542808",
     "exception": false,
     "start_time": "2021-12-09T23:30:13.520543",
     "status": "completed"
    },
    "tags": []
   },
   "outputs": [],
   "source": []
  }
 ],
 "metadata": {
  "kernelspec": {
   "display_name": "Python 3",
   "language": "python",
   "name": "python3"
  },
  "language_info": {
   "codemirror_mode": {
    "name": "ipython",
    "version": 3
   },
   "file_extension": ".py",
   "mimetype": "text/x-python",
   "name": "python",
   "nbconvert_exporter": "python",
   "pygments_lexer": "ipython3",
   "version": "3.9.5"
  },
  "papermill": {
   "default_parameters": {},
   "duration": 9.949401,
   "end_time": "2021-12-09T23:30:14.723798",
   "environment_variables": {},
   "exception": null,
   "input_path": "eBay_Overview.ipynb",
   "output_path": "eBay_Overview.ipynb",
   "parameters": {},
   "start_time": "2021-12-09T23:30:04.774397",
   "version": "2.3.3"
  }
 },
 "nbformat": 4,
 "nbformat_minor": 5
}