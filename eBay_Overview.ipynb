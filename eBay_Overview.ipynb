{
 "cells": [
  {
   "cell_type": "code",
   "execution_count": 1,
   "id": "reverse-picking",
   "metadata": {
    "execution": {
     "iopub.execute_input": "2021-11-10T19:30:07.932878Z",
     "iopub.status.busy": "2021-11-10T19:30:07.930537Z",
     "iopub.status.idle": "2021-11-10T19:30:08.885938Z",
     "shell.execute_reply": "2021-11-10T19:30:08.888059Z"
    },
    "papermill": {
     "duration": 1.00582,
     "end_time": "2021-11-10T19:30:08.888914",
     "exception": false,
     "start_time": "2021-11-10T19:30:07.883094",
     "status": "completed"
    },
    "tags": []
   },
   "outputs": [],
   "source": [
    "import pandas as pd\n",
    "import sqlite3"
   ]
  },
  {
   "cell_type": "code",
   "execution_count": 2,
   "id": "innovative-syndrome",
   "metadata": {
    "execution": {
     "iopub.execute_input": "2021-11-10T19:30:08.946052Z",
     "iopub.status.busy": "2021-11-10T19:30:08.943557Z",
     "iopub.status.idle": "2021-11-10T19:30:09.737776Z",
     "shell.execute_reply": "2021-11-10T19:30:09.739197Z"
    },
    "papermill": {
     "duration": 0.827451,
     "end_time": "2021-11-10T19:30:09.739691",
     "exception": false,
     "start_time": "2021-11-10T19:30:08.912240",
     "status": "completed"
    },
    "tags": []
   },
   "outputs": [],
   "source": [
    "timestamps = pd.read_sql(\"select distinct record_time from EBAY_TOP_BERLIN order by record_time desc limit 2\", sqlite3.connect(\"UsedObjects.db\"))"
   ]
  },
  {
   "cell_type": "code",
   "execution_count": 3,
   "id": "periodic-identification",
   "metadata": {
    "execution": {
     "iopub.execute_input": "2021-11-10T19:30:09.813832Z",
     "iopub.status.busy": "2021-11-10T19:30:09.811434Z",
     "iopub.status.idle": "2021-11-10T19:30:09.835148Z",
     "shell.execute_reply": "2021-11-10T19:30:09.836867Z"
    },
    "papermill": {
     "duration": 0.077177,
     "end_time": "2021-11-10T19:30:09.837369",
     "exception": false,
     "start_time": "2021-11-10T19:30:09.760192",
     "status": "completed"
    },
    "tags": []
   },
   "outputs": [
    {
     "data": {
      "text/html": [
       "<div>\n",
       "<style scoped>\n",
       "    .dataframe tbody tr th:only-of-type {\n",
       "        vertical-align: middle;\n",
       "    }\n",
       "\n",
       "    .dataframe tbody tr th {\n",
       "        vertical-align: top;\n",
       "    }\n",
       "\n",
       "    .dataframe thead th {\n",
       "        text-align: right;\n",
       "    }\n",
       "</style>\n",
       "<table border=\"1\" class=\"dataframe\">\n",
       "  <thead>\n",
       "    <tr style=\"text-align: right;\">\n",
       "      <th></th>\n",
       "      <th>RECORD_TIME</th>\n",
       "    </tr>\n",
       "  </thead>\n",
       "  <tbody>\n",
       "    <tr>\n",
       "      <th>0</th>\n",
       "      <td>2021-11-10 20:30</td>\n",
       "    </tr>\n",
       "    <tr>\n",
       "      <th>1</th>\n",
       "      <td>2021-11-10 20:00</td>\n",
       "    </tr>\n",
       "  </tbody>\n",
       "</table>\n",
       "</div>"
      ],
      "text/plain": [
       "        RECORD_TIME\n",
       "0  2021-11-10 20:30\n",
       "1  2021-11-10 20:00"
      ]
     },
     "execution_count": 3,
     "metadata": {},
     "output_type": "execute_result"
    }
   ],
   "source": [
    "timestamps"
   ]
  },
  {
   "cell_type": "code",
   "execution_count": 4,
   "id": "alternate-victory",
   "metadata": {
    "execution": {
     "iopub.execute_input": "2021-11-10T19:30:09.893517Z",
     "iopub.status.busy": "2021-11-10T19:30:09.891278Z",
     "iopub.status.idle": "2021-11-10T19:30:11.038508Z",
     "shell.execute_reply": "2021-11-10T19:30:11.039974Z"
    },
    "papermill": {
     "duration": 1.18151,
     "end_time": "2021-11-10T19:30:11.040435",
     "exception": false,
     "start_time": "2021-11-10T19:30:09.858925",
     "status": "completed"
    },
    "tags": []
   },
   "outputs": [],
   "source": [
    "df = pd.read_sql(\"select * from EBAY_TOP_BERLIN where record_time in (select distinct record_time from EBAY_TOP_BERLIN order by record_time desc limit 2)\", sqlite3.connect(\"UsedObjects.db\"))"
   ]
  },
  {
   "cell_type": "code",
   "execution_count": 5,
   "id": "popular-active",
   "metadata": {
    "execution": {
     "iopub.execute_input": "2021-11-10T19:30:11.116167Z",
     "iopub.status.busy": "2021-11-10T19:30:11.101577Z",
     "iopub.status.idle": "2021-11-10T19:30:11.137445Z",
     "shell.execute_reply": "2021-11-10T19:30:11.140888Z"
    },
    "papermill": {
     "duration": 0.080097,
     "end_time": "2021-11-10T19:30:11.141671",
     "exception": false,
     "start_time": "2021-11-10T19:30:11.061574",
     "status": "completed"
    },
    "tags": []
   },
   "outputs": [],
   "source": [
    "df_pivot = df.pivot_table(index=\"PRODUCT\", columns = \"RECORD_TIME\", values = \"LISTING_COUNT\")"
   ]
  },
  {
   "cell_type": "code",
   "execution_count": 6,
   "id": "union-huntington",
   "metadata": {
    "execution": {
     "iopub.execute_input": "2021-11-10T19:30:11.229364Z",
     "iopub.status.busy": "2021-11-10T19:30:11.226579Z",
     "iopub.status.idle": "2021-11-10T19:30:11.237003Z",
     "shell.execute_reply": "2021-11-10T19:30:11.238475Z"
    },
    "papermill": {
     "duration": 0.072155,
     "end_time": "2021-11-10T19:30:11.238985",
     "exception": false,
     "start_time": "2021-11-10T19:30:11.166830",
     "status": "completed"
    },
    "tags": []
   },
   "outputs": [],
   "source": [
    "df_pivot.columns = [\"stamp_1\", \"stamp_2\"]\n",
    "df_pivot_diff = df_pivot.diff(axis=1)"
   ]
  },
  {
   "cell_type": "code",
   "execution_count": 7,
   "id": "fifth-motion",
   "metadata": {
    "execution": {
     "iopub.execute_input": "2021-11-10T19:30:11.307222Z",
     "iopub.status.busy": "2021-11-10T19:30:11.296467Z",
     "iopub.status.idle": "2021-11-10T19:30:13.101470Z",
     "shell.execute_reply": "2021-11-10T19:30:13.104047Z"
    },
    "papermill": {
     "duration": 1.843712,
     "end_time": "2021-11-10T19:30:13.104659",
     "exception": false,
     "start_time": "2021-11-10T19:30:11.260947",
     "status": "completed"
    },
    "tags": []
   },
   "outputs": [
    {
     "data": {
      "text/plain": [
       "<AxesSubplot:ylabel='PRODUCT'>"
      ]
     },
     "execution_count": 7,
     "metadata": {},
     "output_type": "execute_result"
    },
    {
     "data": {
      "image/png": "[encoded data removed]",
      "text/plain": [
       "<Figure size 432x288 with 1 Axes>"
      ]
     },
     "metadata": {
      "needs_background": "light"
     },
     "output_type": "display_data"
    }
   ],
   "source": [
    "df_pivot_diff.sort_values(\"stamp_2\", ascending = False)[\"stamp_2\"].head(10).plot.barh()"
   ]
  },
  {
   "cell_type": "code",
   "execution_count": null,
   "id": "extra-executive",
   "metadata": {
    "papermill": {
     "duration": 0.031754,
     "end_time": "2021-11-10T19:30:13.166635",
     "exception": false,
     "start_time": "2021-11-10T19:30:13.134881",
     "status": "completed"
    },
    "tags": []
   },
   "outputs": [],
   "source": []
  }
 ],
 "metadata": {
  "kernelspec": {
   "display_name": "Python 3",
   "language": "python",
   "name": "python3"
  },
  "language_info": {
   "codemirror_mode": {
    "name": "ipython",
    "version": 3
   },
   "file_extension": ".py",
   "mimetype": "text/x-python",
   "name": "python",
   "nbconvert_exporter": "python",
   "pygments_lexer": "ipython3",
   "version": "3.9.5"
  },
  "papermill": {
   "default_parameters": {},
   "duration": 8.882897,
   "end_time": "2021-11-10T19:30:14.049536",
   "environment_variables": {},
   "exception": null,
   "input_path": "eBay_Overview.ipynb",
   "output_path": "eBay_Overview.ipynb",
   "parameters": {},
   "start_time": "2021-11-10T19:30:05.166639",
   "version": "2.3.3"
  }
 },
 "nbformat": 4,
 "nbformat_minor": 5
}