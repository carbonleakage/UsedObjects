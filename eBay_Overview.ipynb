{
 "cells": [
  {
   "cell_type": "code",
   "execution_count": 1,
   "id": "reverse-picking",
   "metadata": {
    "execution": {
     "iopub.execute_input": "2021-10-31T06:30:07.066887Z",
     "iopub.status.busy": "2021-10-31T06:30:07.064811Z",
     "iopub.status.idle": "2021-10-31T06:30:07.869957Z",
     "shell.execute_reply": "2021-10-31T06:30:07.868271Z"
    },
    "papermill": {
     "duration": 0.854999,
     "end_time": "2021-10-31T06:30:07.870355",
     "exception": false,
     "start_time": "2021-10-31T06:30:07.015356",
     "status": "completed"
    },
    "tags": []
   },
   "outputs": [],
   "source": [
    "import pandas as pd\n",
    "import sqlite3"
   ]
  },
  {
   "cell_type": "code",
   "execution_count": 2,
   "id": "innovative-syndrome",
   "metadata": {
    "execution": {
     "iopub.execute_input": "2021-10-31T06:30:07.920850Z",
     "iopub.status.busy": "2021-10-31T06:30:07.918925Z",
     "iopub.status.idle": "2021-10-31T06:30:08.610714Z",
     "shell.execute_reply": "2021-10-31T06:30:08.611915Z"
    },
    "papermill": {
     "duration": 0.721292,
     "end_time": "2021-10-31T06:30:08.612314",
     "exception": false,
     "start_time": "2021-10-31T06:30:07.891022",
     "status": "completed"
    },
    "tags": []
   },
   "outputs": [],
   "source": [
    "timestamps = pd.read_sql(\"select distinct record_time from EBAY_TOP_BERLIN order by record_time desc limit 2\", sqlite3.connect(\"UsedObjects.db\"))"
   ]
  },
  {
   "cell_type": "code",
   "execution_count": 3,
   "id": "periodic-identification",
   "metadata": {
    "execution": {
     "iopub.execute_input": "2021-10-31T06:30:08.688040Z",
     "iopub.status.busy": "2021-10-31T06:30:08.686006Z",
     "iopub.status.idle": "2021-10-31T06:30:08.705862Z",
     "shell.execute_reply": "2021-10-31T06:30:08.707001Z"
    },
    "papermill": {
     "duration": 0.068407,
     "end_time": "2021-10-31T06:30:08.707416",
     "exception": false,
     "start_time": "2021-10-31T06:30:08.639009",
     "status": "completed"
    },
    "tags": []
   },
   "outputs": [
    {
     "data": {
      "text/html": [
       "<div>\n",
       "<style scoped>\n",
       "    .dataframe tbody tr th:only-of-type {\n",
       "        vertical-align: middle;\n",
       "    }\n",
       "\n",
       "    .dataframe tbody tr th {\n",
       "        vertical-align: top;\n",
       "    }\n",
       "\n",
       "    .dataframe thead th {\n",
       "        text-align: right;\n",
       "    }\n",
       "</style>\n",
       "<table border=\"1\" class=\"dataframe\">\n",
       "  <thead>\n",
       "    <tr style=\"text-align: right;\">\n",
       "      <th></th>\n",
       "      <th>RECORD_TIME</th>\n",
       "    </tr>\n",
       "  </thead>\n",
       "  <tbody>\n",
       "    <tr>\n",
       "      <th>0</th>\n",
       "      <td>2021-10-31 07:30</td>\n",
       "    </tr>\n",
       "    <tr>\n",
       "      <th>1</th>\n",
       "      <td>2021-10-31 07:00</td>\n",
       "    </tr>\n",
       "  </tbody>\n",
       "</table>\n",
       "</div>"
      ],
      "text/plain": [
       "        RECORD_TIME\n",
       "0  2021-10-31 07:30\n",
       "1  2021-10-31 07:00"
      ]
     },
     "execution_count": 3,
     "metadata": {},
     "output_type": "execute_result"
    }
   ],
   "source": [
    "timestamps"
   ]
  },
  {
   "cell_type": "code",
   "execution_count": 4,
   "id": "alternate-victory",
   "metadata": {
    "execution": {
     "iopub.execute_input": "2021-10-31T06:30:08.760991Z",
     "iopub.status.busy": "2021-10-31T06:30:08.758639Z",
     "iopub.status.idle": "2021-10-31T06:30:09.805965Z",
     "shell.execute_reply": "2021-10-31T06:30:09.807239Z"
    },
    "papermill": {
     "duration": 1.077608,
     "end_time": "2021-10-31T06:30:09.807636",
     "exception": false,
     "start_time": "2021-10-31T06:30:08.730028",
     "status": "completed"
    },
    "tags": []
   },
   "outputs": [],
   "source": [
    "df = pd.read_sql(\"select * from EBAY_TOP_BERLIN where record_time in (select distinct record_time from EBAY_TOP_BERLIN order by record_time desc limit 2)\", sqlite3.connect(\"UsedObjects.db\"))"
   ]
  },
  {
   "cell_type": "code",
   "execution_count": 5,
   "id": "popular-active",
   "metadata": {
    "execution": {
     "iopub.execute_input": "2021-10-31T06:30:09.876301Z",
     "iopub.status.busy": "2021-10-31T06:30:09.864879Z",
     "iopub.status.idle": "2021-10-31T06:30:09.892043Z",
     "shell.execute_reply": "2021-10-31T06:30:09.893476Z"
    },
    "papermill": {
     "duration": 0.06568,
     "end_time": "2021-10-31T06:30:09.893898",
     "exception": false,
     "start_time": "2021-10-31T06:30:09.828218",
     "status": "completed"
    },
    "tags": []
   },
   "outputs": [],
   "source": [
    "df_pivot = df.pivot_table(index=\"PRODUCT\", columns = \"RECORD_TIME\", values = \"LISTING_COUNT\")"
   ]
  },
  {
   "cell_type": "code",
   "execution_count": 6,
   "id": "union-huntington",
   "metadata": {
    "execution": {
     "iopub.execute_input": "2021-10-31T06:30:09.952517Z",
     "iopub.status.busy": "2021-10-31T06:30:09.950089Z",
     "iopub.status.idle": "2021-10-31T06:30:09.956082Z",
     "shell.execute_reply": "2021-10-31T06:30:09.957530Z"
    },
    "papermill": {
     "duration": 0.042607,
     "end_time": "2021-10-31T06:30:09.957977",
     "exception": false,
     "start_time": "2021-10-31T06:30:09.915370",
     "status": "completed"
    },
    "tags": []
   },
   "outputs": [],
   "source": [
    "df_pivot.columns = [\"stamp_1\", \"stamp_2\"]\n",
    "df_pivot_diff = df_pivot.diff(axis=1)"
   ]
  },
  {
   "cell_type": "code",
   "execution_count": 7,
   "id": "fifth-motion",
   "metadata": {
    "execution": {
     "iopub.execute_input": "2021-10-31T06:30:10.012823Z",
     "iopub.status.busy": "2021-10-31T06:30:10.010466Z",
     "iopub.status.idle": "2021-10-31T06:30:11.507335Z",
     "shell.execute_reply": "2021-10-31T06:30:11.508728Z"
    },
    "papermill": {
     "duration": 1.529721,
     "end_time": "2021-10-31T06:30:11.509176",
     "exception": false,
     "start_time": "2021-10-31T06:30:09.979455",
     "status": "completed"
    },
    "tags": []
   },
   "outputs": [
    {
     "data": {
      "text/plain": [
       "<AxesSubplot:ylabel='PRODUCT'>"
      ]
     },
     "execution_count": 7,
     "metadata": {},
     "output_type": "execute_result"
    },
    {
     "data": {
      "image/png": "[encoded data removed]",
      "text/plain": [
       "<Figure size 432x288 with 1 Axes>"
      ]
     },
     "metadata": {
      "needs_background": "light"
     },
     "output_type": "display_data"
    }
   ],
   "source": [
    "df_pivot_diff.sort_values(\"stamp_2\", ascending = False)[\"stamp_2\"].head(10).plot.barh()"
   ]
  },
  {
   "cell_type": "code",
   "execution_count": null,
   "id": "extra-executive",
   "metadata": {
    "papermill": {
     "duration": 0.022448,
     "end_time": "2021-10-31T06:30:11.556038",
     "exception": false,
     "start_time": "2021-10-31T06:30:11.533590",
     "status": "completed"
    },
    "tags": []
   },
   "outputs": [],
   "source": []
  }
 ],
 "metadata": {
  "kernelspec": {
   "display_name": "Python 3",
   "language": "python",
   "name": "python3"
  },
  "language_info": {
   "codemirror_mode": {
    "name": "ipython",
    "version": 3
   },
   "file_extension": ".py",
   "mimetype": "text/x-python",
   "name": "python",
   "nbconvert_exporter": "python",
   "pygments_lexer": "ipython3",
   "version": "3.9.5"
  },
  "papermill": {
   "default_parameters": {},
   "duration": 7.587421,
   "end_time": "2021-10-31T06:30:12.199627",
   "environment_variables": {},
   "exception": null,
   "input_path": "eBay_Overview.ipynb",
   "output_path": "eBay_Overview.ipynb",
   "parameters": {},
   "start_time": "2021-10-31T06:30:04.612206",
   "version": "2.3.3"
  }
 },
 "nbformat": 4,
 "nbformat_minor": 5
}