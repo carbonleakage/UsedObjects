{
 "cells": [
  {
   "cell_type": "code",
   "execution_count": 1,
   "id": "reverse-picking",
   "metadata": {
    "execution": {
     "iopub.execute_input": "2021-11-03T08:30:07.739591Z",
     "iopub.status.busy": "2021-11-03T08:30:07.737285Z",
     "iopub.status.idle": "2021-11-03T08:30:08.689576Z",
     "shell.execute_reply": "2021-11-03T08:30:08.691112Z"
    },
    "papermill": {
     "duration": 1.001684,
     "end_time": "2021-11-03T08:30:08.691822",
     "exception": false,
     "start_time": "2021-11-03T08:30:07.690138",
     "status": "completed"
    },
    "tags": []
   },
   "outputs": [],
   "source": [
    "import pandas as pd\n",
    "import sqlite3"
   ]
  },
  {
   "cell_type": "code",
   "execution_count": 2,
   "id": "innovative-syndrome",
   "metadata": {
    "execution": {
     "iopub.execute_input": "2021-11-03T08:30:08.754625Z",
     "iopub.status.busy": "2021-11-03T08:30:08.752309Z",
     "iopub.status.idle": "2021-11-03T08:30:09.472135Z",
     "shell.execute_reply": "2021-11-03T08:30:09.473785Z"
    },
    "papermill": {
     "duration": 0.755142,
     "end_time": "2021-11-03T08:30:09.474281",
     "exception": false,
     "start_time": "2021-11-03T08:30:08.719139",
     "status": "completed"
    },
    "tags": []
   },
   "outputs": [],
   "source": [
    "timestamps = pd.read_sql(\"select distinct record_time from EBAY_TOP_BERLIN order by record_time desc limit 2\", sqlite3.connect(\"UsedObjects.db\"))"
   ]
  },
  {
   "cell_type": "code",
   "execution_count": 3,
   "id": "periodic-identification",
   "metadata": {
    "execution": {
     "iopub.execute_input": "2021-11-03T08:30:09.546437Z",
     "iopub.status.busy": "2021-11-03T08:30:09.540587Z",
     "iopub.status.idle": "2021-11-03T08:30:09.564149Z",
     "shell.execute_reply": "2021-11-03T08:30:09.562395Z"
    },
    "papermill": {
     "duration": 0.070887,
     "end_time": "2021-11-03T08:30:09.564610",
     "exception": false,
     "start_time": "2021-11-03T08:30:09.493723",
     "status": "completed"
    },
    "tags": []
   },
   "outputs": [
    {
     "data": {
      "text/html": [
       "<div>\n",
       "<style scoped>\n",
       "    .dataframe tbody tr th:only-of-type {\n",
       "        vertical-align: middle;\n",
       "    }\n",
       "\n",
       "    .dataframe tbody tr th {\n",
       "        vertical-align: top;\n",
       "    }\n",
       "\n",
       "    .dataframe thead th {\n",
       "        text-align: right;\n",
       "    }\n",
       "</style>\n",
       "<table border=\"1\" class=\"dataframe\">\n",
       "  <thead>\n",
       "    <tr style=\"text-align: right;\">\n",
       "      <th></th>\n",
       "      <th>RECORD_TIME</th>\n",
       "    </tr>\n",
       "  </thead>\n",
       "  <tbody>\n",
       "    <tr>\n",
       "      <th>0</th>\n",
       "      <td>2021-11-03 09:30</td>\n",
       "    </tr>\n",
       "    <tr>\n",
       "      <th>1</th>\n",
       "      <td>2021-11-03 09:00</td>\n",
       "    </tr>\n",
       "  </tbody>\n",
       "</table>\n",
       "</div>"
      ],
      "text/plain": [
       "        RECORD_TIME\n",
       "0  2021-11-03 09:30\n",
       "1  2021-11-03 09:00"
      ]
     },
     "execution_count": 3,
     "metadata": {},
     "output_type": "execute_result"
    }
   ],
   "source": [
    "timestamps"
   ]
  },
  {
   "cell_type": "code",
   "execution_count": 4,
   "id": "alternate-victory",
   "metadata": {
    "execution": {
     "iopub.execute_input": "2021-11-03T08:30:09.619698Z",
     "iopub.status.busy": "2021-11-03T08:30:09.617545Z",
     "iopub.status.idle": "2021-11-03T08:30:10.669335Z",
     "shell.execute_reply": "2021-11-03T08:30:10.670747Z"
    },
    "papermill": {
     "duration": 1.085205,
     "end_time": "2021-11-03T08:30:10.671266",
     "exception": false,
     "start_time": "2021-11-03T08:30:09.586061",
     "status": "completed"
    },
    "tags": []
   },
   "outputs": [],
   "source": [
    "df = pd.read_sql(\"select * from EBAY_TOP_BERLIN where record_time in (select distinct record_time from EBAY_TOP_BERLIN order by record_time desc limit 2)\", sqlite3.connect(\"UsedObjects.db\"))"
   ]
  },
  {
   "cell_type": "code",
   "execution_count": 5,
   "id": "popular-active",
   "metadata": {
    "execution": {
     "iopub.execute_input": "2021-11-03T08:30:10.738821Z",
     "iopub.status.busy": "2021-11-03T08:30:10.736159Z",
     "iopub.status.idle": "2021-11-03T08:30:10.769930Z",
     "shell.execute_reply": "2021-11-03T08:30:10.771883Z"
    },
    "papermill": {
     "duration": 0.078456,
     "end_time": "2021-11-03T08:30:10.772398",
     "exception": false,
     "start_time": "2021-11-03T08:30:10.693942",
     "status": "completed"
    },
    "tags": []
   },
   "outputs": [],
   "source": [
    "df_pivot = df.pivot_table(index=\"PRODUCT\", columns = \"RECORD_TIME\", values = \"LISTING_COUNT\")"
   ]
  },
  {
   "cell_type": "code",
   "execution_count": 6,
   "id": "union-huntington",
   "metadata": {
    "execution": {
     "iopub.execute_input": "2021-11-03T08:30:10.835485Z",
     "iopub.status.busy": "2021-11-03T08:30:10.833103Z",
     "iopub.status.idle": "2021-11-03T08:30:10.840155Z",
     "shell.execute_reply": "2021-11-03T08:30:10.838460Z"
    },
    "papermill": {
     "duration": 0.046566,
     "end_time": "2021-11-03T08:30:10.840589",
     "exception": false,
     "start_time": "2021-11-03T08:30:10.794023",
     "status": "completed"
    },
    "tags": []
   },
   "outputs": [],
   "source": [
    "df_pivot.columns = [\"stamp_1\", \"stamp_2\"]\n",
    "df_pivot_diff = df_pivot.diff(axis=1)"
   ]
  },
  {
   "cell_type": "code",
   "execution_count": 7,
   "id": "fifth-motion",
   "metadata": {
    "execution": {
     "iopub.execute_input": "2021-11-03T08:30:10.905007Z",
     "iopub.status.busy": "2021-11-03T08:30:10.902657Z",
     "iopub.status.idle": "2021-11-03T08:30:12.774141Z",
     "shell.execute_reply": "2021-11-03T08:30:12.776667Z"
    },
    "papermill": {
     "duration": 1.915494,
     "end_time": "2021-11-03T08:30:12.777448",
     "exception": false,
     "start_time": "2021-11-03T08:30:10.861954",
     "status": "completed"
    },
    "tags": []
   },
   "outputs": [
    {
     "data": {
      "text/plain": [
       "<AxesSubplot:ylabel='PRODUCT'>"
      ]
     },
     "execution_count": 7,
     "metadata": {},
     "output_type": "execute_result"
    },
    {
     "data": {
      "image/png": "[encoded data removed]",
      "text/plain": [
       "<Figure size 432x288 with 1 Axes>"
      ]
     },
     "metadata": {
      "needs_background": "light"
     },
     "output_type": "display_data"
    }
   ],
   "source": [
    "df_pivot_diff.sort_values(\"stamp_2\", ascending = False)[\"stamp_2\"].head(10).plot.barh()"
   ]
  },
  {
   "cell_type": "code",
   "execution_count": null,
   "id": "extra-executive",
   "metadata": {
    "papermill": {
     "duration": 0.035589,
     "end_time": "2021-11-03T08:30:12.848498",
     "exception": false,
     "start_time": "2021-11-03T08:30:12.812909",
     "status": "completed"
    },
    "tags": []
   },
   "outputs": [],
   "source": []
  }
 ],
 "metadata": {
  "kernelspec": {
   "display_name": "Python 3",
   "language": "python",
   "name": "python3"
  },
  "language_info": {
   "codemirror_mode": {
    "name": "ipython",
    "version": 3
   },
   "file_extension": ".py",
   "mimetype": "text/x-python",
   "name": "python",
   "nbconvert_exporter": "python",
   "pygments_lexer": "ipython3",
   "version": "3.9.5"
  },
  "papermill": {
   "default_parameters": {},
   "duration": 8.721203,
   "end_time": "2021-11-03T08:30:13.703817",
   "environment_variables": {},
   "exception": null,
   "input_path": "eBay_Overview.ipynb",
   "output_path": "eBay_Overview.ipynb",
   "parameters": {},
   "start_time": "2021-11-03T08:30:04.982614",
   "version": "2.3.3"
  }
 },
 "nbformat": 4,
 "nbformat_minor": 5
}