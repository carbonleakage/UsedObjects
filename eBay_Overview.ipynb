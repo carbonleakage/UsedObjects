{
 "cells": [
  {
   "cell_type": "code",
   "execution_count": 1,
   "id": "reverse-picking",
   "metadata": {
    "execution": {
     "iopub.execute_input": "2021-10-28T19:30:06.882921Z",
     "iopub.status.busy": "2021-10-28T19:30:06.881001Z",
     "iopub.status.idle": "2021-10-28T19:30:07.685878Z",
     "shell.execute_reply": "2021-10-28T19:30:07.687120Z"
    },
    "papermill": {
     "duration": 0.858836,
     "end_time": "2021-10-28T19:30:07.687735",
     "exception": false,
     "start_time": "2021-10-28T19:30:06.828899",
     "status": "completed"
    },
    "tags": []
   },
   "outputs": [],
   "source": [
    "import pandas as pd\n",
    "import sqlite3"
   ]
  },
  {
   "cell_type": "code",
   "execution_count": 2,
   "id": "innovative-syndrome",
   "metadata": {
    "execution": {
     "iopub.execute_input": "2021-10-28T19:30:07.739099Z",
     "iopub.status.busy": "2021-10-28T19:30:07.737241Z",
     "iopub.status.idle": "2021-10-28T19:30:08.395283Z",
     "shell.execute_reply": "2021-10-28T19:30:08.396469Z"
    },
    "papermill": {
     "duration": 0.687588,
     "end_time": "2021-10-28T19:30:08.396936",
     "exception": false,
     "start_time": "2021-10-28T19:30:07.709348",
     "status": "completed"
    },
    "tags": []
   },
   "outputs": [],
   "source": [
    "timestamps = pd.read_sql(\"select distinct record_time from EBAY_TOP_BERLIN order by record_time desc limit 2\", sqlite3.connect(\"UsedObjects.db\"))"
   ]
  },
  {
   "cell_type": "code",
   "execution_count": 3,
   "id": "periodic-identification",
   "metadata": {
    "execution": {
     "iopub.execute_input": "2021-10-28T19:30:08.471769Z",
     "iopub.status.busy": "2021-10-28T19:30:08.469769Z",
     "iopub.status.idle": "2021-10-28T19:30:08.489631Z",
     "shell.execute_reply": "2021-10-28T19:30:08.490846Z"
    },
    "papermill": {
     "duration": 0.069598,
     "end_time": "2021-10-28T19:30:08.491237",
     "exception": false,
     "start_time": "2021-10-28T19:30:08.421639",
     "status": "completed"
    },
    "tags": []
   },
   "outputs": [
    {
     "data": {
      "text/html": [
       "<div>\n",
       "<style scoped>\n",
       "    .dataframe tbody tr th:only-of-type {\n",
       "        vertical-align: middle;\n",
       "    }\n",
       "\n",
       "    .dataframe tbody tr th {\n",
       "        vertical-align: top;\n",
       "    }\n",
       "\n",
       "    .dataframe thead th {\n",
       "        text-align: right;\n",
       "    }\n",
       "</style>\n",
       "<table border=\"1\" class=\"dataframe\">\n",
       "  <thead>\n",
       "    <tr style=\"text-align: right;\">\n",
       "      <th></th>\n",
       "      <th>RECORD_TIME</th>\n",
       "    </tr>\n",
       "  </thead>\n",
       "  <tbody>\n",
       "    <tr>\n",
       "      <th>0</th>\n",
       "      <td>2021-10-28 21:30</td>\n",
       "    </tr>\n",
       "    <tr>\n",
       "      <th>1</th>\n",
       "      <td>2021-10-28 21:00</td>\n",
       "    </tr>\n",
       "  </tbody>\n",
       "</table>\n",
       "</div>"
      ],
      "text/plain": [
       "        RECORD_TIME\n",
       "0  2021-10-28 21:30\n",
       "1  2021-10-28 21:00"
      ]
     },
     "execution_count": 3,
     "metadata": {},
     "output_type": "execute_result"
    }
   ],
   "source": [
    "timestamps"
   ]
  },
  {
   "cell_type": "code",
   "execution_count": 4,
   "id": "alternate-victory",
   "metadata": {
    "execution": {
     "iopub.execute_input": "2021-10-28T19:30:08.545639Z",
     "iopub.status.busy": "2021-10-28T19:30:08.543310Z",
     "iopub.status.idle": "2021-10-28T19:30:09.523051Z",
     "shell.execute_reply": "2021-10-28T19:30:09.524251Z"
    },
    "papermill": {
     "duration": 1.010025,
     "end_time": "2021-10-28T19:30:09.524647",
     "exception": false,
     "start_time": "2021-10-28T19:30:08.514622",
     "status": "completed"
    },
    "tags": []
   },
   "outputs": [],
   "source": [
    "df = pd.read_sql(\"select * from EBAY_TOP_BERLIN where record_time in (select distinct record_time from EBAY_TOP_BERLIN order by record_time desc limit 2)\", sqlite3.connect(\"UsedObjects.db\"))"
   ]
  },
  {
   "cell_type": "code",
   "execution_count": 5,
   "id": "popular-active",
   "metadata": {
    "execution": {
     "iopub.execute_input": "2021-10-28T19:30:09.585116Z",
     "iopub.status.busy": "2021-10-28T19:30:09.582903Z",
     "iopub.status.idle": "2021-10-28T19:30:09.610161Z",
     "shell.execute_reply": "2021-10-28T19:30:09.611377Z"
    },
    "papermill": {
     "duration": 0.066926,
     "end_time": "2021-10-28T19:30:09.611770",
     "exception": false,
     "start_time": "2021-10-28T19:30:09.544844",
     "status": "completed"
    },
    "tags": []
   },
   "outputs": [],
   "source": [
    "df_pivot = df.pivot_table(index=\"PRODUCT\", columns = \"RECORD_TIME\", values = \"LISTING_COUNT\")"
   ]
  },
  {
   "cell_type": "code",
   "execution_count": 6,
   "id": "union-huntington",
   "metadata": {
    "execution": {
     "iopub.execute_input": "2021-10-28T19:30:09.668769Z",
     "iopub.status.busy": "2021-10-28T19:30:09.666606Z",
     "iopub.status.idle": "2021-10-28T19:30:09.672211Z",
     "shell.execute_reply": "2021-10-28T19:30:09.673731Z"
    },
    "papermill": {
     "duration": 0.040985,
     "end_time": "2021-10-28T19:30:09.674205",
     "exception": false,
     "start_time": "2021-10-28T19:30:09.633220",
     "status": "completed"
    },
    "tags": []
   },
   "outputs": [],
   "source": [
    "df_pivot.columns = [\"stamp_1\", \"stamp_2\"]\n",
    "df_pivot_diff = df_pivot.diff(axis=1)"
   ]
  },
  {
   "cell_type": "code",
   "execution_count": 7,
   "id": "fifth-motion",
   "metadata": {
    "execution": {
     "iopub.execute_input": "2021-10-28T19:30:09.730714Z",
     "iopub.status.busy": "2021-10-28T19:30:09.728011Z",
     "iopub.status.idle": "2021-10-28T19:30:11.252143Z",
     "shell.execute_reply": "2021-10-28T19:30:11.253809Z"
    },
    "papermill": {
     "duration": 1.558407,
     "end_time": "2021-10-28T19:30:11.254309",
     "exception": false,
     "start_time": "2021-10-28T19:30:09.695902",
     "status": "completed"
    },
    "tags": []
   },
   "outputs": [
    {
     "data": {
      "text/plain": [
       "<AxesSubplot:ylabel='PRODUCT'>"
      ]
     },
     "execution_count": 7,
     "metadata": {},
     "output_type": "execute_result"
    },
    {
     "data": {
      "image/png": "[encoded data removed]",
      "text/plain": [
       "<Figure size 432x288 with 1 Axes>"
      ]
     },
     "metadata": {
      "needs_background": "light"
     },
     "output_type": "display_data"
    }
   ],
   "source": [
    "df_pivot_diff.sort_values(\"stamp_2\", ascending = False)[\"stamp_2\"].head(10).plot.barh()"
   ]
  },
  {
   "cell_type": "code",
   "execution_count": null,
   "id": "extra-executive",
   "metadata": {
    "papermill": {
     "duration": 0.022067,
     "end_time": "2021-10-28T19:30:11.301444",
     "exception": false,
     "start_time": "2021-10-28T19:30:11.279377",
     "status": "completed"
    },
    "tags": []
   },
   "outputs": [],
   "source": []
  }
 ],
 "metadata": {
  "kernelspec": {
   "display_name": "Python 3",
   "language": "python",
   "name": "python3"
  },
  "language_info": {
   "codemirror_mode": {
    "name": "ipython",
    "version": 3
   },
   "file_extension": ".py",
   "mimetype": "text/x-python",
   "name": "python",
   "nbconvert_exporter": "python",
   "pygments_lexer": "ipython3",
   "version": "3.9.5"
  },
  "papermill": {
   "default_parameters": {},
   "duration": 7.525894,
   "end_time": "2021-10-28T19:30:11.944964",
   "environment_variables": {},
   "exception": null,
   "input_path": "eBay_Overview.ipynb",
   "output_path": "eBay_Overview.ipynb",
   "parameters": {},
   "start_time": "2021-10-28T19:30:04.419070",
   "version": "2.3.3"
  }
 },
 "nbformat": 4,
 "nbformat_minor": 5
}