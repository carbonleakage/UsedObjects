{
 "cells": [
  {
   "cell_type": "code",
   "execution_count": 1,
   "id": "reverse-picking",
   "metadata": {
    "execution": {
     "iopub.execute_input": "2021-10-31T22:00:06.970833Z",
     "iopub.status.busy": "2021-10-31T22:00:06.968859Z",
     "iopub.status.idle": "2021-10-31T22:00:07.774254Z",
     "shell.execute_reply": "2021-10-31T22:00:07.775435Z"
    },
    "papermill": {
     "duration": 0.857353,
     "end_time": "2021-10-31T22:00:07.776051",
     "exception": false,
     "start_time": "2021-10-31T22:00:06.918698",
     "status": "completed"
    },
    "tags": []
   },
   "outputs": [],
   "source": [
    "import pandas as pd\n",
    "import sqlite3"
   ]
  },
  {
   "cell_type": "code",
   "execution_count": 2,
   "id": "innovative-syndrome",
   "metadata": {
    "execution": {
     "iopub.execute_input": "2021-10-31T22:00:07.827212Z",
     "iopub.status.busy": "2021-10-31T22:00:07.825351Z",
     "iopub.status.idle": "2021-10-31T22:00:08.531092Z",
     "shell.execute_reply": "2021-10-31T22:00:08.532486Z"
    },
    "papermill": {
     "duration": 0.735523,
     "end_time": "2021-10-31T22:00:08.532981",
     "exception": false,
     "start_time": "2021-10-31T22:00:07.797458",
     "status": "completed"
    },
    "tags": []
   },
   "outputs": [],
   "source": [
    "timestamps = pd.read_sql(\"select distinct record_time from EBAY_TOP_BERLIN order by record_time desc limit 2\", sqlite3.connect(\"UsedObjects.db\"))"
   ]
  },
  {
   "cell_type": "code",
   "execution_count": 3,
   "id": "periodic-identification",
   "metadata": {
    "execution": {
     "iopub.execute_input": "2021-10-31T22:00:08.599412Z",
     "iopub.status.busy": "2021-10-31T22:00:08.597395Z",
     "iopub.status.idle": "2021-10-31T22:00:08.619317Z",
     "shell.execute_reply": "2021-10-31T22:00:08.620536Z"
    },
    "papermill": {
     "duration": 0.068616,
     "end_time": "2021-10-31T22:00:08.621113",
     "exception": false,
     "start_time": "2021-10-31T22:00:08.552497",
     "status": "completed"
    },
    "tags": []
   },
   "outputs": [
    {
     "data": {
      "text/html": [
       "<div>\n",
       "<style scoped>\n",
       "    .dataframe tbody tr th:only-of-type {\n",
       "        vertical-align: middle;\n",
       "    }\n",
       "\n",
       "    .dataframe tbody tr th {\n",
       "        vertical-align: top;\n",
       "    }\n",
       "\n",
       "    .dataframe thead th {\n",
       "        text-align: right;\n",
       "    }\n",
       "</style>\n",
       "<table border=\"1\" class=\"dataframe\">\n",
       "  <thead>\n",
       "    <tr style=\"text-align: right;\">\n",
       "      <th></th>\n",
       "      <th>RECORD_TIME</th>\n",
       "    </tr>\n",
       "  </thead>\n",
       "  <tbody>\n",
       "    <tr>\n",
       "      <th>0</th>\n",
       "      <td>2021-10-31 23:00</td>\n",
       "    </tr>\n",
       "    <tr>\n",
       "      <th>1</th>\n",
       "      <td>2021-10-31 22:30</td>\n",
       "    </tr>\n",
       "  </tbody>\n",
       "</table>\n",
       "</div>"
      ],
      "text/plain": [
       "        RECORD_TIME\n",
       "0  2021-10-31 23:00\n",
       "1  2021-10-31 22:30"
      ]
     },
     "execution_count": 3,
     "metadata": {},
     "output_type": "execute_result"
    }
   ],
   "source": [
    "timestamps"
   ]
  },
  {
   "cell_type": "code",
   "execution_count": 4,
   "id": "alternate-victory",
   "metadata": {
    "execution": {
     "iopub.execute_input": "2021-10-31T22:00:08.672480Z",
     "iopub.status.busy": "2021-10-31T22:00:08.670195Z",
     "iopub.status.idle": "2021-10-31T22:00:09.722600Z",
     "shell.execute_reply": "2021-10-31T22:00:09.723815Z"
    },
    "papermill": {
     "duration": 1.082421,
     "end_time": "2021-10-31T22:00:09.724212",
     "exception": false,
     "start_time": "2021-10-31T22:00:08.641791",
     "status": "completed"
    },
    "tags": []
   },
   "outputs": [],
   "source": [
    "df = pd.read_sql(\"select * from EBAY_TOP_BERLIN where record_time in (select distinct record_time from EBAY_TOP_BERLIN order by record_time desc limit 2)\", sqlite3.connect(\"UsedObjects.db\"))"
   ]
  },
  {
   "cell_type": "code",
   "execution_count": 5,
   "id": "popular-active",
   "metadata": {
    "execution": {
     "iopub.execute_input": "2021-10-31T22:00:09.796447Z",
     "iopub.status.busy": "2021-10-31T22:00:09.784267Z",
     "iopub.status.idle": "2021-10-31T22:00:09.812125Z",
     "shell.execute_reply": "2021-10-31T22:00:09.813414Z"
    },
    "papermill": {
     "duration": 0.067677,
     "end_time": "2021-10-31T22:00:09.813816",
     "exception": false,
     "start_time": "2021-10-31T22:00:09.746139",
     "status": "completed"
    },
    "tags": []
   },
   "outputs": [],
   "source": [
    "df_pivot = df.pivot_table(index=\"PRODUCT\", columns = \"RECORD_TIME\", values = \"LISTING_COUNT\")"
   ]
  },
  {
   "cell_type": "code",
   "execution_count": 6,
   "id": "union-huntington",
   "metadata": {
    "execution": {
     "iopub.execute_input": "2021-10-31T22:00:09.871196Z",
     "iopub.status.busy": "2021-10-31T22:00:09.869025Z",
     "iopub.status.idle": "2021-10-31T22:00:09.874542Z",
     "shell.execute_reply": "2021-10-31T22:00:09.875913Z"
    },
    "papermill": {
     "duration": 0.040457,
     "end_time": "2021-10-31T22:00:09.876351",
     "exception": false,
     "start_time": "2021-10-31T22:00:09.835894",
     "status": "completed"
    },
    "tags": []
   },
   "outputs": [],
   "source": [
    "df_pivot.columns = [\"stamp_1\", \"stamp_2\"]\n",
    "df_pivot_diff = df_pivot.diff(axis=1)"
   ]
  },
  {
   "cell_type": "code",
   "execution_count": 7,
   "id": "fifth-motion",
   "metadata": {
    "execution": {
     "iopub.execute_input": "2021-10-31T22:00:09.933480Z",
     "iopub.status.busy": "2021-10-31T22:00:09.930727Z",
     "iopub.status.idle": "2021-10-31T22:00:11.428547Z",
     "shell.execute_reply": "2021-10-31T22:00:11.430069Z"
    },
    "papermill": {
     "duration": 1.531467,
     "end_time": "2021-10-31T22:00:11.430519",
     "exception": false,
     "start_time": "2021-10-31T22:00:09.899052",
     "status": "completed"
    },
    "tags": []
   },
   "outputs": [
    {
     "data": {
      "text/plain": [
       "<AxesSubplot:ylabel='PRODUCT'>"
      ]
     },
     "execution_count": 7,
     "metadata": {},
     "output_type": "execute_result"
    },
    {
     "data": {
      "image/png": "[encoded data removed]",
      "text/plain": [
       "<Figure size 432x288 with 1 Axes>"
      ]
     },
     "metadata": {
      "needs_background": "light"
     },
     "output_type": "display_data"
    }
   ],
   "source": [
    "df_pivot_diff.sort_values(\"stamp_2\", ascending = False)[\"stamp_2\"].head(10).plot.barh()"
   ]
  },
  {
   "cell_type": "code",
   "execution_count": null,
   "id": "extra-executive",
   "metadata": {
    "papermill": {
     "duration": 0.021979,
     "end_time": "2021-10-31T22:00:11.476976",
     "exception": false,
     "start_time": "2021-10-31T22:00:11.454997",
     "status": "completed"
    },
    "tags": []
   },
   "outputs": [],
   "source": []
  }
 ],
 "metadata": {
  "kernelspec": {
   "display_name": "Python 3",
   "language": "python",
   "name": "python3"
  },
  "language_info": {
   "codemirror_mode": {
    "name": "ipython",
    "version": 3
   },
   "file_extension": ".py",
   "mimetype": "text/x-python",
   "name": "python",
   "nbconvert_exporter": "python",
   "pygments_lexer": "ipython3",
   "version": "3.9.5"
  },
  "papermill": {
   "default_parameters": {},
   "duration": 7.761882,
   "end_time": "2021-10-31T22:00:12.120931",
   "environment_variables": {},
   "exception": null,
   "input_path": "eBay_Overview.ipynb",
   "output_path": "eBay_Overview.ipynb",
   "parameters": {},
   "start_time": "2021-10-31T22:00:04.359049",
   "version": "2.3.3"
  }
 },
 "nbformat": 4,
 "nbformat_minor": 5
}