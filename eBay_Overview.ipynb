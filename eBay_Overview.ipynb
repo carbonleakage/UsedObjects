{
 "cells": [
  {
   "cell_type": "code",
   "execution_count": 1,
   "id": "reverse-picking",
   "metadata": {
    "execution": {
     "iopub.execute_input": "2021-09-12T07:30:07.017564Z",
     "iopub.status.busy": "2021-09-12T07:30:07.015612Z",
     "iopub.status.idle": "2021-09-12T07:30:07.829789Z",
     "shell.execute_reply": "2021-09-12T07:30:07.828020Z"
    },
    "papermill": {
     "duration": 0.864915,
     "end_time": "2021-09-12T07:30:07.830232",
     "exception": false,
     "start_time": "2021-09-12T07:30:06.965317",
     "status": "completed"
    },
    "tags": []
   },
   "outputs": [],
   "source": [
    "import pandas as pd\n",
    "import sqlite3"
   ]
  },
  {
   "cell_type": "code",
   "execution_count": 2,
   "id": "innovative-syndrome",
   "metadata": {
    "execution": {
     "iopub.execute_input": "2021-09-12T07:30:07.881802Z",
     "iopub.status.busy": "2021-09-12T07:30:07.879762Z",
     "iopub.status.idle": "2021-09-12T07:30:08.144484Z",
     "shell.execute_reply": "2021-09-12T07:30:08.145602Z"
    },
    "papermill": {
     "duration": 0.295035,
     "end_time": "2021-09-12T07:30:08.146014",
     "exception": false,
     "start_time": "2021-09-12T07:30:07.850979",
     "status": "completed"
    },
    "tags": []
   },
   "outputs": [],
   "source": [
    "timestamps = pd.read_sql(\"select distinct record_time from EBAY_TOP_BERLIN order by record_time desc limit 2\", sqlite3.connect(\"UsedObjects.db\"))"
   ]
  },
  {
   "cell_type": "code",
   "execution_count": 3,
   "id": "periodic-identification",
   "metadata": {
    "execution": {
     "iopub.execute_input": "2021-09-12T07:30:08.212683Z",
     "iopub.status.busy": "2021-09-12T07:30:08.210482Z",
     "iopub.status.idle": "2021-09-12T07:30:08.230928Z",
     "shell.execute_reply": "2021-09-12T07:30:08.232449Z"
    },
    "papermill": {
     "duration": 0.065636,
     "end_time": "2021-09-12T07:30:08.232911",
     "exception": false,
     "start_time": "2021-09-12T07:30:08.167275",
     "status": "completed"
    },
    "tags": []
   },
   "outputs": [
    {
     "data": {
      "text/html": [
       "<div>\n",
       "<style scoped>\n",
       "    .dataframe tbody tr th:only-of-type {\n",
       "        vertical-align: middle;\n",
       "    }\n",
       "\n",
       "    .dataframe tbody tr th {\n",
       "        vertical-align: top;\n",
       "    }\n",
       "\n",
       "    .dataframe thead th {\n",
       "        text-align: right;\n",
       "    }\n",
       "</style>\n",
       "<table border=\"1\" class=\"dataframe\">\n",
       "  <thead>\n",
       "    <tr style=\"text-align: right;\">\n",
       "      <th></th>\n",
       "      <th>RECORD_TIME</th>\n",
       "    </tr>\n",
       "  </thead>\n",
       "  <tbody>\n",
       "    <tr>\n",
       "      <th>0</th>\n",
       "      <td>2021-09-12 09:30</td>\n",
       "    </tr>\n",
       "    <tr>\n",
       "      <th>1</th>\n",
       "      <td>2021-09-12 09:00</td>\n",
       "    </tr>\n",
       "  </tbody>\n",
       "</table>\n",
       "</div>"
      ],
      "text/plain": [
       "        RECORD_TIME\n",
       "0  2021-09-12 09:30\n",
       "1  2021-09-12 09:00"
      ]
     },
     "execution_count": 3,
     "metadata": {},
     "output_type": "execute_result"
    }
   ],
   "source": [
    "timestamps"
   ]
  },
  {
   "cell_type": "code",
   "execution_count": 4,
   "id": "alternate-victory",
   "metadata": {
    "execution": {
     "iopub.execute_input": "2021-09-12T07:30:08.285662Z",
     "iopub.status.busy": "2021-09-12T07:30:08.283661Z",
     "iopub.status.idle": "2021-09-12T07:30:08.682336Z",
     "shell.execute_reply": "2021-09-12T07:30:08.683675Z"
    },
    "papermill": {
     "duration": 0.429562,
     "end_time": "2021-09-12T07:30:08.684095",
     "exception": false,
     "start_time": "2021-09-12T07:30:08.254533",
     "status": "completed"
    },
    "tags": []
   },
   "outputs": [],
   "source": [
    "df = pd.read_sql(\"select * from EBAY_TOP_BERLIN where record_time in (select distinct record_time from EBAY_TOP_BERLIN order by record_time desc limit 2)\", sqlite3.connect(\"UsedObjects.db\"))"
   ]
  },
  {
   "cell_type": "code",
   "execution_count": 5,
   "id": "popular-active",
   "metadata": {
    "execution": {
     "iopub.execute_input": "2021-09-12T07:30:08.765003Z",
     "iopub.status.busy": "2021-09-12T07:30:08.753402Z",
     "iopub.status.idle": "2021-09-12T07:30:08.782026Z",
     "shell.execute_reply": "2021-09-12T07:30:08.783384Z"
    },
    "papermill": {
     "duration": 0.071652,
     "end_time": "2021-09-12T07:30:08.783816",
     "exception": false,
     "start_time": "2021-09-12T07:30:08.712164",
     "status": "completed"
    },
    "tags": []
   },
   "outputs": [],
   "source": [
    "df_pivot = df.pivot_table(index=\"PRODUCT\", columns = \"RECORD_TIME\", values = \"LISTING_COUNT\")"
   ]
  },
  {
   "cell_type": "code",
   "execution_count": 6,
   "id": "union-huntington",
   "metadata": {
    "execution": {
     "iopub.execute_input": "2021-09-12T07:30:08.842463Z",
     "iopub.status.busy": "2021-09-12T07:30:08.840418Z",
     "iopub.status.idle": "2021-09-12T07:30:08.845703Z",
     "shell.execute_reply": "2021-09-12T07:30:08.847193Z"
    },
    "papermill": {
     "duration": 0.043518,
     "end_time": "2021-09-12T07:30:08.847665",
     "exception": false,
     "start_time": "2021-09-12T07:30:08.804147",
     "status": "completed"
    },
    "tags": []
   },
   "outputs": [],
   "source": [
    "df_pivot.columns = [\"stamp_1\", \"stamp_2\"]\n",
    "df_pivot_diff = df_pivot.diff(axis=1)"
   ]
  },
  {
   "cell_type": "code",
   "execution_count": 7,
   "id": "fifth-motion",
   "metadata": {
    "execution": {
     "iopub.execute_input": "2021-09-12T07:30:08.903747Z",
     "iopub.status.busy": "2021-09-12T07:30:08.901021Z",
     "iopub.status.idle": "2021-09-12T07:30:10.404866Z",
     "shell.execute_reply": "2021-09-12T07:30:10.406145Z"
    },
    "papermill": {
     "duration": 1.537672,
     "end_time": "2021-09-12T07:30:10.406560",
     "exception": false,
     "start_time": "2021-09-12T07:30:08.868888",
     "status": "completed"
    },
    "tags": []
   },
   "outputs": [
    {
     "data": {
      "text/plain": [
       "<AxesSubplot:ylabel='PRODUCT'>"
      ]
     },
     "execution_count": 7,
     "metadata": {},
     "output_type": "execute_result"
    },
    {
     "data": {
      "image/png": "[encoded data removed]",
      "text/plain": [
       "<Figure size 432x288 with 1 Axes>"
      ]
     },
     "metadata": {
      "needs_background": "light"
     },
     "output_type": "display_data"
    }
   ],
   "source": [
    "df_pivot_diff.sort_values(\"stamp_2\", ascending = False)[\"stamp_2\"].head(10).plot.barh()"
   ]
  },
  {
   "cell_type": "code",
   "execution_count": null,
   "id": "extra-executive",
   "metadata": {
    "papermill": {
     "duration": 0.022252,
     "end_time": "2021-09-12T07:30:10.453409",
     "exception": false,
     "start_time": "2021-09-12T07:30:10.431157",
     "status": "completed"
    },
    "tags": []
   },
   "outputs": [],
   "source": []
  }
 ],
 "metadata": {
  "kernelspec": {
   "display_name": "Python 3",
   "language": "python",
   "name": "python3"
  },
  "language_info": {
   "codemirror_mode": {
    "name": "ipython",
    "version": 3
   },
   "file_extension": ".py",
   "mimetype": "text/x-python",
   "name": "python",
   "nbconvert_exporter": "python",
   "pygments_lexer": "ipython3",
   "version": "3.9.5"
  },
  "papermill": {
   "default_parameters": {},
   "duration": 6.541897,
   "end_time": "2021-09-12T07:30:11.092835",
   "environment_variables": {},
   "exception": null,
   "input_path": "eBay_Overview.ipynb",
   "output_path": "eBay_Overview.ipynb",
   "parameters": {},
   "start_time": "2021-09-12T07:30:04.550938",
   "version": "2.3.3"
  }
 },
 "nbformat": 4,
 "nbformat_minor": 5
}