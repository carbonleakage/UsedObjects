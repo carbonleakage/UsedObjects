{
 "cells": [
  {
   "cell_type": "code",
   "execution_count": 1,
   "id": "reverse-picking",
   "metadata": {
    "execution": {
     "iopub.execute_input": "2021-12-18T18:30:07.441081Z",
     "iopub.status.busy": "2021-12-18T18:30:07.438676Z",
     "iopub.status.idle": "2021-12-18T18:30:08.393865Z",
     "shell.execute_reply": "2021-12-18T18:30:08.395487Z"
    },
    "papermill": {
     "duration": 1.005202,
     "end_time": "2021-12-18T18:30:08.396218",
     "exception": false,
     "start_time": "2021-12-18T18:30:07.391016",
     "status": "completed"
    },
    "tags": []
   },
   "outputs": [],
   "source": [
    "import pandas as pd\n",
    "import sqlite3"
   ]
  },
  {
   "cell_type": "code",
   "execution_count": 2,
   "id": "innovative-syndrome",
   "metadata": {
    "execution": {
     "iopub.execute_input": "2021-12-18T18:30:08.459206Z",
     "iopub.status.busy": "2021-12-18T18:30:08.456890Z",
     "iopub.status.idle": "2021-12-18T18:30:09.561108Z",
     "shell.execute_reply": "2021-12-18T18:30:09.562402Z"
    },
    "papermill": {
     "duration": 1.137967,
     "end_time": "2021-12-18T18:30:09.562828",
     "exception": false,
     "start_time": "2021-12-18T18:30:08.424861",
     "status": "completed"
    },
    "tags": []
   },
   "outputs": [],
   "source": [
    "timestamps = pd.read_sql(\"select distinct record_time from EBAY_TOP_BERLIN order by record_time desc limit 2\", sqlite3.connect(\"UsedObjects.db\"))"
   ]
  },
  {
   "cell_type": "code",
   "execution_count": 3,
   "id": "periodic-identification",
   "metadata": {
    "execution": {
     "iopub.execute_input": "2021-12-18T18:30:09.629509Z",
     "iopub.status.busy": "2021-12-18T18:30:09.627223Z",
     "iopub.status.idle": "2021-12-18T18:30:09.649583Z",
     "shell.execute_reply": "2021-12-18T18:30:09.650950Z"
    },
    "papermill": {
     "duration": 0.069057,
     "end_time": "2021-12-18T18:30:09.651434",
     "exception": false,
     "start_time": "2021-12-18T18:30:09.582377",
     "status": "completed"
    },
    "tags": []
   },
   "outputs": [
    {
     "data": {
      "text/html": [
       "<div>\n",
       "<style scoped>\n",
       "    .dataframe tbody tr th:only-of-type {\n",
       "        vertical-align: middle;\n",
       "    }\n",
       "\n",
       "    .dataframe tbody tr th {\n",
       "        vertical-align: top;\n",
       "    }\n",
       "\n",
       "    .dataframe thead th {\n",
       "        text-align: right;\n",
       "    }\n",
       "</style>\n",
       "<table border=\"1\" class=\"dataframe\">\n",
       "  <thead>\n",
       "    <tr style=\"text-align: right;\">\n",
       "      <th></th>\n",
       "      <th>RECORD_TIME</th>\n",
       "    </tr>\n",
       "  </thead>\n",
       "  <tbody>\n",
       "    <tr>\n",
       "      <th>0</th>\n",
       "      <td>2021-12-18 19:30</td>\n",
       "    </tr>\n",
       "    <tr>\n",
       "      <th>1</th>\n",
       "      <td>2021-12-18 19:00</td>\n",
       "    </tr>\n",
       "  </tbody>\n",
       "</table>\n",
       "</div>"
      ],
      "text/plain": [
       "        RECORD_TIME\n",
       "0  2021-12-18 19:30\n",
       "1  2021-12-18 19:00"
      ]
     },
     "execution_count": 3,
     "metadata": {},
     "output_type": "execute_result"
    }
   ],
   "source": [
    "timestamps"
   ]
  },
  {
   "cell_type": "code",
   "execution_count": 4,
   "id": "alternate-victory",
   "metadata": {
    "execution": {
     "iopub.execute_input": "2021-12-18T18:30:09.706124Z",
     "iopub.status.busy": "2021-12-18T18:30:09.703922Z",
     "iopub.status.idle": "2021-12-18T18:30:11.339548Z",
     "shell.execute_reply": "2021-12-18T18:30:11.341693Z"
    },
    "papermill": {
     "duration": 1.670695,
     "end_time": "2021-12-18T18:30:11.342172",
     "exception": false,
     "start_time": "2021-12-18T18:30:09.671477",
     "status": "completed"
    },
    "tags": []
   },
   "outputs": [],
   "source": [
    "df = pd.read_sql(\"select * from EBAY_TOP_BERLIN where record_time in (select distinct record_time from EBAY_TOP_BERLIN order by record_time desc limit 2)\", sqlite3.connect(\"UsedObjects.db\"))"
   ]
  },
  {
   "cell_type": "code",
   "execution_count": 5,
   "id": "popular-active",
   "metadata": {
    "execution": {
     "iopub.execute_input": "2021-12-18T18:30:11.409506Z",
     "iopub.status.busy": "2021-12-18T18:30:11.406799Z",
     "iopub.status.idle": "2021-12-18T18:30:11.439008Z",
     "shell.execute_reply": "2021-12-18T18:30:11.440357Z"
    },
    "papermill": {
     "duration": 0.078154,
     "end_time": "2021-12-18T18:30:11.440886",
     "exception": false,
     "start_time": "2021-12-18T18:30:11.362732",
     "status": "completed"
    },
    "tags": []
   },
   "outputs": [],
   "source": [
    "df_pivot = df.pivot_table(index=\"PRODUCT\", columns = \"RECORD_TIME\", values = \"LISTING_COUNT\")"
   ]
  },
  {
   "cell_type": "code",
   "execution_count": 6,
   "id": "union-huntington",
   "metadata": {
    "execution": {
     "iopub.execute_input": "2021-12-18T18:30:11.499490Z",
     "iopub.status.busy": "2021-12-18T18:30:11.497256Z",
     "iopub.status.idle": "2021-12-18T18:30:11.504002Z",
     "shell.execute_reply": "2021-12-18T18:30:11.502438Z"
    },
    "papermill": {
     "duration": 0.043774,
     "end_time": "2021-12-18T18:30:11.504405",
     "exception": false,
     "start_time": "2021-12-18T18:30:11.460631",
     "status": "completed"
    },
    "tags": []
   },
   "outputs": [],
   "source": [
    "df_pivot.columns = [\"stamp_1\", \"stamp_2\"]\n",
    "df_pivot_diff = df_pivot.diff(axis=1)"
   ]
  },
  {
   "cell_type": "code",
   "execution_count": 7,
   "id": "fifth-motion",
   "metadata": {
    "execution": {
     "iopub.execute_input": "2021-12-18T18:30:11.564885Z",
     "iopub.status.busy": "2021-12-18T18:30:11.561487Z",
     "iopub.status.idle": "2021-12-18T18:30:13.533549Z",
     "shell.execute_reply": "2021-12-18T18:30:13.534903Z"
    },
    "papermill": {
     "duration": 2.010487,
     "end_time": "2021-12-18T18:30:13.535330",
     "exception": false,
     "start_time": "2021-12-18T18:30:11.524843",
     "status": "completed"
    },
    "tags": []
   },
   "outputs": [
    {
     "data": {
      "text/plain": [
       "<AxesSubplot:ylabel='PRODUCT'>"
      ]
     },
     "execution_count": 7,
     "metadata": {},
     "output_type": "execute_result"
    },
    {
     "data": {
      "image/png": "[encoded data removed]",
      "text/plain": [
       "<Figure size 432x288 with 1 Axes>"
      ]
     },
     "metadata": {
      "needs_background": "light"
     },
     "output_type": "display_data"
    }
   ],
   "source": [
    "df_pivot_diff.sort_values(\"stamp_2\", ascending = False)[\"stamp_2\"].head(10).plot.barh()"
   ]
  },
  {
   "cell_type": "code",
   "execution_count": null,
   "id": "extra-executive",
   "metadata": {
    "papermill": {
     "duration": 0.027833,
     "end_time": "2021-12-18T18:30:13.596737",
     "exception": false,
     "start_time": "2021-12-18T18:30:13.568904",
     "status": "completed"
    },
    "tags": []
   },
   "outputs": [],
   "source": []
  }
 ],
 "metadata": {
  "kernelspec": {
   "display_name": "Python 3",
   "language": "python",
   "name": "python3"
  },
  "language_info": {
   "codemirror_mode": {
    "name": "ipython",
    "version": 3
   },
   "file_extension": ".py",
   "mimetype": "text/x-python",
   "name": "python",
   "nbconvert_exporter": "python",
   "pygments_lexer": "ipython3",
   "version": "3.9.5"
  },
  "papermill": {
   "default_parameters": {},
   "duration": 9.59812,
   "end_time": "2021-12-18T18:30:14.240336",
   "environment_variables": {},
   "exception": null,
   "input_path": "eBay_Overview.ipynb",
   "output_path": "eBay_Overview.ipynb",
   "parameters": {},
   "start_time": "2021-12-18T18:30:04.642216",
   "version": "2.3.3"
  }
 },
 "nbformat": 4,
 "nbformat_minor": 5
}