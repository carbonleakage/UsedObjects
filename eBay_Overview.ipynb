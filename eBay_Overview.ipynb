{
 "cells": [
  {
   "cell_type": "code",
   "execution_count": 1,
   "id": "reverse-picking",
   "metadata": {
    "execution": {
     "iopub.execute_input": "2021-08-20T11:30:07.306619Z",
     "iopub.status.busy": "2021-08-20T11:30:07.304591Z",
     "iopub.status.idle": "2021-08-20T11:30:08.108978Z",
     "shell.execute_reply": "2021-08-20T11:30:08.110358Z"
    },
    "papermill": {
     "duration": 0.855984,
     "end_time": "2021-08-20T11:30:08.111021",
     "exception": false,
     "start_time": "2021-08-20T11:30:07.255037",
     "status": "completed"
    },
    "tags": []
   },
   "outputs": [],
   "source": [
    "import pandas as pd\n",
    "import sqlite3"
   ]
  },
  {
   "cell_type": "code",
   "execution_count": 2,
   "id": "innovative-syndrome",
   "metadata": {
    "execution": {
     "iopub.execute_input": "2021-08-20T11:30:08.162020Z",
     "iopub.status.busy": "2021-08-20T11:30:08.160023Z",
     "iopub.status.idle": "2021-08-20T11:30:08.252669Z",
     "shell.execute_reply": "2021-08-20T11:30:08.253965Z"
    },
    "papermill": {
     "duration": 0.122939,
     "end_time": "2021-08-20T11:30:08.254433",
     "exception": false,
     "start_time": "2021-08-20T11:30:08.131494",
     "status": "completed"
    },
    "tags": []
   },
   "outputs": [],
   "source": [
    "timestamps = pd.read_sql(\"select distinct record_time from EBAY_TOP_BERLIN order by record_time desc limit 2\", sqlite3.connect(\"UsedObjects.db\"))"
   ]
  },
  {
   "cell_type": "code",
   "execution_count": 3,
   "id": "periodic-identification",
   "metadata": {
    "execution": {
     "iopub.execute_input": "2021-08-20T11:30:08.319613Z",
     "iopub.status.busy": "2021-08-20T11:30:08.317505Z",
     "iopub.status.idle": "2021-08-20T11:30:08.337416Z",
     "shell.execute_reply": "2021-08-20T11:30:08.338873Z"
    },
    "papermill": {
     "duration": 0.065042,
     "end_time": "2021-08-20T11:30:08.339315",
     "exception": false,
     "start_time": "2021-08-20T11:30:08.274273",
     "status": "completed"
    },
    "tags": []
   },
   "outputs": [
    {
     "data": {
      "text/html": [
       "<div>\n",
       "<style scoped>\n",
       "    .dataframe tbody tr th:only-of-type {\n",
       "        vertical-align: middle;\n",
       "    }\n",
       "\n",
       "    .dataframe tbody tr th {\n",
       "        vertical-align: top;\n",
       "    }\n",
       "\n",
       "    .dataframe thead th {\n",
       "        text-align: right;\n",
       "    }\n",
       "</style>\n",
       "<table border=\"1\" class=\"dataframe\">\n",
       "  <thead>\n",
       "    <tr style=\"text-align: right;\">\n",
       "      <th></th>\n",
       "      <th>RECORD_TIME</th>\n",
       "    </tr>\n",
       "  </thead>\n",
       "  <tbody>\n",
       "    <tr>\n",
       "      <th>0</th>\n",
       "      <td>2021-08-20 13:30</td>\n",
       "    </tr>\n",
       "    <tr>\n",
       "      <th>1</th>\n",
       "      <td>2021-08-20 13:00</td>\n",
       "    </tr>\n",
       "  </tbody>\n",
       "</table>\n",
       "</div>"
      ],
      "text/plain": [
       "        RECORD_TIME\n",
       "0  2021-08-20 13:30\n",
       "1  2021-08-20 13:00"
      ]
     },
     "execution_count": 3,
     "metadata": {},
     "output_type": "execute_result"
    }
   ],
   "source": [
    "timestamps"
   ]
  },
  {
   "cell_type": "code",
   "execution_count": 4,
   "id": "alternate-victory",
   "metadata": {
    "execution": {
     "iopub.execute_input": "2021-08-20T11:30:08.391738Z",
     "iopub.status.busy": "2021-08-20T11:30:08.389512Z",
     "iopub.status.idle": "2021-08-20T11:30:08.530365Z",
     "shell.execute_reply": "2021-08-20T11:30:08.531582Z"
    },
    "papermill": {
     "duration": 0.170885,
     "end_time": "2021-08-20T11:30:08.531984",
     "exception": false,
     "start_time": "2021-08-20T11:30:08.361099",
     "status": "completed"
    },
    "tags": []
   },
   "outputs": [],
   "source": [
    "df = pd.read_sql(\"select * from EBAY_TOP_BERLIN where record_time in (select distinct record_time from EBAY_TOP_BERLIN order by record_time desc limit 2)\", sqlite3.connect(\"UsedObjects.db\"))"
   ]
  },
  {
   "cell_type": "code",
   "execution_count": 5,
   "id": "popular-active",
   "metadata": {
    "execution": {
     "iopub.execute_input": "2021-08-20T11:30:08.606738Z",
     "iopub.status.busy": "2021-08-20T11:30:08.595434Z",
     "iopub.status.idle": "2021-08-20T11:30:08.623974Z",
     "shell.execute_reply": "2021-08-20T11:30:08.625329Z"
    },
    "papermill": {
     "duration": 0.070294,
     "end_time": "2021-08-20T11:30:08.625770",
     "exception": false,
     "start_time": "2021-08-20T11:30:08.555476",
     "status": "completed"
    },
    "tags": []
   },
   "outputs": [],
   "source": [
    "df_pivot = df.pivot_table(index=\"PRODUCT\", columns = \"RECORD_TIME\", values = \"LISTING_COUNT\")"
   ]
  },
  {
   "cell_type": "code",
   "execution_count": 6,
   "id": "union-huntington",
   "metadata": {
    "execution": {
     "iopub.execute_input": "2021-08-20T11:30:08.686248Z",
     "iopub.status.busy": "2021-08-20T11:30:08.683772Z",
     "iopub.status.idle": "2021-08-20T11:30:08.689700Z",
     "shell.execute_reply": "2021-08-20T11:30:08.691051Z"
    },
    "papermill": {
     "duration": 0.043236,
     "end_time": "2021-08-20T11:30:08.691480",
     "exception": false,
     "start_time": "2021-08-20T11:30:08.648244",
     "status": "completed"
    },
    "tags": []
   },
   "outputs": [],
   "source": [
    "df_pivot.columns = [\"stamp_1\", \"stamp_2\"]\n",
    "df_pivot_diff = df_pivot.diff(axis=1)"
   ]
  },
  {
   "cell_type": "code",
   "execution_count": 7,
   "id": "fifth-motion",
   "metadata": {
    "execution": {
     "iopub.execute_input": "2021-08-20T11:30:08.750977Z",
     "iopub.status.busy": "2021-08-20T11:30:08.748543Z",
     "iopub.status.idle": "2021-08-20T11:30:10.251411Z",
     "shell.execute_reply": "2021-08-20T11:30:10.252722Z"
    },
    "papermill": {
     "duration": 1.540965,
     "end_time": "2021-08-20T11:30:10.253140",
     "exception": false,
     "start_time": "2021-08-20T11:30:08.712175",
     "status": "completed"
    },
    "tags": []
   },
   "outputs": [
    {
     "data": {
      "text/plain": [
       "<AxesSubplot:ylabel='PRODUCT'>"
      ]
     },
     "execution_count": 7,
     "metadata": {},
     "output_type": "execute_result"
    },
    {
     "data": {
      "image/png": "[encoded data removed]",
      "text/plain": [
       "<Figure size 432x288 with 1 Axes>"
      ]
     },
     "metadata": {
      "needs_background": "light"
     },
     "output_type": "display_data"
    }
   ],
   "source": [
    "df_pivot_diff.sort_values(\"stamp_2\", ascending = False)[\"stamp_2\"].head(10).plot.barh()"
   ]
  },
  {
   "cell_type": "code",
   "execution_count": null,
   "id": "extra-executive",
   "metadata": {
    "papermill": {
     "duration": 0.022358,
     "end_time": "2021-08-20T11:30:10.299018",
     "exception": false,
     "start_time": "2021-08-20T11:30:10.276660",
     "status": "completed"
    },
    "tags": []
   },
   "outputs": [],
   "source": []
  }
 ],
 "metadata": {
  "kernelspec": {
   "display_name": "Python 3",
   "language": "python",
   "name": "python3"
  },
  "language_info": {
   "codemirror_mode": {
    "name": "ipython",
    "version": 3
   },
   "file_extension": ".py",
   "mimetype": "text/x-python",
   "name": "python",
   "nbconvert_exporter": "python",
   "pygments_lexer": "ipython3",
   "version": "3.9.5"
  },
  "papermill": {
   "default_parameters": {},
   "duration": 6.820791,
   "end_time": "2021-08-20T11:30:11.672392",
   "environment_variables": {},
   "exception": null,
   "input_path": "eBay_Overview.ipynb",
   "output_path": "eBay_Overview.ipynb",
   "parameters": {},
   "start_time": "2021-08-20T11:30:04.851601",
   "version": "2.3.3"
  }
 },
 "nbformat": 4,
 "nbformat_minor": 5
}