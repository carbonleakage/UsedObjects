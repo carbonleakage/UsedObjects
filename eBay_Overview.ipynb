{
 "cells": [
  {
   "cell_type": "code",
   "execution_count": 1,
   "id": "reverse-picking",
   "metadata": {
    "execution": {
     "iopub.execute_input": "2021-09-02T03:00:07.365795Z",
     "iopub.status.busy": "2021-09-02T03:00:07.363834Z",
     "iopub.status.idle": "2021-09-02T03:00:08.166630Z",
     "shell.execute_reply": "2021-09-02T03:00:08.164995Z"
    },
    "papermill": {
     "duration": 0.851904,
     "end_time": "2021-09-02T03:00:08.167103",
     "exception": false,
     "start_time": "2021-09-02T03:00:07.315199",
     "status": "completed"
    },
    "tags": []
   },
   "outputs": [],
   "source": [
    "import pandas as pd\n",
    "import sqlite3"
   ]
  },
  {
   "cell_type": "code",
   "execution_count": 2,
   "id": "innovative-syndrome",
   "metadata": {
    "execution": {
     "iopub.execute_input": "2021-09-02T03:00:08.217928Z",
     "iopub.status.busy": "2021-09-02T03:00:08.216059Z",
     "iopub.status.idle": "2021-09-02T03:00:08.399744Z",
     "shell.execute_reply": "2021-09-02T03:00:08.401125Z"
    },
    "papermill": {
     "duration": 0.213498,
     "end_time": "2021-09-02T03:00:08.401568",
     "exception": false,
     "start_time": "2021-09-02T03:00:08.188070",
     "status": "completed"
    },
    "tags": []
   },
   "outputs": [],
   "source": [
    "timestamps = pd.read_sql(\"select distinct record_time from EBAY_TOP_BERLIN order by record_time desc limit 2\", sqlite3.connect(\"UsedObjects.db\"))"
   ]
  },
  {
   "cell_type": "code",
   "execution_count": 3,
   "id": "periodic-identification",
   "metadata": {
    "execution": {
     "iopub.execute_input": "2021-09-02T03:00:08.469213Z",
     "iopub.status.busy": "2021-09-02T03:00:08.467207Z",
     "iopub.status.idle": "2021-09-02T03:00:08.487501Z",
     "shell.execute_reply": "2021-09-02T03:00:08.488705Z"
    },
    "papermill": {
     "duration": 0.067131,
     "end_time": "2021-09-02T03:00:08.489137",
     "exception": false,
     "start_time": "2021-09-02T03:00:08.422006",
     "status": "completed"
    },
    "tags": []
   },
   "outputs": [
    {
     "data": {
      "text/html": [
       "<div>\n",
       "<style scoped>\n",
       "    .dataframe tbody tr th:only-of-type {\n",
       "        vertical-align: middle;\n",
       "    }\n",
       "\n",
       "    .dataframe tbody tr th {\n",
       "        vertical-align: top;\n",
       "    }\n",
       "\n",
       "    .dataframe thead th {\n",
       "        text-align: right;\n",
       "    }\n",
       "</style>\n",
       "<table border=\"1\" class=\"dataframe\">\n",
       "  <thead>\n",
       "    <tr style=\"text-align: right;\">\n",
       "      <th></th>\n",
       "      <th>RECORD_TIME</th>\n",
       "    </tr>\n",
       "  </thead>\n",
       "  <tbody>\n",
       "    <tr>\n",
       "      <th>0</th>\n",
       "      <td>2021-09-02 05:00</td>\n",
       "    </tr>\n",
       "    <tr>\n",
       "      <th>1</th>\n",
       "      <td>2021-09-02 04:30</td>\n",
       "    </tr>\n",
       "  </tbody>\n",
       "</table>\n",
       "</div>"
      ],
      "text/plain": [
       "        RECORD_TIME\n",
       "0  2021-09-02 05:00\n",
       "1  2021-09-02 04:30"
      ]
     },
     "execution_count": 3,
     "metadata": {},
     "output_type": "execute_result"
    }
   ],
   "source": [
    "timestamps"
   ]
  },
  {
   "cell_type": "code",
   "execution_count": 4,
   "id": "alternate-victory",
   "metadata": {
    "execution": {
     "iopub.execute_input": "2021-09-02T03:00:08.543165Z",
     "iopub.status.busy": "2021-09-02T03:00:08.540839Z",
     "iopub.status.idle": "2021-09-02T03:00:08.823962Z",
     "shell.execute_reply": "2021-09-02T03:00:08.825247Z"
    },
    "papermill": {
     "duration": 0.31366,
     "end_time": "2021-09-02T03:00:08.825647",
     "exception": false,
     "start_time": "2021-09-02T03:00:08.511987",
     "status": "completed"
    },
    "tags": []
   },
   "outputs": [],
   "source": [
    "df = pd.read_sql(\"select * from EBAY_TOP_BERLIN where record_time in (select distinct record_time from EBAY_TOP_BERLIN order by record_time desc limit 2)\", sqlite3.connect(\"UsedObjects.db\"))"
   ]
  },
  {
   "cell_type": "code",
   "execution_count": 5,
   "id": "popular-active",
   "metadata": {
    "execution": {
     "iopub.execute_input": "2021-09-02T03:00:08.904855Z",
     "iopub.status.busy": "2021-09-02T03:00:08.892264Z",
     "iopub.status.idle": "2021-09-02T03:00:08.920711Z",
     "shell.execute_reply": "2021-09-02T03:00:08.922012Z"
    },
    "papermill": {
     "duration": 0.071066,
     "end_time": "2021-09-02T03:00:08.922431",
     "exception": false,
     "start_time": "2021-09-02T03:00:08.851365",
     "status": "completed"
    },
    "tags": []
   },
   "outputs": [],
   "source": [
    "df_pivot = df.pivot_table(index=\"PRODUCT\", columns = \"RECORD_TIME\", values = \"LISTING_COUNT\")"
   ]
  },
  {
   "cell_type": "code",
   "execution_count": 6,
   "id": "union-huntington",
   "metadata": {
    "execution": {
     "iopub.execute_input": "2021-09-02T03:00:08.977680Z",
     "iopub.status.busy": "2021-09-02T03:00:08.975615Z",
     "iopub.status.idle": "2021-09-02T03:00:08.980819Z",
     "shell.execute_reply": "2021-09-02T03:00:08.981990Z"
    },
    "papermill": {
     "duration": 0.039939,
     "end_time": "2021-09-02T03:00:08.982418",
     "exception": false,
     "start_time": "2021-09-02T03:00:08.942479",
     "status": "completed"
    },
    "tags": []
   },
   "outputs": [],
   "source": [
    "df_pivot.columns = [\"stamp_1\", \"stamp_2\"]\n",
    "df_pivot_diff = df_pivot.diff(axis=1)"
   ]
  },
  {
   "cell_type": "code",
   "execution_count": 7,
   "id": "fifth-motion",
   "metadata": {
    "execution": {
     "iopub.execute_input": "2021-09-02T03:00:09.036350Z",
     "iopub.status.busy": "2021-09-02T03:00:09.033934Z",
     "iopub.status.idle": "2021-09-02T03:00:10.517067Z",
     "shell.execute_reply": "2021-09-02T03:00:10.518343Z"
    },
    "papermill": {
     "duration": 1.51585,
     "end_time": "2021-09-02T03:00:10.518762",
     "exception": false,
     "start_time": "2021-09-02T03:00:09.002912",
     "status": "completed"
    },
    "tags": []
   },
   "outputs": [
    {
     "data": {
      "text/plain": [
       "<AxesSubplot:ylabel='PRODUCT'>"
      ]
     },
     "execution_count": 7,
     "metadata": {},
     "output_type": "execute_result"
    },
    {
     "data": {
      "image/png": "[encoded data removed]",
      "text/plain": [
       "<Figure size 432x288 with 1 Axes>"
      ]
     },
     "metadata": {
      "needs_background": "light"
     },
     "output_type": "display_data"
    }
   ],
   "source": [
    "df_pivot_diff.sort_values(\"stamp_2\", ascending = False)[\"stamp_2\"].head(10).plot.barh()"
   ]
  },
  {
   "cell_type": "code",
   "execution_count": null,
   "id": "extra-executive",
   "metadata": {
    "papermill": {
     "duration": 0.022033,
     "end_time": "2021-09-02T03:00:10.564439",
     "exception": false,
     "start_time": "2021-09-02T03:00:10.542406",
     "status": "completed"
    },
    "tags": []
   },
   "outputs": [],
   "source": []
  }
 ],
 "metadata": {
  "kernelspec": {
   "display_name": "Python 3",
   "language": "python",
   "name": "python3"
  },
  "language_info": {
   "codemirror_mode": {
    "name": "ipython",
    "version": 3
   },
   "file_extension": ".py",
   "mimetype": "text/x-python",
   "name": "python",
   "nbconvert_exporter": "python",
   "pygments_lexer": "ipython3",
   "version": "3.9.5"
  },
  "papermill": {
   "default_parameters": {},
   "duration": 6.823616,
   "end_time": "2021-09-02T03:00:11.734654",
   "environment_variables": {},
   "exception": null,
   "input_path": "eBay_Overview.ipynb",
   "output_path": "eBay_Overview.ipynb",
   "parameters": {},
   "start_time": "2021-09-02T03:00:04.911038",
   "version": "2.3.3"
  }
 },
 "nbformat": 4,
 "nbformat_minor": 5
}