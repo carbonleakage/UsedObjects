{
 "cells": [
  {
   "cell_type": "code",
   "execution_count": 1,
   "id": "reverse-picking",
   "metadata": {
    "execution": {
     "iopub.execute_input": "2021-11-09T21:00:07.362284Z",
     "iopub.status.busy": "2021-11-09T21:00:07.345515Z",
     "iopub.status.idle": "2021-11-09T21:00:08.314397Z",
     "shell.execute_reply": "2021-11-09T21:00:08.315887Z"
    },
    "papermill": {
     "duration": 1.007645,
     "end_time": "2021-11-09T21:00:08.316647",
     "exception": false,
     "start_time": "2021-11-09T21:00:07.309002",
     "status": "completed"
    },
    "tags": []
   },
   "outputs": [],
   "source": [
    "import pandas as pd\n",
    "import sqlite3"
   ]
  },
  {
   "cell_type": "code",
   "execution_count": 2,
   "id": "innovative-syndrome",
   "metadata": {
    "execution": {
     "iopub.execute_input": "2021-11-09T21:00:08.381119Z",
     "iopub.status.busy": "2021-11-09T21:00:08.377443Z",
     "iopub.status.idle": "2021-11-09T21:00:09.160437Z",
     "shell.execute_reply": "2021-11-09T21:00:09.162215Z"
    },
    "papermill": {
     "duration": 0.817774,
     "end_time": "2021-11-09T21:00:09.162730",
     "exception": false,
     "start_time": "2021-11-09T21:00:08.344956",
     "status": "completed"
    },
    "tags": []
   },
   "outputs": [],
   "source": [
    "timestamps = pd.read_sql(\"select distinct record_time from EBAY_TOP_BERLIN order by record_time desc limit 2\", sqlite3.connect(\"UsedObjects.db\"))"
   ]
  },
  {
   "cell_type": "code",
   "execution_count": 3,
   "id": "periodic-identification",
   "metadata": {
    "execution": {
     "iopub.execute_input": "2021-11-09T21:00:09.238168Z",
     "iopub.status.busy": "2021-11-09T21:00:09.231188Z",
     "iopub.status.idle": "2021-11-09T21:00:09.254947Z",
     "shell.execute_reply": "2021-11-09T21:00:09.256593Z"
    },
    "papermill": {
     "duration": 0.073595,
     "end_time": "2021-11-09T21:00:09.257194",
     "exception": false,
     "start_time": "2021-11-09T21:00:09.183599",
     "status": "completed"
    },
    "tags": []
   },
   "outputs": [
    {
     "data": {
      "text/html": [
       "<div>\n",
       "<style scoped>\n",
       "    .dataframe tbody tr th:only-of-type {\n",
       "        vertical-align: middle;\n",
       "    }\n",
       "\n",
       "    .dataframe tbody tr th {\n",
       "        vertical-align: top;\n",
       "    }\n",
       "\n",
       "    .dataframe thead th {\n",
       "        text-align: right;\n",
       "    }\n",
       "</style>\n",
       "<table border=\"1\" class=\"dataframe\">\n",
       "  <thead>\n",
       "    <tr style=\"text-align: right;\">\n",
       "      <th></th>\n",
       "      <th>RECORD_TIME</th>\n",
       "    </tr>\n",
       "  </thead>\n",
       "  <tbody>\n",
       "    <tr>\n",
       "      <th>0</th>\n",
       "      <td>2021-11-09 22:00</td>\n",
       "    </tr>\n",
       "    <tr>\n",
       "      <th>1</th>\n",
       "      <td>2021-11-09 21:30</td>\n",
       "    </tr>\n",
       "  </tbody>\n",
       "</table>\n",
       "</div>"
      ],
      "text/plain": [
       "        RECORD_TIME\n",
       "0  2021-11-09 22:00\n",
       "1  2021-11-09 21:30"
      ]
     },
     "execution_count": 3,
     "metadata": {},
     "output_type": "execute_result"
    }
   ],
   "source": [
    "timestamps"
   ]
  },
  {
   "cell_type": "code",
   "execution_count": 4,
   "id": "alternate-victory",
   "metadata": {
    "execution": {
     "iopub.execute_input": "2021-11-09T21:00:09.314630Z",
     "iopub.status.busy": "2021-11-09T21:00:09.312388Z",
     "iopub.status.idle": "2021-11-09T21:00:10.501884Z",
     "shell.execute_reply": "2021-11-09T21:00:10.504464Z"
    },
    "papermill": {
     "duration": 1.225965,
     "end_time": "2021-11-09T21:00:10.505390",
     "exception": false,
     "start_time": "2021-11-09T21:00:09.279425",
     "status": "completed"
    },
    "tags": []
   },
   "outputs": [],
   "source": [
    "df = pd.read_sql(\"select * from EBAY_TOP_BERLIN where record_time in (select distinct record_time from EBAY_TOP_BERLIN order by record_time desc limit 2)\", sqlite3.connect(\"UsedObjects.db\"))"
   ]
  },
  {
   "cell_type": "code",
   "execution_count": 5,
   "id": "popular-active",
   "metadata": {
    "execution": {
     "iopub.execute_input": "2021-11-09T21:00:10.593610Z",
     "iopub.status.busy": "2021-11-09T21:00:10.579723Z",
     "iopub.status.idle": "2021-11-09T21:00:10.613976Z",
     "shell.execute_reply": "2021-11-09T21:00:10.616129Z"
    },
    "papermill": {
     "duration": 0.080082,
     "end_time": "2021-11-09T21:00:10.617111",
     "exception": false,
     "start_time": "2021-11-09T21:00:10.537029",
     "status": "completed"
    },
    "tags": []
   },
   "outputs": [],
   "source": [
    "df_pivot = df.pivot_table(index=\"PRODUCT\", columns = \"RECORD_TIME\", values = \"LISTING_COUNT\")"
   ]
  },
  {
   "cell_type": "code",
   "execution_count": 6,
   "id": "union-huntington",
   "metadata": {
    "execution": {
     "iopub.execute_input": "2021-11-09T21:00:10.676989Z",
     "iopub.status.busy": "2021-11-09T21:00:10.674782Z",
     "iopub.status.idle": "2021-11-09T21:00:10.680179Z",
     "shell.execute_reply": "2021-11-09T21:00:10.681606Z"
    },
    "papermill": {
     "duration": 0.044169,
     "end_time": "2021-11-09T21:00:10.682087",
     "exception": false,
     "start_time": "2021-11-09T21:00:10.637918",
     "status": "completed"
    },
    "tags": []
   },
   "outputs": [],
   "source": [
    "df_pivot.columns = [\"stamp_1\", \"stamp_2\"]\n",
    "df_pivot_diff = df_pivot.diff(axis=1)"
   ]
  },
  {
   "cell_type": "code",
   "execution_count": 7,
   "id": "fifth-motion",
   "metadata": {
    "execution": {
     "iopub.execute_input": "2021-11-09T21:00:10.739281Z",
     "iopub.status.busy": "2021-11-09T21:00:10.736601Z",
     "iopub.status.idle": "2021-11-09T21:00:12.647024Z",
     "shell.execute_reply": "2021-11-09T21:00:12.649488Z"
    },
    "papermill": {
     "duration": 1.948145,
     "end_time": "2021-11-09T21:00:12.650229",
     "exception": false,
     "start_time": "2021-11-09T21:00:10.702084",
     "status": "completed"
    },
    "tags": []
   },
   "outputs": [
    {
     "data": {
      "text/plain": [
       "<AxesSubplot:ylabel='PRODUCT'>"
      ]
     },
     "execution_count": 7,
     "metadata": {},
     "output_type": "execute_result"
    },
    {
     "data": {
      "image/png": "[encoded data removed]",
      "text/plain": [
       "<Figure size 432x288 with 1 Axes>"
      ]
     },
     "metadata": {
      "needs_background": "light"
     },
     "output_type": "display_data"
    }
   ],
   "source": [
    "df_pivot_diff.sort_values(\"stamp_2\", ascending = False)[\"stamp_2\"].head(10).plot.barh()"
   ]
  },
  {
   "cell_type": "code",
   "execution_count": null,
   "id": "extra-executive",
   "metadata": {
    "papermill": {
     "duration": 0.022826,
     "end_time": "2021-11-09T21:00:12.702409",
     "exception": false,
     "start_time": "2021-11-09T21:00:12.679583",
     "status": "completed"
    },
    "tags": []
   },
   "outputs": [],
   "source": []
  }
 ],
 "metadata": {
  "kernelspec": {
   "display_name": "Python 3",
   "language": "python",
   "name": "python3"
  },
  "language_info": {
   "codemirror_mode": {
    "name": "ipython",
    "version": 3
   },
   "file_extension": ".py",
   "mimetype": "text/x-python",
   "name": "python",
   "nbconvert_exporter": "python",
   "pygments_lexer": "ipython3",
   "version": "3.9.5"
  },
  "papermill": {
   "default_parameters": {},
   "duration": 9.937107,
   "end_time": "2021-11-09T21:00:14.540563",
   "environment_variables": {},
   "exception": null,
   "input_path": "eBay_Overview.ipynb",
   "output_path": "eBay_Overview.ipynb",
   "parameters": {},
   "start_time": "2021-11-09T21:00:04.603456",
   "version": "2.3.3"
  }
 },
 "nbformat": 4,
 "nbformat_minor": 5
}