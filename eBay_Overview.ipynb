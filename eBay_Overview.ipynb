{
 "cells": [
  {
   "cell_type": "code",
   "execution_count": 1,
   "id": "reverse-picking",
   "metadata": {
    "execution": {
     "iopub.execute_input": "2021-09-24T13:00:06.684901Z",
     "iopub.status.busy": "2021-09-24T13:00:06.682985Z",
     "iopub.status.idle": "2021-09-24T13:00:07.489821Z",
     "shell.execute_reply": "2021-09-24T13:00:07.491114Z"
    },
    "papermill": {
     "duration": 0.857861,
     "end_time": "2021-09-24T13:00:07.491745",
     "exception": false,
     "start_time": "2021-09-24T13:00:06.633884",
     "status": "completed"
    },
    "tags": []
   },
   "outputs": [],
   "source": [
    "import pandas as pd\n",
    "import sqlite3"
   ]
  },
  {
   "cell_type": "code",
   "execution_count": 2,
   "id": "innovative-syndrome",
   "metadata": {
    "execution": {
     "iopub.execute_input": "2021-09-24T13:00:07.541805Z",
     "iopub.status.busy": "2021-09-24T13:00:07.539966Z",
     "iopub.status.idle": "2021-09-24T13:00:07.905943Z",
     "shell.execute_reply": "2021-09-24T13:00:07.907281Z"
    },
    "papermill": {
     "duration": 0.395358,
     "end_time": "2021-09-24T13:00:07.907724",
     "exception": false,
     "start_time": "2021-09-24T13:00:07.512366",
     "status": "completed"
    },
    "tags": []
   },
   "outputs": [],
   "source": [
    "timestamps = pd.read_sql(\"select distinct record_time from EBAY_TOP_BERLIN order by record_time desc limit 2\", sqlite3.connect(\"UsedObjects.db\"))"
   ]
  },
  {
   "cell_type": "code",
   "execution_count": 3,
   "id": "periodic-identification",
   "metadata": {
    "execution": {
     "iopub.execute_input": "2021-09-24T13:00:07.973984Z",
     "iopub.status.busy": "2021-09-24T13:00:07.971987Z",
     "iopub.status.idle": "2021-09-24T13:00:07.991722Z",
     "shell.execute_reply": "2021-09-24T13:00:07.992990Z"
    },
    "papermill": {
     "duration": 0.066261,
     "end_time": "2021-09-24T13:00:07.993405",
     "exception": false,
     "start_time": "2021-09-24T13:00:07.927144",
     "status": "completed"
    },
    "tags": []
   },
   "outputs": [
    {
     "data": {
      "text/html": [
       "<div>\n",
       "<style scoped>\n",
       "    .dataframe tbody tr th:only-of-type {\n",
       "        vertical-align: middle;\n",
       "    }\n",
       "\n",
       "    .dataframe tbody tr th {\n",
       "        vertical-align: top;\n",
       "    }\n",
       "\n",
       "    .dataframe thead th {\n",
       "        text-align: right;\n",
       "    }\n",
       "</style>\n",
       "<table border=\"1\" class=\"dataframe\">\n",
       "  <thead>\n",
       "    <tr style=\"text-align: right;\">\n",
       "      <th></th>\n",
       "      <th>RECORD_TIME</th>\n",
       "    </tr>\n",
       "  </thead>\n",
       "  <tbody>\n",
       "    <tr>\n",
       "      <th>0</th>\n",
       "      <td>2021-09-24 15:00</td>\n",
       "    </tr>\n",
       "    <tr>\n",
       "      <th>1</th>\n",
       "      <td>2021-09-24 14:30</td>\n",
       "    </tr>\n",
       "  </tbody>\n",
       "</table>\n",
       "</div>"
      ],
      "text/plain": [
       "        RECORD_TIME\n",
       "0  2021-09-24 15:00\n",
       "1  2021-09-24 14:30"
      ]
     },
     "execution_count": 3,
     "metadata": {},
     "output_type": "execute_result"
    }
   ],
   "source": [
    "timestamps"
   ]
  },
  {
   "cell_type": "code",
   "execution_count": 4,
   "id": "alternate-victory",
   "metadata": {
    "execution": {
     "iopub.execute_input": "2021-09-24T13:00:08.044355Z",
     "iopub.status.busy": "2021-09-24T13:00:08.042427Z",
     "iopub.status.idle": "2021-09-24T13:00:08.589118Z",
     "shell.execute_reply": "2021-09-24T13:00:08.590304Z"
    },
    "papermill": {
     "duration": 0.576327,
     "end_time": "2021-09-24T13:00:08.590699",
     "exception": false,
     "start_time": "2021-09-24T13:00:08.014372",
     "status": "completed"
    },
    "tags": []
   },
   "outputs": [],
   "source": [
    "df = pd.read_sql(\"select * from EBAY_TOP_BERLIN where record_time in (select distinct record_time from EBAY_TOP_BERLIN order by record_time desc limit 2)\", sqlite3.connect(\"UsedObjects.db\"))"
   ]
  },
  {
   "cell_type": "code",
   "execution_count": 5,
   "id": "popular-active",
   "metadata": {
    "execution": {
     "iopub.execute_input": "2021-09-24T13:00:08.664506Z",
     "iopub.status.busy": "2021-09-24T13:00:08.658433Z",
     "iopub.status.idle": "2021-09-24T13:00:08.685992Z",
     "shell.execute_reply": "2021-09-24T13:00:08.687400Z"
    },
    "papermill": {
     "duration": 0.071395,
     "end_time": "2021-09-24T13:00:08.687819",
     "exception": false,
     "start_time": "2021-09-24T13:00:08.616424",
     "status": "completed"
    },
    "tags": []
   },
   "outputs": [],
   "source": [
    "df_pivot = df.pivot_table(index=\"PRODUCT\", columns = \"RECORD_TIME\", values = \"LISTING_COUNT\")"
   ]
  },
  {
   "cell_type": "code",
   "execution_count": 6,
   "id": "union-huntington",
   "metadata": {
    "execution": {
     "iopub.execute_input": "2021-09-24T13:00:08.745455Z",
     "iopub.status.busy": "2021-09-24T13:00:08.743054Z",
     "iopub.status.idle": "2021-09-24T13:00:08.749203Z",
     "shell.execute_reply": "2021-09-24T13:00:08.750638Z"
    },
    "papermill": {
     "duration": 0.042274,
     "end_time": "2021-09-24T13:00:08.751165",
     "exception": false,
     "start_time": "2021-09-24T13:00:08.708891",
     "status": "completed"
    },
    "tags": []
   },
   "outputs": [],
   "source": [
    "df_pivot.columns = [\"stamp_1\", \"stamp_2\"]\n",
    "df_pivot_diff = df_pivot.diff(axis=1)"
   ]
  },
  {
   "cell_type": "code",
   "execution_count": 7,
   "id": "fifth-motion",
   "metadata": {
    "execution": {
     "iopub.execute_input": "2021-09-24T13:00:08.805557Z",
     "iopub.status.busy": "2021-09-24T13:00:08.803289Z",
     "iopub.status.idle": "2021-09-24T13:00:10.287340Z",
     "shell.execute_reply": "2021-09-24T13:00:10.288610Z"
    },
    "papermill": {
     "duration": 1.516861,
     "end_time": "2021-09-24T13:00:10.289030",
     "exception": false,
     "start_time": "2021-09-24T13:00:08.772169",
     "status": "completed"
    },
    "tags": []
   },
   "outputs": [
    {
     "data": {
      "text/plain": [
       "<AxesSubplot:ylabel='PRODUCT'>"
      ]
     },
     "execution_count": 7,
     "metadata": {},
     "output_type": "execute_result"
    },
    {
     "data": {
      "image/png": "[encoded data removed]",
      "text/plain": [
       "<Figure size 432x288 with 1 Axes>"
      ]
     },
     "metadata": {
      "needs_background": "light"
     },
     "output_type": "display_data"
    }
   ],
   "source": [
    "df_pivot_diff.sort_values(\"stamp_2\", ascending = False)[\"stamp_2\"].head(10).plot.barh()"
   ]
  },
  {
   "cell_type": "code",
   "execution_count": null,
   "id": "extra-executive",
   "metadata": {
    "papermill": {
     "duration": 0.021978,
     "end_time": "2021-09-24T13:00:10.335549",
     "exception": false,
     "start_time": "2021-09-24T13:00:10.313571",
     "status": "completed"
    },
    "tags": []
   },
   "outputs": [],
   "source": []
  }
 ],
 "metadata": {
  "kernelspec": {
   "display_name": "Python 3",
   "language": "python",
   "name": "python3"
  },
  "language_info": {
   "codemirror_mode": {
    "name": "ipython",
    "version": 3
   },
   "file_extension": ".py",
   "mimetype": "text/x-python",
   "name": "python",
   "nbconvert_exporter": "python",
   "pygments_lexer": "ipython3",
   "version": "3.9.5"
  },
  "papermill": {
   "default_parameters": {},
   "duration": 6.739317,
   "end_time": "2021-09-24T13:00:10.978747",
   "environment_variables": {},
   "exception": null,
   "input_path": "eBay_Overview.ipynb",
   "output_path": "eBay_Overview.ipynb",
   "parameters": {},
   "start_time": "2021-09-24T13:00:04.239430",
   "version": "2.3.3"
  }
 },
 "nbformat": 4,
 "nbformat_minor": 5
}