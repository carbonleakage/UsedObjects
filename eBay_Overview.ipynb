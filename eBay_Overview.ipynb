{
 "cells": [
  {
   "cell_type": "code",
   "execution_count": 1,
   "id": "reverse-picking",
   "metadata": {
    "execution": {
     "iopub.execute_input": "2021-12-05T20:30:07.380860Z",
     "iopub.status.busy": "2021-12-05T20:30:07.378553Z",
     "iopub.status.idle": "2021-12-05T20:30:08.317374Z",
     "shell.execute_reply": "2021-12-05T20:30:08.318676Z"
    },
    "papermill": {
     "duration": 0.990153,
     "end_time": "2021-12-05T20:30:08.319331",
     "exception": false,
     "start_time": "2021-12-05T20:30:07.329178",
     "status": "completed"
    },
    "tags": []
   },
   "outputs": [],
   "source": [
    "import pandas as pd\n",
    "import sqlite3"
   ]
  },
  {
   "cell_type": "code",
   "execution_count": 2,
   "id": "innovative-syndrome",
   "metadata": {
    "execution": {
     "iopub.execute_input": "2021-12-05T20:30:08.408454Z",
     "iopub.status.busy": "2021-12-05T20:30:08.406206Z",
     "iopub.status.idle": "2021-12-05T20:30:09.432580Z",
     "shell.execute_reply": "2021-12-05T20:30:09.434156Z"
    },
    "papermill": {
     "duration": 1.066949,
     "end_time": "2021-12-05T20:30:09.434666",
     "exception": false,
     "start_time": "2021-12-05T20:30:08.367717",
     "status": "completed"
    },
    "tags": []
   },
   "outputs": [],
   "source": [
    "timestamps = pd.read_sql(\"select distinct record_time from EBAY_TOP_BERLIN order by record_time desc limit 2\", sqlite3.connect(\"UsedObjects.db\"))"
   ]
  },
  {
   "cell_type": "code",
   "execution_count": 3,
   "id": "periodic-identification",
   "metadata": {
    "execution": {
     "iopub.execute_input": "2021-12-05T20:30:09.507241Z",
     "iopub.status.busy": "2021-12-05T20:30:09.504993Z",
     "iopub.status.idle": "2021-12-05T20:30:09.529252Z",
     "shell.execute_reply": "2021-12-05T20:30:09.530983Z"
    },
    "papermill": {
     "duration": 0.075593,
     "end_time": "2021-12-05T20:30:09.531446",
     "exception": false,
     "start_time": "2021-12-05T20:30:09.455853",
     "status": "completed"
    },
    "tags": []
   },
   "outputs": [
    {
     "data": {
      "text/html": [
       "<div>\n",
       "<style scoped>\n",
       "    .dataframe tbody tr th:only-of-type {\n",
       "        vertical-align: middle;\n",
       "    }\n",
       "\n",
       "    .dataframe tbody tr th {\n",
       "        vertical-align: top;\n",
       "    }\n",
       "\n",
       "    .dataframe thead th {\n",
       "        text-align: right;\n",
       "    }\n",
       "</style>\n",
       "<table border=\"1\" class=\"dataframe\">\n",
       "  <thead>\n",
       "    <tr style=\"text-align: right;\">\n",
       "      <th></th>\n",
       "      <th>RECORD_TIME</th>\n",
       "    </tr>\n",
       "  </thead>\n",
       "  <tbody>\n",
       "    <tr>\n",
       "      <th>0</th>\n",
       "      <td>2021-12-05 21:30</td>\n",
       "    </tr>\n",
       "    <tr>\n",
       "      <th>1</th>\n",
       "      <td>2021-12-05 21:00</td>\n",
       "    </tr>\n",
       "  </tbody>\n",
       "</table>\n",
       "</div>"
      ],
      "text/plain": [
       "        RECORD_TIME\n",
       "0  2021-12-05 21:30\n",
       "1  2021-12-05 21:00"
      ]
     },
     "execution_count": 3,
     "metadata": {},
     "output_type": "execute_result"
    }
   ],
   "source": [
    "timestamps"
   ]
  },
  {
   "cell_type": "code",
   "execution_count": 4,
   "id": "alternate-victory",
   "metadata": {
    "execution": {
     "iopub.execute_input": "2021-12-05T20:30:09.589000Z",
     "iopub.status.busy": "2021-12-05T20:30:09.586810Z",
     "iopub.status.idle": "2021-12-05T20:30:11.037074Z",
     "shell.execute_reply": "2021-12-05T20:30:11.038695Z"
    },
    "papermill": {
     "duration": 1.484405,
     "end_time": "2021-12-05T20:30:11.039198",
     "exception": false,
     "start_time": "2021-12-05T20:30:09.554793",
     "status": "completed"
    },
    "tags": []
   },
   "outputs": [],
   "source": [
    "df = pd.read_sql(\"select * from EBAY_TOP_BERLIN where record_time in (select distinct record_time from EBAY_TOP_BERLIN order by record_time desc limit 2)\", sqlite3.connect(\"UsedObjects.db\"))"
   ]
  },
  {
   "cell_type": "code",
   "execution_count": 5,
   "id": "popular-active",
   "metadata": {
    "execution": {
     "iopub.execute_input": "2021-12-05T20:30:11.117949Z",
     "iopub.status.busy": "2021-12-05T20:30:11.103555Z",
     "iopub.status.idle": "2021-12-05T20:30:11.136477Z",
     "shell.execute_reply": "2021-12-05T20:30:11.137916Z"
    },
    "papermill": {
     "duration": 0.07744,
     "end_time": "2021-12-05T20:30:11.138390",
     "exception": false,
     "start_time": "2021-12-05T20:30:11.060950",
     "status": "completed"
    },
    "tags": []
   },
   "outputs": [],
   "source": [
    "df_pivot = df.pivot_table(index=\"PRODUCT\", columns = \"RECORD_TIME\", values = \"LISTING_COUNT\")"
   ]
  },
  {
   "cell_type": "code",
   "execution_count": 6,
   "id": "union-huntington",
   "metadata": {
    "execution": {
     "iopub.execute_input": "2021-12-05T20:30:11.197024Z",
     "iopub.status.busy": "2021-12-05T20:30:11.194759Z",
     "iopub.status.idle": "2021-12-05T20:30:11.200034Z",
     "shell.execute_reply": "2021-12-05T20:30:11.201473Z"
    },
    "papermill": {
     "duration": 0.043767,
     "end_time": "2021-12-05T20:30:11.201950",
     "exception": false,
     "start_time": "2021-12-05T20:30:11.158183",
     "status": "completed"
    },
    "tags": []
   },
   "outputs": [],
   "source": [
    "df_pivot.columns = [\"stamp_1\", \"stamp_2\"]\n",
    "df_pivot_diff = df_pivot.diff(axis=1)"
   ]
  },
  {
   "cell_type": "code",
   "execution_count": 7,
   "id": "fifth-motion",
   "metadata": {
    "execution": {
     "iopub.execute_input": "2021-12-05T20:30:11.261872Z",
     "iopub.status.busy": "2021-12-05T20:30:11.259194Z",
     "iopub.status.idle": "2021-12-05T20:30:13.211653Z",
     "shell.execute_reply": "2021-12-05T20:30:13.214348Z"
    },
    "papermill": {
     "duration": 1.993077,
     "end_time": "2021-12-05T20:30:13.215212",
     "exception": false,
     "start_time": "2021-12-05T20:30:11.222135",
     "status": "completed"
    },
    "tags": []
   },
   "outputs": [
    {
     "data": {
      "text/plain": [
       "<AxesSubplot:ylabel='PRODUCT'>"
      ]
     },
     "execution_count": 7,
     "metadata": {},
     "output_type": "execute_result"
    },
    {
     "data": {
      "image/png": "[encoded data removed]",
      "text/plain": [
       "<Figure size 432x288 with 1 Axes>"
      ]
     },
     "metadata": {
      "needs_background": "light"
     },
     "output_type": "display_data"
    }
   ],
   "source": [
    "df_pivot_diff.sort_values(\"stamp_2\", ascending = False)[\"stamp_2\"].head(10).plot.barh()"
   ]
  },
  {
   "cell_type": "code",
   "execution_count": null,
   "id": "extra-executive",
   "metadata": {
    "papermill": {
     "duration": 0.033937,
     "end_time": "2021-12-05T20:30:13.286319",
     "exception": false,
     "start_time": "2021-12-05T20:30:13.252382",
     "status": "completed"
    },
    "tags": []
   },
   "outputs": [],
   "source": []
  }
 ],
 "metadata": {
  "kernelspec": {
   "display_name": "Python 3",
   "language": "python",
   "name": "python3"
  },
  "language_info": {
   "codemirror_mode": {
    "name": "ipython",
    "version": 3
   },
   "file_extension": ".py",
   "mimetype": "text/x-python",
   "name": "python",
   "nbconvert_exporter": "python",
   "pygments_lexer": "ipython3",
   "version": "3.9.5"
  },
  "papermill": {
   "default_parameters": {},
   "duration": 9.526737,
   "end_time": "2021-12-05T20:30:14.116117",
   "environment_variables": {},
   "exception": null,
   "input_path": "eBay_Overview.ipynb",
   "output_path": "eBay_Overview.ipynb",
   "parameters": {},
   "start_time": "2021-12-05T20:30:04.589380",
   "version": "2.3.3"
  }
 },
 "nbformat": 4,
 "nbformat_minor": 5
}