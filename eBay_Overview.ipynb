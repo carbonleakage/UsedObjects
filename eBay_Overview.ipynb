{
 "cells": [
  {
   "cell_type": "code",
   "execution_count": 1,
   "id": "reverse-picking",
   "metadata": {
    "execution": {
     "iopub.execute_input": "2021-08-29T02:00:07.322346Z",
     "iopub.status.busy": "2021-08-29T02:00:07.319915Z",
     "iopub.status.idle": "2021-08-29T02:00:08.126550Z",
     "shell.execute_reply": "2021-08-29T02:00:08.127787Z"
    },
    "papermill": {
     "duration": 0.858674,
     "end_time": "2021-08-29T02:00:08.128483",
     "exception": false,
     "start_time": "2021-08-29T02:00:07.269809",
     "status": "completed"
    },
    "tags": []
   },
   "outputs": [],
   "source": [
    "import pandas as pd\n",
    "import sqlite3"
   ]
  },
  {
   "cell_type": "code",
   "execution_count": 2,
   "id": "innovative-syndrome",
   "metadata": {
    "execution": {
     "iopub.execute_input": "2021-08-29T02:00:08.178199Z",
     "iopub.status.busy": "2021-08-29T02:00:08.176297Z",
     "iopub.status.idle": "2021-08-29T02:00:08.332000Z",
     "shell.execute_reply": "2021-08-29T02:00:08.333260Z"
    },
    "papermill": {
     "duration": 0.18495,
     "end_time": "2021-08-29T02:00:08.333667",
     "exception": false,
     "start_time": "2021-08-29T02:00:08.148717",
     "status": "completed"
    },
    "tags": []
   },
   "outputs": [],
   "source": [
    "timestamps = pd.read_sql(\"select distinct record_time from EBAY_TOP_BERLIN order by record_time desc limit 2\", sqlite3.connect(\"UsedObjects.db\"))"
   ]
  },
  {
   "cell_type": "code",
   "execution_count": 3,
   "id": "periodic-identification",
   "metadata": {
    "execution": {
     "iopub.execute_input": "2021-08-29T02:00:08.400049Z",
     "iopub.status.busy": "2021-08-29T02:00:08.398059Z",
     "iopub.status.idle": "2021-08-29T02:00:08.419118Z",
     "shell.execute_reply": "2021-08-29T02:00:08.417808Z"
    },
    "papermill": {
     "duration": 0.064238,
     "end_time": "2021-08-29T02:00:08.419459",
     "exception": false,
     "start_time": "2021-08-29T02:00:08.355221",
     "status": "completed"
    },
    "tags": []
   },
   "outputs": [
    {
     "data": {
      "text/html": [
       "<div>\n",
       "<style scoped>\n",
       "    .dataframe tbody tr th:only-of-type {\n",
       "        vertical-align: middle;\n",
       "    }\n",
       "\n",
       "    .dataframe tbody tr th {\n",
       "        vertical-align: top;\n",
       "    }\n",
       "\n",
       "    .dataframe thead th {\n",
       "        text-align: right;\n",
       "    }\n",
       "</style>\n",
       "<table border=\"1\" class=\"dataframe\">\n",
       "  <thead>\n",
       "    <tr style=\"text-align: right;\">\n",
       "      <th></th>\n",
       "      <th>RECORD_TIME</th>\n",
       "    </tr>\n",
       "  </thead>\n",
       "  <tbody>\n",
       "    <tr>\n",
       "      <th>0</th>\n",
       "      <td>2021-08-29 04:00</td>\n",
       "    </tr>\n",
       "    <tr>\n",
       "      <th>1</th>\n",
       "      <td>2021-08-29 03:30</td>\n",
       "    </tr>\n",
       "  </tbody>\n",
       "</table>\n",
       "</div>"
      ],
      "text/plain": [
       "        RECORD_TIME\n",
       "0  2021-08-29 04:00\n",
       "1  2021-08-29 03:30"
      ]
     },
     "execution_count": 3,
     "metadata": {},
     "output_type": "execute_result"
    }
   ],
   "source": [
    "timestamps"
   ]
  },
  {
   "cell_type": "code",
   "execution_count": 4,
   "id": "alternate-victory",
   "metadata": {
    "execution": {
     "iopub.execute_input": "2021-08-29T02:00:08.472056Z",
     "iopub.status.busy": "2021-08-29T02:00:08.469785Z",
     "iopub.status.idle": "2021-08-29T02:00:08.704634Z",
     "shell.execute_reply": "2021-08-29T02:00:08.706027Z"
    },
    "papermill": {
     "duration": 0.265438,
     "end_time": "2021-08-29T02:00:08.706475",
     "exception": false,
     "start_time": "2021-08-29T02:00:08.441037",
     "status": "completed"
    },
    "tags": []
   },
   "outputs": [],
   "source": [
    "df = pd.read_sql(\"select * from EBAY_TOP_BERLIN where record_time in (select distinct record_time from EBAY_TOP_BERLIN order by record_time desc limit 2)\", sqlite3.connect(\"UsedObjects.db\"))"
   ]
  },
  {
   "cell_type": "code",
   "execution_count": 5,
   "id": "popular-active",
   "metadata": {
    "execution": {
     "iopub.execute_input": "2021-08-29T02:00:08.785239Z",
     "iopub.status.busy": "2021-08-29T02:00:08.773749Z",
     "iopub.status.idle": "2021-08-29T02:00:08.801671Z",
     "shell.execute_reply": "2021-08-29T02:00:08.802915Z"
    },
    "papermill": {
     "duration": 0.076071,
     "end_time": "2021-08-29T02:00:08.803323",
     "exception": false,
     "start_time": "2021-08-29T02:00:08.727252",
     "status": "completed"
    },
    "tags": []
   },
   "outputs": [],
   "source": [
    "df_pivot = df.pivot_table(index=\"PRODUCT\", columns = \"RECORD_TIME\", values = \"LISTING_COUNT\")"
   ]
  },
  {
   "cell_type": "code",
   "execution_count": 6,
   "id": "union-huntington",
   "metadata": {
    "execution": {
     "iopub.execute_input": "2021-08-29T02:00:08.858092Z",
     "iopub.status.busy": "2021-08-29T02:00:08.856068Z",
     "iopub.status.idle": "2021-08-29T02:00:08.862429Z",
     "shell.execute_reply": "2021-08-29T02:00:08.861103Z"
    },
    "papermill": {
     "duration": 0.039702,
     "end_time": "2021-08-29T02:00:08.862771",
     "exception": false,
     "start_time": "2021-08-29T02:00:08.823069",
     "status": "completed"
    },
    "tags": []
   },
   "outputs": [],
   "source": [
    "df_pivot.columns = [\"stamp_1\", \"stamp_2\"]\n",
    "df_pivot_diff = df_pivot.diff(axis=1)"
   ]
  },
  {
   "cell_type": "code",
   "execution_count": 7,
   "id": "fifth-motion",
   "metadata": {
    "execution": {
     "iopub.execute_input": "2021-08-29T02:00:08.916514Z",
     "iopub.status.busy": "2021-08-29T02:00:08.914055Z",
     "iopub.status.idle": "2021-08-29T02:00:10.395447Z",
     "shell.execute_reply": "2021-08-29T02:00:10.396859Z"
    },
    "papermill": {
     "duration": 1.514363,
     "end_time": "2021-08-29T02:00:10.397313",
     "exception": false,
     "start_time": "2021-08-29T02:00:08.882950",
     "status": "completed"
    },
    "tags": []
   },
   "outputs": [
    {
     "data": {
      "text/plain": [
       "<AxesSubplot:ylabel='PRODUCT'>"
      ]
     },
     "execution_count": 7,
     "metadata": {},
     "output_type": "execute_result"
    },
    {
     "data": {
      "image/png": "[encoded data removed]",
      "text/plain": [
       "<Figure size 432x288 with 1 Axes>"
      ]
     },
     "metadata": {
      "needs_background": "light"
     },
     "output_type": "display_data"
    }
   ],
   "source": [
    "df_pivot_diff.sort_values(\"stamp_2\", ascending = False)[\"stamp_2\"].head(10).plot.barh()"
   ]
  },
  {
   "cell_type": "code",
   "execution_count": null,
   "id": "extra-executive",
   "metadata": {
    "papermill": {
     "duration": 0.022048,
     "end_time": "2021-08-29T02:00:10.443470",
     "exception": false,
     "start_time": "2021-08-29T02:00:10.421422",
     "status": "completed"
    },
    "tags": []
   },
   "outputs": [],
   "source": []
  }
 ],
 "metadata": {
  "kernelspec": {
   "display_name": "Python 3",
   "language": "python",
   "name": "python3"
  },
  "language_info": {
   "codemirror_mode": {
    "name": "ipython",
    "version": 3
   },
   "file_extension": ".py",
   "mimetype": "text/x-python",
   "name": "python",
   "nbconvert_exporter": "python",
   "pygments_lexer": "ipython3",
   "version": "3.9.5"
  },
  "papermill": {
   "default_parameters": {},
   "duration": 6.820803,
   "end_time": "2021-08-29T02:00:11.685279",
   "environment_variables": {},
   "exception": null,
   "input_path": "eBay_Overview.ipynb",
   "output_path": "eBay_Overview.ipynb",
   "parameters": {},
   "start_time": "2021-08-29T02:00:04.864476",
   "version": "2.3.3"
  }
 },
 "nbformat": 4,
 "nbformat_minor": 5
}