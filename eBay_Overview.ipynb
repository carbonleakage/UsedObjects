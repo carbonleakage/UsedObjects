{
 "cells": [
  {
   "cell_type": "code",
   "execution_count": 1,
   "id": "reverse-picking",
   "metadata": {
    "execution": {
     "iopub.execute_input": "2021-11-04T23:30:07.854462Z",
     "iopub.status.busy": "2021-11-04T23:30:07.851927Z",
     "iopub.status.idle": "2021-11-04T23:30:08.800431Z",
     "shell.execute_reply": "2021-11-04T23:30:08.802263Z"
    },
    "papermill": {
     "duration": 0.996985,
     "end_time": "2021-11-04T23:30:08.802996",
     "exception": false,
     "start_time": "2021-11-04T23:30:07.806011",
     "status": "completed"
    },
    "tags": []
   },
   "outputs": [],
   "source": [
    "import pandas as pd\n",
    "import sqlite3"
   ]
  },
  {
   "cell_type": "code",
   "execution_count": 2,
   "id": "innovative-syndrome",
   "metadata": {
    "execution": {
     "iopub.execute_input": "2021-11-04T23:30:08.859003Z",
     "iopub.status.busy": "2021-11-04T23:30:08.856733Z",
     "iopub.status.idle": "2021-11-04T23:30:09.594521Z",
     "shell.execute_reply": "2021-11-04T23:30:09.595918Z"
    },
    "papermill": {
     "duration": 0.771781,
     "end_time": "2021-11-04T23:30:09.596430",
     "exception": false,
     "start_time": "2021-11-04T23:30:08.824649",
     "status": "completed"
    },
    "tags": []
   },
   "outputs": [],
   "source": [
    "timestamps = pd.read_sql(\"select distinct record_time from EBAY_TOP_BERLIN order by record_time desc limit 2\", sqlite3.connect(\"UsedObjects.db\"))"
   ]
  },
  {
   "cell_type": "code",
   "execution_count": 3,
   "id": "periodic-identification",
   "metadata": {
    "execution": {
     "iopub.execute_input": "2021-11-04T23:30:09.667654Z",
     "iopub.status.busy": "2021-11-04T23:30:09.665378Z",
     "iopub.status.idle": "2021-11-04T23:30:09.688270Z",
     "shell.execute_reply": "2021-11-04T23:30:09.689766Z"
    },
    "papermill": {
     "duration": 0.073259,
     "end_time": "2021-11-04T23:30:09.690258",
     "exception": false,
     "start_time": "2021-11-04T23:30:09.616999",
     "status": "completed"
    },
    "tags": []
   },
   "outputs": [
    {
     "data": {
      "text/html": [
       "<div>\n",
       "<style scoped>\n",
       "    .dataframe tbody tr th:only-of-type {\n",
       "        vertical-align: middle;\n",
       "    }\n",
       "\n",
       "    .dataframe tbody tr th {\n",
       "        vertical-align: top;\n",
       "    }\n",
       "\n",
       "    .dataframe thead th {\n",
       "        text-align: right;\n",
       "    }\n",
       "</style>\n",
       "<table border=\"1\" class=\"dataframe\">\n",
       "  <thead>\n",
       "    <tr style=\"text-align: right;\">\n",
       "      <th></th>\n",
       "      <th>RECORD_TIME</th>\n",
       "    </tr>\n",
       "  </thead>\n",
       "  <tbody>\n",
       "    <tr>\n",
       "      <th>0</th>\n",
       "      <td>2021-11-05 00:30</td>\n",
       "    </tr>\n",
       "    <tr>\n",
       "      <th>1</th>\n",
       "      <td>2021-11-05 00:00</td>\n",
       "    </tr>\n",
       "  </tbody>\n",
       "</table>\n",
       "</div>"
      ],
      "text/plain": [
       "        RECORD_TIME\n",
       "0  2021-11-05 00:30\n",
       "1  2021-11-05 00:00"
      ]
     },
     "execution_count": 3,
     "metadata": {},
     "output_type": "execute_result"
    }
   ],
   "source": [
    "timestamps"
   ]
  },
  {
   "cell_type": "code",
   "execution_count": 4,
   "id": "alternate-victory",
   "metadata": {
    "execution": {
     "iopub.execute_input": "2021-11-04T23:30:09.745936Z",
     "iopub.status.busy": "2021-11-04T23:30:09.743652Z",
     "iopub.status.idle": "2021-11-04T23:30:10.822682Z",
     "shell.execute_reply": "2021-11-04T23:30:10.824183Z"
    },
    "papermill": {
     "duration": 1.111526,
     "end_time": "2021-11-04T23:30:10.824746",
     "exception": false,
     "start_time": "2021-11-04T23:30:09.713220",
     "status": "completed"
    },
    "tags": []
   },
   "outputs": [],
   "source": [
    "df = pd.read_sql(\"select * from EBAY_TOP_BERLIN where record_time in (select distinct record_time from EBAY_TOP_BERLIN order by record_time desc limit 2)\", sqlite3.connect(\"UsedObjects.db\"))"
   ]
  },
  {
   "cell_type": "code",
   "execution_count": 5,
   "id": "popular-active",
   "metadata": {
    "execution": {
     "iopub.execute_input": "2021-11-04T23:30:10.906781Z",
     "iopub.status.busy": "2021-11-04T23:30:10.900897Z",
     "iopub.status.idle": "2021-11-04T23:30:10.925157Z",
     "shell.execute_reply": "2021-11-04T23:30:10.926633Z"
    },
    "papermill": {
     "duration": 0.080301,
     "end_time": "2021-11-04T23:30:10.927116",
     "exception": false,
     "start_time": "2021-11-04T23:30:10.846815",
     "status": "completed"
    },
    "tags": []
   },
   "outputs": [],
   "source": [
    "df_pivot = df.pivot_table(index=\"PRODUCT\", columns = \"RECORD_TIME\", values = \"LISTING_COUNT\")"
   ]
  },
  {
   "cell_type": "code",
   "execution_count": 6,
   "id": "union-huntington",
   "metadata": {
    "execution": {
     "iopub.execute_input": "2021-11-04T23:30:10.989197Z",
     "iopub.status.busy": "2021-11-04T23:30:10.986746Z",
     "iopub.status.idle": "2021-11-04T23:30:10.992772Z",
     "shell.execute_reply": "2021-11-04T23:30:10.995289Z"
    },
    "papermill": {
     "duration": 0.047285,
     "end_time": "2021-11-04T23:30:10.996096",
     "exception": false,
     "start_time": "2021-11-04T23:30:10.948811",
     "status": "completed"
    },
    "tags": []
   },
   "outputs": [],
   "source": [
    "df_pivot.columns = [\"stamp_1\", \"stamp_2\"]\n",
    "df_pivot_diff = df_pivot.diff(axis=1)"
   ]
  },
  {
   "cell_type": "code",
   "execution_count": 7,
   "id": "fifth-motion",
   "metadata": {
    "execution": {
     "iopub.execute_input": "2021-11-04T23:30:11.057160Z",
     "iopub.status.busy": "2021-11-04T23:30:11.054463Z",
     "iopub.status.idle": "2021-11-04T23:30:12.844507Z",
     "shell.execute_reply": "2021-11-04T23:30:12.846021Z"
    },
    "papermill": {
     "duration": 1.827864,
     "end_time": "2021-11-04T23:30:12.846523",
     "exception": false,
     "start_time": "2021-11-04T23:30:11.018659",
     "status": "completed"
    },
    "tags": []
   },
   "outputs": [
    {
     "data": {
      "text/plain": [
       "<AxesSubplot:ylabel='PRODUCT'>"
      ]
     },
     "execution_count": 7,
     "metadata": {},
     "output_type": "execute_result"
    },
    {
     "data": {
      "image/png": "[encoded data removed]",
      "text/plain": [
       "<Figure size 432x288 with 1 Axes>"
      ]
     },
     "metadata": {
      "needs_background": "light"
     },
     "output_type": "display_data"
    }
   ],
   "source": [
    "df_pivot_diff.sort_values(\"stamp_2\", ascending = False)[\"stamp_2\"].head(10).plot.barh()"
   ]
  },
  {
   "cell_type": "code",
   "execution_count": null,
   "id": "extra-executive",
   "metadata": {
    "papermill": {
     "duration": 0.023672,
     "end_time": "2021-11-04T23:30:12.895527",
     "exception": false,
     "start_time": "2021-11-04T23:30:12.871855",
     "status": "completed"
    },
    "tags": []
   },
   "outputs": [],
   "source": []
  }
 ],
 "metadata": {
  "kernelspec": {
   "display_name": "Python 3",
   "language": "python",
   "name": "python3"
  },
  "language_info": {
   "codemirror_mode": {
    "name": "ipython",
    "version": 3
   },
   "file_extension": ".py",
   "mimetype": "text/x-python",
   "name": "python",
   "nbconvert_exporter": "python",
   "pygments_lexer": "ipython3",
   "version": "3.9.5"
  },
  "papermill": {
   "default_parameters": {},
   "duration": 8.747416,
   "end_time": "2021-11-04T23:30:13.745708",
   "environment_variables": {},
   "exception": null,
   "input_path": "eBay_Overview.ipynb",
   "output_path": "eBay_Overview.ipynb",
   "parameters": {},
   "start_time": "2021-11-04T23:30:04.998292",
   "version": "2.3.3"
  }
 },
 "nbformat": 4,
 "nbformat_minor": 5
}