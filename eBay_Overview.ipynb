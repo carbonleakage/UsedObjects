{
 "cells": [
  {
   "cell_type": "code",
   "execution_count": 1,
   "id": "reverse-picking",
   "metadata": {
    "execution": {
     "iopub.execute_input": "2021-12-07T16:00:07.410265Z",
     "iopub.status.busy": "2021-12-07T16:00:07.378303Z",
     "iopub.status.idle": "2021-12-07T16:00:08.310078Z",
     "shell.execute_reply": "2021-12-07T16:00:08.311394Z"
    },
    "papermill": {
     "duration": 0.992483,
     "end_time": "2021-12-07T16:00:08.312058",
     "exception": false,
     "start_time": "2021-12-07T16:00:07.319575",
     "status": "completed"
    },
    "tags": []
   },
   "outputs": [],
   "source": [
    "import pandas as pd\n",
    "import sqlite3"
   ]
  },
  {
   "cell_type": "code",
   "execution_count": 2,
   "id": "innovative-syndrome",
   "metadata": {
    "execution": {
     "iopub.execute_input": "2021-12-07T16:00:08.362568Z",
     "iopub.status.busy": "2021-12-07T16:00:08.360174Z",
     "iopub.status.idle": "2021-12-07T16:00:09.375990Z",
     "shell.execute_reply": "2021-12-07T16:00:09.377577Z"
    },
    "papermill": {
     "duration": 1.045938,
     "end_time": "2021-12-07T16:00:09.378061",
     "exception": false,
     "start_time": "2021-12-07T16:00:08.332123",
     "status": "completed"
    },
    "tags": []
   },
   "outputs": [],
   "source": [
    "timestamps = pd.read_sql(\"select distinct record_time from EBAY_TOP_BERLIN order by record_time desc limit 2\", sqlite3.connect(\"UsedObjects.db\"))"
   ]
  },
  {
   "cell_type": "code",
   "execution_count": 3,
   "id": "periodic-identification",
   "metadata": {
    "execution": {
     "iopub.execute_input": "2021-12-07T16:00:09.444749Z",
     "iopub.status.busy": "2021-12-07T16:00:09.442487Z",
     "iopub.status.idle": "2021-12-07T16:00:09.465068Z",
     "shell.execute_reply": "2021-12-07T16:00:09.466496Z"
    },
    "papermill": {
     "duration": 0.06972,
     "end_time": "2021-12-07T16:00:09.467009",
     "exception": false,
     "start_time": "2021-12-07T16:00:09.397289",
     "status": "completed"
    },
    "tags": []
   },
   "outputs": [
    {
     "data": {
      "text/html": [
       "<div>\n",
       "<style scoped>\n",
       "    .dataframe tbody tr th:only-of-type {\n",
       "        vertical-align: middle;\n",
       "    }\n",
       "\n",
       "    .dataframe tbody tr th {\n",
       "        vertical-align: top;\n",
       "    }\n",
       "\n",
       "    .dataframe thead th {\n",
       "        text-align: right;\n",
       "    }\n",
       "</style>\n",
       "<table border=\"1\" class=\"dataframe\">\n",
       "  <thead>\n",
       "    <tr style=\"text-align: right;\">\n",
       "      <th></th>\n",
       "      <th>RECORD_TIME</th>\n",
       "    </tr>\n",
       "  </thead>\n",
       "  <tbody>\n",
       "    <tr>\n",
       "      <th>0</th>\n",
       "      <td>2021-12-07 17:00</td>\n",
       "    </tr>\n",
       "    <tr>\n",
       "      <th>1</th>\n",
       "      <td>2021-12-07 16:30</td>\n",
       "    </tr>\n",
       "  </tbody>\n",
       "</table>\n",
       "</div>"
      ],
      "text/plain": [
       "        RECORD_TIME\n",
       "0  2021-12-07 17:00\n",
       "1  2021-12-07 16:30"
      ]
     },
     "execution_count": 3,
     "metadata": {},
     "output_type": "execute_result"
    }
   ],
   "source": [
    "timestamps"
   ]
  },
  {
   "cell_type": "code",
   "execution_count": 4,
   "id": "alternate-victory",
   "metadata": {
    "execution": {
     "iopub.execute_input": "2021-12-07T16:00:09.533686Z",
     "iopub.status.busy": "2021-12-07T16:00:09.529903Z",
     "iopub.status.idle": "2021-12-07T16:00:10.970317Z",
     "shell.execute_reply": "2021-12-07T16:00:10.971760Z"
    },
    "papermill": {
     "duration": 1.484152,
     "end_time": "2021-12-07T16:00:10.972229",
     "exception": false,
     "start_time": "2021-12-07T16:00:09.488077",
     "status": "completed"
    },
    "tags": []
   },
   "outputs": [],
   "source": [
    "df = pd.read_sql(\"select * from EBAY_TOP_BERLIN where record_time in (select distinct record_time from EBAY_TOP_BERLIN order by record_time desc limit 2)\", sqlite3.connect(\"UsedObjects.db\"))"
   ]
  },
  {
   "cell_type": "code",
   "execution_count": 5,
   "id": "popular-active",
   "metadata": {
    "execution": {
     "iopub.execute_input": "2021-12-07T16:00:11.075943Z",
     "iopub.status.busy": "2021-12-07T16:00:11.049961Z",
     "iopub.status.idle": "2021-12-07T16:00:11.107784Z",
     "shell.execute_reply": "2021-12-07T16:00:11.110018Z"
    },
    "papermill": {
     "duration": 0.117695,
     "end_time": "2021-12-07T16:00:11.110928",
     "exception": false,
     "start_time": "2021-12-07T16:00:10.993233",
     "status": "completed"
    },
    "tags": []
   },
   "outputs": [],
   "source": [
    "df_pivot = df.pivot_table(index=\"PRODUCT\", columns = \"RECORD_TIME\", values = \"LISTING_COUNT\")"
   ]
  },
  {
   "cell_type": "code",
   "execution_count": 6,
   "id": "union-huntington",
   "metadata": {
    "execution": {
     "iopub.execute_input": "2021-12-07T16:00:11.203901Z",
     "iopub.status.busy": "2021-12-07T16:00:11.200659Z",
     "iopub.status.idle": "2021-12-07T16:00:11.209392Z",
     "shell.execute_reply": "2021-12-07T16:00:11.212424Z"
    },
    "papermill": {
     "duration": 0.068106,
     "end_time": "2021-12-07T16:00:11.213419",
     "exception": false,
     "start_time": "2021-12-07T16:00:11.145313",
     "status": "completed"
    },
    "tags": []
   },
   "outputs": [],
   "source": [
    "df_pivot.columns = [\"stamp_1\", \"stamp_2\"]\n",
    "df_pivot_diff = df_pivot.diff(axis=1)"
   ]
  },
  {
   "cell_type": "code",
   "execution_count": 7,
   "id": "fifth-motion",
   "metadata": {
    "execution": {
     "iopub.execute_input": "2021-12-07T16:00:11.303445Z",
     "iopub.status.busy": "2021-12-07T16:00:11.299177Z",
     "iopub.status.idle": "2021-12-07T16:00:13.050397Z",
     "shell.execute_reply": "2021-12-07T16:00:13.051887Z"
    },
    "papermill": {
     "duration": 1.806205,
     "end_time": "2021-12-07T16:00:13.052357",
     "exception": false,
     "start_time": "2021-12-07T16:00:11.246152",
     "status": "completed"
    },
    "tags": []
   },
   "outputs": [
    {
     "data": {
      "text/plain": [
       "<AxesSubplot:ylabel='PRODUCT'>"
      ]
     },
     "execution_count": 7,
     "metadata": {},
     "output_type": "execute_result"
    },
    {
     "data": {
      "image/png": "[encoded data removed]",
      "text/plain": [
       "<Figure size 432x288 with 1 Axes>"
      ]
     },
     "metadata": {
      "needs_background": "light"
     },
     "output_type": "display_data"
    }
   ],
   "source": [
    "df_pivot_diff.sort_values(\"stamp_2\", ascending = False)[\"stamp_2\"].head(10).plot.barh()"
   ]
  },
  {
   "cell_type": "code",
   "execution_count": null,
   "id": "extra-executive",
   "metadata": {
    "papermill": {
     "duration": 0.02208,
     "end_time": "2021-12-07T16:00:13.098911",
     "exception": false,
     "start_time": "2021-12-07T16:00:13.076831",
     "status": "completed"
    },
    "tags": []
   },
   "outputs": [],
   "source": []
  }
 ],
 "metadata": {
  "kernelspec": {
   "display_name": "Python 3",
   "language": "python",
   "name": "python3"
  },
  "language_info": {
   "codemirror_mode": {
    "name": "ipython",
    "version": 3
   },
   "file_extension": ".py",
   "mimetype": "text/x-python",
   "name": "python",
   "nbconvert_exporter": "python",
   "pygments_lexer": "ipython3",
   "version": "3.9.5"
  },
  "papermill": {
   "default_parameters": {},
   "duration": 9.93695,
   "end_time": "2021-12-07T16:00:14.540447",
   "environment_variables": {},
   "exception": null,
   "input_path": "eBay_Overview.ipynb",
   "output_path": "eBay_Overview.ipynb",
   "parameters": {},
   "start_time": "2021-12-07T16:00:04.603497",
   "version": "2.3.3"
  }
 },
 "nbformat": 4,
 "nbformat_minor": 5
}