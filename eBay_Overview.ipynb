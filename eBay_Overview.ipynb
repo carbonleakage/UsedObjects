{
 "cells": [
  {
   "cell_type": "code",
   "execution_count": 1,
   "id": "reverse-picking",
   "metadata": {
    "execution": {
     "iopub.execute_input": "2021-08-22T09:00:06.659609Z",
     "iopub.status.busy": "2021-08-22T09:00:06.657569Z",
     "iopub.status.idle": "2021-08-22T09:00:07.463778Z",
     "shell.execute_reply": "2021-08-22T09:00:07.465008Z"
    },
    "papermill": {
     "duration": 0.858651,
     "end_time": "2021-08-22T09:00:07.465623",
     "exception": false,
     "start_time": "2021-08-22T09:00:06.606972",
     "status": "completed"
    },
    "tags": []
   },
   "outputs": [],
   "source": [
    "import pandas as pd\n",
    "import sqlite3"
   ]
  },
  {
   "cell_type": "code",
   "execution_count": 2,
   "id": "innovative-syndrome",
   "metadata": {
    "execution": {
     "iopub.execute_input": "2021-08-22T09:00:07.516961Z",
     "iopub.status.busy": "2021-08-22T09:00:07.515101Z",
     "iopub.status.idle": "2021-08-22T09:00:07.618005Z",
     "shell.execute_reply": "2021-08-22T09:00:07.619306Z"
    },
    "papermill": {
     "duration": 0.132575,
     "end_time": "2021-08-22T09:00:07.619725",
     "exception": false,
     "start_time": "2021-08-22T09:00:07.487150",
     "status": "completed"
    },
    "tags": []
   },
   "outputs": [],
   "source": [
    "timestamps = pd.read_sql(\"select distinct record_time from EBAY_TOP_BERLIN order by record_time desc limit 2\", sqlite3.connect(\"UsedObjects.db\"))"
   ]
  },
  {
   "cell_type": "code",
   "execution_count": 3,
   "id": "periodic-identification",
   "metadata": {
    "execution": {
     "iopub.execute_input": "2021-08-22T09:00:07.687879Z",
     "iopub.status.busy": "2021-08-22T09:00:07.682770Z",
     "iopub.status.idle": "2021-08-22T09:00:07.702511Z",
     "shell.execute_reply": "2021-08-22T09:00:07.703813Z"
    },
    "papermill": {
     "duration": 0.063987,
     "end_time": "2021-08-22T09:00:07.704214",
     "exception": false,
     "start_time": "2021-08-22T09:00:07.640227",
     "status": "completed"
    },
    "tags": []
   },
   "outputs": [
    {
     "data": {
      "text/html": [
       "<div>\n",
       "<style scoped>\n",
       "    .dataframe tbody tr th:only-of-type {\n",
       "        vertical-align: middle;\n",
       "    }\n",
       "\n",
       "    .dataframe tbody tr th {\n",
       "        vertical-align: top;\n",
       "    }\n",
       "\n",
       "    .dataframe thead th {\n",
       "        text-align: right;\n",
       "    }\n",
       "</style>\n",
       "<table border=\"1\" class=\"dataframe\">\n",
       "  <thead>\n",
       "    <tr style=\"text-align: right;\">\n",
       "      <th></th>\n",
       "      <th>RECORD_TIME</th>\n",
       "    </tr>\n",
       "  </thead>\n",
       "  <tbody>\n",
       "    <tr>\n",
       "      <th>0</th>\n",
       "      <td>2021-08-22 11:00</td>\n",
       "    </tr>\n",
       "    <tr>\n",
       "      <th>1</th>\n",
       "      <td>2021-08-22 10:30</td>\n",
       "    </tr>\n",
       "  </tbody>\n",
       "</table>\n",
       "</div>"
      ],
      "text/plain": [
       "        RECORD_TIME\n",
       "0  2021-08-22 11:00\n",
       "1  2021-08-22 10:30"
      ]
     },
     "execution_count": 3,
     "metadata": {},
     "output_type": "execute_result"
    }
   ],
   "source": [
    "timestamps"
   ]
  },
  {
   "cell_type": "code",
   "execution_count": 4,
   "id": "alternate-victory",
   "metadata": {
    "execution": {
     "iopub.execute_input": "2021-08-22T09:00:07.756893Z",
     "iopub.status.busy": "2021-08-22T09:00:07.754573Z",
     "iopub.status.idle": "2021-08-22T09:00:07.910791Z",
     "shell.execute_reply": "2021-08-22T09:00:07.912168Z"
    },
    "papermill": {
     "duration": 0.186636,
     "end_time": "2021-08-22T09:00:07.912610",
     "exception": false,
     "start_time": "2021-08-22T09:00:07.725974",
     "status": "completed"
    },
    "tags": []
   },
   "outputs": [],
   "source": [
    "df = pd.read_sql(\"select * from EBAY_TOP_BERLIN where record_time in (select distinct record_time from EBAY_TOP_BERLIN order by record_time desc limit 2)\", sqlite3.connect(\"UsedObjects.db\"))"
   ]
  },
  {
   "cell_type": "code",
   "execution_count": 5,
   "id": "popular-active",
   "metadata": {
    "execution": {
     "iopub.execute_input": "2021-08-22T09:00:07.982638Z",
     "iopub.status.busy": "2021-08-22T09:00:07.971635Z",
     "iopub.status.idle": "2021-08-22T09:00:07.998972Z",
     "shell.execute_reply": "2021-08-22T09:00:08.000184Z"
    },
    "papermill": {
     "duration": 0.067247,
     "end_time": "2021-08-22T09:00:08.000585",
     "exception": false,
     "start_time": "2021-08-22T09:00:07.933338",
     "status": "completed"
    },
    "tags": []
   },
   "outputs": [],
   "source": [
    "df_pivot = df.pivot_table(index=\"PRODUCT\", columns = \"RECORD_TIME\", values = \"LISTING_COUNT\")"
   ]
  },
  {
   "cell_type": "code",
   "execution_count": 6,
   "id": "union-huntington",
   "metadata": {
    "execution": {
     "iopub.execute_input": "2021-08-22T09:00:08.059763Z",
     "iopub.status.busy": "2021-08-22T09:00:08.057298Z",
     "iopub.status.idle": "2021-08-22T09:00:08.063297Z",
     "shell.execute_reply": "2021-08-22T09:00:08.064571Z"
    },
    "papermill": {
     "duration": 0.042214,
     "end_time": "2021-08-22T09:00:08.064991",
     "exception": false,
     "start_time": "2021-08-22T09:00:08.022777",
     "status": "completed"
    },
    "tags": []
   },
   "outputs": [],
   "source": [
    "df_pivot.columns = [\"stamp_1\", \"stamp_2\"]\n",
    "df_pivot_diff = df_pivot.diff(axis=1)"
   ]
  },
  {
   "cell_type": "code",
   "execution_count": 7,
   "id": "fifth-motion",
   "metadata": {
    "execution": {
     "iopub.execute_input": "2021-08-22T09:00:08.125744Z",
     "iopub.status.busy": "2021-08-22T09:00:08.122885Z",
     "iopub.status.idle": "2021-08-22T09:00:09.601653Z",
     "shell.execute_reply": "2021-08-22T09:00:09.603073Z"
    },
    "papermill": {
     "duration": 1.515133,
     "end_time": "2021-08-22T09:00:09.603520",
     "exception": false,
     "start_time": "2021-08-22T09:00:08.088387",
     "status": "completed"
    },
    "tags": []
   },
   "outputs": [
    {
     "data": {
      "text/plain": [
       "<AxesSubplot:ylabel='PRODUCT'>"
      ]
     },
     "execution_count": 7,
     "metadata": {},
     "output_type": "execute_result"
    },
    {
     "data": {
      "image/png": "[encoded data removed]",
      "text/plain": [
       "<Figure size 432x288 with 1 Axes>"
      ]
     },
     "metadata": {
      "needs_background": "light"
     },
     "output_type": "display_data"
    }
   ],
   "source": [
    "df_pivot_diff.sort_values(\"stamp_2\", ascending = False)[\"stamp_2\"].head(10).plot.barh()"
   ]
  },
  {
   "cell_type": "code",
   "execution_count": null,
   "id": "extra-executive",
   "metadata": {
    "papermill": {
     "duration": 0.022422,
     "end_time": "2021-08-22T09:00:09.650728",
     "exception": false,
     "start_time": "2021-08-22T09:00:09.628306",
     "status": "completed"
    },
    "tags": []
   },
   "outputs": [],
   "source": []
  }
 ],
 "metadata": {
  "kernelspec": {
   "display_name": "Python 3",
   "language": "python",
   "name": "python3"
  },
  "language_info": {
   "codemirror_mode": {
    "name": "ipython",
    "version": 3
   },
   "file_extension": ".py",
   "mimetype": "text/x-python",
   "name": "python",
   "nbconvert_exporter": "python",
   "pygments_lexer": "ipython3",
   "version": "3.9.5"
  },
  "papermill": {
   "default_parameters": {},
   "duration": 6.830506,
   "end_time": "2021-08-22T09:00:11.026473",
   "environment_variables": {},
   "exception": null,
   "input_path": "eBay_Overview.ipynb",
   "output_path": "eBay_Overview.ipynb",
   "parameters": {},
   "start_time": "2021-08-22T09:00:04.195967",
   "version": "2.3.3"
  }
 },
 "nbformat": 4,
 "nbformat_minor": 5
}