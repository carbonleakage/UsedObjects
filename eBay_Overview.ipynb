{
 "cells": [
  {
   "cell_type": "code",
   "execution_count": 1,
   "id": "reverse-picking",
   "metadata": {
    "execution": {
     "iopub.execute_input": "2021-08-10T10:30:04.412367Z",
     "iopub.status.busy": "2021-08-10T10:30:04.411596Z",
     "iopub.status.idle": "2021-08-10T10:30:05.049689Z",
     "shell.execute_reply": "2021-08-10T10:30:05.048985Z"
    },
    "papermill": {
     "duration": 0.657112,
     "end_time": "2021-08-10T10:30:05.049882",
     "exception": false,
     "start_time": "2021-08-10T10:30:04.392770",
     "status": "completed"
    },
    "tags": []
   },
   "outputs": [],
   "source": [
    "import pandas as pd\n",
    "import sqlite3"
   ]
  },
  {
   "cell_type": "code",
   "execution_count": 2,
   "id": "innovative-syndrome",
   "metadata": {
    "execution": {
     "iopub.execute_input": "2021-08-10T10:30:05.076406Z",
     "iopub.status.busy": "2021-08-10T10:30:05.075430Z",
     "iopub.status.idle": "2021-08-10T10:30:05.420583Z",
     "shell.execute_reply": "2021-08-10T10:30:05.419836Z"
    },
    "papermill": {
     "duration": 0.357724,
     "end_time": "2021-08-10T10:30:05.420745",
     "exception": false,
     "start_time": "2021-08-10T10:30:05.063021",
     "status": "completed"
    },
    "tags": []
   },
   "outputs": [],
   "source": [
    "timestamps = pd.read_sql(\"select distinct record_time from EBAY_TOP_BERLIN order by record_time desc limit 2\", sqlite3.connect(\"UsedObjects.db\"))"
   ]
  },
  {
   "cell_type": "code",
   "execution_count": 3,
   "id": "periodic-identification",
   "metadata": {
    "execution": {
     "iopub.execute_input": "2021-08-10T10:30:05.453106Z",
     "iopub.status.busy": "2021-08-10T10:30:05.452326Z",
     "iopub.status.idle": "2021-08-10T10:30:05.463922Z",
     "shell.execute_reply": "2021-08-10T10:30:05.463217Z"
    },
    "papermill": {
     "duration": 0.031054,
     "end_time": "2021-08-10T10:30:05.464071",
     "exception": false,
     "start_time": "2021-08-10T10:30:05.433017",
     "status": "completed"
    },
    "tags": []
   },
   "outputs": [
    {
     "data": {
      "text/html": [
       "<div>\n",
       "<style scoped>\n",
       "    .dataframe tbody tr th:only-of-type {\n",
       "        vertical-align: middle;\n",
       "    }\n",
       "\n",
       "    .dataframe tbody tr th {\n",
       "        vertical-align: top;\n",
       "    }\n",
       "\n",
       "    .dataframe thead th {\n",
       "        text-align: right;\n",
       "    }\n",
       "</style>\n",
       "<table border=\"1\" class=\"dataframe\">\n",
       "  <thead>\n",
       "    <tr style=\"text-align: right;\">\n",
       "      <th></th>\n",
       "      <th>RECORD_TIME</th>\n",
       "    </tr>\n",
       "  </thead>\n",
       "  <tbody>\n",
       "    <tr>\n",
       "      <th>0</th>\n",
       "      <td>2021-08-10 12:30</td>\n",
       "    </tr>\n",
       "    <tr>\n",
       "      <th>1</th>\n",
       "      <td>2021-08-10 12:00</td>\n",
       "    </tr>\n",
       "  </tbody>\n",
       "</table>\n",
       "</div>"
      ],
      "text/plain": [
       "        RECORD_TIME\n",
       "0  2021-08-10 12:30\n",
       "1  2021-08-10 12:00"
      ]
     },
     "execution_count": 3,
     "metadata": {},
     "output_type": "execute_result"
    }
   ],
   "source": [
    "timestamps"
   ]
  },
  {
   "cell_type": "code",
   "execution_count": 4,
   "id": "alternate-victory",
   "metadata": {
    "execution": {
     "iopub.execute_input": "2021-08-10T10:30:05.490494Z",
     "iopub.status.busy": "2021-08-10T10:30:05.489745Z",
     "iopub.status.idle": "2021-08-10T10:30:05.502481Z",
     "shell.execute_reply": "2021-08-10T10:30:05.503019Z"
    },
    "papermill": {
     "duration": 0.028847,
     "end_time": "2021-08-10T10:30:05.503199",
     "exception": false,
     "start_time": "2021-08-10T10:30:05.474352",
     "status": "completed"
    },
    "tags": []
   },
   "outputs": [],
   "source": [
    "df = pd.read_sql(\"select * from EBAY_TOP_BERLIN where record_time in (select distinct record_time from EBAY_TOP_BERLIN order by record_time desc limit 2)\", sqlite3.connect(\"UsedObjects.db\"))"
   ]
  },
  {
   "cell_type": "code",
   "execution_count": 5,
   "id": "popular-active",
   "metadata": {
    "execution": {
     "iopub.execute_input": "2021-08-10T10:30:05.533606Z",
     "iopub.status.busy": "2021-08-10T10:30:05.532462Z",
     "iopub.status.idle": "2021-08-10T10:30:05.550502Z",
     "shell.execute_reply": "2021-08-10T10:30:05.551568Z"
    },
    "papermill": {
     "duration": 0.040357,
     "end_time": "2021-08-10T10:30:05.551888",
     "exception": false,
     "start_time": "2021-08-10T10:30:05.511531",
     "status": "completed"
    },
    "tags": []
   },
   "outputs": [],
   "source": [
    "df_pivot = df.pivot_table(index=\"PRODUCT\", columns = \"RECORD_TIME\", values = \"LISTING_COUNT\")"
   ]
  },
  {
   "cell_type": "code",
   "execution_count": 6,
   "id": "union-huntington",
   "metadata": {
    "execution": {
     "iopub.execute_input": "2021-08-10T10:30:05.579856Z",
     "iopub.status.busy": "2021-08-10T10:30:05.579125Z",
     "iopub.status.idle": "2021-08-10T10:30:05.581859Z",
     "shell.execute_reply": "2021-08-10T10:30:05.582388Z"
    },
    "papermill": {
     "duration": 0.018899,
     "end_time": "2021-08-10T10:30:05.582567",
     "exception": false,
     "start_time": "2021-08-10T10:30:05.563668",
     "status": "completed"
    },
    "tags": []
   },
   "outputs": [],
   "source": [
    "df_pivot.columns = [\"stamp_1\", \"stamp_2\"]\n",
    "df_pivot_diff = df_pivot.diff(axis=1)"
   ]
  },
  {
   "cell_type": "code",
   "execution_count": 7,
   "id": "fifth-motion",
   "metadata": {
    "execution": {
     "iopub.execute_input": "2021-08-10T10:30:05.614664Z",
     "iopub.status.busy": "2021-08-10T10:30:05.613901Z",
     "iopub.status.idle": "2021-08-10T10:30:06.321467Z",
     "shell.execute_reply": "2021-08-10T10:30:06.322037Z"
    },
    "papermill": {
     "duration": 0.726828,
     "end_time": "2021-08-10T10:30:06.322228",
     "exception": false,
     "start_time": "2021-08-10T10:30:05.595400",
     "status": "completed"
    },
    "tags": []
   },
   "outputs": [
    {
     "data": {
      "text/plain": [
       "<AxesSubplot:ylabel='PRODUCT'>"
      ]
     },
     "execution_count": 7,
     "metadata": {},
     "output_type": "execute_result"
    },
    {
     "data": {
      "image/png": "[encoded data removed]",
      "text/plain": [
       "<Figure size 432x288 with 1 Axes>"
      ]
     },
     "metadata": {
      "needs_background": "light"
     },
     "output_type": "display_data"
    }
   ],
   "source": [
    "df_pivot_diff.sort_values(\"stamp_2\", ascending = False)[\"stamp_2\"].head(10).plot.barh()"
   ]
  },
  {
   "cell_type": "code",
   "execution_count": null,
   "id": "extra-executive",
   "metadata": {
    "papermill": {
     "duration": 0.011628,
     "end_time": "2021-08-10T10:30:06.344011",
     "exception": false,
     "start_time": "2021-08-10T10:30:06.332383",
     "status": "completed"
    },
    "tags": []
   },
   "outputs": [],
   "source": []
  }
 ],
 "metadata": {
  "kernelspec": {
   "display_name": "Python 3",
   "language": "python",
   "name": "python3"
  },
  "language_info": {
   "codemirror_mode": {
    "name": "ipython",
    "version": 3
   },
   "file_extension": ".py",
   "mimetype": "text/x-python",
   "name": "python",
   "nbconvert_exporter": "python",
   "pygments_lexer": "ipython3",
   "version": "3.8.8"
  },
  "papermill": {
   "default_parameters": {},
   "duration": 4.235124,
   "end_time": "2021-08-10T10:30:06.904046",
   "environment_variables": {},
   "exception": null,
   "input_path": "/Users/saravananshanmugam/Carbonleakage_Git/UsedObjects/eBay_Overview.ipynb",
   "output_path": "/Users/saravananshanmugam/Carbonleakage_Git/UsedObjects/eBay_Overview.ipynb",
   "parameters": {},
   "start_time": "2021-08-10T10:30:02.668922",
   "version": "2.3.3"
  }
 },
 "nbformat": 4,
 "nbformat_minor": 5
}