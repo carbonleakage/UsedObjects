{
 "cells": [
  {
   "cell_type": "code",
   "execution_count": 1,
   "id": "reverse-picking",
   "metadata": {
    "execution": {
     "iopub.execute_input": "2021-10-09T08:00:06.816912Z",
     "iopub.status.busy": "2021-10-09T08:00:06.814948Z",
     "iopub.status.idle": "2021-10-09T08:00:07.627931Z",
     "shell.execute_reply": "2021-10-09T08:00:07.629195Z"
    },
    "papermill": {
     "duration": 0.866049,
     "end_time": "2021-10-09T08:00:07.629817",
     "exception": false,
     "start_time": "2021-10-09T08:00:06.763768",
     "status": "completed"
    },
    "tags": []
   },
   "outputs": [],
   "source": [
    "import pandas as pd\n",
    "import sqlite3"
   ]
  },
  {
   "cell_type": "code",
   "execution_count": 2,
   "id": "innovative-syndrome",
   "metadata": {
    "execution": {
     "iopub.execute_input": "2021-10-09T08:00:07.681805Z",
     "iopub.status.busy": "2021-10-09T08:00:07.679865Z",
     "iopub.status.idle": "2021-10-09T08:00:08.163797Z",
     "shell.execute_reply": "2021-10-09T08:00:08.165063Z"
    },
    "papermill": {
     "duration": 0.513788,
     "end_time": "2021-10-09T08:00:08.165457",
     "exception": false,
     "start_time": "2021-10-09T08:00:07.651669",
     "status": "completed"
    },
    "tags": []
   },
   "outputs": [],
   "source": [
    "timestamps = pd.read_sql(\"select distinct record_time from EBAY_TOP_BERLIN order by record_time desc limit 2\", sqlite3.connect(\"UsedObjects.db\"))"
   ]
  },
  {
   "cell_type": "code",
   "execution_count": 3,
   "id": "periodic-identification",
   "metadata": {
    "execution": {
     "iopub.execute_input": "2021-10-09T08:00:08.232422Z",
     "iopub.status.busy": "2021-10-09T08:00:08.230315Z",
     "iopub.status.idle": "2021-10-09T08:00:08.250613Z",
     "shell.execute_reply": "2021-10-09T08:00:08.251965Z"
    },
    "papermill": {
     "duration": 0.066178,
     "end_time": "2021-10-09T08:00:08.252422",
     "exception": false,
     "start_time": "2021-10-09T08:00:08.186244",
     "status": "completed"
    },
    "tags": []
   },
   "outputs": [
    {
     "data": {
      "text/html": [
       "<div>\n",
       "<style scoped>\n",
       "    .dataframe tbody tr th:only-of-type {\n",
       "        vertical-align: middle;\n",
       "    }\n",
       "\n",
       "    .dataframe tbody tr th {\n",
       "        vertical-align: top;\n",
       "    }\n",
       "\n",
       "    .dataframe thead th {\n",
       "        text-align: right;\n",
       "    }\n",
       "</style>\n",
       "<table border=\"1\" class=\"dataframe\">\n",
       "  <thead>\n",
       "    <tr style=\"text-align: right;\">\n",
       "      <th></th>\n",
       "      <th>RECORD_TIME</th>\n",
       "    </tr>\n",
       "  </thead>\n",
       "  <tbody>\n",
       "    <tr>\n",
       "      <th>0</th>\n",
       "      <td>2021-10-09 10:00</td>\n",
       "    </tr>\n",
       "    <tr>\n",
       "      <th>1</th>\n",
       "      <td>2021-10-09 09:30</td>\n",
       "    </tr>\n",
       "  </tbody>\n",
       "</table>\n",
       "</div>"
      ],
      "text/plain": [
       "        RECORD_TIME\n",
       "0  2021-10-09 10:00\n",
       "1  2021-10-09 09:30"
      ]
     },
     "execution_count": 3,
     "metadata": {},
     "output_type": "execute_result"
    }
   ],
   "source": [
    "timestamps"
   ]
  },
  {
   "cell_type": "code",
   "execution_count": 4,
   "id": "alternate-victory",
   "metadata": {
    "execution": {
     "iopub.execute_input": "2021-10-09T08:00:08.317527Z",
     "iopub.status.busy": "2021-10-09T08:00:08.315387Z",
     "iopub.status.idle": "2021-10-09T08:00:09.031680Z",
     "shell.execute_reply": "2021-10-09T08:00:09.032976Z"
    },
    "papermill": {
     "duration": 0.751891,
     "end_time": "2021-10-09T08:00:09.033374",
     "exception": false,
     "start_time": "2021-10-09T08:00:08.281483",
     "status": "completed"
    },
    "tags": []
   },
   "outputs": [],
   "source": [
    "df = pd.read_sql(\"select * from EBAY_TOP_BERLIN where record_time in (select distinct record_time from EBAY_TOP_BERLIN order by record_time desc limit 2)\", sqlite3.connect(\"UsedObjects.db\"))"
   ]
  },
  {
   "cell_type": "code",
   "execution_count": 5,
   "id": "popular-active",
   "metadata": {
    "execution": {
     "iopub.execute_input": "2021-10-09T08:00:09.103712Z",
     "iopub.status.busy": "2021-10-09T08:00:09.091220Z",
     "iopub.status.idle": "2021-10-09T08:00:09.120565Z",
     "shell.execute_reply": "2021-10-09T08:00:09.121917Z"
    },
    "papermill": {
     "duration": 0.068358,
     "end_time": "2021-10-09T08:00:09.122354",
     "exception": false,
     "start_time": "2021-10-09T08:00:09.053996",
     "status": "completed"
    },
    "tags": []
   },
   "outputs": [],
   "source": [
    "df_pivot = df.pivot_table(index=\"PRODUCT\", columns = \"RECORD_TIME\", values = \"LISTING_COUNT\")"
   ]
  },
  {
   "cell_type": "code",
   "execution_count": 6,
   "id": "union-huntington",
   "metadata": {
    "execution": {
     "iopub.execute_input": "2021-10-09T08:00:09.179833Z",
     "iopub.status.busy": "2021-10-09T08:00:09.177710Z",
     "iopub.status.idle": "2021-10-09T08:00:09.183281Z",
     "shell.execute_reply": "2021-10-09T08:00:09.184602Z"
    },
    "papermill": {
     "duration": 0.041404,
     "end_time": "2021-10-09T08:00:09.185020",
     "exception": false,
     "start_time": "2021-10-09T08:00:09.143616",
     "status": "completed"
    },
    "tags": []
   },
   "outputs": [],
   "source": [
    "df_pivot.columns = [\"stamp_1\", \"stamp_2\"]\n",
    "df_pivot_diff = df_pivot.diff(axis=1)"
   ]
  },
  {
   "cell_type": "code",
   "execution_count": 7,
   "id": "fifth-motion",
   "metadata": {
    "execution": {
     "iopub.execute_input": "2021-10-09T08:00:09.238630Z",
     "iopub.status.busy": "2021-10-09T08:00:09.236263Z",
     "iopub.status.idle": "2021-10-09T08:00:10.742728Z",
     "shell.execute_reply": "2021-10-09T08:00:10.744073Z"
    },
    "papermill": {
     "duration": 1.539592,
     "end_time": "2021-10-09T08:00:10.744486",
     "exception": false,
     "start_time": "2021-10-09T08:00:09.204894",
     "status": "completed"
    },
    "tags": []
   },
   "outputs": [
    {
     "data": {
      "text/plain": [
       "<AxesSubplot:ylabel='PRODUCT'>"
      ]
     },
     "execution_count": 7,
     "metadata": {},
     "output_type": "execute_result"
    },
    {
     "data": {
      "image/png": "[encoded data removed]",
      "text/plain": [
       "<Figure size 432x288 with 1 Axes>"
      ]
     },
     "metadata": {
      "needs_background": "light"
     },
     "output_type": "display_data"
    }
   ],
   "source": [
    "df_pivot_diff.sort_values(\"stamp_2\", ascending = False)[\"stamp_2\"].head(10).plot.barh()"
   ]
  },
  {
   "cell_type": "code",
   "execution_count": null,
   "id": "extra-executive",
   "metadata": {
    "papermill": {
     "duration": 0.022581,
     "end_time": "2021-10-09T08:00:10.791204",
     "exception": false,
     "start_time": "2021-10-09T08:00:10.768623",
     "status": "completed"
    },
    "tags": []
   },
   "outputs": [],
   "source": []
  }
 ],
 "metadata": {
  "kernelspec": {
   "display_name": "Python 3",
   "language": "python",
   "name": "python3"
  },
  "language_info": {
   "codemirror_mode": {
    "name": "ipython",
    "version": 3
   },
   "file_extension": ".py",
   "mimetype": "text/x-python",
   "name": "python",
   "nbconvert_exporter": "python",
   "pygments_lexer": "ipython3",
   "version": "3.9.5"
  },
  "papermill": {
   "default_parameters": {},
   "duration": 7.835727,
   "end_time": "2021-10-09T08:00:12.184861",
   "environment_variables": {},
   "exception": null,
   "input_path": "eBay_Overview.ipynb",
   "output_path": "eBay_Overview.ipynb",
   "parameters": {},
   "start_time": "2021-10-09T08:00:04.349134",
   "version": "2.3.3"
  }
 },
 "nbformat": 4,
 "nbformat_minor": 5
}