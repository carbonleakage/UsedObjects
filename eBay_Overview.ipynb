{
 "cells": [
  {
   "cell_type": "code",
   "execution_count": 1,
   "id": "reverse-picking",
   "metadata": {
    "execution": {
     "iopub.execute_input": "2021-10-26T18:30:07.294182Z",
     "iopub.status.busy": "2021-10-26T18:30:07.292232Z",
     "iopub.status.idle": "2021-10-26T18:30:08.101666Z",
     "shell.execute_reply": "2021-10-26T18:30:08.102955Z"
    },
    "papermill": {
     "duration": 0.861948,
     "end_time": "2021-10-26T18:30:08.103563",
     "exception": false,
     "start_time": "2021-10-26T18:30:07.241615",
     "status": "completed"
    },
    "tags": []
   },
   "outputs": [],
   "source": [
    "import pandas as pd\n",
    "import sqlite3"
   ]
  },
  {
   "cell_type": "code",
   "execution_count": 2,
   "id": "innovative-syndrome",
   "metadata": {
    "execution": {
     "iopub.execute_input": "2021-10-26T18:30:08.154724Z",
     "iopub.status.busy": "2021-10-26T18:30:08.152482Z",
     "iopub.status.idle": "2021-10-26T18:30:08.801529Z",
     "shell.execute_reply": "2021-10-26T18:30:08.802890Z"
    },
    "papermill": {
     "duration": 0.678875,
     "end_time": "2021-10-26T18:30:08.803321",
     "exception": false,
     "start_time": "2021-10-26T18:30:08.124446",
     "status": "completed"
    },
    "tags": []
   },
   "outputs": [],
   "source": [
    "timestamps = pd.read_sql(\"select distinct record_time from EBAY_TOP_BERLIN order by record_time desc limit 2\", sqlite3.connect(\"UsedObjects.db\"))"
   ]
  },
  {
   "cell_type": "code",
   "execution_count": 3,
   "id": "periodic-identification",
   "metadata": {
    "execution": {
     "iopub.execute_input": "2021-10-26T18:30:08.878923Z",
     "iopub.status.busy": "2021-10-26T18:30:08.876935Z",
     "iopub.status.idle": "2021-10-26T18:30:08.899128Z",
     "shell.execute_reply": "2021-10-26T18:30:08.900326Z"
    },
    "papermill": {
     "duration": 0.071993,
     "end_time": "2021-10-26T18:30:08.900889",
     "exception": false,
     "start_time": "2021-10-26T18:30:08.828896",
     "status": "completed"
    },
    "tags": []
   },
   "outputs": [
    {
     "data": {
      "text/html": [
       "<div>\n",
       "<style scoped>\n",
       "    .dataframe tbody tr th:only-of-type {\n",
       "        vertical-align: middle;\n",
       "    }\n",
       "\n",
       "    .dataframe tbody tr th {\n",
       "        vertical-align: top;\n",
       "    }\n",
       "\n",
       "    .dataframe thead th {\n",
       "        text-align: right;\n",
       "    }\n",
       "</style>\n",
       "<table border=\"1\" class=\"dataframe\">\n",
       "  <thead>\n",
       "    <tr style=\"text-align: right;\">\n",
       "      <th></th>\n",
       "      <th>RECORD_TIME</th>\n",
       "    </tr>\n",
       "  </thead>\n",
       "  <tbody>\n",
       "    <tr>\n",
       "      <th>0</th>\n",
       "      <td>2021-10-26 20:30</td>\n",
       "    </tr>\n",
       "    <tr>\n",
       "      <th>1</th>\n",
       "      <td>2021-10-26 20:00</td>\n",
       "    </tr>\n",
       "  </tbody>\n",
       "</table>\n",
       "</div>"
      ],
      "text/plain": [
       "        RECORD_TIME\n",
       "0  2021-10-26 20:30\n",
       "1  2021-10-26 20:00"
      ]
     },
     "execution_count": 3,
     "metadata": {},
     "output_type": "execute_result"
    }
   ],
   "source": [
    "timestamps"
   ]
  },
  {
   "cell_type": "code",
   "execution_count": 4,
   "id": "alternate-victory",
   "metadata": {
    "execution": {
     "iopub.execute_input": "2021-10-26T18:30:08.953648Z",
     "iopub.status.busy": "2021-10-26T18:30:08.951322Z",
     "iopub.status.idle": "2021-10-26T18:30:09.897759Z",
     "shell.execute_reply": "2021-10-26T18:30:09.899134Z"
    },
    "papermill": {
     "duration": 0.977007,
     "end_time": "2021-10-26T18:30:09.899572",
     "exception": false,
     "start_time": "2021-10-26T18:30:08.922565",
     "status": "completed"
    },
    "tags": []
   },
   "outputs": [],
   "source": [
    "df = pd.read_sql(\"select * from EBAY_TOP_BERLIN where record_time in (select distinct record_time from EBAY_TOP_BERLIN order by record_time desc limit 2)\", sqlite3.connect(\"UsedObjects.db\"))"
   ]
  },
  {
   "cell_type": "code",
   "execution_count": 5,
   "id": "popular-active",
   "metadata": {
    "execution": {
     "iopub.execute_input": "2021-10-26T18:30:09.965355Z",
     "iopub.status.busy": "2021-10-26T18:30:09.957993Z",
     "iopub.status.idle": "2021-10-26T18:30:09.986551Z",
     "shell.execute_reply": "2021-10-26T18:30:09.987738Z"
    },
    "papermill": {
     "duration": 0.067737,
     "end_time": "2021-10-26T18:30:09.988127",
     "exception": false,
     "start_time": "2021-10-26T18:30:09.920390",
     "status": "completed"
    },
    "tags": []
   },
   "outputs": [],
   "source": [
    "df_pivot = df.pivot_table(index=\"PRODUCT\", columns = \"RECORD_TIME\", values = \"LISTING_COUNT\")"
   ]
  },
  {
   "cell_type": "code",
   "execution_count": 6,
   "id": "union-huntington",
   "metadata": {
    "execution": {
     "iopub.execute_input": "2021-10-26T18:30:10.047541Z",
     "iopub.status.busy": "2021-10-26T18:30:10.045131Z",
     "iopub.status.idle": "2021-10-26T18:30:10.052446Z",
     "shell.execute_reply": "2021-10-26T18:30:10.051089Z"
    },
    "papermill": {
     "duration": 0.042364,
     "end_time": "2021-10-26T18:30:10.052851",
     "exception": false,
     "start_time": "2021-10-26T18:30:10.010487",
     "status": "completed"
    },
    "tags": []
   },
   "outputs": [],
   "source": [
    "df_pivot.columns = [\"stamp_1\", \"stamp_2\"]\n",
    "df_pivot_diff = df_pivot.diff(axis=1)"
   ]
  },
  {
   "cell_type": "code",
   "execution_count": 7,
   "id": "fifth-motion",
   "metadata": {
    "execution": {
     "iopub.execute_input": "2021-10-26T18:30:10.107317Z",
     "iopub.status.busy": "2021-10-26T18:30:10.105086Z",
     "iopub.status.idle": "2021-10-26T18:30:11.593532Z",
     "shell.execute_reply": "2021-10-26T18:30:11.594801Z"
    },
    "papermill": {
     "duration": 1.521785,
     "end_time": "2021-10-26T18:30:11.595251",
     "exception": false,
     "start_time": "2021-10-26T18:30:10.073466",
     "status": "completed"
    },
    "tags": []
   },
   "outputs": [
    {
     "data": {
      "text/plain": [
       "<AxesSubplot:ylabel='PRODUCT'>"
      ]
     },
     "execution_count": 7,
     "metadata": {},
     "output_type": "execute_result"
    },
    {
     "data": {
      "image/png": "[encoded data removed]",
      "text/plain": [
       "<Figure size 432x288 with 1 Axes>"
      ]
     },
     "metadata": {
      "needs_background": "light"
     },
     "output_type": "display_data"
    }
   ],
   "source": [
    "df_pivot_diff.sort_values(\"stamp_2\", ascending = False)[\"stamp_2\"].head(10).plot.barh()"
   ]
  },
  {
   "cell_type": "code",
   "execution_count": null,
   "id": "extra-executive",
   "metadata": {
    "papermill": {
     "duration": 0.022122,
     "end_time": "2021-10-26T18:30:11.641917",
     "exception": false,
     "start_time": "2021-10-26T18:30:11.619795",
     "status": "completed"
    },
    "tags": []
   },
   "outputs": [],
   "source": []
  }
 ],
 "metadata": {
  "kernelspec": {
   "display_name": "Python 3",
   "language": "python",
   "name": "python3"
  },
  "language_info": {
   "codemirror_mode": {
    "name": "ipython",
    "version": 3
   },
   "file_extension": ".py",
   "mimetype": "text/x-python",
   "name": "python",
   "nbconvert_exporter": "python",
   "pygments_lexer": "ipython3",
   "version": "3.9.5"
  },
  "papermill": {
   "default_parameters": {},
   "duration": 7.45963,
   "end_time": "2021-10-26T18:30:12.286320",
   "environment_variables": {},
   "exception": null,
   "input_path": "eBay_Overview.ipynb",
   "output_path": "eBay_Overview.ipynb",
   "parameters": {},
   "start_time": "2021-10-26T18:30:04.826690",
   "version": "2.3.3"
  }
 },
 "nbformat": 4,
 "nbformat_minor": 5
}