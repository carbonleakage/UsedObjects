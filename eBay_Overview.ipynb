{
 "cells": [
  {
   "cell_type": "code",
   "execution_count": 1,
   "id": "reverse-picking",
   "metadata": {
    "execution": {
     "iopub.execute_input": "2021-12-22T05:00:07.471808Z",
     "iopub.status.busy": "2021-12-22T05:00:07.469097Z",
     "iopub.status.idle": "2021-12-22T05:00:08.409444Z",
     "shell.execute_reply": "2021-12-22T05:00:08.410861Z"
    },
    "papermill": {
     "duration": 0.978711,
     "end_time": "2021-12-22T05:00:08.411582",
     "exception": false,
     "start_time": "2021-12-22T05:00:07.432871",
     "status": "completed"
    },
    "tags": []
   },
   "outputs": [],
   "source": [
    "import pandas as pd\n",
    "import sqlite3"
   ]
  },
  {
   "cell_type": "code",
   "execution_count": 2,
   "id": "innovative-syndrome",
   "metadata": {
    "execution": {
     "iopub.execute_input": "2021-12-22T05:00:08.479033Z",
     "iopub.status.busy": "2021-12-22T05:00:08.476839Z",
     "iopub.status.idle": "2021-12-22T05:00:09.636664Z",
     "shell.execute_reply": "2021-12-22T05:00:09.638125Z"
    },
    "papermill": {
     "duration": 1.194861,
     "end_time": "2021-12-22T05:00:09.638573",
     "exception": false,
     "start_time": "2021-12-22T05:00:08.443712",
     "status": "completed"
    },
    "tags": []
   },
   "outputs": [],
   "source": [
    "timestamps = pd.read_sql(\"select distinct record_time from EBAY_TOP_BERLIN order by record_time desc limit 2\", sqlite3.connect(\"UsedObjects.db\"))"
   ]
  },
  {
   "cell_type": "code",
   "execution_count": 3,
   "id": "periodic-identification",
   "metadata": {
    "execution": {
     "iopub.execute_input": "2021-12-22T05:00:09.705959Z",
     "iopub.status.busy": "2021-12-22T05:00:09.703873Z",
     "iopub.status.idle": "2021-12-22T05:00:09.726697Z",
     "shell.execute_reply": "2021-12-22T05:00:09.727964Z"
    },
    "papermill": {
     "duration": 0.069488,
     "end_time": "2021-12-22T05:00:09.728383",
     "exception": false,
     "start_time": "2021-12-22T05:00:09.658895",
     "status": "completed"
    },
    "tags": []
   },
   "outputs": [
    {
     "data": {
      "text/html": [
       "<div>\n",
       "<style scoped>\n",
       "    .dataframe tbody tr th:only-of-type {\n",
       "        vertical-align: middle;\n",
       "    }\n",
       "\n",
       "    .dataframe tbody tr th {\n",
       "        vertical-align: top;\n",
       "    }\n",
       "\n",
       "    .dataframe thead th {\n",
       "        text-align: right;\n",
       "    }\n",
       "</style>\n",
       "<table border=\"1\" class=\"dataframe\">\n",
       "  <thead>\n",
       "    <tr style=\"text-align: right;\">\n",
       "      <th></th>\n",
       "      <th>RECORD_TIME</th>\n",
       "    </tr>\n",
       "  </thead>\n",
       "  <tbody>\n",
       "    <tr>\n",
       "      <th>0</th>\n",
       "      <td>2021-12-22 06:00</td>\n",
       "    </tr>\n",
       "    <tr>\n",
       "      <th>1</th>\n",
       "      <td>2021-12-22 05:30</td>\n",
       "    </tr>\n",
       "  </tbody>\n",
       "</table>\n",
       "</div>"
      ],
      "text/plain": [
       "        RECORD_TIME\n",
       "0  2021-12-22 06:00\n",
       "1  2021-12-22 05:30"
      ]
     },
     "execution_count": 3,
     "metadata": {},
     "output_type": "execute_result"
    }
   ],
   "source": [
    "timestamps"
   ]
  },
  {
   "cell_type": "code",
   "execution_count": 4,
   "id": "alternate-victory",
   "metadata": {
    "execution": {
     "iopub.execute_input": "2021-12-22T05:00:09.783426Z",
     "iopub.status.busy": "2021-12-22T05:00:09.781361Z",
     "iopub.status.idle": "2021-12-22T05:00:11.470831Z",
     "shell.execute_reply": "2021-12-22T05:00:11.473085Z"
    },
    "papermill": {
     "duration": 1.722819,
     "end_time": "2021-12-22T05:00:11.473575",
     "exception": false,
     "start_time": "2021-12-22T05:00:09.750756",
     "status": "completed"
    },
    "tags": []
   },
   "outputs": [],
   "source": [
    "df = pd.read_sql(\"select * from EBAY_TOP_BERLIN where record_time in (select distinct record_time from EBAY_TOP_BERLIN order by record_time desc limit 2)\", sqlite3.connect(\"UsedObjects.db\"))"
   ]
  },
  {
   "cell_type": "code",
   "execution_count": 5,
   "id": "popular-active",
   "metadata": {
    "execution": {
     "iopub.execute_input": "2021-12-22T05:00:11.551735Z",
     "iopub.status.busy": "2021-12-22T05:00:11.538084Z",
     "iopub.status.idle": "2021-12-22T05:00:11.569635Z",
     "shell.execute_reply": "2021-12-22T05:00:11.571029Z"
    },
    "papermill": {
     "duration": 0.076258,
     "end_time": "2021-12-22T05:00:11.571509",
     "exception": false,
     "start_time": "2021-12-22T05:00:11.495251",
     "status": "completed"
    },
    "tags": []
   },
   "outputs": [],
   "source": [
    "df_pivot = df.pivot_table(index=\"PRODUCT\", columns = \"RECORD_TIME\", values = \"LISTING_COUNT\")"
   ]
  },
  {
   "cell_type": "code",
   "execution_count": 6,
   "id": "union-huntington",
   "metadata": {
    "execution": {
     "iopub.execute_input": "2021-12-22T05:00:11.630494Z",
     "iopub.status.busy": "2021-12-22T05:00:11.627920Z",
     "iopub.status.idle": "2021-12-22T05:00:11.633541Z",
     "shell.execute_reply": "2021-12-22T05:00:11.635049Z"
    },
    "papermill": {
     "duration": 0.043678,
     "end_time": "2021-12-22T05:00:11.635516",
     "exception": false,
     "start_time": "2021-12-22T05:00:11.591838",
     "status": "completed"
    },
    "tags": []
   },
   "outputs": [],
   "source": [
    "df_pivot.columns = [\"stamp_1\", \"stamp_2\"]\n",
    "df_pivot_diff = df_pivot.diff(axis=1)"
   ]
  },
  {
   "cell_type": "code",
   "execution_count": 7,
   "id": "fifth-motion",
   "metadata": {
    "execution": {
     "iopub.execute_input": "2021-12-22T05:00:11.697492Z",
     "iopub.status.busy": "2021-12-22T05:00:11.694841Z",
     "iopub.status.idle": "2021-12-22T05:00:13.702549Z",
     "shell.execute_reply": "2021-12-22T05:00:13.703835Z"
    },
    "papermill": {
     "duration": 2.045714,
     "end_time": "2021-12-22T05:00:13.704258",
     "exception": false,
     "start_time": "2021-12-22T05:00:11.658544",
     "status": "completed"
    },
    "tags": []
   },
   "outputs": [
    {
     "data": {
      "text/plain": [
       "<AxesSubplot:ylabel='PRODUCT'>"
      ]
     },
     "execution_count": 7,
     "metadata": {},
     "output_type": "execute_result"
    },
    {
     "data": {
      "image/png": "[encoded data removed]",
      "text/plain": [
       "<Figure size 432x288 with 1 Axes>"
      ]
     },
     "metadata": {
      "needs_background": "light"
     },
     "output_type": "display_data"
    }
   ],
   "source": [
    "df_pivot_diff.sort_values(\"stamp_2\", ascending = False)[\"stamp_2\"].head(10).plot.barh()"
   ]
  },
  {
   "cell_type": "code",
   "execution_count": null,
   "id": "extra-executive",
   "metadata": {
    "papermill": {
     "duration": 0.022181,
     "end_time": "2021-12-22T05:00:13.751402",
     "exception": false,
     "start_time": "2021-12-22T05:00:13.729221",
     "status": "completed"
    },
    "tags": []
   },
   "outputs": [],
   "source": []
  }
 ],
 "metadata": {
  "kernelspec": {
   "display_name": "Python 3",
   "language": "python",
   "name": "python3"
  },
  "language_info": {
   "codemirror_mode": {
    "name": "ipython",
    "version": 3
   },
   "file_extension": ".py",
   "mimetype": "text/x-python",
   "name": "python",
   "nbconvert_exporter": "python",
   "pygments_lexer": "ipython3",
   "version": "3.9.5"
  },
  "papermill": {
   "default_parameters": {},
   "duration": 9.699645,
   "end_time": "2021-12-22T05:00:14.392044",
   "environment_variables": {},
   "exception": null,
   "input_path": "eBay_Overview.ipynb",
   "output_path": "eBay_Overview.ipynb",
   "parameters": {},
   "start_time": "2021-12-22T05:00:04.692399",
   "version": "2.3.3"
  }
 },
 "nbformat": 4,
 "nbformat_minor": 5
}