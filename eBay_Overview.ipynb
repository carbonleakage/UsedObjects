{
 "cells": [
  {
   "cell_type": "code",
   "execution_count": 1,
   "id": "reverse-picking",
   "metadata": {
    "execution": {
     "iopub.execute_input": "2021-10-24T10:30:06.582273Z",
     "iopub.status.busy": "2021-10-24T10:30:06.580222Z",
     "iopub.status.idle": "2021-10-24T10:30:07.389130Z",
     "shell.execute_reply": "2021-10-24T10:30:07.390422Z"
    },
    "papermill": {
     "duration": 0.860605,
     "end_time": "2021-10-24T10:30:07.391048",
     "exception": false,
     "start_time": "2021-10-24T10:30:06.530443",
     "status": "completed"
    },
    "tags": []
   },
   "outputs": [],
   "source": [
    "import pandas as pd\n",
    "import sqlite3"
   ]
  },
  {
   "cell_type": "code",
   "execution_count": 2,
   "id": "innovative-syndrome",
   "metadata": {
    "execution": {
     "iopub.execute_input": "2021-10-24T10:30:07.442519Z",
     "iopub.status.busy": "2021-10-24T10:30:07.440272Z",
     "iopub.status.idle": "2021-10-24T10:30:08.077808Z",
     "shell.execute_reply": "2021-10-24T10:30:08.079233Z"
    },
    "papermill": {
     "duration": 0.667188,
     "end_time": "2021-10-24T10:30:08.079677",
     "exception": false,
     "start_time": "2021-10-24T10:30:07.412489",
     "status": "completed"
    },
    "tags": []
   },
   "outputs": [],
   "source": [
    "timestamps = pd.read_sql(\"select distinct record_time from EBAY_TOP_BERLIN order by record_time desc limit 2\", sqlite3.connect(\"UsedObjects.db\"))"
   ]
  },
  {
   "cell_type": "code",
   "execution_count": 3,
   "id": "periodic-identification",
   "metadata": {
    "execution": {
     "iopub.execute_input": "2021-10-24T10:30:08.152223Z",
     "iopub.status.busy": "2021-10-24T10:30:08.150205Z",
     "iopub.status.idle": "2021-10-24T10:30:08.169674Z",
     "shell.execute_reply": "2021-10-24T10:30:08.170907Z"
    },
    "papermill": {
     "duration": 0.066226,
     "end_time": "2021-10-24T10:30:08.171306",
     "exception": false,
     "start_time": "2021-10-24T10:30:08.105080",
     "status": "completed"
    },
    "tags": []
   },
   "outputs": [
    {
     "data": {
      "text/html": [
       "<div>\n",
       "<style scoped>\n",
       "    .dataframe tbody tr th:only-of-type {\n",
       "        vertical-align: middle;\n",
       "    }\n",
       "\n",
       "    .dataframe tbody tr th {\n",
       "        vertical-align: top;\n",
       "    }\n",
       "\n",
       "    .dataframe thead th {\n",
       "        text-align: right;\n",
       "    }\n",
       "</style>\n",
       "<table border=\"1\" class=\"dataframe\">\n",
       "  <thead>\n",
       "    <tr style=\"text-align: right;\">\n",
       "      <th></th>\n",
       "      <th>RECORD_TIME</th>\n",
       "    </tr>\n",
       "  </thead>\n",
       "  <tbody>\n",
       "    <tr>\n",
       "      <th>0</th>\n",
       "      <td>2021-10-24 12:30</td>\n",
       "    </tr>\n",
       "    <tr>\n",
       "      <th>1</th>\n",
       "      <td>2021-10-24 12:00</td>\n",
       "    </tr>\n",
       "  </tbody>\n",
       "</table>\n",
       "</div>"
      ],
      "text/plain": [
       "        RECORD_TIME\n",
       "0  2021-10-24 12:30\n",
       "1  2021-10-24 12:00"
      ]
     },
     "execution_count": 3,
     "metadata": {},
     "output_type": "execute_result"
    }
   ],
   "source": [
    "timestamps"
   ]
  },
  {
   "cell_type": "code",
   "execution_count": 4,
   "id": "alternate-victory",
   "metadata": {
    "execution": {
     "iopub.execute_input": "2021-10-24T10:30:08.223936Z",
     "iopub.status.busy": "2021-10-24T10:30:08.221641Z",
     "iopub.status.idle": "2021-10-24T10:30:09.122914Z",
     "shell.execute_reply": "2021-10-24T10:30:09.124194Z"
    },
    "papermill": {
     "duration": 0.931528,
     "end_time": "2021-10-24T10:30:09.124614",
     "exception": false,
     "start_time": "2021-10-24T10:30:08.193086",
     "status": "completed"
    },
    "tags": []
   },
   "outputs": [],
   "source": [
    "df = pd.read_sql(\"select * from EBAY_TOP_BERLIN where record_time in (select distinct record_time from EBAY_TOP_BERLIN order by record_time desc limit 2)\", sqlite3.connect(\"UsedObjects.db\"))"
   ]
  },
  {
   "cell_type": "code",
   "execution_count": 5,
   "id": "popular-active",
   "metadata": {
    "execution": {
     "iopub.execute_input": "2021-10-24T10:30:09.195756Z",
     "iopub.status.busy": "2021-10-24T10:30:09.188356Z",
     "iopub.status.idle": "2021-10-24T10:30:09.211614Z",
     "shell.execute_reply": "2021-10-24T10:30:09.213036Z"
    },
    "papermill": {
     "duration": 0.067991,
     "end_time": "2021-10-24T10:30:09.213470",
     "exception": false,
     "start_time": "2021-10-24T10:30:09.145479",
     "status": "completed"
    },
    "tags": []
   },
   "outputs": [],
   "source": [
    "df_pivot = df.pivot_table(index=\"PRODUCT\", columns = \"RECORD_TIME\", values = \"LISTING_COUNT\")"
   ]
  },
  {
   "cell_type": "code",
   "execution_count": 6,
   "id": "union-huntington",
   "metadata": {
    "execution": {
     "iopub.execute_input": "2021-10-24T10:30:09.271734Z",
     "iopub.status.busy": "2021-10-24T10:30:09.269278Z",
     "iopub.status.idle": "2021-10-24T10:30:09.275039Z",
     "shell.execute_reply": "2021-10-24T10:30:09.276329Z"
    },
    "papermill": {
     "duration": 0.041934,
     "end_time": "2021-10-24T10:30:09.276800",
     "exception": false,
     "start_time": "2021-10-24T10:30:09.234866",
     "status": "completed"
    },
    "tags": []
   },
   "outputs": [],
   "source": [
    "df_pivot.columns = [\"stamp_1\", \"stamp_2\"]\n",
    "df_pivot_diff = df_pivot.diff(axis=1)"
   ]
  },
  {
   "cell_type": "code",
   "execution_count": 7,
   "id": "fifth-motion",
   "metadata": {
    "execution": {
     "iopub.execute_input": "2021-10-24T10:30:09.330883Z",
     "iopub.status.busy": "2021-10-24T10:30:09.328531Z",
     "iopub.status.idle": "2021-10-24T10:30:10.808320Z",
     "shell.execute_reply": "2021-10-24T10:30:10.809882Z"
    },
    "papermill": {
     "duration": 1.513009,
     "end_time": "2021-10-24T10:30:10.810361",
     "exception": false,
     "start_time": "2021-10-24T10:30:09.297352",
     "status": "completed"
    },
    "tags": []
   },
   "outputs": [
    {
     "data": {
      "text/plain": [
       "<AxesSubplot:ylabel='PRODUCT'>"
      ]
     },
     "execution_count": 7,
     "metadata": {},
     "output_type": "execute_result"
    },
    {
     "data": {
      "image/png": "[encoded data removed]",
      "text/plain": [
       "<Figure size 432x288 with 1 Axes>"
      ]
     },
     "metadata": {
      "needs_background": "light"
     },
     "output_type": "display_data"
    }
   ],
   "source": [
    "df_pivot_diff.sort_values(\"stamp_2\", ascending = False)[\"stamp_2\"].head(10).plot.barh()"
   ]
  },
  {
   "cell_type": "code",
   "execution_count": null,
   "id": "extra-executive",
   "metadata": {
    "papermill": {
     "duration": 0.022043,
     "end_time": "2021-10-24T10:30:10.856992",
     "exception": false,
     "start_time": "2021-10-24T10:30:10.834949",
     "status": "completed"
    },
    "tags": []
   },
   "outputs": [],
   "source": []
  }
 ],
 "metadata": {
  "kernelspec": {
   "display_name": "Python 3",
   "language": "python",
   "name": "python3"
  },
  "language_info": {
   "codemirror_mode": {
    "name": "ipython",
    "version": 3
   },
   "file_extension": ".py",
   "mimetype": "text/x-python",
   "name": "python",
   "nbconvert_exporter": "python",
   "pygments_lexer": "ipython3",
   "version": "3.9.5"
  },
  "papermill": {
   "default_parameters": {},
   "duration": 7.380352,
   "end_time": "2021-10-24T10:30:11.499845",
   "environment_variables": {},
   "exception": null,
   "input_path": "eBay_Overview.ipynb",
   "output_path": "eBay_Overview.ipynb",
   "parameters": {},
   "start_time": "2021-10-24T10:30:04.119493",
   "version": "2.3.3"
  }
 },
 "nbformat": 4,
 "nbformat_minor": 5
}