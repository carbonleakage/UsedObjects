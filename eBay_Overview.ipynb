{
 "cells": [
  {
   "cell_type": "code",
   "execution_count": 1,
   "id": "reverse-picking",
   "metadata": {
    "execution": {
     "iopub.execute_input": "2021-11-06T13:00:08.356622Z",
     "iopub.status.busy": "2021-11-06T13:00:08.354271Z",
     "iopub.status.idle": "2021-11-06T13:00:09.317697Z",
     "shell.execute_reply": "2021-11-06T13:00:09.315730Z"
    },
    "papermill": {
     "duration": 1.011387,
     "end_time": "2021-11-06T13:00:09.318196",
     "exception": false,
     "start_time": "2021-11-06T13:00:08.306809",
     "status": "completed"
    },
    "tags": []
   },
   "outputs": [],
   "source": [
    "import pandas as pd\n",
    "import sqlite3"
   ]
  },
  {
   "cell_type": "code",
   "execution_count": 2,
   "id": "innovative-syndrome",
   "metadata": {
    "execution": {
     "iopub.execute_input": "2021-11-06T13:00:09.383231Z",
     "iopub.status.busy": "2021-11-06T13:00:09.381121Z",
     "iopub.status.idle": "2021-11-06T13:00:10.104949Z",
     "shell.execute_reply": "2021-11-06T13:00:10.106258Z"
    },
    "papermill": {
     "duration": 0.759436,
     "end_time": "2021-11-06T13:00:10.106744",
     "exception": false,
     "start_time": "2021-11-06T13:00:09.347308",
     "status": "completed"
    },
    "tags": []
   },
   "outputs": [],
   "source": [
    "timestamps = pd.read_sql(\"select distinct record_time from EBAY_TOP_BERLIN order by record_time desc limit 2\", sqlite3.connect(\"UsedObjects.db\"))"
   ]
  },
  {
   "cell_type": "code",
   "execution_count": 3,
   "id": "periodic-identification",
   "metadata": {
    "execution": {
     "iopub.execute_input": "2021-11-06T13:00:10.180291Z",
     "iopub.status.busy": "2021-11-06T13:00:10.177851Z",
     "iopub.status.idle": "2021-11-06T13:00:10.201178Z",
     "shell.execute_reply": "2021-11-06T13:00:10.202663Z"
    },
    "papermill": {
     "duration": 0.074383,
     "end_time": "2021-11-06T13:00:10.203184",
     "exception": false,
     "start_time": "2021-11-06T13:00:10.128801",
     "status": "completed"
    },
    "tags": []
   },
   "outputs": [
    {
     "data": {
      "text/html": [
       "<div>\n",
       "<style scoped>\n",
       "    .dataframe tbody tr th:only-of-type {\n",
       "        vertical-align: middle;\n",
       "    }\n",
       "\n",
       "    .dataframe tbody tr th {\n",
       "        vertical-align: top;\n",
       "    }\n",
       "\n",
       "    .dataframe thead th {\n",
       "        text-align: right;\n",
       "    }\n",
       "</style>\n",
       "<table border=\"1\" class=\"dataframe\">\n",
       "  <thead>\n",
       "    <tr style=\"text-align: right;\">\n",
       "      <th></th>\n",
       "      <th>RECORD_TIME</th>\n",
       "    </tr>\n",
       "  </thead>\n",
       "  <tbody>\n",
       "    <tr>\n",
       "      <th>0</th>\n",
       "      <td>2021-11-06 14:00</td>\n",
       "    </tr>\n",
       "    <tr>\n",
       "      <th>1</th>\n",
       "      <td>2021-11-06 13:30</td>\n",
       "    </tr>\n",
       "  </tbody>\n",
       "</table>\n",
       "</div>"
      ],
      "text/plain": [
       "        RECORD_TIME\n",
       "0  2021-11-06 14:00\n",
       "1  2021-11-06 13:30"
      ]
     },
     "execution_count": 3,
     "metadata": {},
     "output_type": "execute_result"
    }
   ],
   "source": [
    "timestamps"
   ]
  },
  {
   "cell_type": "code",
   "execution_count": 4,
   "id": "alternate-victory",
   "metadata": {
    "execution": {
     "iopub.execute_input": "2021-11-06T13:00:10.261815Z",
     "iopub.status.busy": "2021-11-06T13:00:10.259551Z",
     "iopub.status.idle": "2021-11-06T13:00:11.340465Z",
     "shell.execute_reply": "2021-11-06T13:00:11.342076Z"
    },
    "papermill": {
     "duration": 1.117451,
     "end_time": "2021-11-06T13:00:11.342586",
     "exception": false,
     "start_time": "2021-11-06T13:00:10.225135",
     "status": "completed"
    },
    "tags": []
   },
   "outputs": [],
   "source": [
    "df = pd.read_sql(\"select * from EBAY_TOP_BERLIN where record_time in (select distinct record_time from EBAY_TOP_BERLIN order by record_time desc limit 2)\", sqlite3.connect(\"UsedObjects.db\"))"
   ]
  },
  {
   "cell_type": "code",
   "execution_count": 5,
   "id": "popular-active",
   "metadata": {
    "execution": {
     "iopub.execute_input": "2021-11-06T13:00:11.428957Z",
     "iopub.status.busy": "2021-11-06T13:00:11.416256Z",
     "iopub.status.idle": "2021-11-06T13:00:11.445685Z",
     "shell.execute_reply": "2021-11-06T13:00:11.447294Z"
    },
    "papermill": {
     "duration": 0.082467,
     "end_time": "2021-11-06T13:00:11.447792",
     "exception": false,
     "start_time": "2021-11-06T13:00:11.365325",
     "status": "completed"
    },
    "tags": []
   },
   "outputs": [],
   "source": [
    "df_pivot = df.pivot_table(index=\"PRODUCT\", columns = \"RECORD_TIME\", values = \"LISTING_COUNT\")"
   ]
  },
  {
   "cell_type": "code",
   "execution_count": 6,
   "id": "union-huntington",
   "metadata": {
    "execution": {
     "iopub.execute_input": "2021-11-06T13:00:11.511334Z",
     "iopub.status.busy": "2021-11-06T13:00:11.508830Z",
     "iopub.status.idle": "2021-11-06T13:00:11.515317Z",
     "shell.execute_reply": "2021-11-06T13:00:11.517023Z"
    },
    "papermill": {
     "duration": 0.047991,
     "end_time": "2021-11-06T13:00:11.517522",
     "exception": false,
     "start_time": "2021-11-06T13:00:11.469531",
     "status": "completed"
    },
    "tags": []
   },
   "outputs": [],
   "source": [
    "df_pivot.columns = [\"stamp_1\", \"stamp_2\"]\n",
    "df_pivot_diff = df_pivot.diff(axis=1)"
   ]
  },
  {
   "cell_type": "code",
   "execution_count": 7,
   "id": "fifth-motion",
   "metadata": {
    "execution": {
     "iopub.execute_input": "2021-11-06T13:00:11.579459Z",
     "iopub.status.busy": "2021-11-06T13:00:11.576801Z",
     "iopub.status.idle": "2021-11-06T13:00:13.458899Z",
     "shell.execute_reply": "2021-11-06T13:00:13.461346Z"
    },
    "papermill": {
     "duration": 1.922622,
     "end_time": "2021-11-06T13:00:13.462071",
     "exception": false,
     "start_time": "2021-11-06T13:00:11.539449",
     "status": "completed"
    },
    "tags": []
   },
   "outputs": [
    {
     "data": {
      "text/plain": [
       "<AxesSubplot:ylabel='PRODUCT'>"
      ]
     },
     "execution_count": 7,
     "metadata": {},
     "output_type": "execute_result"
    },
    {
     "data": {
      "image/png": "[encoded data removed]",
      "text/plain": [
       "<Figure size 432x288 with 1 Axes>"
      ]
     },
     "metadata": {
      "needs_background": "light"
     },
     "output_type": "display_data"
    }
   ],
   "source": [
    "df_pivot_diff.sort_values(\"stamp_2\", ascending = False)[\"stamp_2\"].head(10).plot.barh()"
   ]
  },
  {
   "cell_type": "code",
   "execution_count": null,
   "id": "extra-executive",
   "metadata": {
    "papermill": {
     "duration": 0.024051,
     "end_time": "2021-11-06T13:00:13.518385",
     "exception": false,
     "start_time": "2021-11-06T13:00:13.494334",
     "status": "completed"
    },
    "tags": []
   },
   "outputs": [],
   "source": []
  }
 ],
 "metadata": {
  "kernelspec": {
   "display_name": "Python 3",
   "language": "python",
   "name": "python3"
  },
  "language_info": {
   "codemirror_mode": {
    "name": "ipython",
    "version": 3
   },
   "file_extension": ".py",
   "mimetype": "text/x-python",
   "name": "python",
   "nbconvert_exporter": "python",
   "pygments_lexer": "ipython3",
   "version": "3.9.5"
  },
  "papermill": {
   "default_parameters": {},
   "duration": 10.052811,
   "end_time": "2021-11-06T13:00:15.496618",
   "environment_variables": {},
   "exception": null,
   "input_path": "eBay_Overview.ipynb",
   "output_path": "eBay_Overview.ipynb",
   "parameters": {},
   "start_time": "2021-11-06T13:00:05.443807",
   "version": "2.3.3"
  }
 },
 "nbformat": 4,
 "nbformat_minor": 5
}