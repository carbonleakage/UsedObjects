{
 "cells": [
  {
   "cell_type": "code",
   "execution_count": 1,
   "id": "reverse-picking",
   "metadata": {
    "execution": {
     "iopub.execute_input": "2021-12-21T10:00:07.582606Z",
     "iopub.status.busy": "2021-12-21T10:00:07.580266Z",
     "iopub.status.idle": "2021-12-21T10:00:08.552665Z",
     "shell.execute_reply": "2021-12-21T10:00:08.554218Z"
    },
    "papermill": {
     "duration": 1.022559,
     "end_time": "2021-12-21T10:00:08.554930",
     "exception": false,
     "start_time": "2021-12-21T10:00:07.532371",
     "status": "completed"
    },
    "tags": []
   },
   "outputs": [],
   "source": [
    "import pandas as pd\n",
    "import sqlite3"
   ]
  },
  {
   "cell_type": "code",
   "execution_count": 2,
   "id": "innovative-syndrome",
   "metadata": {
    "execution": {
     "iopub.execute_input": "2021-12-21T10:00:08.616565Z",
     "iopub.status.busy": "2021-12-21T10:00:08.614301Z",
     "iopub.status.idle": "2021-12-21T10:00:09.755578Z",
     "shell.execute_reply": "2021-12-21T10:00:09.757764Z"
    },
    "papermill": {
     "duration": 1.176216,
     "end_time": "2021-12-21T10:00:09.758246",
     "exception": false,
     "start_time": "2021-12-21T10:00:08.582030",
     "status": "completed"
    },
    "tags": []
   },
   "outputs": [],
   "source": [
    "timestamps = pd.read_sql(\"select distinct record_time from EBAY_TOP_BERLIN order by record_time desc limit 2\", sqlite3.connect(\"UsedObjects.db\"))"
   ]
  },
  {
   "cell_type": "code",
   "execution_count": 3,
   "id": "periodic-identification",
   "metadata": {
    "execution": {
     "iopub.execute_input": "2021-12-21T10:00:09.830549Z",
     "iopub.status.busy": "2021-12-21T10:00:09.828063Z",
     "iopub.status.idle": "2021-12-21T10:00:09.853779Z",
     "shell.execute_reply": "2021-12-21T10:00:09.855289Z"
    },
    "papermill": {
     "duration": 0.077068,
     "end_time": "2021-12-21T10:00:09.855876",
     "exception": false,
     "start_time": "2021-12-21T10:00:09.778808",
     "status": "completed"
    },
    "tags": []
   },
   "outputs": [
    {
     "data": {
      "text/html": [
       "<div>\n",
       "<style scoped>\n",
       "    .dataframe tbody tr th:only-of-type {\n",
       "        vertical-align: middle;\n",
       "    }\n",
       "\n",
       "    .dataframe tbody tr th {\n",
       "        vertical-align: top;\n",
       "    }\n",
       "\n",
       "    .dataframe thead th {\n",
       "        text-align: right;\n",
       "    }\n",
       "</style>\n",
       "<table border=\"1\" class=\"dataframe\">\n",
       "  <thead>\n",
       "    <tr style=\"text-align: right;\">\n",
       "      <th></th>\n",
       "      <th>RECORD_TIME</th>\n",
       "    </tr>\n",
       "  </thead>\n",
       "  <tbody>\n",
       "    <tr>\n",
       "      <th>0</th>\n",
       "      <td>2021-12-21 11:00</td>\n",
       "    </tr>\n",
       "    <tr>\n",
       "      <th>1</th>\n",
       "      <td>2021-12-21 10:30</td>\n",
       "    </tr>\n",
       "  </tbody>\n",
       "</table>\n",
       "</div>"
      ],
      "text/plain": [
       "        RECORD_TIME\n",
       "0  2021-12-21 11:00\n",
       "1  2021-12-21 10:30"
      ]
     },
     "execution_count": 3,
     "metadata": {},
     "output_type": "execute_result"
    }
   ],
   "source": [
    "timestamps"
   ]
  },
  {
   "cell_type": "code",
   "execution_count": 4,
   "id": "alternate-victory",
   "metadata": {
    "execution": {
     "iopub.execute_input": "2021-12-21T10:00:09.911364Z",
     "iopub.status.busy": "2021-12-21T10:00:09.909045Z",
     "iopub.status.idle": "2021-12-21T10:00:11.580005Z",
     "shell.execute_reply": "2021-12-21T10:00:11.582018Z"
    },
    "papermill": {
     "duration": 1.705478,
     "end_time": "2021-12-21T10:00:11.582513",
     "exception": false,
     "start_time": "2021-12-21T10:00:09.877035",
     "status": "completed"
    },
    "tags": []
   },
   "outputs": [],
   "source": [
    "df = pd.read_sql(\"select * from EBAY_TOP_BERLIN where record_time in (select distinct record_time from EBAY_TOP_BERLIN order by record_time desc limit 2)\", sqlite3.connect(\"UsedObjects.db\"))"
   ]
  },
  {
   "cell_type": "code",
   "execution_count": 5,
   "id": "popular-active",
   "metadata": {
    "execution": {
     "iopub.execute_input": "2021-12-21T10:00:11.650196Z",
     "iopub.status.busy": "2021-12-21T10:00:11.647878Z",
     "iopub.status.idle": "2021-12-21T10:00:11.681628Z",
     "shell.execute_reply": "2021-12-21T10:00:11.682989Z"
    },
    "papermill": {
     "duration": 0.079529,
     "end_time": "2021-12-21T10:00:11.683473",
     "exception": false,
     "start_time": "2021-12-21T10:00:11.603944",
     "status": "completed"
    },
    "tags": []
   },
   "outputs": [],
   "source": [
    "df_pivot = df.pivot_table(index=\"PRODUCT\", columns = \"RECORD_TIME\", values = \"LISTING_COUNT\")"
   ]
  },
  {
   "cell_type": "code",
   "execution_count": 6,
   "id": "union-huntington",
   "metadata": {
    "execution": {
     "iopub.execute_input": "2021-12-21T10:00:11.742585Z",
     "iopub.status.busy": "2021-12-21T10:00:11.740207Z",
     "iopub.status.idle": "2021-12-21T10:00:11.746055Z",
     "shell.execute_reply": "2021-12-21T10:00:11.747541Z"
    },
    "papermill": {
     "duration": 0.04452,
     "end_time": "2021-12-21T10:00:11.748010",
     "exception": false,
     "start_time": "2021-12-21T10:00:11.703490",
     "status": "completed"
    },
    "tags": []
   },
   "outputs": [],
   "source": [
    "df_pivot.columns = [\"stamp_1\", \"stamp_2\"]\n",
    "df_pivot_diff = df_pivot.diff(axis=1)"
   ]
  },
  {
   "cell_type": "code",
   "execution_count": 7,
   "id": "fifth-motion",
   "metadata": {
    "execution": {
     "iopub.execute_input": "2021-12-21T10:00:11.806734Z",
     "iopub.status.busy": "2021-12-21T10:00:11.802052Z",
     "iopub.status.idle": "2021-12-21T10:00:13.732385Z",
     "shell.execute_reply": "2021-12-21T10:00:13.733639Z"
    },
    "papermill": {
     "duration": 1.965645,
     "end_time": "2021-12-21T10:00:13.734084",
     "exception": false,
     "start_time": "2021-12-21T10:00:11.768439",
     "status": "completed"
    },
    "tags": []
   },
   "outputs": [
    {
     "data": {
      "text/plain": [
       "<AxesSubplot:ylabel='PRODUCT'>"
      ]
     },
     "execution_count": 7,
     "metadata": {},
     "output_type": "execute_result"
    },
    {
     "data": {
      "image/png": "[encoded data removed]",
      "text/plain": [
       "<Figure size 432x288 with 1 Axes>"
      ]
     },
     "metadata": {
      "needs_background": "light"
     },
     "output_type": "display_data"
    }
   ],
   "source": [
    "df_pivot_diff.sort_values(\"stamp_2\", ascending = False)[\"stamp_2\"].head(10).plot.barh()"
   ]
  },
  {
   "cell_type": "code",
   "execution_count": null,
   "id": "extra-executive",
   "metadata": {
    "papermill": {
     "duration": 0.027045,
     "end_time": "2021-12-21T10:00:13.793722",
     "exception": false,
     "start_time": "2021-12-21T10:00:13.766677",
     "status": "completed"
    },
    "tags": []
   },
   "outputs": [],
   "source": []
  }
 ],
 "metadata": {
  "kernelspec": {
   "display_name": "Python 3",
   "language": "python",
   "name": "python3"
  },
  "language_info": {
   "codemirror_mode": {
    "name": "ipython",
    "version": 3
   },
   "file_extension": ".py",
   "mimetype": "text/x-python",
   "name": "python",
   "nbconvert_exporter": "python",
   "pygments_lexer": "ipython3",
   "version": "3.9.5"
  },
  "papermill": {
   "default_parameters": {},
   "duration": 9.658085,
   "end_time": "2021-12-21T10:00:14.436965",
   "environment_variables": {},
   "exception": null,
   "input_path": "eBay_Overview.ipynb",
   "output_path": "eBay_Overview.ipynb",
   "parameters": {},
   "start_time": "2021-12-21T10:00:04.778880",
   "version": "2.3.3"
  }
 },
 "nbformat": 4,
 "nbformat_minor": 5
}