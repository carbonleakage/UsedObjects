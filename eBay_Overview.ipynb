{
 "cells": [
  {
   "cell_type": "code",
   "execution_count": 1,
   "id": "reverse-picking",
   "metadata": {
    "execution": {
     "iopub.execute_input": "2021-09-30T13:00:07.008748Z",
     "iopub.status.busy": "2021-09-30T13:00:07.006729Z",
     "iopub.status.idle": "2021-09-30T13:00:07.815745Z",
     "shell.execute_reply": "2021-09-30T13:00:07.817032Z"
    },
    "papermill": {
     "duration": 0.860569,
     "end_time": "2021-09-30T13:00:07.817647",
     "exception": false,
     "start_time": "2021-09-30T13:00:06.957078",
     "status": "completed"
    },
    "tags": []
   },
   "outputs": [],
   "source": [
    "import pandas as pd\n",
    "import sqlite3"
   ]
  },
  {
   "cell_type": "code",
   "execution_count": 2,
   "id": "innovative-syndrome",
   "metadata": {
    "execution": {
     "iopub.execute_input": "2021-09-30T13:00:07.869325Z",
     "iopub.status.busy": "2021-09-30T13:00:07.867147Z",
     "iopub.status.idle": "2021-09-30T13:00:08.281515Z",
     "shell.execute_reply": "2021-09-30T13:00:08.282716Z"
    },
    "papermill": {
     "duration": 0.443944,
     "end_time": "2021-09-30T13:00:08.283170",
     "exception": false,
     "start_time": "2021-09-30T13:00:07.839226",
     "status": "completed"
    },
    "tags": []
   },
   "outputs": [],
   "source": [
    "timestamps = pd.read_sql(\"select distinct record_time from EBAY_TOP_BERLIN order by record_time desc limit 2\", sqlite3.connect(\"UsedObjects.db\"))"
   ]
  },
  {
   "cell_type": "code",
   "execution_count": 3,
   "id": "periodic-identification",
   "metadata": {
    "execution": {
     "iopub.execute_input": "2021-09-30T13:00:08.349545Z",
     "iopub.status.busy": "2021-09-30T13:00:08.347525Z",
     "iopub.status.idle": "2021-09-30T13:00:08.368285Z",
     "shell.execute_reply": "2021-09-30T13:00:08.367012Z"
    },
    "papermill": {
     "duration": 0.063817,
     "end_time": "2021-09-30T13:00:08.368638",
     "exception": false,
     "start_time": "2021-09-30T13:00:08.304821",
     "status": "completed"
    },
    "tags": []
   },
   "outputs": [
    {
     "data": {
      "text/html": [
       "<div>\n",
       "<style scoped>\n",
       "    .dataframe tbody tr th:only-of-type {\n",
       "        vertical-align: middle;\n",
       "    }\n",
       "\n",
       "    .dataframe tbody tr th {\n",
       "        vertical-align: top;\n",
       "    }\n",
       "\n",
       "    .dataframe thead th {\n",
       "        text-align: right;\n",
       "    }\n",
       "</style>\n",
       "<table border=\"1\" class=\"dataframe\">\n",
       "  <thead>\n",
       "    <tr style=\"text-align: right;\">\n",
       "      <th></th>\n",
       "      <th>RECORD_TIME</th>\n",
       "    </tr>\n",
       "  </thead>\n",
       "  <tbody>\n",
       "    <tr>\n",
       "      <th>0</th>\n",
       "      <td>2021-09-30 15:00</td>\n",
       "    </tr>\n",
       "    <tr>\n",
       "      <th>1</th>\n",
       "      <td>2021-09-30 14:30</td>\n",
       "    </tr>\n",
       "  </tbody>\n",
       "</table>\n",
       "</div>"
      ],
      "text/plain": [
       "        RECORD_TIME\n",
       "0  2021-09-30 15:00\n",
       "1  2021-09-30 14:30"
      ]
     },
     "execution_count": 3,
     "metadata": {},
     "output_type": "execute_result"
    }
   ],
   "source": [
    "timestamps"
   ]
  },
  {
   "cell_type": "code",
   "execution_count": 4,
   "id": "alternate-victory",
   "metadata": {
    "execution": {
     "iopub.execute_input": "2021-09-30T13:00:08.419444Z",
     "iopub.status.busy": "2021-09-30T13:00:08.417512Z",
     "iopub.status.idle": "2021-09-30T13:00:09.022765Z",
     "shell.execute_reply": "2021-09-30T13:00:09.024066Z"
    },
    "papermill": {
     "duration": 0.635173,
     "end_time": "2021-09-30T13:00:09.024470",
     "exception": false,
     "start_time": "2021-09-30T13:00:08.389297",
     "status": "completed"
    },
    "tags": []
   },
   "outputs": [],
   "source": [
    "df = pd.read_sql(\"select * from EBAY_TOP_BERLIN where record_time in (select distinct record_time from EBAY_TOP_BERLIN order by record_time desc limit 2)\", sqlite3.connect(\"UsedObjects.db\"))"
   ]
  },
  {
   "cell_type": "code",
   "execution_count": 5,
   "id": "popular-active",
   "metadata": {
    "execution": {
     "iopub.execute_input": "2021-09-30T13:00:09.093697Z",
     "iopub.status.busy": "2021-09-30T13:00:09.081595Z",
     "iopub.status.idle": "2021-09-30T13:00:09.109904Z",
     "shell.execute_reply": "2021-09-30T13:00:09.111335Z"
    },
    "papermill": {
     "duration": 0.066921,
     "end_time": "2021-09-30T13:00:09.111765",
     "exception": false,
     "start_time": "2021-09-30T13:00:09.044844",
     "status": "completed"
    },
    "tags": []
   },
   "outputs": [],
   "source": [
    "df_pivot = df.pivot_table(index=\"PRODUCT\", columns = \"RECORD_TIME\", values = \"LISTING_COUNT\")"
   ]
  },
  {
   "cell_type": "code",
   "execution_count": 6,
   "id": "union-huntington",
   "metadata": {
    "execution": {
     "iopub.execute_input": "2021-09-30T13:00:09.170002Z",
     "iopub.status.busy": "2021-09-30T13:00:09.167554Z",
     "iopub.status.idle": "2021-09-30T13:00:09.174598Z",
     "shell.execute_reply": "2021-09-30T13:00:09.173213Z"
    },
    "papermill": {
     "duration": 0.04203,
     "end_time": "2021-09-30T13:00:09.175014",
     "exception": false,
     "start_time": "2021-09-30T13:00:09.132984",
     "status": "completed"
    },
    "tags": []
   },
   "outputs": [],
   "source": [
    "df_pivot.columns = [\"stamp_1\", \"stamp_2\"]\n",
    "df_pivot_diff = df_pivot.diff(axis=1)"
   ]
  },
  {
   "cell_type": "code",
   "execution_count": 7,
   "id": "fifth-motion",
   "metadata": {
    "execution": {
     "iopub.execute_input": "2021-09-30T13:00:09.229256Z",
     "iopub.status.busy": "2021-09-30T13:00:09.226973Z",
     "iopub.status.idle": "2021-09-30T13:00:10.744892Z",
     "shell.execute_reply": "2021-09-30T13:00:10.746182Z"
    },
    "papermill": {
     "duration": 1.551024,
     "end_time": "2021-09-30T13:00:10.746605",
     "exception": false,
     "start_time": "2021-09-30T13:00:09.195581",
     "status": "completed"
    },
    "tags": []
   },
   "outputs": [
    {
     "data": {
      "text/plain": [
       "<AxesSubplot:ylabel='PRODUCT'>"
      ]
     },
     "execution_count": 7,
     "metadata": {},
     "output_type": "execute_result"
    },
    {
     "data": {
      "image/png": "[encoded data removed]",
      "text/plain": [
       "<Figure size 432x288 with 1 Axes>"
      ]
     },
     "metadata": {
      "needs_background": "light"
     },
     "output_type": "display_data"
    }
   ],
   "source": [
    "df_pivot_diff.sort_values(\"stamp_2\", ascending = False)[\"stamp_2\"].head(10).plot.barh()"
   ]
  },
  {
   "cell_type": "code",
   "execution_count": null,
   "id": "extra-executive",
   "metadata": {
    "papermill": {
     "duration": 0.02208,
     "end_time": "2021-09-30T13:00:10.794730",
     "exception": false,
     "start_time": "2021-09-30T13:00:10.772650",
     "status": "completed"
    },
    "tags": []
   },
   "outputs": [],
   "source": []
  }
 ],
 "metadata": {
  "kernelspec": {
   "display_name": "Python 3",
   "language": "python",
   "name": "python3"
  },
  "language_info": {
   "codemirror_mode": {
    "name": "ipython",
    "version": 3
   },
   "file_extension": ".py",
   "mimetype": "text/x-python",
   "name": "python",
   "nbconvert_exporter": "python",
   "pygments_lexer": "ipython3",
   "version": "3.9.5"
  },
  "papermill": {
   "default_parameters": {},
   "duration": 7.823456,
   "end_time": "2021-09-30T13:00:12.369171",
   "environment_variables": {},
   "exception": null,
   "input_path": "eBay_Overview.ipynb",
   "output_path": "eBay_Overview.ipynb",
   "parameters": {},
   "start_time": "2021-09-30T13:00:04.545715",
   "version": "2.3.3"
  }
 },
 "nbformat": 4,
 "nbformat_minor": 5
}