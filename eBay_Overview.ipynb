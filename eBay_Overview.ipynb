{
 "cells": [
  {
   "cell_type": "code",
   "execution_count": 1,
   "id": "reverse-picking",
   "metadata": {
    "execution": {
     "iopub.execute_input": "2021-10-08T16:00:07.470951Z",
     "iopub.status.busy": "2021-10-08T16:00:07.468957Z",
     "iopub.status.idle": "2021-10-08T16:00:08.281794Z",
     "shell.execute_reply": "2021-10-08T16:00:08.280244Z"
    },
    "papermill": {
     "duration": 0.863026,
     "end_time": "2021-10-08T16:00:08.282191",
     "exception": false,
     "start_time": "2021-10-08T16:00:07.419165",
     "status": "completed"
    },
    "tags": []
   },
   "outputs": [],
   "source": [
    "import pandas as pd\n",
    "import sqlite3"
   ]
  },
  {
   "cell_type": "code",
   "execution_count": 2,
   "id": "innovative-syndrome",
   "metadata": {
    "execution": {
     "iopub.execute_input": "2021-10-08T16:00:08.335795Z",
     "iopub.status.busy": "2021-10-08T16:00:08.333415Z",
     "iopub.status.idle": "2021-10-08T16:00:08.815734Z",
     "shell.execute_reply": "2021-10-08T16:00:08.817003Z"
    },
    "papermill": {
     "duration": 0.512574,
     "end_time": "2021-10-08T16:00:08.817408",
     "exception": false,
     "start_time": "2021-10-08T16:00:08.304834",
     "status": "completed"
    },
    "tags": []
   },
   "outputs": [],
   "source": [
    "timestamps = pd.read_sql(\"select distinct record_time from EBAY_TOP_BERLIN order by record_time desc limit 2\", sqlite3.connect(\"UsedObjects.db\"))"
   ]
  },
  {
   "cell_type": "code",
   "execution_count": 3,
   "id": "periodic-identification",
   "metadata": {
    "execution": {
     "iopub.execute_input": "2021-10-08T16:00:08.881464Z",
     "iopub.status.busy": "2021-10-08T16:00:08.879383Z",
     "iopub.status.idle": "2021-10-08T16:00:08.899769Z",
     "shell.execute_reply": "2021-10-08T16:00:08.900996Z"
    },
    "papermill": {
     "duration": 0.064521,
     "end_time": "2021-10-08T16:00:08.901395",
     "exception": false,
     "start_time": "2021-10-08T16:00:08.836874",
     "status": "completed"
    },
    "tags": []
   },
   "outputs": [
    {
     "data": {
      "text/html": [
       "<div>\n",
       "<style scoped>\n",
       "    .dataframe tbody tr th:only-of-type {\n",
       "        vertical-align: middle;\n",
       "    }\n",
       "\n",
       "    .dataframe tbody tr th {\n",
       "        vertical-align: top;\n",
       "    }\n",
       "\n",
       "    .dataframe thead th {\n",
       "        text-align: right;\n",
       "    }\n",
       "</style>\n",
       "<table border=\"1\" class=\"dataframe\">\n",
       "  <thead>\n",
       "    <tr style=\"text-align: right;\">\n",
       "      <th></th>\n",
       "      <th>RECORD_TIME</th>\n",
       "    </tr>\n",
       "  </thead>\n",
       "  <tbody>\n",
       "    <tr>\n",
       "      <th>0</th>\n",
       "      <td>2021-10-08 18:00</td>\n",
       "    </tr>\n",
       "    <tr>\n",
       "      <th>1</th>\n",
       "      <td>2021-10-08 17:30</td>\n",
       "    </tr>\n",
       "  </tbody>\n",
       "</table>\n",
       "</div>"
      ],
      "text/plain": [
       "        RECORD_TIME\n",
       "0  2021-10-08 18:00\n",
       "1  2021-10-08 17:30"
      ]
     },
     "execution_count": 3,
     "metadata": {},
     "output_type": "execute_result"
    }
   ],
   "source": [
    "timestamps"
   ]
  },
  {
   "cell_type": "code",
   "execution_count": 4,
   "id": "alternate-victory",
   "metadata": {
    "execution": {
     "iopub.execute_input": "2021-10-08T16:00:08.961951Z",
     "iopub.status.busy": "2021-10-08T16:00:08.960101Z",
     "iopub.status.idle": "2021-10-08T16:00:09.689198Z",
     "shell.execute_reply": "2021-10-08T16:00:09.690425Z"
    },
    "papermill": {
     "duration": 0.762836,
     "end_time": "2021-10-08T16:00:09.690877",
     "exception": false,
     "start_time": "2021-10-08T16:00:08.928041",
     "status": "completed"
    },
    "tags": []
   },
   "outputs": [],
   "source": [
    "df = pd.read_sql(\"select * from EBAY_TOP_BERLIN where record_time in (select distinct record_time from EBAY_TOP_BERLIN order by record_time desc limit 2)\", sqlite3.connect(\"UsedObjects.db\"))"
   ]
  },
  {
   "cell_type": "code",
   "execution_count": 5,
   "id": "popular-active",
   "metadata": {
    "execution": {
     "iopub.execute_input": "2021-10-08T16:00:09.761083Z",
     "iopub.status.busy": "2021-10-08T16:00:09.754215Z",
     "iopub.status.idle": "2021-10-08T16:00:09.777281Z",
     "shell.execute_reply": "2021-10-08T16:00:09.778577Z"
    },
    "papermill": {
     "duration": 0.067588,
     "end_time": "2021-10-08T16:00:09.779049",
     "exception": false,
     "start_time": "2021-10-08T16:00:09.711461",
     "status": "completed"
    },
    "tags": []
   },
   "outputs": [],
   "source": [
    "df_pivot = df.pivot_table(index=\"PRODUCT\", columns = \"RECORD_TIME\", values = \"LISTING_COUNT\")"
   ]
  },
  {
   "cell_type": "code",
   "execution_count": 6,
   "id": "union-huntington",
   "metadata": {
    "execution": {
     "iopub.execute_input": "2021-10-08T16:00:09.835440Z",
     "iopub.status.busy": "2021-10-08T16:00:09.833318Z",
     "iopub.status.idle": "2021-10-08T16:00:09.838754Z",
     "shell.execute_reply": "2021-10-08T16:00:09.840062Z"
    },
    "papermill": {
     "duration": 0.040997,
     "end_time": "2021-10-08T16:00:09.840493",
     "exception": false,
     "start_time": "2021-10-08T16:00:09.799496",
     "status": "completed"
    },
    "tags": []
   },
   "outputs": [],
   "source": [
    "df_pivot.columns = [\"stamp_1\", \"stamp_2\"]\n",
    "df_pivot_diff = df_pivot.diff(axis=1)"
   ]
  },
  {
   "cell_type": "code",
   "execution_count": 7,
   "id": "fifth-motion",
   "metadata": {
    "execution": {
     "iopub.execute_input": "2021-10-08T16:00:09.898083Z",
     "iopub.status.busy": "2021-10-08T16:00:09.895485Z",
     "iopub.status.idle": "2021-10-08T16:00:11.401989Z",
     "shell.execute_reply": "2021-10-08T16:00:11.403675Z"
    },
    "papermill": {
     "duration": 1.540667,
     "end_time": "2021-10-08T16:00:11.404189",
     "exception": false,
     "start_time": "2021-10-08T16:00:09.863522",
     "status": "completed"
    },
    "tags": []
   },
   "outputs": [
    {
     "data": {
      "text/plain": [
       "<AxesSubplot:ylabel='PRODUCT'>"
      ]
     },
     "execution_count": 7,
     "metadata": {},
     "output_type": "execute_result"
    },
    {
     "data": {
      "image/png": "[encoded data removed]",
      "text/plain": [
       "<Figure size 432x288 with 1 Axes>"
      ]
     },
     "metadata": {
      "needs_background": "light"
     },
     "output_type": "display_data"
    }
   ],
   "source": [
    "df_pivot_diff.sort_values(\"stamp_2\", ascending = False)[\"stamp_2\"].head(10).plot.barh()"
   ]
  },
  {
   "cell_type": "code",
   "execution_count": null,
   "id": "extra-executive",
   "metadata": {
    "papermill": {
     "duration": 0.022442,
     "end_time": "2021-10-08T16:00:11.451127",
     "exception": false,
     "start_time": "2021-10-08T16:00:11.428685",
     "status": "completed"
    },
    "tags": []
   },
   "outputs": [],
   "source": []
  }
 ],
 "metadata": {
  "kernelspec": {
   "display_name": "Python 3",
   "language": "python",
   "name": "python3"
  },
  "language_info": {
   "codemirror_mode": {
    "name": "ipython",
    "version": 3
   },
   "file_extension": ".py",
   "mimetype": "text/x-python",
   "name": "python",
   "nbconvert_exporter": "python",
   "pygments_lexer": "ipython3",
   "version": "3.9.5"
  },
  "papermill": {
   "default_parameters": {},
   "duration": 7.837098,
   "end_time": "2021-10-08T16:00:12.840459",
   "environment_variables": {},
   "exception": null,
   "input_path": "eBay_Overview.ipynb",
   "output_path": "eBay_Overview.ipynb",
   "parameters": {},
   "start_time": "2021-10-08T16:00:05.003361",
   "version": "2.3.3"
  }
 },
 "nbformat": 4,
 "nbformat_minor": 5
}