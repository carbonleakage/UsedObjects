{
 "cells": [
  {
   "cell_type": "code",
   "execution_count": 1,
   "id": "reverse-picking",
   "metadata": {
    "execution": {
     "iopub.execute_input": "2021-12-03T21:00:07.405593Z",
     "iopub.status.busy": "2021-12-03T21:00:07.403102Z",
     "iopub.status.idle": "2021-12-03T21:00:08.342071Z",
     "shell.execute_reply": "2021-12-03T21:00:08.343574Z"
    },
    "papermill": {
     "duration": 0.989457,
     "end_time": "2021-12-03T21:00:08.344290",
     "exception": false,
     "start_time": "2021-12-03T21:00:07.354833",
     "status": "completed"
    },
    "tags": []
   },
   "outputs": [],
   "source": [
    "import pandas as pd\n",
    "import sqlite3"
   ]
  },
  {
   "cell_type": "code",
   "execution_count": 2,
   "id": "innovative-syndrome",
   "metadata": {
    "execution": {
     "iopub.execute_input": "2021-12-03T21:00:08.432385Z",
     "iopub.status.busy": "2021-12-03T21:00:08.430152Z",
     "iopub.status.idle": "2021-12-03T21:00:09.417342Z",
     "shell.execute_reply": "2021-12-03T21:00:09.419026Z"
    },
    "papermill": {
     "duration": 1.028328,
     "end_time": "2021-12-03T21:00:09.419538",
     "exception": false,
     "start_time": "2021-12-03T21:00:08.391210",
     "status": "completed"
    },
    "tags": []
   },
   "outputs": [],
   "source": [
    "timestamps = pd.read_sql(\"select distinct record_time from EBAY_TOP_BERLIN order by record_time desc limit 2\", sqlite3.connect(\"UsedObjects.db\"))"
   ]
  },
  {
   "cell_type": "code",
   "execution_count": 3,
   "id": "periodic-identification",
   "metadata": {
    "execution": {
     "iopub.execute_input": "2021-12-03T21:00:09.491658Z",
     "iopub.status.busy": "2021-12-03T21:00:09.489197Z",
     "iopub.status.idle": "2021-12-03T21:00:09.514521Z",
     "shell.execute_reply": "2021-12-03T21:00:09.512861Z"
    },
    "papermill": {
     "duration": 0.074063,
     "end_time": "2021-12-03T21:00:09.514982",
     "exception": false,
     "start_time": "2021-12-03T21:00:09.440919",
     "status": "completed"
    },
    "tags": []
   },
   "outputs": [
    {
     "data": {
      "text/html": [
       "<div>\n",
       "<style scoped>\n",
       "    .dataframe tbody tr th:only-of-type {\n",
       "        vertical-align: middle;\n",
       "    }\n",
       "\n",
       "    .dataframe tbody tr th {\n",
       "        vertical-align: top;\n",
       "    }\n",
       "\n",
       "    .dataframe thead th {\n",
       "        text-align: right;\n",
       "    }\n",
       "</style>\n",
       "<table border=\"1\" class=\"dataframe\">\n",
       "  <thead>\n",
       "    <tr style=\"text-align: right;\">\n",
       "      <th></th>\n",
       "      <th>RECORD_TIME</th>\n",
       "    </tr>\n",
       "  </thead>\n",
       "  <tbody>\n",
       "    <tr>\n",
       "      <th>0</th>\n",
       "      <td>2021-12-03 22:00</td>\n",
       "    </tr>\n",
       "    <tr>\n",
       "      <th>1</th>\n",
       "      <td>2021-12-03 21:30</td>\n",
       "    </tr>\n",
       "  </tbody>\n",
       "</table>\n",
       "</div>"
      ],
      "text/plain": [
       "        RECORD_TIME\n",
       "0  2021-12-03 22:00\n",
       "1  2021-12-03 21:30"
      ]
     },
     "execution_count": 3,
     "metadata": {},
     "output_type": "execute_result"
    }
   ],
   "source": [
    "timestamps"
   ]
  },
  {
   "cell_type": "code",
   "execution_count": 4,
   "id": "alternate-victory",
   "metadata": {
    "execution": {
     "iopub.execute_input": "2021-12-03T21:00:09.574287Z",
     "iopub.status.busy": "2021-12-03T21:00:09.572050Z",
     "iopub.status.idle": "2021-12-03T21:00:11.022411Z",
     "shell.execute_reply": "2021-12-03T21:00:11.023798Z"
    },
    "papermill": {
     "duration": 1.484728,
     "end_time": "2021-12-03T21:00:11.024235",
     "exception": false,
     "start_time": "2021-12-03T21:00:09.539507",
     "status": "completed"
    },
    "tags": []
   },
   "outputs": [],
   "source": [
    "df = pd.read_sql(\"select * from EBAY_TOP_BERLIN where record_time in (select distinct record_time from EBAY_TOP_BERLIN order by record_time desc limit 2)\", sqlite3.connect(\"UsedObjects.db\"))"
   ]
  },
  {
   "cell_type": "code",
   "execution_count": 5,
   "id": "popular-active",
   "metadata": {
    "execution": {
     "iopub.execute_input": "2021-12-03T21:00:11.091595Z",
     "iopub.status.busy": "2021-12-03T21:00:11.089197Z",
     "iopub.status.idle": "2021-12-03T21:00:11.120885Z",
     "shell.execute_reply": "2021-12-03T21:00:11.122384Z"
    },
    "papermill": {
     "duration": 0.076305,
     "end_time": "2021-12-03T21:00:11.122854",
     "exception": false,
     "start_time": "2021-12-03T21:00:11.046549",
     "status": "completed"
    },
    "tags": []
   },
   "outputs": [],
   "source": [
    "df_pivot = df.pivot_table(index=\"PRODUCT\", columns = \"RECORD_TIME\", values = \"LISTING_COUNT\")"
   ]
  },
  {
   "cell_type": "code",
   "execution_count": 6,
   "id": "union-huntington",
   "metadata": {
    "execution": {
     "iopub.execute_input": "2021-12-03T21:00:11.181071Z",
     "iopub.status.busy": "2021-12-03T21:00:11.178753Z",
     "iopub.status.idle": "2021-12-03T21:00:11.186231Z",
     "shell.execute_reply": "2021-12-03T21:00:11.184552Z"
    },
    "papermill": {
     "duration": 0.043668,
     "end_time": "2021-12-03T21:00:11.186634",
     "exception": false,
     "start_time": "2021-12-03T21:00:11.142966",
     "status": "completed"
    },
    "tags": []
   },
   "outputs": [],
   "source": [
    "df_pivot.columns = [\"stamp_1\", \"stamp_2\"]\n",
    "df_pivot_diff = df_pivot.diff(axis=1)"
   ]
  },
  {
   "cell_type": "code",
   "execution_count": 7,
   "id": "fifth-motion",
   "metadata": {
    "execution": {
     "iopub.execute_input": "2021-12-03T21:00:11.245518Z",
     "iopub.status.busy": "2021-12-03T21:00:11.242192Z",
     "iopub.status.idle": "2021-12-03T21:00:13.269635Z",
     "shell.execute_reply": "2021-12-03T21:00:13.272314Z"
    },
    "papermill": {
     "duration": 2.065926,
     "end_time": "2021-12-03T21:00:13.273136",
     "exception": false,
     "start_time": "2021-12-03T21:00:11.207210",
     "status": "completed"
    },
    "tags": []
   },
   "outputs": [
    {
     "data": {
      "text/plain": [
       "<AxesSubplot:ylabel='PRODUCT'>"
      ]
     },
     "execution_count": 7,
     "metadata": {},
     "output_type": "execute_result"
    },
    {
     "data": {
      "image/png": "[encoded data removed]",
      "text/plain": [
       "<Figure size 432x288 with 1 Axes>"
      ]
     },
     "metadata": {
      "needs_background": "light"
     },
     "output_type": "display_data"
    }
   ],
   "source": [
    "df_pivot_diff.sort_values(\"stamp_2\", ascending = False)[\"stamp_2\"].head(10).plot.barh()"
   ]
  },
  {
   "cell_type": "code",
   "execution_count": null,
   "id": "extra-executive",
   "metadata": {
    "papermill": {
     "duration": 0.093666,
     "end_time": "2021-12-03T21:00:13.400830",
     "exception": false,
     "start_time": "2021-12-03T21:00:13.307164",
     "status": "completed"
    },
    "tags": []
   },
   "outputs": [],
   "source": []
  }
 ],
 "metadata": {
  "kernelspec": {
   "display_name": "Python 3",
   "language": "python",
   "name": "python3"
  },
  "language_info": {
   "codemirror_mode": {
    "name": "ipython",
    "version": 3
   },
   "file_extension": ".py",
   "mimetype": "text/x-python",
   "name": "python",
   "nbconvert_exporter": "python",
   "pygments_lexer": "ipython3",
   "version": "3.9.5"
  },
  "papermill": {
   "default_parameters": {},
   "duration": 9.558752,
   "end_time": "2021-12-03T21:00:14.167536",
   "environment_variables": {},
   "exception": null,
   "input_path": "eBay_Overview.ipynb",
   "output_path": "eBay_Overview.ipynb",
   "parameters": {},
   "start_time": "2021-12-03T21:00:04.608784",
   "version": "2.3.3"
  }
 },
 "nbformat": 4,
 "nbformat_minor": 5
}