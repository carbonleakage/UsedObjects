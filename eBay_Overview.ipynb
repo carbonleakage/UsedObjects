{
 "cells": [
  {
   "cell_type": "code",
   "execution_count": 1,
   "id": "reverse-picking",
   "metadata": {
    "execution": {
     "iopub.execute_input": "2021-11-14T02:30:08.112445Z",
     "iopub.status.busy": "2021-11-14T02:30:08.110032Z",
     "iopub.status.idle": "2021-11-14T02:30:09.065009Z",
     "shell.execute_reply": "2021-11-14T02:30:09.066526Z"
    },
    "papermill": {
     "duration": 1.004674,
     "end_time": "2021-11-14T02:30:09.067279",
     "exception": false,
     "start_time": "2021-11-14T02:30:08.062605",
     "status": "completed"
    },
    "tags": []
   },
   "outputs": [],
   "source": [
    "import pandas as pd\n",
    "import sqlite3"
   ]
  },
  {
   "cell_type": "code",
   "execution_count": 2,
   "id": "innovative-syndrome",
   "metadata": {
    "execution": {
     "iopub.execute_input": "2021-11-14T02:30:09.130549Z",
     "iopub.status.busy": "2021-11-14T02:30:09.127120Z",
     "iopub.status.idle": "2021-11-14T02:30:09.956454Z",
     "shell.execute_reply": "2021-11-14T02:30:09.958024Z"
    },
    "papermill": {
     "duration": 0.863427,
     "end_time": "2021-11-14T02:30:09.958544",
     "exception": false,
     "start_time": "2021-11-14T02:30:09.095117",
     "status": "completed"
    },
    "tags": []
   },
   "outputs": [],
   "source": [
    "timestamps = pd.read_sql(\"select distinct record_time from EBAY_TOP_BERLIN order by record_time desc limit 2\", sqlite3.connect(\"UsedObjects.db\"))"
   ]
  },
  {
   "cell_type": "code",
   "execution_count": 3,
   "id": "periodic-identification",
   "metadata": {
    "execution": {
     "iopub.execute_input": "2021-11-14T02:30:10.036006Z",
     "iopub.status.busy": "2021-11-14T02:30:10.029954Z",
     "iopub.status.idle": "2021-11-14T02:30:10.051957Z",
     "shell.execute_reply": "2021-11-14T02:30:10.053378Z"
    },
    "papermill": {
     "duration": 0.071923,
     "end_time": "2021-11-14T02:30:10.053860",
     "exception": false,
     "start_time": "2021-11-14T02:30:09.981937",
     "status": "completed"
    },
    "tags": []
   },
   "outputs": [
    {
     "data": {
      "text/html": [
       "<div>\n",
       "<style scoped>\n",
       "    .dataframe tbody tr th:only-of-type {\n",
       "        vertical-align: middle;\n",
       "    }\n",
       "\n",
       "    .dataframe tbody tr th {\n",
       "        vertical-align: top;\n",
       "    }\n",
       "\n",
       "    .dataframe thead th {\n",
       "        text-align: right;\n",
       "    }\n",
       "</style>\n",
       "<table border=\"1\" class=\"dataframe\">\n",
       "  <thead>\n",
       "    <tr style=\"text-align: right;\">\n",
       "      <th></th>\n",
       "      <th>RECORD_TIME</th>\n",
       "    </tr>\n",
       "  </thead>\n",
       "  <tbody>\n",
       "    <tr>\n",
       "      <th>0</th>\n",
       "      <td>2021-11-14 03:30</td>\n",
       "    </tr>\n",
       "    <tr>\n",
       "      <th>1</th>\n",
       "      <td>2021-11-14 03:00</td>\n",
       "    </tr>\n",
       "  </tbody>\n",
       "</table>\n",
       "</div>"
      ],
      "text/plain": [
       "        RECORD_TIME\n",
       "0  2021-11-14 03:30\n",
       "1  2021-11-14 03:00"
      ]
     },
     "execution_count": 3,
     "metadata": {},
     "output_type": "execute_result"
    }
   ],
   "source": [
    "timestamps"
   ]
  },
  {
   "cell_type": "code",
   "execution_count": 4,
   "id": "alternate-victory",
   "metadata": {
    "execution": {
     "iopub.execute_input": "2021-11-14T02:30:10.113917Z",
     "iopub.status.busy": "2021-11-14T02:30:10.111872Z",
     "iopub.status.idle": "2021-11-14T02:30:11.292905Z",
     "shell.execute_reply": "2021-11-14T02:30:11.294543Z"
    },
    "papermill": {
     "duration": 1.217744,
     "end_time": "2021-11-14T02:30:11.295087",
     "exception": false,
     "start_time": "2021-11-14T02:30:10.077343",
     "status": "completed"
    },
    "tags": []
   },
   "outputs": [],
   "source": [
    "df = pd.read_sql(\"select * from EBAY_TOP_BERLIN where record_time in (select distinct record_time from EBAY_TOP_BERLIN order by record_time desc limit 2)\", sqlite3.connect(\"UsedObjects.db\"))"
   ]
  },
  {
   "cell_type": "code",
   "execution_count": 5,
   "id": "popular-active",
   "metadata": {
    "execution": {
     "iopub.execute_input": "2021-11-14T02:30:11.361377Z",
     "iopub.status.busy": "2021-11-14T02:30:11.359003Z",
     "iopub.status.idle": "2021-11-14T02:30:11.388139Z",
     "shell.execute_reply": "2021-11-14T02:30:11.389402Z"
    },
    "papermill": {
     "duration": 0.071579,
     "end_time": "2021-11-14T02:30:11.389839",
     "exception": false,
     "start_time": "2021-11-14T02:30:11.318260",
     "status": "completed"
    },
    "tags": []
   },
   "outputs": [],
   "source": [
    "df_pivot = df.pivot_table(index=\"PRODUCT\", columns = \"RECORD_TIME\", values = \"LISTING_COUNT\")"
   ]
  },
  {
   "cell_type": "code",
   "execution_count": 6,
   "id": "union-huntington",
   "metadata": {
    "execution": {
     "iopub.execute_input": "2021-11-14T02:30:11.452660Z",
     "iopub.status.busy": "2021-11-14T02:30:11.450416Z",
     "iopub.status.idle": "2021-11-14T02:30:11.456453Z",
     "shell.execute_reply": "2021-11-14T02:30:11.457965Z"
    },
    "papermill": {
     "duration": 0.047483,
     "end_time": "2021-11-14T02:30:11.458471",
     "exception": false,
     "start_time": "2021-11-14T02:30:11.410988",
     "status": "completed"
    },
    "tags": []
   },
   "outputs": [],
   "source": [
    "df_pivot.columns = [\"stamp_1\", \"stamp_2\"]\n",
    "df_pivot_diff = df_pivot.diff(axis=1)"
   ]
  },
  {
   "cell_type": "code",
   "execution_count": 7,
   "id": "fifth-motion",
   "metadata": {
    "execution": {
     "iopub.execute_input": "2021-11-14T02:30:11.517793Z",
     "iopub.status.busy": "2021-11-14T02:30:11.515334Z",
     "iopub.status.idle": "2021-11-14T02:30:13.442014Z",
     "shell.execute_reply": "2021-11-14T02:30:13.443516Z"
    },
    "papermill": {
     "duration": 1.964362,
     "end_time": "2021-11-14T02:30:13.443983",
     "exception": false,
     "start_time": "2021-11-14T02:30:11.479621",
     "status": "completed"
    },
    "tags": []
   },
   "outputs": [
    {
     "data": {
      "text/plain": [
       "<AxesSubplot:ylabel='PRODUCT'>"
      ]
     },
     "execution_count": 7,
     "metadata": {},
     "output_type": "execute_result"
    },
    {
     "data": {
      "image/png": "[encoded data removed]",
      "text/plain": [
       "<Figure size 432x288 with 1 Axes>"
      ]
     },
     "metadata": {
      "needs_background": "light"
     },
     "output_type": "display_data"
    }
   ],
   "source": [
    "df_pivot_diff.sort_values(\"stamp_2\", ascending = False)[\"stamp_2\"].head(10).plot.barh()"
   ]
  },
  {
   "cell_type": "code",
   "execution_count": null,
   "id": "extra-executive",
   "metadata": {
    "papermill": {
     "duration": 0.024985,
     "end_time": "2021-11-14T02:30:13.492777",
     "exception": false,
     "start_time": "2021-11-14T02:30:13.467792",
     "status": "completed"
    },
    "tags": []
   },
   "outputs": [],
   "source": []
  }
 ],
 "metadata": {
  "kernelspec": {
   "display_name": "Python 3",
   "language": "python",
   "name": "python3"
  },
  "language_info": {
   "codemirror_mode": {
    "name": "ipython",
    "version": 3
   },
   "file_extension": ".py",
   "mimetype": "text/x-python",
   "name": "python",
   "nbconvert_exporter": "python",
   "pygments_lexer": "ipython3",
   "version": "3.9.5"
  },
  "papermill": {
   "default_parameters": {},
   "duration": 9.927741,
   "end_time": "2021-11-14T02:30:15.280515",
   "environment_variables": {},
   "exception": null,
   "input_path": "eBay_Overview.ipynb",
   "output_path": "eBay_Overview.ipynb",
   "parameters": {},
   "start_time": "2021-11-14T02:30:05.352774",
   "version": "2.3.3"
  }
 },
 "nbformat": 4,
 "nbformat_minor": 5
}