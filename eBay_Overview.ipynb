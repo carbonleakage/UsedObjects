{
 "cells": [
  {
   "cell_type": "code",
   "execution_count": 1,
   "id": "reverse-picking",
   "metadata": {
    "execution": {
     "iopub.execute_input": "2021-08-23T02:30:06.825782Z",
     "iopub.status.busy": "2021-08-23T02:30:06.823881Z",
     "iopub.status.idle": "2021-08-23T02:30:07.630615Z",
     "shell.execute_reply": "2021-08-23T02:30:07.632020Z"
    },
    "papermill": {
     "duration": 0.859452,
     "end_time": "2021-08-23T02:30:07.632667",
     "exception": false,
     "start_time": "2021-08-23T02:30:06.773215",
     "status": "completed"
    },
    "tags": []
   },
   "outputs": [],
   "source": [
    "import pandas as pd\n",
    "import sqlite3"
   ]
  },
  {
   "cell_type": "code",
   "execution_count": 2,
   "id": "innovative-syndrome",
   "metadata": {
    "execution": {
     "iopub.execute_input": "2021-08-23T02:30:07.683143Z",
     "iopub.status.busy": "2021-08-23T02:30:07.681185Z",
     "iopub.status.idle": "2021-08-23T02:30:07.789844Z",
     "shell.execute_reply": "2021-08-23T02:30:07.791285Z"
    },
    "papermill": {
     "duration": 0.138549,
     "end_time": "2021-08-23T02:30:07.791728",
     "exception": false,
     "start_time": "2021-08-23T02:30:07.653179",
     "status": "completed"
    },
    "tags": []
   },
   "outputs": [],
   "source": [
    "timestamps = pd.read_sql(\"select distinct record_time from EBAY_TOP_BERLIN order by record_time desc limit 2\", sqlite3.connect(\"UsedObjects.db\"))"
   ]
  },
  {
   "cell_type": "code",
   "execution_count": 3,
   "id": "periodic-identification",
   "metadata": {
    "execution": {
     "iopub.execute_input": "2021-08-23T02:30:07.858838Z",
     "iopub.status.busy": "2021-08-23T02:30:07.856729Z",
     "iopub.status.idle": "2021-08-23T02:30:07.876627Z",
     "shell.execute_reply": "2021-08-23T02:30:07.877811Z"
    },
    "papermill": {
     "duration": 0.066524,
     "end_time": "2021-08-23T02:30:07.878292",
     "exception": false,
     "start_time": "2021-08-23T02:30:07.811768",
     "status": "completed"
    },
    "tags": []
   },
   "outputs": [
    {
     "data": {
      "text/html": [
       "<div>\n",
       "<style scoped>\n",
       "    .dataframe tbody tr th:only-of-type {\n",
       "        vertical-align: middle;\n",
       "    }\n",
       "\n",
       "    .dataframe tbody tr th {\n",
       "        vertical-align: top;\n",
       "    }\n",
       "\n",
       "    .dataframe thead th {\n",
       "        text-align: right;\n",
       "    }\n",
       "</style>\n",
       "<table border=\"1\" class=\"dataframe\">\n",
       "  <thead>\n",
       "    <tr style=\"text-align: right;\">\n",
       "      <th></th>\n",
       "      <th>RECORD_TIME</th>\n",
       "    </tr>\n",
       "  </thead>\n",
       "  <tbody>\n",
       "    <tr>\n",
       "      <th>0</th>\n",
       "      <td>2021-08-23 04:30</td>\n",
       "    </tr>\n",
       "    <tr>\n",
       "      <th>1</th>\n",
       "      <td>2021-08-23 04:00</td>\n",
       "    </tr>\n",
       "  </tbody>\n",
       "</table>\n",
       "</div>"
      ],
      "text/plain": [
       "        RECORD_TIME\n",
       "0  2021-08-23 04:30\n",
       "1  2021-08-23 04:00"
      ]
     },
     "execution_count": 3,
     "metadata": {},
     "output_type": "execute_result"
    }
   ],
   "source": [
    "timestamps"
   ]
  },
  {
   "cell_type": "code",
   "execution_count": 4,
   "id": "alternate-victory",
   "metadata": {
    "execution": {
     "iopub.execute_input": "2021-08-23T02:30:07.931315Z",
     "iopub.status.busy": "2021-08-23T02:30:07.929363Z",
     "iopub.status.idle": "2021-08-23T02:30:08.090691Z",
     "shell.execute_reply": "2021-08-23T02:30:08.091913Z"
    },
    "papermill": {
     "duration": 0.191313,
     "end_time": "2021-08-23T02:30:08.092306",
     "exception": false,
     "start_time": "2021-08-23T02:30:07.900993",
     "status": "completed"
    },
    "tags": []
   },
   "outputs": [],
   "source": [
    "df = pd.read_sql(\"select * from EBAY_TOP_BERLIN where record_time in (select distinct record_time from EBAY_TOP_BERLIN order by record_time desc limit 2)\", sqlite3.connect(\"UsedObjects.db\"))"
   ]
  },
  {
   "cell_type": "code",
   "execution_count": 5,
   "id": "popular-active",
   "metadata": {
    "execution": {
     "iopub.execute_input": "2021-08-23T02:30:08.156903Z",
     "iopub.status.busy": "2021-08-23T02:30:08.149689Z",
     "iopub.status.idle": "2021-08-23T02:30:08.176811Z",
     "shell.execute_reply": "2021-08-23T02:30:08.178254Z"
    },
    "papermill": {
     "duration": 0.065904,
     "end_time": "2021-08-23T02:30:08.178704",
     "exception": false,
     "start_time": "2021-08-23T02:30:08.112800",
     "status": "completed"
    },
    "tags": []
   },
   "outputs": [],
   "source": [
    "df_pivot = df.pivot_table(index=\"PRODUCT\", columns = \"RECORD_TIME\", values = \"LISTING_COUNT\")"
   ]
  },
  {
   "cell_type": "code",
   "execution_count": 6,
   "id": "union-huntington",
   "metadata": {
    "execution": {
     "iopub.execute_input": "2021-08-23T02:30:08.236521Z",
     "iopub.status.busy": "2021-08-23T02:30:08.234111Z",
     "iopub.status.idle": "2021-08-23T02:30:08.240040Z",
     "shell.execute_reply": "2021-08-23T02:30:08.241323Z"
    },
    "papermill": {
     "duration": 0.042485,
     "end_time": "2021-08-23T02:30:08.241743",
     "exception": false,
     "start_time": "2021-08-23T02:30:08.199258",
     "status": "completed"
    },
    "tags": []
   },
   "outputs": [],
   "source": [
    "df_pivot.columns = [\"stamp_1\", \"stamp_2\"]\n",
    "df_pivot_diff = df_pivot.diff(axis=1)"
   ]
  },
  {
   "cell_type": "code",
   "execution_count": 7,
   "id": "fifth-motion",
   "metadata": {
    "execution": {
     "iopub.execute_input": "2021-08-23T02:30:08.306170Z",
     "iopub.status.busy": "2021-08-23T02:30:08.303432Z",
     "iopub.status.idle": "2021-08-23T02:30:09.795576Z",
     "shell.execute_reply": "2021-08-23T02:30:09.796854Z"
    },
    "papermill": {
     "duration": 1.529537,
     "end_time": "2021-08-23T02:30:09.797268",
     "exception": false,
     "start_time": "2021-08-23T02:30:08.267731",
     "status": "completed"
    },
    "tags": []
   },
   "outputs": [
    {
     "data": {
      "text/plain": [
       "<AxesSubplot:ylabel='PRODUCT'>"
      ]
     },
     "execution_count": 7,
     "metadata": {},
     "output_type": "execute_result"
    },
    {
     "data": {
      "image/png": "[encoded data removed]",
      "text/plain": [
       "<Figure size 432x288 with 1 Axes>"
      ]
     },
     "metadata": {
      "needs_background": "light"
     },
     "output_type": "display_data"
    }
   ],
   "source": [
    "df_pivot_diff.sort_values(\"stamp_2\", ascending = False)[\"stamp_2\"].head(10).plot.barh()"
   ]
  },
  {
   "cell_type": "code",
   "execution_count": null,
   "id": "extra-executive",
   "metadata": {
    "papermill": {
     "duration": 0.022599,
     "end_time": "2021-08-23T02:30:09.846343",
     "exception": false,
     "start_time": "2021-08-23T02:30:09.823744",
     "status": "completed"
    },
    "tags": []
   },
   "outputs": [],
   "source": []
  }
 ],
 "metadata": {
  "kernelspec": {
   "display_name": "Python 3",
   "language": "python",
   "name": "python3"
  },
  "language_info": {
   "codemirror_mode": {
    "name": "ipython",
    "version": 3
   },
   "file_extension": ".py",
   "mimetype": "text/x-python",
   "name": "python",
   "nbconvert_exporter": "python",
   "pygments_lexer": "ipython3",
   "version": "3.9.5"
  },
  "papermill": {
   "default_parameters": {},
   "duration": 6.838502,
   "end_time": "2021-08-23T02:30:11.198517",
   "environment_variables": {},
   "exception": null,
   "input_path": "eBay_Overview.ipynb",
   "output_path": "eBay_Overview.ipynb",
   "parameters": {},
   "start_time": "2021-08-23T02:30:04.360015",
   "version": "2.3.3"
  }
 },
 "nbformat": 4,
 "nbformat_minor": 5
}