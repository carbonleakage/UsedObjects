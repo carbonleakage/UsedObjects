{
 "cells": [
  {
   "cell_type": "code",
   "execution_count": 1,
   "id": "reverse-picking",
   "metadata": {
    "execution": {
     "iopub.execute_input": "2021-10-23T10:00:07.343607Z",
     "iopub.status.busy": "2021-10-23T10:00:07.341686Z",
     "iopub.status.idle": "2021-10-23T10:00:08.146213Z",
     "shell.execute_reply": "2021-10-23T10:00:08.147456Z"
    },
    "papermill": {
     "duration": 0.856731,
     "end_time": "2021-10-23T10:00:08.148085",
     "exception": false,
     "start_time": "2021-10-23T10:00:07.291354",
     "status": "completed"
    },
    "tags": []
   },
   "outputs": [],
   "source": [
    "import pandas as pd\n",
    "import sqlite3"
   ]
  },
  {
   "cell_type": "code",
   "execution_count": 2,
   "id": "innovative-syndrome",
   "metadata": {
    "execution": {
     "iopub.execute_input": "2021-10-23T10:00:08.199926Z",
     "iopub.status.busy": "2021-10-23T10:00:08.198057Z",
     "iopub.status.idle": "2021-10-23T10:00:08.823494Z",
     "shell.execute_reply": "2021-10-23T10:00:08.824747Z"
    },
    "papermill": {
     "duration": 0.655362,
     "end_time": "2021-10-23T10:00:08.825201",
     "exception": false,
     "start_time": "2021-10-23T10:00:08.169839",
     "status": "completed"
    },
    "tags": []
   },
   "outputs": [],
   "source": [
    "timestamps = pd.read_sql(\"select distinct record_time from EBAY_TOP_BERLIN order by record_time desc limit 2\", sqlite3.connect(\"UsedObjects.db\"))"
   ]
  },
  {
   "cell_type": "code",
   "execution_count": 3,
   "id": "periodic-identification",
   "metadata": {
    "execution": {
     "iopub.execute_input": "2021-10-23T10:00:08.902558Z",
     "iopub.status.busy": "2021-10-23T10:00:08.897257Z",
     "iopub.status.idle": "2021-10-23T10:00:08.919193Z",
     "shell.execute_reply": "2021-10-23T10:00:08.920478Z"
    },
    "papermill": {
     "duration": 0.070654,
     "end_time": "2021-10-23T10:00:08.920958",
     "exception": false,
     "start_time": "2021-10-23T10:00:08.850304",
     "status": "completed"
    },
    "tags": []
   },
   "outputs": [
    {
     "data": {
      "text/html": [
       "<div>\n",
       "<style scoped>\n",
       "    .dataframe tbody tr th:only-of-type {\n",
       "        vertical-align: middle;\n",
       "    }\n",
       "\n",
       "    .dataframe tbody tr th {\n",
       "        vertical-align: top;\n",
       "    }\n",
       "\n",
       "    .dataframe thead th {\n",
       "        text-align: right;\n",
       "    }\n",
       "</style>\n",
       "<table border=\"1\" class=\"dataframe\">\n",
       "  <thead>\n",
       "    <tr style=\"text-align: right;\">\n",
       "      <th></th>\n",
       "      <th>RECORD_TIME</th>\n",
       "    </tr>\n",
       "  </thead>\n",
       "  <tbody>\n",
       "    <tr>\n",
       "      <th>0</th>\n",
       "      <td>2021-10-23 12:00</td>\n",
       "    </tr>\n",
       "    <tr>\n",
       "      <th>1</th>\n",
       "      <td>2021-10-23 11:30</td>\n",
       "    </tr>\n",
       "  </tbody>\n",
       "</table>\n",
       "</div>"
      ],
      "text/plain": [
       "        RECORD_TIME\n",
       "0  2021-10-23 12:00\n",
       "1  2021-10-23 11:30"
      ]
     },
     "execution_count": 3,
     "metadata": {},
     "output_type": "execute_result"
    }
   ],
   "source": [
    "timestamps"
   ]
  },
  {
   "cell_type": "code",
   "execution_count": 4,
   "id": "alternate-victory",
   "metadata": {
    "execution": {
     "iopub.execute_input": "2021-10-23T10:00:08.972061Z",
     "iopub.status.busy": "2021-10-23T10:00:08.970197Z",
     "iopub.status.idle": "2021-10-23T10:00:09.888933Z",
     "shell.execute_reply": "2021-10-23T10:00:09.890311Z"
    },
    "papermill": {
     "duration": 0.949038,
     "end_time": "2021-10-23T10:00:09.890724",
     "exception": false,
     "start_time": "2021-10-23T10:00:08.941686",
     "status": "completed"
    },
    "tags": []
   },
   "outputs": [],
   "source": [
    "df = pd.read_sql(\"select * from EBAY_TOP_BERLIN where record_time in (select distinct record_time from EBAY_TOP_BERLIN order by record_time desc limit 2)\", sqlite3.connect(\"UsedObjects.db\"))"
   ]
  },
  {
   "cell_type": "code",
   "execution_count": 5,
   "id": "popular-active",
   "metadata": {
    "execution": {
     "iopub.execute_input": "2021-10-23T10:00:09.960494Z",
     "iopub.status.busy": "2021-10-23T10:00:09.953573Z",
     "iopub.status.idle": "2021-10-23T10:00:09.975836Z",
     "shell.execute_reply": "2021-10-23T10:00:09.977285Z"
    },
    "papermill": {
     "duration": 0.066133,
     "end_time": "2021-10-23T10:00:09.977702",
     "exception": false,
     "start_time": "2021-10-23T10:00:09.911569",
     "status": "completed"
    },
    "tags": []
   },
   "outputs": [],
   "source": [
    "df_pivot = df.pivot_table(index=\"PRODUCT\", columns = \"RECORD_TIME\", values = \"LISTING_COUNT\")"
   ]
  },
  {
   "cell_type": "code",
   "execution_count": 6,
   "id": "union-huntington",
   "metadata": {
    "execution": {
     "iopub.execute_input": "2021-10-23T10:00:10.036503Z",
     "iopub.status.busy": "2021-10-23T10:00:10.034074Z",
     "iopub.status.idle": "2021-10-23T10:00:10.039935Z",
     "shell.execute_reply": "2021-10-23T10:00:10.041194Z"
    },
    "papermill": {
     "duration": 0.042345,
     "end_time": "2021-10-23T10:00:10.041629",
     "exception": false,
     "start_time": "2021-10-23T10:00:09.999284",
     "status": "completed"
    },
    "tags": []
   },
   "outputs": [],
   "source": [
    "df_pivot.columns = [\"stamp_1\", \"stamp_2\"]\n",
    "df_pivot_diff = df_pivot.diff(axis=1)"
   ]
  },
  {
   "cell_type": "code",
   "execution_count": 7,
   "id": "fifth-motion",
   "metadata": {
    "execution": {
     "iopub.execute_input": "2021-10-23T10:00:10.095882Z",
     "iopub.status.busy": "2021-10-23T10:00:10.093599Z",
     "iopub.status.idle": "2021-10-23T10:00:11.575359Z",
     "shell.execute_reply": "2021-10-23T10:00:11.576640Z"
    },
    "papermill": {
     "duration": 1.51478,
     "end_time": "2021-10-23T10:00:11.577290",
     "exception": false,
     "start_time": "2021-10-23T10:00:10.062510",
     "status": "completed"
    },
    "tags": []
   },
   "outputs": [
    {
     "data": {
      "text/plain": [
       "<AxesSubplot:ylabel='PRODUCT'>"
      ]
     },
     "execution_count": 7,
     "metadata": {},
     "output_type": "execute_result"
    },
    {
     "data": {
      "image/png": "[encoded data removed]",
      "text/plain": [
       "<Figure size 432x288 with 1 Axes>"
      ]
     },
     "metadata": {
      "needs_background": "light"
     },
     "output_type": "display_data"
    }
   ],
   "source": [
    "df_pivot_diff.sort_values(\"stamp_2\", ascending = False)[\"stamp_2\"].head(10).plot.barh()"
   ]
  },
  {
   "cell_type": "code",
   "execution_count": null,
   "id": "extra-executive",
   "metadata": {
    "papermill": {
     "duration": 0.022408,
     "end_time": "2021-10-23T10:00:11.624436",
     "exception": false,
     "start_time": "2021-10-23T10:00:11.602028",
     "status": "completed"
    },
    "tags": []
   },
   "outputs": [],
   "source": []
  }
 ],
 "metadata": {
  "kernelspec": {
   "display_name": "Python 3",
   "language": "python",
   "name": "python3"
  },
  "language_info": {
   "codemirror_mode": {
    "name": "ipython",
    "version": 3
   },
   "file_extension": ".py",
   "mimetype": "text/x-python",
   "name": "python",
   "nbconvert_exporter": "python",
   "pygments_lexer": "ipython3",
   "version": "3.9.5"
  },
  "papermill": {
   "default_parameters": {},
   "duration": 7.378847,
   "end_time": "2021-10-23T10:00:12.267476",
   "environment_variables": {},
   "exception": null,
   "input_path": "eBay_Overview.ipynb",
   "output_path": "eBay_Overview.ipynb",
   "parameters": {},
   "start_time": "2021-10-23T10:00:04.888629",
   "version": "2.3.3"
  }
 },
 "nbformat": 4,
 "nbformat_minor": 5
}