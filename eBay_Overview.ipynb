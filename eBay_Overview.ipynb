{
 "cells": [
  {
   "cell_type": "code",
   "execution_count": 1,
   "id": "reverse-picking",
   "metadata": {
    "execution": {
     "iopub.execute_input": "2021-11-01T08:30:07.253941Z",
     "iopub.status.busy": "2021-11-01T08:30:07.251911Z",
     "iopub.status.idle": "2021-11-01T08:30:08.057468Z",
     "shell.execute_reply": "2021-11-01T08:30:08.058884Z"
    },
    "papermill": {
     "duration": 0.857121,
     "end_time": "2021-11-01T08:30:08.059523",
     "exception": false,
     "start_time": "2021-11-01T08:30:07.202402",
     "status": "completed"
    },
    "tags": []
   },
   "outputs": [],
   "source": [
    "import pandas as pd\n",
    "import sqlite3"
   ]
  },
  {
   "cell_type": "code",
   "execution_count": 2,
   "id": "innovative-syndrome",
   "metadata": {
    "execution": {
     "iopub.execute_input": "2021-11-01T08:30:08.109430Z",
     "iopub.status.busy": "2021-11-01T08:30:08.107465Z",
     "iopub.status.idle": "2021-11-01T08:30:08.792187Z",
     "shell.execute_reply": "2021-11-01T08:30:08.793720Z"
    },
    "papermill": {
     "duration": 0.714431,
     "end_time": "2021-11-01T08:30:08.794160",
     "exception": false,
     "start_time": "2021-11-01T08:30:08.079729",
     "status": "completed"
    },
    "tags": []
   },
   "outputs": [],
   "source": [
    "timestamps = pd.read_sql(\"select distinct record_time from EBAY_TOP_BERLIN order by record_time desc limit 2\", sqlite3.connect(\"UsedObjects.db\"))"
   ]
  },
  {
   "cell_type": "code",
   "execution_count": 3,
   "id": "periodic-identification",
   "metadata": {
    "execution": {
     "iopub.execute_input": "2021-11-01T08:30:08.872434Z",
     "iopub.status.busy": "2021-11-01T08:30:08.870404Z",
     "iopub.status.idle": "2021-11-01T08:30:08.891253Z",
     "shell.execute_reply": "2021-11-01T08:30:08.892636Z"
    },
    "papermill": {
     "duration": 0.071452,
     "end_time": "2021-11-01T08:30:08.893127",
     "exception": false,
     "start_time": "2021-11-01T08:30:08.821675",
     "status": "completed"
    },
    "tags": []
   },
   "outputs": [
    {
     "data": {
      "text/html": [
       "<div>\n",
       "<style scoped>\n",
       "    .dataframe tbody tr th:only-of-type {\n",
       "        vertical-align: middle;\n",
       "    }\n",
       "\n",
       "    .dataframe tbody tr th {\n",
       "        vertical-align: top;\n",
       "    }\n",
       "\n",
       "    .dataframe thead th {\n",
       "        text-align: right;\n",
       "    }\n",
       "</style>\n",
       "<table border=\"1\" class=\"dataframe\">\n",
       "  <thead>\n",
       "    <tr style=\"text-align: right;\">\n",
       "      <th></th>\n",
       "      <th>RECORD_TIME</th>\n",
       "    </tr>\n",
       "  </thead>\n",
       "  <tbody>\n",
       "    <tr>\n",
       "      <th>0</th>\n",
       "      <td>2021-11-01 09:30</td>\n",
       "    </tr>\n",
       "    <tr>\n",
       "      <th>1</th>\n",
       "      <td>2021-11-01 09:00</td>\n",
       "    </tr>\n",
       "  </tbody>\n",
       "</table>\n",
       "</div>"
      ],
      "text/plain": [
       "        RECORD_TIME\n",
       "0  2021-11-01 09:30\n",
       "1  2021-11-01 09:00"
      ]
     },
     "execution_count": 3,
     "metadata": {},
     "output_type": "execute_result"
    }
   ],
   "source": [
    "timestamps"
   ]
  },
  {
   "cell_type": "code",
   "execution_count": 4,
   "id": "alternate-victory",
   "metadata": {
    "execution": {
     "iopub.execute_input": "2021-11-01T08:30:08.943827Z",
     "iopub.status.busy": "2021-11-01T08:30:08.941996Z",
     "iopub.status.idle": "2021-11-01T08:30:09.931994Z",
     "shell.execute_reply": "2021-11-01T08:30:09.933470Z"
    },
    "papermill": {
     "duration": 1.020062,
     "end_time": "2021-11-01T08:30:09.933933",
     "exception": false,
     "start_time": "2021-11-01T08:30:08.913871",
     "status": "completed"
    },
    "tags": []
   },
   "outputs": [],
   "source": [
    "df = pd.read_sql(\"select * from EBAY_TOP_BERLIN where record_time in (select distinct record_time from EBAY_TOP_BERLIN order by record_time desc limit 2)\", sqlite3.connect(\"UsedObjects.db\"))"
   ]
  },
  {
   "cell_type": "code",
   "execution_count": 5,
   "id": "popular-active",
   "metadata": {
    "execution": {
     "iopub.execute_input": "2021-11-01T08:30:10.006519Z",
     "iopub.status.busy": "2021-11-01T08:30:09.991447Z",
     "iopub.status.idle": "2021-11-01T08:30:10.022732Z",
     "shell.execute_reply": "2021-11-01T08:30:10.024015Z"
    },
    "papermill": {
     "duration": 0.069774,
     "end_time": "2021-11-01T08:30:10.024424",
     "exception": false,
     "start_time": "2021-11-01T08:30:09.954650",
     "status": "completed"
    },
    "tags": []
   },
   "outputs": [],
   "source": [
    "df_pivot = df.pivot_table(index=\"PRODUCT\", columns = \"RECORD_TIME\", values = \"LISTING_COUNT\")"
   ]
  },
  {
   "cell_type": "code",
   "execution_count": 6,
   "id": "union-huntington",
   "metadata": {
    "execution": {
     "iopub.execute_input": "2021-11-01T08:30:10.080272Z",
     "iopub.status.busy": "2021-11-01T08:30:10.078244Z",
     "iopub.status.idle": "2021-11-01T08:30:10.083590Z",
     "shell.execute_reply": "2021-11-01T08:30:10.084828Z"
    },
    "papermill": {
     "duration": 0.039883,
     "end_time": "2021-11-01T08:30:10.085274",
     "exception": false,
     "start_time": "2021-11-01T08:30:10.045391",
     "status": "completed"
    },
    "tags": []
   },
   "outputs": [],
   "source": [
    "df_pivot.columns = [\"stamp_1\", \"stamp_2\"]\n",
    "df_pivot_diff = df_pivot.diff(axis=1)"
   ]
  },
  {
   "cell_type": "code",
   "execution_count": 7,
   "id": "fifth-motion",
   "metadata": {
    "execution": {
     "iopub.execute_input": "2021-11-01T08:30:10.141455Z",
     "iopub.status.busy": "2021-11-01T08:30:10.138914Z",
     "iopub.status.idle": "2021-11-01T08:30:11.621166Z",
     "shell.execute_reply": "2021-11-01T08:30:11.622434Z"
    },
    "papermill": {
     "duration": 1.514812,
     "end_time": "2021-11-01T08:30:11.622885",
     "exception": false,
     "start_time": "2021-11-01T08:30:10.108073",
     "status": "completed"
    },
    "tags": []
   },
   "outputs": [
    {
     "data": {
      "text/plain": [
       "<AxesSubplot:ylabel='PRODUCT'>"
      ]
     },
     "execution_count": 7,
     "metadata": {},
     "output_type": "execute_result"
    },
    {
     "data": {
      "image/png": "[encoded data removed]",
      "text/plain": [
       "<Figure size 432x288 with 1 Axes>"
      ]
     },
     "metadata": {
      "needs_background": "light"
     },
     "output_type": "display_data"
    }
   ],
   "source": [
    "df_pivot_diff.sort_values(\"stamp_2\", ascending = False)[\"stamp_2\"].head(10).plot.barh()"
   ]
  },
  {
   "cell_type": "code",
   "execution_count": null,
   "id": "extra-executive",
   "metadata": {
    "papermill": {
     "duration": 0.022154,
     "end_time": "2021-11-01T08:30:11.669474",
     "exception": false,
     "start_time": "2021-11-01T08:30:11.647320",
     "status": "completed"
    },
    "tags": []
   },
   "outputs": [],
   "source": []
  }
 ],
 "metadata": {
  "kernelspec": {
   "display_name": "Python 3",
   "language": "python",
   "name": "python3"
  },
  "language_info": {
   "codemirror_mode": {
    "name": "ipython",
    "version": 3
   },
   "file_extension": ".py",
   "mimetype": "text/x-python",
   "name": "python",
   "nbconvert_exporter": "python",
   "pygments_lexer": "ipython3",
   "version": "3.9.5"
  },
  "papermill": {
   "default_parameters": {},
   "duration": 7.620802,
   "end_time": "2021-11-01T08:30:12.313003",
   "environment_variables": {},
   "exception": null,
   "input_path": "eBay_Overview.ipynb",
   "output_path": "eBay_Overview.ipynb",
   "parameters": {},
   "start_time": "2021-11-01T08:30:04.692201",
   "version": "2.3.3"
  }
 },
 "nbformat": 4,
 "nbformat_minor": 5
}