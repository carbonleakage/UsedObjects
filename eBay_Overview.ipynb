{
 "cells": [
  {
   "cell_type": "code",
   "execution_count": 1,
   "id": "reverse-picking",
   "metadata": {
    "execution": {
     "iopub.execute_input": "2021-08-21T01:00:06.655955Z",
     "iopub.status.busy": "2021-08-21T01:00:06.653967Z",
     "iopub.status.idle": "2021-08-21T01:00:07.459289Z",
     "shell.execute_reply": "2021-08-21T01:00:07.457554Z"
    },
    "papermill": {
     "duration": 0.855402,
     "end_time": "2021-08-21T01:00:07.459709",
     "exception": false,
     "start_time": "2021-08-21T01:00:06.604307",
     "status": "completed"
    },
    "tags": []
   },
   "outputs": [],
   "source": [
    "import pandas as pd\n",
    "import sqlite3"
   ]
  },
  {
   "cell_type": "code",
   "execution_count": 2,
   "id": "innovative-syndrome",
   "metadata": {
    "execution": {
     "iopub.execute_input": "2021-08-21T01:00:07.510496Z",
     "iopub.status.busy": "2021-08-21T01:00:07.508477Z",
     "iopub.status.idle": "2021-08-21T01:00:07.601453Z",
     "shell.execute_reply": "2021-08-21T01:00:07.602728Z"
    },
    "papermill": {
     "duration": 0.123091,
     "end_time": "2021-08-21T01:00:07.603165",
     "exception": false,
     "start_time": "2021-08-21T01:00:07.480074",
     "status": "completed"
    },
    "tags": []
   },
   "outputs": [],
   "source": [
    "timestamps = pd.read_sql(\"select distinct record_time from EBAY_TOP_BERLIN order by record_time desc limit 2\", sqlite3.connect(\"UsedObjects.db\"))"
   ]
  },
  {
   "cell_type": "code",
   "execution_count": 3,
   "id": "periodic-identification",
   "metadata": {
    "execution": {
     "iopub.execute_input": "2021-08-21T01:00:07.668353Z",
     "iopub.status.busy": "2021-08-21T01:00:07.666345Z",
     "iopub.status.idle": "2021-08-21T01:00:07.686292Z",
     "shell.execute_reply": "2021-08-21T01:00:07.687649Z"
    },
    "papermill": {
     "duration": 0.064584,
     "end_time": "2021-08-21T01:00:07.688054",
     "exception": false,
     "start_time": "2021-08-21T01:00:07.623470",
     "status": "completed"
    },
    "tags": []
   },
   "outputs": [
    {
     "data": {
      "text/html": [
       "<div>\n",
       "<style scoped>\n",
       "    .dataframe tbody tr th:only-of-type {\n",
       "        vertical-align: middle;\n",
       "    }\n",
       "\n",
       "    .dataframe tbody tr th {\n",
       "        vertical-align: top;\n",
       "    }\n",
       "\n",
       "    .dataframe thead th {\n",
       "        text-align: right;\n",
       "    }\n",
       "</style>\n",
       "<table border=\"1\" class=\"dataframe\">\n",
       "  <thead>\n",
       "    <tr style=\"text-align: right;\">\n",
       "      <th></th>\n",
       "      <th>RECORD_TIME</th>\n",
       "    </tr>\n",
       "  </thead>\n",
       "  <tbody>\n",
       "    <tr>\n",
       "      <th>0</th>\n",
       "      <td>2021-08-21 03:00</td>\n",
       "    </tr>\n",
       "    <tr>\n",
       "      <th>1</th>\n",
       "      <td>2021-08-21 02:30</td>\n",
       "    </tr>\n",
       "  </tbody>\n",
       "</table>\n",
       "</div>"
      ],
      "text/plain": [
       "        RECORD_TIME\n",
       "0  2021-08-21 03:00\n",
       "1  2021-08-21 02:30"
      ]
     },
     "execution_count": 3,
     "metadata": {},
     "output_type": "execute_result"
    }
   ],
   "source": [
    "timestamps"
   ]
  },
  {
   "cell_type": "code",
   "execution_count": 4,
   "id": "alternate-victory",
   "metadata": {
    "execution": {
     "iopub.execute_input": "2021-08-21T01:00:07.740342Z",
     "iopub.status.busy": "2021-08-21T01:00:07.738196Z",
     "iopub.status.idle": "2021-08-21T01:00:07.877462Z",
     "shell.execute_reply": "2021-08-21T01:00:07.878753Z"
    },
    "papermill": {
     "duration": 0.169305,
     "end_time": "2021-08-21T01:00:07.879152",
     "exception": false,
     "start_time": "2021-08-21T01:00:07.709847",
     "status": "completed"
    },
    "tags": []
   },
   "outputs": [],
   "source": [
    "df = pd.read_sql(\"select * from EBAY_TOP_BERLIN where record_time in (select distinct record_time from EBAY_TOP_BERLIN order by record_time desc limit 2)\", sqlite3.connect(\"UsedObjects.db\"))"
   ]
  },
  {
   "cell_type": "code",
   "execution_count": 5,
   "id": "popular-active",
   "metadata": {
    "execution": {
     "iopub.execute_input": "2021-08-21T01:00:07.950588Z",
     "iopub.status.busy": "2021-08-21T01:00:07.938637Z",
     "iopub.status.idle": "2021-08-21T01:00:07.965889Z",
     "shell.execute_reply": "2021-08-21T01:00:07.967204Z"
    },
    "papermill": {
     "duration": 0.06789,
     "end_time": "2021-08-21T01:00:07.967602",
     "exception": false,
     "start_time": "2021-08-21T01:00:07.899712",
     "status": "completed"
    },
    "tags": []
   },
   "outputs": [],
   "source": [
    "df_pivot = df.pivot_table(index=\"PRODUCT\", columns = \"RECORD_TIME\", values = \"LISTING_COUNT\")"
   ]
  },
  {
   "cell_type": "code",
   "execution_count": 6,
   "id": "union-huntington",
   "metadata": {
    "execution": {
     "iopub.execute_input": "2021-08-21T01:00:08.024360Z",
     "iopub.status.busy": "2021-08-21T01:00:08.022200Z",
     "iopub.status.idle": "2021-08-21T01:00:08.027735Z",
     "shell.execute_reply": "2021-08-21T01:00:08.029102Z"
    },
    "papermill": {
     "duration": 0.04129,
     "end_time": "2021-08-21T01:00:08.029535",
     "exception": false,
     "start_time": "2021-08-21T01:00:07.988245",
     "status": "completed"
    },
    "tags": []
   },
   "outputs": [],
   "source": [
    "df_pivot.columns = [\"stamp_1\", \"stamp_2\"]\n",
    "df_pivot_diff = df_pivot.diff(axis=1)"
   ]
  },
  {
   "cell_type": "code",
   "execution_count": 7,
   "id": "fifth-motion",
   "metadata": {
    "execution": {
     "iopub.execute_input": "2021-08-21T01:00:08.087528Z",
     "iopub.status.busy": "2021-08-21T01:00:08.084990Z",
     "iopub.status.idle": "2021-08-21T01:00:09.545226Z",
     "shell.execute_reply": "2021-08-21T01:00:09.546590Z"
    },
    "papermill": {
     "duration": 1.4938,
     "end_time": "2021-08-21T01:00:09.547013",
     "exception": false,
     "start_time": "2021-08-21T01:00:08.053213",
     "status": "completed"
    },
    "tags": []
   },
   "outputs": [
    {
     "data": {
      "text/plain": [
       "<AxesSubplot:ylabel='PRODUCT'>"
      ]
     },
     "execution_count": 7,
     "metadata": {},
     "output_type": "execute_result"
    },
    {
     "data": {
      "image/png": "[encoded data removed]",
      "text/plain": [
       "<Figure size 432x288 with 1 Axes>"
      ]
     },
     "metadata": {
      "needs_background": "light"
     },
     "output_type": "display_data"
    }
   ],
   "source": [
    "df_pivot_diff.sort_values(\"stamp_2\", ascending = False)[\"stamp_2\"].head(10).plot.barh()"
   ]
  },
  {
   "cell_type": "code",
   "execution_count": null,
   "id": "extra-executive",
   "metadata": {
    "papermill": {
     "duration": 0.022345,
     "end_time": "2021-08-21T01:00:09.594286",
     "exception": false,
     "start_time": "2021-08-21T01:00:09.571941",
     "status": "completed"
    },
    "tags": []
   },
   "outputs": [],
   "source": []
  }
 ],
 "metadata": {
  "kernelspec": {
   "display_name": "Python 3",
   "language": "python",
   "name": "python3"
  },
  "language_info": {
   "codemirror_mode": {
    "name": "ipython",
    "version": 3
   },
   "file_extension": ".py",
   "mimetype": "text/x-python",
   "name": "python",
   "nbconvert_exporter": "python",
   "pygments_lexer": "ipython3",
   "version": "3.9.5"
  },
  "papermill": {
   "default_parameters": {},
   "duration": 6.820025,
   "end_time": "2021-08-21T01:00:11.019601",
   "environment_variables": {},
   "exception": null,
   "input_path": "eBay_Overview.ipynb",
   "output_path": "eBay_Overview.ipynb",
   "parameters": {},
   "start_time": "2021-08-21T01:00:04.199576",
   "version": "2.3.3"
  }
 },
 "nbformat": 4,
 "nbformat_minor": 5
}