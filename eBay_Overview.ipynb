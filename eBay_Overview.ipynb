{
 "cells": [
  {
   "cell_type": "code",
   "execution_count": 1,
   "id": "reverse-picking",
   "metadata": {
    "execution": {
     "iopub.execute_input": "2021-09-08T21:30:07.012637Z",
     "iopub.status.busy": "2021-09-08T21:30:07.010626Z",
     "iopub.status.idle": "2021-09-08T21:30:07.822238Z",
     "shell.execute_reply": "2021-09-08T21:30:07.820493Z"
    },
    "papermill": {
     "duration": 0.860991,
     "end_time": "2021-09-08T21:30:07.822680",
     "exception": false,
     "start_time": "2021-09-08T21:30:06.961689",
     "status": "completed"
    },
    "tags": []
   },
   "outputs": [],
   "source": [
    "import pandas as pd\n",
    "import sqlite3"
   ]
  },
  {
   "cell_type": "code",
   "execution_count": 2,
   "id": "innovative-syndrome",
   "metadata": {
    "execution": {
     "iopub.execute_input": "2021-09-08T21:30:07.874481Z",
     "iopub.status.busy": "2021-09-08T21:30:07.872538Z",
     "iopub.status.idle": "2021-09-08T21:30:08.112345Z",
     "shell.execute_reply": "2021-09-08T21:30:08.113540Z"
    },
    "papermill": {
     "duration": 0.269859,
     "end_time": "2021-09-08T21:30:08.113936",
     "exception": false,
     "start_time": "2021-09-08T21:30:07.844077",
     "status": "completed"
    },
    "tags": []
   },
   "outputs": [],
   "source": [
    "timestamps = pd.read_sql(\"select distinct record_time from EBAY_TOP_BERLIN order by record_time desc limit 2\", sqlite3.connect(\"UsedObjects.db\"))"
   ]
  },
  {
   "cell_type": "code",
   "execution_count": 3,
   "id": "periodic-identification",
   "metadata": {
    "execution": {
     "iopub.execute_input": "2021-09-08T21:30:08.178491Z",
     "iopub.status.busy": "2021-09-08T21:30:08.176452Z",
     "iopub.status.idle": "2021-09-08T21:30:08.196429Z",
     "shell.execute_reply": "2021-09-08T21:30:08.197616Z"
    },
    "papermill": {
     "duration": 0.063108,
     "end_time": "2021-09-08T21:30:08.198054",
     "exception": false,
     "start_time": "2021-09-08T21:30:08.134946",
     "status": "completed"
    },
    "tags": []
   },
   "outputs": [
    {
     "data": {
      "text/html": [
       "<div>\n",
       "<style scoped>\n",
       "    .dataframe tbody tr th:only-of-type {\n",
       "        vertical-align: middle;\n",
       "    }\n",
       "\n",
       "    .dataframe tbody tr th {\n",
       "        vertical-align: top;\n",
       "    }\n",
       "\n",
       "    .dataframe thead th {\n",
       "        text-align: right;\n",
       "    }\n",
       "</style>\n",
       "<table border=\"1\" class=\"dataframe\">\n",
       "  <thead>\n",
       "    <tr style=\"text-align: right;\">\n",
       "      <th></th>\n",
       "      <th>RECORD_TIME</th>\n",
       "    </tr>\n",
       "  </thead>\n",
       "  <tbody>\n",
       "    <tr>\n",
       "      <th>0</th>\n",
       "      <td>2021-09-08 23:30</td>\n",
       "    </tr>\n",
       "    <tr>\n",
       "      <th>1</th>\n",
       "      <td>2021-09-08 23:00</td>\n",
       "    </tr>\n",
       "  </tbody>\n",
       "</table>\n",
       "</div>"
      ],
      "text/plain": [
       "        RECORD_TIME\n",
       "0  2021-09-08 23:30\n",
       "1  2021-09-08 23:00"
      ]
     },
     "execution_count": 3,
     "metadata": {},
     "output_type": "execute_result"
    }
   ],
   "source": [
    "timestamps"
   ]
  },
  {
   "cell_type": "code",
   "execution_count": 4,
   "id": "alternate-victory",
   "metadata": {
    "execution": {
     "iopub.execute_input": "2021-09-08T21:30:08.250086Z",
     "iopub.status.busy": "2021-09-08T21:30:08.248254Z",
     "iopub.status.idle": "2021-09-08T21:30:08.602606Z",
     "shell.execute_reply": "2021-09-08T21:30:08.600905Z"
    },
    "papermill": {
     "duration": 0.382972,
     "end_time": "2021-09-08T21:30:08.603027",
     "exception": false,
     "start_time": "2021-09-08T21:30:08.220055",
     "status": "completed"
    },
    "tags": []
   },
   "outputs": [],
   "source": [
    "df = pd.read_sql(\"select * from EBAY_TOP_BERLIN where record_time in (select distinct record_time from EBAY_TOP_BERLIN order by record_time desc limit 2)\", sqlite3.connect(\"UsedObjects.db\"))"
   ]
  },
  {
   "cell_type": "code",
   "execution_count": 5,
   "id": "popular-active",
   "metadata": {
    "execution": {
     "iopub.execute_input": "2021-09-08T21:30:08.696350Z",
     "iopub.status.busy": "2021-09-08T21:30:08.684876Z",
     "iopub.status.idle": "2021-09-08T21:30:08.711756Z",
     "shell.execute_reply": "2021-09-08T21:30:08.712993Z"
    },
    "papermill": {
     "duration": 0.074775,
     "end_time": "2021-09-08T21:30:08.713395",
     "exception": false,
     "start_time": "2021-09-08T21:30:08.638620",
     "status": "completed"
    },
    "tags": []
   },
   "outputs": [],
   "source": [
    "df_pivot = df.pivot_table(index=\"PRODUCT\", columns = \"RECORD_TIME\", values = \"LISTING_COUNT\")"
   ]
  },
  {
   "cell_type": "code",
   "execution_count": 6,
   "id": "union-huntington",
   "metadata": {
    "execution": {
     "iopub.execute_input": "2021-09-08T21:30:08.770849Z",
     "iopub.status.busy": "2021-09-08T21:30:08.768683Z",
     "iopub.status.idle": "2021-09-08T21:30:08.774261Z",
     "shell.execute_reply": "2021-09-08T21:30:08.775757Z"
    },
    "papermill": {
     "duration": 0.041225,
     "end_time": "2021-09-08T21:30:08.776231",
     "exception": false,
     "start_time": "2021-09-08T21:30:08.735006",
     "status": "completed"
    },
    "tags": []
   },
   "outputs": [],
   "source": [
    "df_pivot.columns = [\"stamp_1\", \"stamp_2\"]\n",
    "df_pivot_diff = df_pivot.diff(axis=1)"
   ]
  },
  {
   "cell_type": "code",
   "execution_count": 7,
   "id": "fifth-motion",
   "metadata": {
    "execution": {
     "iopub.execute_input": "2021-09-08T21:30:08.835300Z",
     "iopub.status.busy": "2021-09-08T21:30:08.830661Z",
     "iopub.status.idle": "2021-09-08T21:30:10.340500Z",
     "shell.execute_reply": "2021-09-08T21:30:10.341788Z"
    },
    "papermill": {
     "duration": 1.543401,
     "end_time": "2021-09-08T21:30:10.342210",
     "exception": false,
     "start_time": "2021-09-08T21:30:08.798809",
     "status": "completed"
    },
    "tags": []
   },
   "outputs": [
    {
     "data": {
      "text/plain": [
       "<AxesSubplot:ylabel='PRODUCT'>"
      ]
     },
     "execution_count": 7,
     "metadata": {},
     "output_type": "execute_result"
    },
    {
     "data": {
      "image/png": "[encoded data removed]",
      "text/plain": [
       "<Figure size 432x288 with 1 Axes>"
      ]
     },
     "metadata": {
      "needs_background": "light"
     },
     "output_type": "display_data"
    }
   ],
   "source": [
    "df_pivot_diff.sort_values(\"stamp_2\", ascending = False)[\"stamp_2\"].head(10).plot.barh()"
   ]
  },
  {
   "cell_type": "code",
   "execution_count": null,
   "id": "extra-executive",
   "metadata": {
    "papermill": {
     "duration": 0.022338,
     "end_time": "2021-09-08T21:30:10.389775",
     "exception": false,
     "start_time": "2021-09-08T21:30:10.367437",
     "status": "completed"
    },
    "tags": []
   },
   "outputs": [],
   "source": []
  }
 ],
 "metadata": {
  "kernelspec": {
   "display_name": "Python 3",
   "language": "python",
   "name": "python3"
  },
  "language_info": {
   "codemirror_mode": {
    "name": "ipython",
    "version": 3
   },
   "file_extension": ".py",
   "mimetype": "text/x-python",
   "name": "python",
   "nbconvert_exporter": "python",
   "pygments_lexer": "ipython3",
   "version": "3.9.5"
  },
  "papermill": {
   "default_parameters": {},
   "duration": 6.490325,
   "end_time": "2021-09-08T21:30:11.029324",
   "environment_variables": {},
   "exception": null,
   "input_path": "eBay_Overview.ipynb",
   "output_path": "eBay_Overview.ipynb",
   "parameters": {},
   "start_time": "2021-09-08T21:30:04.538999",
   "version": "2.3.3"
  }
 },
 "nbformat": 4,
 "nbformat_minor": 5
}