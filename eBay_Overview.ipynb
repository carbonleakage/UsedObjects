{
 "cells": [
  {
   "cell_type": "code",
   "execution_count": 1,
   "id": "reverse-picking",
   "metadata": {
    "execution": {
     "iopub.execute_input": "2021-11-28T18:00:07.492659Z",
     "iopub.status.busy": "2021-11-28T18:00:07.489899Z",
     "iopub.status.idle": "2021-11-28T18:00:08.447005Z",
     "shell.execute_reply": "2021-11-28T18:00:08.448727Z"
    },
    "papermill": {
     "duration": 1.006619,
     "end_time": "2021-11-28T18:00:08.449482",
     "exception": false,
     "start_time": "2021-11-28T18:00:07.442863",
     "status": "completed"
    },
    "tags": []
   },
   "outputs": [],
   "source": [
    "import pandas as pd\n",
    "import sqlite3"
   ]
  },
  {
   "cell_type": "code",
   "execution_count": 2,
   "id": "innovative-syndrome",
   "metadata": {
    "execution": {
     "iopub.execute_input": "2021-11-28T18:00:08.521450Z",
     "iopub.status.busy": "2021-11-28T18:00:08.517511Z",
     "iopub.status.idle": "2021-11-28T18:00:09.433635Z",
     "shell.execute_reply": "2021-11-28T18:00:09.434906Z"
    },
    "papermill": {
     "duration": 0.957401,
     "end_time": "2021-11-28T18:00:09.435303",
     "exception": false,
     "start_time": "2021-11-28T18:00:08.477902",
     "status": "completed"
    },
    "tags": []
   },
   "outputs": [],
   "source": [
    "timestamps = pd.read_sql(\"select distinct record_time from EBAY_TOP_BERLIN order by record_time desc limit 2\", sqlite3.connect(\"UsedObjects.db\"))"
   ]
  },
  {
   "cell_type": "code",
   "execution_count": 3,
   "id": "periodic-identification",
   "metadata": {
    "execution": {
     "iopub.execute_input": "2021-11-28T18:00:09.499471Z",
     "iopub.status.busy": "2021-11-28T18:00:09.497443Z",
     "iopub.status.idle": "2021-11-28T18:00:09.517258Z",
     "shell.execute_reply": "2021-11-28T18:00:09.518491Z"
    },
    "papermill": {
     "duration": 0.064118,
     "end_time": "2021-11-28T18:00:09.518885",
     "exception": false,
     "start_time": "2021-11-28T18:00:09.454767",
     "status": "completed"
    },
    "tags": []
   },
   "outputs": [
    {
     "data": {
      "text/html": [
       "<div>\n",
       "<style scoped>\n",
       "    .dataframe tbody tr th:only-of-type {\n",
       "        vertical-align: middle;\n",
       "    }\n",
       "\n",
       "    .dataframe tbody tr th {\n",
       "        vertical-align: top;\n",
       "    }\n",
       "\n",
       "    .dataframe thead th {\n",
       "        text-align: right;\n",
       "    }\n",
       "</style>\n",
       "<table border=\"1\" class=\"dataframe\">\n",
       "  <thead>\n",
       "    <tr style=\"text-align: right;\">\n",
       "      <th></th>\n",
       "      <th>RECORD_TIME</th>\n",
       "    </tr>\n",
       "  </thead>\n",
       "  <tbody>\n",
       "    <tr>\n",
       "      <th>0</th>\n",
       "      <td>2021-11-28 19:00</td>\n",
       "    </tr>\n",
       "    <tr>\n",
       "      <th>1</th>\n",
       "      <td>2021-11-28 18:30</td>\n",
       "    </tr>\n",
       "  </tbody>\n",
       "</table>\n",
       "</div>"
      ],
      "text/plain": [
       "        RECORD_TIME\n",
       "0  2021-11-28 19:00\n",
       "1  2021-11-28 18:30"
      ]
     },
     "execution_count": 3,
     "metadata": {},
     "output_type": "execute_result"
    }
   ],
   "source": [
    "timestamps"
   ]
  },
  {
   "cell_type": "code",
   "execution_count": 4,
   "id": "alternate-victory",
   "metadata": {
    "execution": {
     "iopub.execute_input": "2021-11-28T18:00:09.571379Z",
     "iopub.status.busy": "2021-11-28T18:00:09.569219Z",
     "iopub.status.idle": "2021-11-28T18:00:10.892459Z",
     "shell.execute_reply": "2021-11-28T18:00:10.894032Z"
    },
    "papermill": {
     "duration": 1.353951,
     "end_time": "2021-11-28T18:00:10.894508",
     "exception": false,
     "start_time": "2021-11-28T18:00:09.540557",
     "status": "completed"
    },
    "tags": []
   },
   "outputs": [],
   "source": [
    "df = pd.read_sql(\"select * from EBAY_TOP_BERLIN where record_time in (select distinct record_time from EBAY_TOP_BERLIN order by record_time desc limit 2)\", sqlite3.connect(\"UsedObjects.db\"))"
   ]
  },
  {
   "cell_type": "code",
   "execution_count": 5,
   "id": "popular-active",
   "metadata": {
    "execution": {
     "iopub.execute_input": "2021-11-28T18:00:10.975854Z",
     "iopub.status.busy": "2021-11-28T18:00:10.961922Z",
     "iopub.status.idle": "2021-11-28T18:00:10.995011Z",
     "shell.execute_reply": "2021-11-28T18:00:10.996600Z"
    },
    "papermill": {
     "duration": 0.082032,
     "end_time": "2021-11-28T18:00:10.997193",
     "exception": false,
     "start_time": "2021-11-28T18:00:10.915161",
     "status": "completed"
    },
    "tags": []
   },
   "outputs": [],
   "source": [
    "df_pivot = df.pivot_table(index=\"PRODUCT\", columns = \"RECORD_TIME\", values = \"LISTING_COUNT\")"
   ]
  },
  {
   "cell_type": "code",
   "execution_count": 6,
   "id": "union-huntington",
   "metadata": {
    "execution": {
     "iopub.execute_input": "2021-11-28T18:00:11.064733Z",
     "iopub.status.busy": "2021-11-28T18:00:11.062228Z",
     "iopub.status.idle": "2021-11-28T18:00:11.070127Z",
     "shell.execute_reply": "2021-11-28T18:00:11.072014Z"
    },
    "papermill": {
     "duration": 0.054063,
     "end_time": "2021-11-28T18:00:11.072620",
     "exception": false,
     "start_time": "2021-11-28T18:00:11.018557",
     "status": "completed"
    },
    "tags": []
   },
   "outputs": [],
   "source": [
    "df_pivot.columns = [\"stamp_1\", \"stamp_2\"]\n",
    "df_pivot_diff = df_pivot.diff(axis=1)"
   ]
  },
  {
   "cell_type": "code",
   "execution_count": 7,
   "id": "fifth-motion",
   "metadata": {
    "execution": {
     "iopub.execute_input": "2021-11-28T18:00:11.130326Z",
     "iopub.status.busy": "2021-11-28T18:00:11.127767Z",
     "iopub.status.idle": "2021-11-28T18:00:13.198926Z",
     "shell.execute_reply": "2021-11-28T18:00:13.200988Z"
    },
    "papermill": {
     "duration": 2.107308,
     "end_time": "2021-11-28T18:00:13.201626",
     "exception": false,
     "start_time": "2021-11-28T18:00:11.094318",
     "status": "completed"
    },
    "tags": []
   },
   "outputs": [
    {
     "data": {
      "text/plain": [
       "<AxesSubplot:ylabel='PRODUCT'>"
      ]
     },
     "execution_count": 7,
     "metadata": {},
     "output_type": "execute_result"
    },
    {
     "data": {
      "image/png": "[encoded data removed]",
      "text/plain": [
       "<Figure size 432x288 with 1 Axes>"
      ]
     },
     "metadata": {
      "needs_background": "light"
     },
     "output_type": "display_data"
    }
   ],
   "source": [
    "df_pivot_diff.sort_values(\"stamp_2\", ascending = False)[\"stamp_2\"].head(10).plot.barh()"
   ]
  },
  {
   "cell_type": "code",
   "execution_count": null,
   "id": "extra-executive",
   "metadata": {
    "papermill": {
     "duration": 0.026666,
     "end_time": "2021-11-28T18:00:13.257041",
     "exception": false,
     "start_time": "2021-11-28T18:00:13.230375",
     "status": "completed"
    },
    "tags": []
   },
   "outputs": [],
   "source": []
  }
 ],
 "metadata": {
  "kernelspec": {
   "display_name": "Python 3",
   "language": "python",
   "name": "python3"
  },
  "language_info": {
   "codemirror_mode": {
    "name": "ipython",
    "version": 3
   },
   "file_extension": ".py",
   "mimetype": "text/x-python",
   "name": "python",
   "nbconvert_exporter": "python",
   "pygments_lexer": "ipython3",
   "version": "3.9.5"
  },
  "papermill": {
   "default_parameters": {},
   "duration": 9.934164,
   "end_time": "2021-11-28T18:00:14.648506",
   "environment_variables": {},
   "exception": null,
   "input_path": "eBay_Overview.ipynb",
   "output_path": "eBay_Overview.ipynb",
   "parameters": {},
   "start_time": "2021-11-28T18:00:04.714342",
   "version": "2.3.3"
  }
 },
 "nbformat": 4,
 "nbformat_minor": 5
}