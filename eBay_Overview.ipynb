{
 "cells": [
  {
   "cell_type": "code",
   "execution_count": 1,
   "id": "reverse-picking",
   "metadata": {
    "execution": {
     "iopub.execute_input": "2021-10-15T14:30:07.114565Z",
     "iopub.status.busy": "2021-10-15T14:30:07.112544Z",
     "iopub.status.idle": "2021-10-15T14:30:07.920119Z",
     "shell.execute_reply": "2021-10-15T14:30:07.921488Z"
    },
    "papermill": {
     "duration": 0.860598,
     "end_time": "2021-10-15T14:30:07.922124",
     "exception": false,
     "start_time": "2021-10-15T14:30:07.061526",
     "status": "completed"
    },
    "tags": []
   },
   "outputs": [],
   "source": [
    "import pandas as pd\n",
    "import sqlite3"
   ]
  },
  {
   "cell_type": "code",
   "execution_count": 2,
   "id": "innovative-syndrome",
   "metadata": {
    "execution": {
     "iopub.execute_input": "2021-10-15T14:30:07.972567Z",
     "iopub.status.busy": "2021-10-15T14:30:07.970703Z",
     "iopub.status.idle": "2021-10-15T14:30:08.503444Z",
     "shell.execute_reply": "2021-10-15T14:30:08.504779Z"
    },
    "papermill": {
     "duration": 0.562445,
     "end_time": "2021-10-15T14:30:08.505215",
     "exception": false,
     "start_time": "2021-10-15T14:30:07.942770",
     "status": "completed"
    },
    "tags": []
   },
   "outputs": [],
   "source": [
    "timestamps = pd.read_sql(\"select distinct record_time from EBAY_TOP_BERLIN order by record_time desc limit 2\", sqlite3.connect(\"UsedObjects.db\"))"
   ]
  },
  {
   "cell_type": "code",
   "execution_count": 3,
   "id": "periodic-identification",
   "metadata": {
    "execution": {
     "iopub.execute_input": "2021-10-15T14:30:08.579532Z",
     "iopub.status.busy": "2021-10-15T14:30:08.577339Z",
     "iopub.status.idle": "2021-10-15T14:30:08.599272Z",
     "shell.execute_reply": "2021-10-15T14:30:08.597806Z"
    },
    "papermill": {
     "duration": 0.074747,
     "end_time": "2021-10-15T14:30:08.599630",
     "exception": false,
     "start_time": "2021-10-15T14:30:08.524883",
     "status": "completed"
    },
    "tags": []
   },
   "outputs": [
    {
     "data": {
      "text/html": [
       "<div>\n",
       "<style scoped>\n",
       "    .dataframe tbody tr th:only-of-type {\n",
       "        vertical-align: middle;\n",
       "    }\n",
       "\n",
       "    .dataframe tbody tr th {\n",
       "        vertical-align: top;\n",
       "    }\n",
       "\n",
       "    .dataframe thead th {\n",
       "        text-align: right;\n",
       "    }\n",
       "</style>\n",
       "<table border=\"1\" class=\"dataframe\">\n",
       "  <thead>\n",
       "    <tr style=\"text-align: right;\">\n",
       "      <th></th>\n",
       "      <th>RECORD_TIME</th>\n",
       "    </tr>\n",
       "  </thead>\n",
       "  <tbody>\n",
       "    <tr>\n",
       "      <th>0</th>\n",
       "      <td>2021-10-15 16:30</td>\n",
       "    </tr>\n",
       "    <tr>\n",
       "      <th>1</th>\n",
       "      <td>2021-10-15 16:00</td>\n",
       "    </tr>\n",
       "  </tbody>\n",
       "</table>\n",
       "</div>"
      ],
      "text/plain": [
       "        RECORD_TIME\n",
       "0  2021-10-15 16:30\n",
       "1  2021-10-15 16:00"
      ]
     },
     "execution_count": 3,
     "metadata": {},
     "output_type": "execute_result"
    }
   ],
   "source": [
    "timestamps"
   ]
  },
  {
   "cell_type": "code",
   "execution_count": 4,
   "id": "alternate-victory",
   "metadata": {
    "execution": {
     "iopub.execute_input": "2021-10-15T14:30:08.651750Z",
     "iopub.status.busy": "2021-10-15T14:30:08.649482Z",
     "iopub.status.idle": "2021-10-15T14:30:09.452249Z",
     "shell.execute_reply": "2021-10-15T14:30:09.453664Z"
    },
    "papermill": {
     "duration": 0.83332,
     "end_time": "2021-10-15T14:30:09.454084",
     "exception": false,
     "start_time": "2021-10-15T14:30:08.620764",
     "status": "completed"
    },
    "tags": []
   },
   "outputs": [],
   "source": [
    "df = pd.read_sql(\"select * from EBAY_TOP_BERLIN where record_time in (select distinct record_time from EBAY_TOP_BERLIN order by record_time desc limit 2)\", sqlite3.connect(\"UsedObjects.db\"))"
   ]
  },
  {
   "cell_type": "code",
   "execution_count": 5,
   "id": "popular-active",
   "metadata": {
    "execution": {
     "iopub.execute_input": "2021-10-15T14:30:09.526320Z",
     "iopub.status.busy": "2021-10-15T14:30:09.515237Z",
     "iopub.status.idle": "2021-10-15T14:30:09.541845Z",
     "shell.execute_reply": "2021-10-15T14:30:09.543057Z"
    },
    "papermill": {
     "duration": 0.066827,
     "end_time": "2021-10-15T14:30:09.543460",
     "exception": false,
     "start_time": "2021-10-15T14:30:09.476633",
     "status": "completed"
    },
    "tags": []
   },
   "outputs": [],
   "source": [
    "df_pivot = df.pivot_table(index=\"PRODUCT\", columns = \"RECORD_TIME\", values = \"LISTING_COUNT\")"
   ]
  },
  {
   "cell_type": "code",
   "execution_count": 6,
   "id": "union-huntington",
   "metadata": {
    "execution": {
     "iopub.execute_input": "2021-10-15T14:30:09.603657Z",
     "iopub.status.busy": "2021-10-15T14:30:09.601202Z",
     "iopub.status.idle": "2021-10-15T14:30:09.609037Z",
     "shell.execute_reply": "2021-10-15T14:30:09.607257Z"
    },
    "papermill": {
     "duration": 0.042841,
     "end_time": "2021-10-15T14:30:09.609447",
     "exception": false,
     "start_time": "2021-10-15T14:30:09.566606",
     "status": "completed"
    },
    "tags": []
   },
   "outputs": [],
   "source": [
    "df_pivot.columns = [\"stamp_1\", \"stamp_2\"]\n",
    "df_pivot_diff = df_pivot.diff(axis=1)"
   ]
  },
  {
   "cell_type": "code",
   "execution_count": 7,
   "id": "fifth-motion",
   "metadata": {
    "execution": {
     "iopub.execute_input": "2021-10-15T14:30:09.664584Z",
     "iopub.status.busy": "2021-10-15T14:30:09.662396Z",
     "iopub.status.idle": "2021-10-15T14:30:11.157061Z",
     "shell.execute_reply": "2021-10-15T14:30:11.158354Z"
    },
    "papermill": {
     "duration": 1.527347,
     "end_time": "2021-10-15T14:30:11.158772",
     "exception": false,
     "start_time": "2021-10-15T14:30:09.631425",
     "status": "completed"
    },
    "tags": []
   },
   "outputs": [
    {
     "data": {
      "text/plain": [
       "<AxesSubplot:ylabel='PRODUCT'>"
      ]
     },
     "execution_count": 7,
     "metadata": {},
     "output_type": "execute_result"
    },
    {
     "data": {
      "image/png": "[encoded data removed]",
      "text/plain": [
       "<Figure size 432x288 with 1 Axes>"
      ]
     },
     "metadata": {
      "needs_background": "light"
     },
     "output_type": "display_data"
    }
   ],
   "source": [
    "df_pivot_diff.sort_values(\"stamp_2\", ascending = False)[\"stamp_2\"].head(10).plot.barh()"
   ]
  },
  {
   "cell_type": "code",
   "execution_count": null,
   "id": "extra-executive",
   "metadata": {
    "papermill": {
     "duration": 0.022142,
     "end_time": "2021-10-15T14:30:11.205775",
     "exception": false,
     "start_time": "2021-10-15T14:30:11.183633",
     "status": "completed"
    },
    "tags": []
   },
   "outputs": [],
   "source": []
  }
 ],
 "metadata": {
  "kernelspec": {
   "display_name": "Python 3",
   "language": "python",
   "name": "python3"
  },
  "language_info": {
   "codemirror_mode": {
    "name": "ipython",
    "version": 3
   },
   "file_extension": ".py",
   "mimetype": "text/x-python",
   "name": "python",
   "nbconvert_exporter": "python",
   "pygments_lexer": "ipython3",
   "version": "3.9.5"
  },
  "papermill": {
   "default_parameters": {},
   "duration": 7.825989,
   "end_time": "2021-10-15T14:30:12.479492",
   "environment_variables": {},
   "exception": null,
   "input_path": "eBay_Overview.ipynb",
   "output_path": "eBay_Overview.ipynb",
   "parameters": {},
   "start_time": "2021-10-15T14:30:04.653503",
   "version": "2.3.3"
  }
 },
 "nbformat": 4,
 "nbformat_minor": 5
}