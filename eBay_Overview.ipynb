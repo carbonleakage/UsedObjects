{
 "cells": [
  {
   "cell_type": "code",
   "execution_count": 1,
   "id": "reverse-picking",
   "metadata": {
    "execution": {
     "iopub.execute_input": "2021-08-17T14:30:06.639435Z",
     "iopub.status.busy": "2021-08-17T14:30:06.637378Z",
     "iopub.status.idle": "2021-08-17T14:30:07.441442Z",
     "shell.execute_reply": "2021-08-17T14:30:07.442821Z"
    },
    "papermill": {
     "duration": 0.853972,
     "end_time": "2021-08-17T14:30:07.443446",
     "exception": false,
     "start_time": "2021-08-17T14:30:06.589474",
     "status": "completed"
    },
    "tags": []
   },
   "outputs": [],
   "source": [
    "import pandas as pd\n",
    "import sqlite3"
   ]
  },
  {
   "cell_type": "code",
   "execution_count": 2,
   "id": "innovative-syndrome",
   "metadata": {
    "execution": {
     "iopub.execute_input": "2021-08-17T14:30:07.496243Z",
     "iopub.status.busy": "2021-08-17T14:30:07.494010Z",
     "iopub.status.idle": "2021-08-17T14:30:07.564322Z",
     "shell.execute_reply": "2021-08-17T14:30:07.565534Z"
    },
    "papermill": {
     "duration": 0.100142,
     "end_time": "2021-08-17T14:30:07.565982",
     "exception": false,
     "start_time": "2021-08-17T14:30:07.465840",
     "status": "completed"
    },
    "tags": []
   },
   "outputs": [],
   "source": [
    "timestamps = pd.read_sql(\"select distinct record_time from EBAY_TOP_BERLIN order by record_time desc limit 2\", sqlite3.connect(\"UsedObjects.db\"))"
   ]
  },
  {
   "cell_type": "code",
   "execution_count": 3,
   "id": "periodic-identification",
   "metadata": {
    "execution": {
     "iopub.execute_input": "2021-08-17T14:30:07.633787Z",
     "iopub.status.busy": "2021-08-17T14:30:07.628688Z",
     "iopub.status.idle": "2021-08-17T14:30:07.648596Z",
     "shell.execute_reply": "2021-08-17T14:30:07.650026Z"
    },
    "papermill": {
     "duration": 0.065193,
     "end_time": "2021-08-17T14:30:07.650476",
     "exception": false,
     "start_time": "2021-08-17T14:30:07.585283",
     "status": "completed"
    },
    "tags": []
   },
   "outputs": [
    {
     "data": {
      "text/html": [
       "<div>\n",
       "<style scoped>\n",
       "    .dataframe tbody tr th:only-of-type {\n",
       "        vertical-align: middle;\n",
       "    }\n",
       "\n",
       "    .dataframe tbody tr th {\n",
       "        vertical-align: top;\n",
       "    }\n",
       "\n",
       "    .dataframe thead th {\n",
       "        text-align: right;\n",
       "    }\n",
       "</style>\n",
       "<table border=\"1\" class=\"dataframe\">\n",
       "  <thead>\n",
       "    <tr style=\"text-align: right;\">\n",
       "      <th></th>\n",
       "      <th>RECORD_TIME</th>\n",
       "    </tr>\n",
       "  </thead>\n",
       "  <tbody>\n",
       "    <tr>\n",
       "      <th>0</th>\n",
       "      <td>2021-08-17 16:30</td>\n",
       "    </tr>\n",
       "    <tr>\n",
       "      <th>1</th>\n",
       "      <td>2021-08-17 16:00</td>\n",
       "    </tr>\n",
       "  </tbody>\n",
       "</table>\n",
       "</div>"
      ],
      "text/plain": [
       "        RECORD_TIME\n",
       "0  2021-08-17 16:30\n",
       "1  2021-08-17 16:00"
      ]
     },
     "execution_count": 3,
     "metadata": {},
     "output_type": "execute_result"
    }
   ],
   "source": [
    "timestamps"
   ]
  },
  {
   "cell_type": "code",
   "execution_count": 4,
   "id": "alternate-victory",
   "metadata": {
    "execution": {
     "iopub.execute_input": "2021-08-17T14:30:07.701823Z",
     "iopub.status.busy": "2021-08-17T14:30:07.699979Z",
     "iopub.status.idle": "2021-08-17T14:30:07.801362Z",
     "shell.execute_reply": "2021-08-17T14:30:07.802721Z"
    },
    "papermill": {
     "duration": 0.131385,
     "end_time": "2021-08-17T14:30:07.803140",
     "exception": false,
     "start_time": "2021-08-17T14:30:07.671755",
     "status": "completed"
    },
    "tags": []
   },
   "outputs": [],
   "source": [
    "df = pd.read_sql(\"select * from EBAY_TOP_BERLIN where record_time in (select distinct record_time from EBAY_TOP_BERLIN order by record_time desc limit 2)\", sqlite3.connect(\"UsedObjects.db\"))"
   ]
  },
  {
   "cell_type": "code",
   "execution_count": 5,
   "id": "popular-active",
   "metadata": {
    "execution": {
     "iopub.execute_input": "2021-08-17T14:30:07.872770Z",
     "iopub.status.busy": "2021-08-17T14:30:07.860879Z",
     "iopub.status.idle": "2021-08-17T14:30:07.888349Z",
     "shell.execute_reply": "2021-08-17T14:30:07.889570Z"
    },
    "papermill": {
     "duration": 0.066171,
     "end_time": "2021-08-17T14:30:07.890147",
     "exception": false,
     "start_time": "2021-08-17T14:30:07.823976",
     "status": "completed"
    },
    "tags": []
   },
   "outputs": [],
   "source": [
    "df_pivot = df.pivot_table(index=\"PRODUCT\", columns = \"RECORD_TIME\", values = \"LISTING_COUNT\")"
   ]
  },
  {
   "cell_type": "code",
   "execution_count": 6,
   "id": "union-huntington",
   "metadata": {
    "execution": {
     "iopub.execute_input": "2021-08-17T14:30:07.949725Z",
     "iopub.status.busy": "2021-08-17T14:30:07.947243Z",
     "iopub.status.idle": "2021-08-17T14:30:07.953106Z",
     "shell.execute_reply": "2021-08-17T14:30:07.954466Z"
    },
    "papermill": {
     "duration": 0.042612,
     "end_time": "2021-08-17T14:30:07.954887",
     "exception": false,
     "start_time": "2021-08-17T14:30:07.912275",
     "status": "completed"
    },
    "tags": []
   },
   "outputs": [],
   "source": [
    "df_pivot.columns = [\"stamp_1\", \"stamp_2\"]\n",
    "df_pivot_diff = df_pivot.diff(axis=1)"
   ]
  },
  {
   "cell_type": "code",
   "execution_count": 7,
   "id": "fifth-motion",
   "metadata": {
    "execution": {
     "iopub.execute_input": "2021-08-17T14:30:08.009739Z",
     "iopub.status.busy": "2021-08-17T14:30:08.007451Z",
     "iopub.status.idle": "2021-08-17T14:30:09.491476Z",
     "shell.execute_reply": "2021-08-17T14:30:09.493028Z"
    },
    "papermill": {
     "duration": 1.517811,
     "end_time": "2021-08-17T14:30:09.493473",
     "exception": false,
     "start_time": "2021-08-17T14:30:07.975662",
     "status": "completed"
    },
    "tags": []
   },
   "outputs": [
    {
     "data": {
      "text/plain": [
       "<AxesSubplot:ylabel='PRODUCT'>"
      ]
     },
     "execution_count": 7,
     "metadata": {},
     "output_type": "execute_result"
    },
    {
     "data": {
      "image/png": "[encoded data removed]",
      "text/plain": [
       "<Figure size 432x288 with 1 Axes>"
      ]
     },
     "metadata": {
      "needs_background": "light"
     },
     "output_type": "display_data"
    }
   ],
   "source": [
    "df_pivot_diff.sort_values(\"stamp_2\", ascending = False)[\"stamp_2\"].head(10).plot.barh()"
   ]
  },
  {
   "cell_type": "code",
   "execution_count": null,
   "id": "extra-executive",
   "metadata": {
    "papermill": {
     "duration": 0.022122,
     "end_time": "2021-08-17T14:30:09.539531",
     "exception": false,
     "start_time": "2021-08-17T14:30:09.517409",
     "status": "completed"
    },
    "tags": []
   },
   "outputs": [],
   "source": []
  }
 ],
 "metadata": {
  "kernelspec": {
   "display_name": "Python 3",
   "language": "python",
   "name": "python3"
  },
  "language_info": {
   "codemirror_mode": {
    "name": "ipython",
    "version": 3
   },
   "file_extension": ".py",
   "mimetype": "text/x-python",
   "name": "python",
   "nbconvert_exporter": "python",
   "pygments_lexer": "ipython3",
   "version": "3.9.5"
  },
  "papermill": {
   "default_parameters": {},
   "duration": 6.826623,
   "end_time": "2021-08-17T14:30:11.002383",
   "environment_variables": {},
   "exception": null,
   "input_path": "eBay_Overview.ipynb",
   "output_path": "eBay_Overview.ipynb",
   "parameters": {},
   "start_time": "2021-08-17T14:30:04.175760",
   "version": "2.3.3"
  }
 },
 "nbformat": 4,
 "nbformat_minor": 5
}