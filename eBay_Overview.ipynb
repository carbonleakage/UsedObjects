{
 "cells": [
  {
   "cell_type": "code",
   "execution_count": 1,
   "id": "reverse-picking",
   "metadata": {
    "execution": {
     "iopub.execute_input": "2021-09-05T14:00:06.957561Z",
     "iopub.status.busy": "2021-09-05T14:00:06.955586Z",
     "iopub.status.idle": "2021-09-05T14:00:07.759662Z",
     "shell.execute_reply": "2021-09-05T14:00:07.761040Z"
    },
    "papermill": {
     "duration": 0.858295,
     "end_time": "2021-09-05T14:00:07.761687",
     "exception": false,
     "start_time": "2021-09-05T14:00:06.903392",
     "status": "completed"
    },
    "tags": []
   },
   "outputs": [],
   "source": [
    "import pandas as pd\n",
    "import sqlite3"
   ]
  },
  {
   "cell_type": "code",
   "execution_count": 2,
   "id": "innovative-syndrome",
   "metadata": {
    "execution": {
     "iopub.execute_input": "2021-09-05T14:00:07.813297Z",
     "iopub.status.busy": "2021-09-05T14:00:07.811448Z",
     "iopub.status.idle": "2021-09-05T14:00:08.022582Z",
     "shell.execute_reply": "2021-09-05T14:00:08.023950Z"
    },
    "papermill": {
     "duration": 0.24084,
     "end_time": "2021-09-05T14:00:08.024378",
     "exception": false,
     "start_time": "2021-09-05T14:00:07.783538",
     "status": "completed"
    },
    "tags": []
   },
   "outputs": [],
   "source": [
    "timestamps = pd.read_sql(\"select distinct record_time from EBAY_TOP_BERLIN order by record_time desc limit 2\", sqlite3.connect(\"UsedObjects.db\"))"
   ]
  },
  {
   "cell_type": "code",
   "execution_count": 3,
   "id": "periodic-identification",
   "metadata": {
    "execution": {
     "iopub.execute_input": "2021-09-05T14:00:08.089028Z",
     "iopub.status.busy": "2021-09-05T14:00:08.086993Z",
     "iopub.status.idle": "2021-09-05T14:00:08.106744Z",
     "shell.execute_reply": "2021-09-05T14:00:08.108173Z"
    },
    "papermill": {
     "duration": 0.064601,
     "end_time": "2021-09-05T14:00:08.108598",
     "exception": false,
     "start_time": "2021-09-05T14:00:08.043997",
     "status": "completed"
    },
    "tags": []
   },
   "outputs": [
    {
     "data": {
      "text/html": [
       "<div>\n",
       "<style scoped>\n",
       "    .dataframe tbody tr th:only-of-type {\n",
       "        vertical-align: middle;\n",
       "    }\n",
       "\n",
       "    .dataframe tbody tr th {\n",
       "        vertical-align: top;\n",
       "    }\n",
       "\n",
       "    .dataframe thead th {\n",
       "        text-align: right;\n",
       "    }\n",
       "</style>\n",
       "<table border=\"1\" class=\"dataframe\">\n",
       "  <thead>\n",
       "    <tr style=\"text-align: right;\">\n",
       "      <th></th>\n",
       "      <th>RECORD_TIME</th>\n",
       "    </tr>\n",
       "  </thead>\n",
       "  <tbody>\n",
       "    <tr>\n",
       "      <th>0</th>\n",
       "      <td>2021-09-05 16:00</td>\n",
       "    </tr>\n",
       "    <tr>\n",
       "      <th>1</th>\n",
       "      <td>2021-09-05 15:30</td>\n",
       "    </tr>\n",
       "  </tbody>\n",
       "</table>\n",
       "</div>"
      ],
      "text/plain": [
       "        RECORD_TIME\n",
       "0  2021-09-05 16:00\n",
       "1  2021-09-05 15:30"
      ]
     },
     "execution_count": 3,
     "metadata": {},
     "output_type": "execute_result"
    }
   ],
   "source": [
    "timestamps"
   ]
  },
  {
   "cell_type": "code",
   "execution_count": 4,
   "id": "alternate-victory",
   "metadata": {
    "execution": {
     "iopub.execute_input": "2021-09-05T14:00:08.159590Z",
     "iopub.status.busy": "2021-09-05T14:00:08.157616Z",
     "iopub.status.idle": "2021-09-05T14:00:08.468759Z",
     "shell.execute_reply": "2021-09-05T14:00:08.469988Z"
    },
    "papermill": {
     "duration": 0.341,
     "end_time": "2021-09-05T14:00:08.470385",
     "exception": false,
     "start_time": "2021-09-05T14:00:08.129385",
     "status": "completed"
    },
    "tags": []
   },
   "outputs": [],
   "source": [
    "df = pd.read_sql(\"select * from EBAY_TOP_BERLIN where record_time in (select distinct record_time from EBAY_TOP_BERLIN order by record_time desc limit 2)\", sqlite3.connect(\"UsedObjects.db\"))"
   ]
  },
  {
   "cell_type": "code",
   "execution_count": 5,
   "id": "popular-active",
   "metadata": {
    "execution": {
     "iopub.execute_input": "2021-09-05T14:00:08.551945Z",
     "iopub.status.busy": "2021-09-05T14:00:08.539875Z",
     "iopub.status.idle": "2021-09-05T14:00:08.568103Z",
     "shell.execute_reply": "2021-09-05T14:00:08.569336Z"
    },
    "papermill": {
     "duration": 0.071081,
     "end_time": "2021-09-05T14:00:08.569736",
     "exception": false,
     "start_time": "2021-09-05T14:00:08.498655",
     "status": "completed"
    },
    "tags": []
   },
   "outputs": [],
   "source": [
    "df_pivot = df.pivot_table(index=\"PRODUCT\", columns = \"RECORD_TIME\", values = \"LISTING_COUNT\")"
   ]
  },
  {
   "cell_type": "code",
   "execution_count": 6,
   "id": "union-huntington",
   "metadata": {
    "execution": {
     "iopub.execute_input": "2021-09-05T14:00:08.625844Z",
     "iopub.status.busy": "2021-09-05T14:00:08.623784Z",
     "iopub.status.idle": "2021-09-05T14:00:08.629057Z",
     "shell.execute_reply": "2021-09-05T14:00:08.630351Z"
    },
    "papermill": {
     "duration": 0.040233,
     "end_time": "2021-09-05T14:00:08.630770",
     "exception": false,
     "start_time": "2021-09-05T14:00:08.590537",
     "status": "completed"
    },
    "tags": []
   },
   "outputs": [],
   "source": [
    "df_pivot.columns = [\"stamp_1\", \"stamp_2\"]\n",
    "df_pivot_diff = df_pivot.diff(axis=1)"
   ]
  },
  {
   "cell_type": "code",
   "execution_count": 7,
   "id": "fifth-motion",
   "metadata": {
    "execution": {
     "iopub.execute_input": "2021-09-05T14:00:08.685786Z",
     "iopub.status.busy": "2021-09-05T14:00:08.683123Z",
     "iopub.status.idle": "2021-09-05T14:00:10.166176Z",
     "shell.execute_reply": "2021-09-05T14:00:10.167864Z"
    },
    "papermill": {
     "duration": 1.517162,
     "end_time": "2021-09-05T14:00:10.168369",
     "exception": false,
     "start_time": "2021-09-05T14:00:08.651207",
     "status": "completed"
    },
    "tags": []
   },
   "outputs": [
    {
     "data": {
      "text/plain": [
       "<AxesSubplot:ylabel='PRODUCT'>"
      ]
     },
     "execution_count": 7,
     "metadata": {},
     "output_type": "execute_result"
    },
    {
     "data": {
      "image/png": "[encoded data removed]",
      "text/plain": [
       "<Figure size 432x288 with 1 Axes>"
      ]
     },
     "metadata": {
      "needs_background": "light"
     },
     "output_type": "display_data"
    }
   ],
   "source": [
    "df_pivot_diff.sort_values(\"stamp_2\", ascending = False)[\"stamp_2\"].head(10).plot.barh()"
   ]
  },
  {
   "cell_type": "code",
   "execution_count": null,
   "id": "extra-executive",
   "metadata": {
    "papermill": {
     "duration": 0.022426,
     "end_time": "2021-09-05T14:00:10.216011",
     "exception": false,
     "start_time": "2021-09-05T14:00:10.193585",
     "status": "completed"
    },
    "tags": []
   },
   "outputs": [],
   "source": []
  }
 ],
 "metadata": {
  "kernelspec": {
   "display_name": "Python 3",
   "language": "python",
   "name": "python3"
  },
  "language_info": {
   "codemirror_mode": {
    "name": "ipython",
    "version": 3
   },
   "file_extension": ".py",
   "mimetype": "text/x-python",
   "name": "python",
   "nbconvert_exporter": "python",
   "pygments_lexer": "ipython3",
   "version": "3.9.5"
  },
  "papermill": {
   "default_parameters": {},
   "duration": 6.367051,
   "end_time": "2021-09-05T14:00:10.859765",
   "environment_variables": {},
   "exception": null,
   "input_path": "eBay_Overview.ipynb",
   "output_path": "eBay_Overview.ipynb",
   "parameters": {},
   "start_time": "2021-09-05T14:00:04.492714",
   "version": "2.3.3"
  }
 },
 "nbformat": 4,
 "nbformat_minor": 5
}