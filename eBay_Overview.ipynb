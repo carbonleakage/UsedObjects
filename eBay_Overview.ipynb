{
 "cells": [
  {
   "cell_type": "code",
   "execution_count": 1,
   "id": "reverse-picking",
   "metadata": {
    "execution": {
     "iopub.execute_input": "2021-10-18T13:30:07.383171Z",
     "iopub.status.busy": "2021-10-18T13:30:07.381087Z",
     "iopub.status.idle": "2021-10-18T13:30:08.188864Z",
     "shell.execute_reply": "2021-10-18T13:30:08.190354Z"
    },
    "papermill": {
     "duration": 0.858973,
     "end_time": "2021-10-18T13:30:08.191026",
     "exception": false,
     "start_time": "2021-10-18T13:30:07.332053",
     "status": "completed"
    },
    "tags": []
   },
   "outputs": [],
   "source": [
    "import pandas as pd\n",
    "import sqlite3"
   ]
  },
  {
   "cell_type": "code",
   "execution_count": 2,
   "id": "innovative-syndrome",
   "metadata": {
    "execution": {
     "iopub.execute_input": "2021-10-18T13:30:08.241943Z",
     "iopub.status.busy": "2021-10-18T13:30:08.239526Z",
     "iopub.status.idle": "2021-10-18T13:30:08.816502Z",
     "shell.execute_reply": "2021-10-18T13:30:08.817874Z"
    },
    "papermill": {
     "duration": 0.606996,
     "end_time": "2021-10-18T13:30:08.818290",
     "exception": false,
     "start_time": "2021-10-18T13:30:08.211294",
     "status": "completed"
    },
    "tags": []
   },
   "outputs": [],
   "source": [
    "timestamps = pd.read_sql(\"select distinct record_time from EBAY_TOP_BERLIN order by record_time desc limit 2\", sqlite3.connect(\"UsedObjects.db\"))"
   ]
  },
  {
   "cell_type": "code",
   "execution_count": 3,
   "id": "periodic-identification",
   "metadata": {
    "execution": {
     "iopub.execute_input": "2021-10-18T13:30:08.892488Z",
     "iopub.status.busy": "2021-10-18T13:30:08.890463Z",
     "iopub.status.idle": "2021-10-18T13:30:08.911907Z",
     "shell.execute_reply": "2021-10-18T13:30:08.910585Z"
    },
    "papermill": {
     "duration": 0.068694,
     "end_time": "2021-10-18T13:30:08.912269",
     "exception": false,
     "start_time": "2021-10-18T13:30:08.843575",
     "status": "completed"
    },
    "tags": []
   },
   "outputs": [
    {
     "data": {
      "text/html": [
       "<div>\n",
       "<style scoped>\n",
       "    .dataframe tbody tr th:only-of-type {\n",
       "        vertical-align: middle;\n",
       "    }\n",
       "\n",
       "    .dataframe tbody tr th {\n",
       "        vertical-align: top;\n",
       "    }\n",
       "\n",
       "    .dataframe thead th {\n",
       "        text-align: right;\n",
       "    }\n",
       "</style>\n",
       "<table border=\"1\" class=\"dataframe\">\n",
       "  <thead>\n",
       "    <tr style=\"text-align: right;\">\n",
       "      <th></th>\n",
       "      <th>RECORD_TIME</th>\n",
       "    </tr>\n",
       "  </thead>\n",
       "  <tbody>\n",
       "    <tr>\n",
       "      <th>0</th>\n",
       "      <td>2021-10-18 15:30</td>\n",
       "    </tr>\n",
       "    <tr>\n",
       "      <th>1</th>\n",
       "      <td>2021-10-18 15:00</td>\n",
       "    </tr>\n",
       "  </tbody>\n",
       "</table>\n",
       "</div>"
      ],
      "text/plain": [
       "        RECORD_TIME\n",
       "0  2021-10-18 15:30\n",
       "1  2021-10-18 15:00"
      ]
     },
     "execution_count": 3,
     "metadata": {},
     "output_type": "execute_result"
    }
   ],
   "source": [
    "timestamps"
   ]
  },
  {
   "cell_type": "code",
   "execution_count": 4,
   "id": "alternate-victory",
   "metadata": {
    "execution": {
     "iopub.execute_input": "2021-10-18T13:30:08.963157Z",
     "iopub.status.busy": "2021-10-18T13:30:08.961315Z",
     "iopub.status.idle": "2021-10-18T13:30:09.810227Z",
     "shell.execute_reply": "2021-10-18T13:30:09.811454Z"
    },
    "papermill": {
     "duration": 0.879172,
     "end_time": "2021-10-18T13:30:09.811848",
     "exception": false,
     "start_time": "2021-10-18T13:30:08.932676",
     "status": "completed"
    },
    "tags": []
   },
   "outputs": [],
   "source": [
    "df = pd.read_sql(\"select * from EBAY_TOP_BERLIN where record_time in (select distinct record_time from EBAY_TOP_BERLIN order by record_time desc limit 2)\", sqlite3.connect(\"UsedObjects.db\"))"
   ]
  },
  {
   "cell_type": "code",
   "execution_count": 5,
   "id": "popular-active",
   "metadata": {
    "execution": {
     "iopub.execute_input": "2021-10-18T13:30:09.882760Z",
     "iopub.status.busy": "2021-10-18T13:30:09.870197Z",
     "iopub.status.idle": "2021-10-18T13:30:09.898615Z",
     "shell.execute_reply": "2021-10-18T13:30:09.899932Z"
    },
    "papermill": {
     "duration": 0.067034,
     "end_time": "2021-10-18T13:30:09.900353",
     "exception": false,
     "start_time": "2021-10-18T13:30:09.833319",
     "status": "completed"
    },
    "tags": []
   },
   "outputs": [],
   "source": [
    "df_pivot = df.pivot_table(index=\"PRODUCT\", columns = \"RECORD_TIME\", values = \"LISTING_COUNT\")"
   ]
  },
  {
   "cell_type": "code",
   "execution_count": 6,
   "id": "union-huntington",
   "metadata": {
    "execution": {
     "iopub.execute_input": "2021-10-18T13:30:09.957051Z",
     "iopub.status.busy": "2021-10-18T13:30:09.954909Z",
     "iopub.status.idle": "2021-10-18T13:30:09.961838Z",
     "shell.execute_reply": "2021-10-18T13:30:09.960249Z"
    },
    "papermill": {
     "duration": 0.041638,
     "end_time": "2021-10-18T13:30:09.962220",
     "exception": false,
     "start_time": "2021-10-18T13:30:09.920582",
     "status": "completed"
    },
    "tags": []
   },
   "outputs": [],
   "source": [
    "df_pivot.columns = [\"stamp_1\", \"stamp_2\"]\n",
    "df_pivot_diff = df_pivot.diff(axis=1)"
   ]
  },
  {
   "cell_type": "code",
   "execution_count": 7,
   "id": "fifth-motion",
   "metadata": {
    "execution": {
     "iopub.execute_input": "2021-10-18T13:30:10.017354Z",
     "iopub.status.busy": "2021-10-18T13:30:10.014777Z",
     "iopub.status.idle": "2021-10-18T13:30:11.490423Z",
     "shell.execute_reply": "2021-10-18T13:30:11.491716Z"
    },
    "papermill": {
     "duration": 1.508576,
     "end_time": "2021-10-18T13:30:11.492146",
     "exception": false,
     "start_time": "2021-10-18T13:30:09.983570",
     "status": "completed"
    },
    "tags": []
   },
   "outputs": [
    {
     "data": {
      "text/plain": [
       "<AxesSubplot:ylabel='PRODUCT'>"
      ]
     },
     "execution_count": 7,
     "metadata": {},
     "output_type": "execute_result"
    },
    {
     "data": {
      "image/png": "[encoded data removed]",
      "text/plain": [
       "<Figure size 432x288 with 1 Axes>"
      ]
     },
     "metadata": {
      "needs_background": "light"
     },
     "output_type": "display_data"
    }
   ],
   "source": [
    "df_pivot_diff.sort_values(\"stamp_2\", ascending = False)[\"stamp_2\"].head(10).plot.barh()"
   ]
  },
  {
   "cell_type": "code",
   "execution_count": null,
   "id": "extra-executive",
   "metadata": {
    "papermill": {
     "duration": 0.022109,
     "end_time": "2021-10-18T13:30:11.539516",
     "exception": false,
     "start_time": "2021-10-18T13:30:11.517407",
     "status": "completed"
    },
    "tags": []
   },
   "outputs": [],
   "source": []
  }
 ],
 "metadata": {
  "kernelspec": {
   "display_name": "Python 3",
   "language": "python",
   "name": "python3"
  },
  "language_info": {
   "codemirror_mode": {
    "name": "ipython",
    "version": 3
   },
   "file_extension": ".py",
   "mimetype": "text/x-python",
   "name": "python",
   "nbconvert_exporter": "python",
   "pygments_lexer": "ipython3",
   "version": "3.9.5"
  },
  "papermill": {
   "default_parameters": {},
   "duration": 7.819051,
   "end_time": "2021-10-18T13:30:12.748102",
   "environment_variables": {},
   "exception": null,
   "input_path": "eBay_Overview.ipynb",
   "output_path": "eBay_Overview.ipynb",
   "parameters": {},
   "start_time": "2021-10-18T13:30:04.929051",
   "version": "2.3.3"
  }
 },
 "nbformat": 4,
 "nbformat_minor": 5
}