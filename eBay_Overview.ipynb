{
 "cells": [
  {
   "cell_type": "code",
   "execution_count": 1,
   "id": "reverse-picking",
   "metadata": {
    "execution": {
     "iopub.execute_input": "2021-08-21T13:00:07.523181Z",
     "iopub.status.busy": "2021-08-21T13:00:07.521200Z",
     "iopub.status.idle": "2021-08-21T13:00:08.324306Z",
     "shell.execute_reply": "2021-08-21T13:00:08.326666Z"
    },
    "papermill": {
     "duration": 0.855809,
     "end_time": "2021-08-21T13:00:08.327360",
     "exception": false,
     "start_time": "2021-08-21T13:00:07.471551",
     "status": "completed"
    },
    "tags": []
   },
   "outputs": [],
   "source": [
    "import pandas as pd\n",
    "import sqlite3"
   ]
  },
  {
   "cell_type": "code",
   "execution_count": 2,
   "id": "innovative-syndrome",
   "metadata": {
    "execution": {
     "iopub.execute_input": "2021-08-21T13:00:08.378498Z",
     "iopub.status.busy": "2021-08-21T13:00:08.376486Z",
     "iopub.status.idle": "2021-08-21T13:00:08.472796Z",
     "shell.execute_reply": "2021-08-21T13:00:08.474159Z"
    },
    "papermill": {
     "duration": 0.125928,
     "end_time": "2021-08-21T13:00:08.474592",
     "exception": false,
     "start_time": "2021-08-21T13:00:08.348664",
     "status": "completed"
    },
    "tags": []
   },
   "outputs": [],
   "source": [
    "timestamps = pd.read_sql(\"select distinct record_time from EBAY_TOP_BERLIN order by record_time desc limit 2\", sqlite3.connect(\"UsedObjects.db\"))"
   ]
  },
  {
   "cell_type": "code",
   "execution_count": 3,
   "id": "periodic-identification",
   "metadata": {
    "execution": {
     "iopub.execute_input": "2021-08-21T13:00:08.541559Z",
     "iopub.status.busy": "2021-08-21T13:00:08.539544Z",
     "iopub.status.idle": "2021-08-21T13:00:08.559437Z",
     "shell.execute_reply": "2021-08-21T13:00:08.561059Z"
    },
    "papermill": {
     "duration": 0.066218,
     "end_time": "2021-08-21T13:00:08.561558",
     "exception": false,
     "start_time": "2021-08-21T13:00:08.495340",
     "status": "completed"
    },
    "tags": []
   },
   "outputs": [
    {
     "data": {
      "text/html": [
       "<div>\n",
       "<style scoped>\n",
       "    .dataframe tbody tr th:only-of-type {\n",
       "        vertical-align: middle;\n",
       "    }\n",
       "\n",
       "    .dataframe tbody tr th {\n",
       "        vertical-align: top;\n",
       "    }\n",
       "\n",
       "    .dataframe thead th {\n",
       "        text-align: right;\n",
       "    }\n",
       "</style>\n",
       "<table border=\"1\" class=\"dataframe\">\n",
       "  <thead>\n",
       "    <tr style=\"text-align: right;\">\n",
       "      <th></th>\n",
       "      <th>RECORD_TIME</th>\n",
       "    </tr>\n",
       "  </thead>\n",
       "  <tbody>\n",
       "    <tr>\n",
       "      <th>0</th>\n",
       "      <td>2021-08-21 15:00</td>\n",
       "    </tr>\n",
       "    <tr>\n",
       "      <th>1</th>\n",
       "      <td>2021-08-21 14:30</td>\n",
       "    </tr>\n",
       "  </tbody>\n",
       "</table>\n",
       "</div>"
      ],
      "text/plain": [
       "        RECORD_TIME\n",
       "0  2021-08-21 15:00\n",
       "1  2021-08-21 14:30"
      ]
     },
     "execution_count": 3,
     "metadata": {},
     "output_type": "execute_result"
    }
   ],
   "source": [
    "timestamps"
   ]
  },
  {
   "cell_type": "code",
   "execution_count": 4,
   "id": "alternate-victory",
   "metadata": {
    "execution": {
     "iopub.execute_input": "2021-08-21T13:00:08.614054Z",
     "iopub.status.busy": "2021-08-21T13:00:08.612066Z",
     "iopub.status.idle": "2021-08-21T13:00:08.755126Z",
     "shell.execute_reply": "2021-08-21T13:00:08.756400Z"
    },
    "papermill": {
     "duration": 0.173436,
     "end_time": "2021-08-21T13:00:08.756796",
     "exception": false,
     "start_time": "2021-08-21T13:00:08.583360",
     "status": "completed"
    },
    "tags": []
   },
   "outputs": [],
   "source": [
    "df = pd.read_sql(\"select * from EBAY_TOP_BERLIN where record_time in (select distinct record_time from EBAY_TOP_BERLIN order by record_time desc limit 2)\", sqlite3.connect(\"UsedObjects.db\"))"
   ]
  },
  {
   "cell_type": "code",
   "execution_count": 5,
   "id": "popular-active",
   "metadata": {
    "execution": {
     "iopub.execute_input": "2021-08-21T13:00:08.826686Z",
     "iopub.status.busy": "2021-08-21T13:00:08.814221Z",
     "iopub.status.idle": "2021-08-21T13:00:08.843493Z",
     "shell.execute_reply": "2021-08-21T13:00:08.844854Z"
    },
    "papermill": {
     "duration": 0.068113,
     "end_time": "2021-08-21T13:00:08.845293",
     "exception": false,
     "start_time": "2021-08-21T13:00:08.777180",
     "status": "completed"
    },
    "tags": []
   },
   "outputs": [],
   "source": [
    "df_pivot = df.pivot_table(index=\"PRODUCT\", columns = \"RECORD_TIME\", values = \"LISTING_COUNT\")"
   ]
  },
  {
   "cell_type": "code",
   "execution_count": 6,
   "id": "union-huntington",
   "metadata": {
    "execution": {
     "iopub.execute_input": "2021-08-21T13:00:08.902649Z",
     "iopub.status.busy": "2021-08-21T13:00:08.900550Z",
     "iopub.status.idle": "2021-08-21T13:00:08.905882Z",
     "shell.execute_reply": "2021-08-21T13:00:08.907387Z"
    },
    "papermill": {
     "duration": 0.042192,
     "end_time": "2021-08-21T13:00:08.907840",
     "exception": false,
     "start_time": "2021-08-21T13:00:08.865648",
     "status": "completed"
    },
    "tags": []
   },
   "outputs": [],
   "source": [
    "df_pivot.columns = [\"stamp_1\", \"stamp_2\"]\n",
    "df_pivot_diff = df_pivot.diff(axis=1)"
   ]
  },
  {
   "cell_type": "code",
   "execution_count": 7,
   "id": "fifth-motion",
   "metadata": {
    "execution": {
     "iopub.execute_input": "2021-08-21T13:00:08.968315Z",
     "iopub.status.busy": "2021-08-21T13:00:08.965418Z",
     "iopub.status.idle": "2021-08-21T13:00:10.461701Z",
     "shell.execute_reply": "2021-08-21T13:00:10.463190Z"
    },
    "papermill": {
     "duration": 1.534384,
     "end_time": "2021-08-21T13:00:10.463646",
     "exception": false,
     "start_time": "2021-08-21T13:00:08.929262",
     "status": "completed"
    },
    "tags": []
   },
   "outputs": [
    {
     "data": {
      "text/plain": [
       "<AxesSubplot:ylabel='PRODUCT'>"
      ]
     },
     "execution_count": 7,
     "metadata": {},
     "output_type": "execute_result"
    },
    {
     "data": {
      "image/png": "[encoded data removed]",
      "text/plain": [
       "<Figure size 432x288 with 1 Axes>"
      ]
     },
     "metadata": {
      "needs_background": "light"
     },
     "output_type": "display_data"
    }
   ],
   "source": [
    "df_pivot_diff.sort_values(\"stamp_2\", ascending = False)[\"stamp_2\"].head(10).plot.barh()"
   ]
  },
  {
   "cell_type": "code",
   "execution_count": null,
   "id": "extra-executive",
   "metadata": {
    "papermill": {
     "duration": 0.022243,
     "end_time": "2021-08-21T13:00:10.510626",
     "exception": false,
     "start_time": "2021-08-21T13:00:10.488383",
     "status": "completed"
    },
    "tags": []
   },
   "outputs": [],
   "source": []
  }
 ],
 "metadata": {
  "kernelspec": {
   "display_name": "Python 3",
   "language": "python",
   "name": "python3"
  },
  "language_info": {
   "codemirror_mode": {
    "name": "ipython",
    "version": 3
   },
   "file_extension": ".py",
   "mimetype": "text/x-python",
   "name": "python",
   "nbconvert_exporter": "python",
   "pygments_lexer": "ipython3",
   "version": "3.9.5"
  },
  "papermill": {
   "default_parameters": {},
   "duration": 6.825318,
   "end_time": "2021-08-21T13:00:11.888317",
   "environment_variables": {},
   "exception": null,
   "input_path": "eBay_Overview.ipynb",
   "output_path": "eBay_Overview.ipynb",
   "parameters": {},
   "start_time": "2021-08-21T13:00:05.062999",
   "version": "2.3.3"
  }
 },
 "nbformat": 4,
 "nbformat_minor": 5
}