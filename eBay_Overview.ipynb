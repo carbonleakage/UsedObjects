{
 "cells": [
  {
   "cell_type": "code",
   "execution_count": 1,
   "id": "reverse-picking",
   "metadata": {
    "execution": {
     "iopub.execute_input": "2021-09-07T02:30:07.340997Z",
     "iopub.status.busy": "2021-09-07T02:30:07.339043Z",
     "iopub.status.idle": "2021-09-07T02:30:08.147667Z",
     "shell.execute_reply": "2021-09-07T02:30:08.148997Z"
    },
    "papermill": {
     "duration": 0.862597,
     "end_time": "2021-09-07T02:30:08.149602",
     "exception": false,
     "start_time": "2021-09-07T02:30:07.287005",
     "status": "completed"
    },
    "tags": []
   },
   "outputs": [],
   "source": [
    "import pandas as pd\n",
    "import sqlite3"
   ]
  },
  {
   "cell_type": "code",
   "execution_count": 2,
   "id": "innovative-syndrome",
   "metadata": {
    "execution": {
     "iopub.execute_input": "2021-09-07T02:30:08.199173Z",
     "iopub.status.busy": "2021-09-07T02:30:08.197201Z",
     "iopub.status.idle": "2021-09-07T02:30:08.420639Z",
     "shell.execute_reply": "2021-09-07T02:30:08.421850Z"
    },
    "papermill": {
     "duration": 0.252743,
     "end_time": "2021-09-07T02:30:08.422241",
     "exception": false,
     "start_time": "2021-09-07T02:30:08.169498",
     "status": "completed"
    },
    "tags": []
   },
   "outputs": [],
   "source": [
    "timestamps = pd.read_sql(\"select distinct record_time from EBAY_TOP_BERLIN order by record_time desc limit 2\", sqlite3.connect(\"UsedObjects.db\"))"
   ]
  },
  {
   "cell_type": "code",
   "execution_count": 3,
   "id": "periodic-identification",
   "metadata": {
    "execution": {
     "iopub.execute_input": "2021-09-07T02:30:08.486326Z",
     "iopub.status.busy": "2021-09-07T02:30:08.484278Z",
     "iopub.status.idle": "2021-09-07T02:30:08.505037Z",
     "shell.execute_reply": "2021-09-07T02:30:08.506319Z"
    },
    "papermill": {
     "duration": 0.063674,
     "end_time": "2021-09-07T02:30:08.506730",
     "exception": false,
     "start_time": "2021-09-07T02:30:08.443056",
     "status": "completed"
    },
    "tags": []
   },
   "outputs": [
    {
     "data": {
      "text/html": [
       "<div>\n",
       "<style scoped>\n",
       "    .dataframe tbody tr th:only-of-type {\n",
       "        vertical-align: middle;\n",
       "    }\n",
       "\n",
       "    .dataframe tbody tr th {\n",
       "        vertical-align: top;\n",
       "    }\n",
       "\n",
       "    .dataframe thead th {\n",
       "        text-align: right;\n",
       "    }\n",
       "</style>\n",
       "<table border=\"1\" class=\"dataframe\">\n",
       "  <thead>\n",
       "    <tr style=\"text-align: right;\">\n",
       "      <th></th>\n",
       "      <th>RECORD_TIME</th>\n",
       "    </tr>\n",
       "  </thead>\n",
       "  <tbody>\n",
       "    <tr>\n",
       "      <th>0</th>\n",
       "      <td>2021-09-07 04:30</td>\n",
       "    </tr>\n",
       "    <tr>\n",
       "      <th>1</th>\n",
       "      <td>2021-09-07 04:00</td>\n",
       "    </tr>\n",
       "  </tbody>\n",
       "</table>\n",
       "</div>"
      ],
      "text/plain": [
       "        RECORD_TIME\n",
       "0  2021-09-07 04:30\n",
       "1  2021-09-07 04:00"
      ]
     },
     "execution_count": 3,
     "metadata": {},
     "output_type": "execute_result"
    }
   ],
   "source": [
    "timestamps"
   ]
  },
  {
   "cell_type": "code",
   "execution_count": 4,
   "id": "alternate-victory",
   "metadata": {
    "execution": {
     "iopub.execute_input": "2021-09-07T02:30:08.558002Z",
     "iopub.status.busy": "2021-09-07T02:30:08.556154Z",
     "iopub.status.idle": "2021-09-07T02:30:08.893729Z",
     "shell.execute_reply": "2021-09-07T02:30:08.895025Z"
    },
    "papermill": {
     "duration": 0.367646,
     "end_time": "2021-09-07T02:30:08.895493",
     "exception": false,
     "start_time": "2021-09-07T02:30:08.527847",
     "status": "completed"
    },
    "tags": []
   },
   "outputs": [],
   "source": [
    "df = pd.read_sql(\"select * from EBAY_TOP_BERLIN where record_time in (select distinct record_time from EBAY_TOP_BERLIN order by record_time desc limit 2)\", sqlite3.connect(\"UsedObjects.db\"))"
   ]
  },
  {
   "cell_type": "code",
   "execution_count": 5,
   "id": "popular-active",
   "metadata": {
    "execution": {
     "iopub.execute_input": "2021-09-07T02:30:08.975435Z",
     "iopub.status.busy": "2021-09-07T02:30:08.962811Z",
     "iopub.status.idle": "2021-09-07T02:30:08.991129Z",
     "shell.execute_reply": "2021-09-07T02:30:08.992423Z"
    },
    "papermill": {
     "duration": 0.071048,
     "end_time": "2021-09-07T02:30:08.992832",
     "exception": false,
     "start_time": "2021-09-07T02:30:08.921784",
     "status": "completed"
    },
    "tags": []
   },
   "outputs": [],
   "source": [
    "df_pivot = df.pivot_table(index=\"PRODUCT\", columns = \"RECORD_TIME\", values = \"LISTING_COUNT\")"
   ]
  },
  {
   "cell_type": "code",
   "execution_count": 6,
   "id": "union-huntington",
   "metadata": {
    "execution": {
     "iopub.execute_input": "2021-09-07T02:30:09.049180Z",
     "iopub.status.busy": "2021-09-07T02:30:09.047088Z",
     "iopub.status.idle": "2021-09-07T02:30:09.052222Z",
     "shell.execute_reply": "2021-09-07T02:30:09.053505Z"
    },
    "papermill": {
     "duration": 0.040099,
     "end_time": "2021-09-07T02:30:09.053915",
     "exception": false,
     "start_time": "2021-09-07T02:30:09.013816",
     "status": "completed"
    },
    "tags": []
   },
   "outputs": [],
   "source": [
    "df_pivot.columns = [\"stamp_1\", \"stamp_2\"]\n",
    "df_pivot_diff = df_pivot.diff(axis=1)"
   ]
  },
  {
   "cell_type": "code",
   "execution_count": 7,
   "id": "fifth-motion",
   "metadata": {
    "execution": {
     "iopub.execute_input": "2021-09-07T02:30:09.107856Z",
     "iopub.status.busy": "2021-09-07T02:30:09.105254Z",
     "iopub.status.idle": "2021-09-07T02:30:10.607598Z",
     "shell.execute_reply": "2021-09-07T02:30:10.608966Z"
    },
    "papermill": {
     "duration": 1.535296,
     "end_time": "2021-09-07T02:30:10.609387",
     "exception": false,
     "start_time": "2021-09-07T02:30:09.074091",
     "status": "completed"
    },
    "tags": []
   },
   "outputs": [
    {
     "data": {
      "text/plain": [
       "<AxesSubplot:ylabel='PRODUCT'>"
      ]
     },
     "execution_count": 7,
     "metadata": {},
     "output_type": "execute_result"
    },
    {
     "data": {
      "image/png": "[encoded data removed]",
      "text/plain": [
       "<Figure size 432x288 with 1 Axes>"
      ]
     },
     "metadata": {
      "needs_background": "light"
     },
     "output_type": "display_data"
    }
   ],
   "source": [
    "df_pivot_diff.sort_values(\"stamp_2\", ascending = False)[\"stamp_2\"].head(10).plot.barh()"
   ]
  },
  {
   "cell_type": "code",
   "execution_count": null,
   "id": "extra-executive",
   "metadata": {
    "papermill": {
     "duration": 0.022096,
     "end_time": "2021-09-07T02:30:10.655903",
     "exception": false,
     "start_time": "2021-09-07T02:30:10.633807",
     "status": "completed"
    },
    "tags": []
   },
   "outputs": [],
   "source": []
  }
 ],
 "metadata": {
  "kernelspec": {
   "display_name": "Python 3",
   "language": "python",
   "name": "python3"
  },
  "language_info": {
   "codemirror_mode": {
    "name": "ipython",
    "version": 3
   },
   "file_extension": ".py",
   "mimetype": "text/x-python",
   "name": "python",
   "nbconvert_exporter": "python",
   "pygments_lexer": "ipython3",
   "version": "3.9.5"
  },
  "papermill": {
   "default_parameters": {},
   "duration": 6.423245,
   "end_time": "2021-09-07T02:30:11.296537",
   "environment_variables": {},
   "exception": null,
   "input_path": "eBay_Overview.ipynb",
   "output_path": "eBay_Overview.ipynb",
   "parameters": {},
   "start_time": "2021-09-07T02:30:04.873292",
   "version": "2.3.3"
  }
 },
 "nbformat": 4,
 "nbformat_minor": 5
}