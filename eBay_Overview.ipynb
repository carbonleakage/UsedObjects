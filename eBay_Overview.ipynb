{
 "cells": [
  {
   "cell_type": "code",
   "execution_count": 1,
   "id": "reverse-picking",
   "metadata": {
    "execution": {
     "iopub.execute_input": "2021-09-27T20:00:06.761321Z",
     "iopub.status.busy": "2021-09-27T20:00:06.759337Z",
     "iopub.status.idle": "2021-09-27T20:00:07.563823Z",
     "shell.execute_reply": "2021-09-27T20:00:07.565107Z"
    },
    "papermill": {
     "duration": 0.856156,
     "end_time": "2021-09-27T20:00:07.565727",
     "exception": false,
     "start_time": "2021-09-27T20:00:06.709571",
     "status": "completed"
    },
    "tags": []
   },
   "outputs": [],
   "source": [
    "import pandas as pd\n",
    "import sqlite3"
   ]
  },
  {
   "cell_type": "code",
   "execution_count": 2,
   "id": "innovative-syndrome",
   "metadata": {
    "execution": {
     "iopub.execute_input": "2021-09-27T20:00:07.619264Z",
     "iopub.status.busy": "2021-09-27T20:00:07.616817Z",
     "iopub.status.idle": "2021-09-27T20:00:08.017986Z",
     "shell.execute_reply": "2021-09-27T20:00:08.019262Z"
    },
    "papermill": {
     "duration": 0.431304,
     "end_time": "2021-09-27T20:00:08.019666",
     "exception": false,
     "start_time": "2021-09-27T20:00:07.588362",
     "status": "completed"
    },
    "tags": []
   },
   "outputs": [],
   "source": [
    "timestamps = pd.read_sql(\"select distinct record_time from EBAY_TOP_BERLIN order by record_time desc limit 2\", sqlite3.connect(\"UsedObjects.db\"))"
   ]
  },
  {
   "cell_type": "code",
   "execution_count": 3,
   "id": "periodic-identification",
   "metadata": {
    "execution": {
     "iopub.execute_input": "2021-09-27T20:00:08.084091Z",
     "iopub.status.busy": "2021-09-27T20:00:08.081927Z",
     "iopub.status.idle": "2021-09-27T20:00:08.103418Z",
     "shell.execute_reply": "2021-09-27T20:00:08.104711Z"
    },
    "papermill": {
     "duration": 0.065616,
     "end_time": "2021-09-27T20:00:08.105106",
     "exception": false,
     "start_time": "2021-09-27T20:00:08.039490",
     "status": "completed"
    },
    "tags": []
   },
   "outputs": [
    {
     "data": {
      "text/html": [
       "<div>\n",
       "<style scoped>\n",
       "    .dataframe tbody tr th:only-of-type {\n",
       "        vertical-align: middle;\n",
       "    }\n",
       "\n",
       "    .dataframe tbody tr th {\n",
       "        vertical-align: top;\n",
       "    }\n",
       "\n",
       "    .dataframe thead th {\n",
       "        text-align: right;\n",
       "    }\n",
       "</style>\n",
       "<table border=\"1\" class=\"dataframe\">\n",
       "  <thead>\n",
       "    <tr style=\"text-align: right;\">\n",
       "      <th></th>\n",
       "      <th>RECORD_TIME</th>\n",
       "    </tr>\n",
       "  </thead>\n",
       "  <tbody>\n",
       "    <tr>\n",
       "      <th>0</th>\n",
       "      <td>2021-09-27 22:00</td>\n",
       "    </tr>\n",
       "    <tr>\n",
       "      <th>1</th>\n",
       "      <td>2021-09-27 21:30</td>\n",
       "    </tr>\n",
       "  </tbody>\n",
       "</table>\n",
       "</div>"
      ],
      "text/plain": [
       "        RECORD_TIME\n",
       "0  2021-09-27 22:00\n",
       "1  2021-09-27 21:30"
      ]
     },
     "execution_count": 3,
     "metadata": {},
     "output_type": "execute_result"
    }
   ],
   "source": [
    "timestamps"
   ]
  },
  {
   "cell_type": "code",
   "execution_count": 4,
   "id": "alternate-victory",
   "metadata": {
    "execution": {
     "iopub.execute_input": "2021-09-27T20:00:08.158848Z",
     "iopub.status.busy": "2021-09-27T20:00:08.156533Z",
     "iopub.status.idle": "2021-09-27T20:00:08.730092Z",
     "shell.execute_reply": "2021-09-27T20:00:08.731536Z"
    },
    "papermill": {
     "duration": 0.604443,
     "end_time": "2021-09-27T20:00:08.731962",
     "exception": false,
     "start_time": "2021-09-27T20:00:08.127519",
     "status": "completed"
    },
    "tags": []
   },
   "outputs": [],
   "source": [
    "df = pd.read_sql(\"select * from EBAY_TOP_BERLIN where record_time in (select distinct record_time from EBAY_TOP_BERLIN order by record_time desc limit 2)\", sqlite3.connect(\"UsedObjects.db\"))"
   ]
  },
  {
   "cell_type": "code",
   "execution_count": 5,
   "id": "popular-active",
   "metadata": {
    "execution": {
     "iopub.execute_input": "2021-09-27T20:00:08.815219Z",
     "iopub.status.busy": "2021-09-27T20:00:08.802307Z",
     "iopub.status.idle": "2021-09-27T20:00:08.831591Z",
     "shell.execute_reply": "2021-09-27T20:00:08.832985Z"
    },
    "papermill": {
     "duration": 0.073525,
     "end_time": "2021-09-27T20:00:08.833422",
     "exception": false,
     "start_time": "2021-09-27T20:00:08.759897",
     "status": "completed"
    },
    "tags": []
   },
   "outputs": [],
   "source": [
    "df_pivot = df.pivot_table(index=\"PRODUCT\", columns = \"RECORD_TIME\", values = \"LISTING_COUNT\")"
   ]
  },
  {
   "cell_type": "code",
   "execution_count": 6,
   "id": "union-huntington",
   "metadata": {
    "execution": {
     "iopub.execute_input": "2021-09-27T20:00:08.890294Z",
     "iopub.status.busy": "2021-09-27T20:00:08.888206Z",
     "iopub.status.idle": "2021-09-27T20:00:08.893567Z",
     "shell.execute_reply": "2021-09-27T20:00:08.894755Z"
    },
    "papermill": {
     "duration": 0.041201,
     "end_time": "2021-09-27T20:00:08.895226",
     "exception": false,
     "start_time": "2021-09-27T20:00:08.854025",
     "status": "completed"
    },
    "tags": []
   },
   "outputs": [],
   "source": [
    "df_pivot.columns = [\"stamp_1\", \"stamp_2\"]\n",
    "df_pivot_diff = df_pivot.diff(axis=1)"
   ]
  },
  {
   "cell_type": "code",
   "execution_count": 7,
   "id": "fifth-motion",
   "metadata": {
    "execution": {
     "iopub.execute_input": "2021-09-27T20:00:08.949793Z",
     "iopub.status.busy": "2021-09-27T20:00:08.947422Z",
     "iopub.status.idle": "2021-09-27T20:00:10.464260Z",
     "shell.execute_reply": "2021-09-27T20:00:10.465543Z"
    },
    "papermill": {
     "duration": 1.550009,
     "end_time": "2021-09-27T20:00:10.465961",
     "exception": false,
     "start_time": "2021-09-27T20:00:08.915952",
     "status": "completed"
    },
    "tags": []
   },
   "outputs": [
    {
     "data": {
      "text/plain": [
       "<AxesSubplot:ylabel='PRODUCT'>"
      ]
     },
     "execution_count": 7,
     "metadata": {},
     "output_type": "execute_result"
    },
    {
     "data": {
      "image/png": "[encoded data removed]",
      "text/plain": [
       "<Figure size 432x288 with 1 Axes>"
      ]
     },
     "metadata": {
      "needs_background": "light"
     },
     "output_type": "display_data"
    }
   ],
   "source": [
    "df_pivot_diff.sort_values(\"stamp_2\", ascending = False)[\"stamp_2\"].head(10).plot.barh()"
   ]
  },
  {
   "cell_type": "code",
   "execution_count": null,
   "id": "extra-executive",
   "metadata": {
    "papermill": {
     "duration": 0.022432,
     "end_time": "2021-09-27T20:00:10.513633",
     "exception": false,
     "start_time": "2021-09-27T20:00:10.491201",
     "status": "completed"
    },
    "tags": []
   },
   "outputs": [],
   "source": []
  }
 ],
 "metadata": {
  "kernelspec": {
   "display_name": "Python 3",
   "language": "python",
   "name": "python3"
  },
  "language_info": {
   "codemirror_mode": {
    "name": "ipython",
    "version": 3
   },
   "file_extension": ".py",
   "mimetype": "text/x-python",
   "name": "python",
   "nbconvert_exporter": "python",
   "pygments_lexer": "ipython3",
   "version": "3.9.5"
  },
  "papermill": {
   "default_parameters": {},
   "duration": 7.825193,
   "end_time": "2021-09-27T20:00:12.131225",
   "environment_variables": {},
   "exception": null,
   "input_path": "eBay_Overview.ipynb",
   "output_path": "eBay_Overview.ipynb",
   "parameters": {},
   "start_time": "2021-09-27T20:00:04.306032",
   "version": "2.3.3"
  }
 },
 "nbformat": 4,
 "nbformat_minor": 5
}