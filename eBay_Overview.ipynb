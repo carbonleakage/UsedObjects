{
 "cells": [
  {
   "cell_type": "code",
   "execution_count": 1,
   "id": "reverse-picking",
   "metadata": {
    "execution": {
     "iopub.execute_input": "2021-08-28T13:30:07.507020Z",
     "iopub.status.busy": "2021-08-28T13:30:07.504792Z",
     "iopub.status.idle": "2021-08-28T13:30:08.310512Z",
     "shell.execute_reply": "2021-08-28T13:30:08.311727Z"
    },
    "papermill": {
     "duration": 0.859158,
     "end_time": "2021-08-28T13:30:08.312443",
     "exception": false,
     "start_time": "2021-08-28T13:30:07.453285",
     "status": "completed"
    },
    "tags": []
   },
   "outputs": [],
   "source": [
    "import pandas as pd\n",
    "import sqlite3"
   ]
  },
  {
   "cell_type": "code",
   "execution_count": 2,
   "id": "innovative-syndrome",
   "metadata": {
    "execution": {
     "iopub.execute_input": "2021-08-28T13:30:08.365535Z",
     "iopub.status.busy": "2021-08-28T13:30:08.363578Z",
     "iopub.status.idle": "2021-08-28T13:30:08.513800Z",
     "shell.execute_reply": "2021-08-28T13:30:08.514974Z"
    },
    "papermill": {
     "duration": 0.180015,
     "end_time": "2021-08-28T13:30:08.515368",
     "exception": false,
     "start_time": "2021-08-28T13:30:08.335353",
     "status": "completed"
    },
    "tags": []
   },
   "outputs": [],
   "source": [
    "timestamps = pd.read_sql(\"select distinct record_time from EBAY_TOP_BERLIN order by record_time desc limit 2\", sqlite3.connect(\"UsedObjects.db\"))"
   ]
  },
  {
   "cell_type": "code",
   "execution_count": 3,
   "id": "periodic-identification",
   "metadata": {
    "execution": {
     "iopub.execute_input": "2021-08-28T13:30:08.580634Z",
     "iopub.status.busy": "2021-08-28T13:30:08.578546Z",
     "iopub.status.idle": "2021-08-28T13:30:08.598301Z",
     "shell.execute_reply": "2021-08-28T13:30:08.599573Z"
    },
    "papermill": {
     "duration": 0.063394,
     "end_time": "2021-08-28T13:30:08.599982",
     "exception": false,
     "start_time": "2021-08-28T13:30:08.536588",
     "status": "completed"
    },
    "tags": []
   },
   "outputs": [
    {
     "data": {
      "text/html": [
       "<div>\n",
       "<style scoped>\n",
       "    .dataframe tbody tr th:only-of-type {\n",
       "        vertical-align: middle;\n",
       "    }\n",
       "\n",
       "    .dataframe tbody tr th {\n",
       "        vertical-align: top;\n",
       "    }\n",
       "\n",
       "    .dataframe thead th {\n",
       "        text-align: right;\n",
       "    }\n",
       "</style>\n",
       "<table border=\"1\" class=\"dataframe\">\n",
       "  <thead>\n",
       "    <tr style=\"text-align: right;\">\n",
       "      <th></th>\n",
       "      <th>RECORD_TIME</th>\n",
       "    </tr>\n",
       "  </thead>\n",
       "  <tbody>\n",
       "    <tr>\n",
       "      <th>0</th>\n",
       "      <td>2021-08-28 15:30</td>\n",
       "    </tr>\n",
       "    <tr>\n",
       "      <th>1</th>\n",
       "      <td>2021-08-28 15:00</td>\n",
       "    </tr>\n",
       "  </tbody>\n",
       "</table>\n",
       "</div>"
      ],
      "text/plain": [
       "        RECORD_TIME\n",
       "0  2021-08-28 15:30\n",
       "1  2021-08-28 15:00"
      ]
     },
     "execution_count": 3,
     "metadata": {},
     "output_type": "execute_result"
    }
   ],
   "source": [
    "timestamps"
   ]
  },
  {
   "cell_type": "code",
   "execution_count": 4,
   "id": "alternate-victory",
   "metadata": {
    "execution": {
     "iopub.execute_input": "2021-08-28T13:30:08.652634Z",
     "iopub.status.busy": "2021-08-28T13:30:08.650302Z",
     "iopub.status.idle": "2021-08-28T13:30:08.878006Z",
     "shell.execute_reply": "2021-08-28T13:30:08.876374Z"
    },
    "papermill": {
     "duration": 0.257135,
     "end_time": "2021-08-28T13:30:08.878396",
     "exception": false,
     "start_time": "2021-08-28T13:30:08.621261",
     "status": "completed"
    },
    "tags": []
   },
   "outputs": [],
   "source": [
    "df = pd.read_sql(\"select * from EBAY_TOP_BERLIN where record_time in (select distinct record_time from EBAY_TOP_BERLIN order by record_time desc limit 2)\", sqlite3.connect(\"UsedObjects.db\"))"
   ]
  },
  {
   "cell_type": "code",
   "execution_count": 5,
   "id": "popular-active",
   "metadata": {
    "execution": {
     "iopub.execute_input": "2021-08-28T13:30:08.949576Z",
     "iopub.status.busy": "2021-08-28T13:30:08.937639Z",
     "iopub.status.idle": "2021-08-28T13:30:08.964976Z",
     "shell.execute_reply": "2021-08-28T13:30:08.966191Z"
    },
    "papermill": {
     "duration": 0.067089,
     "end_time": "2021-08-28T13:30:08.966587",
     "exception": false,
     "start_time": "2021-08-28T13:30:08.899498",
     "status": "completed"
    },
    "tags": []
   },
   "outputs": [],
   "source": [
    "df_pivot = df.pivot_table(index=\"PRODUCT\", columns = \"RECORD_TIME\", values = \"LISTING_COUNT\")"
   ]
  },
  {
   "cell_type": "code",
   "execution_count": 6,
   "id": "union-huntington",
   "metadata": {
    "execution": {
     "iopub.execute_input": "2021-08-28T13:30:09.032694Z",
     "iopub.status.busy": "2021-08-28T13:30:09.030594Z",
     "iopub.status.idle": "2021-08-28T13:30:09.035911Z",
     "shell.execute_reply": "2021-08-28T13:30:09.037425Z"
    },
    "papermill": {
     "duration": 0.044445,
     "end_time": "2021-08-28T13:30:09.037856",
     "exception": false,
     "start_time": "2021-08-28T13:30:08.993411",
     "status": "completed"
    },
    "tags": []
   },
   "outputs": [],
   "source": [
    "df_pivot.columns = [\"stamp_1\", \"stamp_2\"]\n",
    "df_pivot_diff = df_pivot.diff(axis=1)"
   ]
  },
  {
   "cell_type": "code",
   "execution_count": 7,
   "id": "fifth-motion",
   "metadata": {
    "execution": {
     "iopub.execute_input": "2021-08-28T13:30:09.094320Z",
     "iopub.status.busy": "2021-08-28T13:30:09.091867Z",
     "iopub.status.idle": "2021-08-28T13:30:10.583788Z",
     "shell.execute_reply": "2021-08-28T13:30:10.585274Z"
    },
    "papermill": {
     "duration": 1.525787,
     "end_time": "2021-08-28T13:30:10.585728",
     "exception": false,
     "start_time": "2021-08-28T13:30:09.059941",
     "status": "completed"
    },
    "tags": []
   },
   "outputs": [
    {
     "data": {
      "text/plain": [
       "<AxesSubplot:ylabel='PRODUCT'>"
      ]
     },
     "execution_count": 7,
     "metadata": {},
     "output_type": "execute_result"
    },
    {
     "data": {
      "image/png": "[encoded data removed]",
      "text/plain": [
       "<Figure size 432x288 with 1 Axes>"
      ]
     },
     "metadata": {
      "needs_background": "light"
     },
     "output_type": "display_data"
    }
   ],
   "source": [
    "df_pivot_diff.sort_values(\"stamp_2\", ascending = False)[\"stamp_2\"].head(10).plot.barh()"
   ]
  },
  {
   "cell_type": "code",
   "execution_count": null,
   "id": "extra-executive",
   "metadata": {
    "papermill": {
     "duration": 0.022669,
     "end_time": "2021-08-28T13:30:10.633489",
     "exception": false,
     "start_time": "2021-08-28T13:30:10.610820",
     "status": "completed"
    },
    "tags": []
   },
   "outputs": [],
   "source": []
  }
 ],
 "metadata": {
  "kernelspec": {
   "display_name": "Python 3",
   "language": "python",
   "name": "python3"
  },
  "language_info": {
   "codemirror_mode": {
    "name": "ipython",
    "version": 3
   },
   "file_extension": ".py",
   "mimetype": "text/x-python",
   "name": "python",
   "nbconvert_exporter": "python",
   "pygments_lexer": "ipython3",
   "version": "3.9.5"
  },
  "papermill": {
   "default_parameters": {},
   "duration": 6.820762,
   "end_time": "2021-08-28T13:30:11.876621",
   "environment_variables": {},
   "exception": null,
   "input_path": "eBay_Overview.ipynb",
   "output_path": "eBay_Overview.ipynb",
   "parameters": {},
   "start_time": "2021-08-28T13:30:05.055859",
   "version": "2.3.3"
  }
 },
 "nbformat": 4,
 "nbformat_minor": 5
}