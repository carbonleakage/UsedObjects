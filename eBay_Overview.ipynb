{
 "cells": [
  {
   "cell_type": "code",
   "execution_count": 1,
   "id": "reverse-picking",
   "metadata": {
    "execution": {
     "iopub.execute_input": "2021-10-01T15:00:07.136355Z",
     "iopub.status.busy": "2021-10-01T15:00:07.134325Z",
     "iopub.status.idle": "2021-10-01T15:00:07.939784Z",
     "shell.execute_reply": "2021-10-01T15:00:07.941161Z"
    },
    "papermill": {
     "duration": 0.856965,
     "end_time": "2021-10-01T15:00:07.941801",
     "exception": false,
     "start_time": "2021-10-01T15:00:07.084836",
     "status": "completed"
    },
    "tags": []
   },
   "outputs": [],
   "source": [
    "import pandas as pd\n",
    "import sqlite3"
   ]
  },
  {
   "cell_type": "code",
   "execution_count": 2,
   "id": "innovative-syndrome",
   "metadata": {
    "execution": {
     "iopub.execute_input": "2021-10-01T15:00:07.991811Z",
     "iopub.status.busy": "2021-10-01T15:00:07.989837Z",
     "iopub.status.idle": "2021-10-01T15:00:08.418692Z",
     "shell.execute_reply": "2021-10-01T15:00:08.419966Z"
    },
    "papermill": {
     "duration": 0.458234,
     "end_time": "2021-10-01T15:00:08.420366",
     "exception": false,
     "start_time": "2021-10-01T15:00:07.962132",
     "status": "completed"
    },
    "tags": []
   },
   "outputs": [],
   "source": [
    "timestamps = pd.read_sql(\"select distinct record_time from EBAY_TOP_BERLIN order by record_time desc limit 2\", sqlite3.connect(\"UsedObjects.db\"))"
   ]
  },
  {
   "cell_type": "code",
   "execution_count": 3,
   "id": "periodic-identification",
   "metadata": {
    "execution": {
     "iopub.execute_input": "2021-10-01T15:00:08.488276Z",
     "iopub.status.busy": "2021-10-01T15:00:08.486170Z",
     "iopub.status.idle": "2021-10-01T15:00:08.505810Z",
     "shell.execute_reply": "2021-10-01T15:00:08.507197Z"
    },
    "papermill": {
     "duration": 0.064755,
     "end_time": "2021-10-01T15:00:08.507663",
     "exception": false,
     "start_time": "2021-10-01T15:00:08.442908",
     "status": "completed"
    },
    "tags": []
   },
   "outputs": [
    {
     "data": {
      "text/html": [
       "<div>\n",
       "<style scoped>\n",
       "    .dataframe tbody tr th:only-of-type {\n",
       "        vertical-align: middle;\n",
       "    }\n",
       "\n",
       "    .dataframe tbody tr th {\n",
       "        vertical-align: top;\n",
       "    }\n",
       "\n",
       "    .dataframe thead th {\n",
       "        text-align: right;\n",
       "    }\n",
       "</style>\n",
       "<table border=\"1\" class=\"dataframe\">\n",
       "  <thead>\n",
       "    <tr style=\"text-align: right;\">\n",
       "      <th></th>\n",
       "      <th>RECORD_TIME</th>\n",
       "    </tr>\n",
       "  </thead>\n",
       "  <tbody>\n",
       "    <tr>\n",
       "      <th>0</th>\n",
       "      <td>2021-10-01 17:00</td>\n",
       "    </tr>\n",
       "    <tr>\n",
       "      <th>1</th>\n",
       "      <td>2021-10-01 16:30</td>\n",
       "    </tr>\n",
       "  </tbody>\n",
       "</table>\n",
       "</div>"
      ],
      "text/plain": [
       "        RECORD_TIME\n",
       "0  2021-10-01 17:00\n",
       "1  2021-10-01 16:30"
      ]
     },
     "execution_count": 3,
     "metadata": {},
     "output_type": "execute_result"
    }
   ],
   "source": [
    "timestamps"
   ]
  },
  {
   "cell_type": "code",
   "execution_count": 4,
   "id": "alternate-victory",
   "metadata": {
    "execution": {
     "iopub.execute_input": "2021-10-01T15:00:08.558916Z",
     "iopub.status.busy": "2021-10-01T15:00:08.556936Z",
     "iopub.status.idle": "2021-10-01T15:00:09.183673Z",
     "shell.execute_reply": "2021-10-01T15:00:09.184953Z"
    },
    "papermill": {
     "duration": 0.657091,
     "end_time": "2021-10-01T15:00:09.185347",
     "exception": false,
     "start_time": "2021-10-01T15:00:08.528256",
     "status": "completed"
    },
    "tags": []
   },
   "outputs": [],
   "source": [
    "df = pd.read_sql(\"select * from EBAY_TOP_BERLIN where record_time in (select distinct record_time from EBAY_TOP_BERLIN order by record_time desc limit 2)\", sqlite3.connect(\"UsedObjects.db\"))"
   ]
  },
  {
   "cell_type": "code",
   "execution_count": 5,
   "id": "popular-active",
   "metadata": {
    "execution": {
     "iopub.execute_input": "2021-10-01T15:00:09.246330Z",
     "iopub.status.busy": "2021-10-01T15:00:09.244102Z",
     "iopub.status.idle": "2021-10-01T15:00:09.271449Z",
     "shell.execute_reply": "2021-10-01T15:00:09.272664Z"
    },
    "papermill": {
     "duration": 0.067291,
     "end_time": "2021-10-01T15:00:09.273056",
     "exception": false,
     "start_time": "2021-10-01T15:00:09.205765",
     "status": "completed"
    },
    "tags": []
   },
   "outputs": [],
   "source": [
    "df_pivot = df.pivot_table(index=\"PRODUCT\", columns = \"RECORD_TIME\", values = \"LISTING_COUNT\")"
   ]
  },
  {
   "cell_type": "code",
   "execution_count": 6,
   "id": "union-huntington",
   "metadata": {
    "execution": {
     "iopub.execute_input": "2021-10-01T15:00:09.329790Z",
     "iopub.status.busy": "2021-10-01T15:00:09.327726Z",
     "iopub.status.idle": "2021-10-01T15:00:09.332797Z",
     "shell.execute_reply": "2021-10-01T15:00:09.334055Z"
    },
    "papermill": {
     "duration": 0.040001,
     "end_time": "2021-10-01T15:00:09.334471",
     "exception": false,
     "start_time": "2021-10-01T15:00:09.294470",
     "status": "completed"
    },
    "tags": []
   },
   "outputs": [],
   "source": [
    "df_pivot.columns = [\"stamp_1\", \"stamp_2\"]\n",
    "df_pivot_diff = df_pivot.diff(axis=1)"
   ]
  },
  {
   "cell_type": "code",
   "execution_count": 7,
   "id": "fifth-motion",
   "metadata": {
    "execution": {
     "iopub.execute_input": "2021-10-01T15:00:09.389716Z",
     "iopub.status.busy": "2021-10-01T15:00:09.387083Z",
     "iopub.status.idle": "2021-10-01T15:00:10.854843Z",
     "shell.execute_reply": "2021-10-01T15:00:10.856244Z"
    },
    "papermill": {
     "duration": 1.501734,
     "end_time": "2021-10-01T15:00:10.856681",
     "exception": false,
     "start_time": "2021-10-01T15:00:09.354947",
     "status": "completed"
    },
    "tags": []
   },
   "outputs": [
    {
     "data": {
      "text/plain": [
       "<AxesSubplot:ylabel='PRODUCT'>"
      ]
     },
     "execution_count": 7,
     "metadata": {},
     "output_type": "execute_result"
    },
    {
     "data": {
      "image/png": "[encoded data removed]",
      "text/plain": [
       "<Figure size 432x288 with 1 Axes>"
      ]
     },
     "metadata": {
      "needs_background": "light"
     },
     "output_type": "display_data"
    }
   ],
   "source": [
    "df_pivot_diff.sort_values(\"stamp_2\", ascending = False)[\"stamp_2\"].head(10).plot.barh()"
   ]
  },
  {
   "cell_type": "code",
   "execution_count": null,
   "id": "extra-executive",
   "metadata": {
    "papermill": {
     "duration": 0.022278,
     "end_time": "2021-10-01T15:00:10.903494",
     "exception": false,
     "start_time": "2021-10-01T15:00:10.881216",
     "status": "completed"
    },
    "tags": []
   },
   "outputs": [],
   "source": []
  }
 ],
 "metadata": {
  "kernelspec": {
   "display_name": "Python 3",
   "language": "python",
   "name": "python3"
  },
  "language_info": {
   "codemirror_mode": {
    "name": "ipython",
    "version": 3
   },
   "file_extension": ".py",
   "mimetype": "text/x-python",
   "name": "python",
   "nbconvert_exporter": "python",
   "pygments_lexer": "ipython3",
   "version": "3.9.5"
  },
  "papermill": {
   "default_parameters": {},
   "duration": 7.820072,
   "end_time": "2021-10-01T15:00:12.500522",
   "environment_variables": {},
   "exception": null,
   "input_path": "eBay_Overview.ipynb",
   "output_path": "eBay_Overview.ipynb",
   "parameters": {},
   "start_time": "2021-10-01T15:00:04.680450",
   "version": "2.3.3"
  }
 },
 "nbformat": 4,
 "nbformat_minor": 5
}