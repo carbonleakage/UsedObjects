{
 "cells": [
  {
   "cell_type": "code",
   "execution_count": 1,
   "id": "reverse-picking",
   "metadata": {
    "execution": {
     "iopub.execute_input": "2021-08-23T14:30:07.044327Z",
     "iopub.status.busy": "2021-08-23T14:30:07.042401Z",
     "iopub.status.idle": "2021-08-23T14:30:07.851936Z",
     "shell.execute_reply": "2021-08-23T14:30:07.853168Z"
    },
    "papermill": {
     "duration": 0.863312,
     "end_time": "2021-08-23T14:30:07.853790",
     "exception": false,
     "start_time": "2021-08-23T14:30:06.990478",
     "status": "completed"
    },
    "tags": []
   },
   "outputs": [],
   "source": [
    "import pandas as pd\n",
    "import sqlite3"
   ]
  },
  {
   "cell_type": "code",
   "execution_count": 2,
   "id": "innovative-syndrome",
   "metadata": {
    "execution": {
     "iopub.execute_input": "2021-08-23T14:30:07.906800Z",
     "iopub.status.busy": "2021-08-23T14:30:07.904417Z",
     "iopub.status.idle": "2021-08-23T14:30:08.018044Z",
     "shell.execute_reply": "2021-08-23T14:30:08.019199Z"
    },
    "papermill": {
     "duration": 0.143409,
     "end_time": "2021-08-23T14:30:08.019613",
     "exception": false,
     "start_time": "2021-08-23T14:30:07.876204",
     "status": "completed"
    },
    "tags": []
   },
   "outputs": [],
   "source": [
    "timestamps = pd.read_sql(\"select distinct record_time from EBAY_TOP_BERLIN order by record_time desc limit 2\", sqlite3.connect(\"UsedObjects.db\"))"
   ]
  },
  {
   "cell_type": "code",
   "execution_count": 3,
   "id": "periodic-identification",
   "metadata": {
    "execution": {
     "iopub.execute_input": "2021-08-23T14:30:08.088446Z",
     "iopub.status.busy": "2021-08-23T14:30:08.086457Z",
     "iopub.status.idle": "2021-08-23T14:30:08.106582Z",
     "shell.execute_reply": "2021-08-23T14:30:08.107899Z"
    },
    "papermill": {
     "duration": 0.066109,
     "end_time": "2021-08-23T14:30:08.108318",
     "exception": false,
     "start_time": "2021-08-23T14:30:08.042209",
     "status": "completed"
    },
    "tags": []
   },
   "outputs": [
    {
     "data": {
      "text/html": [
       "<div>\n",
       "<style scoped>\n",
       "    .dataframe tbody tr th:only-of-type {\n",
       "        vertical-align: middle;\n",
       "    }\n",
       "\n",
       "    .dataframe tbody tr th {\n",
       "        vertical-align: top;\n",
       "    }\n",
       "\n",
       "    .dataframe thead th {\n",
       "        text-align: right;\n",
       "    }\n",
       "</style>\n",
       "<table border=\"1\" class=\"dataframe\">\n",
       "  <thead>\n",
       "    <tr style=\"text-align: right;\">\n",
       "      <th></th>\n",
       "      <th>RECORD_TIME</th>\n",
       "    </tr>\n",
       "  </thead>\n",
       "  <tbody>\n",
       "    <tr>\n",
       "      <th>0</th>\n",
       "      <td>2021-08-23 16:30</td>\n",
       "    </tr>\n",
       "    <tr>\n",
       "      <th>1</th>\n",
       "      <td>2021-08-23 16:00</td>\n",
       "    </tr>\n",
       "  </tbody>\n",
       "</table>\n",
       "</div>"
      ],
      "text/plain": [
       "        RECORD_TIME\n",
       "0  2021-08-23 16:30\n",
       "1  2021-08-23 16:00"
      ]
     },
     "execution_count": 3,
     "metadata": {},
     "output_type": "execute_result"
    }
   ],
   "source": [
    "timestamps"
   ]
  },
  {
   "cell_type": "code",
   "execution_count": 4,
   "id": "alternate-victory",
   "metadata": {
    "execution": {
     "iopub.execute_input": "2021-08-23T14:30:08.162111Z",
     "iopub.status.busy": "2021-08-23T14:30:08.159809Z",
     "iopub.status.idle": "2021-08-23T14:30:08.330349Z",
     "shell.execute_reply": "2021-08-23T14:30:08.331639Z"
    },
    "papermill": {
     "duration": 0.201073,
     "end_time": "2021-08-23T14:30:08.332054",
     "exception": false,
     "start_time": "2021-08-23T14:30:08.130981",
     "status": "completed"
    },
    "tags": []
   },
   "outputs": [],
   "source": [
    "df = pd.read_sql(\"select * from EBAY_TOP_BERLIN where record_time in (select distinct record_time from EBAY_TOP_BERLIN order by record_time desc limit 2)\", sqlite3.connect(\"UsedObjects.db\"))"
   ]
  },
  {
   "cell_type": "code",
   "execution_count": 5,
   "id": "popular-active",
   "metadata": {
    "execution": {
     "iopub.execute_input": "2021-08-23T14:30:08.400194Z",
     "iopub.status.busy": "2021-08-23T14:30:08.389248Z",
     "iopub.status.idle": "2021-08-23T14:30:08.416605Z",
     "shell.execute_reply": "2021-08-23T14:30:08.417790Z"
    },
    "papermill": {
     "duration": 0.065839,
     "end_time": "2021-08-23T14:30:08.418387",
     "exception": false,
     "start_time": "2021-08-23T14:30:08.352548",
     "status": "completed"
    },
    "tags": []
   },
   "outputs": [],
   "source": [
    "df_pivot = df.pivot_table(index=\"PRODUCT\", columns = \"RECORD_TIME\", values = \"LISTING_COUNT\")"
   ]
  },
  {
   "cell_type": "code",
   "execution_count": 6,
   "id": "union-huntington",
   "metadata": {
    "execution": {
     "iopub.execute_input": "2021-08-23T14:30:08.480585Z",
     "iopub.status.busy": "2021-08-23T14:30:08.478653Z",
     "iopub.status.idle": "2021-08-23T14:30:08.483700Z",
     "shell.execute_reply": "2021-08-23T14:30:08.484886Z"
    },
    "papermill": {
     "duration": 0.044916,
     "end_time": "2021-08-23T14:30:08.485285",
     "exception": false,
     "start_time": "2021-08-23T14:30:08.440369",
     "status": "completed"
    },
    "tags": []
   },
   "outputs": [],
   "source": [
    "df_pivot.columns = [\"stamp_1\", \"stamp_2\"]\n",
    "df_pivot_diff = df_pivot.diff(axis=1)"
   ]
  },
  {
   "cell_type": "code",
   "execution_count": 7,
   "id": "fifth-motion",
   "metadata": {
    "execution": {
     "iopub.execute_input": "2021-08-23T14:30:08.540191Z",
     "iopub.status.busy": "2021-08-23T14:30:08.537647Z",
     "iopub.status.idle": "2021-08-23T14:30:10.051374Z",
     "shell.execute_reply": "2021-08-23T14:30:10.052653Z"
    },
    "papermill": {
     "duration": 1.546799,
     "end_time": "2021-08-23T14:30:10.053077",
     "exception": false,
     "start_time": "2021-08-23T14:30:08.506278",
     "status": "completed"
    },
    "tags": []
   },
   "outputs": [
    {
     "data": {
      "text/plain": [
       "<AxesSubplot:ylabel='PRODUCT'>"
      ]
     },
     "execution_count": 7,
     "metadata": {},
     "output_type": "execute_result"
    },
    {
     "data": {
      "image/png": "[encoded data removed]",
      "text/plain": [
       "<Figure size 432x288 with 1 Axes>"
      ]
     },
     "metadata": {
      "needs_background": "light"
     },
     "output_type": "display_data"
    }
   ],
   "source": [
    "df_pivot_diff.sort_values(\"stamp_2\", ascending = False)[\"stamp_2\"].head(10).plot.barh()"
   ]
  },
  {
   "cell_type": "code",
   "execution_count": null,
   "id": "extra-executive",
   "metadata": {
    "papermill": {
     "duration": 0.022046,
     "end_time": "2021-08-23T14:30:10.099598",
     "exception": false,
     "start_time": "2021-08-23T14:30:10.077552",
     "status": "completed"
    },
    "tags": []
   },
   "outputs": [],
   "source": []
  }
 ],
 "metadata": {
  "kernelspec": {
   "display_name": "Python 3",
   "language": "python",
   "name": "python3"
  },
  "language_info": {
   "codemirror_mode": {
    "name": "ipython",
    "version": 3
   },
   "file_extension": ".py",
   "mimetype": "text/x-python",
   "name": "python",
   "nbconvert_exporter": "python",
   "pygments_lexer": "ipython3",
   "version": "3.9.5"
  },
  "papermill": {
   "default_parameters": {},
   "duration": 6.828814,
   "end_time": "2021-08-23T14:30:11.405157",
   "environment_variables": {},
   "exception": null,
   "input_path": "eBay_Overview.ipynb",
   "output_path": "eBay_Overview.ipynb",
   "parameters": {},
   "start_time": "2021-08-23T14:30:04.576343",
   "version": "2.3.3"
  }
 },
 "nbformat": 4,
 "nbformat_minor": 5
}