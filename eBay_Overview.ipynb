{
 "cells": [
  {
   "cell_type": "code",
   "execution_count": 1,
   "id": "reverse-picking",
   "metadata": {
    "execution": {
     "iopub.execute_input": "2021-12-18T22:00:07.220288Z",
     "iopub.status.busy": "2021-12-18T22:00:07.217521Z",
     "iopub.status.idle": "2021-12-18T22:00:08.185315Z",
     "shell.execute_reply": "2021-12-18T22:00:08.183302Z"
    },
    "papermill": {
     "duration": 1.017727,
     "end_time": "2021-12-18T22:00:08.185812",
     "exception": false,
     "start_time": "2021-12-18T22:00:07.168085",
     "status": "completed"
    },
    "tags": []
   },
   "outputs": [],
   "source": [
    "import pandas as pd\n",
    "import sqlite3"
   ]
  },
  {
   "cell_type": "code",
   "execution_count": 2,
   "id": "innovative-syndrome",
   "metadata": {
    "execution": {
     "iopub.execute_input": "2021-12-18T22:00:08.252646Z",
     "iopub.status.busy": "2021-12-18T22:00:08.250108Z",
     "iopub.status.idle": "2021-12-18T22:00:09.385763Z",
     "shell.execute_reply": "2021-12-18T22:00:09.386992Z"
    },
    "papermill": {
     "duration": 1.168951,
     "end_time": "2021-12-18T22:00:09.387395",
     "exception": false,
     "start_time": "2021-12-18T22:00:08.218444",
     "status": "completed"
    },
    "tags": []
   },
   "outputs": [],
   "source": [
    "timestamps = pd.read_sql(\"select distinct record_time from EBAY_TOP_BERLIN order by record_time desc limit 2\", sqlite3.connect(\"UsedObjects.db\"))"
   ]
  },
  {
   "cell_type": "code",
   "execution_count": 3,
   "id": "periodic-identification",
   "metadata": {
    "execution": {
     "iopub.execute_input": "2021-12-18T22:00:09.451957Z",
     "iopub.status.busy": "2021-12-18T22:00:09.449940Z",
     "iopub.status.idle": "2021-12-18T22:00:09.470318Z",
     "shell.execute_reply": "2021-12-18T22:00:09.471522Z"
    },
    "papermill": {
     "duration": 0.063729,
     "end_time": "2021-12-18T22:00:09.471957",
     "exception": false,
     "start_time": "2021-12-18T22:00:09.408228",
     "status": "completed"
    },
    "tags": []
   },
   "outputs": [
    {
     "data": {
      "text/html": [
       "<div>\n",
       "<style scoped>\n",
       "    .dataframe tbody tr th:only-of-type {\n",
       "        vertical-align: middle;\n",
       "    }\n",
       "\n",
       "    .dataframe tbody tr th {\n",
       "        vertical-align: top;\n",
       "    }\n",
       "\n",
       "    .dataframe thead th {\n",
       "        text-align: right;\n",
       "    }\n",
       "</style>\n",
       "<table border=\"1\" class=\"dataframe\">\n",
       "  <thead>\n",
       "    <tr style=\"text-align: right;\">\n",
       "      <th></th>\n",
       "      <th>RECORD_TIME</th>\n",
       "    </tr>\n",
       "  </thead>\n",
       "  <tbody>\n",
       "    <tr>\n",
       "      <th>0</th>\n",
       "      <td>2021-12-18 23:00</td>\n",
       "    </tr>\n",
       "    <tr>\n",
       "      <th>1</th>\n",
       "      <td>2021-12-18 22:30</td>\n",
       "    </tr>\n",
       "  </tbody>\n",
       "</table>\n",
       "</div>"
      ],
      "text/plain": [
       "        RECORD_TIME\n",
       "0  2021-12-18 23:00\n",
       "1  2021-12-18 22:30"
      ]
     },
     "execution_count": 3,
     "metadata": {},
     "output_type": "execute_result"
    }
   ],
   "source": [
    "timestamps"
   ]
  },
  {
   "cell_type": "code",
   "execution_count": 4,
   "id": "alternate-victory",
   "metadata": {
    "execution": {
     "iopub.execute_input": "2021-12-18T22:00:09.527104Z",
     "iopub.status.busy": "2021-12-18T22:00:09.524975Z",
     "iopub.status.idle": "2021-12-18T22:00:11.167616Z",
     "shell.execute_reply": "2021-12-18T22:00:11.169832Z"
    },
    "papermill": {
     "duration": 1.67608,
     "end_time": "2021-12-18T22:00:11.170312",
     "exception": false,
     "start_time": "2021-12-18T22:00:09.494232",
     "status": "completed"
    },
    "tags": []
   },
   "outputs": [],
   "source": [
    "df = pd.read_sql(\"select * from EBAY_TOP_BERLIN where record_time in (select distinct record_time from EBAY_TOP_BERLIN order by record_time desc limit 2)\", sqlite3.connect(\"UsedObjects.db\"))"
   ]
  },
  {
   "cell_type": "code",
   "execution_count": 5,
   "id": "popular-active",
   "metadata": {
    "execution": {
     "iopub.execute_input": "2021-12-18T22:00:11.244567Z",
     "iopub.status.busy": "2021-12-18T22:00:11.231261Z",
     "iopub.status.idle": "2021-12-18T22:00:11.265610Z",
     "shell.execute_reply": "2021-12-18T22:00:11.267098Z"
    },
    "papermill": {
     "duration": 0.076958,
     "end_time": "2021-12-18T22:00:11.267632",
     "exception": false,
     "start_time": "2021-12-18T22:00:11.190674",
     "status": "completed"
    },
    "tags": []
   },
   "outputs": [],
   "source": [
    "df_pivot = df.pivot_table(index=\"PRODUCT\", columns = \"RECORD_TIME\", values = \"LISTING_COUNT\")"
   ]
  },
  {
   "cell_type": "code",
   "execution_count": 6,
   "id": "union-huntington",
   "metadata": {
    "execution": {
     "iopub.execute_input": "2021-12-18T22:00:11.331179Z",
     "iopub.status.busy": "2021-12-18T22:00:11.328945Z",
     "iopub.status.idle": "2021-12-18T22:00:11.334187Z",
     "shell.execute_reply": "2021-12-18T22:00:11.335541Z"
    },
    "papermill": {
     "duration": 0.043629,
     "end_time": "2021-12-18T22:00:11.336021",
     "exception": false,
     "start_time": "2021-12-18T22:00:11.292392",
     "status": "completed"
    },
    "tags": []
   },
   "outputs": [],
   "source": [
    "df_pivot.columns = [\"stamp_1\", \"stamp_2\"]\n",
    "df_pivot_diff = df_pivot.diff(axis=1)"
   ]
  },
  {
   "cell_type": "code",
   "execution_count": 7,
   "id": "fifth-motion",
   "metadata": {
    "execution": {
     "iopub.execute_input": "2021-12-18T22:00:11.392092Z",
     "iopub.status.busy": "2021-12-18T22:00:11.389630Z",
     "iopub.status.idle": "2021-12-18T22:00:13.424328Z",
     "shell.execute_reply": "2021-12-18T22:00:13.425831Z"
    },
    "papermill": {
     "duration": 2.07054,
     "end_time": "2021-12-18T22:00:13.426291",
     "exception": false,
     "start_time": "2021-12-18T22:00:11.355751",
     "status": "completed"
    },
    "tags": []
   },
   "outputs": [
    {
     "data": {
      "text/plain": [
       "<AxesSubplot:ylabel='PRODUCT'>"
      ]
     },
     "execution_count": 7,
     "metadata": {},
     "output_type": "execute_result"
    },
    {
     "data": {
      "image/png": "[encoded data removed]",
      "text/plain": [
       "<Figure size 432x288 with 1 Axes>"
      ]
     },
     "metadata": {
      "needs_background": "light"
     },
     "output_type": "display_data"
    }
   ],
   "source": [
    "df_pivot_diff.sort_values(\"stamp_2\", ascending = False)[\"stamp_2\"].head(10).plot.barh()"
   ]
  },
  {
   "cell_type": "code",
   "execution_count": null,
   "id": "extra-executive",
   "metadata": {
    "papermill": {
     "duration": 0.021863,
     "end_time": "2021-12-18T22:00:13.472760",
     "exception": false,
     "start_time": "2021-12-18T22:00:13.450897",
     "status": "completed"
    },
    "tags": []
   },
   "outputs": [],
   "source": []
  }
 ],
 "metadata": {
  "kernelspec": {
   "display_name": "Python 3",
   "language": "python",
   "name": "python3"
  },
  "language_info": {
   "codemirror_mode": {
    "name": "ipython",
    "version": 3
   },
   "file_extension": ".py",
   "mimetype": "text/x-python",
   "name": "python",
   "nbconvert_exporter": "python",
   "pygments_lexer": "ipython3",
   "version": "3.9.5"
  },
  "papermill": {
   "default_parameters": {},
   "duration": 9.683427,
   "end_time": "2021-12-18T22:00:14.113683",
   "environment_variables": {},
   "exception": null,
   "input_path": "eBay_Overview.ipynb",
   "output_path": "eBay_Overview.ipynb",
   "parameters": {},
   "start_time": "2021-12-18T22:00:04.430256",
   "version": "2.3.3"
  }
 },
 "nbformat": 4,
 "nbformat_minor": 5
}