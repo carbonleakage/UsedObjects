{
 "cells": [
  {
   "cell_type": "code",
   "execution_count": 1,
   "id": "reverse-picking",
   "metadata": {
    "execution": {
     "iopub.execute_input": "2021-11-10T19:00:07.765555Z",
     "iopub.status.busy": "2021-11-10T19:00:07.763181Z",
     "iopub.status.idle": "2021-11-10T19:00:08.718573Z",
     "shell.execute_reply": "2021-11-10T19:00:08.720085Z"
    },
    "papermill": {
     "duration": 1.005426,
     "end_time": "2021-11-10T19:00:08.720896",
     "exception": false,
     "start_time": "2021-11-10T19:00:07.715470",
     "status": "completed"
    },
    "tags": []
   },
   "outputs": [],
   "source": [
    "import pandas as pd\n",
    "import sqlite3"
   ]
  },
  {
   "cell_type": "code",
   "execution_count": 2,
   "id": "innovative-syndrome",
   "metadata": {
    "execution": {
     "iopub.execute_input": "2021-11-10T19:00:08.782989Z",
     "iopub.status.busy": "2021-11-10T19:00:08.780519Z",
     "iopub.status.idle": "2021-11-10T19:00:09.567537Z",
     "shell.execute_reply": "2021-11-10T19:00:09.569120Z"
    },
    "papermill": {
     "duration": 0.822237,
     "end_time": "2021-11-10T19:00:09.569631",
     "exception": false,
     "start_time": "2021-11-10T19:00:08.747394",
     "status": "completed"
    },
    "tags": []
   },
   "outputs": [],
   "source": [
    "timestamps = pd.read_sql(\"select distinct record_time from EBAY_TOP_BERLIN order by record_time desc limit 2\", sqlite3.connect(\"UsedObjects.db\"))"
   ]
  },
  {
   "cell_type": "code",
   "execution_count": 3,
   "id": "periodic-identification",
   "metadata": {
    "execution": {
     "iopub.execute_input": "2021-11-10T19:00:09.643068Z",
     "iopub.status.busy": "2021-11-10T19:00:09.640497Z",
     "iopub.status.idle": "2021-11-10T19:00:09.671551Z",
     "shell.execute_reply": "2021-11-10T19:00:09.669507Z"
    },
    "papermill": {
     "duration": 0.08168,
     "end_time": "2021-11-10T19:00:09.672076",
     "exception": false,
     "start_time": "2021-11-10T19:00:09.590396",
     "status": "completed"
    },
    "tags": []
   },
   "outputs": [
    {
     "data": {
      "text/html": [
       "<div>\n",
       "<style scoped>\n",
       "    .dataframe tbody tr th:only-of-type {\n",
       "        vertical-align: middle;\n",
       "    }\n",
       "\n",
       "    .dataframe tbody tr th {\n",
       "        vertical-align: top;\n",
       "    }\n",
       "\n",
       "    .dataframe thead th {\n",
       "        text-align: right;\n",
       "    }\n",
       "</style>\n",
       "<table border=\"1\" class=\"dataframe\">\n",
       "  <thead>\n",
       "    <tr style=\"text-align: right;\">\n",
       "      <th></th>\n",
       "      <th>RECORD_TIME</th>\n",
       "    </tr>\n",
       "  </thead>\n",
       "  <tbody>\n",
       "    <tr>\n",
       "      <th>0</th>\n",
       "      <td>2021-11-10 20:00</td>\n",
       "    </tr>\n",
       "    <tr>\n",
       "      <th>1</th>\n",
       "      <td>2021-11-10 19:30</td>\n",
       "    </tr>\n",
       "  </tbody>\n",
       "</table>\n",
       "</div>"
      ],
      "text/plain": [
       "        RECORD_TIME\n",
       "0  2021-11-10 20:00\n",
       "1  2021-11-10 19:30"
      ]
     },
     "execution_count": 3,
     "metadata": {},
     "output_type": "execute_result"
    }
   ],
   "source": [
    "timestamps"
   ]
  },
  {
   "cell_type": "code",
   "execution_count": 4,
   "id": "alternate-victory",
   "metadata": {
    "execution": {
     "iopub.execute_input": "2021-11-10T19:00:09.727556Z",
     "iopub.status.busy": "2021-11-10T19:00:09.725408Z",
     "iopub.status.idle": "2021-11-10T19:00:10.841360Z",
     "shell.execute_reply": "2021-11-10T19:00:10.843419Z"
    },
    "papermill": {
     "duration": 1.149985,
     "end_time": "2021-11-10T19:00:10.843891",
     "exception": false,
     "start_time": "2021-11-10T19:00:09.693906",
     "status": "completed"
    },
    "tags": []
   },
   "outputs": [],
   "source": [
    "df = pd.read_sql(\"select * from EBAY_TOP_BERLIN where record_time in (select distinct record_time from EBAY_TOP_BERLIN order by record_time desc limit 2)\", sqlite3.connect(\"UsedObjects.db\"))"
   ]
  },
  {
   "cell_type": "code",
   "execution_count": 5,
   "id": "popular-active",
   "metadata": {
    "execution": {
     "iopub.execute_input": "2021-11-10T19:00:10.918103Z",
     "iopub.status.busy": "2021-11-10T19:00:10.905066Z",
     "iopub.status.idle": "2021-11-10T19:00:10.937312Z",
     "shell.execute_reply": "2021-11-10T19:00:10.938789Z"
    },
    "papermill": {
     "duration": 0.075054,
     "end_time": "2021-11-10T19:00:10.939273",
     "exception": false,
     "start_time": "2021-11-10T19:00:10.864219",
     "status": "completed"
    },
    "tags": []
   },
   "outputs": [],
   "source": [
    "df_pivot = df.pivot_table(index=\"PRODUCT\", columns = \"RECORD_TIME\", values = \"LISTING_COUNT\")"
   ]
  },
  {
   "cell_type": "code",
   "execution_count": 6,
   "id": "union-huntington",
   "metadata": {
    "execution": {
     "iopub.execute_input": "2021-11-10T19:00:11.022148Z",
     "iopub.status.busy": "2021-11-10T19:00:11.018854Z",
     "iopub.status.idle": "2021-11-10T19:00:11.028541Z",
     "shell.execute_reply": "2021-11-10T19:00:11.031136Z"
    },
    "papermill": {
     "duration": 0.069887,
     "end_time": "2021-11-10T19:00:11.032052",
     "exception": false,
     "start_time": "2021-11-10T19:00:10.962165",
     "status": "completed"
    },
    "tags": []
   },
   "outputs": [],
   "source": [
    "df_pivot.columns = [\"stamp_1\", \"stamp_2\"]\n",
    "df_pivot_diff = df_pivot.diff(axis=1)"
   ]
  },
  {
   "cell_type": "code",
   "execution_count": 7,
   "id": "fifth-motion",
   "metadata": {
    "execution": {
     "iopub.execute_input": "2021-11-10T19:00:11.093969Z",
     "iopub.status.busy": "2021-11-10T19:00:11.091288Z",
     "iopub.status.idle": "2021-11-10T19:00:12.905845Z",
     "shell.execute_reply": "2021-11-10T19:00:12.908397Z"
    },
    "papermill": {
     "duration": 1.853502,
     "end_time": "2021-11-10T19:00:12.909184",
     "exception": false,
     "start_time": "2021-11-10T19:00:11.055682",
     "status": "completed"
    },
    "tags": []
   },
   "outputs": [
    {
     "data": {
      "text/plain": [
       "<AxesSubplot:ylabel='PRODUCT'>"
      ]
     },
     "execution_count": 7,
     "metadata": {},
     "output_type": "execute_result"
    },
    {
     "data": {
      "image/png": "[encoded data removed]",
      "text/plain": [
       "<Figure size 432x288 with 1 Axes>"
      ]
     },
     "metadata": {
      "needs_background": "light"
     },
     "output_type": "display_data"
    }
   ],
   "source": [
    "df_pivot_diff.sort_values(\"stamp_2\", ascending = False)[\"stamp_2\"].head(10).plot.barh()"
   ]
  },
  {
   "cell_type": "code",
   "execution_count": null,
   "id": "extra-executive",
   "metadata": {
    "papermill": {
     "duration": 0.027503,
     "end_time": "2021-11-10T19:00:12.969165",
     "exception": false,
     "start_time": "2021-11-10T19:00:12.941662",
     "status": "completed"
    },
    "tags": []
   },
   "outputs": [],
   "source": []
  }
 ],
 "metadata": {
  "kernelspec": {
   "display_name": "Python 3",
   "language": "python",
   "name": "python3"
  },
  "language_info": {
   "codemirror_mode": {
    "name": "ipython",
    "version": 3
   },
   "file_extension": ".py",
   "mimetype": "text/x-python",
   "name": "python",
   "nbconvert_exporter": "python",
   "pygments_lexer": "ipython3",
   "version": "3.9.5"
  },
  "papermill": {
   "default_parameters": {},
   "duration": 8.875628,
   "end_time": "2021-11-10T19:00:13.852037",
   "environment_variables": {},
   "exception": null,
   "input_path": "eBay_Overview.ipynb",
   "output_path": "eBay_Overview.ipynb",
   "parameters": {},
   "start_time": "2021-11-10T19:00:04.976409",
   "version": "2.3.3"
  }
 },
 "nbformat": 4,
 "nbformat_minor": 5
}