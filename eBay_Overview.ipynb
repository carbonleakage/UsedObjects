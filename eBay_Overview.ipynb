{
 "cells": [
  {
   "cell_type": "code",
   "execution_count": 1,
   "id": "reverse-picking",
   "metadata": {
    "execution": {
     "iopub.execute_input": "2021-11-14T10:00:08.913023Z",
     "iopub.status.busy": "2021-11-14T10:00:08.910514Z",
     "iopub.status.idle": "2021-11-14T10:00:09.870529Z",
     "shell.execute_reply": "2021-11-14T10:00:09.872104Z"
    },
    "papermill": {
     "duration": 1.008758,
     "end_time": "2021-11-14T10:00:09.872918",
     "exception": false,
     "start_time": "2021-11-14T10:00:08.864160",
     "status": "completed"
    },
    "tags": []
   },
   "outputs": [],
   "source": [
    "import pandas as pd\n",
    "import sqlite3"
   ]
  },
  {
   "cell_type": "code",
   "execution_count": 2,
   "id": "innovative-syndrome",
   "metadata": {
    "execution": {
     "iopub.execute_input": "2021-11-14T10:00:09.935790Z",
     "iopub.status.busy": "2021-11-14T10:00:09.933508Z",
     "iopub.status.idle": "2021-11-14T10:00:10.742209Z",
     "shell.execute_reply": "2021-11-14T10:00:10.744487Z"
    },
    "papermill": {
     "duration": 0.84473,
     "end_time": "2021-11-14T10:00:10.745106",
     "exception": false,
     "start_time": "2021-11-14T10:00:09.900376",
     "status": "completed"
    },
    "tags": []
   },
   "outputs": [],
   "source": [
    "timestamps = pd.read_sql(\"select distinct record_time from EBAY_TOP_BERLIN order by record_time desc limit 2\", sqlite3.connect(\"UsedObjects.db\"))"
   ]
  },
  {
   "cell_type": "code",
   "execution_count": 3,
   "id": "periodic-identification",
   "metadata": {
    "execution": {
     "iopub.execute_input": "2021-11-14T10:00:10.822331Z",
     "iopub.status.busy": "2021-11-14T10:00:10.816332Z",
     "iopub.status.idle": "2021-11-14T10:00:10.839826Z",
     "shell.execute_reply": "2021-11-14T10:00:10.841530Z"
    },
    "papermill": {
     "duration": 0.076164,
     "end_time": "2021-11-14T10:00:10.842034",
     "exception": false,
     "start_time": "2021-11-14T10:00:10.765870",
     "status": "completed"
    },
    "tags": []
   },
   "outputs": [
    {
     "data": {
      "text/html": [
       "<div>\n",
       "<style scoped>\n",
       "    .dataframe tbody tr th:only-of-type {\n",
       "        vertical-align: middle;\n",
       "    }\n",
       "\n",
       "    .dataframe tbody tr th {\n",
       "        vertical-align: top;\n",
       "    }\n",
       "\n",
       "    .dataframe thead th {\n",
       "        text-align: right;\n",
       "    }\n",
       "</style>\n",
       "<table border=\"1\" class=\"dataframe\">\n",
       "  <thead>\n",
       "    <tr style=\"text-align: right;\">\n",
       "      <th></th>\n",
       "      <th>RECORD_TIME</th>\n",
       "    </tr>\n",
       "  </thead>\n",
       "  <tbody>\n",
       "    <tr>\n",
       "      <th>0</th>\n",
       "      <td>2021-11-14 11:00</td>\n",
       "    </tr>\n",
       "    <tr>\n",
       "      <th>1</th>\n",
       "      <td>2021-11-14 10:30</td>\n",
       "    </tr>\n",
       "  </tbody>\n",
       "</table>\n",
       "</div>"
      ],
      "text/plain": [
       "        RECORD_TIME\n",
       "0  2021-11-14 11:00\n",
       "1  2021-11-14 10:30"
      ]
     },
     "execution_count": 3,
     "metadata": {},
     "output_type": "execute_result"
    }
   ],
   "source": [
    "timestamps"
   ]
  },
  {
   "cell_type": "code",
   "execution_count": 4,
   "id": "alternate-victory",
   "metadata": {
    "execution": {
     "iopub.execute_input": "2021-11-14T10:00:10.900810Z",
     "iopub.status.busy": "2021-11-14T10:00:10.898407Z",
     "iopub.status.idle": "2021-11-14T10:00:12.098484Z",
     "shell.execute_reply": "2021-11-14T10:00:12.099915Z"
    },
    "papermill": {
     "duration": 1.236736,
     "end_time": "2021-11-14T10:00:12.100390",
     "exception": false,
     "start_time": "2021-11-14T10:00:10.863654",
     "status": "completed"
    },
    "tags": []
   },
   "outputs": [],
   "source": [
    "df = pd.read_sql(\"select * from EBAY_TOP_BERLIN where record_time in (select distinct record_time from EBAY_TOP_BERLIN order by record_time desc limit 2)\", sqlite3.connect(\"UsedObjects.db\"))"
   ]
  },
  {
   "cell_type": "code",
   "execution_count": 5,
   "id": "popular-active",
   "metadata": {
    "execution": {
     "iopub.execute_input": "2021-11-14T10:00:12.173423Z",
     "iopub.status.busy": "2021-11-14T10:00:12.160938Z",
     "iopub.status.idle": "2021-11-14T10:00:12.192597Z",
     "shell.execute_reply": "2021-11-14T10:00:12.194032Z"
    },
    "papermill": {
     "duration": 0.073726,
     "end_time": "2021-11-14T10:00:12.194511",
     "exception": false,
     "start_time": "2021-11-14T10:00:12.120785",
     "status": "completed"
    },
    "tags": []
   },
   "outputs": [],
   "source": [
    "df_pivot = df.pivot_table(index=\"PRODUCT\", columns = \"RECORD_TIME\", values = \"LISTING_COUNT\")"
   ]
  },
  {
   "cell_type": "code",
   "execution_count": 6,
   "id": "union-huntington",
   "metadata": {
    "execution": {
     "iopub.execute_input": "2021-11-14T10:00:12.254837Z",
     "iopub.status.busy": "2021-11-14T10:00:12.252400Z",
     "iopub.status.idle": "2021-11-14T10:00:12.259199Z",
     "shell.execute_reply": "2021-11-14T10:00:12.260744Z"
    },
    "papermill": {
     "duration": 0.047005,
     "end_time": "2021-11-14T10:00:12.261252",
     "exception": false,
     "start_time": "2021-11-14T10:00:12.214247",
     "status": "completed"
    },
    "tags": []
   },
   "outputs": [],
   "source": [
    "df_pivot.columns = [\"stamp_1\", \"stamp_2\"]\n",
    "df_pivot_diff = df_pivot.diff(axis=1)"
   ]
  },
  {
   "cell_type": "code",
   "execution_count": 7,
   "id": "fifth-motion",
   "metadata": {
    "execution": {
     "iopub.execute_input": "2021-11-14T10:00:12.320799Z",
     "iopub.status.busy": "2021-11-14T10:00:12.318287Z",
     "iopub.status.idle": "2021-11-14T10:00:14.343142Z",
     "shell.execute_reply": "2021-11-14T10:00:14.344412Z"
    },
    "papermill": {
     "duration": 2.060247,
     "end_time": "2021-11-14T10:00:14.344903",
     "exception": false,
     "start_time": "2021-11-14T10:00:12.284656",
     "status": "completed"
    },
    "tags": []
   },
   "outputs": [
    {
     "data": {
      "text/plain": [
       "<AxesSubplot:ylabel='PRODUCT'>"
      ]
     },
     "execution_count": 7,
     "metadata": {},
     "output_type": "execute_result"
    },
    {
     "data": {
      "image/png": "[encoded data removed]",
      "text/plain": [
       "<Figure size 432x288 with 1 Axes>"
      ]
     },
     "metadata": {
      "needs_background": "light"
     },
     "output_type": "display_data"
    }
   ],
   "source": [
    "df_pivot_diff.sort_values(\"stamp_2\", ascending = False)[\"stamp_2\"].head(10).plot.barh()"
   ]
  },
  {
   "cell_type": "code",
   "execution_count": null,
   "id": "extra-executive",
   "metadata": {
    "papermill": {
     "duration": 0.022114,
     "end_time": "2021-11-14T10:00:14.391334",
     "exception": false,
     "start_time": "2021-11-14T10:00:14.369220",
     "status": "completed"
    },
    "tags": []
   },
   "outputs": [],
   "source": []
  }
 ],
 "metadata": {
  "kernelspec": {
   "display_name": "Python 3",
   "language": "python",
   "name": "python3"
  },
  "language_info": {
   "codemirror_mode": {
    "name": "ipython",
    "version": 3
   },
   "file_extension": ".py",
   "mimetype": "text/x-python",
   "name": "python",
   "nbconvert_exporter": "python",
   "pygments_lexer": "ipython3",
   "version": "3.9.5"
  },
  "papermill": {
   "default_parameters": {},
   "duration": 8.934633,
   "end_time": "2021-11-14T10:00:15.040597",
   "environment_variables": {},
   "exception": null,
   "input_path": "eBay_Overview.ipynb",
   "output_path": "eBay_Overview.ipynb",
   "parameters": {},
   "start_time": "2021-11-14T10:00:06.105964",
   "version": "2.3.3"
  }
 },
 "nbformat": 4,
 "nbformat_minor": 5
}