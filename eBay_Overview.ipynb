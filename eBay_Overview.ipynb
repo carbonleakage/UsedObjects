{
 "cells": [
  {
   "cell_type": "code",
   "execution_count": 1,
   "id": "reverse-picking",
   "metadata": {
    "execution": {
     "iopub.execute_input": "2021-09-23T13:30:07.646914Z",
     "iopub.status.busy": "2021-09-23T13:30:07.644937Z",
     "iopub.status.idle": "2021-09-23T13:30:08.450078Z",
     "shell.execute_reply": "2021-09-23T13:30:08.448462Z"
    },
    "papermill": {
     "duration": 0.855606,
     "end_time": "2021-09-23T13:30:08.450489",
     "exception": false,
     "start_time": "2021-09-23T13:30:07.594883",
     "status": "completed"
    },
    "tags": []
   },
   "outputs": [],
   "source": [
    "import pandas as pd\n",
    "import sqlite3"
   ]
  },
  {
   "cell_type": "code",
   "execution_count": 2,
   "id": "innovative-syndrome",
   "metadata": {
    "execution": {
     "iopub.execute_input": "2021-09-23T13:30:08.500955Z",
     "iopub.status.busy": "2021-09-23T13:30:08.499113Z",
     "iopub.status.idle": "2021-09-23T13:30:08.853437Z",
     "shell.execute_reply": "2021-09-23T13:30:08.854694Z"
    },
    "papermill": {
     "duration": 0.384188,
     "end_time": "2021-09-23T13:30:08.855156",
     "exception": false,
     "start_time": "2021-09-23T13:30:08.470968",
     "status": "completed"
    },
    "tags": []
   },
   "outputs": [],
   "source": [
    "timestamps = pd.read_sql(\"select distinct record_time from EBAY_TOP_BERLIN order by record_time desc limit 2\", sqlite3.connect(\"UsedObjects.db\"))"
   ]
  },
  {
   "cell_type": "code",
   "execution_count": 3,
   "id": "periodic-identification",
   "metadata": {
    "execution": {
     "iopub.execute_input": "2021-09-23T13:30:08.924968Z",
     "iopub.status.busy": "2021-09-23T13:30:08.919993Z",
     "iopub.status.idle": "2021-09-23T13:30:08.940896Z",
     "shell.execute_reply": "2021-09-23T13:30:08.942165Z"
    },
    "papermill": {
     "duration": 0.068099,
     "end_time": "2021-09-23T13:30:08.942570",
     "exception": false,
     "start_time": "2021-09-23T13:30:08.874471",
     "status": "completed"
    },
    "tags": []
   },
   "outputs": [
    {
     "data": {
      "text/html": [
       "<div>\n",
       "<style scoped>\n",
       "    .dataframe tbody tr th:only-of-type {\n",
       "        vertical-align: middle;\n",
       "    }\n",
       "\n",
       "    .dataframe tbody tr th {\n",
       "        vertical-align: top;\n",
       "    }\n",
       "\n",
       "    .dataframe thead th {\n",
       "        text-align: right;\n",
       "    }\n",
       "</style>\n",
       "<table border=\"1\" class=\"dataframe\">\n",
       "  <thead>\n",
       "    <tr style=\"text-align: right;\">\n",
       "      <th></th>\n",
       "      <th>RECORD_TIME</th>\n",
       "    </tr>\n",
       "  </thead>\n",
       "  <tbody>\n",
       "    <tr>\n",
       "      <th>0</th>\n",
       "      <td>2021-09-23 15:30</td>\n",
       "    </tr>\n",
       "    <tr>\n",
       "      <th>1</th>\n",
       "      <td>2021-09-23 15:00</td>\n",
       "    </tr>\n",
       "  </tbody>\n",
       "</table>\n",
       "</div>"
      ],
      "text/plain": [
       "        RECORD_TIME\n",
       "0  2021-09-23 15:30\n",
       "1  2021-09-23 15:00"
      ]
     },
     "execution_count": 3,
     "metadata": {},
     "output_type": "execute_result"
    }
   ],
   "source": [
    "timestamps"
   ]
  },
  {
   "cell_type": "code",
   "execution_count": 4,
   "id": "alternate-victory",
   "metadata": {
    "execution": {
     "iopub.execute_input": "2021-09-23T13:30:08.996158Z",
     "iopub.status.busy": "2021-09-23T13:30:08.993828Z",
     "iopub.status.idle": "2021-09-23T13:30:09.523692Z",
     "shell.execute_reply": "2021-09-23T13:30:09.524953Z"
    },
    "papermill": {
     "duration": 0.56043,
     "end_time": "2021-09-23T13:30:09.525341",
     "exception": false,
     "start_time": "2021-09-23T13:30:08.964911",
     "status": "completed"
    },
    "tags": []
   },
   "outputs": [],
   "source": [
    "df = pd.read_sql(\"select * from EBAY_TOP_BERLIN where record_time in (select distinct record_time from EBAY_TOP_BERLIN order by record_time desc limit 2)\", sqlite3.connect(\"UsedObjects.db\"))"
   ]
  },
  {
   "cell_type": "code",
   "execution_count": 5,
   "id": "popular-active",
   "metadata": {
    "execution": {
     "iopub.execute_input": "2021-09-23T13:30:09.606070Z",
     "iopub.status.busy": "2021-09-23T13:30:09.594089Z",
     "iopub.status.idle": "2021-09-23T13:30:09.622263Z",
     "shell.execute_reply": "2021-09-23T13:30:09.623676Z"
    },
    "papermill": {
     "duration": 0.072625,
     "end_time": "2021-09-23T13:30:09.624075",
     "exception": false,
     "start_time": "2021-09-23T13:30:09.551450",
     "status": "completed"
    },
    "tags": []
   },
   "outputs": [],
   "source": [
    "df_pivot = df.pivot_table(index=\"PRODUCT\", columns = \"RECORD_TIME\", values = \"LISTING_COUNT\")"
   ]
  },
  {
   "cell_type": "code",
   "execution_count": 6,
   "id": "union-huntington",
   "metadata": {
    "execution": {
     "iopub.execute_input": "2021-09-23T13:30:09.682272Z",
     "iopub.status.busy": "2021-09-23T13:30:09.680223Z",
     "iopub.status.idle": "2021-09-23T13:30:09.685611Z",
     "shell.execute_reply": "2021-09-23T13:30:09.686924Z"
    },
    "papermill": {
     "duration": 0.041481,
     "end_time": "2021-09-23T13:30:09.687333",
     "exception": false,
     "start_time": "2021-09-23T13:30:09.645852",
     "status": "completed"
    },
    "tags": []
   },
   "outputs": [],
   "source": [
    "df_pivot.columns = [\"stamp_1\", \"stamp_2\"]\n",
    "df_pivot_diff = df_pivot.diff(axis=1)"
   ]
  },
  {
   "cell_type": "code",
   "execution_count": 7,
   "id": "fifth-motion",
   "metadata": {
    "execution": {
     "iopub.execute_input": "2021-09-23T13:30:09.741860Z",
     "iopub.status.busy": "2021-09-23T13:30:09.739494Z",
     "iopub.status.idle": "2021-09-23T13:30:11.192345Z",
     "shell.execute_reply": "2021-09-23T13:30:11.193640Z"
    },
    "papermill": {
     "duration": 1.485865,
     "end_time": "2021-09-23T13:30:11.194053",
     "exception": false,
     "start_time": "2021-09-23T13:30:09.708188",
     "status": "completed"
    },
    "tags": []
   },
   "outputs": [
    {
     "data": {
      "text/plain": [
       "<AxesSubplot:ylabel='PRODUCT'>"
      ]
     },
     "execution_count": 7,
     "metadata": {},
     "output_type": "execute_result"
    },
    {
     "data": {
      "image/png": "[encoded data removed]",
      "text/plain": [
       "<Figure size 432x288 with 1 Axes>"
      ]
     },
     "metadata": {
      "needs_background": "light"
     },
     "output_type": "display_data"
    }
   ],
   "source": [
    "df_pivot_diff.sort_values(\"stamp_2\", ascending = False)[\"stamp_2\"].head(10).plot.barh()"
   ]
  },
  {
   "cell_type": "code",
   "execution_count": null,
   "id": "extra-executive",
   "metadata": {
    "papermill": {
     "duration": 0.022507,
     "end_time": "2021-09-23T13:30:11.241653",
     "exception": false,
     "start_time": "2021-09-23T13:30:11.219146",
     "status": "completed"
    },
    "tags": []
   },
   "outputs": [],
   "source": []
  }
 ],
 "metadata": {
  "kernelspec": {
   "display_name": "Python 3",
   "language": "python",
   "name": "python3"
  },
  "language_info": {
   "codemirror_mode": {
    "name": "ipython",
    "version": 3
   },
   "file_extension": ".py",
   "mimetype": "text/x-python",
   "name": "python",
   "nbconvert_exporter": "python",
   "pygments_lexer": "ipython3",
   "version": "3.9.5"
  },
  "papermill": {
   "default_parameters": {},
   "duration": 6.689021,
   "end_time": "2021-09-23T13:30:11.885131",
   "environment_variables": {},
   "exception": null,
   "input_path": "eBay_Overview.ipynb",
   "output_path": "eBay_Overview.ipynb",
   "parameters": {},
   "start_time": "2021-09-23T13:30:05.196110",
   "version": "2.3.3"
  }
 },
 "nbformat": 4,
 "nbformat_minor": 5
}