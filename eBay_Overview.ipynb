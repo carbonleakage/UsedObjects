{
 "cells": [
  {
   "cell_type": "code",
   "execution_count": 1,
   "id": "reverse-picking",
   "metadata": {
    "execution": {
     "iopub.execute_input": "2021-08-30T05:00:06.698235Z",
     "iopub.status.busy": "2021-08-30T05:00:06.696126Z",
     "iopub.status.idle": "2021-08-30T05:00:07.501405Z",
     "shell.execute_reply": "2021-08-30T05:00:07.502674Z"
    },
    "papermill": {
     "duration": 0.856348,
     "end_time": "2021-08-30T05:00:07.503278",
     "exception": false,
     "start_time": "2021-08-30T05:00:06.646930",
     "status": "completed"
    },
    "tags": []
   },
   "outputs": [],
   "source": [
    "import pandas as pd\n",
    "import sqlite3"
   ]
  },
  {
   "cell_type": "code",
   "execution_count": 2,
   "id": "innovative-syndrome",
   "metadata": {
    "execution": {
     "iopub.execute_input": "2021-08-30T05:00:07.556319Z",
     "iopub.status.busy": "2021-08-30T05:00:07.553941Z",
     "iopub.status.idle": "2021-08-30T05:00:07.720537Z",
     "shell.execute_reply": "2021-08-30T05:00:07.721917Z"
    },
    "papermill": {
     "duration": 0.196817,
     "end_time": "2021-08-30T05:00:07.722354",
     "exception": false,
     "start_time": "2021-08-30T05:00:07.525537",
     "status": "completed"
    },
    "tags": []
   },
   "outputs": [],
   "source": [
    "timestamps = pd.read_sql(\"select distinct record_time from EBAY_TOP_BERLIN order by record_time desc limit 2\", sqlite3.connect(\"UsedObjects.db\"))"
   ]
  },
  {
   "cell_type": "code",
   "execution_count": 3,
   "id": "periodic-identification",
   "metadata": {
    "execution": {
     "iopub.execute_input": "2021-08-30T05:00:07.788964Z",
     "iopub.status.busy": "2021-08-30T05:00:07.786871Z",
     "iopub.status.idle": "2021-08-30T05:00:07.807054Z",
     "shell.execute_reply": "2021-08-30T05:00:07.808490Z"
    },
    "papermill": {
     "duration": 0.06676,
     "end_time": "2021-08-30T05:00:07.808968",
     "exception": false,
     "start_time": "2021-08-30T05:00:07.742208",
     "status": "completed"
    },
    "tags": []
   },
   "outputs": [
    {
     "data": {
      "text/html": [
       "<div>\n",
       "<style scoped>\n",
       "    .dataframe tbody tr th:only-of-type {\n",
       "        vertical-align: middle;\n",
       "    }\n",
       "\n",
       "    .dataframe tbody tr th {\n",
       "        vertical-align: top;\n",
       "    }\n",
       "\n",
       "    .dataframe thead th {\n",
       "        text-align: right;\n",
       "    }\n",
       "</style>\n",
       "<table border=\"1\" class=\"dataframe\">\n",
       "  <thead>\n",
       "    <tr style=\"text-align: right;\">\n",
       "      <th></th>\n",
       "      <th>RECORD_TIME</th>\n",
       "    </tr>\n",
       "  </thead>\n",
       "  <tbody>\n",
       "    <tr>\n",
       "      <th>0</th>\n",
       "      <td>2021-08-30 07:00</td>\n",
       "    </tr>\n",
       "    <tr>\n",
       "      <th>1</th>\n",
       "      <td>2021-08-30 06:30</td>\n",
       "    </tr>\n",
       "  </tbody>\n",
       "</table>\n",
       "</div>"
      ],
      "text/plain": [
       "        RECORD_TIME\n",
       "0  2021-08-30 07:00\n",
       "1  2021-08-30 06:30"
      ]
     },
     "execution_count": 3,
     "metadata": {},
     "output_type": "execute_result"
    }
   ],
   "source": [
    "timestamps"
   ]
  },
  {
   "cell_type": "code",
   "execution_count": 4,
   "id": "alternate-victory",
   "metadata": {
    "execution": {
     "iopub.execute_input": "2021-08-30T05:00:07.861930Z",
     "iopub.status.busy": "2021-08-30T05:00:07.859978Z",
     "iopub.status.idle": "2021-08-30T05:00:08.105491Z",
     "shell.execute_reply": "2021-08-30T05:00:08.106874Z"
    },
    "papermill": {
     "duration": 0.275631,
     "end_time": "2021-08-30T05:00:08.107305",
     "exception": false,
     "start_time": "2021-08-30T05:00:07.831674",
     "status": "completed"
    },
    "tags": []
   },
   "outputs": [],
   "source": [
    "df = pd.read_sql(\"select * from EBAY_TOP_BERLIN where record_time in (select distinct record_time from EBAY_TOP_BERLIN order by record_time desc limit 2)\", sqlite3.connect(\"UsedObjects.db\"))"
   ]
  },
  {
   "cell_type": "code",
   "execution_count": 5,
   "id": "popular-active",
   "metadata": {
    "execution": {
     "iopub.execute_input": "2021-08-30T05:00:08.177264Z",
     "iopub.status.busy": "2021-08-30T05:00:08.165893Z",
     "iopub.status.idle": "2021-08-30T05:00:08.194429Z",
     "shell.execute_reply": "2021-08-30T05:00:08.195630Z"
    },
    "papermill": {
     "duration": 0.068302,
     "end_time": "2021-08-30T05:00:08.196021",
     "exception": false,
     "start_time": "2021-08-30T05:00:08.127719",
     "status": "completed"
    },
    "tags": []
   },
   "outputs": [],
   "source": [
    "df_pivot = df.pivot_table(index=\"PRODUCT\", columns = \"RECORD_TIME\", values = \"LISTING_COUNT\")"
   ]
  },
  {
   "cell_type": "code",
   "execution_count": 6,
   "id": "union-huntington",
   "metadata": {
    "execution": {
     "iopub.execute_input": "2021-08-30T05:00:08.254589Z",
     "iopub.status.busy": "2021-08-30T05:00:08.252120Z",
     "iopub.status.idle": "2021-08-30T05:00:08.258279Z",
     "shell.execute_reply": "2021-08-30T05:00:08.259721Z"
    },
    "papermill": {
     "duration": 0.041998,
     "end_time": "2021-08-30T05:00:08.260176",
     "exception": false,
     "start_time": "2021-08-30T05:00:08.218178",
     "status": "completed"
    },
    "tags": []
   },
   "outputs": [],
   "source": [
    "df_pivot.columns = [\"stamp_1\", \"stamp_2\"]\n",
    "df_pivot_diff = df_pivot.diff(axis=1)"
   ]
  },
  {
   "cell_type": "code",
   "execution_count": 7,
   "id": "fifth-motion",
   "metadata": {
    "execution": {
     "iopub.execute_input": "2021-08-30T05:00:08.315003Z",
     "iopub.status.busy": "2021-08-30T05:00:08.312726Z",
     "iopub.status.idle": "2021-08-30T05:00:09.800773Z",
     "shell.execute_reply": "2021-08-30T05:00:09.802064Z"
    },
    "papermill": {
     "duration": 1.521028,
     "end_time": "2021-08-30T05:00:09.802474",
     "exception": false,
     "start_time": "2021-08-30T05:00:08.281446",
     "status": "completed"
    },
    "tags": []
   },
   "outputs": [
    {
     "data": {
      "text/plain": [
       "<AxesSubplot:ylabel='PRODUCT'>"
      ]
     },
     "execution_count": 7,
     "metadata": {},
     "output_type": "execute_result"
    },
    {
     "data": {
      "image/png": "[encoded data removed]",
      "text/plain": [
       "<Figure size 432x288 with 1 Axes>"
      ]
     },
     "metadata": {
      "needs_background": "light"
     },
     "output_type": "display_data"
    }
   ],
   "source": [
    "df_pivot_diff.sort_values(\"stamp_2\", ascending = False)[\"stamp_2\"].head(10).plot.barh()"
   ]
  },
  {
   "cell_type": "code",
   "execution_count": null,
   "id": "extra-executive",
   "metadata": {
    "papermill": {
     "duration": 0.022137,
     "end_time": "2021-08-30T05:00:09.849111",
     "exception": false,
     "start_time": "2021-08-30T05:00:09.826974",
     "status": "completed"
    },
    "tags": []
   },
   "outputs": [],
   "source": []
  }
 ],
 "metadata": {
  "kernelspec": {
   "display_name": "Python 3",
   "language": "python",
   "name": "python3"
  },
  "language_info": {
   "codemirror_mode": {
    "name": "ipython",
    "version": 3
   },
   "file_extension": ".py",
   "mimetype": "text/x-python",
   "name": "python",
   "nbconvert_exporter": "python",
   "pygments_lexer": "ipython3",
   "version": "3.9.5"
  },
  "papermill": {
   "default_parameters": {},
   "duration": 6.81727,
   "end_time": "2021-08-30T05:00:11.070767",
   "environment_variables": {},
   "exception": null,
   "input_path": "eBay_Overview.ipynb",
   "output_path": "eBay_Overview.ipynb",
   "parameters": {},
   "start_time": "2021-08-30T05:00:04.253497",
   "version": "2.3.3"
  }
 },
 "nbformat": 4,
 "nbformat_minor": 5
}