{
 "cells": [
  {
   "cell_type": "code",
   "execution_count": 1,
   "id": "reverse-picking",
   "metadata": {
    "execution": {
     "iopub.execute_input": "2021-09-27T14:30:07.225675Z",
     "iopub.status.busy": "2021-09-27T14:30:07.223697Z",
     "iopub.status.idle": "2021-09-27T14:30:08.028436Z",
     "shell.execute_reply": "2021-09-27T14:30:08.029685Z"
    },
    "papermill": {
     "duration": 0.855309,
     "end_time": "2021-09-27T14:30:08.030291",
     "exception": false,
     "start_time": "2021-09-27T14:30:07.174982",
     "status": "completed"
    },
    "tags": []
   },
   "outputs": [],
   "source": [
    "import pandas as pd\n",
    "import sqlite3"
   ]
  },
  {
   "cell_type": "code",
   "execution_count": 2,
   "id": "innovative-syndrome",
   "metadata": {
    "execution": {
     "iopub.execute_input": "2021-09-27T14:30:08.081538Z",
     "iopub.status.busy": "2021-09-27T14:30:08.079664Z",
     "iopub.status.idle": "2021-09-27T14:30:08.495015Z",
     "shell.execute_reply": "2021-09-27T14:30:08.496375Z"
    },
    "papermill": {
     "duration": 0.444926,
     "end_time": "2021-09-27T14:30:08.496789",
     "exception": false,
     "start_time": "2021-09-27T14:30:08.051863",
     "status": "completed"
    },
    "tags": []
   },
   "outputs": [],
   "source": [
    "timestamps = pd.read_sql(\"select distinct record_time from EBAY_TOP_BERLIN order by record_time desc limit 2\", sqlite3.connect(\"UsedObjects.db\"))"
   ]
  },
  {
   "cell_type": "code",
   "execution_count": 3,
   "id": "periodic-identification",
   "metadata": {
    "execution": {
     "iopub.execute_input": "2021-09-27T14:30:08.561238Z",
     "iopub.status.busy": "2021-09-27T14:30:08.559200Z",
     "iopub.status.idle": "2021-09-27T14:30:08.579228Z",
     "shell.execute_reply": "2021-09-27T14:30:08.580361Z"
    },
    "papermill": {
     "duration": 0.064769,
     "end_time": "2021-09-27T14:30:08.580767",
     "exception": false,
     "start_time": "2021-09-27T14:30:08.515998",
     "status": "completed"
    },
    "tags": []
   },
   "outputs": [
    {
     "data": {
      "text/html": [
       "<div>\n",
       "<style scoped>\n",
       "    .dataframe tbody tr th:only-of-type {\n",
       "        vertical-align: middle;\n",
       "    }\n",
       "\n",
       "    .dataframe tbody tr th {\n",
       "        vertical-align: top;\n",
       "    }\n",
       "\n",
       "    .dataframe thead th {\n",
       "        text-align: right;\n",
       "    }\n",
       "</style>\n",
       "<table border=\"1\" class=\"dataframe\">\n",
       "  <thead>\n",
       "    <tr style=\"text-align: right;\">\n",
       "      <th></th>\n",
       "      <th>RECORD_TIME</th>\n",
       "    </tr>\n",
       "  </thead>\n",
       "  <tbody>\n",
       "    <tr>\n",
       "      <th>0</th>\n",
       "      <td>2021-09-27 16:30</td>\n",
       "    </tr>\n",
       "    <tr>\n",
       "      <th>1</th>\n",
       "      <td>2021-09-27 16:00</td>\n",
       "    </tr>\n",
       "  </tbody>\n",
       "</table>\n",
       "</div>"
      ],
      "text/plain": [
       "        RECORD_TIME\n",
       "0  2021-09-27 16:30\n",
       "1  2021-09-27 16:00"
      ]
     },
     "execution_count": 3,
     "metadata": {},
     "output_type": "execute_result"
    }
   ],
   "source": [
    "timestamps"
   ]
  },
  {
   "cell_type": "code",
   "execution_count": 4,
   "id": "alternate-victory",
   "metadata": {
    "execution": {
     "iopub.execute_input": "2021-09-27T14:30:08.634517Z",
     "iopub.status.busy": "2021-09-27T14:30:08.632487Z",
     "iopub.status.idle": "2021-09-27T14:30:09.227178Z",
     "shell.execute_reply": "2021-09-27T14:30:09.228615Z"
    },
    "papermill": {
     "duration": 0.625478,
     "end_time": "2021-09-27T14:30:09.229056",
     "exception": false,
     "start_time": "2021-09-27T14:30:08.603578",
     "status": "completed"
    },
    "tags": []
   },
   "outputs": [],
   "source": [
    "df = pd.read_sql(\"select * from EBAY_TOP_BERLIN where record_time in (select distinct record_time from EBAY_TOP_BERLIN order by record_time desc limit 2)\", sqlite3.connect(\"UsedObjects.db\"))"
   ]
  },
  {
   "cell_type": "code",
   "execution_count": 5,
   "id": "popular-active",
   "metadata": {
    "execution": {
     "iopub.execute_input": "2021-09-27T14:30:09.308280Z",
     "iopub.status.busy": "2021-09-27T14:30:09.298179Z",
     "iopub.status.idle": "2021-09-27T14:30:09.324756Z",
     "shell.execute_reply": "2021-09-27T14:30:09.325965Z"
    },
    "papermill": {
     "duration": 0.071001,
     "end_time": "2021-09-27T14:30:09.326357",
     "exception": false,
     "start_time": "2021-09-27T14:30:09.255356",
     "status": "completed"
    },
    "tags": []
   },
   "outputs": [],
   "source": [
    "df_pivot = df.pivot_table(index=\"PRODUCT\", columns = \"RECORD_TIME\", values = \"LISTING_COUNT\")"
   ]
  },
  {
   "cell_type": "code",
   "execution_count": 6,
   "id": "union-huntington",
   "metadata": {
    "execution": {
     "iopub.execute_input": "2021-09-27T14:30:09.382548Z",
     "iopub.status.busy": "2021-09-27T14:30:09.380468Z",
     "iopub.status.idle": "2021-09-27T14:30:09.385704Z",
     "shell.execute_reply": "2021-09-27T14:30:09.387103Z"
    },
    "papermill": {
     "duration": 0.040463,
     "end_time": "2021-09-27T14:30:09.387541",
     "exception": false,
     "start_time": "2021-09-27T14:30:09.347078",
     "status": "completed"
    },
    "tags": []
   },
   "outputs": [],
   "source": [
    "df_pivot.columns = [\"stamp_1\", \"stamp_2\"]\n",
    "df_pivot_diff = df_pivot.diff(axis=1)"
   ]
  },
  {
   "cell_type": "code",
   "execution_count": 7,
   "id": "fifth-motion",
   "metadata": {
    "execution": {
     "iopub.execute_input": "2021-09-27T14:30:09.442392Z",
     "iopub.status.busy": "2021-09-27T14:30:09.439731Z",
     "iopub.status.idle": "2021-09-27T14:30:10.959037Z",
     "shell.execute_reply": "2021-09-27T14:30:10.960427Z"
    },
    "papermill": {
     "duration": 1.553079,
     "end_time": "2021-09-27T14:30:10.960868",
     "exception": false,
     "start_time": "2021-09-27T14:30:09.407789",
     "status": "completed"
    },
    "tags": []
   },
   "outputs": [
    {
     "data": {
      "text/plain": [
       "<AxesSubplot:ylabel='PRODUCT'>"
      ]
     },
     "execution_count": 7,
     "metadata": {},
     "output_type": "execute_result"
    },
    {
     "data": {
      "image/png": "[encoded data removed]",
      "text/plain": [
       "<Figure size 432x288 with 1 Axes>"
      ]
     },
     "metadata": {
      "needs_background": "light"
     },
     "output_type": "display_data"
    }
   ],
   "source": [
    "df_pivot_diff.sort_values(\"stamp_2\", ascending = False)[\"stamp_2\"].head(10).plot.barh()"
   ]
  },
  {
   "cell_type": "code",
   "execution_count": null,
   "id": "extra-executive",
   "metadata": {
    "papermill": {
     "duration": 0.022249,
     "end_time": "2021-09-27T14:30:11.007846",
     "exception": false,
     "start_time": "2021-09-27T14:30:10.985597",
     "status": "completed"
    },
    "tags": []
   },
   "outputs": [],
   "source": []
  }
 ],
 "metadata": {
  "kernelspec": {
   "display_name": "Python 3",
   "language": "python",
   "name": "python3"
  },
  "language_info": {
   "codemirror_mode": {
    "name": "ipython",
    "version": 3
   },
   "file_extension": ".py",
   "mimetype": "text/x-python",
   "name": "python",
   "nbconvert_exporter": "python",
   "pygments_lexer": "ipython3",
   "version": "3.9.5"
  },
  "papermill": {
   "default_parameters": {},
   "duration": 7.837399,
   "end_time": "2021-09-27T14:30:12.603339",
   "environment_variables": {},
   "exception": null,
   "input_path": "eBay_Overview.ipynb",
   "output_path": "eBay_Overview.ipynb",
   "parameters": {},
   "start_time": "2021-09-27T14:30:04.765940",
   "version": "2.3.3"
  }
 },
 "nbformat": 4,
 "nbformat_minor": 5
}