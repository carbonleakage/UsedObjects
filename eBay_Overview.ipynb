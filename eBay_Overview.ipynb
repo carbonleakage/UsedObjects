{
 "cells": [
  {
   "cell_type": "code",
   "execution_count": 1,
   "id": "reverse-picking",
   "metadata": {
    "execution": {
     "iopub.execute_input": "2021-08-27T18:00:06.769448Z",
     "iopub.status.busy": "2021-08-27T18:00:06.767470Z",
     "iopub.status.idle": "2021-08-27T18:00:07.569988Z",
     "shell.execute_reply": "2021-08-27T18:00:07.571222Z"
    },
    "papermill": {
     "duration": 0.852356,
     "end_time": "2021-08-27T18:00:07.571845",
     "exception": false,
     "start_time": "2021-08-27T18:00:06.719489",
     "status": "completed"
    },
    "tags": []
   },
   "outputs": [],
   "source": [
    "import pandas as pd\n",
    "import sqlite3"
   ]
  },
  {
   "cell_type": "code",
   "execution_count": 2,
   "id": "innovative-syndrome",
   "metadata": {
    "execution": {
     "iopub.execute_input": "2021-08-27T18:00:07.621227Z",
     "iopub.status.busy": "2021-08-27T18:00:07.619288Z",
     "iopub.status.idle": "2021-08-27T18:00:07.761392Z",
     "shell.execute_reply": "2021-08-27T18:00:07.762597Z"
    },
    "papermill": {
     "duration": 0.171219,
     "end_time": "2021-08-27T18:00:07.762986",
     "exception": false,
     "start_time": "2021-08-27T18:00:07.591767",
     "status": "completed"
    },
    "tags": []
   },
   "outputs": [],
   "source": [
    "timestamps = pd.read_sql(\"select distinct record_time from EBAY_TOP_BERLIN order by record_time desc limit 2\", sqlite3.connect(\"UsedObjects.db\"))"
   ]
  },
  {
   "cell_type": "code",
   "execution_count": 3,
   "id": "periodic-identification",
   "metadata": {
    "execution": {
     "iopub.execute_input": "2021-08-27T18:00:07.826160Z",
     "iopub.status.busy": "2021-08-27T18:00:07.824083Z",
     "iopub.status.idle": "2021-08-27T18:00:07.844105Z",
     "shell.execute_reply": "2021-08-27T18:00:07.845287Z"
    },
    "papermill": {
     "duration": 0.063621,
     "end_time": "2021-08-27T18:00:07.845691",
     "exception": false,
     "start_time": "2021-08-27T18:00:07.782070",
     "status": "completed"
    },
    "tags": []
   },
   "outputs": [
    {
     "data": {
      "text/html": [
       "<div>\n",
       "<style scoped>\n",
       "    .dataframe tbody tr th:only-of-type {\n",
       "        vertical-align: middle;\n",
       "    }\n",
       "\n",
       "    .dataframe tbody tr th {\n",
       "        vertical-align: top;\n",
       "    }\n",
       "\n",
       "    .dataframe thead th {\n",
       "        text-align: right;\n",
       "    }\n",
       "</style>\n",
       "<table border=\"1\" class=\"dataframe\">\n",
       "  <thead>\n",
       "    <tr style=\"text-align: right;\">\n",
       "      <th></th>\n",
       "      <th>RECORD_TIME</th>\n",
       "    </tr>\n",
       "  </thead>\n",
       "  <tbody>\n",
       "    <tr>\n",
       "      <th>0</th>\n",
       "      <td>2021-08-27 20:00</td>\n",
       "    </tr>\n",
       "    <tr>\n",
       "      <th>1</th>\n",
       "      <td>2021-08-27 19:30</td>\n",
       "    </tr>\n",
       "  </tbody>\n",
       "</table>\n",
       "</div>"
      ],
      "text/plain": [
       "        RECORD_TIME\n",
       "0  2021-08-27 20:00\n",
       "1  2021-08-27 19:30"
      ]
     },
     "execution_count": 3,
     "metadata": {},
     "output_type": "execute_result"
    }
   ],
   "source": [
    "timestamps"
   ]
  },
  {
   "cell_type": "code",
   "execution_count": 4,
   "id": "alternate-victory",
   "metadata": {
    "execution": {
     "iopub.execute_input": "2021-08-27T18:00:07.898289Z",
     "iopub.status.busy": "2021-08-27T18:00:07.896052Z",
     "iopub.status.idle": "2021-08-27T18:00:08.112631Z",
     "shell.execute_reply": "2021-08-27T18:00:08.114154Z"
    },
    "papermill": {
     "duration": 0.246563,
     "end_time": "2021-08-27T18:00:08.114601",
     "exception": false,
     "start_time": "2021-08-27T18:00:07.868038",
     "status": "completed"
    },
    "tags": []
   },
   "outputs": [],
   "source": [
    "df = pd.read_sql(\"select * from EBAY_TOP_BERLIN where record_time in (select distinct record_time from EBAY_TOP_BERLIN order by record_time desc limit 2)\", sqlite3.connect(\"UsedObjects.db\"))"
   ]
  },
  {
   "cell_type": "code",
   "execution_count": 5,
   "id": "popular-active",
   "metadata": {
    "execution": {
     "iopub.execute_input": "2021-08-27T18:00:08.181258Z",
     "iopub.status.busy": "2021-08-27T18:00:08.173897Z",
     "iopub.status.idle": "2021-08-27T18:00:08.201836Z",
     "shell.execute_reply": "2021-08-27T18:00:08.203050Z"
    },
    "papermill": {
     "duration": 0.068049,
     "end_time": "2021-08-27T18:00:08.203441",
     "exception": false,
     "start_time": "2021-08-27T18:00:08.135392",
     "status": "completed"
    },
    "tags": []
   },
   "outputs": [],
   "source": [
    "df_pivot = df.pivot_table(index=\"PRODUCT\", columns = \"RECORD_TIME\", values = \"LISTING_COUNT\")"
   ]
  },
  {
   "cell_type": "code",
   "execution_count": 6,
   "id": "union-huntington",
   "metadata": {
    "execution": {
     "iopub.execute_input": "2021-08-27T18:00:08.269347Z",
     "iopub.status.busy": "2021-08-27T18:00:08.267145Z",
     "iopub.status.idle": "2021-08-27T18:00:08.272742Z",
     "shell.execute_reply": "2021-08-27T18:00:08.274273Z"
    },
    "papermill": {
     "duration": 0.044155,
     "end_time": "2021-08-27T18:00:08.274743",
     "exception": false,
     "start_time": "2021-08-27T18:00:08.230588",
     "status": "completed"
    },
    "tags": []
   },
   "outputs": [],
   "source": [
    "df_pivot.columns = [\"stamp_1\", \"stamp_2\"]\n",
    "df_pivot_diff = df_pivot.diff(axis=1)"
   ]
  },
  {
   "cell_type": "code",
   "execution_count": 7,
   "id": "fifth-motion",
   "metadata": {
    "execution": {
     "iopub.execute_input": "2021-08-27T18:00:08.328872Z",
     "iopub.status.busy": "2021-08-27T18:00:08.326492Z",
     "iopub.status.idle": "2021-08-27T18:00:09.800044Z",
     "shell.execute_reply": "2021-08-27T18:00:09.801622Z"
    },
    "papermill": {
     "duration": 1.506034,
     "end_time": "2021-08-27T18:00:09.802093",
     "exception": false,
     "start_time": "2021-08-27T18:00:08.296059",
     "status": "completed"
    },
    "tags": []
   },
   "outputs": [
    {
     "data": {
      "text/plain": [
       "<AxesSubplot:ylabel='PRODUCT'>"
      ]
     },
     "execution_count": 7,
     "metadata": {},
     "output_type": "execute_result"
    },
    {
     "data": {
      "image/png": "[encoded data removed]",
      "text/plain": [
       "<Figure size 432x288 with 1 Axes>"
      ]
     },
     "metadata": {
      "needs_background": "light"
     },
     "output_type": "display_data"
    }
   ],
   "source": [
    "df_pivot_diff.sort_values(\"stamp_2\", ascending = False)[\"stamp_2\"].head(10).plot.barh()"
   ]
  },
  {
   "cell_type": "code",
   "execution_count": null,
   "id": "extra-executive",
   "metadata": {
    "papermill": {
     "duration": 0.022037,
     "end_time": "2021-08-27T18:00:09.848484",
     "exception": false,
     "start_time": "2021-08-27T18:00:09.826447",
     "status": "completed"
    },
    "tags": []
   },
   "outputs": [],
   "source": []
  }
 ],
 "metadata": {
  "kernelspec": {
   "display_name": "Python 3",
   "language": "python",
   "name": "python3"
  },
  "language_info": {
   "codemirror_mode": {
    "name": "ipython",
    "version": 3
   },
   "file_extension": ".py",
   "mimetype": "text/x-python",
   "name": "python",
   "nbconvert_exporter": "python",
   "pygments_lexer": "ipython3",
   "version": "3.9.5"
  },
  "papermill": {
   "default_parameters": {},
   "duration": 6.828418,
   "end_time": "2021-08-27T18:00:11.152791",
   "environment_variables": {},
   "exception": null,
   "input_path": "eBay_Overview.ipynb",
   "output_path": "eBay_Overview.ipynb",
   "parameters": {},
   "start_time": "2021-08-27T18:00:04.324373",
   "version": "2.3.3"
  }
 },
 "nbformat": 4,
 "nbformat_minor": 5
}