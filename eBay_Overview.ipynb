{
 "cells": [
  {
   "cell_type": "code",
   "execution_count": 1,
   "id": "reverse-picking",
   "metadata": {
    "execution": {
     "iopub.execute_input": "2021-08-14T17:00:07.151129Z",
     "iopub.status.busy": "2021-08-14T17:00:07.149087Z",
     "iopub.status.idle": "2021-08-14T17:00:07.958910Z",
     "shell.execute_reply": "2021-08-14T17:00:07.960198Z"
    },
    "papermill": {
     "duration": 0.859116,
     "end_time": "2021-08-14T17:00:07.960819",
     "exception": false,
     "start_time": "2021-08-14T17:00:07.101703",
     "status": "completed"
    },
    "tags": []
   },
   "outputs": [],
   "source": [
    "import pandas as pd\n",
    "import sqlite3"
   ]
  },
  {
   "cell_type": "code",
   "execution_count": 2,
   "id": "innovative-syndrome",
   "metadata": {
    "execution": {
     "iopub.execute_input": "2021-08-14T17:00:08.011549Z",
     "iopub.status.busy": "2021-08-14T17:00:08.009562Z",
     "iopub.status.idle": "2021-08-14T17:00:08.058417Z",
     "shell.execute_reply": "2021-08-14T17:00:08.059646Z"
    },
    "papermill": {
     "duration": 0.077967,
     "end_time": "2021-08-14T17:00:08.060050",
     "exception": false,
     "start_time": "2021-08-14T17:00:07.982083",
     "status": "completed"
    },
    "tags": []
   },
   "outputs": [],
   "source": [
    "timestamps = pd.read_sql(\"select distinct record_time from EBAY_TOP_BERLIN order by record_time desc limit 2\", sqlite3.connect(\"UsedObjects.db\"))"
   ]
  },
  {
   "cell_type": "code",
   "execution_count": 3,
   "id": "periodic-identification",
   "metadata": {
    "execution": {
     "iopub.execute_input": "2021-08-14T17:00:08.128182Z",
     "iopub.status.busy": "2021-08-14T17:00:08.126127Z",
     "iopub.status.idle": "2021-08-14T17:00:08.146557Z",
     "shell.execute_reply": "2021-08-14T17:00:08.147958Z"
    },
    "papermill": {
     "duration": 0.06596,
     "end_time": "2021-08-14T17:00:08.148397",
     "exception": false,
     "start_time": "2021-08-14T17:00:08.082437",
     "status": "completed"
    },
    "tags": []
   },
   "outputs": [
    {
     "data": {
      "text/html": [
       "<div>\n",
       "<style scoped>\n",
       "    .dataframe tbody tr th:only-of-type {\n",
       "        vertical-align: middle;\n",
       "    }\n",
       "\n",
       "    .dataframe tbody tr th {\n",
       "        vertical-align: top;\n",
       "    }\n",
       "\n",
       "    .dataframe thead th {\n",
       "        text-align: right;\n",
       "    }\n",
       "</style>\n",
       "<table border=\"1\" class=\"dataframe\">\n",
       "  <thead>\n",
       "    <tr style=\"text-align: right;\">\n",
       "      <th></th>\n",
       "      <th>RECORD_TIME</th>\n",
       "    </tr>\n",
       "  </thead>\n",
       "  <tbody>\n",
       "    <tr>\n",
       "      <th>0</th>\n",
       "      <td>2021-08-14 19:00</td>\n",
       "    </tr>\n",
       "    <tr>\n",
       "      <th>1</th>\n",
       "      <td>2021-08-14 18:30</td>\n",
       "    </tr>\n",
       "  </tbody>\n",
       "</table>\n",
       "</div>"
      ],
      "text/plain": [
       "        RECORD_TIME\n",
       "0  2021-08-14 19:00\n",
       "1  2021-08-14 18:30"
      ]
     },
     "execution_count": 3,
     "metadata": {},
     "output_type": "execute_result"
    }
   ],
   "source": [
    "timestamps"
   ]
  },
  {
   "cell_type": "code",
   "execution_count": 4,
   "id": "alternate-victory",
   "metadata": {
    "execution": {
     "iopub.execute_input": "2021-08-14T17:00:08.199515Z",
     "iopub.status.busy": "2021-08-14T17:00:08.197508Z",
     "iopub.status.idle": "2021-08-14T17:00:08.267533Z",
     "shell.execute_reply": "2021-08-14T17:00:08.268754Z"
    },
    "papermill": {
     "duration": 0.099806,
     "end_time": "2021-08-14T17:00:08.269155",
     "exception": false,
     "start_time": "2021-08-14T17:00:08.169349",
     "status": "completed"
    },
    "tags": []
   },
   "outputs": [],
   "source": [
    "df = pd.read_sql(\"select * from EBAY_TOP_BERLIN where record_time in (select distinct record_time from EBAY_TOP_BERLIN order by record_time desc limit 2)\", sqlite3.connect(\"UsedObjects.db\"))"
   ]
  },
  {
   "cell_type": "code",
   "execution_count": 5,
   "id": "popular-active",
   "metadata": {
    "execution": {
     "iopub.execute_input": "2021-08-14T17:00:08.341715Z",
     "iopub.status.busy": "2021-08-14T17:00:08.327923Z",
     "iopub.status.idle": "2021-08-14T17:00:08.358063Z",
     "shell.execute_reply": "2021-08-14T17:00:08.359380Z"
    },
    "papermill": {
     "duration": 0.068915,
     "end_time": "2021-08-14T17:00:08.359804",
     "exception": false,
     "start_time": "2021-08-14T17:00:08.290889",
     "status": "completed"
    },
    "tags": []
   },
   "outputs": [],
   "source": [
    "df_pivot = df.pivot_table(index=\"PRODUCT\", columns = \"RECORD_TIME\", values = \"LISTING_COUNT\")"
   ]
  },
  {
   "cell_type": "code",
   "execution_count": 6,
   "id": "union-huntington",
   "metadata": {
    "execution": {
     "iopub.execute_input": "2021-08-14T17:00:08.416545Z",
     "iopub.status.busy": "2021-08-14T17:00:08.414441Z",
     "iopub.status.idle": "2021-08-14T17:00:08.419643Z",
     "shell.execute_reply": "2021-08-14T17:00:08.420949Z"
    },
    "papermill": {
     "duration": 0.039985,
     "end_time": "2021-08-14T17:00:08.421376",
     "exception": false,
     "start_time": "2021-08-14T17:00:08.381391",
     "status": "completed"
    },
    "tags": []
   },
   "outputs": [],
   "source": [
    "df_pivot.columns = [\"stamp_1\", \"stamp_2\"]\n",
    "df_pivot_diff = df_pivot.diff(axis=1)"
   ]
  },
  {
   "cell_type": "code",
   "execution_count": 7,
   "id": "fifth-motion",
   "metadata": {
    "execution": {
     "iopub.execute_input": "2021-08-14T17:00:08.479311Z",
     "iopub.status.busy": "2021-08-14T17:00:08.476536Z",
     "iopub.status.idle": "2021-08-14T17:00:09.994796Z",
     "shell.execute_reply": "2021-08-14T17:00:09.996194Z"
    },
    "papermill": {
     "duration": 1.551904,
     "end_time": "2021-08-14T17:00:09.996643",
     "exception": false,
     "start_time": "2021-08-14T17:00:08.444739",
     "status": "completed"
    },
    "tags": []
   },
   "outputs": [
    {
     "data": {
      "text/plain": [
       "<AxesSubplot:ylabel='PRODUCT'>"
      ]
     },
     "execution_count": 7,
     "metadata": {},
     "output_type": "execute_result"
    },
    {
     "data": {
      "image/png": "[encoded data removed]",
      "text/plain": [
       "<Figure size 432x288 with 1 Axes>"
      ]
     },
     "metadata": {
      "needs_background": "light"
     },
     "output_type": "display_data"
    }
   ],
   "source": [
    "df_pivot_diff.sort_values(\"stamp_2\", ascending = False)[\"stamp_2\"].head(10).plot.barh()"
   ]
  },
  {
   "cell_type": "code",
   "execution_count": null,
   "id": "extra-executive",
   "metadata": {
    "papermill": {
     "duration": 0.022056,
     "end_time": "2021-08-14T17:00:10.042153",
     "exception": false,
     "start_time": "2021-08-14T17:00:10.020097",
     "status": "completed"
    },
    "tags": []
   },
   "outputs": [],
   "source": []
  }
 ],
 "metadata": {
  "kernelspec": {
   "display_name": "Python 3",
   "language": "python",
   "name": "python3"
  },
  "language_info": {
   "codemirror_mode": {
    "name": "ipython",
    "version": 3
   },
   "file_extension": ".py",
   "mimetype": "text/x-python",
   "name": "python",
   "nbconvert_exporter": "python",
   "pygments_lexer": "ipython3",
   "version": "3.9.5"
  },
  "papermill": {
   "default_parameters": {},
   "duration": 6.830178,
   "end_time": "2021-08-14T17:00:11.506306",
   "environment_variables": {},
   "exception": null,
   "input_path": "eBay_Overview.ipynb",
   "output_path": "eBay_Overview.ipynb",
   "parameters": {},
   "start_time": "2021-08-14T17:00:04.676128",
   "version": "2.3.3"
  }
 },
 "nbformat": 4,
 "nbformat_minor": 5
}