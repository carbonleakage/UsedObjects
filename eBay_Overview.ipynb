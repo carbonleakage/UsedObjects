{
 "cells": [
  {
   "cell_type": "code",
   "execution_count": 1,
   "id": "reverse-picking",
   "metadata": {
    "execution": {
     "iopub.execute_input": "2021-10-07T23:30:07.428558Z",
     "iopub.status.busy": "2021-10-07T23:30:07.426501Z",
     "iopub.status.idle": "2021-10-07T23:30:08.239906Z",
     "shell.execute_reply": "2021-10-07T23:30:08.238121Z"
    },
    "papermill": {
     "duration": 0.864659,
     "end_time": "2021-10-07T23:30:08.240323",
     "exception": false,
     "start_time": "2021-10-07T23:30:07.375664",
     "status": "completed"
    },
    "tags": []
   },
   "outputs": [],
   "source": [
    "import pandas as pd\n",
    "import sqlite3"
   ]
  },
  {
   "cell_type": "code",
   "execution_count": 2,
   "id": "innovative-syndrome",
   "metadata": {
    "execution": {
     "iopub.execute_input": "2021-10-07T23:30:08.292388Z",
     "iopub.status.busy": "2021-10-07T23:30:08.289986Z",
     "iopub.status.idle": "2021-10-07T23:30:08.772835Z",
     "shell.execute_reply": "2021-10-07T23:30:08.774032Z"
    },
    "papermill": {
     "duration": 0.512697,
     "end_time": "2021-10-07T23:30:08.774427",
     "exception": false,
     "start_time": "2021-10-07T23:30:08.261730",
     "status": "completed"
    },
    "tags": []
   },
   "outputs": [],
   "source": [
    "timestamps = pd.read_sql(\"select distinct record_time from EBAY_TOP_BERLIN order by record_time desc limit 2\", sqlite3.connect(\"UsedObjects.db\"))"
   ]
  },
  {
   "cell_type": "code",
   "execution_count": 3,
   "id": "periodic-identification",
   "metadata": {
    "execution": {
     "iopub.execute_input": "2021-10-07T23:30:08.870377Z",
     "iopub.status.busy": "2021-10-07T23:30:08.868331Z",
     "iopub.status.idle": "2021-10-07T23:30:08.888968Z",
     "shell.execute_reply": "2021-10-07T23:30:08.890186Z"
    },
    "papermill": {
     "duration": 0.096065,
     "end_time": "2021-10-07T23:30:08.890582",
     "exception": false,
     "start_time": "2021-10-07T23:30:08.794517",
     "status": "completed"
    },
    "tags": []
   },
   "outputs": [
    {
     "data": {
      "text/html": [
       "<div>\n",
       "<style scoped>\n",
       "    .dataframe tbody tr th:only-of-type {\n",
       "        vertical-align: middle;\n",
       "    }\n",
       "\n",
       "    .dataframe tbody tr th {\n",
       "        vertical-align: top;\n",
       "    }\n",
       "\n",
       "    .dataframe thead th {\n",
       "        text-align: right;\n",
       "    }\n",
       "</style>\n",
       "<table border=\"1\" class=\"dataframe\">\n",
       "  <thead>\n",
       "    <tr style=\"text-align: right;\">\n",
       "      <th></th>\n",
       "      <th>RECORD_TIME</th>\n",
       "    </tr>\n",
       "  </thead>\n",
       "  <tbody>\n",
       "    <tr>\n",
       "      <th>0</th>\n",
       "      <td>2021-10-08 01:30</td>\n",
       "    </tr>\n",
       "    <tr>\n",
       "      <th>1</th>\n",
       "      <td>2021-10-08 01:00</td>\n",
       "    </tr>\n",
       "  </tbody>\n",
       "</table>\n",
       "</div>"
      ],
      "text/plain": [
       "        RECORD_TIME\n",
       "0  2021-10-08 01:30\n",
       "1  2021-10-08 01:00"
      ]
     },
     "execution_count": 3,
     "metadata": {},
     "output_type": "execute_result"
    }
   ],
   "source": [
    "timestamps"
   ]
  },
  {
   "cell_type": "code",
   "execution_count": 4,
   "id": "alternate-victory",
   "metadata": {
    "execution": {
     "iopub.execute_input": "2021-10-07T23:30:08.943816Z",
     "iopub.status.busy": "2021-10-07T23:30:08.941435Z",
     "iopub.status.idle": "2021-10-07T23:30:09.660630Z",
     "shell.execute_reply": "2021-10-07T23:30:09.661835Z"
    },
    "papermill": {
     "duration": 0.749474,
     "end_time": "2021-10-07T23:30:09.662269",
     "exception": false,
     "start_time": "2021-10-07T23:30:08.912795",
     "status": "completed"
    },
    "tags": []
   },
   "outputs": [],
   "source": [
    "df = pd.read_sql(\"select * from EBAY_TOP_BERLIN where record_time in (select distinct record_time from EBAY_TOP_BERLIN order by record_time desc limit 2)\", sqlite3.connect(\"UsedObjects.db\"))"
   ]
  },
  {
   "cell_type": "code",
   "execution_count": 5,
   "id": "popular-active",
   "metadata": {
    "execution": {
     "iopub.execute_input": "2021-10-07T23:30:09.722878Z",
     "iopub.status.busy": "2021-10-07T23:30:09.720744Z",
     "iopub.status.idle": "2021-10-07T23:30:09.749367Z",
     "shell.execute_reply": "2021-10-07T23:30:09.750597Z"
    },
    "papermill": {
     "duration": 0.068348,
     "end_time": "2021-10-07T23:30:09.751181",
     "exception": false,
     "start_time": "2021-10-07T23:30:09.682833",
     "status": "completed"
    },
    "tags": []
   },
   "outputs": [],
   "source": [
    "df_pivot = df.pivot_table(index=\"PRODUCT\", columns = \"RECORD_TIME\", values = \"LISTING_COUNT\")"
   ]
  },
  {
   "cell_type": "code",
   "execution_count": 6,
   "id": "union-huntington",
   "metadata": {
    "execution": {
     "iopub.execute_input": "2021-10-07T23:30:09.811086Z",
     "iopub.status.busy": "2021-10-07T23:30:09.808570Z",
     "iopub.status.idle": "2021-10-07T23:30:09.814142Z",
     "shell.execute_reply": "2021-10-07T23:30:09.815507Z"
    },
    "papermill": {
     "duration": 0.042537,
     "end_time": "2021-10-07T23:30:09.815932",
     "exception": false,
     "start_time": "2021-10-07T23:30:09.773395",
     "status": "completed"
    },
    "tags": []
   },
   "outputs": [],
   "source": [
    "df_pivot.columns = [\"stamp_1\", \"stamp_2\"]\n",
    "df_pivot_diff = df_pivot.diff(axis=1)"
   ]
  },
  {
   "cell_type": "code",
   "execution_count": 7,
   "id": "fifth-motion",
   "metadata": {
    "execution": {
     "iopub.execute_input": "2021-10-07T23:30:09.869736Z",
     "iopub.status.busy": "2021-10-07T23:30:09.867435Z",
     "iopub.status.idle": "2021-10-07T23:30:11.377753Z",
     "shell.execute_reply": "2021-10-07T23:30:11.379354Z"
    },
    "papermill": {
     "duration": 1.543868,
     "end_time": "2021-10-07T23:30:11.379819",
     "exception": false,
     "start_time": "2021-10-07T23:30:09.835951",
     "status": "completed"
    },
    "tags": []
   },
   "outputs": [
    {
     "data": {
      "text/plain": [
       "<AxesSubplot:ylabel='PRODUCT'>"
      ]
     },
     "execution_count": 7,
     "metadata": {},
     "output_type": "execute_result"
    },
    {
     "data": {
      "image/png": "[encoded data removed]",
      "text/plain": [
       "<Figure size 432x288 with 1 Axes>"
      ]
     },
     "metadata": {
      "needs_background": "light"
     },
     "output_type": "display_data"
    }
   ],
   "source": [
    "df_pivot_diff.sort_values(\"stamp_2\", ascending = False)[\"stamp_2\"].head(10).plot.barh()"
   ]
  },
  {
   "cell_type": "code",
   "execution_count": null,
   "id": "extra-executive",
   "metadata": {
    "papermill": {
     "duration": 0.022356,
     "end_time": "2021-10-07T23:30:11.427398",
     "exception": false,
     "start_time": "2021-10-07T23:30:11.405042",
     "status": "completed"
    },
    "tags": []
   },
   "outputs": [],
   "source": []
  }
 ],
 "metadata": {
  "kernelspec": {
   "display_name": "Python 3",
   "language": "python",
   "name": "python3"
  },
  "language_info": {
   "codemirror_mode": {
    "name": "ipython",
    "version": 3
   },
   "file_extension": ".py",
   "mimetype": "text/x-python",
   "name": "python",
   "nbconvert_exporter": "python",
   "pygments_lexer": "ipython3",
   "version": "3.9.5"
  },
  "papermill": {
   "default_parameters": {},
   "duration": 7.848295,
   "end_time": "2021-10-07T23:30:12.795923",
   "environment_variables": {},
   "exception": null,
   "input_path": "eBay_Overview.ipynb",
   "output_path": "eBay_Overview.ipynb",
   "parameters": {},
   "start_time": "2021-10-07T23:30:04.947628",
   "version": "2.3.3"
  }
 },
 "nbformat": 4,
 "nbformat_minor": 5
}