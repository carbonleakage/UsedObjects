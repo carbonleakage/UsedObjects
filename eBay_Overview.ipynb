{
 "cells": [
  {
   "cell_type": "code",
   "execution_count": 1,
   "id": "reverse-picking",
   "metadata": {
    "execution": {
     "iopub.execute_input": "2021-08-28T14:00:07.282561Z",
     "iopub.status.busy": "2021-08-28T14:00:07.280606Z",
     "iopub.status.idle": "2021-08-28T14:00:08.086038Z",
     "shell.execute_reply": "2021-08-28T14:00:08.087291Z"
    },
    "papermill": {
     "duration": 0.857812,
     "end_time": "2021-08-28T14:00:08.087920",
     "exception": false,
     "start_time": "2021-08-28T14:00:07.230108",
     "status": "completed"
    },
    "tags": []
   },
   "outputs": [],
   "source": [
    "import pandas as pd\n",
    "import sqlite3"
   ]
  },
  {
   "cell_type": "code",
   "execution_count": 2,
   "id": "innovative-syndrome",
   "metadata": {
    "execution": {
     "iopub.execute_input": "2021-08-28T14:00:08.138533Z",
     "iopub.status.busy": "2021-08-28T14:00:08.136646Z",
     "iopub.status.idle": "2021-08-28T14:00:08.285148Z",
     "shell.execute_reply": "2021-08-28T14:00:08.286579Z"
    },
    "papermill": {
     "duration": 0.178313,
     "end_time": "2021-08-28T14:00:08.287027",
     "exception": false,
     "start_time": "2021-08-28T14:00:08.108714",
     "status": "completed"
    },
    "tags": []
   },
   "outputs": [],
   "source": [
    "timestamps = pd.read_sql(\"select distinct record_time from EBAY_TOP_BERLIN order by record_time desc limit 2\", sqlite3.connect(\"UsedObjects.db\"))"
   ]
  },
  {
   "cell_type": "code",
   "execution_count": 3,
   "id": "periodic-identification",
   "metadata": {
    "execution": {
     "iopub.execute_input": "2021-08-28T14:00:08.353666Z",
     "iopub.status.busy": "2021-08-28T14:00:08.351558Z",
     "iopub.status.idle": "2021-08-28T14:00:08.373113Z",
     "shell.execute_reply": "2021-08-28T14:00:08.374474Z"
    },
    "papermill": {
     "duration": 0.068141,
     "end_time": "2021-08-28T14:00:08.374894",
     "exception": false,
     "start_time": "2021-08-28T14:00:08.306753",
     "status": "completed"
    },
    "tags": []
   },
   "outputs": [
    {
     "data": {
      "text/html": [
       "<div>\n",
       "<style scoped>\n",
       "    .dataframe tbody tr th:only-of-type {\n",
       "        vertical-align: middle;\n",
       "    }\n",
       "\n",
       "    .dataframe tbody tr th {\n",
       "        vertical-align: top;\n",
       "    }\n",
       "\n",
       "    .dataframe thead th {\n",
       "        text-align: right;\n",
       "    }\n",
       "</style>\n",
       "<table border=\"1\" class=\"dataframe\">\n",
       "  <thead>\n",
       "    <tr style=\"text-align: right;\">\n",
       "      <th></th>\n",
       "      <th>RECORD_TIME</th>\n",
       "    </tr>\n",
       "  </thead>\n",
       "  <tbody>\n",
       "    <tr>\n",
       "      <th>0</th>\n",
       "      <td>2021-08-28 16:00</td>\n",
       "    </tr>\n",
       "    <tr>\n",
       "      <th>1</th>\n",
       "      <td>2021-08-28 15:30</td>\n",
       "    </tr>\n",
       "  </tbody>\n",
       "</table>\n",
       "</div>"
      ],
      "text/plain": [
       "        RECORD_TIME\n",
       "0  2021-08-28 16:00\n",
       "1  2021-08-28 15:30"
      ]
     },
     "execution_count": 3,
     "metadata": {},
     "output_type": "execute_result"
    }
   ],
   "source": [
    "timestamps"
   ]
  },
  {
   "cell_type": "code",
   "execution_count": 4,
   "id": "alternate-victory",
   "metadata": {
    "execution": {
     "iopub.execute_input": "2021-08-28T14:00:08.426043Z",
     "iopub.status.busy": "2021-08-28T14:00:08.424018Z",
     "iopub.status.idle": "2021-08-28T14:00:08.656196Z",
     "shell.execute_reply": "2021-08-28T14:00:08.657660Z"
    },
    "papermill": {
     "duration": 0.26231,
     "end_time": "2021-08-28T14:00:08.658093",
     "exception": false,
     "start_time": "2021-08-28T14:00:08.395783",
     "status": "completed"
    },
    "tags": []
   },
   "outputs": [],
   "source": [
    "df = pd.read_sql(\"select * from EBAY_TOP_BERLIN where record_time in (select distinct record_time from EBAY_TOP_BERLIN order by record_time desc limit 2)\", sqlite3.connect(\"UsedObjects.db\"))"
   ]
  },
  {
   "cell_type": "code",
   "execution_count": 5,
   "id": "popular-active",
   "metadata": {
    "execution": {
     "iopub.execute_input": "2021-08-28T14:00:08.728591Z",
     "iopub.status.busy": "2021-08-28T14:00:08.716656Z",
     "iopub.status.idle": "2021-08-28T14:00:08.744138Z",
     "shell.execute_reply": "2021-08-28T14:00:08.745430Z"
    },
    "papermill": {
     "duration": 0.066689,
     "end_time": "2021-08-28T14:00:08.745832",
     "exception": false,
     "start_time": "2021-08-28T14:00:08.679143",
     "status": "completed"
    },
    "tags": []
   },
   "outputs": [],
   "source": [
    "df_pivot = df.pivot_table(index=\"PRODUCT\", columns = \"RECORD_TIME\", values = \"LISTING_COUNT\")"
   ]
  },
  {
   "cell_type": "code",
   "execution_count": 6,
   "id": "union-huntington",
   "metadata": {
    "execution": {
     "iopub.execute_input": "2021-08-28T14:00:08.811356Z",
     "iopub.status.busy": "2021-08-28T14:00:08.808912Z",
     "iopub.status.idle": "2021-08-28T14:00:08.815026Z",
     "shell.execute_reply": "2021-08-28T14:00:08.816359Z"
    },
    "papermill": {
     "duration": 0.0462,
     "end_time": "2021-08-28T14:00:08.816818",
     "exception": false,
     "start_time": "2021-08-28T14:00:08.770618",
     "status": "completed"
    },
    "tags": []
   },
   "outputs": [],
   "source": [
    "df_pivot.columns = [\"stamp_1\", \"stamp_2\"]\n",
    "df_pivot_diff = df_pivot.diff(axis=1)"
   ]
  },
  {
   "cell_type": "code",
   "execution_count": 7,
   "id": "fifth-motion",
   "metadata": {
    "execution": {
     "iopub.execute_input": "2021-08-28T14:00:08.870888Z",
     "iopub.status.busy": "2021-08-28T14:00:08.868497Z",
     "iopub.status.idle": "2021-08-28T14:00:10.376945Z",
     "shell.execute_reply": "2021-08-28T14:00:10.378316Z"
    },
    "papermill": {
     "duration": 1.54116,
     "end_time": "2021-08-28T14:00:10.378748",
     "exception": false,
     "start_time": "2021-08-28T14:00:08.837588",
     "status": "completed"
    },
    "tags": []
   },
   "outputs": [
    {
     "data": {
      "text/plain": [
       "<AxesSubplot:ylabel='PRODUCT'>"
      ]
     },
     "execution_count": 7,
     "metadata": {},
     "output_type": "execute_result"
    },
    {
     "data": {
      "image/png": "[encoded data removed]",
      "text/plain": [
       "<Figure size 432x288 with 1 Axes>"
      ]
     },
     "metadata": {
      "needs_background": "light"
     },
     "output_type": "display_data"
    }
   ],
   "source": [
    "df_pivot_diff.sort_values(\"stamp_2\", ascending = False)[\"stamp_2\"].head(10).plot.barh()"
   ]
  },
  {
   "cell_type": "code",
   "execution_count": null,
   "id": "extra-executive",
   "metadata": {
    "papermill": {
     "duration": 0.02232,
     "end_time": "2021-08-28T14:00:10.426353",
     "exception": false,
     "start_time": "2021-08-28T14:00:10.404033",
     "status": "completed"
    },
    "tags": []
   },
   "outputs": [],
   "source": []
  }
 ],
 "metadata": {
  "kernelspec": {
   "display_name": "Python 3",
   "language": "python",
   "name": "python3"
  },
  "language_info": {
   "codemirror_mode": {
    "name": "ipython",
    "version": 3
   },
   "file_extension": ".py",
   "mimetype": "text/x-python",
   "name": "python",
   "nbconvert_exporter": "python",
   "pygments_lexer": "ipython3",
   "version": "3.9.5"
  },
  "papermill": {
   "default_parameters": {},
   "duration": 6.819667,
   "end_time": "2021-08-28T14:00:11.644131",
   "environment_variables": {},
   "exception": null,
   "input_path": "eBay_Overview.ipynb",
   "output_path": "eBay_Overview.ipynb",
   "parameters": {},
   "start_time": "2021-08-28T14:00:04.824464",
   "version": "2.3.3"
  }
 },
 "nbformat": 4,
 "nbformat_minor": 5
}