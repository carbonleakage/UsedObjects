{
 "cells": [
  {
   "cell_type": "code",
   "execution_count": 1,
   "id": "reverse-picking",
   "metadata": {
    "execution": {
     "iopub.execute_input": "2021-12-01T21:00:07.880432Z",
     "iopub.status.busy": "2021-12-01T21:00:07.878002Z",
     "iopub.status.idle": "2021-12-01T21:00:08.834921Z",
     "shell.execute_reply": "2021-12-01T21:00:08.837278Z"
    },
    "papermill": {
     "duration": 1.008053,
     "end_time": "2021-12-01T21:00:08.837989",
     "exception": false,
     "start_time": "2021-12-01T21:00:07.829936",
     "status": "completed"
    },
    "tags": []
   },
   "outputs": [],
   "source": [
    "import pandas as pd\n",
    "import sqlite3"
   ]
  },
  {
   "cell_type": "code",
   "execution_count": 2,
   "id": "innovative-syndrome",
   "metadata": {
    "execution": {
     "iopub.execute_input": "2021-12-01T21:00:08.895362Z",
     "iopub.status.busy": "2021-12-01T21:00:08.893127Z",
     "iopub.status.idle": "2021-12-01T21:00:09.848597Z",
     "shell.execute_reply": "2021-12-01T21:00:09.850159Z"
    },
    "papermill": {
     "duration": 0.990995,
     "end_time": "2021-12-01T21:00:09.850636",
     "exception": false,
     "start_time": "2021-12-01T21:00:08.859641",
     "status": "completed"
    },
    "tags": []
   },
   "outputs": [],
   "source": [
    "timestamps = pd.read_sql(\"select distinct record_time from EBAY_TOP_BERLIN order by record_time desc limit 2\", sqlite3.connect(\"UsedObjects.db\"))"
   ]
  },
  {
   "cell_type": "code",
   "execution_count": 3,
   "id": "periodic-identification",
   "metadata": {
    "execution": {
     "iopub.execute_input": "2021-12-01T21:00:09.919452Z",
     "iopub.status.busy": "2021-12-01T21:00:09.917396Z",
     "iopub.status.idle": "2021-12-01T21:00:09.937188Z",
     "shell.execute_reply": "2021-12-01T21:00:09.938373Z"
    },
    "papermill": {
     "duration": 0.067445,
     "end_time": "2021-12-01T21:00:09.938788",
     "exception": false,
     "start_time": "2021-12-01T21:00:09.871343",
     "status": "completed"
    },
    "tags": []
   },
   "outputs": [
    {
     "data": {
      "text/html": [
       "<div>\n",
       "<style scoped>\n",
       "    .dataframe tbody tr th:only-of-type {\n",
       "        vertical-align: middle;\n",
       "    }\n",
       "\n",
       "    .dataframe tbody tr th {\n",
       "        vertical-align: top;\n",
       "    }\n",
       "\n",
       "    .dataframe thead th {\n",
       "        text-align: right;\n",
       "    }\n",
       "</style>\n",
       "<table border=\"1\" class=\"dataframe\">\n",
       "  <thead>\n",
       "    <tr style=\"text-align: right;\">\n",
       "      <th></th>\n",
       "      <th>RECORD_TIME</th>\n",
       "    </tr>\n",
       "  </thead>\n",
       "  <tbody>\n",
       "    <tr>\n",
       "      <th>0</th>\n",
       "      <td>2021-12-01 22:00</td>\n",
       "    </tr>\n",
       "    <tr>\n",
       "      <th>1</th>\n",
       "      <td>2021-12-01 21:30</td>\n",
       "    </tr>\n",
       "  </tbody>\n",
       "</table>\n",
       "</div>"
      ],
      "text/plain": [
       "        RECORD_TIME\n",
       "0  2021-12-01 22:00\n",
       "1  2021-12-01 21:30"
      ]
     },
     "execution_count": 3,
     "metadata": {},
     "output_type": "execute_result"
    }
   ],
   "source": [
    "timestamps"
   ]
  },
  {
   "cell_type": "code",
   "execution_count": 4,
   "id": "alternate-victory",
   "metadata": {
    "execution": {
     "iopub.execute_input": "2021-12-01T21:00:09.992001Z",
     "iopub.status.busy": "2021-12-01T21:00:09.989662Z",
     "iopub.status.idle": "2021-12-01T21:00:11.368005Z",
     "shell.execute_reply": "2021-12-01T21:00:11.369519Z"
    },
    "papermill": {
     "duration": 1.409319,
     "end_time": "2021-12-01T21:00:11.369978",
     "exception": false,
     "start_time": "2021-12-01T21:00:09.960659",
     "status": "completed"
    },
    "tags": []
   },
   "outputs": [],
   "source": [
    "df = pd.read_sql(\"select * from EBAY_TOP_BERLIN where record_time in (select distinct record_time from EBAY_TOP_BERLIN order by record_time desc limit 2)\", sqlite3.connect(\"UsedObjects.db\"))"
   ]
  },
  {
   "cell_type": "code",
   "execution_count": 5,
   "id": "popular-active",
   "metadata": {
    "execution": {
     "iopub.execute_input": "2021-12-01T21:00:11.449800Z",
     "iopub.status.busy": "2021-12-01T21:00:11.441077Z",
     "iopub.status.idle": "2021-12-01T21:00:11.469868Z",
     "shell.execute_reply": "2021-12-01T21:00:11.468102Z"
    },
    "papermill": {
     "duration": 0.078725,
     "end_time": "2021-12-01T21:00:11.470292",
     "exception": false,
     "start_time": "2021-12-01T21:00:11.391567",
     "status": "completed"
    },
    "tags": []
   },
   "outputs": [],
   "source": [
    "df_pivot = df.pivot_table(index=\"PRODUCT\", columns = \"RECORD_TIME\", values = \"LISTING_COUNT\")"
   ]
  },
  {
   "cell_type": "code",
   "execution_count": 6,
   "id": "union-huntington",
   "metadata": {
    "execution": {
     "iopub.execute_input": "2021-12-01T21:00:11.532163Z",
     "iopub.status.busy": "2021-12-01T21:00:11.529949Z",
     "iopub.status.idle": "2021-12-01T21:00:11.535700Z",
     "shell.execute_reply": "2021-12-01T21:00:11.537219Z"
    },
    "papermill": {
     "duration": 0.045122,
     "end_time": "2021-12-01T21:00:11.537707",
     "exception": false,
     "start_time": "2021-12-01T21:00:11.492585",
     "status": "completed"
    },
    "tags": []
   },
   "outputs": [],
   "source": [
    "df_pivot.columns = [\"stamp_1\", \"stamp_2\"]\n",
    "df_pivot_diff = df_pivot.diff(axis=1)"
   ]
  },
  {
   "cell_type": "code",
   "execution_count": 7,
   "id": "fifth-motion",
   "metadata": {
    "execution": {
     "iopub.execute_input": "2021-12-01T21:00:11.593853Z",
     "iopub.status.busy": "2021-12-01T21:00:11.591295Z",
     "iopub.status.idle": "2021-12-01T21:00:13.511391Z",
     "shell.execute_reply": "2021-12-01T21:00:13.513065Z"
    },
    "papermill": {
     "duration": 1.955916,
     "end_time": "2021-12-01T21:00:13.513622",
     "exception": false,
     "start_time": "2021-12-01T21:00:11.557706",
     "status": "completed"
    },
    "tags": []
   },
   "outputs": [
    {
     "data": {
      "text/plain": [
       "<AxesSubplot:ylabel='PRODUCT'>"
      ]
     },
     "execution_count": 7,
     "metadata": {},
     "output_type": "execute_result"
    },
    {
     "data": {
      "image/png": "[encoded data removed]",
      "text/plain": [
       "<Figure size 432x288 with 1 Axes>"
      ]
     },
     "metadata": {
      "needs_background": "light"
     },
     "output_type": "display_data"
    }
   ],
   "source": [
    "df_pivot_diff.sort_values(\"stamp_2\", ascending = False)[\"stamp_2\"].head(10).plot.barh()"
   ]
  },
  {
   "cell_type": "code",
   "execution_count": null,
   "id": "extra-executive",
   "metadata": {
    "papermill": {
     "duration": 0.034676,
     "end_time": "2021-12-01T21:00:13.585165",
     "exception": false,
     "start_time": "2021-12-01T21:00:13.550489",
     "status": "completed"
    },
    "tags": []
   },
   "outputs": [],
   "source": []
  }
 ],
 "metadata": {
  "kernelspec": {
   "display_name": "Python 3",
   "language": "python",
   "name": "python3"
  },
  "language_info": {
   "codemirror_mode": {
    "name": "ipython",
    "version": 3
   },
   "file_extension": ".py",
   "mimetype": "text/x-python",
   "name": "python",
   "nbconvert_exporter": "python",
   "pygments_lexer": "ipython3",
   "version": "3.9.5"
  },
  "papermill": {
   "default_parameters": {},
   "duration": 11.942515,
   "end_time": "2021-12-01T21:00:17.050243",
   "environment_variables": {},
   "exception": null,
   "input_path": "eBay_Overview.ipynb",
   "output_path": "eBay_Overview.ipynb",
   "parameters": {},
   "start_time": "2021-12-01T21:00:05.107728",
   "version": "2.3.3"
  }
 },
 "nbformat": 4,
 "nbformat_minor": 5
}