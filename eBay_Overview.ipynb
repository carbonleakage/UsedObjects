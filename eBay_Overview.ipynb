{
 "cells": [
  {
   "cell_type": "code",
   "execution_count": 1,
   "id": "reverse-picking",
   "metadata": {
    "execution": {
     "iopub.execute_input": "2021-11-24T19:00:07.871331Z",
     "iopub.status.busy": "2021-11-24T19:00:07.867951Z",
     "iopub.status.idle": "2021-11-24T19:00:08.919209Z",
     "shell.execute_reply": "2021-11-24T19:00:08.921436Z"
    },
    "papermill": {
     "duration": 1.100973,
     "end_time": "2021-11-24T19:00:08.922194",
     "exception": false,
     "start_time": "2021-11-24T19:00:07.821221",
     "status": "completed"
    },
    "tags": []
   },
   "outputs": [],
   "source": [
    "import pandas as pd\n",
    "import sqlite3"
   ]
  },
  {
   "cell_type": "code",
   "execution_count": 2,
   "id": "innovative-syndrome",
   "metadata": {
    "execution": {
     "iopub.execute_input": "2021-11-24T19:00:08.983792Z",
     "iopub.status.busy": "2021-11-24T19:00:08.981404Z",
     "iopub.status.idle": "2021-11-24T19:00:09.884066Z",
     "shell.execute_reply": "2021-11-24T19:00:09.885368Z"
    },
    "papermill": {
     "duration": 0.93566,
     "end_time": "2021-11-24T19:00:09.885799",
     "exception": false,
     "start_time": "2021-11-24T19:00:08.950139",
     "status": "completed"
    },
    "tags": []
   },
   "outputs": [],
   "source": [
    "timestamps = pd.read_sql(\"select distinct record_time from EBAY_TOP_BERLIN order by record_time desc limit 2\", sqlite3.connect(\"UsedObjects.db\"))"
   ]
  },
  {
   "cell_type": "code",
   "execution_count": 3,
   "id": "periodic-identification",
   "metadata": {
    "execution": {
     "iopub.execute_input": "2021-11-24T19:00:09.959869Z",
     "iopub.status.busy": "2021-11-24T19:00:09.957383Z",
     "iopub.status.idle": "2021-11-24T19:00:09.980484Z",
     "shell.execute_reply": "2021-11-24T19:00:09.982072Z"
    },
    "papermill": {
     "duration": 0.07415,
     "end_time": "2021-11-24T19:00:09.982577",
     "exception": false,
     "start_time": "2021-11-24T19:00:09.908427",
     "status": "completed"
    },
    "tags": []
   },
   "outputs": [
    {
     "data": {
      "text/html": [
       "<div>\n",
       "<style scoped>\n",
       "    .dataframe tbody tr th:only-of-type {\n",
       "        vertical-align: middle;\n",
       "    }\n",
       "\n",
       "    .dataframe tbody tr th {\n",
       "        vertical-align: top;\n",
       "    }\n",
       "\n",
       "    .dataframe thead th {\n",
       "        text-align: right;\n",
       "    }\n",
       "</style>\n",
       "<table border=\"1\" class=\"dataframe\">\n",
       "  <thead>\n",
       "    <tr style=\"text-align: right;\">\n",
       "      <th></th>\n",
       "      <th>RECORD_TIME</th>\n",
       "    </tr>\n",
       "  </thead>\n",
       "  <tbody>\n",
       "    <tr>\n",
       "      <th>0</th>\n",
       "      <td>2021-11-24 20:00</td>\n",
       "    </tr>\n",
       "    <tr>\n",
       "      <th>1</th>\n",
       "      <td>2021-11-24 19:30</td>\n",
       "    </tr>\n",
       "  </tbody>\n",
       "</table>\n",
       "</div>"
      ],
      "text/plain": [
       "        RECORD_TIME\n",
       "0  2021-11-24 20:00\n",
       "1  2021-11-24 19:30"
      ]
     },
     "execution_count": 3,
     "metadata": {},
     "output_type": "execute_result"
    }
   ],
   "source": [
    "timestamps"
   ]
  },
  {
   "cell_type": "code",
   "execution_count": 4,
   "id": "alternate-victory",
   "metadata": {
    "execution": {
     "iopub.execute_input": "2021-11-24T19:00:10.041813Z",
     "iopub.status.busy": "2021-11-24T19:00:10.039553Z",
     "iopub.status.idle": "2021-11-24T19:00:11.371959Z",
     "shell.execute_reply": "2021-11-24T19:00:11.373478Z"
    },
    "papermill": {
     "duration": 1.368979,
     "end_time": "2021-11-24T19:00:11.373956",
     "exception": false,
     "start_time": "2021-11-24T19:00:10.004977",
     "status": "completed"
    },
    "tags": []
   },
   "outputs": [],
   "source": [
    "df = pd.read_sql(\"select * from EBAY_TOP_BERLIN where record_time in (select distinct record_time from EBAY_TOP_BERLIN order by record_time desc limit 2)\", sqlite3.connect(\"UsedObjects.db\"))"
   ]
  },
  {
   "cell_type": "code",
   "execution_count": 5,
   "id": "popular-active",
   "metadata": {
    "execution": {
     "iopub.execute_input": "2021-11-24T19:00:11.444976Z",
     "iopub.status.busy": "2021-11-24T19:00:11.436110Z",
     "iopub.status.idle": "2021-11-24T19:00:11.472824Z",
     "shell.execute_reply": "2021-11-24T19:00:11.471123Z"
    },
    "papermill": {
     "duration": 0.078084,
     "end_time": "2021-11-24T19:00:11.473262",
     "exception": false,
     "start_time": "2021-11-24T19:00:11.395178",
     "status": "completed"
    },
    "tags": []
   },
   "outputs": [],
   "source": [
    "df_pivot = df.pivot_table(index=\"PRODUCT\", columns = \"RECORD_TIME\", values = \"LISTING_COUNT\")"
   ]
  },
  {
   "cell_type": "code",
   "execution_count": 6,
   "id": "union-huntington",
   "metadata": {
    "execution": {
     "iopub.execute_input": "2021-11-24T19:00:11.536067Z",
     "iopub.status.busy": "2021-11-24T19:00:11.533650Z",
     "iopub.status.idle": "2021-11-24T19:00:11.540071Z",
     "shell.execute_reply": "2021-11-24T19:00:11.541623Z"
    },
    "papermill": {
     "duration": 0.04674,
     "end_time": "2021-11-24T19:00:11.542134",
     "exception": false,
     "start_time": "2021-11-24T19:00:11.495394",
     "status": "completed"
    },
    "tags": []
   },
   "outputs": [],
   "source": [
    "df_pivot.columns = [\"stamp_1\", \"stamp_2\"]\n",
    "df_pivot_diff = df_pivot.diff(axis=1)"
   ]
  },
  {
   "cell_type": "code",
   "execution_count": 7,
   "id": "fifth-motion",
   "metadata": {
    "execution": {
     "iopub.execute_input": "2021-11-24T19:00:11.601709Z",
     "iopub.status.busy": "2021-11-24T19:00:11.599129Z",
     "iopub.status.idle": "2021-11-24T19:00:13.616326Z",
     "shell.execute_reply": "2021-11-24T19:00:13.618299Z"
    },
    "papermill": {
     "duration": 2.054821,
     "end_time": "2021-11-24T19:00:13.619000",
     "exception": false,
     "start_time": "2021-11-24T19:00:11.564179",
     "status": "completed"
    },
    "tags": []
   },
   "outputs": [
    {
     "data": {
      "text/plain": [
       "<AxesSubplot:ylabel='PRODUCT'>"
      ]
     },
     "execution_count": 7,
     "metadata": {},
     "output_type": "execute_result"
    },
    {
     "data": {
      "image/png": "[encoded data removed]",
      "text/plain": [
       "<Figure size 432x288 with 1 Axes>"
      ]
     },
     "metadata": {
      "needs_background": "light"
     },
     "output_type": "display_data"
    }
   ],
   "source": [
    "df_pivot_diff.sort_values(\"stamp_2\", ascending = False)[\"stamp_2\"].head(10).plot.barh()"
   ]
  },
  {
   "cell_type": "code",
   "execution_count": null,
   "id": "extra-executive",
   "metadata": {
    "papermill": {
     "duration": 0.037117,
     "end_time": "2021-11-24T19:00:13.695425",
     "exception": false,
     "start_time": "2021-11-24T19:00:13.658308",
     "status": "completed"
    },
    "tags": []
   },
   "outputs": [],
   "source": []
  }
 ],
 "metadata": {
  "kernelspec": {
   "display_name": "Python 3",
   "language": "python",
   "name": "python3"
  },
  "language_info": {
   "codemirror_mode": {
    "name": "ipython",
    "version": 3
   },
   "file_extension": ".py",
   "mimetype": "text/x-python",
   "name": "python",
   "nbconvert_exporter": "python",
   "pygments_lexer": "ipython3",
   "version": "3.9.5"
  },
  "papermill": {
   "default_parameters": {},
   "duration": 9.939355,
   "end_time": "2021-11-24T19:00:15.028271",
   "environment_variables": {},
   "exception": null,
   "input_path": "eBay_Overview.ipynb",
   "output_path": "eBay_Overview.ipynb",
   "parameters": {},
   "start_time": "2021-11-24T19:00:05.088916",
   "version": "2.3.3"
  }
 },
 "nbformat": 4,
 "nbformat_minor": 5
}