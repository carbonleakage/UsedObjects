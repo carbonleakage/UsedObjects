{
 "cells": [
  {
   "cell_type": "code",
   "execution_count": 1,
   "id": "reverse-picking",
   "metadata": {
    "execution": {
     "iopub.execute_input": "2021-12-14T06:30:08.177554Z",
     "iopub.status.busy": "2021-12-14T06:30:08.175279Z",
     "iopub.status.idle": "2021-12-14T06:30:09.146070Z",
     "shell.execute_reply": "2021-12-14T06:30:09.147596Z"
    },
    "papermill": {
     "duration": 1.020718,
     "end_time": "2021-12-14T06:30:09.148330",
     "exception": false,
     "start_time": "2021-12-14T06:30:08.127612",
     "status": "completed"
    },
    "tags": []
   },
   "outputs": [],
   "source": [
    "import pandas as pd\n",
    "import sqlite3"
   ]
  },
  {
   "cell_type": "code",
   "execution_count": 2,
   "id": "innovative-syndrome",
   "metadata": {
    "execution": {
     "iopub.execute_input": "2021-12-14T06:30:09.210674Z",
     "iopub.status.busy": "2021-12-14T06:30:09.208235Z",
     "iopub.status.idle": "2021-12-14T06:30:10.289075Z",
     "shell.execute_reply": "2021-12-14T06:30:10.290479Z"
    },
    "papermill": {
     "duration": 1.115789,
     "end_time": "2021-12-14T06:30:10.290970",
     "exception": false,
     "start_time": "2021-12-14T06:30:09.175181",
     "status": "completed"
    },
    "tags": []
   },
   "outputs": [],
   "source": [
    "timestamps = pd.read_sql(\"select distinct record_time from EBAY_TOP_BERLIN order by record_time desc limit 2\", sqlite3.connect(\"UsedObjects.db\"))"
   ]
  },
  {
   "cell_type": "code",
   "execution_count": 3,
   "id": "periodic-identification",
   "metadata": {
    "execution": {
     "iopub.execute_input": "2021-12-14T06:30:10.361964Z",
     "iopub.status.busy": "2021-12-14T06:30:10.359710Z",
     "iopub.status.idle": "2021-12-14T06:30:10.381663Z",
     "shell.execute_reply": "2021-12-14T06:30:10.384535Z"
    },
    "papermill": {
     "duration": 0.074102,
     "end_time": "2021-12-14T06:30:10.385089",
     "exception": false,
     "start_time": "2021-12-14T06:30:10.310987",
     "status": "completed"
    },
    "tags": []
   },
   "outputs": [
    {
     "data": {
      "text/html": [
       "<div>\n",
       "<style scoped>\n",
       "    .dataframe tbody tr th:only-of-type {\n",
       "        vertical-align: middle;\n",
       "    }\n",
       "\n",
       "    .dataframe tbody tr th {\n",
       "        vertical-align: top;\n",
       "    }\n",
       "\n",
       "    .dataframe thead th {\n",
       "        text-align: right;\n",
       "    }\n",
       "</style>\n",
       "<table border=\"1\" class=\"dataframe\">\n",
       "  <thead>\n",
       "    <tr style=\"text-align: right;\">\n",
       "      <th></th>\n",
       "      <th>RECORD_TIME</th>\n",
       "    </tr>\n",
       "  </thead>\n",
       "  <tbody>\n",
       "    <tr>\n",
       "      <th>0</th>\n",
       "      <td>2021-12-14 07:30</td>\n",
       "    </tr>\n",
       "    <tr>\n",
       "      <th>1</th>\n",
       "      <td>2021-12-14 07:00</td>\n",
       "    </tr>\n",
       "  </tbody>\n",
       "</table>\n",
       "</div>"
      ],
      "text/plain": [
       "        RECORD_TIME\n",
       "0  2021-12-14 07:30\n",
       "1  2021-12-14 07:00"
      ]
     },
     "execution_count": 3,
     "metadata": {},
     "output_type": "execute_result"
    }
   ],
   "source": [
    "timestamps"
   ]
  },
  {
   "cell_type": "code",
   "execution_count": 4,
   "id": "alternate-victory",
   "metadata": {
    "execution": {
     "iopub.execute_input": "2021-12-14T06:30:10.441268Z",
     "iopub.status.busy": "2021-12-14T06:30:10.439300Z",
     "iopub.status.idle": "2021-12-14T06:30:11.975893Z",
     "shell.execute_reply": "2021-12-14T06:30:11.977474Z"
    },
    "papermill": {
     "duration": 1.570018,
     "end_time": "2021-12-14T06:30:11.977945",
     "exception": false,
     "start_time": "2021-12-14T06:30:10.407927",
     "status": "completed"
    },
    "tags": []
   },
   "outputs": [],
   "source": [
    "df = pd.read_sql(\"select * from EBAY_TOP_BERLIN where record_time in (select distinct record_time from EBAY_TOP_BERLIN order by record_time desc limit 2)\", sqlite3.connect(\"UsedObjects.db\"))"
   ]
  },
  {
   "cell_type": "code",
   "execution_count": 5,
   "id": "popular-active",
   "metadata": {
    "execution": {
     "iopub.execute_input": "2021-12-14T06:30:12.039659Z",
     "iopub.status.busy": "2021-12-14T06:30:12.036265Z",
     "iopub.status.idle": "2021-12-14T06:30:12.086513Z",
     "shell.execute_reply": "2021-12-14T06:30:12.088104Z"
    },
    "papermill": {
     "duration": 0.088742,
     "end_time": "2021-12-14T06:30:12.088587",
     "exception": false,
     "start_time": "2021-12-14T06:30:11.999845",
     "status": "completed"
    },
    "tags": []
   },
   "outputs": [],
   "source": [
    "df_pivot = df.pivot_table(index=\"PRODUCT\", columns = \"RECORD_TIME\", values = \"LISTING_COUNT\")"
   ]
  },
  {
   "cell_type": "code",
   "execution_count": 6,
   "id": "union-huntington",
   "metadata": {
    "execution": {
     "iopub.execute_input": "2021-12-14T06:30:12.149150Z",
     "iopub.status.busy": "2021-12-14T06:30:12.146864Z",
     "iopub.status.idle": "2021-12-14T06:30:12.154194Z",
     "shell.execute_reply": "2021-12-14T06:30:12.152564Z"
    },
    "papermill": {
     "duration": 0.043768,
     "end_time": "2021-12-14T06:30:12.154598",
     "exception": false,
     "start_time": "2021-12-14T06:30:12.110830",
     "status": "completed"
    },
    "tags": []
   },
   "outputs": [],
   "source": [
    "df_pivot.columns = [\"stamp_1\", \"stamp_2\"]\n",
    "df_pivot_diff = df_pivot.diff(axis=1)"
   ]
  },
  {
   "cell_type": "code",
   "execution_count": 7,
   "id": "fifth-motion",
   "metadata": {
    "execution": {
     "iopub.execute_input": "2021-12-14T06:30:12.211164Z",
     "iopub.status.busy": "2021-12-14T06:30:12.208650Z",
     "iopub.status.idle": "2021-12-14T06:30:14.224810Z",
     "shell.execute_reply": "2021-12-14T06:30:14.226711Z"
    },
    "papermill": {
     "duration": 2.052278,
     "end_time": "2021-12-14T06:30:14.227368",
     "exception": false,
     "start_time": "2021-12-14T06:30:12.175090",
     "status": "completed"
    },
    "tags": []
   },
   "outputs": [
    {
     "data": {
      "text/plain": [
       "<AxesSubplot:ylabel='PRODUCT'>"
      ]
     },
     "execution_count": 7,
     "metadata": {},
     "output_type": "execute_result"
    },
    {
     "data": {
      "image/png": "[encoded data removed]",
      "text/plain": [
       "<Figure size 432x288 with 1 Axes>"
      ]
     },
     "metadata": {
      "needs_background": "light"
     },
     "output_type": "display_data"
    }
   ],
   "source": [
    "df_pivot_diff.sort_values(\"stamp_2\", ascending = False)[\"stamp_2\"].head(10).plot.barh()"
   ]
  },
  {
   "cell_type": "code",
   "execution_count": null,
   "id": "extra-executive",
   "metadata": {
    "papermill": {
     "duration": 0.026525,
     "end_time": "2021-12-14T06:30:14.288967",
     "exception": false,
     "start_time": "2021-12-14T06:30:14.262442",
     "status": "completed"
    },
    "tags": []
   },
   "outputs": [],
   "source": []
  }
 ],
 "metadata": {
  "kernelspec": {
   "display_name": "Python 3",
   "language": "python",
   "name": "python3"
  },
  "language_info": {
   "codemirror_mode": {
    "name": "ipython",
    "version": 3
   },
   "file_extension": ".py",
   "mimetype": "text/x-python",
   "name": "python",
   "nbconvert_exporter": "python",
   "pygments_lexer": "ipython3",
   "version": "3.9.5"
  },
  "papermill": {
   "default_parameters": {},
   "duration": 9.537119,
   "end_time": "2021-12-14T06:30:14.935147",
   "environment_variables": {},
   "exception": null,
   "input_path": "eBay_Overview.ipynb",
   "output_path": "eBay_Overview.ipynb",
   "parameters": {},
   "start_time": "2021-12-14T06:30:05.398028",
   "version": "2.3.3"
  }
 },
 "nbformat": 4,
 "nbformat_minor": 5
}