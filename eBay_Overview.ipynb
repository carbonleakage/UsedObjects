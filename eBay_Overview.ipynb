{
 "cells": [
  {
   "cell_type": "code",
   "execution_count": 1,
   "id": "reverse-picking",
   "metadata": {
    "execution": {
     "iopub.execute_input": "2021-12-09T02:00:07.450857Z",
     "iopub.status.busy": "2021-12-09T02:00:07.448359Z",
     "iopub.status.idle": "2021-12-09T02:00:08.408383Z",
     "shell.execute_reply": "2021-12-09T02:00:08.409943Z"
    },
    "papermill": {
     "duration": 1.009092,
     "end_time": "2021-12-09T02:00:08.410833",
     "exception": false,
     "start_time": "2021-12-09T02:00:07.401741",
     "status": "completed"
    },
    "tags": []
   },
   "outputs": [],
   "source": [
    "import pandas as pd\n",
    "import sqlite3"
   ]
  },
  {
   "cell_type": "code",
   "execution_count": 2,
   "id": "innovative-syndrome",
   "metadata": {
    "execution": {
     "iopub.execute_input": "2021-12-09T02:00:08.476195Z",
     "iopub.status.busy": "2021-12-09T02:00:08.473303Z",
     "iopub.status.idle": "2021-12-09T02:00:09.510721Z",
     "shell.execute_reply": "2021-12-09T02:00:09.512578Z"
    },
    "papermill": {
     "duration": 1.071964,
     "end_time": "2021-12-09T02:00:09.513237",
     "exception": false,
     "start_time": "2021-12-09T02:00:08.441273",
     "status": "completed"
    },
    "tags": []
   },
   "outputs": [],
   "source": [
    "timestamps = pd.read_sql(\"select distinct record_time from EBAY_TOP_BERLIN order by record_time desc limit 2\", sqlite3.connect(\"UsedObjects.db\"))"
   ]
  },
  {
   "cell_type": "code",
   "execution_count": 3,
   "id": "periodic-identification",
   "metadata": {
    "execution": {
     "iopub.execute_input": "2021-12-09T02:00:09.615332Z",
     "iopub.status.busy": "2021-12-09T02:00:09.609210Z",
     "iopub.status.idle": "2021-12-09T02:00:09.632335Z",
     "shell.execute_reply": "2021-12-09T02:00:09.633989Z"
    },
    "papermill": {
     "duration": 0.089616,
     "end_time": "2021-12-09T02:00:09.634494",
     "exception": false,
     "start_time": "2021-12-09T02:00:09.544878",
     "status": "completed"
    },
    "tags": []
   },
   "outputs": [
    {
     "data": {
      "text/html": [
       "<div>\n",
       "<style scoped>\n",
       "    .dataframe tbody tr th:only-of-type {\n",
       "        vertical-align: middle;\n",
       "    }\n",
       "\n",
       "    .dataframe tbody tr th {\n",
       "        vertical-align: top;\n",
       "    }\n",
       "\n",
       "    .dataframe thead th {\n",
       "        text-align: right;\n",
       "    }\n",
       "</style>\n",
       "<table border=\"1\" class=\"dataframe\">\n",
       "  <thead>\n",
       "    <tr style=\"text-align: right;\">\n",
       "      <th></th>\n",
       "      <th>RECORD_TIME</th>\n",
       "    </tr>\n",
       "  </thead>\n",
       "  <tbody>\n",
       "    <tr>\n",
       "      <th>0</th>\n",
       "      <td>2021-12-09 03:00</td>\n",
       "    </tr>\n",
       "    <tr>\n",
       "      <th>1</th>\n",
       "      <td>2021-12-09 02:30</td>\n",
       "    </tr>\n",
       "  </tbody>\n",
       "</table>\n",
       "</div>"
      ],
      "text/plain": [
       "        RECORD_TIME\n",
       "0  2021-12-09 03:00\n",
       "1  2021-12-09 02:30"
      ]
     },
     "execution_count": 3,
     "metadata": {},
     "output_type": "execute_result"
    }
   ],
   "source": [
    "timestamps"
   ]
  },
  {
   "cell_type": "code",
   "execution_count": 4,
   "id": "alternate-victory",
   "metadata": {
    "execution": {
     "iopub.execute_input": "2021-12-09T02:00:09.691443Z",
     "iopub.status.busy": "2021-12-09T02:00:09.689468Z",
     "iopub.status.idle": "2021-12-09T02:00:11.165907Z",
     "shell.execute_reply": "2021-12-09T02:00:11.169860Z"
    },
    "papermill": {
     "duration": 1.513751,
     "end_time": "2021-12-09T02:00:11.170669",
     "exception": false,
     "start_time": "2021-12-09T02:00:09.656918",
     "status": "completed"
    },
    "tags": []
   },
   "outputs": [],
   "source": [
    "df = pd.read_sql(\"select * from EBAY_TOP_BERLIN where record_time in (select distinct record_time from EBAY_TOP_BERLIN order by record_time desc limit 2)\", sqlite3.connect(\"UsedObjects.db\"))"
   ]
  },
  {
   "cell_type": "code",
   "execution_count": 5,
   "id": "popular-active",
   "metadata": {
    "execution": {
     "iopub.execute_input": "2021-12-09T02:00:11.287338Z",
     "iopub.status.busy": "2021-12-09T02:00:11.270848Z",
     "iopub.status.idle": "2021-12-09T02:00:11.332340Z",
     "shell.execute_reply": "2021-12-09T02:00:11.334860Z"
    },
    "papermill": {
     "duration": 0.132719,
     "end_time": "2021-12-09T02:00:11.335574",
     "exception": false,
     "start_time": "2021-12-09T02:00:11.202855",
     "status": "completed"
    },
    "tags": []
   },
   "outputs": [],
   "source": [
    "df_pivot = df.pivot_table(index=\"PRODUCT\", columns = \"RECORD_TIME\", values = \"LISTING_COUNT\")"
   ]
  },
  {
   "cell_type": "code",
   "execution_count": 6,
   "id": "union-huntington",
   "metadata": {
    "execution": {
     "iopub.execute_input": "2021-12-09T02:00:11.419731Z",
     "iopub.status.busy": "2021-12-09T02:00:11.415117Z",
     "iopub.status.idle": "2021-12-09T02:00:11.430918Z",
     "shell.execute_reply": "2021-12-09T02:00:11.434030Z"
    },
    "papermill": {
     "duration": 0.070617,
     "end_time": "2021-12-09T02:00:11.434891",
     "exception": false,
     "start_time": "2021-12-09T02:00:11.364274",
     "status": "completed"
    },
    "tags": []
   },
   "outputs": [],
   "source": [
    "df_pivot.columns = [\"stamp_1\", \"stamp_2\"]\n",
    "df_pivot_diff = df_pivot.diff(axis=1)"
   ]
  },
  {
   "cell_type": "code",
   "execution_count": 7,
   "id": "fifth-motion",
   "metadata": {
    "execution": {
     "iopub.execute_input": "2021-12-09T02:00:11.522871Z",
     "iopub.status.busy": "2021-12-09T02:00:11.519269Z",
     "iopub.status.idle": "2021-12-09T02:00:13.217990Z",
     "shell.execute_reply": "2021-12-09T02:00:13.219273Z"
    },
    "papermill": {
     "duration": 1.753504,
     "end_time": "2021-12-09T02:00:13.219689",
     "exception": false,
     "start_time": "2021-12-09T02:00:11.466185",
     "status": "completed"
    },
    "tags": []
   },
   "outputs": [
    {
     "data": {
      "text/plain": [
       "<AxesSubplot:ylabel='PRODUCT'>"
      ]
     },
     "execution_count": 7,
     "metadata": {},
     "output_type": "execute_result"
    },
    {
     "data": {
      "image/png": "[encoded data removed]",
      "text/plain": [
       "<Figure size 432x288 with 1 Axes>"
      ]
     },
     "metadata": {
      "needs_background": "light"
     },
     "output_type": "display_data"
    }
   ],
   "source": [
    "df_pivot_diff.sort_values(\"stamp_2\", ascending = False)[\"stamp_2\"].head(10).plot.barh()"
   ]
  },
  {
   "cell_type": "code",
   "execution_count": null,
   "id": "extra-executive",
   "metadata": {
    "papermill": {
     "duration": 0.022385,
     "end_time": "2021-12-09T02:00:13.266334",
     "exception": false,
     "start_time": "2021-12-09T02:00:13.243949",
     "status": "completed"
    },
    "tags": []
   },
   "outputs": [],
   "source": []
  }
 ],
 "metadata": {
  "kernelspec": {
   "display_name": "Python 3",
   "language": "python",
   "name": "python3"
  },
  "language_info": {
   "codemirror_mode": {
    "name": "ipython",
    "version": 3
   },
   "file_extension": ".py",
   "mimetype": "text/x-python",
   "name": "python",
   "nbconvert_exporter": "python",
   "pygments_lexer": "ipython3",
   "version": "3.9.5"
  },
  "papermill": {
   "default_parameters": {},
   "duration": 9.946146,
   "end_time": "2021-12-09T02:00:14.593338",
   "environment_variables": {},
   "exception": null,
   "input_path": "eBay_Overview.ipynb",
   "output_path": "eBay_Overview.ipynb",
   "parameters": {},
   "start_time": "2021-12-09T02:00:04.647192",
   "version": "2.3.3"
  }
 },
 "nbformat": 4,
 "nbformat_minor": 5
}