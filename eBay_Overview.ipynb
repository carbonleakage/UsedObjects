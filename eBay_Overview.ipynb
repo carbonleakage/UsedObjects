{
 "cells": [
  {
   "cell_type": "code",
   "execution_count": 1,
   "id": "reverse-picking",
   "metadata": {
    "execution": {
     "iopub.execute_input": "2021-11-19T09:00:07.855990Z",
     "iopub.status.busy": "2021-11-19T09:00:07.853727Z",
     "iopub.status.idle": "2021-11-19T09:00:08.804347Z",
     "shell.execute_reply": "2021-11-19T09:00:08.805844Z"
    },
    "papermill": {
     "duration": 0.999322,
     "end_time": "2021-11-19T09:00:08.806539",
     "exception": false,
     "start_time": "2021-11-19T09:00:07.807217",
     "status": "completed"
    },
    "tags": []
   },
   "outputs": [],
   "source": [
    "import pandas as pd\n",
    "import sqlite3"
   ]
  },
  {
   "cell_type": "code",
   "execution_count": 2,
   "id": "innovative-syndrome",
   "metadata": {
    "execution": {
     "iopub.execute_input": "2021-11-19T09:00:08.872161Z",
     "iopub.status.busy": "2021-11-19T09:00:08.870028Z",
     "iopub.status.idle": "2021-11-19T09:00:09.763798Z",
     "shell.execute_reply": "2021-11-19T09:00:09.765445Z"
    },
    "papermill": {
     "duration": 0.937845,
     "end_time": "2021-11-19T09:00:09.765914",
     "exception": false,
     "start_time": "2021-11-19T09:00:08.828069",
     "status": "completed"
    },
    "tags": []
   },
   "outputs": [],
   "source": [
    "timestamps = pd.read_sql(\"select distinct record_time from EBAY_TOP_BERLIN order by record_time desc limit 2\", sqlite3.connect(\"UsedObjects.db\"))"
   ]
  },
  {
   "cell_type": "code",
   "execution_count": 3,
   "id": "periodic-identification",
   "metadata": {
    "execution": {
     "iopub.execute_input": "2021-11-19T09:00:09.841585Z",
     "iopub.status.busy": "2021-11-19T09:00:09.835523Z",
     "iopub.status.idle": "2021-11-19T09:00:09.859547Z",
     "shell.execute_reply": "2021-11-19T09:00:09.861120Z"
    },
    "papermill": {
     "duration": 0.075333,
     "end_time": "2021-11-19T09:00:09.861595",
     "exception": false,
     "start_time": "2021-11-19T09:00:09.786262",
     "status": "completed"
    },
    "tags": []
   },
   "outputs": [
    {
     "data": {
      "text/html": [
       "<div>\n",
       "<style scoped>\n",
       "    .dataframe tbody tr th:only-of-type {\n",
       "        vertical-align: middle;\n",
       "    }\n",
       "\n",
       "    .dataframe tbody tr th {\n",
       "        vertical-align: top;\n",
       "    }\n",
       "\n",
       "    .dataframe thead th {\n",
       "        text-align: right;\n",
       "    }\n",
       "</style>\n",
       "<table border=\"1\" class=\"dataframe\">\n",
       "  <thead>\n",
       "    <tr style=\"text-align: right;\">\n",
       "      <th></th>\n",
       "      <th>RECORD_TIME</th>\n",
       "    </tr>\n",
       "  </thead>\n",
       "  <tbody>\n",
       "    <tr>\n",
       "      <th>0</th>\n",
       "      <td>2021-11-19 10:00</td>\n",
       "    </tr>\n",
       "    <tr>\n",
       "      <th>1</th>\n",
       "      <td>2021-11-19 09:30</td>\n",
       "    </tr>\n",
       "  </tbody>\n",
       "</table>\n",
       "</div>"
      ],
      "text/plain": [
       "        RECORD_TIME\n",
       "0  2021-11-19 10:00\n",
       "1  2021-11-19 09:30"
      ]
     },
     "execution_count": 3,
     "metadata": {},
     "output_type": "execute_result"
    }
   ],
   "source": [
    "timestamps"
   ]
  },
  {
   "cell_type": "code",
   "execution_count": 4,
   "id": "alternate-victory",
   "metadata": {
    "execution": {
     "iopub.execute_input": "2021-11-19T09:00:09.917158Z",
     "iopub.status.busy": "2021-11-19T09:00:09.914763Z",
     "iopub.status.idle": "2021-11-19T09:00:11.174963Z",
     "shell.execute_reply": "2021-11-19T09:00:11.177495Z"
    },
    "papermill": {
     "duration": 1.295143,
     "end_time": "2021-11-19T09:00:11.178000",
     "exception": false,
     "start_time": "2021-11-19T09:00:09.882857",
     "status": "completed"
    },
    "tags": []
   },
   "outputs": [],
   "source": [
    "df = pd.read_sql(\"select * from EBAY_TOP_BERLIN where record_time in (select distinct record_time from EBAY_TOP_BERLIN order by record_time desc limit 2)\", sqlite3.connect(\"UsedObjects.db\"))"
   ]
  },
  {
   "cell_type": "code",
   "execution_count": 5,
   "id": "popular-active",
   "metadata": {
    "execution": {
     "iopub.execute_input": "2021-11-19T09:00:11.256797Z",
     "iopub.status.busy": "2021-11-19T09:00:11.241746Z",
     "iopub.status.idle": "2021-11-19T09:00:11.275231Z",
     "shell.execute_reply": "2021-11-19T09:00:11.277061Z"
    },
    "papermill": {
     "duration": 0.078422,
     "end_time": "2021-11-19T09:00:11.277945",
     "exception": false,
     "start_time": "2021-11-19T09:00:11.199523",
     "status": "completed"
    },
    "tags": []
   },
   "outputs": [],
   "source": [
    "df_pivot = df.pivot_table(index=\"PRODUCT\", columns = \"RECORD_TIME\", values = \"LISTING_COUNT\")"
   ]
  },
  {
   "cell_type": "code",
   "execution_count": 6,
   "id": "union-huntington",
   "metadata": {
    "execution": {
     "iopub.execute_input": "2021-11-19T09:00:11.341133Z",
     "iopub.status.busy": "2021-11-19T09:00:11.338835Z",
     "iopub.status.idle": "2021-11-19T09:00:11.344194Z",
     "shell.execute_reply": "2021-11-19T09:00:11.346013Z"
    },
    "papermill": {
     "duration": 0.046199,
     "end_time": "2021-11-19T09:00:11.346528",
     "exception": false,
     "start_time": "2021-11-19T09:00:11.300329",
     "status": "completed"
    },
    "tags": []
   },
   "outputs": [],
   "source": [
    "df_pivot.columns = [\"stamp_1\", \"stamp_2\"]\n",
    "df_pivot_diff = df_pivot.diff(axis=1)"
   ]
  },
  {
   "cell_type": "code",
   "execution_count": 7,
   "id": "fifth-motion",
   "metadata": {
    "execution": {
     "iopub.execute_input": "2021-11-19T09:00:11.406300Z",
     "iopub.status.busy": "2021-11-19T09:00:11.403595Z",
     "iopub.status.idle": "2021-11-19T09:00:13.183340Z",
     "shell.execute_reply": "2021-11-19T09:00:13.184759Z"
    },
    "papermill": {
     "duration": 1.81719,
     "end_time": "2021-11-19T09:00:13.185232",
     "exception": false,
     "start_time": "2021-11-19T09:00:11.368042",
     "status": "completed"
    },
    "tags": []
   },
   "outputs": [
    {
     "data": {
      "text/plain": [
       "<AxesSubplot:ylabel='PRODUCT'>"
      ]
     },
     "execution_count": 7,
     "metadata": {},
     "output_type": "execute_result"
    },
    {
     "data": {
      "image/png": "[encoded data removed]",
      "text/plain": [
       "<Figure size 432x288 with 1 Axes>"
      ]
     },
     "metadata": {
      "needs_background": "light"
     },
     "output_type": "display_data"
    }
   ],
   "source": [
    "df_pivot_diff.sort_values(\"stamp_2\", ascending = False)[\"stamp_2\"].head(10).plot.barh()"
   ]
  },
  {
   "cell_type": "code",
   "execution_count": null,
   "id": "extra-executive",
   "metadata": {
    "papermill": {
     "duration": 0.023484,
     "end_time": "2021-11-19T09:00:13.232587",
     "exception": false,
     "start_time": "2021-11-19T09:00:13.209103",
     "status": "completed"
    },
    "tags": []
   },
   "outputs": [],
   "source": []
  }
 ],
 "metadata": {
  "kernelspec": {
   "display_name": "Python 3",
   "language": "python",
   "name": "python3"
  },
  "language_info": {
   "codemirror_mode": {
    "name": "ipython",
    "version": 3
   },
   "file_extension": ".py",
   "mimetype": "text/x-python",
   "name": "python",
   "nbconvert_exporter": "python",
   "pygments_lexer": "ipython3",
   "version": "3.9.5"
  },
  "papermill": {
   "default_parameters": {},
   "duration": 10.014194,
   "end_time": "2021-11-19T09:00:15.018787",
   "environment_variables": {},
   "exception": null,
   "input_path": "eBay_Overview.ipynb",
   "output_path": "eBay_Overview.ipynb",
   "parameters": {},
   "start_time": "2021-11-19T09:00:05.004593",
   "version": "2.3.3"
  }
 },
 "nbformat": 4,
 "nbformat_minor": 5
}