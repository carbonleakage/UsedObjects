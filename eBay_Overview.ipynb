{
 "cells": [
  {
   "cell_type": "code",
   "execution_count": 1,
   "id": "reverse-picking",
   "metadata": {
    "execution": {
     "iopub.execute_input": "2021-10-27T04:00:07.062802Z",
     "iopub.status.busy": "2021-10-27T04:00:07.060877Z",
     "iopub.status.idle": "2021-10-27T04:00:07.865391Z",
     "shell.execute_reply": "2021-10-27T04:00:07.866728Z"
    },
    "papermill": {
     "duration": 0.856774,
     "end_time": "2021-10-27T04:00:07.867394",
     "exception": false,
     "start_time": "2021-10-27T04:00:07.010620",
     "status": "completed"
    },
    "tags": []
   },
   "outputs": [],
   "source": [
    "import pandas as pd\n",
    "import sqlite3"
   ]
  },
  {
   "cell_type": "code",
   "execution_count": 2,
   "id": "innovative-syndrome",
   "metadata": {
    "execution": {
     "iopub.execute_input": "2021-10-27T04:00:07.918284Z",
     "iopub.status.busy": "2021-10-27T04:00:07.916311Z",
     "iopub.status.idle": "2021-10-27T04:00:08.558335Z",
     "shell.execute_reply": "2021-10-27T04:00:08.559571Z"
    },
    "papermill": {
     "duration": 0.671407,
     "end_time": "2021-10-27T04:00:08.559978",
     "exception": false,
     "start_time": "2021-10-27T04:00:07.888571",
     "status": "completed"
    },
    "tags": []
   },
   "outputs": [],
   "source": [
    "timestamps = pd.read_sql(\"select distinct record_time from EBAY_TOP_BERLIN order by record_time desc limit 2\", sqlite3.connect(\"UsedObjects.db\"))"
   ]
  },
  {
   "cell_type": "code",
   "execution_count": 3,
   "id": "periodic-identification",
   "metadata": {
    "execution": {
     "iopub.execute_input": "2021-10-27T04:00:08.635560Z",
     "iopub.status.busy": "2021-10-27T04:00:08.633531Z",
     "iopub.status.idle": "2021-10-27T04:00:08.654290Z",
     "shell.execute_reply": "2021-10-27T04:00:08.655575Z"
    },
    "papermill": {
     "duration": 0.071157,
     "end_time": "2021-10-27T04:00:08.656002",
     "exception": false,
     "start_time": "2021-10-27T04:00:08.584845",
     "status": "completed"
    },
    "tags": []
   },
   "outputs": [
    {
     "data": {
      "text/html": [
       "<div>\n",
       "<style scoped>\n",
       "    .dataframe tbody tr th:only-of-type {\n",
       "        vertical-align: middle;\n",
       "    }\n",
       "\n",
       "    .dataframe tbody tr th {\n",
       "        vertical-align: top;\n",
       "    }\n",
       "\n",
       "    .dataframe thead th {\n",
       "        text-align: right;\n",
       "    }\n",
       "</style>\n",
       "<table border=\"1\" class=\"dataframe\">\n",
       "  <thead>\n",
       "    <tr style=\"text-align: right;\">\n",
       "      <th></th>\n",
       "      <th>RECORD_TIME</th>\n",
       "    </tr>\n",
       "  </thead>\n",
       "  <tbody>\n",
       "    <tr>\n",
       "      <th>0</th>\n",
       "      <td>2021-10-27 06:00</td>\n",
       "    </tr>\n",
       "    <tr>\n",
       "      <th>1</th>\n",
       "      <td>2021-10-27 05:30</td>\n",
       "    </tr>\n",
       "  </tbody>\n",
       "</table>\n",
       "</div>"
      ],
      "text/plain": [
       "        RECORD_TIME\n",
       "0  2021-10-27 06:00\n",
       "1  2021-10-27 05:30"
      ]
     },
     "execution_count": 3,
     "metadata": {},
     "output_type": "execute_result"
    }
   ],
   "source": [
    "timestamps"
   ]
  },
  {
   "cell_type": "code",
   "execution_count": 4,
   "id": "alternate-victory",
   "metadata": {
    "execution": {
     "iopub.execute_input": "2021-10-27T04:00:08.707683Z",
     "iopub.status.busy": "2021-10-27T04:00:08.705392Z",
     "iopub.status.idle": "2021-10-27T04:00:09.638678Z",
     "shell.execute_reply": "2021-10-27T04:00:09.639897Z"
    },
    "papermill": {
     "duration": 0.963204,
     "end_time": "2021-10-27T04:00:09.640308",
     "exception": false,
     "start_time": "2021-10-27T04:00:08.677104",
     "status": "completed"
    },
    "tags": []
   },
   "outputs": [],
   "source": [
    "df = pd.read_sql(\"select * from EBAY_TOP_BERLIN where record_time in (select distinct record_time from EBAY_TOP_BERLIN order by record_time desc limit 2)\", sqlite3.connect(\"UsedObjects.db\"))"
   ]
  },
  {
   "cell_type": "code",
   "execution_count": 5,
   "id": "popular-active",
   "metadata": {
    "execution": {
     "iopub.execute_input": "2021-10-27T04:00:09.711545Z",
     "iopub.status.busy": "2021-10-27T04:00:09.698918Z",
     "iopub.status.idle": "2021-10-27T04:00:09.727193Z",
     "shell.execute_reply": "2021-10-27T04:00:09.728410Z"
    },
    "papermill": {
     "duration": 0.068063,
     "end_time": "2021-10-27T04:00:09.728872",
     "exception": false,
     "start_time": "2021-10-27T04:00:09.660809",
     "status": "completed"
    },
    "tags": []
   },
   "outputs": [],
   "source": [
    "df_pivot = df.pivot_table(index=\"PRODUCT\", columns = \"RECORD_TIME\", values = \"LISTING_COUNT\")"
   ]
  },
  {
   "cell_type": "code",
   "execution_count": 6,
   "id": "union-huntington",
   "metadata": {
    "execution": {
     "iopub.execute_input": "2021-10-27T04:00:09.785054Z",
     "iopub.status.busy": "2021-10-27T04:00:09.782838Z",
     "iopub.status.idle": "2021-10-27T04:00:09.788511Z",
     "shell.execute_reply": "2021-10-27T04:00:09.790146Z"
    },
    "papermill": {
     "duration": 0.041254,
     "end_time": "2021-10-27T04:00:09.790755",
     "exception": false,
     "start_time": "2021-10-27T04:00:09.749501",
     "status": "completed"
    },
    "tags": []
   },
   "outputs": [],
   "source": [
    "df_pivot.columns = [\"stamp_1\", \"stamp_2\"]\n",
    "df_pivot_diff = df_pivot.diff(axis=1)"
   ]
  },
  {
   "cell_type": "code",
   "execution_count": 7,
   "id": "fifth-motion",
   "metadata": {
    "execution": {
     "iopub.execute_input": "2021-10-27T04:00:09.846441Z",
     "iopub.status.busy": "2021-10-27T04:00:09.844008Z",
     "iopub.status.idle": "2021-10-27T04:00:11.295562Z",
     "shell.execute_reply": "2021-10-27T04:00:11.296867Z"
    },
    "papermill": {
     "duration": 1.485001,
     "end_time": "2021-10-27T04:00:11.297325",
     "exception": false,
     "start_time": "2021-10-27T04:00:09.812324",
     "status": "completed"
    },
    "tags": []
   },
   "outputs": [
    {
     "data": {
      "text/plain": [
       "<AxesSubplot:ylabel='PRODUCT'>"
      ]
     },
     "execution_count": 7,
     "metadata": {},
     "output_type": "execute_result"
    },
    {
     "data": {
      "image/png": "[encoded data removed]",
      "text/plain": [
       "<Figure size 432x288 with 1 Axes>"
      ]
     },
     "metadata": {
      "needs_background": "light"
     },
     "output_type": "display_data"
    }
   ],
   "source": [
    "df_pivot_diff.sort_values(\"stamp_2\", ascending = False)[\"stamp_2\"].head(10).plot.barh()"
   ]
  },
  {
   "cell_type": "code",
   "execution_count": null,
   "id": "extra-executive",
   "metadata": {
    "papermill": {
     "duration": 0.021799,
     "end_time": "2021-10-27T04:00:11.342540",
     "exception": false,
     "start_time": "2021-10-27T04:00:11.320741",
     "status": "completed"
    },
    "tags": []
   },
   "outputs": [],
   "source": []
  }
 ],
 "metadata": {
  "kernelspec": {
   "display_name": "Python 3",
   "language": "python",
   "name": "python3"
  },
  "language_info": {
   "codemirror_mode": {
    "name": "ipython",
    "version": 3
   },
   "file_extension": ".py",
   "mimetype": "text/x-python",
   "name": "python",
   "nbconvert_exporter": "python",
   "pygments_lexer": "ipython3",
   "version": "3.9.5"
  },
  "papermill": {
   "default_parameters": {},
   "duration": 7.376767,
   "end_time": "2021-10-27T04:00:11.984943",
   "environment_variables": {},
   "exception": null,
   "input_path": "eBay_Overview.ipynb",
   "output_path": "eBay_Overview.ipynb",
   "parameters": {},
   "start_time": "2021-10-27T04:00:04.608176",
   "version": "2.3.3"
  }
 },
 "nbformat": 4,
 "nbformat_minor": 5
}