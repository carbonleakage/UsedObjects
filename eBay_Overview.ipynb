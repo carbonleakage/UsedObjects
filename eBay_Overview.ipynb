{
 "cells": [
  {
   "cell_type": "code",
   "execution_count": 1,
   "id": "reverse-picking",
   "metadata": {
    "execution": {
     "iopub.execute_input": "2021-10-02T23:30:07.100639Z",
     "iopub.status.busy": "2021-10-02T23:30:07.098630Z",
     "iopub.status.idle": "2021-10-02T23:30:07.902018Z",
     "shell.execute_reply": "2021-10-02T23:30:07.903447Z"
    },
    "papermill": {
     "duration": 0.855964,
     "end_time": "2021-10-02T23:30:07.904125",
     "exception": false,
     "start_time": "2021-10-02T23:30:07.048161",
     "status": "completed"
    },
    "tags": []
   },
   "outputs": [],
   "source": [
    "import pandas as pd\n",
    "import sqlite3"
   ]
  },
  {
   "cell_type": "code",
   "execution_count": 2,
   "id": "innovative-syndrome",
   "metadata": {
    "execution": {
     "iopub.execute_input": "2021-10-02T23:30:07.954721Z",
     "iopub.status.busy": "2021-10-02T23:30:07.952698Z",
     "iopub.status.idle": "2021-10-02T23:30:08.398515Z",
     "shell.execute_reply": "2021-10-02T23:30:08.399779Z"
    },
    "papermill": {
     "duration": 0.47593,
     "end_time": "2021-10-02T23:30:08.400179",
     "exception": false,
     "start_time": "2021-10-02T23:30:07.924249",
     "status": "completed"
    },
    "tags": []
   },
   "outputs": [],
   "source": [
    "timestamps = pd.read_sql(\"select distinct record_time from EBAY_TOP_BERLIN order by record_time desc limit 2\", sqlite3.connect(\"UsedObjects.db\"))"
   ]
  },
  {
   "cell_type": "code",
   "execution_count": 3,
   "id": "periodic-identification",
   "metadata": {
    "execution": {
     "iopub.execute_input": "2021-10-02T23:30:08.464358Z",
     "iopub.status.busy": "2021-10-02T23:30:08.462126Z",
     "iopub.status.idle": "2021-10-02T23:30:08.482280Z",
     "shell.execute_reply": "2021-10-02T23:30:08.483707Z"
    },
    "papermill": {
     "duration": 0.064378,
     "end_time": "2021-10-02T23:30:08.484145",
     "exception": false,
     "start_time": "2021-10-02T23:30:08.419767",
     "status": "completed"
    },
    "tags": []
   },
   "outputs": [
    {
     "data": {
      "text/html": [
       "<div>\n",
       "<style scoped>\n",
       "    .dataframe tbody tr th:only-of-type {\n",
       "        vertical-align: middle;\n",
       "    }\n",
       "\n",
       "    .dataframe tbody tr th {\n",
       "        vertical-align: top;\n",
       "    }\n",
       "\n",
       "    .dataframe thead th {\n",
       "        text-align: right;\n",
       "    }\n",
       "</style>\n",
       "<table border=\"1\" class=\"dataframe\">\n",
       "  <thead>\n",
       "    <tr style=\"text-align: right;\">\n",
       "      <th></th>\n",
       "      <th>RECORD_TIME</th>\n",
       "    </tr>\n",
       "  </thead>\n",
       "  <tbody>\n",
       "    <tr>\n",
       "      <th>0</th>\n",
       "      <td>2021-10-03 01:30</td>\n",
       "    </tr>\n",
       "    <tr>\n",
       "      <th>1</th>\n",
       "      <td>2021-10-03 01:00</td>\n",
       "    </tr>\n",
       "  </tbody>\n",
       "</table>\n",
       "</div>"
      ],
      "text/plain": [
       "        RECORD_TIME\n",
       "0  2021-10-03 01:30\n",
       "1  2021-10-03 01:00"
      ]
     },
     "execution_count": 3,
     "metadata": {},
     "output_type": "execute_result"
    }
   ],
   "source": [
    "timestamps"
   ]
  },
  {
   "cell_type": "code",
   "execution_count": 4,
   "id": "alternate-victory",
   "metadata": {
    "execution": {
     "iopub.execute_input": "2021-10-02T23:30:08.548913Z",
     "iopub.status.busy": "2021-10-02T23:30:08.546881Z",
     "iopub.status.idle": "2021-10-02T23:30:09.194155Z",
     "shell.execute_reply": "2021-10-02T23:30:09.195492Z"
    },
    "papermill": {
     "duration": 0.689337,
     "end_time": "2021-10-02T23:30:09.195914",
     "exception": false,
     "start_time": "2021-10-02T23:30:08.506577",
     "status": "completed"
    },
    "tags": []
   },
   "outputs": [],
   "source": [
    "df = pd.read_sql(\"select * from EBAY_TOP_BERLIN where record_time in (select distinct record_time from EBAY_TOP_BERLIN order by record_time desc limit 2)\", sqlite3.connect(\"UsedObjects.db\"))"
   ]
  },
  {
   "cell_type": "code",
   "execution_count": 5,
   "id": "popular-active",
   "metadata": {
    "execution": {
     "iopub.execute_input": "2021-10-02T23:30:09.265499Z",
     "iopub.status.busy": "2021-10-02T23:30:09.253618Z",
     "iopub.status.idle": "2021-10-02T23:30:09.280755Z",
     "shell.execute_reply": "2021-10-02T23:30:09.281970Z"
    },
    "papermill": {
     "duration": 0.065592,
     "end_time": "2021-10-02T23:30:09.282362",
     "exception": false,
     "start_time": "2021-10-02T23:30:09.216770",
     "status": "completed"
    },
    "tags": []
   },
   "outputs": [],
   "source": [
    "df_pivot = df.pivot_table(index=\"PRODUCT\", columns = \"RECORD_TIME\", values = \"LISTING_COUNT\")"
   ]
  },
  {
   "cell_type": "code",
   "execution_count": 6,
   "id": "union-huntington",
   "metadata": {
    "execution": {
     "iopub.execute_input": "2021-10-02T23:30:09.341925Z",
     "iopub.status.busy": "2021-10-02T23:30:09.339511Z",
     "iopub.status.idle": "2021-10-02T23:30:09.345346Z",
     "shell.execute_reply": "2021-10-02T23:30:09.346614Z"
    },
    "papermill": {
     "duration": 0.0424,
     "end_time": "2021-10-02T23:30:09.347087",
     "exception": false,
     "start_time": "2021-10-02T23:30:09.304687",
     "status": "completed"
    },
    "tags": []
   },
   "outputs": [],
   "source": [
    "df_pivot.columns = [\"stamp_1\", \"stamp_2\"]\n",
    "df_pivot_diff = df_pivot.diff(axis=1)"
   ]
  },
  {
   "cell_type": "code",
   "execution_count": 7,
   "id": "fifth-motion",
   "metadata": {
    "execution": {
     "iopub.execute_input": "2021-10-02T23:30:09.401587Z",
     "iopub.status.busy": "2021-10-02T23:30:09.399328Z",
     "iopub.status.idle": "2021-10-02T23:30:10.914458Z",
     "shell.execute_reply": "2021-10-02T23:30:10.915800Z"
    },
    "papermill": {
     "duration": 1.548473,
     "end_time": "2021-10-02T23:30:10.916242",
     "exception": false,
     "start_time": "2021-10-02T23:30:09.367769",
     "status": "completed"
    },
    "tags": []
   },
   "outputs": [
    {
     "data": {
      "text/plain": [
       "<AxesSubplot:ylabel='PRODUCT'>"
      ]
     },
     "execution_count": 7,
     "metadata": {},
     "output_type": "execute_result"
    },
    {
     "data": {
      "image/png": "[encoded data removed]",
      "text/plain": [
       "<Figure size 432x288 with 1 Axes>"
      ]
     },
     "metadata": {
      "needs_background": "light"
     },
     "output_type": "display_data"
    }
   ],
   "source": [
    "df_pivot_diff.sort_values(\"stamp_2\", ascending = False)[\"stamp_2\"].head(10).plot.barh()"
   ]
  },
  {
   "cell_type": "code",
   "execution_count": null,
   "id": "extra-executive",
   "metadata": {
    "papermill": {
     "duration": 0.022386,
     "end_time": "2021-10-02T23:30:10.963666",
     "exception": false,
     "start_time": "2021-10-02T23:30:10.941280",
     "status": "completed"
    },
    "tags": []
   },
   "outputs": [],
   "source": []
  }
 ],
 "metadata": {
  "kernelspec": {
   "display_name": "Python 3",
   "language": "python",
   "name": "python3"
  },
  "language_info": {
   "codemirror_mode": {
    "name": "ipython",
    "version": 3
   },
   "file_extension": ".py",
   "mimetype": "text/x-python",
   "name": "python",
   "nbconvert_exporter": "python",
   "pygments_lexer": "ipython3",
   "version": "3.9.5"
  },
  "papermill": {
   "default_parameters": {},
   "duration": 7.821055,
   "end_time": "2021-10-02T23:30:12.469757",
   "environment_variables": {},
   "exception": null,
   "input_path": "eBay_Overview.ipynb",
   "output_path": "eBay_Overview.ipynb",
   "parameters": {},
   "start_time": "2021-10-02T23:30:04.648702",
   "version": "2.3.3"
  }
 },
 "nbformat": 4,
 "nbformat_minor": 5
}