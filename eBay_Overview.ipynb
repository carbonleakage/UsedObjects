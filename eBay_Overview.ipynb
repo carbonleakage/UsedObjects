{
 "cells": [
  {
   "cell_type": "code",
   "execution_count": 1,
   "id": "reverse-picking",
   "metadata": {
    "execution": {
     "iopub.execute_input": "2021-10-14T03:00:06.754841Z",
     "iopub.status.busy": "2021-10-14T03:00:06.752902Z",
     "iopub.status.idle": "2021-10-14T03:00:07.554256Z",
     "shell.execute_reply": "2021-10-14T03:00:07.555660Z"
    },
    "papermill": {
     "duration": 0.853347,
     "end_time": "2021-10-14T03:00:07.556348",
     "exception": false,
     "start_time": "2021-10-14T03:00:06.703001",
     "status": "completed"
    },
    "tags": []
   },
   "outputs": [],
   "source": [
    "import pandas as pd\n",
    "import sqlite3"
   ]
  },
  {
   "cell_type": "code",
   "execution_count": 2,
   "id": "innovative-syndrome",
   "metadata": {
    "execution": {
     "iopub.execute_input": "2021-10-14T03:00:07.607210Z",
     "iopub.status.busy": "2021-10-14T03:00:07.604844Z",
     "iopub.status.idle": "2021-10-14T03:00:08.138112Z",
     "shell.execute_reply": "2021-10-14T03:00:08.139298Z"
    },
    "papermill": {
     "duration": 0.563128,
     "end_time": "2021-10-14T03:00:08.139692",
     "exception": false,
     "start_time": "2021-10-14T03:00:07.576564",
     "status": "completed"
    },
    "tags": []
   },
   "outputs": [],
   "source": [
    "timestamps = pd.read_sql(\"select distinct record_time from EBAY_TOP_BERLIN order by record_time desc limit 2\", sqlite3.connect(\"UsedObjects.db\"))"
   ]
  },
  {
   "cell_type": "code",
   "execution_count": 3,
   "id": "periodic-identification",
   "metadata": {
    "execution": {
     "iopub.execute_input": "2021-10-14T03:00:08.208501Z",
     "iopub.status.busy": "2021-10-14T03:00:08.206488Z",
     "iopub.status.idle": "2021-10-14T03:00:08.228978Z",
     "shell.execute_reply": "2021-10-14T03:00:08.230197Z"
    },
    "papermill": {
     "duration": 0.068457,
     "end_time": "2021-10-14T03:00:08.230629",
     "exception": false,
     "start_time": "2021-10-14T03:00:08.162172",
     "status": "completed"
    },
    "tags": []
   },
   "outputs": [
    {
     "data": {
      "text/html": [
       "<div>\n",
       "<style scoped>\n",
       "    .dataframe tbody tr th:only-of-type {\n",
       "        vertical-align: middle;\n",
       "    }\n",
       "\n",
       "    .dataframe tbody tr th {\n",
       "        vertical-align: top;\n",
       "    }\n",
       "\n",
       "    .dataframe thead th {\n",
       "        text-align: right;\n",
       "    }\n",
       "</style>\n",
       "<table border=\"1\" class=\"dataframe\">\n",
       "  <thead>\n",
       "    <tr style=\"text-align: right;\">\n",
       "      <th></th>\n",
       "      <th>RECORD_TIME</th>\n",
       "    </tr>\n",
       "  </thead>\n",
       "  <tbody>\n",
       "    <tr>\n",
       "      <th>0</th>\n",
       "      <td>2021-10-14 05:00</td>\n",
       "    </tr>\n",
       "    <tr>\n",
       "      <th>1</th>\n",
       "      <td>2021-10-14 04:30</td>\n",
       "    </tr>\n",
       "  </tbody>\n",
       "</table>\n",
       "</div>"
      ],
      "text/plain": [
       "        RECORD_TIME\n",
       "0  2021-10-14 05:00\n",
       "1  2021-10-14 04:30"
      ]
     },
     "execution_count": 3,
     "metadata": {},
     "output_type": "execute_result"
    }
   ],
   "source": [
    "timestamps"
   ]
  },
  {
   "cell_type": "code",
   "execution_count": 4,
   "id": "alternate-victory",
   "metadata": {
    "execution": {
     "iopub.execute_input": "2021-10-14T03:00:08.292312Z",
     "iopub.status.busy": "2021-10-14T03:00:08.290436Z",
     "iopub.status.idle": "2021-10-14T03:00:09.093468Z",
     "shell.execute_reply": "2021-10-14T03:00:09.092161Z"
    },
    "papermill": {
     "duration": 0.83464,
     "end_time": "2021-10-14T03:00:09.093830",
     "exception": false,
     "start_time": "2021-10-14T03:00:08.259190",
     "status": "completed"
    },
    "tags": []
   },
   "outputs": [],
   "source": [
    "df = pd.read_sql(\"select * from EBAY_TOP_BERLIN where record_time in (select distinct record_time from EBAY_TOP_BERLIN order by record_time desc limit 2)\", sqlite3.connect(\"UsedObjects.db\"))"
   ]
  },
  {
   "cell_type": "code",
   "execution_count": 5,
   "id": "popular-active",
   "metadata": {
    "execution": {
     "iopub.execute_input": "2021-10-14T03:00:09.163167Z",
     "iopub.status.busy": "2021-10-14T03:00:09.155732Z",
     "iopub.status.idle": "2021-10-14T03:00:09.183459Z",
     "shell.execute_reply": "2021-10-14T03:00:09.184672Z"
    },
    "papermill": {
     "duration": 0.068671,
     "end_time": "2021-10-14T03:00:09.185131",
     "exception": false,
     "start_time": "2021-10-14T03:00:09.116460",
     "status": "completed"
    },
    "tags": []
   },
   "outputs": [],
   "source": [
    "df_pivot = df.pivot_table(index=\"PRODUCT\", columns = \"RECORD_TIME\", values = \"LISTING_COUNT\")"
   ]
  },
  {
   "cell_type": "code",
   "execution_count": 6,
   "id": "union-huntington",
   "metadata": {
    "execution": {
     "iopub.execute_input": "2021-10-14T03:00:09.241345Z",
     "iopub.status.busy": "2021-10-14T03:00:09.239240Z",
     "iopub.status.idle": "2021-10-14T03:00:09.244460Z",
     "shell.execute_reply": "2021-10-14T03:00:09.245823Z"
    },
    "papermill": {
     "duration": 0.040377,
     "end_time": "2021-10-14T03:00:09.246244",
     "exception": false,
     "start_time": "2021-10-14T03:00:09.205867",
     "status": "completed"
    },
    "tags": []
   },
   "outputs": [],
   "source": [
    "df_pivot.columns = [\"stamp_1\", \"stamp_2\"]\n",
    "df_pivot_diff = df_pivot.diff(axis=1)"
   ]
  },
  {
   "cell_type": "code",
   "execution_count": 7,
   "id": "fifth-motion",
   "metadata": {
    "execution": {
     "iopub.execute_input": "2021-10-14T03:00:09.300023Z",
     "iopub.status.busy": "2021-10-14T03:00:09.297663Z",
     "iopub.status.idle": "2021-10-14T03:00:10.785441Z",
     "shell.execute_reply": "2021-10-14T03:00:10.786726Z"
    },
    "papermill": {
     "duration": 1.520443,
     "end_time": "2021-10-14T03:00:10.787141",
     "exception": false,
     "start_time": "2021-10-14T03:00:09.266698",
     "status": "completed"
    },
    "tags": []
   },
   "outputs": [
    {
     "data": {
      "text/plain": [
       "<AxesSubplot:ylabel='PRODUCT'>"
      ]
     },
     "execution_count": 7,
     "metadata": {},
     "output_type": "execute_result"
    },
    {
     "data": {
      "image/png": "[encoded data removed]",
      "text/plain": [
       "<Figure size 432x288 with 1 Axes>"
      ]
     },
     "metadata": {
      "needs_background": "light"
     },
     "output_type": "display_data"
    }
   ],
   "source": [
    "df_pivot_diff.sort_values(\"stamp_2\", ascending = False)[\"stamp_2\"].head(10).plot.barh()"
   ]
  },
  {
   "cell_type": "code",
   "execution_count": null,
   "id": "extra-executive",
   "metadata": {
    "papermill": {
     "duration": 0.022324,
     "end_time": "2021-10-14T03:00:10.833095",
     "exception": false,
     "start_time": "2021-10-14T03:00:10.810771",
     "status": "completed"
    },
    "tags": []
   },
   "outputs": [],
   "source": []
  }
 ],
 "metadata": {
  "kernelspec": {
   "display_name": "Python 3",
   "language": "python",
   "name": "python3"
  },
  "language_info": {
   "codemirror_mode": {
    "name": "ipython",
    "version": 3
   },
   "file_extension": ".py",
   "mimetype": "text/x-python",
   "name": "python",
   "nbconvert_exporter": "python",
   "pygments_lexer": "ipython3",
   "version": "3.9.5"
  },
  "papermill": {
   "default_parameters": {},
   "duration": 7.818334,
   "end_time": "2021-10-14T03:00:12.139102",
   "environment_variables": {},
   "exception": null,
   "input_path": "eBay_Overview.ipynb",
   "output_path": "eBay_Overview.ipynb",
   "parameters": {},
   "start_time": "2021-10-14T03:00:04.320768",
   "version": "2.3.3"
  }
 },
 "nbformat": 4,
 "nbformat_minor": 5
}