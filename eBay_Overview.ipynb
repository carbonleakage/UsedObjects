{
 "cells": [
  {
   "cell_type": "code",
   "execution_count": 1,
   "id": "reverse-picking",
   "metadata": {
    "execution": {
     "iopub.execute_input": "2021-11-29T13:00:07.937924Z",
     "iopub.status.busy": "2021-11-29T13:00:07.935681Z",
     "iopub.status.idle": "2021-11-29T13:00:08.857839Z",
     "shell.execute_reply": "2021-11-29T13:00:08.859492Z"
    },
    "papermill": {
     "duration": 0.972523,
     "end_time": "2021-11-29T13:00:08.860269",
     "exception": false,
     "start_time": "2021-11-29T13:00:07.887746",
     "status": "completed"
    },
    "tags": []
   },
   "outputs": [],
   "source": [
    "import pandas as pd\n",
    "import sqlite3"
   ]
  },
  {
   "cell_type": "code",
   "execution_count": 2,
   "id": "innovative-syndrome",
   "metadata": {
    "execution": {
     "iopub.execute_input": "2021-11-29T13:00:08.922880Z",
     "iopub.status.busy": "2021-11-29T13:00:08.920618Z",
     "iopub.status.idle": "2021-11-29T13:00:09.870507Z",
     "shell.execute_reply": "2021-11-29T13:00:09.872162Z"
    },
    "papermill": {
     "duration": 0.985147,
     "end_time": "2021-11-29T13:00:09.872721",
     "exception": false,
     "start_time": "2021-11-29T13:00:08.887574",
     "status": "completed"
    },
    "tags": []
   },
   "outputs": [],
   "source": [
    "timestamps = pd.read_sql(\"select distinct record_time from EBAY_TOP_BERLIN order by record_time desc limit 2\", sqlite3.connect(\"UsedObjects.db\"))"
   ]
  },
  {
   "cell_type": "code",
   "execution_count": 3,
   "id": "periodic-identification",
   "metadata": {
    "execution": {
     "iopub.execute_input": "2021-11-29T13:00:09.944365Z",
     "iopub.status.busy": "2021-11-29T13:00:09.942030Z",
     "iopub.status.idle": "2021-11-29T13:00:09.971983Z",
     "shell.execute_reply": "2021-11-29T13:00:09.970031Z"
    },
    "papermill": {
     "duration": 0.079363,
     "end_time": "2021-11-29T13:00:09.972483",
     "exception": false,
     "start_time": "2021-11-29T13:00:09.893120",
     "status": "completed"
    },
    "tags": []
   },
   "outputs": [
    {
     "data": {
      "text/html": [
       "<div>\n",
       "<style scoped>\n",
       "    .dataframe tbody tr th:only-of-type {\n",
       "        vertical-align: middle;\n",
       "    }\n",
       "\n",
       "    .dataframe tbody tr th {\n",
       "        vertical-align: top;\n",
       "    }\n",
       "\n",
       "    .dataframe thead th {\n",
       "        text-align: right;\n",
       "    }\n",
       "</style>\n",
       "<table border=\"1\" class=\"dataframe\">\n",
       "  <thead>\n",
       "    <tr style=\"text-align: right;\">\n",
       "      <th></th>\n",
       "      <th>RECORD_TIME</th>\n",
       "    </tr>\n",
       "  </thead>\n",
       "  <tbody>\n",
       "    <tr>\n",
       "      <th>0</th>\n",
       "      <td>2021-11-29 14:00</td>\n",
       "    </tr>\n",
       "    <tr>\n",
       "      <th>1</th>\n",
       "      <td>2021-11-29 13:30</td>\n",
       "    </tr>\n",
       "  </tbody>\n",
       "</table>\n",
       "</div>"
      ],
      "text/plain": [
       "        RECORD_TIME\n",
       "0  2021-11-29 14:00\n",
       "1  2021-11-29 13:30"
      ]
     },
     "execution_count": 3,
     "metadata": {},
     "output_type": "execute_result"
    }
   ],
   "source": [
    "timestamps"
   ]
  },
  {
   "cell_type": "code",
   "execution_count": 4,
   "id": "alternate-victory",
   "metadata": {
    "execution": {
     "iopub.execute_input": "2021-11-29T13:00:10.030512Z",
     "iopub.status.busy": "2021-11-29T13:00:10.028300Z",
     "iopub.status.idle": "2021-11-29T13:00:11.440219Z",
     "shell.execute_reply": "2021-11-29T13:00:11.441805Z"
    },
    "papermill": {
     "duration": 1.445489,
     "end_time": "2021-11-29T13:00:11.442301",
     "exception": false,
     "start_time": "2021-11-29T13:00:09.996812",
     "status": "completed"
    },
    "tags": []
   },
   "outputs": [],
   "source": [
    "df = pd.read_sql(\"select * from EBAY_TOP_BERLIN where record_time in (select distinct record_time from EBAY_TOP_BERLIN order by record_time desc limit 2)\", sqlite3.connect(\"UsedObjects.db\"))"
   ]
  },
  {
   "cell_type": "code",
   "execution_count": 5,
   "id": "popular-active",
   "metadata": {
    "execution": {
     "iopub.execute_input": "2021-11-29T13:00:11.519787Z",
     "iopub.status.busy": "2021-11-29T13:00:11.506962Z",
     "iopub.status.idle": "2021-11-29T13:00:11.543046Z",
     "shell.execute_reply": "2021-11-29T13:00:11.544588Z"
    },
    "papermill": {
     "duration": 0.081201,
     "end_time": "2021-11-29T13:00:11.545129",
     "exception": false,
     "start_time": "2021-11-29T13:00:11.463928",
     "status": "completed"
    },
    "tags": []
   },
   "outputs": [],
   "source": [
    "df_pivot = df.pivot_table(index=\"PRODUCT\", columns = \"RECORD_TIME\", values = \"LISTING_COUNT\")"
   ]
  },
  {
   "cell_type": "code",
   "execution_count": 6,
   "id": "union-huntington",
   "metadata": {
    "execution": {
     "iopub.execute_input": "2021-11-29T13:00:11.604913Z",
     "iopub.status.busy": "2021-11-29T13:00:11.602665Z",
     "iopub.status.idle": "2021-11-29T13:00:11.609390Z",
     "shell.execute_reply": "2021-11-29T13:00:11.607826Z"
    },
    "papermill": {
     "duration": 0.043617,
     "end_time": "2021-11-29T13:00:11.609816",
     "exception": false,
     "start_time": "2021-11-29T13:00:11.566199",
     "status": "completed"
    },
    "tags": []
   },
   "outputs": [],
   "source": [
    "df_pivot.columns = [\"stamp_1\", \"stamp_2\"]\n",
    "df_pivot_diff = df_pivot.diff(axis=1)"
   ]
  },
  {
   "cell_type": "code",
   "execution_count": 7,
   "id": "fifth-motion",
   "metadata": {
    "execution": {
     "iopub.execute_input": "2021-11-29T13:00:11.669255Z",
     "iopub.status.busy": "2021-11-29T13:00:11.666424Z",
     "iopub.status.idle": "2021-11-29T13:00:13.583171Z",
     "shell.execute_reply": "2021-11-29T13:00:13.585928Z"
    },
    "papermill": {
     "duration": 1.957169,
     "end_time": "2021-11-29T13:00:13.586801",
     "exception": false,
     "start_time": "2021-11-29T13:00:11.629632",
     "status": "completed"
    },
    "tags": []
   },
   "outputs": [
    {
     "data": {
      "text/plain": [
       "<AxesSubplot:ylabel='PRODUCT'>"
      ]
     },
     "execution_count": 7,
     "metadata": {},
     "output_type": "execute_result"
    },
    {
     "data": {
      "image/png": "[encoded data removed]",
      "text/plain": [
       "<Figure size 432x288 with 1 Axes>"
      ]
     },
     "metadata": {
      "needs_background": "light"
     },
     "output_type": "display_data"
    }
   ],
   "source": [
    "df_pivot_diff.sort_values(\"stamp_2\", ascending = False)[\"stamp_2\"].head(10).plot.barh()"
   ]
  },
  {
   "cell_type": "code",
   "execution_count": null,
   "id": "extra-executive",
   "metadata": {
    "papermill": {
     "duration": 0.036692,
     "end_time": "2021-11-29T13:00:13.658022",
     "exception": false,
     "start_time": "2021-11-29T13:00:13.621330",
     "status": "completed"
    },
    "tags": []
   },
   "outputs": [],
   "source": []
  }
 ],
 "metadata": {
  "kernelspec": {
   "display_name": "Python 3",
   "language": "python",
   "name": "python3"
  },
  "language_info": {
   "codemirror_mode": {
    "name": "ipython",
    "version": 3
   },
   "file_extension": ".py",
   "mimetype": "text/x-python",
   "name": "python",
   "nbconvert_exporter": "python",
   "pygments_lexer": "ipython3",
   "version": "3.9.5"
  },
  "papermill": {
   "default_parameters": {},
   "duration": 9.927934,
   "end_time": "2021-11-29T13:00:15.092099",
   "environment_variables": {},
   "exception": null,
   "input_path": "eBay_Overview.ipynb",
   "output_path": "eBay_Overview.ipynb",
   "parameters": {},
   "start_time": "2021-11-29T13:00:05.164165",
   "version": "2.3.3"
  }
 },
 "nbformat": 4,
 "nbformat_minor": 5
}