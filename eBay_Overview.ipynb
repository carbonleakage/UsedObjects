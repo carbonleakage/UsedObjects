{
 "cells": [
  {
   "cell_type": "code",
   "execution_count": 1,
   "id": "reverse-picking",
   "metadata": {
    "execution": {
     "iopub.execute_input": "2021-08-25T15:30:07.098497Z",
     "iopub.status.busy": "2021-08-25T15:30:07.096548Z",
     "iopub.status.idle": "2021-08-25T15:30:07.901361Z",
     "shell.execute_reply": "2021-08-25T15:30:07.902624Z"
    },
    "papermill": {
     "duration": 0.858838,
     "end_time": "2021-08-25T15:30:07.903246",
     "exception": false,
     "start_time": "2021-08-25T15:30:07.044408",
     "status": "completed"
    },
    "tags": []
   },
   "outputs": [],
   "source": [
    "import pandas as pd\n",
    "import sqlite3"
   ]
  },
  {
   "cell_type": "code",
   "execution_count": 2,
   "id": "innovative-syndrome",
   "metadata": {
    "execution": {
     "iopub.execute_input": "2021-08-25T15:30:07.954000Z",
     "iopub.status.busy": "2021-08-25T15:30:07.952050Z",
     "iopub.status.idle": "2021-08-25T15:30:08.080188Z",
     "shell.execute_reply": "2021-08-25T15:30:08.081533Z"
    },
    "papermill": {
     "duration": 0.157855,
     "end_time": "2021-08-25T15:30:08.081948",
     "exception": false,
     "start_time": "2021-08-25T15:30:07.924093",
     "status": "completed"
    },
    "tags": []
   },
   "outputs": [],
   "source": [
    "timestamps = pd.read_sql(\"select distinct record_time from EBAY_TOP_BERLIN order by record_time desc limit 2\", sqlite3.connect(\"UsedObjects.db\"))"
   ]
  },
  {
   "cell_type": "code",
   "execution_count": 3,
   "id": "periodic-identification",
   "metadata": {
    "execution": {
     "iopub.execute_input": "2021-08-25T15:30:08.147463Z",
     "iopub.status.busy": "2021-08-25T15:30:08.145449Z",
     "iopub.status.idle": "2021-08-25T15:30:08.165117Z",
     "shell.execute_reply": "2021-08-25T15:30:08.166250Z"
    },
    "papermill": {
     "duration": 0.065116,
     "end_time": "2021-08-25T15:30:08.166664",
     "exception": false,
     "start_time": "2021-08-25T15:30:08.101548",
     "status": "completed"
    },
    "tags": []
   },
   "outputs": [
    {
     "data": {
      "text/html": [
       "<div>\n",
       "<style scoped>\n",
       "    .dataframe tbody tr th:only-of-type {\n",
       "        vertical-align: middle;\n",
       "    }\n",
       "\n",
       "    .dataframe tbody tr th {\n",
       "        vertical-align: top;\n",
       "    }\n",
       "\n",
       "    .dataframe thead th {\n",
       "        text-align: right;\n",
       "    }\n",
       "</style>\n",
       "<table border=\"1\" class=\"dataframe\">\n",
       "  <thead>\n",
       "    <tr style=\"text-align: right;\">\n",
       "      <th></th>\n",
       "      <th>RECORD_TIME</th>\n",
       "    </tr>\n",
       "  </thead>\n",
       "  <tbody>\n",
       "    <tr>\n",
       "      <th>0</th>\n",
       "      <td>2021-08-25 17:30</td>\n",
       "    </tr>\n",
       "    <tr>\n",
       "      <th>1</th>\n",
       "      <td>2021-08-25 17:00</td>\n",
       "    </tr>\n",
       "  </tbody>\n",
       "</table>\n",
       "</div>"
      ],
      "text/plain": [
       "        RECORD_TIME\n",
       "0  2021-08-25 17:30\n",
       "1  2021-08-25 17:00"
      ]
     },
     "execution_count": 3,
     "metadata": {},
     "output_type": "execute_result"
    }
   ],
   "source": [
    "timestamps"
   ]
  },
  {
   "cell_type": "code",
   "execution_count": 4,
   "id": "alternate-victory",
   "metadata": {
    "execution": {
     "iopub.execute_input": "2021-08-25T15:30:08.221204Z",
     "iopub.status.busy": "2021-08-25T15:30:08.218848Z",
     "iopub.status.idle": "2021-08-25T15:30:08.415410Z",
     "shell.execute_reply": "2021-08-25T15:30:08.416675Z"
    },
    "papermill": {
     "duration": 0.227095,
     "end_time": "2021-08-25T15:30:08.417077",
     "exception": false,
     "start_time": "2021-08-25T15:30:08.189982",
     "status": "completed"
    },
    "tags": []
   },
   "outputs": [],
   "source": [
    "df = pd.read_sql(\"select * from EBAY_TOP_BERLIN where record_time in (select distinct record_time from EBAY_TOP_BERLIN order by record_time desc limit 2)\", sqlite3.connect(\"UsedObjects.db\"))"
   ]
  },
  {
   "cell_type": "code",
   "execution_count": 5,
   "id": "popular-active",
   "metadata": {
    "execution": {
     "iopub.execute_input": "2021-08-25T15:30:08.487976Z",
     "iopub.status.busy": "2021-08-25T15:30:08.481025Z",
     "iopub.status.idle": "2021-08-25T15:30:08.504728Z",
     "shell.execute_reply": "2021-08-25T15:30:08.505948Z"
    },
    "papermill": {
     "duration": 0.068911,
     "end_time": "2021-08-25T15:30:08.506349",
     "exception": false,
     "start_time": "2021-08-25T15:30:08.437438",
     "status": "completed"
    },
    "tags": []
   },
   "outputs": [],
   "source": [
    "df_pivot = df.pivot_table(index=\"PRODUCT\", columns = \"RECORD_TIME\", values = \"LISTING_COUNT\")"
   ]
  },
  {
   "cell_type": "code",
   "execution_count": 6,
   "id": "union-huntington",
   "metadata": {
    "execution": {
     "iopub.execute_input": "2021-08-25T15:30:08.573816Z",
     "iopub.status.busy": "2021-08-25T15:30:08.571660Z",
     "iopub.status.idle": "2021-08-25T15:30:08.577214Z",
     "shell.execute_reply": "2021-08-25T15:30:08.578424Z"
    },
    "papermill": {
     "duration": 0.04603,
     "end_time": "2021-08-25T15:30:08.578861",
     "exception": false,
     "start_time": "2021-08-25T15:30:08.532831",
     "status": "completed"
    },
    "tags": []
   },
   "outputs": [],
   "source": [
    "df_pivot.columns = [\"stamp_1\", \"stamp_2\"]\n",
    "df_pivot_diff = df_pivot.diff(axis=1)"
   ]
  },
  {
   "cell_type": "code",
   "execution_count": 7,
   "id": "fifth-motion",
   "metadata": {
    "execution": {
     "iopub.execute_input": "2021-08-25T15:30:08.636555Z",
     "iopub.status.busy": "2021-08-25T15:30:08.633869Z",
     "iopub.status.idle": "2021-08-25T15:30:10.129435Z",
     "shell.execute_reply": "2021-08-25T15:30:10.130624Z"
    },
    "papermill": {
     "duration": 1.529264,
     "end_time": "2021-08-25T15:30:10.131052",
     "exception": false,
     "start_time": "2021-08-25T15:30:08.601788",
     "status": "completed"
    },
    "tags": []
   },
   "outputs": [
    {
     "data": {
      "text/plain": [
       "<AxesSubplot:ylabel='PRODUCT'>"
      ]
     },
     "execution_count": 7,
     "metadata": {},
     "output_type": "execute_result"
    },
    {
     "data": {
      "image/png": "[encoded data removed]",
      "text/plain": [
       "<Figure size 432x288 with 1 Axes>"
      ]
     },
     "metadata": {
      "needs_background": "light"
     },
     "output_type": "display_data"
    }
   ],
   "source": [
    "df_pivot_diff.sort_values(\"stamp_2\", ascending = False)[\"stamp_2\"].head(10).plot.barh()"
   ]
  },
  {
   "cell_type": "code",
   "execution_count": null,
   "id": "extra-executive",
   "metadata": {
    "papermill": {
     "duration": 0.022274,
     "end_time": "2021-08-25T15:30:10.178997",
     "exception": false,
     "start_time": "2021-08-25T15:30:10.156723",
     "status": "completed"
    },
    "tags": []
   },
   "outputs": [],
   "source": []
  }
 ],
 "metadata": {
  "kernelspec": {
   "display_name": "Python 3",
   "language": "python",
   "name": "python3"
  },
  "language_info": {
   "codemirror_mode": {
    "name": "ipython",
    "version": 3
   },
   "file_extension": ".py",
   "mimetype": "text/x-python",
   "name": "python",
   "nbconvert_exporter": "python",
   "pygments_lexer": "ipython3",
   "version": "3.9.5"
  },
  "papermill": {
   "default_parameters": {},
   "duration": 6.823146,
   "end_time": "2021-08-25T15:30:11.460093",
   "environment_variables": {},
   "exception": null,
   "input_path": "eBay_Overview.ipynb",
   "output_path": "eBay_Overview.ipynb",
   "parameters": {},
   "start_time": "2021-08-25T15:30:04.636947",
   "version": "2.3.3"
  }
 },
 "nbformat": 4,
 "nbformat_minor": 5
}