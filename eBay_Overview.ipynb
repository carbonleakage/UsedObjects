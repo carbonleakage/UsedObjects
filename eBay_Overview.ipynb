{
 "cells": [
  {
   "cell_type": "code",
   "execution_count": 1,
   "id": "reverse-picking",
   "metadata": {
    "execution": {
     "iopub.execute_input": "2021-10-09T08:30:06.656599Z",
     "iopub.status.busy": "2021-10-09T08:30:06.654594Z",
     "iopub.status.idle": "2021-10-09T08:30:07.471580Z",
     "shell.execute_reply": "2021-10-09T08:30:07.472949Z"
    },
    "papermill": {
     "duration": 0.869894,
     "end_time": "2021-10-09T08:30:07.473589",
     "exception": false,
     "start_time": "2021-10-09T08:30:06.603695",
     "status": "completed"
    },
    "tags": []
   },
   "outputs": [],
   "source": [
    "import pandas as pd\n",
    "import sqlite3"
   ]
  },
  {
   "cell_type": "code",
   "execution_count": 2,
   "id": "innovative-syndrome",
   "metadata": {
    "execution": {
     "iopub.execute_input": "2021-10-09T08:30:07.524536Z",
     "iopub.status.busy": "2021-10-09T08:30:07.522548Z",
     "iopub.status.idle": "2021-10-09T08:30:08.022948Z",
     "shell.execute_reply": "2021-10-09T08:30:08.024105Z"
    },
    "papermill": {
     "duration": 0.529666,
     "end_time": "2021-10-09T08:30:08.024520",
     "exception": false,
     "start_time": "2021-10-09T08:30:07.494854",
     "status": "completed"
    },
    "tags": []
   },
   "outputs": [],
   "source": [
    "timestamps = pd.read_sql(\"select distinct record_time from EBAY_TOP_BERLIN order by record_time desc limit 2\", sqlite3.connect(\"UsedObjects.db\"))"
   ]
  },
  {
   "cell_type": "code",
   "execution_count": 3,
   "id": "periodic-identification",
   "metadata": {
    "execution": {
     "iopub.execute_input": "2021-10-09T08:30:08.099998Z",
     "iopub.status.busy": "2021-10-09T08:30:08.097367Z",
     "iopub.status.idle": "2021-10-09T08:30:08.120554Z",
     "shell.execute_reply": "2021-10-09T08:30:08.121953Z"
    },
    "papermill": {
     "duration": 0.076531,
     "end_time": "2021-10-09T08:30:08.122438",
     "exception": false,
     "start_time": "2021-10-09T08:30:08.045907",
     "status": "completed"
    },
    "tags": []
   },
   "outputs": [
    {
     "data": {
      "text/html": [
       "<div>\n",
       "<style scoped>\n",
       "    .dataframe tbody tr th:only-of-type {\n",
       "        vertical-align: middle;\n",
       "    }\n",
       "\n",
       "    .dataframe tbody tr th {\n",
       "        vertical-align: top;\n",
       "    }\n",
       "\n",
       "    .dataframe thead th {\n",
       "        text-align: right;\n",
       "    }\n",
       "</style>\n",
       "<table border=\"1\" class=\"dataframe\">\n",
       "  <thead>\n",
       "    <tr style=\"text-align: right;\">\n",
       "      <th></th>\n",
       "      <th>RECORD_TIME</th>\n",
       "    </tr>\n",
       "  </thead>\n",
       "  <tbody>\n",
       "    <tr>\n",
       "      <th>0</th>\n",
       "      <td>2021-10-09 10:30</td>\n",
       "    </tr>\n",
       "    <tr>\n",
       "      <th>1</th>\n",
       "      <td>2021-10-09 10:00</td>\n",
       "    </tr>\n",
       "  </tbody>\n",
       "</table>\n",
       "</div>"
      ],
      "text/plain": [
       "        RECORD_TIME\n",
       "0  2021-10-09 10:30\n",
       "1  2021-10-09 10:00"
      ]
     },
     "execution_count": 3,
     "metadata": {},
     "output_type": "execute_result"
    }
   ],
   "source": [
    "timestamps"
   ]
  },
  {
   "cell_type": "code",
   "execution_count": 4,
   "id": "alternate-victory",
   "metadata": {
    "execution": {
     "iopub.execute_input": "2021-10-09T08:30:08.174417Z",
     "iopub.status.busy": "2021-10-09T08:30:08.172490Z",
     "iopub.status.idle": "2021-10-09T08:30:08.900001Z",
     "shell.execute_reply": "2021-10-09T08:30:08.901290Z"
    },
    "papermill": {
     "duration": 0.758112,
     "end_time": "2021-10-09T08:30:08.901745",
     "exception": false,
     "start_time": "2021-10-09T08:30:08.143633",
     "status": "completed"
    },
    "tags": []
   },
   "outputs": [],
   "source": [
    "df = pd.read_sql(\"select * from EBAY_TOP_BERLIN where record_time in (select distinct record_time from EBAY_TOP_BERLIN order by record_time desc limit 2)\", sqlite3.connect(\"UsedObjects.db\"))"
   ]
  },
  {
   "cell_type": "code",
   "execution_count": 5,
   "id": "popular-active",
   "metadata": {
    "execution": {
     "iopub.execute_input": "2021-10-09T08:30:08.973862Z",
     "iopub.status.busy": "2021-10-09T08:30:08.966388Z",
     "iopub.status.idle": "2021-10-09T08:30:08.989612Z",
     "shell.execute_reply": "2021-10-09T08:30:08.991025Z"
    },
    "papermill": {
     "duration": 0.068886,
     "end_time": "2021-10-09T08:30:08.991441",
     "exception": false,
     "start_time": "2021-10-09T08:30:08.922555",
     "status": "completed"
    },
    "tags": []
   },
   "outputs": [],
   "source": [
    "df_pivot = df.pivot_table(index=\"PRODUCT\", columns = \"RECORD_TIME\", values = \"LISTING_COUNT\")"
   ]
  },
  {
   "cell_type": "code",
   "execution_count": 6,
   "id": "union-huntington",
   "metadata": {
    "execution": {
     "iopub.execute_input": "2021-10-09T08:30:09.049539Z",
     "iopub.status.busy": "2021-10-09T08:30:09.047528Z",
     "iopub.status.idle": "2021-10-09T08:30:09.053086Z",
     "shell.execute_reply": "2021-10-09T08:30:09.054277Z"
    },
    "papermill": {
     "duration": 0.040652,
     "end_time": "2021-10-09T08:30:09.054705",
     "exception": false,
     "start_time": "2021-10-09T08:30:09.014053",
     "status": "completed"
    },
    "tags": []
   },
   "outputs": [],
   "source": [
    "df_pivot.columns = [\"stamp_1\", \"stamp_2\"]\n",
    "df_pivot_diff = df_pivot.diff(axis=1)"
   ]
  },
  {
   "cell_type": "code",
   "execution_count": 7,
   "id": "fifth-motion",
   "metadata": {
    "execution": {
     "iopub.execute_input": "2021-10-09T08:30:09.110596Z",
     "iopub.status.busy": "2021-10-09T08:30:09.107995Z",
     "iopub.status.idle": "2021-10-09T08:30:10.615379Z",
     "shell.execute_reply": "2021-10-09T08:30:10.616912Z"
    },
    "papermill": {
     "duration": 1.541802,
     "end_time": "2021-10-09T08:30:10.617385",
     "exception": false,
     "start_time": "2021-10-09T08:30:09.075583",
     "status": "completed"
    },
    "tags": []
   },
   "outputs": [
    {
     "data": {
      "text/plain": [
       "<AxesSubplot:ylabel='PRODUCT'>"
      ]
     },
     "execution_count": 7,
     "metadata": {},
     "output_type": "execute_result"
    },
    {
     "data": {
      "image/png": "[encoded data removed]",
      "text/plain": [
       "<Figure size 432x288 with 1 Axes>"
      ]
     },
     "metadata": {
      "needs_background": "light"
     },
     "output_type": "display_data"
    }
   ],
   "source": [
    "df_pivot_diff.sort_values(\"stamp_2\", ascending = False)[\"stamp_2\"].head(10).plot.barh()"
   ]
  },
  {
   "cell_type": "code",
   "execution_count": null,
   "id": "extra-executive",
   "metadata": {
    "papermill": {
     "duration": 0.022295,
     "end_time": "2021-10-09T08:30:10.664652",
     "exception": false,
     "start_time": "2021-10-09T08:30:10.642357",
     "status": "completed"
    },
    "tags": []
   },
   "outputs": [],
   "source": []
  }
 ],
 "metadata": {
  "kernelspec": {
   "display_name": "Python 3",
   "language": "python",
   "name": "python3"
  },
  "language_info": {
   "codemirror_mode": {
    "name": "ipython",
    "version": 3
   },
   "file_extension": ".py",
   "mimetype": "text/x-python",
   "name": "python",
   "nbconvert_exporter": "python",
   "pygments_lexer": "ipython3",
   "version": "3.9.5"
  },
  "papermill": {
   "default_parameters": {},
   "duration": 7.831813,
   "end_time": "2021-10-09T08:30:12.017602",
   "environment_variables": {},
   "exception": null,
   "input_path": "eBay_Overview.ipynb",
   "output_path": "eBay_Overview.ipynb",
   "parameters": {},
   "start_time": "2021-10-09T08:30:04.185789",
   "version": "2.3.3"
  }
 },
 "nbformat": 4,
 "nbformat_minor": 5
}