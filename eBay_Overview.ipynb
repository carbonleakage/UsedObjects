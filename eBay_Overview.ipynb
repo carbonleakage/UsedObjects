{
 "cells": [
  {
   "cell_type": "code",
   "execution_count": 1,
   "id": "reverse-picking",
   "metadata": {
    "execution": {
     "iopub.execute_input": "2021-12-04T08:30:08.219004Z",
     "iopub.status.busy": "2021-12-04T08:30:08.216482Z",
     "iopub.status.idle": "2021-12-04T08:30:09.143206Z",
     "shell.execute_reply": "2021-12-04T08:30:09.144927Z"
    },
    "papermill": {
     "duration": 0.977081,
     "end_time": "2021-12-04T08:30:09.145681",
     "exception": false,
     "start_time": "2021-12-04T08:30:08.168600",
     "status": "completed"
    },
    "tags": []
   },
   "outputs": [],
   "source": [
    "import pandas as pd\n",
    "import sqlite3"
   ]
  },
  {
   "cell_type": "code",
   "execution_count": 2,
   "id": "innovative-syndrome",
   "metadata": {
    "execution": {
     "iopub.execute_input": "2021-12-04T08:30:09.208867Z",
     "iopub.status.busy": "2021-12-04T08:30:09.206608Z",
     "iopub.status.idle": "2021-12-04T08:30:10.208230Z",
     "shell.execute_reply": "2021-12-04T08:30:10.210215Z"
    },
    "papermill": {
     "duration": 1.036986,
     "end_time": "2021-12-04T08:30:10.210647",
     "exception": false,
     "start_time": "2021-12-04T08:30:09.173661",
     "status": "completed"
    },
    "tags": []
   },
   "outputs": [],
   "source": [
    "timestamps = pd.read_sql(\"select distinct record_time from EBAY_TOP_BERLIN order by record_time desc limit 2\", sqlite3.connect(\"UsedObjects.db\"))"
   ]
  },
  {
   "cell_type": "code",
   "execution_count": 3,
   "id": "periodic-identification",
   "metadata": {
    "execution": {
     "iopub.execute_input": "2021-12-04T08:30:10.276202Z",
     "iopub.status.busy": "2021-12-04T08:30:10.274182Z",
     "iopub.status.idle": "2021-12-04T08:30:10.295314Z",
     "shell.execute_reply": "2021-12-04T08:30:10.296604Z"
    },
    "papermill": {
     "duration": 0.065891,
     "end_time": "2021-12-04T08:30:10.297103",
     "exception": false,
     "start_time": "2021-12-04T08:30:10.231212",
     "status": "completed"
    },
    "tags": []
   },
   "outputs": [
    {
     "data": {
      "text/html": [
       "<div>\n",
       "<style scoped>\n",
       "    .dataframe tbody tr th:only-of-type {\n",
       "        vertical-align: middle;\n",
       "    }\n",
       "\n",
       "    .dataframe tbody tr th {\n",
       "        vertical-align: top;\n",
       "    }\n",
       "\n",
       "    .dataframe thead th {\n",
       "        text-align: right;\n",
       "    }\n",
       "</style>\n",
       "<table border=\"1\" class=\"dataframe\">\n",
       "  <thead>\n",
       "    <tr style=\"text-align: right;\">\n",
       "      <th></th>\n",
       "      <th>RECORD_TIME</th>\n",
       "    </tr>\n",
       "  </thead>\n",
       "  <tbody>\n",
       "    <tr>\n",
       "      <th>0</th>\n",
       "      <td>2021-12-04 09:30</td>\n",
       "    </tr>\n",
       "    <tr>\n",
       "      <th>1</th>\n",
       "      <td>2021-12-04 09:00</td>\n",
       "    </tr>\n",
       "  </tbody>\n",
       "</table>\n",
       "</div>"
      ],
      "text/plain": [
       "        RECORD_TIME\n",
       "0  2021-12-04 09:30\n",
       "1  2021-12-04 09:00"
      ]
     },
     "execution_count": 3,
     "metadata": {},
     "output_type": "execute_result"
    }
   ],
   "source": [
    "timestamps"
   ]
  },
  {
   "cell_type": "code",
   "execution_count": 4,
   "id": "alternate-victory",
   "metadata": {
    "execution": {
     "iopub.execute_input": "2021-12-04T08:30:10.348943Z",
     "iopub.status.busy": "2021-12-04T08:30:10.346883Z",
     "iopub.status.idle": "2021-12-04T08:30:11.787894Z",
     "shell.execute_reply": "2021-12-04T08:30:11.789262Z"
    },
    "papermill": {
     "duration": 1.471314,
     "end_time": "2021-12-04T08:30:11.789768",
     "exception": false,
     "start_time": "2021-12-04T08:30:10.318454",
     "status": "completed"
    },
    "tags": []
   },
   "outputs": [],
   "source": [
    "df = pd.read_sql(\"select * from EBAY_TOP_BERLIN where record_time in (select distinct record_time from EBAY_TOP_BERLIN order by record_time desc limit 2)\", sqlite3.connect(\"UsedObjects.db\"))"
   ]
  },
  {
   "cell_type": "code",
   "execution_count": 5,
   "id": "popular-active",
   "metadata": {
    "execution": {
     "iopub.execute_input": "2021-12-04T08:30:11.875774Z",
     "iopub.status.busy": "2021-12-04T08:30:11.862514Z",
     "iopub.status.idle": "2021-12-04T08:30:11.894722Z",
     "shell.execute_reply": "2021-12-04T08:30:11.896016Z"
    },
    "papermill": {
     "duration": 0.084403,
     "end_time": "2021-12-04T08:30:11.896425",
     "exception": false,
     "start_time": "2021-12-04T08:30:11.812022",
     "status": "completed"
    },
    "tags": []
   },
   "outputs": [],
   "source": [
    "df_pivot = df.pivot_table(index=\"PRODUCT\", columns = \"RECORD_TIME\", values = \"LISTING_COUNT\")"
   ]
  },
  {
   "cell_type": "code",
   "execution_count": 6,
   "id": "union-huntington",
   "metadata": {
    "execution": {
     "iopub.execute_input": "2021-12-04T08:30:11.955234Z",
     "iopub.status.busy": "2021-12-04T08:30:11.953036Z",
     "iopub.status.idle": "2021-12-04T08:30:11.959124Z",
     "shell.execute_reply": "2021-12-04T08:30:11.960475Z"
    },
    "papermill": {
     "duration": 0.04375,
     "end_time": "2021-12-04T08:30:11.960994",
     "exception": false,
     "start_time": "2021-12-04T08:30:11.917244",
     "status": "completed"
    },
    "tags": []
   },
   "outputs": [],
   "source": [
    "df_pivot.columns = [\"stamp_1\", \"stamp_2\"]\n",
    "df_pivot_diff = df_pivot.diff(axis=1)"
   ]
  },
  {
   "cell_type": "code",
   "execution_count": 7,
   "id": "fifth-motion",
   "metadata": {
    "execution": {
     "iopub.execute_input": "2021-12-04T08:30:12.050367Z",
     "iopub.status.busy": "2021-12-04T08:30:12.047905Z",
     "iopub.status.idle": "2021-12-04T08:30:14.059312Z",
     "shell.execute_reply": "2021-12-04T08:30:14.060975Z"
    },
    "papermill": {
     "duration": 2.080603,
     "end_time": "2021-12-04T08:30:14.061504",
     "exception": false,
     "start_time": "2021-12-04T08:30:11.980901",
     "status": "completed"
    },
    "tags": []
   },
   "outputs": [
    {
     "data": {
      "text/plain": [
       "<AxesSubplot:ylabel='PRODUCT'>"
      ]
     },
     "execution_count": 7,
     "metadata": {},
     "output_type": "execute_result"
    },
    {
     "data": {
      "image/png": "[encoded data removed]",
      "text/plain": [
       "<Figure size 432x288 with 1 Axes>"
      ]
     },
     "metadata": {
      "needs_background": "light"
     },
     "output_type": "display_data"
    }
   ],
   "source": [
    "df_pivot_diff.sort_values(\"stamp_2\", ascending = False)[\"stamp_2\"].head(10).plot.barh()"
   ]
  },
  {
   "cell_type": "code",
   "execution_count": null,
   "id": "extra-executive",
   "metadata": {
    "papermill": {
     "duration": 0.024191,
     "end_time": "2021-12-04T08:30:14.110589",
     "exception": false,
     "start_time": "2021-12-04T08:30:14.086398",
     "status": "completed"
    },
    "tags": []
   },
   "outputs": [],
   "source": []
  }
 ],
 "metadata": {
  "kernelspec": {
   "display_name": "Python 3",
   "language": "python",
   "name": "python3"
  },
  "language_info": {
   "codemirror_mode": {
    "name": "ipython",
    "version": 3
   },
   "file_extension": ".py",
   "mimetype": "text/x-python",
   "name": "python",
   "nbconvert_exporter": "python",
   "pygments_lexer": "ipython3",
   "version": "3.9.5"
  },
  "papermill": {
   "default_parameters": {},
   "duration": 9.934832,
   "end_time": "2021-12-04T08:30:15.374048",
   "environment_variables": {},
   "exception": null,
   "input_path": "eBay_Overview.ipynb",
   "output_path": "eBay_Overview.ipynb",
   "parameters": {},
   "start_time": "2021-12-04T08:30:05.439216",
   "version": "2.3.3"
  }
 },
 "nbformat": 4,
 "nbformat_minor": 5
}