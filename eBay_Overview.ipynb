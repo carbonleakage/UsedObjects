{
 "cells": [
  {
   "cell_type": "code",
   "execution_count": 1,
   "id": "reverse-picking",
   "metadata": {
    "execution": {
     "iopub.execute_input": "2021-09-18T04:30:07.492193Z",
     "iopub.status.busy": "2021-09-18T04:30:07.490224Z",
     "iopub.status.idle": "2021-09-18T04:30:08.291651Z",
     "shell.execute_reply": "2021-09-18T04:30:08.292987Z"
    },
    "papermill": {
     "duration": 0.851789,
     "end_time": "2021-09-18T04:30:08.293627",
     "exception": false,
     "start_time": "2021-09-18T04:30:07.441838",
     "status": "completed"
    },
    "tags": []
   },
   "outputs": [],
   "source": [
    "import pandas as pd\n",
    "import sqlite3"
   ]
  },
  {
   "cell_type": "code",
   "execution_count": 2,
   "id": "innovative-syndrome",
   "metadata": {
    "execution": {
     "iopub.execute_input": "2021-09-18T04:30:08.344365Z",
     "iopub.status.busy": "2021-09-18T04:30:08.342414Z",
     "iopub.status.idle": "2021-09-18T04:30:08.654267Z",
     "shell.execute_reply": "2021-09-18T04:30:08.655801Z"
    },
    "papermill": {
     "duration": 0.341387,
     "end_time": "2021-09-18T04:30:08.656234",
     "exception": false,
     "start_time": "2021-09-18T04:30:08.314847",
     "status": "completed"
    },
    "tags": []
   },
   "outputs": [],
   "source": [
    "timestamps = pd.read_sql(\"select distinct record_time from EBAY_TOP_BERLIN order by record_time desc limit 2\", sqlite3.connect(\"UsedObjects.db\"))"
   ]
  },
  {
   "cell_type": "code",
   "execution_count": 3,
   "id": "periodic-identification",
   "metadata": {
    "execution": {
     "iopub.execute_input": "2021-09-18T04:30:08.723537Z",
     "iopub.status.busy": "2021-09-18T04:30:08.721456Z",
     "iopub.status.idle": "2021-09-18T04:30:08.741380Z",
     "shell.execute_reply": "2021-09-18T04:30:08.742630Z"
    },
    "papermill": {
     "duration": 0.066161,
     "end_time": "2021-09-18T04:30:08.743129",
     "exception": false,
     "start_time": "2021-09-18T04:30:08.676968",
     "status": "completed"
    },
    "tags": []
   },
   "outputs": [
    {
     "data": {
      "text/html": [
       "<div>\n",
       "<style scoped>\n",
       "    .dataframe tbody tr th:only-of-type {\n",
       "        vertical-align: middle;\n",
       "    }\n",
       "\n",
       "    .dataframe tbody tr th {\n",
       "        vertical-align: top;\n",
       "    }\n",
       "\n",
       "    .dataframe thead th {\n",
       "        text-align: right;\n",
       "    }\n",
       "</style>\n",
       "<table border=\"1\" class=\"dataframe\">\n",
       "  <thead>\n",
       "    <tr style=\"text-align: right;\">\n",
       "      <th></th>\n",
       "      <th>RECORD_TIME</th>\n",
       "    </tr>\n",
       "  </thead>\n",
       "  <tbody>\n",
       "    <tr>\n",
       "      <th>0</th>\n",
       "      <td>2021-09-18 06:30</td>\n",
       "    </tr>\n",
       "    <tr>\n",
       "      <th>1</th>\n",
       "      <td>2021-09-18 06:00</td>\n",
       "    </tr>\n",
       "  </tbody>\n",
       "</table>\n",
       "</div>"
      ],
      "text/plain": [
       "        RECORD_TIME\n",
       "0  2021-09-18 06:30\n",
       "1  2021-09-18 06:00"
      ]
     },
     "execution_count": 3,
     "metadata": {},
     "output_type": "execute_result"
    }
   ],
   "source": [
    "timestamps"
   ]
  },
  {
   "cell_type": "code",
   "execution_count": 4,
   "id": "alternate-victory",
   "metadata": {
    "execution": {
     "iopub.execute_input": "2021-09-18T04:30:08.794710Z",
     "iopub.status.busy": "2021-09-18T04:30:08.792805Z",
     "iopub.status.idle": "2021-09-18T04:30:09.254599Z",
     "shell.execute_reply": "2021-09-18T04:30:09.256043Z"
    },
    "papermill": {
     "duration": 0.492156,
     "end_time": "2021-09-18T04:30:09.256483",
     "exception": false,
     "start_time": "2021-09-18T04:30:08.764327",
     "status": "completed"
    },
    "tags": []
   },
   "outputs": [],
   "source": [
    "df = pd.read_sql(\"select * from EBAY_TOP_BERLIN where record_time in (select distinct record_time from EBAY_TOP_BERLIN order by record_time desc limit 2)\", sqlite3.connect(\"UsedObjects.db\"))"
   ]
  },
  {
   "cell_type": "code",
   "execution_count": 5,
   "id": "popular-active",
   "metadata": {
    "execution": {
     "iopub.execute_input": "2021-09-18T04:30:09.340193Z",
     "iopub.status.busy": "2021-09-18T04:30:09.327066Z",
     "iopub.status.idle": "2021-09-18T04:30:09.355861Z",
     "shell.execute_reply": "2021-09-18T04:30:09.357072Z"
    },
    "papermill": {
     "duration": 0.071675,
     "end_time": "2021-09-18T04:30:09.357465",
     "exception": false,
     "start_time": "2021-09-18T04:30:09.285790",
     "status": "completed"
    },
    "tags": []
   },
   "outputs": [],
   "source": [
    "df_pivot = df.pivot_table(index=\"PRODUCT\", columns = \"RECORD_TIME\", values = \"LISTING_COUNT\")"
   ]
  },
  {
   "cell_type": "code",
   "execution_count": 6,
   "id": "union-huntington",
   "metadata": {
    "execution": {
     "iopub.execute_input": "2021-09-18T04:30:09.416952Z",
     "iopub.status.busy": "2021-09-18T04:30:09.414491Z",
     "iopub.status.idle": "2021-09-18T04:30:09.420445Z",
     "shell.execute_reply": "2021-09-18T04:30:09.421795Z"
    },
    "papermill": {
     "duration": 0.041964,
     "end_time": "2021-09-18T04:30:09.422265",
     "exception": false,
     "start_time": "2021-09-18T04:30:09.380301",
     "status": "completed"
    },
    "tags": []
   },
   "outputs": [],
   "source": [
    "df_pivot.columns = [\"stamp_1\", \"stamp_2\"]\n",
    "df_pivot_diff = df_pivot.diff(axis=1)"
   ]
  },
  {
   "cell_type": "code",
   "execution_count": 7,
   "id": "fifth-motion",
   "metadata": {
    "execution": {
     "iopub.execute_input": "2021-09-18T04:30:09.476844Z",
     "iopub.status.busy": "2021-09-18T04:30:09.474290Z",
     "iopub.status.idle": "2021-09-18T04:30:10.947031Z",
     "shell.execute_reply": "2021-09-18T04:30:10.948419Z"
    },
    "papermill": {
     "duration": 1.505234,
     "end_time": "2021-09-18T04:30:10.948861",
     "exception": false,
     "start_time": "2021-09-18T04:30:09.443627",
     "status": "completed"
    },
    "tags": []
   },
   "outputs": [
    {
     "data": {
      "text/plain": [
       "<AxesSubplot:ylabel='PRODUCT'>"
      ]
     },
     "execution_count": 7,
     "metadata": {},
     "output_type": "execute_result"
    },
    {
     "data": {
      "image/png": "[encoded data removed]",
      "text/plain": [
       "<Figure size 432x288 with 1 Axes>"
      ]
     },
     "metadata": {
      "needs_background": "light"
     },
     "output_type": "display_data"
    }
   ],
   "source": [
    "df_pivot_diff.sort_values(\"stamp_2\", ascending = False)[\"stamp_2\"].head(10).plot.barh()"
   ]
  },
  {
   "cell_type": "code",
   "execution_count": null,
   "id": "extra-executive",
   "metadata": {
    "papermill": {
     "duration": 0.02202,
     "end_time": "2021-09-18T04:30:10.995358",
     "exception": false,
     "start_time": "2021-09-18T04:30:10.973338",
     "status": "completed"
    },
    "tags": []
   },
   "outputs": [],
   "source": []
  }
 ],
 "metadata": {
  "kernelspec": {
   "display_name": "Python 3",
   "language": "python",
   "name": "python3"
  },
  "language_info": {
   "codemirror_mode": {
    "name": "ipython",
    "version": 3
   },
   "file_extension": ".py",
   "mimetype": "text/x-python",
   "name": "python",
   "nbconvert_exporter": "python",
   "pygments_lexer": "ipython3",
   "version": "3.9.5"
  },
  "papermill": {
   "default_parameters": {},
   "duration": 6.587679,
   "end_time": "2021-09-18T04:30:11.635778",
   "environment_variables": {},
   "exception": null,
   "input_path": "eBay_Overview.ipynb",
   "output_path": "eBay_Overview.ipynb",
   "parameters": {},
   "start_time": "2021-09-18T04:30:05.048099",
   "version": "2.3.3"
  }
 },
 "nbformat": 4,
 "nbformat_minor": 5
}