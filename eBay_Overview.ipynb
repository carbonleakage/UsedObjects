{
 "cells": [
  {
   "cell_type": "code",
   "execution_count": 1,
   "id": "reverse-picking",
   "metadata": {
    "execution": {
     "iopub.execute_input": "2021-09-27T10:00:06.855360Z",
     "iopub.status.busy": "2021-09-27T10:00:06.853319Z",
     "iopub.status.idle": "2021-09-27T10:00:07.658651Z",
     "shell.execute_reply": "2021-09-27T10:00:07.660008Z"
    },
    "papermill": {
     "duration": 0.855984,
     "end_time": "2021-09-27T10:00:07.660639",
     "exception": false,
     "start_time": "2021-09-27T10:00:06.804655",
     "status": "completed"
    },
    "tags": []
   },
   "outputs": [],
   "source": [
    "import pandas as pd\n",
    "import sqlite3"
   ]
  },
  {
   "cell_type": "code",
   "execution_count": 2,
   "id": "innovative-syndrome",
   "metadata": {
    "execution": {
     "iopub.execute_input": "2021-09-27T10:00:07.711969Z",
     "iopub.status.busy": "2021-09-27T10:00:07.709887Z",
     "iopub.status.idle": "2021-09-27T10:00:08.099023Z",
     "shell.execute_reply": "2021-09-27T10:00:08.100327Z"
    },
    "papermill": {
     "duration": 0.418623,
     "end_time": "2021-09-27T10:00:08.100748",
     "exception": false,
     "start_time": "2021-09-27T10:00:07.682125",
     "status": "completed"
    },
    "tags": []
   },
   "outputs": [],
   "source": [
    "timestamps = pd.read_sql(\"select distinct record_time from EBAY_TOP_BERLIN order by record_time desc limit 2\", sqlite3.connect(\"UsedObjects.db\"))"
   ]
  },
  {
   "cell_type": "code",
   "execution_count": 3,
   "id": "periodic-identification",
   "metadata": {
    "execution": {
     "iopub.execute_input": "2021-09-27T10:00:08.166112Z",
     "iopub.status.busy": "2021-09-27T10:00:08.164054Z",
     "iopub.status.idle": "2021-09-27T10:00:08.184105Z",
     "shell.execute_reply": "2021-09-27T10:00:08.185248Z"
    },
    "papermill": {
     "duration": 0.065465,
     "end_time": "2021-09-27T10:00:08.185665",
     "exception": false,
     "start_time": "2021-09-27T10:00:08.120200",
     "status": "completed"
    },
    "tags": []
   },
   "outputs": [
    {
     "data": {
      "text/html": [
       "<div>\n",
       "<style scoped>\n",
       "    .dataframe tbody tr th:only-of-type {\n",
       "        vertical-align: middle;\n",
       "    }\n",
       "\n",
       "    .dataframe tbody tr th {\n",
       "        vertical-align: top;\n",
       "    }\n",
       "\n",
       "    .dataframe thead th {\n",
       "        text-align: right;\n",
       "    }\n",
       "</style>\n",
       "<table border=\"1\" class=\"dataframe\">\n",
       "  <thead>\n",
       "    <tr style=\"text-align: right;\">\n",
       "      <th></th>\n",
       "      <th>RECORD_TIME</th>\n",
       "    </tr>\n",
       "  </thead>\n",
       "  <tbody>\n",
       "    <tr>\n",
       "      <th>0</th>\n",
       "      <td>2021-09-27 12:00</td>\n",
       "    </tr>\n",
       "    <tr>\n",
       "      <th>1</th>\n",
       "      <td>2021-09-27 11:30</td>\n",
       "    </tr>\n",
       "  </tbody>\n",
       "</table>\n",
       "</div>"
      ],
      "text/plain": [
       "        RECORD_TIME\n",
       "0  2021-09-27 12:00\n",
       "1  2021-09-27 11:30"
      ]
     },
     "execution_count": 3,
     "metadata": {},
     "output_type": "execute_result"
    }
   ],
   "source": [
    "timestamps"
   ]
  },
  {
   "cell_type": "code",
   "execution_count": 4,
   "id": "alternate-victory",
   "metadata": {
    "execution": {
     "iopub.execute_input": "2021-09-27T10:00:08.237624Z",
     "iopub.status.busy": "2021-09-27T10:00:08.235479Z",
     "iopub.status.idle": "2021-09-27T10:00:08.814773Z",
     "shell.execute_reply": "2021-09-27T10:00:08.816135Z"
    },
    "papermill": {
     "duration": 0.610084,
     "end_time": "2021-09-27T10:00:08.816541",
     "exception": false,
     "start_time": "2021-09-27T10:00:08.206457",
     "status": "completed"
    },
    "tags": []
   },
   "outputs": [],
   "source": [
    "df = pd.read_sql(\"select * from EBAY_TOP_BERLIN where record_time in (select distinct record_time from EBAY_TOP_BERLIN order by record_time desc limit 2)\", sqlite3.connect(\"UsedObjects.db\"))"
   ]
  },
  {
   "cell_type": "code",
   "execution_count": 5,
   "id": "popular-active",
   "metadata": {
    "execution": {
     "iopub.execute_input": "2021-09-27T10:00:08.889159Z",
     "iopub.status.busy": "2021-09-27T10:00:08.878024Z",
     "iopub.status.idle": "2021-09-27T10:00:08.904971Z",
     "shell.execute_reply": "2021-09-27T10:00:08.906265Z"
    },
    "papermill": {
     "duration": 0.067767,
     "end_time": "2021-09-27T10:00:08.906679",
     "exception": false,
     "start_time": "2021-09-27T10:00:08.838912",
     "status": "completed"
    },
    "tags": []
   },
   "outputs": [],
   "source": [
    "df_pivot = df.pivot_table(index=\"PRODUCT\", columns = \"RECORD_TIME\", values = \"LISTING_COUNT\")"
   ]
  },
  {
   "cell_type": "code",
   "execution_count": 6,
   "id": "union-huntington",
   "metadata": {
    "execution": {
     "iopub.execute_input": "2021-09-27T10:00:08.963392Z",
     "iopub.status.busy": "2021-09-27T10:00:08.961183Z",
     "iopub.status.idle": "2021-09-27T10:00:08.966706Z",
     "shell.execute_reply": "2021-09-27T10:00:08.968437Z"
    },
    "papermill": {
     "duration": 0.041435,
     "end_time": "2021-09-27T10:00:08.969030",
     "exception": false,
     "start_time": "2021-09-27T10:00:08.927595",
     "status": "completed"
    },
    "tags": []
   },
   "outputs": [],
   "source": [
    "df_pivot.columns = [\"stamp_1\", \"stamp_2\"]\n",
    "df_pivot_diff = df_pivot.diff(axis=1)"
   ]
  },
  {
   "cell_type": "code",
   "execution_count": 7,
   "id": "fifth-motion",
   "metadata": {
    "execution": {
     "iopub.execute_input": "2021-09-27T10:00:09.024513Z",
     "iopub.status.busy": "2021-09-27T10:00:09.022076Z",
     "iopub.status.idle": "2021-09-27T10:00:10.494552Z",
     "shell.execute_reply": "2021-09-27T10:00:10.496052Z"
    },
    "papermill": {
     "duration": 1.505988,
     "end_time": "2021-09-27T10:00:10.496506",
     "exception": false,
     "start_time": "2021-09-27T10:00:08.990518",
     "status": "completed"
    },
    "tags": []
   },
   "outputs": [
    {
     "data": {
      "text/plain": [
       "<AxesSubplot:ylabel='PRODUCT'>"
      ]
     },
     "execution_count": 7,
     "metadata": {},
     "output_type": "execute_result"
    },
    {
     "data": {
      "image/png": "[encoded data removed]",
      "text/plain": [
       "<Figure size 432x288 with 1 Axes>"
      ]
     },
     "metadata": {
      "needs_background": "light"
     },
     "output_type": "display_data"
    }
   ],
   "source": [
    "df_pivot_diff.sort_values(\"stamp_2\", ascending = False)[\"stamp_2\"].head(10).plot.barh()"
   ]
  },
  {
   "cell_type": "code",
   "execution_count": null,
   "id": "extra-executive",
   "metadata": {
    "papermill": {
     "duration": 0.022104,
     "end_time": "2021-09-27T10:00:10.541715",
     "exception": false,
     "start_time": "2021-09-27T10:00:10.519611",
     "status": "completed"
    },
    "tags": []
   },
   "outputs": [],
   "source": []
  }
 ],
 "metadata": {
  "kernelspec": {
   "display_name": "Python 3",
   "language": "python",
   "name": "python3"
  },
  "language_info": {
   "codemirror_mode": {
    "name": "ipython",
    "version": 3
   },
   "file_extension": ".py",
   "mimetype": "text/x-python",
   "name": "python",
   "nbconvert_exporter": "python",
   "pygments_lexer": "ipython3",
   "version": "3.9.5"
  },
  "papermill": {
   "default_parameters": {},
   "duration": 6.785634,
   "end_time": "2021-09-27T10:00:11.182946",
   "environment_variables": {},
   "exception": null,
   "input_path": "eBay_Overview.ipynb",
   "output_path": "eBay_Overview.ipynb",
   "parameters": {},
   "start_time": "2021-09-27T10:00:04.397312",
   "version": "2.3.3"
  }
 },
 "nbformat": 4,
 "nbformat_minor": 5
}