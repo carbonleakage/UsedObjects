{
 "cells": [
  {
   "cell_type": "code",
   "execution_count": 1,
   "id": "reverse-picking",
   "metadata": {
    "execution": {
     "iopub.execute_input": "2021-12-12T15:30:07.375950Z",
     "iopub.status.busy": "2021-12-12T15:30:07.373699Z",
     "iopub.status.idle": "2021-12-12T15:30:08.328154Z",
     "shell.execute_reply": "2021-12-12T15:30:08.329834Z"
    },
    "papermill": {
     "duration": 1.004408,
     "end_time": "2021-12-12T15:30:08.330585",
     "exception": false,
     "start_time": "2021-12-12T15:30:07.326177",
     "status": "completed"
    },
    "tags": []
   },
   "outputs": [],
   "source": [
    "import pandas as pd\n",
    "import sqlite3"
   ]
  },
  {
   "cell_type": "code",
   "execution_count": 2,
   "id": "innovative-syndrome",
   "metadata": {
    "execution": {
     "iopub.execute_input": "2021-12-12T15:30:08.394107Z",
     "iopub.status.busy": "2021-12-12T15:30:08.391747Z",
     "iopub.status.idle": "2021-12-12T15:30:09.452533Z",
     "shell.execute_reply": "2021-12-12T15:30:09.454120Z"
    },
    "papermill": {
     "duration": 1.096485,
     "end_time": "2021-12-12T15:30:09.454595",
     "exception": false,
     "start_time": "2021-12-12T15:30:08.358110",
     "status": "completed"
    },
    "tags": []
   },
   "outputs": [],
   "source": [
    "timestamps = pd.read_sql(\"select distinct record_time from EBAY_TOP_BERLIN order by record_time desc limit 2\", sqlite3.connect(\"UsedObjects.db\"))"
   ]
  },
  {
   "cell_type": "code",
   "execution_count": 3,
   "id": "periodic-identification",
   "metadata": {
    "execution": {
     "iopub.execute_input": "2021-12-12T15:30:09.532513Z",
     "iopub.status.busy": "2021-12-12T15:30:09.526829Z",
     "iopub.status.idle": "2021-12-12T15:30:09.549383Z",
     "shell.execute_reply": "2021-12-12T15:30:09.550913Z"
    },
    "papermill": {
     "duration": 0.076068,
     "end_time": "2021-12-12T15:30:09.551496",
     "exception": false,
     "start_time": "2021-12-12T15:30:09.475428",
     "status": "completed"
    },
    "tags": []
   },
   "outputs": [
    {
     "data": {
      "text/html": [
       "<div>\n",
       "<style scoped>\n",
       "    .dataframe tbody tr th:only-of-type {\n",
       "        vertical-align: middle;\n",
       "    }\n",
       "\n",
       "    .dataframe tbody tr th {\n",
       "        vertical-align: top;\n",
       "    }\n",
       "\n",
       "    .dataframe thead th {\n",
       "        text-align: right;\n",
       "    }\n",
       "</style>\n",
       "<table border=\"1\" class=\"dataframe\">\n",
       "  <thead>\n",
       "    <tr style=\"text-align: right;\">\n",
       "      <th></th>\n",
       "      <th>RECORD_TIME</th>\n",
       "    </tr>\n",
       "  </thead>\n",
       "  <tbody>\n",
       "    <tr>\n",
       "      <th>0</th>\n",
       "      <td>2021-12-12 16:30</td>\n",
       "    </tr>\n",
       "    <tr>\n",
       "      <th>1</th>\n",
       "      <td>2021-12-12 16:00</td>\n",
       "    </tr>\n",
       "  </tbody>\n",
       "</table>\n",
       "</div>"
      ],
      "text/plain": [
       "        RECORD_TIME\n",
       "0  2021-12-12 16:30\n",
       "1  2021-12-12 16:00"
      ]
     },
     "execution_count": 3,
     "metadata": {},
     "output_type": "execute_result"
    }
   ],
   "source": [
    "timestamps"
   ]
  },
  {
   "cell_type": "code",
   "execution_count": 4,
   "id": "alternate-victory",
   "metadata": {
    "execution": {
     "iopub.execute_input": "2021-12-12T15:30:09.608071Z",
     "iopub.status.busy": "2021-12-12T15:30:09.605812Z",
     "iopub.status.idle": "2021-12-12T15:30:11.123918Z",
     "shell.execute_reply": "2021-12-12T15:30:11.125978Z"
    },
    "papermill": {
     "duration": 1.552538,
     "end_time": "2021-12-12T15:30:11.126435",
     "exception": false,
     "start_time": "2021-12-12T15:30:09.573897",
     "status": "completed"
    },
    "tags": []
   },
   "outputs": [],
   "source": [
    "df = pd.read_sql(\"select * from EBAY_TOP_BERLIN where record_time in (select distinct record_time from EBAY_TOP_BERLIN order by record_time desc limit 2)\", sqlite3.connect(\"UsedObjects.db\"))"
   ]
  },
  {
   "cell_type": "code",
   "execution_count": 5,
   "id": "popular-active",
   "metadata": {
    "execution": {
     "iopub.execute_input": "2021-12-12T15:30:11.206718Z",
     "iopub.status.busy": "2021-12-12T15:30:11.191795Z",
     "iopub.status.idle": "2021-12-12T15:30:11.227120Z",
     "shell.execute_reply": "2021-12-12T15:30:11.225351Z"
    },
    "papermill": {
     "duration": 0.079324,
     "end_time": "2021-12-12T15:30:11.227612",
     "exception": false,
     "start_time": "2021-12-12T15:30:11.148288",
     "status": "completed"
    },
    "tags": []
   },
   "outputs": [],
   "source": [
    "df_pivot = df.pivot_table(index=\"PRODUCT\", columns = \"RECORD_TIME\", values = \"LISTING_COUNT\")"
   ]
  },
  {
   "cell_type": "code",
   "execution_count": 6,
   "id": "union-huntington",
   "metadata": {
    "execution": {
     "iopub.execute_input": "2021-12-12T15:30:11.289970Z",
     "iopub.status.busy": "2021-12-12T15:30:11.287679Z",
     "iopub.status.idle": "2021-12-12T15:30:11.293358Z",
     "shell.execute_reply": "2021-12-12T15:30:11.294735Z"
    },
    "papermill": {
     "duration": 0.045279,
     "end_time": "2021-12-12T15:30:11.295211",
     "exception": false,
     "start_time": "2021-12-12T15:30:11.249932",
     "status": "completed"
    },
    "tags": []
   },
   "outputs": [],
   "source": [
    "df_pivot.columns = [\"stamp_1\", \"stamp_2\"]\n",
    "df_pivot_diff = df_pivot.diff(axis=1)"
   ]
  },
  {
   "cell_type": "code",
   "execution_count": 7,
   "id": "fifth-motion",
   "metadata": {
    "execution": {
     "iopub.execute_input": "2021-12-12T15:30:11.352321Z",
     "iopub.status.busy": "2021-12-12T15:30:11.349879Z",
     "iopub.status.idle": "2021-12-12T15:30:13.323744Z",
     "shell.execute_reply": "2021-12-12T15:30:13.326604Z"
    },
    "papermill": {
     "duration": 2.011889,
     "end_time": "2021-12-12T15:30:13.327452",
     "exception": false,
     "start_time": "2021-12-12T15:30:11.315563",
     "status": "completed"
    },
    "tags": []
   },
   "outputs": [
    {
     "data": {
      "text/plain": [
       "<AxesSubplot:ylabel='PRODUCT'>"
      ]
     },
     "execution_count": 7,
     "metadata": {},
     "output_type": "execute_result"
    },
    {
     "data": {
      "image/png": "[encoded data removed]",
      "text/plain": [
       "<Figure size 432x288 with 1 Axes>"
      ]
     },
     "metadata": {
      "needs_background": "light"
     },
     "output_type": "display_data"
    }
   ],
   "source": [
    "df_pivot_diff.sort_values(\"stamp_2\", ascending = False)[\"stamp_2\"].head(10).plot.barh()"
   ]
  },
  {
   "cell_type": "code",
   "execution_count": null,
   "id": "extra-executive",
   "metadata": {
    "papermill": {
     "duration": 0.036338,
     "end_time": "2021-12-12T15:30:13.409370",
     "exception": false,
     "start_time": "2021-12-12T15:30:13.373032",
     "status": "completed"
    },
    "tags": []
   },
   "outputs": [],
   "source": []
  }
 ],
 "metadata": {
  "kernelspec": {
   "display_name": "Python 3",
   "language": "python",
   "name": "python3"
  },
  "language_info": {
   "codemirror_mode": {
    "name": "ipython",
    "version": 3
   },
   "file_extension": ".py",
   "mimetype": "text/x-python",
   "name": "python",
   "nbconvert_exporter": "python",
   "pygments_lexer": "ipython3",
   "version": "3.9.5"
  },
  "papermill": {
   "default_parameters": {},
   "duration": 9.603878,
   "end_time": "2021-12-12T15:30:14.168185",
   "environment_variables": {},
   "exception": null,
   "input_path": "eBay_Overview.ipynb",
   "output_path": "eBay_Overview.ipynb",
   "parameters": {},
   "start_time": "2021-12-12T15:30:04.564307",
   "version": "2.3.3"
  }
 },
 "nbformat": 4,
 "nbformat_minor": 5
}