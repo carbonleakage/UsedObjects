{
 "cells": [
  {
   "cell_type": "code",
   "execution_count": 1,
   "id": "reverse-picking",
   "metadata": {
    "execution": {
     "iopub.execute_input": "2021-12-02T18:00:07.652996Z",
     "iopub.status.busy": "2021-12-02T18:00:07.650981Z",
     "iopub.status.idle": "2021-12-02T18:00:08.617975Z",
     "shell.execute_reply": "2021-12-02T18:00:08.619638Z"
    },
    "papermill": {
     "duration": 1.017288,
     "end_time": "2021-12-02T18:00:08.620365",
     "exception": false,
     "start_time": "2021-12-02T18:00:07.603077",
     "status": "completed"
    },
    "tags": []
   },
   "outputs": [],
   "source": [
    "import pandas as pd\n",
    "import sqlite3"
   ]
  },
  {
   "cell_type": "code",
   "execution_count": 2,
   "id": "innovative-syndrome",
   "metadata": {
    "execution": {
     "iopub.execute_input": "2021-12-02T18:00:08.734714Z",
     "iopub.status.busy": "2021-12-02T18:00:08.732350Z",
     "iopub.status.idle": "2021-12-02T18:00:09.725569Z",
     "shell.execute_reply": "2021-12-02T18:00:09.727666Z"
    },
    "papermill": {
     "duration": 1.027018,
     "end_time": "2021-12-02T18:00:09.728211",
     "exception": false,
     "start_time": "2021-12-02T18:00:08.701193",
     "status": "completed"
    },
    "tags": []
   },
   "outputs": [],
   "source": [
    "timestamps = pd.read_sql(\"select distinct record_time from EBAY_TOP_BERLIN order by record_time desc limit 2\", sqlite3.connect(\"UsedObjects.db\"))"
   ]
  },
  {
   "cell_type": "code",
   "execution_count": 3,
   "id": "periodic-identification",
   "metadata": {
    "execution": {
     "iopub.execute_input": "2021-12-02T18:00:09.801786Z",
     "iopub.status.busy": "2021-12-02T18:00:09.799391Z",
     "iopub.status.idle": "2021-12-02T18:00:09.821766Z",
     "shell.execute_reply": "2021-12-02T18:00:09.823189Z"
    },
    "papermill": {
     "duration": 0.075108,
     "end_time": "2021-12-02T18:00:09.823671",
     "exception": false,
     "start_time": "2021-12-02T18:00:09.748563",
     "status": "completed"
    },
    "tags": []
   },
   "outputs": [
    {
     "data": {
      "text/html": [
       "<div>\n",
       "<style scoped>\n",
       "    .dataframe tbody tr th:only-of-type {\n",
       "        vertical-align: middle;\n",
       "    }\n",
       "\n",
       "    .dataframe tbody tr th {\n",
       "        vertical-align: top;\n",
       "    }\n",
       "\n",
       "    .dataframe thead th {\n",
       "        text-align: right;\n",
       "    }\n",
       "</style>\n",
       "<table border=\"1\" class=\"dataframe\">\n",
       "  <thead>\n",
       "    <tr style=\"text-align: right;\">\n",
       "      <th></th>\n",
       "      <th>RECORD_TIME</th>\n",
       "    </tr>\n",
       "  </thead>\n",
       "  <tbody>\n",
       "    <tr>\n",
       "      <th>0</th>\n",
       "      <td>2021-12-02 19:00</td>\n",
       "    </tr>\n",
       "    <tr>\n",
       "      <th>1</th>\n",
       "      <td>2021-12-02 18:30</td>\n",
       "    </tr>\n",
       "  </tbody>\n",
       "</table>\n",
       "</div>"
      ],
      "text/plain": [
       "        RECORD_TIME\n",
       "0  2021-12-02 19:00\n",
       "1  2021-12-02 18:30"
      ]
     },
     "execution_count": 3,
     "metadata": {},
     "output_type": "execute_result"
    }
   ],
   "source": [
    "timestamps"
   ]
  },
  {
   "cell_type": "code",
   "execution_count": 4,
   "id": "alternate-victory",
   "metadata": {
    "execution": {
     "iopub.execute_input": "2021-12-02T18:00:09.878990Z",
     "iopub.status.busy": "2021-12-02T18:00:09.876827Z",
     "iopub.status.idle": "2021-12-02T18:00:11.251024Z",
     "shell.execute_reply": "2021-12-02T18:00:11.253284Z"
    },
    "papermill": {
     "duration": 1.408353,
     "end_time": "2021-12-02T18:00:11.253859",
     "exception": false,
     "start_time": "2021-12-02T18:00:09.845506",
     "status": "completed"
    },
    "tags": []
   },
   "outputs": [],
   "source": [
    "df = pd.read_sql(\"select * from EBAY_TOP_BERLIN where record_time in (select distinct record_time from EBAY_TOP_BERLIN order by record_time desc limit 2)\", sqlite3.connect(\"UsedObjects.db\"))"
   ]
  },
  {
   "cell_type": "code",
   "execution_count": 5,
   "id": "popular-active",
   "metadata": {
    "execution": {
     "iopub.execute_input": "2021-12-02T18:00:11.335303Z",
     "iopub.status.busy": "2021-12-02T18:00:11.322139Z",
     "iopub.status.idle": "2021-12-02T18:00:11.354816Z",
     "shell.execute_reply": "2021-12-02T18:00:11.356231Z"
    },
    "papermill": {
     "duration": 0.079221,
     "end_time": "2021-12-02T18:00:11.356796",
     "exception": false,
     "start_time": "2021-12-02T18:00:11.277575",
     "status": "completed"
    },
    "tags": []
   },
   "outputs": [],
   "source": [
    "df_pivot = df.pivot_table(index=\"PRODUCT\", columns = \"RECORD_TIME\", values = \"LISTING_COUNT\")"
   ]
  },
  {
   "cell_type": "code",
   "execution_count": 6,
   "id": "union-huntington",
   "metadata": {
    "execution": {
     "iopub.execute_input": "2021-12-02T18:00:11.417100Z",
     "iopub.status.busy": "2021-12-02T18:00:11.414932Z",
     "iopub.status.idle": "2021-12-02T18:00:11.420901Z",
     "shell.execute_reply": "2021-12-02T18:00:11.422369Z"
    },
    "papermill": {
     "duration": 0.044042,
     "end_time": "2021-12-02T18:00:11.422852",
     "exception": false,
     "start_time": "2021-12-02T18:00:11.378810",
     "status": "completed"
    },
    "tags": []
   },
   "outputs": [],
   "source": [
    "df_pivot.columns = [\"stamp_1\", \"stamp_2\"]\n",
    "df_pivot_diff = df_pivot.diff(axis=1)"
   ]
  },
  {
   "cell_type": "code",
   "execution_count": 7,
   "id": "fifth-motion",
   "metadata": {
    "execution": {
     "iopub.execute_input": "2021-12-02T18:00:11.479930Z",
     "iopub.status.busy": "2021-12-02T18:00:11.477383Z",
     "iopub.status.idle": "2021-12-02T18:00:13.418953Z",
     "shell.execute_reply": "2021-12-02T18:00:13.421492Z"
    },
    "papermill": {
     "duration": 1.979281,
     "end_time": "2021-12-02T18:00:13.422153",
     "exception": false,
     "start_time": "2021-12-02T18:00:11.442872",
     "status": "completed"
    },
    "tags": []
   },
   "outputs": [
    {
     "data": {
      "text/plain": [
       "<AxesSubplot:ylabel='PRODUCT'>"
      ]
     },
     "execution_count": 7,
     "metadata": {},
     "output_type": "execute_result"
    },
    {
     "data": {
      "image/png": "[encoded data removed]",
      "text/plain": [
       "<Figure size 432x288 with 1 Axes>"
      ]
     },
     "metadata": {
      "needs_background": "light"
     },
     "output_type": "display_data"
    }
   ],
   "source": [
    "df_pivot_diff.sort_values(\"stamp_2\", ascending = False)[\"stamp_2\"].head(10).plot.barh()"
   ]
  },
  {
   "cell_type": "code",
   "execution_count": null,
   "id": "extra-executive",
   "metadata": {
    "papermill": {
     "duration": 0.05781,
     "end_time": "2021-12-02T18:00:13.515230",
     "exception": false,
     "start_time": "2021-12-02T18:00:13.457420",
     "status": "completed"
    },
    "tags": []
   },
   "outputs": [],
   "source": []
  }
 ],
 "metadata": {
  "kernelspec": {
   "display_name": "Python 3",
   "language": "python",
   "name": "python3"
  },
  "language_info": {
   "codemirror_mode": {
    "name": "ipython",
    "version": 3
   },
   "file_extension": ".py",
   "mimetype": "text/x-python",
   "name": "python",
   "nbconvert_exporter": "python",
   "pygments_lexer": "ipython3",
   "version": "3.9.5"
  },
  "papermill": {
   "default_parameters": {},
   "duration": 9.944115,
   "end_time": "2021-12-02T18:00:14.787262",
   "environment_variables": {},
   "exception": null,
   "input_path": "eBay_Overview.ipynb",
   "output_path": "eBay_Overview.ipynb",
   "parameters": {},
   "start_time": "2021-12-02T18:00:04.843147",
   "version": "2.3.3"
  }
 },
 "nbformat": 4,
 "nbformat_minor": 5
}