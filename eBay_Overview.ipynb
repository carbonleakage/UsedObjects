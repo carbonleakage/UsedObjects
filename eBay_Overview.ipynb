{
 "cells": [
  {
   "cell_type": "code",
   "execution_count": 1,
   "id": "reverse-picking",
   "metadata": {
    "execution": {
     "iopub.execute_input": "2021-08-28T07:00:06.890089Z",
     "iopub.status.busy": "2021-08-28T07:00:06.888078Z",
     "iopub.status.idle": "2021-08-28T07:00:07.690628Z",
     "shell.execute_reply": "2021-08-28T07:00:07.691959Z"
    },
    "papermill": {
     "duration": 0.85521,
     "end_time": "2021-08-28T07:00:07.692661",
     "exception": false,
     "start_time": "2021-08-28T07:00:06.837451",
     "status": "completed"
    },
    "tags": []
   },
   "outputs": [],
   "source": [
    "import pandas as pd\n",
    "import sqlite3"
   ]
  },
  {
   "cell_type": "code",
   "execution_count": 2,
   "id": "innovative-syndrome",
   "metadata": {
    "execution": {
     "iopub.execute_input": "2021-08-28T07:00:07.743616Z",
     "iopub.status.busy": "2021-08-28T07:00:07.741571Z",
     "iopub.status.idle": "2021-08-28T07:00:07.888389Z",
     "shell.execute_reply": "2021-08-28T07:00:07.889620Z"
    },
    "papermill": {
     "duration": 0.177092,
     "end_time": "2021-08-28T07:00:07.890018",
     "exception": false,
     "start_time": "2021-08-28T07:00:07.712926",
     "status": "completed"
    },
    "tags": []
   },
   "outputs": [],
   "source": [
    "timestamps = pd.read_sql(\"select distinct record_time from EBAY_TOP_BERLIN order by record_time desc limit 2\", sqlite3.connect(\"UsedObjects.db\"))"
   ]
  },
  {
   "cell_type": "code",
   "execution_count": 3,
   "id": "periodic-identification",
   "metadata": {
    "execution": {
     "iopub.execute_input": "2021-08-28T07:00:07.953758Z",
     "iopub.status.busy": "2021-08-28T07:00:07.951574Z",
     "iopub.status.idle": "2021-08-28T07:00:07.972836Z",
     "shell.execute_reply": "2021-08-28T07:00:07.971455Z"
    },
    "papermill": {
     "duration": 0.063829,
     "end_time": "2021-08-28T07:00:07.973171",
     "exception": false,
     "start_time": "2021-08-28T07:00:07.909342",
     "status": "completed"
    },
    "tags": []
   },
   "outputs": [
    {
     "data": {
      "text/html": [
       "<div>\n",
       "<style scoped>\n",
       "    .dataframe tbody tr th:only-of-type {\n",
       "        vertical-align: middle;\n",
       "    }\n",
       "\n",
       "    .dataframe tbody tr th {\n",
       "        vertical-align: top;\n",
       "    }\n",
       "\n",
       "    .dataframe thead th {\n",
       "        text-align: right;\n",
       "    }\n",
       "</style>\n",
       "<table border=\"1\" class=\"dataframe\">\n",
       "  <thead>\n",
       "    <tr style=\"text-align: right;\">\n",
       "      <th></th>\n",
       "      <th>RECORD_TIME</th>\n",
       "    </tr>\n",
       "  </thead>\n",
       "  <tbody>\n",
       "    <tr>\n",
       "      <th>0</th>\n",
       "      <td>2021-08-28 09:00</td>\n",
       "    </tr>\n",
       "    <tr>\n",
       "      <th>1</th>\n",
       "      <td>2021-08-28 08:30</td>\n",
       "    </tr>\n",
       "  </tbody>\n",
       "</table>\n",
       "</div>"
      ],
      "text/plain": [
       "        RECORD_TIME\n",
       "0  2021-08-28 09:00\n",
       "1  2021-08-28 08:30"
      ]
     },
     "execution_count": 3,
     "metadata": {},
     "output_type": "execute_result"
    }
   ],
   "source": [
    "timestamps"
   ]
  },
  {
   "cell_type": "code",
   "execution_count": 4,
   "id": "alternate-victory",
   "metadata": {
    "execution": {
     "iopub.execute_input": "2021-08-28T07:00:08.024509Z",
     "iopub.status.busy": "2021-08-28T07:00:08.022490Z",
     "iopub.status.idle": "2021-08-28T07:00:08.238929Z",
     "shell.execute_reply": "2021-08-28T07:00:08.240137Z"
    },
    "papermill": {
     "duration": 0.24657,
     "end_time": "2021-08-28T07:00:08.240804",
     "exception": false,
     "start_time": "2021-08-28T07:00:07.994234",
     "status": "completed"
    },
    "tags": []
   },
   "outputs": [],
   "source": [
    "df = pd.read_sql(\"select * from EBAY_TOP_BERLIN where record_time in (select distinct record_time from EBAY_TOP_BERLIN order by record_time desc limit 2)\", sqlite3.connect(\"UsedObjects.db\"))"
   ]
  },
  {
   "cell_type": "code",
   "execution_count": 5,
   "id": "popular-active",
   "metadata": {
    "execution": {
     "iopub.execute_input": "2021-08-28T07:00:08.312424Z",
     "iopub.status.busy": "2021-08-28T07:00:08.301388Z",
     "iopub.status.idle": "2021-08-28T07:00:08.328903Z",
     "shell.execute_reply": "2021-08-28T07:00:08.330210Z"
    },
    "papermill": {
     "duration": 0.067278,
     "end_time": "2021-08-28T07:00:08.330606",
     "exception": false,
     "start_time": "2021-08-28T07:00:08.263328",
     "status": "completed"
    },
    "tags": []
   },
   "outputs": [],
   "source": [
    "df_pivot = df.pivot_table(index=\"PRODUCT\", columns = \"RECORD_TIME\", values = \"LISTING_COUNT\")"
   ]
  },
  {
   "cell_type": "code",
   "execution_count": 6,
   "id": "union-huntington",
   "metadata": {
    "execution": {
     "iopub.execute_input": "2021-08-28T07:00:08.386495Z",
     "iopub.status.busy": "2021-08-28T07:00:08.384355Z",
     "iopub.status.idle": "2021-08-28T07:00:08.391408Z",
     "shell.execute_reply": "2021-08-28T07:00:08.389948Z"
    },
    "papermill": {
     "duration": 0.041432,
     "end_time": "2021-08-28T07:00:08.391799",
     "exception": false,
     "start_time": "2021-08-28T07:00:08.350367",
     "status": "completed"
    },
    "tags": []
   },
   "outputs": [],
   "source": [
    "df_pivot.columns = [\"stamp_1\", \"stamp_2\"]\n",
    "df_pivot_diff = df_pivot.diff(axis=1)"
   ]
  },
  {
   "cell_type": "code",
   "execution_count": 7,
   "id": "fifth-motion",
   "metadata": {
    "execution": {
     "iopub.execute_input": "2021-08-28T07:00:08.448917Z",
     "iopub.status.busy": "2021-08-28T07:00:08.446238Z",
     "iopub.status.idle": "2021-08-28T07:00:09.948716Z",
     "shell.execute_reply": "2021-08-28T07:00:09.950156Z"
    },
    "papermill": {
     "duration": 1.53609,
     "end_time": "2021-08-28T07:00:09.950594",
     "exception": false,
     "start_time": "2021-08-28T07:00:08.414504",
     "status": "completed"
    },
    "tags": []
   },
   "outputs": [
    {
     "data": {
      "text/plain": [
       "<AxesSubplot:ylabel='PRODUCT'>"
      ]
     },
     "execution_count": 7,
     "metadata": {},
     "output_type": "execute_result"
    },
    {
     "data": {
      "image/png": "[encoded data removed]",
      "text/plain": [
       "<Figure size 432x288 with 1 Axes>"
      ]
     },
     "metadata": {
      "needs_background": "light"
     },
     "output_type": "display_data"
    }
   ],
   "source": [
    "df_pivot_diff.sort_values(\"stamp_2\", ascending = False)[\"stamp_2\"].head(10).plot.barh()"
   ]
  },
  {
   "cell_type": "code",
   "execution_count": null,
   "id": "extra-executive",
   "metadata": {
    "papermill": {
     "duration": 0.022032,
     "end_time": "2021-08-28T07:00:09.996118",
     "exception": false,
     "start_time": "2021-08-28T07:00:09.974086",
     "status": "completed"
    },
    "tags": []
   },
   "outputs": [],
   "source": []
  }
 ],
 "metadata": {
  "kernelspec": {
   "display_name": "Python 3",
   "language": "python",
   "name": "python3"
  },
  "language_info": {
   "codemirror_mode": {
    "name": "ipython",
    "version": 3
   },
   "file_extension": ".py",
   "mimetype": "text/x-python",
   "name": "python",
   "nbconvert_exporter": "python",
   "pygments_lexer": "ipython3",
   "version": "3.9.5"
  },
  "papermill": {
   "default_parameters": {},
   "duration": 6.817153,
   "end_time": "2021-08-28T07:00:11.239630",
   "environment_variables": {},
   "exception": null,
   "input_path": "eBay_Overview.ipynb",
   "output_path": "eBay_Overview.ipynb",
   "parameters": {},
   "start_time": "2021-08-28T07:00:04.422477",
   "version": "2.3.3"
  }
 },
 "nbformat": 4,
 "nbformat_minor": 5
}