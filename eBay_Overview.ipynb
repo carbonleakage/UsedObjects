{
 "cells": [
  {
   "cell_type": "code",
   "execution_count": 1,
   "id": "reverse-picking",
   "metadata": {
    "execution": {
     "iopub.execute_input": "2021-11-29T09:00:07.483599Z",
     "iopub.status.busy": "2021-11-29T09:00:07.481301Z",
     "iopub.status.idle": "2021-11-29T09:00:08.433200Z",
     "shell.execute_reply": "2021-11-29T09:00:08.434924Z"
    },
    "papermill": {
     "duration": 1.002217,
     "end_time": "2021-11-29T09:00:08.435665",
     "exception": false,
     "start_time": "2021-11-29T09:00:07.433448",
     "status": "completed"
    },
    "tags": []
   },
   "outputs": [],
   "source": [
    "import pandas as pd\n",
    "import sqlite3"
   ]
  },
  {
   "cell_type": "code",
   "execution_count": 2,
   "id": "innovative-syndrome",
   "metadata": {
    "execution": {
     "iopub.execute_input": "2021-11-29T09:00:08.551488Z",
     "iopub.status.busy": "2021-11-29T09:00:08.549277Z",
     "iopub.status.idle": "2021-11-29T09:00:09.510461Z",
     "shell.execute_reply": "2021-11-29T09:00:09.511724Z"
    },
    "papermill": {
     "duration": 0.994586,
     "end_time": "2021-11-29T09:00:09.512179",
     "exception": false,
     "start_time": "2021-11-29T09:00:08.517593",
     "status": "completed"
    },
    "tags": []
   },
   "outputs": [],
   "source": [
    "timestamps = pd.read_sql(\"select distinct record_time from EBAY_TOP_BERLIN order by record_time desc limit 2\", sqlite3.connect(\"UsedObjects.db\"))"
   ]
  },
  {
   "cell_type": "code",
   "execution_count": 3,
   "id": "periodic-identification",
   "metadata": {
    "execution": {
     "iopub.execute_input": "2021-11-29T09:00:09.579887Z",
     "iopub.status.busy": "2021-11-29T09:00:09.577784Z",
     "iopub.status.idle": "2021-11-29T09:00:09.599565Z",
     "shell.execute_reply": "2021-11-29T09:00:09.597980Z"
    },
    "papermill": {
     "duration": 0.067701,
     "end_time": "2021-11-29T09:00:09.599997",
     "exception": false,
     "start_time": "2021-11-29T09:00:09.532296",
     "status": "completed"
    },
    "tags": []
   },
   "outputs": [
    {
     "data": {
      "text/html": [
       "<div>\n",
       "<style scoped>\n",
       "    .dataframe tbody tr th:only-of-type {\n",
       "        vertical-align: middle;\n",
       "    }\n",
       "\n",
       "    .dataframe tbody tr th {\n",
       "        vertical-align: top;\n",
       "    }\n",
       "\n",
       "    .dataframe thead th {\n",
       "        text-align: right;\n",
       "    }\n",
       "</style>\n",
       "<table border=\"1\" class=\"dataframe\">\n",
       "  <thead>\n",
       "    <tr style=\"text-align: right;\">\n",
       "      <th></th>\n",
       "      <th>RECORD_TIME</th>\n",
       "    </tr>\n",
       "  </thead>\n",
       "  <tbody>\n",
       "    <tr>\n",
       "      <th>0</th>\n",
       "      <td>2021-11-29 10:00</td>\n",
       "    </tr>\n",
       "    <tr>\n",
       "      <th>1</th>\n",
       "      <td>2021-11-29 09:30</td>\n",
       "    </tr>\n",
       "  </tbody>\n",
       "</table>\n",
       "</div>"
      ],
      "text/plain": [
       "        RECORD_TIME\n",
       "0  2021-11-29 10:00\n",
       "1  2021-11-29 09:30"
      ]
     },
     "execution_count": 3,
     "metadata": {},
     "output_type": "execute_result"
    }
   ],
   "source": [
    "timestamps"
   ]
  },
  {
   "cell_type": "code",
   "execution_count": 4,
   "id": "alternate-victory",
   "metadata": {
    "execution": {
     "iopub.execute_input": "2021-11-29T09:00:09.654894Z",
     "iopub.status.busy": "2021-11-29T09:00:09.652805Z",
     "iopub.status.idle": "2021-11-29T09:00:11.046858Z",
     "shell.execute_reply": "2021-11-29T09:00:11.049007Z"
    },
    "papermill": {
     "duration": 1.426996,
     "end_time": "2021-11-29T09:00:11.049484",
     "exception": false,
     "start_time": "2021-11-29T09:00:09.622488",
     "status": "completed"
    },
    "tags": []
   },
   "outputs": [],
   "source": [
    "df = pd.read_sql(\"select * from EBAY_TOP_BERLIN where record_time in (select distinct record_time from EBAY_TOP_BERLIN order by record_time desc limit 2)\", sqlite3.connect(\"UsedObjects.db\"))"
   ]
  },
  {
   "cell_type": "code",
   "execution_count": 5,
   "id": "popular-active",
   "metadata": {
    "execution": {
     "iopub.execute_input": "2021-11-29T09:00:11.124750Z",
     "iopub.status.busy": "2021-11-29T09:00:11.112491Z",
     "iopub.status.idle": "2021-11-29T09:00:11.142988Z",
     "shell.execute_reply": "2021-11-29T09:00:11.144352Z"
    },
    "papermill": {
     "duration": 0.07344,
     "end_time": "2021-11-29T09:00:11.144937",
     "exception": false,
     "start_time": "2021-11-29T09:00:11.071497",
     "status": "completed"
    },
    "tags": []
   },
   "outputs": [],
   "source": [
    "df_pivot = df.pivot_table(index=\"PRODUCT\", columns = \"RECORD_TIME\", values = \"LISTING_COUNT\")"
   ]
  },
  {
   "cell_type": "code",
   "execution_count": 6,
   "id": "union-huntington",
   "metadata": {
    "execution": {
     "iopub.execute_input": "2021-11-29T09:00:11.203383Z",
     "iopub.status.busy": "2021-11-29T09:00:11.201135Z",
     "iopub.status.idle": "2021-11-29T09:00:11.208617Z",
     "shell.execute_reply": "2021-11-29T09:00:11.207118Z"
    },
    "papermill": {
     "duration": 0.044493,
     "end_time": "2021-11-29T09:00:11.209110",
     "exception": false,
     "start_time": "2021-11-29T09:00:11.164617",
     "status": "completed"
    },
    "tags": []
   },
   "outputs": [],
   "source": [
    "df_pivot.columns = [\"stamp_1\", \"stamp_2\"]\n",
    "df_pivot_diff = df_pivot.diff(axis=1)"
   ]
  },
  {
   "cell_type": "code",
   "execution_count": 7,
   "id": "fifth-motion",
   "metadata": {
    "execution": {
     "iopub.execute_input": "2021-11-29T09:00:11.267370Z",
     "iopub.status.busy": "2021-11-29T09:00:11.264841Z",
     "iopub.status.idle": "2021-11-29T09:00:13.291766Z",
     "shell.execute_reply": "2021-11-29T09:00:13.293485Z"
    },
    "papermill": {
     "duration": 2.06278,
     "end_time": "2021-11-29T09:00:13.294078",
     "exception": false,
     "start_time": "2021-11-29T09:00:11.231298",
     "status": "completed"
    },
    "tags": []
   },
   "outputs": [
    {
     "data": {
      "text/plain": [
       "<AxesSubplot:ylabel='PRODUCT'>"
      ]
     },
     "execution_count": 7,
     "metadata": {},
     "output_type": "execute_result"
    },
    {
     "data": {
      "image/png": "[encoded data removed]",
      "text/plain": [
       "<Figure size 432x288 with 1 Axes>"
      ]
     },
     "metadata": {
      "needs_background": "light"
     },
     "output_type": "display_data"
    }
   ],
   "source": [
    "df_pivot_diff.sort_values(\"stamp_2\", ascending = False)[\"stamp_2\"].head(10).plot.barh()"
   ]
  },
  {
   "cell_type": "code",
   "execution_count": null,
   "id": "extra-executive",
   "metadata": {
    "papermill": {
     "duration": 0.023611,
     "end_time": "2021-11-29T09:00:13.342574",
     "exception": false,
     "start_time": "2021-11-29T09:00:13.318963",
     "status": "completed"
    },
    "tags": []
   },
   "outputs": [],
   "source": []
  }
 ],
 "metadata": {
  "kernelspec": {
   "display_name": "Python 3",
   "language": "python",
   "name": "python3"
  },
  "language_info": {
   "codemirror_mode": {
    "name": "ipython",
    "version": 3
   },
   "file_extension": ".py",
   "mimetype": "text/x-python",
   "name": "python",
   "nbconvert_exporter": "python",
   "pygments_lexer": "ipython3",
   "version": "3.9.5"
  },
  "papermill": {
   "default_parameters": {},
   "duration": 9.94251,
   "end_time": "2021-11-29T09:00:14.626878",
   "environment_variables": {},
   "exception": null,
   "input_path": "eBay_Overview.ipynb",
   "output_path": "eBay_Overview.ipynb",
   "parameters": {},
   "start_time": "2021-11-29T09:00:04.684368",
   "version": "2.3.3"
  }
 },
 "nbformat": 4,
 "nbformat_minor": 5
}