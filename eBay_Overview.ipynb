{
 "cells": [
  {
   "cell_type": "code",
   "execution_count": 1,
   "id": "reverse-picking",
   "metadata": {
    "execution": {
     "iopub.execute_input": "2021-10-15T19:00:07.487241Z",
     "iopub.status.busy": "2021-10-15T19:00:07.485276Z",
     "iopub.status.idle": "2021-10-15T19:00:08.292196Z",
     "shell.execute_reply": "2021-10-15T19:00:08.293542Z"
    },
    "papermill": {
     "duration": 0.861056,
     "end_time": "2021-10-15T19:00:08.294180",
     "exception": false,
     "start_time": "2021-10-15T19:00:07.433124",
     "status": "completed"
    },
    "tags": []
   },
   "outputs": [],
   "source": [
    "import pandas as pd\n",
    "import sqlite3"
   ]
  },
  {
   "cell_type": "code",
   "execution_count": 2,
   "id": "innovative-syndrome",
   "metadata": {
    "execution": {
     "iopub.execute_input": "2021-10-15T19:00:08.347123Z",
     "iopub.status.busy": "2021-10-15T19:00:08.344923Z",
     "iopub.status.idle": "2021-10-15T19:00:08.894063Z",
     "shell.execute_reply": "2021-10-15T19:00:08.892649Z"
    },
    "papermill": {
     "duration": 0.577761,
     "end_time": "2021-10-15T19:00:08.894409",
     "exception": false,
     "start_time": "2021-10-15T19:00:08.316648",
     "status": "completed"
    },
    "tags": []
   },
   "outputs": [],
   "source": [
    "timestamps = pd.read_sql(\"select distinct record_time from EBAY_TOP_BERLIN order by record_time desc limit 2\", sqlite3.connect(\"UsedObjects.db\"))"
   ]
  },
  {
   "cell_type": "code",
   "execution_count": 3,
   "id": "periodic-identification",
   "metadata": {
    "execution": {
     "iopub.execute_input": "2021-10-15T19:00:08.974158Z",
     "iopub.status.busy": "2021-10-15T19:00:08.969125Z",
     "iopub.status.idle": "2021-10-15T19:00:08.989756Z",
     "shell.execute_reply": "2021-10-15T19:00:08.991185Z"
    },
    "papermill": {
     "duration": 0.068947,
     "end_time": "2021-10-15T19:00:08.991630",
     "exception": false,
     "start_time": "2021-10-15T19:00:08.922683",
     "status": "completed"
    },
    "tags": []
   },
   "outputs": [
    {
     "data": {
      "text/html": [
       "<div>\n",
       "<style scoped>\n",
       "    .dataframe tbody tr th:only-of-type {\n",
       "        vertical-align: middle;\n",
       "    }\n",
       "\n",
       "    .dataframe tbody tr th {\n",
       "        vertical-align: top;\n",
       "    }\n",
       "\n",
       "    .dataframe thead th {\n",
       "        text-align: right;\n",
       "    }\n",
       "</style>\n",
       "<table border=\"1\" class=\"dataframe\">\n",
       "  <thead>\n",
       "    <tr style=\"text-align: right;\">\n",
       "      <th></th>\n",
       "      <th>RECORD_TIME</th>\n",
       "    </tr>\n",
       "  </thead>\n",
       "  <tbody>\n",
       "    <tr>\n",
       "      <th>0</th>\n",
       "      <td>2021-10-15 21:00</td>\n",
       "    </tr>\n",
       "    <tr>\n",
       "      <th>1</th>\n",
       "      <td>2021-10-15 20:30</td>\n",
       "    </tr>\n",
       "  </tbody>\n",
       "</table>\n",
       "</div>"
      ],
      "text/plain": [
       "        RECORD_TIME\n",
       "0  2021-10-15 21:00\n",
       "1  2021-10-15 20:30"
      ]
     },
     "execution_count": 3,
     "metadata": {},
     "output_type": "execute_result"
    }
   ],
   "source": [
    "timestamps"
   ]
  },
  {
   "cell_type": "code",
   "execution_count": 4,
   "id": "alternate-victory",
   "metadata": {
    "execution": {
     "iopub.execute_input": "2021-10-15T19:00:09.044547Z",
     "iopub.status.busy": "2021-10-15T19:00:09.042240Z",
     "iopub.status.idle": "2021-10-15T19:00:09.829233Z",
     "shell.execute_reply": "2021-10-15T19:00:09.830586Z"
    },
    "papermill": {
     "duration": 0.81795,
     "end_time": "2021-10-15T19:00:09.830995",
     "exception": false,
     "start_time": "2021-10-15T19:00:09.013045",
     "status": "completed"
    },
    "tags": []
   },
   "outputs": [],
   "source": [
    "df = pd.read_sql(\"select * from EBAY_TOP_BERLIN where record_time in (select distinct record_time from EBAY_TOP_BERLIN order by record_time desc limit 2)\", sqlite3.connect(\"UsedObjects.db\"))"
   ]
  },
  {
   "cell_type": "code",
   "execution_count": 5,
   "id": "popular-active",
   "metadata": {
    "execution": {
     "iopub.execute_input": "2021-10-15T19:00:09.893332Z",
     "iopub.status.busy": "2021-10-15T19:00:09.891017Z",
     "iopub.status.idle": "2021-10-15T19:00:09.918458Z",
     "shell.execute_reply": "2021-10-15T19:00:09.919682Z"
    },
    "papermill": {
     "duration": 0.068544,
     "end_time": "2021-10-15T19:00:09.920086",
     "exception": false,
     "start_time": "2021-10-15T19:00:09.851542",
     "status": "completed"
    },
    "tags": []
   },
   "outputs": [],
   "source": [
    "df_pivot = df.pivot_table(index=\"PRODUCT\", columns = \"RECORD_TIME\", values = \"LISTING_COUNT\")"
   ]
  },
  {
   "cell_type": "code",
   "execution_count": 6,
   "id": "union-huntington",
   "metadata": {
    "execution": {
     "iopub.execute_input": "2021-10-15T19:00:09.977380Z",
     "iopub.status.busy": "2021-10-15T19:00:09.975225Z",
     "iopub.status.idle": "2021-10-15T19:00:09.980771Z",
     "shell.execute_reply": "2021-10-15T19:00:09.982027Z"
    },
    "papermill": {
     "duration": 0.040683,
     "end_time": "2021-10-15T19:00:09.982466",
     "exception": false,
     "start_time": "2021-10-15T19:00:09.941783",
     "status": "completed"
    },
    "tags": []
   },
   "outputs": [],
   "source": [
    "df_pivot.columns = [\"stamp_1\", \"stamp_2\"]\n",
    "df_pivot_diff = df_pivot.diff(axis=1)"
   ]
  },
  {
   "cell_type": "code",
   "execution_count": 7,
   "id": "fifth-motion",
   "metadata": {
    "execution": {
     "iopub.execute_input": "2021-10-15T19:00:10.040649Z",
     "iopub.status.busy": "2021-10-15T19:00:10.037986Z",
     "iopub.status.idle": "2021-10-15T19:00:11.537324Z",
     "shell.execute_reply": "2021-10-15T19:00:11.535840Z"
    },
    "papermill": {
     "duration": 1.531957,
     "end_time": "2021-10-15T19:00:11.537691",
     "exception": false,
     "start_time": "2021-10-15T19:00:10.005734",
     "status": "completed"
    },
    "tags": []
   },
   "outputs": [
    {
     "data": {
      "text/plain": [
       "<AxesSubplot:ylabel='PRODUCT'>"
      ]
     },
     "execution_count": 7,
     "metadata": {},
     "output_type": "execute_result"
    },
    {
     "data": {
      "image/png": "[encoded data removed]",
      "text/plain": [
       "<Figure size 432x288 with 1 Axes>"
      ]
     },
     "metadata": {
      "needs_background": "light"
     },
     "output_type": "display_data"
    }
   ],
   "source": [
    "df_pivot_diff.sort_values(\"stamp_2\", ascending = False)[\"stamp_2\"].head(10).plot.barh()"
   ]
  },
  {
   "cell_type": "code",
   "execution_count": null,
   "id": "extra-executive",
   "metadata": {
    "papermill": {
     "duration": 0.022512,
     "end_time": "2021-10-15T19:00:11.584495",
     "exception": false,
     "start_time": "2021-10-15T19:00:11.561983",
     "status": "completed"
    },
    "tags": []
   },
   "outputs": [],
   "source": []
  }
 ],
 "metadata": {
  "kernelspec": {
   "display_name": "Python 3",
   "language": "python",
   "name": "python3"
  },
  "language_info": {
   "codemirror_mode": {
    "name": "ipython",
    "version": 3
   },
   "file_extension": ".py",
   "mimetype": "text/x-python",
   "name": "python",
   "nbconvert_exporter": "python",
   "pygments_lexer": "ipython3",
   "version": "3.9.5"
  },
  "papermill": {
   "default_parameters": {},
   "duration": 7.83572,
   "end_time": "2021-10-15T19:00:12.868842",
   "environment_variables": {},
   "exception": null,
   "input_path": "eBay_Overview.ipynb",
   "output_path": "eBay_Overview.ipynb",
   "parameters": {},
   "start_time": "2021-10-15T19:00:05.033122",
   "version": "2.3.3"
  }
 },
 "nbformat": 4,
 "nbformat_minor": 5
}