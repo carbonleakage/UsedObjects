{
 "cells": [
  {
   "cell_type": "code",
   "execution_count": 1,
   "id": "reverse-picking",
   "metadata": {
    "execution": {
     "iopub.execute_input": "2021-09-01T14:00:07.144137Z",
     "iopub.status.busy": "2021-09-01T14:00:07.141000Z",
     "iopub.status.idle": "2021-09-01T14:00:07.946208Z",
     "shell.execute_reply": "2021-09-01T14:00:07.944608Z"
    },
    "papermill": {
     "duration": 0.855561,
     "end_time": "2021-09-01T14:00:07.946638",
     "exception": false,
     "start_time": "2021-09-01T14:00:07.091077",
     "status": "completed"
    },
    "tags": []
   },
   "outputs": [],
   "source": [
    "import pandas as pd\n",
    "import sqlite3"
   ]
  },
  {
   "cell_type": "code",
   "execution_count": 2,
   "id": "innovative-syndrome",
   "metadata": {
    "execution": {
     "iopub.execute_input": "2021-09-01T14:00:07.997789Z",
     "iopub.status.busy": "2021-09-01T14:00:07.995513Z",
     "iopub.status.idle": "2021-09-01T14:00:08.179571Z",
     "shell.execute_reply": "2021-09-01T14:00:08.180832Z"
    },
    "papermill": {
     "duration": 0.214213,
     "end_time": "2021-09-01T14:00:08.181231",
     "exception": false,
     "start_time": "2021-09-01T14:00:07.967018",
     "status": "completed"
    },
    "tags": []
   },
   "outputs": [],
   "source": [
    "timestamps = pd.read_sql(\"select distinct record_time from EBAY_TOP_BERLIN order by record_time desc limit 2\", sqlite3.connect(\"UsedObjects.db\"))"
   ]
  },
  {
   "cell_type": "code",
   "execution_count": 3,
   "id": "periodic-identification",
   "metadata": {
    "execution": {
     "iopub.execute_input": "2021-09-01T14:00:08.245259Z",
     "iopub.status.busy": "2021-09-01T14:00:08.243250Z",
     "iopub.status.idle": "2021-09-01T14:00:08.262993Z",
     "shell.execute_reply": "2021-09-01T14:00:08.264126Z"
    },
    "papermill": {
     "duration": 0.063902,
     "end_time": "2021-09-01T14:00:08.264540",
     "exception": false,
     "start_time": "2021-09-01T14:00:08.200638",
     "status": "completed"
    },
    "tags": []
   },
   "outputs": [
    {
     "data": {
      "text/html": [
       "<div>\n",
       "<style scoped>\n",
       "    .dataframe tbody tr th:only-of-type {\n",
       "        vertical-align: middle;\n",
       "    }\n",
       "\n",
       "    .dataframe tbody tr th {\n",
       "        vertical-align: top;\n",
       "    }\n",
       "\n",
       "    .dataframe thead th {\n",
       "        text-align: right;\n",
       "    }\n",
       "</style>\n",
       "<table border=\"1\" class=\"dataframe\">\n",
       "  <thead>\n",
       "    <tr style=\"text-align: right;\">\n",
       "      <th></th>\n",
       "      <th>RECORD_TIME</th>\n",
       "    </tr>\n",
       "  </thead>\n",
       "  <tbody>\n",
       "    <tr>\n",
       "      <th>0</th>\n",
       "      <td>2021-09-01 16:00</td>\n",
       "    </tr>\n",
       "    <tr>\n",
       "      <th>1</th>\n",
       "      <td>2021-09-01 15:30</td>\n",
       "    </tr>\n",
       "  </tbody>\n",
       "</table>\n",
       "</div>"
      ],
      "text/plain": [
       "        RECORD_TIME\n",
       "0  2021-09-01 16:00\n",
       "1  2021-09-01 15:30"
      ]
     },
     "execution_count": 3,
     "metadata": {},
     "output_type": "execute_result"
    }
   ],
   "source": [
    "timestamps"
   ]
  },
  {
   "cell_type": "code",
   "execution_count": 4,
   "id": "alternate-victory",
   "metadata": {
    "execution": {
     "iopub.execute_input": "2021-09-01T14:00:08.316450Z",
     "iopub.status.busy": "2021-09-01T14:00:08.314365Z",
     "iopub.status.idle": "2021-09-01T14:00:08.587623Z",
     "shell.execute_reply": "2021-09-01T14:00:08.588903Z"
    },
    "papermill": {
     "duration": 0.30322,
     "end_time": "2021-09-01T14:00:08.589304",
     "exception": false,
     "start_time": "2021-09-01T14:00:08.286084",
     "status": "completed"
    },
    "tags": []
   },
   "outputs": [],
   "source": [
    "df = pd.read_sql(\"select * from EBAY_TOP_BERLIN where record_time in (select distinct record_time from EBAY_TOP_BERLIN order by record_time desc limit 2)\", sqlite3.connect(\"UsedObjects.db\"))"
   ]
  },
  {
   "cell_type": "code",
   "execution_count": 5,
   "id": "popular-active",
   "metadata": {
    "execution": {
     "iopub.execute_input": "2021-09-01T14:00:08.668877Z",
     "iopub.status.busy": "2021-09-01T14:00:08.657018Z",
     "iopub.status.idle": "2021-09-01T14:00:08.684802Z",
     "shell.execute_reply": "2021-09-01T14:00:08.686059Z"
    },
    "papermill": {
     "duration": 0.071383,
     "end_time": "2021-09-01T14:00:08.686480",
     "exception": false,
     "start_time": "2021-09-01T14:00:08.615097",
     "status": "completed"
    },
    "tags": []
   },
   "outputs": [],
   "source": [
    "df_pivot = df.pivot_table(index=\"PRODUCT\", columns = \"RECORD_TIME\", values = \"LISTING_COUNT\")"
   ]
  },
  {
   "cell_type": "code",
   "execution_count": 6,
   "id": "union-huntington",
   "metadata": {
    "execution": {
     "iopub.execute_input": "2021-09-01T14:00:08.741758Z",
     "iopub.status.busy": "2021-09-01T14:00:08.739711Z",
     "iopub.status.idle": "2021-09-01T14:00:08.744888Z",
     "shell.execute_reply": "2021-09-01T14:00:08.746133Z"
    },
    "papermill": {
     "duration": 0.039986,
     "end_time": "2021-09-01T14:00:08.746552",
     "exception": false,
     "start_time": "2021-09-01T14:00:08.706566",
     "status": "completed"
    },
    "tags": []
   },
   "outputs": [],
   "source": [
    "df_pivot.columns = [\"stamp_1\", \"stamp_2\"]\n",
    "df_pivot_diff = df_pivot.diff(axis=1)"
   ]
  },
  {
   "cell_type": "code",
   "execution_count": 7,
   "id": "fifth-motion",
   "metadata": {
    "execution": {
     "iopub.execute_input": "2021-09-01T14:00:08.801640Z",
     "iopub.status.busy": "2021-09-01T14:00:08.799000Z",
     "iopub.status.idle": "2021-09-01T14:00:10.305468Z",
     "shell.execute_reply": "2021-09-01T14:00:10.306732Z"
    },
    "papermill": {
     "duration": 1.53965,
     "end_time": "2021-09-01T14:00:10.307234",
     "exception": false,
     "start_time": "2021-09-01T14:00:08.767584",
     "status": "completed"
    },
    "tags": []
   },
   "outputs": [
    {
     "data": {
      "text/plain": [
       "<AxesSubplot:ylabel='PRODUCT'>"
      ]
     },
     "execution_count": 7,
     "metadata": {},
     "output_type": "execute_result"
    },
    {
     "data": {
      "image/png": "[encoded data removed]",
      "text/plain": [
       "<Figure size 432x288 with 1 Axes>"
      ]
     },
     "metadata": {
      "needs_background": "light"
     },
     "output_type": "display_data"
    }
   ],
   "source": [
    "df_pivot_diff.sort_values(\"stamp_2\", ascending = False)[\"stamp_2\"].head(10).plot.barh()"
   ]
  },
  {
   "cell_type": "code",
   "execution_count": null,
   "id": "extra-executive",
   "metadata": {
    "papermill": {
     "duration": 0.022202,
     "end_time": "2021-09-01T14:00:10.352781",
     "exception": false,
     "start_time": "2021-09-01T14:00:10.330579",
     "status": "completed"
    },
    "tags": []
   },
   "outputs": [],
   "source": []
  }
 ],
 "metadata": {
  "kernelspec": {
   "display_name": "Python 3",
   "language": "python",
   "name": "python3"
  },
  "language_info": {
   "codemirror_mode": {
    "name": "ipython",
    "version": 3
   },
   "file_extension": ".py",
   "mimetype": "text/x-python",
   "name": "python",
   "nbconvert_exporter": "python",
   "pygments_lexer": "ipython3",
   "version": "3.9.5"
  },
  "papermill": {
   "default_parameters": {},
   "duration": 6.822204,
   "end_time": "2021-09-01T14:00:11.510652",
   "environment_variables": {},
   "exception": null,
   "input_path": "eBay_Overview.ipynb",
   "output_path": "eBay_Overview.ipynb",
   "parameters": {},
   "start_time": "2021-09-01T14:00:04.688448",
   "version": "2.3.3"
  }
 },
 "nbformat": 4,
 "nbformat_minor": 5
}