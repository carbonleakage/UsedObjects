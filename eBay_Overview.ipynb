{
 "cells": [
  {
   "cell_type": "code",
   "execution_count": 1,
   "id": "reverse-picking",
   "metadata": {
    "execution": {
     "iopub.execute_input": "2021-08-10T14:00:04.236725Z",
     "iopub.status.busy": "2021-08-10T14:00:04.235865Z",
     "iopub.status.idle": "2021-08-10T14:00:04.873052Z",
     "shell.execute_reply": "2021-08-10T14:00:04.872378Z"
    },
    "papermill": {
     "duration": 0.656312,
     "end_time": "2021-08-10T14:00:04.873271",
     "exception": false,
     "start_time": "2021-08-10T14:00:04.216959",
     "status": "completed"
    },
    "tags": []
   },
   "outputs": [],
   "source": [
    "import pandas as pd\n",
    "import sqlite3"
   ]
  },
  {
   "cell_type": "code",
   "execution_count": 2,
   "id": "innovative-syndrome",
   "metadata": {
    "execution": {
     "iopub.execute_input": "2021-08-10T14:00:04.901279Z",
     "iopub.status.busy": "2021-08-10T14:00:04.900427Z",
     "iopub.status.idle": "2021-08-10T14:00:05.137693Z",
     "shell.execute_reply": "2021-08-10T14:00:05.136962Z"
    },
    "papermill": {
     "duration": 0.255564,
     "end_time": "2021-08-10T14:00:05.137850",
     "exception": false,
     "start_time": "2021-08-10T14:00:04.882286",
     "status": "completed"
    },
    "tags": []
   },
   "outputs": [],
   "source": [
    "timestamps = pd.read_sql(\"select distinct record_time from EBAY_TOP_BERLIN order by record_time desc limit 2\", sqlite3.connect(\"UsedObjects.db\"))"
   ]
  },
  {
   "cell_type": "code",
   "execution_count": 3,
   "id": "periodic-identification",
   "metadata": {
    "execution": {
     "iopub.execute_input": "2021-08-10T14:00:05.171500Z",
     "iopub.status.busy": "2021-08-10T14:00:05.170720Z",
     "iopub.status.idle": "2021-08-10T14:00:05.183576Z",
     "shell.execute_reply": "2021-08-10T14:00:05.184594Z"
    },
    "papermill": {
     "duration": 0.039014,
     "end_time": "2021-08-10T14:00:05.184955",
     "exception": false,
     "start_time": "2021-08-10T14:00:05.145941",
     "status": "completed"
    },
    "tags": []
   },
   "outputs": [
    {
     "data": {
      "text/html": [
       "<div>\n",
       "<style scoped>\n",
       "    .dataframe tbody tr th:only-of-type {\n",
       "        vertical-align: middle;\n",
       "    }\n",
       "\n",
       "    .dataframe tbody tr th {\n",
       "        vertical-align: top;\n",
       "    }\n",
       "\n",
       "    .dataframe thead th {\n",
       "        text-align: right;\n",
       "    }\n",
       "</style>\n",
       "<table border=\"1\" class=\"dataframe\">\n",
       "  <thead>\n",
       "    <tr style=\"text-align: right;\">\n",
       "      <th></th>\n",
       "      <th>RECORD_TIME</th>\n",
       "    </tr>\n",
       "  </thead>\n",
       "  <tbody>\n",
       "    <tr>\n",
       "      <th>0</th>\n",
       "      <td>2021-08-10 16:00</td>\n",
       "    </tr>\n",
       "    <tr>\n",
       "      <th>1</th>\n",
       "      <td>2021-08-10 15:30</td>\n",
       "    </tr>\n",
       "  </tbody>\n",
       "</table>\n",
       "</div>"
      ],
      "text/plain": [
       "        RECORD_TIME\n",
       "0  2021-08-10 16:00\n",
       "1  2021-08-10 15:30"
      ]
     },
     "execution_count": 3,
     "metadata": {},
     "output_type": "execute_result"
    }
   ],
   "source": [
    "timestamps"
   ]
  },
  {
   "cell_type": "code",
   "execution_count": 4,
   "id": "alternate-victory",
   "metadata": {
    "execution": {
     "iopub.execute_input": "2021-08-10T14:00:05.208516Z",
     "iopub.status.busy": "2021-08-10T14:00:05.207740Z",
     "iopub.status.idle": "2021-08-10T14:00:05.225395Z",
     "shell.execute_reply": "2021-08-10T14:00:05.223669Z"
    },
    "papermill": {
     "duration": 0.030143,
     "end_time": "2021-08-10T14:00:05.225695",
     "exception": false,
     "start_time": "2021-08-10T14:00:05.195552",
     "status": "completed"
    },
    "tags": []
   },
   "outputs": [],
   "source": [
    "df = pd.read_sql(\"select * from EBAY_TOP_BERLIN where record_time in (select distinct record_time from EBAY_TOP_BERLIN order by record_time desc limit 2)\", sqlite3.connect(\"UsedObjects.db\"))"
   ]
  },
  {
   "cell_type": "code",
   "execution_count": 5,
   "id": "popular-active",
   "metadata": {
    "execution": {
     "iopub.execute_input": "2021-08-10T14:00:05.254040Z",
     "iopub.status.busy": "2021-08-10T14:00:05.253257Z",
     "iopub.status.idle": "2021-08-10T14:00:05.270748Z",
     "shell.execute_reply": "2021-08-10T14:00:05.269991Z"
    },
    "papermill": {
     "duration": 0.03527,
     "end_time": "2021-08-10T14:00:05.270916",
     "exception": false,
     "start_time": "2021-08-10T14:00:05.235646",
     "status": "completed"
    },
    "tags": []
   },
   "outputs": [],
   "source": [
    "df_pivot = df.pivot_table(index=\"PRODUCT\", columns = \"RECORD_TIME\", values = \"LISTING_COUNT\")"
   ]
  },
  {
   "cell_type": "code",
   "execution_count": 6,
   "id": "union-huntington",
   "metadata": {
    "execution": {
     "iopub.execute_input": "2021-08-10T14:00:05.295708Z",
     "iopub.status.busy": "2021-08-10T14:00:05.294856Z",
     "iopub.status.idle": "2021-08-10T14:00:05.297655Z",
     "shell.execute_reply": "2021-08-10T14:00:05.298188Z"
    },
    "papermill": {
     "duration": 0.01877,
     "end_time": "2021-08-10T14:00:05.298370",
     "exception": false,
     "start_time": "2021-08-10T14:00:05.279600",
     "status": "completed"
    },
    "tags": []
   },
   "outputs": [],
   "source": [
    "df_pivot.columns = [\"stamp_1\", \"stamp_2\"]\n",
    "df_pivot_diff = df_pivot.diff(axis=1)"
   ]
  },
  {
   "cell_type": "code",
   "execution_count": 7,
   "id": "fifth-motion",
   "metadata": {
    "execution": {
     "iopub.execute_input": "2021-08-10T14:00:05.331984Z",
     "iopub.status.busy": "2021-08-10T14:00:05.331195Z",
     "iopub.status.idle": "2021-08-10T14:00:05.983325Z",
     "shell.execute_reply": "2021-08-10T14:00:05.983901Z"
    },
    "papermill": {
     "duration": 0.671614,
     "end_time": "2021-08-10T14:00:05.984101",
     "exception": false,
     "start_time": "2021-08-10T14:00:05.312487",
     "status": "completed"
    },
    "tags": []
   },
   "outputs": [
    {
     "data": {
      "text/plain": [
       "<AxesSubplot:ylabel='PRODUCT'>"
      ]
     },
     "execution_count": 7,
     "metadata": {},
     "output_type": "execute_result"
    },
    {
     "data": {
      "image/png": "[encoded data removed]",
      "text/plain": [
       "<Figure size 432x288 with 1 Axes>"
      ]
     },
     "metadata": {
      "needs_background": "light"
     },
     "output_type": "display_data"
    }
   ],
   "source": [
    "df_pivot_diff.sort_values(\"stamp_2\", ascending = False)[\"stamp_2\"].head(10).plot.barh()"
   ]
  },
  {
   "cell_type": "code",
   "execution_count": null,
   "id": "extra-executive",
   "metadata": {
    "papermill": {
     "duration": 0.010385,
     "end_time": "2021-08-10T14:00:06.009362",
     "exception": false,
     "start_time": "2021-08-10T14:00:05.998977",
     "status": "completed"
    },
    "tags": []
   },
   "outputs": [],
   "source": []
  }
 ],
 "metadata": {
  "kernelspec": {
   "display_name": "Python 3",
   "language": "python",
   "name": "python3"
  },
  "language_info": {
   "codemirror_mode": {
    "name": "ipython",
    "version": 3
   },
   "file_extension": ".py",
   "mimetype": "text/x-python",
   "name": "python",
   "nbconvert_exporter": "python",
   "pygments_lexer": "ipython3",
   "version": "3.8.8"
  },
  "papermill": {
   "default_parameters": {},
   "duration": 5.103431,
   "end_time": "2021-08-10T14:00:07.631575",
   "environment_variables": {},
   "exception": null,
   "input_path": "/Users/saravananshanmugam/Carbonleakage_Git/UsedObjects/eBay_Overview.ipynb",
   "output_path": "/Users/saravananshanmugam/Carbonleakage_Git/UsedObjects/eBay_Overview.ipynb",
   "parameters": {},
   "start_time": "2021-08-10T14:00:02.528144",
   "version": "2.3.3"
  }
 },
 "nbformat": 4,
 "nbformat_minor": 5
}