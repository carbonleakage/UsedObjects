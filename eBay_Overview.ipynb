{
 "cells": [
  {
   "cell_type": "code",
   "execution_count": 1,
   "id": "reverse-picking",
   "metadata": {
    "execution": {
     "iopub.execute_input": "2021-09-12T17:30:06.940410Z",
     "iopub.status.busy": "2021-09-12T17:30:06.938375Z",
     "iopub.status.idle": "2021-09-12T17:30:07.745921Z",
     "shell.execute_reply": "2021-09-12T17:30:07.747299Z"
    },
    "papermill": {
     "duration": 0.858649,
     "end_time": "2021-09-12T17:30:07.747928",
     "exception": false,
     "start_time": "2021-09-12T17:30:06.889279",
     "status": "completed"
    },
    "tags": []
   },
   "outputs": [],
   "source": [
    "import pandas as pd\n",
    "import sqlite3"
   ]
  },
  {
   "cell_type": "code",
   "execution_count": 2,
   "id": "innovative-syndrome",
   "metadata": {
    "execution": {
     "iopub.execute_input": "2021-09-12T17:30:07.798300Z",
     "iopub.status.busy": "2021-09-12T17:30:07.796434Z",
     "iopub.status.idle": "2021-09-12T17:30:08.069906Z",
     "shell.execute_reply": "2021-09-12T17:30:08.071170Z"
    },
    "papermill": {
     "duration": 0.302931,
     "end_time": "2021-09-12T17:30:08.071581",
     "exception": false,
     "start_time": "2021-09-12T17:30:07.768650",
     "status": "completed"
    },
    "tags": []
   },
   "outputs": [],
   "source": [
    "timestamps = pd.read_sql(\"select distinct record_time from EBAY_TOP_BERLIN order by record_time desc limit 2\", sqlite3.connect(\"UsedObjects.db\"))"
   ]
  },
  {
   "cell_type": "code",
   "execution_count": 3,
   "id": "periodic-identification",
   "metadata": {
    "execution": {
     "iopub.execute_input": "2021-09-12T17:30:08.141565Z",
     "iopub.status.busy": "2021-09-12T17:30:08.136490Z",
     "iopub.status.idle": "2021-09-12T17:30:08.156176Z",
     "shell.execute_reply": "2021-09-12T17:30:08.157370Z"
    },
    "papermill": {
     "duration": 0.064256,
     "end_time": "2021-09-12T17:30:08.157758",
     "exception": false,
     "start_time": "2021-09-12T17:30:08.093502",
     "status": "completed"
    },
    "tags": []
   },
   "outputs": [
    {
     "data": {
      "text/html": [
       "<div>\n",
       "<style scoped>\n",
       "    .dataframe tbody tr th:only-of-type {\n",
       "        vertical-align: middle;\n",
       "    }\n",
       "\n",
       "    .dataframe tbody tr th {\n",
       "        vertical-align: top;\n",
       "    }\n",
       "\n",
       "    .dataframe thead th {\n",
       "        text-align: right;\n",
       "    }\n",
       "</style>\n",
       "<table border=\"1\" class=\"dataframe\">\n",
       "  <thead>\n",
       "    <tr style=\"text-align: right;\">\n",
       "      <th></th>\n",
       "      <th>RECORD_TIME</th>\n",
       "    </tr>\n",
       "  </thead>\n",
       "  <tbody>\n",
       "    <tr>\n",
       "      <th>0</th>\n",
       "      <td>2021-09-12 19:30</td>\n",
       "    </tr>\n",
       "    <tr>\n",
       "      <th>1</th>\n",
       "      <td>2021-09-12 19:00</td>\n",
       "    </tr>\n",
       "  </tbody>\n",
       "</table>\n",
       "</div>"
      ],
      "text/plain": [
       "        RECORD_TIME\n",
       "0  2021-09-12 19:30\n",
       "1  2021-09-12 19:00"
      ]
     },
     "execution_count": 3,
     "metadata": {},
     "output_type": "execute_result"
    }
   ],
   "source": [
    "timestamps"
   ]
  },
  {
   "cell_type": "code",
   "execution_count": 4,
   "id": "alternate-victory",
   "metadata": {
    "execution": {
     "iopub.execute_input": "2021-09-12T17:30:08.210687Z",
     "iopub.status.busy": "2021-09-12T17:30:08.208415Z",
     "iopub.status.idle": "2021-09-12T17:30:08.607889Z",
     "shell.execute_reply": "2021-09-12T17:30:08.609096Z"
    },
    "papermill": {
     "duration": 0.42996,
     "end_time": "2021-09-12T17:30:08.609488",
     "exception": false,
     "start_time": "2021-09-12T17:30:08.179528",
     "status": "completed"
    },
    "tags": []
   },
   "outputs": [],
   "source": [
    "df = pd.read_sql(\"select * from EBAY_TOP_BERLIN where record_time in (select distinct record_time from EBAY_TOP_BERLIN order by record_time desc limit 2)\", sqlite3.connect(\"UsedObjects.db\"))"
   ]
  },
  {
   "cell_type": "code",
   "execution_count": 5,
   "id": "popular-active",
   "metadata": {
    "execution": {
     "iopub.execute_input": "2021-09-12T17:30:08.690228Z",
     "iopub.status.busy": "2021-09-12T17:30:08.678194Z",
     "iopub.status.idle": "2021-09-12T17:30:08.706244Z",
     "shell.execute_reply": "2021-09-12T17:30:08.707691Z"
    },
    "papermill": {
     "duration": 0.072805,
     "end_time": "2021-09-12T17:30:08.708100",
     "exception": false,
     "start_time": "2021-09-12T17:30:08.635295",
     "status": "completed"
    },
    "tags": []
   },
   "outputs": [],
   "source": [
    "df_pivot = df.pivot_table(index=\"PRODUCT\", columns = \"RECORD_TIME\", values = \"LISTING_COUNT\")"
   ]
  },
  {
   "cell_type": "code",
   "execution_count": 6,
   "id": "union-huntington",
   "metadata": {
    "execution": {
     "iopub.execute_input": "2021-09-12T17:30:08.765034Z",
     "iopub.status.busy": "2021-09-12T17:30:08.762988Z",
     "iopub.status.idle": "2021-09-12T17:30:08.768336Z",
     "shell.execute_reply": "2021-09-12T17:30:08.769584Z"
    },
    "papermill": {
     "duration": 0.040672,
     "end_time": "2021-09-12T17:30:08.769992",
     "exception": false,
     "start_time": "2021-09-12T17:30:08.729320",
     "status": "completed"
    },
    "tags": []
   },
   "outputs": [],
   "source": [
    "df_pivot.columns = [\"stamp_1\", \"stamp_2\"]\n",
    "df_pivot_diff = df_pivot.diff(axis=1)"
   ]
  },
  {
   "cell_type": "code",
   "execution_count": 7,
   "id": "fifth-motion",
   "metadata": {
    "execution": {
     "iopub.execute_input": "2021-09-12T17:30:08.823729Z",
     "iopub.status.busy": "2021-09-12T17:30:08.821350Z",
     "iopub.status.idle": "2021-09-12T17:30:10.302800Z",
     "shell.execute_reply": "2021-09-12T17:30:10.304156Z"
    },
    "papermill": {
     "duration": 1.51412,
     "end_time": "2021-09-12T17:30:10.304577",
     "exception": false,
     "start_time": "2021-09-12T17:30:08.790457",
     "status": "completed"
    },
    "tags": []
   },
   "outputs": [
    {
     "data": {
      "text/plain": [
       "<AxesSubplot:ylabel='PRODUCT'>"
      ]
     },
     "execution_count": 7,
     "metadata": {},
     "output_type": "execute_result"
    },
    {
     "data": {
      "image/png": "[encoded data removed]",
      "text/plain": [
       "<Figure size 432x288 with 1 Axes>"
      ]
     },
     "metadata": {
      "needs_background": "light"
     },
     "output_type": "display_data"
    }
   ],
   "source": [
    "df_pivot_diff.sort_values(\"stamp_2\", ascending = False)[\"stamp_2\"].head(10).plot.barh()"
   ]
  },
  {
   "cell_type": "code",
   "execution_count": null,
   "id": "extra-executive",
   "metadata": {
    "papermill": {
     "duration": 0.022232,
     "end_time": "2021-09-12T17:30:10.351428",
     "exception": false,
     "start_time": "2021-09-12T17:30:10.329196",
     "status": "completed"
    },
    "tags": []
   },
   "outputs": [],
   "source": []
  }
 ],
 "metadata": {
  "kernelspec": {
   "display_name": "Python 3",
   "language": "python",
   "name": "python3"
  },
  "language_info": {
   "codemirror_mode": {
    "name": "ipython",
    "version": 3
   },
   "file_extension": ".py",
   "mimetype": "text/x-python",
   "name": "python",
   "nbconvert_exporter": "python",
   "pygments_lexer": "ipython3",
   "version": "3.9.5"
  },
  "papermill": {
   "default_parameters": {},
   "duration": 6.51707,
   "end_time": "2021-09-12T17:30:10.995428",
   "environment_variables": {},
   "exception": null,
   "input_path": "eBay_Overview.ipynb",
   "output_path": "eBay_Overview.ipynb",
   "parameters": {},
   "start_time": "2021-09-12T17:30:04.478358",
   "version": "2.3.3"
  }
 },
 "nbformat": 4,
 "nbformat_minor": 5
}