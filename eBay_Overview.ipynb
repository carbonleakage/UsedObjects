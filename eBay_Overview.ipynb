{
 "cells": [
  {
   "cell_type": "code",
   "execution_count": 1,
   "id": "reverse-picking",
   "metadata": {
    "execution": {
     "iopub.execute_input": "2021-08-24T01:30:06.613673Z",
     "iopub.status.busy": "2021-08-24T01:30:06.611773Z",
     "iopub.status.idle": "2021-08-24T01:30:07.418860Z",
     "shell.execute_reply": "2021-08-24T01:30:07.420182Z"
    },
    "papermill": {
     "duration": 0.859889,
     "end_time": "2021-08-24T01:30:07.420836",
     "exception": false,
     "start_time": "2021-08-24T01:30:06.560947",
     "status": "completed"
    },
    "tags": []
   },
   "outputs": [],
   "source": [
    "import pandas as pd\n",
    "import sqlite3"
   ]
  },
  {
   "cell_type": "code",
   "execution_count": 2,
   "id": "innovative-syndrome",
   "metadata": {
    "execution": {
     "iopub.execute_input": "2021-08-24T01:30:07.472693Z",
     "iopub.status.busy": "2021-08-24T01:30:07.470866Z",
     "iopub.status.idle": "2021-08-24T01:30:07.587501Z",
     "shell.execute_reply": "2021-08-24T01:30:07.588686Z"
    },
    "papermill": {
     "duration": 0.146226,
     "end_time": "2021-08-24T01:30:07.589077",
     "exception": false,
     "start_time": "2021-08-24T01:30:07.442851",
     "status": "completed"
    },
    "tags": []
   },
   "outputs": [],
   "source": [
    "timestamps = pd.read_sql(\"select distinct record_time from EBAY_TOP_BERLIN order by record_time desc limit 2\", sqlite3.connect(\"UsedObjects.db\"))"
   ]
  },
  {
   "cell_type": "code",
   "execution_count": 3,
   "id": "periodic-identification",
   "metadata": {
    "execution": {
     "iopub.execute_input": "2021-08-24T01:30:07.653817Z",
     "iopub.status.busy": "2021-08-24T01:30:07.651842Z",
     "iopub.status.idle": "2021-08-24T01:30:07.671713Z",
     "shell.execute_reply": "2021-08-24T01:30:07.672894Z"
    },
    "papermill": {
     "duration": 0.063204,
     "end_time": "2021-08-24T01:30:07.673318",
     "exception": false,
     "start_time": "2021-08-24T01:30:07.610114",
     "status": "completed"
    },
    "tags": []
   },
   "outputs": [
    {
     "data": {
      "text/html": [
       "<div>\n",
       "<style scoped>\n",
       "    .dataframe tbody tr th:only-of-type {\n",
       "        vertical-align: middle;\n",
       "    }\n",
       "\n",
       "    .dataframe tbody tr th {\n",
       "        vertical-align: top;\n",
       "    }\n",
       "\n",
       "    .dataframe thead th {\n",
       "        text-align: right;\n",
       "    }\n",
       "</style>\n",
       "<table border=\"1\" class=\"dataframe\">\n",
       "  <thead>\n",
       "    <tr style=\"text-align: right;\">\n",
       "      <th></th>\n",
       "      <th>RECORD_TIME</th>\n",
       "    </tr>\n",
       "  </thead>\n",
       "  <tbody>\n",
       "    <tr>\n",
       "      <th>0</th>\n",
       "      <td>2021-08-24 03:30</td>\n",
       "    </tr>\n",
       "    <tr>\n",
       "      <th>1</th>\n",
       "      <td>2021-08-24 03:00</td>\n",
       "    </tr>\n",
       "  </tbody>\n",
       "</table>\n",
       "</div>"
      ],
      "text/plain": [
       "        RECORD_TIME\n",
       "0  2021-08-24 03:30\n",
       "1  2021-08-24 03:00"
      ]
     },
     "execution_count": 3,
     "metadata": {},
     "output_type": "execute_result"
    }
   ],
   "source": [
    "timestamps"
   ]
  },
  {
   "cell_type": "code",
   "execution_count": 4,
   "id": "alternate-victory",
   "metadata": {
    "execution": {
     "iopub.execute_input": "2021-08-24T01:30:07.725709Z",
     "iopub.status.busy": "2021-08-24T01:30:07.723902Z",
     "iopub.status.idle": "2021-08-24T01:30:07.902206Z",
     "shell.execute_reply": "2021-08-24T01:30:07.903415Z"
    },
    "papermill": {
     "duration": 0.208193,
     "end_time": "2021-08-24T01:30:07.903807",
     "exception": false,
     "start_time": "2021-08-24T01:30:07.695614",
     "status": "completed"
    },
    "tags": []
   },
   "outputs": [],
   "source": [
    "df = pd.read_sql(\"select * from EBAY_TOP_BERLIN where record_time in (select distinct record_time from EBAY_TOP_BERLIN order by record_time desc limit 2)\", sqlite3.connect(\"UsedObjects.db\"))"
   ]
  },
  {
   "cell_type": "code",
   "execution_count": 5,
   "id": "popular-active",
   "metadata": {
    "execution": {
     "iopub.execute_input": "2021-08-24T01:30:07.974690Z",
     "iopub.status.busy": "2021-08-24T01:30:07.963034Z",
     "iopub.status.idle": "2021-08-24T01:30:07.990122Z",
     "shell.execute_reply": "2021-08-24T01:30:07.991328Z"
    },
    "papermill": {
     "duration": 0.06748,
     "end_time": "2021-08-24T01:30:07.991728",
     "exception": false,
     "start_time": "2021-08-24T01:30:07.924248",
     "status": "completed"
    },
    "tags": []
   },
   "outputs": [],
   "source": [
    "df_pivot = df.pivot_table(index=\"PRODUCT\", columns = \"RECORD_TIME\", values = \"LISTING_COUNT\")"
   ]
  },
  {
   "cell_type": "code",
   "execution_count": 6,
   "id": "union-huntington",
   "metadata": {
    "execution": {
     "iopub.execute_input": "2021-08-24T01:30:08.052719Z",
     "iopub.status.busy": "2021-08-24T01:30:08.050335Z",
     "iopub.status.idle": "2021-08-24T01:30:08.056549Z",
     "shell.execute_reply": "2021-08-24T01:30:08.057884Z"
    },
    "papermill": {
     "duration": 0.046001,
     "end_time": "2021-08-24T01:30:08.058497",
     "exception": false,
     "start_time": "2021-08-24T01:30:08.012496",
     "status": "completed"
    },
    "tags": []
   },
   "outputs": [],
   "source": [
    "df_pivot.columns = [\"stamp_1\", \"stamp_2\"]\n",
    "df_pivot_diff = df_pivot.diff(axis=1)"
   ]
  },
  {
   "cell_type": "code",
   "execution_count": 7,
   "id": "fifth-motion",
   "metadata": {
    "execution": {
     "iopub.execute_input": "2021-08-24T01:30:08.113810Z",
     "iopub.status.busy": "2021-08-24T01:30:08.111481Z",
     "iopub.status.idle": "2021-08-24T01:30:09.619121Z",
     "shell.execute_reply": "2021-08-24T01:30:09.620383Z"
    },
    "papermill": {
     "duration": 1.540618,
     "end_time": "2021-08-24T01:30:09.620802",
     "exception": false,
     "start_time": "2021-08-24T01:30:08.080184",
     "status": "completed"
    },
    "tags": []
   },
   "outputs": [
    {
     "data": {
      "text/plain": [
       "<AxesSubplot:ylabel='PRODUCT'>"
      ]
     },
     "execution_count": 7,
     "metadata": {},
     "output_type": "execute_result"
    },
    {
     "data": {
      "image/png": "[encoded data removed]",
      "text/plain": [
       "<Figure size 432x288 with 1 Axes>"
      ]
     },
     "metadata": {
      "needs_background": "light"
     },
     "output_type": "display_data"
    }
   ],
   "source": [
    "df_pivot_diff.sort_values(\"stamp_2\", ascending = False)[\"stamp_2\"].head(10).plot.barh()"
   ]
  },
  {
   "cell_type": "code",
   "execution_count": null,
   "id": "extra-executive",
   "metadata": {
    "papermill": {
     "duration": 0.022006,
     "end_time": "2021-08-24T01:30:09.668144",
     "exception": false,
     "start_time": "2021-08-24T01:30:09.646138",
     "status": "completed"
    },
    "tags": []
   },
   "outputs": [],
   "source": []
  }
 ],
 "metadata": {
  "kernelspec": {
   "display_name": "Python 3",
   "language": "python",
   "name": "python3"
  },
  "language_info": {
   "codemirror_mode": {
    "name": "ipython",
    "version": 3
   },
   "file_extension": ".py",
   "mimetype": "text/x-python",
   "name": "python",
   "nbconvert_exporter": "python",
   "pygments_lexer": "ipython3",
   "version": "3.9.5"
  },
  "papermill": {
   "default_parameters": {},
   "duration": 6.826035,
   "end_time": "2021-08-24T01:30:10.973773",
   "environment_variables": {},
   "exception": null,
   "input_path": "eBay_Overview.ipynb",
   "output_path": "eBay_Overview.ipynb",
   "parameters": {},
   "start_time": "2021-08-24T01:30:04.147738",
   "version": "2.3.3"
  }
 },
 "nbformat": 4,
 "nbformat_minor": 5
}