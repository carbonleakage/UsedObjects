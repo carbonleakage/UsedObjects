{
 "cells": [
  {
   "cell_type": "code",
   "execution_count": 1,
   "id": "reverse-picking",
   "metadata": {
    "execution": {
     "iopub.execute_input": "2021-12-19T17:00:08.808356Z",
     "iopub.status.busy": "2021-12-19T17:00:08.805958Z",
     "iopub.status.idle": "2021-12-19T17:00:09.770214Z",
     "shell.execute_reply": "2021-12-19T17:00:09.771465Z"
    },
    "papermill": {
     "duration": 1.012857,
     "end_time": "2021-12-19T17:00:09.772163",
     "exception": false,
     "start_time": "2021-12-19T17:00:08.759306",
     "status": "completed"
    },
    "tags": []
   },
   "outputs": [],
   "source": [
    "import pandas as pd\n",
    "import sqlite3"
   ]
  },
  {
   "cell_type": "code",
   "execution_count": 2,
   "id": "innovative-syndrome",
   "metadata": {
    "execution": {
     "iopub.execute_input": "2021-12-19T17:00:09.825328Z",
     "iopub.status.busy": "2021-12-19T17:00:09.823118Z",
     "iopub.status.idle": "2021-12-19T17:00:10.944836Z",
     "shell.execute_reply": "2021-12-19T17:00:10.946468Z"
    },
    "papermill": {
     "duration": 1.15457,
     "end_time": "2021-12-19T17:00:10.947021",
     "exception": false,
     "start_time": "2021-12-19T17:00:09.792451",
     "status": "completed"
    },
    "tags": []
   },
   "outputs": [],
   "source": [
    "timestamps = pd.read_sql(\"select distinct record_time from EBAY_TOP_BERLIN order by record_time desc limit 2\", sqlite3.connect(\"UsedObjects.db\"))"
   ]
  },
  {
   "cell_type": "code",
   "execution_count": 3,
   "id": "periodic-identification",
   "metadata": {
    "execution": {
     "iopub.execute_input": "2021-12-19T17:00:11.021097Z",
     "iopub.status.busy": "2021-12-19T17:00:11.018673Z",
     "iopub.status.idle": "2021-12-19T17:00:11.042033Z",
     "shell.execute_reply": "2021-12-19T17:00:11.043672Z"
    },
    "papermill": {
     "duration": 0.075303,
     "end_time": "2021-12-19T17:00:11.044311",
     "exception": false,
     "start_time": "2021-12-19T17:00:10.969008",
     "status": "completed"
    },
    "tags": []
   },
   "outputs": [
    {
     "data": {
      "text/html": [
       "<div>\n",
       "<style scoped>\n",
       "    .dataframe tbody tr th:only-of-type {\n",
       "        vertical-align: middle;\n",
       "    }\n",
       "\n",
       "    .dataframe tbody tr th {\n",
       "        vertical-align: top;\n",
       "    }\n",
       "\n",
       "    .dataframe thead th {\n",
       "        text-align: right;\n",
       "    }\n",
       "</style>\n",
       "<table border=\"1\" class=\"dataframe\">\n",
       "  <thead>\n",
       "    <tr style=\"text-align: right;\">\n",
       "      <th></th>\n",
       "      <th>RECORD_TIME</th>\n",
       "    </tr>\n",
       "  </thead>\n",
       "  <tbody>\n",
       "    <tr>\n",
       "      <th>0</th>\n",
       "      <td>2021-12-19 18:00</td>\n",
       "    </tr>\n",
       "    <tr>\n",
       "      <th>1</th>\n",
       "      <td>2021-12-19 17:30</td>\n",
       "    </tr>\n",
       "  </tbody>\n",
       "</table>\n",
       "</div>"
      ],
      "text/plain": [
       "        RECORD_TIME\n",
       "0  2021-12-19 18:00\n",
       "1  2021-12-19 17:30"
      ]
     },
     "execution_count": 3,
     "metadata": {},
     "output_type": "execute_result"
    }
   ],
   "source": [
    "timestamps"
   ]
  },
  {
   "cell_type": "code",
   "execution_count": 4,
   "id": "alternate-victory",
   "metadata": {
    "execution": {
     "iopub.execute_input": "2021-12-19T17:00:11.103160Z",
     "iopub.status.busy": "2021-12-19T17:00:11.099239Z",
     "iopub.status.idle": "2021-12-19T17:00:12.731067Z",
     "shell.execute_reply": "2021-12-19T17:00:12.733247Z"
    },
    "papermill": {
     "duration": 1.666833,
     "end_time": "2021-12-19T17:00:12.733725",
     "exception": false,
     "start_time": "2021-12-19T17:00:11.066892",
     "status": "completed"
    },
    "tags": []
   },
   "outputs": [],
   "source": [
    "df = pd.read_sql(\"select * from EBAY_TOP_BERLIN where record_time in (select distinct record_time from EBAY_TOP_BERLIN order by record_time desc limit 2)\", sqlite3.connect(\"UsedObjects.db\"))"
   ]
  },
  {
   "cell_type": "code",
   "execution_count": 5,
   "id": "popular-active",
   "metadata": {
    "execution": {
     "iopub.execute_input": "2021-12-19T17:00:12.807213Z",
     "iopub.status.busy": "2021-12-19T17:00:12.794394Z",
     "iopub.status.idle": "2021-12-19T17:00:12.826243Z",
     "shell.execute_reply": "2021-12-19T17:00:12.827680Z"
    },
    "papermill": {
     "duration": 0.073977,
     "end_time": "2021-12-19T17:00:12.828141",
     "exception": false,
     "start_time": "2021-12-19T17:00:12.754164",
     "status": "completed"
    },
    "tags": []
   },
   "outputs": [],
   "source": [
    "df_pivot = df.pivot_table(index=\"PRODUCT\", columns = \"RECORD_TIME\", values = \"LISTING_COUNT\")"
   ]
  },
  {
   "cell_type": "code",
   "execution_count": 6,
   "id": "union-huntington",
   "metadata": {
    "execution": {
     "iopub.execute_input": "2021-12-19T17:00:12.905479Z",
     "iopub.status.busy": "2021-12-19T17:00:12.901551Z",
     "iopub.status.idle": "2021-12-19T17:00:12.912640Z",
     "shell.execute_reply": "2021-12-19T17:00:12.915463Z"
    },
    "papermill": {
     "duration": 0.068257,
     "end_time": "2021-12-19T17:00:12.916268",
     "exception": false,
     "start_time": "2021-12-19T17:00:12.848011",
     "status": "completed"
    },
    "tags": []
   },
   "outputs": [],
   "source": [
    "df_pivot.columns = [\"stamp_1\", \"stamp_2\"]\n",
    "df_pivot_diff = df_pivot.diff(axis=1)"
   ]
  },
  {
   "cell_type": "code",
   "execution_count": 7,
   "id": "fifth-motion",
   "metadata": {
    "execution": {
     "iopub.execute_input": "2021-12-19T17:00:13.006743Z",
     "iopub.status.busy": "2021-12-19T17:00:13.002487Z",
     "iopub.status.idle": "2021-12-19T17:00:14.867929Z",
     "shell.execute_reply": "2021-12-19T17:00:14.869471Z"
    },
    "papermill": {
     "duration": 1.920824,
     "end_time": "2021-12-19T17:00:14.869954",
     "exception": false,
     "start_time": "2021-12-19T17:00:12.949130",
     "status": "completed"
    },
    "tags": []
   },
   "outputs": [
    {
     "data": {
      "text/plain": [
       "<AxesSubplot:ylabel='PRODUCT'>"
      ]
     },
     "execution_count": 7,
     "metadata": {},
     "output_type": "execute_result"
    },
    {
     "data": {
      "image/png": "[encoded data removed]",
      "text/plain": [
       "<Figure size 432x288 with 1 Axes>"
      ]
     },
     "metadata": {
      "needs_background": "light"
     },
     "output_type": "display_data"
    }
   ],
   "source": [
    "df_pivot_diff.sort_values(\"stamp_2\", ascending = False)[\"stamp_2\"].head(10).plot.barh()"
   ]
  },
  {
   "cell_type": "code",
   "execution_count": null,
   "id": "extra-executive",
   "metadata": {
    "papermill": {
     "duration": 0.026341,
     "end_time": "2021-12-19T17:00:14.927978",
     "exception": false,
     "start_time": "2021-12-19T17:00:14.901637",
     "status": "completed"
    },
    "tags": []
   },
   "outputs": [],
   "source": []
  }
 ],
 "metadata": {
  "kernelspec": {
   "display_name": "Python 3",
   "language": "python",
   "name": "python3"
  },
  "language_info": {
   "codemirror_mode": {
    "name": "ipython",
    "version": 3
   },
   "file_extension": ".py",
   "mimetype": "text/x-python",
   "name": "python",
   "nbconvert_exporter": "python",
   "pygments_lexer": "ipython3",
   "version": "3.9.5"
  },
  "papermill": {
   "default_parameters": {},
   "duration": 9.572411,
   "end_time": "2021-12-19T17:00:15.582182",
   "environment_variables": {},
   "exception": null,
   "input_path": "eBay_Overview.ipynb",
   "output_path": "eBay_Overview.ipynb",
   "parameters": {},
   "start_time": "2021-12-19T17:00:06.009771",
   "version": "2.3.3"
  }
 },
 "nbformat": 4,
 "nbformat_minor": 5
}