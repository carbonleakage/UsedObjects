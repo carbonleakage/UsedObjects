{
 "cells": [
  {
   "cell_type": "code",
   "execution_count": 1,
   "id": "reverse-picking",
   "metadata": {
    "execution": {
     "iopub.execute_input": "2021-12-09T20:30:07.257948Z",
     "iopub.status.busy": "2021-12-09T20:30:07.255376Z",
     "iopub.status.idle": "2021-12-09T20:30:08.228538Z",
     "shell.execute_reply": "2021-12-09T20:30:08.230586Z"
    },
    "papermill": {
     "duration": 1.023027,
     "end_time": "2021-12-09T20:30:08.231346",
     "exception": false,
     "start_time": "2021-12-09T20:30:07.208319",
     "status": "completed"
    },
    "tags": []
   },
   "outputs": [],
   "source": [
    "import pandas as pd\n",
    "import sqlite3"
   ]
  },
  {
   "cell_type": "code",
   "execution_count": 2,
   "id": "innovative-syndrome",
   "metadata": {
    "execution": {
     "iopub.execute_input": "2021-12-09T20:30:08.286735Z",
     "iopub.status.busy": "2021-12-09T20:30:08.284403Z",
     "iopub.status.idle": "2021-12-09T20:30:09.337588Z",
     "shell.execute_reply": "2021-12-09T20:30:09.339176Z"
    },
    "papermill": {
     "duration": 1.087771,
     "end_time": "2021-12-09T20:30:09.339718",
     "exception": false,
     "start_time": "2021-12-09T20:30:08.251947",
     "status": "completed"
    },
    "tags": []
   },
   "outputs": [],
   "source": [
    "timestamps = pd.read_sql(\"select distinct record_time from EBAY_TOP_BERLIN order by record_time desc limit 2\", sqlite3.connect(\"UsedObjects.db\"))"
   ]
  },
  {
   "cell_type": "code",
   "execution_count": 3,
   "id": "periodic-identification",
   "metadata": {
    "execution": {
     "iopub.execute_input": "2021-12-09T20:30:09.438295Z",
     "iopub.status.busy": "2021-12-09T20:30:09.434741Z",
     "iopub.status.idle": "2021-12-09T20:30:09.465793Z",
     "shell.execute_reply": "2021-12-09T20:30:09.467481Z"
    },
    "papermill": {
     "duration": 0.107434,
     "end_time": "2021-12-09T20:30:09.467990",
     "exception": false,
     "start_time": "2021-12-09T20:30:09.360556",
     "status": "completed"
    },
    "tags": []
   },
   "outputs": [
    {
     "data": {
      "text/html": [
       "<div>\n",
       "<style scoped>\n",
       "    .dataframe tbody tr th:only-of-type {\n",
       "        vertical-align: middle;\n",
       "    }\n",
       "\n",
       "    .dataframe tbody tr th {\n",
       "        vertical-align: top;\n",
       "    }\n",
       "\n",
       "    .dataframe thead th {\n",
       "        text-align: right;\n",
       "    }\n",
       "</style>\n",
       "<table border=\"1\" class=\"dataframe\">\n",
       "  <thead>\n",
       "    <tr style=\"text-align: right;\">\n",
       "      <th></th>\n",
       "      <th>RECORD_TIME</th>\n",
       "    </tr>\n",
       "  </thead>\n",
       "  <tbody>\n",
       "    <tr>\n",
       "      <th>0</th>\n",
       "      <td>2021-12-09 21:30</td>\n",
       "    </tr>\n",
       "    <tr>\n",
       "      <th>1</th>\n",
       "      <td>2021-12-09 21:00</td>\n",
       "    </tr>\n",
       "  </tbody>\n",
       "</table>\n",
       "</div>"
      ],
      "text/plain": [
       "        RECORD_TIME\n",
       "0  2021-12-09 21:30\n",
       "1  2021-12-09 21:00"
      ]
     },
     "execution_count": 3,
     "metadata": {},
     "output_type": "execute_result"
    }
   ],
   "source": [
    "timestamps"
   ]
  },
  {
   "cell_type": "code",
   "execution_count": 4,
   "id": "alternate-victory",
   "metadata": {
    "execution": {
     "iopub.execute_input": "2021-12-09T20:30:09.526067Z",
     "iopub.status.busy": "2021-12-09T20:30:09.523670Z",
     "iopub.status.idle": "2021-12-09T20:30:11.067611Z",
     "shell.execute_reply": "2021-12-09T20:30:11.070206Z"
    },
    "papermill": {
     "duration": 1.58016,
     "end_time": "2021-12-09T20:30:11.071048",
     "exception": false,
     "start_time": "2021-12-09T20:30:09.490888",
     "status": "completed"
    },
    "tags": []
   },
   "outputs": [],
   "source": [
    "df = pd.read_sql(\"select * from EBAY_TOP_BERLIN where record_time in (select distinct record_time from EBAY_TOP_BERLIN order by record_time desc limit 2)\", sqlite3.connect(\"UsedObjects.db\"))"
   ]
  },
  {
   "cell_type": "code",
   "execution_count": 5,
   "id": "popular-active",
   "metadata": {
    "execution": {
     "iopub.execute_input": "2021-12-09T20:30:11.200590Z",
     "iopub.status.busy": "2021-12-09T20:30:11.175554Z",
     "iopub.status.idle": "2021-12-09T20:30:11.228292Z",
     "shell.execute_reply": "2021-12-09T20:30:11.230404Z"
    },
    "papermill": {
     "duration": 0.128024,
     "end_time": "2021-12-09T20:30:11.231099",
     "exception": false,
     "start_time": "2021-12-09T20:30:11.103075",
     "status": "completed"
    },
    "tags": []
   },
   "outputs": [],
   "source": [
    "df_pivot = df.pivot_table(index=\"PRODUCT\", columns = \"RECORD_TIME\", values = \"LISTING_COUNT\")"
   ]
  },
  {
   "cell_type": "code",
   "execution_count": 6,
   "id": "union-huntington",
   "metadata": {
    "execution": {
     "iopub.execute_input": "2021-12-09T20:30:11.322573Z",
     "iopub.status.busy": "2021-12-09T20:30:11.318808Z",
     "iopub.status.idle": "2021-12-09T20:30:11.328560Z",
     "shell.execute_reply": "2021-12-09T20:30:11.331349Z"
    },
    "papermill": {
     "duration": 0.075154,
     "end_time": "2021-12-09T20:30:11.332119",
     "exception": false,
     "start_time": "2021-12-09T20:30:11.256965",
     "status": "completed"
    },
    "tags": []
   },
   "outputs": [],
   "source": [
    "df_pivot.columns = [\"stamp_1\", \"stamp_2\"]\n",
    "df_pivot_diff = df_pivot.diff(axis=1)"
   ]
  },
  {
   "cell_type": "code",
   "execution_count": 7,
   "id": "fifth-motion",
   "metadata": {
    "execution": {
     "iopub.execute_input": "2021-12-09T20:30:11.415654Z",
     "iopub.status.busy": "2021-12-09T20:30:11.412619Z",
     "iopub.status.idle": "2021-12-09T20:30:13.163084Z",
     "shell.execute_reply": "2021-12-09T20:30:13.164358Z"
    },
    "papermill": {
     "duration": 1.801472,
     "end_time": "2021-12-09T20:30:13.164974",
     "exception": false,
     "start_time": "2021-12-09T20:30:11.363502",
     "status": "completed"
    },
    "tags": []
   },
   "outputs": [
    {
     "data": {
      "text/plain": [
       "<AxesSubplot:ylabel='PRODUCT'>"
      ]
     },
     "execution_count": 7,
     "metadata": {},
     "output_type": "execute_result"
    },
    {
     "data": {
      "image/png": "[encoded data removed]",
      "text/plain": [
       "<Figure size 432x288 with 1 Axes>"
      ]
     },
     "metadata": {
      "needs_background": "light"
     },
     "output_type": "display_data"
    }
   ],
   "source": [
    "df_pivot_diff.sort_values(\"stamp_2\", ascending = False)[\"stamp_2\"].head(10).plot.barh()"
   ]
  },
  {
   "cell_type": "code",
   "execution_count": null,
   "id": "extra-executive",
   "metadata": {
    "papermill": {
     "duration": 0.030471,
     "end_time": "2021-12-09T20:30:13.220726",
     "exception": false,
     "start_time": "2021-12-09T20:30:13.190255",
     "status": "completed"
    },
    "tags": []
   },
   "outputs": [],
   "source": []
  }
 ],
 "metadata": {
  "kernelspec": {
   "display_name": "Python 3",
   "language": "python",
   "name": "python3"
  },
  "language_info": {
   "codemirror_mode": {
    "name": "ipython",
    "version": 3
   },
   "file_extension": ".py",
   "mimetype": "text/x-python",
   "name": "python",
   "nbconvert_exporter": "python",
   "pygments_lexer": "ipython3",
   "version": "3.9.5"
  },
  "papermill": {
   "default_parameters": {},
   "duration": 9.951383,
   "end_time": "2021-12-09T20:30:14.400395",
   "environment_variables": {},
   "exception": null,
   "input_path": "eBay_Overview.ipynb",
   "output_path": "eBay_Overview.ipynb",
   "parameters": {},
   "start_time": "2021-12-09T20:30:04.449012",
   "version": "2.3.3"
  }
 },
 "nbformat": 4,
 "nbformat_minor": 5
}