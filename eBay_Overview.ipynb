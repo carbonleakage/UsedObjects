{
 "cells": [
  {
   "cell_type": "code",
   "execution_count": 1,
   "id": "reverse-picking",
   "metadata": {
    "execution": {
     "iopub.execute_input": "2021-09-03T11:30:07.164830Z",
     "iopub.status.busy": "2021-09-03T11:30:07.162819Z",
     "iopub.status.idle": "2021-09-03T11:30:07.964712Z",
     "shell.execute_reply": "2021-09-03T11:30:07.966135Z"
    },
    "papermill": {
     "duration": 0.853845,
     "end_time": "2021-09-03T11:30:07.966815",
     "exception": false,
     "start_time": "2021-09-03T11:30:07.112970",
     "status": "completed"
    },
    "tags": []
   },
   "outputs": [],
   "source": [
    "import pandas as pd\n",
    "import sqlite3"
   ]
  },
  {
   "cell_type": "code",
   "execution_count": 2,
   "id": "innovative-syndrome",
   "metadata": {
    "execution": {
     "iopub.execute_input": "2021-09-03T11:30:08.018925Z",
     "iopub.status.busy": "2021-09-03T11:30:08.016827Z",
     "iopub.status.idle": "2021-09-03T11:30:08.212504Z",
     "shell.execute_reply": "2021-09-03T11:30:08.213696Z"
    },
    "papermill": {
     "duration": 0.226914,
     "end_time": "2021-09-03T11:30:08.214089",
     "exception": false,
     "start_time": "2021-09-03T11:30:07.987175",
     "status": "completed"
    },
    "tags": []
   },
   "outputs": [],
   "source": [
    "timestamps = pd.read_sql(\"select distinct record_time from EBAY_TOP_BERLIN order by record_time desc limit 2\", sqlite3.connect(\"UsedObjects.db\"))"
   ]
  },
  {
   "cell_type": "code",
   "execution_count": 3,
   "id": "periodic-identification",
   "metadata": {
    "execution": {
     "iopub.execute_input": "2021-09-03T11:30:08.278733Z",
     "iopub.status.busy": "2021-09-03T11:30:08.276720Z",
     "iopub.status.idle": "2021-09-03T11:30:08.295965Z",
     "shell.execute_reply": "2021-09-03T11:30:08.297192Z"
    },
    "papermill": {
     "duration": 0.064048,
     "end_time": "2021-09-03T11:30:08.297584",
     "exception": false,
     "start_time": "2021-09-03T11:30:08.233536",
     "status": "completed"
    },
    "tags": []
   },
   "outputs": [
    {
     "data": {
      "text/html": [
       "<div>\n",
       "<style scoped>\n",
       "    .dataframe tbody tr th:only-of-type {\n",
       "        vertical-align: middle;\n",
       "    }\n",
       "\n",
       "    .dataframe tbody tr th {\n",
       "        vertical-align: top;\n",
       "    }\n",
       "\n",
       "    .dataframe thead th {\n",
       "        text-align: right;\n",
       "    }\n",
       "</style>\n",
       "<table border=\"1\" class=\"dataframe\">\n",
       "  <thead>\n",
       "    <tr style=\"text-align: right;\">\n",
       "      <th></th>\n",
       "      <th>RECORD_TIME</th>\n",
       "    </tr>\n",
       "  </thead>\n",
       "  <tbody>\n",
       "    <tr>\n",
       "      <th>0</th>\n",
       "      <td>2021-09-03 13:30</td>\n",
       "    </tr>\n",
       "    <tr>\n",
       "      <th>1</th>\n",
       "      <td>2021-09-03 13:00</td>\n",
       "    </tr>\n",
       "  </tbody>\n",
       "</table>\n",
       "</div>"
      ],
      "text/plain": [
       "        RECORD_TIME\n",
       "0  2021-09-03 13:30\n",
       "1  2021-09-03 13:00"
      ]
     },
     "execution_count": 3,
     "metadata": {},
     "output_type": "execute_result"
    }
   ],
   "source": [
    "timestamps"
   ]
  },
  {
   "cell_type": "code",
   "execution_count": 4,
   "id": "alternate-victory",
   "metadata": {
    "execution": {
     "iopub.execute_input": "2021-09-03T11:30:08.350100Z",
     "iopub.status.busy": "2021-09-03T11:30:08.347817Z",
     "iopub.status.idle": "2021-09-03T11:30:08.634489Z",
     "shell.execute_reply": "2021-09-03T11:30:08.636044Z"
    },
    "papermill": {
     "duration": 0.317233,
     "end_time": "2021-09-03T11:30:08.636489",
     "exception": false,
     "start_time": "2021-09-03T11:30:08.319256",
     "status": "completed"
    },
    "tags": []
   },
   "outputs": [],
   "source": [
    "df = pd.read_sql(\"select * from EBAY_TOP_BERLIN where record_time in (select distinct record_time from EBAY_TOP_BERLIN order by record_time desc limit 2)\", sqlite3.connect(\"UsedObjects.db\"))"
   ]
  },
  {
   "cell_type": "code",
   "execution_count": 5,
   "id": "popular-active",
   "metadata": {
    "execution": {
     "iopub.execute_input": "2021-09-03T11:30:08.715018Z",
     "iopub.status.busy": "2021-09-03T11:30:08.704401Z",
     "iopub.status.idle": "2021-09-03T11:30:08.731182Z",
     "shell.execute_reply": "2021-09-03T11:30:08.732400Z"
    },
    "papermill": {
     "duration": 0.070618,
     "end_time": "2021-09-03T11:30:08.732792",
     "exception": false,
     "start_time": "2021-09-03T11:30:08.662174",
     "status": "completed"
    },
    "tags": []
   },
   "outputs": [],
   "source": [
    "df_pivot = df.pivot_table(index=\"PRODUCT\", columns = \"RECORD_TIME\", values = \"LISTING_COUNT\")"
   ]
  },
  {
   "cell_type": "code",
   "execution_count": 6,
   "id": "union-huntington",
   "metadata": {
    "execution": {
     "iopub.execute_input": "2021-09-03T11:30:08.790230Z",
     "iopub.status.busy": "2021-09-03T11:30:08.787972Z",
     "iopub.status.idle": "2021-09-03T11:30:08.793726Z",
     "shell.execute_reply": "2021-09-03T11:30:08.795250Z"
    },
    "papermill": {
     "duration": 0.04159,
     "end_time": "2021-09-03T11:30:08.795718",
     "exception": false,
     "start_time": "2021-09-03T11:30:08.754128",
     "status": "completed"
    },
    "tags": []
   },
   "outputs": [],
   "source": [
    "df_pivot.columns = [\"stamp_1\", \"stamp_2\"]\n",
    "df_pivot_diff = df_pivot.diff(axis=1)"
   ]
  },
  {
   "cell_type": "code",
   "execution_count": 7,
   "id": "fifth-motion",
   "metadata": {
    "execution": {
     "iopub.execute_input": "2021-09-03T11:30:08.850051Z",
     "iopub.status.busy": "2021-09-03T11:30:08.847782Z",
     "iopub.status.idle": "2021-09-03T11:30:10.361829Z",
     "shell.execute_reply": "2021-09-03T11:30:10.363266Z"
    },
    "papermill": {
     "duration": 1.547125,
     "end_time": "2021-09-03T11:30:10.363712",
     "exception": false,
     "start_time": "2021-09-03T11:30:08.816587",
     "status": "completed"
    },
    "tags": []
   },
   "outputs": [
    {
     "data": {
      "text/plain": [
       "<AxesSubplot:ylabel='PRODUCT'>"
      ]
     },
     "execution_count": 7,
     "metadata": {},
     "output_type": "execute_result"
    },
    {
     "data": {
      "image/png": "[encoded data removed]",
      "text/plain": [
       "<Figure size 432x288 with 1 Axes>"
      ]
     },
     "metadata": {
      "needs_background": "light"
     },
     "output_type": "display_data"
    }
   ],
   "source": [
    "df_pivot_diff.sort_values(\"stamp_2\", ascending = False)[\"stamp_2\"].head(10).plot.barh()"
   ]
  },
  {
   "cell_type": "code",
   "execution_count": null,
   "id": "extra-executive",
   "metadata": {
    "papermill": {
     "duration": 0.022048,
     "end_time": "2021-09-03T11:30:10.410289",
     "exception": false,
     "start_time": "2021-09-03T11:30:10.388241",
     "status": "completed"
    },
    "tags": []
   },
   "outputs": [],
   "source": []
  }
 ],
 "metadata": {
  "kernelspec": {
   "display_name": "Python 3",
   "language": "python",
   "name": "python3"
  },
  "language_info": {
   "codemirror_mode": {
    "name": "ipython",
    "version": 3
   },
   "file_extension": ".py",
   "mimetype": "text/x-python",
   "name": "python",
   "nbconvert_exporter": "python",
   "pygments_lexer": "ipython3",
   "version": "3.9.5"
  },
  "papermill": {
   "default_parameters": {},
   "duration": 6.342347,
   "end_time": "2021-09-03T11:30:11.050954",
   "environment_variables": {},
   "exception": null,
   "input_path": "eBay_Overview.ipynb",
   "output_path": "eBay_Overview.ipynb",
   "parameters": {},
   "start_time": "2021-09-03T11:30:04.708607",
   "version": "2.3.3"
  }
 },
 "nbformat": 4,
 "nbformat_minor": 5
}