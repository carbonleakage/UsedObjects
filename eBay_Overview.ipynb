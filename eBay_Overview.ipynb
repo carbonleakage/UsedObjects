{
 "cells": [
  {
   "cell_type": "code",
   "execution_count": 1,
   "id": "reverse-picking",
   "metadata": {
    "execution": {
     "iopub.execute_input": "2021-08-14T09:00:06.933984Z",
     "iopub.status.busy": "2021-08-14T09:00:06.931947Z",
     "iopub.status.idle": "2021-08-14T09:00:07.743184Z",
     "shell.execute_reply": "2021-08-14T09:00:07.744459Z"
    },
    "papermill": {
     "duration": 0.863327,
     "end_time": "2021-08-14T09:00:07.745078",
     "exception": false,
     "start_time": "2021-08-14T09:00:06.881751",
     "status": "completed"
    },
    "tags": []
   },
   "outputs": [],
   "source": [
    "import pandas as pd\n",
    "import sqlite3"
   ]
  },
  {
   "cell_type": "code",
   "execution_count": 2,
   "id": "innovative-syndrome",
   "metadata": {
    "execution": {
     "iopub.execute_input": "2021-08-14T09:00:07.797297Z",
     "iopub.status.busy": "2021-08-14T09:00:07.794997Z",
     "iopub.status.idle": "2021-08-14T09:00:07.844155Z",
     "shell.execute_reply": "2021-08-14T09:00:07.845405Z"
    },
    "papermill": {
     "duration": 0.078763,
     "end_time": "2021-08-14T09:00:07.845816",
     "exception": false,
     "start_time": "2021-08-14T09:00:07.767053",
     "status": "completed"
    },
    "tags": []
   },
   "outputs": [],
   "source": [
    "timestamps = pd.read_sql(\"select distinct record_time from EBAY_TOP_BERLIN order by record_time desc limit 2\", sqlite3.connect(\"UsedObjects.db\"))"
   ]
  },
  {
   "cell_type": "code",
   "execution_count": 3,
   "id": "periodic-identification",
   "metadata": {
    "execution": {
     "iopub.execute_input": "2021-08-14T09:00:07.915207Z",
     "iopub.status.busy": "2021-08-14T09:00:07.910129Z",
     "iopub.status.idle": "2021-08-14T09:00:07.930362Z",
     "shell.execute_reply": "2021-08-14T09:00:07.931759Z"
    },
    "papermill": {
     "duration": 0.067314,
     "end_time": "2021-08-14T09:00:07.932175",
     "exception": false,
     "start_time": "2021-08-14T09:00:07.864861",
     "status": "completed"
    },
    "tags": []
   },
   "outputs": [
    {
     "data": {
      "text/html": [
       "<div>\n",
       "<style scoped>\n",
       "    .dataframe tbody tr th:only-of-type {\n",
       "        vertical-align: middle;\n",
       "    }\n",
       "\n",
       "    .dataframe tbody tr th {\n",
       "        vertical-align: top;\n",
       "    }\n",
       "\n",
       "    .dataframe thead th {\n",
       "        text-align: right;\n",
       "    }\n",
       "</style>\n",
       "<table border=\"1\" class=\"dataframe\">\n",
       "  <thead>\n",
       "    <tr style=\"text-align: right;\">\n",
       "      <th></th>\n",
       "      <th>RECORD_TIME</th>\n",
       "    </tr>\n",
       "  </thead>\n",
       "  <tbody>\n",
       "    <tr>\n",
       "      <th>0</th>\n",
       "      <td>2021-08-14 11:00</td>\n",
       "    </tr>\n",
       "    <tr>\n",
       "      <th>1</th>\n",
       "      <td>2021-08-14 10:30</td>\n",
       "    </tr>\n",
       "  </tbody>\n",
       "</table>\n",
       "</div>"
      ],
      "text/plain": [
       "        RECORD_TIME\n",
       "0  2021-08-14 11:00\n",
       "1  2021-08-14 10:30"
      ]
     },
     "execution_count": 3,
     "metadata": {},
     "output_type": "execute_result"
    }
   ],
   "source": [
    "timestamps"
   ]
  },
  {
   "cell_type": "code",
   "execution_count": 4,
   "id": "alternate-victory",
   "metadata": {
    "execution": {
     "iopub.execute_input": "2021-08-14T09:00:07.984086Z",
     "iopub.status.busy": "2021-08-14T09:00:07.981916Z",
     "iopub.status.idle": "2021-08-14T09:00:08.051847Z",
     "shell.execute_reply": "2021-08-14T09:00:08.053043Z"
    },
    "papermill": {
     "duration": 0.099786,
     "end_time": "2021-08-14T09:00:08.053438",
     "exception": false,
     "start_time": "2021-08-14T09:00:07.953652",
     "status": "completed"
    },
    "tags": []
   },
   "outputs": [],
   "source": [
    "df = pd.read_sql(\"select * from EBAY_TOP_BERLIN where record_time in (select distinct record_time from EBAY_TOP_BERLIN order by record_time desc limit 2)\", sqlite3.connect(\"UsedObjects.db\"))"
   ]
  },
  {
   "cell_type": "code",
   "execution_count": 5,
   "id": "popular-active",
   "metadata": {
    "execution": {
     "iopub.execute_input": "2021-08-14T09:00:08.123058Z",
     "iopub.status.busy": "2021-08-14T09:00:08.112890Z",
     "iopub.status.idle": "2021-08-14T09:00:08.139638Z",
     "shell.execute_reply": "2021-08-14T09:00:08.140831Z"
    },
    "papermill": {
     "duration": 0.067574,
     "end_time": "2021-08-14T09:00:08.141226",
     "exception": false,
     "start_time": "2021-08-14T09:00:08.073652",
     "status": "completed"
    },
    "tags": []
   },
   "outputs": [],
   "source": [
    "df_pivot = df.pivot_table(index=\"PRODUCT\", columns = \"RECORD_TIME\", values = \"LISTING_COUNT\")"
   ]
  },
  {
   "cell_type": "code",
   "execution_count": 6,
   "id": "union-huntington",
   "metadata": {
    "execution": {
     "iopub.execute_input": "2021-08-14T09:00:08.197782Z",
     "iopub.status.busy": "2021-08-14T09:00:08.195711Z",
     "iopub.status.idle": "2021-08-14T09:00:08.201152Z",
     "shell.execute_reply": "2021-08-14T09:00:08.202613Z"
    },
    "papermill": {
     "duration": 0.040535,
     "end_time": "2021-08-14T09:00:08.203068",
     "exception": false,
     "start_time": "2021-08-14T09:00:08.162533",
     "status": "completed"
    },
    "tags": []
   },
   "outputs": [],
   "source": [
    "df_pivot.columns = [\"stamp_1\", \"stamp_2\"]\n",
    "df_pivot_diff = df_pivot.diff(axis=1)"
   ]
  },
  {
   "cell_type": "code",
   "execution_count": 7,
   "id": "fifth-motion",
   "metadata": {
    "execution": {
     "iopub.execute_input": "2021-08-14T09:00:08.257698Z",
     "iopub.status.busy": "2021-08-14T09:00:08.255291Z",
     "iopub.status.idle": "2021-08-14T09:00:09.740959Z",
     "shell.execute_reply": "2021-08-14T09:00:09.742299Z"
    },
    "papermill": {
     "duration": 1.518453,
     "end_time": "2021-08-14T09:00:09.742724",
     "exception": false,
     "start_time": "2021-08-14T09:00:08.224271",
     "status": "completed"
    },
    "tags": []
   },
   "outputs": [
    {
     "data": {
      "text/plain": [
       "<AxesSubplot:ylabel='PRODUCT'>"
      ]
     },
     "execution_count": 7,
     "metadata": {},
     "output_type": "execute_result"
    },
    {
     "data": {
      "image/png": "[encoded data removed]",
      "text/plain": [
       "<Figure size 432x288 with 1 Axes>"
      ]
     },
     "metadata": {
      "needs_background": "light"
     },
     "output_type": "display_data"
    }
   ],
   "source": [
    "df_pivot_diff.sort_values(\"stamp_2\", ascending = False)[\"stamp_2\"].head(10).plot.barh()"
   ]
  },
  {
   "cell_type": "code",
   "execution_count": null,
   "id": "extra-executive",
   "metadata": {
    "papermill": {
     "duration": 0.021893,
     "end_time": "2021-08-14T09:00:09.787673",
     "exception": false,
     "start_time": "2021-08-14T09:00:09.765780",
     "status": "completed"
    },
    "tags": []
   },
   "outputs": [],
   "source": []
  }
 ],
 "metadata": {
  "kernelspec": {
   "display_name": "Python 3",
   "language": "python",
   "name": "python3"
  },
  "language_info": {
   "codemirror_mode": {
    "name": "ipython",
    "version": 3
   },
   "file_extension": ".py",
   "mimetype": "text/x-python",
   "name": "python",
   "nbconvert_exporter": "python",
   "pygments_lexer": "ipython3",
   "version": "3.9.5"
  },
  "papermill": {
   "default_parameters": {},
   "duration": 6.826031,
   "end_time": "2021-08-14T09:00:11.292619",
   "environment_variables": {},
   "exception": null,
   "input_path": "eBay_Overview.ipynb",
   "output_path": "eBay_Overview.ipynb",
   "parameters": {},
   "start_time": "2021-08-14T09:00:04.466588",
   "version": "2.3.3"
  }
 },
 "nbformat": 4,
 "nbformat_minor": 5
}