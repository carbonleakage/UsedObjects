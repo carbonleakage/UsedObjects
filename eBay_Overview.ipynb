{
 "cells": [
  {
   "cell_type": "code",
   "execution_count": 1,
   "id": "reverse-picking",
   "metadata": {
    "execution": {
     "iopub.execute_input": "2021-11-15T07:00:07.363147Z",
     "iopub.status.busy": "2021-11-15T07:00:07.361024Z",
     "iopub.status.idle": "2021-11-15T07:00:08.286634Z",
     "shell.execute_reply": "2021-11-15T07:00:08.288056Z"
    },
    "papermill": {
     "duration": 0.975466,
     "end_time": "2021-11-15T07:00:08.288855",
     "exception": false,
     "start_time": "2021-11-15T07:00:07.313389",
     "status": "completed"
    },
    "tags": []
   },
   "outputs": [],
   "source": [
    "import pandas as pd\n",
    "import sqlite3"
   ]
  },
  {
   "cell_type": "code",
   "execution_count": 2,
   "id": "innovative-syndrome",
   "metadata": {
    "execution": {
     "iopub.execute_input": "2021-11-15T07:00:08.350594Z",
     "iopub.status.busy": "2021-11-15T07:00:08.348123Z",
     "iopub.status.idle": "2021-11-15T07:00:09.175746Z",
     "shell.execute_reply": "2021-11-15T07:00:09.177395Z"
    },
    "papermill": {
     "duration": 0.861141,
     "end_time": "2021-11-15T07:00:09.177887",
     "exception": false,
     "start_time": "2021-11-15T07:00:08.316746",
     "status": "completed"
    },
    "tags": []
   },
   "outputs": [],
   "source": [
    "timestamps = pd.read_sql(\"select distinct record_time from EBAY_TOP_BERLIN order by record_time desc limit 2\", sqlite3.connect(\"UsedObjects.db\"))"
   ]
  },
  {
   "cell_type": "code",
   "execution_count": 3,
   "id": "periodic-identification",
   "metadata": {
    "execution": {
     "iopub.execute_input": "2021-11-15T07:00:09.249576Z",
     "iopub.status.busy": "2021-11-15T07:00:09.247174Z",
     "iopub.status.idle": "2021-11-15T07:00:09.274246Z",
     "shell.execute_reply": "2021-11-15T07:00:09.272071Z"
    },
    "papermill": {
     "duration": 0.075985,
     "end_time": "2021-11-15T07:00:09.274682",
     "exception": false,
     "start_time": "2021-11-15T07:00:09.198697",
     "status": "completed"
    },
    "tags": []
   },
   "outputs": [
    {
     "data": {
      "text/html": [
       "<div>\n",
       "<style scoped>\n",
       "    .dataframe tbody tr th:only-of-type {\n",
       "        vertical-align: middle;\n",
       "    }\n",
       "\n",
       "    .dataframe tbody tr th {\n",
       "        vertical-align: top;\n",
       "    }\n",
       "\n",
       "    .dataframe thead th {\n",
       "        text-align: right;\n",
       "    }\n",
       "</style>\n",
       "<table border=\"1\" class=\"dataframe\">\n",
       "  <thead>\n",
       "    <tr style=\"text-align: right;\">\n",
       "      <th></th>\n",
       "      <th>RECORD_TIME</th>\n",
       "    </tr>\n",
       "  </thead>\n",
       "  <tbody>\n",
       "    <tr>\n",
       "      <th>0</th>\n",
       "      <td>2021-11-15 08:00</td>\n",
       "    </tr>\n",
       "    <tr>\n",
       "      <th>1</th>\n",
       "      <td>2021-11-15 07:30</td>\n",
       "    </tr>\n",
       "  </tbody>\n",
       "</table>\n",
       "</div>"
      ],
      "text/plain": [
       "        RECORD_TIME\n",
       "0  2021-11-15 08:00\n",
       "1  2021-11-15 07:30"
      ]
     },
     "execution_count": 3,
     "metadata": {},
     "output_type": "execute_result"
    }
   ],
   "source": [
    "timestamps"
   ]
  },
  {
   "cell_type": "code",
   "execution_count": 4,
   "id": "alternate-victory",
   "metadata": {
    "execution": {
     "iopub.execute_input": "2021-11-15T07:00:09.332181Z",
     "iopub.status.busy": "2021-11-15T07:00:09.329418Z",
     "iopub.status.idle": "2021-11-15T07:00:10.540976Z",
     "shell.execute_reply": "2021-11-15T07:00:10.542860Z"
    },
    "papermill": {
     "duration": 1.247173,
     "end_time": "2021-11-15T07:00:10.543342",
     "exception": false,
     "start_time": "2021-11-15T07:00:09.296169",
     "status": "completed"
    },
    "tags": []
   },
   "outputs": [],
   "source": [
    "df = pd.read_sql(\"select * from EBAY_TOP_BERLIN where record_time in (select distinct record_time from EBAY_TOP_BERLIN order by record_time desc limit 2)\", sqlite3.connect(\"UsedObjects.db\"))"
   ]
  },
  {
   "cell_type": "code",
   "execution_count": 5,
   "id": "popular-active",
   "metadata": {
    "execution": {
     "iopub.execute_input": "2021-11-15T07:00:10.615924Z",
     "iopub.status.busy": "2021-11-15T07:00:10.605694Z",
     "iopub.status.idle": "2021-11-15T07:00:10.651396Z",
     "shell.execute_reply": "2021-11-15T07:00:10.654253Z"
    },
    "papermill": {
     "duration": 0.091078,
     "end_time": "2021-11-15T07:00:10.655067",
     "exception": false,
     "start_time": "2021-11-15T07:00:10.563989",
     "status": "completed"
    },
    "tags": []
   },
   "outputs": [],
   "source": [
    "df_pivot = df.pivot_table(index=\"PRODUCT\", columns = \"RECORD_TIME\", values = \"LISTING_COUNT\")"
   ]
  },
  {
   "cell_type": "code",
   "execution_count": 6,
   "id": "union-huntington",
   "metadata": {
    "execution": {
     "iopub.execute_input": "2021-11-15T07:00:10.734698Z",
     "iopub.status.busy": "2021-11-15T07:00:10.732414Z",
     "iopub.status.idle": "2021-11-15T07:00:10.738816Z",
     "shell.execute_reply": "2021-11-15T07:00:10.740433Z"
    },
    "papermill": {
     "duration": 0.054218,
     "end_time": "2021-11-15T07:00:10.741076",
     "exception": false,
     "start_time": "2021-11-15T07:00:10.686858",
     "status": "completed"
    },
    "tags": []
   },
   "outputs": [],
   "source": [
    "df_pivot.columns = [\"stamp_1\", \"stamp_2\"]\n",
    "df_pivot_diff = df_pivot.diff(axis=1)"
   ]
  },
  {
   "cell_type": "code",
   "execution_count": 7,
   "id": "fifth-motion",
   "metadata": {
    "execution": {
     "iopub.execute_input": "2021-11-15T07:00:10.800357Z",
     "iopub.status.busy": "2021-11-15T07:00:10.797996Z",
     "iopub.status.idle": "2021-11-15T07:00:12.670000Z",
     "shell.execute_reply": "2021-11-15T07:00:12.672101Z"
    },
    "papermill": {
     "duration": 1.910258,
     "end_time": "2021-11-15T07:00:12.672854",
     "exception": false,
     "start_time": "2021-11-15T07:00:10.762596",
     "status": "completed"
    },
    "tags": []
   },
   "outputs": [
    {
     "data": {
      "text/plain": [
       "<AxesSubplot:ylabel='PRODUCT'>"
      ]
     },
     "execution_count": 7,
     "metadata": {},
     "output_type": "execute_result"
    },
    {
     "data": {
      "image/png": "[encoded data removed]",
      "text/plain": [
       "<Figure size 432x288 with 1 Axes>"
      ]
     },
     "metadata": {
      "needs_background": "light"
     },
     "output_type": "display_data"
    }
   ],
   "source": [
    "df_pivot_diff.sort_values(\"stamp_2\", ascending = False)[\"stamp_2\"].head(10).plot.barh()"
   ]
  },
  {
   "cell_type": "code",
   "execution_count": null,
   "id": "extra-executive",
   "metadata": {
    "papermill": {
     "duration": 0.032536,
     "end_time": "2021-11-15T07:00:12.741120",
     "exception": false,
     "start_time": "2021-11-15T07:00:12.708584",
     "status": "completed"
    },
    "tags": []
   },
   "outputs": [],
   "source": []
  }
 ],
 "metadata": {
  "kernelspec": {
   "display_name": "Python 3",
   "language": "python",
   "name": "python3"
  },
  "language_info": {
   "codemirror_mode": {
    "name": "ipython",
    "version": 3
   },
   "file_extension": ".py",
   "mimetype": "text/x-python",
   "name": "python",
   "nbconvert_exporter": "python",
   "pygments_lexer": "ipython3",
   "version": "3.9.5"
  },
  "papermill": {
   "default_parameters": {},
   "duration": 9.925954,
   "end_time": "2021-11-15T07:00:14.513668",
   "environment_variables": {},
   "exception": null,
   "input_path": "eBay_Overview.ipynb",
   "output_path": "eBay_Overview.ipynb",
   "parameters": {},
   "start_time": "2021-11-15T07:00:04.587714",
   "version": "2.3.3"
  }
 },
 "nbformat": 4,
 "nbformat_minor": 5
}