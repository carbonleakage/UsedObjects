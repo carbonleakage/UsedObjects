{
 "cells": [
  {
   "cell_type": "code",
   "execution_count": 1,
   "id": "reverse-picking",
   "metadata": {
    "execution": {
     "iopub.execute_input": "2021-10-11T14:30:07.275297Z",
     "iopub.status.busy": "2021-10-11T14:30:07.273400Z",
     "iopub.status.idle": "2021-10-11T14:30:08.075945Z",
     "shell.execute_reply": "2021-10-11T14:30:08.074245Z"
    },
    "papermill": {
     "duration": 0.853507,
     "end_time": "2021-10-11T14:30:08.076399",
     "exception": false,
     "start_time": "2021-10-11T14:30:07.222892",
     "status": "completed"
    },
    "tags": []
   },
   "outputs": [],
   "source": [
    "import pandas as pd\n",
    "import sqlite3"
   ]
  },
  {
   "cell_type": "code",
   "execution_count": 2,
   "id": "innovative-syndrome",
   "metadata": {
    "execution": {
     "iopub.execute_input": "2021-10-11T14:30:08.126542Z",
     "iopub.status.busy": "2021-10-11T14:30:08.124128Z",
     "iopub.status.idle": "2021-10-11T14:30:08.633449Z",
     "shell.execute_reply": "2021-10-11T14:30:08.634578Z"
    },
    "papermill": {
     "duration": 0.539369,
     "end_time": "2021-10-11T14:30:08.634984",
     "exception": false,
     "start_time": "2021-10-11T14:30:08.095615",
     "status": "completed"
    },
    "tags": []
   },
   "outputs": [],
   "source": [
    "timestamps = pd.read_sql(\"select distinct record_time from EBAY_TOP_BERLIN order by record_time desc limit 2\", sqlite3.connect(\"UsedObjects.db\"))"
   ]
  },
  {
   "cell_type": "code",
   "execution_count": 3,
   "id": "periodic-identification",
   "metadata": {
    "execution": {
     "iopub.execute_input": "2021-10-11T14:30:08.707544Z",
     "iopub.status.busy": "2021-10-11T14:30:08.702456Z",
     "iopub.status.idle": "2021-10-11T14:30:08.722218Z",
     "shell.execute_reply": "2021-10-11T14:30:08.723496Z"
    },
    "papermill": {
     "duration": 0.06575,
     "end_time": "2021-10-11T14:30:08.723904",
     "exception": false,
     "start_time": "2021-10-11T14:30:08.658154",
     "status": "completed"
    },
    "tags": []
   },
   "outputs": [
    {
     "data": {
      "text/html": [
       "<div>\n",
       "<style scoped>\n",
       "    .dataframe tbody tr th:only-of-type {\n",
       "        vertical-align: middle;\n",
       "    }\n",
       "\n",
       "    .dataframe tbody tr th {\n",
       "        vertical-align: top;\n",
       "    }\n",
       "\n",
       "    .dataframe thead th {\n",
       "        text-align: right;\n",
       "    }\n",
       "</style>\n",
       "<table border=\"1\" class=\"dataframe\">\n",
       "  <thead>\n",
       "    <tr style=\"text-align: right;\">\n",
       "      <th></th>\n",
       "      <th>RECORD_TIME</th>\n",
       "    </tr>\n",
       "  </thead>\n",
       "  <tbody>\n",
       "    <tr>\n",
       "      <th>0</th>\n",
       "      <td>2021-10-11 16:30</td>\n",
       "    </tr>\n",
       "    <tr>\n",
       "      <th>1</th>\n",
       "      <td>2021-10-11 16:00</td>\n",
       "    </tr>\n",
       "  </tbody>\n",
       "</table>\n",
       "</div>"
      ],
      "text/plain": [
       "        RECORD_TIME\n",
       "0  2021-10-11 16:30\n",
       "1  2021-10-11 16:00"
      ]
     },
     "execution_count": 3,
     "metadata": {},
     "output_type": "execute_result"
    }
   ],
   "source": [
    "timestamps"
   ]
  },
  {
   "cell_type": "code",
   "execution_count": 4,
   "id": "alternate-victory",
   "metadata": {
    "execution": {
     "iopub.execute_input": "2021-10-11T14:30:08.785456Z",
     "iopub.status.busy": "2021-10-11T14:30:08.783539Z",
     "iopub.status.idle": "2021-10-11T14:30:09.538643Z",
     "shell.execute_reply": "2021-10-11T14:30:09.539860Z"
    },
    "papermill": {
     "duration": 0.7902,
     "end_time": "2021-10-11T14:30:09.540255",
     "exception": false,
     "start_time": "2021-10-11T14:30:08.750055",
     "status": "completed"
    },
    "tags": []
   },
   "outputs": [],
   "source": [
    "df = pd.read_sql(\"select * from EBAY_TOP_BERLIN where record_time in (select distinct record_time from EBAY_TOP_BERLIN order by record_time desc limit 2)\", sqlite3.connect(\"UsedObjects.db\"))"
   ]
  },
  {
   "cell_type": "code",
   "execution_count": 5,
   "id": "popular-active",
   "metadata": {
    "execution": {
     "iopub.execute_input": "2021-10-11T14:30:09.612133Z",
     "iopub.status.busy": "2021-10-11T14:30:09.599991Z",
     "iopub.status.idle": "2021-10-11T14:30:09.627775Z",
     "shell.execute_reply": "2021-10-11T14:30:09.629053Z"
    },
    "papermill": {
     "duration": 0.068452,
     "end_time": "2021-10-11T14:30:09.629453",
     "exception": false,
     "start_time": "2021-10-11T14:30:09.561001",
     "status": "completed"
    },
    "tags": []
   },
   "outputs": [],
   "source": [
    "df_pivot = df.pivot_table(index=\"PRODUCT\", columns = \"RECORD_TIME\", values = \"LISTING_COUNT\")"
   ]
  },
  {
   "cell_type": "code",
   "execution_count": 6,
   "id": "union-huntington",
   "metadata": {
    "execution": {
     "iopub.execute_input": "2021-10-11T14:30:09.686688Z",
     "iopub.status.busy": "2021-10-11T14:30:09.684504Z",
     "iopub.status.idle": "2021-10-11T14:30:09.690069Z",
     "shell.execute_reply": "2021-10-11T14:30:09.691321Z"
    },
    "papermill": {
     "duration": 0.041036,
     "end_time": "2021-10-11T14:30:09.691762",
     "exception": false,
     "start_time": "2021-10-11T14:30:09.650726",
     "status": "completed"
    },
    "tags": []
   },
   "outputs": [],
   "source": [
    "df_pivot.columns = [\"stamp_1\", \"stamp_2\"]\n",
    "df_pivot_diff = df_pivot.diff(axis=1)"
   ]
  },
  {
   "cell_type": "code",
   "execution_count": 7,
   "id": "fifth-motion",
   "metadata": {
    "execution": {
     "iopub.execute_input": "2021-10-11T14:30:09.747964Z",
     "iopub.status.busy": "2021-10-11T14:30:09.745348Z",
     "iopub.status.idle": "2021-10-11T14:30:11.232035Z",
     "shell.execute_reply": "2021-10-11T14:30:11.233588Z"
    },
    "papermill": {
     "duration": 1.520709,
     "end_time": "2021-10-11T14:30:11.234060",
     "exception": false,
     "start_time": "2021-10-11T14:30:09.713351",
     "status": "completed"
    },
    "tags": []
   },
   "outputs": [
    {
     "data": {
      "text/plain": [
       "<AxesSubplot:ylabel='PRODUCT'>"
      ]
     },
     "execution_count": 7,
     "metadata": {},
     "output_type": "execute_result"
    },
    {
     "data": {
      "image/png": "[encoded data removed]",
      "text/plain": [
       "<Figure size 432x288 with 1 Axes>"
      ]
     },
     "metadata": {
      "needs_background": "light"
     },
     "output_type": "display_data"
    }
   ],
   "source": [
    "df_pivot_diff.sort_values(\"stamp_2\", ascending = False)[\"stamp_2\"].head(10).plot.barh()"
   ]
  },
  {
   "cell_type": "code",
   "execution_count": null,
   "id": "extra-executive",
   "metadata": {
    "papermill": {
     "duration": 0.022744,
     "end_time": "2021-10-11T14:30:11.281554",
     "exception": false,
     "start_time": "2021-10-11T14:30:11.258810",
     "status": "completed"
    },
    "tags": []
   },
   "outputs": [],
   "source": []
  }
 ],
 "metadata": {
  "kernelspec": {
   "display_name": "Python 3",
   "language": "python",
   "name": "python3"
  },
  "language_info": {
   "codemirror_mode": {
    "name": "ipython",
    "version": 3
   },
   "file_extension": ".py",
   "mimetype": "text/x-python",
   "name": "python",
   "nbconvert_exporter": "python",
   "pygments_lexer": "ipython3",
   "version": "3.9.5"
  },
  "papermill": {
   "default_parameters": {},
   "duration": 7.833546,
   "end_time": "2021-10-11T14:30:12.654382",
   "environment_variables": {},
   "exception": null,
   "input_path": "eBay_Overview.ipynb",
   "output_path": "eBay_Overview.ipynb",
   "parameters": {},
   "start_time": "2021-10-11T14:30:04.820836",
   "version": "2.3.3"
  }
 },
 "nbformat": 4,
 "nbformat_minor": 5
}