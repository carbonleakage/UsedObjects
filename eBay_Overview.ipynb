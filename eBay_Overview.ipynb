{
 "cells": [
  {
   "cell_type": "code",
   "execution_count": 1,
   "id": "reverse-picking",
   "metadata": {
    "execution": {
     "iopub.execute_input": "2021-09-02T00:30:06.751273Z",
     "iopub.status.busy": "2021-09-02T00:30:06.749286Z",
     "iopub.status.idle": "2021-09-02T00:30:07.552669Z",
     "shell.execute_reply": "2021-09-02T00:30:07.553913Z"
    },
    "papermill": {
     "duration": 0.853642,
     "end_time": "2021-09-02T00:30:07.554519",
     "exception": false,
     "start_time": "2021-09-02T00:30:06.700877",
     "status": "completed"
    },
    "tags": []
   },
   "outputs": [],
   "source": [
    "import pandas as pd\n",
    "import sqlite3"
   ]
  },
  {
   "cell_type": "code",
   "execution_count": 2,
   "id": "innovative-syndrome",
   "metadata": {
    "execution": {
     "iopub.execute_input": "2021-09-02T00:30:07.605053Z",
     "iopub.status.busy": "2021-09-02T00:30:07.603214Z",
     "iopub.status.idle": "2021-09-02T00:30:07.790470Z",
     "shell.execute_reply": "2021-09-02T00:30:07.791709Z"
    },
    "papermill": {
     "duration": 0.216813,
     "end_time": "2021-09-02T00:30:07.792141",
     "exception": false,
     "start_time": "2021-09-02T00:30:07.575328",
     "status": "completed"
    },
    "tags": []
   },
   "outputs": [],
   "source": [
    "timestamps = pd.read_sql(\"select distinct record_time from EBAY_TOP_BERLIN order by record_time desc limit 2\", sqlite3.connect(\"UsedObjects.db\"))"
   ]
  },
  {
   "cell_type": "code",
   "execution_count": 3,
   "id": "periodic-identification",
   "metadata": {
    "execution": {
     "iopub.execute_input": "2021-09-02T00:30:07.856819Z",
     "iopub.status.busy": "2021-09-02T00:30:07.854739Z",
     "iopub.status.idle": "2021-09-02T00:30:07.874604Z",
     "shell.execute_reply": "2021-09-02T00:30:07.875794Z"
    },
    "papermill": {
     "duration": 0.064525,
     "end_time": "2021-09-02T00:30:07.876206",
     "exception": false,
     "start_time": "2021-09-02T00:30:07.811681",
     "status": "completed"
    },
    "tags": []
   },
   "outputs": [
    {
     "data": {
      "text/html": [
       "<div>\n",
       "<style scoped>\n",
       "    .dataframe tbody tr th:only-of-type {\n",
       "        vertical-align: middle;\n",
       "    }\n",
       "\n",
       "    .dataframe tbody tr th {\n",
       "        vertical-align: top;\n",
       "    }\n",
       "\n",
       "    .dataframe thead th {\n",
       "        text-align: right;\n",
       "    }\n",
       "</style>\n",
       "<table border=\"1\" class=\"dataframe\">\n",
       "  <thead>\n",
       "    <tr style=\"text-align: right;\">\n",
       "      <th></th>\n",
       "      <th>RECORD_TIME</th>\n",
       "    </tr>\n",
       "  </thead>\n",
       "  <tbody>\n",
       "    <tr>\n",
       "      <th>0</th>\n",
       "      <td>2021-09-02 02:30</td>\n",
       "    </tr>\n",
       "    <tr>\n",
       "      <th>1</th>\n",
       "      <td>2021-09-02 02:00</td>\n",
       "    </tr>\n",
       "  </tbody>\n",
       "</table>\n",
       "</div>"
      ],
      "text/plain": [
       "        RECORD_TIME\n",
       "0  2021-09-02 02:30\n",
       "1  2021-09-02 02:00"
      ]
     },
     "execution_count": 3,
     "metadata": {},
     "output_type": "execute_result"
    }
   ],
   "source": [
    "timestamps"
   ]
  },
  {
   "cell_type": "code",
   "execution_count": 4,
   "id": "alternate-victory",
   "metadata": {
    "execution": {
     "iopub.execute_input": "2021-09-02T00:30:07.929411Z",
     "iopub.status.busy": "2021-09-02T00:30:07.927287Z",
     "iopub.status.idle": "2021-09-02T00:30:08.206411Z",
     "shell.execute_reply": "2021-09-02T00:30:08.207753Z"
    },
    "papermill": {
     "duration": 0.30934,
     "end_time": "2021-09-02T00:30:08.208165",
     "exception": false,
     "start_time": "2021-09-02T00:30:07.898825",
     "status": "completed"
    },
    "tags": []
   },
   "outputs": [],
   "source": [
    "df = pd.read_sql(\"select * from EBAY_TOP_BERLIN where record_time in (select distinct record_time from EBAY_TOP_BERLIN order by record_time desc limit 2)\", sqlite3.connect(\"UsedObjects.db\"))"
   ]
  },
  {
   "cell_type": "code",
   "execution_count": 5,
   "id": "popular-active",
   "metadata": {
    "execution": {
     "iopub.execute_input": "2021-09-02T00:30:08.294176Z",
     "iopub.status.busy": "2021-09-02T00:30:08.291672Z",
     "iopub.status.idle": "2021-09-02T00:30:08.309371Z",
     "shell.execute_reply": "2021-09-02T00:30:08.310634Z"
    },
    "papermill": {
     "duration": 0.073406,
     "end_time": "2021-09-02T00:30:08.311102",
     "exception": false,
     "start_time": "2021-09-02T00:30:08.237696",
     "status": "completed"
    },
    "tags": []
   },
   "outputs": [],
   "source": [
    "df_pivot = df.pivot_table(index=\"PRODUCT\", columns = \"RECORD_TIME\", values = \"LISTING_COUNT\")"
   ]
  },
  {
   "cell_type": "code",
   "execution_count": 6,
   "id": "union-huntington",
   "metadata": {
    "execution": {
     "iopub.execute_input": "2021-09-02T00:30:08.368345Z",
     "iopub.status.busy": "2021-09-02T00:30:08.366158Z",
     "iopub.status.idle": "2021-09-02T00:30:08.371846Z",
     "shell.execute_reply": "2021-09-02T00:30:08.373121Z"
    },
    "papermill": {
     "duration": 0.040698,
     "end_time": "2021-09-02T00:30:08.373564",
     "exception": false,
     "start_time": "2021-09-02T00:30:08.332866",
     "status": "completed"
    },
    "tags": []
   },
   "outputs": [],
   "source": [
    "df_pivot.columns = [\"stamp_1\", \"stamp_2\"]\n",
    "df_pivot_diff = df_pivot.diff(axis=1)"
   ]
  },
  {
   "cell_type": "code",
   "execution_count": 7,
   "id": "fifth-motion",
   "metadata": {
    "execution": {
     "iopub.execute_input": "2021-09-02T00:30:08.427781Z",
     "iopub.status.busy": "2021-09-02T00:30:08.425247Z",
     "iopub.status.idle": "2021-09-02T00:30:09.888149Z",
     "shell.execute_reply": "2021-09-02T00:30:09.889434Z"
    },
    "papermill": {
     "duration": 1.495685,
     "end_time": "2021-09-02T00:30:09.889847",
     "exception": false,
     "start_time": "2021-09-02T00:30:08.394162",
     "status": "completed"
    },
    "tags": []
   },
   "outputs": [
    {
     "data": {
      "text/plain": [
       "<AxesSubplot:ylabel='PRODUCT'>"
      ]
     },
     "execution_count": 7,
     "metadata": {},
     "output_type": "execute_result"
    },
    {
     "data": {
      "image/png": "[encoded data removed]",
      "text/plain": [
       "<Figure size 432x288 with 1 Axes>"
      ]
     },
     "metadata": {
      "needs_background": "light"
     },
     "output_type": "display_data"
    }
   ],
   "source": [
    "df_pivot_diff.sort_values(\"stamp_2\", ascending = False)[\"stamp_2\"].head(10).plot.barh()"
   ]
  },
  {
   "cell_type": "code",
   "execution_count": null,
   "id": "extra-executive",
   "metadata": {
    "papermill": {
     "duration": 0.022188,
     "end_time": "2021-09-02T00:30:09.935866",
     "exception": false,
     "start_time": "2021-09-02T00:30:09.913678",
     "status": "completed"
    },
    "tags": []
   },
   "outputs": [],
   "source": []
  }
 ],
 "metadata": {
  "kernelspec": {
   "display_name": "Python 3",
   "language": "python",
   "name": "python3"
  },
  "language_info": {
   "codemirror_mode": {
    "name": "ipython",
    "version": 3
   },
   "file_extension": ".py",
   "mimetype": "text/x-python",
   "name": "python",
   "nbconvert_exporter": "python",
   "pygments_lexer": "ipython3",
   "version": "3.9.5"
  },
  "papermill": {
   "default_parameters": {},
   "duration": 6.821997,
   "end_time": "2021-09-02T00:30:11.118447",
   "environment_variables": {},
   "exception": null,
   "input_path": "eBay_Overview.ipynb",
   "output_path": "eBay_Overview.ipynb",
   "parameters": {},
   "start_time": "2021-09-02T00:30:04.296450",
   "version": "2.3.3"
  }
 },
 "nbformat": 4,
 "nbformat_minor": 5
}