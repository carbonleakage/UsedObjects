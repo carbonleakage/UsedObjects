{
 "cells": [
  {
   "cell_type": "code",
   "execution_count": 1,
   "id": "reverse-picking",
   "metadata": {
    "execution": {
     "iopub.execute_input": "2021-08-09T11:00:04.266583Z",
     "iopub.status.busy": "2021-08-09T11:00:04.265808Z",
     "iopub.status.idle": "2021-08-09T11:00:04.852307Z",
     "shell.execute_reply": "2021-08-09T11:00:04.852898Z"
    },
    "papermill": {
     "duration": 0.60606,
     "end_time": "2021-08-09T11:00:04.853201",
     "exception": false,
     "start_time": "2021-08-09T11:00:04.247141",
     "status": "completed"
    },
    "tags": []
   },
   "outputs": [],
   "source": [
    "import pandas as pd\n",
    "import sqlite3"
   ]
  },
  {
   "cell_type": "code",
   "execution_count": 2,
   "id": "innovative-syndrome",
   "metadata": {
    "execution": {
     "iopub.execute_input": "2021-08-09T11:00:04.880379Z",
     "iopub.status.busy": "2021-08-09T11:00:04.879595Z",
     "iopub.status.idle": "2021-08-09T11:00:05.131181Z",
     "shell.execute_reply": "2021-08-09T11:00:05.131858Z"
    },
    "papermill": {
     "duration": 0.268753,
     "end_time": "2021-08-09T11:00:05.132083",
     "exception": false,
     "start_time": "2021-08-09T11:00:04.863330",
     "status": "completed"
    },
    "tags": []
   },
   "outputs": [],
   "source": [
    "timestamps = pd.read_sql(\"select distinct record_time from EBAY_TOP_BERLIN order by record_time desc limit 2\", sqlite3.connect(\"UsedObjects.db\"))"
   ]
  },
  {
   "cell_type": "code",
   "execution_count": 3,
   "id": "periodic-identification",
   "metadata": {
    "execution": {
     "iopub.execute_input": "2021-08-09T11:00:05.159966Z",
     "iopub.status.busy": "2021-08-09T11:00:05.159191Z",
     "iopub.status.idle": "2021-08-09T11:00:05.169683Z",
     "shell.execute_reply": "2021-08-09T11:00:05.170222Z"
    },
    "papermill": {
     "duration": 0.029689,
     "end_time": "2021-08-09T11:00:05.170405",
     "exception": false,
     "start_time": "2021-08-09T11:00:05.140716",
     "status": "completed"
    },
    "tags": []
   },
   "outputs": [
    {
     "data": {
      "text/html": [
       "<div>\n",
       "<style scoped>\n",
       "    .dataframe tbody tr th:only-of-type {\n",
       "        vertical-align: middle;\n",
       "    }\n",
       "\n",
       "    .dataframe tbody tr th {\n",
       "        vertical-align: top;\n",
       "    }\n",
       "\n",
       "    .dataframe thead th {\n",
       "        text-align: right;\n",
       "    }\n",
       "</style>\n",
       "<table border=\"1\" class=\"dataframe\">\n",
       "  <thead>\n",
       "    <tr style=\"text-align: right;\">\n",
       "      <th></th>\n",
       "      <th>RECORD_TIME</th>\n",
       "    </tr>\n",
       "  </thead>\n",
       "  <tbody>\n",
       "    <tr>\n",
       "      <th>0</th>\n",
       "      <td>2021-08-09 13:00</td>\n",
       "    </tr>\n",
       "    <tr>\n",
       "      <th>1</th>\n",
       "      <td>2021-08-09 12:30</td>\n",
       "    </tr>\n",
       "  </tbody>\n",
       "</table>\n",
       "</div>"
      ],
      "text/plain": [
       "        RECORD_TIME\n",
       "0  2021-08-09 13:00\n",
       "1  2021-08-09 12:30"
      ]
     },
     "execution_count": 3,
     "metadata": {},
     "output_type": "execute_result"
    }
   ],
   "source": [
    "timestamps"
   ]
  },
  {
   "cell_type": "code",
   "execution_count": 4,
   "id": "alternate-victory",
   "metadata": {
    "execution": {
     "iopub.execute_input": "2021-08-09T11:00:05.197488Z",
     "iopub.status.busy": "2021-08-09T11:00:05.196613Z",
     "iopub.status.idle": "2021-08-09T11:00:05.204703Z",
     "shell.execute_reply": "2021-08-09T11:00:05.205243Z"
    },
    "papermill": {
     "duration": 0.022197,
     "end_time": "2021-08-09T11:00:05.205428",
     "exception": false,
     "start_time": "2021-08-09T11:00:05.183231",
     "status": "completed"
    },
    "tags": []
   },
   "outputs": [],
   "source": [
    "df = pd.read_sql(\"select * from EBAY_TOP_BERLIN where record_time in (select distinct record_time from EBAY_TOP_BERLIN order by record_time desc limit 2)\", sqlite3.connect(\"UsedObjects.db\"))"
   ]
  },
  {
   "cell_type": "code",
   "execution_count": 5,
   "id": "popular-active",
   "metadata": {
    "execution": {
     "iopub.execute_input": "2021-08-09T11:00:05.233941Z",
     "iopub.status.busy": "2021-08-09T11:00:05.233161Z",
     "iopub.status.idle": "2021-08-09T11:00:05.257173Z",
     "shell.execute_reply": "2021-08-09T11:00:05.257989Z"
    },
    "papermill": {
     "duration": 0.042476,
     "end_time": "2021-08-09T11:00:05.258246",
     "exception": false,
     "start_time": "2021-08-09T11:00:05.215770",
     "status": "completed"
    },
    "tags": []
   },
   "outputs": [],
   "source": [
    "df_pivot = df.pivot_table(index=\"PRODUCT\", columns = \"RECORD_TIME\", values = \"LISTING_COUNT\")"
   ]
  },
  {
   "cell_type": "code",
   "execution_count": 6,
   "id": "union-huntington",
   "metadata": {
    "execution": {
     "iopub.execute_input": "2021-08-09T11:00:05.286346Z",
     "iopub.status.busy": "2021-08-09T11:00:05.285478Z",
     "iopub.status.idle": "2021-08-09T11:00:05.288041Z",
     "shell.execute_reply": "2021-08-09T11:00:05.288659Z"
    },
    "papermill": {
     "duration": 0.021687,
     "end_time": "2021-08-09T11:00:05.288852",
     "exception": false,
     "start_time": "2021-08-09T11:00:05.267165",
     "status": "completed"
    },
    "tags": []
   },
   "outputs": [],
   "source": [
    "df_pivot.columns = [\"stamp_1\", \"stamp_2\"]\n",
    "df_pivot_diff = df_pivot.diff(axis=1)"
   ]
  },
  {
   "cell_type": "code",
   "execution_count": 7,
   "id": "fifth-motion",
   "metadata": {
    "execution": {
     "iopub.execute_input": "2021-08-09T11:00:05.323195Z",
     "iopub.status.busy": "2021-08-09T11:00:05.321177Z",
     "iopub.status.idle": "2021-08-09T11:00:05.964850Z",
     "shell.execute_reply": "2021-08-09T11:00:05.965435Z"
    },
    "papermill": {
     "duration": 0.668309,
     "end_time": "2021-08-09T11:00:05.965635",
     "exception": false,
     "start_time": "2021-08-09T11:00:05.297326",
     "status": "completed"
    },
    "tags": []
   },
   "outputs": [
    {
     "data": {
      "text/plain": [
       "<AxesSubplot:ylabel='PRODUCT'>"
      ]
     },
     "execution_count": 7,
     "metadata": {},
     "output_type": "execute_result"
    },
    {
     "data": {
      "image/png": "[encoded data removed]",
      "text/plain": [
       "<Figure size 432x288 with 1 Axes>"
      ]
     },
     "metadata": {
      "needs_background": "light"
     },
     "output_type": "display_data"
    }
   ],
   "source": [
    "df_pivot_diff.sort_values(\"stamp_2\", ascending = False)[\"stamp_2\"].head(10).plot.barh()"
   ]
  },
  {
   "cell_type": "code",
   "execution_count": null,
   "id": "extra-executive",
   "metadata": {
    "papermill": {
     "duration": 0.009929,
     "end_time": "2021-08-09T11:00:05.985758",
     "exception": false,
     "start_time": "2021-08-09T11:00:05.975829",
     "status": "completed"
    },
    "tags": []
   },
   "outputs": [],
   "source": []
  }
 ],
 "metadata": {
  "kernelspec": {
   "display_name": "Python 3",
   "language": "python",
   "name": "python3"
  },
  "language_info": {
   "codemirror_mode": {
    "name": "ipython",
    "version": 3
   },
   "file_extension": ".py",
   "mimetype": "text/x-python",
   "name": "python",
   "nbconvert_exporter": "python",
   "pygments_lexer": "ipython3",
   "version": "3.8.8"
  },
  "papermill": {
   "default_parameters": {},
   "duration": 5.11083,
   "end_time": "2021-08-09T11:00:07.696290",
   "environment_variables": {},
   "exception": null,
   "input_path": "/Users/saravananshanmugam/Carbonleakage_Git/UsedObjects/eBay_Overview.ipynb",
   "output_path": "/Users/saravananshanmugam/Carbonleakage_Git/UsedObjects/eBay_Overview.ipynb",
   "parameters": {},
   "start_time": "2021-08-09T11:00:02.585460",
   "version": "2.3.3"
  }
 },
 "nbformat": 4,
 "nbformat_minor": 5
}