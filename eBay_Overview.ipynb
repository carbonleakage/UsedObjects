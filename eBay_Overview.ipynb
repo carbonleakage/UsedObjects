{
 "cells": [
  {
   "cell_type": "code",
   "execution_count": 1,
   "id": "reverse-picking",
   "metadata": {
    "execution": {
     "iopub.execute_input": "2021-11-24T16:00:07.907619Z",
     "iopub.status.busy": "2021-11-24T16:00:07.905355Z",
     "iopub.status.idle": "2021-11-24T16:00:08.860507Z",
     "shell.execute_reply": "2021-11-24T16:00:08.862143Z"
    },
    "papermill": {
     "duration": 1.005293,
     "end_time": "2021-11-24T16:00:08.862907",
     "exception": false,
     "start_time": "2021-11-24T16:00:07.857614",
     "status": "completed"
    },
    "tags": []
   },
   "outputs": [],
   "source": [
    "import pandas as pd\n",
    "import sqlite3"
   ]
  },
  {
   "cell_type": "code",
   "execution_count": 2,
   "id": "innovative-syndrome",
   "metadata": {
    "execution": {
     "iopub.execute_input": "2021-11-24T16:00:08.926561Z",
     "iopub.status.busy": "2021-11-24T16:00:08.924182Z",
     "iopub.status.idle": "2021-11-24T16:00:09.838453Z",
     "shell.execute_reply": "2021-11-24T16:00:09.840055Z"
    },
    "papermill": {
     "duration": 0.949175,
     "end_time": "2021-11-24T16:00:09.840540",
     "exception": false,
     "start_time": "2021-11-24T16:00:08.891365",
     "status": "completed"
    },
    "tags": []
   },
   "outputs": [],
   "source": [
    "timestamps = pd.read_sql(\"select distinct record_time from EBAY_TOP_BERLIN order by record_time desc limit 2\", sqlite3.connect(\"UsedObjects.db\"))"
   ]
  },
  {
   "cell_type": "code",
   "execution_count": 3,
   "id": "periodic-identification",
   "metadata": {
    "execution": {
     "iopub.execute_input": "2021-11-24T16:00:09.912961Z",
     "iopub.status.busy": "2021-11-24T16:00:09.910628Z",
     "iopub.status.idle": "2021-11-24T16:00:09.933239Z",
     "shell.execute_reply": "2021-11-24T16:00:09.934570Z"
    },
    "papermill": {
     "duration": 0.072402,
     "end_time": "2021-11-24T16:00:09.935053",
     "exception": false,
     "start_time": "2021-11-24T16:00:09.862651",
     "status": "completed"
    },
    "tags": []
   },
   "outputs": [
    {
     "data": {
      "text/html": [
       "<div>\n",
       "<style scoped>\n",
       "    .dataframe tbody tr th:only-of-type {\n",
       "        vertical-align: middle;\n",
       "    }\n",
       "\n",
       "    .dataframe tbody tr th {\n",
       "        vertical-align: top;\n",
       "    }\n",
       "\n",
       "    .dataframe thead th {\n",
       "        text-align: right;\n",
       "    }\n",
       "</style>\n",
       "<table border=\"1\" class=\"dataframe\">\n",
       "  <thead>\n",
       "    <tr style=\"text-align: right;\">\n",
       "      <th></th>\n",
       "      <th>RECORD_TIME</th>\n",
       "    </tr>\n",
       "  </thead>\n",
       "  <tbody>\n",
       "    <tr>\n",
       "      <th>0</th>\n",
       "      <td>2021-11-24 17:00</td>\n",
       "    </tr>\n",
       "    <tr>\n",
       "      <th>1</th>\n",
       "      <td>2021-11-24 16:30</td>\n",
       "    </tr>\n",
       "  </tbody>\n",
       "</table>\n",
       "</div>"
      ],
      "text/plain": [
       "        RECORD_TIME\n",
       "0  2021-11-24 17:00\n",
       "1  2021-11-24 16:30"
      ]
     },
     "execution_count": 3,
     "metadata": {},
     "output_type": "execute_result"
    }
   ],
   "source": [
    "timestamps"
   ]
  },
  {
   "cell_type": "code",
   "execution_count": 4,
   "id": "alternate-victory",
   "metadata": {
    "execution": {
     "iopub.execute_input": "2021-11-24T16:00:09.988848Z",
     "iopub.status.busy": "2021-11-24T16:00:09.986688Z",
     "iopub.status.idle": "2021-11-24T16:00:11.296812Z",
     "shell.execute_reply": "2021-11-24T16:00:11.298342Z"
    },
    "papermill": {
     "duration": 1.34287,
     "end_time": "2021-11-24T16:00:11.298866",
     "exception": false,
     "start_time": "2021-11-24T16:00:09.955996",
     "status": "completed"
    },
    "tags": []
   },
   "outputs": [],
   "source": [
    "df = pd.read_sql(\"select * from EBAY_TOP_BERLIN where record_time in (select distinct record_time from EBAY_TOP_BERLIN order by record_time desc limit 2)\", sqlite3.connect(\"UsedObjects.db\"))"
   ]
  },
  {
   "cell_type": "code",
   "execution_count": 5,
   "id": "popular-active",
   "metadata": {
    "execution": {
     "iopub.execute_input": "2021-11-24T16:00:11.373537Z",
     "iopub.status.busy": "2021-11-24T16:00:11.370971Z",
     "iopub.status.idle": "2021-11-24T16:00:11.397985Z",
     "shell.execute_reply": "2021-11-24T16:00:11.399665Z"
    },
    "papermill": {
     "duration": 0.078992,
     "end_time": "2021-11-24T16:00:11.400229",
     "exception": false,
     "start_time": "2021-11-24T16:00:11.321237",
     "status": "completed"
    },
    "tags": []
   },
   "outputs": [],
   "source": [
    "df_pivot = df.pivot_table(index=\"PRODUCT\", columns = \"RECORD_TIME\", values = \"LISTING_COUNT\")"
   ]
  },
  {
   "cell_type": "code",
   "execution_count": 6,
   "id": "union-huntington",
   "metadata": {
    "execution": {
     "iopub.execute_input": "2021-11-24T16:00:11.462512Z",
     "iopub.status.busy": "2021-11-24T16:00:11.460243Z",
     "iopub.status.idle": "2021-11-24T16:00:11.466214Z",
     "shell.execute_reply": "2021-11-24T16:00:11.467630Z"
    },
    "papermill": {
     "duration": 0.045154,
     "end_time": "2021-11-24T16:00:11.468079",
     "exception": false,
     "start_time": "2021-11-24T16:00:11.422925",
     "status": "completed"
    },
    "tags": []
   },
   "outputs": [],
   "source": [
    "df_pivot.columns = [\"stamp_1\", \"stamp_2\"]\n",
    "df_pivot_diff = df_pivot.diff(axis=1)"
   ]
  },
  {
   "cell_type": "code",
   "execution_count": 7,
   "id": "fifth-motion",
   "metadata": {
    "execution": {
     "iopub.execute_input": "2021-11-24T16:00:11.524436Z",
     "iopub.status.busy": "2021-11-24T16:00:11.521968Z",
     "iopub.status.idle": "2021-11-24T16:00:13.267595Z",
     "shell.execute_reply": "2021-11-24T16:00:13.270633Z"
    },
    "papermill": {
     "duration": 1.782929,
     "end_time": "2021-11-24T16:00:13.271506",
     "exception": false,
     "start_time": "2021-11-24T16:00:11.488577",
     "status": "completed"
    },
    "tags": []
   },
   "outputs": [
    {
     "data": {
      "text/plain": [
       "<AxesSubplot:ylabel='PRODUCT'>"
      ]
     },
     "execution_count": 7,
     "metadata": {},
     "output_type": "execute_result"
    },
    {
     "data": {
      "image/png": "[encoded data removed]",
      "text/plain": [
       "<Figure size 432x288 with 1 Axes>"
      ]
     },
     "metadata": {
      "needs_background": "light"
     },
     "output_type": "display_data"
    }
   ],
   "source": [
    "df_pivot_diff.sort_values(\"stamp_2\", ascending = False)[\"stamp_2\"].head(10).plot.barh()"
   ]
  },
  {
   "cell_type": "code",
   "execution_count": null,
   "id": "extra-executive",
   "metadata": {
    "papermill": {
     "duration": 0.033684,
     "end_time": "2021-11-24T16:00:13.342527",
     "exception": false,
     "start_time": "2021-11-24T16:00:13.308843",
     "status": "completed"
    },
    "tags": []
   },
   "outputs": [],
   "source": []
  }
 ],
 "metadata": {
  "kernelspec": {
   "display_name": "Python 3",
   "language": "python",
   "name": "python3"
  },
  "language_info": {
   "codemirror_mode": {
    "name": "ipython",
    "version": 3
   },
   "file_extension": ".py",
   "mimetype": "text/x-python",
   "name": "python",
   "nbconvert_exporter": "python",
   "pygments_lexer": "ipython3",
   "version": "3.9.5"
  },
  "papermill": {
   "default_parameters": {},
   "duration": 10.022918,
   "end_time": "2021-11-24T16:00:15.043837",
   "environment_variables": {},
   "exception": null,
   "input_path": "eBay_Overview.ipynb",
   "output_path": "eBay_Overview.ipynb",
   "parameters": {},
   "start_time": "2021-11-24T16:00:05.020919",
   "version": "2.3.3"
  }
 },
 "nbformat": 4,
 "nbformat_minor": 5
}