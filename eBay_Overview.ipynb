{
 "cells": [
  {
   "cell_type": "code",
   "execution_count": 1,
   "id": "reverse-picking",
   "metadata": {
    "execution": {
     "iopub.execute_input": "2021-10-01T05:00:06.796166Z",
     "iopub.status.busy": "2021-10-01T05:00:06.794126Z",
     "iopub.status.idle": "2021-10-01T05:00:07.600171Z",
     "shell.execute_reply": "2021-10-01T05:00:07.601432Z"
    },
    "papermill": {
     "duration": 0.855817,
     "end_time": "2021-10-01T05:00:07.602055",
     "exception": false,
     "start_time": "2021-10-01T05:00:06.746238",
     "status": "completed"
    },
    "tags": []
   },
   "outputs": [],
   "source": [
    "import pandas as pd\n",
    "import sqlite3"
   ]
  },
  {
   "cell_type": "code",
   "execution_count": 2,
   "id": "innovative-syndrome",
   "metadata": {
    "execution": {
     "iopub.execute_input": "2021-10-01T05:00:07.656075Z",
     "iopub.status.busy": "2021-10-01T05:00:07.653698Z",
     "iopub.status.idle": "2021-10-01T05:00:08.079268Z",
     "shell.execute_reply": "2021-10-01T05:00:08.080505Z"
    },
    "papermill": {
     "duration": 0.455587,
     "end_time": "2021-10-01T05:00:08.080903",
     "exception": false,
     "start_time": "2021-10-01T05:00:07.625316",
     "status": "completed"
    },
    "tags": []
   },
   "outputs": [],
   "source": [
    "timestamps = pd.read_sql(\"select distinct record_time from EBAY_TOP_BERLIN order by record_time desc limit 2\", sqlite3.connect(\"UsedObjects.db\"))"
   ]
  },
  {
   "cell_type": "code",
   "execution_count": 3,
   "id": "periodic-identification",
   "metadata": {
    "execution": {
     "iopub.execute_input": "2021-10-01T05:00:08.149422Z",
     "iopub.status.busy": "2021-10-01T05:00:08.147415Z",
     "iopub.status.idle": "2021-10-01T05:00:08.167751Z",
     "shell.execute_reply": "2021-10-01T05:00:08.169196Z"
    },
    "papermill": {
     "duration": 0.066193,
     "end_time": "2021-10-01T05:00:08.169630",
     "exception": false,
     "start_time": "2021-10-01T05:00:08.103437",
     "status": "completed"
    },
    "tags": []
   },
   "outputs": [
    {
     "data": {
      "text/html": [
       "<div>\n",
       "<style scoped>\n",
       "    .dataframe tbody tr th:only-of-type {\n",
       "        vertical-align: middle;\n",
       "    }\n",
       "\n",
       "    .dataframe tbody tr th {\n",
       "        vertical-align: top;\n",
       "    }\n",
       "\n",
       "    .dataframe thead th {\n",
       "        text-align: right;\n",
       "    }\n",
       "</style>\n",
       "<table border=\"1\" class=\"dataframe\">\n",
       "  <thead>\n",
       "    <tr style=\"text-align: right;\">\n",
       "      <th></th>\n",
       "      <th>RECORD_TIME</th>\n",
       "    </tr>\n",
       "  </thead>\n",
       "  <tbody>\n",
       "    <tr>\n",
       "      <th>0</th>\n",
       "      <td>2021-10-01 07:00</td>\n",
       "    </tr>\n",
       "    <tr>\n",
       "      <th>1</th>\n",
       "      <td>2021-10-01 06:30</td>\n",
       "    </tr>\n",
       "  </tbody>\n",
       "</table>\n",
       "</div>"
      ],
      "text/plain": [
       "        RECORD_TIME\n",
       "0  2021-10-01 07:00\n",
       "1  2021-10-01 06:30"
      ]
     },
     "execution_count": 3,
     "metadata": {},
     "output_type": "execute_result"
    }
   ],
   "source": [
    "timestamps"
   ]
  },
  {
   "cell_type": "code",
   "execution_count": 4,
   "id": "alternate-victory",
   "metadata": {
    "execution": {
     "iopub.execute_input": "2021-10-01T05:00:08.231226Z",
     "iopub.status.busy": "2021-10-01T05:00:08.228188Z",
     "iopub.status.idle": "2021-10-01T05:00:08.849318Z",
     "shell.execute_reply": "2021-10-01T05:00:08.850531Z"
    },
    "papermill": {
     "duration": 0.660114,
     "end_time": "2021-10-01T05:00:08.850980",
     "exception": false,
     "start_time": "2021-10-01T05:00:08.190866",
     "status": "completed"
    },
    "tags": []
   },
   "outputs": [],
   "source": [
    "df = pd.read_sql(\"select * from EBAY_TOP_BERLIN where record_time in (select distinct record_time from EBAY_TOP_BERLIN order by record_time desc limit 2)\", sqlite3.connect(\"UsedObjects.db\"))"
   ]
  },
  {
   "cell_type": "code",
   "execution_count": 5,
   "id": "popular-active",
   "metadata": {
    "execution": {
     "iopub.execute_input": "2021-10-01T05:00:08.921065Z",
     "iopub.status.busy": "2021-10-01T05:00:08.908913Z",
     "iopub.status.idle": "2021-10-01T05:00:08.937396Z",
     "shell.execute_reply": "2021-10-01T05:00:08.938677Z"
    },
    "papermill": {
     "duration": 0.067721,
     "end_time": "2021-10-01T05:00:08.939152",
     "exception": false,
     "start_time": "2021-10-01T05:00:08.871431",
     "status": "completed"
    },
    "tags": []
   },
   "outputs": [],
   "source": [
    "df_pivot = df.pivot_table(index=\"PRODUCT\", columns = \"RECORD_TIME\", values = \"LISTING_COUNT\")"
   ]
  },
  {
   "cell_type": "code",
   "execution_count": 6,
   "id": "union-huntington",
   "metadata": {
    "execution": {
     "iopub.execute_input": "2021-10-01T05:00:08.996431Z",
     "iopub.status.busy": "2021-10-01T05:00:08.994274Z",
     "iopub.status.idle": "2021-10-01T05:00:08.999554Z",
     "shell.execute_reply": "2021-10-01T05:00:09.000843Z"
    },
    "papermill": {
     "duration": 0.040964,
     "end_time": "2021-10-01T05:00:09.001263",
     "exception": false,
     "start_time": "2021-10-01T05:00:08.960299",
     "status": "completed"
    },
    "tags": []
   },
   "outputs": [],
   "source": [
    "df_pivot.columns = [\"stamp_1\", \"stamp_2\"]\n",
    "df_pivot_diff = df_pivot.diff(axis=1)"
   ]
  },
  {
   "cell_type": "code",
   "execution_count": 7,
   "id": "fifth-motion",
   "metadata": {
    "execution": {
     "iopub.execute_input": "2021-10-01T05:00:09.056723Z",
     "iopub.status.busy": "2021-10-01T05:00:09.054120Z",
     "iopub.status.idle": "2021-10-01T05:00:10.580546Z",
     "shell.execute_reply": "2021-10-01T05:00:10.581917Z"
    },
    "papermill": {
     "duration": 1.559699,
     "end_time": "2021-10-01T05:00:10.582354",
     "exception": false,
     "start_time": "2021-10-01T05:00:09.022655",
     "status": "completed"
    },
    "tags": []
   },
   "outputs": [
    {
     "data": {
      "text/plain": [
       "<AxesSubplot:ylabel='PRODUCT'>"
      ]
     },
     "execution_count": 7,
     "metadata": {},
     "output_type": "execute_result"
    },
    {
     "data": {
      "image/png": "[encoded data removed]",
      "text/plain": [
       "<Figure size 432x288 with 1 Axes>"
      ]
     },
     "metadata": {
      "needs_background": "light"
     },
     "output_type": "display_data"
    }
   ],
   "source": [
    "df_pivot_diff.sort_values(\"stamp_2\", ascending = False)[\"stamp_2\"].head(10).plot.barh()"
   ]
  },
  {
   "cell_type": "code",
   "execution_count": null,
   "id": "extra-executive",
   "metadata": {
    "papermill": {
     "duration": 0.022455,
     "end_time": "2021-10-01T05:00:10.629564",
     "exception": false,
     "start_time": "2021-10-01T05:00:10.607109",
     "status": "completed"
    },
    "tags": []
   },
   "outputs": [],
   "source": []
  }
 ],
 "metadata": {
  "kernelspec": {
   "display_name": "Python 3",
   "language": "python",
   "name": "python3"
  },
  "language_info": {
   "codemirror_mode": {
    "name": "ipython",
    "version": 3
   },
   "file_extension": ".py",
   "mimetype": "text/x-python",
   "name": "python",
   "nbconvert_exporter": "python",
   "pygments_lexer": "ipython3",
   "version": "3.9.5"
  },
  "papermill": {
   "default_parameters": {},
   "duration": 7.828281,
   "end_time": "2021-10-01T05:00:12.155947",
   "environment_variables": {},
   "exception": null,
   "input_path": "eBay_Overview.ipynb",
   "output_path": "eBay_Overview.ipynb",
   "parameters": {},
   "start_time": "2021-10-01T05:00:04.327666",
   "version": "2.3.3"
  }
 },
 "nbformat": 4,
 "nbformat_minor": 5
}