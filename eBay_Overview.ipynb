{
 "cells": [
  {
   "cell_type": "code",
   "execution_count": 1,
   "id": "reverse-picking",
   "metadata": {
    "execution": {
     "iopub.execute_input": "2021-11-11T22:30:07.496995Z",
     "iopub.status.busy": "2021-11-11T22:30:07.494678Z",
     "iopub.status.idle": "2021-11-11T22:30:08.441308Z",
     "shell.execute_reply": "2021-11-11T22:30:08.442793Z"
    },
    "papermill": {
     "duration": 0.994802,
     "end_time": "2021-11-11T22:30:08.443562",
     "exception": false,
     "start_time": "2021-11-11T22:30:07.448760",
     "status": "completed"
    },
    "tags": []
   },
   "outputs": [],
   "source": [
    "import pandas as pd\n",
    "import sqlite3"
   ]
  },
  {
   "cell_type": "code",
   "execution_count": 2,
   "id": "innovative-syndrome",
   "metadata": {
    "execution": {
     "iopub.execute_input": "2021-11-11T22:30:08.512413Z",
     "iopub.status.busy": "2021-11-11T22:30:08.510139Z",
     "iopub.status.idle": "2021-11-11T22:30:09.319829Z",
     "shell.execute_reply": "2021-11-11T22:30:09.321411Z"
    },
    "papermill": {
     "duration": 0.856534,
     "end_time": "2021-11-11T22:30:09.321887",
     "exception": false,
     "start_time": "2021-11-11T22:30:08.465353",
     "status": "completed"
    },
    "tags": []
   },
   "outputs": [],
   "source": [
    "timestamps = pd.read_sql(\"select distinct record_time from EBAY_TOP_BERLIN order by record_time desc limit 2\", sqlite3.connect(\"UsedObjects.db\"))"
   ]
  },
  {
   "cell_type": "code",
   "execution_count": 3,
   "id": "periodic-identification",
   "metadata": {
    "execution": {
     "iopub.execute_input": "2021-11-11T22:30:09.393570Z",
     "iopub.status.busy": "2021-11-11T22:30:09.391000Z",
     "iopub.status.idle": "2021-11-11T22:30:09.413540Z",
     "shell.execute_reply": "2021-11-11T22:30:09.414993Z"
    },
    "papermill": {
     "duration": 0.072188,
     "end_time": "2021-11-11T22:30:09.415479",
     "exception": false,
     "start_time": "2021-11-11T22:30:09.343291",
     "status": "completed"
    },
    "tags": []
   },
   "outputs": [
    {
     "data": {
      "text/html": [
       "<div>\n",
       "<style scoped>\n",
       "    .dataframe tbody tr th:only-of-type {\n",
       "        vertical-align: middle;\n",
       "    }\n",
       "\n",
       "    .dataframe tbody tr th {\n",
       "        vertical-align: top;\n",
       "    }\n",
       "\n",
       "    .dataframe thead th {\n",
       "        text-align: right;\n",
       "    }\n",
       "</style>\n",
       "<table border=\"1\" class=\"dataframe\">\n",
       "  <thead>\n",
       "    <tr style=\"text-align: right;\">\n",
       "      <th></th>\n",
       "      <th>RECORD_TIME</th>\n",
       "    </tr>\n",
       "  </thead>\n",
       "  <tbody>\n",
       "    <tr>\n",
       "      <th>0</th>\n",
       "      <td>2021-11-11 23:30</td>\n",
       "    </tr>\n",
       "    <tr>\n",
       "      <th>1</th>\n",
       "      <td>2021-11-11 23:00</td>\n",
       "    </tr>\n",
       "  </tbody>\n",
       "</table>\n",
       "</div>"
      ],
      "text/plain": [
       "        RECORD_TIME\n",
       "0  2021-11-11 23:30\n",
       "1  2021-11-11 23:00"
      ]
     },
     "execution_count": 3,
     "metadata": {},
     "output_type": "execute_result"
    }
   ],
   "source": [
    "timestamps"
   ]
  },
  {
   "cell_type": "code",
   "execution_count": 4,
   "id": "alternate-victory",
   "metadata": {
    "execution": {
     "iopub.execute_input": "2021-11-11T22:30:09.472483Z",
     "iopub.status.busy": "2021-11-11T22:30:09.470145Z",
     "iopub.status.idle": "2021-11-11T22:30:10.630861Z",
     "shell.execute_reply": "2021-11-11T22:30:10.632483Z"
    },
    "papermill": {
     "duration": 1.196411,
     "end_time": "2021-11-11T22:30:10.633068",
     "exception": false,
     "start_time": "2021-11-11T22:30:09.436657",
     "status": "completed"
    },
    "tags": []
   },
   "outputs": [],
   "source": [
    "df = pd.read_sql(\"select * from EBAY_TOP_BERLIN where record_time in (select distinct record_time from EBAY_TOP_BERLIN order by record_time desc limit 2)\", sqlite3.connect(\"UsedObjects.db\"))"
   ]
  },
  {
   "cell_type": "code",
   "execution_count": 5,
   "id": "popular-active",
   "metadata": {
    "execution": {
     "iopub.execute_input": "2021-11-11T22:30:10.714788Z",
     "iopub.status.busy": "2021-11-11T22:30:10.699845Z",
     "iopub.status.idle": "2021-11-11T22:30:10.733512Z",
     "shell.execute_reply": "2021-11-11T22:30:10.734915Z"
    },
    "papermill": {
     "duration": 0.079668,
     "end_time": "2021-11-11T22:30:10.735386",
     "exception": false,
     "start_time": "2021-11-11T22:30:10.655718",
     "status": "completed"
    },
    "tags": []
   },
   "outputs": [],
   "source": [
    "df_pivot = df.pivot_table(index=\"PRODUCT\", columns = \"RECORD_TIME\", values = \"LISTING_COUNT\")"
   ]
  },
  {
   "cell_type": "code",
   "execution_count": 6,
   "id": "union-huntington",
   "metadata": {
    "execution": {
     "iopub.execute_input": "2021-11-11T22:30:10.797789Z",
     "iopub.status.busy": "2021-11-11T22:30:10.795348Z",
     "iopub.status.idle": "2021-11-11T22:30:10.800629Z",
     "shell.execute_reply": "2021-11-11T22:30:10.803231Z"
    },
    "papermill": {
     "duration": 0.047126,
     "end_time": "2021-11-11T22:30:10.804084",
     "exception": false,
     "start_time": "2021-11-11T22:30:10.756958",
     "status": "completed"
    },
    "tags": []
   },
   "outputs": [],
   "source": [
    "df_pivot.columns = [\"stamp_1\", \"stamp_2\"]\n",
    "df_pivot_diff = df_pivot.diff(axis=1)"
   ]
  },
  {
   "cell_type": "code",
   "execution_count": 7,
   "id": "fifth-motion",
   "metadata": {
    "execution": {
     "iopub.execute_input": "2021-11-11T22:30:10.863227Z",
     "iopub.status.busy": "2021-11-11T22:30:10.860401Z",
     "iopub.status.idle": "2021-11-11T22:30:12.617741Z",
     "shell.execute_reply": "2021-11-11T22:30:12.619570Z"
    },
    "papermill": {
     "duration": 1.794701,
     "end_time": "2021-11-11T22:30:12.620108",
     "exception": false,
     "start_time": "2021-11-11T22:30:10.825407",
     "status": "completed"
    },
    "tags": []
   },
   "outputs": [
    {
     "data": {
      "text/plain": [
       "<AxesSubplot:ylabel='PRODUCT'>"
      ]
     },
     "execution_count": 7,
     "metadata": {},
     "output_type": "execute_result"
    },
    {
     "data": {
      "image/png": "[encoded data removed]",
      "text/plain": [
       "<Figure size 432x288 with 1 Axes>"
      ]
     },
     "metadata": {
      "needs_background": "light"
     },
     "output_type": "display_data"
    }
   ],
   "source": [
    "df_pivot_diff.sort_values(\"stamp_2\", ascending = False)[\"stamp_2\"].head(10).plot.barh()"
   ]
  },
  {
   "cell_type": "code",
   "execution_count": null,
   "id": "extra-executive",
   "metadata": {
    "papermill": {
     "duration": 0.024022,
     "end_time": "2021-11-11T22:30:12.669812",
     "exception": false,
     "start_time": "2021-11-11T22:30:12.645790",
     "status": "completed"
    },
    "tags": []
   },
   "outputs": [],
   "source": []
  }
 ],
 "metadata": {
  "kernelspec": {
   "display_name": "Python 3",
   "language": "python",
   "name": "python3"
  },
  "language_info": {
   "codemirror_mode": {
    "name": "ipython",
    "version": 3
   },
   "file_extension": ".py",
   "mimetype": "text/x-python",
   "name": "python",
   "nbconvert_exporter": "python",
   "pygments_lexer": "ipython3",
   "version": "3.9.5"
  },
  "papermill": {
   "default_parameters": {},
   "duration": 8.8746,
   "end_time": "2021-11-11T22:30:13.526230",
   "environment_variables": {},
   "exception": null,
   "input_path": "eBay_Overview.ipynb",
   "output_path": "eBay_Overview.ipynb",
   "parameters": {},
   "start_time": "2021-11-11T22:30:04.651630",
   "version": "2.3.3"
  }
 },
 "nbformat": 4,
 "nbformat_minor": 5
}