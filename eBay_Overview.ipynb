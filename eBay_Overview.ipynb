{
 "cells": [
  {
   "cell_type": "code",
   "execution_count": 1,
   "id": "reverse-picking",
   "metadata": {
    "execution": {
     "iopub.execute_input": "2021-10-26T23:30:07.065706Z",
     "iopub.status.busy": "2021-10-26T23:30:07.063683Z",
     "iopub.status.idle": "2021-10-26T23:30:07.868292Z",
     "shell.execute_reply": "2021-10-26T23:30:07.869735Z"
    },
    "papermill": {
     "duration": 0.857066,
     "end_time": "2021-10-26T23:30:07.870397",
     "exception": false,
     "start_time": "2021-10-26T23:30:07.013331",
     "status": "completed"
    },
    "tags": []
   },
   "outputs": [],
   "source": [
    "import pandas as pd\n",
    "import sqlite3"
   ]
  },
  {
   "cell_type": "code",
   "execution_count": 2,
   "id": "innovative-syndrome",
   "metadata": {
    "execution": {
     "iopub.execute_input": "2021-10-26T23:30:07.921556Z",
     "iopub.status.busy": "2021-10-26T23:30:07.919501Z",
     "iopub.status.idle": "2021-10-26T23:30:08.566617Z",
     "shell.execute_reply": "2021-10-26T23:30:08.567829Z"
    },
    "papermill": {
     "duration": 0.677333,
     "end_time": "2021-10-26T23:30:08.568238",
     "exception": false,
     "start_time": "2021-10-26T23:30:07.890905",
     "status": "completed"
    },
    "tags": []
   },
   "outputs": [],
   "source": [
    "timestamps = pd.read_sql(\"select distinct record_time from EBAY_TOP_BERLIN order by record_time desc limit 2\", sqlite3.connect(\"UsedObjects.db\"))"
   ]
  },
  {
   "cell_type": "code",
   "execution_count": 3,
   "id": "periodic-identification",
   "metadata": {
    "execution": {
     "iopub.execute_input": "2021-10-26T23:30:08.655010Z",
     "iopub.status.busy": "2021-10-26T23:30:08.652982Z",
     "iopub.status.idle": "2021-10-26T23:30:08.672500Z",
     "shell.execute_reply": "2021-10-26T23:30:08.673938Z"
    },
    "papermill": {
     "duration": 0.070911,
     "end_time": "2021-10-26T23:30:08.674377",
     "exception": false,
     "start_time": "2021-10-26T23:30:08.603466",
     "status": "completed"
    },
    "tags": []
   },
   "outputs": [
    {
     "data": {
      "text/html": [
       "<div>\n",
       "<style scoped>\n",
       "    .dataframe tbody tr th:only-of-type {\n",
       "        vertical-align: middle;\n",
       "    }\n",
       "\n",
       "    .dataframe tbody tr th {\n",
       "        vertical-align: top;\n",
       "    }\n",
       "\n",
       "    .dataframe thead th {\n",
       "        text-align: right;\n",
       "    }\n",
       "</style>\n",
       "<table border=\"1\" class=\"dataframe\">\n",
       "  <thead>\n",
       "    <tr style=\"text-align: right;\">\n",
       "      <th></th>\n",
       "      <th>RECORD_TIME</th>\n",
       "    </tr>\n",
       "  </thead>\n",
       "  <tbody>\n",
       "    <tr>\n",
       "      <th>0</th>\n",
       "      <td>2021-10-27 01:30</td>\n",
       "    </tr>\n",
       "    <tr>\n",
       "      <th>1</th>\n",
       "      <td>2021-10-27 01:00</td>\n",
       "    </tr>\n",
       "  </tbody>\n",
       "</table>\n",
       "</div>"
      ],
      "text/plain": [
       "        RECORD_TIME\n",
       "0  2021-10-27 01:30\n",
       "1  2021-10-27 01:00"
      ]
     },
     "execution_count": 3,
     "metadata": {},
     "output_type": "execute_result"
    }
   ],
   "source": [
    "timestamps"
   ]
  },
  {
   "cell_type": "code",
   "execution_count": 4,
   "id": "alternate-victory",
   "metadata": {
    "execution": {
     "iopub.execute_input": "2021-10-26T23:30:08.726957Z",
     "iopub.status.busy": "2021-10-26T23:30:08.724782Z",
     "iopub.status.idle": "2021-10-26T23:30:09.666297Z",
     "shell.execute_reply": "2021-10-26T23:30:09.667519Z"
    },
    "papermill": {
     "duration": 0.971716,
     "end_time": "2021-10-26T23:30:09.667930",
     "exception": false,
     "start_time": "2021-10-26T23:30:08.696214",
     "status": "completed"
    },
    "tags": []
   },
   "outputs": [],
   "source": [
    "df = pd.read_sql(\"select * from EBAY_TOP_BERLIN where record_time in (select distinct record_time from EBAY_TOP_BERLIN order by record_time desc limit 2)\", sqlite3.connect(\"UsedObjects.db\"))"
   ]
  },
  {
   "cell_type": "code",
   "execution_count": 5,
   "id": "popular-active",
   "metadata": {
    "execution": {
     "iopub.execute_input": "2021-10-26T23:30:09.733922Z",
     "iopub.status.busy": "2021-10-26T23:30:09.726016Z",
     "iopub.status.idle": "2021-10-26T23:30:09.755515Z",
     "shell.execute_reply": "2021-10-26T23:30:09.756874Z"
    },
    "papermill": {
     "duration": 0.068525,
     "end_time": "2021-10-26T23:30:09.757303",
     "exception": false,
     "start_time": "2021-10-26T23:30:09.688778",
     "status": "completed"
    },
    "tags": []
   },
   "outputs": [],
   "source": [
    "df_pivot = df.pivot_table(index=\"PRODUCT\", columns = \"RECORD_TIME\", values = \"LISTING_COUNT\")"
   ]
  },
  {
   "cell_type": "code",
   "execution_count": 6,
   "id": "union-huntington",
   "metadata": {
    "execution": {
     "iopub.execute_input": "2021-10-26T23:30:09.813844Z",
     "iopub.status.busy": "2021-10-26T23:30:09.811764Z",
     "iopub.status.idle": "2021-10-26T23:30:09.817113Z",
     "shell.execute_reply": "2021-10-26T23:30:09.818333Z"
    },
    "papermill": {
     "duration": 0.040981,
     "end_time": "2021-10-26T23:30:09.818772",
     "exception": false,
     "start_time": "2021-10-26T23:30:09.777791",
     "status": "completed"
    },
    "tags": []
   },
   "outputs": [],
   "source": [
    "df_pivot.columns = [\"stamp_1\", \"stamp_2\"]\n",
    "df_pivot_diff = df_pivot.diff(axis=1)"
   ]
  },
  {
   "cell_type": "code",
   "execution_count": 7,
   "id": "fifth-motion",
   "metadata": {
    "execution": {
     "iopub.execute_input": "2021-10-26T23:30:09.873359Z",
     "iopub.status.busy": "2021-10-26T23:30:09.870789Z",
     "iopub.status.idle": "2021-10-26T23:30:11.380029Z",
     "shell.execute_reply": "2021-10-26T23:30:11.381410Z"
    },
    "papermill": {
     "duration": 1.542602,
     "end_time": "2021-10-26T23:30:11.381843",
     "exception": false,
     "start_time": "2021-10-26T23:30:09.839241",
     "status": "completed"
    },
    "tags": []
   },
   "outputs": [
    {
     "data": {
      "text/plain": [
       "<AxesSubplot:ylabel='PRODUCT'>"
      ]
     },
     "execution_count": 7,
     "metadata": {},
     "output_type": "execute_result"
    },
    {
     "data": {
      "image/png": "[encoded data removed]",
      "text/plain": [
       "<Figure size 432x288 with 1 Axes>"
      ]
     },
     "metadata": {
      "needs_background": "light"
     },
     "output_type": "display_data"
    }
   ],
   "source": [
    "df_pivot_diff.sort_values(\"stamp_2\", ascending = False)[\"stamp_2\"].head(10).plot.barh()"
   ]
  },
  {
   "cell_type": "code",
   "execution_count": null,
   "id": "extra-executive",
   "metadata": {
    "papermill": {
     "duration": 0.022946,
     "end_time": "2021-10-26T23:30:11.428403",
     "exception": false,
     "start_time": "2021-10-26T23:30:11.405457",
     "status": "completed"
    },
    "tags": []
   },
   "outputs": [],
   "source": []
  }
 ],
 "metadata": {
  "kernelspec": {
   "display_name": "Python 3",
   "language": "python",
   "name": "python3"
  },
  "language_info": {
   "codemirror_mode": {
    "name": "ipython",
    "version": 3
   },
   "file_extension": ".py",
   "mimetype": "text/x-python",
   "name": "python",
   "nbconvert_exporter": "python",
   "pygments_lexer": "ipython3",
   "version": "3.9.5"
  },
  "papermill": {
   "default_parameters": {},
   "duration": 7.461966,
   "end_time": "2021-10-26T23:30:12.071574",
   "environment_variables": {},
   "exception": null,
   "input_path": "eBay_Overview.ipynb",
   "output_path": "eBay_Overview.ipynb",
   "parameters": {},
   "start_time": "2021-10-26T23:30:04.609608",
   "version": "2.3.3"
  }
 },
 "nbformat": 4,
 "nbformat_minor": 5
}