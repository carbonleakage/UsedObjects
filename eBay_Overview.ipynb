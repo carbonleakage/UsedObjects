{
 "cells": [
  {
   "cell_type": "code",
   "execution_count": 1,
   "id": "reverse-picking",
   "metadata": {
    "execution": {
     "iopub.execute_input": "2021-12-16T02:30:07.425100Z",
     "iopub.status.busy": "2021-12-16T02:30:07.422846Z",
     "iopub.status.idle": "2021-12-16T02:30:08.373061Z",
     "shell.execute_reply": "2021-12-16T02:30:08.374672Z"
    },
    "papermill": {
     "duration": 1.00028,
     "end_time": "2021-12-16T02:30:08.375436",
     "exception": false,
     "start_time": "2021-12-16T02:30:07.375156",
     "status": "completed"
    },
    "tags": []
   },
   "outputs": [],
   "source": [
    "import pandas as pd\n",
    "import sqlite3"
   ]
  },
  {
   "cell_type": "code",
   "execution_count": 2,
   "id": "innovative-syndrome",
   "metadata": {
    "execution": {
     "iopub.execute_input": "2021-12-16T02:30:08.455326Z",
     "iopub.status.busy": "2021-12-16T02:30:08.451951Z",
     "iopub.status.idle": "2021-12-16T02:30:09.543886Z",
     "shell.execute_reply": "2021-12-16T02:30:09.545469Z"
    },
    "papermill": {
     "duration": 1.137484,
     "end_time": "2021-12-16T02:30:09.545941",
     "exception": false,
     "start_time": "2021-12-16T02:30:08.408457",
     "status": "completed"
    },
    "tags": []
   },
   "outputs": [],
   "source": [
    "timestamps = pd.read_sql(\"select distinct record_time from EBAY_TOP_BERLIN order by record_time desc limit 2\", sqlite3.connect(\"UsedObjects.db\"))"
   ]
  },
  {
   "cell_type": "code",
   "execution_count": 3,
   "id": "periodic-identification",
   "metadata": {
    "execution": {
     "iopub.execute_input": "2021-12-16T02:30:09.617760Z",
     "iopub.status.busy": "2021-12-16T02:30:09.615352Z",
     "iopub.status.idle": "2021-12-16T02:30:09.638778Z",
     "shell.execute_reply": "2021-12-16T02:30:09.640274Z"
    },
    "papermill": {
     "duration": 0.07345,
     "end_time": "2021-12-16T02:30:09.640866",
     "exception": false,
     "start_time": "2021-12-16T02:30:09.567416",
     "status": "completed"
    },
    "tags": []
   },
   "outputs": [
    {
     "data": {
      "text/html": [
       "<div>\n",
       "<style scoped>\n",
       "    .dataframe tbody tr th:only-of-type {\n",
       "        vertical-align: middle;\n",
       "    }\n",
       "\n",
       "    .dataframe tbody tr th {\n",
       "        vertical-align: top;\n",
       "    }\n",
       "\n",
       "    .dataframe thead th {\n",
       "        text-align: right;\n",
       "    }\n",
       "</style>\n",
       "<table border=\"1\" class=\"dataframe\">\n",
       "  <thead>\n",
       "    <tr style=\"text-align: right;\">\n",
       "      <th></th>\n",
       "      <th>RECORD_TIME</th>\n",
       "    </tr>\n",
       "  </thead>\n",
       "  <tbody>\n",
       "    <tr>\n",
       "      <th>0</th>\n",
       "      <td>2021-12-16 03:30</td>\n",
       "    </tr>\n",
       "    <tr>\n",
       "      <th>1</th>\n",
       "      <td>2021-12-16 03:00</td>\n",
       "    </tr>\n",
       "  </tbody>\n",
       "</table>\n",
       "</div>"
      ],
      "text/plain": [
       "        RECORD_TIME\n",
       "0  2021-12-16 03:30\n",
       "1  2021-12-16 03:00"
      ]
     },
     "execution_count": 3,
     "metadata": {},
     "output_type": "execute_result"
    }
   ],
   "source": [
    "timestamps"
   ]
  },
  {
   "cell_type": "code",
   "execution_count": 4,
   "id": "alternate-victory",
   "metadata": {
    "execution": {
     "iopub.execute_input": "2021-12-16T02:30:09.692418Z",
     "iopub.status.busy": "2021-12-16T02:30:09.690827Z",
     "iopub.status.idle": "2021-12-16T02:30:11.303389Z",
     "shell.execute_reply": "2021-12-16T02:30:11.300927Z"
    },
    "papermill": {
     "duration": 1.641778,
     "end_time": "2021-12-16T02:30:11.303849",
     "exception": false,
     "start_time": "2021-12-16T02:30:09.662071",
     "status": "completed"
    },
    "tags": []
   },
   "outputs": [],
   "source": [
    "df = pd.read_sql(\"select * from EBAY_TOP_BERLIN where record_time in (select distinct record_time from EBAY_TOP_BERLIN order by record_time desc limit 2)\", sqlite3.connect(\"UsedObjects.db\"))"
   ]
  },
  {
   "cell_type": "code",
   "execution_count": 5,
   "id": "popular-active",
   "metadata": {
    "execution": {
     "iopub.execute_input": "2021-12-16T02:30:11.382808Z",
     "iopub.status.busy": "2021-12-16T02:30:11.374570Z",
     "iopub.status.idle": "2021-12-16T02:30:11.400109Z",
     "shell.execute_reply": "2021-12-16T02:30:11.401632Z"
    },
    "papermill": {
     "duration": 0.074895,
     "end_time": "2021-12-16T02:30:11.402119",
     "exception": false,
     "start_time": "2021-12-16T02:30:11.327224",
     "status": "completed"
    },
    "tags": []
   },
   "outputs": [],
   "source": [
    "df_pivot = df.pivot_table(index=\"PRODUCT\", columns = \"RECORD_TIME\", values = \"LISTING_COUNT\")"
   ]
  },
  {
   "cell_type": "code",
   "execution_count": 6,
   "id": "union-huntington",
   "metadata": {
    "execution": {
     "iopub.execute_input": "2021-12-16T02:30:11.461577Z",
     "iopub.status.busy": "2021-12-16T02:30:11.459347Z",
     "iopub.status.idle": "2021-12-16T02:30:11.465341Z",
     "shell.execute_reply": "2021-12-16T02:30:11.466861Z"
    },
    "papermill": {
     "duration": 0.045501,
     "end_time": "2021-12-16T02:30:11.467444",
     "exception": false,
     "start_time": "2021-12-16T02:30:11.421943",
     "status": "completed"
    },
    "tags": []
   },
   "outputs": [],
   "source": [
    "df_pivot.columns = [\"stamp_1\", \"stamp_2\"]\n",
    "df_pivot_diff = df_pivot.diff(axis=1)"
   ]
  },
  {
   "cell_type": "code",
   "execution_count": 7,
   "id": "fifth-motion",
   "metadata": {
    "execution": {
     "iopub.execute_input": "2021-12-16T02:30:11.527947Z",
     "iopub.status.busy": "2021-12-16T02:30:11.525483Z",
     "iopub.status.idle": "2021-12-16T02:30:13.503750Z",
     "shell.execute_reply": "2021-12-16T02:30:13.505031Z"
    },
    "papermill": {
     "duration": 2.014804,
     "end_time": "2021-12-16T02:30:13.505476",
     "exception": false,
     "start_time": "2021-12-16T02:30:11.490672",
     "status": "completed"
    },
    "tags": []
   },
   "outputs": [
    {
     "data": {
      "text/plain": [
       "<AxesSubplot:ylabel='PRODUCT'>"
      ]
     },
     "execution_count": 7,
     "metadata": {},
     "output_type": "execute_result"
    },
    {
     "data": {
      "image/png": "[encoded data removed]",
      "text/plain": [
       "<Figure size 432x288 with 1 Axes>"
      ]
     },
     "metadata": {
      "needs_background": "light"
     },
     "output_type": "display_data"
    }
   ],
   "source": [
    "df_pivot_diff.sort_values(\"stamp_2\", ascending = False)[\"stamp_2\"].head(10).plot.barh()"
   ]
  },
  {
   "cell_type": "code",
   "execution_count": null,
   "id": "extra-executive",
   "metadata": {
    "papermill": {
     "duration": 0.026294,
     "end_time": "2021-12-16T02:30:13.564799",
     "exception": false,
     "start_time": "2021-12-16T02:30:13.538505",
     "status": "completed"
    },
    "tags": []
   },
   "outputs": [],
   "source": []
  }
 ],
 "metadata": {
  "kernelspec": {
   "display_name": "Python 3",
   "language": "python",
   "name": "python3"
  },
  "language_info": {
   "codemirror_mode": {
    "name": "ipython",
    "version": 3
   },
   "file_extension": ".py",
   "mimetype": "text/x-python",
   "name": "python",
   "nbconvert_exporter": "python",
   "pygments_lexer": "ipython3",
   "version": "3.9.5"
  },
  "papermill": {
   "default_parameters": {},
   "duration": 9.551857,
   "end_time": "2021-12-16T02:30:14.208356",
   "environment_variables": {},
   "exception": null,
   "input_path": "eBay_Overview.ipynb",
   "output_path": "eBay_Overview.ipynb",
   "parameters": {},
   "start_time": "2021-12-16T02:30:04.656499",
   "version": "2.3.3"
  }
 },
 "nbformat": 4,
 "nbformat_minor": 5
}