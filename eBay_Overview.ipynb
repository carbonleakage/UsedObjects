{
 "cells": [
  {
   "cell_type": "code",
   "execution_count": 1,
   "id": "reverse-picking",
   "metadata": {
    "execution": {
     "iopub.execute_input": "2021-08-16T07:00:07.331975Z",
     "iopub.status.busy": "2021-08-16T07:00:07.330067Z",
     "iopub.status.idle": "2021-08-16T07:00:08.137277Z",
     "shell.execute_reply": "2021-08-16T07:00:08.135728Z"
    },
    "papermill": {
     "duration": 0.857828,
     "end_time": "2021-08-16T07:00:08.137668",
     "exception": false,
     "start_time": "2021-08-16T07:00:07.279840",
     "status": "completed"
    },
    "tags": []
   },
   "outputs": [],
   "source": [
    "import pandas as pd\n",
    "import sqlite3"
   ]
  },
  {
   "cell_type": "code",
   "execution_count": 2,
   "id": "innovative-syndrome",
   "metadata": {
    "execution": {
     "iopub.execute_input": "2021-08-16T07:00:08.188150Z",
     "iopub.status.busy": "2021-08-16T07:00:08.186312Z",
     "iopub.status.idle": "2021-08-16T07:00:08.246686Z",
     "shell.execute_reply": "2021-08-16T07:00:08.247955Z"
    },
    "papermill": {
     "duration": 0.089858,
     "end_time": "2021-08-16T07:00:08.248354",
     "exception": false,
     "start_time": "2021-08-16T07:00:08.158496",
     "status": "completed"
    },
    "tags": []
   },
   "outputs": [],
   "source": [
    "timestamps = pd.read_sql(\"select distinct record_time from EBAY_TOP_BERLIN order by record_time desc limit 2\", sqlite3.connect(\"UsedObjects.db\"))"
   ]
  },
  {
   "cell_type": "code",
   "execution_count": 3,
   "id": "periodic-identification",
   "metadata": {
    "execution": {
     "iopub.execute_input": "2021-08-16T07:00:08.311904Z",
     "iopub.status.busy": "2021-08-16T07:00:08.309828Z",
     "iopub.status.idle": "2021-08-16T07:00:08.329799Z",
     "shell.execute_reply": "2021-08-16T07:00:08.331238Z"
    },
    "papermill": {
     "duration": 0.063953,
     "end_time": "2021-08-16T07:00:08.331660",
     "exception": false,
     "start_time": "2021-08-16T07:00:08.267707",
     "status": "completed"
    },
    "tags": []
   },
   "outputs": [
    {
     "data": {
      "text/html": [
       "<div>\n",
       "<style scoped>\n",
       "    .dataframe tbody tr th:only-of-type {\n",
       "        vertical-align: middle;\n",
       "    }\n",
       "\n",
       "    .dataframe tbody tr th {\n",
       "        vertical-align: top;\n",
       "    }\n",
       "\n",
       "    .dataframe thead th {\n",
       "        text-align: right;\n",
       "    }\n",
       "</style>\n",
       "<table border=\"1\" class=\"dataframe\">\n",
       "  <thead>\n",
       "    <tr style=\"text-align: right;\">\n",
       "      <th></th>\n",
       "      <th>RECORD_TIME</th>\n",
       "    </tr>\n",
       "  </thead>\n",
       "  <tbody>\n",
       "    <tr>\n",
       "      <th>0</th>\n",
       "      <td>2021-08-16 09:00</td>\n",
       "    </tr>\n",
       "    <tr>\n",
       "      <th>1</th>\n",
       "      <td>2021-08-16 08:30</td>\n",
       "    </tr>\n",
       "  </tbody>\n",
       "</table>\n",
       "</div>"
      ],
      "text/plain": [
       "        RECORD_TIME\n",
       "0  2021-08-16 09:00\n",
       "1  2021-08-16 08:30"
      ]
     },
     "execution_count": 3,
     "metadata": {},
     "output_type": "execute_result"
    }
   ],
   "source": [
    "timestamps"
   ]
  },
  {
   "cell_type": "code",
   "execution_count": 4,
   "id": "alternate-victory",
   "metadata": {
    "execution": {
     "iopub.execute_input": "2021-08-16T07:00:08.382991Z",
     "iopub.status.busy": "2021-08-16T07:00:08.381067Z",
     "iopub.status.idle": "2021-08-16T07:00:08.469434Z",
     "shell.execute_reply": "2021-08-16T07:00:08.470806Z"
    },
    "papermill": {
     "duration": 0.118637,
     "end_time": "2021-08-16T07:00:08.471231",
     "exception": false,
     "start_time": "2021-08-16T07:00:08.352594",
     "status": "completed"
    },
    "tags": []
   },
   "outputs": [],
   "source": [
    "df = pd.read_sql(\"select * from EBAY_TOP_BERLIN where record_time in (select distinct record_time from EBAY_TOP_BERLIN order by record_time desc limit 2)\", sqlite3.connect(\"UsedObjects.db\"))"
   ]
  },
  {
   "cell_type": "code",
   "execution_count": 5,
   "id": "popular-active",
   "metadata": {
    "execution": {
     "iopub.execute_input": "2021-08-16T07:00:08.541715Z",
     "iopub.status.busy": "2021-08-16T07:00:08.529461Z",
     "iopub.status.idle": "2021-08-16T07:00:08.561141Z",
     "shell.execute_reply": "2021-08-16T07:00:08.562497Z"
    },
    "papermill": {
     "duration": 0.071066,
     "end_time": "2021-08-16T07:00:08.562911",
     "exception": false,
     "start_time": "2021-08-16T07:00:08.491845",
     "status": "completed"
    },
    "tags": []
   },
   "outputs": [],
   "source": [
    "df_pivot = df.pivot_table(index=\"PRODUCT\", columns = \"RECORD_TIME\", values = \"LISTING_COUNT\")"
   ]
  },
  {
   "cell_type": "code",
   "execution_count": 6,
   "id": "union-huntington",
   "metadata": {
    "execution": {
     "iopub.execute_input": "2021-08-16T07:00:08.618875Z",
     "iopub.status.busy": "2021-08-16T07:00:08.616770Z",
     "iopub.status.idle": "2021-08-16T07:00:08.622205Z",
     "shell.execute_reply": "2021-08-16T07:00:08.623493Z"
    },
    "papermill": {
     "duration": 0.040964,
     "end_time": "2021-08-16T07:00:08.623906",
     "exception": false,
     "start_time": "2021-08-16T07:00:08.582942",
     "status": "completed"
    },
    "tags": []
   },
   "outputs": [],
   "source": [
    "df_pivot.columns = [\"stamp_1\", \"stamp_2\"]\n",
    "df_pivot_diff = df_pivot.diff(axis=1)"
   ]
  },
  {
   "cell_type": "code",
   "execution_count": 7,
   "id": "fifth-motion",
   "metadata": {
    "execution": {
     "iopub.execute_input": "2021-08-16T07:00:08.681320Z",
     "iopub.status.busy": "2021-08-16T07:00:08.678706Z",
     "iopub.status.idle": "2021-08-16T07:00:10.174661Z",
     "shell.execute_reply": "2021-08-16T07:00:10.175928Z"
    },
    "papermill": {
     "duration": 1.529552,
     "end_time": "2021-08-16T07:00:10.176375",
     "exception": false,
     "start_time": "2021-08-16T07:00:08.646823",
     "status": "completed"
    },
    "tags": []
   },
   "outputs": [
    {
     "data": {
      "text/plain": [
       "<AxesSubplot:ylabel='PRODUCT'>"
      ]
     },
     "execution_count": 7,
     "metadata": {},
     "output_type": "execute_result"
    },
    {
     "data": {
      "image/png": "[encoded data removed]",
      "text/plain": [
       "<Figure size 432x288 with 1 Axes>"
      ]
     },
     "metadata": {
      "needs_background": "light"
     },
     "output_type": "display_data"
    }
   ],
   "source": [
    "df_pivot_diff.sort_values(\"stamp_2\", ascending = False)[\"stamp_2\"].head(10).plot.barh()"
   ]
  },
  {
   "cell_type": "code",
   "execution_count": null,
   "id": "extra-executive",
   "metadata": {
    "papermill": {
     "duration": 0.022079,
     "end_time": "2021-08-16T07:00:10.222973",
     "exception": false,
     "start_time": "2021-08-16T07:00:10.200894",
     "status": "completed"
    },
    "tags": []
   },
   "outputs": [],
   "source": []
  }
 ],
 "metadata": {
  "kernelspec": {
   "display_name": "Python 3",
   "language": "python",
   "name": "python3"
  },
  "language_info": {
   "codemirror_mode": {
    "name": "ipython",
    "version": 3
   },
   "file_extension": ".py",
   "mimetype": "text/x-python",
   "name": "python",
   "nbconvert_exporter": "python",
   "pygments_lexer": "ipython3",
   "version": "3.9.5"
  },
  "papermill": {
   "default_parameters": {},
   "duration": 6.818986,
   "end_time": "2021-08-16T07:00:11.692673",
   "environment_variables": {},
   "exception": null,
   "input_path": "eBay_Overview.ipynb",
   "output_path": "eBay_Overview.ipynb",
   "parameters": {},
   "start_time": "2021-08-16T07:00:04.873687",
   "version": "2.3.3"
  }
 },
 "nbformat": 4,
 "nbformat_minor": 5
}