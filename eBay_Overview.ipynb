{
 "cells": [
  {
   "cell_type": "code",
   "execution_count": 1,
   "id": "reverse-picking",
   "metadata": {
    "execution": {
     "iopub.execute_input": "2021-10-27T20:00:06.882069Z",
     "iopub.status.busy": "2021-10-27T20:00:06.880013Z",
     "iopub.status.idle": "2021-10-27T20:00:07.679487Z",
     "shell.execute_reply": "2021-10-27T20:00:07.680765Z"
    },
    "papermill": {
     "duration": 0.849946,
     "end_time": "2021-10-27T20:00:07.681450",
     "exception": false,
     "start_time": "2021-10-27T20:00:06.831504",
     "status": "completed"
    },
    "tags": []
   },
   "outputs": [],
   "source": [
    "import pandas as pd\n",
    "import sqlite3"
   ]
  },
  {
   "cell_type": "code",
   "execution_count": 2,
   "id": "innovative-syndrome",
   "metadata": {
    "execution": {
     "iopub.execute_input": "2021-10-27T20:00:07.732101Z",
     "iopub.status.busy": "2021-10-27T20:00:07.730059Z",
     "iopub.status.idle": "2021-10-27T20:00:08.384156Z",
     "shell.execute_reply": "2021-10-27T20:00:08.385703Z"
    },
    "papermill": {
     "duration": 0.684474,
     "end_time": "2021-10-27T20:00:08.386145",
     "exception": false,
     "start_time": "2021-10-27T20:00:07.701671",
     "status": "completed"
    },
    "tags": []
   },
   "outputs": [],
   "source": [
    "timestamps = pd.read_sql(\"select distinct record_time from EBAY_TOP_BERLIN order by record_time desc limit 2\", sqlite3.connect(\"UsedObjects.db\"))"
   ]
  },
  {
   "cell_type": "code",
   "execution_count": 3,
   "id": "periodic-identification",
   "metadata": {
    "execution": {
     "iopub.execute_input": "2021-10-27T20:00:08.462307Z",
     "iopub.status.busy": "2021-10-27T20:00:08.457114Z",
     "iopub.status.idle": "2021-10-27T20:00:08.478835Z",
     "shell.execute_reply": "2021-10-27T20:00:08.477122Z"
    },
    "papermill": {
     "duration": 0.068315,
     "end_time": "2021-10-27T20:00:08.479233",
     "exception": false,
     "start_time": "2021-10-27T20:00:08.410918",
     "status": "completed"
    },
    "tags": []
   },
   "outputs": [
    {
     "data": {
      "text/html": [
       "<div>\n",
       "<style scoped>\n",
       "    .dataframe tbody tr th:only-of-type {\n",
       "        vertical-align: middle;\n",
       "    }\n",
       "\n",
       "    .dataframe tbody tr th {\n",
       "        vertical-align: top;\n",
       "    }\n",
       "\n",
       "    .dataframe thead th {\n",
       "        text-align: right;\n",
       "    }\n",
       "</style>\n",
       "<table border=\"1\" class=\"dataframe\">\n",
       "  <thead>\n",
       "    <tr style=\"text-align: right;\">\n",
       "      <th></th>\n",
       "      <th>RECORD_TIME</th>\n",
       "    </tr>\n",
       "  </thead>\n",
       "  <tbody>\n",
       "    <tr>\n",
       "      <th>0</th>\n",
       "      <td>2021-10-27 22:00</td>\n",
       "    </tr>\n",
       "    <tr>\n",
       "      <th>1</th>\n",
       "      <td>2021-10-27 21:30</td>\n",
       "    </tr>\n",
       "  </tbody>\n",
       "</table>\n",
       "</div>"
      ],
      "text/plain": [
       "        RECORD_TIME\n",
       "0  2021-10-27 22:00\n",
       "1  2021-10-27 21:30"
      ]
     },
     "execution_count": 3,
     "metadata": {},
     "output_type": "execute_result"
    }
   ],
   "source": [
    "timestamps"
   ]
  },
  {
   "cell_type": "code",
   "execution_count": 4,
   "id": "alternate-victory",
   "metadata": {
    "execution": {
     "iopub.execute_input": "2021-10-27T20:00:08.531456Z",
     "iopub.status.busy": "2021-10-27T20:00:08.529422Z",
     "iopub.status.idle": "2021-10-27T20:00:09.488510Z",
     "shell.execute_reply": "2021-10-27T20:00:09.489799Z"
    },
    "papermill": {
     "duration": 0.989662,
     "end_time": "2021-10-27T20:00:09.490203",
     "exception": false,
     "start_time": "2021-10-27T20:00:08.500541",
     "status": "completed"
    },
    "tags": []
   },
   "outputs": [],
   "source": [
    "df = pd.read_sql(\"select * from EBAY_TOP_BERLIN where record_time in (select distinct record_time from EBAY_TOP_BERLIN order by record_time desc limit 2)\", sqlite3.connect(\"UsedObjects.db\"))"
   ]
  },
  {
   "cell_type": "code",
   "execution_count": 5,
   "id": "popular-active",
   "metadata": {
    "execution": {
     "iopub.execute_input": "2021-10-27T20:00:09.559862Z",
     "iopub.status.busy": "2021-10-27T20:00:09.547753Z",
     "iopub.status.idle": "2021-10-27T20:00:09.575878Z",
     "shell.execute_reply": "2021-10-27T20:00:09.577224Z"
    },
    "papermill": {
     "duration": 0.067032,
     "end_time": "2021-10-27T20:00:09.577649",
     "exception": false,
     "start_time": "2021-10-27T20:00:09.510617",
     "status": "completed"
    },
    "tags": []
   },
   "outputs": [],
   "source": [
    "df_pivot = df.pivot_table(index=\"PRODUCT\", columns = \"RECORD_TIME\", values = \"LISTING_COUNT\")"
   ]
  },
  {
   "cell_type": "code",
   "execution_count": 6,
   "id": "union-huntington",
   "metadata": {
    "execution": {
     "iopub.execute_input": "2021-10-27T20:00:09.633948Z",
     "iopub.status.busy": "2021-10-27T20:00:09.631833Z",
     "iopub.status.idle": "2021-10-27T20:00:09.638605Z",
     "shell.execute_reply": "2021-10-27T20:00:09.637202Z"
    },
    "papermill": {
     "duration": 0.040128,
     "end_time": "2021-10-27T20:00:09.638958",
     "exception": false,
     "start_time": "2021-10-27T20:00:09.598830",
     "status": "completed"
    },
    "tags": []
   },
   "outputs": [],
   "source": [
    "df_pivot.columns = [\"stamp_1\", \"stamp_2\"]\n",
    "df_pivot_diff = df_pivot.diff(axis=1)"
   ]
  },
  {
   "cell_type": "code",
   "execution_count": 7,
   "id": "fifth-motion",
   "metadata": {
    "execution": {
     "iopub.execute_input": "2021-10-27T20:00:09.692455Z",
     "iopub.status.busy": "2021-10-27T20:00:09.690098Z",
     "iopub.status.idle": "2021-10-27T20:00:11.182828Z",
     "shell.execute_reply": "2021-10-27T20:00:11.184112Z"
    },
    "papermill": {
     "duration": 1.525384,
     "end_time": "2021-10-27T20:00:11.184527",
     "exception": false,
     "start_time": "2021-10-27T20:00:09.659143",
     "status": "completed"
    },
    "tags": []
   },
   "outputs": [
    {
     "data": {
      "text/plain": [
       "<AxesSubplot:ylabel='PRODUCT'>"
      ]
     },
     "execution_count": 7,
     "metadata": {},
     "output_type": "execute_result"
    },
    {
     "data": {
      "image/png": "[encoded data removed]",
      "text/plain": [
       "<Figure size 432x288 with 1 Axes>"
      ]
     },
     "metadata": {
      "needs_background": "light"
     },
     "output_type": "display_data"
    }
   ],
   "source": [
    "df_pivot_diff.sort_values(\"stamp_2\", ascending = False)[\"stamp_2\"].head(10).plot.barh()"
   ]
  },
  {
   "cell_type": "code",
   "execution_count": null,
   "id": "extra-executive",
   "metadata": {
    "papermill": {
     "duration": 0.021959,
     "end_time": "2021-10-27T20:00:11.231154",
     "exception": false,
     "start_time": "2021-10-27T20:00:11.209195",
     "status": "completed"
    },
    "tags": []
   },
   "outputs": [],
   "source": []
  }
 ],
 "metadata": {
  "kernelspec": {
   "display_name": "Python 3",
   "language": "python",
   "name": "python3"
  },
  "language_info": {
   "codemirror_mode": {
    "name": "ipython",
    "version": 3
   },
   "file_extension": ".py",
   "mimetype": "text/x-python",
   "name": "python",
   "nbconvert_exporter": "python",
   "pygments_lexer": "ipython3",
   "version": "3.9.5"
  },
  "papermill": {
   "default_parameters": {},
   "duration": 7.451822,
   "end_time": "2021-10-27T20:00:11.874138",
   "environment_variables": {},
   "exception": null,
   "input_path": "eBay_Overview.ipynb",
   "output_path": "eBay_Overview.ipynb",
   "parameters": {},
   "start_time": "2021-10-27T20:00:04.422316",
   "version": "2.3.3"
  }
 },
 "nbformat": 4,
 "nbformat_minor": 5
}