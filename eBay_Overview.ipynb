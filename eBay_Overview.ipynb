{
 "cells": [
  {
   "cell_type": "code",
   "execution_count": 1,
   "id": "reverse-picking",
   "metadata": {
    "execution": {
     "iopub.execute_input": "2021-12-16T03:30:07.772999Z",
     "iopub.status.busy": "2021-12-16T03:30:07.770402Z",
     "iopub.status.idle": "2021-12-16T03:30:08.728254Z",
     "shell.execute_reply": "2021-12-16T03:30:08.729961Z"
    },
    "papermill": {
     "duration": 1.006958,
     "end_time": "2021-12-16T03:30:08.730729",
     "exception": false,
     "start_time": "2021-12-16T03:30:07.723771",
     "status": "completed"
    },
    "tags": []
   },
   "outputs": [],
   "source": [
    "import pandas as pd\n",
    "import sqlite3"
   ]
  },
  {
   "cell_type": "code",
   "execution_count": 2,
   "id": "innovative-syndrome",
   "metadata": {
    "execution": {
     "iopub.execute_input": "2021-12-16T03:30:08.797087Z",
     "iopub.status.busy": "2021-12-16T03:30:08.794779Z",
     "iopub.status.idle": "2021-12-16T03:30:09.917453Z",
     "shell.execute_reply": "2021-12-16T03:30:09.918913Z"
    },
    "papermill": {
     "duration": 1.158975,
     "end_time": "2021-12-16T03:30:09.919385",
     "exception": false,
     "start_time": "2021-12-16T03:30:08.760410",
     "status": "completed"
    },
    "tags": []
   },
   "outputs": [],
   "source": [
    "timestamps = pd.read_sql(\"select distinct record_time from EBAY_TOP_BERLIN order by record_time desc limit 2\", sqlite3.connect(\"UsedObjects.db\"))"
   ]
  },
  {
   "cell_type": "code",
   "execution_count": 3,
   "id": "periodic-identification",
   "metadata": {
    "execution": {
     "iopub.execute_input": "2021-12-16T03:30:09.987990Z",
     "iopub.status.busy": "2021-12-16T03:30:09.981934Z",
     "iopub.status.idle": "2021-12-16T03:30:10.011009Z",
     "shell.execute_reply": "2021-12-16T03:30:10.012669Z"
    },
    "papermill": {
     "duration": 0.073508,
     "end_time": "2021-12-16T03:30:10.013221",
     "exception": false,
     "start_time": "2021-12-16T03:30:09.939713",
     "status": "completed"
    },
    "tags": []
   },
   "outputs": [
    {
     "data": {
      "text/html": [
       "<div>\n",
       "<style scoped>\n",
       "    .dataframe tbody tr th:only-of-type {\n",
       "        vertical-align: middle;\n",
       "    }\n",
       "\n",
       "    .dataframe tbody tr th {\n",
       "        vertical-align: top;\n",
       "    }\n",
       "\n",
       "    .dataframe thead th {\n",
       "        text-align: right;\n",
       "    }\n",
       "</style>\n",
       "<table border=\"1\" class=\"dataframe\">\n",
       "  <thead>\n",
       "    <tr style=\"text-align: right;\">\n",
       "      <th></th>\n",
       "      <th>RECORD_TIME</th>\n",
       "    </tr>\n",
       "  </thead>\n",
       "  <tbody>\n",
       "    <tr>\n",
       "      <th>0</th>\n",
       "      <td>2021-12-16 04:30</td>\n",
       "    </tr>\n",
       "    <tr>\n",
       "      <th>1</th>\n",
       "      <td>2021-12-16 04:00</td>\n",
       "    </tr>\n",
       "  </tbody>\n",
       "</table>\n",
       "</div>"
      ],
      "text/plain": [
       "        RECORD_TIME\n",
       "0  2021-12-16 04:30\n",
       "1  2021-12-16 04:00"
      ]
     },
     "execution_count": 3,
     "metadata": {},
     "output_type": "execute_result"
    }
   ],
   "source": [
    "timestamps"
   ]
  },
  {
   "cell_type": "code",
   "execution_count": 4,
   "id": "alternate-victory",
   "metadata": {
    "execution": {
     "iopub.execute_input": "2021-12-16T03:30:10.067310Z",
     "iopub.status.busy": "2021-12-16T03:30:10.065077Z",
     "iopub.status.idle": "2021-12-16T03:30:11.702932Z",
     "shell.execute_reply": "2021-12-16T03:30:11.704300Z"
    },
    "papermill": {
     "duration": 1.670872,
     "end_time": "2021-12-16T03:30:11.704842",
     "exception": false,
     "start_time": "2021-12-16T03:30:10.033970",
     "status": "completed"
    },
    "tags": []
   },
   "outputs": [],
   "source": [
    "df = pd.read_sql(\"select * from EBAY_TOP_BERLIN where record_time in (select distinct record_time from EBAY_TOP_BERLIN order by record_time desc limit 2)\", sqlite3.connect(\"UsedObjects.db\"))"
   ]
  },
  {
   "cell_type": "code",
   "execution_count": 5,
   "id": "popular-active",
   "metadata": {
    "execution": {
     "iopub.execute_input": "2021-12-16T03:30:11.781402Z",
     "iopub.status.busy": "2021-12-16T03:30:11.767696Z",
     "iopub.status.idle": "2021-12-16T03:30:11.799274Z",
     "shell.execute_reply": "2021-12-16T03:30:11.800545Z"
    },
    "papermill": {
     "duration": 0.074753,
     "end_time": "2021-12-16T03:30:11.801049",
     "exception": false,
     "start_time": "2021-12-16T03:30:11.726296",
     "status": "completed"
    },
    "tags": []
   },
   "outputs": [],
   "source": [
    "df_pivot = df.pivot_table(index=\"PRODUCT\", columns = \"RECORD_TIME\", values = \"LISTING_COUNT\")"
   ]
  },
  {
   "cell_type": "code",
   "execution_count": 6,
   "id": "union-huntington",
   "metadata": {
    "execution": {
     "iopub.execute_input": "2021-12-16T03:30:11.864051Z",
     "iopub.status.busy": "2021-12-16T03:30:11.861745Z",
     "iopub.status.idle": "2021-12-16T03:30:11.868127Z",
     "shell.execute_reply": "2021-12-16T03:30:11.869920Z"
    },
    "papermill": {
     "duration": 0.047641,
     "end_time": "2021-12-16T03:30:11.870488",
     "exception": false,
     "start_time": "2021-12-16T03:30:11.822847",
     "status": "completed"
    },
    "tags": []
   },
   "outputs": [],
   "source": [
    "df_pivot.columns = [\"stamp_1\", \"stamp_2\"]\n",
    "df_pivot_diff = df_pivot.diff(axis=1)"
   ]
  },
  {
   "cell_type": "code",
   "execution_count": 7,
   "id": "fifth-motion",
   "metadata": {
    "execution": {
     "iopub.execute_input": "2021-12-16T03:30:11.929314Z",
     "iopub.status.busy": "2021-12-16T03:30:11.926811Z",
     "iopub.status.idle": "2021-12-16T03:30:13.895960Z",
     "shell.execute_reply": "2021-12-16T03:30:13.897403Z"
    },
    "papermill": {
     "duration": 2.004854,
     "end_time": "2021-12-16T03:30:13.897889",
     "exception": false,
     "start_time": "2021-12-16T03:30:11.893035",
     "status": "completed"
    },
    "tags": []
   },
   "outputs": [
    {
     "data": {
      "text/plain": [
       "<AxesSubplot:ylabel='PRODUCT'>"
      ]
     },
     "execution_count": 7,
     "metadata": {},
     "output_type": "execute_result"
    },
    {
     "data": {
      "image/png": "[encoded data removed]",
      "text/plain": [
       "<Figure size 432x288 with 1 Axes>"
      ]
     },
     "metadata": {
      "needs_background": "light"
     },
     "output_type": "display_data"
    }
   ],
   "source": [
    "df_pivot_diff.sort_values(\"stamp_2\", ascending = False)[\"stamp_2\"].head(10).plot.barh()"
   ]
  },
  {
   "cell_type": "code",
   "execution_count": null,
   "id": "extra-executive",
   "metadata": {
    "papermill": {
     "duration": 0.027435,
     "end_time": "2021-12-16T03:30:13.959513",
     "exception": false,
     "start_time": "2021-12-16T03:30:13.932078",
     "status": "completed"
    },
    "tags": []
   },
   "outputs": [],
   "source": []
  }
 ],
 "metadata": {
  "kernelspec": {
   "display_name": "Python 3",
   "language": "python",
   "name": "python3"
  },
  "language_info": {
   "codemirror_mode": {
    "name": "ipython",
    "version": 3
   },
   "file_extension": ".py",
   "mimetype": "text/x-python",
   "name": "python",
   "nbconvert_exporter": "python",
   "pygments_lexer": "ipython3",
   "version": "3.9.5"
  },
  "papermill": {
   "default_parameters": {},
   "duration": 9.599696,
   "end_time": "2021-12-16T03:30:14.601820",
   "environment_variables": {},
   "exception": null,
   "input_path": "eBay_Overview.ipynb",
   "output_path": "eBay_Overview.ipynb",
   "parameters": {},
   "start_time": "2021-12-16T03:30:05.002124",
   "version": "2.3.3"
  }
 },
 "nbformat": 4,
 "nbformat_minor": 5
}