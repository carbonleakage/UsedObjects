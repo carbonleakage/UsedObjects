{
 "cells": [
  {
   "cell_type": "code",
   "execution_count": 1,
   "id": "reverse-picking",
   "metadata": {
    "execution": {
     "iopub.execute_input": "2021-09-04T04:00:07.156554Z",
     "iopub.status.busy": "2021-09-04T04:00:07.154525Z",
     "iopub.status.idle": "2021-09-04T04:00:07.958468Z",
     "shell.execute_reply": "2021-09-04T04:00:07.959895Z"
    },
    "papermill": {
     "duration": 0.85677,
     "end_time": "2021-09-04T04:00:07.960555",
     "exception": false,
     "start_time": "2021-09-04T04:00:07.103785",
     "status": "completed"
    },
    "tags": []
   },
   "outputs": [],
   "source": [
    "import pandas as pd\n",
    "import sqlite3"
   ]
  },
  {
   "cell_type": "code",
   "execution_count": 2,
   "id": "innovative-syndrome",
   "metadata": {
    "execution": {
     "iopub.execute_input": "2021-09-04T04:00:08.010981Z",
     "iopub.status.busy": "2021-09-04T04:00:08.008983Z",
     "iopub.status.idle": "2021-09-04T04:00:08.211111Z",
     "shell.execute_reply": "2021-09-04T04:00:08.212344Z"
    },
    "papermill": {
     "duration": 0.231945,
     "end_time": "2021-09-04T04:00:08.212742",
     "exception": false,
     "start_time": "2021-09-04T04:00:07.980797",
     "status": "completed"
    },
    "tags": []
   },
   "outputs": [],
   "source": [
    "timestamps = pd.read_sql(\"select distinct record_time from EBAY_TOP_BERLIN order by record_time desc limit 2\", sqlite3.connect(\"UsedObjects.db\"))"
   ]
  },
  {
   "cell_type": "code",
   "execution_count": 3,
   "id": "periodic-identification",
   "metadata": {
    "execution": {
     "iopub.execute_input": "2021-09-04T04:00:08.276796Z",
     "iopub.status.busy": "2021-09-04T04:00:08.274704Z",
     "iopub.status.idle": "2021-09-04T04:00:08.294380Z",
     "shell.execute_reply": "2021-09-04T04:00:08.295573Z"
    },
    "papermill": {
     "duration": 0.06433,
     "end_time": "2021-09-04T04:00:08.295993",
     "exception": false,
     "start_time": "2021-09-04T04:00:08.231663",
     "status": "completed"
    },
    "tags": []
   },
   "outputs": [
    {
     "data": {
      "text/html": [
       "<div>\n",
       "<style scoped>\n",
       "    .dataframe tbody tr th:only-of-type {\n",
       "        vertical-align: middle;\n",
       "    }\n",
       "\n",
       "    .dataframe tbody tr th {\n",
       "        vertical-align: top;\n",
       "    }\n",
       "\n",
       "    .dataframe thead th {\n",
       "        text-align: right;\n",
       "    }\n",
       "</style>\n",
       "<table border=\"1\" class=\"dataframe\">\n",
       "  <thead>\n",
       "    <tr style=\"text-align: right;\">\n",
       "      <th></th>\n",
       "      <th>RECORD_TIME</th>\n",
       "    </tr>\n",
       "  </thead>\n",
       "  <tbody>\n",
       "    <tr>\n",
       "      <th>0</th>\n",
       "      <td>2021-09-04 06:00</td>\n",
       "    </tr>\n",
       "    <tr>\n",
       "      <th>1</th>\n",
       "      <td>2021-09-04 05:30</td>\n",
       "    </tr>\n",
       "  </tbody>\n",
       "</table>\n",
       "</div>"
      ],
      "text/plain": [
       "        RECORD_TIME\n",
       "0  2021-09-04 06:00\n",
       "1  2021-09-04 05:30"
      ]
     },
     "execution_count": 3,
     "metadata": {},
     "output_type": "execute_result"
    }
   ],
   "source": [
    "timestamps"
   ]
  },
  {
   "cell_type": "code",
   "execution_count": 4,
   "id": "alternate-victory",
   "metadata": {
    "execution": {
     "iopub.execute_input": "2021-09-04T04:00:08.348231Z",
     "iopub.status.busy": "2021-09-04T04:00:08.346237Z",
     "iopub.status.idle": "2021-09-04T04:00:08.645620Z",
     "shell.execute_reply": "2021-09-04T04:00:08.647089Z"
    },
    "papermill": {
     "duration": 0.329317,
     "end_time": "2021-09-04T04:00:08.647571",
     "exception": false,
     "start_time": "2021-09-04T04:00:08.318254",
     "status": "completed"
    },
    "tags": []
   },
   "outputs": [],
   "source": [
    "df = pd.read_sql(\"select * from EBAY_TOP_BERLIN where record_time in (select distinct record_time from EBAY_TOP_BERLIN order by record_time desc limit 2)\", sqlite3.connect(\"UsedObjects.db\"))"
   ]
  },
  {
   "cell_type": "code",
   "execution_count": 5,
   "id": "popular-active",
   "metadata": {
    "execution": {
     "iopub.execute_input": "2021-09-04T04:00:08.727566Z",
     "iopub.status.busy": "2021-09-04T04:00:08.716345Z",
     "iopub.status.idle": "2021-09-04T04:00:08.744470Z",
     "shell.execute_reply": "2021-09-04T04:00:08.745704Z"
    },
    "papermill": {
     "duration": 0.071378,
     "end_time": "2021-09-04T04:00:08.746100",
     "exception": false,
     "start_time": "2021-09-04T04:00:08.674722",
     "status": "completed"
    },
    "tags": []
   },
   "outputs": [],
   "source": [
    "df_pivot = df.pivot_table(index=\"PRODUCT\", columns = \"RECORD_TIME\", values = \"LISTING_COUNT\")"
   ]
  },
  {
   "cell_type": "code",
   "execution_count": 6,
   "id": "union-huntington",
   "metadata": {
    "execution": {
     "iopub.execute_input": "2021-09-04T04:00:08.804871Z",
     "iopub.status.busy": "2021-09-04T04:00:08.802350Z",
     "iopub.status.idle": "2021-09-04T04:00:08.808275Z",
     "shell.execute_reply": "2021-09-04T04:00:08.809555Z"
    },
    "papermill": {
     "duration": 0.041865,
     "end_time": "2021-09-04T04:00:08.809974",
     "exception": false,
     "start_time": "2021-09-04T04:00:08.768109",
     "status": "completed"
    },
    "tags": []
   },
   "outputs": [],
   "source": [
    "df_pivot.columns = [\"stamp_1\", \"stamp_2\"]\n",
    "df_pivot_diff = df_pivot.diff(axis=1)"
   ]
  },
  {
   "cell_type": "code",
   "execution_count": 7,
   "id": "fifth-motion",
   "metadata": {
    "execution": {
     "iopub.execute_input": "2021-09-04T04:00:08.863015Z",
     "iopub.status.busy": "2021-09-04T04:00:08.860808Z",
     "iopub.status.idle": "2021-09-04T04:00:10.347138Z",
     "shell.execute_reply": "2021-09-04T04:00:10.348458Z"
    },
    "papermill": {
     "duration": 1.518574,
     "end_time": "2021-09-04T04:00:10.348879",
     "exception": false,
     "start_time": "2021-09-04T04:00:08.830305",
     "status": "completed"
    },
    "tags": []
   },
   "outputs": [
    {
     "data": {
      "text/plain": [
       "<AxesSubplot:ylabel='PRODUCT'>"
      ]
     },
     "execution_count": 7,
     "metadata": {},
     "output_type": "execute_result"
    },
    {
     "data": {
      "image/png": "[encoded data removed]",
      "text/plain": [
       "<Figure size 432x288 with 1 Axes>"
      ]
     },
     "metadata": {
      "needs_background": "light"
     },
     "output_type": "display_data"
    }
   ],
   "source": [
    "df_pivot_diff.sort_values(\"stamp_2\", ascending = False)[\"stamp_2\"].head(10).plot.barh()"
   ]
  },
  {
   "cell_type": "code",
   "execution_count": null,
   "id": "extra-executive",
   "metadata": {
    "papermill": {
     "duration": 0.022176,
     "end_time": "2021-09-04T04:00:10.394947",
     "exception": false,
     "start_time": "2021-09-04T04:00:10.372771",
     "status": "completed"
    },
    "tags": []
   },
   "outputs": [],
   "source": []
  }
 ],
 "metadata": {
  "kernelspec": {
   "display_name": "Python 3",
   "language": "python",
   "name": "python3"
  },
  "language_info": {
   "codemirror_mode": {
    "name": "ipython",
    "version": 3
   },
   "file_extension": ".py",
   "mimetype": "text/x-python",
   "name": "python",
   "nbconvert_exporter": "python",
   "pygments_lexer": "ipython3",
   "version": "3.9.5"
  },
  "papermill": {
   "default_parameters": {},
   "duration": 6.334484,
   "end_time": "2021-09-04T04:00:11.036446",
   "environment_variables": {},
   "exception": null,
   "input_path": "eBay_Overview.ipynb",
   "output_path": "eBay_Overview.ipynb",
   "parameters": {},
   "start_time": "2021-09-04T04:00:04.701962",
   "version": "2.3.3"
  }
 },
 "nbformat": 4,
 "nbformat_minor": 5
}