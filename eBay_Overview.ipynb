{
 "cells": [
  {
   "cell_type": "code",
   "execution_count": 1,
   "id": "reverse-picking",
   "metadata": {
    "execution": {
     "iopub.execute_input": "2021-11-10T04:30:07.518799Z",
     "iopub.status.busy": "2021-11-10T04:30:07.516420Z",
     "iopub.status.idle": "2021-11-10T04:30:08.483038Z",
     "shell.execute_reply": "2021-11-10T04:30:08.484304Z"
    },
    "papermill": {
     "duration": 1.017157,
     "end_time": "2021-11-10T04:30:08.485004",
     "exception": false,
     "start_time": "2021-11-10T04:30:07.467847",
     "status": "completed"
    },
    "tags": []
   },
   "outputs": [],
   "source": [
    "import pandas as pd\n",
    "import sqlite3"
   ]
  },
  {
   "cell_type": "code",
   "execution_count": 2,
   "id": "innovative-syndrome",
   "metadata": {
    "execution": {
     "iopub.execute_input": "2021-11-10T04:30:08.548157Z",
     "iopub.status.busy": "2021-11-10T04:30:08.545766Z",
     "iopub.status.idle": "2021-11-10T04:30:09.354721Z",
     "shell.execute_reply": "2021-11-10T04:30:09.356785Z"
    },
    "papermill": {
     "duration": 0.843739,
     "end_time": "2021-11-10T04:30:09.357251",
     "exception": false,
     "start_time": "2021-11-10T04:30:08.513512",
     "status": "completed"
    },
    "tags": []
   },
   "outputs": [],
   "source": [
    "timestamps = pd.read_sql(\"select distinct record_time from EBAY_TOP_BERLIN order by record_time desc limit 2\", sqlite3.connect(\"UsedObjects.db\"))"
   ]
  },
  {
   "cell_type": "code",
   "execution_count": 3,
   "id": "periodic-identification",
   "metadata": {
    "execution": {
     "iopub.execute_input": "2021-11-10T04:30:09.428807Z",
     "iopub.status.busy": "2021-11-10T04:30:09.426392Z",
     "iopub.status.idle": "2021-11-10T04:30:09.449493Z",
     "shell.execute_reply": "2021-11-10T04:30:09.451017Z"
    },
    "papermill": {
     "duration": 0.073857,
     "end_time": "2021-11-10T04:30:09.451487",
     "exception": false,
     "start_time": "2021-11-10T04:30:09.377630",
     "status": "completed"
    },
    "tags": []
   },
   "outputs": [
    {
     "data": {
      "text/html": [
       "<div>\n",
       "<style scoped>\n",
       "    .dataframe tbody tr th:only-of-type {\n",
       "        vertical-align: middle;\n",
       "    }\n",
       "\n",
       "    .dataframe tbody tr th {\n",
       "        vertical-align: top;\n",
       "    }\n",
       "\n",
       "    .dataframe thead th {\n",
       "        text-align: right;\n",
       "    }\n",
       "</style>\n",
       "<table border=\"1\" class=\"dataframe\">\n",
       "  <thead>\n",
       "    <tr style=\"text-align: right;\">\n",
       "      <th></th>\n",
       "      <th>RECORD_TIME</th>\n",
       "    </tr>\n",
       "  </thead>\n",
       "  <tbody>\n",
       "    <tr>\n",
       "      <th>0</th>\n",
       "      <td>2021-11-10 05:30</td>\n",
       "    </tr>\n",
       "    <tr>\n",
       "      <th>1</th>\n",
       "      <td>2021-11-10 05:00</td>\n",
       "    </tr>\n",
       "  </tbody>\n",
       "</table>\n",
       "</div>"
      ],
      "text/plain": [
       "        RECORD_TIME\n",
       "0  2021-11-10 05:30\n",
       "1  2021-11-10 05:00"
      ]
     },
     "execution_count": 3,
     "metadata": {},
     "output_type": "execute_result"
    }
   ],
   "source": [
    "timestamps"
   ]
  },
  {
   "cell_type": "code",
   "execution_count": 4,
   "id": "alternate-victory",
   "metadata": {
    "execution": {
     "iopub.execute_input": "2021-11-10T04:30:09.510454Z",
     "iopub.status.busy": "2021-11-10T04:30:09.508179Z",
     "iopub.status.idle": "2021-11-10T04:30:10.609011Z",
     "shell.execute_reply": "2021-11-10T04:30:10.610288Z"
    },
    "papermill": {
     "duration": 1.136858,
     "end_time": "2021-11-10T04:30:10.610739",
     "exception": false,
     "start_time": "2021-11-10T04:30:09.473881",
     "status": "completed"
    },
    "tags": []
   },
   "outputs": [],
   "source": [
    "df = pd.read_sql(\"select * from EBAY_TOP_BERLIN where record_time in (select distinct record_time from EBAY_TOP_BERLIN order by record_time desc limit 2)\", sqlite3.connect(\"UsedObjects.db\"))"
   ]
  },
  {
   "cell_type": "code",
   "execution_count": 5,
   "id": "popular-active",
   "metadata": {
    "execution": {
     "iopub.execute_input": "2021-11-10T04:30:10.692532Z",
     "iopub.status.busy": "2021-11-10T04:30:10.678911Z",
     "iopub.status.idle": "2021-11-10T04:30:10.710334Z",
     "shell.execute_reply": "2021-11-10T04:30:10.711720Z"
    },
    "papermill": {
     "duration": 0.079148,
     "end_time": "2021-11-10T04:30:10.712192",
     "exception": false,
     "start_time": "2021-11-10T04:30:10.633044",
     "status": "completed"
    },
    "tags": []
   },
   "outputs": [],
   "source": [
    "df_pivot = df.pivot_table(index=\"PRODUCT\", columns = \"RECORD_TIME\", values = \"LISTING_COUNT\")"
   ]
  },
  {
   "cell_type": "code",
   "execution_count": 6,
   "id": "union-huntington",
   "metadata": {
    "execution": {
     "iopub.execute_input": "2021-11-10T04:30:10.772077Z",
     "iopub.status.busy": "2021-11-10T04:30:10.769892Z",
     "iopub.status.idle": "2021-11-10T04:30:10.774794Z",
     "shell.execute_reply": "2021-11-10T04:30:10.776623Z"
    },
    "papermill": {
     "duration": 0.044034,
     "end_time": "2021-11-10T04:30:10.777143",
     "exception": false,
     "start_time": "2021-11-10T04:30:10.733109",
     "status": "completed"
    },
    "tags": []
   },
   "outputs": [],
   "source": [
    "df_pivot.columns = [\"stamp_1\", \"stamp_2\"]\n",
    "df_pivot_diff = df_pivot.diff(axis=1)"
   ]
  },
  {
   "cell_type": "code",
   "execution_count": 7,
   "id": "fifth-motion",
   "metadata": {
    "execution": {
     "iopub.execute_input": "2021-11-10T04:30:10.853539Z",
     "iopub.status.busy": "2021-11-10T04:30:10.836878Z",
     "iopub.status.idle": "2021-11-10T04:30:12.565164Z",
     "shell.execute_reply": "2021-11-10T04:30:12.567989Z"
    },
    "papermill": {
     "duration": 1.770723,
     "end_time": "2021-11-10T04:30:12.568759",
     "exception": false,
     "start_time": "2021-11-10T04:30:10.798036",
     "status": "completed"
    },
    "tags": []
   },
   "outputs": [
    {
     "data": {
      "text/plain": [
       "<AxesSubplot:ylabel='PRODUCT'>"
      ]
     },
     "execution_count": 7,
     "metadata": {},
     "output_type": "execute_result"
    },
    {
     "data": {
      "image/png": "[encoded data removed]",
      "text/plain": [
       "<Figure size 432x288 with 1 Axes>"
      ]
     },
     "metadata": {
      "needs_background": "light"
     },
     "output_type": "display_data"
    }
   ],
   "source": [
    "df_pivot_diff.sort_values(\"stamp_2\", ascending = False)[\"stamp_2\"].head(10).plot.barh()"
   ]
  },
  {
   "cell_type": "code",
   "execution_count": null,
   "id": "extra-executive",
   "metadata": {
    "papermill": {
     "duration": 0.037381,
     "end_time": "2021-11-10T04:30:12.639924",
     "exception": false,
     "start_time": "2021-11-10T04:30:12.602543",
     "status": "completed"
    },
    "tags": []
   },
   "outputs": [],
   "source": []
  }
 ],
 "metadata": {
  "kernelspec": {
   "display_name": "Python 3",
   "language": "python",
   "name": "python3"
  },
  "language_info": {
   "codemirror_mode": {
    "name": "ipython",
    "version": 3
   },
   "file_extension": ".py",
   "mimetype": "text/x-python",
   "name": "python",
   "nbconvert_exporter": "python",
   "pygments_lexer": "ipython3",
   "version": "3.9.5"
  },
  "papermill": {
   "default_parameters": {},
   "duration": 8.784712,
   "end_time": "2021-11-10T04:30:13.522494",
   "environment_variables": {},
   "exception": null,
   "input_path": "eBay_Overview.ipynb",
   "output_path": "eBay_Overview.ipynb",
   "parameters": {},
   "start_time": "2021-11-10T04:30:04.737782",
   "version": "2.3.3"
  }
 },
 "nbformat": 4,
 "nbformat_minor": 5
}