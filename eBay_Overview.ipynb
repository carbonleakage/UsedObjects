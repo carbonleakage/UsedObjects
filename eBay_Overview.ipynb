{
 "cells": [
  {
   "cell_type": "code",
   "execution_count": 1,
   "id": "reverse-picking",
   "metadata": {
    "execution": {
     "iopub.execute_input": "2021-12-22T06:30:07.279347Z",
     "iopub.status.busy": "2021-12-22T06:30:07.276021Z",
     "iopub.status.idle": "2021-12-22T06:30:08.233257Z",
     "shell.execute_reply": "2021-12-22T06:30:08.235455Z"
    },
    "papermill": {
     "duration": 1.007844,
     "end_time": "2021-12-22T06:30:08.236216",
     "exception": false,
     "start_time": "2021-12-22T06:30:07.228372",
     "status": "completed"
    },
    "tags": []
   },
   "outputs": [],
   "source": [
    "import pandas as pd\n",
    "import sqlite3"
   ]
  },
  {
   "cell_type": "code",
   "execution_count": 2,
   "id": "innovative-syndrome",
   "metadata": {
    "execution": {
     "iopub.execute_input": "2021-12-22T06:30:08.306834Z",
     "iopub.status.busy": "2021-12-22T06:30:08.302806Z",
     "iopub.status.idle": "2021-12-22T06:30:09.442909Z",
     "shell.execute_reply": "2021-12-22T06:30:09.444344Z"
    },
    "papermill": {
     "duration": 1.179381,
     "end_time": "2021-12-22T06:30:09.444885",
     "exception": false,
     "start_time": "2021-12-22T06:30:08.265504",
     "status": "completed"
    },
    "tags": []
   },
   "outputs": [],
   "source": [
    "timestamps = pd.read_sql(\"select distinct record_time from EBAY_TOP_BERLIN order by record_time desc limit 2\", sqlite3.connect(\"UsedObjects.db\"))"
   ]
  },
  {
   "cell_type": "code",
   "execution_count": 3,
   "id": "periodic-identification",
   "metadata": {
    "execution": {
     "iopub.execute_input": "2021-12-22T06:30:09.516095Z",
     "iopub.status.busy": "2021-12-22T06:30:09.508047Z",
     "iopub.status.idle": "2021-12-22T06:30:09.536929Z",
     "shell.execute_reply": "2021-12-22T06:30:09.538825Z"
    },
    "papermill": {
     "duration": 0.075005,
     "end_time": "2021-12-22T06:30:09.539305",
     "exception": false,
     "start_time": "2021-12-22T06:30:09.464300",
     "status": "completed"
    },
    "tags": []
   },
   "outputs": [
    {
     "data": {
      "text/html": [
       "<div>\n",
       "<style scoped>\n",
       "    .dataframe tbody tr th:only-of-type {\n",
       "        vertical-align: middle;\n",
       "    }\n",
       "\n",
       "    .dataframe tbody tr th {\n",
       "        vertical-align: top;\n",
       "    }\n",
       "\n",
       "    .dataframe thead th {\n",
       "        text-align: right;\n",
       "    }\n",
       "</style>\n",
       "<table border=\"1\" class=\"dataframe\">\n",
       "  <thead>\n",
       "    <tr style=\"text-align: right;\">\n",
       "      <th></th>\n",
       "      <th>RECORD_TIME</th>\n",
       "    </tr>\n",
       "  </thead>\n",
       "  <tbody>\n",
       "    <tr>\n",
       "      <th>0</th>\n",
       "      <td>2021-12-22 07:30</td>\n",
       "    </tr>\n",
       "    <tr>\n",
       "      <th>1</th>\n",
       "      <td>2021-12-22 07:00</td>\n",
       "    </tr>\n",
       "  </tbody>\n",
       "</table>\n",
       "</div>"
      ],
      "text/plain": [
       "        RECORD_TIME\n",
       "0  2021-12-22 07:30\n",
       "1  2021-12-22 07:00"
      ]
     },
     "execution_count": 3,
     "metadata": {},
     "output_type": "execute_result"
    }
   ],
   "source": [
    "timestamps"
   ]
  },
  {
   "cell_type": "code",
   "execution_count": 4,
   "id": "alternate-victory",
   "metadata": {
    "execution": {
     "iopub.execute_input": "2021-12-22T06:30:09.619357Z",
     "iopub.status.busy": "2021-12-22T06:30:09.617125Z",
     "iopub.status.idle": "2021-12-22T06:30:11.271737Z",
     "shell.execute_reply": "2021-12-22T06:30:11.273950Z"
    },
    "papermill": {
     "duration": 1.688988,
     "end_time": "2021-12-22T06:30:11.274438",
     "exception": false,
     "start_time": "2021-12-22T06:30:09.585450",
     "status": "completed"
    },
    "tags": []
   },
   "outputs": [],
   "source": [
    "df = pd.read_sql(\"select * from EBAY_TOP_BERLIN where record_time in (select distinct record_time from EBAY_TOP_BERLIN order by record_time desc limit 2)\", sqlite3.connect(\"UsedObjects.db\"))"
   ]
  },
  {
   "cell_type": "code",
   "execution_count": 5,
   "id": "popular-active",
   "metadata": {
    "execution": {
     "iopub.execute_input": "2021-12-22T06:30:11.366176Z",
     "iopub.status.busy": "2021-12-22T06:30:11.347950Z",
     "iopub.status.idle": "2021-12-22T06:30:11.383605Z",
     "shell.execute_reply": "2021-12-22T06:30:11.384904Z"
    },
    "papermill": {
     "duration": 0.090439,
     "end_time": "2021-12-22T06:30:11.385362",
     "exception": false,
     "start_time": "2021-12-22T06:30:11.294923",
     "status": "completed"
    },
    "tags": []
   },
   "outputs": [],
   "source": [
    "df_pivot = df.pivot_table(index=\"PRODUCT\", columns = \"RECORD_TIME\", values = \"LISTING_COUNT\")"
   ]
  },
  {
   "cell_type": "code",
   "execution_count": 6,
   "id": "union-huntington",
   "metadata": {
    "execution": {
     "iopub.execute_input": "2021-12-22T06:30:11.444250Z",
     "iopub.status.busy": "2021-12-22T06:30:11.442034Z",
     "iopub.status.idle": "2021-12-22T06:30:11.448114Z",
     "shell.execute_reply": "2021-12-22T06:30:11.449578Z"
    },
    "papermill": {
     "duration": 0.044622,
     "end_time": "2021-12-22T06:30:11.450069",
     "exception": false,
     "start_time": "2021-12-22T06:30:11.405447",
     "status": "completed"
    },
    "tags": []
   },
   "outputs": [],
   "source": [
    "df_pivot.columns = [\"stamp_1\", \"stamp_2\"]\n",
    "df_pivot_diff = df_pivot.diff(axis=1)"
   ]
  },
  {
   "cell_type": "code",
   "execution_count": 7,
   "id": "fifth-motion",
   "metadata": {
    "execution": {
     "iopub.execute_input": "2021-12-22T06:30:11.507321Z",
     "iopub.status.busy": "2021-12-22T06:30:11.504674Z",
     "iopub.status.idle": "2021-12-22T06:30:13.519317Z",
     "shell.execute_reply": "2021-12-22T06:30:13.520579Z"
    },
    "papermill": {
     "duration": 2.05138,
     "end_time": "2021-12-22T06:30:13.521108",
     "exception": false,
     "start_time": "2021-12-22T06:30:11.469728",
     "status": "completed"
    },
    "tags": []
   },
   "outputs": [
    {
     "data": {
      "text/plain": [
       "<AxesSubplot:ylabel='PRODUCT'>"
      ]
     },
     "execution_count": 7,
     "metadata": {},
     "output_type": "execute_result"
    },
    {
     "data": {
      "image/png": "[encoded data removed]",
      "text/plain": [
       "<Figure size 432x288 with 1 Axes>"
      ]
     },
     "metadata": {
      "needs_background": "light"
     },
     "output_type": "display_data"
    }
   ],
   "source": [
    "df_pivot_diff.sort_values(\"stamp_2\", ascending = False)[\"stamp_2\"].head(10).plot.barh()"
   ]
  },
  {
   "cell_type": "code",
   "execution_count": null,
   "id": "extra-executive",
   "metadata": {
    "papermill": {
     "duration": 0.021792,
     "end_time": "2021-12-22T06:30:13.567013",
     "exception": false,
     "start_time": "2021-12-22T06:30:13.545221",
     "status": "completed"
    },
    "tags": []
   },
   "outputs": [],
   "source": []
  }
 ],
 "metadata": {
  "kernelspec": {
   "display_name": "Python 3",
   "language": "python",
   "name": "python3"
  },
  "language_info": {
   "codemirror_mode": {
    "name": "ipython",
    "version": 3
   },
   "file_extension": ".py",
   "mimetype": "text/x-python",
   "name": "python",
   "nbconvert_exporter": "python",
   "pygments_lexer": "ipython3",
   "version": "3.9.5"
  },
  "papermill": {
   "default_parameters": {},
   "duration": 9.736064,
   "end_time": "2021-12-22T06:30:14.210687",
   "environment_variables": {},
   "exception": null,
   "input_path": "eBay_Overview.ipynb",
   "output_path": "eBay_Overview.ipynb",
   "parameters": {},
   "start_time": "2021-12-22T06:30:04.474623",
   "version": "2.3.3"
  }
 },
 "nbformat": 4,
 "nbformat_minor": 5
}