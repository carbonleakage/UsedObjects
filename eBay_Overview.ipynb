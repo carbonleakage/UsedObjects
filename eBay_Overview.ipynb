{
 "cells": [
  {
   "cell_type": "code",
   "execution_count": 1,
   "id": "reverse-picking",
   "metadata": {
    "execution": {
     "iopub.execute_input": "2021-10-05T00:30:07.043761Z",
     "iopub.status.busy": "2021-10-05T00:30:07.041695Z",
     "iopub.status.idle": "2021-10-05T00:30:07.851141Z",
     "shell.execute_reply": "2021-10-05T00:30:07.852626Z"
    },
    "papermill": {
     "duration": 0.858774,
     "end_time": "2021-10-05T00:30:07.853303",
     "exception": false,
     "start_time": "2021-10-05T00:30:06.994529",
     "status": "completed"
    },
    "tags": []
   },
   "outputs": [],
   "source": [
    "import pandas as pd\n",
    "import sqlite3"
   ]
  },
  {
   "cell_type": "code",
   "execution_count": 2,
   "id": "innovative-syndrome",
   "metadata": {
    "execution": {
     "iopub.execute_input": "2021-10-05T00:30:07.904561Z",
     "iopub.status.busy": "2021-10-05T00:30:07.902128Z",
     "iopub.status.idle": "2021-10-05T00:30:08.360477Z",
     "shell.execute_reply": "2021-10-05T00:30:08.361697Z"
    },
    "papermill": {
     "duration": 0.488256,
     "end_time": "2021-10-05T00:30:08.362102",
     "exception": false,
     "start_time": "2021-10-05T00:30:07.873846",
     "status": "completed"
    },
    "tags": []
   },
   "outputs": [],
   "source": [
    "timestamps = pd.read_sql(\"select distinct record_time from EBAY_TOP_BERLIN order by record_time desc limit 2\", sqlite3.connect(\"UsedObjects.db\"))"
   ]
  },
  {
   "cell_type": "code",
   "execution_count": 3,
   "id": "periodic-identification",
   "metadata": {
    "execution": {
     "iopub.execute_input": "2021-10-05T00:30:08.426543Z",
     "iopub.status.busy": "2021-10-05T00:30:08.424500Z",
     "iopub.status.idle": "2021-10-05T00:30:08.444492Z",
     "shell.execute_reply": "2021-10-05T00:30:08.445695Z"
    },
    "papermill": {
     "duration": 0.06364,
     "end_time": "2021-10-05T00:30:08.446129",
     "exception": false,
     "start_time": "2021-10-05T00:30:08.382489",
     "status": "completed"
    },
    "tags": []
   },
   "outputs": [
    {
     "data": {
      "text/html": [
       "<div>\n",
       "<style scoped>\n",
       "    .dataframe tbody tr th:only-of-type {\n",
       "        vertical-align: middle;\n",
       "    }\n",
       "\n",
       "    .dataframe tbody tr th {\n",
       "        vertical-align: top;\n",
       "    }\n",
       "\n",
       "    .dataframe thead th {\n",
       "        text-align: right;\n",
       "    }\n",
       "</style>\n",
       "<table border=\"1\" class=\"dataframe\">\n",
       "  <thead>\n",
       "    <tr style=\"text-align: right;\">\n",
       "      <th></th>\n",
       "      <th>RECORD_TIME</th>\n",
       "    </tr>\n",
       "  </thead>\n",
       "  <tbody>\n",
       "    <tr>\n",
       "      <th>0</th>\n",
       "      <td>2021-10-05 02:30</td>\n",
       "    </tr>\n",
       "    <tr>\n",
       "      <th>1</th>\n",
       "      <td>2021-10-05 02:00</td>\n",
       "    </tr>\n",
       "  </tbody>\n",
       "</table>\n",
       "</div>"
      ],
      "text/plain": [
       "        RECORD_TIME\n",
       "0  2021-10-05 02:30\n",
       "1  2021-10-05 02:00"
      ]
     },
     "execution_count": 3,
     "metadata": {},
     "output_type": "execute_result"
    }
   ],
   "source": [
    "timestamps"
   ]
  },
  {
   "cell_type": "code",
   "execution_count": 4,
   "id": "alternate-victory",
   "metadata": {
    "execution": {
     "iopub.execute_input": "2021-10-05T00:30:08.508975Z",
     "iopub.status.busy": "2021-10-05T00:30:08.507000Z",
     "iopub.status.idle": "2021-10-05T00:30:09.168870Z",
     "shell.execute_reply": "2021-10-05T00:30:09.167342Z"
    },
    "papermill": {
     "duration": 0.695549,
     "end_time": "2021-10-05T00:30:09.169246",
     "exception": false,
     "start_time": "2021-10-05T00:30:08.473697",
     "status": "completed"
    },
    "tags": []
   },
   "outputs": [],
   "source": [
    "df = pd.read_sql(\"select * from EBAY_TOP_BERLIN where record_time in (select distinct record_time from EBAY_TOP_BERLIN order by record_time desc limit 2)\", sqlite3.connect(\"UsedObjects.db\"))"
   ]
  },
  {
   "cell_type": "code",
   "execution_count": 5,
   "id": "popular-active",
   "metadata": {
    "execution": {
     "iopub.execute_input": "2021-10-05T00:30:09.239986Z",
     "iopub.status.busy": "2021-10-05T00:30:09.227823Z",
     "iopub.status.idle": "2021-10-05T00:30:09.256731Z",
     "shell.execute_reply": "2021-10-05T00:30:09.258207Z"
    },
    "papermill": {
     "duration": 0.068582,
     "end_time": "2021-10-05T00:30:09.258677",
     "exception": false,
     "start_time": "2021-10-05T00:30:09.190095",
     "status": "completed"
    },
    "tags": []
   },
   "outputs": [],
   "source": [
    "df_pivot = df.pivot_table(index=\"PRODUCT\", columns = \"RECORD_TIME\", values = \"LISTING_COUNT\")"
   ]
  },
  {
   "cell_type": "code",
   "execution_count": 6,
   "id": "union-huntington",
   "metadata": {
    "execution": {
     "iopub.execute_input": "2021-10-05T00:30:09.318372Z",
     "iopub.status.busy": "2021-10-05T00:30:09.316284Z",
     "iopub.status.idle": "2021-10-05T00:30:09.321678Z",
     "shell.execute_reply": "2021-10-05T00:30:09.323007Z"
    },
    "papermill": {
     "duration": 0.041266,
     "end_time": "2021-10-05T00:30:09.323437",
     "exception": false,
     "start_time": "2021-10-05T00:30:09.282171",
     "status": "completed"
    },
    "tags": []
   },
   "outputs": [],
   "source": [
    "df_pivot.columns = [\"stamp_1\", \"stamp_2\"]\n",
    "df_pivot_diff = df_pivot.diff(axis=1)"
   ]
  },
  {
   "cell_type": "code",
   "execution_count": 7,
   "id": "fifth-motion",
   "metadata": {
    "execution": {
     "iopub.execute_input": "2021-10-05T00:30:09.377332Z",
     "iopub.status.busy": "2021-10-05T00:30:09.374927Z",
     "iopub.status.idle": "2021-10-05T00:30:10.878453Z",
     "shell.execute_reply": "2021-10-05T00:30:10.879972Z"
    },
    "papermill": {
     "duration": 1.536562,
     "end_time": "2021-10-05T00:30:10.880422",
     "exception": false,
     "start_time": "2021-10-05T00:30:09.343860",
     "status": "completed"
    },
    "tags": []
   },
   "outputs": [
    {
     "data": {
      "text/plain": [
       "<AxesSubplot:ylabel='PRODUCT'>"
      ]
     },
     "execution_count": 7,
     "metadata": {},
     "output_type": "execute_result"
    },
    {
     "data": {
      "image/png": "[encoded data removed]",
      "text/plain": [
       "<Figure size 432x288 with 1 Axes>"
      ]
     },
     "metadata": {
      "needs_background": "light"
     },
     "output_type": "display_data"
    }
   ],
   "source": [
    "df_pivot_diff.sort_values(\"stamp_2\", ascending = False)[\"stamp_2\"].head(10).plot.barh()"
   ]
  },
  {
   "cell_type": "code",
   "execution_count": null,
   "id": "extra-executive",
   "metadata": {
    "papermill": {
     "duration": 0.022197,
     "end_time": "2021-10-05T00:30:10.926358",
     "exception": false,
     "start_time": "2021-10-05T00:30:10.904161",
     "status": "completed"
    },
    "tags": []
   },
   "outputs": [],
   "source": []
  }
 ],
 "metadata": {
  "kernelspec": {
   "display_name": "Python 3",
   "language": "python",
   "name": "python3"
  },
  "language_info": {
   "codemirror_mode": {
    "name": "ipython",
    "version": 3
   },
   "file_extension": ".py",
   "mimetype": "text/x-python",
   "name": "python",
   "nbconvert_exporter": "python",
   "pygments_lexer": "ipython3",
   "version": "3.9.5"
  },
  "papermill": {
   "default_parameters": {},
   "duration": 7.820693,
   "end_time": "2021-10-05T00:30:12.410202",
   "environment_variables": {},
   "exception": null,
   "input_path": "eBay_Overview.ipynb",
   "output_path": "eBay_Overview.ipynb",
   "parameters": {},
   "start_time": "2021-10-05T00:30:04.589509",
   "version": "2.3.3"
  }
 },
 "nbformat": 4,
 "nbformat_minor": 5
}