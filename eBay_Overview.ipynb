{
 "cells": [
  {
   "cell_type": "code",
   "execution_count": 1,
   "id": "reverse-picking",
   "metadata": {
    "execution": {
     "iopub.execute_input": "2021-08-16T19:30:07.840138Z",
     "iopub.status.busy": "2021-08-16T19:30:07.838163Z",
     "iopub.status.idle": "2021-08-16T19:30:08.648394Z",
     "shell.execute_reply": "2021-08-16T19:30:08.649646Z"
    },
    "papermill": {
     "duration": 0.862938,
     "end_time": "2021-08-16T19:30:08.650446",
     "exception": false,
     "start_time": "2021-08-16T19:30:07.787508",
     "status": "completed"
    },
    "tags": []
   },
   "outputs": [],
   "source": [
    "import pandas as pd\n",
    "import sqlite3"
   ]
  },
  {
   "cell_type": "code",
   "execution_count": 2,
   "id": "innovative-syndrome",
   "metadata": {
    "execution": {
     "iopub.execute_input": "2021-08-16T19:30:08.703111Z",
     "iopub.status.busy": "2021-08-16T19:30:08.701069Z",
     "iopub.status.idle": "2021-08-16T19:30:08.763795Z",
     "shell.execute_reply": "2021-08-16T19:30:08.764983Z"
    },
    "papermill": {
     "duration": 0.09268,
     "end_time": "2021-08-16T19:30:08.765412",
     "exception": false,
     "start_time": "2021-08-16T19:30:08.672732",
     "status": "completed"
    },
    "tags": []
   },
   "outputs": [],
   "source": [
    "timestamps = pd.read_sql(\"select distinct record_time from EBAY_TOP_BERLIN order by record_time desc limit 2\", sqlite3.connect(\"UsedObjects.db\"))"
   ]
  },
  {
   "cell_type": "code",
   "execution_count": 3,
   "id": "periodic-identification",
   "metadata": {
    "execution": {
     "iopub.execute_input": "2021-08-16T19:30:08.832075Z",
     "iopub.status.busy": "2021-08-16T19:30:08.830017Z",
     "iopub.status.idle": "2021-08-16T19:30:08.850179Z",
     "shell.execute_reply": "2021-08-16T19:30:08.851382Z"
    },
    "papermill": {
     "duration": 0.066925,
     "end_time": "2021-08-16T19:30:08.851814",
     "exception": false,
     "start_time": "2021-08-16T19:30:08.784889",
     "status": "completed"
    },
    "tags": []
   },
   "outputs": [
    {
     "data": {
      "text/html": [
       "<div>\n",
       "<style scoped>\n",
       "    .dataframe tbody tr th:only-of-type {\n",
       "        vertical-align: middle;\n",
       "    }\n",
       "\n",
       "    .dataframe tbody tr th {\n",
       "        vertical-align: top;\n",
       "    }\n",
       "\n",
       "    .dataframe thead th {\n",
       "        text-align: right;\n",
       "    }\n",
       "</style>\n",
       "<table border=\"1\" class=\"dataframe\">\n",
       "  <thead>\n",
       "    <tr style=\"text-align: right;\">\n",
       "      <th></th>\n",
       "      <th>RECORD_TIME</th>\n",
       "    </tr>\n",
       "  </thead>\n",
       "  <tbody>\n",
       "    <tr>\n",
       "      <th>0</th>\n",
       "      <td>2021-08-16 21:30</td>\n",
       "    </tr>\n",
       "    <tr>\n",
       "      <th>1</th>\n",
       "      <td>2021-08-16 21:00</td>\n",
       "    </tr>\n",
       "  </tbody>\n",
       "</table>\n",
       "</div>"
      ],
      "text/plain": [
       "        RECORD_TIME\n",
       "0  2021-08-16 21:30\n",
       "1  2021-08-16 21:00"
      ]
     },
     "execution_count": 3,
     "metadata": {},
     "output_type": "execute_result"
    }
   ],
   "source": [
    "timestamps"
   ]
  },
  {
   "cell_type": "code",
   "execution_count": 4,
   "id": "alternate-victory",
   "metadata": {
    "execution": {
     "iopub.execute_input": "2021-08-16T19:30:08.905813Z",
     "iopub.status.busy": "2021-08-16T19:30:08.903536Z",
     "iopub.status.idle": "2021-08-16T19:30:09.000523Z",
     "shell.execute_reply": "2021-08-16T19:30:09.001814Z"
    },
    "papermill": {
     "duration": 0.127691,
     "end_time": "2021-08-16T19:30:09.002299",
     "exception": false,
     "start_time": "2021-08-16T19:30:08.874608",
     "status": "completed"
    },
    "tags": []
   },
   "outputs": [],
   "source": [
    "df = pd.read_sql(\"select * from EBAY_TOP_BERLIN where record_time in (select distinct record_time from EBAY_TOP_BERLIN order by record_time desc limit 2)\", sqlite3.connect(\"UsedObjects.db\"))"
   ]
  },
  {
   "cell_type": "code",
   "execution_count": 5,
   "id": "popular-active",
   "metadata": {
    "execution": {
     "iopub.execute_input": "2021-08-16T19:30:09.072253Z",
     "iopub.status.busy": "2021-08-16T19:30:09.060370Z",
     "iopub.status.idle": "2021-08-16T19:30:09.087757Z",
     "shell.execute_reply": "2021-08-16T19:30:09.088973Z"
    },
    "papermill": {
     "duration": 0.066619,
     "end_time": "2021-08-16T19:30:09.089367",
     "exception": false,
     "start_time": "2021-08-16T19:30:09.022748",
     "status": "completed"
    },
    "tags": []
   },
   "outputs": [],
   "source": [
    "df_pivot = df.pivot_table(index=\"PRODUCT\", columns = \"RECORD_TIME\", values = \"LISTING_COUNT\")"
   ]
  },
  {
   "cell_type": "code",
   "execution_count": 6,
   "id": "union-huntington",
   "metadata": {
    "execution": {
     "iopub.execute_input": "2021-08-16T19:30:09.148936Z",
     "iopub.status.busy": "2021-08-16T19:30:09.146462Z",
     "iopub.status.idle": "2021-08-16T19:30:09.152352Z",
     "shell.execute_reply": "2021-08-16T19:30:09.153642Z"
    },
    "papermill": {
     "duration": 0.042547,
     "end_time": "2021-08-16T19:30:09.154116",
     "exception": false,
     "start_time": "2021-08-16T19:30:09.111569",
     "status": "completed"
    },
    "tags": []
   },
   "outputs": [],
   "source": [
    "df_pivot.columns = [\"stamp_1\", \"stamp_2\"]\n",
    "df_pivot_diff = df_pivot.diff(axis=1)"
   ]
  },
  {
   "cell_type": "code",
   "execution_count": 7,
   "id": "fifth-motion",
   "metadata": {
    "execution": {
     "iopub.execute_input": "2021-08-16T19:30:09.209062Z",
     "iopub.status.busy": "2021-08-16T19:30:09.206748Z",
     "iopub.status.idle": "2021-08-16T19:30:10.696018Z",
     "shell.execute_reply": "2021-08-16T19:30:10.697469Z"
    },
    "papermill": {
     "duration": 1.523286,
     "end_time": "2021-08-16T19:30:10.697985",
     "exception": false,
     "start_time": "2021-08-16T19:30:09.174699",
     "status": "completed"
    },
    "tags": []
   },
   "outputs": [
    {
     "data": {
      "text/plain": [
       "<AxesSubplot:ylabel='PRODUCT'>"
      ]
     },
     "execution_count": 7,
     "metadata": {},
     "output_type": "execute_result"
    },
    {
     "data": {
      "image/png": "[encoded data removed]",
      "text/plain": [
       "<Figure size 432x288 with 1 Axes>"
      ]
     },
     "metadata": {
      "needs_background": "light"
     },
     "output_type": "display_data"
    }
   ],
   "source": [
    "df_pivot_diff.sort_values(\"stamp_2\", ascending = False)[\"stamp_2\"].head(10).plot.barh()"
   ]
  },
  {
   "cell_type": "code",
   "execution_count": null,
   "id": "extra-executive",
   "metadata": {
    "papermill": {
     "duration": 0.022047,
     "end_time": "2021-08-16T19:30:10.744755",
     "exception": false,
     "start_time": "2021-08-16T19:30:10.722708",
     "status": "completed"
    },
    "tags": []
   },
   "outputs": [],
   "source": []
  }
 ],
 "metadata": {
  "kernelspec": {
   "display_name": "Python 3",
   "language": "python",
   "name": "python3"
  },
  "language_info": {
   "codemirror_mode": {
    "name": "ipython",
    "version": 3
   },
   "file_extension": ".py",
   "mimetype": "text/x-python",
   "name": "python",
   "nbconvert_exporter": "python",
   "pygments_lexer": "ipython3",
   "version": "3.9.5"
  },
  "papermill": {
   "default_parameters": {},
   "duration": 6.838664,
   "end_time": "2021-08-16T19:30:12.197380",
   "environment_variables": {},
   "exception": null,
   "input_path": "eBay_Overview.ipynb",
   "output_path": "eBay_Overview.ipynb",
   "parameters": {},
   "start_time": "2021-08-16T19:30:05.358716",
   "version": "2.3.3"
  }
 },
 "nbformat": 4,
 "nbformat_minor": 5
}