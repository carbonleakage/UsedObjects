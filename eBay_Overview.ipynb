{
 "cells": [
  {
   "cell_type": "code",
   "execution_count": 1,
   "id": "reverse-picking",
   "metadata": {
    "execution": {
     "iopub.execute_input": "2021-12-05T12:00:08.293179Z",
     "iopub.status.busy": "2021-12-05T12:00:08.290230Z",
     "iopub.status.idle": "2021-12-05T12:00:09.245718Z",
     "shell.execute_reply": "2021-12-05T12:00:09.247277Z"
    },
    "papermill": {
     "duration": 1.007166,
     "end_time": "2021-12-05T12:00:09.248014",
     "exception": false,
     "start_time": "2021-12-05T12:00:08.240848",
     "status": "completed"
    },
    "tags": []
   },
   "outputs": [],
   "source": [
    "import pandas as pd\n",
    "import sqlite3"
   ]
  },
  {
   "cell_type": "code",
   "execution_count": 2,
   "id": "innovative-syndrome",
   "metadata": {
    "execution": {
     "iopub.execute_input": "2021-12-05T12:00:09.312029Z",
     "iopub.status.busy": "2021-12-05T12:00:09.308500Z",
     "iopub.status.idle": "2021-12-05T12:00:10.314567Z",
     "shell.execute_reply": "2021-12-05T12:00:10.316159Z"
    },
    "papermill": {
     "duration": 1.041202,
     "end_time": "2021-12-05T12:00:10.316641",
     "exception": false,
     "start_time": "2021-12-05T12:00:09.275439",
     "status": "completed"
    },
    "tags": []
   },
   "outputs": [],
   "source": [
    "timestamps = pd.read_sql(\"select distinct record_time from EBAY_TOP_BERLIN order by record_time desc limit 2\", sqlite3.connect(\"UsedObjects.db\"))"
   ]
  },
  {
   "cell_type": "code",
   "execution_count": 3,
   "id": "periodic-identification",
   "metadata": {
    "execution": {
     "iopub.execute_input": "2021-12-05T12:00:10.391618Z",
     "iopub.status.busy": "2021-12-05T12:00:10.385652Z",
     "iopub.status.idle": "2021-12-05T12:00:10.409552Z",
     "shell.execute_reply": "2021-12-05T12:00:10.415670Z"
    },
    "papermill": {
     "duration": 0.079085,
     "end_time": "2021-12-05T12:00:10.416275",
     "exception": false,
     "start_time": "2021-12-05T12:00:10.337190",
     "status": "completed"
    },
    "tags": []
   },
   "outputs": [
    {
     "data": {
      "text/html": [
       "<div>\n",
       "<style scoped>\n",
       "    .dataframe tbody tr th:only-of-type {\n",
       "        vertical-align: middle;\n",
       "    }\n",
       "\n",
       "    .dataframe tbody tr th {\n",
       "        vertical-align: top;\n",
       "    }\n",
       "\n",
       "    .dataframe thead th {\n",
       "        text-align: right;\n",
       "    }\n",
       "</style>\n",
       "<table border=\"1\" class=\"dataframe\">\n",
       "  <thead>\n",
       "    <tr style=\"text-align: right;\">\n",
       "      <th></th>\n",
       "      <th>RECORD_TIME</th>\n",
       "    </tr>\n",
       "  </thead>\n",
       "  <tbody>\n",
       "    <tr>\n",
       "      <th>0</th>\n",
       "      <td>2021-12-05 13:00</td>\n",
       "    </tr>\n",
       "    <tr>\n",
       "      <th>1</th>\n",
       "      <td>2021-12-05 12:30</td>\n",
       "    </tr>\n",
       "  </tbody>\n",
       "</table>\n",
       "</div>"
      ],
      "text/plain": [
       "        RECORD_TIME\n",
       "0  2021-12-05 13:00\n",
       "1  2021-12-05 12:30"
      ]
     },
     "execution_count": 3,
     "metadata": {},
     "output_type": "execute_result"
    }
   ],
   "source": [
    "timestamps"
   ]
  },
  {
   "cell_type": "code",
   "execution_count": 4,
   "id": "alternate-victory",
   "metadata": {
    "execution": {
     "iopub.execute_input": "2021-12-05T12:00:10.470152Z",
     "iopub.status.busy": "2021-12-05T12:00:10.468204Z",
     "iopub.status.idle": "2021-12-05T12:00:11.913460Z",
     "shell.execute_reply": "2021-12-05T12:00:11.914845Z"
    },
    "papermill": {
     "duration": 1.47604,
     "end_time": "2021-12-05T12:00:11.915333",
     "exception": false,
     "start_time": "2021-12-05T12:00:10.439293",
     "status": "completed"
    },
    "tags": []
   },
   "outputs": [],
   "source": [
    "df = pd.read_sql(\"select * from EBAY_TOP_BERLIN where record_time in (select distinct record_time from EBAY_TOP_BERLIN order by record_time desc limit 2)\", sqlite3.connect(\"UsedObjects.db\"))"
   ]
  },
  {
   "cell_type": "code",
   "execution_count": 5,
   "id": "popular-active",
   "metadata": {
    "execution": {
     "iopub.execute_input": "2021-12-05T12:00:11.994157Z",
     "iopub.status.busy": "2021-12-05T12:00:11.979009Z",
     "iopub.status.idle": "2021-12-05T12:00:12.014615Z",
     "shell.execute_reply": "2021-12-05T12:00:12.016062Z"
    },
    "papermill": {
     "duration": 0.080667,
     "end_time": "2021-12-05T12:00:12.016569",
     "exception": false,
     "start_time": "2021-12-05T12:00:11.935902",
     "status": "completed"
    },
    "tags": []
   },
   "outputs": [],
   "source": [
    "df_pivot = df.pivot_table(index=\"PRODUCT\", columns = \"RECORD_TIME\", values = \"LISTING_COUNT\")"
   ]
  },
  {
   "cell_type": "code",
   "execution_count": 6,
   "id": "union-huntington",
   "metadata": {
    "execution": {
     "iopub.execute_input": "2021-12-05T12:00:12.085632Z",
     "iopub.status.busy": "2021-12-05T12:00:12.083250Z",
     "iopub.status.idle": "2021-12-05T12:00:12.092527Z",
     "shell.execute_reply": "2021-12-05T12:00:12.094280Z"
    },
    "papermill": {
     "duration": 0.056614,
     "end_time": "2021-12-05T12:00:12.094828",
     "exception": false,
     "start_time": "2021-12-05T12:00:12.038214",
     "status": "completed"
    },
    "tags": []
   },
   "outputs": [],
   "source": [
    "df_pivot.columns = [\"stamp_1\", \"stamp_2\"]\n",
    "df_pivot_diff = df_pivot.diff(axis=1)"
   ]
  },
  {
   "cell_type": "code",
   "execution_count": 7,
   "id": "fifth-motion",
   "metadata": {
    "execution": {
     "iopub.execute_input": "2021-12-05T12:00:12.153231Z",
     "iopub.status.busy": "2021-12-05T12:00:12.150692Z",
     "iopub.status.idle": "2021-12-05T12:00:14.077688Z",
     "shell.execute_reply": "2021-12-05T12:00:14.079446Z"
    },
    "papermill": {
     "duration": 1.962878,
     "end_time": "2021-12-05T12:00:14.080043",
     "exception": false,
     "start_time": "2021-12-05T12:00:12.117165",
     "status": "completed"
    },
    "tags": []
   },
   "outputs": [
    {
     "data": {
      "text/plain": [
       "<AxesSubplot:ylabel='PRODUCT'>"
      ]
     },
     "execution_count": 7,
     "metadata": {},
     "output_type": "execute_result"
    },
    {
     "data": {
      "image/png": "[encoded data removed]",
      "text/plain": [
       "<Figure size 432x288 with 1 Axes>"
      ]
     },
     "metadata": {
      "needs_background": "light"
     },
     "output_type": "display_data"
    }
   ],
   "source": [
    "df_pivot_diff.sort_values(\"stamp_2\", ascending = False)[\"stamp_2\"].head(10).plot.barh()"
   ]
  },
  {
   "cell_type": "code",
   "execution_count": null,
   "id": "extra-executive",
   "metadata": {
    "papermill": {
     "duration": 0.034041,
     "end_time": "2021-12-05T12:00:14.150120",
     "exception": false,
     "start_time": "2021-12-05T12:00:14.116079",
     "status": "completed"
    },
    "tags": []
   },
   "outputs": [],
   "source": []
  }
 ],
 "metadata": {
  "kernelspec": {
   "display_name": "Python 3",
   "language": "python",
   "name": "python3"
  },
  "language_info": {
   "codemirror_mode": {
    "name": "ipython",
    "version": 3
   },
   "file_extension": ".py",
   "mimetype": "text/x-python",
   "name": "python",
   "nbconvert_exporter": "python",
   "pygments_lexer": "ipython3",
   "version": "3.9.5"
  },
  "papermill": {
   "default_parameters": {},
   "duration": 9.946202,
   "end_time": "2021-12-05T12:00:15.463256",
   "environment_variables": {},
   "exception": null,
   "input_path": "eBay_Overview.ipynb",
   "output_path": "eBay_Overview.ipynb",
   "parameters": {},
   "start_time": "2021-12-05T12:00:05.517054",
   "version": "2.3.3"
  }
 },
 "nbformat": 4,
 "nbformat_minor": 5
}