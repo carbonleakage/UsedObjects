{
 "cells": [
  {
   "cell_type": "code",
   "execution_count": 1,
   "id": "reverse-picking",
   "metadata": {
    "execution": {
     "iopub.execute_input": "2021-09-05T13:30:07.442421Z",
     "iopub.status.busy": "2021-09-05T13:30:07.440459Z",
     "iopub.status.idle": "2021-09-05T13:30:08.244073Z",
     "shell.execute_reply": "2021-09-05T13:30:08.245346Z"
    },
    "papermill": {
     "duration": 0.857314,
     "end_time": "2021-09-05T13:30:08.245958",
     "exception": false,
     "start_time": "2021-09-05T13:30:07.388644",
     "status": "completed"
    },
    "tags": []
   },
   "outputs": [],
   "source": [
    "import pandas as pd\n",
    "import sqlite3"
   ]
  },
  {
   "cell_type": "code",
   "execution_count": 2,
   "id": "innovative-syndrome",
   "metadata": {
    "execution": {
     "iopub.execute_input": "2021-09-05T13:30:08.296089Z",
     "iopub.status.busy": "2021-09-05T13:30:08.294128Z",
     "iopub.status.idle": "2021-09-05T13:30:08.507748Z",
     "shell.execute_reply": "2021-09-05T13:30:08.508947Z"
    },
    "papermill": {
     "duration": 0.242715,
     "end_time": "2021-09-05T13:30:08.509343",
     "exception": false,
     "start_time": "2021-09-05T13:30:08.266628",
     "status": "completed"
    },
    "tags": []
   },
   "outputs": [],
   "source": [
    "timestamps = pd.read_sql(\"select distinct record_time from EBAY_TOP_BERLIN order by record_time desc limit 2\", sqlite3.connect(\"UsedObjects.db\"))"
   ]
  },
  {
   "cell_type": "code",
   "execution_count": 3,
   "id": "periodic-identification",
   "metadata": {
    "execution": {
     "iopub.execute_input": "2021-09-05T13:30:08.577519Z",
     "iopub.status.busy": "2021-09-05T13:30:08.575493Z",
     "iopub.status.idle": "2021-09-05T13:30:08.595607Z",
     "shell.execute_reply": "2021-09-05T13:30:08.596885Z"
    },
    "papermill": {
     "duration": 0.065722,
     "end_time": "2021-09-05T13:30:08.597335",
     "exception": false,
     "start_time": "2021-09-05T13:30:08.531613",
     "status": "completed"
    },
    "tags": []
   },
   "outputs": [
    {
     "data": {
      "text/html": [
       "<div>\n",
       "<style scoped>\n",
       "    .dataframe tbody tr th:only-of-type {\n",
       "        vertical-align: middle;\n",
       "    }\n",
       "\n",
       "    .dataframe tbody tr th {\n",
       "        vertical-align: top;\n",
       "    }\n",
       "\n",
       "    .dataframe thead th {\n",
       "        text-align: right;\n",
       "    }\n",
       "</style>\n",
       "<table border=\"1\" class=\"dataframe\">\n",
       "  <thead>\n",
       "    <tr style=\"text-align: right;\">\n",
       "      <th></th>\n",
       "      <th>RECORD_TIME</th>\n",
       "    </tr>\n",
       "  </thead>\n",
       "  <tbody>\n",
       "    <tr>\n",
       "      <th>0</th>\n",
       "      <td>2021-09-05 15:30</td>\n",
       "    </tr>\n",
       "    <tr>\n",
       "      <th>1</th>\n",
       "      <td>2021-09-05 15:00</td>\n",
       "    </tr>\n",
       "  </tbody>\n",
       "</table>\n",
       "</div>"
      ],
      "text/plain": [
       "        RECORD_TIME\n",
       "0  2021-09-05 15:30\n",
       "1  2021-09-05 15:00"
      ]
     },
     "execution_count": 3,
     "metadata": {},
     "output_type": "execute_result"
    }
   ],
   "source": [
    "timestamps"
   ]
  },
  {
   "cell_type": "code",
   "execution_count": 4,
   "id": "alternate-victory",
   "metadata": {
    "execution": {
     "iopub.execute_input": "2021-09-05T13:30:08.648654Z",
     "iopub.status.busy": "2021-09-05T13:30:08.646736Z",
     "iopub.status.idle": "2021-09-05T13:30:08.967650Z",
     "shell.execute_reply": "2021-09-05T13:30:08.968874Z"
    },
    "papermill": {
     "duration": 0.350456,
     "end_time": "2021-09-05T13:30:08.969269",
     "exception": false,
     "start_time": "2021-09-05T13:30:08.618813",
     "status": "completed"
    },
    "tags": []
   },
   "outputs": [],
   "source": [
    "df = pd.read_sql(\"select * from EBAY_TOP_BERLIN where record_time in (select distinct record_time from EBAY_TOP_BERLIN order by record_time desc limit 2)\", sqlite3.connect(\"UsedObjects.db\"))"
   ]
  },
  {
   "cell_type": "code",
   "execution_count": 5,
   "id": "popular-active",
   "metadata": {
    "execution": {
     "iopub.execute_input": "2021-09-05T13:30:09.046723Z",
     "iopub.status.busy": "2021-09-05T13:30:09.036007Z",
     "iopub.status.idle": "2021-09-05T13:30:09.063269Z",
     "shell.execute_reply": "2021-09-05T13:30:09.064487Z"
    },
    "papermill": {
     "duration": 0.070195,
     "end_time": "2021-09-05T13:30:09.064879",
     "exception": false,
     "start_time": "2021-09-05T13:30:08.994684",
     "status": "completed"
    },
    "tags": []
   },
   "outputs": [],
   "source": [
    "df_pivot = df.pivot_table(index=\"PRODUCT\", columns = \"RECORD_TIME\", values = \"LISTING_COUNT\")"
   ]
  },
  {
   "cell_type": "code",
   "execution_count": 6,
   "id": "union-huntington",
   "metadata": {
    "execution": {
     "iopub.execute_input": "2021-09-05T13:30:09.124512Z",
     "iopub.status.busy": "2021-09-05T13:30:09.122026Z",
     "iopub.status.idle": "2021-09-05T13:30:09.129763Z",
     "shell.execute_reply": "2021-09-05T13:30:09.128177Z"
    },
    "papermill": {
     "duration": 0.04251,
     "end_time": "2021-09-05T13:30:09.130157",
     "exception": false,
     "start_time": "2021-09-05T13:30:09.087647",
     "status": "completed"
    },
    "tags": []
   },
   "outputs": [],
   "source": [
    "df_pivot.columns = [\"stamp_1\", \"stamp_2\"]\n",
    "df_pivot_diff = df_pivot.diff(axis=1)"
   ]
  },
  {
   "cell_type": "code",
   "execution_count": 7,
   "id": "fifth-motion",
   "metadata": {
    "execution": {
     "iopub.execute_input": "2021-09-05T13:30:09.184894Z",
     "iopub.status.busy": "2021-09-05T13:30:09.182419Z",
     "iopub.status.idle": "2021-09-05T13:30:10.689304Z",
     "shell.execute_reply": "2021-09-05T13:30:10.690580Z"
    },
    "papermill": {
     "duration": 1.539498,
     "end_time": "2021-09-05T13:30:10.691080",
     "exception": false,
     "start_time": "2021-09-05T13:30:09.151582",
     "status": "completed"
    },
    "tags": []
   },
   "outputs": [
    {
     "data": {
      "text/plain": [
       "<AxesSubplot:ylabel='PRODUCT'>"
      ]
     },
     "execution_count": 7,
     "metadata": {},
     "output_type": "execute_result"
    },
    {
     "data": {
      "image/png": "[encoded data removed]",
      "text/plain": [
       "<Figure size 432x288 with 1 Axes>"
      ]
     },
     "metadata": {
      "needs_background": "light"
     },
     "output_type": "display_data"
    }
   ],
   "source": [
    "df_pivot_diff.sort_values(\"stamp_2\", ascending = False)[\"stamp_2\"].head(10).plot.barh()"
   ]
  },
  {
   "cell_type": "code",
   "execution_count": null,
   "id": "extra-executive",
   "metadata": {
    "papermill": {
     "duration": 0.022125,
     "end_time": "2021-09-05T13:30:10.737891",
     "exception": false,
     "start_time": "2021-09-05T13:30:10.715766",
     "status": "completed"
    },
    "tags": []
   },
   "outputs": [],
   "source": []
  }
 ],
 "metadata": {
  "kernelspec": {
   "display_name": "Python 3",
   "language": "python",
   "name": "python3"
  },
  "language_info": {
   "codemirror_mode": {
    "name": "ipython",
    "version": 3
   },
   "file_extension": ".py",
   "mimetype": "text/x-python",
   "name": "python",
   "nbconvert_exporter": "python",
   "pygments_lexer": "ipython3",
   "version": "3.9.5"
  },
  "papermill": {
   "default_parameters": {},
   "duration": 6.396516,
   "end_time": "2021-09-05T13:30:11.378208",
   "environment_variables": {},
   "exception": null,
   "input_path": "eBay_Overview.ipynb",
   "output_path": "eBay_Overview.ipynb",
   "parameters": {},
   "start_time": "2021-09-05T13:30:04.981692",
   "version": "2.3.3"
  }
 },
 "nbformat": 4,
 "nbformat_minor": 5
}