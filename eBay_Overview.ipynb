{
 "cells": [
  {
   "cell_type": "code",
   "execution_count": 1,
   "id": "reverse-picking",
   "metadata": {
    "execution": {
     "iopub.execute_input": "2021-10-17T00:30:07.258580Z",
     "iopub.status.busy": "2021-10-17T00:30:07.256569Z",
     "iopub.status.idle": "2021-10-17T00:30:08.063890Z",
     "shell.execute_reply": "2021-10-17T00:30:08.065213Z"
    },
    "papermill": {
     "duration": 0.860021,
     "end_time": "2021-10-17T00:30:08.065840",
     "exception": false,
     "start_time": "2021-10-17T00:30:07.205819",
     "status": "completed"
    },
    "tags": []
   },
   "outputs": [],
   "source": [
    "import pandas as pd\n",
    "import sqlite3"
   ]
  },
  {
   "cell_type": "code",
   "execution_count": 2,
   "id": "innovative-syndrome",
   "metadata": {
    "execution": {
     "iopub.execute_input": "2021-10-17T00:30:08.116620Z",
     "iopub.status.busy": "2021-10-17T00:30:08.114740Z",
     "iopub.status.idle": "2021-10-17T00:30:08.673303Z",
     "shell.execute_reply": "2021-10-17T00:30:08.674520Z"
    },
    "papermill": {
     "duration": 0.588204,
     "end_time": "2021-10-17T00:30:08.674918",
     "exception": false,
     "start_time": "2021-10-17T00:30:08.086714",
     "status": "completed"
    },
    "tags": []
   },
   "outputs": [],
   "source": [
    "timestamps = pd.read_sql(\"select distinct record_time from EBAY_TOP_BERLIN order by record_time desc limit 2\", sqlite3.connect(\"UsedObjects.db\"))"
   ]
  },
  {
   "cell_type": "code",
   "execution_count": 3,
   "id": "periodic-identification",
   "metadata": {
    "execution": {
     "iopub.execute_input": "2021-10-17T00:30:08.758231Z",
     "iopub.status.busy": "2021-10-17T00:30:08.753001Z",
     "iopub.status.idle": "2021-10-17T00:30:08.772925Z",
     "shell.execute_reply": "2021-10-17T00:30:08.774143Z"
    },
    "papermill": {
     "duration": 0.071524,
     "end_time": "2021-10-17T00:30:08.774536",
     "exception": false,
     "start_time": "2021-10-17T00:30:08.703012",
     "status": "completed"
    },
    "tags": []
   },
   "outputs": [
    {
     "data": {
      "text/html": [
       "<div>\n",
       "<style scoped>\n",
       "    .dataframe tbody tr th:only-of-type {\n",
       "        vertical-align: middle;\n",
       "    }\n",
       "\n",
       "    .dataframe tbody tr th {\n",
       "        vertical-align: top;\n",
       "    }\n",
       "\n",
       "    .dataframe thead th {\n",
       "        text-align: right;\n",
       "    }\n",
       "</style>\n",
       "<table border=\"1\" class=\"dataframe\">\n",
       "  <thead>\n",
       "    <tr style=\"text-align: right;\">\n",
       "      <th></th>\n",
       "      <th>RECORD_TIME</th>\n",
       "    </tr>\n",
       "  </thead>\n",
       "  <tbody>\n",
       "    <tr>\n",
       "      <th>0</th>\n",
       "      <td>2021-10-17 02:30</td>\n",
       "    </tr>\n",
       "    <tr>\n",
       "      <th>1</th>\n",
       "      <td>2021-10-17 02:00</td>\n",
       "    </tr>\n",
       "  </tbody>\n",
       "</table>\n",
       "</div>"
      ],
      "text/plain": [
       "        RECORD_TIME\n",
       "0  2021-10-17 02:30\n",
       "1  2021-10-17 02:00"
      ]
     },
     "execution_count": 3,
     "metadata": {},
     "output_type": "execute_result"
    }
   ],
   "source": [
    "timestamps"
   ]
  },
  {
   "cell_type": "code",
   "execution_count": 4,
   "id": "alternate-victory",
   "metadata": {
    "execution": {
     "iopub.execute_input": "2021-10-17T00:30:08.826059Z",
     "iopub.status.busy": "2021-10-17T00:30:08.824103Z",
     "iopub.status.idle": "2021-10-17T00:30:09.642255Z",
     "shell.execute_reply": "2021-10-17T00:30:09.643532Z"
    },
    "papermill": {
     "duration": 0.848252,
     "end_time": "2021-10-17T00:30:09.643946",
     "exception": false,
     "start_time": "2021-10-17T00:30:08.795694",
     "status": "completed"
    },
    "tags": []
   },
   "outputs": [],
   "source": [
    "df = pd.read_sql(\"select * from EBAY_TOP_BERLIN where record_time in (select distinct record_time from EBAY_TOP_BERLIN order by record_time desc limit 2)\", sqlite3.connect(\"UsedObjects.db\"))"
   ]
  },
  {
   "cell_type": "code",
   "execution_count": 5,
   "id": "popular-active",
   "metadata": {
    "execution": {
     "iopub.execute_input": "2021-10-17T00:30:09.713306Z",
     "iopub.status.busy": "2021-10-17T00:30:09.702385Z",
     "iopub.status.idle": "2021-10-17T00:30:09.729690Z",
     "shell.execute_reply": "2021-10-17T00:30:09.730889Z"
    },
    "papermill": {
     "duration": 0.0669,
     "end_time": "2021-10-17T00:30:09.731281",
     "exception": false,
     "start_time": "2021-10-17T00:30:09.664381",
     "status": "completed"
    },
    "tags": []
   },
   "outputs": [],
   "source": [
    "df_pivot = df.pivot_table(index=\"PRODUCT\", columns = \"RECORD_TIME\", values = \"LISTING_COUNT\")"
   ]
  },
  {
   "cell_type": "code",
   "execution_count": 6,
   "id": "union-huntington",
   "metadata": {
    "execution": {
     "iopub.execute_input": "2021-10-17T00:30:09.791844Z",
     "iopub.status.busy": "2021-10-17T00:30:09.789367Z",
     "iopub.status.idle": "2021-10-17T00:30:09.795272Z",
     "shell.execute_reply": "2021-10-17T00:30:09.796523Z"
    },
    "papermill": {
     "duration": 0.042533,
     "end_time": "2021-10-17T00:30:09.797024",
     "exception": false,
     "start_time": "2021-10-17T00:30:09.754491",
     "status": "completed"
    },
    "tags": []
   },
   "outputs": [],
   "source": [
    "df_pivot.columns = [\"stamp_1\", \"stamp_2\"]\n",
    "df_pivot_diff = df_pivot.diff(axis=1)"
   ]
  },
  {
   "cell_type": "code",
   "execution_count": 7,
   "id": "fifth-motion",
   "metadata": {
    "execution": {
     "iopub.execute_input": "2021-10-17T00:30:09.851784Z",
     "iopub.status.busy": "2021-10-17T00:30:09.849462Z",
     "iopub.status.idle": "2021-10-17T00:30:11.328910Z",
     "shell.execute_reply": "2021-10-17T00:30:11.330344Z"
    },
    "papermill": {
     "duration": 1.512966,
     "end_time": "2021-10-17T00:30:11.330783",
     "exception": false,
     "start_time": "2021-10-17T00:30:09.817817",
     "status": "completed"
    },
    "tags": []
   },
   "outputs": [
    {
     "data": {
      "text/plain": [
       "<AxesSubplot:ylabel='PRODUCT'>"
      ]
     },
     "execution_count": 7,
     "metadata": {},
     "output_type": "execute_result"
    },
    {
     "data": {
      "image/png": "[encoded data removed]",
      "text/plain": [
       "<Figure size 432x288 with 1 Axes>"
      ]
     },
     "metadata": {
      "needs_background": "light"
     },
     "output_type": "display_data"
    }
   ],
   "source": [
    "df_pivot_diff.sort_values(\"stamp_2\", ascending = False)[\"stamp_2\"].head(10).plot.barh()"
   ]
  },
  {
   "cell_type": "code",
   "execution_count": null,
   "id": "extra-executive",
   "metadata": {
    "papermill": {
     "duration": 0.02222,
     "end_time": "2021-10-17T00:30:11.378011",
     "exception": false,
     "start_time": "2021-10-17T00:30:11.355791",
     "status": "completed"
    },
    "tags": []
   },
   "outputs": [],
   "source": []
  }
 ],
 "metadata": {
  "kernelspec": {
   "display_name": "Python 3",
   "language": "python",
   "name": "python3"
  },
  "language_info": {
   "codemirror_mode": {
    "name": "ipython",
    "version": 3
   },
   "file_extension": ".py",
   "mimetype": "text/x-python",
   "name": "python",
   "nbconvert_exporter": "python",
   "pygments_lexer": "ipython3",
   "version": "3.9.5"
  },
  "papermill": {
   "default_parameters": {},
   "duration": 7.823729,
   "end_time": "2021-10-17T00:30:12.616140",
   "environment_variables": {},
   "exception": null,
   "input_path": "eBay_Overview.ipynb",
   "output_path": "eBay_Overview.ipynb",
   "parameters": {},
   "start_time": "2021-10-17T00:30:04.792411",
   "version": "2.3.3"
  }
 },
 "nbformat": 4,
 "nbformat_minor": 5
}