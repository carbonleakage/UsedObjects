{
 "cells": [
  {
   "cell_type": "code",
   "execution_count": 1,
   "id": "reverse-picking",
   "metadata": {
    "execution": {
     "iopub.execute_input": "2021-08-21T16:30:07.147579Z",
     "iopub.status.busy": "2021-08-21T16:30:07.145529Z",
     "iopub.status.idle": "2021-08-21T16:30:07.953618Z",
     "shell.execute_reply": "2021-08-21T16:30:07.955144Z"
    },
    "papermill": {
     "duration": 0.85877,
     "end_time": "2021-08-21T16:30:07.955838",
     "exception": false,
     "start_time": "2021-08-21T16:30:07.097068",
     "status": "completed"
    },
    "tags": []
   },
   "outputs": [],
   "source": [
    "import pandas as pd\n",
    "import sqlite3"
   ]
  },
  {
   "cell_type": "code",
   "execution_count": 2,
   "id": "innovative-syndrome",
   "metadata": {
    "execution": {
     "iopub.execute_input": "2021-08-21T16:30:08.006981Z",
     "iopub.status.busy": "2021-08-21T16:30:08.004609Z",
     "iopub.status.idle": "2021-08-21T16:30:08.103422Z",
     "shell.execute_reply": "2021-08-21T16:30:08.104625Z"
    },
    "papermill": {
     "duration": 0.128683,
     "end_time": "2021-08-21T16:30:08.105022",
     "exception": false,
     "start_time": "2021-08-21T16:30:07.976339",
     "status": "completed"
    },
    "tags": []
   },
   "outputs": [],
   "source": [
    "timestamps = pd.read_sql(\"select distinct record_time from EBAY_TOP_BERLIN order by record_time desc limit 2\", sqlite3.connect(\"UsedObjects.db\"))"
   ]
  },
  {
   "cell_type": "code",
   "execution_count": 3,
   "id": "periodic-identification",
   "metadata": {
    "execution": {
     "iopub.execute_input": "2021-08-21T16:30:08.168227Z",
     "iopub.status.busy": "2021-08-21T16:30:08.166654Z",
     "iopub.status.idle": "2021-08-21T16:30:08.189260Z",
     "shell.execute_reply": "2021-08-21T16:30:08.190546Z"
    },
    "papermill": {
     "duration": 0.066653,
     "end_time": "2021-08-21T16:30:08.190952",
     "exception": false,
     "start_time": "2021-08-21T16:30:08.124299",
     "status": "completed"
    },
    "tags": []
   },
   "outputs": [
    {
     "data": {
      "text/html": [
       "<div>\n",
       "<style scoped>\n",
       "    .dataframe tbody tr th:only-of-type {\n",
       "        vertical-align: middle;\n",
       "    }\n",
       "\n",
       "    .dataframe tbody tr th {\n",
       "        vertical-align: top;\n",
       "    }\n",
       "\n",
       "    .dataframe thead th {\n",
       "        text-align: right;\n",
       "    }\n",
       "</style>\n",
       "<table border=\"1\" class=\"dataframe\">\n",
       "  <thead>\n",
       "    <tr style=\"text-align: right;\">\n",
       "      <th></th>\n",
       "      <th>RECORD_TIME</th>\n",
       "    </tr>\n",
       "  </thead>\n",
       "  <tbody>\n",
       "    <tr>\n",
       "      <th>0</th>\n",
       "      <td>2021-08-21 18:30</td>\n",
       "    </tr>\n",
       "    <tr>\n",
       "      <th>1</th>\n",
       "      <td>2021-08-21 18:00</td>\n",
       "    </tr>\n",
       "  </tbody>\n",
       "</table>\n",
       "</div>"
      ],
      "text/plain": [
       "        RECORD_TIME\n",
       "0  2021-08-21 18:30\n",
       "1  2021-08-21 18:00"
      ]
     },
     "execution_count": 3,
     "metadata": {},
     "output_type": "execute_result"
    }
   ],
   "source": [
    "timestamps"
   ]
  },
  {
   "cell_type": "code",
   "execution_count": 4,
   "id": "alternate-victory",
   "metadata": {
    "execution": {
     "iopub.execute_input": "2021-08-21T16:30:08.242877Z",
     "iopub.status.busy": "2021-08-21T16:30:08.240926Z",
     "iopub.status.idle": "2021-08-21T16:30:08.385709Z",
     "shell.execute_reply": "2021-08-21T16:30:08.387207Z"
    },
    "papermill": {
     "duration": 0.175025,
     "end_time": "2021-08-21T16:30:08.387771",
     "exception": false,
     "start_time": "2021-08-21T16:30:08.212746",
     "status": "completed"
    },
    "tags": []
   },
   "outputs": [],
   "source": [
    "df = pd.read_sql(\"select * from EBAY_TOP_BERLIN where record_time in (select distinct record_time from EBAY_TOP_BERLIN order by record_time desc limit 2)\", sqlite3.connect(\"UsedObjects.db\"))"
   ]
  },
  {
   "cell_type": "code",
   "execution_count": 5,
   "id": "popular-active",
   "metadata": {
    "execution": {
     "iopub.execute_input": "2021-08-21T16:30:08.459208Z",
     "iopub.status.busy": "2021-08-21T16:30:08.447048Z",
     "iopub.status.idle": "2021-08-21T16:30:08.475836Z",
     "shell.execute_reply": "2021-08-21T16:30:08.477296Z"
    },
    "papermill": {
     "duration": 0.068663,
     "end_time": "2021-08-21T16:30:08.477760",
     "exception": false,
     "start_time": "2021-08-21T16:30:08.409097",
     "status": "completed"
    },
    "tags": []
   },
   "outputs": [],
   "source": [
    "df_pivot = df.pivot_table(index=\"PRODUCT\", columns = \"RECORD_TIME\", values = \"LISTING_COUNT\")"
   ]
  },
  {
   "cell_type": "code",
   "execution_count": 6,
   "id": "union-huntington",
   "metadata": {
    "execution": {
     "iopub.execute_input": "2021-08-21T16:30:08.536339Z",
     "iopub.status.busy": "2021-08-21T16:30:08.534273Z",
     "iopub.status.idle": "2021-08-21T16:30:08.539443Z",
     "shell.execute_reply": "2021-08-21T16:30:08.540704Z"
    },
    "papermill": {
     "duration": 0.040949,
     "end_time": "2021-08-21T16:30:08.541118",
     "exception": false,
     "start_time": "2021-08-21T16:30:08.500169",
     "status": "completed"
    },
    "tags": []
   },
   "outputs": [],
   "source": [
    "df_pivot.columns = [\"stamp_1\", \"stamp_2\"]\n",
    "df_pivot_diff = df_pivot.diff(axis=1)"
   ]
  },
  {
   "cell_type": "code",
   "execution_count": 7,
   "id": "fifth-motion",
   "metadata": {
    "execution": {
     "iopub.execute_input": "2021-08-21T16:30:08.604186Z",
     "iopub.status.busy": "2021-08-21T16:30:08.601271Z",
     "iopub.status.idle": "2021-08-21T16:30:10.104318Z",
     "shell.execute_reply": "2021-08-21T16:30:10.105597Z"
    },
    "papermill": {
     "duration": 1.544808,
     "end_time": "2021-08-21T16:30:10.106075",
     "exception": false,
     "start_time": "2021-08-21T16:30:08.561267",
     "status": "completed"
    },
    "tags": []
   },
   "outputs": [
    {
     "data": {
      "text/plain": [
       "<AxesSubplot:ylabel='PRODUCT'>"
      ]
     },
     "execution_count": 7,
     "metadata": {},
     "output_type": "execute_result"
    },
    {
     "data": {
      "image/png": "[encoded data removed]",
      "text/plain": [
       "<Figure size 432x288 with 1 Axes>"
      ]
     },
     "metadata": {
      "needs_background": "light"
     },
     "output_type": "display_data"
    }
   ],
   "source": [
    "df_pivot_diff.sort_values(\"stamp_2\", ascending = False)[\"stamp_2\"].head(10).plot.barh()"
   ]
  },
  {
   "cell_type": "code",
   "execution_count": null,
   "id": "extra-executive",
   "metadata": {
    "papermill": {
     "duration": 0.022145,
     "end_time": "2021-08-21T16:30:10.153005",
     "exception": false,
     "start_time": "2021-08-21T16:30:10.130860",
     "status": "completed"
    },
    "tags": []
   },
   "outputs": [],
   "source": []
  }
 ],
 "metadata": {
  "kernelspec": {
   "display_name": "Python 3",
   "language": "python",
   "name": "python3"
  },
  "language_info": {
   "codemirror_mode": {
    "name": "ipython",
    "version": 3
   },
   "file_extension": ".py",
   "mimetype": "text/x-python",
   "name": "python",
   "nbconvert_exporter": "python",
   "pygments_lexer": "ipython3",
   "version": "3.9.5"
  },
  "papermill": {
   "default_parameters": {},
   "duration": 6.83412,
   "end_time": "2021-08-21T16:30:11.517120",
   "environment_variables": {},
   "exception": null,
   "input_path": "eBay_Overview.ipynb",
   "output_path": "eBay_Overview.ipynb",
   "parameters": {},
   "start_time": "2021-08-21T16:30:04.683000",
   "version": "2.3.3"
  }
 },
 "nbformat": 4,
 "nbformat_minor": 5
}