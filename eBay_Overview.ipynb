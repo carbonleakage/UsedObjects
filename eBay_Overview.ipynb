{
 "cells": [
  {
   "cell_type": "code",
   "execution_count": 1,
   "id": "reverse-picking",
   "metadata": {
    "execution": {
     "iopub.execute_input": "2021-10-03T10:00:07.380611Z",
     "iopub.status.busy": "2021-10-03T10:00:07.378637Z",
     "iopub.status.idle": "2021-10-03T10:00:08.183782Z",
     "shell.execute_reply": "2021-10-03T10:00:08.185051Z"
    },
    "papermill": {
     "duration": 0.858825,
     "end_time": "2021-10-03T10:00:08.185678",
     "exception": false,
     "start_time": "2021-10-03T10:00:07.326853",
     "status": "completed"
    },
    "tags": []
   },
   "outputs": [],
   "source": [
    "import pandas as pd\n",
    "import sqlite3"
   ]
  },
  {
   "cell_type": "code",
   "execution_count": 2,
   "id": "innovative-syndrome",
   "metadata": {
    "execution": {
     "iopub.execute_input": "2021-10-03T10:00:08.235509Z",
     "iopub.status.busy": "2021-10-03T10:00:08.233540Z",
     "iopub.status.idle": "2021-10-03T10:00:08.670712Z",
     "shell.execute_reply": "2021-10-03T10:00:08.671985Z"
    },
    "papermill": {
     "duration": 0.466347,
     "end_time": "2021-10-03T10:00:08.672389",
     "exception": false,
     "start_time": "2021-10-03T10:00:08.206042",
     "status": "completed"
    },
    "tags": []
   },
   "outputs": [],
   "source": [
    "timestamps = pd.read_sql(\"select distinct record_time from EBAY_TOP_BERLIN order by record_time desc limit 2\", sqlite3.connect(\"UsedObjects.db\"))"
   ]
  },
  {
   "cell_type": "code",
   "execution_count": 3,
   "id": "periodic-identification",
   "metadata": {
    "execution": {
     "iopub.execute_input": "2021-10-03T10:00:08.739983Z",
     "iopub.status.busy": "2021-10-03T10:00:08.734831Z",
     "iopub.status.idle": "2021-10-03T10:00:08.756765Z",
     "shell.execute_reply": "2021-10-03T10:00:08.757901Z"
    },
    "papermill": {
     "duration": 0.066845,
     "end_time": "2021-10-03T10:00:08.758310",
     "exception": false,
     "start_time": "2021-10-03T10:00:08.691465",
     "status": "completed"
    },
    "tags": []
   },
   "outputs": [
    {
     "data": {
      "text/html": [
       "<div>\n",
       "<style scoped>\n",
       "    .dataframe tbody tr th:only-of-type {\n",
       "        vertical-align: middle;\n",
       "    }\n",
       "\n",
       "    .dataframe tbody tr th {\n",
       "        vertical-align: top;\n",
       "    }\n",
       "\n",
       "    .dataframe thead th {\n",
       "        text-align: right;\n",
       "    }\n",
       "</style>\n",
       "<table border=\"1\" class=\"dataframe\">\n",
       "  <thead>\n",
       "    <tr style=\"text-align: right;\">\n",
       "      <th></th>\n",
       "      <th>RECORD_TIME</th>\n",
       "    </tr>\n",
       "  </thead>\n",
       "  <tbody>\n",
       "    <tr>\n",
       "      <th>0</th>\n",
       "      <td>2021-10-03 12:00</td>\n",
       "    </tr>\n",
       "    <tr>\n",
       "      <th>1</th>\n",
       "      <td>2021-10-03 11:30</td>\n",
       "    </tr>\n",
       "  </tbody>\n",
       "</table>\n",
       "</div>"
      ],
      "text/plain": [
       "        RECORD_TIME\n",
       "0  2021-10-03 12:00\n",
       "1  2021-10-03 11:30"
      ]
     },
     "execution_count": 3,
     "metadata": {},
     "output_type": "execute_result"
    }
   ],
   "source": [
    "timestamps"
   ]
  },
  {
   "cell_type": "code",
   "execution_count": 4,
   "id": "alternate-victory",
   "metadata": {
    "execution": {
     "iopub.execute_input": "2021-10-03T10:00:08.820307Z",
     "iopub.status.busy": "2021-10-03T10:00:08.818220Z",
     "iopub.status.idle": "2021-10-03T10:00:09.460245Z",
     "shell.execute_reply": "2021-10-03T10:00:09.461465Z"
    },
    "papermill": {
     "duration": 0.680371,
     "end_time": "2021-10-03T10:00:09.461862",
     "exception": false,
     "start_time": "2021-10-03T10:00:08.781491",
     "status": "completed"
    },
    "tags": []
   },
   "outputs": [],
   "source": [
    "df = pd.read_sql(\"select * from EBAY_TOP_BERLIN where record_time in (select distinct record_time from EBAY_TOP_BERLIN order by record_time desc limit 2)\", sqlite3.connect(\"UsedObjects.db\"))"
   ]
  },
  {
   "cell_type": "code",
   "execution_count": 5,
   "id": "popular-active",
   "metadata": {
    "execution": {
     "iopub.execute_input": "2021-10-03T10:00:09.532375Z",
     "iopub.status.busy": "2021-10-03T10:00:09.521277Z",
     "iopub.status.idle": "2021-10-03T10:00:09.548140Z",
     "shell.execute_reply": "2021-10-03T10:00:09.549429Z"
    },
    "papermill": {
     "duration": 0.067804,
     "end_time": "2021-10-03T10:00:09.549848",
     "exception": false,
     "start_time": "2021-10-03T10:00:09.482044",
     "status": "completed"
    },
    "tags": []
   },
   "outputs": [],
   "source": [
    "df_pivot = df.pivot_table(index=\"PRODUCT\", columns = \"RECORD_TIME\", values = \"LISTING_COUNT\")"
   ]
  },
  {
   "cell_type": "code",
   "execution_count": 6,
   "id": "union-huntington",
   "metadata": {
    "execution": {
     "iopub.execute_input": "2021-10-03T10:00:09.606971Z",
     "iopub.status.busy": "2021-10-03T10:00:09.604815Z",
     "iopub.status.idle": "2021-10-03T10:00:09.610315Z",
     "shell.execute_reply": "2021-10-03T10:00:09.612140Z"
    },
    "papermill": {
     "duration": 0.041137,
     "end_time": "2021-10-03T10:00:09.612707",
     "exception": false,
     "start_time": "2021-10-03T10:00:09.571570",
     "status": "completed"
    },
    "tags": []
   },
   "outputs": [],
   "source": [
    "df_pivot.columns = [\"stamp_1\", \"stamp_2\"]\n",
    "df_pivot_diff = df_pivot.diff(axis=1)"
   ]
  },
  {
   "cell_type": "code",
   "execution_count": 7,
   "id": "fifth-motion",
   "metadata": {
    "execution": {
     "iopub.execute_input": "2021-10-03T10:00:09.668503Z",
     "iopub.status.busy": "2021-10-03T10:00:09.665934Z",
     "iopub.status.idle": "2021-10-03T10:00:11.179762Z",
     "shell.execute_reply": "2021-10-03T10:00:11.181038Z"
    },
    "papermill": {
     "duration": 1.547266,
     "end_time": "2021-10-03T10:00:11.181497",
     "exception": false,
     "start_time": "2021-10-03T10:00:09.634231",
     "status": "completed"
    },
    "tags": []
   },
   "outputs": [
    {
     "data": {
      "text/plain": [
       "<AxesSubplot:ylabel='PRODUCT'>"
      ]
     },
     "execution_count": 7,
     "metadata": {},
     "output_type": "execute_result"
    },
    {
     "data": {
      "image/png": "[encoded data removed]",
      "text/plain": [
       "<Figure size 432x288 with 1 Axes>"
      ]
     },
     "metadata": {
      "needs_background": "light"
     },
     "output_type": "display_data"
    }
   ],
   "source": [
    "df_pivot_diff.sort_values(\"stamp_2\", ascending = False)[\"stamp_2\"].head(10).plot.barh()"
   ]
  },
  {
   "cell_type": "code",
   "execution_count": null,
   "id": "extra-executive",
   "metadata": {
    "papermill": {
     "duration": 0.022065,
     "end_time": "2021-10-03T10:00:11.227842",
     "exception": false,
     "start_time": "2021-10-03T10:00:11.205777",
     "status": "completed"
    },
    "tags": []
   },
   "outputs": [],
   "source": []
  }
 ],
 "metadata": {
  "kernelspec": {
   "display_name": "Python 3",
   "language": "python",
   "name": "python3"
  },
  "language_info": {
   "codemirror_mode": {
    "name": "ipython",
    "version": 3
   },
   "file_extension": ".py",
   "mimetype": "text/x-python",
   "name": "python",
   "nbconvert_exporter": "python",
   "pygments_lexer": "ipython3",
   "version": "3.9.5"
  },
  "papermill": {
   "default_parameters": {},
   "duration": 7.821327,
   "end_time": "2021-10-03T10:00:12.740274",
   "environment_variables": {},
   "exception": null,
   "input_path": "eBay_Overview.ipynb",
   "output_path": "eBay_Overview.ipynb",
   "parameters": {},
   "start_time": "2021-10-03T10:00:04.918947",
   "version": "2.3.3"
  }
 },
 "nbformat": 4,
 "nbformat_minor": 5
}