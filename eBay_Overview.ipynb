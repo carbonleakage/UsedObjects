{
 "cells": [
  {
   "cell_type": "code",
   "execution_count": 1,
   "id": "reverse-picking",
   "metadata": {
    "execution": {
     "iopub.execute_input": "2021-10-15T06:00:06.931215Z",
     "iopub.status.busy": "2021-10-15T06:00:06.929224Z",
     "iopub.status.idle": "2021-10-15T06:00:07.740332Z",
     "shell.execute_reply": "2021-10-15T06:00:07.738464Z"
    },
    "papermill": {
     "duration": 0.862181,
     "end_time": "2021-10-15T06:00:07.740904",
     "exception": false,
     "start_time": "2021-10-15T06:00:06.878723",
     "status": "completed"
    },
    "tags": []
   },
   "outputs": [],
   "source": [
    "import pandas as pd\n",
    "import sqlite3"
   ]
  },
  {
   "cell_type": "code",
   "execution_count": 2,
   "id": "innovative-syndrome",
   "metadata": {
    "execution": {
     "iopub.execute_input": "2021-10-15T06:00:07.794401Z",
     "iopub.status.busy": "2021-10-15T06:00:07.791966Z",
     "iopub.status.idle": "2021-10-15T06:00:08.334345Z",
     "shell.execute_reply": "2021-10-15T06:00:08.335570Z"
    },
    "papermill": {
     "duration": 0.572528,
     "end_time": "2021-10-15T06:00:08.335967",
     "exception": false,
     "start_time": "2021-10-15T06:00:07.763439",
     "status": "completed"
    },
    "tags": []
   },
   "outputs": [],
   "source": [
    "timestamps = pd.read_sql(\"select distinct record_time from EBAY_TOP_BERLIN order by record_time desc limit 2\", sqlite3.connect(\"UsedObjects.db\"))"
   ]
  },
  {
   "cell_type": "code",
   "execution_count": 3,
   "id": "periodic-identification",
   "metadata": {
    "execution": {
     "iopub.execute_input": "2021-10-15T06:00:08.418886Z",
     "iopub.status.busy": "2021-10-15T06:00:08.416737Z",
     "iopub.status.idle": "2021-10-15T06:00:08.437169Z",
     "shell.execute_reply": "2021-10-15T06:00:08.438490Z"
    },
    "papermill": {
     "duration": 0.07463,
     "end_time": "2021-10-15T06:00:08.438903",
     "exception": false,
     "start_time": "2021-10-15T06:00:08.364273",
     "status": "completed"
    },
    "tags": []
   },
   "outputs": [
    {
     "data": {
      "text/html": [
       "<div>\n",
       "<style scoped>\n",
       "    .dataframe tbody tr th:only-of-type {\n",
       "        vertical-align: middle;\n",
       "    }\n",
       "\n",
       "    .dataframe tbody tr th {\n",
       "        vertical-align: top;\n",
       "    }\n",
       "\n",
       "    .dataframe thead th {\n",
       "        text-align: right;\n",
       "    }\n",
       "</style>\n",
       "<table border=\"1\" class=\"dataframe\">\n",
       "  <thead>\n",
       "    <tr style=\"text-align: right;\">\n",
       "      <th></th>\n",
       "      <th>RECORD_TIME</th>\n",
       "    </tr>\n",
       "  </thead>\n",
       "  <tbody>\n",
       "    <tr>\n",
       "      <th>0</th>\n",
       "      <td>2021-10-15 08:00</td>\n",
       "    </tr>\n",
       "    <tr>\n",
       "      <th>1</th>\n",
       "      <td>2021-10-15 07:30</td>\n",
       "    </tr>\n",
       "  </tbody>\n",
       "</table>\n",
       "</div>"
      ],
      "text/plain": [
       "        RECORD_TIME\n",
       "0  2021-10-15 08:00\n",
       "1  2021-10-15 07:30"
      ]
     },
     "execution_count": 3,
     "metadata": {},
     "output_type": "execute_result"
    }
   ],
   "source": [
    "timestamps"
   ]
  },
  {
   "cell_type": "code",
   "execution_count": 4,
   "id": "alternate-victory",
   "metadata": {
    "execution": {
     "iopub.execute_input": "2021-10-15T06:00:08.491039Z",
     "iopub.status.busy": "2021-10-15T06:00:08.488887Z",
     "iopub.status.idle": "2021-10-15T06:00:09.291479Z",
     "shell.execute_reply": "2021-10-15T06:00:09.292902Z"
    },
    "papermill": {
     "duration": 0.833208,
     "end_time": "2021-10-15T06:00:09.293371",
     "exception": false,
     "start_time": "2021-10-15T06:00:08.460163",
     "status": "completed"
    },
    "tags": []
   },
   "outputs": [],
   "source": [
    "df = pd.read_sql(\"select * from EBAY_TOP_BERLIN where record_time in (select distinct record_time from EBAY_TOP_BERLIN order by record_time desc limit 2)\", sqlite3.connect(\"UsedObjects.db\"))"
   ]
  },
  {
   "cell_type": "code",
   "execution_count": 5,
   "id": "popular-active",
   "metadata": {
    "execution": {
     "iopub.execute_input": "2021-10-15T06:00:09.362594Z",
     "iopub.status.busy": "2021-10-15T06:00:09.356235Z",
     "iopub.status.idle": "2021-10-15T06:00:09.383616Z",
     "shell.execute_reply": "2021-10-15T06:00:09.385099Z"
    },
    "papermill": {
     "duration": 0.068195,
     "end_time": "2021-10-15T06:00:09.385540",
     "exception": false,
     "start_time": "2021-10-15T06:00:09.317345",
     "status": "completed"
    },
    "tags": []
   },
   "outputs": [],
   "source": [
    "df_pivot = df.pivot_table(index=\"PRODUCT\", columns = \"RECORD_TIME\", values = \"LISTING_COUNT\")"
   ]
  },
  {
   "cell_type": "code",
   "execution_count": 6,
   "id": "union-huntington",
   "metadata": {
    "execution": {
     "iopub.execute_input": "2021-10-15T06:00:09.442066Z",
     "iopub.status.busy": "2021-10-15T06:00:09.439927Z",
     "iopub.status.idle": "2021-10-15T06:00:09.445325Z",
     "shell.execute_reply": "2021-10-15T06:00:09.446544Z"
    },
    "papermill": {
     "duration": 0.041084,
     "end_time": "2021-10-15T06:00:09.446976",
     "exception": false,
     "start_time": "2021-10-15T06:00:09.405892",
     "status": "completed"
    },
    "tags": []
   },
   "outputs": [],
   "source": [
    "df_pivot.columns = [\"stamp_1\", \"stamp_2\"]\n",
    "df_pivot_diff = df_pivot.diff(axis=1)"
   ]
  },
  {
   "cell_type": "code",
   "execution_count": 7,
   "id": "fifth-motion",
   "metadata": {
    "execution": {
     "iopub.execute_input": "2021-10-15T06:00:09.501910Z",
     "iopub.status.busy": "2021-10-15T06:00:09.499281Z",
     "iopub.status.idle": "2021-10-15T06:00:10.967875Z",
     "shell.execute_reply": "2021-10-15T06:00:10.969424Z"
    },
    "papermill": {
     "duration": 1.502222,
     "end_time": "2021-10-15T06:00:10.969906",
     "exception": false,
     "start_time": "2021-10-15T06:00:09.467684",
     "status": "completed"
    },
    "tags": []
   },
   "outputs": [
    {
     "data": {
      "text/plain": [
       "<AxesSubplot:ylabel='PRODUCT'>"
      ]
     },
     "execution_count": 7,
     "metadata": {},
     "output_type": "execute_result"
    },
    {
     "data": {
      "image/png": "[encoded data removed]",
      "text/plain": [
       "<Figure size 432x288 with 1 Axes>"
      ]
     },
     "metadata": {
      "needs_background": "light"
     },
     "output_type": "display_data"
    }
   ],
   "source": [
    "df_pivot_diff.sort_values(\"stamp_2\", ascending = False)[\"stamp_2\"].head(10).plot.barh()"
   ]
  },
  {
   "cell_type": "code",
   "execution_count": null,
   "id": "extra-executive",
   "metadata": {
    "papermill": {
     "duration": 0.022024,
     "end_time": "2021-10-15T06:00:11.015873",
     "exception": false,
     "start_time": "2021-10-15T06:00:10.993849",
     "status": "completed"
    },
    "tags": []
   },
   "outputs": [],
   "source": []
  }
 ],
 "metadata": {
  "kernelspec": {
   "display_name": "Python 3",
   "language": "python",
   "name": "python3"
  },
  "language_info": {
   "codemirror_mode": {
    "name": "ipython",
    "version": 3
   },
   "file_extension": ".py",
   "mimetype": "text/x-python",
   "name": "python",
   "nbconvert_exporter": "python",
   "pygments_lexer": "ipython3",
   "version": "3.9.5"
  },
  "papermill": {
   "default_parameters": {},
   "duration": 7.823621,
   "end_time": "2021-10-15T06:00:12.291821",
   "environment_variables": {},
   "exception": null,
   "input_path": "eBay_Overview.ipynb",
   "output_path": "eBay_Overview.ipynb",
   "parameters": {},
   "start_time": "2021-10-15T06:00:04.468200",
   "version": "2.3.3"
  }
 },
 "nbformat": 4,
 "nbformat_minor": 5
}