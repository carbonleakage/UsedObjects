{
 "cells": [
  {
   "cell_type": "code",
   "execution_count": 1,
   "id": "reverse-picking",
   "metadata": {
    "execution": {
     "iopub.execute_input": "2021-09-07T05:30:06.925196Z",
     "iopub.status.busy": "2021-09-07T05:30:06.923237Z",
     "iopub.status.idle": "2021-09-07T05:30:07.736928Z",
     "shell.execute_reply": "2021-09-07T05:30:07.738258Z"
    },
    "papermill": {
     "duration": 0.86723,
     "end_time": "2021-09-07T05:30:07.738933",
     "exception": false,
     "start_time": "2021-09-07T05:30:06.871703",
     "status": "completed"
    },
    "tags": []
   },
   "outputs": [],
   "source": [
    "import pandas as pd\n",
    "import sqlite3"
   ]
  },
  {
   "cell_type": "code",
   "execution_count": 2,
   "id": "innovative-syndrome",
   "metadata": {
    "execution": {
     "iopub.execute_input": "2021-09-07T05:30:07.789597Z",
     "iopub.status.busy": "2021-09-07T05:30:07.787553Z",
     "iopub.status.idle": "2021-09-07T05:30:08.012029Z",
     "shell.execute_reply": "2021-09-07T05:30:08.013228Z"
    },
    "papermill": {
     "duration": 0.254498,
     "end_time": "2021-09-07T05:30:08.013623",
     "exception": false,
     "start_time": "2021-09-07T05:30:07.759125",
     "status": "completed"
    },
    "tags": []
   },
   "outputs": [],
   "source": [
    "timestamps = pd.read_sql(\"select distinct record_time from EBAY_TOP_BERLIN order by record_time desc limit 2\", sqlite3.connect(\"UsedObjects.db\"))"
   ]
  },
  {
   "cell_type": "code",
   "execution_count": 3,
   "id": "periodic-identification",
   "metadata": {
    "execution": {
     "iopub.execute_input": "2021-09-07T05:30:08.078367Z",
     "iopub.status.busy": "2021-09-07T05:30:08.076345Z",
     "iopub.status.idle": "2021-09-07T05:30:08.097536Z",
     "shell.execute_reply": "2021-09-07T05:30:08.095850Z"
    },
    "papermill": {
     "duration": 0.063515,
     "end_time": "2021-09-07T05:30:08.097872",
     "exception": false,
     "start_time": "2021-09-07T05:30:08.034357",
     "status": "completed"
    },
    "tags": []
   },
   "outputs": [
    {
     "data": {
      "text/html": [
       "<div>\n",
       "<style scoped>\n",
       "    .dataframe tbody tr th:only-of-type {\n",
       "        vertical-align: middle;\n",
       "    }\n",
       "\n",
       "    .dataframe tbody tr th {\n",
       "        vertical-align: top;\n",
       "    }\n",
       "\n",
       "    .dataframe thead th {\n",
       "        text-align: right;\n",
       "    }\n",
       "</style>\n",
       "<table border=\"1\" class=\"dataframe\">\n",
       "  <thead>\n",
       "    <tr style=\"text-align: right;\">\n",
       "      <th></th>\n",
       "      <th>RECORD_TIME</th>\n",
       "    </tr>\n",
       "  </thead>\n",
       "  <tbody>\n",
       "    <tr>\n",
       "      <th>0</th>\n",
       "      <td>2021-09-07 07:30</td>\n",
       "    </tr>\n",
       "    <tr>\n",
       "      <th>1</th>\n",
       "      <td>2021-09-07 07:00</td>\n",
       "    </tr>\n",
       "  </tbody>\n",
       "</table>\n",
       "</div>"
      ],
      "text/plain": [
       "        RECORD_TIME\n",
       "0  2021-09-07 07:30\n",
       "1  2021-09-07 07:00"
      ]
     },
     "execution_count": 3,
     "metadata": {},
     "output_type": "execute_result"
    }
   ],
   "source": [
    "timestamps"
   ]
  },
  {
   "cell_type": "code",
   "execution_count": 4,
   "id": "alternate-victory",
   "metadata": {
    "execution": {
     "iopub.execute_input": "2021-09-07T05:30:08.150562Z",
     "iopub.status.busy": "2021-09-07T05:30:08.148292Z",
     "iopub.status.idle": "2021-09-07T05:30:08.484797Z",
     "shell.execute_reply": "2021-09-07T05:30:08.486087Z"
    },
    "papermill": {
     "duration": 0.366982,
     "end_time": "2021-09-07T05:30:08.486505",
     "exception": false,
     "start_time": "2021-09-07T05:30:08.119523",
     "status": "completed"
    },
    "tags": []
   },
   "outputs": [],
   "source": [
    "df = pd.read_sql(\"select * from EBAY_TOP_BERLIN where record_time in (select distinct record_time from EBAY_TOP_BERLIN order by record_time desc limit 2)\", sqlite3.connect(\"UsedObjects.db\"))"
   ]
  },
  {
   "cell_type": "code",
   "execution_count": 5,
   "id": "popular-active",
   "metadata": {
    "execution": {
     "iopub.execute_input": "2021-09-07T05:30:08.568068Z",
     "iopub.status.busy": "2021-09-07T05:30:08.555239Z",
     "iopub.status.idle": "2021-09-07T05:30:08.583744Z",
     "shell.execute_reply": "2021-09-07T05:30:08.584975Z"
    },
    "papermill": {
     "duration": 0.073017,
     "end_time": "2021-09-07T05:30:08.585369",
     "exception": false,
     "start_time": "2021-09-07T05:30:08.512352",
     "status": "completed"
    },
    "tags": []
   },
   "outputs": [],
   "source": [
    "df_pivot = df.pivot_table(index=\"PRODUCT\", columns = \"RECORD_TIME\", values = \"LISTING_COUNT\")"
   ]
  },
  {
   "cell_type": "code",
   "execution_count": 6,
   "id": "union-huntington",
   "metadata": {
    "execution": {
     "iopub.execute_input": "2021-09-07T05:30:08.644681Z",
     "iopub.status.busy": "2021-09-07T05:30:08.642170Z",
     "iopub.status.idle": "2021-09-07T05:30:08.648004Z",
     "shell.execute_reply": "2021-09-07T05:30:08.649396Z"
    },
    "papermill": {
     "duration": 0.042368,
     "end_time": "2021-09-07T05:30:08.649834",
     "exception": false,
     "start_time": "2021-09-07T05:30:08.607466",
     "status": "completed"
    },
    "tags": []
   },
   "outputs": [],
   "source": [
    "df_pivot.columns = [\"stamp_1\", \"stamp_2\"]\n",
    "df_pivot_diff = df_pivot.diff(axis=1)"
   ]
  },
  {
   "cell_type": "code",
   "execution_count": 7,
   "id": "fifth-motion",
   "metadata": {
    "execution": {
     "iopub.execute_input": "2021-09-07T05:30:08.704422Z",
     "iopub.status.busy": "2021-09-07T05:30:08.701922Z",
     "iopub.status.idle": "2021-09-07T05:30:10.215712Z",
     "shell.execute_reply": "2021-09-07T05:30:10.217009Z"
    },
    "papermill": {
     "duration": 1.54657,
     "end_time": "2021-09-07T05:30:10.217423",
     "exception": false,
     "start_time": "2021-09-07T05:30:08.670853",
     "status": "completed"
    },
    "tags": []
   },
   "outputs": [
    {
     "data": {
      "text/plain": [
       "<AxesSubplot:ylabel='PRODUCT'>"
      ]
     },
     "execution_count": 7,
     "metadata": {},
     "output_type": "execute_result"
    },
    {
     "data": {
      "image/png": "[encoded data removed]",
      "text/plain": [
       "<Figure size 432x288 with 1 Axes>"
      ]
     },
     "metadata": {
      "needs_background": "light"
     },
     "output_type": "display_data"
    }
   ],
   "source": [
    "df_pivot_diff.sort_values(\"stamp_2\", ascending = False)[\"stamp_2\"].head(10).plot.barh()"
   ]
  },
  {
   "cell_type": "code",
   "execution_count": null,
   "id": "extra-executive",
   "metadata": {
    "papermill": {
     "duration": 0.022208,
     "end_time": "2021-09-07T05:30:10.264001",
     "exception": false,
     "start_time": "2021-09-07T05:30:10.241793",
     "status": "completed"
    },
    "tags": []
   },
   "outputs": [],
   "source": []
  }
 ],
 "metadata": {
  "kernelspec": {
   "display_name": "Python 3",
   "language": "python",
   "name": "python3"
  },
  "language_info": {
   "codemirror_mode": {
    "name": "ipython",
    "version": 3
   },
   "file_extension": ".py",
   "mimetype": "text/x-python",
   "name": "python",
   "nbconvert_exporter": "python",
   "pygments_lexer": "ipython3",
   "version": "3.9.5"
  },
  "papermill": {
   "default_parameters": {},
   "duration": 6.45498,
   "end_time": "2021-09-07T05:30:10.905266",
   "environment_variables": {},
   "exception": null,
   "input_path": "eBay_Overview.ipynb",
   "output_path": "eBay_Overview.ipynb",
   "parameters": {},
   "start_time": "2021-09-07T05:30:04.450286",
   "version": "2.3.3"
  }
 },
 "nbformat": 4,
 "nbformat_minor": 5
}