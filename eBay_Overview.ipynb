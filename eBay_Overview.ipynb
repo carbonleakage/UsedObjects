{
 "cells": [
  {
   "cell_type": "code",
   "execution_count": 1,
   "id": "reverse-picking",
   "metadata": {
    "execution": {
     "iopub.execute_input": "2021-10-31T17:00:09.074556Z",
     "iopub.status.busy": "2021-10-31T17:00:09.072413Z",
     "iopub.status.idle": "2021-10-31T17:00:11.106579Z",
     "shell.execute_reply": "2021-10-31T17:00:11.104478Z"
    },
    "papermill": {
     "duration": 2.085604,
     "end_time": "2021-10-31T17:00:11.107091",
     "exception": false,
     "start_time": "2021-10-31T17:00:09.021487",
     "status": "completed"
    },
    "tags": []
   },
   "outputs": [],
   "source": [
    "import pandas as pd\n",
    "import sqlite3"
   ]
  },
  {
   "cell_type": "code",
   "execution_count": 2,
   "id": "innovative-syndrome",
   "metadata": {
    "execution": {
     "iopub.execute_input": "2021-10-31T17:00:11.161549Z",
     "iopub.status.busy": "2021-10-31T17:00:11.159125Z",
     "iopub.status.idle": "2021-10-31T17:00:12.098389Z",
     "shell.execute_reply": "2021-10-31T17:00:12.100324Z"
    },
    "papermill": {
     "duration": 0.971042,
     "end_time": "2021-10-31T17:00:12.101147",
     "exception": false,
     "start_time": "2021-10-31T17:00:11.130105",
     "status": "completed"
    },
    "tags": []
   },
   "outputs": [],
   "source": [
    "timestamps = pd.read_sql(\"select distinct record_time from EBAY_TOP_BERLIN order by record_time desc limit 2\", sqlite3.connect(\"UsedObjects.db\"))"
   ]
  },
  {
   "cell_type": "code",
   "execution_count": 3,
   "id": "periodic-identification",
   "metadata": {
    "execution": {
     "iopub.execute_input": "2021-10-31T17:00:12.168242Z",
     "iopub.status.busy": "2021-10-31T17:00:12.166193Z",
     "iopub.status.idle": "2021-10-31T17:00:12.189198Z",
     "shell.execute_reply": "2021-10-31T17:00:12.190651Z"
    },
    "papermill": {
     "duration": 0.068718,
     "end_time": "2021-10-31T17:00:12.191075",
     "exception": false,
     "start_time": "2021-10-31T17:00:12.122357",
     "status": "completed"
    },
    "tags": []
   },
   "outputs": [
    {
     "data": {
      "text/html": [
       "<div>\n",
       "<style scoped>\n",
       "    .dataframe tbody tr th:only-of-type {\n",
       "        vertical-align: middle;\n",
       "    }\n",
       "\n",
       "    .dataframe tbody tr th {\n",
       "        vertical-align: top;\n",
       "    }\n",
       "\n",
       "    .dataframe thead th {\n",
       "        text-align: right;\n",
       "    }\n",
       "</style>\n",
       "<table border=\"1\" class=\"dataframe\">\n",
       "  <thead>\n",
       "    <tr style=\"text-align: right;\">\n",
       "      <th></th>\n",
       "      <th>RECORD_TIME</th>\n",
       "    </tr>\n",
       "  </thead>\n",
       "  <tbody>\n",
       "    <tr>\n",
       "      <th>0</th>\n",
       "      <td>2021-10-31 18:00</td>\n",
       "    </tr>\n",
       "    <tr>\n",
       "      <th>1</th>\n",
       "      <td>2021-10-31 17:30</td>\n",
       "    </tr>\n",
       "  </tbody>\n",
       "</table>\n",
       "</div>"
      ],
      "text/plain": [
       "        RECORD_TIME\n",
       "0  2021-10-31 18:00\n",
       "1  2021-10-31 17:30"
      ]
     },
     "execution_count": 3,
     "metadata": {},
     "output_type": "execute_result"
    }
   ],
   "source": [
    "timestamps"
   ]
  },
  {
   "cell_type": "code",
   "execution_count": 4,
   "id": "alternate-victory",
   "metadata": {
    "execution": {
     "iopub.execute_input": "2021-10-31T17:00:12.242716Z",
     "iopub.status.busy": "2021-10-31T17:00:12.240487Z",
     "iopub.status.idle": "2021-10-31T17:00:13.226507Z",
     "shell.execute_reply": "2021-10-31T17:00:13.227725Z"
    },
    "papermill": {
     "duration": 1.015939,
     "end_time": "2021-10-31T17:00:13.228119",
     "exception": false,
     "start_time": "2021-10-31T17:00:12.212180",
     "status": "completed"
    },
    "tags": []
   },
   "outputs": [],
   "source": [
    "df = pd.read_sql(\"select * from EBAY_TOP_BERLIN where record_time in (select distinct record_time from EBAY_TOP_BERLIN order by record_time desc limit 2)\", sqlite3.connect(\"UsedObjects.db\"))"
   ]
  },
  {
   "cell_type": "code",
   "execution_count": 5,
   "id": "popular-active",
   "metadata": {
    "execution": {
     "iopub.execute_input": "2021-10-31T17:00:13.314290Z",
     "iopub.status.busy": "2021-10-31T17:00:13.298312Z",
     "iopub.status.idle": "2021-10-31T17:00:13.363303Z",
     "shell.execute_reply": "2021-10-31T17:00:13.364669Z"
    },
    "papermill": {
     "duration": 0.116698,
     "end_time": "2021-10-31T17:00:13.365167",
     "exception": false,
     "start_time": "2021-10-31T17:00:13.248469",
     "status": "completed"
    },
    "tags": []
   },
   "outputs": [],
   "source": [
    "df_pivot = df.pivot_table(index=\"PRODUCT\", columns = \"RECORD_TIME\", values = \"LISTING_COUNT\")"
   ]
  },
  {
   "cell_type": "code",
   "execution_count": 6,
   "id": "union-huntington",
   "metadata": {
    "execution": {
     "iopub.execute_input": "2021-10-31T17:00:13.425362Z",
     "iopub.status.busy": "2021-10-31T17:00:13.423034Z",
     "iopub.status.idle": "2021-10-31T17:00:13.428967Z",
     "shell.execute_reply": "2021-10-31T17:00:13.430524Z"
    },
    "papermill": {
     "duration": 0.042493,
     "end_time": "2021-10-31T17:00:13.430993",
     "exception": false,
     "start_time": "2021-10-31T17:00:13.388500",
     "status": "completed"
    },
    "tags": []
   },
   "outputs": [],
   "source": [
    "df_pivot.columns = [\"stamp_1\", \"stamp_2\"]\n",
    "df_pivot_diff = df_pivot.diff(axis=1)"
   ]
  },
  {
   "cell_type": "code",
   "execution_count": 7,
   "id": "fifth-motion",
   "metadata": {
    "execution": {
     "iopub.execute_input": "2021-10-31T17:00:13.485253Z",
     "iopub.status.busy": "2021-10-31T17:00:13.483401Z",
     "iopub.status.idle": "2021-10-31T17:00:15.497932Z",
     "shell.execute_reply": "2021-10-31T17:00:15.499282Z"
    },
    "papermill": {
     "duration": 2.047391,
     "end_time": "2021-10-31T17:00:15.499702",
     "exception": false,
     "start_time": "2021-10-31T17:00:13.452311",
     "status": "completed"
    },
    "tags": []
   },
   "outputs": [
    {
     "data": {
      "text/plain": [
       "<AxesSubplot:ylabel='PRODUCT'>"
      ]
     },
     "execution_count": 7,
     "metadata": {},
     "output_type": "execute_result"
    },
    {
     "data": {
      "image/png": "[encoded data removed]",
      "text/plain": [
       "<Figure size 432x288 with 1 Axes>"
      ]
     },
     "metadata": {
      "needs_background": "light"
     },
     "output_type": "display_data"
    }
   ],
   "source": [
    "df_pivot_diff.sort_values(\"stamp_2\", ascending = False)[\"stamp_2\"].head(10).plot.barh()"
   ]
  },
  {
   "cell_type": "code",
   "execution_count": null,
   "id": "extra-executive",
   "metadata": {
    "papermill": {
     "duration": 0.022245,
     "end_time": "2021-10-31T17:00:15.547414",
     "exception": false,
     "start_time": "2021-10-31T17:00:15.525169",
     "status": "completed"
    },
    "tags": []
   },
   "outputs": [],
   "source": []
  }
 ],
 "metadata": {
  "kernelspec": {
   "display_name": "Python 3",
   "language": "python",
   "name": "python3"
  },
  "language_info": {
   "codemirror_mode": {
    "name": "ipython",
    "version": 3
   },
   "file_extension": ".py",
   "mimetype": "text/x-python",
   "name": "python",
   "nbconvert_exporter": "python",
   "pygments_lexer": "ipython3",
   "version": "3.9.5"
  },
  "papermill": {
   "default_parameters": {},
   "duration": 10.117975,
   "end_time": "2021-10-31T17:00:16.190902",
   "environment_variables": {},
   "exception": null,
   "input_path": "eBay_Overview.ipynb",
   "output_path": "eBay_Overview.ipynb",
   "parameters": {},
   "start_time": "2021-10-31T17:00:06.072927",
   "version": "2.3.3"
  }
 },
 "nbformat": 4,
 "nbformat_minor": 5
}