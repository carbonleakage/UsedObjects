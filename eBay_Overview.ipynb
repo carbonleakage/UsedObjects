{
 "cells": [
  {
   "cell_type": "code",
   "execution_count": 1,
   "id": "reverse-picking",
   "metadata": {
    "execution": {
     "iopub.execute_input": "2021-08-15T14:00:06.702563Z",
     "iopub.status.busy": "2021-08-15T14:00:06.700553Z",
     "iopub.status.idle": "2021-08-15T14:00:07.510032Z",
     "shell.execute_reply": "2021-08-15T14:00:07.511320Z"
    },
    "papermill": {
     "duration": 0.861817,
     "end_time": "2021-08-15T14:00:07.511937",
     "exception": false,
     "start_time": "2021-08-15T14:00:06.650120",
     "status": "completed"
    },
    "tags": []
   },
   "outputs": [],
   "source": [
    "import pandas as pd\n",
    "import sqlite3"
   ]
  },
  {
   "cell_type": "code",
   "execution_count": 2,
   "id": "innovative-syndrome",
   "metadata": {
    "execution": {
     "iopub.execute_input": "2021-08-15T14:00:07.566358Z",
     "iopub.status.busy": "2021-08-15T14:00:07.563931Z",
     "iopub.status.idle": "2021-08-15T14:00:07.622849Z",
     "shell.execute_reply": "2021-08-15T14:00:07.624255Z"
    },
    "papermill": {
     "duration": 0.089397,
     "end_time": "2021-08-15T14:00:07.624688",
     "exception": false,
     "start_time": "2021-08-15T14:00:07.535291",
     "status": "completed"
    },
    "tags": []
   },
   "outputs": [],
   "source": [
    "timestamps = pd.read_sql(\"select distinct record_time from EBAY_TOP_BERLIN order by record_time desc limit 2\", sqlite3.connect(\"UsedObjects.db\"))"
   ]
  },
  {
   "cell_type": "code",
   "execution_count": 3,
   "id": "periodic-identification",
   "metadata": {
    "execution": {
     "iopub.execute_input": "2021-08-15T14:00:07.692200Z",
     "iopub.status.busy": "2021-08-15T14:00:07.690184Z",
     "iopub.status.idle": "2021-08-15T14:00:07.710255Z",
     "shell.execute_reply": "2021-08-15T14:00:07.711553Z"
    },
    "papermill": {
     "duration": 0.067136,
     "end_time": "2021-08-15T14:00:07.711958",
     "exception": false,
     "start_time": "2021-08-15T14:00:07.644822",
     "status": "completed"
    },
    "tags": []
   },
   "outputs": [
    {
     "data": {
      "text/html": [
       "<div>\n",
       "<style scoped>\n",
       "    .dataframe tbody tr th:only-of-type {\n",
       "        vertical-align: middle;\n",
       "    }\n",
       "\n",
       "    .dataframe tbody tr th {\n",
       "        vertical-align: top;\n",
       "    }\n",
       "\n",
       "    .dataframe thead th {\n",
       "        text-align: right;\n",
       "    }\n",
       "</style>\n",
       "<table border=\"1\" class=\"dataframe\">\n",
       "  <thead>\n",
       "    <tr style=\"text-align: right;\">\n",
       "      <th></th>\n",
       "      <th>RECORD_TIME</th>\n",
       "    </tr>\n",
       "  </thead>\n",
       "  <tbody>\n",
       "    <tr>\n",
       "      <th>0</th>\n",
       "      <td>2021-08-15 16:00</td>\n",
       "    </tr>\n",
       "    <tr>\n",
       "      <th>1</th>\n",
       "      <td>2021-08-15 15:30</td>\n",
       "    </tr>\n",
       "  </tbody>\n",
       "</table>\n",
       "</div>"
      ],
      "text/plain": [
       "        RECORD_TIME\n",
       "0  2021-08-15 16:00\n",
       "1  2021-08-15 15:30"
      ]
     },
     "execution_count": 3,
     "metadata": {},
     "output_type": "execute_result"
    }
   ],
   "source": [
    "timestamps"
   ]
  },
  {
   "cell_type": "code",
   "execution_count": 4,
   "id": "alternate-victory",
   "metadata": {
    "execution": {
     "iopub.execute_input": "2021-08-15T14:00:07.764678Z",
     "iopub.status.busy": "2021-08-15T14:00:07.762311Z",
     "iopub.status.idle": "2021-08-15T14:00:07.848587Z",
     "shell.execute_reply": "2021-08-15T14:00:07.849938Z"
    },
    "papermill": {
     "duration": 0.117039,
     "end_time": "2021-08-15T14:00:07.850406",
     "exception": false,
     "start_time": "2021-08-15T14:00:07.733367",
     "status": "completed"
    },
    "tags": []
   },
   "outputs": [],
   "source": [
    "df = pd.read_sql(\"select * from EBAY_TOP_BERLIN where record_time in (select distinct record_time from EBAY_TOP_BERLIN order by record_time desc limit 2)\", sqlite3.connect(\"UsedObjects.db\"))"
   ]
  },
  {
   "cell_type": "code",
   "execution_count": 5,
   "id": "popular-active",
   "metadata": {
    "execution": {
     "iopub.execute_input": "2021-08-15T14:00:07.920678Z",
     "iopub.status.busy": "2021-08-15T14:00:07.908822Z",
     "iopub.status.idle": "2021-08-15T14:00:07.936300Z",
     "shell.execute_reply": "2021-08-15T14:00:07.937504Z"
    },
    "papermill": {
     "duration": 0.066621,
     "end_time": "2021-08-15T14:00:07.938078",
     "exception": false,
     "start_time": "2021-08-15T14:00:07.871457",
     "status": "completed"
    },
    "tags": []
   },
   "outputs": [],
   "source": [
    "df_pivot = df.pivot_table(index=\"PRODUCT\", columns = \"RECORD_TIME\", values = \"LISTING_COUNT\")"
   ]
  },
  {
   "cell_type": "code",
   "execution_count": 6,
   "id": "union-huntington",
   "metadata": {
    "execution": {
     "iopub.execute_input": "2021-08-15T14:00:07.997954Z",
     "iopub.status.busy": "2021-08-15T14:00:07.995587Z",
     "iopub.status.idle": "2021-08-15T14:00:08.002103Z",
     "shell.execute_reply": "2021-08-15T14:00:08.003679Z"
    },
    "papermill": {
     "duration": 0.043588,
     "end_time": "2021-08-15T14:00:08.004172",
     "exception": false,
     "start_time": "2021-08-15T14:00:07.960584",
     "status": "completed"
    },
    "tags": []
   },
   "outputs": [],
   "source": [
    "df_pivot.columns = [\"stamp_1\", \"stamp_2\"]\n",
    "df_pivot_diff = df_pivot.diff(axis=1)"
   ]
  },
  {
   "cell_type": "code",
   "execution_count": 7,
   "id": "fifth-motion",
   "metadata": {
    "execution": {
     "iopub.execute_input": "2021-08-15T14:00:08.060446Z",
     "iopub.status.busy": "2021-08-15T14:00:08.058037Z",
     "iopub.status.idle": "2021-08-15T14:00:09.568890Z",
     "shell.execute_reply": "2021-08-15T14:00:09.570325Z"
    },
    "papermill": {
     "duration": 1.544028,
     "end_time": "2021-08-15T14:00:09.570771",
     "exception": false,
     "start_time": "2021-08-15T14:00:08.026743",
     "status": "completed"
    },
    "tags": []
   },
   "outputs": [
    {
     "data": {
      "text/plain": [
       "<AxesSubplot:ylabel='PRODUCT'>"
      ]
     },
     "execution_count": 7,
     "metadata": {},
     "output_type": "execute_result"
    },
    {
     "data": {
      "image/png": "[encoded data removed]",
      "text/plain": [
       "<Figure size 432x288 with 1 Axes>"
      ]
     },
     "metadata": {
      "needs_background": "light"
     },
     "output_type": "display_data"
    }
   ],
   "source": [
    "df_pivot_diff.sort_values(\"stamp_2\", ascending = False)[\"stamp_2\"].head(10).plot.barh()"
   ]
  },
  {
   "cell_type": "code",
   "execution_count": null,
   "id": "extra-executive",
   "metadata": {
    "papermill": {
     "duration": 0.02272,
     "end_time": "2021-08-15T14:00:09.618650",
     "exception": false,
     "start_time": "2021-08-15T14:00:09.595930",
     "status": "completed"
    },
    "tags": []
   },
   "outputs": [],
   "source": []
  }
 ],
 "metadata": {
  "kernelspec": {
   "display_name": "Python 3",
   "language": "python",
   "name": "python3"
  },
  "language_info": {
   "codemirror_mode": {
    "name": "ipython",
    "version": 3
   },
   "file_extension": ".py",
   "mimetype": "text/x-python",
   "name": "python",
   "nbconvert_exporter": "python",
   "pygments_lexer": "ipython3",
   "version": "3.9.5"
  },
  "papermill": {
   "default_parameters": {},
   "duration": 6.823316,
   "end_time": "2021-08-15T14:00:11.065970",
   "environment_variables": {},
   "exception": null,
   "input_path": "eBay_Overview.ipynb",
   "output_path": "eBay_Overview.ipynb",
   "parameters": {},
   "start_time": "2021-08-15T14:00:04.242654",
   "version": "2.3.3"
  }
 },
 "nbformat": 4,
 "nbformat_minor": 5
}