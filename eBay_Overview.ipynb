{
 "cells": [
  {
   "cell_type": "code",
   "execution_count": 1,
   "id": "reverse-picking",
   "metadata": {
    "execution": {
     "iopub.execute_input": "2021-11-15T15:30:07.461300Z",
     "iopub.status.busy": "2021-11-15T15:30:07.458712Z",
     "iopub.status.idle": "2021-11-15T15:30:08.418904Z",
     "shell.execute_reply": "2021-11-15T15:30:08.420431Z"
    },
    "papermill": {
     "duration": 1.016306,
     "end_time": "2021-11-15T15:30:08.421258",
     "exception": false,
     "start_time": "2021-11-15T15:30:07.404952",
     "status": "completed"
    },
    "tags": []
   },
   "outputs": [],
   "source": [
    "import pandas as pd\n",
    "import sqlite3"
   ]
  },
  {
   "cell_type": "code",
   "execution_count": 2,
   "id": "innovative-syndrome",
   "metadata": {
    "execution": {
     "iopub.execute_input": "2021-11-15T15:30:08.484882Z",
     "iopub.status.busy": "2021-11-15T15:30:08.482667Z",
     "iopub.status.idle": "2021-11-15T15:30:09.318808Z",
     "shell.execute_reply": "2021-11-15T15:30:09.320241Z"
    },
    "papermill": {
     "duration": 0.871579,
     "end_time": "2021-11-15T15:30:09.320777",
     "exception": false,
     "start_time": "2021-11-15T15:30:08.449198",
     "status": "completed"
    },
    "tags": []
   },
   "outputs": [],
   "source": [
    "timestamps = pd.read_sql(\"select distinct record_time from EBAY_TOP_BERLIN order by record_time desc limit 2\", sqlite3.connect(\"UsedObjects.db\"))"
   ]
  },
  {
   "cell_type": "code",
   "execution_count": 3,
   "id": "periodic-identification",
   "metadata": {
    "execution": {
     "iopub.execute_input": "2021-11-15T15:30:09.395607Z",
     "iopub.status.busy": "2021-11-15T15:30:09.393307Z",
     "iopub.status.idle": "2021-11-15T15:30:09.416414Z",
     "shell.execute_reply": "2021-11-15T15:30:09.418082Z"
    },
    "papermill": {
     "duration": 0.076113,
     "end_time": "2021-11-15T15:30:09.418563",
     "exception": false,
     "start_time": "2021-11-15T15:30:09.342450",
     "status": "completed"
    },
    "tags": []
   },
   "outputs": [
    {
     "data": {
      "text/html": [
       "<div>\n",
       "<style scoped>\n",
       "    .dataframe tbody tr th:only-of-type {\n",
       "        vertical-align: middle;\n",
       "    }\n",
       "\n",
       "    .dataframe tbody tr th {\n",
       "        vertical-align: top;\n",
       "    }\n",
       "\n",
       "    .dataframe thead th {\n",
       "        text-align: right;\n",
       "    }\n",
       "</style>\n",
       "<table border=\"1\" class=\"dataframe\">\n",
       "  <thead>\n",
       "    <tr style=\"text-align: right;\">\n",
       "      <th></th>\n",
       "      <th>RECORD_TIME</th>\n",
       "    </tr>\n",
       "  </thead>\n",
       "  <tbody>\n",
       "    <tr>\n",
       "      <th>0</th>\n",
       "      <td>2021-11-15 16:30</td>\n",
       "    </tr>\n",
       "    <tr>\n",
       "      <th>1</th>\n",
       "      <td>2021-11-15 16:00</td>\n",
       "    </tr>\n",
       "  </tbody>\n",
       "</table>\n",
       "</div>"
      ],
      "text/plain": [
       "        RECORD_TIME\n",
       "0  2021-11-15 16:30\n",
       "1  2021-11-15 16:00"
      ]
     },
     "execution_count": 3,
     "metadata": {},
     "output_type": "execute_result"
    }
   ],
   "source": [
    "timestamps"
   ]
  },
  {
   "cell_type": "code",
   "execution_count": 4,
   "id": "alternate-victory",
   "metadata": {
    "execution": {
     "iopub.execute_input": "2021-11-15T15:30:09.473971Z",
     "iopub.status.busy": "2021-11-15T15:30:09.471747Z",
     "iopub.status.idle": "2021-11-15T15:30:10.693510Z",
     "shell.execute_reply": "2021-11-15T15:30:10.695089Z"
    },
    "papermill": {
     "duration": 1.255594,
     "end_time": "2021-11-15T15:30:10.695570",
     "exception": false,
     "start_time": "2021-11-15T15:30:09.439976",
     "status": "completed"
    },
    "tags": []
   },
   "outputs": [],
   "source": [
    "df = pd.read_sql(\"select * from EBAY_TOP_BERLIN where record_time in (select distinct record_time from EBAY_TOP_BERLIN order by record_time desc limit 2)\", sqlite3.connect(\"UsedObjects.db\"))"
   ]
  },
  {
   "cell_type": "code",
   "execution_count": 5,
   "id": "popular-active",
   "metadata": {
    "execution": {
     "iopub.execute_input": "2021-11-15T15:30:10.772670Z",
     "iopub.status.busy": "2021-11-15T15:30:10.759092Z",
     "iopub.status.idle": "2021-11-15T15:30:10.790315Z",
     "shell.execute_reply": "2021-11-15T15:30:10.792053Z"
    },
    "papermill": {
     "duration": 0.07378,
     "end_time": "2021-11-15T15:30:10.792562",
     "exception": false,
     "start_time": "2021-11-15T15:30:10.718782",
     "status": "completed"
    },
    "tags": []
   },
   "outputs": [],
   "source": [
    "df_pivot = df.pivot_table(index=\"PRODUCT\", columns = \"RECORD_TIME\", values = \"LISTING_COUNT\")"
   ]
  },
  {
   "cell_type": "code",
   "execution_count": 6,
   "id": "union-huntington",
   "metadata": {
    "execution": {
     "iopub.execute_input": "2021-11-15T15:30:10.855241Z",
     "iopub.status.busy": "2021-11-15T15:30:10.852945Z",
     "iopub.status.idle": "2021-11-15T15:30:10.858710Z",
     "shell.execute_reply": "2021-11-15T15:30:10.860449Z"
    },
    "papermill": {
     "duration": 0.047593,
     "end_time": "2021-11-15T15:30:10.861030",
     "exception": false,
     "start_time": "2021-11-15T15:30:10.813437",
     "status": "completed"
    },
    "tags": []
   },
   "outputs": [],
   "source": [
    "df_pivot.columns = [\"stamp_1\", \"stamp_2\"]\n",
    "df_pivot_diff = df_pivot.diff(axis=1)"
   ]
  },
  {
   "cell_type": "code",
   "execution_count": 7,
   "id": "fifth-motion",
   "metadata": {
    "execution": {
     "iopub.execute_input": "2021-11-15T15:30:10.920963Z",
     "iopub.status.busy": "2021-11-15T15:30:10.918011Z",
     "iopub.status.idle": "2021-11-15T15:30:12.831188Z",
     "shell.execute_reply": "2021-11-15T15:30:12.832492Z"
    },
    "papermill": {
     "duration": 1.950584,
     "end_time": "2021-11-15T15:30:12.833023",
     "exception": false,
     "start_time": "2021-11-15T15:30:10.882439",
     "status": "completed"
    },
    "tags": []
   },
   "outputs": [
    {
     "data": {
      "text/plain": [
       "<AxesSubplot:ylabel='PRODUCT'>"
      ]
     },
     "execution_count": 7,
     "metadata": {},
     "output_type": "execute_result"
    },
    {
     "data": {
      "image/png": "[encoded data removed]",
      "text/plain": [
       "<Figure size 432x288 with 1 Axes>"
      ]
     },
     "metadata": {
      "needs_background": "light"
     },
     "output_type": "display_data"
    }
   ],
   "source": [
    "df_pivot_diff.sort_values(\"stamp_2\", ascending = False)[\"stamp_2\"].head(10).plot.barh()"
   ]
  },
  {
   "cell_type": "code",
   "execution_count": null,
   "id": "extra-executive",
   "metadata": {
    "papermill": {
     "duration": 0.023694,
     "end_time": "2021-11-15T15:30:12.881154",
     "exception": false,
     "start_time": "2021-11-15T15:30:12.857460",
     "status": "completed"
    },
    "tags": []
   },
   "outputs": [],
   "source": []
  }
 ],
 "metadata": {
  "kernelspec": {
   "display_name": "Python 3",
   "language": "python",
   "name": "python3"
  },
  "language_info": {
   "codemirror_mode": {
    "name": "ipython",
    "version": 3
   },
   "file_extension": ".py",
   "mimetype": "text/x-python",
   "name": "python",
   "nbconvert_exporter": "python",
   "pygments_lexer": "ipython3",
   "version": "3.9.5"
  },
  "papermill": {
   "default_parameters": {},
   "duration": 9.936671,
   "end_time": "2021-11-15T15:30:14.622288",
   "environment_variables": {},
   "exception": null,
   "input_path": "eBay_Overview.ipynb",
   "output_path": "eBay_Overview.ipynb",
   "parameters": {},
   "start_time": "2021-11-15T15:30:04.685617",
   "version": "2.3.3"
  }
 },
 "nbformat": 4,
 "nbformat_minor": 5
}