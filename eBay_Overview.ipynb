{
 "cells": [
  {
   "cell_type": "code",
   "execution_count": 1,
   "id": "reverse-picking",
   "metadata": {
    "execution": {
     "iopub.execute_input": "2021-12-02T09:30:07.941372Z",
     "iopub.status.busy": "2021-12-02T09:30:07.939029Z",
     "iopub.status.idle": "2021-12-02T09:30:08.906819Z",
     "shell.execute_reply": "2021-12-02T09:30:08.908371Z"
    },
    "papermill": {
     "duration": 1.017201,
     "end_time": "2021-12-02T09:30:08.909144",
     "exception": false,
     "start_time": "2021-12-02T09:30:07.891943",
     "status": "completed"
    },
    "tags": []
   },
   "outputs": [],
   "source": [
    "import pandas as pd\n",
    "import sqlite3"
   ]
  },
  {
   "cell_type": "code",
   "execution_count": 2,
   "id": "innovative-syndrome",
   "metadata": {
    "execution": {
     "iopub.execute_input": "2021-12-02T09:30:08.983357Z",
     "iopub.status.busy": "2021-12-02T09:30:08.979311Z",
     "iopub.status.idle": "2021-12-02T09:30:09.935145Z",
     "shell.execute_reply": "2021-12-02T09:30:09.936353Z"
    },
    "papermill": {
     "duration": 0.99419,
     "end_time": "2021-12-02T09:30:09.936929",
     "exception": false,
     "start_time": "2021-12-02T09:30:08.942739",
     "status": "completed"
    },
    "tags": []
   },
   "outputs": [],
   "source": [
    "timestamps = pd.read_sql(\"select distinct record_time from EBAY_TOP_BERLIN order by record_time desc limit 2\", sqlite3.connect(\"UsedObjects.db\"))"
   ]
  },
  {
   "cell_type": "code",
   "execution_count": 3,
   "id": "periodic-identification",
   "metadata": {
    "execution": {
     "iopub.execute_input": "2021-12-02T09:30:10.006448Z",
     "iopub.status.busy": "2021-12-02T09:30:10.004346Z",
     "iopub.status.idle": "2021-12-02T09:30:10.024569Z",
     "shell.execute_reply": "2021-12-02T09:30:10.025873Z"
    },
    "papermill": {
     "duration": 0.067432,
     "end_time": "2021-12-02T09:30:10.026305",
     "exception": false,
     "start_time": "2021-12-02T09:30:09.958873",
     "status": "completed"
    },
    "tags": []
   },
   "outputs": [
    {
     "data": {
      "text/html": [
       "<div>\n",
       "<style scoped>\n",
       "    .dataframe tbody tr th:only-of-type {\n",
       "        vertical-align: middle;\n",
       "    }\n",
       "\n",
       "    .dataframe tbody tr th {\n",
       "        vertical-align: top;\n",
       "    }\n",
       "\n",
       "    .dataframe thead th {\n",
       "        text-align: right;\n",
       "    }\n",
       "</style>\n",
       "<table border=\"1\" class=\"dataframe\">\n",
       "  <thead>\n",
       "    <tr style=\"text-align: right;\">\n",
       "      <th></th>\n",
       "      <th>RECORD_TIME</th>\n",
       "    </tr>\n",
       "  </thead>\n",
       "  <tbody>\n",
       "    <tr>\n",
       "      <th>0</th>\n",
       "      <td>2021-12-02 10:30</td>\n",
       "    </tr>\n",
       "    <tr>\n",
       "      <th>1</th>\n",
       "      <td>2021-12-02 10:00</td>\n",
       "    </tr>\n",
       "  </tbody>\n",
       "</table>\n",
       "</div>"
      ],
      "text/plain": [
       "        RECORD_TIME\n",
       "0  2021-12-02 10:30\n",
       "1  2021-12-02 10:00"
      ]
     },
     "execution_count": 3,
     "metadata": {},
     "output_type": "execute_result"
    }
   ],
   "source": [
    "timestamps"
   ]
  },
  {
   "cell_type": "code",
   "execution_count": 4,
   "id": "alternate-victory",
   "metadata": {
    "execution": {
     "iopub.execute_input": "2021-12-02T09:30:10.080349Z",
     "iopub.status.busy": "2021-12-02T09:30:10.078060Z",
     "iopub.status.idle": "2021-12-02T09:30:11.472150Z",
     "shell.execute_reply": "2021-12-02T09:30:11.473924Z"
    },
    "papermill": {
     "duration": 1.425109,
     "end_time": "2021-12-02T09:30:11.474435",
     "exception": false,
     "start_time": "2021-12-02T09:30:10.049326",
     "status": "completed"
    },
    "tags": []
   },
   "outputs": [],
   "source": [
    "df = pd.read_sql(\"select * from EBAY_TOP_BERLIN where record_time in (select distinct record_time from EBAY_TOP_BERLIN order by record_time desc limit 2)\", sqlite3.connect(\"UsedObjects.db\"))"
   ]
  },
  {
   "cell_type": "code",
   "execution_count": 5,
   "id": "popular-active",
   "metadata": {
    "execution": {
     "iopub.execute_input": "2021-12-02T09:30:11.554449Z",
     "iopub.status.busy": "2021-12-02T09:30:11.546054Z",
     "iopub.status.idle": "2021-12-02T09:30:11.579235Z",
     "shell.execute_reply": "2021-12-02T09:30:11.580751Z"
    },
    "papermill": {
     "duration": 0.083624,
     "end_time": "2021-12-02T09:30:11.581230",
     "exception": false,
     "start_time": "2021-12-02T09:30:11.497606",
     "status": "completed"
    },
    "tags": []
   },
   "outputs": [],
   "source": [
    "df_pivot = df.pivot_table(index=\"PRODUCT\", columns = \"RECORD_TIME\", values = \"LISTING_COUNT\")"
   ]
  },
  {
   "cell_type": "code",
   "execution_count": 6,
   "id": "union-huntington",
   "metadata": {
    "execution": {
     "iopub.execute_input": "2021-12-02T09:30:11.639770Z",
     "iopub.status.busy": "2021-12-02T09:30:11.637548Z",
     "iopub.status.idle": "2021-12-02T09:30:11.643032Z",
     "shell.execute_reply": "2021-12-02T09:30:11.644372Z"
    },
    "papermill": {
     "duration": 0.043151,
     "end_time": "2021-12-02T09:30:11.644894",
     "exception": false,
     "start_time": "2021-12-02T09:30:11.601743",
     "status": "completed"
    },
    "tags": []
   },
   "outputs": [],
   "source": [
    "df_pivot.columns = [\"stamp_1\", \"stamp_2\"]\n",
    "df_pivot_diff = df_pivot.diff(axis=1)"
   ]
  },
  {
   "cell_type": "code",
   "execution_count": 7,
   "id": "fifth-motion",
   "metadata": {
    "execution": {
     "iopub.execute_input": "2021-12-02T09:30:11.702471Z",
     "iopub.status.busy": "2021-12-02T09:30:11.699887Z",
     "iopub.status.idle": "2021-12-02T09:30:13.728628Z",
     "shell.execute_reply": "2021-12-02T09:30:13.730206Z"
    },
    "papermill": {
     "duration": 2.065836,
     "end_time": "2021-12-02T09:30:13.730726",
     "exception": false,
     "start_time": "2021-12-02T09:30:11.664890",
     "status": "completed"
    },
    "tags": []
   },
   "outputs": [
    {
     "data": {
      "text/plain": [
       "<AxesSubplot:ylabel='PRODUCT'>"
      ]
     },
     "execution_count": 7,
     "metadata": {},
     "output_type": "execute_result"
    },
    {
     "data": {
      "image/png": "[encoded data removed]",
      "text/plain": [
       "<Figure size 432x288 with 1 Axes>"
      ]
     },
     "metadata": {
      "needs_background": "light"
     },
     "output_type": "display_data"
    }
   ],
   "source": [
    "df_pivot_diff.sort_values(\"stamp_2\", ascending = False)[\"stamp_2\"].head(10).plot.barh()"
   ]
  },
  {
   "cell_type": "code",
   "execution_count": null,
   "id": "extra-executive",
   "metadata": {
    "papermill": {
     "duration": 0.024087,
     "end_time": "2021-12-02T09:30:13.779616",
     "exception": false,
     "start_time": "2021-12-02T09:30:13.755529",
     "status": "completed"
    },
    "tags": []
   },
   "outputs": [],
   "source": []
  }
 ],
 "metadata": {
  "kernelspec": {
   "display_name": "Python 3",
   "language": "python",
   "name": "python3"
  },
  "language_info": {
   "codemirror_mode": {
    "name": "ipython",
    "version": 3
   },
   "file_extension": ".py",
   "mimetype": "text/x-python",
   "name": "python",
   "nbconvert_exporter": "python",
   "pygments_lexer": "ipython3",
   "version": "3.9.5"
  },
  "papermill": {
   "default_parameters": {},
   "duration": 9.93801,
   "end_time": "2021-12-02T09:30:15.088319",
   "environment_variables": {},
   "exception": null,
   "input_path": "eBay_Overview.ipynb",
   "output_path": "eBay_Overview.ipynb",
   "parameters": {},
   "start_time": "2021-12-02T09:30:05.150309",
   "version": "2.3.3"
  }
 },
 "nbformat": 4,
 "nbformat_minor": 5
}