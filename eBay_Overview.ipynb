{
 "cells": [
  {
   "cell_type": "code",
   "execution_count": 1,
   "id": "reverse-picking",
   "metadata": {
    "execution": {
     "iopub.execute_input": "2021-10-13T09:00:06.824517Z",
     "iopub.status.busy": "2021-10-13T09:00:06.822563Z",
     "iopub.status.idle": "2021-10-13T09:00:07.623765Z",
     "shell.execute_reply": "2021-10-13T09:00:07.625176Z"
    },
    "papermill": {
     "duration": 0.852272,
     "end_time": "2021-10-13T09:00:07.625841",
     "exception": false,
     "start_time": "2021-10-13T09:00:06.773569",
     "status": "completed"
    },
    "tags": []
   },
   "outputs": [],
   "source": [
    "import pandas as pd\n",
    "import sqlite3"
   ]
  },
  {
   "cell_type": "code",
   "execution_count": 2,
   "id": "innovative-syndrome",
   "metadata": {
    "execution": {
     "iopub.execute_input": "2021-10-13T09:00:07.677364Z",
     "iopub.status.busy": "2021-10-13T09:00:07.675335Z",
     "iopub.status.idle": "2021-10-13T09:00:08.213509Z",
     "shell.execute_reply": "2021-10-13T09:00:08.214732Z"
    },
    "papermill": {
     "duration": 0.568583,
     "end_time": "2021-10-13T09:00:08.215133",
     "exception": false,
     "start_time": "2021-10-13T09:00:07.646550",
     "status": "completed"
    },
    "tags": []
   },
   "outputs": [],
   "source": [
    "timestamps = pd.read_sql(\"select distinct record_time from EBAY_TOP_BERLIN order by record_time desc limit 2\", sqlite3.connect(\"UsedObjects.db\"))"
   ]
  },
  {
   "cell_type": "code",
   "execution_count": 3,
   "id": "periodic-identification",
   "metadata": {
    "execution": {
     "iopub.execute_input": "2021-10-13T09:00:08.290833Z",
     "iopub.status.busy": "2021-10-13T09:00:08.288837Z",
     "iopub.status.idle": "2021-10-13T09:00:08.308912Z",
     "shell.execute_reply": "2021-10-13T09:00:08.310295Z"
    },
    "papermill": {
     "duration": 0.072812,
     "end_time": "2021-10-13T09:00:08.310738",
     "exception": false,
     "start_time": "2021-10-13T09:00:08.237926",
     "status": "completed"
    },
    "tags": []
   },
   "outputs": [
    {
     "data": {
      "text/html": [
       "<div>\n",
       "<style scoped>\n",
       "    .dataframe tbody tr th:only-of-type {\n",
       "        vertical-align: middle;\n",
       "    }\n",
       "\n",
       "    .dataframe tbody tr th {\n",
       "        vertical-align: top;\n",
       "    }\n",
       "\n",
       "    .dataframe thead th {\n",
       "        text-align: right;\n",
       "    }\n",
       "</style>\n",
       "<table border=\"1\" class=\"dataframe\">\n",
       "  <thead>\n",
       "    <tr style=\"text-align: right;\">\n",
       "      <th></th>\n",
       "      <th>RECORD_TIME</th>\n",
       "    </tr>\n",
       "  </thead>\n",
       "  <tbody>\n",
       "    <tr>\n",
       "      <th>0</th>\n",
       "      <td>2021-10-13 11:00</td>\n",
       "    </tr>\n",
       "    <tr>\n",
       "      <th>1</th>\n",
       "      <td>2021-10-13 10:30</td>\n",
       "    </tr>\n",
       "  </tbody>\n",
       "</table>\n",
       "</div>"
      ],
      "text/plain": [
       "        RECORD_TIME\n",
       "0  2021-10-13 11:00\n",
       "1  2021-10-13 10:30"
      ]
     },
     "execution_count": 3,
     "metadata": {},
     "output_type": "execute_result"
    }
   ],
   "source": [
    "timestamps"
   ]
  },
  {
   "cell_type": "code",
   "execution_count": 4,
   "id": "alternate-victory",
   "metadata": {
    "execution": {
     "iopub.execute_input": "2021-10-13T09:00:08.363049Z",
     "iopub.status.busy": "2021-10-13T09:00:08.361222Z",
     "iopub.status.idle": "2021-10-13T09:00:09.126536Z",
     "shell.execute_reply": "2021-10-13T09:00:09.127749Z"
    },
    "papermill": {
     "duration": 0.795765,
     "end_time": "2021-10-13T09:00:09.128155",
     "exception": false,
     "start_time": "2021-10-13T09:00:08.332390",
     "status": "completed"
    },
    "tags": []
   },
   "outputs": [],
   "source": [
    "df = pd.read_sql(\"select * from EBAY_TOP_BERLIN where record_time in (select distinct record_time from EBAY_TOP_BERLIN order by record_time desc limit 2)\", sqlite3.connect(\"UsedObjects.db\"))"
   ]
  },
  {
   "cell_type": "code",
   "execution_count": 5,
   "id": "popular-active",
   "metadata": {
    "execution": {
     "iopub.execute_input": "2021-10-13T09:00:09.199078Z",
     "iopub.status.busy": "2021-10-13T09:00:09.186350Z",
     "iopub.status.idle": "2021-10-13T09:00:09.214607Z",
     "shell.execute_reply": "2021-10-13T09:00:09.215887Z"
    },
    "papermill": {
     "duration": 0.067576,
     "end_time": "2021-10-13T09:00:09.216312",
     "exception": false,
     "start_time": "2021-10-13T09:00:09.148736",
     "status": "completed"
    },
    "tags": []
   },
   "outputs": [],
   "source": [
    "df_pivot = df.pivot_table(index=\"PRODUCT\", columns = \"RECORD_TIME\", values = \"LISTING_COUNT\")"
   ]
  },
  {
   "cell_type": "code",
   "execution_count": 6,
   "id": "union-huntington",
   "metadata": {
    "execution": {
     "iopub.execute_input": "2021-10-13T09:00:09.273695Z",
     "iopub.status.busy": "2021-10-13T09:00:09.271493Z",
     "iopub.status.idle": "2021-10-13T09:00:09.277075Z",
     "shell.execute_reply": "2021-10-13T09:00:09.278723Z"
    },
    "papermill": {
     "duration": 0.041494,
     "end_time": "2021-10-13T09:00:09.279207",
     "exception": false,
     "start_time": "2021-10-13T09:00:09.237713",
     "status": "completed"
    },
    "tags": []
   },
   "outputs": [],
   "source": [
    "df_pivot.columns = [\"stamp_1\", \"stamp_2\"]\n",
    "df_pivot_diff = df_pivot.diff(axis=1)"
   ]
  },
  {
   "cell_type": "code",
   "execution_count": 7,
   "id": "fifth-motion",
   "metadata": {
    "execution": {
     "iopub.execute_input": "2021-10-13T09:00:09.335261Z",
     "iopub.status.busy": "2021-10-13T09:00:09.333016Z",
     "iopub.status.idle": "2021-10-13T09:00:10.789947Z",
     "shell.execute_reply": "2021-10-13T09:00:10.791258Z"
    },
    "papermill": {
     "duration": 1.490542,
     "end_time": "2021-10-13T09:00:10.791681",
     "exception": false,
     "start_time": "2021-10-13T09:00:09.301139",
     "status": "completed"
    },
    "tags": []
   },
   "outputs": [
    {
     "data": {
      "text/plain": [
       "<AxesSubplot:ylabel='PRODUCT'>"
      ]
     },
     "execution_count": 7,
     "metadata": {},
     "output_type": "execute_result"
    },
    {
     "data": {
      "image/png": "[encoded data removed]",
      "text/plain": [
       "<Figure size 432x288 with 1 Axes>"
      ]
     },
     "metadata": {
      "needs_background": "light"
     },
     "output_type": "display_data"
    }
   ],
   "source": [
    "df_pivot_diff.sort_values(\"stamp_2\", ascending = False)[\"stamp_2\"].head(10).plot.barh()"
   ]
  },
  {
   "cell_type": "code",
   "execution_count": null,
   "id": "extra-executive",
   "metadata": {
    "papermill": {
     "duration": 0.022444,
     "end_time": "2021-10-13T09:00:10.839222",
     "exception": false,
     "start_time": "2021-10-13T09:00:10.816778",
     "status": "completed"
    },
    "tags": []
   },
   "outputs": [],
   "source": []
  }
 ],
 "metadata": {
  "kernelspec": {
   "display_name": "Python 3",
   "language": "python",
   "name": "python3"
  },
  "language_info": {
   "codemirror_mode": {
    "name": "ipython",
    "version": 3
   },
   "file_extension": ".py",
   "mimetype": "text/x-python",
   "name": "python",
   "nbconvert_exporter": "python",
   "pygments_lexer": "ipython3",
   "version": "3.9.5"
  },
  "papermill": {
   "default_parameters": {},
   "duration": 7.820565,
   "end_time": "2021-10-13T09:00:12.194083",
   "environment_variables": {},
   "exception": null,
   "input_path": "eBay_Overview.ipynb",
   "output_path": "eBay_Overview.ipynb",
   "parameters": {},
   "start_time": "2021-10-13T09:00:04.373518",
   "version": "2.3.3"
  }
 },
 "nbformat": 4,
 "nbformat_minor": 5
}