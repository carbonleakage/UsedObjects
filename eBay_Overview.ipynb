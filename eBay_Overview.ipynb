{
 "cells": [
  {
   "cell_type": "code",
   "execution_count": 1,
   "id": "reverse-picking",
   "metadata": {
    "execution": {
     "iopub.execute_input": "2021-09-24T10:30:07.768338Z",
     "iopub.status.busy": "2021-09-24T10:30:07.766319Z",
     "iopub.status.idle": "2021-09-24T10:30:08.568938Z",
     "shell.execute_reply": "2021-09-24T10:30:08.570174Z"
    },
    "papermill": {
     "duration": 0.852758,
     "end_time": "2021-09-24T10:30:08.570833",
     "exception": false,
     "start_time": "2021-09-24T10:30:07.718075",
     "status": "completed"
    },
    "tags": []
   },
   "outputs": [],
   "source": [
    "import pandas as pd\n",
    "import sqlite3"
   ]
  },
  {
   "cell_type": "code",
   "execution_count": 2,
   "id": "innovative-syndrome",
   "metadata": {
    "execution": {
     "iopub.execute_input": "2021-09-24T10:30:08.622269Z",
     "iopub.status.busy": "2021-09-24T10:30:08.620409Z",
     "iopub.status.idle": "2021-09-24T10:30:09.010766Z",
     "shell.execute_reply": "2021-09-24T10:30:09.012186Z"
    },
    "papermill": {
     "duration": 0.420048,
     "end_time": "2021-09-24T10:30:09.012605",
     "exception": false,
     "start_time": "2021-09-24T10:30:08.592557",
     "status": "completed"
    },
    "tags": []
   },
   "outputs": [],
   "source": [
    "timestamps = pd.read_sql(\"select distinct record_time from EBAY_TOP_BERLIN order by record_time desc limit 2\", sqlite3.connect(\"UsedObjects.db\"))"
   ]
  },
  {
   "cell_type": "code",
   "execution_count": 3,
   "id": "periodic-identification",
   "metadata": {
    "execution": {
     "iopub.execute_input": "2021-09-24T10:30:09.076882Z",
     "iopub.status.busy": "2021-09-24T10:30:09.074867Z",
     "iopub.status.idle": "2021-09-24T10:30:09.094450Z",
     "shell.execute_reply": "2021-09-24T10:30:09.095993Z"
    },
    "papermill": {
     "duration": 0.064515,
     "end_time": "2021-09-24T10:30:09.096437",
     "exception": false,
     "start_time": "2021-09-24T10:30:09.031922",
     "status": "completed"
    },
    "tags": []
   },
   "outputs": [
    {
     "data": {
      "text/html": [
       "<div>\n",
       "<style scoped>\n",
       "    .dataframe tbody tr th:only-of-type {\n",
       "        vertical-align: middle;\n",
       "    }\n",
       "\n",
       "    .dataframe tbody tr th {\n",
       "        vertical-align: top;\n",
       "    }\n",
       "\n",
       "    .dataframe thead th {\n",
       "        text-align: right;\n",
       "    }\n",
       "</style>\n",
       "<table border=\"1\" class=\"dataframe\">\n",
       "  <thead>\n",
       "    <tr style=\"text-align: right;\">\n",
       "      <th></th>\n",
       "      <th>RECORD_TIME</th>\n",
       "    </tr>\n",
       "  </thead>\n",
       "  <tbody>\n",
       "    <tr>\n",
       "      <th>0</th>\n",
       "      <td>2021-09-24 12:30</td>\n",
       "    </tr>\n",
       "    <tr>\n",
       "      <th>1</th>\n",
       "      <td>2021-09-24 12:00</td>\n",
       "    </tr>\n",
       "  </tbody>\n",
       "</table>\n",
       "</div>"
      ],
      "text/plain": [
       "        RECORD_TIME\n",
       "0  2021-09-24 12:30\n",
       "1  2021-09-24 12:00"
      ]
     },
     "execution_count": 3,
     "metadata": {},
     "output_type": "execute_result"
    }
   ],
   "source": [
    "timestamps"
   ]
  },
  {
   "cell_type": "code",
   "execution_count": 4,
   "id": "alternate-victory",
   "metadata": {
    "execution": {
     "iopub.execute_input": "2021-09-24T10:30:09.149637Z",
     "iopub.status.busy": "2021-09-24T10:30:09.147616Z",
     "iopub.status.idle": "2021-09-24T10:30:09.690109Z",
     "shell.execute_reply": "2021-09-24T10:30:09.691669Z"
    },
    "papermill": {
     "duration": 0.573511,
     "end_time": "2021-09-24T10:30:09.692112",
     "exception": false,
     "start_time": "2021-09-24T10:30:09.118601",
     "status": "completed"
    },
    "tags": []
   },
   "outputs": [],
   "source": [
    "df = pd.read_sql(\"select * from EBAY_TOP_BERLIN where record_time in (select distinct record_time from EBAY_TOP_BERLIN order by record_time desc limit 2)\", sqlite3.connect(\"UsedObjects.db\"))"
   ]
  },
  {
   "cell_type": "code",
   "execution_count": 5,
   "id": "popular-active",
   "metadata": {
    "execution": {
     "iopub.execute_input": "2021-09-24T10:30:09.772621Z",
     "iopub.status.busy": "2021-09-24T10:30:09.760699Z",
     "iopub.status.idle": "2021-09-24T10:30:09.787830Z",
     "shell.execute_reply": "2021-09-24T10:30:09.789053Z"
    },
    "papermill": {
     "duration": 0.071453,
     "end_time": "2021-09-24T10:30:09.789445",
     "exception": false,
     "start_time": "2021-09-24T10:30:09.717992",
     "status": "completed"
    },
    "tags": []
   },
   "outputs": [],
   "source": [
    "df_pivot = df.pivot_table(index=\"PRODUCT\", columns = \"RECORD_TIME\", values = \"LISTING_COUNT\")"
   ]
  },
  {
   "cell_type": "code",
   "execution_count": 6,
   "id": "union-huntington",
   "metadata": {
    "execution": {
     "iopub.execute_input": "2021-09-24T10:30:09.848899Z",
     "iopub.status.busy": "2021-09-24T10:30:09.846410Z",
     "iopub.status.idle": "2021-09-24T10:30:09.852444Z",
     "shell.execute_reply": "2021-09-24T10:30:09.853798Z"
    },
    "papermill": {
     "duration": 0.042577,
     "end_time": "2021-09-24T10:30:09.854274",
     "exception": false,
     "start_time": "2021-09-24T10:30:09.811697",
     "status": "completed"
    },
    "tags": []
   },
   "outputs": [],
   "source": [
    "df_pivot.columns = [\"stamp_1\", \"stamp_2\"]\n",
    "df_pivot_diff = df_pivot.diff(axis=1)"
   ]
  },
  {
   "cell_type": "code",
   "execution_count": 7,
   "id": "fifth-motion",
   "metadata": {
    "execution": {
     "iopub.execute_input": "2021-09-24T10:30:09.909265Z",
     "iopub.status.busy": "2021-09-24T10:30:09.906880Z",
     "iopub.status.idle": "2021-09-24T10:30:11.381631Z",
     "shell.execute_reply": "2021-09-24T10:30:11.383005Z"
    },
    "papermill": {
     "duration": 1.507711,
     "end_time": "2021-09-24T10:30:11.383461",
     "exception": false,
     "start_time": "2021-09-24T10:30:09.875750",
     "status": "completed"
    },
    "tags": []
   },
   "outputs": [
    {
     "data": {
      "text/plain": [
       "<AxesSubplot:ylabel='PRODUCT'>"
      ]
     },
     "execution_count": 7,
     "metadata": {},
     "output_type": "execute_result"
    },
    {
     "data": {
      "image/png": "[encoded data removed]",
      "text/plain": [
       "<Figure size 432x288 with 1 Axes>"
      ]
     },
     "metadata": {
      "needs_background": "light"
     },
     "output_type": "display_data"
    }
   ],
   "source": [
    "df_pivot_diff.sort_values(\"stamp_2\", ascending = False)[\"stamp_2\"].head(10).plot.barh()"
   ]
  },
  {
   "cell_type": "code",
   "execution_count": null,
   "id": "extra-executive",
   "metadata": {
    "papermill": {
     "duration": 0.022313,
     "end_time": "2021-09-24T10:30:11.429848",
     "exception": false,
     "start_time": "2021-09-24T10:30:11.407535",
     "status": "completed"
    },
    "tags": []
   },
   "outputs": [],
   "source": []
  }
 ],
 "metadata": {
  "kernelspec": {
   "display_name": "Python 3",
   "language": "python",
   "name": "python3"
  },
  "language_info": {
   "codemirror_mode": {
    "name": "ipython",
    "version": 3
   },
   "file_extension": ".py",
   "mimetype": "text/x-python",
   "name": "python",
   "nbconvert_exporter": "python",
   "pygments_lexer": "ipython3",
   "version": "3.9.5"
  },
  "papermill": {
   "default_parameters": {},
   "duration": 6.753044,
   "end_time": "2021-09-24T10:30:12.072663",
   "environment_variables": {},
   "exception": null,
   "input_path": "eBay_Overview.ipynb",
   "output_path": "eBay_Overview.ipynb",
   "parameters": {},
   "start_time": "2021-09-24T10:30:05.319619",
   "version": "2.3.3"
  }
 },
 "nbformat": 4,
 "nbformat_minor": 5
}