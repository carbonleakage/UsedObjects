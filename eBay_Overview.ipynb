{
 "cells": [
  {
   "cell_type": "code",
   "execution_count": 1,
   "id": "reverse-picking",
   "metadata": {
    "execution": {
     "iopub.execute_input": "2021-12-09T19:30:08.562725Z",
     "iopub.status.busy": "2021-12-09T19:30:08.559413Z",
     "iopub.status.idle": "2021-12-09T19:30:09.490412Z",
     "shell.execute_reply": "2021-12-09T19:30:09.492797Z"
    },
    "papermill": {
     "duration": 0.980523,
     "end_time": "2021-12-09T19:30:09.493550",
     "exception": false,
     "start_time": "2021-12-09T19:30:08.513027",
     "status": "completed"
    },
    "tags": []
   },
   "outputs": [],
   "source": [
    "import pandas as pd\n",
    "import sqlite3"
   ]
  },
  {
   "cell_type": "code",
   "execution_count": 2,
   "id": "innovative-syndrome",
   "metadata": {
    "execution": {
     "iopub.execute_input": "2021-12-09T19:30:09.559593Z",
     "iopub.status.busy": "2021-12-09T19:30:09.557449Z",
     "iopub.status.idle": "2021-12-09T19:30:10.593990Z",
     "shell.execute_reply": "2021-12-09T19:30:10.595550Z"
    },
    "papermill": {
     "duration": 1.072618,
     "end_time": "2021-12-09T19:30:10.596101",
     "exception": false,
     "start_time": "2021-12-09T19:30:09.523483",
     "status": "completed"
    },
    "tags": []
   },
   "outputs": [],
   "source": [
    "timestamps = pd.read_sql(\"select distinct record_time from EBAY_TOP_BERLIN order by record_time desc limit 2\", sqlite3.connect(\"UsedObjects.db\"))"
   ]
  },
  {
   "cell_type": "code",
   "execution_count": 3,
   "id": "periodic-identification",
   "metadata": {
    "execution": {
     "iopub.execute_input": "2021-12-09T19:30:10.674963Z",
     "iopub.status.busy": "2021-12-09T19:30:10.672210Z",
     "iopub.status.idle": "2021-12-09T19:30:10.693742Z",
     "shell.execute_reply": "2021-12-09T19:30:10.695086Z"
    },
    "papermill": {
     "duration": 0.073663,
     "end_time": "2021-12-09T19:30:10.695565",
     "exception": false,
     "start_time": "2021-12-09T19:30:10.621902",
     "status": "completed"
    },
    "tags": []
   },
   "outputs": [
    {
     "data": {
      "text/html": [
       "<div>\n",
       "<style scoped>\n",
       "    .dataframe tbody tr th:only-of-type {\n",
       "        vertical-align: middle;\n",
       "    }\n",
       "\n",
       "    .dataframe tbody tr th {\n",
       "        vertical-align: top;\n",
       "    }\n",
       "\n",
       "    .dataframe thead th {\n",
       "        text-align: right;\n",
       "    }\n",
       "</style>\n",
       "<table border=\"1\" class=\"dataframe\">\n",
       "  <thead>\n",
       "    <tr style=\"text-align: right;\">\n",
       "      <th></th>\n",
       "      <th>RECORD_TIME</th>\n",
       "    </tr>\n",
       "  </thead>\n",
       "  <tbody>\n",
       "    <tr>\n",
       "      <th>0</th>\n",
       "      <td>2021-12-09 20:30</td>\n",
       "    </tr>\n",
       "    <tr>\n",
       "      <th>1</th>\n",
       "      <td>2021-12-09 20:00</td>\n",
       "    </tr>\n",
       "  </tbody>\n",
       "</table>\n",
       "</div>"
      ],
      "text/plain": [
       "        RECORD_TIME\n",
       "0  2021-12-09 20:30\n",
       "1  2021-12-09 20:00"
      ]
     },
     "execution_count": 3,
     "metadata": {},
     "output_type": "execute_result"
    }
   ],
   "source": [
    "timestamps"
   ]
  },
  {
   "cell_type": "code",
   "execution_count": 4,
   "id": "alternate-victory",
   "metadata": {
    "execution": {
     "iopub.execute_input": "2021-12-09T19:30:10.749127Z",
     "iopub.status.busy": "2021-12-09T19:30:10.746884Z",
     "iopub.status.idle": "2021-12-09T19:30:12.321332Z",
     "shell.execute_reply": "2021-12-09T19:30:12.324094Z"
    },
    "papermill": {
     "duration": 1.609147,
     "end_time": "2021-12-09T19:30:12.324916",
     "exception": false,
     "start_time": "2021-12-09T19:30:10.715769",
     "status": "completed"
    },
    "tags": []
   },
   "outputs": [],
   "source": [
    "df = pd.read_sql(\"select * from EBAY_TOP_BERLIN where record_time in (select distinct record_time from EBAY_TOP_BERLIN order by record_time desc limit 2)\", sqlite3.connect(\"UsedObjects.db\"))"
   ]
  },
  {
   "cell_type": "code",
   "execution_count": 5,
   "id": "popular-active",
   "metadata": {
    "execution": {
     "iopub.execute_input": "2021-12-09T19:30:12.428408Z",
     "iopub.status.busy": "2021-12-09T19:30:12.424327Z",
     "iopub.status.idle": "2021-12-09T19:30:12.478175Z",
     "shell.execute_reply": "2021-12-09T19:30:12.480077Z"
    },
    "papermill": {
     "duration": 0.124255,
     "end_time": "2021-12-09T19:30:12.480628",
     "exception": false,
     "start_time": "2021-12-09T19:30:12.356373",
     "status": "completed"
    },
    "tags": []
   },
   "outputs": [],
   "source": [
    "df_pivot = df.pivot_table(index=\"PRODUCT\", columns = \"RECORD_TIME\", values = \"LISTING_COUNT\")"
   ]
  },
  {
   "cell_type": "code",
   "execution_count": 6,
   "id": "union-huntington",
   "metadata": {
    "execution": {
     "iopub.execute_input": "2021-12-09T19:30:12.563853Z",
     "iopub.status.busy": "2021-12-09T19:30:12.559701Z",
     "iopub.status.idle": "2021-12-09T19:30:12.568469Z",
     "shell.execute_reply": "2021-12-09T19:30:12.570901Z"
    },
    "papermill": {
     "duration": 0.066708,
     "end_time": "2021-12-09T19:30:12.571729",
     "exception": false,
     "start_time": "2021-12-09T19:30:12.505021",
     "status": "completed"
    },
    "tags": []
   },
   "outputs": [],
   "source": [
    "df_pivot.columns = [\"stamp_1\", \"stamp_2\"]\n",
    "df_pivot_diff = df_pivot.diff(axis=1)"
   ]
  },
  {
   "cell_type": "code",
   "execution_count": 7,
   "id": "fifth-motion",
   "metadata": {
    "execution": {
     "iopub.execute_input": "2021-12-09T19:30:12.655386Z",
     "iopub.status.busy": "2021-12-09T19:30:12.652238Z",
     "iopub.status.idle": "2021-12-09T19:30:14.185723Z",
     "shell.execute_reply": "2021-12-09T19:30:14.187198Z"
    },
    "papermill": {
     "duration": 1.586368,
     "end_time": "2021-12-09T19:30:14.187663",
     "exception": false,
     "start_time": "2021-12-09T19:30:12.601295",
     "status": "completed"
    },
    "tags": []
   },
   "outputs": [
    {
     "data": {
      "text/plain": [
       "<AxesSubplot:ylabel='PRODUCT'>"
      ]
     },
     "execution_count": 7,
     "metadata": {},
     "output_type": "execute_result"
    },
    {
     "data": {
      "image/png": "[encoded data removed]",
      "text/plain": [
       "<Figure size 432x288 with 1 Axes>"
      ]
     },
     "metadata": {
      "needs_background": "light"
     },
     "output_type": "display_data"
    }
   ],
   "source": [
    "df_pivot_diff.sort_values(\"stamp_2\", ascending = False)[\"stamp_2\"].head(10).plot.barh()"
   ]
  },
  {
   "cell_type": "code",
   "execution_count": null,
   "id": "extra-executive",
   "metadata": {
    "papermill": {
     "duration": 0.02232,
     "end_time": "2021-12-09T19:30:14.234054",
     "exception": false,
     "start_time": "2021-12-09T19:30:14.211734",
     "status": "completed"
    },
    "tags": []
   },
   "outputs": [],
   "source": []
  }
 ],
 "metadata": {
  "kernelspec": {
   "display_name": "Python 3",
   "language": "python",
   "name": "python3"
  },
  "language_info": {
   "codemirror_mode": {
    "name": "ipython",
    "version": 3
   },
   "file_extension": ".py",
   "mimetype": "text/x-python",
   "name": "python",
   "nbconvert_exporter": "python",
   "pygments_lexer": "ipython3",
   "version": "3.9.5"
  },
  "papermill": {
   "default_parameters": {},
   "duration": 9.934805,
   "end_time": "2021-12-09T19:30:15.681086",
   "environment_variables": {},
   "exception": null,
   "input_path": "eBay_Overview.ipynb",
   "output_path": "eBay_Overview.ipynb",
   "parameters": {},
   "start_time": "2021-12-09T19:30:05.746281",
   "version": "2.3.3"
  }
 },
 "nbformat": 4,
 "nbformat_minor": 5
}