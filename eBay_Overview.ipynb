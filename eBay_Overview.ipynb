{
 "cells": [
  {
   "cell_type": "code",
   "execution_count": 1,
   "id": "reverse-picking",
   "metadata": {
    "execution": {
     "iopub.execute_input": "2021-11-15T05:00:07.984105Z",
     "iopub.status.busy": "2021-11-15T05:00:07.981916Z",
     "iopub.status.idle": "2021-11-15T05:00:08.943887Z",
     "shell.execute_reply": "2021-11-15T05:00:08.946197Z"
    },
    "papermill": {
     "duration": 1.01175,
     "end_time": "2021-11-15T05:00:08.946886",
     "exception": false,
     "start_time": "2021-11-15T05:00:07.935136",
     "status": "completed"
    },
    "tags": []
   },
   "outputs": [],
   "source": [
    "import pandas as pd\n",
    "import sqlite3"
   ]
  },
  {
   "cell_type": "code",
   "execution_count": 2,
   "id": "innovative-syndrome",
   "metadata": {
    "execution": {
     "iopub.execute_input": "2021-11-15T05:00:09.011394Z",
     "iopub.status.busy": "2021-11-15T05:00:09.009199Z",
     "iopub.status.idle": "2021-11-15T05:00:09.821246Z",
     "shell.execute_reply": "2021-11-15T05:00:09.822555Z"
    },
    "papermill": {
     "duration": 0.845338,
     "end_time": "2021-11-15T05:00:09.822954",
     "exception": false,
     "start_time": "2021-11-15T05:00:08.977616",
     "status": "completed"
    },
    "tags": []
   },
   "outputs": [],
   "source": [
    "timestamps = pd.read_sql(\"select distinct record_time from EBAY_TOP_BERLIN order by record_time desc limit 2\", sqlite3.connect(\"UsedObjects.db\"))"
   ]
  },
  {
   "cell_type": "code",
   "execution_count": 3,
   "id": "periodic-identification",
   "metadata": {
    "execution": {
     "iopub.execute_input": "2021-11-15T05:00:09.887932Z",
     "iopub.status.busy": "2021-11-15T05:00:09.885784Z",
     "iopub.status.idle": "2021-11-15T05:00:09.906224Z",
     "shell.execute_reply": "2021-11-15T05:00:09.907448Z"
    },
    "papermill": {
     "duration": 0.06558,
     "end_time": "2021-11-15T05:00:09.907838",
     "exception": false,
     "start_time": "2021-11-15T05:00:09.842258",
     "status": "completed"
    },
    "tags": []
   },
   "outputs": [
    {
     "data": {
      "text/html": [
       "<div>\n",
       "<style scoped>\n",
       "    .dataframe tbody tr th:only-of-type {\n",
       "        vertical-align: middle;\n",
       "    }\n",
       "\n",
       "    .dataframe tbody tr th {\n",
       "        vertical-align: top;\n",
       "    }\n",
       "\n",
       "    .dataframe thead th {\n",
       "        text-align: right;\n",
       "    }\n",
       "</style>\n",
       "<table border=\"1\" class=\"dataframe\">\n",
       "  <thead>\n",
       "    <tr style=\"text-align: right;\">\n",
       "      <th></th>\n",
       "      <th>RECORD_TIME</th>\n",
       "    </tr>\n",
       "  </thead>\n",
       "  <tbody>\n",
       "    <tr>\n",
       "      <th>0</th>\n",
       "      <td>2021-11-15 06:00</td>\n",
       "    </tr>\n",
       "    <tr>\n",
       "      <th>1</th>\n",
       "      <td>2021-11-15 05:30</td>\n",
       "    </tr>\n",
       "  </tbody>\n",
       "</table>\n",
       "</div>"
      ],
      "text/plain": [
       "        RECORD_TIME\n",
       "0  2021-11-15 06:00\n",
       "1  2021-11-15 05:30"
      ]
     },
     "execution_count": 3,
     "metadata": {},
     "output_type": "execute_result"
    }
   ],
   "source": [
    "timestamps"
   ]
  },
  {
   "cell_type": "code",
   "execution_count": 4,
   "id": "alternate-victory",
   "metadata": {
    "execution": {
     "iopub.execute_input": "2021-11-15T05:00:09.961836Z",
     "iopub.status.busy": "2021-11-15T05:00:09.959684Z",
     "iopub.status.idle": "2021-11-15T05:00:11.159159Z",
     "shell.execute_reply": "2021-11-15T05:00:11.161360Z"
    },
    "papermill": {
     "duration": 1.232434,
     "end_time": "2021-11-15T05:00:11.161839",
     "exception": false,
     "start_time": "2021-11-15T05:00:09.929405",
     "status": "completed"
    },
    "tags": []
   },
   "outputs": [],
   "source": [
    "df = pd.read_sql(\"select * from EBAY_TOP_BERLIN where record_time in (select distinct record_time from EBAY_TOP_BERLIN order by record_time desc limit 2)\", sqlite3.connect(\"UsedObjects.db\"))"
   ]
  },
  {
   "cell_type": "code",
   "execution_count": 5,
   "id": "popular-active",
   "metadata": {
    "execution": {
     "iopub.execute_input": "2021-11-15T05:00:11.236903Z",
     "iopub.status.busy": "2021-11-15T05:00:11.225522Z",
     "iopub.status.idle": "2021-11-15T05:00:11.254864Z",
     "shell.execute_reply": "2021-11-15T05:00:11.256676Z"
    },
    "papermill": {
     "duration": 0.075079,
     "end_time": "2021-11-15T05:00:11.257361",
     "exception": false,
     "start_time": "2021-11-15T05:00:11.182282",
     "status": "completed"
    },
    "tags": []
   },
   "outputs": [],
   "source": [
    "df_pivot = df.pivot_table(index=\"PRODUCT\", columns = \"RECORD_TIME\", values = \"LISTING_COUNT\")"
   ]
  },
  {
   "cell_type": "code",
   "execution_count": 6,
   "id": "union-huntington",
   "metadata": {
    "execution": {
     "iopub.execute_input": "2021-11-15T05:00:11.320310Z",
     "iopub.status.busy": "2021-11-15T05:00:11.318250Z",
     "iopub.status.idle": "2021-11-15T05:00:11.323066Z",
     "shell.execute_reply": "2021-11-15T05:00:11.325223Z"
    },
    "papermill": {
     "duration": 0.045526,
     "end_time": "2021-11-15T05:00:11.325759",
     "exception": false,
     "start_time": "2021-11-15T05:00:11.280233",
     "status": "completed"
    },
    "tags": []
   },
   "outputs": [],
   "source": [
    "df_pivot.columns = [\"stamp_1\", \"stamp_2\"]\n",
    "df_pivot_diff = df_pivot.diff(axis=1)"
   ]
  },
  {
   "cell_type": "code",
   "execution_count": 7,
   "id": "fifth-motion",
   "metadata": {
    "execution": {
     "iopub.execute_input": "2021-11-15T05:00:11.389455Z",
     "iopub.status.busy": "2021-11-15T05:00:11.386660Z",
     "iopub.status.idle": "2021-11-15T05:00:13.337250Z",
     "shell.execute_reply": "2021-11-15T05:00:13.339595Z"
    },
    "papermill": {
     "duration": 1.989602,
     "end_time": "2021-11-15T05:00:13.340592",
     "exception": false,
     "start_time": "2021-11-15T05:00:11.350990",
     "status": "completed"
    },
    "tags": []
   },
   "outputs": [
    {
     "data": {
      "text/plain": [
       "<AxesSubplot:ylabel='PRODUCT'>"
      ]
     },
     "execution_count": 7,
     "metadata": {},
     "output_type": "execute_result"
    },
    {
     "data": {
      "image/png": "[encoded data removed]",
      "text/plain": [
       "<Figure size 432x288 with 1 Axes>"
      ]
     },
     "metadata": {
      "needs_background": "light"
     },
     "output_type": "display_data"
    }
   ],
   "source": [
    "df_pivot_diff.sort_values(\"stamp_2\", ascending = False)[\"stamp_2\"].head(10).plot.barh()"
   ]
  },
  {
   "cell_type": "code",
   "execution_count": null,
   "id": "extra-executive",
   "metadata": {
    "papermill": {
     "duration": 0.034117,
     "end_time": "2021-11-15T05:00:13.413301",
     "exception": false,
     "start_time": "2021-11-15T05:00:13.379184",
     "status": "completed"
    },
    "tags": []
   },
   "outputs": [],
   "source": []
  }
 ],
 "metadata": {
  "kernelspec": {
   "display_name": "Python 3",
   "language": "python",
   "name": "python3"
  },
  "language_info": {
   "codemirror_mode": {
    "name": "ipython",
    "version": 3
   },
   "file_extension": ".py",
   "mimetype": "text/x-python",
   "name": "python",
   "nbconvert_exporter": "python",
   "pygments_lexer": "ipython3",
   "version": "3.9.5"
  },
  "papermill": {
   "default_parameters": {},
   "duration": 8.880318,
   "end_time": "2021-11-15T05:00:14.087313",
   "environment_variables": {},
   "exception": null,
   "input_path": "eBay_Overview.ipynb",
   "output_path": "eBay_Overview.ipynb",
   "parameters": {},
   "start_time": "2021-11-15T05:00:05.206995",
   "version": "2.3.3"
  }
 },
 "nbformat": 4,
 "nbformat_minor": 5
}