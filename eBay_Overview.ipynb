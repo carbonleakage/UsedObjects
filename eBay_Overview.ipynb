{
 "cells": [
  {
   "cell_type": "code",
   "execution_count": 1,
   "id": "reverse-picking",
   "metadata": {
    "execution": {
     "iopub.execute_input": "2021-08-19T12:00:07.074494Z",
     "iopub.status.busy": "2021-08-19T12:00:07.072445Z",
     "iopub.status.idle": "2021-08-19T12:00:07.881303Z",
     "shell.execute_reply": "2021-08-19T12:00:07.879771Z"
    },
    "papermill": {
     "duration": 0.860251,
     "end_time": "2021-08-19T12:00:07.881699",
     "exception": false,
     "start_time": "2021-08-19T12:00:07.021448",
     "status": "completed"
    },
    "tags": []
   },
   "outputs": [],
   "source": [
    "import pandas as pd\n",
    "import sqlite3"
   ]
  },
  {
   "cell_type": "code",
   "execution_count": 2,
   "id": "innovative-syndrome",
   "metadata": {
    "execution": {
     "iopub.execute_input": "2021-08-19T12:00:07.933455Z",
     "iopub.status.busy": "2021-08-19T12:00:07.931586Z",
     "iopub.status.idle": "2021-08-19T12:00:08.013323Z",
     "shell.execute_reply": "2021-08-19T12:00:08.014595Z"
    },
    "papermill": {
     "duration": 0.111487,
     "end_time": "2021-08-19T12:00:08.014997",
     "exception": false,
     "start_time": "2021-08-19T12:00:07.903510",
     "status": "completed"
    },
    "tags": []
   },
   "outputs": [],
   "source": [
    "timestamps = pd.read_sql(\"select distinct record_time from EBAY_TOP_BERLIN order by record_time desc limit 2\", sqlite3.connect(\"UsedObjects.db\"))"
   ]
  },
  {
   "cell_type": "code",
   "execution_count": 3,
   "id": "periodic-identification",
   "metadata": {
    "execution": {
     "iopub.execute_input": "2021-08-19T12:00:08.082448Z",
     "iopub.status.busy": "2021-08-19T12:00:08.080327Z",
     "iopub.status.idle": "2021-08-19T12:00:08.100097Z",
     "shell.execute_reply": "2021-08-19T12:00:08.101313Z"
    },
    "papermill": {
     "duration": 0.06503,
     "end_time": "2021-08-19T12:00:08.101699",
     "exception": false,
     "start_time": "2021-08-19T12:00:08.036669",
     "status": "completed"
    },
    "tags": []
   },
   "outputs": [
    {
     "data": {
      "text/html": [
       "<div>\n",
       "<style scoped>\n",
       "    .dataframe tbody tr th:only-of-type {\n",
       "        vertical-align: middle;\n",
       "    }\n",
       "\n",
       "    .dataframe tbody tr th {\n",
       "        vertical-align: top;\n",
       "    }\n",
       "\n",
       "    .dataframe thead th {\n",
       "        text-align: right;\n",
       "    }\n",
       "</style>\n",
       "<table border=\"1\" class=\"dataframe\">\n",
       "  <thead>\n",
       "    <tr style=\"text-align: right;\">\n",
       "      <th></th>\n",
       "      <th>RECORD_TIME</th>\n",
       "    </tr>\n",
       "  </thead>\n",
       "  <tbody>\n",
       "    <tr>\n",
       "      <th>0</th>\n",
       "      <td>2021-08-19 14:00</td>\n",
       "    </tr>\n",
       "    <tr>\n",
       "      <th>1</th>\n",
       "      <td>2021-08-19 13:30</td>\n",
       "    </tr>\n",
       "  </tbody>\n",
       "</table>\n",
       "</div>"
      ],
      "text/plain": [
       "        RECORD_TIME\n",
       "0  2021-08-19 14:00\n",
       "1  2021-08-19 13:30"
      ]
     },
     "execution_count": 3,
     "metadata": {},
     "output_type": "execute_result"
    }
   ],
   "source": [
    "timestamps"
   ]
  },
  {
   "cell_type": "code",
   "execution_count": 4,
   "id": "alternate-victory",
   "metadata": {
    "execution": {
     "iopub.execute_input": "2021-08-19T12:00:08.155620Z",
     "iopub.status.busy": "2021-08-19T12:00:08.153256Z",
     "iopub.status.idle": "2021-08-19T12:00:08.280054Z",
     "shell.execute_reply": "2021-08-19T12:00:08.281264Z"
    },
    "papermill": {
     "duration": 0.15726,
     "end_time": "2021-08-19T12:00:08.281657",
     "exception": false,
     "start_time": "2021-08-19T12:00:08.124397",
     "status": "completed"
    },
    "tags": []
   },
   "outputs": [],
   "source": [
    "df = pd.read_sql(\"select * from EBAY_TOP_BERLIN where record_time in (select distinct record_time from EBAY_TOP_BERLIN order by record_time desc limit 2)\", sqlite3.connect(\"UsedObjects.db\"))"
   ]
  },
  {
   "cell_type": "code",
   "execution_count": 5,
   "id": "popular-active",
   "metadata": {
    "execution": {
     "iopub.execute_input": "2021-08-19T12:00:08.351162Z",
     "iopub.status.busy": "2021-08-19T12:00:08.343699Z",
     "iopub.status.idle": "2021-08-19T12:00:08.371303Z",
     "shell.execute_reply": "2021-08-19T12:00:08.372541Z"
    },
    "papermill": {
     "duration": 0.068392,
     "end_time": "2021-08-19T12:00:08.372930",
     "exception": false,
     "start_time": "2021-08-19T12:00:08.304538",
     "status": "completed"
    },
    "tags": []
   },
   "outputs": [],
   "source": [
    "df_pivot = df.pivot_table(index=\"PRODUCT\", columns = \"RECORD_TIME\", values = \"LISTING_COUNT\")"
   ]
  },
  {
   "cell_type": "code",
   "execution_count": 6,
   "id": "union-huntington",
   "metadata": {
    "execution": {
     "iopub.execute_input": "2021-08-19T12:00:08.429368Z",
     "iopub.status.busy": "2021-08-19T12:00:08.427108Z",
     "iopub.status.idle": "2021-08-19T12:00:08.433209Z",
     "shell.execute_reply": "2021-08-19T12:00:08.434759Z"
    },
    "papermill": {
     "duration": 0.042239,
     "end_time": "2021-08-19T12:00:08.435229",
     "exception": false,
     "start_time": "2021-08-19T12:00:08.392990",
     "status": "completed"
    },
    "tags": []
   },
   "outputs": [],
   "source": [
    "df_pivot.columns = [\"stamp_1\", \"stamp_2\"]\n",
    "df_pivot_diff = df_pivot.diff(axis=1)"
   ]
  },
  {
   "cell_type": "code",
   "execution_count": 7,
   "id": "fifth-motion",
   "metadata": {
    "execution": {
     "iopub.execute_input": "2021-08-19T12:00:08.489588Z",
     "iopub.status.busy": "2021-08-19T12:00:08.487399Z",
     "iopub.status.idle": "2021-08-19T12:00:09.970519Z",
     "shell.execute_reply": "2021-08-19T12:00:09.971918Z"
    },
    "papermill": {
     "duration": 1.515928,
     "end_time": "2021-08-19T12:00:09.972339",
     "exception": false,
     "start_time": "2021-08-19T12:00:08.456411",
     "status": "completed"
    },
    "tags": []
   },
   "outputs": [
    {
     "data": {
      "text/plain": [
       "<AxesSubplot:ylabel='PRODUCT'>"
      ]
     },
     "execution_count": 7,
     "metadata": {},
     "output_type": "execute_result"
    },
    {
     "data": {
      "image/png": "[encoded data removed]",
      "text/plain": [
       "<Figure size 432x288 with 1 Axes>"
      ]
     },
     "metadata": {
      "needs_background": "light"
     },
     "output_type": "display_data"
    }
   ],
   "source": [
    "df_pivot_diff.sort_values(\"stamp_2\", ascending = False)[\"stamp_2\"].head(10).plot.barh()"
   ]
  },
  {
   "cell_type": "code",
   "execution_count": null,
   "id": "extra-executive",
   "metadata": {
    "papermill": {
     "duration": 0.022355,
     "end_time": "2021-08-19T12:00:10.019493",
     "exception": false,
     "start_time": "2021-08-19T12:00:09.997138",
     "status": "completed"
    },
    "tags": []
   },
   "outputs": [],
   "source": []
  }
 ],
 "metadata": {
  "kernelspec": {
   "display_name": "Python 3",
   "language": "python",
   "name": "python3"
  },
  "language_info": {
   "codemirror_mode": {
    "name": "ipython",
    "version": 3
   },
   "file_extension": ".py",
   "mimetype": "text/x-python",
   "name": "python",
   "nbconvert_exporter": "python",
   "pygments_lexer": "ipython3",
   "version": "3.9.5"
  },
  "papermill": {
   "default_parameters": {},
   "duration": 6.821961,
   "end_time": "2021-08-19T12:00:11.434599",
   "environment_variables": {},
   "exception": null,
   "input_path": "eBay_Overview.ipynb",
   "output_path": "eBay_Overview.ipynb",
   "parameters": {},
   "start_time": "2021-08-19T12:00:04.612638",
   "version": "2.3.3"
  }
 },
 "nbformat": 4,
 "nbformat_minor": 5
}