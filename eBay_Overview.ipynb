{
 "cells": [
  {
   "cell_type": "code",
   "execution_count": 1,
   "id": "reverse-picking",
   "metadata": {
    "execution": {
     "iopub.execute_input": "2021-09-27T12:30:06.801327Z",
     "iopub.status.busy": "2021-09-27T12:30:06.799215Z",
     "iopub.status.idle": "2021-09-27T12:30:07.605213Z",
     "shell.execute_reply": "2021-09-27T12:30:07.606473Z"
    },
    "papermill": {
     "duration": 0.856892,
     "end_time": "2021-09-27T12:30:07.607251",
     "exception": false,
     "start_time": "2021-09-27T12:30:06.750359",
     "status": "completed"
    },
    "tags": []
   },
   "outputs": [],
   "source": [
    "import pandas as pd\n",
    "import sqlite3"
   ]
  },
  {
   "cell_type": "code",
   "execution_count": 2,
   "id": "innovative-syndrome",
   "metadata": {
    "execution": {
     "iopub.execute_input": "2021-09-27T12:30:07.660615Z",
     "iopub.status.busy": "2021-09-27T12:30:07.658211Z",
     "iopub.status.idle": "2021-09-27T12:30:08.043079Z",
     "shell.execute_reply": "2021-09-27T12:30:08.044385Z"
    },
    "papermill": {
     "duration": 0.415167,
     "end_time": "2021-09-27T12:30:08.044794",
     "exception": false,
     "start_time": "2021-09-27T12:30:07.629627",
     "status": "completed"
    },
    "tags": []
   },
   "outputs": [],
   "source": [
    "timestamps = pd.read_sql(\"select distinct record_time from EBAY_TOP_BERLIN order by record_time desc limit 2\", sqlite3.connect(\"UsedObjects.db\"))"
   ]
  },
  {
   "cell_type": "code",
   "execution_count": 3,
   "id": "periodic-identification",
   "metadata": {
    "execution": {
     "iopub.execute_input": "2021-09-27T12:30:08.110625Z",
     "iopub.status.busy": "2021-09-27T12:30:08.108385Z",
     "iopub.status.idle": "2021-09-27T12:30:08.128659Z",
     "shell.execute_reply": "2021-09-27T12:30:08.129872Z"
    },
    "papermill": {
     "duration": 0.065832,
     "end_time": "2021-09-27T12:30:08.130264",
     "exception": false,
     "start_time": "2021-09-27T12:30:08.064432",
     "status": "completed"
    },
    "tags": []
   },
   "outputs": [
    {
     "data": {
      "text/html": [
       "<div>\n",
       "<style scoped>\n",
       "    .dataframe tbody tr th:only-of-type {\n",
       "        vertical-align: middle;\n",
       "    }\n",
       "\n",
       "    .dataframe tbody tr th {\n",
       "        vertical-align: top;\n",
       "    }\n",
       "\n",
       "    .dataframe thead th {\n",
       "        text-align: right;\n",
       "    }\n",
       "</style>\n",
       "<table border=\"1\" class=\"dataframe\">\n",
       "  <thead>\n",
       "    <tr style=\"text-align: right;\">\n",
       "      <th></th>\n",
       "      <th>RECORD_TIME</th>\n",
       "    </tr>\n",
       "  </thead>\n",
       "  <tbody>\n",
       "    <tr>\n",
       "      <th>0</th>\n",
       "      <td>2021-09-27 14:30</td>\n",
       "    </tr>\n",
       "    <tr>\n",
       "      <th>1</th>\n",
       "      <td>2021-09-27 14:00</td>\n",
       "    </tr>\n",
       "  </tbody>\n",
       "</table>\n",
       "</div>"
      ],
      "text/plain": [
       "        RECORD_TIME\n",
       "0  2021-09-27 14:30\n",
       "1  2021-09-27 14:00"
      ]
     },
     "execution_count": 3,
     "metadata": {},
     "output_type": "execute_result"
    }
   ],
   "source": [
    "timestamps"
   ]
  },
  {
   "cell_type": "code",
   "execution_count": 4,
   "id": "alternate-victory",
   "metadata": {
    "execution": {
     "iopub.execute_input": "2021-09-27T12:30:08.184342Z",
     "iopub.status.busy": "2021-09-27T12:30:08.181959Z",
     "iopub.status.idle": "2021-09-27T12:30:08.760295Z",
     "shell.execute_reply": "2021-09-27T12:30:08.761508Z"
    },
    "papermill": {
     "duration": 0.609003,
     "end_time": "2021-09-27T12:30:08.761900",
     "exception": false,
     "start_time": "2021-09-27T12:30:08.152897",
     "status": "completed"
    },
    "tags": []
   },
   "outputs": [],
   "source": [
    "df = pd.read_sql(\"select * from EBAY_TOP_BERLIN where record_time in (select distinct record_time from EBAY_TOP_BERLIN order by record_time desc limit 2)\", sqlite3.connect(\"UsedObjects.db\"))"
   ]
  },
  {
   "cell_type": "code",
   "execution_count": 5,
   "id": "popular-active",
   "metadata": {
    "execution": {
     "iopub.execute_input": "2021-09-27T12:30:08.834764Z",
     "iopub.status.busy": "2021-09-27T12:30:08.823554Z",
     "iopub.status.idle": "2021-09-27T12:30:08.850978Z",
     "shell.execute_reply": "2021-09-27T12:30:08.852283Z"
    },
    "papermill": {
     "duration": 0.06942,
     "end_time": "2021-09-27T12:30:08.852693",
     "exception": false,
     "start_time": "2021-09-27T12:30:08.783273",
     "status": "completed"
    },
    "tags": []
   },
   "outputs": [],
   "source": [
    "df_pivot = df.pivot_table(index=\"PRODUCT\", columns = \"RECORD_TIME\", values = \"LISTING_COUNT\")"
   ]
  },
  {
   "cell_type": "code",
   "execution_count": 6,
   "id": "union-huntington",
   "metadata": {
    "execution": {
     "iopub.execute_input": "2021-09-27T12:30:08.910459Z",
     "iopub.status.busy": "2021-09-27T12:30:08.908185Z",
     "iopub.status.idle": "2021-09-27T12:30:08.914110Z",
     "shell.execute_reply": "2021-09-27T12:30:08.915543Z"
    },
    "papermill": {
     "duration": 0.041647,
     "end_time": "2021-09-27T12:30:08.916032",
     "exception": false,
     "start_time": "2021-09-27T12:30:08.874385",
     "status": "completed"
    },
    "tags": []
   },
   "outputs": [],
   "source": [
    "df_pivot.columns = [\"stamp_1\", \"stamp_2\"]\n",
    "df_pivot_diff = df_pivot.diff(axis=1)"
   ]
  },
  {
   "cell_type": "code",
   "execution_count": 7,
   "id": "fifth-motion",
   "metadata": {
    "execution": {
     "iopub.execute_input": "2021-09-27T12:30:08.970344Z",
     "iopub.status.busy": "2021-09-27T12:30:08.967974Z",
     "iopub.status.idle": "2021-09-27T12:30:10.471725Z",
     "shell.execute_reply": "2021-09-27T12:30:10.473023Z"
    },
    "papermill": {
     "duration": 1.536314,
     "end_time": "2021-09-27T12:30:10.473435",
     "exception": false,
     "start_time": "2021-09-27T12:30:08.937121",
     "status": "completed"
    },
    "tags": []
   },
   "outputs": [
    {
     "data": {
      "text/plain": [
       "<AxesSubplot:ylabel='PRODUCT'>"
      ]
     },
     "execution_count": 7,
     "metadata": {},
     "output_type": "execute_result"
    },
    {
     "data": {
      "image/png": "[encoded data removed]",
      "text/plain": [
       "<Figure size 432x288 with 1 Axes>"
      ]
     },
     "metadata": {
      "needs_background": "light"
     },
     "output_type": "display_data"
    }
   ],
   "source": [
    "df_pivot_diff.sort_values(\"stamp_2\", ascending = False)[\"stamp_2\"].head(10).plot.barh()"
   ]
  },
  {
   "cell_type": "code",
   "execution_count": null,
   "id": "extra-executive",
   "metadata": {
    "papermill": {
     "duration": 0.022338,
     "end_time": "2021-09-27T12:30:10.520675",
     "exception": false,
     "start_time": "2021-09-27T12:30:10.498337",
     "status": "completed"
    },
    "tags": []
   },
   "outputs": [],
   "source": []
  }
 ],
 "metadata": {
  "kernelspec": {
   "display_name": "Python 3",
   "language": "python",
   "name": "python3"
  },
  "language_info": {
   "codemirror_mode": {
    "name": "ipython",
    "version": 3
   },
   "file_extension": ".py",
   "mimetype": "text/x-python",
   "name": "python",
   "nbconvert_exporter": "python",
   "pygments_lexer": "ipython3",
   "version": "3.9.5"
  },
  "papermill": {
   "default_parameters": {},
   "duration": 6.813626,
   "end_time": "2021-09-27T12:30:11.161482",
   "environment_variables": {},
   "exception": null,
   "input_path": "eBay_Overview.ipynb",
   "output_path": "eBay_Overview.ipynb",
   "parameters": {},
   "start_time": "2021-09-27T12:30:04.347856",
   "version": "2.3.3"
  }
 },
 "nbformat": 4,
 "nbformat_minor": 5
}