{
 "cells": [
  {
   "cell_type": "code",
   "execution_count": 1,
   "id": "reverse-picking",
   "metadata": {
    "execution": {
     "iopub.execute_input": "2021-11-27T06:30:08.043707Z",
     "iopub.status.busy": "2021-11-27T06:30:08.039955Z",
     "iopub.status.idle": "2021-11-27T06:30:08.961038Z",
     "shell.execute_reply": "2021-11-27T06:30:08.963285Z"
    },
    "papermill": {
     "duration": 0.974281,
     "end_time": "2021-11-27T06:30:08.964037",
     "exception": false,
     "start_time": "2021-11-27T06:30:07.989756",
     "status": "completed"
    },
    "tags": []
   },
   "outputs": [],
   "source": [
    "import pandas as pd\n",
    "import sqlite3"
   ]
  },
  {
   "cell_type": "code",
   "execution_count": 2,
   "id": "innovative-syndrome",
   "metadata": {
    "execution": {
     "iopub.execute_input": "2021-11-27T06:30:09.025957Z",
     "iopub.status.busy": "2021-11-27T06:30:09.023679Z",
     "iopub.status.idle": "2021-11-27T06:30:09.958584Z",
     "shell.execute_reply": "2021-11-27T06:30:09.959995Z"
    },
    "papermill": {
     "duration": 0.96922,
     "end_time": "2021-11-27T06:30:09.960486",
     "exception": false,
     "start_time": "2021-11-27T06:30:08.991266",
     "status": "completed"
    },
    "tags": []
   },
   "outputs": [],
   "source": [
    "timestamps = pd.read_sql(\"select distinct record_time from EBAY_TOP_BERLIN order by record_time desc limit 2\", sqlite3.connect(\"UsedObjects.db\"))"
   ]
  },
  {
   "cell_type": "code",
   "execution_count": 3,
   "id": "periodic-identification",
   "metadata": {
    "execution": {
     "iopub.execute_input": "2021-11-27T06:30:10.032019Z",
     "iopub.status.busy": "2021-11-27T06:30:10.029444Z",
     "iopub.status.idle": "2021-11-27T06:30:10.052758Z",
     "shell.execute_reply": "2021-11-27T06:30:10.054305Z"
    },
    "papermill": {
     "duration": 0.073751,
     "end_time": "2021-11-27T06:30:10.054872",
     "exception": false,
     "start_time": "2021-11-27T06:30:09.981121",
     "status": "completed"
    },
    "tags": []
   },
   "outputs": [
    {
     "data": {
      "text/html": [
       "<div>\n",
       "<style scoped>\n",
       "    .dataframe tbody tr th:only-of-type {\n",
       "        vertical-align: middle;\n",
       "    }\n",
       "\n",
       "    .dataframe tbody tr th {\n",
       "        vertical-align: top;\n",
       "    }\n",
       "\n",
       "    .dataframe thead th {\n",
       "        text-align: right;\n",
       "    }\n",
       "</style>\n",
       "<table border=\"1\" class=\"dataframe\">\n",
       "  <thead>\n",
       "    <tr style=\"text-align: right;\">\n",
       "      <th></th>\n",
       "      <th>RECORD_TIME</th>\n",
       "    </tr>\n",
       "  </thead>\n",
       "  <tbody>\n",
       "    <tr>\n",
       "      <th>0</th>\n",
       "      <td>2021-11-27 07:30</td>\n",
       "    </tr>\n",
       "    <tr>\n",
       "      <th>1</th>\n",
       "      <td>2021-11-27 07:00</td>\n",
       "    </tr>\n",
       "  </tbody>\n",
       "</table>\n",
       "</div>"
      ],
      "text/plain": [
       "        RECORD_TIME\n",
       "0  2021-11-27 07:30\n",
       "1  2021-11-27 07:00"
      ]
     },
     "execution_count": 3,
     "metadata": {},
     "output_type": "execute_result"
    }
   ],
   "source": [
    "timestamps"
   ]
  },
  {
   "cell_type": "code",
   "execution_count": 4,
   "id": "alternate-victory",
   "metadata": {
    "execution": {
     "iopub.execute_input": "2021-11-27T06:30:10.111762Z",
     "iopub.status.busy": "2021-11-27T06:30:10.109474Z",
     "iopub.status.idle": "2021-11-27T06:30:11.434527Z",
     "shell.execute_reply": "2021-11-27T06:30:11.436172Z"
    },
    "papermill": {
     "duration": 1.357352,
     "end_time": "2021-11-27T06:30:11.436795",
     "exception": false,
     "start_time": "2021-11-27T06:30:10.079443",
     "status": "completed"
    },
    "tags": []
   },
   "outputs": [],
   "source": [
    "df = pd.read_sql(\"select * from EBAY_TOP_BERLIN where record_time in (select distinct record_time from EBAY_TOP_BERLIN order by record_time desc limit 2)\", sqlite3.connect(\"UsedObjects.db\"))"
   ]
  },
  {
   "cell_type": "code",
   "execution_count": 5,
   "id": "popular-active",
   "metadata": {
    "execution": {
     "iopub.execute_input": "2021-11-27T06:30:11.517659Z",
     "iopub.status.busy": "2021-11-27T06:30:11.502152Z",
     "iopub.status.idle": "2021-11-27T06:30:11.535197Z",
     "shell.execute_reply": "2021-11-27T06:30:11.536571Z"
    },
    "papermill": {
     "duration": 0.078941,
     "end_time": "2021-11-27T06:30:11.537167",
     "exception": false,
     "start_time": "2021-11-27T06:30:11.458226",
     "status": "completed"
    },
    "tags": []
   },
   "outputs": [],
   "source": [
    "df_pivot = df.pivot_table(index=\"PRODUCT\", columns = \"RECORD_TIME\", values = \"LISTING_COUNT\")"
   ]
  },
  {
   "cell_type": "code",
   "execution_count": 6,
   "id": "union-huntington",
   "metadata": {
    "execution": {
     "iopub.execute_input": "2021-11-27T06:30:11.595550Z",
     "iopub.status.busy": "2021-11-27T06:30:11.593284Z",
     "iopub.status.idle": "2021-11-27T06:30:11.598834Z",
     "shell.execute_reply": "2021-11-27T06:30:11.600313Z"
    },
    "papermill": {
     "duration": 0.043664,
     "end_time": "2021-11-27T06:30:11.600835",
     "exception": false,
     "start_time": "2021-11-27T06:30:11.557171",
     "status": "completed"
    },
    "tags": []
   },
   "outputs": [],
   "source": [
    "df_pivot.columns = [\"stamp_1\", \"stamp_2\"]\n",
    "df_pivot_diff = df_pivot.diff(axis=1)"
   ]
  },
  {
   "cell_type": "code",
   "execution_count": 7,
   "id": "fifth-motion",
   "metadata": {
    "execution": {
     "iopub.execute_input": "2021-11-27T06:30:11.661449Z",
     "iopub.status.busy": "2021-11-27T06:30:11.658808Z",
     "iopub.status.idle": "2021-11-27T06:30:13.618618Z",
     "shell.execute_reply": "2021-11-27T06:30:13.621772Z"
    },
    "papermill": {
     "duration": 2.001462,
     "end_time": "2021-11-27T06:30:13.622649",
     "exception": false,
     "start_time": "2021-11-27T06:30:11.621187",
     "status": "completed"
    },
    "tags": []
   },
   "outputs": [
    {
     "data": {
      "text/plain": [
       "<AxesSubplot:ylabel='PRODUCT'>"
      ]
     },
     "execution_count": 7,
     "metadata": {},
     "output_type": "execute_result"
    },
    {
     "data": {
      "image/png": "[encoded data removed]",
      "text/plain": [
       "<Figure size 432x288 with 1 Axes>"
      ]
     },
     "metadata": {
      "needs_background": "light"
     },
     "output_type": "display_data"
    }
   ],
   "source": [
    "df_pivot_diff.sort_values(\"stamp_2\", ascending = False)[\"stamp_2\"].head(10).plot.barh()"
   ]
  },
  {
   "cell_type": "code",
   "execution_count": null,
   "id": "extra-executive",
   "metadata": {
    "papermill": {
     "duration": 0.035194,
     "end_time": "2021-11-27T06:30:13.695448",
     "exception": false,
     "start_time": "2021-11-27T06:30:13.660254",
     "status": "completed"
    },
    "tags": []
   },
   "outputs": [],
   "source": []
  }
 ],
 "metadata": {
  "kernelspec": {
   "display_name": "Python 3",
   "language": "python",
   "name": "python3"
  },
  "language_info": {
   "codemirror_mode": {
    "name": "ipython",
    "version": 3
   },
   "file_extension": ".py",
   "mimetype": "text/x-python",
   "name": "python",
   "nbconvert_exporter": "python",
   "pygments_lexer": "ipython3",
   "version": "3.9.5"
  },
  "papermill": {
   "default_parameters": {},
   "duration": 9.943316,
   "end_time": "2021-11-27T06:30:15.188568",
   "environment_variables": {},
   "exception": null,
   "input_path": "eBay_Overview.ipynb",
   "output_path": "eBay_Overview.ipynb",
   "parameters": {},
   "start_time": "2021-11-27T06:30:05.245252",
   "version": "2.3.3"
  }
 },
 "nbformat": 4,
 "nbformat_minor": 5
}