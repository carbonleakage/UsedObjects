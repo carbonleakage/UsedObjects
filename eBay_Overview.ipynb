{
 "cells": [
  {
   "cell_type": "code",
   "execution_count": 1,
   "id": "reverse-picking",
   "metadata": {
    "execution": {
     "iopub.execute_input": "2021-09-07T08:00:06.924970Z",
     "iopub.status.busy": "2021-09-07T08:00:06.923039Z",
     "iopub.status.idle": "2021-09-07T08:00:07.729071Z",
     "shell.execute_reply": "2021-09-07T08:00:07.730213Z"
    },
    "papermill": {
     "duration": 0.857951,
     "end_time": "2021-09-07T08:00:07.730829",
     "exception": false,
     "start_time": "2021-09-07T08:00:06.872878",
     "status": "completed"
    },
    "tags": []
   },
   "outputs": [],
   "source": [
    "import pandas as pd\n",
    "import sqlite3"
   ]
  },
  {
   "cell_type": "code",
   "execution_count": 2,
   "id": "innovative-syndrome",
   "metadata": {
    "execution": {
     "iopub.execute_input": "2021-09-07T08:00:07.781885Z",
     "iopub.status.busy": "2021-09-07T08:00:07.780042Z",
     "iopub.status.idle": "2021-09-07T08:00:08.007340Z",
     "shell.execute_reply": "2021-09-07T08:00:08.008541Z"
    },
    "papermill": {
     "duration": 0.256641,
     "end_time": "2021-09-07T08:00:08.008930",
     "exception": false,
     "start_time": "2021-09-07T08:00:07.752289",
     "status": "completed"
    },
    "tags": []
   },
   "outputs": [],
   "source": [
    "timestamps = pd.read_sql(\"select distinct record_time from EBAY_TOP_BERLIN order by record_time desc limit 2\", sqlite3.connect(\"UsedObjects.db\"))"
   ]
  },
  {
   "cell_type": "code",
   "execution_count": 3,
   "id": "periodic-identification",
   "metadata": {
    "execution": {
     "iopub.execute_input": "2021-09-07T08:00:08.077195Z",
     "iopub.status.busy": "2021-09-07T08:00:08.075185Z",
     "iopub.status.idle": "2021-09-07T08:00:08.095651Z",
     "shell.execute_reply": "2021-09-07T08:00:08.097165Z"
    },
    "papermill": {
     "duration": 0.06641,
     "end_time": "2021-09-07T08:00:08.097626",
     "exception": false,
     "start_time": "2021-09-07T08:00:08.031216",
     "status": "completed"
    },
    "tags": []
   },
   "outputs": [
    {
     "data": {
      "text/html": [
       "<div>\n",
       "<style scoped>\n",
       "    .dataframe tbody tr th:only-of-type {\n",
       "        vertical-align: middle;\n",
       "    }\n",
       "\n",
       "    .dataframe tbody tr th {\n",
       "        vertical-align: top;\n",
       "    }\n",
       "\n",
       "    .dataframe thead th {\n",
       "        text-align: right;\n",
       "    }\n",
       "</style>\n",
       "<table border=\"1\" class=\"dataframe\">\n",
       "  <thead>\n",
       "    <tr style=\"text-align: right;\">\n",
       "      <th></th>\n",
       "      <th>RECORD_TIME</th>\n",
       "    </tr>\n",
       "  </thead>\n",
       "  <tbody>\n",
       "    <tr>\n",
       "      <th>0</th>\n",
       "      <td>2021-09-07 10:00</td>\n",
       "    </tr>\n",
       "    <tr>\n",
       "      <th>1</th>\n",
       "      <td>2021-09-07 09:30</td>\n",
       "    </tr>\n",
       "  </tbody>\n",
       "</table>\n",
       "</div>"
      ],
      "text/plain": [
       "        RECORD_TIME\n",
       "0  2021-09-07 10:00\n",
       "1  2021-09-07 09:30"
      ]
     },
     "execution_count": 3,
     "metadata": {},
     "output_type": "execute_result"
    }
   ],
   "source": [
    "timestamps"
   ]
  },
  {
   "cell_type": "code",
   "execution_count": 4,
   "id": "alternate-victory",
   "metadata": {
    "execution": {
     "iopub.execute_input": "2021-09-07T08:00:08.148765Z",
     "iopub.status.busy": "2021-09-07T08:00:08.146949Z",
     "iopub.status.idle": "2021-09-07T08:00:08.484147Z",
     "shell.execute_reply": "2021-09-07T08:00:08.485356Z"
    },
    "papermill": {
     "duration": 0.366724,
     "end_time": "2021-09-07T08:00:08.485743",
     "exception": false,
     "start_time": "2021-09-07T08:00:08.119019",
     "status": "completed"
    },
    "tags": []
   },
   "outputs": [],
   "source": [
    "df = pd.read_sql(\"select * from EBAY_TOP_BERLIN where record_time in (select distinct record_time from EBAY_TOP_BERLIN order by record_time desc limit 2)\", sqlite3.connect(\"UsedObjects.db\"))"
   ]
  },
  {
   "cell_type": "code",
   "execution_count": 5,
   "id": "popular-active",
   "metadata": {
    "execution": {
     "iopub.execute_input": "2021-09-07T08:00:08.563709Z",
     "iopub.status.busy": "2021-09-07T08:00:08.551098Z",
     "iopub.status.idle": "2021-09-07T08:00:08.580457Z",
     "shell.execute_reply": "2021-09-07T08:00:08.581798Z"
    },
    "papermill": {
     "duration": 0.070837,
     "end_time": "2021-09-07T08:00:08.582226",
     "exception": false,
     "start_time": "2021-09-07T08:00:08.511389",
     "status": "completed"
    },
    "tags": []
   },
   "outputs": [],
   "source": [
    "df_pivot = df.pivot_table(index=\"PRODUCT\", columns = \"RECORD_TIME\", values = \"LISTING_COUNT\")"
   ]
  },
  {
   "cell_type": "code",
   "execution_count": 6,
   "id": "union-huntington",
   "metadata": {
    "execution": {
     "iopub.execute_input": "2021-09-07T08:00:08.639150Z",
     "iopub.status.busy": "2021-09-07T08:00:08.636708Z",
     "iopub.status.idle": "2021-09-07T08:00:08.642537Z",
     "shell.execute_reply": "2021-09-07T08:00:08.643878Z"
    },
    "papermill": {
     "duration": 0.042168,
     "end_time": "2021-09-07T08:00:08.644288",
     "exception": false,
     "start_time": "2021-09-07T08:00:08.602120",
     "status": "completed"
    },
    "tags": []
   },
   "outputs": [],
   "source": [
    "df_pivot.columns = [\"stamp_1\", \"stamp_2\"]\n",
    "df_pivot_diff = df_pivot.diff(axis=1)"
   ]
  },
  {
   "cell_type": "code",
   "execution_count": 7,
   "id": "fifth-motion",
   "metadata": {
    "execution": {
     "iopub.execute_input": "2021-09-07T08:00:08.698130Z",
     "iopub.status.busy": "2021-09-07T08:00:08.695879Z",
     "iopub.status.idle": "2021-09-07T08:00:10.180970Z",
     "shell.execute_reply": "2021-09-07T08:00:10.182230Z"
    },
    "papermill": {
     "duration": 1.517919,
     "end_time": "2021-09-07T08:00:10.182642",
     "exception": false,
     "start_time": "2021-09-07T08:00:08.664723",
     "status": "completed"
    },
    "tags": []
   },
   "outputs": [
    {
     "data": {
      "text/plain": [
       "<AxesSubplot:ylabel='PRODUCT'>"
      ]
     },
     "execution_count": 7,
     "metadata": {},
     "output_type": "execute_result"
    },
    {
     "data": {
      "image/png": "[encoded data removed]",
      "text/plain": [
       "<Figure size 432x288 with 1 Axes>"
      ]
     },
     "metadata": {
      "needs_background": "light"
     },
     "output_type": "display_data"
    }
   ],
   "source": [
    "df_pivot_diff.sort_values(\"stamp_2\", ascending = False)[\"stamp_2\"].head(10).plot.barh()"
   ]
  },
  {
   "cell_type": "code",
   "execution_count": null,
   "id": "extra-executive",
   "metadata": {
    "papermill": {
     "duration": 0.022044,
     "end_time": "2021-09-07T08:00:10.228539",
     "exception": false,
     "start_time": "2021-09-07T08:00:10.206495",
     "status": "completed"
    },
    "tags": []
   },
   "outputs": [],
   "source": []
  }
 ],
 "metadata": {
  "kernelspec": {
   "display_name": "Python 3",
   "language": "python",
   "name": "python3"
  },
  "language_info": {
   "codemirror_mode": {
    "name": "ipython",
    "version": 3
   },
   "file_extension": ".py",
   "mimetype": "text/x-python",
   "name": "python",
   "nbconvert_exporter": "python",
   "pygments_lexer": "ipython3",
   "version": "3.9.5"
  },
  "papermill": {
   "default_parameters": {},
   "duration": 6.407405,
   "end_time": "2021-09-07T08:00:10.869323",
   "environment_variables": {},
   "exception": null,
   "input_path": "eBay_Overview.ipynb",
   "output_path": "eBay_Overview.ipynb",
   "parameters": {},
   "start_time": "2021-09-07T08:00:04.461918",
   "version": "2.3.3"
  }
 },
 "nbformat": 4,
 "nbformat_minor": 5
}