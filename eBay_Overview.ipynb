{
 "cells": [
  {
   "cell_type": "code",
   "execution_count": 1,
   "id": "reverse-picking",
   "metadata": {
    "execution": {
     "iopub.execute_input": "2021-10-30T01:00:07.065530Z",
     "iopub.status.busy": "2021-10-30T01:00:07.063556Z",
     "iopub.status.idle": "2021-10-30T01:00:07.866601Z",
     "shell.execute_reply": "2021-10-30T01:00:07.867895Z"
    },
    "papermill": {
     "duration": 0.85507,
     "end_time": "2021-10-30T01:00:07.868531",
     "exception": false,
     "start_time": "2021-10-30T01:00:07.013461",
     "status": "completed"
    },
    "tags": []
   },
   "outputs": [],
   "source": [
    "import pandas as pd\n",
    "import sqlite3"
   ]
  },
  {
   "cell_type": "code",
   "execution_count": 2,
   "id": "innovative-syndrome",
   "metadata": {
    "execution": {
     "iopub.execute_input": "2021-10-30T01:00:07.919686Z",
     "iopub.status.busy": "2021-10-30T01:00:07.917670Z",
     "iopub.status.idle": "2021-10-30T01:00:08.574612Z",
     "shell.execute_reply": "2021-10-30T01:00:08.575872Z"
    },
    "papermill": {
     "duration": 0.687304,
     "end_time": "2021-10-30T01:00:08.576283",
     "exception": false,
     "start_time": "2021-10-30T01:00:07.888979",
     "status": "completed"
    },
    "tags": []
   },
   "outputs": [],
   "source": [
    "timestamps = pd.read_sql(\"select distinct record_time from EBAY_TOP_BERLIN order by record_time desc limit 2\", sqlite3.connect(\"UsedObjects.db\"))"
   ]
  },
  {
   "cell_type": "code",
   "execution_count": 3,
   "id": "periodic-identification",
   "metadata": {
    "execution": {
     "iopub.execute_input": "2021-10-30T01:00:08.771705Z",
     "iopub.status.busy": "2021-10-30T01:00:08.769701Z",
     "iopub.status.idle": "2021-10-30T01:00:08.791827Z",
     "shell.execute_reply": "2021-10-30T01:00:08.789931Z"
    },
    "papermill": {
     "duration": 0.073699,
     "end_time": "2021-10-30T01:00:08.792285",
     "exception": false,
     "start_time": "2021-10-30T01:00:08.718586",
     "status": "completed"
    },
    "tags": []
   },
   "outputs": [
    {
     "data": {
      "text/html": [
       "<div>\n",
       "<style scoped>\n",
       "    .dataframe tbody tr th:only-of-type {\n",
       "        vertical-align: middle;\n",
       "    }\n",
       "\n",
       "    .dataframe tbody tr th {\n",
       "        vertical-align: top;\n",
       "    }\n",
       "\n",
       "    .dataframe thead th {\n",
       "        text-align: right;\n",
       "    }\n",
       "</style>\n",
       "<table border=\"1\" class=\"dataframe\">\n",
       "  <thead>\n",
       "    <tr style=\"text-align: right;\">\n",
       "      <th></th>\n",
       "      <th>RECORD_TIME</th>\n",
       "    </tr>\n",
       "  </thead>\n",
       "  <tbody>\n",
       "    <tr>\n",
       "      <th>0</th>\n",
       "      <td>2021-10-30 03:00</td>\n",
       "    </tr>\n",
       "    <tr>\n",
       "      <th>1</th>\n",
       "      <td>2021-10-30 02:30</td>\n",
       "    </tr>\n",
       "  </tbody>\n",
       "</table>\n",
       "</div>"
      ],
      "text/plain": [
       "        RECORD_TIME\n",
       "0  2021-10-30 03:00\n",
       "1  2021-10-30 02:30"
      ]
     },
     "execution_count": 3,
     "metadata": {},
     "output_type": "execute_result"
    }
   ],
   "source": [
    "timestamps"
   ]
  },
  {
   "cell_type": "code",
   "execution_count": 4,
   "id": "alternate-victory",
   "metadata": {
    "execution": {
     "iopub.execute_input": "2021-10-30T01:00:08.845302Z",
     "iopub.status.busy": "2021-10-30T01:00:08.843381Z",
     "iopub.status.idle": "2021-10-30T01:00:09.827697Z",
     "shell.execute_reply": "2021-10-30T01:00:09.826392Z"
    },
    "papermill": {
     "duration": 1.01305,
     "end_time": "2021-10-30T01:00:09.828028",
     "exception": false,
     "start_time": "2021-10-30T01:00:08.814978",
     "status": "completed"
    },
    "tags": []
   },
   "outputs": [],
   "source": [
    "df = pd.read_sql(\"select * from EBAY_TOP_BERLIN where record_time in (select distinct record_time from EBAY_TOP_BERLIN order by record_time desc limit 2)\", sqlite3.connect(\"UsedObjects.db\"))"
   ]
  },
  {
   "cell_type": "code",
   "execution_count": 5,
   "id": "popular-active",
   "metadata": {
    "execution": {
     "iopub.execute_input": "2021-10-30T01:00:09.901870Z",
     "iopub.status.busy": "2021-10-30T01:00:09.889537Z",
     "iopub.status.idle": "2021-10-30T01:00:09.917293Z",
     "shell.execute_reply": "2021-10-30T01:00:09.918508Z"
    },
    "papermill": {
     "duration": 0.068206,
     "end_time": "2021-10-30T01:00:09.918900",
     "exception": false,
     "start_time": "2021-10-30T01:00:09.850694",
     "status": "completed"
    },
    "tags": []
   },
   "outputs": [],
   "source": [
    "df_pivot = df.pivot_table(index=\"PRODUCT\", columns = \"RECORD_TIME\", values = \"LISTING_COUNT\")"
   ]
  },
  {
   "cell_type": "code",
   "execution_count": 6,
   "id": "union-huntington",
   "metadata": {
    "execution": {
     "iopub.execute_input": "2021-10-30T01:00:09.977066Z",
     "iopub.status.busy": "2021-10-30T01:00:09.974777Z",
     "iopub.status.idle": "2021-10-30T01:00:09.980586Z",
     "shell.execute_reply": "2021-10-30T01:00:09.981929Z"
    },
    "papermill": {
     "duration": 0.041748,
     "end_time": "2021-10-30T01:00:09.982351",
     "exception": false,
     "start_time": "2021-10-30T01:00:09.940603",
     "status": "completed"
    },
    "tags": []
   },
   "outputs": [],
   "source": [
    "df_pivot.columns = [\"stamp_1\", \"stamp_2\"]\n",
    "df_pivot_diff = df_pivot.diff(axis=1)"
   ]
  },
  {
   "cell_type": "code",
   "execution_count": 7,
   "id": "fifth-motion",
   "metadata": {
    "execution": {
     "iopub.execute_input": "2021-10-30T01:00:10.036258Z",
     "iopub.status.busy": "2021-10-30T01:00:10.034102Z",
     "iopub.status.idle": "2021-10-30T01:00:11.528882Z",
     "shell.execute_reply": "2021-10-30T01:00:11.530239Z"
    },
    "papermill": {
     "duration": 1.527491,
     "end_time": "2021-10-30T01:00:11.530680",
     "exception": false,
     "start_time": "2021-10-30T01:00:10.003189",
     "status": "completed"
    },
    "tags": []
   },
   "outputs": [
    {
     "data": {
      "text/plain": [
       "<AxesSubplot:ylabel='PRODUCT'>"
      ]
     },
     "execution_count": 7,
     "metadata": {},
     "output_type": "execute_result"
    },
    {
     "data": {
      "image/png": "[encoded data removed]",
      "text/plain": [
       "<Figure size 432x288 with 1 Axes>"
      ]
     },
     "metadata": {
      "needs_background": "light"
     },
     "output_type": "display_data"
    }
   ],
   "source": [
    "df_pivot_diff.sort_values(\"stamp_2\", ascending = False)[\"stamp_2\"].head(10).plot.barh()"
   ]
  },
  {
   "cell_type": "code",
   "execution_count": null,
   "id": "extra-executive",
   "metadata": {
    "papermill": {
     "duration": 0.022451,
     "end_time": "2021-10-30T01:00:11.578409",
     "exception": false,
     "start_time": "2021-10-30T01:00:11.555958",
     "status": "completed"
    },
    "tags": []
   },
   "outputs": [],
   "source": []
  }
 ],
 "metadata": {
  "kernelspec": {
   "display_name": "Python 3",
   "language": "python",
   "name": "python3"
  },
  "language_info": {
   "codemirror_mode": {
    "name": "ipython",
    "version": 3
   },
   "file_extension": ".py",
   "mimetype": "text/x-python",
   "name": "python",
   "nbconvert_exporter": "python",
   "pygments_lexer": "ipython3",
   "version": "3.9.5"
  },
  "papermill": {
   "default_parameters": {},
   "duration": 7.601355,
   "end_time": "2021-10-30T01:00:12.222429",
   "environment_variables": {},
   "exception": null,
   "input_path": "eBay_Overview.ipynb",
   "output_path": "eBay_Overview.ipynb",
   "parameters": {},
   "start_time": "2021-10-30T01:00:04.621074",
   "version": "2.3.3"
  }
 },
 "nbformat": 4,
 "nbformat_minor": 5
}