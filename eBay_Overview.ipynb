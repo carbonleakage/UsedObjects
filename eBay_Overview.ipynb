{
 "cells": [
  {
   "cell_type": "code",
   "execution_count": 1,
   "id": "reverse-picking",
   "metadata": {
    "execution": {
     "iopub.execute_input": "2021-10-31T02:30:06.666593Z",
     "iopub.status.busy": "2021-10-31T02:30:06.664589Z",
     "iopub.status.idle": "2021-10-31T02:30:07.469548Z",
     "shell.execute_reply": "2021-10-31T02:30:07.470818Z"
    },
    "papermill": {
     "duration": 0.858316,
     "end_time": "2021-10-31T02:30:07.471421",
     "exception": false,
     "start_time": "2021-10-31T02:30:06.613105",
     "status": "completed"
    },
    "tags": []
   },
   "outputs": [],
   "source": [
    "import pandas as pd\n",
    "import sqlite3"
   ]
  },
  {
   "cell_type": "code",
   "execution_count": 2,
   "id": "innovative-syndrome",
   "metadata": {
    "execution": {
     "iopub.execute_input": "2021-10-31T02:30:07.522375Z",
     "iopub.status.busy": "2021-10-31T02:30:07.520265Z",
     "iopub.status.idle": "2021-10-31T02:30:08.204402Z",
     "shell.execute_reply": "2021-10-31T02:30:08.205839Z"
    },
    "papermill": {
     "duration": 0.713641,
     "end_time": "2021-10-31T02:30:08.206251",
     "exception": false,
     "start_time": "2021-10-31T02:30:07.492610",
     "status": "completed"
    },
    "tags": []
   },
   "outputs": [],
   "source": [
    "timestamps = pd.read_sql(\"select distinct record_time from EBAY_TOP_BERLIN order by record_time desc limit 2\", sqlite3.connect(\"UsedObjects.db\"))"
   ]
  },
  {
   "cell_type": "code",
   "execution_count": 3,
   "id": "periodic-identification",
   "metadata": {
    "execution": {
     "iopub.execute_input": "2021-10-31T02:30:08.283095Z",
     "iopub.status.busy": "2021-10-31T02:30:08.281083Z",
     "iopub.status.idle": "2021-10-31T02:30:08.300844Z",
     "shell.execute_reply": "2021-10-31T02:30:08.302216Z"
    },
    "papermill": {
     "duration": 0.06847,
     "end_time": "2021-10-31T02:30:08.302627",
     "exception": false,
     "start_time": "2021-10-31T02:30:08.234157",
     "status": "completed"
    },
    "tags": []
   },
   "outputs": [
    {
     "data": {
      "text/html": [
       "<div>\n",
       "<style scoped>\n",
       "    .dataframe tbody tr th:only-of-type {\n",
       "        vertical-align: middle;\n",
       "    }\n",
       "\n",
       "    .dataframe tbody tr th {\n",
       "        vertical-align: top;\n",
       "    }\n",
       "\n",
       "    .dataframe thead th {\n",
       "        text-align: right;\n",
       "    }\n",
       "</style>\n",
       "<table border=\"1\" class=\"dataframe\">\n",
       "  <thead>\n",
       "    <tr style=\"text-align: right;\">\n",
       "      <th></th>\n",
       "      <th>RECORD_TIME</th>\n",
       "    </tr>\n",
       "  </thead>\n",
       "  <tbody>\n",
       "    <tr>\n",
       "      <th>0</th>\n",
       "      <td>2021-10-31 03:30</td>\n",
       "    </tr>\n",
       "    <tr>\n",
       "      <th>1</th>\n",
       "      <td>2021-10-31 03:00</td>\n",
       "    </tr>\n",
       "  </tbody>\n",
       "</table>\n",
       "</div>"
      ],
      "text/plain": [
       "        RECORD_TIME\n",
       "0  2021-10-31 03:30\n",
       "1  2021-10-31 03:00"
      ]
     },
     "execution_count": 3,
     "metadata": {},
     "output_type": "execute_result"
    }
   ],
   "source": [
    "timestamps"
   ]
  },
  {
   "cell_type": "code",
   "execution_count": 4,
   "id": "alternate-victory",
   "metadata": {
    "execution": {
     "iopub.execute_input": "2021-10-31T02:30:08.354392Z",
     "iopub.status.busy": "2021-10-31T02:30:08.352443Z",
     "iopub.status.idle": "2021-10-31T02:30:09.366255Z",
     "shell.execute_reply": "2021-10-31T02:30:09.364776Z"
    },
    "papermill": {
     "duration": 1.042209,
     "end_time": "2021-10-31T02:30:09.366619",
     "exception": false,
     "start_time": "2021-10-31T02:30:08.324410",
     "status": "completed"
    },
    "tags": []
   },
   "outputs": [],
   "source": [
    "df = pd.read_sql(\"select * from EBAY_TOP_BERLIN where record_time in (select distinct record_time from EBAY_TOP_BERLIN order by record_time desc limit 2)\", sqlite3.connect(\"UsedObjects.db\"))"
   ]
  },
  {
   "cell_type": "code",
   "execution_count": 5,
   "id": "popular-active",
   "metadata": {
    "execution": {
     "iopub.execute_input": "2021-10-31T02:30:09.436133Z",
     "iopub.status.busy": "2021-10-31T02:30:09.423523Z",
     "iopub.status.idle": "2021-10-31T02:30:09.453640Z",
     "shell.execute_reply": "2021-10-31T02:30:09.454912Z"
    },
    "papermill": {
     "duration": 0.068332,
     "end_time": "2021-10-31T02:30:09.455363",
     "exception": false,
     "start_time": "2021-10-31T02:30:09.387031",
     "status": "completed"
    },
    "tags": []
   },
   "outputs": [],
   "source": [
    "df_pivot = df.pivot_table(index=\"PRODUCT\", columns = \"RECORD_TIME\", values = \"LISTING_COUNT\")"
   ]
  },
  {
   "cell_type": "code",
   "execution_count": 6,
   "id": "union-huntington",
   "metadata": {
    "execution": {
     "iopub.execute_input": "2021-10-31T02:30:09.512653Z",
     "iopub.status.busy": "2021-10-31T02:30:09.510260Z",
     "iopub.status.idle": "2021-10-31T02:30:09.515878Z",
     "shell.execute_reply": "2021-10-31T02:30:09.517210Z"
    },
    "papermill": {
     "duration": 0.041937,
     "end_time": "2021-10-31T02:30:09.517640",
     "exception": false,
     "start_time": "2021-10-31T02:30:09.475703",
     "status": "completed"
    },
    "tags": []
   },
   "outputs": [],
   "source": [
    "df_pivot.columns = [\"stamp_1\", \"stamp_2\"]\n",
    "df_pivot_diff = df_pivot.diff(axis=1)"
   ]
  },
  {
   "cell_type": "code",
   "execution_count": 7,
   "id": "fifth-motion",
   "metadata": {
    "execution": {
     "iopub.execute_input": "2021-10-31T02:30:09.573491Z",
     "iopub.status.busy": "2021-10-31T02:30:09.569434Z",
     "iopub.status.idle": "2021-10-31T02:30:11.023166Z",
     "shell.execute_reply": "2021-10-31T02:30:11.024434Z"
    },
    "papermill": {
     "duration": 1.486866,
     "end_time": "2021-10-31T02:30:11.024921",
     "exception": false,
     "start_time": "2021-10-31T02:30:09.538055",
     "status": "completed"
    },
    "tags": []
   },
   "outputs": [
    {
     "data": {
      "text/plain": [
       "<AxesSubplot:ylabel='PRODUCT'>"
      ]
     },
     "execution_count": 7,
     "metadata": {},
     "output_type": "execute_result"
    },
    {
     "data": {
      "image/png": "[encoded data removed]",
      "text/plain": [
       "<Figure size 432x288 with 1 Axes>"
      ]
     },
     "metadata": {
      "needs_background": "light"
     },
     "output_type": "display_data"
    }
   ],
   "source": [
    "df_pivot_diff.sort_values(\"stamp_2\", ascending = False)[\"stamp_2\"].head(10).plot.barh()"
   ]
  },
  {
   "cell_type": "code",
   "execution_count": null,
   "id": "extra-executive",
   "metadata": {
    "papermill": {
     "duration": 0.02179,
     "end_time": "2021-10-31T02:30:11.071899",
     "exception": false,
     "start_time": "2021-10-31T02:30:11.050109",
     "status": "completed"
    },
    "tags": []
   },
   "outputs": [],
   "source": []
  }
 ],
 "metadata": {
  "kernelspec": {
   "display_name": "Python 3",
   "language": "python",
   "name": "python3"
  },
  "language_info": {
   "codemirror_mode": {
    "name": "ipython",
    "version": 3
   },
   "file_extension": ".py",
   "mimetype": "text/x-python",
   "name": "python",
   "nbconvert_exporter": "python",
   "pygments_lexer": "ipython3",
   "version": "3.9.5"
  },
  "papermill": {
   "default_parameters": {},
   "duration": 7.500377,
   "end_time": "2021-10-31T02:30:11.715717",
   "environment_variables": {},
   "exception": null,
   "input_path": "eBay_Overview.ipynb",
   "output_path": "eBay_Overview.ipynb",
   "parameters": {},
   "start_time": "2021-10-31T02:30:04.215340",
   "version": "2.3.3"
  }
 },
 "nbformat": 4,
 "nbformat_minor": 5
}