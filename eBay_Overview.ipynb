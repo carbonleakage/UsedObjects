{
 "cells": [
  {
   "cell_type": "code",
   "execution_count": 1,
   "id": "reverse-picking",
   "metadata": {
    "execution": {
     "iopub.execute_input": "2021-11-09T10:30:07.707184Z",
     "iopub.status.busy": "2021-11-09T10:30:07.704960Z",
     "iopub.status.idle": "2021-11-09T10:30:08.653284Z",
     "shell.execute_reply": "2021-11-09T10:30:08.654941Z"
    },
    "papermill": {
     "duration": 0.995245,
     "end_time": "2021-11-09T10:30:08.655700",
     "exception": false,
     "start_time": "2021-11-09T10:30:07.660455",
     "status": "completed"
    },
    "tags": []
   },
   "outputs": [],
   "source": [
    "import pandas as pd\n",
    "import sqlite3"
   ]
  },
  {
   "cell_type": "code",
   "execution_count": 2,
   "id": "innovative-syndrome",
   "metadata": {
    "execution": {
     "iopub.execute_input": "2021-11-09T10:30:08.720410Z",
     "iopub.status.busy": "2021-11-09T10:30:08.718036Z",
     "iopub.status.idle": "2021-11-09T10:30:09.489832Z",
     "shell.execute_reply": "2021-11-09T10:30:09.491177Z"
    },
    "papermill": {
     "duration": 0.814524,
     "end_time": "2021-11-09T10:30:09.491656",
     "exception": false,
     "start_time": "2021-11-09T10:30:08.677132",
     "status": "completed"
    },
    "tags": []
   },
   "outputs": [],
   "source": [
    "timestamps = pd.read_sql(\"select distinct record_time from EBAY_TOP_BERLIN order by record_time desc limit 2\", sqlite3.connect(\"UsedObjects.db\"))"
   ]
  },
  {
   "cell_type": "code",
   "execution_count": 3,
   "id": "periodic-identification",
   "metadata": {
    "execution": {
     "iopub.execute_input": "2021-11-09T10:30:09.560774Z",
     "iopub.status.busy": "2021-11-09T10:30:09.558512Z",
     "iopub.status.idle": "2021-11-09T10:30:09.580130Z",
     "shell.execute_reply": "2021-11-09T10:30:09.581446Z"
    },
    "papermill": {
     "duration": 0.070781,
     "end_time": "2021-11-09T10:30:09.581891",
     "exception": false,
     "start_time": "2021-11-09T10:30:09.511110",
     "status": "completed"
    },
    "tags": []
   },
   "outputs": [
    {
     "data": {
      "text/html": [
       "<div>\n",
       "<style scoped>\n",
       "    .dataframe tbody tr th:only-of-type {\n",
       "        vertical-align: middle;\n",
       "    }\n",
       "\n",
       "    .dataframe tbody tr th {\n",
       "        vertical-align: top;\n",
       "    }\n",
       "\n",
       "    .dataframe thead th {\n",
       "        text-align: right;\n",
       "    }\n",
       "</style>\n",
       "<table border=\"1\" class=\"dataframe\">\n",
       "  <thead>\n",
       "    <tr style=\"text-align: right;\">\n",
       "      <th></th>\n",
       "      <th>RECORD_TIME</th>\n",
       "    </tr>\n",
       "  </thead>\n",
       "  <tbody>\n",
       "    <tr>\n",
       "      <th>0</th>\n",
       "      <td>2021-11-09 11:30</td>\n",
       "    </tr>\n",
       "    <tr>\n",
       "      <th>1</th>\n",
       "      <td>2021-11-09 11:00</td>\n",
       "    </tr>\n",
       "  </tbody>\n",
       "</table>\n",
       "</div>"
      ],
      "text/plain": [
       "        RECORD_TIME\n",
       "0  2021-11-09 11:30\n",
       "1  2021-11-09 11:00"
      ]
     },
     "execution_count": 3,
     "metadata": {},
     "output_type": "execute_result"
    }
   ],
   "source": [
    "timestamps"
   ]
  },
  {
   "cell_type": "code",
   "execution_count": 4,
   "id": "alternate-victory",
   "metadata": {
    "execution": {
     "iopub.execute_input": "2021-11-09T10:30:09.634873Z",
     "iopub.status.busy": "2021-11-09T10:30:09.632819Z",
     "iopub.status.idle": "2021-11-09T10:30:10.741059Z",
     "shell.execute_reply": "2021-11-09T10:30:10.742737Z"
    },
    "papermill": {
     "duration": 1.140804,
     "end_time": "2021-11-09T10:30:10.743212",
     "exception": false,
     "start_time": "2021-11-09T10:30:09.602408",
     "status": "completed"
    },
    "tags": []
   },
   "outputs": [],
   "source": [
    "df = pd.read_sql(\"select * from EBAY_TOP_BERLIN where record_time in (select distinct record_time from EBAY_TOP_BERLIN order by record_time desc limit 2)\", sqlite3.connect(\"UsedObjects.db\"))"
   ]
  },
  {
   "cell_type": "code",
   "execution_count": 5,
   "id": "popular-active",
   "metadata": {
    "execution": {
     "iopub.execute_input": "2021-11-09T10:30:10.821142Z",
     "iopub.status.busy": "2021-11-09T10:30:10.807901Z",
     "iopub.status.idle": "2021-11-09T10:30:10.841968Z",
     "shell.execute_reply": "2021-11-09T10:30:10.843883Z"
    },
    "papermill": {
     "duration": 0.078957,
     "end_time": "2021-11-09T10:30:10.844415",
     "exception": false,
     "start_time": "2021-11-09T10:30:10.765458",
     "status": "completed"
    },
    "tags": []
   },
   "outputs": [],
   "source": [
    "df_pivot = df.pivot_table(index=\"PRODUCT\", columns = \"RECORD_TIME\", values = \"LISTING_COUNT\")"
   ]
  },
  {
   "cell_type": "code",
   "execution_count": 6,
   "id": "union-huntington",
   "metadata": {
    "execution": {
     "iopub.execute_input": "2021-11-09T10:30:10.906286Z",
     "iopub.status.busy": "2021-11-09T10:30:10.903858Z",
     "iopub.status.idle": "2021-11-09T10:30:10.909859Z",
     "shell.execute_reply": "2021-11-09T10:30:10.911493Z"
    },
    "papermill": {
     "duration": 0.046342,
     "end_time": "2021-11-09T10:30:10.912428",
     "exception": false,
     "start_time": "2021-11-09T10:30:10.866086",
     "status": "completed"
    },
    "tags": []
   },
   "outputs": [],
   "source": [
    "df_pivot.columns = [\"stamp_1\", \"stamp_2\"]\n",
    "df_pivot_diff = df_pivot.diff(axis=1)"
   ]
  },
  {
   "cell_type": "code",
   "execution_count": 7,
   "id": "fifth-motion",
   "metadata": {
    "execution": {
     "iopub.execute_input": "2021-11-09T10:30:10.971780Z",
     "iopub.status.busy": "2021-11-09T10:30:10.969224Z",
     "iopub.status.idle": "2021-11-09T10:30:12.722279Z",
     "shell.execute_reply": "2021-11-09T10:30:12.723663Z"
    },
    "papermill": {
     "duration": 1.789658,
     "end_time": "2021-11-09T10:30:12.724137",
     "exception": false,
     "start_time": "2021-11-09T10:30:10.934479",
     "status": "completed"
    },
    "tags": []
   },
   "outputs": [
    {
     "data": {
      "text/plain": [
       "<AxesSubplot:ylabel='PRODUCT'>"
      ]
     },
     "execution_count": 7,
     "metadata": {},
     "output_type": "execute_result"
    },
    {
     "data": {
      "image/png": "[encoded data removed]",
      "text/plain": [
       "<Figure size 432x288 with 1 Axes>"
      ]
     },
     "metadata": {
      "needs_background": "light"
     },
     "output_type": "display_data"
    }
   ],
   "source": [
    "df_pivot_diff.sort_values(\"stamp_2\", ascending = False)[\"stamp_2\"].head(10).plot.barh()"
   ]
  },
  {
   "cell_type": "code",
   "execution_count": null,
   "id": "extra-executive",
   "metadata": {
    "papermill": {
     "duration": 0.023495,
     "end_time": "2021-11-09T10:30:12.771319",
     "exception": false,
     "start_time": "2021-11-09T10:30:12.747824",
     "status": "completed"
    },
    "tags": []
   },
   "outputs": [],
   "source": []
  }
 ],
 "metadata": {
  "kernelspec": {
   "display_name": "Python 3",
   "language": "python",
   "name": "python3"
  },
  "language_info": {
   "codemirror_mode": {
    "name": "ipython",
    "version": 3
   },
   "file_extension": ".py",
   "mimetype": "text/x-python",
   "name": "python",
   "nbconvert_exporter": "python",
   "pygments_lexer": "ipython3",
   "version": "3.9.5"
  },
  "papermill": {
   "default_parameters": {},
   "duration": 8.77502,
   "end_time": "2021-11-09T10:30:13.722085",
   "environment_variables": {},
   "exception": null,
   "input_path": "eBay_Overview.ipynb",
   "output_path": "eBay_Overview.ipynb",
   "parameters": {},
   "start_time": "2021-11-09T10:30:04.947065",
   "version": "2.3.3"
  }
 },
 "nbformat": 4,
 "nbformat_minor": 5
}