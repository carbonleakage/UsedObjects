{
 "cells": [
  {
   "cell_type": "code",
   "execution_count": 1,
   "id": "reverse-picking",
   "metadata": {
    "execution": {
     "iopub.execute_input": "2021-10-22T13:30:06.735851Z",
     "iopub.status.busy": "2021-10-22T13:30:06.733916Z",
     "iopub.status.idle": "2021-10-22T13:30:07.537921Z",
     "shell.execute_reply": "2021-10-22T13:30:07.539200Z"
    },
    "papermill": {
     "duration": 0.854607,
     "end_time": "2021-10-22T13:30:07.539829",
     "exception": false,
     "start_time": "2021-10-22T13:30:06.685222",
     "status": "completed"
    },
    "tags": []
   },
   "outputs": [],
   "source": [
    "import pandas as pd\n",
    "import sqlite3"
   ]
  },
  {
   "cell_type": "code",
   "execution_count": 2,
   "id": "innovative-syndrome",
   "metadata": {
    "execution": {
     "iopub.execute_input": "2021-10-22T13:30:07.591537Z",
     "iopub.status.busy": "2021-10-22T13:30:07.589683Z",
     "iopub.status.idle": "2021-10-22T13:30:08.243244Z",
     "shell.execute_reply": "2021-10-22T13:30:08.244533Z"
    },
    "papermill": {
     "duration": 0.683476,
     "end_time": "2021-10-22T13:30:08.245011",
     "exception": false,
     "start_time": "2021-10-22T13:30:07.561535",
     "status": "completed"
    },
    "tags": []
   },
   "outputs": [],
   "source": [
    "timestamps = pd.read_sql(\"select distinct record_time from EBAY_TOP_BERLIN order by record_time desc limit 2\", sqlite3.connect(\"UsedObjects.db\"))"
   ]
  },
  {
   "cell_type": "code",
   "execution_count": 3,
   "id": "periodic-identification",
   "metadata": {
    "execution": {
     "iopub.execute_input": "2021-10-22T13:30:08.323059Z",
     "iopub.status.busy": "2021-10-22T13:30:08.318085Z",
     "iopub.status.idle": "2021-10-22T13:30:08.338157Z",
     "shell.execute_reply": "2021-10-22T13:30:08.339358Z"
    },
    "papermill": {
     "duration": 0.069503,
     "end_time": "2021-10-22T13:30:08.339789",
     "exception": false,
     "start_time": "2021-10-22T13:30:08.270286",
     "status": "completed"
    },
    "tags": []
   },
   "outputs": [
    {
     "data": {
      "text/html": [
       "<div>\n",
       "<style scoped>\n",
       "    .dataframe tbody tr th:only-of-type {\n",
       "        vertical-align: middle;\n",
       "    }\n",
       "\n",
       "    .dataframe tbody tr th {\n",
       "        vertical-align: top;\n",
       "    }\n",
       "\n",
       "    .dataframe thead th {\n",
       "        text-align: right;\n",
       "    }\n",
       "</style>\n",
       "<table border=\"1\" class=\"dataframe\">\n",
       "  <thead>\n",
       "    <tr style=\"text-align: right;\">\n",
       "      <th></th>\n",
       "      <th>RECORD_TIME</th>\n",
       "    </tr>\n",
       "  </thead>\n",
       "  <tbody>\n",
       "    <tr>\n",
       "      <th>0</th>\n",
       "      <td>2021-10-22 15:30</td>\n",
       "    </tr>\n",
       "    <tr>\n",
       "      <th>1</th>\n",
       "      <td>2021-10-22 15:00</td>\n",
       "    </tr>\n",
       "  </tbody>\n",
       "</table>\n",
       "</div>"
      ],
      "text/plain": [
       "        RECORD_TIME\n",
       "0  2021-10-22 15:30\n",
       "1  2021-10-22 15:00"
      ]
     },
     "execution_count": 3,
     "metadata": {},
     "output_type": "execute_result"
    }
   ],
   "source": [
    "timestamps"
   ]
  },
  {
   "cell_type": "code",
   "execution_count": 4,
   "id": "alternate-victory",
   "metadata": {
    "execution": {
     "iopub.execute_input": "2021-10-22T13:30:08.392316Z",
     "iopub.status.busy": "2021-10-22T13:30:08.390472Z",
     "iopub.status.idle": "2021-10-22T13:30:09.314031Z",
     "shell.execute_reply": "2021-10-22T13:30:09.315236Z"
    },
    "papermill": {
     "duration": 0.953495,
     "end_time": "2021-10-22T13:30:09.315635",
     "exception": false,
     "start_time": "2021-10-22T13:30:08.362140",
     "status": "completed"
    },
    "tags": []
   },
   "outputs": [],
   "source": [
    "df = pd.read_sql(\"select * from EBAY_TOP_BERLIN where record_time in (select distinct record_time from EBAY_TOP_BERLIN order by record_time desc limit 2)\", sqlite3.connect(\"UsedObjects.db\"))"
   ]
  },
  {
   "cell_type": "code",
   "execution_count": 5,
   "id": "popular-active",
   "metadata": {
    "execution": {
     "iopub.execute_input": "2021-10-22T13:30:09.386676Z",
     "iopub.status.busy": "2021-10-22T13:30:09.374729Z",
     "iopub.status.idle": "2021-10-22T13:30:09.403214Z",
     "shell.execute_reply": "2021-10-22T13:30:09.404586Z"
    },
    "papermill": {
     "duration": 0.068911,
     "end_time": "2021-10-22T13:30:09.405226",
     "exception": false,
     "start_time": "2021-10-22T13:30:09.336315",
     "status": "completed"
    },
    "tags": []
   },
   "outputs": [],
   "source": [
    "df_pivot = df.pivot_table(index=\"PRODUCT\", columns = \"RECORD_TIME\", values = \"LISTING_COUNT\")"
   ]
  },
  {
   "cell_type": "code",
   "execution_count": 6,
   "id": "union-huntington",
   "metadata": {
    "execution": {
     "iopub.execute_input": "2021-10-22T13:30:09.464215Z",
     "iopub.status.busy": "2021-10-22T13:30:09.462135Z",
     "iopub.status.idle": "2021-10-22T13:30:09.467675Z",
     "shell.execute_reply": "2021-10-22T13:30:09.469047Z"
    },
    "papermill": {
     "duration": 0.041673,
     "end_time": "2021-10-22T13:30:09.469481",
     "exception": false,
     "start_time": "2021-10-22T13:30:09.427808",
     "status": "completed"
    },
    "tags": []
   },
   "outputs": [],
   "source": [
    "df_pivot.columns = [\"stamp_1\", \"stamp_2\"]\n",
    "df_pivot_diff = df_pivot.diff(axis=1)"
   ]
  },
  {
   "cell_type": "code",
   "execution_count": 7,
   "id": "fifth-motion",
   "metadata": {
    "execution": {
     "iopub.execute_input": "2021-10-22T13:30:09.523535Z",
     "iopub.status.busy": "2021-10-22T13:30:09.521147Z",
     "iopub.status.idle": "2021-10-22T13:30:10.996622Z",
     "shell.execute_reply": "2021-10-22T13:30:10.997982Z"
    },
    "papermill": {
     "duration": 1.508271,
     "end_time": "2021-10-22T13:30:10.998405",
     "exception": false,
     "start_time": "2021-10-22T13:30:09.490134",
     "status": "completed"
    },
    "tags": []
   },
   "outputs": [
    {
     "data": {
      "text/plain": [
       "<AxesSubplot:ylabel='PRODUCT'>"
      ]
     },
     "execution_count": 7,
     "metadata": {},
     "output_type": "execute_result"
    },
    {
     "data": {
      "image/png": "[encoded data removed]",
      "text/plain": [
       "<Figure size 432x288 with 1 Axes>"
      ]
     },
     "metadata": {
      "needs_background": "light"
     },
     "output_type": "display_data"
    }
   ],
   "source": [
    "df_pivot_diff.sort_values(\"stamp_2\", ascending = False)[\"stamp_2\"].head(10).plot.barh()"
   ]
  },
  {
   "cell_type": "code",
   "execution_count": null,
   "id": "extra-executive",
   "metadata": {
    "papermill": {
     "duration": 0.022414,
     "end_time": "2021-10-22T13:30:11.044193",
     "exception": false,
     "start_time": "2021-10-22T13:30:11.021779",
     "status": "completed"
    },
    "tags": []
   },
   "outputs": [],
   "source": []
  }
 ],
 "metadata": {
  "kernelspec": {
   "display_name": "Python 3",
   "language": "python",
   "name": "python3"
  },
  "language_info": {
   "codemirror_mode": {
    "name": "ipython",
    "version": 3
   },
   "file_extension": ".py",
   "mimetype": "text/x-python",
   "name": "python",
   "nbconvert_exporter": "python",
   "pygments_lexer": "ipython3",
   "version": "3.9.5"
  },
  "papermill": {
   "default_parameters": {},
   "duration": 7.407459,
   "end_time": "2021-10-22T13:30:11.687067",
   "environment_variables": {},
   "exception": null,
   "input_path": "eBay_Overview.ipynb",
   "output_path": "eBay_Overview.ipynb",
   "parameters": {},
   "start_time": "2021-10-22T13:30:04.279608",
   "version": "2.3.3"
  }
 },
 "nbformat": 4,
 "nbformat_minor": 5
}