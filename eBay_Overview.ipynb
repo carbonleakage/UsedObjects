{
 "cells": [
  {
   "cell_type": "code",
   "execution_count": 1,
   "id": "reverse-picking",
   "metadata": {
    "execution": {
     "iopub.execute_input": "2021-12-02T08:00:08.105789Z",
     "iopub.status.busy": "2021-12-02T08:00:08.103379Z",
     "iopub.status.idle": "2021-12-02T08:00:09.065158Z",
     "shell.execute_reply": "2021-12-02T08:00:09.062592Z"
    },
    "papermill": {
     "duration": 1.012911,
     "end_time": "2021-12-02T08:00:09.065653",
     "exception": false,
     "start_time": "2021-12-02T08:00:08.052742",
     "status": "completed"
    },
    "tags": []
   },
   "outputs": [],
   "source": [
    "import pandas as pd\n",
    "import sqlite3"
   ]
  },
  {
   "cell_type": "code",
   "execution_count": 2,
   "id": "innovative-syndrome",
   "metadata": {
    "execution": {
     "iopub.execute_input": "2021-12-02T08:00:09.129968Z",
     "iopub.status.busy": "2021-12-02T08:00:09.127598Z",
     "iopub.status.idle": "2021-12-02T08:00:10.092410Z",
     "shell.execute_reply": "2021-12-02T08:00:10.094168Z"
    },
    "papermill": {
     "duration": 1.000687,
     "end_time": "2021-12-02T08:00:10.094670",
     "exception": false,
     "start_time": "2021-12-02T08:00:09.093983",
     "status": "completed"
    },
    "tags": []
   },
   "outputs": [],
   "source": [
    "timestamps = pd.read_sql(\"select distinct record_time from EBAY_TOP_BERLIN order by record_time desc limit 2\", sqlite3.connect(\"UsedObjects.db\"))"
   ]
  },
  {
   "cell_type": "code",
   "execution_count": 3,
   "id": "periodic-identification",
   "metadata": {
    "execution": {
     "iopub.execute_input": "2021-12-02T08:00:10.166173Z",
     "iopub.status.busy": "2021-12-02T08:00:10.164087Z",
     "iopub.status.idle": "2021-12-02T08:00:10.186913Z",
     "shell.execute_reply": "2021-12-02T08:00:10.188300Z"
    },
    "papermill": {
     "duration": 0.071633,
     "end_time": "2021-12-02T08:00:10.188809",
     "exception": false,
     "start_time": "2021-12-02T08:00:10.117176",
     "status": "completed"
    },
    "tags": []
   },
   "outputs": [
    {
     "data": {
      "text/html": [
       "<div>\n",
       "<style scoped>\n",
       "    .dataframe tbody tr th:only-of-type {\n",
       "        vertical-align: middle;\n",
       "    }\n",
       "\n",
       "    .dataframe tbody tr th {\n",
       "        vertical-align: top;\n",
       "    }\n",
       "\n",
       "    .dataframe thead th {\n",
       "        text-align: right;\n",
       "    }\n",
       "</style>\n",
       "<table border=\"1\" class=\"dataframe\">\n",
       "  <thead>\n",
       "    <tr style=\"text-align: right;\">\n",
       "      <th></th>\n",
       "      <th>RECORD_TIME</th>\n",
       "    </tr>\n",
       "  </thead>\n",
       "  <tbody>\n",
       "    <tr>\n",
       "      <th>0</th>\n",
       "      <td>2021-12-02 09:00</td>\n",
       "    </tr>\n",
       "    <tr>\n",
       "      <th>1</th>\n",
       "      <td>2021-12-02 08:30</td>\n",
       "    </tr>\n",
       "  </tbody>\n",
       "</table>\n",
       "</div>"
      ],
      "text/plain": [
       "        RECORD_TIME\n",
       "0  2021-12-02 09:00\n",
       "1  2021-12-02 08:30"
      ]
     },
     "execution_count": 3,
     "metadata": {},
     "output_type": "execute_result"
    }
   ],
   "source": [
    "timestamps"
   ]
  },
  {
   "cell_type": "code",
   "execution_count": 4,
   "id": "alternate-victory",
   "metadata": {
    "execution": {
     "iopub.execute_input": "2021-12-02T08:00:10.240823Z",
     "iopub.status.busy": "2021-12-02T08:00:10.238957Z",
     "iopub.status.idle": "2021-12-02T08:00:11.641786Z",
     "shell.execute_reply": "2021-12-02T08:00:11.643162Z"
    },
    "papermill": {
     "duration": 1.433258,
     "end_time": "2021-12-02T08:00:11.643653",
     "exception": false,
     "start_time": "2021-12-02T08:00:10.210395",
     "status": "completed"
    },
    "tags": []
   },
   "outputs": [],
   "source": [
    "df = pd.read_sql(\"select * from EBAY_TOP_BERLIN where record_time in (select distinct record_time from EBAY_TOP_BERLIN order by record_time desc limit 2)\", sqlite3.connect(\"UsedObjects.db\"))"
   ]
  },
  {
   "cell_type": "code",
   "execution_count": 5,
   "id": "popular-active",
   "metadata": {
    "execution": {
     "iopub.execute_input": "2021-12-02T08:00:11.718681Z",
     "iopub.status.busy": "2021-12-02T08:00:11.709866Z",
     "iopub.status.idle": "2021-12-02T08:00:11.744028Z",
     "shell.execute_reply": "2021-12-02T08:00:11.746022Z"
    },
    "papermill": {
     "duration": 0.081453,
     "end_time": "2021-12-02T08:00:11.746648",
     "exception": false,
     "start_time": "2021-12-02T08:00:11.665195",
     "status": "completed"
    },
    "tags": []
   },
   "outputs": [],
   "source": [
    "df_pivot = df.pivot_table(index=\"PRODUCT\", columns = \"RECORD_TIME\", values = \"LISTING_COUNT\")"
   ]
  },
  {
   "cell_type": "code",
   "execution_count": 6,
   "id": "union-huntington",
   "metadata": {
    "execution": {
     "iopub.execute_input": "2021-12-02T08:00:11.814274Z",
     "iopub.status.busy": "2021-12-02T08:00:11.811770Z",
     "iopub.status.idle": "2021-12-02T08:00:11.818355Z",
     "shell.execute_reply": "2021-12-02T08:00:11.819821Z"
    },
    "papermill": {
     "duration": 0.047494,
     "end_time": "2021-12-02T08:00:11.820329",
     "exception": false,
     "start_time": "2021-12-02T08:00:11.772835",
     "status": "completed"
    },
    "tags": []
   },
   "outputs": [],
   "source": [
    "df_pivot.columns = [\"stamp_1\", \"stamp_2\"]\n",
    "df_pivot_diff = df_pivot.diff(axis=1)"
   ]
  },
  {
   "cell_type": "code",
   "execution_count": 7,
   "id": "fifth-motion",
   "metadata": {
    "execution": {
     "iopub.execute_input": "2021-12-02T08:00:11.878389Z",
     "iopub.status.busy": "2021-12-02T08:00:11.875878Z",
     "iopub.status.idle": "2021-12-02T08:00:13.932344Z",
     "shell.execute_reply": "2021-12-02T08:00:13.934274Z"
    },
    "papermill": {
     "duration": 2.092902,
     "end_time": "2021-12-02T08:00:13.934895",
     "exception": false,
     "start_time": "2021-12-02T08:00:11.841993",
     "status": "completed"
    },
    "tags": []
   },
   "outputs": [
    {
     "data": {
      "text/plain": [
       "<AxesSubplot:ylabel='PRODUCT'>"
      ]
     },
     "execution_count": 7,
     "metadata": {},
     "output_type": "execute_result"
    },
    {
     "data": {
      "image/png": "[encoded data removed]",
      "text/plain": [
       "<Figure size 432x288 with 1 Axes>"
      ]
     },
     "metadata": {
      "needs_background": "light"
     },
     "output_type": "display_data"
    }
   ],
   "source": [
    "df_pivot_diff.sort_values(\"stamp_2\", ascending = False)[\"stamp_2\"].head(10).plot.barh()"
   ]
  },
  {
   "cell_type": "code",
   "execution_count": null,
   "id": "extra-executive",
   "metadata": {
    "papermill": {
     "duration": 0.025229,
     "end_time": "2021-12-02T08:00:13.988797",
     "exception": false,
     "start_time": "2021-12-02T08:00:13.963568",
     "status": "completed"
    },
    "tags": []
   },
   "outputs": [],
   "source": []
  }
 ],
 "metadata": {
  "kernelspec": {
   "display_name": "Python 3",
   "language": "python",
   "name": "python3"
  },
  "language_info": {
   "codemirror_mode": {
    "name": "ipython",
    "version": 3
   },
   "file_extension": ".py",
   "mimetype": "text/x-python",
   "name": "python",
   "nbconvert_exporter": "python",
   "pygments_lexer": "ipython3",
   "version": "3.9.5"
  },
  "papermill": {
   "default_parameters": {},
   "duration": 9.940271,
   "end_time": "2021-12-02T08:00:15.257305",
   "environment_variables": {},
   "exception": null,
   "input_path": "eBay_Overview.ipynb",
   "output_path": "eBay_Overview.ipynb",
   "parameters": {},
   "start_time": "2021-12-02T08:00:05.317034",
   "version": "2.3.3"
  }
 },
 "nbformat": 4,
 "nbformat_minor": 5
}