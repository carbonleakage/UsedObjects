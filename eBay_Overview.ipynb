{
 "cells": [
  {
   "cell_type": "code",
   "execution_count": 1,
   "id": "reverse-picking",
   "metadata": {
    "execution": {
     "iopub.execute_input": "2021-10-26T09:00:07.314386Z",
     "iopub.status.busy": "2021-10-26T09:00:07.312356Z",
     "iopub.status.idle": "2021-10-26T09:00:08.127487Z",
     "shell.execute_reply": "2021-10-26T09:00:08.125709Z"
    },
    "papermill": {
     "duration": 0.865507,
     "end_time": "2021-10-26T09:00:08.127915",
     "exception": false,
     "start_time": "2021-10-26T09:00:07.262408",
     "status": "completed"
    },
    "tags": []
   },
   "outputs": [],
   "source": [
    "import pandas as pd\n",
    "import sqlite3"
   ]
  },
  {
   "cell_type": "code",
   "execution_count": 2,
   "id": "innovative-syndrome",
   "metadata": {
    "execution": {
     "iopub.execute_input": "2021-10-26T09:00:08.178523Z",
     "iopub.status.busy": "2021-10-26T09:00:08.176114Z",
     "iopub.status.idle": "2021-10-26T09:00:08.823887Z",
     "shell.execute_reply": "2021-10-26T09:00:08.825133Z"
    },
    "papermill": {
     "duration": 0.677638,
     "end_time": "2021-10-26T09:00:08.825577",
     "exception": false,
     "start_time": "2021-10-26T09:00:08.147939",
     "status": "completed"
    },
    "tags": []
   },
   "outputs": [],
   "source": [
    "timestamps = pd.read_sql(\"select distinct record_time from EBAY_TOP_BERLIN order by record_time desc limit 2\", sqlite3.connect(\"UsedObjects.db\"))"
   ]
  },
  {
   "cell_type": "code",
   "execution_count": 3,
   "id": "periodic-identification",
   "metadata": {
    "execution": {
     "iopub.execute_input": "2021-10-26T09:00:08.907333Z",
     "iopub.status.busy": "2021-10-26T09:00:08.902093Z",
     "iopub.status.idle": "2021-10-26T09:00:08.921885Z",
     "shell.execute_reply": "2021-10-26T09:00:08.923158Z"
    },
    "papermill": {
     "duration": 0.070058,
     "end_time": "2021-10-26T09:00:08.923607",
     "exception": false,
     "start_time": "2021-10-26T09:00:08.853549",
     "status": "completed"
    },
    "tags": []
   },
   "outputs": [
    {
     "data": {
      "text/html": [
       "<div>\n",
       "<style scoped>\n",
       "    .dataframe tbody tr th:only-of-type {\n",
       "        vertical-align: middle;\n",
       "    }\n",
       "\n",
       "    .dataframe tbody tr th {\n",
       "        vertical-align: top;\n",
       "    }\n",
       "\n",
       "    .dataframe thead th {\n",
       "        text-align: right;\n",
       "    }\n",
       "</style>\n",
       "<table border=\"1\" class=\"dataframe\">\n",
       "  <thead>\n",
       "    <tr style=\"text-align: right;\">\n",
       "      <th></th>\n",
       "      <th>RECORD_TIME</th>\n",
       "    </tr>\n",
       "  </thead>\n",
       "  <tbody>\n",
       "    <tr>\n",
       "      <th>0</th>\n",
       "      <td>2021-10-26 11:00</td>\n",
       "    </tr>\n",
       "    <tr>\n",
       "      <th>1</th>\n",
       "      <td>2021-10-26 10:30</td>\n",
       "    </tr>\n",
       "  </tbody>\n",
       "</table>\n",
       "</div>"
      ],
      "text/plain": [
       "        RECORD_TIME\n",
       "0  2021-10-26 11:00\n",
       "1  2021-10-26 10:30"
      ]
     },
     "execution_count": 3,
     "metadata": {},
     "output_type": "execute_result"
    }
   ],
   "source": [
    "timestamps"
   ]
  },
  {
   "cell_type": "code",
   "execution_count": 4,
   "id": "alternate-victory",
   "metadata": {
    "execution": {
     "iopub.execute_input": "2021-10-26T09:00:08.975127Z",
     "iopub.status.busy": "2021-10-26T09:00:08.973303Z",
     "iopub.status.idle": "2021-10-26T09:00:09.911348Z",
     "shell.execute_reply": "2021-10-26T09:00:09.912543Z"
    },
    "papermill": {
     "duration": 0.968099,
     "end_time": "2021-10-26T09:00:09.913157",
     "exception": false,
     "start_time": "2021-10-26T09:00:08.945058",
     "status": "completed"
    },
    "tags": []
   },
   "outputs": [],
   "source": [
    "df = pd.read_sql(\"select * from EBAY_TOP_BERLIN where record_time in (select distinct record_time from EBAY_TOP_BERLIN order by record_time desc limit 2)\", sqlite3.connect(\"UsedObjects.db\"))"
   ]
  },
  {
   "cell_type": "code",
   "execution_count": 5,
   "id": "popular-active",
   "metadata": {
    "execution": {
     "iopub.execute_input": "2021-10-26T09:00:09.984220Z",
     "iopub.status.busy": "2021-10-26T09:00:09.973042Z",
     "iopub.status.idle": "2021-10-26T09:00:10.000036Z",
     "shell.execute_reply": "2021-10-26T09:00:10.001382Z"
    },
    "papermill": {
     "duration": 0.068265,
     "end_time": "2021-10-26T09:00:10.001800",
     "exception": false,
     "start_time": "2021-10-26T09:00:09.933535",
     "status": "completed"
    },
    "tags": []
   },
   "outputs": [],
   "source": [
    "df_pivot = df.pivot_table(index=\"PRODUCT\", columns = \"RECORD_TIME\", values = \"LISTING_COUNT\")"
   ]
  },
  {
   "cell_type": "code",
   "execution_count": 6,
   "id": "union-huntington",
   "metadata": {
    "execution": {
     "iopub.execute_input": "2021-10-26T09:00:10.059055Z",
     "iopub.status.busy": "2021-10-26T09:00:10.056785Z",
     "iopub.status.idle": "2021-10-26T09:00:10.062758Z",
     "shell.execute_reply": "2021-10-26T09:00:10.064030Z"
    },
    "papermill": {
     "duration": 0.04166,
     "end_time": "2021-10-26T09:00:10.064447",
     "exception": false,
     "start_time": "2021-10-26T09:00:10.022787",
     "status": "completed"
    },
    "tags": []
   },
   "outputs": [],
   "source": [
    "df_pivot.columns = [\"stamp_1\", \"stamp_2\"]\n",
    "df_pivot_diff = df_pivot.diff(axis=1)"
   ]
  },
  {
   "cell_type": "code",
   "execution_count": 7,
   "id": "fifth-motion",
   "metadata": {
    "execution": {
     "iopub.execute_input": "2021-10-26T09:00:10.118472Z",
     "iopub.status.busy": "2021-10-26T09:00:10.115906Z",
     "iopub.status.idle": "2021-10-26T09:00:11.621622Z",
     "shell.execute_reply": "2021-10-26T09:00:11.622912Z"
    },
    "papermill": {
     "duration": 1.539161,
     "end_time": "2021-10-26T09:00:11.623331",
     "exception": false,
     "start_time": "2021-10-26T09:00:10.084170",
     "status": "completed"
    },
    "tags": []
   },
   "outputs": [
    {
     "data": {
      "text/plain": [
       "<AxesSubplot:ylabel='PRODUCT'>"
      ]
     },
     "execution_count": 7,
     "metadata": {},
     "output_type": "execute_result"
    },
    {
     "data": {
      "image/png": "[encoded data removed]",
      "text/plain": [
       "<Figure size 432x288 with 1 Axes>"
      ]
     },
     "metadata": {
      "needs_background": "light"
     },
     "output_type": "display_data"
    }
   ],
   "source": [
    "df_pivot_diff.sort_values(\"stamp_2\", ascending = False)[\"stamp_2\"].head(10).plot.barh()"
   ]
  },
  {
   "cell_type": "code",
   "execution_count": null,
   "id": "extra-executive",
   "metadata": {
    "papermill": {
     "duration": 0.021925,
     "end_time": "2021-10-26T09:00:11.668738",
     "exception": false,
     "start_time": "2021-10-26T09:00:11.646813",
     "status": "completed"
    },
    "tags": []
   },
   "outputs": [],
   "source": []
  }
 ],
 "metadata": {
  "kernelspec": {
   "display_name": "Python 3",
   "language": "python",
   "name": "python3"
  },
  "language_info": {
   "codemirror_mode": {
    "name": "ipython",
    "version": 3
   },
   "file_extension": ".py",
   "mimetype": "text/x-python",
   "name": "python",
   "nbconvert_exporter": "python",
   "pygments_lexer": "ipython3",
   "version": "3.9.5"
  },
  "papermill": {
   "default_parameters": {},
   "duration": 7.462022,
   "end_time": "2021-10-26T09:00:12.312725",
   "environment_variables": {},
   "exception": null,
   "input_path": "eBay_Overview.ipynb",
   "output_path": "eBay_Overview.ipynb",
   "parameters": {},
   "start_time": "2021-10-26T09:00:04.850703",
   "version": "2.3.3"
  }
 },
 "nbformat": 4,
 "nbformat_minor": 5
}