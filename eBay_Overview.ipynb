{
 "cells": [
  {
   "cell_type": "code",
   "execution_count": 1,
   "id": "reverse-picking",
   "metadata": {
    "execution": {
     "iopub.execute_input": "2021-11-12T13:30:07.478825Z",
     "iopub.status.busy": "2021-11-12T13:30:07.476160Z",
     "iopub.status.idle": "2021-11-12T13:30:08.432793Z",
     "shell.execute_reply": "2021-11-12T13:30:08.434293Z"
    },
    "papermill": {
     "duration": 1.006254,
     "end_time": "2021-11-12T13:30:08.435020",
     "exception": false,
     "start_time": "2021-11-12T13:30:07.428766",
     "status": "completed"
    },
    "tags": []
   },
   "outputs": [],
   "source": [
    "import pandas as pd\n",
    "import sqlite3"
   ]
  },
  {
   "cell_type": "code",
   "execution_count": 2,
   "id": "innovative-syndrome",
   "metadata": {
    "execution": {
     "iopub.execute_input": "2021-11-12T13:30:08.492255Z",
     "iopub.status.busy": "2021-11-12T13:30:08.489536Z",
     "iopub.status.idle": "2021-11-12T13:30:09.276894Z",
     "shell.execute_reply": "2021-11-12T13:30:09.278413Z"
    },
    "papermill": {
     "duration": 0.821948,
     "end_time": "2021-11-12T13:30:09.278873",
     "exception": false,
     "start_time": "2021-11-12T13:30:08.456925",
     "status": "completed"
    },
    "tags": []
   },
   "outputs": [],
   "source": [
    "timestamps = pd.read_sql(\"select distinct record_time from EBAY_TOP_BERLIN order by record_time desc limit 2\", sqlite3.connect(\"UsedObjects.db\"))"
   ]
  },
  {
   "cell_type": "code",
   "execution_count": 3,
   "id": "periodic-identification",
   "metadata": {
    "execution": {
     "iopub.execute_input": "2021-11-12T13:30:09.350618Z",
     "iopub.status.busy": "2021-11-12T13:30:09.348155Z",
     "iopub.status.idle": "2021-11-12T13:30:09.371256Z",
     "shell.execute_reply": "2021-11-12T13:30:09.372827Z"
    },
    "papermill": {
     "duration": 0.073831,
     "end_time": "2021-11-12T13:30:09.373321",
     "exception": false,
     "start_time": "2021-11-12T13:30:09.299490",
     "status": "completed"
    },
    "tags": []
   },
   "outputs": [
    {
     "data": {
      "text/html": [
       "<div>\n",
       "<style scoped>\n",
       "    .dataframe tbody tr th:only-of-type {\n",
       "        vertical-align: middle;\n",
       "    }\n",
       "\n",
       "    .dataframe tbody tr th {\n",
       "        vertical-align: top;\n",
       "    }\n",
       "\n",
       "    .dataframe thead th {\n",
       "        text-align: right;\n",
       "    }\n",
       "</style>\n",
       "<table border=\"1\" class=\"dataframe\">\n",
       "  <thead>\n",
       "    <tr style=\"text-align: right;\">\n",
       "      <th></th>\n",
       "      <th>RECORD_TIME</th>\n",
       "    </tr>\n",
       "  </thead>\n",
       "  <tbody>\n",
       "    <tr>\n",
       "      <th>0</th>\n",
       "      <td>2021-11-12 14:30</td>\n",
       "    </tr>\n",
       "    <tr>\n",
       "      <th>1</th>\n",
       "      <td>2021-11-12 14:00</td>\n",
       "    </tr>\n",
       "  </tbody>\n",
       "</table>\n",
       "</div>"
      ],
      "text/plain": [
       "        RECORD_TIME\n",
       "0  2021-11-12 14:30\n",
       "1  2021-11-12 14:00"
      ]
     },
     "execution_count": 3,
     "metadata": {},
     "output_type": "execute_result"
    }
   ],
   "source": [
    "timestamps"
   ]
  },
  {
   "cell_type": "code",
   "execution_count": 4,
   "id": "alternate-victory",
   "metadata": {
    "execution": {
     "iopub.execute_input": "2021-11-12T13:30:09.432249Z",
     "iopub.status.busy": "2021-11-12T13:30:09.429925Z",
     "iopub.status.idle": "2021-11-12T13:30:10.600033Z",
     "shell.execute_reply": "2021-11-12T13:30:10.602318Z"
    },
    "papermill": {
     "duration": 1.207013,
     "end_time": "2021-11-12T13:30:10.602944",
     "exception": false,
     "start_time": "2021-11-12T13:30:09.395931",
     "status": "completed"
    },
    "tags": []
   },
   "outputs": [],
   "source": [
    "df = pd.read_sql(\"select * from EBAY_TOP_BERLIN where record_time in (select distinct record_time from EBAY_TOP_BERLIN order by record_time desc limit 2)\", sqlite3.connect(\"UsedObjects.db\"))"
   ]
  },
  {
   "cell_type": "code",
   "execution_count": 5,
   "id": "popular-active",
   "metadata": {
    "execution": {
     "iopub.execute_input": "2021-11-12T13:30:10.691720Z",
     "iopub.status.busy": "2021-11-12T13:30:10.683097Z",
     "iopub.status.idle": "2021-11-12T13:30:10.712275Z",
     "shell.execute_reply": "2021-11-12T13:30:10.710681Z"
    },
    "papermill": {
     "duration": 0.079869,
     "end_time": "2021-11-12T13:30:10.712748",
     "exception": false,
     "start_time": "2021-11-12T13:30:10.632879",
     "status": "completed"
    },
    "tags": []
   },
   "outputs": [],
   "source": [
    "df_pivot = df.pivot_table(index=\"PRODUCT\", columns = \"RECORD_TIME\", values = \"LISTING_COUNT\")"
   ]
  },
  {
   "cell_type": "code",
   "execution_count": 6,
   "id": "union-huntington",
   "metadata": {
    "execution": {
     "iopub.execute_input": "2021-11-12T13:30:10.773703Z",
     "iopub.status.busy": "2021-11-12T13:30:10.771535Z",
     "iopub.status.idle": "2021-11-12T13:30:10.777811Z",
     "shell.execute_reply": "2021-11-12T13:30:10.779239Z"
    },
    "papermill": {
     "duration": 0.044076,
     "end_time": "2021-11-12T13:30:10.779694",
     "exception": false,
     "start_time": "2021-11-12T13:30:10.735618",
     "status": "completed"
    },
    "tags": []
   },
   "outputs": [],
   "source": [
    "df_pivot.columns = [\"stamp_1\", \"stamp_2\"]\n",
    "df_pivot_diff = df_pivot.diff(axis=1)"
   ]
  },
  {
   "cell_type": "code",
   "execution_count": 7,
   "id": "fifth-motion",
   "metadata": {
    "execution": {
     "iopub.execute_input": "2021-11-12T13:30:10.836989Z",
     "iopub.status.busy": "2021-11-12T13:30:10.834417Z",
     "iopub.status.idle": "2021-11-12T13:30:12.958334Z",
     "shell.execute_reply": "2021-11-12T13:30:12.960507Z"
    },
    "papermill": {
     "duration": 2.173452,
     "end_time": "2021-11-12T13:30:12.973330",
     "exception": false,
     "start_time": "2021-11-12T13:30:10.799878",
     "status": "completed"
    },
    "tags": []
   },
   "outputs": [
    {
     "data": {
      "text/plain": [
       "<AxesSubplot:ylabel='PRODUCT'>"
      ]
     },
     "execution_count": 7,
     "metadata": {},
     "output_type": "execute_result"
    },
    {
     "data": {
      "image/png": "[encoded data removed]",
      "text/plain": [
       "<Figure size 432x288 with 1 Axes>"
      ]
     },
     "metadata": {
      "needs_background": "light"
     },
     "output_type": "display_data"
    }
   ],
   "source": [
    "df_pivot_diff.sort_values(\"stamp_2\", ascending = False)[\"stamp_2\"].head(10).plot.barh()"
   ]
  },
  {
   "cell_type": "code",
   "execution_count": null,
   "id": "extra-executive",
   "metadata": {
    "papermill": {
     "duration": 0.067523,
     "end_time": "2021-11-12T13:30:13.105648",
     "exception": false,
     "start_time": "2021-11-12T13:30:13.038125",
     "status": "completed"
    },
    "tags": []
   },
   "outputs": [],
   "source": []
  }
 ],
 "metadata": {
  "kernelspec": {
   "display_name": "Python 3",
   "language": "python",
   "name": "python3"
  },
  "language_info": {
   "codemirror_mode": {
    "name": "ipython",
    "version": 3
   },
   "file_extension": ".py",
   "mimetype": "text/x-python",
   "name": "python",
   "nbconvert_exporter": "python",
   "pygments_lexer": "ipython3",
   "version": "3.9.5"
  },
  "papermill": {
   "default_parameters": {},
   "duration": 11.941194,
   "end_time": "2021-11-12T13:30:16.524563",
   "environment_variables": {},
   "exception": null,
   "input_path": "eBay_Overview.ipynb",
   "output_path": "eBay_Overview.ipynb",
   "parameters": {},
   "start_time": "2021-11-12T13:30:04.583369",
   "version": "2.3.3"
  }
 },
 "nbformat": 4,
 "nbformat_minor": 5
}