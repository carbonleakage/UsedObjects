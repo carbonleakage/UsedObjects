{
 "cells": [
  {
   "cell_type": "code",
   "execution_count": 1,
   "id": "reverse-picking",
   "metadata": {
    "execution": {
     "iopub.execute_input": "2021-12-19T11:00:07.446777Z",
     "iopub.status.busy": "2021-12-19T11:00:07.444377Z",
     "iopub.status.idle": "2021-12-19T11:00:08.393734Z",
     "shell.execute_reply": "2021-12-19T11:00:08.395973Z"
    },
    "papermill": {
     "duration": 1.000484,
     "end_time": "2021-12-19T11:00:08.396787",
     "exception": false,
     "start_time": "2021-12-19T11:00:07.396303",
     "status": "completed"
    },
    "tags": []
   },
   "outputs": [],
   "source": [
    "import pandas as pd\n",
    "import sqlite3"
   ]
  },
  {
   "cell_type": "code",
   "execution_count": 2,
   "id": "innovative-syndrome",
   "metadata": {
    "execution": {
     "iopub.execute_input": "2021-12-19T11:00:08.466528Z",
     "iopub.status.busy": "2021-12-19T11:00:08.462227Z",
     "iopub.status.idle": "2021-12-19T11:00:09.594991Z",
     "shell.execute_reply": "2021-12-19T11:00:09.596335Z"
    },
    "papermill": {
     "duration": 1.172725,
     "end_time": "2021-12-19T11:00:09.596875",
     "exception": false,
     "start_time": "2021-12-19T11:00:08.424150",
     "status": "completed"
    },
    "tags": []
   },
   "outputs": [],
   "source": [
    "timestamps = pd.read_sql(\"select distinct record_time from EBAY_TOP_BERLIN order by record_time desc limit 2\", sqlite3.connect(\"UsedObjects.db\"))"
   ]
  },
  {
   "cell_type": "code",
   "execution_count": 3,
   "id": "periodic-identification",
   "metadata": {
    "execution": {
     "iopub.execute_input": "2021-12-19T11:00:09.666182Z",
     "iopub.status.busy": "2021-12-19T11:00:09.663726Z",
     "iopub.status.idle": "2021-12-19T11:00:09.691359Z",
     "shell.execute_reply": "2021-12-19T11:00:09.692475Z"
    },
    "papermill": {
     "duration": 0.076512,
     "end_time": "2021-12-19T11:00:09.692938",
     "exception": false,
     "start_time": "2021-12-19T11:00:09.616426",
     "status": "completed"
    },
    "tags": []
   },
   "outputs": [
    {
     "data": {
      "text/html": [
       "<div>\n",
       "<style scoped>\n",
       "    .dataframe tbody tr th:only-of-type {\n",
       "        vertical-align: middle;\n",
       "    }\n",
       "\n",
       "    .dataframe tbody tr th {\n",
       "        vertical-align: top;\n",
       "    }\n",
       "\n",
       "    .dataframe thead th {\n",
       "        text-align: right;\n",
       "    }\n",
       "</style>\n",
       "<table border=\"1\" class=\"dataframe\">\n",
       "  <thead>\n",
       "    <tr style=\"text-align: right;\">\n",
       "      <th></th>\n",
       "      <th>RECORD_TIME</th>\n",
       "    </tr>\n",
       "  </thead>\n",
       "  <tbody>\n",
       "    <tr>\n",
       "      <th>0</th>\n",
       "      <td>2021-12-19 12:00</td>\n",
       "    </tr>\n",
       "    <tr>\n",
       "      <th>1</th>\n",
       "      <td>2021-12-19 11:30</td>\n",
       "    </tr>\n",
       "  </tbody>\n",
       "</table>\n",
       "</div>"
      ],
      "text/plain": [
       "        RECORD_TIME\n",
       "0  2021-12-19 12:00\n",
       "1  2021-12-19 11:30"
      ]
     },
     "execution_count": 3,
     "metadata": {},
     "output_type": "execute_result"
    }
   ],
   "source": [
    "timestamps"
   ]
  },
  {
   "cell_type": "code",
   "execution_count": 4,
   "id": "alternate-victory",
   "metadata": {
    "execution": {
     "iopub.execute_input": "2021-12-19T11:00:09.757494Z",
     "iopub.status.busy": "2021-12-19T11:00:09.755273Z",
     "iopub.status.idle": "2021-12-19T11:00:11.398269Z",
     "shell.execute_reply": "2021-12-19T11:00:11.399742Z"
    },
    "papermill": {
     "duration": 1.686868,
     "end_time": "2021-12-19T11:00:11.400207",
     "exception": false,
     "start_time": "2021-12-19T11:00:09.713339",
     "status": "completed"
    },
    "tags": []
   },
   "outputs": [],
   "source": [
    "df = pd.read_sql(\"select * from EBAY_TOP_BERLIN where record_time in (select distinct record_time from EBAY_TOP_BERLIN order by record_time desc limit 2)\", sqlite3.connect(\"UsedObjects.db\"))"
   ]
  },
  {
   "cell_type": "code",
   "execution_count": 5,
   "id": "popular-active",
   "metadata": {
    "execution": {
     "iopub.execute_input": "2021-12-19T11:00:11.470753Z",
     "iopub.status.busy": "2021-12-19T11:00:11.462130Z",
     "iopub.status.idle": "2021-12-19T11:00:11.495470Z",
     "shell.execute_reply": "2021-12-19T11:00:11.497090Z"
    },
    "papermill": {
     "duration": 0.075814,
     "end_time": "2021-12-19T11:00:11.497565",
     "exception": false,
     "start_time": "2021-12-19T11:00:11.421751",
     "status": "completed"
    },
    "tags": []
   },
   "outputs": [],
   "source": [
    "df_pivot = df.pivot_table(index=\"PRODUCT\", columns = \"RECORD_TIME\", values = \"LISTING_COUNT\")"
   ]
  },
  {
   "cell_type": "code",
   "execution_count": 6,
   "id": "union-huntington",
   "metadata": {
    "execution": {
     "iopub.execute_input": "2021-12-19T11:00:11.559606Z",
     "iopub.status.busy": "2021-12-19T11:00:11.557351Z",
     "iopub.status.idle": "2021-12-19T11:00:11.562938Z",
     "shell.execute_reply": "2021-12-19T11:00:11.564390Z"
    },
    "papermill": {
     "duration": 0.045226,
     "end_time": "2021-12-19T11:00:11.564958",
     "exception": false,
     "start_time": "2021-12-19T11:00:11.519732",
     "status": "completed"
    },
    "tags": []
   },
   "outputs": [],
   "source": [
    "df_pivot.columns = [\"stamp_1\", \"stamp_2\"]\n",
    "df_pivot_diff = df_pivot.diff(axis=1)"
   ]
  },
  {
   "cell_type": "code",
   "execution_count": 7,
   "id": "fifth-motion",
   "metadata": {
    "execution": {
     "iopub.execute_input": "2021-12-19T11:00:11.622570Z",
     "iopub.status.busy": "2021-12-19T11:00:11.619963Z",
     "iopub.status.idle": "2021-12-19T11:00:13.619277Z",
     "shell.execute_reply": "2021-12-19T11:00:13.620790Z"
    },
    "papermill": {
     "duration": 2.035239,
     "end_time": "2021-12-19T11:00:13.621243",
     "exception": false,
     "start_time": "2021-12-19T11:00:11.586004",
     "status": "completed"
    },
    "tags": []
   },
   "outputs": [
    {
     "data": {
      "text/plain": [
       "<AxesSubplot:ylabel='PRODUCT'>"
      ]
     },
     "execution_count": 7,
     "metadata": {},
     "output_type": "execute_result"
    },
    {
     "data": {
      "image/png": "[encoded data removed]",
      "text/plain": [
       "<Figure size 432x288 with 1 Axes>"
      ]
     },
     "metadata": {
      "needs_background": "light"
     },
     "output_type": "display_data"
    }
   ],
   "source": [
    "df_pivot_diff.sort_values(\"stamp_2\", ascending = False)[\"stamp_2\"].head(10).plot.barh()"
   ]
  },
  {
   "cell_type": "code",
   "execution_count": null,
   "id": "extra-executive",
   "metadata": {
    "papermill": {
     "duration": 0.022633,
     "end_time": "2021-12-19T11:00:13.668258",
     "exception": false,
     "start_time": "2021-12-19T11:00:13.645625",
     "status": "completed"
    },
    "tags": []
   },
   "outputs": [],
   "source": []
  }
 ],
 "metadata": {
  "kernelspec": {
   "display_name": "Python 3",
   "language": "python",
   "name": "python3"
  },
  "language_info": {
   "codemirror_mode": {
    "name": "ipython",
    "version": 3
   },
   "file_extension": ".py",
   "mimetype": "text/x-python",
   "name": "python",
   "nbconvert_exporter": "python",
   "pygments_lexer": "ipython3",
   "version": "3.9.5"
  },
  "papermill": {
   "default_parameters": {},
   "duration": 9.658485,
   "end_time": "2021-12-19T11:00:14.312144",
   "environment_variables": {},
   "exception": null,
   "input_path": "eBay_Overview.ipynb",
   "output_path": "eBay_Overview.ipynb",
   "parameters": {},
   "start_time": "2021-12-19T11:00:04.653659",
   "version": "2.3.3"
  }
 },
 "nbformat": 4,
 "nbformat_minor": 5
}