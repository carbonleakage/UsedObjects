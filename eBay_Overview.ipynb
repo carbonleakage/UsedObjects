{
 "cells": [
  {
   "cell_type": "code",
   "execution_count": 1,
   "id": "reverse-picking",
   "metadata": {
    "execution": {
     "iopub.execute_input": "2021-08-19T14:30:07.373441Z",
     "iopub.status.busy": "2021-08-19T14:30:07.371491Z",
     "iopub.status.idle": "2021-08-19T14:30:08.173424Z",
     "shell.execute_reply": "2021-08-19T14:30:08.174906Z"
    },
    "papermill": {
     "duration": 0.854322,
     "end_time": "2021-08-19T14:30:08.175558",
     "exception": false,
     "start_time": "2021-08-19T14:30:07.321236",
     "status": "completed"
    },
    "tags": []
   },
   "outputs": [],
   "source": [
    "import pandas as pd\n",
    "import sqlite3"
   ]
  },
  {
   "cell_type": "code",
   "execution_count": 2,
   "id": "innovative-syndrome",
   "metadata": {
    "execution": {
     "iopub.execute_input": "2021-08-19T14:30:08.227416Z",
     "iopub.status.busy": "2021-08-19T14:30:08.225023Z",
     "iopub.status.idle": "2021-08-19T14:30:08.311614Z",
     "shell.execute_reply": "2021-08-19T14:30:08.310271Z"
    },
    "papermill": {
     "duration": 0.115106,
     "end_time": "2021-08-19T14:30:08.311955",
     "exception": false,
     "start_time": "2021-08-19T14:30:08.196849",
     "status": "completed"
    },
    "tags": []
   },
   "outputs": [],
   "source": [
    "timestamps = pd.read_sql(\"select distinct record_time from EBAY_TOP_BERLIN order by record_time desc limit 2\", sqlite3.connect(\"UsedObjects.db\"))"
   ]
  },
  {
   "cell_type": "code",
   "execution_count": 3,
   "id": "periodic-identification",
   "metadata": {
    "execution": {
     "iopub.execute_input": "2021-08-19T14:30:08.379582Z",
     "iopub.status.busy": "2021-08-19T14:30:08.374688Z",
     "iopub.status.idle": "2021-08-19T14:30:08.396471Z",
     "shell.execute_reply": "2021-08-19T14:30:08.397602Z"
    },
    "papermill": {
     "duration": 0.066513,
     "end_time": "2021-08-19T14:30:08.398190",
     "exception": false,
     "start_time": "2021-08-19T14:30:08.331677",
     "status": "completed"
    },
    "tags": []
   },
   "outputs": [
    {
     "data": {
      "text/html": [
       "<div>\n",
       "<style scoped>\n",
       "    .dataframe tbody tr th:only-of-type {\n",
       "        vertical-align: middle;\n",
       "    }\n",
       "\n",
       "    .dataframe tbody tr th {\n",
       "        vertical-align: top;\n",
       "    }\n",
       "\n",
       "    .dataframe thead th {\n",
       "        text-align: right;\n",
       "    }\n",
       "</style>\n",
       "<table border=\"1\" class=\"dataframe\">\n",
       "  <thead>\n",
       "    <tr style=\"text-align: right;\">\n",
       "      <th></th>\n",
       "      <th>RECORD_TIME</th>\n",
       "    </tr>\n",
       "  </thead>\n",
       "  <tbody>\n",
       "    <tr>\n",
       "      <th>0</th>\n",
       "      <td>2021-08-19 16:30</td>\n",
       "    </tr>\n",
       "    <tr>\n",
       "      <th>1</th>\n",
       "      <td>2021-08-19 16:00</td>\n",
       "    </tr>\n",
       "  </tbody>\n",
       "</table>\n",
       "</div>"
      ],
      "text/plain": [
       "        RECORD_TIME\n",
       "0  2021-08-19 16:30\n",
       "1  2021-08-19 16:00"
      ]
     },
     "execution_count": 3,
     "metadata": {},
     "output_type": "execute_result"
    }
   ],
   "source": [
    "timestamps"
   ]
  },
  {
   "cell_type": "code",
   "execution_count": 4,
   "id": "alternate-victory",
   "metadata": {
    "execution": {
     "iopub.execute_input": "2021-08-19T14:30:08.450026Z",
     "iopub.status.busy": "2021-08-19T14:30:08.447724Z",
     "iopub.status.idle": "2021-08-19T14:30:08.573184Z",
     "shell.execute_reply": "2021-08-19T14:30:08.574452Z"
    },
    "papermill": {
     "duration": 0.155779,
     "end_time": "2021-08-19T14:30:08.574857",
     "exception": false,
     "start_time": "2021-08-19T14:30:08.419078",
     "status": "completed"
    },
    "tags": []
   },
   "outputs": [],
   "source": [
    "df = pd.read_sql(\"select * from EBAY_TOP_BERLIN where record_time in (select distinct record_time from EBAY_TOP_BERLIN order by record_time desc limit 2)\", sqlite3.connect(\"UsedObjects.db\"))"
   ]
  },
  {
   "cell_type": "code",
   "execution_count": 5,
   "id": "popular-active",
   "metadata": {
    "execution": {
     "iopub.execute_input": "2021-08-19T14:30:08.639652Z",
     "iopub.status.busy": "2021-08-19T14:30:08.631962Z",
     "iopub.status.idle": "2021-08-19T14:30:08.660765Z",
     "shell.execute_reply": "2021-08-19T14:30:08.662111Z"
    },
    "papermill": {
     "duration": 0.067469,
     "end_time": "2021-08-19T14:30:08.662536",
     "exception": false,
     "start_time": "2021-08-19T14:30:08.595067",
     "status": "completed"
    },
    "tags": []
   },
   "outputs": [],
   "source": [
    "df_pivot = df.pivot_table(index=\"PRODUCT\", columns = \"RECORD_TIME\", values = \"LISTING_COUNT\")"
   ]
  },
  {
   "cell_type": "code",
   "execution_count": 6,
   "id": "union-huntington",
   "metadata": {
    "execution": {
     "iopub.execute_input": "2021-08-19T14:30:08.718322Z",
     "iopub.status.busy": "2021-08-19T14:30:08.716214Z",
     "iopub.status.idle": "2021-08-19T14:30:08.721546Z",
     "shell.execute_reply": "2021-08-19T14:30:08.722935Z"
    },
    "papermill": {
     "duration": 0.040806,
     "end_time": "2021-08-19T14:30:08.723371",
     "exception": false,
     "start_time": "2021-08-19T14:30:08.682565",
     "status": "completed"
    },
    "tags": []
   },
   "outputs": [],
   "source": [
    "df_pivot.columns = [\"stamp_1\", \"stamp_2\"]\n",
    "df_pivot_diff = df_pivot.diff(axis=1)"
   ]
  },
  {
   "cell_type": "code",
   "execution_count": 7,
   "id": "fifth-motion",
   "metadata": {
    "execution": {
     "iopub.execute_input": "2021-08-19T14:30:08.777383Z",
     "iopub.status.busy": "2021-08-19T14:30:08.775013Z",
     "iopub.status.idle": "2021-08-19T14:30:10.285308Z",
     "shell.execute_reply": "2021-08-19T14:30:10.286894Z"
    },
    "papermill": {
     "duration": 1.543331,
     "end_time": "2021-08-19T14:30:10.287386",
     "exception": false,
     "start_time": "2021-08-19T14:30:08.744055",
     "status": "completed"
    },
    "tags": []
   },
   "outputs": [
    {
     "data": {
      "text/plain": [
       "<AxesSubplot:ylabel='PRODUCT'>"
      ]
     },
     "execution_count": 7,
     "metadata": {},
     "output_type": "execute_result"
    },
    {
     "data": {
      "image/png": "[encoded data removed]",
      "text/plain": [
       "<Figure size 432x288 with 1 Axes>"
      ]
     },
     "metadata": {
      "needs_background": "light"
     },
     "output_type": "display_data"
    }
   ],
   "source": [
    "df_pivot_diff.sort_values(\"stamp_2\", ascending = False)[\"stamp_2\"].head(10).plot.barh()"
   ]
  },
  {
   "cell_type": "code",
   "execution_count": null,
   "id": "extra-executive",
   "metadata": {
    "papermill": {
     "duration": 0.02222,
     "end_time": "2021-08-19T14:30:10.334307",
     "exception": false,
     "start_time": "2021-08-19T14:30:10.312087",
     "status": "completed"
    },
    "tags": []
   },
   "outputs": [],
   "source": []
  }
 ],
 "metadata": {
  "kernelspec": {
   "display_name": "Python 3",
   "language": "python",
   "name": "python3"
  },
  "language_info": {
   "codemirror_mode": {
    "name": "ipython",
    "version": 3
   },
   "file_extension": ".py",
   "mimetype": "text/x-python",
   "name": "python",
   "nbconvert_exporter": "python",
   "pygments_lexer": "ipython3",
   "version": "3.9.5"
  },
  "papermill": {
   "default_parameters": {},
   "duration": 6.83088,
   "end_time": "2021-08-19T14:30:11.747337",
   "environment_variables": {},
   "exception": null,
   "input_path": "eBay_Overview.ipynb",
   "output_path": "eBay_Overview.ipynb",
   "parameters": {},
   "start_time": "2021-08-19T14:30:04.916457",
   "version": "2.3.3"
  }
 },
 "nbformat": 4,
 "nbformat_minor": 5
}