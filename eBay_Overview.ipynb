{
 "cells": [
  {
   "cell_type": "code",
   "execution_count": 1,
   "id": "reverse-picking",
   "metadata": {
    "execution": {
     "iopub.execute_input": "2021-10-07T09:00:07.476578Z",
     "iopub.status.busy": "2021-10-07T09:00:07.474585Z",
     "iopub.status.idle": "2021-10-07T09:00:08.280625Z",
     "shell.execute_reply": "2021-10-07T09:00:08.281870Z"
    },
    "papermill": {
     "duration": 0.855929,
     "end_time": "2021-10-07T09:00:08.282478",
     "exception": false,
     "start_time": "2021-10-07T09:00:07.426549",
     "status": "completed"
    },
    "tags": []
   },
   "outputs": [],
   "source": [
    "import pandas as pd\n",
    "import sqlite3"
   ]
  },
  {
   "cell_type": "code",
   "execution_count": 2,
   "id": "innovative-syndrome",
   "metadata": {
    "execution": {
     "iopub.execute_input": "2021-10-07T09:00:08.335687Z",
     "iopub.status.busy": "2021-10-07T09:00:08.333323Z",
     "iopub.status.idle": "2021-10-07T09:00:08.826515Z",
     "shell.execute_reply": "2021-10-07T09:00:08.827772Z"
    },
    "papermill": {
     "duration": 0.523148,
     "end_time": "2021-10-07T09:00:08.828201",
     "exception": false,
     "start_time": "2021-10-07T09:00:08.305053",
     "status": "completed"
    },
    "tags": []
   },
   "outputs": [],
   "source": [
    "timestamps = pd.read_sql(\"select distinct record_time from EBAY_TOP_BERLIN order by record_time desc limit 2\", sqlite3.connect(\"UsedObjects.db\"))"
   ]
  },
  {
   "cell_type": "code",
   "execution_count": 3,
   "id": "periodic-identification",
   "metadata": {
    "execution": {
     "iopub.execute_input": "2021-10-07T09:00:08.894194Z",
     "iopub.status.busy": "2021-10-07T09:00:08.892214Z",
     "iopub.status.idle": "2021-10-07T09:00:08.913526Z",
     "shell.execute_reply": "2021-10-07T09:00:08.912217Z"
    },
    "papermill": {
     "duration": 0.064474,
     "end_time": "2021-10-07T09:00:08.913862",
     "exception": false,
     "start_time": "2021-10-07T09:00:08.849388",
     "status": "completed"
    },
    "tags": []
   },
   "outputs": [
    {
     "data": {
      "text/html": [
       "<div>\n",
       "<style scoped>\n",
       "    .dataframe tbody tr th:only-of-type {\n",
       "        vertical-align: middle;\n",
       "    }\n",
       "\n",
       "    .dataframe tbody tr th {\n",
       "        vertical-align: top;\n",
       "    }\n",
       "\n",
       "    .dataframe thead th {\n",
       "        text-align: right;\n",
       "    }\n",
       "</style>\n",
       "<table border=\"1\" class=\"dataframe\">\n",
       "  <thead>\n",
       "    <tr style=\"text-align: right;\">\n",
       "      <th></th>\n",
       "      <th>RECORD_TIME</th>\n",
       "    </tr>\n",
       "  </thead>\n",
       "  <tbody>\n",
       "    <tr>\n",
       "      <th>0</th>\n",
       "      <td>2021-10-07 11:00</td>\n",
       "    </tr>\n",
       "    <tr>\n",
       "      <th>1</th>\n",
       "      <td>2021-10-07 10:30</td>\n",
       "    </tr>\n",
       "  </tbody>\n",
       "</table>\n",
       "</div>"
      ],
      "text/plain": [
       "        RECORD_TIME\n",
       "0  2021-10-07 11:00\n",
       "1  2021-10-07 10:30"
      ]
     },
     "execution_count": 3,
     "metadata": {},
     "output_type": "execute_result"
    }
   ],
   "source": [
    "timestamps"
   ]
  },
  {
   "cell_type": "code",
   "execution_count": 4,
   "id": "alternate-victory",
   "metadata": {
    "execution": {
     "iopub.execute_input": "2021-10-07T09:00:08.976006Z",
     "iopub.status.busy": "2021-10-07T09:00:08.973951Z",
     "iopub.status.idle": "2021-10-07T09:00:09.671318Z",
     "shell.execute_reply": "2021-10-07T09:00:09.672812Z"
    },
    "papermill": {
     "duration": 0.731516,
     "end_time": "2021-10-07T09:00:09.673262",
     "exception": false,
     "start_time": "2021-10-07T09:00:08.941746",
     "status": "completed"
    },
    "tags": []
   },
   "outputs": [],
   "source": [
    "df = pd.read_sql(\"select * from EBAY_TOP_BERLIN where record_time in (select distinct record_time from EBAY_TOP_BERLIN order by record_time desc limit 2)\", sqlite3.connect(\"UsedObjects.db\"))"
   ]
  },
  {
   "cell_type": "code",
   "execution_count": 5,
   "id": "popular-active",
   "metadata": {
    "execution": {
     "iopub.execute_input": "2021-10-07T09:00:09.743529Z",
     "iopub.status.busy": "2021-10-07T09:00:09.732640Z",
     "iopub.status.idle": "2021-10-07T09:00:09.760156Z",
     "shell.execute_reply": "2021-10-07T09:00:09.761361Z"
    },
    "papermill": {
     "duration": 0.067652,
     "end_time": "2021-10-07T09:00:09.761761",
     "exception": false,
     "start_time": "2021-10-07T09:00:09.694109",
     "status": "completed"
    },
    "tags": []
   },
   "outputs": [],
   "source": [
    "df_pivot = df.pivot_table(index=\"PRODUCT\", columns = \"RECORD_TIME\", values = \"LISTING_COUNT\")"
   ]
  },
  {
   "cell_type": "code",
   "execution_count": 6,
   "id": "union-huntington",
   "metadata": {
    "execution": {
     "iopub.execute_input": "2021-10-07T09:00:09.821222Z",
     "iopub.status.busy": "2021-10-07T09:00:09.818673Z",
     "iopub.status.idle": "2021-10-07T09:00:09.826249Z",
     "shell.execute_reply": "2021-10-07T09:00:09.824873Z"
    },
    "papermill": {
     "duration": 0.042506,
     "end_time": "2021-10-07T09:00:09.826606",
     "exception": false,
     "start_time": "2021-10-07T09:00:09.784100",
     "status": "completed"
    },
    "tags": []
   },
   "outputs": [],
   "source": [
    "df_pivot.columns = [\"stamp_1\", \"stamp_2\"]\n",
    "df_pivot_diff = df_pivot.diff(axis=1)"
   ]
  },
  {
   "cell_type": "code",
   "execution_count": 7,
   "id": "fifth-motion",
   "metadata": {
    "execution": {
     "iopub.execute_input": "2021-10-07T09:00:09.882003Z",
     "iopub.status.busy": "2021-10-07T09:00:09.879533Z",
     "iopub.status.idle": "2021-10-07T09:00:11.344875Z",
     "shell.execute_reply": "2021-10-07T09:00:11.346156Z"
    },
    "papermill": {
     "duration": 1.499508,
     "end_time": "2021-10-07T09:00:11.346576",
     "exception": false,
     "start_time": "2021-10-07T09:00:09.847068",
     "status": "completed"
    },
    "tags": []
   },
   "outputs": [
    {
     "data": {
      "text/plain": [
       "<AxesSubplot:ylabel='PRODUCT'>"
      ]
     },
     "execution_count": 7,
     "metadata": {},
     "output_type": "execute_result"
    },
    {
     "data": {
      "image/png": "[encoded data removed]",
      "text/plain": [
       "<Figure size 432x288 with 1 Axes>"
      ]
     },
     "metadata": {
      "needs_background": "light"
     },
     "output_type": "display_data"
    }
   ],
   "source": [
    "df_pivot_diff.sort_values(\"stamp_2\", ascending = False)[\"stamp_2\"].head(10).plot.barh()"
   ]
  },
  {
   "cell_type": "code",
   "execution_count": null,
   "id": "extra-executive",
   "metadata": {
    "papermill": {
     "duration": 0.02226,
     "end_time": "2021-10-07T09:00:11.394984",
     "exception": false,
     "start_time": "2021-10-07T09:00:11.372724",
     "status": "completed"
    },
    "tags": []
   },
   "outputs": [],
   "source": []
  }
 ],
 "metadata": {
  "kernelspec": {
   "display_name": "Python 3",
   "language": "python",
   "name": "python3"
  },
  "language_info": {
   "codemirror_mode": {
    "name": "ipython",
    "version": 3
   },
   "file_extension": ".py",
   "mimetype": "text/x-python",
   "name": "python",
   "nbconvert_exporter": "python",
   "pygments_lexer": "ipython3",
   "version": "3.9.5"
  },
  "papermill": {
   "default_parameters": {},
   "duration": 7.839765,
   "end_time": "2021-10-07T09:00:12.863128",
   "environment_variables": {},
   "exception": null,
   "input_path": "eBay_Overview.ipynb",
   "output_path": "eBay_Overview.ipynb",
   "parameters": {},
   "start_time": "2021-10-07T09:00:05.023363",
   "version": "2.3.3"
  }
 },
 "nbformat": 4,
 "nbformat_minor": 5
}