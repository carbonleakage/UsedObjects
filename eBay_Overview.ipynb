{
 "cells": [
  {
   "cell_type": "code",
   "execution_count": 1,
   "id": "reverse-picking",
   "metadata": {
    "execution": {
     "iopub.execute_input": "2021-10-10T23:30:06.549075Z",
     "iopub.status.busy": "2021-10-10T23:30:06.547108Z",
     "iopub.status.idle": "2021-10-10T23:30:07.357433Z",
     "shell.execute_reply": "2021-10-10T23:30:07.358744Z"
    },
    "papermill": {
     "duration": 0.861214,
     "end_time": "2021-10-10T23:30:07.359483",
     "exception": false,
     "start_time": "2021-10-10T23:30:06.498269",
     "status": "completed"
    },
    "tags": []
   },
   "outputs": [],
   "source": [
    "import pandas as pd\n",
    "import sqlite3"
   ]
  },
  {
   "cell_type": "code",
   "execution_count": 2,
   "id": "innovative-syndrome",
   "metadata": {
    "execution": {
     "iopub.execute_input": "2021-10-10T23:30:07.409909Z",
     "iopub.status.busy": "2021-10-10T23:30:07.407909Z",
     "iopub.status.idle": "2021-10-10T23:30:07.905395Z",
     "shell.execute_reply": "2021-10-10T23:30:07.906666Z"
    },
    "papermill": {
     "duration": 0.527552,
     "end_time": "2021-10-10T23:30:07.907203",
     "exception": false,
     "start_time": "2021-10-10T23:30:07.379651",
     "status": "completed"
    },
    "tags": []
   },
   "outputs": [],
   "source": [
    "timestamps = pd.read_sql(\"select distinct record_time from EBAY_TOP_BERLIN order by record_time desc limit 2\", sqlite3.connect(\"UsedObjects.db\"))"
   ]
  },
  {
   "cell_type": "code",
   "execution_count": 3,
   "id": "periodic-identification",
   "metadata": {
    "execution": {
     "iopub.execute_input": "2021-10-10T23:30:07.973540Z",
     "iopub.status.busy": "2021-10-10T23:30:07.971529Z",
     "iopub.status.idle": "2021-10-10T23:30:07.991198Z",
     "shell.execute_reply": "2021-10-10T23:30:07.992403Z"
    },
    "papermill": {
     "duration": 0.065847,
     "end_time": "2021-10-10T23:30:07.992846",
     "exception": false,
     "start_time": "2021-10-10T23:30:07.926999",
     "status": "completed"
    },
    "tags": []
   },
   "outputs": [
    {
     "data": {
      "text/html": [
       "<div>\n",
       "<style scoped>\n",
       "    .dataframe tbody tr th:only-of-type {\n",
       "        vertical-align: middle;\n",
       "    }\n",
       "\n",
       "    .dataframe tbody tr th {\n",
       "        vertical-align: top;\n",
       "    }\n",
       "\n",
       "    .dataframe thead th {\n",
       "        text-align: right;\n",
       "    }\n",
       "</style>\n",
       "<table border=\"1\" class=\"dataframe\">\n",
       "  <thead>\n",
       "    <tr style=\"text-align: right;\">\n",
       "      <th></th>\n",
       "      <th>RECORD_TIME</th>\n",
       "    </tr>\n",
       "  </thead>\n",
       "  <tbody>\n",
       "    <tr>\n",
       "      <th>0</th>\n",
       "      <td>2021-10-11 01:30</td>\n",
       "    </tr>\n",
       "    <tr>\n",
       "      <th>1</th>\n",
       "      <td>2021-10-11 01:00</td>\n",
       "    </tr>\n",
       "  </tbody>\n",
       "</table>\n",
       "</div>"
      ],
      "text/plain": [
       "        RECORD_TIME\n",
       "0  2021-10-11 01:30\n",
       "1  2021-10-11 01:00"
      ]
     },
     "execution_count": 3,
     "metadata": {},
     "output_type": "execute_result"
    }
   ],
   "source": [
    "timestamps"
   ]
  },
  {
   "cell_type": "code",
   "execution_count": 4,
   "id": "alternate-victory",
   "metadata": {
    "execution": {
     "iopub.execute_input": "2021-10-10T23:30:08.064847Z",
     "iopub.status.busy": "2021-10-10T23:30:08.062881Z",
     "iopub.status.idle": "2021-10-10T23:30:08.791717Z",
     "shell.execute_reply": "2021-10-10T23:30:08.792924Z"
    },
    "papermill": {
     "duration": 0.764709,
     "end_time": "2021-10-10T23:30:08.793325",
     "exception": false,
     "start_time": "2021-10-10T23:30:08.028616",
     "status": "completed"
    },
    "tags": []
   },
   "outputs": [],
   "source": [
    "df = pd.read_sql(\"select * from EBAY_TOP_BERLIN where record_time in (select distinct record_time from EBAY_TOP_BERLIN order by record_time desc limit 2)\", sqlite3.connect(\"UsedObjects.db\"))"
   ]
  },
  {
   "cell_type": "code",
   "execution_count": 5,
   "id": "popular-active",
   "metadata": {
    "execution": {
     "iopub.execute_input": "2021-10-10T23:30:08.864076Z",
     "iopub.status.busy": "2021-10-10T23:30:08.852943Z",
     "iopub.status.idle": "2021-10-10T23:30:08.881251Z",
     "shell.execute_reply": "2021-10-10T23:30:08.882529Z"
    },
    "papermill": {
     "duration": 0.067568,
     "end_time": "2021-10-10T23:30:08.883006",
     "exception": false,
     "start_time": "2021-10-10T23:30:08.815438",
     "status": "completed"
    },
    "tags": []
   },
   "outputs": [],
   "source": [
    "df_pivot = df.pivot_table(index=\"PRODUCT\", columns = \"RECORD_TIME\", values = \"LISTING_COUNT\")"
   ]
  },
  {
   "cell_type": "code",
   "execution_count": 6,
   "id": "union-huntington",
   "metadata": {
    "execution": {
     "iopub.execute_input": "2021-10-10T23:30:08.940174Z",
     "iopub.status.busy": "2021-10-10T23:30:08.938096Z",
     "iopub.status.idle": "2021-10-10T23:30:08.943210Z",
     "shell.execute_reply": "2021-10-10T23:30:08.944490Z"
    },
    "papermill": {
     "duration": 0.041186,
     "end_time": "2021-10-10T23:30:08.944913",
     "exception": false,
     "start_time": "2021-10-10T23:30:08.903727",
     "status": "completed"
    },
    "tags": []
   },
   "outputs": [],
   "source": [
    "df_pivot.columns = [\"stamp_1\", \"stamp_2\"]\n",
    "df_pivot_diff = df_pivot.diff(axis=1)"
   ]
  },
  {
   "cell_type": "code",
   "execution_count": 7,
   "id": "fifth-motion",
   "metadata": {
    "execution": {
     "iopub.execute_input": "2021-10-10T23:30:08.999466Z",
     "iopub.status.busy": "2021-10-10T23:30:08.996909Z",
     "iopub.status.idle": "2021-10-10T23:30:10.475301Z",
     "shell.execute_reply": "2021-10-10T23:30:10.476589Z"
    },
    "papermill": {
     "duration": 1.511474,
     "end_time": "2021-10-10T23:30:10.477012",
     "exception": false,
     "start_time": "2021-10-10T23:30:08.965538",
     "status": "completed"
    },
    "tags": []
   },
   "outputs": [
    {
     "data": {
      "text/plain": [
       "<AxesSubplot:ylabel='PRODUCT'>"
      ]
     },
     "execution_count": 7,
     "metadata": {},
     "output_type": "execute_result"
    },
    {
     "data": {
      "image/png": "[encoded data removed]",
      "text/plain": [
       "<Figure size 432x288 with 1 Axes>"
      ]
     },
     "metadata": {
      "needs_background": "light"
     },
     "output_type": "display_data"
    }
   ],
   "source": [
    "df_pivot_diff.sort_values(\"stamp_2\", ascending = False)[\"stamp_2\"].head(10).plot.barh()"
   ]
  },
  {
   "cell_type": "code",
   "execution_count": null,
   "id": "extra-executive",
   "metadata": {
    "papermill": {
     "duration": 0.022485,
     "end_time": "2021-10-10T23:30:10.523482",
     "exception": false,
     "start_time": "2021-10-10T23:30:10.500997",
     "status": "completed"
    },
    "tags": []
   },
   "outputs": [],
   "source": []
  }
 ],
 "metadata": {
  "kernelspec": {
   "display_name": "Python 3",
   "language": "python",
   "name": "python3"
  },
  "language_info": {
   "codemirror_mode": {
    "name": "ipython",
    "version": 3
   },
   "file_extension": ".py",
   "mimetype": "text/x-python",
   "name": "python",
   "nbconvert_exporter": "python",
   "pygments_lexer": "ipython3",
   "version": "3.9.5"
  },
  "papermill": {
   "default_parameters": {},
   "duration": 7.824333,
   "end_time": "2021-10-10T23:30:11.907356",
   "environment_variables": {},
   "exception": null,
   "input_path": "eBay_Overview.ipynb",
   "output_path": "eBay_Overview.ipynb",
   "parameters": {},
   "start_time": "2021-10-10T23:30:04.083023",
   "version": "2.3.3"
  }
 },
 "nbformat": 4,
 "nbformat_minor": 5
}