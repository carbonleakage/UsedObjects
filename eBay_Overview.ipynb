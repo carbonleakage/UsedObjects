{
 "cells": [
  {
   "cell_type": "code",
   "execution_count": 1,
   "id": "reverse-picking",
   "metadata": {
    "execution": {
     "iopub.execute_input": "2021-10-31T07:00:07.862828Z",
     "iopub.status.busy": "2021-10-31T07:00:07.860794Z",
     "iopub.status.idle": "2021-10-31T07:00:08.664190Z",
     "shell.execute_reply": "2021-10-31T07:00:08.665548Z"
    },
    "papermill": {
     "duration": 0.854098,
     "end_time": "2021-10-31T07:00:08.666179",
     "exception": false,
     "start_time": "2021-10-31T07:00:07.812081",
     "status": "completed"
    },
    "tags": []
   },
   "outputs": [],
   "source": [
    "import pandas as pd\n",
    "import sqlite3"
   ]
  },
  {
   "cell_type": "code",
   "execution_count": 2,
   "id": "innovative-syndrome",
   "metadata": {
    "execution": {
     "iopub.execute_input": "2021-10-31T07:00:08.716576Z",
     "iopub.status.busy": "2021-10-31T07:00:08.714728Z",
     "iopub.status.idle": "2021-10-31T07:00:09.382417Z",
     "shell.execute_reply": "2021-10-31T07:00:09.383841Z"
    },
    "papermill": {
     "duration": 0.697481,
     "end_time": "2021-10-31T07:00:09.384285",
     "exception": false,
     "start_time": "2021-10-31T07:00:08.686804",
     "status": "completed"
    },
    "tags": []
   },
   "outputs": [],
   "source": [
    "timestamps = pd.read_sql(\"select distinct record_time from EBAY_TOP_BERLIN order by record_time desc limit 2\", sqlite3.connect(\"UsedObjects.db\"))"
   ]
  },
  {
   "cell_type": "code",
   "execution_count": 3,
   "id": "periodic-identification",
   "metadata": {
    "execution": {
     "iopub.execute_input": "2021-10-31T07:00:09.448320Z",
     "iopub.status.busy": "2021-10-31T07:00:09.446323Z",
     "iopub.status.idle": "2021-10-31T07:00:09.466239Z",
     "shell.execute_reply": "2021-10-31T07:00:09.467535Z"
    },
    "papermill": {
     "duration": 0.064547,
     "end_time": "2021-10-31T07:00:09.467945",
     "exception": false,
     "start_time": "2021-10-31T07:00:09.403398",
     "status": "completed"
    },
    "tags": []
   },
   "outputs": [
    {
     "data": {
      "text/html": [
       "<div>\n",
       "<style scoped>\n",
       "    .dataframe tbody tr th:only-of-type {\n",
       "        vertical-align: middle;\n",
       "    }\n",
       "\n",
       "    .dataframe tbody tr th {\n",
       "        vertical-align: top;\n",
       "    }\n",
       "\n",
       "    .dataframe thead th {\n",
       "        text-align: right;\n",
       "    }\n",
       "</style>\n",
       "<table border=\"1\" class=\"dataframe\">\n",
       "  <thead>\n",
       "    <tr style=\"text-align: right;\">\n",
       "      <th></th>\n",
       "      <th>RECORD_TIME</th>\n",
       "    </tr>\n",
       "  </thead>\n",
       "  <tbody>\n",
       "    <tr>\n",
       "      <th>0</th>\n",
       "      <td>2021-10-31 08:00</td>\n",
       "    </tr>\n",
       "    <tr>\n",
       "      <th>1</th>\n",
       "      <td>2021-10-31 07:30</td>\n",
       "    </tr>\n",
       "  </tbody>\n",
       "</table>\n",
       "</div>"
      ],
      "text/plain": [
       "        RECORD_TIME\n",
       "0  2021-10-31 08:00\n",
       "1  2021-10-31 07:30"
      ]
     },
     "execution_count": 3,
     "metadata": {},
     "output_type": "execute_result"
    }
   ],
   "source": [
    "timestamps"
   ]
  },
  {
   "cell_type": "code",
   "execution_count": 4,
   "id": "alternate-victory",
   "metadata": {
    "execution": {
     "iopub.execute_input": "2021-10-31T07:00:09.518696Z",
     "iopub.status.busy": "2021-10-31T07:00:09.516823Z",
     "iopub.status.idle": "2021-10-31T07:00:10.491518Z",
     "shell.execute_reply": "2021-10-31T07:00:10.492935Z"
    },
    "papermill": {
     "duration": 1.004926,
     "end_time": "2021-10-31T07:00:10.493362",
     "exception": false,
     "start_time": "2021-10-31T07:00:09.488436",
     "status": "completed"
    },
    "tags": []
   },
   "outputs": [],
   "source": [
    "df = pd.read_sql(\"select * from EBAY_TOP_BERLIN where record_time in (select distinct record_time from EBAY_TOP_BERLIN order by record_time desc limit 2)\", sqlite3.connect(\"UsedObjects.db\"))"
   ]
  },
  {
   "cell_type": "code",
   "execution_count": 5,
   "id": "popular-active",
   "metadata": {
    "execution": {
     "iopub.execute_input": "2021-10-31T07:00:10.554498Z",
     "iopub.status.busy": "2021-10-31T07:00:10.552296Z",
     "iopub.status.idle": "2021-10-31T07:00:10.579547Z",
     "shell.execute_reply": "2021-10-31T07:00:10.580892Z"
    },
    "papermill": {
     "duration": 0.067368,
     "end_time": "2021-10-31T07:00:10.581310",
     "exception": false,
     "start_time": "2021-10-31T07:00:10.513942",
     "status": "completed"
    },
    "tags": []
   },
   "outputs": [],
   "source": [
    "df_pivot = df.pivot_table(index=\"PRODUCT\", columns = \"RECORD_TIME\", values = \"LISTING_COUNT\")"
   ]
  },
  {
   "cell_type": "code",
   "execution_count": 6,
   "id": "union-huntington",
   "metadata": {
    "execution": {
     "iopub.execute_input": "2021-10-31T07:00:10.638282Z",
     "iopub.status.busy": "2021-10-31T07:00:10.636263Z",
     "iopub.status.idle": "2021-10-31T07:00:10.641454Z",
     "shell.execute_reply": "2021-10-31T07:00:10.642604Z"
    },
    "papermill": {
     "duration": 0.040162,
     "end_time": "2021-10-31T07:00:10.643014",
     "exception": false,
     "start_time": "2021-10-31T07:00:10.602852",
     "status": "completed"
    },
    "tags": []
   },
   "outputs": [],
   "source": [
    "df_pivot.columns = [\"stamp_1\", \"stamp_2\"]\n",
    "df_pivot_diff = df_pivot.diff(axis=1)"
   ]
  },
  {
   "cell_type": "code",
   "execution_count": 7,
   "id": "fifth-motion",
   "metadata": {
    "execution": {
     "iopub.execute_input": "2021-10-31T07:00:10.700497Z",
     "iopub.status.busy": "2021-10-31T07:00:10.697900Z",
     "iopub.status.idle": "2021-10-31T07:00:12.216260Z",
     "shell.execute_reply": "2021-10-31T07:00:12.217610Z"
    },
    "papermill": {
     "duration": 1.552204,
     "end_time": "2021-10-31T07:00:12.218030",
     "exception": false,
     "start_time": "2021-10-31T07:00:10.665826",
     "status": "completed"
    },
    "tags": []
   },
   "outputs": [
    {
     "data": {
      "text/plain": [
       "<AxesSubplot:ylabel='PRODUCT'>"
      ]
     },
     "execution_count": 7,
     "metadata": {},
     "output_type": "execute_result"
    },
    {
     "data": {
      "image/png": "[encoded data removed]",
      "text/plain": [
       "<Figure size 432x288 with 1 Axes>"
      ]
     },
     "metadata": {
      "needs_background": "light"
     },
     "output_type": "display_data"
    }
   ],
   "source": [
    "df_pivot_diff.sort_values(\"stamp_2\", ascending = False)[\"stamp_2\"].head(10).plot.barh()"
   ]
  },
  {
   "cell_type": "code",
   "execution_count": null,
   "id": "extra-executive",
   "metadata": {
    "papermill": {
     "duration": 0.022316,
     "end_time": "2021-10-31T07:00:12.265548",
     "exception": false,
     "start_time": "2021-10-31T07:00:12.243232",
     "status": "completed"
    },
    "tags": []
   },
   "outputs": [],
   "source": []
  }
 ],
 "metadata": {
  "kernelspec": {
   "display_name": "Python 3",
   "language": "python",
   "name": "python3"
  },
  "language_info": {
   "codemirror_mode": {
    "name": "ipython",
    "version": 3
   },
   "file_extension": ".py",
   "mimetype": "text/x-python",
   "name": "python",
   "nbconvert_exporter": "python",
   "pygments_lexer": "ipython3",
   "version": "3.9.5"
  },
  "papermill": {
   "default_parameters": {},
   "duration": 7.50553,
   "end_time": "2021-10-31T07:00:12.909211",
   "environment_variables": {},
   "exception": null,
   "input_path": "eBay_Overview.ipynb",
   "output_path": "eBay_Overview.ipynb",
   "parameters": {},
   "start_time": "2021-10-31T07:00:05.403681",
   "version": "2.3.3"
  }
 },
 "nbformat": 4,
 "nbformat_minor": 5
}