{
 "cells": [
  {
   "cell_type": "code",
   "execution_count": 1,
   "id": "reverse-picking",
   "metadata": {
    "execution": {
     "iopub.execute_input": "2021-08-16T23:30:07.191464Z",
     "iopub.status.busy": "2021-08-16T23:30:07.189362Z",
     "iopub.status.idle": "2021-08-16T23:30:08.002476Z",
     "shell.execute_reply": "2021-08-16T23:30:08.003835Z"
    },
    "papermill": {
     "duration": 0.862817,
     "end_time": "2021-08-16T23:30:08.004502",
     "exception": false,
     "start_time": "2021-08-16T23:30:07.141685",
     "status": "completed"
    },
    "tags": []
   },
   "outputs": [],
   "source": [
    "import pandas as pd\n",
    "import sqlite3"
   ]
  },
  {
   "cell_type": "code",
   "execution_count": 2,
   "id": "innovative-syndrome",
   "metadata": {
    "execution": {
     "iopub.execute_input": "2021-08-16T23:30:08.055541Z",
     "iopub.status.busy": "2021-08-16T23:30:08.053524Z",
     "iopub.status.idle": "2021-08-16T23:30:08.116867Z",
     "shell.execute_reply": "2021-08-16T23:30:08.118270Z"
    },
    "papermill": {
     "duration": 0.09316,
     "end_time": "2021-08-16T23:30:08.118746",
     "exception": false,
     "start_time": "2021-08-16T23:30:08.025586",
     "status": "completed"
    },
    "tags": []
   },
   "outputs": [],
   "source": [
    "timestamps = pd.read_sql(\"select distinct record_time from EBAY_TOP_BERLIN order by record_time desc limit 2\", sqlite3.connect(\"UsedObjects.db\"))"
   ]
  },
  {
   "cell_type": "code",
   "execution_count": 3,
   "id": "periodic-identification",
   "metadata": {
    "execution": {
     "iopub.execute_input": "2021-08-16T23:30:08.184245Z",
     "iopub.status.busy": "2021-08-16T23:30:08.182174Z",
     "iopub.status.idle": "2021-08-16T23:30:08.204018Z",
     "shell.execute_reply": "2021-08-16T23:30:08.205241Z"
    },
    "papermill": {
     "duration": 0.067198,
     "end_time": "2021-08-16T23:30:08.205643",
     "exception": false,
     "start_time": "2021-08-16T23:30:08.138445",
     "status": "completed"
    },
    "tags": []
   },
   "outputs": [
    {
     "data": {
      "text/html": [
       "<div>\n",
       "<style scoped>\n",
       "    .dataframe tbody tr th:only-of-type {\n",
       "        vertical-align: middle;\n",
       "    }\n",
       "\n",
       "    .dataframe tbody tr th {\n",
       "        vertical-align: top;\n",
       "    }\n",
       "\n",
       "    .dataframe thead th {\n",
       "        text-align: right;\n",
       "    }\n",
       "</style>\n",
       "<table border=\"1\" class=\"dataframe\">\n",
       "  <thead>\n",
       "    <tr style=\"text-align: right;\">\n",
       "      <th></th>\n",
       "      <th>RECORD_TIME</th>\n",
       "    </tr>\n",
       "  </thead>\n",
       "  <tbody>\n",
       "    <tr>\n",
       "      <th>0</th>\n",
       "      <td>2021-08-17 01:30</td>\n",
       "    </tr>\n",
       "    <tr>\n",
       "      <th>1</th>\n",
       "      <td>2021-08-17 01:00</td>\n",
       "    </tr>\n",
       "  </tbody>\n",
       "</table>\n",
       "</div>"
      ],
      "text/plain": [
       "        RECORD_TIME\n",
       "0  2021-08-17 01:30\n",
       "1  2021-08-17 01:00"
      ]
     },
     "execution_count": 3,
     "metadata": {},
     "output_type": "execute_result"
    }
   ],
   "source": [
    "timestamps"
   ]
  },
  {
   "cell_type": "code",
   "execution_count": 4,
   "id": "alternate-victory",
   "metadata": {
    "execution": {
     "iopub.execute_input": "2021-08-16T23:30:08.258862Z",
     "iopub.status.busy": "2021-08-16T23:30:08.256483Z",
     "iopub.status.idle": "2021-08-16T23:30:08.354186Z",
     "shell.execute_reply": "2021-08-16T23:30:08.355520Z"
    },
    "papermill": {
     "duration": 0.12845,
     "end_time": "2021-08-16T23:30:08.355948",
     "exception": false,
     "start_time": "2021-08-16T23:30:08.227498",
     "status": "completed"
    },
    "tags": []
   },
   "outputs": [],
   "source": [
    "df = pd.read_sql(\"select * from EBAY_TOP_BERLIN where record_time in (select distinct record_time from EBAY_TOP_BERLIN order by record_time desc limit 2)\", sqlite3.connect(\"UsedObjects.db\"))"
   ]
  },
  {
   "cell_type": "code",
   "execution_count": 5,
   "id": "popular-active",
   "metadata": {
    "execution": {
     "iopub.execute_input": "2021-08-16T23:30:08.425663Z",
     "iopub.status.busy": "2021-08-16T23:30:08.414395Z",
     "iopub.status.idle": "2021-08-16T23:30:08.444163Z",
     "shell.execute_reply": "2021-08-16T23:30:08.445541Z"
    },
    "papermill": {
     "duration": 0.069559,
     "end_time": "2021-08-16T23:30:08.446027",
     "exception": false,
     "start_time": "2021-08-16T23:30:08.376468",
     "status": "completed"
    },
    "tags": []
   },
   "outputs": [],
   "source": [
    "df_pivot = df.pivot_table(index=\"PRODUCT\", columns = \"RECORD_TIME\", values = \"LISTING_COUNT\")"
   ]
  },
  {
   "cell_type": "code",
   "execution_count": 6,
   "id": "union-huntington",
   "metadata": {
    "execution": {
     "iopub.execute_input": "2021-08-16T23:30:08.502462Z",
     "iopub.status.busy": "2021-08-16T23:30:08.500346Z",
     "iopub.status.idle": "2021-08-16T23:30:08.506115Z",
     "shell.execute_reply": "2021-08-16T23:30:08.507369Z"
    },
    "papermill": {
     "duration": 0.041682,
     "end_time": "2021-08-16T23:30:08.507812",
     "exception": false,
     "start_time": "2021-08-16T23:30:08.466130",
     "status": "completed"
    },
    "tags": []
   },
   "outputs": [],
   "source": [
    "df_pivot.columns = [\"stamp_1\", \"stamp_2\"]\n",
    "df_pivot_diff = df_pivot.diff(axis=1)"
   ]
  },
  {
   "cell_type": "code",
   "execution_count": 7,
   "id": "fifth-motion",
   "metadata": {
    "execution": {
     "iopub.execute_input": "2021-08-16T23:30:08.565887Z",
     "iopub.status.busy": "2021-08-16T23:30:08.563227Z",
     "iopub.status.idle": "2021-08-16T23:30:10.052907Z",
     "shell.execute_reply": "2021-08-16T23:30:10.054343Z"
    },
    "papermill": {
     "duration": 1.52408,
     "end_time": "2021-08-16T23:30:10.054799",
     "exception": false,
     "start_time": "2021-08-16T23:30:08.530719",
     "status": "completed"
    },
    "tags": []
   },
   "outputs": [
    {
     "data": {
      "text/plain": [
       "<AxesSubplot:ylabel='PRODUCT'>"
      ]
     },
     "execution_count": 7,
     "metadata": {},
     "output_type": "execute_result"
    },
    {
     "data": {
      "image/png": "[encoded data removed]",
      "text/plain": [
       "<Figure size 432x288 with 1 Axes>"
      ]
     },
     "metadata": {
      "needs_background": "light"
     },
     "output_type": "display_data"
    }
   ],
   "source": [
    "df_pivot_diff.sort_values(\"stamp_2\", ascending = False)[\"stamp_2\"].head(10).plot.barh()"
   ]
  },
  {
   "cell_type": "code",
   "execution_count": null,
   "id": "extra-executive",
   "metadata": {
    "papermill": {
     "duration": 0.02217,
     "end_time": "2021-08-16T23:30:10.102693",
     "exception": false,
     "start_time": "2021-08-16T23:30:10.080523",
     "status": "completed"
    },
    "tags": []
   },
   "outputs": [],
   "source": []
  }
 ],
 "metadata": {
  "kernelspec": {
   "display_name": "Python 3",
   "language": "python",
   "name": "python3"
  },
  "language_info": {
   "codemirror_mode": {
    "name": "ipython",
    "version": 3
   },
   "file_extension": ".py",
   "mimetype": "text/x-python",
   "name": "python",
   "nbconvert_exporter": "python",
   "pygments_lexer": "ipython3",
   "version": "3.9.5"
  },
  "papermill": {
   "default_parameters": {},
   "duration": 6.841897,
   "end_time": "2021-08-16T23:30:11.553291",
   "environment_variables": {},
   "exception": null,
   "input_path": "eBay_Overview.ipynb",
   "output_path": "eBay_Overview.ipynb",
   "parameters": {},
   "start_time": "2021-08-16T23:30:04.711394",
   "version": "2.3.3"
  }
 },
 "nbformat": 4,
 "nbformat_minor": 5
}