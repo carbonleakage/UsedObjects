{
 "cells": [
  {
   "cell_type": "code",
   "execution_count": 1,
   "id": "reverse-picking",
   "metadata": {
    "execution": {
     "iopub.execute_input": "2021-10-21T18:30:07.302466Z",
     "iopub.status.busy": "2021-10-21T18:30:07.300464Z",
     "iopub.status.idle": "2021-10-21T18:30:08.106386Z",
     "shell.execute_reply": "2021-10-21T18:30:08.107622Z"
    },
    "papermill": {
     "duration": 0.857576,
     "end_time": "2021-10-21T18:30:08.108233",
     "exception": false,
     "start_time": "2021-10-21T18:30:07.250657",
     "status": "completed"
    },
    "tags": []
   },
   "outputs": [],
   "source": [
    "import pandas as pd\n",
    "import sqlite3"
   ]
  },
  {
   "cell_type": "code",
   "execution_count": 2,
   "id": "innovative-syndrome",
   "metadata": {
    "execution": {
     "iopub.execute_input": "2021-10-21T18:30:08.157886Z",
     "iopub.status.busy": "2021-10-21T18:30:08.155924Z",
     "iopub.status.idle": "2021-10-21T18:30:08.760024Z",
     "shell.execute_reply": "2021-10-21T18:30:08.761378Z"
    },
    "papermill": {
     "duration": 0.633459,
     "end_time": "2021-10-21T18:30:08.761801",
     "exception": false,
     "start_time": "2021-10-21T18:30:08.128342",
     "status": "completed"
    },
    "tags": []
   },
   "outputs": [],
   "source": [
    "timestamps = pd.read_sql(\"select distinct record_time from EBAY_TOP_BERLIN order by record_time desc limit 2\", sqlite3.connect(\"UsedObjects.db\"))"
   ]
  },
  {
   "cell_type": "code",
   "execution_count": 3,
   "id": "periodic-identification",
   "metadata": {
    "execution": {
     "iopub.execute_input": "2021-10-21T18:30:08.838865Z",
     "iopub.status.busy": "2021-10-21T18:30:08.836833Z",
     "iopub.status.idle": "2021-10-21T18:30:08.857325Z",
     "shell.execute_reply": "2021-10-21T18:30:08.858517Z"
    },
    "papermill": {
     "duration": 0.07129,
     "end_time": "2021-10-21T18:30:08.858936",
     "exception": false,
     "start_time": "2021-10-21T18:30:08.787646",
     "status": "completed"
    },
    "tags": []
   },
   "outputs": [
    {
     "data": {
      "text/html": [
       "<div>\n",
       "<style scoped>\n",
       "    .dataframe tbody tr th:only-of-type {\n",
       "        vertical-align: middle;\n",
       "    }\n",
       "\n",
       "    .dataframe tbody tr th {\n",
       "        vertical-align: top;\n",
       "    }\n",
       "\n",
       "    .dataframe thead th {\n",
       "        text-align: right;\n",
       "    }\n",
       "</style>\n",
       "<table border=\"1\" class=\"dataframe\">\n",
       "  <thead>\n",
       "    <tr style=\"text-align: right;\">\n",
       "      <th></th>\n",
       "      <th>RECORD_TIME</th>\n",
       "    </tr>\n",
       "  </thead>\n",
       "  <tbody>\n",
       "    <tr>\n",
       "      <th>0</th>\n",
       "      <td>2021-10-21 20:30</td>\n",
       "    </tr>\n",
       "    <tr>\n",
       "      <th>1</th>\n",
       "      <td>2021-10-21 20:00</td>\n",
       "    </tr>\n",
       "  </tbody>\n",
       "</table>\n",
       "</div>"
      ],
      "text/plain": [
       "        RECORD_TIME\n",
       "0  2021-10-21 20:30\n",
       "1  2021-10-21 20:00"
      ]
     },
     "execution_count": 3,
     "metadata": {},
     "output_type": "execute_result"
    }
   ],
   "source": [
    "timestamps"
   ]
  },
  {
   "cell_type": "code",
   "execution_count": 4,
   "id": "alternate-victory",
   "metadata": {
    "execution": {
     "iopub.execute_input": "2021-10-21T18:30:08.912647Z",
     "iopub.status.busy": "2021-10-21T18:30:08.910377Z",
     "iopub.status.idle": "2021-10-21T18:30:09.814805Z",
     "shell.execute_reply": "2021-10-21T18:30:09.816024Z"
    },
    "papermill": {
     "duration": 0.93474,
     "end_time": "2021-10-21T18:30:09.816415",
     "exception": false,
     "start_time": "2021-10-21T18:30:08.881675",
     "status": "completed"
    },
    "tags": []
   },
   "outputs": [],
   "source": [
    "df = pd.read_sql(\"select * from EBAY_TOP_BERLIN where record_time in (select distinct record_time from EBAY_TOP_BERLIN order by record_time desc limit 2)\", sqlite3.connect(\"UsedObjects.db\"))"
   ]
  },
  {
   "cell_type": "code",
   "execution_count": 5,
   "id": "popular-active",
   "metadata": {
    "execution": {
     "iopub.execute_input": "2021-10-21T18:30:09.885174Z",
     "iopub.status.busy": "2021-10-21T18:30:09.873248Z",
     "iopub.status.idle": "2021-10-21T18:30:09.900970Z",
     "shell.execute_reply": "2021-10-21T18:30:09.902364Z"
    },
    "papermill": {
     "duration": 0.066166,
     "end_time": "2021-10-21T18:30:09.902796",
     "exception": false,
     "start_time": "2021-10-21T18:30:09.836630",
     "status": "completed"
    },
    "tags": []
   },
   "outputs": [],
   "source": [
    "df_pivot = df.pivot_table(index=\"PRODUCT\", columns = \"RECORD_TIME\", values = \"LISTING_COUNT\")"
   ]
  },
  {
   "cell_type": "code",
   "execution_count": 6,
   "id": "union-huntington",
   "metadata": {
    "execution": {
     "iopub.execute_input": "2021-10-21T18:30:09.959850Z",
     "iopub.status.busy": "2021-10-21T18:30:09.957436Z",
     "iopub.status.idle": "2021-10-21T18:30:09.963116Z",
     "shell.execute_reply": "2021-10-21T18:30:09.964299Z"
    },
    "papermill": {
     "duration": 0.041648,
     "end_time": "2021-10-21T18:30:09.964768",
     "exception": false,
     "start_time": "2021-10-21T18:30:09.923120",
     "status": "completed"
    },
    "tags": []
   },
   "outputs": [],
   "source": [
    "df_pivot.columns = [\"stamp_1\", \"stamp_2\"]\n",
    "df_pivot_diff = df_pivot.diff(axis=1)"
   ]
  },
  {
   "cell_type": "code",
   "execution_count": 7,
   "id": "fifth-motion",
   "metadata": {
    "execution": {
     "iopub.execute_input": "2021-10-21T18:30:10.019208Z",
     "iopub.status.busy": "2021-10-21T18:30:10.016362Z",
     "iopub.status.idle": "2021-10-21T18:30:11.486959Z",
     "shell.execute_reply": "2021-10-21T18:30:11.488143Z"
    },
    "papermill": {
     "duration": 1.503465,
     "end_time": "2021-10-21T18:30:11.488562",
     "exception": false,
     "start_time": "2021-10-21T18:30:09.985097",
     "status": "completed"
    },
    "tags": []
   },
   "outputs": [
    {
     "data": {
      "text/plain": [
       "<AxesSubplot:ylabel='PRODUCT'>"
      ]
     },
     "execution_count": 7,
     "metadata": {},
     "output_type": "execute_result"
    },
    {
     "data": {
      "image/png": "[encoded data removed]",
      "text/plain": [
       "<Figure size 432x288 with 1 Axes>"
      ]
     },
     "metadata": {
      "needs_background": "light"
     },
     "output_type": "display_data"
    }
   ],
   "source": [
    "df_pivot_diff.sort_values(\"stamp_2\", ascending = False)[\"stamp_2\"].head(10).plot.barh()"
   ]
  },
  {
   "cell_type": "code",
   "execution_count": null,
   "id": "extra-executive",
   "metadata": {
    "papermill": {
     "duration": 0.021826,
     "end_time": "2021-10-21T18:30:11.536515",
     "exception": false,
     "start_time": "2021-10-21T18:30:11.514689",
     "status": "completed"
    },
    "tags": []
   },
   "outputs": [],
   "source": []
  }
 ],
 "metadata": {
  "kernelspec": {
   "display_name": "Python 3",
   "language": "python",
   "name": "python3"
  },
  "language_info": {
   "codemirror_mode": {
    "name": "ipython",
    "version": 3
   },
   "file_extension": ".py",
   "mimetype": "text/x-python",
   "name": "python",
   "nbconvert_exporter": "python",
   "pygments_lexer": "ipython3",
   "version": "3.9.5"
  },
  "papermill": {
   "default_parameters": {},
   "duration": 7.336313,
   "end_time": "2021-10-21T18:30:12.180049",
   "environment_variables": {},
   "exception": null,
   "input_path": "eBay_Overview.ipynb",
   "output_path": "eBay_Overview.ipynb",
   "parameters": {},
   "start_time": "2021-10-21T18:30:04.843736",
   "version": "2.3.3"
  }
 },
 "nbformat": 4,
 "nbformat_minor": 5
}