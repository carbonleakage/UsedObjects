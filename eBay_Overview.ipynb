{
 "cells": [
  {
   "cell_type": "code",
   "execution_count": 1,
   "id": "reverse-picking",
   "metadata": {
    "execution": {
     "iopub.execute_input": "2021-10-07T20:30:07.066381Z",
     "iopub.status.busy": "2021-10-07T20:30:07.064414Z",
     "iopub.status.idle": "2021-10-07T20:30:07.876027Z",
     "shell.execute_reply": "2021-10-07T20:30:07.877453Z"
    },
    "papermill": {
     "duration": 0.862161,
     "end_time": "2021-10-07T20:30:07.878135",
     "exception": false,
     "start_time": "2021-10-07T20:30:07.015974",
     "status": "completed"
    },
    "tags": []
   },
   "outputs": [],
   "source": [
    "import pandas as pd\n",
    "import sqlite3"
   ]
  },
  {
   "cell_type": "code",
   "execution_count": 2,
   "id": "innovative-syndrome",
   "metadata": {
    "execution": {
     "iopub.execute_input": "2021-10-07T20:30:07.930155Z",
     "iopub.status.busy": "2021-10-07T20:30:07.928113Z",
     "iopub.status.idle": "2021-10-07T20:30:08.403129Z",
     "shell.execute_reply": "2021-10-07T20:30:08.404504Z"
    },
    "papermill": {
     "duration": 0.50546,
     "end_time": "2021-10-07T20:30:08.404933",
     "exception": false,
     "start_time": "2021-10-07T20:30:07.899473",
     "status": "completed"
    },
    "tags": []
   },
   "outputs": [],
   "source": [
    "timestamps = pd.read_sql(\"select distinct record_time from EBAY_TOP_BERLIN order by record_time desc limit 2\", sqlite3.connect(\"UsedObjects.db\"))"
   ]
  },
  {
   "cell_type": "code",
   "execution_count": 3,
   "id": "periodic-identification",
   "metadata": {
    "execution": {
     "iopub.execute_input": "2021-10-07T20:30:08.472688Z",
     "iopub.status.busy": "2021-10-07T20:30:08.470610Z",
     "iopub.status.idle": "2021-10-07T20:30:08.491172Z",
     "shell.execute_reply": "2021-10-07T20:30:08.492362Z"
    },
    "papermill": {
     "duration": 0.067333,
     "end_time": "2021-10-07T20:30:08.492784",
     "exception": false,
     "start_time": "2021-10-07T20:30:08.425451",
     "status": "completed"
    },
    "tags": []
   },
   "outputs": [
    {
     "data": {
      "text/html": [
       "<div>\n",
       "<style scoped>\n",
       "    .dataframe tbody tr th:only-of-type {\n",
       "        vertical-align: middle;\n",
       "    }\n",
       "\n",
       "    .dataframe tbody tr th {\n",
       "        vertical-align: top;\n",
       "    }\n",
       "\n",
       "    .dataframe thead th {\n",
       "        text-align: right;\n",
       "    }\n",
       "</style>\n",
       "<table border=\"1\" class=\"dataframe\">\n",
       "  <thead>\n",
       "    <tr style=\"text-align: right;\">\n",
       "      <th></th>\n",
       "      <th>RECORD_TIME</th>\n",
       "    </tr>\n",
       "  </thead>\n",
       "  <tbody>\n",
       "    <tr>\n",
       "      <th>0</th>\n",
       "      <td>2021-10-07 22:30</td>\n",
       "    </tr>\n",
       "    <tr>\n",
       "      <th>1</th>\n",
       "      <td>2021-10-07 22:00</td>\n",
       "    </tr>\n",
       "  </tbody>\n",
       "</table>\n",
       "</div>"
      ],
      "text/plain": [
       "        RECORD_TIME\n",
       "0  2021-10-07 22:30\n",
       "1  2021-10-07 22:00"
      ]
     },
     "execution_count": 3,
     "metadata": {},
     "output_type": "execute_result"
    }
   ],
   "source": [
    "timestamps"
   ]
  },
  {
   "cell_type": "code",
   "execution_count": 4,
   "id": "alternate-victory",
   "metadata": {
    "execution": {
     "iopub.execute_input": "2021-10-07T20:30:08.555930Z",
     "iopub.status.busy": "2021-10-07T20:30:08.553872Z",
     "iopub.status.idle": "2021-10-07T20:30:09.247275Z",
     "shell.execute_reply": "2021-10-07T20:30:09.248416Z"
    },
    "papermill": {
     "duration": 0.7271,
     "end_time": "2021-10-07T20:30:09.248824",
     "exception": false,
     "start_time": "2021-10-07T20:30:08.521724",
     "status": "completed"
    },
    "tags": []
   },
   "outputs": [],
   "source": [
    "df = pd.read_sql(\"select * from EBAY_TOP_BERLIN where record_time in (select distinct record_time from EBAY_TOP_BERLIN order by record_time desc limit 2)\", sqlite3.connect(\"UsedObjects.db\"))"
   ]
  },
  {
   "cell_type": "code",
   "execution_count": 5,
   "id": "popular-active",
   "metadata": {
    "execution": {
     "iopub.execute_input": "2021-10-07T20:30:09.322900Z",
     "iopub.status.busy": "2021-10-07T20:30:09.311552Z",
     "iopub.status.idle": "2021-10-07T20:30:09.338608Z",
     "shell.execute_reply": "2021-10-07T20:30:09.339888Z"
    },
    "papermill": {
     "duration": 0.06785,
     "end_time": "2021-10-07T20:30:09.340286",
     "exception": false,
     "start_time": "2021-10-07T20:30:09.272436",
     "status": "completed"
    },
    "tags": []
   },
   "outputs": [],
   "source": [
    "df_pivot = df.pivot_table(index=\"PRODUCT\", columns = \"RECORD_TIME\", values = \"LISTING_COUNT\")"
   ]
  },
  {
   "cell_type": "code",
   "execution_count": 6,
   "id": "union-huntington",
   "metadata": {
    "execution": {
     "iopub.execute_input": "2021-10-07T20:30:09.398326Z",
     "iopub.status.busy": "2021-10-07T20:30:09.396072Z",
     "iopub.status.idle": "2021-10-07T20:30:09.402161Z",
     "shell.execute_reply": "2021-10-07T20:30:09.403582Z"
    },
    "papermill": {
     "duration": 0.042182,
     "end_time": "2021-10-07T20:30:09.404068",
     "exception": false,
     "start_time": "2021-10-07T20:30:09.361886",
     "status": "completed"
    },
    "tags": []
   },
   "outputs": [],
   "source": [
    "df_pivot.columns = [\"stamp_1\", \"stamp_2\"]\n",
    "df_pivot_diff = df_pivot.diff(axis=1)"
   ]
  },
  {
   "cell_type": "code",
   "execution_count": 7,
   "id": "fifth-motion",
   "metadata": {
    "execution": {
     "iopub.execute_input": "2021-10-07T20:30:09.458748Z",
     "iopub.status.busy": "2021-10-07T20:30:09.456531Z",
     "iopub.status.idle": "2021-10-07T20:30:10.954123Z",
     "shell.execute_reply": "2021-10-07T20:30:10.955607Z"
    },
    "papermill": {
     "duration": 1.530434,
     "end_time": "2021-10-07T20:30:10.956027",
     "exception": false,
     "start_time": "2021-10-07T20:30:09.425593",
     "status": "completed"
    },
    "tags": []
   },
   "outputs": [
    {
     "data": {
      "text/plain": [
       "<AxesSubplot:ylabel='PRODUCT'>"
      ]
     },
     "execution_count": 7,
     "metadata": {},
     "output_type": "execute_result"
    },
    {
     "data": {
      "image/png": "[encoded data removed]",
      "text/plain": [
       "<Figure size 432x288 with 1 Axes>"
      ]
     },
     "metadata": {
      "needs_background": "light"
     },
     "output_type": "display_data"
    }
   ],
   "source": [
    "df_pivot_diff.sort_values(\"stamp_2\", ascending = False)[\"stamp_2\"].head(10).plot.barh()"
   ]
  },
  {
   "cell_type": "code",
   "execution_count": null,
   "id": "extra-executive",
   "metadata": {
    "papermill": {
     "duration": 0.022377,
     "end_time": "2021-10-07T20:30:11.001872",
     "exception": false,
     "start_time": "2021-10-07T20:30:10.979495",
     "status": "completed"
    },
    "tags": []
   },
   "outputs": [],
   "source": []
  }
 ],
 "metadata": {
  "kernelspec": {
   "display_name": "Python 3",
   "language": "python",
   "name": "python3"
  },
  "language_info": {
   "codemirror_mode": {
    "name": "ipython",
    "version": 3
   },
   "file_extension": ".py",
   "mimetype": "text/x-python",
   "name": "python",
   "nbconvert_exporter": "python",
   "pygments_lexer": "ipython3",
   "version": "3.9.5"
  },
  "papermill": {
   "default_parameters": {},
   "duration": 7.835391,
   "end_time": "2021-10-07T20:30:12.428931",
   "environment_variables": {},
   "exception": null,
   "input_path": "eBay_Overview.ipynb",
   "output_path": "eBay_Overview.ipynb",
   "parameters": {},
   "start_time": "2021-10-07T20:30:04.593540",
   "version": "2.3.3"
  }
 },
 "nbformat": 4,
 "nbformat_minor": 5
}