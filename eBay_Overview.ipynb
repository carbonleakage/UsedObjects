{
 "cells": [
  {
   "cell_type": "code",
   "execution_count": 1,
   "id": "reverse-picking",
   "metadata": {
    "execution": {
     "iopub.execute_input": "2021-09-28T12:00:07.132688Z",
     "iopub.status.busy": "2021-09-28T12:00:07.130659Z",
     "iopub.status.idle": "2021-09-28T12:00:07.937810Z",
     "shell.execute_reply": "2021-09-28T12:00:07.939148Z"
    },
    "papermill": {
     "duration": 0.859538,
     "end_time": "2021-09-28T12:00:07.939791",
     "exception": false,
     "start_time": "2021-09-28T12:00:07.080253",
     "status": "completed"
    },
    "tags": []
   },
   "outputs": [],
   "source": [
    "import pandas as pd\n",
    "import sqlite3"
   ]
  },
  {
   "cell_type": "code",
   "execution_count": 2,
   "id": "innovative-syndrome",
   "metadata": {
    "execution": {
     "iopub.execute_input": "2021-09-28T12:00:07.990049Z",
     "iopub.status.busy": "2021-09-28T12:00:07.988192Z",
     "iopub.status.idle": "2021-09-28T12:00:08.381149Z",
     "shell.execute_reply": "2021-09-28T12:00:08.382350Z"
    },
    "papermill": {
     "duration": 0.422274,
     "end_time": "2021-09-28T12:00:08.382750",
     "exception": false,
     "start_time": "2021-09-28T12:00:07.960476",
     "status": "completed"
    },
    "tags": []
   },
   "outputs": [],
   "source": [
    "timestamps = pd.read_sql(\"select distinct record_time from EBAY_TOP_BERLIN order by record_time desc limit 2\", sqlite3.connect(\"UsedObjects.db\"))"
   ]
  },
  {
   "cell_type": "code",
   "execution_count": 3,
   "id": "periodic-identification",
   "metadata": {
    "execution": {
     "iopub.execute_input": "2021-09-28T12:00:08.448552Z",
     "iopub.status.busy": "2021-09-28T12:00:08.446443Z",
     "iopub.status.idle": "2021-09-28T12:00:08.465958Z",
     "shell.execute_reply": "2021-09-28T12:00:08.467455Z"
    },
    "papermill": {
     "duration": 0.064325,
     "end_time": "2021-09-28T12:00:08.467889",
     "exception": false,
     "start_time": "2021-09-28T12:00:08.403564",
     "status": "completed"
    },
    "tags": []
   },
   "outputs": [
    {
     "data": {
      "text/html": [
       "<div>\n",
       "<style scoped>\n",
       "    .dataframe tbody tr th:only-of-type {\n",
       "        vertical-align: middle;\n",
       "    }\n",
       "\n",
       "    .dataframe tbody tr th {\n",
       "        vertical-align: top;\n",
       "    }\n",
       "\n",
       "    .dataframe thead th {\n",
       "        text-align: right;\n",
       "    }\n",
       "</style>\n",
       "<table border=\"1\" class=\"dataframe\">\n",
       "  <thead>\n",
       "    <tr style=\"text-align: right;\">\n",
       "      <th></th>\n",
       "      <th>RECORD_TIME</th>\n",
       "    </tr>\n",
       "  </thead>\n",
       "  <tbody>\n",
       "    <tr>\n",
       "      <th>0</th>\n",
       "      <td>2021-09-28 14:00</td>\n",
       "    </tr>\n",
       "    <tr>\n",
       "      <th>1</th>\n",
       "      <td>2021-09-28 13:30</td>\n",
       "    </tr>\n",
       "  </tbody>\n",
       "</table>\n",
       "</div>"
      ],
      "text/plain": [
       "        RECORD_TIME\n",
       "0  2021-09-28 14:00\n",
       "1  2021-09-28 13:30"
      ]
     },
     "execution_count": 3,
     "metadata": {},
     "output_type": "execute_result"
    }
   ],
   "source": [
    "timestamps"
   ]
  },
  {
   "cell_type": "code",
   "execution_count": 4,
   "id": "alternate-victory",
   "metadata": {
    "execution": {
     "iopub.execute_input": "2021-09-28T12:00:08.521006Z",
     "iopub.status.busy": "2021-09-28T12:00:08.518964Z",
     "iopub.status.idle": "2021-09-28T12:00:09.105820Z",
     "shell.execute_reply": "2021-09-28T12:00:09.107186Z"
    },
    "papermill": {
     "duration": 0.61717,
     "end_time": "2021-09-28T12:00:09.107618",
     "exception": false,
     "start_time": "2021-09-28T12:00:08.490448",
     "status": "completed"
    },
    "tags": []
   },
   "outputs": [],
   "source": [
    "df = pd.read_sql(\"select * from EBAY_TOP_BERLIN where record_time in (select distinct record_time from EBAY_TOP_BERLIN order by record_time desc limit 2)\", sqlite3.connect(\"UsedObjects.db\"))"
   ]
  },
  {
   "cell_type": "code",
   "execution_count": 5,
   "id": "popular-active",
   "metadata": {
    "execution": {
     "iopub.execute_input": "2021-09-28T12:00:09.172620Z",
     "iopub.status.busy": "2021-09-28T12:00:09.165491Z",
     "iopub.status.idle": "2021-09-28T12:00:09.193323Z",
     "shell.execute_reply": "2021-09-28T12:00:09.194542Z"
    },
    "papermill": {
     "duration": 0.067205,
     "end_time": "2021-09-28T12:00:09.195132",
     "exception": false,
     "start_time": "2021-09-28T12:00:09.127927",
     "status": "completed"
    },
    "tags": []
   },
   "outputs": [],
   "source": [
    "df_pivot = df.pivot_table(index=\"PRODUCT\", columns = \"RECORD_TIME\", values = \"LISTING_COUNT\")"
   ]
  },
  {
   "cell_type": "code",
   "execution_count": 6,
   "id": "union-huntington",
   "metadata": {
    "execution": {
     "iopub.execute_input": "2021-09-28T12:00:09.253545Z",
     "iopub.status.busy": "2021-09-28T12:00:09.251126Z",
     "iopub.status.idle": "2021-09-28T12:00:09.257536Z",
     "shell.execute_reply": "2021-09-28T12:00:09.259038Z"
    },
    "papermill": {
     "duration": 0.042468,
     "end_time": "2021-09-28T12:00:09.259506",
     "exception": false,
     "start_time": "2021-09-28T12:00:09.217038",
     "status": "completed"
    },
    "tags": []
   },
   "outputs": [],
   "source": [
    "df_pivot.columns = [\"stamp_1\", \"stamp_2\"]\n",
    "df_pivot_diff = df_pivot.diff(axis=1)"
   ]
  },
  {
   "cell_type": "code",
   "execution_count": 7,
   "id": "fifth-motion",
   "metadata": {
    "execution": {
     "iopub.execute_input": "2021-09-28T12:00:09.313925Z",
     "iopub.status.busy": "2021-09-28T12:00:09.311724Z",
     "iopub.status.idle": "2021-09-28T12:00:10.799481Z",
     "shell.execute_reply": "2021-09-28T12:00:10.800853Z"
    },
    "papermill": {
     "duration": 1.520077,
     "end_time": "2021-09-28T12:00:10.801290",
     "exception": false,
     "start_time": "2021-09-28T12:00:09.281213",
     "status": "completed"
    },
    "tags": []
   },
   "outputs": [
    {
     "data": {
      "text/plain": [
       "<AxesSubplot:ylabel='PRODUCT'>"
      ]
     },
     "execution_count": 7,
     "metadata": {},
     "output_type": "execute_result"
    },
    {
     "data": {
      "image/png": "[encoded data removed]",
      "text/plain": [
       "<Figure size 432x288 with 1 Axes>"
      ]
     },
     "metadata": {
      "needs_background": "light"
     },
     "output_type": "display_data"
    }
   ],
   "source": [
    "df_pivot_diff.sort_values(\"stamp_2\", ascending = False)[\"stamp_2\"].head(10).plot.barh()"
   ]
  },
  {
   "cell_type": "code",
   "execution_count": null,
   "id": "extra-executive",
   "metadata": {
    "papermill": {
     "duration": 0.021951,
     "end_time": "2021-09-28T12:00:10.846655",
     "exception": false,
     "start_time": "2021-09-28T12:00:10.824704",
     "status": "completed"
    },
    "tags": []
   },
   "outputs": [],
   "source": []
  }
 ],
 "metadata": {
  "kernelspec": {
   "display_name": "Python 3",
   "language": "python",
   "name": "python3"
  },
  "language_info": {
   "codemirror_mode": {
    "name": "ipython",
    "version": 3
   },
   "file_extension": ".py",
   "mimetype": "text/x-python",
   "name": "python",
   "nbconvert_exporter": "python",
   "pygments_lexer": "ipython3",
   "version": "3.9.5"
  },
  "papermill": {
   "default_parameters": {},
   "duration": 6.818254,
   "end_time": "2021-09-28T12:00:11.487854",
   "environment_variables": {},
   "exception": null,
   "input_path": "eBay_Overview.ipynb",
   "output_path": "eBay_Overview.ipynb",
   "parameters": {},
   "start_time": "2021-09-28T12:00:04.669600",
   "version": "2.3.3"
  }
 },
 "nbformat": 4,
 "nbformat_minor": 5
}