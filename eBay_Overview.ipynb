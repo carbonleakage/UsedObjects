{
 "cells": [
  {
   "cell_type": "code",
   "execution_count": 1,
   "id": "reverse-picking",
   "metadata": {
    "execution": {
     "iopub.execute_input": "2021-10-09T23:00:07.448800Z",
     "iopub.status.busy": "2021-10-09T23:00:07.446711Z",
     "iopub.status.idle": "2021-10-09T23:00:08.254051Z",
     "shell.execute_reply": "2021-10-09T23:00:08.255504Z"
    },
    "papermill": {
     "duration": 0.858122,
     "end_time": "2021-10-09T23:00:08.256155",
     "exception": false,
     "start_time": "2021-10-09T23:00:07.398033",
     "status": "completed"
    },
    "tags": []
   },
   "outputs": [],
   "source": [
    "import pandas as pd\n",
    "import sqlite3"
   ]
  },
  {
   "cell_type": "code",
   "execution_count": 2,
   "id": "innovative-syndrome",
   "metadata": {
    "execution": {
     "iopub.execute_input": "2021-10-09T23:00:08.308643Z",
     "iopub.status.busy": "2021-10-09T23:00:08.306200Z",
     "iopub.status.idle": "2021-10-09T23:00:08.810645Z",
     "shell.execute_reply": "2021-10-09T23:00:08.812419Z"
    },
    "papermill": {
     "duration": 0.535096,
     "end_time": "2021-10-09T23:00:08.812932",
     "exception": false,
     "start_time": "2021-10-09T23:00:08.277836",
     "status": "completed"
    },
    "tags": []
   },
   "outputs": [],
   "source": [
    "timestamps = pd.read_sql(\"select distinct record_time from EBAY_TOP_BERLIN order by record_time desc limit 2\", sqlite3.connect(\"UsedObjects.db\"))"
   ]
  },
  {
   "cell_type": "code",
   "execution_count": 3,
   "id": "periodic-identification",
   "metadata": {
    "execution": {
     "iopub.execute_input": "2021-10-09T23:00:08.906848Z",
     "iopub.status.busy": "2021-10-09T23:00:08.904781Z",
     "iopub.status.idle": "2021-10-09T23:00:08.927080Z",
     "shell.execute_reply": "2021-10-09T23:00:08.925439Z"
    },
    "papermill": {
     "duration": 0.092562,
     "end_time": "2021-10-09T23:00:08.927493",
     "exception": false,
     "start_time": "2021-10-09T23:00:08.834931",
     "status": "completed"
    },
    "tags": []
   },
   "outputs": [
    {
     "data": {
      "text/html": [
       "<div>\n",
       "<style scoped>\n",
       "    .dataframe tbody tr th:only-of-type {\n",
       "        vertical-align: middle;\n",
       "    }\n",
       "\n",
       "    .dataframe tbody tr th {\n",
       "        vertical-align: top;\n",
       "    }\n",
       "\n",
       "    .dataframe thead th {\n",
       "        text-align: right;\n",
       "    }\n",
       "</style>\n",
       "<table border=\"1\" class=\"dataframe\">\n",
       "  <thead>\n",
       "    <tr style=\"text-align: right;\">\n",
       "      <th></th>\n",
       "      <th>RECORD_TIME</th>\n",
       "    </tr>\n",
       "  </thead>\n",
       "  <tbody>\n",
       "    <tr>\n",
       "      <th>0</th>\n",
       "      <td>2021-10-10 01:00</td>\n",
       "    </tr>\n",
       "    <tr>\n",
       "      <th>1</th>\n",
       "      <td>2021-10-10 00:30</td>\n",
       "    </tr>\n",
       "  </tbody>\n",
       "</table>\n",
       "</div>"
      ],
      "text/plain": [
       "        RECORD_TIME\n",
       "0  2021-10-10 01:00\n",
       "1  2021-10-10 00:30"
      ]
     },
     "execution_count": 3,
     "metadata": {},
     "output_type": "execute_result"
    }
   ],
   "source": [
    "timestamps"
   ]
  },
  {
   "cell_type": "code",
   "execution_count": 4,
   "id": "alternate-victory",
   "metadata": {
    "execution": {
     "iopub.execute_input": "2021-10-09T23:00:08.980030Z",
     "iopub.status.busy": "2021-10-09T23:00:08.978126Z",
     "iopub.status.idle": "2021-10-09T23:00:09.723679Z",
     "shell.execute_reply": "2021-10-09T23:00:09.725104Z"
    },
    "papermill": {
     "duration": 0.775717,
     "end_time": "2021-10-09T23:00:09.725544",
     "exception": false,
     "start_time": "2021-10-09T23:00:08.949827",
     "status": "completed"
    },
    "tags": []
   },
   "outputs": [],
   "source": [
    "df = pd.read_sql(\"select * from EBAY_TOP_BERLIN where record_time in (select distinct record_time from EBAY_TOP_BERLIN order by record_time desc limit 2)\", sqlite3.connect(\"UsedObjects.db\"))"
   ]
  },
  {
   "cell_type": "code",
   "execution_count": 5,
   "id": "popular-active",
   "metadata": {
    "execution": {
     "iopub.execute_input": "2021-10-09T23:00:09.792019Z",
     "iopub.status.busy": "2021-10-09T23:00:09.785684Z",
     "iopub.status.idle": "2021-10-09T23:00:09.814248Z",
     "shell.execute_reply": "2021-10-09T23:00:09.815689Z"
    },
    "papermill": {
     "duration": 0.069601,
     "end_time": "2021-10-09T23:00:09.816140",
     "exception": false,
     "start_time": "2021-10-09T23:00:09.746539",
     "status": "completed"
    },
    "tags": []
   },
   "outputs": [],
   "source": [
    "df_pivot = df.pivot_table(index=\"PRODUCT\", columns = \"RECORD_TIME\", values = \"LISTING_COUNT\")"
   ]
  },
  {
   "cell_type": "code",
   "execution_count": 6,
   "id": "union-huntington",
   "metadata": {
    "execution": {
     "iopub.execute_input": "2021-10-09T23:00:09.874017Z",
     "iopub.status.busy": "2021-10-09T23:00:09.871558Z",
     "iopub.status.idle": "2021-10-09T23:00:09.877311Z",
     "shell.execute_reply": "2021-10-09T23:00:09.878584Z"
    },
    "papermill": {
     "duration": 0.042286,
     "end_time": "2021-10-09T23:00:09.879059",
     "exception": false,
     "start_time": "2021-10-09T23:00:09.836773",
     "status": "completed"
    },
    "tags": []
   },
   "outputs": [],
   "source": [
    "df_pivot.columns = [\"stamp_1\", \"stamp_2\"]\n",
    "df_pivot_diff = df_pivot.diff(axis=1)"
   ]
  },
  {
   "cell_type": "code",
   "execution_count": 7,
   "id": "fifth-motion",
   "metadata": {
    "execution": {
     "iopub.execute_input": "2021-10-09T23:00:09.933805Z",
     "iopub.status.busy": "2021-10-09T23:00:09.931537Z",
     "iopub.status.idle": "2021-10-09T23:00:11.424155Z",
     "shell.execute_reply": "2021-10-09T23:00:11.425434Z"
    },
    "papermill": {
     "duration": 1.525996,
     "end_time": "2021-10-09T23:00:11.425849",
     "exception": false,
     "start_time": "2021-10-09T23:00:09.899853",
     "status": "completed"
    },
    "tags": []
   },
   "outputs": [
    {
     "data": {
      "text/plain": [
       "<AxesSubplot:ylabel='PRODUCT'>"
      ]
     },
     "execution_count": 7,
     "metadata": {},
     "output_type": "execute_result"
    },
    {
     "data": {
      "image/png": "[encoded data removed]",
      "text/plain": [
       "<Figure size 432x288 with 1 Axes>"
      ]
     },
     "metadata": {
      "needs_background": "light"
     },
     "output_type": "display_data"
    }
   ],
   "source": [
    "df_pivot_diff.sort_values(\"stamp_2\", ascending = False)[\"stamp_2\"].head(10).plot.barh()"
   ]
  },
  {
   "cell_type": "code",
   "execution_count": null,
   "id": "extra-executive",
   "metadata": {
    "papermill": {
     "duration": 0.022381,
     "end_time": "2021-10-09T23:00:11.472347",
     "exception": false,
     "start_time": "2021-10-09T23:00:11.449966",
     "status": "completed"
    },
    "tags": []
   },
   "outputs": [],
   "source": []
  }
 ],
 "metadata": {
  "kernelspec": {
   "display_name": "Python 3",
   "language": "python",
   "name": "python3"
  },
  "language_info": {
   "codemirror_mode": {
    "name": "ipython",
    "version": 3
   },
   "file_extension": ".py",
   "mimetype": "text/x-python",
   "name": "python",
   "nbconvert_exporter": "python",
   "pygments_lexer": "ipython3",
   "version": "3.9.5"
  },
  "papermill": {
   "default_parameters": {},
   "duration": 7.832985,
   "end_time": "2021-10-09T23:00:12.815891",
   "environment_variables": {},
   "exception": null,
   "input_path": "eBay_Overview.ipynb",
   "output_path": "eBay_Overview.ipynb",
   "parameters": {},
   "start_time": "2021-10-09T23:00:04.982906",
   "version": "2.3.3"
  }
 },
 "nbformat": 4,
 "nbformat_minor": 5
}