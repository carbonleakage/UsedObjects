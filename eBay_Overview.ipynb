{
 "cells": [
  {
   "cell_type": "code",
   "execution_count": 1,
   "id": "reverse-picking",
   "metadata": {
    "execution": {
     "iopub.execute_input": "2021-10-24T01:00:07.093923Z",
     "iopub.status.busy": "2021-10-24T01:00:07.091800Z",
     "iopub.status.idle": "2021-10-24T01:00:07.898383Z",
     "shell.execute_reply": "2021-10-24T01:00:07.899806Z"
    },
    "papermill": {
     "duration": 0.857545,
     "end_time": "2021-10-24T01:00:07.900497",
     "exception": false,
     "start_time": "2021-10-24T01:00:07.042952",
     "status": "completed"
    },
    "tags": []
   },
   "outputs": [],
   "source": [
    "import pandas as pd\n",
    "import sqlite3"
   ]
  },
  {
   "cell_type": "code",
   "execution_count": 2,
   "id": "innovative-syndrome",
   "metadata": {
    "execution": {
     "iopub.execute_input": "2021-10-24T01:00:07.951541Z",
     "iopub.status.busy": "2021-10-24T01:00:07.949352Z",
     "iopub.status.idle": "2021-10-24T01:00:08.559996Z",
     "shell.execute_reply": "2021-10-24T01:00:08.561534Z"
    },
    "papermill": {
     "duration": 0.641024,
     "end_time": "2021-10-24T01:00:08.561967",
     "exception": false,
     "start_time": "2021-10-24T01:00:07.920943",
     "status": "completed"
    },
    "tags": []
   },
   "outputs": [],
   "source": [
    "timestamps = pd.read_sql(\"select distinct record_time from EBAY_TOP_BERLIN order by record_time desc limit 2\", sqlite3.connect(\"UsedObjects.db\"))"
   ]
  },
  {
   "cell_type": "code",
   "execution_count": 3,
   "id": "periodic-identification",
   "metadata": {
    "execution": {
     "iopub.execute_input": "2021-10-24T01:00:08.644964Z",
     "iopub.status.busy": "2021-10-24T01:00:08.639509Z",
     "iopub.status.idle": "2021-10-24T01:00:08.661645Z",
     "shell.execute_reply": "2021-10-24T01:00:08.663170Z"
    },
    "papermill": {
     "duration": 0.073614,
     "end_time": "2021-10-24T01:00:08.663641",
     "exception": false,
     "start_time": "2021-10-24T01:00:08.590027",
     "status": "completed"
    },
    "tags": []
   },
   "outputs": [
    {
     "data": {
      "text/html": [
       "<div>\n",
       "<style scoped>\n",
       "    .dataframe tbody tr th:only-of-type {\n",
       "        vertical-align: middle;\n",
       "    }\n",
       "\n",
       "    .dataframe tbody tr th {\n",
       "        vertical-align: top;\n",
       "    }\n",
       "\n",
       "    .dataframe thead th {\n",
       "        text-align: right;\n",
       "    }\n",
       "</style>\n",
       "<table border=\"1\" class=\"dataframe\">\n",
       "  <thead>\n",
       "    <tr style=\"text-align: right;\">\n",
       "      <th></th>\n",
       "      <th>RECORD_TIME</th>\n",
       "    </tr>\n",
       "  </thead>\n",
       "  <tbody>\n",
       "    <tr>\n",
       "      <th>0</th>\n",
       "      <td>2021-10-24 03:00</td>\n",
       "    </tr>\n",
       "    <tr>\n",
       "      <th>1</th>\n",
       "      <td>2021-10-24 02:30</td>\n",
       "    </tr>\n",
       "  </tbody>\n",
       "</table>\n",
       "</div>"
      ],
      "text/plain": [
       "        RECORD_TIME\n",
       "0  2021-10-24 03:00\n",
       "1  2021-10-24 02:30"
      ]
     },
     "execution_count": 3,
     "metadata": {},
     "output_type": "execute_result"
    }
   ],
   "source": [
    "timestamps"
   ]
  },
  {
   "cell_type": "code",
   "execution_count": 4,
   "id": "alternate-victory",
   "metadata": {
    "execution": {
     "iopub.execute_input": "2021-10-24T01:00:08.715744Z",
     "iopub.status.busy": "2021-10-24T01:00:08.713783Z",
     "iopub.status.idle": "2021-10-24T01:00:09.670682Z",
     "shell.execute_reply": "2021-10-24T01:00:09.671886Z"
    },
    "papermill": {
     "duration": 0.987288,
     "end_time": "2021-10-24T01:00:09.672319",
     "exception": false,
     "start_time": "2021-10-24T01:00:08.685031",
     "status": "completed"
    },
    "tags": []
   },
   "outputs": [],
   "source": [
    "df = pd.read_sql(\"select * from EBAY_TOP_BERLIN where record_time in (select distinct record_time from EBAY_TOP_BERLIN order by record_time desc limit 2)\", sqlite3.connect(\"UsedObjects.db\"))"
   ]
  },
  {
   "cell_type": "code",
   "execution_count": 5,
   "id": "popular-active",
   "metadata": {
    "execution": {
     "iopub.execute_input": "2021-10-24T01:00:09.738155Z",
     "iopub.status.busy": "2021-10-24T01:00:09.730957Z",
     "iopub.status.idle": "2021-10-24T01:00:09.759222Z",
     "shell.execute_reply": "2021-10-24T01:00:09.760446Z"
    },
    "papermill": {
     "duration": 0.06767,
     "end_time": "2021-10-24T01:00:09.761029",
     "exception": false,
     "start_time": "2021-10-24T01:00:09.693359",
     "status": "completed"
    },
    "tags": []
   },
   "outputs": [],
   "source": [
    "df_pivot = df.pivot_table(index=\"PRODUCT\", columns = \"RECORD_TIME\", values = \"LISTING_COUNT\")"
   ]
  },
  {
   "cell_type": "code",
   "execution_count": 6,
   "id": "union-huntington",
   "metadata": {
    "execution": {
     "iopub.execute_input": "2021-10-24T01:00:09.820455Z",
     "iopub.status.busy": "2021-10-24T01:00:09.817998Z",
     "iopub.status.idle": "2021-10-24T01:00:09.823597Z",
     "shell.execute_reply": "2021-10-24T01:00:09.824856Z"
    },
    "papermill": {
     "duration": 0.041996,
     "end_time": "2021-10-24T01:00:09.825301",
     "exception": false,
     "start_time": "2021-10-24T01:00:09.783305",
     "status": "completed"
    },
    "tags": []
   },
   "outputs": [],
   "source": [
    "df_pivot.columns = [\"stamp_1\", \"stamp_2\"]\n",
    "df_pivot_diff = df_pivot.diff(axis=1)"
   ]
  },
  {
   "cell_type": "code",
   "execution_count": 7,
   "id": "fifth-motion",
   "metadata": {
    "execution": {
     "iopub.execute_input": "2021-10-24T01:00:09.879315Z",
     "iopub.status.busy": "2021-10-24T01:00:09.877001Z",
     "iopub.status.idle": "2021-10-24T01:00:11.340137Z",
     "shell.execute_reply": "2021-10-24T01:00:11.341636Z"
    },
    "papermill": {
     "duration": 1.496579,
     "end_time": "2021-10-24T01:00:11.342098",
     "exception": false,
     "start_time": "2021-10-24T01:00:09.845519",
     "status": "completed"
    },
    "tags": []
   },
   "outputs": [
    {
     "data": {
      "text/plain": [
       "<AxesSubplot:ylabel='PRODUCT'>"
      ]
     },
     "execution_count": 7,
     "metadata": {},
     "output_type": "execute_result"
    },
    {
     "data": {
      "image/png": "[encoded data removed]",
      "text/plain": [
       "<Figure size 432x288 with 1 Axes>"
      ]
     },
     "metadata": {
      "needs_background": "light"
     },
     "output_type": "display_data"
    }
   ],
   "source": [
    "df_pivot_diff.sort_values(\"stamp_2\", ascending = False)[\"stamp_2\"].head(10).plot.barh()"
   ]
  },
  {
   "cell_type": "code",
   "execution_count": null,
   "id": "extra-executive",
   "metadata": {
    "papermill": {
     "duration": 0.022225,
     "end_time": "2021-10-24T01:00:11.387797",
     "exception": false,
     "start_time": "2021-10-24T01:00:11.365572",
     "status": "completed"
    },
    "tags": []
   },
   "outputs": [],
   "source": []
  }
 ],
 "metadata": {
  "kernelspec": {
   "display_name": "Python 3",
   "language": "python",
   "name": "python3"
  },
  "language_info": {
   "codemirror_mode": {
    "name": "ipython",
    "version": 3
   },
   "file_extension": ".py",
   "mimetype": "text/x-python",
   "name": "python",
   "nbconvert_exporter": "python",
   "pygments_lexer": "ipython3",
   "version": "3.9.5"
  },
  "papermill": {
   "default_parameters": {},
   "duration": 7.391008,
   "end_time": "2021-10-24T01:00:12.030982",
   "environment_variables": {},
   "exception": null,
   "input_path": "eBay_Overview.ipynb",
   "output_path": "eBay_Overview.ipynb",
   "parameters": {},
   "start_time": "2021-10-24T01:00:04.639974",
   "version": "2.3.3"
  }
 },
 "nbformat": 4,
 "nbformat_minor": 5
}