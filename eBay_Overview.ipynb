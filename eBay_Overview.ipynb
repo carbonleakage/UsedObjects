{
 "cells": [
  {
   "cell_type": "code",
   "execution_count": 1,
   "id": "reverse-picking",
   "metadata": {
    "execution": {
     "iopub.execute_input": "2021-11-17T04:30:08.816301Z",
     "iopub.status.busy": "2021-11-17T04:30:08.813765Z",
     "iopub.status.idle": "2021-11-17T04:30:09.891442Z",
     "shell.execute_reply": "2021-11-17T04:30:09.893430Z"
    },
    "papermill": {
     "duration": 1.114849,
     "end_time": "2021-11-17T04:30:09.894230",
     "exception": false,
     "start_time": "2021-11-17T04:30:08.779381",
     "status": "completed"
    },
    "tags": []
   },
   "outputs": [],
   "source": [
    "import pandas as pd\n",
    "import sqlite3"
   ]
  },
  {
   "cell_type": "code",
   "execution_count": 2,
   "id": "innovative-syndrome",
   "metadata": {
    "execution": {
     "iopub.execute_input": "2021-11-17T04:30:09.951387Z",
     "iopub.status.busy": "2021-11-17T04:30:09.948784Z",
     "iopub.status.idle": "2021-11-17T04:30:10.841741Z",
     "shell.execute_reply": "2021-11-17T04:30:10.843251Z"
    },
    "papermill": {
     "duration": 0.925621,
     "end_time": "2021-11-17T04:30:10.843704",
     "exception": false,
     "start_time": "2021-11-17T04:30:09.918083",
     "status": "completed"
    },
    "tags": []
   },
   "outputs": [],
   "source": [
    "timestamps = pd.read_sql(\"select distinct record_time from EBAY_TOP_BERLIN order by record_time desc limit 2\", sqlite3.connect(\"UsedObjects.db\"))"
   ]
  },
  {
   "cell_type": "code",
   "execution_count": 3,
   "id": "periodic-identification",
   "metadata": {
    "execution": {
     "iopub.execute_input": "2021-11-17T04:30:11.202634Z",
     "iopub.status.busy": "2021-11-17T04:30:11.200176Z",
     "iopub.status.idle": "2021-11-17T04:30:11.225711Z",
     "shell.execute_reply": "2021-11-17T04:30:11.223556Z"
    },
    "papermill": {
     "duration": 0.323256,
     "end_time": "2021-11-17T04:30:11.226185",
     "exception": false,
     "start_time": "2021-11-17T04:30:10.902929",
     "status": "completed"
    },
    "tags": []
   },
   "outputs": [
    {
     "data": {
      "text/html": [
       "<div>\n",
       "<style scoped>\n",
       "    .dataframe tbody tr th:only-of-type {\n",
       "        vertical-align: middle;\n",
       "    }\n",
       "\n",
       "    .dataframe tbody tr th {\n",
       "        vertical-align: top;\n",
       "    }\n",
       "\n",
       "    .dataframe thead th {\n",
       "        text-align: right;\n",
       "    }\n",
       "</style>\n",
       "<table border=\"1\" class=\"dataframe\">\n",
       "  <thead>\n",
       "    <tr style=\"text-align: right;\">\n",
       "      <th></th>\n",
       "      <th>RECORD_TIME</th>\n",
       "    </tr>\n",
       "  </thead>\n",
       "  <tbody>\n",
       "    <tr>\n",
       "      <th>0</th>\n",
       "      <td>2021-11-17 05:30</td>\n",
       "    </tr>\n",
       "    <tr>\n",
       "      <th>1</th>\n",
       "      <td>2021-11-17 05:00</td>\n",
       "    </tr>\n",
       "  </tbody>\n",
       "</table>\n",
       "</div>"
      ],
      "text/plain": [
       "        RECORD_TIME\n",
       "0  2021-11-17 05:30\n",
       "1  2021-11-17 05:00"
      ]
     },
     "execution_count": 3,
     "metadata": {},
     "output_type": "execute_result"
    }
   ],
   "source": [
    "timestamps"
   ]
  },
  {
   "cell_type": "code",
   "execution_count": 4,
   "id": "alternate-victory",
   "metadata": {
    "execution": {
     "iopub.execute_input": "2021-11-17T04:30:11.327594Z",
     "iopub.status.busy": "2021-11-17T04:30:11.325231Z",
     "iopub.status.idle": "2021-11-17T04:30:12.668018Z",
     "shell.execute_reply": "2021-11-17T04:30:12.670856Z"
    },
    "papermill": {
     "duration": 1.405823,
     "end_time": "2021-11-17T04:30:12.671654",
     "exception": false,
     "start_time": "2021-11-17T04:30:11.265831",
     "status": "completed"
    },
    "tags": []
   },
   "outputs": [],
   "source": [
    "df = pd.read_sql(\"select * from EBAY_TOP_BERLIN where record_time in (select distinct record_time from EBAY_TOP_BERLIN order by record_time desc limit 2)\", sqlite3.connect(\"UsedObjects.db\"))"
   ]
  },
  {
   "cell_type": "code",
   "execution_count": 5,
   "id": "popular-active",
   "metadata": {
    "execution": {
     "iopub.execute_input": "2021-11-17T04:30:13.228480Z",
     "iopub.status.busy": "2021-11-17T04:30:13.224949Z",
     "iopub.status.idle": "2021-11-17T04:30:13.279153Z",
     "shell.execute_reply": "2021-11-17T04:30:13.281586Z"
    },
    "papermill": {
     "duration": 0.147847,
     "end_time": "2021-11-17T04:30:13.282061",
     "exception": false,
     "start_time": "2021-11-17T04:30:13.134214",
     "status": "completed"
    },
    "tags": []
   },
   "outputs": [],
   "source": [
    "df_pivot = df.pivot_table(index=\"PRODUCT\", columns = \"RECORD_TIME\", values = \"LISTING_COUNT\")"
   ]
  },
  {
   "cell_type": "code",
   "execution_count": 6,
   "id": "union-huntington",
   "metadata": {
    "execution": {
     "iopub.execute_input": "2021-11-17T04:30:13.717593Z",
     "iopub.status.busy": "2021-11-17T04:30:13.714354Z",
     "iopub.status.idle": "2021-11-17T04:30:13.723847Z",
     "shell.execute_reply": "2021-11-17T04:30:13.725874Z"
    },
    "papermill": {
     "duration": 0.062842,
     "end_time": "2021-11-17T04:30:13.726509",
     "exception": false,
     "start_time": "2021-11-17T04:30:13.663667",
     "status": "completed"
    },
    "tags": []
   },
   "outputs": [],
   "source": [
    "df_pivot.columns = [\"stamp_1\", \"stamp_2\"]\n",
    "df_pivot_diff = df_pivot.diff(axis=1)"
   ]
  },
  {
   "cell_type": "code",
   "execution_count": 7,
   "id": "fifth-motion",
   "metadata": {
    "execution": {
     "iopub.execute_input": "2021-11-17T04:30:13.801100Z",
     "iopub.status.busy": "2021-11-17T04:30:13.798145Z",
     "iopub.status.idle": "2021-11-17T04:30:16.306354Z",
     "shell.execute_reply": "2021-11-17T04:30:16.308088Z"
    },
    "papermill": {
     "duration": 2.555022,
     "end_time": "2021-11-17T04:30:16.308645",
     "exception": false,
     "start_time": "2021-11-17T04:30:13.753623",
     "status": "completed"
    },
    "tags": []
   },
   "outputs": [
    {
     "data": {
      "text/plain": [
       "<AxesSubplot:ylabel='PRODUCT'>"
      ]
     },
     "execution_count": 7,
     "metadata": {},
     "output_type": "execute_result"
    },
    {
     "data": {
      "image/png": "[encoded data removed]",
      "text/plain": [
       "<Figure size 432x288 with 1 Axes>"
      ]
     },
     "metadata": {
      "needs_background": "light"
     },
     "output_type": "display_data"
    }
   ],
   "source": [
    "df_pivot_diff.sort_values(\"stamp_2\", ascending = False)[\"stamp_2\"].head(10).plot.barh()"
   ]
  },
  {
   "cell_type": "code",
   "execution_count": null,
   "id": "extra-executive",
   "metadata": {
    "papermill": {
     "duration": 0.02461,
     "end_time": "2021-11-17T04:30:16.358774",
     "exception": false,
     "start_time": "2021-11-17T04:30:16.334164",
     "status": "completed"
    },
    "tags": []
   },
   "outputs": [],
   "source": []
  }
 ],
 "metadata": {
  "kernelspec": {
   "display_name": "Python 3",
   "language": "python",
   "name": "python3"
  },
  "language_info": {
   "codemirror_mode": {
    "name": "ipython",
    "version": 3
   },
   "file_extension": ".py",
   "mimetype": "text/x-python",
   "name": "python",
   "nbconvert_exporter": "python",
   "pygments_lexer": "ipython3",
   "version": "3.9.5"
  },
  "papermill": {
   "default_parameters": {},
   "duration": 12.017601,
   "end_time": "2021-11-17T04:30:17.785311",
   "environment_variables": {},
   "exception": null,
   "input_path": "eBay_Overview.ipynb",
   "output_path": "eBay_Overview.ipynb",
   "parameters": {},
   "start_time": "2021-11-17T04:30:05.767710",
   "version": "2.3.3"
  }
 },
 "nbformat": 4,
 "nbformat_minor": 5
}