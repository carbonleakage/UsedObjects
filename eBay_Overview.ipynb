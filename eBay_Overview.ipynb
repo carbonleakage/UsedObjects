{
 "cells": [
  {
   "cell_type": "code",
   "execution_count": 1,
   "id": "reverse-picking",
   "metadata": {
    "execution": {
     "iopub.execute_input": "2021-10-26T07:00:07.186444Z",
     "iopub.status.busy": "2021-10-26T07:00:07.184454Z",
     "iopub.status.idle": "2021-10-26T07:00:07.992899Z",
     "shell.execute_reply": "2021-10-26T07:00:07.994186Z"
    },
    "papermill": {
     "duration": 0.861926,
     "end_time": "2021-10-26T07:00:07.994803",
     "exception": false,
     "start_time": "2021-10-26T07:00:07.132877",
     "status": "completed"
    },
    "tags": []
   },
   "outputs": [],
   "source": [
    "import pandas as pd\n",
    "import sqlite3"
   ]
  },
  {
   "cell_type": "code",
   "execution_count": 2,
   "id": "innovative-syndrome",
   "metadata": {
    "execution": {
     "iopub.execute_input": "2021-10-26T07:00:08.044085Z",
     "iopub.status.busy": "2021-10-26T07:00:08.042154Z",
     "iopub.status.idle": "2021-10-26T07:00:08.680001Z",
     "shell.execute_reply": "2021-10-26T07:00:08.681445Z"
    },
    "papermill": {
     "duration": 0.667041,
     "end_time": "2021-10-26T07:00:08.681863",
     "exception": false,
     "start_time": "2021-10-26T07:00:08.014822",
     "status": "completed"
    },
    "tags": []
   },
   "outputs": [],
   "source": [
    "timestamps = pd.read_sql(\"select distinct record_time from EBAY_TOP_BERLIN order by record_time desc limit 2\", sqlite3.connect(\"UsedObjects.db\"))"
   ]
  },
  {
   "cell_type": "code",
   "execution_count": 3,
   "id": "periodic-identification",
   "metadata": {
    "execution": {
     "iopub.execute_input": "2021-10-26T07:00:08.763258Z",
     "iopub.status.busy": "2021-10-26T07:00:08.761241Z",
     "iopub.status.idle": "2021-10-26T07:00:08.781363Z",
     "shell.execute_reply": "2021-10-26T07:00:08.782658Z"
    },
    "papermill": {
     "duration": 0.071622,
     "end_time": "2021-10-26T07:00:08.783064",
     "exception": false,
     "start_time": "2021-10-26T07:00:08.711442",
     "status": "completed"
    },
    "tags": []
   },
   "outputs": [
    {
     "data": {
      "text/html": [
       "<div>\n",
       "<style scoped>\n",
       "    .dataframe tbody tr th:only-of-type {\n",
       "        vertical-align: middle;\n",
       "    }\n",
       "\n",
       "    .dataframe tbody tr th {\n",
       "        vertical-align: top;\n",
       "    }\n",
       "\n",
       "    .dataframe thead th {\n",
       "        text-align: right;\n",
       "    }\n",
       "</style>\n",
       "<table border=\"1\" class=\"dataframe\">\n",
       "  <thead>\n",
       "    <tr style=\"text-align: right;\">\n",
       "      <th></th>\n",
       "      <th>RECORD_TIME</th>\n",
       "    </tr>\n",
       "  </thead>\n",
       "  <tbody>\n",
       "    <tr>\n",
       "      <th>0</th>\n",
       "      <td>2021-10-26 09:00</td>\n",
       "    </tr>\n",
       "    <tr>\n",
       "      <th>1</th>\n",
       "      <td>2021-10-26 08:30</td>\n",
       "    </tr>\n",
       "  </tbody>\n",
       "</table>\n",
       "</div>"
      ],
      "text/plain": [
       "        RECORD_TIME\n",
       "0  2021-10-26 09:00\n",
       "1  2021-10-26 08:30"
      ]
     },
     "execution_count": 3,
     "metadata": {},
     "output_type": "execute_result"
    }
   ],
   "source": [
    "timestamps"
   ]
  },
  {
   "cell_type": "code",
   "execution_count": 4,
   "id": "alternate-victory",
   "metadata": {
    "execution": {
     "iopub.execute_input": "2021-10-26T07:00:08.834305Z",
     "iopub.status.busy": "2021-10-26T07:00:08.832364Z",
     "iopub.status.idle": "2021-10-26T07:00:09.796646Z",
     "shell.execute_reply": "2021-10-26T07:00:09.798167Z"
    },
    "papermill": {
     "duration": 0.99434,
     "end_time": "2021-10-26T07:00:09.798613",
     "exception": false,
     "start_time": "2021-10-26T07:00:08.804273",
     "status": "completed"
    },
    "tags": []
   },
   "outputs": [],
   "source": [
    "df = pd.read_sql(\"select * from EBAY_TOP_BERLIN where record_time in (select distinct record_time from EBAY_TOP_BERLIN order by record_time desc limit 2)\", sqlite3.connect(\"UsedObjects.db\"))"
   ]
  },
  {
   "cell_type": "code",
   "execution_count": 5,
   "id": "popular-active",
   "metadata": {
    "execution": {
     "iopub.execute_input": "2021-10-26T07:00:09.867218Z",
     "iopub.status.busy": "2021-10-26T07:00:09.855634Z",
     "iopub.status.idle": "2021-10-26T07:00:09.882918Z",
     "shell.execute_reply": "2021-10-26T07:00:09.884127Z"
    },
    "papermill": {
     "duration": 0.065248,
     "end_time": "2021-10-26T07:00:09.884519",
     "exception": false,
     "start_time": "2021-10-26T07:00:09.819271",
     "status": "completed"
    },
    "tags": []
   },
   "outputs": [],
   "source": [
    "df_pivot = df.pivot_table(index=\"PRODUCT\", columns = \"RECORD_TIME\", values = \"LISTING_COUNT\")"
   ]
  },
  {
   "cell_type": "code",
   "execution_count": 6,
   "id": "union-huntington",
   "metadata": {
    "execution": {
     "iopub.execute_input": "2021-10-26T07:00:09.943418Z",
     "iopub.status.busy": "2021-10-26T07:00:09.941008Z",
     "iopub.status.idle": "2021-10-26T07:00:09.949077Z",
     "shell.execute_reply": "2021-10-26T07:00:09.946966Z"
    },
    "papermill": {
     "duration": 0.042707,
     "end_time": "2021-10-26T07:00:09.949490",
     "exception": false,
     "start_time": "2021-10-26T07:00:09.906783",
     "status": "completed"
    },
    "tags": []
   },
   "outputs": [],
   "source": [
    "df_pivot.columns = [\"stamp_1\", \"stamp_2\"]\n",
    "df_pivot_diff = df_pivot.diff(axis=1)"
   ]
  },
  {
   "cell_type": "code",
   "execution_count": 7,
   "id": "fifth-motion",
   "metadata": {
    "execution": {
     "iopub.execute_input": "2021-10-26T07:00:10.004229Z",
     "iopub.status.busy": "2021-10-26T07:00:10.002042Z",
     "iopub.status.idle": "2021-10-26T07:00:11.466679Z",
     "shell.execute_reply": "2021-10-26T07:00:11.468251Z"
    },
    "papermill": {
     "duration": 1.49746,
     "end_time": "2021-10-26T07:00:11.468797",
     "exception": false,
     "start_time": "2021-10-26T07:00:09.971337",
     "status": "completed"
    },
    "tags": []
   },
   "outputs": [
    {
     "data": {
      "text/plain": [
       "<AxesSubplot:ylabel='PRODUCT'>"
      ]
     },
     "execution_count": 7,
     "metadata": {},
     "output_type": "execute_result"
    },
    {
     "data": {
      "image/png": "[encoded data removed]",
      "text/plain": [
       "<Figure size 432x288 with 1 Axes>"
      ]
     },
     "metadata": {
      "needs_background": "light"
     },
     "output_type": "display_data"
    }
   ],
   "source": [
    "df_pivot_diff.sort_values(\"stamp_2\", ascending = False)[\"stamp_2\"].head(10).plot.barh()"
   ]
  },
  {
   "cell_type": "code",
   "execution_count": null,
   "id": "extra-executive",
   "metadata": {
    "papermill": {
     "duration": 0.021938,
     "end_time": "2021-10-26T07:00:11.515336",
     "exception": false,
     "start_time": "2021-10-26T07:00:11.493398",
     "status": "completed"
    },
    "tags": []
   },
   "outputs": [],
   "source": []
  }
 ],
 "metadata": {
  "kernelspec": {
   "display_name": "Python 3",
   "language": "python",
   "name": "python3"
  },
  "language_info": {
   "codemirror_mode": {
    "name": "ipython",
    "version": 3
   },
   "file_extension": ".py",
   "mimetype": "text/x-python",
   "name": "python",
   "nbconvert_exporter": "python",
   "pygments_lexer": "ipython3",
   "version": "3.9.5"
  },
  "papermill": {
   "default_parameters": {},
   "duration": 7.438455,
   "end_time": "2021-10-26T07:00:12.159246",
   "environment_variables": {},
   "exception": null,
   "input_path": "eBay_Overview.ipynb",
   "output_path": "eBay_Overview.ipynb",
   "parameters": {},
   "start_time": "2021-10-26T07:00:04.720791",
   "version": "2.3.3"
  }
 },
 "nbformat": 4,
 "nbformat_minor": 5
}