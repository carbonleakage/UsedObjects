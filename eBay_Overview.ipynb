{
 "cells": [
  {
   "cell_type": "code",
   "execution_count": 1,
   "id": "reverse-picking",
   "metadata": {
    "execution": {
     "iopub.execute_input": "2021-10-24T09:00:07.391868Z",
     "iopub.status.busy": "2021-10-24T09:00:07.389923Z",
     "iopub.status.idle": "2021-10-24T09:00:08.196857Z",
     "shell.execute_reply": "2021-10-24T09:00:08.198243Z"
    },
    "papermill": {
     "duration": 0.859415,
     "end_time": "2021-10-24T09:00:08.198885",
     "exception": false,
     "start_time": "2021-10-24T09:00:07.339470",
     "status": "completed"
    },
    "tags": []
   },
   "outputs": [],
   "source": [
    "import pandas as pd\n",
    "import sqlite3"
   ]
  },
  {
   "cell_type": "code",
   "execution_count": 2,
   "id": "innovative-syndrome",
   "metadata": {
    "execution": {
     "iopub.execute_input": "2021-10-24T09:00:08.249530Z",
     "iopub.status.busy": "2021-10-24T09:00:08.247562Z",
     "iopub.status.idle": "2021-10-24T09:00:08.874171Z",
     "shell.execute_reply": "2021-10-24T09:00:08.875567Z"
    },
    "papermill": {
     "duration": 0.656558,
     "end_time": "2021-10-24T09:00:08.876003",
     "exception": false,
     "start_time": "2021-10-24T09:00:08.219445",
     "status": "completed"
    },
    "tags": []
   },
   "outputs": [],
   "source": [
    "timestamps = pd.read_sql(\"select distinct record_time from EBAY_TOP_BERLIN order by record_time desc limit 2\", sqlite3.connect(\"UsedObjects.db\"))"
   ]
  },
  {
   "cell_type": "code",
   "execution_count": 3,
   "id": "periodic-identification",
   "metadata": {
    "execution": {
     "iopub.execute_input": "2021-10-24T09:00:08.955178Z",
     "iopub.status.busy": "2021-10-24T09:00:08.953149Z",
     "iopub.status.idle": "2021-10-24T09:00:08.972970Z",
     "shell.execute_reply": "2021-10-24T09:00:08.974337Z"
    },
    "papermill": {
     "duration": 0.069968,
     "end_time": "2021-10-24T09:00:08.974740",
     "exception": false,
     "start_time": "2021-10-24T09:00:08.904772",
     "status": "completed"
    },
    "tags": []
   },
   "outputs": [
    {
     "data": {
      "text/html": [
       "<div>\n",
       "<style scoped>\n",
       "    .dataframe tbody tr th:only-of-type {\n",
       "        vertical-align: middle;\n",
       "    }\n",
       "\n",
       "    .dataframe tbody tr th {\n",
       "        vertical-align: top;\n",
       "    }\n",
       "\n",
       "    .dataframe thead th {\n",
       "        text-align: right;\n",
       "    }\n",
       "</style>\n",
       "<table border=\"1\" class=\"dataframe\">\n",
       "  <thead>\n",
       "    <tr style=\"text-align: right;\">\n",
       "      <th></th>\n",
       "      <th>RECORD_TIME</th>\n",
       "    </tr>\n",
       "  </thead>\n",
       "  <tbody>\n",
       "    <tr>\n",
       "      <th>0</th>\n",
       "      <td>2021-10-24 11:00</td>\n",
       "    </tr>\n",
       "    <tr>\n",
       "      <th>1</th>\n",
       "      <td>2021-10-24 10:30</td>\n",
       "    </tr>\n",
       "  </tbody>\n",
       "</table>\n",
       "</div>"
      ],
      "text/plain": [
       "        RECORD_TIME\n",
       "0  2021-10-24 11:00\n",
       "1  2021-10-24 10:30"
      ]
     },
     "execution_count": 3,
     "metadata": {},
     "output_type": "execute_result"
    }
   ],
   "source": [
    "timestamps"
   ]
  },
  {
   "cell_type": "code",
   "execution_count": 4,
   "id": "alternate-victory",
   "metadata": {
    "execution": {
     "iopub.execute_input": "2021-10-24T09:00:09.027729Z",
     "iopub.status.busy": "2021-10-24T09:00:09.025461Z",
     "iopub.status.idle": "2021-10-24T09:00:09.942027Z",
     "shell.execute_reply": "2021-10-24T09:00:09.943229Z"
    },
    "papermill": {
     "duration": 0.947004,
     "end_time": "2021-10-24T09:00:09.943618",
     "exception": false,
     "start_time": "2021-10-24T09:00:08.996614",
     "status": "completed"
    },
    "tags": []
   },
   "outputs": [],
   "source": [
    "df = pd.read_sql(\"select * from EBAY_TOP_BERLIN where record_time in (select distinct record_time from EBAY_TOP_BERLIN order by record_time desc limit 2)\", sqlite3.connect(\"UsedObjects.db\"))"
   ]
  },
  {
   "cell_type": "code",
   "execution_count": 5,
   "id": "popular-active",
   "metadata": {
    "execution": {
     "iopub.execute_input": "2021-10-24T09:00:10.008380Z",
     "iopub.status.busy": "2021-10-24T09:00:10.001690Z",
     "iopub.status.idle": "2021-10-24T09:00:10.030703Z",
     "shell.execute_reply": "2021-10-24T09:00:10.031990Z"
    },
    "papermill": {
     "duration": 0.067885,
     "end_time": "2021-10-24T09:00:10.032398",
     "exception": false,
     "start_time": "2021-10-24T09:00:09.964513",
     "status": "completed"
    },
    "tags": []
   },
   "outputs": [],
   "source": [
    "df_pivot = df.pivot_table(index=\"PRODUCT\", columns = \"RECORD_TIME\", values = \"LISTING_COUNT\")"
   ]
  },
  {
   "cell_type": "code",
   "execution_count": 6,
   "id": "union-huntington",
   "metadata": {
    "execution": {
     "iopub.execute_input": "2021-10-24T09:00:10.088595Z",
     "iopub.status.busy": "2021-10-24T09:00:10.086549Z",
     "iopub.status.idle": "2021-10-24T09:00:10.092013Z",
     "shell.execute_reply": "2021-10-24T09:00:10.093269Z"
    },
    "papermill": {
     "duration": 0.041384,
     "end_time": "2021-10-24T09:00:10.093696",
     "exception": false,
     "start_time": "2021-10-24T09:00:10.052312",
     "status": "completed"
    },
    "tags": []
   },
   "outputs": [],
   "source": [
    "df_pivot.columns = [\"stamp_1\", \"stamp_2\"]\n",
    "df_pivot_diff = df_pivot.diff(axis=1)"
   ]
  },
  {
   "cell_type": "code",
   "execution_count": 7,
   "id": "fifth-motion",
   "metadata": {
    "execution": {
     "iopub.execute_input": "2021-10-24T09:00:10.148162Z",
     "iopub.status.busy": "2021-10-24T09:00:10.145815Z",
     "iopub.status.idle": "2021-10-24T09:00:11.647630Z",
     "shell.execute_reply": "2021-10-24T09:00:11.649008Z"
    },
    "papermill": {
     "duration": 1.53499,
     "end_time": "2021-10-24T09:00:11.649445",
     "exception": false,
     "start_time": "2021-10-24T09:00:10.114455",
     "status": "completed"
    },
    "tags": []
   },
   "outputs": [
    {
     "data": {
      "text/plain": [
       "<AxesSubplot:ylabel='PRODUCT'>"
      ]
     },
     "execution_count": 7,
     "metadata": {},
     "output_type": "execute_result"
    },
    {
     "data": {
      "image/png": "[encoded data removed]",
      "text/plain": [
       "<Figure size 432x288 with 1 Axes>"
      ]
     },
     "metadata": {
      "needs_background": "light"
     },
     "output_type": "display_data"
    }
   ],
   "source": [
    "df_pivot_diff.sort_values(\"stamp_2\", ascending = False)[\"stamp_2\"].head(10).plot.barh()"
   ]
  },
  {
   "cell_type": "code",
   "execution_count": null,
   "id": "extra-executive",
   "metadata": {
    "papermill": {
     "duration": 0.022473,
     "end_time": "2021-10-24T09:00:11.696094",
     "exception": false,
     "start_time": "2021-10-24T09:00:11.673621",
     "status": "completed"
    },
    "tags": []
   },
   "outputs": [],
   "source": []
  }
 ],
 "metadata": {
  "kernelspec": {
   "display_name": "Python 3",
   "language": "python",
   "name": "python3"
  },
  "language_info": {
   "codemirror_mode": {
    "name": "ipython",
    "version": 3
   },
   "file_extension": ".py",
   "mimetype": "text/x-python",
   "name": "python",
   "nbconvert_exporter": "python",
   "pygments_lexer": "ipython3",
   "version": "3.9.5"
  },
  "papermill": {
   "default_parameters": {},
   "duration": 7.401867,
   "end_time": "2021-10-24T09:00:12.339506",
   "environment_variables": {},
   "exception": null,
   "input_path": "eBay_Overview.ipynb",
   "output_path": "eBay_Overview.ipynb",
   "parameters": {},
   "start_time": "2021-10-24T09:00:04.937639",
   "version": "2.3.3"
  }
 },
 "nbformat": 4,
 "nbformat_minor": 5
}