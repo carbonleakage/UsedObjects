{
 "cells": [
  {
   "cell_type": "code",
   "execution_count": 1,
   "id": "reverse-picking",
   "metadata": {
    "execution": {
     "iopub.execute_input": "2021-08-18T19:00:07.537552Z",
     "iopub.status.busy": "2021-08-18T19:00:07.535605Z",
     "iopub.status.idle": "2021-08-18T19:00:08.339691Z",
     "shell.execute_reply": "2021-08-18T19:00:08.341031Z"
    },
    "papermill": {
     "duration": 0.856232,
     "end_time": "2021-08-18T19:00:08.341674",
     "exception": false,
     "start_time": "2021-08-18T19:00:07.485442",
     "status": "completed"
    },
    "tags": []
   },
   "outputs": [],
   "source": [
    "import pandas as pd\n",
    "import sqlite3"
   ]
  },
  {
   "cell_type": "code",
   "execution_count": 2,
   "id": "innovative-syndrome",
   "metadata": {
    "execution": {
     "iopub.execute_input": "2021-08-18T19:00:08.391674Z",
     "iopub.status.busy": "2021-08-18T19:00:08.389285Z",
     "iopub.status.idle": "2021-08-18T19:00:08.468069Z",
     "shell.execute_reply": "2021-08-18T19:00:08.469265Z"
    },
    "papermill": {
     "duration": 0.10854,
     "end_time": "2021-08-18T19:00:08.469660",
     "exception": false,
     "start_time": "2021-08-18T19:00:08.361120",
     "status": "completed"
    },
    "tags": []
   },
   "outputs": [],
   "source": [
    "timestamps = pd.read_sql(\"select distinct record_time from EBAY_TOP_BERLIN order by record_time desc limit 2\", sqlite3.connect(\"UsedObjects.db\"))"
   ]
  },
  {
   "cell_type": "code",
   "execution_count": 3,
   "id": "periodic-identification",
   "metadata": {
    "execution": {
     "iopub.execute_input": "2021-08-18T19:00:08.534222Z",
     "iopub.status.busy": "2021-08-18T19:00:08.532120Z",
     "iopub.status.idle": "2021-08-18T19:00:08.552491Z",
     "shell.execute_reply": "2021-08-18T19:00:08.553859Z"
    },
    "papermill": {
     "duration": 0.065269,
     "end_time": "2021-08-18T19:00:08.554398",
     "exception": false,
     "start_time": "2021-08-18T19:00:08.489129",
     "status": "completed"
    },
    "tags": []
   },
   "outputs": [
    {
     "data": {
      "text/html": [
       "<div>\n",
       "<style scoped>\n",
       "    .dataframe tbody tr th:only-of-type {\n",
       "        vertical-align: middle;\n",
       "    }\n",
       "\n",
       "    .dataframe tbody tr th {\n",
       "        vertical-align: top;\n",
       "    }\n",
       "\n",
       "    .dataframe thead th {\n",
       "        text-align: right;\n",
       "    }\n",
       "</style>\n",
       "<table border=\"1\" class=\"dataframe\">\n",
       "  <thead>\n",
       "    <tr style=\"text-align: right;\">\n",
       "      <th></th>\n",
       "      <th>RECORD_TIME</th>\n",
       "    </tr>\n",
       "  </thead>\n",
       "  <tbody>\n",
       "    <tr>\n",
       "      <th>0</th>\n",
       "      <td>2021-08-18 21:00</td>\n",
       "    </tr>\n",
       "    <tr>\n",
       "      <th>1</th>\n",
       "      <td>2021-08-18 20:30</td>\n",
       "    </tr>\n",
       "  </tbody>\n",
       "</table>\n",
       "</div>"
      ],
      "text/plain": [
       "        RECORD_TIME\n",
       "0  2021-08-18 21:00\n",
       "1  2021-08-18 20:30"
      ]
     },
     "execution_count": 3,
     "metadata": {},
     "output_type": "execute_result"
    }
   ],
   "source": [
    "timestamps"
   ]
  },
  {
   "cell_type": "code",
   "execution_count": 4,
   "id": "alternate-victory",
   "metadata": {
    "execution": {
     "iopub.execute_input": "2021-08-18T19:00:08.606389Z",
     "iopub.status.busy": "2021-08-18T19:00:08.604480Z",
     "iopub.status.idle": "2021-08-18T19:00:08.719800Z",
     "shell.execute_reply": "2021-08-18T19:00:08.721087Z"
    },
    "papermill": {
     "duration": 0.145172,
     "end_time": "2021-08-18T19:00:08.721495",
     "exception": false,
     "start_time": "2021-08-18T19:00:08.576323",
     "status": "completed"
    },
    "tags": []
   },
   "outputs": [],
   "source": [
    "df = pd.read_sql(\"select * from EBAY_TOP_BERLIN where record_time in (select distinct record_time from EBAY_TOP_BERLIN order by record_time desc limit 2)\", sqlite3.connect(\"UsedObjects.db\"))"
   ]
  },
  {
   "cell_type": "code",
   "execution_count": 5,
   "id": "popular-active",
   "metadata": {
    "execution": {
     "iopub.execute_input": "2021-08-18T19:00:08.791395Z",
     "iopub.status.busy": "2021-08-18T19:00:08.779622Z",
     "iopub.status.idle": "2021-08-18T19:00:08.806775Z",
     "shell.execute_reply": "2021-08-18T19:00:08.807993Z"
    },
    "papermill": {
     "duration": 0.066677,
     "end_time": "2021-08-18T19:00:08.808381",
     "exception": false,
     "start_time": "2021-08-18T19:00:08.741704",
     "status": "completed"
    },
    "tags": []
   },
   "outputs": [],
   "source": [
    "df_pivot = df.pivot_table(index=\"PRODUCT\", columns = \"RECORD_TIME\", values = \"LISTING_COUNT\")"
   ]
  },
  {
   "cell_type": "code",
   "execution_count": 6,
   "id": "union-huntington",
   "metadata": {
    "execution": {
     "iopub.execute_input": "2021-08-18T19:00:08.868339Z",
     "iopub.status.busy": "2021-08-18T19:00:08.865830Z",
     "iopub.status.idle": "2021-08-18T19:00:08.872193Z",
     "shell.execute_reply": "2021-08-18T19:00:08.873644Z"
    },
    "papermill": {
     "duration": 0.042792,
     "end_time": "2021-08-18T19:00:08.874152",
     "exception": false,
     "start_time": "2021-08-18T19:00:08.831360",
     "status": "completed"
    },
    "tags": []
   },
   "outputs": [],
   "source": [
    "df_pivot.columns = [\"stamp_1\", \"stamp_2\"]\n",
    "df_pivot_diff = df_pivot.diff(axis=1)"
   ]
  },
  {
   "cell_type": "code",
   "execution_count": 7,
   "id": "fifth-motion",
   "metadata": {
    "execution": {
     "iopub.execute_input": "2021-08-18T19:00:08.931195Z",
     "iopub.status.busy": "2021-08-18T19:00:08.926925Z",
     "iopub.status.idle": "2021-08-18T19:00:10.420545Z",
     "shell.execute_reply": "2021-08-18T19:00:10.421827Z"
    },
    "papermill": {
     "duration": 1.526454,
     "end_time": "2021-08-18T19:00:10.422328",
     "exception": false,
     "start_time": "2021-08-18T19:00:08.895874",
     "status": "completed"
    },
    "tags": []
   },
   "outputs": [
    {
     "data": {
      "text/plain": [
       "<AxesSubplot:ylabel='PRODUCT'>"
      ]
     },
     "execution_count": 7,
     "metadata": {},
     "output_type": "execute_result"
    },
    {
     "data": {
      "image/png": "[encoded data removed]",
      "text/plain": [
       "<Figure size 432x288 with 1 Axes>"
      ]
     },
     "metadata": {
      "needs_background": "light"
     },
     "output_type": "display_data"
    }
   ],
   "source": [
    "df_pivot_diff.sort_values(\"stamp_2\", ascending = False)[\"stamp_2\"].head(10).plot.barh()"
   ]
  },
  {
   "cell_type": "code",
   "execution_count": null,
   "id": "extra-executive",
   "metadata": {
    "papermill": {
     "duration": 0.02214,
     "end_time": "2021-08-18T19:00:10.469227",
     "exception": false,
     "start_time": "2021-08-18T19:00:10.447087",
     "status": "completed"
    },
    "tags": []
   },
   "outputs": [],
   "source": []
  }
 ],
 "metadata": {
  "kernelspec": {
   "display_name": "Python 3",
   "language": "python",
   "name": "python3"
  },
  "language_info": {
   "codemirror_mode": {
    "name": "ipython",
    "version": 3
   },
   "file_extension": ".py",
   "mimetype": "text/x-python",
   "name": "python",
   "nbconvert_exporter": "python",
   "pygments_lexer": "ipython3",
   "version": "3.9.5"
  },
  "papermill": {
   "default_parameters": {},
   "duration": 6.827043,
   "end_time": "2021-08-18T19:00:11.899014",
   "environment_variables": {},
   "exception": null,
   "input_path": "eBay_Overview.ipynb",
   "output_path": "eBay_Overview.ipynb",
   "parameters": {},
   "start_time": "2021-08-18T19:00:05.071971",
   "version": "2.3.3"
  }
 },
 "nbformat": 4,
 "nbformat_minor": 5
}