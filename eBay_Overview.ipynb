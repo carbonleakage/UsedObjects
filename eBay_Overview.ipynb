{
 "cells": [
  {
   "cell_type": "code",
   "execution_count": 1,
   "id": "reverse-picking",
   "metadata": {
    "execution": {
     "iopub.execute_input": "2021-12-14T09:30:07.339823Z",
     "iopub.status.busy": "2021-12-14T09:30:07.337310Z",
     "iopub.status.idle": "2021-12-14T09:30:08.285402Z",
     "shell.execute_reply": "2021-12-14T09:30:08.286886Z"
    },
    "papermill": {
     "duration": 0.996636,
     "end_time": "2021-12-14T09:30:08.287631",
     "exception": false,
     "start_time": "2021-12-14T09:30:07.290995",
     "status": "completed"
    },
    "tags": []
   },
   "outputs": [],
   "source": [
    "import pandas as pd\n",
    "import sqlite3"
   ]
  },
  {
   "cell_type": "code",
   "execution_count": 2,
   "id": "innovative-syndrome",
   "metadata": {
    "execution": {
     "iopub.execute_input": "2021-12-14T09:30:08.350936Z",
     "iopub.status.busy": "2021-12-14T09:30:08.348540Z",
     "iopub.status.idle": "2021-12-14T09:30:09.433652Z",
     "shell.execute_reply": "2021-12-14T09:30:09.434957Z"
    },
    "papermill": {
     "duration": 1.12028,
     "end_time": "2021-12-14T09:30:09.435411",
     "exception": false,
     "start_time": "2021-12-14T09:30:08.315131",
     "status": "completed"
    },
    "tags": []
   },
   "outputs": [],
   "source": [
    "timestamps = pd.read_sql(\"select distinct record_time from EBAY_TOP_BERLIN order by record_time desc limit 2\", sqlite3.connect(\"UsedObjects.db\"))"
   ]
  },
  {
   "cell_type": "code",
   "execution_count": 3,
   "id": "periodic-identification",
   "metadata": {
    "execution": {
     "iopub.execute_input": "2021-12-14T09:30:09.504538Z",
     "iopub.status.busy": "2021-12-14T09:30:09.502275Z",
     "iopub.status.idle": "2021-12-14T09:30:09.524903Z",
     "shell.execute_reply": "2021-12-14T09:30:09.526353Z"
    },
    "papermill": {
     "duration": 0.070997,
     "end_time": "2021-12-14T09:30:09.526844",
     "exception": false,
     "start_time": "2021-12-14T09:30:09.455847",
     "status": "completed"
    },
    "tags": []
   },
   "outputs": [
    {
     "data": {
      "text/html": [
       "<div>\n",
       "<style scoped>\n",
       "    .dataframe tbody tr th:only-of-type {\n",
       "        vertical-align: middle;\n",
       "    }\n",
       "\n",
       "    .dataframe tbody tr th {\n",
       "        vertical-align: top;\n",
       "    }\n",
       "\n",
       "    .dataframe thead th {\n",
       "        text-align: right;\n",
       "    }\n",
       "</style>\n",
       "<table border=\"1\" class=\"dataframe\">\n",
       "  <thead>\n",
       "    <tr style=\"text-align: right;\">\n",
       "      <th></th>\n",
       "      <th>RECORD_TIME</th>\n",
       "    </tr>\n",
       "  </thead>\n",
       "  <tbody>\n",
       "    <tr>\n",
       "      <th>0</th>\n",
       "      <td>2021-12-14 10:30</td>\n",
       "    </tr>\n",
       "    <tr>\n",
       "      <th>1</th>\n",
       "      <td>2021-12-14 10:00</td>\n",
       "    </tr>\n",
       "  </tbody>\n",
       "</table>\n",
       "</div>"
      ],
      "text/plain": [
       "        RECORD_TIME\n",
       "0  2021-12-14 10:30\n",
       "1  2021-12-14 10:00"
      ]
     },
     "execution_count": 3,
     "metadata": {},
     "output_type": "execute_result"
    }
   ],
   "source": [
    "timestamps"
   ]
  },
  {
   "cell_type": "code",
   "execution_count": 4,
   "id": "alternate-victory",
   "metadata": {
    "execution": {
     "iopub.execute_input": "2021-12-14T09:30:09.582054Z",
     "iopub.status.busy": "2021-12-14T09:30:09.579834Z",
     "iopub.status.idle": "2021-12-14T09:30:11.136293Z",
     "shell.execute_reply": "2021-12-14T09:30:11.140229Z"
    },
    "papermill": {
     "duration": 1.593111,
     "end_time": "2021-12-14T09:30:11.141097",
     "exception": false,
     "start_time": "2021-12-14T09:30:09.547986",
     "status": "completed"
    },
    "tags": []
   },
   "outputs": [],
   "source": [
    "df = pd.read_sql(\"select * from EBAY_TOP_BERLIN where record_time in (select distinct record_time from EBAY_TOP_BERLIN order by record_time desc limit 2)\", sqlite3.connect(\"UsedObjects.db\"))"
   ]
  },
  {
   "cell_type": "code",
   "execution_count": 5,
   "id": "popular-active",
   "metadata": {
    "execution": {
     "iopub.execute_input": "2021-12-14T09:30:11.216821Z",
     "iopub.status.busy": "2021-12-14T09:30:11.203675Z",
     "iopub.status.idle": "2021-12-14T09:30:11.235295Z",
     "shell.execute_reply": "2021-12-14T09:30:11.236816Z"
    },
    "papermill": {
     "duration": 0.075099,
     "end_time": "2021-12-14T09:30:11.237291",
     "exception": false,
     "start_time": "2021-12-14T09:30:11.162192",
     "status": "completed"
    },
    "tags": []
   },
   "outputs": [],
   "source": [
    "df_pivot = df.pivot_table(index=\"PRODUCT\", columns = \"RECORD_TIME\", values = \"LISTING_COUNT\")"
   ]
  },
  {
   "cell_type": "code",
   "execution_count": 6,
   "id": "union-huntington",
   "metadata": {
    "execution": {
     "iopub.execute_input": "2021-12-14T09:30:11.298029Z",
     "iopub.status.busy": "2021-12-14T09:30:11.295707Z",
     "iopub.status.idle": "2021-12-14T09:30:11.300744Z",
     "shell.execute_reply": "2021-12-14T09:30:11.302489Z"
    },
    "papermill": {
     "duration": 0.04553,
     "end_time": "2021-12-14T09:30:11.302942",
     "exception": false,
     "start_time": "2021-12-14T09:30:11.257412",
     "status": "completed"
    },
    "tags": []
   },
   "outputs": [],
   "source": [
    "df_pivot.columns = [\"stamp_1\", \"stamp_2\"]\n",
    "df_pivot_diff = df_pivot.diff(axis=1)"
   ]
  },
  {
   "cell_type": "code",
   "execution_count": 7,
   "id": "fifth-motion",
   "metadata": {
    "execution": {
     "iopub.execute_input": "2021-12-14T09:30:11.361756Z",
     "iopub.status.busy": "2021-12-14T09:30:11.359229Z",
     "iopub.status.idle": "2021-12-14T09:30:13.268749Z",
     "shell.execute_reply": "2021-12-14T09:30:13.270258Z"
    },
    "papermill": {
     "duration": 1.946491,
     "end_time": "2021-12-14T09:30:13.270729",
     "exception": false,
     "start_time": "2021-12-14T09:30:11.324238",
     "status": "completed"
    },
    "tags": []
   },
   "outputs": [
    {
     "data": {
      "text/plain": [
       "<AxesSubplot:ylabel='PRODUCT'>"
      ]
     },
     "execution_count": 7,
     "metadata": {},
     "output_type": "execute_result"
    },
    {
     "data": {
      "image/png": "[encoded data removed]",
      "text/plain": [
       "<Figure size 432x288 with 1 Axes>"
      ]
     },
     "metadata": {
      "needs_background": "light"
     },
     "output_type": "display_data"
    }
   ],
   "source": [
    "df_pivot_diff.sort_values(\"stamp_2\", ascending = False)[\"stamp_2\"].head(10).plot.barh()"
   ]
  },
  {
   "cell_type": "code",
   "execution_count": null,
   "id": "extra-executive",
   "metadata": {
    "papermill": {
     "duration": 0.023366,
     "end_time": "2021-12-14T09:30:13.317659",
     "exception": false,
     "start_time": "2021-12-14T09:30:13.294293",
     "status": "completed"
    },
    "tags": []
   },
   "outputs": [],
   "source": []
  }
 ],
 "metadata": {
  "kernelspec": {
   "display_name": "Python 3",
   "language": "python",
   "name": "python3"
  },
  "language_info": {
   "codemirror_mode": {
    "name": "ipython",
    "version": 3
   },
   "file_extension": ".py",
   "mimetype": "text/x-python",
   "name": "python",
   "nbconvert_exporter": "python",
   "pygments_lexer": "ipython3",
   "version": "3.9.5"
  },
  "papermill": {
   "default_parameters": {},
   "duration": 9.70278,
   "end_time": "2021-12-14T09:30:14.178836",
   "environment_variables": {},
   "exception": null,
   "input_path": "eBay_Overview.ipynb",
   "output_path": "eBay_Overview.ipynb",
   "parameters": {},
   "start_time": "2021-12-14T09:30:04.476056",
   "version": "2.3.3"
  }
 },
 "nbformat": 4,
 "nbformat_minor": 5
}