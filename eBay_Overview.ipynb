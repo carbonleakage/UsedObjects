{
 "cells": [
  {
   "cell_type": "code",
   "execution_count": 1,
   "id": "reverse-picking",
   "metadata": {
    "execution": {
     "iopub.execute_input": "2021-12-13T01:30:07.629422Z",
     "iopub.status.busy": "2021-12-13T01:30:07.626851Z",
     "iopub.status.idle": "2021-12-13T01:30:08.588837Z",
     "shell.execute_reply": "2021-12-13T01:30:08.591074Z"
    },
    "papermill": {
     "duration": 1.0131,
     "end_time": "2021-12-13T01:30:08.591835",
     "exception": false,
     "start_time": "2021-12-13T01:30:07.578735",
     "status": "completed"
    },
    "tags": []
   },
   "outputs": [],
   "source": [
    "import pandas as pd\n",
    "import sqlite3"
   ]
  },
  {
   "cell_type": "code",
   "execution_count": 2,
   "id": "innovative-syndrome",
   "metadata": {
    "execution": {
     "iopub.execute_input": "2021-12-13T01:30:08.662087Z",
     "iopub.status.busy": "2021-12-13T01:30:08.659585Z",
     "iopub.status.idle": "2021-12-13T01:30:09.703546Z",
     "shell.execute_reply": "2021-12-13T01:30:09.705196Z"
    },
    "papermill": {
     "duration": 1.08027,
     "end_time": "2021-12-13T01:30:09.705669",
     "exception": false,
     "start_time": "2021-12-13T01:30:08.625399",
     "status": "completed"
    },
    "tags": []
   },
   "outputs": [],
   "source": [
    "timestamps = pd.read_sql(\"select distinct record_time from EBAY_TOP_BERLIN order by record_time desc limit 2\", sqlite3.connect(\"UsedObjects.db\"))"
   ]
  },
  {
   "cell_type": "code",
   "execution_count": 3,
   "id": "periodic-identification",
   "metadata": {
    "execution": {
     "iopub.execute_input": "2021-12-13T01:30:09.775096Z",
     "iopub.status.busy": "2021-12-13T01:30:09.772821Z",
     "iopub.status.idle": "2021-12-13T01:30:09.795284Z",
     "shell.execute_reply": "2021-12-13T01:30:09.796847Z"
    },
    "papermill": {
     "duration": 0.071854,
     "end_time": "2021-12-13T01:30:09.797388",
     "exception": false,
     "start_time": "2021-12-13T01:30:09.725534",
     "status": "completed"
    },
    "tags": []
   },
   "outputs": [
    {
     "data": {
      "text/html": [
       "<div>\n",
       "<style scoped>\n",
       "    .dataframe tbody tr th:only-of-type {\n",
       "        vertical-align: middle;\n",
       "    }\n",
       "\n",
       "    .dataframe tbody tr th {\n",
       "        vertical-align: top;\n",
       "    }\n",
       "\n",
       "    .dataframe thead th {\n",
       "        text-align: right;\n",
       "    }\n",
       "</style>\n",
       "<table border=\"1\" class=\"dataframe\">\n",
       "  <thead>\n",
       "    <tr style=\"text-align: right;\">\n",
       "      <th></th>\n",
       "      <th>RECORD_TIME</th>\n",
       "    </tr>\n",
       "  </thead>\n",
       "  <tbody>\n",
       "    <tr>\n",
       "      <th>0</th>\n",
       "      <td>2021-12-13 02:30</td>\n",
       "    </tr>\n",
       "    <tr>\n",
       "      <th>1</th>\n",
       "      <td>2021-12-13 02:00</td>\n",
       "    </tr>\n",
       "  </tbody>\n",
       "</table>\n",
       "</div>"
      ],
      "text/plain": [
       "        RECORD_TIME\n",
       "0  2021-12-13 02:30\n",
       "1  2021-12-13 02:00"
      ]
     },
     "execution_count": 3,
     "metadata": {},
     "output_type": "execute_result"
    }
   ],
   "source": [
    "timestamps"
   ]
  },
  {
   "cell_type": "code",
   "execution_count": 4,
   "id": "alternate-victory",
   "metadata": {
    "execution": {
     "iopub.execute_input": "2021-12-13T01:30:09.853587Z",
     "iopub.status.busy": "2021-12-13T01:30:09.851338Z",
     "iopub.status.idle": "2021-12-13T01:30:11.352907Z",
     "shell.execute_reply": "2021-12-13T01:30:11.354717Z"
    },
    "papermill": {
     "duration": 1.536349,
     "end_time": "2021-12-13T01:30:11.355248",
     "exception": false,
     "start_time": "2021-12-13T01:30:09.818899",
     "status": "completed"
    },
    "tags": []
   },
   "outputs": [],
   "source": [
    "df = pd.read_sql(\"select * from EBAY_TOP_BERLIN where record_time in (select distinct record_time from EBAY_TOP_BERLIN order by record_time desc limit 2)\", sqlite3.connect(\"UsedObjects.db\"))"
   ]
  },
  {
   "cell_type": "code",
   "execution_count": 5,
   "id": "popular-active",
   "metadata": {
    "execution": {
     "iopub.execute_input": "2021-12-13T01:30:11.429691Z",
     "iopub.status.busy": "2021-12-13T01:30:11.418618Z",
     "iopub.status.idle": "2021-12-13T01:30:11.455350Z",
     "shell.execute_reply": "2021-12-13T01:30:11.453564Z"
    },
    "papermill": {
     "duration": 0.077841,
     "end_time": "2021-12-13T01:30:11.455918",
     "exception": false,
     "start_time": "2021-12-13T01:30:11.378077",
     "status": "completed"
    },
    "tags": []
   },
   "outputs": [],
   "source": [
    "df_pivot = df.pivot_table(index=\"PRODUCT\", columns = \"RECORD_TIME\", values = \"LISTING_COUNT\")"
   ]
  },
  {
   "cell_type": "code",
   "execution_count": 6,
   "id": "union-huntington",
   "metadata": {
    "execution": {
     "iopub.execute_input": "2021-12-13T01:30:11.515258Z",
     "iopub.status.busy": "2021-12-13T01:30:11.512904Z",
     "iopub.status.idle": "2021-12-13T01:30:11.520504Z",
     "shell.execute_reply": "2021-12-13T01:30:11.518910Z"
    },
    "papermill": {
     "duration": 0.044246,
     "end_time": "2021-12-13T01:30:11.520983",
     "exception": false,
     "start_time": "2021-12-13T01:30:11.476737",
     "status": "completed"
    },
    "tags": []
   },
   "outputs": [],
   "source": [
    "df_pivot.columns = [\"stamp_1\", \"stamp_2\"]\n",
    "df_pivot_diff = df_pivot.diff(axis=1)"
   ]
  },
  {
   "cell_type": "code",
   "execution_count": 7,
   "id": "fifth-motion",
   "metadata": {
    "execution": {
     "iopub.execute_input": "2021-12-13T01:30:11.580508Z",
     "iopub.status.busy": "2021-12-13T01:30:11.577862Z",
     "iopub.status.idle": "2021-12-13T01:30:13.532614Z",
     "shell.execute_reply": "2021-12-13T01:30:13.534173Z"
    },
    "papermill": {
     "duration": 1.992773,
     "end_time": "2021-12-13T01:30:13.534677",
     "exception": false,
     "start_time": "2021-12-13T01:30:11.541904",
     "status": "completed"
    },
    "tags": []
   },
   "outputs": [
    {
     "data": {
      "text/plain": [
       "<AxesSubplot:ylabel='PRODUCT'>"
      ]
     },
     "execution_count": 7,
     "metadata": {},
     "output_type": "execute_result"
    },
    {
     "data": {
      "image/png": "[encoded data removed]",
      "text/plain": [
       "<Figure size 432x288 with 1 Axes>"
      ]
     },
     "metadata": {
      "needs_background": "light"
     },
     "output_type": "display_data"
    }
   ],
   "source": [
    "df_pivot_diff.sort_values(\"stamp_2\", ascending = False)[\"stamp_2\"].head(10).plot.barh()"
   ]
  },
  {
   "cell_type": "code",
   "execution_count": null,
   "id": "extra-executive",
   "metadata": {
    "papermill": {
     "duration": 0.023471,
     "end_time": "2021-12-13T01:30:13.583029",
     "exception": false,
     "start_time": "2021-12-13T01:30:13.559558",
     "status": "completed"
    },
    "tags": []
   },
   "outputs": [],
   "source": []
  }
 ],
 "metadata": {
  "kernelspec": {
   "display_name": "Python 3",
   "language": "python",
   "name": "python3"
  },
  "language_info": {
   "codemirror_mode": {
    "name": "ipython",
    "version": 3
   },
   "file_extension": ".py",
   "mimetype": "text/x-python",
   "name": "python",
   "nbconvert_exporter": "python",
   "pygments_lexer": "ipython3",
   "version": "3.9.5"
  },
  "papermill": {
   "default_parameters": {},
   "duration": 9.707725,
   "end_time": "2021-12-13T01:30:14.434053",
   "environment_variables": {},
   "exception": null,
   "input_path": "eBay_Overview.ipynb",
   "output_path": "eBay_Overview.ipynb",
   "parameters": {},
   "start_time": "2021-12-13T01:30:04.726328",
   "version": "2.3.3"
  }
 },
 "nbformat": 4,
 "nbformat_minor": 5
}