{
 "cells": [
  {
   "cell_type": "code",
   "execution_count": 1,
   "id": "reverse-picking",
   "metadata": {
    "execution": {
     "iopub.execute_input": "2021-11-19T19:30:08.170782Z",
     "iopub.status.busy": "2021-11-19T19:30:08.168510Z",
     "iopub.status.idle": "2021-11-19T19:30:09.119645Z",
     "shell.execute_reply": "2021-11-19T19:30:09.121709Z"
    },
    "papermill": {
     "duration": 0.999648,
     "end_time": "2021-11-19T19:30:09.122463",
     "exception": false,
     "start_time": "2021-11-19T19:30:08.122815",
     "status": "completed"
    },
    "tags": []
   },
   "outputs": [],
   "source": [
    "import pandas as pd\n",
    "import sqlite3"
   ]
  },
  {
   "cell_type": "code",
   "execution_count": 2,
   "id": "innovative-syndrome",
   "metadata": {
    "execution": {
     "iopub.execute_input": "2021-11-19T19:30:09.186862Z",
     "iopub.status.busy": "2021-11-19T19:30:09.184552Z",
     "iopub.status.idle": "2021-11-19T19:30:10.044189Z",
     "shell.execute_reply": "2021-11-19T19:30:10.045737Z"
    },
    "papermill": {
     "duration": 0.894053,
     "end_time": "2021-11-19T19:30:10.046222",
     "exception": false,
     "start_time": "2021-11-19T19:30:09.152169",
     "status": "completed"
    },
    "tags": []
   },
   "outputs": [],
   "source": [
    "timestamps = pd.read_sql(\"select distinct record_time from EBAY_TOP_BERLIN order by record_time desc limit 2\", sqlite3.connect(\"UsedObjects.db\"))"
   ]
  },
  {
   "cell_type": "code",
   "execution_count": 3,
   "id": "periodic-identification",
   "metadata": {
    "execution": {
     "iopub.execute_input": "2021-11-19T19:30:10.119849Z",
     "iopub.status.busy": "2021-11-19T19:30:10.113991Z",
     "iopub.status.idle": "2021-11-19T19:30:10.138423Z",
     "shell.execute_reply": "2021-11-19T19:30:10.139939Z"
    },
    "papermill": {
     "duration": 0.074519,
     "end_time": "2021-11-19T19:30:10.140403",
     "exception": false,
     "start_time": "2021-11-19T19:30:10.065884",
     "status": "completed"
    },
    "tags": []
   },
   "outputs": [
    {
     "data": {
      "text/html": [
       "<div>\n",
       "<style scoped>\n",
       "    .dataframe tbody tr th:only-of-type {\n",
       "        vertical-align: middle;\n",
       "    }\n",
       "\n",
       "    .dataframe tbody tr th {\n",
       "        vertical-align: top;\n",
       "    }\n",
       "\n",
       "    .dataframe thead th {\n",
       "        text-align: right;\n",
       "    }\n",
       "</style>\n",
       "<table border=\"1\" class=\"dataframe\">\n",
       "  <thead>\n",
       "    <tr style=\"text-align: right;\">\n",
       "      <th></th>\n",
       "      <th>RECORD_TIME</th>\n",
       "    </tr>\n",
       "  </thead>\n",
       "  <tbody>\n",
       "    <tr>\n",
       "      <th>0</th>\n",
       "      <td>2021-11-19 20:30</td>\n",
       "    </tr>\n",
       "    <tr>\n",
       "      <th>1</th>\n",
       "      <td>2021-11-19 20:00</td>\n",
       "    </tr>\n",
       "  </tbody>\n",
       "</table>\n",
       "</div>"
      ],
      "text/plain": [
       "        RECORD_TIME\n",
       "0  2021-11-19 20:30\n",
       "1  2021-11-19 20:00"
      ]
     },
     "execution_count": 3,
     "metadata": {},
     "output_type": "execute_result"
    }
   ],
   "source": [
    "timestamps"
   ]
  },
  {
   "cell_type": "code",
   "execution_count": 4,
   "id": "alternate-victory",
   "metadata": {
    "execution": {
     "iopub.execute_input": "2021-11-19T19:30:10.194468Z",
     "iopub.status.busy": "2021-11-19T19:30:10.192319Z",
     "iopub.status.idle": "2021-11-19T19:30:11.490526Z",
     "shell.execute_reply": "2021-11-19T19:30:11.491857Z"
    },
    "papermill": {
     "duration": 1.33108,
     "end_time": "2021-11-19T19:30:11.492292",
     "exception": false,
     "start_time": "2021-11-19T19:30:10.161212",
     "status": "completed"
    },
    "tags": []
   },
   "outputs": [],
   "source": [
    "df = pd.read_sql(\"select * from EBAY_TOP_BERLIN where record_time in (select distinct record_time from EBAY_TOP_BERLIN order by record_time desc limit 2)\", sqlite3.connect(\"UsedObjects.db\"))"
   ]
  },
  {
   "cell_type": "code",
   "execution_count": 5,
   "id": "popular-active",
   "metadata": {
    "execution": {
     "iopub.execute_input": "2021-11-19T19:30:11.573356Z",
     "iopub.status.busy": "2021-11-19T19:30:11.556924Z",
     "iopub.status.idle": "2021-11-19T19:30:11.590699Z",
     "shell.execute_reply": "2021-11-19T19:30:11.592083Z"
    },
    "papermill": {
     "duration": 0.078583,
     "end_time": "2021-11-19T19:30:11.592558",
     "exception": false,
     "start_time": "2021-11-19T19:30:11.513975",
     "status": "completed"
    },
    "tags": []
   },
   "outputs": [],
   "source": [
    "df_pivot = df.pivot_table(index=\"PRODUCT\", columns = \"RECORD_TIME\", values = \"LISTING_COUNT\")"
   ]
  },
  {
   "cell_type": "code",
   "execution_count": 6,
   "id": "union-huntington",
   "metadata": {
    "execution": {
     "iopub.execute_input": "2021-11-19T19:30:11.650422Z",
     "iopub.status.busy": "2021-11-19T19:30:11.648146Z",
     "iopub.status.idle": "2021-11-19T19:30:11.654406Z",
     "shell.execute_reply": "2021-11-19T19:30:11.655775Z"
    },
    "papermill": {
     "duration": 0.043614,
     "end_time": "2021-11-19T19:30:11.656243",
     "exception": false,
     "start_time": "2021-11-19T19:30:11.612629",
     "status": "completed"
    },
    "tags": []
   },
   "outputs": [],
   "source": [
    "df_pivot.columns = [\"stamp_1\", \"stamp_2\"]\n",
    "df_pivot_diff = df_pivot.diff(axis=1)"
   ]
  },
  {
   "cell_type": "code",
   "execution_count": 7,
   "id": "fifth-motion",
   "metadata": {
    "execution": {
     "iopub.execute_input": "2021-11-19T19:30:11.717531Z",
     "iopub.status.busy": "2021-11-19T19:30:11.714200Z",
     "iopub.status.idle": "2021-11-19T19:30:13.503027Z",
     "shell.execute_reply": "2021-11-19T19:30:13.505878Z"
    },
    "papermill": {
     "duration": 1.829458,
     "end_time": "2021-11-19T19:30:13.506627",
     "exception": false,
     "start_time": "2021-11-19T19:30:11.677169",
     "status": "completed"
    },
    "tags": []
   },
   "outputs": [
    {
     "data": {
      "text/plain": [
       "<AxesSubplot:ylabel='PRODUCT'>"
      ]
     },
     "execution_count": 7,
     "metadata": {},
     "output_type": "execute_result"
    },
    {
     "data": {
      "image/png": "[encoded data removed]",
      "text/plain": [
       "<Figure size 432x288 with 1 Axes>"
      ]
     },
     "metadata": {
      "needs_background": "light"
     },
     "output_type": "display_data"
    }
   ],
   "source": [
    "df_pivot_diff.sort_values(\"stamp_2\", ascending = False)[\"stamp_2\"].head(10).plot.barh()"
   ]
  },
  {
   "cell_type": "code",
   "execution_count": null,
   "id": "extra-executive",
   "metadata": {
    "papermill": {
     "duration": 0.036698,
     "end_time": "2021-11-19T19:30:13.579860",
     "exception": false,
     "start_time": "2021-11-19T19:30:13.543162",
     "status": "completed"
    },
    "tags": []
   },
   "outputs": [],
   "source": []
  }
 ],
 "metadata": {
  "kernelspec": {
   "display_name": "Python 3",
   "language": "python",
   "name": "python3"
  },
  "language_info": {
   "codemirror_mode": {
    "name": "ipython",
    "version": 3
   },
   "file_extension": ".py",
   "mimetype": "text/x-python",
   "name": "python",
   "nbconvert_exporter": "python",
   "pygments_lexer": "ipython3",
   "version": "3.9.5"
  },
  "papermill": {
   "default_parameters": {},
   "duration": 9.99478,
   "end_time": "2021-11-19T19:30:15.326819",
   "environment_variables": {},
   "exception": null,
   "input_path": "eBay_Overview.ipynb",
   "output_path": "eBay_Overview.ipynb",
   "parameters": {},
   "start_time": "2021-11-19T19:30:05.332039",
   "version": "2.3.3"
  }
 },
 "nbformat": 4,
 "nbformat_minor": 5
}