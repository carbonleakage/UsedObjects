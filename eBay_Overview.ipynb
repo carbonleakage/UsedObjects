{
 "cells": [
  {
   "cell_type": "code",
   "execution_count": 1,
   "id": "reverse-picking",
   "metadata": {
    "execution": {
     "iopub.execute_input": "2021-09-07T07:00:07.512920Z",
     "iopub.status.busy": "2021-09-07T07:00:07.510905Z",
     "iopub.status.idle": "2021-09-07T07:00:08.322088Z",
     "shell.execute_reply": "2021-09-07T07:00:08.323498Z"
    },
    "papermill": {
     "duration": 0.862588,
     "end_time": "2021-09-07T07:00:08.324170",
     "exception": false,
     "start_time": "2021-09-07T07:00:07.461582",
     "status": "completed"
    },
    "tags": []
   },
   "outputs": [],
   "source": [
    "import pandas as pd\n",
    "import sqlite3"
   ]
  },
  {
   "cell_type": "code",
   "execution_count": 2,
   "id": "innovative-syndrome",
   "metadata": {
    "execution": {
     "iopub.execute_input": "2021-09-07T07:00:08.375401Z",
     "iopub.status.busy": "2021-09-07T07:00:08.373305Z",
     "iopub.status.idle": "2021-09-07T07:00:08.595324Z",
     "shell.execute_reply": "2021-09-07T07:00:08.596809Z"
    },
    "papermill": {
     "duration": 0.252453,
     "end_time": "2021-09-07T07:00:08.597265",
     "exception": false,
     "start_time": "2021-09-07T07:00:08.344812",
     "status": "completed"
    },
    "tags": []
   },
   "outputs": [],
   "source": [
    "timestamps = pd.read_sql(\"select distinct record_time from EBAY_TOP_BERLIN order by record_time desc limit 2\", sqlite3.connect(\"UsedObjects.db\"))"
   ]
  },
  {
   "cell_type": "code",
   "execution_count": 3,
   "id": "periodic-identification",
   "metadata": {
    "execution": {
     "iopub.execute_input": "2021-09-07T07:00:08.665114Z",
     "iopub.status.busy": "2021-09-07T07:00:08.663082Z",
     "iopub.status.idle": "2021-09-07T07:00:08.683093Z",
     "shell.execute_reply": "2021-09-07T07:00:08.684320Z"
    },
    "papermill": {
     "duration": 0.067345,
     "end_time": "2021-09-07T07:00:08.684765",
     "exception": false,
     "start_time": "2021-09-07T07:00:08.617420",
     "status": "completed"
    },
    "tags": []
   },
   "outputs": [
    {
     "data": {
      "text/html": [
       "<div>\n",
       "<style scoped>\n",
       "    .dataframe tbody tr th:only-of-type {\n",
       "        vertical-align: middle;\n",
       "    }\n",
       "\n",
       "    .dataframe tbody tr th {\n",
       "        vertical-align: top;\n",
       "    }\n",
       "\n",
       "    .dataframe thead th {\n",
       "        text-align: right;\n",
       "    }\n",
       "</style>\n",
       "<table border=\"1\" class=\"dataframe\">\n",
       "  <thead>\n",
       "    <tr style=\"text-align: right;\">\n",
       "      <th></th>\n",
       "      <th>RECORD_TIME</th>\n",
       "    </tr>\n",
       "  </thead>\n",
       "  <tbody>\n",
       "    <tr>\n",
       "      <th>0</th>\n",
       "      <td>2021-09-07 09:00</td>\n",
       "    </tr>\n",
       "    <tr>\n",
       "      <th>1</th>\n",
       "      <td>2021-09-07 08:30</td>\n",
       "    </tr>\n",
       "  </tbody>\n",
       "</table>\n",
       "</div>"
      ],
      "text/plain": [
       "        RECORD_TIME\n",
       "0  2021-09-07 09:00\n",
       "1  2021-09-07 08:30"
      ]
     },
     "execution_count": 3,
     "metadata": {},
     "output_type": "execute_result"
    }
   ],
   "source": [
    "timestamps"
   ]
  },
  {
   "cell_type": "code",
   "execution_count": 4,
   "id": "alternate-victory",
   "metadata": {
    "execution": {
     "iopub.execute_input": "2021-09-07T07:00:08.739470Z",
     "iopub.status.busy": "2021-09-07T07:00:08.737063Z",
     "iopub.status.idle": "2021-09-07T07:00:09.077178Z",
     "shell.execute_reply": "2021-09-07T07:00:09.078393Z"
    },
    "papermill": {
     "duration": 0.370961,
     "end_time": "2021-09-07T07:00:09.078797",
     "exception": false,
     "start_time": "2021-09-07T07:00:08.707836",
     "status": "completed"
    },
    "tags": []
   },
   "outputs": [],
   "source": [
    "df = pd.read_sql(\"select * from EBAY_TOP_BERLIN where record_time in (select distinct record_time from EBAY_TOP_BERLIN order by record_time desc limit 2)\", sqlite3.connect(\"UsedObjects.db\"))"
   ]
  },
  {
   "cell_type": "code",
   "execution_count": 5,
   "id": "popular-active",
   "metadata": {
    "execution": {
     "iopub.execute_input": "2021-09-07T07:00:09.164371Z",
     "iopub.status.busy": "2021-09-07T07:00:09.150726Z",
     "iopub.status.idle": "2021-09-07T07:00:09.180273Z",
     "shell.execute_reply": "2021-09-07T07:00:09.181570Z"
    },
    "papermill": {
     "duration": 0.075561,
     "end_time": "2021-09-07T07:00:09.181993",
     "exception": false,
     "start_time": "2021-09-07T07:00:09.106432",
     "status": "completed"
    },
    "tags": []
   },
   "outputs": [],
   "source": [
    "df_pivot = df.pivot_table(index=\"PRODUCT\", columns = \"RECORD_TIME\", values = \"LISTING_COUNT\")"
   ]
  },
  {
   "cell_type": "code",
   "execution_count": 6,
   "id": "union-huntington",
   "metadata": {
    "execution": {
     "iopub.execute_input": "2021-09-07T07:00:09.239535Z",
     "iopub.status.busy": "2021-09-07T07:00:09.237287Z",
     "iopub.status.idle": "2021-09-07T07:00:09.242805Z",
     "shell.execute_reply": "2021-09-07T07:00:09.244434Z"
    },
    "papermill": {
     "duration": 0.041579,
     "end_time": "2021-09-07T07:00:09.244958",
     "exception": false,
     "start_time": "2021-09-07T07:00:09.203379",
     "status": "completed"
    },
    "tags": []
   },
   "outputs": [],
   "source": [
    "df_pivot.columns = [\"stamp_1\", \"stamp_2\"]\n",
    "df_pivot_diff = df_pivot.diff(axis=1)"
   ]
  },
  {
   "cell_type": "code",
   "execution_count": 7,
   "id": "fifth-motion",
   "metadata": {
    "execution": {
     "iopub.execute_input": "2021-09-07T07:00:09.299979Z",
     "iopub.status.busy": "2021-09-07T07:00:09.297240Z",
     "iopub.status.idle": "2021-09-07T07:00:10.816229Z",
     "shell.execute_reply": "2021-09-07T07:00:10.817524Z"
    },
    "papermill": {
     "duration": 1.552615,
     "end_time": "2021-09-07T07:00:10.817946",
     "exception": false,
     "start_time": "2021-09-07T07:00:09.265331",
     "status": "completed"
    },
    "tags": []
   },
   "outputs": [
    {
     "data": {
      "text/plain": [
       "<AxesSubplot:ylabel='PRODUCT'>"
      ]
     },
     "execution_count": 7,
     "metadata": {},
     "output_type": "execute_result"
    },
    {
     "data": {
      "image/png": "[encoded data removed]",
      "text/plain": [
       "<Figure size 432x288 with 1 Axes>"
      ]
     },
     "metadata": {
      "needs_background": "light"
     },
     "output_type": "display_data"
    }
   ],
   "source": [
    "df_pivot_diff.sort_values(\"stamp_2\", ascending = False)[\"stamp_2\"].head(10).plot.barh()"
   ]
  },
  {
   "cell_type": "code",
   "execution_count": null,
   "id": "extra-executive",
   "metadata": {
    "papermill": {
     "duration": 0.022891,
     "end_time": "2021-09-07T07:00:10.865842",
     "exception": false,
     "start_time": "2021-09-07T07:00:10.842951",
     "status": "completed"
    },
    "tags": []
   },
   "outputs": [],
   "source": []
  }
 ],
 "metadata": {
  "kernelspec": {
   "display_name": "Python 3",
   "language": "python",
   "name": "python3"
  },
  "language_info": {
   "codemirror_mode": {
    "name": "ipython",
    "version": 3
   },
   "file_extension": ".py",
   "mimetype": "text/x-python",
   "name": "python",
   "nbconvert_exporter": "python",
   "pygments_lexer": "ipython3",
   "version": "3.9.5"
  },
  "papermill": {
   "default_parameters": {},
   "duration": 6.470115,
   "end_time": "2021-09-07T07:00:11.507415",
   "environment_variables": {},
   "exception": null,
   "input_path": "eBay_Overview.ipynb",
   "output_path": "eBay_Overview.ipynb",
   "parameters": {},
   "start_time": "2021-09-07T07:00:05.037300",
   "version": "2.3.3"
  }
 },
 "nbformat": 4,
 "nbformat_minor": 5
}