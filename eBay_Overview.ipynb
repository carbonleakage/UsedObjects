{
 "cells": [
  {
   "cell_type": "code",
   "execution_count": 1,
   "id": "reverse-picking",
   "metadata": {
    "execution": {
     "iopub.execute_input": "2021-09-30T04:30:07.383864Z",
     "iopub.status.busy": "2021-09-30T04:30:07.381782Z",
     "iopub.status.idle": "2021-09-30T04:30:08.193395Z",
     "shell.execute_reply": "2021-09-30T04:30:08.194712Z"
    },
    "papermill": {
     "duration": 0.862528,
     "end_time": "2021-09-30T04:30:08.195437",
     "exception": false,
     "start_time": "2021-09-30T04:30:07.332909",
     "status": "completed"
    },
    "tags": []
   },
   "outputs": [],
   "source": [
    "import pandas as pd\n",
    "import sqlite3"
   ]
  },
  {
   "cell_type": "code",
   "execution_count": 2,
   "id": "innovative-syndrome",
   "metadata": {
    "execution": {
     "iopub.execute_input": "2021-09-30T04:30:08.246908Z",
     "iopub.status.busy": "2021-09-30T04:30:08.244800Z",
     "iopub.status.idle": "2021-09-30T04:30:08.656403Z",
     "shell.execute_reply": "2021-09-30T04:30:08.657591Z"
    },
    "papermill": {
     "duration": 0.442057,
     "end_time": "2021-09-30T04:30:08.657993",
     "exception": false,
     "start_time": "2021-09-30T04:30:08.215936",
     "status": "completed"
    },
    "tags": []
   },
   "outputs": [],
   "source": [
    "timestamps = pd.read_sql(\"select distinct record_time from EBAY_TOP_BERLIN order by record_time desc limit 2\", sqlite3.connect(\"UsedObjects.db\"))"
   ]
  },
  {
   "cell_type": "code",
   "execution_count": 3,
   "id": "periodic-identification",
   "metadata": {
    "execution": {
     "iopub.execute_input": "2021-09-30T04:30:08.722775Z",
     "iopub.status.busy": "2021-09-30T04:30:08.720744Z",
     "iopub.status.idle": "2021-09-30T04:30:08.741436Z",
     "shell.execute_reply": "2021-09-30T04:30:08.743099Z"
    },
    "papermill": {
     "duration": 0.06595,
     "end_time": "2021-09-30T04:30:08.743611",
     "exception": false,
     "start_time": "2021-09-30T04:30:08.677661",
     "status": "completed"
    },
    "tags": []
   },
   "outputs": [
    {
     "data": {
      "text/html": [
       "<div>\n",
       "<style scoped>\n",
       "    .dataframe tbody tr th:only-of-type {\n",
       "        vertical-align: middle;\n",
       "    }\n",
       "\n",
       "    .dataframe tbody tr th {\n",
       "        vertical-align: top;\n",
       "    }\n",
       "\n",
       "    .dataframe thead th {\n",
       "        text-align: right;\n",
       "    }\n",
       "</style>\n",
       "<table border=\"1\" class=\"dataframe\">\n",
       "  <thead>\n",
       "    <tr style=\"text-align: right;\">\n",
       "      <th></th>\n",
       "      <th>RECORD_TIME</th>\n",
       "    </tr>\n",
       "  </thead>\n",
       "  <tbody>\n",
       "    <tr>\n",
       "      <th>0</th>\n",
       "      <td>2021-09-30 06:30</td>\n",
       "    </tr>\n",
       "    <tr>\n",
       "      <th>1</th>\n",
       "      <td>2021-09-30 06:00</td>\n",
       "    </tr>\n",
       "  </tbody>\n",
       "</table>\n",
       "</div>"
      ],
      "text/plain": [
       "        RECORD_TIME\n",
       "0  2021-09-30 06:30\n",
       "1  2021-09-30 06:00"
      ]
     },
     "execution_count": 3,
     "metadata": {},
     "output_type": "execute_result"
    }
   ],
   "source": [
    "timestamps"
   ]
  },
  {
   "cell_type": "code",
   "execution_count": 4,
   "id": "alternate-victory",
   "metadata": {
    "execution": {
     "iopub.execute_input": "2021-09-30T04:30:08.808055Z",
     "iopub.status.busy": "2021-09-30T04:30:08.805048Z",
     "iopub.status.idle": "2021-09-30T04:30:09.417957Z",
     "shell.execute_reply": "2021-09-30T04:30:09.419486Z"
    },
    "papermill": {
     "duration": 0.653043,
     "end_time": "2021-09-30T04:30:09.419929",
     "exception": false,
     "start_time": "2021-09-30T04:30:08.766886",
     "status": "completed"
    },
    "tags": []
   },
   "outputs": [],
   "source": [
    "df = pd.read_sql(\"select * from EBAY_TOP_BERLIN where record_time in (select distinct record_time from EBAY_TOP_BERLIN order by record_time desc limit 2)\", sqlite3.connect(\"UsedObjects.db\"))"
   ]
  },
  {
   "cell_type": "code",
   "execution_count": 5,
   "id": "popular-active",
   "metadata": {
    "execution": {
     "iopub.execute_input": "2021-09-30T04:30:09.490981Z",
     "iopub.status.busy": "2021-09-30T04:30:09.479269Z",
     "iopub.status.idle": "2021-09-30T04:30:09.507179Z",
     "shell.execute_reply": "2021-09-30T04:30:09.508407Z"
    },
    "papermill": {
     "duration": 0.068482,
     "end_time": "2021-09-30T04:30:09.508808",
     "exception": false,
     "start_time": "2021-09-30T04:30:09.440326",
     "status": "completed"
    },
    "tags": []
   },
   "outputs": [],
   "source": [
    "df_pivot = df.pivot_table(index=\"PRODUCT\", columns = \"RECORD_TIME\", values = \"LISTING_COUNT\")"
   ]
  },
  {
   "cell_type": "code",
   "execution_count": 6,
   "id": "union-huntington",
   "metadata": {
    "execution": {
     "iopub.execute_input": "2021-09-30T04:30:09.567035Z",
     "iopub.status.busy": "2021-09-30T04:30:09.564722Z",
     "iopub.status.idle": "2021-09-30T04:30:09.570537Z",
     "shell.execute_reply": "2021-09-30T04:30:09.571896Z"
    },
    "papermill": {
     "duration": 0.04183,
     "end_time": "2021-09-30T04:30:09.572314",
     "exception": false,
     "start_time": "2021-09-30T04:30:09.530484",
     "status": "completed"
    },
    "tags": []
   },
   "outputs": [],
   "source": [
    "df_pivot.columns = [\"stamp_1\", \"stamp_2\"]\n",
    "df_pivot_diff = df_pivot.diff(axis=1)"
   ]
  },
  {
   "cell_type": "code",
   "execution_count": 7,
   "id": "fifth-motion",
   "metadata": {
    "execution": {
     "iopub.execute_input": "2021-09-30T04:30:09.626135Z",
     "iopub.status.busy": "2021-09-30T04:30:09.623891Z",
     "iopub.status.idle": "2021-09-30T04:30:11.110764Z",
     "shell.execute_reply": "2021-09-30T04:30:11.112406Z"
    },
    "papermill": {
     "duration": 1.520561,
     "end_time": "2021-09-30T04:30:11.112898",
     "exception": false,
     "start_time": "2021-09-30T04:30:09.592337",
     "status": "completed"
    },
    "tags": []
   },
   "outputs": [
    {
     "data": {
      "text/plain": [
       "<AxesSubplot:ylabel='PRODUCT'>"
      ]
     },
     "execution_count": 7,
     "metadata": {},
     "output_type": "execute_result"
    },
    {
     "data": {
      "image/png": "[encoded data removed]",
      "text/plain": [
       "<Figure size 432x288 with 1 Axes>"
      ]
     },
     "metadata": {
      "needs_background": "light"
     },
     "output_type": "display_data"
    }
   ],
   "source": [
    "df_pivot_diff.sort_values(\"stamp_2\", ascending = False)[\"stamp_2\"].head(10).plot.barh()"
   ]
  },
  {
   "cell_type": "code",
   "execution_count": null,
   "id": "extra-executive",
   "metadata": {
    "papermill": {
     "duration": 0.022325,
     "end_time": "2021-09-30T04:30:11.160435",
     "exception": false,
     "start_time": "2021-09-30T04:30:11.138110",
     "status": "completed"
    },
    "tags": []
   },
   "outputs": [],
   "source": []
  }
 ],
 "metadata": {
  "kernelspec": {
   "display_name": "Python 3",
   "language": "python",
   "name": "python3"
  },
  "language_info": {
   "codemirror_mode": {
    "name": "ipython",
    "version": 3
   },
   "file_extension": ".py",
   "mimetype": "text/x-python",
   "name": "python",
   "nbconvert_exporter": "python",
   "pygments_lexer": "ipython3",
   "version": "3.9.5"
  },
  "papermill": {
   "default_parameters": {},
   "duration": 7.844971,
   "end_time": "2021-09-30T04:30:12.761811",
   "environment_variables": {},
   "exception": null,
   "input_path": "eBay_Overview.ipynb",
   "output_path": "eBay_Overview.ipynb",
   "parameters": {},
   "start_time": "2021-09-30T04:30:04.916840",
   "version": "2.3.3"
  }
 },
 "nbformat": 4,
 "nbformat_minor": 5
}