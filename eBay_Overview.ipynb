{
 "cells": [
  {
   "cell_type": "code",
   "execution_count": 1,
   "id": "reverse-picking",
   "metadata": {
    "execution": {
     "iopub.execute_input": "2021-10-12T07:30:07.189218Z",
     "iopub.status.busy": "2021-10-12T07:30:07.187163Z",
     "iopub.status.idle": "2021-10-12T07:30:07.992486Z",
     "shell.execute_reply": "2021-10-12T07:30:07.990924Z"
    },
    "papermill": {
     "duration": 0.854724,
     "end_time": "2021-10-12T07:30:07.992934",
     "exception": false,
     "start_time": "2021-10-12T07:30:07.138210",
     "status": "completed"
    },
    "tags": []
   },
   "outputs": [],
   "source": [
    "import pandas as pd\n",
    "import sqlite3"
   ]
  },
  {
   "cell_type": "code",
   "execution_count": 2,
   "id": "innovative-syndrome",
   "metadata": {
    "execution": {
     "iopub.execute_input": "2021-10-12T07:30:08.043547Z",
     "iopub.status.busy": "2021-10-12T07:30:08.041703Z",
     "iopub.status.idle": "2021-10-12T07:30:08.564767Z",
     "shell.execute_reply": "2021-10-12T07:30:08.566017Z"
    },
    "papermill": {
     "duration": 0.552526,
     "end_time": "2021-10-12T07:30:08.566413",
     "exception": false,
     "start_time": "2021-10-12T07:30:08.013887",
     "status": "completed"
    },
    "tags": []
   },
   "outputs": [],
   "source": [
    "timestamps = pd.read_sql(\"select distinct record_time from EBAY_TOP_BERLIN order by record_time desc limit 2\", sqlite3.connect(\"UsedObjects.db\"))"
   ]
  },
  {
   "cell_type": "code",
   "execution_count": 3,
   "id": "periodic-identification",
   "metadata": {
    "execution": {
     "iopub.execute_input": "2021-10-12T07:30:08.634513Z",
     "iopub.status.busy": "2021-10-12T07:30:08.629754Z",
     "iopub.status.idle": "2021-10-12T07:30:08.651125Z",
     "shell.execute_reply": "2021-10-12T07:30:08.652337Z"
    },
    "papermill": {
     "duration": 0.065839,
     "end_time": "2021-10-12T07:30:08.652910",
     "exception": false,
     "start_time": "2021-10-12T07:30:08.587071",
     "status": "completed"
    },
    "tags": []
   },
   "outputs": [
    {
     "data": {
      "text/html": [
       "<div>\n",
       "<style scoped>\n",
       "    .dataframe tbody tr th:only-of-type {\n",
       "        vertical-align: middle;\n",
       "    }\n",
       "\n",
       "    .dataframe tbody tr th {\n",
       "        vertical-align: top;\n",
       "    }\n",
       "\n",
       "    .dataframe thead th {\n",
       "        text-align: right;\n",
       "    }\n",
       "</style>\n",
       "<table border=\"1\" class=\"dataframe\">\n",
       "  <thead>\n",
       "    <tr style=\"text-align: right;\">\n",
       "      <th></th>\n",
       "      <th>RECORD_TIME</th>\n",
       "    </tr>\n",
       "  </thead>\n",
       "  <tbody>\n",
       "    <tr>\n",
       "      <th>0</th>\n",
       "      <td>2021-10-12 09:30</td>\n",
       "    </tr>\n",
       "    <tr>\n",
       "      <th>1</th>\n",
       "      <td>2021-10-12 09:00</td>\n",
       "    </tr>\n",
       "  </tbody>\n",
       "</table>\n",
       "</div>"
      ],
      "text/plain": [
       "        RECORD_TIME\n",
       "0  2021-10-12 09:30\n",
       "1  2021-10-12 09:00"
      ]
     },
     "execution_count": 3,
     "metadata": {},
     "output_type": "execute_result"
    }
   ],
   "source": [
    "timestamps"
   ]
  },
  {
   "cell_type": "code",
   "execution_count": 4,
   "id": "alternate-victory",
   "metadata": {
    "execution": {
     "iopub.execute_input": "2021-10-12T07:30:08.712356Z",
     "iopub.status.busy": "2021-10-12T07:30:08.710469Z",
     "iopub.status.idle": "2021-10-12T07:30:09.499009Z",
     "shell.execute_reply": "2021-10-12T07:30:09.500220Z"
    },
    "papermill": {
     "duration": 0.819155,
     "end_time": "2021-10-12T07:30:09.500610",
     "exception": false,
     "start_time": "2021-10-12T07:30:08.681455",
     "status": "completed"
    },
    "tags": []
   },
   "outputs": [],
   "source": [
    "df = pd.read_sql(\"select * from EBAY_TOP_BERLIN where record_time in (select distinct record_time from EBAY_TOP_BERLIN order by record_time desc limit 2)\", sqlite3.connect(\"UsedObjects.db\"))"
   ]
  },
  {
   "cell_type": "code",
   "execution_count": 5,
   "id": "popular-active",
   "metadata": {
    "execution": {
     "iopub.execute_input": "2021-10-12T07:30:09.573087Z",
     "iopub.status.busy": "2021-10-12T07:30:09.571005Z",
     "iopub.status.idle": "2021-10-12T07:30:09.588229Z",
     "shell.execute_reply": "2021-10-12T07:30:09.589527Z"
    },
    "papermill": {
     "duration": 0.067213,
     "end_time": "2021-10-12T07:30:09.589927",
     "exception": false,
     "start_time": "2021-10-12T07:30:09.522714",
     "status": "completed"
    },
    "tags": []
   },
   "outputs": [],
   "source": [
    "df_pivot = df.pivot_table(index=\"PRODUCT\", columns = \"RECORD_TIME\", values = \"LISTING_COUNT\")"
   ]
  },
  {
   "cell_type": "code",
   "execution_count": 6,
   "id": "union-huntington",
   "metadata": {
    "execution": {
     "iopub.execute_input": "2021-10-12T07:30:09.646442Z",
     "iopub.status.busy": "2021-10-12T07:30:09.644214Z",
     "iopub.status.idle": "2021-10-12T07:30:09.649783Z",
     "shell.execute_reply": "2021-10-12T07:30:09.651145Z"
    },
    "papermill": {
     "duration": 0.040931,
     "end_time": "2021-10-12T07:30:09.651581",
     "exception": false,
     "start_time": "2021-10-12T07:30:09.610650",
     "status": "completed"
    },
    "tags": []
   },
   "outputs": [],
   "source": [
    "df_pivot.columns = [\"stamp_1\", \"stamp_2\"]\n",
    "df_pivot_diff = df_pivot.diff(axis=1)"
   ]
  },
  {
   "cell_type": "code",
   "execution_count": 7,
   "id": "fifth-motion",
   "metadata": {
    "execution": {
     "iopub.execute_input": "2021-10-12T07:30:09.709692Z",
     "iopub.status.busy": "2021-10-12T07:30:09.706963Z",
     "iopub.status.idle": "2021-10-12T07:30:11.217778Z",
     "shell.execute_reply": "2021-10-12T07:30:11.219080Z"
    },
    "papermill": {
     "duration": 1.544795,
     "end_time": "2021-10-12T07:30:11.219496",
     "exception": false,
     "start_time": "2021-10-12T07:30:09.674701",
     "status": "completed"
    },
    "tags": []
   },
   "outputs": [
    {
     "data": {
      "text/plain": [
       "<AxesSubplot:ylabel='PRODUCT'>"
      ]
     },
     "execution_count": 7,
     "metadata": {},
     "output_type": "execute_result"
    },
    {
     "data": {
      "image/png": "[encoded data removed]",
      "text/plain": [
       "<Figure size 432x288 with 1 Axes>"
      ]
     },
     "metadata": {
      "needs_background": "light"
     },
     "output_type": "display_data"
    }
   ],
   "source": [
    "df_pivot_diff.sort_values(\"stamp_2\", ascending = False)[\"stamp_2\"].head(10).plot.barh()"
   ]
  },
  {
   "cell_type": "code",
   "execution_count": null,
   "id": "extra-executive",
   "metadata": {
    "papermill": {
     "duration": 0.02224,
     "end_time": "2021-10-12T07:30:11.266419",
     "exception": false,
     "start_time": "2021-10-12T07:30:11.244179",
     "status": "completed"
    },
    "tags": []
   },
   "outputs": [],
   "source": []
  }
 ],
 "metadata": {
  "kernelspec": {
   "display_name": "Python 3",
   "language": "python",
   "name": "python3"
  },
  "language_info": {
   "codemirror_mode": {
    "name": "ipython",
    "version": 3
   },
   "file_extension": ".py",
   "mimetype": "text/x-python",
   "name": "python",
   "nbconvert_exporter": "python",
   "pygments_lexer": "ipython3",
   "version": "3.9.5"
  },
  "papermill": {
   "default_parameters": {},
   "duration": 7.819575,
   "end_time": "2021-10-12T07:30:12.555714",
   "environment_variables": {},
   "exception": null,
   "input_path": "eBay_Overview.ipynb",
   "output_path": "eBay_Overview.ipynb",
   "parameters": {},
   "start_time": "2021-10-12T07:30:04.736139",
   "version": "2.3.3"
  }
 },
 "nbformat": 4,
 "nbformat_minor": 5
}