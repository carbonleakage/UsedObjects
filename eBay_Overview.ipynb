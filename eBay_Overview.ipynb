{
 "cells": [
  {
   "cell_type": "code",
   "execution_count": 1,
   "id": "reverse-picking",
   "metadata": {
    "execution": {
     "iopub.execute_input": "2021-08-16T20:30:06.620330Z",
     "iopub.status.busy": "2021-08-16T20:30:06.618346Z",
     "iopub.status.idle": "2021-08-16T20:30:07.432682Z",
     "shell.execute_reply": "2021-08-16T20:30:07.434113Z"
    },
    "papermill": {
     "duration": 0.867247,
     "end_time": "2021-08-16T20:30:07.434795",
     "exception": false,
     "start_time": "2021-08-16T20:30:06.567548",
     "status": "completed"
    },
    "tags": []
   },
   "outputs": [],
   "source": [
    "import pandas as pd\n",
    "import sqlite3"
   ]
  },
  {
   "cell_type": "code",
   "execution_count": 2,
   "id": "innovative-syndrome",
   "metadata": {
    "execution": {
     "iopub.execute_input": "2021-08-16T20:30:07.486204Z",
     "iopub.status.busy": "2021-08-16T20:30:07.484165Z",
     "iopub.status.idle": "2021-08-16T20:30:07.546917Z",
     "shell.execute_reply": "2021-08-16T20:30:07.548128Z"
    },
    "papermill": {
     "duration": 0.093087,
     "end_time": "2021-08-16T20:30:07.548526",
     "exception": false,
     "start_time": "2021-08-16T20:30:07.455439",
     "status": "completed"
    },
    "tags": []
   },
   "outputs": [],
   "source": [
    "timestamps = pd.read_sql(\"select distinct record_time from EBAY_TOP_BERLIN order by record_time desc limit 2\", sqlite3.connect(\"UsedObjects.db\"))"
   ]
  },
  {
   "cell_type": "code",
   "execution_count": 3,
   "id": "periodic-identification",
   "metadata": {
    "execution": {
     "iopub.execute_input": "2021-08-16T20:30:07.613244Z",
     "iopub.status.busy": "2021-08-16T20:30:07.611215Z",
     "iopub.status.idle": "2021-08-16T20:30:07.630989Z",
     "shell.execute_reply": "2021-08-16T20:30:07.632259Z"
    },
    "papermill": {
     "duration": 0.064367,
     "end_time": "2021-08-16T20:30:07.632656",
     "exception": false,
     "start_time": "2021-08-16T20:30:07.568289",
     "status": "completed"
    },
    "tags": []
   },
   "outputs": [
    {
     "data": {
      "text/html": [
       "<div>\n",
       "<style scoped>\n",
       "    .dataframe tbody tr th:only-of-type {\n",
       "        vertical-align: middle;\n",
       "    }\n",
       "\n",
       "    .dataframe tbody tr th {\n",
       "        vertical-align: top;\n",
       "    }\n",
       "\n",
       "    .dataframe thead th {\n",
       "        text-align: right;\n",
       "    }\n",
       "</style>\n",
       "<table border=\"1\" class=\"dataframe\">\n",
       "  <thead>\n",
       "    <tr style=\"text-align: right;\">\n",
       "      <th></th>\n",
       "      <th>RECORD_TIME</th>\n",
       "    </tr>\n",
       "  </thead>\n",
       "  <tbody>\n",
       "    <tr>\n",
       "      <th>0</th>\n",
       "      <td>2021-08-16 22:30</td>\n",
       "    </tr>\n",
       "    <tr>\n",
       "      <th>1</th>\n",
       "      <td>2021-08-16 22:00</td>\n",
       "    </tr>\n",
       "  </tbody>\n",
       "</table>\n",
       "</div>"
      ],
      "text/plain": [
       "        RECORD_TIME\n",
       "0  2021-08-16 22:30\n",
       "1  2021-08-16 22:00"
      ]
     },
     "execution_count": 3,
     "metadata": {},
     "output_type": "execute_result"
    }
   ],
   "source": [
    "timestamps"
   ]
  },
  {
   "cell_type": "code",
   "execution_count": 4,
   "id": "alternate-victory",
   "metadata": {
    "execution": {
     "iopub.execute_input": "2021-08-16T20:30:07.685399Z",
     "iopub.status.busy": "2021-08-16T20:30:07.683131Z",
     "iopub.status.idle": "2021-08-16T20:30:07.779435Z",
     "shell.execute_reply": "2021-08-16T20:30:07.780863Z"
    },
    "papermill": {
     "duration": 0.12731,
     "end_time": "2021-08-16T20:30:07.781307",
     "exception": false,
     "start_time": "2021-08-16T20:30:07.653997",
     "status": "completed"
    },
    "tags": []
   },
   "outputs": [],
   "source": [
    "df = pd.read_sql(\"select * from EBAY_TOP_BERLIN where record_time in (select distinct record_time from EBAY_TOP_BERLIN order by record_time desc limit 2)\", sqlite3.connect(\"UsedObjects.db\"))"
   ]
  },
  {
   "cell_type": "code",
   "execution_count": 5,
   "id": "popular-active",
   "metadata": {
    "execution": {
     "iopub.execute_input": "2021-08-16T20:30:07.852669Z",
     "iopub.status.busy": "2021-08-16T20:30:07.845683Z",
     "iopub.status.idle": "2021-08-16T20:30:07.867939Z",
     "shell.execute_reply": "2021-08-16T20:30:07.869156Z"
    },
    "papermill": {
     "duration": 0.067094,
     "end_time": "2021-08-16T20:30:07.869545",
     "exception": false,
     "start_time": "2021-08-16T20:30:07.802451",
     "status": "completed"
    },
    "tags": []
   },
   "outputs": [],
   "source": [
    "df_pivot = df.pivot_table(index=\"PRODUCT\", columns = \"RECORD_TIME\", values = \"LISTING_COUNT\")"
   ]
  },
  {
   "cell_type": "code",
   "execution_count": 6,
   "id": "union-huntington",
   "metadata": {
    "execution": {
     "iopub.execute_input": "2021-08-16T20:30:07.927861Z",
     "iopub.status.busy": "2021-08-16T20:30:07.925738Z",
     "iopub.status.idle": "2021-08-16T20:30:07.930999Z",
     "shell.execute_reply": "2021-08-16T20:30:07.932319Z"
    },
    "papermill": {
     "duration": 0.040567,
     "end_time": "2021-08-16T20:30:07.932739",
     "exception": false,
     "start_time": "2021-08-16T20:30:07.892172",
     "status": "completed"
    },
    "tags": []
   },
   "outputs": [],
   "source": [
    "df_pivot.columns = [\"stamp_1\", \"stamp_2\"]\n",
    "df_pivot_diff = df_pivot.diff(axis=1)"
   ]
  },
  {
   "cell_type": "code",
   "execution_count": 7,
   "id": "fifth-motion",
   "metadata": {
    "execution": {
     "iopub.execute_input": "2021-08-16T20:30:07.989886Z",
     "iopub.status.busy": "2021-08-16T20:30:07.987232Z",
     "iopub.status.idle": "2021-08-16T20:30:09.493453Z",
     "shell.execute_reply": "2021-08-16T20:30:09.494947Z"
    },
    "papermill": {
     "duration": 1.540931,
     "end_time": "2021-08-16T20:30:09.495403",
     "exception": false,
     "start_time": "2021-08-16T20:30:07.954472",
     "status": "completed"
    },
    "tags": []
   },
   "outputs": [
    {
     "data": {
      "text/plain": [
       "<AxesSubplot:ylabel='PRODUCT'>"
      ]
     },
     "execution_count": 7,
     "metadata": {},
     "output_type": "execute_result"
    },
    {
     "data": {
      "image/png": "[encoded data removed]",
      "text/plain": [
       "<Figure size 432x288 with 1 Axes>"
      ]
     },
     "metadata": {
      "needs_background": "light"
     },
     "output_type": "display_data"
    }
   ],
   "source": [
    "df_pivot_diff.sort_values(\"stamp_2\", ascending = False)[\"stamp_2\"].head(10).plot.barh()"
   ]
  },
  {
   "cell_type": "code",
   "execution_count": null,
   "id": "extra-executive",
   "metadata": {
    "papermill": {
     "duration": 0.022672,
     "end_time": "2021-08-16T20:30:09.542417",
     "exception": false,
     "start_time": "2021-08-16T20:30:09.519745",
     "status": "completed"
    },
    "tags": []
   },
   "outputs": [],
   "source": []
  }
 ],
 "metadata": {
  "kernelspec": {
   "display_name": "Python 3",
   "language": "python",
   "name": "python3"
  },
  "language_info": {
   "codemirror_mode": {
    "name": "ipython",
    "version": 3
   },
   "file_extension": ".py",
   "mimetype": "text/x-python",
   "name": "python",
   "nbconvert_exporter": "python",
   "pygments_lexer": "ipython3",
   "version": "3.9.5"
  },
  "papermill": {
   "default_parameters": {},
   "duration": 6.837619,
   "end_time": "2021-08-16T20:30:10.977232",
   "environment_variables": {},
   "exception": null,
   "input_path": "eBay_Overview.ipynb",
   "output_path": "eBay_Overview.ipynb",
   "parameters": {},
   "start_time": "2021-08-16T20:30:04.139613",
   "version": "2.3.3"
  }
 },
 "nbformat": 4,
 "nbformat_minor": 5
}