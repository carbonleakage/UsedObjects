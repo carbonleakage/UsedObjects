{
 "cells": [
  {
   "cell_type": "code",
   "execution_count": 1,
   "id": "reverse-picking",
   "metadata": {
    "execution": {
     "iopub.execute_input": "2021-12-18T19:30:08.038067Z",
     "iopub.status.busy": "2021-12-18T19:30:08.020740Z",
     "iopub.status.idle": "2021-12-18T19:30:08.993944Z",
     "shell.execute_reply": "2021-12-18T19:30:08.995379Z"
    },
    "papermill": {
     "duration": 1.007104,
     "end_time": "2021-12-18T19:30:08.996090",
     "exception": false,
     "start_time": "2021-12-18T19:30:07.988986",
     "status": "completed"
    },
    "tags": []
   },
   "outputs": [],
   "source": [
    "import pandas as pd\n",
    "import sqlite3"
   ]
  },
  {
   "cell_type": "code",
   "execution_count": 2,
   "id": "innovative-syndrome",
   "metadata": {
    "execution": {
     "iopub.execute_input": "2021-12-18T19:30:09.060099Z",
     "iopub.status.busy": "2021-12-18T19:30:09.057392Z",
     "iopub.status.idle": "2021-12-18T19:30:10.170149Z",
     "shell.execute_reply": "2021-12-18T19:30:10.171971Z"
    },
    "papermill": {
     "duration": 1.146667,
     "end_time": "2021-12-18T19:30:10.172391",
     "exception": false,
     "start_time": "2021-12-18T19:30:09.025724",
     "status": "completed"
    },
    "tags": []
   },
   "outputs": [],
   "source": [
    "timestamps = pd.read_sql(\"select distinct record_time from EBAY_TOP_BERLIN order by record_time desc limit 2\", sqlite3.connect(\"UsedObjects.db\"))"
   ]
  },
  {
   "cell_type": "code",
   "execution_count": 3,
   "id": "periodic-identification",
   "metadata": {
    "execution": {
     "iopub.execute_input": "2021-12-18T19:30:10.239635Z",
     "iopub.status.busy": "2021-12-18T19:30:10.237577Z",
     "iopub.status.idle": "2021-12-18T19:30:10.259862Z",
     "shell.execute_reply": "2021-12-18T19:30:10.258443Z"
    },
    "papermill": {
     "duration": 0.067639,
     "end_time": "2021-12-18T19:30:10.260223",
     "exception": false,
     "start_time": "2021-12-18T19:30:10.192584",
     "status": "completed"
    },
    "tags": []
   },
   "outputs": [
    {
     "data": {
      "text/html": [
       "<div>\n",
       "<style scoped>\n",
       "    .dataframe tbody tr th:only-of-type {\n",
       "        vertical-align: middle;\n",
       "    }\n",
       "\n",
       "    .dataframe tbody tr th {\n",
       "        vertical-align: top;\n",
       "    }\n",
       "\n",
       "    .dataframe thead th {\n",
       "        text-align: right;\n",
       "    }\n",
       "</style>\n",
       "<table border=\"1\" class=\"dataframe\">\n",
       "  <thead>\n",
       "    <tr style=\"text-align: right;\">\n",
       "      <th></th>\n",
       "      <th>RECORD_TIME</th>\n",
       "    </tr>\n",
       "  </thead>\n",
       "  <tbody>\n",
       "    <tr>\n",
       "      <th>0</th>\n",
       "      <td>2021-12-18 20:30</td>\n",
       "    </tr>\n",
       "    <tr>\n",
       "      <th>1</th>\n",
       "      <td>2021-12-18 20:00</td>\n",
       "    </tr>\n",
       "  </tbody>\n",
       "</table>\n",
       "</div>"
      ],
      "text/plain": [
       "        RECORD_TIME\n",
       "0  2021-12-18 20:30\n",
       "1  2021-12-18 20:00"
      ]
     },
     "execution_count": 3,
     "metadata": {},
     "output_type": "execute_result"
    }
   ],
   "source": [
    "timestamps"
   ]
  },
  {
   "cell_type": "code",
   "execution_count": 4,
   "id": "alternate-victory",
   "metadata": {
    "execution": {
     "iopub.execute_input": "2021-12-18T19:30:10.313183Z",
     "iopub.status.busy": "2021-12-18T19:30:10.310799Z",
     "iopub.status.idle": "2021-12-18T19:30:11.982515Z",
     "shell.execute_reply": "2021-12-18T19:30:11.984059Z"
    },
    "papermill": {
     "duration": 1.702914,
     "end_time": "2021-12-18T19:30:11.984544",
     "exception": false,
     "start_time": "2021-12-18T19:30:10.281630",
     "status": "completed"
    },
    "tags": []
   },
   "outputs": [],
   "source": [
    "df = pd.read_sql(\"select * from EBAY_TOP_BERLIN where record_time in (select distinct record_time from EBAY_TOP_BERLIN order by record_time desc limit 2)\", sqlite3.connect(\"UsedObjects.db\"))"
   ]
  },
  {
   "cell_type": "code",
   "execution_count": 5,
   "id": "popular-active",
   "metadata": {
    "execution": {
     "iopub.execute_input": "2021-12-18T19:30:12.061353Z",
     "iopub.status.busy": "2021-12-18T19:30:12.048973Z",
     "iopub.status.idle": "2021-12-18T19:30:12.078957Z",
     "shell.execute_reply": "2021-12-18T19:30:12.080303Z"
    },
    "papermill": {
     "duration": 0.074404,
     "end_time": "2021-12-18T19:30:12.080877",
     "exception": false,
     "start_time": "2021-12-18T19:30:12.006473",
     "status": "completed"
    },
    "tags": []
   },
   "outputs": [],
   "source": [
    "df_pivot = df.pivot_table(index=\"PRODUCT\", columns = \"RECORD_TIME\", values = \"LISTING_COUNT\")"
   ]
  },
  {
   "cell_type": "code",
   "execution_count": 6,
   "id": "union-huntington",
   "metadata": {
    "execution": {
     "iopub.execute_input": "2021-12-18T19:30:12.140115Z",
     "iopub.status.busy": "2021-12-18T19:30:12.137770Z",
     "iopub.status.idle": "2021-12-18T19:30:12.145966Z",
     "shell.execute_reply": "2021-12-18T19:30:12.143797Z"
    },
    "papermill": {
     "duration": 0.045378,
     "end_time": "2021-12-18T19:30:12.146453",
     "exception": false,
     "start_time": "2021-12-18T19:30:12.101075",
     "status": "completed"
    },
    "tags": []
   },
   "outputs": [],
   "source": [
    "df_pivot.columns = [\"stamp_1\", \"stamp_2\"]\n",
    "df_pivot_diff = df_pivot.diff(axis=1)"
   ]
  },
  {
   "cell_type": "code",
   "execution_count": 7,
   "id": "fifth-motion",
   "metadata": {
    "execution": {
     "iopub.execute_input": "2021-12-18T19:30:12.206271Z",
     "iopub.status.busy": "2021-12-18T19:30:12.203681Z",
     "iopub.status.idle": "2021-12-18T19:30:14.208860Z",
     "shell.execute_reply": "2021-12-18T19:30:14.210332Z"
    },
    "papermill": {
     "duration": 2.04113,
     "end_time": "2021-12-18T19:30:14.210800",
     "exception": false,
     "start_time": "2021-12-18T19:30:12.169670",
     "status": "completed"
    },
    "tags": []
   },
   "outputs": [
    {
     "data": {
      "text/plain": [
       "<AxesSubplot:ylabel='PRODUCT'>"
      ]
     },
     "execution_count": 7,
     "metadata": {},
     "output_type": "execute_result"
    },
    {
     "data": {
      "image/png": "[encoded data removed]",
      "text/plain": [
       "<Figure size 432x288 with 1 Axes>"
      ]
     },
     "metadata": {
      "needs_background": "light"
     },
     "output_type": "display_data"
    }
   ],
   "source": [
    "df_pivot_diff.sort_values(\"stamp_2\", ascending = False)[\"stamp_2\"].head(10).plot.barh()"
   ]
  },
  {
   "cell_type": "code",
   "execution_count": null,
   "id": "extra-executive",
   "metadata": {
    "papermill": {
     "duration": 0.022157,
     "end_time": "2021-12-18T19:30:14.257217",
     "exception": false,
     "start_time": "2021-12-18T19:30:14.235060",
     "status": "completed"
    },
    "tags": []
   },
   "outputs": [],
   "source": []
  }
 ],
 "metadata": {
  "kernelspec": {
   "display_name": "Python 3",
   "language": "python",
   "name": "python3"
  },
  "language_info": {
   "codemirror_mode": {
    "name": "ipython",
    "version": 3
   },
   "file_extension": ".py",
   "mimetype": "text/x-python",
   "name": "python",
   "nbconvert_exporter": "python",
   "pygments_lexer": "ipython3",
   "version": "3.9.5"
  },
  "papermill": {
   "default_parameters": {},
   "duration": 9.650992,
   "end_time": "2021-12-18T19:30:14.898501",
   "environment_variables": {},
   "exception": null,
   "input_path": "eBay_Overview.ipynb",
   "output_path": "eBay_Overview.ipynb",
   "parameters": {},
   "start_time": "2021-12-18T19:30:05.247509",
   "version": "2.3.3"
  }
 },
 "nbformat": 4,
 "nbformat_minor": 5
}