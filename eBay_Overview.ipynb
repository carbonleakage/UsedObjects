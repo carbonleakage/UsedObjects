{
 "cells": [
  {
   "cell_type": "code",
   "execution_count": 1,
   "id": "reverse-picking",
   "metadata": {
    "execution": {
     "iopub.execute_input": "2021-09-18T03:30:06.605737Z",
     "iopub.status.busy": "2021-09-18T03:30:06.603838Z",
     "iopub.status.idle": "2021-09-18T03:30:07.406209Z",
     "shell.execute_reply": "2021-09-18T03:30:07.407608Z"
    },
    "papermill": {
     "duration": 0.853285,
     "end_time": "2021-09-18T03:30:07.408273",
     "exception": false,
     "start_time": "2021-09-18T03:30:06.554988",
     "status": "completed"
    },
    "tags": []
   },
   "outputs": [],
   "source": [
    "import pandas as pd\n",
    "import sqlite3"
   ]
  },
  {
   "cell_type": "code",
   "execution_count": 2,
   "id": "innovative-syndrome",
   "metadata": {
    "execution": {
     "iopub.execute_input": "2021-09-18T03:30:07.458887Z",
     "iopub.status.busy": "2021-09-18T03:30:07.456895Z",
     "iopub.status.idle": "2021-09-18T03:30:07.764336Z",
     "shell.execute_reply": "2021-09-18T03:30:07.765609Z"
    },
    "papermill": {
     "duration": 0.337276,
     "end_time": "2021-09-18T03:30:07.766033",
     "exception": false,
     "start_time": "2021-09-18T03:30:07.428757",
     "status": "completed"
    },
    "tags": []
   },
   "outputs": [],
   "source": [
    "timestamps = pd.read_sql(\"select distinct record_time from EBAY_TOP_BERLIN order by record_time desc limit 2\", sqlite3.connect(\"UsedObjects.db\"))"
   ]
  },
  {
   "cell_type": "code",
   "execution_count": 3,
   "id": "periodic-identification",
   "metadata": {
    "execution": {
     "iopub.execute_input": "2021-09-18T03:30:07.832441Z",
     "iopub.status.busy": "2021-09-18T03:30:07.830379Z",
     "iopub.status.idle": "2021-09-18T03:30:07.850465Z",
     "shell.execute_reply": "2021-09-18T03:30:07.851936Z"
    },
    "papermill": {
     "duration": 0.067029,
     "end_time": "2021-09-18T03:30:07.852390",
     "exception": false,
     "start_time": "2021-09-18T03:30:07.785361",
     "status": "completed"
    },
    "tags": []
   },
   "outputs": [
    {
     "data": {
      "text/html": [
       "<div>\n",
       "<style scoped>\n",
       "    .dataframe tbody tr th:only-of-type {\n",
       "        vertical-align: middle;\n",
       "    }\n",
       "\n",
       "    .dataframe tbody tr th {\n",
       "        vertical-align: top;\n",
       "    }\n",
       "\n",
       "    .dataframe thead th {\n",
       "        text-align: right;\n",
       "    }\n",
       "</style>\n",
       "<table border=\"1\" class=\"dataframe\">\n",
       "  <thead>\n",
       "    <tr style=\"text-align: right;\">\n",
       "      <th></th>\n",
       "      <th>RECORD_TIME</th>\n",
       "    </tr>\n",
       "  </thead>\n",
       "  <tbody>\n",
       "    <tr>\n",
       "      <th>0</th>\n",
       "      <td>2021-09-18 05:30</td>\n",
       "    </tr>\n",
       "    <tr>\n",
       "      <th>1</th>\n",
       "      <td>2021-09-18 05:00</td>\n",
       "    </tr>\n",
       "  </tbody>\n",
       "</table>\n",
       "</div>"
      ],
      "text/plain": [
       "        RECORD_TIME\n",
       "0  2021-09-18 05:30\n",
       "1  2021-09-18 05:00"
      ]
     },
     "execution_count": 3,
     "metadata": {},
     "output_type": "execute_result"
    }
   ],
   "source": [
    "timestamps"
   ]
  },
  {
   "cell_type": "code",
   "execution_count": 4,
   "id": "alternate-victory",
   "metadata": {
    "execution": {
     "iopub.execute_input": "2021-09-18T03:30:07.903925Z",
     "iopub.status.busy": "2021-09-18T03:30:07.902008Z",
     "iopub.status.idle": "2021-09-18T03:30:08.356828Z",
     "shell.execute_reply": "2021-09-18T03:30:08.358041Z"
    },
    "papermill": {
     "duration": 0.484652,
     "end_time": "2021-09-18T03:30:08.358440",
     "exception": false,
     "start_time": "2021-09-18T03:30:07.873788",
     "status": "completed"
    },
    "tags": []
   },
   "outputs": [],
   "source": [
    "df = pd.read_sql(\"select * from EBAY_TOP_BERLIN where record_time in (select distinct record_time from EBAY_TOP_BERLIN order by record_time desc limit 2)\", sqlite3.connect(\"UsedObjects.db\"))"
   ]
  },
  {
   "cell_type": "code",
   "execution_count": 5,
   "id": "popular-active",
   "metadata": {
    "execution": {
     "iopub.execute_input": "2021-09-18T03:30:08.437571Z",
     "iopub.status.busy": "2021-09-18T03:30:08.424991Z",
     "iopub.status.idle": "2021-09-18T03:30:08.453181Z",
     "shell.execute_reply": "2021-09-18T03:30:08.454442Z"
    },
    "papermill": {
     "duration": 0.07057,
     "end_time": "2021-09-18T03:30:08.454919",
     "exception": false,
     "start_time": "2021-09-18T03:30:08.384349",
     "status": "completed"
    },
    "tags": []
   },
   "outputs": [],
   "source": [
    "df_pivot = df.pivot_table(index=\"PRODUCT\", columns = \"RECORD_TIME\", values = \"LISTING_COUNT\")"
   ]
  },
  {
   "cell_type": "code",
   "execution_count": 6,
   "id": "union-huntington",
   "metadata": {
    "execution": {
     "iopub.execute_input": "2021-09-18T03:30:08.511249Z",
     "iopub.status.busy": "2021-09-18T03:30:08.509182Z",
     "iopub.status.idle": "2021-09-18T03:30:08.514481Z",
     "shell.execute_reply": "2021-09-18T03:30:08.515844Z"
    },
    "papermill": {
     "duration": 0.041021,
     "end_time": "2021-09-18T03:30:08.516270",
     "exception": false,
     "start_time": "2021-09-18T03:30:08.475249",
     "status": "completed"
    },
    "tags": []
   },
   "outputs": [],
   "source": [
    "df_pivot.columns = [\"stamp_1\", \"stamp_2\"]\n",
    "df_pivot_diff = df_pivot.diff(axis=1)"
   ]
  },
  {
   "cell_type": "code",
   "execution_count": 7,
   "id": "fifth-motion",
   "metadata": {
    "execution": {
     "iopub.execute_input": "2021-09-18T03:30:08.571075Z",
     "iopub.status.busy": "2021-09-18T03:30:08.568643Z",
     "iopub.status.idle": "2021-09-18T03:30:10.040694Z",
     "shell.execute_reply": "2021-09-18T03:30:10.042189Z"
    },
    "papermill": {
     "duration": 1.505022,
     "end_time": "2021-09-18T03:30:10.042661",
     "exception": false,
     "start_time": "2021-09-18T03:30:08.537639",
     "status": "completed"
    },
    "tags": []
   },
   "outputs": [
    {
     "data": {
      "text/plain": [
       "<AxesSubplot:ylabel='PRODUCT'>"
      ]
     },
     "execution_count": 7,
     "metadata": {},
     "output_type": "execute_result"
    },
    {
     "data": {
      "image/png": "[encoded data removed]",
      "text/plain": [
       "<Figure size 432x288 with 1 Axes>"
      ]
     },
     "metadata": {
      "needs_background": "light"
     },
     "output_type": "display_data"
    }
   ],
   "source": [
    "df_pivot_diff.sort_values(\"stamp_2\", ascending = False)[\"stamp_2\"].head(10).plot.barh()"
   ]
  },
  {
   "cell_type": "code",
   "execution_count": null,
   "id": "extra-executive",
   "metadata": {
    "papermill": {
     "duration": 0.02204,
     "end_time": "2021-09-18T03:30:10.089420",
     "exception": false,
     "start_time": "2021-09-18T03:30:10.067380",
     "status": "completed"
    },
    "tags": []
   },
   "outputs": [],
   "source": []
  }
 ],
 "metadata": {
  "kernelspec": {
   "display_name": "Python 3",
   "language": "python",
   "name": "python3"
  },
  "language_info": {
   "codemirror_mode": {
    "name": "ipython",
    "version": 3
   },
   "file_extension": ".py",
   "mimetype": "text/x-python",
   "name": "python",
   "nbconvert_exporter": "python",
   "pygments_lexer": "ipython3",
   "version": "3.9.5"
  },
  "papermill": {
   "default_parameters": {},
   "duration": 6.57466,
   "end_time": "2021-09-18T03:30:10.731315",
   "environment_variables": {},
   "exception": null,
   "input_path": "eBay_Overview.ipynb",
   "output_path": "eBay_Overview.ipynb",
   "parameters": {},
   "start_time": "2021-09-18T03:30:04.156655",
   "version": "2.3.3"
  }
 },
 "nbformat": 4,
 "nbformat_minor": 5
}