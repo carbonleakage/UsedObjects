{
 "cells": [
  {
   "cell_type": "code",
   "execution_count": 1,
   "id": "reverse-picking",
   "metadata": {
    "execution": {
     "iopub.execute_input": "2021-08-28T17:30:06.939137Z",
     "iopub.status.busy": "2021-08-28T17:30:06.937205Z",
     "iopub.status.idle": "2021-08-28T17:30:07.740277Z",
     "shell.execute_reply": "2021-08-28T17:30:07.738524Z"
    },
    "papermill": {
     "duration": 0.851737,
     "end_time": "2021-08-28T17:30:07.740726",
     "exception": false,
     "start_time": "2021-08-28T17:30:06.888989",
     "status": "completed"
    },
    "tags": []
   },
   "outputs": [],
   "source": [
    "import pandas as pd\n",
    "import sqlite3"
   ]
  },
  {
   "cell_type": "code",
   "execution_count": 2,
   "id": "innovative-syndrome",
   "metadata": {
    "execution": {
     "iopub.execute_input": "2021-08-28T17:30:07.791112Z",
     "iopub.status.busy": "2021-08-28T17:30:07.789091Z",
     "iopub.status.idle": "2021-08-28T17:30:07.938330Z",
     "shell.execute_reply": "2021-08-28T17:30:07.939528Z"
    },
    "papermill": {
     "duration": 0.179016,
     "end_time": "2021-08-28T17:30:07.939924",
     "exception": false,
     "start_time": "2021-08-28T17:30:07.760908",
     "status": "completed"
    },
    "tags": []
   },
   "outputs": [],
   "source": [
    "timestamps = pd.read_sql(\"select distinct record_time from EBAY_TOP_BERLIN order by record_time desc limit 2\", sqlite3.connect(\"UsedObjects.db\"))"
   ]
  },
  {
   "cell_type": "code",
   "execution_count": 3,
   "id": "periodic-identification",
   "metadata": {
    "execution": {
     "iopub.execute_input": "2021-08-28T17:30:08.007170Z",
     "iopub.status.busy": "2021-08-28T17:30:08.005140Z",
     "iopub.status.idle": "2021-08-28T17:30:08.025173Z",
     "shell.execute_reply": "2021-08-28T17:30:08.026601Z"
    },
    "papermill": {
     "duration": 0.065626,
     "end_time": "2021-08-28T17:30:08.027039",
     "exception": false,
     "start_time": "2021-08-28T17:30:07.961413",
     "status": "completed"
    },
    "tags": []
   },
   "outputs": [
    {
     "data": {
      "text/html": [
       "<div>\n",
       "<style scoped>\n",
       "    .dataframe tbody tr th:only-of-type {\n",
       "        vertical-align: middle;\n",
       "    }\n",
       "\n",
       "    .dataframe tbody tr th {\n",
       "        vertical-align: top;\n",
       "    }\n",
       "\n",
       "    .dataframe thead th {\n",
       "        text-align: right;\n",
       "    }\n",
       "</style>\n",
       "<table border=\"1\" class=\"dataframe\">\n",
       "  <thead>\n",
       "    <tr style=\"text-align: right;\">\n",
       "      <th></th>\n",
       "      <th>RECORD_TIME</th>\n",
       "    </tr>\n",
       "  </thead>\n",
       "  <tbody>\n",
       "    <tr>\n",
       "      <th>0</th>\n",
       "      <td>2021-08-28 19:30</td>\n",
       "    </tr>\n",
       "    <tr>\n",
       "      <th>1</th>\n",
       "      <td>2021-08-28 19:00</td>\n",
       "    </tr>\n",
       "  </tbody>\n",
       "</table>\n",
       "</div>"
      ],
      "text/plain": [
       "        RECORD_TIME\n",
       "0  2021-08-28 19:30\n",
       "1  2021-08-28 19:00"
      ]
     },
     "execution_count": 3,
     "metadata": {},
     "output_type": "execute_result"
    }
   ],
   "source": [
    "timestamps"
   ]
  },
  {
   "cell_type": "code",
   "execution_count": 4,
   "id": "alternate-victory",
   "metadata": {
    "execution": {
     "iopub.execute_input": "2021-08-28T17:30:08.078495Z",
     "iopub.status.busy": "2021-08-28T17:30:08.076450Z",
     "iopub.status.idle": "2021-08-28T17:30:08.304536Z",
     "shell.execute_reply": "2021-08-28T17:30:08.306228Z"
    },
    "papermill": {
     "duration": 0.259097,
     "end_time": "2021-08-28T17:30:08.306724",
     "exception": false,
     "start_time": "2021-08-28T17:30:08.047627",
     "status": "completed"
    },
    "tags": []
   },
   "outputs": [],
   "source": [
    "df = pd.read_sql(\"select * from EBAY_TOP_BERLIN where record_time in (select distinct record_time from EBAY_TOP_BERLIN order by record_time desc limit 2)\", sqlite3.connect(\"UsedObjects.db\"))"
   ]
  },
  {
   "cell_type": "code",
   "execution_count": 5,
   "id": "popular-active",
   "metadata": {
    "execution": {
     "iopub.execute_input": "2021-08-28T17:30:08.375829Z",
     "iopub.status.busy": "2021-08-28T17:30:08.363781Z",
     "iopub.status.idle": "2021-08-28T17:30:08.394407Z",
     "shell.execute_reply": "2021-08-28T17:30:08.392908Z"
    },
    "papermill": {
     "duration": 0.067519,
     "end_time": "2021-08-28T17:30:08.394781",
     "exception": false,
     "start_time": "2021-08-28T17:30:08.327262",
     "status": "completed"
    },
    "tags": []
   },
   "outputs": [],
   "source": [
    "df_pivot = df.pivot_table(index=\"PRODUCT\", columns = \"RECORD_TIME\", values = \"LISTING_COUNT\")"
   ]
  },
  {
   "cell_type": "code",
   "execution_count": 6,
   "id": "union-huntington",
   "metadata": {
    "execution": {
     "iopub.execute_input": "2021-08-28T17:30:08.460151Z",
     "iopub.status.busy": "2021-08-28T17:30:08.457869Z",
     "iopub.status.idle": "2021-08-28T17:30:08.463897Z",
     "shell.execute_reply": "2021-08-28T17:30:08.465264Z"
    },
    "papermill": {
     "duration": 0.044968,
     "end_time": "2021-08-28T17:30:08.465725",
     "exception": false,
     "start_time": "2021-08-28T17:30:08.420757",
     "status": "completed"
    },
    "tags": []
   },
   "outputs": [],
   "source": [
    "df_pivot.columns = [\"stamp_1\", \"stamp_2\"]\n",
    "df_pivot_diff = df_pivot.diff(axis=1)"
   ]
  },
  {
   "cell_type": "code",
   "execution_count": 7,
   "id": "fifth-motion",
   "metadata": {
    "execution": {
     "iopub.execute_input": "2021-08-28T17:30:08.519454Z",
     "iopub.status.busy": "2021-08-28T17:30:08.517192Z",
     "iopub.status.idle": "2021-08-28T17:30:10.019426Z",
     "shell.execute_reply": "2021-08-28T17:30:10.020872Z"
    },
    "papermill": {
     "duration": 1.535446,
     "end_time": "2021-08-28T17:30:10.021329",
     "exception": false,
     "start_time": "2021-08-28T17:30:08.485883",
     "status": "completed"
    },
    "tags": []
   },
   "outputs": [
    {
     "data": {
      "text/plain": [
       "<AxesSubplot:ylabel='PRODUCT'>"
      ]
     },
     "execution_count": 7,
     "metadata": {},
     "output_type": "execute_result"
    },
    {
     "data": {
      "image/png": "[encoded data removed]",
      "text/plain": [
       "<Figure size 432x288 with 1 Axes>"
      ]
     },
     "metadata": {
      "needs_background": "light"
     },
     "output_type": "display_data"
    }
   ],
   "source": [
    "df_pivot_diff.sort_values(\"stamp_2\", ascending = False)[\"stamp_2\"].head(10).plot.barh()"
   ]
  },
  {
   "cell_type": "code",
   "execution_count": null,
   "id": "extra-executive",
   "metadata": {
    "papermill": {
     "duration": 0.022255,
     "end_time": "2021-08-28T17:30:10.068171",
     "exception": false,
     "start_time": "2021-08-28T17:30:10.045916",
     "status": "completed"
    },
    "tags": []
   },
   "outputs": [],
   "source": []
  }
 ],
 "metadata": {
  "kernelspec": {
   "display_name": "Python 3",
   "language": "python",
   "name": "python3"
  },
  "language_info": {
   "codemirror_mode": {
    "name": "ipython",
    "version": 3
   },
   "file_extension": ".py",
   "mimetype": "text/x-python",
   "name": "python",
   "nbconvert_exporter": "python",
   "pygments_lexer": "ipython3",
   "version": "3.9.5"
  },
  "papermill": {
   "default_parameters": {},
   "duration": 6.819708,
   "end_time": "2021-08-28T17:30:11.309549",
   "environment_variables": {},
   "exception": null,
   "input_path": "eBay_Overview.ipynb",
   "output_path": "eBay_Overview.ipynb",
   "parameters": {},
   "start_time": "2021-08-28T17:30:04.489841",
   "version": "2.3.3"
  }
 },
 "nbformat": 4,
 "nbformat_minor": 5
}