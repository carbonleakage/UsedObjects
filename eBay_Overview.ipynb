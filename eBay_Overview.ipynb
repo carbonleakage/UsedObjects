{
 "cells": [
  {
   "cell_type": "code",
   "execution_count": 1,
   "id": "reverse-picking",
   "metadata": {
    "execution": {
     "iopub.execute_input": "2021-10-13T06:00:07.242338Z",
     "iopub.status.busy": "2021-10-13T06:00:07.240355Z",
     "iopub.status.idle": "2021-10-13T06:00:08.044959Z",
     "shell.execute_reply": "2021-10-13T06:00:08.043333Z"
    },
    "papermill": {
     "duration": 0.852977,
     "end_time": "2021-10-13T06:00:08.045379",
     "exception": false,
     "start_time": "2021-10-13T06:00:07.192402",
     "status": "completed"
    },
    "tags": []
   },
   "outputs": [],
   "source": [
    "import pandas as pd\n",
    "import sqlite3"
   ]
  },
  {
   "cell_type": "code",
   "execution_count": 2,
   "id": "innovative-syndrome",
   "metadata": {
    "execution": {
     "iopub.execute_input": "2021-10-13T06:00:08.095882Z",
     "iopub.status.busy": "2021-10-13T06:00:08.094033Z",
     "iopub.status.idle": "2021-10-13T06:00:08.617465Z",
     "shell.execute_reply": "2021-10-13T06:00:08.618801Z"
    },
    "papermill": {
     "duration": 0.552956,
     "end_time": "2021-10-13T06:00:08.619214",
     "exception": false,
     "start_time": "2021-10-13T06:00:08.066258",
     "status": "completed"
    },
    "tags": []
   },
   "outputs": [],
   "source": [
    "timestamps = pd.read_sql(\"select distinct record_time from EBAY_TOP_BERLIN order by record_time desc limit 2\", sqlite3.connect(\"UsedObjects.db\"))"
   ]
  },
  {
   "cell_type": "code",
   "execution_count": 3,
   "id": "periodic-identification",
   "metadata": {
    "execution": {
     "iopub.execute_input": "2021-10-13T06:00:08.683519Z",
     "iopub.status.busy": "2021-10-13T06:00:08.681510Z",
     "iopub.status.idle": "2021-10-13T06:00:08.701309Z",
     "shell.execute_reply": "2021-10-13T06:00:08.702526Z"
    },
    "papermill": {
     "duration": 0.06411,
     "end_time": "2021-10-13T06:00:08.702951",
     "exception": false,
     "start_time": "2021-10-13T06:00:08.638841",
     "status": "completed"
    },
    "tags": []
   },
   "outputs": [
    {
     "data": {
      "text/html": [
       "<div>\n",
       "<style scoped>\n",
       "    .dataframe tbody tr th:only-of-type {\n",
       "        vertical-align: middle;\n",
       "    }\n",
       "\n",
       "    .dataframe tbody tr th {\n",
       "        vertical-align: top;\n",
       "    }\n",
       "\n",
       "    .dataframe thead th {\n",
       "        text-align: right;\n",
       "    }\n",
       "</style>\n",
       "<table border=\"1\" class=\"dataframe\">\n",
       "  <thead>\n",
       "    <tr style=\"text-align: right;\">\n",
       "      <th></th>\n",
       "      <th>RECORD_TIME</th>\n",
       "    </tr>\n",
       "  </thead>\n",
       "  <tbody>\n",
       "    <tr>\n",
       "      <th>0</th>\n",
       "      <td>2021-10-13 08:00</td>\n",
       "    </tr>\n",
       "    <tr>\n",
       "      <th>1</th>\n",
       "      <td>2021-10-13 07:30</td>\n",
       "    </tr>\n",
       "  </tbody>\n",
       "</table>\n",
       "</div>"
      ],
      "text/plain": [
       "        RECORD_TIME\n",
       "0  2021-10-13 08:00\n",
       "1  2021-10-13 07:30"
      ]
     },
     "execution_count": 3,
     "metadata": {},
     "output_type": "execute_result"
    }
   ],
   "source": [
    "timestamps"
   ]
  },
  {
   "cell_type": "code",
   "execution_count": 4,
   "id": "alternate-victory",
   "metadata": {
    "execution": {
     "iopub.execute_input": "2021-10-13T06:00:08.770915Z",
     "iopub.status.busy": "2021-10-13T06:00:08.768767Z",
     "iopub.status.idle": "2021-10-13T06:00:09.552002Z",
     "shell.execute_reply": "2021-10-13T06:00:09.553344Z"
    },
    "papermill": {
     "duration": 0.81897,
     "end_time": "2021-10-13T06:00:09.553755",
     "exception": false,
     "start_time": "2021-10-13T06:00:08.734785",
     "status": "completed"
    },
    "tags": []
   },
   "outputs": [],
   "source": [
    "df = pd.read_sql(\"select * from EBAY_TOP_BERLIN where record_time in (select distinct record_time from EBAY_TOP_BERLIN order by record_time desc limit 2)\", sqlite3.connect(\"UsedObjects.db\"))"
   ]
  },
  {
   "cell_type": "code",
   "execution_count": 5,
   "id": "popular-active",
   "metadata": {
    "execution": {
     "iopub.execute_input": "2021-10-13T06:00:09.614856Z",
     "iopub.status.busy": "2021-10-13T06:00:09.612568Z",
     "iopub.status.idle": "2021-10-13T06:00:09.641816Z",
     "shell.execute_reply": "2021-10-13T06:00:09.643210Z"
    },
    "papermill": {
     "duration": 0.068716,
     "end_time": "2021-10-13T06:00:09.643644",
     "exception": false,
     "start_time": "2021-10-13T06:00:09.574928",
     "status": "completed"
    },
    "tags": []
   },
   "outputs": [],
   "source": [
    "df_pivot = df.pivot_table(index=\"PRODUCT\", columns = \"RECORD_TIME\", values = \"LISTING_COUNT\")"
   ]
  },
  {
   "cell_type": "code",
   "execution_count": 6,
   "id": "union-huntington",
   "metadata": {
    "execution": {
     "iopub.execute_input": "2021-10-13T06:00:09.700519Z",
     "iopub.status.busy": "2021-10-13T06:00:09.698260Z",
     "iopub.status.idle": "2021-10-13T06:00:09.704125Z",
     "shell.execute_reply": "2021-10-13T06:00:09.705558Z"
    },
    "papermill": {
     "duration": 0.042036,
     "end_time": "2021-10-13T06:00:09.705995",
     "exception": false,
     "start_time": "2021-10-13T06:00:09.663959",
     "status": "completed"
    },
    "tags": []
   },
   "outputs": [],
   "source": [
    "df_pivot.columns = [\"stamp_1\", \"stamp_2\"]\n",
    "df_pivot_diff = df_pivot.diff(axis=1)"
   ]
  },
  {
   "cell_type": "code",
   "execution_count": 7,
   "id": "fifth-motion",
   "metadata": {
    "execution": {
     "iopub.execute_input": "2021-10-13T06:00:09.762664Z",
     "iopub.status.busy": "2021-10-13T06:00:09.760203Z",
     "iopub.status.idle": "2021-10-13T06:00:11.259454Z",
     "shell.execute_reply": "2021-10-13T06:00:11.260797Z"
    },
    "papermill": {
     "duration": 1.533925,
     "end_time": "2021-10-13T06:00:11.261250",
     "exception": false,
     "start_time": "2021-10-13T06:00:09.727325",
     "status": "completed"
    },
    "tags": []
   },
   "outputs": [
    {
     "data": {
      "text/plain": [
       "<AxesSubplot:ylabel='PRODUCT'>"
      ]
     },
     "execution_count": 7,
     "metadata": {},
     "output_type": "execute_result"
    },
    {
     "data": {
      "image/png": "[encoded data removed]",
      "text/plain": [
       "<Figure size 432x288 with 1 Axes>"
      ]
     },
     "metadata": {
      "needs_background": "light"
     },
     "output_type": "display_data"
    }
   ],
   "source": [
    "df_pivot_diff.sort_values(\"stamp_2\", ascending = False)[\"stamp_2\"].head(10).plot.barh()"
   ]
  },
  {
   "cell_type": "code",
   "execution_count": null,
   "id": "extra-executive",
   "metadata": {
    "papermill": {
     "duration": 0.02234,
     "end_time": "2021-10-13T06:00:11.308475",
     "exception": false,
     "start_time": "2021-10-13T06:00:11.286135",
     "status": "completed"
    },
    "tags": []
   },
   "outputs": [],
   "source": []
  }
 ],
 "metadata": {
  "kernelspec": {
   "display_name": "Python 3",
   "language": "python",
   "name": "python3"
  },
  "language_info": {
   "codemirror_mode": {
    "name": "ipython",
    "version": 3
   },
   "file_extension": ".py",
   "mimetype": "text/x-python",
   "name": "python",
   "nbconvert_exporter": "python",
   "pygments_lexer": "ipython3",
   "version": "3.9.5"
  },
  "papermill": {
   "default_parameters": {},
   "duration": 7.820555,
   "end_time": "2021-10-13T06:00:12.614433",
   "environment_variables": {},
   "exception": null,
   "input_path": "eBay_Overview.ipynb",
   "output_path": "eBay_Overview.ipynb",
   "parameters": {},
   "start_time": "2021-10-13T06:00:04.793878",
   "version": "2.3.3"
  }
 },
 "nbformat": 4,
 "nbformat_minor": 5
}