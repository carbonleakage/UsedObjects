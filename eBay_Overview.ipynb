{
 "cells": [
  {
   "cell_type": "code",
   "execution_count": 1,
   "id": "reverse-picking",
   "metadata": {
    "execution": {
     "iopub.execute_input": "2021-10-17T01:30:06.618623Z",
     "iopub.status.busy": "2021-10-17T01:30:06.616607Z",
     "iopub.status.idle": "2021-10-17T01:30:07.426813Z",
     "shell.execute_reply": "2021-10-17T01:30:07.428136Z"
    },
    "papermill": {
     "duration": 0.861472,
     "end_time": "2021-10-17T01:30:07.428814",
     "exception": false,
     "start_time": "2021-10-17T01:30:06.567342",
     "status": "completed"
    },
    "tags": []
   },
   "outputs": [],
   "source": [
    "import pandas as pd\n",
    "import sqlite3"
   ]
  },
  {
   "cell_type": "code",
   "execution_count": 2,
   "id": "innovative-syndrome",
   "metadata": {
    "execution": {
     "iopub.execute_input": "2021-10-17T01:30:07.479967Z",
     "iopub.status.busy": "2021-10-17T01:30:07.478102Z",
     "iopub.status.idle": "2021-10-17T01:30:08.038526Z",
     "shell.execute_reply": "2021-10-17T01:30:08.039640Z"
    },
    "papermill": {
     "duration": 0.590049,
     "end_time": "2021-10-17T01:30:08.040048",
     "exception": false,
     "start_time": "2021-10-17T01:30:07.449999",
     "status": "completed"
    },
    "tags": []
   },
   "outputs": [],
   "source": [
    "timestamps = pd.read_sql(\"select distinct record_time from EBAY_TOP_BERLIN order by record_time desc limit 2\", sqlite3.connect(\"UsedObjects.db\"))"
   ]
  },
  {
   "cell_type": "code",
   "execution_count": 3,
   "id": "periodic-identification",
   "metadata": {
    "execution": {
     "iopub.execute_input": "2021-10-17T01:30:08.119732Z",
     "iopub.status.busy": "2021-10-17T01:30:08.117694Z",
     "iopub.status.idle": "2021-10-17T01:30:08.137951Z",
     "shell.execute_reply": "2021-10-17T01:30:08.139088Z"
    },
    "papermill": {
     "duration": 0.069564,
     "end_time": "2021-10-17T01:30:08.139498",
     "exception": false,
     "start_time": "2021-10-17T01:30:08.069934",
     "status": "completed"
    },
    "tags": []
   },
   "outputs": [
    {
     "data": {
      "text/html": [
       "<div>\n",
       "<style scoped>\n",
       "    .dataframe tbody tr th:only-of-type {\n",
       "        vertical-align: middle;\n",
       "    }\n",
       "\n",
       "    .dataframe tbody tr th {\n",
       "        vertical-align: top;\n",
       "    }\n",
       "\n",
       "    .dataframe thead th {\n",
       "        text-align: right;\n",
       "    }\n",
       "</style>\n",
       "<table border=\"1\" class=\"dataframe\">\n",
       "  <thead>\n",
       "    <tr style=\"text-align: right;\">\n",
       "      <th></th>\n",
       "      <th>RECORD_TIME</th>\n",
       "    </tr>\n",
       "  </thead>\n",
       "  <tbody>\n",
       "    <tr>\n",
       "      <th>0</th>\n",
       "      <td>2021-10-17 03:30</td>\n",
       "    </tr>\n",
       "    <tr>\n",
       "      <th>1</th>\n",
       "      <td>2021-10-17 03:00</td>\n",
       "    </tr>\n",
       "  </tbody>\n",
       "</table>\n",
       "</div>"
      ],
      "text/plain": [
       "        RECORD_TIME\n",
       "0  2021-10-17 03:30\n",
       "1  2021-10-17 03:00"
      ]
     },
     "execution_count": 3,
     "metadata": {},
     "output_type": "execute_result"
    }
   ],
   "source": [
    "timestamps"
   ]
  },
  {
   "cell_type": "code",
   "execution_count": 4,
   "id": "alternate-victory",
   "metadata": {
    "execution": {
     "iopub.execute_input": "2021-10-17T01:30:08.193497Z",
     "iopub.status.busy": "2021-10-17T01:30:08.191146Z",
     "iopub.status.idle": "2021-10-17T01:30:09.007474Z",
     "shell.execute_reply": "2021-10-17T01:30:09.008659Z"
    },
    "papermill": {
     "duration": 0.846901,
     "end_time": "2021-10-17T01:30:09.009163",
     "exception": false,
     "start_time": "2021-10-17T01:30:08.162262",
     "status": "completed"
    },
    "tags": []
   },
   "outputs": [],
   "source": [
    "df = pd.read_sql(\"select * from EBAY_TOP_BERLIN where record_time in (select distinct record_time from EBAY_TOP_BERLIN order by record_time desc limit 2)\", sqlite3.connect(\"UsedObjects.db\"))"
   ]
  },
  {
   "cell_type": "code",
   "execution_count": 5,
   "id": "popular-active",
   "metadata": {
    "execution": {
     "iopub.execute_input": "2021-10-17T01:30:09.080899Z",
     "iopub.status.busy": "2021-10-17T01:30:09.068627Z",
     "iopub.status.idle": "2021-10-17T01:30:09.098645Z",
     "shell.execute_reply": "2021-10-17T01:30:09.100005Z"
    },
    "papermill": {
     "duration": 0.070435,
     "end_time": "2021-10-17T01:30:09.100440",
     "exception": false,
     "start_time": "2021-10-17T01:30:09.030005",
     "status": "completed"
    },
    "tags": []
   },
   "outputs": [],
   "source": [
    "df_pivot = df.pivot_table(index=\"PRODUCT\", columns = \"RECORD_TIME\", values = \"LISTING_COUNT\")"
   ]
  },
  {
   "cell_type": "code",
   "execution_count": 6,
   "id": "union-huntington",
   "metadata": {
    "execution": {
     "iopub.execute_input": "2021-10-17T01:30:09.157049Z",
     "iopub.status.busy": "2021-10-17T01:30:09.154955Z",
     "iopub.status.idle": "2021-10-17T01:30:09.160394Z",
     "shell.execute_reply": "2021-10-17T01:30:09.161665Z"
    },
    "papermill": {
     "duration": 0.041252,
     "end_time": "2021-10-17T01:30:09.162099",
     "exception": false,
     "start_time": "2021-10-17T01:30:09.120847",
     "status": "completed"
    },
    "tags": []
   },
   "outputs": [],
   "source": [
    "df_pivot.columns = [\"stamp_1\", \"stamp_2\"]\n",
    "df_pivot_diff = df_pivot.diff(axis=1)"
   ]
  },
  {
   "cell_type": "code",
   "execution_count": 7,
   "id": "fifth-motion",
   "metadata": {
    "execution": {
     "iopub.execute_input": "2021-10-17T01:30:09.220203Z",
     "iopub.status.busy": "2021-10-17T01:30:09.217578Z",
     "iopub.status.idle": "2021-10-17T01:30:10.711607Z",
     "shell.execute_reply": "2021-10-17T01:30:10.713144Z"
    },
    "papermill": {
     "duration": 1.528278,
     "end_time": "2021-10-17T01:30:10.713614",
     "exception": false,
     "start_time": "2021-10-17T01:30:09.185336",
     "status": "completed"
    },
    "tags": []
   },
   "outputs": [
    {
     "data": {
      "text/plain": [
       "<AxesSubplot:ylabel='PRODUCT'>"
      ]
     },
     "execution_count": 7,
     "metadata": {},
     "output_type": "execute_result"
    },
    {
     "data": {
      "image/png": "[encoded data removed]",
      "text/plain": [
       "<Figure size 432x288 with 1 Axes>"
      ]
     },
     "metadata": {
      "needs_background": "light"
     },
     "output_type": "display_data"
    }
   ],
   "source": [
    "df_pivot_diff.sort_values(\"stamp_2\", ascending = False)[\"stamp_2\"].head(10).plot.barh()"
   ]
  },
  {
   "cell_type": "code",
   "execution_count": null,
   "id": "extra-executive",
   "metadata": {
    "papermill": {
     "duration": 0.022297,
     "end_time": "2021-10-17T01:30:10.761994",
     "exception": false,
     "start_time": "2021-10-17T01:30:10.739697",
     "status": "completed"
    },
    "tags": []
   },
   "outputs": [],
   "source": []
  }
 ],
 "metadata": {
  "kernelspec": {
   "display_name": "Python 3",
   "language": "python",
   "name": "python3"
  },
  "language_info": {
   "codemirror_mode": {
    "name": "ipython",
    "version": 3
   },
   "file_extension": ".py",
   "mimetype": "text/x-python",
   "name": "python",
   "nbconvert_exporter": "python",
   "pygments_lexer": "ipython3",
   "version": "3.9.5"
  },
  "papermill": {
   "default_parameters": {},
   "duration": 7.8221,
   "end_time": "2021-10-17T01:30:11.974851",
   "environment_variables": {},
   "exception": null,
   "input_path": "eBay_Overview.ipynb",
   "output_path": "eBay_Overview.ipynb",
   "parameters": {},
   "start_time": "2021-10-17T01:30:04.152751",
   "version": "2.3.3"
  }
 },
 "nbformat": 4,
 "nbformat_minor": 5
}