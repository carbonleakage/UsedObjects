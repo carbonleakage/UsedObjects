{
 "cells": [
  {
   "cell_type": "code",
   "execution_count": 1,
   "id": "reverse-picking",
   "metadata": {
    "execution": {
     "iopub.execute_input": "2021-11-24T13:00:07.982376Z",
     "iopub.status.busy": "2021-11-24T13:00:07.980390Z",
     "iopub.status.idle": "2021-11-24T13:00:08.947024Z",
     "shell.execute_reply": "2021-11-24T13:00:08.948538Z"
    },
    "papermill": {
     "duration": 1.014428,
     "end_time": "2021-11-24T13:00:08.949369",
     "exception": false,
     "start_time": "2021-11-24T13:00:07.934941",
     "status": "completed"
    },
    "tags": []
   },
   "outputs": [],
   "source": [
    "import pandas as pd\n",
    "import sqlite3"
   ]
  },
  {
   "cell_type": "code",
   "execution_count": 2,
   "id": "innovative-syndrome",
   "metadata": {
    "execution": {
     "iopub.execute_input": "2021-11-24T13:00:09.012438Z",
     "iopub.status.busy": "2021-11-24T13:00:09.010148Z",
     "iopub.status.idle": "2021-11-24T13:00:09.908595Z",
     "shell.execute_reply": "2021-11-24T13:00:09.910179Z"
    },
    "papermill": {
     "duration": 0.932856,
     "end_time": "2021-11-24T13:00:09.910660",
     "exception": false,
     "start_time": "2021-11-24T13:00:08.977804",
     "status": "completed"
    },
    "tags": []
   },
   "outputs": [],
   "source": [
    "timestamps = pd.read_sql(\"select distinct record_time from EBAY_TOP_BERLIN order by record_time desc limit 2\", sqlite3.connect(\"UsedObjects.db\"))"
   ]
  },
  {
   "cell_type": "code",
   "execution_count": 3,
   "id": "periodic-identification",
   "metadata": {
    "execution": {
     "iopub.execute_input": "2021-11-24T13:00:09.978809Z",
     "iopub.status.busy": "2021-11-24T13:00:09.973164Z",
     "iopub.status.idle": "2021-11-24T13:00:10.000012Z",
     "shell.execute_reply": "2021-11-24T13:00:10.001472Z"
    },
    "papermill": {
     "duration": 0.071283,
     "end_time": "2021-11-24T13:00:10.001946",
     "exception": false,
     "start_time": "2021-11-24T13:00:09.930663",
     "status": "completed"
    },
    "tags": []
   },
   "outputs": [
    {
     "data": {
      "text/html": [
       "<div>\n",
       "<style scoped>\n",
       "    .dataframe tbody tr th:only-of-type {\n",
       "        vertical-align: middle;\n",
       "    }\n",
       "\n",
       "    .dataframe tbody tr th {\n",
       "        vertical-align: top;\n",
       "    }\n",
       "\n",
       "    .dataframe thead th {\n",
       "        text-align: right;\n",
       "    }\n",
       "</style>\n",
       "<table border=\"1\" class=\"dataframe\">\n",
       "  <thead>\n",
       "    <tr style=\"text-align: right;\">\n",
       "      <th></th>\n",
       "      <th>RECORD_TIME</th>\n",
       "    </tr>\n",
       "  </thead>\n",
       "  <tbody>\n",
       "    <tr>\n",
       "      <th>0</th>\n",
       "      <td>2021-11-24 14:00</td>\n",
       "    </tr>\n",
       "    <tr>\n",
       "      <th>1</th>\n",
       "      <td>2021-11-24 13:30</td>\n",
       "    </tr>\n",
       "  </tbody>\n",
       "</table>\n",
       "</div>"
      ],
      "text/plain": [
       "        RECORD_TIME\n",
       "0  2021-11-24 14:00\n",
       "1  2021-11-24 13:30"
      ]
     },
     "execution_count": 3,
     "metadata": {},
     "output_type": "execute_result"
    }
   ],
   "source": [
    "timestamps"
   ]
  },
  {
   "cell_type": "code",
   "execution_count": 4,
   "id": "alternate-victory",
   "metadata": {
    "execution": {
     "iopub.execute_input": "2021-11-24T13:00:10.055845Z",
     "iopub.status.busy": "2021-11-24T13:00:10.053772Z",
     "iopub.status.idle": "2021-11-24T13:00:11.358427Z",
     "shell.execute_reply": "2021-11-24T13:00:11.359925Z"
    },
    "papermill": {
     "duration": 1.337942,
     "end_time": "2021-11-24T13:00:11.360424",
     "exception": false,
     "start_time": "2021-11-24T13:00:10.022482",
     "status": "completed"
    },
    "tags": []
   },
   "outputs": [],
   "source": [
    "df = pd.read_sql(\"select * from EBAY_TOP_BERLIN where record_time in (select distinct record_time from EBAY_TOP_BERLIN order by record_time desc limit 2)\", sqlite3.connect(\"UsedObjects.db\"))"
   ]
  },
  {
   "cell_type": "code",
   "execution_count": 5,
   "id": "popular-active",
   "metadata": {
    "execution": {
     "iopub.execute_input": "2021-11-24T13:00:11.441706Z",
     "iopub.status.busy": "2021-11-24T13:00:11.428570Z",
     "iopub.status.idle": "2021-11-24T13:00:11.459231Z",
     "shell.execute_reply": "2021-11-24T13:00:11.460597Z"
    },
    "papermill": {
     "duration": 0.078249,
     "end_time": "2021-11-24T13:00:11.461126",
     "exception": false,
     "start_time": "2021-11-24T13:00:11.382877",
     "status": "completed"
    },
    "tags": []
   },
   "outputs": [],
   "source": [
    "df_pivot = df.pivot_table(index=\"PRODUCT\", columns = \"RECORD_TIME\", values = \"LISTING_COUNT\")"
   ]
  },
  {
   "cell_type": "code",
   "execution_count": 6,
   "id": "union-huntington",
   "metadata": {
    "execution": {
     "iopub.execute_input": "2021-11-24T13:00:11.519389Z",
     "iopub.status.busy": "2021-11-24T13:00:11.517204Z",
     "iopub.status.idle": "2021-11-24T13:00:11.522578Z",
     "shell.execute_reply": "2021-11-24T13:00:11.523992Z"
    },
    "papermill": {
     "duration": 0.042796,
     "end_time": "2021-11-24T13:00:11.524447",
     "exception": false,
     "start_time": "2021-11-24T13:00:11.481651",
     "status": "completed"
    },
    "tags": []
   },
   "outputs": [],
   "source": [
    "df_pivot.columns = [\"stamp_1\", \"stamp_2\"]\n",
    "df_pivot_diff = df_pivot.diff(axis=1)"
   ]
  },
  {
   "cell_type": "code",
   "execution_count": 7,
   "id": "fifth-motion",
   "metadata": {
    "execution": {
     "iopub.execute_input": "2021-11-24T13:00:11.595818Z",
     "iopub.status.busy": "2021-11-24T13:00:11.591588Z",
     "iopub.status.idle": "2021-11-24T13:00:13.354592Z",
     "shell.execute_reply": "2021-11-24T13:00:13.355870Z"
    },
    "papermill": {
     "duration": 1.809997,
     "end_time": "2021-11-24T13:00:13.356286",
     "exception": false,
     "start_time": "2021-11-24T13:00:11.546289",
     "status": "completed"
    },
    "tags": []
   },
   "outputs": [
    {
     "data": {
      "text/plain": [
       "<AxesSubplot:ylabel='PRODUCT'>"
      ]
     },
     "execution_count": 7,
     "metadata": {},
     "output_type": "execute_result"
    },
    {
     "data": {
      "image/png": "[encoded data removed]",
      "text/plain": [
       "<Figure size 432x288 with 1 Axes>"
      ]
     },
     "metadata": {
      "needs_background": "light"
     },
     "output_type": "display_data"
    }
   ],
   "source": [
    "df_pivot_diff.sort_values(\"stamp_2\", ascending = False)[\"stamp_2\"].head(10).plot.barh()"
   ]
  },
  {
   "cell_type": "code",
   "execution_count": null,
   "id": "extra-executive",
   "metadata": {
    "papermill": {
     "duration": 0.022276,
     "end_time": "2021-11-24T13:00:13.404974",
     "exception": false,
     "start_time": "2021-11-24T13:00:13.382698",
     "status": "completed"
    },
    "tags": []
   },
   "outputs": [],
   "source": []
  }
 ],
 "metadata": {
  "kernelspec": {
   "display_name": "Python 3",
   "language": "python",
   "name": "python3"
  },
  "language_info": {
   "codemirror_mode": {
    "name": "ipython",
    "version": 3
   },
   "file_extension": ".py",
   "mimetype": "text/x-python",
   "name": "python",
   "nbconvert_exporter": "python",
   "pygments_lexer": "ipython3",
   "version": "3.9.5"
  },
  "papermill": {
   "default_parameters": {},
   "duration": 8.946262,
   "end_time": "2021-11-24T13:00:14.049901",
   "environment_variables": {},
   "exception": null,
   "input_path": "eBay_Overview.ipynb",
   "output_path": "eBay_Overview.ipynb",
   "parameters": {},
   "start_time": "2021-11-24T13:00:05.103639",
   "version": "2.3.3"
  }
 },
 "nbformat": 4,
 "nbformat_minor": 5
}