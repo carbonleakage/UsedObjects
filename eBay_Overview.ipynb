{
 "cells": [
  {
   "cell_type": "code",
   "execution_count": 1,
   "id": "reverse-picking",
   "metadata": {
    "execution": {
     "iopub.execute_input": "2021-08-23T16:00:07.180487Z",
     "iopub.status.busy": "2021-08-23T16:00:07.178570Z",
     "iopub.status.idle": "2021-08-23T16:00:07.987217Z",
     "shell.execute_reply": "2021-08-23T16:00:07.988449Z"
    },
    "papermill": {
     "duration": 0.859236,
     "end_time": "2021-08-23T16:00:07.989078",
     "exception": false,
     "start_time": "2021-08-23T16:00:07.129842",
     "status": "completed"
    },
    "tags": []
   },
   "outputs": [],
   "source": [
    "import pandas as pd\n",
    "import sqlite3"
   ]
  },
  {
   "cell_type": "code",
   "execution_count": 2,
   "id": "innovative-syndrome",
   "metadata": {
    "execution": {
     "iopub.execute_input": "2021-08-23T16:00:08.042021Z",
     "iopub.status.busy": "2021-08-23T16:00:08.039691Z",
     "iopub.status.idle": "2021-08-23T16:00:08.154143Z",
     "shell.execute_reply": "2021-08-23T16:00:08.155368Z"
    },
    "papermill": {
     "duration": 0.143981,
     "end_time": "2021-08-23T16:00:08.155767",
     "exception": false,
     "start_time": "2021-08-23T16:00:08.011786",
     "status": "completed"
    },
    "tags": []
   },
   "outputs": [],
   "source": [
    "timestamps = pd.read_sql(\"select distinct record_time from EBAY_TOP_BERLIN order by record_time desc limit 2\", sqlite3.connect(\"UsedObjects.db\"))"
   ]
  },
  {
   "cell_type": "code",
   "execution_count": 3,
   "id": "periodic-identification",
   "metadata": {
    "execution": {
     "iopub.execute_input": "2021-08-23T16:00:08.222761Z",
     "iopub.status.busy": "2021-08-23T16:00:08.220653Z",
     "iopub.status.idle": "2021-08-23T16:00:08.243071Z",
     "shell.execute_reply": "2021-08-23T16:00:08.244351Z"
    },
    "papermill": {
     "duration": 0.066822,
     "end_time": "2021-08-23T16:00:08.244803",
     "exception": false,
     "start_time": "2021-08-23T16:00:08.177981",
     "status": "completed"
    },
    "tags": []
   },
   "outputs": [
    {
     "data": {
      "text/html": [
       "<div>\n",
       "<style scoped>\n",
       "    .dataframe tbody tr th:only-of-type {\n",
       "        vertical-align: middle;\n",
       "    }\n",
       "\n",
       "    .dataframe tbody tr th {\n",
       "        vertical-align: top;\n",
       "    }\n",
       "\n",
       "    .dataframe thead th {\n",
       "        text-align: right;\n",
       "    }\n",
       "</style>\n",
       "<table border=\"1\" class=\"dataframe\">\n",
       "  <thead>\n",
       "    <tr style=\"text-align: right;\">\n",
       "      <th></th>\n",
       "      <th>RECORD_TIME</th>\n",
       "    </tr>\n",
       "  </thead>\n",
       "  <tbody>\n",
       "    <tr>\n",
       "      <th>0</th>\n",
       "      <td>2021-08-23 18:00</td>\n",
       "    </tr>\n",
       "    <tr>\n",
       "      <th>1</th>\n",
       "      <td>2021-08-23 17:30</td>\n",
       "    </tr>\n",
       "  </tbody>\n",
       "</table>\n",
       "</div>"
      ],
      "text/plain": [
       "        RECORD_TIME\n",
       "0  2021-08-23 18:00\n",
       "1  2021-08-23 17:30"
      ]
     },
     "execution_count": 3,
     "metadata": {},
     "output_type": "execute_result"
    }
   ],
   "source": [
    "timestamps"
   ]
  },
  {
   "cell_type": "code",
   "execution_count": 4,
   "id": "alternate-victory",
   "metadata": {
    "execution": {
     "iopub.execute_input": "2021-08-23T16:00:08.296990Z",
     "iopub.status.busy": "2021-08-23T16:00:08.295165Z",
     "iopub.status.idle": "2021-08-23T16:00:08.464721Z",
     "shell.execute_reply": "2021-08-23T16:00:08.466414Z"
    },
    "papermill": {
     "duration": 0.199771,
     "end_time": "2021-08-23T16:00:08.466861",
     "exception": false,
     "start_time": "2021-08-23T16:00:08.267090",
     "status": "completed"
    },
    "tags": []
   },
   "outputs": [],
   "source": [
    "df = pd.read_sql(\"select * from EBAY_TOP_BERLIN where record_time in (select distinct record_time from EBAY_TOP_BERLIN order by record_time desc limit 2)\", sqlite3.connect(\"UsedObjects.db\"))"
   ]
  },
  {
   "cell_type": "code",
   "execution_count": 5,
   "id": "popular-active",
   "metadata": {
    "execution": {
     "iopub.execute_input": "2021-08-23T16:00:08.537801Z",
     "iopub.status.busy": "2021-08-23T16:00:08.525852Z",
     "iopub.status.idle": "2021-08-23T16:00:08.553476Z",
     "shell.execute_reply": "2021-08-23T16:00:08.554728Z"
    },
    "papermill": {
     "duration": 0.067537,
     "end_time": "2021-08-23T16:00:08.555131",
     "exception": false,
     "start_time": "2021-08-23T16:00:08.487594",
     "status": "completed"
    },
    "tags": []
   },
   "outputs": [],
   "source": [
    "df_pivot = df.pivot_table(index=\"PRODUCT\", columns = \"RECORD_TIME\", values = \"LISTING_COUNT\")"
   ]
  },
  {
   "cell_type": "code",
   "execution_count": 6,
   "id": "union-huntington",
   "metadata": {
    "execution": {
     "iopub.execute_input": "2021-08-23T16:00:08.617289Z",
     "iopub.status.busy": "2021-08-23T16:00:08.614766Z",
     "iopub.status.idle": "2021-08-23T16:00:08.620331Z",
     "shell.execute_reply": "2021-08-23T16:00:08.621605Z"
    },
    "papermill": {
     "duration": 0.045048,
     "end_time": "2021-08-23T16:00:08.622098",
     "exception": false,
     "start_time": "2021-08-23T16:00:08.577050",
     "status": "completed"
    },
    "tags": []
   },
   "outputs": [],
   "source": [
    "df_pivot.columns = [\"stamp_1\", \"stamp_2\"]\n",
    "df_pivot_diff = df_pivot.diff(axis=1)"
   ]
  },
  {
   "cell_type": "code",
   "execution_count": 7,
   "id": "fifth-motion",
   "metadata": {
    "execution": {
     "iopub.execute_input": "2021-08-23T16:00:08.675455Z",
     "iopub.status.busy": "2021-08-23T16:00:08.672981Z",
     "iopub.status.idle": "2021-08-23T16:00:10.187675Z",
     "shell.execute_reply": "2021-08-23T16:00:10.188959Z"
    },
    "papermill": {
     "duration": 1.547044,
     "end_time": "2021-08-23T16:00:10.189378",
     "exception": false,
     "start_time": "2021-08-23T16:00:08.642334",
     "status": "completed"
    },
    "tags": []
   },
   "outputs": [
    {
     "data": {
      "text/plain": [
       "<AxesSubplot:ylabel='PRODUCT'>"
      ]
     },
     "execution_count": 7,
     "metadata": {},
     "output_type": "execute_result"
    },
    {
     "data": {
      "image/png": "[encoded data removed]",
      "text/plain": [
       "<Figure size 432x288 with 1 Axes>"
      ]
     },
     "metadata": {
      "needs_background": "light"
     },
     "output_type": "display_data"
    }
   ],
   "source": [
    "df_pivot_diff.sort_values(\"stamp_2\", ascending = False)[\"stamp_2\"].head(10).plot.barh()"
   ]
  },
  {
   "cell_type": "code",
   "execution_count": null,
   "id": "extra-executive",
   "metadata": {
    "papermill": {
     "duration": 0.021737,
     "end_time": "2021-08-23T16:00:10.235260",
     "exception": false,
     "start_time": "2021-08-23T16:00:10.213523",
     "status": "completed"
    },
    "tags": []
   },
   "outputs": [],
   "source": []
  }
 ],
 "metadata": {
  "kernelspec": {
   "display_name": "Python 3",
   "language": "python",
   "name": "python3"
  },
  "language_info": {
   "codemirror_mode": {
    "name": "ipython",
    "version": 3
   },
   "file_extension": ".py",
   "mimetype": "text/x-python",
   "name": "python",
   "nbconvert_exporter": "python",
   "pygments_lexer": "ipython3",
   "version": "3.9.5"
  },
  "papermill": {
   "default_parameters": {},
   "duration": 6.82173,
   "end_time": "2021-08-23T16:00:11.536337",
   "environment_variables": {},
   "exception": null,
   "input_path": "eBay_Overview.ipynb",
   "output_path": "eBay_Overview.ipynb",
   "parameters": {},
   "start_time": "2021-08-23T16:00:04.714607",
   "version": "2.3.3"
  }
 },
 "nbformat": 4,
 "nbformat_minor": 5
}