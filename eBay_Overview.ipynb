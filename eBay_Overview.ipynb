{
 "cells": [
  {
   "cell_type": "code",
   "execution_count": 1,
   "id": "reverse-picking",
   "metadata": {
    "execution": {
     "iopub.execute_input": "2021-09-24T06:30:07.193623Z",
     "iopub.status.busy": "2021-09-24T06:30:07.191689Z",
     "iopub.status.idle": "2021-09-24T06:30:07.996345Z",
     "shell.execute_reply": "2021-09-24T06:30:07.994622Z"
    },
    "papermill": {
     "duration": 0.853609,
     "end_time": "2021-09-24T06:30:07.996768",
     "exception": false,
     "start_time": "2021-09-24T06:30:07.143159",
     "status": "completed"
    },
    "tags": []
   },
   "outputs": [],
   "source": [
    "import pandas as pd\n",
    "import sqlite3"
   ]
  },
  {
   "cell_type": "code",
   "execution_count": 2,
   "id": "innovative-syndrome",
   "metadata": {
    "execution": {
     "iopub.execute_input": "2021-09-24T06:30:08.046981Z",
     "iopub.status.busy": "2021-09-24T06:30:08.044903Z",
     "iopub.status.idle": "2021-09-24T06:30:08.407033Z",
     "shell.execute_reply": "2021-09-24T06:30:08.408256Z"
    },
    "papermill": {
     "duration": 0.391555,
     "end_time": "2021-09-24T06:30:08.408654",
     "exception": false,
     "start_time": "2021-09-24T06:30:08.017099",
     "status": "completed"
    },
    "tags": []
   },
   "outputs": [],
   "source": [
    "timestamps = pd.read_sql(\"select distinct record_time from EBAY_TOP_BERLIN order by record_time desc limit 2\", sqlite3.connect(\"UsedObjects.db\"))"
   ]
  },
  {
   "cell_type": "code",
   "execution_count": 3,
   "id": "periodic-identification",
   "metadata": {
    "execution": {
     "iopub.execute_input": "2021-09-24T06:30:08.475242Z",
     "iopub.status.busy": "2021-09-24T06:30:08.473151Z",
     "iopub.status.idle": "2021-09-24T06:30:08.492720Z",
     "shell.execute_reply": "2021-09-24T06:30:08.493843Z"
    },
    "papermill": {
     "duration": 0.064646,
     "end_time": "2021-09-24T06:30:08.494255",
     "exception": false,
     "start_time": "2021-09-24T06:30:08.429609",
     "status": "completed"
    },
    "tags": []
   },
   "outputs": [
    {
     "data": {
      "text/html": [
       "<div>\n",
       "<style scoped>\n",
       "    .dataframe tbody tr th:only-of-type {\n",
       "        vertical-align: middle;\n",
       "    }\n",
       "\n",
       "    .dataframe tbody tr th {\n",
       "        vertical-align: top;\n",
       "    }\n",
       "\n",
       "    .dataframe thead th {\n",
       "        text-align: right;\n",
       "    }\n",
       "</style>\n",
       "<table border=\"1\" class=\"dataframe\">\n",
       "  <thead>\n",
       "    <tr style=\"text-align: right;\">\n",
       "      <th></th>\n",
       "      <th>RECORD_TIME</th>\n",
       "    </tr>\n",
       "  </thead>\n",
       "  <tbody>\n",
       "    <tr>\n",
       "      <th>0</th>\n",
       "      <td>2021-09-24 08:30</td>\n",
       "    </tr>\n",
       "    <tr>\n",
       "      <th>1</th>\n",
       "      <td>2021-09-24 08:00</td>\n",
       "    </tr>\n",
       "  </tbody>\n",
       "</table>\n",
       "</div>"
      ],
      "text/plain": [
       "        RECORD_TIME\n",
       "0  2021-09-24 08:30\n",
       "1  2021-09-24 08:00"
      ]
     },
     "execution_count": 3,
     "metadata": {},
     "output_type": "execute_result"
    }
   ],
   "source": [
    "timestamps"
   ]
  },
  {
   "cell_type": "code",
   "execution_count": 4,
   "id": "alternate-victory",
   "metadata": {
    "execution": {
     "iopub.execute_input": "2021-09-24T06:30:08.548646Z",
     "iopub.status.busy": "2021-09-24T06:30:08.546416Z",
     "iopub.status.idle": "2021-09-24T06:30:09.081071Z",
     "shell.execute_reply": "2021-09-24T06:30:09.082282Z"
    },
    "papermill": {
     "duration": 0.564997,
     "end_time": "2021-09-24T06:30:09.082680",
     "exception": false,
     "start_time": "2021-09-24T06:30:08.517683",
     "status": "completed"
    },
    "tags": []
   },
   "outputs": [],
   "source": [
    "df = pd.read_sql(\"select * from EBAY_TOP_BERLIN where record_time in (select distinct record_time from EBAY_TOP_BERLIN order by record_time desc limit 2)\", sqlite3.connect(\"UsedObjects.db\"))"
   ]
  },
  {
   "cell_type": "code",
   "execution_count": 5,
   "id": "popular-active",
   "metadata": {
    "execution": {
     "iopub.execute_input": "2021-09-24T06:30:09.161449Z",
     "iopub.status.busy": "2021-09-24T06:30:09.150065Z",
     "iopub.status.idle": "2021-09-24T06:30:09.177184Z",
     "shell.execute_reply": "2021-09-24T06:30:09.178474Z"
    },
    "papermill": {
     "duration": 0.070331,
     "end_time": "2021-09-24T06:30:09.178946",
     "exception": false,
     "start_time": "2021-09-24T06:30:09.108615",
     "status": "completed"
    },
    "tags": []
   },
   "outputs": [],
   "source": [
    "df_pivot = df.pivot_table(index=\"PRODUCT\", columns = \"RECORD_TIME\", values = \"LISTING_COUNT\")"
   ]
  },
  {
   "cell_type": "code",
   "execution_count": 6,
   "id": "union-huntington",
   "metadata": {
    "execution": {
     "iopub.execute_input": "2021-09-24T06:30:09.235493Z",
     "iopub.status.busy": "2021-09-24T06:30:09.233424Z",
     "iopub.status.idle": "2021-09-24T06:30:09.238946Z",
     "shell.execute_reply": "2021-09-24T06:30:09.240149Z"
    },
    "papermill": {
     "duration": 0.041531,
     "end_time": "2021-09-24T06:30:09.240581",
     "exception": false,
     "start_time": "2021-09-24T06:30:09.199050",
     "status": "completed"
    },
    "tags": []
   },
   "outputs": [],
   "source": [
    "df_pivot.columns = [\"stamp_1\", \"stamp_2\"]\n",
    "df_pivot_diff = df_pivot.diff(axis=1)"
   ]
  },
  {
   "cell_type": "code",
   "execution_count": 7,
   "id": "fifth-motion",
   "metadata": {
    "execution": {
     "iopub.execute_input": "2021-09-24T06:30:09.295480Z",
     "iopub.status.busy": "2021-09-24T06:30:09.292846Z",
     "iopub.status.idle": "2021-09-24T06:30:10.789593Z",
     "shell.execute_reply": "2021-09-24T06:30:10.791052Z"
    },
    "papermill": {
     "duration": 1.529503,
     "end_time": "2021-09-24T06:30:10.791545",
     "exception": false,
     "start_time": "2021-09-24T06:30:09.262042",
     "status": "completed"
    },
    "tags": []
   },
   "outputs": [
    {
     "data": {
      "text/plain": [
       "<AxesSubplot:ylabel='PRODUCT'>"
      ]
     },
     "execution_count": 7,
     "metadata": {},
     "output_type": "execute_result"
    },
    {
     "data": {
      "image/png": "[encoded data removed]",
      "text/plain": [
       "<Figure size 432x288 with 1 Axes>"
      ]
     },
     "metadata": {
      "needs_background": "light"
     },
     "output_type": "display_data"
    }
   ],
   "source": [
    "df_pivot_diff.sort_values(\"stamp_2\", ascending = False)[\"stamp_2\"].head(10).plot.barh()"
   ]
  },
  {
   "cell_type": "code",
   "execution_count": null,
   "id": "extra-executive",
   "metadata": {
    "papermill": {
     "duration": 0.022364,
     "end_time": "2021-09-24T06:30:10.838636",
     "exception": false,
     "start_time": "2021-09-24T06:30:10.816272",
     "status": "completed"
    },
    "tags": []
   },
   "outputs": [],
   "source": []
  }
 ],
 "metadata": {
  "kernelspec": {
   "display_name": "Python 3",
   "language": "python",
   "name": "python3"
  },
  "language_info": {
   "codemirror_mode": {
    "name": "ipython",
    "version": 3
   },
   "file_extension": ".py",
   "mimetype": "text/x-python",
   "name": "python",
   "nbconvert_exporter": "python",
   "pygments_lexer": "ipython3",
   "version": "3.9.5"
  },
  "papermill": {
   "default_parameters": {},
   "duration": 6.741321,
   "end_time": "2021-09-24T06:30:11.481623",
   "environment_variables": {},
   "exception": null,
   "input_path": "eBay_Overview.ipynb",
   "output_path": "eBay_Overview.ipynb",
   "parameters": {},
   "start_time": "2021-09-24T06:30:04.740302",
   "version": "2.3.3"
  }
 },
 "nbformat": 4,
 "nbformat_minor": 5
}