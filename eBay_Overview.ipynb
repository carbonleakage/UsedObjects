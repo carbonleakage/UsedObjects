{
 "cells": [
  {
   "cell_type": "code",
   "execution_count": 1,
   "id": "reverse-picking",
   "metadata": {
    "execution": {
     "iopub.execute_input": "2021-10-17T03:00:07.402407Z",
     "iopub.status.busy": "2021-10-17T03:00:07.400414Z",
     "iopub.status.idle": "2021-10-17T03:00:08.208485Z",
     "shell.execute_reply": "2021-10-17T03:00:08.209804Z"
    },
    "papermill": {
     "duration": 0.860977,
     "end_time": "2021-10-17T03:00:08.210428",
     "exception": false,
     "start_time": "2021-10-17T03:00:07.349451",
     "status": "completed"
    },
    "tags": []
   },
   "outputs": [],
   "source": [
    "import pandas as pd\n",
    "import sqlite3"
   ]
  },
  {
   "cell_type": "code",
   "execution_count": 2,
   "id": "innovative-syndrome",
   "metadata": {
    "execution": {
     "iopub.execute_input": "2021-10-17T03:00:08.263613Z",
     "iopub.status.busy": "2021-10-17T03:00:08.261474Z",
     "iopub.status.idle": "2021-10-17T03:00:08.824190Z",
     "shell.execute_reply": "2021-10-17T03:00:08.826162Z"
    },
    "papermill": {
     "duration": 0.593551,
     "end_time": "2021-10-17T03:00:08.826710",
     "exception": false,
     "start_time": "2021-10-17T03:00:08.233159",
     "status": "completed"
    },
    "tags": []
   },
   "outputs": [],
   "source": [
    "timestamps = pd.read_sql(\"select distinct record_time from EBAY_TOP_BERLIN order by record_time desc limit 2\", sqlite3.connect(\"UsedObjects.db\"))"
   ]
  },
  {
   "cell_type": "code",
   "execution_count": 3,
   "id": "periodic-identification",
   "metadata": {
    "execution": {
     "iopub.execute_input": "2021-10-17T03:00:08.900181Z",
     "iopub.status.busy": "2021-10-17T03:00:08.898174Z",
     "iopub.status.idle": "2021-10-17T03:00:08.918394Z",
     "shell.execute_reply": "2021-10-17T03:00:08.919949Z"
    },
    "papermill": {
     "duration": 0.068575,
     "end_time": "2021-10-17T03:00:08.920435",
     "exception": false,
     "start_time": "2021-10-17T03:00:08.851860",
     "status": "completed"
    },
    "tags": []
   },
   "outputs": [
    {
     "data": {
      "text/html": [
       "<div>\n",
       "<style scoped>\n",
       "    .dataframe tbody tr th:only-of-type {\n",
       "        vertical-align: middle;\n",
       "    }\n",
       "\n",
       "    .dataframe tbody tr th {\n",
       "        vertical-align: top;\n",
       "    }\n",
       "\n",
       "    .dataframe thead th {\n",
       "        text-align: right;\n",
       "    }\n",
       "</style>\n",
       "<table border=\"1\" class=\"dataframe\">\n",
       "  <thead>\n",
       "    <tr style=\"text-align: right;\">\n",
       "      <th></th>\n",
       "      <th>RECORD_TIME</th>\n",
       "    </tr>\n",
       "  </thead>\n",
       "  <tbody>\n",
       "    <tr>\n",
       "      <th>0</th>\n",
       "      <td>2021-10-17 05:00</td>\n",
       "    </tr>\n",
       "    <tr>\n",
       "      <th>1</th>\n",
       "      <td>2021-10-17 04:30</td>\n",
       "    </tr>\n",
       "  </tbody>\n",
       "</table>\n",
       "</div>"
      ],
      "text/plain": [
       "        RECORD_TIME\n",
       "0  2021-10-17 05:00\n",
       "1  2021-10-17 04:30"
      ]
     },
     "execution_count": 3,
     "metadata": {},
     "output_type": "execute_result"
    }
   ],
   "source": [
    "timestamps"
   ]
  },
  {
   "cell_type": "code",
   "execution_count": 4,
   "id": "alternate-victory",
   "metadata": {
    "execution": {
     "iopub.execute_input": "2021-10-17T03:00:08.972471Z",
     "iopub.status.busy": "2021-10-17T03:00:08.970670Z",
     "iopub.status.idle": "2021-10-17T03:00:09.774980Z",
     "shell.execute_reply": "2021-10-17T03:00:09.776156Z"
    },
    "papermill": {
     "duration": 0.83434,
     "end_time": "2021-10-17T03:00:09.776546",
     "exception": false,
     "start_time": "2021-10-17T03:00:08.942206",
     "status": "completed"
    },
    "tags": []
   },
   "outputs": [],
   "source": [
    "df = pd.read_sql(\"select * from EBAY_TOP_BERLIN where record_time in (select distinct record_time from EBAY_TOP_BERLIN order by record_time desc limit 2)\", sqlite3.connect(\"UsedObjects.db\"))"
   ]
  },
  {
   "cell_type": "code",
   "execution_count": 5,
   "id": "popular-active",
   "metadata": {
    "execution": {
     "iopub.execute_input": "2021-10-17T03:00:09.849589Z",
     "iopub.status.busy": "2021-10-17T03:00:09.838393Z",
     "iopub.status.idle": "2021-10-17T03:00:09.866037Z",
     "shell.execute_reply": "2021-10-17T03:00:09.867269Z"
    },
    "papermill": {
     "duration": 0.068027,
     "end_time": "2021-10-17T03:00:09.867656",
     "exception": false,
     "start_time": "2021-10-17T03:00:09.799629",
     "status": "completed"
    },
    "tags": []
   },
   "outputs": [],
   "source": [
    "df_pivot = df.pivot_table(index=\"PRODUCT\", columns = \"RECORD_TIME\", values = \"LISTING_COUNT\")"
   ]
  },
  {
   "cell_type": "code",
   "execution_count": 6,
   "id": "union-huntington",
   "metadata": {
    "execution": {
     "iopub.execute_input": "2021-10-17T03:00:09.923959Z",
     "iopub.status.busy": "2021-10-17T03:00:09.921716Z",
     "iopub.status.idle": "2021-10-17T03:00:09.927436Z",
     "shell.execute_reply": "2021-10-17T03:00:09.928776Z"
    },
    "papermill": {
     "duration": 0.041581,
     "end_time": "2021-10-17T03:00:09.929235",
     "exception": false,
     "start_time": "2021-10-17T03:00:09.887654",
     "status": "completed"
    },
    "tags": []
   },
   "outputs": [],
   "source": [
    "df_pivot.columns = [\"stamp_1\", \"stamp_2\"]\n",
    "df_pivot_diff = df_pivot.diff(axis=1)"
   ]
  },
  {
   "cell_type": "code",
   "execution_count": 7,
   "id": "fifth-motion",
   "metadata": {
    "execution": {
     "iopub.execute_input": "2021-10-17T03:00:09.983742Z",
     "iopub.status.busy": "2021-10-17T03:00:09.981389Z",
     "iopub.status.idle": "2021-10-17T03:00:11.464075Z",
     "shell.execute_reply": "2021-10-17T03:00:11.465401Z"
    },
    "papermill": {
     "duration": 1.516463,
     "end_time": "2021-10-17T03:00:11.465817",
     "exception": false,
     "start_time": "2021-10-17T03:00:09.949354",
     "status": "completed"
    },
    "tags": []
   },
   "outputs": [
    {
     "data": {
      "text/plain": [
       "<AxesSubplot:ylabel='PRODUCT'>"
      ]
     },
     "execution_count": 7,
     "metadata": {},
     "output_type": "execute_result"
    },
    {
     "data": {
      "image/png": "[encoded data removed]",
      "text/plain": [
       "<Figure size 432x288 with 1 Axes>"
      ]
     },
     "metadata": {
      "needs_background": "light"
     },
     "output_type": "display_data"
    }
   ],
   "source": [
    "df_pivot_diff.sort_values(\"stamp_2\", ascending = False)[\"stamp_2\"].head(10).plot.barh()"
   ]
  },
  {
   "cell_type": "code",
   "execution_count": null,
   "id": "extra-executive",
   "metadata": {
    "papermill": {
     "duration": 0.02202,
     "end_time": "2021-10-17T03:00:11.511138",
     "exception": false,
     "start_time": "2021-10-17T03:00:11.489118",
     "status": "completed"
    },
    "tags": []
   },
   "outputs": [],
   "source": []
  }
 ],
 "metadata": {
  "kernelspec": {
   "display_name": "Python 3",
   "language": "python",
   "name": "python3"
  },
  "language_info": {
   "codemirror_mode": {
    "name": "ipython",
    "version": 3
   },
   "file_extension": ".py",
   "mimetype": "text/x-python",
   "name": "python",
   "nbconvert_exporter": "python",
   "pygments_lexer": "ipython3",
   "version": "3.9.5"
  },
  "papermill": {
   "default_parameters": {},
   "duration": 7.826229,
   "end_time": "2021-10-17T03:00:12.762359",
   "environment_variables": {},
   "exception": null,
   "input_path": "eBay_Overview.ipynb",
   "output_path": "eBay_Overview.ipynb",
   "parameters": {},
   "start_time": "2021-10-17T03:00:04.936130",
   "version": "2.3.3"
  }
 },
 "nbformat": 4,
 "nbformat_minor": 5
}