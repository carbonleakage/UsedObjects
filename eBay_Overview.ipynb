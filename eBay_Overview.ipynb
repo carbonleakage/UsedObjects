{
 "cells": [
  {
   "cell_type": "code",
   "execution_count": 1,
   "id": "reverse-picking",
   "metadata": {
    "execution": {
     "iopub.execute_input": "2021-09-09T13:30:06.768886Z",
     "iopub.status.busy": "2021-09-09T13:30:06.766824Z",
     "iopub.status.idle": "2021-09-09T13:30:07.578095Z",
     "shell.execute_reply": "2021-09-09T13:30:07.576510Z"
    },
    "papermill": {
     "duration": 0.862517,
     "end_time": "2021-09-09T13:30:07.578488",
     "exception": false,
     "start_time": "2021-09-09T13:30:06.715971",
     "status": "completed"
    },
    "tags": []
   },
   "outputs": [],
   "source": [
    "import pandas as pd\n",
    "import sqlite3"
   ]
  },
  {
   "cell_type": "code",
   "execution_count": 2,
   "id": "innovative-syndrome",
   "metadata": {
    "execution": {
     "iopub.execute_input": "2021-09-09T13:30:07.631604Z",
     "iopub.status.busy": "2021-09-09T13:30:07.629171Z",
     "iopub.status.idle": "2021-09-09T13:30:07.878603Z",
     "shell.execute_reply": "2021-09-09T13:30:07.880059Z"
    },
    "papermill": {
     "duration": 0.279779,
     "end_time": "2021-09-09T13:30:07.880497",
     "exception": false,
     "start_time": "2021-09-09T13:30:07.600718",
     "status": "completed"
    },
    "tags": []
   },
   "outputs": [],
   "source": [
    "timestamps = pd.read_sql(\"select distinct record_time from EBAY_TOP_BERLIN order by record_time desc limit 2\", sqlite3.connect(\"UsedObjects.db\"))"
   ]
  },
  {
   "cell_type": "code",
   "execution_count": 3,
   "id": "periodic-identification",
   "metadata": {
    "execution": {
     "iopub.execute_input": "2021-09-09T13:30:07.948206Z",
     "iopub.status.busy": "2021-09-09T13:30:07.946092Z",
     "iopub.status.idle": "2021-09-09T13:30:07.966473Z",
     "shell.execute_reply": "2021-09-09T13:30:07.967831Z"
    },
    "papermill": {
     "duration": 0.067012,
     "end_time": "2021-09-09T13:30:07.968261",
     "exception": false,
     "start_time": "2021-09-09T13:30:07.901249",
     "status": "completed"
    },
    "tags": []
   },
   "outputs": [
    {
     "data": {
      "text/html": [
       "<div>\n",
       "<style scoped>\n",
       "    .dataframe tbody tr th:only-of-type {\n",
       "        vertical-align: middle;\n",
       "    }\n",
       "\n",
       "    .dataframe tbody tr th {\n",
       "        vertical-align: top;\n",
       "    }\n",
       "\n",
       "    .dataframe thead th {\n",
       "        text-align: right;\n",
       "    }\n",
       "</style>\n",
       "<table border=\"1\" class=\"dataframe\">\n",
       "  <thead>\n",
       "    <tr style=\"text-align: right;\">\n",
       "      <th></th>\n",
       "      <th>RECORD_TIME</th>\n",
       "    </tr>\n",
       "  </thead>\n",
       "  <tbody>\n",
       "    <tr>\n",
       "      <th>0</th>\n",
       "      <td>2021-09-09 15:30</td>\n",
       "    </tr>\n",
       "    <tr>\n",
       "      <th>1</th>\n",
       "      <td>2021-09-09 15:00</td>\n",
       "    </tr>\n",
       "  </tbody>\n",
       "</table>\n",
       "</div>"
      ],
      "text/plain": [
       "        RECORD_TIME\n",
       "0  2021-09-09 15:30\n",
       "1  2021-09-09 15:00"
      ]
     },
     "execution_count": 3,
     "metadata": {},
     "output_type": "execute_result"
    }
   ],
   "source": [
    "timestamps"
   ]
  },
  {
   "cell_type": "code",
   "execution_count": 4,
   "id": "alternate-victory",
   "metadata": {
    "execution": {
     "iopub.execute_input": "2021-09-09T13:30:08.019678Z",
     "iopub.status.busy": "2021-09-09T13:30:08.017708Z",
     "iopub.status.idle": "2021-09-09T13:30:08.380732Z",
     "shell.execute_reply": "2021-09-09T13:30:08.382046Z"
    },
    "papermill": {
     "duration": 0.392961,
     "end_time": "2021-09-09T13:30:08.382472",
     "exception": false,
     "start_time": "2021-09-09T13:30:07.989511",
     "status": "completed"
    },
    "tags": []
   },
   "outputs": [],
   "source": [
    "df = pd.read_sql(\"select * from EBAY_TOP_BERLIN where record_time in (select distinct record_time from EBAY_TOP_BERLIN order by record_time desc limit 2)\", sqlite3.connect(\"UsedObjects.db\"))"
   ]
  },
  {
   "cell_type": "code",
   "execution_count": 5,
   "id": "popular-active",
   "metadata": {
    "execution": {
     "iopub.execute_input": "2021-09-09T13:30:08.462312Z",
     "iopub.status.busy": "2021-09-09T13:30:08.450967Z",
     "iopub.status.idle": "2021-09-09T13:30:08.478412Z",
     "shell.execute_reply": "2021-09-09T13:30:08.479862Z"
    },
    "papermill": {
     "duration": 0.072307,
     "end_time": "2021-09-09T13:30:08.480315",
     "exception": false,
     "start_time": "2021-09-09T13:30:08.408008",
     "status": "completed"
    },
    "tags": []
   },
   "outputs": [],
   "source": [
    "df_pivot = df.pivot_table(index=\"PRODUCT\", columns = \"RECORD_TIME\", values = \"LISTING_COUNT\")"
   ]
  },
  {
   "cell_type": "code",
   "execution_count": 6,
   "id": "union-huntington",
   "metadata": {
    "execution": {
     "iopub.execute_input": "2021-09-09T13:30:08.537249Z",
     "iopub.status.busy": "2021-09-09T13:30:08.535059Z",
     "iopub.status.idle": "2021-09-09T13:30:08.540539Z",
     "shell.execute_reply": "2021-09-09T13:30:08.541897Z"
    },
    "papermill": {
     "duration": 0.041061,
     "end_time": "2021-09-09T13:30:08.542343",
     "exception": false,
     "start_time": "2021-09-09T13:30:08.501282",
     "status": "completed"
    },
    "tags": []
   },
   "outputs": [],
   "source": [
    "df_pivot.columns = [\"stamp_1\", \"stamp_2\"]\n",
    "df_pivot_diff = df_pivot.diff(axis=1)"
   ]
  },
  {
   "cell_type": "code",
   "execution_count": 7,
   "id": "fifth-motion",
   "metadata": {
    "execution": {
     "iopub.execute_input": "2021-09-09T13:30:08.597024Z",
     "iopub.status.busy": "2021-09-09T13:30:08.594425Z",
     "iopub.status.idle": "2021-09-09T13:30:10.066263Z",
     "shell.execute_reply": "2021-09-09T13:30:10.067544Z"
    },
    "papermill": {
     "duration": 1.505211,
     "end_time": "2021-09-09T13:30:10.067991",
     "exception": false,
     "start_time": "2021-09-09T13:30:08.562780",
     "status": "completed"
    },
    "tags": []
   },
   "outputs": [
    {
     "data": {
      "text/plain": [
       "<AxesSubplot:ylabel='PRODUCT'>"
      ]
     },
     "execution_count": 7,
     "metadata": {},
     "output_type": "execute_result"
    },
    {
     "data": {
      "image/png": "[encoded data removed]",
      "text/plain": [
       "<Figure size 432x288 with 1 Axes>"
      ]
     },
     "metadata": {
      "needs_background": "light"
     },
     "output_type": "display_data"
    }
   ],
   "source": [
    "df_pivot_diff.sort_values(\"stamp_2\", ascending = False)[\"stamp_2\"].head(10).plot.barh()"
   ]
  },
  {
   "cell_type": "code",
   "execution_count": null,
   "id": "extra-executive",
   "metadata": {
    "papermill": {
     "duration": 0.022188,
     "end_time": "2021-09-09T13:30:10.114927",
     "exception": false,
     "start_time": "2021-09-09T13:30:10.092739",
     "status": "completed"
    },
    "tags": []
   },
   "outputs": [],
   "source": []
  }
 ],
 "metadata": {
  "kernelspec": {
   "display_name": "Python 3",
   "language": "python",
   "name": "python3"
  },
  "language_info": {
   "codemirror_mode": {
    "name": "ipython",
    "version": 3
   },
   "file_extension": ".py",
   "mimetype": "text/x-python",
   "name": "python",
   "nbconvert_exporter": "python",
   "pygments_lexer": "ipython3",
   "version": "3.9.5"
  },
  "papermill": {
   "default_parameters": {},
   "duration": 6.458636,
   "end_time": "2021-09-09T13:30:10.756719",
   "environment_variables": {},
   "exception": null,
   "input_path": "eBay_Overview.ipynb",
   "output_path": "eBay_Overview.ipynb",
   "parameters": {},
   "start_time": "2021-09-09T13:30:04.298083",
   "version": "2.3.3"
  }
 },
 "nbformat": 4,
 "nbformat_minor": 5
}