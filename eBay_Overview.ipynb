{
 "cells": [
  {
   "cell_type": "code",
   "execution_count": 1,
   "id": "reverse-picking",
   "metadata": {
    "execution": {
     "iopub.execute_input": "2021-09-25T18:00:07.009005Z",
     "iopub.status.busy": "2021-09-25T18:00:07.007058Z",
     "iopub.status.idle": "2021-09-25T18:00:07.811234Z",
     "shell.execute_reply": "2021-09-25T18:00:07.812555Z"
    },
    "papermill": {
     "duration": 0.856765,
     "end_time": "2021-09-25T18:00:07.813198",
     "exception": false,
     "start_time": "2021-09-25T18:00:06.956433",
     "status": "completed"
    },
    "tags": []
   },
   "outputs": [],
   "source": [
    "import pandas as pd\n",
    "import sqlite3"
   ]
  },
  {
   "cell_type": "code",
   "execution_count": 2,
   "id": "innovative-syndrome",
   "metadata": {
    "execution": {
     "iopub.execute_input": "2021-09-25T18:00:07.865227Z",
     "iopub.status.busy": "2021-09-25T18:00:07.863361Z",
     "iopub.status.idle": "2021-09-25T18:00:08.237830Z",
     "shell.execute_reply": "2021-09-25T18:00:08.239249Z"
    },
    "papermill": {
     "duration": 0.404127,
     "end_time": "2021-09-25T18:00:08.239669",
     "exception": false,
     "start_time": "2021-09-25T18:00:07.835542",
     "status": "completed"
    },
    "tags": []
   },
   "outputs": [],
   "source": [
    "timestamps = pd.read_sql(\"select distinct record_time from EBAY_TOP_BERLIN order by record_time desc limit 2\", sqlite3.connect(\"UsedObjects.db\"))"
   ]
  },
  {
   "cell_type": "code",
   "execution_count": 3,
   "id": "periodic-identification",
   "metadata": {
    "execution": {
     "iopub.execute_input": "2021-09-25T18:00:08.304741Z",
     "iopub.status.busy": "2021-09-25T18:00:08.302665Z",
     "iopub.status.idle": "2021-09-25T18:00:08.323567Z",
     "shell.execute_reply": "2021-09-25T18:00:08.324871Z"
    },
    "papermill": {
     "duration": 0.066173,
     "end_time": "2021-09-25T18:00:08.325281",
     "exception": false,
     "start_time": "2021-09-25T18:00:08.259108",
     "status": "completed"
    },
    "tags": []
   },
   "outputs": [
    {
     "data": {
      "text/html": [
       "<div>\n",
       "<style scoped>\n",
       "    .dataframe tbody tr th:only-of-type {\n",
       "        vertical-align: middle;\n",
       "    }\n",
       "\n",
       "    .dataframe tbody tr th {\n",
       "        vertical-align: top;\n",
       "    }\n",
       "\n",
       "    .dataframe thead th {\n",
       "        text-align: right;\n",
       "    }\n",
       "</style>\n",
       "<table border=\"1\" class=\"dataframe\">\n",
       "  <thead>\n",
       "    <tr style=\"text-align: right;\">\n",
       "      <th></th>\n",
       "      <th>RECORD_TIME</th>\n",
       "    </tr>\n",
       "  </thead>\n",
       "  <tbody>\n",
       "    <tr>\n",
       "      <th>0</th>\n",
       "      <td>2021-09-25 20:00</td>\n",
       "    </tr>\n",
       "    <tr>\n",
       "      <th>1</th>\n",
       "      <td>2021-09-25 19:30</td>\n",
       "    </tr>\n",
       "  </tbody>\n",
       "</table>\n",
       "</div>"
      ],
      "text/plain": [
       "        RECORD_TIME\n",
       "0  2021-09-25 20:00\n",
       "1  2021-09-25 19:30"
      ]
     },
     "execution_count": 3,
     "metadata": {},
     "output_type": "execute_result"
    }
   ],
   "source": [
    "timestamps"
   ]
  },
  {
   "cell_type": "code",
   "execution_count": 4,
   "id": "alternate-victory",
   "metadata": {
    "execution": {
     "iopub.execute_input": "2021-09-25T18:00:08.376476Z",
     "iopub.status.busy": "2021-09-25T18:00:08.374257Z",
     "iopub.status.idle": "2021-09-25T18:00:08.919939Z",
     "shell.execute_reply": "2021-09-25T18:00:08.921332Z"
    },
    "papermill": {
     "duration": 0.575824,
     "end_time": "2021-09-25T18:00:08.921767",
     "exception": false,
     "start_time": "2021-09-25T18:00:08.345943",
     "status": "completed"
    },
    "tags": []
   },
   "outputs": [],
   "source": [
    "df = pd.read_sql(\"select * from EBAY_TOP_BERLIN where record_time in (select distinct record_time from EBAY_TOP_BERLIN order by record_time desc limit 2)\", sqlite3.connect(\"UsedObjects.db\"))"
   ]
  },
  {
   "cell_type": "code",
   "execution_count": 5,
   "id": "popular-active",
   "metadata": {
    "execution": {
     "iopub.execute_input": "2021-09-25T18:00:08.992746Z",
     "iopub.status.busy": "2021-09-25T18:00:08.980514Z",
     "iopub.status.idle": "2021-09-25T18:00:09.010995Z",
     "shell.execute_reply": "2021-09-25T18:00:09.012734Z"
    },
    "papermill": {
     "duration": 0.070532,
     "end_time": "2021-09-25T18:00:09.013205",
     "exception": false,
     "start_time": "2021-09-25T18:00:08.942673",
     "status": "completed"
    },
    "tags": []
   },
   "outputs": [],
   "source": [
    "df_pivot = df.pivot_table(index=\"PRODUCT\", columns = \"RECORD_TIME\", values = \"LISTING_COUNT\")"
   ]
  },
  {
   "cell_type": "code",
   "execution_count": 6,
   "id": "union-huntington",
   "metadata": {
    "execution": {
     "iopub.execute_input": "2021-09-25T18:00:09.070719Z",
     "iopub.status.busy": "2021-09-25T18:00:09.068575Z",
     "iopub.status.idle": "2021-09-25T18:00:09.073870Z",
     "shell.execute_reply": "2021-09-25T18:00:09.075134Z"
    },
    "papermill": {
     "duration": 0.041136,
     "end_time": "2021-09-25T18:00:09.075568",
     "exception": false,
     "start_time": "2021-09-25T18:00:09.034432",
     "status": "completed"
    },
    "tags": []
   },
   "outputs": [],
   "source": [
    "df_pivot.columns = [\"stamp_1\", \"stamp_2\"]\n",
    "df_pivot_diff = df_pivot.diff(axis=1)"
   ]
  },
  {
   "cell_type": "code",
   "execution_count": 7,
   "id": "fifth-motion",
   "metadata": {
    "execution": {
     "iopub.execute_input": "2021-09-25T18:00:09.131944Z",
     "iopub.status.busy": "2021-09-25T18:00:09.129354Z",
     "iopub.status.idle": "2021-09-25T18:00:10.605784Z",
     "shell.execute_reply": "2021-09-25T18:00:10.607181Z"
    },
    "papermill": {
     "duration": 1.509704,
     "end_time": "2021-09-25T18:00:10.607641",
     "exception": false,
     "start_time": "2021-09-25T18:00:09.097937",
     "status": "completed"
    },
    "tags": []
   },
   "outputs": [
    {
     "data": {
      "text/plain": [
       "<AxesSubplot:ylabel='PRODUCT'>"
      ]
     },
     "execution_count": 7,
     "metadata": {},
     "output_type": "execute_result"
    },
    {
     "data": {
      "image/png": "[encoded data removed]",
      "text/plain": [
       "<Figure size 432x288 with 1 Axes>"
      ]
     },
     "metadata": {
      "needs_background": "light"
     },
     "output_type": "display_data"
    }
   ],
   "source": [
    "df_pivot_diff.sort_values(\"stamp_2\", ascending = False)[\"stamp_2\"].head(10).plot.barh()"
   ]
  },
  {
   "cell_type": "code",
   "execution_count": null,
   "id": "extra-executive",
   "metadata": {
    "papermill": {
     "duration": 0.022511,
     "end_time": "2021-09-25T18:00:10.655109",
     "exception": false,
     "start_time": "2021-09-25T18:00:10.632598",
     "status": "completed"
    },
    "tags": []
   },
   "outputs": [],
   "source": []
  }
 ],
 "metadata": {
  "kernelspec": {
   "display_name": "Python 3",
   "language": "python",
   "name": "python3"
  },
  "language_info": {
   "codemirror_mode": {
    "name": "ipython",
    "version": 3
   },
   "file_extension": ".py",
   "mimetype": "text/x-python",
   "name": "python",
   "nbconvert_exporter": "python",
   "pygments_lexer": "ipython3",
   "version": "3.9.5"
  },
  "papermill": {
   "default_parameters": {},
   "duration": 6.738613,
   "end_time": "2021-09-25T18:00:11.298498",
   "environment_variables": {},
   "exception": null,
   "input_path": "eBay_Overview.ipynb",
   "output_path": "eBay_Overview.ipynb",
   "parameters": {},
   "start_time": "2021-09-25T18:00:04.559885",
   "version": "2.3.3"
  }
 },
 "nbformat": 4,
 "nbformat_minor": 5
}