{
 "cells": [
  {
   "cell_type": "code",
   "execution_count": 1,
   "id": "reverse-picking",
   "metadata": {
    "execution": {
     "iopub.execute_input": "2021-12-10T12:00:08.514324Z",
     "iopub.status.busy": "2021-12-10T12:00:08.511270Z",
     "iopub.status.idle": "2021-12-10T12:00:09.473691Z",
     "shell.execute_reply": "2021-12-10T12:00:09.475292Z"
    },
    "papermill": {
     "duration": 1.011997,
     "end_time": "2021-12-10T12:00:09.476027",
     "exception": false,
     "start_time": "2021-12-10T12:00:08.464030",
     "status": "completed"
    },
    "tags": []
   },
   "outputs": [],
   "source": [
    "import pandas as pd\n",
    "import sqlite3"
   ]
  },
  {
   "cell_type": "code",
   "execution_count": 2,
   "id": "innovative-syndrome",
   "metadata": {
    "execution": {
     "iopub.execute_input": "2021-12-10T12:00:09.543651Z",
     "iopub.status.busy": "2021-12-10T12:00:09.541139Z",
     "iopub.status.idle": "2021-12-10T12:00:10.586611Z",
     "shell.execute_reply": "2021-12-10T12:00:10.588737Z"
    },
    "papermill": {
     "duration": 1.080112,
     "end_time": "2021-12-10T12:00:10.589247",
     "exception": false,
     "start_time": "2021-12-10T12:00:09.509135",
     "status": "completed"
    },
    "tags": []
   },
   "outputs": [],
   "source": [
    "timestamps = pd.read_sql(\"select distinct record_time from EBAY_TOP_BERLIN order by record_time desc limit 2\", sqlite3.connect(\"UsedObjects.db\"))"
   ]
  },
  {
   "cell_type": "code",
   "execution_count": 3,
   "id": "periodic-identification",
   "metadata": {
    "execution": {
     "iopub.execute_input": "2021-12-10T12:00:10.676782Z",
     "iopub.status.busy": "2021-12-10T12:00:10.670672Z",
     "iopub.status.idle": "2021-12-10T12:00:10.693596Z",
     "shell.execute_reply": "2021-12-10T12:00:10.694995Z"
    },
    "papermill": {
     "duration": 0.073309,
     "end_time": "2021-12-10T12:00:10.695530",
     "exception": false,
     "start_time": "2021-12-10T12:00:10.622221",
     "status": "completed"
    },
    "tags": []
   },
   "outputs": [
    {
     "data": {
      "text/html": [
       "<div>\n",
       "<style scoped>\n",
       "    .dataframe tbody tr th:only-of-type {\n",
       "        vertical-align: middle;\n",
       "    }\n",
       "\n",
       "    .dataframe tbody tr th {\n",
       "        vertical-align: top;\n",
       "    }\n",
       "\n",
       "    .dataframe thead th {\n",
       "        text-align: right;\n",
       "    }\n",
       "</style>\n",
       "<table border=\"1\" class=\"dataframe\">\n",
       "  <thead>\n",
       "    <tr style=\"text-align: right;\">\n",
       "      <th></th>\n",
       "      <th>RECORD_TIME</th>\n",
       "    </tr>\n",
       "  </thead>\n",
       "  <tbody>\n",
       "    <tr>\n",
       "      <th>0</th>\n",
       "      <td>2021-12-10 13:00</td>\n",
       "    </tr>\n",
       "    <tr>\n",
       "      <th>1</th>\n",
       "      <td>2021-12-10 12:30</td>\n",
       "    </tr>\n",
       "  </tbody>\n",
       "</table>\n",
       "</div>"
      ],
      "text/plain": [
       "        RECORD_TIME\n",
       "0  2021-12-10 13:00\n",
       "1  2021-12-10 12:30"
      ]
     },
     "execution_count": 3,
     "metadata": {},
     "output_type": "execute_result"
    }
   ],
   "source": [
    "timestamps"
   ]
  },
  {
   "cell_type": "code",
   "execution_count": 4,
   "id": "alternate-victory",
   "metadata": {
    "execution": {
     "iopub.execute_input": "2021-12-10T12:00:10.752354Z",
     "iopub.status.busy": "2021-12-10T12:00:10.750003Z",
     "iopub.status.idle": "2021-12-10T12:00:12.266561Z",
     "shell.execute_reply": "2021-12-10T12:00:12.268764Z"
    },
    "papermill": {
     "duration": 1.552077,
     "end_time": "2021-12-10T12:00:12.269259",
     "exception": false,
     "start_time": "2021-12-10T12:00:10.717182",
     "status": "completed"
    },
    "tags": []
   },
   "outputs": [],
   "source": [
    "df = pd.read_sql(\"select * from EBAY_TOP_BERLIN where record_time in (select distinct record_time from EBAY_TOP_BERLIN order by record_time desc limit 2)\", sqlite3.connect(\"UsedObjects.db\"))"
   ]
  },
  {
   "cell_type": "code",
   "execution_count": 5,
   "id": "popular-active",
   "metadata": {
    "execution": {
     "iopub.execute_input": "2021-12-10T12:00:12.346451Z",
     "iopub.status.busy": "2021-12-10T12:00:12.331777Z",
     "iopub.status.idle": "2021-12-10T12:00:12.369923Z",
     "shell.execute_reply": "2021-12-10T12:00:12.371582Z"
    },
    "papermill": {
     "duration": 0.081907,
     "end_time": "2021-12-10T12:00:12.372069",
     "exception": false,
     "start_time": "2021-12-10T12:00:12.290162",
     "status": "completed"
    },
    "tags": []
   },
   "outputs": [],
   "source": [
    "df_pivot = df.pivot_table(index=\"PRODUCT\", columns = \"RECORD_TIME\", values = \"LISTING_COUNT\")"
   ]
  },
  {
   "cell_type": "code",
   "execution_count": 6,
   "id": "union-huntington",
   "metadata": {
    "execution": {
     "iopub.execute_input": "2021-12-10T12:00:12.432741Z",
     "iopub.status.busy": "2021-12-10T12:00:12.430217Z",
     "iopub.status.idle": "2021-12-10T12:00:12.436892Z",
     "shell.execute_reply": "2021-12-10T12:00:12.435273Z"
    },
    "papermill": {
     "duration": 0.043931,
     "end_time": "2021-12-10T12:00:12.437304",
     "exception": false,
     "start_time": "2021-12-10T12:00:12.393373",
     "status": "completed"
    },
    "tags": []
   },
   "outputs": [],
   "source": [
    "df_pivot.columns = [\"stamp_1\", \"stamp_2\"]\n",
    "df_pivot_diff = df_pivot.diff(axis=1)"
   ]
  },
  {
   "cell_type": "code",
   "execution_count": 7,
   "id": "fifth-motion",
   "metadata": {
    "execution": {
     "iopub.execute_input": "2021-12-10T12:00:12.493968Z",
     "iopub.status.busy": "2021-12-10T12:00:12.491062Z",
     "iopub.status.idle": "2021-12-10T12:00:14.455930Z",
     "shell.execute_reply": "2021-12-10T12:00:14.457373Z"
    },
    "papermill": {
     "duration": 2.000423,
     "end_time": "2021-12-10T12:00:14.457833",
     "exception": false,
     "start_time": "2021-12-10T12:00:12.457410",
     "status": "completed"
    },
    "tags": []
   },
   "outputs": [
    {
     "data": {
      "text/plain": [
       "<AxesSubplot:ylabel='PRODUCT'>"
      ]
     },
     "execution_count": 7,
     "metadata": {},
     "output_type": "execute_result"
    },
    {
     "data": {
      "image/png": "[encoded data removed]",
      "text/plain": [
       "<Figure size 432x288 with 1 Axes>"
      ]
     },
     "metadata": {
      "needs_background": "light"
     },
     "output_type": "display_data"
    }
   ],
   "source": [
    "df_pivot_diff.sort_values(\"stamp_2\", ascending = False)[\"stamp_2\"].head(10).plot.barh()"
   ]
  },
  {
   "cell_type": "code",
   "execution_count": null,
   "id": "extra-executive",
   "metadata": {
    "papermill": {
     "duration": 0.031556,
     "end_time": "2021-12-10T12:00:14.514767",
     "exception": false,
     "start_time": "2021-12-10T12:00:14.483211",
     "status": "completed"
    },
    "tags": []
   },
   "outputs": [],
   "source": []
  }
 ],
 "metadata": {
  "kernelspec": {
   "display_name": "Python 3",
   "language": "python",
   "name": "python3"
  },
  "language_info": {
   "codemirror_mode": {
    "name": "ipython",
    "version": 3
   },
   "file_extension": ".py",
   "mimetype": "text/x-python",
   "name": "python",
   "nbconvert_exporter": "python",
   "pygments_lexer": "ipython3",
   "version": "3.9.5"
  },
  "papermill": {
   "default_parameters": {},
   "duration": 9.932,
   "end_time": "2021-12-10T12:00:15.677158",
   "environment_variables": {},
   "exception": null,
   "input_path": "eBay_Overview.ipynb",
   "output_path": "eBay_Overview.ipynb",
   "parameters": {},
   "start_time": "2021-12-10T12:00:05.745158",
   "version": "2.3.3"
  }
 },
 "nbformat": 4,
 "nbformat_minor": 5
}