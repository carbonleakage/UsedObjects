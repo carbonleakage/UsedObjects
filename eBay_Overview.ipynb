{
 "cells": [
  {
   "cell_type": "code",
   "execution_count": 1,
   "id": "reverse-picking",
   "metadata": {
    "execution": {
     "iopub.execute_input": "2021-12-18T20:00:07.985075Z",
     "iopub.status.busy": "2021-12-18T20:00:07.982660Z",
     "iopub.status.idle": "2021-12-18T20:00:08.942612Z",
     "shell.execute_reply": "2021-12-18T20:00:08.944255Z"
    },
    "papermill": {
     "duration": 1.011285,
     "end_time": "2021-12-18T20:00:08.945093",
     "exception": false,
     "start_time": "2021-12-18T20:00:07.933808",
     "status": "completed"
    },
    "tags": []
   },
   "outputs": [],
   "source": [
    "import pandas as pd\n",
    "import sqlite3"
   ]
  },
  {
   "cell_type": "code",
   "execution_count": 2,
   "id": "innovative-syndrome",
   "metadata": {
    "execution": {
     "iopub.execute_input": "2021-12-18T20:00:09.019685Z",
     "iopub.status.busy": "2021-12-18T20:00:09.017441Z",
     "iopub.status.idle": "2021-12-18T20:00:10.142822Z",
     "shell.execute_reply": "2021-12-18T20:00:10.144032Z"
    },
    "papermill": {
     "duration": 1.165549,
     "end_time": "2021-12-18T20:00:10.144434",
     "exception": false,
     "start_time": "2021-12-18T20:00:08.978885",
     "status": "completed"
    },
    "tags": []
   },
   "outputs": [],
   "source": [
    "timestamps = pd.read_sql(\"select distinct record_time from EBAY_TOP_BERLIN order by record_time desc limit 2\", sqlite3.connect(\"UsedObjects.db\"))"
   ]
  },
  {
   "cell_type": "code",
   "execution_count": 3,
   "id": "periodic-identification",
   "metadata": {
    "execution": {
     "iopub.execute_input": "2021-12-18T20:00:10.207341Z",
     "iopub.status.busy": "2021-12-18T20:00:10.205074Z",
     "iopub.status.idle": "2021-12-18T20:00:10.232279Z",
     "shell.execute_reply": "2021-12-18T20:00:10.233966Z"
    },
    "papermill": {
     "duration": 0.069452,
     "end_time": "2021-12-18T20:00:10.234381",
     "exception": false,
     "start_time": "2021-12-18T20:00:10.164929",
     "status": "completed"
    },
    "tags": []
   },
   "outputs": [
    {
     "data": {
      "text/html": [
       "<div>\n",
       "<style scoped>\n",
       "    .dataframe tbody tr th:only-of-type {\n",
       "        vertical-align: middle;\n",
       "    }\n",
       "\n",
       "    .dataframe tbody tr th {\n",
       "        vertical-align: top;\n",
       "    }\n",
       "\n",
       "    .dataframe thead th {\n",
       "        text-align: right;\n",
       "    }\n",
       "</style>\n",
       "<table border=\"1\" class=\"dataframe\">\n",
       "  <thead>\n",
       "    <tr style=\"text-align: right;\">\n",
       "      <th></th>\n",
       "      <th>RECORD_TIME</th>\n",
       "    </tr>\n",
       "  </thead>\n",
       "  <tbody>\n",
       "    <tr>\n",
       "      <th>0</th>\n",
       "      <td>2021-12-18 21:00</td>\n",
       "    </tr>\n",
       "    <tr>\n",
       "      <th>1</th>\n",
       "      <td>2021-12-18 20:30</td>\n",
       "    </tr>\n",
       "  </tbody>\n",
       "</table>\n",
       "</div>"
      ],
      "text/plain": [
       "        RECORD_TIME\n",
       "0  2021-12-18 21:00\n",
       "1  2021-12-18 20:30"
      ]
     },
     "execution_count": 3,
     "metadata": {},
     "output_type": "execute_result"
    }
   ],
   "source": [
    "timestamps"
   ]
  },
  {
   "cell_type": "code",
   "execution_count": 4,
   "id": "alternate-victory",
   "metadata": {
    "execution": {
     "iopub.execute_input": "2021-12-18T20:00:10.289459Z",
     "iopub.status.busy": "2021-12-18T20:00:10.286953Z",
     "iopub.status.idle": "2021-12-18T20:00:11.919490Z",
     "shell.execute_reply": "2021-12-18T20:00:11.920986Z"
    },
    "papermill": {
     "duration": 1.666659,
     "end_time": "2021-12-18T20:00:11.921479",
     "exception": false,
     "start_time": "2021-12-18T20:00:10.254820",
     "status": "completed"
    },
    "tags": []
   },
   "outputs": [],
   "source": [
    "df = pd.read_sql(\"select * from EBAY_TOP_BERLIN where record_time in (select distinct record_time from EBAY_TOP_BERLIN order by record_time desc limit 2)\", sqlite3.connect(\"UsedObjects.db\"))"
   ]
  },
  {
   "cell_type": "code",
   "execution_count": 5,
   "id": "popular-active",
   "metadata": {
    "execution": {
     "iopub.execute_input": "2021-12-18T20:00:11.998601Z",
     "iopub.status.busy": "2021-12-18T20:00:11.986996Z",
     "iopub.status.idle": "2021-12-18T20:00:12.017812Z",
     "shell.execute_reply": "2021-12-18T20:00:12.019617Z"
    },
    "papermill": {
     "duration": 0.078082,
     "end_time": "2021-12-18T20:00:12.020185",
     "exception": false,
     "start_time": "2021-12-18T20:00:11.942103",
     "status": "completed"
    },
    "tags": []
   },
   "outputs": [],
   "source": [
    "df_pivot = df.pivot_table(index=\"PRODUCT\", columns = \"RECORD_TIME\", values = \"LISTING_COUNT\")"
   ]
  },
  {
   "cell_type": "code",
   "execution_count": 6,
   "id": "union-huntington",
   "metadata": {
    "execution": {
     "iopub.execute_input": "2021-12-18T20:00:12.081682Z",
     "iopub.status.busy": "2021-12-18T20:00:12.079303Z",
     "iopub.status.idle": "2021-12-18T20:00:12.085607Z",
     "shell.execute_reply": "2021-12-18T20:00:12.087153Z"
    },
    "papermill": {
     "duration": 0.044761,
     "end_time": "2021-12-18T20:00:12.087646",
     "exception": false,
     "start_time": "2021-12-18T20:00:12.042885",
     "status": "completed"
    },
    "tags": []
   },
   "outputs": [],
   "source": [
    "df_pivot.columns = [\"stamp_1\", \"stamp_2\"]\n",
    "df_pivot_diff = df_pivot.diff(axis=1)"
   ]
  },
  {
   "cell_type": "code",
   "execution_count": 7,
   "id": "fifth-motion",
   "metadata": {
    "execution": {
     "iopub.execute_input": "2021-12-18T20:00:12.144577Z",
     "iopub.status.busy": "2021-12-18T20:00:12.142079Z",
     "iopub.status.idle": "2021-12-18T20:00:14.124587Z",
     "shell.execute_reply": "2021-12-18T20:00:14.126211Z"
    },
    "papermill": {
     "duration": 2.019048,
     "end_time": "2021-12-18T20:00:14.126755",
     "exception": false,
     "start_time": "2021-12-18T20:00:12.107707",
     "status": "completed"
    },
    "tags": []
   },
   "outputs": [
    {
     "data": {
      "text/plain": [
       "<AxesSubplot:ylabel='PRODUCT'>"
      ]
     },
     "execution_count": 7,
     "metadata": {},
     "output_type": "execute_result"
    },
    {
     "data": {
      "image/png": "[encoded data removed]",
      "text/plain": [
       "<Figure size 432x288 with 1 Axes>"
      ]
     },
     "metadata": {
      "needs_background": "light"
     },
     "output_type": "display_data"
    }
   ],
   "source": [
    "df_pivot_diff.sort_values(\"stamp_2\", ascending = False)[\"stamp_2\"].head(10).plot.barh()"
   ]
  },
  {
   "cell_type": "code",
   "execution_count": null,
   "id": "extra-executive",
   "metadata": {
    "papermill": {
     "duration": 0.029719,
     "end_time": "2021-12-18T20:00:14.192873",
     "exception": false,
     "start_time": "2021-12-18T20:00:14.163154",
     "status": "completed"
    },
    "tags": []
   },
   "outputs": [],
   "source": []
  }
 ],
 "metadata": {
  "kernelspec": {
   "display_name": "Python 3",
   "language": "python",
   "name": "python3"
  },
  "language_info": {
   "codemirror_mode": {
    "name": "ipython",
    "version": 3
   },
   "file_extension": ".py",
   "mimetype": "text/x-python",
   "name": "python",
   "nbconvert_exporter": "python",
   "pygments_lexer": "ipython3",
   "version": "3.9.5"
  },
  "papermill": {
   "default_parameters": {},
   "duration": 9.651012,
   "end_time": "2021-12-18T20:00:14.835759",
   "environment_variables": {},
   "exception": null,
   "input_path": "eBay_Overview.ipynb",
   "output_path": "eBay_Overview.ipynb",
   "parameters": {},
   "start_time": "2021-12-18T20:00:05.184747",
   "version": "2.3.3"
  }
 },
 "nbformat": 4,
 "nbformat_minor": 5
}