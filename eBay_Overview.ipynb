{
 "cells": [
  {
   "cell_type": "code",
   "execution_count": 1,
   "id": "reverse-picking",
   "metadata": {
    "execution": {
     "iopub.execute_input": "2021-08-29T21:30:07.294433Z",
     "iopub.status.busy": "2021-08-29T21:30:07.292410Z",
     "iopub.status.idle": "2021-08-29T21:30:08.094725Z",
     "shell.execute_reply": "2021-08-29T21:30:08.096057Z"
    },
    "papermill": {
     "duration": 0.853882,
     "end_time": "2021-08-29T21:30:08.096779",
     "exception": false,
     "start_time": "2021-08-29T21:30:07.242897",
     "status": "completed"
    },
    "tags": []
   },
   "outputs": [],
   "source": [
    "import pandas as pd\n",
    "import sqlite3"
   ]
  },
  {
   "cell_type": "code",
   "execution_count": 2,
   "id": "innovative-syndrome",
   "metadata": {
    "execution": {
     "iopub.execute_input": "2021-08-29T21:30:08.147922Z",
     "iopub.status.busy": "2021-08-29T21:30:08.145836Z",
     "iopub.status.idle": "2021-08-29T21:30:08.309405Z",
     "shell.execute_reply": "2021-08-29T21:30:08.310629Z"
    },
    "papermill": {
     "duration": 0.193819,
     "end_time": "2021-08-29T21:30:08.311021",
     "exception": false,
     "start_time": "2021-08-29T21:30:08.117202",
     "status": "completed"
    },
    "tags": []
   },
   "outputs": [],
   "source": [
    "timestamps = pd.read_sql(\"select distinct record_time from EBAY_TOP_BERLIN order by record_time desc limit 2\", sqlite3.connect(\"UsedObjects.db\"))"
   ]
  },
  {
   "cell_type": "code",
   "execution_count": 3,
   "id": "periodic-identification",
   "metadata": {
    "execution": {
     "iopub.execute_input": "2021-08-29T21:30:08.377857Z",
     "iopub.status.busy": "2021-08-29T21:30:08.375810Z",
     "iopub.status.idle": "2021-08-29T21:30:08.397496Z",
     "shell.execute_reply": "2021-08-29T21:30:08.398716Z"
    },
    "papermill": {
     "duration": 0.065986,
     "end_time": "2021-08-29T21:30:08.399143",
     "exception": false,
     "start_time": "2021-08-29T21:30:08.333157",
     "status": "completed"
    },
    "tags": []
   },
   "outputs": [
    {
     "data": {
      "text/html": [
       "<div>\n",
       "<style scoped>\n",
       "    .dataframe tbody tr th:only-of-type {\n",
       "        vertical-align: middle;\n",
       "    }\n",
       "\n",
       "    .dataframe tbody tr th {\n",
       "        vertical-align: top;\n",
       "    }\n",
       "\n",
       "    .dataframe thead th {\n",
       "        text-align: right;\n",
       "    }\n",
       "</style>\n",
       "<table border=\"1\" class=\"dataframe\">\n",
       "  <thead>\n",
       "    <tr style=\"text-align: right;\">\n",
       "      <th></th>\n",
       "      <th>RECORD_TIME</th>\n",
       "    </tr>\n",
       "  </thead>\n",
       "  <tbody>\n",
       "    <tr>\n",
       "      <th>0</th>\n",
       "      <td>2021-08-29 23:30</td>\n",
       "    </tr>\n",
       "    <tr>\n",
       "      <th>1</th>\n",
       "      <td>2021-08-29 23:00</td>\n",
       "    </tr>\n",
       "  </tbody>\n",
       "</table>\n",
       "</div>"
      ],
      "text/plain": [
       "        RECORD_TIME\n",
       "0  2021-08-29 23:30\n",
       "1  2021-08-29 23:00"
      ]
     },
     "execution_count": 3,
     "metadata": {},
     "output_type": "execute_result"
    }
   ],
   "source": [
    "timestamps"
   ]
  },
  {
   "cell_type": "code",
   "execution_count": 4,
   "id": "alternate-victory",
   "metadata": {
    "execution": {
     "iopub.execute_input": "2021-08-29T21:30:08.453782Z",
     "iopub.status.busy": "2021-08-29T21:30:08.451394Z",
     "iopub.status.idle": "2021-08-29T21:30:08.688759Z",
     "shell.execute_reply": "2021-08-29T21:30:08.690173Z"
    },
    "papermill": {
     "duration": 0.268089,
     "end_time": "2021-08-29T21:30:08.690609",
     "exception": false,
     "start_time": "2021-08-29T21:30:08.422520",
     "status": "completed"
    },
    "tags": []
   },
   "outputs": [],
   "source": [
    "df = pd.read_sql(\"select * from EBAY_TOP_BERLIN where record_time in (select distinct record_time from EBAY_TOP_BERLIN order by record_time desc limit 2)\", sqlite3.connect(\"UsedObjects.db\"))"
   ]
  },
  {
   "cell_type": "code",
   "execution_count": 5,
   "id": "popular-active",
   "metadata": {
    "execution": {
     "iopub.execute_input": "2021-08-29T21:30:08.788090Z",
     "iopub.status.busy": "2021-08-29T21:30:08.775854Z",
     "iopub.status.idle": "2021-08-29T21:30:08.804178Z",
     "shell.execute_reply": "2021-08-29T21:30:08.805717Z"
    },
    "papermill": {
     "duration": 0.076468,
     "end_time": "2021-08-29T21:30:08.806163",
     "exception": false,
     "start_time": "2021-08-29T21:30:08.729695",
     "status": "completed"
    },
    "tags": []
   },
   "outputs": [],
   "source": [
    "df_pivot = df.pivot_table(index=\"PRODUCT\", columns = \"RECORD_TIME\", values = \"LISTING_COUNT\")"
   ]
  },
  {
   "cell_type": "code",
   "execution_count": 6,
   "id": "union-huntington",
   "metadata": {
    "execution": {
     "iopub.execute_input": "2021-08-29T21:30:08.862628Z",
     "iopub.status.busy": "2021-08-29T21:30:08.860453Z",
     "iopub.status.idle": "2021-08-29T21:30:08.865852Z",
     "shell.execute_reply": "2021-08-29T21:30:08.867117Z"
    },
    "papermill": {
     "duration": 0.040579,
     "end_time": "2021-08-29T21:30:08.867558",
     "exception": false,
     "start_time": "2021-08-29T21:30:08.826979",
     "status": "completed"
    },
    "tags": []
   },
   "outputs": [],
   "source": [
    "df_pivot.columns = [\"stamp_1\", \"stamp_2\"]\n",
    "df_pivot_diff = df_pivot.diff(axis=1)"
   ]
  },
  {
   "cell_type": "code",
   "execution_count": 7,
   "id": "fifth-motion",
   "metadata": {
    "execution": {
     "iopub.execute_input": "2021-08-29T21:30:08.923099Z",
     "iopub.status.busy": "2021-08-29T21:30:08.920438Z",
     "iopub.status.idle": "2021-08-29T21:30:10.427045Z",
     "shell.execute_reply": "2021-08-29T21:30:10.428354Z"
    },
    "papermill": {
     "duration": 1.540072,
     "end_time": "2021-08-29T21:30:10.428800",
     "exception": false,
     "start_time": "2021-08-29T21:30:08.888728",
     "status": "completed"
    },
    "tags": []
   },
   "outputs": [
    {
     "data": {
      "text/plain": [
       "<AxesSubplot:ylabel='PRODUCT'>"
      ]
     },
     "execution_count": 7,
     "metadata": {},
     "output_type": "execute_result"
    },
    {
     "data": {
      "image/png": "[encoded data removed]",
      "text/plain": [
       "<Figure size 432x288 with 1 Axes>"
      ]
     },
     "metadata": {
      "needs_background": "light"
     },
     "output_type": "display_data"
    }
   ],
   "source": [
    "df_pivot_diff.sort_values(\"stamp_2\", ascending = False)[\"stamp_2\"].head(10).plot.barh()"
   ]
  },
  {
   "cell_type": "code",
   "execution_count": null,
   "id": "extra-executive",
   "metadata": {
    "papermill": {
     "duration": 0.022172,
     "end_time": "2021-08-29T21:30:10.474557",
     "exception": false,
     "start_time": "2021-08-29T21:30:10.452385",
     "status": "completed"
    },
    "tags": []
   },
   "outputs": [],
   "source": []
  }
 ],
 "metadata": {
  "kernelspec": {
   "display_name": "Python 3",
   "language": "python",
   "name": "python3"
  },
  "language_info": {
   "codemirror_mode": {
    "name": "ipython",
    "version": 3
   },
   "file_extension": ".py",
   "mimetype": "text/x-python",
   "name": "python",
   "nbconvert_exporter": "python",
   "pygments_lexer": "ipython3",
   "version": "3.9.5"
  },
  "papermill": {
   "default_parameters": {},
   "duration": 6.826874,
   "end_time": "2021-08-29T21:30:11.656429",
   "environment_variables": {},
   "exception": null,
   "input_path": "eBay_Overview.ipynb",
   "output_path": "eBay_Overview.ipynb",
   "parameters": {},
   "start_time": "2021-08-29T21:30:04.829555",
   "version": "2.3.3"
  }
 },
 "nbformat": 4,
 "nbformat_minor": 5
}