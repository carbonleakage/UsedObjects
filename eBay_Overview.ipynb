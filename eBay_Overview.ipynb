{
 "cells": [
  {
   "cell_type": "code",
   "execution_count": 1,
   "id": "reverse-picking",
   "metadata": {
    "execution": {
     "iopub.execute_input": "2021-09-20T13:30:06.604689Z",
     "iopub.status.busy": "2021-09-20T13:30:06.602690Z",
     "iopub.status.idle": "2021-09-20T13:30:07.407498Z",
     "shell.execute_reply": "2021-09-20T13:30:07.408838Z"
    },
    "papermill": {
     "duration": 0.856897,
     "end_time": "2021-09-20T13:30:07.409490",
     "exception": false,
     "start_time": "2021-09-20T13:30:06.552593",
     "status": "completed"
    },
    "tags": []
   },
   "outputs": [],
   "source": [
    "import pandas as pd\n",
    "import sqlite3"
   ]
  },
  {
   "cell_type": "code",
   "execution_count": 2,
   "id": "innovative-syndrome",
   "metadata": {
    "execution": {
     "iopub.execute_input": "2021-09-20T13:30:07.460839Z",
     "iopub.status.busy": "2021-09-20T13:30:07.458975Z",
     "iopub.status.idle": "2021-09-20T13:30:07.791454Z",
     "shell.execute_reply": "2021-09-20T13:30:07.792588Z"
    },
    "papermill": {
     "duration": 0.361794,
     "end_time": "2021-09-20T13:30:07.792994",
     "exception": false,
     "start_time": "2021-09-20T13:30:07.431200",
     "status": "completed"
    },
    "tags": []
   },
   "outputs": [],
   "source": [
    "timestamps = pd.read_sql(\"select distinct record_time from EBAY_TOP_BERLIN order by record_time desc limit 2\", sqlite3.connect(\"UsedObjects.db\"))"
   ]
  },
  {
   "cell_type": "code",
   "execution_count": 3,
   "id": "periodic-identification",
   "metadata": {
    "execution": {
     "iopub.execute_input": "2021-09-20T13:30:07.858222Z",
     "iopub.status.busy": "2021-09-20T13:30:07.856208Z",
     "iopub.status.idle": "2021-09-20T13:30:07.876205Z",
     "shell.execute_reply": "2021-09-20T13:30:07.877494Z"
    },
    "papermill": {
     "duration": 0.064392,
     "end_time": "2021-09-20T13:30:07.877909",
     "exception": false,
     "start_time": "2021-09-20T13:30:07.813517",
     "status": "completed"
    },
    "tags": []
   },
   "outputs": [
    {
     "data": {
      "text/html": [
       "<div>\n",
       "<style scoped>\n",
       "    .dataframe tbody tr th:only-of-type {\n",
       "        vertical-align: middle;\n",
       "    }\n",
       "\n",
       "    .dataframe tbody tr th {\n",
       "        vertical-align: top;\n",
       "    }\n",
       "\n",
       "    .dataframe thead th {\n",
       "        text-align: right;\n",
       "    }\n",
       "</style>\n",
       "<table border=\"1\" class=\"dataframe\">\n",
       "  <thead>\n",
       "    <tr style=\"text-align: right;\">\n",
       "      <th></th>\n",
       "      <th>RECORD_TIME</th>\n",
       "    </tr>\n",
       "  </thead>\n",
       "  <tbody>\n",
       "    <tr>\n",
       "      <th>0</th>\n",
       "      <td>2021-09-20 15:30</td>\n",
       "    </tr>\n",
       "    <tr>\n",
       "      <th>1</th>\n",
       "      <td>2021-09-20 15:00</td>\n",
       "    </tr>\n",
       "  </tbody>\n",
       "</table>\n",
       "</div>"
      ],
      "text/plain": [
       "        RECORD_TIME\n",
       "0  2021-09-20 15:30\n",
       "1  2021-09-20 15:00"
      ]
     },
     "execution_count": 3,
     "metadata": {},
     "output_type": "execute_result"
    }
   ],
   "source": [
    "timestamps"
   ]
  },
  {
   "cell_type": "code",
   "execution_count": 4,
   "id": "alternate-victory",
   "metadata": {
    "execution": {
     "iopub.execute_input": "2021-09-20T13:30:07.928937Z",
     "iopub.status.busy": "2021-09-20T13:30:07.926742Z",
     "iopub.status.idle": "2021-09-20T13:30:08.417837Z",
     "shell.execute_reply": "2021-09-20T13:30:08.416526Z"
    },
    "papermill": {
     "duration": 0.51949,
     "end_time": "2021-09-20T13:30:08.418168",
     "exception": false,
     "start_time": "2021-09-20T13:30:07.898678",
     "status": "completed"
    },
    "tags": []
   },
   "outputs": [],
   "source": [
    "df = pd.read_sql(\"select * from EBAY_TOP_BERLIN where record_time in (select distinct record_time from EBAY_TOP_BERLIN order by record_time desc limit 2)\", sqlite3.connect(\"UsedObjects.db\"))"
   ]
  },
  {
   "cell_type": "code",
   "execution_count": 5,
   "id": "popular-active",
   "metadata": {
    "execution": {
     "iopub.execute_input": "2021-09-20T13:30:08.497326Z",
     "iopub.status.busy": "2021-09-20T13:30:08.485796Z",
     "iopub.status.idle": "2021-09-20T13:30:08.513105Z",
     "shell.execute_reply": "2021-09-20T13:30:08.514392Z"
    },
    "papermill": {
     "duration": 0.070815,
     "end_time": "2021-09-20T13:30:08.514844",
     "exception": false,
     "start_time": "2021-09-20T13:30:08.444029",
     "status": "completed"
    },
    "tags": []
   },
   "outputs": [],
   "source": [
    "df_pivot = df.pivot_table(index=\"PRODUCT\", columns = \"RECORD_TIME\", values = \"LISTING_COUNT\")"
   ]
  },
  {
   "cell_type": "code",
   "execution_count": 6,
   "id": "union-huntington",
   "metadata": {
    "execution": {
     "iopub.execute_input": "2021-09-20T13:30:08.570598Z",
     "iopub.status.busy": "2021-09-20T13:30:08.568570Z",
     "iopub.status.idle": "2021-09-20T13:30:08.573948Z",
     "shell.execute_reply": "2021-09-20T13:30:08.575211Z"
    },
    "papermill": {
     "duration": 0.040744,
     "end_time": "2021-09-20T13:30:08.575649",
     "exception": false,
     "start_time": "2021-09-20T13:30:08.534905",
     "status": "completed"
    },
    "tags": []
   },
   "outputs": [],
   "source": [
    "df_pivot.columns = [\"stamp_1\", \"stamp_2\"]\n",
    "df_pivot_diff = df_pivot.diff(axis=1)"
   ]
  },
  {
   "cell_type": "code",
   "execution_count": 7,
   "id": "fifth-motion",
   "metadata": {
    "execution": {
     "iopub.execute_input": "2021-09-20T13:30:08.632334Z",
     "iopub.status.busy": "2021-09-20T13:30:08.629797Z",
     "iopub.status.idle": "2021-09-20T13:30:10.152583Z",
     "shell.execute_reply": "2021-09-20T13:30:10.153778Z"
    },
    "papermill": {
     "duration": 1.555713,
     "end_time": "2021-09-20T13:30:10.154208",
     "exception": false,
     "start_time": "2021-09-20T13:30:08.598495",
     "status": "completed"
    },
    "tags": []
   },
   "outputs": [
    {
     "data": {
      "text/plain": [
       "<AxesSubplot:ylabel='PRODUCT'>"
      ]
     },
     "execution_count": 7,
     "metadata": {},
     "output_type": "execute_result"
    },
    {
     "data": {
      "image/png": "[encoded data removed]",
      "text/plain": [
       "<Figure size 432x288 with 1 Axes>"
      ]
     },
     "metadata": {
      "needs_background": "light"
     },
     "output_type": "display_data"
    }
   ],
   "source": [
    "df_pivot_diff.sort_values(\"stamp_2\", ascending = False)[\"stamp_2\"].head(10).plot.barh()"
   ]
  },
  {
   "cell_type": "code",
   "execution_count": null,
   "id": "extra-executive",
   "metadata": {
    "papermill": {
     "duration": 0.022216,
     "end_time": "2021-09-20T13:30:10.200129",
     "exception": false,
     "start_time": "2021-09-20T13:30:10.177913",
     "status": "completed"
    },
    "tags": []
   },
   "outputs": [],
   "source": []
  }
 ],
 "metadata": {
  "kernelspec": {
   "display_name": "Python 3",
   "language": "python",
   "name": "python3"
  },
  "language_info": {
   "codemirror_mode": {
    "name": "ipython",
    "version": 3
   },
   "file_extension": ".py",
   "mimetype": "text/x-python",
   "name": "python",
   "nbconvert_exporter": "python",
   "pygments_lexer": "ipython3",
   "version": "3.9.5"
  },
  "papermill": {
   "default_parameters": {},
   "duration": 6.681884,
   "end_time": "2021-09-20T13:30:10.841582",
   "environment_variables": {},
   "exception": null,
   "input_path": "eBay_Overview.ipynb",
   "output_path": "eBay_Overview.ipynb",
   "parameters": {},
   "start_time": "2021-09-20T13:30:04.159698",
   "version": "2.3.3"
  }
 },
 "nbformat": 4,
 "nbformat_minor": 5
}