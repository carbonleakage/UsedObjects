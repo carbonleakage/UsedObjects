{
 "cells": [
  {
   "cell_type": "code",
   "execution_count": 1,
   "id": "reverse-picking",
   "metadata": {
    "execution": {
     "iopub.execute_input": "2021-11-16T21:00:07.140741Z",
     "iopub.status.busy": "2021-11-16T21:00:07.138537Z",
     "iopub.status.idle": "2021-11-16T21:00:08.103042Z",
     "shell.execute_reply": "2021-11-16T21:00:08.101173Z"
    },
    "papermill": {
     "duration": 1.009784,
     "end_time": "2021-11-16T21:00:08.103534",
     "exception": false,
     "start_time": "2021-11-16T21:00:07.093750",
     "status": "completed"
    },
    "tags": []
   },
   "outputs": [],
   "source": [
    "import pandas as pd\n",
    "import sqlite3"
   ]
  },
  {
   "cell_type": "code",
   "execution_count": 2,
   "id": "innovative-syndrome",
   "metadata": {
    "execution": {
     "iopub.execute_input": "2021-11-16T21:00:08.172922Z",
     "iopub.status.busy": "2021-11-16T21:00:08.170587Z",
     "iopub.status.idle": "2021-11-16T21:00:09.008618Z",
     "shell.execute_reply": "2021-11-16T21:00:09.010036Z"
    },
    "papermill": {
     "duration": 0.871782,
     "end_time": "2021-11-16T21:00:09.010496",
     "exception": false,
     "start_time": "2021-11-16T21:00:08.138714",
     "status": "completed"
    },
    "tags": []
   },
   "outputs": [],
   "source": [
    "timestamps = pd.read_sql(\"select distinct record_time from EBAY_TOP_BERLIN order by record_time desc limit 2\", sqlite3.connect(\"UsedObjects.db\"))"
   ]
  },
  {
   "cell_type": "code",
   "execution_count": 3,
   "id": "periodic-identification",
   "metadata": {
    "execution": {
     "iopub.execute_input": "2021-11-16T21:00:09.080082Z",
     "iopub.status.busy": "2021-11-16T21:00:09.077596Z",
     "iopub.status.idle": "2021-11-16T21:00:09.100769Z",
     "shell.execute_reply": "2021-11-16T21:00:09.102269Z"
    },
    "papermill": {
     "duration": 0.071716,
     "end_time": "2021-11-16T21:00:09.102765",
     "exception": false,
     "start_time": "2021-11-16T21:00:09.031049",
     "status": "completed"
    },
    "tags": []
   },
   "outputs": [
    {
     "data": {
      "text/html": [
       "<div>\n",
       "<style scoped>\n",
       "    .dataframe tbody tr th:only-of-type {\n",
       "        vertical-align: middle;\n",
       "    }\n",
       "\n",
       "    .dataframe tbody tr th {\n",
       "        vertical-align: top;\n",
       "    }\n",
       "\n",
       "    .dataframe thead th {\n",
       "        text-align: right;\n",
       "    }\n",
       "</style>\n",
       "<table border=\"1\" class=\"dataframe\">\n",
       "  <thead>\n",
       "    <tr style=\"text-align: right;\">\n",
       "      <th></th>\n",
       "      <th>RECORD_TIME</th>\n",
       "    </tr>\n",
       "  </thead>\n",
       "  <tbody>\n",
       "    <tr>\n",
       "      <th>0</th>\n",
       "      <td>2021-11-16 22:00</td>\n",
       "    </tr>\n",
       "    <tr>\n",
       "      <th>1</th>\n",
       "      <td>2021-11-16 21:30</td>\n",
       "    </tr>\n",
       "  </tbody>\n",
       "</table>\n",
       "</div>"
      ],
      "text/plain": [
       "        RECORD_TIME\n",
       "0  2021-11-16 22:00\n",
       "1  2021-11-16 21:30"
      ]
     },
     "execution_count": 3,
     "metadata": {},
     "output_type": "execute_result"
    }
   ],
   "source": [
    "timestamps"
   ]
  },
  {
   "cell_type": "code",
   "execution_count": 4,
   "id": "alternate-victory",
   "metadata": {
    "execution": {
     "iopub.execute_input": "2021-11-16T21:00:09.159272Z",
     "iopub.status.busy": "2021-11-16T21:00:09.157002Z",
     "iopub.status.idle": "2021-11-16T21:00:10.359609Z",
     "shell.execute_reply": "2021-11-16T21:00:10.362495Z"
    },
    "papermill": {
     "duration": 1.239046,
     "end_time": "2021-11-16T21:00:10.363122",
     "exception": false,
     "start_time": "2021-11-16T21:00:09.124076",
     "status": "completed"
    },
    "tags": []
   },
   "outputs": [],
   "source": [
    "df = pd.read_sql(\"select * from EBAY_TOP_BERLIN where record_time in (select distinct record_time from EBAY_TOP_BERLIN order by record_time desc limit 2)\", sqlite3.connect(\"UsedObjects.db\"))"
   ]
  },
  {
   "cell_type": "code",
   "execution_count": 5,
   "id": "popular-active",
   "metadata": {
    "execution": {
     "iopub.execute_input": "2021-11-16T21:00:10.438398Z",
     "iopub.status.busy": "2021-11-16T21:00:10.425837Z",
     "iopub.status.idle": "2021-11-16T21:00:10.456011Z",
     "shell.execute_reply": "2021-11-16T21:00:10.457440Z"
    },
    "papermill": {
     "duration": 0.072961,
     "end_time": "2021-11-16T21:00:10.457915",
     "exception": false,
     "start_time": "2021-11-16T21:00:10.384954",
     "status": "completed"
    },
    "tags": []
   },
   "outputs": [],
   "source": [
    "df_pivot = df.pivot_table(index=\"PRODUCT\", columns = \"RECORD_TIME\", values = \"LISTING_COUNT\")"
   ]
  },
  {
   "cell_type": "code",
   "execution_count": 6,
   "id": "union-huntington",
   "metadata": {
    "execution": {
     "iopub.execute_input": "2021-11-16T21:00:10.519374Z",
     "iopub.status.busy": "2021-11-16T21:00:10.516348Z",
     "iopub.status.idle": "2021-11-16T21:00:10.522800Z",
     "shell.execute_reply": "2021-11-16T21:00:10.525038Z"
    },
    "papermill": {
     "duration": 0.047719,
     "end_time": "2021-11-16T21:00:10.525654",
     "exception": false,
     "start_time": "2021-11-16T21:00:10.477935",
     "status": "completed"
    },
    "tags": []
   },
   "outputs": [],
   "source": [
    "df_pivot.columns = [\"stamp_1\", \"stamp_2\"]\n",
    "df_pivot_diff = df_pivot.diff(axis=1)"
   ]
  },
  {
   "cell_type": "code",
   "execution_count": 7,
   "id": "fifth-motion",
   "metadata": {
    "execution": {
     "iopub.execute_input": "2021-11-16T21:00:10.610421Z",
     "iopub.status.busy": "2021-11-16T21:00:10.607026Z",
     "iopub.status.idle": "2021-11-16T21:00:12.335327Z",
     "shell.execute_reply": "2021-11-16T21:00:12.338211Z"
    },
    "papermill": {
     "duration": 1.784609,
     "end_time": "2021-11-16T21:00:12.339048",
     "exception": false,
     "start_time": "2021-11-16T21:00:10.554439",
     "status": "completed"
    },
    "tags": []
   },
   "outputs": [
    {
     "data": {
      "text/plain": [
       "<AxesSubplot:ylabel='PRODUCT'>"
      ]
     },
     "execution_count": 7,
     "metadata": {},
     "output_type": "execute_result"
    },
    {
     "data": {
      "image/png": "[encoded data removed]",
      "text/plain": [
       "<Figure size 432x288 with 1 Axes>"
      ]
     },
     "metadata": {
      "needs_background": "light"
     },
     "output_type": "display_data"
    }
   ],
   "source": [
    "df_pivot_diff.sort_values(\"stamp_2\", ascending = False)[\"stamp_2\"].head(10).plot.barh()"
   ]
  },
  {
   "cell_type": "code",
   "execution_count": null,
   "id": "extra-executive",
   "metadata": {
    "papermill": {
     "duration": 0.038278,
     "end_time": "2021-11-16T21:00:12.416308",
     "exception": false,
     "start_time": "2021-11-16T21:00:12.378030",
     "status": "completed"
    },
    "tags": []
   },
   "outputs": [],
   "source": []
  }
 ],
 "metadata": {
  "kernelspec": {
   "display_name": "Python 3",
   "language": "python",
   "name": "python3"
  },
  "language_info": {
   "codemirror_mode": {
    "name": "ipython",
    "version": 3
   },
   "file_extension": ".py",
   "mimetype": "text/x-python",
   "name": "python",
   "nbconvert_exporter": "python",
   "pygments_lexer": "ipython3",
   "version": "3.9.5"
  },
  "papermill": {
   "default_parameters": {},
   "duration": 8.941529,
   "end_time": "2021-11-16T21:00:13.286619",
   "environment_variables": {},
   "exception": null,
   "input_path": "eBay_Overview.ipynb",
   "output_path": "eBay_Overview.ipynb",
   "parameters": {},
   "start_time": "2021-11-16T21:00:04.345090",
   "version": "2.3.3"
  }
 },
 "nbformat": 4,
 "nbformat_minor": 5
}