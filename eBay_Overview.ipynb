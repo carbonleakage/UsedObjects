{
 "cells": [
  {
   "cell_type": "code",
   "execution_count": 1,
   "id": "reverse-picking",
   "metadata": {
    "execution": {
     "iopub.execute_input": "2021-09-08T23:30:07.416889Z",
     "iopub.status.busy": "2021-09-08T23:30:07.414939Z",
     "iopub.status.idle": "2021-09-08T23:30:08.227478Z",
     "shell.execute_reply": "2021-09-08T23:30:08.228747Z"
    },
    "papermill": {
     "duration": 0.863373,
     "end_time": "2021-09-08T23:30:08.229380",
     "exception": false,
     "start_time": "2021-09-08T23:30:07.366007",
     "status": "completed"
    },
    "tags": []
   },
   "outputs": [],
   "source": [
    "import pandas as pd\n",
    "import sqlite3"
   ]
  },
  {
   "cell_type": "code",
   "execution_count": 2,
   "id": "innovative-syndrome",
   "metadata": {
    "execution": {
     "iopub.execute_input": "2021-09-08T23:30:08.280424Z",
     "iopub.status.busy": "2021-09-08T23:30:08.278406Z",
     "iopub.status.idle": "2021-09-08T23:30:08.529721Z",
     "shell.execute_reply": "2021-09-08T23:30:08.531008Z"
    },
    "papermill": {
     "duration": 0.281249,
     "end_time": "2021-09-08T23:30:08.531469",
     "exception": false,
     "start_time": "2021-09-08T23:30:08.250220",
     "status": "completed"
    },
    "tags": []
   },
   "outputs": [],
   "source": [
    "timestamps = pd.read_sql(\"select distinct record_time from EBAY_TOP_BERLIN order by record_time desc limit 2\", sqlite3.connect(\"UsedObjects.db\"))"
   ]
  },
  {
   "cell_type": "code",
   "execution_count": 3,
   "id": "periodic-identification",
   "metadata": {
    "execution": {
     "iopub.execute_input": "2021-09-08T23:30:08.597911Z",
     "iopub.status.busy": "2021-09-08T23:30:08.595870Z",
     "iopub.status.idle": "2021-09-08T23:30:08.615755Z",
     "shell.execute_reply": "2021-09-08T23:30:08.616960Z"
    },
    "papermill": {
     "duration": 0.066197,
     "end_time": "2021-09-08T23:30:08.617387",
     "exception": false,
     "start_time": "2021-09-08T23:30:08.551190",
     "status": "completed"
    },
    "tags": []
   },
   "outputs": [
    {
     "data": {
      "text/html": [
       "<div>\n",
       "<style scoped>\n",
       "    .dataframe tbody tr th:only-of-type {\n",
       "        vertical-align: middle;\n",
       "    }\n",
       "\n",
       "    .dataframe tbody tr th {\n",
       "        vertical-align: top;\n",
       "    }\n",
       "\n",
       "    .dataframe thead th {\n",
       "        text-align: right;\n",
       "    }\n",
       "</style>\n",
       "<table border=\"1\" class=\"dataframe\">\n",
       "  <thead>\n",
       "    <tr style=\"text-align: right;\">\n",
       "      <th></th>\n",
       "      <th>RECORD_TIME</th>\n",
       "    </tr>\n",
       "  </thead>\n",
       "  <tbody>\n",
       "    <tr>\n",
       "      <th>0</th>\n",
       "      <td>2021-09-09 01:30</td>\n",
       "    </tr>\n",
       "    <tr>\n",
       "      <th>1</th>\n",
       "      <td>2021-09-09 01:00</td>\n",
       "    </tr>\n",
       "  </tbody>\n",
       "</table>\n",
       "</div>"
      ],
      "text/plain": [
       "        RECORD_TIME\n",
       "0  2021-09-09 01:30\n",
       "1  2021-09-09 01:00"
      ]
     },
     "execution_count": 3,
     "metadata": {},
     "output_type": "execute_result"
    }
   ],
   "source": [
    "timestamps"
   ]
  },
  {
   "cell_type": "code",
   "execution_count": 4,
   "id": "alternate-victory",
   "metadata": {
    "execution": {
     "iopub.execute_input": "2021-09-08T23:30:08.668705Z",
     "iopub.status.busy": "2021-09-08T23:30:08.666735Z",
     "iopub.status.idle": "2021-09-08T23:30:09.023358Z",
     "shell.execute_reply": "2021-09-08T23:30:09.024591Z"
    },
    "papermill": {
     "duration": 0.386877,
     "end_time": "2021-09-08T23:30:09.024988",
     "exception": false,
     "start_time": "2021-09-08T23:30:08.638111",
     "status": "completed"
    },
    "tags": []
   },
   "outputs": [],
   "source": [
    "df = pd.read_sql(\"select * from EBAY_TOP_BERLIN where record_time in (select distinct record_time from EBAY_TOP_BERLIN order by record_time desc limit 2)\", sqlite3.connect(\"UsedObjects.db\"))"
   ]
  },
  {
   "cell_type": "code",
   "execution_count": 5,
   "id": "popular-active",
   "metadata": {
    "execution": {
     "iopub.execute_input": "2021-09-08T23:30:09.109930Z",
     "iopub.status.busy": "2021-09-08T23:30:09.098620Z",
     "iopub.status.idle": "2021-09-08T23:30:09.125522Z",
     "shell.execute_reply": "2021-09-08T23:30:09.126811Z"
    },
    "papermill": {
     "duration": 0.072382,
     "end_time": "2021-09-08T23:30:09.127290",
     "exception": false,
     "start_time": "2021-09-08T23:30:09.054908",
     "status": "completed"
    },
    "tags": []
   },
   "outputs": [],
   "source": [
    "df_pivot = df.pivot_table(index=\"PRODUCT\", columns = \"RECORD_TIME\", values = \"LISTING_COUNT\")"
   ]
  },
  {
   "cell_type": "code",
   "execution_count": 6,
   "id": "union-huntington",
   "metadata": {
    "execution": {
     "iopub.execute_input": "2021-09-08T23:30:09.184087Z",
     "iopub.status.busy": "2021-09-08T23:30:09.181982Z",
     "iopub.status.idle": "2021-09-08T23:30:09.187279Z",
     "shell.execute_reply": "2021-09-08T23:30:09.188585Z"
    },
    "papermill": {
     "duration": 0.041227,
     "end_time": "2021-09-08T23:30:09.189002",
     "exception": false,
     "start_time": "2021-09-08T23:30:09.147775",
     "status": "completed"
    },
    "tags": []
   },
   "outputs": [],
   "source": [
    "df_pivot.columns = [\"stamp_1\", \"stamp_2\"]\n",
    "df_pivot_diff = df_pivot.diff(axis=1)"
   ]
  },
  {
   "cell_type": "code",
   "execution_count": 7,
   "id": "fifth-motion",
   "metadata": {
    "execution": {
     "iopub.execute_input": "2021-09-08T23:30:09.245864Z",
     "iopub.status.busy": "2021-09-08T23:30:09.243153Z",
     "iopub.status.idle": "2021-09-08T23:30:10.726615Z",
     "shell.execute_reply": "2021-09-08T23:30:10.725197Z"
    },
    "papermill": {
     "duration": 1.51627,
     "end_time": "2021-09-08T23:30:10.727011",
     "exception": false,
     "start_time": "2021-09-08T23:30:09.210741",
     "status": "completed"
    },
    "tags": []
   },
   "outputs": [
    {
     "data": {
      "text/plain": [
       "<AxesSubplot:ylabel='PRODUCT'>"
      ]
     },
     "execution_count": 7,
     "metadata": {},
     "output_type": "execute_result"
    },
    {
     "data": {
      "image/png": "[encoded data removed]",
      "text/plain": [
       "<Figure size 432x288 with 1 Axes>"
      ]
     },
     "metadata": {
      "needs_background": "light"
     },
     "output_type": "display_data"
    }
   ],
   "source": [
    "df_pivot_diff.sort_values(\"stamp_2\", ascending = False)[\"stamp_2\"].head(10).plot.barh()"
   ]
  },
  {
   "cell_type": "code",
   "execution_count": null,
   "id": "extra-executive",
   "metadata": {
    "papermill": {
     "duration": 0.022859,
     "end_time": "2021-09-08T23:30:10.774443",
     "exception": false,
     "start_time": "2021-09-08T23:30:10.751584",
     "status": "completed"
    },
    "tags": []
   },
   "outputs": [],
   "source": []
  }
 ],
 "metadata": {
  "kernelspec": {
   "display_name": "Python 3",
   "language": "python",
   "name": "python3"
  },
  "language_info": {
   "codemirror_mode": {
    "name": "ipython",
    "version": 3
   },
   "file_extension": ".py",
   "mimetype": "text/x-python",
   "name": "python",
   "nbconvert_exporter": "python",
   "pygments_lexer": "ipython3",
   "version": "3.9.5"
  },
  "papermill": {
   "default_parameters": {},
   "duration": 6.463418,
   "end_time": "2021-09-08T23:30:11.415082",
   "environment_variables": {},
   "exception": null,
   "input_path": "eBay_Overview.ipynb",
   "output_path": "eBay_Overview.ipynb",
   "parameters": {},
   "start_time": "2021-09-08T23:30:04.951664",
   "version": "2.3.3"
  }
 },
 "nbformat": 4,
 "nbformat_minor": 5
}