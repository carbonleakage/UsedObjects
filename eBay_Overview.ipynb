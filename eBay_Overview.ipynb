{
 "cells": [
  {
   "cell_type": "code",
   "execution_count": 1,
   "id": "reverse-picking",
   "metadata": {
    "execution": {
     "iopub.execute_input": "2021-09-04T13:30:06.527463Z",
     "iopub.status.busy": "2021-09-04T13:30:06.525454Z",
     "iopub.status.idle": "2021-09-04T13:30:07.327390Z",
     "shell.execute_reply": "2021-09-04T13:30:07.328727Z"
    },
    "papermill": {
     "duration": 0.853194,
     "end_time": "2021-09-04T13:30:07.329375",
     "exception": false,
     "start_time": "2021-09-04T13:30:06.476181",
     "status": "completed"
    },
    "tags": []
   },
   "outputs": [],
   "source": [
    "import pandas as pd\n",
    "import sqlite3"
   ]
  },
  {
   "cell_type": "code",
   "execution_count": 2,
   "id": "innovative-syndrome",
   "metadata": {
    "execution": {
     "iopub.execute_input": "2021-09-04T13:30:07.381622Z",
     "iopub.status.busy": "2021-09-04T13:30:07.379764Z",
     "iopub.status.idle": "2021-09-04T13:30:07.585112Z",
     "shell.execute_reply": "2021-09-04T13:30:07.586304Z"
    },
    "papermill": {
     "duration": 0.235035,
     "end_time": "2021-09-04T13:30:07.586702",
     "exception": false,
     "start_time": "2021-09-04T13:30:07.351667",
     "status": "completed"
    },
    "tags": []
   },
   "outputs": [],
   "source": [
    "timestamps = pd.read_sql(\"select distinct record_time from EBAY_TOP_BERLIN order by record_time desc limit 2\", sqlite3.connect(\"UsedObjects.db\"))"
   ]
  },
  {
   "cell_type": "code",
   "execution_count": 3,
   "id": "periodic-identification",
   "metadata": {
    "execution": {
     "iopub.execute_input": "2021-09-04T13:30:07.651696Z",
     "iopub.status.busy": "2021-09-04T13:30:07.649615Z",
     "iopub.status.idle": "2021-09-04T13:30:07.670101Z",
     "shell.execute_reply": "2021-09-04T13:30:07.671762Z"
    },
    "papermill": {
     "duration": 0.065924,
     "end_time": "2021-09-04T13:30:07.672266",
     "exception": false,
     "start_time": "2021-09-04T13:30:07.606342",
     "status": "completed"
    },
    "tags": []
   },
   "outputs": [
    {
     "data": {
      "text/html": [
       "<div>\n",
       "<style scoped>\n",
       "    .dataframe tbody tr th:only-of-type {\n",
       "        vertical-align: middle;\n",
       "    }\n",
       "\n",
       "    .dataframe tbody tr th {\n",
       "        vertical-align: top;\n",
       "    }\n",
       "\n",
       "    .dataframe thead th {\n",
       "        text-align: right;\n",
       "    }\n",
       "</style>\n",
       "<table border=\"1\" class=\"dataframe\">\n",
       "  <thead>\n",
       "    <tr style=\"text-align: right;\">\n",
       "      <th></th>\n",
       "      <th>RECORD_TIME</th>\n",
       "    </tr>\n",
       "  </thead>\n",
       "  <tbody>\n",
       "    <tr>\n",
       "      <th>0</th>\n",
       "      <td>2021-09-04 15:30</td>\n",
       "    </tr>\n",
       "    <tr>\n",
       "      <th>1</th>\n",
       "      <td>2021-09-04 15:00</td>\n",
       "    </tr>\n",
       "  </tbody>\n",
       "</table>\n",
       "</div>"
      ],
      "text/plain": [
       "        RECORD_TIME\n",
       "0  2021-09-04 15:30\n",
       "1  2021-09-04 15:00"
      ]
     },
     "execution_count": 3,
     "metadata": {},
     "output_type": "execute_result"
    }
   ],
   "source": [
    "timestamps"
   ]
  },
  {
   "cell_type": "code",
   "execution_count": 4,
   "id": "alternate-victory",
   "metadata": {
    "execution": {
     "iopub.execute_input": "2021-09-04T13:30:07.724379Z",
     "iopub.status.busy": "2021-09-04T13:30:07.722464Z",
     "iopub.status.idle": "2021-09-04T13:30:08.022591Z",
     "shell.execute_reply": "2021-09-04T13:30:08.024042Z"
    },
    "papermill": {
     "duration": 0.330307,
     "end_time": "2021-09-04T13:30:08.024457",
     "exception": false,
     "start_time": "2021-09-04T13:30:07.694150",
     "status": "completed"
    },
    "tags": []
   },
   "outputs": [],
   "source": [
    "df = pd.read_sql(\"select * from EBAY_TOP_BERLIN where record_time in (select distinct record_time from EBAY_TOP_BERLIN order by record_time desc limit 2)\", sqlite3.connect(\"UsedObjects.db\"))"
   ]
  },
  {
   "cell_type": "code",
   "execution_count": 5,
   "id": "popular-active",
   "metadata": {
    "execution": {
     "iopub.execute_input": "2021-09-04T13:30:08.105287Z",
     "iopub.status.busy": "2021-09-04T13:30:08.092957Z",
     "iopub.status.idle": "2021-09-04T13:30:08.120647Z",
     "shell.execute_reply": "2021-09-04T13:30:08.121860Z"
    },
    "papermill": {
     "duration": 0.071836,
     "end_time": "2021-09-04T13:30:08.122262",
     "exception": false,
     "start_time": "2021-09-04T13:30:08.050426",
     "status": "completed"
    },
    "tags": []
   },
   "outputs": [],
   "source": [
    "df_pivot = df.pivot_table(index=\"PRODUCT\", columns = \"RECORD_TIME\", values = \"LISTING_COUNT\")"
   ]
  },
  {
   "cell_type": "code",
   "execution_count": 6,
   "id": "union-huntington",
   "metadata": {
    "execution": {
     "iopub.execute_input": "2021-09-04T13:30:08.181723Z",
     "iopub.status.busy": "2021-09-04T13:30:08.179317Z",
     "iopub.status.idle": "2021-09-04T13:30:08.185169Z",
     "shell.execute_reply": "2021-09-04T13:30:08.186445Z"
    },
    "papermill": {
     "duration": 0.042256,
     "end_time": "2021-09-04T13:30:08.186901",
     "exception": false,
     "start_time": "2021-09-04T13:30:08.144645",
     "status": "completed"
    },
    "tags": []
   },
   "outputs": [],
   "source": [
    "df_pivot.columns = [\"stamp_1\", \"stamp_2\"]\n",
    "df_pivot_diff = df_pivot.diff(axis=1)"
   ]
  },
  {
   "cell_type": "code",
   "execution_count": 7,
   "id": "fifth-motion",
   "metadata": {
    "execution": {
     "iopub.execute_input": "2021-09-04T13:30:08.241783Z",
     "iopub.status.busy": "2021-09-04T13:30:08.239503Z",
     "iopub.status.idle": "2021-09-04T13:30:09.710128Z",
     "shell.execute_reply": "2021-09-04T13:30:09.711465Z"
    },
    "papermill": {
     "duration": 1.504216,
     "end_time": "2021-09-04T13:30:09.711931",
     "exception": false,
     "start_time": "2021-09-04T13:30:08.207715",
     "status": "completed"
    },
    "tags": []
   },
   "outputs": [
    {
     "data": {
      "text/plain": [
       "<AxesSubplot:ylabel='PRODUCT'>"
      ]
     },
     "execution_count": 7,
     "metadata": {},
     "output_type": "execute_result"
    },
    {
     "data": {
      "image/png": "[encoded data removed]",
      "text/plain": [
       "<Figure size 432x288 with 1 Axes>"
      ]
     },
     "metadata": {
      "needs_background": "light"
     },
     "output_type": "display_data"
    }
   ],
   "source": [
    "df_pivot_diff.sort_values(\"stamp_2\", ascending = False)[\"stamp_2\"].head(10).plot.barh()"
   ]
  },
  {
   "cell_type": "code",
   "execution_count": null,
   "id": "extra-executive",
   "metadata": {
    "papermill": {
     "duration": 0.022351,
     "end_time": "2021-09-04T13:30:09.759056",
     "exception": false,
     "start_time": "2021-09-04T13:30:09.736705",
     "status": "completed"
    },
    "tags": []
   },
   "outputs": [],
   "source": []
  }
 ],
 "metadata": {
  "kernelspec": {
   "display_name": "Python 3",
   "language": "python",
   "name": "python3"
  },
  "language_info": {
   "codemirror_mode": {
    "name": "ipython",
    "version": 3
   },
   "file_extension": ".py",
   "mimetype": "text/x-python",
   "name": "python",
   "nbconvert_exporter": "python",
   "pygments_lexer": "ipython3",
   "version": "3.9.5"
  },
  "papermill": {
   "default_parameters": {},
   "duration": 6.32733,
   "end_time": "2021-09-04T13:30:10.400047",
   "environment_variables": {},
   "exception": null,
   "input_path": "eBay_Overview.ipynb",
   "output_path": "eBay_Overview.ipynb",
   "parameters": {},
   "start_time": "2021-09-04T13:30:04.072717",
   "version": "2.3.3"
  }
 },
 "nbformat": 4,
 "nbformat_minor": 5
}