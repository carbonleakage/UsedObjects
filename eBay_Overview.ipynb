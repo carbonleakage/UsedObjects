{
 "cells": [
  {
   "cell_type": "code",
   "execution_count": 1,
   "id": "reverse-picking",
   "metadata": {
    "execution": {
     "iopub.execute_input": "2021-12-16T23:30:07.870320Z",
     "iopub.status.busy": "2021-12-16T23:30:07.867952Z",
     "iopub.status.idle": "2021-12-16T23:30:08.838035Z",
     "shell.execute_reply": "2021-12-16T23:30:08.839675Z"
    },
    "papermill": {
     "duration": 1.019841,
     "end_time": "2021-12-16T23:30:08.840435",
     "exception": false,
     "start_time": "2021-12-16T23:30:07.820594",
     "status": "completed"
    },
    "tags": []
   },
   "outputs": [],
   "source": [
    "import pandas as pd\n",
    "import sqlite3"
   ]
  },
  {
   "cell_type": "code",
   "execution_count": 2,
   "id": "innovative-syndrome",
   "metadata": {
    "execution": {
     "iopub.execute_input": "2021-12-16T23:30:08.905454Z",
     "iopub.status.busy": "2021-12-16T23:30:08.903037Z",
     "iopub.status.idle": "2021-12-16T23:30:10.022604Z",
     "shell.execute_reply": "2021-12-16T23:30:10.024117Z"
    },
    "papermill": {
     "duration": 1.155785,
     "end_time": "2021-12-16T23:30:10.024591",
     "exception": false,
     "start_time": "2021-12-16T23:30:08.868806",
     "status": "completed"
    },
    "tags": []
   },
   "outputs": [],
   "source": [
    "timestamps = pd.read_sql(\"select distinct record_time from EBAY_TOP_BERLIN order by record_time desc limit 2\", sqlite3.connect(\"UsedObjects.db\"))"
   ]
  },
  {
   "cell_type": "code",
   "execution_count": 3,
   "id": "periodic-identification",
   "metadata": {
    "execution": {
     "iopub.execute_input": "2021-12-16T23:30:10.097378Z",
     "iopub.status.busy": "2021-12-16T23:30:10.095027Z",
     "iopub.status.idle": "2021-12-16T23:30:10.118696Z",
     "shell.execute_reply": "2021-12-16T23:30:10.120089Z"
    },
    "papermill": {
     "duration": 0.073023,
     "end_time": "2021-12-16T23:30:10.120601",
     "exception": false,
     "start_time": "2021-12-16T23:30:10.047578",
     "status": "completed"
    },
    "tags": []
   },
   "outputs": [
    {
     "data": {
      "text/html": [
       "<div>\n",
       "<style scoped>\n",
       "    .dataframe tbody tr th:only-of-type {\n",
       "        vertical-align: middle;\n",
       "    }\n",
       "\n",
       "    .dataframe tbody tr th {\n",
       "        vertical-align: top;\n",
       "    }\n",
       "\n",
       "    .dataframe thead th {\n",
       "        text-align: right;\n",
       "    }\n",
       "</style>\n",
       "<table border=\"1\" class=\"dataframe\">\n",
       "  <thead>\n",
       "    <tr style=\"text-align: right;\">\n",
       "      <th></th>\n",
       "      <th>RECORD_TIME</th>\n",
       "    </tr>\n",
       "  </thead>\n",
       "  <tbody>\n",
       "    <tr>\n",
       "      <th>0</th>\n",
       "      <td>2021-12-17 00:30</td>\n",
       "    </tr>\n",
       "    <tr>\n",
       "      <th>1</th>\n",
       "      <td>2021-12-17 00:00</td>\n",
       "    </tr>\n",
       "  </tbody>\n",
       "</table>\n",
       "</div>"
      ],
      "text/plain": [
       "        RECORD_TIME\n",
       "0  2021-12-17 00:30\n",
       "1  2021-12-17 00:00"
      ]
     },
     "execution_count": 3,
     "metadata": {},
     "output_type": "execute_result"
    }
   ],
   "source": [
    "timestamps"
   ]
  },
  {
   "cell_type": "code",
   "execution_count": 4,
   "id": "alternate-victory",
   "metadata": {
    "execution": {
     "iopub.execute_input": "2021-12-16T23:30:10.174867Z",
     "iopub.status.busy": "2021-12-16T23:30:10.172985Z",
     "iopub.status.idle": "2021-12-16T23:30:11.795930Z",
     "shell.execute_reply": "2021-12-16T23:30:11.798128Z"
    },
    "papermill": {
     "duration": 1.656308,
     "end_time": "2021-12-16T23:30:11.798609",
     "exception": false,
     "start_time": "2021-12-16T23:30:10.142301",
     "status": "completed"
    },
    "tags": []
   },
   "outputs": [],
   "source": [
    "df = pd.read_sql(\"select * from EBAY_TOP_BERLIN where record_time in (select distinct record_time from EBAY_TOP_BERLIN order by record_time desc limit 2)\", sqlite3.connect(\"UsedObjects.db\"))"
   ]
  },
  {
   "cell_type": "code",
   "execution_count": 5,
   "id": "popular-active",
   "metadata": {
    "execution": {
     "iopub.execute_input": "2021-12-16T23:30:11.907381Z",
     "iopub.status.busy": "2021-12-16T23:30:11.893624Z",
     "iopub.status.idle": "2021-12-16T23:30:11.930539Z",
     "shell.execute_reply": "2021-12-16T23:30:11.928974Z"
    },
    "papermill": {
     "duration": 0.111606,
     "end_time": "2021-12-16T23:30:11.930964",
     "exception": false,
     "start_time": "2021-12-16T23:30:11.819358",
     "status": "completed"
    },
    "tags": []
   },
   "outputs": [],
   "source": [
    "df_pivot = df.pivot_table(index=\"PRODUCT\", columns = \"RECORD_TIME\", values = \"LISTING_COUNT\")"
   ]
  },
  {
   "cell_type": "code",
   "execution_count": 6,
   "id": "union-huntington",
   "metadata": {
    "execution": {
     "iopub.execute_input": "2021-12-16T23:30:11.992369Z",
     "iopub.status.busy": "2021-12-16T23:30:11.990112Z",
     "iopub.status.idle": "2021-12-16T23:30:11.995733Z",
     "shell.execute_reply": "2021-12-16T23:30:11.997234Z"
    },
    "papermill": {
     "duration": 0.044479,
     "end_time": "2021-12-16T23:30:11.997716",
     "exception": false,
     "start_time": "2021-12-16T23:30:11.953237",
     "status": "completed"
    },
    "tags": []
   },
   "outputs": [],
   "source": [
    "df_pivot.columns = [\"stamp_1\", \"stamp_2\"]\n",
    "df_pivot_diff = df_pivot.diff(axis=1)"
   ]
  },
  {
   "cell_type": "code",
   "execution_count": 7,
   "id": "fifth-motion",
   "metadata": {
    "execution": {
     "iopub.execute_input": "2021-12-16T23:30:12.054716Z",
     "iopub.status.busy": "2021-12-16T23:30:12.052109Z",
     "iopub.status.idle": "2021-12-16T23:30:14.029750Z",
     "shell.execute_reply": "2021-12-16T23:30:14.031076Z"
    },
    "papermill": {
     "duration": 2.013114,
     "end_time": "2021-12-16T23:30:14.031500",
     "exception": false,
     "start_time": "2021-12-16T23:30:12.018386",
     "status": "completed"
    },
    "tags": []
   },
   "outputs": [
    {
     "data": {
      "text/plain": [
       "<AxesSubplot:ylabel='PRODUCT'>"
      ]
     },
     "execution_count": 7,
     "metadata": {},
     "output_type": "execute_result"
    },
    {
     "data": {
      "image/png": "[encoded data removed]",
      "text/plain": [
       "<Figure size 432x288 with 1 Axes>"
      ]
     },
     "metadata": {
      "needs_background": "light"
     },
     "output_type": "display_data"
    }
   ],
   "source": [
    "df_pivot_diff.sort_values(\"stamp_2\", ascending = False)[\"stamp_2\"].head(10).plot.barh()"
   ]
  },
  {
   "cell_type": "code",
   "execution_count": null,
   "id": "extra-executive",
   "metadata": {
    "papermill": {
     "duration": 0.022966,
     "end_time": "2021-12-16T23:30:14.078440",
     "exception": false,
     "start_time": "2021-12-16T23:30:14.055474",
     "status": "completed"
    },
    "tags": []
   },
   "outputs": [],
   "source": []
  }
 ],
 "metadata": {
  "kernelspec": {
   "display_name": "Python 3",
   "language": "python",
   "name": "python3"
  },
  "language_info": {
   "codemirror_mode": {
    "name": "ipython",
    "version": 3
   },
   "file_extension": ".py",
   "mimetype": "text/x-python",
   "name": "python",
   "nbconvert_exporter": "python",
   "pygments_lexer": "ipython3",
   "version": "3.9.5"
  },
  "papermill": {
   "default_parameters": {},
   "duration": 9.641877,
   "end_time": "2021-12-16T23:30:14.722367",
   "environment_variables": {},
   "exception": null,
   "input_path": "eBay_Overview.ipynb",
   "output_path": "eBay_Overview.ipynb",
   "parameters": {},
   "start_time": "2021-12-16T23:30:05.080490",
   "version": "2.3.3"
  }
 },
 "nbformat": 4,
 "nbformat_minor": 5
}