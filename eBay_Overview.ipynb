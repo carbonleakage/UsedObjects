{
 "cells": [
  {
   "cell_type": "code",
   "execution_count": 1,
   "id": "reverse-picking",
   "metadata": {
    "execution": {
     "iopub.execute_input": "2021-09-14T16:30:06.815227Z",
     "iopub.status.busy": "2021-09-14T16:30:06.813185Z",
     "iopub.status.idle": "2021-09-14T16:30:07.617163Z",
     "shell.execute_reply": "2021-09-14T16:30:07.618417Z"
    },
    "papermill": {
     "duration": 0.85426,
     "end_time": "2021-09-14T16:30:07.619095",
     "exception": false,
     "start_time": "2021-09-14T16:30:06.764835",
     "status": "completed"
    },
    "tags": []
   },
   "outputs": [],
   "source": [
    "import pandas as pd\n",
    "import sqlite3"
   ]
  },
  {
   "cell_type": "code",
   "execution_count": 2,
   "id": "innovative-syndrome",
   "metadata": {
    "execution": {
     "iopub.execute_input": "2021-09-14T16:30:07.671493Z",
     "iopub.status.busy": "2021-09-14T16:30:07.669359Z",
     "iopub.status.idle": "2021-09-14T16:30:07.953431Z",
     "shell.execute_reply": "2021-09-14T16:30:07.954636Z"
    },
    "papermill": {
     "duration": 0.313571,
     "end_time": "2021-09-14T16:30:07.955090",
     "exception": false,
     "start_time": "2021-09-14T16:30:07.641519",
     "status": "completed"
    },
    "tags": []
   },
   "outputs": [],
   "source": [
    "timestamps = pd.read_sql(\"select distinct record_time from EBAY_TOP_BERLIN order by record_time desc limit 2\", sqlite3.connect(\"UsedObjects.db\"))"
   ]
  },
  {
   "cell_type": "code",
   "execution_count": 3,
   "id": "periodic-identification",
   "metadata": {
    "execution": {
     "iopub.execute_input": "2021-09-14T16:30:08.020353Z",
     "iopub.status.busy": "2021-09-14T16:30:08.018219Z",
     "iopub.status.idle": "2021-09-14T16:30:08.037906Z",
     "shell.execute_reply": "2021-09-14T16:30:08.039258Z"
    },
    "papermill": {
     "duration": 0.063877,
     "end_time": "2021-09-14T16:30:08.039703",
     "exception": false,
     "start_time": "2021-09-14T16:30:07.975826",
     "status": "completed"
    },
    "tags": []
   },
   "outputs": [
    {
     "data": {
      "text/html": [
       "<div>\n",
       "<style scoped>\n",
       "    .dataframe tbody tr th:only-of-type {\n",
       "        vertical-align: middle;\n",
       "    }\n",
       "\n",
       "    .dataframe tbody tr th {\n",
       "        vertical-align: top;\n",
       "    }\n",
       "\n",
       "    .dataframe thead th {\n",
       "        text-align: right;\n",
       "    }\n",
       "</style>\n",
       "<table border=\"1\" class=\"dataframe\">\n",
       "  <thead>\n",
       "    <tr style=\"text-align: right;\">\n",
       "      <th></th>\n",
       "      <th>RECORD_TIME</th>\n",
       "    </tr>\n",
       "  </thead>\n",
       "  <tbody>\n",
       "    <tr>\n",
       "      <th>0</th>\n",
       "      <td>2021-09-14 18:30</td>\n",
       "    </tr>\n",
       "    <tr>\n",
       "      <th>1</th>\n",
       "      <td>2021-09-14 18:00</td>\n",
       "    </tr>\n",
       "  </tbody>\n",
       "</table>\n",
       "</div>"
      ],
      "text/plain": [
       "        RECORD_TIME\n",
       "0  2021-09-14 18:30\n",
       "1  2021-09-14 18:00"
      ]
     },
     "execution_count": 3,
     "metadata": {},
     "output_type": "execute_result"
    }
   ],
   "source": [
    "timestamps"
   ]
  },
  {
   "cell_type": "code",
   "execution_count": 4,
   "id": "alternate-victory",
   "metadata": {
    "execution": {
     "iopub.execute_input": "2021-09-14T16:30:08.091077Z",
     "iopub.status.busy": "2021-09-14T16:30:08.088754Z",
     "iopub.status.idle": "2021-09-14T16:30:08.509660Z",
     "shell.execute_reply": "2021-09-14T16:30:08.511002Z"
    },
    "papermill": {
     "duration": 0.451154,
     "end_time": "2021-09-14T16:30:08.511476",
     "exception": false,
     "start_time": "2021-09-14T16:30:08.060322",
     "status": "completed"
    },
    "tags": []
   },
   "outputs": [],
   "source": [
    "df = pd.read_sql(\"select * from EBAY_TOP_BERLIN where record_time in (select distinct record_time from EBAY_TOP_BERLIN order by record_time desc limit 2)\", sqlite3.connect(\"UsedObjects.db\"))"
   ]
  },
  {
   "cell_type": "code",
   "execution_count": 5,
   "id": "popular-active",
   "metadata": {
    "execution": {
     "iopub.execute_input": "2021-09-14T16:30:08.590820Z",
     "iopub.status.busy": "2021-09-14T16:30:08.579635Z",
     "iopub.status.idle": "2021-09-14T16:30:08.607371Z",
     "shell.execute_reply": "2021-09-14T16:30:08.608590Z"
    },
    "papermill": {
     "duration": 0.071701,
     "end_time": "2021-09-14T16:30:08.608981",
     "exception": false,
     "start_time": "2021-09-14T16:30:08.537280",
     "status": "completed"
    },
    "tags": []
   },
   "outputs": [],
   "source": [
    "df_pivot = df.pivot_table(index=\"PRODUCT\", columns = \"RECORD_TIME\", values = \"LISTING_COUNT\")"
   ]
  },
  {
   "cell_type": "code",
   "execution_count": 6,
   "id": "union-huntington",
   "metadata": {
    "execution": {
     "iopub.execute_input": "2021-09-14T16:30:08.669060Z",
     "iopub.status.busy": "2021-09-14T16:30:08.666585Z",
     "iopub.status.idle": "2021-09-14T16:30:08.672628Z",
     "shell.execute_reply": "2021-09-14T16:30:08.673904Z"
    },
    "papermill": {
     "duration": 0.042359,
     "end_time": "2021-09-14T16:30:08.674315",
     "exception": false,
     "start_time": "2021-09-14T16:30:08.631956",
     "status": "completed"
    },
    "tags": []
   },
   "outputs": [],
   "source": [
    "df_pivot.columns = [\"stamp_1\", \"stamp_2\"]\n",
    "df_pivot_diff = df_pivot.diff(axis=1)"
   ]
  },
  {
   "cell_type": "code",
   "execution_count": 7,
   "id": "fifth-motion",
   "metadata": {
    "execution": {
     "iopub.execute_input": "2021-09-14T16:30:08.728175Z",
     "iopub.status.busy": "2021-09-14T16:30:08.725744Z",
     "iopub.status.idle": "2021-09-14T16:30:10.230850Z",
     "shell.execute_reply": "2021-09-14T16:30:10.232258Z"
    },
    "papermill": {
     "duration": 1.537883,
     "end_time": "2021-09-14T16:30:10.232678",
     "exception": false,
     "start_time": "2021-09-14T16:30:08.694795",
     "status": "completed"
    },
    "tags": []
   },
   "outputs": [
    {
     "data": {
      "text/plain": [
       "<AxesSubplot:ylabel='PRODUCT'>"
      ]
     },
     "execution_count": 7,
     "metadata": {},
     "output_type": "execute_result"
    },
    {
     "data": {
      "image/png": "[encoded data removed]",
      "text/plain": [
       "<Figure size 432x288 with 1 Axes>"
      ]
     },
     "metadata": {
      "needs_background": "light"
     },
     "output_type": "display_data"
    }
   ],
   "source": [
    "df_pivot_diff.sort_values(\"stamp_2\", ascending = False)[\"stamp_2\"].head(10).plot.barh()"
   ]
  },
  {
   "cell_type": "code",
   "execution_count": null,
   "id": "extra-executive",
   "metadata": {
    "papermill": {
     "duration": 0.022042,
     "end_time": "2021-09-14T16:30:10.277813",
     "exception": false,
     "start_time": "2021-09-14T16:30:10.255771",
     "status": "completed"
    },
    "tags": []
   },
   "outputs": [],
   "source": []
  }
 ],
 "metadata": {
  "kernelspec": {
   "display_name": "Python 3",
   "language": "python",
   "name": "python3"
  },
  "language_info": {
   "codemirror_mode": {
    "name": "ipython",
    "version": 3
   },
   "file_extension": ".py",
   "mimetype": "text/x-python",
   "name": "python",
   "nbconvert_exporter": "python",
   "pygments_lexer": "ipython3",
   "version": "3.9.5"
  },
  "papermill": {
   "default_parameters": {},
   "duration": 6.555785,
   "end_time": "2021-09-14T16:30:10.921735",
   "environment_variables": {},
   "exception": null,
   "input_path": "eBay_Overview.ipynb",
   "output_path": "eBay_Overview.ipynb",
   "parameters": {},
   "start_time": "2021-09-14T16:30:04.365950",
   "version": "2.3.3"
  }
 },
 "nbformat": 4,
 "nbformat_minor": 5
}