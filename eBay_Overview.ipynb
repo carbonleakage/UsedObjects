{
 "cells": [
  {
   "cell_type": "code",
   "execution_count": 1,
   "id": "reverse-picking",
   "metadata": {
    "execution": {
     "iopub.execute_input": "2021-12-01T20:30:08.009352Z",
     "iopub.status.busy": "2021-12-01T20:30:08.006182Z",
     "iopub.status.idle": "2021-12-01T20:30:08.954548Z",
     "shell.execute_reply": "2021-12-01T20:30:08.956048Z"
    },
    "papermill": {
     "duration": 0.999315,
     "end_time": "2021-12-01T20:30:08.956915",
     "exception": false,
     "start_time": "2021-12-01T20:30:07.957600",
     "status": "completed"
    },
    "tags": []
   },
   "outputs": [],
   "source": [
    "import pandas as pd\n",
    "import sqlite3"
   ]
  },
  {
   "cell_type": "code",
   "execution_count": 2,
   "id": "innovative-syndrome",
   "metadata": {
    "execution": {
     "iopub.execute_input": "2021-12-01T20:30:09.031937Z",
     "iopub.status.busy": "2021-12-01T20:30:09.029668Z",
     "iopub.status.idle": "2021-12-01T20:30:09.980210Z",
     "shell.execute_reply": "2021-12-01T20:30:09.981944Z"
    },
    "papermill": {
     "duration": 0.985822,
     "end_time": "2021-12-01T20:30:09.982439",
     "exception": false,
     "start_time": "2021-12-01T20:30:08.996617",
     "status": "completed"
    },
    "tags": []
   },
   "outputs": [],
   "source": [
    "timestamps = pd.read_sql(\"select distinct record_time from EBAY_TOP_BERLIN order by record_time desc limit 2\", sqlite3.connect(\"UsedObjects.db\"))"
   ]
  },
  {
   "cell_type": "code",
   "execution_count": 3,
   "id": "periodic-identification",
   "metadata": {
    "execution": {
     "iopub.execute_input": "2021-12-01T20:30:10.053430Z",
     "iopub.status.busy": "2021-12-01T20:30:10.051209Z",
     "iopub.status.idle": "2021-12-01T20:30:10.071233Z",
     "shell.execute_reply": "2021-12-01T20:30:10.072489Z"
    },
    "papermill": {
     "duration": 0.06531,
     "end_time": "2021-12-01T20:30:10.073068",
     "exception": false,
     "start_time": "2021-12-01T20:30:10.007758",
     "status": "completed"
    },
    "tags": []
   },
   "outputs": [
    {
     "data": {
      "text/html": [
       "<div>\n",
       "<style scoped>\n",
       "    .dataframe tbody tr th:only-of-type {\n",
       "        vertical-align: middle;\n",
       "    }\n",
       "\n",
       "    .dataframe tbody tr th {\n",
       "        vertical-align: top;\n",
       "    }\n",
       "\n",
       "    .dataframe thead th {\n",
       "        text-align: right;\n",
       "    }\n",
       "</style>\n",
       "<table border=\"1\" class=\"dataframe\">\n",
       "  <thead>\n",
       "    <tr style=\"text-align: right;\">\n",
       "      <th></th>\n",
       "      <th>RECORD_TIME</th>\n",
       "    </tr>\n",
       "  </thead>\n",
       "  <tbody>\n",
       "    <tr>\n",
       "      <th>0</th>\n",
       "      <td>2021-12-01 21:30</td>\n",
       "    </tr>\n",
       "    <tr>\n",
       "      <th>1</th>\n",
       "      <td>2021-12-01 21:00</td>\n",
       "    </tr>\n",
       "  </tbody>\n",
       "</table>\n",
       "</div>"
      ],
      "text/plain": [
       "        RECORD_TIME\n",
       "0  2021-12-01 21:30\n",
       "1  2021-12-01 21:00"
      ]
     },
     "execution_count": 3,
     "metadata": {},
     "output_type": "execute_result"
    }
   ],
   "source": [
    "timestamps"
   ]
  },
  {
   "cell_type": "code",
   "execution_count": 4,
   "id": "alternate-victory",
   "metadata": {
    "execution": {
     "iopub.execute_input": "2021-12-01T20:30:10.126441Z",
     "iopub.status.busy": "2021-12-01T20:30:10.124038Z",
     "iopub.status.idle": "2021-12-01T20:30:11.491456Z",
     "shell.execute_reply": "2021-12-01T20:30:11.492892Z"
    },
    "papermill": {
     "duration": 1.398373,
     "end_time": "2021-12-01T20:30:11.493380",
     "exception": false,
     "start_time": "2021-12-01T20:30:10.095007",
     "status": "completed"
    },
    "tags": []
   },
   "outputs": [],
   "source": [
    "df = pd.read_sql(\"select * from EBAY_TOP_BERLIN where record_time in (select distinct record_time from EBAY_TOP_BERLIN order by record_time desc limit 2)\", sqlite3.connect(\"UsedObjects.db\"))"
   ]
  },
  {
   "cell_type": "code",
   "execution_count": 5,
   "id": "popular-active",
   "metadata": {
    "execution": {
     "iopub.execute_input": "2021-12-01T20:30:11.559128Z",
     "iopub.status.busy": "2021-12-01T20:30:11.554759Z",
     "iopub.status.idle": "2021-12-01T20:30:11.591785Z",
     "shell.execute_reply": "2021-12-01T20:30:11.593425Z"
    },
    "papermill": {
     "duration": 0.079727,
     "end_time": "2021-12-01T20:30:11.593945",
     "exception": false,
     "start_time": "2021-12-01T20:30:11.514218",
     "status": "completed"
    },
    "tags": []
   },
   "outputs": [],
   "source": [
    "df_pivot = df.pivot_table(index=\"PRODUCT\", columns = \"RECORD_TIME\", values = \"LISTING_COUNT\")"
   ]
  },
  {
   "cell_type": "code",
   "execution_count": 6,
   "id": "union-huntington",
   "metadata": {
    "execution": {
     "iopub.execute_input": "2021-12-01T20:30:11.660622Z",
     "iopub.status.busy": "2021-12-01T20:30:11.658302Z",
     "iopub.status.idle": "2021-12-01T20:30:11.667389Z",
     "shell.execute_reply": "2021-12-01T20:30:11.665441Z"
    },
    "papermill": {
     "duration": 0.052256,
     "end_time": "2021-12-01T20:30:11.667886",
     "exception": false,
     "start_time": "2021-12-01T20:30:11.615630",
     "status": "completed"
    },
    "tags": []
   },
   "outputs": [],
   "source": [
    "df_pivot.columns = [\"stamp_1\", \"stamp_2\"]\n",
    "df_pivot_diff = df_pivot.diff(axis=1)"
   ]
  },
  {
   "cell_type": "code",
   "execution_count": 7,
   "id": "fifth-motion",
   "metadata": {
    "execution": {
     "iopub.execute_input": "2021-12-01T20:30:11.726906Z",
     "iopub.status.busy": "2021-12-01T20:30:11.724307Z",
     "iopub.status.idle": "2021-12-01T20:30:13.675576Z",
     "shell.execute_reply": "2021-12-01T20:30:13.678569Z"
    },
    "papermill": {
     "duration": 1.989716,
     "end_time": "2021-12-01T20:30:13.679472",
     "exception": false,
     "start_time": "2021-12-01T20:30:11.689756",
     "status": "completed"
    },
    "tags": []
   },
   "outputs": [
    {
     "data": {
      "text/plain": [
       "<AxesSubplot:ylabel='PRODUCT'>"
      ]
     },
     "execution_count": 7,
     "metadata": {},
     "output_type": "execute_result"
    },
    {
     "data": {
      "image/png": "[encoded data removed]",
      "text/plain": [
       "<Figure size 432x288 with 1 Axes>"
      ]
     },
     "metadata": {
      "needs_background": "light"
     },
     "output_type": "display_data"
    }
   ],
   "source": [
    "df_pivot_diff.sort_values(\"stamp_2\", ascending = False)[\"stamp_2\"].head(10).plot.barh()"
   ]
  },
  {
   "cell_type": "code",
   "execution_count": null,
   "id": "extra-executive",
   "metadata": {
    "papermill": {
     "duration": 0.036514,
     "end_time": "2021-12-01T20:30:13.751429",
     "exception": false,
     "start_time": "2021-12-01T20:30:13.714915",
     "status": "completed"
    },
    "tags": []
   },
   "outputs": [],
   "source": []
  }
 ],
 "metadata": {
  "kernelspec": {
   "display_name": "Python 3",
   "language": "python",
   "name": "python3"
  },
  "language_info": {
   "codemirror_mode": {
    "name": "ipython",
    "version": 3
   },
   "file_extension": ".py",
   "mimetype": "text/x-python",
   "name": "python",
   "nbconvert_exporter": "python",
   "pygments_lexer": "ipython3",
   "version": "3.9.5"
  },
  "papermill": {
   "default_parameters": {},
   "duration": 9.937101,
   "end_time": "2021-12-01T20:30:15.178117",
   "environment_variables": {},
   "exception": null,
   "input_path": "eBay_Overview.ipynb",
   "output_path": "eBay_Overview.ipynb",
   "parameters": {},
   "start_time": "2021-12-01T20:30:05.241016",
   "version": "2.3.3"
  }
 },
 "nbformat": 4,
 "nbformat_minor": 5
}