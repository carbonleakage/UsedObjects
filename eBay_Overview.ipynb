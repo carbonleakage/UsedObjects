{
 "cells": [
  {
   "cell_type": "code",
   "execution_count": 1,
   "id": "reverse-picking",
   "metadata": {
    "execution": {
     "iopub.execute_input": "2021-11-18T16:00:07.171718Z",
     "iopub.status.busy": "2021-11-18T16:00:07.169370Z",
     "iopub.status.idle": "2021-11-18T16:00:08.114617Z",
     "shell.execute_reply": "2021-11-18T16:00:08.116121Z"
    },
    "papermill": {
     "duration": 0.99466,
     "end_time": "2021-11-18T16:00:08.116933",
     "exception": false,
     "start_time": "2021-11-18T16:00:07.122273",
     "status": "completed"
    },
    "tags": []
   },
   "outputs": [],
   "source": [
    "import pandas as pd\n",
    "import sqlite3"
   ]
  },
  {
   "cell_type": "code",
   "execution_count": 2,
   "id": "innovative-syndrome",
   "metadata": {
    "execution": {
     "iopub.execute_input": "2021-11-18T16:00:08.179248Z",
     "iopub.status.busy": "2021-11-18T16:00:08.176980Z",
     "iopub.status.idle": "2021-11-18T16:00:09.031872Z",
     "shell.execute_reply": "2021-11-18T16:00:09.033698Z"
    },
    "papermill": {
     "duration": 0.889961,
     "end_time": "2021-11-18T16:00:09.034245",
     "exception": false,
     "start_time": "2021-11-18T16:00:08.144284",
     "status": "completed"
    },
    "tags": []
   },
   "outputs": [],
   "source": [
    "timestamps = pd.read_sql(\"select distinct record_time from EBAY_TOP_BERLIN order by record_time desc limit 2\", sqlite3.connect(\"UsedObjects.db\"))"
   ]
  },
  {
   "cell_type": "code",
   "execution_count": 3,
   "id": "periodic-identification",
   "metadata": {
    "execution": {
     "iopub.execute_input": "2021-11-18T16:00:09.111854Z",
     "iopub.status.busy": "2021-11-18T16:00:09.107935Z",
     "iopub.status.idle": "2021-11-18T16:00:09.145445Z",
     "shell.execute_reply": "2021-11-18T16:00:09.143659Z"
    },
    "papermill": {
     "duration": 0.091123,
     "end_time": "2021-11-18T16:00:09.145852",
     "exception": false,
     "start_time": "2021-11-18T16:00:09.054729",
     "status": "completed"
    },
    "tags": []
   },
   "outputs": [
    {
     "data": {
      "text/html": [
       "<div>\n",
       "<style scoped>\n",
       "    .dataframe tbody tr th:only-of-type {\n",
       "        vertical-align: middle;\n",
       "    }\n",
       "\n",
       "    .dataframe tbody tr th {\n",
       "        vertical-align: top;\n",
       "    }\n",
       "\n",
       "    .dataframe thead th {\n",
       "        text-align: right;\n",
       "    }\n",
       "</style>\n",
       "<table border=\"1\" class=\"dataframe\">\n",
       "  <thead>\n",
       "    <tr style=\"text-align: right;\">\n",
       "      <th></th>\n",
       "      <th>RECORD_TIME</th>\n",
       "    </tr>\n",
       "  </thead>\n",
       "  <tbody>\n",
       "    <tr>\n",
       "      <th>0</th>\n",
       "      <td>2021-11-18 17:00</td>\n",
       "    </tr>\n",
       "    <tr>\n",
       "      <th>1</th>\n",
       "      <td>2021-11-18 16:30</td>\n",
       "    </tr>\n",
       "  </tbody>\n",
       "</table>\n",
       "</div>"
      ],
      "text/plain": [
       "        RECORD_TIME\n",
       "0  2021-11-18 17:00\n",
       "1  2021-11-18 16:30"
      ]
     },
     "execution_count": 3,
     "metadata": {},
     "output_type": "execute_result"
    }
   ],
   "source": [
    "timestamps"
   ]
  },
  {
   "cell_type": "code",
   "execution_count": 4,
   "id": "alternate-victory",
   "metadata": {
    "execution": {
     "iopub.execute_input": "2021-11-18T16:00:09.201181Z",
     "iopub.status.busy": "2021-11-18T16:00:09.198928Z",
     "iopub.status.idle": "2021-11-18T16:00:10.423964Z",
     "shell.execute_reply": "2021-11-18T16:00:10.425604Z"
    },
    "papermill": {
     "duration": 1.258635,
     "end_time": "2021-11-18T16:00:10.426099",
     "exception": false,
     "start_time": "2021-11-18T16:00:09.167464",
     "status": "completed"
    },
    "tags": []
   },
   "outputs": [],
   "source": [
    "df = pd.read_sql(\"select * from EBAY_TOP_BERLIN where record_time in (select distinct record_time from EBAY_TOP_BERLIN order by record_time desc limit 2)\", sqlite3.connect(\"UsedObjects.db\"))"
   ]
  },
  {
   "cell_type": "code",
   "execution_count": 5,
   "id": "popular-active",
   "metadata": {
    "execution": {
     "iopub.execute_input": "2021-11-18T16:00:10.503087Z",
     "iopub.status.busy": "2021-11-18T16:00:10.489771Z",
     "iopub.status.idle": "2021-11-18T16:00:10.523017Z",
     "shell.execute_reply": "2021-11-18T16:00:10.524529Z"
    },
    "papermill": {
     "duration": 0.076873,
     "end_time": "2021-11-18T16:00:10.525106",
     "exception": false,
     "start_time": "2021-11-18T16:00:10.448233",
     "status": "completed"
    },
    "tags": []
   },
   "outputs": [],
   "source": [
    "df_pivot = df.pivot_table(index=\"PRODUCT\", columns = \"RECORD_TIME\", values = \"LISTING_COUNT\")"
   ]
  },
  {
   "cell_type": "code",
   "execution_count": 6,
   "id": "union-huntington",
   "metadata": {
    "execution": {
     "iopub.execute_input": "2021-11-18T16:00:10.587748Z",
     "iopub.status.busy": "2021-11-18T16:00:10.585460Z",
     "iopub.status.idle": "2021-11-18T16:00:10.592761Z",
     "shell.execute_reply": "2021-11-18T16:00:10.591072Z"
    },
    "papermill": {
     "duration": 0.047256,
     "end_time": "2021-11-18T16:00:10.593233",
     "exception": false,
     "start_time": "2021-11-18T16:00:10.545977",
     "status": "completed"
    },
    "tags": []
   },
   "outputs": [],
   "source": [
    "df_pivot.columns = [\"stamp_1\", \"stamp_2\"]\n",
    "df_pivot_diff = df_pivot.diff(axis=1)"
   ]
  },
  {
   "cell_type": "code",
   "execution_count": 7,
   "id": "fifth-motion",
   "metadata": {
    "execution": {
     "iopub.execute_input": "2021-11-18T16:00:10.651504Z",
     "iopub.status.busy": "2021-11-18T16:00:10.648845Z",
     "iopub.status.idle": "2021-11-18T16:00:12.407264Z",
     "shell.execute_reply": "2021-11-18T16:00:12.409066Z"
    },
    "papermill": {
     "duration": 1.795327,
     "end_time": "2021-11-18T16:00:12.409641",
     "exception": false,
     "start_time": "2021-11-18T16:00:10.614314",
     "status": "completed"
    },
    "tags": []
   },
   "outputs": [
    {
     "data": {
      "text/plain": [
       "<AxesSubplot:ylabel='PRODUCT'>"
      ]
     },
     "execution_count": 7,
     "metadata": {},
     "output_type": "execute_result"
    },
    {
     "data": {
      "image/png": "[encoded data removed]",
      "text/plain": [
       "<Figure size 432x288 with 1 Axes>"
      ]
     },
     "metadata": {
      "needs_background": "light"
     },
     "output_type": "display_data"
    }
   ],
   "source": [
    "df_pivot_diff.sort_values(\"stamp_2\", ascending = False)[\"stamp_2\"].head(10).plot.barh()"
   ]
  },
  {
   "cell_type": "code",
   "execution_count": null,
   "id": "extra-executive",
   "metadata": {
    "papermill": {
     "duration": 0.025112,
     "end_time": "2021-11-18T16:00:12.460507",
     "exception": false,
     "start_time": "2021-11-18T16:00:12.435395",
     "status": "completed"
    },
    "tags": []
   },
   "outputs": [],
   "source": []
  }
 ],
 "metadata": {
  "kernelspec": {
   "display_name": "Python 3",
   "language": "python",
   "name": "python3"
  },
  "language_info": {
   "codemirror_mode": {
    "name": "ipython",
    "version": 3
   },
   "file_extension": ".py",
   "mimetype": "text/x-python",
   "name": "python",
   "nbconvert_exporter": "python",
   "pygments_lexer": "ipython3",
   "version": "3.9.5"
  },
  "papermill": {
   "default_parameters": {},
   "duration": 8.994513,
   "end_time": "2021-11-18T16:00:13.313084",
   "environment_variables": {},
   "exception": null,
   "input_path": "eBay_Overview.ipynb",
   "output_path": "eBay_Overview.ipynb",
   "parameters": {},
   "start_time": "2021-11-18T16:00:04.318571",
   "version": "2.3.3"
  }
 },
 "nbformat": 4,
 "nbformat_minor": 5
}