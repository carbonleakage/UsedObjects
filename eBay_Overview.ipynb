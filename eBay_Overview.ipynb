{
 "cells": [
  {
   "cell_type": "code",
   "execution_count": 1,
   "id": "reverse-picking",
   "metadata": {
    "execution": {
     "iopub.execute_input": "2021-11-18T08:30:07.672183Z",
     "iopub.status.busy": "2021-11-18T08:30:07.669875Z",
     "iopub.status.idle": "2021-11-18T08:30:08.628771Z",
     "shell.execute_reply": "2021-11-18T08:30:08.630911Z"
    },
    "papermill": {
     "duration": 1.008782,
     "end_time": "2021-11-18T08:30:08.631643",
     "exception": false,
     "start_time": "2021-11-18T08:30:07.622861",
     "status": "completed"
    },
    "tags": []
   },
   "outputs": [],
   "source": [
    "import pandas as pd\n",
    "import sqlite3"
   ]
  },
  {
   "cell_type": "code",
   "execution_count": 2,
   "id": "innovative-syndrome",
   "metadata": {
    "execution": {
     "iopub.execute_input": "2021-11-18T08:30:08.684133Z",
     "iopub.status.busy": "2021-11-18T08:30:08.681991Z",
     "iopub.status.idle": "2021-11-18T08:30:09.516521Z",
     "shell.execute_reply": "2021-11-18T08:30:09.517999Z"
    },
    "papermill": {
     "duration": 0.866817,
     "end_time": "2021-11-18T08:30:09.518493",
     "exception": false,
     "start_time": "2021-11-18T08:30:08.651676",
     "status": "completed"
    },
    "tags": []
   },
   "outputs": [],
   "source": [
    "timestamps = pd.read_sql(\"select distinct record_time from EBAY_TOP_BERLIN order by record_time desc limit 2\", sqlite3.connect(\"UsedObjects.db\"))"
   ]
  },
  {
   "cell_type": "code",
   "execution_count": 3,
   "id": "periodic-identification",
   "metadata": {
    "execution": {
     "iopub.execute_input": "2021-11-18T08:30:09.592388Z",
     "iopub.status.busy": "2021-11-18T08:30:09.590023Z",
     "iopub.status.idle": "2021-11-18T08:30:09.612538Z",
     "shell.execute_reply": "2021-11-18T08:30:09.614234Z"
    },
    "papermill": {
     "duration": 0.075574,
     "end_time": "2021-11-18T08:30:09.614738",
     "exception": false,
     "start_time": "2021-11-18T08:30:09.539164",
     "status": "completed"
    },
    "tags": []
   },
   "outputs": [
    {
     "data": {
      "text/html": [
       "<div>\n",
       "<style scoped>\n",
       "    .dataframe tbody tr th:only-of-type {\n",
       "        vertical-align: middle;\n",
       "    }\n",
       "\n",
       "    .dataframe tbody tr th {\n",
       "        vertical-align: top;\n",
       "    }\n",
       "\n",
       "    .dataframe thead th {\n",
       "        text-align: right;\n",
       "    }\n",
       "</style>\n",
       "<table border=\"1\" class=\"dataframe\">\n",
       "  <thead>\n",
       "    <tr style=\"text-align: right;\">\n",
       "      <th></th>\n",
       "      <th>RECORD_TIME</th>\n",
       "    </tr>\n",
       "  </thead>\n",
       "  <tbody>\n",
       "    <tr>\n",
       "      <th>0</th>\n",
       "      <td>2021-11-18 09:30</td>\n",
       "    </tr>\n",
       "    <tr>\n",
       "      <th>1</th>\n",
       "      <td>2021-11-18 09:00</td>\n",
       "    </tr>\n",
       "  </tbody>\n",
       "</table>\n",
       "</div>"
      ],
      "text/plain": [
       "        RECORD_TIME\n",
       "0  2021-11-18 09:30\n",
       "1  2021-11-18 09:00"
      ]
     },
     "execution_count": 3,
     "metadata": {},
     "output_type": "execute_result"
    }
   ],
   "source": [
    "timestamps"
   ]
  },
  {
   "cell_type": "code",
   "execution_count": 4,
   "id": "alternate-victory",
   "metadata": {
    "execution": {
     "iopub.execute_input": "2021-11-18T08:30:09.672160Z",
     "iopub.status.busy": "2021-11-18T08:30:09.668837Z",
     "iopub.status.idle": "2021-11-18T08:30:10.904132Z",
     "shell.execute_reply": "2021-11-18T08:30:10.901954Z"
    },
    "papermill": {
     "duration": 1.268019,
     "end_time": "2021-11-18T08:30:10.904539",
     "exception": false,
     "start_time": "2021-11-18T08:30:09.636520",
     "status": "completed"
    },
    "tags": []
   },
   "outputs": [],
   "source": [
    "df = pd.read_sql(\"select * from EBAY_TOP_BERLIN where record_time in (select distinct record_time from EBAY_TOP_BERLIN order by record_time desc limit 2)\", sqlite3.connect(\"UsedObjects.db\"))"
   ]
  },
  {
   "cell_type": "code",
   "execution_count": 5,
   "id": "popular-active",
   "metadata": {
    "execution": {
     "iopub.execute_input": "2021-11-18T08:30:10.980511Z",
     "iopub.status.busy": "2021-11-18T08:30:10.966453Z",
     "iopub.status.idle": "2021-11-18T08:30:11.000762Z",
     "shell.execute_reply": "2021-11-18T08:30:11.002689Z"
    },
    "papermill": {
     "duration": 0.077256,
     "end_time": "2021-11-18T08:30:11.003238",
     "exception": false,
     "start_time": "2021-11-18T08:30:10.925982",
     "status": "completed"
    },
    "tags": []
   },
   "outputs": [],
   "source": [
    "df_pivot = df.pivot_table(index=\"PRODUCT\", columns = \"RECORD_TIME\", values = \"LISTING_COUNT\")"
   ]
  },
  {
   "cell_type": "code",
   "execution_count": 6,
   "id": "union-huntington",
   "metadata": {
    "execution": {
     "iopub.execute_input": "2021-11-18T08:30:11.059282Z",
     "iopub.status.busy": "2021-11-18T08:30:11.057206Z",
     "iopub.status.idle": "2021-11-18T08:30:11.062385Z",
     "shell.execute_reply": "2021-11-18T08:30:11.063689Z"
    },
    "papermill": {
     "duration": 0.040448,
     "end_time": "2021-11-18T08:30:11.064109",
     "exception": false,
     "start_time": "2021-11-18T08:30:11.023661",
     "status": "completed"
    },
    "tags": []
   },
   "outputs": [],
   "source": [
    "df_pivot.columns = [\"stamp_1\", \"stamp_2\"]\n",
    "df_pivot_diff = df_pivot.diff(axis=1)"
   ]
  },
  {
   "cell_type": "code",
   "execution_count": 7,
   "id": "fifth-motion",
   "metadata": {
    "execution": {
     "iopub.execute_input": "2021-11-18T08:30:11.120007Z",
     "iopub.status.busy": "2021-11-18T08:30:11.117376Z",
     "iopub.status.idle": "2021-11-18T08:30:12.825811Z",
     "shell.execute_reply": "2021-11-18T08:30:12.827185Z"
    },
    "papermill": {
     "duration": 1.742172,
     "end_time": "2021-11-18T08:30:12.827668",
     "exception": false,
     "start_time": "2021-11-18T08:30:11.085496",
     "status": "completed"
    },
    "tags": []
   },
   "outputs": [
    {
     "data": {
      "text/plain": [
       "<AxesSubplot:ylabel='PRODUCT'>"
      ]
     },
     "execution_count": 7,
     "metadata": {},
     "output_type": "execute_result"
    },
    {
     "data": {
      "image/png": "[encoded data removed]",
      "text/plain": [
       "<Figure size 432x288 with 1 Axes>"
      ]
     },
     "metadata": {
      "needs_background": "light"
     },
     "output_type": "display_data"
    }
   ],
   "source": [
    "df_pivot_diff.sort_values(\"stamp_2\", ascending = False)[\"stamp_2\"].head(10).plot.barh()"
   ]
  },
  {
   "cell_type": "code",
   "execution_count": null,
   "id": "extra-executive",
   "metadata": {
    "papermill": {
     "duration": 0.023365,
     "end_time": "2021-11-18T08:30:12.874865",
     "exception": false,
     "start_time": "2021-11-18T08:30:12.851500",
     "status": "completed"
    },
    "tags": []
   },
   "outputs": [],
   "source": []
  }
 ],
 "metadata": {
  "kernelspec": {
   "display_name": "Python 3",
   "language": "python",
   "name": "python3"
  },
  "language_info": {
   "codemirror_mode": {
    "name": "ipython",
    "version": 3
   },
   "file_extension": ".py",
   "mimetype": "text/x-python",
   "name": "python",
   "nbconvert_exporter": "python",
   "pygments_lexer": "ipython3",
   "version": "3.9.5"
  },
  "papermill": {
   "default_parameters": {},
   "duration": 8.742476,
   "end_time": "2021-11-18T08:30:13.620178",
   "environment_variables": {},
   "exception": null,
   "input_path": "eBay_Overview.ipynb",
   "output_path": "eBay_Overview.ipynb",
   "parameters": {},
   "start_time": "2021-11-18T08:30:04.877702",
   "version": "2.3.3"
  }
 },
 "nbformat": 4,
 "nbformat_minor": 5
}