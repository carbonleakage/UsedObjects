{
 "cells": [
  {
   "cell_type": "code",
   "execution_count": 1,
   "id": "reverse-picking",
   "metadata": {
    "execution": {
     "iopub.execute_input": "2021-12-01T08:00:07.404862Z",
     "iopub.status.busy": "2021-12-01T08:00:07.402532Z",
     "iopub.status.idle": "2021-12-01T08:00:08.350716Z",
     "shell.execute_reply": "2021-12-01T08:00:08.352223Z"
    },
    "papermill": {
     "duration": 0.998622,
     "end_time": "2021-12-01T08:00:08.353026",
     "exception": false,
     "start_time": "2021-12-01T08:00:07.354404",
     "status": "completed"
    },
    "tags": []
   },
   "outputs": [],
   "source": [
    "import pandas as pd\n",
    "import sqlite3"
   ]
  },
  {
   "cell_type": "code",
   "execution_count": 2,
   "id": "innovative-syndrome",
   "metadata": {
    "execution": {
     "iopub.execute_input": "2021-12-01T08:00:08.425624Z",
     "iopub.status.busy": "2021-12-01T08:00:08.423355Z",
     "iopub.status.idle": "2021-12-01T08:00:09.390179Z",
     "shell.execute_reply": "2021-12-01T08:00:09.391443Z"
    },
    "papermill": {
     "duration": 1.000849,
     "end_time": "2021-12-01T08:00:09.391855",
     "exception": false,
     "start_time": "2021-12-01T08:00:08.391006",
     "status": "completed"
    },
    "tags": []
   },
   "outputs": [],
   "source": [
    "timestamps = pd.read_sql(\"select distinct record_time from EBAY_TOP_BERLIN order by record_time desc limit 2\", sqlite3.connect(\"UsedObjects.db\"))"
   ]
  },
  {
   "cell_type": "code",
   "execution_count": 3,
   "id": "periodic-identification",
   "metadata": {
    "execution": {
     "iopub.execute_input": "2021-12-01T08:00:09.456374Z",
     "iopub.status.busy": "2021-12-01T08:00:09.454321Z",
     "iopub.status.idle": "2021-12-01T08:00:09.474116Z",
     "shell.execute_reply": "2021-12-01T08:00:09.475363Z"
    },
    "papermill": {
     "duration": 0.06438,
     "end_time": "2021-12-01T08:00:09.475765",
     "exception": false,
     "start_time": "2021-12-01T08:00:09.411385",
     "status": "completed"
    },
    "tags": []
   },
   "outputs": [
    {
     "data": {
      "text/html": [
       "<div>\n",
       "<style scoped>\n",
       "    .dataframe tbody tr th:only-of-type {\n",
       "        vertical-align: middle;\n",
       "    }\n",
       "\n",
       "    .dataframe tbody tr th {\n",
       "        vertical-align: top;\n",
       "    }\n",
       "\n",
       "    .dataframe thead th {\n",
       "        text-align: right;\n",
       "    }\n",
       "</style>\n",
       "<table border=\"1\" class=\"dataframe\">\n",
       "  <thead>\n",
       "    <tr style=\"text-align: right;\">\n",
       "      <th></th>\n",
       "      <th>RECORD_TIME</th>\n",
       "    </tr>\n",
       "  </thead>\n",
       "  <tbody>\n",
       "    <tr>\n",
       "      <th>0</th>\n",
       "      <td>2021-12-01 09:00</td>\n",
       "    </tr>\n",
       "    <tr>\n",
       "      <th>1</th>\n",
       "      <td>2021-12-01 08:30</td>\n",
       "    </tr>\n",
       "  </tbody>\n",
       "</table>\n",
       "</div>"
      ],
      "text/plain": [
       "        RECORD_TIME\n",
       "0  2021-12-01 09:00\n",
       "1  2021-12-01 08:30"
      ]
     },
     "execution_count": 3,
     "metadata": {},
     "output_type": "execute_result"
    }
   ],
   "source": [
    "timestamps"
   ]
  },
  {
   "cell_type": "code",
   "execution_count": 4,
   "id": "alternate-victory",
   "metadata": {
    "execution": {
     "iopub.execute_input": "2021-12-01T08:00:09.529221Z",
     "iopub.status.busy": "2021-12-01T08:00:09.526825Z",
     "iopub.status.idle": "2021-12-01T08:00:10.934091Z",
     "shell.execute_reply": "2021-12-01T08:00:10.935722Z"
    },
    "papermill": {
     "duration": 1.438675,
     "end_time": "2021-12-01T08:00:10.936208",
     "exception": false,
     "start_time": "2021-12-01T08:00:09.497533",
     "status": "completed"
    },
    "tags": []
   },
   "outputs": [],
   "source": [
    "df = pd.read_sql(\"select * from EBAY_TOP_BERLIN where record_time in (select distinct record_time from EBAY_TOP_BERLIN order by record_time desc limit 2)\", sqlite3.connect(\"UsedObjects.db\"))"
   ]
  },
  {
   "cell_type": "code",
   "execution_count": 5,
   "id": "popular-active",
   "metadata": {
    "execution": {
     "iopub.execute_input": "2021-12-01T08:00:11.014724Z",
     "iopub.status.busy": "2021-12-01T08:00:11.006261Z",
     "iopub.status.idle": "2021-12-01T08:00:11.041792Z",
     "shell.execute_reply": "2021-12-01T08:00:11.040253Z"
    },
    "papermill": {
     "duration": 0.083678,
     "end_time": "2021-12-01T08:00:11.042214",
     "exception": false,
     "start_time": "2021-12-01T08:00:10.958536",
     "status": "completed"
    },
    "tags": []
   },
   "outputs": [],
   "source": [
    "df_pivot = df.pivot_table(index=\"PRODUCT\", columns = \"RECORD_TIME\", values = \"LISTING_COUNT\")"
   ]
  },
  {
   "cell_type": "code",
   "execution_count": 6,
   "id": "union-huntington",
   "metadata": {
    "execution": {
     "iopub.execute_input": "2021-12-01T08:00:11.101589Z",
     "iopub.status.busy": "2021-12-01T08:00:11.099310Z",
     "iopub.status.idle": "2021-12-01T08:00:11.104327Z",
     "shell.execute_reply": "2021-12-01T08:00:11.106015Z"
    },
    "papermill": {
     "duration": 0.04373,
     "end_time": "2021-12-01T08:00:11.106501",
     "exception": false,
     "start_time": "2021-12-01T08:00:11.062771",
     "status": "completed"
    },
    "tags": []
   },
   "outputs": [],
   "source": [
    "df_pivot.columns = [\"stamp_1\", \"stamp_2\"]\n",
    "df_pivot_diff = df_pivot.diff(axis=1)"
   ]
  },
  {
   "cell_type": "code",
   "execution_count": 7,
   "id": "fifth-motion",
   "metadata": {
    "execution": {
     "iopub.execute_input": "2021-12-01T08:00:11.164944Z",
     "iopub.status.busy": "2021-12-01T08:00:11.161898Z",
     "iopub.status.idle": "2021-12-01T08:00:13.197520Z",
     "shell.execute_reply": "2021-12-01T08:00:13.199053Z"
    },
    "papermill": {
     "duration": 2.072908,
     "end_time": "2021-12-01T08:00:13.199608",
     "exception": false,
     "start_time": "2021-12-01T08:00:11.126700",
     "status": "completed"
    },
    "tags": []
   },
   "outputs": [
    {
     "data": {
      "text/plain": [
       "<AxesSubplot:ylabel='PRODUCT'>"
      ]
     },
     "execution_count": 7,
     "metadata": {},
     "output_type": "execute_result"
    },
    {
     "data": {
      "image/png": "[encoded data removed]",
      "text/plain": [
       "<Figure size 432x288 with 1 Axes>"
      ]
     },
     "metadata": {
      "needs_background": "light"
     },
     "output_type": "display_data"
    }
   ],
   "source": [
    "df_pivot_diff.sort_values(\"stamp_2\", ascending = False)[\"stamp_2\"].head(10).plot.barh()"
   ]
  },
  {
   "cell_type": "code",
   "execution_count": null,
   "id": "extra-executive",
   "metadata": {
    "papermill": {
     "duration": 0.02406,
     "end_time": "2021-12-01T08:00:13.249533",
     "exception": false,
     "start_time": "2021-12-01T08:00:13.225473",
     "status": "completed"
    },
    "tags": []
   },
   "outputs": [],
   "source": []
  }
 ],
 "metadata": {
  "kernelspec": {
   "display_name": "Python 3",
   "language": "python",
   "name": "python3"
  },
  "language_info": {
   "codemirror_mode": {
    "name": "ipython",
    "version": 3
   },
   "file_extension": ".py",
   "mimetype": "text/x-python",
   "name": "python",
   "nbconvert_exporter": "python",
   "pygments_lexer": "ipython3",
   "version": "3.9.5"
  },
  "papermill": {
   "default_parameters": {},
   "duration": 9.936066,
   "end_time": "2021-12-01T08:00:14.571514",
   "environment_variables": {},
   "exception": null,
   "input_path": "eBay_Overview.ipynb",
   "output_path": "eBay_Overview.ipynb",
   "parameters": {},
   "start_time": "2021-12-01T08:00:04.635448",
   "version": "2.3.3"
  }
 },
 "nbformat": 4,
 "nbformat_minor": 5
}