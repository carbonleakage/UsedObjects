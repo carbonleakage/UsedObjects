{
 "cells": [
  {
   "cell_type": "code",
   "execution_count": 1,
   "id": "reverse-picking",
   "metadata": {
    "execution": {
     "iopub.execute_input": "2021-09-02T01:00:06.501816Z",
     "iopub.status.busy": "2021-09-02T01:00:06.499842Z",
     "iopub.status.idle": "2021-09-02T01:00:07.303762Z",
     "shell.execute_reply": "2021-09-02T01:00:07.305186Z"
    },
    "papermill": {
     "duration": 0.854921,
     "end_time": "2021-09-02T01:00:07.305832",
     "exception": false,
     "start_time": "2021-09-02T01:00:06.450911",
     "status": "completed"
    },
    "tags": []
   },
   "outputs": [],
   "source": [
    "import pandas as pd\n",
    "import sqlite3"
   ]
  },
  {
   "cell_type": "code",
   "execution_count": 2,
   "id": "innovative-syndrome",
   "metadata": {
    "execution": {
     "iopub.execute_input": "2021-09-02T01:00:07.356095Z",
     "iopub.status.busy": "2021-09-02T01:00:07.354116Z",
     "iopub.status.idle": "2021-09-02T01:00:07.545637Z",
     "shell.execute_reply": "2021-09-02T01:00:07.546773Z"
    },
    "papermill": {
     "duration": 0.221152,
     "end_time": "2021-09-02T01:00:07.547386",
     "exception": false,
     "start_time": "2021-09-02T01:00:07.326234",
     "status": "completed"
    },
    "tags": []
   },
   "outputs": [],
   "source": [
    "timestamps = pd.read_sql(\"select distinct record_time from EBAY_TOP_BERLIN order by record_time desc limit 2\", sqlite3.connect(\"UsedObjects.db\"))"
   ]
  },
  {
   "cell_type": "code",
   "execution_count": 3,
   "id": "periodic-identification",
   "metadata": {
    "execution": {
     "iopub.execute_input": "2021-09-02T01:00:07.616199Z",
     "iopub.status.busy": "2021-09-02T01:00:07.614078Z",
     "iopub.status.idle": "2021-09-02T01:00:07.633942Z",
     "shell.execute_reply": "2021-09-02T01:00:07.635221Z"
    },
    "papermill": {
     "duration": 0.066638,
     "end_time": "2021-09-02T01:00:07.635674",
     "exception": false,
     "start_time": "2021-09-02T01:00:07.569036",
     "status": "completed"
    },
    "tags": []
   },
   "outputs": [
    {
     "data": {
      "text/html": [
       "<div>\n",
       "<style scoped>\n",
       "    .dataframe tbody tr th:only-of-type {\n",
       "        vertical-align: middle;\n",
       "    }\n",
       "\n",
       "    .dataframe tbody tr th {\n",
       "        vertical-align: top;\n",
       "    }\n",
       "\n",
       "    .dataframe thead th {\n",
       "        text-align: right;\n",
       "    }\n",
       "</style>\n",
       "<table border=\"1\" class=\"dataframe\">\n",
       "  <thead>\n",
       "    <tr style=\"text-align: right;\">\n",
       "      <th></th>\n",
       "      <th>RECORD_TIME</th>\n",
       "    </tr>\n",
       "  </thead>\n",
       "  <tbody>\n",
       "    <tr>\n",
       "      <th>0</th>\n",
       "      <td>2021-09-02 03:00</td>\n",
       "    </tr>\n",
       "    <tr>\n",
       "      <th>1</th>\n",
       "      <td>2021-09-02 02:30</td>\n",
       "    </tr>\n",
       "  </tbody>\n",
       "</table>\n",
       "</div>"
      ],
      "text/plain": [
       "        RECORD_TIME\n",
       "0  2021-09-02 03:00\n",
       "1  2021-09-02 02:30"
      ]
     },
     "execution_count": 3,
     "metadata": {},
     "output_type": "execute_result"
    }
   ],
   "source": [
    "timestamps"
   ]
  },
  {
   "cell_type": "code",
   "execution_count": 4,
   "id": "alternate-victory",
   "metadata": {
    "execution": {
     "iopub.execute_input": "2021-09-02T01:00:07.687998Z",
     "iopub.status.busy": "2021-09-02T01:00:07.686027Z",
     "iopub.status.idle": "2021-09-02T01:00:07.954917Z",
     "shell.execute_reply": "2021-09-02T01:00:07.956195Z"
    },
    "papermill": {
     "duration": 0.298869,
     "end_time": "2021-09-02T01:00:07.956597",
     "exception": false,
     "start_time": "2021-09-02T01:00:07.657728",
     "status": "completed"
    },
    "tags": []
   },
   "outputs": [],
   "source": [
    "df = pd.read_sql(\"select * from EBAY_TOP_BERLIN where record_time in (select distinct record_time from EBAY_TOP_BERLIN order by record_time desc limit 2)\", sqlite3.connect(\"UsedObjects.db\"))"
   ]
  },
  {
   "cell_type": "code",
   "execution_count": 5,
   "id": "popular-active",
   "metadata": {
    "execution": {
     "iopub.execute_input": "2021-09-02T01:00:08.026813Z",
     "iopub.status.busy": "2021-09-02T01:00:08.024737Z",
     "iopub.status.idle": "2021-09-02T01:00:08.052401Z",
     "shell.execute_reply": "2021-09-02T01:00:08.053649Z"
    },
    "papermill": {
     "duration": 0.071115,
     "end_time": "2021-09-02T01:00:08.054053",
     "exception": false,
     "start_time": "2021-09-02T01:00:07.982938",
     "status": "completed"
    },
    "tags": []
   },
   "outputs": [],
   "source": [
    "df_pivot = df.pivot_table(index=\"PRODUCT\", columns = \"RECORD_TIME\", values = \"LISTING_COUNT\")"
   ]
  },
  {
   "cell_type": "code",
   "execution_count": 6,
   "id": "union-huntington",
   "metadata": {
    "execution": {
     "iopub.execute_input": "2021-09-02T01:00:08.113458Z",
     "iopub.status.busy": "2021-09-02T01:00:08.111023Z",
     "iopub.status.idle": "2021-09-02T01:00:08.116805Z",
     "shell.execute_reply": "2021-09-02T01:00:08.118102Z"
    },
    "papermill": {
     "duration": 0.042125,
     "end_time": "2021-09-02T01:00:08.118523",
     "exception": false,
     "start_time": "2021-09-02T01:00:08.076398",
     "status": "completed"
    },
    "tags": []
   },
   "outputs": [],
   "source": [
    "df_pivot.columns = [\"stamp_1\", \"stamp_2\"]\n",
    "df_pivot_diff = df_pivot.diff(axis=1)"
   ]
  },
  {
   "cell_type": "code",
   "execution_count": 7,
   "id": "fifth-motion",
   "metadata": {
    "execution": {
     "iopub.execute_input": "2021-09-02T01:00:08.173643Z",
     "iopub.status.busy": "2021-09-02T01:00:08.171266Z",
     "iopub.status.idle": "2021-09-02T01:00:09.647895Z",
     "shell.execute_reply": "2021-09-02T01:00:09.649220Z"
    },
    "papermill": {
     "duration": 1.510416,
     "end_time": "2021-09-02T01:00:09.649646",
     "exception": false,
     "start_time": "2021-09-02T01:00:08.139230",
     "status": "completed"
    },
    "tags": []
   },
   "outputs": [
    {
     "data": {
      "text/plain": [
       "<AxesSubplot:ylabel='PRODUCT'>"
      ]
     },
     "execution_count": 7,
     "metadata": {},
     "output_type": "execute_result"
    },
    {
     "data": {
      "image/png": "[encoded data removed]",
      "text/plain": [
       "<Figure size 432x288 with 1 Axes>"
      ]
     },
     "metadata": {
      "needs_background": "light"
     },
     "output_type": "display_data"
    }
   ],
   "source": [
    "df_pivot_diff.sort_values(\"stamp_2\", ascending = False)[\"stamp_2\"].head(10).plot.barh()"
   ]
  },
  {
   "cell_type": "code",
   "execution_count": null,
   "id": "extra-executive",
   "metadata": {
    "papermill": {
     "duration": 0.022338,
     "end_time": "2021-09-02T01:00:09.695198",
     "exception": false,
     "start_time": "2021-09-02T01:00:09.672860",
     "status": "completed"
    },
    "tags": []
   },
   "outputs": [],
   "source": []
  }
 ],
 "metadata": {
  "kernelspec": {
   "display_name": "Python 3",
   "language": "python",
   "name": "python3"
  },
  "language_info": {
   "codemirror_mode": {
    "name": "ipython",
    "version": 3
   },
   "file_extension": ".py",
   "mimetype": "text/x-python",
   "name": "python",
   "nbconvert_exporter": "python",
   "pygments_lexer": "ipython3",
   "version": "3.9.5"
  },
  "papermill": {
   "default_parameters": {},
   "duration": 6.81624,
   "end_time": "2021-09-02T01:00:10.870639",
   "environment_variables": {},
   "exception": null,
   "input_path": "eBay_Overview.ipynb",
   "output_path": "eBay_Overview.ipynb",
   "parameters": {},
   "start_time": "2021-09-02T01:00:04.054399",
   "version": "2.3.3"
  }
 },
 "nbformat": 4,
 "nbformat_minor": 5
}