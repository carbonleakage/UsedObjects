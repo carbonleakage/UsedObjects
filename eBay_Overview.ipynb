{
 "cells": [
  {
   "cell_type": "code",
   "execution_count": 1,
   "id": "reverse-picking",
   "metadata": {
    "execution": {
     "iopub.execute_input": "2021-12-14T12:00:07.788474Z",
     "iopub.status.busy": "2021-12-14T12:00:07.785014Z",
     "iopub.status.idle": "2021-12-14T12:00:08.718595Z",
     "shell.execute_reply": "2021-12-14T12:00:08.720933Z"
    },
    "papermill": {
     "duration": 0.985186,
     "end_time": "2021-12-14T12:00:08.721647",
     "exception": false,
     "start_time": "2021-12-14T12:00:07.736461",
     "status": "completed"
    },
    "tags": []
   },
   "outputs": [],
   "source": [
    "import pandas as pd\n",
    "import sqlite3"
   ]
  },
  {
   "cell_type": "code",
   "execution_count": 2,
   "id": "innovative-syndrome",
   "metadata": {
    "execution": {
     "iopub.execute_input": "2021-12-14T12:00:08.786311Z",
     "iopub.status.busy": "2021-12-14T12:00:08.784087Z",
     "iopub.status.idle": "2021-12-14T12:00:09.917839Z",
     "shell.execute_reply": "2021-12-14T12:00:09.919265Z"
    },
    "papermill": {
     "duration": 1.168533,
     "end_time": "2021-12-14T12:00:09.919724",
     "exception": false,
     "start_time": "2021-12-14T12:00:08.751191",
     "status": "completed"
    },
    "tags": []
   },
   "outputs": [],
   "source": [
    "timestamps = pd.read_sql(\"select distinct record_time from EBAY_TOP_BERLIN order by record_time desc limit 2\", sqlite3.connect(\"UsedObjects.db\"))"
   ]
  },
  {
   "cell_type": "code",
   "execution_count": 3,
   "id": "periodic-identification",
   "metadata": {
    "execution": {
     "iopub.execute_input": "2021-12-14T12:00:09.973047Z",
     "iopub.status.busy": "2021-12-14T12:00:09.968178Z",
     "iopub.status.idle": "2021-12-14T12:00:10.009903Z",
     "shell.execute_reply": "2021-12-14T12:00:10.011107Z"
    },
    "papermill": {
     "duration": 0.071701,
     "end_time": "2021-12-14T12:00:10.011504",
     "exception": false,
     "start_time": "2021-12-14T12:00:09.939803",
     "status": "completed"
    },
    "tags": []
   },
   "outputs": [
    {
     "data": {
      "text/html": [
       "<div>\n",
       "<style scoped>\n",
       "    .dataframe tbody tr th:only-of-type {\n",
       "        vertical-align: middle;\n",
       "    }\n",
       "\n",
       "    .dataframe tbody tr th {\n",
       "        vertical-align: top;\n",
       "    }\n",
       "\n",
       "    .dataframe thead th {\n",
       "        text-align: right;\n",
       "    }\n",
       "</style>\n",
       "<table border=\"1\" class=\"dataframe\">\n",
       "  <thead>\n",
       "    <tr style=\"text-align: right;\">\n",
       "      <th></th>\n",
       "      <th>RECORD_TIME</th>\n",
       "    </tr>\n",
       "  </thead>\n",
       "  <tbody>\n",
       "    <tr>\n",
       "      <th>0</th>\n",
       "      <td>2021-12-14 13:00</td>\n",
       "    </tr>\n",
       "    <tr>\n",
       "      <th>1</th>\n",
       "      <td>2021-12-14 12:30</td>\n",
       "    </tr>\n",
       "  </tbody>\n",
       "</table>\n",
       "</div>"
      ],
      "text/plain": [
       "        RECORD_TIME\n",
       "0  2021-12-14 13:00\n",
       "1  2021-12-14 12:30"
      ]
     },
     "execution_count": 3,
     "metadata": {},
     "output_type": "execute_result"
    }
   ],
   "source": [
    "timestamps"
   ]
  },
  {
   "cell_type": "code",
   "execution_count": 4,
   "id": "alternate-victory",
   "metadata": {
    "execution": {
     "iopub.execute_input": "2021-12-14T12:00:10.062977Z",
     "iopub.status.busy": "2021-12-14T12:00:10.060814Z",
     "iopub.status.idle": "2021-12-14T12:00:11.634645Z",
     "shell.execute_reply": "2021-12-14T12:00:11.635856Z"
    },
    "papermill": {
     "duration": 1.603819,
     "end_time": "2021-12-14T12:00:11.636251",
     "exception": false,
     "start_time": "2021-12-14T12:00:10.032432",
     "status": "completed"
    },
    "tags": []
   },
   "outputs": [],
   "source": [
    "df = pd.read_sql(\"select * from EBAY_TOP_BERLIN where record_time in (select distinct record_time from EBAY_TOP_BERLIN order by record_time desc limit 2)\", sqlite3.connect(\"UsedObjects.db\"))"
   ]
  },
  {
   "cell_type": "code",
   "execution_count": 5,
   "id": "popular-active",
   "metadata": {
    "execution": {
     "iopub.execute_input": "2021-12-14T12:00:11.699350Z",
     "iopub.status.busy": "2021-12-14T12:00:11.697070Z",
     "iopub.status.idle": "2021-12-14T12:00:11.727464Z",
     "shell.execute_reply": "2021-12-14T12:00:11.728976Z"
    },
    "papermill": {
     "duration": 0.071925,
     "end_time": "2021-12-14T12:00:11.729437",
     "exception": false,
     "start_time": "2021-12-14T12:00:11.657512",
     "status": "completed"
    },
    "tags": []
   },
   "outputs": [],
   "source": [
    "df_pivot = df.pivot_table(index=\"PRODUCT\", columns = \"RECORD_TIME\", values = \"LISTING_COUNT\")"
   ]
  },
  {
   "cell_type": "code",
   "execution_count": 6,
   "id": "union-huntington",
   "metadata": {
    "execution": {
     "iopub.execute_input": "2021-12-14T12:00:11.788060Z",
     "iopub.status.busy": "2021-12-14T12:00:11.785757Z",
     "iopub.status.idle": "2021-12-14T12:00:11.792384Z",
     "shell.execute_reply": "2021-12-14T12:00:11.793960Z"
    },
    "papermill": {
     "duration": 0.045379,
     "end_time": "2021-12-14T12:00:11.794464",
     "exception": false,
     "start_time": "2021-12-14T12:00:11.749085",
     "status": "completed"
    },
    "tags": []
   },
   "outputs": [],
   "source": [
    "df_pivot.columns = [\"stamp_1\", \"stamp_2\"]\n",
    "df_pivot_diff = df_pivot.diff(axis=1)"
   ]
  },
  {
   "cell_type": "code",
   "execution_count": 7,
   "id": "fifth-motion",
   "metadata": {
    "execution": {
     "iopub.execute_input": "2021-12-14T12:00:11.852069Z",
     "iopub.status.busy": "2021-12-14T12:00:11.849685Z",
     "iopub.status.idle": "2021-12-14T12:00:13.864861Z",
     "shell.execute_reply": "2021-12-14T12:00:13.866409Z"
    },
    "papermill": {
     "duration": 2.050981,
     "end_time": "2021-12-14T12:00:13.866933",
     "exception": false,
     "start_time": "2021-12-14T12:00:11.815952",
     "status": "completed"
    },
    "tags": []
   },
   "outputs": [
    {
     "data": {
      "text/plain": [
       "<AxesSubplot:ylabel='PRODUCT'>"
      ]
     },
     "execution_count": 7,
     "metadata": {},
     "output_type": "execute_result"
    },
    {
     "data": {
      "image/png": "[encoded data removed]",
      "text/plain": [
       "<Figure size 432x288 with 1 Axes>"
      ]
     },
     "metadata": {
      "needs_background": "light"
     },
     "output_type": "display_data"
    }
   ],
   "source": [
    "df_pivot_diff.sort_values(\"stamp_2\", ascending = False)[\"stamp_2\"].head(10).plot.barh()"
   ]
  },
  {
   "cell_type": "code",
   "execution_count": null,
   "id": "extra-executive",
   "metadata": {
    "papermill": {
     "duration": 0.021922,
     "end_time": "2021-12-14T12:00:13.912778",
     "exception": false,
     "start_time": "2021-12-14T12:00:13.890856",
     "status": "completed"
    },
    "tags": []
   },
   "outputs": [],
   "source": []
  }
 ],
 "metadata": {
  "kernelspec": {
   "display_name": "Python 3",
   "language": "python",
   "name": "python3"
  },
  "language_info": {
   "codemirror_mode": {
    "name": "ipython",
    "version": 3
   },
   "file_extension": ".py",
   "mimetype": "text/x-python",
   "name": "python",
   "nbconvert_exporter": "python",
   "pygments_lexer": "ipython3",
   "version": "3.9.5"
  },
  "papermill": {
   "default_parameters": {},
   "duration": 9.531038,
   "end_time": "2021-12-14T12:00:14.556758",
   "environment_variables": {},
   "exception": null,
   "input_path": "eBay_Overview.ipynb",
   "output_path": "eBay_Overview.ipynb",
   "parameters": {},
   "start_time": "2021-12-14T12:00:05.025720",
   "version": "2.3.3"
  }
 },
 "nbformat": 4,
 "nbformat_minor": 5
}