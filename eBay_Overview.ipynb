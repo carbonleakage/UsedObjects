{
 "cells": [
  {
   "cell_type": "code",
   "execution_count": 1,
   "id": "reverse-picking",
   "metadata": {
    "execution": {
     "iopub.execute_input": "2021-09-11T04:00:07.196768Z",
     "iopub.status.busy": "2021-09-11T04:00:07.194758Z",
     "iopub.status.idle": "2021-09-11T04:00:08.007527Z",
     "shell.execute_reply": "2021-09-11T04:00:08.005836Z"
    },
    "papermill": {
     "duration": 0.864593,
     "end_time": "2021-09-11T04:00:08.007972",
     "exception": false,
     "start_time": "2021-09-11T04:00:07.143379",
     "status": "completed"
    },
    "tags": []
   },
   "outputs": [],
   "source": [
    "import pandas as pd\n",
    "import sqlite3"
   ]
  },
  {
   "cell_type": "code",
   "execution_count": 2,
   "id": "innovative-syndrome",
   "metadata": {
    "execution": {
     "iopub.execute_input": "2021-09-11T04:00:08.061009Z",
     "iopub.status.busy": "2021-09-11T04:00:08.058621Z",
     "iopub.status.idle": "2021-09-11T04:00:08.315483Z",
     "shell.execute_reply": "2021-09-11T04:00:08.316705Z"
    },
    "papermill": {
     "duration": 0.287289,
     "end_time": "2021-09-11T04:00:08.317097",
     "exception": false,
     "start_time": "2021-09-11T04:00:08.029808",
     "status": "completed"
    },
    "tags": []
   },
   "outputs": [],
   "source": [
    "timestamps = pd.read_sql(\"select distinct record_time from EBAY_TOP_BERLIN order by record_time desc limit 2\", sqlite3.connect(\"UsedObjects.db\"))"
   ]
  },
  {
   "cell_type": "code",
   "execution_count": 3,
   "id": "periodic-identification",
   "metadata": {
    "execution": {
     "iopub.execute_input": "2021-09-11T04:00:08.386581Z",
     "iopub.status.busy": "2021-09-11T04:00:08.384553Z",
     "iopub.status.idle": "2021-09-11T04:00:08.404642Z",
     "shell.execute_reply": "2021-09-11T04:00:08.405920Z"
    },
    "papermill": {
     "duration": 0.066303,
     "end_time": "2021-09-11T04:00:08.406329",
     "exception": false,
     "start_time": "2021-09-11T04:00:08.340026",
     "status": "completed"
    },
    "tags": []
   },
   "outputs": [
    {
     "data": {
      "text/html": [
       "<div>\n",
       "<style scoped>\n",
       "    .dataframe tbody tr th:only-of-type {\n",
       "        vertical-align: middle;\n",
       "    }\n",
       "\n",
       "    .dataframe tbody tr th {\n",
       "        vertical-align: top;\n",
       "    }\n",
       "\n",
       "    .dataframe thead th {\n",
       "        text-align: right;\n",
       "    }\n",
       "</style>\n",
       "<table border=\"1\" class=\"dataframe\">\n",
       "  <thead>\n",
       "    <tr style=\"text-align: right;\">\n",
       "      <th></th>\n",
       "      <th>RECORD_TIME</th>\n",
       "    </tr>\n",
       "  </thead>\n",
       "  <tbody>\n",
       "    <tr>\n",
       "      <th>0</th>\n",
       "      <td>2021-09-11 06:00</td>\n",
       "    </tr>\n",
       "    <tr>\n",
       "      <th>1</th>\n",
       "      <td>2021-09-11 05:30</td>\n",
       "    </tr>\n",
       "  </tbody>\n",
       "</table>\n",
       "</div>"
      ],
      "text/plain": [
       "        RECORD_TIME\n",
       "0  2021-09-11 06:00\n",
       "1  2021-09-11 05:30"
      ]
     },
     "execution_count": 3,
     "metadata": {},
     "output_type": "execute_result"
    }
   ],
   "source": [
    "timestamps"
   ]
  },
  {
   "cell_type": "code",
   "execution_count": 4,
   "id": "alternate-victory",
   "metadata": {
    "execution": {
     "iopub.execute_input": "2021-09-11T04:00:08.457580Z",
     "iopub.status.busy": "2021-09-11T04:00:08.455736Z",
     "iopub.status.idle": "2021-09-11T04:00:08.832484Z",
     "shell.execute_reply": "2021-09-11T04:00:08.833863Z"
    },
    "papermill": {
     "duration": 0.407191,
     "end_time": "2021-09-11T04:00:08.834298",
     "exception": false,
     "start_time": "2021-09-11T04:00:08.427107",
     "status": "completed"
    },
    "tags": []
   },
   "outputs": [],
   "source": [
    "df = pd.read_sql(\"select * from EBAY_TOP_BERLIN where record_time in (select distinct record_time from EBAY_TOP_BERLIN order by record_time desc limit 2)\", sqlite3.connect(\"UsedObjects.db\"))"
   ]
  },
  {
   "cell_type": "code",
   "execution_count": 5,
   "id": "popular-active",
   "metadata": {
    "execution": {
     "iopub.execute_input": "2021-09-11T04:00:08.900524Z",
     "iopub.status.busy": "2021-09-11T04:00:08.893077Z",
     "iopub.status.idle": "2021-09-11T04:00:08.920755Z",
     "shell.execute_reply": "2021-09-11T04:00:08.921965Z"
    },
    "papermill": {
     "duration": 0.067009,
     "end_time": "2021-09-11T04:00:08.922355",
     "exception": false,
     "start_time": "2021-09-11T04:00:08.855346",
     "status": "completed"
    },
    "tags": []
   },
   "outputs": [],
   "source": [
    "df_pivot = df.pivot_table(index=\"PRODUCT\", columns = \"RECORD_TIME\", values = \"LISTING_COUNT\")"
   ]
  },
  {
   "cell_type": "code",
   "execution_count": 6,
   "id": "union-huntington",
   "metadata": {
    "execution": {
     "iopub.execute_input": "2021-09-11T04:00:08.980069Z",
     "iopub.status.busy": "2021-09-11T04:00:08.977594Z",
     "iopub.status.idle": "2021-09-11T04:00:08.983924Z",
     "shell.execute_reply": "2021-09-11T04:00:08.985288Z"
    },
    "papermill": {
     "duration": 0.043092,
     "end_time": "2021-09-11T04:00:08.985761",
     "exception": false,
     "start_time": "2021-09-11T04:00:08.942669",
     "status": "completed"
    },
    "tags": []
   },
   "outputs": [],
   "source": [
    "df_pivot.columns = [\"stamp_1\", \"stamp_2\"]\n",
    "df_pivot_diff = df_pivot.diff(axis=1)"
   ]
  },
  {
   "cell_type": "code",
   "execution_count": 7,
   "id": "fifth-motion",
   "metadata": {
    "execution": {
     "iopub.execute_input": "2021-09-11T04:00:09.041732Z",
     "iopub.status.busy": "2021-09-11T04:00:09.039343Z",
     "iopub.status.idle": "2021-09-11T04:00:10.527737Z",
     "shell.execute_reply": "2021-09-11T04:00:10.529023Z"
    },
    "papermill": {
     "duration": 1.521756,
     "end_time": "2021-09-11T04:00:10.529438",
     "exception": false,
     "start_time": "2021-09-11T04:00:09.007682",
     "status": "completed"
    },
    "tags": []
   },
   "outputs": [
    {
     "data": {
      "text/plain": [
       "<AxesSubplot:ylabel='PRODUCT'>"
      ]
     },
     "execution_count": 7,
     "metadata": {},
     "output_type": "execute_result"
    },
    {
     "data": {
      "image/png": "[encoded data removed]",
      "text/plain": [
       "<Figure size 432x288 with 1 Axes>"
      ]
     },
     "metadata": {
      "needs_background": "light"
     },
     "output_type": "display_data"
    }
   ],
   "source": [
    "df_pivot_diff.sort_values(\"stamp_2\", ascending = False)[\"stamp_2\"].head(10).plot.barh()"
   ]
  },
  {
   "cell_type": "code",
   "execution_count": null,
   "id": "extra-executive",
   "metadata": {
    "papermill": {
     "duration": 0.022543,
     "end_time": "2021-09-11T04:00:10.577343",
     "exception": false,
     "start_time": "2021-09-11T04:00:10.554800",
     "status": "completed"
    },
    "tags": []
   },
   "outputs": [],
   "source": []
  }
 ],
 "metadata": {
  "kernelspec": {
   "display_name": "Python 3",
   "language": "python",
   "name": "python3"
  },
  "language_info": {
   "codemirror_mode": {
    "name": "ipython",
    "version": 3
   },
   "file_extension": ".py",
   "mimetype": "text/x-python",
   "name": "python",
   "nbconvert_exporter": "python",
   "pygments_lexer": "ipython3",
   "version": "3.9.5"
  },
  "papermill": {
   "default_parameters": {},
   "duration": 6.49775,
   "end_time": "2021-09-11T04:00:11.219516",
   "environment_variables": {},
   "exception": null,
   "input_path": "eBay_Overview.ipynb",
   "output_path": "eBay_Overview.ipynb",
   "parameters": {},
   "start_time": "2021-09-11T04:00:04.721766",
   "version": "2.3.3"
  }
 },
 "nbformat": 4,
 "nbformat_minor": 5
}