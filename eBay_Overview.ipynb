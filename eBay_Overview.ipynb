{
 "cells": [
  {
   "cell_type": "code",
   "execution_count": 1,
   "id": "reverse-picking",
   "metadata": {
    "execution": {
     "iopub.execute_input": "2021-12-20T10:30:07.608849Z",
     "iopub.status.busy": "2021-12-20T10:30:07.605139Z",
     "iopub.status.idle": "2021-12-20T10:30:08.579334Z",
     "shell.execute_reply": "2021-12-20T10:30:08.581619Z"
    },
    "papermill": {
     "duration": 1.024238,
     "end_time": "2021-12-20T10:30:08.582418",
     "exception": false,
     "start_time": "2021-12-20T10:30:07.558180",
     "status": "completed"
    },
    "tags": []
   },
   "outputs": [],
   "source": [
    "import pandas as pd\n",
    "import sqlite3"
   ]
  },
  {
   "cell_type": "code",
   "execution_count": 2,
   "id": "innovative-syndrome",
   "metadata": {
    "execution": {
     "iopub.execute_input": "2021-12-20T10:30:08.638051Z",
     "iopub.status.busy": "2021-12-20T10:30:08.635698Z",
     "iopub.status.idle": "2021-12-20T10:30:09.755532Z",
     "shell.execute_reply": "2021-12-20T10:30:09.757284Z"
    },
    "papermill": {
     "duration": 1.153859,
     "end_time": "2021-12-20T10:30:09.757746",
     "exception": false,
     "start_time": "2021-12-20T10:30:08.603887",
     "status": "completed"
    },
    "tags": []
   },
   "outputs": [],
   "source": [
    "timestamps = pd.read_sql(\"select distinct record_time from EBAY_TOP_BERLIN order by record_time desc limit 2\", sqlite3.connect(\"UsedObjects.db\"))"
   ]
  },
  {
   "cell_type": "code",
   "execution_count": 3,
   "id": "periodic-identification",
   "metadata": {
    "execution": {
     "iopub.execute_input": "2021-12-20T10:30:09.820833Z",
     "iopub.status.busy": "2021-12-20T10:30:09.818901Z",
     "iopub.status.idle": "2021-12-20T10:30:09.855974Z",
     "shell.execute_reply": "2021-12-20T10:30:09.857535Z"
    },
    "papermill": {
     "duration": 0.08136,
     "end_time": "2021-12-20T10:30:09.858027",
     "exception": false,
     "start_time": "2021-12-20T10:30:09.776667",
     "status": "completed"
    },
    "tags": []
   },
   "outputs": [
    {
     "data": {
      "text/html": [
       "<div>\n",
       "<style scoped>\n",
       "    .dataframe tbody tr th:only-of-type {\n",
       "        vertical-align: middle;\n",
       "    }\n",
       "\n",
       "    .dataframe tbody tr th {\n",
       "        vertical-align: top;\n",
       "    }\n",
       "\n",
       "    .dataframe thead th {\n",
       "        text-align: right;\n",
       "    }\n",
       "</style>\n",
       "<table border=\"1\" class=\"dataframe\">\n",
       "  <thead>\n",
       "    <tr style=\"text-align: right;\">\n",
       "      <th></th>\n",
       "      <th>RECORD_TIME</th>\n",
       "    </tr>\n",
       "  </thead>\n",
       "  <tbody>\n",
       "    <tr>\n",
       "      <th>0</th>\n",
       "      <td>2021-12-20 11:30</td>\n",
       "    </tr>\n",
       "    <tr>\n",
       "      <th>1</th>\n",
       "      <td>2021-12-20 11:00</td>\n",
       "    </tr>\n",
       "  </tbody>\n",
       "</table>\n",
       "</div>"
      ],
      "text/plain": [
       "        RECORD_TIME\n",
       "0  2021-12-20 11:30\n",
       "1  2021-12-20 11:00"
      ]
     },
     "execution_count": 3,
     "metadata": {},
     "output_type": "execute_result"
    }
   ],
   "source": [
    "timestamps"
   ]
  },
  {
   "cell_type": "code",
   "execution_count": 4,
   "id": "alternate-victory",
   "metadata": {
    "execution": {
     "iopub.execute_input": "2021-12-20T10:30:09.913977Z",
     "iopub.status.busy": "2021-12-20T10:30:09.911630Z",
     "iopub.status.idle": "2021-12-20T10:30:11.563520Z",
     "shell.execute_reply": "2021-12-20T10:30:11.565116Z"
    },
    "papermill": {
     "duration": 1.685894,
     "end_time": "2021-12-20T10:30:11.565625",
     "exception": false,
     "start_time": "2021-12-20T10:30:09.879731",
     "status": "completed"
    },
    "tags": []
   },
   "outputs": [],
   "source": [
    "df = pd.read_sql(\"select * from EBAY_TOP_BERLIN where record_time in (select distinct record_time from EBAY_TOP_BERLIN order by record_time desc limit 2)\", sqlite3.connect(\"UsedObjects.db\"))"
   ]
  },
  {
   "cell_type": "code",
   "execution_count": 5,
   "id": "popular-active",
   "metadata": {
    "execution": {
     "iopub.execute_input": "2021-12-20T10:30:11.642690Z",
     "iopub.status.busy": "2021-12-20T10:30:11.629350Z",
     "iopub.status.idle": "2021-12-20T10:30:11.661144Z",
     "shell.execute_reply": "2021-12-20T10:30:11.662535Z"
    },
    "papermill": {
     "duration": 0.074542,
     "end_time": "2021-12-20T10:30:11.663012",
     "exception": false,
     "start_time": "2021-12-20T10:30:11.588470",
     "status": "completed"
    },
    "tags": []
   },
   "outputs": [],
   "source": [
    "df_pivot = df.pivot_table(index=\"PRODUCT\", columns = \"RECORD_TIME\", values = \"LISTING_COUNT\")"
   ]
  },
  {
   "cell_type": "code",
   "execution_count": 6,
   "id": "union-huntington",
   "metadata": {
    "execution": {
     "iopub.execute_input": "2021-12-20T10:30:11.720870Z",
     "iopub.status.busy": "2021-12-20T10:30:11.718693Z",
     "iopub.status.idle": "2021-12-20T10:30:11.725912Z",
     "shell.execute_reply": "2021-12-20T10:30:11.727570Z"
    },
    "papermill": {
     "duration": 0.045211,
     "end_time": "2021-12-20T10:30:11.728120",
     "exception": false,
     "start_time": "2021-12-20T10:30:11.682909",
     "status": "completed"
    },
    "tags": []
   },
   "outputs": [],
   "source": [
    "df_pivot.columns = [\"stamp_1\", \"stamp_2\"]\n",
    "df_pivot_diff = df_pivot.diff(axis=1)"
   ]
  },
  {
   "cell_type": "code",
   "execution_count": 7,
   "id": "fifth-motion",
   "metadata": {
    "execution": {
     "iopub.execute_input": "2021-12-20T10:30:11.789237Z",
     "iopub.status.busy": "2021-12-20T10:30:11.786677Z",
     "iopub.status.idle": "2021-12-20T10:30:13.735802Z",
     "shell.execute_reply": "2021-12-20T10:30:13.737439Z"
    },
    "papermill": {
     "duration": 1.987013,
     "end_time": "2021-12-20T10:30:13.737928",
     "exception": false,
     "start_time": "2021-12-20T10:30:11.750915",
     "status": "completed"
    },
    "tags": []
   },
   "outputs": [
    {
     "data": {
      "text/plain": [
       "<AxesSubplot:ylabel='PRODUCT'>"
      ]
     },
     "execution_count": 7,
     "metadata": {},
     "output_type": "execute_result"
    },
    {
     "data": {
      "image/png": "[encoded data removed]",
      "text/plain": [
       "<Figure size 432x288 with 1 Axes>"
      ]
     },
     "metadata": {
      "needs_background": "light"
     },
     "output_type": "display_data"
    }
   ],
   "source": [
    "df_pivot_diff.sort_values(\"stamp_2\", ascending = False)[\"stamp_2\"].head(10).plot.barh()"
   ]
  },
  {
   "cell_type": "code",
   "execution_count": null,
   "id": "extra-executive",
   "metadata": {
    "papermill": {
     "duration": 0.021902,
     "end_time": "2021-12-20T10:30:13.784219",
     "exception": false,
     "start_time": "2021-12-20T10:30:13.762317",
     "status": "completed"
    },
    "tags": []
   },
   "outputs": [],
   "source": []
  }
 ],
 "metadata": {
  "kernelspec": {
   "display_name": "Python 3",
   "language": "python",
   "name": "python3"
  },
  "language_info": {
   "codemirror_mode": {
    "name": "ipython",
    "version": 3
   },
   "file_extension": ".py",
   "mimetype": "text/x-python",
   "name": "python",
   "nbconvert_exporter": "python",
   "pygments_lexer": "ipython3",
   "version": "3.9.5"
  },
  "papermill": {
   "default_parameters": {},
   "duration": 9.628722,
   "end_time": "2021-12-20T10:30:14.425609",
   "environment_variables": {},
   "exception": null,
   "input_path": "eBay_Overview.ipynb",
   "output_path": "eBay_Overview.ipynb",
   "parameters": {},
   "start_time": "2021-12-20T10:30:04.796887",
   "version": "2.3.3"
  }
 },
 "nbformat": 4,
 "nbformat_minor": 5
}