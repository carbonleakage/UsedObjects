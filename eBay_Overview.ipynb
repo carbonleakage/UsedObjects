{
 "cells": [
  {
   "cell_type": "code",
   "execution_count": 1,
   "id": "reverse-picking",
   "metadata": {
    "execution": {
     "iopub.execute_input": "2021-10-27T10:30:07.257675Z",
     "iopub.status.busy": "2021-10-27T10:30:07.255647Z",
     "iopub.status.idle": "2021-10-27T10:30:08.060010Z",
     "shell.execute_reply": "2021-10-27T10:30:08.061421Z"
    },
    "papermill": {
     "duration": 0.856323,
     "end_time": "2021-10-27T10:30:08.062090",
     "exception": false,
     "start_time": "2021-10-27T10:30:07.205767",
     "status": "completed"
    },
    "tags": []
   },
   "outputs": [],
   "source": [
    "import pandas as pd\n",
    "import sqlite3"
   ]
  },
  {
   "cell_type": "code",
   "execution_count": 2,
   "id": "innovative-syndrome",
   "metadata": {
    "execution": {
     "iopub.execute_input": "2021-10-27T10:30:08.112977Z",
     "iopub.status.busy": "2021-10-27T10:30:08.110847Z",
     "iopub.status.idle": "2021-10-27T10:30:08.752837Z",
     "shell.execute_reply": "2021-10-27T10:30:08.754149Z"
    },
    "papermill": {
     "duration": 0.672285,
     "end_time": "2021-10-27T10:30:08.754571",
     "exception": false,
     "start_time": "2021-10-27T10:30:08.082286",
     "status": "completed"
    },
    "tags": []
   },
   "outputs": [],
   "source": [
    "timestamps = pd.read_sql(\"select distinct record_time from EBAY_TOP_BERLIN order by record_time desc limit 2\", sqlite3.connect(\"UsedObjects.db\"))"
   ]
  },
  {
   "cell_type": "code",
   "execution_count": 3,
   "id": "periodic-identification",
   "metadata": {
    "execution": {
     "iopub.execute_input": "2021-10-27T10:30:08.830989Z",
     "iopub.status.busy": "2021-10-27T10:30:08.828982Z",
     "iopub.status.idle": "2021-10-27T10:30:08.849055Z",
     "shell.execute_reply": "2021-10-27T10:30:08.850253Z"
    },
    "papermill": {
     "duration": 0.070391,
     "end_time": "2021-10-27T10:30:08.850680",
     "exception": false,
     "start_time": "2021-10-27T10:30:08.780289",
     "status": "completed"
    },
    "tags": []
   },
   "outputs": [
    {
     "data": {
      "text/html": [
       "<div>\n",
       "<style scoped>\n",
       "    .dataframe tbody tr th:only-of-type {\n",
       "        vertical-align: middle;\n",
       "    }\n",
       "\n",
       "    .dataframe tbody tr th {\n",
       "        vertical-align: top;\n",
       "    }\n",
       "\n",
       "    .dataframe thead th {\n",
       "        text-align: right;\n",
       "    }\n",
       "</style>\n",
       "<table border=\"1\" class=\"dataframe\">\n",
       "  <thead>\n",
       "    <tr style=\"text-align: right;\">\n",
       "      <th></th>\n",
       "      <th>RECORD_TIME</th>\n",
       "    </tr>\n",
       "  </thead>\n",
       "  <tbody>\n",
       "    <tr>\n",
       "      <th>0</th>\n",
       "      <td>2021-10-27 12:30</td>\n",
       "    </tr>\n",
       "    <tr>\n",
       "      <th>1</th>\n",
       "      <td>2021-10-27 12:00</td>\n",
       "    </tr>\n",
       "  </tbody>\n",
       "</table>\n",
       "</div>"
      ],
      "text/plain": [
       "        RECORD_TIME\n",
       "0  2021-10-27 12:30\n",
       "1  2021-10-27 12:00"
      ]
     },
     "execution_count": 3,
     "metadata": {},
     "output_type": "execute_result"
    }
   ],
   "source": [
    "timestamps"
   ]
  },
  {
   "cell_type": "code",
   "execution_count": 4,
   "id": "alternate-victory",
   "metadata": {
    "execution": {
     "iopub.execute_input": "2021-10-27T10:30:08.904305Z",
     "iopub.status.busy": "2021-10-27T10:30:08.902030Z",
     "iopub.status.idle": "2021-10-27T10:30:09.851079Z",
     "shell.execute_reply": "2021-10-27T10:30:09.852361Z"
    },
    "papermill": {
     "duration": 0.979342,
     "end_time": "2021-10-27T10:30:09.852822",
     "exception": false,
     "start_time": "2021-10-27T10:30:08.873480",
     "status": "completed"
    },
    "tags": []
   },
   "outputs": [],
   "source": [
    "df = pd.read_sql(\"select * from EBAY_TOP_BERLIN where record_time in (select distinct record_time from EBAY_TOP_BERLIN order by record_time desc limit 2)\", sqlite3.connect(\"UsedObjects.db\"))"
   ]
  },
  {
   "cell_type": "code",
   "execution_count": 5,
   "id": "popular-active",
   "metadata": {
    "execution": {
     "iopub.execute_input": "2021-10-27T10:30:09.918397Z",
     "iopub.status.busy": "2021-10-27T10:30:09.911997Z",
     "iopub.status.idle": "2021-10-27T10:30:09.938754Z",
     "shell.execute_reply": "2021-10-27T10:30:09.939963Z"
    },
    "papermill": {
     "duration": 0.066702,
     "end_time": "2021-10-27T10:30:09.940358",
     "exception": false,
     "start_time": "2021-10-27T10:30:09.873656",
     "status": "completed"
    },
    "tags": []
   },
   "outputs": [],
   "source": [
    "df_pivot = df.pivot_table(index=\"PRODUCT\", columns = \"RECORD_TIME\", values = \"LISTING_COUNT\")"
   ]
  },
  {
   "cell_type": "code",
   "execution_count": 6,
   "id": "union-huntington",
   "metadata": {
    "execution": {
     "iopub.execute_input": "2021-10-27T10:30:09.999660Z",
     "iopub.status.busy": "2021-10-27T10:30:09.997240Z",
     "iopub.status.idle": "2021-10-27T10:30:10.003366Z",
     "shell.execute_reply": "2021-10-27T10:30:10.004884Z"
    },
    "papermill": {
     "duration": 0.042682,
     "end_time": "2021-10-27T10:30:10.005362",
     "exception": false,
     "start_time": "2021-10-27T10:30:09.962680",
     "status": "completed"
    },
    "tags": []
   },
   "outputs": [],
   "source": [
    "df_pivot.columns = [\"stamp_1\", \"stamp_2\"]\n",
    "df_pivot_diff = df_pivot.diff(axis=1)"
   ]
  },
  {
   "cell_type": "code",
   "execution_count": 7,
   "id": "fifth-motion",
   "metadata": {
    "execution": {
     "iopub.execute_input": "2021-10-27T10:30:10.060634Z",
     "iopub.status.busy": "2021-10-27T10:30:10.058230Z",
     "iopub.status.idle": "2021-10-27T10:30:11.537843Z",
     "shell.execute_reply": "2021-10-27T10:30:11.539114Z"
    },
    "papermill": {
     "duration": 1.512201,
     "end_time": "2021-10-27T10:30:11.539527",
     "exception": false,
     "start_time": "2021-10-27T10:30:10.027326",
     "status": "completed"
    },
    "tags": []
   },
   "outputs": [
    {
     "data": {
      "text/plain": [
       "<AxesSubplot:ylabel='PRODUCT'>"
      ]
     },
     "execution_count": 7,
     "metadata": {},
     "output_type": "execute_result"
    },
    {
     "data": {
      "image/png": "[encoded data removed]",
      "text/plain": [
       "<Figure size 432x288 with 1 Axes>"
      ]
     },
     "metadata": {
      "needs_background": "light"
     },
     "output_type": "display_data"
    }
   ],
   "source": [
    "df_pivot_diff.sort_values(\"stamp_2\", ascending = False)[\"stamp_2\"].head(10).plot.barh()"
   ]
  },
  {
   "cell_type": "code",
   "execution_count": null,
   "id": "extra-executive",
   "metadata": {
    "papermill": {
     "duration": 0.022017,
     "end_time": "2021-10-27T10:30:11.586201",
     "exception": false,
     "start_time": "2021-10-27T10:30:11.564184",
     "status": "completed"
    },
    "tags": []
   },
   "outputs": [],
   "source": []
  }
 ],
 "metadata": {
  "kernelspec": {
   "display_name": "Python 3",
   "language": "python",
   "name": "python3"
  },
  "language_info": {
   "codemirror_mode": {
    "name": "ipython",
    "version": 3
   },
   "file_extension": ".py",
   "mimetype": "text/x-python",
   "name": "python",
   "nbconvert_exporter": "python",
   "pygments_lexer": "ipython3",
   "version": "3.9.5"
  },
  "papermill": {
   "default_parameters": {},
   "duration": 7.429988,
   "end_time": "2021-10-27T10:30:12.230510",
   "environment_variables": {},
   "exception": null,
   "input_path": "eBay_Overview.ipynb",
   "output_path": "eBay_Overview.ipynb",
   "parameters": {},
   "start_time": "2021-10-27T10:30:04.800522",
   "version": "2.3.3"
  }
 },
 "nbformat": 4,
 "nbformat_minor": 5
}