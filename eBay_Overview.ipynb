{
 "cells": [
  {
   "cell_type": "code",
   "execution_count": 1,
   "id": "reverse-picking",
   "metadata": {
    "execution": {
     "iopub.execute_input": "2021-12-08T18:00:07.609884Z",
     "iopub.status.busy": "2021-12-08T18:00:07.607319Z",
     "iopub.status.idle": "2021-12-08T18:00:08.555387Z",
     "shell.execute_reply": "2021-12-08T18:00:08.556959Z"
    },
    "papermill": {
     "duration": 0.997279,
     "end_time": "2021-12-08T18:00:08.557673",
     "exception": false,
     "start_time": "2021-12-08T18:00:07.560394",
     "status": "completed"
    },
    "tags": []
   },
   "outputs": [],
   "source": [
    "import pandas as pd\n",
    "import sqlite3"
   ]
  },
  {
   "cell_type": "code",
   "execution_count": 2,
   "id": "innovative-syndrome",
   "metadata": {
    "execution": {
     "iopub.execute_input": "2021-12-08T18:00:08.621302Z",
     "iopub.status.busy": "2021-12-08T18:00:08.618584Z",
     "iopub.status.idle": "2021-12-08T18:00:09.660486Z",
     "shell.execute_reply": "2021-12-08T18:00:09.663461Z"
    },
    "papermill": {
     "duration": 1.079479,
     "end_time": "2021-12-08T18:00:09.664145",
     "exception": false,
     "start_time": "2021-12-08T18:00:08.584666",
     "status": "completed"
    },
    "tags": []
   },
   "outputs": [],
   "source": [
    "timestamps = pd.read_sql(\"select distinct record_time from EBAY_TOP_BERLIN order by record_time desc limit 2\", sqlite3.connect(\"UsedObjects.db\"))"
   ]
  },
  {
   "cell_type": "code",
   "execution_count": 3,
   "id": "periodic-identification",
   "metadata": {
    "execution": {
     "iopub.execute_input": "2021-12-08T18:00:09.754943Z",
     "iopub.status.busy": "2021-12-08T18:00:09.752439Z",
     "iopub.status.idle": "2021-12-08T18:00:09.778278Z",
     "shell.execute_reply": "2021-12-08T18:00:09.776434Z"
    },
    "papermill": {
     "duration": 0.082788,
     "end_time": "2021-12-08T18:00:09.778728",
     "exception": false,
     "start_time": "2021-12-08T18:00:09.695940",
     "status": "completed"
    },
    "tags": []
   },
   "outputs": [
    {
     "data": {
      "text/html": [
       "<div>\n",
       "<style scoped>\n",
       "    .dataframe tbody tr th:only-of-type {\n",
       "        vertical-align: middle;\n",
       "    }\n",
       "\n",
       "    .dataframe tbody tr th {\n",
       "        vertical-align: top;\n",
       "    }\n",
       "\n",
       "    .dataframe thead th {\n",
       "        text-align: right;\n",
       "    }\n",
       "</style>\n",
       "<table border=\"1\" class=\"dataframe\">\n",
       "  <thead>\n",
       "    <tr style=\"text-align: right;\">\n",
       "      <th></th>\n",
       "      <th>RECORD_TIME</th>\n",
       "    </tr>\n",
       "  </thead>\n",
       "  <tbody>\n",
       "    <tr>\n",
       "      <th>0</th>\n",
       "      <td>2021-12-08 19:00</td>\n",
       "    </tr>\n",
       "    <tr>\n",
       "      <th>1</th>\n",
       "      <td>2021-12-08 18:30</td>\n",
       "    </tr>\n",
       "  </tbody>\n",
       "</table>\n",
       "</div>"
      ],
      "text/plain": [
       "        RECORD_TIME\n",
       "0  2021-12-08 19:00\n",
       "1  2021-12-08 18:30"
      ]
     },
     "execution_count": 3,
     "metadata": {},
     "output_type": "execute_result"
    }
   ],
   "source": [
    "timestamps"
   ]
  },
  {
   "cell_type": "code",
   "execution_count": 4,
   "id": "alternate-victory",
   "metadata": {
    "execution": {
     "iopub.execute_input": "2021-12-08T18:00:09.835120Z",
     "iopub.status.busy": "2021-12-08T18:00:09.832903Z",
     "iopub.status.idle": "2021-12-08T18:00:11.321955Z",
     "shell.execute_reply": "2021-12-08T18:00:11.324106Z"
    },
    "papermill": {
     "duration": 1.523471,
     "end_time": "2021-12-08T18:00:11.324804",
     "exception": false,
     "start_time": "2021-12-08T18:00:09.801333",
     "status": "completed"
    },
    "tags": []
   },
   "outputs": [],
   "source": [
    "df = pd.read_sql(\"select * from EBAY_TOP_BERLIN where record_time in (select distinct record_time from EBAY_TOP_BERLIN order by record_time desc limit 2)\", sqlite3.connect(\"UsedObjects.db\"))"
   ]
  },
  {
   "cell_type": "code",
   "execution_count": 5,
   "id": "popular-active",
   "metadata": {
    "execution": {
     "iopub.execute_input": "2021-12-08T18:00:11.437567Z",
     "iopub.status.busy": "2021-12-08T18:00:11.423555Z",
     "iopub.status.idle": "2021-12-08T18:00:11.471728Z",
     "shell.execute_reply": "2021-12-08T18:00:11.473777Z"
    },
    "papermill": {
     "duration": 0.118685,
     "end_time": "2021-12-08T18:00:11.474373",
     "exception": false,
     "start_time": "2021-12-08T18:00:11.355688",
     "status": "completed"
    },
    "tags": []
   },
   "outputs": [],
   "source": [
    "df_pivot = df.pivot_table(index=\"PRODUCT\", columns = \"RECORD_TIME\", values = \"LISTING_COUNT\")"
   ]
  },
  {
   "cell_type": "code",
   "execution_count": 6,
   "id": "union-huntington",
   "metadata": {
    "execution": {
     "iopub.execute_input": "2021-12-08T18:00:11.563559Z",
     "iopub.status.busy": "2021-12-08T18:00:11.560506Z",
     "iopub.status.idle": "2021-12-08T18:00:11.570570Z",
     "shell.execute_reply": "2021-12-08T18:00:11.572962Z"
    },
    "papermill": {
     "duration": 0.073239,
     "end_time": "2021-12-08T18:00:11.573562",
     "exception": false,
     "start_time": "2021-12-08T18:00:11.500323",
     "status": "completed"
    },
    "tags": []
   },
   "outputs": [],
   "source": [
    "df_pivot.columns = [\"stamp_1\", \"stamp_2\"]\n",
    "df_pivot_diff = df_pivot.diff(axis=1)"
   ]
  },
  {
   "cell_type": "code",
   "execution_count": 7,
   "id": "fifth-motion",
   "metadata": {
    "execution": {
     "iopub.execute_input": "2021-12-08T18:00:11.651269Z",
     "iopub.status.busy": "2021-12-08T18:00:11.648038Z",
     "iopub.status.idle": "2021-12-08T18:00:13.352808Z",
     "shell.execute_reply": "2021-12-08T18:00:13.354133Z"
    },
    "papermill": {
     "duration": 1.749712,
     "end_time": "2021-12-08T18:00:13.354551",
     "exception": false,
     "start_time": "2021-12-08T18:00:11.604839",
     "status": "completed"
    },
    "tags": []
   },
   "outputs": [
    {
     "data": {
      "text/plain": [
       "<AxesSubplot:ylabel='PRODUCT'>"
      ]
     },
     "execution_count": 7,
     "metadata": {},
     "output_type": "execute_result"
    },
    {
     "data": {
      "image/png": "[encoded data removed]",
      "text/plain": [
       "<Figure size 432x288 with 1 Axes>"
      ]
     },
     "metadata": {
      "needs_background": "light"
     },
     "output_type": "display_data"
    }
   ],
   "source": [
    "df_pivot_diff.sort_values(\"stamp_2\", ascending = False)[\"stamp_2\"].head(10).plot.barh()"
   ]
  },
  {
   "cell_type": "code",
   "execution_count": null,
   "id": "extra-executive",
   "metadata": {
    "papermill": {
     "duration": 0.022291,
     "end_time": "2021-12-08T18:00:13.401729",
     "exception": false,
     "start_time": "2021-12-08T18:00:13.379438",
     "status": "completed"
    },
    "tags": []
   },
   "outputs": [],
   "source": []
  }
 ],
 "metadata": {
  "kernelspec": {
   "display_name": "Python 3",
   "language": "python",
   "name": "python3"
  },
  "language_info": {
   "codemirror_mode": {
    "name": "ipython",
    "version": 3
   },
   "file_extension": ".py",
   "mimetype": "text/x-python",
   "name": "python",
   "nbconvert_exporter": "python",
   "pygments_lexer": "ipython3",
   "version": "3.9.5"
  },
  "papermill": {
   "default_parameters": {},
   "duration": 9.94158,
   "end_time": "2021-12-08T18:00:14.777213",
   "environment_variables": {},
   "exception": null,
   "input_path": "eBay_Overview.ipynb",
   "output_path": "eBay_Overview.ipynb",
   "parameters": {},
   "start_time": "2021-12-08T18:00:04.835633",
   "version": "2.3.3"
  }
 },
 "nbformat": 4,
 "nbformat_minor": 5
}