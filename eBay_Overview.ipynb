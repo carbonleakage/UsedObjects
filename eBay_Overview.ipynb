{
 "cells": [
  {
   "cell_type": "code",
   "execution_count": 1,
   "id": "reverse-picking",
   "metadata": {
    "execution": {
     "iopub.execute_input": "2021-11-17T22:30:07.151129Z",
     "iopub.status.busy": "2021-11-17T22:30:07.149142Z",
     "iopub.status.idle": "2021-11-17T22:30:08.108333Z",
     "shell.execute_reply": "2021-11-17T22:30:08.109969Z"
    },
    "papermill": {
     "duration": 1.006971,
     "end_time": "2021-11-17T22:30:08.110637",
     "exception": false,
     "start_time": "2021-11-17T22:30:07.103666",
     "status": "completed"
    },
    "tags": []
   },
   "outputs": [],
   "source": [
    "import pandas as pd\n",
    "import sqlite3"
   ]
  },
  {
   "cell_type": "code",
   "execution_count": 2,
   "id": "innovative-syndrome",
   "metadata": {
    "execution": {
     "iopub.execute_input": "2021-11-17T22:30:08.161924Z",
     "iopub.status.busy": "2021-11-17T22:30:08.159737Z",
     "iopub.status.idle": "2021-11-17T22:30:08.992827Z",
     "shell.execute_reply": "2021-11-17T22:30:08.994396Z"
    },
    "papermill": {
     "duration": 0.864875,
     "end_time": "2021-11-17T22:30:08.994884",
     "exception": false,
     "start_time": "2021-11-17T22:30:08.130009",
     "status": "completed"
    },
    "tags": []
   },
   "outputs": [],
   "source": [
    "timestamps = pd.read_sql(\"select distinct record_time from EBAY_TOP_BERLIN order by record_time desc limit 2\", sqlite3.connect(\"UsedObjects.db\"))"
   ]
  },
  {
   "cell_type": "code",
   "execution_count": 3,
   "id": "periodic-identification",
   "metadata": {
    "execution": {
     "iopub.execute_input": "2021-11-17T22:30:09.070498Z",
     "iopub.status.busy": "2021-11-17T22:30:09.063428Z",
     "iopub.status.idle": "2021-11-17T22:30:09.086869Z",
     "shell.execute_reply": "2021-11-17T22:30:09.088354Z"
    },
    "papermill": {
     "duration": 0.073577,
     "end_time": "2021-11-17T22:30:09.088908",
     "exception": false,
     "start_time": "2021-11-17T22:30:09.015331",
     "status": "completed"
    },
    "tags": []
   },
   "outputs": [
    {
     "data": {
      "text/html": [
       "<div>\n",
       "<style scoped>\n",
       "    .dataframe tbody tr th:only-of-type {\n",
       "        vertical-align: middle;\n",
       "    }\n",
       "\n",
       "    .dataframe tbody tr th {\n",
       "        vertical-align: top;\n",
       "    }\n",
       "\n",
       "    .dataframe thead th {\n",
       "        text-align: right;\n",
       "    }\n",
       "</style>\n",
       "<table border=\"1\" class=\"dataframe\">\n",
       "  <thead>\n",
       "    <tr style=\"text-align: right;\">\n",
       "      <th></th>\n",
       "      <th>RECORD_TIME</th>\n",
       "    </tr>\n",
       "  </thead>\n",
       "  <tbody>\n",
       "    <tr>\n",
       "      <th>0</th>\n",
       "      <td>2021-11-17 23:30</td>\n",
       "    </tr>\n",
       "    <tr>\n",
       "      <th>1</th>\n",
       "      <td>2021-11-17 23:00</td>\n",
       "    </tr>\n",
       "  </tbody>\n",
       "</table>\n",
       "</div>"
      ],
      "text/plain": [
       "        RECORD_TIME\n",
       "0  2021-11-17 23:30\n",
       "1  2021-11-17 23:00"
      ]
     },
     "execution_count": 3,
     "metadata": {},
     "output_type": "execute_result"
    }
   ],
   "source": [
    "timestamps"
   ]
  },
  {
   "cell_type": "code",
   "execution_count": 4,
   "id": "alternate-victory",
   "metadata": {
    "execution": {
     "iopub.execute_input": "2021-11-17T22:30:09.145776Z",
     "iopub.status.busy": "2021-11-17T22:30:09.143296Z",
     "iopub.status.idle": "2021-11-17T22:30:10.361972Z",
     "shell.execute_reply": "2021-11-17T22:30:10.364045Z"
    },
    "papermill": {
     "duration": 1.252988,
     "end_time": "2021-11-17T22:30:10.364503",
     "exception": false,
     "start_time": "2021-11-17T22:30:09.111515",
     "status": "completed"
    },
    "tags": []
   },
   "outputs": [],
   "source": [
    "df = pd.read_sql(\"select * from EBAY_TOP_BERLIN where record_time in (select distinct record_time from EBAY_TOP_BERLIN order by record_time desc limit 2)\", sqlite3.connect(\"UsedObjects.db\"))"
   ]
  },
  {
   "cell_type": "code",
   "execution_count": 5,
   "id": "popular-active",
   "metadata": {
    "execution": {
     "iopub.execute_input": "2021-11-17T22:30:10.430164Z",
     "iopub.status.busy": "2021-11-17T22:30:10.427767Z",
     "iopub.status.idle": "2021-11-17T22:30:10.458006Z",
     "shell.execute_reply": "2021-11-17T22:30:10.459285Z"
    },
    "papermill": {
     "duration": 0.074511,
     "end_time": "2021-11-17T22:30:10.459679",
     "exception": false,
     "start_time": "2021-11-17T22:30:10.385168",
     "status": "completed"
    },
    "tags": []
   },
   "outputs": [],
   "source": [
    "df_pivot = df.pivot_table(index=\"PRODUCT\", columns = \"RECORD_TIME\", values = \"LISTING_COUNT\")"
   ]
  },
  {
   "cell_type": "code",
   "execution_count": 6,
   "id": "union-huntington",
   "metadata": {
    "execution": {
     "iopub.execute_input": "2021-11-17T22:30:10.515056Z",
     "iopub.status.busy": "2021-11-17T22:30:10.512880Z",
     "iopub.status.idle": "2021-11-17T22:30:10.518357Z",
     "shell.execute_reply": "2021-11-17T22:30:10.519746Z"
    },
    "papermill": {
     "duration": 0.040662,
     "end_time": "2021-11-17T22:30:10.520185",
     "exception": false,
     "start_time": "2021-11-17T22:30:10.479523",
     "status": "completed"
    },
    "tags": []
   },
   "outputs": [],
   "source": [
    "df_pivot.columns = [\"stamp_1\", \"stamp_2\"]\n",
    "df_pivot_diff = df_pivot.diff(axis=1)"
   ]
  },
  {
   "cell_type": "code",
   "execution_count": 7,
   "id": "fifth-motion",
   "metadata": {
    "execution": {
     "iopub.execute_input": "2021-11-17T22:30:10.574614Z",
     "iopub.status.busy": "2021-11-17T22:30:10.571998Z",
     "iopub.status.idle": "2021-11-17T22:30:12.295413Z",
     "shell.execute_reply": "2021-11-17T22:30:12.296829Z"
    },
    "papermill": {
     "duration": 1.756653,
     "end_time": "2021-11-17T22:30:12.297302",
     "exception": false,
     "start_time": "2021-11-17T22:30:10.540649",
     "status": "completed"
    },
    "tags": []
   },
   "outputs": [
    {
     "data": {
      "text/plain": [
       "<AxesSubplot:ylabel='PRODUCT'>"
      ]
     },
     "execution_count": 7,
     "metadata": {},
     "output_type": "execute_result"
    },
    {
     "data": {
      "image/png": "[encoded data removed]",
      "text/plain": [
       "<Figure size 432x288 with 1 Axes>"
      ]
     },
     "metadata": {
      "needs_background": "light"
     },
     "output_type": "display_data"
    }
   ],
   "source": [
    "df_pivot_diff.sort_values(\"stamp_2\", ascending = False)[\"stamp_2\"].head(10).plot.barh()"
   ]
  },
  {
   "cell_type": "code",
   "execution_count": null,
   "id": "extra-executive",
   "metadata": {
    "papermill": {
     "duration": 0.023845,
     "end_time": "2021-11-17T22:30:12.346032",
     "exception": false,
     "start_time": "2021-11-17T22:30:12.322187",
     "status": "completed"
    },
    "tags": []
   },
   "outputs": [],
   "source": []
  }
 ],
 "metadata": {
  "kernelspec": {
   "display_name": "Python 3",
   "language": "python",
   "name": "python3"
  },
  "language_info": {
   "codemirror_mode": {
    "name": "ipython",
    "version": 3
   },
   "file_extension": ".py",
   "mimetype": "text/x-python",
   "name": "python",
   "nbconvert_exporter": "python",
   "pygments_lexer": "ipython3",
   "version": "3.9.5"
  },
  "papermill": {
   "default_parameters": {},
   "duration": 8.726812,
   "end_time": "2021-11-17T22:30:13.092160",
   "environment_variables": {},
   "exception": null,
   "input_path": "eBay_Overview.ipynb",
   "output_path": "eBay_Overview.ipynb",
   "parameters": {},
   "start_time": "2021-11-17T22:30:04.365348",
   "version": "2.3.3"
  }
 },
 "nbformat": 4,
 "nbformat_minor": 5
}