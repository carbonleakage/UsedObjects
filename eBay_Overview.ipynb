{
 "cells": [
  {
   "cell_type": "code",
   "execution_count": 1,
   "id": "reverse-picking",
   "metadata": {
    "execution": {
     "iopub.execute_input": "2021-09-26T03:00:06.617482Z",
     "iopub.status.busy": "2021-09-26T03:00:06.615487Z",
     "iopub.status.idle": "2021-09-26T03:00:07.419562Z",
     "shell.execute_reply": "2021-09-26T03:00:07.420856Z"
    },
    "papermill": {
     "duration": 0.854642,
     "end_time": "2021-09-26T03:00:07.421487",
     "exception": false,
     "start_time": "2021-09-26T03:00:06.566845",
     "status": "completed"
    },
    "tags": []
   },
   "outputs": [],
   "source": [
    "import pandas as pd\n",
    "import sqlite3"
   ]
  },
  {
   "cell_type": "code",
   "execution_count": 2,
   "id": "innovative-syndrome",
   "metadata": {
    "execution": {
     "iopub.execute_input": "2021-09-26T03:00:07.471813Z",
     "iopub.status.busy": "2021-09-26T03:00:07.469825Z",
     "iopub.status.idle": "2021-09-26T03:00:07.854413Z",
     "shell.execute_reply": "2021-09-26T03:00:07.855953Z"
    },
    "papermill": {
     "duration": 0.414298,
     "end_time": "2021-09-26T03:00:07.856394",
     "exception": false,
     "start_time": "2021-09-26T03:00:07.442096",
     "status": "completed"
    },
    "tags": []
   },
   "outputs": [],
   "source": [
    "timestamps = pd.read_sql(\"select distinct record_time from EBAY_TOP_BERLIN order by record_time desc limit 2\", sqlite3.connect(\"UsedObjects.db\"))"
   ]
  },
  {
   "cell_type": "code",
   "execution_count": 3,
   "id": "periodic-identification",
   "metadata": {
    "execution": {
     "iopub.execute_input": "2021-09-26T03:00:07.921616Z",
     "iopub.status.busy": "2021-09-26T03:00:07.919606Z",
     "iopub.status.idle": "2021-09-26T03:00:07.941963Z",
     "shell.execute_reply": "2021-09-26T03:00:07.943646Z"
    },
    "papermill": {
     "duration": 0.068558,
     "end_time": "2021-09-26T03:00:07.944204",
     "exception": false,
     "start_time": "2021-09-26T03:00:07.875646",
     "status": "completed"
    },
    "tags": []
   },
   "outputs": [
    {
     "data": {
      "text/html": [
       "<div>\n",
       "<style scoped>\n",
       "    .dataframe tbody tr th:only-of-type {\n",
       "        vertical-align: middle;\n",
       "    }\n",
       "\n",
       "    .dataframe tbody tr th {\n",
       "        vertical-align: top;\n",
       "    }\n",
       "\n",
       "    .dataframe thead th {\n",
       "        text-align: right;\n",
       "    }\n",
       "</style>\n",
       "<table border=\"1\" class=\"dataframe\">\n",
       "  <thead>\n",
       "    <tr style=\"text-align: right;\">\n",
       "      <th></th>\n",
       "      <th>RECORD_TIME</th>\n",
       "    </tr>\n",
       "  </thead>\n",
       "  <tbody>\n",
       "    <tr>\n",
       "      <th>0</th>\n",
       "      <td>2021-09-26 05:00</td>\n",
       "    </tr>\n",
       "    <tr>\n",
       "      <th>1</th>\n",
       "      <td>2021-09-26 04:30</td>\n",
       "    </tr>\n",
       "  </tbody>\n",
       "</table>\n",
       "</div>"
      ],
      "text/plain": [
       "        RECORD_TIME\n",
       "0  2021-09-26 05:00\n",
       "1  2021-09-26 04:30"
      ]
     },
     "execution_count": 3,
     "metadata": {},
     "output_type": "execute_result"
    }
   ],
   "source": [
    "timestamps"
   ]
  },
  {
   "cell_type": "code",
   "execution_count": 4,
   "id": "alternate-victory",
   "metadata": {
    "execution": {
     "iopub.execute_input": "2021-09-26T03:00:07.997069Z",
     "iopub.status.busy": "2021-09-26T03:00:07.995220Z",
     "iopub.status.idle": "2021-09-26T03:00:08.562280Z",
     "shell.execute_reply": "2021-09-26T03:00:08.564298Z"
    },
    "papermill": {
     "duration": 0.597989,
     "end_time": "2021-09-26T03:00:08.564844",
     "exception": false,
     "start_time": "2021-09-26T03:00:07.966855",
     "status": "completed"
    },
    "tags": []
   },
   "outputs": [],
   "source": [
    "df = pd.read_sql(\"select * from EBAY_TOP_BERLIN where record_time in (select distinct record_time from EBAY_TOP_BERLIN order by record_time desc limit 2)\", sqlite3.connect(\"UsedObjects.db\"))"
   ]
  },
  {
   "cell_type": "code",
   "execution_count": 5,
   "id": "popular-active",
   "metadata": {
    "execution": {
     "iopub.execute_input": "2021-09-26T03:00:08.643132Z",
     "iopub.status.busy": "2021-09-26T03:00:08.630708Z",
     "iopub.status.idle": "2021-09-26T03:00:08.658763Z",
     "shell.execute_reply": "2021-09-26T03:00:08.660130Z"
    },
    "papermill": {
     "duration": 0.070332,
     "end_time": "2021-09-26T03:00:08.660548",
     "exception": false,
     "start_time": "2021-09-26T03:00:08.590216",
     "status": "completed"
    },
    "tags": []
   },
   "outputs": [],
   "source": [
    "df_pivot = df.pivot_table(index=\"PRODUCT\", columns = \"RECORD_TIME\", values = \"LISTING_COUNT\")"
   ]
  },
  {
   "cell_type": "code",
   "execution_count": 6,
   "id": "union-huntington",
   "metadata": {
    "execution": {
     "iopub.execute_input": "2021-09-26T03:00:08.715915Z",
     "iopub.status.busy": "2021-09-26T03:00:08.713803Z",
     "iopub.status.idle": "2021-09-26T03:00:08.719175Z",
     "shell.execute_reply": "2021-09-26T03:00:08.720393Z"
    },
    "papermill": {
     "duration": 0.040382,
     "end_time": "2021-09-26T03:00:08.720823",
     "exception": false,
     "start_time": "2021-09-26T03:00:08.680441",
     "status": "completed"
    },
    "tags": []
   },
   "outputs": [],
   "source": [
    "df_pivot.columns = [\"stamp_1\", \"stamp_2\"]\n",
    "df_pivot_diff = df_pivot.diff(axis=1)"
   ]
  },
  {
   "cell_type": "code",
   "execution_count": 7,
   "id": "fifth-motion",
   "metadata": {
    "execution": {
     "iopub.execute_input": "2021-09-26T03:00:08.774429Z",
     "iopub.status.busy": "2021-09-26T03:00:08.772024Z",
     "iopub.status.idle": "2021-09-26T03:00:10.249767Z",
     "shell.execute_reply": "2021-09-26T03:00:10.251022Z"
    },
    "papermill": {
     "duration": 1.51041,
     "end_time": "2021-09-26T03:00:10.251460",
     "exception": false,
     "start_time": "2021-09-26T03:00:08.741050",
     "status": "completed"
    },
    "tags": []
   },
   "outputs": [
    {
     "data": {
      "text/plain": [
       "<AxesSubplot:ylabel='PRODUCT'>"
      ]
     },
     "execution_count": 7,
     "metadata": {},
     "output_type": "execute_result"
    },
    {
     "data": {
      "image/png": "[encoded data removed]",
      "text/plain": [
       "<Figure size 432x288 with 1 Axes>"
      ]
     },
     "metadata": {
      "needs_background": "light"
     },
     "output_type": "display_data"
    }
   ],
   "source": [
    "df_pivot_diff.sort_values(\"stamp_2\", ascending = False)[\"stamp_2\"].head(10).plot.barh()"
   ]
  },
  {
   "cell_type": "code",
   "execution_count": null,
   "id": "extra-executive",
   "metadata": {
    "papermill": {
     "duration": 0.022044,
     "end_time": "2021-09-26T03:00:10.299624",
     "exception": false,
     "start_time": "2021-09-26T03:00:10.277580",
     "status": "completed"
    },
    "tags": []
   },
   "outputs": [],
   "source": []
  }
 ],
 "metadata": {
  "kernelspec": {
   "display_name": "Python 3",
   "language": "python",
   "name": "python3"
  },
  "language_info": {
   "codemirror_mode": {
    "name": "ipython",
    "version": 3
   },
   "file_extension": ".py",
   "mimetype": "text/x-python",
   "name": "python",
   "nbconvert_exporter": "python",
   "pygments_lexer": "ipython3",
   "version": "3.9.5"
  },
  "papermill": {
   "default_parameters": {},
   "duration": 6.777704,
   "end_time": "2021-09-26T03:00:10.943811",
   "environment_variables": {},
   "exception": null,
   "input_path": "eBay_Overview.ipynb",
   "output_path": "eBay_Overview.ipynb",
   "parameters": {},
   "start_time": "2021-09-26T03:00:04.166107",
   "version": "2.3.3"
  }
 },
 "nbformat": 4,
 "nbformat_minor": 5
}