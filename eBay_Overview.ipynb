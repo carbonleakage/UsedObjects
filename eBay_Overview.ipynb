{
 "cells": [
  {
   "cell_type": "code",
   "execution_count": 1,
   "id": "reverse-picking",
   "metadata": {
    "execution": {
     "iopub.execute_input": "2021-11-26T04:30:07.319902Z",
     "iopub.status.busy": "2021-11-26T04:30:07.317789Z",
     "iopub.status.idle": "2021-11-26T04:30:08.269165Z",
     "shell.execute_reply": "2021-11-26T04:30:08.267221Z"
    },
    "papermill": {
     "duration": 1.001428,
     "end_time": "2021-11-26T04:30:08.269669",
     "exception": false,
     "start_time": "2021-11-26T04:30:07.268241",
     "status": "completed"
    },
    "tags": []
   },
   "outputs": [],
   "source": [
    "import pandas as pd\n",
    "import sqlite3"
   ]
  },
  {
   "cell_type": "code",
   "execution_count": 2,
   "id": "innovative-syndrome",
   "metadata": {
    "execution": {
     "iopub.execute_input": "2021-11-26T04:30:08.334767Z",
     "iopub.status.busy": "2021-11-26T04:30:08.332305Z",
     "iopub.status.idle": "2021-11-26T04:30:09.230049Z",
     "shell.execute_reply": "2021-11-26T04:30:09.231585Z"
    },
    "papermill": {
     "duration": 0.9346,
     "end_time": "2021-11-26T04:30:09.232071",
     "exception": false,
     "start_time": "2021-11-26T04:30:08.297471",
     "status": "completed"
    },
    "tags": []
   },
   "outputs": [],
   "source": [
    "timestamps = pd.read_sql(\"select distinct record_time from EBAY_TOP_BERLIN order by record_time desc limit 2\", sqlite3.connect(\"UsedObjects.db\"))"
   ]
  },
  {
   "cell_type": "code",
   "execution_count": 3,
   "id": "periodic-identification",
   "metadata": {
    "execution": {
     "iopub.execute_input": "2021-11-26T04:30:09.301753Z",
     "iopub.status.busy": "2021-11-26T04:30:09.298647Z",
     "iopub.status.idle": "2021-11-26T04:30:09.324163Z",
     "shell.execute_reply": "2021-11-26T04:30:09.326069Z"
    },
    "papermill": {
     "duration": 0.074431,
     "end_time": "2021-11-26T04:30:09.326612",
     "exception": false,
     "start_time": "2021-11-26T04:30:09.252181",
     "status": "completed"
    },
    "tags": []
   },
   "outputs": [
    {
     "data": {
      "text/html": [
       "<div>\n",
       "<style scoped>\n",
       "    .dataframe tbody tr th:only-of-type {\n",
       "        vertical-align: middle;\n",
       "    }\n",
       "\n",
       "    .dataframe tbody tr th {\n",
       "        vertical-align: top;\n",
       "    }\n",
       "\n",
       "    .dataframe thead th {\n",
       "        text-align: right;\n",
       "    }\n",
       "</style>\n",
       "<table border=\"1\" class=\"dataframe\">\n",
       "  <thead>\n",
       "    <tr style=\"text-align: right;\">\n",
       "      <th></th>\n",
       "      <th>RECORD_TIME</th>\n",
       "    </tr>\n",
       "  </thead>\n",
       "  <tbody>\n",
       "    <tr>\n",
       "      <th>0</th>\n",
       "      <td>2021-11-26 05:30</td>\n",
       "    </tr>\n",
       "    <tr>\n",
       "      <th>1</th>\n",
       "      <td>2021-11-26 05:00</td>\n",
       "    </tr>\n",
       "  </tbody>\n",
       "</table>\n",
       "</div>"
      ],
      "text/plain": [
       "        RECORD_TIME\n",
       "0  2021-11-26 05:30\n",
       "1  2021-11-26 05:00"
      ]
     },
     "execution_count": 3,
     "metadata": {},
     "output_type": "execute_result"
    }
   ],
   "source": [
    "timestamps"
   ]
  },
  {
   "cell_type": "code",
   "execution_count": 4,
   "id": "alternate-victory",
   "metadata": {
    "execution": {
     "iopub.execute_input": "2021-11-26T04:30:09.383252Z",
     "iopub.status.busy": "2021-11-26T04:30:09.381220Z",
     "iopub.status.idle": "2021-11-26T04:30:10.714552Z",
     "shell.execute_reply": "2021-11-26T04:30:10.716200Z"
    },
    "papermill": {
     "duration": 1.364552,
     "end_time": "2021-11-26T04:30:10.716731",
     "exception": false,
     "start_time": "2021-11-26T04:30:09.352179",
     "status": "completed"
    },
    "tags": []
   },
   "outputs": [],
   "source": [
    "df = pd.read_sql(\"select * from EBAY_TOP_BERLIN where record_time in (select distinct record_time from EBAY_TOP_BERLIN order by record_time desc limit 2)\", sqlite3.connect(\"UsedObjects.db\"))"
   ]
  },
  {
   "cell_type": "code",
   "execution_count": 5,
   "id": "popular-active",
   "metadata": {
    "execution": {
     "iopub.execute_input": "2021-11-26T04:30:10.796166Z",
     "iopub.status.busy": "2021-11-26T04:30:10.787744Z",
     "iopub.status.idle": "2021-11-26T04:30:10.815454Z",
     "shell.execute_reply": "2021-11-26T04:30:10.813993Z"
    },
    "papermill": {
     "duration": 0.077065,
     "end_time": "2021-11-26T04:30:10.815869",
     "exception": false,
     "start_time": "2021-11-26T04:30:10.738804",
     "status": "completed"
    },
    "tags": []
   },
   "outputs": [],
   "source": [
    "df_pivot = df.pivot_table(index=\"PRODUCT\", columns = \"RECORD_TIME\", values = \"LISTING_COUNT\")"
   ]
  },
  {
   "cell_type": "code",
   "execution_count": 6,
   "id": "union-huntington",
   "metadata": {
    "execution": {
     "iopub.execute_input": "2021-11-26T04:30:10.874365Z",
     "iopub.status.busy": "2021-11-26T04:30:10.872075Z",
     "iopub.status.idle": "2021-11-26T04:30:10.877901Z",
     "shell.execute_reply": "2021-11-26T04:30:10.879285Z"
    },
    "papermill": {
     "duration": 0.043916,
     "end_time": "2021-11-26T04:30:10.879766",
     "exception": false,
     "start_time": "2021-11-26T04:30:10.835850",
     "status": "completed"
    },
    "tags": []
   },
   "outputs": [],
   "source": [
    "df_pivot.columns = [\"stamp_1\", \"stamp_2\"]\n",
    "df_pivot_diff = df_pivot.diff(axis=1)"
   ]
  },
  {
   "cell_type": "code",
   "execution_count": 7,
   "id": "fifth-motion",
   "metadata": {
    "execution": {
     "iopub.execute_input": "2021-11-26T04:30:10.940447Z",
     "iopub.status.busy": "2021-11-26T04:30:10.937804Z",
     "iopub.status.idle": "2021-11-26T04:30:12.897533Z",
     "shell.execute_reply": "2021-11-26T04:30:12.900246Z"
    },
    "papermill": {
     "duration": 2.000191,
     "end_time": "2021-11-26T04:30:12.901238",
     "exception": false,
     "start_time": "2021-11-26T04:30:10.901047",
     "status": "completed"
    },
    "tags": []
   },
   "outputs": [
    {
     "data": {
      "text/plain": [
       "<AxesSubplot:ylabel='PRODUCT'>"
      ]
     },
     "execution_count": 7,
     "metadata": {},
     "output_type": "execute_result"
    },
    {
     "data": {
      "image/png": "[encoded data removed]",
      "text/plain": [
       "<Figure size 432x288 with 1 Axes>"
      ]
     },
     "metadata": {
      "needs_background": "light"
     },
     "output_type": "display_data"
    }
   ],
   "source": [
    "df_pivot_diff.sort_values(\"stamp_2\", ascending = False)[\"stamp_2\"].head(10).plot.barh()"
   ]
  },
  {
   "cell_type": "code",
   "execution_count": null,
   "id": "extra-executive",
   "metadata": {
    "papermill": {
     "duration": 0.029405,
     "end_time": "2021-11-26T04:30:12.965473",
     "exception": false,
     "start_time": "2021-11-26T04:30:12.936068",
     "status": "completed"
    },
    "tags": []
   },
   "outputs": [],
   "source": []
  }
 ],
 "metadata": {
  "kernelspec": {
   "display_name": "Python 3",
   "language": "python",
   "name": "python3"
  },
  "language_info": {
   "codemirror_mode": {
    "name": "ipython",
    "version": 3
   },
   "file_extension": ".py",
   "mimetype": "text/x-python",
   "name": "python",
   "nbconvert_exporter": "python",
   "pygments_lexer": "ipython3",
   "version": "3.9.5"
  },
  "papermill": {
   "default_parameters": {},
   "duration": 9.934699,
   "end_time": "2021-11-26T04:30:14.484893",
   "environment_variables": {},
   "exception": null,
   "input_path": "eBay_Overview.ipynb",
   "output_path": "eBay_Overview.ipynb",
   "parameters": {},
   "start_time": "2021-11-26T04:30:04.550194",
   "version": "2.3.3"
  }
 },
 "nbformat": 4,
 "nbformat_minor": 5
}