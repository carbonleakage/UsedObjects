{
 "cells": [
  {
   "cell_type": "code",
   "execution_count": 1,
   "id": "reverse-picking",
   "metadata": {
    "execution": {
     "iopub.execute_input": "2021-10-19T02:30:06.968521Z",
     "iopub.status.busy": "2021-10-19T02:30:06.966563Z",
     "iopub.status.idle": "2021-10-19T02:30:07.803079Z",
     "shell.execute_reply": "2021-10-19T02:30:07.804333Z"
    },
    "papermill": {
     "duration": 0.889101,
     "end_time": "2021-10-19T02:30:07.805134",
     "exception": false,
     "start_time": "2021-10-19T02:30:06.916033",
     "status": "completed"
    },
    "tags": []
   },
   "outputs": [],
   "source": [
    "import pandas as pd\n",
    "import sqlite3"
   ]
  },
  {
   "cell_type": "code",
   "execution_count": 2,
   "id": "innovative-syndrome",
   "metadata": {
    "execution": {
     "iopub.execute_input": "2021-10-19T02:30:07.857975Z",
     "iopub.status.busy": "2021-10-19T02:30:07.855587Z",
     "iopub.status.idle": "2021-10-19T02:30:08.426600Z",
     "shell.execute_reply": "2021-10-19T02:30:08.427797Z"
    },
    "papermill": {
     "duration": 0.600851,
     "end_time": "2021-10-19T02:30:08.428196",
     "exception": false,
     "start_time": "2021-10-19T02:30:07.827345",
     "status": "completed"
    },
    "tags": []
   },
   "outputs": [],
   "source": [
    "timestamps = pd.read_sql(\"select distinct record_time from EBAY_TOP_BERLIN order by record_time desc limit 2\", sqlite3.connect(\"UsedObjects.db\"))"
   ]
  },
  {
   "cell_type": "code",
   "execution_count": 3,
   "id": "periodic-identification",
   "metadata": {
    "execution": {
     "iopub.execute_input": "2021-10-19T02:30:08.503423Z",
     "iopub.status.busy": "2021-10-19T02:30:08.501402Z",
     "iopub.status.idle": "2021-10-19T02:30:08.521214Z",
     "shell.execute_reply": "2021-10-19T02:30:08.522956Z"
    },
    "papermill": {
     "duration": 0.067841,
     "end_time": "2021-10-19T02:30:08.523496",
     "exception": false,
     "start_time": "2021-10-19T02:30:08.455655",
     "status": "completed"
    },
    "tags": []
   },
   "outputs": [
    {
     "data": {
      "text/html": [
       "<div>\n",
       "<style scoped>\n",
       "    .dataframe tbody tr th:only-of-type {\n",
       "        vertical-align: middle;\n",
       "    }\n",
       "\n",
       "    .dataframe tbody tr th {\n",
       "        vertical-align: top;\n",
       "    }\n",
       "\n",
       "    .dataframe thead th {\n",
       "        text-align: right;\n",
       "    }\n",
       "</style>\n",
       "<table border=\"1\" class=\"dataframe\">\n",
       "  <thead>\n",
       "    <tr style=\"text-align: right;\">\n",
       "      <th></th>\n",
       "      <th>RECORD_TIME</th>\n",
       "    </tr>\n",
       "  </thead>\n",
       "  <tbody>\n",
       "    <tr>\n",
       "      <th>0</th>\n",
       "      <td>2021-10-19 04:30</td>\n",
       "    </tr>\n",
       "    <tr>\n",
       "      <th>1</th>\n",
       "      <td>2021-10-19 04:00</td>\n",
       "    </tr>\n",
       "  </tbody>\n",
       "</table>\n",
       "</div>"
      ],
      "text/plain": [
       "        RECORD_TIME\n",
       "0  2021-10-19 04:30\n",
       "1  2021-10-19 04:00"
      ]
     },
     "execution_count": 3,
     "metadata": {},
     "output_type": "execute_result"
    }
   ],
   "source": [
    "timestamps"
   ]
  },
  {
   "cell_type": "code",
   "execution_count": 4,
   "id": "alternate-victory",
   "metadata": {
    "execution": {
     "iopub.execute_input": "2021-10-19T02:30:08.577079Z",
     "iopub.status.busy": "2021-10-19T02:30:08.575087Z",
     "iopub.status.idle": "2021-10-19T02:30:09.450654Z",
     "shell.execute_reply": "2021-10-19T02:30:09.451873Z"
    },
    "papermill": {
     "duration": 0.906187,
     "end_time": "2021-10-19T02:30:09.452266",
     "exception": false,
     "start_time": "2021-10-19T02:30:08.546079",
     "status": "completed"
    },
    "tags": []
   },
   "outputs": [],
   "source": [
    "df = pd.read_sql(\"select * from EBAY_TOP_BERLIN where record_time in (select distinct record_time from EBAY_TOP_BERLIN order by record_time desc limit 2)\", sqlite3.connect(\"UsedObjects.db\"))"
   ]
  },
  {
   "cell_type": "code",
   "execution_count": 5,
   "id": "popular-active",
   "metadata": {
    "execution": {
     "iopub.execute_input": "2021-10-19T02:30:09.518102Z",
     "iopub.status.busy": "2021-10-19T02:30:09.510508Z",
     "iopub.status.idle": "2021-10-19T02:30:09.540053Z",
     "shell.execute_reply": "2021-10-19T02:30:09.541411Z"
    },
    "papermill": {
     "duration": 0.06887,
     "end_time": "2021-10-19T02:30:09.541839",
     "exception": false,
     "start_time": "2021-10-19T02:30:09.472969",
     "status": "completed"
    },
    "tags": []
   },
   "outputs": [],
   "source": [
    "df_pivot = df.pivot_table(index=\"PRODUCT\", columns = \"RECORD_TIME\", values = \"LISTING_COUNT\")"
   ]
  },
  {
   "cell_type": "code",
   "execution_count": 6,
   "id": "union-huntington",
   "metadata": {
    "execution": {
     "iopub.execute_input": "2021-10-19T02:30:09.598692Z",
     "iopub.status.busy": "2021-10-19T02:30:09.596556Z",
     "iopub.status.idle": "2021-10-19T02:30:09.601841Z",
     "shell.execute_reply": "2021-10-19T02:30:09.603038Z"
    },
    "papermill": {
     "duration": 0.040361,
     "end_time": "2021-10-19T02:30:09.603474",
     "exception": false,
     "start_time": "2021-10-19T02:30:09.563113",
     "status": "completed"
    },
    "tags": []
   },
   "outputs": [],
   "source": [
    "df_pivot.columns = [\"stamp_1\", \"stamp_2\"]\n",
    "df_pivot_diff = df_pivot.diff(axis=1)"
   ]
  },
  {
   "cell_type": "code",
   "execution_count": 7,
   "id": "fifth-motion",
   "metadata": {
    "execution": {
     "iopub.execute_input": "2021-10-19T02:30:09.661221Z",
     "iopub.status.busy": "2021-10-19T02:30:09.658449Z",
     "iopub.status.idle": "2021-10-19T02:30:11.140398Z",
     "shell.execute_reply": "2021-10-19T02:30:11.141824Z"
    },
    "papermill": {
     "duration": 1.515852,
     "end_time": "2021-10-19T02:30:11.142272",
     "exception": false,
     "start_time": "2021-10-19T02:30:09.626420",
     "status": "completed"
    },
    "tags": []
   },
   "outputs": [
    {
     "data": {
      "text/plain": [
       "<AxesSubplot:ylabel='PRODUCT'>"
      ]
     },
     "execution_count": 7,
     "metadata": {},
     "output_type": "execute_result"
    },
    {
     "data": {
      "image/png": "[encoded data removed]",
      "text/plain": [
       "<Figure size 432x288 with 1 Axes>"
      ]
     },
     "metadata": {
      "needs_background": "light"
     },
     "output_type": "display_data"
    }
   ],
   "source": [
    "df_pivot_diff.sort_values(\"stamp_2\", ascending = False)[\"stamp_2\"].head(10).plot.barh()"
   ]
  },
  {
   "cell_type": "code",
   "execution_count": null,
   "id": "extra-executive",
   "metadata": {
    "papermill": {
     "duration": 0.022622,
     "end_time": "2021-10-19T02:30:11.190172",
     "exception": false,
     "start_time": "2021-10-19T02:30:11.167550",
     "status": "completed"
    },
    "tags": []
   },
   "outputs": [],
   "source": []
  }
 ],
 "metadata": {
  "kernelspec": {
   "display_name": "Python 3",
   "language": "python",
   "name": "python3"
  },
  "language_info": {
   "codemirror_mode": {
    "name": "ipython",
    "version": 3
   },
   "file_extension": ".py",
   "mimetype": "text/x-python",
   "name": "python",
   "nbconvert_exporter": "python",
   "pygments_lexer": "ipython3",
   "version": "3.9.5"
  },
  "papermill": {
   "default_parameters": {},
   "duration": 7.325349,
   "end_time": "2021-10-19T02:30:11.832300",
   "environment_variables": {},
   "exception": null,
   "input_path": "eBay_Overview.ipynb",
   "output_path": "eBay_Overview.ipynb",
   "parameters": {},
   "start_time": "2021-10-19T02:30:04.506951",
   "version": "2.3.3"
  }
 },
 "nbformat": 4,
 "nbformat_minor": 5
}