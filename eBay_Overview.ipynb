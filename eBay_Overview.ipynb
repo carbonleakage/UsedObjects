{
 "cells": [
  {
   "cell_type": "code",
   "execution_count": 1,
   "id": "reverse-picking",
   "metadata": {
    "execution": {
     "iopub.execute_input": "2021-09-19T07:00:06.709960Z",
     "iopub.status.busy": "2021-09-19T07:00:06.707969Z",
     "iopub.status.idle": "2021-09-19T07:00:07.513397Z",
     "shell.execute_reply": "2021-09-19T07:00:07.511828Z"
    },
    "papermill": {
     "duration": 0.85432,
     "end_time": "2021-09-19T07:00:07.513778",
     "exception": false,
     "start_time": "2021-09-19T07:00:06.659458",
     "status": "completed"
    },
    "tags": []
   },
   "outputs": [],
   "source": [
    "import pandas as pd\n",
    "import sqlite3"
   ]
  },
  {
   "cell_type": "code",
   "execution_count": 2,
   "id": "innovative-syndrome",
   "metadata": {
    "execution": {
     "iopub.execute_input": "2021-09-19T07:00:07.563956Z",
     "iopub.status.busy": "2021-09-19T07:00:07.562004Z",
     "iopub.status.idle": "2021-09-19T07:00:07.886370Z",
     "shell.execute_reply": "2021-09-19T07:00:07.888334Z"
    },
    "papermill": {
     "duration": 0.354555,
     "end_time": "2021-09-19T07:00:07.888953",
     "exception": false,
     "start_time": "2021-09-19T07:00:07.534398",
     "status": "completed"
    },
    "tags": []
   },
   "outputs": [],
   "source": [
    "timestamps = pd.read_sql(\"select distinct record_time from EBAY_TOP_BERLIN order by record_time desc limit 2\", sqlite3.connect(\"UsedObjects.db\"))"
   ]
  },
  {
   "cell_type": "code",
   "execution_count": 3,
   "id": "periodic-identification",
   "metadata": {
    "execution": {
     "iopub.execute_input": "2021-09-19T07:00:07.957555Z",
     "iopub.status.busy": "2021-09-19T07:00:07.955554Z",
     "iopub.status.idle": "2021-09-19T07:00:07.975543Z",
     "shell.execute_reply": "2021-09-19T07:00:07.976860Z"
    },
    "papermill": {
     "duration": 0.066981,
     "end_time": "2021-09-19T07:00:07.977263",
     "exception": false,
     "start_time": "2021-09-19T07:00:07.910282",
     "status": "completed"
    },
    "tags": []
   },
   "outputs": [
    {
     "data": {
      "text/html": [
       "<div>\n",
       "<style scoped>\n",
       "    .dataframe tbody tr th:only-of-type {\n",
       "        vertical-align: middle;\n",
       "    }\n",
       "\n",
       "    .dataframe tbody tr th {\n",
       "        vertical-align: top;\n",
       "    }\n",
       "\n",
       "    .dataframe thead th {\n",
       "        text-align: right;\n",
       "    }\n",
       "</style>\n",
       "<table border=\"1\" class=\"dataframe\">\n",
       "  <thead>\n",
       "    <tr style=\"text-align: right;\">\n",
       "      <th></th>\n",
       "      <th>RECORD_TIME</th>\n",
       "    </tr>\n",
       "  </thead>\n",
       "  <tbody>\n",
       "    <tr>\n",
       "      <th>0</th>\n",
       "      <td>2021-09-19 09:00</td>\n",
       "    </tr>\n",
       "    <tr>\n",
       "      <th>1</th>\n",
       "      <td>2021-09-19 08:30</td>\n",
       "    </tr>\n",
       "  </tbody>\n",
       "</table>\n",
       "</div>"
      ],
      "text/plain": [
       "        RECORD_TIME\n",
       "0  2021-09-19 09:00\n",
       "1  2021-09-19 08:30"
      ]
     },
     "execution_count": 3,
     "metadata": {},
     "output_type": "execute_result"
    }
   ],
   "source": [
    "timestamps"
   ]
  },
  {
   "cell_type": "code",
   "execution_count": 4,
   "id": "alternate-victory",
   "metadata": {
    "execution": {
     "iopub.execute_input": "2021-09-19T07:00:08.028346Z",
     "iopub.status.busy": "2021-09-19T07:00:08.026395Z",
     "iopub.status.idle": "2021-09-19T07:00:08.507839Z",
     "shell.execute_reply": "2021-09-19T07:00:08.509136Z"
    },
    "papermill": {
     "duration": 0.511265,
     "end_time": "2021-09-19T07:00:08.509580",
     "exception": false,
     "start_time": "2021-09-19T07:00:07.998315",
     "status": "completed"
    },
    "tags": []
   },
   "outputs": [],
   "source": [
    "df = pd.read_sql(\"select * from EBAY_TOP_BERLIN where record_time in (select distinct record_time from EBAY_TOP_BERLIN order by record_time desc limit 2)\", sqlite3.connect(\"UsedObjects.db\"))"
   ]
  },
  {
   "cell_type": "code",
   "execution_count": 5,
   "id": "popular-active",
   "metadata": {
    "execution": {
     "iopub.execute_input": "2021-09-19T07:00:08.588890Z",
     "iopub.status.busy": "2021-09-19T07:00:08.577678Z",
     "iopub.status.idle": "2021-09-19T07:00:08.605177Z",
     "shell.execute_reply": "2021-09-19T07:00:08.606399Z"
    },
    "papermill": {
     "duration": 0.071104,
     "end_time": "2021-09-19T07:00:08.606833",
     "exception": false,
     "start_time": "2021-09-19T07:00:08.535729",
     "status": "completed"
    },
    "tags": []
   },
   "outputs": [],
   "source": [
    "df_pivot = df.pivot_table(index=\"PRODUCT\", columns = \"RECORD_TIME\", values = \"LISTING_COUNT\")"
   ]
  },
  {
   "cell_type": "code",
   "execution_count": 6,
   "id": "union-huntington",
   "metadata": {
    "execution": {
     "iopub.execute_input": "2021-09-19T07:00:08.662607Z",
     "iopub.status.busy": "2021-09-19T07:00:08.660551Z",
     "iopub.status.idle": "2021-09-19T07:00:08.665783Z",
     "shell.execute_reply": "2021-09-19T07:00:08.667134Z"
    },
    "papermill": {
     "duration": 0.040023,
     "end_time": "2021-09-19T07:00:08.667546",
     "exception": false,
     "start_time": "2021-09-19T07:00:08.627523",
     "status": "completed"
    },
    "tags": []
   },
   "outputs": [],
   "source": [
    "df_pivot.columns = [\"stamp_1\", \"stamp_2\"]\n",
    "df_pivot_diff = df_pivot.diff(axis=1)"
   ]
  },
  {
   "cell_type": "code",
   "execution_count": 7,
   "id": "fifth-motion",
   "metadata": {
    "execution": {
     "iopub.execute_input": "2021-09-19T07:00:08.722325Z",
     "iopub.status.busy": "2021-09-19T07:00:08.719954Z",
     "iopub.status.idle": "2021-09-19T07:00:10.220801Z",
     "shell.execute_reply": "2021-09-19T07:00:10.222086Z"
    },
    "papermill": {
     "duration": 1.533661,
     "end_time": "2021-09-19T07:00:10.222493",
     "exception": false,
     "start_time": "2021-09-19T07:00:08.688832",
     "status": "completed"
    },
    "tags": []
   },
   "outputs": [
    {
     "data": {
      "text/plain": [
       "<AxesSubplot:ylabel='PRODUCT'>"
      ]
     },
     "execution_count": 7,
     "metadata": {},
     "output_type": "execute_result"
    },
    {
     "data": {
      "image/png": "[encoded data removed]",
      "text/plain": [
       "<Figure size 432x288 with 1 Axes>"
      ]
     },
     "metadata": {
      "needs_background": "light"
     },
     "output_type": "display_data"
    }
   ],
   "source": [
    "df_pivot_diff.sort_values(\"stamp_2\", ascending = False)[\"stamp_2\"].head(10).plot.barh()"
   ]
  },
  {
   "cell_type": "code",
   "execution_count": null,
   "id": "extra-executive",
   "metadata": {
    "papermill": {
     "duration": 0.021973,
     "end_time": "2021-09-19T07:00:10.269896",
     "exception": false,
     "start_time": "2021-09-19T07:00:10.247923",
     "status": "completed"
    },
    "tags": []
   },
   "outputs": [],
   "source": []
  }
 ],
 "metadata": {
  "kernelspec": {
   "display_name": "Python 3",
   "language": "python",
   "name": "python3"
  },
  "language_info": {
   "codemirror_mode": {
    "name": "ipython",
    "version": 3
   },
   "file_extension": ".py",
   "mimetype": "text/x-python",
   "name": "python",
   "nbconvert_exporter": "python",
   "pygments_lexer": "ipython3",
   "version": "3.9.5"
  },
  "papermill": {
   "default_parameters": {},
   "duration": 6.647148,
   "end_time": "2021-09-19T07:00:10.909483",
   "environment_variables": {},
   "exception": null,
   "input_path": "eBay_Overview.ipynb",
   "output_path": "eBay_Overview.ipynb",
   "parameters": {},
   "start_time": "2021-09-19T07:00:04.262335",
   "version": "2.3.3"
  }
 },
 "nbformat": 4,
 "nbformat_minor": 5
}