{
 "cells": [
  {
   "cell_type": "code",
   "execution_count": 1,
   "id": "reverse-picking",
   "metadata": {
    "execution": {
     "iopub.execute_input": "2021-10-03T11:30:06.984806Z",
     "iopub.status.busy": "2021-10-03T11:30:06.982875Z",
     "iopub.status.idle": "2021-10-03T11:30:07.787908Z",
     "shell.execute_reply": "2021-10-03T11:30:07.786180Z"
    },
    "papermill": {
     "duration": 0.854067,
     "end_time": "2021-10-03T11:30:07.788334",
     "exception": false,
     "start_time": "2021-10-03T11:30:06.934267",
     "status": "completed"
    },
    "tags": []
   },
   "outputs": [],
   "source": [
    "import pandas as pd\n",
    "import sqlite3"
   ]
  },
  {
   "cell_type": "code",
   "execution_count": 2,
   "id": "innovative-syndrome",
   "metadata": {
    "execution": {
     "iopub.execute_input": "2021-10-03T11:30:07.838368Z",
     "iopub.status.busy": "2021-10-03T11:30:07.836522Z",
     "iopub.status.idle": "2021-10-03T11:30:08.273285Z",
     "shell.execute_reply": "2021-10-03T11:30:08.274545Z"
    },
    "papermill": {
     "duration": 0.466439,
     "end_time": "2021-10-03T11:30:08.275047",
     "exception": false,
     "start_time": "2021-10-03T11:30:07.808608",
     "status": "completed"
    },
    "tags": []
   },
   "outputs": [],
   "source": [
    "timestamps = pd.read_sql(\"select distinct record_time from EBAY_TOP_BERLIN order by record_time desc limit 2\", sqlite3.connect(\"UsedObjects.db\"))"
   ]
  },
  {
   "cell_type": "code",
   "execution_count": 3,
   "id": "periodic-identification",
   "metadata": {
    "execution": {
     "iopub.execute_input": "2021-10-03T11:30:08.340951Z",
     "iopub.status.busy": "2021-10-03T11:30:08.338955Z",
     "iopub.status.idle": "2021-10-03T11:30:08.359963Z",
     "shell.execute_reply": "2021-10-03T11:30:08.361171Z"
    },
    "papermill": {
     "duration": 0.067281,
     "end_time": "2021-10-03T11:30:08.361561",
     "exception": false,
     "start_time": "2021-10-03T11:30:08.294280",
     "status": "completed"
    },
    "tags": []
   },
   "outputs": [
    {
     "data": {
      "text/html": [
       "<div>\n",
       "<style scoped>\n",
       "    .dataframe tbody tr th:only-of-type {\n",
       "        vertical-align: middle;\n",
       "    }\n",
       "\n",
       "    .dataframe tbody tr th {\n",
       "        vertical-align: top;\n",
       "    }\n",
       "\n",
       "    .dataframe thead th {\n",
       "        text-align: right;\n",
       "    }\n",
       "</style>\n",
       "<table border=\"1\" class=\"dataframe\">\n",
       "  <thead>\n",
       "    <tr style=\"text-align: right;\">\n",
       "      <th></th>\n",
       "      <th>RECORD_TIME</th>\n",
       "    </tr>\n",
       "  </thead>\n",
       "  <tbody>\n",
       "    <tr>\n",
       "      <th>0</th>\n",
       "      <td>2021-10-03 13:30</td>\n",
       "    </tr>\n",
       "    <tr>\n",
       "      <th>1</th>\n",
       "      <td>2021-10-03 13:00</td>\n",
       "    </tr>\n",
       "  </tbody>\n",
       "</table>\n",
       "</div>"
      ],
      "text/plain": [
       "        RECORD_TIME\n",
       "0  2021-10-03 13:30\n",
       "1  2021-10-03 13:00"
      ]
     },
     "execution_count": 3,
     "metadata": {},
     "output_type": "execute_result"
    }
   ],
   "source": [
    "timestamps"
   ]
  },
  {
   "cell_type": "code",
   "execution_count": 4,
   "id": "alternate-victory",
   "metadata": {
    "execution": {
     "iopub.execute_input": "2021-10-03T11:30:08.413937Z",
     "iopub.status.busy": "2021-10-03T11:30:08.411645Z",
     "iopub.status.idle": "2021-10-03T11:30:09.069320Z",
     "shell.execute_reply": "2021-10-03T11:30:09.070427Z"
    },
    "papermill": {
     "duration": 0.688118,
     "end_time": "2021-10-03T11:30:09.071033",
     "exception": false,
     "start_time": "2021-10-03T11:30:08.382915",
     "status": "completed"
    },
    "tags": []
   },
   "outputs": [],
   "source": [
    "df = pd.read_sql(\"select * from EBAY_TOP_BERLIN where record_time in (select distinct record_time from EBAY_TOP_BERLIN order by record_time desc limit 2)\", sqlite3.connect(\"UsedObjects.db\"))"
   ]
  },
  {
   "cell_type": "code",
   "execution_count": 5,
   "id": "popular-active",
   "metadata": {
    "execution": {
     "iopub.execute_input": "2021-10-03T11:30:09.144024Z",
     "iopub.status.busy": "2021-10-03T11:30:09.132431Z",
     "iopub.status.idle": "2021-10-03T11:30:09.159795Z",
     "shell.execute_reply": "2021-10-03T11:30:09.161013Z"
    },
    "papermill": {
     "duration": 0.067538,
     "end_time": "2021-10-03T11:30:09.161408",
     "exception": false,
     "start_time": "2021-10-03T11:30:09.093870",
     "status": "completed"
    },
    "tags": []
   },
   "outputs": [],
   "source": [
    "df_pivot = df.pivot_table(index=\"PRODUCT\", columns = \"RECORD_TIME\", values = \"LISTING_COUNT\")"
   ]
  },
  {
   "cell_type": "code",
   "execution_count": 6,
   "id": "union-huntington",
   "metadata": {
    "execution": {
     "iopub.execute_input": "2021-10-03T11:30:09.220650Z",
     "iopub.status.busy": "2021-10-03T11:30:09.218184Z",
     "iopub.status.idle": "2021-10-03T11:30:09.225624Z",
     "shell.execute_reply": "2021-10-03T11:30:09.223920Z"
    },
    "papermill": {
     "duration": 0.042304,
     "end_time": "2021-10-03T11:30:09.225979",
     "exception": false,
     "start_time": "2021-10-03T11:30:09.183675",
     "status": "completed"
    },
    "tags": []
   },
   "outputs": [],
   "source": [
    "df_pivot.columns = [\"stamp_1\", \"stamp_2\"]\n",
    "df_pivot_diff = df_pivot.diff(axis=1)"
   ]
  },
  {
   "cell_type": "code",
   "execution_count": 7,
   "id": "fifth-motion",
   "metadata": {
    "execution": {
     "iopub.execute_input": "2021-10-03T11:30:09.279753Z",
     "iopub.status.busy": "2021-10-03T11:30:09.277395Z",
     "iopub.status.idle": "2021-10-03T11:30:10.757566Z",
     "shell.execute_reply": "2021-10-03T11:30:10.759029Z"
    },
    "papermill": {
     "duration": 1.512997,
     "end_time": "2021-10-03T11:30:10.759493",
     "exception": false,
     "start_time": "2021-10-03T11:30:09.246496",
     "status": "completed"
    },
    "tags": []
   },
   "outputs": [
    {
     "data": {
      "text/plain": [
       "<AxesSubplot:ylabel='PRODUCT'>"
      ]
     },
     "execution_count": 7,
     "metadata": {},
     "output_type": "execute_result"
    },
    {
     "data": {
      "image/png": "[encoded data removed]",
      "text/plain": [
       "<Figure size 432x288 with 1 Axes>"
      ]
     },
     "metadata": {
      "needs_background": "light"
     },
     "output_type": "display_data"
    }
   ],
   "source": [
    "df_pivot_diff.sort_values(\"stamp_2\", ascending = False)[\"stamp_2\"].head(10).plot.barh()"
   ]
  },
  {
   "cell_type": "code",
   "execution_count": null,
   "id": "extra-executive",
   "metadata": {
    "papermill": {
     "duration": 0.022236,
     "end_time": "2021-10-03T11:30:10.807597",
     "exception": false,
     "start_time": "2021-10-03T11:30:10.785361",
     "status": "completed"
    },
    "tags": []
   },
   "outputs": [],
   "source": []
  }
 ],
 "metadata": {
  "kernelspec": {
   "display_name": "Python 3",
   "language": "python",
   "name": "python3"
  },
  "language_info": {
   "codemirror_mode": {
    "name": "ipython",
    "version": 3
   },
   "file_extension": ".py",
   "mimetype": "text/x-python",
   "name": "python",
   "nbconvert_exporter": "python",
   "pygments_lexer": "ipython3",
   "version": "3.9.5"
  },
  "papermill": {
   "default_parameters": {},
   "duration": 7.824402,
   "end_time": "2021-10-03T11:30:12.355008",
   "environment_variables": {},
   "exception": null,
   "input_path": "eBay_Overview.ipynb",
   "output_path": "eBay_Overview.ipynb",
   "parameters": {},
   "start_time": "2021-10-03T11:30:04.530606",
   "version": "2.3.3"
  }
 },
 "nbformat": 4,
 "nbformat_minor": 5
}