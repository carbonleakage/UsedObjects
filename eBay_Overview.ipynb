{
 "cells": [
  {
   "cell_type": "code",
   "execution_count": 1,
   "id": "reverse-picking",
   "metadata": {
    "execution": {
     "iopub.execute_input": "2021-10-06T08:00:07.032904Z",
     "iopub.status.busy": "2021-10-06T08:00:07.030962Z",
     "iopub.status.idle": "2021-10-06T08:00:07.841701Z",
     "shell.execute_reply": "2021-10-06T08:00:07.843123Z"
    },
    "papermill": {
     "duration": 0.863583,
     "end_time": "2021-10-06T08:00:07.843761",
     "exception": false,
     "start_time": "2021-10-06T08:00:06.980178",
     "status": "completed"
    },
    "tags": []
   },
   "outputs": [],
   "source": [
    "import pandas as pd\n",
    "import sqlite3"
   ]
  },
  {
   "cell_type": "code",
   "execution_count": 2,
   "id": "innovative-syndrome",
   "metadata": {
    "execution": {
     "iopub.execute_input": "2021-10-06T08:00:07.897220Z",
     "iopub.status.busy": "2021-10-06T08:00:07.894774Z",
     "iopub.status.idle": "2021-10-06T08:00:08.371327Z",
     "shell.execute_reply": "2021-10-06T08:00:08.372782Z"
    },
    "papermill": {
     "duration": 0.506907,
     "end_time": "2021-10-06T08:00:08.373218",
     "exception": false,
     "start_time": "2021-10-06T08:00:07.866311",
     "status": "completed"
    },
    "tags": []
   },
   "outputs": [],
   "source": [
    "timestamps = pd.read_sql(\"select distinct record_time from EBAY_TOP_BERLIN order by record_time desc limit 2\", sqlite3.connect(\"UsedObjects.db\"))"
   ]
  },
  {
   "cell_type": "code",
   "execution_count": 3,
   "id": "periodic-identification",
   "metadata": {
    "execution": {
     "iopub.execute_input": "2021-10-06T08:00:08.441579Z",
     "iopub.status.busy": "2021-10-06T08:00:08.439582Z",
     "iopub.status.idle": "2021-10-06T08:00:08.459415Z",
     "shell.execute_reply": "2021-10-06T08:00:08.460610Z"
    },
    "papermill": {
     "duration": 0.067243,
     "end_time": "2021-10-06T08:00:08.461039",
     "exception": false,
     "start_time": "2021-10-06T08:00:08.393796",
     "status": "completed"
    },
    "tags": []
   },
   "outputs": [
    {
     "data": {
      "text/html": [
       "<div>\n",
       "<style scoped>\n",
       "    .dataframe tbody tr th:only-of-type {\n",
       "        vertical-align: middle;\n",
       "    }\n",
       "\n",
       "    .dataframe tbody tr th {\n",
       "        vertical-align: top;\n",
       "    }\n",
       "\n",
       "    .dataframe thead th {\n",
       "        text-align: right;\n",
       "    }\n",
       "</style>\n",
       "<table border=\"1\" class=\"dataframe\">\n",
       "  <thead>\n",
       "    <tr style=\"text-align: right;\">\n",
       "      <th></th>\n",
       "      <th>RECORD_TIME</th>\n",
       "    </tr>\n",
       "  </thead>\n",
       "  <tbody>\n",
       "    <tr>\n",
       "      <th>0</th>\n",
       "      <td>2021-10-06 10:00</td>\n",
       "    </tr>\n",
       "    <tr>\n",
       "      <th>1</th>\n",
       "      <td>2021-10-06 09:30</td>\n",
       "    </tr>\n",
       "  </tbody>\n",
       "</table>\n",
       "</div>"
      ],
      "text/plain": [
       "        RECORD_TIME\n",
       "0  2021-10-06 10:00\n",
       "1  2021-10-06 09:30"
      ]
     },
     "execution_count": 3,
     "metadata": {},
     "output_type": "execute_result"
    }
   ],
   "source": [
    "timestamps"
   ]
  },
  {
   "cell_type": "code",
   "execution_count": 4,
   "id": "alternate-victory",
   "metadata": {
    "execution": {
     "iopub.execute_input": "2021-10-06T08:00:08.523437Z",
     "iopub.status.busy": "2021-10-06T08:00:08.521510Z",
     "iopub.status.idle": "2021-10-06T08:00:09.203900Z",
     "shell.execute_reply": "2021-10-06T08:00:09.205103Z"
    },
    "papermill": {
     "duration": 0.71584,
     "end_time": "2021-10-06T08:00:09.205499",
     "exception": false,
     "start_time": "2021-10-06T08:00:08.489659",
     "status": "completed"
    },
    "tags": []
   },
   "outputs": [],
   "source": [
    "df = pd.read_sql(\"select * from EBAY_TOP_BERLIN where record_time in (select distinct record_time from EBAY_TOP_BERLIN order by record_time desc limit 2)\", sqlite3.connect(\"UsedObjects.db\"))"
   ]
  },
  {
   "cell_type": "code",
   "execution_count": 5,
   "id": "popular-active",
   "metadata": {
    "execution": {
     "iopub.execute_input": "2021-10-06T08:00:09.279975Z",
     "iopub.status.busy": "2021-10-06T08:00:09.268259Z",
     "iopub.status.idle": "2021-10-06T08:00:09.297601Z",
     "shell.execute_reply": "2021-10-06T08:00:09.296306Z"
    },
    "papermill": {
     "duration": 0.06887,
     "end_time": "2021-10-06T08:00:09.297940",
     "exception": false,
     "start_time": "2021-10-06T08:00:09.229070",
     "status": "completed"
    },
    "tags": []
   },
   "outputs": [],
   "source": [
    "df_pivot = df.pivot_table(index=\"PRODUCT\", columns = \"RECORD_TIME\", values = \"LISTING_COUNT\")"
   ]
  },
  {
   "cell_type": "code",
   "execution_count": 6,
   "id": "union-huntington",
   "metadata": {
    "execution": {
     "iopub.execute_input": "2021-10-06T08:00:09.357757Z",
     "iopub.status.busy": "2021-10-06T08:00:09.355362Z",
     "iopub.status.idle": "2021-10-06T08:00:09.361194Z",
     "shell.execute_reply": "2021-10-06T08:00:09.362530Z"
    },
    "papermill": {
     "duration": 0.042533,
     "end_time": "2021-10-06T08:00:09.363020",
     "exception": false,
     "start_time": "2021-10-06T08:00:09.320487",
     "status": "completed"
    },
    "tags": []
   },
   "outputs": [],
   "source": [
    "df_pivot.columns = [\"stamp_1\", \"stamp_2\"]\n",
    "df_pivot_diff = df_pivot.diff(axis=1)"
   ]
  },
  {
   "cell_type": "code",
   "execution_count": 7,
   "id": "fifth-motion",
   "metadata": {
    "execution": {
     "iopub.execute_input": "2021-10-06T08:00:09.418395Z",
     "iopub.status.busy": "2021-10-06T08:00:09.416205Z",
     "iopub.status.idle": "2021-10-06T08:00:10.887626Z",
     "shell.execute_reply": "2021-10-06T08:00:10.889009Z"
    },
    "papermill": {
     "duration": 1.504634,
     "end_time": "2021-10-06T08:00:10.889435",
     "exception": false,
     "start_time": "2021-10-06T08:00:09.384801",
     "status": "completed"
    },
    "tags": []
   },
   "outputs": [
    {
     "data": {
      "text/plain": [
       "<AxesSubplot:ylabel='PRODUCT'>"
      ]
     },
     "execution_count": 7,
     "metadata": {},
     "output_type": "execute_result"
    },
    {
     "data": {
      "image/png": "[encoded data removed]",
      "text/plain": [
       "<Figure size 432x288 with 1 Axes>"
      ]
     },
     "metadata": {
      "needs_background": "light"
     },
     "output_type": "display_data"
    }
   ],
   "source": [
    "df_pivot_diff.sort_values(\"stamp_2\", ascending = False)[\"stamp_2\"].head(10).plot.barh()"
   ]
  },
  {
   "cell_type": "code",
   "execution_count": null,
   "id": "extra-executive",
   "metadata": {
    "papermill": {
     "duration": 0.02261,
     "end_time": "2021-10-06T08:00:10.936828",
     "exception": false,
     "start_time": "2021-10-06T08:00:10.914218",
     "status": "completed"
    },
    "tags": []
   },
   "outputs": [],
   "source": []
  }
 ],
 "metadata": {
  "kernelspec": {
   "display_name": "Python 3",
   "language": "python",
   "name": "python3"
  },
  "language_info": {
   "codemirror_mode": {
    "name": "ipython",
    "version": 3
   },
   "file_extension": ".py",
   "mimetype": "text/x-python",
   "name": "python",
   "nbconvert_exporter": "python",
   "pygments_lexer": "ipython3",
   "version": "3.9.5"
  },
  "papermill": {
   "default_parameters": {},
   "duration": 7.832985,
   "end_time": "2021-10-06T08:00:12.407309",
   "environment_variables": {},
   "exception": null,
   "input_path": "eBay_Overview.ipynb",
   "output_path": "eBay_Overview.ipynb",
   "parameters": {},
   "start_time": "2021-10-06T08:00:04.574324",
   "version": "2.3.3"
  }
 },
 "nbformat": 4,
 "nbformat_minor": 5
}