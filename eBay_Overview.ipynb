{
 "cells": [
  {
   "cell_type": "code",
   "execution_count": 1,
   "id": "reverse-picking",
   "metadata": {
    "execution": {
     "iopub.execute_input": "2021-11-23T13:00:08.468530Z",
     "iopub.status.busy": "2021-11-23T13:00:08.466362Z",
     "iopub.status.idle": "2021-11-23T13:00:09.425848Z",
     "shell.execute_reply": "2021-11-23T13:00:09.427618Z"
    },
    "papermill": {
     "duration": 1.008035,
     "end_time": "2021-11-23T13:00:09.428374",
     "exception": false,
     "start_time": "2021-11-23T13:00:08.420339",
     "status": "completed"
    },
    "tags": []
   },
   "outputs": [],
   "source": [
    "import pandas as pd\n",
    "import sqlite3"
   ]
  },
  {
   "cell_type": "code",
   "execution_count": 2,
   "id": "innovative-syndrome",
   "metadata": {
    "execution": {
     "iopub.execute_input": "2021-11-23T13:00:09.483196Z",
     "iopub.status.busy": "2021-11-23T13:00:09.481108Z",
     "iopub.status.idle": "2021-11-23T13:00:10.376868Z",
     "shell.execute_reply": "2021-11-23T13:00:10.378760Z"
    },
    "papermill": {
     "duration": 0.929352,
     "end_time": "2021-11-23T13:00:10.379232",
     "exception": false,
     "start_time": "2021-11-23T13:00:09.449880",
     "status": "completed"
    },
    "tags": []
   },
   "outputs": [],
   "source": [
    "timestamps = pd.read_sql(\"select distinct record_time from EBAY_TOP_BERLIN order by record_time desc limit 2\", sqlite3.connect(\"UsedObjects.db\"))"
   ]
  },
  {
   "cell_type": "code",
   "execution_count": 3,
   "id": "periodic-identification",
   "metadata": {
    "execution": {
     "iopub.execute_input": "2021-11-23T13:00:10.461919Z",
     "iopub.status.busy": "2021-11-23T13:00:10.459489Z",
     "iopub.status.idle": "2021-11-23T13:00:10.482059Z",
     "shell.execute_reply": "2021-11-23T13:00:10.483560Z"
    },
    "papermill": {
     "duration": 0.072527,
     "end_time": "2021-11-23T13:00:10.484050",
     "exception": false,
     "start_time": "2021-11-23T13:00:10.411523",
     "status": "completed"
    },
    "tags": []
   },
   "outputs": [
    {
     "data": {
      "text/html": [
       "<div>\n",
       "<style scoped>\n",
       "    .dataframe tbody tr th:only-of-type {\n",
       "        vertical-align: middle;\n",
       "    }\n",
       "\n",
       "    .dataframe tbody tr th {\n",
       "        vertical-align: top;\n",
       "    }\n",
       "\n",
       "    .dataframe thead th {\n",
       "        text-align: right;\n",
       "    }\n",
       "</style>\n",
       "<table border=\"1\" class=\"dataframe\">\n",
       "  <thead>\n",
       "    <tr style=\"text-align: right;\">\n",
       "      <th></th>\n",
       "      <th>RECORD_TIME</th>\n",
       "    </tr>\n",
       "  </thead>\n",
       "  <tbody>\n",
       "    <tr>\n",
       "      <th>0</th>\n",
       "      <td>2021-11-23 14:00</td>\n",
       "    </tr>\n",
       "    <tr>\n",
       "      <th>1</th>\n",
       "      <td>2021-11-23 13:30</td>\n",
       "    </tr>\n",
       "  </tbody>\n",
       "</table>\n",
       "</div>"
      ],
      "text/plain": [
       "        RECORD_TIME\n",
       "0  2021-11-23 14:00\n",
       "1  2021-11-23 13:30"
      ]
     },
     "execution_count": 3,
     "metadata": {},
     "output_type": "execute_result"
    }
   ],
   "source": [
    "timestamps"
   ]
  },
  {
   "cell_type": "code",
   "execution_count": 4,
   "id": "alternate-victory",
   "metadata": {
    "execution": {
     "iopub.execute_input": "2021-11-23T13:00:10.539762Z",
     "iopub.status.busy": "2021-11-23T13:00:10.537578Z",
     "iopub.status.idle": "2021-11-23T13:00:11.843172Z",
     "shell.execute_reply": "2021-11-23T13:00:11.845376Z"
    },
    "papermill": {
     "duration": 1.340317,
     "end_time": "2021-11-23T13:00:11.845856",
     "exception": false,
     "start_time": "2021-11-23T13:00:10.505539",
     "status": "completed"
    },
    "tags": []
   },
   "outputs": [],
   "source": [
    "df = pd.read_sql(\"select * from EBAY_TOP_BERLIN where record_time in (select distinct record_time from EBAY_TOP_BERLIN order by record_time desc limit 2)\", sqlite3.connect(\"UsedObjects.db\"))"
   ]
  },
  {
   "cell_type": "code",
   "execution_count": 5,
   "id": "popular-active",
   "metadata": {
    "execution": {
     "iopub.execute_input": "2021-11-23T13:00:11.908854Z",
     "iopub.status.busy": "2021-11-23T13:00:11.906526Z",
     "iopub.status.idle": "2021-11-23T13:00:11.936782Z",
     "shell.execute_reply": "2021-11-23T13:00:11.938267Z"
    },
    "papermill": {
     "duration": 0.072491,
     "end_time": "2021-11-23T13:00:11.938735",
     "exception": false,
     "start_time": "2021-11-23T13:00:11.866244",
     "status": "completed"
    },
    "tags": []
   },
   "outputs": [],
   "source": [
    "df_pivot = df.pivot_table(index=\"PRODUCT\", columns = \"RECORD_TIME\", values = \"LISTING_COUNT\")"
   ]
  },
  {
   "cell_type": "code",
   "execution_count": 6,
   "id": "union-huntington",
   "metadata": {
    "execution": {
     "iopub.execute_input": "2021-11-23T13:00:12.000787Z",
     "iopub.status.busy": "2021-11-23T13:00:11.998588Z",
     "iopub.status.idle": "2021-11-23T13:00:12.003519Z",
     "shell.execute_reply": "2021-11-23T13:00:12.005454Z"
    },
    "papermill": {
     "duration": 0.046252,
     "end_time": "2021-11-23T13:00:12.005926",
     "exception": false,
     "start_time": "2021-11-23T13:00:11.959674",
     "status": "completed"
    },
    "tags": []
   },
   "outputs": [],
   "source": [
    "df_pivot.columns = [\"stamp_1\", \"stamp_2\"]\n",
    "df_pivot_diff = df_pivot.diff(axis=1)"
   ]
  },
  {
   "cell_type": "code",
   "execution_count": 7,
   "id": "fifth-motion",
   "metadata": {
    "execution": {
     "iopub.execute_input": "2021-11-23T13:00:12.062002Z",
     "iopub.status.busy": "2021-11-23T13:00:12.059485Z",
     "iopub.status.idle": "2021-11-23T13:00:14.035066Z",
     "shell.execute_reply": "2021-11-23T13:00:14.036237Z"
    },
    "papermill": {
     "duration": 2.010395,
     "end_time": "2021-11-23T13:00:14.036661",
     "exception": false,
     "start_time": "2021-11-23T13:00:12.026266",
     "status": "completed"
    },
    "tags": []
   },
   "outputs": [
    {
     "data": {
      "text/plain": [
       "<AxesSubplot:ylabel='PRODUCT'>"
      ]
     },
     "execution_count": 7,
     "metadata": {},
     "output_type": "execute_result"
    },
    {
     "data": {
      "image/png": "[encoded data removed]",
      "text/plain": [
       "<Figure size 432x288 with 1 Axes>"
      ]
     },
     "metadata": {
      "needs_background": "light"
     },
     "output_type": "display_data"
    }
   ],
   "source": [
    "df_pivot_diff.sort_values(\"stamp_2\", ascending = False)[\"stamp_2\"].head(10).plot.barh()"
   ]
  },
  {
   "cell_type": "code",
   "execution_count": null,
   "id": "extra-executive",
   "metadata": {
    "papermill": {
     "duration": 0.022155,
     "end_time": "2021-11-23T13:00:14.084140",
     "exception": false,
     "start_time": "2021-11-23T13:00:14.061985",
     "status": "completed"
    },
    "tags": []
   },
   "outputs": [],
   "source": []
  }
 ],
 "metadata": {
  "kernelspec": {
   "display_name": "Python 3",
   "language": "python",
   "name": "python3"
  },
  "language_info": {
   "codemirror_mode": {
    "name": "ipython",
    "version": 3
   },
   "file_extension": ".py",
   "mimetype": "text/x-python",
   "name": "python",
   "nbconvert_exporter": "python",
   "pygments_lexer": "ipython3",
   "version": "3.9.5"
  },
  "papermill": {
   "default_parameters": {},
   "duration": 9.978236,
   "end_time": "2021-11-23T13:00:15.618099",
   "environment_variables": {},
   "exception": null,
   "input_path": "eBay_Overview.ipynb",
   "output_path": "eBay_Overview.ipynb",
   "parameters": {},
   "start_time": "2021-11-23T13:00:05.639863",
   "version": "2.3.3"
  }
 },
 "nbformat": 4,
 "nbformat_minor": 5
}