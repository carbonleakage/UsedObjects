{
 "cells": [
  {
   "cell_type": "code",
   "execution_count": 1,
   "id": "reverse-picking",
   "metadata": {
    "execution": {
     "iopub.execute_input": "2021-09-22T06:00:06.805093Z",
     "iopub.status.busy": "2021-09-22T06:00:06.803215Z",
     "iopub.status.idle": "2021-09-22T06:00:07.607822Z",
     "shell.execute_reply": "2021-09-22T06:00:07.609073Z"
    },
    "papermill": {
     "duration": 0.856584,
     "end_time": "2021-09-22T06:00:07.609683",
     "exception": false,
     "start_time": "2021-09-22T06:00:06.753099",
     "status": "completed"
    },
    "tags": []
   },
   "outputs": [],
   "source": [
    "import pandas as pd\n",
    "import sqlite3"
   ]
  },
  {
   "cell_type": "code",
   "execution_count": 2,
   "id": "innovative-syndrome",
   "metadata": {
    "execution": {
     "iopub.execute_input": "2021-09-22T06:00:07.661374Z",
     "iopub.status.busy": "2021-09-22T06:00:07.659521Z",
     "iopub.status.idle": "2021-09-22T06:00:07.999685Z",
     "shell.execute_reply": "2021-09-22T06:00:08.001064Z"
    },
    "papermill": {
     "duration": 0.370065,
     "end_time": "2021-09-22T06:00:08.001495",
     "exception": false,
     "start_time": "2021-09-22T06:00:07.631430",
     "status": "completed"
    },
    "tags": []
   },
   "outputs": [],
   "source": [
    "timestamps = pd.read_sql(\"select distinct record_time from EBAY_TOP_BERLIN order by record_time desc limit 2\", sqlite3.connect(\"UsedObjects.db\"))"
   ]
  },
  {
   "cell_type": "code",
   "execution_count": 3,
   "id": "periodic-identification",
   "metadata": {
    "execution": {
     "iopub.execute_input": "2021-09-22T06:00:08.068515Z",
     "iopub.status.busy": "2021-09-22T06:00:08.066430Z",
     "iopub.status.idle": "2021-09-22T06:00:08.088661Z",
     "shell.execute_reply": "2021-09-22T06:00:08.089856Z"
    },
    "papermill": {
     "duration": 0.068762,
     "end_time": "2021-09-22T06:00:08.090241",
     "exception": false,
     "start_time": "2021-09-22T06:00:08.021479",
     "status": "completed"
    },
    "tags": []
   },
   "outputs": [
    {
     "data": {
      "text/html": [
       "<div>\n",
       "<style scoped>\n",
       "    .dataframe tbody tr th:only-of-type {\n",
       "        vertical-align: middle;\n",
       "    }\n",
       "\n",
       "    .dataframe tbody tr th {\n",
       "        vertical-align: top;\n",
       "    }\n",
       "\n",
       "    .dataframe thead th {\n",
       "        text-align: right;\n",
       "    }\n",
       "</style>\n",
       "<table border=\"1\" class=\"dataframe\">\n",
       "  <thead>\n",
       "    <tr style=\"text-align: right;\">\n",
       "      <th></th>\n",
       "      <th>RECORD_TIME</th>\n",
       "    </tr>\n",
       "  </thead>\n",
       "  <tbody>\n",
       "    <tr>\n",
       "      <th>0</th>\n",
       "      <td>2021-09-22 08:00</td>\n",
       "    </tr>\n",
       "    <tr>\n",
       "      <th>1</th>\n",
       "      <td>2021-09-22 07:30</td>\n",
       "    </tr>\n",
       "  </tbody>\n",
       "</table>\n",
       "</div>"
      ],
      "text/plain": [
       "        RECORD_TIME\n",
       "0  2021-09-22 08:00\n",
       "1  2021-09-22 07:30"
      ]
     },
     "execution_count": 3,
     "metadata": {},
     "output_type": "execute_result"
    }
   ],
   "source": [
    "timestamps"
   ]
  },
  {
   "cell_type": "code",
   "execution_count": 4,
   "id": "alternate-victory",
   "metadata": {
    "execution": {
     "iopub.execute_input": "2021-09-22T06:00:08.142554Z",
     "iopub.status.busy": "2021-09-22T06:00:08.140299Z",
     "iopub.status.idle": "2021-09-22T06:00:08.662991Z",
     "shell.execute_reply": "2021-09-22T06:00:08.664379Z"
    },
    "papermill": {
     "duration": 0.55332,
     "end_time": "2021-09-22T06:00:08.664800",
     "exception": false,
     "start_time": "2021-09-22T06:00:08.111480",
     "status": "completed"
    },
    "tags": []
   },
   "outputs": [],
   "source": [
    "df = pd.read_sql(\"select * from EBAY_TOP_BERLIN where record_time in (select distinct record_time from EBAY_TOP_BERLIN order by record_time desc limit 2)\", sqlite3.connect(\"UsedObjects.db\"))"
   ]
  },
  {
   "cell_type": "code",
   "execution_count": 5,
   "id": "popular-active",
   "metadata": {
    "execution": {
     "iopub.execute_input": "2021-09-22T06:00:08.745011Z",
     "iopub.status.busy": "2021-09-22T06:00:08.733536Z",
     "iopub.status.idle": "2021-09-22T06:00:08.761572Z",
     "shell.execute_reply": "2021-09-22T06:00:08.762773Z"
    },
    "papermill": {
     "duration": 0.072616,
     "end_time": "2021-09-22T06:00:08.763234",
     "exception": false,
     "start_time": "2021-09-22T06:00:08.690618",
     "status": "completed"
    },
    "tags": []
   },
   "outputs": [],
   "source": [
    "df_pivot = df.pivot_table(index=\"PRODUCT\", columns = \"RECORD_TIME\", values = \"LISTING_COUNT\")"
   ]
  },
  {
   "cell_type": "code",
   "execution_count": 6,
   "id": "union-huntington",
   "metadata": {
    "execution": {
     "iopub.execute_input": "2021-09-22T06:00:08.819837Z",
     "iopub.status.busy": "2021-09-22T06:00:08.817759Z",
     "iopub.status.idle": "2021-09-22T06:00:08.823185Z",
     "shell.execute_reply": "2021-09-22T06:00:08.824398Z"
    },
    "papermill": {
     "duration": 0.040705,
     "end_time": "2021-09-22T06:00:08.824825",
     "exception": false,
     "start_time": "2021-09-22T06:00:08.784120",
     "status": "completed"
    },
    "tags": []
   },
   "outputs": [],
   "source": [
    "df_pivot.columns = [\"stamp_1\", \"stamp_2\"]\n",
    "df_pivot_diff = df_pivot.diff(axis=1)"
   ]
  },
  {
   "cell_type": "code",
   "execution_count": 7,
   "id": "fifth-motion",
   "metadata": {
    "execution": {
     "iopub.execute_input": "2021-09-22T06:00:08.879962Z",
     "iopub.status.busy": "2021-09-22T06:00:08.877294Z",
     "iopub.status.idle": "2021-09-22T06:00:10.365318Z",
     "shell.execute_reply": "2021-09-22T06:00:10.366581Z"
    },
    "papermill": {
     "duration": 1.521902,
     "end_time": "2021-09-22T06:00:10.367066",
     "exception": false,
     "start_time": "2021-09-22T06:00:08.845164",
     "status": "completed"
    },
    "tags": []
   },
   "outputs": [
    {
     "data": {
      "text/plain": [
       "<AxesSubplot:ylabel='PRODUCT'>"
      ]
     },
     "execution_count": 7,
     "metadata": {},
     "output_type": "execute_result"
    },
    {
     "data": {
      "image/png": "[encoded data removed]",
      "text/plain": [
       "<Figure size 432x288 with 1 Axes>"
      ]
     },
     "metadata": {
      "needs_background": "light"
     },
     "output_type": "display_data"
    }
   ],
   "source": [
    "df_pivot_diff.sort_values(\"stamp_2\", ascending = False)[\"stamp_2\"].head(10).plot.barh()"
   ]
  },
  {
   "cell_type": "code",
   "execution_count": null,
   "id": "extra-executive",
   "metadata": {
    "papermill": {
     "duration": 0.022534,
     "end_time": "2021-09-22T06:00:10.414670",
     "exception": false,
     "start_time": "2021-09-22T06:00:10.392136",
     "status": "completed"
    },
    "tags": []
   },
   "outputs": [],
   "source": []
  }
 ],
 "metadata": {
  "kernelspec": {
   "display_name": "Python 3",
   "language": "python",
   "name": "python3"
  },
  "language_info": {
   "codemirror_mode": {
    "name": "ipython",
    "version": 3
   },
   "file_extension": ".py",
   "mimetype": "text/x-python",
   "name": "python",
   "nbconvert_exporter": "python",
   "pygments_lexer": "ipython3",
   "version": "3.9.5"
  },
  "papermill": {
   "default_parameters": {},
   "duration": 6.703571,
   "end_time": "2021-09-22T06:00:11.058051",
   "environment_variables": {},
   "exception": null,
   "input_path": "eBay_Overview.ipynb",
   "output_path": "eBay_Overview.ipynb",
   "parameters": {},
   "start_time": "2021-09-22T06:00:04.354480",
   "version": "2.3.3"
  }
 },
 "nbformat": 4,
 "nbformat_minor": 5
}