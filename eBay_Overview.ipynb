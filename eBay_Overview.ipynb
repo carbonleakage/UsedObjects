{
 "cells": [
  {
   "cell_type": "code",
   "execution_count": 1,
   "id": "reverse-picking",
   "metadata": {
    "execution": {
     "iopub.execute_input": "2021-09-07T09:00:07.302179Z",
     "iopub.status.busy": "2021-09-07T09:00:07.300262Z",
     "iopub.status.idle": "2021-09-07T09:00:08.109828Z",
     "shell.execute_reply": "2021-09-07T09:00:08.111175Z"
    },
    "papermill": {
     "duration": 0.861598,
     "end_time": "2021-09-07T09:00:08.111846",
     "exception": false,
     "start_time": "2021-09-07T09:00:07.250248",
     "status": "completed"
    },
    "tags": []
   },
   "outputs": [],
   "source": [
    "import pandas as pd\n",
    "import sqlite3"
   ]
  },
  {
   "cell_type": "code",
   "execution_count": 2,
   "id": "innovative-syndrome",
   "metadata": {
    "execution": {
     "iopub.execute_input": "2021-09-07T09:00:08.162064Z",
     "iopub.status.busy": "2021-09-07T09:00:08.160198Z",
     "iopub.status.idle": "2021-09-07T09:00:08.387991Z",
     "shell.execute_reply": "2021-09-07T09:00:08.389262Z"
    },
    "papermill": {
     "duration": 0.25753,
     "end_time": "2021-09-07T09:00:08.389659",
     "exception": false,
     "start_time": "2021-09-07T09:00:08.132129",
     "status": "completed"
    },
    "tags": []
   },
   "outputs": [],
   "source": [
    "timestamps = pd.read_sql(\"select distinct record_time from EBAY_TOP_BERLIN order by record_time desc limit 2\", sqlite3.connect(\"UsedObjects.db\"))"
   ]
  },
  {
   "cell_type": "code",
   "execution_count": 3,
   "id": "periodic-identification",
   "metadata": {
    "execution": {
     "iopub.execute_input": "2021-09-07T09:00:08.453784Z",
     "iopub.status.busy": "2021-09-07T09:00:08.451766Z",
     "iopub.status.idle": "2021-09-07T09:00:08.473326Z",
     "shell.execute_reply": "2021-09-07T09:00:08.475090Z"
    },
    "papermill": {
     "duration": 0.066555,
     "end_time": "2021-09-07T09:00:08.475640",
     "exception": false,
     "start_time": "2021-09-07T09:00:08.409085",
     "status": "completed"
    },
    "tags": []
   },
   "outputs": [
    {
     "data": {
      "text/html": [
       "<div>\n",
       "<style scoped>\n",
       "    .dataframe tbody tr th:only-of-type {\n",
       "        vertical-align: middle;\n",
       "    }\n",
       "\n",
       "    .dataframe tbody tr th {\n",
       "        vertical-align: top;\n",
       "    }\n",
       "\n",
       "    .dataframe thead th {\n",
       "        text-align: right;\n",
       "    }\n",
       "</style>\n",
       "<table border=\"1\" class=\"dataframe\">\n",
       "  <thead>\n",
       "    <tr style=\"text-align: right;\">\n",
       "      <th></th>\n",
       "      <th>RECORD_TIME</th>\n",
       "    </tr>\n",
       "  </thead>\n",
       "  <tbody>\n",
       "    <tr>\n",
       "      <th>0</th>\n",
       "      <td>2021-09-07 11:00</td>\n",
       "    </tr>\n",
       "    <tr>\n",
       "      <th>1</th>\n",
       "      <td>2021-09-07 10:30</td>\n",
       "    </tr>\n",
       "  </tbody>\n",
       "</table>\n",
       "</div>"
      ],
      "text/plain": [
       "        RECORD_TIME\n",
       "0  2021-09-07 11:00\n",
       "1  2021-09-07 10:30"
      ]
     },
     "execution_count": 3,
     "metadata": {},
     "output_type": "execute_result"
    }
   ],
   "source": [
    "timestamps"
   ]
  },
  {
   "cell_type": "code",
   "execution_count": 4,
   "id": "alternate-victory",
   "metadata": {
    "execution": {
     "iopub.execute_input": "2021-09-07T09:00:08.528317Z",
     "iopub.status.busy": "2021-09-07T09:00:08.526385Z",
     "iopub.status.idle": "2021-09-07T09:00:08.866684Z",
     "shell.execute_reply": "2021-09-07T09:00:08.868060Z"
    },
    "papermill": {
     "duration": 0.370562,
     "end_time": "2021-09-07T09:00:08.868480",
     "exception": false,
     "start_time": "2021-09-07T09:00:08.497918",
     "status": "completed"
    },
    "tags": []
   },
   "outputs": [],
   "source": [
    "df = pd.read_sql(\"select * from EBAY_TOP_BERLIN where record_time in (select distinct record_time from EBAY_TOP_BERLIN order by record_time desc limit 2)\", sqlite3.connect(\"UsedObjects.db\"))"
   ]
  },
  {
   "cell_type": "code",
   "execution_count": 5,
   "id": "popular-active",
   "metadata": {
    "execution": {
     "iopub.execute_input": "2021-09-07T09:00:08.948360Z",
     "iopub.status.busy": "2021-09-07T09:00:08.937262Z",
     "iopub.status.idle": "2021-09-07T09:00:08.965322Z",
     "shell.execute_reply": "2021-09-07T09:00:08.966772Z"
    },
    "papermill": {
     "duration": 0.073002,
     "end_time": "2021-09-07T09:00:08.967432",
     "exception": false,
     "start_time": "2021-09-07T09:00:08.894430",
     "status": "completed"
    },
    "tags": []
   },
   "outputs": [],
   "source": [
    "df_pivot = df.pivot_table(index=\"PRODUCT\", columns = \"RECORD_TIME\", values = \"LISTING_COUNT\")"
   ]
  },
  {
   "cell_type": "code",
   "execution_count": 6,
   "id": "union-huntington",
   "metadata": {
    "execution": {
     "iopub.execute_input": "2021-09-07T09:00:09.027158Z",
     "iopub.status.busy": "2021-09-07T09:00:09.024644Z",
     "iopub.status.idle": "2021-09-07T09:00:09.030692Z",
     "shell.execute_reply": "2021-09-07T09:00:09.032041Z"
    },
    "papermill": {
     "duration": 0.042659,
     "end_time": "2021-09-07T09:00:09.032496",
     "exception": false,
     "start_time": "2021-09-07T09:00:08.989837",
     "status": "completed"
    },
    "tags": []
   },
   "outputs": [],
   "source": [
    "df_pivot.columns = [\"stamp_1\", \"stamp_2\"]\n",
    "df_pivot_diff = df_pivot.diff(axis=1)"
   ]
  },
  {
   "cell_type": "code",
   "execution_count": 7,
   "id": "fifth-motion",
   "metadata": {
    "execution": {
     "iopub.execute_input": "2021-09-07T09:00:09.088378Z",
     "iopub.status.busy": "2021-09-07T09:00:09.085928Z",
     "iopub.status.idle": "2021-09-07T09:00:10.568927Z",
     "shell.execute_reply": "2021-09-07T09:00:10.570194Z"
    },
    "papermill": {
     "duration": 1.516091,
     "end_time": "2021-09-07T09:00:10.570644",
     "exception": false,
     "start_time": "2021-09-07T09:00:09.054553",
     "status": "completed"
    },
    "tags": []
   },
   "outputs": [
    {
     "data": {
      "text/plain": [
       "<AxesSubplot:ylabel='PRODUCT'>"
      ]
     },
     "execution_count": 7,
     "metadata": {},
     "output_type": "execute_result"
    },
    {
     "data": {
      "image/png": "[encoded data removed]",
      "text/plain": [
       "<Figure size 432x288 with 1 Axes>"
      ]
     },
     "metadata": {
      "needs_background": "light"
     },
     "output_type": "display_data"
    }
   ],
   "source": [
    "df_pivot_diff.sort_values(\"stamp_2\", ascending = False)[\"stamp_2\"].head(10).plot.barh()"
   ]
  },
  {
   "cell_type": "code",
   "execution_count": null,
   "id": "extra-executive",
   "metadata": {
    "papermill": {
     "duration": 0.022373,
     "end_time": "2021-09-07T09:00:10.618120",
     "exception": false,
     "start_time": "2021-09-07T09:00:10.595747",
     "status": "completed"
    },
    "tags": []
   },
   "outputs": [],
   "source": []
  }
 ],
 "metadata": {
  "kernelspec": {
   "display_name": "Python 3",
   "language": "python",
   "name": "python3"
  },
  "language_info": {
   "codemirror_mode": {
    "name": "ipython",
    "version": 3
   },
   "file_extension": ".py",
   "mimetype": "text/x-python",
   "name": "python",
   "nbconvert_exporter": "python",
   "pygments_lexer": "ipython3",
   "version": "3.9.5"
  },
  "papermill": {
   "default_parameters": {},
   "duration": 6.42414,
   "end_time": "2021-09-07T09:00:11.259318",
   "environment_variables": {},
   "exception": null,
   "input_path": "eBay_Overview.ipynb",
   "output_path": "eBay_Overview.ipynb",
   "parameters": {},
   "start_time": "2021-09-07T09:00:04.835178",
   "version": "2.3.3"
  }
 },
 "nbformat": 4,
 "nbformat_minor": 5
}