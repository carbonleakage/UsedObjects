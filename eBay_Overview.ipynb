{
 "cells": [
  {
   "cell_type": "code",
   "execution_count": 1,
   "id": "reverse-picking",
   "metadata": {
    "execution": {
     "iopub.execute_input": "2021-10-29T09:00:07.403161Z",
     "iopub.status.busy": "2021-10-29T09:00:07.401226Z",
     "iopub.status.idle": "2021-10-29T09:00:08.206864Z",
     "shell.execute_reply": "2021-10-29T09:00:08.208103Z"
    },
    "papermill": {
     "duration": 0.855706,
     "end_time": "2021-10-29T09:00:08.208796",
     "exception": false,
     "start_time": "2021-10-29T09:00:07.353090",
     "status": "completed"
    },
    "tags": []
   },
   "outputs": [],
   "source": [
    "import pandas as pd\n",
    "import sqlite3"
   ]
  },
  {
   "cell_type": "code",
   "execution_count": 2,
   "id": "innovative-syndrome",
   "metadata": {
    "execution": {
     "iopub.execute_input": "2021-10-29T09:00:08.258566Z",
     "iopub.status.busy": "2021-10-29T09:00:08.256623Z",
     "iopub.status.idle": "2021-10-29T09:00:08.933476Z",
     "shell.execute_reply": "2021-10-29T09:00:08.934861Z"
    },
    "papermill": {
     "duration": 0.706326,
     "end_time": "2021-10-29T09:00:08.935295",
     "exception": false,
     "start_time": "2021-10-29T09:00:08.228969",
     "status": "completed"
    },
    "tags": []
   },
   "outputs": [],
   "source": [
    "timestamps = pd.read_sql(\"select distinct record_time from EBAY_TOP_BERLIN order by record_time desc limit 2\", sqlite3.connect(\"UsedObjects.db\"))"
   ]
  },
  {
   "cell_type": "code",
   "execution_count": 3,
   "id": "periodic-identification",
   "metadata": {
    "execution": {
     "iopub.execute_input": "2021-10-29T09:00:09.015112Z",
     "iopub.status.busy": "2021-10-29T09:00:09.013073Z",
     "iopub.status.idle": "2021-10-29T09:00:09.033150Z",
     "shell.execute_reply": "2021-10-29T09:00:09.034366Z"
    },
    "papermill": {
     "duration": 0.071141,
     "end_time": "2021-10-29T09:00:09.034795",
     "exception": false,
     "start_time": "2021-10-29T09:00:08.963654",
     "status": "completed"
    },
    "tags": []
   },
   "outputs": [
    {
     "data": {
      "text/html": [
       "<div>\n",
       "<style scoped>\n",
       "    .dataframe tbody tr th:only-of-type {\n",
       "        vertical-align: middle;\n",
       "    }\n",
       "\n",
       "    .dataframe tbody tr th {\n",
       "        vertical-align: top;\n",
       "    }\n",
       "\n",
       "    .dataframe thead th {\n",
       "        text-align: right;\n",
       "    }\n",
       "</style>\n",
       "<table border=\"1\" class=\"dataframe\">\n",
       "  <thead>\n",
       "    <tr style=\"text-align: right;\">\n",
       "      <th></th>\n",
       "      <th>RECORD_TIME</th>\n",
       "    </tr>\n",
       "  </thead>\n",
       "  <tbody>\n",
       "    <tr>\n",
       "      <th>0</th>\n",
       "      <td>2021-10-29 11:00</td>\n",
       "    </tr>\n",
       "    <tr>\n",
       "      <th>1</th>\n",
       "      <td>2021-10-29 10:30</td>\n",
       "    </tr>\n",
       "  </tbody>\n",
       "</table>\n",
       "</div>"
      ],
      "text/plain": [
       "        RECORD_TIME\n",
       "0  2021-10-29 11:00\n",
       "1  2021-10-29 10:30"
      ]
     },
     "execution_count": 3,
     "metadata": {},
     "output_type": "execute_result"
    }
   ],
   "source": [
    "timestamps"
   ]
  },
  {
   "cell_type": "code",
   "execution_count": 4,
   "id": "alternate-victory",
   "metadata": {
    "execution": {
     "iopub.execute_input": "2021-10-29T09:00:09.088309Z",
     "iopub.status.busy": "2021-10-29T09:00:09.086026Z",
     "iopub.status.idle": "2021-10-29T09:00:10.071818Z",
     "shell.execute_reply": "2021-10-29T09:00:10.073232Z"
    },
    "papermill": {
     "duration": 1.016215,
     "end_time": "2021-10-29T09:00:10.073697",
     "exception": false,
     "start_time": "2021-10-29T09:00:09.057482",
     "status": "completed"
    },
    "tags": []
   },
   "outputs": [],
   "source": [
    "df = pd.read_sql(\"select * from EBAY_TOP_BERLIN where record_time in (select distinct record_time from EBAY_TOP_BERLIN order by record_time desc limit 2)\", sqlite3.connect(\"UsedObjects.db\"))"
   ]
  },
  {
   "cell_type": "code",
   "execution_count": 5,
   "id": "popular-active",
   "metadata": {
    "execution": {
     "iopub.execute_input": "2021-10-29T09:00:10.143792Z",
     "iopub.status.busy": "2021-10-29T09:00:10.137515Z",
     "iopub.status.idle": "2021-10-29T09:00:10.159609Z",
     "shell.execute_reply": "2021-10-29T09:00:10.161027Z"
    },
    "papermill": {
     "duration": 0.06766,
     "end_time": "2021-10-29T09:00:10.161442",
     "exception": false,
     "start_time": "2021-10-29T09:00:10.093782",
     "status": "completed"
    },
    "tags": []
   },
   "outputs": [],
   "source": [
    "df_pivot = df.pivot_table(index=\"PRODUCT\", columns = \"RECORD_TIME\", values = \"LISTING_COUNT\")"
   ]
  },
  {
   "cell_type": "code",
   "execution_count": 6,
   "id": "union-huntington",
   "metadata": {
    "execution": {
     "iopub.execute_input": "2021-10-29T09:00:10.219451Z",
     "iopub.status.busy": "2021-10-29T09:00:10.217028Z",
     "iopub.status.idle": "2021-10-29T09:00:10.222857Z",
     "shell.execute_reply": "2021-10-29T09:00:10.224137Z"
    },
    "papermill": {
     "duration": 0.041751,
     "end_time": "2021-10-29T09:00:10.224553",
     "exception": false,
     "start_time": "2021-10-29T09:00:10.182802",
     "status": "completed"
    },
    "tags": []
   },
   "outputs": [],
   "source": [
    "df_pivot.columns = [\"stamp_1\", \"stamp_2\"]\n",
    "df_pivot_diff = df_pivot.diff(axis=1)"
   ]
  },
  {
   "cell_type": "code",
   "execution_count": 7,
   "id": "fifth-motion",
   "metadata": {
    "execution": {
     "iopub.execute_input": "2021-10-29T09:00:10.279251Z",
     "iopub.status.busy": "2021-10-29T09:00:10.276866Z",
     "iopub.status.idle": "2021-10-29T09:00:11.782562Z",
     "shell.execute_reply": "2021-10-29T09:00:11.783763Z"
    },
    "papermill": {
     "duration": 1.539094,
     "end_time": "2021-10-29T09:00:11.784190",
     "exception": false,
     "start_time": "2021-10-29T09:00:10.245096",
     "status": "completed"
    },
    "tags": []
   },
   "outputs": [
    {
     "data": {
      "text/plain": [
       "<AxesSubplot:ylabel='PRODUCT'>"
      ]
     },
     "execution_count": 7,
     "metadata": {},
     "output_type": "execute_result"
    },
    {
     "data": {
      "image/png": "[encoded data removed]",
      "text/plain": [
       "<Figure size 432x288 with 1 Axes>"
      ]
     },
     "metadata": {
      "needs_background": "light"
     },
     "output_type": "display_data"
    }
   ],
   "source": [
    "df_pivot_diff.sort_values(\"stamp_2\", ascending = False)[\"stamp_2\"].head(10).plot.barh()"
   ]
  },
  {
   "cell_type": "code",
   "execution_count": null,
   "id": "extra-executive",
   "metadata": {
    "papermill": {
     "duration": 0.02183,
     "end_time": "2021-10-29T09:00:11.831941",
     "exception": false,
     "start_time": "2021-10-29T09:00:11.810111",
     "status": "completed"
    },
    "tags": []
   },
   "outputs": [],
   "source": []
  }
 ],
 "metadata": {
  "kernelspec": {
   "display_name": "Python 3",
   "language": "python",
   "name": "python3"
  },
  "language_info": {
   "codemirror_mode": {
    "name": "ipython",
    "version": 3
   },
   "file_extension": ".py",
   "mimetype": "text/x-python",
   "name": "python",
   "nbconvert_exporter": "python",
   "pygments_lexer": "ipython3",
   "version": "3.9.5"
  },
  "papermill": {
   "default_parameters": {},
   "duration": 7.521851,
   "end_time": "2021-10-29T09:00:12.473269",
   "environment_variables": {},
   "exception": null,
   "input_path": "eBay_Overview.ipynb",
   "output_path": "eBay_Overview.ipynb",
   "parameters": {},
   "start_time": "2021-10-29T09:00:04.951418",
   "version": "2.3.3"
  }
 },
 "nbformat": 4,
 "nbformat_minor": 5
}