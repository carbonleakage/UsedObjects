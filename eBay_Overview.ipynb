{
 "cells": [
  {
   "cell_type": "code",
   "execution_count": 1,
   "id": "reverse-picking",
   "metadata": {
    "execution": {
     "iopub.execute_input": "2021-11-16T15:00:08.027910Z",
     "iopub.status.busy": "2021-11-16T15:00:08.017541Z",
     "iopub.status.idle": "2021-11-16T15:00:08.974897Z",
     "shell.execute_reply": "2021-11-16T15:00:08.976370Z"
    },
    "papermill": {
     "duration": 1.004544,
     "end_time": "2021-11-16T15:00:08.977169",
     "exception": false,
     "start_time": "2021-11-16T15:00:07.972625",
     "status": "completed"
    },
    "tags": []
   },
   "outputs": [],
   "source": [
    "import pandas as pd\n",
    "import sqlite3"
   ]
  },
  {
   "cell_type": "code",
   "execution_count": 2,
   "id": "innovative-syndrome",
   "metadata": {
    "execution": {
     "iopub.execute_input": "2021-11-16T15:00:09.040429Z",
     "iopub.status.busy": "2021-11-16T15:00:09.038215Z",
     "iopub.status.idle": "2021-11-16T15:00:09.873740Z",
     "shell.execute_reply": "2021-11-16T15:00:09.875196Z"
    },
    "papermill": {
     "duration": 0.869738,
     "end_time": "2021-11-16T15:00:09.875670",
     "exception": false,
     "start_time": "2021-11-16T15:00:09.005932",
     "status": "completed"
    },
    "tags": []
   },
   "outputs": [],
   "source": [
    "timestamps = pd.read_sql(\"select distinct record_time from EBAY_TOP_BERLIN order by record_time desc limit 2\", sqlite3.connect(\"UsedObjects.db\"))"
   ]
  },
  {
   "cell_type": "code",
   "execution_count": 3,
   "id": "periodic-identification",
   "metadata": {
    "execution": {
     "iopub.execute_input": "2021-11-16T15:00:09.946184Z",
     "iopub.status.busy": "2021-11-16T15:00:09.943817Z",
     "iopub.status.idle": "2021-11-16T15:00:09.966085Z",
     "shell.execute_reply": "2021-11-16T15:00:09.967573Z"
    },
    "papermill": {
     "duration": 0.072867,
     "end_time": "2021-11-16T15:00:09.968073",
     "exception": false,
     "start_time": "2021-11-16T15:00:09.895206",
     "status": "completed"
    },
    "tags": []
   },
   "outputs": [
    {
     "data": {
      "text/html": [
       "<div>\n",
       "<style scoped>\n",
       "    .dataframe tbody tr th:only-of-type {\n",
       "        vertical-align: middle;\n",
       "    }\n",
       "\n",
       "    .dataframe tbody tr th {\n",
       "        vertical-align: top;\n",
       "    }\n",
       "\n",
       "    .dataframe thead th {\n",
       "        text-align: right;\n",
       "    }\n",
       "</style>\n",
       "<table border=\"1\" class=\"dataframe\">\n",
       "  <thead>\n",
       "    <tr style=\"text-align: right;\">\n",
       "      <th></th>\n",
       "      <th>RECORD_TIME</th>\n",
       "    </tr>\n",
       "  </thead>\n",
       "  <tbody>\n",
       "    <tr>\n",
       "      <th>0</th>\n",
       "      <td>2021-11-16 16:00</td>\n",
       "    </tr>\n",
       "    <tr>\n",
       "      <th>1</th>\n",
       "      <td>2021-11-16 15:30</td>\n",
       "    </tr>\n",
       "  </tbody>\n",
       "</table>\n",
       "</div>"
      ],
      "text/plain": [
       "        RECORD_TIME\n",
       "0  2021-11-16 16:00\n",
       "1  2021-11-16 15:30"
      ]
     },
     "execution_count": 3,
     "metadata": {},
     "output_type": "execute_result"
    }
   ],
   "source": [
    "timestamps"
   ]
  },
  {
   "cell_type": "code",
   "execution_count": 4,
   "id": "alternate-victory",
   "metadata": {
    "execution": {
     "iopub.execute_input": "2021-11-16T15:00:10.026180Z",
     "iopub.status.busy": "2021-11-16T15:00:10.023892Z",
     "iopub.status.idle": "2021-11-16T15:00:11.235636Z",
     "shell.execute_reply": "2021-11-16T15:00:11.237176Z"
    },
    "papermill": {
     "duration": 1.247911,
     "end_time": "2021-11-16T15:00:11.237645",
     "exception": false,
     "start_time": "2021-11-16T15:00:09.989734",
     "status": "completed"
    },
    "tags": []
   },
   "outputs": [],
   "source": [
    "df = pd.read_sql(\"select * from EBAY_TOP_BERLIN where record_time in (select distinct record_time from EBAY_TOP_BERLIN order by record_time desc limit 2)\", sqlite3.connect(\"UsedObjects.db\"))"
   ]
  },
  {
   "cell_type": "code",
   "execution_count": 5,
   "id": "popular-active",
   "metadata": {
    "execution": {
     "iopub.execute_input": "2021-11-16T15:00:11.311603Z",
     "iopub.status.busy": "2021-11-16T15:00:11.299346Z",
     "iopub.status.idle": "2021-11-16T15:00:11.329547Z",
     "shell.execute_reply": "2021-11-16T15:00:11.330926Z"
    },
    "papermill": {
     "duration": 0.073315,
     "end_time": "2021-11-16T15:00:11.331445",
     "exception": false,
     "start_time": "2021-11-16T15:00:11.258130",
     "status": "completed"
    },
    "tags": []
   },
   "outputs": [],
   "source": [
    "df_pivot = df.pivot_table(index=\"PRODUCT\", columns = \"RECORD_TIME\", values = \"LISTING_COUNT\")"
   ]
  },
  {
   "cell_type": "code",
   "execution_count": 6,
   "id": "union-huntington",
   "metadata": {
    "execution": {
     "iopub.execute_input": "2021-11-16T15:00:11.405553Z",
     "iopub.status.busy": "2021-11-16T15:00:11.401788Z",
     "iopub.status.idle": "2021-11-16T15:00:11.412928Z",
     "shell.execute_reply": "2021-11-16T15:00:11.415586Z"
    },
    "papermill": {
     "duration": 0.063669,
     "end_time": "2021-11-16T15:00:11.416433",
     "exception": false,
     "start_time": "2021-11-16T15:00:11.352764",
     "status": "completed"
    },
    "tags": []
   },
   "outputs": [],
   "source": [
    "df_pivot.columns = [\"stamp_1\", \"stamp_2\"]\n",
    "df_pivot_diff = df_pivot.diff(axis=1)"
   ]
  },
  {
   "cell_type": "code",
   "execution_count": 7,
   "id": "fifth-motion",
   "metadata": {
    "execution": {
     "iopub.execute_input": "2021-11-16T15:00:11.488419Z",
     "iopub.status.busy": "2021-11-16T15:00:11.485917Z",
     "iopub.status.idle": "2021-11-16T15:00:13.256100Z",
     "shell.execute_reply": "2021-11-16T15:00:13.252504Z"
    },
    "papermill": {
     "duration": 1.809453,
     "end_time": "2021-11-16T15:00:13.256879",
     "exception": false,
     "start_time": "2021-11-16T15:00:11.447426",
     "status": "completed"
    },
    "tags": []
   },
   "outputs": [
    {
     "data": {
      "text/plain": [
       "<AxesSubplot:ylabel='PRODUCT'>"
      ]
     },
     "execution_count": 7,
     "metadata": {},
     "output_type": "execute_result"
    },
    {
     "data": {
      "image/png": "[encoded data removed]",
      "text/plain": [
       "<Figure size 432x288 with 1 Axes>"
      ]
     },
     "metadata": {
      "needs_background": "light"
     },
     "output_type": "display_data"
    }
   ],
   "source": [
    "df_pivot_diff.sort_values(\"stamp_2\", ascending = False)[\"stamp_2\"].head(10).plot.barh()"
   ]
  },
  {
   "cell_type": "code",
   "execution_count": null,
   "id": "extra-executive",
   "metadata": {
    "papermill": {
     "duration": 0.030735,
     "end_time": "2021-11-16T15:00:13.324148",
     "exception": false,
     "start_time": "2021-11-16T15:00:13.293413",
     "status": "completed"
    },
    "tags": []
   },
   "outputs": [],
   "source": []
  }
 ],
 "metadata": {
  "kernelspec": {
   "display_name": "Python 3",
   "language": "python",
   "name": "python3"
  },
  "language_info": {
   "codemirror_mode": {
    "name": "ipython",
    "version": 3
   },
   "file_extension": ".py",
   "mimetype": "text/x-python",
   "name": "python",
   "nbconvert_exporter": "python",
   "pygments_lexer": "ipython3",
   "version": "3.9.5"
  },
  "papermill": {
   "default_parameters": {},
   "duration": 9.927622,
   "end_time": "2021-11-16T15:00:15.169620",
   "environment_variables": {},
   "exception": null,
   "input_path": "eBay_Overview.ipynb",
   "output_path": "eBay_Overview.ipynb",
   "parameters": {},
   "start_time": "2021-11-16T15:00:05.241998",
   "version": "2.3.3"
  }
 },
 "nbformat": 4,
 "nbformat_minor": 5
}