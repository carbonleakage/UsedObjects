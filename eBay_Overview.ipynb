{
 "cells": [
  {
   "cell_type": "code",
   "execution_count": 1,
   "id": "reverse-picking",
   "metadata": {
    "execution": {
     "iopub.execute_input": "2021-11-04T08:30:08.223565Z",
     "iopub.status.busy": "2021-11-04T08:30:08.221439Z",
     "iopub.status.idle": "2021-11-04T08:30:09.190859Z",
     "shell.execute_reply": "2021-11-04T08:30:09.188865Z"
    },
    "papermill": {
     "duration": 1.015451,
     "end_time": "2021-11-04T08:30:09.191357",
     "exception": false,
     "start_time": "2021-11-04T08:30:08.175906",
     "status": "completed"
    },
    "tags": []
   },
   "outputs": [],
   "source": [
    "import pandas as pd\n",
    "import sqlite3"
   ]
  },
  {
   "cell_type": "code",
   "execution_count": 2,
   "id": "innovative-syndrome",
   "metadata": {
    "execution": {
     "iopub.execute_input": "2021-11-04T08:30:09.247094Z",
     "iopub.status.busy": "2021-11-04T08:30:09.244818Z",
     "iopub.status.idle": "2021-11-04T08:30:09.990382Z",
     "shell.execute_reply": "2021-11-04T08:30:09.991854Z"
    },
    "papermill": {
     "duration": 0.779375,
     "end_time": "2021-11-04T08:30:09.992357",
     "exception": false,
     "start_time": "2021-11-04T08:30:09.212982",
     "status": "completed"
    },
    "tags": []
   },
   "outputs": [],
   "source": [
    "timestamps = pd.read_sql(\"select distinct record_time from EBAY_TOP_BERLIN order by record_time desc limit 2\", sqlite3.connect(\"UsedObjects.db\"))"
   ]
  },
  {
   "cell_type": "code",
   "execution_count": 3,
   "id": "periodic-identification",
   "metadata": {
    "execution": {
     "iopub.execute_input": "2021-11-04T08:30:10.062671Z",
     "iopub.status.busy": "2021-11-04T08:30:10.060406Z",
     "iopub.status.idle": "2021-11-04T08:30:10.082214Z",
     "shell.execute_reply": "2021-11-04T08:30:10.083573Z"
    },
    "papermill": {
     "duration": 0.071782,
     "end_time": "2021-11-04T08:30:10.084022",
     "exception": false,
     "start_time": "2021-11-04T08:30:10.012240",
     "status": "completed"
    },
    "tags": []
   },
   "outputs": [
    {
     "data": {
      "text/html": [
       "<div>\n",
       "<style scoped>\n",
       "    .dataframe tbody tr th:only-of-type {\n",
       "        vertical-align: middle;\n",
       "    }\n",
       "\n",
       "    .dataframe tbody tr th {\n",
       "        vertical-align: top;\n",
       "    }\n",
       "\n",
       "    .dataframe thead th {\n",
       "        text-align: right;\n",
       "    }\n",
       "</style>\n",
       "<table border=\"1\" class=\"dataframe\">\n",
       "  <thead>\n",
       "    <tr style=\"text-align: right;\">\n",
       "      <th></th>\n",
       "      <th>RECORD_TIME</th>\n",
       "    </tr>\n",
       "  </thead>\n",
       "  <tbody>\n",
       "    <tr>\n",
       "      <th>0</th>\n",
       "      <td>2021-11-04 09:30</td>\n",
       "    </tr>\n",
       "    <tr>\n",
       "      <th>1</th>\n",
       "      <td>2021-11-04 09:00</td>\n",
       "    </tr>\n",
       "  </tbody>\n",
       "</table>\n",
       "</div>"
      ],
      "text/plain": [
       "        RECORD_TIME\n",
       "0  2021-11-04 09:30\n",
       "1  2021-11-04 09:00"
      ]
     },
     "execution_count": 3,
     "metadata": {},
     "output_type": "execute_result"
    }
   ],
   "source": [
    "timestamps"
   ]
  },
  {
   "cell_type": "code",
   "execution_count": 4,
   "id": "alternate-victory",
   "metadata": {
    "execution": {
     "iopub.execute_input": "2021-11-04T08:30:10.137185Z",
     "iopub.status.busy": "2021-11-04T08:30:10.135165Z",
     "iopub.status.idle": "2021-11-04T08:30:11.203821Z",
     "shell.execute_reply": "2021-11-04T08:30:11.205784Z"
    },
    "papermill": {
     "duration": 1.101436,
     "end_time": "2021-11-04T08:30:11.206313",
     "exception": false,
     "start_time": "2021-11-04T08:30:10.104877",
     "status": "completed"
    },
    "tags": []
   },
   "outputs": [],
   "source": [
    "df = pd.read_sql(\"select * from EBAY_TOP_BERLIN where record_time in (select distinct record_time from EBAY_TOP_BERLIN order by record_time desc limit 2)\", sqlite3.connect(\"UsedObjects.db\"))"
   ]
  },
  {
   "cell_type": "code",
   "execution_count": 5,
   "id": "popular-active",
   "metadata": {
    "execution": {
     "iopub.execute_input": "2021-11-04T08:30:11.286155Z",
     "iopub.status.busy": "2021-11-04T08:30:11.272220Z",
     "iopub.status.idle": "2021-11-04T08:30:11.305822Z",
     "shell.execute_reply": "2021-11-04T08:30:11.308343Z"
    },
    "papermill": {
     "duration": 0.080318,
     "end_time": "2021-11-04T08:30:11.308931",
     "exception": false,
     "start_time": "2021-11-04T08:30:11.228613",
     "status": "completed"
    },
    "tags": []
   },
   "outputs": [],
   "source": [
    "df_pivot = df.pivot_table(index=\"PRODUCT\", columns = \"RECORD_TIME\", values = \"LISTING_COUNT\")"
   ]
  },
  {
   "cell_type": "code",
   "execution_count": 6,
   "id": "union-huntington",
   "metadata": {
    "execution": {
     "iopub.execute_input": "2021-11-04T08:30:11.372803Z",
     "iopub.status.busy": "2021-11-04T08:30:11.370156Z",
     "iopub.status.idle": "2021-11-04T08:30:11.376648Z",
     "shell.execute_reply": "2021-11-04T08:30:11.378168Z"
    },
    "papermill": {
     "duration": 0.047457,
     "end_time": "2021-11-04T08:30:11.378646",
     "exception": false,
     "start_time": "2021-11-04T08:30:11.331189",
     "status": "completed"
    },
    "tags": []
   },
   "outputs": [],
   "source": [
    "df_pivot.columns = [\"stamp_1\", \"stamp_2\"]\n",
    "df_pivot_diff = df_pivot.diff(axis=1)"
   ]
  },
  {
   "cell_type": "code",
   "execution_count": 7,
   "id": "fifth-motion",
   "metadata": {
    "execution": {
     "iopub.execute_input": "2021-11-04T08:30:11.440328Z",
     "iopub.status.busy": "2021-11-04T08:30:11.437797Z",
     "iopub.status.idle": "2021-11-04T08:30:13.222383Z",
     "shell.execute_reply": "2021-11-04T08:30:13.225113Z"
    },
    "papermill": {
     "duration": 1.825088,
     "end_time": "2021-11-04T08:30:13.225955",
     "exception": false,
     "start_time": "2021-11-04T08:30:11.400867",
     "status": "completed"
    },
    "tags": []
   },
   "outputs": [
    {
     "data": {
      "text/plain": [
       "<AxesSubplot:ylabel='PRODUCT'>"
      ]
     },
     "execution_count": 7,
     "metadata": {},
     "output_type": "execute_result"
    },
    {
     "data": {
      "image/png": "[encoded data removed]",
      "text/plain": [
       "<Figure size 432x288 with 1 Axes>"
      ]
     },
     "metadata": {
      "needs_background": "light"
     },
     "output_type": "display_data"
    }
   ],
   "source": [
    "df_pivot_diff.sort_values(\"stamp_2\", ascending = False)[\"stamp_2\"].head(10).plot.barh()"
   ]
  },
  {
   "cell_type": "code",
   "execution_count": null,
   "id": "extra-executive",
   "metadata": {
    "papermill": {
     "duration": 0.034892,
     "end_time": "2021-11-04T08:30:13.298028",
     "exception": false,
     "start_time": "2021-11-04T08:30:13.263136",
     "status": "completed"
    },
    "tags": []
   },
   "outputs": [],
   "source": []
  }
 ],
 "metadata": {
  "kernelspec": {
   "display_name": "Python 3",
   "language": "python",
   "name": "python3"
  },
  "language_info": {
   "codemirror_mode": {
    "name": "ipython",
    "version": 3
   },
   "file_extension": ".py",
   "mimetype": "text/x-python",
   "name": "python",
   "nbconvert_exporter": "python",
   "pygments_lexer": "ipython3",
   "version": "3.9.5"
  },
  "papermill": {
   "default_parameters": {},
   "duration": 8.792551,
   "end_time": "2021-11-04T08:30:14.174796",
   "environment_variables": {},
   "exception": null,
   "input_path": "eBay_Overview.ipynb",
   "output_path": "eBay_Overview.ipynb",
   "parameters": {},
   "start_time": "2021-11-04T08:30:05.382245",
   "version": "2.3.3"
  }
 },
 "nbformat": 4,
 "nbformat_minor": 5
}