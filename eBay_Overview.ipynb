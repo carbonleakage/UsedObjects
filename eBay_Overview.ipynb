{
 "cells": [
  {
   "cell_type": "code",
   "execution_count": 1,
   "id": "reverse-picking",
   "metadata": {
    "execution": {
     "iopub.execute_input": "2021-08-26T04:30:06.762926Z",
     "iopub.status.busy": "2021-08-26T04:30:06.760980Z",
     "iopub.status.idle": "2021-08-26T04:30:07.565024Z",
     "shell.execute_reply": "2021-08-26T04:30:07.566307Z"
    },
    "papermill": {
     "duration": 0.856122,
     "end_time": "2021-08-26T04:30:07.566934",
     "exception": false,
     "start_time": "2021-08-26T04:30:06.710812",
     "status": "completed"
    },
    "tags": []
   },
   "outputs": [],
   "source": [
    "import pandas as pd\n",
    "import sqlite3"
   ]
  },
  {
   "cell_type": "code",
   "execution_count": 2,
   "id": "innovative-syndrome",
   "metadata": {
    "execution": {
     "iopub.execute_input": "2021-08-26T04:30:07.618837Z",
     "iopub.status.busy": "2021-08-26T04:30:07.616966Z",
     "iopub.status.idle": "2021-08-26T04:30:07.750295Z",
     "shell.execute_reply": "2021-08-26T04:30:07.751491Z"
    },
    "papermill": {
     "duration": 0.162999,
     "end_time": "2021-08-26T04:30:07.751895",
     "exception": false,
     "start_time": "2021-08-26T04:30:07.588896",
     "status": "completed"
    },
    "tags": []
   },
   "outputs": [],
   "source": [
    "timestamps = pd.read_sql(\"select distinct record_time from EBAY_TOP_BERLIN order by record_time desc limit 2\", sqlite3.connect(\"UsedObjects.db\"))"
   ]
  },
  {
   "cell_type": "code",
   "execution_count": 3,
   "id": "periodic-identification",
   "metadata": {
    "execution": {
     "iopub.execute_input": "2021-08-26T04:30:07.821138Z",
     "iopub.status.busy": "2021-08-26T04:30:07.819052Z",
     "iopub.status.idle": "2021-08-26T04:30:07.840816Z",
     "shell.execute_reply": "2021-08-26T04:30:07.839281Z"
    },
    "papermill": {
     "duration": 0.067373,
     "end_time": "2021-08-26T04:30:07.841207",
     "exception": false,
     "start_time": "2021-08-26T04:30:07.773834",
     "status": "completed"
    },
    "tags": []
   },
   "outputs": [
    {
     "data": {
      "text/html": [
       "<div>\n",
       "<style scoped>\n",
       "    .dataframe tbody tr th:only-of-type {\n",
       "        vertical-align: middle;\n",
       "    }\n",
       "\n",
       "    .dataframe tbody tr th {\n",
       "        vertical-align: top;\n",
       "    }\n",
       "\n",
       "    .dataframe thead th {\n",
       "        text-align: right;\n",
       "    }\n",
       "</style>\n",
       "<table border=\"1\" class=\"dataframe\">\n",
       "  <thead>\n",
       "    <tr style=\"text-align: right;\">\n",
       "      <th></th>\n",
       "      <th>RECORD_TIME</th>\n",
       "    </tr>\n",
       "  </thead>\n",
       "  <tbody>\n",
       "    <tr>\n",
       "      <th>0</th>\n",
       "      <td>2021-08-26 06:30</td>\n",
       "    </tr>\n",
       "    <tr>\n",
       "      <th>1</th>\n",
       "      <td>2021-08-26 06:00</td>\n",
       "    </tr>\n",
       "  </tbody>\n",
       "</table>\n",
       "</div>"
      ],
      "text/plain": [
       "        RECORD_TIME\n",
       "0  2021-08-26 06:30\n",
       "1  2021-08-26 06:00"
      ]
     },
     "execution_count": 3,
     "metadata": {},
     "output_type": "execute_result"
    }
   ],
   "source": [
    "timestamps"
   ]
  },
  {
   "cell_type": "code",
   "execution_count": 4,
   "id": "alternate-victory",
   "metadata": {
    "execution": {
     "iopub.execute_input": "2021-08-26T04:30:07.893103Z",
     "iopub.status.busy": "2021-08-26T04:30:07.891120Z",
     "iopub.status.idle": "2021-08-26T04:30:08.088688Z",
     "shell.execute_reply": "2021-08-26T04:30:08.089945Z"
    },
    "papermill": {
     "duration": 0.22778,
     "end_time": "2021-08-26T04:30:08.090360",
     "exception": false,
     "start_time": "2021-08-26T04:30:07.862580",
     "status": "completed"
    },
    "tags": []
   },
   "outputs": [],
   "source": [
    "df = pd.read_sql(\"select * from EBAY_TOP_BERLIN where record_time in (select distinct record_time from EBAY_TOP_BERLIN order by record_time desc limit 2)\", sqlite3.connect(\"UsedObjects.db\"))"
   ]
  },
  {
   "cell_type": "code",
   "execution_count": 5,
   "id": "popular-active",
   "metadata": {
    "execution": {
     "iopub.execute_input": "2021-08-26T04:30:08.163454Z",
     "iopub.status.busy": "2021-08-26T04:30:08.152654Z",
     "iopub.status.idle": "2021-08-26T04:30:08.179807Z",
     "shell.execute_reply": "2021-08-26T04:30:08.181089Z"
    },
    "papermill": {
     "duration": 0.068891,
     "end_time": "2021-08-26T04:30:08.181498",
     "exception": false,
     "start_time": "2021-08-26T04:30:08.112607",
     "status": "completed"
    },
    "tags": []
   },
   "outputs": [],
   "source": [
    "df_pivot = df.pivot_table(index=\"PRODUCT\", columns = \"RECORD_TIME\", values = \"LISTING_COUNT\")"
   ]
  },
  {
   "cell_type": "code",
   "execution_count": 6,
   "id": "union-huntington",
   "metadata": {
    "execution": {
     "iopub.execute_input": "2021-08-26T04:30:08.250003Z",
     "iopub.status.busy": "2021-08-26T04:30:08.247687Z",
     "iopub.status.idle": "2021-08-26T04:30:08.254765Z",
     "shell.execute_reply": "2021-08-26T04:30:08.253268Z"
    },
    "papermill": {
     "duration": 0.045695,
     "end_time": "2021-08-26T04:30:08.255143",
     "exception": false,
     "start_time": "2021-08-26T04:30:08.209448",
     "status": "completed"
    },
    "tags": []
   },
   "outputs": [],
   "source": [
    "df_pivot.columns = [\"stamp_1\", \"stamp_2\"]\n",
    "df_pivot_diff = df_pivot.diff(axis=1)"
   ]
  },
  {
   "cell_type": "code",
   "execution_count": 7,
   "id": "fifth-motion",
   "metadata": {
    "execution": {
     "iopub.execute_input": "2021-08-26T04:30:08.313408Z",
     "iopub.status.busy": "2021-08-26T04:30:08.310654Z",
     "iopub.status.idle": "2021-08-26T04:30:09.771676Z",
     "shell.execute_reply": "2021-08-26T04:30:09.773035Z"
    },
    "papermill": {
     "duration": 1.495163,
     "end_time": "2021-08-26T04:30:09.773461",
     "exception": false,
     "start_time": "2021-08-26T04:30:08.278298",
     "status": "completed"
    },
    "tags": []
   },
   "outputs": [
    {
     "data": {
      "text/plain": [
       "<AxesSubplot:ylabel='PRODUCT'>"
      ]
     },
     "execution_count": 7,
     "metadata": {},
     "output_type": "execute_result"
    },
    {
     "data": {
      "image/png": "[encoded data removed]",
      "text/plain": [
       "<Figure size 432x288 with 1 Axes>"
      ]
     },
     "metadata": {
      "needs_background": "light"
     },
     "output_type": "display_data"
    }
   ],
   "source": [
    "df_pivot_diff.sort_values(\"stamp_2\", ascending = False)[\"stamp_2\"].head(10).plot.barh()"
   ]
  },
  {
   "cell_type": "code",
   "execution_count": null,
   "id": "extra-executive",
   "metadata": {
    "papermill": {
     "duration": 0.022345,
     "end_time": "2021-08-26T04:30:09.820684",
     "exception": false,
     "start_time": "2021-08-26T04:30:09.798339",
     "status": "completed"
    },
    "tags": []
   },
   "outputs": [],
   "source": []
  }
 ],
 "metadata": {
  "kernelspec": {
   "display_name": "Python 3",
   "language": "python",
   "name": "python3"
  },
  "language_info": {
   "codemirror_mode": {
    "name": "ipython",
    "version": 3
   },
   "file_extension": ".py",
   "mimetype": "text/x-python",
   "name": "python",
   "nbconvert_exporter": "python",
   "pygments_lexer": "ipython3",
   "version": "3.9.5"
  },
  "papermill": {
   "default_parameters": {},
   "duration": 6.83325,
   "end_time": "2021-08-26T04:30:11.133822",
   "environment_variables": {},
   "exception": null,
   "input_path": "eBay_Overview.ipynb",
   "output_path": "eBay_Overview.ipynb",
   "parameters": {},
   "start_time": "2021-08-26T04:30:04.300572",
   "version": "2.3.3"
  }
 },
 "nbformat": 4,
 "nbformat_minor": 5
}