{
 "cells": [
  {
   "cell_type": "code",
   "execution_count": 1,
   "id": "reverse-picking",
   "metadata": {
    "execution": {
     "iopub.execute_input": "2021-10-21T14:30:07.502959Z",
     "iopub.status.busy": "2021-10-21T14:30:07.501003Z",
     "iopub.status.idle": "2021-10-21T14:30:08.309264Z",
     "shell.execute_reply": "2021-10-21T14:30:08.307604Z"
    },
    "papermill": {
     "duration": 0.859063,
     "end_time": "2021-10-21T14:30:08.309683",
     "exception": false,
     "start_time": "2021-10-21T14:30:07.450620",
     "status": "completed"
    },
    "tags": []
   },
   "outputs": [],
   "source": [
    "import pandas as pd\n",
    "import sqlite3"
   ]
  },
  {
   "cell_type": "code",
   "execution_count": 2,
   "id": "innovative-syndrome",
   "metadata": {
    "execution": {
     "iopub.execute_input": "2021-10-21T14:30:08.360222Z",
     "iopub.status.busy": "2021-10-21T14:30:08.358358Z",
     "iopub.status.idle": "2021-10-21T14:30:08.962898Z",
     "shell.execute_reply": "2021-10-21T14:30:08.964173Z"
    },
    "papermill": {
     "duration": 0.634198,
     "end_time": "2021-10-21T14:30:08.964592",
     "exception": false,
     "start_time": "2021-10-21T14:30:08.330394",
     "status": "completed"
    },
    "tags": []
   },
   "outputs": [],
   "source": [
    "timestamps = pd.read_sql(\"select distinct record_time from EBAY_TOP_BERLIN order by record_time desc limit 2\", sqlite3.connect(\"UsedObjects.db\"))"
   ]
  },
  {
   "cell_type": "code",
   "execution_count": 3,
   "id": "periodic-identification",
   "metadata": {
    "execution": {
     "iopub.execute_input": "2021-10-21T14:30:09.039978Z",
     "iopub.status.busy": "2021-10-21T14:30:09.034861Z",
     "iopub.status.idle": "2021-10-21T14:30:09.056626Z",
     "shell.execute_reply": "2021-10-21T14:30:09.058157Z"
    },
    "papermill": {
     "duration": 0.069776,
     "end_time": "2021-10-21T14:30:09.058624",
     "exception": false,
     "start_time": "2021-10-21T14:30:08.988848",
     "status": "completed"
    },
    "tags": []
   },
   "outputs": [
    {
     "data": {
      "text/html": [
       "<div>\n",
       "<style scoped>\n",
       "    .dataframe tbody tr th:only-of-type {\n",
       "        vertical-align: middle;\n",
       "    }\n",
       "\n",
       "    .dataframe tbody tr th {\n",
       "        vertical-align: top;\n",
       "    }\n",
       "\n",
       "    .dataframe thead th {\n",
       "        text-align: right;\n",
       "    }\n",
       "</style>\n",
       "<table border=\"1\" class=\"dataframe\">\n",
       "  <thead>\n",
       "    <tr style=\"text-align: right;\">\n",
       "      <th></th>\n",
       "      <th>RECORD_TIME</th>\n",
       "    </tr>\n",
       "  </thead>\n",
       "  <tbody>\n",
       "    <tr>\n",
       "      <th>0</th>\n",
       "      <td>2021-10-21 16:30</td>\n",
       "    </tr>\n",
       "    <tr>\n",
       "      <th>1</th>\n",
       "      <td>2021-10-21 16:00</td>\n",
       "    </tr>\n",
       "  </tbody>\n",
       "</table>\n",
       "</div>"
      ],
      "text/plain": [
       "        RECORD_TIME\n",
       "0  2021-10-21 16:30\n",
       "1  2021-10-21 16:00"
      ]
     },
     "execution_count": 3,
     "metadata": {},
     "output_type": "execute_result"
    }
   ],
   "source": [
    "timestamps"
   ]
  },
  {
   "cell_type": "code",
   "execution_count": 4,
   "id": "alternate-victory",
   "metadata": {
    "execution": {
     "iopub.execute_input": "2021-10-21T14:30:09.111023Z",
     "iopub.status.busy": "2021-10-21T14:30:09.108842Z",
     "iopub.status.idle": "2021-10-21T14:30:10.017541Z",
     "shell.execute_reply": "2021-10-21T14:30:10.018956Z"
    },
    "papermill": {
     "duration": 0.939284,
     "end_time": "2021-10-21T14:30:10.019395",
     "exception": false,
     "start_time": "2021-10-21T14:30:09.080111",
     "status": "completed"
    },
    "tags": []
   },
   "outputs": [],
   "source": [
    "df = pd.read_sql(\"select * from EBAY_TOP_BERLIN where record_time in (select distinct record_time from EBAY_TOP_BERLIN order by record_time desc limit 2)\", sqlite3.connect(\"UsedObjects.db\"))"
   ]
  },
  {
   "cell_type": "code",
   "execution_count": 5,
   "id": "popular-active",
   "metadata": {
    "execution": {
     "iopub.execute_input": "2021-10-21T14:30:10.089979Z",
     "iopub.status.busy": "2021-10-21T14:30:10.077915Z",
     "iopub.status.idle": "2021-10-21T14:30:10.106408Z",
     "shell.execute_reply": "2021-10-21T14:30:10.107620Z"
    },
    "papermill": {
     "duration": 0.067679,
     "end_time": "2021-10-21T14:30:10.108018",
     "exception": false,
     "start_time": "2021-10-21T14:30:10.040339",
     "status": "completed"
    },
    "tags": []
   },
   "outputs": [],
   "source": [
    "df_pivot = df.pivot_table(index=\"PRODUCT\", columns = \"RECORD_TIME\", values = \"LISTING_COUNT\")"
   ]
  },
  {
   "cell_type": "code",
   "execution_count": 6,
   "id": "union-huntington",
   "metadata": {
    "execution": {
     "iopub.execute_input": "2021-10-21T14:30:10.167258Z",
     "iopub.status.busy": "2021-10-21T14:30:10.164846Z",
     "iopub.status.idle": "2021-10-21T14:30:10.172918Z",
     "shell.execute_reply": "2021-10-21T14:30:10.170617Z"
    },
    "papermill": {
     "duration": 0.042919,
     "end_time": "2021-10-21T14:30:10.173305",
     "exception": false,
     "start_time": "2021-10-21T14:30:10.130386",
     "status": "completed"
    },
    "tags": []
   },
   "outputs": [],
   "source": [
    "df_pivot.columns = [\"stamp_1\", \"stamp_2\"]\n",
    "df_pivot_diff = df_pivot.diff(axis=1)"
   ]
  },
  {
   "cell_type": "code",
   "execution_count": 7,
   "id": "fifth-motion",
   "metadata": {
    "execution": {
     "iopub.execute_input": "2021-10-21T14:30:10.226913Z",
     "iopub.status.busy": "2021-10-21T14:30:10.224472Z",
     "iopub.status.idle": "2021-10-21T14:30:11.732837Z",
     "shell.execute_reply": "2021-10-21T14:30:11.734355Z"
    },
    "papermill": {
     "duration": 1.541342,
     "end_time": "2021-10-21T14:30:11.734822",
     "exception": false,
     "start_time": "2021-10-21T14:30:10.193480",
     "status": "completed"
    },
    "tags": []
   },
   "outputs": [
    {
     "data": {
      "text/plain": [
       "<AxesSubplot:ylabel='PRODUCT'>"
      ]
     },
     "execution_count": 7,
     "metadata": {},
     "output_type": "execute_result"
    },
    {
     "data": {
      "image/png": "[encoded data removed]",
      "text/plain": [
       "<Figure size 432x288 with 1 Axes>"
      ]
     },
     "metadata": {
      "needs_background": "light"
     },
     "output_type": "display_data"
    }
   ],
   "source": [
    "df_pivot_diff.sort_values(\"stamp_2\", ascending = False)[\"stamp_2\"].head(10).plot.barh()"
   ]
  },
  {
   "cell_type": "code",
   "execution_count": null,
   "id": "extra-executive",
   "metadata": {
    "papermill": {
     "duration": 0.022267,
     "end_time": "2021-10-21T14:30:11.781700",
     "exception": false,
     "start_time": "2021-10-21T14:30:11.759433",
     "status": "completed"
    },
    "tags": []
   },
   "outputs": [],
   "source": []
  }
 ],
 "metadata": {
  "kernelspec": {
   "display_name": "Python 3",
   "language": "python",
   "name": "python3"
  },
  "language_info": {
   "codemirror_mode": {
    "name": "ipython",
    "version": 3
   },
   "file_extension": ".py",
   "mimetype": "text/x-python",
   "name": "python",
   "nbconvert_exporter": "python",
   "pygments_lexer": "ipython3",
   "version": "3.9.5"
  },
  "papermill": {
   "default_parameters": {},
   "duration": 7.391798,
   "end_time": "2021-10-21T14:30:12.425021",
   "environment_variables": {},
   "exception": null,
   "input_path": "eBay_Overview.ipynb",
   "output_path": "eBay_Overview.ipynb",
   "parameters": {},
   "start_time": "2021-10-21T14:30:05.033223",
   "version": "2.3.3"
  }
 },
 "nbformat": 4,
 "nbformat_minor": 5
}