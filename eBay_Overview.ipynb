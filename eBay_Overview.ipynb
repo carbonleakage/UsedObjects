{
 "cells": [
  {
   "cell_type": "code",
   "execution_count": 1,
   "id": "reverse-picking",
   "metadata": {
    "execution": {
     "iopub.execute_input": "2021-11-23T18:00:08.318467Z",
     "iopub.status.busy": "2021-11-23T18:00:08.316144Z",
     "iopub.status.idle": "2021-11-23T18:00:09.269188Z",
     "shell.execute_reply": "2021-11-23T18:00:09.271570Z"
    },
    "papermill": {
     "duration": 1.004905,
     "end_time": "2021-11-23T18:00:09.272278",
     "exception": false,
     "start_time": "2021-11-23T18:00:08.267373",
     "status": "completed"
    },
    "tags": []
   },
   "outputs": [],
   "source": [
    "import pandas as pd\n",
    "import sqlite3"
   ]
  },
  {
   "cell_type": "code",
   "execution_count": 2,
   "id": "innovative-syndrome",
   "metadata": {
    "execution": {
     "iopub.execute_input": "2021-11-23T18:00:09.348033Z",
     "iopub.status.busy": "2021-11-23T18:00:09.345822Z",
     "iopub.status.idle": "2021-11-23T18:00:10.233484Z",
     "shell.execute_reply": "2021-11-23T18:00:10.234927Z"
    },
    "papermill": {
     "duration": 0.932219,
     "end_time": "2021-11-23T18:00:10.235373",
     "exception": false,
     "start_time": "2021-11-23T18:00:09.303154",
     "status": "completed"
    },
    "tags": []
   },
   "outputs": [],
   "source": [
    "timestamps = pd.read_sql(\"select distinct record_time from EBAY_TOP_BERLIN order by record_time desc limit 2\", sqlite3.connect(\"UsedObjects.db\"))"
   ]
  },
  {
   "cell_type": "code",
   "execution_count": 3,
   "id": "periodic-identification",
   "metadata": {
    "execution": {
     "iopub.execute_input": "2021-11-23T18:00:10.302503Z",
     "iopub.status.busy": "2021-11-23T18:00:10.300421Z",
     "iopub.status.idle": "2021-11-23T18:00:10.320426Z",
     "shell.execute_reply": "2021-11-23T18:00:10.321792Z"
    },
    "papermill": {
     "duration": 0.066782,
     "end_time": "2021-11-23T18:00:10.322213",
     "exception": false,
     "start_time": "2021-11-23T18:00:10.255431",
     "status": "completed"
    },
    "tags": []
   },
   "outputs": [
    {
     "data": {
      "text/html": [
       "<div>\n",
       "<style scoped>\n",
       "    .dataframe tbody tr th:only-of-type {\n",
       "        vertical-align: middle;\n",
       "    }\n",
       "\n",
       "    .dataframe tbody tr th {\n",
       "        vertical-align: top;\n",
       "    }\n",
       "\n",
       "    .dataframe thead th {\n",
       "        text-align: right;\n",
       "    }\n",
       "</style>\n",
       "<table border=\"1\" class=\"dataframe\">\n",
       "  <thead>\n",
       "    <tr style=\"text-align: right;\">\n",
       "      <th></th>\n",
       "      <th>RECORD_TIME</th>\n",
       "    </tr>\n",
       "  </thead>\n",
       "  <tbody>\n",
       "    <tr>\n",
       "      <th>0</th>\n",
       "      <td>2021-11-23 19:00</td>\n",
       "    </tr>\n",
       "    <tr>\n",
       "      <th>1</th>\n",
       "      <td>2021-11-23 18:30</td>\n",
       "    </tr>\n",
       "  </tbody>\n",
       "</table>\n",
       "</div>"
      ],
      "text/plain": [
       "        RECORD_TIME\n",
       "0  2021-11-23 19:00\n",
       "1  2021-11-23 18:30"
      ]
     },
     "execution_count": 3,
     "metadata": {},
     "output_type": "execute_result"
    }
   ],
   "source": [
    "timestamps"
   ]
  },
  {
   "cell_type": "code",
   "execution_count": 4,
   "id": "alternate-victory",
   "metadata": {
    "execution": {
     "iopub.execute_input": "2021-11-23T18:00:10.374078Z",
     "iopub.status.busy": "2021-11-23T18:00:10.371995Z",
     "iopub.status.idle": "2021-11-23T18:00:11.670634Z",
     "shell.execute_reply": "2021-11-23T18:00:11.671986Z"
    },
    "papermill": {
     "duration": 1.328751,
     "end_time": "2021-11-23T18:00:11.672447",
     "exception": false,
     "start_time": "2021-11-23T18:00:10.343696",
     "status": "completed"
    },
    "tags": []
   },
   "outputs": [],
   "source": [
    "df = pd.read_sql(\"select * from EBAY_TOP_BERLIN where record_time in (select distinct record_time from EBAY_TOP_BERLIN order by record_time desc limit 2)\", sqlite3.connect(\"UsedObjects.db\"))"
   ]
  },
  {
   "cell_type": "code",
   "execution_count": 5,
   "id": "popular-active",
   "metadata": {
    "execution": {
     "iopub.execute_input": "2021-11-23T18:00:11.737316Z",
     "iopub.status.busy": "2021-11-23T18:00:11.734910Z",
     "iopub.status.idle": "2021-11-23T18:00:11.770278Z",
     "shell.execute_reply": "2021-11-23T18:00:11.768648Z"
    },
    "papermill": {
     "duration": 0.076838,
     "end_time": "2021-11-23T18:00:11.770677",
     "exception": false,
     "start_time": "2021-11-23T18:00:11.693839",
     "status": "completed"
    },
    "tags": []
   },
   "outputs": [],
   "source": [
    "df_pivot = df.pivot_table(index=\"PRODUCT\", columns = \"RECORD_TIME\", values = \"LISTING_COUNT\")"
   ]
  },
  {
   "cell_type": "code",
   "execution_count": 6,
   "id": "union-huntington",
   "metadata": {
    "execution": {
     "iopub.execute_input": "2021-11-23T18:00:11.835329Z",
     "iopub.status.busy": "2021-11-23T18:00:11.832375Z",
     "iopub.status.idle": "2021-11-23T18:00:11.840749Z",
     "shell.execute_reply": "2021-11-23T18:00:11.843345Z"
    },
    "papermill": {
     "duration": 0.05188,
     "end_time": "2021-11-23T18:00:11.843920",
     "exception": false,
     "start_time": "2021-11-23T18:00:11.792040",
     "status": "completed"
    },
    "tags": []
   },
   "outputs": [],
   "source": [
    "df_pivot.columns = [\"stamp_1\", \"stamp_2\"]\n",
    "df_pivot_diff = df_pivot.diff(axis=1)"
   ]
  },
  {
   "cell_type": "code",
   "execution_count": 7,
   "id": "fifth-motion",
   "metadata": {
    "execution": {
     "iopub.execute_input": "2021-11-23T18:00:11.905185Z",
     "iopub.status.busy": "2021-11-23T18:00:11.902973Z",
     "iopub.status.idle": "2021-11-23T18:00:13.922372Z",
     "shell.execute_reply": "2021-11-23T18:00:13.925122Z"
    },
    "papermill": {
     "duration": 2.059643,
     "end_time": "2021-11-23T18:00:13.925883",
     "exception": false,
     "start_time": "2021-11-23T18:00:11.866240",
     "status": "completed"
    },
    "tags": []
   },
   "outputs": [
    {
     "data": {
      "text/plain": [
       "<AxesSubplot:ylabel='PRODUCT'>"
      ]
     },
     "execution_count": 7,
     "metadata": {},
     "output_type": "execute_result"
    },
    {
     "data": {
      "image/png": "[encoded data removed]",
      "text/plain": [
       "<Figure size 432x288 with 1 Axes>"
      ]
     },
     "metadata": {
      "needs_background": "light"
     },
     "output_type": "display_data"
    }
   ],
   "source": [
    "df_pivot_diff.sort_values(\"stamp_2\", ascending = False)[\"stamp_2\"].head(10).plot.barh()"
   ]
  },
  {
   "cell_type": "code",
   "execution_count": null,
   "id": "extra-executive",
   "metadata": {
    "papermill": {
     "duration": 0.028261,
     "end_time": "2021-11-23T18:00:13.991242",
     "exception": false,
     "start_time": "2021-11-23T18:00:13.962981",
     "status": "completed"
    },
    "tags": []
   },
   "outputs": [],
   "source": []
  }
 ],
 "metadata": {
  "kernelspec": {
   "display_name": "Python 3",
   "language": "python",
   "name": "python3"
  },
  "language_info": {
   "codemirror_mode": {
    "name": "ipython",
    "version": 3
   },
   "file_extension": ".py",
   "mimetype": "text/x-python",
   "name": "python",
   "nbconvert_exporter": "python",
   "pygments_lexer": "ipython3",
   "version": "3.9.5"
  },
  "papermill": {
   "default_parameters": {},
   "duration": 9.931964,
   "end_time": "2021-11-23T18:00:15.463900",
   "environment_variables": {},
   "exception": null,
   "input_path": "eBay_Overview.ipynb",
   "output_path": "eBay_Overview.ipynb",
   "parameters": {},
   "start_time": "2021-11-23T18:00:05.531936",
   "version": "2.3.3"
  }
 },
 "nbformat": 4,
 "nbformat_minor": 5
}