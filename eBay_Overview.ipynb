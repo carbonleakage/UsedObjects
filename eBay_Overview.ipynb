{
 "cells": [
  {
   "cell_type": "code",
   "execution_count": 1,
   "id": "reverse-picking",
   "metadata": {
    "execution": {
     "iopub.execute_input": "2021-08-12T07:30:03.838279Z",
     "iopub.status.busy": "2021-08-12T07:30:03.837367Z",
     "iopub.status.idle": "2021-08-12T07:30:04.458390Z",
     "shell.execute_reply": "2021-08-12T07:30:04.457530Z"
    },
    "papermill": {
     "duration": 0.644641,
     "end_time": "2021-08-12T07:30:04.458567",
     "exception": false,
     "start_time": "2021-08-12T07:30:03.813926",
     "status": "completed"
    },
    "tags": []
   },
   "outputs": [],
   "source": [
    "import pandas as pd\n",
    "import sqlite3"
   ]
  },
  {
   "cell_type": "code",
   "execution_count": 2,
   "id": "innovative-syndrome",
   "metadata": {
    "execution": {
     "iopub.execute_input": "2021-08-12T07:30:04.479820Z",
     "iopub.status.busy": "2021-08-12T07:30:04.479052Z",
     "iopub.status.idle": "2021-08-12T07:30:04.688793Z",
     "shell.execute_reply": "2021-08-12T07:30:04.689365Z"
    },
    "papermill": {
     "duration": 0.222483,
     "end_time": "2021-08-12T07:30:04.689561",
     "exception": false,
     "start_time": "2021-08-12T07:30:04.467078",
     "status": "completed"
    },
    "tags": []
   },
   "outputs": [],
   "source": [
    "timestamps = pd.read_sql(\"select distinct record_time from EBAY_TOP_BERLIN order by record_time desc limit 2\", sqlite3.connect(\"UsedObjects.db\"))"
   ]
  },
  {
   "cell_type": "code",
   "execution_count": 3,
   "id": "periodic-identification",
   "metadata": {
    "execution": {
     "iopub.execute_input": "2021-08-12T07:30:04.717166Z",
     "iopub.status.busy": "2021-08-12T07:30:04.716386Z",
     "iopub.status.idle": "2021-08-12T07:30:04.730135Z",
     "shell.execute_reply": "2021-08-12T07:30:04.730709Z"
    },
    "papermill": {
     "duration": 0.033282,
     "end_time": "2021-08-12T07:30:04.730905",
     "exception": false,
     "start_time": "2021-08-12T07:30:04.697623",
     "status": "completed"
    },
    "tags": []
   },
   "outputs": [
    {
     "data": {
      "text/html": [
       "<div>\n",
       "<style scoped>\n",
       "    .dataframe tbody tr th:only-of-type {\n",
       "        vertical-align: middle;\n",
       "    }\n",
       "\n",
       "    .dataframe tbody tr th {\n",
       "        vertical-align: top;\n",
       "    }\n",
       "\n",
       "    .dataframe thead th {\n",
       "        text-align: right;\n",
       "    }\n",
       "</style>\n",
       "<table border=\"1\" class=\"dataframe\">\n",
       "  <thead>\n",
       "    <tr style=\"text-align: right;\">\n",
       "      <th></th>\n",
       "      <th>RECORD_TIME</th>\n",
       "    </tr>\n",
       "  </thead>\n",
       "  <tbody>\n",
       "    <tr>\n",
       "      <th>0</th>\n",
       "      <td>2021-08-12 09:30</td>\n",
       "    </tr>\n",
       "    <tr>\n",
       "      <th>1</th>\n",
       "      <td>2021-08-12 09:00</td>\n",
       "    </tr>\n",
       "  </tbody>\n",
       "</table>\n",
       "</div>"
      ],
      "text/plain": [
       "        RECORD_TIME\n",
       "0  2021-08-12 09:30\n",
       "1  2021-08-12 09:00"
      ]
     },
     "execution_count": 3,
     "metadata": {},
     "output_type": "execute_result"
    }
   ],
   "source": [
    "timestamps"
   ]
  },
  {
   "cell_type": "code",
   "execution_count": 4,
   "id": "alternate-victory",
   "metadata": {
    "execution": {
     "iopub.execute_input": "2021-08-12T07:30:04.755666Z",
     "iopub.status.busy": "2021-08-12T07:30:04.754780Z",
     "iopub.status.idle": "2021-08-12T07:30:04.782466Z",
     "shell.execute_reply": "2021-08-12T07:30:04.783340Z"
    },
    "papermill": {
     "duration": 0.043912,
     "end_time": "2021-08-12T07:30:04.783595",
     "exception": false,
     "start_time": "2021-08-12T07:30:04.739683",
     "status": "completed"
    },
    "tags": []
   },
   "outputs": [],
   "source": [
    "df = pd.read_sql(\"select * from EBAY_TOP_BERLIN where record_time in (select distinct record_time from EBAY_TOP_BERLIN order by record_time desc limit 2)\", sqlite3.connect(\"UsedObjects.db\"))"
   ]
  },
  {
   "cell_type": "code",
   "execution_count": 5,
   "id": "popular-active",
   "metadata": {
    "execution": {
     "iopub.execute_input": "2021-08-12T07:30:04.813742Z",
     "iopub.status.busy": "2021-08-12T07:30:04.812482Z",
     "iopub.status.idle": "2021-08-12T07:30:04.833926Z",
     "shell.execute_reply": "2021-08-12T07:30:04.835035Z"
    },
    "papermill": {
     "duration": 0.043029,
     "end_time": "2021-08-12T07:30:04.835362",
     "exception": false,
     "start_time": "2021-08-12T07:30:04.792333",
     "status": "completed"
    },
    "tags": []
   },
   "outputs": [],
   "source": [
    "df_pivot = df.pivot_table(index=\"PRODUCT\", columns = \"RECORD_TIME\", values = \"LISTING_COUNT\")"
   ]
  },
  {
   "cell_type": "code",
   "execution_count": 6,
   "id": "union-huntington",
   "metadata": {
    "execution": {
     "iopub.execute_input": "2021-08-12T07:30:04.863654Z",
     "iopub.status.busy": "2021-08-12T07:30:04.862947Z",
     "iopub.status.idle": "2021-08-12T07:30:04.869025Z",
     "shell.execute_reply": "2021-08-12T07:30:04.870391Z"
    },
    "papermill": {
     "duration": 0.024361,
     "end_time": "2021-08-12T07:30:04.870631",
     "exception": false,
     "start_time": "2021-08-12T07:30:04.846270",
     "status": "completed"
    },
    "tags": []
   },
   "outputs": [],
   "source": [
    "df_pivot.columns = [\"stamp_1\", \"stamp_2\"]\n",
    "df_pivot_diff = df_pivot.diff(axis=1)"
   ]
  },
  {
   "cell_type": "code",
   "execution_count": 7,
   "id": "fifth-motion",
   "metadata": {
    "execution": {
     "iopub.execute_input": "2021-08-12T07:30:04.900916Z",
     "iopub.status.busy": "2021-08-12T07:30:04.900159Z",
     "iopub.status.idle": "2021-08-12T07:30:05.594354Z",
     "shell.execute_reply": "2021-08-12T07:30:05.594927Z"
    },
    "papermill": {
     "duration": 0.710925,
     "end_time": "2021-08-12T07:30:05.595120",
     "exception": false,
     "start_time": "2021-08-12T07:30:04.884195",
     "status": "completed"
    },
    "tags": []
   },
   "outputs": [
    {
     "data": {
      "text/plain": [
       "<AxesSubplot:ylabel='PRODUCT'>"
      ]
     },
     "execution_count": 7,
     "metadata": {},
     "output_type": "execute_result"
    },
    {
     "data": {
      "image/png": "[encoded data removed]",
      "text/plain": [
       "<Figure size 432x288 with 1 Axes>"
      ]
     },
     "metadata": {
      "needs_background": "light"
     },
     "output_type": "display_data"
    }
   ],
   "source": [
    "df_pivot_diff.sort_values(\"stamp_2\", ascending = False)[\"stamp_2\"].head(10).plot.barh()"
   ]
  },
  {
   "cell_type": "code",
   "execution_count": null,
   "id": "extra-executive",
   "metadata": {
    "papermill": {
     "duration": 0.009438,
     "end_time": "2021-08-12T07:30:05.614567",
     "exception": false,
     "start_time": "2021-08-12T07:30:05.605129",
     "status": "completed"
    },
    "tags": []
   },
   "outputs": [],
   "source": []
  }
 ],
 "metadata": {
  "kernelspec": {
   "display_name": "Python 3",
   "language": "python",
   "name": "python3"
  },
  "language_info": {
   "codemirror_mode": {
    "name": "ipython",
    "version": 3
   },
   "file_extension": ".py",
   "mimetype": "text/x-python",
   "name": "python",
   "nbconvert_exporter": "python",
   "pygments_lexer": "ipython3",
   "version": "3.8.8"
  },
  "papermill": {
   "default_parameters": {},
   "duration": 4.829231,
   "end_time": "2021-08-12T07:30:06.940589",
   "environment_variables": {},
   "exception": null,
   "input_path": "/Users/saravananshanmugam/Carbonleakage_Git/UsedObjects/eBay_Overview.ipynb",
   "output_path": "/Users/saravananshanmugam/Carbonleakage_Git/UsedObjects/eBay_Overview.ipynb",
   "parameters": {},
   "start_time": "2021-08-12T07:30:02.111358",
   "version": "2.3.3"
  }
 },
 "nbformat": 4,
 "nbformat_minor": 5
}