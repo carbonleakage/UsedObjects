{
 "cells": [
  {
   "cell_type": "code",
   "execution_count": 1,
   "id": "reverse-picking",
   "metadata": {
    "execution": {
     "iopub.execute_input": "2021-11-12T02:00:07.899454Z",
     "iopub.status.busy": "2021-11-12T02:00:07.897156Z",
     "iopub.status.idle": "2021-11-12T02:00:08.843750Z",
     "shell.execute_reply": "2021-11-12T02:00:08.845660Z"
    },
    "papermill": {
     "duration": 0.996197,
     "end_time": "2021-11-12T02:00:08.846425",
     "exception": false,
     "start_time": "2021-11-12T02:00:07.850228",
     "status": "completed"
    },
    "tags": []
   },
   "outputs": [],
   "source": [
    "import pandas as pd\n",
    "import sqlite3"
   ]
  },
  {
   "cell_type": "code",
   "execution_count": 2,
   "id": "innovative-syndrome",
   "metadata": {
    "execution": {
     "iopub.execute_input": "2021-11-12T02:00:08.913659Z",
     "iopub.status.busy": "2021-11-12T02:00:08.909906Z",
     "iopub.status.idle": "2021-11-12T02:00:09.716558Z",
     "shell.execute_reply": "2021-11-12T02:00:09.718194Z"
    },
    "papermill": {
     "duration": 0.841659,
     "end_time": "2021-11-12T02:00:09.718705",
     "exception": false,
     "start_time": "2021-11-12T02:00:08.877046",
     "status": "completed"
    },
    "tags": []
   },
   "outputs": [],
   "source": [
    "timestamps = pd.read_sql(\"select distinct record_time from EBAY_TOP_BERLIN order by record_time desc limit 2\", sqlite3.connect(\"UsedObjects.db\"))"
   ]
  },
  {
   "cell_type": "code",
   "execution_count": 3,
   "id": "periodic-identification",
   "metadata": {
    "execution": {
     "iopub.execute_input": "2021-11-12T02:00:09.789377Z",
     "iopub.status.busy": "2021-11-12T02:00:09.786712Z",
     "iopub.status.idle": "2021-11-12T02:00:09.810306Z",
     "shell.execute_reply": "2021-11-12T02:00:09.811650Z"
    },
    "papermill": {
     "duration": 0.073215,
     "end_time": "2021-11-12T02:00:09.812106",
     "exception": false,
     "start_time": "2021-11-12T02:00:09.738891",
     "status": "completed"
    },
    "tags": []
   },
   "outputs": [
    {
     "data": {
      "text/html": [
       "<div>\n",
       "<style scoped>\n",
       "    .dataframe tbody tr th:only-of-type {\n",
       "        vertical-align: middle;\n",
       "    }\n",
       "\n",
       "    .dataframe tbody tr th {\n",
       "        vertical-align: top;\n",
       "    }\n",
       "\n",
       "    .dataframe thead th {\n",
       "        text-align: right;\n",
       "    }\n",
       "</style>\n",
       "<table border=\"1\" class=\"dataframe\">\n",
       "  <thead>\n",
       "    <tr style=\"text-align: right;\">\n",
       "      <th></th>\n",
       "      <th>RECORD_TIME</th>\n",
       "    </tr>\n",
       "  </thead>\n",
       "  <tbody>\n",
       "    <tr>\n",
       "      <th>0</th>\n",
       "      <td>2021-11-12 03:00</td>\n",
       "    </tr>\n",
       "    <tr>\n",
       "      <th>1</th>\n",
       "      <td>2021-11-12 02:30</td>\n",
       "    </tr>\n",
       "  </tbody>\n",
       "</table>\n",
       "</div>"
      ],
      "text/plain": [
       "        RECORD_TIME\n",
       "0  2021-11-12 03:00\n",
       "1  2021-11-12 02:30"
      ]
     },
     "execution_count": 3,
     "metadata": {},
     "output_type": "execute_result"
    }
   ],
   "source": [
    "timestamps"
   ]
  },
  {
   "cell_type": "code",
   "execution_count": 4,
   "id": "alternate-victory",
   "metadata": {
    "execution": {
     "iopub.execute_input": "2021-11-12T02:00:09.869034Z",
     "iopub.status.busy": "2021-11-12T02:00:09.866763Z",
     "iopub.status.idle": "2021-11-12T02:00:11.022427Z",
     "shell.execute_reply": "2021-11-12T02:00:11.024113Z"
    },
    "papermill": {
     "duration": 1.189806,
     "end_time": "2021-11-12T02:00:11.024608",
     "exception": false,
     "start_time": "2021-11-12T02:00:09.834802",
     "status": "completed"
    },
    "tags": []
   },
   "outputs": [],
   "source": [
    "df = pd.read_sql(\"select * from EBAY_TOP_BERLIN where record_time in (select distinct record_time from EBAY_TOP_BERLIN order by record_time desc limit 2)\", sqlite3.connect(\"UsedObjects.db\"))"
   ]
  },
  {
   "cell_type": "code",
   "execution_count": 5,
   "id": "popular-active",
   "metadata": {
    "execution": {
     "iopub.execute_input": "2021-11-12T02:00:11.092398Z",
     "iopub.status.busy": "2021-11-12T02:00:11.090050Z",
     "iopub.status.idle": "2021-11-12T02:00:11.122505Z",
     "shell.execute_reply": "2021-11-12T02:00:11.124003Z"
    },
    "papermill": {
     "duration": 0.077723,
     "end_time": "2021-11-12T02:00:11.124493",
     "exception": false,
     "start_time": "2021-11-12T02:00:11.046770",
     "status": "completed"
    },
    "tags": []
   },
   "outputs": [],
   "source": [
    "df_pivot = df.pivot_table(index=\"PRODUCT\", columns = \"RECORD_TIME\", values = \"LISTING_COUNT\")"
   ]
  },
  {
   "cell_type": "code",
   "execution_count": 6,
   "id": "union-huntington",
   "metadata": {
    "execution": {
     "iopub.execute_input": "2021-11-12T02:00:11.187803Z",
     "iopub.status.busy": "2021-11-12T02:00:11.185463Z",
     "iopub.status.idle": "2021-11-12T02:00:11.190447Z",
     "shell.execute_reply": "2021-11-12T02:00:11.192333Z"
    },
    "papermill": {
     "duration": 0.045037,
     "end_time": "2021-11-12T02:00:11.192863",
     "exception": false,
     "start_time": "2021-11-12T02:00:11.147826",
     "status": "completed"
    },
    "tags": []
   },
   "outputs": [],
   "source": [
    "df_pivot.columns = [\"stamp_1\", \"stamp_2\"]\n",
    "df_pivot_diff = df_pivot.diff(axis=1)"
   ]
  },
  {
   "cell_type": "code",
   "execution_count": 7,
   "id": "fifth-motion",
   "metadata": {
    "execution": {
     "iopub.execute_input": "2021-11-12T02:00:11.253907Z",
     "iopub.status.busy": "2021-11-12T02:00:11.251170Z",
     "iopub.status.idle": "2021-11-12T02:00:13.039602Z",
     "shell.execute_reply": "2021-11-12T02:00:13.038092Z"
    },
    "papermill": {
     "duration": 1.825422,
     "end_time": "2021-11-12T02:00:13.040036",
     "exception": false,
     "start_time": "2021-11-12T02:00:11.214614",
     "status": "completed"
    },
    "tags": []
   },
   "outputs": [
    {
     "data": {
      "text/plain": [
       "<AxesSubplot:ylabel='PRODUCT'>"
      ]
     },
     "execution_count": 7,
     "metadata": {},
     "output_type": "execute_result"
    },
    {
     "data": {
      "image/png": "[encoded data removed]",
      "text/plain": [
       "<Figure size 432x288 with 1 Axes>"
      ]
     },
     "metadata": {
      "needs_background": "light"
     },
     "output_type": "display_data"
    }
   ],
   "source": [
    "df_pivot_diff.sort_values(\"stamp_2\", ascending = False)[\"stamp_2\"].head(10).plot.barh()"
   ]
  },
  {
   "cell_type": "code",
   "execution_count": null,
   "id": "extra-executive",
   "metadata": {
    "papermill": {
     "duration": 0.025213,
     "end_time": "2021-11-12T02:00:13.091207",
     "exception": false,
     "start_time": "2021-11-12T02:00:13.065994",
     "status": "completed"
    },
    "tags": []
   },
   "outputs": [],
   "source": []
  }
 ],
 "metadata": {
  "kernelspec": {
   "display_name": "Python 3",
   "language": "python",
   "name": "python3"
  },
  "language_info": {
   "codemirror_mode": {
    "name": "ipython",
    "version": 3
   },
   "file_extension": ".py",
   "mimetype": "text/x-python",
   "name": "python",
   "nbconvert_exporter": "python",
   "pygments_lexer": "ipython3",
   "version": "3.9.5"
  },
  "papermill": {
   "default_parameters": {},
   "duration": 9.010237,
   "end_time": "2021-11-12T02:00:14.046281",
   "environment_variables": {},
   "exception": null,
   "input_path": "eBay_Overview.ipynb",
   "output_path": "eBay_Overview.ipynb",
   "parameters": {},
   "start_time": "2021-11-12T02:00:05.036044",
   "version": "2.3.3"
  }
 },
 "nbformat": 4,
 "nbformat_minor": 5
}