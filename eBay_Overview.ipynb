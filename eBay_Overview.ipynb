{
 "cells": [
  {
   "cell_type": "code",
   "execution_count": 1,
   "id": "reverse-picking",
   "metadata": {
    "execution": {
     "iopub.execute_input": "2021-09-09T21:30:06.649259Z",
     "iopub.status.busy": "2021-09-09T21:30:06.647328Z",
     "iopub.status.idle": "2021-09-09T21:30:07.455757Z",
     "shell.execute_reply": "2021-09-09T21:30:07.457064Z"
    },
    "papermill": {
     "duration": 0.861398,
     "end_time": "2021-09-09T21:30:07.457676",
     "exception": false,
     "start_time": "2021-09-09T21:30:06.596278",
     "status": "completed"
    },
    "tags": []
   },
   "outputs": [],
   "source": [
    "import pandas as pd\n",
    "import sqlite3"
   ]
  },
  {
   "cell_type": "code",
   "execution_count": 2,
   "id": "innovative-syndrome",
   "metadata": {
    "execution": {
     "iopub.execute_input": "2021-09-09T21:30:07.506757Z",
     "iopub.status.busy": "2021-09-09T21:30:07.504906Z",
     "iopub.status.idle": "2021-09-09T21:30:07.750664Z",
     "shell.execute_reply": "2021-09-09T21:30:07.751930Z"
    },
    "papermill": {
     "duration": 0.274925,
     "end_time": "2021-09-09T21:30:07.752330",
     "exception": false,
     "start_time": "2021-09-09T21:30:07.477405",
     "status": "completed"
    },
    "tags": []
   },
   "outputs": [],
   "source": [
    "timestamps = pd.read_sql(\"select distinct record_time from EBAY_TOP_BERLIN order by record_time desc limit 2\", sqlite3.connect(\"UsedObjects.db\"))"
   ]
  },
  {
   "cell_type": "code",
   "execution_count": 3,
   "id": "periodic-identification",
   "metadata": {
    "execution": {
     "iopub.execute_input": "2021-09-09T21:30:07.817667Z",
     "iopub.status.busy": "2021-09-09T21:30:07.812776Z",
     "iopub.status.idle": "2021-09-09T21:30:07.836759Z",
     "shell.execute_reply": "2021-09-09T21:30:07.837963Z"
    },
    "papermill": {
     "duration": 0.066912,
     "end_time": "2021-09-09T21:30:07.838353",
     "exception": false,
     "start_time": "2021-09-09T21:30:07.771441",
     "status": "completed"
    },
    "tags": []
   },
   "outputs": [
    {
     "data": {
      "text/html": [
       "<div>\n",
       "<style scoped>\n",
       "    .dataframe tbody tr th:only-of-type {\n",
       "        vertical-align: middle;\n",
       "    }\n",
       "\n",
       "    .dataframe tbody tr th {\n",
       "        vertical-align: top;\n",
       "    }\n",
       "\n",
       "    .dataframe thead th {\n",
       "        text-align: right;\n",
       "    }\n",
       "</style>\n",
       "<table border=\"1\" class=\"dataframe\">\n",
       "  <thead>\n",
       "    <tr style=\"text-align: right;\">\n",
       "      <th></th>\n",
       "      <th>RECORD_TIME</th>\n",
       "    </tr>\n",
       "  </thead>\n",
       "  <tbody>\n",
       "    <tr>\n",
       "      <th>0</th>\n",
       "      <td>2021-09-09 23:30</td>\n",
       "    </tr>\n",
       "    <tr>\n",
       "      <th>1</th>\n",
       "      <td>2021-09-09 23:00</td>\n",
       "    </tr>\n",
       "  </tbody>\n",
       "</table>\n",
       "</div>"
      ],
      "text/plain": [
       "        RECORD_TIME\n",
       "0  2021-09-09 23:30\n",
       "1  2021-09-09 23:00"
      ]
     },
     "execution_count": 3,
     "metadata": {},
     "output_type": "execute_result"
    }
   ],
   "source": [
    "timestamps"
   ]
  },
  {
   "cell_type": "code",
   "execution_count": 4,
   "id": "alternate-victory",
   "metadata": {
    "execution": {
     "iopub.execute_input": "2021-09-09T21:30:07.889326Z",
     "iopub.status.busy": "2021-09-09T21:30:07.887188Z",
     "iopub.status.idle": "2021-09-09T21:30:08.272515Z",
     "shell.execute_reply": "2021-09-09T21:30:08.273896Z"
    },
    "papermill": {
     "duration": 0.415182,
     "end_time": "2021-09-09T21:30:08.274331",
     "exception": false,
     "start_time": "2021-09-09T21:30:07.859149",
     "status": "completed"
    },
    "tags": []
   },
   "outputs": [],
   "source": [
    "df = pd.read_sql(\"select * from EBAY_TOP_BERLIN where record_time in (select distinct record_time from EBAY_TOP_BERLIN order by record_time desc limit 2)\", sqlite3.connect(\"UsedObjects.db\"))"
   ]
  },
  {
   "cell_type": "code",
   "execution_count": 5,
   "id": "popular-active",
   "metadata": {
    "execution": {
     "iopub.execute_input": "2021-09-09T21:30:08.363603Z",
     "iopub.status.busy": "2021-09-09T21:30:08.356184Z",
     "iopub.status.idle": "2021-09-09T21:30:08.384774Z",
     "shell.execute_reply": "2021-09-09T21:30:08.385980Z"
    },
    "papermill": {
     "duration": 0.074901,
     "end_time": "2021-09-09T21:30:08.386371",
     "exception": false,
     "start_time": "2021-09-09T21:30:08.311470",
     "status": "completed"
    },
    "tags": []
   },
   "outputs": [],
   "source": [
    "df_pivot = df.pivot_table(index=\"PRODUCT\", columns = \"RECORD_TIME\", values = \"LISTING_COUNT\")"
   ]
  },
  {
   "cell_type": "code",
   "execution_count": 6,
   "id": "union-huntington",
   "metadata": {
    "execution": {
     "iopub.execute_input": "2021-09-09T21:30:08.444895Z",
     "iopub.status.busy": "2021-09-09T21:30:08.442414Z",
     "iopub.status.idle": "2021-09-09T21:30:08.448374Z",
     "shell.execute_reply": "2021-09-09T21:30:08.449636Z"
    },
    "papermill": {
     "duration": 0.041671,
     "end_time": "2021-09-09T21:30:08.450040",
     "exception": false,
     "start_time": "2021-09-09T21:30:08.408369",
     "status": "completed"
    },
    "tags": []
   },
   "outputs": [],
   "source": [
    "df_pivot.columns = [\"stamp_1\", \"stamp_2\"]\n",
    "df_pivot_diff = df_pivot.diff(axis=1)"
   ]
  },
  {
   "cell_type": "code",
   "execution_count": 7,
   "id": "fifth-motion",
   "metadata": {
    "execution": {
     "iopub.execute_input": "2021-09-09T21:30:08.504011Z",
     "iopub.status.busy": "2021-09-09T21:30:08.501305Z",
     "iopub.status.idle": "2021-09-09T21:30:09.979671Z",
     "shell.execute_reply": "2021-09-09T21:30:09.981035Z"
    },
    "papermill": {
     "duration": 1.51166,
     "end_time": "2021-09-09T21:30:09.981471",
     "exception": false,
     "start_time": "2021-09-09T21:30:08.469811",
     "status": "completed"
    },
    "tags": []
   },
   "outputs": [
    {
     "data": {
      "text/plain": [
       "<AxesSubplot:ylabel='PRODUCT'>"
      ]
     },
     "execution_count": 7,
     "metadata": {},
     "output_type": "execute_result"
    },
    {
     "data": {
      "image/png": "[encoded data removed]",
      "text/plain": [
       "<Figure size 432x288 with 1 Axes>"
      ]
     },
     "metadata": {
      "needs_background": "light"
     },
     "output_type": "display_data"
    }
   ],
   "source": [
    "df_pivot_diff.sort_values(\"stamp_2\", ascending = False)[\"stamp_2\"].head(10).plot.barh()"
   ]
  },
  {
   "cell_type": "code",
   "execution_count": null,
   "id": "extra-executive",
   "metadata": {
    "papermill": {
     "duration": 0.021868,
     "end_time": "2021-09-09T21:30:10.027695",
     "exception": false,
     "start_time": "2021-09-09T21:30:10.005827",
     "status": "completed"
    },
    "tags": []
   },
   "outputs": [],
   "source": []
  }
 ],
 "metadata": {
  "kernelspec": {
   "display_name": "Python 3",
   "language": "python",
   "name": "python3"
  },
  "language_info": {
   "codemirror_mode": {
    "name": "ipython",
    "version": 3
   },
   "file_extension": ".py",
   "mimetype": "text/x-python",
   "name": "python",
   "nbconvert_exporter": "python",
   "pygments_lexer": "ipython3",
   "version": "3.9.5"
  },
  "papermill": {
   "default_parameters": {},
   "duration": 6.479504,
   "end_time": "2021-09-09T21:30:10.668008",
   "environment_variables": {},
   "exception": null,
   "input_path": "eBay_Overview.ipynb",
   "output_path": "eBay_Overview.ipynb",
   "parameters": {},
   "start_time": "2021-09-09T21:30:04.188504",
   "version": "2.3.3"
  }
 },
 "nbformat": 4,
 "nbformat_minor": 5
}