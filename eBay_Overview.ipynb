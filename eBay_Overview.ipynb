{
 "cells": [
  {
   "cell_type": "code",
   "execution_count": 1,
   "id": "reverse-picking",
   "metadata": {
    "execution": {
     "iopub.execute_input": "2021-09-17T12:30:06.703469Z",
     "iopub.status.busy": "2021-09-17T12:30:06.701416Z",
     "iopub.status.idle": "2021-09-17T12:30:07.502482Z",
     "shell.execute_reply": "2021-09-17T12:30:07.503953Z"
    },
    "papermill": {
     "duration": 0.853828,
     "end_time": "2021-09-17T12:30:07.504737",
     "exception": false,
     "start_time": "2021-09-17T12:30:06.650909",
     "status": "completed"
    },
    "tags": []
   },
   "outputs": [],
   "source": [
    "import pandas as pd\n",
    "import sqlite3"
   ]
  },
  {
   "cell_type": "code",
   "execution_count": 2,
   "id": "innovative-syndrome",
   "metadata": {
    "execution": {
     "iopub.execute_input": "2021-09-17T12:30:07.556902Z",
     "iopub.status.busy": "2021-09-17T12:30:07.554539Z",
     "iopub.status.idle": "2021-09-17T12:30:07.861783Z",
     "shell.execute_reply": "2021-09-17T12:30:07.863149Z"
    },
    "papermill": {
     "duration": 0.337378,
     "end_time": "2021-09-17T12:30:07.863567",
     "exception": false,
     "start_time": "2021-09-17T12:30:07.526189",
     "status": "completed"
    },
    "tags": []
   },
   "outputs": [],
   "source": [
    "timestamps = pd.read_sql(\"select distinct record_time from EBAY_TOP_BERLIN order by record_time desc limit 2\", sqlite3.connect(\"UsedObjects.db\"))"
   ]
  },
  {
   "cell_type": "code",
   "execution_count": 3,
   "id": "periodic-identification",
   "metadata": {
    "execution": {
     "iopub.execute_input": "2021-09-17T12:30:07.931586Z",
     "iopub.status.busy": "2021-09-17T12:30:07.929532Z",
     "iopub.status.idle": "2021-09-17T12:30:07.949747Z",
     "shell.execute_reply": "2021-09-17T12:30:07.951294Z"
    },
    "papermill": {
     "duration": 0.067198,
     "end_time": "2021-09-17T12:30:07.951789",
     "exception": false,
     "start_time": "2021-09-17T12:30:07.884591",
     "status": "completed"
    },
    "tags": []
   },
   "outputs": [
    {
     "data": {
      "text/html": [
       "<div>\n",
       "<style scoped>\n",
       "    .dataframe tbody tr th:only-of-type {\n",
       "        vertical-align: middle;\n",
       "    }\n",
       "\n",
       "    .dataframe tbody tr th {\n",
       "        vertical-align: top;\n",
       "    }\n",
       "\n",
       "    .dataframe thead th {\n",
       "        text-align: right;\n",
       "    }\n",
       "</style>\n",
       "<table border=\"1\" class=\"dataframe\">\n",
       "  <thead>\n",
       "    <tr style=\"text-align: right;\">\n",
       "      <th></th>\n",
       "      <th>RECORD_TIME</th>\n",
       "    </tr>\n",
       "  </thead>\n",
       "  <tbody>\n",
       "    <tr>\n",
       "      <th>0</th>\n",
       "      <td>2021-09-17 14:30</td>\n",
       "    </tr>\n",
       "    <tr>\n",
       "      <th>1</th>\n",
       "      <td>2021-09-17 14:00</td>\n",
       "    </tr>\n",
       "  </tbody>\n",
       "</table>\n",
       "</div>"
      ],
      "text/plain": [
       "        RECORD_TIME\n",
       "0  2021-09-17 14:30\n",
       "1  2021-09-17 14:00"
      ]
     },
     "execution_count": 3,
     "metadata": {},
     "output_type": "execute_result"
    }
   ],
   "source": [
    "timestamps"
   ]
  },
  {
   "cell_type": "code",
   "execution_count": 4,
   "id": "alternate-victory",
   "metadata": {
    "execution": {
     "iopub.execute_input": "2021-09-17T12:30:08.003995Z",
     "iopub.status.busy": "2021-09-17T12:30:08.002111Z",
     "iopub.status.idle": "2021-09-17T12:30:08.461154Z",
     "shell.execute_reply": "2021-09-17T12:30:08.459687Z"
    },
    "papermill": {
     "duration": 0.487765,
     "end_time": "2021-09-17T12:30:08.461524",
     "exception": false,
     "start_time": "2021-09-17T12:30:07.973759",
     "status": "completed"
    },
    "tags": []
   },
   "outputs": [],
   "source": [
    "df = pd.read_sql(\"select * from EBAY_TOP_BERLIN where record_time in (select distinct record_time from EBAY_TOP_BERLIN order by record_time desc limit 2)\", sqlite3.connect(\"UsedObjects.db\"))"
   ]
  },
  {
   "cell_type": "code",
   "execution_count": 5,
   "id": "popular-active",
   "metadata": {
    "execution": {
     "iopub.execute_input": "2021-09-17T12:30:08.543687Z",
     "iopub.status.busy": "2021-09-17T12:30:08.532225Z",
     "iopub.status.idle": "2021-09-17T12:30:08.560054Z",
     "shell.execute_reply": "2021-09-17T12:30:08.561406Z"
    },
    "papermill": {
     "duration": 0.073365,
     "end_time": "2021-09-17T12:30:08.561830",
     "exception": false,
     "start_time": "2021-09-17T12:30:08.488465",
     "status": "completed"
    },
    "tags": []
   },
   "outputs": [],
   "source": [
    "df_pivot = df.pivot_table(index=\"PRODUCT\", columns = \"RECORD_TIME\", values = \"LISTING_COUNT\")"
   ]
  },
  {
   "cell_type": "code",
   "execution_count": 6,
   "id": "union-huntington",
   "metadata": {
    "execution": {
     "iopub.execute_input": "2021-09-17T12:30:08.621798Z",
     "iopub.status.busy": "2021-09-17T12:30:08.619398Z",
     "iopub.status.idle": "2021-09-17T12:30:08.625264Z",
     "shell.execute_reply": "2021-09-17T12:30:08.626430Z"
    },
    "papermill": {
     "duration": 0.042403,
     "end_time": "2021-09-17T12:30:08.626908",
     "exception": false,
     "start_time": "2021-09-17T12:30:08.584505",
     "status": "completed"
    },
    "tags": []
   },
   "outputs": [],
   "source": [
    "df_pivot.columns = [\"stamp_1\", \"stamp_2\"]\n",
    "df_pivot_diff = df_pivot.diff(axis=1)"
   ]
  },
  {
   "cell_type": "code",
   "execution_count": 7,
   "id": "fifth-motion",
   "metadata": {
    "execution": {
     "iopub.execute_input": "2021-09-17T12:30:08.681758Z",
     "iopub.status.busy": "2021-09-17T12:30:08.679530Z",
     "iopub.status.idle": "2021-09-17T12:30:10.176885Z",
     "shell.execute_reply": "2021-09-17T12:30:10.178135Z"
    },
    "papermill": {
     "duration": 1.530784,
     "end_time": "2021-09-17T12:30:10.178545",
     "exception": false,
     "start_time": "2021-09-17T12:30:08.647761",
     "status": "completed"
    },
    "tags": []
   },
   "outputs": [
    {
     "data": {
      "text/plain": [
       "<AxesSubplot:ylabel='PRODUCT'>"
      ]
     },
     "execution_count": 7,
     "metadata": {},
     "output_type": "execute_result"
    },
    {
     "data": {
      "image/png": "[encoded data removed]",
      "text/plain": [
       "<Figure size 432x288 with 1 Axes>"
      ]
     },
     "metadata": {
      "needs_background": "light"
     },
     "output_type": "display_data"
    }
   ],
   "source": [
    "df_pivot_diff.sort_values(\"stamp_2\", ascending = False)[\"stamp_2\"].head(10).plot.barh()"
   ]
  },
  {
   "cell_type": "code",
   "execution_count": null,
   "id": "extra-executive",
   "metadata": {
    "papermill": {
     "duration": 0.022478,
     "end_time": "2021-09-17T12:30:10.225711",
     "exception": false,
     "start_time": "2021-09-17T12:30:10.203233",
     "status": "completed"
    },
    "tags": []
   },
   "outputs": [],
   "source": []
  }
 ],
 "metadata": {
  "kernelspec": {
   "display_name": "Python 3",
   "language": "python",
   "name": "python3"
  },
  "language_info": {
   "codemirror_mode": {
    "name": "ipython",
    "version": 3
   },
   "file_extension": ".py",
   "mimetype": "text/x-python",
   "name": "python",
   "nbconvert_exporter": "python",
   "pygments_lexer": "ipython3",
   "version": "3.9.5"
  },
  "papermill": {
   "default_parameters": {},
   "duration": 6.604874,
   "end_time": "2021-09-17T12:30:10.868675",
   "environment_variables": {},
   "exception": null,
   "input_path": "eBay_Overview.ipynb",
   "output_path": "eBay_Overview.ipynb",
   "parameters": {},
   "start_time": "2021-09-17T12:30:04.263801",
   "version": "2.3.3"
  }
 },
 "nbformat": 4,
 "nbformat_minor": 5
}