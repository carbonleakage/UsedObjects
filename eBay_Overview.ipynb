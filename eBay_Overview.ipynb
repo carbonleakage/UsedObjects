{
 "cells": [
  {
   "cell_type": "code",
   "execution_count": 1,
   "id": "reverse-picking",
   "metadata": {
    "execution": {
     "iopub.execute_input": "2021-09-29T16:30:07.239222Z",
     "iopub.status.busy": "2021-09-29T16:30:07.237211Z",
     "iopub.status.idle": "2021-09-29T16:30:08.044389Z",
     "shell.execute_reply": "2021-09-29T16:30:08.045634Z"
    },
    "papermill": {
     "duration": 0.858401,
     "end_time": "2021-09-29T16:30:08.046242",
     "exception": false,
     "start_time": "2021-09-29T16:30:07.187841",
     "status": "completed"
    },
    "tags": []
   },
   "outputs": [],
   "source": [
    "import pandas as pd\n",
    "import sqlite3"
   ]
  },
  {
   "cell_type": "code",
   "execution_count": 2,
   "id": "innovative-syndrome",
   "metadata": {
    "execution": {
     "iopub.execute_input": "2021-09-29T16:30:08.095650Z",
     "iopub.status.busy": "2021-09-29T16:30:08.093739Z",
     "iopub.status.idle": "2021-09-29T16:30:08.496234Z",
     "shell.execute_reply": "2021-09-29T16:30:08.497413Z"
    },
    "papermill": {
     "duration": 0.431795,
     "end_time": "2021-09-29T16:30:08.497809",
     "exception": false,
     "start_time": "2021-09-29T16:30:08.066014",
     "status": "completed"
    },
    "tags": []
   },
   "outputs": [],
   "source": [
    "timestamps = pd.read_sql(\"select distinct record_time from EBAY_TOP_BERLIN order by record_time desc limit 2\", sqlite3.connect(\"UsedObjects.db\"))"
   ]
  },
  {
   "cell_type": "code",
   "execution_count": 3,
   "id": "periodic-identification",
   "metadata": {
    "execution": {
     "iopub.execute_input": "2021-09-29T16:30:08.561568Z",
     "iopub.status.busy": "2021-09-29T16:30:08.559553Z",
     "iopub.status.idle": "2021-09-29T16:30:08.581470Z",
     "shell.execute_reply": "2021-09-29T16:30:08.582665Z"
    },
    "papermill": {
     "duration": 0.066057,
     "end_time": "2021-09-29T16:30:08.583162",
     "exception": false,
     "start_time": "2021-09-29T16:30:08.517105",
     "status": "completed"
    },
    "tags": []
   },
   "outputs": [
    {
     "data": {
      "text/html": [
       "<div>\n",
       "<style scoped>\n",
       "    .dataframe tbody tr th:only-of-type {\n",
       "        vertical-align: middle;\n",
       "    }\n",
       "\n",
       "    .dataframe tbody tr th {\n",
       "        vertical-align: top;\n",
       "    }\n",
       "\n",
       "    .dataframe thead th {\n",
       "        text-align: right;\n",
       "    }\n",
       "</style>\n",
       "<table border=\"1\" class=\"dataframe\">\n",
       "  <thead>\n",
       "    <tr style=\"text-align: right;\">\n",
       "      <th></th>\n",
       "      <th>RECORD_TIME</th>\n",
       "    </tr>\n",
       "  </thead>\n",
       "  <tbody>\n",
       "    <tr>\n",
       "      <th>0</th>\n",
       "      <td>2021-09-29 18:30</td>\n",
       "    </tr>\n",
       "    <tr>\n",
       "      <th>1</th>\n",
       "      <td>2021-09-29 18:00</td>\n",
       "    </tr>\n",
       "  </tbody>\n",
       "</table>\n",
       "</div>"
      ],
      "text/plain": [
       "        RECORD_TIME\n",
       "0  2021-09-29 18:30\n",
       "1  2021-09-29 18:00"
      ]
     },
     "execution_count": 3,
     "metadata": {},
     "output_type": "execute_result"
    }
   ],
   "source": [
    "timestamps"
   ]
  },
  {
   "cell_type": "code",
   "execution_count": 4,
   "id": "alternate-victory",
   "metadata": {
    "execution": {
     "iopub.execute_input": "2021-09-29T16:30:08.636047Z",
     "iopub.status.busy": "2021-09-29T16:30:08.633996Z",
     "iopub.status.idle": "2021-09-29T16:30:09.237349Z",
     "shell.execute_reply": "2021-09-29T16:30:09.238631Z"
    },
    "papermill": {
     "duration": 0.633053,
     "end_time": "2021-09-29T16:30:09.239114",
     "exception": false,
     "start_time": "2021-09-29T16:30:08.606061",
     "status": "completed"
    },
    "tags": []
   },
   "outputs": [],
   "source": [
    "df = pd.read_sql(\"select * from EBAY_TOP_BERLIN where record_time in (select distinct record_time from EBAY_TOP_BERLIN order by record_time desc limit 2)\", sqlite3.connect(\"UsedObjects.db\"))"
   ]
  },
  {
   "cell_type": "code",
   "execution_count": 5,
   "id": "popular-active",
   "metadata": {
    "execution": {
     "iopub.execute_input": "2021-09-29T16:30:09.317839Z",
     "iopub.status.busy": "2021-09-29T16:30:09.306943Z",
     "iopub.status.idle": "2021-09-29T16:30:09.334240Z",
     "shell.execute_reply": "2021-09-29T16:30:09.335537Z"
    },
    "papermill": {
     "duration": 0.071542,
     "end_time": "2021-09-29T16:30:09.335940",
     "exception": false,
     "start_time": "2021-09-29T16:30:09.264398",
     "status": "completed"
    },
    "tags": []
   },
   "outputs": [],
   "source": [
    "df_pivot = df.pivot_table(index=\"PRODUCT\", columns = \"RECORD_TIME\", values = \"LISTING_COUNT\")"
   ]
  },
  {
   "cell_type": "code",
   "execution_count": 6,
   "id": "union-huntington",
   "metadata": {
    "execution": {
     "iopub.execute_input": "2021-09-29T16:30:09.392834Z",
     "iopub.status.busy": "2021-09-29T16:30:09.390642Z",
     "iopub.status.idle": "2021-09-29T16:30:09.396170Z",
     "shell.execute_reply": "2021-09-29T16:30:09.397543Z"
    },
    "papermill": {
     "duration": 0.040771,
     "end_time": "2021-09-29T16:30:09.397977",
     "exception": false,
     "start_time": "2021-09-29T16:30:09.357206",
     "status": "completed"
    },
    "tags": []
   },
   "outputs": [],
   "source": [
    "df_pivot.columns = [\"stamp_1\", \"stamp_2\"]\n",
    "df_pivot_diff = df_pivot.diff(axis=1)"
   ]
  },
  {
   "cell_type": "code",
   "execution_count": 7,
   "id": "fifth-motion",
   "metadata": {
    "execution": {
     "iopub.execute_input": "2021-09-29T16:30:09.451999Z",
     "iopub.status.busy": "2021-09-29T16:30:09.449426Z",
     "iopub.status.idle": "2021-09-29T16:30:10.937723Z",
     "shell.execute_reply": "2021-09-29T16:30:10.939085Z"
    },
    "papermill": {
     "duration": 1.521184,
     "end_time": "2021-09-29T16:30:10.939547",
     "exception": false,
     "start_time": "2021-09-29T16:30:09.418363",
     "status": "completed"
    },
    "tags": []
   },
   "outputs": [
    {
     "data": {
      "text/plain": [
       "<AxesSubplot:ylabel='PRODUCT'>"
      ]
     },
     "execution_count": 7,
     "metadata": {},
     "output_type": "execute_result"
    },
    {
     "data": {
      "image/png": "[encoded data removed]",
      "text/plain": [
       "<Figure size 432x288 with 1 Axes>"
      ]
     },
     "metadata": {
      "needs_background": "light"
     },
     "output_type": "display_data"
    }
   ],
   "source": [
    "df_pivot_diff.sort_values(\"stamp_2\", ascending = False)[\"stamp_2\"].head(10).plot.barh()"
   ]
  },
  {
   "cell_type": "code",
   "execution_count": null,
   "id": "extra-executive",
   "metadata": {
    "papermill": {
     "duration": 0.021897,
     "end_time": "2021-09-29T16:30:10.985948",
     "exception": false,
     "start_time": "2021-09-29T16:30:10.964051",
     "status": "completed"
    },
    "tags": []
   },
   "outputs": [],
   "source": []
  }
 ],
 "metadata": {
  "kernelspec": {
   "display_name": "Python 3",
   "language": "python",
   "name": "python3"
  },
  "language_info": {
   "codemirror_mode": {
    "name": "ipython",
    "version": 3
   },
   "file_extension": ".py",
   "mimetype": "text/x-python",
   "name": "python",
   "nbconvert_exporter": "python",
   "pygments_lexer": "ipython3",
   "version": "3.9.5"
  },
  "papermill": {
   "default_parameters": {},
   "duration": 7.831618,
   "end_time": "2021-09-29T16:30:12.610179",
   "environment_variables": {},
   "exception": null,
   "input_path": "eBay_Overview.ipynb",
   "output_path": "eBay_Overview.ipynb",
   "parameters": {},
   "start_time": "2021-09-29T16:30:04.778561",
   "version": "2.3.3"
  }
 },
 "nbformat": 4,
 "nbformat_minor": 5
}