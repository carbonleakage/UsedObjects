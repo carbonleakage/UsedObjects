{
 "cells": [
  {
   "cell_type": "code",
   "execution_count": 1,
   "id": "reverse-picking",
   "metadata": {
    "execution": {
     "iopub.execute_input": "2021-09-25T23:30:07.472986Z",
     "iopub.status.busy": "2021-09-25T23:30:07.470933Z",
     "iopub.status.idle": "2021-09-25T23:30:08.278309Z",
     "shell.execute_reply": "2021-09-25T23:30:08.279798Z"
    },
    "papermill": {
     "duration": 0.85802,
     "end_time": "2021-09-25T23:30:08.280438",
     "exception": false,
     "start_time": "2021-09-25T23:30:07.422418",
     "status": "completed"
    },
    "tags": []
   },
   "outputs": [],
   "source": [
    "import pandas as pd\n",
    "import sqlite3"
   ]
  },
  {
   "cell_type": "code",
   "execution_count": 2,
   "id": "innovative-syndrome",
   "metadata": {
    "execution": {
     "iopub.execute_input": "2021-09-25T23:30:08.332756Z",
     "iopub.status.busy": "2021-09-25T23:30:08.330328Z",
     "iopub.status.idle": "2021-09-25T23:30:08.717171Z",
     "shell.execute_reply": "2021-09-25T23:30:08.718378Z"
    },
    "papermill": {
     "duration": 0.416782,
     "end_time": "2021-09-25T23:30:08.718765",
     "exception": false,
     "start_time": "2021-09-25T23:30:08.301983",
     "status": "completed"
    },
    "tags": []
   },
   "outputs": [],
   "source": [
    "timestamps = pd.read_sql(\"select distinct record_time from EBAY_TOP_BERLIN order by record_time desc limit 2\", sqlite3.connect(\"UsedObjects.db\"))"
   ]
  },
  {
   "cell_type": "code",
   "execution_count": 3,
   "id": "periodic-identification",
   "metadata": {
    "execution": {
     "iopub.execute_input": "2021-09-25T23:30:08.784729Z",
     "iopub.status.busy": "2021-09-25T23:30:08.782620Z",
     "iopub.status.idle": "2021-09-25T23:30:08.802572Z",
     "shell.execute_reply": "2021-09-25T23:30:08.803803Z"
    },
    "papermill": {
     "duration": 0.064283,
     "end_time": "2021-09-25T23:30:08.804220",
     "exception": false,
     "start_time": "2021-09-25T23:30:08.739937",
     "status": "completed"
    },
    "tags": []
   },
   "outputs": [
    {
     "data": {
      "text/html": [
       "<div>\n",
       "<style scoped>\n",
       "    .dataframe tbody tr th:only-of-type {\n",
       "        vertical-align: middle;\n",
       "    }\n",
       "\n",
       "    .dataframe tbody tr th {\n",
       "        vertical-align: top;\n",
       "    }\n",
       "\n",
       "    .dataframe thead th {\n",
       "        text-align: right;\n",
       "    }\n",
       "</style>\n",
       "<table border=\"1\" class=\"dataframe\">\n",
       "  <thead>\n",
       "    <tr style=\"text-align: right;\">\n",
       "      <th></th>\n",
       "      <th>RECORD_TIME</th>\n",
       "    </tr>\n",
       "  </thead>\n",
       "  <tbody>\n",
       "    <tr>\n",
       "      <th>0</th>\n",
       "      <td>2021-09-26 01:30</td>\n",
       "    </tr>\n",
       "    <tr>\n",
       "      <th>1</th>\n",
       "      <td>2021-09-26 01:00</td>\n",
       "    </tr>\n",
       "  </tbody>\n",
       "</table>\n",
       "</div>"
      ],
      "text/plain": [
       "        RECORD_TIME\n",
       "0  2021-09-26 01:30\n",
       "1  2021-09-26 01:00"
      ]
     },
     "execution_count": 3,
     "metadata": {},
     "output_type": "execute_result"
    }
   ],
   "source": [
    "timestamps"
   ]
  },
  {
   "cell_type": "code",
   "execution_count": 4,
   "id": "alternate-victory",
   "metadata": {
    "execution": {
     "iopub.execute_input": "2021-09-25T23:30:08.859620Z",
     "iopub.status.busy": "2021-09-25T23:30:08.857250Z",
     "iopub.status.idle": "2021-09-25T23:30:09.415946Z",
     "shell.execute_reply": "2021-09-25T23:30:09.417094Z"
    },
    "papermill": {
     "duration": 0.589674,
     "end_time": "2021-09-25T23:30:09.417499",
     "exception": false,
     "start_time": "2021-09-25T23:30:08.827825",
     "status": "completed"
    },
    "tags": []
   },
   "outputs": [],
   "source": [
    "df = pd.read_sql(\"select * from EBAY_TOP_BERLIN where record_time in (select distinct record_time from EBAY_TOP_BERLIN order by record_time desc limit 2)\", sqlite3.connect(\"UsedObjects.db\"))"
   ]
  },
  {
   "cell_type": "code",
   "execution_count": 5,
   "id": "popular-active",
   "metadata": {
    "execution": {
     "iopub.execute_input": "2021-09-25T23:30:09.503623Z",
     "iopub.status.busy": "2021-09-25T23:30:09.492652Z",
     "iopub.status.idle": "2021-09-25T23:30:09.520028Z",
     "shell.execute_reply": "2021-09-25T23:30:09.521184Z"
    },
    "papermill": {
     "duration": 0.071758,
     "end_time": "2021-09-25T23:30:09.521590",
     "exception": false,
     "start_time": "2021-09-25T23:30:09.449832",
     "status": "completed"
    },
    "tags": []
   },
   "outputs": [],
   "source": [
    "df_pivot = df.pivot_table(index=\"PRODUCT\", columns = \"RECORD_TIME\", values = \"LISTING_COUNT\")"
   ]
  },
  {
   "cell_type": "code",
   "execution_count": 6,
   "id": "union-huntington",
   "metadata": {
    "execution": {
     "iopub.execute_input": "2021-09-25T23:30:09.582229Z",
     "iopub.status.busy": "2021-09-25T23:30:09.579765Z",
     "iopub.status.idle": "2021-09-25T23:30:09.585446Z",
     "shell.execute_reply": "2021-09-25T23:30:09.586740Z"
    },
    "papermill": {
     "duration": 0.042255,
     "end_time": "2021-09-25T23:30:09.587210",
     "exception": false,
     "start_time": "2021-09-25T23:30:09.544955",
     "status": "completed"
    },
    "tags": []
   },
   "outputs": [],
   "source": [
    "df_pivot.columns = [\"stamp_1\", \"stamp_2\"]\n",
    "df_pivot_diff = df_pivot.diff(axis=1)"
   ]
  },
  {
   "cell_type": "code",
   "execution_count": 7,
   "id": "fifth-motion",
   "metadata": {
    "execution": {
     "iopub.execute_input": "2021-09-25T23:30:09.641907Z",
     "iopub.status.busy": "2021-09-25T23:30:09.639587Z",
     "iopub.status.idle": "2021-09-25T23:30:11.155853Z",
     "shell.execute_reply": "2021-09-25T23:30:11.157162Z"
    },
    "papermill": {
     "duration": 1.550069,
     "end_time": "2021-09-25T23:30:11.157578",
     "exception": false,
     "start_time": "2021-09-25T23:30:09.607509",
     "status": "completed"
    },
    "tags": []
   },
   "outputs": [
    {
     "data": {
      "text/plain": [
       "<AxesSubplot:ylabel='PRODUCT'>"
      ]
     },
     "execution_count": 7,
     "metadata": {},
     "output_type": "execute_result"
    },
    {
     "data": {
      "image/png": "[encoded data removed]",
      "text/plain": [
       "<Figure size 432x288 with 1 Axes>"
      ]
     },
     "metadata": {
      "needs_background": "light"
     },
     "output_type": "display_data"
    }
   ],
   "source": [
    "df_pivot_diff.sort_values(\"stamp_2\", ascending = False)[\"stamp_2\"].head(10).plot.barh()"
   ]
  },
  {
   "cell_type": "code",
   "execution_count": null,
   "id": "extra-executive",
   "metadata": {
    "papermill": {
     "duration": 0.022489,
     "end_time": "2021-09-25T23:30:11.204843",
     "exception": false,
     "start_time": "2021-09-25T23:30:11.182354",
     "status": "completed"
    },
    "tags": []
   },
   "outputs": [],
   "source": []
  }
 ],
 "metadata": {
  "kernelspec": {
   "display_name": "Python 3",
   "language": "python",
   "name": "python3"
  },
  "language_info": {
   "codemirror_mode": {
    "name": "ipython",
    "version": 3
   },
   "file_extension": ".py",
   "mimetype": "text/x-python",
   "name": "python",
   "nbconvert_exporter": "python",
   "pygments_lexer": "ipython3",
   "version": "3.9.5"
  },
  "papermill": {
   "default_parameters": {},
   "duration": 6.824269,
   "end_time": "2021-09-25T23:30:11.847903",
   "environment_variables": {},
   "exception": null,
   "input_path": "eBay_Overview.ipynb",
   "output_path": "eBay_Overview.ipynb",
   "parameters": {},
   "start_time": "2021-09-25T23:30:05.023634",
   "version": "2.3.3"
  }
 },
 "nbformat": 4,
 "nbformat_minor": 5
}