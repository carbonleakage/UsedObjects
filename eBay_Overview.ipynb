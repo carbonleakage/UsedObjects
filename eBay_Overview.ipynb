{
 "cells": [
  {
   "cell_type": "code",
   "execution_count": 1,
   "id": "reverse-picking",
   "metadata": {
    "execution": {
     "iopub.execute_input": "2021-11-04T01:30:07.732554Z",
     "iopub.status.busy": "2021-11-04T01:30:07.730486Z",
     "iopub.status.idle": "2021-11-04T01:30:08.693873Z",
     "shell.execute_reply": "2021-11-04T01:30:08.691725Z"
    },
    "papermill": {
     "duration": 1.008751,
     "end_time": "2021-11-04T01:30:08.694367",
     "exception": false,
     "start_time": "2021-11-04T01:30:07.685616",
     "status": "completed"
    },
    "tags": []
   },
   "outputs": [],
   "source": [
    "import pandas as pd\n",
    "import sqlite3"
   ]
  },
  {
   "cell_type": "code",
   "execution_count": 2,
   "id": "innovative-syndrome",
   "metadata": {
    "execution": {
     "iopub.execute_input": "2021-11-04T01:30:08.757557Z",
     "iopub.status.busy": "2021-11-04T01:30:08.755010Z",
     "iopub.status.idle": "2021-11-04T01:30:09.473892Z",
     "shell.execute_reply": "2021-11-04T01:30:09.475429Z"
    },
    "papermill": {
     "duration": 0.752739,
     "end_time": "2021-11-04T01:30:09.476034",
     "exception": false,
     "start_time": "2021-11-04T01:30:08.723295",
     "status": "completed"
    },
    "tags": []
   },
   "outputs": [],
   "source": [
    "timestamps = pd.read_sql(\"select distinct record_time from EBAY_TOP_BERLIN order by record_time desc limit 2\", sqlite3.connect(\"UsedObjects.db\"))"
   ]
  },
  {
   "cell_type": "code",
   "execution_count": 3,
   "id": "periodic-identification",
   "metadata": {
    "execution": {
     "iopub.execute_input": "2021-11-04T01:30:09.547966Z",
     "iopub.status.busy": "2021-11-04T01:30:09.545454Z",
     "iopub.status.idle": "2021-11-04T01:30:09.569051Z",
     "shell.execute_reply": "2021-11-04T01:30:09.570554Z"
    },
    "papermill": {
     "duration": 0.07412,
     "end_time": "2021-11-04T01:30:09.571026",
     "exception": false,
     "start_time": "2021-11-04T01:30:09.496906",
     "status": "completed"
    },
    "tags": []
   },
   "outputs": [
    {
     "data": {
      "text/html": [
       "<div>\n",
       "<style scoped>\n",
       "    .dataframe tbody tr th:only-of-type {\n",
       "        vertical-align: middle;\n",
       "    }\n",
       "\n",
       "    .dataframe tbody tr th {\n",
       "        vertical-align: top;\n",
       "    }\n",
       "\n",
       "    .dataframe thead th {\n",
       "        text-align: right;\n",
       "    }\n",
       "</style>\n",
       "<table border=\"1\" class=\"dataframe\">\n",
       "  <thead>\n",
       "    <tr style=\"text-align: right;\">\n",
       "      <th></th>\n",
       "      <th>RECORD_TIME</th>\n",
       "    </tr>\n",
       "  </thead>\n",
       "  <tbody>\n",
       "    <tr>\n",
       "      <th>0</th>\n",
       "      <td>2021-11-04 02:30</td>\n",
       "    </tr>\n",
       "    <tr>\n",
       "      <th>1</th>\n",
       "      <td>2021-11-04 02:00</td>\n",
       "    </tr>\n",
       "  </tbody>\n",
       "</table>\n",
       "</div>"
      ],
      "text/plain": [
       "        RECORD_TIME\n",
       "0  2021-11-04 02:30\n",
       "1  2021-11-04 02:00"
      ]
     },
     "execution_count": 3,
     "metadata": {},
     "output_type": "execute_result"
    }
   ],
   "source": [
    "timestamps"
   ]
  },
  {
   "cell_type": "code",
   "execution_count": 4,
   "id": "alternate-victory",
   "metadata": {
    "execution": {
     "iopub.execute_input": "2021-11-04T01:30:09.624773Z",
     "iopub.status.busy": "2021-11-04T01:30:09.622623Z",
     "iopub.status.idle": "2021-11-04T01:30:10.665589Z",
     "shell.execute_reply": "2021-11-04T01:30:10.667064Z"
    },
    "papermill": {
     "duration": 1.076068,
     "end_time": "2021-11-04T01:30:10.667581",
     "exception": false,
     "start_time": "2021-11-04T01:30:09.591513",
     "status": "completed"
    },
    "tags": []
   },
   "outputs": [],
   "source": [
    "df = pd.read_sql(\"select * from EBAY_TOP_BERLIN where record_time in (select distinct record_time from EBAY_TOP_BERLIN order by record_time desc limit 2)\", sqlite3.connect(\"UsedObjects.db\"))"
   ]
  },
  {
   "cell_type": "code",
   "execution_count": 5,
   "id": "popular-active",
   "metadata": {
    "execution": {
     "iopub.execute_input": "2021-11-04T01:30:10.747168Z",
     "iopub.status.busy": "2021-11-04T01:30:10.733716Z",
     "iopub.status.idle": "2021-11-04T01:30:10.766804Z",
     "shell.execute_reply": "2021-11-04T01:30:10.768413Z"
    },
    "papermill": {
     "duration": 0.077982,
     "end_time": "2021-11-04T01:30:10.769064",
     "exception": false,
     "start_time": "2021-11-04T01:30:10.691082",
     "status": "completed"
    },
    "tags": []
   },
   "outputs": [],
   "source": [
    "df_pivot = df.pivot_table(index=\"PRODUCT\", columns = \"RECORD_TIME\", values = \"LISTING_COUNT\")"
   ]
  },
  {
   "cell_type": "code",
   "execution_count": 6,
   "id": "union-huntington",
   "metadata": {
    "execution": {
     "iopub.execute_input": "2021-11-04T01:30:10.832618Z",
     "iopub.status.busy": "2021-11-04T01:30:10.830336Z",
     "iopub.status.idle": "2021-11-04T01:30:10.836283Z",
     "shell.execute_reply": "2021-11-04T01:30:10.837869Z"
    },
    "papermill": {
     "duration": 0.046712,
     "end_time": "2021-11-04T01:30:10.838388",
     "exception": false,
     "start_time": "2021-11-04T01:30:10.791676",
     "status": "completed"
    },
    "tags": []
   },
   "outputs": [],
   "source": [
    "df_pivot.columns = [\"stamp_1\", \"stamp_2\"]\n",
    "df_pivot_diff = df_pivot.diff(axis=1)"
   ]
  },
  {
   "cell_type": "code",
   "execution_count": 7,
   "id": "fifth-motion",
   "metadata": {
    "execution": {
     "iopub.execute_input": "2021-11-04T01:30:10.900029Z",
     "iopub.status.busy": "2021-11-04T01:30:10.897511Z",
     "iopub.status.idle": "2021-11-04T01:30:12.726547Z",
     "shell.execute_reply": "2021-11-04T01:30:12.729221Z"
    },
    "papermill": {
     "duration": 1.87041,
     "end_time": "2021-11-04T01:30:12.730050",
     "exception": false,
     "start_time": "2021-11-04T01:30:10.859640",
     "status": "completed"
    },
    "tags": []
   },
   "outputs": [
    {
     "data": {
      "text/plain": [
       "<AxesSubplot:ylabel='PRODUCT'>"
      ]
     },
     "execution_count": 7,
     "metadata": {},
     "output_type": "execute_result"
    },
    {
     "data": {
      "image/png": "[encoded data removed]",
      "text/plain": [
       "<Figure size 432x288 with 1 Axes>"
      ]
     },
     "metadata": {
      "needs_background": "light"
     },
     "output_type": "display_data"
    }
   ],
   "source": [
    "df_pivot_diff.sort_values(\"stamp_2\", ascending = False)[\"stamp_2\"].head(10).plot.barh()"
   ]
  },
  {
   "cell_type": "code",
   "execution_count": null,
   "id": "extra-executive",
   "metadata": {
    "papermill": {
     "duration": 0.037577,
     "end_time": "2021-11-04T01:30:12.803268",
     "exception": false,
     "start_time": "2021-11-04T01:30:12.765691",
     "status": "completed"
    },
    "tags": []
   },
   "outputs": [],
   "source": []
  }
 ],
 "metadata": {
  "kernelspec": {
   "display_name": "Python 3",
   "language": "python",
   "name": "python3"
  },
  "language_info": {
   "codemirror_mode": {
    "name": "ipython",
    "version": 3
   },
   "file_extension": ".py",
   "mimetype": "text/x-python",
   "name": "python",
   "nbconvert_exporter": "python",
   "pygments_lexer": "ipython3",
   "version": "3.9.5"
  },
  "papermill": {
   "default_parameters": {},
   "duration": 8.742659,
   "end_time": "2021-11-04T01:30:13.676539",
   "environment_variables": {},
   "exception": null,
   "input_path": "eBay_Overview.ipynb",
   "output_path": "eBay_Overview.ipynb",
   "parameters": {},
   "start_time": "2021-11-04T01:30:04.933880",
   "version": "2.3.3"
  }
 },
 "nbformat": 4,
 "nbformat_minor": 5
}