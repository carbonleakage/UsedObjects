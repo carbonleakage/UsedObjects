{
 "cells": [
  {
   "cell_type": "code",
   "execution_count": 1,
   "id": "reverse-picking",
   "metadata": {
    "execution": {
     "iopub.execute_input": "2021-12-16T13:30:08.356213Z",
     "iopub.status.busy": "2021-12-16T13:30:08.353724Z",
     "iopub.status.idle": "2021-12-16T13:30:09.325174Z",
     "shell.execute_reply": "2021-12-16T13:30:09.326662Z"
    },
    "papermill": {
     "duration": 1.020128,
     "end_time": "2021-12-16T13:30:09.327397",
     "exception": false,
     "start_time": "2021-12-16T13:30:08.307269",
     "status": "completed"
    },
    "tags": []
   },
   "outputs": [],
   "source": [
    "import pandas as pd\n",
    "import sqlite3"
   ]
  },
  {
   "cell_type": "code",
   "execution_count": 2,
   "id": "innovative-syndrome",
   "metadata": {
    "execution": {
     "iopub.execute_input": "2021-12-16T13:30:09.443513Z",
     "iopub.status.busy": "2021-12-16T13:30:09.441121Z",
     "iopub.status.idle": "2021-12-16T13:30:10.563211Z",
     "shell.execute_reply": "2021-12-16T13:30:10.565030Z"
    },
    "papermill": {
     "duration": 1.156981,
     "end_time": "2021-12-16T13:30:10.565616",
     "exception": false,
     "start_time": "2021-12-16T13:30:09.408635",
     "status": "completed"
    },
    "tags": []
   },
   "outputs": [],
   "source": [
    "timestamps = pd.read_sql(\"select distinct record_time from EBAY_TOP_BERLIN order by record_time desc limit 2\", sqlite3.connect(\"UsedObjects.db\"))"
   ]
  },
  {
   "cell_type": "code",
   "execution_count": 3,
   "id": "periodic-identification",
   "metadata": {
    "execution": {
     "iopub.execute_input": "2021-12-16T13:30:10.637620Z",
     "iopub.status.busy": "2021-12-16T13:30:10.635170Z",
     "iopub.status.idle": "2021-12-16T13:30:10.658800Z",
     "shell.execute_reply": "2021-12-16T13:30:10.660481Z"
    },
    "papermill": {
     "duration": 0.075156,
     "end_time": "2021-12-16T13:30:10.661387",
     "exception": false,
     "start_time": "2021-12-16T13:30:10.586231",
     "status": "completed"
    },
    "tags": []
   },
   "outputs": [
    {
     "data": {
      "text/html": [
       "<div>\n",
       "<style scoped>\n",
       "    .dataframe tbody tr th:only-of-type {\n",
       "        vertical-align: middle;\n",
       "    }\n",
       "\n",
       "    .dataframe tbody tr th {\n",
       "        vertical-align: top;\n",
       "    }\n",
       "\n",
       "    .dataframe thead th {\n",
       "        text-align: right;\n",
       "    }\n",
       "</style>\n",
       "<table border=\"1\" class=\"dataframe\">\n",
       "  <thead>\n",
       "    <tr style=\"text-align: right;\">\n",
       "      <th></th>\n",
       "      <th>RECORD_TIME</th>\n",
       "    </tr>\n",
       "  </thead>\n",
       "  <tbody>\n",
       "    <tr>\n",
       "      <th>0</th>\n",
       "      <td>2021-12-16 14:30</td>\n",
       "    </tr>\n",
       "    <tr>\n",
       "      <th>1</th>\n",
       "      <td>2021-12-16 14:00</td>\n",
       "    </tr>\n",
       "  </tbody>\n",
       "</table>\n",
       "</div>"
      ],
      "text/plain": [
       "        RECORD_TIME\n",
       "0  2021-12-16 14:30\n",
       "1  2021-12-16 14:00"
      ]
     },
     "execution_count": 3,
     "metadata": {},
     "output_type": "execute_result"
    }
   ],
   "source": [
    "timestamps"
   ]
  },
  {
   "cell_type": "code",
   "execution_count": 4,
   "id": "alternate-victory",
   "metadata": {
    "execution": {
     "iopub.execute_input": "2021-12-16T13:30:10.717979Z",
     "iopub.status.busy": "2021-12-16T13:30:10.715651Z",
     "iopub.status.idle": "2021-12-16T13:30:12.285032Z",
     "shell.execute_reply": "2021-12-16T13:30:12.286846Z"
    },
    "papermill": {
     "duration": 1.603799,
     "end_time": "2021-12-16T13:30:12.287302",
     "exception": false,
     "start_time": "2021-12-16T13:30:10.683503",
     "status": "completed"
    },
    "tags": []
   },
   "outputs": [],
   "source": [
    "df = pd.read_sql(\"select * from EBAY_TOP_BERLIN where record_time in (select distinct record_time from EBAY_TOP_BERLIN order by record_time desc limit 2)\", sqlite3.connect(\"UsedObjects.db\"))"
   ]
  },
  {
   "cell_type": "code",
   "execution_count": 5,
   "id": "popular-active",
   "metadata": {
    "execution": {
     "iopub.execute_input": "2021-12-16T13:30:12.361749Z",
     "iopub.status.busy": "2021-12-16T13:30:12.348927Z",
     "iopub.status.idle": "2021-12-16T13:30:12.379410Z",
     "shell.execute_reply": "2021-12-16T13:30:12.380901Z"
    },
    "papermill": {
     "duration": 0.073684,
     "end_time": "2021-12-16T13:30:12.381385",
     "exception": false,
     "start_time": "2021-12-16T13:30:12.307701",
     "status": "completed"
    },
    "tags": []
   },
   "outputs": [],
   "source": [
    "df_pivot = df.pivot_table(index=\"PRODUCT\", columns = \"RECORD_TIME\", values = \"LISTING_COUNT\")"
   ]
  },
  {
   "cell_type": "code",
   "execution_count": 6,
   "id": "union-huntington",
   "metadata": {
    "execution": {
     "iopub.execute_input": "2021-12-16T13:30:12.443135Z",
     "iopub.status.busy": "2021-12-16T13:30:12.440803Z",
     "iopub.status.idle": "2021-12-16T13:30:12.448123Z",
     "shell.execute_reply": "2021-12-16T13:30:12.446659Z"
    },
    "papermill": {
     "duration": 0.046245,
     "end_time": "2021-12-16T13:30:12.448552",
     "exception": false,
     "start_time": "2021-12-16T13:30:12.402307",
     "status": "completed"
    },
    "tags": []
   },
   "outputs": [],
   "source": [
    "df_pivot.columns = [\"stamp_1\", \"stamp_2\"]\n",
    "df_pivot_diff = df_pivot.diff(axis=1)"
   ]
  },
  {
   "cell_type": "code",
   "execution_count": 7,
   "id": "fifth-motion",
   "metadata": {
    "execution": {
     "iopub.execute_input": "2021-12-16T13:30:12.508214Z",
     "iopub.status.busy": "2021-12-16T13:30:12.505745Z",
     "iopub.status.idle": "2021-12-16T13:30:14.459750Z",
     "shell.execute_reply": "2021-12-16T13:30:14.461490Z"
    },
    "papermill": {
     "duration": 1.992058,
     "end_time": "2021-12-16T13:30:14.462070",
     "exception": false,
     "start_time": "2021-12-16T13:30:12.470012",
     "status": "completed"
    },
    "tags": []
   },
   "outputs": [
    {
     "data": {
      "text/plain": [
       "<AxesSubplot:ylabel='PRODUCT'>"
      ]
     },
     "execution_count": 7,
     "metadata": {},
     "output_type": "execute_result"
    },
    {
     "data": {
      "image/png": "[encoded data removed]",
      "text/plain": [
       "<Figure size 432x288 with 1 Axes>"
      ]
     },
     "metadata": {
      "needs_background": "light"
     },
     "output_type": "display_data"
    }
   ],
   "source": [
    "df_pivot_diff.sort_values(\"stamp_2\", ascending = False)[\"stamp_2\"].head(10).plot.barh()"
   ]
  },
  {
   "cell_type": "code",
   "execution_count": null,
   "id": "extra-executive",
   "metadata": {
    "papermill": {
     "duration": 0.030186,
     "end_time": "2021-12-16T13:30:14.517486",
     "exception": false,
     "start_time": "2021-12-16T13:30:14.487300",
     "status": "completed"
    },
    "tags": []
   },
   "outputs": [],
   "source": []
  }
 ],
 "metadata": {
  "kernelspec": {
   "display_name": "Python 3",
   "language": "python",
   "name": "python3"
  },
  "language_info": {
   "codemirror_mode": {
    "name": "ipython",
    "version": 3
   },
   "file_extension": ".py",
   "mimetype": "text/x-python",
   "name": "python",
   "nbconvert_exporter": "python",
   "pygments_lexer": "ipython3",
   "version": "3.9.5"
  },
  "papermill": {
   "default_parameters": {},
   "duration": 9.601141,
   "end_time": "2021-12-16T13:30:15.163002",
   "environment_variables": {},
   "exception": null,
   "input_path": "eBay_Overview.ipynb",
   "output_path": "eBay_Overview.ipynb",
   "parameters": {},
   "start_time": "2021-12-16T13:30:05.561861",
   "version": "2.3.3"
  }
 },
 "nbformat": 4,
 "nbformat_minor": 5
}