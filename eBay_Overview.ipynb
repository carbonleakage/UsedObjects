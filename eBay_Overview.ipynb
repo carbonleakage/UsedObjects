{
 "cells": [
  {
   "cell_type": "code",
   "execution_count": 1,
   "id": "reverse-picking",
   "metadata": {
    "execution": {
     "iopub.execute_input": "2021-09-07T14:00:07.285450Z",
     "iopub.status.busy": "2021-09-07T14:00:07.283510Z",
     "iopub.status.idle": "2021-09-07T14:00:08.094069Z",
     "shell.execute_reply": "2021-09-07T14:00:08.095526Z"
    },
    "papermill": {
     "duration": 0.864781,
     "end_time": "2021-09-07T14:00:08.096169",
     "exception": false,
     "start_time": "2021-09-07T14:00:07.231388",
     "status": "completed"
    },
    "tags": []
   },
   "outputs": [],
   "source": [
    "import pandas as pd\n",
    "import sqlite3"
   ]
  },
  {
   "cell_type": "code",
   "execution_count": 2,
   "id": "innovative-syndrome",
   "metadata": {
    "execution": {
     "iopub.execute_input": "2021-09-07T14:00:08.148779Z",
     "iopub.status.busy": "2021-09-07T14:00:08.146365Z",
     "iopub.status.idle": "2021-09-07T14:00:08.373566Z",
     "shell.execute_reply": "2021-09-07T14:00:08.374833Z"
    },
    "papermill": {
     "duration": 0.257583,
     "end_time": "2021-09-07T14:00:08.375369",
     "exception": false,
     "start_time": "2021-09-07T14:00:08.117786",
     "status": "completed"
    },
    "tags": []
   },
   "outputs": [],
   "source": [
    "timestamps = pd.read_sql(\"select distinct record_time from EBAY_TOP_BERLIN order by record_time desc limit 2\", sqlite3.connect(\"UsedObjects.db\"))"
   ]
  },
  {
   "cell_type": "code",
   "execution_count": 3,
   "id": "periodic-identification",
   "metadata": {
    "execution": {
     "iopub.execute_input": "2021-09-07T14:00:08.445404Z",
     "iopub.status.busy": "2021-09-07T14:00:08.440149Z",
     "iopub.status.idle": "2021-09-07T14:00:08.460876Z",
     "shell.execute_reply": "2021-09-07T14:00:08.462222Z"
    },
    "papermill": {
     "duration": 0.067617,
     "end_time": "2021-09-07T14:00:08.462658",
     "exception": false,
     "start_time": "2021-09-07T14:00:08.395041",
     "status": "completed"
    },
    "tags": []
   },
   "outputs": [
    {
     "data": {
      "text/html": [
       "<div>\n",
       "<style scoped>\n",
       "    .dataframe tbody tr th:only-of-type {\n",
       "        vertical-align: middle;\n",
       "    }\n",
       "\n",
       "    .dataframe tbody tr th {\n",
       "        vertical-align: top;\n",
       "    }\n",
       "\n",
       "    .dataframe thead th {\n",
       "        text-align: right;\n",
       "    }\n",
       "</style>\n",
       "<table border=\"1\" class=\"dataframe\">\n",
       "  <thead>\n",
       "    <tr style=\"text-align: right;\">\n",
       "      <th></th>\n",
       "      <th>RECORD_TIME</th>\n",
       "    </tr>\n",
       "  </thead>\n",
       "  <tbody>\n",
       "    <tr>\n",
       "      <th>0</th>\n",
       "      <td>2021-09-07 16:00</td>\n",
       "    </tr>\n",
       "    <tr>\n",
       "      <th>1</th>\n",
       "      <td>2021-09-07 15:30</td>\n",
       "    </tr>\n",
       "  </tbody>\n",
       "</table>\n",
       "</div>"
      ],
      "text/plain": [
       "        RECORD_TIME\n",
       "0  2021-09-07 16:00\n",
       "1  2021-09-07 15:30"
      ]
     },
     "execution_count": 3,
     "metadata": {},
     "output_type": "execute_result"
    }
   ],
   "source": [
    "timestamps"
   ]
  },
  {
   "cell_type": "code",
   "execution_count": 4,
   "id": "alternate-victory",
   "metadata": {
    "execution": {
     "iopub.execute_input": "2021-09-07T14:00:08.515152Z",
     "iopub.status.busy": "2021-09-07T14:00:08.512840Z",
     "iopub.status.idle": "2021-09-07T14:00:08.857281Z",
     "shell.execute_reply": "2021-09-07T14:00:08.858475Z"
    },
    "papermill": {
     "duration": 0.375032,
     "end_time": "2021-09-07T14:00:08.859039",
     "exception": false,
     "start_time": "2021-09-07T14:00:08.484007",
     "status": "completed"
    },
    "tags": []
   },
   "outputs": [],
   "source": [
    "df = pd.read_sql(\"select * from EBAY_TOP_BERLIN where record_time in (select distinct record_time from EBAY_TOP_BERLIN order by record_time desc limit 2)\", sqlite3.connect(\"UsedObjects.db\"))"
   ]
  },
  {
   "cell_type": "code",
   "execution_count": 5,
   "id": "popular-active",
   "metadata": {
    "execution": {
     "iopub.execute_input": "2021-09-07T14:00:08.940467Z",
     "iopub.status.busy": "2021-09-07T14:00:08.929950Z",
     "iopub.status.idle": "2021-09-07T14:00:08.957037Z",
     "shell.execute_reply": "2021-09-07T14:00:08.958224Z"
    },
    "papermill": {
     "duration": 0.071346,
     "end_time": "2021-09-07T14:00:08.958616",
     "exception": false,
     "start_time": "2021-09-07T14:00:08.887270",
     "status": "completed"
    },
    "tags": []
   },
   "outputs": [],
   "source": [
    "df_pivot = df.pivot_table(index=\"PRODUCT\", columns = \"RECORD_TIME\", values = \"LISTING_COUNT\")"
   ]
  },
  {
   "cell_type": "code",
   "execution_count": 6,
   "id": "union-huntington",
   "metadata": {
    "execution": {
     "iopub.execute_input": "2021-09-07T14:00:09.016189Z",
     "iopub.status.busy": "2021-09-07T14:00:09.013965Z",
     "iopub.status.idle": "2021-09-07T14:00:09.019811Z",
     "shell.execute_reply": "2021-09-07T14:00:09.021386Z"
    },
    "papermill": {
     "duration": 0.041631,
     "end_time": "2021-09-07T14:00:09.021863",
     "exception": false,
     "start_time": "2021-09-07T14:00:08.980232",
     "status": "completed"
    },
    "tags": []
   },
   "outputs": [],
   "source": [
    "df_pivot.columns = [\"stamp_1\", \"stamp_2\"]\n",
    "df_pivot_diff = df_pivot.diff(axis=1)"
   ]
  },
  {
   "cell_type": "code",
   "execution_count": 7,
   "id": "fifth-motion",
   "metadata": {
    "execution": {
     "iopub.execute_input": "2021-09-07T14:00:09.077567Z",
     "iopub.status.busy": "2021-09-07T14:00:09.074806Z",
     "iopub.status.idle": "2021-09-07T14:00:10.545310Z",
     "shell.execute_reply": "2021-09-07T14:00:10.546576Z"
    },
    "papermill": {
     "duration": 1.503969,
     "end_time": "2021-09-07T14:00:10.547220",
     "exception": false,
     "start_time": "2021-09-07T14:00:09.043251",
     "status": "completed"
    },
    "tags": []
   },
   "outputs": [
    {
     "data": {
      "text/plain": [
       "<AxesSubplot:ylabel='PRODUCT'>"
      ]
     },
     "execution_count": 7,
     "metadata": {},
     "output_type": "execute_result"
    },
    {
     "data": {
      "image/png": "[encoded data removed]",
      "text/plain": [
       "<Figure size 432x288 with 1 Axes>"
      ]
     },
     "metadata": {
      "needs_background": "light"
     },
     "output_type": "display_data"
    }
   ],
   "source": [
    "df_pivot_diff.sort_values(\"stamp_2\", ascending = False)[\"stamp_2\"].head(10).plot.barh()"
   ]
  },
  {
   "cell_type": "code",
   "execution_count": null,
   "id": "extra-executive",
   "metadata": {
    "papermill": {
     "duration": 0.022092,
     "end_time": "2021-09-07T14:00:10.595209",
     "exception": false,
     "start_time": "2021-09-07T14:00:10.573117",
     "status": "completed"
    },
    "tags": []
   },
   "outputs": [],
   "source": []
  }
 ],
 "metadata": {
  "kernelspec": {
   "display_name": "Python 3",
   "language": "python",
   "name": "python3"
  },
  "language_info": {
   "codemirror_mode": {
    "name": "ipython",
    "version": 3
   },
   "file_extension": ".py",
   "mimetype": "text/x-python",
   "name": "python",
   "nbconvert_exporter": "python",
   "pygments_lexer": "ipython3",
   "version": "3.9.5"
  },
  "papermill": {
   "default_parameters": {},
   "duration": 6.424128,
   "end_time": "2021-09-07T14:00:11.235955",
   "environment_variables": {},
   "exception": null,
   "input_path": "eBay_Overview.ipynb",
   "output_path": "eBay_Overview.ipynb",
   "parameters": {},
   "start_time": "2021-09-07T14:00:04.811827",
   "version": "2.3.3"
  }
 },
 "nbformat": 4,
 "nbformat_minor": 5
}