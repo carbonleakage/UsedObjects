{
 "cells": [
  {
   "cell_type": "code",
   "execution_count": 1,
   "id": "reverse-picking",
   "metadata": {
    "execution": {
     "iopub.execute_input": "2021-12-18T17:30:08.179167Z",
     "iopub.status.busy": "2021-12-18T17:30:08.176981Z",
     "iopub.status.idle": "2021-12-18T17:30:09.146131Z",
     "shell.execute_reply": "2021-12-18T17:30:09.147682Z"
    },
    "papermill": {
     "duration": 1.020043,
     "end_time": "2021-12-18T17:30:09.148415",
     "exception": false,
     "start_time": "2021-12-18T17:30:08.128372",
     "status": "completed"
    },
    "tags": []
   },
   "outputs": [],
   "source": [
    "import pandas as pd\n",
    "import sqlite3"
   ]
  },
  {
   "cell_type": "code",
   "execution_count": 2,
   "id": "innovative-syndrome",
   "metadata": {
    "execution": {
     "iopub.execute_input": "2021-12-18T17:30:09.210580Z",
     "iopub.status.busy": "2021-12-18T17:30:09.208154Z",
     "iopub.status.idle": "2021-12-18T17:30:10.339567Z",
     "shell.execute_reply": "2021-12-18T17:30:10.341023Z"
    },
    "papermill": {
     "duration": 1.165909,
     "end_time": "2021-12-18T17:30:10.341546",
     "exception": false,
     "start_time": "2021-12-18T17:30:09.175637",
     "status": "completed"
    },
    "tags": []
   },
   "outputs": [],
   "source": [
    "timestamps = pd.read_sql(\"select distinct record_time from EBAY_TOP_BERLIN order by record_time desc limit 2\", sqlite3.connect(\"UsedObjects.db\"))"
   ]
  },
  {
   "cell_type": "code",
   "execution_count": 3,
   "id": "periodic-identification",
   "metadata": {
    "execution": {
     "iopub.execute_input": "2021-12-18T17:30:10.431765Z",
     "iopub.status.busy": "2021-12-18T17:30:10.429453Z",
     "iopub.status.idle": "2021-12-18T17:30:10.452655Z",
     "shell.execute_reply": "2021-12-18T17:30:10.454162Z"
    },
    "papermill": {
     "duration": 0.075305,
     "end_time": "2021-12-18T17:30:10.454668",
     "exception": false,
     "start_time": "2021-12-18T17:30:10.379363",
     "status": "completed"
    },
    "tags": []
   },
   "outputs": [
    {
     "data": {
      "text/html": [
       "<div>\n",
       "<style scoped>\n",
       "    .dataframe tbody tr th:only-of-type {\n",
       "        vertical-align: middle;\n",
       "    }\n",
       "\n",
       "    .dataframe tbody tr th {\n",
       "        vertical-align: top;\n",
       "    }\n",
       "\n",
       "    .dataframe thead th {\n",
       "        text-align: right;\n",
       "    }\n",
       "</style>\n",
       "<table border=\"1\" class=\"dataframe\">\n",
       "  <thead>\n",
       "    <tr style=\"text-align: right;\">\n",
       "      <th></th>\n",
       "      <th>RECORD_TIME</th>\n",
       "    </tr>\n",
       "  </thead>\n",
       "  <tbody>\n",
       "    <tr>\n",
       "      <th>0</th>\n",
       "      <td>2021-12-18 18:30</td>\n",
       "    </tr>\n",
       "    <tr>\n",
       "      <th>1</th>\n",
       "      <td>2021-12-18 18:00</td>\n",
       "    </tr>\n",
       "  </tbody>\n",
       "</table>\n",
       "</div>"
      ],
      "text/plain": [
       "        RECORD_TIME\n",
       "0  2021-12-18 18:30\n",
       "1  2021-12-18 18:00"
      ]
     },
     "execution_count": 3,
     "metadata": {},
     "output_type": "execute_result"
    }
   ],
   "source": [
    "timestamps"
   ]
  },
  {
   "cell_type": "code",
   "execution_count": 4,
   "id": "alternate-victory",
   "metadata": {
    "execution": {
     "iopub.execute_input": "2021-12-18T17:30:10.510999Z",
     "iopub.status.busy": "2021-12-18T17:30:10.508555Z",
     "iopub.status.idle": "2021-12-18T17:30:12.107085Z",
     "shell.execute_reply": "2021-12-18T17:30:12.108868Z"
    },
    "papermill": {
     "duration": 1.633515,
     "end_time": "2021-12-18T17:30:12.109367",
     "exception": false,
     "start_time": "2021-12-18T17:30:10.475852",
     "status": "completed"
    },
    "tags": []
   },
   "outputs": [],
   "source": [
    "df = pd.read_sql(\"select * from EBAY_TOP_BERLIN where record_time in (select distinct record_time from EBAY_TOP_BERLIN order by record_time desc limit 2)\", sqlite3.connect(\"UsedObjects.db\"))"
   ]
  },
  {
   "cell_type": "code",
   "execution_count": 5,
   "id": "popular-active",
   "metadata": {
    "execution": {
     "iopub.execute_input": "2021-12-18T17:30:12.187804Z",
     "iopub.status.busy": "2021-12-18T17:30:12.174895Z",
     "iopub.status.idle": "2021-12-18T17:30:12.205569Z",
     "shell.execute_reply": "2021-12-18T17:30:12.207118Z"
    },
    "papermill": {
     "duration": 0.075815,
     "end_time": "2021-12-18T17:30:12.207807",
     "exception": false,
     "start_time": "2021-12-18T17:30:12.131992",
     "status": "completed"
    },
    "tags": []
   },
   "outputs": [],
   "source": [
    "df_pivot = df.pivot_table(index=\"PRODUCT\", columns = \"RECORD_TIME\", values = \"LISTING_COUNT\")"
   ]
  },
  {
   "cell_type": "code",
   "execution_count": 6,
   "id": "union-huntington",
   "metadata": {
    "execution": {
     "iopub.execute_input": "2021-12-18T17:30:12.266603Z",
     "iopub.status.busy": "2021-12-18T17:30:12.263427Z",
     "iopub.status.idle": "2021-12-18T17:30:12.269765Z",
     "shell.execute_reply": "2021-12-18T17:30:12.271329Z"
    },
    "papermill": {
     "duration": 0.044147,
     "end_time": "2021-12-18T17:30:12.271812",
     "exception": false,
     "start_time": "2021-12-18T17:30:12.227665",
     "status": "completed"
    },
    "tags": []
   },
   "outputs": [],
   "source": [
    "df_pivot.columns = [\"stamp_1\", \"stamp_2\"]\n",
    "df_pivot_diff = df_pivot.diff(axis=1)"
   ]
  },
  {
   "cell_type": "code",
   "execution_count": 7,
   "id": "fifth-motion",
   "metadata": {
    "execution": {
     "iopub.execute_input": "2021-12-18T17:30:12.331935Z",
     "iopub.status.busy": "2021-12-18T17:30:12.329398Z",
     "iopub.status.idle": "2021-12-18T17:30:14.303075Z",
     "shell.execute_reply": "2021-12-18T17:30:14.304392Z"
    },
    "papermill": {
     "duration": 2.011597,
     "end_time": "2021-12-18T17:30:14.304902",
     "exception": false,
     "start_time": "2021-12-18T17:30:12.293305",
     "status": "completed"
    },
    "tags": []
   },
   "outputs": [
    {
     "data": {
      "text/plain": [
       "<AxesSubplot:ylabel='PRODUCT'>"
      ]
     },
     "execution_count": 7,
     "metadata": {},
     "output_type": "execute_result"
    },
    {
     "data": {
      "image/png": "[encoded data removed]",
      "text/plain": [
       "<Figure size 432x288 with 1 Axes>"
      ]
     },
     "metadata": {
      "needs_background": "light"
     },
     "output_type": "display_data"
    }
   ],
   "source": [
    "df_pivot_diff.sort_values(\"stamp_2\", ascending = False)[\"stamp_2\"].head(10).plot.barh()"
   ]
  },
  {
   "cell_type": "code",
   "execution_count": null,
   "id": "extra-executive",
   "metadata": {
    "papermill": {
     "duration": 0.022279,
     "end_time": "2021-12-18T17:30:14.352772",
     "exception": false,
     "start_time": "2021-12-18T17:30:14.330493",
     "status": "completed"
    },
    "tags": []
   },
   "outputs": [],
   "source": []
  }
 ],
 "metadata": {
  "kernelspec": {
   "display_name": "Python 3",
   "language": "python",
   "name": "python3"
  },
  "language_info": {
   "codemirror_mode": {
    "name": "ipython",
    "version": 3
   },
   "file_extension": ".py",
   "mimetype": "text/x-python",
   "name": "python",
   "nbconvert_exporter": "python",
   "pygments_lexer": "ipython3",
   "version": "3.9.5"
  },
  "papermill": {
   "default_parameters": {},
   "duration": 9.618554,
   "end_time": "2021-12-18T17:30:14.996861",
   "environment_variables": {},
   "exception": null,
   "input_path": "eBay_Overview.ipynb",
   "output_path": "eBay_Overview.ipynb",
   "parameters": {},
   "start_time": "2021-12-18T17:30:05.378307",
   "version": "2.3.3"
  }
 },
 "nbformat": 4,
 "nbformat_minor": 5
}