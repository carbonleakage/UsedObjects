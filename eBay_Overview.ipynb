{
 "cells": [
  {
   "cell_type": "code",
   "execution_count": 1,
   "id": "reverse-picking",
   "metadata": {
    "execution": {
     "iopub.execute_input": "2021-10-03T22:00:06.872219Z",
     "iopub.status.busy": "2021-10-03T22:00:06.870171Z",
     "iopub.status.idle": "2021-10-03T22:00:07.673330Z",
     "shell.execute_reply": "2021-10-03T22:00:07.674578Z"
    },
    "papermill": {
     "duration": 0.853455,
     "end_time": "2021-10-03T22:00:07.675274",
     "exception": false,
     "start_time": "2021-10-03T22:00:06.821819",
     "status": "completed"
    },
    "tags": []
   },
   "outputs": [],
   "source": [
    "import pandas as pd\n",
    "import sqlite3"
   ]
  },
  {
   "cell_type": "code",
   "execution_count": 2,
   "id": "innovative-syndrome",
   "metadata": {
    "execution": {
     "iopub.execute_input": "2021-10-03T22:00:07.727228Z",
     "iopub.status.busy": "2021-10-03T22:00:07.725239Z",
     "iopub.status.idle": "2021-10-03T22:00:08.181233Z",
     "shell.execute_reply": "2021-10-03T22:00:08.182432Z"
    },
    "papermill": {
     "duration": 0.48532,
     "end_time": "2021-10-03T22:00:08.182877",
     "exception": false,
     "start_time": "2021-10-03T22:00:07.697557",
     "status": "completed"
    },
    "tags": []
   },
   "outputs": [],
   "source": [
    "timestamps = pd.read_sql(\"select distinct record_time from EBAY_TOP_BERLIN order by record_time desc limit 2\", sqlite3.connect(\"UsedObjects.db\"))"
   ]
  },
  {
   "cell_type": "code",
   "execution_count": 3,
   "id": "periodic-identification",
   "metadata": {
    "execution": {
     "iopub.execute_input": "2021-10-03T22:00:08.247187Z",
     "iopub.status.busy": "2021-10-03T22:00:08.245076Z",
     "iopub.status.idle": "2021-10-03T22:00:08.265261Z",
     "shell.execute_reply": "2021-10-03T22:00:08.266621Z"
    },
    "papermill": {
     "duration": 0.065122,
     "end_time": "2021-10-03T22:00:08.267120",
     "exception": false,
     "start_time": "2021-10-03T22:00:08.201998",
     "status": "completed"
    },
    "tags": []
   },
   "outputs": [
    {
     "data": {
      "text/html": [
       "<div>\n",
       "<style scoped>\n",
       "    .dataframe tbody tr th:only-of-type {\n",
       "        vertical-align: middle;\n",
       "    }\n",
       "\n",
       "    .dataframe tbody tr th {\n",
       "        vertical-align: top;\n",
       "    }\n",
       "\n",
       "    .dataframe thead th {\n",
       "        text-align: right;\n",
       "    }\n",
       "</style>\n",
       "<table border=\"1\" class=\"dataframe\">\n",
       "  <thead>\n",
       "    <tr style=\"text-align: right;\">\n",
       "      <th></th>\n",
       "      <th>RECORD_TIME</th>\n",
       "    </tr>\n",
       "  </thead>\n",
       "  <tbody>\n",
       "    <tr>\n",
       "      <th>0</th>\n",
       "      <td>2021-10-04 00:00</td>\n",
       "    </tr>\n",
       "    <tr>\n",
       "      <th>1</th>\n",
       "      <td>2021-10-03 23:30</td>\n",
       "    </tr>\n",
       "  </tbody>\n",
       "</table>\n",
       "</div>"
      ],
      "text/plain": [
       "        RECORD_TIME\n",
       "0  2021-10-04 00:00\n",
       "1  2021-10-03 23:30"
      ]
     },
     "execution_count": 3,
     "metadata": {},
     "output_type": "execute_result"
    }
   ],
   "source": [
    "timestamps"
   ]
  },
  {
   "cell_type": "code",
   "execution_count": 4,
   "id": "alternate-victory",
   "metadata": {
    "execution": {
     "iopub.execute_input": "2021-10-03T22:00:08.333169Z",
     "iopub.status.busy": "2021-10-03T22:00:08.330875Z",
     "iopub.status.idle": "2021-10-03T22:00:08.981218Z",
     "shell.execute_reply": "2021-10-03T22:00:08.982421Z"
    },
    "papermill": {
     "duration": 0.694873,
     "end_time": "2021-10-03T22:00:08.982865",
     "exception": false,
     "start_time": "2021-10-03T22:00:08.287992",
     "status": "completed"
    },
    "tags": []
   },
   "outputs": [],
   "source": [
    "df = pd.read_sql(\"select * from EBAY_TOP_BERLIN where record_time in (select distinct record_time from EBAY_TOP_BERLIN order by record_time desc limit 2)\", sqlite3.connect(\"UsedObjects.db\"))"
   ]
  },
  {
   "cell_type": "code",
   "execution_count": 5,
   "id": "popular-active",
   "metadata": {
    "execution": {
     "iopub.execute_input": "2021-10-03T22:00:09.052539Z",
     "iopub.status.busy": "2021-10-03T22:00:09.040246Z",
     "iopub.status.idle": "2021-10-03T22:00:09.069321Z",
     "shell.execute_reply": "2021-10-03T22:00:09.070602Z"
    },
    "papermill": {
     "duration": 0.067874,
     "end_time": "2021-10-03T22:00:09.071077",
     "exception": false,
     "start_time": "2021-10-03T22:00:09.003203",
     "status": "completed"
    },
    "tags": []
   },
   "outputs": [],
   "source": [
    "df_pivot = df.pivot_table(index=\"PRODUCT\", columns = \"RECORD_TIME\", values = \"LISTING_COUNT\")"
   ]
  },
  {
   "cell_type": "code",
   "execution_count": 6,
   "id": "union-huntington",
   "metadata": {
    "execution": {
     "iopub.execute_input": "2021-10-03T22:00:09.126692Z",
     "iopub.status.busy": "2021-10-03T22:00:09.124649Z",
     "iopub.status.idle": "2021-10-03T22:00:09.129944Z",
     "shell.execute_reply": "2021-10-03T22:00:09.131299Z"
    },
    "papermill": {
     "duration": 0.040712,
     "end_time": "2021-10-03T22:00:09.131728",
     "exception": false,
     "start_time": "2021-10-03T22:00:09.091016",
     "status": "completed"
    },
    "tags": []
   },
   "outputs": [],
   "source": [
    "df_pivot.columns = [\"stamp_1\", \"stamp_2\"]\n",
    "df_pivot_diff = df_pivot.diff(axis=1)"
   ]
  },
  {
   "cell_type": "code",
   "execution_count": 7,
   "id": "fifth-motion",
   "metadata": {
    "execution": {
     "iopub.execute_input": "2021-10-03T22:00:09.185084Z",
     "iopub.status.busy": "2021-10-03T22:00:09.182619Z",
     "iopub.status.idle": "2021-10-03T22:00:10.679690Z",
     "shell.execute_reply": "2021-10-03T22:00:10.681002Z"
    },
    "papermill": {
     "duration": 1.529458,
     "end_time": "2021-10-03T22:00:10.681426",
     "exception": false,
     "start_time": "2021-10-03T22:00:09.151968",
     "status": "completed"
    },
    "tags": []
   },
   "outputs": [
    {
     "data": {
      "text/plain": [
       "<AxesSubplot:ylabel='PRODUCT'>"
      ]
     },
     "execution_count": 7,
     "metadata": {},
     "output_type": "execute_result"
    },
    {
     "data": {
      "image/png": "[encoded data removed]",
      "text/plain": [
       "<Figure size 432x288 with 1 Axes>"
      ]
     },
     "metadata": {
      "needs_background": "light"
     },
     "output_type": "display_data"
    }
   ],
   "source": [
    "df_pivot_diff.sort_values(\"stamp_2\", ascending = False)[\"stamp_2\"].head(10).plot.barh()"
   ]
  },
  {
   "cell_type": "code",
   "execution_count": null,
   "id": "extra-executive",
   "metadata": {
    "papermill": {
     "duration": 0.021884,
     "end_time": "2021-10-03T22:00:10.726911",
     "exception": false,
     "start_time": "2021-10-03T22:00:10.705027",
     "status": "completed"
    },
    "tags": []
   },
   "outputs": [],
   "source": []
  }
 ],
 "metadata": {
  "kernelspec": {
   "display_name": "Python 3",
   "language": "python",
   "name": "python3"
  },
  "language_info": {
   "codemirror_mode": {
    "name": "ipython",
    "version": 3
   },
   "file_extension": ".py",
   "mimetype": "text/x-python",
   "name": "python",
   "nbconvert_exporter": "python",
   "pygments_lexer": "ipython3",
   "version": "3.9.5"
  },
  "papermill": {
   "default_parameters": {},
   "duration": 7.822419,
   "end_time": "2021-10-03T22:00:12.240747",
   "environment_variables": {},
   "exception": null,
   "input_path": "eBay_Overview.ipynb",
   "output_path": "eBay_Overview.ipynb",
   "parameters": {},
   "start_time": "2021-10-03T22:00:04.418328",
   "version": "2.3.3"
  }
 },
 "nbformat": 4,
 "nbformat_minor": 5
}