{
 "cells": [
  {
   "cell_type": "code",
   "execution_count": 1,
   "id": "reverse-picking",
   "metadata": {
    "execution": {
     "iopub.execute_input": "2021-09-15T14:30:07.556896Z",
     "iopub.status.busy": "2021-09-15T14:30:07.554960Z",
     "iopub.status.idle": "2021-09-15T14:30:08.361664Z",
     "shell.execute_reply": "2021-09-15T14:30:08.363105Z"
    },
    "papermill": {
     "duration": 0.858421,
     "end_time": "2021-09-15T14:30:08.363755",
     "exception": false,
     "start_time": "2021-09-15T14:30:07.505334",
     "status": "completed"
    },
    "tags": []
   },
   "outputs": [],
   "source": [
    "import pandas as pd\n",
    "import sqlite3"
   ]
  },
  {
   "cell_type": "code",
   "execution_count": 2,
   "id": "innovative-syndrome",
   "metadata": {
    "execution": {
     "iopub.execute_input": "2021-09-15T14:30:08.416819Z",
     "iopub.status.busy": "2021-09-15T14:30:08.414398Z",
     "iopub.status.idle": "2021-09-15T14:30:08.709049Z",
     "shell.execute_reply": "2021-09-15T14:30:08.710163Z"
    },
    "papermill": {
     "duration": 0.324568,
     "end_time": "2021-09-15T14:30:08.710568",
     "exception": false,
     "start_time": "2021-09-15T14:30:08.386000",
     "status": "completed"
    },
    "tags": []
   },
   "outputs": [],
   "source": [
    "timestamps = pd.read_sql(\"select distinct record_time from EBAY_TOP_BERLIN order by record_time desc limit 2\", sqlite3.connect(\"UsedObjects.db\"))"
   ]
  },
  {
   "cell_type": "code",
   "execution_count": 3,
   "id": "periodic-identification",
   "metadata": {
    "execution": {
     "iopub.execute_input": "2021-09-15T14:30:08.779101Z",
     "iopub.status.busy": "2021-09-15T14:30:08.776991Z",
     "iopub.status.idle": "2021-09-15T14:30:08.796951Z",
     "shell.execute_reply": "2021-09-15T14:30:08.798245Z"
    },
    "papermill": {
     "duration": 0.066355,
     "end_time": "2021-09-15T14:30:08.798658",
     "exception": false,
     "start_time": "2021-09-15T14:30:08.732303",
     "status": "completed"
    },
    "tags": []
   },
   "outputs": [
    {
     "data": {
      "text/html": [
       "<div>\n",
       "<style scoped>\n",
       "    .dataframe tbody tr th:only-of-type {\n",
       "        vertical-align: middle;\n",
       "    }\n",
       "\n",
       "    .dataframe tbody tr th {\n",
       "        vertical-align: top;\n",
       "    }\n",
       "\n",
       "    .dataframe thead th {\n",
       "        text-align: right;\n",
       "    }\n",
       "</style>\n",
       "<table border=\"1\" class=\"dataframe\">\n",
       "  <thead>\n",
       "    <tr style=\"text-align: right;\">\n",
       "      <th></th>\n",
       "      <th>RECORD_TIME</th>\n",
       "    </tr>\n",
       "  </thead>\n",
       "  <tbody>\n",
       "    <tr>\n",
       "      <th>0</th>\n",
       "      <td>2021-09-15 16:30</td>\n",
       "    </tr>\n",
       "    <tr>\n",
       "      <th>1</th>\n",
       "      <td>2021-09-15 16:00</td>\n",
       "    </tr>\n",
       "  </tbody>\n",
       "</table>\n",
       "</div>"
      ],
      "text/plain": [
       "        RECORD_TIME\n",
       "0  2021-09-15 16:30\n",
       "1  2021-09-15 16:00"
      ]
     },
     "execution_count": 3,
     "metadata": {},
     "output_type": "execute_result"
    }
   ],
   "source": [
    "timestamps"
   ]
  },
  {
   "cell_type": "code",
   "execution_count": 4,
   "id": "alternate-victory",
   "metadata": {
    "execution": {
     "iopub.execute_input": "2021-09-15T14:30:08.850391Z",
     "iopub.status.busy": "2021-09-15T14:30:08.848549Z",
     "iopub.status.idle": "2021-09-15T14:30:09.274406Z",
     "shell.execute_reply": "2021-09-15T14:30:09.275768Z"
    },
    "papermill": {
     "duration": 0.455979,
     "end_time": "2021-09-15T14:30:09.276193",
     "exception": false,
     "start_time": "2021-09-15T14:30:08.820214",
     "status": "completed"
    },
    "tags": []
   },
   "outputs": [],
   "source": [
    "df = pd.read_sql(\"select * from EBAY_TOP_BERLIN where record_time in (select distinct record_time from EBAY_TOP_BERLIN order by record_time desc limit 2)\", sqlite3.connect(\"UsedObjects.db\"))"
   ]
  },
  {
   "cell_type": "code",
   "execution_count": 5,
   "id": "popular-active",
   "metadata": {
    "execution": {
     "iopub.execute_input": "2021-09-15T14:30:09.357300Z",
     "iopub.status.busy": "2021-09-15T14:30:09.345870Z",
     "iopub.status.idle": "2021-09-15T14:30:09.372704Z",
     "shell.execute_reply": "2021-09-15T14:30:09.373919Z"
    },
    "papermill": {
     "duration": 0.072149,
     "end_time": "2021-09-15T14:30:09.374320",
     "exception": false,
     "start_time": "2021-09-15T14:30:09.302171",
     "status": "completed"
    },
    "tags": []
   },
   "outputs": [],
   "source": [
    "df_pivot = df.pivot_table(index=\"PRODUCT\", columns = \"RECORD_TIME\", values = \"LISTING_COUNT\")"
   ]
  },
  {
   "cell_type": "code",
   "execution_count": 6,
   "id": "union-huntington",
   "metadata": {
    "execution": {
     "iopub.execute_input": "2021-09-15T14:30:09.433905Z",
     "iopub.status.busy": "2021-09-15T14:30:09.431439Z",
     "iopub.status.idle": "2021-09-15T14:30:09.437088Z",
     "shell.execute_reply": "2021-09-15T14:30:09.438281Z"
    },
    "papermill": {
     "duration": 0.042199,
     "end_time": "2021-09-15T14:30:09.438711",
     "exception": false,
     "start_time": "2021-09-15T14:30:09.396512",
     "status": "completed"
    },
    "tags": []
   },
   "outputs": [],
   "source": [
    "df_pivot.columns = [\"stamp_1\", \"stamp_2\"]\n",
    "df_pivot_diff = df_pivot.diff(axis=1)"
   ]
  },
  {
   "cell_type": "code",
   "execution_count": 7,
   "id": "fifth-motion",
   "metadata": {
    "execution": {
     "iopub.execute_input": "2021-09-15T14:30:09.493342Z",
     "iopub.status.busy": "2021-09-15T14:30:09.491047Z",
     "iopub.status.idle": "2021-09-15T14:30:10.985999Z",
     "shell.execute_reply": "2021-09-15T14:30:10.987425Z"
    },
    "papermill": {
     "duration": 1.528608,
     "end_time": "2021-09-15T14:30:10.987874",
     "exception": false,
     "start_time": "2021-09-15T14:30:09.459266",
     "status": "completed"
    },
    "tags": []
   },
   "outputs": [
    {
     "data": {
      "text/plain": [
       "<AxesSubplot:ylabel='PRODUCT'>"
      ]
     },
     "execution_count": 7,
     "metadata": {},
     "output_type": "execute_result"
    },
    {
     "data": {
      "image/png": "[encoded data removed]",
      "text/plain": [
       "<Figure size 432x288 with 1 Axes>"
      ]
     },
     "metadata": {
      "needs_background": "light"
     },
     "output_type": "display_data"
    }
   ],
   "source": [
    "df_pivot_diff.sort_values(\"stamp_2\", ascending = False)[\"stamp_2\"].head(10).plot.barh()"
   ]
  },
  {
   "cell_type": "code",
   "execution_count": null,
   "id": "extra-executive",
   "metadata": {
    "papermill": {
     "duration": 0.022261,
     "end_time": "2021-09-15T14:30:11.033914",
     "exception": false,
     "start_time": "2021-09-15T14:30:11.011653",
     "status": "completed"
    },
    "tags": []
   },
   "outputs": [],
   "source": []
  }
 ],
 "metadata": {
  "kernelspec": {
   "display_name": "Python 3",
   "language": "python",
   "name": "python3"
  },
  "language_info": {
   "codemirror_mode": {
    "name": "ipython",
    "version": 3
   },
   "file_extension": ".py",
   "mimetype": "text/x-python",
   "name": "python",
   "nbconvert_exporter": "python",
   "pygments_lexer": "ipython3",
   "version": "3.9.5"
  },
  "papermill": {
   "default_parameters": {},
   "duration": 6.579451,
   "end_time": "2021-09-15T14:30:11.675651",
   "environment_variables": {},
   "exception": null,
   "input_path": "eBay_Overview.ipynb",
   "output_path": "eBay_Overview.ipynb",
   "parameters": {},
   "start_time": "2021-09-15T14:30:05.096200",
   "version": "2.3.3"
  }
 },
 "nbformat": 4,
 "nbformat_minor": 5
}