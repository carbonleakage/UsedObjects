{
 "cells": [
  {
   "cell_type": "code",
   "execution_count": 1,
   "id": "reverse-picking",
   "metadata": {
    "execution": {
     "iopub.execute_input": "2021-12-18T21:30:07.381011Z",
     "iopub.status.busy": "2021-12-18T21:30:07.378730Z",
     "iopub.status.idle": "2021-12-18T21:30:08.338765Z",
     "shell.execute_reply": "2021-12-18T21:30:08.340176Z"
    },
    "papermill": {
     "duration": 1.010469,
     "end_time": "2021-12-18T21:30:08.340965",
     "exception": false,
     "start_time": "2021-12-18T21:30:07.330496",
     "status": "completed"
    },
    "tags": []
   },
   "outputs": [],
   "source": [
    "import pandas as pd\n",
    "import sqlite3"
   ]
  },
  {
   "cell_type": "code",
   "execution_count": 2,
   "id": "innovative-syndrome",
   "metadata": {
    "execution": {
     "iopub.execute_input": "2021-12-18T21:30:08.408433Z",
     "iopub.status.busy": "2021-12-18T21:30:08.404407Z",
     "iopub.status.idle": "2021-12-18T21:30:09.514823Z",
     "shell.execute_reply": "2021-12-18T21:30:09.516547Z"
    },
    "papermill": {
     "duration": 1.144891,
     "end_time": "2021-12-18T21:30:09.517253",
     "exception": false,
     "start_time": "2021-12-18T21:30:08.372362",
     "status": "completed"
    },
    "tags": []
   },
   "outputs": [],
   "source": [
    "timestamps = pd.read_sql(\"select distinct record_time from EBAY_TOP_BERLIN order by record_time desc limit 2\", sqlite3.connect(\"UsedObjects.db\"))"
   ]
  },
  {
   "cell_type": "code",
   "execution_count": 3,
   "id": "periodic-identification",
   "metadata": {
    "execution": {
     "iopub.execute_input": "2021-12-18T21:30:09.597364Z",
     "iopub.status.busy": "2021-12-18T21:30:09.590964Z",
     "iopub.status.idle": "2021-12-18T21:30:09.614226Z",
     "shell.execute_reply": "2021-12-18T21:30:09.615687Z"
    },
    "papermill": {
     "duration": 0.076136,
     "end_time": "2021-12-18T21:30:09.616217",
     "exception": false,
     "start_time": "2021-12-18T21:30:09.540081",
     "status": "completed"
    },
    "tags": []
   },
   "outputs": [
    {
     "data": {
      "text/html": [
       "<div>\n",
       "<style scoped>\n",
       "    .dataframe tbody tr th:only-of-type {\n",
       "        vertical-align: middle;\n",
       "    }\n",
       "\n",
       "    .dataframe tbody tr th {\n",
       "        vertical-align: top;\n",
       "    }\n",
       "\n",
       "    .dataframe thead th {\n",
       "        text-align: right;\n",
       "    }\n",
       "</style>\n",
       "<table border=\"1\" class=\"dataframe\">\n",
       "  <thead>\n",
       "    <tr style=\"text-align: right;\">\n",
       "      <th></th>\n",
       "      <th>RECORD_TIME</th>\n",
       "    </tr>\n",
       "  </thead>\n",
       "  <tbody>\n",
       "    <tr>\n",
       "      <th>0</th>\n",
       "      <td>2021-12-18 22:30</td>\n",
       "    </tr>\n",
       "    <tr>\n",
       "      <th>1</th>\n",
       "      <td>2021-12-18 22:00</td>\n",
       "    </tr>\n",
       "  </tbody>\n",
       "</table>\n",
       "</div>"
      ],
      "text/plain": [
       "        RECORD_TIME\n",
       "0  2021-12-18 22:30\n",
       "1  2021-12-18 22:00"
      ]
     },
     "execution_count": 3,
     "metadata": {},
     "output_type": "execute_result"
    }
   ],
   "source": [
    "timestamps"
   ]
  },
  {
   "cell_type": "code",
   "execution_count": 4,
   "id": "alternate-victory",
   "metadata": {
    "execution": {
     "iopub.execute_input": "2021-12-18T21:30:09.671403Z",
     "iopub.status.busy": "2021-12-18T21:30:09.667212Z",
     "iopub.status.idle": "2021-12-18T21:30:11.274175Z",
     "shell.execute_reply": "2021-12-18T21:30:11.275643Z"
    },
    "papermill": {
     "duration": 1.638781,
     "end_time": "2021-12-18T21:30:11.276106",
     "exception": false,
     "start_time": "2021-12-18T21:30:09.637325",
     "status": "completed"
    },
    "tags": []
   },
   "outputs": [],
   "source": [
    "df = pd.read_sql(\"select * from EBAY_TOP_BERLIN where record_time in (select distinct record_time from EBAY_TOP_BERLIN order by record_time desc limit 2)\", sqlite3.connect(\"UsedObjects.db\"))"
   ]
  },
  {
   "cell_type": "code",
   "execution_count": 5,
   "id": "popular-active",
   "metadata": {
    "execution": {
     "iopub.execute_input": "2021-12-18T21:30:11.346243Z",
     "iopub.status.busy": "2021-12-18T21:30:11.336175Z",
     "iopub.status.idle": "2021-12-18T21:30:11.369726Z",
     "shell.execute_reply": "2021-12-18T21:30:11.371198Z"
    },
    "papermill": {
     "duration": 0.074656,
     "end_time": "2021-12-18T21:30:11.371658",
     "exception": false,
     "start_time": "2021-12-18T21:30:11.297002",
     "status": "completed"
    },
    "tags": []
   },
   "outputs": [],
   "source": [
    "df_pivot = df.pivot_table(index=\"PRODUCT\", columns = \"RECORD_TIME\", values = \"LISTING_COUNT\")"
   ]
  },
  {
   "cell_type": "code",
   "execution_count": 6,
   "id": "union-huntington",
   "metadata": {
    "execution": {
     "iopub.execute_input": "2021-12-18T21:30:11.435550Z",
     "iopub.status.busy": "2021-12-18T21:30:11.433165Z",
     "iopub.status.idle": "2021-12-18T21:30:11.439093Z",
     "shell.execute_reply": "2021-12-18T21:30:11.440618Z"
    },
    "papermill": {
     "duration": 0.04865,
     "end_time": "2021-12-18T21:30:11.441230",
     "exception": false,
     "start_time": "2021-12-18T21:30:11.392580",
     "status": "completed"
    },
    "tags": []
   },
   "outputs": [],
   "source": [
    "df_pivot.columns = [\"stamp_1\", \"stamp_2\"]\n",
    "df_pivot_diff = df_pivot.diff(axis=1)"
   ]
  },
  {
   "cell_type": "code",
   "execution_count": 7,
   "id": "fifth-motion",
   "metadata": {
    "execution": {
     "iopub.execute_input": "2021-12-18T21:30:11.506544Z",
     "iopub.status.busy": "2021-12-18T21:30:11.503701Z",
     "iopub.status.idle": "2021-12-18T21:30:13.490514Z",
     "shell.execute_reply": "2021-12-18T21:30:13.492332Z"
    },
    "papermill": {
     "duration": 2.030118,
     "end_time": "2021-12-18T21:30:13.493104",
     "exception": false,
     "start_time": "2021-12-18T21:30:11.462986",
     "status": "completed"
    },
    "tags": []
   },
   "outputs": [
    {
     "data": {
      "text/plain": [
       "<AxesSubplot:ylabel='PRODUCT'>"
      ]
     },
     "execution_count": 7,
     "metadata": {},
     "output_type": "execute_result"
    },
    {
     "data": {
      "image/png": "[encoded data removed]",
      "text/plain": [
       "<Figure size 432x288 with 1 Axes>"
      ]
     },
     "metadata": {
      "needs_background": "light"
     },
     "output_type": "display_data"
    }
   ],
   "source": [
    "df_pivot_diff.sort_values(\"stamp_2\", ascending = False)[\"stamp_2\"].head(10).plot.barh()"
   ]
  },
  {
   "cell_type": "code",
   "execution_count": null,
   "id": "extra-executive",
   "metadata": {
    "papermill": {
     "duration": 0.038838,
     "end_time": "2021-12-18T21:30:13.573736",
     "exception": false,
     "start_time": "2021-12-18T21:30:13.534898",
     "status": "completed"
    },
    "tags": []
   },
   "outputs": [],
   "source": []
  }
 ],
 "metadata": {
  "kernelspec": {
   "display_name": "Python 3",
   "language": "python",
   "name": "python3"
  },
  "language_info": {
   "codemirror_mode": {
    "name": "ipython",
    "version": 3
   },
   "file_extension": ".py",
   "mimetype": "text/x-python",
   "name": "python",
   "nbconvert_exporter": "python",
   "pygments_lexer": "ipython3",
   "version": "3.9.5"
  },
  "papermill": {
   "default_parameters": {},
   "duration": 9.829156,
   "end_time": "2021-12-18T21:30:14.343753",
   "environment_variables": {},
   "exception": null,
   "input_path": "eBay_Overview.ipynb",
   "output_path": "eBay_Overview.ipynb",
   "parameters": {},
   "start_time": "2021-12-18T21:30:04.514597",
   "version": "2.3.3"
  }
 },
 "nbformat": 4,
 "nbformat_minor": 5
}