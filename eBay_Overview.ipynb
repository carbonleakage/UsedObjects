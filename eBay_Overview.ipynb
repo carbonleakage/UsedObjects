{
 "cells": [
  {
   "cell_type": "code",
   "execution_count": 1,
   "id": "reverse-picking",
   "metadata": {
    "execution": {
     "iopub.execute_input": "2021-09-06T12:30:07.370725Z",
     "iopub.status.busy": "2021-09-06T12:30:07.368790Z",
     "iopub.status.idle": "2021-09-06T12:30:08.175684Z",
     "shell.execute_reply": "2021-09-06T12:30:08.177037Z"
    },
    "papermill": {
     "duration": 0.859832,
     "end_time": "2021-09-06T12:30:08.177678",
     "exception": false,
     "start_time": "2021-09-06T12:30:07.317846",
     "status": "completed"
    },
    "tags": []
   },
   "outputs": [],
   "source": [
    "import pandas as pd\n",
    "import sqlite3"
   ]
  },
  {
   "cell_type": "code",
   "execution_count": 2,
   "id": "innovative-syndrome",
   "metadata": {
    "execution": {
     "iopub.execute_input": "2021-09-06T12:30:08.228056Z",
     "iopub.status.busy": "2021-09-06T12:30:08.225947Z",
     "iopub.status.idle": "2021-09-06T12:30:08.452085Z",
     "shell.execute_reply": "2021-09-06T12:30:08.453194Z"
    },
    "papermill": {
     "duration": 0.255637,
     "end_time": "2021-09-06T12:30:08.453604",
     "exception": false,
     "start_time": "2021-09-06T12:30:08.197967",
     "status": "completed"
    },
    "tags": []
   },
   "outputs": [],
   "source": [
    "timestamps = pd.read_sql(\"select distinct record_time from EBAY_TOP_BERLIN order by record_time desc limit 2\", sqlite3.connect(\"UsedObjects.db\"))"
   ]
  },
  {
   "cell_type": "code",
   "execution_count": 3,
   "id": "periodic-identification",
   "metadata": {
    "execution": {
     "iopub.execute_input": "2021-09-06T12:30:08.522535Z",
     "iopub.status.busy": "2021-09-06T12:30:08.520512Z",
     "iopub.status.idle": "2021-09-06T12:30:08.540317Z",
     "shell.execute_reply": "2021-09-06T12:30:08.541611Z"
    },
    "papermill": {
     "duration": 0.06595,
     "end_time": "2021-09-06T12:30:08.542024",
     "exception": false,
     "start_time": "2021-09-06T12:30:08.476074",
     "status": "completed"
    },
    "tags": []
   },
   "outputs": [
    {
     "data": {
      "text/html": [
       "<div>\n",
       "<style scoped>\n",
       "    .dataframe tbody tr th:only-of-type {\n",
       "        vertical-align: middle;\n",
       "    }\n",
       "\n",
       "    .dataframe tbody tr th {\n",
       "        vertical-align: top;\n",
       "    }\n",
       "\n",
       "    .dataframe thead th {\n",
       "        text-align: right;\n",
       "    }\n",
       "</style>\n",
       "<table border=\"1\" class=\"dataframe\">\n",
       "  <thead>\n",
       "    <tr style=\"text-align: right;\">\n",
       "      <th></th>\n",
       "      <th>RECORD_TIME</th>\n",
       "    </tr>\n",
       "  </thead>\n",
       "  <tbody>\n",
       "    <tr>\n",
       "      <th>0</th>\n",
       "      <td>2021-09-06 14:30</td>\n",
       "    </tr>\n",
       "    <tr>\n",
       "      <th>1</th>\n",
       "      <td>2021-09-06 14:00</td>\n",
       "    </tr>\n",
       "  </tbody>\n",
       "</table>\n",
       "</div>"
      ],
      "text/plain": [
       "        RECORD_TIME\n",
       "0  2021-09-06 14:30\n",
       "1  2021-09-06 14:00"
      ]
     },
     "execution_count": 3,
     "metadata": {},
     "output_type": "execute_result"
    }
   ],
   "source": [
    "timestamps"
   ]
  },
  {
   "cell_type": "code",
   "execution_count": 4,
   "id": "alternate-victory",
   "metadata": {
    "execution": {
     "iopub.execute_input": "2021-09-06T12:30:08.594483Z",
     "iopub.status.busy": "2021-09-06T12:30:08.592661Z",
     "iopub.status.idle": "2021-09-06T12:30:08.925707Z",
     "shell.execute_reply": "2021-09-06T12:30:08.926992Z"
    },
    "papermill": {
     "duration": 0.363252,
     "end_time": "2021-09-06T12:30:08.927447",
     "exception": false,
     "start_time": "2021-09-06T12:30:08.564195",
     "status": "completed"
    },
    "tags": []
   },
   "outputs": [],
   "source": [
    "df = pd.read_sql(\"select * from EBAY_TOP_BERLIN where record_time in (select distinct record_time from EBAY_TOP_BERLIN order by record_time desc limit 2)\", sqlite3.connect(\"UsedObjects.db\"))"
   ]
  },
  {
   "cell_type": "code",
   "execution_count": 5,
   "id": "popular-active",
   "metadata": {
    "execution": {
     "iopub.execute_input": "2021-09-06T12:30:09.005670Z",
     "iopub.status.busy": "2021-09-06T12:30:08.993152Z",
     "iopub.status.idle": "2021-09-06T12:30:09.022600Z",
     "shell.execute_reply": "2021-09-06T12:30:09.024076Z"
    },
    "papermill": {
     "duration": 0.070994,
     "end_time": "2021-09-06T12:30:09.024520",
     "exception": false,
     "start_time": "2021-09-06T12:30:08.953526",
     "status": "completed"
    },
    "tags": []
   },
   "outputs": [],
   "source": [
    "df_pivot = df.pivot_table(index=\"PRODUCT\", columns = \"RECORD_TIME\", values = \"LISTING_COUNT\")"
   ]
  },
  {
   "cell_type": "code",
   "execution_count": 6,
   "id": "union-huntington",
   "metadata": {
    "execution": {
     "iopub.execute_input": "2021-09-06T12:30:09.082444Z",
     "iopub.status.busy": "2021-09-06T12:30:09.080028Z",
     "iopub.status.idle": "2021-09-06T12:30:09.085856Z",
     "shell.execute_reply": "2021-09-06T12:30:09.087284Z"
    },
    "papermill": {
     "duration": 0.042566,
     "end_time": "2021-09-06T12:30:09.087734",
     "exception": false,
     "start_time": "2021-09-06T12:30:09.045168",
     "status": "completed"
    },
    "tags": []
   },
   "outputs": [],
   "source": [
    "df_pivot.columns = [\"stamp_1\", \"stamp_2\"]\n",
    "df_pivot_diff = df_pivot.diff(axis=1)"
   ]
  },
  {
   "cell_type": "code",
   "execution_count": 7,
   "id": "fifth-motion",
   "metadata": {
    "execution": {
     "iopub.execute_input": "2021-09-06T12:30:09.142534Z",
     "iopub.status.busy": "2021-09-06T12:30:09.140139Z",
     "iopub.status.idle": "2021-09-06T12:30:10.640265Z",
     "shell.execute_reply": "2021-09-06T12:30:10.641653Z"
    },
    "papermill": {
     "duration": 1.533324,
     "end_time": "2021-09-06T12:30:10.642096",
     "exception": false,
     "start_time": "2021-09-06T12:30:09.108772",
     "status": "completed"
    },
    "tags": []
   },
   "outputs": [
    {
     "data": {
      "text/plain": [
       "<AxesSubplot:ylabel='PRODUCT'>"
      ]
     },
     "execution_count": 7,
     "metadata": {},
     "output_type": "execute_result"
    },
    {
     "data": {
      "image/png": "[encoded data removed]",
      "text/plain": [
       "<Figure size 432x288 with 1 Axes>"
      ]
     },
     "metadata": {
      "needs_background": "light"
     },
     "output_type": "display_data"
    }
   ],
   "source": [
    "df_pivot_diff.sort_values(\"stamp_2\", ascending = False)[\"stamp_2\"].head(10).plot.barh()"
   ]
  },
  {
   "cell_type": "code",
   "execution_count": null,
   "id": "extra-executive",
   "metadata": {
    "papermill": {
     "duration": 0.022193,
     "end_time": "2021-09-06T12:30:10.688328",
     "exception": false,
     "start_time": "2021-09-06T12:30:10.666135",
     "status": "completed"
    },
    "tags": []
   },
   "outputs": [],
   "source": []
  }
 ],
 "metadata": {
  "kernelspec": {
   "display_name": "Python 3",
   "language": "python",
   "name": "python3"
  },
  "language_info": {
   "codemirror_mode": {
    "name": "ipython",
    "version": 3
   },
   "file_extension": ".py",
   "mimetype": "text/x-python",
   "name": "python",
   "nbconvert_exporter": "python",
   "pygments_lexer": "ipython3",
   "version": "3.9.5"
  },
  "papermill": {
   "default_parameters": {},
   "duration": 6.419341,
   "end_time": "2021-09-06T12:30:11.331300",
   "environment_variables": {},
   "exception": null,
   "input_path": "eBay_Overview.ipynb",
   "output_path": "eBay_Overview.ipynb",
   "parameters": {},
   "start_time": "2021-09-06T12:30:04.911959",
   "version": "2.3.3"
  }
 },
 "nbformat": 4,
 "nbformat_minor": 5
}