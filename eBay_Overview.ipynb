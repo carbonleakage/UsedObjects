{
 "cells": [
  {
   "cell_type": "code",
   "execution_count": 1,
   "id": "reverse-picking",
   "metadata": {
    "execution": {
     "iopub.execute_input": "2021-10-11T00:30:07.152539Z",
     "iopub.status.busy": "2021-10-11T00:30:07.150494Z",
     "iopub.status.idle": "2021-10-11T00:30:07.958577Z",
     "shell.execute_reply": "2021-10-11T00:30:07.957019Z"
    },
    "papermill": {
     "duration": 0.85694,
     "end_time": "2021-10-11T00:30:07.959144",
     "exception": false,
     "start_time": "2021-10-11T00:30:07.102204",
     "status": "completed"
    },
    "tags": []
   },
   "outputs": [],
   "source": [
    "import pandas as pd\n",
    "import sqlite3"
   ]
  },
  {
   "cell_type": "code",
   "execution_count": 2,
   "id": "innovative-syndrome",
   "metadata": {
    "execution": {
     "iopub.execute_input": "2021-10-11T00:30:08.012007Z",
     "iopub.status.busy": "2021-10-11T00:30:08.009644Z",
     "iopub.status.idle": "2021-10-11T00:30:08.525765Z",
     "shell.execute_reply": "2021-10-11T00:30:08.527117Z"
    },
    "papermill": {
     "duration": 0.546167,
     "end_time": "2021-10-11T00:30:08.527551",
     "exception": false,
     "start_time": "2021-10-11T00:30:07.981384",
     "status": "completed"
    },
    "tags": []
   },
   "outputs": [],
   "source": [
    "timestamps = pd.read_sql(\"select distinct record_time from EBAY_TOP_BERLIN order by record_time desc limit 2\", sqlite3.connect(\"UsedObjects.db\"))"
   ]
  },
  {
   "cell_type": "code",
   "execution_count": 3,
   "id": "periodic-identification",
   "metadata": {
    "execution": {
     "iopub.execute_input": "2021-10-11T00:30:08.593716Z",
     "iopub.status.busy": "2021-10-11T00:30:08.591726Z",
     "iopub.status.idle": "2021-10-11T00:30:08.611655Z",
     "shell.execute_reply": "2021-10-11T00:30:08.612880Z"
    },
    "papermill": {
     "duration": 0.066198,
     "end_time": "2021-10-11T00:30:08.613303",
     "exception": false,
     "start_time": "2021-10-11T00:30:08.547105",
     "status": "completed"
    },
    "tags": []
   },
   "outputs": [
    {
     "data": {
      "text/html": [
       "<div>\n",
       "<style scoped>\n",
       "    .dataframe tbody tr th:only-of-type {\n",
       "        vertical-align: middle;\n",
       "    }\n",
       "\n",
       "    .dataframe tbody tr th {\n",
       "        vertical-align: top;\n",
       "    }\n",
       "\n",
       "    .dataframe thead th {\n",
       "        text-align: right;\n",
       "    }\n",
       "</style>\n",
       "<table border=\"1\" class=\"dataframe\">\n",
       "  <thead>\n",
       "    <tr style=\"text-align: right;\">\n",
       "      <th></th>\n",
       "      <th>RECORD_TIME</th>\n",
       "    </tr>\n",
       "  </thead>\n",
       "  <tbody>\n",
       "    <tr>\n",
       "      <th>0</th>\n",
       "      <td>2021-10-11 02:30</td>\n",
       "    </tr>\n",
       "    <tr>\n",
       "      <th>1</th>\n",
       "      <td>2021-10-11 02:00</td>\n",
       "    </tr>\n",
       "  </tbody>\n",
       "</table>\n",
       "</div>"
      ],
      "text/plain": [
       "        RECORD_TIME\n",
       "0  2021-10-11 02:30\n",
       "1  2021-10-11 02:00"
      ]
     },
     "execution_count": 3,
     "metadata": {},
     "output_type": "execute_result"
    }
   ],
   "source": [
    "timestamps"
   ]
  },
  {
   "cell_type": "code",
   "execution_count": 4,
   "id": "alternate-victory",
   "metadata": {
    "execution": {
     "iopub.execute_input": "2021-10-11T00:30:08.680978Z",
     "iopub.status.busy": "2021-10-11T00:30:08.678360Z",
     "iopub.status.idle": "2021-10-11T00:30:09.421068Z",
     "shell.execute_reply": "2021-10-11T00:30:09.422250Z"
    },
    "papermill": {
     "duration": 0.77783,
     "end_time": "2021-10-11T00:30:09.422674",
     "exception": false,
     "start_time": "2021-10-11T00:30:08.644844",
     "status": "completed"
    },
    "tags": []
   },
   "outputs": [],
   "source": [
    "df = pd.read_sql(\"select * from EBAY_TOP_BERLIN where record_time in (select distinct record_time from EBAY_TOP_BERLIN order by record_time desc limit 2)\", sqlite3.connect(\"UsedObjects.db\"))"
   ]
  },
  {
   "cell_type": "code",
   "execution_count": 5,
   "id": "popular-active",
   "metadata": {
    "execution": {
     "iopub.execute_input": "2021-10-11T00:30:09.493130Z",
     "iopub.status.busy": "2021-10-11T00:30:09.481163Z",
     "iopub.status.idle": "2021-10-11T00:30:09.510208Z",
     "shell.execute_reply": "2021-10-11T00:30:09.511911Z"
    },
    "papermill": {
     "duration": 0.06913,
     "end_time": "2021-10-11T00:30:09.512388",
     "exception": false,
     "start_time": "2021-10-11T00:30:09.443258",
     "status": "completed"
    },
    "tags": []
   },
   "outputs": [],
   "source": [
    "df_pivot = df.pivot_table(index=\"PRODUCT\", columns = \"RECORD_TIME\", values = \"LISTING_COUNT\")"
   ]
  },
  {
   "cell_type": "code",
   "execution_count": 6,
   "id": "union-huntington",
   "metadata": {
    "execution": {
     "iopub.execute_input": "2021-10-11T00:30:09.570241Z",
     "iopub.status.busy": "2021-10-11T00:30:09.568102Z",
     "iopub.status.idle": "2021-10-11T00:30:09.573554Z",
     "shell.execute_reply": "2021-10-11T00:30:09.575109Z"
    },
    "papermill": {
     "duration": 0.04108,
     "end_time": "2021-10-11T00:30:09.575571",
     "exception": false,
     "start_time": "2021-10-11T00:30:09.534491",
     "status": "completed"
    },
    "tags": []
   },
   "outputs": [],
   "source": [
    "df_pivot.columns = [\"stamp_1\", \"stamp_2\"]\n",
    "df_pivot_diff = df_pivot.diff(axis=1)"
   ]
  },
  {
   "cell_type": "code",
   "execution_count": 7,
   "id": "fifth-motion",
   "metadata": {
    "execution": {
     "iopub.execute_input": "2021-10-11T00:30:09.632301Z",
     "iopub.status.busy": "2021-10-11T00:30:09.629845Z",
     "iopub.status.idle": "2021-10-11T00:30:11.120541Z",
     "shell.execute_reply": "2021-10-11T00:30:11.121811Z"
    },
    "papermill": {
     "duration": 1.523992,
     "end_time": "2021-10-11T00:30:11.122222",
     "exception": false,
     "start_time": "2021-10-11T00:30:09.598230",
     "status": "completed"
    },
    "tags": []
   },
   "outputs": [
    {
     "data": {
      "text/plain": [
       "<AxesSubplot:ylabel='PRODUCT'>"
      ]
     },
     "execution_count": 7,
     "metadata": {},
     "output_type": "execute_result"
    },
    {
     "data": {
      "image/png": "[encoded data removed]",
      "text/plain": [
       "<Figure size 432x288 with 1 Axes>"
      ]
     },
     "metadata": {
      "needs_background": "light"
     },
     "output_type": "display_data"
    }
   ],
   "source": [
    "df_pivot_diff.sort_values(\"stamp_2\", ascending = False)[\"stamp_2\"].head(10).plot.barh()"
   ]
  },
  {
   "cell_type": "code",
   "execution_count": null,
   "id": "extra-executive",
   "metadata": {
    "papermill": {
     "duration": 0.022144,
     "end_time": "2021-10-11T00:30:11.168725",
     "exception": false,
     "start_time": "2021-10-11T00:30:11.146581",
     "status": "completed"
    },
    "tags": []
   },
   "outputs": [],
   "source": []
  }
 ],
 "metadata": {
  "kernelspec": {
   "display_name": "Python 3",
   "language": "python",
   "name": "python3"
  },
  "language_info": {
   "codemirror_mode": {
    "name": "ipython",
    "version": 3
   },
   "file_extension": ".py",
   "mimetype": "text/x-python",
   "name": "python",
   "nbconvert_exporter": "python",
   "pygments_lexer": "ipython3",
   "version": "3.9.5"
  },
  "papermill": {
   "default_parameters": {},
   "duration": 7.832188,
   "end_time": "2021-10-11T00:30:12.530886",
   "environment_variables": {},
   "exception": null,
   "input_path": "eBay_Overview.ipynb",
   "output_path": "eBay_Overview.ipynb",
   "parameters": {},
   "start_time": "2021-10-11T00:30:04.698698",
   "version": "2.3.3"
  }
 },
 "nbformat": 4,
 "nbformat_minor": 5
}