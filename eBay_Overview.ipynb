{
 "cells": [
  {
   "cell_type": "code",
   "execution_count": 1,
   "id": "reverse-picking",
   "metadata": {
    "execution": {
     "iopub.execute_input": "2021-08-10T16:30:04.056268Z",
     "iopub.status.busy": "2021-08-10T16:30:04.055507Z",
     "iopub.status.idle": "2021-08-10T16:30:04.801490Z",
     "shell.execute_reply": "2021-08-10T16:30:04.800221Z"
    },
    "papermill": {
     "duration": 0.765171,
     "end_time": "2021-08-10T16:30:04.801816",
     "exception": false,
     "start_time": "2021-08-10T16:30:04.036645",
     "status": "completed"
    },
    "tags": []
   },
   "outputs": [],
   "source": [
    "import pandas as pd\n",
    "import sqlite3"
   ]
  },
  {
   "cell_type": "code",
   "execution_count": 2,
   "id": "innovative-syndrome",
   "metadata": {
    "execution": {
     "iopub.execute_input": "2021-08-10T16:30:04.830809Z",
     "iopub.status.busy": "2021-08-10T16:30:04.830047Z",
     "iopub.status.idle": "2021-08-10T16:30:05.166598Z",
     "shell.execute_reply": "2021-08-10T16:30:05.165568Z"
    },
    "papermill": {
     "duration": 0.349917,
     "end_time": "2021-08-10T16:30:05.166815",
     "exception": false,
     "start_time": "2021-08-10T16:30:04.816898",
     "status": "completed"
    },
    "tags": []
   },
   "outputs": [],
   "source": [
    "timestamps = pd.read_sql(\"select distinct record_time from EBAY_TOP_BERLIN order by record_time desc limit 2\", sqlite3.connect(\"UsedObjects.db\"))"
   ]
  },
  {
   "cell_type": "code",
   "execution_count": 3,
   "id": "periodic-identification",
   "metadata": {
    "execution": {
     "iopub.execute_input": "2021-08-10T16:30:05.198678Z",
     "iopub.status.busy": "2021-08-10T16:30:05.197562Z",
     "iopub.status.idle": "2021-08-10T16:30:05.269504Z",
     "shell.execute_reply": "2021-08-10T16:30:05.268640Z"
    },
    "papermill": {
     "duration": 0.093173,
     "end_time": "2021-08-10T16:30:05.269688",
     "exception": false,
     "start_time": "2021-08-10T16:30:05.176515",
     "status": "completed"
    },
    "tags": []
   },
   "outputs": [
    {
     "data": {
      "text/html": [
       "<div>\n",
       "<style scoped>\n",
       "    .dataframe tbody tr th:only-of-type {\n",
       "        vertical-align: middle;\n",
       "    }\n",
       "\n",
       "    .dataframe tbody tr th {\n",
       "        vertical-align: top;\n",
       "    }\n",
       "\n",
       "    .dataframe thead th {\n",
       "        text-align: right;\n",
       "    }\n",
       "</style>\n",
       "<table border=\"1\" class=\"dataframe\">\n",
       "  <thead>\n",
       "    <tr style=\"text-align: right;\">\n",
       "      <th></th>\n",
       "      <th>RECORD_TIME</th>\n",
       "    </tr>\n",
       "  </thead>\n",
       "  <tbody>\n",
       "    <tr>\n",
       "      <th>0</th>\n",
       "      <td>2021-08-10 18:30</td>\n",
       "    </tr>\n",
       "    <tr>\n",
       "      <th>1</th>\n",
       "      <td>2021-08-10 18:00</td>\n",
       "    </tr>\n",
       "  </tbody>\n",
       "</table>\n",
       "</div>"
      ],
      "text/plain": [
       "        RECORD_TIME\n",
       "0  2021-08-10 18:30\n",
       "1  2021-08-10 18:00"
      ]
     },
     "execution_count": 3,
     "metadata": {},
     "output_type": "execute_result"
    }
   ],
   "source": [
    "timestamps"
   ]
  },
  {
   "cell_type": "code",
   "execution_count": 4,
   "id": "alternate-victory",
   "metadata": {
    "execution": {
     "iopub.execute_input": "2021-08-10T16:30:05.293073Z",
     "iopub.status.busy": "2021-08-10T16:30:05.292316Z",
     "iopub.status.idle": "2021-08-10T16:30:05.306200Z",
     "shell.execute_reply": "2021-08-10T16:30:05.306731Z"
    },
    "papermill": {
     "duration": 0.027961,
     "end_time": "2021-08-10T16:30:05.306914",
     "exception": false,
     "start_time": "2021-08-10T16:30:05.278953",
     "status": "completed"
    },
    "tags": []
   },
   "outputs": [],
   "source": [
    "df = pd.read_sql(\"select * from EBAY_TOP_BERLIN where record_time in (select distinct record_time from EBAY_TOP_BERLIN order by record_time desc limit 2)\", sqlite3.connect(\"UsedObjects.db\"))"
   ]
  },
  {
   "cell_type": "code",
   "execution_count": 5,
   "id": "popular-active",
   "metadata": {
    "execution": {
     "iopub.execute_input": "2021-08-10T16:30:05.354483Z",
     "iopub.status.busy": "2021-08-10T16:30:05.353398Z",
     "iopub.status.idle": "2021-08-10T16:30:05.396438Z",
     "shell.execute_reply": "2021-08-10T16:30:05.396971Z"
    },
    "papermill": {
     "duration": 0.081937,
     "end_time": "2021-08-10T16:30:05.397154",
     "exception": false,
     "start_time": "2021-08-10T16:30:05.315217",
     "status": "completed"
    },
    "tags": []
   },
   "outputs": [],
   "source": [
    "df_pivot = df.pivot_table(index=\"PRODUCT\", columns = \"RECORD_TIME\", values = \"LISTING_COUNT\")"
   ]
  },
  {
   "cell_type": "code",
   "execution_count": 6,
   "id": "union-huntington",
   "metadata": {
    "execution": {
     "iopub.execute_input": "2021-08-10T16:30:05.421686Z",
     "iopub.status.busy": "2021-08-10T16:30:05.420959Z",
     "iopub.status.idle": "2021-08-10T16:30:05.424890Z",
     "shell.execute_reply": "2021-08-10T16:30:05.424284Z"
    },
    "papermill": {
     "duration": 0.019392,
     "end_time": "2021-08-10T16:30:05.425048",
     "exception": false,
     "start_time": "2021-08-10T16:30:05.405656",
     "status": "completed"
    },
    "tags": []
   },
   "outputs": [],
   "source": [
    "df_pivot.columns = [\"stamp_1\", \"stamp_2\"]\n",
    "df_pivot_diff = df_pivot.diff(axis=1)"
   ]
  },
  {
   "cell_type": "code",
   "execution_count": 7,
   "id": "fifth-motion",
   "metadata": {
    "execution": {
     "iopub.execute_input": "2021-08-10T16:30:05.455342Z",
     "iopub.status.busy": "2021-08-10T16:30:05.454585Z",
     "iopub.status.idle": "2021-08-10T16:30:06.235728Z",
     "shell.execute_reply": "2021-08-10T16:30:06.235119Z"
    },
    "papermill": {
     "duration": 0.799381,
     "end_time": "2021-08-10T16:30:06.235878",
     "exception": false,
     "start_time": "2021-08-10T16:30:05.436497",
     "status": "completed"
    },
    "tags": []
   },
   "outputs": [
    {
     "data": {
      "text/plain": [
       "<AxesSubplot:ylabel='PRODUCT'>"
      ]
     },
     "execution_count": 7,
     "metadata": {},
     "output_type": "execute_result"
    },
    {
     "data": {
      "image/png": "[encoded data removed]",
      "text/plain": [
       "<Figure size 432x288 with 1 Axes>"
      ]
     },
     "metadata": {
      "needs_background": "light"
     },
     "output_type": "display_data"
    }
   ],
   "source": [
    "df_pivot_diff.sort_values(\"stamp_2\", ascending = False)[\"stamp_2\"].head(10).plot.barh()"
   ]
  },
  {
   "cell_type": "code",
   "execution_count": null,
   "id": "extra-executive",
   "metadata": {
    "papermill": {
     "duration": 0.014699,
     "end_time": "2021-08-10T16:30:06.262101",
     "exception": false,
     "start_time": "2021-08-10T16:30:06.247402",
     "status": "completed"
    },
    "tags": []
   },
   "outputs": [],
   "source": []
  }
 ],
 "metadata": {
  "kernelspec": {
   "display_name": "Python 3",
   "language": "python",
   "name": "python3"
  },
  "language_info": {
   "codemirror_mode": {
    "name": "ipython",
    "version": 3
   },
   "file_extension": ".py",
   "mimetype": "text/x-python",
   "name": "python",
   "nbconvert_exporter": "python",
   "pygments_lexer": "ipython3",
   "version": "3.8.8"
  },
  "papermill": {
   "default_parameters": {},
   "duration": 4.546056,
   "end_time": "2021-08-10T16:30:06.931470",
   "environment_variables": {},
   "exception": null,
   "input_path": "/Users/saravananshanmugam/Carbonleakage_Git/UsedObjects/eBay_Overview.ipynb",
   "output_path": "/Users/saravananshanmugam/Carbonleakage_Git/UsedObjects/eBay_Overview.ipynb",
   "parameters": {},
   "start_time": "2021-08-10T16:30:02.385414",
   "version": "2.3.3"
  }
 },
 "nbformat": 4,
 "nbformat_minor": 5
}