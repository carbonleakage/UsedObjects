{
 "cells": [
  {
   "cell_type": "code",
   "execution_count": 1,
   "id": "reverse-picking",
   "metadata": {
    "execution": {
     "iopub.execute_input": "2021-10-27T19:30:07.745413Z",
     "iopub.status.busy": "2021-10-27T19:30:07.743315Z",
     "iopub.status.idle": "2021-10-27T19:30:08.547885Z",
     "shell.execute_reply": "2021-10-27T19:30:08.549287Z"
    },
    "papermill": {
     "duration": 0.855599,
     "end_time": "2021-10-27T19:30:08.549938",
     "exception": false,
     "start_time": "2021-10-27T19:30:07.694339",
     "status": "completed"
    },
    "tags": []
   },
   "outputs": [],
   "source": [
    "import pandas as pd\n",
    "import sqlite3"
   ]
  },
  {
   "cell_type": "code",
   "execution_count": 2,
   "id": "innovative-syndrome",
   "metadata": {
    "execution": {
     "iopub.execute_input": "2021-10-27T19:30:08.601428Z",
     "iopub.status.busy": "2021-10-27T19:30:08.599364Z",
     "iopub.status.idle": "2021-10-27T19:30:09.252605Z",
     "shell.execute_reply": "2021-10-27T19:30:09.253973Z"
    },
    "papermill": {
     "duration": 0.68333,
     "end_time": "2021-10-27T19:30:09.254407",
     "exception": false,
     "start_time": "2021-10-27T19:30:08.571077",
     "status": "completed"
    },
    "tags": []
   },
   "outputs": [],
   "source": [
    "timestamps = pd.read_sql(\"select distinct record_time from EBAY_TOP_BERLIN order by record_time desc limit 2\", sqlite3.connect(\"UsedObjects.db\"))"
   ]
  },
  {
   "cell_type": "code",
   "execution_count": 3,
   "id": "periodic-identification",
   "metadata": {
    "execution": {
     "iopub.execute_input": "2021-10-27T19:30:09.329983Z",
     "iopub.status.busy": "2021-10-27T19:30:09.327880Z",
     "iopub.status.idle": "2021-10-27T19:30:09.347608Z",
     "shell.execute_reply": "2021-10-27T19:30:09.349075Z"
    },
    "papermill": {
     "duration": 0.068494,
     "end_time": "2021-10-27T19:30:09.349535",
     "exception": false,
     "start_time": "2021-10-27T19:30:09.281041",
     "status": "completed"
    },
    "tags": []
   },
   "outputs": [
    {
     "data": {
      "text/html": [
       "<div>\n",
       "<style scoped>\n",
       "    .dataframe tbody tr th:only-of-type {\n",
       "        vertical-align: middle;\n",
       "    }\n",
       "\n",
       "    .dataframe tbody tr th {\n",
       "        vertical-align: top;\n",
       "    }\n",
       "\n",
       "    .dataframe thead th {\n",
       "        text-align: right;\n",
       "    }\n",
       "</style>\n",
       "<table border=\"1\" class=\"dataframe\">\n",
       "  <thead>\n",
       "    <tr style=\"text-align: right;\">\n",
       "      <th></th>\n",
       "      <th>RECORD_TIME</th>\n",
       "    </tr>\n",
       "  </thead>\n",
       "  <tbody>\n",
       "    <tr>\n",
       "      <th>0</th>\n",
       "      <td>2021-10-27 21:30</td>\n",
       "    </tr>\n",
       "    <tr>\n",
       "      <th>1</th>\n",
       "      <td>2021-10-27 21:00</td>\n",
       "    </tr>\n",
       "  </tbody>\n",
       "</table>\n",
       "</div>"
      ],
      "text/plain": [
       "        RECORD_TIME\n",
       "0  2021-10-27 21:30\n",
       "1  2021-10-27 21:00"
      ]
     },
     "execution_count": 3,
     "metadata": {},
     "output_type": "execute_result"
    }
   ],
   "source": [
    "timestamps"
   ]
  },
  {
   "cell_type": "code",
   "execution_count": 4,
   "id": "alternate-victory",
   "metadata": {
    "execution": {
     "iopub.execute_input": "2021-10-27T19:30:09.404241Z",
     "iopub.status.busy": "2021-10-27T19:30:09.402297Z",
     "iopub.status.idle": "2021-10-27T19:30:10.357470Z",
     "shell.execute_reply": "2021-10-27T19:30:10.358948Z"
    },
    "papermill": {
     "duration": 0.986184,
     "end_time": "2021-10-27T19:30:10.359402",
     "exception": false,
     "start_time": "2021-10-27T19:30:09.373218",
     "status": "completed"
    },
    "tags": []
   },
   "outputs": [],
   "source": [
    "df = pd.read_sql(\"select * from EBAY_TOP_BERLIN where record_time in (select distinct record_time from EBAY_TOP_BERLIN order by record_time desc limit 2)\", sqlite3.connect(\"UsedObjects.db\"))"
   ]
  },
  {
   "cell_type": "code",
   "execution_count": 5,
   "id": "popular-active",
   "metadata": {
    "execution": {
     "iopub.execute_input": "2021-10-27T19:30:10.420266Z",
     "iopub.status.busy": "2021-10-27T19:30:10.418683Z",
     "iopub.status.idle": "2021-10-27T19:30:10.447740Z",
     "shell.execute_reply": "2021-10-27T19:30:10.449175Z"
    },
    "papermill": {
     "duration": 0.068812,
     "end_time": "2021-10-27T19:30:10.449605",
     "exception": false,
     "start_time": "2021-10-27T19:30:10.380793",
     "status": "completed"
    },
    "tags": []
   },
   "outputs": [],
   "source": [
    "df_pivot = df.pivot_table(index=\"PRODUCT\", columns = \"RECORD_TIME\", values = \"LISTING_COUNT\")"
   ]
  },
  {
   "cell_type": "code",
   "execution_count": 6,
   "id": "union-huntington",
   "metadata": {
    "execution": {
     "iopub.execute_input": "2021-10-27T19:30:10.508788Z",
     "iopub.status.busy": "2021-10-27T19:30:10.506293Z",
     "iopub.status.idle": "2021-10-27T19:30:10.512160Z",
     "shell.execute_reply": "2021-10-27T19:30:10.513529Z"
    },
    "papermill": {
     "duration": 0.042705,
     "end_time": "2021-10-27T19:30:10.513960",
     "exception": false,
     "start_time": "2021-10-27T19:30:10.471255",
     "status": "completed"
    },
    "tags": []
   },
   "outputs": [],
   "source": [
    "df_pivot.columns = [\"stamp_1\", \"stamp_2\"]\n",
    "df_pivot_diff = df_pivot.diff(axis=1)"
   ]
  },
  {
   "cell_type": "code",
   "execution_count": 7,
   "id": "fifth-motion",
   "metadata": {
    "execution": {
     "iopub.execute_input": "2021-10-27T19:30:10.568477Z",
     "iopub.status.busy": "2021-10-27T19:30:10.566013Z",
     "iopub.status.idle": "2021-10-27T19:30:12.071140Z",
     "shell.execute_reply": "2021-10-27T19:30:12.072429Z"
    },
    "papermill": {
     "duration": 1.538189,
     "end_time": "2021-10-27T19:30:12.073044",
     "exception": false,
     "start_time": "2021-10-27T19:30:10.534855",
     "status": "completed"
    },
    "tags": []
   },
   "outputs": [
    {
     "data": {
      "text/plain": [
       "<AxesSubplot:ylabel='PRODUCT'>"
      ]
     },
     "execution_count": 7,
     "metadata": {},
     "output_type": "execute_result"
    },
    {
     "data": {
      "image/png": "[encoded data removed]",
      "text/plain": [
       "<Figure size 432x288 with 1 Axes>"
      ]
     },
     "metadata": {
      "needs_background": "light"
     },
     "output_type": "display_data"
    }
   ],
   "source": [
    "df_pivot_diff.sort_values(\"stamp_2\", ascending = False)[\"stamp_2\"].head(10).plot.barh()"
   ]
  },
  {
   "cell_type": "code",
   "execution_count": null,
   "id": "extra-executive",
   "metadata": {
    "papermill": {
     "duration": 0.022865,
     "end_time": "2021-10-27T19:30:12.122157",
     "exception": false,
     "start_time": "2021-10-27T19:30:12.099292",
     "status": "completed"
    },
    "tags": []
   },
   "outputs": [],
   "source": []
  }
 ],
 "metadata": {
  "kernelspec": {
   "display_name": "Python 3",
   "language": "python",
   "name": "python3"
  },
  "language_info": {
   "codemirror_mode": {
    "name": "ipython",
    "version": 3
   },
   "file_extension": ".py",
   "mimetype": "text/x-python",
   "name": "python",
   "nbconvert_exporter": "python",
   "pygments_lexer": "ipython3",
   "version": "3.9.5"
  },
  "papermill": {
   "default_parameters": {},
   "duration": 7.468697,
   "end_time": "2021-10-27T19:30:12.765935",
   "environment_variables": {},
   "exception": null,
   "input_path": "eBay_Overview.ipynb",
   "output_path": "eBay_Overview.ipynb",
   "parameters": {},
   "start_time": "2021-10-27T19:30:05.297238",
   "version": "2.3.3"
  }
 },
 "nbformat": 4,
 "nbformat_minor": 5
}