{
 "cells": [
  {
   "cell_type": "code",
   "execution_count": 1,
   "id": "reverse-picking",
   "metadata": {
    "execution": {
     "iopub.execute_input": "2021-10-06T01:00:07.367218Z",
     "iopub.status.busy": "2021-10-06T01:00:07.365217Z",
     "iopub.status.idle": "2021-10-06T01:00:08.178466Z",
     "shell.execute_reply": "2021-10-06T01:00:08.179898Z"
    },
    "papermill": {
     "duration": 0.866073,
     "end_time": "2021-10-06T01:00:08.180545",
     "exception": false,
     "start_time": "2021-10-06T01:00:07.314472",
     "status": "completed"
    },
    "tags": []
   },
   "outputs": [],
   "source": [
    "import pandas as pd\n",
    "import sqlite3"
   ]
  },
  {
   "cell_type": "code",
   "execution_count": 2,
   "id": "innovative-syndrome",
   "metadata": {
    "execution": {
     "iopub.execute_input": "2021-10-06T01:00:08.231400Z",
     "iopub.status.busy": "2021-10-06T01:00:08.229365Z",
     "iopub.status.idle": "2021-10-06T01:00:08.686729Z",
     "shell.execute_reply": "2021-10-06T01:00:08.688010Z"
    },
    "papermill": {
     "duration": 0.4875,
     "end_time": "2021-10-06T01:00:08.688402",
     "exception": false,
     "start_time": "2021-10-06T01:00:08.200902",
     "status": "completed"
    },
    "tags": []
   },
   "outputs": [],
   "source": [
    "timestamps = pd.read_sql(\"select distinct record_time from EBAY_TOP_BERLIN order by record_time desc limit 2\", sqlite3.connect(\"UsedObjects.db\"))"
   ]
  },
  {
   "cell_type": "code",
   "execution_count": 3,
   "id": "periodic-identification",
   "metadata": {
    "execution": {
     "iopub.execute_input": "2021-10-06T01:00:08.754373Z",
     "iopub.status.busy": "2021-10-06T01:00:08.752373Z",
     "iopub.status.idle": "2021-10-06T01:00:08.772368Z",
     "shell.execute_reply": "2021-10-06T01:00:08.773622Z"
    },
    "papermill": {
     "duration": 0.065359,
     "end_time": "2021-10-06T01:00:08.774067",
     "exception": false,
     "start_time": "2021-10-06T01:00:08.708708",
     "status": "completed"
    },
    "tags": []
   },
   "outputs": [
    {
     "data": {
      "text/html": [
       "<div>\n",
       "<style scoped>\n",
       "    .dataframe tbody tr th:only-of-type {\n",
       "        vertical-align: middle;\n",
       "    }\n",
       "\n",
       "    .dataframe tbody tr th {\n",
       "        vertical-align: top;\n",
       "    }\n",
       "\n",
       "    .dataframe thead th {\n",
       "        text-align: right;\n",
       "    }\n",
       "</style>\n",
       "<table border=\"1\" class=\"dataframe\">\n",
       "  <thead>\n",
       "    <tr style=\"text-align: right;\">\n",
       "      <th></th>\n",
       "      <th>RECORD_TIME</th>\n",
       "    </tr>\n",
       "  </thead>\n",
       "  <tbody>\n",
       "    <tr>\n",
       "      <th>0</th>\n",
       "      <td>2021-10-06 03:00</td>\n",
       "    </tr>\n",
       "    <tr>\n",
       "      <th>1</th>\n",
       "      <td>2021-10-06 02:30</td>\n",
       "    </tr>\n",
       "  </tbody>\n",
       "</table>\n",
       "</div>"
      ],
      "text/plain": [
       "        RECORD_TIME\n",
       "0  2021-10-06 03:00\n",
       "1  2021-10-06 02:30"
      ]
     },
     "execution_count": 3,
     "metadata": {},
     "output_type": "execute_result"
    }
   ],
   "source": [
    "timestamps"
   ]
  },
  {
   "cell_type": "code",
   "execution_count": 4,
   "id": "alternate-victory",
   "metadata": {
    "execution": {
     "iopub.execute_input": "2021-10-06T01:00:08.844310Z",
     "iopub.status.busy": "2021-10-06T01:00:08.842229Z",
     "iopub.status.idle": "2021-10-06T01:00:09.512883Z",
     "shell.execute_reply": "2021-10-06T01:00:09.514085Z"
    },
    "papermill": {
     "duration": 0.707439,
     "end_time": "2021-10-06T01:00:09.514469",
     "exception": false,
     "start_time": "2021-10-06T01:00:08.807030",
     "status": "completed"
    },
    "tags": []
   },
   "outputs": [],
   "source": [
    "df = pd.read_sql(\"select * from EBAY_TOP_BERLIN where record_time in (select distinct record_time from EBAY_TOP_BERLIN order by record_time desc limit 2)\", sqlite3.connect(\"UsedObjects.db\"))"
   ]
  },
  {
   "cell_type": "code",
   "execution_count": 5,
   "id": "popular-active",
   "metadata": {
    "execution": {
     "iopub.execute_input": "2021-10-06T01:00:09.586733Z",
     "iopub.status.busy": "2021-10-06T01:00:09.575982Z",
     "iopub.status.idle": "2021-10-06T01:00:09.603438Z",
     "shell.execute_reply": "2021-10-06T01:00:09.604674Z"
    },
    "papermill": {
     "duration": 0.067927,
     "end_time": "2021-10-06T01:00:09.605064",
     "exception": false,
     "start_time": "2021-10-06T01:00:09.537137",
     "status": "completed"
    },
    "tags": []
   },
   "outputs": [],
   "source": [
    "df_pivot = df.pivot_table(index=\"PRODUCT\", columns = \"RECORD_TIME\", values = \"LISTING_COUNT\")"
   ]
  },
  {
   "cell_type": "code",
   "execution_count": 6,
   "id": "union-huntington",
   "metadata": {
    "execution": {
     "iopub.execute_input": "2021-10-06T01:00:09.663360Z",
     "iopub.status.busy": "2021-10-06T01:00:09.661040Z",
     "iopub.status.idle": "2021-10-06T01:00:09.667003Z",
     "shell.execute_reply": "2021-10-06T01:00:09.668528Z"
    },
    "papermill": {
     "duration": 0.042392,
     "end_time": "2021-10-06T01:00:09.668990",
     "exception": false,
     "start_time": "2021-10-06T01:00:09.626598",
     "status": "completed"
    },
    "tags": []
   },
   "outputs": [],
   "source": [
    "df_pivot.columns = [\"stamp_1\", \"stamp_2\"]\n",
    "df_pivot_diff = df_pivot.diff(axis=1)"
   ]
  },
  {
   "cell_type": "code",
   "execution_count": 7,
   "id": "fifth-motion",
   "metadata": {
    "execution": {
     "iopub.execute_input": "2021-10-06T01:00:09.722957Z",
     "iopub.status.busy": "2021-10-06T01:00:09.720643Z",
     "iopub.status.idle": "2021-10-06T01:00:11.198231Z",
     "shell.execute_reply": "2021-10-06T01:00:11.199664Z"
    },
    "papermill": {
     "duration": 1.510252,
     "end_time": "2021-10-06T01:00:11.200099",
     "exception": false,
     "start_time": "2021-10-06T01:00:09.689847",
     "status": "completed"
    },
    "tags": []
   },
   "outputs": [
    {
     "data": {
      "text/plain": [
       "<AxesSubplot:ylabel='PRODUCT'>"
      ]
     },
     "execution_count": 7,
     "metadata": {},
     "output_type": "execute_result"
    },
    {
     "data": {
      "image/png": "[encoded data removed]",
      "text/plain": [
       "<Figure size 432x288 with 1 Axes>"
      ]
     },
     "metadata": {
      "needs_background": "light"
     },
     "output_type": "display_data"
    }
   ],
   "source": [
    "df_pivot_diff.sort_values(\"stamp_2\", ascending = False)[\"stamp_2\"].head(10).plot.barh()"
   ]
  },
  {
   "cell_type": "code",
   "execution_count": null,
   "id": "extra-executive",
   "metadata": {
    "papermill": {
     "duration": 0.022142,
     "end_time": "2021-10-06T01:00:11.246046",
     "exception": false,
     "start_time": "2021-10-06T01:00:11.223904",
     "status": "completed"
    },
    "tags": []
   },
   "outputs": [],
   "source": []
  }
 ],
 "metadata": {
  "kernelspec": {
   "display_name": "Python 3",
   "language": "python",
   "name": "python3"
  },
  "language_info": {
   "codemirror_mode": {
    "name": "ipython",
    "version": 3
   },
   "file_extension": ".py",
   "mimetype": "text/x-python",
   "name": "python",
   "nbconvert_exporter": "python",
   "pygments_lexer": "ipython3",
   "version": "3.9.5"
  },
  "papermill": {
   "default_parameters": {},
   "duration": 7.827215,
   "end_time": "2021-10-06T01:00:12.730462",
   "environment_variables": {},
   "exception": null,
   "input_path": "eBay_Overview.ipynb",
   "output_path": "eBay_Overview.ipynb",
   "parameters": {},
   "start_time": "2021-10-06T01:00:04.903247",
   "version": "2.3.3"
  }
 },
 "nbformat": 4,
 "nbformat_minor": 5
}