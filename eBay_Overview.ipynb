{
 "cells": [
  {
   "cell_type": "code",
   "execution_count": 1,
   "id": "reverse-picking",
   "metadata": {
    "execution": {
     "iopub.execute_input": "2021-10-11T19:00:06.854836Z",
     "iopub.status.busy": "2021-10-11T19:00:06.852853Z",
     "iopub.status.idle": "2021-10-11T19:00:07.655715Z",
     "shell.execute_reply": "2021-10-11T19:00:07.657164Z"
    },
    "papermill": {
     "duration": 0.855366,
     "end_time": "2021-10-11T19:00:07.657836",
     "exception": false,
     "start_time": "2021-10-11T19:00:06.802470",
     "status": "completed"
    },
    "tags": []
   },
   "outputs": [],
   "source": [
    "import pandas as pd\n",
    "import sqlite3"
   ]
  },
  {
   "cell_type": "code",
   "execution_count": 2,
   "id": "innovative-syndrome",
   "metadata": {
    "execution": {
     "iopub.execute_input": "2021-10-11T19:00:07.709157Z",
     "iopub.status.busy": "2021-10-11T19:00:07.706994Z",
     "iopub.status.idle": "2021-10-11T19:00:08.232212Z",
     "shell.execute_reply": "2021-10-11T19:00:08.233489Z"
    },
    "papermill": {
     "duration": 0.555667,
     "end_time": "2021-10-11T19:00:08.233893",
     "exception": false,
     "start_time": "2021-10-11T19:00:07.678226",
     "status": "completed"
    },
    "tags": []
   },
   "outputs": [],
   "source": [
    "timestamps = pd.read_sql(\"select distinct record_time from EBAY_TOP_BERLIN order by record_time desc limit 2\", sqlite3.connect(\"UsedObjects.db\"))"
   ]
  },
  {
   "cell_type": "code",
   "execution_count": 3,
   "id": "periodic-identification",
   "metadata": {
    "execution": {
     "iopub.execute_input": "2021-10-11T19:00:08.303181Z",
     "iopub.status.busy": "2021-10-11T19:00:08.298150Z",
     "iopub.status.idle": "2021-10-11T19:00:08.319077Z",
     "shell.execute_reply": "2021-10-11T19:00:08.320436Z"
    },
    "papermill": {
     "duration": 0.065577,
     "end_time": "2021-10-11T19:00:08.320997",
     "exception": false,
     "start_time": "2021-10-11T19:00:08.255420",
     "status": "completed"
    },
    "tags": []
   },
   "outputs": [
    {
     "data": {
      "text/html": [
       "<div>\n",
       "<style scoped>\n",
       "    .dataframe tbody tr th:only-of-type {\n",
       "        vertical-align: middle;\n",
       "    }\n",
       "\n",
       "    .dataframe tbody tr th {\n",
       "        vertical-align: top;\n",
       "    }\n",
       "\n",
       "    .dataframe thead th {\n",
       "        text-align: right;\n",
       "    }\n",
       "</style>\n",
       "<table border=\"1\" class=\"dataframe\">\n",
       "  <thead>\n",
       "    <tr style=\"text-align: right;\">\n",
       "      <th></th>\n",
       "      <th>RECORD_TIME</th>\n",
       "    </tr>\n",
       "  </thead>\n",
       "  <tbody>\n",
       "    <tr>\n",
       "      <th>0</th>\n",
       "      <td>2021-10-11 21:00</td>\n",
       "    </tr>\n",
       "    <tr>\n",
       "      <th>1</th>\n",
       "      <td>2021-10-11 20:30</td>\n",
       "    </tr>\n",
       "  </tbody>\n",
       "</table>\n",
       "</div>"
      ],
      "text/plain": [
       "        RECORD_TIME\n",
       "0  2021-10-11 21:00\n",
       "1  2021-10-11 20:30"
      ]
     },
     "execution_count": 3,
     "metadata": {},
     "output_type": "execute_result"
    }
   ],
   "source": [
    "timestamps"
   ]
  },
  {
   "cell_type": "code",
   "execution_count": 4,
   "id": "alternate-victory",
   "metadata": {
    "execution": {
     "iopub.execute_input": "2021-10-11T19:00:08.380584Z",
     "iopub.status.busy": "2021-10-11T19:00:08.378735Z",
     "iopub.status.idle": "2021-10-11T19:00:09.139727Z",
     "shell.execute_reply": "2021-10-11T19:00:09.140997Z"
    },
    "papermill": {
     "duration": 0.793914,
     "end_time": "2021-10-11T19:00:09.141438",
     "exception": false,
     "start_time": "2021-10-11T19:00:08.347524",
     "status": "completed"
    },
    "tags": []
   },
   "outputs": [],
   "source": [
    "df = pd.read_sql(\"select * from EBAY_TOP_BERLIN where record_time in (select distinct record_time from EBAY_TOP_BERLIN order by record_time desc limit 2)\", sqlite3.connect(\"UsedObjects.db\"))"
   ]
  },
  {
   "cell_type": "code",
   "execution_count": 5,
   "id": "popular-active",
   "metadata": {
    "execution": {
     "iopub.execute_input": "2021-10-11T19:00:09.206748Z",
     "iopub.status.busy": "2021-10-11T19:00:09.199550Z",
     "iopub.status.idle": "2021-10-11T19:00:09.227548Z",
     "shell.execute_reply": "2021-10-11T19:00:09.228999Z"
    },
    "papermill": {
     "duration": 0.067513,
     "end_time": "2021-10-11T19:00:09.229420",
     "exception": false,
     "start_time": "2021-10-11T19:00:09.161907",
     "status": "completed"
    },
    "tags": []
   },
   "outputs": [],
   "source": [
    "df_pivot = df.pivot_table(index=\"PRODUCT\", columns = \"RECORD_TIME\", values = \"LISTING_COUNT\")"
   ]
  },
  {
   "cell_type": "code",
   "execution_count": 6,
   "id": "union-huntington",
   "metadata": {
    "execution": {
     "iopub.execute_input": "2021-10-11T19:00:09.287588Z",
     "iopub.status.busy": "2021-10-11T19:00:09.285125Z",
     "iopub.status.idle": "2021-10-11T19:00:09.292468Z",
     "shell.execute_reply": "2021-10-11T19:00:09.291062Z"
    },
    "papermill": {
     "duration": 0.042283,
     "end_time": "2021-10-11T19:00:09.292880",
     "exception": false,
     "start_time": "2021-10-11T19:00:09.250597",
     "status": "completed"
    },
    "tags": []
   },
   "outputs": [],
   "source": [
    "df_pivot.columns = [\"stamp_1\", \"stamp_2\"]\n",
    "df_pivot_diff = df_pivot.diff(axis=1)"
   ]
  },
  {
   "cell_type": "code",
   "execution_count": 7,
   "id": "fifth-motion",
   "metadata": {
    "execution": {
     "iopub.execute_input": "2021-10-11T19:00:09.347154Z",
     "iopub.status.busy": "2021-10-11T19:00:09.344865Z",
     "iopub.status.idle": "2021-10-11T19:00:10.846195Z",
     "shell.execute_reply": "2021-10-11T19:00:10.847507Z"
    },
    "papermill": {
     "duration": 1.534496,
     "end_time": "2021-10-11T19:00:10.847922",
     "exception": false,
     "start_time": "2021-10-11T19:00:09.313426",
     "status": "completed"
    },
    "tags": []
   },
   "outputs": [
    {
     "data": {
      "text/plain": [
       "<AxesSubplot:ylabel='PRODUCT'>"
      ]
     },
     "execution_count": 7,
     "metadata": {},
     "output_type": "execute_result"
    },
    {
     "data": {
      "image/png": "[encoded data removed]",
      "text/plain": [
       "<Figure size 432x288 with 1 Axes>"
      ]
     },
     "metadata": {
      "needs_background": "light"
     },
     "output_type": "display_data"
    }
   ],
   "source": [
    "df_pivot_diff.sort_values(\"stamp_2\", ascending = False)[\"stamp_2\"].head(10).plot.barh()"
   ]
  },
  {
   "cell_type": "code",
   "execution_count": null,
   "id": "extra-executive",
   "metadata": {
    "papermill": {
     "duration": 0.021957,
     "end_time": "2021-10-11T19:00:10.894180",
     "exception": false,
     "start_time": "2021-10-11T19:00:10.872223",
     "status": "completed"
    },
    "tags": []
   },
   "outputs": [],
   "source": []
  }
 ],
 "metadata": {
  "kernelspec": {
   "display_name": "Python 3",
   "language": "python",
   "name": "python3"
  },
  "language_info": {
   "codemirror_mode": {
    "name": "ipython",
    "version": 3
   },
   "file_extension": ".py",
   "mimetype": "text/x-python",
   "name": "python",
   "nbconvert_exporter": "python",
   "pygments_lexer": "ipython3",
   "version": "3.9.5"
  },
  "papermill": {
   "default_parameters": {},
   "duration": 7.820462,
   "end_time": "2021-10-11T19:00:12.220850",
   "environment_variables": {},
   "exception": null,
   "input_path": "eBay_Overview.ipynb",
   "output_path": "eBay_Overview.ipynb",
   "parameters": {},
   "start_time": "2021-10-11T19:00:04.400388",
   "version": "2.3.3"
  }
 },
 "nbformat": 4,
 "nbformat_minor": 5
}