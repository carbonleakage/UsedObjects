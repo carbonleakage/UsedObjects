{
 "cells": [
  {
   "cell_type": "code",
   "execution_count": 1,
   "id": "reverse-picking",
   "metadata": {
    "execution": {
     "iopub.execute_input": "2021-09-14T05:00:06.961194Z",
     "iopub.status.busy": "2021-09-14T05:00:06.959199Z",
     "iopub.status.idle": "2021-09-14T05:00:07.764871Z",
     "shell.execute_reply": "2021-09-14T05:00:07.766148Z"
    },
    "papermill": {
     "duration": 0.858648,
     "end_time": "2021-09-14T05:00:07.766758",
     "exception": false,
     "start_time": "2021-09-14T05:00:06.908110",
     "status": "completed"
    },
    "tags": []
   },
   "outputs": [],
   "source": [
    "import pandas as pd\n",
    "import sqlite3"
   ]
  },
  {
   "cell_type": "code",
   "execution_count": 2,
   "id": "innovative-syndrome",
   "metadata": {
    "execution": {
     "iopub.execute_input": "2021-09-14T05:00:07.816844Z",
     "iopub.status.busy": "2021-09-14T05:00:07.814937Z",
     "iopub.status.idle": "2021-09-14T05:00:08.101741Z",
     "shell.execute_reply": "2021-09-14T05:00:08.103014Z"
    },
    "papermill": {
     "duration": 0.316463,
     "end_time": "2021-09-14T05:00:08.103468",
     "exception": false,
     "start_time": "2021-09-14T05:00:07.787005",
     "status": "completed"
    },
    "tags": []
   },
   "outputs": [],
   "source": [
    "timestamps = pd.read_sql(\"select distinct record_time from EBAY_TOP_BERLIN order by record_time desc limit 2\", sqlite3.connect(\"UsedObjects.db\"))"
   ]
  },
  {
   "cell_type": "code",
   "execution_count": 3,
   "id": "periodic-identification",
   "metadata": {
    "execution": {
     "iopub.execute_input": "2021-09-14T05:00:08.166652Z",
     "iopub.status.busy": "2021-09-14T05:00:08.164619Z",
     "iopub.status.idle": "2021-09-14T05:00:08.186227Z",
     "shell.execute_reply": "2021-09-14T05:00:08.187779Z"
    },
    "papermill": {
     "duration": 0.065303,
     "end_time": "2021-09-14T05:00:08.188218",
     "exception": false,
     "start_time": "2021-09-14T05:00:08.122915",
     "status": "completed"
    },
    "tags": []
   },
   "outputs": [
    {
     "data": {
      "text/html": [
       "<div>\n",
       "<style scoped>\n",
       "    .dataframe tbody tr th:only-of-type {\n",
       "        vertical-align: middle;\n",
       "    }\n",
       "\n",
       "    .dataframe tbody tr th {\n",
       "        vertical-align: top;\n",
       "    }\n",
       "\n",
       "    .dataframe thead th {\n",
       "        text-align: right;\n",
       "    }\n",
       "</style>\n",
       "<table border=\"1\" class=\"dataframe\">\n",
       "  <thead>\n",
       "    <tr style=\"text-align: right;\">\n",
       "      <th></th>\n",
       "      <th>RECORD_TIME</th>\n",
       "    </tr>\n",
       "  </thead>\n",
       "  <tbody>\n",
       "    <tr>\n",
       "      <th>0</th>\n",
       "      <td>2021-09-14 07:00</td>\n",
       "    </tr>\n",
       "    <tr>\n",
       "      <th>1</th>\n",
       "      <td>2021-09-14 06:30</td>\n",
       "    </tr>\n",
       "  </tbody>\n",
       "</table>\n",
       "</div>"
      ],
      "text/plain": [
       "        RECORD_TIME\n",
       "0  2021-09-14 07:00\n",
       "1  2021-09-14 06:30"
      ]
     },
     "execution_count": 3,
     "metadata": {},
     "output_type": "execute_result"
    }
   ],
   "source": [
    "timestamps"
   ]
  },
  {
   "cell_type": "code",
   "execution_count": 4,
   "id": "alternate-victory",
   "metadata": {
    "execution": {
     "iopub.execute_input": "2021-09-14T05:00:08.241562Z",
     "iopub.status.busy": "2021-09-14T05:00:08.239496Z",
     "iopub.status.idle": "2021-09-14T05:00:08.685659Z",
     "shell.execute_reply": "2021-09-14T05:00:08.686812Z"
    },
    "papermill": {
     "duration": 0.476727,
     "end_time": "2021-09-14T05:00:08.687331",
     "exception": false,
     "start_time": "2021-09-14T05:00:08.210604",
     "status": "completed"
    },
    "tags": []
   },
   "outputs": [],
   "source": [
    "df = pd.read_sql(\"select * from EBAY_TOP_BERLIN where record_time in (select distinct record_time from EBAY_TOP_BERLIN order by record_time desc limit 2)\", sqlite3.connect(\"UsedObjects.db\"))"
   ]
  },
  {
   "cell_type": "code",
   "execution_count": 5,
   "id": "popular-active",
   "metadata": {
    "execution": {
     "iopub.execute_input": "2021-09-14T05:00:08.768648Z",
     "iopub.status.busy": "2021-09-14T05:00:08.756458Z",
     "iopub.status.idle": "2021-09-14T05:00:08.784646Z",
     "shell.execute_reply": "2021-09-14T05:00:08.785945Z"
    },
    "papermill": {
     "duration": 0.070826,
     "end_time": "2021-09-14T05:00:08.786362",
     "exception": false,
     "start_time": "2021-09-14T05:00:08.715536",
     "status": "completed"
    },
    "tags": []
   },
   "outputs": [],
   "source": [
    "df_pivot = df.pivot_table(index=\"PRODUCT\", columns = \"RECORD_TIME\", values = \"LISTING_COUNT\")"
   ]
  },
  {
   "cell_type": "code",
   "execution_count": 6,
   "id": "union-huntington",
   "metadata": {
    "execution": {
     "iopub.execute_input": "2021-09-14T05:00:08.842700Z",
     "iopub.status.busy": "2021-09-14T05:00:08.840410Z",
     "iopub.status.idle": "2021-09-14T05:00:08.846004Z",
     "shell.execute_reply": "2021-09-14T05:00:08.847469Z"
    },
    "papermill": {
     "duration": 0.041956,
     "end_time": "2021-09-14T05:00:08.847928",
     "exception": false,
     "start_time": "2021-09-14T05:00:08.805972",
     "status": "completed"
    },
    "tags": []
   },
   "outputs": [],
   "source": [
    "df_pivot.columns = [\"stamp_1\", \"stamp_2\"]\n",
    "df_pivot_diff = df_pivot.diff(axis=1)"
   ]
  },
  {
   "cell_type": "code",
   "execution_count": 7,
   "id": "fifth-motion",
   "metadata": {
    "execution": {
     "iopub.execute_input": "2021-09-14T05:00:08.902411Z",
     "iopub.status.busy": "2021-09-14T05:00:08.900152Z",
     "iopub.status.idle": "2021-09-14T05:00:10.425497Z",
     "shell.execute_reply": "2021-09-14T05:00:10.426703Z"
    },
    "papermill": {
     "duration": 1.558561,
     "end_time": "2021-09-14T05:00:10.427196",
     "exception": false,
     "start_time": "2021-09-14T05:00:08.868635",
     "status": "completed"
    },
    "tags": []
   },
   "outputs": [
    {
     "data": {
      "text/plain": [
       "<AxesSubplot:ylabel='PRODUCT'>"
      ]
     },
     "execution_count": 7,
     "metadata": {},
     "output_type": "execute_result"
    },
    {
     "data": {
      "image/png": "[encoded data removed]",
      "text/plain": [
       "<Figure size 432x288 with 1 Axes>"
      ]
     },
     "metadata": {
      "needs_background": "light"
     },
     "output_type": "display_data"
    }
   ],
   "source": [
    "df_pivot_diff.sort_values(\"stamp_2\", ascending = False)[\"stamp_2\"].head(10).plot.barh()"
   ]
  },
  {
   "cell_type": "code",
   "execution_count": null,
   "id": "extra-executive",
   "metadata": {
    "papermill": {
     "duration": 0.022176,
     "end_time": "2021-09-14T05:00:10.473285",
     "exception": false,
     "start_time": "2021-09-14T05:00:10.451109",
     "status": "completed"
    },
    "tags": []
   },
   "outputs": [],
   "source": []
  }
 ],
 "metadata": {
  "kernelspec": {
   "display_name": "Python 3",
   "language": "python",
   "name": "python3"
  },
  "language_info": {
   "codemirror_mode": {
    "name": "ipython",
    "version": 3
   },
   "file_extension": ".py",
   "mimetype": "text/x-python",
   "name": "python",
   "nbconvert_exporter": "python",
   "pygments_lexer": "ipython3",
   "version": "3.9.5"
  },
  "papermill": {
   "default_parameters": {},
   "duration": 6.624051,
   "end_time": "2021-09-14T05:00:11.117242",
   "environment_variables": {},
   "exception": null,
   "input_path": "eBay_Overview.ipynb",
   "output_path": "eBay_Overview.ipynb",
   "parameters": {},
   "start_time": "2021-09-14T05:00:04.493191",
   "version": "2.3.3"
  }
 },
 "nbformat": 4,
 "nbformat_minor": 5
}