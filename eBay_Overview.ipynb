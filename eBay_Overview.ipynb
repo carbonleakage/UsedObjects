{
 "cells": [
  {
   "cell_type": "code",
   "execution_count": 1,
   "id": "reverse-picking",
   "metadata": {
    "execution": {
     "iopub.execute_input": "2021-11-29T01:00:08.021055Z",
     "iopub.status.busy": "2021-11-29T01:00:08.018749Z",
     "iopub.status.idle": "2021-11-29T01:00:08.952026Z",
     "shell.execute_reply": "2021-11-29T01:00:08.953695Z"
    },
    "papermill": {
     "duration": 0.98521,
     "end_time": "2021-11-29T01:00:08.954437",
     "exception": false,
     "start_time": "2021-11-29T01:00:07.969227",
     "status": "completed"
    },
    "tags": []
   },
   "outputs": [],
   "source": [
    "import pandas as pd\n",
    "import sqlite3"
   ]
  },
  {
   "cell_type": "code",
   "execution_count": 2,
   "id": "innovative-syndrome",
   "metadata": {
    "execution": {
     "iopub.execute_input": "2021-11-29T01:00:09.026086Z",
     "iopub.status.busy": "2021-11-29T01:00:09.023753Z",
     "iopub.status.idle": "2021-11-29T01:00:09.969187Z",
     "shell.execute_reply": "2021-11-29T01:00:09.970787Z"
    },
    "papermill": {
     "duration": 0.979568,
     "end_time": "2021-11-29T01:00:09.971273",
     "exception": false,
     "start_time": "2021-11-29T01:00:08.991705",
     "status": "completed"
    },
    "tags": []
   },
   "outputs": [],
   "source": [
    "timestamps = pd.read_sql(\"select distinct record_time from EBAY_TOP_BERLIN order by record_time desc limit 2\", sqlite3.connect(\"UsedObjects.db\"))"
   ]
  },
  {
   "cell_type": "code",
   "execution_count": 3,
   "id": "periodic-identification",
   "metadata": {
    "execution": {
     "iopub.execute_input": "2021-11-29T01:00:10.041300Z",
     "iopub.status.busy": "2021-11-29T01:00:10.038881Z",
     "iopub.status.idle": "2021-11-29T01:00:10.061496Z",
     "shell.execute_reply": "2021-11-29T01:00:10.062946Z"
    },
    "papermill": {
     "duration": 0.072015,
     "end_time": "2021-11-29T01:00:10.063424",
     "exception": false,
     "start_time": "2021-11-29T01:00:09.991409",
     "status": "completed"
    },
    "tags": []
   },
   "outputs": [
    {
     "data": {
      "text/html": [
       "<div>\n",
       "<style scoped>\n",
       "    .dataframe tbody tr th:only-of-type {\n",
       "        vertical-align: middle;\n",
       "    }\n",
       "\n",
       "    .dataframe tbody tr th {\n",
       "        vertical-align: top;\n",
       "    }\n",
       "\n",
       "    .dataframe thead th {\n",
       "        text-align: right;\n",
       "    }\n",
       "</style>\n",
       "<table border=\"1\" class=\"dataframe\">\n",
       "  <thead>\n",
       "    <tr style=\"text-align: right;\">\n",
       "      <th></th>\n",
       "      <th>RECORD_TIME</th>\n",
       "    </tr>\n",
       "  </thead>\n",
       "  <tbody>\n",
       "    <tr>\n",
       "      <th>0</th>\n",
       "      <td>2021-11-29 02:00</td>\n",
       "    </tr>\n",
       "    <tr>\n",
       "      <th>1</th>\n",
       "      <td>2021-11-29 01:30</td>\n",
       "    </tr>\n",
       "  </tbody>\n",
       "</table>\n",
       "</div>"
      ],
      "text/plain": [
       "        RECORD_TIME\n",
       "0  2021-11-29 02:00\n",
       "1  2021-11-29 01:30"
      ]
     },
     "execution_count": 3,
     "metadata": {},
     "output_type": "execute_result"
    }
   ],
   "source": [
    "timestamps"
   ]
  },
  {
   "cell_type": "code",
   "execution_count": 4,
   "id": "alternate-victory",
   "metadata": {
    "execution": {
     "iopub.execute_input": "2021-11-29T01:00:10.120893Z",
     "iopub.status.busy": "2021-11-29T01:00:10.118986Z",
     "iopub.status.idle": "2021-11-29T01:00:11.488362Z",
     "shell.execute_reply": "2021-11-29T01:00:11.490150Z"
    },
    "papermill": {
     "duration": 1.404891,
     "end_time": "2021-11-29T01:00:11.490691",
     "exception": false,
     "start_time": "2021-11-29T01:00:10.085800",
     "status": "completed"
    },
    "tags": []
   },
   "outputs": [],
   "source": [
    "df = pd.read_sql(\"select * from EBAY_TOP_BERLIN where record_time in (select distinct record_time from EBAY_TOP_BERLIN order by record_time desc limit 2)\", sqlite3.connect(\"UsedObjects.db\"))"
   ]
  },
  {
   "cell_type": "code",
   "execution_count": 5,
   "id": "popular-active",
   "metadata": {
    "execution": {
     "iopub.execute_input": "2021-11-29T01:00:11.555950Z",
     "iopub.status.busy": "2021-11-29T01:00:11.553708Z",
     "iopub.status.idle": "2021-11-29T01:00:11.583898Z",
     "shell.execute_reply": "2021-11-29T01:00:11.585347Z"
    },
    "papermill": {
     "duration": 0.073144,
     "end_time": "2021-11-29T01:00:11.585819",
     "exception": false,
     "start_time": "2021-11-29T01:00:11.512675",
     "status": "completed"
    },
    "tags": []
   },
   "outputs": [],
   "source": [
    "df_pivot = df.pivot_table(index=\"PRODUCT\", columns = \"RECORD_TIME\", values = \"LISTING_COUNT\")"
   ]
  },
  {
   "cell_type": "code",
   "execution_count": 6,
   "id": "union-huntington",
   "metadata": {
    "execution": {
     "iopub.execute_input": "2021-11-29T01:00:11.645141Z",
     "iopub.status.busy": "2021-11-29T01:00:11.642619Z",
     "iopub.status.idle": "2021-11-29T01:00:11.649568Z",
     "shell.execute_reply": "2021-11-29T01:00:11.651678Z"
    },
    "papermill": {
     "duration": 0.046347,
     "end_time": "2021-11-29T01:00:11.652194",
     "exception": false,
     "start_time": "2021-11-29T01:00:11.605847",
     "status": "completed"
    },
    "tags": []
   },
   "outputs": [],
   "source": [
    "df_pivot.columns = [\"stamp_1\", \"stamp_2\"]\n",
    "df_pivot_diff = df_pivot.diff(axis=1)"
   ]
  },
  {
   "cell_type": "code",
   "execution_count": 7,
   "id": "fifth-motion",
   "metadata": {
    "execution": {
     "iopub.execute_input": "2021-11-29T01:00:11.714113Z",
     "iopub.status.busy": "2021-11-29T01:00:11.711159Z",
     "iopub.status.idle": "2021-11-29T01:00:13.673759Z",
     "shell.execute_reply": "2021-11-29T01:00:13.676150Z"
    },
    "papermill": {
     "duration": 2.000746,
     "end_time": "2021-11-29T01:00:13.676913",
     "exception": false,
     "start_time": "2021-11-29T01:00:11.676167",
     "status": "completed"
    },
    "tags": []
   },
   "outputs": [
    {
     "data": {
      "text/plain": [
       "<AxesSubplot:ylabel='PRODUCT'>"
      ]
     },
     "execution_count": 7,
     "metadata": {},
     "output_type": "execute_result"
    },
    {
     "data": {
      "image/png": "[encoded data removed]",
      "text/plain": [
       "<Figure size 432x288 with 1 Axes>"
      ]
     },
     "metadata": {
      "needs_background": "light"
     },
     "output_type": "display_data"
    }
   ],
   "source": [
    "df_pivot_diff.sort_values(\"stamp_2\", ascending = False)[\"stamp_2\"].head(10).plot.barh()"
   ]
  },
  {
   "cell_type": "code",
   "execution_count": null,
   "id": "extra-executive",
   "metadata": {
    "papermill": {
     "duration": 0.027822,
     "end_time": "2021-11-29T01:00:13.739283",
     "exception": false,
     "start_time": "2021-11-29T01:00:13.711461",
     "status": "completed"
    },
    "tags": []
   },
   "outputs": [],
   "source": []
  }
 ],
 "metadata": {
  "kernelspec": {
   "display_name": "Python 3",
   "language": "python",
   "name": "python3"
  },
  "language_info": {
   "codemirror_mode": {
    "name": "ipython",
    "version": 3
   },
   "file_extension": ".py",
   "mimetype": "text/x-python",
   "name": "python",
   "nbconvert_exporter": "python",
   "pygments_lexer": "ipython3",
   "version": "3.9.5"
  },
  "papermill": {
   "default_parameters": {},
   "duration": 9.942423,
   "end_time": "2021-11-29T01:00:15.178668",
   "environment_variables": {},
   "exception": null,
   "input_path": "eBay_Overview.ipynb",
   "output_path": "eBay_Overview.ipynb",
   "parameters": {},
   "start_time": "2021-11-29T01:00:05.236245",
   "version": "2.3.3"
  }
 },
 "nbformat": 4,
 "nbformat_minor": 5
}