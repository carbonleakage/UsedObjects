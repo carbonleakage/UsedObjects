{
 "cells": [
  {
   "cell_type": "code",
   "execution_count": 1,
   "id": "reverse-picking",
   "metadata": {
    "execution": {
     "iopub.execute_input": "2021-10-17T22:30:06.718327Z",
     "iopub.status.busy": "2021-10-17T22:30:06.716297Z",
     "iopub.status.idle": "2021-10-17T22:30:07.526326Z",
     "shell.execute_reply": "2021-10-17T22:30:07.527764Z"
    },
    "papermill": {
     "duration": 0.861095,
     "end_time": "2021-10-17T22:30:07.528446",
     "exception": false,
     "start_time": "2021-10-17T22:30:06.667351",
     "status": "completed"
    },
    "tags": []
   },
   "outputs": [],
   "source": [
    "import pandas as pd\n",
    "import sqlite3"
   ]
  },
  {
   "cell_type": "code",
   "execution_count": 2,
   "id": "innovative-syndrome",
   "metadata": {
    "execution": {
     "iopub.execute_input": "2021-10-17T22:30:07.579895Z",
     "iopub.status.busy": "2021-10-17T22:30:07.577579Z",
     "iopub.status.idle": "2021-10-17T22:30:08.149104Z",
     "shell.execute_reply": "2021-10-17T22:30:08.150610Z"
    },
    "papermill": {
     "duration": 0.602207,
     "end_time": "2021-10-17T22:30:08.151061",
     "exception": false,
     "start_time": "2021-10-17T22:30:07.548854",
     "status": "completed"
    },
    "tags": []
   },
   "outputs": [],
   "source": [
    "timestamps = pd.read_sql(\"select distinct record_time from EBAY_TOP_BERLIN order by record_time desc limit 2\", sqlite3.connect(\"UsedObjects.db\"))"
   ]
  },
  {
   "cell_type": "code",
   "execution_count": 3,
   "id": "periodic-identification",
   "metadata": {
    "execution": {
     "iopub.execute_input": "2021-10-17T22:30:08.233588Z",
     "iopub.status.busy": "2021-10-17T22:30:08.228084Z",
     "iopub.status.idle": "2021-10-17T22:30:08.249722Z",
     "shell.execute_reply": "2021-10-17T22:30:08.251217Z"
    },
    "papermill": {
     "duration": 0.072952,
     "end_time": "2021-10-17T22:30:08.251686",
     "exception": false,
     "start_time": "2021-10-17T22:30:08.178734",
     "status": "completed"
    },
    "tags": []
   },
   "outputs": [
    {
     "data": {
      "text/html": [
       "<div>\n",
       "<style scoped>\n",
       "    .dataframe tbody tr th:only-of-type {\n",
       "        vertical-align: middle;\n",
       "    }\n",
       "\n",
       "    .dataframe tbody tr th {\n",
       "        vertical-align: top;\n",
       "    }\n",
       "\n",
       "    .dataframe thead th {\n",
       "        text-align: right;\n",
       "    }\n",
       "</style>\n",
       "<table border=\"1\" class=\"dataframe\">\n",
       "  <thead>\n",
       "    <tr style=\"text-align: right;\">\n",
       "      <th></th>\n",
       "      <th>RECORD_TIME</th>\n",
       "    </tr>\n",
       "  </thead>\n",
       "  <tbody>\n",
       "    <tr>\n",
       "      <th>0</th>\n",
       "      <td>2021-10-18 00:30</td>\n",
       "    </tr>\n",
       "    <tr>\n",
       "      <th>1</th>\n",
       "      <td>2021-10-18 00:00</td>\n",
       "    </tr>\n",
       "  </tbody>\n",
       "</table>\n",
       "</div>"
      ],
      "text/plain": [
       "        RECORD_TIME\n",
       "0  2021-10-18 00:30\n",
       "1  2021-10-18 00:00"
      ]
     },
     "execution_count": 3,
     "metadata": {},
     "output_type": "execute_result"
    }
   ],
   "source": [
    "timestamps"
   ]
  },
  {
   "cell_type": "code",
   "execution_count": 4,
   "id": "alternate-victory",
   "metadata": {
    "execution": {
     "iopub.execute_input": "2021-10-17T22:30:08.303509Z",
     "iopub.status.busy": "2021-10-17T22:30:08.301225Z",
     "iopub.status.idle": "2021-10-17T22:30:09.150032Z",
     "shell.execute_reply": "2021-10-17T22:30:09.151317Z"
    },
    "papermill": {
     "duration": 0.878734,
     "end_time": "2021-10-17T22:30:09.151722",
     "exception": false,
     "start_time": "2021-10-17T22:30:08.272988",
     "status": "completed"
    },
    "tags": []
   },
   "outputs": [],
   "source": [
    "df = pd.read_sql(\"select * from EBAY_TOP_BERLIN where record_time in (select distinct record_time from EBAY_TOP_BERLIN order by record_time desc limit 2)\", sqlite3.connect(\"UsedObjects.db\"))"
   ]
  },
  {
   "cell_type": "code",
   "execution_count": 5,
   "id": "popular-active",
   "metadata": {
    "execution": {
     "iopub.execute_input": "2021-10-17T22:30:09.221457Z",
     "iopub.status.busy": "2021-10-17T22:30:09.210189Z",
     "iopub.status.idle": "2021-10-17T22:30:09.238157Z",
     "shell.execute_reply": "2021-10-17T22:30:09.239387Z"
    },
    "papermill": {
     "duration": 0.067542,
     "end_time": "2021-10-17T22:30:09.239789",
     "exception": false,
     "start_time": "2021-10-17T22:30:09.172247",
     "status": "completed"
    },
    "tags": []
   },
   "outputs": [],
   "source": [
    "df_pivot = df.pivot_table(index=\"PRODUCT\", columns = \"RECORD_TIME\", values = \"LISTING_COUNT\")"
   ]
  },
  {
   "cell_type": "code",
   "execution_count": 6,
   "id": "union-huntington",
   "metadata": {
    "execution": {
     "iopub.execute_input": "2021-10-17T22:30:09.295238Z",
     "iopub.status.busy": "2021-10-17T22:30:09.293264Z",
     "iopub.status.idle": "2021-10-17T22:30:09.298267Z",
     "shell.execute_reply": "2021-10-17T22:30:09.299491Z"
    },
    "papermill": {
     "duration": 0.039475,
     "end_time": "2021-10-17T22:30:09.299890",
     "exception": false,
     "start_time": "2021-10-17T22:30:09.260415",
     "status": "completed"
    },
    "tags": []
   },
   "outputs": [],
   "source": [
    "df_pivot.columns = [\"stamp_1\", \"stamp_2\"]\n",
    "df_pivot_diff = df_pivot.diff(axis=1)"
   ]
  },
  {
   "cell_type": "code",
   "execution_count": 7,
   "id": "fifth-motion",
   "metadata": {
    "execution": {
     "iopub.execute_input": "2021-10-17T22:30:09.355595Z",
     "iopub.status.busy": "2021-10-17T22:30:09.352969Z",
     "iopub.status.idle": "2021-10-17T22:30:10.852860Z",
     "shell.execute_reply": "2021-10-17T22:30:10.854162Z"
    },
    "papermill": {
     "duration": 1.533546,
     "end_time": "2021-10-17T22:30:10.854580",
     "exception": false,
     "start_time": "2021-10-17T22:30:09.321034",
     "status": "completed"
    },
    "tags": []
   },
   "outputs": [
    {
     "data": {
      "text/plain": [
       "<AxesSubplot:ylabel='PRODUCT'>"
      ]
     },
     "execution_count": 7,
     "metadata": {},
     "output_type": "execute_result"
    },
    {
     "data": {
      "image/png": "[encoded data removed]",
      "text/plain": [
       "<Figure size 432x288 with 1 Axes>"
      ]
     },
     "metadata": {
      "needs_background": "light"
     },
     "output_type": "display_data"
    }
   ],
   "source": [
    "df_pivot_diff.sort_values(\"stamp_2\", ascending = False)[\"stamp_2\"].head(10).plot.barh()"
   ]
  },
  {
   "cell_type": "code",
   "execution_count": null,
   "id": "extra-executive",
   "metadata": {
    "papermill": {
     "duration": 0.022025,
     "end_time": "2021-10-17T22:30:10.901243",
     "exception": false,
     "start_time": "2021-10-17T22:30:10.879218",
     "status": "completed"
    },
    "tags": []
   },
   "outputs": [],
   "source": []
  }
 ],
 "metadata": {
  "kernelspec": {
   "display_name": "Python 3",
   "language": "python",
   "name": "python3"
  },
  "language_info": {
   "codemirror_mode": {
    "name": "ipython",
    "version": 3
   },
   "file_extension": ".py",
   "mimetype": "text/x-python",
   "name": "python",
   "nbconvert_exporter": "python",
   "pygments_lexer": "ipython3",
   "version": "3.9.5"
  },
  "papermill": {
   "default_parameters": {},
   "duration": 7.820079,
   "end_time": "2021-10-17T22:30:12.075313",
   "environment_variables": {},
   "exception": null,
   "input_path": "eBay_Overview.ipynb",
   "output_path": "eBay_Overview.ipynb",
   "parameters": {},
   "start_time": "2021-10-17T22:30:04.255234",
   "version": "2.3.3"
  }
 },
 "nbformat": 4,
 "nbformat_minor": 5
}