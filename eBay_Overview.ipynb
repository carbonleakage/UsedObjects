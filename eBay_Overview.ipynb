{
 "cells": [
  {
   "cell_type": "code",
   "execution_count": 1,
   "id": "reverse-picking",
   "metadata": {
    "execution": {
     "iopub.execute_input": "2021-08-26T17:30:06.736706Z",
     "iopub.status.busy": "2021-08-26T17:30:06.734688Z",
     "iopub.status.idle": "2021-08-26T17:30:07.541462Z",
     "shell.execute_reply": "2021-08-26T17:30:07.542710Z"
    },
    "papermill": {
     "duration": 0.857,
     "end_time": "2021-08-26T17:30:07.543325",
     "exception": false,
     "start_time": "2021-08-26T17:30:06.686325",
     "status": "completed"
    },
    "tags": []
   },
   "outputs": [],
   "source": [
    "import pandas as pd\n",
    "import sqlite3"
   ]
  },
  {
   "cell_type": "code",
   "execution_count": 2,
   "id": "innovative-syndrome",
   "metadata": {
    "execution": {
     "iopub.execute_input": "2021-08-26T17:30:07.595890Z",
     "iopub.status.busy": "2021-08-26T17:30:07.593588Z",
     "iopub.status.idle": "2021-08-26T17:30:07.730349Z",
     "shell.execute_reply": "2021-08-26T17:30:07.731546Z"
    },
    "papermill": {
     "duration": 0.166555,
     "end_time": "2021-08-26T17:30:07.731942",
     "exception": false,
     "start_time": "2021-08-26T17:30:07.565387",
     "status": "completed"
    },
    "tags": []
   },
   "outputs": [],
   "source": [
    "timestamps = pd.read_sql(\"select distinct record_time from EBAY_TOP_BERLIN order by record_time desc limit 2\", sqlite3.connect(\"UsedObjects.db\"))"
   ]
  },
  {
   "cell_type": "code",
   "execution_count": 3,
   "id": "periodic-identification",
   "metadata": {
    "execution": {
     "iopub.execute_input": "2021-08-26T17:30:07.794781Z",
     "iopub.status.busy": "2021-08-26T17:30:07.792789Z",
     "iopub.status.idle": "2021-08-26T17:30:07.812719Z",
     "shell.execute_reply": "2021-08-26T17:30:07.814040Z"
    },
    "papermill": {
     "duration": 0.063215,
     "end_time": "2021-08-26T17:30:07.814459",
     "exception": false,
     "start_time": "2021-08-26T17:30:07.751244",
     "status": "completed"
    },
    "tags": []
   },
   "outputs": [
    {
     "data": {
      "text/html": [
       "<div>\n",
       "<style scoped>\n",
       "    .dataframe tbody tr th:only-of-type {\n",
       "        vertical-align: middle;\n",
       "    }\n",
       "\n",
       "    .dataframe tbody tr th {\n",
       "        vertical-align: top;\n",
       "    }\n",
       "\n",
       "    .dataframe thead th {\n",
       "        text-align: right;\n",
       "    }\n",
       "</style>\n",
       "<table border=\"1\" class=\"dataframe\">\n",
       "  <thead>\n",
       "    <tr style=\"text-align: right;\">\n",
       "      <th></th>\n",
       "      <th>RECORD_TIME</th>\n",
       "    </tr>\n",
       "  </thead>\n",
       "  <tbody>\n",
       "    <tr>\n",
       "      <th>0</th>\n",
       "      <td>2021-08-26 19:30</td>\n",
       "    </tr>\n",
       "    <tr>\n",
       "      <th>1</th>\n",
       "      <td>2021-08-26 19:00</td>\n",
       "    </tr>\n",
       "  </tbody>\n",
       "</table>\n",
       "</div>"
      ],
      "text/plain": [
       "        RECORD_TIME\n",
       "0  2021-08-26 19:30\n",
       "1  2021-08-26 19:00"
      ]
     },
     "execution_count": 3,
     "metadata": {},
     "output_type": "execute_result"
    }
   ],
   "source": [
    "timestamps"
   ]
  },
  {
   "cell_type": "code",
   "execution_count": 4,
   "id": "alternate-victory",
   "metadata": {
    "execution": {
     "iopub.execute_input": "2021-08-26T17:30:07.865422Z",
     "iopub.status.busy": "2021-08-26T17:30:07.863373Z",
     "iopub.status.idle": "2021-08-26T17:30:08.063706Z",
     "shell.execute_reply": "2021-08-26T17:30:08.062380Z"
    },
    "papermill": {
     "duration": 0.228526,
     "end_time": "2021-08-26T17:30:08.064038",
     "exception": false,
     "start_time": "2021-08-26T17:30:07.835512",
     "status": "completed"
    },
    "tags": []
   },
   "outputs": [],
   "source": [
    "df = pd.read_sql(\"select * from EBAY_TOP_BERLIN where record_time in (select distinct record_time from EBAY_TOP_BERLIN order by record_time desc limit 2)\", sqlite3.connect(\"UsedObjects.db\"))"
   ]
  },
  {
   "cell_type": "code",
   "execution_count": 5,
   "id": "popular-active",
   "metadata": {
    "execution": {
     "iopub.execute_input": "2021-08-26T17:30:08.136031Z",
     "iopub.status.busy": "2021-08-26T17:30:08.123211Z",
     "iopub.status.idle": "2021-08-26T17:30:08.151647Z",
     "shell.execute_reply": "2021-08-26T17:30:08.152920Z"
    },
    "papermill": {
     "duration": 0.068557,
     "end_time": "2021-08-26T17:30:08.153328",
     "exception": false,
     "start_time": "2021-08-26T17:30:08.084771",
     "status": "completed"
    },
    "tags": []
   },
   "outputs": [],
   "source": [
    "df_pivot = df.pivot_table(index=\"PRODUCT\", columns = \"RECORD_TIME\", values = \"LISTING_COUNT\")"
   ]
  },
  {
   "cell_type": "code",
   "execution_count": 6,
   "id": "union-huntington",
   "metadata": {
    "execution": {
     "iopub.execute_input": "2021-08-26T17:30:08.220169Z",
     "iopub.status.busy": "2021-08-26T17:30:08.217966Z",
     "iopub.status.idle": "2021-08-26T17:30:08.223606Z",
     "shell.execute_reply": "2021-08-26T17:30:08.225121Z"
    },
    "papermill": {
     "duration": 0.044463,
     "end_time": "2021-08-26T17:30:08.225579",
     "exception": false,
     "start_time": "2021-08-26T17:30:08.181116",
     "status": "completed"
    },
    "tags": []
   },
   "outputs": [],
   "source": [
    "df_pivot.columns = [\"stamp_1\", \"stamp_2\"]\n",
    "df_pivot_diff = df_pivot.diff(axis=1)"
   ]
  },
  {
   "cell_type": "code",
   "execution_count": 7,
   "id": "fifth-motion",
   "metadata": {
    "execution": {
     "iopub.execute_input": "2021-08-26T17:30:08.280861Z",
     "iopub.status.busy": "2021-08-26T17:30:08.278166Z",
     "iopub.status.idle": "2021-08-26T17:30:09.781651Z",
     "shell.execute_reply": "2021-08-26T17:30:09.782907Z"
    },
    "papermill": {
     "duration": 1.53703,
     "end_time": "2021-08-26T17:30:09.783355",
     "exception": false,
     "start_time": "2021-08-26T17:30:08.246325",
     "status": "completed"
    },
    "tags": []
   },
   "outputs": [
    {
     "data": {
      "text/plain": [
       "<AxesSubplot:ylabel='PRODUCT'>"
      ]
     },
     "execution_count": 7,
     "metadata": {},
     "output_type": "execute_result"
    },
    {
     "data": {
      "image/png": "[encoded data removed]",
      "text/plain": [
       "<Figure size 432x288 with 1 Axes>"
      ]
     },
     "metadata": {
      "needs_background": "light"
     },
     "output_type": "display_data"
    }
   ],
   "source": [
    "df_pivot_diff.sort_values(\"stamp_2\", ascending = False)[\"stamp_2\"].head(10).plot.barh()"
   ]
  },
  {
   "cell_type": "code",
   "execution_count": null,
   "id": "extra-executive",
   "metadata": {
    "papermill": {
     "duration": 0.022232,
     "end_time": "2021-08-26T17:30:09.829738",
     "exception": false,
     "start_time": "2021-08-26T17:30:09.807506",
     "status": "completed"
    },
    "tags": []
   },
   "outputs": [],
   "source": []
  }
 ],
 "metadata": {
  "kernelspec": {
   "display_name": "Python 3",
   "language": "python",
   "name": "python3"
  },
  "language_info": {
   "codemirror_mode": {
    "name": "ipython",
    "version": 3
   },
   "file_extension": ".py",
   "mimetype": "text/x-python",
   "name": "python",
   "nbconvert_exporter": "python",
   "pygments_lexer": "ipython3",
   "version": "3.9.5"
  },
  "papermill": {
   "default_parameters": {},
   "duration": 6.820471,
   "end_time": "2021-08-26T17:30:11.107409",
   "environment_variables": {},
   "exception": null,
   "input_path": "eBay_Overview.ipynb",
   "output_path": "eBay_Overview.ipynb",
   "parameters": {},
   "start_time": "2021-08-26T17:30:04.286938",
   "version": "2.3.3"
  }
 },
 "nbformat": 4,
 "nbformat_minor": 5
}