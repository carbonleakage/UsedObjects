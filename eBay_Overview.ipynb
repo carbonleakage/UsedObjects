{
 "cells": [
  {
   "cell_type": "code",
   "execution_count": 1,
   "id": "reverse-picking",
   "metadata": {
    "execution": {
     "iopub.execute_input": "2021-09-20T09:00:07.240573Z",
     "iopub.status.busy": "2021-09-20T09:00:07.238552Z",
     "iopub.status.idle": "2021-09-20T09:00:08.044674Z",
     "shell.execute_reply": "2021-09-20T09:00:08.045910Z"
    },
    "papermill": {
     "duration": 0.857783,
     "end_time": "2021-09-20T09:00:08.046513",
     "exception": false,
     "start_time": "2021-09-20T09:00:07.188730",
     "status": "completed"
    },
    "tags": []
   },
   "outputs": [],
   "source": [
    "import pandas as pd\n",
    "import sqlite3"
   ]
  },
  {
   "cell_type": "code",
   "execution_count": 2,
   "id": "innovative-syndrome",
   "metadata": {
    "execution": {
     "iopub.execute_input": "2021-09-20T09:00:08.097920Z",
     "iopub.status.busy": "2021-09-20T09:00:08.096066Z",
     "iopub.status.idle": "2021-09-20T09:00:08.423670Z",
     "shell.execute_reply": "2021-09-20T09:00:08.425038Z"
    },
    "papermill": {
     "duration": 0.357223,
     "end_time": "2021-09-20T09:00:08.425473",
     "exception": false,
     "start_time": "2021-09-20T09:00:08.068250",
     "status": "completed"
    },
    "tags": []
   },
   "outputs": [],
   "source": [
    "timestamps = pd.read_sql(\"select distinct record_time from EBAY_TOP_BERLIN order by record_time desc limit 2\", sqlite3.connect(\"UsedObjects.db\"))"
   ]
  },
  {
   "cell_type": "code",
   "execution_count": 3,
   "id": "periodic-identification",
   "metadata": {
    "execution": {
     "iopub.execute_input": "2021-09-20T09:00:08.492459Z",
     "iopub.status.busy": "2021-09-20T09:00:08.490366Z",
     "iopub.status.idle": "2021-09-20T09:00:08.510568Z",
     "shell.execute_reply": "2021-09-20T09:00:08.511917Z"
    },
    "papermill": {
     "duration": 0.066977,
     "end_time": "2021-09-20T09:00:08.512326",
     "exception": false,
     "start_time": "2021-09-20T09:00:08.445349",
     "status": "completed"
    },
    "tags": []
   },
   "outputs": [
    {
     "data": {
      "text/html": [
       "<div>\n",
       "<style scoped>\n",
       "    .dataframe tbody tr th:only-of-type {\n",
       "        vertical-align: middle;\n",
       "    }\n",
       "\n",
       "    .dataframe tbody tr th {\n",
       "        vertical-align: top;\n",
       "    }\n",
       "\n",
       "    .dataframe thead th {\n",
       "        text-align: right;\n",
       "    }\n",
       "</style>\n",
       "<table border=\"1\" class=\"dataframe\">\n",
       "  <thead>\n",
       "    <tr style=\"text-align: right;\">\n",
       "      <th></th>\n",
       "      <th>RECORD_TIME</th>\n",
       "    </tr>\n",
       "  </thead>\n",
       "  <tbody>\n",
       "    <tr>\n",
       "      <th>0</th>\n",
       "      <td>2021-09-20 11:00</td>\n",
       "    </tr>\n",
       "    <tr>\n",
       "      <th>1</th>\n",
       "      <td>2021-09-20 10:30</td>\n",
       "    </tr>\n",
       "  </tbody>\n",
       "</table>\n",
       "</div>"
      ],
      "text/plain": [
       "        RECORD_TIME\n",
       "0  2021-09-20 11:00\n",
       "1  2021-09-20 10:30"
      ]
     },
     "execution_count": 3,
     "metadata": {},
     "output_type": "execute_result"
    }
   ],
   "source": [
    "timestamps"
   ]
  },
  {
   "cell_type": "code",
   "execution_count": 4,
   "id": "alternate-victory",
   "metadata": {
    "execution": {
     "iopub.execute_input": "2021-09-20T09:00:08.564070Z",
     "iopub.status.busy": "2021-09-20T09:00:08.562041Z",
     "iopub.status.idle": "2021-09-20T09:00:09.050041Z",
     "shell.execute_reply": "2021-09-20T09:00:09.051212Z"
    },
    "papermill": {
     "duration": 0.517923,
     "end_time": "2021-09-20T09:00:09.051621",
     "exception": false,
     "start_time": "2021-09-20T09:00:08.533698",
     "status": "completed"
    },
    "tags": []
   },
   "outputs": [],
   "source": [
    "df = pd.read_sql(\"select * from EBAY_TOP_BERLIN where record_time in (select distinct record_time from EBAY_TOP_BERLIN order by record_time desc limit 2)\", sqlite3.connect(\"UsedObjects.db\"))"
   ]
  },
  {
   "cell_type": "code",
   "execution_count": 5,
   "id": "popular-active",
   "metadata": {
    "execution": {
     "iopub.execute_input": "2021-09-20T09:00:09.133079Z",
     "iopub.status.busy": "2021-09-20T09:00:09.120510Z",
     "iopub.status.idle": "2021-09-20T09:00:09.149923Z",
     "shell.execute_reply": "2021-09-20T09:00:09.151286Z"
    },
    "papermill": {
     "duration": 0.071981,
     "end_time": "2021-09-20T09:00:09.151713",
     "exception": false,
     "start_time": "2021-09-20T09:00:09.079732",
     "status": "completed"
    },
    "tags": []
   },
   "outputs": [],
   "source": [
    "df_pivot = df.pivot_table(index=\"PRODUCT\", columns = \"RECORD_TIME\", values = \"LISTING_COUNT\")"
   ]
  },
  {
   "cell_type": "code",
   "execution_count": 6,
   "id": "union-huntington",
   "metadata": {
    "execution": {
     "iopub.execute_input": "2021-09-20T09:00:09.207948Z",
     "iopub.status.busy": "2021-09-20T09:00:09.205851Z",
     "iopub.status.idle": "2021-09-20T09:00:09.211304Z",
     "shell.execute_reply": "2021-09-20T09:00:09.212615Z"
    },
    "papermill": {
     "duration": 0.041086,
     "end_time": "2021-09-20T09:00:09.213031",
     "exception": false,
     "start_time": "2021-09-20T09:00:09.171945",
     "status": "completed"
    },
    "tags": []
   },
   "outputs": [],
   "source": [
    "df_pivot.columns = [\"stamp_1\", \"stamp_2\"]\n",
    "df_pivot_diff = df_pivot.diff(axis=1)"
   ]
  },
  {
   "cell_type": "code",
   "execution_count": 7,
   "id": "fifth-motion",
   "metadata": {
    "execution": {
     "iopub.execute_input": "2021-09-20T09:00:09.268264Z",
     "iopub.status.busy": "2021-09-20T09:00:09.265699Z",
     "iopub.status.idle": "2021-09-20T09:00:10.777754Z",
     "shell.execute_reply": "2021-09-20T09:00:10.779143Z"
    },
    "papermill": {
     "duration": 1.54523,
     "end_time": "2021-09-20T09:00:10.779610",
     "exception": false,
     "start_time": "2021-09-20T09:00:09.234380",
     "status": "completed"
    },
    "tags": []
   },
   "outputs": [
    {
     "data": {
      "text/plain": [
       "<AxesSubplot:ylabel='PRODUCT'>"
      ]
     },
     "execution_count": 7,
     "metadata": {},
     "output_type": "execute_result"
    },
    {
     "data": {
      "image/png": "[encoded data removed]",
      "text/plain": [
       "<Figure size 432x288 with 1 Axes>"
      ]
     },
     "metadata": {
      "needs_background": "light"
     },
     "output_type": "display_data"
    }
   ],
   "source": [
    "df_pivot_diff.sort_values(\"stamp_2\", ascending = False)[\"stamp_2\"].head(10).plot.barh()"
   ]
  },
  {
   "cell_type": "code",
   "execution_count": null,
   "id": "extra-executive",
   "metadata": {
    "papermill": {
     "duration": 0.022329,
     "end_time": "2021-09-20T09:00:10.826893",
     "exception": false,
     "start_time": "2021-09-20T09:00:10.804564",
     "status": "completed"
    },
    "tags": []
   },
   "outputs": [],
   "source": []
  }
 ],
 "metadata": {
  "kernelspec": {
   "display_name": "Python 3",
   "language": "python",
   "name": "python3"
  },
  "language_info": {
   "codemirror_mode": {
    "name": "ipython",
    "version": 3
   },
   "file_extension": ".py",
   "mimetype": "text/x-python",
   "name": "python",
   "nbconvert_exporter": "python",
   "pygments_lexer": "ipython3",
   "version": "3.9.5"
  },
  "papermill": {
   "default_parameters": {},
   "duration": 6.687887,
   "end_time": "2021-09-20T09:00:11.468792",
   "environment_variables": {},
   "exception": null,
   "input_path": "eBay_Overview.ipynb",
   "output_path": "eBay_Overview.ipynb",
   "parameters": {},
   "start_time": "2021-09-20T09:00:04.780905",
   "version": "2.3.3"
  }
 },
 "nbformat": 4,
 "nbformat_minor": 5
}