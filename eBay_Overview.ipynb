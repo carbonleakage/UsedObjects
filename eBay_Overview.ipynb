{
 "cells": [
  {
   "cell_type": "code",
   "execution_count": 1,
   "id": "reverse-picking",
   "metadata": {
    "execution": {
     "iopub.execute_input": "2021-11-29T03:30:07.911460Z",
     "iopub.status.busy": "2021-11-29T03:30:07.909114Z",
     "iopub.status.idle": "2021-11-29T03:30:08.877998Z",
     "shell.execute_reply": "2021-11-29T03:30:08.879590Z"
    },
    "papermill": {
     "duration": 1.01939,
     "end_time": "2021-11-29T03:30:08.880406",
     "exception": false,
     "start_time": "2021-11-29T03:30:07.861016",
     "status": "completed"
    },
    "tags": []
   },
   "outputs": [],
   "source": [
    "import pandas as pd\n",
    "import sqlite3"
   ]
  },
  {
   "cell_type": "code",
   "execution_count": 2,
   "id": "innovative-syndrome",
   "metadata": {
    "execution": {
     "iopub.execute_input": "2021-11-29T03:30:08.999742Z",
     "iopub.status.busy": "2021-11-29T03:30:08.997606Z",
     "iopub.status.idle": "2021-11-29T03:30:09.932609Z",
     "shell.execute_reply": "2021-11-29T03:30:09.934352Z"
    },
    "papermill": {
     "duration": 0.969358,
     "end_time": "2021-11-29T03:30:09.934758",
     "exception": false,
     "start_time": "2021-11-29T03:30:08.965400",
     "status": "completed"
    },
    "tags": []
   },
   "outputs": [],
   "source": [
    "timestamps = pd.read_sql(\"select distinct record_time from EBAY_TOP_BERLIN order by record_time desc limit 2\", sqlite3.connect(\"UsedObjects.db\"))"
   ]
  },
  {
   "cell_type": "code",
   "execution_count": 3,
   "id": "periodic-identification",
   "metadata": {
    "execution": {
     "iopub.execute_input": "2021-11-29T03:30:10.011143Z",
     "iopub.status.busy": "2021-11-29T03:30:10.003717Z",
     "iopub.status.idle": "2021-11-29T03:30:10.030780Z",
     "shell.execute_reply": "2021-11-29T03:30:10.032356Z"
    },
    "papermill": {
     "duration": 0.074528,
     "end_time": "2021-11-29T03:30:10.032887",
     "exception": false,
     "start_time": "2021-11-29T03:30:09.958359",
     "status": "completed"
    },
    "tags": []
   },
   "outputs": [
    {
     "data": {
      "text/html": [
       "<div>\n",
       "<style scoped>\n",
       "    .dataframe tbody tr th:only-of-type {\n",
       "        vertical-align: middle;\n",
       "    }\n",
       "\n",
       "    .dataframe tbody tr th {\n",
       "        vertical-align: top;\n",
       "    }\n",
       "\n",
       "    .dataframe thead th {\n",
       "        text-align: right;\n",
       "    }\n",
       "</style>\n",
       "<table border=\"1\" class=\"dataframe\">\n",
       "  <thead>\n",
       "    <tr style=\"text-align: right;\">\n",
       "      <th></th>\n",
       "      <th>RECORD_TIME</th>\n",
       "    </tr>\n",
       "  </thead>\n",
       "  <tbody>\n",
       "    <tr>\n",
       "      <th>0</th>\n",
       "      <td>2021-11-29 04:30</td>\n",
       "    </tr>\n",
       "    <tr>\n",
       "      <th>1</th>\n",
       "      <td>2021-11-29 04:00</td>\n",
       "    </tr>\n",
       "  </tbody>\n",
       "</table>\n",
       "</div>"
      ],
      "text/plain": [
       "        RECORD_TIME\n",
       "0  2021-11-29 04:30\n",
       "1  2021-11-29 04:00"
      ]
     },
     "execution_count": 3,
     "metadata": {},
     "output_type": "execute_result"
    }
   ],
   "source": [
    "timestamps"
   ]
  },
  {
   "cell_type": "code",
   "execution_count": 4,
   "id": "alternate-victory",
   "metadata": {
    "execution": {
     "iopub.execute_input": "2021-11-29T03:30:10.099385Z",
     "iopub.status.busy": "2021-11-29T03:30:10.097486Z",
     "iopub.status.idle": "2021-11-29T03:30:11.480614Z",
     "shell.execute_reply": "2021-11-29T03:30:11.482705Z"
    },
    "papermill": {
     "duration": 1.429281,
     "end_time": "2021-11-29T03:30:11.483166",
     "exception": false,
     "start_time": "2021-11-29T03:30:10.053885",
     "status": "completed"
    },
    "tags": []
   },
   "outputs": [],
   "source": [
    "df = pd.read_sql(\"select * from EBAY_TOP_BERLIN where record_time in (select distinct record_time from EBAY_TOP_BERLIN order by record_time desc limit 2)\", sqlite3.connect(\"UsedObjects.db\"))"
   ]
  },
  {
   "cell_type": "code",
   "execution_count": 5,
   "id": "popular-active",
   "metadata": {
    "execution": {
     "iopub.execute_input": "2021-11-29T03:30:11.560930Z",
     "iopub.status.busy": "2021-11-29T03:30:11.544966Z",
     "iopub.status.idle": "2021-11-29T03:30:11.579332Z",
     "shell.execute_reply": "2021-11-29T03:30:11.581063Z"
    },
    "papermill": {
     "duration": 0.077963,
     "end_time": "2021-11-29T03:30:11.581563",
     "exception": false,
     "start_time": "2021-11-29T03:30:11.503600",
     "status": "completed"
    },
    "tags": []
   },
   "outputs": [],
   "source": [
    "df_pivot = df.pivot_table(index=\"PRODUCT\", columns = \"RECORD_TIME\", values = \"LISTING_COUNT\")"
   ]
  },
  {
   "cell_type": "code",
   "execution_count": 6,
   "id": "union-huntington",
   "metadata": {
    "execution": {
     "iopub.execute_input": "2021-11-29T03:30:11.640721Z",
     "iopub.status.busy": "2021-11-29T03:30:11.638457Z",
     "iopub.status.idle": "2021-11-29T03:30:11.643628Z",
     "shell.execute_reply": "2021-11-29T03:30:11.645528Z"
    },
    "papermill": {
     "duration": 0.043581,
     "end_time": "2021-11-29T03:30:11.645999",
     "exception": false,
     "start_time": "2021-11-29T03:30:11.602418",
     "status": "completed"
    },
    "tags": []
   },
   "outputs": [],
   "source": [
    "df_pivot.columns = [\"stamp_1\", \"stamp_2\"]\n",
    "df_pivot_diff = df_pivot.diff(axis=1)"
   ]
  },
  {
   "cell_type": "code",
   "execution_count": 7,
   "id": "fifth-motion",
   "metadata": {
    "execution": {
     "iopub.execute_input": "2021-11-29T03:30:11.703376Z",
     "iopub.status.busy": "2021-11-29T03:30:11.700119Z",
     "iopub.status.idle": "2021-11-29T03:30:13.722403Z",
     "shell.execute_reply": "2021-11-29T03:30:13.723698Z"
    },
    "papermill": {
     "duration": 2.057756,
     "end_time": "2021-11-29T03:30:13.724114",
     "exception": false,
     "start_time": "2021-11-29T03:30:11.666358",
     "status": "completed"
    },
    "tags": []
   },
   "outputs": [
    {
     "data": {
      "text/plain": [
       "<AxesSubplot:ylabel='PRODUCT'>"
      ]
     },
     "execution_count": 7,
     "metadata": {},
     "output_type": "execute_result"
    },
    {
     "data": {
      "image/png": "[encoded data removed]",
      "text/plain": [
       "<Figure size 432x288 with 1 Axes>"
      ]
     },
     "metadata": {
      "needs_background": "light"
     },
     "output_type": "display_data"
    }
   ],
   "source": [
    "df_pivot_diff.sort_values(\"stamp_2\", ascending = False)[\"stamp_2\"].head(10).plot.barh()"
   ]
  },
  {
   "cell_type": "code",
   "execution_count": null,
   "id": "extra-executive",
   "metadata": {
    "papermill": {
     "duration": 0.021965,
     "end_time": "2021-11-29T03:30:13.770914",
     "exception": false,
     "start_time": "2021-11-29T03:30:13.748949",
     "status": "completed"
    },
    "tags": []
   },
   "outputs": [],
   "source": []
  }
 ],
 "metadata": {
  "kernelspec": {
   "display_name": "Python 3",
   "language": "python",
   "name": "python3"
  },
  "language_info": {
   "codemirror_mode": {
    "name": "ipython",
    "version": 3
   },
   "file_extension": ".py",
   "mimetype": "text/x-python",
   "name": "python",
   "nbconvert_exporter": "python",
   "pygments_lexer": "ipython3",
   "version": "3.9.5"
  },
  "papermill": {
   "default_parameters": {},
   "duration": 9.954933,
   "end_time": "2021-11-29T03:30:15.069844",
   "environment_variables": {},
   "exception": null,
   "input_path": "eBay_Overview.ipynb",
   "output_path": "eBay_Overview.ipynb",
   "parameters": {},
   "start_time": "2021-11-29T03:30:05.114911",
   "version": "2.3.3"
  }
 },
 "nbformat": 4,
 "nbformat_minor": 5
}