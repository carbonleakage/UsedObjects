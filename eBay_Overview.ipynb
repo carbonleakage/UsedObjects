{
 "cells": [
  {
   "cell_type": "code",
   "execution_count": 1,
   "id": "reverse-picking",
   "metadata": {
    "execution": {
     "iopub.execute_input": "2021-08-16T16:30:07.299831Z",
     "iopub.status.busy": "2021-08-16T16:30:07.297790Z",
     "iopub.status.idle": "2021-08-16T16:30:08.108637Z",
     "shell.execute_reply": "2021-08-16T16:30:08.109902Z"
    },
    "papermill": {
     "duration": 0.863621,
     "end_time": "2021-08-16T16:30:08.110714",
     "exception": false,
     "start_time": "2021-08-16T16:30:07.247093",
     "status": "completed"
    },
    "tags": []
   },
   "outputs": [],
   "source": [
    "import pandas as pd\n",
    "import sqlite3"
   ]
  },
  {
   "cell_type": "code",
   "execution_count": 2,
   "id": "innovative-syndrome",
   "metadata": {
    "execution": {
     "iopub.execute_input": "2021-08-16T16:30:08.163843Z",
     "iopub.status.busy": "2021-08-16T16:30:08.161430Z",
     "iopub.status.idle": "2021-08-16T16:30:08.226302Z",
     "shell.execute_reply": "2021-08-16T16:30:08.227534Z"
    },
    "papermill": {
     "duration": 0.095025,
     "end_time": "2021-08-16T16:30:08.227930",
     "exception": false,
     "start_time": "2021-08-16T16:30:08.132905",
     "status": "completed"
    },
    "tags": []
   },
   "outputs": [],
   "source": [
    "timestamps = pd.read_sql(\"select distinct record_time from EBAY_TOP_BERLIN order by record_time desc limit 2\", sqlite3.connect(\"UsedObjects.db\"))"
   ]
  },
  {
   "cell_type": "code",
   "execution_count": 3,
   "id": "periodic-identification",
   "metadata": {
    "execution": {
     "iopub.execute_input": "2021-08-16T16:30:08.296493Z",
     "iopub.status.busy": "2021-08-16T16:30:08.294429Z",
     "iopub.status.idle": "2021-08-16T16:30:08.314627Z",
     "shell.execute_reply": "2021-08-16T16:30:08.315931Z"
    },
    "papermill": {
     "duration": 0.065979,
     "end_time": "2021-08-16T16:30:08.316345",
     "exception": false,
     "start_time": "2021-08-16T16:30:08.250366",
     "status": "completed"
    },
    "tags": []
   },
   "outputs": [
    {
     "data": {
      "text/html": [
       "<div>\n",
       "<style scoped>\n",
       "    .dataframe tbody tr th:only-of-type {\n",
       "        vertical-align: middle;\n",
       "    }\n",
       "\n",
       "    .dataframe tbody tr th {\n",
       "        vertical-align: top;\n",
       "    }\n",
       "\n",
       "    .dataframe thead th {\n",
       "        text-align: right;\n",
       "    }\n",
       "</style>\n",
       "<table border=\"1\" class=\"dataframe\">\n",
       "  <thead>\n",
       "    <tr style=\"text-align: right;\">\n",
       "      <th></th>\n",
       "      <th>RECORD_TIME</th>\n",
       "    </tr>\n",
       "  </thead>\n",
       "  <tbody>\n",
       "    <tr>\n",
       "      <th>0</th>\n",
       "      <td>2021-08-16 18:30</td>\n",
       "    </tr>\n",
       "    <tr>\n",
       "      <th>1</th>\n",
       "      <td>2021-08-16 18:00</td>\n",
       "    </tr>\n",
       "  </tbody>\n",
       "</table>\n",
       "</div>"
      ],
      "text/plain": [
       "        RECORD_TIME\n",
       "0  2021-08-16 18:30\n",
       "1  2021-08-16 18:00"
      ]
     },
     "execution_count": 3,
     "metadata": {},
     "output_type": "execute_result"
    }
   ],
   "source": [
    "timestamps"
   ]
  },
  {
   "cell_type": "code",
   "execution_count": 4,
   "id": "alternate-victory",
   "metadata": {
    "execution": {
     "iopub.execute_input": "2021-08-16T16:30:08.366658Z",
     "iopub.status.busy": "2021-08-16T16:30:08.364657Z",
     "iopub.status.idle": "2021-08-16T16:30:08.459731Z",
     "shell.execute_reply": "2021-08-16T16:30:08.460961Z"
    },
    "papermill": {
     "duration": 0.124971,
     "end_time": "2021-08-16T16:30:08.461357",
     "exception": false,
     "start_time": "2021-08-16T16:30:08.336386",
     "status": "completed"
    },
    "tags": []
   },
   "outputs": [],
   "source": [
    "df = pd.read_sql(\"select * from EBAY_TOP_BERLIN where record_time in (select distinct record_time from EBAY_TOP_BERLIN order by record_time desc limit 2)\", sqlite3.connect(\"UsedObjects.db\"))"
   ]
  },
  {
   "cell_type": "code",
   "execution_count": 5,
   "id": "popular-active",
   "metadata": {
    "execution": {
     "iopub.execute_input": "2021-08-16T16:30:08.532820Z",
     "iopub.status.busy": "2021-08-16T16:30:08.520174Z",
     "iopub.status.idle": "2021-08-16T16:30:08.548279Z",
     "shell.execute_reply": "2021-08-16T16:30:08.549514Z"
    },
    "papermill": {
     "duration": 0.068084,
     "end_time": "2021-08-16T16:30:08.549910",
     "exception": false,
     "start_time": "2021-08-16T16:30:08.481826",
     "status": "completed"
    },
    "tags": []
   },
   "outputs": [],
   "source": [
    "df_pivot = df.pivot_table(index=\"PRODUCT\", columns = \"RECORD_TIME\", values = \"LISTING_COUNT\")"
   ]
  },
  {
   "cell_type": "code",
   "execution_count": 6,
   "id": "union-huntington",
   "metadata": {
    "execution": {
     "iopub.execute_input": "2021-08-16T16:30:08.606478Z",
     "iopub.status.busy": "2021-08-16T16:30:08.604240Z",
     "iopub.status.idle": "2021-08-16T16:30:08.609908Z",
     "shell.execute_reply": "2021-08-16T16:30:08.611566Z"
    },
    "papermill": {
     "duration": 0.041502,
     "end_time": "2021-08-16T16:30:08.612132",
     "exception": false,
     "start_time": "2021-08-16T16:30:08.570630",
     "status": "completed"
    },
    "tags": []
   },
   "outputs": [],
   "source": [
    "df_pivot.columns = [\"stamp_1\", \"stamp_2\"]\n",
    "df_pivot_diff = df_pivot.diff(axis=1)"
   ]
  },
  {
   "cell_type": "code",
   "execution_count": 7,
   "id": "fifth-motion",
   "metadata": {
    "execution": {
     "iopub.execute_input": "2021-08-16T16:30:08.668385Z",
     "iopub.status.busy": "2021-08-16T16:30:08.665868Z",
     "iopub.status.idle": "2021-08-16T16:30:10.168919Z",
     "shell.execute_reply": "2021-08-16T16:30:10.170327Z"
    },
    "papermill": {
     "duration": 1.537119,
     "end_time": "2021-08-16T16:30:10.170799",
     "exception": false,
     "start_time": "2021-08-16T16:30:08.633680",
     "status": "completed"
    },
    "tags": []
   },
   "outputs": [
    {
     "data": {
      "text/plain": [
       "<AxesSubplot:ylabel='PRODUCT'>"
      ]
     },
     "execution_count": 7,
     "metadata": {},
     "output_type": "execute_result"
    },
    {
     "data": {
      "image/png": "[encoded data removed]",
      "text/plain": [
       "<Figure size 432x288 with 1 Axes>"
      ]
     },
     "metadata": {
      "needs_background": "light"
     },
     "output_type": "display_data"
    }
   ],
   "source": [
    "df_pivot_diff.sort_values(\"stamp_2\", ascending = False)[\"stamp_2\"].head(10).plot.barh()"
   ]
  },
  {
   "cell_type": "code",
   "execution_count": null,
   "id": "extra-executive",
   "metadata": {
    "papermill": {
     "duration": 0.022186,
     "end_time": "2021-08-16T16:30:10.217087",
     "exception": false,
     "start_time": "2021-08-16T16:30:10.194901",
     "status": "completed"
    },
    "tags": []
   },
   "outputs": [],
   "source": []
  }
 ],
 "metadata": {
  "kernelspec": {
   "display_name": "Python 3",
   "language": "python",
   "name": "python3"
  },
  "language_info": {
   "codemirror_mode": {
    "name": "ipython",
    "version": 3
   },
   "file_extension": ".py",
   "mimetype": "text/x-python",
   "name": "python",
   "nbconvert_exporter": "python",
   "pygments_lexer": "ipython3",
   "version": "3.9.5"
  },
  "papermill": {
   "default_parameters": {},
   "duration": 6.83547,
   "end_time": "2021-08-16T16:30:11.656145",
   "environment_variables": {},
   "exception": null,
   "input_path": "eBay_Overview.ipynb",
   "output_path": "eBay_Overview.ipynb",
   "parameters": {},
   "start_time": "2021-08-16T16:30:04.820675",
   "version": "2.3.3"
  }
 },
 "nbformat": 4,
 "nbformat_minor": 5
}