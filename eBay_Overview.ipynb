{
 "cells": [
  {
   "cell_type": "code",
   "execution_count": 1,
   "id": "reverse-picking",
   "metadata": {
    "execution": {
     "iopub.execute_input": "2021-11-23T21:30:07.577912Z",
     "iopub.status.busy": "2021-11-23T21:30:07.575494Z",
     "iopub.status.idle": "2021-11-23T21:30:08.522609Z",
     "shell.execute_reply": "2021-11-23T21:30:08.524211Z"
    },
    "papermill": {
     "duration": 0.998399,
     "end_time": "2021-11-23T21:30:08.525002",
     "exception": false,
     "start_time": "2021-11-23T21:30:07.526603",
     "status": "completed"
    },
    "tags": []
   },
   "outputs": [],
   "source": [
    "import pandas as pd\n",
    "import sqlite3"
   ]
  },
  {
   "cell_type": "code",
   "execution_count": 2,
   "id": "innovative-syndrome",
   "metadata": {
    "execution": {
     "iopub.execute_input": "2021-11-23T21:30:08.593831Z",
     "iopub.status.busy": "2021-11-23T21:30:08.591495Z",
     "iopub.status.idle": "2021-11-23T21:30:09.514306Z",
     "shell.execute_reply": "2021-11-23T21:30:09.515925Z"
    },
    "papermill": {
     "duration": 0.957861,
     "end_time": "2021-11-23T21:30:09.516472",
     "exception": false,
     "start_time": "2021-11-23T21:30:08.558611",
     "status": "completed"
    },
    "tags": []
   },
   "outputs": [],
   "source": [
    "timestamps = pd.read_sql(\"select distinct record_time from EBAY_TOP_BERLIN order by record_time desc limit 2\", sqlite3.connect(\"UsedObjects.db\"))"
   ]
  },
  {
   "cell_type": "code",
   "execution_count": 3,
   "id": "periodic-identification",
   "metadata": {
    "execution": {
     "iopub.execute_input": "2021-11-23T21:30:09.588407Z",
     "iopub.status.busy": "2021-11-23T21:30:09.586034Z",
     "iopub.status.idle": "2021-11-23T21:30:09.611410Z",
     "shell.execute_reply": "2021-11-23T21:30:09.613257Z"
    },
    "papermill": {
     "duration": 0.076069,
     "end_time": "2021-11-23T21:30:09.613807",
     "exception": false,
     "start_time": "2021-11-23T21:30:09.537738",
     "status": "completed"
    },
    "tags": []
   },
   "outputs": [
    {
     "data": {
      "text/html": [
       "<div>\n",
       "<style scoped>\n",
       "    .dataframe tbody tr th:only-of-type {\n",
       "        vertical-align: middle;\n",
       "    }\n",
       "\n",
       "    .dataframe tbody tr th {\n",
       "        vertical-align: top;\n",
       "    }\n",
       "\n",
       "    .dataframe thead th {\n",
       "        text-align: right;\n",
       "    }\n",
       "</style>\n",
       "<table border=\"1\" class=\"dataframe\">\n",
       "  <thead>\n",
       "    <tr style=\"text-align: right;\">\n",
       "      <th></th>\n",
       "      <th>RECORD_TIME</th>\n",
       "    </tr>\n",
       "  </thead>\n",
       "  <tbody>\n",
       "    <tr>\n",
       "      <th>0</th>\n",
       "      <td>2021-11-23 22:30</td>\n",
       "    </tr>\n",
       "    <tr>\n",
       "      <th>1</th>\n",
       "      <td>2021-11-23 22:00</td>\n",
       "    </tr>\n",
       "  </tbody>\n",
       "</table>\n",
       "</div>"
      ],
      "text/plain": [
       "        RECORD_TIME\n",
       "0  2021-11-23 22:30\n",
       "1  2021-11-23 22:00"
      ]
     },
     "execution_count": 3,
     "metadata": {},
     "output_type": "execute_result"
    }
   ],
   "source": [
    "timestamps"
   ]
  },
  {
   "cell_type": "code",
   "execution_count": 4,
   "id": "alternate-victory",
   "metadata": {
    "execution": {
     "iopub.execute_input": "2021-11-23T21:30:09.671289Z",
     "iopub.status.busy": "2021-11-23T21:30:09.669122Z",
     "iopub.status.idle": "2021-11-23T21:30:11.029987Z",
     "shell.execute_reply": "2021-11-23T21:30:11.031358Z"
    },
    "papermill": {
     "duration": 1.395551,
     "end_time": "2021-11-23T21:30:11.031820",
     "exception": false,
     "start_time": "2021-11-23T21:30:09.636269",
     "status": "completed"
    },
    "tags": []
   },
   "outputs": [],
   "source": [
    "df = pd.read_sql(\"select * from EBAY_TOP_BERLIN where record_time in (select distinct record_time from EBAY_TOP_BERLIN order by record_time desc limit 2)\", sqlite3.connect(\"UsedObjects.db\"))"
   ]
  },
  {
   "cell_type": "code",
   "execution_count": 5,
   "id": "popular-active",
   "metadata": {
    "execution": {
     "iopub.execute_input": "2021-11-23T21:30:11.111014Z",
     "iopub.status.busy": "2021-11-23T21:30:11.094967Z",
     "iopub.status.idle": "2021-11-23T21:30:11.130147Z",
     "shell.execute_reply": "2021-11-23T21:30:11.131652Z"
    },
    "papermill": {
     "duration": 0.079996,
     "end_time": "2021-11-23T21:30:11.132115",
     "exception": false,
     "start_time": "2021-11-23T21:30:11.052119",
     "status": "completed"
    },
    "tags": []
   },
   "outputs": [],
   "source": [
    "df_pivot = df.pivot_table(index=\"PRODUCT\", columns = \"RECORD_TIME\", values = \"LISTING_COUNT\")"
   ]
  },
  {
   "cell_type": "code",
   "execution_count": 6,
   "id": "union-huntington",
   "metadata": {
    "execution": {
     "iopub.execute_input": "2021-11-23T21:30:11.193832Z",
     "iopub.status.busy": "2021-11-23T21:30:11.191502Z",
     "iopub.status.idle": "2021-11-23T21:30:11.197530Z",
     "shell.execute_reply": "2021-11-23T21:30:11.199164Z"
    },
    "papermill": {
     "duration": 0.046093,
     "end_time": "2021-11-23T21:30:11.199661",
     "exception": false,
     "start_time": "2021-11-23T21:30:11.153568",
     "status": "completed"
    },
    "tags": []
   },
   "outputs": [],
   "source": [
    "df_pivot.columns = [\"stamp_1\", \"stamp_2\"]\n",
    "df_pivot_diff = df_pivot.diff(axis=1)"
   ]
  },
  {
   "cell_type": "code",
   "execution_count": 7,
   "id": "fifth-motion",
   "metadata": {
    "execution": {
     "iopub.execute_input": "2021-11-23T21:30:11.257536Z",
     "iopub.status.busy": "2021-11-23T21:30:11.254925Z",
     "iopub.status.idle": "2021-11-23T21:30:13.177387Z",
     "shell.execute_reply": "2021-11-23T21:30:13.179050Z"
    },
    "papermill": {
     "duration": 1.958009,
     "end_time": "2021-11-23T21:30:13.179633",
     "exception": false,
     "start_time": "2021-11-23T21:30:11.221624",
     "status": "completed"
    },
    "tags": []
   },
   "outputs": [
    {
     "data": {
      "text/plain": [
       "<AxesSubplot:ylabel='PRODUCT'>"
      ]
     },
     "execution_count": 7,
     "metadata": {},
     "output_type": "execute_result"
    },
    {
     "data": {
      "image/png": "[encoded data removed]",
      "text/plain": [
       "<Figure size 432x288 with 1 Axes>"
      ]
     },
     "metadata": {
      "needs_background": "light"
     },
     "output_type": "display_data"
    }
   ],
   "source": [
    "df_pivot_diff.sort_values(\"stamp_2\", ascending = False)[\"stamp_2\"].head(10).plot.barh()"
   ]
  },
  {
   "cell_type": "code",
   "execution_count": null,
   "id": "extra-executive",
   "metadata": {
    "papermill": {
     "duration": 0.036373,
     "end_time": "2021-11-23T21:30:13.250029",
     "exception": false,
     "start_time": "2021-11-23T21:30:13.213656",
     "status": "completed"
    },
    "tags": []
   },
   "outputs": [],
   "source": []
  }
 ],
 "metadata": {
  "kernelspec": {
   "display_name": "Python 3",
   "language": "python",
   "name": "python3"
  },
  "language_info": {
   "codemirror_mode": {
    "name": "ipython",
    "version": 3
   },
   "file_extension": ".py",
   "mimetype": "text/x-python",
   "name": "python",
   "nbconvert_exporter": "python",
   "pygments_lexer": "ipython3",
   "version": "3.9.5"
  },
  "papermill": {
   "default_parameters": {},
   "duration": 9.939849,
   "end_time": "2021-11-23T21:30:14.711296",
   "environment_variables": {},
   "exception": null,
   "input_path": "eBay_Overview.ipynb",
   "output_path": "eBay_Overview.ipynb",
   "parameters": {},
   "start_time": "2021-11-23T21:30:04.771447",
   "version": "2.3.3"
  }
 },
 "nbformat": 4,
 "nbformat_minor": 5
}