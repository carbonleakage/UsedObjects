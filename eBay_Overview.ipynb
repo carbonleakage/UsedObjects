{
 "cells": [
  {
   "cell_type": "code",
   "execution_count": 1,
   "id": "reverse-picking",
   "metadata": {
    "execution": {
     "iopub.execute_input": "2021-11-11T01:30:07.235779Z",
     "iopub.status.busy": "2021-11-11T01:30:07.225111Z",
     "iopub.status.idle": "2021-11-11T01:30:08.193131Z",
     "shell.execute_reply": "2021-11-11T01:30:08.194817Z"
    },
    "papermill": {
     "duration": 1.017303,
     "end_time": "2021-11-11T01:30:08.195620",
     "exception": false,
     "start_time": "2021-11-11T01:30:07.178317",
     "status": "completed"
    },
    "tags": []
   },
   "outputs": [],
   "source": [
    "import pandas as pd\n",
    "import sqlite3"
   ]
  },
  {
   "cell_type": "code",
   "execution_count": 2,
   "id": "innovative-syndrome",
   "metadata": {
    "execution": {
     "iopub.execute_input": "2021-11-11T01:30:08.259826Z",
     "iopub.status.busy": "2021-11-11T01:30:08.257546Z",
     "iopub.status.idle": "2021-11-11T01:30:09.059210Z",
     "shell.execute_reply": "2021-11-11T01:30:09.060539Z"
    },
    "papermill": {
     "duration": 0.834863,
     "end_time": "2021-11-11T01:30:09.061091",
     "exception": false,
     "start_time": "2021-11-11T01:30:08.226228",
     "status": "completed"
    },
    "tags": []
   },
   "outputs": [],
   "source": [
    "timestamps = pd.read_sql(\"select distinct record_time from EBAY_TOP_BERLIN order by record_time desc limit 2\", sqlite3.connect(\"UsedObjects.db\"))"
   ]
  },
  {
   "cell_type": "code",
   "execution_count": 3,
   "id": "periodic-identification",
   "metadata": {
    "execution": {
     "iopub.execute_input": "2021-11-11T01:30:09.134967Z",
     "iopub.status.busy": "2021-11-11T01:30:09.129200Z",
     "iopub.status.idle": "2021-11-11T01:30:09.152207Z",
     "shell.execute_reply": "2021-11-11T01:30:09.153865Z"
    },
    "papermill": {
     "duration": 0.073778,
     "end_time": "2021-11-11T01:30:09.154375",
     "exception": false,
     "start_time": "2021-11-11T01:30:09.080597",
     "status": "completed"
    },
    "tags": []
   },
   "outputs": [
    {
     "data": {
      "text/html": [
       "<div>\n",
       "<style scoped>\n",
       "    .dataframe tbody tr th:only-of-type {\n",
       "        vertical-align: middle;\n",
       "    }\n",
       "\n",
       "    .dataframe tbody tr th {\n",
       "        vertical-align: top;\n",
       "    }\n",
       "\n",
       "    .dataframe thead th {\n",
       "        text-align: right;\n",
       "    }\n",
       "</style>\n",
       "<table border=\"1\" class=\"dataframe\">\n",
       "  <thead>\n",
       "    <tr style=\"text-align: right;\">\n",
       "      <th></th>\n",
       "      <th>RECORD_TIME</th>\n",
       "    </tr>\n",
       "  </thead>\n",
       "  <tbody>\n",
       "    <tr>\n",
       "      <th>0</th>\n",
       "      <td>2021-11-11 02:30</td>\n",
       "    </tr>\n",
       "    <tr>\n",
       "      <th>1</th>\n",
       "      <td>2021-11-11 02:00</td>\n",
       "    </tr>\n",
       "  </tbody>\n",
       "</table>\n",
       "</div>"
      ],
      "text/plain": [
       "        RECORD_TIME\n",
       "0  2021-11-11 02:30\n",
       "1  2021-11-11 02:00"
      ]
     },
     "execution_count": 3,
     "metadata": {},
     "output_type": "execute_result"
    }
   ],
   "source": [
    "timestamps"
   ]
  },
  {
   "cell_type": "code",
   "execution_count": 4,
   "id": "alternate-victory",
   "metadata": {
    "execution": {
     "iopub.execute_input": "2021-11-11T01:30:09.212336Z",
     "iopub.status.busy": "2021-11-11T01:30:09.209977Z",
     "iopub.status.idle": "2021-11-11T01:30:10.329098Z",
     "shell.execute_reply": "2021-11-11T01:30:10.331289Z"
    },
    "papermill": {
     "duration": 1.155781,
     "end_time": "2021-11-11T01:30:10.331772",
     "exception": false,
     "start_time": "2021-11-11T01:30:09.175991",
     "status": "completed"
    },
    "tags": []
   },
   "outputs": [],
   "source": [
    "df = pd.read_sql(\"select * from EBAY_TOP_BERLIN where record_time in (select distinct record_time from EBAY_TOP_BERLIN order by record_time desc limit 2)\", sqlite3.connect(\"UsedObjects.db\"))"
   ]
  },
  {
   "cell_type": "code",
   "execution_count": 5,
   "id": "popular-active",
   "metadata": {
    "execution": {
     "iopub.execute_input": "2021-11-11T01:30:10.412874Z",
     "iopub.status.busy": "2021-11-11T01:30:10.398622Z",
     "iopub.status.idle": "2021-11-11T01:30:10.430473Z",
     "shell.execute_reply": "2021-11-11T01:30:10.431808Z"
    },
    "papermill": {
     "duration": 0.078841,
     "end_time": "2021-11-11T01:30:10.432282",
     "exception": false,
     "start_time": "2021-11-11T01:30:10.353441",
     "status": "completed"
    },
    "tags": []
   },
   "outputs": [],
   "source": [
    "df_pivot = df.pivot_table(index=\"PRODUCT\", columns = \"RECORD_TIME\", values = \"LISTING_COUNT\")"
   ]
  },
  {
   "cell_type": "code",
   "execution_count": 6,
   "id": "union-huntington",
   "metadata": {
    "execution": {
     "iopub.execute_input": "2021-11-11T01:30:10.490177Z",
     "iopub.status.busy": "2021-11-11T01:30:10.488245Z",
     "iopub.status.idle": "2021-11-11T01:30:10.499681Z",
     "shell.execute_reply": "2021-11-11T01:30:10.498166Z"
    },
    "papermill": {
     "duration": 0.048032,
     "end_time": "2021-11-11T01:30:10.500097",
     "exception": false,
     "start_time": "2021-11-11T01:30:10.452065",
     "status": "completed"
    },
    "tags": []
   },
   "outputs": [],
   "source": [
    "df_pivot.columns = [\"stamp_1\", \"stamp_2\"]\n",
    "df_pivot_diff = df_pivot.diff(axis=1)"
   ]
  },
  {
   "cell_type": "code",
   "execution_count": 7,
   "id": "fifth-motion",
   "metadata": {
    "execution": {
     "iopub.execute_input": "2021-11-11T01:30:10.570771Z",
     "iopub.status.busy": "2021-11-11T01:30:10.566513Z",
     "iopub.status.idle": "2021-11-11T01:30:12.317991Z",
     "shell.execute_reply": "2021-11-11T01:30:12.320929Z"
    },
    "papermill": {
     "duration": 1.800135,
     "end_time": "2021-11-11T01:30:12.321751",
     "exception": false,
     "start_time": "2021-11-11T01:30:10.521616",
     "status": "completed"
    },
    "tags": []
   },
   "outputs": [
    {
     "data": {
      "text/plain": [
       "<AxesSubplot:ylabel='PRODUCT'>"
      ]
     },
     "execution_count": 7,
     "metadata": {},
     "output_type": "execute_result"
    },
    {
     "data": {
      "image/png": "[encoded data removed]",
      "text/plain": [
       "<Figure size 432x288 with 1 Axes>"
      ]
     },
     "metadata": {
      "needs_background": "light"
     },
     "output_type": "display_data"
    }
   ],
   "source": [
    "df_pivot_diff.sort_values(\"stamp_2\", ascending = False)[\"stamp_2\"].head(10).plot.barh()"
   ]
  },
  {
   "cell_type": "code",
   "execution_count": null,
   "id": "extra-executive",
   "metadata": {
    "papermill": {
     "duration": 0.035855,
     "end_time": "2021-11-11T01:30:12.394820",
     "exception": false,
     "start_time": "2021-11-11T01:30:12.358965",
     "status": "completed"
    },
    "tags": []
   },
   "outputs": [],
   "source": []
  }
 ],
 "metadata": {
  "kernelspec": {
   "display_name": "Python 3",
   "language": "python",
   "name": "python3"
  },
  "language_info": {
   "codemirror_mode": {
    "name": "ipython",
    "version": 3
   },
   "file_extension": ".py",
   "mimetype": "text/x-python",
   "name": "python",
   "nbconvert_exporter": "python",
   "pygments_lexer": "ipython3",
   "version": "3.9.5"
  },
  "papermill": {
   "default_parameters": {},
   "duration": 8.835974,
   "end_time": "2021-11-11T01:30:13.274401",
   "environment_variables": {},
   "exception": null,
   "input_path": "eBay_Overview.ipynb",
   "output_path": "eBay_Overview.ipynb",
   "parameters": {},
   "start_time": "2021-11-11T01:30:04.438427",
   "version": "2.3.3"
  }
 },
 "nbformat": 4,
 "nbformat_minor": 5
}