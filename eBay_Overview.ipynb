{
 "cells": [
  {
   "cell_type": "code",
   "execution_count": 1,
   "id": "reverse-picking",
   "metadata": {
    "execution": {
     "iopub.execute_input": "2021-12-12T13:00:07.637207Z",
     "iopub.status.busy": "2021-12-12T13:00:07.634725Z",
     "iopub.status.idle": "2021-12-12T13:00:08.593727Z",
     "shell.execute_reply": "2021-12-12T13:00:08.595249Z"
    },
    "papermill": {
     "duration": 1.008789,
     "end_time": "2021-12-12T13:00:08.595979",
     "exception": false,
     "start_time": "2021-12-12T13:00:07.587190",
     "status": "completed"
    },
    "tags": []
   },
   "outputs": [],
   "source": [
    "import pandas as pd\n",
    "import sqlite3"
   ]
  },
  {
   "cell_type": "code",
   "execution_count": 2,
   "id": "innovative-syndrome",
   "metadata": {
    "execution": {
     "iopub.execute_input": "2021-12-12T13:00:08.658396Z",
     "iopub.status.busy": "2021-12-12T13:00:08.656061Z",
     "iopub.status.idle": "2021-12-12T13:00:09.706114Z",
     "shell.execute_reply": "2021-12-12T13:00:09.707553Z"
    },
    "papermill": {
     "duration": 1.08483,
     "end_time": "2021-12-12T13:00:09.708018",
     "exception": false,
     "start_time": "2021-12-12T13:00:08.623188",
     "status": "completed"
    },
    "tags": []
   },
   "outputs": [],
   "source": [
    "timestamps = pd.read_sql(\"select distinct record_time from EBAY_TOP_BERLIN order by record_time desc limit 2\", sqlite3.connect(\"UsedObjects.db\"))"
   ]
  },
  {
   "cell_type": "code",
   "execution_count": 3,
   "id": "periodic-identification",
   "metadata": {
    "execution": {
     "iopub.execute_input": "2021-12-12T13:00:09.783390Z",
     "iopub.status.busy": "2021-12-12T13:00:09.781058Z",
     "iopub.status.idle": "2021-12-12T13:00:09.803944Z",
     "shell.execute_reply": "2021-12-12T13:00:09.805821Z"
    },
    "papermill": {
     "duration": 0.077545,
     "end_time": "2021-12-12T13:00:09.806355",
     "exception": false,
     "start_time": "2021-12-12T13:00:09.728810",
     "status": "completed"
    },
    "tags": []
   },
   "outputs": [
    {
     "data": {
      "text/html": [
       "<div>\n",
       "<style scoped>\n",
       "    .dataframe tbody tr th:only-of-type {\n",
       "        vertical-align: middle;\n",
       "    }\n",
       "\n",
       "    .dataframe tbody tr th {\n",
       "        vertical-align: top;\n",
       "    }\n",
       "\n",
       "    .dataframe thead th {\n",
       "        text-align: right;\n",
       "    }\n",
       "</style>\n",
       "<table border=\"1\" class=\"dataframe\">\n",
       "  <thead>\n",
       "    <tr style=\"text-align: right;\">\n",
       "      <th></th>\n",
       "      <th>RECORD_TIME</th>\n",
       "    </tr>\n",
       "  </thead>\n",
       "  <tbody>\n",
       "    <tr>\n",
       "      <th>0</th>\n",
       "      <td>2021-12-12 14:00</td>\n",
       "    </tr>\n",
       "    <tr>\n",
       "      <th>1</th>\n",
       "      <td>2021-12-12 13:30</td>\n",
       "    </tr>\n",
       "  </tbody>\n",
       "</table>\n",
       "</div>"
      ],
      "text/plain": [
       "        RECORD_TIME\n",
       "0  2021-12-12 14:00\n",
       "1  2021-12-12 13:30"
      ]
     },
     "execution_count": 3,
     "metadata": {},
     "output_type": "execute_result"
    }
   ],
   "source": [
    "timestamps"
   ]
  },
  {
   "cell_type": "code",
   "execution_count": 4,
   "id": "alternate-victory",
   "metadata": {
    "execution": {
     "iopub.execute_input": "2021-12-12T13:00:09.862679Z",
     "iopub.status.busy": "2021-12-12T13:00:09.860443Z",
     "iopub.status.idle": "2021-12-12T13:00:11.360844Z",
     "shell.execute_reply": "2021-12-12T13:00:11.362392Z"
    },
    "papermill": {
     "duration": 1.533899,
     "end_time": "2021-12-12T13:00:11.362874",
     "exception": false,
     "start_time": "2021-12-12T13:00:09.828975",
     "status": "completed"
    },
    "tags": []
   },
   "outputs": [],
   "source": [
    "df = pd.read_sql(\"select * from EBAY_TOP_BERLIN where record_time in (select distinct record_time from EBAY_TOP_BERLIN order by record_time desc limit 2)\", sqlite3.connect(\"UsedObjects.db\"))"
   ]
  },
  {
   "cell_type": "code",
   "execution_count": 5,
   "id": "popular-active",
   "metadata": {
    "execution": {
     "iopub.execute_input": "2021-12-12T13:00:11.435032Z",
     "iopub.status.busy": "2021-12-12T13:00:11.427385Z",
     "iopub.status.idle": "2021-12-12T13:00:11.460539Z",
     "shell.execute_reply": "2021-12-12T13:00:11.462183Z"
    },
    "papermill": {
     "duration": 0.078157,
     "end_time": "2021-12-12T13:00:11.462678",
     "exception": false,
     "start_time": "2021-12-12T13:00:11.384521",
     "status": "completed"
    },
    "tags": []
   },
   "outputs": [],
   "source": [
    "df_pivot = df.pivot_table(index=\"PRODUCT\", columns = \"RECORD_TIME\", values = \"LISTING_COUNT\")"
   ]
  },
  {
   "cell_type": "code",
   "execution_count": 6,
   "id": "union-huntington",
   "metadata": {
    "execution": {
     "iopub.execute_input": "2021-12-12T13:00:11.524572Z",
     "iopub.status.busy": "2021-12-12T13:00:11.522265Z",
     "iopub.status.idle": "2021-12-12T13:00:11.528149Z",
     "shell.execute_reply": "2021-12-12T13:00:11.529721Z"
    },
    "papermill": {
     "duration": 0.046221,
     "end_time": "2021-12-12T13:00:11.530216",
     "exception": false,
     "start_time": "2021-12-12T13:00:11.483995",
     "status": "completed"
    },
    "tags": []
   },
   "outputs": [],
   "source": [
    "df_pivot.columns = [\"stamp_1\", \"stamp_2\"]\n",
    "df_pivot_diff = df_pivot.diff(axis=1)"
   ]
  },
  {
   "cell_type": "code",
   "execution_count": 7,
   "id": "fifth-motion",
   "metadata": {
    "execution": {
     "iopub.execute_input": "2021-12-12T13:00:11.587198Z",
     "iopub.status.busy": "2021-12-12T13:00:11.584949Z",
     "iopub.status.idle": "2021-12-12T13:00:13.525900Z",
     "shell.execute_reply": "2021-12-12T13:00:13.528770Z"
    },
    "papermill": {
     "duration": 1.978368,
     "end_time": "2021-12-12T13:00:13.529589",
     "exception": false,
     "start_time": "2021-12-12T13:00:11.551221",
     "status": "completed"
    },
    "tags": []
   },
   "outputs": [
    {
     "data": {
      "text/plain": [
       "<AxesSubplot:ylabel='PRODUCT'>"
      ]
     },
     "execution_count": 7,
     "metadata": {},
     "output_type": "execute_result"
    },
    {
     "data": {
      "image/png": "[encoded data removed]",
      "text/plain": [
       "<Figure size 432x288 with 1 Axes>"
      ]
     },
     "metadata": {
      "needs_background": "light"
     },
     "output_type": "display_data"
    }
   ],
   "source": [
    "df_pivot_diff.sort_values(\"stamp_2\", ascending = False)[\"stamp_2\"].head(10).plot.barh()"
   ]
  },
  {
   "cell_type": "code",
   "execution_count": null,
   "id": "extra-executive",
   "metadata": {
    "papermill": {
     "duration": 0.033343,
     "end_time": "2021-12-12T13:00:13.600675",
     "exception": false,
     "start_time": "2021-12-12T13:00:13.567332",
     "status": "completed"
    },
    "tags": []
   },
   "outputs": [],
   "source": []
  }
 ],
 "metadata": {
  "kernelspec": {
   "display_name": "Python 3",
   "language": "python",
   "name": "python3"
  },
  "language_info": {
   "codemirror_mode": {
    "name": "ipython",
    "version": 3
   },
   "file_extension": ".py",
   "mimetype": "text/x-python",
   "name": "python",
   "nbconvert_exporter": "python",
   "pygments_lexer": "ipython3",
   "version": "3.9.5"
  },
  "papermill": {
   "default_parameters": {},
   "duration": 9.567687,
   "end_time": "2021-12-12T13:00:14.374055",
   "environment_variables": {},
   "exception": null,
   "input_path": "eBay_Overview.ipynb",
   "output_path": "eBay_Overview.ipynb",
   "parameters": {},
   "start_time": "2021-12-12T13:00:04.806368",
   "version": "2.3.3"
  }
 },
 "nbformat": 4,
 "nbformat_minor": 5
}