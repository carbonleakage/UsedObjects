{
 "cells": [
  {
   "cell_type": "code",
   "execution_count": 1,
   "id": "reverse-picking",
   "metadata": {
    "execution": {
     "iopub.execute_input": "2021-09-22T02:30:06.706644Z",
     "iopub.status.busy": "2021-09-22T02:30:06.704705Z",
     "iopub.status.idle": "2021-09-22T02:30:07.510098Z",
     "shell.execute_reply": "2021-09-22T02:30:07.511502Z"
    },
    "papermill": {
     "duration": 0.858165,
     "end_time": "2021-09-22T02:30:07.512156",
     "exception": false,
     "start_time": "2021-09-22T02:30:06.653991",
     "status": "completed"
    },
    "tags": []
   },
   "outputs": [],
   "source": [
    "import pandas as pd\n",
    "import sqlite3"
   ]
  },
  {
   "cell_type": "code",
   "execution_count": 2,
   "id": "innovative-syndrome",
   "metadata": {
    "execution": {
     "iopub.execute_input": "2021-09-22T02:30:07.563697Z",
     "iopub.status.busy": "2021-09-22T02:30:07.561665Z",
     "iopub.status.idle": "2021-09-22T02:30:07.905192Z",
     "shell.execute_reply": "2021-09-22T02:30:07.906462Z"
    },
    "papermill": {
     "duration": 0.373718,
     "end_time": "2021-09-22T02:30:07.906920",
     "exception": false,
     "start_time": "2021-09-22T02:30:07.533202",
     "status": "completed"
    },
    "tags": []
   },
   "outputs": [],
   "source": [
    "timestamps = pd.read_sql(\"select distinct record_time from EBAY_TOP_BERLIN order by record_time desc limit 2\", sqlite3.connect(\"UsedObjects.db\"))"
   ]
  },
  {
   "cell_type": "code",
   "execution_count": 3,
   "id": "periodic-identification",
   "metadata": {
    "execution": {
     "iopub.execute_input": "2021-09-22T02:30:07.973666Z",
     "iopub.status.busy": "2021-09-22T02:30:07.971645Z",
     "iopub.status.idle": "2021-09-22T02:30:07.991446Z",
     "shell.execute_reply": "2021-09-22T02:30:07.992661Z"
    },
    "papermill": {
     "duration": 0.067016,
     "end_time": "2021-09-22T02:30:07.993082",
     "exception": false,
     "start_time": "2021-09-22T02:30:07.926066",
     "status": "completed"
    },
    "tags": []
   },
   "outputs": [
    {
     "data": {
      "text/html": [
       "<div>\n",
       "<style scoped>\n",
       "    .dataframe tbody tr th:only-of-type {\n",
       "        vertical-align: middle;\n",
       "    }\n",
       "\n",
       "    .dataframe tbody tr th {\n",
       "        vertical-align: top;\n",
       "    }\n",
       "\n",
       "    .dataframe thead th {\n",
       "        text-align: right;\n",
       "    }\n",
       "</style>\n",
       "<table border=\"1\" class=\"dataframe\">\n",
       "  <thead>\n",
       "    <tr style=\"text-align: right;\">\n",
       "      <th></th>\n",
       "      <th>RECORD_TIME</th>\n",
       "    </tr>\n",
       "  </thead>\n",
       "  <tbody>\n",
       "    <tr>\n",
       "      <th>0</th>\n",
       "      <td>2021-09-22 04:30</td>\n",
       "    </tr>\n",
       "    <tr>\n",
       "      <th>1</th>\n",
       "      <td>2021-09-22 04:00</td>\n",
       "    </tr>\n",
       "  </tbody>\n",
       "</table>\n",
       "</div>"
      ],
      "text/plain": [
       "        RECORD_TIME\n",
       "0  2021-09-22 04:30\n",
       "1  2021-09-22 04:00"
      ]
     },
     "execution_count": 3,
     "metadata": {},
     "output_type": "execute_result"
    }
   ],
   "source": [
    "timestamps"
   ]
  },
  {
   "cell_type": "code",
   "execution_count": 4,
   "id": "alternate-victory",
   "metadata": {
    "execution": {
     "iopub.execute_input": "2021-09-22T02:30:08.046669Z",
     "iopub.status.busy": "2021-09-22T02:30:08.044409Z",
     "iopub.status.idle": "2021-09-22T02:30:08.562223Z",
     "shell.execute_reply": "2021-09-22T02:30:08.563582Z"
    },
    "papermill": {
     "duration": 0.54824,
     "end_time": "2021-09-22T02:30:08.564001",
     "exception": false,
     "start_time": "2021-09-22T02:30:08.015761",
     "status": "completed"
    },
    "tags": []
   },
   "outputs": [],
   "source": [
    "df = pd.read_sql(\"select * from EBAY_TOP_BERLIN where record_time in (select distinct record_time from EBAY_TOP_BERLIN order by record_time desc limit 2)\", sqlite3.connect(\"UsedObjects.db\"))"
   ]
  },
  {
   "cell_type": "code",
   "execution_count": 5,
   "id": "popular-active",
   "metadata": {
    "execution": {
     "iopub.execute_input": "2021-09-22T02:30:08.639521Z",
     "iopub.status.busy": "2021-09-22T02:30:08.633257Z",
     "iopub.status.idle": "2021-09-22T02:30:08.660523Z",
     "shell.execute_reply": "2021-09-22T02:30:08.661739Z"
    },
    "papermill": {
     "duration": 0.071508,
     "end_time": "2021-09-22T02:30:08.662128",
     "exception": false,
     "start_time": "2021-09-22T02:30:08.590620",
     "status": "completed"
    },
    "tags": []
   },
   "outputs": [],
   "source": [
    "df_pivot = df.pivot_table(index=\"PRODUCT\", columns = \"RECORD_TIME\", values = \"LISTING_COUNT\")"
   ]
  },
  {
   "cell_type": "code",
   "execution_count": 6,
   "id": "union-huntington",
   "metadata": {
    "execution": {
     "iopub.execute_input": "2021-09-22T02:30:08.721024Z",
     "iopub.status.busy": "2021-09-22T02:30:08.718507Z",
     "iopub.status.idle": "2021-09-22T02:30:08.724464Z",
     "shell.execute_reply": "2021-09-22T02:30:08.725751Z"
    },
    "papermill": {
     "duration": 0.04195,
     "end_time": "2021-09-22T02:30:08.726159",
     "exception": false,
     "start_time": "2021-09-22T02:30:08.684209",
     "status": "completed"
    },
    "tags": []
   },
   "outputs": [],
   "source": [
    "df_pivot.columns = [\"stamp_1\", \"stamp_2\"]\n",
    "df_pivot_diff = df_pivot.diff(axis=1)"
   ]
  },
  {
   "cell_type": "code",
   "execution_count": 7,
   "id": "fifth-motion",
   "metadata": {
    "execution": {
     "iopub.execute_input": "2021-09-22T02:30:08.779025Z",
     "iopub.status.busy": "2021-09-22T02:30:08.776635Z",
     "iopub.status.idle": "2021-09-22T02:30:10.292363Z",
     "shell.execute_reply": "2021-09-22T02:30:10.293733Z"
    },
    "papermill": {
     "duration": 1.548326,
     "end_time": "2021-09-22T02:30:10.294163",
     "exception": false,
     "start_time": "2021-09-22T02:30:08.745837",
     "status": "completed"
    },
    "tags": []
   },
   "outputs": [
    {
     "data": {
      "text/plain": [
       "<AxesSubplot:ylabel='PRODUCT'>"
      ]
     },
     "execution_count": 7,
     "metadata": {},
     "output_type": "execute_result"
    },
    {
     "data": {
      "image/png": "[encoded data removed]",
      "text/plain": [
       "<Figure size 432x288 with 1 Axes>"
      ]
     },
     "metadata": {
      "needs_background": "light"
     },
     "output_type": "display_data"
    }
   ],
   "source": [
    "df_pivot_diff.sort_values(\"stamp_2\", ascending = False)[\"stamp_2\"].head(10).plot.barh()"
   ]
  },
  {
   "cell_type": "code",
   "execution_count": null,
   "id": "extra-executive",
   "metadata": {
    "papermill": {
     "duration": 0.02202,
     "end_time": "2021-09-22T02:30:10.339488",
     "exception": false,
     "start_time": "2021-09-22T02:30:10.317468",
     "status": "completed"
    },
    "tags": []
   },
   "outputs": [],
   "source": []
  }
 ],
 "metadata": {
  "kernelspec": {
   "display_name": "Python 3",
   "language": "python",
   "name": "python3"
  },
  "language_info": {
   "codemirror_mode": {
    "name": "ipython",
    "version": 3
   },
   "file_extension": ".py",
   "mimetype": "text/x-python",
   "name": "python",
   "nbconvert_exporter": "python",
   "pygments_lexer": "ipython3",
   "version": "3.9.5"
  },
  "papermill": {
   "default_parameters": {},
   "duration": 6.735345,
   "end_time": "2021-09-22T02:30:10.982925",
   "environment_variables": {},
   "exception": null,
   "input_path": "eBay_Overview.ipynb",
   "output_path": "eBay_Overview.ipynb",
   "parameters": {},
   "start_time": "2021-09-22T02:30:04.247580",
   "version": "2.3.3"
  }
 },
 "nbformat": 4,
 "nbformat_minor": 5
}