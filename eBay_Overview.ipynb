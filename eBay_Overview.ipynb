{
 "cells": [
  {
   "cell_type": "code",
   "execution_count": 1,
   "id": "reverse-picking",
   "metadata": {
    "execution": {
     "iopub.execute_input": "2021-10-31T15:00:07.242986Z",
     "iopub.status.busy": "2021-10-31T15:00:07.241028Z",
     "iopub.status.idle": "2021-10-31T15:00:08.054040Z",
     "shell.execute_reply": "2021-10-31T15:00:08.052228Z"
    },
    "papermill": {
     "duration": 0.864466,
     "end_time": "2021-10-31T15:00:08.054590",
     "exception": false,
     "start_time": "2021-10-31T15:00:07.190124",
     "status": "completed"
    },
    "tags": []
   },
   "outputs": [],
   "source": [
    "import pandas as pd\n",
    "import sqlite3"
   ]
  },
  {
   "cell_type": "code",
   "execution_count": 2,
   "id": "innovative-syndrome",
   "metadata": {
    "execution": {
     "iopub.execute_input": "2021-10-31T15:00:08.106897Z",
     "iopub.status.busy": "2021-10-31T15:00:08.104511Z",
     "iopub.status.idle": "2021-10-31T15:00:08.797541Z",
     "shell.execute_reply": "2021-10-31T15:00:08.798974Z"
    },
    "papermill": {
     "duration": 0.723396,
     "end_time": "2021-10-31T15:00:08.799412",
     "exception": false,
     "start_time": "2021-10-31T15:00:08.076016",
     "status": "completed"
    },
    "tags": []
   },
   "outputs": [],
   "source": [
    "timestamps = pd.read_sql(\"select distinct record_time from EBAY_TOP_BERLIN order by record_time desc limit 2\", sqlite3.connect(\"UsedObjects.db\"))"
   ]
  },
  {
   "cell_type": "code",
   "execution_count": 3,
   "id": "periodic-identification",
   "metadata": {
    "execution": {
     "iopub.execute_input": "2021-10-31T15:00:08.873605Z",
     "iopub.status.busy": "2021-10-31T15:00:08.871447Z",
     "iopub.status.idle": "2021-10-31T15:00:08.892043Z",
     "shell.execute_reply": "2021-10-31T15:00:08.893573Z"
    },
    "papermill": {
     "duration": 0.068987,
     "end_time": "2021-10-31T15:00:08.894008",
     "exception": false,
     "start_time": "2021-10-31T15:00:08.825021",
     "status": "completed"
    },
    "tags": []
   },
   "outputs": [
    {
     "data": {
      "text/html": [
       "<div>\n",
       "<style scoped>\n",
       "    .dataframe tbody tr th:only-of-type {\n",
       "        vertical-align: middle;\n",
       "    }\n",
       "\n",
       "    .dataframe tbody tr th {\n",
       "        vertical-align: top;\n",
       "    }\n",
       "\n",
       "    .dataframe thead th {\n",
       "        text-align: right;\n",
       "    }\n",
       "</style>\n",
       "<table border=\"1\" class=\"dataframe\">\n",
       "  <thead>\n",
       "    <tr style=\"text-align: right;\">\n",
       "      <th></th>\n",
       "      <th>RECORD_TIME</th>\n",
       "    </tr>\n",
       "  </thead>\n",
       "  <tbody>\n",
       "    <tr>\n",
       "      <th>0</th>\n",
       "      <td>2021-10-31 16:00</td>\n",
       "    </tr>\n",
       "    <tr>\n",
       "      <th>1</th>\n",
       "      <td>2021-10-31 15:30</td>\n",
       "    </tr>\n",
       "  </tbody>\n",
       "</table>\n",
       "</div>"
      ],
      "text/plain": [
       "        RECORD_TIME\n",
       "0  2021-10-31 16:00\n",
       "1  2021-10-31 15:30"
      ]
     },
     "execution_count": 3,
     "metadata": {},
     "output_type": "execute_result"
    }
   ],
   "source": [
    "timestamps"
   ]
  },
  {
   "cell_type": "code",
   "execution_count": 4,
   "id": "alternate-victory",
   "metadata": {
    "execution": {
     "iopub.execute_input": "2021-10-31T15:00:08.947364Z",
     "iopub.status.busy": "2021-10-31T15:00:08.945348Z",
     "iopub.status.idle": "2021-10-31T15:00:09.972790Z",
     "shell.execute_reply": "2021-10-31T15:00:09.974207Z"
    },
    "papermill": {
     "duration": 1.058225,
     "end_time": "2021-10-31T15:00:09.974644",
     "exception": false,
     "start_time": "2021-10-31T15:00:08.916419",
     "status": "completed"
    },
    "tags": []
   },
   "outputs": [],
   "source": [
    "df = pd.read_sql(\"select * from EBAY_TOP_BERLIN where record_time in (select distinct record_time from EBAY_TOP_BERLIN order by record_time desc limit 2)\", sqlite3.connect(\"UsedObjects.db\"))"
   ]
  },
  {
   "cell_type": "code",
   "execution_count": 5,
   "id": "popular-active",
   "metadata": {
    "execution": {
     "iopub.execute_input": "2021-10-31T15:00:10.047733Z",
     "iopub.status.busy": "2021-10-31T15:00:10.035755Z",
     "iopub.status.idle": "2021-10-31T15:00:10.067317Z",
     "shell.execute_reply": "2021-10-31T15:00:10.065466Z"
    },
    "papermill": {
     "duration": 0.071797,
     "end_time": "2021-10-31T15:00:10.067694",
     "exception": false,
     "start_time": "2021-10-31T15:00:09.995897",
     "status": "completed"
    },
    "tags": []
   },
   "outputs": [],
   "source": [
    "df_pivot = df.pivot_table(index=\"PRODUCT\", columns = \"RECORD_TIME\", values = \"LISTING_COUNT\")"
   ]
  },
  {
   "cell_type": "code",
   "execution_count": 6,
   "id": "union-huntington",
   "metadata": {
    "execution": {
     "iopub.execute_input": "2021-10-31T15:00:10.124545Z",
     "iopub.status.busy": "2021-10-31T15:00:10.122481Z",
     "iopub.status.idle": "2021-10-31T15:00:10.127883Z",
     "shell.execute_reply": "2021-10-31T15:00:10.129122Z"
    },
    "papermill": {
     "duration": 0.041363,
     "end_time": "2021-10-31T15:00:10.129551",
     "exception": false,
     "start_time": "2021-10-31T15:00:10.088188",
     "status": "completed"
    },
    "tags": []
   },
   "outputs": [],
   "source": [
    "df_pivot.columns = [\"stamp_1\", \"stamp_2\"]\n",
    "df_pivot_diff = df_pivot.diff(axis=1)"
   ]
  },
  {
   "cell_type": "code",
   "execution_count": 7,
   "id": "fifth-motion",
   "metadata": {
    "execution": {
     "iopub.execute_input": "2021-10-31T15:00:10.183937Z",
     "iopub.status.busy": "2021-10-31T15:00:10.181438Z",
     "iopub.status.idle": "2021-10-31T15:00:11.662318Z",
     "shell.execute_reply": "2021-10-31T15:00:11.663592Z"
    },
    "papermill": {
     "duration": 1.513799,
     "end_time": "2021-10-31T15:00:11.664000",
     "exception": false,
     "start_time": "2021-10-31T15:00:10.150201",
     "status": "completed"
    },
    "tags": []
   },
   "outputs": [
    {
     "data": {
      "text/plain": [
       "<AxesSubplot:ylabel='PRODUCT'>"
      ]
     },
     "execution_count": 7,
     "metadata": {},
     "output_type": "execute_result"
    },
    {
     "data": {
      "image/png": "[encoded data removed]",
      "text/plain": [
       "<Figure size 432x288 with 1 Axes>"
      ]
     },
     "metadata": {
      "needs_background": "light"
     },
     "output_type": "display_data"
    }
   ],
   "source": [
    "df_pivot_diff.sort_values(\"stamp_2\", ascending = False)[\"stamp_2\"].head(10).plot.barh()"
   ]
  },
  {
   "cell_type": "code",
   "execution_count": null,
   "id": "extra-executive",
   "metadata": {
    "papermill": {
     "duration": 0.022206,
     "end_time": "2021-10-31T15:00:11.710857",
     "exception": false,
     "start_time": "2021-10-31T15:00:11.688651",
     "status": "completed"
    },
    "tags": []
   },
   "outputs": [],
   "source": []
  }
 ],
 "metadata": {
  "kernelspec": {
   "display_name": "Python 3",
   "language": "python",
   "name": "python3"
  },
  "language_info": {
   "codemirror_mode": {
    "name": "ipython",
    "version": 3
   },
   "file_extension": ".py",
   "mimetype": "text/x-python",
   "name": "python",
   "nbconvert_exporter": "python",
   "pygments_lexer": "ipython3",
   "version": "3.9.5"
  },
  "papermill": {
   "default_parameters": {},
   "duration": 7.581899,
   "end_time": "2021-10-31T15:00:12.351219",
   "environment_variables": {},
   "exception": null,
   "input_path": "eBay_Overview.ipynb",
   "output_path": "eBay_Overview.ipynb",
   "parameters": {},
   "start_time": "2021-10-31T15:00:04.769320",
   "version": "2.3.3"
  }
 },
 "nbformat": 4,
 "nbformat_minor": 5
}