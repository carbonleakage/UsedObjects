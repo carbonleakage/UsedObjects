{
 "cells": [
  {
   "cell_type": "code",
   "execution_count": 1,
   "id": "reverse-picking",
   "metadata": {
    "execution": {
     "iopub.execute_input": "2021-09-04T20:30:06.769922Z",
     "iopub.status.busy": "2021-09-04T20:30:06.767958Z",
     "iopub.status.idle": "2021-09-04T20:30:07.573905Z",
     "shell.execute_reply": "2021-09-04T20:30:07.572335Z"
    },
    "papermill": {
     "duration": 0.854784,
     "end_time": "2021-09-04T20:30:07.574297",
     "exception": false,
     "start_time": "2021-09-04T20:30:06.719513",
     "status": "completed"
    },
    "tags": []
   },
   "outputs": [],
   "source": [
    "import pandas as pd\n",
    "import sqlite3"
   ]
  },
  {
   "cell_type": "code",
   "execution_count": 2,
   "id": "innovative-syndrome",
   "metadata": {
    "execution": {
     "iopub.execute_input": "2021-09-04T20:30:07.624940Z",
     "iopub.status.busy": "2021-09-04T20:30:07.623071Z",
     "iopub.status.idle": "2021-09-04T20:30:07.829672Z",
     "shell.execute_reply": "2021-09-04T20:30:07.831045Z"
    },
    "papermill": {
     "duration": 0.236277,
     "end_time": "2021-09-04T20:30:07.831484",
     "exception": false,
     "start_time": "2021-09-04T20:30:07.595207",
     "status": "completed"
    },
    "tags": []
   },
   "outputs": [],
   "source": [
    "timestamps = pd.read_sql(\"select distinct record_time from EBAY_TOP_BERLIN order by record_time desc limit 2\", sqlite3.connect(\"UsedObjects.db\"))"
   ]
  },
  {
   "cell_type": "code",
   "execution_count": 3,
   "id": "periodic-identification",
   "metadata": {
    "execution": {
     "iopub.execute_input": "2021-09-04T20:30:07.903450Z",
     "iopub.status.busy": "2021-09-04T20:30:07.898331Z",
     "iopub.status.idle": "2021-09-04T20:30:07.918188Z",
     "shell.execute_reply": "2021-09-04T20:30:07.919560Z"
    },
    "papermill": {
     "duration": 0.066784,
     "end_time": "2021-09-04T20:30:07.919990",
     "exception": false,
     "start_time": "2021-09-04T20:30:07.853206",
     "status": "completed"
    },
    "tags": []
   },
   "outputs": [
    {
     "data": {
      "text/html": [
       "<div>\n",
       "<style scoped>\n",
       "    .dataframe tbody tr th:only-of-type {\n",
       "        vertical-align: middle;\n",
       "    }\n",
       "\n",
       "    .dataframe tbody tr th {\n",
       "        vertical-align: top;\n",
       "    }\n",
       "\n",
       "    .dataframe thead th {\n",
       "        text-align: right;\n",
       "    }\n",
       "</style>\n",
       "<table border=\"1\" class=\"dataframe\">\n",
       "  <thead>\n",
       "    <tr style=\"text-align: right;\">\n",
       "      <th></th>\n",
       "      <th>RECORD_TIME</th>\n",
       "    </tr>\n",
       "  </thead>\n",
       "  <tbody>\n",
       "    <tr>\n",
       "      <th>0</th>\n",
       "      <td>2021-09-04 22:30</td>\n",
       "    </tr>\n",
       "    <tr>\n",
       "      <th>1</th>\n",
       "      <td>2021-09-04 22:00</td>\n",
       "    </tr>\n",
       "  </tbody>\n",
       "</table>\n",
       "</div>"
      ],
      "text/plain": [
       "        RECORD_TIME\n",
       "0  2021-09-04 22:30\n",
       "1  2021-09-04 22:00"
      ]
     },
     "execution_count": 3,
     "metadata": {},
     "output_type": "execute_result"
    }
   ],
   "source": [
    "timestamps"
   ]
  },
  {
   "cell_type": "code",
   "execution_count": 4,
   "id": "alternate-victory",
   "metadata": {
    "execution": {
     "iopub.execute_input": "2021-09-04T20:30:07.970448Z",
     "iopub.status.busy": "2021-09-04T20:30:07.968617Z",
     "iopub.status.idle": "2021-09-04T20:30:08.268441Z",
     "shell.execute_reply": "2021-09-04T20:30:08.269676Z"
    },
    "papermill": {
     "duration": 0.329625,
     "end_time": "2021-09-04T20:30:08.270077",
     "exception": false,
     "start_time": "2021-09-04T20:30:07.940452",
     "status": "completed"
    },
    "tags": []
   },
   "outputs": [],
   "source": [
    "df = pd.read_sql(\"select * from EBAY_TOP_BERLIN where record_time in (select distinct record_time from EBAY_TOP_BERLIN order by record_time desc limit 2)\", sqlite3.connect(\"UsedObjects.db\"))"
   ]
  },
  {
   "cell_type": "code",
   "execution_count": 5,
   "id": "popular-active",
   "metadata": {
    "execution": {
     "iopub.execute_input": "2021-09-04T20:30:08.356911Z",
     "iopub.status.busy": "2021-09-04T20:30:08.344538Z",
     "iopub.status.idle": "2021-09-04T20:30:08.373053Z",
     "shell.execute_reply": "2021-09-04T20:30:08.374290Z"
    },
    "papermill": {
     "duration": 0.072738,
     "end_time": "2021-09-04T20:30:08.374691",
     "exception": false,
     "start_time": "2021-09-04T20:30:08.301953",
     "status": "completed"
    },
    "tags": []
   },
   "outputs": [],
   "source": [
    "df_pivot = df.pivot_table(index=\"PRODUCT\", columns = \"RECORD_TIME\", values = \"LISTING_COUNT\")"
   ]
  },
  {
   "cell_type": "code",
   "execution_count": 6,
   "id": "union-huntington",
   "metadata": {
    "execution": {
     "iopub.execute_input": "2021-09-04T20:30:08.434058Z",
     "iopub.status.busy": "2021-09-04T20:30:08.431608Z",
     "iopub.status.idle": "2021-09-04T20:30:08.437375Z",
     "shell.execute_reply": "2021-09-04T20:30:08.438671Z"
    },
    "papermill": {
     "duration": 0.042151,
     "end_time": "2021-09-04T20:30:08.439169",
     "exception": false,
     "start_time": "2021-09-04T20:30:08.397018",
     "status": "completed"
    },
    "tags": []
   },
   "outputs": [],
   "source": [
    "df_pivot.columns = [\"stamp_1\", \"stamp_2\"]\n",
    "df_pivot_diff = df_pivot.diff(axis=1)"
   ]
  },
  {
   "cell_type": "code",
   "execution_count": 7,
   "id": "fifth-motion",
   "metadata": {
    "execution": {
     "iopub.execute_input": "2021-09-04T20:30:08.493507Z",
     "iopub.status.busy": "2021-09-04T20:30:08.491251Z",
     "iopub.status.idle": "2021-09-04T20:30:09.959817Z",
     "shell.execute_reply": "2021-09-04T20:30:09.961126Z"
    },
    "papermill": {
     "duration": 1.501761,
     "end_time": "2021-09-04T20:30:09.961547",
     "exception": false,
     "start_time": "2021-09-04T20:30:08.459786",
     "status": "completed"
    },
    "tags": []
   },
   "outputs": [
    {
     "data": {
      "text/plain": [
       "<AxesSubplot:ylabel='PRODUCT'>"
      ]
     },
     "execution_count": 7,
     "metadata": {},
     "output_type": "execute_result"
    },
    {
     "data": {
      "image/png": "[encoded data removed]",
      "text/plain": [
       "<Figure size 432x288 with 1 Axes>"
      ]
     },
     "metadata": {
      "needs_background": "light"
     },
     "output_type": "display_data"
    }
   ],
   "source": [
    "df_pivot_diff.sort_values(\"stamp_2\", ascending = False)[\"stamp_2\"].head(10).plot.barh()"
   ]
  },
  {
   "cell_type": "code",
   "execution_count": null,
   "id": "extra-executive",
   "metadata": {
    "papermill": {
     "duration": 0.021905,
     "end_time": "2021-09-04T20:30:10.008027",
     "exception": false,
     "start_time": "2021-09-04T20:30:09.986122",
     "status": "completed"
    },
    "tags": []
   },
   "outputs": [],
   "source": []
  }
 ],
 "metadata": {
  "kernelspec": {
   "display_name": "Python 3",
   "language": "python",
   "name": "python3"
  },
  "language_info": {
   "codemirror_mode": {
    "name": "ipython",
    "version": 3
   },
   "file_extension": ".py",
   "mimetype": "text/x-python",
   "name": "python",
   "nbconvert_exporter": "python",
   "pygments_lexer": "ipython3",
   "version": "3.9.5"
  },
  "papermill": {
   "default_parameters": {},
   "duration": 6.337016,
   "end_time": "2021-09-04T20:30:10.649100",
   "environment_variables": {},
   "exception": null,
   "input_path": "eBay_Overview.ipynb",
   "output_path": "eBay_Overview.ipynb",
   "parameters": {},
   "start_time": "2021-09-04T20:30:04.312084",
   "version": "2.3.3"
  }
 },
 "nbformat": 4,
 "nbformat_minor": 5
}