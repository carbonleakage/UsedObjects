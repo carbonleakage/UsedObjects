{
 "cells": [
  {
   "cell_type": "code",
   "execution_count": 1,
   "id": "reverse-picking",
   "metadata": {
    "execution": {
     "iopub.execute_input": "2021-10-10T10:30:06.912572Z",
     "iopub.status.busy": "2021-10-10T10:30:06.910548Z",
     "iopub.status.idle": "2021-10-10T10:30:07.717634Z",
     "shell.execute_reply": "2021-10-10T10:30:07.718963Z"
    },
    "papermill": {
     "duration": 0.858919,
     "end_time": "2021-10-10T10:30:07.719605",
     "exception": false,
     "start_time": "2021-10-10T10:30:06.860686",
     "status": "completed"
    },
    "tags": []
   },
   "outputs": [],
   "source": [
    "import pandas as pd\n",
    "import sqlite3"
   ]
  },
  {
   "cell_type": "code",
   "execution_count": 2,
   "id": "innovative-syndrome",
   "metadata": {
    "execution": {
     "iopub.execute_input": "2021-10-10T10:30:07.770600Z",
     "iopub.status.busy": "2021-10-10T10:30:07.768710Z",
     "iopub.status.idle": "2021-10-10T10:30:08.266752Z",
     "shell.execute_reply": "2021-10-10T10:30:08.268034Z"
    },
    "papermill": {
     "duration": 0.528036,
     "end_time": "2021-10-10T10:30:08.268432",
     "exception": false,
     "start_time": "2021-10-10T10:30:07.740396",
     "status": "completed"
    },
    "tags": []
   },
   "outputs": [],
   "source": [
    "timestamps = pd.read_sql(\"select distinct record_time from EBAY_TOP_BERLIN order by record_time desc limit 2\", sqlite3.connect(\"UsedObjects.db\"))"
   ]
  },
  {
   "cell_type": "code",
   "execution_count": 3,
   "id": "periodic-identification",
   "metadata": {
    "execution": {
     "iopub.execute_input": "2021-10-10T10:30:08.337676Z",
     "iopub.status.busy": "2021-10-10T10:30:08.332328Z",
     "iopub.status.idle": "2021-10-10T10:30:08.353981Z",
     "shell.execute_reply": "2021-10-10T10:30:08.355588Z"
    },
    "papermill": {
     "duration": 0.066558,
     "end_time": "2021-10-10T10:30:08.356098",
     "exception": false,
     "start_time": "2021-10-10T10:30:08.289540",
     "status": "completed"
    },
    "tags": []
   },
   "outputs": [
    {
     "data": {
      "text/html": [
       "<div>\n",
       "<style scoped>\n",
       "    .dataframe tbody tr th:only-of-type {\n",
       "        vertical-align: middle;\n",
       "    }\n",
       "\n",
       "    .dataframe tbody tr th {\n",
       "        vertical-align: top;\n",
       "    }\n",
       "\n",
       "    .dataframe thead th {\n",
       "        text-align: right;\n",
       "    }\n",
       "</style>\n",
       "<table border=\"1\" class=\"dataframe\">\n",
       "  <thead>\n",
       "    <tr style=\"text-align: right;\">\n",
       "      <th></th>\n",
       "      <th>RECORD_TIME</th>\n",
       "    </tr>\n",
       "  </thead>\n",
       "  <tbody>\n",
       "    <tr>\n",
       "      <th>0</th>\n",
       "      <td>2021-10-10 12:30</td>\n",
       "    </tr>\n",
       "    <tr>\n",
       "      <th>1</th>\n",
       "      <td>2021-10-10 12:00</td>\n",
       "    </tr>\n",
       "  </tbody>\n",
       "</table>\n",
       "</div>"
      ],
      "text/plain": [
       "        RECORD_TIME\n",
       "0  2021-10-10 12:30\n",
       "1  2021-10-10 12:00"
      ]
     },
     "execution_count": 3,
     "metadata": {},
     "output_type": "execute_result"
    }
   ],
   "source": [
    "timestamps"
   ]
  },
  {
   "cell_type": "code",
   "execution_count": 4,
   "id": "alternate-victory",
   "metadata": {
    "execution": {
     "iopub.execute_input": "2021-10-10T10:30:08.416045Z",
     "iopub.status.busy": "2021-10-10T10:30:08.413643Z",
     "iopub.status.idle": "2021-10-10T10:30:09.167869Z",
     "shell.execute_reply": "2021-10-10T10:30:09.169313Z"
    },
    "papermill": {
     "duration": 0.786494,
     "end_time": "2021-10-10T10:30:09.169761",
     "exception": false,
     "start_time": "2021-10-10T10:30:08.383267",
     "status": "completed"
    },
    "tags": []
   },
   "outputs": [],
   "source": [
    "df = pd.read_sql(\"select * from EBAY_TOP_BERLIN where record_time in (select distinct record_time from EBAY_TOP_BERLIN order by record_time desc limit 2)\", sqlite3.connect(\"UsedObjects.db\"))"
   ]
  },
  {
   "cell_type": "code",
   "execution_count": 5,
   "id": "popular-active",
   "metadata": {
    "execution": {
     "iopub.execute_input": "2021-10-10T10:30:09.239136Z",
     "iopub.status.busy": "2021-10-10T10:30:09.228254Z",
     "iopub.status.idle": "2021-10-10T10:30:09.255544Z",
     "shell.execute_reply": "2021-10-10T10:30:09.256769Z"
    },
    "papermill": {
     "duration": 0.066714,
     "end_time": "2021-10-10T10:30:09.257174",
     "exception": false,
     "start_time": "2021-10-10T10:30:09.190460",
     "status": "completed"
    },
    "tags": []
   },
   "outputs": [],
   "source": [
    "df_pivot = df.pivot_table(index=\"PRODUCT\", columns = \"RECORD_TIME\", values = \"LISTING_COUNT\")"
   ]
  },
  {
   "cell_type": "code",
   "execution_count": 6,
   "id": "union-huntington",
   "metadata": {
    "execution": {
     "iopub.execute_input": "2021-10-10T10:30:09.317580Z",
     "iopub.status.busy": "2021-10-10T10:30:09.315105Z",
     "iopub.status.idle": "2021-10-10T10:30:09.320618Z",
     "shell.execute_reply": "2021-10-10T10:30:09.321910Z"
    },
    "papermill": {
     "duration": 0.041883,
     "end_time": "2021-10-10T10:30:09.322325",
     "exception": false,
     "start_time": "2021-10-10T10:30:09.280442",
     "status": "completed"
    },
    "tags": []
   },
   "outputs": [],
   "source": [
    "df_pivot.columns = [\"stamp_1\", \"stamp_2\"]\n",
    "df_pivot_diff = df_pivot.diff(axis=1)"
   ]
  },
  {
   "cell_type": "code",
   "execution_count": 7,
   "id": "fifth-motion",
   "metadata": {
    "execution": {
     "iopub.execute_input": "2021-10-10T10:30:09.376783Z",
     "iopub.status.busy": "2021-10-10T10:30:09.374150Z",
     "iopub.status.idle": "2021-10-10T10:30:10.887453Z",
     "shell.execute_reply": "2021-10-10T10:30:10.888832Z"
    },
    "papermill": {
     "duration": 1.546982,
     "end_time": "2021-10-10T10:30:10.889275",
     "exception": false,
     "start_time": "2021-10-10T10:30:09.342293",
     "status": "completed"
    },
    "tags": []
   },
   "outputs": [
    {
     "data": {
      "text/plain": [
       "<AxesSubplot:ylabel='PRODUCT'>"
      ]
     },
     "execution_count": 7,
     "metadata": {},
     "output_type": "execute_result"
    },
    {
     "data": {
      "image/png": "[encoded data removed]",
      "text/plain": [
       "<Figure size 432x288 with 1 Axes>"
      ]
     },
     "metadata": {
      "needs_background": "light"
     },
     "output_type": "display_data"
    }
   ],
   "source": [
    "df_pivot_diff.sort_values(\"stamp_2\", ascending = False)[\"stamp_2\"].head(10).plot.barh()"
   ]
  },
  {
   "cell_type": "code",
   "execution_count": null,
   "id": "extra-executive",
   "metadata": {
    "papermill": {
     "duration": 0.022316,
     "end_time": "2021-10-10T10:30:10.936208",
     "exception": false,
     "start_time": "2021-10-10T10:30:10.913892",
     "status": "completed"
    },
    "tags": []
   },
   "outputs": [],
   "source": []
  }
 ],
 "metadata": {
  "kernelspec": {
   "display_name": "Python 3",
   "language": "python",
   "name": "python3"
  },
  "language_info": {
   "codemirror_mode": {
    "name": "ipython",
    "version": 3
   },
   "file_extension": ".py",
   "mimetype": "text/x-python",
   "name": "python",
   "nbconvert_exporter": "python",
   "pygments_lexer": "ipython3",
   "version": "3.9.5"
  },
  "papermill": {
   "default_parameters": {},
   "duration": 7.833893,
   "end_time": "2021-10-10T10:30:12.283987",
   "environment_variables": {},
   "exception": null,
   "input_path": "eBay_Overview.ipynb",
   "output_path": "eBay_Overview.ipynb",
   "parameters": {},
   "start_time": "2021-10-10T10:30:04.450094",
   "version": "2.3.3"
  }
 },
 "nbformat": 4,
 "nbformat_minor": 5
}