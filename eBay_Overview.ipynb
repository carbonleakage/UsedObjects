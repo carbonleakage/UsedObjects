{
 "cells": [
  {
   "cell_type": "code",
   "execution_count": 1,
   "id": "reverse-picking",
   "metadata": {
    "execution": {
     "iopub.execute_input": "2021-11-21T06:00:07.882860Z",
     "iopub.status.busy": "2021-11-21T06:00:07.880676Z",
     "iopub.status.idle": "2021-11-21T06:00:08.841498Z",
     "shell.execute_reply": "2021-11-21T06:00:08.838741Z"
    },
    "papermill": {
     "duration": 1.005999,
     "end_time": "2021-11-21T06:00:08.842013",
     "exception": false,
     "start_time": "2021-11-21T06:00:07.836014",
     "status": "completed"
    },
    "tags": []
   },
   "outputs": [],
   "source": [
    "import pandas as pd\n",
    "import sqlite3"
   ]
  },
  {
   "cell_type": "code",
   "execution_count": 2,
   "id": "innovative-syndrome",
   "metadata": {
    "execution": {
     "iopub.execute_input": "2021-11-21T06:00:08.906557Z",
     "iopub.status.busy": "2021-11-21T06:00:08.904202Z",
     "iopub.status.idle": "2021-11-21T06:00:09.777831Z",
     "shell.execute_reply": "2021-11-21T06:00:09.779195Z"
    },
    "papermill": {
     "duration": 0.90788,
     "end_time": "2021-11-21T06:00:09.779667",
     "exception": false,
     "start_time": "2021-11-21T06:00:08.871787",
     "status": "completed"
    },
    "tags": []
   },
   "outputs": [],
   "source": [
    "timestamps = pd.read_sql(\"select distinct record_time from EBAY_TOP_BERLIN order by record_time desc limit 2\", sqlite3.connect(\"UsedObjects.db\"))"
   ]
  },
  {
   "cell_type": "code",
   "execution_count": 3,
   "id": "periodic-identification",
   "metadata": {
    "execution": {
     "iopub.execute_input": "2021-11-21T06:00:09.851024Z",
     "iopub.status.busy": "2021-11-21T06:00:09.848632Z",
     "iopub.status.idle": "2021-11-21T06:00:09.871058Z",
     "shell.execute_reply": "2021-11-21T06:00:09.872517Z"
    },
    "papermill": {
     "duration": 0.073519,
     "end_time": "2021-11-21T06:00:09.873049",
     "exception": false,
     "start_time": "2021-11-21T06:00:09.799530",
     "status": "completed"
    },
    "tags": []
   },
   "outputs": [
    {
     "data": {
      "text/html": [
       "<div>\n",
       "<style scoped>\n",
       "    .dataframe tbody tr th:only-of-type {\n",
       "        vertical-align: middle;\n",
       "    }\n",
       "\n",
       "    .dataframe tbody tr th {\n",
       "        vertical-align: top;\n",
       "    }\n",
       "\n",
       "    .dataframe thead th {\n",
       "        text-align: right;\n",
       "    }\n",
       "</style>\n",
       "<table border=\"1\" class=\"dataframe\">\n",
       "  <thead>\n",
       "    <tr style=\"text-align: right;\">\n",
       "      <th></th>\n",
       "      <th>RECORD_TIME</th>\n",
       "    </tr>\n",
       "  </thead>\n",
       "  <tbody>\n",
       "    <tr>\n",
       "      <th>0</th>\n",
       "      <td>2021-11-21 07:00</td>\n",
       "    </tr>\n",
       "    <tr>\n",
       "      <th>1</th>\n",
       "      <td>2021-11-21 06:30</td>\n",
       "    </tr>\n",
       "  </tbody>\n",
       "</table>\n",
       "</div>"
      ],
      "text/plain": [
       "        RECORD_TIME\n",
       "0  2021-11-21 07:00\n",
       "1  2021-11-21 06:30"
      ]
     },
     "execution_count": 3,
     "metadata": {},
     "output_type": "execute_result"
    }
   ],
   "source": [
    "timestamps"
   ]
  },
  {
   "cell_type": "code",
   "execution_count": 4,
   "id": "alternate-victory",
   "metadata": {
    "execution": {
     "iopub.execute_input": "2021-11-21T06:00:09.931325Z",
     "iopub.status.busy": "2021-11-21T06:00:09.929150Z",
     "iopub.status.idle": "2021-11-21T06:00:11.185168Z",
     "shell.execute_reply": "2021-11-21T06:00:11.186655Z"
    },
    "papermill": {
     "duration": 1.292321,
     "end_time": "2021-11-21T06:00:11.187122",
     "exception": false,
     "start_time": "2021-11-21T06:00:09.894801",
     "status": "completed"
    },
    "tags": []
   },
   "outputs": [],
   "source": [
    "df = pd.read_sql(\"select * from EBAY_TOP_BERLIN where record_time in (select distinct record_time from EBAY_TOP_BERLIN order by record_time desc limit 2)\", sqlite3.connect(\"UsedObjects.db\"))"
   ]
  },
  {
   "cell_type": "code",
   "execution_count": 5,
   "id": "popular-active",
   "metadata": {
    "execution": {
     "iopub.execute_input": "2021-11-21T06:00:11.265672Z",
     "iopub.status.busy": "2021-11-21T06:00:11.250499Z",
     "iopub.status.idle": "2021-11-21T06:00:11.287879Z",
     "shell.execute_reply": "2021-11-21T06:00:11.289695Z"
    },
    "papermill": {
     "duration": 0.08062,
     "end_time": "2021-11-21T06:00:11.290331",
     "exception": false,
     "start_time": "2021-11-21T06:00:11.209711",
     "status": "completed"
    },
    "tags": []
   },
   "outputs": [],
   "source": [
    "df_pivot = df.pivot_table(index=\"PRODUCT\", columns = \"RECORD_TIME\", values = \"LISTING_COUNT\")"
   ]
  },
  {
   "cell_type": "code",
   "execution_count": 6,
   "id": "union-huntington",
   "metadata": {
    "execution": {
     "iopub.execute_input": "2021-11-21T06:00:11.377324Z",
     "iopub.status.busy": "2021-11-21T06:00:11.374928Z",
     "iopub.status.idle": "2021-11-21T06:00:11.381450Z",
     "shell.execute_reply": "2021-11-21T06:00:11.383305Z"
    },
    "papermill": {
     "duration": 0.060648,
     "end_time": "2021-11-21T06:00:11.383863",
     "exception": false,
     "start_time": "2021-11-21T06:00:11.323215",
     "status": "completed"
    },
    "tags": []
   },
   "outputs": [],
   "source": [
    "df_pivot.columns = [\"stamp_1\", \"stamp_2\"]\n",
    "df_pivot_diff = df_pivot.diff(axis=1)"
   ]
  },
  {
   "cell_type": "code",
   "execution_count": 7,
   "id": "fifth-motion",
   "metadata": {
    "execution": {
     "iopub.execute_input": "2021-11-21T06:00:11.444167Z",
     "iopub.status.busy": "2021-11-21T06:00:11.441619Z",
     "iopub.status.idle": "2021-11-21T06:00:13.325955Z",
     "shell.execute_reply": "2021-11-21T06:00:13.329142Z"
    },
    "papermill": {
     "duration": 1.924435,
     "end_time": "2021-11-21T06:00:13.329960",
     "exception": false,
     "start_time": "2021-11-21T06:00:11.405525",
     "status": "completed"
    },
    "tags": []
   },
   "outputs": [
    {
     "data": {
      "text/plain": [
       "<AxesSubplot:ylabel='PRODUCT'>"
      ]
     },
     "execution_count": 7,
     "metadata": {},
     "output_type": "execute_result"
    },
    {
     "data": {
      "image/png": "[encoded data removed]",
      "text/plain": [
       "<Figure size 432x288 with 1 Axes>"
      ]
     },
     "metadata": {
      "needs_background": "light"
     },
     "output_type": "display_data"
    }
   ],
   "source": [
    "df_pivot_diff.sort_values(\"stamp_2\", ascending = False)[\"stamp_2\"].head(10).plot.barh()"
   ]
  },
  {
   "cell_type": "code",
   "execution_count": null,
   "id": "extra-executive",
   "metadata": {
    "papermill": {
     "duration": 0.03579,
     "end_time": "2021-11-21T06:00:13.401411",
     "exception": false,
     "start_time": "2021-11-21T06:00:13.365621",
     "status": "completed"
    },
    "tags": []
   },
   "outputs": [],
   "source": []
  }
 ],
 "metadata": {
  "kernelspec": {
   "display_name": "Python 3",
   "language": "python",
   "name": "python3"
  },
  "language_info": {
   "codemirror_mode": {
    "name": "ipython",
    "version": 3
   },
   "file_extension": ".py",
   "mimetype": "text/x-python",
   "name": "python",
   "nbconvert_exporter": "python",
   "pygments_lexer": "ipython3",
   "version": "3.9.5"
  },
  "papermill": {
   "default_parameters": {},
   "duration": 9.952754,
   "end_time": "2021-11-21T06:00:15.010703",
   "environment_variables": {},
   "exception": null,
   "input_path": "eBay_Overview.ipynb",
   "output_path": "eBay_Overview.ipynb",
   "parameters": {},
   "start_time": "2021-11-21T06:00:05.057949",
   "version": "2.3.3"
  }
 },
 "nbformat": 4,
 "nbformat_minor": 5
}