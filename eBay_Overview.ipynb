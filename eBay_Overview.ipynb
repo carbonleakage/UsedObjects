{
 "cells": [
  {
   "cell_type": "code",
   "execution_count": 1,
   "id": "reverse-picking",
   "metadata": {
    "execution": {
     "iopub.execute_input": "2021-09-28T00:00:06.910210Z",
     "iopub.status.busy": "2021-09-28T00:00:06.908246Z",
     "iopub.status.idle": "2021-09-28T00:00:07.716620Z",
     "shell.execute_reply": "2021-09-28T00:00:07.717860Z"
    },
    "papermill": {
     "duration": 0.861011,
     "end_time": "2021-09-28T00:00:07.718469",
     "exception": false,
     "start_time": "2021-09-28T00:00:06.857458",
     "status": "completed"
    },
    "tags": []
   },
   "outputs": [],
   "source": [
    "import pandas as pd\n",
    "import sqlite3"
   ]
  },
  {
   "cell_type": "code",
   "execution_count": 2,
   "id": "innovative-syndrome",
   "metadata": {
    "execution": {
     "iopub.execute_input": "2021-09-28T00:00:07.768284Z",
     "iopub.status.busy": "2021-09-28T00:00:07.766303Z",
     "iopub.status.idle": "2021-09-28T00:00:08.171267Z",
     "shell.execute_reply": "2021-09-28T00:00:08.172581Z"
    },
    "papermill": {
     "duration": 0.434442,
     "end_time": "2021-09-28T00:00:08.172979",
     "exception": false,
     "start_time": "2021-09-28T00:00:07.738537",
     "status": "completed"
    },
    "tags": []
   },
   "outputs": [],
   "source": [
    "timestamps = pd.read_sql(\"select distinct record_time from EBAY_TOP_BERLIN order by record_time desc limit 2\", sqlite3.connect(\"UsedObjects.db\"))"
   ]
  },
  {
   "cell_type": "code",
   "execution_count": 3,
   "id": "periodic-identification",
   "metadata": {
    "execution": {
     "iopub.execute_input": "2021-09-28T00:00:08.236589Z",
     "iopub.status.busy": "2021-09-28T00:00:08.234429Z",
     "iopub.status.idle": "2021-09-28T00:00:08.254477Z",
     "shell.execute_reply": "2021-09-28T00:00:08.255676Z"
    },
    "papermill": {
     "duration": 0.063877,
     "end_time": "2021-09-28T00:00:08.256093",
     "exception": false,
     "start_time": "2021-09-28T00:00:08.192216",
     "status": "completed"
    },
    "tags": []
   },
   "outputs": [
    {
     "data": {
      "text/html": [
       "<div>\n",
       "<style scoped>\n",
       "    .dataframe tbody tr th:only-of-type {\n",
       "        vertical-align: middle;\n",
       "    }\n",
       "\n",
       "    .dataframe tbody tr th {\n",
       "        vertical-align: top;\n",
       "    }\n",
       "\n",
       "    .dataframe thead th {\n",
       "        text-align: right;\n",
       "    }\n",
       "</style>\n",
       "<table border=\"1\" class=\"dataframe\">\n",
       "  <thead>\n",
       "    <tr style=\"text-align: right;\">\n",
       "      <th></th>\n",
       "      <th>RECORD_TIME</th>\n",
       "    </tr>\n",
       "  </thead>\n",
       "  <tbody>\n",
       "    <tr>\n",
       "      <th>0</th>\n",
       "      <td>2021-09-28 02:00</td>\n",
       "    </tr>\n",
       "    <tr>\n",
       "      <th>1</th>\n",
       "      <td>2021-09-28 01:30</td>\n",
       "    </tr>\n",
       "  </tbody>\n",
       "</table>\n",
       "</div>"
      ],
      "text/plain": [
       "        RECORD_TIME\n",
       "0  2021-09-28 02:00\n",
       "1  2021-09-28 01:30"
      ]
     },
     "execution_count": 3,
     "metadata": {},
     "output_type": "execute_result"
    }
   ],
   "source": [
    "timestamps"
   ]
  },
  {
   "cell_type": "code",
   "execution_count": 4,
   "id": "alternate-victory",
   "metadata": {
    "execution": {
     "iopub.execute_input": "2021-09-28T00:00:08.307914Z",
     "iopub.status.busy": "2021-09-28T00:00:08.305969Z",
     "iopub.status.idle": "2021-09-28T00:00:08.892104Z",
     "shell.execute_reply": "2021-09-28T00:00:08.893357Z"
    },
    "papermill": {
     "duration": 0.616086,
     "end_time": "2021-09-28T00:00:08.893746",
     "exception": false,
     "start_time": "2021-09-28T00:00:08.277660",
     "status": "completed"
    },
    "tags": []
   },
   "outputs": [],
   "source": [
    "df = pd.read_sql(\"select * from EBAY_TOP_BERLIN where record_time in (select distinct record_time from EBAY_TOP_BERLIN order by record_time desc limit 2)\", sqlite3.connect(\"UsedObjects.db\"))"
   ]
  },
  {
   "cell_type": "code",
   "execution_count": 5,
   "id": "popular-active",
   "metadata": {
    "execution": {
     "iopub.execute_input": "2021-09-28T00:00:08.959719Z",
     "iopub.status.busy": "2021-09-28T00:00:08.952110Z",
     "iopub.status.idle": "2021-09-28T00:00:08.979759Z",
     "shell.execute_reply": "2021-09-28T00:00:08.980965Z"
    },
    "papermill": {
     "duration": 0.067328,
     "end_time": "2021-09-28T00:00:08.981355",
     "exception": false,
     "start_time": "2021-09-28T00:00:08.914027",
     "status": "completed"
    },
    "tags": []
   },
   "outputs": [],
   "source": [
    "df_pivot = df.pivot_table(index=\"PRODUCT\", columns = \"RECORD_TIME\", values = \"LISTING_COUNT\")"
   ]
  },
  {
   "cell_type": "code",
   "execution_count": 6,
   "id": "union-huntington",
   "metadata": {
    "execution": {
     "iopub.execute_input": "2021-09-28T00:00:09.037075Z",
     "iopub.status.busy": "2021-09-28T00:00:09.034918Z",
     "iopub.status.idle": "2021-09-28T00:00:09.040426Z",
     "shell.execute_reply": "2021-09-28T00:00:09.041666Z"
    },
    "papermill": {
     "duration": 0.040734,
     "end_time": "2021-09-28T00:00:09.042112",
     "exception": false,
     "start_time": "2021-09-28T00:00:09.001378",
     "status": "completed"
    },
    "tags": []
   },
   "outputs": [],
   "source": [
    "df_pivot.columns = [\"stamp_1\", \"stamp_2\"]\n",
    "df_pivot_diff = df_pivot.diff(axis=1)"
   ]
  },
  {
   "cell_type": "code",
   "execution_count": 7,
   "id": "fifth-motion",
   "metadata": {
    "execution": {
     "iopub.execute_input": "2021-09-28T00:00:09.099396Z",
     "iopub.status.busy": "2021-09-28T00:00:09.096642Z",
     "iopub.status.idle": "2021-09-28T00:00:10.560816Z",
     "shell.execute_reply": "2021-09-28T00:00:10.562084Z"
    },
    "papermill": {
     "duration": 1.497634,
     "end_time": "2021-09-28T00:00:10.562498",
     "exception": false,
     "start_time": "2021-09-28T00:00:09.064864",
     "status": "completed"
    },
    "tags": []
   },
   "outputs": [
    {
     "data": {
      "text/plain": [
       "<AxesSubplot:ylabel='PRODUCT'>"
      ]
     },
     "execution_count": 7,
     "metadata": {},
     "output_type": "execute_result"
    },
    {
     "data": {
      "image/png": "[encoded data removed]",
      "text/plain": [
       "<Figure size 432x288 with 1 Axes>"
      ]
     },
     "metadata": {
      "needs_background": "light"
     },
     "output_type": "display_data"
    }
   ],
   "source": [
    "df_pivot_diff.sort_values(\"stamp_2\", ascending = False)[\"stamp_2\"].head(10).plot.barh()"
   ]
  },
  {
   "cell_type": "code",
   "execution_count": null,
   "id": "extra-executive",
   "metadata": {
    "papermill": {
     "duration": 0.021924,
     "end_time": "2021-09-28T00:00:10.610266",
     "exception": false,
     "start_time": "2021-09-28T00:00:10.588342",
     "status": "completed"
    },
    "tags": []
   },
   "outputs": [],
   "source": []
  }
 ],
 "metadata": {
  "kernelspec": {
   "display_name": "Python 3",
   "language": "python",
   "name": "python3"
  },
  "language_info": {
   "codemirror_mode": {
    "name": "ipython",
    "version": 3
   },
   "file_extension": ".py",
   "mimetype": "text/x-python",
   "name": "python",
   "nbconvert_exporter": "python",
   "pygments_lexer": "ipython3",
   "version": "3.9.5"
  },
  "papermill": {
   "default_parameters": {},
   "duration": 6.798517,
   "end_time": "2021-09-28T00:00:11.251038",
   "environment_variables": {},
   "exception": null,
   "input_path": "eBay_Overview.ipynb",
   "output_path": "eBay_Overview.ipynb",
   "parameters": {},
   "start_time": "2021-09-28T00:00:04.452521",
   "version": "2.3.3"
  }
 },
 "nbformat": 4,
 "nbformat_minor": 5
}