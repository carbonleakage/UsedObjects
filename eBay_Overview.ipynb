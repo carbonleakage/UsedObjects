{
 "cells": [
  {
   "cell_type": "code",
   "execution_count": 1,
   "id": "reverse-picking",
   "metadata": {
    "execution": {
     "iopub.execute_input": "2021-08-24T06:30:07.063639Z",
     "iopub.status.busy": "2021-08-24T06:30:07.061602Z",
     "iopub.status.idle": "2021-08-24T06:30:07.870383Z",
     "shell.execute_reply": "2021-08-24T06:30:07.871668Z"
    },
    "papermill": {
     "duration": 0.861065,
     "end_time": "2021-08-24T06:30:07.872298",
     "exception": false,
     "start_time": "2021-08-24T06:30:07.011233",
     "status": "completed"
    },
    "tags": []
   },
   "outputs": [],
   "source": [
    "import pandas as pd\n",
    "import sqlite3"
   ]
  },
  {
   "cell_type": "code",
   "execution_count": 2,
   "id": "innovative-syndrome",
   "metadata": {
    "execution": {
     "iopub.execute_input": "2021-08-24T06:30:07.926238Z",
     "iopub.status.busy": "2021-08-24T06:30:07.923883Z",
     "iopub.status.idle": "2021-08-24T06:30:08.041632Z",
     "shell.execute_reply": "2021-08-24T06:30:08.043047Z"
    },
    "papermill": {
     "duration": 0.14805,
     "end_time": "2021-08-24T06:30:08.043465",
     "exception": false,
     "start_time": "2021-08-24T06:30:07.895415",
     "status": "completed"
    },
    "tags": []
   },
   "outputs": [],
   "source": [
    "timestamps = pd.read_sql(\"select distinct record_time from EBAY_TOP_BERLIN order by record_time desc limit 2\", sqlite3.connect(\"UsedObjects.db\"))"
   ]
  },
  {
   "cell_type": "code",
   "execution_count": 3,
   "id": "periodic-identification",
   "metadata": {
    "execution": {
     "iopub.execute_input": "2021-08-24T06:30:08.111353Z",
     "iopub.status.busy": "2021-08-24T06:30:08.109246Z",
     "iopub.status.idle": "2021-08-24T06:30:08.131307Z",
     "shell.execute_reply": "2021-08-24T06:30:08.129783Z"
    },
    "papermill": {
     "duration": 0.067559,
     "end_time": "2021-08-24T06:30:08.131670",
     "exception": false,
     "start_time": "2021-08-24T06:30:08.064111",
     "status": "completed"
    },
    "tags": []
   },
   "outputs": [
    {
     "data": {
      "text/html": [
       "<div>\n",
       "<style scoped>\n",
       "    .dataframe tbody tr th:only-of-type {\n",
       "        vertical-align: middle;\n",
       "    }\n",
       "\n",
       "    .dataframe tbody tr th {\n",
       "        vertical-align: top;\n",
       "    }\n",
       "\n",
       "    .dataframe thead th {\n",
       "        text-align: right;\n",
       "    }\n",
       "</style>\n",
       "<table border=\"1\" class=\"dataframe\">\n",
       "  <thead>\n",
       "    <tr style=\"text-align: right;\">\n",
       "      <th></th>\n",
       "      <th>RECORD_TIME</th>\n",
       "    </tr>\n",
       "  </thead>\n",
       "  <tbody>\n",
       "    <tr>\n",
       "      <th>0</th>\n",
       "      <td>2021-08-24 08:30</td>\n",
       "    </tr>\n",
       "    <tr>\n",
       "      <th>1</th>\n",
       "      <td>2021-08-24 08:00</td>\n",
       "    </tr>\n",
       "  </tbody>\n",
       "</table>\n",
       "</div>"
      ],
      "text/plain": [
       "        RECORD_TIME\n",
       "0  2021-08-24 08:30\n",
       "1  2021-08-24 08:00"
      ]
     },
     "execution_count": 3,
     "metadata": {},
     "output_type": "execute_result"
    }
   ],
   "source": [
    "timestamps"
   ]
  },
  {
   "cell_type": "code",
   "execution_count": 4,
   "id": "alternate-victory",
   "metadata": {
    "execution": {
     "iopub.execute_input": "2021-08-24T06:30:08.182881Z",
     "iopub.status.busy": "2021-08-24T06:30:08.180925Z",
     "iopub.status.idle": "2021-08-24T06:30:08.355395Z",
     "shell.execute_reply": "2021-08-24T06:30:08.356603Z"
    },
    "papermill": {
     "duration": 0.204193,
     "end_time": "2021-08-24T06:30:08.356999",
     "exception": false,
     "start_time": "2021-08-24T06:30:08.152806",
     "status": "completed"
    },
    "tags": []
   },
   "outputs": [],
   "source": [
    "df = pd.read_sql(\"select * from EBAY_TOP_BERLIN where record_time in (select distinct record_time from EBAY_TOP_BERLIN order by record_time desc limit 2)\", sqlite3.connect(\"UsedObjects.db\"))"
   ]
  },
  {
   "cell_type": "code",
   "execution_count": 5,
   "id": "popular-active",
   "metadata": {
    "execution": {
     "iopub.execute_input": "2021-08-24T06:30:08.427482Z",
     "iopub.status.busy": "2021-08-24T06:30:08.415542Z",
     "iopub.status.idle": "2021-08-24T06:30:08.443585Z",
     "shell.execute_reply": "2021-08-24T06:30:08.444878Z"
    },
    "papermill": {
     "duration": 0.067821,
     "end_time": "2021-08-24T06:30:08.445299",
     "exception": false,
     "start_time": "2021-08-24T06:30:08.377478",
     "status": "completed"
    },
    "tags": []
   },
   "outputs": [],
   "source": [
    "df_pivot = df.pivot_table(index=\"PRODUCT\", columns = \"RECORD_TIME\", values = \"LISTING_COUNT\")"
   ]
  },
  {
   "cell_type": "code",
   "execution_count": 6,
   "id": "union-huntington",
   "metadata": {
    "execution": {
     "iopub.execute_input": "2021-08-24T06:30:08.511717Z",
     "iopub.status.busy": "2021-08-24T06:30:08.509577Z",
     "iopub.status.idle": "2021-08-24T06:30:08.516267Z",
     "shell.execute_reply": "2021-08-24T06:30:08.514958Z"
    },
    "papermill": {
     "duration": 0.045265,
     "end_time": "2021-08-24T06:30:08.516645",
     "exception": false,
     "start_time": "2021-08-24T06:30:08.471380",
     "status": "completed"
    },
    "tags": []
   },
   "outputs": [],
   "source": [
    "df_pivot.columns = [\"stamp_1\", \"stamp_2\"]\n",
    "df_pivot_diff = df_pivot.diff(axis=1)"
   ]
  },
  {
   "cell_type": "code",
   "execution_count": 7,
   "id": "fifth-motion",
   "metadata": {
    "execution": {
     "iopub.execute_input": "2021-08-24T06:30:08.574135Z",
     "iopub.status.busy": "2021-08-24T06:30:08.571403Z",
     "iopub.status.idle": "2021-08-24T06:30:10.080370Z",
     "shell.execute_reply": "2021-08-24T06:30:10.081648Z"
    },
    "papermill": {
     "duration": 1.542768,
     "end_time": "2021-08-24T06:30:10.082131",
     "exception": false,
     "start_time": "2021-08-24T06:30:08.539363",
     "status": "completed"
    },
    "tags": []
   },
   "outputs": [
    {
     "data": {
      "text/plain": [
       "<AxesSubplot:ylabel='PRODUCT'>"
      ]
     },
     "execution_count": 7,
     "metadata": {},
     "output_type": "execute_result"
    },
    {
     "data": {
      "image/png": "[encoded data removed]",
      "text/plain": [
       "<Figure size 432x288 with 1 Axes>"
      ]
     },
     "metadata": {
      "needs_background": "light"
     },
     "output_type": "display_data"
    }
   ],
   "source": [
    "df_pivot_diff.sort_values(\"stamp_2\", ascending = False)[\"stamp_2\"].head(10).plot.barh()"
   ]
  },
  {
   "cell_type": "code",
   "execution_count": null,
   "id": "extra-executive",
   "metadata": {
    "papermill": {
     "duration": 0.022269,
     "end_time": "2021-08-24T06:30:10.128374",
     "exception": false,
     "start_time": "2021-08-24T06:30:10.106105",
     "status": "completed"
    },
    "tags": []
   },
   "outputs": [],
   "source": []
  }
 ],
 "metadata": {
  "kernelspec": {
   "display_name": "Python 3",
   "language": "python",
   "name": "python3"
  },
  "language_info": {
   "codemirror_mode": {
    "name": "ipython",
    "version": 3
   },
   "file_extension": ".py",
   "mimetype": "text/x-python",
   "name": "python",
   "nbconvert_exporter": "python",
   "pygments_lexer": "ipython3",
   "version": "3.9.5"
  },
  "papermill": {
   "default_parameters": {},
   "duration": 6.828108,
   "end_time": "2021-08-24T06:30:11.421117",
   "environment_variables": {},
   "exception": null,
   "input_path": "eBay_Overview.ipynb",
   "output_path": "eBay_Overview.ipynb",
   "parameters": {},
   "start_time": "2021-08-24T06:30:04.593009",
   "version": "2.3.3"
  }
 },
 "nbformat": 4,
 "nbformat_minor": 5
}