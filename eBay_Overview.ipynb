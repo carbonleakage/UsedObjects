{
 "cells": [
  {
   "cell_type": "code",
   "execution_count": 1,
   "id": "reverse-picking",
   "metadata": {
    "execution": {
     "iopub.execute_input": "2021-09-15T08:00:07.056974Z",
     "iopub.status.busy": "2021-09-15T08:00:07.055013Z",
     "iopub.status.idle": "2021-09-15T08:00:07.862187Z",
     "shell.execute_reply": "2021-09-15T08:00:07.860627Z"
    },
    "papermill": {
     "duration": 0.858068,
     "end_time": "2021-09-15T08:00:07.862579",
     "exception": false,
     "start_time": "2021-09-15T08:00:07.004511",
     "status": "completed"
    },
    "tags": []
   },
   "outputs": [],
   "source": [
    "import pandas as pd\n",
    "import sqlite3"
   ]
  },
  {
   "cell_type": "code",
   "execution_count": 2,
   "id": "innovative-syndrome",
   "metadata": {
    "execution": {
     "iopub.execute_input": "2021-09-15T08:00:07.914507Z",
     "iopub.status.busy": "2021-09-15T08:00:07.912616Z",
     "iopub.status.idle": "2021-09-15T08:00:08.203020Z",
     "shell.execute_reply": "2021-09-15T08:00:08.204543Z"
    },
    "papermill": {
     "duration": 0.32062,
     "end_time": "2021-09-15T08:00:08.204990",
     "exception": false,
     "start_time": "2021-09-15T08:00:07.884370",
     "status": "completed"
    },
    "tags": []
   },
   "outputs": [],
   "source": [
    "timestamps = pd.read_sql(\"select distinct record_time from EBAY_TOP_BERLIN order by record_time desc limit 2\", sqlite3.connect(\"UsedObjects.db\"))"
   ]
  },
  {
   "cell_type": "code",
   "execution_count": 3,
   "id": "periodic-identification",
   "metadata": {
    "execution": {
     "iopub.execute_input": "2021-09-15T08:00:08.272516Z",
     "iopub.status.busy": "2021-09-15T08:00:08.270428Z",
     "iopub.status.idle": "2021-09-15T08:00:08.290499Z",
     "shell.execute_reply": "2021-09-15T08:00:08.291776Z"
    },
    "papermill": {
     "duration": 0.067141,
     "end_time": "2021-09-15T08:00:08.292207",
     "exception": false,
     "start_time": "2021-09-15T08:00:08.225066",
     "status": "completed"
    },
    "tags": []
   },
   "outputs": [
    {
     "data": {
      "text/html": [
       "<div>\n",
       "<style scoped>\n",
       "    .dataframe tbody tr th:only-of-type {\n",
       "        vertical-align: middle;\n",
       "    }\n",
       "\n",
       "    .dataframe tbody tr th {\n",
       "        vertical-align: top;\n",
       "    }\n",
       "\n",
       "    .dataframe thead th {\n",
       "        text-align: right;\n",
       "    }\n",
       "</style>\n",
       "<table border=\"1\" class=\"dataframe\">\n",
       "  <thead>\n",
       "    <tr style=\"text-align: right;\">\n",
       "      <th></th>\n",
       "      <th>RECORD_TIME</th>\n",
       "    </tr>\n",
       "  </thead>\n",
       "  <tbody>\n",
       "    <tr>\n",
       "      <th>0</th>\n",
       "      <td>2021-09-15 10:00</td>\n",
       "    </tr>\n",
       "    <tr>\n",
       "      <th>1</th>\n",
       "      <td>2021-09-15 09:30</td>\n",
       "    </tr>\n",
       "  </tbody>\n",
       "</table>\n",
       "</div>"
      ],
      "text/plain": [
       "        RECORD_TIME\n",
       "0  2021-09-15 10:00\n",
       "1  2021-09-15 09:30"
      ]
     },
     "execution_count": 3,
     "metadata": {},
     "output_type": "execute_result"
    }
   ],
   "source": [
    "timestamps"
   ]
  },
  {
   "cell_type": "code",
   "execution_count": 4,
   "id": "alternate-victory",
   "metadata": {
    "execution": {
     "iopub.execute_input": "2021-09-15T08:00:08.346142Z",
     "iopub.status.busy": "2021-09-15T08:00:08.343843Z",
     "iopub.status.idle": "2021-09-15T08:00:08.782641Z",
     "shell.execute_reply": "2021-09-15T08:00:08.783921Z"
    },
    "papermill": {
     "duration": 0.469273,
     "end_time": "2021-09-15T08:00:08.784317",
     "exception": false,
     "start_time": "2021-09-15T08:00:08.315044",
     "status": "completed"
    },
    "tags": []
   },
   "outputs": [],
   "source": [
    "df = pd.read_sql(\"select * from EBAY_TOP_BERLIN where record_time in (select distinct record_time from EBAY_TOP_BERLIN order by record_time desc limit 2)\", sqlite3.connect(\"UsedObjects.db\"))"
   ]
  },
  {
   "cell_type": "code",
   "execution_count": 5,
   "id": "popular-active",
   "metadata": {
    "execution": {
     "iopub.execute_input": "2021-09-15T08:00:08.859220Z",
     "iopub.status.busy": "2021-09-15T08:00:08.847674Z",
     "iopub.status.idle": "2021-09-15T08:00:08.875268Z",
     "shell.execute_reply": "2021-09-15T08:00:08.876615Z"
    },
    "papermill": {
     "duration": 0.069307,
     "end_time": "2021-09-15T08:00:08.877028",
     "exception": false,
     "start_time": "2021-09-15T08:00:08.807721",
     "status": "completed"
    },
    "tags": []
   },
   "outputs": [],
   "source": [
    "df_pivot = df.pivot_table(index=\"PRODUCT\", columns = \"RECORD_TIME\", values = \"LISTING_COUNT\")"
   ]
  },
  {
   "cell_type": "code",
   "execution_count": 6,
   "id": "union-huntington",
   "metadata": {
    "execution": {
     "iopub.execute_input": "2021-09-15T08:00:08.935434Z",
     "iopub.status.busy": "2021-09-15T08:00:08.933103Z",
     "iopub.status.idle": "2021-09-15T08:00:08.938959Z",
     "shell.execute_reply": "2021-09-15T08:00:08.940408Z"
    },
    "papermill": {
     "duration": 0.042084,
     "end_time": "2021-09-15T08:00:08.940844",
     "exception": false,
     "start_time": "2021-09-15T08:00:08.898760",
     "status": "completed"
    },
    "tags": []
   },
   "outputs": [],
   "source": [
    "df_pivot.columns = [\"stamp_1\", \"stamp_2\"]\n",
    "df_pivot_diff = df_pivot.diff(axis=1)"
   ]
  },
  {
   "cell_type": "code",
   "execution_count": 7,
   "id": "fifth-motion",
   "metadata": {
    "execution": {
     "iopub.execute_input": "2021-09-15T08:00:08.994068Z",
     "iopub.status.busy": "2021-09-15T08:00:08.991881Z",
     "iopub.status.idle": "2021-09-15T08:00:10.488518Z",
     "shell.execute_reply": "2021-09-15T08:00:10.489818Z"
    },
    "papermill": {
     "duration": 1.529398,
     "end_time": "2021-09-15T08:00:10.490227",
     "exception": false,
     "start_time": "2021-09-15T08:00:08.960829",
     "status": "completed"
    },
    "tags": []
   },
   "outputs": [
    {
     "data": {
      "text/plain": [
       "<AxesSubplot:ylabel='PRODUCT'>"
      ]
     },
     "execution_count": 7,
     "metadata": {},
     "output_type": "execute_result"
    },
    {
     "data": {
      "image/png": "[encoded data removed]",
      "text/plain": [
       "<Figure size 432x288 with 1 Axes>"
      ]
     },
     "metadata": {
      "needs_background": "light"
     },
     "output_type": "display_data"
    }
   ],
   "source": [
    "df_pivot_diff.sort_values(\"stamp_2\", ascending = False)[\"stamp_2\"].head(10).plot.barh()"
   ]
  },
  {
   "cell_type": "code",
   "execution_count": null,
   "id": "extra-executive",
   "metadata": {
    "papermill": {
     "duration": 0.022432,
     "end_time": "2021-09-15T08:00:10.537516",
     "exception": false,
     "start_time": "2021-09-15T08:00:10.515084",
     "status": "completed"
    },
    "tags": []
   },
   "outputs": [],
   "source": []
  }
 ],
 "metadata": {
  "kernelspec": {
   "display_name": "Python 3",
   "language": "python",
   "name": "python3"
  },
  "language_info": {
   "codemirror_mode": {
    "name": "ipython",
    "version": 3
   },
   "file_extension": ".py",
   "mimetype": "text/x-python",
   "name": "python",
   "nbconvert_exporter": "python",
   "pygments_lexer": "ipython3",
   "version": "3.9.5"
  },
  "papermill": {
   "default_parameters": {},
   "duration": 6.590109,
   "end_time": "2021-09-15T08:00:11.180361",
   "environment_variables": {},
   "exception": null,
   "input_path": "eBay_Overview.ipynb",
   "output_path": "eBay_Overview.ipynb",
   "parameters": {},
   "start_time": "2021-09-15T08:00:04.590252",
   "version": "2.3.3"
  }
 },
 "nbformat": 4,
 "nbformat_minor": 5
}