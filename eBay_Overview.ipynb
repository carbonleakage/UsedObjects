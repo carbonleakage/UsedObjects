{
 "cells": [
  {
   "cell_type": "code",
   "execution_count": 1,
   "id": "reverse-picking",
   "metadata": {
    "execution": {
     "iopub.execute_input": "2021-12-04T13:30:07.547501Z",
     "iopub.status.busy": "2021-12-04T13:30:07.545334Z",
     "iopub.status.idle": "2021-12-04T13:30:08.474545Z",
     "shell.execute_reply": "2021-12-04T13:30:08.476229Z"
    },
    "papermill": {
     "duration": 0.980219,
     "end_time": "2021-12-04T13:30:08.477017",
     "exception": false,
     "start_time": "2021-12-04T13:30:07.496798",
     "status": "completed"
    },
    "tags": []
   },
   "outputs": [],
   "source": [
    "import pandas as pd\n",
    "import sqlite3"
   ]
  },
  {
   "cell_type": "code",
   "execution_count": 2,
   "id": "innovative-syndrome",
   "metadata": {
    "execution": {
     "iopub.execute_input": "2021-12-04T13:30:08.539841Z",
     "iopub.status.busy": "2021-12-04T13:30:08.537495Z",
     "iopub.status.idle": "2021-12-04T13:30:09.529389Z",
     "shell.execute_reply": "2021-12-04T13:30:09.531527Z"
    },
    "papermill": {
     "duration": 1.027917,
     "end_time": "2021-12-04T13:30:09.532009",
     "exception": false,
     "start_time": "2021-12-04T13:30:08.504092",
     "status": "completed"
    },
    "tags": []
   },
   "outputs": [],
   "source": [
    "timestamps = pd.read_sql(\"select distinct record_time from EBAY_TOP_BERLIN order by record_time desc limit 2\", sqlite3.connect(\"UsedObjects.db\"))"
   ]
  },
  {
   "cell_type": "code",
   "execution_count": 3,
   "id": "periodic-identification",
   "metadata": {
    "execution": {
     "iopub.execute_input": "2021-12-04T13:30:09.605730Z",
     "iopub.status.busy": "2021-12-04T13:30:09.601779Z",
     "iopub.status.idle": "2021-12-04T13:30:09.626919Z",
     "shell.execute_reply": "2021-12-04T13:30:09.628477Z"
    },
    "papermill": {
     "duration": 0.075804,
     "end_time": "2021-12-04T13:30:09.629012",
     "exception": false,
     "start_time": "2021-12-04T13:30:09.553208",
     "status": "completed"
    },
    "tags": []
   },
   "outputs": [
    {
     "data": {
      "text/html": [
       "<div>\n",
       "<style scoped>\n",
       "    .dataframe tbody tr th:only-of-type {\n",
       "        vertical-align: middle;\n",
       "    }\n",
       "\n",
       "    .dataframe tbody tr th {\n",
       "        vertical-align: top;\n",
       "    }\n",
       "\n",
       "    .dataframe thead th {\n",
       "        text-align: right;\n",
       "    }\n",
       "</style>\n",
       "<table border=\"1\" class=\"dataframe\">\n",
       "  <thead>\n",
       "    <tr style=\"text-align: right;\">\n",
       "      <th></th>\n",
       "      <th>RECORD_TIME</th>\n",
       "    </tr>\n",
       "  </thead>\n",
       "  <tbody>\n",
       "    <tr>\n",
       "      <th>0</th>\n",
       "      <td>2021-12-04 14:30</td>\n",
       "    </tr>\n",
       "    <tr>\n",
       "      <th>1</th>\n",
       "      <td>2021-12-04 14:00</td>\n",
       "    </tr>\n",
       "  </tbody>\n",
       "</table>\n",
       "</div>"
      ],
      "text/plain": [
       "        RECORD_TIME\n",
       "0  2021-12-04 14:30\n",
       "1  2021-12-04 14:00"
      ]
     },
     "execution_count": 3,
     "metadata": {},
     "output_type": "execute_result"
    }
   ],
   "source": [
    "timestamps"
   ]
  },
  {
   "cell_type": "code",
   "execution_count": 4,
   "id": "alternate-victory",
   "metadata": {
    "execution": {
     "iopub.execute_input": "2021-12-04T13:30:09.683629Z",
     "iopub.status.busy": "2021-12-04T13:30:09.681585Z",
     "iopub.status.idle": "2021-12-04T13:30:11.102191Z",
     "shell.execute_reply": "2021-12-04T13:30:11.103692Z"
    },
    "papermill": {
     "duration": 1.454006,
     "end_time": "2021-12-04T13:30:11.104137",
     "exception": false,
     "start_time": "2021-12-04T13:30:09.650131",
     "status": "completed"
    },
    "tags": []
   },
   "outputs": [],
   "source": [
    "df = pd.read_sql(\"select * from EBAY_TOP_BERLIN where record_time in (select distinct record_time from EBAY_TOP_BERLIN order by record_time desc limit 2)\", sqlite3.connect(\"UsedObjects.db\"))"
   ]
  },
  {
   "cell_type": "code",
   "execution_count": 5,
   "id": "popular-active",
   "metadata": {
    "execution": {
     "iopub.execute_input": "2021-12-04T13:30:11.180066Z",
     "iopub.status.busy": "2021-12-04T13:30:11.170173Z",
     "iopub.status.idle": "2021-12-04T13:30:11.203190Z",
     "shell.execute_reply": "2021-12-04T13:30:11.204649Z"
    },
    "papermill": {
     "duration": 0.07862,
     "end_time": "2021-12-04T13:30:11.205168",
     "exception": false,
     "start_time": "2021-12-04T13:30:11.126548",
     "status": "completed"
    },
    "tags": []
   },
   "outputs": [],
   "source": [
    "df_pivot = df.pivot_table(index=\"PRODUCT\", columns = \"RECORD_TIME\", values = \"LISTING_COUNT\")"
   ]
  },
  {
   "cell_type": "code",
   "execution_count": 6,
   "id": "union-huntington",
   "metadata": {
    "execution": {
     "iopub.execute_input": "2021-12-04T13:30:11.263666Z",
     "iopub.status.busy": "2021-12-04T13:30:11.261467Z",
     "iopub.status.idle": "2021-12-04T13:30:11.267104Z",
     "shell.execute_reply": "2021-12-04T13:30:11.268453Z"
    },
    "papermill": {
     "duration": 0.043759,
     "end_time": "2021-12-04T13:30:11.268999",
     "exception": false,
     "start_time": "2021-12-04T13:30:11.225240",
     "status": "completed"
    },
    "tags": []
   },
   "outputs": [],
   "source": [
    "df_pivot.columns = [\"stamp_1\", \"stamp_2\"]\n",
    "df_pivot_diff = df_pivot.diff(axis=1)"
   ]
  },
  {
   "cell_type": "code",
   "execution_count": 7,
   "id": "fifth-motion",
   "metadata": {
    "execution": {
     "iopub.execute_input": "2021-12-04T13:30:11.332319Z",
     "iopub.status.busy": "2021-12-04T13:30:11.329848Z",
     "iopub.status.idle": "2021-12-04T13:30:13.325912Z",
     "shell.execute_reply": "2021-12-04T13:30:13.328334Z"
    },
    "papermill": {
     "duration": 2.036385,
     "end_time": "2021-12-04T13:30:13.329105",
     "exception": false,
     "start_time": "2021-12-04T13:30:11.292720",
     "status": "completed"
    },
    "tags": []
   },
   "outputs": [
    {
     "data": {
      "text/plain": [
       "<AxesSubplot:ylabel='PRODUCT'>"
      ]
     },
     "execution_count": 7,
     "metadata": {},
     "output_type": "execute_result"
    },
    {
     "data": {
      "image/png": "[encoded data removed]",
      "text/plain": [
       "<Figure size 432x288 with 1 Axes>"
      ]
     },
     "metadata": {
      "needs_background": "light"
     },
     "output_type": "display_data"
    }
   ],
   "source": [
    "df_pivot_diff.sort_values(\"stamp_2\", ascending = False)[\"stamp_2\"].head(10).plot.barh()"
   ]
  },
  {
   "cell_type": "code",
   "execution_count": null,
   "id": "extra-executive",
   "metadata": {
    "papermill": {
     "duration": 0.027151,
     "end_time": "2021-12-04T13:30:13.388480",
     "exception": false,
     "start_time": "2021-12-04T13:30:13.361329",
     "status": "completed"
    },
    "tags": []
   },
   "outputs": [],
   "source": []
  }
 ],
 "metadata": {
  "kernelspec": {
   "display_name": "Python 3",
   "language": "python",
   "name": "python3"
  },
  "language_info": {
   "codemirror_mode": {
    "name": "ipython",
    "version": 3
   },
   "file_extension": ".py",
   "mimetype": "text/x-python",
   "name": "python",
   "nbconvert_exporter": "python",
   "pygments_lexer": "ipython3",
   "version": "3.9.5"
  },
  "papermill": {
   "default_parameters": {},
   "duration": 9.933912,
   "end_time": "2021-12-04T13:30:14.706451",
   "environment_variables": {},
   "exception": null,
   "input_path": "eBay_Overview.ipynb",
   "output_path": "eBay_Overview.ipynb",
   "parameters": {},
   "start_time": "2021-12-04T13:30:04.772539",
   "version": "2.3.3"
  }
 },
 "nbformat": 4,
 "nbformat_minor": 5
}