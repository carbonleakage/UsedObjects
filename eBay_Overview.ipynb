{
 "cells": [
  {
   "cell_type": "code",
   "execution_count": 1,
   "id": "reverse-picking",
   "metadata": {
    "execution": {
     "iopub.execute_input": "2021-10-07T20:00:07.371956Z",
     "iopub.status.busy": "2021-10-07T20:00:07.369961Z",
     "iopub.status.idle": "2021-10-07T20:00:08.180403Z",
     "shell.execute_reply": "2021-10-07T20:00:08.181733Z"
    },
    "papermill": {
     "duration": 0.860549,
     "end_time": "2021-10-07T20:00:08.182380",
     "exception": false,
     "start_time": "2021-10-07T20:00:07.321831",
     "status": "completed"
    },
    "tags": []
   },
   "outputs": [],
   "source": [
    "import pandas as pd\n",
    "import sqlite3"
   ]
  },
  {
   "cell_type": "code",
   "execution_count": 2,
   "id": "innovative-syndrome",
   "metadata": {
    "execution": {
     "iopub.execute_input": "2021-10-07T20:00:08.233292Z",
     "iopub.status.busy": "2021-10-07T20:00:08.230966Z",
     "iopub.status.idle": "2021-10-07T20:00:08.728939Z",
     "shell.execute_reply": "2021-10-07T20:00:08.730134Z"
    },
    "papermill": {
     "duration": 0.528168,
     "end_time": "2021-10-07T20:00:08.730527",
     "exception": false,
     "start_time": "2021-10-07T20:00:08.202359",
     "status": "completed"
    },
    "tags": []
   },
   "outputs": [],
   "source": [
    "timestamps = pd.read_sql(\"select distinct record_time from EBAY_TOP_BERLIN order by record_time desc limit 2\", sqlite3.connect(\"UsedObjects.db\"))"
   ]
  },
  {
   "cell_type": "code",
   "execution_count": 3,
   "id": "periodic-identification",
   "metadata": {
    "execution": {
     "iopub.execute_input": "2021-10-07T20:00:08.810897Z",
     "iopub.status.busy": "2021-10-07T20:00:08.808780Z",
     "iopub.status.idle": "2021-10-07T20:00:08.829291Z",
     "shell.execute_reply": "2021-10-07T20:00:08.830559Z"
    },
    "papermill": {
     "duration": 0.078534,
     "end_time": "2021-10-07T20:00:08.831027",
     "exception": false,
     "start_time": "2021-10-07T20:00:08.752493",
     "status": "completed"
    },
    "tags": []
   },
   "outputs": [
    {
     "data": {
      "text/html": [
       "<div>\n",
       "<style scoped>\n",
       "    .dataframe tbody tr th:only-of-type {\n",
       "        vertical-align: middle;\n",
       "    }\n",
       "\n",
       "    .dataframe tbody tr th {\n",
       "        vertical-align: top;\n",
       "    }\n",
       "\n",
       "    .dataframe thead th {\n",
       "        text-align: right;\n",
       "    }\n",
       "</style>\n",
       "<table border=\"1\" class=\"dataframe\">\n",
       "  <thead>\n",
       "    <tr style=\"text-align: right;\">\n",
       "      <th></th>\n",
       "      <th>RECORD_TIME</th>\n",
       "    </tr>\n",
       "  </thead>\n",
       "  <tbody>\n",
       "    <tr>\n",
       "      <th>0</th>\n",
       "      <td>2021-10-07 22:00</td>\n",
       "    </tr>\n",
       "    <tr>\n",
       "      <th>1</th>\n",
       "      <td>2021-10-07 21:30</td>\n",
       "    </tr>\n",
       "  </tbody>\n",
       "</table>\n",
       "</div>"
      ],
      "text/plain": [
       "        RECORD_TIME\n",
       "0  2021-10-07 22:00\n",
       "1  2021-10-07 21:30"
      ]
     },
     "execution_count": 3,
     "metadata": {},
     "output_type": "execute_result"
    }
   ],
   "source": [
    "timestamps"
   ]
  },
  {
   "cell_type": "code",
   "execution_count": 4,
   "id": "alternate-victory",
   "metadata": {
    "execution": {
     "iopub.execute_input": "2021-10-07T20:00:08.883313Z",
     "iopub.status.busy": "2021-10-07T20:00:08.881338Z",
     "iopub.status.idle": "2021-10-07T20:00:09.593383Z",
     "shell.execute_reply": "2021-10-07T20:00:09.594667Z"
    },
    "papermill": {
     "duration": 0.742361,
     "end_time": "2021-10-07T20:00:09.595138",
     "exception": false,
     "start_time": "2021-10-07T20:00:08.852777",
     "status": "completed"
    },
    "tags": []
   },
   "outputs": [],
   "source": [
    "df = pd.read_sql(\"select * from EBAY_TOP_BERLIN where record_time in (select distinct record_time from EBAY_TOP_BERLIN order by record_time desc limit 2)\", sqlite3.connect(\"UsedObjects.db\"))"
   ]
  },
  {
   "cell_type": "code",
   "execution_count": 5,
   "id": "popular-active",
   "metadata": {
    "execution": {
     "iopub.execute_input": "2021-10-07T20:00:09.667217Z",
     "iopub.status.busy": "2021-10-07T20:00:09.655297Z",
     "iopub.status.idle": "2021-10-07T20:00:09.684566Z",
     "shell.execute_reply": "2021-10-07T20:00:09.685928Z"
    },
    "papermill": {
     "duration": 0.070396,
     "end_time": "2021-10-07T20:00:09.686365",
     "exception": false,
     "start_time": "2021-10-07T20:00:09.615969",
     "status": "completed"
    },
    "tags": []
   },
   "outputs": [],
   "source": [
    "df_pivot = df.pivot_table(index=\"PRODUCT\", columns = \"RECORD_TIME\", values = \"LISTING_COUNT\")"
   ]
  },
  {
   "cell_type": "code",
   "execution_count": 6,
   "id": "union-huntington",
   "metadata": {
    "execution": {
     "iopub.execute_input": "2021-10-07T20:00:09.744842Z",
     "iopub.status.busy": "2021-10-07T20:00:09.742739Z",
     "iopub.status.idle": "2021-10-07T20:00:09.748011Z",
     "shell.execute_reply": "2021-10-07T20:00:09.749295Z"
    },
    "papermill": {
     "duration": 0.04216,
     "end_time": "2021-10-07T20:00:09.749713",
     "exception": false,
     "start_time": "2021-10-07T20:00:09.707553",
     "status": "completed"
    },
    "tags": []
   },
   "outputs": [],
   "source": [
    "df_pivot.columns = [\"stamp_1\", \"stamp_2\"]\n",
    "df_pivot_diff = df_pivot.diff(axis=1)"
   ]
  },
  {
   "cell_type": "code",
   "execution_count": 7,
   "id": "fifth-motion",
   "metadata": {
    "execution": {
     "iopub.execute_input": "2021-10-07T20:00:09.805798Z",
     "iopub.status.busy": "2021-10-07T20:00:09.803151Z",
     "iopub.status.idle": "2021-10-07T20:00:11.288961Z",
     "shell.execute_reply": "2021-10-07T20:00:11.290245Z"
    },
    "papermill": {
     "duration": 1.519491,
     "end_time": "2021-10-07T20:00:11.290660",
     "exception": false,
     "start_time": "2021-10-07T20:00:09.771169",
     "status": "completed"
    },
    "tags": []
   },
   "outputs": [
    {
     "data": {
      "text/plain": [
       "<AxesSubplot:ylabel='PRODUCT'>"
      ]
     },
     "execution_count": 7,
     "metadata": {},
     "output_type": "execute_result"
    },
    {
     "data": {
      "image/png": "[encoded data removed]",
      "text/plain": [
       "<Figure size 432x288 with 1 Axes>"
      ]
     },
     "metadata": {
      "needs_background": "light"
     },
     "output_type": "display_data"
    }
   ],
   "source": [
    "df_pivot_diff.sort_values(\"stamp_2\", ascending = False)[\"stamp_2\"].head(10).plot.barh()"
   ]
  },
  {
   "cell_type": "code",
   "execution_count": null,
   "id": "extra-executive",
   "metadata": {
    "papermill": {
     "duration": 0.022319,
     "end_time": "2021-10-07T20:00:11.337548",
     "exception": false,
     "start_time": "2021-10-07T20:00:11.315229",
     "status": "completed"
    },
    "tags": []
   },
   "outputs": [],
   "source": []
  }
 ],
 "metadata": {
  "kernelspec": {
   "display_name": "Python 3",
   "language": "python",
   "name": "python3"
  },
  "language_info": {
   "codemirror_mode": {
    "name": "ipython",
    "version": 3
   },
   "file_extension": ".py",
   "mimetype": "text/x-python",
   "name": "python",
   "nbconvert_exporter": "python",
   "pygments_lexer": "ipython3",
   "version": "3.9.5"
  },
  "papermill": {
   "default_parameters": {},
   "duration": 7.828005,
   "end_time": "2021-10-07T20:00:12.730674",
   "environment_variables": {},
   "exception": null,
   "input_path": "eBay_Overview.ipynb",
   "output_path": "eBay_Overview.ipynb",
   "parameters": {},
   "start_time": "2021-10-07T20:00:04.902669",
   "version": "2.3.3"
  }
 },
 "nbformat": 4,
 "nbformat_minor": 5
}