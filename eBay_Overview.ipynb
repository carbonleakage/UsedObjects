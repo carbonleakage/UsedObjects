{
 "cells": [
  {
   "cell_type": "code",
   "execution_count": 1,
   "id": "reverse-picking",
   "metadata": {
    "execution": {
     "iopub.execute_input": "2021-09-12T00:30:06.584200Z",
     "iopub.status.busy": "2021-09-12T00:30:06.582183Z",
     "iopub.status.idle": "2021-09-12T00:30:07.391505Z",
     "shell.execute_reply": "2021-09-12T00:30:07.393017Z"
    },
    "papermill": {
     "duration": 0.859305,
     "end_time": "2021-09-12T00:30:07.393709",
     "exception": false,
     "start_time": "2021-09-12T00:30:06.534404",
     "status": "completed"
    },
    "tags": []
   },
   "outputs": [],
   "source": [
    "import pandas as pd\n",
    "import sqlite3"
   ]
  },
  {
   "cell_type": "code",
   "execution_count": 2,
   "id": "innovative-syndrome",
   "metadata": {
    "execution": {
     "iopub.execute_input": "2021-09-12T00:30:07.445628Z",
     "iopub.status.busy": "2021-09-12T00:30:07.443337Z",
     "iopub.status.idle": "2021-09-12T00:30:07.707903Z",
     "shell.execute_reply": "2021-09-12T00:30:07.709026Z"
    },
    "papermill": {
     "duration": 0.295036,
     "end_time": "2021-09-12T00:30:07.709433",
     "exception": false,
     "start_time": "2021-09-12T00:30:07.414397",
     "status": "completed"
    },
    "tags": []
   },
   "outputs": [],
   "source": [
    "timestamps = pd.read_sql(\"select distinct record_time from EBAY_TOP_BERLIN order by record_time desc limit 2\", sqlite3.connect(\"UsedObjects.db\"))"
   ]
  },
  {
   "cell_type": "code",
   "execution_count": 3,
   "id": "periodic-identification",
   "metadata": {
    "execution": {
     "iopub.execute_input": "2021-09-12T00:30:07.774642Z",
     "iopub.status.busy": "2021-09-12T00:30:07.772622Z",
     "iopub.status.idle": "2021-09-12T00:30:07.792534Z",
     "shell.execute_reply": "2021-09-12T00:30:07.793816Z"
    },
    "papermill": {
     "duration": 0.063694,
     "end_time": "2021-09-12T00:30:07.794236",
     "exception": false,
     "start_time": "2021-09-12T00:30:07.730542",
     "status": "completed"
    },
    "tags": []
   },
   "outputs": [
    {
     "data": {
      "text/html": [
       "<div>\n",
       "<style scoped>\n",
       "    .dataframe tbody tr th:only-of-type {\n",
       "        vertical-align: middle;\n",
       "    }\n",
       "\n",
       "    .dataframe tbody tr th {\n",
       "        vertical-align: top;\n",
       "    }\n",
       "\n",
       "    .dataframe thead th {\n",
       "        text-align: right;\n",
       "    }\n",
       "</style>\n",
       "<table border=\"1\" class=\"dataframe\">\n",
       "  <thead>\n",
       "    <tr style=\"text-align: right;\">\n",
       "      <th></th>\n",
       "      <th>RECORD_TIME</th>\n",
       "    </tr>\n",
       "  </thead>\n",
       "  <tbody>\n",
       "    <tr>\n",
       "      <th>0</th>\n",
       "      <td>2021-09-12 02:30</td>\n",
       "    </tr>\n",
       "    <tr>\n",
       "      <th>1</th>\n",
       "      <td>2021-09-12 02:00</td>\n",
       "    </tr>\n",
       "  </tbody>\n",
       "</table>\n",
       "</div>"
      ],
      "text/plain": [
       "        RECORD_TIME\n",
       "0  2021-09-12 02:30\n",
       "1  2021-09-12 02:00"
      ]
     },
     "execution_count": 3,
     "metadata": {},
     "output_type": "execute_result"
    }
   ],
   "source": [
    "timestamps"
   ]
  },
  {
   "cell_type": "code",
   "execution_count": 4,
   "id": "alternate-victory",
   "metadata": {
    "execution": {
     "iopub.execute_input": "2021-09-12T00:30:07.847184Z",
     "iopub.status.busy": "2021-09-12T00:30:07.844822Z",
     "iopub.status.idle": "2021-09-12T00:30:08.249483Z",
     "shell.execute_reply": "2021-09-12T00:30:08.250691Z"
    },
    "papermill": {
     "duration": 0.43556,
     "end_time": "2021-09-12T00:30:08.251173",
     "exception": false,
     "start_time": "2021-09-12T00:30:07.815613",
     "status": "completed"
    },
    "tags": []
   },
   "outputs": [],
   "source": [
    "df = pd.read_sql(\"select * from EBAY_TOP_BERLIN where record_time in (select distinct record_time from EBAY_TOP_BERLIN order by record_time desc limit 2)\", sqlite3.connect(\"UsedObjects.db\"))"
   ]
  },
  {
   "cell_type": "code",
   "execution_count": 5,
   "id": "popular-active",
   "metadata": {
    "execution": {
     "iopub.execute_input": "2021-09-12T00:30:08.330966Z",
     "iopub.status.busy": "2021-09-12T00:30:08.319186Z",
     "iopub.status.idle": "2021-09-12T00:30:08.346542Z",
     "shell.execute_reply": "2021-09-12T00:30:08.347838Z"
    },
    "papermill": {
     "duration": 0.070979,
     "end_time": "2021-09-12T00:30:08.348241",
     "exception": false,
     "start_time": "2021-09-12T00:30:08.277262",
     "status": "completed"
    },
    "tags": []
   },
   "outputs": [],
   "source": [
    "df_pivot = df.pivot_table(index=\"PRODUCT\", columns = \"RECORD_TIME\", values = \"LISTING_COUNT\")"
   ]
  },
  {
   "cell_type": "code",
   "execution_count": 6,
   "id": "union-huntington",
   "metadata": {
    "execution": {
     "iopub.execute_input": "2021-09-12T00:30:08.407295Z",
     "iopub.status.busy": "2021-09-12T00:30:08.404967Z",
     "iopub.status.idle": "2021-09-12T00:30:08.410781Z",
     "shell.execute_reply": "2021-09-12T00:30:08.412131Z"
    },
    "papermill": {
     "duration": 0.0419,
     "end_time": "2021-09-12T00:30:08.412550",
     "exception": false,
     "start_time": "2021-09-12T00:30:08.370650",
     "status": "completed"
    },
    "tags": []
   },
   "outputs": [],
   "source": [
    "df_pivot.columns = [\"stamp_1\", \"stamp_2\"]\n",
    "df_pivot_diff = df_pivot.diff(axis=1)"
   ]
  },
  {
   "cell_type": "code",
   "execution_count": 7,
   "id": "fifth-motion",
   "metadata": {
    "execution": {
     "iopub.execute_input": "2021-09-12T00:30:08.466898Z",
     "iopub.status.busy": "2021-09-12T00:30:08.464408Z",
     "iopub.status.idle": "2021-09-12T00:30:09.982961Z",
     "shell.execute_reply": "2021-09-12T00:30:09.984501Z"
    },
    "papermill": {
     "duration": 1.551716,
     "end_time": "2021-09-12T00:30:09.984972",
     "exception": false,
     "start_time": "2021-09-12T00:30:08.433256",
     "status": "completed"
    },
    "tags": []
   },
   "outputs": [
    {
     "data": {
      "text/plain": [
       "<AxesSubplot:ylabel='PRODUCT'>"
      ]
     },
     "execution_count": 7,
     "metadata": {},
     "output_type": "execute_result"
    },
    {
     "data": {
      "image/png": "[encoded data removed]",
      "text/plain": [
       "<Figure size 432x288 with 1 Axes>"
      ]
     },
     "metadata": {
      "needs_background": "light"
     },
     "output_type": "display_data"
    }
   ],
   "source": [
    "df_pivot_diff.sort_values(\"stamp_2\", ascending = False)[\"stamp_2\"].head(10).plot.barh()"
   ]
  },
  {
   "cell_type": "code",
   "execution_count": null,
   "id": "extra-executive",
   "metadata": {
    "papermill": {
     "duration": 0.02236,
     "end_time": "2021-09-12T00:30:10.031398",
     "exception": false,
     "start_time": "2021-09-12T00:30:10.009038",
     "status": "completed"
    },
    "tags": []
   },
   "outputs": [],
   "source": []
  }
 ],
 "metadata": {
  "kernelspec": {
   "display_name": "Python 3",
   "language": "python",
   "name": "python3"
  },
  "language_info": {
   "codemirror_mode": {
    "name": "ipython",
    "version": 3
   },
   "file_extension": ".py",
   "mimetype": "text/x-python",
   "name": "python",
   "nbconvert_exporter": "python",
   "pygments_lexer": "ipython3",
   "version": "3.9.5"
  },
  "papermill": {
   "default_parameters": {},
   "duration": 6.555577,
   "end_time": "2021-09-12T00:30:10.672647",
   "environment_variables": {},
   "exception": null,
   "input_path": "eBay_Overview.ipynb",
   "output_path": "eBay_Overview.ipynb",
   "parameters": {},
   "start_time": "2021-09-12T00:30:04.117070",
   "version": "2.3.3"
  }
 },
 "nbformat": 4,
 "nbformat_minor": 5
}