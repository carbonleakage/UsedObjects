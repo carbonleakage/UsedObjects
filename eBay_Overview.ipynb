{
 "cells": [
  {
   "cell_type": "code",
   "execution_count": 1,
   "id": "reverse-picking",
   "metadata": {
    "execution": {
     "iopub.execute_input": "2021-11-17T17:00:07.902186Z",
     "iopub.status.busy": "2021-11-17T17:00:07.899779Z",
     "iopub.status.idle": "2021-11-17T17:00:08.840226Z",
     "shell.execute_reply": "2021-11-17T17:00:08.841916Z"
    },
    "papermill": {
     "duration": 0.988894,
     "end_time": "2021-11-17T17:00:08.842674",
     "exception": false,
     "start_time": "2021-11-17T17:00:07.853780",
     "status": "completed"
    },
    "tags": []
   },
   "outputs": [],
   "source": [
    "import pandas as pd\n",
    "import sqlite3"
   ]
  },
  {
   "cell_type": "code",
   "execution_count": 2,
   "id": "innovative-syndrome",
   "metadata": {
    "execution": {
     "iopub.execute_input": "2021-11-17T17:00:08.898655Z",
     "iopub.status.busy": "2021-11-17T17:00:08.896176Z",
     "iopub.status.idle": "2021-11-17T17:00:09.754697Z",
     "shell.execute_reply": "2021-11-17T17:00:09.755906Z"
    },
    "papermill": {
     "duration": 0.892493,
     "end_time": "2021-11-17T17:00:09.756305",
     "exception": false,
     "start_time": "2021-11-17T17:00:08.863812",
     "status": "completed"
    },
    "tags": []
   },
   "outputs": [],
   "source": [
    "timestamps = pd.read_sql(\"select distinct record_time from EBAY_TOP_BERLIN order by record_time desc limit 2\", sqlite3.connect(\"UsedObjects.db\"))"
   ]
  },
  {
   "cell_type": "code",
   "execution_count": 3,
   "id": "periodic-identification",
   "metadata": {
    "execution": {
     "iopub.execute_input": "2021-11-17T17:00:09.826398Z",
     "iopub.status.busy": "2021-11-17T17:00:09.824029Z",
     "iopub.status.idle": "2021-11-17T17:00:09.848405Z",
     "shell.execute_reply": "2021-11-17T17:00:09.849881Z"
    },
    "papermill": {
     "duration": 0.074163,
     "end_time": "2021-11-17T17:00:09.850388",
     "exception": false,
     "start_time": "2021-11-17T17:00:09.776225",
     "status": "completed"
    },
    "tags": []
   },
   "outputs": [
    {
     "data": {
      "text/html": [
       "<div>\n",
       "<style scoped>\n",
       "    .dataframe tbody tr th:only-of-type {\n",
       "        vertical-align: middle;\n",
       "    }\n",
       "\n",
       "    .dataframe tbody tr th {\n",
       "        vertical-align: top;\n",
       "    }\n",
       "\n",
       "    .dataframe thead th {\n",
       "        text-align: right;\n",
       "    }\n",
       "</style>\n",
       "<table border=\"1\" class=\"dataframe\">\n",
       "  <thead>\n",
       "    <tr style=\"text-align: right;\">\n",
       "      <th></th>\n",
       "      <th>RECORD_TIME</th>\n",
       "    </tr>\n",
       "  </thead>\n",
       "  <tbody>\n",
       "    <tr>\n",
       "      <th>0</th>\n",
       "      <td>2021-11-17 18:00</td>\n",
       "    </tr>\n",
       "    <tr>\n",
       "      <th>1</th>\n",
       "      <td>2021-11-17 17:30</td>\n",
       "    </tr>\n",
       "  </tbody>\n",
       "</table>\n",
       "</div>"
      ],
      "text/plain": [
       "        RECORD_TIME\n",
       "0  2021-11-17 18:00\n",
       "1  2021-11-17 17:30"
      ]
     },
     "execution_count": 3,
     "metadata": {},
     "output_type": "execute_result"
    }
   ],
   "source": [
    "timestamps"
   ]
  },
  {
   "cell_type": "code",
   "execution_count": 4,
   "id": "alternate-victory",
   "metadata": {
    "execution": {
     "iopub.execute_input": "2021-11-17T17:00:09.906437Z",
     "iopub.status.busy": "2021-11-17T17:00:09.904207Z",
     "iopub.status.idle": "2021-11-17T17:00:11.178734Z",
     "shell.execute_reply": "2021-11-17T17:00:11.180190Z"
    },
    "papermill": {
     "duration": 1.308603,
     "end_time": "2021-11-17T17:00:11.180655",
     "exception": false,
     "start_time": "2021-11-17T17:00:09.872052",
     "status": "completed"
    },
    "tags": []
   },
   "outputs": [],
   "source": [
    "df = pd.read_sql(\"select * from EBAY_TOP_BERLIN where record_time in (select distinct record_time from EBAY_TOP_BERLIN order by record_time desc limit 2)\", sqlite3.connect(\"UsedObjects.db\"))"
   ]
  },
  {
   "cell_type": "code",
   "execution_count": 5,
   "id": "popular-active",
   "metadata": {
    "execution": {
     "iopub.execute_input": "2021-11-17T17:00:11.243225Z",
     "iopub.status.busy": "2021-11-17T17:00:11.240972Z",
     "iopub.status.idle": "2021-11-17T17:00:11.275691Z",
     "shell.execute_reply": "2021-11-17T17:00:11.277519Z"
    },
    "papermill": {
     "duration": 0.076575,
     "end_time": "2021-11-17T17:00:11.277959",
     "exception": false,
     "start_time": "2021-11-17T17:00:11.201384",
     "status": "completed"
    },
    "tags": []
   },
   "outputs": [],
   "source": [
    "df_pivot = df.pivot_table(index=\"PRODUCT\", columns = \"RECORD_TIME\", values = \"LISTING_COUNT\")"
   ]
  },
  {
   "cell_type": "code",
   "execution_count": 6,
   "id": "union-huntington",
   "metadata": {
    "execution": {
     "iopub.execute_input": "2021-11-17T17:00:11.368992Z",
     "iopub.status.busy": "2021-11-17T17:00:11.366677Z",
     "iopub.status.idle": "2021-11-17T17:00:11.373997Z",
     "shell.execute_reply": "2021-11-17T17:00:11.372252Z"
    },
    "papermill": {
     "duration": 0.050533,
     "end_time": "2021-11-17T17:00:11.374404",
     "exception": false,
     "start_time": "2021-11-17T17:00:11.323871",
     "status": "completed"
    },
    "tags": []
   },
   "outputs": [],
   "source": [
    "df_pivot.columns = [\"stamp_1\", \"stamp_2\"]\n",
    "df_pivot_diff = df_pivot.diff(axis=1)"
   ]
  },
  {
   "cell_type": "code",
   "execution_count": 7,
   "id": "fifth-motion",
   "metadata": {
    "execution": {
     "iopub.execute_input": "2021-11-17T17:00:11.433410Z",
     "iopub.status.busy": "2021-11-17T17:00:11.430812Z",
     "iopub.status.idle": "2021-11-17T17:00:13.169240Z",
     "shell.execute_reply": "2021-11-17T17:00:13.170659Z"
    },
    "papermill": {
     "duration": 1.775527,
     "end_time": "2021-11-17T17:00:13.171170",
     "exception": false,
     "start_time": "2021-11-17T17:00:11.395643",
     "status": "completed"
    },
    "tags": []
   },
   "outputs": [
    {
     "data": {
      "text/plain": [
       "<AxesSubplot:ylabel='PRODUCT'>"
      ]
     },
     "execution_count": 7,
     "metadata": {},
     "output_type": "execute_result"
    },
    {
     "data": {
      "image/png": "[encoded data removed]",
      "text/plain": [
       "<Figure size 432x288 with 1 Axes>"
      ]
     },
     "metadata": {
      "needs_background": "light"
     },
     "output_type": "display_data"
    }
   ],
   "source": [
    "df_pivot_diff.sort_values(\"stamp_2\", ascending = False)[\"stamp_2\"].head(10).plot.barh()"
   ]
  },
  {
   "cell_type": "code",
   "execution_count": null,
   "id": "extra-executive",
   "metadata": {
    "papermill": {
     "duration": 0.023719,
     "end_time": "2021-11-17T17:00:13.219563",
     "exception": false,
     "start_time": "2021-11-17T17:00:13.195844",
     "status": "completed"
    },
    "tags": []
   },
   "outputs": [],
   "source": []
  }
 ],
 "metadata": {
  "kernelspec": {
   "display_name": "Python 3",
   "language": "python",
   "name": "python3"
  },
  "language_info": {
   "codemirror_mode": {
    "name": "ipython",
    "version": 3
   },
   "file_extension": ".py",
   "mimetype": "text/x-python",
   "name": "python",
   "nbconvert_exporter": "python",
   "pygments_lexer": "ipython3",
   "version": "3.9.5"
  },
  "papermill": {
   "default_parameters": {},
   "duration": 8.884772,
   "end_time": "2021-11-17T17:00:13.972846",
   "environment_variables": {},
   "exception": null,
   "input_path": "eBay_Overview.ipynb",
   "output_path": "eBay_Overview.ipynb",
   "parameters": {},
   "start_time": "2021-11-17T17:00:05.088074",
   "version": "2.3.3"
  }
 },
 "nbformat": 4,
 "nbformat_minor": 5
}