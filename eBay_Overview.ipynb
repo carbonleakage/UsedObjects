{
 "cells": [
  {
   "cell_type": "code",
   "execution_count": 1,
   "id": "reverse-picking",
   "metadata": {
    "execution": {
     "iopub.execute_input": "2021-09-30T22:30:06.661324Z",
     "iopub.status.busy": "2021-09-30T22:30:06.659372Z",
     "iopub.status.idle": "2021-09-30T22:30:07.469521Z",
     "shell.execute_reply": "2021-09-30T22:30:07.470759Z"
    },
    "papermill": {
     "duration": 0.863642,
     "end_time": "2021-09-30T22:30:07.471585",
     "exception": false,
     "start_time": "2021-09-30T22:30:06.607943",
     "status": "completed"
    },
    "tags": []
   },
   "outputs": [],
   "source": [
    "import pandas as pd\n",
    "import sqlite3"
   ]
  },
  {
   "cell_type": "code",
   "execution_count": 2,
   "id": "innovative-syndrome",
   "metadata": {
    "execution": {
     "iopub.execute_input": "2021-09-30T22:30:07.524082Z",
     "iopub.status.busy": "2021-09-30T22:30:07.521700Z",
     "iopub.status.idle": "2021-09-30T22:30:07.937632Z",
     "shell.execute_reply": "2021-09-30T22:30:07.939002Z"
    },
    "papermill": {
     "duration": 0.445757,
     "end_time": "2021-09-30T22:30:07.939446",
     "exception": false,
     "start_time": "2021-09-30T22:30:07.493689",
     "status": "completed"
    },
    "tags": []
   },
   "outputs": [],
   "source": [
    "timestamps = pd.read_sql(\"select distinct record_time from EBAY_TOP_BERLIN order by record_time desc limit 2\", sqlite3.connect(\"UsedObjects.db\"))"
   ]
  },
  {
   "cell_type": "code",
   "execution_count": 3,
   "id": "periodic-identification",
   "metadata": {
    "execution": {
     "iopub.execute_input": "2021-09-30T22:30:08.006619Z",
     "iopub.status.busy": "2021-09-30T22:30:08.004189Z",
     "iopub.status.idle": "2021-09-30T22:30:08.024087Z",
     "shell.execute_reply": "2021-09-30T22:30:08.025470Z"
    },
    "papermill": {
     "duration": 0.065771,
     "end_time": "2021-09-30T22:30:08.025910",
     "exception": false,
     "start_time": "2021-09-30T22:30:07.960139",
     "status": "completed"
    },
    "tags": []
   },
   "outputs": [
    {
     "data": {
      "text/html": [
       "<div>\n",
       "<style scoped>\n",
       "    .dataframe tbody tr th:only-of-type {\n",
       "        vertical-align: middle;\n",
       "    }\n",
       "\n",
       "    .dataframe tbody tr th {\n",
       "        vertical-align: top;\n",
       "    }\n",
       "\n",
       "    .dataframe thead th {\n",
       "        text-align: right;\n",
       "    }\n",
       "</style>\n",
       "<table border=\"1\" class=\"dataframe\">\n",
       "  <thead>\n",
       "    <tr style=\"text-align: right;\">\n",
       "      <th></th>\n",
       "      <th>RECORD_TIME</th>\n",
       "    </tr>\n",
       "  </thead>\n",
       "  <tbody>\n",
       "    <tr>\n",
       "      <th>0</th>\n",
       "      <td>2021-10-01 00:30</td>\n",
       "    </tr>\n",
       "    <tr>\n",
       "      <th>1</th>\n",
       "      <td>2021-10-01 00:00</td>\n",
       "    </tr>\n",
       "  </tbody>\n",
       "</table>\n",
       "</div>"
      ],
      "text/plain": [
       "        RECORD_TIME\n",
       "0  2021-10-01 00:30\n",
       "1  2021-10-01 00:00"
      ]
     },
     "execution_count": 3,
     "metadata": {},
     "output_type": "execute_result"
    }
   ],
   "source": [
    "timestamps"
   ]
  },
  {
   "cell_type": "code",
   "execution_count": 4,
   "id": "alternate-victory",
   "metadata": {
    "execution": {
     "iopub.execute_input": "2021-09-30T22:30:08.098059Z",
     "iopub.status.busy": "2021-09-30T22:30:08.095747Z",
     "iopub.status.idle": "2021-09-30T22:30:08.725653Z",
     "shell.execute_reply": "2021-09-30T22:30:08.726931Z"
    },
    "papermill": {
     "duration": 0.665714,
     "end_time": "2021-09-30T22:30:08.727393",
     "exception": false,
     "start_time": "2021-09-30T22:30:08.061679",
     "status": "completed"
    },
    "tags": []
   },
   "outputs": [],
   "source": [
    "df = pd.read_sql(\"select * from EBAY_TOP_BERLIN where record_time in (select distinct record_time from EBAY_TOP_BERLIN order by record_time desc limit 2)\", sqlite3.connect(\"UsedObjects.db\"))"
   ]
  },
  {
   "cell_type": "code",
   "execution_count": 5,
   "id": "popular-active",
   "metadata": {
    "execution": {
     "iopub.execute_input": "2021-09-30T22:30:08.796571Z",
     "iopub.status.busy": "2021-09-30T22:30:08.784646Z",
     "iopub.status.idle": "2021-09-30T22:30:08.812277Z",
     "shell.execute_reply": "2021-09-30T22:30:08.813573Z"
    },
    "papermill": {
     "duration": 0.066324,
     "end_time": "2021-09-30T22:30:08.813990",
     "exception": false,
     "start_time": "2021-09-30T22:30:08.747666",
     "status": "completed"
    },
    "tags": []
   },
   "outputs": [],
   "source": [
    "df_pivot = df.pivot_table(index=\"PRODUCT\", columns = \"RECORD_TIME\", values = \"LISTING_COUNT\")"
   ]
  },
  {
   "cell_type": "code",
   "execution_count": 6,
   "id": "union-huntington",
   "metadata": {
    "execution": {
     "iopub.execute_input": "2021-09-30T22:30:08.870479Z",
     "iopub.status.busy": "2021-09-30T22:30:08.868018Z",
     "iopub.status.idle": "2021-09-30T22:30:08.873782Z",
     "shell.execute_reply": "2021-09-30T22:30:08.875120Z"
    },
    "papermill": {
     "duration": 0.04214,
     "end_time": "2021-09-30T22:30:08.875552",
     "exception": false,
     "start_time": "2021-09-30T22:30:08.833412",
     "status": "completed"
    },
    "tags": []
   },
   "outputs": [],
   "source": [
    "df_pivot.columns = [\"stamp_1\", \"stamp_2\"]\n",
    "df_pivot_diff = df_pivot.diff(axis=1)"
   ]
  },
  {
   "cell_type": "code",
   "execution_count": 7,
   "id": "fifth-motion",
   "metadata": {
    "execution": {
     "iopub.execute_input": "2021-09-30T22:30:08.929698Z",
     "iopub.status.busy": "2021-09-30T22:30:08.927432Z",
     "iopub.status.idle": "2021-09-30T22:30:10.395026Z",
     "shell.execute_reply": "2021-09-30T22:30:10.396328Z"
    },
    "papermill": {
     "duration": 1.500827,
     "end_time": "2021-09-30T22:30:10.396750",
     "exception": false,
     "start_time": "2021-09-30T22:30:08.895923",
     "status": "completed"
    },
    "tags": []
   },
   "outputs": [
    {
     "data": {
      "text/plain": [
       "<AxesSubplot:ylabel='PRODUCT'>"
      ]
     },
     "execution_count": 7,
     "metadata": {},
     "output_type": "execute_result"
    },
    {
     "data": {
      "image/png": "[encoded data removed]",
      "text/plain": [
       "<Figure size 432x288 with 1 Axes>"
      ]
     },
     "metadata": {
      "needs_background": "light"
     },
     "output_type": "display_data"
    }
   ],
   "source": [
    "df_pivot_diff.sort_values(\"stamp_2\", ascending = False)[\"stamp_2\"].head(10).plot.barh()"
   ]
  },
  {
   "cell_type": "code",
   "execution_count": null,
   "id": "extra-executive",
   "metadata": {
    "papermill": {
     "duration": 0.02164,
     "end_time": "2021-09-30T22:30:10.441237",
     "exception": false,
     "start_time": "2021-09-30T22:30:10.419597",
     "status": "completed"
    },
    "tags": []
   },
   "outputs": [],
   "source": []
  }
 ],
 "metadata": {
  "kernelspec": {
   "display_name": "Python 3",
   "language": "python",
   "name": "python3"
  },
  "language_info": {
   "codemirror_mode": {
    "name": "ipython",
    "version": 3
   },
   "file_extension": ".py",
   "mimetype": "text/x-python",
   "name": "python",
   "nbconvert_exporter": "python",
   "pygments_lexer": "ipython3",
   "version": "3.9.5"
  },
  "papermill": {
   "default_parameters": {},
   "duration": 7.825348,
   "end_time": "2021-09-30T22:30:12.009478",
   "environment_variables": {},
   "exception": null,
   "input_path": "eBay_Overview.ipynb",
   "output_path": "eBay_Overview.ipynb",
   "parameters": {},
   "start_time": "2021-09-30T22:30:04.184130",
   "version": "2.3.3"
  }
 },
 "nbformat": 4,
 "nbformat_minor": 5
}