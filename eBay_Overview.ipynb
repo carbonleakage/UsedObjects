{
 "cells": [
  {
   "cell_type": "code",
   "execution_count": 1,
   "id": "reverse-picking",
   "metadata": {
    "execution": {
     "iopub.execute_input": "2021-09-21T12:00:06.852712Z",
     "iopub.status.busy": "2021-09-21T12:00:06.850737Z",
     "iopub.status.idle": "2021-09-21T12:00:07.656592Z",
     "shell.execute_reply": "2021-09-21T12:00:07.657820Z"
    },
    "papermill": {
     "duration": 0.85739,
     "end_time": "2021-09-21T12:00:07.658440",
     "exception": false,
     "start_time": "2021-09-21T12:00:06.801050",
     "status": "completed"
    },
    "tags": []
   },
   "outputs": [],
   "source": [
    "import pandas as pd\n",
    "import sqlite3"
   ]
  },
  {
   "cell_type": "code",
   "execution_count": 2,
   "id": "innovative-syndrome",
   "metadata": {
    "execution": {
     "iopub.execute_input": "2021-09-21T12:00:07.709576Z",
     "iopub.status.busy": "2021-09-21T12:00:07.707733Z",
     "iopub.status.idle": "2021-09-21T12:00:08.049004Z",
     "shell.execute_reply": "2021-09-21T12:00:08.050243Z"
    },
    "papermill": {
     "duration": 0.370738,
     "end_time": "2021-09-21T12:00:08.050659",
     "exception": false,
     "start_time": "2021-09-21T12:00:07.679921",
     "status": "completed"
    },
    "tags": []
   },
   "outputs": [],
   "source": [
    "timestamps = pd.read_sql(\"select distinct record_time from EBAY_TOP_BERLIN order by record_time desc limit 2\", sqlite3.connect(\"UsedObjects.db\"))"
   ]
  },
  {
   "cell_type": "code",
   "execution_count": 3,
   "id": "periodic-identification",
   "metadata": {
    "execution": {
     "iopub.execute_input": "2021-09-21T12:00:08.116917Z",
     "iopub.status.busy": "2021-09-21T12:00:08.114912Z",
     "iopub.status.idle": "2021-09-21T12:00:08.134592Z",
     "shell.execute_reply": "2021-09-21T12:00:08.135938Z"
    },
    "papermill": {
     "duration": 0.06665,
     "end_time": "2021-09-21T12:00:08.136360",
     "exception": false,
     "start_time": "2021-09-21T12:00:08.069710",
     "status": "completed"
    },
    "tags": []
   },
   "outputs": [
    {
     "data": {
      "text/html": [
       "<div>\n",
       "<style scoped>\n",
       "    .dataframe tbody tr th:only-of-type {\n",
       "        vertical-align: middle;\n",
       "    }\n",
       "\n",
       "    .dataframe tbody tr th {\n",
       "        vertical-align: top;\n",
       "    }\n",
       "\n",
       "    .dataframe thead th {\n",
       "        text-align: right;\n",
       "    }\n",
       "</style>\n",
       "<table border=\"1\" class=\"dataframe\">\n",
       "  <thead>\n",
       "    <tr style=\"text-align: right;\">\n",
       "      <th></th>\n",
       "      <th>RECORD_TIME</th>\n",
       "    </tr>\n",
       "  </thead>\n",
       "  <tbody>\n",
       "    <tr>\n",
       "      <th>0</th>\n",
       "      <td>2021-09-21 14:00</td>\n",
       "    </tr>\n",
       "    <tr>\n",
       "      <th>1</th>\n",
       "      <td>2021-09-21 13:30</td>\n",
       "    </tr>\n",
       "  </tbody>\n",
       "</table>\n",
       "</div>"
      ],
      "text/plain": [
       "        RECORD_TIME\n",
       "0  2021-09-21 14:00\n",
       "1  2021-09-21 13:30"
      ]
     },
     "execution_count": 3,
     "metadata": {},
     "output_type": "execute_result"
    }
   ],
   "source": [
    "timestamps"
   ]
  },
  {
   "cell_type": "code",
   "execution_count": 4,
   "id": "alternate-victory",
   "metadata": {
    "execution": {
     "iopub.execute_input": "2021-09-21T12:00:08.187482Z",
     "iopub.status.busy": "2021-09-21T12:00:08.185558Z",
     "iopub.status.idle": "2021-09-21T12:00:08.700523Z",
     "shell.execute_reply": "2021-09-21T12:00:08.701723Z"
    },
    "papermill": {
     "duration": 0.544624,
     "end_time": "2021-09-21T12:00:08.702120",
     "exception": false,
     "start_time": "2021-09-21T12:00:08.157496",
     "status": "completed"
    },
    "tags": []
   },
   "outputs": [],
   "source": [
    "df = pd.read_sql(\"select * from EBAY_TOP_BERLIN where record_time in (select distinct record_time from EBAY_TOP_BERLIN order by record_time desc limit 2)\", sqlite3.connect(\"UsedObjects.db\"))"
   ]
  },
  {
   "cell_type": "code",
   "execution_count": 5,
   "id": "popular-active",
   "metadata": {
    "execution": {
     "iopub.execute_input": "2021-09-21T12:00:08.783722Z",
     "iopub.status.busy": "2021-09-21T12:00:08.771927Z",
     "iopub.status.idle": "2021-09-21T12:00:08.800201Z",
     "shell.execute_reply": "2021-09-21T12:00:08.801477Z"
    },
    "papermill": {
     "duration": 0.071687,
     "end_time": "2021-09-21T12:00:08.801890",
     "exception": false,
     "start_time": "2021-09-21T12:00:08.730203",
     "status": "completed"
    },
    "tags": []
   },
   "outputs": [],
   "source": [
    "df_pivot = df.pivot_table(index=\"PRODUCT\", columns = \"RECORD_TIME\", values = \"LISTING_COUNT\")"
   ]
  },
  {
   "cell_type": "code",
   "execution_count": 6,
   "id": "union-huntington",
   "metadata": {
    "execution": {
     "iopub.execute_input": "2021-09-21T12:00:08.858006Z",
     "iopub.status.busy": "2021-09-21T12:00:08.855986Z",
     "iopub.status.idle": "2021-09-21T12:00:08.861369Z",
     "shell.execute_reply": "2021-09-21T12:00:08.862533Z"
    },
    "papermill": {
     "duration": 0.039987,
     "end_time": "2021-09-21T12:00:08.863021",
     "exception": false,
     "start_time": "2021-09-21T12:00:08.823034",
     "status": "completed"
    },
    "tags": []
   },
   "outputs": [],
   "source": [
    "df_pivot.columns = [\"stamp_1\", \"stamp_2\"]\n",
    "df_pivot_diff = df_pivot.diff(axis=1)"
   ]
  },
  {
   "cell_type": "code",
   "execution_count": 7,
   "id": "fifth-motion",
   "metadata": {
    "execution": {
     "iopub.execute_input": "2021-09-21T12:00:08.916824Z",
     "iopub.status.busy": "2021-09-21T12:00:08.914343Z",
     "iopub.status.idle": "2021-09-21T12:00:10.405973Z",
     "shell.execute_reply": "2021-09-21T12:00:10.407406Z"
    },
    "papermill": {
     "duration": 1.524475,
     "end_time": "2021-09-21T12:00:10.407855",
     "exception": false,
     "start_time": "2021-09-21T12:00:08.883380",
     "status": "completed"
    },
    "tags": []
   },
   "outputs": [
    {
     "data": {
      "text/plain": [
       "<AxesSubplot:ylabel='PRODUCT'>"
      ]
     },
     "execution_count": 7,
     "metadata": {},
     "output_type": "execute_result"
    },
    {
     "data": {
      "image/png": "[encoded data removed]",
      "text/plain": [
       "<Figure size 432x288 with 1 Axes>"
      ]
     },
     "metadata": {
      "needs_background": "light"
     },
     "output_type": "display_data"
    }
   ],
   "source": [
    "df_pivot_diff.sort_values(\"stamp_2\", ascending = False)[\"stamp_2\"].head(10).plot.barh()"
   ]
  },
  {
   "cell_type": "code",
   "execution_count": null,
   "id": "extra-executive",
   "metadata": {
    "papermill": {
     "duration": 0.022141,
     "end_time": "2021-09-21T12:00:10.453767",
     "exception": false,
     "start_time": "2021-09-21T12:00:10.431626",
     "status": "completed"
    },
    "tags": []
   },
   "outputs": [],
   "source": []
  }
 ],
 "metadata": {
  "kernelspec": {
   "display_name": "Python 3",
   "language": "python",
   "name": "python3"
  },
  "language_info": {
   "codemirror_mode": {
    "name": "ipython",
    "version": 3
   },
   "file_extension": ".py",
   "mimetype": "text/x-python",
   "name": "python",
   "nbconvert_exporter": "python",
   "pygments_lexer": "ipython3",
   "version": "3.9.5"
  },
  "papermill": {
   "default_parameters": {},
   "duration": 6.697439,
   "end_time": "2021-09-21T12:00:11.096594",
   "environment_variables": {},
   "exception": null,
   "input_path": "eBay_Overview.ipynb",
   "output_path": "eBay_Overview.ipynb",
   "parameters": {},
   "start_time": "2021-09-21T12:00:04.399155",
   "version": "2.3.3"
  }
 },
 "nbformat": 4,
 "nbformat_minor": 5
}