{
 "cells": [
  {
   "cell_type": "code",
   "execution_count": 1,
   "id": "reverse-picking",
   "metadata": {
    "execution": {
     "iopub.execute_input": "2021-11-15T08:30:07.875611Z",
     "iopub.status.busy": "2021-11-15T08:30:07.873194Z",
     "iopub.status.idle": "2021-11-15T08:30:08.798827Z",
     "shell.execute_reply": "2021-11-15T08:30:08.800450Z"
    },
    "papermill": {
     "duration": 0.979133,
     "end_time": "2021-11-15T08:30:08.801240",
     "exception": false,
     "start_time": "2021-11-15T08:30:07.822107",
     "status": "completed"
    },
    "tags": []
   },
   "outputs": [],
   "source": [
    "import pandas as pd\n",
    "import sqlite3"
   ]
  },
  {
   "cell_type": "code",
   "execution_count": 2,
   "id": "innovative-syndrome",
   "metadata": {
    "execution": {
     "iopub.execute_input": "2021-11-15T08:30:08.863609Z",
     "iopub.status.busy": "2021-11-15T08:30:08.861217Z",
     "iopub.status.idle": "2021-11-15T08:30:09.692675Z",
     "shell.execute_reply": "2021-11-15T08:30:09.694368Z"
    },
    "papermill": {
     "duration": 0.86594,
     "end_time": "2021-11-15T08:30:09.694867",
     "exception": false,
     "start_time": "2021-11-15T08:30:08.828927",
     "status": "completed"
    },
    "tags": []
   },
   "outputs": [],
   "source": [
    "timestamps = pd.read_sql(\"select distinct record_time from EBAY_TOP_BERLIN order by record_time desc limit 2\", sqlite3.connect(\"UsedObjects.db\"))"
   ]
  },
  {
   "cell_type": "code",
   "execution_count": 3,
   "id": "periodic-identification",
   "metadata": {
    "execution": {
     "iopub.execute_input": "2021-11-15T08:30:09.768168Z",
     "iopub.status.busy": "2021-11-15T08:30:09.765768Z",
     "iopub.status.idle": "2021-11-15T08:30:09.790143Z",
     "shell.execute_reply": "2021-11-15T08:30:09.791544Z"
    },
    "papermill": {
     "duration": 0.076616,
     "end_time": "2021-11-15T08:30:09.792032",
     "exception": false,
     "start_time": "2021-11-15T08:30:09.715416",
     "status": "completed"
    },
    "tags": []
   },
   "outputs": [
    {
     "data": {
      "text/html": [
       "<div>\n",
       "<style scoped>\n",
       "    .dataframe tbody tr th:only-of-type {\n",
       "        vertical-align: middle;\n",
       "    }\n",
       "\n",
       "    .dataframe tbody tr th {\n",
       "        vertical-align: top;\n",
       "    }\n",
       "\n",
       "    .dataframe thead th {\n",
       "        text-align: right;\n",
       "    }\n",
       "</style>\n",
       "<table border=\"1\" class=\"dataframe\">\n",
       "  <thead>\n",
       "    <tr style=\"text-align: right;\">\n",
       "      <th></th>\n",
       "      <th>RECORD_TIME</th>\n",
       "    </tr>\n",
       "  </thead>\n",
       "  <tbody>\n",
       "    <tr>\n",
       "      <th>0</th>\n",
       "      <td>2021-11-15 09:30</td>\n",
       "    </tr>\n",
       "    <tr>\n",
       "      <th>1</th>\n",
       "      <td>2021-11-15 09:00</td>\n",
       "    </tr>\n",
       "  </tbody>\n",
       "</table>\n",
       "</div>"
      ],
      "text/plain": [
       "        RECORD_TIME\n",
       "0  2021-11-15 09:30\n",
       "1  2021-11-15 09:00"
      ]
     },
     "execution_count": 3,
     "metadata": {},
     "output_type": "execute_result"
    }
   ],
   "source": [
    "timestamps"
   ]
  },
  {
   "cell_type": "code",
   "execution_count": 4,
   "id": "alternate-victory",
   "metadata": {
    "execution": {
     "iopub.execute_input": "2021-11-15T08:30:09.846654Z",
     "iopub.status.busy": "2021-11-15T08:30:09.844459Z",
     "iopub.status.idle": "2021-11-15T08:30:11.036290Z",
     "shell.execute_reply": "2021-11-15T08:30:11.037926Z"
    },
    "papermill": {
     "duration": 1.225199,
     "end_time": "2021-11-15T08:30:11.038433",
     "exception": false,
     "start_time": "2021-11-15T08:30:09.813234",
     "status": "completed"
    },
    "tags": []
   },
   "outputs": [],
   "source": [
    "df = pd.read_sql(\"select * from EBAY_TOP_BERLIN where record_time in (select distinct record_time from EBAY_TOP_BERLIN order by record_time desc limit 2)\", sqlite3.connect(\"UsedObjects.db\"))"
   ]
  },
  {
   "cell_type": "code",
   "execution_count": 5,
   "id": "popular-active",
   "metadata": {
    "execution": {
     "iopub.execute_input": "2021-11-15T08:30:11.119303Z",
     "iopub.status.busy": "2021-11-15T08:30:11.104631Z",
     "iopub.status.idle": "2021-11-15T08:30:11.136902Z",
     "shell.execute_reply": "2021-11-15T08:30:11.138414Z"
    },
    "papermill": {
     "duration": 0.078019,
     "end_time": "2021-11-15T08:30:11.138902",
     "exception": false,
     "start_time": "2021-11-15T08:30:11.060883",
     "status": "completed"
    },
    "tags": []
   },
   "outputs": [],
   "source": [
    "df_pivot = df.pivot_table(index=\"PRODUCT\", columns = \"RECORD_TIME\", values = \"LISTING_COUNT\")"
   ]
  },
  {
   "cell_type": "code",
   "execution_count": 6,
   "id": "union-huntington",
   "metadata": {
    "execution": {
     "iopub.execute_input": "2021-11-15T08:30:11.199399Z",
     "iopub.status.busy": "2021-11-15T08:30:11.196899Z",
     "iopub.status.idle": "2021-11-15T08:30:11.203165Z",
     "shell.execute_reply": "2021-11-15T08:30:11.204817Z"
    },
    "papermill": {
     "duration": 0.044252,
     "end_time": "2021-11-15T08:30:11.205314",
     "exception": false,
     "start_time": "2021-11-15T08:30:11.161062",
     "status": "completed"
    },
    "tags": []
   },
   "outputs": [],
   "source": [
    "df_pivot.columns = [\"stamp_1\", \"stamp_2\"]\n",
    "df_pivot_diff = df_pivot.diff(axis=1)"
   ]
  },
  {
   "cell_type": "code",
   "execution_count": 7,
   "id": "fifth-motion",
   "metadata": {
    "execution": {
     "iopub.execute_input": "2021-11-15T08:30:11.264471Z",
     "iopub.status.busy": "2021-11-15T08:30:11.261829Z",
     "iopub.status.idle": "2021-11-15T08:30:13.182797Z",
     "shell.execute_reply": "2021-11-15T08:30:13.184183Z"
    },
    "papermill": {
     "duration": 1.958887,
     "end_time": "2021-11-15T08:30:13.184673",
     "exception": false,
     "start_time": "2021-11-15T08:30:11.225786",
     "status": "completed"
    },
    "tags": []
   },
   "outputs": [
    {
     "data": {
      "text/plain": [
       "<AxesSubplot:ylabel='PRODUCT'>"
      ]
     },
     "execution_count": 7,
     "metadata": {},
     "output_type": "execute_result"
    },
    {
     "data": {
      "image/png": "[encoded data removed]",
      "text/plain": [
       "<Figure size 432x288 with 1 Axes>"
      ]
     },
     "metadata": {
      "needs_background": "light"
     },
     "output_type": "display_data"
    }
   ],
   "source": [
    "df_pivot_diff.sort_values(\"stamp_2\", ascending = False)[\"stamp_2\"].head(10).plot.barh()"
   ]
  },
  {
   "cell_type": "code",
   "execution_count": null,
   "id": "extra-executive",
   "metadata": {
    "papermill": {
     "duration": 0.023471,
     "end_time": "2021-11-15T08:30:13.232486",
     "exception": false,
     "start_time": "2021-11-15T08:30:13.209015",
     "status": "completed"
    },
    "tags": []
   },
   "outputs": [],
   "source": []
  }
 ],
 "metadata": {
  "kernelspec": {
   "display_name": "Python 3",
   "language": "python",
   "name": "python3"
  },
  "language_info": {
   "codemirror_mode": {
    "name": "ipython",
    "version": 3
   },
   "file_extension": ".py",
   "mimetype": "text/x-python",
   "name": "python",
   "nbconvert_exporter": "python",
   "pygments_lexer": "ipython3",
   "version": "3.9.5"
  },
  "papermill": {
   "default_parameters": {},
   "duration": 9.938356,
   "end_time": "2021-11-15T08:30:15.021657",
   "environment_variables": {},
   "exception": null,
   "input_path": "eBay_Overview.ipynb",
   "output_path": "eBay_Overview.ipynb",
   "parameters": {},
   "start_time": "2021-11-15T08:30:05.083301",
   "version": "2.3.3"
  }
 },
 "nbformat": 4,
 "nbformat_minor": 5
}