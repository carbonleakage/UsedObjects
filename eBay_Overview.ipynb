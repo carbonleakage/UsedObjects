{
 "cells": [
  {
   "cell_type": "code",
   "execution_count": 1,
   "id": "reverse-picking",
   "metadata": {
    "execution": {
     "iopub.execute_input": "2021-11-25T23:00:07.867504Z",
     "iopub.status.busy": "2021-11-25T23:00:07.861864Z",
     "iopub.status.idle": "2021-11-25T23:00:08.823630Z",
     "shell.execute_reply": "2021-11-25T23:00:08.825402Z"
    },
    "papermill": {
     "duration": 1.006977,
     "end_time": "2021-11-25T23:00:08.826178",
     "exception": false,
     "start_time": "2021-11-25T23:00:07.819201",
     "status": "completed"
    },
    "tags": []
   },
   "outputs": [],
   "source": [
    "import pandas as pd\n",
    "import sqlite3"
   ]
  },
  {
   "cell_type": "code",
   "execution_count": 2,
   "id": "innovative-syndrome",
   "metadata": {
    "execution": {
     "iopub.execute_input": "2021-11-25T23:00:08.961716Z",
     "iopub.status.busy": "2021-11-25T23:00:08.957979Z",
     "iopub.status.idle": "2021-11-25T23:00:09.875202Z",
     "shell.execute_reply": "2021-11-25T23:00:09.876433Z"
    },
    "papermill": {
     "duration": 0.964062,
     "end_time": "2021-11-25T23:00:09.876889",
     "exception": false,
     "start_time": "2021-11-25T23:00:08.912827",
     "status": "completed"
    },
    "tags": []
   },
   "outputs": [],
   "source": [
    "timestamps = pd.read_sql(\"select distinct record_time from EBAY_TOP_BERLIN order by record_time desc limit 2\", sqlite3.connect(\"UsedObjects.db\"))"
   ]
  },
  {
   "cell_type": "code",
   "execution_count": 3,
   "id": "periodic-identification",
   "metadata": {
    "execution": {
     "iopub.execute_input": "2021-11-25T23:00:09.942045Z",
     "iopub.status.busy": "2021-11-25T23:00:09.939793Z",
     "iopub.status.idle": "2021-11-25T23:00:09.961278Z",
     "shell.execute_reply": "2021-11-25T23:00:09.962606Z"
    },
    "papermill": {
     "duration": 0.065642,
     "end_time": "2021-11-25T23:00:09.963007",
     "exception": false,
     "start_time": "2021-11-25T23:00:09.897365",
     "status": "completed"
    },
    "tags": []
   },
   "outputs": [
    {
     "data": {
      "text/html": [
       "<div>\n",
       "<style scoped>\n",
       "    .dataframe tbody tr th:only-of-type {\n",
       "        vertical-align: middle;\n",
       "    }\n",
       "\n",
       "    .dataframe tbody tr th {\n",
       "        vertical-align: top;\n",
       "    }\n",
       "\n",
       "    .dataframe thead th {\n",
       "        text-align: right;\n",
       "    }\n",
       "</style>\n",
       "<table border=\"1\" class=\"dataframe\">\n",
       "  <thead>\n",
       "    <tr style=\"text-align: right;\">\n",
       "      <th></th>\n",
       "      <th>RECORD_TIME</th>\n",
       "    </tr>\n",
       "  </thead>\n",
       "  <tbody>\n",
       "    <tr>\n",
       "      <th>0</th>\n",
       "      <td>2021-11-26 00:00</td>\n",
       "    </tr>\n",
       "    <tr>\n",
       "      <th>1</th>\n",
       "      <td>2021-11-25 23:30</td>\n",
       "    </tr>\n",
       "  </tbody>\n",
       "</table>\n",
       "</div>"
      ],
      "text/plain": [
       "        RECORD_TIME\n",
       "0  2021-11-26 00:00\n",
       "1  2021-11-25 23:30"
      ]
     },
     "execution_count": 3,
     "metadata": {},
     "output_type": "execute_result"
    }
   ],
   "source": [
    "timestamps"
   ]
  },
  {
   "cell_type": "code",
   "execution_count": 4,
   "id": "alternate-victory",
   "metadata": {
    "execution": {
     "iopub.execute_input": "2021-11-25T23:00:10.016336Z",
     "iopub.status.busy": "2021-11-25T23:00:10.014024Z",
     "iopub.status.idle": "2021-11-25T23:00:11.355851Z",
     "shell.execute_reply": "2021-11-25T23:00:11.358088Z"
    },
    "papermill": {
     "duration": 1.373418,
     "end_time": "2021-11-25T23:00:11.358562",
     "exception": false,
     "start_time": "2021-11-25T23:00:09.985144",
     "status": "completed"
    },
    "tags": []
   },
   "outputs": [],
   "source": [
    "df = pd.read_sql(\"select * from EBAY_TOP_BERLIN where record_time in (select distinct record_time from EBAY_TOP_BERLIN order by record_time desc limit 2)\", sqlite3.connect(\"UsedObjects.db\"))"
   ]
  },
  {
   "cell_type": "code",
   "execution_count": 5,
   "id": "popular-active",
   "metadata": {
    "execution": {
     "iopub.execute_input": "2021-11-25T23:00:11.439832Z",
     "iopub.status.busy": "2021-11-25T23:00:11.425730Z",
     "iopub.status.idle": "2021-11-25T23:00:11.465120Z",
     "shell.execute_reply": "2021-11-25T23:00:11.468773Z"
    },
    "papermill": {
     "duration": 0.08827,
     "end_time": "2021-11-25T23:00:11.469449",
     "exception": false,
     "start_time": "2021-11-25T23:00:11.381179",
     "status": "completed"
    },
    "tags": []
   },
   "outputs": [],
   "source": [
    "df_pivot = df.pivot_table(index=\"PRODUCT\", columns = \"RECORD_TIME\", values = \"LISTING_COUNT\")"
   ]
  },
  {
   "cell_type": "code",
   "execution_count": 6,
   "id": "union-huntington",
   "metadata": {
    "execution": {
     "iopub.execute_input": "2021-11-25T23:00:11.533613Z",
     "iopub.status.busy": "2021-11-25T23:00:11.531080Z",
     "iopub.status.idle": "2021-11-25T23:00:11.537325Z",
     "shell.execute_reply": "2021-11-25T23:00:11.538713Z"
    },
    "papermill": {
     "duration": 0.047048,
     "end_time": "2021-11-25T23:00:11.539185",
     "exception": false,
     "start_time": "2021-11-25T23:00:11.492137",
     "status": "completed"
    },
    "tags": []
   },
   "outputs": [],
   "source": [
    "df_pivot.columns = [\"stamp_1\", \"stamp_2\"]\n",
    "df_pivot_diff = df_pivot.diff(axis=1)"
   ]
  },
  {
   "cell_type": "code",
   "execution_count": 7,
   "id": "fifth-motion",
   "metadata": {
    "execution": {
     "iopub.execute_input": "2021-11-25T23:00:11.595213Z",
     "iopub.status.busy": "2021-11-25T23:00:11.592750Z",
     "iopub.status.idle": "2021-11-25T23:00:13.659221Z",
     "shell.execute_reply": "2021-11-25T23:00:13.661492Z"
    },
    "papermill": {
     "duration": 2.10279,
     "end_time": "2021-11-25T23:00:13.662123",
     "exception": false,
     "start_time": "2021-11-25T23:00:11.559333",
     "status": "completed"
    },
    "tags": []
   },
   "outputs": [
    {
     "data": {
      "text/plain": [
       "<AxesSubplot:ylabel='PRODUCT'>"
      ]
     },
     "execution_count": 7,
     "metadata": {},
     "output_type": "execute_result"
    },
    {
     "data": {
      "image/png": "[encoded data removed]",
      "text/plain": [
       "<Figure size 432x288 with 1 Axes>"
      ]
     },
     "metadata": {
      "needs_background": "light"
     },
     "output_type": "display_data"
    }
   ],
   "source": [
    "df_pivot_diff.sort_values(\"stamp_2\", ascending = False)[\"stamp_2\"].head(10).plot.barh()"
   ]
  },
  {
   "cell_type": "code",
   "execution_count": null,
   "id": "extra-executive",
   "metadata": {
    "papermill": {
     "duration": 0.024448,
     "end_time": "2021-11-25T23:00:13.714851",
     "exception": false,
     "start_time": "2021-11-25T23:00:13.690403",
     "status": "completed"
    },
    "tags": []
   },
   "outputs": [],
   "source": []
  }
 ],
 "metadata": {
  "kernelspec": {
   "display_name": "Python 3",
   "language": "python",
   "name": "python3"
  },
  "language_info": {
   "codemirror_mode": {
    "name": "ipython",
    "version": 3
   },
   "file_extension": ".py",
   "mimetype": "text/x-python",
   "name": "python",
   "nbconvert_exporter": "python",
   "pygments_lexer": "ipython3",
   "version": "3.9.5"
  },
  "papermill": {
   "default_parameters": {},
   "duration": 9.935497,
   "end_time": "2021-11-25T23:00:15.033566",
   "environment_variables": {},
   "exception": null,
   "input_path": "eBay_Overview.ipynb",
   "output_path": "eBay_Overview.ipynb",
   "parameters": {},
   "start_time": "2021-11-25T23:00:05.098069",
   "version": "2.3.3"
  }
 },
 "nbformat": 4,
 "nbformat_minor": 5
}