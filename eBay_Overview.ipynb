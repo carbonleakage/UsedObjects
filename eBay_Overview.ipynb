{
 "cells": [
  {
   "cell_type": "code",
   "execution_count": 1,
   "id": "reverse-picking",
   "metadata": {
    "execution": {
     "iopub.execute_input": "2021-08-25T20:30:06.911285Z",
     "iopub.status.busy": "2021-08-25T20:30:06.909361Z",
     "iopub.status.idle": "2021-08-25T20:30:07.712610Z",
     "shell.execute_reply": "2021-08-25T20:30:07.713956Z"
    },
    "papermill": {
     "duration": 0.853811,
     "end_time": "2021-08-25T20:30:07.714595",
     "exception": false,
     "start_time": "2021-08-25T20:30:06.860784",
     "status": "completed"
    },
    "tags": []
   },
   "outputs": [],
   "source": [
    "import pandas as pd\n",
    "import sqlite3"
   ]
  },
  {
   "cell_type": "code",
   "execution_count": 2,
   "id": "innovative-syndrome",
   "metadata": {
    "execution": {
     "iopub.execute_input": "2021-08-25T20:30:07.766120Z",
     "iopub.status.busy": "2021-08-25T20:30:07.764159Z",
     "iopub.status.idle": "2021-08-25T20:30:07.892544Z",
     "shell.execute_reply": "2021-08-25T20:30:07.893769Z"
    },
    "papermill": {
     "duration": 0.157598,
     "end_time": "2021-08-25T20:30:07.894160",
     "exception": false,
     "start_time": "2021-08-25T20:30:07.736562",
     "status": "completed"
    },
    "tags": []
   },
   "outputs": [],
   "source": [
    "timestamps = pd.read_sql(\"select distinct record_time from EBAY_TOP_BERLIN order by record_time desc limit 2\", sqlite3.connect(\"UsedObjects.db\"))"
   ]
  },
  {
   "cell_type": "code",
   "execution_count": 3,
   "id": "periodic-identification",
   "metadata": {
    "execution": {
     "iopub.execute_input": "2021-08-25T20:30:07.958246Z",
     "iopub.status.busy": "2021-08-25T20:30:07.956079Z",
     "iopub.status.idle": "2021-08-25T20:30:07.977407Z",
     "shell.execute_reply": "2021-08-25T20:30:07.978635Z"
    },
    "papermill": {
     "duration": 0.065701,
     "end_time": "2021-08-25T20:30:07.979028",
     "exception": false,
     "start_time": "2021-08-25T20:30:07.913327",
     "status": "completed"
    },
    "tags": []
   },
   "outputs": [
    {
     "data": {
      "text/html": [
       "<div>\n",
       "<style scoped>\n",
       "    .dataframe tbody tr th:only-of-type {\n",
       "        vertical-align: middle;\n",
       "    }\n",
       "\n",
       "    .dataframe tbody tr th {\n",
       "        vertical-align: top;\n",
       "    }\n",
       "\n",
       "    .dataframe thead th {\n",
       "        text-align: right;\n",
       "    }\n",
       "</style>\n",
       "<table border=\"1\" class=\"dataframe\">\n",
       "  <thead>\n",
       "    <tr style=\"text-align: right;\">\n",
       "      <th></th>\n",
       "      <th>RECORD_TIME</th>\n",
       "    </tr>\n",
       "  </thead>\n",
       "  <tbody>\n",
       "    <tr>\n",
       "      <th>0</th>\n",
       "      <td>2021-08-25 22:30</td>\n",
       "    </tr>\n",
       "    <tr>\n",
       "      <th>1</th>\n",
       "      <td>2021-08-25 22:00</td>\n",
       "    </tr>\n",
       "  </tbody>\n",
       "</table>\n",
       "</div>"
      ],
      "text/plain": [
       "        RECORD_TIME\n",
       "0  2021-08-25 22:30\n",
       "1  2021-08-25 22:00"
      ]
     },
     "execution_count": 3,
     "metadata": {},
     "output_type": "execute_result"
    }
   ],
   "source": [
    "timestamps"
   ]
  },
  {
   "cell_type": "code",
   "execution_count": 4,
   "id": "alternate-victory",
   "metadata": {
    "execution": {
     "iopub.execute_input": "2021-08-25T20:30:08.031174Z",
     "iopub.status.busy": "2021-08-25T20:30:08.028905Z",
     "iopub.status.idle": "2021-08-25T20:30:08.231128Z",
     "shell.execute_reply": "2021-08-25T20:30:08.232533Z"
    },
    "papermill": {
     "duration": 0.232406,
     "end_time": "2021-08-25T20:30:08.232958",
     "exception": false,
     "start_time": "2021-08-25T20:30:08.000552",
     "status": "completed"
    },
    "tags": []
   },
   "outputs": [],
   "source": [
    "df = pd.read_sql(\"select * from EBAY_TOP_BERLIN where record_time in (select distinct record_time from EBAY_TOP_BERLIN order by record_time desc limit 2)\", sqlite3.connect(\"UsedObjects.db\"))"
   ]
  },
  {
   "cell_type": "code",
   "execution_count": 5,
   "id": "popular-active",
   "metadata": {
    "execution": {
     "iopub.execute_input": "2021-08-25T20:30:08.305122Z",
     "iopub.status.busy": "2021-08-25T20:30:08.293516Z",
     "iopub.status.idle": "2021-08-25T20:30:08.321635Z",
     "shell.execute_reply": "2021-08-25T20:30:08.322860Z"
    },
    "papermill": {
     "duration": 0.068744,
     "end_time": "2021-08-25T20:30:08.323256",
     "exception": false,
     "start_time": "2021-08-25T20:30:08.254512",
     "status": "completed"
    },
    "tags": []
   },
   "outputs": [],
   "source": [
    "df_pivot = df.pivot_table(index=\"PRODUCT\", columns = \"RECORD_TIME\", values = \"LISTING_COUNT\")"
   ]
  },
  {
   "cell_type": "code",
   "execution_count": 6,
   "id": "union-huntington",
   "metadata": {
    "execution": {
     "iopub.execute_input": "2021-08-25T20:30:08.405310Z",
     "iopub.status.busy": "2021-08-25T20:30:08.402667Z",
     "iopub.status.idle": "2021-08-25T20:30:08.408616Z",
     "shell.execute_reply": "2021-08-25T20:30:08.409917Z"
    },
    "papermill": {
     "duration": 0.04969,
     "end_time": "2021-08-25T20:30:08.410331",
     "exception": false,
     "start_time": "2021-08-25T20:30:08.360641",
     "status": "completed"
    },
    "tags": []
   },
   "outputs": [],
   "source": [
    "df_pivot.columns = [\"stamp_1\", \"stamp_2\"]\n",
    "df_pivot_diff = df_pivot.diff(axis=1)"
   ]
  },
  {
   "cell_type": "code",
   "execution_count": 7,
   "id": "fifth-motion",
   "metadata": {
    "execution": {
     "iopub.execute_input": "2021-08-25T20:30:08.464347Z",
     "iopub.status.busy": "2021-08-25T20:30:08.461776Z",
     "iopub.status.idle": "2021-08-25T20:30:09.932295Z",
     "shell.execute_reply": "2021-08-25T20:30:09.933960Z"
    },
    "papermill": {
     "duration": 1.50328,
     "end_time": "2021-08-25T20:30:09.934459",
     "exception": false,
     "start_time": "2021-08-25T20:30:08.431179",
     "status": "completed"
    },
    "tags": []
   },
   "outputs": [
    {
     "data": {
      "text/plain": [
       "<AxesSubplot:ylabel='PRODUCT'>"
      ]
     },
     "execution_count": 7,
     "metadata": {},
     "output_type": "execute_result"
    },
    {
     "data": {
      "image/png": "[encoded data removed]",
      "text/plain": [
       "<Figure size 432x288 with 1 Axes>"
      ]
     },
     "metadata": {
      "needs_background": "light"
     },
     "output_type": "display_data"
    }
   ],
   "source": [
    "df_pivot_diff.sort_values(\"stamp_2\", ascending = False)[\"stamp_2\"].head(10).plot.barh()"
   ]
  },
  {
   "cell_type": "code",
   "execution_count": null,
   "id": "extra-executive",
   "metadata": {
    "papermill": {
     "duration": 0.021869,
     "end_time": "2021-08-25T20:30:09.980474",
     "exception": false,
     "start_time": "2021-08-25T20:30:09.958605",
     "status": "completed"
    },
    "tags": []
   },
   "outputs": [],
   "source": []
  }
 ],
 "metadata": {
  "kernelspec": {
   "display_name": "Python 3",
   "language": "python",
   "name": "python3"
  },
  "language_info": {
   "codemirror_mode": {
    "name": "ipython",
    "version": 3
   },
   "file_extension": ".py",
   "mimetype": "text/x-python",
   "name": "python",
   "nbconvert_exporter": "python",
   "pygments_lexer": "ipython3",
   "version": "3.9.5"
  },
  "papermill": {
   "default_parameters": {},
   "duration": 6.824258,
   "end_time": "2021-08-25T20:30:11.278448",
   "environment_variables": {},
   "exception": null,
   "input_path": "eBay_Overview.ipynb",
   "output_path": "eBay_Overview.ipynb",
   "parameters": {},
   "start_time": "2021-08-25T20:30:04.454190",
   "version": "2.3.3"
  }
 },
 "nbformat": 4,
 "nbformat_minor": 5
}