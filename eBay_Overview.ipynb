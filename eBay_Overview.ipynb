{
 "cells": [
  {
   "cell_type": "code",
   "execution_count": 1,
   "id": "reverse-picking",
   "metadata": {
    "execution": {
     "iopub.execute_input": "2021-10-13T12:00:06.742876Z",
     "iopub.status.busy": "2021-10-13T12:00:06.740909Z",
     "iopub.status.idle": "2021-10-13T12:00:07.539469Z",
     "shell.execute_reply": "2021-10-13T12:00:07.540907Z"
    },
    "papermill": {
     "duration": 0.851038,
     "end_time": "2021-10-13T12:00:07.541560",
     "exception": false,
     "start_time": "2021-10-13T12:00:06.690522",
     "status": "completed"
    },
    "tags": []
   },
   "outputs": [],
   "source": [
    "import pandas as pd\n",
    "import sqlite3"
   ]
  },
  {
   "cell_type": "code",
   "execution_count": 2,
   "id": "innovative-syndrome",
   "metadata": {
    "execution": {
     "iopub.execute_input": "2021-10-13T12:00:07.594569Z",
     "iopub.status.busy": "2021-10-13T12:00:07.592146Z",
     "iopub.status.idle": "2021-10-13T12:00:08.121522Z",
     "shell.execute_reply": "2021-10-13T12:00:08.122765Z"
    },
    "papermill": {
     "duration": 0.55921,
     "end_time": "2021-10-13T12:00:08.123159",
     "exception": false,
     "start_time": "2021-10-13T12:00:07.563949",
     "status": "completed"
    },
    "tags": []
   },
   "outputs": [],
   "source": [
    "timestamps = pd.read_sql(\"select distinct record_time from EBAY_TOP_BERLIN order by record_time desc limit 2\", sqlite3.connect(\"UsedObjects.db\"))"
   ]
  },
  {
   "cell_type": "code",
   "execution_count": 3,
   "id": "periodic-identification",
   "metadata": {
    "execution": {
     "iopub.execute_input": "2021-10-13T12:00:08.187503Z",
     "iopub.status.busy": "2021-10-13T12:00:08.185439Z",
     "iopub.status.idle": "2021-10-13T12:00:08.206152Z",
     "shell.execute_reply": "2021-10-13T12:00:08.207351Z"
    },
    "papermill": {
     "duration": 0.063657,
     "end_time": "2021-10-13T12:00:08.207771",
     "exception": false,
     "start_time": "2021-10-13T12:00:08.144114",
     "status": "completed"
    },
    "tags": []
   },
   "outputs": [
    {
     "data": {
      "text/html": [
       "<div>\n",
       "<style scoped>\n",
       "    .dataframe tbody tr th:only-of-type {\n",
       "        vertical-align: middle;\n",
       "    }\n",
       "\n",
       "    .dataframe tbody tr th {\n",
       "        vertical-align: top;\n",
       "    }\n",
       "\n",
       "    .dataframe thead th {\n",
       "        text-align: right;\n",
       "    }\n",
       "</style>\n",
       "<table border=\"1\" class=\"dataframe\">\n",
       "  <thead>\n",
       "    <tr style=\"text-align: right;\">\n",
       "      <th></th>\n",
       "      <th>RECORD_TIME</th>\n",
       "    </tr>\n",
       "  </thead>\n",
       "  <tbody>\n",
       "    <tr>\n",
       "      <th>0</th>\n",
       "      <td>2021-10-13 14:00</td>\n",
       "    </tr>\n",
       "    <tr>\n",
       "      <th>1</th>\n",
       "      <td>2021-10-13 13:30</td>\n",
       "    </tr>\n",
       "  </tbody>\n",
       "</table>\n",
       "</div>"
      ],
      "text/plain": [
       "        RECORD_TIME\n",
       "0  2021-10-13 14:00\n",
       "1  2021-10-13 13:30"
      ]
     },
     "execution_count": 3,
     "metadata": {},
     "output_type": "execute_result"
    }
   ],
   "source": [
    "timestamps"
   ]
  },
  {
   "cell_type": "code",
   "execution_count": 4,
   "id": "alternate-victory",
   "metadata": {
    "execution": {
     "iopub.execute_input": "2021-10-13T12:00:08.270965Z",
     "iopub.status.busy": "2021-10-13T12:00:08.268544Z",
     "iopub.status.idle": "2021-10-13T12:00:09.051222Z",
     "shell.execute_reply": "2021-10-13T12:00:09.052350Z"
    },
    "papermill": {
     "duration": 0.816029,
     "end_time": "2021-10-13T12:00:09.052825",
     "exception": false,
     "start_time": "2021-10-13T12:00:08.236796",
     "status": "completed"
    },
    "tags": []
   },
   "outputs": [],
   "source": [
    "df = pd.read_sql(\"select * from EBAY_TOP_BERLIN where record_time in (select distinct record_time from EBAY_TOP_BERLIN order by record_time desc limit 2)\", sqlite3.connect(\"UsedObjects.db\"))"
   ]
  },
  {
   "cell_type": "code",
   "execution_count": 5,
   "id": "popular-active",
   "metadata": {
    "execution": {
     "iopub.execute_input": "2021-10-13T12:00:09.124454Z",
     "iopub.status.busy": "2021-10-13T12:00:09.112538Z",
     "iopub.status.idle": "2021-10-13T12:00:09.140602Z",
     "shell.execute_reply": "2021-10-13T12:00:09.141978Z"
    },
    "papermill": {
     "duration": 0.067601,
     "end_time": "2021-10-13T12:00:09.142392",
     "exception": false,
     "start_time": "2021-10-13T12:00:09.074791",
     "status": "completed"
    },
    "tags": []
   },
   "outputs": [],
   "source": [
    "df_pivot = df.pivot_table(index=\"PRODUCT\", columns = \"RECORD_TIME\", values = \"LISTING_COUNT\")"
   ]
  },
  {
   "cell_type": "code",
   "execution_count": 6,
   "id": "union-huntington",
   "metadata": {
    "execution": {
     "iopub.execute_input": "2021-10-13T12:00:09.198065Z",
     "iopub.status.busy": "2021-10-13T12:00:09.195944Z",
     "iopub.status.idle": "2021-10-13T12:00:09.201186Z",
     "shell.execute_reply": "2021-10-13T12:00:09.202380Z"
    },
    "papermill": {
     "duration": 0.040111,
     "end_time": "2021-10-13T12:00:09.202803",
     "exception": false,
     "start_time": "2021-10-13T12:00:09.162692",
     "status": "completed"
    },
    "tags": []
   },
   "outputs": [],
   "source": [
    "df_pivot.columns = [\"stamp_1\", \"stamp_2\"]\n",
    "df_pivot_diff = df_pivot.diff(axis=1)"
   ]
  },
  {
   "cell_type": "code",
   "execution_count": 7,
   "id": "fifth-motion",
   "metadata": {
    "execution": {
     "iopub.execute_input": "2021-10-13T12:00:09.256615Z",
     "iopub.status.busy": "2021-10-13T12:00:09.254223Z",
     "iopub.status.idle": "2021-10-13T12:00:10.753137Z",
     "shell.execute_reply": "2021-10-13T12:00:10.754562Z"
    },
    "papermill": {
     "duration": 1.531791,
     "end_time": "2021-10-13T12:00:10.755003",
     "exception": false,
     "start_time": "2021-10-13T12:00:09.223212",
     "status": "completed"
    },
    "tags": []
   },
   "outputs": [
    {
     "data": {
      "text/plain": [
       "<AxesSubplot:ylabel='PRODUCT'>"
      ]
     },
     "execution_count": 7,
     "metadata": {},
     "output_type": "execute_result"
    },
    {
     "data": {
      "image/png": "[encoded data removed]",
      "text/plain": [
       "<Figure size 432x288 with 1 Axes>"
      ]
     },
     "metadata": {
      "needs_background": "light"
     },
     "output_type": "display_data"
    }
   ],
   "source": [
    "df_pivot_diff.sort_values(\"stamp_2\", ascending = False)[\"stamp_2\"].head(10).plot.barh()"
   ]
  },
  {
   "cell_type": "code",
   "execution_count": null,
   "id": "extra-executive",
   "metadata": {
    "papermill": {
     "duration": 0.022387,
     "end_time": "2021-10-13T12:00:10.801937",
     "exception": false,
     "start_time": "2021-10-13T12:00:10.779550",
     "status": "completed"
    },
    "tags": []
   },
   "outputs": [],
   "source": []
  }
 ],
 "metadata": {
  "kernelspec": {
   "display_name": "Python 3",
   "language": "python",
   "name": "python3"
  },
  "language_info": {
   "codemirror_mode": {
    "name": "ipython",
    "version": 3
   },
   "file_extension": ".py",
   "mimetype": "text/x-python",
   "name": "python",
   "nbconvert_exporter": "python",
   "pygments_lexer": "ipython3",
   "version": "3.9.5"
  },
  "papermill": {
   "default_parameters": {},
   "duration": 7.820702,
   "end_time": "2021-10-13T12:00:12.117802",
   "environment_variables": {},
   "exception": null,
   "input_path": "eBay_Overview.ipynb",
   "output_path": "eBay_Overview.ipynb",
   "parameters": {},
   "start_time": "2021-10-13T12:00:04.297100",
   "version": "2.3.3"
  }
 },
 "nbformat": 4,
 "nbformat_minor": 5
}