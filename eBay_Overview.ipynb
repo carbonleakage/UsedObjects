{
 "cells": [
  {
   "cell_type": "code",
   "execution_count": 1,
   "id": "reverse-picking",
   "metadata": {
    "execution": {
     "iopub.execute_input": "2021-09-19T18:00:07.172827Z",
     "iopub.status.busy": "2021-09-19T18:00:07.170863Z",
     "iopub.status.idle": "2021-09-19T18:00:07.973509Z",
     "shell.execute_reply": "2021-09-19T18:00:07.974732Z"
    },
    "papermill": {
     "duration": 0.852834,
     "end_time": "2021-09-19T18:00:07.975402",
     "exception": false,
     "start_time": "2021-09-19T18:00:07.122568",
     "status": "completed"
    },
    "tags": []
   },
   "outputs": [],
   "source": [
    "import pandas as pd\n",
    "import sqlite3"
   ]
  },
  {
   "cell_type": "code",
   "execution_count": 2,
   "id": "innovative-syndrome",
   "metadata": {
    "execution": {
     "iopub.execute_input": "2021-09-19T18:00:08.025531Z",
     "iopub.status.busy": "2021-09-19T18:00:08.023665Z",
     "iopub.status.idle": "2021-09-19T18:00:08.351686Z",
     "shell.execute_reply": "2021-09-19T18:00:08.353056Z"
    },
    "papermill": {
     "duration": 0.357383,
     "end_time": "2021-09-19T18:00:08.353490",
     "exception": false,
     "start_time": "2021-09-19T18:00:07.996107",
     "status": "completed"
    },
    "tags": []
   },
   "outputs": [],
   "source": [
    "timestamps = pd.read_sql(\"select distinct record_time from EBAY_TOP_BERLIN order by record_time desc limit 2\", sqlite3.connect(\"UsedObjects.db\"))"
   ]
  },
  {
   "cell_type": "code",
   "execution_count": 3,
   "id": "periodic-identification",
   "metadata": {
    "execution": {
     "iopub.execute_input": "2021-09-19T18:00:08.419916Z",
     "iopub.status.busy": "2021-09-19T18:00:08.417840Z",
     "iopub.status.idle": "2021-09-19T18:00:08.441347Z",
     "shell.execute_reply": "2021-09-19T18:00:08.442537Z"
    },
    "papermill": {
     "duration": 0.069806,
     "end_time": "2021-09-19T18:00:08.442998",
     "exception": false,
     "start_time": "2021-09-19T18:00:08.373192",
     "status": "completed"
    },
    "tags": []
   },
   "outputs": [
    {
     "data": {
      "text/html": [
       "<div>\n",
       "<style scoped>\n",
       "    .dataframe tbody tr th:only-of-type {\n",
       "        vertical-align: middle;\n",
       "    }\n",
       "\n",
       "    .dataframe tbody tr th {\n",
       "        vertical-align: top;\n",
       "    }\n",
       "\n",
       "    .dataframe thead th {\n",
       "        text-align: right;\n",
       "    }\n",
       "</style>\n",
       "<table border=\"1\" class=\"dataframe\">\n",
       "  <thead>\n",
       "    <tr style=\"text-align: right;\">\n",
       "      <th></th>\n",
       "      <th>RECORD_TIME</th>\n",
       "    </tr>\n",
       "  </thead>\n",
       "  <tbody>\n",
       "    <tr>\n",
       "      <th>0</th>\n",
       "      <td>2021-09-19 20:00</td>\n",
       "    </tr>\n",
       "    <tr>\n",
       "      <th>1</th>\n",
       "      <td>2021-09-19 19:30</td>\n",
       "    </tr>\n",
       "  </tbody>\n",
       "</table>\n",
       "</div>"
      ],
      "text/plain": [
       "        RECORD_TIME\n",
       "0  2021-09-19 20:00\n",
       "1  2021-09-19 19:30"
      ]
     },
     "execution_count": 3,
     "metadata": {},
     "output_type": "execute_result"
    }
   ],
   "source": [
    "timestamps"
   ]
  },
  {
   "cell_type": "code",
   "execution_count": 4,
   "id": "alternate-victory",
   "metadata": {
    "execution": {
     "iopub.execute_input": "2021-09-19T18:00:08.494669Z",
     "iopub.status.busy": "2021-09-19T18:00:08.492866Z",
     "iopub.status.idle": "2021-09-19T18:00:08.975635Z",
     "shell.execute_reply": "2021-09-19T18:00:08.977072Z"
    },
    "papermill": {
     "duration": 0.512675,
     "end_time": "2021-09-19T18:00:08.977505",
     "exception": false,
     "start_time": "2021-09-19T18:00:08.464830",
     "status": "completed"
    },
    "tags": []
   },
   "outputs": [],
   "source": [
    "df = pd.read_sql(\"select * from EBAY_TOP_BERLIN where record_time in (select distinct record_time from EBAY_TOP_BERLIN order by record_time desc limit 2)\", sqlite3.connect(\"UsedObjects.db\"))"
   ]
  },
  {
   "cell_type": "code",
   "execution_count": 5,
   "id": "popular-active",
   "metadata": {
    "execution": {
     "iopub.execute_input": "2021-09-19T18:00:09.058093Z",
     "iopub.status.busy": "2021-09-19T18:00:09.045841Z",
     "iopub.status.idle": "2021-09-19T18:00:09.073706Z",
     "shell.execute_reply": "2021-09-19T18:00:09.074971Z"
    },
    "papermill": {
     "duration": 0.071609,
     "end_time": "2021-09-19T18:00:09.075368",
     "exception": false,
     "start_time": "2021-09-19T18:00:09.003759",
     "status": "completed"
    },
    "tags": []
   },
   "outputs": [],
   "source": [
    "df_pivot = df.pivot_table(index=\"PRODUCT\", columns = \"RECORD_TIME\", values = \"LISTING_COUNT\")"
   ]
  },
  {
   "cell_type": "code",
   "execution_count": 6,
   "id": "union-huntington",
   "metadata": {
    "execution": {
     "iopub.execute_input": "2021-09-19T18:00:09.133014Z",
     "iopub.status.busy": "2021-09-19T18:00:09.130879Z",
     "iopub.status.idle": "2021-09-19T18:00:09.136535Z",
     "shell.execute_reply": "2021-09-19T18:00:09.137779Z"
    },
    "papermill": {
     "duration": 0.040779,
     "end_time": "2021-09-19T18:00:09.138218",
     "exception": false,
     "start_time": "2021-09-19T18:00:09.097439",
     "status": "completed"
    },
    "tags": []
   },
   "outputs": [],
   "source": [
    "df_pivot.columns = [\"stamp_1\", \"stamp_2\"]\n",
    "df_pivot_diff = df_pivot.diff(axis=1)"
   ]
  },
  {
   "cell_type": "code",
   "execution_count": 7,
   "id": "fifth-motion",
   "metadata": {
    "execution": {
     "iopub.execute_input": "2021-09-19T18:00:09.196679Z",
     "iopub.status.busy": "2021-09-19T18:00:09.193957Z",
     "iopub.status.idle": "2021-09-19T18:00:10.712587Z",
     "shell.execute_reply": "2021-09-19T18:00:10.713849Z"
    },
    "papermill": {
     "duration": 1.552358,
     "end_time": "2021-09-19T18:00:10.714260",
     "exception": false,
     "start_time": "2021-09-19T18:00:09.161902",
     "status": "completed"
    },
    "tags": []
   },
   "outputs": [
    {
     "data": {
      "text/plain": [
       "<AxesSubplot:ylabel='PRODUCT'>"
      ]
     },
     "execution_count": 7,
     "metadata": {},
     "output_type": "execute_result"
    },
    {
     "data": {
      "image/png": "[encoded data removed]",
      "text/plain": [
       "<Figure size 432x288 with 1 Axes>"
      ]
     },
     "metadata": {
      "needs_background": "light"
     },
     "output_type": "display_data"
    }
   ],
   "source": [
    "df_pivot_diff.sort_values(\"stamp_2\", ascending = False)[\"stamp_2\"].head(10).plot.barh()"
   ]
  },
  {
   "cell_type": "code",
   "execution_count": null,
   "id": "extra-executive",
   "metadata": {
    "papermill": {
     "duration": 0.022198,
     "end_time": "2021-09-19T18:00:10.761082",
     "exception": false,
     "start_time": "2021-09-19T18:00:10.738884",
     "status": "completed"
    },
    "tags": []
   },
   "outputs": [],
   "source": []
  }
 ],
 "metadata": {
  "kernelspec": {
   "display_name": "Python 3",
   "language": "python",
   "name": "python3"
  },
  "language_info": {
   "codemirror_mode": {
    "name": "ipython",
    "version": 3
   },
   "file_extension": ".py",
   "mimetype": "text/x-python",
   "name": "python",
   "nbconvert_exporter": "python",
   "pygments_lexer": "ipython3",
   "version": "3.9.5"
  },
  "papermill": {
   "default_parameters": {},
   "duration": 6.679794,
   "end_time": "2021-09-19T18:00:11.401268",
   "environment_variables": {},
   "exception": null,
   "input_path": "eBay_Overview.ipynb",
   "output_path": "eBay_Overview.ipynb",
   "parameters": {},
   "start_time": "2021-09-19T18:00:04.721474",
   "version": "2.3.3"
  }
 },
 "nbformat": 4,
 "nbformat_minor": 5
}