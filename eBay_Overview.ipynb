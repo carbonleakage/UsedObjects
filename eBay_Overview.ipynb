{
 "cells": [
  {
   "cell_type": "code",
   "execution_count": 1,
   "id": "reverse-picking",
   "metadata": {
    "execution": {
     "iopub.execute_input": "2021-09-12T14:00:07.265570Z",
     "iopub.status.busy": "2021-09-12T14:00:07.263601Z",
     "iopub.status.idle": "2021-09-12T14:00:08.077839Z",
     "shell.execute_reply": "2021-09-12T14:00:08.079246Z"
    },
    "papermill": {
     "duration": 0.866614,
     "end_time": "2021-09-12T14:00:08.079908",
     "exception": false,
     "start_time": "2021-09-12T14:00:07.213294",
     "status": "completed"
    },
    "tags": []
   },
   "outputs": [],
   "source": [
    "import pandas as pd\n",
    "import sqlite3"
   ]
  },
  {
   "cell_type": "code",
   "execution_count": 2,
   "id": "innovative-syndrome",
   "metadata": {
    "execution": {
     "iopub.execute_input": "2021-09-12T14:00:08.131127Z",
     "iopub.status.busy": "2021-09-12T14:00:08.128958Z",
     "iopub.status.idle": "2021-09-12T14:00:08.397111Z",
     "shell.execute_reply": "2021-09-12T14:00:08.398374Z"
    },
    "papermill": {
     "duration": 0.298539,
     "end_time": "2021-09-12T14:00:08.398794",
     "exception": false,
     "start_time": "2021-09-12T14:00:08.100255",
     "status": "completed"
    },
    "tags": []
   },
   "outputs": [],
   "source": [
    "timestamps = pd.read_sql(\"select distinct record_time from EBAY_TOP_BERLIN order by record_time desc limit 2\", sqlite3.connect(\"UsedObjects.db\"))"
   ]
  },
  {
   "cell_type": "code",
   "execution_count": 3,
   "id": "periodic-identification",
   "metadata": {
    "execution": {
     "iopub.execute_input": "2021-09-12T14:00:08.465884Z",
     "iopub.status.busy": "2021-09-12T14:00:08.463855Z",
     "iopub.status.idle": "2021-09-12T14:00:08.483995Z",
     "shell.execute_reply": "2021-09-12T14:00:08.485351Z"
    },
    "papermill": {
     "duration": 0.067473,
     "end_time": "2021-09-12T14:00:08.485771",
     "exception": false,
     "start_time": "2021-09-12T14:00:08.418298",
     "status": "completed"
    },
    "tags": []
   },
   "outputs": [
    {
     "data": {
      "text/html": [
       "<div>\n",
       "<style scoped>\n",
       "    .dataframe tbody tr th:only-of-type {\n",
       "        vertical-align: middle;\n",
       "    }\n",
       "\n",
       "    .dataframe tbody tr th {\n",
       "        vertical-align: top;\n",
       "    }\n",
       "\n",
       "    .dataframe thead th {\n",
       "        text-align: right;\n",
       "    }\n",
       "</style>\n",
       "<table border=\"1\" class=\"dataframe\">\n",
       "  <thead>\n",
       "    <tr style=\"text-align: right;\">\n",
       "      <th></th>\n",
       "      <th>RECORD_TIME</th>\n",
       "    </tr>\n",
       "  </thead>\n",
       "  <tbody>\n",
       "    <tr>\n",
       "      <th>0</th>\n",
       "      <td>2021-09-12 16:00</td>\n",
       "    </tr>\n",
       "    <tr>\n",
       "      <th>1</th>\n",
       "      <td>2021-09-12 15:30</td>\n",
       "    </tr>\n",
       "  </tbody>\n",
       "</table>\n",
       "</div>"
      ],
      "text/plain": [
       "        RECORD_TIME\n",
       "0  2021-09-12 16:00\n",
       "1  2021-09-12 15:30"
      ]
     },
     "execution_count": 3,
     "metadata": {},
     "output_type": "execute_result"
    }
   ],
   "source": [
    "timestamps"
   ]
  },
  {
   "cell_type": "code",
   "execution_count": 4,
   "id": "alternate-victory",
   "metadata": {
    "execution": {
     "iopub.execute_input": "2021-09-12T14:00:08.537546Z",
     "iopub.status.busy": "2021-09-12T14:00:08.535371Z",
     "iopub.status.idle": "2021-09-12T14:00:08.938842Z",
     "shell.execute_reply": "2021-09-12T14:00:08.940297Z"
    },
    "papermill": {
     "duration": 0.43389,
     "end_time": "2021-09-12T14:00:08.940725",
     "exception": false,
     "start_time": "2021-09-12T14:00:08.506835",
     "status": "completed"
    },
    "tags": []
   },
   "outputs": [],
   "source": [
    "df = pd.read_sql(\"select * from EBAY_TOP_BERLIN where record_time in (select distinct record_time from EBAY_TOP_BERLIN order by record_time desc limit 2)\", sqlite3.connect(\"UsedObjects.db\"))"
   ]
  },
  {
   "cell_type": "code",
   "execution_count": 5,
   "id": "popular-active",
   "metadata": {
    "execution": {
     "iopub.execute_input": "2021-09-12T14:00:09.021574Z",
     "iopub.status.busy": "2021-09-12T14:00:09.009174Z",
     "iopub.status.idle": "2021-09-12T14:00:09.037524Z",
     "shell.execute_reply": "2021-09-12T14:00:09.038749Z"
    },
    "papermill": {
     "duration": 0.072563,
     "end_time": "2021-09-12T14:00:09.039209",
     "exception": false,
     "start_time": "2021-09-12T14:00:08.966646",
     "status": "completed"
    },
    "tags": []
   },
   "outputs": [],
   "source": [
    "df_pivot = df.pivot_table(index=\"PRODUCT\", columns = \"RECORD_TIME\", values = \"LISTING_COUNT\")"
   ]
  },
  {
   "cell_type": "code",
   "execution_count": 6,
   "id": "union-huntington",
   "metadata": {
    "execution": {
     "iopub.execute_input": "2021-09-12T14:00:09.096369Z",
     "iopub.status.busy": "2021-09-12T14:00:09.094160Z",
     "iopub.status.idle": "2021-09-12T14:00:09.099796Z",
     "shell.execute_reply": "2021-09-12T14:00:09.101193Z"
    },
    "papermill": {
     "duration": 0.041115,
     "end_time": "2021-09-12T14:00:09.101636",
     "exception": false,
     "start_time": "2021-09-12T14:00:09.060521",
     "status": "completed"
    },
    "tags": []
   },
   "outputs": [],
   "source": [
    "df_pivot.columns = [\"stamp_1\", \"stamp_2\"]\n",
    "df_pivot_diff = df_pivot.diff(axis=1)"
   ]
  },
  {
   "cell_type": "code",
   "execution_count": 7,
   "id": "fifth-motion",
   "metadata": {
    "execution": {
     "iopub.execute_input": "2021-09-12T14:00:09.158232Z",
     "iopub.status.busy": "2021-09-12T14:00:09.155558Z",
     "iopub.status.idle": "2021-09-12T14:00:10.633961Z",
     "shell.execute_reply": "2021-09-12T14:00:10.635370Z"
    },
    "papermill": {
     "duration": 1.512226,
     "end_time": "2021-09-12T14:00:10.635824",
     "exception": false,
     "start_time": "2021-09-12T14:00:09.123598",
     "status": "completed"
    },
    "tags": []
   },
   "outputs": [
    {
     "data": {
      "text/plain": [
       "<AxesSubplot:ylabel='PRODUCT'>"
      ]
     },
     "execution_count": 7,
     "metadata": {},
     "output_type": "execute_result"
    },
    {
     "data": {
      "image/png": "[encoded data removed]",
      "text/plain": [
       "<Figure size 432x288 with 1 Axes>"
      ]
     },
     "metadata": {
      "needs_background": "light"
     },
     "output_type": "display_data"
    }
   ],
   "source": [
    "df_pivot_diff.sort_values(\"stamp_2\", ascending = False)[\"stamp_2\"].head(10).plot.barh()"
   ]
  },
  {
   "cell_type": "code",
   "execution_count": null,
   "id": "extra-executive",
   "metadata": {
    "papermill": {
     "duration": 0.022277,
     "end_time": "2021-09-12T14:00:10.683949",
     "exception": false,
     "start_time": "2021-09-12T14:00:10.661672",
     "status": "completed"
    },
    "tags": []
   },
   "outputs": [],
   "source": []
  }
 ],
 "metadata": {
  "kernelspec": {
   "display_name": "Python 3",
   "language": "python",
   "name": "python3"
  },
  "language_info": {
   "codemirror_mode": {
    "name": "ipython",
    "version": 3
   },
   "file_extension": ".py",
   "mimetype": "text/x-python",
   "name": "python",
   "nbconvert_exporter": "python",
   "pygments_lexer": "ipython3",
   "version": "3.9.5"
  },
  "papermill": {
   "default_parameters": {},
   "duration": 6.52892,
   "end_time": "2021-09-12T14:00:11.324291",
   "environment_variables": {},
   "exception": null,
   "input_path": "eBay_Overview.ipynb",
   "output_path": "eBay_Overview.ipynb",
   "parameters": {},
   "start_time": "2021-09-12T14:00:04.795371",
   "version": "2.3.3"
  }
 },
 "nbformat": 4,
 "nbformat_minor": 5
}