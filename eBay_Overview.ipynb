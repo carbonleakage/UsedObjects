{
 "cells": [
  {
   "cell_type": "code",
   "execution_count": 1,
   "id": "reverse-picking",
   "metadata": {
    "execution": {
     "iopub.execute_input": "2021-11-27T23:00:08.477454Z",
     "iopub.status.busy": "2021-11-27T23:00:08.459985Z",
     "iopub.status.idle": "2021-11-27T23:00:09.447928Z",
     "shell.execute_reply": "2021-11-27T23:00:09.450311Z"
    },
    "papermill": {
     "duration": 1.021205,
     "end_time": "2021-11-27T23:00:09.451087",
     "exception": false,
     "start_time": "2021-11-27T23:00:08.429882",
     "status": "completed"
    },
    "tags": []
   },
   "outputs": [],
   "source": [
    "import pandas as pd\n",
    "import sqlite3"
   ]
  },
  {
   "cell_type": "code",
   "execution_count": 2,
   "id": "innovative-syndrome",
   "metadata": {
    "execution": {
     "iopub.execute_input": "2021-11-27T23:00:09.520487Z",
     "iopub.status.busy": "2021-11-27T23:00:09.517568Z",
     "iopub.status.idle": "2021-11-27T23:00:10.449501Z",
     "shell.execute_reply": "2021-11-27T23:00:10.450976Z"
    },
    "papermill": {
     "duration": 0.96562,
     "end_time": "2021-11-27T23:00:10.451423",
     "exception": false,
     "start_time": "2021-11-27T23:00:09.485803",
     "status": "completed"
    },
    "tags": []
   },
   "outputs": [],
   "source": [
    "timestamps = pd.read_sql(\"select distinct record_time from EBAY_TOP_BERLIN order by record_time desc limit 2\", sqlite3.connect(\"UsedObjects.db\"))"
   ]
  },
  {
   "cell_type": "code",
   "execution_count": 3,
   "id": "periodic-identification",
   "metadata": {
    "execution": {
     "iopub.execute_input": "2021-11-27T23:00:10.520034Z",
     "iopub.status.busy": "2021-11-27T23:00:10.517727Z",
     "iopub.status.idle": "2021-11-27T23:00:10.541348Z",
     "shell.execute_reply": "2021-11-27T23:00:10.542930Z"
    },
    "papermill": {
     "duration": 0.071765,
     "end_time": "2021-11-27T23:00:10.543410",
     "exception": false,
     "start_time": "2021-11-27T23:00:10.471645",
     "status": "completed"
    },
    "tags": []
   },
   "outputs": [
    {
     "data": {
      "text/html": [
       "<div>\n",
       "<style scoped>\n",
       "    .dataframe tbody tr th:only-of-type {\n",
       "        vertical-align: middle;\n",
       "    }\n",
       "\n",
       "    .dataframe tbody tr th {\n",
       "        vertical-align: top;\n",
       "    }\n",
       "\n",
       "    .dataframe thead th {\n",
       "        text-align: right;\n",
       "    }\n",
       "</style>\n",
       "<table border=\"1\" class=\"dataframe\">\n",
       "  <thead>\n",
       "    <tr style=\"text-align: right;\">\n",
       "      <th></th>\n",
       "      <th>RECORD_TIME</th>\n",
       "    </tr>\n",
       "  </thead>\n",
       "  <tbody>\n",
       "    <tr>\n",
       "      <th>0</th>\n",
       "      <td>2021-11-28 00:00</td>\n",
       "    </tr>\n",
       "    <tr>\n",
       "      <th>1</th>\n",
       "      <td>2021-11-27 23:30</td>\n",
       "    </tr>\n",
       "  </tbody>\n",
       "</table>\n",
       "</div>"
      ],
      "text/plain": [
       "        RECORD_TIME\n",
       "0  2021-11-28 00:00\n",
       "1  2021-11-27 23:30"
      ]
     },
     "execution_count": 3,
     "metadata": {},
     "output_type": "execute_result"
    }
   ],
   "source": [
    "timestamps"
   ]
  },
  {
   "cell_type": "code",
   "execution_count": 4,
   "id": "alternate-victory",
   "metadata": {
    "execution": {
     "iopub.execute_input": "2021-11-27T23:00:10.602248Z",
     "iopub.status.busy": "2021-11-27T23:00:10.600318Z",
     "iopub.status.idle": "2021-11-27T23:00:11.975893Z",
     "shell.execute_reply": "2021-11-27T23:00:11.978029Z"
    },
    "papermill": {
     "duration": 1.412844,
     "end_time": "2021-11-27T23:00:11.978511",
     "exception": false,
     "start_time": "2021-11-27T23:00:10.565667",
     "status": "completed"
    },
    "tags": []
   },
   "outputs": [],
   "source": [
    "df = pd.read_sql(\"select * from EBAY_TOP_BERLIN where record_time in (select distinct record_time from EBAY_TOP_BERLIN order by record_time desc limit 2)\", sqlite3.connect(\"UsedObjects.db\"))"
   ]
  },
  {
   "cell_type": "code",
   "execution_count": 5,
   "id": "popular-active",
   "metadata": {
    "execution": {
     "iopub.execute_input": "2021-11-27T23:00:12.043940Z",
     "iopub.status.busy": "2021-11-27T23:00:12.040350Z",
     "iopub.status.idle": "2021-11-27T23:00:12.076143Z",
     "shell.execute_reply": "2021-11-27T23:00:12.077677Z"
    },
    "papermill": {
     "duration": 0.078936,
     "end_time": "2021-11-27T23:00:12.078167",
     "exception": false,
     "start_time": "2021-11-27T23:00:11.999231",
     "status": "completed"
    },
    "tags": []
   },
   "outputs": [],
   "source": [
    "df_pivot = df.pivot_table(index=\"PRODUCT\", columns = \"RECORD_TIME\", values = \"LISTING_COUNT\")"
   ]
  },
  {
   "cell_type": "code",
   "execution_count": 6,
   "id": "union-huntington",
   "metadata": {
    "execution": {
     "iopub.execute_input": "2021-11-27T23:00:12.137988Z",
     "iopub.status.busy": "2021-11-27T23:00:12.135664Z",
     "iopub.status.idle": "2021-11-27T23:00:12.141199Z",
     "shell.execute_reply": "2021-11-27T23:00:12.142829Z"
    },
    "papermill": {
     "duration": 0.043485,
     "end_time": "2021-11-27T23:00:12.143299",
     "exception": false,
     "start_time": "2021-11-27T23:00:12.099814",
     "status": "completed"
    },
    "tags": []
   },
   "outputs": [],
   "source": [
    "df_pivot.columns = [\"stamp_1\", \"stamp_2\"]\n",
    "df_pivot_diff = df_pivot.diff(axis=1)"
   ]
  },
  {
   "cell_type": "code",
   "execution_count": 7,
   "id": "fifth-motion",
   "metadata": {
    "execution": {
     "iopub.execute_input": "2021-11-27T23:00:12.201114Z",
     "iopub.status.busy": "2021-11-27T23:00:12.198209Z",
     "iopub.status.idle": "2021-11-27T23:00:14.220584Z",
     "shell.execute_reply": "2021-11-27T23:00:14.222212Z"
    },
    "papermill": {
     "duration": 2.059319,
     "end_time": "2021-11-27T23:00:14.222692",
     "exception": false,
     "start_time": "2021-11-27T23:00:12.163373",
     "status": "completed"
    },
    "tags": []
   },
   "outputs": [
    {
     "data": {
      "text/plain": [
       "<AxesSubplot:ylabel='PRODUCT'>"
      ]
     },
     "execution_count": 7,
     "metadata": {},
     "output_type": "execute_result"
    },
    {
     "data": {
      "image/png": "[encoded data removed]",
      "text/plain": [
       "<Figure size 432x288 with 1 Axes>"
      ]
     },
     "metadata": {
      "needs_background": "light"
     },
     "output_type": "display_data"
    }
   ],
   "source": [
    "df_pivot_diff.sort_values(\"stamp_2\", ascending = False)[\"stamp_2\"].head(10).plot.barh()"
   ]
  },
  {
   "cell_type": "code",
   "execution_count": null,
   "id": "extra-executive",
   "metadata": {
    "papermill": {
     "duration": 0.022168,
     "end_time": "2021-11-27T23:00:14.269055",
     "exception": false,
     "start_time": "2021-11-27T23:00:14.246887",
     "status": "completed"
    },
    "tags": []
   },
   "outputs": [],
   "source": []
  }
 ],
 "metadata": {
  "kernelspec": {
   "display_name": "Python 3",
   "language": "python",
   "name": "python3"
  },
  "language_info": {
   "codemirror_mode": {
    "name": "ipython",
    "version": 3
   },
   "file_extension": ".py",
   "mimetype": "text/x-python",
   "name": "python",
   "nbconvert_exporter": "python",
   "pygments_lexer": "ipython3",
   "version": "3.9.5"
  },
  "papermill": {
   "default_parameters": {},
   "duration": 9.943407,
   "end_time": "2021-11-27T23:00:15.621012",
   "environment_variables": {},
   "exception": null,
   "input_path": "eBay_Overview.ipynb",
   "output_path": "eBay_Overview.ipynb",
   "parameters": {},
   "start_time": "2021-11-27T23:00:05.677605",
   "version": "2.3.3"
  }
 },
 "nbformat": 4,
 "nbformat_minor": 5
}