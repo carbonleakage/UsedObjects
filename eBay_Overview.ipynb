{
 "cells": [
  {
   "cell_type": "code",
   "execution_count": 1,
   "id": "reverse-picking",
   "metadata": {
    "execution": {
     "iopub.execute_input": "2021-08-31T01:30:06.827257Z",
     "iopub.status.busy": "2021-08-31T01:30:06.825314Z",
     "iopub.status.idle": "2021-08-31T01:30:07.628285Z",
     "shell.execute_reply": "2021-08-31T01:30:07.629638Z"
    },
    "papermill": {
     "duration": 0.85369,
     "end_time": "2021-08-31T01:30:07.630280",
     "exception": false,
     "start_time": "2021-08-31T01:30:06.776590",
     "status": "completed"
    },
    "tags": []
   },
   "outputs": [],
   "source": [
    "import pandas as pd\n",
    "import sqlite3"
   ]
  },
  {
   "cell_type": "code",
   "execution_count": 2,
   "id": "innovative-syndrome",
   "metadata": {
    "execution": {
     "iopub.execute_input": "2021-08-31T01:30:07.680803Z",
     "iopub.status.busy": "2021-08-31T01:30:07.678792Z",
     "iopub.status.idle": "2021-08-31T01:30:07.849095Z",
     "shell.execute_reply": "2021-08-31T01:30:07.850226Z"
    },
    "papermill": {
     "duration": 0.200006,
     "end_time": "2021-08-31T01:30:07.850638",
     "exception": false,
     "start_time": "2021-08-31T01:30:07.650632",
     "status": "completed"
    },
    "tags": []
   },
   "outputs": [],
   "source": [
    "timestamps = pd.read_sql(\"select distinct record_time from EBAY_TOP_BERLIN order by record_time desc limit 2\", sqlite3.connect(\"UsedObjects.db\"))"
   ]
  },
  {
   "cell_type": "code",
   "execution_count": 3,
   "id": "periodic-identification",
   "metadata": {
    "execution": {
     "iopub.execute_input": "2021-08-31T01:30:07.918993Z",
     "iopub.status.busy": "2021-08-31T01:30:07.916971Z",
     "iopub.status.idle": "2021-08-31T01:30:07.936879Z",
     "shell.execute_reply": "2021-08-31T01:30:07.938619Z"
    },
    "papermill": {
     "duration": 0.066163,
     "end_time": "2021-08-31T01:30:07.939149",
     "exception": false,
     "start_time": "2021-08-31T01:30:07.872986",
     "status": "completed"
    },
    "tags": []
   },
   "outputs": [
    {
     "data": {
      "text/html": [
       "<div>\n",
       "<style scoped>\n",
       "    .dataframe tbody tr th:only-of-type {\n",
       "        vertical-align: middle;\n",
       "    }\n",
       "\n",
       "    .dataframe tbody tr th {\n",
       "        vertical-align: top;\n",
       "    }\n",
       "\n",
       "    .dataframe thead th {\n",
       "        text-align: right;\n",
       "    }\n",
       "</style>\n",
       "<table border=\"1\" class=\"dataframe\">\n",
       "  <thead>\n",
       "    <tr style=\"text-align: right;\">\n",
       "      <th></th>\n",
       "      <th>RECORD_TIME</th>\n",
       "    </tr>\n",
       "  </thead>\n",
       "  <tbody>\n",
       "    <tr>\n",
       "      <th>0</th>\n",
       "      <td>2021-08-31 03:30</td>\n",
       "    </tr>\n",
       "    <tr>\n",
       "      <th>1</th>\n",
       "      <td>2021-08-31 03:00</td>\n",
       "    </tr>\n",
       "  </tbody>\n",
       "</table>\n",
       "</div>"
      ],
      "text/plain": [
       "        RECORD_TIME\n",
       "0  2021-08-31 03:30\n",
       "1  2021-08-31 03:00"
      ]
     },
     "execution_count": 3,
     "metadata": {},
     "output_type": "execute_result"
    }
   ],
   "source": [
    "timestamps"
   ]
  },
  {
   "cell_type": "code",
   "execution_count": 4,
   "id": "alternate-victory",
   "metadata": {
    "execution": {
     "iopub.execute_input": "2021-08-31T01:30:07.992395Z",
     "iopub.status.busy": "2021-08-31T01:30:07.990423Z",
     "iopub.status.idle": "2021-08-31T01:30:08.246236Z",
     "shell.execute_reply": "2021-08-31T01:30:08.247443Z"
    },
    "papermill": {
     "duration": 0.286081,
     "end_time": "2021-08-31T01:30:08.247840",
     "exception": false,
     "start_time": "2021-08-31T01:30:07.961759",
     "status": "completed"
    },
    "tags": []
   },
   "outputs": [],
   "source": [
    "df = pd.read_sql(\"select * from EBAY_TOP_BERLIN where record_time in (select distinct record_time from EBAY_TOP_BERLIN order by record_time desc limit 2)\", sqlite3.connect(\"UsedObjects.db\"))"
   ]
  },
  {
   "cell_type": "code",
   "execution_count": 5,
   "id": "popular-active",
   "metadata": {
    "execution": {
     "iopub.execute_input": "2021-08-31T01:30:08.326962Z",
     "iopub.status.busy": "2021-08-31T01:30:08.314559Z",
     "iopub.status.idle": "2021-08-31T01:30:08.342272Z",
     "shell.execute_reply": "2021-08-31T01:30:08.343562Z"
    },
    "papermill": {
     "duration": 0.070432,
     "end_time": "2021-08-31T01:30:08.343975",
     "exception": false,
     "start_time": "2021-08-31T01:30:08.273543",
     "status": "completed"
    },
    "tags": []
   },
   "outputs": [],
   "source": [
    "df_pivot = df.pivot_table(index=\"PRODUCT\", columns = \"RECORD_TIME\", values = \"LISTING_COUNT\")"
   ]
  },
  {
   "cell_type": "code",
   "execution_count": 6,
   "id": "union-huntington",
   "metadata": {
    "execution": {
     "iopub.execute_input": "2021-08-31T01:30:08.400148Z",
     "iopub.status.busy": "2021-08-31T01:30:08.398125Z",
     "iopub.status.idle": "2021-08-31T01:30:08.403434Z",
     "shell.execute_reply": "2021-08-31T01:30:08.404853Z"
    },
    "papermill": {
     "duration": 0.040361,
     "end_time": "2021-08-31T01:30:08.405306",
     "exception": false,
     "start_time": "2021-08-31T01:30:08.364945",
     "status": "completed"
    },
    "tags": []
   },
   "outputs": [],
   "source": [
    "df_pivot.columns = [\"stamp_1\", \"stamp_2\"]\n",
    "df_pivot_diff = df_pivot.diff(axis=1)"
   ]
  },
  {
   "cell_type": "code",
   "execution_count": 7,
   "id": "fifth-motion",
   "metadata": {
    "execution": {
     "iopub.execute_input": "2021-08-31T01:30:08.462246Z",
     "iopub.status.busy": "2021-08-31T01:30:08.459557Z",
     "iopub.status.idle": "2021-08-31T01:30:09.935083Z",
     "shell.execute_reply": "2021-08-31T01:30:09.936615Z"
    },
    "papermill": {
     "duration": 1.509241,
     "end_time": "2021-08-31T01:30:09.937088",
     "exception": false,
     "start_time": "2021-08-31T01:30:08.427847",
     "status": "completed"
    },
    "tags": []
   },
   "outputs": [
    {
     "data": {
      "text/plain": [
       "<AxesSubplot:ylabel='PRODUCT'>"
      ]
     },
     "execution_count": 7,
     "metadata": {},
     "output_type": "execute_result"
    },
    {
     "data": {
      "image/png": "[encoded data removed]",
      "text/plain": [
       "<Figure size 432x288 with 1 Axes>"
      ]
     },
     "metadata": {
      "needs_background": "light"
     },
     "output_type": "display_data"
    }
   ],
   "source": [
    "df_pivot_diff.sort_values(\"stamp_2\", ascending = False)[\"stamp_2\"].head(10).plot.barh()"
   ]
  },
  {
   "cell_type": "code",
   "execution_count": null,
   "id": "extra-executive",
   "metadata": {
    "papermill": {
     "duration": 0.022113,
     "end_time": "2021-08-31T01:30:09.984321",
     "exception": false,
     "start_time": "2021-08-31T01:30:09.962208",
     "status": "completed"
    },
    "tags": []
   },
   "outputs": [],
   "source": []
  }
 ],
 "metadata": {
  "kernelspec": {
   "display_name": "Python 3",
   "language": "python",
   "name": "python3"
  },
  "language_info": {
   "codemirror_mode": {
    "name": "ipython",
    "version": 3
   },
   "file_extension": ".py",
   "mimetype": "text/x-python",
   "name": "python",
   "nbconvert_exporter": "python",
   "pygments_lexer": "ipython3",
   "version": "3.9.5"
  },
  "papermill": {
   "default_parameters": {},
   "duration": 6.819898,
   "end_time": "2021-08-31T01:30:11.197655",
   "environment_variables": {},
   "exception": null,
   "input_path": "eBay_Overview.ipynb",
   "output_path": "eBay_Overview.ipynb",
   "parameters": {},
   "start_time": "2021-08-31T01:30:04.377757",
   "version": "2.3.3"
  }
 },
 "nbformat": 4,
 "nbformat_minor": 5
}