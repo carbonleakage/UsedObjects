{
 "cells": [
  {
   "cell_type": "code",
   "execution_count": 1,
   "id": "reverse-picking",
   "metadata": {
    "execution": {
     "iopub.execute_input": "2021-08-14T20:30:07.872407Z",
     "iopub.status.busy": "2021-08-14T20:30:07.870459Z",
     "iopub.status.idle": "2021-08-14T20:30:08.682826Z",
     "shell.execute_reply": "2021-08-14T20:30:08.684262Z"
    },
    "papermill": {
     "duration": 0.865714,
     "end_time": "2021-08-14T20:30:08.684952",
     "exception": false,
     "start_time": "2021-08-14T20:30:07.819238",
     "status": "completed"
    },
    "tags": []
   },
   "outputs": [],
   "source": [
    "import pandas as pd\n",
    "import sqlite3"
   ]
  },
  {
   "cell_type": "code",
   "execution_count": 2,
   "id": "innovative-syndrome",
   "metadata": {
    "execution": {
     "iopub.execute_input": "2021-08-14T20:30:08.736638Z",
     "iopub.status.busy": "2021-08-14T20:30:08.734339Z",
     "iopub.status.idle": "2021-08-14T20:30:08.786651Z",
     "shell.execute_reply": "2021-08-14T20:30:08.787858Z"
    },
    "papermill": {
     "duration": 0.082668,
     "end_time": "2021-08-14T20:30:08.788255",
     "exception": false,
     "start_time": "2021-08-14T20:30:08.705587",
     "status": "completed"
    },
    "tags": []
   },
   "outputs": [],
   "source": [
    "timestamps = pd.read_sql(\"select distinct record_time from EBAY_TOP_BERLIN order by record_time desc limit 2\", sqlite3.connect(\"UsedObjects.db\"))"
   ]
  },
  {
   "cell_type": "code",
   "execution_count": 3,
   "id": "periodic-identification",
   "metadata": {
    "execution": {
     "iopub.execute_input": "2021-08-14T20:30:08.856685Z",
     "iopub.status.busy": "2021-08-14T20:30:08.854656Z",
     "iopub.status.idle": "2021-08-14T20:30:08.874579Z",
     "shell.execute_reply": "2021-08-14T20:30:08.875995Z"
    },
    "papermill": {
     "duration": 0.065709,
     "end_time": "2021-08-14T20:30:08.876432",
     "exception": false,
     "start_time": "2021-08-14T20:30:08.810723",
     "status": "completed"
    },
    "tags": []
   },
   "outputs": [
    {
     "data": {
      "text/html": [
       "<div>\n",
       "<style scoped>\n",
       "    .dataframe tbody tr th:only-of-type {\n",
       "        vertical-align: middle;\n",
       "    }\n",
       "\n",
       "    .dataframe tbody tr th {\n",
       "        vertical-align: top;\n",
       "    }\n",
       "\n",
       "    .dataframe thead th {\n",
       "        text-align: right;\n",
       "    }\n",
       "</style>\n",
       "<table border=\"1\" class=\"dataframe\">\n",
       "  <thead>\n",
       "    <tr style=\"text-align: right;\">\n",
       "      <th></th>\n",
       "      <th>RECORD_TIME</th>\n",
       "    </tr>\n",
       "  </thead>\n",
       "  <tbody>\n",
       "    <tr>\n",
       "      <th>0</th>\n",
       "      <td>2021-08-14 22:30</td>\n",
       "    </tr>\n",
       "    <tr>\n",
       "      <th>1</th>\n",
       "      <td>2021-08-14 22:00</td>\n",
       "    </tr>\n",
       "  </tbody>\n",
       "</table>\n",
       "</div>"
      ],
      "text/plain": [
       "        RECORD_TIME\n",
       "0  2021-08-14 22:30\n",
       "1  2021-08-14 22:00"
      ]
     },
     "execution_count": 3,
     "metadata": {},
     "output_type": "execute_result"
    }
   ],
   "source": [
    "timestamps"
   ]
  },
  {
   "cell_type": "code",
   "execution_count": 4,
   "id": "alternate-victory",
   "metadata": {
    "execution": {
     "iopub.execute_input": "2021-08-14T20:30:08.928265Z",
     "iopub.status.busy": "2021-08-14T20:30:08.925933Z",
     "iopub.status.idle": "2021-08-14T20:30:09.002585Z",
     "shell.execute_reply": "2021-08-14T20:30:09.003879Z"
    },
    "papermill": {
     "duration": 0.107213,
     "end_time": "2021-08-14T20:30:09.004285",
     "exception": false,
     "start_time": "2021-08-14T20:30:08.897072",
     "status": "completed"
    },
    "tags": []
   },
   "outputs": [],
   "source": [
    "df = pd.read_sql(\"select * from EBAY_TOP_BERLIN where record_time in (select distinct record_time from EBAY_TOP_BERLIN order by record_time desc limit 2)\", sqlite3.connect(\"UsedObjects.db\"))"
   ]
  },
  {
   "cell_type": "code",
   "execution_count": 5,
   "id": "popular-active",
   "metadata": {
    "execution": {
     "iopub.execute_input": "2021-08-14T20:30:09.074840Z",
     "iopub.status.busy": "2021-08-14T20:30:09.063177Z",
     "iopub.status.idle": "2021-08-14T20:30:09.091495Z",
     "shell.execute_reply": "2021-08-14T20:30:09.092702Z"
    },
    "papermill": {
     "duration": 0.068441,
     "end_time": "2021-08-14T20:30:09.093104",
     "exception": false,
     "start_time": "2021-08-14T20:30:09.024663",
     "status": "completed"
    },
    "tags": []
   },
   "outputs": [],
   "source": [
    "df_pivot = df.pivot_table(index=\"PRODUCT\", columns = \"RECORD_TIME\", values = \"LISTING_COUNT\")"
   ]
  },
  {
   "cell_type": "code",
   "execution_count": 6,
   "id": "union-huntington",
   "metadata": {
    "execution": {
     "iopub.execute_input": "2021-08-14T20:30:09.150207Z",
     "iopub.status.busy": "2021-08-14T20:30:09.147945Z",
     "iopub.status.idle": "2021-08-14T20:30:09.153483Z",
     "shell.execute_reply": "2021-08-14T20:30:09.155071Z"
    },
    "papermill": {
     "duration": 0.040986,
     "end_time": "2021-08-14T20:30:09.155529",
     "exception": false,
     "start_time": "2021-08-14T20:30:09.114543",
     "status": "completed"
    },
    "tags": []
   },
   "outputs": [],
   "source": [
    "df_pivot.columns = [\"stamp_1\", \"stamp_2\"]\n",
    "df_pivot_diff = df_pivot.diff(axis=1)"
   ]
  },
  {
   "cell_type": "code",
   "execution_count": 7,
   "id": "fifth-motion",
   "metadata": {
    "execution": {
     "iopub.execute_input": "2021-08-14T20:30:09.211687Z",
     "iopub.status.busy": "2021-08-14T20:30:09.209086Z",
     "iopub.status.idle": "2021-08-14T20:30:10.758861Z",
     "shell.execute_reply": "2021-08-14T20:30:10.760175Z"
    },
    "papermill": {
     "duration": 1.583298,
     "end_time": "2021-08-14T20:30:10.760597",
     "exception": false,
     "start_time": "2021-08-14T20:30:09.177299",
     "status": "completed"
    },
    "tags": []
   },
   "outputs": [
    {
     "data": {
      "text/plain": [
       "<AxesSubplot:ylabel='PRODUCT'>"
      ]
     },
     "execution_count": 7,
     "metadata": {},
     "output_type": "execute_result"
    },
    {
     "data": {
      "image/png": "[encoded data removed]",
      "text/plain": [
       "<Figure size 432x288 with 1 Axes>"
      ]
     },
     "metadata": {
      "needs_background": "light"
     },
     "output_type": "display_data"
    }
   ],
   "source": [
    "df_pivot_diff.sort_values(\"stamp_2\", ascending = False)[\"stamp_2\"].head(10).plot.barh()"
   ]
  },
  {
   "cell_type": "code",
   "execution_count": null,
   "id": "extra-executive",
   "metadata": {
    "papermill": {
     "duration": 0.022219,
     "end_time": "2021-08-14T20:30:10.807424",
     "exception": false,
     "start_time": "2021-08-14T20:30:10.785205",
     "status": "completed"
    },
    "tags": []
   },
   "outputs": [],
   "source": []
  }
 ],
 "metadata": {
  "kernelspec": {
   "display_name": "Python 3",
   "language": "python",
   "name": "python3"
  },
  "language_info": {
   "codemirror_mode": {
    "name": "ipython",
    "version": 3
   },
   "file_extension": ".py",
   "mimetype": "text/x-python",
   "name": "python",
   "nbconvert_exporter": "python",
   "pygments_lexer": "ipython3",
   "version": "3.9.5"
  },
  "papermill": {
   "default_parameters": {},
   "duration": 6.832567,
   "end_time": "2021-08-14T20:30:12.229444",
   "environment_variables": {},
   "exception": null,
   "input_path": "eBay_Overview.ipynb",
   "output_path": "eBay_Overview.ipynb",
   "parameters": {},
   "start_time": "2021-08-14T20:30:05.396877",
   "version": "2.3.3"
  }
 },
 "nbformat": 4,
 "nbformat_minor": 5
}