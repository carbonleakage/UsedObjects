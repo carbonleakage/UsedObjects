{
 "cells": [
  {
   "cell_type": "code",
   "execution_count": 1,
   "id": "reverse-picking",
   "metadata": {
    "execution": {
     "iopub.execute_input": "2021-09-11T08:00:07.461639Z",
     "iopub.status.busy": "2021-09-11T08:00:07.459674Z",
     "iopub.status.idle": "2021-09-11T08:00:08.272039Z",
     "shell.execute_reply": "2021-09-11T08:00:08.273497Z"
    },
    "papermill": {
     "duration": 0.864962,
     "end_time": "2021-09-11T08:00:08.274176",
     "exception": false,
     "start_time": "2021-09-11T08:00:07.409214",
     "status": "completed"
    },
    "tags": []
   },
   "outputs": [],
   "source": [
    "import pandas as pd\n",
    "import sqlite3"
   ]
  },
  {
   "cell_type": "code",
   "execution_count": 2,
   "id": "innovative-syndrome",
   "metadata": {
    "execution": {
     "iopub.execute_input": "2021-09-11T08:00:08.325539Z",
     "iopub.status.busy": "2021-09-11T08:00:08.323334Z",
     "iopub.status.idle": "2021-09-11T08:00:08.591305Z",
     "shell.execute_reply": "2021-09-11T08:00:08.592525Z"
    },
    "papermill": {
     "duration": 0.298112,
     "end_time": "2021-09-11T08:00:08.592922",
     "exception": false,
     "start_time": "2021-09-11T08:00:08.294810",
     "status": "completed"
    },
    "tags": []
   },
   "outputs": [],
   "source": [
    "timestamps = pd.read_sql(\"select distinct record_time from EBAY_TOP_BERLIN order by record_time desc limit 2\", sqlite3.connect(\"UsedObjects.db\"))"
   ]
  },
  {
   "cell_type": "code",
   "execution_count": 3,
   "id": "periodic-identification",
   "metadata": {
    "execution": {
     "iopub.execute_input": "2021-09-11T08:00:08.658444Z",
     "iopub.status.busy": "2021-09-11T08:00:08.656396Z",
     "iopub.status.idle": "2021-09-11T08:00:08.676339Z",
     "shell.execute_reply": "2021-09-11T08:00:08.677564Z"
    },
    "papermill": {
     "duration": 0.064701,
     "end_time": "2021-09-11T08:00:08.677966",
     "exception": false,
     "start_time": "2021-09-11T08:00:08.613265",
     "status": "completed"
    },
    "tags": []
   },
   "outputs": [
    {
     "data": {
      "text/html": [
       "<div>\n",
       "<style scoped>\n",
       "    .dataframe tbody tr th:only-of-type {\n",
       "        vertical-align: middle;\n",
       "    }\n",
       "\n",
       "    .dataframe tbody tr th {\n",
       "        vertical-align: top;\n",
       "    }\n",
       "\n",
       "    .dataframe thead th {\n",
       "        text-align: right;\n",
       "    }\n",
       "</style>\n",
       "<table border=\"1\" class=\"dataframe\">\n",
       "  <thead>\n",
       "    <tr style=\"text-align: right;\">\n",
       "      <th></th>\n",
       "      <th>RECORD_TIME</th>\n",
       "    </tr>\n",
       "  </thead>\n",
       "  <tbody>\n",
       "    <tr>\n",
       "      <th>0</th>\n",
       "      <td>2021-09-11 10:00</td>\n",
       "    </tr>\n",
       "    <tr>\n",
       "      <th>1</th>\n",
       "      <td>2021-09-11 09:30</td>\n",
       "    </tr>\n",
       "  </tbody>\n",
       "</table>\n",
       "</div>"
      ],
      "text/plain": [
       "        RECORD_TIME\n",
       "0  2021-09-11 10:00\n",
       "1  2021-09-11 09:30"
      ]
     },
     "execution_count": 3,
     "metadata": {},
     "output_type": "execute_result"
    }
   ],
   "source": [
    "timestamps"
   ]
  },
  {
   "cell_type": "code",
   "execution_count": 4,
   "id": "alternate-victory",
   "metadata": {
    "execution": {
     "iopub.execute_input": "2021-09-11T08:00:08.732055Z",
     "iopub.status.busy": "2021-09-11T08:00:08.729699Z",
     "iopub.status.idle": "2021-09-11T08:00:09.144110Z",
     "shell.execute_reply": "2021-09-11T08:00:09.145375Z"
    },
    "papermill": {
     "duration": 0.445056,
     "end_time": "2021-09-11T08:00:09.145775",
     "exception": false,
     "start_time": "2021-09-11T08:00:08.700719",
     "status": "completed"
    },
    "tags": []
   },
   "outputs": [],
   "source": [
    "df = pd.read_sql(\"select * from EBAY_TOP_BERLIN where record_time in (select distinct record_time from EBAY_TOP_BERLIN order by record_time desc limit 2)\", sqlite3.connect(\"UsedObjects.db\"))"
   ]
  },
  {
   "cell_type": "code",
   "execution_count": 5,
   "id": "popular-active",
   "metadata": {
    "execution": {
     "iopub.execute_input": "2021-09-11T08:00:09.225646Z",
     "iopub.status.busy": "2021-09-11T08:00:09.219602Z",
     "iopub.status.idle": "2021-09-11T08:00:09.241210Z",
     "shell.execute_reply": "2021-09-11T08:00:09.242497Z"
    },
    "papermill": {
     "duration": 0.071317,
     "end_time": "2021-09-11T08:00:09.242973",
     "exception": false,
     "start_time": "2021-09-11T08:00:09.171656",
     "status": "completed"
    },
    "tags": []
   },
   "outputs": [],
   "source": [
    "df_pivot = df.pivot_table(index=\"PRODUCT\", columns = \"RECORD_TIME\", values = \"LISTING_COUNT\")"
   ]
  },
  {
   "cell_type": "code",
   "execution_count": 6,
   "id": "union-huntington",
   "metadata": {
    "execution": {
     "iopub.execute_input": "2021-09-11T08:00:09.299417Z",
     "iopub.status.busy": "2021-09-11T08:00:09.297286Z",
     "iopub.status.idle": "2021-09-11T08:00:09.302690Z",
     "shell.execute_reply": "2021-09-11T08:00:09.303963Z"
    },
    "papermill": {
     "duration": 0.041138,
     "end_time": "2021-09-11T08:00:09.304402",
     "exception": false,
     "start_time": "2021-09-11T08:00:09.263264",
     "status": "completed"
    },
    "tags": []
   },
   "outputs": [],
   "source": [
    "df_pivot.columns = [\"stamp_1\", \"stamp_2\"]\n",
    "df_pivot_diff = df_pivot.diff(axis=1)"
   ]
  },
  {
   "cell_type": "code",
   "execution_count": 7,
   "id": "fifth-motion",
   "metadata": {
    "execution": {
     "iopub.execute_input": "2021-09-11T08:00:09.358652Z",
     "iopub.status.busy": "2021-09-11T08:00:09.356204Z",
     "iopub.status.idle": "2021-09-11T08:00:10.843689Z",
     "shell.execute_reply": "2021-09-11T08:00:10.845058Z"
    },
    "papermill": {
     "duration": 1.520559,
     "end_time": "2021-09-11T08:00:10.845485",
     "exception": false,
     "start_time": "2021-09-11T08:00:09.324926",
     "status": "completed"
    },
    "tags": []
   },
   "outputs": [
    {
     "data": {
      "text/plain": [
       "<AxesSubplot:ylabel='PRODUCT'>"
      ]
     },
     "execution_count": 7,
     "metadata": {},
     "output_type": "execute_result"
    },
    {
     "data": {
      "image/png": "[encoded data removed]",
      "text/plain": [
       "<Figure size 432x288 with 1 Axes>"
      ]
     },
     "metadata": {
      "needs_background": "light"
     },
     "output_type": "display_data"
    }
   ],
   "source": [
    "df_pivot_diff.sort_values(\"stamp_2\", ascending = False)[\"stamp_2\"].head(10).plot.barh()"
   ]
  },
  {
   "cell_type": "code",
   "execution_count": null,
   "id": "extra-executive",
   "metadata": {
    "papermill": {
     "duration": 0.022293,
     "end_time": "2021-09-11T08:00:10.891792",
     "exception": false,
     "start_time": "2021-09-11T08:00:10.869499",
     "status": "completed"
    },
    "tags": []
   },
   "outputs": [],
   "source": []
  }
 ],
 "metadata": {
  "kernelspec": {
   "display_name": "Python 3",
   "language": "python",
   "name": "python3"
  },
  "language_info": {
   "codemirror_mode": {
    "name": "ipython",
    "version": 3
   },
   "file_extension": ".py",
   "mimetype": "text/x-python",
   "name": "python",
   "nbconvert_exporter": "python",
   "pygments_lexer": "ipython3",
   "version": "3.9.5"
  },
  "papermill": {
   "default_parameters": {},
   "duration": 6.544929,
   "end_time": "2021-09-11T08:00:11.532858",
   "environment_variables": {},
   "exception": null,
   "input_path": "eBay_Overview.ipynb",
   "output_path": "eBay_Overview.ipynb",
   "parameters": {},
   "start_time": "2021-09-11T08:00:04.987929",
   "version": "2.3.3"
  }
 },
 "nbformat": 4,
 "nbformat_minor": 5
}