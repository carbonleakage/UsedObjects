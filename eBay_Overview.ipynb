{
 "cells": [
  {
   "cell_type": "code",
   "execution_count": 1,
   "id": "reverse-picking",
   "metadata": {
    "execution": {
     "iopub.execute_input": "2021-12-21T01:00:07.445964Z",
     "iopub.status.busy": "2021-12-21T01:00:07.443704Z",
     "iopub.status.idle": "2021-12-21T01:00:08.414276Z",
     "shell.execute_reply": "2021-12-21T01:00:08.415713Z"
    },
    "papermill": {
     "duration": 1.020702,
     "end_time": "2021-12-21T01:00:08.416470",
     "exception": false,
     "start_time": "2021-12-21T01:00:07.395768",
     "status": "completed"
    },
    "tags": []
   },
   "outputs": [],
   "source": [
    "import pandas as pd\n",
    "import sqlite3"
   ]
  },
  {
   "cell_type": "code",
   "execution_count": 2,
   "id": "innovative-syndrome",
   "metadata": {
    "execution": {
     "iopub.execute_input": "2021-12-21T01:00:08.488797Z",
     "iopub.status.busy": "2021-12-21T01:00:08.486593Z",
     "iopub.status.idle": "2021-12-21T01:00:09.621899Z",
     "shell.execute_reply": "2021-12-21T01:00:09.623395Z"
    },
    "papermill": {
     "duration": 1.17081,
     "end_time": "2021-12-21T01:00:09.623853",
     "exception": false,
     "start_time": "2021-12-21T01:00:08.453043",
     "status": "completed"
    },
    "tags": []
   },
   "outputs": [],
   "source": [
    "timestamps = pd.read_sql(\"select distinct record_time from EBAY_TOP_BERLIN order by record_time desc limit 2\", sqlite3.connect(\"UsedObjects.db\"))"
   ]
  },
  {
   "cell_type": "code",
   "execution_count": 3,
   "id": "periodic-identification",
   "metadata": {
    "execution": {
     "iopub.execute_input": "2021-12-21T01:00:09.697990Z",
     "iopub.status.busy": "2021-12-21T01:00:09.695412Z",
     "iopub.status.idle": "2021-12-21T01:00:09.718793Z",
     "shell.execute_reply": "2021-12-21T01:00:09.720074Z"
    },
    "papermill": {
     "duration": 0.076192,
     "end_time": "2021-12-21T01:00:09.720487",
     "exception": false,
     "start_time": "2021-12-21T01:00:09.644295",
     "status": "completed"
    },
    "tags": []
   },
   "outputs": [
    {
     "data": {
      "text/html": [
       "<div>\n",
       "<style scoped>\n",
       "    .dataframe tbody tr th:only-of-type {\n",
       "        vertical-align: middle;\n",
       "    }\n",
       "\n",
       "    .dataframe tbody tr th {\n",
       "        vertical-align: top;\n",
       "    }\n",
       "\n",
       "    .dataframe thead th {\n",
       "        text-align: right;\n",
       "    }\n",
       "</style>\n",
       "<table border=\"1\" class=\"dataframe\">\n",
       "  <thead>\n",
       "    <tr style=\"text-align: right;\">\n",
       "      <th></th>\n",
       "      <th>RECORD_TIME</th>\n",
       "    </tr>\n",
       "  </thead>\n",
       "  <tbody>\n",
       "    <tr>\n",
       "      <th>0</th>\n",
       "      <td>2021-12-21 02:00</td>\n",
       "    </tr>\n",
       "    <tr>\n",
       "      <th>1</th>\n",
       "      <td>2021-12-21 01:30</td>\n",
       "    </tr>\n",
       "  </tbody>\n",
       "</table>\n",
       "</div>"
      ],
      "text/plain": [
       "        RECORD_TIME\n",
       "0  2021-12-21 02:00\n",
       "1  2021-12-21 01:30"
      ]
     },
     "execution_count": 3,
     "metadata": {},
     "output_type": "execute_result"
    }
   ],
   "source": [
    "timestamps"
   ]
  },
  {
   "cell_type": "code",
   "execution_count": 4,
   "id": "alternate-victory",
   "metadata": {
    "execution": {
     "iopub.execute_input": "2021-12-21T01:00:09.771369Z",
     "iopub.status.busy": "2021-12-21T01:00:09.769502Z",
     "iopub.status.idle": "2021-12-21T01:00:11.397424Z",
     "shell.execute_reply": "2021-12-21T01:00:11.399442Z"
    },
    "papermill": {
     "duration": 1.65894,
     "end_time": "2021-12-21T01:00:11.399951",
     "exception": false,
     "start_time": "2021-12-21T01:00:09.741011",
     "status": "completed"
    },
    "tags": []
   },
   "outputs": [],
   "source": [
    "df = pd.read_sql(\"select * from EBAY_TOP_BERLIN where record_time in (select distinct record_time from EBAY_TOP_BERLIN order by record_time desc limit 2)\", sqlite3.connect(\"UsedObjects.db\"))"
   ]
  },
  {
   "cell_type": "code",
   "execution_count": 5,
   "id": "popular-active",
   "metadata": {
    "execution": {
     "iopub.execute_input": "2021-12-21T01:00:11.473493Z",
     "iopub.status.busy": "2021-12-21T01:00:11.461038Z",
     "iopub.status.idle": "2021-12-21T01:00:11.492334Z",
     "shell.execute_reply": "2021-12-21T01:00:11.493841Z"
    },
    "papermill": {
     "duration": 0.073001,
     "end_time": "2021-12-21T01:00:11.494305",
     "exception": false,
     "start_time": "2021-12-21T01:00:11.421304",
     "status": "completed"
    },
    "tags": []
   },
   "outputs": [],
   "source": [
    "df_pivot = df.pivot_table(index=\"PRODUCT\", columns = \"RECORD_TIME\", values = \"LISTING_COUNT\")"
   ]
  },
  {
   "cell_type": "code",
   "execution_count": 6,
   "id": "union-huntington",
   "metadata": {
    "execution": {
     "iopub.execute_input": "2021-12-21T01:00:11.554206Z",
     "iopub.status.busy": "2021-12-21T01:00:11.551868Z",
     "iopub.status.idle": "2021-12-21T01:00:11.560078Z",
     "shell.execute_reply": "2021-12-21T01:00:11.558539Z"
    },
    "papermill": {
     "duration": 0.046399,
     "end_time": "2021-12-21T01:00:11.560481",
     "exception": false,
     "start_time": "2021-12-21T01:00:11.514082",
     "status": "completed"
    },
    "tags": []
   },
   "outputs": [],
   "source": [
    "df_pivot.columns = [\"stamp_1\", \"stamp_2\"]\n",
    "df_pivot_diff = df_pivot.diff(axis=1)"
   ]
  },
  {
   "cell_type": "code",
   "execution_count": 7,
   "id": "fifth-motion",
   "metadata": {
    "execution": {
     "iopub.execute_input": "2021-12-21T01:00:11.619405Z",
     "iopub.status.busy": "2021-12-21T01:00:11.616938Z",
     "iopub.status.idle": "2021-12-21T01:00:13.642243Z",
     "shell.execute_reply": "2021-12-21T01:00:13.640359Z"
    },
    "papermill": {
     "duration": 2.058965,
     "end_time": "2021-12-21T01:00:13.642700",
     "exception": false,
     "start_time": "2021-12-21T01:00:11.583735",
     "status": "completed"
    },
    "tags": []
   },
   "outputs": [
    {
     "data": {
      "text/plain": [
       "<AxesSubplot:ylabel='PRODUCT'>"
      ]
     },
     "execution_count": 7,
     "metadata": {},
     "output_type": "execute_result"
    },
    {
     "data": {
      "image/png": "[encoded data removed]",
      "text/plain": [
       "<Figure size 432x288 with 1 Axes>"
      ]
     },
     "metadata": {
      "needs_background": "light"
     },
     "output_type": "display_data"
    }
   ],
   "source": [
    "df_pivot_diff.sort_values(\"stamp_2\", ascending = False)[\"stamp_2\"].head(10).plot.barh()"
   ]
  },
  {
   "cell_type": "code",
   "execution_count": null,
   "id": "extra-executive",
   "metadata": {
    "papermill": {
     "duration": 0.022275,
     "end_time": "2021-12-21T01:00:13.689232",
     "exception": false,
     "start_time": "2021-12-21T01:00:13.666957",
     "status": "completed"
    },
    "tags": []
   },
   "outputs": [],
   "source": []
  }
 ],
 "metadata": {
  "kernelspec": {
   "display_name": "Python 3",
   "language": "python",
   "name": "python3"
  },
  "language_info": {
   "codemirror_mode": {
    "name": "ipython",
    "version": 3
   },
   "file_extension": ".py",
   "mimetype": "text/x-python",
   "name": "python",
   "nbconvert_exporter": "python",
   "pygments_lexer": "ipython3",
   "version": "3.9.5"
  },
  "papermill": {
   "default_parameters": {},
   "duration": 9.689446,
   "end_time": "2021-12-21T01:00:14.331280",
   "environment_variables": {},
   "exception": null,
   "input_path": "eBay_Overview.ipynb",
   "output_path": "eBay_Overview.ipynb",
   "parameters": {},
   "start_time": "2021-12-21T01:00:04.641834",
   "version": "2.3.3"
  }
 },
 "nbformat": 4,
 "nbformat_minor": 5
}