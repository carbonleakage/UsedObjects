{
 "cells": [
  {
   "cell_type": "code",
   "execution_count": 1,
   "id": "reverse-picking",
   "metadata": {
    "execution": {
     "iopub.execute_input": "2021-11-02T10:00:08.051004Z",
     "iopub.status.busy": "2021-11-02T10:00:08.048387Z",
     "iopub.status.idle": "2021-11-02T10:00:08.967654Z",
     "shell.execute_reply": "2021-11-02T10:00:08.969414Z"
    },
    "papermill": {
     "duration": 0.960629,
     "end_time": "2021-11-02T10:00:08.970208",
     "exception": false,
     "start_time": "2021-11-02T10:00:08.009579",
     "status": "completed"
    },
    "tags": []
   },
   "outputs": [],
   "source": [
    "import pandas as pd\n",
    "import sqlite3"
   ]
  },
  {
   "cell_type": "code",
   "execution_count": 2,
   "id": "innovative-syndrome",
   "metadata": {
    "execution": {
     "iopub.execute_input": "2021-11-02T10:00:09.026760Z",
     "iopub.status.busy": "2021-11-02T10:00:09.024321Z",
     "iopub.status.idle": "2021-11-02T10:00:09.744251Z",
     "shell.execute_reply": "2021-11-02T10:00:09.745928Z"
    },
    "papermill": {
     "duration": 0.753429,
     "end_time": "2021-11-02T10:00:09.746423",
     "exception": false,
     "start_time": "2021-11-02T10:00:08.992994",
     "status": "completed"
    },
    "tags": []
   },
   "outputs": [],
   "source": [
    "timestamps = pd.read_sql(\"select distinct record_time from EBAY_TOP_BERLIN order by record_time desc limit 2\", sqlite3.connect(\"UsedObjects.db\"))"
   ]
  },
  {
   "cell_type": "code",
   "execution_count": 3,
   "id": "periodic-identification",
   "metadata": {
    "execution": {
     "iopub.execute_input": "2021-11-02T10:00:09.819234Z",
     "iopub.status.busy": "2021-11-02T10:00:09.816980Z",
     "iopub.status.idle": "2021-11-02T10:00:09.841884Z",
     "shell.execute_reply": "2021-11-02T10:00:09.843531Z"
    },
    "papermill": {
     "duration": 0.077327,
     "end_time": "2021-11-02T10:00:09.844102",
     "exception": false,
     "start_time": "2021-11-02T10:00:09.766775",
     "status": "completed"
    },
    "tags": []
   },
   "outputs": [
    {
     "data": {
      "text/html": [
       "<div>\n",
       "<style scoped>\n",
       "    .dataframe tbody tr th:only-of-type {\n",
       "        vertical-align: middle;\n",
       "    }\n",
       "\n",
       "    .dataframe tbody tr th {\n",
       "        vertical-align: top;\n",
       "    }\n",
       "\n",
       "    .dataframe thead th {\n",
       "        text-align: right;\n",
       "    }\n",
       "</style>\n",
       "<table border=\"1\" class=\"dataframe\">\n",
       "  <thead>\n",
       "    <tr style=\"text-align: right;\">\n",
       "      <th></th>\n",
       "      <th>RECORD_TIME</th>\n",
       "    </tr>\n",
       "  </thead>\n",
       "  <tbody>\n",
       "    <tr>\n",
       "      <th>0</th>\n",
       "      <td>2021-11-02 11:00</td>\n",
       "    </tr>\n",
       "    <tr>\n",
       "      <th>1</th>\n",
       "      <td>2021-11-02 10:30</td>\n",
       "    </tr>\n",
       "  </tbody>\n",
       "</table>\n",
       "</div>"
      ],
      "text/plain": [
       "        RECORD_TIME\n",
       "0  2021-11-02 11:00\n",
       "1  2021-11-02 10:30"
      ]
     },
     "execution_count": 3,
     "metadata": {},
     "output_type": "execute_result"
    }
   ],
   "source": [
    "timestamps"
   ]
  },
  {
   "cell_type": "code",
   "execution_count": 4,
   "id": "alternate-victory",
   "metadata": {
    "execution": {
     "iopub.execute_input": "2021-11-02T10:00:09.899220Z",
     "iopub.status.busy": "2021-11-02T10:00:09.897000Z",
     "iopub.status.idle": "2021-11-02T10:00:10.921983Z",
     "shell.execute_reply": "2021-11-02T10:00:10.923600Z"
    },
    "papermill": {
     "duration": 1.05801,
     "end_time": "2021-11-02T10:00:10.924077",
     "exception": false,
     "start_time": "2021-11-02T10:00:09.866067",
     "status": "completed"
    },
    "tags": []
   },
   "outputs": [],
   "source": [
    "df = pd.read_sql(\"select * from EBAY_TOP_BERLIN where record_time in (select distinct record_time from EBAY_TOP_BERLIN order by record_time desc limit 2)\", sqlite3.connect(\"UsedObjects.db\"))"
   ]
  },
  {
   "cell_type": "code",
   "execution_count": 5,
   "id": "popular-active",
   "metadata": {
    "execution": {
     "iopub.execute_input": "2021-11-02T10:00:10.997561Z",
     "iopub.status.busy": "2021-11-02T10:00:10.988404Z",
     "iopub.status.idle": "2021-11-02T10:00:11.020742Z",
     "shell.execute_reply": "2021-11-02T10:00:11.022209Z"
    },
    "papermill": {
     "duration": 0.077183,
     "end_time": "2021-11-02T10:00:11.022669",
     "exception": false,
     "start_time": "2021-11-02T10:00:10.945486",
     "status": "completed"
    },
    "tags": []
   },
   "outputs": [],
   "source": [
    "df_pivot = df.pivot_table(index=\"PRODUCT\", columns = \"RECORD_TIME\", values = \"LISTING_COUNT\")"
   ]
  },
  {
   "cell_type": "code",
   "execution_count": 6,
   "id": "union-huntington",
   "metadata": {
    "execution": {
     "iopub.execute_input": "2021-11-02T10:00:11.080164Z",
     "iopub.status.busy": "2021-11-02T10:00:11.077990Z",
     "iopub.status.idle": "2021-11-02T10:00:11.085435Z",
     "shell.execute_reply": "2021-11-02T10:00:11.083789Z"
    },
    "papermill": {
     "duration": 0.043496,
     "end_time": "2021-11-02T10:00:11.085838",
     "exception": false,
     "start_time": "2021-11-02T10:00:11.042342",
     "status": "completed"
    },
    "tags": []
   },
   "outputs": [],
   "source": [
    "df_pivot.columns = [\"stamp_1\", \"stamp_2\"]\n",
    "df_pivot_diff = df_pivot.diff(axis=1)"
   ]
  },
  {
   "cell_type": "code",
   "execution_count": 7,
   "id": "fifth-motion",
   "metadata": {
    "execution": {
     "iopub.execute_input": "2021-11-02T10:00:11.147553Z",
     "iopub.status.busy": "2021-11-02T10:00:11.142953Z",
     "iopub.status.idle": "2021-11-02T10:00:13.093451Z",
     "shell.execute_reply": "2021-11-02T10:00:13.094810Z"
    },
    "papermill": {
     "duration": 1.988744,
     "end_time": "2021-11-02T10:00:13.095295",
     "exception": false,
     "start_time": "2021-11-02T10:00:11.106551",
     "status": "completed"
    },
    "tags": []
   },
   "outputs": [
    {
     "data": {
      "text/plain": [
       "<AxesSubplot:ylabel='PRODUCT'>"
      ]
     },
     "execution_count": 7,
     "metadata": {},
     "output_type": "execute_result"
    },
    {
     "data": {
      "image/png": "[encoded data removed]",
      "text/plain": [
       "<Figure size 432x288 with 1 Axes>"
      ]
     },
     "metadata": {
      "needs_background": "light"
     },
     "output_type": "display_data"
    }
   ],
   "source": [
    "df_pivot_diff.sort_values(\"stamp_2\", ascending = False)[\"stamp_2\"].head(10).plot.barh()"
   ]
  },
  {
   "cell_type": "code",
   "execution_count": null,
   "id": "extra-executive",
   "metadata": {
    "papermill": {
     "duration": 0.023159,
     "end_time": "2021-11-02T10:00:13.142300",
     "exception": false,
     "start_time": "2021-11-02T10:00:13.119141",
     "status": "completed"
    },
    "tags": []
   },
   "outputs": [],
   "source": []
  }
 ],
 "metadata": {
  "kernelspec": {
   "display_name": "Python 3",
   "language": "python",
   "name": "python3"
  },
  "language_info": {
   "codemirror_mode": {
    "name": "ipython",
    "version": 3
   },
   "file_extension": ".py",
   "mimetype": "text/x-python",
   "name": "python",
   "nbconvert_exporter": "python",
   "pygments_lexer": "ipython3",
   "version": "3.9.5"
  },
  "papermill": {
   "default_parameters": {},
   "duration": 8.689211,
   "end_time": "2021-11-02T10:00:13.992999",
   "environment_variables": {},
   "exception": null,
   "input_path": "eBay_Overview.ipynb",
   "output_path": "eBay_Overview.ipynb",
   "parameters": {},
   "start_time": "2021-11-02T10:00:05.303788",
   "version": "2.3.3"
  }
 },
 "nbformat": 4,
 "nbformat_minor": 5
}