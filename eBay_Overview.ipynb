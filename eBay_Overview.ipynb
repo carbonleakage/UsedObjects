{
 "cells": [
  {
   "cell_type": "code",
   "execution_count": 1,
   "id": "reverse-picking",
   "metadata": {
    "execution": {
     "iopub.execute_input": "2021-11-05T15:30:08.229029Z",
     "iopub.status.busy": "2021-11-05T15:30:08.216404Z",
     "iopub.status.idle": "2021-11-05T15:30:09.178236Z",
     "shell.execute_reply": "2021-11-05T15:30:09.179781Z"
    },
    "papermill": {
     "duration": 1.000679,
     "end_time": "2021-11-05T15:30:09.180497",
     "exception": false,
     "start_time": "2021-11-05T15:30:08.179818",
     "status": "completed"
    },
    "tags": []
   },
   "outputs": [],
   "source": [
    "import pandas as pd\n",
    "import sqlite3"
   ]
  },
  {
   "cell_type": "code",
   "execution_count": 2,
   "id": "innovative-syndrome",
   "metadata": {
    "execution": {
     "iopub.execute_input": "2021-11-05T15:30:09.244542Z",
     "iopub.status.busy": "2021-11-05T15:30:09.242103Z",
     "iopub.status.idle": "2021-11-05T15:30:09.965611Z",
     "shell.execute_reply": "2021-11-05T15:30:09.967076Z"
    },
    "papermill": {
     "duration": 0.757624,
     "end_time": "2021-11-05T15:30:09.967572",
     "exception": false,
     "start_time": "2021-11-05T15:30:09.209948",
     "status": "completed"
    },
    "tags": []
   },
   "outputs": [],
   "source": [
    "timestamps = pd.read_sql(\"select distinct record_time from EBAY_TOP_BERLIN order by record_time desc limit 2\", sqlite3.connect(\"UsedObjects.db\"))"
   ]
  },
  {
   "cell_type": "code",
   "execution_count": 3,
   "id": "periodic-identification",
   "metadata": {
    "execution": {
     "iopub.execute_input": "2021-11-05T15:30:10.040650Z",
     "iopub.status.busy": "2021-11-05T15:30:10.038022Z",
     "iopub.status.idle": "2021-11-05T15:30:10.061584Z",
     "shell.execute_reply": "2021-11-05T15:30:10.063049Z"
    },
    "papermill": {
     "duration": 0.075336,
     "end_time": "2021-11-05T15:30:10.063555",
     "exception": false,
     "start_time": "2021-11-05T15:30:09.988219",
     "status": "completed"
    },
    "tags": []
   },
   "outputs": [
    {
     "data": {
      "text/html": [
       "<div>\n",
       "<style scoped>\n",
       "    .dataframe tbody tr th:only-of-type {\n",
       "        vertical-align: middle;\n",
       "    }\n",
       "\n",
       "    .dataframe tbody tr th {\n",
       "        vertical-align: top;\n",
       "    }\n",
       "\n",
       "    .dataframe thead th {\n",
       "        text-align: right;\n",
       "    }\n",
       "</style>\n",
       "<table border=\"1\" class=\"dataframe\">\n",
       "  <thead>\n",
       "    <tr style=\"text-align: right;\">\n",
       "      <th></th>\n",
       "      <th>RECORD_TIME</th>\n",
       "    </tr>\n",
       "  </thead>\n",
       "  <tbody>\n",
       "    <tr>\n",
       "      <th>0</th>\n",
       "      <td>2021-11-05 16:30</td>\n",
       "    </tr>\n",
       "    <tr>\n",
       "      <th>1</th>\n",
       "      <td>2021-11-05 16:00</td>\n",
       "    </tr>\n",
       "  </tbody>\n",
       "</table>\n",
       "</div>"
      ],
      "text/plain": [
       "        RECORD_TIME\n",
       "0  2021-11-05 16:30\n",
       "1  2021-11-05 16:00"
      ]
     },
     "execution_count": 3,
     "metadata": {},
     "output_type": "execute_result"
    }
   ],
   "source": [
    "timestamps"
   ]
  },
  {
   "cell_type": "code",
   "execution_count": 4,
   "id": "alternate-victory",
   "metadata": {
    "execution": {
     "iopub.execute_input": "2021-11-05T15:30:10.120527Z",
     "iopub.status.busy": "2021-11-05T15:30:10.118238Z",
     "iopub.status.idle": "2021-11-05T15:30:11.183254Z",
     "shell.execute_reply": "2021-11-05T15:30:11.184446Z"
    },
    "papermill": {
     "duration": 1.099536,
     "end_time": "2021-11-05T15:30:11.185036",
     "exception": false,
     "start_time": "2021-11-05T15:30:10.085500",
     "status": "completed"
    },
    "tags": []
   },
   "outputs": [],
   "source": [
    "df = pd.read_sql(\"select * from EBAY_TOP_BERLIN where record_time in (select distinct record_time from EBAY_TOP_BERLIN order by record_time desc limit 2)\", sqlite3.connect(\"UsedObjects.db\"))"
   ]
  },
  {
   "cell_type": "code",
   "execution_count": 5,
   "id": "popular-active",
   "metadata": {
    "execution": {
     "iopub.execute_input": "2021-11-05T15:30:11.256232Z",
     "iopub.status.busy": "2021-11-05T15:30:11.244629Z",
     "iopub.status.idle": "2021-11-05T15:30:11.273385Z",
     "shell.execute_reply": "2021-11-05T15:30:11.274746Z"
    },
    "papermill": {
     "duration": 0.069553,
     "end_time": "2021-11-05T15:30:11.275214",
     "exception": false,
     "start_time": "2021-11-05T15:30:11.205661",
     "status": "completed"
    },
    "tags": []
   },
   "outputs": [],
   "source": [
    "df_pivot = df.pivot_table(index=\"PRODUCT\", columns = \"RECORD_TIME\", values = \"LISTING_COUNT\")"
   ]
  },
  {
   "cell_type": "code",
   "execution_count": 6,
   "id": "union-huntington",
   "metadata": {
    "execution": {
     "iopub.execute_input": "2021-11-05T15:30:11.337782Z",
     "iopub.status.busy": "2021-11-05T15:30:11.335552Z",
     "iopub.status.idle": "2021-11-05T15:30:11.340933Z",
     "shell.execute_reply": "2021-11-05T15:30:11.342482Z"
    },
    "papermill": {
     "duration": 0.047721,
     "end_time": "2021-11-05T15:30:11.342979",
     "exception": false,
     "start_time": "2021-11-05T15:30:11.295258",
     "status": "completed"
    },
    "tags": []
   },
   "outputs": [],
   "source": [
    "df_pivot.columns = [\"stamp_1\", \"stamp_2\"]\n",
    "df_pivot_diff = df_pivot.diff(axis=1)"
   ]
  },
  {
   "cell_type": "code",
   "execution_count": 7,
   "id": "fifth-motion",
   "metadata": {
    "execution": {
     "iopub.execute_input": "2021-11-05T15:30:11.400631Z",
     "iopub.status.busy": "2021-11-05T15:30:11.396156Z",
     "iopub.status.idle": "2021-11-05T15:30:13.193446Z",
     "shell.execute_reply": "2021-11-05T15:30:13.194879Z"
    },
    "papermill": {
     "duration": 1.829589,
     "end_time": "2021-11-05T15:30:13.195363",
     "exception": false,
     "start_time": "2021-11-05T15:30:11.365774",
     "status": "completed"
    },
    "tags": []
   },
   "outputs": [
    {
     "data": {
      "text/plain": [
       "<AxesSubplot:ylabel='PRODUCT'>"
      ]
     },
     "execution_count": 7,
     "metadata": {},
     "output_type": "execute_result"
    },
    {
     "data": {
      "image/png": "[encoded data removed]",
      "text/plain": [
       "<Figure size 432x288 with 1 Axes>"
      ]
     },
     "metadata": {
      "needs_background": "light"
     },
     "output_type": "display_data"
    }
   ],
   "source": [
    "df_pivot_diff.sort_values(\"stamp_2\", ascending = False)[\"stamp_2\"].head(10).plot.barh()"
   ]
  },
  {
   "cell_type": "code",
   "execution_count": null,
   "id": "extra-executive",
   "metadata": {
    "papermill": {
     "duration": 0.057977,
     "end_time": "2021-11-05T15:30:13.278782",
     "exception": false,
     "start_time": "2021-11-05T15:30:13.220805",
     "status": "completed"
    },
    "tags": []
   },
   "outputs": [],
   "source": []
  }
 ],
 "metadata": {
  "kernelspec": {
   "display_name": "Python 3",
   "language": "python",
   "name": "python3"
  },
  "language_info": {
   "codemirror_mode": {
    "name": "ipython",
    "version": 3
   },
   "file_extension": ".py",
   "mimetype": "text/x-python",
   "name": "python",
   "nbconvert_exporter": "python",
   "pygments_lexer": "ipython3",
   "version": "3.9.5"
  },
  "papermill": {
   "default_parameters": {},
   "duration": 11.050189,
   "end_time": "2021-11-05T15:30:16.370774",
   "environment_variables": {},
   "exception": null,
   "input_path": "eBay_Overview.ipynb",
   "output_path": "eBay_Overview.ipynb",
   "parameters": {},
   "start_time": "2021-11-05T15:30:05.320585",
   "version": "2.3.3"
  }
 },
 "nbformat": 4,
 "nbformat_minor": 5
}