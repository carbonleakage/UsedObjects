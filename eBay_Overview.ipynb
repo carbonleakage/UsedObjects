{
 "cells": [
  {
   "cell_type": "code",
   "execution_count": 1,
   "id": "reverse-picking",
   "metadata": {
    "execution": {
     "iopub.execute_input": "2021-11-30T08:30:07.782804Z",
     "iopub.status.busy": "2021-11-30T08:30:07.780385Z",
     "iopub.status.idle": "2021-11-30T08:30:08.728967Z",
     "shell.execute_reply": "2021-11-30T08:30:08.730595Z"
    },
    "papermill": {
     "duration": 0.998264,
     "end_time": "2021-11-30T08:30:08.731360",
     "exception": false,
     "start_time": "2021-11-30T08:30:07.733096",
     "status": "completed"
    },
    "tags": []
   },
   "outputs": [],
   "source": [
    "import pandas as pd\n",
    "import sqlite3"
   ]
  },
  {
   "cell_type": "code",
   "execution_count": 2,
   "id": "innovative-syndrome",
   "metadata": {
    "execution": {
     "iopub.execute_input": "2021-11-30T08:30:08.804003Z",
     "iopub.status.busy": "2021-11-30T08:30:08.800377Z",
     "iopub.status.idle": "2021-11-30T08:30:09.734031Z",
     "shell.execute_reply": "2021-11-30T08:30:09.735422Z"
    },
    "papermill": {
     "duration": 0.977272,
     "end_time": "2021-11-30T08:30:09.735871",
     "exception": false,
     "start_time": "2021-11-30T08:30:08.758599",
     "status": "completed"
    },
    "tags": []
   },
   "outputs": [],
   "source": [
    "timestamps = pd.read_sql(\"select distinct record_time from EBAY_TOP_BERLIN order by record_time desc limit 2\", sqlite3.connect(\"UsedObjects.db\"))"
   ]
  },
  {
   "cell_type": "code",
   "execution_count": 3,
   "id": "periodic-identification",
   "metadata": {
    "execution": {
     "iopub.execute_input": "2021-11-30T08:30:09.802417Z",
     "iopub.status.busy": "2021-11-30T08:30:09.800307Z",
     "iopub.status.idle": "2021-11-30T08:30:09.821088Z",
     "shell.execute_reply": "2021-11-30T08:30:09.822509Z"
    },
    "papermill": {
     "duration": 0.067645,
     "end_time": "2021-11-30T08:30:09.822938",
     "exception": false,
     "start_time": "2021-11-30T08:30:09.755293",
     "status": "completed"
    },
    "tags": []
   },
   "outputs": [
    {
     "data": {
      "text/html": [
       "<div>\n",
       "<style scoped>\n",
       "    .dataframe tbody tr th:only-of-type {\n",
       "        vertical-align: middle;\n",
       "    }\n",
       "\n",
       "    .dataframe tbody tr th {\n",
       "        vertical-align: top;\n",
       "    }\n",
       "\n",
       "    .dataframe thead th {\n",
       "        text-align: right;\n",
       "    }\n",
       "</style>\n",
       "<table border=\"1\" class=\"dataframe\">\n",
       "  <thead>\n",
       "    <tr style=\"text-align: right;\">\n",
       "      <th></th>\n",
       "      <th>RECORD_TIME</th>\n",
       "    </tr>\n",
       "  </thead>\n",
       "  <tbody>\n",
       "    <tr>\n",
       "      <th>0</th>\n",
       "      <td>2021-11-30 09:30</td>\n",
       "    </tr>\n",
       "    <tr>\n",
       "      <th>1</th>\n",
       "      <td>2021-11-30 09:00</td>\n",
       "    </tr>\n",
       "  </tbody>\n",
       "</table>\n",
       "</div>"
      ],
      "text/plain": [
       "        RECORD_TIME\n",
       "0  2021-11-30 09:30\n",
       "1  2021-11-30 09:00"
      ]
     },
     "execution_count": 3,
     "metadata": {},
     "output_type": "execute_result"
    }
   ],
   "source": [
    "timestamps"
   ]
  },
  {
   "cell_type": "code",
   "execution_count": 4,
   "id": "alternate-victory",
   "metadata": {
    "execution": {
     "iopub.execute_input": "2021-11-30T08:30:09.874171Z",
     "iopub.status.busy": "2021-11-30T08:30:09.872080Z",
     "iopub.status.idle": "2021-11-30T08:30:11.278798Z",
     "shell.execute_reply": "2021-11-30T08:30:11.280098Z"
    },
    "papermill": {
     "duration": 1.43653,
     "end_time": "2021-11-30T08:30:11.280521",
     "exception": false,
     "start_time": "2021-11-30T08:30:09.843991",
     "status": "completed"
    },
    "tags": []
   },
   "outputs": [],
   "source": [
    "df = pd.read_sql(\"select * from EBAY_TOP_BERLIN where record_time in (select distinct record_time from EBAY_TOP_BERLIN order by record_time desc limit 2)\", sqlite3.connect(\"UsedObjects.db\"))"
   ]
  },
  {
   "cell_type": "code",
   "execution_count": 5,
   "id": "popular-active",
   "metadata": {
    "execution": {
     "iopub.execute_input": "2021-11-30T08:30:11.352187Z",
     "iopub.status.busy": "2021-11-30T08:30:11.349095Z",
     "iopub.status.idle": "2021-11-30T08:30:11.382346Z",
     "shell.execute_reply": "2021-11-30T08:30:11.383682Z"
    },
    "papermill": {
     "duration": 0.076694,
     "end_time": "2021-11-30T08:30:11.384161",
     "exception": false,
     "start_time": "2021-11-30T08:30:11.307467",
     "status": "completed"
    },
    "tags": []
   },
   "outputs": [],
   "source": [
    "df_pivot = df.pivot_table(index=\"PRODUCT\", columns = \"RECORD_TIME\", values = \"LISTING_COUNT\")"
   ]
  },
  {
   "cell_type": "code",
   "execution_count": 6,
   "id": "union-huntington",
   "metadata": {
    "execution": {
     "iopub.execute_input": "2021-11-30T08:30:11.442787Z",
     "iopub.status.busy": "2021-11-30T08:30:11.440547Z",
     "iopub.status.idle": "2021-11-30T08:30:11.445532Z",
     "shell.execute_reply": "2021-11-30T08:30:11.447343Z"
    },
    "papermill": {
     "duration": 0.043718,
     "end_time": "2021-11-30T08:30:11.447817",
     "exception": false,
     "start_time": "2021-11-30T08:30:11.404099",
     "status": "completed"
    },
    "tags": []
   },
   "outputs": [],
   "source": [
    "df_pivot.columns = [\"stamp_1\", \"stamp_2\"]\n",
    "df_pivot_diff = df_pivot.diff(axis=1)"
   ]
  },
  {
   "cell_type": "code",
   "execution_count": 7,
   "id": "fifth-motion",
   "metadata": {
    "execution": {
     "iopub.execute_input": "2021-11-30T08:30:11.505177Z",
     "iopub.status.busy": "2021-11-30T08:30:11.502610Z",
     "iopub.status.idle": "2021-11-30T08:30:13.478227Z",
     "shell.execute_reply": "2021-11-30T08:30:13.475834Z"
    },
    "papermill": {
     "duration": 2.011048,
     "end_time": "2021-11-30T08:30:13.478744",
     "exception": false,
     "start_time": "2021-11-30T08:30:11.467696",
     "status": "completed"
    },
    "tags": []
   },
   "outputs": [
    {
     "data": {
      "text/plain": [
       "<AxesSubplot:ylabel='PRODUCT'>"
      ]
     },
     "execution_count": 7,
     "metadata": {},
     "output_type": "execute_result"
    },
    {
     "data": {
      "image/png": "[encoded data removed]",
      "text/plain": [
       "<Figure size 432x288 with 1 Axes>"
      ]
     },
     "metadata": {
      "needs_background": "light"
     },
     "output_type": "display_data"
    }
   ],
   "source": [
    "df_pivot_diff.sort_values(\"stamp_2\", ascending = False)[\"stamp_2\"].head(10).plot.barh()"
   ]
  },
  {
   "cell_type": "code",
   "execution_count": null,
   "id": "extra-executive",
   "metadata": {
    "papermill": {
     "duration": 0.023584,
     "end_time": "2021-11-30T08:30:13.527666",
     "exception": false,
     "start_time": "2021-11-30T08:30:13.504082",
     "status": "completed"
    },
    "tags": []
   },
   "outputs": [],
   "source": []
  }
 ],
 "metadata": {
  "kernelspec": {
   "display_name": "Python 3",
   "language": "python",
   "name": "python3"
  },
  "language_info": {
   "codemirror_mode": {
    "name": "ipython",
    "version": 3
   },
   "file_extension": ".py",
   "mimetype": "text/x-python",
   "name": "python",
   "nbconvert_exporter": "python",
   "pygments_lexer": "ipython3",
   "version": "3.9.5"
  },
  "papermill": {
   "default_parameters": {},
   "duration": 9.937213,
   "end_time": "2021-11-30T08:30:14.945572",
   "environment_variables": {},
   "exception": null,
   "input_path": "eBay_Overview.ipynb",
   "output_path": "eBay_Overview.ipynb",
   "parameters": {},
   "start_time": "2021-11-30T08:30:05.008359",
   "version": "2.3.3"
  }
 },
 "nbformat": 4,
 "nbformat_minor": 5
}