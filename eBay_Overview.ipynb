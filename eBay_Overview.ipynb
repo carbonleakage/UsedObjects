{
 "cells": [
  {
   "cell_type": "code",
   "execution_count": 1,
   "id": "reverse-picking",
   "metadata": {
    "execution": {
     "iopub.execute_input": "2021-09-25T03:00:07.475388Z",
     "iopub.status.busy": "2021-09-25T03:00:07.473360Z",
     "iopub.status.idle": "2021-09-25T03:00:08.281306Z",
     "shell.execute_reply": "2021-09-25T03:00:08.279742Z"
    },
    "papermill": {
     "duration": 0.857182,
     "end_time": "2021-09-25T03:00:08.281695",
     "exception": false,
     "start_time": "2021-09-25T03:00:07.424513",
     "status": "completed"
    },
    "tags": []
   },
   "outputs": [],
   "source": [
    "import pandas as pd\n",
    "import sqlite3"
   ]
  },
  {
   "cell_type": "code",
   "execution_count": 2,
   "id": "innovative-syndrome",
   "metadata": {
    "execution": {
     "iopub.execute_input": "2021-09-25T03:00:08.335785Z",
     "iopub.status.busy": "2021-09-25T03:00:08.333371Z",
     "iopub.status.idle": "2021-09-25T03:00:08.704090Z",
     "shell.execute_reply": "2021-09-25T03:00:08.705432Z"
    },
    "papermill": {
     "duration": 0.400954,
     "end_time": "2021-09-25T03:00:08.705840",
     "exception": false,
     "start_time": "2021-09-25T03:00:08.304886",
     "status": "completed"
    },
    "tags": []
   },
   "outputs": [],
   "source": [
    "timestamps = pd.read_sql(\"select distinct record_time from EBAY_TOP_BERLIN order by record_time desc limit 2\", sqlite3.connect(\"UsedObjects.db\"))"
   ]
  },
  {
   "cell_type": "code",
   "execution_count": 3,
   "id": "periodic-identification",
   "metadata": {
    "execution": {
     "iopub.execute_input": "2021-09-25T03:00:08.772705Z",
     "iopub.status.busy": "2021-09-25T03:00:08.770508Z",
     "iopub.status.idle": "2021-09-25T03:00:08.793165Z",
     "shell.execute_reply": "2021-09-25T03:00:08.794462Z"
    },
    "papermill": {
     "duration": 0.069819,
     "end_time": "2021-09-25T03:00:08.795037",
     "exception": false,
     "start_time": "2021-09-25T03:00:08.725218",
     "status": "completed"
    },
    "tags": []
   },
   "outputs": [
    {
     "data": {
      "text/html": [
       "<div>\n",
       "<style scoped>\n",
       "    .dataframe tbody tr th:only-of-type {\n",
       "        vertical-align: middle;\n",
       "    }\n",
       "\n",
       "    .dataframe tbody tr th {\n",
       "        vertical-align: top;\n",
       "    }\n",
       "\n",
       "    .dataframe thead th {\n",
       "        text-align: right;\n",
       "    }\n",
       "</style>\n",
       "<table border=\"1\" class=\"dataframe\">\n",
       "  <thead>\n",
       "    <tr style=\"text-align: right;\">\n",
       "      <th></th>\n",
       "      <th>RECORD_TIME</th>\n",
       "    </tr>\n",
       "  </thead>\n",
       "  <tbody>\n",
       "    <tr>\n",
       "      <th>0</th>\n",
       "      <td>2021-09-25 05:00</td>\n",
       "    </tr>\n",
       "    <tr>\n",
       "      <th>1</th>\n",
       "      <td>2021-09-25 04:30</td>\n",
       "    </tr>\n",
       "  </tbody>\n",
       "</table>\n",
       "</div>"
      ],
      "text/plain": [
       "        RECORD_TIME\n",
       "0  2021-09-25 05:00\n",
       "1  2021-09-25 04:30"
      ]
     },
     "execution_count": 3,
     "metadata": {},
     "output_type": "execute_result"
    }
   ],
   "source": [
    "timestamps"
   ]
  },
  {
   "cell_type": "code",
   "execution_count": 4,
   "id": "alternate-victory",
   "metadata": {
    "execution": {
     "iopub.execute_input": "2021-09-25T03:00:08.848635Z",
     "iopub.status.busy": "2021-09-25T03:00:08.846536Z",
     "iopub.status.idle": "2021-09-25T03:00:09.427014Z",
     "shell.execute_reply": "2021-09-25T03:00:09.428533Z"
    },
    "papermill": {
     "duration": 0.611218,
     "end_time": "2021-09-25T03:00:09.428990",
     "exception": false,
     "start_time": "2021-09-25T03:00:08.817772",
     "status": "completed"
    },
    "tags": []
   },
   "outputs": [],
   "source": [
    "df = pd.read_sql(\"select * from EBAY_TOP_BERLIN where record_time in (select distinct record_time from EBAY_TOP_BERLIN order by record_time desc limit 2)\", sqlite3.connect(\"UsedObjects.db\"))"
   ]
  },
  {
   "cell_type": "code",
   "execution_count": 5,
   "id": "popular-active",
   "metadata": {
    "execution": {
     "iopub.execute_input": "2021-09-25T03:00:09.516348Z",
     "iopub.status.busy": "2021-09-25T03:00:09.503964Z",
     "iopub.status.idle": "2021-09-25T03:00:09.532077Z",
     "shell.execute_reply": "2021-09-25T03:00:09.533305Z"
    },
    "papermill": {
     "duration": 0.0752,
     "end_time": "2021-09-25T03:00:09.533693",
     "exception": false,
     "start_time": "2021-09-25T03:00:09.458493",
     "status": "completed"
    },
    "tags": []
   },
   "outputs": [],
   "source": [
    "df_pivot = df.pivot_table(index=\"PRODUCT\", columns = \"RECORD_TIME\", values = \"LISTING_COUNT\")"
   ]
  },
  {
   "cell_type": "code",
   "execution_count": 6,
   "id": "union-huntington",
   "metadata": {
    "execution": {
     "iopub.execute_input": "2021-09-25T03:00:09.589569Z",
     "iopub.status.busy": "2021-09-25T03:00:09.587499Z",
     "iopub.status.idle": "2021-09-25T03:00:09.592598Z",
     "shell.execute_reply": "2021-09-25T03:00:09.593873Z"
    },
    "papermill": {
     "duration": 0.04,
     "end_time": "2021-09-25T03:00:09.594278",
     "exception": false,
     "start_time": "2021-09-25T03:00:09.554278",
     "status": "completed"
    },
    "tags": []
   },
   "outputs": [],
   "source": [
    "df_pivot.columns = [\"stamp_1\", \"stamp_2\"]\n",
    "df_pivot_diff = df_pivot.diff(axis=1)"
   ]
  },
  {
   "cell_type": "code",
   "execution_count": 7,
   "id": "fifth-motion",
   "metadata": {
    "execution": {
     "iopub.execute_input": "2021-09-25T03:00:09.648836Z",
     "iopub.status.busy": "2021-09-25T03:00:09.646245Z",
     "iopub.status.idle": "2021-09-25T03:00:11.160054Z",
     "shell.execute_reply": "2021-09-25T03:00:11.161363Z"
    },
    "papermill": {
     "duration": 1.547218,
     "end_time": "2021-09-25T03:00:11.161770",
     "exception": false,
     "start_time": "2021-09-25T03:00:09.614552",
     "status": "completed"
    },
    "tags": []
   },
   "outputs": [
    {
     "data": {
      "text/plain": [
       "<AxesSubplot:ylabel='PRODUCT'>"
      ]
     },
     "execution_count": 7,
     "metadata": {},
     "output_type": "execute_result"
    },
    {
     "data": {
      "image/png": "[encoded data removed]",
      "text/plain": [
       "<Figure size 432x288 with 1 Axes>"
      ]
     },
     "metadata": {
      "needs_background": "light"
     },
     "output_type": "display_data"
    }
   ],
   "source": [
    "df_pivot_diff.sort_values(\"stamp_2\", ascending = False)[\"stamp_2\"].head(10).plot.barh()"
   ]
  },
  {
   "cell_type": "code",
   "execution_count": null,
   "id": "extra-executive",
   "metadata": {
    "papermill": {
     "duration": 0.022132,
     "end_time": "2021-09-25T03:00:11.208305",
     "exception": false,
     "start_time": "2021-09-25T03:00:11.186173",
     "status": "completed"
    },
    "tags": []
   },
   "outputs": [],
   "source": []
  }
 ],
 "metadata": {
  "kernelspec": {
   "display_name": "Python 3",
   "language": "python",
   "name": "python3"
  },
  "language_info": {
   "codemirror_mode": {
    "name": "ipython",
    "version": 3
   },
   "file_extension": ".py",
   "mimetype": "text/x-python",
   "name": "python",
   "nbconvert_exporter": "python",
   "pygments_lexer": "ipython3",
   "version": "3.9.5"
  },
  "papermill": {
   "default_parameters": {},
   "duration": 7.823797,
   "end_time": "2021-09-25T03:00:12.845514",
   "environment_variables": {},
   "exception": null,
   "input_path": "eBay_Overview.ipynb",
   "output_path": "eBay_Overview.ipynb",
   "parameters": {},
   "start_time": "2021-09-25T03:00:05.021717",
   "version": "2.3.3"
  }
 },
 "nbformat": 4,
 "nbformat_minor": 5
}