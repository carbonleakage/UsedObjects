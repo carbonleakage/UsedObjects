{
 "cells": [
  {
   "cell_type": "code",
   "execution_count": 1,
   "id": "reverse-picking",
   "metadata": {
    "execution": {
     "iopub.execute_input": "2021-10-06T16:00:06.543069Z",
     "iopub.status.busy": "2021-10-06T16:00:06.541083Z",
     "iopub.status.idle": "2021-10-06T16:00:07.345477Z",
     "shell.execute_reply": "2021-10-06T16:00:07.346838Z"
    },
    "papermill": {
     "duration": 0.856987,
     "end_time": "2021-10-06T16:00:07.347497",
     "exception": false,
     "start_time": "2021-10-06T16:00:06.490510",
     "status": "completed"
    },
    "tags": []
   },
   "outputs": [],
   "source": [
    "import pandas as pd\n",
    "import sqlite3"
   ]
  },
  {
   "cell_type": "code",
   "execution_count": 2,
   "id": "innovative-syndrome",
   "metadata": {
    "execution": {
     "iopub.execute_input": "2021-10-06T16:00:07.398591Z",
     "iopub.status.busy": "2021-10-06T16:00:07.396636Z",
     "iopub.status.idle": "2021-10-06T16:00:07.856413Z",
     "shell.execute_reply": "2021-10-06T16:00:07.857617Z"
    },
    "papermill": {
     "duration": 0.490124,
     "end_time": "2021-10-06T16:00:07.858019",
     "exception": false,
     "start_time": "2021-10-06T16:00:07.367895",
     "status": "completed"
    },
    "tags": []
   },
   "outputs": [],
   "source": [
    "timestamps = pd.read_sql(\"select distinct record_time from EBAY_TOP_BERLIN order by record_time desc limit 2\", sqlite3.connect(\"UsedObjects.db\"))"
   ]
  },
  {
   "cell_type": "code",
   "execution_count": 3,
   "id": "periodic-identification",
   "metadata": {
    "execution": {
     "iopub.execute_input": "2021-10-06T16:00:07.923110Z",
     "iopub.status.busy": "2021-10-06T16:00:07.921039Z",
     "iopub.status.idle": "2021-10-06T16:00:07.940674Z",
     "shell.execute_reply": "2021-10-06T16:00:07.941882Z"
    },
    "papermill": {
     "duration": 0.064852,
     "end_time": "2021-10-06T16:00:07.942277",
     "exception": false,
     "start_time": "2021-10-06T16:00:07.877425",
     "status": "completed"
    },
    "tags": []
   },
   "outputs": [
    {
     "data": {
      "text/html": [
       "<div>\n",
       "<style scoped>\n",
       "    .dataframe tbody tr th:only-of-type {\n",
       "        vertical-align: middle;\n",
       "    }\n",
       "\n",
       "    .dataframe tbody tr th {\n",
       "        vertical-align: top;\n",
       "    }\n",
       "\n",
       "    .dataframe thead th {\n",
       "        text-align: right;\n",
       "    }\n",
       "</style>\n",
       "<table border=\"1\" class=\"dataframe\">\n",
       "  <thead>\n",
       "    <tr style=\"text-align: right;\">\n",
       "      <th></th>\n",
       "      <th>RECORD_TIME</th>\n",
       "    </tr>\n",
       "  </thead>\n",
       "  <tbody>\n",
       "    <tr>\n",
       "      <th>0</th>\n",
       "      <td>2021-10-06 18:00</td>\n",
       "    </tr>\n",
       "    <tr>\n",
       "      <th>1</th>\n",
       "      <td>2021-10-06 17:30</td>\n",
       "    </tr>\n",
       "  </tbody>\n",
       "</table>\n",
       "</div>"
      ],
      "text/plain": [
       "        RECORD_TIME\n",
       "0  2021-10-06 18:00\n",
       "1  2021-10-06 17:30"
      ]
     },
     "execution_count": 3,
     "metadata": {},
     "output_type": "execute_result"
    }
   ],
   "source": [
    "timestamps"
   ]
  },
  {
   "cell_type": "code",
   "execution_count": 4,
   "id": "alternate-victory",
   "metadata": {
    "execution": {
     "iopub.execute_input": "2021-10-06T16:00:08.003647Z",
     "iopub.status.busy": "2021-10-06T16:00:08.001571Z",
     "iopub.status.idle": "2021-10-06T16:00:08.696588Z",
     "shell.execute_reply": "2021-10-06T16:00:08.697806Z"
    },
    "papermill": {
     "duration": 0.72829,
     "end_time": "2021-10-06T16:00:08.698200",
     "exception": false,
     "start_time": "2021-10-06T16:00:07.969910",
     "status": "completed"
    },
    "tags": []
   },
   "outputs": [],
   "source": [
    "df = pd.read_sql(\"select * from EBAY_TOP_BERLIN where record_time in (select distinct record_time from EBAY_TOP_BERLIN order by record_time desc limit 2)\", sqlite3.connect(\"UsedObjects.db\"))"
   ]
  },
  {
   "cell_type": "code",
   "execution_count": 5,
   "id": "popular-active",
   "metadata": {
    "execution": {
     "iopub.execute_input": "2021-10-06T16:00:08.772801Z",
     "iopub.status.busy": "2021-10-06T16:00:08.761565Z",
     "iopub.status.idle": "2021-10-06T16:00:08.788367Z",
     "shell.execute_reply": "2021-10-06T16:00:08.789576Z"
    },
    "papermill": {
     "duration": 0.068826,
     "end_time": "2021-10-06T16:00:08.789968",
     "exception": false,
     "start_time": "2021-10-06T16:00:08.721142",
     "status": "completed"
    },
    "tags": []
   },
   "outputs": [],
   "source": [
    "df_pivot = df.pivot_table(index=\"PRODUCT\", columns = \"RECORD_TIME\", values = \"LISTING_COUNT\")"
   ]
  },
  {
   "cell_type": "code",
   "execution_count": 6,
   "id": "union-huntington",
   "metadata": {
    "execution": {
     "iopub.execute_input": "2021-10-06T16:00:08.849883Z",
     "iopub.status.busy": "2021-10-06T16:00:08.847431Z",
     "iopub.status.idle": "2021-10-06T16:00:08.853585Z",
     "shell.execute_reply": "2021-10-06T16:00:08.855113Z"
    },
    "papermill": {
     "duration": 0.043087,
     "end_time": "2021-10-06T16:00:08.855587",
     "exception": false,
     "start_time": "2021-10-06T16:00:08.812500",
     "status": "completed"
    },
    "tags": []
   },
   "outputs": [],
   "source": [
    "df_pivot.columns = [\"stamp_1\", \"stamp_2\"]\n",
    "df_pivot_diff = df_pivot.diff(axis=1)"
   ]
  },
  {
   "cell_type": "code",
   "execution_count": 7,
   "id": "fifth-motion",
   "metadata": {
    "execution": {
     "iopub.execute_input": "2021-10-06T16:00:08.912162Z",
     "iopub.status.busy": "2021-10-06T16:00:08.909604Z",
     "iopub.status.idle": "2021-10-06T16:00:10.395003Z",
     "shell.execute_reply": "2021-10-06T16:00:10.396286Z"
    },
    "papermill": {
     "duration": 1.518845,
     "end_time": "2021-10-06T16:00:10.396698",
     "exception": false,
     "start_time": "2021-10-06T16:00:08.877853",
     "status": "completed"
    },
    "tags": []
   },
   "outputs": [
    {
     "data": {
      "text/plain": [
       "<AxesSubplot:ylabel='PRODUCT'>"
      ]
     },
     "execution_count": 7,
     "metadata": {},
     "output_type": "execute_result"
    },
    {
     "data": {
      "image/png": "[encoded data removed]",
      "text/plain": [
       "<Figure size 432x288 with 1 Axes>"
      ]
     },
     "metadata": {
      "needs_background": "light"
     },
     "output_type": "display_data"
    }
   ],
   "source": [
    "df_pivot_diff.sort_values(\"stamp_2\", ascending = False)[\"stamp_2\"].head(10).plot.barh()"
   ]
  },
  {
   "cell_type": "code",
   "execution_count": null,
   "id": "extra-executive",
   "metadata": {
    "papermill": {
     "duration": 0.022576,
     "end_time": "2021-10-06T16:00:10.443728",
     "exception": false,
     "start_time": "2021-10-06T16:00:10.421152",
     "status": "completed"
    },
    "tags": []
   },
   "outputs": [],
   "source": []
  }
 ],
 "metadata": {
  "kernelspec": {
   "display_name": "Python 3",
   "language": "python",
   "name": "python3"
  },
  "language_info": {
   "codemirror_mode": {
    "name": "ipython",
    "version": 3
   },
   "file_extension": ".py",
   "mimetype": "text/x-python",
   "name": "python",
   "nbconvert_exporter": "python",
   "pygments_lexer": "ipython3",
   "version": "3.9.5"
  },
  "papermill": {
   "default_parameters": {},
   "duration": 7.819296,
   "end_time": "2021-10-06T16:00:11.905157",
   "environment_variables": {},
   "exception": null,
   "input_path": "eBay_Overview.ipynb",
   "output_path": "eBay_Overview.ipynb",
   "parameters": {},
   "start_time": "2021-10-06T16:00:04.085861",
   "version": "2.3.3"
  }
 },
 "nbformat": 4,
 "nbformat_minor": 5
}