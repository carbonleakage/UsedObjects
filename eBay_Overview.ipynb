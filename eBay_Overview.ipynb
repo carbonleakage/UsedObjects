{
 "cells": [
  {
   "cell_type": "code",
   "execution_count": 1,
   "id": "reverse-picking",
   "metadata": {
    "execution": {
     "iopub.execute_input": "2021-08-31T05:00:07.148719Z",
     "iopub.status.busy": "2021-08-31T05:00:07.146721Z",
     "iopub.status.idle": "2021-08-31T05:00:07.950676Z",
     "shell.execute_reply": "2021-08-31T05:00:07.951917Z"
    },
    "papermill": {
     "duration": 0.854444,
     "end_time": "2021-08-31T05:00:07.952613",
     "exception": false,
     "start_time": "2021-08-31T05:00:07.098169",
     "status": "completed"
    },
    "tags": []
   },
   "outputs": [],
   "source": [
    "import pandas as pd\n",
    "import sqlite3"
   ]
  },
  {
   "cell_type": "code",
   "execution_count": 2,
   "id": "innovative-syndrome",
   "metadata": {
    "execution": {
     "iopub.execute_input": "2021-08-31T05:00:08.003536Z",
     "iopub.status.busy": "2021-08-31T05:00:08.001693Z",
     "iopub.status.idle": "2021-08-31T05:00:08.170014Z",
     "shell.execute_reply": "2021-08-31T05:00:08.171218Z"
    },
    "papermill": {
     "duration": 0.197936,
     "end_time": "2021-08-31T05:00:08.171610",
     "exception": false,
     "start_time": "2021-08-31T05:00:07.973674",
     "status": "completed"
    },
    "tags": []
   },
   "outputs": [],
   "source": [
    "timestamps = pd.read_sql(\"select distinct record_time from EBAY_TOP_BERLIN order by record_time desc limit 2\", sqlite3.connect(\"UsedObjects.db\"))"
   ]
  },
  {
   "cell_type": "code",
   "execution_count": 3,
   "id": "periodic-identification",
   "metadata": {
    "execution": {
     "iopub.execute_input": "2021-08-31T05:00:08.235845Z",
     "iopub.status.busy": "2021-08-31T05:00:08.233838Z",
     "iopub.status.idle": "2021-08-31T05:00:08.253767Z",
     "shell.execute_reply": "2021-08-31T05:00:08.254888Z"
    },
    "papermill": {
     "duration": 0.06416,
     "end_time": "2021-08-31T05:00:08.255294",
     "exception": false,
     "start_time": "2021-08-31T05:00:08.191134",
     "status": "completed"
    },
    "tags": []
   },
   "outputs": [
    {
     "data": {
      "text/html": [
       "<div>\n",
       "<style scoped>\n",
       "    .dataframe tbody tr th:only-of-type {\n",
       "        vertical-align: middle;\n",
       "    }\n",
       "\n",
       "    .dataframe tbody tr th {\n",
       "        vertical-align: top;\n",
       "    }\n",
       "\n",
       "    .dataframe thead th {\n",
       "        text-align: right;\n",
       "    }\n",
       "</style>\n",
       "<table border=\"1\" class=\"dataframe\">\n",
       "  <thead>\n",
       "    <tr style=\"text-align: right;\">\n",
       "      <th></th>\n",
       "      <th>RECORD_TIME</th>\n",
       "    </tr>\n",
       "  </thead>\n",
       "  <tbody>\n",
       "    <tr>\n",
       "      <th>0</th>\n",
       "      <td>2021-08-31 07:00</td>\n",
       "    </tr>\n",
       "    <tr>\n",
       "      <th>1</th>\n",
       "      <td>2021-08-31 06:30</td>\n",
       "    </tr>\n",
       "  </tbody>\n",
       "</table>\n",
       "</div>"
      ],
      "text/plain": [
       "        RECORD_TIME\n",
       "0  2021-08-31 07:00\n",
       "1  2021-08-31 06:30"
      ]
     },
     "execution_count": 3,
     "metadata": {},
     "output_type": "execute_result"
    }
   ],
   "source": [
    "timestamps"
   ]
  },
  {
   "cell_type": "code",
   "execution_count": 4,
   "id": "alternate-victory",
   "metadata": {
    "execution": {
     "iopub.execute_input": "2021-08-31T05:00:08.309926Z",
     "iopub.status.busy": "2021-08-31T05:00:08.307536Z",
     "iopub.status.idle": "2021-08-31T05:00:08.558635Z",
     "shell.execute_reply": "2021-08-31T05:00:08.559922Z"
    },
    "papermill": {
     "duration": 0.281748,
     "end_time": "2021-08-31T05:00:08.560396",
     "exception": false,
     "start_time": "2021-08-31T05:00:08.278648",
     "status": "completed"
    },
    "tags": []
   },
   "outputs": [],
   "source": [
    "df = pd.read_sql(\"select * from EBAY_TOP_BERLIN where record_time in (select distinct record_time from EBAY_TOP_BERLIN order by record_time desc limit 2)\", sqlite3.connect(\"UsedObjects.db\"))"
   ]
  },
  {
   "cell_type": "code",
   "execution_count": 5,
   "id": "popular-active",
   "metadata": {
    "execution": {
     "iopub.execute_input": "2021-08-31T05:00:08.640585Z",
     "iopub.status.busy": "2021-08-31T05:00:08.628654Z",
     "iopub.status.idle": "2021-08-31T05:00:08.656783Z",
     "shell.execute_reply": "2021-08-31T05:00:08.658153Z"
    },
    "papermill": {
     "duration": 0.072215,
     "end_time": "2021-08-31T05:00:08.658588",
     "exception": false,
     "start_time": "2021-08-31T05:00:08.586373",
     "status": "completed"
    },
    "tags": []
   },
   "outputs": [],
   "source": [
    "df_pivot = df.pivot_table(index=\"PRODUCT\", columns = \"RECORD_TIME\", values = \"LISTING_COUNT\")"
   ]
  },
  {
   "cell_type": "code",
   "execution_count": 6,
   "id": "union-huntington",
   "metadata": {
    "execution": {
     "iopub.execute_input": "2021-08-31T05:00:08.717579Z",
     "iopub.status.busy": "2021-08-31T05:00:08.715127Z",
     "iopub.status.idle": "2021-08-31T05:00:08.720870Z",
     "shell.execute_reply": "2021-08-31T05:00:08.722146Z"
    },
    "papermill": {
     "duration": 0.042044,
     "end_time": "2021-08-31T05:00:08.722557",
     "exception": false,
     "start_time": "2021-08-31T05:00:08.680513",
     "status": "completed"
    },
    "tags": []
   },
   "outputs": [],
   "source": [
    "df_pivot.columns = [\"stamp_1\", \"stamp_2\"]\n",
    "df_pivot_diff = df_pivot.diff(axis=1)"
   ]
  },
  {
   "cell_type": "code",
   "execution_count": 7,
   "id": "fifth-motion",
   "metadata": {
    "execution": {
     "iopub.execute_input": "2021-08-31T05:00:08.775410Z",
     "iopub.status.busy": "2021-08-31T05:00:08.773253Z",
     "iopub.status.idle": "2021-08-31T05:00:10.244903Z",
     "shell.execute_reply": "2021-08-31T05:00:10.246189Z"
    },
    "papermill": {
     "duration": 1.504213,
     "end_time": "2021-08-31T05:00:10.246606",
     "exception": false,
     "start_time": "2021-08-31T05:00:08.742393",
     "status": "completed"
    },
    "tags": []
   },
   "outputs": [
    {
     "data": {
      "text/plain": [
       "<AxesSubplot:ylabel='PRODUCT'>"
      ]
     },
     "execution_count": 7,
     "metadata": {},
     "output_type": "execute_result"
    },
    {
     "data": {
      "image/png": "[encoded data removed]",
      "text/plain": [
       "<Figure size 432x288 with 1 Axes>"
      ]
     },
     "metadata": {
      "needs_background": "light"
     },
     "output_type": "display_data"
    }
   ],
   "source": [
    "df_pivot_diff.sort_values(\"stamp_2\", ascending = False)[\"stamp_2\"].head(10).plot.barh()"
   ]
  },
  {
   "cell_type": "code",
   "execution_count": null,
   "id": "extra-executive",
   "metadata": {
    "papermill": {
     "duration": 0.022166,
     "end_time": "2021-08-31T05:00:10.293647",
     "exception": false,
     "start_time": "2021-08-31T05:00:10.271481",
     "status": "completed"
    },
    "tags": []
   },
   "outputs": [],
   "source": []
  }
 ],
 "metadata": {
  "kernelspec": {
   "display_name": "Python 3",
   "language": "python",
   "name": "python3"
  },
  "language_info": {
   "codemirror_mode": {
    "name": "ipython",
    "version": 3
   },
   "file_extension": ".py",
   "mimetype": "text/x-python",
   "name": "python",
   "nbconvert_exporter": "python",
   "pygments_lexer": "ipython3",
   "version": "3.9.5"
  },
  "papermill": {
   "default_parameters": {},
   "duration": 6.822001,
   "end_time": "2021-08-31T05:00:11.514518",
   "environment_variables": {},
   "exception": null,
   "input_path": "eBay_Overview.ipynb",
   "output_path": "eBay_Overview.ipynb",
   "parameters": {},
   "start_time": "2021-08-31T05:00:04.692517",
   "version": "2.3.3"
  }
 },
 "nbformat": 4,
 "nbformat_minor": 5
}