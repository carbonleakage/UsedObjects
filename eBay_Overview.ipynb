{
 "cells": [
  {
   "cell_type": "code",
   "execution_count": 1,
   "id": "reverse-picking",
   "metadata": {
    "execution": {
     "iopub.execute_input": "2021-09-10T09:00:06.585014Z",
     "iopub.status.busy": "2021-09-10T09:00:06.583041Z",
     "iopub.status.idle": "2021-09-10T09:00:07.394708Z",
     "shell.execute_reply": "2021-09-10T09:00:07.393150Z"
    },
    "papermill": {
     "duration": 0.864346,
     "end_time": "2021-09-10T09:00:07.395308",
     "exception": false,
     "start_time": "2021-09-10T09:00:06.530962",
     "status": "completed"
    },
    "tags": []
   },
   "outputs": [],
   "source": [
    "import pandas as pd\n",
    "import sqlite3"
   ]
  },
  {
   "cell_type": "code",
   "execution_count": 2,
   "id": "innovative-syndrome",
   "metadata": {
    "execution": {
     "iopub.execute_input": "2021-09-10T09:00:07.448298Z",
     "iopub.status.busy": "2021-09-10T09:00:07.445906Z",
     "iopub.status.idle": "2021-09-10T09:00:07.697692Z",
     "shell.execute_reply": "2021-09-10T09:00:07.699028Z"
    },
    "papermill": {
     "duration": 0.281909,
     "end_time": "2021-09-10T09:00:07.699457",
     "exception": false,
     "start_time": "2021-09-10T09:00:07.417548",
     "status": "completed"
    },
    "tags": []
   },
   "outputs": [],
   "source": [
    "timestamps = pd.read_sql(\"select distinct record_time from EBAY_TOP_BERLIN order by record_time desc limit 2\", sqlite3.connect(\"UsedObjects.db\"))"
   ]
  },
  {
   "cell_type": "code",
   "execution_count": 3,
   "id": "periodic-identification",
   "metadata": {
    "execution": {
     "iopub.execute_input": "2021-09-10T09:00:07.766798Z",
     "iopub.status.busy": "2021-09-10T09:00:07.764659Z",
     "iopub.status.idle": "2021-09-10T09:00:07.785390Z",
     "shell.execute_reply": "2021-09-10T09:00:07.786677Z"
    },
    "papermill": {
     "duration": 0.06811,
     "end_time": "2021-09-10T09:00:07.787162",
     "exception": false,
     "start_time": "2021-09-10T09:00:07.719052",
     "status": "completed"
    },
    "tags": []
   },
   "outputs": [
    {
     "data": {
      "text/html": [
       "<div>\n",
       "<style scoped>\n",
       "    .dataframe tbody tr th:only-of-type {\n",
       "        vertical-align: middle;\n",
       "    }\n",
       "\n",
       "    .dataframe tbody tr th {\n",
       "        vertical-align: top;\n",
       "    }\n",
       "\n",
       "    .dataframe thead th {\n",
       "        text-align: right;\n",
       "    }\n",
       "</style>\n",
       "<table border=\"1\" class=\"dataframe\">\n",
       "  <thead>\n",
       "    <tr style=\"text-align: right;\">\n",
       "      <th></th>\n",
       "      <th>RECORD_TIME</th>\n",
       "    </tr>\n",
       "  </thead>\n",
       "  <tbody>\n",
       "    <tr>\n",
       "      <th>0</th>\n",
       "      <td>2021-09-10 11:00</td>\n",
       "    </tr>\n",
       "    <tr>\n",
       "      <th>1</th>\n",
       "      <td>2021-09-10 10:30</td>\n",
       "    </tr>\n",
       "  </tbody>\n",
       "</table>\n",
       "</div>"
      ],
      "text/plain": [
       "        RECORD_TIME\n",
       "0  2021-09-10 11:00\n",
       "1  2021-09-10 10:30"
      ]
     },
     "execution_count": 3,
     "metadata": {},
     "output_type": "execute_result"
    }
   ],
   "source": [
    "timestamps"
   ]
  },
  {
   "cell_type": "code",
   "execution_count": 4,
   "id": "alternate-victory",
   "metadata": {
    "execution": {
     "iopub.execute_input": "2021-09-10T09:00:07.838593Z",
     "iopub.status.busy": "2021-09-10T09:00:07.836761Z",
     "iopub.status.idle": "2021-09-10T09:00:08.216320Z",
     "shell.execute_reply": "2021-09-10T09:00:08.217530Z"
    },
    "papermill": {
     "duration": 0.409451,
     "end_time": "2021-09-10T09:00:08.217925",
     "exception": false,
     "start_time": "2021-09-10T09:00:07.808474",
     "status": "completed"
    },
    "tags": []
   },
   "outputs": [],
   "source": [
    "df = pd.read_sql(\"select * from EBAY_TOP_BERLIN where record_time in (select distinct record_time from EBAY_TOP_BERLIN order by record_time desc limit 2)\", sqlite3.connect(\"UsedObjects.db\"))"
   ]
  },
  {
   "cell_type": "code",
   "execution_count": 5,
   "id": "popular-active",
   "metadata": {
    "execution": {
     "iopub.execute_input": "2021-09-10T09:00:08.298984Z",
     "iopub.status.busy": "2021-09-10T09:00:08.287917Z",
     "iopub.status.idle": "2021-09-10T09:00:08.316896Z",
     "shell.execute_reply": "2021-09-10T09:00:08.318192Z"
    },
    "papermill": {
     "duration": 0.073368,
     "end_time": "2021-09-10T09:00:08.318608",
     "exception": false,
     "start_time": "2021-09-10T09:00:08.245240",
     "status": "completed"
    },
    "tags": []
   },
   "outputs": [],
   "source": [
    "df_pivot = df.pivot_table(index=\"PRODUCT\", columns = \"RECORD_TIME\", values = \"LISTING_COUNT\")"
   ]
  },
  {
   "cell_type": "code",
   "execution_count": 6,
   "id": "union-huntington",
   "metadata": {
    "execution": {
     "iopub.execute_input": "2021-09-10T09:00:08.375223Z",
     "iopub.status.busy": "2021-09-10T09:00:08.373063Z",
     "iopub.status.idle": "2021-09-10T09:00:08.378708Z",
     "shell.execute_reply": "2021-09-10T09:00:08.380057Z"
    },
    "papermill": {
     "duration": 0.04179,
     "end_time": "2021-09-10T09:00:08.380475",
     "exception": false,
     "start_time": "2021-09-10T09:00:08.338685",
     "status": "completed"
    },
    "tags": []
   },
   "outputs": [],
   "source": [
    "df_pivot.columns = [\"stamp_1\", \"stamp_2\"]\n",
    "df_pivot_diff = df_pivot.diff(axis=1)"
   ]
  },
  {
   "cell_type": "code",
   "execution_count": 7,
   "id": "fifth-motion",
   "metadata": {
    "execution": {
     "iopub.execute_input": "2021-09-10T09:00:08.434414Z",
     "iopub.status.busy": "2021-09-10T09:00:08.432007Z",
     "iopub.status.idle": "2021-09-10T09:00:09.929733Z",
     "shell.execute_reply": "2021-09-10T09:00:09.931413Z"
    },
    "papermill": {
     "duration": 1.53113,
     "end_time": "2021-09-10T09:00:09.931959",
     "exception": false,
     "start_time": "2021-09-10T09:00:08.400829",
     "status": "completed"
    },
    "tags": []
   },
   "outputs": [
    {
     "data": {
      "text/plain": [
       "<AxesSubplot:ylabel='PRODUCT'>"
      ]
     },
     "execution_count": 7,
     "metadata": {},
     "output_type": "execute_result"
    },
    {
     "data": {
      "image/png": "[encoded data removed]",
      "text/plain": [
       "<Figure size 432x288 with 1 Axes>"
      ]
     },
     "metadata": {
      "needs_background": "light"
     },
     "output_type": "display_data"
    }
   ],
   "source": [
    "df_pivot_diff.sort_values(\"stamp_2\", ascending = False)[\"stamp_2\"].head(10).plot.barh()"
   ]
  },
  {
   "cell_type": "code",
   "execution_count": null,
   "id": "extra-executive",
   "metadata": {
    "papermill": {
     "duration": 0.022179,
     "end_time": "2021-09-10T09:00:09.978485",
     "exception": false,
     "start_time": "2021-09-10T09:00:09.956306",
     "status": "completed"
    },
    "tags": []
   },
   "outputs": [],
   "source": []
  }
 ],
 "metadata": {
  "kernelspec": {
   "display_name": "Python 3",
   "language": "python",
   "name": "python3"
  },
  "language_info": {
   "codemirror_mode": {
    "name": "ipython",
    "version": 3
   },
   "file_extension": ".py",
   "mimetype": "text/x-python",
   "name": "python",
   "nbconvert_exporter": "python",
   "pygments_lexer": "ipython3",
   "version": "3.9.5"
  },
  "papermill": {
   "default_parameters": {},
   "duration": 6.509637,
   "end_time": "2021-09-10T09:00:10.620252",
   "environment_variables": {},
   "exception": null,
   "input_path": "eBay_Overview.ipynb",
   "output_path": "eBay_Overview.ipynb",
   "parameters": {},
   "start_time": "2021-09-10T09:00:04.110615",
   "version": "2.3.3"
  }
 },
 "nbformat": 4,
 "nbformat_minor": 5
}