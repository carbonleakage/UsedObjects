{
 "cells": [
  {
   "cell_type": "code",
   "execution_count": 1,
   "id": "reverse-picking",
   "metadata": {
    "execution": {
     "iopub.execute_input": "2021-08-29T08:30:06.760669Z",
     "iopub.status.busy": "2021-08-29T08:30:06.758671Z",
     "iopub.status.idle": "2021-08-29T08:30:07.563213Z",
     "shell.execute_reply": "2021-08-29T08:30:07.561484Z"
    },
    "papermill": {
     "duration": 0.854512,
     "end_time": "2021-08-29T08:30:07.563647",
     "exception": false,
     "start_time": "2021-08-29T08:30:06.709135",
     "status": "completed"
    },
    "tags": []
   },
   "outputs": [],
   "source": [
    "import pandas as pd\n",
    "import sqlite3"
   ]
  },
  {
   "cell_type": "code",
   "execution_count": 2,
   "id": "innovative-syndrome",
   "metadata": {
    "execution": {
     "iopub.execute_input": "2021-08-29T08:30:07.614866Z",
     "iopub.status.busy": "2021-08-29T08:30:07.612584Z",
     "iopub.status.idle": "2021-08-29T08:30:07.770150Z",
     "shell.execute_reply": "2021-08-29T08:30:07.771342Z"
    },
    "papermill": {
     "duration": 0.187589,
     "end_time": "2021-08-29T08:30:07.771742",
     "exception": false,
     "start_time": "2021-08-29T08:30:07.584153",
     "status": "completed"
    },
    "tags": []
   },
   "outputs": [],
   "source": [
    "timestamps = pd.read_sql(\"select distinct record_time from EBAY_TOP_BERLIN order by record_time desc limit 2\", sqlite3.connect(\"UsedObjects.db\"))"
   ]
  },
  {
   "cell_type": "code",
   "execution_count": 3,
   "id": "periodic-identification",
   "metadata": {
    "execution": {
     "iopub.execute_input": "2021-08-29T08:30:07.837739Z",
     "iopub.status.busy": "2021-08-29T08:30:07.832446Z",
     "iopub.status.idle": "2021-08-29T08:30:07.853362Z",
     "shell.execute_reply": "2021-08-29T08:30:07.854772Z"
    },
    "papermill": {
     "duration": 0.06421,
     "end_time": "2021-08-29T08:30:07.855208",
     "exception": false,
     "start_time": "2021-08-29T08:30:07.790998",
     "status": "completed"
    },
    "tags": []
   },
   "outputs": [
    {
     "data": {
      "text/html": [
       "<div>\n",
       "<style scoped>\n",
       "    .dataframe tbody tr th:only-of-type {\n",
       "        vertical-align: middle;\n",
       "    }\n",
       "\n",
       "    .dataframe tbody tr th {\n",
       "        vertical-align: top;\n",
       "    }\n",
       "\n",
       "    .dataframe thead th {\n",
       "        text-align: right;\n",
       "    }\n",
       "</style>\n",
       "<table border=\"1\" class=\"dataframe\">\n",
       "  <thead>\n",
       "    <tr style=\"text-align: right;\">\n",
       "      <th></th>\n",
       "      <th>RECORD_TIME</th>\n",
       "    </tr>\n",
       "  </thead>\n",
       "  <tbody>\n",
       "    <tr>\n",
       "      <th>0</th>\n",
       "      <td>2021-08-29 10:30</td>\n",
       "    </tr>\n",
       "    <tr>\n",
       "      <th>1</th>\n",
       "      <td>2021-08-29 10:00</td>\n",
       "    </tr>\n",
       "  </tbody>\n",
       "</table>\n",
       "</div>"
      ],
      "text/plain": [
       "        RECORD_TIME\n",
       "0  2021-08-29 10:30\n",
       "1  2021-08-29 10:00"
      ]
     },
     "execution_count": 3,
     "metadata": {},
     "output_type": "execute_result"
    }
   ],
   "source": [
    "timestamps"
   ]
  },
  {
   "cell_type": "code",
   "execution_count": 4,
   "id": "alternate-victory",
   "metadata": {
    "execution": {
     "iopub.execute_input": "2021-08-29T08:30:07.908131Z",
     "iopub.status.busy": "2021-08-29T08:30:07.905857Z",
     "iopub.status.idle": "2021-08-29T08:30:08.141057Z",
     "shell.execute_reply": "2021-08-29T08:30:08.142270Z"
    },
    "papermill": {
     "duration": 0.265478,
     "end_time": "2021-08-29T08:30:08.142666",
     "exception": false,
     "start_time": "2021-08-29T08:30:07.877188",
     "status": "completed"
    },
    "tags": []
   },
   "outputs": [],
   "source": [
    "df = pd.read_sql(\"select * from EBAY_TOP_BERLIN where record_time in (select distinct record_time from EBAY_TOP_BERLIN order by record_time desc limit 2)\", sqlite3.connect(\"UsedObjects.db\"))"
   ]
  },
  {
   "cell_type": "code",
   "execution_count": 5,
   "id": "popular-active",
   "metadata": {
    "execution": {
     "iopub.execute_input": "2021-08-29T08:30:08.223857Z",
     "iopub.status.busy": "2021-08-29T08:30:08.211409Z",
     "iopub.status.idle": "2021-08-29T08:30:08.239201Z",
     "shell.execute_reply": "2021-08-29T08:30:08.240396Z"
    },
    "papermill": {
     "duration": 0.074839,
     "end_time": "2021-08-29T08:30:08.240814",
     "exception": false,
     "start_time": "2021-08-29T08:30:08.165975",
     "status": "completed"
    },
    "tags": []
   },
   "outputs": [],
   "source": [
    "df_pivot = df.pivot_table(index=\"PRODUCT\", columns = \"RECORD_TIME\", values = \"LISTING_COUNT\")"
   ]
  },
  {
   "cell_type": "code",
   "execution_count": 6,
   "id": "union-huntington",
   "metadata": {
    "execution": {
     "iopub.execute_input": "2021-08-29T08:30:08.296787Z",
     "iopub.status.busy": "2021-08-29T08:30:08.294679Z",
     "iopub.status.idle": "2021-08-29T08:30:08.299943Z",
     "shell.execute_reply": "2021-08-29T08:30:08.301289Z"
    },
    "papermill": {
     "duration": 0.040261,
     "end_time": "2021-08-29T08:30:08.301711",
     "exception": false,
     "start_time": "2021-08-29T08:30:08.261450",
     "status": "completed"
    },
    "tags": []
   },
   "outputs": [],
   "source": [
    "df_pivot.columns = [\"stamp_1\", \"stamp_2\"]\n",
    "df_pivot_diff = df_pivot.diff(axis=1)"
   ]
  },
  {
   "cell_type": "code",
   "execution_count": 7,
   "id": "fifth-motion",
   "metadata": {
    "execution": {
     "iopub.execute_input": "2021-08-29T08:30:08.357511Z",
     "iopub.status.busy": "2021-08-29T08:30:08.353101Z",
     "iopub.status.idle": "2021-08-29T08:30:09.854512Z",
     "shell.execute_reply": "2021-08-29T08:30:09.855795Z"
    },
    "papermill": {
     "duration": 1.534265,
     "end_time": "2021-08-29T08:30:09.856213",
     "exception": false,
     "start_time": "2021-08-29T08:30:08.321948",
     "status": "completed"
    },
    "tags": []
   },
   "outputs": [
    {
     "data": {
      "text/plain": [
       "<AxesSubplot:ylabel='PRODUCT'>"
      ]
     },
     "execution_count": 7,
     "metadata": {},
     "output_type": "execute_result"
    },
    {
     "data": {
      "image/png": "[encoded data removed]",
      "text/plain": [
       "<Figure size 432x288 with 1 Axes>"
      ]
     },
     "metadata": {
      "needs_background": "light"
     },
     "output_type": "display_data"
    }
   ],
   "source": [
    "df_pivot_diff.sort_values(\"stamp_2\", ascending = False)[\"stamp_2\"].head(10).plot.barh()"
   ]
  },
  {
   "cell_type": "code",
   "execution_count": null,
   "id": "extra-executive",
   "metadata": {
    "papermill": {
     "duration": 0.022426,
     "end_time": "2021-08-29T08:30:09.903557",
     "exception": false,
     "start_time": "2021-08-29T08:30:09.881131",
     "status": "completed"
    },
    "tags": []
   },
   "outputs": [],
   "source": []
  }
 ],
 "metadata": {
  "kernelspec": {
   "display_name": "Python 3",
   "language": "python",
   "name": "python3"
  },
  "language_info": {
   "codemirror_mode": {
    "name": "ipython",
    "version": 3
   },
   "file_extension": ".py",
   "mimetype": "text/x-python",
   "name": "python",
   "nbconvert_exporter": "python",
   "pygments_lexer": "ipython3",
   "version": "3.9.5"
  },
  "papermill": {
   "default_parameters": {},
   "duration": 6.817561,
   "end_time": "2021-08-29T08:30:11.124929",
   "environment_variables": {},
   "exception": null,
   "input_path": "eBay_Overview.ipynb",
   "output_path": "eBay_Overview.ipynb",
   "parameters": {},
   "start_time": "2021-08-29T08:30:04.307368",
   "version": "2.3.3"
  }
 },
 "nbformat": 4,
 "nbformat_minor": 5
}