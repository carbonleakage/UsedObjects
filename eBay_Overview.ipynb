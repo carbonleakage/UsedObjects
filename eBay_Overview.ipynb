{
 "cells": [
  {
   "cell_type": "code",
   "execution_count": 1,
   "id": "reverse-picking",
   "metadata": {
    "execution": {
     "iopub.execute_input": "2021-12-12T16:00:08.193282Z",
     "iopub.status.busy": "2021-12-12T16:00:08.190913Z",
     "iopub.status.idle": "2021-12-12T16:00:09.151820Z",
     "shell.execute_reply": "2021-12-12T16:00:09.154126Z"
    },
    "papermill": {
     "duration": 1.011416,
     "end_time": "2021-12-12T16:00:09.154840",
     "exception": false,
     "start_time": "2021-12-12T16:00:08.143424",
     "status": "completed"
    },
    "tags": []
   },
   "outputs": [],
   "source": [
    "import pandas as pd\n",
    "import sqlite3"
   ]
  },
  {
   "cell_type": "code",
   "execution_count": 2,
   "id": "innovative-syndrome",
   "metadata": {
    "execution": {
     "iopub.execute_input": "2021-12-12T16:00:09.217496Z",
     "iopub.status.busy": "2021-12-12T16:00:09.215287Z",
     "iopub.status.idle": "2021-12-12T16:00:10.274520Z",
     "shell.execute_reply": "2021-12-12T16:00:10.276891Z"
    },
    "papermill": {
     "duration": 1.095422,
     "end_time": "2021-12-12T16:00:10.277418",
     "exception": false,
     "start_time": "2021-12-12T16:00:09.181996",
     "status": "completed"
    },
    "tags": []
   },
   "outputs": [],
   "source": [
    "timestamps = pd.read_sql(\"select distinct record_time from EBAY_TOP_BERLIN order by record_time desc limit 2\", sqlite3.connect(\"UsedObjects.db\"))"
   ]
  },
  {
   "cell_type": "code",
   "execution_count": 3,
   "id": "periodic-identification",
   "metadata": {
    "execution": {
     "iopub.execute_input": "2021-12-12T16:00:10.350789Z",
     "iopub.status.busy": "2021-12-12T16:00:10.348097Z",
     "iopub.status.idle": "2021-12-12T16:00:10.370373Z",
     "shell.execute_reply": "2021-12-12T16:00:10.371767Z"
    },
    "papermill": {
     "duration": 0.07112,
     "end_time": "2021-12-12T16:00:10.372238",
     "exception": false,
     "start_time": "2021-12-12T16:00:10.301118",
     "status": "completed"
    },
    "tags": []
   },
   "outputs": [
    {
     "data": {
      "text/html": [
       "<div>\n",
       "<style scoped>\n",
       "    .dataframe tbody tr th:only-of-type {\n",
       "        vertical-align: middle;\n",
       "    }\n",
       "\n",
       "    .dataframe tbody tr th {\n",
       "        vertical-align: top;\n",
       "    }\n",
       "\n",
       "    .dataframe thead th {\n",
       "        text-align: right;\n",
       "    }\n",
       "</style>\n",
       "<table border=\"1\" class=\"dataframe\">\n",
       "  <thead>\n",
       "    <tr style=\"text-align: right;\">\n",
       "      <th></th>\n",
       "      <th>RECORD_TIME</th>\n",
       "    </tr>\n",
       "  </thead>\n",
       "  <tbody>\n",
       "    <tr>\n",
       "      <th>0</th>\n",
       "      <td>2021-12-12 17:00</td>\n",
       "    </tr>\n",
       "    <tr>\n",
       "      <th>1</th>\n",
       "      <td>2021-12-12 16:30</td>\n",
       "    </tr>\n",
       "  </tbody>\n",
       "</table>\n",
       "</div>"
      ],
      "text/plain": [
       "        RECORD_TIME\n",
       "0  2021-12-12 17:00\n",
       "1  2021-12-12 16:30"
      ]
     },
     "execution_count": 3,
     "metadata": {},
     "output_type": "execute_result"
    }
   ],
   "source": [
    "timestamps"
   ]
  },
  {
   "cell_type": "code",
   "execution_count": 4,
   "id": "alternate-victory",
   "metadata": {
    "execution": {
     "iopub.execute_input": "2021-12-12T16:00:10.430582Z",
     "iopub.status.busy": "2021-12-12T16:00:10.428056Z",
     "iopub.status.idle": "2021-12-12T16:00:11.965791Z",
     "shell.execute_reply": "2021-12-12T16:00:11.967414Z"
    },
    "papermill": {
     "duration": 1.574955,
     "end_time": "2021-12-12T16:00:11.968111",
     "exception": false,
     "start_time": "2021-12-12T16:00:10.393156",
     "status": "completed"
    },
    "tags": []
   },
   "outputs": [],
   "source": [
    "df = pd.read_sql(\"select * from EBAY_TOP_BERLIN where record_time in (select distinct record_time from EBAY_TOP_BERLIN order by record_time desc limit 2)\", sqlite3.connect(\"UsedObjects.db\"))"
   ]
  },
  {
   "cell_type": "code",
   "execution_count": 5,
   "id": "popular-active",
   "metadata": {
    "execution": {
     "iopub.execute_input": "2021-12-12T16:00:12.048754Z",
     "iopub.status.busy": "2021-12-12T16:00:12.036243Z",
     "iopub.status.idle": "2021-12-12T16:00:12.074062Z",
     "shell.execute_reply": "2021-12-12T16:00:12.076504Z"
    },
    "papermill": {
     "duration": 0.084367,
     "end_time": "2021-12-12T16:00:12.077202",
     "exception": false,
     "start_time": "2021-12-12T16:00:11.992835",
     "status": "completed"
    },
    "tags": []
   },
   "outputs": [],
   "source": [
    "df_pivot = df.pivot_table(index=\"PRODUCT\", columns = \"RECORD_TIME\", values = \"LISTING_COUNT\")"
   ]
  },
  {
   "cell_type": "code",
   "execution_count": 6,
   "id": "union-huntington",
   "metadata": {
    "execution": {
     "iopub.execute_input": "2021-12-12T16:00:12.142245Z",
     "iopub.status.busy": "2021-12-12T16:00:12.139859Z",
     "iopub.status.idle": "2021-12-12T16:00:12.146545Z",
     "shell.execute_reply": "2021-12-12T16:00:12.148071Z"
    },
    "papermill": {
     "duration": 0.047816,
     "end_time": "2021-12-12T16:00:12.148556",
     "exception": false,
     "start_time": "2021-12-12T16:00:12.100740",
     "status": "completed"
    },
    "tags": []
   },
   "outputs": [],
   "source": [
    "df_pivot.columns = [\"stamp_1\", \"stamp_2\"]\n",
    "df_pivot_diff = df_pivot.diff(axis=1)"
   ]
  },
  {
   "cell_type": "code",
   "execution_count": 7,
   "id": "fifth-motion",
   "metadata": {
    "execution": {
     "iopub.execute_input": "2021-12-12T16:00:12.205271Z",
     "iopub.status.busy": "2021-12-12T16:00:12.202723Z",
     "iopub.status.idle": "2021-12-12T16:00:14.229802Z",
     "shell.execute_reply": "2021-12-12T16:00:14.231730Z"
    },
    "papermill": {
     "duration": 2.063214,
     "end_time": "2021-12-12T16:00:14.232369",
     "exception": false,
     "start_time": "2021-12-12T16:00:12.169155",
     "status": "completed"
    },
    "tags": []
   },
   "outputs": [
    {
     "data": {
      "text/plain": [
       "<AxesSubplot:ylabel='PRODUCT'>"
      ]
     },
     "execution_count": 7,
     "metadata": {},
     "output_type": "execute_result"
    },
    {
     "data": {
      "image/png": "[encoded data removed]",
      "text/plain": [
       "<Figure size 432x288 with 1 Axes>"
      ]
     },
     "metadata": {
      "needs_background": "light"
     },
     "output_type": "display_data"
    }
   ],
   "source": [
    "df_pivot_diff.sort_values(\"stamp_2\", ascending = False)[\"stamp_2\"].head(10).plot.barh()"
   ]
  },
  {
   "cell_type": "code",
   "execution_count": null,
   "id": "extra-executive",
   "metadata": {
    "papermill": {
     "duration": 0.025761,
     "end_time": "2021-12-12T16:00:14.292224",
     "exception": false,
     "start_time": "2021-12-12T16:00:14.266463",
     "status": "completed"
    },
    "tags": []
   },
   "outputs": [],
   "source": []
  }
 ],
 "metadata": {
  "kernelspec": {
   "display_name": "Python 3",
   "language": "python",
   "name": "python3"
  },
  "language_info": {
   "codemirror_mode": {
    "name": "ipython",
    "version": 3
   },
   "file_extension": ".py",
   "mimetype": "text/x-python",
   "name": "python",
   "nbconvert_exporter": "python",
   "pygments_lexer": "ipython3",
   "version": "3.9.5"
  },
  "papermill": {
   "default_parameters": {},
   "duration": 9.511056,
   "end_time": "2021-12-12T16:00:14.938418",
   "environment_variables": {},
   "exception": null,
   "input_path": "eBay_Overview.ipynb",
   "output_path": "eBay_Overview.ipynb",
   "parameters": {},
   "start_time": "2021-12-12T16:00:05.427362",
   "version": "2.3.3"
  }
 },
 "nbformat": 4,
 "nbformat_minor": 5
}