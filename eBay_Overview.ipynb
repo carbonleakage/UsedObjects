{
 "cells": [
  {
   "cell_type": "code",
   "execution_count": 1,
   "id": "reverse-picking",
   "metadata": {
    "execution": {
     "iopub.execute_input": "2021-10-03T02:30:06.603298Z",
     "iopub.status.busy": "2021-10-03T02:30:06.601272Z",
     "iopub.status.idle": "2021-10-03T02:30:07.405493Z",
     "shell.execute_reply": "2021-10-03T02:30:07.406741Z"
    },
    "papermill": {
     "duration": 0.854182,
     "end_time": "2021-10-03T02:30:07.407438",
     "exception": false,
     "start_time": "2021-10-03T02:30:06.553256",
     "status": "completed"
    },
    "tags": []
   },
   "outputs": [],
   "source": [
    "import pandas as pd\n",
    "import sqlite3"
   ]
  },
  {
   "cell_type": "code",
   "execution_count": 2,
   "id": "innovative-syndrome",
   "metadata": {
    "execution": {
     "iopub.execute_input": "2021-10-03T02:30:07.459888Z",
     "iopub.status.busy": "2021-10-03T02:30:07.457766Z",
     "iopub.status.idle": "2021-10-03T02:30:07.904239Z",
     "shell.execute_reply": "2021-10-03T02:30:07.905589Z"
    },
    "papermill": {
     "duration": 0.476153,
     "end_time": "2021-10-03T02:30:07.906027",
     "exception": false,
     "start_time": "2021-10-03T02:30:07.429874",
     "status": "completed"
    },
    "tags": []
   },
   "outputs": [],
   "source": [
    "timestamps = pd.read_sql(\"select distinct record_time from EBAY_TOP_BERLIN order by record_time desc limit 2\", sqlite3.connect(\"UsedObjects.db\"))"
   ]
  },
  {
   "cell_type": "code",
   "execution_count": 3,
   "id": "periodic-identification",
   "metadata": {
    "execution": {
     "iopub.execute_input": "2021-10-03T02:30:07.970130Z",
     "iopub.status.busy": "2021-10-03T02:30:07.967546Z",
     "iopub.status.idle": "2021-10-03T02:30:07.987868Z",
     "shell.execute_reply": "2021-10-03T02:30:07.989138Z"
    },
    "papermill": {
     "duration": 0.063542,
     "end_time": "2021-10-03T02:30:07.989536",
     "exception": false,
     "start_time": "2021-10-03T02:30:07.925994",
     "status": "completed"
    },
    "tags": []
   },
   "outputs": [
    {
     "data": {
      "text/html": [
       "<div>\n",
       "<style scoped>\n",
       "    .dataframe tbody tr th:only-of-type {\n",
       "        vertical-align: middle;\n",
       "    }\n",
       "\n",
       "    .dataframe tbody tr th {\n",
       "        vertical-align: top;\n",
       "    }\n",
       "\n",
       "    .dataframe thead th {\n",
       "        text-align: right;\n",
       "    }\n",
       "</style>\n",
       "<table border=\"1\" class=\"dataframe\">\n",
       "  <thead>\n",
       "    <tr style=\"text-align: right;\">\n",
       "      <th></th>\n",
       "      <th>RECORD_TIME</th>\n",
       "    </tr>\n",
       "  </thead>\n",
       "  <tbody>\n",
       "    <tr>\n",
       "      <th>0</th>\n",
       "      <td>2021-10-03 04:30</td>\n",
       "    </tr>\n",
       "    <tr>\n",
       "      <th>1</th>\n",
       "      <td>2021-10-03 04:00</td>\n",
       "    </tr>\n",
       "  </tbody>\n",
       "</table>\n",
       "</div>"
      ],
      "text/plain": [
       "        RECORD_TIME\n",
       "0  2021-10-03 04:30\n",
       "1  2021-10-03 04:00"
      ]
     },
     "execution_count": 3,
     "metadata": {},
     "output_type": "execute_result"
    }
   ],
   "source": [
    "timestamps"
   ]
  },
  {
   "cell_type": "code",
   "execution_count": 4,
   "id": "alternate-victory",
   "metadata": {
    "execution": {
     "iopub.execute_input": "2021-10-03T02:30:08.041871Z",
     "iopub.status.busy": "2021-10-03T02:30:08.039724Z",
     "iopub.status.idle": "2021-10-03T02:30:08.704487Z",
     "shell.execute_reply": "2021-10-03T02:30:08.703132Z"
    },
    "papermill": {
     "duration": 0.69415,
     "end_time": "2021-10-03T02:30:08.704825",
     "exception": false,
     "start_time": "2021-10-03T02:30:08.010675",
     "status": "completed"
    },
    "tags": []
   },
   "outputs": [],
   "source": [
    "df = pd.read_sql(\"select * from EBAY_TOP_BERLIN where record_time in (select distinct record_time from EBAY_TOP_BERLIN order by record_time desc limit 2)\", sqlite3.connect(\"UsedObjects.db\"))"
   ]
  },
  {
   "cell_type": "code",
   "execution_count": 5,
   "id": "popular-active",
   "metadata": {
    "execution": {
     "iopub.execute_input": "2021-10-03T02:30:08.774545Z",
     "iopub.status.busy": "2021-10-03T02:30:08.762622Z",
     "iopub.status.idle": "2021-10-03T02:30:08.792094Z",
     "shell.execute_reply": "2021-10-03T02:30:08.793468Z"
    },
    "papermill": {
     "duration": 0.06811,
     "end_time": "2021-10-03T02:30:08.793908",
     "exception": false,
     "start_time": "2021-10-03T02:30:08.725798",
     "status": "completed"
    },
    "tags": []
   },
   "outputs": [],
   "source": [
    "df_pivot = df.pivot_table(index=\"PRODUCT\", columns = \"RECORD_TIME\", values = \"LISTING_COUNT\")"
   ]
  },
  {
   "cell_type": "code",
   "execution_count": 6,
   "id": "union-huntington",
   "metadata": {
    "execution": {
     "iopub.execute_input": "2021-10-03T02:30:08.850530Z",
     "iopub.status.busy": "2021-10-03T02:30:08.848394Z",
     "iopub.status.idle": "2021-10-03T02:30:08.853984Z",
     "shell.execute_reply": "2021-10-03T02:30:08.855323Z"
    },
    "papermill": {
     "duration": 0.041552,
     "end_time": "2021-10-03T02:30:08.855783",
     "exception": false,
     "start_time": "2021-10-03T02:30:08.814231",
     "status": "completed"
    },
    "tags": []
   },
   "outputs": [],
   "source": [
    "df_pivot.columns = [\"stamp_1\", \"stamp_2\"]\n",
    "df_pivot_diff = df_pivot.diff(axis=1)"
   ]
  },
  {
   "cell_type": "code",
   "execution_count": 7,
   "id": "fifth-motion",
   "metadata": {
    "execution": {
     "iopub.execute_input": "2021-10-03T02:30:08.909991Z",
     "iopub.status.busy": "2021-10-03T02:30:08.907636Z",
     "iopub.status.idle": "2021-10-03T02:30:10.383295Z",
     "shell.execute_reply": "2021-10-03T02:30:10.384672Z"
    },
    "papermill": {
     "duration": 1.508404,
     "end_time": "2021-10-03T02:30:10.385113",
     "exception": false,
     "start_time": "2021-10-03T02:30:08.876709",
     "status": "completed"
    },
    "tags": []
   },
   "outputs": [
    {
     "data": {
      "text/plain": [
       "<AxesSubplot:ylabel='PRODUCT'>"
      ]
     },
     "execution_count": 7,
     "metadata": {},
     "output_type": "execute_result"
    },
    {
     "data": {
      "image/png": "[encoded data removed]",
      "text/plain": [
       "<Figure size 432x288 with 1 Axes>"
      ]
     },
     "metadata": {
      "needs_background": "light"
     },
     "output_type": "display_data"
    }
   ],
   "source": [
    "df_pivot_diff.sort_values(\"stamp_2\", ascending = False)[\"stamp_2\"].head(10).plot.barh()"
   ]
  },
  {
   "cell_type": "code",
   "execution_count": null,
   "id": "extra-executive",
   "metadata": {
    "papermill": {
     "duration": 0.022458,
     "end_time": "2021-10-03T02:30:10.431317",
     "exception": false,
     "start_time": "2021-10-03T02:30:10.408859",
     "status": "completed"
    },
    "tags": []
   },
   "outputs": [],
   "source": []
  }
 ],
 "metadata": {
  "kernelspec": {
   "display_name": "Python 3",
   "language": "python",
   "name": "python3"
  },
  "language_info": {
   "codemirror_mode": {
    "name": "ipython",
    "version": 3
   },
   "file_extension": ".py",
   "mimetype": "text/x-python",
   "name": "python",
   "nbconvert_exporter": "python",
   "pygments_lexer": "ipython3",
   "version": "3.9.5"
  },
  "papermill": {
   "default_parameters": {},
   "duration": 7.82169,
   "end_time": "2021-10-03T02:30:11.973076",
   "environment_variables": {},
   "exception": null,
   "input_path": "eBay_Overview.ipynb",
   "output_path": "eBay_Overview.ipynb",
   "parameters": {},
   "start_time": "2021-10-03T02:30:04.151386",
   "version": "2.3.3"
  }
 },
 "nbformat": 4,
 "nbformat_minor": 5
}