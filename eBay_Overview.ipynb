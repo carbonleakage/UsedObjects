{
 "cells": [
  {
   "cell_type": "code",
   "execution_count": 1,
   "id": "reverse-picking",
   "metadata": {
    "execution": {
     "iopub.execute_input": "2021-08-22T07:00:06.762489Z",
     "iopub.status.busy": "2021-08-22T07:00:06.760524Z",
     "iopub.status.idle": "2021-08-22T07:00:07.565179Z",
     "shell.execute_reply": "2021-08-22T07:00:07.566559Z"
    },
    "papermill": {
     "duration": 0.85716,
     "end_time": "2021-08-22T07:00:07.567220",
     "exception": false,
     "start_time": "2021-08-22T07:00:06.710060",
     "status": "completed"
    },
    "tags": []
   },
   "outputs": [],
   "source": [
    "import pandas as pd\n",
    "import sqlite3"
   ]
  },
  {
   "cell_type": "code",
   "execution_count": 2,
   "id": "innovative-syndrome",
   "metadata": {
    "execution": {
     "iopub.execute_input": "2021-08-22T07:00:07.618257Z",
     "iopub.status.busy": "2021-08-22T07:00:07.616255Z",
     "iopub.status.idle": "2021-08-22T07:00:07.716917Z",
     "shell.execute_reply": "2021-08-22T07:00:07.718353Z"
    },
    "papermill": {
     "duration": 0.130957,
     "end_time": "2021-08-22T07:00:07.718799",
     "exception": false,
     "start_time": "2021-08-22T07:00:07.587842",
     "status": "completed"
    },
    "tags": []
   },
   "outputs": [],
   "source": [
    "timestamps = pd.read_sql(\"select distinct record_time from EBAY_TOP_BERLIN order by record_time desc limit 2\", sqlite3.connect(\"UsedObjects.db\"))"
   ]
  },
  {
   "cell_type": "code",
   "execution_count": 3,
   "id": "periodic-identification",
   "metadata": {
    "execution": {
     "iopub.execute_input": "2021-08-22T07:00:07.784590Z",
     "iopub.status.busy": "2021-08-22T07:00:07.782615Z",
     "iopub.status.idle": "2021-08-22T07:00:07.806358Z",
     "shell.execute_reply": "2021-08-22T07:00:07.804614Z"
    },
    "papermill": {
     "duration": 0.068354,
     "end_time": "2021-08-22T07:00:07.806790",
     "exception": false,
     "start_time": "2021-08-22T07:00:07.738436",
     "status": "completed"
    },
    "tags": []
   },
   "outputs": [
    {
     "data": {
      "text/html": [
       "<div>\n",
       "<style scoped>\n",
       "    .dataframe tbody tr th:only-of-type {\n",
       "        vertical-align: middle;\n",
       "    }\n",
       "\n",
       "    .dataframe tbody tr th {\n",
       "        vertical-align: top;\n",
       "    }\n",
       "\n",
       "    .dataframe thead th {\n",
       "        text-align: right;\n",
       "    }\n",
       "</style>\n",
       "<table border=\"1\" class=\"dataframe\">\n",
       "  <thead>\n",
       "    <tr style=\"text-align: right;\">\n",
       "      <th></th>\n",
       "      <th>RECORD_TIME</th>\n",
       "    </tr>\n",
       "  </thead>\n",
       "  <tbody>\n",
       "    <tr>\n",
       "      <th>0</th>\n",
       "      <td>2021-08-22 09:00</td>\n",
       "    </tr>\n",
       "    <tr>\n",
       "      <th>1</th>\n",
       "      <td>2021-08-22 08:30</td>\n",
       "    </tr>\n",
       "  </tbody>\n",
       "</table>\n",
       "</div>"
      ],
      "text/plain": [
       "        RECORD_TIME\n",
       "0  2021-08-22 09:00\n",
       "1  2021-08-22 08:30"
      ]
     },
     "execution_count": 3,
     "metadata": {},
     "output_type": "execute_result"
    }
   ],
   "source": [
    "timestamps"
   ]
  },
  {
   "cell_type": "code",
   "execution_count": 4,
   "id": "alternate-victory",
   "metadata": {
    "execution": {
     "iopub.execute_input": "2021-08-22T07:00:07.859670Z",
     "iopub.status.busy": "2021-08-22T07:00:07.857721Z",
     "iopub.status.idle": "2021-08-22T07:00:08.016209Z",
     "shell.execute_reply": "2021-08-22T07:00:08.014731Z"
    },
    "papermill": {
     "duration": 0.187234,
     "end_time": "2021-08-22T07:00:08.016576",
     "exception": false,
     "start_time": "2021-08-22T07:00:07.829342",
     "status": "completed"
    },
    "tags": []
   },
   "outputs": [],
   "source": [
    "df = pd.read_sql(\"select * from EBAY_TOP_BERLIN where record_time in (select distinct record_time from EBAY_TOP_BERLIN order by record_time desc limit 2)\", sqlite3.connect(\"UsedObjects.db\"))"
   ]
  },
  {
   "cell_type": "code",
   "execution_count": 5,
   "id": "popular-active",
   "metadata": {
    "execution": {
     "iopub.execute_input": "2021-08-22T07:00:08.082893Z",
     "iopub.status.busy": "2021-08-22T07:00:08.075638Z",
     "iopub.status.idle": "2021-08-22T07:00:08.102927Z",
     "shell.execute_reply": "2021-08-22T07:00:08.104130Z"
    },
    "papermill": {
     "duration": 0.066938,
     "end_time": "2021-08-22T07:00:08.104525",
     "exception": false,
     "start_time": "2021-08-22T07:00:08.037587",
     "status": "completed"
    },
    "tags": []
   },
   "outputs": [],
   "source": [
    "df_pivot = df.pivot_table(index=\"PRODUCT\", columns = \"RECORD_TIME\", values = \"LISTING_COUNT\")"
   ]
  },
  {
   "cell_type": "code",
   "execution_count": 6,
   "id": "union-huntington",
   "metadata": {
    "execution": {
     "iopub.execute_input": "2021-08-22T07:00:08.164407Z",
     "iopub.status.busy": "2021-08-22T07:00:08.161907Z",
     "iopub.status.idle": "2021-08-22T07:00:08.168026Z",
     "shell.execute_reply": "2021-08-22T07:00:08.169463Z"
    },
    "papermill": {
     "duration": 0.042958,
     "end_time": "2021-08-22T07:00:08.169964",
     "exception": false,
     "start_time": "2021-08-22T07:00:08.127006",
     "status": "completed"
    },
    "tags": []
   },
   "outputs": [],
   "source": [
    "df_pivot.columns = [\"stamp_1\", \"stamp_2\"]\n",
    "df_pivot_diff = df_pivot.diff(axis=1)"
   ]
  },
  {
   "cell_type": "code",
   "execution_count": 7,
   "id": "fifth-motion",
   "metadata": {
    "execution": {
     "iopub.execute_input": "2021-08-22T07:00:08.232154Z",
     "iopub.status.busy": "2021-08-22T07:00:08.229576Z",
     "iopub.status.idle": "2021-08-22T07:00:09.713993Z",
     "shell.execute_reply": "2021-08-22T07:00:09.715414Z"
    },
    "papermill": {
     "duration": 1.520886,
     "end_time": "2021-08-22T07:00:09.715853",
     "exception": false,
     "start_time": "2021-08-22T07:00:08.194967",
     "status": "completed"
    },
    "tags": []
   },
   "outputs": [
    {
     "data": {
      "text/plain": [
       "<AxesSubplot:ylabel='PRODUCT'>"
      ]
     },
     "execution_count": 7,
     "metadata": {},
     "output_type": "execute_result"
    },
    {
     "data": {
      "image/png": "[encoded data removed]",
      "text/plain": [
       "<Figure size 432x288 with 1 Axes>"
      ]
     },
     "metadata": {
      "needs_background": "light"
     },
     "output_type": "display_data"
    }
   ],
   "source": [
    "df_pivot_diff.sort_values(\"stamp_2\", ascending = False)[\"stamp_2\"].head(10).plot.barh()"
   ]
  },
  {
   "cell_type": "code",
   "execution_count": null,
   "id": "extra-executive",
   "metadata": {
    "papermill": {
     "duration": 0.022648,
     "end_time": "2021-08-22T07:00:09.762415",
     "exception": false,
     "start_time": "2021-08-22T07:00:09.739767",
     "status": "completed"
    },
    "tags": []
   },
   "outputs": [],
   "source": []
  }
 ],
 "metadata": {
  "kernelspec": {
   "display_name": "Python 3",
   "language": "python",
   "name": "python3"
  },
  "language_info": {
   "codemirror_mode": {
    "name": "ipython",
    "version": 3
   },
   "file_extension": ".py",
   "mimetype": "text/x-python",
   "name": "python",
   "nbconvert_exporter": "python",
   "pygments_lexer": "ipython3",
   "version": "3.9.5"
  },
  "papermill": {
   "default_parameters": {},
   "duration": 6.82996,
   "end_time": "2021-08-22T07:00:11.130545",
   "environment_variables": {},
   "exception": null,
   "input_path": "eBay_Overview.ipynb",
   "output_path": "eBay_Overview.ipynb",
   "parameters": {},
   "start_time": "2021-08-22T07:00:04.300585",
   "version": "2.3.3"
  }
 },
 "nbformat": 4,
 "nbformat_minor": 5
}