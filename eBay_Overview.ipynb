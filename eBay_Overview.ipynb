{
 "cells": [
  {
   "cell_type": "code",
   "execution_count": 1,
   "id": "reverse-picking",
   "metadata": {
    "execution": {
     "iopub.execute_input": "2021-12-20T17:00:07.845912Z",
     "iopub.status.busy": "2021-12-20T17:00:07.842939Z",
     "iopub.status.idle": "2021-12-20T17:00:08.798559Z",
     "shell.execute_reply": "2021-12-20T17:00:08.800263Z"
    },
    "papermill": {
     "duration": 1.009017,
     "end_time": "2021-12-20T17:00:08.801109",
     "exception": false,
     "start_time": "2021-12-20T17:00:07.792092",
     "status": "completed"
    },
    "tags": []
   },
   "outputs": [],
   "source": [
    "import pandas as pd\n",
    "import sqlite3"
   ]
  },
  {
   "cell_type": "code",
   "execution_count": 2,
   "id": "innovative-syndrome",
   "metadata": {
    "execution": {
     "iopub.execute_input": "2021-12-20T17:00:08.864891Z",
     "iopub.status.busy": "2021-12-20T17:00:08.862549Z",
     "iopub.status.idle": "2021-12-20T17:00:10.010564Z",
     "shell.execute_reply": "2021-12-20T17:00:10.011871Z"
    },
    "papermill": {
     "duration": 1.182639,
     "end_time": "2021-12-20T17:00:10.012297",
     "exception": false,
     "start_time": "2021-12-20T17:00:08.829658",
     "status": "completed"
    },
    "tags": []
   },
   "outputs": [],
   "source": [
    "timestamps = pd.read_sql(\"select distinct record_time from EBAY_TOP_BERLIN order by record_time desc limit 2\", sqlite3.connect(\"UsedObjects.db\"))"
   ]
  },
  {
   "cell_type": "code",
   "execution_count": 3,
   "id": "periodic-identification",
   "metadata": {
    "execution": {
     "iopub.execute_input": "2021-12-20T17:00:10.079153Z",
     "iopub.status.busy": "2021-12-20T17:00:10.077018Z",
     "iopub.status.idle": "2021-12-20T17:00:10.097338Z",
     "shell.execute_reply": "2021-12-20T17:00:10.098645Z"
    },
    "papermill": {
     "duration": 0.06766,
     "end_time": "2021-12-20T17:00:10.099075",
     "exception": false,
     "start_time": "2021-12-20T17:00:10.031415",
     "status": "completed"
    },
    "tags": []
   },
   "outputs": [
    {
     "data": {
      "text/html": [
       "<div>\n",
       "<style scoped>\n",
       "    .dataframe tbody tr th:only-of-type {\n",
       "        vertical-align: middle;\n",
       "    }\n",
       "\n",
       "    .dataframe tbody tr th {\n",
       "        vertical-align: top;\n",
       "    }\n",
       "\n",
       "    .dataframe thead th {\n",
       "        text-align: right;\n",
       "    }\n",
       "</style>\n",
       "<table border=\"1\" class=\"dataframe\">\n",
       "  <thead>\n",
       "    <tr style=\"text-align: right;\">\n",
       "      <th></th>\n",
       "      <th>RECORD_TIME</th>\n",
       "    </tr>\n",
       "  </thead>\n",
       "  <tbody>\n",
       "    <tr>\n",
       "      <th>0</th>\n",
       "      <td>2021-12-20 18:00</td>\n",
       "    </tr>\n",
       "    <tr>\n",
       "      <th>1</th>\n",
       "      <td>2021-12-20 17:30</td>\n",
       "    </tr>\n",
       "  </tbody>\n",
       "</table>\n",
       "</div>"
      ],
      "text/plain": [
       "        RECORD_TIME\n",
       "0  2021-12-20 18:00\n",
       "1  2021-12-20 17:30"
      ]
     },
     "execution_count": 3,
     "metadata": {},
     "output_type": "execute_result"
    }
   ],
   "source": [
    "timestamps"
   ]
  },
  {
   "cell_type": "code",
   "execution_count": 4,
   "id": "alternate-victory",
   "metadata": {
    "execution": {
     "iopub.execute_input": "2021-12-20T17:00:10.152178Z",
     "iopub.status.busy": "2021-12-20T17:00:10.149863Z",
     "iopub.status.idle": "2021-12-20T17:00:11.872221Z",
     "shell.execute_reply": "2021-12-20T17:00:11.873667Z"
    },
    "papermill": {
     "duration": 1.754141,
     "end_time": "2021-12-20T17:00:11.874158",
     "exception": false,
     "start_time": "2021-12-20T17:00:10.120017",
     "status": "completed"
    },
    "tags": []
   },
   "outputs": [],
   "source": [
    "df = pd.read_sql(\"select * from EBAY_TOP_BERLIN where record_time in (select distinct record_time from EBAY_TOP_BERLIN order by record_time desc limit 2)\", sqlite3.connect(\"UsedObjects.db\"))"
   ]
  },
  {
   "cell_type": "code",
   "execution_count": 5,
   "id": "popular-active",
   "metadata": {
    "execution": {
     "iopub.execute_input": "2021-12-20T17:00:11.952101Z",
     "iopub.status.busy": "2021-12-20T17:00:11.938202Z",
     "iopub.status.idle": "2021-12-20T17:00:11.970109Z",
     "shell.execute_reply": "2021-12-20T17:00:11.971492Z"
    },
    "papermill": {
     "duration": 0.076058,
     "end_time": "2021-12-20T17:00:11.971970",
     "exception": false,
     "start_time": "2021-12-20T17:00:11.895912",
     "status": "completed"
    },
    "tags": []
   },
   "outputs": [],
   "source": [
    "df_pivot = df.pivot_table(index=\"PRODUCT\", columns = \"RECORD_TIME\", values = \"LISTING_COUNT\")"
   ]
  },
  {
   "cell_type": "code",
   "execution_count": 6,
   "id": "union-huntington",
   "metadata": {
    "execution": {
     "iopub.execute_input": "2021-12-20T17:00:12.030847Z",
     "iopub.status.busy": "2021-12-20T17:00:12.028542Z",
     "iopub.status.idle": "2021-12-20T17:00:12.034356Z",
     "shell.execute_reply": "2021-12-20T17:00:12.035837Z"
    },
    "papermill": {
     "duration": 0.044504,
     "end_time": "2021-12-20T17:00:12.036304",
     "exception": false,
     "start_time": "2021-12-20T17:00:11.991800",
     "status": "completed"
    },
    "tags": []
   },
   "outputs": [],
   "source": [
    "df_pivot.columns = [\"stamp_1\", \"stamp_2\"]\n",
    "df_pivot_diff = df_pivot.diff(axis=1)"
   ]
  },
  {
   "cell_type": "code",
   "execution_count": 7,
   "id": "fifth-motion",
   "metadata": {
    "execution": {
     "iopub.execute_input": "2021-12-20T17:00:12.096327Z",
     "iopub.status.busy": "2021-12-20T17:00:12.093665Z",
     "iopub.status.idle": "2021-12-20T17:00:14.120296Z",
     "shell.execute_reply": "2021-12-20T17:00:14.121949Z"
    },
    "papermill": {
     "duration": 2.064931,
     "end_time": "2021-12-20T17:00:14.122523",
     "exception": false,
     "start_time": "2021-12-20T17:00:12.057592",
     "status": "completed"
    },
    "tags": []
   },
   "outputs": [
    {
     "data": {
      "text/plain": [
       "<AxesSubplot:ylabel='PRODUCT'>"
      ]
     },
     "execution_count": 7,
     "metadata": {},
     "output_type": "execute_result"
    },
    {
     "data": {
      "image/png": "[encoded data removed]",
      "text/plain": [
       "<Figure size 432x288 with 1 Axes>"
      ]
     },
     "metadata": {
      "needs_background": "light"
     },
     "output_type": "display_data"
    }
   ],
   "source": [
    "df_pivot_diff.sort_values(\"stamp_2\", ascending = False)[\"stamp_2\"].head(10).plot.barh()"
   ]
  },
  {
   "cell_type": "code",
   "execution_count": null,
   "id": "extra-executive",
   "metadata": {
    "papermill": {
     "duration": 0.021981,
     "end_time": "2021-12-20T17:00:14.168628",
     "exception": false,
     "start_time": "2021-12-20T17:00:14.146647",
     "status": "completed"
    },
    "tags": []
   },
   "outputs": [],
   "source": []
  }
 ],
 "metadata": {
  "kernelspec": {
   "display_name": "Python 3",
   "language": "python",
   "name": "python3"
  },
  "language_info": {
   "codemirror_mode": {
    "name": "ipython",
    "version": 3
   },
   "file_extension": ".py",
   "mimetype": "text/x-python",
   "name": "python",
   "nbconvert_exporter": "python",
   "pygments_lexer": "ipython3",
   "version": "3.9.5"
  },
  "papermill": {
   "default_parameters": {},
   "duration": 9.753361,
   "end_time": "2021-12-20T17:00:14.809687",
   "environment_variables": {},
   "exception": null,
   "input_path": "eBay_Overview.ipynb",
   "output_path": "eBay_Overview.ipynb",
   "parameters": {},
   "start_time": "2021-12-20T17:00:05.056326",
   "version": "2.3.3"
  }
 },
 "nbformat": 4,
 "nbformat_minor": 5
}