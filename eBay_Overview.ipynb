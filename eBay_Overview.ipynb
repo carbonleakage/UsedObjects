{
 "cells": [
  {
   "cell_type": "code",
   "execution_count": 1,
   "id": "reverse-picking",
   "metadata": {
    "execution": {
     "iopub.execute_input": "2021-08-08T20:38:35.347688Z",
     "iopub.status.busy": "2021-08-08T20:38:35.346911Z",
     "iopub.status.idle": "2021-08-08T20:38:35.944769Z",
     "shell.execute_reply": "2021-08-08T20:38:35.945417Z"
    },
    "papermill": {
     "duration": 0.618783,
     "end_time": "2021-08-08T20:38:35.945713",
     "exception": false,
     "start_time": "2021-08-08T20:38:35.326930",
     "status": "completed"
    },
    "tags": []
   },
   "outputs": [],
   "source": [
    "import pandas as pd\n",
    "import sqlite3"
   ]
  },
  {
   "cell_type": "code",
   "execution_count": 2,
   "id": "innovative-syndrome",
   "metadata": {
    "execution": {
     "iopub.execute_input": "2021-08-08T20:38:35.969129Z",
     "iopub.status.busy": "2021-08-08T20:38:35.967731Z",
     "iopub.status.idle": "2021-08-08T20:38:36.163600Z",
     "shell.execute_reply": "2021-08-08T20:38:36.164174Z"
    },
    "papermill": {
     "duration": 0.210018,
     "end_time": "2021-08-08T20:38:36.164365",
     "exception": false,
     "start_time": "2021-08-08T20:38:35.954347",
     "status": "completed"
    },
    "tags": []
   },
   "outputs": [],
   "source": [
    "timestamps = pd.read_sql(\"select distinct record_time from EBAY_TOP_BERLIN order by record_time desc limit 2\", sqlite3.connect(\"UsedObjects.db\"))"
   ]
  },
  {
   "cell_type": "code",
   "execution_count": 3,
   "id": "periodic-identification",
   "metadata": {
    "execution": {
     "iopub.execute_input": "2021-08-08T20:38:36.193251Z",
     "iopub.status.busy": "2021-08-08T20:38:36.192482Z",
     "iopub.status.idle": "2021-08-08T20:38:36.205724Z",
     "shell.execute_reply": "2021-08-08T20:38:36.206400Z"
    },
    "papermill": {
     "duration": 0.034061,
     "end_time": "2021-08-08T20:38:36.206601",
     "exception": false,
     "start_time": "2021-08-08T20:38:36.172540",
     "status": "completed"
    },
    "tags": []
   },
   "outputs": [
    {
     "data": {
      "text/html": [
       "<div>\n",
       "<style scoped>\n",
       "    .dataframe tbody tr th:only-of-type {\n",
       "        vertical-align: middle;\n",
       "    }\n",
       "\n",
       "    .dataframe tbody tr th {\n",
       "        vertical-align: top;\n",
       "    }\n",
       "\n",
       "    .dataframe thead th {\n",
       "        text-align: right;\n",
       "    }\n",
       "</style>\n",
       "<table border=\"1\" class=\"dataframe\">\n",
       "  <thead>\n",
       "    <tr style=\"text-align: right;\">\n",
       "      <th></th>\n",
       "      <th>RECORD_TIME</th>\n",
       "    </tr>\n",
       "  </thead>\n",
       "  <tbody>\n",
       "    <tr>\n",
       "      <th>0</th>\n",
       "      <td>2021-08-08 22:38</td>\n",
       "    </tr>\n",
       "    <tr>\n",
       "      <th>1</th>\n",
       "      <td>2021-08-08 22:37</td>\n",
       "    </tr>\n",
       "  </tbody>\n",
       "</table>\n",
       "</div>"
      ],
      "text/plain": [
       "        RECORD_TIME\n",
       "0  2021-08-08 22:38\n",
       "1  2021-08-08 22:37"
      ]
     },
     "execution_count": 3,
     "metadata": {},
     "output_type": "execute_result"
    }
   ],
   "source": [
    "timestamps"
   ]
  },
  {
   "cell_type": "code",
   "execution_count": 4,
   "id": "alternate-victory",
   "metadata": {
    "execution": {
     "iopub.execute_input": "2021-08-08T20:38:36.228830Z",
     "iopub.status.busy": "2021-08-08T20:38:36.228063Z",
     "iopub.status.idle": "2021-08-08T20:38:36.234700Z",
     "shell.execute_reply": "2021-08-08T20:38:36.235280Z"
    },
    "papermill": {
     "duration": 0.01946,
     "end_time": "2021-08-08T20:38:36.235482",
     "exception": false,
     "start_time": "2021-08-08T20:38:36.216022",
     "status": "completed"
    },
    "tags": []
   },
   "outputs": [],
   "source": [
    "df = pd.read_sql(\"select * from EBAY_TOP_BERLIN where record_time in (select distinct record_time from EBAY_TOP_BERLIN order by record_time desc limit 2)\", sqlite3.connect(\"UsedObjects.db\"))"
   ]
  },
  {
   "cell_type": "code",
   "execution_count": 5,
   "id": "popular-active",
   "metadata": {
    "execution": {
     "iopub.execute_input": "2021-08-08T20:38:36.260211Z",
     "iopub.status.busy": "2021-08-08T20:38:36.259234Z",
     "iopub.status.idle": "2021-08-08T20:38:36.280031Z",
     "shell.execute_reply": "2021-08-08T20:38:36.279391Z"
    },
    "papermill": {
     "duration": 0.035202,
     "end_time": "2021-08-08T20:38:36.280192",
     "exception": false,
     "start_time": "2021-08-08T20:38:36.244990",
     "status": "completed"
    },
    "tags": []
   },
   "outputs": [],
   "source": [
    "df_pivot = df.pivot_table(index=\"PRODUCT\", columns = \"RECORD_TIME\", values = \"LISTING_COUNT\")"
   ]
  },
  {
   "cell_type": "code",
   "execution_count": 6,
   "id": "union-huntington",
   "metadata": {
    "execution": {
     "iopub.execute_input": "2021-08-08T20:38:36.308703Z",
     "iopub.status.busy": "2021-08-08T20:38:36.307968Z",
     "iopub.status.idle": "2021-08-08T20:38:36.310789Z",
     "shell.execute_reply": "2021-08-08T20:38:36.311583Z"
    },
    "papermill": {
     "duration": 0.020429,
     "end_time": "2021-08-08T20:38:36.311805",
     "exception": false,
     "start_time": "2021-08-08T20:38:36.291376",
     "status": "completed"
    },
    "tags": []
   },
   "outputs": [],
   "source": [
    "df_pivot.columns = [\"stamp_1\", \"stamp_2\"]\n",
    "df_pivot_diff = df_pivot.diff(axis=1)"
   ]
  },
  {
   "cell_type": "code",
   "execution_count": 7,
   "id": "fifth-motion",
   "metadata": {
    "execution": {
     "iopub.execute_input": "2021-08-08T20:38:36.337288Z",
     "iopub.status.busy": "2021-08-08T20:38:36.336252Z",
     "iopub.status.idle": "2021-08-08T20:38:37.035962Z",
     "shell.execute_reply": "2021-08-08T20:38:37.036570Z"
    },
    "papermill": {
     "duration": 0.716459,
     "end_time": "2021-08-08T20:38:37.036750",
     "exception": false,
     "start_time": "2021-08-08T20:38:36.320291",
     "status": "completed"
    },
    "tags": []
   },
   "outputs": [
    {
     "data": {
      "text/plain": [
       "<AxesSubplot:ylabel='PRODUCT'>"
      ]
     },
     "execution_count": 7,
     "metadata": {},
     "output_type": "execute_result"
    },
    {
     "data": {
      "image/png": "[encoded data removed]",
      "text/plain": [
       "<Figure size 432x288 with 1 Axes>"
      ]
     },
     "metadata": {
      "needs_background": "light"
     },
     "output_type": "display_data"
    }
   ],
   "source": [
    "df_pivot_diff.sort_values(\"stamp_2\", ascending = False)[\"stamp_2\"].head(10).plot.barh()"
   ]
  },
  {
   "cell_type": "code",
   "execution_count": null,
   "id": "extra-executive",
   "metadata": {
    "papermill": {
     "duration": 0.009614,
     "end_time": "2021-08-08T20:38:37.056574",
     "exception": false,
     "start_time": "2021-08-08T20:38:37.046960",
     "status": "completed"
    },
    "tags": []
   },
   "outputs": [],
   "source": []
  }
 ],
 "metadata": {
  "kernelspec": {
   "display_name": "Python 3",
   "language": "python",
   "name": "python3"
  },
  "language_info": {
   "codemirror_mode": {
    "name": "ipython",
    "version": 3
   },
   "file_extension": ".py",
   "mimetype": "text/x-python",
   "name": "python",
   "nbconvert_exporter": "python",
   "pygments_lexer": "ipython3",
   "version": "3.8.8"
  },
  "papermill": {
   "default_parameters": {},
   "duration": 4.52003,
   "end_time": "2021-08-08T20:38:38.275964",
   "environment_variables": {},
   "exception": null,
   "input_path": "eBay_Overview.ipynb",
   "output_path": "eBay_Overview.ipynb",
   "parameters": {},
   "start_time": "2021-08-08T20:38:33.755934",
   "version": "2.3.3"
  }
 },
 "nbformat": 4,
 "nbformat_minor": 5
}