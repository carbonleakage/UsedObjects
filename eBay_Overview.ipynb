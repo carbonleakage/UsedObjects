{
 "cells": [
  {
   "cell_type": "code",
   "execution_count": 1,
   "id": "reverse-picking",
   "metadata": {
    "execution": {
     "iopub.execute_input": "2021-10-18T04:30:06.639051Z",
     "iopub.status.busy": "2021-10-18T04:30:06.637088Z",
     "iopub.status.idle": "2021-10-18T04:30:07.443419Z",
     "shell.execute_reply": "2021-10-18T04:30:07.444590Z"
    },
    "papermill": {
     "duration": 0.857013,
     "end_time": "2021-10-18T04:30:07.445405",
     "exception": false,
     "start_time": "2021-10-18T04:30:06.588392",
     "status": "completed"
    },
    "tags": []
   },
   "outputs": [],
   "source": [
    "import pandas as pd\n",
    "import sqlite3"
   ]
  },
  {
   "cell_type": "code",
   "execution_count": 2,
   "id": "innovative-syndrome",
   "metadata": {
    "execution": {
     "iopub.execute_input": "2021-10-18T04:30:07.498786Z",
     "iopub.status.busy": "2021-10-18T04:30:07.496358Z",
     "iopub.status.idle": "2021-10-18T04:30:08.077526Z",
     "shell.execute_reply": "2021-10-18T04:30:08.078754Z"
    },
    "papermill": {
     "duration": 0.611344,
     "end_time": "2021-10-18T04:30:08.079151",
     "exception": false,
     "start_time": "2021-10-18T04:30:07.467807",
     "status": "completed"
    },
    "tags": []
   },
   "outputs": [],
   "source": [
    "timestamps = pd.read_sql(\"select distinct record_time from EBAY_TOP_BERLIN order by record_time desc limit 2\", sqlite3.connect(\"UsedObjects.db\"))"
   ]
  },
  {
   "cell_type": "code",
   "execution_count": 3,
   "id": "periodic-identification",
   "metadata": {
    "execution": {
     "iopub.execute_input": "2021-10-18T04:30:08.157407Z",
     "iopub.status.busy": "2021-10-18T04:30:08.152064Z",
     "iopub.status.idle": "2021-10-18T04:30:08.173171Z",
     "shell.execute_reply": "2021-10-18T04:30:08.174676Z"
    },
    "papermill": {
     "duration": 0.070992,
     "end_time": "2021-10-18T04:30:08.175134",
     "exception": false,
     "start_time": "2021-10-18T04:30:08.104142",
     "status": "completed"
    },
    "tags": []
   },
   "outputs": [
    {
     "data": {
      "text/html": [
       "<div>\n",
       "<style scoped>\n",
       "    .dataframe tbody tr th:only-of-type {\n",
       "        vertical-align: middle;\n",
       "    }\n",
       "\n",
       "    .dataframe tbody tr th {\n",
       "        vertical-align: top;\n",
       "    }\n",
       "\n",
       "    .dataframe thead th {\n",
       "        text-align: right;\n",
       "    }\n",
       "</style>\n",
       "<table border=\"1\" class=\"dataframe\">\n",
       "  <thead>\n",
       "    <tr style=\"text-align: right;\">\n",
       "      <th></th>\n",
       "      <th>RECORD_TIME</th>\n",
       "    </tr>\n",
       "  </thead>\n",
       "  <tbody>\n",
       "    <tr>\n",
       "      <th>0</th>\n",
       "      <td>2021-10-18 06:30</td>\n",
       "    </tr>\n",
       "    <tr>\n",
       "      <th>1</th>\n",
       "      <td>2021-10-18 06:00</td>\n",
       "    </tr>\n",
       "  </tbody>\n",
       "</table>\n",
       "</div>"
      ],
      "text/plain": [
       "        RECORD_TIME\n",
       "0  2021-10-18 06:30\n",
       "1  2021-10-18 06:00"
      ]
     },
     "execution_count": 3,
     "metadata": {},
     "output_type": "execute_result"
    }
   ],
   "source": [
    "timestamps"
   ]
  },
  {
   "cell_type": "code",
   "execution_count": 4,
   "id": "alternate-victory",
   "metadata": {
    "execution": {
     "iopub.execute_input": "2021-10-18T04:30:08.227616Z",
     "iopub.status.busy": "2021-10-18T04:30:08.225584Z",
     "iopub.status.idle": "2021-10-18T04:30:09.045167Z",
     "shell.execute_reply": "2021-10-18T04:30:09.046400Z"
    },
    "papermill": {
     "duration": 0.850244,
     "end_time": "2021-10-18T04:30:09.046792",
     "exception": false,
     "start_time": "2021-10-18T04:30:08.196548",
     "status": "completed"
    },
    "tags": []
   },
   "outputs": [],
   "source": [
    "df = pd.read_sql(\"select * from EBAY_TOP_BERLIN where record_time in (select distinct record_time from EBAY_TOP_BERLIN order by record_time desc limit 2)\", sqlite3.connect(\"UsedObjects.db\"))"
   ]
  },
  {
   "cell_type": "code",
   "execution_count": 5,
   "id": "popular-active",
   "metadata": {
    "execution": {
     "iopub.execute_input": "2021-10-18T04:30:09.117596Z",
     "iopub.status.busy": "2021-10-18T04:30:09.105987Z",
     "iopub.status.idle": "2021-10-18T04:30:09.133259Z",
     "shell.execute_reply": "2021-10-18T04:30:09.134510Z"
    },
    "papermill": {
     "duration": 0.067449,
     "end_time": "2021-10-18T04:30:09.134905",
     "exception": false,
     "start_time": "2021-10-18T04:30:09.067456",
     "status": "completed"
    },
    "tags": []
   },
   "outputs": [],
   "source": [
    "df_pivot = df.pivot_table(index=\"PRODUCT\", columns = \"RECORD_TIME\", values = \"LISTING_COUNT\")"
   ]
  },
  {
   "cell_type": "code",
   "execution_count": 6,
   "id": "union-huntington",
   "metadata": {
    "execution": {
     "iopub.execute_input": "2021-10-18T04:30:09.192081Z",
     "iopub.status.busy": "2021-10-18T04:30:09.189791Z",
     "iopub.status.idle": "2021-10-18T04:30:09.195861Z",
     "shell.execute_reply": "2021-10-18T04:30:09.197307Z"
    },
    "papermill": {
     "duration": 0.041951,
     "end_time": "2021-10-18T04:30:09.197795",
     "exception": false,
     "start_time": "2021-10-18T04:30:09.155844",
     "status": "completed"
    },
    "tags": []
   },
   "outputs": [],
   "source": [
    "df_pivot.columns = [\"stamp_1\", \"stamp_2\"]\n",
    "df_pivot_diff = df_pivot.diff(axis=1)"
   ]
  },
  {
   "cell_type": "code",
   "execution_count": 7,
   "id": "fifth-motion",
   "metadata": {
    "execution": {
     "iopub.execute_input": "2021-10-18T04:30:09.252023Z",
     "iopub.status.busy": "2021-10-18T04:30:09.249794Z",
     "iopub.status.idle": "2021-10-18T04:30:10.747290Z",
     "shell.execute_reply": "2021-10-18T04:30:10.748586Z"
    },
    "papermill": {
     "duration": 1.53023,
     "end_time": "2021-10-18T04:30:10.749091",
     "exception": false,
     "start_time": "2021-10-18T04:30:09.218861",
     "status": "completed"
    },
    "tags": []
   },
   "outputs": [
    {
     "data": {
      "text/plain": [
       "<AxesSubplot:ylabel='PRODUCT'>"
      ]
     },
     "execution_count": 7,
     "metadata": {},
     "output_type": "execute_result"
    },
    {
     "data": {
      "image/png": "[encoded data removed]",
      "text/plain": [
       "<Figure size 432x288 with 1 Axes>"
      ]
     },
     "metadata": {
      "needs_background": "light"
     },
     "output_type": "display_data"
    }
   ],
   "source": [
    "df_pivot_diff.sort_values(\"stamp_2\", ascending = False)[\"stamp_2\"].head(10).plot.barh()"
   ]
  },
  {
   "cell_type": "code",
   "execution_count": null,
   "id": "extra-executive",
   "metadata": {
    "papermill": {
     "duration": 0.022038,
     "end_time": "2021-10-18T04:30:10.795019",
     "exception": false,
     "start_time": "2021-10-18T04:30:10.772981",
     "status": "completed"
    },
    "tags": []
   },
   "outputs": [],
   "source": []
  }
 ],
 "metadata": {
  "kernelspec": {
   "display_name": "Python 3",
   "language": "python",
   "name": "python3"
  },
  "language_info": {
   "codemirror_mode": {
    "name": "ipython",
    "version": 3
   },
   "file_extension": ".py",
   "mimetype": "text/x-python",
   "name": "python",
   "nbconvert_exporter": "python",
   "pygments_lexer": "ipython3",
   "version": "3.9.5"
  },
  "papermill": {
   "default_parameters": {},
   "duration": 7.823132,
   "end_time": "2021-10-18T04:30:12.007338",
   "environment_variables": {},
   "exception": null,
   "input_path": "eBay_Overview.ipynb",
   "output_path": "eBay_Overview.ipynb",
   "parameters": {},
   "start_time": "2021-10-18T04:30:04.184206",
   "version": "2.3.3"
  }
 },
 "nbformat": 4,
 "nbformat_minor": 5
}