{
 "cells": [
  {
   "cell_type": "code",
   "execution_count": 1,
   "id": "reverse-picking",
   "metadata": {
    "execution": {
     "iopub.execute_input": "2021-12-05T02:00:08.138049Z",
     "iopub.status.busy": "2021-12-05T02:00:08.135638Z",
     "iopub.status.idle": "2021-12-05T02:00:09.099176Z",
     "shell.execute_reply": "2021-12-05T02:00:09.100764Z"
    },
    "papermill": {
     "duration": 1.014163,
     "end_time": "2021-12-05T02:00:09.101518",
     "exception": false,
     "start_time": "2021-12-05T02:00:08.087355",
     "status": "completed"
    },
    "tags": []
   },
   "outputs": [],
   "source": [
    "import pandas as pd\n",
    "import sqlite3"
   ]
  },
  {
   "cell_type": "code",
   "execution_count": 2,
   "id": "innovative-syndrome",
   "metadata": {
    "execution": {
     "iopub.execute_input": "2021-12-05T02:00:09.292106Z",
     "iopub.status.busy": "2021-12-05T02:00:09.289506Z",
     "iopub.status.idle": "2021-12-05T02:00:10.287451Z",
     "shell.execute_reply": "2021-12-05T02:00:10.288960Z"
    },
    "papermill": {
     "duration": 1.034061,
     "end_time": "2021-12-05T02:00:10.289460",
     "exception": false,
     "start_time": "2021-12-05T02:00:09.255399",
     "status": "completed"
    },
    "tags": []
   },
   "outputs": [],
   "source": [
    "timestamps = pd.read_sql(\"select distinct record_time from EBAY_TOP_BERLIN order by record_time desc limit 2\", sqlite3.connect(\"UsedObjects.db\"))"
   ]
  },
  {
   "cell_type": "code",
   "execution_count": 3,
   "id": "periodic-identification",
   "metadata": {
    "execution": {
     "iopub.execute_input": "2021-12-05T02:00:10.359198Z",
     "iopub.status.busy": "2021-12-05T02:00:10.356403Z",
     "iopub.status.idle": "2021-12-05T02:00:10.378936Z",
     "shell.execute_reply": "2021-12-05T02:00:10.380209Z"
    },
    "papermill": {
     "duration": 0.071336,
     "end_time": "2021-12-05T02:00:10.380626",
     "exception": false,
     "start_time": "2021-12-05T02:00:10.309290",
     "status": "completed"
    },
    "tags": []
   },
   "outputs": [
    {
     "data": {
      "text/html": [
       "<div>\n",
       "<style scoped>\n",
       "    .dataframe tbody tr th:only-of-type {\n",
       "        vertical-align: middle;\n",
       "    }\n",
       "\n",
       "    .dataframe tbody tr th {\n",
       "        vertical-align: top;\n",
       "    }\n",
       "\n",
       "    .dataframe thead th {\n",
       "        text-align: right;\n",
       "    }\n",
       "</style>\n",
       "<table border=\"1\" class=\"dataframe\">\n",
       "  <thead>\n",
       "    <tr style=\"text-align: right;\">\n",
       "      <th></th>\n",
       "      <th>RECORD_TIME</th>\n",
       "    </tr>\n",
       "  </thead>\n",
       "  <tbody>\n",
       "    <tr>\n",
       "      <th>0</th>\n",
       "      <td>2021-12-05 03:00</td>\n",
       "    </tr>\n",
       "    <tr>\n",
       "      <th>1</th>\n",
       "      <td>2021-12-05 02:30</td>\n",
       "    </tr>\n",
       "  </tbody>\n",
       "</table>\n",
       "</div>"
      ],
      "text/plain": [
       "        RECORD_TIME\n",
       "0  2021-12-05 03:00\n",
       "1  2021-12-05 02:30"
      ]
     },
     "execution_count": 3,
     "metadata": {},
     "output_type": "execute_result"
    }
   ],
   "source": [
    "timestamps"
   ]
  },
  {
   "cell_type": "code",
   "execution_count": 4,
   "id": "alternate-victory",
   "metadata": {
    "execution": {
     "iopub.execute_input": "2021-12-05T02:00:10.438993Z",
     "iopub.status.busy": "2021-12-05T02:00:10.436639Z",
     "iopub.status.idle": "2021-12-05T02:00:11.882640Z",
     "shell.execute_reply": "2021-12-05T02:00:11.884784Z"
    },
    "papermill": {
     "duration": 1.481864,
     "end_time": "2021-12-05T02:00:11.885273",
     "exception": false,
     "start_time": "2021-12-05T02:00:10.403409",
     "status": "completed"
    },
    "tags": []
   },
   "outputs": [],
   "source": [
    "df = pd.read_sql(\"select * from EBAY_TOP_BERLIN where record_time in (select distinct record_time from EBAY_TOP_BERLIN order by record_time desc limit 2)\", sqlite3.connect(\"UsedObjects.db\"))"
   ]
  },
  {
   "cell_type": "code",
   "execution_count": 5,
   "id": "popular-active",
   "metadata": {
    "execution": {
     "iopub.execute_input": "2021-12-05T02:00:11.962136Z",
     "iopub.status.busy": "2021-12-05T02:00:11.946209Z",
     "iopub.status.idle": "2021-12-05T02:00:11.984824Z",
     "shell.execute_reply": "2021-12-05T02:00:11.983202Z"
    },
    "papermill": {
     "duration": 0.079368,
     "end_time": "2021-12-05T02:00:11.985224",
     "exception": false,
     "start_time": "2021-12-05T02:00:11.905856",
     "status": "completed"
    },
    "tags": []
   },
   "outputs": [],
   "source": [
    "df_pivot = df.pivot_table(index=\"PRODUCT\", columns = \"RECORD_TIME\", values = \"LISTING_COUNT\")"
   ]
  },
  {
   "cell_type": "code",
   "execution_count": 6,
   "id": "union-huntington",
   "metadata": {
    "execution": {
     "iopub.execute_input": "2021-12-05T02:00:12.048830Z",
     "iopub.status.busy": "2021-12-05T02:00:12.044939Z",
     "iopub.status.idle": "2021-12-05T02:00:12.064275Z",
     "shell.execute_reply": "2021-12-05T02:00:12.066090Z"
    },
    "papermill": {
     "duration": 0.05997,
     "end_time": "2021-12-05T02:00:12.066656",
     "exception": false,
     "start_time": "2021-12-05T02:00:12.006686",
     "status": "completed"
    },
    "tags": []
   },
   "outputs": [],
   "source": [
    "df_pivot.columns = [\"stamp_1\", \"stamp_2\"]\n",
    "df_pivot_diff = df_pivot.diff(axis=1)"
   ]
  },
  {
   "cell_type": "code",
   "execution_count": 7,
   "id": "fifth-motion",
   "metadata": {
    "execution": {
     "iopub.execute_input": "2021-12-05T02:00:12.338033Z",
     "iopub.status.busy": "2021-12-05T02:00:12.335365Z",
     "iopub.status.idle": "2021-12-05T02:00:14.352206Z",
     "shell.execute_reply": "2021-12-05T02:00:14.354189Z"
    },
    "papermill": {
     "duration": 2.139679,
     "end_time": "2021-12-05T02:00:14.354761",
     "exception": false,
     "start_time": "2021-12-05T02:00:12.215082",
     "status": "completed"
    },
    "tags": []
   },
   "outputs": [
    {
     "data": {
      "text/plain": [
       "<AxesSubplot:ylabel='PRODUCT'>"
      ]
     },
     "execution_count": 7,
     "metadata": {},
     "output_type": "execute_result"
    },
    {
     "data": {
      "image/png": "[encoded data removed]",
      "text/plain": [
       "<Figure size 432x288 with 1 Axes>"
      ]
     },
     "metadata": {
      "needs_background": "light"
     },
     "output_type": "display_data"
    }
   ],
   "source": [
    "df_pivot_diff.sort_values(\"stamp_2\", ascending = False)[\"stamp_2\"].head(10).plot.barh()"
   ]
  },
  {
   "cell_type": "code",
   "execution_count": null,
   "id": "extra-executive",
   "metadata": {
    "papermill": {
     "duration": 0.034594,
     "end_time": "2021-12-05T02:00:14.414726",
     "exception": false,
     "start_time": "2021-12-05T02:00:14.380132",
     "status": "completed"
    },
    "tags": []
   },
   "outputs": [],
   "source": []
  }
 ],
 "metadata": {
  "kernelspec": {
   "display_name": "Python 3",
   "language": "python",
   "name": "python3"
  },
  "language_info": {
   "codemirror_mode": {
    "name": "ipython",
    "version": 3
   },
   "file_extension": ".py",
   "mimetype": "text/x-python",
   "name": "python",
   "nbconvert_exporter": "python",
   "pygments_lexer": "ipython3",
   "version": "3.9.5"
  },
  "papermill": {
   "default_parameters": {},
   "duration": 9.72497,
   "end_time": "2021-12-05T02:00:15.065235",
   "environment_variables": {},
   "exception": null,
   "input_path": "eBay_Overview.ipynb",
   "output_path": "eBay_Overview.ipynb",
   "parameters": {},
   "start_time": "2021-12-05T02:00:05.340265",
   "version": "2.3.3"
  }
 },
 "nbformat": 4,
 "nbformat_minor": 5
}