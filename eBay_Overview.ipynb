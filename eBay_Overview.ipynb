{
 "cells": [
  {
   "cell_type": "code",
   "execution_count": 1,
   "id": "reverse-picking",
   "metadata": {
    "execution": {
     "iopub.execute_input": "2021-10-31T03:00:06.635546Z",
     "iopub.status.busy": "2021-10-31T03:00:06.633554Z",
     "iopub.status.idle": "2021-10-31T03:00:07.438216Z",
     "shell.execute_reply": "2021-10-31T03:00:07.439397Z"
    },
    "papermill": {
     "duration": 0.855181,
     "end_time": "2021-10-31T03:00:07.440018",
     "exception": false,
     "start_time": "2021-10-31T03:00:06.584837",
     "status": "completed"
    },
    "tags": []
   },
   "outputs": [],
   "source": [
    "import pandas as pd\n",
    "import sqlite3"
   ]
  },
  {
   "cell_type": "code",
   "execution_count": 2,
   "id": "innovative-syndrome",
   "metadata": {
    "execution": {
     "iopub.execute_input": "2021-10-31T03:00:07.491195Z",
     "iopub.status.busy": "2021-10-31T03:00:07.489332Z",
     "iopub.status.idle": "2021-10-31T03:00:08.179346Z",
     "shell.execute_reply": "2021-10-31T03:00:08.180643Z"
    },
    "papermill": {
     "duration": 0.71967,
     "end_time": "2021-10-31T03:00:08.181148",
     "exception": false,
     "start_time": "2021-10-31T03:00:07.461478",
     "status": "completed"
    },
    "tags": []
   },
   "outputs": [],
   "source": [
    "timestamps = pd.read_sql(\"select distinct record_time from EBAY_TOP_BERLIN order by record_time desc limit 2\", sqlite3.connect(\"UsedObjects.db\"))"
   ]
  },
  {
   "cell_type": "code",
   "execution_count": 3,
   "id": "periodic-identification",
   "metadata": {
    "execution": {
     "iopub.execute_input": "2021-10-31T03:00:08.255830Z",
     "iopub.status.busy": "2021-10-31T03:00:08.253786Z",
     "iopub.status.idle": "2021-10-31T03:00:08.274266Z",
     "shell.execute_reply": "2021-10-31T03:00:08.275556Z"
    },
    "papermill": {
     "duration": 0.069832,
     "end_time": "2021-10-31T03:00:08.275972",
     "exception": false,
     "start_time": "2021-10-31T03:00:08.206140",
     "status": "completed"
    },
    "tags": []
   },
   "outputs": [
    {
     "data": {
      "text/html": [
       "<div>\n",
       "<style scoped>\n",
       "    .dataframe tbody tr th:only-of-type {\n",
       "        vertical-align: middle;\n",
       "    }\n",
       "\n",
       "    .dataframe tbody tr th {\n",
       "        vertical-align: top;\n",
       "    }\n",
       "\n",
       "    .dataframe thead th {\n",
       "        text-align: right;\n",
       "    }\n",
       "</style>\n",
       "<table border=\"1\" class=\"dataframe\">\n",
       "  <thead>\n",
       "    <tr style=\"text-align: right;\">\n",
       "      <th></th>\n",
       "      <th>RECORD_TIME</th>\n",
       "    </tr>\n",
       "  </thead>\n",
       "  <tbody>\n",
       "    <tr>\n",
       "      <th>0</th>\n",
       "      <td>2021-10-31 04:00</td>\n",
       "    </tr>\n",
       "    <tr>\n",
       "      <th>1</th>\n",
       "      <td>2021-10-31 03:30</td>\n",
       "    </tr>\n",
       "  </tbody>\n",
       "</table>\n",
       "</div>"
      ],
      "text/plain": [
       "        RECORD_TIME\n",
       "0  2021-10-31 04:00\n",
       "1  2021-10-31 03:30"
      ]
     },
     "execution_count": 3,
     "metadata": {},
     "output_type": "execute_result"
    }
   ],
   "source": [
    "timestamps"
   ]
  },
  {
   "cell_type": "code",
   "execution_count": 4,
   "id": "alternate-victory",
   "metadata": {
    "execution": {
     "iopub.execute_input": "2021-10-31T03:00:08.327472Z",
     "iopub.status.busy": "2021-10-31T03:00:08.325300Z",
     "iopub.status.idle": "2021-10-31T03:00:09.298682Z",
     "shell.execute_reply": "2021-10-31T03:00:09.299993Z"
    },
    "papermill": {
     "duration": 1.003647,
     "end_time": "2021-10-31T03:00:09.300417",
     "exception": false,
     "start_time": "2021-10-31T03:00:08.296770",
     "status": "completed"
    },
    "tags": []
   },
   "outputs": [],
   "source": [
    "df = pd.read_sql(\"select * from EBAY_TOP_BERLIN where record_time in (select distinct record_time from EBAY_TOP_BERLIN order by record_time desc limit 2)\", sqlite3.connect(\"UsedObjects.db\"))"
   ]
  },
  {
   "cell_type": "code",
   "execution_count": 5,
   "id": "popular-active",
   "metadata": {
    "execution": {
     "iopub.execute_input": "2021-10-31T03:00:09.369764Z",
     "iopub.status.busy": "2021-10-31T03:00:09.358084Z",
     "iopub.status.idle": "2021-10-31T03:00:09.385533Z",
     "shell.execute_reply": "2021-10-31T03:00:09.386770Z"
    },
    "papermill": {
     "duration": 0.066656,
     "end_time": "2021-10-31T03:00:09.387170",
     "exception": false,
     "start_time": "2021-10-31T03:00:09.320514",
     "status": "completed"
    },
    "tags": []
   },
   "outputs": [],
   "source": [
    "df_pivot = df.pivot_table(index=\"PRODUCT\", columns = \"RECORD_TIME\", values = \"LISTING_COUNT\")"
   ]
  },
  {
   "cell_type": "code",
   "execution_count": 6,
   "id": "union-huntington",
   "metadata": {
    "execution": {
     "iopub.execute_input": "2021-10-31T03:00:09.447318Z",
     "iopub.status.busy": "2021-10-31T03:00:09.444831Z",
     "iopub.status.idle": "2021-10-31T03:00:09.450966Z",
     "shell.execute_reply": "2021-10-31T03:00:09.452271Z"
    },
    "papermill": {
     "duration": 0.042549,
     "end_time": "2021-10-31T03:00:09.452748",
     "exception": false,
     "start_time": "2021-10-31T03:00:09.410199",
     "status": "completed"
    },
    "tags": []
   },
   "outputs": [],
   "source": [
    "df_pivot.columns = [\"stamp_1\", \"stamp_2\"]\n",
    "df_pivot_diff = df_pivot.diff(axis=1)"
   ]
  },
  {
   "cell_type": "code",
   "execution_count": 7,
   "id": "fifth-motion",
   "metadata": {
    "execution": {
     "iopub.execute_input": "2021-10-31T03:00:09.506870Z",
     "iopub.status.busy": "2021-10-31T03:00:09.504389Z",
     "iopub.status.idle": "2021-10-31T03:00:10.979193Z",
     "shell.execute_reply": "2021-10-31T03:00:10.980491Z"
    },
    "papermill": {
     "duration": 1.507829,
     "end_time": "2021-10-31T03:00:10.980994",
     "exception": false,
     "start_time": "2021-10-31T03:00:09.473165",
     "status": "completed"
    },
    "tags": []
   },
   "outputs": [
    {
     "data": {
      "text/plain": [
       "<AxesSubplot:ylabel='PRODUCT'>"
      ]
     },
     "execution_count": 7,
     "metadata": {},
     "output_type": "execute_result"
    },
    {
     "data": {
      "image/png": "[encoded data removed]",
      "text/plain": [
       "<Figure size 432x288 with 1 Axes>"
      ]
     },
     "metadata": {
      "needs_background": "light"
     },
     "output_type": "display_data"
    }
   ],
   "source": [
    "df_pivot_diff.sort_values(\"stamp_2\", ascending = False)[\"stamp_2\"].head(10).plot.barh()"
   ]
  },
  {
   "cell_type": "code",
   "execution_count": null,
   "id": "extra-executive",
   "metadata": {
    "papermill": {
     "duration": 0.021711,
     "end_time": "2021-10-31T03:00:11.027669",
     "exception": false,
     "start_time": "2021-10-31T03:00:11.005958",
     "status": "completed"
    },
    "tags": []
   },
   "outputs": [],
   "source": []
  }
 ],
 "metadata": {
  "kernelspec": {
   "display_name": "Python 3",
   "language": "python",
   "name": "python3"
  },
  "language_info": {
   "codemirror_mode": {
    "name": "ipython",
    "version": 3
   },
   "file_extension": ".py",
   "mimetype": "text/x-python",
   "name": "python",
   "nbconvert_exporter": "python",
   "pygments_lexer": "ipython3",
   "version": "3.9.5"
  },
  "papermill": {
   "default_parameters": {},
   "duration": 7.486011,
   "end_time": "2021-10-31T03:00:11.670439",
   "environment_variables": {},
   "exception": null,
   "input_path": "eBay_Overview.ipynb",
   "output_path": "eBay_Overview.ipynb",
   "parameters": {},
   "start_time": "2021-10-31T03:00:04.184428",
   "version": "2.3.3"
  }
 },
 "nbformat": 4,
 "nbformat_minor": 5
}