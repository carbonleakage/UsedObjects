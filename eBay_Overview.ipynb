{
 "cells": [
  {
   "cell_type": "code",
   "execution_count": 1,
   "id": "reverse-picking",
   "metadata": {
    "execution": {
     "iopub.execute_input": "2021-10-19T12:00:07.226598Z",
     "iopub.status.busy": "2021-10-19T12:00:07.224577Z",
     "iopub.status.idle": "2021-10-19T12:00:08.031783Z",
     "shell.execute_reply": "2021-10-19T12:00:08.030211Z"
    },
    "papermill": {
     "duration": 0.857858,
     "end_time": "2021-10-19T12:00:08.032176",
     "exception": false,
     "start_time": "2021-10-19T12:00:07.174318",
     "status": "completed"
    },
    "tags": []
   },
   "outputs": [],
   "source": [
    "import pandas as pd\n",
    "import sqlite3"
   ]
  },
  {
   "cell_type": "code",
   "execution_count": 2,
   "id": "innovative-syndrome",
   "metadata": {
    "execution": {
     "iopub.execute_input": "2021-10-19T12:00:08.083498Z",
     "iopub.status.busy": "2021-10-19T12:00:08.081454Z",
     "iopub.status.idle": "2021-10-19T12:00:08.656950Z",
     "shell.execute_reply": "2021-10-19T12:00:08.658469Z"
    },
    "papermill": {
     "duration": 0.605667,
     "end_time": "2021-10-19T12:00:08.658920",
     "exception": false,
     "start_time": "2021-10-19T12:00:08.053253",
     "status": "completed"
    },
    "tags": []
   },
   "outputs": [],
   "source": [
    "timestamps = pd.read_sql(\"select distinct record_time from EBAY_TOP_BERLIN order by record_time desc limit 2\", sqlite3.connect(\"UsedObjects.db\"))"
   ]
  },
  {
   "cell_type": "code",
   "execution_count": 3,
   "id": "periodic-identification",
   "metadata": {
    "execution": {
     "iopub.execute_input": "2021-10-19T12:00:08.732541Z",
     "iopub.status.busy": "2021-10-19T12:00:08.730504Z",
     "iopub.status.idle": "2021-10-19T12:00:08.750844Z",
     "shell.execute_reply": "2021-10-19T12:00:08.752065Z"
    },
    "papermill": {
     "duration": 0.067897,
     "end_time": "2021-10-19T12:00:08.752463",
     "exception": false,
     "start_time": "2021-10-19T12:00:08.684566",
     "status": "completed"
    },
    "tags": []
   },
   "outputs": [
    {
     "data": {
      "text/html": [
       "<div>\n",
       "<style scoped>\n",
       "    .dataframe tbody tr th:only-of-type {\n",
       "        vertical-align: middle;\n",
       "    }\n",
       "\n",
       "    .dataframe tbody tr th {\n",
       "        vertical-align: top;\n",
       "    }\n",
       "\n",
       "    .dataframe thead th {\n",
       "        text-align: right;\n",
       "    }\n",
       "</style>\n",
       "<table border=\"1\" class=\"dataframe\">\n",
       "  <thead>\n",
       "    <tr style=\"text-align: right;\">\n",
       "      <th></th>\n",
       "      <th>RECORD_TIME</th>\n",
       "    </tr>\n",
       "  </thead>\n",
       "  <tbody>\n",
       "    <tr>\n",
       "      <th>0</th>\n",
       "      <td>2021-10-19 14:00</td>\n",
       "    </tr>\n",
       "    <tr>\n",
       "      <th>1</th>\n",
       "      <td>2021-10-19 13:30</td>\n",
       "    </tr>\n",
       "  </tbody>\n",
       "</table>\n",
       "</div>"
      ],
      "text/plain": [
       "        RECORD_TIME\n",
       "0  2021-10-19 14:00\n",
       "1  2021-10-19 13:30"
      ]
     },
     "execution_count": 3,
     "metadata": {},
     "output_type": "execute_result"
    }
   ],
   "source": [
    "timestamps"
   ]
  },
  {
   "cell_type": "code",
   "execution_count": 4,
   "id": "alternate-victory",
   "metadata": {
    "execution": {
     "iopub.execute_input": "2021-10-19T12:00:08.806523Z",
     "iopub.status.busy": "2021-10-19T12:00:08.804120Z",
     "iopub.status.idle": "2021-10-19T12:00:09.649842Z",
     "shell.execute_reply": "2021-10-19T12:00:09.651133Z"
    },
    "papermill": {
     "duration": 0.876095,
     "end_time": "2021-10-19T12:00:09.651535",
     "exception": false,
     "start_time": "2021-10-19T12:00:08.775440",
     "status": "completed"
    },
    "tags": []
   },
   "outputs": [],
   "source": [
    "df = pd.read_sql(\"select * from EBAY_TOP_BERLIN where record_time in (select distinct record_time from EBAY_TOP_BERLIN order by record_time desc limit 2)\", sqlite3.connect(\"UsedObjects.db\"))"
   ]
  },
  {
   "cell_type": "code",
   "execution_count": 5,
   "id": "popular-active",
   "metadata": {
    "execution": {
     "iopub.execute_input": "2021-10-19T12:00:09.723299Z",
     "iopub.status.busy": "2021-10-19T12:00:09.710414Z",
     "iopub.status.idle": "2021-10-19T12:00:09.739038Z",
     "shell.execute_reply": "2021-10-19T12:00:09.740341Z"
    },
    "papermill": {
     "duration": 0.068634,
     "end_time": "2021-10-19T12:00:09.740820",
     "exception": false,
     "start_time": "2021-10-19T12:00:09.672186",
     "status": "completed"
    },
    "tags": []
   },
   "outputs": [],
   "source": [
    "df_pivot = df.pivot_table(index=\"PRODUCT\", columns = \"RECORD_TIME\", values = \"LISTING_COUNT\")"
   ]
  },
  {
   "cell_type": "code",
   "execution_count": 6,
   "id": "union-huntington",
   "metadata": {
    "execution": {
     "iopub.execute_input": "2021-10-19T12:00:09.797888Z",
     "iopub.status.busy": "2021-10-19T12:00:09.795656Z",
     "iopub.status.idle": "2021-10-19T12:00:09.801337Z",
     "shell.execute_reply": "2021-10-19T12:00:09.802820Z"
    },
    "papermill": {
     "duration": 0.041197,
     "end_time": "2021-10-19T12:00:09.803253",
     "exception": false,
     "start_time": "2021-10-19T12:00:09.762056",
     "status": "completed"
    },
    "tags": []
   },
   "outputs": [],
   "source": [
    "df_pivot.columns = [\"stamp_1\", \"stamp_2\"]\n",
    "df_pivot_diff = df_pivot.diff(axis=1)"
   ]
  },
  {
   "cell_type": "code",
   "execution_count": 7,
   "id": "fifth-motion",
   "metadata": {
    "execution": {
     "iopub.execute_input": "2021-10-19T12:00:09.858309Z",
     "iopub.status.busy": "2021-10-19T12:00:09.855634Z",
     "iopub.status.idle": "2021-10-19T12:00:11.352863Z",
     "shell.execute_reply": "2021-10-19T12:00:11.354179Z"
    },
    "papermill": {
     "duration": 1.531059,
     "end_time": "2021-10-19T12:00:11.354631",
     "exception": false,
     "start_time": "2021-10-19T12:00:09.823572",
     "status": "completed"
    },
    "tags": []
   },
   "outputs": [
    {
     "data": {
      "text/plain": [
       "<AxesSubplot:ylabel='PRODUCT'>"
      ]
     },
     "execution_count": 7,
     "metadata": {},
     "output_type": "execute_result"
    },
    {
     "data": {
      "image/png": "[encoded data removed]",
      "text/plain": [
       "<Figure size 432x288 with 1 Axes>"
      ]
     },
     "metadata": {
      "needs_background": "light"
     },
     "output_type": "display_data"
    }
   ],
   "source": [
    "df_pivot_diff.sort_values(\"stamp_2\", ascending = False)[\"stamp_2\"].head(10).plot.barh()"
   ]
  },
  {
   "cell_type": "code",
   "execution_count": null,
   "id": "extra-executive",
   "metadata": {
    "papermill": {
     "duration": 0.022321,
     "end_time": "2021-10-19T12:00:11.402034",
     "exception": false,
     "start_time": "2021-10-19T12:00:11.379713",
     "status": "completed"
    },
    "tags": []
   },
   "outputs": [],
   "source": []
  }
 ],
 "metadata": {
  "kernelspec": {
   "display_name": "Python 3",
   "language": "python",
   "name": "python3"
  },
  "language_info": {
   "codemirror_mode": {
    "name": "ipython",
    "version": 3
   },
   "file_extension": ".py",
   "mimetype": "text/x-python",
   "name": "python",
   "nbconvert_exporter": "python",
   "pygments_lexer": "ipython3",
   "version": "3.9.5"
  },
  "papermill": {
   "default_parameters": {},
   "duration": 7.821475,
   "end_time": "2021-10-19T12:00:12.587338",
   "environment_variables": {},
   "exception": null,
   "input_path": "eBay_Overview.ipynb",
   "output_path": "eBay_Overview.ipynb",
   "parameters": {},
   "start_time": "2021-10-19T12:00:04.765863",
   "version": "2.3.3"
  }
 },
 "nbformat": 4,
 "nbformat_minor": 5
}