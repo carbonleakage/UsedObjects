{
 "cells": [
  {
   "cell_type": "code",
   "execution_count": 1,
   "id": "reverse-picking",
   "metadata": {
    "execution": {
     "iopub.execute_input": "2021-12-03T02:00:07.717298Z",
     "iopub.status.busy": "2021-12-03T02:00:07.714460Z",
     "iopub.status.idle": "2021-12-03T02:00:08.670853Z",
     "shell.execute_reply": "2021-12-03T02:00:08.672877Z"
    },
    "papermill": {
     "duration": 1.007885,
     "end_time": "2021-12-03T02:00:08.673679",
     "exception": false,
     "start_time": "2021-12-03T02:00:07.665794",
     "status": "completed"
    },
    "tags": []
   },
   "outputs": [],
   "source": [
    "import pandas as pd\n",
    "import sqlite3"
   ]
  },
  {
   "cell_type": "code",
   "execution_count": 2,
   "id": "innovative-syndrome",
   "metadata": {
    "execution": {
     "iopub.execute_input": "2021-12-03T02:00:08.834489Z",
     "iopub.status.busy": "2021-12-03T02:00:08.832102Z",
     "iopub.status.idle": "2021-12-03T02:00:09.796862Z",
     "shell.execute_reply": "2021-12-03T02:00:09.795107Z"
    },
    "papermill": {
     "duration": 1.031032,
     "end_time": "2021-12-03T02:00:09.797344",
     "exception": false,
     "start_time": "2021-12-03T02:00:08.766312",
     "status": "completed"
    },
    "tags": []
   },
   "outputs": [],
   "source": [
    "timestamps = pd.read_sql(\"select distinct record_time from EBAY_TOP_BERLIN order by record_time desc limit 2\", sqlite3.connect(\"UsedObjects.db\"))"
   ]
  },
  {
   "cell_type": "code",
   "execution_count": 3,
   "id": "periodic-identification",
   "metadata": {
    "execution": {
     "iopub.execute_input": "2021-12-03T02:00:09.869414Z",
     "iopub.status.busy": "2021-12-03T02:00:09.867134Z",
     "iopub.status.idle": "2021-12-03T02:00:09.887904Z",
     "shell.execute_reply": "2021-12-03T02:00:09.889423Z"
    },
    "papermill": {
     "duration": 0.071489,
     "end_time": "2021-12-03T02:00:09.889918",
     "exception": false,
     "start_time": "2021-12-03T02:00:09.818429",
     "status": "completed"
    },
    "tags": []
   },
   "outputs": [
    {
     "data": {
      "text/html": [
       "<div>\n",
       "<style scoped>\n",
       "    .dataframe tbody tr th:only-of-type {\n",
       "        vertical-align: middle;\n",
       "    }\n",
       "\n",
       "    .dataframe tbody tr th {\n",
       "        vertical-align: top;\n",
       "    }\n",
       "\n",
       "    .dataframe thead th {\n",
       "        text-align: right;\n",
       "    }\n",
       "</style>\n",
       "<table border=\"1\" class=\"dataframe\">\n",
       "  <thead>\n",
       "    <tr style=\"text-align: right;\">\n",
       "      <th></th>\n",
       "      <th>RECORD_TIME</th>\n",
       "    </tr>\n",
       "  </thead>\n",
       "  <tbody>\n",
       "    <tr>\n",
       "      <th>0</th>\n",
       "      <td>2021-12-03 03:00</td>\n",
       "    </tr>\n",
       "    <tr>\n",
       "      <th>1</th>\n",
       "      <td>2021-12-03 02:30</td>\n",
       "    </tr>\n",
       "  </tbody>\n",
       "</table>\n",
       "</div>"
      ],
      "text/plain": [
       "        RECORD_TIME\n",
       "0  2021-12-03 03:00\n",
       "1  2021-12-03 02:30"
      ]
     },
     "execution_count": 3,
     "metadata": {},
     "output_type": "execute_result"
    }
   ],
   "source": [
    "timestamps"
   ]
  },
  {
   "cell_type": "code",
   "execution_count": 4,
   "id": "alternate-victory",
   "metadata": {
    "execution": {
     "iopub.execute_input": "2021-12-03T02:00:09.943826Z",
     "iopub.status.busy": "2021-12-03T02:00:09.941314Z",
     "iopub.status.idle": "2021-12-03T02:00:11.355518Z",
     "shell.execute_reply": "2021-12-03T02:00:11.357368Z"
    },
    "papermill": {
     "duration": 1.446337,
     "end_time": "2021-12-03T02:00:11.357866",
     "exception": false,
     "start_time": "2021-12-03T02:00:09.911529",
     "status": "completed"
    },
    "tags": []
   },
   "outputs": [],
   "source": [
    "df = pd.read_sql(\"select * from EBAY_TOP_BERLIN where record_time in (select distinct record_time from EBAY_TOP_BERLIN order by record_time desc limit 2)\", sqlite3.connect(\"UsedObjects.db\"))"
   ]
  },
  {
   "cell_type": "code",
   "execution_count": 5,
   "id": "popular-active",
   "metadata": {
    "execution": {
     "iopub.execute_input": "2021-12-03T02:00:11.433967Z",
     "iopub.status.busy": "2021-12-03T02:00:11.420482Z",
     "iopub.status.idle": "2021-12-03T02:00:11.452008Z",
     "shell.execute_reply": "2021-12-03T02:00:11.453488Z"
    },
    "papermill": {
     "duration": 0.073999,
     "end_time": "2021-12-03T02:00:11.453977",
     "exception": false,
     "start_time": "2021-12-03T02:00:11.379978",
     "status": "completed"
    },
    "tags": []
   },
   "outputs": [],
   "source": [
    "df_pivot = df.pivot_table(index=\"PRODUCT\", columns = \"RECORD_TIME\", values = \"LISTING_COUNT\")"
   ]
  },
  {
   "cell_type": "code",
   "execution_count": 6,
   "id": "union-huntington",
   "metadata": {
    "execution": {
     "iopub.execute_input": "2021-12-03T02:00:11.515057Z",
     "iopub.status.busy": "2021-12-03T02:00:11.511766Z",
     "iopub.status.idle": "2021-12-03T02:00:11.520208Z",
     "shell.execute_reply": "2021-12-03T02:00:11.521985Z"
    },
    "papermill": {
     "duration": 0.048837,
     "end_time": "2021-12-03T02:00:11.522485",
     "exception": false,
     "start_time": "2021-12-03T02:00:11.473648",
     "status": "completed"
    },
    "tags": []
   },
   "outputs": [],
   "source": [
    "df_pivot.columns = [\"stamp_1\", \"stamp_2\"]\n",
    "df_pivot_diff = df_pivot.diff(axis=1)"
   ]
  },
  {
   "cell_type": "code",
   "execution_count": 7,
   "id": "fifth-motion",
   "metadata": {
    "execution": {
     "iopub.execute_input": "2021-12-03T02:00:11.580443Z",
     "iopub.status.busy": "2021-12-03T02:00:11.577540Z",
     "iopub.status.idle": "2021-12-03T02:00:13.541598Z",
     "shell.execute_reply": "2021-12-03T02:00:13.544259Z"
    },
    "papermill": {
     "duration": 2.001289,
     "end_time": "2021-12-03T02:00:13.545132",
     "exception": false,
     "start_time": "2021-12-03T02:00:11.543843",
     "status": "completed"
    },
    "tags": []
   },
   "outputs": [
    {
     "data": {
      "text/plain": [
       "<AxesSubplot:ylabel='PRODUCT'>"
      ]
     },
     "execution_count": 7,
     "metadata": {},
     "output_type": "execute_result"
    },
    {
     "data": {
      "image/png": "[encoded data removed]",
      "text/plain": [
       "<Figure size 432x288 with 1 Axes>"
      ]
     },
     "metadata": {
      "needs_background": "light"
     },
     "output_type": "display_data"
    }
   ],
   "source": [
    "df_pivot_diff.sort_values(\"stamp_2\", ascending = False)[\"stamp_2\"].head(10).plot.barh()"
   ]
  },
  {
   "cell_type": "code",
   "execution_count": null,
   "id": "extra-executive",
   "metadata": {
    "papermill": {
     "duration": 0.059126,
     "end_time": "2021-12-03T02:00:13.634868",
     "exception": false,
     "start_time": "2021-12-03T02:00:13.575742",
     "status": "completed"
    },
    "tags": []
   },
   "outputs": [],
   "source": []
  }
 ],
 "metadata": {
  "kernelspec": {
   "display_name": "Python 3",
   "language": "python",
   "name": "python3"
  },
  "language_info": {
   "codemirror_mode": {
    "name": "ipython",
    "version": 3
   },
   "file_extension": ".py",
   "mimetype": "text/x-python",
   "name": "python",
   "nbconvert_exporter": "python",
   "pygments_lexer": "ipython3",
   "version": "3.9.5"
  },
  "papermill": {
   "default_parameters": {},
   "duration": 9.940116,
   "end_time": "2021-12-03T02:00:14.848415",
   "environment_variables": {},
   "exception": null,
   "input_path": "eBay_Overview.ipynb",
   "output_path": "eBay_Overview.ipynb",
   "parameters": {},
   "start_time": "2021-12-03T02:00:04.908299",
   "version": "2.3.3"
  }
 },
 "nbformat": 4,
 "nbformat_minor": 5
}