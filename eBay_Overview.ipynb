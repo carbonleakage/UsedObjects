{
 "cells": [
  {
   "cell_type": "code",
   "execution_count": 1,
   "id": "reverse-picking",
   "metadata": {
    "execution": {
     "iopub.execute_input": "2021-11-15T01:00:07.529813Z",
     "iopub.status.busy": "2021-11-15T01:00:07.512815Z",
     "iopub.status.idle": "2021-11-15T01:00:08.474303Z",
     "shell.execute_reply": "2021-11-15T01:00:08.475857Z"
    },
    "papermill": {
     "duration": 0.99624,
     "end_time": "2021-11-15T01:00:08.476619",
     "exception": false,
     "start_time": "2021-11-15T01:00:07.480379",
     "status": "completed"
    },
    "tags": []
   },
   "outputs": [],
   "source": [
    "import pandas as pd\n",
    "import sqlite3"
   ]
  },
  {
   "cell_type": "code",
   "execution_count": 2,
   "id": "innovative-syndrome",
   "metadata": {
    "execution": {
     "iopub.execute_input": "2021-11-15T01:00:08.556094Z",
     "iopub.status.busy": "2021-11-15T01:00:08.552367Z",
     "iopub.status.idle": "2021-11-15T01:00:09.381597Z",
     "shell.execute_reply": "2021-11-15T01:00:09.383063Z"
    },
    "papermill": {
     "duration": 0.873366,
     "end_time": "2021-11-15T01:00:09.383527",
     "exception": false,
     "start_time": "2021-11-15T01:00:08.510161",
     "status": "completed"
    },
    "tags": []
   },
   "outputs": [],
   "source": [
    "timestamps = pd.read_sql(\"select distinct record_time from EBAY_TOP_BERLIN order by record_time desc limit 2\", sqlite3.connect(\"UsedObjects.db\"))"
   ]
  },
  {
   "cell_type": "code",
   "execution_count": 3,
   "id": "periodic-identification",
   "metadata": {
    "execution": {
     "iopub.execute_input": "2021-11-15T01:00:09.436992Z",
     "iopub.status.busy": "2021-11-15T01:00:09.434776Z",
     "iopub.status.idle": "2021-11-15T01:00:09.475629Z",
     "shell.execute_reply": "2021-11-15T01:00:09.477175Z"
    },
    "papermill": {
     "duration": 0.072796,
     "end_time": "2021-11-15T01:00:09.477660",
     "exception": false,
     "start_time": "2021-11-15T01:00:09.404864",
     "status": "completed"
    },
    "tags": []
   },
   "outputs": [
    {
     "data": {
      "text/html": [
       "<div>\n",
       "<style scoped>\n",
       "    .dataframe tbody tr th:only-of-type {\n",
       "        vertical-align: middle;\n",
       "    }\n",
       "\n",
       "    .dataframe tbody tr th {\n",
       "        vertical-align: top;\n",
       "    }\n",
       "\n",
       "    .dataframe thead th {\n",
       "        text-align: right;\n",
       "    }\n",
       "</style>\n",
       "<table border=\"1\" class=\"dataframe\">\n",
       "  <thead>\n",
       "    <tr style=\"text-align: right;\">\n",
       "      <th></th>\n",
       "      <th>RECORD_TIME</th>\n",
       "    </tr>\n",
       "  </thead>\n",
       "  <tbody>\n",
       "    <tr>\n",
       "      <th>0</th>\n",
       "      <td>2021-11-15 02:00</td>\n",
       "    </tr>\n",
       "    <tr>\n",
       "      <th>1</th>\n",
       "      <td>2021-11-15 01:30</td>\n",
       "    </tr>\n",
       "  </tbody>\n",
       "</table>\n",
       "</div>"
      ],
      "text/plain": [
       "        RECORD_TIME\n",
       "0  2021-11-15 02:00\n",
       "1  2021-11-15 01:30"
      ]
     },
     "execution_count": 3,
     "metadata": {},
     "output_type": "execute_result"
    }
   ],
   "source": [
    "timestamps"
   ]
  },
  {
   "cell_type": "code",
   "execution_count": 4,
   "id": "alternate-victory",
   "metadata": {
    "execution": {
     "iopub.execute_input": "2021-11-15T01:00:09.529136Z",
     "iopub.status.busy": "2021-11-15T01:00:09.527166Z",
     "iopub.status.idle": "2021-11-15T01:00:10.726224Z",
     "shell.execute_reply": "2021-11-15T01:00:10.727915Z"
    },
    "papermill": {
     "duration": 1.229526,
     "end_time": "2021-11-15T01:00:10.728444",
     "exception": false,
     "start_time": "2021-11-15T01:00:09.498918",
     "status": "completed"
    },
    "tags": []
   },
   "outputs": [],
   "source": [
    "df = pd.read_sql(\"select * from EBAY_TOP_BERLIN where record_time in (select distinct record_time from EBAY_TOP_BERLIN order by record_time desc limit 2)\", sqlite3.connect(\"UsedObjects.db\"))"
   ]
  },
  {
   "cell_type": "code",
   "execution_count": 5,
   "id": "popular-active",
   "metadata": {
    "execution": {
     "iopub.execute_input": "2021-11-15T01:00:10.806773Z",
     "iopub.status.busy": "2021-11-15T01:00:10.792980Z",
     "iopub.status.idle": "2021-11-15T01:00:10.825816Z",
     "shell.execute_reply": "2021-11-15T01:00:10.827237Z"
    },
    "papermill": {
     "duration": 0.077879,
     "end_time": "2021-11-15T01:00:10.827734",
     "exception": false,
     "start_time": "2021-11-15T01:00:10.749855",
     "status": "completed"
    },
    "tags": []
   },
   "outputs": [],
   "source": [
    "df_pivot = df.pivot_table(index=\"PRODUCT\", columns = \"RECORD_TIME\", values = \"LISTING_COUNT\")"
   ]
  },
  {
   "cell_type": "code",
   "execution_count": 6,
   "id": "union-huntington",
   "metadata": {
    "execution": {
     "iopub.execute_input": "2021-11-15T01:00:10.888536Z",
     "iopub.status.busy": "2021-11-15T01:00:10.886274Z",
     "iopub.status.idle": "2021-11-15T01:00:10.892476Z",
     "shell.execute_reply": "2021-11-15T01:00:10.894169Z"
    },
    "papermill": {
     "duration": 0.045744,
     "end_time": "2021-11-15T01:00:10.894766",
     "exception": false,
     "start_time": "2021-11-15T01:00:10.849022",
     "status": "completed"
    },
    "tags": []
   },
   "outputs": [],
   "source": [
    "df_pivot.columns = [\"stamp_1\", \"stamp_2\"]\n",
    "df_pivot_diff = df_pivot.diff(axis=1)"
   ]
  },
  {
   "cell_type": "code",
   "execution_count": 7,
   "id": "fifth-motion",
   "metadata": {
    "execution": {
     "iopub.execute_input": "2021-11-15T01:00:10.950355Z",
     "iopub.status.busy": "2021-11-15T01:00:10.947851Z",
     "iopub.status.idle": "2021-11-15T01:00:12.895012Z",
     "shell.execute_reply": "2021-11-15T01:00:12.897417Z"
    },
    "papermill": {
     "duration": 1.983263,
     "end_time": "2021-11-15T01:00:12.898127",
     "exception": false,
     "start_time": "2021-11-15T01:00:10.914864",
     "status": "completed"
    },
    "tags": []
   },
   "outputs": [
    {
     "data": {
      "text/plain": [
       "<AxesSubplot:ylabel='PRODUCT'>"
      ]
     },
     "execution_count": 7,
     "metadata": {},
     "output_type": "execute_result"
    },
    {
     "data": {
      "image/png": "[encoded data removed]",
      "text/plain": [
       "<Figure size 432x288 with 1 Axes>"
      ]
     },
     "metadata": {
      "needs_background": "light"
     },
     "output_type": "display_data"
    }
   ],
   "source": [
    "df_pivot_diff.sort_values(\"stamp_2\", ascending = False)[\"stamp_2\"].head(10).plot.barh()"
   ]
  },
  {
   "cell_type": "code",
   "execution_count": null,
   "id": "extra-executive",
   "metadata": {
    "papermill": {
     "duration": 0.037133,
     "end_time": "2021-11-15T01:00:12.969150",
     "exception": false,
     "start_time": "2021-11-15T01:00:12.932017",
     "status": "completed"
    },
    "tags": []
   },
   "outputs": [],
   "source": []
  }
 ],
 "metadata": {
  "kernelspec": {
   "display_name": "Python 3",
   "language": "python",
   "name": "python3"
  },
  "language_info": {
   "codemirror_mode": {
    "name": "ipython",
    "version": 3
   },
   "file_extension": ".py",
   "mimetype": "text/x-python",
   "name": "python",
   "nbconvert_exporter": "python",
   "pygments_lexer": "ipython3",
   "version": "3.9.5"
  },
  "papermill": {
   "default_parameters": {},
   "duration": 9.929497,
   "end_time": "2021-11-15T01:00:14.685166",
   "environment_variables": {},
   "exception": null,
   "input_path": "eBay_Overview.ipynb",
   "output_path": "eBay_Overview.ipynb",
   "parameters": {},
   "start_time": "2021-11-15T01:00:04.755669",
   "version": "2.3.3"
  }
 },
 "nbformat": 4,
 "nbformat_minor": 5
}