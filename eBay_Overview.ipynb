{
 "cells": [
  {
   "cell_type": "code",
   "execution_count": 1,
   "id": "reverse-picking",
   "metadata": {
    "execution": {
     "iopub.execute_input": "2021-11-03T00:30:07.750219Z",
     "iopub.status.busy": "2021-11-03T00:30:07.747843Z",
     "iopub.status.idle": "2021-11-03T00:30:08.650253Z",
     "shell.execute_reply": "2021-11-03T00:30:08.652279Z"
    },
    "papermill": {
     "duration": 0.953082,
     "end_time": "2021-11-03T00:30:08.653099",
     "exception": false,
     "start_time": "2021-11-03T00:30:07.700017",
     "status": "completed"
    },
    "tags": []
   },
   "outputs": [],
   "source": [
    "import pandas as pd\n",
    "import sqlite3"
   ]
  },
  {
   "cell_type": "code",
   "execution_count": 2,
   "id": "innovative-syndrome",
   "metadata": {
    "execution": {
     "iopub.execute_input": "2021-11-03T00:30:08.719260Z",
     "iopub.status.busy": "2021-11-03T00:30:08.717050Z",
     "iopub.status.idle": "2021-11-03T00:30:09.436155Z",
     "shell.execute_reply": "2021-11-03T00:30:09.438390Z"
    },
    "papermill": {
     "duration": 0.764246,
     "end_time": "2021-11-03T00:30:09.438921",
     "exception": false,
     "start_time": "2021-11-03T00:30:08.674675",
     "status": "completed"
    },
    "tags": []
   },
   "outputs": [],
   "source": [
    "timestamps = pd.read_sql(\"select distinct record_time from EBAY_TOP_BERLIN order by record_time desc limit 2\", sqlite3.connect(\"UsedObjects.db\"))"
   ]
  },
  {
   "cell_type": "code",
   "execution_count": 3,
   "id": "periodic-identification",
   "metadata": {
    "execution": {
     "iopub.execute_input": "2021-11-03T00:30:09.515402Z",
     "iopub.status.busy": "2021-11-03T00:30:09.509552Z",
     "iopub.status.idle": "2021-11-03T00:30:09.533236Z",
     "shell.execute_reply": "2021-11-03T00:30:09.534792Z"
    },
    "papermill": {
     "duration": 0.07539,
     "end_time": "2021-11-03T00:30:09.535273",
     "exception": false,
     "start_time": "2021-11-03T00:30:09.459883",
     "status": "completed"
    },
    "tags": []
   },
   "outputs": [
    {
     "data": {
      "text/html": [
       "<div>\n",
       "<style scoped>\n",
       "    .dataframe tbody tr th:only-of-type {\n",
       "        vertical-align: middle;\n",
       "    }\n",
       "\n",
       "    .dataframe tbody tr th {\n",
       "        vertical-align: top;\n",
       "    }\n",
       "\n",
       "    .dataframe thead th {\n",
       "        text-align: right;\n",
       "    }\n",
       "</style>\n",
       "<table border=\"1\" class=\"dataframe\">\n",
       "  <thead>\n",
       "    <tr style=\"text-align: right;\">\n",
       "      <th></th>\n",
       "      <th>RECORD_TIME</th>\n",
       "    </tr>\n",
       "  </thead>\n",
       "  <tbody>\n",
       "    <tr>\n",
       "      <th>0</th>\n",
       "      <td>2021-11-03 01:30</td>\n",
       "    </tr>\n",
       "    <tr>\n",
       "      <th>1</th>\n",
       "      <td>2021-11-03 01:00</td>\n",
       "    </tr>\n",
       "  </tbody>\n",
       "</table>\n",
       "</div>"
      ],
      "text/plain": [
       "        RECORD_TIME\n",
       "0  2021-11-03 01:30\n",
       "1  2021-11-03 01:00"
      ]
     },
     "execution_count": 3,
     "metadata": {},
     "output_type": "execute_result"
    }
   ],
   "source": [
    "timestamps"
   ]
  },
  {
   "cell_type": "code",
   "execution_count": 4,
   "id": "alternate-victory",
   "metadata": {
    "execution": {
     "iopub.execute_input": "2021-11-03T00:30:09.595335Z",
     "iopub.status.busy": "2021-11-03T00:30:09.591596Z",
     "iopub.status.idle": "2021-11-03T00:30:10.662230Z",
     "shell.execute_reply": "2021-11-03T00:30:10.663665Z"
    },
    "papermill": {
     "duration": 1.10614,
     "end_time": "2021-11-03T00:30:10.664127",
     "exception": false,
     "start_time": "2021-11-03T00:30:09.557987",
     "status": "completed"
    },
    "tags": []
   },
   "outputs": [],
   "source": [
    "df = pd.read_sql(\"select * from EBAY_TOP_BERLIN where record_time in (select distinct record_time from EBAY_TOP_BERLIN order by record_time desc limit 2)\", sqlite3.connect(\"UsedObjects.db\"))"
   ]
  },
  {
   "cell_type": "code",
   "execution_count": 5,
   "id": "popular-active",
   "metadata": {
    "execution": {
     "iopub.execute_input": "2021-11-03T00:30:10.737954Z",
     "iopub.status.busy": "2021-11-03T00:30:10.725519Z",
     "iopub.status.idle": "2021-11-03T00:30:10.781285Z",
     "shell.execute_reply": "2021-11-03T00:30:10.778554Z"
    },
    "papermill": {
     "duration": 0.096806,
     "end_time": "2021-11-03T00:30:10.781977",
     "exception": false,
     "start_time": "2021-11-03T00:30:10.685171",
     "status": "completed"
    },
    "tags": []
   },
   "outputs": [],
   "source": [
    "df_pivot = df.pivot_table(index=\"PRODUCT\", columns = \"RECORD_TIME\", values = \"LISTING_COUNT\")"
   ]
  },
  {
   "cell_type": "code",
   "execution_count": 6,
   "id": "union-huntington",
   "metadata": {
    "execution": {
     "iopub.execute_input": "2021-11-03T00:30:10.855868Z",
     "iopub.status.busy": "2021-11-03T00:30:10.853459Z",
     "iopub.status.idle": "2021-11-03T00:30:10.859571Z",
     "shell.execute_reply": "2021-11-03T00:30:10.861202Z"
    },
    "papermill": {
     "duration": 0.048024,
     "end_time": "2021-11-03T00:30:10.861715",
     "exception": false,
     "start_time": "2021-11-03T00:30:10.813691",
     "status": "completed"
    },
    "tags": []
   },
   "outputs": [],
   "source": [
    "df_pivot.columns = [\"stamp_1\", \"stamp_2\"]\n",
    "df_pivot_diff = df_pivot.diff(axis=1)"
   ]
  },
  {
   "cell_type": "code",
   "execution_count": 7,
   "id": "fifth-motion",
   "metadata": {
    "execution": {
     "iopub.execute_input": "2021-11-03T00:30:10.922210Z",
     "iopub.status.busy": "2021-11-03T00:30:10.919502Z",
     "iopub.status.idle": "2021-11-03T00:30:12.825552Z",
     "shell.execute_reply": "2021-11-03T00:30:12.828176Z"
    },
    "papermill": {
     "duration": 1.945499,
     "end_time": "2021-11-03T00:30:12.829086",
     "exception": false,
     "start_time": "2021-11-03T00:30:10.883587",
     "status": "completed"
    },
    "tags": []
   },
   "outputs": [
    {
     "data": {
      "text/plain": [
       "<AxesSubplot:ylabel='PRODUCT'>"
      ]
     },
     "execution_count": 7,
     "metadata": {},
     "output_type": "execute_result"
    },
    {
     "data": {
      "image/png": "[encoded data removed]",
      "text/plain": [
       "<Figure size 432x288 with 1 Axes>"
      ]
     },
     "metadata": {
      "needs_background": "light"
     },
     "output_type": "display_data"
    }
   ],
   "source": [
    "df_pivot_diff.sort_values(\"stamp_2\", ascending = False)[\"stamp_2\"].head(10).plot.barh()"
   ]
  },
  {
   "cell_type": "code",
   "execution_count": null,
   "id": "extra-executive",
   "metadata": {
    "papermill": {
     "duration": 0.033723,
     "end_time": "2021-11-03T00:30:12.900303",
     "exception": false,
     "start_time": "2021-11-03T00:30:12.866580",
     "status": "completed"
    },
    "tags": []
   },
   "outputs": [],
   "source": []
  }
 ],
 "metadata": {
  "kernelspec": {
   "display_name": "Python 3",
   "language": "python",
   "name": "python3"
  },
  "language_info": {
   "codemirror_mode": {
    "name": "ipython",
    "version": 3
   },
   "file_extension": ".py",
   "mimetype": "text/x-python",
   "name": "python",
   "nbconvert_exporter": "python",
   "pygments_lexer": "ipython3",
   "version": "3.9.5"
  },
  "papermill": {
   "default_parameters": {},
   "duration": 8.676587,
   "end_time": "2021-11-03T00:30:13.669859",
   "environment_variables": {},
   "exception": null,
   "input_path": "eBay_Overview.ipynb",
   "output_path": "eBay_Overview.ipynb",
   "parameters": {},
   "start_time": "2021-11-03T00:30:04.993272",
   "version": "2.3.3"
  }
 },
 "nbformat": 4,
 "nbformat_minor": 5
}