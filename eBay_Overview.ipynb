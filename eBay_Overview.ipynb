{
 "cells": [
  {
   "cell_type": "code",
   "execution_count": 1,
   "id": "reverse-picking",
   "metadata": {
    "execution": {
     "iopub.execute_input": "2021-11-23T23:30:08.099168Z",
     "iopub.status.busy": "2021-11-23T23:30:08.096165Z",
     "iopub.status.idle": "2021-11-23T23:30:09.052354Z",
     "shell.execute_reply": "2021-11-23T23:30:09.053937Z"
    },
    "papermill": {
     "duration": 1.006338,
     "end_time": "2021-11-23T23:30:09.054658",
     "exception": false,
     "start_time": "2021-11-23T23:30:08.048320",
     "status": "completed"
    },
    "tags": []
   },
   "outputs": [],
   "source": [
    "import pandas as pd\n",
    "import sqlite3"
   ]
  },
  {
   "cell_type": "code",
   "execution_count": 2,
   "id": "innovative-syndrome",
   "metadata": {
    "execution": {
     "iopub.execute_input": "2021-11-23T23:30:09.175498Z",
     "iopub.status.busy": "2021-11-23T23:30:09.173318Z",
     "iopub.status.idle": "2021-11-23T23:30:10.079252Z",
     "shell.execute_reply": "2021-11-23T23:30:10.080756Z"
    },
    "papermill": {
     "duration": 0.93901,
     "end_time": "2021-11-23T23:30:10.081253",
     "exception": false,
     "start_time": "2021-11-23T23:30:09.142243",
     "status": "completed"
    },
    "tags": []
   },
   "outputs": [],
   "source": [
    "timestamps = pd.read_sql(\"select distinct record_time from EBAY_TOP_BERLIN order by record_time desc limit 2\", sqlite3.connect(\"UsedObjects.db\"))"
   ]
  },
  {
   "cell_type": "code",
   "execution_count": 3,
   "id": "periodic-identification",
   "metadata": {
    "execution": {
     "iopub.execute_input": "2021-11-23T23:30:10.153360Z",
     "iopub.status.busy": "2021-11-23T23:30:10.150795Z",
     "iopub.status.idle": "2021-11-23T23:30:10.174746Z",
     "shell.execute_reply": "2021-11-23T23:30:10.176332Z"
    },
    "papermill": {
     "duration": 0.074135,
     "end_time": "2021-11-23T23:30:10.176876",
     "exception": false,
     "start_time": "2021-11-23T23:30:10.102741",
     "status": "completed"
    },
    "tags": []
   },
   "outputs": [
    {
     "data": {
      "text/html": [
       "<div>\n",
       "<style scoped>\n",
       "    .dataframe tbody tr th:only-of-type {\n",
       "        vertical-align: middle;\n",
       "    }\n",
       "\n",
       "    .dataframe tbody tr th {\n",
       "        vertical-align: top;\n",
       "    }\n",
       "\n",
       "    .dataframe thead th {\n",
       "        text-align: right;\n",
       "    }\n",
       "</style>\n",
       "<table border=\"1\" class=\"dataframe\">\n",
       "  <thead>\n",
       "    <tr style=\"text-align: right;\">\n",
       "      <th></th>\n",
       "      <th>RECORD_TIME</th>\n",
       "    </tr>\n",
       "  </thead>\n",
       "  <tbody>\n",
       "    <tr>\n",
       "      <th>0</th>\n",
       "      <td>2021-11-24 00:30</td>\n",
       "    </tr>\n",
       "    <tr>\n",
       "      <th>1</th>\n",
       "      <td>2021-11-24 00:00</td>\n",
       "    </tr>\n",
       "  </tbody>\n",
       "</table>\n",
       "</div>"
      ],
      "text/plain": [
       "        RECORD_TIME\n",
       "0  2021-11-24 00:30\n",
       "1  2021-11-24 00:00"
      ]
     },
     "execution_count": 3,
     "metadata": {},
     "output_type": "execute_result"
    }
   ],
   "source": [
    "timestamps"
   ]
  },
  {
   "cell_type": "code",
   "execution_count": 4,
   "id": "alternate-victory",
   "metadata": {
    "execution": {
     "iopub.execute_input": "2021-11-23T23:30:10.232360Z",
     "iopub.status.busy": "2021-11-23T23:30:10.230225Z",
     "iopub.status.idle": "2021-11-23T23:30:11.560673Z",
     "shell.execute_reply": "2021-11-23T23:30:11.562165Z"
    },
    "papermill": {
     "duration": 1.363812,
     "end_time": "2021-11-23T23:30:11.562608",
     "exception": false,
     "start_time": "2021-11-23T23:30:10.198796",
     "status": "completed"
    },
    "tags": []
   },
   "outputs": [],
   "source": [
    "df = pd.read_sql(\"select * from EBAY_TOP_BERLIN where record_time in (select distinct record_time from EBAY_TOP_BERLIN order by record_time desc limit 2)\", sqlite3.connect(\"UsedObjects.db\"))"
   ]
  },
  {
   "cell_type": "code",
   "execution_count": 5,
   "id": "popular-active",
   "metadata": {
    "execution": {
     "iopub.execute_input": "2021-11-23T23:30:11.634041Z",
     "iopub.status.busy": "2021-11-23T23:30:11.626225Z",
     "iopub.status.idle": "2021-11-23T23:30:11.660373Z",
     "shell.execute_reply": "2021-11-23T23:30:11.661755Z"
    },
    "papermill": {
     "duration": 0.079069,
     "end_time": "2021-11-23T23:30:11.662210",
     "exception": false,
     "start_time": "2021-11-23T23:30:11.583141",
     "status": "completed"
    },
    "tags": []
   },
   "outputs": [],
   "source": [
    "df_pivot = df.pivot_table(index=\"PRODUCT\", columns = \"RECORD_TIME\", values = \"LISTING_COUNT\")"
   ]
  },
  {
   "cell_type": "code",
   "execution_count": 6,
   "id": "union-huntington",
   "metadata": {
    "execution": {
     "iopub.execute_input": "2021-11-23T23:30:11.724405Z",
     "iopub.status.busy": "2021-11-23T23:30:11.721976Z",
     "iopub.status.idle": "2021-11-23T23:30:11.727356Z",
     "shell.execute_reply": "2021-11-23T23:30:11.729056Z"
    },
    "papermill": {
     "duration": 0.046041,
     "end_time": "2021-11-23T23:30:11.729547",
     "exception": false,
     "start_time": "2021-11-23T23:30:11.683506",
     "status": "completed"
    },
    "tags": []
   },
   "outputs": [],
   "source": [
    "df_pivot.columns = [\"stamp_1\", \"stamp_2\"]\n",
    "df_pivot_diff = df_pivot.diff(axis=1)"
   ]
  },
  {
   "cell_type": "code",
   "execution_count": 7,
   "id": "fifth-motion",
   "metadata": {
    "execution": {
     "iopub.execute_input": "2021-11-23T23:30:11.786020Z",
     "iopub.status.busy": "2021-11-23T23:30:11.783486Z",
     "iopub.status.idle": "2021-11-23T23:30:13.699382Z",
     "shell.execute_reply": "2021-11-23T23:30:13.700959Z"
    },
    "papermill": {
     "duration": 1.950888,
     "end_time": "2021-11-23T23:30:13.701431",
     "exception": false,
     "start_time": "2021-11-23T23:30:11.750543",
     "status": "completed"
    },
    "tags": []
   },
   "outputs": [
    {
     "data": {
      "text/plain": [
       "<AxesSubplot:ylabel='PRODUCT'>"
      ]
     },
     "execution_count": 7,
     "metadata": {},
     "output_type": "execute_result"
    },
    {
     "data": {
      "image/png": "[encoded data removed]",
      "text/plain": [
       "<Figure size 432x288 with 1 Axes>"
      ]
     },
     "metadata": {
      "needs_background": "light"
     },
     "output_type": "display_data"
    }
   ],
   "source": [
    "df_pivot_diff.sort_values(\"stamp_2\", ascending = False)[\"stamp_2\"].head(10).plot.barh()"
   ]
  },
  {
   "cell_type": "code",
   "execution_count": null,
   "id": "extra-executive",
   "metadata": {
    "papermill": {
     "duration": 0.026891,
     "end_time": "2021-11-23T23:30:13.752563",
     "exception": false,
     "start_time": "2021-11-23T23:30:13.725672",
     "status": "completed"
    },
    "tags": []
   },
   "outputs": [],
   "source": []
  }
 ],
 "metadata": {
  "kernelspec": {
   "display_name": "Python 3",
   "language": "python",
   "name": "python3"
  },
  "language_info": {
   "codemirror_mode": {
    "name": "ipython",
    "version": 3
   },
   "file_extension": ".py",
   "mimetype": "text/x-python",
   "name": "python",
   "nbconvert_exporter": "python",
   "pygments_lexer": "ipython3",
   "version": "3.9.5"
  },
  "papermill": {
   "default_parameters": {},
   "duration": 9.927143,
   "end_time": "2021-11-23T23:30:15.256443",
   "environment_variables": {},
   "exception": null,
   "input_path": "eBay_Overview.ipynb",
   "output_path": "eBay_Overview.ipynb",
   "parameters": {},
   "start_time": "2021-11-23T23:30:05.329300",
   "version": "2.3.3"
  }
 },
 "nbformat": 4,
 "nbformat_minor": 5
}