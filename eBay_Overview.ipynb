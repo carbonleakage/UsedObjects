{
 "cells": [
  {
   "cell_type": "code",
   "execution_count": 1,
   "id": "reverse-picking",
   "metadata": {
    "execution": {
     "iopub.execute_input": "2021-12-06T00:00:07.890247Z",
     "iopub.status.busy": "2021-12-06T00:00:07.887734Z",
     "iopub.status.idle": "2021-12-06T00:00:08.856806Z",
     "shell.execute_reply": "2021-12-06T00:00:08.858459Z"
    },
    "papermill": {
     "duration": 1.020036,
     "end_time": "2021-12-06T00:00:08.859337",
     "exception": false,
     "start_time": "2021-12-06T00:00:07.839301",
     "status": "completed"
    },
    "tags": []
   },
   "outputs": [],
   "source": [
    "import pandas as pd\n",
    "import sqlite3"
   ]
  },
  {
   "cell_type": "code",
   "execution_count": 2,
   "id": "innovative-syndrome",
   "metadata": {
    "execution": {
     "iopub.execute_input": "2021-12-06T00:00:08.982374Z",
     "iopub.status.busy": "2021-12-06T00:00:08.979991Z",
     "iopub.status.idle": "2021-12-06T00:00:09.989845Z",
     "shell.execute_reply": "2021-12-06T00:00:09.992272Z"
    },
    "papermill": {
     "duration": 1.043759,
     "end_time": "2021-12-06T00:00:09.992881",
     "exception": false,
     "start_time": "2021-12-06T00:00:08.949122",
     "status": "completed"
    },
    "tags": []
   },
   "outputs": [],
   "source": [
    "timestamps = pd.read_sql(\"select distinct record_time from EBAY_TOP_BERLIN order by record_time desc limit 2\", sqlite3.connect(\"UsedObjects.db\"))"
   ]
  },
  {
   "cell_type": "code",
   "execution_count": 3,
   "id": "periodic-identification",
   "metadata": {
    "execution": {
     "iopub.execute_input": "2021-12-06T00:00:10.065901Z",
     "iopub.status.busy": "2021-12-06T00:00:10.063572Z",
     "iopub.status.idle": "2021-12-06T00:00:10.086298Z",
     "shell.execute_reply": "2021-12-06T00:00:10.087755Z"
    },
    "papermill": {
     "duration": 0.071995,
     "end_time": "2021-12-06T00:00:10.088208",
     "exception": false,
     "start_time": "2021-12-06T00:00:10.016213",
     "status": "completed"
    },
    "tags": []
   },
   "outputs": [
    {
     "data": {
      "text/html": [
       "<div>\n",
       "<style scoped>\n",
       "    .dataframe tbody tr th:only-of-type {\n",
       "        vertical-align: middle;\n",
       "    }\n",
       "\n",
       "    .dataframe tbody tr th {\n",
       "        vertical-align: top;\n",
       "    }\n",
       "\n",
       "    .dataframe thead th {\n",
       "        text-align: right;\n",
       "    }\n",
       "</style>\n",
       "<table border=\"1\" class=\"dataframe\">\n",
       "  <thead>\n",
       "    <tr style=\"text-align: right;\">\n",
       "      <th></th>\n",
       "      <th>RECORD_TIME</th>\n",
       "    </tr>\n",
       "  </thead>\n",
       "  <tbody>\n",
       "    <tr>\n",
       "      <th>0</th>\n",
       "      <td>2021-12-06 01:00</td>\n",
       "    </tr>\n",
       "    <tr>\n",
       "      <th>1</th>\n",
       "      <td>2021-12-06 00:30</td>\n",
       "    </tr>\n",
       "  </tbody>\n",
       "</table>\n",
       "</div>"
      ],
      "text/plain": [
       "        RECORD_TIME\n",
       "0  2021-12-06 01:00\n",
       "1  2021-12-06 00:30"
      ]
     },
     "execution_count": 3,
     "metadata": {},
     "output_type": "execute_result"
    }
   ],
   "source": [
    "timestamps"
   ]
  },
  {
   "cell_type": "code",
   "execution_count": 4,
   "id": "alternate-victory",
   "metadata": {
    "execution": {
     "iopub.execute_input": "2021-12-06T00:00:10.145625Z",
     "iopub.status.busy": "2021-12-06T00:00:10.143495Z",
     "iopub.status.idle": "2021-12-06T00:00:11.622791Z",
     "shell.execute_reply": "2021-12-06T00:00:11.624177Z"
    },
    "papermill": {
     "duration": 1.515393,
     "end_time": "2021-12-06T00:00:11.624655",
     "exception": false,
     "start_time": "2021-12-06T00:00:10.109262",
     "status": "completed"
    },
    "tags": []
   },
   "outputs": [],
   "source": [
    "df = pd.read_sql(\"select * from EBAY_TOP_BERLIN where record_time in (select distinct record_time from EBAY_TOP_BERLIN order by record_time desc limit 2)\", sqlite3.connect(\"UsedObjects.db\"))"
   ]
  },
  {
   "cell_type": "code",
   "execution_count": 5,
   "id": "popular-active",
   "metadata": {
    "execution": {
     "iopub.execute_input": "2021-12-06T00:00:11.688433Z",
     "iopub.status.busy": "2021-12-06T00:00:11.685668Z",
     "iopub.status.idle": "2021-12-06T00:00:11.721938Z",
     "shell.execute_reply": "2021-12-06T00:00:11.723518Z"
    },
    "papermill": {
     "duration": 0.0788,
     "end_time": "2021-12-06T00:00:11.724050",
     "exception": false,
     "start_time": "2021-12-06T00:00:11.645250",
     "status": "completed"
    },
    "tags": []
   },
   "outputs": [],
   "source": [
    "df_pivot = df.pivot_table(index=\"PRODUCT\", columns = \"RECORD_TIME\", values = \"LISTING_COUNT\")"
   ]
  },
  {
   "cell_type": "code",
   "execution_count": 6,
   "id": "union-huntington",
   "metadata": {
    "execution": {
     "iopub.execute_input": "2021-12-06T00:00:11.780864Z",
     "iopub.status.busy": "2021-12-06T00:00:11.778393Z",
     "iopub.status.idle": "2021-12-06T00:00:11.795595Z",
     "shell.execute_reply": "2021-12-06T00:00:11.797282Z"
    },
    "papermill": {
     "duration": 0.05209,
     "end_time": "2021-12-06T00:00:11.797775",
     "exception": false,
     "start_time": "2021-12-06T00:00:11.745685",
     "status": "completed"
    },
    "tags": []
   },
   "outputs": [],
   "source": [
    "df_pivot.columns = [\"stamp_1\", \"stamp_2\"]\n",
    "df_pivot_diff = df_pivot.diff(axis=1)"
   ]
  },
  {
   "cell_type": "code",
   "execution_count": 7,
   "id": "fifth-motion",
   "metadata": {
    "execution": {
     "iopub.execute_input": "2021-12-06T00:00:11.857054Z",
     "iopub.status.busy": "2021-12-06T00:00:11.854467Z",
     "iopub.status.idle": "2021-12-06T00:00:13.819957Z",
     "shell.execute_reply": "2021-12-06T00:00:13.823008Z"
    },
    "papermill": {
     "duration": 2.00442,
     "end_time": "2021-12-06T00:00:13.823937",
     "exception": false,
     "start_time": "2021-12-06T00:00:11.819517",
     "status": "completed"
    },
    "tags": []
   },
   "outputs": [
    {
     "data": {
      "text/plain": [
       "<AxesSubplot:ylabel='PRODUCT'>"
      ]
     },
     "execution_count": 7,
     "metadata": {},
     "output_type": "execute_result"
    },
    {
     "data": {
      "image/png": "[encoded data removed]",
      "text/plain": [
       "<Figure size 432x288 with 1 Axes>"
      ]
     },
     "metadata": {
      "needs_background": "light"
     },
     "output_type": "display_data"
    }
   ],
   "source": [
    "df_pivot_diff.sort_values(\"stamp_2\", ascending = False)[\"stamp_2\"].head(10).plot.barh()"
   ]
  },
  {
   "cell_type": "code",
   "execution_count": null,
   "id": "extra-executive",
   "metadata": {
    "papermill": {
     "duration": 0.038854,
     "end_time": "2021-12-06T00:00:13.898472",
     "exception": false,
     "start_time": "2021-12-06T00:00:13.859618",
     "status": "completed"
    },
    "tags": []
   },
   "outputs": [],
   "source": []
  }
 ],
 "metadata": {
  "kernelspec": {
   "display_name": "Python 3",
   "language": "python",
   "name": "python3"
  },
  "language_info": {
   "codemirror_mode": {
    "name": "ipython",
    "version": 3
   },
   "file_extension": ".py",
   "mimetype": "text/x-python",
   "name": "python",
   "nbconvert_exporter": "python",
   "pygments_lexer": "ipython3",
   "version": "3.9.5"
  },
  "papermill": {
   "default_parameters": {},
   "duration": 9.571596,
   "end_time": "2021-12-06T00:00:14.656746",
   "environment_variables": {},
   "exception": null,
   "input_path": "eBay_Overview.ipynb",
   "output_path": "eBay_Overview.ipynb",
   "parameters": {},
   "start_time": "2021-12-06T00:00:05.085150",
   "version": "2.3.3"
  }
 },
 "nbformat": 4,
 "nbformat_minor": 5
}