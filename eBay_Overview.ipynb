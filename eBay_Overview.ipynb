{
 "cells": [
  {
   "cell_type": "code",
   "execution_count": 1,
   "id": "reverse-picking",
   "metadata": {
    "execution": {
     "iopub.execute_input": "2021-10-27T02:30:06.622722Z",
     "iopub.status.busy": "2021-10-27T02:30:06.620770Z",
     "iopub.status.idle": "2021-10-27T02:30:07.426046Z",
     "shell.execute_reply": "2021-10-27T02:30:07.427308Z"
    },
    "papermill": {
     "duration": 0.857377,
     "end_time": "2021-10-27T02:30:07.427931",
     "exception": false,
     "start_time": "2021-10-27T02:30:06.570554",
     "status": "completed"
    },
    "tags": []
   },
   "outputs": [],
   "source": [
    "import pandas as pd\n",
    "import sqlite3"
   ]
  },
  {
   "cell_type": "code",
   "execution_count": 2,
   "id": "innovative-syndrome",
   "metadata": {
    "execution": {
     "iopub.execute_input": "2021-10-27T02:30:07.478662Z",
     "iopub.status.busy": "2021-10-27T02:30:07.476773Z",
     "iopub.status.idle": "2021-10-27T02:30:08.126980Z",
     "shell.execute_reply": "2021-10-27T02:30:08.128195Z"
    },
    "papermill": {
     "duration": 0.679801,
     "end_time": "2021-10-27T02:30:08.128602",
     "exception": false,
     "start_time": "2021-10-27T02:30:07.448801",
     "status": "completed"
    },
    "tags": []
   },
   "outputs": [],
   "source": [
    "timestamps = pd.read_sql(\"select distinct record_time from EBAY_TOP_BERLIN order by record_time desc limit 2\", sqlite3.connect(\"UsedObjects.db\"))"
   ]
  },
  {
   "cell_type": "code",
   "execution_count": 3,
   "id": "periodic-identification",
   "metadata": {
    "execution": {
     "iopub.execute_input": "2021-10-27T02:30:08.203074Z",
     "iopub.status.busy": "2021-10-27T02:30:08.201025Z",
     "iopub.status.idle": "2021-10-27T02:30:08.220340Z",
     "shell.execute_reply": "2021-10-27T02:30:08.221934Z"
    },
    "papermill": {
     "duration": 0.068653,
     "end_time": "2021-10-27T02:30:08.222418",
     "exception": false,
     "start_time": "2021-10-27T02:30:08.153765",
     "status": "completed"
    },
    "tags": []
   },
   "outputs": [
    {
     "data": {
      "text/html": [
       "<div>\n",
       "<style scoped>\n",
       "    .dataframe tbody tr th:only-of-type {\n",
       "        vertical-align: middle;\n",
       "    }\n",
       "\n",
       "    .dataframe tbody tr th {\n",
       "        vertical-align: top;\n",
       "    }\n",
       "\n",
       "    .dataframe thead th {\n",
       "        text-align: right;\n",
       "    }\n",
       "</style>\n",
       "<table border=\"1\" class=\"dataframe\">\n",
       "  <thead>\n",
       "    <tr style=\"text-align: right;\">\n",
       "      <th></th>\n",
       "      <th>RECORD_TIME</th>\n",
       "    </tr>\n",
       "  </thead>\n",
       "  <tbody>\n",
       "    <tr>\n",
       "      <th>0</th>\n",
       "      <td>2021-10-27 04:30</td>\n",
       "    </tr>\n",
       "    <tr>\n",
       "      <th>1</th>\n",
       "      <td>2021-10-27 04:00</td>\n",
       "    </tr>\n",
       "  </tbody>\n",
       "</table>\n",
       "</div>"
      ],
      "text/plain": [
       "        RECORD_TIME\n",
       "0  2021-10-27 04:30\n",
       "1  2021-10-27 04:00"
      ]
     },
     "execution_count": 3,
     "metadata": {},
     "output_type": "execute_result"
    }
   ],
   "source": [
    "timestamps"
   ]
  },
  {
   "cell_type": "code",
   "execution_count": 4,
   "id": "alternate-victory",
   "metadata": {
    "execution": {
     "iopub.execute_input": "2021-10-27T02:30:08.274911Z",
     "iopub.status.busy": "2021-10-27T02:30:08.272665Z",
     "iopub.status.idle": "2021-10-27T02:30:09.229384Z",
     "shell.execute_reply": "2021-10-27T02:30:09.230795Z"
    },
    "papermill": {
     "duration": 0.987237,
     "end_time": "2021-10-27T02:30:09.231251",
     "exception": false,
     "start_time": "2021-10-27T02:30:08.244014",
     "status": "completed"
    },
    "tags": []
   },
   "outputs": [],
   "source": [
    "df = pd.read_sql(\"select * from EBAY_TOP_BERLIN where record_time in (select distinct record_time from EBAY_TOP_BERLIN order by record_time desc limit 2)\", sqlite3.connect(\"UsedObjects.db\"))"
   ]
  },
  {
   "cell_type": "code",
   "execution_count": 5,
   "id": "popular-active",
   "metadata": {
    "execution": {
     "iopub.execute_input": "2021-10-27T02:30:09.301632Z",
     "iopub.status.busy": "2021-10-27T02:30:09.289935Z",
     "iopub.status.idle": "2021-10-27T02:30:09.317432Z",
     "shell.execute_reply": "2021-10-27T02:30:09.318678Z"
    },
    "papermill": {
     "duration": 0.066807,
     "end_time": "2021-10-27T02:30:09.319091",
     "exception": false,
     "start_time": "2021-10-27T02:30:09.252284",
     "status": "completed"
    },
    "tags": []
   },
   "outputs": [],
   "source": [
    "df_pivot = df.pivot_table(index=\"PRODUCT\", columns = \"RECORD_TIME\", values = \"LISTING_COUNT\")"
   ]
  },
  {
   "cell_type": "code",
   "execution_count": 6,
   "id": "union-huntington",
   "metadata": {
    "execution": {
     "iopub.execute_input": "2021-10-27T02:30:09.377097Z",
     "iopub.status.busy": "2021-10-27T02:30:09.374725Z",
     "iopub.status.idle": "2021-10-27T02:30:09.380510Z",
     "shell.execute_reply": "2021-10-27T02:30:09.381914Z"
    },
    "papermill": {
     "duration": 0.041734,
     "end_time": "2021-10-27T02:30:09.382348",
     "exception": false,
     "start_time": "2021-10-27T02:30:09.340614",
     "status": "completed"
    },
    "tags": []
   },
   "outputs": [],
   "source": [
    "df_pivot.columns = [\"stamp_1\", \"stamp_2\"]\n",
    "df_pivot_diff = df_pivot.diff(axis=1)"
   ]
  },
  {
   "cell_type": "code",
   "execution_count": 7,
   "id": "fifth-motion",
   "metadata": {
    "execution": {
     "iopub.execute_input": "2021-10-27T02:30:09.436144Z",
     "iopub.status.busy": "2021-10-27T02:30:09.433850Z",
     "iopub.status.idle": "2021-10-27T02:30:10.893064Z",
     "shell.execute_reply": "2021-10-27T02:30:10.894451Z"
    },
    "papermill": {
     "duration": 1.492605,
     "end_time": "2021-10-27T02:30:10.894899",
     "exception": false,
     "start_time": "2021-10-27T02:30:09.402294",
     "status": "completed"
    },
    "tags": []
   },
   "outputs": [
    {
     "data": {
      "text/plain": [
       "<AxesSubplot:ylabel='PRODUCT'>"
      ]
     },
     "execution_count": 7,
     "metadata": {},
     "output_type": "execute_result"
    },
    {
     "data": {
      "image/png": "[encoded data removed]",
      "text/plain": [
       "<Figure size 432x288 with 1 Axes>"
      ]
     },
     "metadata": {
      "needs_background": "light"
     },
     "output_type": "display_data"
    }
   ],
   "source": [
    "df_pivot_diff.sort_values(\"stamp_2\", ascending = False)[\"stamp_2\"].head(10).plot.barh()"
   ]
  },
  {
   "cell_type": "code",
   "execution_count": null,
   "id": "extra-executive",
   "metadata": {
    "papermill": {
     "duration": 0.022144,
     "end_time": "2021-10-27T02:30:10.941847",
     "exception": false,
     "start_time": "2021-10-27T02:30:10.919703",
     "status": "completed"
    },
    "tags": []
   },
   "outputs": [],
   "source": []
  }
 ],
 "metadata": {
  "kernelspec": {
   "display_name": "Python 3",
   "language": "python",
   "name": "python3"
  },
  "language_info": {
   "codemirror_mode": {
    "name": "ipython",
    "version": 3
   },
   "file_extension": ".py",
   "mimetype": "text/x-python",
   "name": "python",
   "nbconvert_exporter": "python",
   "pygments_lexer": "ipython3",
   "version": "3.9.5"
  },
  "papermill": {
   "default_parameters": {},
   "duration": 7.422016,
   "end_time": "2021-10-27T02:30:11.585368",
   "environment_variables": {},
   "exception": null,
   "input_path": "eBay_Overview.ipynb",
   "output_path": "eBay_Overview.ipynb",
   "parameters": {},
   "start_time": "2021-10-27T02:30:04.163352",
   "version": "2.3.3"
  }
 },
 "nbformat": 4,
 "nbformat_minor": 5
}