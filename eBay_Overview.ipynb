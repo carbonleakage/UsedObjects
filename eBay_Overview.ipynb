{
 "cells": [
  {
   "cell_type": "code",
   "execution_count": 1,
   "id": "reverse-picking",
   "metadata": {
    "execution": {
     "iopub.execute_input": "2021-12-20T10:00:07.580785Z",
     "iopub.status.busy": "2021-12-20T10:00:07.576735Z",
     "iopub.status.idle": "2021-12-20T10:00:08.540432Z",
     "shell.execute_reply": "2021-12-20T10:00:08.541983Z"
    },
    "papermill": {
     "duration": 1.017451,
     "end_time": "2021-12-20T10:00:08.542741",
     "exception": false,
     "start_time": "2021-12-20T10:00:07.525290",
     "status": "completed"
    },
    "tags": []
   },
   "outputs": [],
   "source": [
    "import pandas as pd\n",
    "import sqlite3"
   ]
  },
  {
   "cell_type": "code",
   "execution_count": 2,
   "id": "innovative-syndrome",
   "metadata": {
    "execution": {
     "iopub.execute_input": "2021-12-20T10:00:08.605941Z",
     "iopub.status.busy": "2021-12-20T10:00:08.603585Z",
     "iopub.status.idle": "2021-12-20T10:00:09.715048Z",
     "shell.execute_reply": "2021-12-20T10:00:09.716266Z"
    },
    "papermill": {
     "duration": 1.146685,
     "end_time": "2021-12-20T10:00:09.716866",
     "exception": false,
     "start_time": "2021-12-20T10:00:08.570181",
     "status": "completed"
    },
    "tags": []
   },
   "outputs": [],
   "source": [
    "timestamps = pd.read_sql(\"select distinct record_time from EBAY_TOP_BERLIN order by record_time desc limit 2\", sqlite3.connect(\"UsedObjects.db\"))"
   ]
  },
  {
   "cell_type": "code",
   "execution_count": 3,
   "id": "periodic-identification",
   "metadata": {
    "execution": {
     "iopub.execute_input": "2021-12-20T10:00:09.783328Z",
     "iopub.status.busy": "2021-12-20T10:00:09.781295Z",
     "iopub.status.idle": "2021-12-20T10:00:09.802082Z",
     "shell.execute_reply": "2021-12-20T10:00:09.803414Z"
    },
    "papermill": {
     "duration": 0.066597,
     "end_time": "2021-12-20T10:00:09.803842",
     "exception": false,
     "start_time": "2021-12-20T10:00:09.737245",
     "status": "completed"
    },
    "tags": []
   },
   "outputs": [
    {
     "data": {
      "text/html": [
       "<div>\n",
       "<style scoped>\n",
       "    .dataframe tbody tr th:only-of-type {\n",
       "        vertical-align: middle;\n",
       "    }\n",
       "\n",
       "    .dataframe tbody tr th {\n",
       "        vertical-align: top;\n",
       "    }\n",
       "\n",
       "    .dataframe thead th {\n",
       "        text-align: right;\n",
       "    }\n",
       "</style>\n",
       "<table border=\"1\" class=\"dataframe\">\n",
       "  <thead>\n",
       "    <tr style=\"text-align: right;\">\n",
       "      <th></th>\n",
       "      <th>RECORD_TIME</th>\n",
       "    </tr>\n",
       "  </thead>\n",
       "  <tbody>\n",
       "    <tr>\n",
       "      <th>0</th>\n",
       "      <td>2021-12-20 11:00</td>\n",
       "    </tr>\n",
       "    <tr>\n",
       "      <th>1</th>\n",
       "      <td>2021-12-20 10:30</td>\n",
       "    </tr>\n",
       "  </tbody>\n",
       "</table>\n",
       "</div>"
      ],
      "text/plain": [
       "        RECORD_TIME\n",
       "0  2021-12-20 11:00\n",
       "1  2021-12-20 10:30"
      ]
     },
     "execution_count": 3,
     "metadata": {},
     "output_type": "execute_result"
    }
   ],
   "source": [
    "timestamps"
   ]
  },
  {
   "cell_type": "code",
   "execution_count": 4,
   "id": "alternate-victory",
   "metadata": {
    "execution": {
     "iopub.execute_input": "2021-12-20T10:00:09.856022Z",
     "iopub.status.busy": "2021-12-20T10:00:09.853889Z",
     "iopub.status.idle": "2021-12-20T10:00:11.506501Z",
     "shell.execute_reply": "2021-12-20T10:00:11.508595Z"
    },
    "papermill": {
     "duration": 1.684805,
     "end_time": "2021-12-20T10:00:11.509139",
     "exception": false,
     "start_time": "2021-12-20T10:00:09.824334",
     "status": "completed"
    },
    "tags": []
   },
   "outputs": [],
   "source": [
    "df = pd.read_sql(\"select * from EBAY_TOP_BERLIN where record_time in (select distinct record_time from EBAY_TOP_BERLIN order by record_time desc limit 2)\", sqlite3.connect(\"UsedObjects.db\"))"
   ]
  },
  {
   "cell_type": "code",
   "execution_count": 5,
   "id": "popular-active",
   "metadata": {
    "execution": {
     "iopub.execute_input": "2021-12-20T10:00:11.583790Z",
     "iopub.status.busy": "2021-12-20T10:00:11.575773Z",
     "iopub.status.idle": "2021-12-20T10:00:11.603190Z",
     "shell.execute_reply": "2021-12-20T10:00:11.601601Z"
    },
    "papermill": {
     "duration": 0.073974,
     "end_time": "2021-12-20T10:00:11.603600",
     "exception": false,
     "start_time": "2021-12-20T10:00:11.529626",
     "status": "completed"
    },
    "tags": []
   },
   "outputs": [],
   "source": [
    "df_pivot = df.pivot_table(index=\"PRODUCT\", columns = \"RECORD_TIME\", values = \"LISTING_COUNT\")"
   ]
  },
  {
   "cell_type": "code",
   "execution_count": 6,
   "id": "union-huntington",
   "metadata": {
    "execution": {
     "iopub.execute_input": "2021-12-20T10:00:11.665611Z",
     "iopub.status.busy": "2021-12-20T10:00:11.663332Z",
     "iopub.status.idle": "2021-12-20T10:00:11.669065Z",
     "shell.execute_reply": "2021-12-20T10:00:11.670561Z"
    },
    "papermill": {
     "duration": 0.046154,
     "end_time": "2021-12-20T10:00:11.671041",
     "exception": false,
     "start_time": "2021-12-20T10:00:11.624887",
     "status": "completed"
    },
    "tags": []
   },
   "outputs": [],
   "source": [
    "df_pivot.columns = [\"stamp_1\", \"stamp_2\"]\n",
    "df_pivot_diff = df_pivot.diff(axis=1)"
   ]
  },
  {
   "cell_type": "code",
   "execution_count": 7,
   "id": "fifth-motion",
   "metadata": {
    "execution": {
     "iopub.execute_input": "2021-12-20T10:00:11.727666Z",
     "iopub.status.busy": "2021-12-20T10:00:11.725191Z",
     "iopub.status.idle": "2021-12-20T10:00:13.741550Z",
     "shell.execute_reply": "2021-12-20T10:00:13.742762Z"
    },
    "papermill": {
     "duration": 2.051753,
     "end_time": "2021-12-20T10:00:13.743204",
     "exception": false,
     "start_time": "2021-12-20T10:00:11.691451",
     "status": "completed"
    },
    "tags": []
   },
   "outputs": [
    {
     "data": {
      "text/plain": [
       "<AxesSubplot:ylabel='PRODUCT'>"
      ]
     },
     "execution_count": 7,
     "metadata": {},
     "output_type": "execute_result"
    },
    {
     "data": {
      "image/png": "[encoded data removed]",
      "text/plain": [
       "<Figure size 432x288 with 1 Axes>"
      ]
     },
     "metadata": {
      "needs_background": "light"
     },
     "output_type": "display_data"
    }
   ],
   "source": [
    "df_pivot_diff.sort_values(\"stamp_2\", ascending = False)[\"stamp_2\"].head(10).plot.barh()"
   ]
  },
  {
   "cell_type": "code",
   "execution_count": null,
   "id": "extra-executive",
   "metadata": {
    "papermill": {
     "duration": 0.026265,
     "end_time": "2021-12-20T10:00:13.802411",
     "exception": false,
     "start_time": "2021-12-20T10:00:13.776146",
     "status": "completed"
    },
    "tags": []
   },
   "outputs": [],
   "source": []
  }
 ],
 "metadata": {
  "kernelspec": {
   "display_name": "Python 3",
   "language": "python",
   "name": "python3"
  },
  "language_info": {
   "codemirror_mode": {
    "name": "ipython",
    "version": 3
   },
   "file_extension": ".py",
   "mimetype": "text/x-python",
   "name": "python",
   "nbconvert_exporter": "python",
   "pygments_lexer": "ipython3",
   "version": "3.9.5"
  },
  "papermill": {
   "default_parameters": {},
   "duration": 9.684998,
   "end_time": "2021-12-20T10:00:14.458219",
   "environment_variables": {},
   "exception": null,
   "input_path": "eBay_Overview.ipynb",
   "output_path": "eBay_Overview.ipynb",
   "parameters": {},
   "start_time": "2021-12-20T10:00:04.773221",
   "version": "2.3.3"
  }
 },
 "nbformat": 4,
 "nbformat_minor": 5
}