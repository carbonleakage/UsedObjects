{
 "cells": [
  {
   "cell_type": "code",
   "execution_count": 1,
   "id": "reverse-picking",
   "metadata": {
    "execution": {
     "iopub.execute_input": "2021-10-26T20:30:06.955658Z",
     "iopub.status.busy": "2021-10-26T20:30:06.953738Z",
     "iopub.status.idle": "2021-10-26T20:30:07.758679Z",
     "shell.execute_reply": "2021-10-26T20:30:07.759921Z"
    },
    "papermill": {
     "duration": 0.85594,
     "end_time": "2021-10-26T20:30:07.760533",
     "exception": false,
     "start_time": "2021-10-26T20:30:06.904593",
     "status": "completed"
    },
    "tags": []
   },
   "outputs": [],
   "source": [
    "import pandas as pd\n",
    "import sqlite3"
   ]
  },
  {
   "cell_type": "code",
   "execution_count": 2,
   "id": "innovative-syndrome",
   "metadata": {
    "execution": {
     "iopub.execute_input": "2021-10-26T20:30:07.811603Z",
     "iopub.status.busy": "2021-10-26T20:30:07.809708Z",
     "iopub.status.idle": "2021-10-26T20:30:08.457904Z",
     "shell.execute_reply": "2021-10-26T20:30:08.459167Z"
    },
    "papermill": {
     "duration": 0.677848,
     "end_time": "2021-10-26T20:30:08.459563",
     "exception": false,
     "start_time": "2021-10-26T20:30:07.781715",
     "status": "completed"
    },
    "tags": []
   },
   "outputs": [],
   "source": [
    "timestamps = pd.read_sql(\"select distinct record_time from EBAY_TOP_BERLIN order by record_time desc limit 2\", sqlite3.connect(\"UsedObjects.db\"))"
   ]
  },
  {
   "cell_type": "code",
   "execution_count": 3,
   "id": "periodic-identification",
   "metadata": {
    "execution": {
     "iopub.execute_input": "2021-10-26T20:30:08.534700Z",
     "iopub.status.busy": "2021-10-26T20:30:08.532577Z",
     "iopub.status.idle": "2021-10-26T20:30:08.552045Z",
     "shell.execute_reply": "2021-10-26T20:30:08.553327Z"
    },
    "papermill": {
     "duration": 0.068152,
     "end_time": "2021-10-26T20:30:08.553731",
     "exception": false,
     "start_time": "2021-10-26T20:30:08.485579",
     "status": "completed"
    },
    "tags": []
   },
   "outputs": [
    {
     "data": {
      "text/html": [
       "<div>\n",
       "<style scoped>\n",
       "    .dataframe tbody tr th:only-of-type {\n",
       "        vertical-align: middle;\n",
       "    }\n",
       "\n",
       "    .dataframe tbody tr th {\n",
       "        vertical-align: top;\n",
       "    }\n",
       "\n",
       "    .dataframe thead th {\n",
       "        text-align: right;\n",
       "    }\n",
       "</style>\n",
       "<table border=\"1\" class=\"dataframe\">\n",
       "  <thead>\n",
       "    <tr style=\"text-align: right;\">\n",
       "      <th></th>\n",
       "      <th>RECORD_TIME</th>\n",
       "    </tr>\n",
       "  </thead>\n",
       "  <tbody>\n",
       "    <tr>\n",
       "      <th>0</th>\n",
       "      <td>2021-10-26 22:30</td>\n",
       "    </tr>\n",
       "    <tr>\n",
       "      <th>1</th>\n",
       "      <td>2021-10-26 22:00</td>\n",
       "    </tr>\n",
       "  </tbody>\n",
       "</table>\n",
       "</div>"
      ],
      "text/plain": [
       "        RECORD_TIME\n",
       "0  2021-10-26 22:30\n",
       "1  2021-10-26 22:00"
      ]
     },
     "execution_count": 3,
     "metadata": {},
     "output_type": "execute_result"
    }
   ],
   "source": [
    "timestamps"
   ]
  },
  {
   "cell_type": "code",
   "execution_count": 4,
   "id": "alternate-victory",
   "metadata": {
    "execution": {
     "iopub.execute_input": "2021-10-26T20:30:08.606091Z",
     "iopub.status.busy": "2021-10-26T20:30:08.604012Z",
     "iopub.status.idle": "2021-10-26T20:30:09.557379Z",
     "shell.execute_reply": "2021-10-26T20:30:09.555938Z"
    },
    "papermill": {
     "duration": 0.982086,
     "end_time": "2021-10-26T20:30:09.557746",
     "exception": false,
     "start_time": "2021-10-26T20:30:08.575660",
     "status": "completed"
    },
    "tags": []
   },
   "outputs": [],
   "source": [
    "df = pd.read_sql(\"select * from EBAY_TOP_BERLIN where record_time in (select distinct record_time from EBAY_TOP_BERLIN order by record_time desc limit 2)\", sqlite3.connect(\"UsedObjects.db\"))"
   ]
  },
  {
   "cell_type": "code",
   "execution_count": 5,
   "id": "popular-active",
   "metadata": {
    "execution": {
     "iopub.execute_input": "2021-10-26T20:30:09.628430Z",
     "iopub.status.busy": "2021-10-26T20:30:09.616280Z",
     "iopub.status.idle": "2021-10-26T20:30:09.646031Z",
     "shell.execute_reply": "2021-10-26T20:30:09.647335Z"
    },
    "papermill": {
     "duration": 0.068014,
     "end_time": "2021-10-26T20:30:09.647748",
     "exception": false,
     "start_time": "2021-10-26T20:30:09.579734",
     "status": "completed"
    },
    "tags": []
   },
   "outputs": [],
   "source": [
    "df_pivot = df.pivot_table(index=\"PRODUCT\", columns = \"RECORD_TIME\", values = \"LISTING_COUNT\")"
   ]
  },
  {
   "cell_type": "code",
   "execution_count": 6,
   "id": "union-huntington",
   "metadata": {
    "execution": {
     "iopub.execute_input": "2021-10-26T20:30:09.704543Z",
     "iopub.status.busy": "2021-10-26T20:30:09.702271Z",
     "iopub.status.idle": "2021-10-26T20:30:09.707913Z",
     "shell.execute_reply": "2021-10-26T20:30:09.709250Z"
    },
    "papermill": {
     "duration": 0.041969,
     "end_time": "2021-10-26T20:30:09.709667",
     "exception": false,
     "start_time": "2021-10-26T20:30:09.667698",
     "status": "completed"
    },
    "tags": []
   },
   "outputs": [],
   "source": [
    "df_pivot.columns = [\"stamp_1\", \"stamp_2\"]\n",
    "df_pivot_diff = df_pivot.diff(axis=1)"
   ]
  },
  {
   "cell_type": "code",
   "execution_count": 7,
   "id": "fifth-motion",
   "metadata": {
    "execution": {
     "iopub.execute_input": "2021-10-26T20:30:09.763900Z",
     "iopub.status.busy": "2021-10-26T20:30:09.761698Z",
     "iopub.status.idle": "2021-10-26T20:30:11.236541Z",
     "shell.execute_reply": "2021-10-26T20:30:11.237991Z"
    },
    "papermill": {
     "duration": 1.507838,
     "end_time": "2021-10-26T20:30:11.238477",
     "exception": false,
     "start_time": "2021-10-26T20:30:09.730639",
     "status": "completed"
    },
    "tags": []
   },
   "outputs": [
    {
     "data": {
      "text/plain": [
       "<AxesSubplot:ylabel='PRODUCT'>"
      ]
     },
     "execution_count": 7,
     "metadata": {},
     "output_type": "execute_result"
    },
    {
     "data": {
      "image/png": "[encoded data removed]",
      "text/plain": [
       "<Figure size 432x288 with 1 Axes>"
      ]
     },
     "metadata": {
      "needs_background": "light"
     },
     "output_type": "display_data"
    }
   ],
   "source": [
    "df_pivot_diff.sort_values(\"stamp_2\", ascending = False)[\"stamp_2\"].head(10).plot.barh()"
   ]
  },
  {
   "cell_type": "code",
   "execution_count": null,
   "id": "extra-executive",
   "metadata": {
    "papermill": {
     "duration": 0.022316,
     "end_time": "2021-10-26T20:30:11.286049",
     "exception": false,
     "start_time": "2021-10-26T20:30:11.263733",
     "status": "completed"
    },
    "tags": []
   },
   "outputs": [],
   "source": []
  }
 ],
 "metadata": {
  "kernelspec": {
   "display_name": "Python 3",
   "language": "python",
   "name": "python3"
  },
  "language_info": {
   "codemirror_mode": {
    "name": "ipython",
    "version": 3
   },
   "file_extension": ".py",
   "mimetype": "text/x-python",
   "name": "python",
   "nbconvert_exporter": "python",
   "pygments_lexer": "ipython3",
   "version": "3.9.5"
  },
  "papermill": {
   "default_parameters": {},
   "duration": 7.43513,
   "end_time": "2021-10-26T20:30:11.930381",
   "environment_variables": {},
   "exception": null,
   "input_path": "eBay_Overview.ipynb",
   "output_path": "eBay_Overview.ipynb",
   "parameters": {},
   "start_time": "2021-10-26T20:30:04.495251",
   "version": "2.3.3"
  }
 },
 "nbformat": 4,
 "nbformat_minor": 5
}