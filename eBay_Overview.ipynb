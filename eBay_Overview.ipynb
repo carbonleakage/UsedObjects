{
 "cells": [
  {
   "cell_type": "code",
   "execution_count": 1,
   "id": "reverse-picking",
   "metadata": {
    "execution": {
     "iopub.execute_input": "2021-09-16T05:00:08.011688Z",
     "iopub.status.busy": "2021-09-16T05:00:08.009907Z",
     "iopub.status.idle": "2021-09-16T05:00:08.950089Z",
     "shell.execute_reply": "2021-09-16T05:00:08.951832Z"
    },
    "papermill": {
     "duration": 0.98614,
     "end_time": "2021-09-16T05:00:08.952650",
     "exception": false,
     "start_time": "2021-09-16T05:00:07.966510",
     "status": "completed"
    },
    "tags": []
   },
   "outputs": [],
   "source": [
    "import pandas as pd\n",
    "import sqlite3"
   ]
  },
  {
   "cell_type": "code",
   "execution_count": 2,
   "id": "innovative-syndrome",
   "metadata": {
    "execution": {
     "iopub.execute_input": "2021-09-16T05:00:09.010525Z",
     "iopub.status.busy": "2021-09-16T05:00:09.008203Z",
     "iopub.status.idle": "2021-09-16T05:00:09.304997Z",
     "shell.execute_reply": "2021-09-16T05:00:09.306685Z"
    },
    "papermill": {
     "duration": 0.332089,
     "end_time": "2021-09-16T05:00:09.307284",
     "exception": false,
     "start_time": "2021-09-16T05:00:08.975195",
     "status": "completed"
    },
    "tags": []
   },
   "outputs": [],
   "source": [
    "timestamps = pd.read_sql(\"select distinct record_time from EBAY_TOP_BERLIN order by record_time desc limit 2\", sqlite3.connect(\"UsedObjects.db\"))"
   ]
  },
  {
   "cell_type": "code",
   "execution_count": 3,
   "id": "periodic-identification",
   "metadata": {
    "execution": {
     "iopub.execute_input": "2021-09-16T05:00:09.400547Z",
     "iopub.status.busy": "2021-09-16T05:00:09.394206Z",
     "iopub.status.idle": "2021-09-16T05:00:09.418670Z",
     "shell.execute_reply": "2021-09-16T05:00:09.420458Z"
    },
    "papermill": {
     "duration": 0.082299,
     "end_time": "2021-09-16T05:00:09.421003",
     "exception": false,
     "start_time": "2021-09-16T05:00:09.338704",
     "status": "completed"
    },
    "tags": []
   },
   "outputs": [
    {
     "data": {
      "text/html": [
       "<div>\n",
       "<style scoped>\n",
       "    .dataframe tbody tr th:only-of-type {\n",
       "        vertical-align: middle;\n",
       "    }\n",
       "\n",
       "    .dataframe tbody tr th {\n",
       "        vertical-align: top;\n",
       "    }\n",
       "\n",
       "    .dataframe thead th {\n",
       "        text-align: right;\n",
       "    }\n",
       "</style>\n",
       "<table border=\"1\" class=\"dataframe\">\n",
       "  <thead>\n",
       "    <tr style=\"text-align: right;\">\n",
       "      <th></th>\n",
       "      <th>RECORD_TIME</th>\n",
       "    </tr>\n",
       "  </thead>\n",
       "  <tbody>\n",
       "    <tr>\n",
       "      <th>0</th>\n",
       "      <td>2021-09-16 07:00</td>\n",
       "    </tr>\n",
       "    <tr>\n",
       "      <th>1</th>\n",
       "      <td>2021-09-16 06:30</td>\n",
       "    </tr>\n",
       "  </tbody>\n",
       "</table>\n",
       "</div>"
      ],
      "text/plain": [
       "        RECORD_TIME\n",
       "0  2021-09-16 07:00\n",
       "1  2021-09-16 06:30"
      ]
     },
     "execution_count": 3,
     "metadata": {},
     "output_type": "execute_result"
    }
   ],
   "source": [
    "timestamps"
   ]
  },
  {
   "cell_type": "code",
   "execution_count": 4,
   "id": "alternate-victory",
   "metadata": {
    "execution": {
     "iopub.execute_input": "2021-09-16T05:00:09.475924Z",
     "iopub.status.busy": "2021-09-16T05:00:09.473829Z",
     "iopub.status.idle": "2021-09-16T05:00:09.916174Z",
     "shell.execute_reply": "2021-09-16T05:00:09.917513Z"
    },
    "papermill": {
     "duration": 0.474945,
     "end_time": "2021-09-16T05:00:09.917979",
     "exception": false,
     "start_time": "2021-09-16T05:00:09.443034",
     "status": "completed"
    },
    "tags": []
   },
   "outputs": [],
   "source": [
    "df = pd.read_sql(\"select * from EBAY_TOP_BERLIN where record_time in (select distinct record_time from EBAY_TOP_BERLIN order by record_time desc limit 2)\", sqlite3.connect(\"UsedObjects.db\"))"
   ]
  },
  {
   "cell_type": "code",
   "execution_count": 5,
   "id": "popular-active",
   "metadata": {
    "execution": {
     "iopub.execute_input": "2021-09-16T05:00:09.990837Z",
     "iopub.status.busy": "2021-09-16T05:00:09.979373Z",
     "iopub.status.idle": "2021-09-16T05:00:10.006976Z",
     "shell.execute_reply": "2021-09-16T05:00:10.008461Z"
    },
    "papermill": {
     "duration": 0.070585,
     "end_time": "2021-09-16T05:00:10.008890",
     "exception": false,
     "start_time": "2021-09-16T05:00:09.938305",
     "status": "completed"
    },
    "tags": []
   },
   "outputs": [],
   "source": [
    "df_pivot = df.pivot_table(index=\"PRODUCT\", columns = \"RECORD_TIME\", values = \"LISTING_COUNT\")"
   ]
  },
  {
   "cell_type": "code",
   "execution_count": 6,
   "id": "union-huntington",
   "metadata": {
    "execution": {
     "iopub.execute_input": "2021-09-16T05:00:10.066549Z",
     "iopub.status.busy": "2021-09-16T05:00:10.064418Z",
     "iopub.status.idle": "2021-09-16T05:00:10.068994Z",
     "shell.execute_reply": "2021-09-16T05:00:10.070763Z"
    },
    "papermill": {
     "duration": 0.04293,
     "end_time": "2021-09-16T05:00:10.071295",
     "exception": false,
     "start_time": "2021-09-16T05:00:10.028365",
     "status": "completed"
    },
    "tags": []
   },
   "outputs": [],
   "source": [
    "df_pivot.columns = [\"stamp_1\", \"stamp_2\"]\n",
    "df_pivot_diff = df_pivot.diff(axis=1)"
   ]
  },
  {
   "cell_type": "code",
   "execution_count": 7,
   "id": "fifth-motion",
   "metadata": {
    "execution": {
     "iopub.execute_input": "2021-09-16T05:00:10.135445Z",
     "iopub.status.busy": "2021-09-16T05:00:10.132691Z",
     "iopub.status.idle": "2021-09-16T05:00:11.859276Z",
     "shell.execute_reply": "2021-09-16T05:00:11.860993Z"
    },
    "papermill": {
     "duration": 1.766519,
     "end_time": "2021-09-16T05:00:11.861544",
     "exception": false,
     "start_time": "2021-09-16T05:00:10.095025",
     "status": "completed"
    },
    "tags": []
   },
   "outputs": [
    {
     "data": {
      "text/plain": [
       "<AxesSubplot:ylabel='PRODUCT'>"
      ]
     },
     "execution_count": 7,
     "metadata": {},
     "output_type": "execute_result"
    },
    {
     "data": {
      "image/png": "[encoded data removed]",
      "text/plain": [
       "<Figure size 432x288 with 1 Axes>"
      ]
     },
     "metadata": {
      "needs_background": "light"
     },
     "output_type": "display_data"
    }
   ],
   "source": [
    "df_pivot_diff.sort_values(\"stamp_2\", ascending = False)[\"stamp_2\"].head(10).plot.barh()"
   ]
  },
  {
   "cell_type": "code",
   "execution_count": null,
   "id": "extra-executive",
   "metadata": {
    "papermill": {
     "duration": 0.024432,
     "end_time": "2021-09-16T05:00:11.912131",
     "exception": false,
     "start_time": "2021-09-16T05:00:11.887699",
     "status": "completed"
    },
    "tags": []
   },
   "outputs": [],
   "source": []
  }
 ],
 "metadata": {
  "kernelspec": {
   "display_name": "Python 3",
   "language": "python",
   "name": "python3"
  },
  "language_info": {
   "codemirror_mode": {
    "name": "ipython",
    "version": 3
   },
   "file_extension": ".py",
   "mimetype": "text/x-python",
   "name": "python",
   "nbconvert_exporter": "python",
   "pygments_lexer": "ipython3",
   "version": "3.9.5"
  },
  "papermill": {
   "default_parameters": {},
   "duration": 7.867164,
   "end_time": "2021-09-16T05:00:13.232410",
   "environment_variables": {},
   "exception": null,
   "input_path": "eBay_Overview.ipynb",
   "output_path": "eBay_Overview.ipynb",
   "parameters": {},
   "start_time": "2021-09-16T05:00:05.365246",
   "version": "2.3.3"
  }
 },
 "nbformat": 4,
 "nbformat_minor": 5
}