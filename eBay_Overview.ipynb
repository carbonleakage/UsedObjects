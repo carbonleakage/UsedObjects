{
 "cells": [
  {
   "cell_type": "code",
   "execution_count": 1,
   "id": "reverse-picking",
   "metadata": {
    "execution": {
     "iopub.execute_input": "2021-09-02T16:00:07.153983Z",
     "iopub.status.busy": "2021-09-02T16:00:07.152045Z",
     "iopub.status.idle": "2021-09-02T16:00:07.953918Z",
     "shell.execute_reply": "2021-09-02T16:00:07.955321Z"
    },
    "papermill": {
     "duration": 0.85261,
     "end_time": "2021-09-02T16:00:07.956003",
     "exception": false,
     "start_time": "2021-09-02T16:00:07.103393",
     "status": "completed"
    },
    "tags": []
   },
   "outputs": [],
   "source": [
    "import pandas as pd\n",
    "import sqlite3"
   ]
  },
  {
   "cell_type": "code",
   "execution_count": 2,
   "id": "innovative-syndrome",
   "metadata": {
    "execution": {
     "iopub.execute_input": "2021-09-02T16:00:08.006818Z",
     "iopub.status.busy": "2021-09-02T16:00:08.004779Z",
     "iopub.status.idle": "2021-09-02T16:00:08.193860Z",
     "shell.execute_reply": "2021-09-02T16:00:08.195199Z"
    },
    "papermill": {
     "duration": 0.219446,
     "end_time": "2021-09-02T16:00:08.195636",
     "exception": false,
     "start_time": "2021-09-02T16:00:07.976190",
     "status": "completed"
    },
    "tags": []
   },
   "outputs": [],
   "source": [
    "timestamps = pd.read_sql(\"select distinct record_time from EBAY_TOP_BERLIN order by record_time desc limit 2\", sqlite3.connect(\"UsedObjects.db\"))"
   ]
  },
  {
   "cell_type": "code",
   "execution_count": 3,
   "id": "periodic-identification",
   "metadata": {
    "execution": {
     "iopub.execute_input": "2021-09-02T16:00:08.260908Z",
     "iopub.status.busy": "2021-09-02T16:00:08.258849Z",
     "iopub.status.idle": "2021-09-02T16:00:08.278411Z",
     "shell.execute_reply": "2021-09-02T16:00:08.279678Z"
    },
    "papermill": {
     "duration": 0.064201,
     "end_time": "2021-09-02T16:00:08.280076",
     "exception": false,
     "start_time": "2021-09-02T16:00:08.215875",
     "status": "completed"
    },
    "tags": []
   },
   "outputs": [
    {
     "data": {
      "text/html": [
       "<div>\n",
       "<style scoped>\n",
       "    .dataframe tbody tr th:only-of-type {\n",
       "        vertical-align: middle;\n",
       "    }\n",
       "\n",
       "    .dataframe tbody tr th {\n",
       "        vertical-align: top;\n",
       "    }\n",
       "\n",
       "    .dataframe thead th {\n",
       "        text-align: right;\n",
       "    }\n",
       "</style>\n",
       "<table border=\"1\" class=\"dataframe\">\n",
       "  <thead>\n",
       "    <tr style=\"text-align: right;\">\n",
       "      <th></th>\n",
       "      <th>RECORD_TIME</th>\n",
       "    </tr>\n",
       "  </thead>\n",
       "  <tbody>\n",
       "    <tr>\n",
       "      <th>0</th>\n",
       "      <td>2021-09-02 18:00</td>\n",
       "    </tr>\n",
       "    <tr>\n",
       "      <th>1</th>\n",
       "      <td>2021-09-02 17:30</td>\n",
       "    </tr>\n",
       "  </tbody>\n",
       "</table>\n",
       "</div>"
      ],
      "text/plain": [
       "        RECORD_TIME\n",
       "0  2021-09-02 18:00\n",
       "1  2021-09-02 17:30"
      ]
     },
     "execution_count": 3,
     "metadata": {},
     "output_type": "execute_result"
    }
   ],
   "source": [
    "timestamps"
   ]
  },
  {
   "cell_type": "code",
   "execution_count": 4,
   "id": "alternate-victory",
   "metadata": {
    "execution": {
     "iopub.execute_input": "2021-09-02T16:00:08.331916Z",
     "iopub.status.busy": "2021-09-02T16:00:08.329984Z",
     "iopub.status.idle": "2021-09-02T16:00:08.610389Z",
     "shell.execute_reply": "2021-09-02T16:00:08.611682Z"
    },
    "papermill": {
     "duration": 0.310256,
     "end_time": "2021-09-02T16:00:08.612090",
     "exception": false,
     "start_time": "2021-09-02T16:00:08.301834",
     "status": "completed"
    },
    "tags": []
   },
   "outputs": [],
   "source": [
    "df = pd.read_sql(\"select * from EBAY_TOP_BERLIN where record_time in (select distinct record_time from EBAY_TOP_BERLIN order by record_time desc limit 2)\", sqlite3.connect(\"UsedObjects.db\"))"
   ]
  },
  {
   "cell_type": "code",
   "execution_count": 5,
   "id": "popular-active",
   "metadata": {
    "execution": {
     "iopub.execute_input": "2021-09-02T16:00:08.692608Z",
     "iopub.status.busy": "2021-09-02T16:00:08.680070Z",
     "iopub.status.idle": "2021-09-02T16:00:08.708242Z",
     "shell.execute_reply": "2021-09-02T16:00:08.709523Z"
    },
    "papermill": {
     "duration": 0.072127,
     "end_time": "2021-09-02T16:00:08.709944",
     "exception": false,
     "start_time": "2021-09-02T16:00:08.637817",
     "status": "completed"
    },
    "tags": []
   },
   "outputs": [],
   "source": [
    "df_pivot = df.pivot_table(index=\"PRODUCT\", columns = \"RECORD_TIME\", values = \"LISTING_COUNT\")"
   ]
  },
  {
   "cell_type": "code",
   "execution_count": 6,
   "id": "union-huntington",
   "metadata": {
    "execution": {
     "iopub.execute_input": "2021-09-02T16:00:08.765438Z",
     "iopub.status.busy": "2021-09-02T16:00:08.763390Z",
     "iopub.status.idle": "2021-09-02T16:00:08.768512Z",
     "shell.execute_reply": "2021-09-02T16:00:08.769777Z"
    },
    "papermill": {
     "duration": 0.040182,
     "end_time": "2021-09-02T16:00:08.770194",
     "exception": false,
     "start_time": "2021-09-02T16:00:08.730012",
     "status": "completed"
    },
    "tags": []
   },
   "outputs": [],
   "source": [
    "df_pivot.columns = [\"stamp_1\", \"stamp_2\"]\n",
    "df_pivot_diff = df_pivot.diff(axis=1)"
   ]
  },
  {
   "cell_type": "code",
   "execution_count": 7,
   "id": "fifth-motion",
   "metadata": {
    "execution": {
     "iopub.execute_input": "2021-09-02T16:00:08.824186Z",
     "iopub.status.busy": "2021-09-02T16:00:08.821600Z",
     "iopub.status.idle": "2021-09-02T16:00:10.292313Z",
     "shell.execute_reply": "2021-09-02T16:00:10.293777Z"
    },
    "papermill": {
     "duration": 1.503765,
     "end_time": "2021-09-02T16:00:10.294247",
     "exception": false,
     "start_time": "2021-09-02T16:00:08.790482",
     "status": "completed"
    },
    "tags": []
   },
   "outputs": [
    {
     "data": {
      "text/plain": [
       "<AxesSubplot:ylabel='PRODUCT'>"
      ]
     },
     "execution_count": 7,
     "metadata": {},
     "output_type": "execute_result"
    },
    {
     "data": {
      "image/png": "[encoded data removed]",
      "text/plain": [
       "<Figure size 432x288 with 1 Axes>"
      ]
     },
     "metadata": {
      "needs_background": "light"
     },
     "output_type": "display_data"
    }
   ],
   "source": [
    "df_pivot_diff.sort_values(\"stamp_2\", ascending = False)[\"stamp_2\"].head(10).plot.barh()"
   ]
  },
  {
   "cell_type": "code",
   "execution_count": null,
   "id": "extra-executive",
   "metadata": {
    "papermill": {
     "duration": 0.022115,
     "end_time": "2021-09-02T16:00:10.340160",
     "exception": false,
     "start_time": "2021-09-02T16:00:10.318045",
     "status": "completed"
    },
    "tags": []
   },
   "outputs": [],
   "source": []
  }
 ],
 "metadata": {
  "kernelspec": {
   "display_name": "Python 3",
   "language": "python",
   "name": "python3"
  },
  "language_info": {
   "codemirror_mode": {
    "name": "ipython",
    "version": 3
   },
   "file_extension": ".py",
   "mimetype": "text/x-python",
   "name": "python",
   "nbconvert_exporter": "python",
   "pygments_lexer": "ipython3",
   "version": "3.9.5"
  },
  "papermill": {
   "default_parameters": {},
   "duration": 6.826051,
   "end_time": "2021-09-02T16:00:11.522700",
   "environment_variables": {},
   "exception": null,
   "input_path": "eBay_Overview.ipynb",
   "output_path": "eBay_Overview.ipynb",
   "parameters": {},
   "start_time": "2021-09-02T16:00:04.696649",
   "version": "2.3.3"
  }
 },
 "nbformat": 4,
 "nbformat_minor": 5
}