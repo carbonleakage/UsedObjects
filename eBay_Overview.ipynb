{
 "cells": [
  {
   "cell_type": "code",
   "execution_count": 1,
   "id": "reverse-picking",
   "metadata": {
    "execution": {
     "iopub.execute_input": "2021-08-12T05:30:04.515950Z",
     "iopub.status.busy": "2021-08-12T05:30:04.515183Z",
     "iopub.status.idle": "2021-08-12T05:30:05.133154Z",
     "shell.execute_reply": "2021-08-12T05:30:05.132301Z"
    },
    "papermill": {
     "duration": 0.636818,
     "end_time": "2021-08-12T05:30:05.133347",
     "exception": false,
     "start_time": "2021-08-12T05:30:04.496529",
     "status": "completed"
    },
    "tags": []
   },
   "outputs": [],
   "source": [
    "import pandas as pd\n",
    "import sqlite3"
   ]
  },
  {
   "cell_type": "code",
   "execution_count": 2,
   "id": "innovative-syndrome",
   "metadata": {
    "execution": {
     "iopub.execute_input": "2021-08-12T05:30:05.159223Z",
     "iopub.status.busy": "2021-08-12T05:30:05.158447Z",
     "iopub.status.idle": "2021-08-12T05:30:05.371643Z",
     "shell.execute_reply": "2021-08-12T05:30:05.370373Z"
    },
    "papermill": {
     "duration": 0.22927,
     "end_time": "2021-08-12T05:30:05.371919",
     "exception": false,
     "start_time": "2021-08-12T05:30:05.142649",
     "status": "completed"
    },
    "tags": []
   },
   "outputs": [],
   "source": [
    "timestamps = pd.read_sql(\"select distinct record_time from EBAY_TOP_BERLIN order by record_time desc limit 2\", sqlite3.connect(\"UsedObjects.db\"))"
   ]
  },
  {
   "cell_type": "code",
   "execution_count": 3,
   "id": "periodic-identification",
   "metadata": {
    "execution": {
     "iopub.execute_input": "2021-08-12T05:30:05.403080Z",
     "iopub.status.busy": "2021-08-12T05:30:05.402225Z",
     "iopub.status.idle": "2021-08-12T05:30:05.418109Z",
     "shell.execute_reply": "2021-08-12T05:30:05.417405Z"
    },
    "papermill": {
     "duration": 0.035965,
     "end_time": "2021-08-12T05:30:05.418267",
     "exception": false,
     "start_time": "2021-08-12T05:30:05.382302",
     "status": "completed"
    },
    "tags": []
   },
   "outputs": [
    {
     "data": {
      "text/html": [
       "<div>\n",
       "<style scoped>\n",
       "    .dataframe tbody tr th:only-of-type {\n",
       "        vertical-align: middle;\n",
       "    }\n",
       "\n",
       "    .dataframe tbody tr th {\n",
       "        vertical-align: top;\n",
       "    }\n",
       "\n",
       "    .dataframe thead th {\n",
       "        text-align: right;\n",
       "    }\n",
       "</style>\n",
       "<table border=\"1\" class=\"dataframe\">\n",
       "  <thead>\n",
       "    <tr style=\"text-align: right;\">\n",
       "      <th></th>\n",
       "      <th>RECORD_TIME</th>\n",
       "    </tr>\n",
       "  </thead>\n",
       "  <tbody>\n",
       "    <tr>\n",
       "      <th>0</th>\n",
       "      <td>2021-08-12 07:30</td>\n",
       "    </tr>\n",
       "    <tr>\n",
       "      <th>1</th>\n",
       "      <td>2021-08-12 07:00</td>\n",
       "    </tr>\n",
       "  </tbody>\n",
       "</table>\n",
       "</div>"
      ],
      "text/plain": [
       "        RECORD_TIME\n",
       "0  2021-08-12 07:30\n",
       "1  2021-08-12 07:00"
      ]
     },
     "execution_count": 3,
     "metadata": {},
     "output_type": "execute_result"
    }
   ],
   "source": [
    "timestamps"
   ]
  },
  {
   "cell_type": "code",
   "execution_count": 4,
   "id": "alternate-victory",
   "metadata": {
    "execution": {
     "iopub.execute_input": "2021-08-12T05:30:05.439821Z",
     "iopub.status.busy": "2021-08-12T05:30:05.439067Z",
     "iopub.status.idle": "2021-08-12T05:30:05.465686Z",
     "shell.execute_reply": "2021-08-12T05:30:05.466221Z"
    },
    "papermill": {
     "duration": 0.039588,
     "end_time": "2021-08-12T05:30:05.466405",
     "exception": false,
     "start_time": "2021-08-12T05:30:05.426817",
     "status": "completed"
    },
    "tags": []
   },
   "outputs": [],
   "source": [
    "df = pd.read_sql(\"select * from EBAY_TOP_BERLIN where record_time in (select distinct record_time from EBAY_TOP_BERLIN order by record_time desc limit 2)\", sqlite3.connect(\"UsedObjects.db\"))"
   ]
  },
  {
   "cell_type": "code",
   "execution_count": 5,
   "id": "popular-active",
   "metadata": {
    "execution": {
     "iopub.execute_input": "2021-08-12T05:30:05.501381Z",
     "iopub.status.busy": "2021-08-12T05:30:05.497691Z",
     "iopub.status.idle": "2021-08-12T05:30:05.514553Z",
     "shell.execute_reply": "2021-08-12T05:30:05.513980Z"
    },
    "papermill": {
     "duration": 0.039809,
     "end_time": "2021-08-12T05:30:05.514704",
     "exception": false,
     "start_time": "2021-08-12T05:30:05.474895",
     "status": "completed"
    },
    "tags": []
   },
   "outputs": [],
   "source": [
    "df_pivot = df.pivot_table(index=\"PRODUCT\", columns = \"RECORD_TIME\", values = \"LISTING_COUNT\")"
   ]
  },
  {
   "cell_type": "code",
   "execution_count": 6,
   "id": "union-huntington",
   "metadata": {
    "execution": {
     "iopub.execute_input": "2021-08-12T05:30:05.662493Z",
     "iopub.status.busy": "2021-08-12T05:30:05.660951Z",
     "iopub.status.idle": "2021-08-12T05:30:05.666344Z",
     "shell.execute_reply": "2021-08-12T05:30:05.665346Z"
    },
    "papermill": {
     "duration": 0.067962,
     "end_time": "2021-08-12T05:30:05.666594",
     "exception": false,
     "start_time": "2021-08-12T05:30:05.598632",
     "status": "completed"
    },
    "tags": []
   },
   "outputs": [],
   "source": [
    "df_pivot.columns = [\"stamp_1\", \"stamp_2\"]\n",
    "df_pivot_diff = df_pivot.diff(axis=1)"
   ]
  },
  {
   "cell_type": "code",
   "execution_count": 7,
   "id": "fifth-motion",
   "metadata": {
    "execution": {
     "iopub.execute_input": "2021-08-12T05:30:05.726309Z",
     "iopub.status.busy": "2021-08-12T05:30:05.725506Z",
     "iopub.status.idle": "2021-08-12T05:30:06.366616Z",
     "shell.execute_reply": "2021-08-12T05:30:06.367233Z"
    },
    "papermill": {
     "duration": 0.678375,
     "end_time": "2021-08-12T05:30:06.367425",
     "exception": false,
     "start_time": "2021-08-12T05:30:05.689050",
     "status": "completed"
    },
    "tags": []
   },
   "outputs": [
    {
     "data": {
      "text/plain": [
       "<AxesSubplot:ylabel='PRODUCT'>"
      ]
     },
     "execution_count": 7,
     "metadata": {},
     "output_type": "execute_result"
    },
    {
     "data": {
      "image/png": "[encoded data removed]",
      "text/plain": [
       "<Figure size 432x288 with 1 Axes>"
      ]
     },
     "metadata": {
      "needs_background": "light"
     },
     "output_type": "display_data"
    }
   ],
   "source": [
    "df_pivot_diff.sort_values(\"stamp_2\", ascending = False)[\"stamp_2\"].head(10).plot.barh()"
   ]
  },
  {
   "cell_type": "code",
   "execution_count": null,
   "id": "extra-executive",
   "metadata": {
    "papermill": {
     "duration": 0.009399,
     "end_time": "2021-08-12T05:30:06.386828",
     "exception": false,
     "start_time": "2021-08-12T05:30:06.377429",
     "status": "completed"
    },
    "tags": []
   },
   "outputs": [],
   "source": []
  }
 ],
 "metadata": {
  "kernelspec": {
   "display_name": "Python 3",
   "language": "python",
   "name": "python3"
  },
  "language_info": {
   "codemirror_mode": {
    "name": "ipython",
    "version": 3
   },
   "file_extension": ".py",
   "mimetype": "text/x-python",
   "name": "python",
   "nbconvert_exporter": "python",
   "pygments_lexer": "ipython3",
   "version": "3.8.8"
  },
  "papermill": {
   "default_parameters": {},
   "duration": 5.066735,
   "end_time": "2021-08-12T05:30:07.864300",
   "environment_variables": {},
   "exception": null,
   "input_path": "/Users/saravananshanmugam/Carbonleakage_Git/UsedObjects/eBay_Overview.ipynb",
   "output_path": "/Users/saravananshanmugam/Carbonleakage_Git/UsedObjects/eBay_Overview.ipynb",
   "parameters": {},
   "start_time": "2021-08-12T05:30:02.797565",
   "version": "2.3.3"
  }
 },
 "nbformat": 4,
 "nbformat_minor": 5
}