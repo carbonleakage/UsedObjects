{
 "cells": [
  {
   "cell_type": "code",
   "execution_count": 1,
   "id": "reverse-picking",
   "metadata": {
    "execution": {
     "iopub.execute_input": "2021-09-20T10:30:07.222676Z",
     "iopub.status.busy": "2021-09-20T10:30:07.220748Z",
     "iopub.status.idle": "2021-09-20T10:30:08.026447Z",
     "shell.execute_reply": "2021-09-20T10:30:08.024830Z"
    },
    "papermill": {
     "duration": 0.855986,
     "end_time": "2021-09-20T10:30:08.026915",
     "exception": false,
     "start_time": "2021-09-20T10:30:07.170929",
     "status": "completed"
    },
    "tags": []
   },
   "outputs": [],
   "source": [
    "import pandas as pd\n",
    "import sqlite3"
   ]
  },
  {
   "cell_type": "code",
   "execution_count": 2,
   "id": "innovative-syndrome",
   "metadata": {
    "execution": {
     "iopub.execute_input": "2021-09-20T10:30:08.077372Z",
     "iopub.status.busy": "2021-09-20T10:30:08.075203Z",
     "iopub.status.idle": "2021-09-20T10:30:08.402920Z",
     "shell.execute_reply": "2021-09-20T10:30:08.404169Z"
    },
    "papermill": {
     "duration": 0.357667,
     "end_time": "2021-09-20T10:30:08.404570",
     "exception": false,
     "start_time": "2021-09-20T10:30:08.046903",
     "status": "completed"
    },
    "tags": []
   },
   "outputs": [],
   "source": [
    "timestamps = pd.read_sql(\"select distinct record_time from EBAY_TOP_BERLIN order by record_time desc limit 2\", sqlite3.connect(\"UsedObjects.db\"))"
   ]
  },
  {
   "cell_type": "code",
   "execution_count": 3,
   "id": "periodic-identification",
   "metadata": {
    "execution": {
     "iopub.execute_input": "2021-09-20T10:30:08.472783Z",
     "iopub.status.busy": "2021-09-20T10:30:08.467733Z",
     "iopub.status.idle": "2021-09-20T10:30:08.490310Z",
     "shell.execute_reply": "2021-09-20T10:30:08.492032Z"
    },
    "papermill": {
     "duration": 0.067359,
     "end_time": "2021-09-20T10:30:08.492633",
     "exception": false,
     "start_time": "2021-09-20T10:30:08.425274",
     "status": "completed"
    },
    "tags": []
   },
   "outputs": [
    {
     "data": {
      "text/html": [
       "<div>\n",
       "<style scoped>\n",
       "    .dataframe tbody tr th:only-of-type {\n",
       "        vertical-align: middle;\n",
       "    }\n",
       "\n",
       "    .dataframe tbody tr th {\n",
       "        vertical-align: top;\n",
       "    }\n",
       "\n",
       "    .dataframe thead th {\n",
       "        text-align: right;\n",
       "    }\n",
       "</style>\n",
       "<table border=\"1\" class=\"dataframe\">\n",
       "  <thead>\n",
       "    <tr style=\"text-align: right;\">\n",
       "      <th></th>\n",
       "      <th>RECORD_TIME</th>\n",
       "    </tr>\n",
       "  </thead>\n",
       "  <tbody>\n",
       "    <tr>\n",
       "      <th>0</th>\n",
       "      <td>2021-09-20 12:30</td>\n",
       "    </tr>\n",
       "    <tr>\n",
       "      <th>1</th>\n",
       "      <td>2021-09-20 12:00</td>\n",
       "    </tr>\n",
       "  </tbody>\n",
       "</table>\n",
       "</div>"
      ],
      "text/plain": [
       "        RECORD_TIME\n",
       "0  2021-09-20 12:30\n",
       "1  2021-09-20 12:00"
      ]
     },
     "execution_count": 3,
     "metadata": {},
     "output_type": "execute_result"
    }
   ],
   "source": [
    "timestamps"
   ]
  },
  {
   "cell_type": "code",
   "execution_count": 4,
   "id": "alternate-victory",
   "metadata": {
    "execution": {
     "iopub.execute_input": "2021-09-20T10:30:08.544756Z",
     "iopub.status.busy": "2021-09-20T10:30:08.542386Z",
     "iopub.status.idle": "2021-09-20T10:30:09.043963Z",
     "shell.execute_reply": "2021-09-20T10:30:09.045365Z"
    },
    "papermill": {
     "duration": 0.53186,
     "end_time": "2021-09-20T10:30:09.045810",
     "exception": false,
     "start_time": "2021-09-20T10:30:08.513950",
     "status": "completed"
    },
    "tags": []
   },
   "outputs": [],
   "source": [
    "df = pd.read_sql(\"select * from EBAY_TOP_BERLIN where record_time in (select distinct record_time from EBAY_TOP_BERLIN order by record_time desc limit 2)\", sqlite3.connect(\"UsedObjects.db\"))"
   ]
  },
  {
   "cell_type": "code",
   "execution_count": 5,
   "id": "popular-active",
   "metadata": {
    "execution": {
     "iopub.execute_input": "2021-09-20T10:30:09.125166Z",
     "iopub.status.busy": "2021-09-20T10:30:09.112883Z",
     "iopub.status.idle": "2021-09-20T10:30:09.144500Z",
     "shell.execute_reply": "2021-09-20T10:30:09.145878Z"
    },
    "papermill": {
     "duration": 0.07466,
     "end_time": "2021-09-20T10:30:09.146316",
     "exception": false,
     "start_time": "2021-09-20T10:30:09.071656",
     "status": "completed"
    },
    "tags": []
   },
   "outputs": [],
   "source": [
    "df_pivot = df.pivot_table(index=\"PRODUCT\", columns = \"RECORD_TIME\", values = \"LISTING_COUNT\")"
   ]
  },
  {
   "cell_type": "code",
   "execution_count": 6,
   "id": "union-huntington",
   "metadata": {
    "execution": {
     "iopub.execute_input": "2021-09-20T10:30:09.202659Z",
     "iopub.status.busy": "2021-09-20T10:30:09.200376Z",
     "iopub.status.idle": "2021-09-20T10:30:09.206238Z",
     "shell.execute_reply": "2021-09-20T10:30:09.207584Z"
    },
    "papermill": {
     "duration": 0.041729,
     "end_time": "2021-09-20T10:30:09.208048",
     "exception": false,
     "start_time": "2021-09-20T10:30:09.166319",
     "status": "completed"
    },
    "tags": []
   },
   "outputs": [],
   "source": [
    "df_pivot.columns = [\"stamp_1\", \"stamp_2\"]\n",
    "df_pivot_diff = df_pivot.diff(axis=1)"
   ]
  },
  {
   "cell_type": "code",
   "execution_count": 7,
   "id": "fifth-motion",
   "metadata": {
    "execution": {
     "iopub.execute_input": "2021-09-20T10:30:09.261940Z",
     "iopub.status.busy": "2021-09-20T10:30:09.259746Z",
     "iopub.status.idle": "2021-09-20T10:30:10.763903Z",
     "shell.execute_reply": "2021-09-20T10:30:10.765242Z"
    },
    "papermill": {
     "duration": 1.536527,
     "end_time": "2021-09-20T10:30:10.765668",
     "exception": false,
     "start_time": "2021-09-20T10:30:09.229141",
     "status": "completed"
    },
    "tags": []
   },
   "outputs": [
    {
     "data": {
      "text/plain": [
       "<AxesSubplot:ylabel='PRODUCT'>"
      ]
     },
     "execution_count": 7,
     "metadata": {},
     "output_type": "execute_result"
    },
    {
     "data": {
      "image/png": "[encoded data removed]",
      "text/plain": [
       "<Figure size 432x288 with 1 Axes>"
      ]
     },
     "metadata": {
      "needs_background": "light"
     },
     "output_type": "display_data"
    }
   ],
   "source": [
    "df_pivot_diff.sort_values(\"stamp_2\", ascending = False)[\"stamp_2\"].head(10).plot.barh()"
   ]
  },
  {
   "cell_type": "code",
   "execution_count": null,
   "id": "extra-executive",
   "metadata": {
    "papermill": {
     "duration": 0.02205,
     "end_time": "2021-09-20T10:30:10.812108",
     "exception": false,
     "start_time": "2021-09-20T10:30:10.790058",
     "status": "completed"
    },
    "tags": []
   },
   "outputs": [],
   "source": []
  }
 ],
 "metadata": {
  "kernelspec": {
   "display_name": "Python 3",
   "language": "python",
   "name": "python3"
  },
  "language_info": {
   "codemirror_mode": {
    "name": "ipython",
    "version": 3
   },
   "file_extension": ".py",
   "mimetype": "text/x-python",
   "name": "python",
   "nbconvert_exporter": "python",
   "pygments_lexer": "ipython3",
   "version": "3.9.5"
  },
  "papermill": {
   "default_parameters": {},
   "duration": 6.687539,
   "end_time": "2021-09-20T10:30:11.453413",
   "environment_variables": {},
   "exception": null,
   "input_path": "eBay_Overview.ipynb",
   "output_path": "eBay_Overview.ipynb",
   "parameters": {},
   "start_time": "2021-09-20T10:30:04.765874",
   "version": "2.3.3"
  }
 },
 "nbformat": 4,
 "nbformat_minor": 5
}