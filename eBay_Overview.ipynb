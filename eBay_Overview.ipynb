{
 "cells": [
  {
   "cell_type": "code",
   "execution_count": 1,
   "id": "reverse-picking",
   "metadata": {
    "execution": {
     "iopub.execute_input": "2021-10-31T09:30:07.330617Z",
     "iopub.status.busy": "2021-10-31T09:30:07.328588Z",
     "iopub.status.idle": "2021-10-31T09:30:08.135421Z",
     "shell.execute_reply": "2021-10-31T09:30:08.133864Z"
    },
    "papermill": {
     "duration": 0.855646,
     "end_time": "2021-10-31T09:30:08.135802",
     "exception": false,
     "start_time": "2021-10-31T09:30:07.280156",
     "status": "completed"
    },
    "tags": []
   },
   "outputs": [],
   "source": [
    "import pandas as pd\n",
    "import sqlite3"
   ]
  },
  {
   "cell_type": "code",
   "execution_count": 2,
   "id": "innovative-syndrome",
   "metadata": {
    "execution": {
     "iopub.execute_input": "2021-10-31T09:30:08.187446Z",
     "iopub.status.busy": "2021-10-31T09:30:08.185284Z",
     "iopub.status.idle": "2021-10-31T09:30:08.859273Z",
     "shell.execute_reply": "2021-10-31T09:30:08.860542Z"
    },
    "papermill": {
     "duration": 0.703398,
     "end_time": "2021-10-31T09:30:08.861049",
     "exception": false,
     "start_time": "2021-10-31T09:30:08.157651",
     "status": "completed"
    },
    "tags": []
   },
   "outputs": [],
   "source": [
    "timestamps = pd.read_sql(\"select distinct record_time from EBAY_TOP_BERLIN order by record_time desc limit 2\", sqlite3.connect(\"UsedObjects.db\"))"
   ]
  },
  {
   "cell_type": "code",
   "execution_count": 3,
   "id": "periodic-identification",
   "metadata": {
    "execution": {
     "iopub.execute_input": "2021-10-31T09:30:08.934177Z",
     "iopub.status.busy": "2021-10-31T09:30:08.932088Z",
     "iopub.status.idle": "2021-10-31T09:30:08.951947Z",
     "shell.execute_reply": "2021-10-31T09:30:08.953472Z"
    },
    "papermill": {
     "duration": 0.068294,
     "end_time": "2021-10-31T09:30:08.953931",
     "exception": false,
     "start_time": "2021-10-31T09:30:08.885637",
     "status": "completed"
    },
    "tags": []
   },
   "outputs": [
    {
     "data": {
      "text/html": [
       "<div>\n",
       "<style scoped>\n",
       "    .dataframe tbody tr th:only-of-type {\n",
       "        vertical-align: middle;\n",
       "    }\n",
       "\n",
       "    .dataframe tbody tr th {\n",
       "        vertical-align: top;\n",
       "    }\n",
       "\n",
       "    .dataframe thead th {\n",
       "        text-align: right;\n",
       "    }\n",
       "</style>\n",
       "<table border=\"1\" class=\"dataframe\">\n",
       "  <thead>\n",
       "    <tr style=\"text-align: right;\">\n",
       "      <th></th>\n",
       "      <th>RECORD_TIME</th>\n",
       "    </tr>\n",
       "  </thead>\n",
       "  <tbody>\n",
       "    <tr>\n",
       "      <th>0</th>\n",
       "      <td>2021-10-31 10:30</td>\n",
       "    </tr>\n",
       "    <tr>\n",
       "      <th>1</th>\n",
       "      <td>2021-10-31 10:00</td>\n",
       "    </tr>\n",
       "  </tbody>\n",
       "</table>\n",
       "</div>"
      ],
      "text/plain": [
       "        RECORD_TIME\n",
       "0  2021-10-31 10:30\n",
       "1  2021-10-31 10:00"
      ]
     },
     "execution_count": 3,
     "metadata": {},
     "output_type": "execute_result"
    }
   ],
   "source": [
    "timestamps"
   ]
  },
  {
   "cell_type": "code",
   "execution_count": 4,
   "id": "alternate-victory",
   "metadata": {
    "execution": {
     "iopub.execute_input": "2021-10-31T09:30:09.005756Z",
     "iopub.status.busy": "2021-10-31T09:30:09.003838Z",
     "iopub.status.idle": "2021-10-31T09:30:10.000013Z",
     "shell.execute_reply": "2021-10-31T09:30:10.001445Z"
    },
    "papermill": {
     "duration": 1.02577,
     "end_time": "2021-10-31T09:30:10.001859",
     "exception": false,
     "start_time": "2021-10-31T09:30:08.976089",
     "status": "completed"
    },
    "tags": []
   },
   "outputs": [],
   "source": [
    "df = pd.read_sql(\"select * from EBAY_TOP_BERLIN where record_time in (select distinct record_time from EBAY_TOP_BERLIN order by record_time desc limit 2)\", sqlite3.connect(\"UsedObjects.db\"))"
   ]
  },
  {
   "cell_type": "code",
   "execution_count": 5,
   "id": "popular-active",
   "metadata": {
    "execution": {
     "iopub.execute_input": "2021-10-31T09:30:10.074269Z",
     "iopub.status.busy": "2021-10-31T09:30:10.062698Z",
     "iopub.status.idle": "2021-10-31T09:30:10.091017Z",
     "shell.execute_reply": "2021-10-31T09:30:10.092470Z"
    },
    "papermill": {
     "duration": 0.069641,
     "end_time": "2021-10-31T09:30:10.093106",
     "exception": false,
     "start_time": "2021-10-31T09:30:10.023465",
     "status": "completed"
    },
    "tags": []
   },
   "outputs": [],
   "source": [
    "df_pivot = df.pivot_table(index=\"PRODUCT\", columns = \"RECORD_TIME\", values = \"LISTING_COUNT\")"
   ]
  },
  {
   "cell_type": "code",
   "execution_count": 6,
   "id": "union-huntington",
   "metadata": {
    "execution": {
     "iopub.execute_input": "2021-10-31T09:30:10.151872Z",
     "iopub.status.busy": "2021-10-31T09:30:10.149437Z",
     "iopub.status.idle": "2021-10-31T09:30:10.155203Z",
     "shell.execute_reply": "2021-10-31T09:30:10.156402Z"
    },
    "papermill": {
     "duration": 0.041664,
     "end_time": "2021-10-31T09:30:10.156886",
     "exception": false,
     "start_time": "2021-10-31T09:30:10.115222",
     "status": "completed"
    },
    "tags": []
   },
   "outputs": [],
   "source": [
    "df_pivot.columns = [\"stamp_1\", \"stamp_2\"]\n",
    "df_pivot_diff = df_pivot.diff(axis=1)"
   ]
  },
  {
   "cell_type": "code",
   "execution_count": 7,
   "id": "fifth-motion",
   "metadata": {
    "execution": {
     "iopub.execute_input": "2021-10-31T09:30:10.210777Z",
     "iopub.status.busy": "2021-10-31T09:30:10.208390Z",
     "iopub.status.idle": "2021-10-31T09:30:11.676816Z",
     "shell.execute_reply": "2021-10-31T09:30:11.678363Z"
    },
    "papermill": {
     "duration": 1.501499,
     "end_time": "2021-10-31T09:30:11.678799",
     "exception": false,
     "start_time": "2021-10-31T09:30:10.177300",
     "status": "completed"
    },
    "tags": []
   },
   "outputs": [
    {
     "data": {
      "text/plain": [
       "<AxesSubplot:ylabel='PRODUCT'>"
      ]
     },
     "execution_count": 7,
     "metadata": {},
     "output_type": "execute_result"
    },
    {
     "data": {
      "image/png": "[encoded data removed]",
      "text/plain": [
       "<Figure size 432x288 with 1 Axes>"
      ]
     },
     "metadata": {
      "needs_background": "light"
     },
     "output_type": "display_data"
    }
   ],
   "source": [
    "df_pivot_diff.sort_values(\"stamp_2\", ascending = False)[\"stamp_2\"].head(10).plot.barh()"
   ]
  },
  {
   "cell_type": "code",
   "execution_count": null,
   "id": "extra-executive",
   "metadata": {
    "papermill": {
     "duration": 0.022951,
     "end_time": "2021-10-31T09:30:11.727918",
     "exception": false,
     "start_time": "2021-10-31T09:30:11.704967",
     "status": "completed"
    },
    "tags": []
   },
   "outputs": [],
   "source": []
  }
 ],
 "metadata": {
  "kernelspec": {
   "display_name": "Python 3",
   "language": "python",
   "name": "python3"
  },
  "language_info": {
   "codemirror_mode": {
    "name": "ipython",
    "version": 3
   },
   "file_extension": ".py",
   "mimetype": "text/x-python",
   "name": "python",
   "nbconvert_exporter": "python",
   "pygments_lexer": "ipython3",
   "version": "3.9.5"
  },
  "papermill": {
   "default_parameters": {},
   "duration": 7.48894,
   "end_time": "2021-10-31T09:30:12.370656",
   "environment_variables": {},
   "exception": null,
   "input_path": "eBay_Overview.ipynb",
   "output_path": "eBay_Overview.ipynb",
   "parameters": {},
   "start_time": "2021-10-31T09:30:04.881716",
   "version": "2.3.3"
  }
 },
 "nbformat": 4,
 "nbformat_minor": 5
}