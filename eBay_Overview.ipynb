{
 "cells": [
  {
   "cell_type": "code",
   "execution_count": 1,
   "id": "reverse-picking",
   "metadata": {
    "execution": {
     "iopub.execute_input": "2021-09-28T04:30:07.076683Z",
     "iopub.status.busy": "2021-09-28T04:30:07.074629Z",
     "iopub.status.idle": "2021-09-28T04:30:07.879333Z",
     "shell.execute_reply": "2021-09-28T04:30:07.880714Z"
    },
    "papermill": {
     "duration": 0.857512,
     "end_time": "2021-09-28T04:30:07.881339",
     "exception": false,
     "start_time": "2021-09-28T04:30:07.023827",
     "status": "completed"
    },
    "tags": []
   },
   "outputs": [],
   "source": [
    "import pandas as pd\n",
    "import sqlite3"
   ]
  },
  {
   "cell_type": "code",
   "execution_count": 2,
   "id": "innovative-syndrome",
   "metadata": {
    "execution": {
     "iopub.execute_input": "2021-09-28T04:30:07.931474Z",
     "iopub.status.busy": "2021-09-28T04:30:07.929453Z",
     "iopub.status.idle": "2021-09-28T04:30:08.320839Z",
     "shell.execute_reply": "2021-09-28T04:30:08.322046Z"
    },
    "papermill": {
     "duration": 0.420943,
     "end_time": "2021-09-28T04:30:08.322448",
     "exception": false,
     "start_time": "2021-09-28T04:30:07.901505",
     "status": "completed"
    },
    "tags": []
   },
   "outputs": [],
   "source": [
    "timestamps = pd.read_sql(\"select distinct record_time from EBAY_TOP_BERLIN order by record_time desc limit 2\", sqlite3.connect(\"UsedObjects.db\"))"
   ]
  },
  {
   "cell_type": "code",
   "execution_count": 3,
   "id": "periodic-identification",
   "metadata": {
    "execution": {
     "iopub.execute_input": "2021-09-28T04:30:08.388633Z",
     "iopub.status.busy": "2021-09-28T04:30:08.386172Z",
     "iopub.status.idle": "2021-09-28T04:30:08.407261Z",
     "shell.execute_reply": "2021-09-28T04:30:08.408489Z"
    },
    "papermill": {
     "duration": 0.065366,
     "end_time": "2021-09-28T04:30:08.408885",
     "exception": false,
     "start_time": "2021-09-28T04:30:08.343519",
     "status": "completed"
    },
    "tags": []
   },
   "outputs": [
    {
     "data": {
      "text/html": [
       "<div>\n",
       "<style scoped>\n",
       "    .dataframe tbody tr th:only-of-type {\n",
       "        vertical-align: middle;\n",
       "    }\n",
       "\n",
       "    .dataframe tbody tr th {\n",
       "        vertical-align: top;\n",
       "    }\n",
       "\n",
       "    .dataframe thead th {\n",
       "        text-align: right;\n",
       "    }\n",
       "</style>\n",
       "<table border=\"1\" class=\"dataframe\">\n",
       "  <thead>\n",
       "    <tr style=\"text-align: right;\">\n",
       "      <th></th>\n",
       "      <th>RECORD_TIME</th>\n",
       "    </tr>\n",
       "  </thead>\n",
       "  <tbody>\n",
       "    <tr>\n",
       "      <th>0</th>\n",
       "      <td>2021-09-28 06:30</td>\n",
       "    </tr>\n",
       "    <tr>\n",
       "      <th>1</th>\n",
       "      <td>2021-09-28 06:00</td>\n",
       "    </tr>\n",
       "  </tbody>\n",
       "</table>\n",
       "</div>"
      ],
      "text/plain": [
       "        RECORD_TIME\n",
       "0  2021-09-28 06:30\n",
       "1  2021-09-28 06:00"
      ]
     },
     "execution_count": 3,
     "metadata": {},
     "output_type": "execute_result"
    }
   ],
   "source": [
    "timestamps"
   ]
  },
  {
   "cell_type": "code",
   "execution_count": 4,
   "id": "alternate-victory",
   "metadata": {
    "execution": {
     "iopub.execute_input": "2021-09-28T04:30:08.461929Z",
     "iopub.status.busy": "2021-09-28T04:30:08.459611Z",
     "iopub.status.idle": "2021-09-28T04:30:09.035940Z",
     "shell.execute_reply": "2021-09-28T04:30:09.037400Z"
    },
    "papermill": {
     "duration": 0.607767,
     "end_time": "2021-09-28T04:30:09.037851",
     "exception": false,
     "start_time": "2021-09-28T04:30:08.430084",
     "status": "completed"
    },
    "tags": []
   },
   "outputs": [],
   "source": [
    "df = pd.read_sql(\"select * from EBAY_TOP_BERLIN where record_time in (select distinct record_time from EBAY_TOP_BERLIN order by record_time desc limit 2)\", sqlite3.connect(\"UsedObjects.db\"))"
   ]
  },
  {
   "cell_type": "code",
   "execution_count": 5,
   "id": "popular-active",
   "metadata": {
    "execution": {
     "iopub.execute_input": "2021-09-28T04:30:09.109181Z",
     "iopub.status.busy": "2021-09-28T04:30:09.096881Z",
     "iopub.status.idle": "2021-09-28T04:30:09.125477Z",
     "shell.execute_reply": "2021-09-28T04:30:09.126701Z"
    },
    "papermill": {
     "duration": 0.068556,
     "end_time": "2021-09-28T04:30:09.127293",
     "exception": false,
     "start_time": "2021-09-28T04:30:09.058737",
     "status": "completed"
    },
    "tags": []
   },
   "outputs": [],
   "source": [
    "df_pivot = df.pivot_table(index=\"PRODUCT\", columns = \"RECORD_TIME\", values = \"LISTING_COUNT\")"
   ]
  },
  {
   "cell_type": "code",
   "execution_count": 6,
   "id": "union-huntington",
   "metadata": {
    "execution": {
     "iopub.execute_input": "2021-09-28T04:30:09.186477Z",
     "iopub.status.busy": "2021-09-28T04:30:09.184157Z",
     "iopub.status.idle": "2021-09-28T04:30:09.189843Z",
     "shell.execute_reply": "2021-09-28T04:30:09.191296Z"
    },
    "papermill": {
     "duration": 0.042155,
     "end_time": "2021-09-28T04:30:09.191753",
     "exception": false,
     "start_time": "2021-09-28T04:30:09.149598",
     "status": "completed"
    },
    "tags": []
   },
   "outputs": [],
   "source": [
    "df_pivot.columns = [\"stamp_1\", \"stamp_2\"]\n",
    "df_pivot_diff = df_pivot.diff(axis=1)"
   ]
  },
  {
   "cell_type": "code",
   "execution_count": 7,
   "id": "fifth-motion",
   "metadata": {
    "execution": {
     "iopub.execute_input": "2021-09-28T04:30:09.246577Z",
     "iopub.status.busy": "2021-09-28T04:30:09.244180Z",
     "iopub.status.idle": "2021-09-28T04:30:10.772648Z",
     "shell.execute_reply": "2021-09-28T04:30:10.773962Z"
    },
    "papermill": {
     "duration": 1.561667,
     "end_time": "2021-09-28T04:30:10.774387",
     "exception": false,
     "start_time": "2021-09-28T04:30:09.212720",
     "status": "completed"
    },
    "tags": []
   },
   "outputs": [
    {
     "data": {
      "text/plain": [
       "<AxesSubplot:ylabel='PRODUCT'>"
      ]
     },
     "execution_count": 7,
     "metadata": {},
     "output_type": "execute_result"
    },
    {
     "data": {
      "image/png": "[encoded data removed]",
      "text/plain": [
       "<Figure size 432x288 with 1 Axes>"
      ]
     },
     "metadata": {
      "needs_background": "light"
     },
     "output_type": "display_data"
    }
   ],
   "source": [
    "df_pivot_diff.sort_values(\"stamp_2\", ascending = False)[\"stamp_2\"].head(10).plot.barh()"
   ]
  },
  {
   "cell_type": "code",
   "execution_count": null,
   "id": "extra-executive",
   "metadata": {
    "papermill": {
     "duration": 0.022581,
     "end_time": "2021-09-28T04:30:10.821862",
     "exception": false,
     "start_time": "2021-09-28T04:30:10.799281",
     "status": "completed"
    },
    "tags": []
   },
   "outputs": [],
   "source": []
  }
 ],
 "metadata": {
  "kernelspec": {
   "display_name": "Python 3",
   "language": "python",
   "name": "python3"
  },
  "language_info": {
   "codemirror_mode": {
    "name": "ipython",
    "version": 3
   },
   "file_extension": ".py",
   "mimetype": "text/x-python",
   "name": "python",
   "nbconvert_exporter": "python",
   "pygments_lexer": "ipython3",
   "version": "3.9.5"
  },
  "papermill": {
   "default_parameters": {},
   "duration": 7.837264,
   "end_time": "2021-09-28T04:30:12.446873",
   "environment_variables": {},
   "exception": null,
   "input_path": "eBay_Overview.ipynb",
   "output_path": "eBay_Overview.ipynb",
   "parameters": {},
   "start_time": "2021-09-28T04:30:04.609609",
   "version": "2.3.3"
  }
 },
 "nbformat": 4,
 "nbformat_minor": 5
}