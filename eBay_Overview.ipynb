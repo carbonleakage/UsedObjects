{
 "cells": [
  {
   "cell_type": "code",
   "execution_count": 1,
   "id": "reverse-picking",
   "metadata": {
    "execution": {
     "iopub.execute_input": "2021-11-21T21:00:08.409426Z",
     "iopub.status.busy": "2021-11-21T21:00:08.406783Z",
     "iopub.status.idle": "2021-11-21T21:00:09.328457Z",
     "shell.execute_reply": "2021-11-21T21:00:09.330114Z"
    },
    "papermill": {
     "duration": 0.973441,
     "end_time": "2021-11-21T21:00:09.330826",
     "exception": false,
     "start_time": "2021-11-21T21:00:08.357385",
     "status": "completed"
    },
    "tags": []
   },
   "outputs": [],
   "source": [
    "import pandas as pd\n",
    "import sqlite3"
   ]
  },
  {
   "cell_type": "code",
   "execution_count": 2,
   "id": "innovative-syndrome",
   "metadata": {
    "execution": {
     "iopub.execute_input": "2021-11-21T21:00:09.403049Z",
     "iopub.status.busy": "2021-11-21T21:00:09.400814Z",
     "iopub.status.idle": "2021-11-21T21:00:10.274737Z",
     "shell.execute_reply": "2021-11-21T21:00:10.275948Z"
    },
    "papermill": {
     "duration": 0.907234,
     "end_time": "2021-11-21T21:00:10.276342",
     "exception": false,
     "start_time": "2021-11-21T21:00:09.369108",
     "status": "completed"
    },
    "tags": []
   },
   "outputs": [],
   "source": [
    "timestamps = pd.read_sql(\"select distinct record_time from EBAY_TOP_BERLIN order by record_time desc limit 2\", sqlite3.connect(\"UsedObjects.db\"))"
   ]
  },
  {
   "cell_type": "code",
   "execution_count": 3,
   "id": "periodic-identification",
   "metadata": {
    "execution": {
     "iopub.execute_input": "2021-11-21T21:00:10.350852Z",
     "iopub.status.busy": "2021-11-21T21:00:10.348383Z",
     "iopub.status.idle": "2021-11-21T21:00:10.371472Z",
     "shell.execute_reply": "2021-11-21T21:00:10.373121Z"
    },
    "papermill": {
     "duration": 0.076693,
     "end_time": "2021-11-21T21:00:10.373679",
     "exception": false,
     "start_time": "2021-11-21T21:00:10.296986",
     "status": "completed"
    },
    "tags": []
   },
   "outputs": [
    {
     "data": {
      "text/html": [
       "<div>\n",
       "<style scoped>\n",
       "    .dataframe tbody tr th:only-of-type {\n",
       "        vertical-align: middle;\n",
       "    }\n",
       "\n",
       "    .dataframe tbody tr th {\n",
       "        vertical-align: top;\n",
       "    }\n",
       "\n",
       "    .dataframe thead th {\n",
       "        text-align: right;\n",
       "    }\n",
       "</style>\n",
       "<table border=\"1\" class=\"dataframe\">\n",
       "  <thead>\n",
       "    <tr style=\"text-align: right;\">\n",
       "      <th></th>\n",
       "      <th>RECORD_TIME</th>\n",
       "    </tr>\n",
       "  </thead>\n",
       "  <tbody>\n",
       "    <tr>\n",
       "      <th>0</th>\n",
       "      <td>2021-11-21 22:00</td>\n",
       "    </tr>\n",
       "    <tr>\n",
       "      <th>1</th>\n",
       "      <td>2021-11-21 21:30</td>\n",
       "    </tr>\n",
       "  </tbody>\n",
       "</table>\n",
       "</div>"
      ],
      "text/plain": [
       "        RECORD_TIME\n",
       "0  2021-11-21 22:00\n",
       "1  2021-11-21 21:30"
      ]
     },
     "execution_count": 3,
     "metadata": {},
     "output_type": "execute_result"
    }
   ],
   "source": [
    "timestamps"
   ]
  },
  {
   "cell_type": "code",
   "execution_count": 4,
   "id": "alternate-victory",
   "metadata": {
    "execution": {
     "iopub.execute_input": "2021-11-21T21:00:10.430214Z",
     "iopub.status.busy": "2021-11-21T21:00:10.427975Z",
     "iopub.status.idle": "2021-11-21T21:00:11.756761Z",
     "shell.execute_reply": "2021-11-21T21:00:11.758927Z"
    },
    "papermill": {
     "duration": 1.363102,
     "end_time": "2021-11-21T21:00:11.759554",
     "exception": false,
     "start_time": "2021-11-21T21:00:10.396452",
     "status": "completed"
    },
    "tags": []
   },
   "outputs": [],
   "source": [
    "df = pd.read_sql(\"select * from EBAY_TOP_BERLIN where record_time in (select distinct record_time from EBAY_TOP_BERLIN order by record_time desc limit 2)\", sqlite3.connect(\"UsedObjects.db\"))"
   ]
  },
  {
   "cell_type": "code",
   "execution_count": 5,
   "id": "popular-active",
   "metadata": {
    "execution": {
     "iopub.execute_input": "2021-11-21T21:00:11.840983Z",
     "iopub.status.busy": "2021-11-21T21:00:11.826498Z",
     "iopub.status.idle": "2021-11-21T21:00:11.860818Z",
     "shell.execute_reply": "2021-11-21T21:00:11.862109Z"
    },
    "papermill": {
     "duration": 0.078931,
     "end_time": "2021-11-21T21:00:11.862555",
     "exception": false,
     "start_time": "2021-11-21T21:00:11.783624",
     "status": "completed"
    },
    "tags": []
   },
   "outputs": [],
   "source": [
    "df_pivot = df.pivot_table(index=\"PRODUCT\", columns = \"RECORD_TIME\", values = \"LISTING_COUNT\")"
   ]
  },
  {
   "cell_type": "code",
   "execution_count": 6,
   "id": "union-huntington",
   "metadata": {
    "execution": {
     "iopub.execute_input": "2021-11-21T21:00:11.921724Z",
     "iopub.status.busy": "2021-11-21T21:00:11.919603Z",
     "iopub.status.idle": "2021-11-21T21:00:11.926523Z",
     "shell.execute_reply": "2021-11-21T21:00:11.925014Z"
    },
    "papermill": {
     "duration": 0.043184,
     "end_time": "2021-11-21T21:00:11.926945",
     "exception": false,
     "start_time": "2021-11-21T21:00:11.883761",
     "status": "completed"
    },
    "tags": []
   },
   "outputs": [],
   "source": [
    "df_pivot.columns = [\"stamp_1\", \"stamp_2\"]\n",
    "df_pivot_diff = df_pivot.diff(axis=1)"
   ]
  },
  {
   "cell_type": "code",
   "execution_count": 7,
   "id": "fifth-motion",
   "metadata": {
    "execution": {
     "iopub.execute_input": "2021-11-21T21:00:11.987255Z",
     "iopub.status.busy": "2021-11-21T21:00:11.984673Z",
     "iopub.status.idle": "2021-11-21T21:00:13.896992Z",
     "shell.execute_reply": "2021-11-21T21:00:13.898317Z"
    },
    "papermill": {
     "duration": 1.950698,
     "end_time": "2021-11-21T21:00:13.898719",
     "exception": false,
     "start_time": "2021-11-21T21:00:11.948021",
     "status": "completed"
    },
    "tags": []
   },
   "outputs": [
    {
     "data": {
      "text/plain": [
       "<AxesSubplot:ylabel='PRODUCT'>"
      ]
     },
     "execution_count": 7,
     "metadata": {},
     "output_type": "execute_result"
    },
    {
     "data": {
      "image/png": "[encoded data removed]",
      "text/plain": [
       "<Figure size 432x288 with 1 Axes>"
      ]
     },
     "metadata": {
      "needs_background": "light"
     },
     "output_type": "display_data"
    }
   ],
   "source": [
    "df_pivot_diff.sort_values(\"stamp_2\", ascending = False)[\"stamp_2\"].head(10).plot.barh()"
   ]
  },
  {
   "cell_type": "code",
   "execution_count": null,
   "id": "extra-executive",
   "metadata": {
    "papermill": {
     "duration": 0.023222,
     "end_time": "2021-11-21T21:00:13.946835",
     "exception": false,
     "start_time": "2021-11-21T21:00:13.923613",
     "status": "completed"
    },
    "tags": []
   },
   "outputs": [],
   "source": []
  }
 ],
 "metadata": {
  "kernelspec": {
   "display_name": "Python 3",
   "language": "python",
   "name": "python3"
  },
  "language_info": {
   "codemirror_mode": {
    "name": "ipython",
    "version": 3
   },
   "file_extension": ".py",
   "mimetype": "text/x-python",
   "name": "python",
   "nbconvert_exporter": "python",
   "pygments_lexer": "ipython3",
   "version": "3.9.5"
  },
  "papermill": {
   "default_parameters": {},
   "duration": 9.934839,
   "end_time": "2021-11-21T21:00:15.546383",
   "environment_variables": {},
   "exception": null,
   "input_path": "eBay_Overview.ipynb",
   "output_path": "eBay_Overview.ipynb",
   "parameters": {},
   "start_time": "2021-11-21T21:00:05.611544",
   "version": "2.3.3"
  }
 },
 "nbformat": 4,
 "nbformat_minor": 5
}