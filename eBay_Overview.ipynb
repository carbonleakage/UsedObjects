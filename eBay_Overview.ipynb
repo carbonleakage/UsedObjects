{
 "cells": [
  {
   "cell_type": "code",
   "execution_count": 1,
   "id": "reverse-picking",
   "metadata": {
    "execution": {
     "iopub.execute_input": "2021-09-17T14:00:07.026643Z",
     "iopub.status.busy": "2021-09-17T14:00:07.024698Z",
     "iopub.status.idle": "2021-09-17T14:00:07.826492Z",
     "shell.execute_reply": "2021-09-17T14:00:07.828024Z"
    },
    "papermill": {
     "duration": 0.855066,
     "end_time": "2021-09-17T14:00:07.828701",
     "exception": false,
     "start_time": "2021-09-17T14:00:06.973635",
     "status": "completed"
    },
    "tags": []
   },
   "outputs": [],
   "source": [
    "import pandas as pd\n",
    "import sqlite3"
   ]
  },
  {
   "cell_type": "code",
   "execution_count": 2,
   "id": "innovative-syndrome",
   "metadata": {
    "execution": {
     "iopub.execute_input": "2021-09-17T14:00:07.880608Z",
     "iopub.status.busy": "2021-09-17T14:00:07.878225Z",
     "iopub.status.idle": "2021-09-17T14:00:08.193625Z",
     "shell.execute_reply": "2021-09-17T14:00:08.194902Z"
    },
    "papermill": {
     "duration": 0.34576,
     "end_time": "2021-09-17T14:00:08.195318",
     "exception": false,
     "start_time": "2021-09-17T14:00:07.849558",
     "status": "completed"
    },
    "tags": []
   },
   "outputs": [],
   "source": [
    "timestamps = pd.read_sql(\"select distinct record_time from EBAY_TOP_BERLIN order by record_time desc limit 2\", sqlite3.connect(\"UsedObjects.db\"))"
   ]
  },
  {
   "cell_type": "code",
   "execution_count": 3,
   "id": "periodic-identification",
   "metadata": {
    "execution": {
     "iopub.execute_input": "2021-09-17T14:00:08.260504Z",
     "iopub.status.busy": "2021-09-17T14:00:08.258413Z",
     "iopub.status.idle": "2021-09-17T14:00:08.278087Z",
     "shell.execute_reply": "2021-09-17T14:00:08.279467Z"
    },
    "papermill": {
     "duration": 0.06415,
     "end_time": "2021-09-17T14:00:08.279893",
     "exception": false,
     "start_time": "2021-09-17T14:00:08.215743",
     "status": "completed"
    },
    "tags": []
   },
   "outputs": [
    {
     "data": {
      "text/html": [
       "<div>\n",
       "<style scoped>\n",
       "    .dataframe tbody tr th:only-of-type {\n",
       "        vertical-align: middle;\n",
       "    }\n",
       "\n",
       "    .dataframe tbody tr th {\n",
       "        vertical-align: top;\n",
       "    }\n",
       "\n",
       "    .dataframe thead th {\n",
       "        text-align: right;\n",
       "    }\n",
       "</style>\n",
       "<table border=\"1\" class=\"dataframe\">\n",
       "  <thead>\n",
       "    <tr style=\"text-align: right;\">\n",
       "      <th></th>\n",
       "      <th>RECORD_TIME</th>\n",
       "    </tr>\n",
       "  </thead>\n",
       "  <tbody>\n",
       "    <tr>\n",
       "      <th>0</th>\n",
       "      <td>2021-09-17 16:00</td>\n",
       "    </tr>\n",
       "    <tr>\n",
       "      <th>1</th>\n",
       "      <td>2021-09-17 15:30</td>\n",
       "    </tr>\n",
       "  </tbody>\n",
       "</table>\n",
       "</div>"
      ],
      "text/plain": [
       "        RECORD_TIME\n",
       "0  2021-09-17 16:00\n",
       "1  2021-09-17 15:30"
      ]
     },
     "execution_count": 3,
     "metadata": {},
     "output_type": "execute_result"
    }
   ],
   "source": [
    "timestamps"
   ]
  },
  {
   "cell_type": "code",
   "execution_count": 4,
   "id": "alternate-victory",
   "metadata": {
    "execution": {
     "iopub.execute_input": "2021-09-17T14:00:08.333461Z",
     "iopub.status.busy": "2021-09-17T14:00:08.331448Z",
     "iopub.status.idle": "2021-09-17T14:00:08.785904Z",
     "shell.execute_reply": "2021-09-17T14:00:08.784436Z"
    },
    "papermill": {
     "duration": 0.483769,
     "end_time": "2021-09-17T14:00:08.786270",
     "exception": false,
     "start_time": "2021-09-17T14:00:08.302501",
     "status": "completed"
    },
    "tags": []
   },
   "outputs": [],
   "source": [
    "df = pd.read_sql(\"select * from EBAY_TOP_BERLIN where record_time in (select distinct record_time from EBAY_TOP_BERLIN order by record_time desc limit 2)\", sqlite3.connect(\"UsedObjects.db\"))"
   ]
  },
  {
   "cell_type": "code",
   "execution_count": 5,
   "id": "popular-active",
   "metadata": {
    "execution": {
     "iopub.execute_input": "2021-09-17T14:00:08.861654Z",
     "iopub.status.busy": "2021-09-17T14:00:08.849916Z",
     "iopub.status.idle": "2021-09-17T14:00:08.878714Z",
     "shell.execute_reply": "2021-09-17T14:00:08.880077Z"
    },
    "papermill": {
     "duration": 0.071194,
     "end_time": "2021-09-17T14:00:08.880492",
     "exception": false,
     "start_time": "2021-09-17T14:00:08.809298",
     "status": "completed"
    },
    "tags": []
   },
   "outputs": [],
   "source": [
    "df_pivot = df.pivot_table(index=\"PRODUCT\", columns = \"RECORD_TIME\", values = \"LISTING_COUNT\")"
   ]
  },
  {
   "cell_type": "code",
   "execution_count": 6,
   "id": "union-huntington",
   "metadata": {
    "execution": {
     "iopub.execute_input": "2021-09-17T14:00:08.936579Z",
     "iopub.status.busy": "2021-09-17T14:00:08.934339Z",
     "iopub.status.idle": "2021-09-17T14:00:08.939932Z",
     "shell.execute_reply": "2021-09-17T14:00:08.941302Z"
    },
    "papermill": {
     "duration": 0.041057,
     "end_time": "2021-09-17T14:00:08.941735",
     "exception": false,
     "start_time": "2021-09-17T14:00:08.900678",
     "status": "completed"
    },
    "tags": []
   },
   "outputs": [],
   "source": [
    "df_pivot.columns = [\"stamp_1\", \"stamp_2\"]\n",
    "df_pivot_diff = df_pivot.diff(axis=1)"
   ]
  },
  {
   "cell_type": "code",
   "execution_count": 7,
   "id": "fifth-motion",
   "metadata": {
    "execution": {
     "iopub.execute_input": "2021-09-17T14:00:08.996660Z",
     "iopub.status.busy": "2021-09-17T14:00:08.994080Z",
     "iopub.status.idle": "2021-09-17T14:00:10.496848Z",
     "shell.execute_reply": "2021-09-17T14:00:10.498415Z"
    },
    "papermill": {
     "duration": 1.536446,
     "end_time": "2021-09-17T14:00:10.498963",
     "exception": false,
     "start_time": "2021-09-17T14:00:08.962517",
     "status": "completed"
    },
    "tags": []
   },
   "outputs": [
    {
     "data": {
      "text/plain": [
       "<AxesSubplot:ylabel='PRODUCT'>"
      ]
     },
     "execution_count": 7,
     "metadata": {},
     "output_type": "execute_result"
    },
    {
     "data": {
      "image/png": "[encoded data removed]",
      "text/plain": [
       "<Figure size 432x288 with 1 Axes>"
      ]
     },
     "metadata": {
      "needs_background": "light"
     },
     "output_type": "display_data"
    }
   ],
   "source": [
    "df_pivot_diff.sort_values(\"stamp_2\", ascending = False)[\"stamp_2\"].head(10).plot.barh()"
   ]
  },
  {
   "cell_type": "code",
   "execution_count": null,
   "id": "extra-executive",
   "metadata": {
    "papermill": {
     "duration": 0.022597,
     "end_time": "2021-09-17T14:00:10.546934",
     "exception": false,
     "start_time": "2021-09-17T14:00:10.524337",
     "status": "completed"
    },
    "tags": []
   },
   "outputs": [],
   "source": []
  }
 ],
 "metadata": {
  "kernelspec": {
   "display_name": "Python 3",
   "language": "python",
   "name": "python3"
  },
  "language_info": {
   "codemirror_mode": {
    "name": "ipython",
    "version": 3
   },
   "file_extension": ".py",
   "mimetype": "text/x-python",
   "name": "python",
   "nbconvert_exporter": "python",
   "pygments_lexer": "ipython3",
   "version": "3.9.5"
  },
  "papermill": {
   "default_parameters": {},
   "duration": 6.602079,
   "end_time": "2021-09-17T14:00:11.190295",
   "environment_variables": {},
   "exception": null,
   "input_path": "eBay_Overview.ipynb",
   "output_path": "eBay_Overview.ipynb",
   "parameters": {},
   "start_time": "2021-09-17T14:00:04.588216",
   "version": "2.3.3"
  }
 },
 "nbformat": 4,
 "nbformat_minor": 5
}