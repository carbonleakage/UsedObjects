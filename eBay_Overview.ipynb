{
 "cells": [
  {
   "cell_type": "code",
   "execution_count": 1,
   "id": "reverse-picking",
   "metadata": {
    "execution": {
     "iopub.execute_input": "2021-12-15T16:00:08.171871Z",
     "iopub.status.busy": "2021-12-15T16:00:08.169698Z",
     "iopub.status.idle": "2021-12-15T16:00:09.132406Z",
     "shell.execute_reply": "2021-12-15T16:00:09.134765Z"
    },
    "papermill": {
     "duration": 1.012033,
     "end_time": "2021-12-15T16:00:09.135501",
     "exception": false,
     "start_time": "2021-12-15T16:00:08.123468",
     "status": "completed"
    },
    "tags": []
   },
   "outputs": [],
   "source": [
    "import pandas as pd\n",
    "import sqlite3"
   ]
  },
  {
   "cell_type": "code",
   "execution_count": 2,
   "id": "innovative-syndrome",
   "metadata": {
    "execution": {
     "iopub.execute_input": "2021-12-15T16:00:09.196990Z",
     "iopub.status.busy": "2021-12-15T16:00:09.194792Z",
     "iopub.status.idle": "2021-12-15T16:00:10.286326Z",
     "shell.execute_reply": "2021-12-15T16:00:10.287753Z"
    },
    "papermill": {
     "duration": 1.125718,
     "end_time": "2021-12-15T16:00:10.288229",
     "exception": false,
     "start_time": "2021-12-15T16:00:09.162511",
     "status": "completed"
    },
    "tags": []
   },
   "outputs": [],
   "source": [
    "timestamps = pd.read_sql(\"select distinct record_time from EBAY_TOP_BERLIN order by record_time desc limit 2\", sqlite3.connect(\"UsedObjects.db\"))"
   ]
  },
  {
   "cell_type": "code",
   "execution_count": 3,
   "id": "periodic-identification",
   "metadata": {
    "execution": {
     "iopub.execute_input": "2021-12-15T16:00:10.362511Z",
     "iopub.status.busy": "2021-12-15T16:00:10.359970Z",
     "iopub.status.idle": "2021-12-15T16:00:10.383242Z",
     "shell.execute_reply": "2021-12-15T16:00:10.384834Z"
    },
    "papermill": {
     "duration": 0.076885,
     "end_time": "2021-12-15T16:00:10.385324",
     "exception": false,
     "start_time": "2021-12-15T16:00:10.308439",
     "status": "completed"
    },
    "tags": []
   },
   "outputs": [
    {
     "data": {
      "text/html": [
       "<div>\n",
       "<style scoped>\n",
       "    .dataframe tbody tr th:only-of-type {\n",
       "        vertical-align: middle;\n",
       "    }\n",
       "\n",
       "    .dataframe tbody tr th {\n",
       "        vertical-align: top;\n",
       "    }\n",
       "\n",
       "    .dataframe thead th {\n",
       "        text-align: right;\n",
       "    }\n",
       "</style>\n",
       "<table border=\"1\" class=\"dataframe\">\n",
       "  <thead>\n",
       "    <tr style=\"text-align: right;\">\n",
       "      <th></th>\n",
       "      <th>RECORD_TIME</th>\n",
       "    </tr>\n",
       "  </thead>\n",
       "  <tbody>\n",
       "    <tr>\n",
       "      <th>0</th>\n",
       "      <td>2021-12-15 17:00</td>\n",
       "    </tr>\n",
       "    <tr>\n",
       "      <th>1</th>\n",
       "      <td>2021-12-15 16:30</td>\n",
       "    </tr>\n",
       "  </tbody>\n",
       "</table>\n",
       "</div>"
      ],
      "text/plain": [
       "        RECORD_TIME\n",
       "0  2021-12-15 17:00\n",
       "1  2021-12-15 16:30"
      ]
     },
     "execution_count": 3,
     "metadata": {},
     "output_type": "execute_result"
    }
   ],
   "source": [
    "timestamps"
   ]
  },
  {
   "cell_type": "code",
   "execution_count": 4,
   "id": "alternate-victory",
   "metadata": {
    "execution": {
     "iopub.execute_input": "2021-12-15T16:00:10.440490Z",
     "iopub.status.busy": "2021-12-15T16:00:10.438225Z",
     "iopub.status.idle": "2021-12-15T16:00:12.011810Z",
     "shell.execute_reply": "2021-12-15T16:00:12.013946Z"
    },
    "papermill": {
     "duration": 1.608537,
     "end_time": "2021-12-15T16:00:12.014417",
     "exception": false,
     "start_time": "2021-12-15T16:00:10.405880",
     "status": "completed"
    },
    "tags": []
   },
   "outputs": [],
   "source": [
    "df = pd.read_sql(\"select * from EBAY_TOP_BERLIN where record_time in (select distinct record_time from EBAY_TOP_BERLIN order by record_time desc limit 2)\", sqlite3.connect(\"UsedObjects.db\"))"
   ]
  },
  {
   "cell_type": "code",
   "execution_count": 5,
   "id": "popular-active",
   "metadata": {
    "execution": {
     "iopub.execute_input": "2021-12-15T16:00:12.079479Z",
     "iopub.status.busy": "2021-12-15T16:00:12.076411Z",
     "iopub.status.idle": "2021-12-15T16:00:12.111089Z",
     "shell.execute_reply": "2021-12-15T16:00:12.112546Z"
    },
    "papermill": {
     "duration": 0.078403,
     "end_time": "2021-12-15T16:00:12.113080",
     "exception": false,
     "start_time": "2021-12-15T16:00:12.034677",
     "status": "completed"
    },
    "tags": []
   },
   "outputs": [],
   "source": [
    "df_pivot = df.pivot_table(index=\"PRODUCT\", columns = \"RECORD_TIME\", values = \"LISTING_COUNT\")"
   ]
  },
  {
   "cell_type": "code",
   "execution_count": 6,
   "id": "union-huntington",
   "metadata": {
    "execution": {
     "iopub.execute_input": "2021-12-15T16:00:12.173727Z",
     "iopub.status.busy": "2021-12-15T16:00:12.171381Z",
     "iopub.status.idle": "2021-12-15T16:00:12.177361Z",
     "shell.execute_reply": "2021-12-15T16:00:12.178933Z"
    },
    "papermill": {
     "duration": 0.045505,
     "end_time": "2021-12-15T16:00:12.179404",
     "exception": false,
     "start_time": "2021-12-15T16:00:12.133899",
     "status": "completed"
    },
    "tags": []
   },
   "outputs": [],
   "source": [
    "df_pivot.columns = [\"stamp_1\", \"stamp_2\"]\n",
    "df_pivot_diff = df_pivot.diff(axis=1)"
   ]
  },
  {
   "cell_type": "code",
   "execution_count": 7,
   "id": "fifth-motion",
   "metadata": {
    "execution": {
     "iopub.execute_input": "2021-12-15T16:00:12.235342Z",
     "iopub.status.busy": "2021-12-15T16:00:12.232896Z",
     "iopub.status.idle": "2021-12-15T16:00:14.177284Z",
     "shell.execute_reply": "2021-12-15T16:00:14.178571Z"
    },
    "papermill": {
     "duration": 1.979557,
     "end_time": "2021-12-15T16:00:14.179020",
     "exception": false,
     "start_time": "2021-12-15T16:00:12.199463",
     "status": "completed"
    },
    "tags": []
   },
   "outputs": [
    {
     "data": {
      "text/plain": [
       "<AxesSubplot:ylabel='PRODUCT'>"
      ]
     },
     "execution_count": 7,
     "metadata": {},
     "output_type": "execute_result"
    },
    {
     "data": {
      "image/png": "[encoded data removed]",
      "text/plain": [
       "<Figure size 432x288 with 1 Axes>"
      ]
     },
     "metadata": {
      "needs_background": "light"
     },
     "output_type": "display_data"
    }
   ],
   "source": [
    "df_pivot_diff.sort_values(\"stamp_2\", ascending = False)[\"stamp_2\"].head(10).plot.barh()"
   ]
  },
  {
   "cell_type": "code",
   "execution_count": null,
   "id": "extra-executive",
   "metadata": {
    "papermill": {
     "duration": 0.02547,
     "end_time": "2021-12-15T16:00:14.236762",
     "exception": false,
     "start_time": "2021-12-15T16:00:14.211292",
     "status": "completed"
    },
    "tags": []
   },
   "outputs": [],
   "source": []
  }
 ],
 "metadata": {
  "kernelspec": {
   "display_name": "Python 3",
   "language": "python",
   "name": "python3"
  },
  "language_info": {
   "codemirror_mode": {
    "name": "ipython",
    "version": 3
   },
   "file_extension": ".py",
   "mimetype": "text/x-python",
   "name": "python",
   "nbconvert_exporter": "python",
   "pygments_lexer": "ipython3",
   "version": "3.9.5"
  },
  "papermill": {
   "default_parameters": {},
   "duration": 9.503859,
   "end_time": "2021-12-15T16:00:14.894550",
   "environment_variables": {},
   "exception": null,
   "input_path": "eBay_Overview.ipynb",
   "output_path": "eBay_Overview.ipynb",
   "parameters": {},
   "start_time": "2021-12-15T16:00:05.390691",
   "version": "2.3.3"
  }
 },
 "nbformat": 4,
 "nbformat_minor": 5
}