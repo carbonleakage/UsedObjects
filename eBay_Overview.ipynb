{
 "cells": [
  {
   "cell_type": "code",
   "execution_count": 1,
   "id": "reverse-picking",
   "metadata": {
    "execution": {
     "iopub.execute_input": "2021-11-28T13:00:07.927094Z",
     "iopub.status.busy": "2021-11-28T13:00:07.921298Z",
     "iopub.status.idle": "2021-11-28T13:00:08.848156Z",
     "shell.execute_reply": "2021-11-28T13:00:08.849791Z"
    },
    "papermill": {
     "duration": 0.977081,
     "end_time": "2021-11-28T13:00:08.850512",
     "exception": false,
     "start_time": "2021-11-28T13:00:07.873431",
     "status": "completed"
    },
    "tags": []
   },
   "outputs": [],
   "source": [
    "import pandas as pd\n",
    "import sqlite3"
   ]
  },
  {
   "cell_type": "code",
   "execution_count": 2,
   "id": "innovative-syndrome",
   "metadata": {
    "execution": {
     "iopub.execute_input": "2021-11-28T13:00:08.912863Z",
     "iopub.status.busy": "2021-11-28T13:00:08.910511Z",
     "iopub.status.idle": "2021-11-28T13:00:09.855470Z",
     "shell.execute_reply": "2021-11-28T13:00:09.857427Z"
    },
    "papermill": {
     "duration": 0.980333,
     "end_time": "2021-11-28T13:00:09.857968",
     "exception": false,
     "start_time": "2021-11-28T13:00:08.877635",
     "status": "completed"
    },
    "tags": []
   },
   "outputs": [],
   "source": [
    "timestamps = pd.read_sql(\"select distinct record_time from EBAY_TOP_BERLIN order by record_time desc limit 2\", sqlite3.connect(\"UsedObjects.db\"))"
   ]
  },
  {
   "cell_type": "code",
   "execution_count": 3,
   "id": "periodic-identification",
   "metadata": {
    "execution": {
     "iopub.execute_input": "2021-11-28T13:00:09.930070Z",
     "iopub.status.busy": "2021-11-28T13:00:09.927559Z",
     "iopub.status.idle": "2021-11-28T13:00:09.950823Z",
     "shell.execute_reply": "2021-11-28T13:00:09.952640Z"
    },
    "papermill": {
     "duration": 0.074794,
     "end_time": "2021-11-28T13:00:09.953237",
     "exception": false,
     "start_time": "2021-11-28T13:00:09.878443",
     "status": "completed"
    },
    "tags": []
   },
   "outputs": [
    {
     "data": {
      "text/html": [
       "<div>\n",
       "<style scoped>\n",
       "    .dataframe tbody tr th:only-of-type {\n",
       "        vertical-align: middle;\n",
       "    }\n",
       "\n",
       "    .dataframe tbody tr th {\n",
       "        vertical-align: top;\n",
       "    }\n",
       "\n",
       "    .dataframe thead th {\n",
       "        text-align: right;\n",
       "    }\n",
       "</style>\n",
       "<table border=\"1\" class=\"dataframe\">\n",
       "  <thead>\n",
       "    <tr style=\"text-align: right;\">\n",
       "      <th></th>\n",
       "      <th>RECORD_TIME</th>\n",
       "    </tr>\n",
       "  </thead>\n",
       "  <tbody>\n",
       "    <tr>\n",
       "      <th>0</th>\n",
       "      <td>2021-11-28 14:00</td>\n",
       "    </tr>\n",
       "    <tr>\n",
       "      <th>1</th>\n",
       "      <td>2021-11-28 13:30</td>\n",
       "    </tr>\n",
       "  </tbody>\n",
       "</table>\n",
       "</div>"
      ],
      "text/plain": [
       "        RECORD_TIME\n",
       "0  2021-11-28 14:00\n",
       "1  2021-11-28 13:30"
      ]
     },
     "execution_count": 3,
     "metadata": {},
     "output_type": "execute_result"
    }
   ],
   "source": [
    "timestamps"
   ]
  },
  {
   "cell_type": "code",
   "execution_count": 4,
   "id": "alternate-victory",
   "metadata": {
    "execution": {
     "iopub.execute_input": "2021-11-28T13:00:10.010960Z",
     "iopub.status.busy": "2021-11-28T13:00:10.008793Z",
     "iopub.status.idle": "2021-11-28T13:00:11.373517Z",
     "shell.execute_reply": "2021-11-28T13:00:11.375206Z"
    },
    "papermill": {
     "duration": 1.39857,
     "end_time": "2021-11-28T13:00:11.375731",
     "exception": false,
     "start_time": "2021-11-28T13:00:09.977161",
     "status": "completed"
    },
    "tags": []
   },
   "outputs": [],
   "source": [
    "df = pd.read_sql(\"select * from EBAY_TOP_BERLIN where record_time in (select distinct record_time from EBAY_TOP_BERLIN order by record_time desc limit 2)\", sqlite3.connect(\"UsedObjects.db\"))"
   ]
  },
  {
   "cell_type": "code",
   "execution_count": 5,
   "id": "popular-active",
   "metadata": {
    "execution": {
     "iopub.execute_input": "2021-11-28T13:00:11.454312Z",
     "iopub.status.busy": "2021-11-28T13:00:11.441422Z",
     "iopub.status.idle": "2021-11-28T13:00:11.474876Z",
     "shell.execute_reply": "2021-11-28T13:00:11.476429Z"
    },
    "papermill": {
     "duration": 0.079605,
     "end_time": "2021-11-28T13:00:11.476988",
     "exception": false,
     "start_time": "2021-11-28T13:00:11.397383",
     "status": "completed"
    },
    "tags": []
   },
   "outputs": [],
   "source": [
    "df_pivot = df.pivot_table(index=\"PRODUCT\", columns = \"RECORD_TIME\", values = \"LISTING_COUNT\")"
   ]
  },
  {
   "cell_type": "code",
   "execution_count": 6,
   "id": "union-huntington",
   "metadata": {
    "execution": {
     "iopub.execute_input": "2021-11-28T13:00:11.541151Z",
     "iopub.status.busy": "2021-11-28T13:00:11.538793Z",
     "iopub.status.idle": "2021-11-28T13:00:11.544969Z",
     "shell.execute_reply": "2021-11-28T13:00:11.546430Z"
    },
    "papermill": {
     "duration": 0.048415,
     "end_time": "2021-11-28T13:00:11.546933",
     "exception": false,
     "start_time": "2021-11-28T13:00:11.498518",
     "status": "completed"
    },
    "tags": []
   },
   "outputs": [],
   "source": [
    "df_pivot.columns = [\"stamp_1\", \"stamp_2\"]\n",
    "df_pivot_diff = df_pivot.diff(axis=1)"
   ]
  },
  {
   "cell_type": "code",
   "execution_count": 7,
   "id": "fifth-motion",
   "metadata": {
    "execution": {
     "iopub.execute_input": "2021-11-28T13:00:11.603826Z",
     "iopub.status.busy": "2021-11-28T13:00:11.601331Z",
     "iopub.status.idle": "2021-11-28T13:00:13.522558Z",
     "shell.execute_reply": "2021-11-28T13:00:13.524208Z"
    },
    "papermill": {
     "duration": 1.957752,
     "end_time": "2021-11-28T13:00:13.525309",
     "exception": false,
     "start_time": "2021-11-28T13:00:11.567557",
     "status": "completed"
    },
    "tags": []
   },
   "outputs": [
    {
     "data": {
      "text/plain": [
       "<AxesSubplot:ylabel='PRODUCT'>"
      ]
     },
     "execution_count": 7,
     "metadata": {},
     "output_type": "execute_result"
    },
    {
     "data": {
      "image/png": "[encoded data removed]",
      "text/plain": [
       "<Figure size 432x288 with 1 Axes>"
      ]
     },
     "metadata": {
      "needs_background": "light"
     },
     "output_type": "display_data"
    }
   ],
   "source": [
    "df_pivot_diff.sort_values(\"stamp_2\", ascending = False)[\"stamp_2\"].head(10).plot.barh()"
   ]
  },
  {
   "cell_type": "code",
   "execution_count": null,
   "id": "extra-executive",
   "metadata": {
    "papermill": {
     "duration": 0.033979,
     "end_time": "2021-11-28T13:00:13.597568",
     "exception": false,
     "start_time": "2021-11-28T13:00:13.563589",
     "status": "completed"
    },
    "tags": []
   },
   "outputs": [],
   "source": []
  }
 ],
 "metadata": {
  "kernelspec": {
   "display_name": "Python 3",
   "language": "python",
   "name": "python3"
  },
  "language_info": {
   "codemirror_mode": {
    "name": "ipython",
    "version": 3
   },
   "file_extension": ".py",
   "mimetype": "text/x-python",
   "name": "python",
   "nbconvert_exporter": "python",
   "pygments_lexer": "ipython3",
   "version": "3.9.5"
  },
  "papermill": {
   "default_parameters": {},
   "duration": 9.945267,
   "end_time": "2021-11-28T13:00:15.070819",
   "environment_variables": {},
   "exception": null,
   "input_path": "eBay_Overview.ipynb",
   "output_path": "eBay_Overview.ipynb",
   "parameters": {},
   "start_time": "2021-11-28T13:00:05.125552",
   "version": "2.3.3"
  }
 },
 "nbformat": 4,
 "nbformat_minor": 5
}