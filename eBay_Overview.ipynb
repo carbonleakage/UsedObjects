{
 "cells": [
  {
   "cell_type": "code",
   "execution_count": 1,
   "id": "reverse-picking",
   "metadata": {
    "execution": {
     "iopub.execute_input": "2021-12-18T03:00:07.824437Z",
     "iopub.status.busy": "2021-12-18T03:00:07.822053Z",
     "iopub.status.idle": "2021-12-18T03:00:08.779493Z",
     "shell.execute_reply": "2021-12-18T03:00:08.781895Z"
    },
    "papermill": {
     "duration": 1.008416,
     "end_time": "2021-12-18T03:00:08.782660",
     "exception": false,
     "start_time": "2021-12-18T03:00:07.774244",
     "status": "completed"
    },
    "tags": []
   },
   "outputs": [],
   "source": [
    "import pandas as pd\n",
    "import sqlite3"
   ]
  },
  {
   "cell_type": "code",
   "execution_count": 2,
   "id": "innovative-syndrome",
   "metadata": {
    "execution": {
     "iopub.execute_input": "2021-12-18T03:00:08.848148Z",
     "iopub.status.busy": "2021-12-18T03:00:08.845844Z",
     "iopub.status.idle": "2021-12-18T03:00:09.987648Z",
     "shell.execute_reply": "2021-12-18T03:00:09.988848Z"
    },
    "papermill": {
     "duration": 1.175912,
     "end_time": "2021-12-18T03:00:09.989279",
     "exception": false,
     "start_time": "2021-12-18T03:00:08.813367",
     "status": "completed"
    },
    "tags": []
   },
   "outputs": [],
   "source": [
    "timestamps = pd.read_sql(\"select distinct record_time from EBAY_TOP_BERLIN order by record_time desc limit 2\", sqlite3.connect(\"UsedObjects.db\"))"
   ]
  },
  {
   "cell_type": "code",
   "execution_count": 3,
   "id": "periodic-identification",
   "metadata": {
    "execution": {
     "iopub.execute_input": "2021-12-18T03:00:10.062633Z",
     "iopub.status.busy": "2021-12-18T03:00:10.056817Z",
     "iopub.status.idle": "2021-12-18T03:00:10.078935Z",
     "shell.execute_reply": "2021-12-18T03:00:10.080778Z"
    },
    "papermill": {
     "duration": 0.070225,
     "end_time": "2021-12-18T03:00:10.081333",
     "exception": false,
     "start_time": "2021-12-18T03:00:10.011108",
     "status": "completed"
    },
    "tags": []
   },
   "outputs": [
    {
     "data": {
      "text/html": [
       "<div>\n",
       "<style scoped>\n",
       "    .dataframe tbody tr th:only-of-type {\n",
       "        vertical-align: middle;\n",
       "    }\n",
       "\n",
       "    .dataframe tbody tr th {\n",
       "        vertical-align: top;\n",
       "    }\n",
       "\n",
       "    .dataframe thead th {\n",
       "        text-align: right;\n",
       "    }\n",
       "</style>\n",
       "<table border=\"1\" class=\"dataframe\">\n",
       "  <thead>\n",
       "    <tr style=\"text-align: right;\">\n",
       "      <th></th>\n",
       "      <th>RECORD_TIME</th>\n",
       "    </tr>\n",
       "  </thead>\n",
       "  <tbody>\n",
       "    <tr>\n",
       "      <th>0</th>\n",
       "      <td>2021-12-18 04:00</td>\n",
       "    </tr>\n",
       "    <tr>\n",
       "      <th>1</th>\n",
       "      <td>2021-12-18 03:30</td>\n",
       "    </tr>\n",
       "  </tbody>\n",
       "</table>\n",
       "</div>"
      ],
      "text/plain": [
       "        RECORD_TIME\n",
       "0  2021-12-18 04:00\n",
       "1  2021-12-18 03:30"
      ]
     },
     "execution_count": 3,
     "metadata": {},
     "output_type": "execute_result"
    }
   ],
   "source": [
    "timestamps"
   ]
  },
  {
   "cell_type": "code",
   "execution_count": 4,
   "id": "alternate-victory",
   "metadata": {
    "execution": {
     "iopub.execute_input": "2021-12-18T03:00:10.144478Z",
     "iopub.status.busy": "2021-12-18T03:00:10.142633Z",
     "iopub.status.idle": "2021-12-18T03:00:11.801714Z",
     "shell.execute_reply": "2021-12-18T03:00:11.803757Z"
    },
    "papermill": {
     "duration": 1.701551,
     "end_time": "2021-12-18T03:00:11.804222",
     "exception": false,
     "start_time": "2021-12-18T03:00:10.102671",
     "status": "completed"
    },
    "tags": []
   },
   "outputs": [],
   "source": [
    "df = pd.read_sql(\"select * from EBAY_TOP_BERLIN where record_time in (select distinct record_time from EBAY_TOP_BERLIN order by record_time desc limit 2)\", sqlite3.connect(\"UsedObjects.db\"))"
   ]
  },
  {
   "cell_type": "code",
   "execution_count": 5,
   "id": "popular-active",
   "metadata": {
    "execution": {
     "iopub.execute_input": "2021-12-18T03:00:11.913073Z",
     "iopub.status.busy": "2021-12-18T03:00:11.904730Z",
     "iopub.status.idle": "2021-12-18T03:00:11.932757Z",
     "shell.execute_reply": "2021-12-18T03:00:11.934217Z"
    },
    "papermill": {
     "duration": 0.10986,
     "end_time": "2021-12-18T03:00:11.934700",
     "exception": false,
     "start_time": "2021-12-18T03:00:11.824840",
     "status": "completed"
    },
    "tags": []
   },
   "outputs": [],
   "source": [
    "df_pivot = df.pivot_table(index=\"PRODUCT\", columns = \"RECORD_TIME\", values = \"LISTING_COUNT\")"
   ]
  },
  {
   "cell_type": "code",
   "execution_count": 6,
   "id": "union-huntington",
   "metadata": {
    "execution": {
     "iopub.execute_input": "2021-12-18T03:00:11.997175Z",
     "iopub.status.busy": "2021-12-18T03:00:11.994894Z",
     "iopub.status.idle": "2021-12-18T03:00:12.002562Z",
     "shell.execute_reply": "2021-12-18T03:00:12.001055Z"
    },
    "papermill": {
     "duration": 0.046462,
     "end_time": "2021-12-18T03:00:12.002979",
     "exception": false,
     "start_time": "2021-12-18T03:00:11.956517",
     "status": "completed"
    },
    "tags": []
   },
   "outputs": [],
   "source": [
    "df_pivot.columns = [\"stamp_1\", \"stamp_2\"]\n",
    "df_pivot_diff = df_pivot.diff(axis=1)"
   ]
  },
  {
   "cell_type": "code",
   "execution_count": 7,
   "id": "fifth-motion",
   "metadata": {
    "execution": {
     "iopub.execute_input": "2021-12-18T03:00:12.059262Z",
     "iopub.status.busy": "2021-12-18T03:00:12.056736Z",
     "iopub.status.idle": "2021-12-18T03:00:14.059728Z",
     "shell.execute_reply": "2021-12-18T03:00:14.061248Z"
    },
    "papermill": {
     "duration": 2.038909,
     "end_time": "2021-12-18T03:00:14.061712",
     "exception": false,
     "start_time": "2021-12-18T03:00:12.022803",
     "status": "completed"
    },
    "tags": []
   },
   "outputs": [
    {
     "data": {
      "text/plain": [
       "<AxesSubplot:ylabel='PRODUCT'>"
      ]
     },
     "execution_count": 7,
     "metadata": {},
     "output_type": "execute_result"
    },
    {
     "data": {
      "image/png": "[encoded data removed]",
      "text/plain": [
       "<Figure size 432x288 with 1 Axes>"
      ]
     },
     "metadata": {
      "needs_background": "light"
     },
     "output_type": "display_data"
    }
   ],
   "source": [
    "df_pivot_diff.sort_values(\"stamp_2\", ascending = False)[\"stamp_2\"].head(10).plot.barh()"
   ]
  },
  {
   "cell_type": "code",
   "execution_count": null,
   "id": "extra-executive",
   "metadata": {
    "papermill": {
     "duration": 0.022115,
     "end_time": "2021-12-18T03:00:14.107877",
     "exception": false,
     "start_time": "2021-12-18T03:00:14.085762",
     "status": "completed"
    },
    "tags": []
   },
   "outputs": [],
   "source": []
  }
 ],
 "metadata": {
  "kernelspec": {
   "display_name": "Python 3",
   "language": "python",
   "name": "python3"
  },
  "language_info": {
   "codemirror_mode": {
    "name": "ipython",
    "version": 3
   },
   "file_extension": ".py",
   "mimetype": "text/x-python",
   "name": "python",
   "nbconvert_exporter": "python",
   "pygments_lexer": "ipython3",
   "version": "3.9.5"
  },
  "papermill": {
   "default_parameters": {},
   "duration": 9.705114,
   "end_time": "2021-12-18T03:00:14.748758",
   "environment_variables": {},
   "exception": null,
   "input_path": "eBay_Overview.ipynb",
   "output_path": "eBay_Overview.ipynb",
   "parameters": {},
   "start_time": "2021-12-18T03:00:05.043644",
   "version": "2.3.3"
  }
 },
 "nbformat": 4,
 "nbformat_minor": 5
}