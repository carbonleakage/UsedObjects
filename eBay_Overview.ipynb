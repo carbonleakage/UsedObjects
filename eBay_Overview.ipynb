{
 "cells": [
  {
   "cell_type": "code",
   "execution_count": 1,
   "id": "reverse-picking",
   "metadata": {
    "execution": {
     "iopub.execute_input": "2021-11-03T04:30:08.060630Z",
     "iopub.status.busy": "2021-11-03T04:30:08.058598Z",
     "iopub.status.idle": "2021-11-03T04:30:09.011800Z",
     "shell.execute_reply": "2021-11-03T04:30:09.013469Z"
    },
    "papermill": {
     "duration": 0.999816,
     "end_time": "2021-11-03T04:30:09.014219",
     "exception": false,
     "start_time": "2021-11-03T04:30:08.014403",
     "status": "completed"
    },
    "tags": []
   },
   "outputs": [],
   "source": [
    "import pandas as pd\n",
    "import sqlite3"
   ]
  },
  {
   "cell_type": "code",
   "execution_count": 2,
   "id": "innovative-syndrome",
   "metadata": {
    "execution": {
     "iopub.execute_input": "2021-11-03T04:30:09.079396Z",
     "iopub.status.busy": "2021-11-03T04:30:09.077187Z",
     "iopub.status.idle": "2021-11-03T04:30:09.783553Z",
     "shell.execute_reply": "2021-11-03T04:30:09.785229Z"
    },
    "papermill": {
     "duration": 0.740153,
     "end_time": "2021-11-03T04:30:09.785743",
     "exception": false,
     "start_time": "2021-11-03T04:30:09.045590",
     "status": "completed"
    },
    "tags": []
   },
   "outputs": [],
   "source": [
    "timestamps = pd.read_sql(\"select distinct record_time from EBAY_TOP_BERLIN order by record_time desc limit 2\", sqlite3.connect(\"UsedObjects.db\"))"
   ]
  },
  {
   "cell_type": "code",
   "execution_count": 3,
   "id": "periodic-identification",
   "metadata": {
    "execution": {
     "iopub.execute_input": "2021-11-03T04:30:09.856522Z",
     "iopub.status.busy": "2021-11-03T04:30:09.854083Z",
     "iopub.status.idle": "2021-11-03T04:30:09.876459Z",
     "shell.execute_reply": "2021-11-03T04:30:09.877929Z"
    },
    "papermill": {
     "duration": 0.071844,
     "end_time": "2021-11-03T04:30:09.878421",
     "exception": false,
     "start_time": "2021-11-03T04:30:09.806577",
     "status": "completed"
    },
    "tags": []
   },
   "outputs": [
    {
     "data": {
      "text/html": [
       "<div>\n",
       "<style scoped>\n",
       "    .dataframe tbody tr th:only-of-type {\n",
       "        vertical-align: middle;\n",
       "    }\n",
       "\n",
       "    .dataframe tbody tr th {\n",
       "        vertical-align: top;\n",
       "    }\n",
       "\n",
       "    .dataframe thead th {\n",
       "        text-align: right;\n",
       "    }\n",
       "</style>\n",
       "<table border=\"1\" class=\"dataframe\">\n",
       "  <thead>\n",
       "    <tr style=\"text-align: right;\">\n",
       "      <th></th>\n",
       "      <th>RECORD_TIME</th>\n",
       "    </tr>\n",
       "  </thead>\n",
       "  <tbody>\n",
       "    <tr>\n",
       "      <th>0</th>\n",
       "      <td>2021-11-03 05:30</td>\n",
       "    </tr>\n",
       "    <tr>\n",
       "      <th>1</th>\n",
       "      <td>2021-11-03 05:00</td>\n",
       "    </tr>\n",
       "  </tbody>\n",
       "</table>\n",
       "</div>"
      ],
      "text/plain": [
       "        RECORD_TIME\n",
       "0  2021-11-03 05:30\n",
       "1  2021-11-03 05:00"
      ]
     },
     "execution_count": 3,
     "metadata": {},
     "output_type": "execute_result"
    }
   ],
   "source": [
    "timestamps"
   ]
  },
  {
   "cell_type": "code",
   "execution_count": 4,
   "id": "alternate-victory",
   "metadata": {
    "execution": {
     "iopub.execute_input": "2021-11-03T04:30:09.931212Z",
     "iopub.status.busy": "2021-11-03T04:30:09.929100Z",
     "iopub.status.idle": "2021-11-03T04:30:10.961766Z",
     "shell.execute_reply": "2021-11-03T04:30:10.963488Z"
    },
    "papermill": {
     "duration": 1.065369,
     "end_time": "2021-11-03T04:30:10.964017",
     "exception": false,
     "start_time": "2021-11-03T04:30:09.898648",
     "status": "completed"
    },
    "tags": []
   },
   "outputs": [],
   "source": [
    "df = pd.read_sql(\"select * from EBAY_TOP_BERLIN where record_time in (select distinct record_time from EBAY_TOP_BERLIN order by record_time desc limit 2)\", sqlite3.connect(\"UsedObjects.db\"))"
   ]
  },
  {
   "cell_type": "code",
   "execution_count": 5,
   "id": "popular-active",
   "metadata": {
    "execution": {
     "iopub.execute_input": "2021-11-03T04:30:11.029872Z",
     "iopub.status.busy": "2021-11-03T04:30:11.027512Z",
     "iopub.status.idle": "2021-11-03T04:30:11.061567Z",
     "shell.execute_reply": "2021-11-03T04:30:11.063022Z"
    },
    "papermill": {
     "duration": 0.076869,
     "end_time": "2021-11-03T04:30:11.063546",
     "exception": false,
     "start_time": "2021-11-03T04:30:10.986677",
     "status": "completed"
    },
    "tags": []
   },
   "outputs": [],
   "source": [
    "df_pivot = df.pivot_table(index=\"PRODUCT\", columns = \"RECORD_TIME\", values = \"LISTING_COUNT\")"
   ]
  },
  {
   "cell_type": "code",
   "execution_count": 6,
   "id": "union-huntington",
   "metadata": {
    "execution": {
     "iopub.execute_input": "2021-11-03T04:30:11.125963Z",
     "iopub.status.busy": "2021-11-03T04:30:11.123611Z",
     "iopub.status.idle": "2021-11-03T04:30:11.129593Z",
     "shell.execute_reply": "2021-11-03T04:30:11.131687Z"
    },
    "papermill": {
     "duration": 0.047645,
     "end_time": "2021-11-03T04:30:11.132219",
     "exception": false,
     "start_time": "2021-11-03T04:30:11.084574",
     "status": "completed"
    },
    "tags": []
   },
   "outputs": [],
   "source": [
    "df_pivot.columns = [\"stamp_1\", \"stamp_2\"]\n",
    "df_pivot_diff = df_pivot.diff(axis=1)"
   ]
  },
  {
   "cell_type": "code",
   "execution_count": 7,
   "id": "fifth-motion",
   "metadata": {
    "execution": {
     "iopub.execute_input": "2021-11-03T04:30:11.193193Z",
     "iopub.status.busy": "2021-11-03T04:30:11.190464Z",
     "iopub.status.idle": "2021-11-03T04:30:12.998116Z",
     "shell.execute_reply": "2021-11-03T04:30:13.000174Z"
    },
    "papermill": {
     "duration": 1.847613,
     "end_time": "2021-11-03T04:30:13.000914",
     "exception": false,
     "start_time": "2021-11-03T04:30:11.153301",
     "status": "completed"
    },
    "tags": []
   },
   "outputs": [
    {
     "data": {
      "text/plain": [
       "<AxesSubplot:ylabel='PRODUCT'>"
      ]
     },
     "execution_count": 7,
     "metadata": {},
     "output_type": "execute_result"
    },
    {
     "data": {
      "image/png": "[encoded data removed]",
      "text/plain": [
       "<Figure size 432x288 with 1 Axes>"
      ]
     },
     "metadata": {
      "needs_background": "light"
     },
     "output_type": "display_data"
    }
   ],
   "source": [
    "df_pivot_diff.sort_values(\"stamp_2\", ascending = False)[\"stamp_2\"].head(10).plot.barh()"
   ]
  },
  {
   "cell_type": "code",
   "execution_count": null,
   "id": "extra-executive",
   "metadata": {
    "papermill": {
     "duration": 0.036016,
     "end_time": "2021-11-03T04:30:13.072967",
     "exception": false,
     "start_time": "2021-11-03T04:30:13.036951",
     "status": "completed"
    },
    "tags": []
   },
   "outputs": [],
   "source": []
  }
 ],
 "metadata": {
  "kernelspec": {
   "display_name": "Python 3",
   "language": "python",
   "name": "python3"
  },
  "language_info": {
   "codemirror_mode": {
    "name": "ipython",
    "version": 3
   },
   "file_extension": ".py",
   "mimetype": "text/x-python",
   "name": "python",
   "nbconvert_exporter": "python",
   "pygments_lexer": "ipython3",
   "version": "3.9.5"
  },
  "papermill": {
   "default_parameters": {},
   "duration": 8.664012,
   "end_time": "2021-11-03T04:30:13.936050",
   "environment_variables": {},
   "exception": null,
   "input_path": "eBay_Overview.ipynb",
   "output_path": "eBay_Overview.ipynb",
   "parameters": {},
   "start_time": "2021-11-03T04:30:05.272038",
   "version": "2.3.3"
  }
 },
 "nbformat": 4,
 "nbformat_minor": 5
}