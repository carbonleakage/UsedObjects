{
 "cells": [
  {
   "cell_type": "code",
   "execution_count": 1,
   "id": "reverse-picking",
   "metadata": {
    "execution": {
     "iopub.execute_input": "2021-09-08T07:30:06.584930Z",
     "iopub.status.busy": "2021-09-08T07:30:06.582961Z",
     "iopub.status.idle": "2021-09-08T07:30:07.388555Z",
     "shell.execute_reply": "2021-09-08T07:30:07.389799Z"
    },
    "papermill": {
     "duration": 0.857888,
     "end_time": "2021-09-08T07:30:07.390411",
     "exception": false,
     "start_time": "2021-09-08T07:30:06.532523",
     "status": "completed"
    },
    "tags": []
   },
   "outputs": [],
   "source": [
    "import pandas as pd\n",
    "import sqlite3"
   ]
  },
  {
   "cell_type": "code",
   "execution_count": 2,
   "id": "innovative-syndrome",
   "metadata": {
    "execution": {
     "iopub.execute_input": "2021-09-08T07:30:07.441687Z",
     "iopub.status.busy": "2021-09-08T07:30:07.439827Z",
     "iopub.status.idle": "2021-09-08T07:30:07.673344Z",
     "shell.execute_reply": "2021-09-08T07:30:07.674613Z"
    },
    "papermill": {
     "duration": 0.263673,
     "end_time": "2021-09-08T07:30:07.675108",
     "exception": false,
     "start_time": "2021-09-08T07:30:07.411435",
     "status": "completed"
    },
    "tags": []
   },
   "outputs": [],
   "source": [
    "timestamps = pd.read_sql(\"select distinct record_time from EBAY_TOP_BERLIN order by record_time desc limit 2\", sqlite3.connect(\"UsedObjects.db\"))"
   ]
  },
  {
   "cell_type": "code",
   "execution_count": 3,
   "id": "periodic-identification",
   "metadata": {
    "execution": {
     "iopub.execute_input": "2021-09-08T07:30:07.741339Z",
     "iopub.status.busy": "2021-09-08T07:30:07.739319Z",
     "iopub.status.idle": "2021-09-08T07:30:07.759413Z",
     "shell.execute_reply": "2021-09-08T07:30:07.760618Z"
    },
    "papermill": {
     "duration": 0.066281,
     "end_time": "2021-09-08T07:30:07.761052",
     "exception": false,
     "start_time": "2021-09-08T07:30:07.694771",
     "status": "completed"
    },
    "tags": []
   },
   "outputs": [
    {
     "data": {
      "text/html": [
       "<div>\n",
       "<style scoped>\n",
       "    .dataframe tbody tr th:only-of-type {\n",
       "        vertical-align: middle;\n",
       "    }\n",
       "\n",
       "    .dataframe tbody tr th {\n",
       "        vertical-align: top;\n",
       "    }\n",
       "\n",
       "    .dataframe thead th {\n",
       "        text-align: right;\n",
       "    }\n",
       "</style>\n",
       "<table border=\"1\" class=\"dataframe\">\n",
       "  <thead>\n",
       "    <tr style=\"text-align: right;\">\n",
       "      <th></th>\n",
       "      <th>RECORD_TIME</th>\n",
       "    </tr>\n",
       "  </thead>\n",
       "  <tbody>\n",
       "    <tr>\n",
       "      <th>0</th>\n",
       "      <td>2021-09-08 09:30</td>\n",
       "    </tr>\n",
       "    <tr>\n",
       "      <th>1</th>\n",
       "      <td>2021-09-08 09:00</td>\n",
       "    </tr>\n",
       "  </tbody>\n",
       "</table>\n",
       "</div>"
      ],
      "text/plain": [
       "        RECORD_TIME\n",
       "0  2021-09-08 09:30\n",
       "1  2021-09-08 09:00"
      ]
     },
     "execution_count": 3,
     "metadata": {},
     "output_type": "execute_result"
    }
   ],
   "source": [
    "timestamps"
   ]
  },
  {
   "cell_type": "code",
   "execution_count": 4,
   "id": "alternate-victory",
   "metadata": {
    "execution": {
     "iopub.execute_input": "2021-09-08T07:30:07.815330Z",
     "iopub.status.busy": "2021-09-08T07:30:07.812993Z",
     "iopub.status.idle": "2021-09-08T07:30:08.157005Z",
     "shell.execute_reply": "2021-09-08T07:30:08.158221Z"
    },
    "papermill": {
     "duration": 0.374647,
     "end_time": "2021-09-08T07:30:08.158618",
     "exception": false,
     "start_time": "2021-09-08T07:30:07.783971",
     "status": "completed"
    },
    "tags": []
   },
   "outputs": [],
   "source": [
    "df = pd.read_sql(\"select * from EBAY_TOP_BERLIN where record_time in (select distinct record_time from EBAY_TOP_BERLIN order by record_time desc limit 2)\", sqlite3.connect(\"UsedObjects.db\"))"
   ]
  },
  {
   "cell_type": "code",
   "execution_count": 5,
   "id": "popular-active",
   "metadata": {
    "execution": {
     "iopub.execute_input": "2021-09-08T07:30:08.237613Z",
     "iopub.status.busy": "2021-09-08T07:30:08.225156Z",
     "iopub.status.idle": "2021-09-08T07:30:08.253525Z",
     "shell.execute_reply": "2021-09-08T07:30:08.254736Z"
    },
    "papermill": {
     "duration": 0.070919,
     "end_time": "2021-09-08T07:30:08.255326",
     "exception": false,
     "start_time": "2021-09-08T07:30:08.184407",
     "status": "completed"
    },
    "tags": []
   },
   "outputs": [],
   "source": [
    "df_pivot = df.pivot_table(index=\"PRODUCT\", columns = \"RECORD_TIME\", values = \"LISTING_COUNT\")"
   ]
  },
  {
   "cell_type": "code",
   "execution_count": 6,
   "id": "union-huntington",
   "metadata": {
    "execution": {
     "iopub.execute_input": "2021-09-08T07:30:08.314901Z",
     "iopub.status.busy": "2021-09-08T07:30:08.312442Z",
     "iopub.status.idle": "2021-09-08T07:30:08.318297Z",
     "shell.execute_reply": "2021-09-08T07:30:08.319561Z"
    },
    "papermill": {
     "duration": 0.04248,
     "end_time": "2021-09-08T07:30:08.320003",
     "exception": false,
     "start_time": "2021-09-08T07:30:08.277523",
     "status": "completed"
    },
    "tags": []
   },
   "outputs": [],
   "source": [
    "df_pivot.columns = [\"stamp_1\", \"stamp_2\"]\n",
    "df_pivot_diff = df_pivot.diff(axis=1)"
   ]
  },
  {
   "cell_type": "code",
   "execution_count": 7,
   "id": "fifth-motion",
   "metadata": {
    "execution": {
     "iopub.execute_input": "2021-09-08T07:30:08.374836Z",
     "iopub.status.busy": "2021-09-08T07:30:08.372537Z",
     "iopub.status.idle": "2021-09-08T07:30:09.855297Z",
     "shell.execute_reply": "2021-09-08T07:30:09.856765Z"
    },
    "papermill": {
     "duration": 1.515614,
     "end_time": "2021-09-08T07:30:09.857233",
     "exception": false,
     "start_time": "2021-09-08T07:30:08.341619",
     "status": "completed"
    },
    "tags": []
   },
   "outputs": [
    {
     "data": {
      "text/plain": [
       "<AxesSubplot:ylabel='PRODUCT'>"
      ]
     },
     "execution_count": 7,
     "metadata": {},
     "output_type": "execute_result"
    },
    {
     "data": {
      "image/png": "[encoded data removed]",
      "text/plain": [
       "<Figure size 432x288 with 1 Axes>"
      ]
     },
     "metadata": {
      "needs_background": "light"
     },
     "output_type": "display_data"
    }
   ],
   "source": [
    "df_pivot_diff.sort_values(\"stamp_2\", ascending = False)[\"stamp_2\"].head(10).plot.barh()"
   ]
  },
  {
   "cell_type": "code",
   "execution_count": null,
   "id": "extra-executive",
   "metadata": {
    "papermill": {
     "duration": 0.022355,
     "end_time": "2021-09-08T07:30:09.903854",
     "exception": false,
     "start_time": "2021-09-08T07:30:09.881499",
     "status": "completed"
    },
    "tags": []
   },
   "outputs": [],
   "source": []
  }
 ],
 "metadata": {
  "kernelspec": {
   "display_name": "Python 3",
   "language": "python",
   "name": "python3"
  },
  "language_info": {
   "codemirror_mode": {
    "name": "ipython",
    "version": 3
   },
   "file_extension": ".py",
   "mimetype": "text/x-python",
   "name": "python",
   "nbconvert_exporter": "python",
   "pygments_lexer": "ipython3",
   "version": "3.9.5"
  },
  "papermill": {
   "default_parameters": {},
   "duration": 6.414129,
   "end_time": "2021-09-08T07:30:10.546849",
   "environment_variables": {},
   "exception": null,
   "input_path": "eBay_Overview.ipynb",
   "output_path": "eBay_Overview.ipynb",
   "parameters": {},
   "start_time": "2021-09-08T07:30:04.132720",
   "version": "2.3.3"
  }
 },
 "nbformat": 4,
 "nbformat_minor": 5
}