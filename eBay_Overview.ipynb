{
 "cells": [
  {
   "cell_type": "code",
   "execution_count": 1,
   "id": "reverse-picking",
   "metadata": {
    "execution": {
     "iopub.execute_input": "2021-11-08T01:30:07.129773Z",
     "iopub.status.busy": "2021-11-08T01:30:07.127555Z",
     "iopub.status.idle": "2021-11-08T01:30:08.076864Z",
     "shell.execute_reply": "2021-11-08T01:30:08.078510Z"
    },
    "papermill": {
     "duration": 0.999005,
     "end_time": "2021-11-08T01:30:08.079275",
     "exception": false,
     "start_time": "2021-11-08T01:30:07.080270",
     "status": "completed"
    },
    "tags": []
   },
   "outputs": [],
   "source": [
    "import pandas as pd\n",
    "import sqlite3"
   ]
  },
  {
   "cell_type": "code",
   "execution_count": 2,
   "id": "innovative-syndrome",
   "metadata": {
    "execution": {
     "iopub.execute_input": "2021-11-08T01:30:08.139707Z",
     "iopub.status.busy": "2021-11-08T01:30:08.137007Z",
     "iopub.status.idle": "2021-11-08T01:30:08.900182Z",
     "shell.execute_reply": "2021-11-08T01:30:08.901855Z"
    },
    "papermill": {
     "duration": 0.799123,
     "end_time": "2021-11-08T01:30:08.902343",
     "exception": false,
     "start_time": "2021-11-08T01:30:08.103220",
     "status": "completed"
    },
    "tags": []
   },
   "outputs": [],
   "source": [
    "timestamps = pd.read_sql(\"select distinct record_time from EBAY_TOP_BERLIN order by record_time desc limit 2\", sqlite3.connect(\"UsedObjects.db\"))"
   ]
  },
  {
   "cell_type": "code",
   "execution_count": 3,
   "id": "periodic-identification",
   "metadata": {
    "execution": {
     "iopub.execute_input": "2021-11-08T01:30:08.974904Z",
     "iopub.status.busy": "2021-11-08T01:30:08.972521Z",
     "iopub.status.idle": "2021-11-08T01:30:08.995366Z",
     "shell.execute_reply": "2021-11-08T01:30:08.997000Z"
    },
    "papermill": {
     "duration": 0.072619,
     "end_time": "2021-11-08T01:30:08.997505",
     "exception": false,
     "start_time": "2021-11-08T01:30:08.924886",
     "status": "completed"
    },
    "tags": []
   },
   "outputs": [
    {
     "data": {
      "text/html": [
       "<div>\n",
       "<style scoped>\n",
       "    .dataframe tbody tr th:only-of-type {\n",
       "        vertical-align: middle;\n",
       "    }\n",
       "\n",
       "    .dataframe tbody tr th {\n",
       "        vertical-align: top;\n",
       "    }\n",
       "\n",
       "    .dataframe thead th {\n",
       "        text-align: right;\n",
       "    }\n",
       "</style>\n",
       "<table border=\"1\" class=\"dataframe\">\n",
       "  <thead>\n",
       "    <tr style=\"text-align: right;\">\n",
       "      <th></th>\n",
       "      <th>RECORD_TIME</th>\n",
       "    </tr>\n",
       "  </thead>\n",
       "  <tbody>\n",
       "    <tr>\n",
       "      <th>0</th>\n",
       "      <td>2021-11-08 02:30</td>\n",
       "    </tr>\n",
       "    <tr>\n",
       "      <th>1</th>\n",
       "      <td>2021-11-08 02:00</td>\n",
       "    </tr>\n",
       "  </tbody>\n",
       "</table>\n",
       "</div>"
      ],
      "text/plain": [
       "        RECORD_TIME\n",
       "0  2021-11-08 02:30\n",
       "1  2021-11-08 02:00"
      ]
     },
     "execution_count": 3,
     "metadata": {},
     "output_type": "execute_result"
    }
   ],
   "source": [
    "timestamps"
   ]
  },
  {
   "cell_type": "code",
   "execution_count": 4,
   "id": "alternate-victory",
   "metadata": {
    "execution": {
     "iopub.execute_input": "2021-11-08T01:30:09.055072Z",
     "iopub.status.busy": "2021-11-08T01:30:09.052964Z",
     "iopub.status.idle": "2021-11-08T01:30:10.164469Z",
     "shell.execute_reply": "2021-11-08T01:30:10.165759Z"
    },
    "papermill": {
     "duration": 1.147149,
     "end_time": "2021-11-08T01:30:10.166167",
     "exception": false,
     "start_time": "2021-11-08T01:30:09.019018",
     "status": "completed"
    },
    "tags": []
   },
   "outputs": [],
   "source": [
    "df = pd.read_sql(\"select * from EBAY_TOP_BERLIN where record_time in (select distinct record_time from EBAY_TOP_BERLIN order by record_time desc limit 2)\", sqlite3.connect(\"UsedObjects.db\"))"
   ]
  },
  {
   "cell_type": "code",
   "execution_count": 5,
   "id": "popular-active",
   "metadata": {
    "execution": {
     "iopub.execute_input": "2021-11-08T01:30:10.240169Z",
     "iopub.status.busy": "2021-11-08T01:30:10.229338Z",
     "iopub.status.idle": "2021-11-08T01:30:10.255652Z",
     "shell.execute_reply": "2021-11-08T01:30:10.256919Z"
    },
    "papermill": {
     "duration": 0.068176,
     "end_time": "2021-11-08T01:30:10.257332",
     "exception": false,
     "start_time": "2021-11-08T01:30:10.189156",
     "status": "completed"
    },
    "tags": []
   },
   "outputs": [],
   "source": [
    "df_pivot = df.pivot_table(index=\"PRODUCT\", columns = \"RECORD_TIME\", values = \"LISTING_COUNT\")"
   ]
  },
  {
   "cell_type": "code",
   "execution_count": 6,
   "id": "union-huntington",
   "metadata": {
    "execution": {
     "iopub.execute_input": "2021-11-08T01:30:10.316729Z",
     "iopub.status.busy": "2021-11-08T01:30:10.314452Z",
     "iopub.status.idle": "2021-11-08T01:30:10.320228Z",
     "shell.execute_reply": "2021-11-08T01:30:10.321781Z"
    },
    "papermill": {
     "duration": 0.042347,
     "end_time": "2021-11-08T01:30:10.322255",
     "exception": false,
     "start_time": "2021-11-08T01:30:10.279908",
     "status": "completed"
    },
    "tags": []
   },
   "outputs": [],
   "source": [
    "df_pivot.columns = [\"stamp_1\", \"stamp_2\"]\n",
    "df_pivot_diff = df_pivot.diff(axis=1)"
   ]
  },
  {
   "cell_type": "code",
   "execution_count": 7,
   "id": "fifth-motion",
   "metadata": {
    "execution": {
     "iopub.execute_input": "2021-11-08T01:30:10.380396Z",
     "iopub.status.busy": "2021-11-08T01:30:10.377955Z",
     "iopub.status.idle": "2021-11-08T01:30:12.120488Z",
     "shell.execute_reply": "2021-11-08T01:30:12.122037Z"
    },
    "papermill": {
     "duration": 1.778262,
     "end_time": "2021-11-08T01:30:12.122509",
     "exception": false,
     "start_time": "2021-11-08T01:30:10.344247",
     "status": "completed"
    },
    "tags": []
   },
   "outputs": [
    {
     "data": {
      "text/plain": [
       "<AxesSubplot:ylabel='PRODUCT'>"
      ]
     },
     "execution_count": 7,
     "metadata": {},
     "output_type": "execute_result"
    },
    {
     "data": {
      "image/png": "[encoded data removed]",
      "text/plain": [
       "<Figure size 432x288 with 1 Axes>"
      ]
     },
     "metadata": {
      "needs_background": "light"
     },
     "output_type": "display_data"
    }
   ],
   "source": [
    "df_pivot_diff.sort_values(\"stamp_2\", ascending = False)[\"stamp_2\"].head(10).plot.barh()"
   ]
  },
  {
   "cell_type": "code",
   "execution_count": null,
   "id": "extra-executive",
   "metadata": {
    "papermill": {
     "duration": 0.023616,
     "end_time": "2021-11-08T01:30:12.170886",
     "exception": false,
     "start_time": "2021-11-08T01:30:12.147270",
     "status": "completed"
    },
    "tags": []
   },
   "outputs": [],
   "source": []
  }
 ],
 "metadata": {
  "kernelspec": {
   "display_name": "Python 3",
   "language": "python",
   "name": "python3"
  },
  "language_info": {
   "codemirror_mode": {
    "name": "ipython",
    "version": 3
   },
   "file_extension": ".py",
   "mimetype": "text/x-python",
   "name": "python",
   "nbconvert_exporter": "python",
   "pygments_lexer": "ipython3",
   "version": "3.9.5"
  },
  "papermill": {
   "default_parameters": {},
   "duration": 8.621995,
   "end_time": "2021-11-08T01:30:12.916514",
   "environment_variables": {},
   "exception": null,
   "input_path": "eBay_Overview.ipynb",
   "output_path": "eBay_Overview.ipynb",
   "parameters": {},
   "start_time": "2021-11-08T01:30:04.294519",
   "version": "2.3.3"
  }
 },
 "nbformat": 4,
 "nbformat_minor": 5
}