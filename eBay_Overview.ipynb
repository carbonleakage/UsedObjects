{
 "cells": [
  {
   "cell_type": "code",
   "execution_count": 1,
   "id": "reverse-picking",
   "metadata": {
    "execution": {
     "iopub.execute_input": "2021-11-07T16:00:08.088219Z",
     "iopub.status.busy": "2021-11-07T16:00:08.085856Z",
     "iopub.status.idle": "2021-11-07T16:00:09.040033Z",
     "shell.execute_reply": "2021-11-07T16:00:09.041698Z"
    },
    "papermill": {
     "duration": 1.003702,
     "end_time": "2021-11-07T16:00:09.042430",
     "exception": false,
     "start_time": "2021-11-07T16:00:08.038728",
     "status": "completed"
    },
    "tags": []
   },
   "outputs": [],
   "source": [
    "import pandas as pd\n",
    "import sqlite3"
   ]
  },
  {
   "cell_type": "code",
   "execution_count": 2,
   "id": "innovative-syndrome",
   "metadata": {
    "execution": {
     "iopub.execute_input": "2021-11-07T16:00:09.104610Z",
     "iopub.status.busy": "2021-11-07T16:00:09.102494Z",
     "iopub.status.idle": "2021-11-07T16:00:09.845872Z",
     "shell.execute_reply": "2021-11-07T16:00:09.847313Z"
    },
    "papermill": {
     "duration": 0.778409,
     "end_time": "2021-11-07T16:00:09.847838",
     "exception": false,
     "start_time": "2021-11-07T16:00:09.069429",
     "status": "completed"
    },
    "tags": []
   },
   "outputs": [],
   "source": [
    "timestamps = pd.read_sql(\"select distinct record_time from EBAY_TOP_BERLIN order by record_time desc limit 2\", sqlite3.connect(\"UsedObjects.db\"))"
   ]
  },
  {
   "cell_type": "code",
   "execution_count": 3,
   "id": "periodic-identification",
   "metadata": {
    "execution": {
     "iopub.execute_input": "2021-11-07T16:00:09.919478Z",
     "iopub.status.busy": "2021-11-07T16:00:09.916966Z",
     "iopub.status.idle": "2021-11-07T16:00:09.940431Z",
     "shell.execute_reply": "2021-11-07T16:00:09.942070Z"
    },
    "papermill": {
     "duration": 0.074485,
     "end_time": "2021-11-07T16:00:09.942570",
     "exception": false,
     "start_time": "2021-11-07T16:00:09.868085",
     "status": "completed"
    },
    "tags": []
   },
   "outputs": [
    {
     "data": {
      "text/html": [
       "<div>\n",
       "<style scoped>\n",
       "    .dataframe tbody tr th:only-of-type {\n",
       "        vertical-align: middle;\n",
       "    }\n",
       "\n",
       "    .dataframe tbody tr th {\n",
       "        vertical-align: top;\n",
       "    }\n",
       "\n",
       "    .dataframe thead th {\n",
       "        text-align: right;\n",
       "    }\n",
       "</style>\n",
       "<table border=\"1\" class=\"dataframe\">\n",
       "  <thead>\n",
       "    <tr style=\"text-align: right;\">\n",
       "      <th></th>\n",
       "      <th>RECORD_TIME</th>\n",
       "    </tr>\n",
       "  </thead>\n",
       "  <tbody>\n",
       "    <tr>\n",
       "      <th>0</th>\n",
       "      <td>2021-11-07 17:00</td>\n",
       "    </tr>\n",
       "    <tr>\n",
       "      <th>1</th>\n",
       "      <td>2021-11-07 16:30</td>\n",
       "    </tr>\n",
       "  </tbody>\n",
       "</table>\n",
       "</div>"
      ],
      "text/plain": [
       "        RECORD_TIME\n",
       "0  2021-11-07 17:00\n",
       "1  2021-11-07 16:30"
      ]
     },
     "execution_count": 3,
     "metadata": {},
     "output_type": "execute_result"
    }
   ],
   "source": [
    "timestamps"
   ]
  },
  {
   "cell_type": "code",
   "execution_count": 4,
   "id": "alternate-victory",
   "metadata": {
    "execution": {
     "iopub.execute_input": "2021-11-07T16:00:09.998771Z",
     "iopub.status.busy": "2021-11-07T16:00:09.996531Z",
     "iopub.status.idle": "2021-11-07T16:00:11.150983Z",
     "shell.execute_reply": "2021-11-07T16:00:11.152488Z"
    },
    "papermill": {
     "duration": 1.188575,
     "end_time": "2021-11-07T16:00:11.153037",
     "exception": false,
     "start_time": "2021-11-07T16:00:09.964462",
     "status": "completed"
    },
    "tags": []
   },
   "outputs": [],
   "source": [
    "df = pd.read_sql(\"select * from EBAY_TOP_BERLIN where record_time in (select distinct record_time from EBAY_TOP_BERLIN order by record_time desc limit 2)\", sqlite3.connect(\"UsedObjects.db\"))"
   ]
  },
  {
   "cell_type": "code",
   "execution_count": 5,
   "id": "popular-active",
   "metadata": {
    "execution": {
     "iopub.execute_input": "2021-11-07T16:00:11.229429Z",
     "iopub.status.busy": "2021-11-07T16:00:11.214218Z",
     "iopub.status.idle": "2021-11-07T16:00:11.248114Z",
     "shell.execute_reply": "2021-11-07T16:00:11.249673Z"
    },
    "papermill": {
     "duration": 0.076793,
     "end_time": "2021-11-07T16:00:11.250180",
     "exception": false,
     "start_time": "2021-11-07T16:00:11.173387",
     "status": "completed"
    },
    "tags": []
   },
   "outputs": [],
   "source": [
    "df_pivot = df.pivot_table(index=\"PRODUCT\", columns = \"RECORD_TIME\", values = \"LISTING_COUNT\")"
   ]
  },
  {
   "cell_type": "code",
   "execution_count": 6,
   "id": "union-huntington",
   "metadata": {
    "execution": {
     "iopub.execute_input": "2021-11-07T16:00:11.306188Z",
     "iopub.status.busy": "2021-11-07T16:00:11.304520Z",
     "iopub.status.idle": "2021-11-07T16:00:11.330011Z",
     "shell.execute_reply": "2021-11-07T16:00:11.333739Z"
    },
    "papermill": {
     "duration": 0.06347,
     "end_time": "2021-11-07T16:00:11.334248",
     "exception": false,
     "start_time": "2021-11-07T16:00:11.270778",
     "status": "completed"
    },
    "tags": []
   },
   "outputs": [],
   "source": [
    "df_pivot.columns = [\"stamp_1\", \"stamp_2\"]\n",
    "df_pivot_diff = df_pivot.diff(axis=1)"
   ]
  },
  {
   "cell_type": "code",
   "execution_count": 7,
   "id": "fifth-motion",
   "metadata": {
    "execution": {
     "iopub.execute_input": "2021-11-07T16:00:11.393286Z",
     "iopub.status.busy": "2021-11-07T16:00:11.390280Z",
     "iopub.status.idle": "2021-11-07T16:00:13.153940Z",
     "shell.execute_reply": "2021-11-07T16:00:13.155440Z"
    },
    "papermill": {
     "duration": 1.800583,
     "end_time": "2021-11-07T16:00:13.155953",
     "exception": false,
     "start_time": "2021-11-07T16:00:11.355370",
     "status": "completed"
    },
    "tags": []
   },
   "outputs": [
    {
     "data": {
      "text/plain": [
       "<AxesSubplot:ylabel='PRODUCT'>"
      ]
     },
     "execution_count": 7,
     "metadata": {},
     "output_type": "execute_result"
    },
    {
     "data": {
      "image/png": "[encoded data removed]",
      "text/plain": [
       "<Figure size 432x288 with 1 Axes>"
      ]
     },
     "metadata": {
      "needs_background": "light"
     },
     "output_type": "display_data"
    }
   ],
   "source": [
    "df_pivot_diff.sort_values(\"stamp_2\", ascending = False)[\"stamp_2\"].head(10).plot.barh()"
   ]
  },
  {
   "cell_type": "code",
   "execution_count": null,
   "id": "extra-executive",
   "metadata": {
    "papermill": {
     "duration": 0.025382,
     "end_time": "2021-11-07T16:00:13.207351",
     "exception": false,
     "start_time": "2021-11-07T16:00:13.181969",
     "status": "completed"
    },
    "tags": []
   },
   "outputs": [],
   "source": []
  }
 ],
 "metadata": {
  "kernelspec": {
   "display_name": "Python 3",
   "language": "python",
   "name": "python3"
  },
  "language_info": {
   "codemirror_mode": {
    "name": "ipython",
    "version": 3
   },
   "file_extension": ".py",
   "mimetype": "text/x-python",
   "name": "python",
   "nbconvert_exporter": "python",
   "pygments_lexer": "ipython3",
   "version": "3.9.5"
  },
  "papermill": {
   "default_parameters": {},
   "duration": 8.748304,
   "end_time": "2021-11-07T16:00:13.953942",
   "environment_variables": {},
   "exception": null,
   "input_path": "eBay_Overview.ipynb",
   "output_path": "eBay_Overview.ipynb",
   "parameters": {},
   "start_time": "2021-11-07T16:00:05.205638",
   "version": "2.3.3"
  }
 },
 "nbformat": 4,
 "nbformat_minor": 5
}