{
 "cells": [
  {
   "cell_type": "code",
   "execution_count": 1,
   "id": "reverse-picking",
   "metadata": {
    "execution": {
     "iopub.execute_input": "2021-11-10T23:00:07.701476Z",
     "iopub.status.busy": "2021-11-10T23:00:07.698546Z",
     "iopub.status.idle": "2021-11-10T23:00:08.645511Z",
     "shell.execute_reply": "2021-11-10T23:00:08.646997Z"
    },
    "papermill": {
     "duration": 0.998101,
     "end_time": "2021-11-10T23:00:08.647735",
     "exception": false,
     "start_time": "2021-11-10T23:00:07.649634",
     "status": "completed"
    },
    "tags": []
   },
   "outputs": [],
   "source": [
    "import pandas as pd\n",
    "import sqlite3"
   ]
  },
  {
   "cell_type": "code",
   "execution_count": 2,
   "id": "innovative-syndrome",
   "metadata": {
    "execution": {
     "iopub.execute_input": "2021-11-10T23:00:08.714377Z",
     "iopub.status.busy": "2021-11-10T23:00:08.712068Z",
     "iopub.status.idle": "2021-11-10T23:00:09.494889Z",
     "shell.execute_reply": "2021-11-10T23:00:09.496276Z"
    },
    "papermill": {
     "duration": 0.818295,
     "end_time": "2021-11-10T23:00:09.496901",
     "exception": false,
     "start_time": "2021-11-10T23:00:08.678606",
     "status": "completed"
    },
    "tags": []
   },
   "outputs": [],
   "source": [
    "timestamps = pd.read_sql(\"select distinct record_time from EBAY_TOP_BERLIN order by record_time desc limit 2\", sqlite3.connect(\"UsedObjects.db\"))"
   ]
  },
  {
   "cell_type": "code",
   "execution_count": 3,
   "id": "periodic-identification",
   "metadata": {
    "execution": {
     "iopub.execute_input": "2021-11-10T23:00:09.571993Z",
     "iopub.status.busy": "2021-11-10T23:00:09.566194Z",
     "iopub.status.idle": "2021-11-10T23:00:09.589611Z",
     "shell.execute_reply": "2021-11-10T23:00:09.591286Z"
    },
    "papermill": {
     "duration": 0.074387,
     "end_time": "2021-11-10T23:00:09.591854",
     "exception": false,
     "start_time": "2021-11-10T23:00:09.517467",
     "status": "completed"
    },
    "tags": []
   },
   "outputs": [
    {
     "data": {
      "text/html": [
       "<div>\n",
       "<style scoped>\n",
       "    .dataframe tbody tr th:only-of-type {\n",
       "        vertical-align: middle;\n",
       "    }\n",
       "\n",
       "    .dataframe tbody tr th {\n",
       "        vertical-align: top;\n",
       "    }\n",
       "\n",
       "    .dataframe thead th {\n",
       "        text-align: right;\n",
       "    }\n",
       "</style>\n",
       "<table border=\"1\" class=\"dataframe\">\n",
       "  <thead>\n",
       "    <tr style=\"text-align: right;\">\n",
       "      <th></th>\n",
       "      <th>RECORD_TIME</th>\n",
       "    </tr>\n",
       "  </thead>\n",
       "  <tbody>\n",
       "    <tr>\n",
       "      <th>0</th>\n",
       "      <td>2021-11-11 00:00</td>\n",
       "    </tr>\n",
       "    <tr>\n",
       "      <th>1</th>\n",
       "      <td>2021-11-10 23:30</td>\n",
       "    </tr>\n",
       "  </tbody>\n",
       "</table>\n",
       "</div>"
      ],
      "text/plain": [
       "        RECORD_TIME\n",
       "0  2021-11-11 00:00\n",
       "1  2021-11-10 23:30"
      ]
     },
     "execution_count": 3,
     "metadata": {},
     "output_type": "execute_result"
    }
   ],
   "source": [
    "timestamps"
   ]
  },
  {
   "cell_type": "code",
   "execution_count": 4,
   "id": "alternate-victory",
   "metadata": {
    "execution": {
     "iopub.execute_input": "2021-11-10T23:00:09.650021Z",
     "iopub.status.busy": "2021-11-10T23:00:09.647651Z",
     "iopub.status.idle": "2021-11-10T23:00:10.781185Z",
     "shell.execute_reply": "2021-11-10T23:00:10.782731Z"
    },
    "papermill": {
     "duration": 1.167806,
     "end_time": "2021-11-10T23:00:10.783244",
     "exception": false,
     "start_time": "2021-11-10T23:00:09.615438",
     "status": "completed"
    },
    "tags": []
   },
   "outputs": [],
   "source": [
    "df = pd.read_sql(\"select * from EBAY_TOP_BERLIN where record_time in (select distinct record_time from EBAY_TOP_BERLIN order by record_time desc limit 2)\", sqlite3.connect(\"UsedObjects.db\"))"
   ]
  },
  {
   "cell_type": "code",
   "execution_count": 5,
   "id": "popular-active",
   "metadata": {
    "execution": {
     "iopub.execute_input": "2021-11-10T23:00:10.858957Z",
     "iopub.status.busy": "2021-11-10T23:00:10.847600Z",
     "iopub.status.idle": "2021-11-10T23:00:10.879352Z",
     "shell.execute_reply": "2021-11-10T23:00:10.877781Z"
    },
    "papermill": {
     "duration": 0.073272,
     "end_time": "2021-11-10T23:00:10.879748",
     "exception": false,
     "start_time": "2021-11-10T23:00:10.806476",
     "status": "completed"
    },
    "tags": []
   },
   "outputs": [],
   "source": [
    "df_pivot = df.pivot_table(index=\"PRODUCT\", columns = \"RECORD_TIME\", values = \"LISTING_COUNT\")"
   ]
  },
  {
   "cell_type": "code",
   "execution_count": 6,
   "id": "union-huntington",
   "metadata": {
    "execution": {
     "iopub.execute_input": "2021-11-10T23:00:10.941797Z",
     "iopub.status.busy": "2021-11-10T23:00:10.937790Z",
     "iopub.status.idle": "2021-11-10T23:00:10.947513Z",
     "shell.execute_reply": "2021-11-10T23:00:10.945697Z"
    },
    "papermill": {
     "duration": 0.048243,
     "end_time": "2021-11-10T23:00:10.948147",
     "exception": false,
     "start_time": "2021-11-10T23:00:10.899904",
     "status": "completed"
    },
    "tags": []
   },
   "outputs": [],
   "source": [
    "df_pivot.columns = [\"stamp_1\", \"stamp_2\"]\n",
    "df_pivot_diff = df_pivot.diff(axis=1)"
   ]
  },
  {
   "cell_type": "code",
   "execution_count": 7,
   "id": "fifth-motion",
   "metadata": {
    "execution": {
     "iopub.execute_input": "2021-11-10T23:00:11.033347Z",
     "iopub.status.busy": "2021-11-10T23:00:11.029978Z",
     "iopub.status.idle": "2021-11-10T23:00:12.835473Z",
     "shell.execute_reply": "2021-11-10T23:00:12.838240Z"
    },
    "papermill": {
     "duration": 1.862454,
     "end_time": "2021-11-10T23:00:12.839198",
     "exception": false,
     "start_time": "2021-11-10T23:00:10.976744",
     "status": "completed"
    },
    "tags": []
   },
   "outputs": [
    {
     "data": {
      "text/plain": [
       "<AxesSubplot:ylabel='PRODUCT'>"
      ]
     },
     "execution_count": 7,
     "metadata": {},
     "output_type": "execute_result"
    },
    {
     "data": {
      "image/png": "[encoded data removed]",
      "text/plain": [
       "<Figure size 432x288 with 1 Axes>"
      ]
     },
     "metadata": {
      "needs_background": "light"
     },
     "output_type": "display_data"
    }
   ],
   "source": [
    "df_pivot_diff.sort_values(\"stamp_2\", ascending = False)[\"stamp_2\"].head(10).plot.barh()"
   ]
  },
  {
   "cell_type": "code",
   "execution_count": null,
   "id": "extra-executive",
   "metadata": {
    "papermill": {
     "duration": 0.034469,
     "end_time": "2021-11-10T23:00:12.915501",
     "exception": false,
     "start_time": "2021-11-10T23:00:12.881032",
     "status": "completed"
    },
    "tags": []
   },
   "outputs": [],
   "source": []
  }
 ],
 "metadata": {
  "kernelspec": {
   "display_name": "Python 3",
   "language": "python",
   "name": "python3"
  },
  "language_info": {
   "codemirror_mode": {
    "name": "ipython",
    "version": 3
   },
   "file_extension": ".py",
   "mimetype": "text/x-python",
   "name": "python",
   "nbconvert_exporter": "python",
   "pygments_lexer": "ipython3",
   "version": "3.9.5"
  },
  "papermill": {
   "default_parameters": {},
   "duration": 8.860948,
   "end_time": "2021-11-10T23:00:13.780876",
   "environment_variables": {},
   "exception": null,
   "input_path": "eBay_Overview.ipynb",
   "output_path": "eBay_Overview.ipynb",
   "parameters": {},
   "start_time": "2021-11-10T23:00:04.919928",
   "version": "2.3.3"
  }
 },
 "nbformat": 4,
 "nbformat_minor": 5
}