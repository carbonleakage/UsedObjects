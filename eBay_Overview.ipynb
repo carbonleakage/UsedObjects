{
 "cells": [
  {
   "cell_type": "code",
   "execution_count": 1,
   "id": "reverse-picking",
   "metadata": {
    "execution": {
     "iopub.execute_input": "2021-12-03T02:30:07.621460Z",
     "iopub.status.busy": "2021-12-03T02:30:07.619231Z",
     "iopub.status.idle": "2021-12-03T02:30:08.587292Z",
     "shell.execute_reply": "2021-12-03T02:30:08.589517Z"
    },
    "papermill": {
     "duration": 1.018332,
     "end_time": "2021-12-03T02:30:08.590253",
     "exception": false,
     "start_time": "2021-12-03T02:30:07.571921",
     "status": "completed"
    },
    "tags": []
   },
   "outputs": [],
   "source": [
    "import pandas as pd\n",
    "import sqlite3"
   ]
  },
  {
   "cell_type": "code",
   "execution_count": 2,
   "id": "innovative-syndrome",
   "metadata": {
    "execution": {
     "iopub.execute_input": "2021-12-03T02:30:08.654441Z",
     "iopub.status.busy": "2021-12-03T02:30:08.652107Z",
     "iopub.status.idle": "2021-12-03T02:30:09.637250Z",
     "shell.execute_reply": "2021-12-03T02:30:09.638914Z"
    },
    "papermill": {
     "duration": 1.018855,
     "end_time": "2021-12-03T02:30:09.639410",
     "exception": false,
     "start_time": "2021-12-03T02:30:08.620555",
     "status": "completed"
    },
    "tags": []
   },
   "outputs": [],
   "source": [
    "timestamps = pd.read_sql(\"select distinct record_time from EBAY_TOP_BERLIN order by record_time desc limit 2\", sqlite3.connect(\"UsedObjects.db\"))"
   ]
  },
  {
   "cell_type": "code",
   "execution_count": 3,
   "id": "periodic-identification",
   "metadata": {
    "execution": {
     "iopub.execute_input": "2021-12-03T02:30:09.714431Z",
     "iopub.status.busy": "2021-12-03T02:30:09.707850Z",
     "iopub.status.idle": "2021-12-03T02:30:09.731508Z",
     "shell.execute_reply": "2021-12-03T02:30:09.733163Z"
    },
    "papermill": {
     "duration": 0.073712,
     "end_time": "2021-12-03T02:30:09.733709",
     "exception": false,
     "start_time": "2021-12-03T02:30:09.659997",
     "status": "completed"
    },
    "tags": []
   },
   "outputs": [
    {
     "data": {
      "text/html": [
       "<div>\n",
       "<style scoped>\n",
       "    .dataframe tbody tr th:only-of-type {\n",
       "        vertical-align: middle;\n",
       "    }\n",
       "\n",
       "    .dataframe tbody tr th {\n",
       "        vertical-align: top;\n",
       "    }\n",
       "\n",
       "    .dataframe thead th {\n",
       "        text-align: right;\n",
       "    }\n",
       "</style>\n",
       "<table border=\"1\" class=\"dataframe\">\n",
       "  <thead>\n",
       "    <tr style=\"text-align: right;\">\n",
       "      <th></th>\n",
       "      <th>RECORD_TIME</th>\n",
       "    </tr>\n",
       "  </thead>\n",
       "  <tbody>\n",
       "    <tr>\n",
       "      <th>0</th>\n",
       "      <td>2021-12-03 03:30</td>\n",
       "    </tr>\n",
       "    <tr>\n",
       "      <th>1</th>\n",
       "      <td>2021-12-03 03:00</td>\n",
       "    </tr>\n",
       "  </tbody>\n",
       "</table>\n",
       "</div>"
      ],
      "text/plain": [
       "        RECORD_TIME\n",
       "0  2021-12-03 03:30\n",
       "1  2021-12-03 03:00"
      ]
     },
     "execution_count": 3,
     "metadata": {},
     "output_type": "execute_result"
    }
   ],
   "source": [
    "timestamps"
   ]
  },
  {
   "cell_type": "code",
   "execution_count": 4,
   "id": "alternate-victory",
   "metadata": {
    "execution": {
     "iopub.execute_input": "2021-12-03T02:30:09.790636Z",
     "iopub.status.busy": "2021-12-03T02:30:09.788420Z",
     "iopub.status.idle": "2021-12-03T02:30:11.212163Z",
     "shell.execute_reply": "2021-12-03T02:30:11.213758Z"
    },
    "papermill": {
     "duration": 1.458518,
     "end_time": "2021-12-03T02:30:11.214258",
     "exception": false,
     "start_time": "2021-12-03T02:30:09.755740",
     "status": "completed"
    },
    "tags": []
   },
   "outputs": [],
   "source": [
    "df = pd.read_sql(\"select * from EBAY_TOP_BERLIN where record_time in (select distinct record_time from EBAY_TOP_BERLIN order by record_time desc limit 2)\", sqlite3.connect(\"UsedObjects.db\"))"
   ]
  },
  {
   "cell_type": "code",
   "execution_count": 5,
   "id": "popular-active",
   "metadata": {
    "execution": {
     "iopub.execute_input": "2021-12-03T02:30:11.294085Z",
     "iopub.status.busy": "2021-12-03T02:30:11.280944Z",
     "iopub.status.idle": "2021-12-03T02:30:11.315093Z",
     "shell.execute_reply": "2021-12-03T02:30:11.313597Z"
    },
    "papermill": {
     "duration": 0.078375,
     "end_time": "2021-12-03T02:30:11.315545",
     "exception": false,
     "start_time": "2021-12-03T02:30:11.237170",
     "status": "completed"
    },
    "tags": []
   },
   "outputs": [],
   "source": [
    "df_pivot = df.pivot_table(index=\"PRODUCT\", columns = \"RECORD_TIME\", values = \"LISTING_COUNT\")"
   ]
  },
  {
   "cell_type": "code",
   "execution_count": 6,
   "id": "union-huntington",
   "metadata": {
    "execution": {
     "iopub.execute_input": "2021-12-03T02:30:11.375574Z",
     "iopub.status.busy": "2021-12-03T02:30:11.373350Z",
     "iopub.status.idle": "2021-12-03T02:30:11.378672Z",
     "shell.execute_reply": "2021-12-03T02:30:11.380011Z"
    },
    "papermill": {
     "duration": 0.043067,
     "end_time": "2021-12-03T02:30:11.380484",
     "exception": false,
     "start_time": "2021-12-03T02:30:11.337417",
     "status": "completed"
    },
    "tags": []
   },
   "outputs": [],
   "source": [
    "df_pivot.columns = [\"stamp_1\", \"stamp_2\"]\n",
    "df_pivot_diff = df_pivot.diff(axis=1)"
   ]
  },
  {
   "cell_type": "code",
   "execution_count": 7,
   "id": "fifth-motion",
   "metadata": {
    "execution": {
     "iopub.execute_input": "2021-12-03T02:30:11.436510Z",
     "iopub.status.busy": "2021-12-03T02:30:11.434026Z",
     "iopub.status.idle": "2021-12-03T02:30:13.352940Z",
     "shell.execute_reply": "2021-12-03T02:30:13.354620Z"
    },
    "papermill": {
     "duration": 1.954662,
     "end_time": "2021-12-03T02:30:13.355182",
     "exception": false,
     "start_time": "2021-12-03T02:30:11.400520",
     "status": "completed"
    },
    "tags": []
   },
   "outputs": [
    {
     "data": {
      "text/plain": [
       "<AxesSubplot:ylabel='PRODUCT'>"
      ]
     },
     "execution_count": 7,
     "metadata": {},
     "output_type": "execute_result"
    },
    {
     "data": {
      "image/png": "[encoded data removed]",
      "text/plain": [
       "<Figure size 432x288 with 1 Axes>"
      ]
     },
     "metadata": {
      "needs_background": "light"
     },
     "output_type": "display_data"
    }
   ],
   "source": [
    "df_pivot_diff.sort_values(\"stamp_2\", ascending = False)[\"stamp_2\"].head(10).plot.barh()"
   ]
  },
  {
   "cell_type": "code",
   "execution_count": null,
   "id": "extra-executive",
   "metadata": {
    "papermill": {
     "duration": 0.035843,
     "end_time": "2021-12-03T02:30:13.425697",
     "exception": false,
     "start_time": "2021-12-03T02:30:13.389854",
     "status": "completed"
    },
    "tags": []
   },
   "outputs": [],
   "source": []
  }
 ],
 "metadata": {
  "kernelspec": {
   "display_name": "Python 3",
   "language": "python",
   "name": "python3"
  },
  "language_info": {
   "codemirror_mode": {
    "name": "ipython",
    "version": 3
   },
   "file_extension": ".py",
   "mimetype": "text/x-python",
   "name": "python",
   "nbconvert_exporter": "python",
   "pygments_lexer": "ipython3",
   "version": "3.9.5"
  },
  "papermill": {
   "default_parameters": {},
   "duration": 9.929115,
   "end_time": "2021-12-03T02:30:14.759935",
   "environment_variables": {},
   "exception": null,
   "input_path": "eBay_Overview.ipynb",
   "output_path": "eBay_Overview.ipynb",
   "parameters": {},
   "start_time": "2021-12-03T02:30:04.830820",
   "version": "2.3.3"
  }
 },
 "nbformat": 4,
 "nbformat_minor": 5
}