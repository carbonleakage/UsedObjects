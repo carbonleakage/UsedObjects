{
 "cells": [
  {
   "cell_type": "code",
   "execution_count": 1,
   "id": "reverse-picking",
   "metadata": {
    "execution": {
     "iopub.execute_input": "2021-11-13T14:30:07.495373Z",
     "iopub.status.busy": "2021-11-13T14:30:07.493056Z",
     "iopub.status.idle": "2021-11-13T14:30:08.436484Z",
     "shell.execute_reply": "2021-11-13T14:30:08.438126Z"
    },
    "papermill": {
     "duration": 0.994299,
     "end_time": "2021-11-13T14:30:08.438884",
     "exception": false,
     "start_time": "2021-11-13T14:30:07.444585",
     "status": "completed"
    },
    "tags": []
   },
   "outputs": [],
   "source": [
    "import pandas as pd\n",
    "import sqlite3"
   ]
  },
  {
   "cell_type": "code",
   "execution_count": 2,
   "id": "innovative-syndrome",
   "metadata": {
    "execution": {
     "iopub.execute_input": "2021-11-13T14:30:08.510156Z",
     "iopub.status.busy": "2021-11-13T14:30:08.506323Z",
     "iopub.status.idle": "2021-11-13T14:30:09.333908Z",
     "shell.execute_reply": "2021-11-13T14:30:09.335349Z"
    },
    "papermill": {
     "duration": 0.868901,
     "end_time": "2021-11-13T14:30:09.335809",
     "exception": false,
     "start_time": "2021-11-13T14:30:08.466908",
     "status": "completed"
    },
    "tags": []
   },
   "outputs": [],
   "source": [
    "timestamps = pd.read_sql(\"select distinct record_time from EBAY_TOP_BERLIN order by record_time desc limit 2\", sqlite3.connect(\"UsedObjects.db\"))"
   ]
  },
  {
   "cell_type": "code",
   "execution_count": 3,
   "id": "periodic-identification",
   "metadata": {
    "execution": {
     "iopub.execute_input": "2021-11-13T14:30:09.402124Z",
     "iopub.status.busy": "2021-11-13T14:30:09.393977Z",
     "iopub.status.idle": "2021-11-13T14:30:09.428266Z",
     "shell.execute_reply": "2021-11-13T14:30:09.429698Z"
    },
    "papermill": {
     "duration": 0.07377,
     "end_time": "2021-11-13T14:30:09.430130",
     "exception": false,
     "start_time": "2021-11-13T14:30:09.356360",
     "status": "completed"
    },
    "tags": []
   },
   "outputs": [
    {
     "data": {
      "text/html": [
       "<div>\n",
       "<style scoped>\n",
       "    .dataframe tbody tr th:only-of-type {\n",
       "        vertical-align: middle;\n",
       "    }\n",
       "\n",
       "    .dataframe tbody tr th {\n",
       "        vertical-align: top;\n",
       "    }\n",
       "\n",
       "    .dataframe thead th {\n",
       "        text-align: right;\n",
       "    }\n",
       "</style>\n",
       "<table border=\"1\" class=\"dataframe\">\n",
       "  <thead>\n",
       "    <tr style=\"text-align: right;\">\n",
       "      <th></th>\n",
       "      <th>RECORD_TIME</th>\n",
       "    </tr>\n",
       "  </thead>\n",
       "  <tbody>\n",
       "    <tr>\n",
       "      <th>0</th>\n",
       "      <td>2021-11-13 15:30</td>\n",
       "    </tr>\n",
       "    <tr>\n",
       "      <th>1</th>\n",
       "      <td>2021-11-13 15:00</td>\n",
       "    </tr>\n",
       "  </tbody>\n",
       "</table>\n",
       "</div>"
      ],
      "text/plain": [
       "        RECORD_TIME\n",
       "0  2021-11-13 15:30\n",
       "1  2021-11-13 15:00"
      ]
     },
     "execution_count": 3,
     "metadata": {},
     "output_type": "execute_result"
    }
   ],
   "source": [
    "timestamps"
   ]
  },
  {
   "cell_type": "code",
   "execution_count": 4,
   "id": "alternate-victory",
   "metadata": {
    "execution": {
     "iopub.execute_input": "2021-11-13T14:30:09.482124Z",
     "iopub.status.busy": "2021-11-13T14:30:09.480136Z",
     "iopub.status.idle": "2021-11-13T14:30:10.659096Z",
     "shell.execute_reply": "2021-11-13T14:30:10.660761Z"
    },
    "papermill": {
     "duration": 1.209814,
     "end_time": "2021-11-13T14:30:10.661380",
     "exception": false,
     "start_time": "2021-11-13T14:30:09.451566",
     "status": "completed"
    },
    "tags": []
   },
   "outputs": [],
   "source": [
    "df = pd.read_sql(\"select * from EBAY_TOP_BERLIN where record_time in (select distinct record_time from EBAY_TOP_BERLIN order by record_time desc limit 2)\", sqlite3.connect(\"UsedObjects.db\"))"
   ]
  },
  {
   "cell_type": "code",
   "execution_count": 5,
   "id": "popular-active",
   "metadata": {
    "execution": {
     "iopub.execute_input": "2021-11-13T14:30:10.738933Z",
     "iopub.status.busy": "2021-11-13T14:30:10.726539Z",
     "iopub.status.idle": "2021-11-13T14:30:10.759139Z",
     "shell.execute_reply": "2021-11-13T14:30:10.760563Z"
    },
    "papermill": {
     "duration": 0.078245,
     "end_time": "2021-11-13T14:30:10.761084",
     "exception": false,
     "start_time": "2021-11-13T14:30:10.682839",
     "status": "completed"
    },
    "tags": []
   },
   "outputs": [],
   "source": [
    "df_pivot = df.pivot_table(index=\"PRODUCT\", columns = \"RECORD_TIME\", values = \"LISTING_COUNT\")"
   ]
  },
  {
   "cell_type": "code",
   "execution_count": 6,
   "id": "union-huntington",
   "metadata": {
    "execution": {
     "iopub.execute_input": "2021-11-13T14:30:10.823655Z",
     "iopub.status.busy": "2021-11-13T14:30:10.821400Z",
     "iopub.status.idle": "2021-11-13T14:30:10.829468Z",
     "shell.execute_reply": "2021-11-13T14:30:10.827823Z"
    },
    "papermill": {
     "duration": 0.046627,
     "end_time": "2021-11-13T14:30:10.829874",
     "exception": false,
     "start_time": "2021-11-13T14:30:10.783247",
     "status": "completed"
    },
    "tags": []
   },
   "outputs": [],
   "source": [
    "df_pivot.columns = [\"stamp_1\", \"stamp_2\"]\n",
    "df_pivot_diff = df_pivot.diff(axis=1)"
   ]
  },
  {
   "cell_type": "code",
   "execution_count": 7,
   "id": "fifth-motion",
   "metadata": {
    "execution": {
     "iopub.execute_input": "2021-11-13T14:30:10.886415Z",
     "iopub.status.busy": "2021-11-13T14:30:10.883869Z",
     "iopub.status.idle": "2021-11-13T14:30:12.817224Z",
     "shell.execute_reply": "2021-11-13T14:30:12.819924Z"
    },
    "papermill": {
     "duration": 1.970454,
     "end_time": "2021-11-13T14:30:12.820649",
     "exception": false,
     "start_time": "2021-11-13T14:30:10.850195",
     "status": "completed"
    },
    "tags": []
   },
   "outputs": [
    {
     "data": {
      "text/plain": [
       "<AxesSubplot:ylabel='PRODUCT'>"
      ]
     },
     "execution_count": 7,
     "metadata": {},
     "output_type": "execute_result"
    },
    {
     "data": {
      "image/png": "[encoded data removed]",
      "text/plain": [
       "<Figure size 432x288 with 1 Axes>"
      ]
     },
     "metadata": {
      "needs_background": "light"
     },
     "output_type": "display_data"
    }
   ],
   "source": [
    "df_pivot_diff.sort_values(\"stamp_2\", ascending = False)[\"stamp_2\"].head(10).plot.barh()"
   ]
  },
  {
   "cell_type": "code",
   "execution_count": null,
   "id": "extra-executive",
   "metadata": {
    "papermill": {
     "duration": 0.037855,
     "end_time": "2021-11-13T14:30:12.893173",
     "exception": false,
     "start_time": "2021-11-13T14:30:12.855318",
     "status": "completed"
    },
    "tags": []
   },
   "outputs": [],
   "source": []
  }
 ],
 "metadata": {
  "kernelspec": {
   "display_name": "Python 3",
   "language": "python",
   "name": "python3"
  },
  "language_info": {
   "codemirror_mode": {
    "name": "ipython",
    "version": 3
   },
   "file_extension": ".py",
   "mimetype": "text/x-python",
   "name": "python",
   "nbconvert_exporter": "python",
   "pygments_lexer": "ipython3",
   "version": "3.9.5"
  },
  "papermill": {
   "default_parameters": {},
   "duration": 9.930242,
   "end_time": "2021-11-13T14:30:14.659883",
   "environment_variables": {},
   "exception": null,
   "input_path": "eBay_Overview.ipynb",
   "output_path": "eBay_Overview.ipynb",
   "parameters": {},
   "start_time": "2021-11-13T14:30:04.729641",
   "version": "2.3.3"
  }
 },
 "nbformat": 4,
 "nbformat_minor": 5
}