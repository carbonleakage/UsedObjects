{
 "cells": [
  {
   "cell_type": "code",
   "execution_count": 1,
   "id": "reverse-picking",
   "metadata": {
    "execution": {
     "iopub.execute_input": "2021-12-17T15:00:07.720952Z",
     "iopub.status.busy": "2021-12-17T15:00:07.718623Z",
     "iopub.status.idle": "2021-12-17T15:00:08.686992Z",
     "shell.execute_reply": "2021-12-17T15:00:08.690060Z"
    },
    "papermill": {
     "duration": 1.019529,
     "end_time": "2021-12-17T15:00:08.691237",
     "exception": false,
     "start_time": "2021-12-17T15:00:07.671708",
     "status": "completed"
    },
    "tags": []
   },
   "outputs": [],
   "source": [
    "import pandas as pd\n",
    "import sqlite3"
   ]
  },
  {
   "cell_type": "code",
   "execution_count": 2,
   "id": "innovative-syndrome",
   "metadata": {
    "execution": {
     "iopub.execute_input": "2021-12-17T15:00:08.756853Z",
     "iopub.status.busy": "2021-12-17T15:00:08.754435Z",
     "iopub.status.idle": "2021-12-17T15:00:09.858221Z",
     "shell.execute_reply": "2021-12-17T15:00:09.859892Z"
    },
    "papermill": {
     "duration": 1.137951,
     "end_time": "2021-12-17T15:00:09.860412",
     "exception": false,
     "start_time": "2021-12-17T15:00:08.722461",
     "status": "completed"
    },
    "tags": []
   },
   "outputs": [],
   "source": [
    "timestamps = pd.read_sql(\"select distinct record_time from EBAY_TOP_BERLIN order by record_time desc limit 2\", sqlite3.connect(\"UsedObjects.db\"))"
   ]
  },
  {
   "cell_type": "code",
   "execution_count": 3,
   "id": "periodic-identification",
   "metadata": {
    "execution": {
     "iopub.execute_input": "2021-12-17T15:00:09.917363Z",
     "iopub.status.busy": "2021-12-17T15:00:09.915165Z",
     "iopub.status.idle": "2021-12-17T15:00:09.976427Z",
     "shell.execute_reply": "2021-12-17T15:00:09.977938Z"
    },
    "papermill": {
     "duration": 0.095836,
     "end_time": "2021-12-17T15:00:09.978456",
     "exception": false,
     "start_time": "2021-12-17T15:00:09.882620",
     "status": "completed"
    },
    "tags": []
   },
   "outputs": [
    {
     "data": {
      "text/html": [
       "<div>\n",
       "<style scoped>\n",
       "    .dataframe tbody tr th:only-of-type {\n",
       "        vertical-align: middle;\n",
       "    }\n",
       "\n",
       "    .dataframe tbody tr th {\n",
       "        vertical-align: top;\n",
       "    }\n",
       "\n",
       "    .dataframe thead th {\n",
       "        text-align: right;\n",
       "    }\n",
       "</style>\n",
       "<table border=\"1\" class=\"dataframe\">\n",
       "  <thead>\n",
       "    <tr style=\"text-align: right;\">\n",
       "      <th></th>\n",
       "      <th>RECORD_TIME</th>\n",
       "    </tr>\n",
       "  </thead>\n",
       "  <tbody>\n",
       "    <tr>\n",
       "      <th>0</th>\n",
       "      <td>2021-12-17 16:00</td>\n",
       "    </tr>\n",
       "    <tr>\n",
       "      <th>1</th>\n",
       "      <td>2021-12-17 15:30</td>\n",
       "    </tr>\n",
       "  </tbody>\n",
       "</table>\n",
       "</div>"
      ],
      "text/plain": [
       "        RECORD_TIME\n",
       "0  2021-12-17 16:00\n",
       "1  2021-12-17 15:30"
      ]
     },
     "execution_count": 3,
     "metadata": {},
     "output_type": "execute_result"
    }
   ],
   "source": [
    "timestamps"
   ]
  },
  {
   "cell_type": "code",
   "execution_count": 4,
   "id": "alternate-victory",
   "metadata": {
    "execution": {
     "iopub.execute_input": "2021-12-17T15:00:10.034619Z",
     "iopub.status.busy": "2021-12-17T15:00:10.032296Z",
     "iopub.status.idle": "2021-12-17T15:00:11.640894Z",
     "shell.execute_reply": "2021-12-17T15:00:11.642975Z"
    },
    "papermill": {
     "duration": 1.643172,
     "end_time": "2021-12-17T15:00:11.643424",
     "exception": false,
     "start_time": "2021-12-17T15:00:10.000252",
     "status": "completed"
    },
    "tags": []
   },
   "outputs": [],
   "source": [
    "df = pd.read_sql(\"select * from EBAY_TOP_BERLIN where record_time in (select distinct record_time from EBAY_TOP_BERLIN order by record_time desc limit 2)\", sqlite3.connect(\"UsedObjects.db\"))"
   ]
  },
  {
   "cell_type": "code",
   "execution_count": 5,
   "id": "popular-active",
   "metadata": {
    "execution": {
     "iopub.execute_input": "2021-12-17T15:00:11.709309Z",
     "iopub.status.busy": "2021-12-17T15:00:11.706935Z",
     "iopub.status.idle": "2021-12-17T15:00:11.739211Z",
     "shell.execute_reply": "2021-12-17T15:00:11.740734Z"
    },
    "papermill": {
     "duration": 0.07527,
     "end_time": "2021-12-17T15:00:11.741202",
     "exception": false,
     "start_time": "2021-12-17T15:00:11.665932",
     "status": "completed"
    },
    "tags": []
   },
   "outputs": [],
   "source": [
    "df_pivot = df.pivot_table(index=\"PRODUCT\", columns = \"RECORD_TIME\", values = \"LISTING_COUNT\")"
   ]
  },
  {
   "cell_type": "code",
   "execution_count": 6,
   "id": "union-huntington",
   "metadata": {
    "execution": {
     "iopub.execute_input": "2021-12-17T15:00:11.799848Z",
     "iopub.status.busy": "2021-12-17T15:00:11.797653Z",
     "iopub.status.idle": "2021-12-17T15:00:11.802862Z",
     "shell.execute_reply": "2021-12-17T15:00:11.804217Z"
    },
    "papermill": {
     "duration": 0.043537,
     "end_time": "2021-12-17T15:00:11.804792",
     "exception": false,
     "start_time": "2021-12-17T15:00:11.761255",
     "status": "completed"
    },
    "tags": []
   },
   "outputs": [],
   "source": [
    "df_pivot.columns = [\"stamp_1\", \"stamp_2\"]\n",
    "df_pivot_diff = df_pivot.diff(axis=1)"
   ]
  },
  {
   "cell_type": "code",
   "execution_count": 7,
   "id": "fifth-motion",
   "metadata": {
    "execution": {
     "iopub.execute_input": "2021-12-17T15:00:11.861888Z",
     "iopub.status.busy": "2021-12-17T15:00:11.859273Z",
     "iopub.status.idle": "2021-12-17T15:00:13.877543Z",
     "shell.execute_reply": "2021-12-17T15:00:13.878852Z"
    },
    "papermill": {
     "duration": 2.054219,
     "end_time": "2021-12-17T15:00:13.879274",
     "exception": false,
     "start_time": "2021-12-17T15:00:11.825055",
     "status": "completed"
    },
    "tags": []
   },
   "outputs": [
    {
     "data": {
      "text/plain": [
       "<AxesSubplot:ylabel='PRODUCT'>"
      ]
     },
     "execution_count": 7,
     "metadata": {},
     "output_type": "execute_result"
    },
    {
     "data": {
      "image/png": "[encoded data removed]",
      "text/plain": [
       "<Figure size 432x288 with 1 Axes>"
      ]
     },
     "metadata": {
      "needs_background": "light"
     },
     "output_type": "display_data"
    }
   ],
   "source": [
    "df_pivot_diff.sort_values(\"stamp_2\", ascending = False)[\"stamp_2\"].head(10).plot.barh()"
   ]
  },
  {
   "cell_type": "code",
   "execution_count": null,
   "id": "extra-executive",
   "metadata": {
    "papermill": {
     "duration": 0.028701,
     "end_time": "2021-12-17T15:00:13.941171",
     "exception": false,
     "start_time": "2021-12-17T15:00:13.912470",
     "status": "completed"
    },
    "tags": []
   },
   "outputs": [],
   "source": []
  }
 ],
 "metadata": {
  "kernelspec": {
   "display_name": "Python 3",
   "language": "python",
   "name": "python3"
  },
  "language_info": {
   "codemirror_mode": {
    "name": "ipython",
    "version": 3
   },
   "file_extension": ".py",
   "mimetype": "text/x-python",
   "name": "python",
   "nbconvert_exporter": "python",
   "pygments_lexer": "ipython3",
   "version": "3.9.5"
  },
  "papermill": {
   "default_parameters": {},
   "duration": 9.642991,
   "end_time": "2021-12-17T15:00:14.583721",
   "environment_variables": {},
   "exception": null,
   "input_path": "eBay_Overview.ipynb",
   "output_path": "eBay_Overview.ipynb",
   "parameters": {},
   "start_time": "2021-12-17T15:00:04.940730",
   "version": "2.3.3"
  }
 },
 "nbformat": 4,
 "nbformat_minor": 5
}