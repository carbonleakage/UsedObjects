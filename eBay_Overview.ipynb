{
 "cells": [
  {
   "cell_type": "code",
   "execution_count": 1,
   "id": "reverse-picking",
   "metadata": {
    "execution": {
     "iopub.execute_input": "2021-11-19T20:30:07.837996Z",
     "iopub.status.busy": "2021-11-19T20:30:07.835730Z",
     "iopub.status.idle": "2021-11-19T20:30:08.800870Z",
     "shell.execute_reply": "2021-11-19T20:30:08.803182Z"
    },
    "papermill": {
     "duration": 1.013201,
     "end_time": "2021-11-19T20:30:08.803915",
     "exception": false,
     "start_time": "2021-11-19T20:30:07.790714",
     "status": "completed"
    },
    "tags": []
   },
   "outputs": [],
   "source": [
    "import pandas as pd\n",
    "import sqlite3"
   ]
  },
  {
   "cell_type": "code",
   "execution_count": 2,
   "id": "innovative-syndrome",
   "metadata": {
    "execution": {
     "iopub.execute_input": "2021-11-19T20:30:08.873131Z",
     "iopub.status.busy": "2021-11-19T20:30:08.870816Z",
     "iopub.status.idle": "2021-11-19T20:30:09.731892Z",
     "shell.execute_reply": "2021-11-19T20:30:09.733549Z"
    },
    "papermill": {
     "duration": 0.895078,
     "end_time": "2021-11-19T20:30:09.734024",
     "exception": false,
     "start_time": "2021-11-19T20:30:08.838946",
     "status": "completed"
    },
    "tags": []
   },
   "outputs": [],
   "source": [
    "timestamps = pd.read_sql(\"select distinct record_time from EBAY_TOP_BERLIN order by record_time desc limit 2\", sqlite3.connect(\"UsedObjects.db\"))"
   ]
  },
  {
   "cell_type": "code",
   "execution_count": 3,
   "id": "periodic-identification",
   "metadata": {
    "execution": {
     "iopub.execute_input": "2021-11-19T20:30:09.809156Z",
     "iopub.status.busy": "2021-11-19T20:30:09.802921Z",
     "iopub.status.idle": "2021-11-19T20:30:09.828361Z",
     "shell.execute_reply": "2021-11-19T20:30:09.830065Z"
    },
    "papermill": {
     "duration": 0.075791,
     "end_time": "2021-11-19T20:30:09.830560",
     "exception": false,
     "start_time": "2021-11-19T20:30:09.754769",
     "status": "completed"
    },
    "tags": []
   },
   "outputs": [
    {
     "data": {
      "text/html": [
       "<div>\n",
       "<style scoped>\n",
       "    .dataframe tbody tr th:only-of-type {\n",
       "        vertical-align: middle;\n",
       "    }\n",
       "\n",
       "    .dataframe tbody tr th {\n",
       "        vertical-align: top;\n",
       "    }\n",
       "\n",
       "    .dataframe thead th {\n",
       "        text-align: right;\n",
       "    }\n",
       "</style>\n",
       "<table border=\"1\" class=\"dataframe\">\n",
       "  <thead>\n",
       "    <tr style=\"text-align: right;\">\n",
       "      <th></th>\n",
       "      <th>RECORD_TIME</th>\n",
       "    </tr>\n",
       "  </thead>\n",
       "  <tbody>\n",
       "    <tr>\n",
       "      <th>0</th>\n",
       "      <td>2021-11-19 21:30</td>\n",
       "    </tr>\n",
       "    <tr>\n",
       "      <th>1</th>\n",
       "      <td>2021-11-19 21:00</td>\n",
       "    </tr>\n",
       "  </tbody>\n",
       "</table>\n",
       "</div>"
      ],
      "text/plain": [
       "        RECORD_TIME\n",
       "0  2021-11-19 21:30\n",
       "1  2021-11-19 21:00"
      ]
     },
     "execution_count": 3,
     "metadata": {},
     "output_type": "execute_result"
    }
   ],
   "source": [
    "timestamps"
   ]
  },
  {
   "cell_type": "code",
   "execution_count": 4,
   "id": "alternate-victory",
   "metadata": {
    "execution": {
     "iopub.execute_input": "2021-11-19T20:30:09.886508Z",
     "iopub.status.busy": "2021-11-19T20:30:09.883978Z",
     "iopub.status.idle": "2021-11-19T20:30:11.107391Z",
     "shell.execute_reply": "2021-11-19T20:30:11.108875Z"
    },
    "papermill": {
     "duration": 1.257447,
     "end_time": "2021-11-19T20:30:11.109354",
     "exception": false,
     "start_time": "2021-11-19T20:30:09.851907",
     "status": "completed"
    },
    "tags": []
   },
   "outputs": [],
   "source": [
    "df = pd.read_sql(\"select * from EBAY_TOP_BERLIN where record_time in (select distinct record_time from EBAY_TOP_BERLIN order by record_time desc limit 2)\", sqlite3.connect(\"UsedObjects.db\"))"
   ]
  },
  {
   "cell_type": "code",
   "execution_count": 5,
   "id": "popular-active",
   "metadata": {
    "execution": {
     "iopub.execute_input": "2021-11-19T20:30:11.196994Z",
     "iopub.status.busy": "2021-11-19T20:30:11.175767Z",
     "iopub.status.idle": "2021-11-19T20:30:11.230839Z",
     "shell.execute_reply": "2021-11-19T20:30:11.233759Z"
    },
    "papermill": {
     "duration": 0.104727,
     "end_time": "2021-11-19T20:30:11.234601",
     "exception": false,
     "start_time": "2021-11-19T20:30:11.129874",
     "status": "completed"
    },
    "tags": []
   },
   "outputs": [],
   "source": [
    "df_pivot = df.pivot_table(index=\"PRODUCT\", columns = \"RECORD_TIME\", values = \"LISTING_COUNT\")"
   ]
  },
  {
   "cell_type": "code",
   "execution_count": 6,
   "id": "union-huntington",
   "metadata": {
    "execution": {
     "iopub.execute_input": "2021-11-19T20:30:11.304450Z",
     "iopub.status.busy": "2021-11-19T20:30:11.302101Z",
     "iopub.status.idle": "2021-11-19T20:30:11.308006Z",
     "shell.execute_reply": "2021-11-19T20:30:11.309673Z"
    },
    "papermill": {
     "duration": 0.046541,
     "end_time": "2021-11-19T20:30:11.310197",
     "exception": false,
     "start_time": "2021-11-19T20:30:11.263656",
     "status": "completed"
    },
    "tags": []
   },
   "outputs": [],
   "source": [
    "df_pivot.columns = [\"stamp_1\", \"stamp_2\"]\n",
    "df_pivot_diff = df_pivot.diff(axis=1)"
   ]
  },
  {
   "cell_type": "code",
   "execution_count": 7,
   "id": "fifth-motion",
   "metadata": {
    "execution": {
     "iopub.execute_input": "2021-11-19T20:30:11.368932Z",
     "iopub.status.busy": "2021-11-19T20:30:11.366330Z",
     "iopub.status.idle": "2021-11-19T20:30:13.215729Z",
     "shell.execute_reply": "2021-11-19T20:30:13.218304Z"
    },
    "papermill": {
     "duration": 1.887801,
     "end_time": "2021-11-19T20:30:13.219051",
     "exception": false,
     "start_time": "2021-11-19T20:30:11.331250",
     "status": "completed"
    },
    "tags": []
   },
   "outputs": [
    {
     "data": {
      "text/plain": [
       "<AxesSubplot:ylabel='PRODUCT'>"
      ]
     },
     "execution_count": 7,
     "metadata": {},
     "output_type": "execute_result"
    },
    {
     "data": {
      "image/png": "[encoded data removed]",
      "text/plain": [
       "<Figure size 432x288 with 1 Axes>"
      ]
     },
     "metadata": {
      "needs_background": "light"
     },
     "output_type": "display_data"
    }
   ],
   "source": [
    "df_pivot_diff.sort_values(\"stamp_2\", ascending = False)[\"stamp_2\"].head(10).plot.barh()"
   ]
  },
  {
   "cell_type": "code",
   "execution_count": null,
   "id": "extra-executive",
   "metadata": {
    "papermill": {
     "duration": 0.035423,
     "end_time": "2021-11-19T20:30:13.289472",
     "exception": false,
     "start_time": "2021-11-19T20:30:13.254049",
     "status": "completed"
    },
    "tags": []
   },
   "outputs": [],
   "source": []
  }
 ],
 "metadata": {
  "kernelspec": {
   "display_name": "Python 3",
   "language": "python",
   "name": "python3"
  },
  "language_info": {
   "codemirror_mode": {
    "name": "ipython",
    "version": 3
   },
   "file_extension": ".py",
   "mimetype": "text/x-python",
   "name": "python",
   "nbconvert_exporter": "python",
   "pygments_lexer": "ipython3",
   "version": "3.9.5"
  },
  "papermill": {
   "default_parameters": {},
   "duration": 10.957654,
   "end_time": "2021-11-19T20:30:15.980216",
   "environment_variables": {},
   "exception": null,
   "input_path": "eBay_Overview.ipynb",
   "output_path": "eBay_Overview.ipynb",
   "parameters": {},
   "start_time": "2021-11-19T20:30:05.022562",
   "version": "2.3.3"
  }
 },
 "nbformat": 4,
 "nbformat_minor": 5
}