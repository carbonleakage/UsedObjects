{
 "cells": [
  {
   "cell_type": "code",
   "execution_count": 1,
   "id": "reverse-picking",
   "metadata": {
    "execution": {
     "iopub.execute_input": "2021-11-15T21:30:08.179882Z",
     "iopub.status.busy": "2021-11-15T21:30:08.177572Z",
     "iopub.status.idle": "2021-11-15T21:30:09.132330Z",
     "shell.execute_reply": "2021-11-15T21:30:09.133903Z"
    },
    "papermill": {
     "duration": 1.005517,
     "end_time": "2021-11-15T21:30:09.134641",
     "exception": false,
     "start_time": "2021-11-15T21:30:08.129124",
     "status": "completed"
    },
    "tags": []
   },
   "outputs": [],
   "source": [
    "import pandas as pd\n",
    "import sqlite3"
   ]
  },
  {
   "cell_type": "code",
   "execution_count": 2,
   "id": "innovative-syndrome",
   "metadata": {
    "execution": {
     "iopub.execute_input": "2021-11-15T21:30:09.197172Z",
     "iopub.status.busy": "2021-11-15T21:30:09.194811Z",
     "iopub.status.idle": "2021-11-15T21:30:10.040141Z",
     "shell.execute_reply": "2021-11-15T21:30:10.042314Z"
    },
    "papermill": {
     "duration": 0.880313,
     "end_time": "2021-11-15T21:30:10.042796",
     "exception": false,
     "start_time": "2021-11-15T21:30:09.162483",
     "status": "completed"
    },
    "tags": []
   },
   "outputs": [],
   "source": [
    "timestamps = pd.read_sql(\"select distinct record_time from EBAY_TOP_BERLIN order by record_time desc limit 2\", sqlite3.connect(\"UsedObjects.db\"))"
   ]
  },
  {
   "cell_type": "code",
   "execution_count": 3,
   "id": "periodic-identification",
   "metadata": {
    "execution": {
     "iopub.execute_input": "2021-11-15T21:30:10.108787Z",
     "iopub.status.busy": "2021-11-15T21:30:10.106496Z",
     "iopub.status.idle": "2021-11-15T21:30:10.137756Z",
     "shell.execute_reply": "2021-11-15T21:30:10.135305Z"
    },
    "papermill": {
     "duration": 0.074835,
     "end_time": "2021-11-15T21:30:10.138245",
     "exception": false,
     "start_time": "2021-11-15T21:30:10.063410",
     "status": "completed"
    },
    "tags": []
   },
   "outputs": [
    {
     "data": {
      "text/html": [
       "<div>\n",
       "<style scoped>\n",
       "    .dataframe tbody tr th:only-of-type {\n",
       "        vertical-align: middle;\n",
       "    }\n",
       "\n",
       "    .dataframe tbody tr th {\n",
       "        vertical-align: top;\n",
       "    }\n",
       "\n",
       "    .dataframe thead th {\n",
       "        text-align: right;\n",
       "    }\n",
       "</style>\n",
       "<table border=\"1\" class=\"dataframe\">\n",
       "  <thead>\n",
       "    <tr style=\"text-align: right;\">\n",
       "      <th></th>\n",
       "      <th>RECORD_TIME</th>\n",
       "    </tr>\n",
       "  </thead>\n",
       "  <tbody>\n",
       "    <tr>\n",
       "      <th>0</th>\n",
       "      <td>2021-11-15 22:30</td>\n",
       "    </tr>\n",
       "    <tr>\n",
       "      <th>1</th>\n",
       "      <td>2021-11-15 22:00</td>\n",
       "    </tr>\n",
       "  </tbody>\n",
       "</table>\n",
       "</div>"
      ],
      "text/plain": [
       "        RECORD_TIME\n",
       "0  2021-11-15 22:30\n",
       "1  2021-11-15 22:00"
      ]
     },
     "execution_count": 3,
     "metadata": {},
     "output_type": "execute_result"
    }
   ],
   "source": [
    "timestamps"
   ]
  },
  {
   "cell_type": "code",
   "execution_count": 4,
   "id": "alternate-victory",
   "metadata": {
    "execution": {
     "iopub.execute_input": "2021-11-15T21:30:10.192862Z",
     "iopub.status.busy": "2021-11-15T21:30:10.190508Z",
     "iopub.status.idle": "2021-11-15T21:30:11.418265Z",
     "shell.execute_reply": "2021-11-15T21:30:11.419616Z"
    },
    "papermill": {
     "duration": 1.25866,
     "end_time": "2021-11-15T21:30:11.420111",
     "exception": false,
     "start_time": "2021-11-15T21:30:10.161451",
     "status": "completed"
    },
    "tags": []
   },
   "outputs": [],
   "source": [
    "df = pd.read_sql(\"select * from EBAY_TOP_BERLIN where record_time in (select distinct record_time from EBAY_TOP_BERLIN order by record_time desc limit 2)\", sqlite3.connect(\"UsedObjects.db\"))"
   ]
  },
  {
   "cell_type": "code",
   "execution_count": 5,
   "id": "popular-active",
   "metadata": {
    "execution": {
     "iopub.execute_input": "2021-11-15T21:30:11.500912Z",
     "iopub.status.busy": "2021-11-15T21:30:11.494034Z",
     "iopub.status.idle": "2021-11-15T21:30:11.519995Z",
     "shell.execute_reply": "2021-11-15T21:30:11.521565Z"
    },
    "papermill": {
     "duration": 0.080246,
     "end_time": "2021-11-15T21:30:11.522048",
     "exception": false,
     "start_time": "2021-11-15T21:30:11.441802",
     "status": "completed"
    },
    "tags": []
   },
   "outputs": [],
   "source": [
    "df_pivot = df.pivot_table(index=\"PRODUCT\", columns = \"RECORD_TIME\", values = \"LISTING_COUNT\")"
   ]
  },
  {
   "cell_type": "code",
   "execution_count": 6,
   "id": "union-huntington",
   "metadata": {
    "execution": {
     "iopub.execute_input": "2021-11-15T21:30:11.584937Z",
     "iopub.status.busy": "2021-11-15T21:30:11.582551Z",
     "iopub.status.idle": "2021-11-15T21:30:11.588537Z",
     "shell.execute_reply": "2021-11-15T21:30:11.590212Z"
    },
    "papermill": {
     "duration": 0.046929,
     "end_time": "2021-11-15T21:30:11.590699",
     "exception": false,
     "start_time": "2021-11-15T21:30:11.543770",
     "status": "completed"
    },
    "tags": []
   },
   "outputs": [],
   "source": [
    "df_pivot.columns = [\"stamp_1\", \"stamp_2\"]\n",
    "df_pivot_diff = df_pivot.diff(axis=1)"
   ]
  },
  {
   "cell_type": "code",
   "execution_count": 7,
   "id": "fifth-motion",
   "metadata": {
    "execution": {
     "iopub.execute_input": "2021-11-15T21:30:11.647962Z",
     "iopub.status.busy": "2021-11-15T21:30:11.645500Z",
     "iopub.status.idle": "2021-11-15T21:30:13.609916Z",
     "shell.execute_reply": "2021-11-15T21:30:13.612336Z"
    },
    "papermill": {
     "duration": 2.001566,
     "end_time": "2021-11-15T21:30:13.613064",
     "exception": false,
     "start_time": "2021-11-15T21:30:11.611498",
     "status": "completed"
    },
    "tags": []
   },
   "outputs": [
    {
     "data": {
      "text/plain": [
       "<AxesSubplot:ylabel='PRODUCT'>"
      ]
     },
     "execution_count": 7,
     "metadata": {},
     "output_type": "execute_result"
    },
    {
     "data": {
      "image/png": "[encoded data removed]",
      "text/plain": [
       "<Figure size 432x288 with 1 Axes>"
      ]
     },
     "metadata": {
      "needs_background": "light"
     },
     "output_type": "display_data"
    }
   ],
   "source": [
    "df_pivot_diff.sort_values(\"stamp_2\", ascending = False)[\"stamp_2\"].head(10).plot.barh()"
   ]
  },
  {
   "cell_type": "code",
   "execution_count": null,
   "id": "extra-executive",
   "metadata": {
    "papermill": {
     "duration": 0.037897,
     "end_time": "2021-11-15T21:30:13.685531",
     "exception": false,
     "start_time": "2021-11-15T21:30:13.647634",
     "status": "completed"
    },
    "tags": []
   },
   "outputs": [],
   "source": []
  }
 ],
 "metadata": {
  "kernelspec": {
   "display_name": "Python 3",
   "language": "python",
   "name": "python3"
  },
  "language_info": {
   "codemirror_mode": {
    "name": "ipython",
    "version": 3
   },
   "file_extension": ".py",
   "mimetype": "text/x-python",
   "name": "python",
   "nbconvert_exporter": "python",
   "pygments_lexer": "ipython3",
   "version": "3.9.5"
  },
  "papermill": {
   "default_parameters": {},
   "duration": 9.939327,
   "end_time": "2021-11-15T21:30:15.334385",
   "environment_variables": {},
   "exception": null,
   "input_path": "eBay_Overview.ipynb",
   "output_path": "eBay_Overview.ipynb",
   "parameters": {},
   "start_time": "2021-11-15T21:30:05.395058",
   "version": "2.3.3"
  }
 },
 "nbformat": 4,
 "nbformat_minor": 5
}