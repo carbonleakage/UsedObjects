{
 "cells": [
  {
   "cell_type": "code",
   "execution_count": 1,
   "id": "reverse-picking",
   "metadata": {
    "execution": {
     "iopub.execute_input": "2021-12-01T12:30:07.859878Z",
     "iopub.status.busy": "2021-12-01T12:30:07.857647Z",
     "iopub.status.idle": "2021-12-01T12:30:08.814776Z",
     "shell.execute_reply": "2021-12-01T12:30:08.816340Z"
    },
    "papermill": {
     "duration": 1.007338,
     "end_time": "2021-12-01T12:30:08.817231",
     "exception": false,
     "start_time": "2021-12-01T12:30:07.809893",
     "status": "completed"
    },
    "tags": []
   },
   "outputs": [],
   "source": [
    "import pandas as pd\n",
    "import sqlite3"
   ]
  },
  {
   "cell_type": "code",
   "execution_count": 2,
   "id": "innovative-syndrome",
   "metadata": {
    "execution": {
     "iopub.execute_input": "2021-12-01T12:30:08.872929Z",
     "iopub.status.busy": "2021-12-01T12:30:08.870534Z",
     "iopub.status.idle": "2021-12-01T12:30:09.834969Z",
     "shell.execute_reply": "2021-12-01T12:30:09.836267Z"
    },
    "papermill": {
     "duration": 0.998094,
     "end_time": "2021-12-01T12:30:09.836731",
     "exception": false,
     "start_time": "2021-12-01T12:30:08.838637",
     "status": "completed"
    },
    "tags": []
   },
   "outputs": [],
   "source": [
    "timestamps = pd.read_sql(\"select distinct record_time from EBAY_TOP_BERLIN order by record_time desc limit 2\", sqlite3.connect(\"UsedObjects.db\"))"
   ]
  },
  {
   "cell_type": "code",
   "execution_count": 3,
   "id": "periodic-identification",
   "metadata": {
    "execution": {
     "iopub.execute_input": "2021-12-01T12:30:09.903926Z",
     "iopub.status.busy": "2021-12-01T12:30:09.901889Z",
     "iopub.status.idle": "2021-12-01T12:30:09.921959Z",
     "shell.execute_reply": "2021-12-01T12:30:09.923314Z"
    },
    "papermill": {
     "duration": 0.067237,
     "end_time": "2021-12-01T12:30:09.923732",
     "exception": false,
     "start_time": "2021-12-01T12:30:09.856495",
     "status": "completed"
    },
    "tags": []
   },
   "outputs": [
    {
     "data": {
      "text/html": [
       "<div>\n",
       "<style scoped>\n",
       "    .dataframe tbody tr th:only-of-type {\n",
       "        vertical-align: middle;\n",
       "    }\n",
       "\n",
       "    .dataframe tbody tr th {\n",
       "        vertical-align: top;\n",
       "    }\n",
       "\n",
       "    .dataframe thead th {\n",
       "        text-align: right;\n",
       "    }\n",
       "</style>\n",
       "<table border=\"1\" class=\"dataframe\">\n",
       "  <thead>\n",
       "    <tr style=\"text-align: right;\">\n",
       "      <th></th>\n",
       "      <th>RECORD_TIME</th>\n",
       "    </tr>\n",
       "  </thead>\n",
       "  <tbody>\n",
       "    <tr>\n",
       "      <th>0</th>\n",
       "      <td>2021-12-01 13:30</td>\n",
       "    </tr>\n",
       "    <tr>\n",
       "      <th>1</th>\n",
       "      <td>2021-12-01 13:00</td>\n",
       "    </tr>\n",
       "  </tbody>\n",
       "</table>\n",
       "</div>"
      ],
      "text/plain": [
       "        RECORD_TIME\n",
       "0  2021-12-01 13:30\n",
       "1  2021-12-01 13:00"
      ]
     },
     "execution_count": 3,
     "metadata": {},
     "output_type": "execute_result"
    }
   ],
   "source": [
    "timestamps"
   ]
  },
  {
   "cell_type": "code",
   "execution_count": 4,
   "id": "alternate-victory",
   "metadata": {
    "execution": {
     "iopub.execute_input": "2021-12-01T12:30:09.976332Z",
     "iopub.status.busy": "2021-12-01T12:30:09.974044Z",
     "iopub.status.idle": "2021-12-01T12:30:11.379291Z",
     "shell.execute_reply": "2021-12-01T12:30:11.380968Z"
    },
    "papermill": {
     "duration": 1.436422,
     "end_time": "2021-12-01T12:30:11.381532",
     "exception": false,
     "start_time": "2021-12-01T12:30:09.945110",
     "status": "completed"
    },
    "tags": []
   },
   "outputs": [],
   "source": [
    "df = pd.read_sql(\"select * from EBAY_TOP_BERLIN where record_time in (select distinct record_time from EBAY_TOP_BERLIN order by record_time desc limit 2)\", sqlite3.connect(\"UsedObjects.db\"))"
   ]
  },
  {
   "cell_type": "code",
   "execution_count": 5,
   "id": "popular-active",
   "metadata": {
    "execution": {
     "iopub.execute_input": "2021-12-01T12:30:11.452947Z",
     "iopub.status.busy": "2021-12-01T12:30:11.450139Z",
     "iopub.status.idle": "2021-12-01T12:30:11.483781Z",
     "shell.execute_reply": "2021-12-01T12:30:11.485367Z"
    },
    "papermill": {
     "duration": 0.082732,
     "end_time": "2021-12-01T12:30:11.485840",
     "exception": false,
     "start_time": "2021-12-01T12:30:11.403108",
     "status": "completed"
    },
    "tags": []
   },
   "outputs": [],
   "source": [
    "df_pivot = df.pivot_table(index=\"PRODUCT\", columns = \"RECORD_TIME\", values = \"LISTING_COUNT\")"
   ]
  },
  {
   "cell_type": "code",
   "execution_count": 6,
   "id": "union-huntington",
   "metadata": {
    "execution": {
     "iopub.execute_input": "2021-12-01T12:30:11.544762Z",
     "iopub.status.busy": "2021-12-01T12:30:11.542474Z",
     "iopub.status.idle": "2021-12-01T12:30:11.548321Z",
     "shell.execute_reply": "2021-12-01T12:30:11.549762Z"
    },
    "papermill": {
     "duration": 0.043921,
     "end_time": "2021-12-01T12:30:11.550238",
     "exception": false,
     "start_time": "2021-12-01T12:30:11.506317",
     "status": "completed"
    },
    "tags": []
   },
   "outputs": [],
   "source": [
    "df_pivot.columns = [\"stamp_1\", \"stamp_2\"]\n",
    "df_pivot_diff = df_pivot.diff(axis=1)"
   ]
  },
  {
   "cell_type": "code",
   "execution_count": 7,
   "id": "fifth-motion",
   "metadata": {
    "execution": {
     "iopub.execute_input": "2021-12-01T12:30:11.608062Z",
     "iopub.status.busy": "2021-12-01T12:30:11.605247Z",
     "iopub.status.idle": "2021-12-01T12:30:13.628618Z",
     "shell.execute_reply": "2021-12-01T12:30:13.630548Z"
    },
    "papermill": {
     "duration": 2.060945,
     "end_time": "2021-12-01T12:30:13.631263",
     "exception": false,
     "start_time": "2021-12-01T12:30:11.570318",
     "status": "completed"
    },
    "tags": []
   },
   "outputs": [
    {
     "data": {
      "text/plain": [
       "<AxesSubplot:ylabel='PRODUCT'>"
      ]
     },
     "execution_count": 7,
     "metadata": {},
     "output_type": "execute_result"
    },
    {
     "data": {
      "image/png": "[encoded data removed]",
      "text/plain": [
       "<Figure size 432x288 with 1 Axes>"
      ]
     },
     "metadata": {
      "needs_background": "light"
     },
     "output_type": "display_data"
    }
   ],
   "source": [
    "df_pivot_diff.sort_values(\"stamp_2\", ascending = False)[\"stamp_2\"].head(10).plot.barh()"
   ]
  },
  {
   "cell_type": "code",
   "execution_count": null,
   "id": "extra-executive",
   "metadata": {
    "papermill": {
     "duration": 0.024325,
     "end_time": "2021-12-01T12:30:13.682697",
     "exception": false,
     "start_time": "2021-12-01T12:30:13.658372",
     "status": "completed"
    },
    "tags": []
   },
   "outputs": [],
   "source": []
  }
 ],
 "metadata": {
  "kernelspec": {
   "display_name": "Python 3",
   "language": "python",
   "name": "python3"
  },
  "language_info": {
   "codemirror_mode": {
    "name": "ipython",
    "version": 3
   },
   "file_extension": ".py",
   "mimetype": "text/x-python",
   "name": "python",
   "nbconvert_exporter": "python",
   "pygments_lexer": "ipython3",
   "version": "3.9.5"
  },
  "papermill": {
   "default_parameters": {},
   "duration": 9.936301,
   "end_time": "2021-12-01T12:30:15.034063",
   "environment_variables": {},
   "exception": null,
   "input_path": "eBay_Overview.ipynb",
   "output_path": "eBay_Overview.ipynb",
   "parameters": {},
   "start_time": "2021-12-01T12:30:05.097762",
   "version": "2.3.3"
  }
 },
 "nbformat": 4,
 "nbformat_minor": 5
}