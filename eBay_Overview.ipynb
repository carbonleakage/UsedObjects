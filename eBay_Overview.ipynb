{
 "cells": [
  {
   "cell_type": "code",
   "execution_count": 1,
   "id": "reverse-picking",
   "metadata": {
    "execution": {
     "iopub.execute_input": "2021-08-15T16:30:07.020713Z",
     "iopub.status.busy": "2021-08-15T16:30:07.018766Z",
     "iopub.status.idle": "2021-08-15T16:30:07.825632Z",
     "shell.execute_reply": "2021-08-15T16:30:07.826980Z"
    },
    "papermill": {
     "duration": 0.859183,
     "end_time": "2021-08-15T16:30:07.827598",
     "exception": false,
     "start_time": "2021-08-15T16:30:06.968415",
     "status": "completed"
    },
    "tags": []
   },
   "outputs": [],
   "source": [
    "import pandas as pd\n",
    "import sqlite3"
   ]
  },
  {
   "cell_type": "code",
   "execution_count": 2,
   "id": "innovative-syndrome",
   "metadata": {
    "execution": {
     "iopub.execute_input": "2021-08-15T16:30:07.879410Z",
     "iopub.status.busy": "2021-08-15T16:30:07.877257Z",
     "iopub.status.idle": "2021-08-15T16:30:07.934030Z",
     "shell.execute_reply": "2021-08-15T16:30:07.935397Z"
    },
    "papermill": {
     "duration": 0.086607,
     "end_time": "2021-08-15T16:30:07.935817",
     "exception": false,
     "start_time": "2021-08-15T16:30:07.849210",
     "status": "completed"
    },
    "tags": []
   },
   "outputs": [],
   "source": [
    "timestamps = pd.read_sql(\"select distinct record_time from EBAY_TOP_BERLIN order by record_time desc limit 2\", sqlite3.connect(\"UsedObjects.db\"))"
   ]
  },
  {
   "cell_type": "code",
   "execution_count": 3,
   "id": "periodic-identification",
   "metadata": {
    "execution": {
     "iopub.execute_input": "2021-08-15T16:30:08.003631Z",
     "iopub.status.busy": "2021-08-15T16:30:07.997985Z",
     "iopub.status.idle": "2021-08-15T16:30:08.019355Z",
     "shell.execute_reply": "2021-08-15T16:30:08.020726Z"
    },
    "papermill": {
     "duration": 0.065834,
     "end_time": "2021-08-15T16:30:08.021153",
     "exception": false,
     "start_time": "2021-08-15T16:30:07.955319",
     "status": "completed"
    },
    "tags": []
   },
   "outputs": [
    {
     "data": {
      "text/html": [
       "<div>\n",
       "<style scoped>\n",
       "    .dataframe tbody tr th:only-of-type {\n",
       "        vertical-align: middle;\n",
       "    }\n",
       "\n",
       "    .dataframe tbody tr th {\n",
       "        vertical-align: top;\n",
       "    }\n",
       "\n",
       "    .dataframe thead th {\n",
       "        text-align: right;\n",
       "    }\n",
       "</style>\n",
       "<table border=\"1\" class=\"dataframe\">\n",
       "  <thead>\n",
       "    <tr style=\"text-align: right;\">\n",
       "      <th></th>\n",
       "      <th>RECORD_TIME</th>\n",
       "    </tr>\n",
       "  </thead>\n",
       "  <tbody>\n",
       "    <tr>\n",
       "      <th>0</th>\n",
       "      <td>2021-08-15 18:30</td>\n",
       "    </tr>\n",
       "    <tr>\n",
       "      <th>1</th>\n",
       "      <td>2021-08-15 18:00</td>\n",
       "    </tr>\n",
       "  </tbody>\n",
       "</table>\n",
       "</div>"
      ],
      "text/plain": [
       "        RECORD_TIME\n",
       "0  2021-08-15 18:30\n",
       "1  2021-08-15 18:00"
      ]
     },
     "execution_count": 3,
     "metadata": {},
     "output_type": "execute_result"
    }
   ],
   "source": [
    "timestamps"
   ]
  },
  {
   "cell_type": "code",
   "execution_count": 4,
   "id": "alternate-victory",
   "metadata": {
    "execution": {
     "iopub.execute_input": "2021-08-15T16:30:08.072839Z",
     "iopub.status.busy": "2021-08-15T16:30:08.070890Z",
     "iopub.status.idle": "2021-08-15T16:30:08.154153Z",
     "shell.execute_reply": "2021-08-15T16:30:08.155618Z"
    },
    "papermill": {
     "duration": 0.114121,
     "end_time": "2021-08-15T16:30:08.156048",
     "exception": false,
     "start_time": "2021-08-15T16:30:08.041927",
     "status": "completed"
    },
    "tags": []
   },
   "outputs": [],
   "source": [
    "df = pd.read_sql(\"select * from EBAY_TOP_BERLIN where record_time in (select distinct record_time from EBAY_TOP_BERLIN order by record_time desc limit 2)\", sqlite3.connect(\"UsedObjects.db\"))"
   ]
  },
  {
   "cell_type": "code",
   "execution_count": 5,
   "id": "popular-active",
   "metadata": {
    "execution": {
     "iopub.execute_input": "2021-08-15T16:30:08.221196Z",
     "iopub.status.busy": "2021-08-15T16:30:08.213956Z",
     "iopub.status.idle": "2021-08-15T16:30:08.241177Z",
     "shell.execute_reply": "2021-08-15T16:30:08.242607Z"
    },
    "papermill": {
     "duration": 0.06619,
     "end_time": "2021-08-15T16:30:08.243021",
     "exception": false,
     "start_time": "2021-08-15T16:30:08.176831",
     "status": "completed"
    },
    "tags": []
   },
   "outputs": [],
   "source": [
    "df_pivot = df.pivot_table(index=\"PRODUCT\", columns = \"RECORD_TIME\", values = \"LISTING_COUNT\")"
   ]
  },
  {
   "cell_type": "code",
   "execution_count": 6,
   "id": "union-huntington",
   "metadata": {
    "execution": {
     "iopub.execute_input": "2021-08-15T16:30:08.301469Z",
     "iopub.status.busy": "2021-08-15T16:30:08.299128Z",
     "iopub.status.idle": "2021-08-15T16:30:08.304881Z",
     "shell.execute_reply": "2021-08-15T16:30:08.306143Z"
    },
    "papermill": {
     "duration": 0.042129,
     "end_time": "2021-08-15T16:30:08.306579",
     "exception": false,
     "start_time": "2021-08-15T16:30:08.264450",
     "status": "completed"
    },
    "tags": []
   },
   "outputs": [],
   "source": [
    "df_pivot.columns = [\"stamp_1\", \"stamp_2\"]\n",
    "df_pivot_diff = df_pivot.diff(axis=1)"
   ]
  },
  {
   "cell_type": "code",
   "execution_count": 7,
   "id": "fifth-motion",
   "metadata": {
    "execution": {
     "iopub.execute_input": "2021-08-15T16:30:08.361600Z",
     "iopub.status.busy": "2021-08-15T16:30:08.359397Z",
     "iopub.status.idle": "2021-08-15T16:30:09.872863Z",
     "shell.execute_reply": "2021-08-15T16:30:09.874270Z"
    },
    "papermill": {
     "duration": 1.546405,
     "end_time": "2021-08-15T16:30:09.874739",
     "exception": false,
     "start_time": "2021-08-15T16:30:08.328334",
     "status": "completed"
    },
    "tags": []
   },
   "outputs": [
    {
     "data": {
      "text/plain": [
       "<AxesSubplot:ylabel='PRODUCT'>"
      ]
     },
     "execution_count": 7,
     "metadata": {},
     "output_type": "execute_result"
    },
    {
     "data": {
      "image/png": "[encoded data removed]",
      "text/plain": [
       "<Figure size 432x288 with 1 Axes>"
      ]
     },
     "metadata": {
      "needs_background": "light"
     },
     "output_type": "display_data"
    }
   ],
   "source": [
    "df_pivot_diff.sort_values(\"stamp_2\", ascending = False)[\"stamp_2\"].head(10).plot.barh()"
   ]
  },
  {
   "cell_type": "code",
   "execution_count": null,
   "id": "extra-executive",
   "metadata": {
    "papermill": {
     "duration": 0.022408,
     "end_time": "2021-08-15T16:30:09.921533",
     "exception": false,
     "start_time": "2021-08-15T16:30:09.899125",
     "status": "completed"
    },
    "tags": []
   },
   "outputs": [],
   "source": []
  }
 ],
 "metadata": {
  "kernelspec": {
   "display_name": "Python 3",
   "language": "python",
   "name": "python3"
  },
  "language_info": {
   "codemirror_mode": {
    "name": "ipython",
    "version": 3
   },
   "file_extension": ".py",
   "mimetype": "text/x-python",
   "name": "python",
   "nbconvert_exporter": "python",
   "pygments_lexer": "ipython3",
   "version": "3.9.5"
  },
  "papermill": {
   "default_parameters": {},
   "duration": 6.827156,
   "end_time": "2021-08-15T16:30:11.378233",
   "environment_variables": {},
   "exception": null,
   "input_path": "eBay_Overview.ipynb",
   "output_path": "eBay_Overview.ipynb",
   "parameters": {},
   "start_time": "2021-08-15T16:30:04.551077",
   "version": "2.3.3"
  }
 },
 "nbformat": 4,
 "nbformat_minor": 5
}