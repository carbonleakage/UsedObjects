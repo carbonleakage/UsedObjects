{
 "cells": [
  {
   "cell_type": "code",
   "execution_count": 1,
   "id": "reverse-picking",
   "metadata": {
    "execution": {
     "iopub.execute_input": "2021-09-24T16:00:06.681074Z",
     "iopub.status.busy": "2021-09-24T16:00:06.679119Z",
     "iopub.status.idle": "2021-09-24T16:00:07.484272Z",
     "shell.execute_reply": "2021-09-24T16:00:07.485511Z"
    },
    "papermill": {
     "duration": 0.857294,
     "end_time": "2021-09-24T16:00:07.486124",
     "exception": false,
     "start_time": "2021-09-24T16:00:06.628830",
     "status": "completed"
    },
    "tags": []
   },
   "outputs": [],
   "source": [
    "import pandas as pd\n",
    "import sqlite3"
   ]
  },
  {
   "cell_type": "code",
   "execution_count": 2,
   "id": "innovative-syndrome",
   "metadata": {
    "execution": {
     "iopub.execute_input": "2021-09-24T16:00:07.537711Z",
     "iopub.status.busy": "2021-09-24T16:00:07.535839Z",
     "iopub.status.idle": "2021-09-24T16:00:07.905102Z",
     "shell.execute_reply": "2021-09-24T16:00:07.906308Z"
    },
    "papermill": {
     "duration": 0.39884,
     "end_time": "2021-09-24T16:00:07.906705",
     "exception": false,
     "start_time": "2021-09-24T16:00:07.507865",
     "status": "completed"
    },
    "tags": []
   },
   "outputs": [],
   "source": [
    "timestamps = pd.read_sql(\"select distinct record_time from EBAY_TOP_BERLIN order by record_time desc limit 2\", sqlite3.connect(\"UsedObjects.db\"))"
   ]
  },
  {
   "cell_type": "code",
   "execution_count": 3,
   "id": "periodic-identification",
   "metadata": {
    "execution": {
     "iopub.execute_input": "2021-09-24T16:00:07.969974Z",
     "iopub.status.busy": "2021-09-24T16:00:07.967937Z",
     "iopub.status.idle": "2021-09-24T16:00:07.987742Z",
     "shell.execute_reply": "2021-09-24T16:00:07.988888Z"
    },
    "papermill": {
     "duration": 0.063069,
     "end_time": "2021-09-24T16:00:07.989296",
     "exception": false,
     "start_time": "2021-09-24T16:00:07.926227",
     "status": "completed"
    },
    "tags": []
   },
   "outputs": [
    {
     "data": {
      "text/html": [
       "<div>\n",
       "<style scoped>\n",
       "    .dataframe tbody tr th:only-of-type {\n",
       "        vertical-align: middle;\n",
       "    }\n",
       "\n",
       "    .dataframe tbody tr th {\n",
       "        vertical-align: top;\n",
       "    }\n",
       "\n",
       "    .dataframe thead th {\n",
       "        text-align: right;\n",
       "    }\n",
       "</style>\n",
       "<table border=\"1\" class=\"dataframe\">\n",
       "  <thead>\n",
       "    <tr style=\"text-align: right;\">\n",
       "      <th></th>\n",
       "      <th>RECORD_TIME</th>\n",
       "    </tr>\n",
       "  </thead>\n",
       "  <tbody>\n",
       "    <tr>\n",
       "      <th>0</th>\n",
       "      <td>2021-09-24 18:00</td>\n",
       "    </tr>\n",
       "    <tr>\n",
       "      <th>1</th>\n",
       "      <td>2021-09-24 17:30</td>\n",
       "    </tr>\n",
       "  </tbody>\n",
       "</table>\n",
       "</div>"
      ],
      "text/plain": [
       "        RECORD_TIME\n",
       "0  2021-09-24 18:00\n",
       "1  2021-09-24 17:30"
      ]
     },
     "execution_count": 3,
     "metadata": {},
     "output_type": "execute_result"
    }
   ],
   "source": [
    "timestamps"
   ]
  },
  {
   "cell_type": "code",
   "execution_count": 4,
   "id": "alternate-victory",
   "metadata": {
    "execution": {
     "iopub.execute_input": "2021-09-24T16:00:08.043682Z",
     "iopub.status.busy": "2021-09-24T16:00:08.040965Z",
     "iopub.status.idle": "2021-09-24T16:00:08.587079Z",
     "shell.execute_reply": "2021-09-24T16:00:08.588316Z"
    },
    "papermill": {
     "duration": 0.576524,
     "end_time": "2021-09-24T16:00:08.588712",
     "exception": false,
     "start_time": "2021-09-24T16:00:08.012188",
     "status": "completed"
    },
    "tags": []
   },
   "outputs": [],
   "source": [
    "df = pd.read_sql(\"select * from EBAY_TOP_BERLIN where record_time in (select distinct record_time from EBAY_TOP_BERLIN order by record_time desc limit 2)\", sqlite3.connect(\"UsedObjects.db\"))"
   ]
  },
  {
   "cell_type": "code",
   "execution_count": 5,
   "id": "popular-active",
   "metadata": {
    "execution": {
     "iopub.execute_input": "2021-09-24T16:00:08.671533Z",
     "iopub.status.busy": "2021-09-24T16:00:08.659921Z",
     "iopub.status.idle": "2021-09-24T16:00:08.686735Z",
     "shell.execute_reply": "2021-09-24T16:00:08.688200Z"
    },
    "papermill": {
     "duration": 0.070843,
     "end_time": "2021-09-24T16:00:08.688626",
     "exception": false,
     "start_time": "2021-09-24T16:00:08.617783",
     "status": "completed"
    },
    "tags": []
   },
   "outputs": [],
   "source": [
    "df_pivot = df.pivot_table(index=\"PRODUCT\", columns = \"RECORD_TIME\", values = \"LISTING_COUNT\")"
   ]
  },
  {
   "cell_type": "code",
   "execution_count": 6,
   "id": "union-huntington",
   "metadata": {
    "execution": {
     "iopub.execute_input": "2021-09-24T16:00:08.744995Z",
     "iopub.status.busy": "2021-09-24T16:00:08.742836Z",
     "iopub.status.idle": "2021-09-24T16:00:08.748391Z",
     "shell.execute_reply": "2021-09-24T16:00:08.749791Z"
    },
    "papermill": {
     "duration": 0.040863,
     "end_time": "2021-09-24T16:00:08.750232",
     "exception": false,
     "start_time": "2021-09-24T16:00:08.709369",
     "status": "completed"
    },
    "tags": []
   },
   "outputs": [],
   "source": [
    "df_pivot.columns = [\"stamp_1\", \"stamp_2\"]\n",
    "df_pivot_diff = df_pivot.diff(axis=1)"
   ]
  },
  {
   "cell_type": "code",
   "execution_count": 7,
   "id": "fifth-motion",
   "metadata": {
    "execution": {
     "iopub.execute_input": "2021-09-24T16:00:08.805047Z",
     "iopub.status.busy": "2021-09-24T16:00:08.802572Z",
     "iopub.status.idle": "2021-09-24T16:00:10.271984Z",
     "shell.execute_reply": "2021-09-24T16:00:10.273369Z"
    },
    "papermill": {
     "duration": 1.502854,
     "end_time": "2021-09-24T16:00:10.273810",
     "exception": false,
     "start_time": "2021-09-24T16:00:08.770956",
     "status": "completed"
    },
    "tags": []
   },
   "outputs": [
    {
     "data": {
      "text/plain": [
       "<AxesSubplot:ylabel='PRODUCT'>"
      ]
     },
     "execution_count": 7,
     "metadata": {},
     "output_type": "execute_result"
    },
    {
     "data": {
      "image/png": "[encoded data removed]",
      "text/plain": [
       "<Figure size 432x288 with 1 Axes>"
      ]
     },
     "metadata": {
      "needs_background": "light"
     },
     "output_type": "display_data"
    }
   ],
   "source": [
    "df_pivot_diff.sort_values(\"stamp_2\", ascending = False)[\"stamp_2\"].head(10).plot.barh()"
   ]
  },
  {
   "cell_type": "code",
   "execution_count": null,
   "id": "extra-executive",
   "metadata": {
    "papermill": {
     "duration": 0.022205,
     "end_time": "2021-09-24T16:00:10.320357",
     "exception": false,
     "start_time": "2021-09-24T16:00:10.298152",
     "status": "completed"
    },
    "tags": []
   },
   "outputs": [],
   "source": []
  }
 ],
 "metadata": {
  "kernelspec": {
   "display_name": "Python 3",
   "language": "python",
   "name": "python3"
  },
  "language_info": {
   "codemirror_mode": {
    "name": "ipython",
    "version": 3
   },
   "file_extension": ".py",
   "mimetype": "text/x-python",
   "name": "python",
   "nbconvert_exporter": "python",
   "pygments_lexer": "ipython3",
   "version": "3.9.5"
  },
  "papermill": {
   "default_parameters": {},
   "duration": 6.74295,
   "end_time": "2021-09-24T16:00:10.963470",
   "environment_variables": {},
   "exception": null,
   "input_path": "eBay_Overview.ipynb",
   "output_path": "eBay_Overview.ipynb",
   "parameters": {},
   "start_time": "2021-09-24T16:00:04.220520",
   "version": "2.3.3"
  }
 },
 "nbformat": 4,
 "nbformat_minor": 5
}