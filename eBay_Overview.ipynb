{
 "cells": [
  {
   "cell_type": "code",
   "execution_count": 1,
   "id": "reverse-picking",
   "metadata": {
    "execution": {
     "iopub.execute_input": "2021-12-11T16:00:07.633618Z",
     "iopub.status.busy": "2021-12-11T16:00:07.630926Z",
     "iopub.status.idle": "2021-12-11T16:00:08.577684Z",
     "shell.execute_reply": "2021-12-11T16:00:08.579213Z"
    },
    "papermill": {
     "duration": 0.99599,
     "end_time": "2021-12-11T16:00:08.579969",
     "exception": false,
     "start_time": "2021-12-11T16:00:07.583979",
     "status": "completed"
    },
    "tags": []
   },
   "outputs": [],
   "source": [
    "import pandas as pd\n",
    "import sqlite3"
   ]
  },
  {
   "cell_type": "code",
   "execution_count": 2,
   "id": "innovative-syndrome",
   "metadata": {
    "execution": {
     "iopub.execute_input": "2021-12-11T16:00:08.642958Z",
     "iopub.status.busy": "2021-12-11T16:00:08.640479Z",
     "iopub.status.idle": "2021-12-11T16:00:09.698585Z",
     "shell.execute_reply": "2021-12-11T16:00:09.700234Z"
    },
    "papermill": {
     "duration": 1.093152,
     "end_time": "2021-12-11T16:00:09.700782",
     "exception": false,
     "start_time": "2021-12-11T16:00:08.607630",
     "status": "completed"
    },
    "tags": []
   },
   "outputs": [],
   "source": [
    "timestamps = pd.read_sql(\"select distinct record_time from EBAY_TOP_BERLIN order by record_time desc limit 2\", sqlite3.connect(\"UsedObjects.db\"))"
   ]
  },
  {
   "cell_type": "code",
   "execution_count": 3,
   "id": "periodic-identification",
   "metadata": {
    "execution": {
     "iopub.execute_input": "2021-12-11T16:00:09.770608Z",
     "iopub.status.busy": "2021-12-11T16:00:09.768136Z",
     "iopub.status.idle": "2021-12-11T16:00:09.792083Z",
     "shell.execute_reply": "2021-12-11T16:00:09.790187Z"
    },
    "papermill": {
     "duration": 0.071706,
     "end_time": "2021-12-11T16:00:09.792484",
     "exception": false,
     "start_time": "2021-12-11T16:00:09.720778",
     "status": "completed"
    },
    "tags": []
   },
   "outputs": [
    {
     "data": {
      "text/html": [
       "<div>\n",
       "<style scoped>\n",
       "    .dataframe tbody tr th:only-of-type {\n",
       "        vertical-align: middle;\n",
       "    }\n",
       "\n",
       "    .dataframe tbody tr th {\n",
       "        vertical-align: top;\n",
       "    }\n",
       "\n",
       "    .dataframe thead th {\n",
       "        text-align: right;\n",
       "    }\n",
       "</style>\n",
       "<table border=\"1\" class=\"dataframe\">\n",
       "  <thead>\n",
       "    <tr style=\"text-align: right;\">\n",
       "      <th></th>\n",
       "      <th>RECORD_TIME</th>\n",
       "    </tr>\n",
       "  </thead>\n",
       "  <tbody>\n",
       "    <tr>\n",
       "      <th>0</th>\n",
       "      <td>2021-12-11 17:00</td>\n",
       "    </tr>\n",
       "    <tr>\n",
       "      <th>1</th>\n",
       "      <td>2021-12-11 16:30</td>\n",
       "    </tr>\n",
       "  </tbody>\n",
       "</table>\n",
       "</div>"
      ],
      "text/plain": [
       "        RECORD_TIME\n",
       "0  2021-12-11 17:00\n",
       "1  2021-12-11 16:30"
      ]
     },
     "execution_count": 3,
     "metadata": {},
     "output_type": "execute_result"
    }
   ],
   "source": [
    "timestamps"
   ]
  },
  {
   "cell_type": "code",
   "execution_count": 4,
   "id": "alternate-victory",
   "metadata": {
    "execution": {
     "iopub.execute_input": "2021-12-11T16:00:09.848585Z",
     "iopub.status.busy": "2021-12-11T16:00:09.846355Z",
     "iopub.status.idle": "2021-12-11T16:00:11.365109Z",
     "shell.execute_reply": "2021-12-11T16:00:11.366567Z"
    },
    "papermill": {
     "duration": 1.553091,
     "end_time": "2021-12-11T16:00:11.367085",
     "exception": false,
     "start_time": "2021-12-11T16:00:09.813994",
     "status": "completed"
    },
    "tags": []
   },
   "outputs": [],
   "source": [
    "df = pd.read_sql(\"select * from EBAY_TOP_BERLIN where record_time in (select distinct record_time from EBAY_TOP_BERLIN order by record_time desc limit 2)\", sqlite3.connect(\"UsedObjects.db\"))"
   ]
  },
  {
   "cell_type": "code",
   "execution_count": 5,
   "id": "popular-active",
   "metadata": {
    "execution": {
     "iopub.execute_input": "2021-12-11T16:00:11.444815Z",
     "iopub.status.busy": "2021-12-11T16:00:11.431310Z",
     "iopub.status.idle": "2021-12-11T16:00:11.462128Z",
     "shell.execute_reply": "2021-12-11T16:00:11.463336Z"
    },
    "papermill": {
     "duration": 0.073616,
     "end_time": "2021-12-11T16:00:11.463840",
     "exception": false,
     "start_time": "2021-12-11T16:00:11.390224",
     "status": "completed"
    },
    "tags": []
   },
   "outputs": [],
   "source": [
    "df_pivot = df.pivot_table(index=\"PRODUCT\", columns = \"RECORD_TIME\", values = \"LISTING_COUNT\")"
   ]
  },
  {
   "cell_type": "code",
   "execution_count": 6,
   "id": "union-huntington",
   "metadata": {
    "execution": {
     "iopub.execute_input": "2021-12-11T16:00:11.526465Z",
     "iopub.status.busy": "2021-12-11T16:00:11.523539Z",
     "iopub.status.idle": "2021-12-11T16:00:11.530106Z",
     "shell.execute_reply": "2021-12-11T16:00:11.531529Z"
    },
    "papermill": {
     "duration": 0.04705,
     "end_time": "2021-12-11T16:00:11.532012",
     "exception": false,
     "start_time": "2021-12-11T16:00:11.484962",
     "status": "completed"
    },
    "tags": []
   },
   "outputs": [],
   "source": [
    "df_pivot.columns = [\"stamp_1\", \"stamp_2\"]\n",
    "df_pivot_diff = df_pivot.diff(axis=1)"
   ]
  },
  {
   "cell_type": "code",
   "execution_count": 7,
   "id": "fifth-motion",
   "metadata": {
    "execution": {
     "iopub.execute_input": "2021-12-11T16:00:11.591945Z",
     "iopub.status.busy": "2021-12-11T16:00:11.589438Z",
     "iopub.status.idle": "2021-12-11T16:00:13.471075Z",
     "shell.execute_reply": "2021-12-11T16:00:13.472273Z"
    },
    "papermill": {
     "duration": 1.919019,
     "end_time": "2021-12-11T16:00:13.472764",
     "exception": false,
     "start_time": "2021-12-11T16:00:11.553745",
     "status": "completed"
    },
    "tags": []
   },
   "outputs": [
    {
     "data": {
      "text/plain": [
       "<AxesSubplot:ylabel='PRODUCT'>"
      ]
     },
     "execution_count": 7,
     "metadata": {},
     "output_type": "execute_result"
    },
    {
     "data": {
      "image/png": "[encoded data removed]",
      "text/plain": [
       "<Figure size 432x288 with 1 Axes>"
      ]
     },
     "metadata": {
      "needs_background": "light"
     },
     "output_type": "display_data"
    }
   ],
   "source": [
    "df_pivot_diff.sort_values(\"stamp_2\", ascending = False)[\"stamp_2\"].head(10).plot.barh()"
   ]
  },
  {
   "cell_type": "code",
   "execution_count": null,
   "id": "extra-executive",
   "metadata": {
    "papermill": {
     "duration": 0.023417,
     "end_time": "2021-12-11T16:00:13.520924",
     "exception": false,
     "start_time": "2021-12-11T16:00:13.497507",
     "status": "completed"
    },
    "tags": []
   },
   "outputs": [],
   "source": []
  }
 ],
 "metadata": {
  "kernelspec": {
   "display_name": "Python 3",
   "language": "python",
   "name": "python3"
  },
  "language_info": {
   "codemirror_mode": {
    "name": "ipython",
    "version": 3
   },
   "file_extension": ".py",
   "mimetype": "text/x-python",
   "name": "python",
   "nbconvert_exporter": "python",
   "pygments_lexer": "ipython3",
   "version": "3.9.5"
  },
  "papermill": {
   "default_parameters": {},
   "duration": 10.005681,
   "end_time": "2021-12-11T16:00:14.792028",
   "environment_variables": {},
   "exception": null,
   "input_path": "eBay_Overview.ipynb",
   "output_path": "eBay_Overview.ipynb",
   "parameters": {},
   "start_time": "2021-12-11T16:00:04.786347",
   "version": "2.3.3"
  }
 },
 "nbformat": 4,
 "nbformat_minor": 5
}