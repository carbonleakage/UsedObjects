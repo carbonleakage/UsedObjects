{
 "cells": [
  {
   "cell_type": "code",
   "execution_count": 1,
   "id": "reverse-picking",
   "metadata": {
    "execution": {
     "iopub.execute_input": "2021-08-14T10:00:07.396430Z",
     "iopub.status.busy": "2021-08-14T10:00:07.394475Z",
     "iopub.status.idle": "2021-08-14T10:00:08.205456Z",
     "shell.execute_reply": "2021-08-14T10:00:08.206987Z"
    },
    "papermill": {
     "duration": 0.863436,
     "end_time": "2021-08-14T10:00:08.207648",
     "exception": false,
     "start_time": "2021-08-14T10:00:07.344212",
     "status": "completed"
    },
    "tags": []
   },
   "outputs": [],
   "source": [
    "import pandas as pd\n",
    "import sqlite3"
   ]
  },
  {
   "cell_type": "code",
   "execution_count": 2,
   "id": "innovative-syndrome",
   "metadata": {
    "execution": {
     "iopub.execute_input": "2021-08-14T10:00:08.258668Z",
     "iopub.status.busy": "2021-08-14T10:00:08.256518Z",
     "iopub.status.idle": "2021-08-14T10:00:08.303561Z",
     "shell.execute_reply": "2021-08-14T10:00:08.304758Z"
    },
    "papermill": {
     "duration": 0.077302,
     "end_time": "2021-08-14T10:00:08.305159",
     "exception": false,
     "start_time": "2021-08-14T10:00:08.227857",
     "status": "completed"
    },
    "tags": []
   },
   "outputs": [],
   "source": [
    "timestamps = pd.read_sql(\"select distinct record_time from EBAY_TOP_BERLIN order by record_time desc limit 2\", sqlite3.connect(\"UsedObjects.db\"))"
   ]
  },
  {
   "cell_type": "code",
   "execution_count": 3,
   "id": "periodic-identification",
   "metadata": {
    "execution": {
     "iopub.execute_input": "2021-08-14T10:00:08.375460Z",
     "iopub.status.busy": "2021-08-14T10:00:08.370354Z",
     "iopub.status.idle": "2021-08-14T10:00:08.390468Z",
     "shell.execute_reply": "2021-08-14T10:00:08.391769Z"
    },
    "papermill": {
     "duration": 0.065906,
     "end_time": "2021-08-14T10:00:08.392185",
     "exception": false,
     "start_time": "2021-08-14T10:00:08.326279",
     "status": "completed"
    },
    "tags": []
   },
   "outputs": [
    {
     "data": {
      "text/html": [
       "<div>\n",
       "<style scoped>\n",
       "    .dataframe tbody tr th:only-of-type {\n",
       "        vertical-align: middle;\n",
       "    }\n",
       "\n",
       "    .dataframe tbody tr th {\n",
       "        vertical-align: top;\n",
       "    }\n",
       "\n",
       "    .dataframe thead th {\n",
       "        text-align: right;\n",
       "    }\n",
       "</style>\n",
       "<table border=\"1\" class=\"dataframe\">\n",
       "  <thead>\n",
       "    <tr style=\"text-align: right;\">\n",
       "      <th></th>\n",
       "      <th>RECORD_TIME</th>\n",
       "    </tr>\n",
       "  </thead>\n",
       "  <tbody>\n",
       "    <tr>\n",
       "      <th>0</th>\n",
       "      <td>2021-08-14 12:00</td>\n",
       "    </tr>\n",
       "    <tr>\n",
       "      <th>1</th>\n",
       "      <td>2021-08-14 11:30</td>\n",
       "    </tr>\n",
       "  </tbody>\n",
       "</table>\n",
       "</div>"
      ],
      "text/plain": [
       "        RECORD_TIME\n",
       "0  2021-08-14 12:00\n",
       "1  2021-08-14 11:30"
      ]
     },
     "execution_count": 3,
     "metadata": {},
     "output_type": "execute_result"
    }
   ],
   "source": [
    "timestamps"
   ]
  },
  {
   "cell_type": "code",
   "execution_count": 4,
   "id": "alternate-victory",
   "metadata": {
    "execution": {
     "iopub.execute_input": "2021-08-14T10:00:08.443448Z",
     "iopub.status.busy": "2021-08-14T10:00:08.441486Z",
     "iopub.status.idle": "2021-08-14T10:00:08.508100Z",
     "shell.execute_reply": "2021-08-14T10:00:08.509309Z"
    },
    "papermill": {
     "duration": 0.096687,
     "end_time": "2021-08-14T10:00:08.509707",
     "exception": false,
     "start_time": "2021-08-14T10:00:08.413020",
     "status": "completed"
    },
    "tags": []
   },
   "outputs": [],
   "source": [
    "df = pd.read_sql(\"select * from EBAY_TOP_BERLIN where record_time in (select distinct record_time from EBAY_TOP_BERLIN order by record_time desc limit 2)\", sqlite3.connect(\"UsedObjects.db\"))"
   ]
  },
  {
   "cell_type": "code",
   "execution_count": 5,
   "id": "popular-active",
   "metadata": {
    "execution": {
     "iopub.execute_input": "2021-08-14T10:00:08.580122Z",
     "iopub.status.busy": "2021-08-14T10:00:08.567438Z",
     "iopub.status.idle": "2021-08-14T10:00:08.596299Z",
     "shell.execute_reply": "2021-08-14T10:00:08.597586Z"
    },
    "papermill": {
     "duration": 0.067864,
     "end_time": "2021-08-14T10:00:08.598052",
     "exception": false,
     "start_time": "2021-08-14T10:00:08.530188",
     "status": "completed"
    },
    "tags": []
   },
   "outputs": [],
   "source": [
    "df_pivot = df.pivot_table(index=\"PRODUCT\", columns = \"RECORD_TIME\", values = \"LISTING_COUNT\")"
   ]
  },
  {
   "cell_type": "code",
   "execution_count": 6,
   "id": "union-huntington",
   "metadata": {
    "execution": {
     "iopub.execute_input": "2021-08-14T10:00:08.654765Z",
     "iopub.status.busy": "2021-08-14T10:00:08.652616Z",
     "iopub.status.idle": "2021-08-14T10:00:08.657942Z",
     "shell.execute_reply": "2021-08-14T10:00:08.659261Z"
    },
    "papermill": {
     "duration": 0.041544,
     "end_time": "2021-08-14T10:00:08.659682",
     "exception": false,
     "start_time": "2021-08-14T10:00:08.618138",
     "status": "completed"
    },
    "tags": []
   },
   "outputs": [],
   "source": [
    "df_pivot.columns = [\"stamp_1\", \"stamp_2\"]\n",
    "df_pivot_diff = df_pivot.diff(axis=1)"
   ]
  },
  {
   "cell_type": "code",
   "execution_count": 7,
   "id": "fifth-motion",
   "metadata": {
    "execution": {
     "iopub.execute_input": "2021-08-14T10:00:08.714969Z",
     "iopub.status.busy": "2021-08-14T10:00:08.712331Z",
     "iopub.status.idle": "2021-08-14T10:00:10.226832Z",
     "shell.execute_reply": "2021-08-14T10:00:10.228128Z"
    },
    "papermill": {
     "duration": 1.547554,
     "end_time": "2021-08-14T10:00:10.228549",
     "exception": false,
     "start_time": "2021-08-14T10:00:08.680995",
     "status": "completed"
    },
    "tags": []
   },
   "outputs": [
    {
     "data": {
      "text/plain": [
       "<AxesSubplot:ylabel='PRODUCT'>"
      ]
     },
     "execution_count": 7,
     "metadata": {},
     "output_type": "execute_result"
    },
    {
     "data": {
      "image/png": "[encoded data removed]",
      "text/plain": [
       "<Figure size 432x288 with 1 Axes>"
      ]
     },
     "metadata": {
      "needs_background": "light"
     },
     "output_type": "display_data"
    }
   ],
   "source": [
    "df_pivot_diff.sort_values(\"stamp_2\", ascending = False)[\"stamp_2\"].head(10).plot.barh()"
   ]
  },
  {
   "cell_type": "code",
   "execution_count": null,
   "id": "extra-executive",
   "metadata": {
    "papermill": {
     "duration": 0.022156,
     "end_time": "2021-08-14T10:00:10.275300",
     "exception": false,
     "start_time": "2021-08-14T10:00:10.253144",
     "status": "completed"
    },
    "tags": []
   },
   "outputs": [],
   "source": []
  }
 ],
 "metadata": {
  "kernelspec": {
   "display_name": "Python 3",
   "language": "python",
   "name": "python3"
  },
  "language_info": {
   "codemirror_mode": {
    "name": "ipython",
    "version": 3
   },
   "file_extension": ".py",
   "mimetype": "text/x-python",
   "name": "python",
   "nbconvert_exporter": "python",
   "pygments_lexer": "ipython3",
   "version": "3.9.5"
  },
  "papermill": {
   "default_parameters": {},
   "duration": 6.830696,
   "end_time": "2021-08-14T10:00:11.745190",
   "environment_variables": {},
   "exception": null,
   "input_path": "eBay_Overview.ipynb",
   "output_path": "eBay_Overview.ipynb",
   "parameters": {},
   "start_time": "2021-08-14T10:00:04.914494",
   "version": "2.3.3"
  }
 },
 "nbformat": 4,
 "nbformat_minor": 5
}