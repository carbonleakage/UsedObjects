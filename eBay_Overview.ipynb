{
 "cells": [
  {
   "cell_type": "code",
   "execution_count": 1,
   "id": "reverse-picking",
   "metadata": {
    "execution": {
     "iopub.execute_input": "2021-10-11T23:00:07.147051Z",
     "iopub.status.busy": "2021-10-11T23:00:07.145120Z",
     "iopub.status.idle": "2021-10-11T23:00:07.952267Z",
     "shell.execute_reply": "2021-10-11T23:00:07.950726Z"
    },
    "papermill": {
     "duration": 0.857933,
     "end_time": "2021-10-11T23:00:07.952654",
     "exception": false,
     "start_time": "2021-10-11T23:00:07.094721",
     "status": "completed"
    },
    "tags": []
   },
   "outputs": [],
   "source": [
    "import pandas as pd\n",
    "import sqlite3"
   ]
  },
  {
   "cell_type": "code",
   "execution_count": 2,
   "id": "innovative-syndrome",
   "metadata": {
    "execution": {
     "iopub.execute_input": "2021-10-11T23:00:08.003420Z",
     "iopub.status.busy": "2021-10-11T23:00:08.001546Z",
     "iopub.status.idle": "2021-10-11T23:00:08.514912Z",
     "shell.execute_reply": "2021-10-11T23:00:08.516031Z"
    },
    "papermill": {
     "duration": 0.542786,
     "end_time": "2021-10-11T23:00:08.516434",
     "exception": false,
     "start_time": "2021-10-11T23:00:07.973648",
     "status": "completed"
    },
    "tags": []
   },
   "outputs": [],
   "source": [
    "timestamps = pd.read_sql(\"select distinct record_time from EBAY_TOP_BERLIN order by record_time desc limit 2\", sqlite3.connect(\"UsedObjects.db\"))"
   ]
  },
  {
   "cell_type": "code",
   "execution_count": 3,
   "id": "periodic-identification",
   "metadata": {
    "execution": {
     "iopub.execute_input": "2021-10-11T23:00:08.581152Z",
     "iopub.status.busy": "2021-10-11T23:00:08.579058Z",
     "iopub.status.idle": "2021-10-11T23:00:08.599274Z",
     "shell.execute_reply": "2021-10-11T23:00:08.600473Z"
    },
    "papermill": {
     "duration": 0.063602,
     "end_time": "2021-10-11T23:00:08.600953",
     "exception": false,
     "start_time": "2021-10-11T23:00:08.537351",
     "status": "completed"
    },
    "tags": []
   },
   "outputs": [
    {
     "data": {
      "text/html": [
       "<div>\n",
       "<style scoped>\n",
       "    .dataframe tbody tr th:only-of-type {\n",
       "        vertical-align: middle;\n",
       "    }\n",
       "\n",
       "    .dataframe tbody tr th {\n",
       "        vertical-align: top;\n",
       "    }\n",
       "\n",
       "    .dataframe thead th {\n",
       "        text-align: right;\n",
       "    }\n",
       "</style>\n",
       "<table border=\"1\" class=\"dataframe\">\n",
       "  <thead>\n",
       "    <tr style=\"text-align: right;\">\n",
       "      <th></th>\n",
       "      <th>RECORD_TIME</th>\n",
       "    </tr>\n",
       "  </thead>\n",
       "  <tbody>\n",
       "    <tr>\n",
       "      <th>0</th>\n",
       "      <td>2021-10-12 01:00</td>\n",
       "    </tr>\n",
       "    <tr>\n",
       "      <th>1</th>\n",
       "      <td>2021-10-12 00:30</td>\n",
       "    </tr>\n",
       "  </tbody>\n",
       "</table>\n",
       "</div>"
      ],
      "text/plain": [
       "        RECORD_TIME\n",
       "0  2021-10-12 01:00\n",
       "1  2021-10-12 00:30"
      ]
     },
     "execution_count": 3,
     "metadata": {},
     "output_type": "execute_result"
    }
   ],
   "source": [
    "timestamps"
   ]
  },
  {
   "cell_type": "code",
   "execution_count": 4,
   "id": "alternate-victory",
   "metadata": {
    "execution": {
     "iopub.execute_input": "2021-10-11T23:00:08.679324Z",
     "iopub.status.busy": "2021-10-11T23:00:08.677422Z",
     "iopub.status.idle": "2021-10-11T23:00:09.410995Z",
     "shell.execute_reply": "2021-10-11T23:00:09.412289Z"
    },
    "papermill": {
     "duration": 0.770475,
     "end_time": "2021-10-11T23:00:09.412755",
     "exception": false,
     "start_time": "2021-10-11T23:00:08.642280",
     "status": "completed"
    },
    "tags": []
   },
   "outputs": [],
   "source": [
    "df = pd.read_sql(\"select * from EBAY_TOP_BERLIN where record_time in (select distinct record_time from EBAY_TOP_BERLIN order by record_time desc limit 2)\", sqlite3.connect(\"UsedObjects.db\"))"
   ]
  },
  {
   "cell_type": "code",
   "execution_count": 5,
   "id": "popular-active",
   "metadata": {
    "execution": {
     "iopub.execute_input": "2021-10-11T23:00:09.478271Z",
     "iopub.status.busy": "2021-10-11T23:00:09.471195Z",
     "iopub.status.idle": "2021-10-11T23:00:09.499063Z",
     "shell.execute_reply": "2021-10-11T23:00:09.500647Z"
    },
    "papermill": {
     "duration": 0.068567,
     "end_time": "2021-10-11T23:00:09.501339",
     "exception": false,
     "start_time": "2021-10-11T23:00:09.432772",
     "status": "completed"
    },
    "tags": []
   },
   "outputs": [],
   "source": [
    "df_pivot = df.pivot_table(index=\"PRODUCT\", columns = \"RECORD_TIME\", values = \"LISTING_COUNT\")"
   ]
  },
  {
   "cell_type": "code",
   "execution_count": 6,
   "id": "union-huntington",
   "metadata": {
    "execution": {
     "iopub.execute_input": "2021-10-11T23:00:09.558006Z",
     "iopub.status.busy": "2021-10-11T23:00:09.555907Z",
     "iopub.status.idle": "2021-10-11T23:00:09.561280Z",
     "shell.execute_reply": "2021-10-11T23:00:09.562659Z"
    },
    "papermill": {
     "duration": 0.04027,
     "end_time": "2021-10-11T23:00:09.563070",
     "exception": false,
     "start_time": "2021-10-11T23:00:09.522800",
     "status": "completed"
    },
    "tags": []
   },
   "outputs": [],
   "source": [
    "df_pivot.columns = [\"stamp_1\", \"stamp_2\"]\n",
    "df_pivot_diff = df_pivot.diff(axis=1)"
   ]
  },
  {
   "cell_type": "code",
   "execution_count": 7,
   "id": "fifth-motion",
   "metadata": {
    "execution": {
     "iopub.execute_input": "2021-10-11T23:00:09.618014Z",
     "iopub.status.busy": "2021-10-11T23:00:09.615470Z",
     "iopub.status.idle": "2021-10-11T23:00:11.083974Z",
     "shell.execute_reply": "2021-10-11T23:00:11.085450Z"
    },
    "papermill": {
     "duration": 1.501667,
     "end_time": "2021-10-11T23:00:11.085896",
     "exception": false,
     "start_time": "2021-10-11T23:00:09.584229",
     "status": "completed"
    },
    "tags": []
   },
   "outputs": [
    {
     "data": {
      "text/plain": [
       "<AxesSubplot:ylabel='PRODUCT'>"
      ]
     },
     "execution_count": 7,
     "metadata": {},
     "output_type": "execute_result"
    },
    {
     "data": {
      "image/png": "[encoded data removed]",
      "text/plain": [
       "<Figure size 432x288 with 1 Axes>"
      ]
     },
     "metadata": {
      "needs_background": "light"
     },
     "output_type": "display_data"
    }
   ],
   "source": [
    "df_pivot_diff.sort_values(\"stamp_2\", ascending = False)[\"stamp_2\"].head(10).plot.barh()"
   ]
  },
  {
   "cell_type": "code",
   "execution_count": null,
   "id": "extra-executive",
   "metadata": {
    "papermill": {
     "duration": 0.022007,
     "end_time": "2021-10-11T23:00:11.131567",
     "exception": false,
     "start_time": "2021-10-11T23:00:11.109560",
     "status": "completed"
    },
    "tags": []
   },
   "outputs": [],
   "source": []
  }
 ],
 "metadata": {
  "kernelspec": {
   "display_name": "Python 3",
   "language": "python",
   "name": "python3"
  },
  "language_info": {
   "codemirror_mode": {
    "name": "ipython",
    "version": 3
   },
   "file_extension": ".py",
   "mimetype": "text/x-python",
   "name": "python",
   "nbconvert_exporter": "python",
   "pygments_lexer": "ipython3",
   "version": "3.9.5"
  },
  "papermill": {
   "default_parameters": {},
   "duration": 7.822104,
   "end_time": "2021-10-11T23:00:12.504199",
   "environment_variables": {},
   "exception": null,
   "input_path": "eBay_Overview.ipynb",
   "output_path": "eBay_Overview.ipynb",
   "parameters": {},
   "start_time": "2021-10-11T23:00:04.682095",
   "version": "2.3.3"
  }
 },
 "nbformat": 4,
 "nbformat_minor": 5
}