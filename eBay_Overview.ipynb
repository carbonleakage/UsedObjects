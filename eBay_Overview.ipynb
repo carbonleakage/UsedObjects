{
 "cells": [
  {
   "cell_type": "code",
   "execution_count": 1,
   "id": "reverse-picking",
   "metadata": {
    "execution": {
     "iopub.execute_input": "2021-10-21T22:00:07.490780Z",
     "iopub.status.busy": "2021-10-21T22:00:07.488798Z",
     "iopub.status.idle": "2021-10-21T22:00:08.297370Z",
     "shell.execute_reply": "2021-10-21T22:00:08.298651Z"
    },
    "papermill": {
     "duration": 0.861004,
     "end_time": "2021-10-21T22:00:08.299274",
     "exception": false,
     "start_time": "2021-10-21T22:00:07.438270",
     "status": "completed"
    },
    "tags": []
   },
   "outputs": [],
   "source": [
    "import pandas as pd\n",
    "import sqlite3"
   ]
  },
  {
   "cell_type": "code",
   "execution_count": 2,
   "id": "innovative-syndrome",
   "metadata": {
    "execution": {
     "iopub.execute_input": "2021-10-21T22:00:08.353069Z",
     "iopub.status.busy": "2021-10-21T22:00:08.350672Z",
     "iopub.status.idle": "2021-10-21T22:00:08.961813Z",
     "shell.execute_reply": "2021-10-21T22:00:08.963192Z"
    },
    "papermill": {
     "duration": 0.641338,
     "end_time": "2021-10-21T22:00:08.963629",
     "exception": false,
     "start_time": "2021-10-21T22:00:08.322291",
     "status": "completed"
    },
    "tags": []
   },
   "outputs": [],
   "source": [
    "timestamps = pd.read_sql(\"select distinct record_time from EBAY_TOP_BERLIN order by record_time desc limit 2\", sqlite3.connect(\"UsedObjects.db\"))"
   ]
  },
  {
   "cell_type": "code",
   "execution_count": 3,
   "id": "periodic-identification",
   "metadata": {
    "execution": {
     "iopub.execute_input": "2021-10-21T22:00:09.043724Z",
     "iopub.status.busy": "2021-10-21T22:00:09.041699Z",
     "iopub.status.idle": "2021-10-21T22:00:09.061408Z",
     "shell.execute_reply": "2021-10-21T22:00:09.062694Z"
    },
    "papermill": {
     "duration": 0.070696,
     "end_time": "2021-10-21T22:00:09.063089",
     "exception": false,
     "start_time": "2021-10-21T22:00:08.992393",
     "status": "completed"
    },
    "tags": []
   },
   "outputs": [
    {
     "data": {
      "text/html": [
       "<div>\n",
       "<style scoped>\n",
       "    .dataframe tbody tr th:only-of-type {\n",
       "        vertical-align: middle;\n",
       "    }\n",
       "\n",
       "    .dataframe tbody tr th {\n",
       "        vertical-align: top;\n",
       "    }\n",
       "\n",
       "    .dataframe thead th {\n",
       "        text-align: right;\n",
       "    }\n",
       "</style>\n",
       "<table border=\"1\" class=\"dataframe\">\n",
       "  <thead>\n",
       "    <tr style=\"text-align: right;\">\n",
       "      <th></th>\n",
       "      <th>RECORD_TIME</th>\n",
       "    </tr>\n",
       "  </thead>\n",
       "  <tbody>\n",
       "    <tr>\n",
       "      <th>0</th>\n",
       "      <td>2021-10-22 00:00</td>\n",
       "    </tr>\n",
       "    <tr>\n",
       "      <th>1</th>\n",
       "      <td>2021-10-21 23:30</td>\n",
       "    </tr>\n",
       "  </tbody>\n",
       "</table>\n",
       "</div>"
      ],
      "text/plain": [
       "        RECORD_TIME\n",
       "0  2021-10-22 00:00\n",
       "1  2021-10-21 23:30"
      ]
     },
     "execution_count": 3,
     "metadata": {},
     "output_type": "execute_result"
    }
   ],
   "source": [
    "timestamps"
   ]
  },
  {
   "cell_type": "code",
   "execution_count": 4,
   "id": "alternate-victory",
   "metadata": {
    "execution": {
     "iopub.execute_input": "2021-10-21T22:00:09.113991Z",
     "iopub.status.busy": "2021-10-21T22:00:09.112039Z",
     "iopub.status.idle": "2021-10-21T22:00:10.028120Z",
     "shell.execute_reply": "2021-10-21T22:00:10.029482Z"
    },
    "papermill": {
     "duration": 0.945964,
     "end_time": "2021-10-21T22:00:10.029905",
     "exception": false,
     "start_time": "2021-10-21T22:00:09.083941",
     "status": "completed"
    },
    "tags": []
   },
   "outputs": [],
   "source": [
    "df = pd.read_sql(\"select * from EBAY_TOP_BERLIN where record_time in (select distinct record_time from EBAY_TOP_BERLIN order by record_time desc limit 2)\", sqlite3.connect(\"UsedObjects.db\"))"
   ]
  },
  {
   "cell_type": "code",
   "execution_count": 5,
   "id": "popular-active",
   "metadata": {
    "execution": {
     "iopub.execute_input": "2021-10-21T22:00:10.094966Z",
     "iopub.status.busy": "2021-10-21T22:00:10.088539Z",
     "iopub.status.idle": "2021-10-21T22:00:10.115846Z",
     "shell.execute_reply": "2021-10-21T22:00:10.117273Z"
    },
    "papermill": {
     "duration": 0.067135,
     "end_time": "2021-10-21T22:00:10.117692",
     "exception": false,
     "start_time": "2021-10-21T22:00:10.050557",
     "status": "completed"
    },
    "tags": []
   },
   "outputs": [],
   "source": [
    "df_pivot = df.pivot_table(index=\"PRODUCT\", columns = \"RECORD_TIME\", values = \"LISTING_COUNT\")"
   ]
  },
  {
   "cell_type": "code",
   "execution_count": 6,
   "id": "union-huntington",
   "metadata": {
    "execution": {
     "iopub.execute_input": "2021-10-21T22:00:10.175581Z",
     "iopub.status.busy": "2021-10-21T22:00:10.173159Z",
     "iopub.status.idle": "2021-10-21T22:00:10.178863Z",
     "shell.execute_reply": "2021-10-21T22:00:10.180131Z"
    },
    "papermill": {
     "duration": 0.041577,
     "end_time": "2021-10-21T22:00:10.180544",
     "exception": false,
     "start_time": "2021-10-21T22:00:10.138967",
     "status": "completed"
    },
    "tags": []
   },
   "outputs": [],
   "source": [
    "df_pivot.columns = [\"stamp_1\", \"stamp_2\"]\n",
    "df_pivot_diff = df_pivot.diff(axis=1)"
   ]
  },
  {
   "cell_type": "code",
   "execution_count": 7,
   "id": "fifth-motion",
   "metadata": {
    "execution": {
     "iopub.execute_input": "2021-10-21T22:00:10.234388Z",
     "iopub.status.busy": "2021-10-21T22:00:10.231839Z",
     "iopub.status.idle": "2021-10-21T22:00:11.687145Z",
     "shell.execute_reply": "2021-10-21T22:00:11.688344Z"
    },
    "papermill": {
     "duration": 1.488632,
     "end_time": "2021-10-21T22:00:11.688828",
     "exception": false,
     "start_time": "2021-10-21T22:00:10.200196",
     "status": "completed"
    },
    "tags": []
   },
   "outputs": [
    {
     "data": {
      "text/plain": [
       "<AxesSubplot:ylabel='PRODUCT'>"
      ]
     },
     "execution_count": 7,
     "metadata": {},
     "output_type": "execute_result"
    },
    {
     "data": {
      "image/png": "[encoded data removed]",
      "text/plain": [
       "<Figure size 432x288 with 1 Axes>"
      ]
     },
     "metadata": {
      "needs_background": "light"
     },
     "output_type": "display_data"
    }
   ],
   "source": [
    "df_pivot_diff.sort_values(\"stamp_2\", ascending = False)[\"stamp_2\"].head(10).plot.barh()"
   ]
  },
  {
   "cell_type": "code",
   "execution_count": null,
   "id": "extra-executive",
   "metadata": {
    "papermill": {
     "duration": 0.021928,
     "end_time": "2021-10-21T22:00:11.734589",
     "exception": false,
     "start_time": "2021-10-21T22:00:11.712661",
     "status": "completed"
    },
    "tags": []
   },
   "outputs": [],
   "source": []
  }
 ],
 "metadata": {
  "kernelspec": {
   "display_name": "Python 3",
   "language": "python",
   "name": "python3"
  },
  "language_info": {
   "codemirror_mode": {
    "name": "ipython",
    "version": 3
   },
   "file_extension": ".py",
   "mimetype": "text/x-python",
   "name": "python",
   "nbconvert_exporter": "python",
   "pygments_lexer": "ipython3",
   "version": "3.9.5"
  },
  "papermill": {
   "default_parameters": {},
   "duration": 7.353353,
   "end_time": "2021-10-21T22:00:12.377964",
   "environment_variables": {},
   "exception": null,
   "input_path": "eBay_Overview.ipynb",
   "output_path": "eBay_Overview.ipynb",
   "parameters": {},
   "start_time": "2021-10-21T22:00:05.024611",
   "version": "2.3.3"
  }
 },
 "nbformat": 4,
 "nbformat_minor": 5
}