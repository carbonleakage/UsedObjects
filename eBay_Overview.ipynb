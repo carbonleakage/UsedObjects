{
 "cells": [
  {
   "cell_type": "code",
   "execution_count": 1,
   "id": "reverse-picking",
   "metadata": {
    "execution": {
     "iopub.execute_input": "2021-09-09T06:00:06.660392Z",
     "iopub.status.busy": "2021-09-09T06:00:06.658333Z",
     "iopub.status.idle": "2021-09-09T06:00:07.472888Z",
     "shell.execute_reply": "2021-09-09T06:00:07.471200Z"
    },
    "papermill": {
     "duration": 0.862531,
     "end_time": "2021-09-09T06:00:07.473299",
     "exception": false,
     "start_time": "2021-09-09T06:00:06.610768",
     "status": "completed"
    },
    "tags": []
   },
   "outputs": [],
   "source": [
    "import pandas as pd\n",
    "import sqlite3"
   ]
  },
  {
   "cell_type": "code",
   "execution_count": 2,
   "id": "innovative-syndrome",
   "metadata": {
    "execution": {
     "iopub.execute_input": "2021-09-09T06:00:07.523635Z",
     "iopub.status.busy": "2021-09-09T06:00:07.521587Z",
     "iopub.status.idle": "2021-09-09T06:00:07.759395Z",
     "shell.execute_reply": "2021-09-09T06:00:07.760640Z"
    },
    "papermill": {
     "duration": 0.267518,
     "end_time": "2021-09-09T06:00:07.761035",
     "exception": false,
     "start_time": "2021-09-09T06:00:07.493517",
     "status": "completed"
    },
    "tags": []
   },
   "outputs": [],
   "source": [
    "timestamps = pd.read_sql(\"select distinct record_time from EBAY_TOP_BERLIN order by record_time desc limit 2\", sqlite3.connect(\"UsedObjects.db\"))"
   ]
  },
  {
   "cell_type": "code",
   "execution_count": 3,
   "id": "periodic-identification",
   "metadata": {
    "execution": {
     "iopub.execute_input": "2021-09-09T06:00:07.827796Z",
     "iopub.status.busy": "2021-09-09T06:00:07.825617Z",
     "iopub.status.idle": "2021-09-09T06:00:07.848276Z",
     "shell.execute_reply": "2021-09-09T06:00:07.849684Z"
    },
    "papermill": {
     "duration": 0.068198,
     "end_time": "2021-09-09T06:00:07.850123",
     "exception": false,
     "start_time": "2021-09-09T06:00:07.781925",
     "status": "completed"
    },
    "tags": []
   },
   "outputs": [
    {
     "data": {
      "text/html": [
       "<div>\n",
       "<style scoped>\n",
       "    .dataframe tbody tr th:only-of-type {\n",
       "        vertical-align: middle;\n",
       "    }\n",
       "\n",
       "    .dataframe tbody tr th {\n",
       "        vertical-align: top;\n",
       "    }\n",
       "\n",
       "    .dataframe thead th {\n",
       "        text-align: right;\n",
       "    }\n",
       "</style>\n",
       "<table border=\"1\" class=\"dataframe\">\n",
       "  <thead>\n",
       "    <tr style=\"text-align: right;\">\n",
       "      <th></th>\n",
       "      <th>RECORD_TIME</th>\n",
       "    </tr>\n",
       "  </thead>\n",
       "  <tbody>\n",
       "    <tr>\n",
       "      <th>0</th>\n",
       "      <td>2021-09-09 08:00</td>\n",
       "    </tr>\n",
       "    <tr>\n",
       "      <th>1</th>\n",
       "      <td>2021-09-09 07:30</td>\n",
       "    </tr>\n",
       "  </tbody>\n",
       "</table>\n",
       "</div>"
      ],
      "text/plain": [
       "        RECORD_TIME\n",
       "0  2021-09-09 08:00\n",
       "1  2021-09-09 07:30"
      ]
     },
     "execution_count": 3,
     "metadata": {},
     "output_type": "execute_result"
    }
   ],
   "source": [
    "timestamps"
   ]
  },
  {
   "cell_type": "code",
   "execution_count": 4,
   "id": "alternate-victory",
   "metadata": {
    "execution": {
     "iopub.execute_input": "2021-09-09T06:00:07.901714Z",
     "iopub.status.busy": "2021-09-09T06:00:07.899667Z",
     "iopub.status.idle": "2021-09-09T06:00:08.256836Z",
     "shell.execute_reply": "2021-09-09T06:00:08.258043Z"
    },
    "papermill": {
     "duration": 0.387777,
     "end_time": "2021-09-09T06:00:08.258474",
     "exception": false,
     "start_time": "2021-09-09T06:00:07.870697",
     "status": "completed"
    },
    "tags": []
   },
   "outputs": [],
   "source": [
    "df = pd.read_sql(\"select * from EBAY_TOP_BERLIN where record_time in (select distinct record_time from EBAY_TOP_BERLIN order by record_time desc limit 2)\", sqlite3.connect(\"UsedObjects.db\"))"
   ]
  },
  {
   "cell_type": "code",
   "execution_count": 5,
   "id": "popular-active",
   "metadata": {
    "execution": {
     "iopub.execute_input": "2021-09-09T06:00:08.339024Z",
     "iopub.status.busy": "2021-09-09T06:00:08.326696Z",
     "iopub.status.idle": "2021-09-09T06:00:08.354981Z",
     "shell.execute_reply": "2021-09-09T06:00:08.356319Z"
    },
    "papermill": {
     "duration": 0.072231,
     "end_time": "2021-09-09T06:00:08.356743",
     "exception": false,
     "start_time": "2021-09-09T06:00:08.284512",
     "status": "completed"
    },
    "tags": []
   },
   "outputs": [],
   "source": [
    "df_pivot = df.pivot_table(index=\"PRODUCT\", columns = \"RECORD_TIME\", values = \"LISTING_COUNT\")"
   ]
  },
  {
   "cell_type": "code",
   "execution_count": 6,
   "id": "union-huntington",
   "metadata": {
    "execution": {
     "iopub.execute_input": "2021-09-09T06:00:08.415196Z",
     "iopub.status.busy": "2021-09-09T06:00:08.412853Z",
     "iopub.status.idle": "2021-09-09T06:00:08.418572Z",
     "shell.execute_reply": "2021-09-09T06:00:08.419939Z"
    },
    "papermill": {
     "duration": 0.041842,
     "end_time": "2021-09-09T06:00:08.420352",
     "exception": false,
     "start_time": "2021-09-09T06:00:08.378510",
     "status": "completed"
    },
    "tags": []
   },
   "outputs": [],
   "source": [
    "df_pivot.columns = [\"stamp_1\", \"stamp_2\"]\n",
    "df_pivot_diff = df_pivot.diff(axis=1)"
   ]
  },
  {
   "cell_type": "code",
   "execution_count": 7,
   "id": "fifth-motion",
   "metadata": {
    "execution": {
     "iopub.execute_input": "2021-09-09T06:00:08.474249Z",
     "iopub.status.busy": "2021-09-09T06:00:08.472042Z",
     "iopub.status.idle": "2021-09-09T06:00:09.932649Z",
     "shell.execute_reply": "2021-09-09T06:00:09.934024Z"
    },
    "papermill": {
     "duration": 1.49337,
     "end_time": "2021-09-09T06:00:09.934466",
     "exception": false,
     "start_time": "2021-09-09T06:00:08.441096",
     "status": "completed"
    },
    "tags": []
   },
   "outputs": [
    {
     "data": {
      "text/plain": [
       "<AxesSubplot:ylabel='PRODUCT'>"
      ]
     },
     "execution_count": 7,
     "metadata": {},
     "output_type": "execute_result"
    },
    {
     "data": {
      "image/png": "[encoded data removed]",
      "text/plain": [
       "<Figure size 432x288 with 1 Axes>"
      ]
     },
     "metadata": {
      "needs_background": "light"
     },
     "output_type": "display_data"
    }
   ],
   "source": [
    "df_pivot_diff.sort_values(\"stamp_2\", ascending = False)[\"stamp_2\"].head(10).plot.barh()"
   ]
  },
  {
   "cell_type": "code",
   "execution_count": null,
   "id": "extra-executive",
   "metadata": {
    "papermill": {
     "duration": 0.021943,
     "end_time": "2021-09-09T06:00:09.980719",
     "exception": false,
     "start_time": "2021-09-09T06:00:09.958776",
     "status": "completed"
    },
    "tags": []
   },
   "outputs": [],
   "source": []
  }
 ],
 "metadata": {
  "kernelspec": {
   "display_name": "Python 3",
   "language": "python",
   "name": "python3"
  },
  "language_info": {
   "codemirror_mode": {
    "name": "ipython",
    "version": 3
   },
   "file_extension": ".py",
   "mimetype": "text/x-python",
   "name": "python",
   "nbconvert_exporter": "python",
   "pygments_lexer": "ipython3",
   "version": "3.9.5"
  },
  "papermill": {
   "default_parameters": {},
   "duration": 6.430335,
   "end_time": "2021-09-09T06:00:10.621417",
   "environment_variables": {},
   "exception": null,
   "input_path": "eBay_Overview.ipynb",
   "output_path": "eBay_Overview.ipynb",
   "parameters": {},
   "start_time": "2021-09-09T06:00:04.191082",
   "version": "2.3.3"
  }
 },
 "nbformat": 4,
 "nbformat_minor": 5
}