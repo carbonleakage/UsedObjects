{
 "cells": [
  {
   "cell_type": "code",
   "execution_count": 1,
   "id": "reverse-picking",
   "metadata": {
    "execution": {
     "iopub.execute_input": "2021-11-18T07:30:07.365555Z",
     "iopub.status.busy": "2021-11-18T07:30:07.363177Z",
     "iopub.status.idle": "2021-11-18T07:30:08.320026Z",
     "shell.execute_reply": "2021-11-18T07:30:08.318297Z"
    },
    "papermill": {
     "duration": 1.005245,
     "end_time": "2021-11-18T07:30:08.320501",
     "exception": false,
     "start_time": "2021-11-18T07:30:07.315256",
     "status": "completed"
    },
    "tags": []
   },
   "outputs": [],
   "source": [
    "import pandas as pd\n",
    "import sqlite3"
   ]
  },
  {
   "cell_type": "code",
   "execution_count": 2,
   "id": "innovative-syndrome",
   "metadata": {
    "execution": {
     "iopub.execute_input": "2021-11-18T07:30:08.373260Z",
     "iopub.status.busy": "2021-11-18T07:30:08.371087Z",
     "iopub.status.idle": "2021-11-18T07:30:09.208988Z",
     "shell.execute_reply": "2021-11-18T07:30:09.210542Z"
    },
    "papermill": {
     "duration": 0.87004,
     "end_time": "2021-11-18T07:30:09.211036",
     "exception": false,
     "start_time": "2021-11-18T07:30:08.340996",
     "status": "completed"
    },
    "tags": []
   },
   "outputs": [],
   "source": [
    "timestamps = pd.read_sql(\"select distinct record_time from EBAY_TOP_BERLIN order by record_time desc limit 2\", sqlite3.connect(\"UsedObjects.db\"))"
   ]
  },
  {
   "cell_type": "code",
   "execution_count": 3,
   "id": "periodic-identification",
   "metadata": {
    "execution": {
     "iopub.execute_input": "2021-11-18T07:30:09.284592Z",
     "iopub.status.busy": "2021-11-18T07:30:09.282279Z",
     "iopub.status.idle": "2021-11-18T07:30:09.305845Z",
     "shell.execute_reply": "2021-11-18T07:30:09.307445Z"
    },
    "papermill": {
     "duration": 0.074791,
     "end_time": "2021-11-18T07:30:09.307946",
     "exception": false,
     "start_time": "2021-11-18T07:30:09.233155",
     "status": "completed"
    },
    "tags": []
   },
   "outputs": [
    {
     "data": {
      "text/html": [
       "<div>\n",
       "<style scoped>\n",
       "    .dataframe tbody tr th:only-of-type {\n",
       "        vertical-align: middle;\n",
       "    }\n",
       "\n",
       "    .dataframe tbody tr th {\n",
       "        vertical-align: top;\n",
       "    }\n",
       "\n",
       "    .dataframe thead th {\n",
       "        text-align: right;\n",
       "    }\n",
       "</style>\n",
       "<table border=\"1\" class=\"dataframe\">\n",
       "  <thead>\n",
       "    <tr style=\"text-align: right;\">\n",
       "      <th></th>\n",
       "      <th>RECORD_TIME</th>\n",
       "    </tr>\n",
       "  </thead>\n",
       "  <tbody>\n",
       "    <tr>\n",
       "      <th>0</th>\n",
       "      <td>2021-11-18 08:30</td>\n",
       "    </tr>\n",
       "    <tr>\n",
       "      <th>1</th>\n",
       "      <td>2021-11-18 08:00</td>\n",
       "    </tr>\n",
       "  </tbody>\n",
       "</table>\n",
       "</div>"
      ],
      "text/plain": [
       "        RECORD_TIME\n",
       "0  2021-11-18 08:30\n",
       "1  2021-11-18 08:00"
      ]
     },
     "execution_count": 3,
     "metadata": {},
     "output_type": "execute_result"
    }
   ],
   "source": [
    "timestamps"
   ]
  },
  {
   "cell_type": "code",
   "execution_count": 4,
   "id": "alternate-victory",
   "metadata": {
    "execution": {
     "iopub.execute_input": "2021-11-18T07:30:09.364245Z",
     "iopub.status.busy": "2021-11-18T07:30:09.362104Z",
     "iopub.status.idle": "2021-11-18T07:30:10.598157Z",
     "shell.execute_reply": "2021-11-18T07:30:10.599477Z"
    },
    "papermill": {
     "duration": 1.270173,
     "end_time": "2021-11-18T07:30:10.599939",
     "exception": false,
     "start_time": "2021-11-18T07:30:09.329766",
     "status": "completed"
    },
    "tags": []
   },
   "outputs": [],
   "source": [
    "df = pd.read_sql(\"select * from EBAY_TOP_BERLIN where record_time in (select distinct record_time from EBAY_TOP_BERLIN order by record_time desc limit 2)\", sqlite3.connect(\"UsedObjects.db\"))"
   ]
  },
  {
   "cell_type": "code",
   "execution_count": 5,
   "id": "popular-active",
   "metadata": {
    "execution": {
     "iopub.execute_input": "2021-11-18T07:30:10.675860Z",
     "iopub.status.busy": "2021-11-18T07:30:10.664817Z",
     "iopub.status.idle": "2021-11-18T07:30:10.692995Z",
     "shell.execute_reply": "2021-11-18T07:30:10.694202Z"
    },
    "papermill": {
     "duration": 0.073064,
     "end_time": "2021-11-18T07:30:10.694640",
     "exception": false,
     "start_time": "2021-11-18T07:30:10.621576",
     "status": "completed"
    },
    "tags": []
   },
   "outputs": [],
   "source": [
    "df_pivot = df.pivot_table(index=\"PRODUCT\", columns = \"RECORD_TIME\", values = \"LISTING_COUNT\")"
   ]
  },
  {
   "cell_type": "code",
   "execution_count": 6,
   "id": "union-huntington",
   "metadata": {
    "execution": {
     "iopub.execute_input": "2021-11-18T07:30:10.752022Z",
     "iopub.status.busy": "2021-11-18T07:30:10.749856Z",
     "iopub.status.idle": "2021-11-18T07:30:10.755420Z",
     "shell.execute_reply": "2021-11-18T07:30:10.756677Z"
    },
    "papermill": {
     "duration": 0.041243,
     "end_time": "2021-11-18T07:30:10.757256",
     "exception": false,
     "start_time": "2021-11-18T07:30:10.716013",
     "status": "completed"
    },
    "tags": []
   },
   "outputs": [],
   "source": [
    "df_pivot.columns = [\"stamp_1\", \"stamp_2\"]\n",
    "df_pivot_diff = df_pivot.diff(axis=1)"
   ]
  },
  {
   "cell_type": "code",
   "execution_count": 7,
   "id": "fifth-motion",
   "metadata": {
    "execution": {
     "iopub.execute_input": "2021-11-18T07:30:10.813587Z",
     "iopub.status.busy": "2021-11-18T07:30:10.810867Z",
     "iopub.status.idle": "2021-11-18T07:30:12.573564Z",
     "shell.execute_reply": "2021-11-18T07:30:12.575157Z"
    },
    "papermill": {
     "duration": 1.796955,
     "end_time": "2021-11-18T07:30:12.575643",
     "exception": false,
     "start_time": "2021-11-18T07:30:10.778688",
     "status": "completed"
    },
    "tags": []
   },
   "outputs": [
    {
     "data": {
      "text/plain": [
       "<AxesSubplot:ylabel='PRODUCT'>"
      ]
     },
     "execution_count": 7,
     "metadata": {},
     "output_type": "execute_result"
    },
    {
     "data": {
      "image/png": "[encoded data removed]",
      "text/plain": [
       "<Figure size 432x288 with 1 Axes>"
      ]
     },
     "metadata": {
      "needs_background": "light"
     },
     "output_type": "display_data"
    }
   ],
   "source": [
    "df_pivot_diff.sort_values(\"stamp_2\", ascending = False)[\"stamp_2\"].head(10).plot.barh()"
   ]
  },
  {
   "cell_type": "code",
   "execution_count": null,
   "id": "extra-executive",
   "metadata": {
    "papermill": {
     "duration": 0.024068,
     "end_time": "2021-11-18T07:30:12.626284",
     "exception": false,
     "start_time": "2021-11-18T07:30:12.602216",
     "status": "completed"
    },
    "tags": []
   },
   "outputs": [],
   "source": []
  }
 ],
 "metadata": {
  "kernelspec": {
   "display_name": "Python 3",
   "language": "python",
   "name": "python3"
  },
  "language_info": {
   "codemirror_mode": {
    "name": "ipython",
    "version": 3
   },
   "file_extension": ".py",
   "mimetype": "text/x-python",
   "name": "python",
   "nbconvert_exporter": "python",
   "pygments_lexer": "ipython3",
   "version": "3.9.5"
  },
  "papermill": {
   "default_parameters": {},
   "duration": 8.790945,
   "end_time": "2021-11-18T07:30:13.371246",
   "environment_variables": {},
   "exception": null,
   "input_path": "eBay_Overview.ipynb",
   "output_path": "eBay_Overview.ipynb",
   "parameters": {},
   "start_time": "2021-11-18T07:30:04.580301",
   "version": "2.3.3"
  }
 },
 "nbformat": 4,
 "nbformat_minor": 5
}