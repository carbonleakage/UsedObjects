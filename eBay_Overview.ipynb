{
 "cells": [
  {
   "cell_type": "code",
   "execution_count": 1,
   "id": "reverse-picking",
   "metadata": {
    "execution": {
     "iopub.execute_input": "2021-08-16T17:30:07.255782Z",
     "iopub.status.busy": "2021-08-16T17:30:07.253594Z",
     "iopub.status.idle": "2021-08-16T17:30:08.068361Z",
     "shell.execute_reply": "2021-08-16T17:30:08.066667Z"
    },
    "papermill": {
     "duration": 0.864328,
     "end_time": "2021-08-16T17:30:08.068768",
     "exception": false,
     "start_time": "2021-08-16T17:30:07.204440",
     "status": "completed"
    },
    "tags": []
   },
   "outputs": [],
   "source": [
    "import pandas as pd\n",
    "import sqlite3"
   ]
  },
  {
   "cell_type": "code",
   "execution_count": 2,
   "id": "innovative-syndrome",
   "metadata": {
    "execution": {
     "iopub.execute_input": "2021-08-16T17:30:08.119355Z",
     "iopub.status.busy": "2021-08-16T17:30:08.117325Z",
     "iopub.status.idle": "2021-08-16T17:30:08.179205Z",
     "shell.execute_reply": "2021-08-16T17:30:08.180598Z"
    },
    "papermill": {
     "duration": 0.091878,
     "end_time": "2021-08-16T17:30:08.181039",
     "exception": false,
     "start_time": "2021-08-16T17:30:08.089161",
     "status": "completed"
    },
    "tags": []
   },
   "outputs": [],
   "source": [
    "timestamps = pd.read_sql(\"select distinct record_time from EBAY_TOP_BERLIN order by record_time desc limit 2\", sqlite3.connect(\"UsedObjects.db\"))"
   ]
  },
  {
   "cell_type": "code",
   "execution_count": 3,
   "id": "periodic-identification",
   "metadata": {
    "execution": {
     "iopub.execute_input": "2021-08-16T17:30:08.248434Z",
     "iopub.status.busy": "2021-08-16T17:30:08.246372Z",
     "iopub.status.idle": "2021-08-16T17:30:08.266819Z",
     "shell.execute_reply": "2021-08-16T17:30:08.268192Z"
    },
    "papermill": {
     "duration": 0.067802,
     "end_time": "2021-08-16T17:30:08.268606",
     "exception": false,
     "start_time": "2021-08-16T17:30:08.200804",
     "status": "completed"
    },
    "tags": []
   },
   "outputs": [
    {
     "data": {
      "text/html": [
       "<div>\n",
       "<style scoped>\n",
       "    .dataframe tbody tr th:only-of-type {\n",
       "        vertical-align: middle;\n",
       "    }\n",
       "\n",
       "    .dataframe tbody tr th {\n",
       "        vertical-align: top;\n",
       "    }\n",
       "\n",
       "    .dataframe thead th {\n",
       "        text-align: right;\n",
       "    }\n",
       "</style>\n",
       "<table border=\"1\" class=\"dataframe\">\n",
       "  <thead>\n",
       "    <tr style=\"text-align: right;\">\n",
       "      <th></th>\n",
       "      <th>RECORD_TIME</th>\n",
       "    </tr>\n",
       "  </thead>\n",
       "  <tbody>\n",
       "    <tr>\n",
       "      <th>0</th>\n",
       "      <td>2021-08-16 19:30</td>\n",
       "    </tr>\n",
       "    <tr>\n",
       "      <th>1</th>\n",
       "      <td>2021-08-16 19:00</td>\n",
       "    </tr>\n",
       "  </tbody>\n",
       "</table>\n",
       "</div>"
      ],
      "text/plain": [
       "        RECORD_TIME\n",
       "0  2021-08-16 19:30\n",
       "1  2021-08-16 19:00"
      ]
     },
     "execution_count": 3,
     "metadata": {},
     "output_type": "execute_result"
    }
   ],
   "source": [
    "timestamps"
   ]
  },
  {
   "cell_type": "code",
   "execution_count": 4,
   "id": "alternate-victory",
   "metadata": {
    "execution": {
     "iopub.execute_input": "2021-08-16T17:30:08.320836Z",
     "iopub.status.busy": "2021-08-16T17:30:08.318530Z",
     "iopub.status.idle": "2021-08-16T17:30:08.415007Z",
     "shell.execute_reply": "2021-08-16T17:30:08.416331Z"
    },
    "papermill": {
     "duration": 0.12704,
     "end_time": "2021-08-16T17:30:08.416787",
     "exception": false,
     "start_time": "2021-08-16T17:30:08.289747",
     "status": "completed"
    },
    "tags": []
   },
   "outputs": [],
   "source": [
    "df = pd.read_sql(\"select * from EBAY_TOP_BERLIN where record_time in (select distinct record_time from EBAY_TOP_BERLIN order by record_time desc limit 2)\", sqlite3.connect(\"UsedObjects.db\"))"
   ]
  },
  {
   "cell_type": "code",
   "execution_count": 5,
   "id": "popular-active",
   "metadata": {
    "execution": {
     "iopub.execute_input": "2021-08-16T17:30:08.486648Z",
     "iopub.status.busy": "2021-08-16T17:30:08.475480Z",
     "iopub.status.idle": "2021-08-16T17:30:08.503063Z",
     "shell.execute_reply": "2021-08-16T17:30:08.504358Z"
    },
    "papermill": {
     "duration": 0.06716,
     "end_time": "2021-08-16T17:30:08.504757",
     "exception": false,
     "start_time": "2021-08-16T17:30:08.437597",
     "status": "completed"
    },
    "tags": []
   },
   "outputs": [],
   "source": [
    "df_pivot = df.pivot_table(index=\"PRODUCT\", columns = \"RECORD_TIME\", values = \"LISTING_COUNT\")"
   ]
  },
  {
   "cell_type": "code",
   "execution_count": 6,
   "id": "union-huntington",
   "metadata": {
    "execution": {
     "iopub.execute_input": "2021-08-16T17:30:08.561521Z",
     "iopub.status.busy": "2021-08-16T17:30:08.559186Z",
     "iopub.status.idle": "2021-08-16T17:30:08.564963Z",
     "shell.execute_reply": "2021-08-16T17:30:08.566519Z"
    },
    "papermill": {
     "duration": 0.04221,
     "end_time": "2021-08-16T17:30:08.566998",
     "exception": false,
     "start_time": "2021-08-16T17:30:08.524788",
     "status": "completed"
    },
    "tags": []
   },
   "outputs": [],
   "source": [
    "df_pivot.columns = [\"stamp_1\", \"stamp_2\"]\n",
    "df_pivot_diff = df_pivot.diff(axis=1)"
   ]
  },
  {
   "cell_type": "code",
   "execution_count": 7,
   "id": "fifth-motion",
   "metadata": {
    "execution": {
     "iopub.execute_input": "2021-08-16T17:30:08.622262Z",
     "iopub.status.busy": "2021-08-16T17:30:08.619767Z",
     "iopub.status.idle": "2021-08-16T17:30:10.123199Z",
     "shell.execute_reply": "2021-08-16T17:30:10.124504Z"
    },
    "papermill": {
     "duration": 1.536791,
     "end_time": "2021-08-16T17:30:10.124924",
     "exception": false,
     "start_time": "2021-08-16T17:30:08.588133",
     "status": "completed"
    },
    "tags": []
   },
   "outputs": [
    {
     "data": {
      "text/plain": [
       "<AxesSubplot:ylabel='PRODUCT'>"
      ]
     },
     "execution_count": 7,
     "metadata": {},
     "output_type": "execute_result"
    },
    {
     "data": {
      "image/png": "[encoded data removed]",
      "text/plain": [
       "<Figure size 432x288 with 1 Axes>"
      ]
     },
     "metadata": {
      "needs_background": "light"
     },
     "output_type": "display_data"
    }
   ],
   "source": [
    "df_pivot_diff.sort_values(\"stamp_2\", ascending = False)[\"stamp_2\"].head(10).plot.barh()"
   ]
  },
  {
   "cell_type": "code",
   "execution_count": null,
   "id": "extra-executive",
   "metadata": {
    "papermill": {
     "duration": 0.022301,
     "end_time": "2021-08-16T17:30:10.172907",
     "exception": false,
     "start_time": "2021-08-16T17:30:10.150606",
     "status": "completed"
    },
    "tags": []
   },
   "outputs": [],
   "source": []
  }
 ],
 "metadata": {
  "kernelspec": {
   "display_name": "Python 3",
   "language": "python",
   "name": "python3"
  },
  "language_info": {
   "codemirror_mode": {
    "name": "ipython",
    "version": 3
   },
   "file_extension": ".py",
   "mimetype": "text/x-python",
   "name": "python",
   "nbconvert_exporter": "python",
   "pygments_lexer": "ipython3",
   "version": "3.9.5"
  },
  "papermill": {
   "default_parameters": {},
   "duration": 6.834664,
   "end_time": "2021-08-16T17:30:11.611030",
   "environment_variables": {},
   "exception": null,
   "input_path": "eBay_Overview.ipynb",
   "output_path": "eBay_Overview.ipynb",
   "parameters": {},
   "start_time": "2021-08-16T17:30:04.776366",
   "version": "2.3.3"
  }
 },
 "nbformat": 4,
 "nbformat_minor": 5
}