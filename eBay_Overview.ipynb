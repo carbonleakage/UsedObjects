{
 "cells": [
  {
   "cell_type": "code",
   "execution_count": 1,
   "id": "reverse-picking",
   "metadata": {
    "execution": {
     "iopub.execute_input": "2021-08-20T21:00:07.247917Z",
     "iopub.status.busy": "2021-08-20T21:00:07.245976Z",
     "iopub.status.idle": "2021-08-20T21:00:08.052779Z",
     "shell.execute_reply": "2021-08-20T21:00:08.051211Z"
    },
    "papermill": {
     "duration": 0.856894,
     "end_time": "2021-08-20T21:00:08.053197",
     "exception": false,
     "start_time": "2021-08-20T21:00:07.196303",
     "status": "completed"
    },
    "tags": []
   },
   "outputs": [],
   "source": [
    "import pandas as pd\n",
    "import sqlite3"
   ]
  },
  {
   "cell_type": "code",
   "execution_count": 2,
   "id": "innovative-syndrome",
   "metadata": {
    "execution": {
     "iopub.execute_input": "2021-08-20T21:00:08.104381Z",
     "iopub.status.busy": "2021-08-20T21:00:08.102495Z",
     "iopub.status.idle": "2021-08-20T21:00:08.194418Z",
     "shell.execute_reply": "2021-08-20T21:00:08.195655Z"
    },
    "papermill": {
     "duration": 0.1213,
     "end_time": "2021-08-20T21:00:08.196060",
     "exception": false,
     "start_time": "2021-08-20T21:00:08.074760",
     "status": "completed"
    },
    "tags": []
   },
   "outputs": [],
   "source": [
    "timestamps = pd.read_sql(\"select distinct record_time from EBAY_TOP_BERLIN order by record_time desc limit 2\", sqlite3.connect(\"UsedObjects.db\"))"
   ]
  },
  {
   "cell_type": "code",
   "execution_count": 3,
   "id": "periodic-identification",
   "metadata": {
    "execution": {
     "iopub.execute_input": "2021-08-20T21:00:08.261261Z",
     "iopub.status.busy": "2021-08-20T21:00:08.259220Z",
     "iopub.status.idle": "2021-08-20T21:00:08.279458Z",
     "shell.execute_reply": "2021-08-20T21:00:08.280766Z"
    },
    "papermill": {
     "duration": 0.064609,
     "end_time": "2021-08-20T21:00:08.281188",
     "exception": false,
     "start_time": "2021-08-20T21:00:08.216579",
     "status": "completed"
    },
    "tags": []
   },
   "outputs": [
    {
     "data": {
      "text/html": [
       "<div>\n",
       "<style scoped>\n",
       "    .dataframe tbody tr th:only-of-type {\n",
       "        vertical-align: middle;\n",
       "    }\n",
       "\n",
       "    .dataframe tbody tr th {\n",
       "        vertical-align: top;\n",
       "    }\n",
       "\n",
       "    .dataframe thead th {\n",
       "        text-align: right;\n",
       "    }\n",
       "</style>\n",
       "<table border=\"1\" class=\"dataframe\">\n",
       "  <thead>\n",
       "    <tr style=\"text-align: right;\">\n",
       "      <th></th>\n",
       "      <th>RECORD_TIME</th>\n",
       "    </tr>\n",
       "  </thead>\n",
       "  <tbody>\n",
       "    <tr>\n",
       "      <th>0</th>\n",
       "      <td>2021-08-20 23:00</td>\n",
       "    </tr>\n",
       "    <tr>\n",
       "      <th>1</th>\n",
       "      <td>2021-08-20 22:30</td>\n",
       "    </tr>\n",
       "  </tbody>\n",
       "</table>\n",
       "</div>"
      ],
      "text/plain": [
       "        RECORD_TIME\n",
       "0  2021-08-20 23:00\n",
       "1  2021-08-20 22:30"
      ]
     },
     "execution_count": 3,
     "metadata": {},
     "output_type": "execute_result"
    }
   ],
   "source": [
    "timestamps"
   ]
  },
  {
   "cell_type": "code",
   "execution_count": 4,
   "id": "alternate-victory",
   "metadata": {
    "execution": {
     "iopub.execute_input": "2021-08-20T21:00:08.331323Z",
     "iopub.status.busy": "2021-08-20T21:00:08.329381Z",
     "iopub.status.idle": "2021-08-20T21:00:08.465433Z",
     "shell.execute_reply": "2021-08-20T21:00:08.466898Z"
    },
    "papermill": {
     "duration": 0.16593,
     "end_time": "2021-08-20T21:00:08.467345",
     "exception": false,
     "start_time": "2021-08-20T21:00:08.301415",
     "status": "completed"
    },
    "tags": []
   },
   "outputs": [],
   "source": [
    "df = pd.read_sql(\"select * from EBAY_TOP_BERLIN where record_time in (select distinct record_time from EBAY_TOP_BERLIN order by record_time desc limit 2)\", sqlite3.connect(\"UsedObjects.db\"))"
   ]
  },
  {
   "cell_type": "code",
   "execution_count": 5,
   "id": "popular-active",
   "metadata": {
    "execution": {
     "iopub.execute_input": "2021-08-20T21:00:08.536165Z",
     "iopub.status.busy": "2021-08-20T21:00:08.529490Z",
     "iopub.status.idle": "2021-08-20T21:00:08.553269Z",
     "shell.execute_reply": "2021-08-20T21:00:08.554736Z"
    },
    "papermill": {
     "duration": 0.06744,
     "end_time": "2021-08-20T21:00:08.555160",
     "exception": false,
     "start_time": "2021-08-20T21:00:08.487720",
     "status": "completed"
    },
    "tags": []
   },
   "outputs": [],
   "source": [
    "df_pivot = df.pivot_table(index=\"PRODUCT\", columns = \"RECORD_TIME\", values = \"LISTING_COUNT\")"
   ]
  },
  {
   "cell_type": "code",
   "execution_count": 6,
   "id": "union-huntington",
   "metadata": {
    "execution": {
     "iopub.execute_input": "2021-08-20T21:00:08.612890Z",
     "iopub.status.busy": "2021-08-20T21:00:08.610669Z",
     "iopub.status.idle": "2021-08-20T21:00:08.616261Z",
     "shell.execute_reply": "2021-08-20T21:00:08.617450Z"
    },
    "papermill": {
     "duration": 0.041627,
     "end_time": "2021-08-20T21:00:08.617887",
     "exception": false,
     "start_time": "2021-08-20T21:00:08.576260",
     "status": "completed"
    },
    "tags": []
   },
   "outputs": [],
   "source": [
    "df_pivot.columns = [\"stamp_1\", \"stamp_2\"]\n",
    "df_pivot_diff = df_pivot.diff(axis=1)"
   ]
  },
  {
   "cell_type": "code",
   "execution_count": 7,
   "id": "fifth-motion",
   "metadata": {
    "execution": {
     "iopub.execute_input": "2021-08-20T21:00:08.696850Z",
     "iopub.status.busy": "2021-08-20T21:00:08.694485Z",
     "iopub.status.idle": "2021-08-20T21:00:10.201401Z",
     "shell.execute_reply": "2021-08-20T21:00:10.202770Z"
    },
    "papermill": {
     "duration": 1.564909,
     "end_time": "2021-08-20T21:00:10.203205",
     "exception": false,
     "start_time": "2021-08-20T21:00:08.638296",
     "status": "completed"
    },
    "tags": []
   },
   "outputs": [
    {
     "data": {
      "text/plain": [
       "<AxesSubplot:ylabel='PRODUCT'>"
      ]
     },
     "execution_count": 7,
     "metadata": {},
     "output_type": "execute_result"
    },
    {
     "data": {
      "image/png": "[encoded data removed]",
      "text/plain": [
       "<Figure size 432x288 with 1 Axes>"
      ]
     },
     "metadata": {
      "needs_background": "light"
     },
     "output_type": "display_data"
    }
   ],
   "source": [
    "df_pivot_diff.sort_values(\"stamp_2\", ascending = False)[\"stamp_2\"].head(10).plot.barh()"
   ]
  },
  {
   "cell_type": "code",
   "execution_count": null,
   "id": "extra-executive",
   "metadata": {
    "papermill": {
     "duration": 0.021947,
     "end_time": "2021-08-20T21:00:10.249658",
     "exception": false,
     "start_time": "2021-08-20T21:00:10.227711",
     "status": "completed"
    },
    "tags": []
   },
   "outputs": [],
   "source": []
  }
 ],
 "metadata": {
  "kernelspec": {
   "display_name": "Python 3",
   "language": "python",
   "name": "python3"
  },
  "language_info": {
   "codemirror_mode": {
    "name": "ipython",
    "version": 3
   },
   "file_extension": ".py",
   "mimetype": "text/x-python",
   "name": "python",
   "nbconvert_exporter": "python",
   "pygments_lexer": "ipython3",
   "version": "3.9.5"
  },
  "papermill": {
   "default_parameters": {},
   "duration": 6.826152,
   "end_time": "2021-08-20T21:00:11.604531",
   "environment_variables": {},
   "exception": null,
   "input_path": "eBay_Overview.ipynb",
   "output_path": "eBay_Overview.ipynb",
   "parameters": {},
   "start_time": "2021-08-20T21:00:04.778379",
   "version": "2.3.3"
  }
 },
 "nbformat": 4,
 "nbformat_minor": 5
}