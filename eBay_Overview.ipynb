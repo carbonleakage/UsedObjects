{
 "cells": [
  {
   "cell_type": "code",
   "execution_count": 1,
   "id": "reverse-picking",
   "metadata": {
    "execution": {
     "iopub.execute_input": "2021-11-26T10:30:07.277951Z",
     "iopub.status.busy": "2021-11-26T10:30:07.275598Z",
     "iopub.status.idle": "2021-11-26T10:30:08.229834Z",
     "shell.execute_reply": "2021-11-26T10:30:08.231357Z"
    },
    "papermill": {
     "duration": 1.004714,
     "end_time": "2021-11-26T10:30:08.232077",
     "exception": false,
     "start_time": "2021-11-26T10:30:07.227363",
     "status": "completed"
    },
    "tags": []
   },
   "outputs": [],
   "source": [
    "import pandas as pd\n",
    "import sqlite3"
   ]
  },
  {
   "cell_type": "code",
   "execution_count": 2,
   "id": "innovative-syndrome",
   "metadata": {
    "execution": {
     "iopub.execute_input": "2021-11-26T10:30:08.286937Z",
     "iopub.status.busy": "2021-11-26T10:30:08.284574Z",
     "iopub.status.idle": "2021-11-26T10:30:09.228927Z",
     "shell.execute_reply": "2021-11-26T10:30:09.230708Z"
    },
    "papermill": {
     "duration": 0.977902,
     "end_time": "2021-11-26T10:30:09.231283",
     "exception": false,
     "start_time": "2021-11-26T10:30:08.253381",
     "status": "completed"
    },
    "tags": []
   },
   "outputs": [],
   "source": [
    "timestamps = pd.read_sql(\"select distinct record_time from EBAY_TOP_BERLIN order by record_time desc limit 2\", sqlite3.connect(\"UsedObjects.db\"))"
   ]
  },
  {
   "cell_type": "code",
   "execution_count": 3,
   "id": "periodic-identification",
   "metadata": {
    "execution": {
     "iopub.execute_input": "2021-11-26T10:30:09.297251Z",
     "iopub.status.busy": "2021-11-26T10:30:09.295154Z",
     "iopub.status.idle": "2021-11-26T10:30:09.316434Z",
     "shell.execute_reply": "2021-11-26T10:30:09.315183Z"
    },
    "papermill": {
     "duration": 0.063522,
     "end_time": "2021-11-26T10:30:09.316843",
     "exception": false,
     "start_time": "2021-11-26T10:30:09.253321",
     "status": "completed"
    },
    "tags": []
   },
   "outputs": [
    {
     "data": {
      "text/html": [
       "<div>\n",
       "<style scoped>\n",
       "    .dataframe tbody tr th:only-of-type {\n",
       "        vertical-align: middle;\n",
       "    }\n",
       "\n",
       "    .dataframe tbody tr th {\n",
       "        vertical-align: top;\n",
       "    }\n",
       "\n",
       "    .dataframe thead th {\n",
       "        text-align: right;\n",
       "    }\n",
       "</style>\n",
       "<table border=\"1\" class=\"dataframe\">\n",
       "  <thead>\n",
       "    <tr style=\"text-align: right;\">\n",
       "      <th></th>\n",
       "      <th>RECORD_TIME</th>\n",
       "    </tr>\n",
       "  </thead>\n",
       "  <tbody>\n",
       "    <tr>\n",
       "      <th>0</th>\n",
       "      <td>2021-11-26 11:30</td>\n",
       "    </tr>\n",
       "    <tr>\n",
       "      <th>1</th>\n",
       "      <td>2021-11-26 11:00</td>\n",
       "    </tr>\n",
       "  </tbody>\n",
       "</table>\n",
       "</div>"
      ],
      "text/plain": [
       "        RECORD_TIME\n",
       "0  2021-11-26 11:30\n",
       "1  2021-11-26 11:00"
      ]
     },
     "execution_count": 3,
     "metadata": {},
     "output_type": "execute_result"
    }
   ],
   "source": [
    "timestamps"
   ]
  },
  {
   "cell_type": "code",
   "execution_count": 4,
   "id": "alternate-victory",
   "metadata": {
    "execution": {
     "iopub.execute_input": "2021-11-26T10:30:09.370356Z",
     "iopub.status.busy": "2021-11-26T10:30:09.367967Z",
     "iopub.status.idle": "2021-11-26T10:30:10.717105Z",
     "shell.execute_reply": "2021-11-26T10:30:10.718505Z"
    },
    "papermill": {
     "duration": 1.379725,
     "end_time": "2021-11-26T10:30:10.718980",
     "exception": false,
     "start_time": "2021-11-26T10:30:09.339255",
     "status": "completed"
    },
    "tags": []
   },
   "outputs": [],
   "source": [
    "df = pd.read_sql(\"select * from EBAY_TOP_BERLIN where record_time in (select distinct record_time from EBAY_TOP_BERLIN order by record_time desc limit 2)\", sqlite3.connect(\"UsedObjects.db\"))"
   ]
  },
  {
   "cell_type": "code",
   "execution_count": 5,
   "id": "popular-active",
   "metadata": {
    "execution": {
     "iopub.execute_input": "2021-11-26T10:30:10.783549Z",
     "iopub.status.busy": "2021-11-26T10:30:10.780883Z",
     "iopub.status.idle": "2021-11-26T10:30:10.816550Z",
     "shell.execute_reply": "2021-11-26T10:30:10.818131Z"
    },
    "papermill": {
     "duration": 0.079099,
     "end_time": "2021-11-26T10:30:10.818630",
     "exception": false,
     "start_time": "2021-11-26T10:30:10.739531",
     "status": "completed"
    },
    "tags": []
   },
   "outputs": [],
   "source": [
    "df_pivot = df.pivot_table(index=\"PRODUCT\", columns = \"RECORD_TIME\", values = \"LISTING_COUNT\")"
   ]
  },
  {
   "cell_type": "code",
   "execution_count": 6,
   "id": "union-huntington",
   "metadata": {
    "execution": {
     "iopub.execute_input": "2021-11-26T10:30:10.884887Z",
     "iopub.status.busy": "2021-11-26T10:30:10.882542Z",
     "iopub.status.idle": "2021-11-26T10:30:10.890183Z",
     "shell.execute_reply": "2021-11-26T10:30:10.888468Z"
    },
    "papermill": {
     "duration": 0.05019,
     "end_time": "2021-11-26T10:30:10.890599",
     "exception": false,
     "start_time": "2021-11-26T10:30:10.840409",
     "status": "completed"
    },
    "tags": []
   },
   "outputs": [],
   "source": [
    "df_pivot.columns = [\"stamp_1\", \"stamp_2\"]\n",
    "df_pivot_diff = df_pivot.diff(axis=1)"
   ]
  },
  {
   "cell_type": "code",
   "execution_count": 7,
   "id": "fifth-motion",
   "metadata": {
    "execution": {
     "iopub.execute_input": "2021-11-26T10:30:10.949735Z",
     "iopub.status.busy": "2021-11-26T10:30:10.947247Z",
     "iopub.status.idle": "2021-11-26T10:30:12.961086Z",
     "shell.execute_reply": "2021-11-26T10:30:12.963936Z"
    },
    "papermill": {
     "duration": 2.051881,
     "end_time": "2021-11-26T10:30:12.964792",
     "exception": false,
     "start_time": "2021-11-26T10:30:10.912911",
     "status": "completed"
    },
    "tags": []
   },
   "outputs": [
    {
     "data": {
      "text/plain": [
       "<AxesSubplot:ylabel='PRODUCT'>"
      ]
     },
     "execution_count": 7,
     "metadata": {},
     "output_type": "execute_result"
    },
    {
     "data": {
      "image/png": "[encoded data removed]",
      "text/plain": [
       "<Figure size 432x288 with 1 Axes>"
      ]
     },
     "metadata": {
      "needs_background": "light"
     },
     "output_type": "display_data"
    }
   ],
   "source": [
    "df_pivot_diff.sort_values(\"stamp_2\", ascending = False)[\"stamp_2\"].head(10).plot.barh()"
   ]
  },
  {
   "cell_type": "code",
   "execution_count": null,
   "id": "extra-executive",
   "metadata": {
    "papermill": {
     "duration": 0.027563,
     "end_time": "2021-11-26T10:30:13.026567",
     "exception": false,
     "start_time": "2021-11-26T10:30:12.999004",
     "status": "completed"
    },
    "tags": []
   },
   "outputs": [],
   "source": []
  }
 ],
 "metadata": {
  "kernelspec": {
   "display_name": "Python 3",
   "language": "python",
   "name": "python3"
  },
  "language_info": {
   "codemirror_mode": {
    "name": "ipython",
    "version": 3
   },
   "file_extension": ".py",
   "mimetype": "text/x-python",
   "name": "python",
   "nbconvert_exporter": "python",
   "pygments_lexer": "ipython3",
   "version": "3.9.5"
  },
  "papermill": {
   "default_parameters": {},
   "duration": 9.935769,
   "end_time": "2021-11-26T10:30:14.428206",
   "environment_variables": {},
   "exception": null,
   "input_path": "eBay_Overview.ipynb",
   "output_path": "eBay_Overview.ipynb",
   "parameters": {},
   "start_time": "2021-11-26T10:30:04.492437",
   "version": "2.3.3"
  }
 },
 "nbformat": 4,
 "nbformat_minor": 5
}