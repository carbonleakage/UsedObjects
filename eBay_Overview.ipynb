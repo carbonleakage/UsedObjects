{
 "cells": [
  {
   "cell_type": "code",
   "execution_count": 1,
   "id": "reverse-picking",
   "metadata": {
    "execution": {
     "iopub.execute_input": "2021-10-06T00:00:07.068962Z",
     "iopub.status.busy": "2021-10-06T00:00:07.066923Z",
     "iopub.status.idle": "2021-10-06T00:00:07.873497Z",
     "shell.execute_reply": "2021-10-06T00:00:07.874736Z"
    },
    "papermill": {
     "duration": 0.857009,
     "end_time": "2021-10-06T00:00:07.875555",
     "exception": false,
     "start_time": "2021-10-06T00:00:07.018546",
     "status": "completed"
    },
    "tags": []
   },
   "outputs": [],
   "source": [
    "import pandas as pd\n",
    "import sqlite3"
   ]
  },
  {
   "cell_type": "code",
   "execution_count": 2,
   "id": "innovative-syndrome",
   "metadata": {
    "execution": {
     "iopub.execute_input": "2021-10-06T00:00:07.928637Z",
     "iopub.status.busy": "2021-10-06T00:00:07.926191Z",
     "iopub.status.idle": "2021-10-06T00:00:08.383200Z",
     "shell.execute_reply": "2021-10-06T00:00:08.384397Z"
    },
    "papermill": {
     "duration": 0.4869,
     "end_time": "2021-10-06T00:00:08.384793",
     "exception": false,
     "start_time": "2021-10-06T00:00:07.897893",
     "status": "completed"
    },
    "tags": []
   },
   "outputs": [],
   "source": [
    "timestamps = pd.read_sql(\"select distinct record_time from EBAY_TOP_BERLIN order by record_time desc limit 2\", sqlite3.connect(\"UsedObjects.db\"))"
   ]
  },
  {
   "cell_type": "code",
   "execution_count": 3,
   "id": "periodic-identification",
   "metadata": {
    "execution": {
     "iopub.execute_input": "2021-10-06T00:00:08.449436Z",
     "iopub.status.busy": "2021-10-06T00:00:08.447217Z",
     "iopub.status.idle": "2021-10-06T00:00:08.468392Z",
     "shell.execute_reply": "2021-10-06T00:00:08.469515Z"
    },
    "papermill": {
     "duration": 0.065925,
     "end_time": "2021-10-06T00:00:08.469926",
     "exception": false,
     "start_time": "2021-10-06T00:00:08.404001",
     "status": "completed"
    },
    "tags": []
   },
   "outputs": [
    {
     "data": {
      "text/html": [
       "<div>\n",
       "<style scoped>\n",
       "    .dataframe tbody tr th:only-of-type {\n",
       "        vertical-align: middle;\n",
       "    }\n",
       "\n",
       "    .dataframe tbody tr th {\n",
       "        vertical-align: top;\n",
       "    }\n",
       "\n",
       "    .dataframe thead th {\n",
       "        text-align: right;\n",
       "    }\n",
       "</style>\n",
       "<table border=\"1\" class=\"dataframe\">\n",
       "  <thead>\n",
       "    <tr style=\"text-align: right;\">\n",
       "      <th></th>\n",
       "      <th>RECORD_TIME</th>\n",
       "    </tr>\n",
       "  </thead>\n",
       "  <tbody>\n",
       "    <tr>\n",
       "      <th>0</th>\n",
       "      <td>2021-10-06 02:00</td>\n",
       "    </tr>\n",
       "    <tr>\n",
       "      <th>1</th>\n",
       "      <td>2021-10-06 01:30</td>\n",
       "    </tr>\n",
       "  </tbody>\n",
       "</table>\n",
       "</div>"
      ],
      "text/plain": [
       "        RECORD_TIME\n",
       "0  2021-10-06 02:00\n",
       "1  2021-10-06 01:30"
      ]
     },
     "execution_count": 3,
     "metadata": {},
     "output_type": "execute_result"
    }
   ],
   "source": [
    "timestamps"
   ]
  },
  {
   "cell_type": "code",
   "execution_count": 4,
   "id": "alternate-victory",
   "metadata": {
    "execution": {
     "iopub.execute_input": "2021-10-06T00:00:08.537117Z",
     "iopub.status.busy": "2021-10-06T00:00:08.535260Z",
     "iopub.status.idle": "2021-10-06T00:00:09.214954Z",
     "shell.execute_reply": "2021-10-06T00:00:09.216343Z"
    },
    "papermill": {
     "duration": 0.715889,
     "end_time": "2021-10-06T00:00:09.216766",
     "exception": false,
     "start_time": "2021-10-06T00:00:08.500877",
     "status": "completed"
    },
    "tags": []
   },
   "outputs": [],
   "source": [
    "df = pd.read_sql(\"select * from EBAY_TOP_BERLIN where record_time in (select distinct record_time from EBAY_TOP_BERLIN order by record_time desc limit 2)\", sqlite3.connect(\"UsedObjects.db\"))"
   ]
  },
  {
   "cell_type": "code",
   "execution_count": 5,
   "id": "popular-active",
   "metadata": {
    "execution": {
     "iopub.execute_input": "2021-10-06T00:00:09.286557Z",
     "iopub.status.busy": "2021-10-06T00:00:09.274552Z",
     "iopub.status.idle": "2021-10-06T00:00:09.302403Z",
     "shell.execute_reply": "2021-10-06T00:00:09.303854Z"
    },
    "papermill": {
     "duration": 0.066965,
     "end_time": "2021-10-06T00:00:09.304267",
     "exception": false,
     "start_time": "2021-10-06T00:00:09.237302",
     "status": "completed"
    },
    "tags": []
   },
   "outputs": [],
   "source": [
    "df_pivot = df.pivot_table(index=\"PRODUCT\", columns = \"RECORD_TIME\", values = \"LISTING_COUNT\")"
   ]
  },
  {
   "cell_type": "code",
   "execution_count": 6,
   "id": "union-huntington",
   "metadata": {
    "execution": {
     "iopub.execute_input": "2021-10-06T00:00:09.362241Z",
     "iopub.status.busy": "2021-10-06T00:00:09.359935Z",
     "iopub.status.idle": "2021-10-06T00:00:09.366763Z",
     "shell.execute_reply": "2021-10-06T00:00:09.365374Z"
    },
    "papermill": {
     "duration": 0.041552,
     "end_time": "2021-10-06T00:00:09.367171",
     "exception": false,
     "start_time": "2021-10-06T00:00:09.325619",
     "status": "completed"
    },
    "tags": []
   },
   "outputs": [],
   "source": [
    "df_pivot.columns = [\"stamp_1\", \"stamp_2\"]\n",
    "df_pivot_diff = df_pivot.diff(axis=1)"
   ]
  },
  {
   "cell_type": "code",
   "execution_count": 7,
   "id": "fifth-motion",
   "metadata": {
    "execution": {
     "iopub.execute_input": "2021-10-06T00:00:09.421560Z",
     "iopub.status.busy": "2021-10-06T00:00:09.419178Z",
     "iopub.status.idle": "2021-10-06T00:00:10.923055Z",
     "shell.execute_reply": "2021-10-06T00:00:10.924366Z"
    },
    "papermill": {
     "duration": 1.53747,
     "end_time": "2021-10-06T00:00:10.924785",
     "exception": false,
     "start_time": "2021-10-06T00:00:09.387315",
     "status": "completed"
    },
    "tags": []
   },
   "outputs": [
    {
     "data": {
      "text/plain": [
       "<AxesSubplot:ylabel='PRODUCT'>"
      ]
     },
     "execution_count": 7,
     "metadata": {},
     "output_type": "execute_result"
    },
    {
     "data": {
      "image/png": "[encoded data removed]",
      "text/plain": [
       "<Figure size 432x288 with 1 Axes>"
      ]
     },
     "metadata": {
      "needs_background": "light"
     },
     "output_type": "display_data"
    }
   ],
   "source": [
    "df_pivot_diff.sort_values(\"stamp_2\", ascending = False)[\"stamp_2\"].head(10).plot.barh()"
   ]
  },
  {
   "cell_type": "code",
   "execution_count": null,
   "id": "extra-executive",
   "metadata": {
    "papermill": {
     "duration": 0.022286,
     "end_time": "2021-10-06T00:00:10.970357",
     "exception": false,
     "start_time": "2021-10-06T00:00:10.948071",
     "status": "completed"
    },
    "tags": []
   },
   "outputs": [],
   "source": []
  }
 ],
 "metadata": {
  "kernelspec": {
   "display_name": "Python 3",
   "language": "python",
   "name": "python3"
  },
  "language_info": {
   "codemirror_mode": {
    "name": "ipython",
    "version": 3
   },
   "file_extension": ".py",
   "mimetype": "text/x-python",
   "name": "python",
   "nbconvert_exporter": "python",
   "pygments_lexer": "ipython3",
   "version": "3.9.5"
  },
  "papermill": {
   "default_parameters": {},
   "duration": 7.819979,
   "end_time": "2021-10-06T00:00:12.434212",
   "environment_variables": {},
   "exception": null,
   "input_path": "eBay_Overview.ipynb",
   "output_path": "eBay_Overview.ipynb",
   "parameters": {},
   "start_time": "2021-10-06T00:00:04.614233",
   "version": "2.3.3"
  }
 },
 "nbformat": 4,
 "nbformat_minor": 5
}