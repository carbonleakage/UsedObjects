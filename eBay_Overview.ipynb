{
 "cells": [
  {
   "cell_type": "code",
   "execution_count": 1,
   "id": "reverse-picking",
   "metadata": {
    "execution": {
     "iopub.execute_input": "2021-08-21T19:00:07.712333Z",
     "iopub.status.busy": "2021-08-21T19:00:07.710393Z",
     "iopub.status.idle": "2021-08-21T19:00:08.515917Z",
     "shell.execute_reply": "2021-08-21T19:00:08.517158Z"
    },
    "papermill": {
     "duration": 0.857596,
     "end_time": "2021-08-21T19:00:08.517796",
     "exception": false,
     "start_time": "2021-08-21T19:00:07.660200",
     "status": "completed"
    },
    "tags": []
   },
   "outputs": [],
   "source": [
    "import pandas as pd\n",
    "import sqlite3"
   ]
  },
  {
   "cell_type": "code",
   "execution_count": 2,
   "id": "innovative-syndrome",
   "metadata": {
    "execution": {
     "iopub.execute_input": "2021-08-21T19:00:08.569530Z",
     "iopub.status.busy": "2021-08-21T19:00:08.567668Z",
     "iopub.status.idle": "2021-08-21T19:00:08.666077Z",
     "shell.execute_reply": "2021-08-21T19:00:08.667473Z"
    },
    "papermill": {
     "duration": 0.128406,
     "end_time": "2021-08-21T19:00:08.667915",
     "exception": false,
     "start_time": "2021-08-21T19:00:08.539509",
     "status": "completed"
    },
    "tags": []
   },
   "outputs": [],
   "source": [
    "timestamps = pd.read_sql(\"select distinct record_time from EBAY_TOP_BERLIN order by record_time desc limit 2\", sqlite3.connect(\"UsedObjects.db\"))"
   ]
  },
  {
   "cell_type": "code",
   "execution_count": 3,
   "id": "periodic-identification",
   "metadata": {
    "execution": {
     "iopub.execute_input": "2021-08-21T19:00:08.735296Z",
     "iopub.status.busy": "2021-08-21T19:00:08.733202Z",
     "iopub.status.idle": "2021-08-21T19:00:08.753510Z",
     "shell.execute_reply": "2021-08-21T19:00:08.754797Z"
    },
    "papermill": {
     "duration": 0.067281,
     "end_time": "2021-08-21T19:00:08.755242",
     "exception": false,
     "start_time": "2021-08-21T19:00:08.687961",
     "status": "completed"
    },
    "tags": []
   },
   "outputs": [
    {
     "data": {
      "text/html": [
       "<div>\n",
       "<style scoped>\n",
       "    .dataframe tbody tr th:only-of-type {\n",
       "        vertical-align: middle;\n",
       "    }\n",
       "\n",
       "    .dataframe tbody tr th {\n",
       "        vertical-align: top;\n",
       "    }\n",
       "\n",
       "    .dataframe thead th {\n",
       "        text-align: right;\n",
       "    }\n",
       "</style>\n",
       "<table border=\"1\" class=\"dataframe\">\n",
       "  <thead>\n",
       "    <tr style=\"text-align: right;\">\n",
       "      <th></th>\n",
       "      <th>RECORD_TIME</th>\n",
       "    </tr>\n",
       "  </thead>\n",
       "  <tbody>\n",
       "    <tr>\n",
       "      <th>0</th>\n",
       "      <td>2021-08-21 21:00</td>\n",
       "    </tr>\n",
       "    <tr>\n",
       "      <th>1</th>\n",
       "      <td>2021-08-21 20:30</td>\n",
       "    </tr>\n",
       "  </tbody>\n",
       "</table>\n",
       "</div>"
      ],
      "text/plain": [
       "        RECORD_TIME\n",
       "0  2021-08-21 21:00\n",
       "1  2021-08-21 20:30"
      ]
     },
     "execution_count": 3,
     "metadata": {},
     "output_type": "execute_result"
    }
   ],
   "source": [
    "timestamps"
   ]
  },
  {
   "cell_type": "code",
   "execution_count": 4,
   "id": "alternate-victory",
   "metadata": {
    "execution": {
     "iopub.execute_input": "2021-08-21T19:00:08.807092Z",
     "iopub.status.busy": "2021-08-21T19:00:08.805144Z",
     "iopub.status.idle": "2021-08-21T19:00:08.955688Z",
     "shell.execute_reply": "2021-08-21T19:00:08.956907Z"
    },
    "papermill": {
     "duration": 0.180625,
     "end_time": "2021-08-21T19:00:08.957301",
     "exception": false,
     "start_time": "2021-08-21T19:00:08.776676",
     "status": "completed"
    },
    "tags": []
   },
   "outputs": [],
   "source": [
    "df = pd.read_sql(\"select * from EBAY_TOP_BERLIN where record_time in (select distinct record_time from EBAY_TOP_BERLIN order by record_time desc limit 2)\", sqlite3.connect(\"UsedObjects.db\"))"
   ]
  },
  {
   "cell_type": "code",
   "execution_count": 5,
   "id": "popular-active",
   "metadata": {
    "execution": {
     "iopub.execute_input": "2021-08-21T19:00:09.022287Z",
     "iopub.status.busy": "2021-08-21T19:00:09.015638Z",
     "iopub.status.idle": "2021-08-21T19:00:09.043285Z",
     "shell.execute_reply": "2021-08-21T19:00:09.044693Z"
    },
    "papermill": {
     "duration": 0.06648,
     "end_time": "2021-08-21T19:00:09.045131",
     "exception": false,
     "start_time": "2021-08-21T19:00:08.978651",
     "status": "completed"
    },
    "tags": []
   },
   "outputs": [],
   "source": [
    "df_pivot = df.pivot_table(index=\"PRODUCT\", columns = \"RECORD_TIME\", values = \"LISTING_COUNT\")"
   ]
  },
  {
   "cell_type": "code",
   "execution_count": 6,
   "id": "union-huntington",
   "metadata": {
    "execution": {
     "iopub.execute_input": "2021-08-21T19:00:09.103014Z",
     "iopub.status.busy": "2021-08-21T19:00:09.100873Z",
     "iopub.status.idle": "2021-08-21T19:00:09.106098Z",
     "shell.execute_reply": "2021-08-21T19:00:09.107406Z"
    },
    "papermill": {
     "duration": 0.042272,
     "end_time": "2021-08-21T19:00:09.107826",
     "exception": false,
     "start_time": "2021-08-21T19:00:09.065554",
     "status": "completed"
    },
    "tags": []
   },
   "outputs": [],
   "source": [
    "df_pivot.columns = [\"stamp_1\", \"stamp_2\"]\n",
    "df_pivot_diff = df_pivot.diff(axis=1)"
   ]
  },
  {
   "cell_type": "code",
   "execution_count": 7,
   "id": "fifth-motion",
   "metadata": {
    "execution": {
     "iopub.execute_input": "2021-08-21T19:00:09.164155Z",
     "iopub.status.busy": "2021-08-21T19:00:09.161595Z",
     "iopub.status.idle": "2021-08-21T19:00:10.638783Z",
     "shell.execute_reply": "2021-08-21T19:00:10.640093Z"
    },
    "papermill": {
     "duration": 1.511096,
     "end_time": "2021-08-21T19:00:10.640519",
     "exception": false,
     "start_time": "2021-08-21T19:00:09.129423",
     "status": "completed"
    },
    "tags": []
   },
   "outputs": [
    {
     "data": {
      "text/plain": [
       "<AxesSubplot:ylabel='PRODUCT'>"
      ]
     },
     "execution_count": 7,
     "metadata": {},
     "output_type": "execute_result"
    },
    {
     "data": {
      "image/png": "[encoded data removed]",
      "text/plain": [
       "<Figure size 432x288 with 1 Axes>"
      ]
     },
     "metadata": {
      "needs_background": "light"
     },
     "output_type": "display_data"
    }
   ],
   "source": [
    "df_pivot_diff.sort_values(\"stamp_2\", ascending = False)[\"stamp_2\"].head(10).plot.barh()"
   ]
  },
  {
   "cell_type": "code",
   "execution_count": null,
   "id": "extra-executive",
   "metadata": {
    "papermill": {
     "duration": 0.022465,
     "end_time": "2021-08-21T19:00:10.687818",
     "exception": false,
     "start_time": "2021-08-21T19:00:10.665353",
     "status": "completed"
    },
    "tags": []
   },
   "outputs": [],
   "source": []
  }
 ],
 "metadata": {
  "kernelspec": {
   "display_name": "Python 3",
   "language": "python",
   "name": "python3"
  },
  "language_info": {
   "codemirror_mode": {
    "name": "ipython",
    "version": 3
   },
   "file_extension": ".py",
   "mimetype": "text/x-python",
   "name": "python",
   "nbconvert_exporter": "python",
   "pygments_lexer": "ipython3",
   "version": "3.9.5"
  },
  "papermill": {
   "default_parameters": {},
   "duration": 6.830249,
   "end_time": "2021-08-21T19:00:12.086554",
   "environment_variables": {},
   "exception": null,
   "input_path": "eBay_Overview.ipynb",
   "output_path": "eBay_Overview.ipynb",
   "parameters": {},
   "start_time": "2021-08-21T19:00:05.256305",
   "version": "2.3.3"
  }
 },
 "nbformat": 4,
 "nbformat_minor": 5
}