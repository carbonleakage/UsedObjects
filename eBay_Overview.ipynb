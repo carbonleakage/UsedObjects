{
 "cells": [
  {
   "cell_type": "code",
   "execution_count": 1,
   "id": "reverse-picking",
   "metadata": {
    "execution": {
     "iopub.execute_input": "2021-09-12T08:30:07.673002Z",
     "iopub.status.busy": "2021-09-12T08:30:07.671036Z",
     "iopub.status.idle": "2021-09-12T08:30:08.480738Z",
     "shell.execute_reply": "2021-09-12T08:30:08.481985Z"
    },
    "papermill": {
     "duration": 0.863515,
     "end_time": "2021-09-12T08:30:08.482603",
     "exception": false,
     "start_time": "2021-09-12T08:30:07.619088",
     "status": "completed"
    },
    "tags": []
   },
   "outputs": [],
   "source": [
    "import pandas as pd\n",
    "import sqlite3"
   ]
  },
  {
   "cell_type": "code",
   "execution_count": 2,
   "id": "innovative-syndrome",
   "metadata": {
    "execution": {
     "iopub.execute_input": "2021-09-12T08:30:08.535668Z",
     "iopub.status.busy": "2021-09-12T08:30:08.533270Z",
     "iopub.status.idle": "2021-09-12T08:30:08.809702Z",
     "shell.execute_reply": "2021-09-12T08:30:08.811026Z"
    },
    "papermill": {
     "duration": 0.306522,
     "end_time": "2021-09-12T08:30:08.811452",
     "exception": false,
     "start_time": "2021-09-12T08:30:08.504930",
     "status": "completed"
    },
    "tags": []
   },
   "outputs": [],
   "source": [
    "timestamps = pd.read_sql(\"select distinct record_time from EBAY_TOP_BERLIN order by record_time desc limit 2\", sqlite3.connect(\"UsedObjects.db\"))"
   ]
  },
  {
   "cell_type": "code",
   "execution_count": 3,
   "id": "periodic-identification",
   "metadata": {
    "execution": {
     "iopub.execute_input": "2021-09-12T08:30:08.878096Z",
     "iopub.status.busy": "2021-09-12T08:30:08.876065Z",
     "iopub.status.idle": "2021-09-12T08:30:08.896057Z",
     "shell.execute_reply": "2021-09-12T08:30:08.897350Z"
    },
    "papermill": {
     "duration": 0.066918,
     "end_time": "2021-09-12T08:30:08.897758",
     "exception": false,
     "start_time": "2021-09-12T08:30:08.830840",
     "status": "completed"
    },
    "tags": []
   },
   "outputs": [
    {
     "data": {
      "text/html": [
       "<div>\n",
       "<style scoped>\n",
       "    .dataframe tbody tr th:only-of-type {\n",
       "        vertical-align: middle;\n",
       "    }\n",
       "\n",
       "    .dataframe tbody tr th {\n",
       "        vertical-align: top;\n",
       "    }\n",
       "\n",
       "    .dataframe thead th {\n",
       "        text-align: right;\n",
       "    }\n",
       "</style>\n",
       "<table border=\"1\" class=\"dataframe\">\n",
       "  <thead>\n",
       "    <tr style=\"text-align: right;\">\n",
       "      <th></th>\n",
       "      <th>RECORD_TIME</th>\n",
       "    </tr>\n",
       "  </thead>\n",
       "  <tbody>\n",
       "    <tr>\n",
       "      <th>0</th>\n",
       "      <td>2021-09-12 10:30</td>\n",
       "    </tr>\n",
       "    <tr>\n",
       "      <th>1</th>\n",
       "      <td>2021-09-12 10:00</td>\n",
       "    </tr>\n",
       "  </tbody>\n",
       "</table>\n",
       "</div>"
      ],
      "text/plain": [
       "        RECORD_TIME\n",
       "0  2021-09-12 10:30\n",
       "1  2021-09-12 10:00"
      ]
     },
     "execution_count": 3,
     "metadata": {},
     "output_type": "execute_result"
    }
   ],
   "source": [
    "timestamps"
   ]
  },
  {
   "cell_type": "code",
   "execution_count": 4,
   "id": "alternate-victory",
   "metadata": {
    "execution": {
     "iopub.execute_input": "2021-09-12T08:30:08.949685Z",
     "iopub.status.busy": "2021-09-12T08:30:08.947521Z",
     "iopub.status.idle": "2021-09-12T08:30:09.340996Z",
     "shell.execute_reply": "2021-09-12T08:30:09.342207Z"
    },
    "papermill": {
     "duration": 0.423662,
     "end_time": "2021-09-12T08:30:09.342602",
     "exception": false,
     "start_time": "2021-09-12T08:30:08.918940",
     "status": "completed"
    },
    "tags": []
   },
   "outputs": [],
   "source": [
    "df = pd.read_sql(\"select * from EBAY_TOP_BERLIN where record_time in (select distinct record_time from EBAY_TOP_BERLIN order by record_time desc limit 2)\", sqlite3.connect(\"UsedObjects.db\"))"
   ]
  },
  {
   "cell_type": "code",
   "execution_count": 5,
   "id": "popular-active",
   "metadata": {
    "execution": {
     "iopub.execute_input": "2021-09-12T08:30:09.414975Z",
     "iopub.status.busy": "2021-09-12T08:30:09.412727Z",
     "iopub.status.idle": "2021-09-12T08:30:09.439816Z",
     "shell.execute_reply": "2021-09-12T08:30:09.441061Z"
    },
    "papermill": {
     "duration": 0.07065,
     "end_time": "2021-09-12T08:30:09.441458",
     "exception": false,
     "start_time": "2021-09-12T08:30:09.370808",
     "status": "completed"
    },
    "tags": []
   },
   "outputs": [],
   "source": [
    "df_pivot = df.pivot_table(index=\"PRODUCT\", columns = \"RECORD_TIME\", values = \"LISTING_COUNT\")"
   ]
  },
  {
   "cell_type": "code",
   "execution_count": 6,
   "id": "union-huntington",
   "metadata": {
    "execution": {
     "iopub.execute_input": "2021-09-12T08:30:09.497578Z",
     "iopub.status.busy": "2021-09-12T08:30:09.495498Z",
     "iopub.status.idle": "2021-09-12T08:30:09.500689Z",
     "shell.execute_reply": "2021-09-12T08:30:09.501961Z"
    },
    "papermill": {
     "duration": 0.040216,
     "end_time": "2021-09-12T08:30:09.502379",
     "exception": false,
     "start_time": "2021-09-12T08:30:09.462163",
     "status": "completed"
    },
    "tags": []
   },
   "outputs": [],
   "source": [
    "df_pivot.columns = [\"stamp_1\", \"stamp_2\"]\n",
    "df_pivot_diff = df_pivot.diff(axis=1)"
   ]
  },
  {
   "cell_type": "code",
   "execution_count": 7,
   "id": "fifth-motion",
   "metadata": {
    "execution": {
     "iopub.execute_input": "2021-09-12T08:30:09.559145Z",
     "iopub.status.busy": "2021-09-12T08:30:09.556392Z",
     "iopub.status.idle": "2021-09-12T08:30:11.070186Z",
     "shell.execute_reply": "2021-09-12T08:30:11.071833Z"
    },
    "papermill": {
     "duration": 1.547946,
     "end_time": "2021-09-12T08:30:11.072295",
     "exception": false,
     "start_time": "2021-09-12T08:30:09.524349",
     "status": "completed"
    },
    "tags": []
   },
   "outputs": [
    {
     "data": {
      "text/plain": [
       "<AxesSubplot:ylabel='PRODUCT'>"
      ]
     },
     "execution_count": 7,
     "metadata": {},
     "output_type": "execute_result"
    },
    {
     "data": {
      "image/png": "[encoded data removed]",
      "text/plain": [
       "<Figure size 432x288 with 1 Axes>"
      ]
     },
     "metadata": {
      "needs_background": "light"
     },
     "output_type": "display_data"
    }
   ],
   "source": [
    "df_pivot_diff.sort_values(\"stamp_2\", ascending = False)[\"stamp_2\"].head(10).plot.barh()"
   ]
  },
  {
   "cell_type": "code",
   "execution_count": null,
   "id": "extra-executive",
   "metadata": {
    "papermill": {
     "duration": 0.02211,
     "end_time": "2021-09-12T08:30:11.120917",
     "exception": false,
     "start_time": "2021-09-12T08:30:11.098807",
     "status": "completed"
    },
    "tags": []
   },
   "outputs": [],
   "source": []
  }
 ],
 "metadata": {
  "kernelspec": {
   "display_name": "Python 3",
   "language": "python",
   "name": "python3"
  },
  "language_info": {
   "codemirror_mode": {
    "name": "ipython",
    "version": 3
   },
   "file_extension": ".py",
   "mimetype": "text/x-python",
   "name": "python",
   "nbconvert_exporter": "python",
   "pygments_lexer": "ipython3",
   "version": "3.9.5"
  },
  "papermill": {
   "default_parameters": {},
   "duration": 6.555447,
   "end_time": "2021-09-12T08:30:11.761700",
   "environment_variables": {},
   "exception": null,
   "input_path": "eBay_Overview.ipynb",
   "output_path": "eBay_Overview.ipynb",
   "parameters": {},
   "start_time": "2021-09-12T08:30:05.206253",
   "version": "2.3.3"
  }
 },
 "nbformat": 4,
 "nbformat_minor": 5
}