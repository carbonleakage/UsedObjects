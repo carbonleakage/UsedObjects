{
 "cells": [
  {
   "cell_type": "code",
   "execution_count": 1,
   "id": "reverse-picking",
   "metadata": {
    "execution": {
     "iopub.execute_input": "2021-09-12T12:00:07.141310Z",
     "iopub.status.busy": "2021-09-12T12:00:07.139370Z",
     "iopub.status.idle": "2021-09-12T12:00:07.951774Z",
     "shell.execute_reply": "2021-09-12T12:00:07.953215Z"
    },
    "papermill": {
     "duration": 0.865378,
     "end_time": "2021-09-12T12:00:07.953891",
     "exception": false,
     "start_time": "2021-09-12T12:00:07.088513",
     "status": "completed"
    },
    "tags": []
   },
   "outputs": [],
   "source": [
    "import pandas as pd\n",
    "import sqlite3"
   ]
  },
  {
   "cell_type": "code",
   "execution_count": 2,
   "id": "innovative-syndrome",
   "metadata": {
    "execution": {
     "iopub.execute_input": "2021-09-12T12:00:08.005577Z",
     "iopub.status.busy": "2021-09-12T12:00:08.003270Z",
     "iopub.status.idle": "2021-09-12T12:00:08.273455Z",
     "shell.execute_reply": "2021-09-12T12:00:08.274647Z"
    },
    "papermill": {
     "duration": 0.300686,
     "end_time": "2021-09-12T12:00:08.275216",
     "exception": false,
     "start_time": "2021-09-12T12:00:07.974530",
     "status": "completed"
    },
    "tags": []
   },
   "outputs": [],
   "source": [
    "timestamps = pd.read_sql(\"select distinct record_time from EBAY_TOP_BERLIN order by record_time desc limit 2\", sqlite3.connect(\"UsedObjects.db\"))"
   ]
  },
  {
   "cell_type": "code",
   "execution_count": 3,
   "id": "periodic-identification",
   "metadata": {
    "execution": {
     "iopub.execute_input": "2021-09-12T12:00:08.347773Z",
     "iopub.status.busy": "2021-09-12T12:00:08.342409Z",
     "iopub.status.idle": "2021-09-12T12:00:08.362788Z",
     "shell.execute_reply": "2021-09-12T12:00:08.364330Z"
    },
    "papermill": {
     "duration": 0.067798,
     "end_time": "2021-09-12T12:00:08.364775",
     "exception": false,
     "start_time": "2021-09-12T12:00:08.296977",
     "status": "completed"
    },
    "tags": []
   },
   "outputs": [
    {
     "data": {
      "text/html": [
       "<div>\n",
       "<style scoped>\n",
       "    .dataframe tbody tr th:only-of-type {\n",
       "        vertical-align: middle;\n",
       "    }\n",
       "\n",
       "    .dataframe tbody tr th {\n",
       "        vertical-align: top;\n",
       "    }\n",
       "\n",
       "    .dataframe thead th {\n",
       "        text-align: right;\n",
       "    }\n",
       "</style>\n",
       "<table border=\"1\" class=\"dataframe\">\n",
       "  <thead>\n",
       "    <tr style=\"text-align: right;\">\n",
       "      <th></th>\n",
       "      <th>RECORD_TIME</th>\n",
       "    </tr>\n",
       "  </thead>\n",
       "  <tbody>\n",
       "    <tr>\n",
       "      <th>0</th>\n",
       "      <td>2021-09-12 14:00</td>\n",
       "    </tr>\n",
       "    <tr>\n",
       "      <th>1</th>\n",
       "      <td>2021-09-12 13:30</td>\n",
       "    </tr>\n",
       "  </tbody>\n",
       "</table>\n",
       "</div>"
      ],
      "text/plain": [
       "        RECORD_TIME\n",
       "0  2021-09-12 14:00\n",
       "1  2021-09-12 13:30"
      ]
     },
     "execution_count": 3,
     "metadata": {},
     "output_type": "execute_result"
    }
   ],
   "source": [
    "timestamps"
   ]
  },
  {
   "cell_type": "code",
   "execution_count": 4,
   "id": "alternate-victory",
   "metadata": {
    "execution": {
     "iopub.execute_input": "2021-09-12T12:00:08.416508Z",
     "iopub.status.busy": "2021-09-12T12:00:08.414405Z",
     "iopub.status.idle": "2021-09-12T12:00:08.824165Z",
     "shell.execute_reply": "2021-09-12T12:00:08.825358Z"
    },
    "papermill": {
     "duration": 0.439984,
     "end_time": "2021-09-12T12:00:08.825786",
     "exception": false,
     "start_time": "2021-09-12T12:00:08.385802",
     "status": "completed"
    },
    "tags": []
   },
   "outputs": [],
   "source": [
    "df = pd.read_sql(\"select * from EBAY_TOP_BERLIN where record_time in (select distinct record_time from EBAY_TOP_BERLIN order by record_time desc limit 2)\", sqlite3.connect(\"UsedObjects.db\"))"
   ]
  },
  {
   "cell_type": "code",
   "execution_count": 5,
   "id": "popular-active",
   "metadata": {
    "execution": {
     "iopub.execute_input": "2021-09-12T12:00:08.895899Z",
     "iopub.status.busy": "2021-09-12T12:00:08.884628Z",
     "iopub.status.idle": "2021-09-12T12:00:08.912485Z",
     "shell.execute_reply": "2021-09-12T12:00:08.913683Z"
    },
    "papermill": {
     "duration": 0.068179,
     "end_time": "2021-09-12T12:00:08.914071",
     "exception": false,
     "start_time": "2021-09-12T12:00:08.845892",
     "status": "completed"
    },
    "tags": []
   },
   "outputs": [],
   "source": [
    "df_pivot = df.pivot_table(index=\"PRODUCT\", columns = \"RECORD_TIME\", values = \"LISTING_COUNT\")"
   ]
  },
  {
   "cell_type": "code",
   "execution_count": 6,
   "id": "union-huntington",
   "metadata": {
    "execution": {
     "iopub.execute_input": "2021-09-12T12:00:08.973703Z",
     "iopub.status.busy": "2021-09-12T12:00:08.971268Z",
     "iopub.status.idle": "2021-09-12T12:00:08.977150Z",
     "shell.execute_reply": "2021-09-12T12:00:08.978402Z"
    },
    "papermill": {
     "duration": 0.042494,
     "end_time": "2021-09-12T12:00:08.978850",
     "exception": false,
     "start_time": "2021-09-12T12:00:08.936356",
     "status": "completed"
    },
    "tags": []
   },
   "outputs": [],
   "source": [
    "df_pivot.columns = [\"stamp_1\", \"stamp_2\"]\n",
    "df_pivot_diff = df_pivot.diff(axis=1)"
   ]
  },
  {
   "cell_type": "code",
   "execution_count": 7,
   "id": "fifth-motion",
   "metadata": {
    "execution": {
     "iopub.execute_input": "2021-09-12T12:00:09.033750Z",
     "iopub.status.busy": "2021-09-12T12:00:09.031428Z",
     "iopub.status.idle": "2021-09-12T12:00:10.527005Z",
     "shell.execute_reply": "2021-09-12T12:00:10.528300Z"
    },
    "papermill": {
     "duration": 1.529135,
     "end_time": "2021-09-12T12:00:10.528712",
     "exception": false,
     "start_time": "2021-09-12T12:00:08.999577",
     "status": "completed"
    },
    "tags": []
   },
   "outputs": [
    {
     "data": {
      "text/plain": [
       "<AxesSubplot:ylabel='PRODUCT'>"
      ]
     },
     "execution_count": 7,
     "metadata": {},
     "output_type": "execute_result"
    },
    {
     "data": {
      "image/png": "[encoded data removed]",
      "text/plain": [
       "<Figure size 432x288 with 1 Axes>"
      ]
     },
     "metadata": {
      "needs_background": "light"
     },
     "output_type": "display_data"
    }
   ],
   "source": [
    "df_pivot_diff.sort_values(\"stamp_2\", ascending = False)[\"stamp_2\"].head(10).plot.barh()"
   ]
  },
  {
   "cell_type": "code",
   "execution_count": null,
   "id": "extra-executive",
   "metadata": {
    "papermill": {
     "duration": 0.022142,
     "end_time": "2021-09-12T12:00:10.574533",
     "exception": false,
     "start_time": "2021-09-12T12:00:10.552391",
     "status": "completed"
    },
    "tags": []
   },
   "outputs": [],
   "source": []
  }
 ],
 "metadata": {
  "kernelspec": {
   "display_name": "Python 3",
   "language": "python",
   "name": "python3"
  },
  "language_info": {
   "codemirror_mode": {
    "name": "ipython",
    "version": 3
   },
   "file_extension": ".py",
   "mimetype": "text/x-python",
   "name": "python",
   "nbconvert_exporter": "python",
   "pygments_lexer": "ipython3",
   "version": "3.9.5"
  },
  "papermill": {
   "default_parameters": {},
   "duration": 6.546986,
   "end_time": "2021-09-12T12:00:11.216245",
   "environment_variables": {},
   "exception": null,
   "input_path": "eBay_Overview.ipynb",
   "output_path": "eBay_Overview.ipynb",
   "parameters": {},
   "start_time": "2021-09-12T12:00:04.669259",
   "version": "2.3.3"
  }
 },
 "nbformat": 4,
 "nbformat_minor": 5
}