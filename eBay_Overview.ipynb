{
 "cells": [
  {
   "cell_type": "code",
   "execution_count": 1,
   "id": "reverse-picking",
   "metadata": {
    "execution": {
     "iopub.execute_input": "2021-10-20T05:30:07.076583Z",
     "iopub.status.busy": "2021-10-20T05:30:07.074622Z",
     "iopub.status.idle": "2021-10-20T05:30:07.882594Z",
     "shell.execute_reply": "2021-10-20T05:30:07.883860Z"
    },
    "papermill": {
     "duration": 0.858429,
     "end_time": "2021-10-20T05:30:07.884487",
     "exception": false,
     "start_time": "2021-10-20T05:30:07.026058",
     "status": "completed"
    },
    "tags": []
   },
   "outputs": [],
   "source": [
    "import pandas as pd\n",
    "import sqlite3"
   ]
  },
  {
   "cell_type": "code",
   "execution_count": 2,
   "id": "innovative-syndrome",
   "metadata": {
    "execution": {
     "iopub.execute_input": "2021-10-20T05:30:07.937420Z",
     "iopub.status.busy": "2021-10-20T05:30:07.934969Z",
     "iopub.status.idle": "2021-10-20T05:30:08.541119Z",
     "shell.execute_reply": "2021-10-20T05:30:08.542357Z"
    },
    "papermill": {
     "duration": 0.63595,
     "end_time": "2021-10-20T05:30:08.542754",
     "exception": false,
     "start_time": "2021-10-20T05:30:07.906804",
     "status": "completed"
    },
    "tags": []
   },
   "outputs": [],
   "source": [
    "timestamps = pd.read_sql(\"select distinct record_time from EBAY_TOP_BERLIN order by record_time desc limit 2\", sqlite3.connect(\"UsedObjects.db\"))"
   ]
  },
  {
   "cell_type": "code",
   "execution_count": 3,
   "id": "periodic-identification",
   "metadata": {
    "execution": {
     "iopub.execute_input": "2021-10-20T05:30:08.617864Z",
     "iopub.status.busy": "2021-10-20T05:30:08.615773Z",
     "iopub.status.idle": "2021-10-20T05:30:08.635619Z",
     "shell.execute_reply": "2021-10-20T05:30:08.637065Z"
    },
    "papermill": {
     "duration": 0.069326,
     "end_time": "2021-10-20T05:30:08.637498",
     "exception": false,
     "start_time": "2021-10-20T05:30:08.568172",
     "status": "completed"
    },
    "tags": []
   },
   "outputs": [
    {
     "data": {
      "text/html": [
       "<div>\n",
       "<style scoped>\n",
       "    .dataframe tbody tr th:only-of-type {\n",
       "        vertical-align: middle;\n",
       "    }\n",
       "\n",
       "    .dataframe tbody tr th {\n",
       "        vertical-align: top;\n",
       "    }\n",
       "\n",
       "    .dataframe thead th {\n",
       "        text-align: right;\n",
       "    }\n",
       "</style>\n",
       "<table border=\"1\" class=\"dataframe\">\n",
       "  <thead>\n",
       "    <tr style=\"text-align: right;\">\n",
       "      <th></th>\n",
       "      <th>RECORD_TIME</th>\n",
       "    </tr>\n",
       "  </thead>\n",
       "  <tbody>\n",
       "    <tr>\n",
       "      <th>0</th>\n",
       "      <td>2021-10-20 07:30</td>\n",
       "    </tr>\n",
       "    <tr>\n",
       "      <th>1</th>\n",
       "      <td>2021-10-20 07:00</td>\n",
       "    </tr>\n",
       "  </tbody>\n",
       "</table>\n",
       "</div>"
      ],
      "text/plain": [
       "        RECORD_TIME\n",
       "0  2021-10-20 07:30\n",
       "1  2021-10-20 07:00"
      ]
     },
     "execution_count": 3,
     "metadata": {},
     "output_type": "execute_result"
    }
   ],
   "source": [
    "timestamps"
   ]
  },
  {
   "cell_type": "code",
   "execution_count": 4,
   "id": "alternate-victory",
   "metadata": {
    "execution": {
     "iopub.execute_input": "2021-10-20T05:30:08.691090Z",
     "iopub.status.busy": "2021-10-20T05:30:08.689059Z",
     "iopub.status.idle": "2021-10-20T05:30:09.545552Z",
     "shell.execute_reply": "2021-10-20T05:30:09.546808Z"
    },
    "papermill": {
     "duration": 0.886733,
     "end_time": "2021-10-20T05:30:09.547214",
     "exception": false,
     "start_time": "2021-10-20T05:30:08.660481",
     "status": "completed"
    },
    "tags": []
   },
   "outputs": [],
   "source": [
    "df = pd.read_sql(\"select * from EBAY_TOP_BERLIN where record_time in (select distinct record_time from EBAY_TOP_BERLIN order by record_time desc limit 2)\", sqlite3.connect(\"UsedObjects.db\"))"
   ]
  },
  {
   "cell_type": "code",
   "execution_count": 5,
   "id": "popular-active",
   "metadata": {
    "execution": {
     "iopub.execute_input": "2021-10-20T05:30:09.617489Z",
     "iopub.status.busy": "2021-10-20T05:30:09.604658Z",
     "iopub.status.idle": "2021-10-20T05:30:09.633142Z",
     "shell.execute_reply": "2021-10-20T05:30:09.634390Z"
    },
    "papermill": {
     "duration": 0.067272,
     "end_time": "2021-10-20T05:30:09.634788",
     "exception": false,
     "start_time": "2021-10-20T05:30:09.567516",
     "status": "completed"
    },
    "tags": []
   },
   "outputs": [],
   "source": [
    "df_pivot = df.pivot_table(index=\"PRODUCT\", columns = \"RECORD_TIME\", values = \"LISTING_COUNT\")"
   ]
  },
  {
   "cell_type": "code",
   "execution_count": 6,
   "id": "union-huntington",
   "metadata": {
    "execution": {
     "iopub.execute_input": "2021-10-20T05:30:09.689905Z",
     "iopub.status.busy": "2021-10-20T05:30:09.687894Z",
     "iopub.status.idle": "2021-10-20T05:30:09.692977Z",
     "shell.execute_reply": "2021-10-20T05:30:09.694347Z"
    },
    "papermill": {
     "duration": 0.039449,
     "end_time": "2021-10-20T05:30:09.694768",
     "exception": false,
     "start_time": "2021-10-20T05:30:09.655319",
     "status": "completed"
    },
    "tags": []
   },
   "outputs": [],
   "source": [
    "df_pivot.columns = [\"stamp_1\", \"stamp_2\"]\n",
    "df_pivot_diff = df_pivot.diff(axis=1)"
   ]
  },
  {
   "cell_type": "code",
   "execution_count": 7,
   "id": "fifth-motion",
   "metadata": {
    "execution": {
     "iopub.execute_input": "2021-10-20T05:30:09.748999Z",
     "iopub.status.busy": "2021-10-20T05:30:09.746554Z",
     "iopub.status.idle": "2021-10-20T05:30:11.217999Z",
     "shell.execute_reply": "2021-10-20T05:30:11.219306Z"
    },
    "papermill": {
     "duration": 1.503993,
     "end_time": "2021-10-20T05:30:11.219730",
     "exception": false,
     "start_time": "2021-10-20T05:30:09.715737",
     "status": "completed"
    },
    "tags": []
   },
   "outputs": [
    {
     "data": {
      "text/plain": [
       "<AxesSubplot:ylabel='PRODUCT'>"
      ]
     },
     "execution_count": 7,
     "metadata": {},
     "output_type": "execute_result"
    },
    {
     "data": {
      "image/png": "[encoded data removed]",
      "text/plain": [
       "<Figure size 432x288 with 1 Axes>"
      ]
     },
     "metadata": {
      "needs_background": "light"
     },
     "output_type": "display_data"
    }
   ],
   "source": [
    "df_pivot_diff.sort_values(\"stamp_2\", ascending = False)[\"stamp_2\"].head(10).plot.barh()"
   ]
  },
  {
   "cell_type": "code",
   "execution_count": null,
   "id": "extra-executive",
   "metadata": {
    "papermill": {
     "duration": 0.02196,
     "end_time": "2021-10-20T05:30:11.265425",
     "exception": false,
     "start_time": "2021-10-20T05:30:11.243465",
     "status": "completed"
    },
    "tags": []
   },
   "outputs": [],
   "source": []
  }
 ],
 "metadata": {
  "kernelspec": {
   "display_name": "Python 3",
   "language": "python",
   "name": "python3"
  },
  "language_info": {
   "codemirror_mode": {
    "name": "ipython",
    "version": 3
   },
   "file_extension": ".py",
   "mimetype": "text/x-python",
   "name": "python",
   "nbconvert_exporter": "python",
   "pygments_lexer": "ipython3",
   "version": "3.9.5"
  },
  "papermill": {
   "default_parameters": {},
   "duration": 7.822162,
   "end_time": "2021-10-20T05:30:12.445177",
   "environment_variables": {},
   "exception": null,
   "input_path": "eBay_Overview.ipynb",
   "output_path": "eBay_Overview.ipynb",
   "parameters": {},
   "start_time": "2021-10-20T05:30:04.623015",
   "version": "2.3.3"
  }
 },
 "nbformat": 4,
 "nbformat_minor": 5
}