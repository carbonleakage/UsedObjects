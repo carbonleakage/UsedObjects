{
 "cells": [
  {
   "cell_type": "code",
   "execution_count": 1,
   "id": "reverse-picking",
   "metadata": {
    "execution": {
     "iopub.execute_input": "2021-08-20T01:30:07.222079Z",
     "iopub.status.busy": "2021-08-20T01:30:07.220054Z",
     "iopub.status.idle": "2021-08-20T01:30:08.023429Z",
     "shell.execute_reply": "2021-08-20T01:30:08.024835Z"
    },
    "papermill": {
     "duration": 0.855514,
     "end_time": "2021-08-20T01:30:08.025517",
     "exception": false,
     "start_time": "2021-08-20T01:30:07.170003",
     "status": "completed"
    },
    "tags": []
   },
   "outputs": [],
   "source": [
    "import pandas as pd\n",
    "import sqlite3"
   ]
  },
  {
   "cell_type": "code",
   "execution_count": 2,
   "id": "innovative-syndrome",
   "metadata": {
    "execution": {
     "iopub.execute_input": "2021-08-20T01:30:08.076897Z",
     "iopub.status.busy": "2021-08-20T01:30:08.074822Z",
     "iopub.status.idle": "2021-08-20T01:30:08.164327Z",
     "shell.execute_reply": "2021-08-20T01:30:08.165541Z"
    },
    "papermill": {
     "duration": 0.119626,
     "end_time": "2021-08-20T01:30:08.165995",
     "exception": false,
     "start_time": "2021-08-20T01:30:08.046369",
     "status": "completed"
    },
    "tags": []
   },
   "outputs": [],
   "source": [
    "timestamps = pd.read_sql(\"select distinct record_time from EBAY_TOP_BERLIN order by record_time desc limit 2\", sqlite3.connect(\"UsedObjects.db\"))"
   ]
  },
  {
   "cell_type": "code",
   "execution_count": 3,
   "id": "periodic-identification",
   "metadata": {
    "execution": {
     "iopub.execute_input": "2021-08-20T01:30:08.230889Z",
     "iopub.status.busy": "2021-08-20T01:30:08.228782Z",
     "iopub.status.idle": "2021-08-20T01:30:08.249043Z",
     "shell.execute_reply": "2021-08-20T01:30:08.250533Z"
    },
    "papermill": {
     "duration": 0.065706,
     "end_time": "2021-08-20T01:30:08.250994",
     "exception": false,
     "start_time": "2021-08-20T01:30:08.185288",
     "status": "completed"
    },
    "tags": []
   },
   "outputs": [
    {
     "data": {
      "text/html": [
       "<div>\n",
       "<style scoped>\n",
       "    .dataframe tbody tr th:only-of-type {\n",
       "        vertical-align: middle;\n",
       "    }\n",
       "\n",
       "    .dataframe tbody tr th {\n",
       "        vertical-align: top;\n",
       "    }\n",
       "\n",
       "    .dataframe thead th {\n",
       "        text-align: right;\n",
       "    }\n",
       "</style>\n",
       "<table border=\"1\" class=\"dataframe\">\n",
       "  <thead>\n",
       "    <tr style=\"text-align: right;\">\n",
       "      <th></th>\n",
       "      <th>RECORD_TIME</th>\n",
       "    </tr>\n",
       "  </thead>\n",
       "  <tbody>\n",
       "    <tr>\n",
       "      <th>0</th>\n",
       "      <td>2021-08-20 03:30</td>\n",
       "    </tr>\n",
       "    <tr>\n",
       "      <th>1</th>\n",
       "      <td>2021-08-20 03:00</td>\n",
       "    </tr>\n",
       "  </tbody>\n",
       "</table>\n",
       "</div>"
      ],
      "text/plain": [
       "        RECORD_TIME\n",
       "0  2021-08-20 03:30\n",
       "1  2021-08-20 03:00"
      ]
     },
     "execution_count": 3,
     "metadata": {},
     "output_type": "execute_result"
    }
   ],
   "source": [
    "timestamps"
   ]
  },
  {
   "cell_type": "code",
   "execution_count": 4,
   "id": "alternate-victory",
   "metadata": {
    "execution": {
     "iopub.execute_input": "2021-08-20T01:30:08.302129Z",
     "iopub.status.busy": "2021-08-20T01:30:08.300190Z",
     "iopub.status.idle": "2021-08-20T01:30:08.431035Z",
     "shell.execute_reply": "2021-08-20T01:30:08.432283Z"
    },
    "papermill": {
     "duration": 0.160582,
     "end_time": "2021-08-20T01:30:08.432685",
     "exception": false,
     "start_time": "2021-08-20T01:30:08.272103",
     "status": "completed"
    },
    "tags": []
   },
   "outputs": [],
   "source": [
    "df = pd.read_sql(\"select * from EBAY_TOP_BERLIN where record_time in (select distinct record_time from EBAY_TOP_BERLIN order by record_time desc limit 2)\", sqlite3.connect(\"UsedObjects.db\"))"
   ]
  },
  {
   "cell_type": "code",
   "execution_count": 5,
   "id": "popular-active",
   "metadata": {
    "execution": {
     "iopub.execute_input": "2021-08-20T01:30:08.505051Z",
     "iopub.status.busy": "2021-08-20T01:30:08.493778Z",
     "iopub.status.idle": "2021-08-20T01:30:08.521537Z",
     "shell.execute_reply": "2021-08-20T01:30:08.522848Z"
    },
    "papermill": {
     "duration": 0.068151,
     "end_time": "2021-08-20T01:30:08.523257",
     "exception": false,
     "start_time": "2021-08-20T01:30:08.455106",
     "status": "completed"
    },
    "tags": []
   },
   "outputs": [],
   "source": [
    "df_pivot = df.pivot_table(index=\"PRODUCT\", columns = \"RECORD_TIME\", values = \"LISTING_COUNT\")"
   ]
  },
  {
   "cell_type": "code",
   "execution_count": 6,
   "id": "union-huntington",
   "metadata": {
    "execution": {
     "iopub.execute_input": "2021-08-20T01:30:08.580604Z",
     "iopub.status.busy": "2021-08-20T01:30:08.578417Z",
     "iopub.status.idle": "2021-08-20T01:30:08.584111Z",
     "shell.execute_reply": "2021-08-20T01:30:08.585625Z"
    },
    "papermill": {
     "duration": 0.041393,
     "end_time": "2021-08-20T01:30:08.586162",
     "exception": false,
     "start_time": "2021-08-20T01:30:08.544769",
     "status": "completed"
    },
    "tags": []
   },
   "outputs": [],
   "source": [
    "df_pivot.columns = [\"stamp_1\", \"stamp_2\"]\n",
    "df_pivot_diff = df_pivot.diff(axis=1)"
   ]
  },
  {
   "cell_type": "code",
   "execution_count": 7,
   "id": "fifth-motion",
   "metadata": {
    "execution": {
     "iopub.execute_input": "2021-08-20T01:30:08.640819Z",
     "iopub.status.busy": "2021-08-20T01:30:08.638556Z",
     "iopub.status.idle": "2021-08-20T01:30:10.141770Z",
     "shell.execute_reply": "2021-08-20T01:30:10.143222Z"
    },
    "papermill": {
     "duration": 1.536457,
     "end_time": "2021-08-20T01:30:10.143670",
     "exception": false,
     "start_time": "2021-08-20T01:30:08.607213",
     "status": "completed"
    },
    "tags": []
   },
   "outputs": [
    {
     "data": {
      "text/plain": [
       "<AxesSubplot:ylabel='PRODUCT'>"
      ]
     },
     "execution_count": 7,
     "metadata": {},
     "output_type": "execute_result"
    },
    {
     "data": {
      "image/png": "[encoded data removed]",
      "text/plain": [
       "<Figure size 432x288 with 1 Axes>"
      ]
     },
     "metadata": {
      "needs_background": "light"
     },
     "output_type": "display_data"
    }
   ],
   "source": [
    "df_pivot_diff.sort_values(\"stamp_2\", ascending = False)[\"stamp_2\"].head(10).plot.barh()"
   ]
  },
  {
   "cell_type": "code",
   "execution_count": null,
   "id": "extra-executive",
   "metadata": {
    "papermill": {
     "duration": 0.022291,
     "end_time": "2021-08-20T01:30:10.190696",
     "exception": false,
     "start_time": "2021-08-20T01:30:10.168405",
     "status": "completed"
    },
    "tags": []
   },
   "outputs": [],
   "source": []
  }
 ],
 "metadata": {
  "kernelspec": {
   "display_name": "Python 3",
   "language": "python",
   "name": "python3"
  },
  "language_info": {
   "codemirror_mode": {
    "name": "ipython",
    "version": 3
   },
   "file_extension": ".py",
   "mimetype": "text/x-python",
   "name": "python",
   "nbconvert_exporter": "python",
   "pygments_lexer": "ipython3",
   "version": "3.9.5"
  },
  "papermill": {
   "default_parameters": {},
   "duration": 6.821692,
   "end_time": "2021-08-20T01:30:11.585618",
   "environment_variables": {},
   "exception": null,
   "input_path": "eBay_Overview.ipynb",
   "output_path": "eBay_Overview.ipynb",
   "parameters": {},
   "start_time": "2021-08-20T01:30:04.763926",
   "version": "2.3.3"
  }
 },
 "nbformat": 4,
 "nbformat_minor": 5
}