{
 "cells": [
  {
   "cell_type": "code",
   "execution_count": 1,
   "id": "reverse-picking",
   "metadata": {
    "execution": {
     "iopub.execute_input": "2021-09-09T16:30:06.956912Z",
     "iopub.status.busy": "2021-09-09T16:30:06.954932Z",
     "iopub.status.idle": "2021-09-09T16:30:07.768702Z",
     "shell.execute_reply": "2021-09-09T16:30:07.766740Z"
    },
    "papermill": {
     "duration": 0.864459,
     "end_time": "2021-09-09T16:30:07.769183",
     "exception": false,
     "start_time": "2021-09-09T16:30:06.904724",
     "status": "completed"
    },
    "tags": []
   },
   "outputs": [],
   "source": [
    "import pandas as pd\n",
    "import sqlite3"
   ]
  },
  {
   "cell_type": "code",
   "execution_count": 2,
   "id": "innovative-syndrome",
   "metadata": {
    "execution": {
     "iopub.execute_input": "2021-09-09T16:30:07.820942Z",
     "iopub.status.busy": "2021-09-09T16:30:07.818516Z",
     "iopub.status.idle": "2021-09-09T16:30:08.065109Z",
     "shell.execute_reply": "2021-09-09T16:30:08.066320Z"
    },
    "papermill": {
     "duration": 0.27645,
     "end_time": "2021-09-09T16:30:08.066727",
     "exception": false,
     "start_time": "2021-09-09T16:30:07.790277",
     "status": "completed"
    },
    "tags": []
   },
   "outputs": [],
   "source": [
    "timestamps = pd.read_sql(\"select distinct record_time from EBAY_TOP_BERLIN order by record_time desc limit 2\", sqlite3.connect(\"UsedObjects.db\"))"
   ]
  },
  {
   "cell_type": "code",
   "execution_count": 3,
   "id": "periodic-identification",
   "metadata": {
    "execution": {
     "iopub.execute_input": "2021-09-09T16:30:08.134740Z",
     "iopub.status.busy": "2021-09-09T16:30:08.129400Z",
     "iopub.status.idle": "2021-09-09T16:30:08.149529Z",
     "shell.execute_reply": "2021-09-09T16:30:08.150664Z"
    },
    "papermill": {
     "duration": 0.065267,
     "end_time": "2021-09-09T16:30:08.151270",
     "exception": false,
     "start_time": "2021-09-09T16:30:08.086003",
     "status": "completed"
    },
    "tags": []
   },
   "outputs": [
    {
     "data": {
      "text/html": [
       "<div>\n",
       "<style scoped>\n",
       "    .dataframe tbody tr th:only-of-type {\n",
       "        vertical-align: middle;\n",
       "    }\n",
       "\n",
       "    .dataframe tbody tr th {\n",
       "        vertical-align: top;\n",
       "    }\n",
       "\n",
       "    .dataframe thead th {\n",
       "        text-align: right;\n",
       "    }\n",
       "</style>\n",
       "<table border=\"1\" class=\"dataframe\">\n",
       "  <thead>\n",
       "    <tr style=\"text-align: right;\">\n",
       "      <th></th>\n",
       "      <th>RECORD_TIME</th>\n",
       "    </tr>\n",
       "  </thead>\n",
       "  <tbody>\n",
       "    <tr>\n",
       "      <th>0</th>\n",
       "      <td>2021-09-09 18:30</td>\n",
       "    </tr>\n",
       "    <tr>\n",
       "      <th>1</th>\n",
       "      <td>2021-09-09 18:00</td>\n",
       "    </tr>\n",
       "  </tbody>\n",
       "</table>\n",
       "</div>"
      ],
      "text/plain": [
       "        RECORD_TIME\n",
       "0  2021-09-09 18:30\n",
       "1  2021-09-09 18:00"
      ]
     },
     "execution_count": 3,
     "metadata": {},
     "output_type": "execute_result"
    }
   ],
   "source": [
    "timestamps"
   ]
  },
  {
   "cell_type": "code",
   "execution_count": 4,
   "id": "alternate-victory",
   "metadata": {
    "execution": {
     "iopub.execute_input": "2021-09-09T16:30:08.204694Z",
     "iopub.status.busy": "2021-09-09T16:30:08.202289Z",
     "iopub.status.idle": "2021-09-09T16:30:08.571944Z",
     "shell.execute_reply": "2021-09-09T16:30:08.573360Z"
    },
    "papermill": {
     "duration": 0.400253,
     "end_time": "2021-09-09T16:30:08.573807",
     "exception": false,
     "start_time": "2021-09-09T16:30:08.173554",
     "status": "completed"
    },
    "tags": []
   },
   "outputs": [],
   "source": [
    "df = pd.read_sql(\"select * from EBAY_TOP_BERLIN where record_time in (select distinct record_time from EBAY_TOP_BERLIN order by record_time desc limit 2)\", sqlite3.connect(\"UsedObjects.db\"))"
   ]
  },
  {
   "cell_type": "code",
   "execution_count": 5,
   "id": "popular-active",
   "metadata": {
    "execution": {
     "iopub.execute_input": "2021-09-09T16:30:08.655011Z",
     "iopub.status.busy": "2021-09-09T16:30:08.642814Z",
     "iopub.status.idle": "2021-09-09T16:30:08.670641Z",
     "shell.execute_reply": "2021-09-09T16:30:08.671955Z"
    },
    "papermill": {
     "duration": 0.071795,
     "end_time": "2021-09-09T16:30:08.672365",
     "exception": false,
     "start_time": "2021-09-09T16:30:08.600570",
     "status": "completed"
    },
    "tags": []
   },
   "outputs": [],
   "source": [
    "df_pivot = df.pivot_table(index=\"PRODUCT\", columns = \"RECORD_TIME\", values = \"LISTING_COUNT\")"
   ]
  },
  {
   "cell_type": "code",
   "execution_count": 6,
   "id": "union-huntington",
   "metadata": {
    "execution": {
     "iopub.execute_input": "2021-09-09T16:30:08.729570Z",
     "iopub.status.busy": "2021-09-09T16:30:08.727393Z",
     "iopub.status.idle": "2021-09-09T16:30:08.732831Z",
     "shell.execute_reply": "2021-09-09T16:30:08.734202Z"
    },
    "papermill": {
     "duration": 0.040924,
     "end_time": "2021-09-09T16:30:08.734641",
     "exception": false,
     "start_time": "2021-09-09T16:30:08.693717",
     "status": "completed"
    },
    "tags": []
   },
   "outputs": [],
   "source": [
    "df_pivot.columns = [\"stamp_1\", \"stamp_2\"]\n",
    "df_pivot_diff = df_pivot.diff(axis=1)"
   ]
  },
  {
   "cell_type": "code",
   "execution_count": 7,
   "id": "fifth-motion",
   "metadata": {
    "execution": {
     "iopub.execute_input": "2021-09-09T16:30:08.791986Z",
     "iopub.status.busy": "2021-09-09T16:30:08.789234Z",
     "iopub.status.idle": "2021-09-09T16:30:10.258746Z",
     "shell.execute_reply": "2021-09-09T16:30:10.260100Z"
    },
    "papermill": {
     "duration": 1.503189,
     "end_time": "2021-09-09T16:30:10.260527",
     "exception": false,
     "start_time": "2021-09-09T16:30:08.757338",
     "status": "completed"
    },
    "tags": []
   },
   "outputs": [
    {
     "data": {
      "text/plain": [
       "<AxesSubplot:ylabel='PRODUCT'>"
      ]
     },
     "execution_count": 7,
     "metadata": {},
     "output_type": "execute_result"
    },
    {
     "data": {
      "image/png": "[encoded data removed]",
      "text/plain": [
       "<Figure size 432x288 with 1 Axes>"
      ]
     },
     "metadata": {
      "needs_background": "light"
     },
     "output_type": "display_data"
    }
   ],
   "source": [
    "df_pivot_diff.sort_values(\"stamp_2\", ascending = False)[\"stamp_2\"].head(10).plot.barh()"
   ]
  },
  {
   "cell_type": "code",
   "execution_count": null,
   "id": "extra-executive",
   "metadata": {
    "papermill": {
     "duration": 0.022058,
     "end_time": "2021-09-09T16:30:10.305582",
     "exception": false,
     "start_time": "2021-09-09T16:30:10.283524",
     "status": "completed"
    },
    "tags": []
   },
   "outputs": [],
   "source": []
  }
 ],
 "metadata": {
  "kernelspec": {
   "display_name": "Python 3",
   "language": "python",
   "name": "python3"
  },
  "language_info": {
   "codemirror_mode": {
    "name": "ipython",
    "version": 3
   },
   "file_extension": ".py",
   "mimetype": "text/x-python",
   "name": "python",
   "nbconvert_exporter": "python",
   "pygments_lexer": "ipython3",
   "version": "3.9.5"
  },
  "papermill": {
   "default_parameters": {},
   "duration": 6.467682,
   "end_time": "2021-09-09T16:30:10.944952",
   "environment_variables": {},
   "exception": null,
   "input_path": "eBay_Overview.ipynb",
   "output_path": "eBay_Overview.ipynb",
   "parameters": {},
   "start_time": "2021-09-09T16:30:04.477270",
   "version": "2.3.3"
  }
 },
 "nbformat": 4,
 "nbformat_minor": 5
}