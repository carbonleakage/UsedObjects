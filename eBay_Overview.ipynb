{
 "cells": [
  {
   "cell_type": "code",
   "execution_count": 1,
   "id": "reverse-picking",
   "metadata": {
    "execution": {
     "iopub.execute_input": "2021-11-25T15:00:08.082394Z",
     "iopub.status.busy": "2021-11-25T15:00:08.079906Z",
     "iopub.status.idle": "2021-11-25T15:00:09.026097Z",
     "shell.execute_reply": "2021-11-25T15:00:09.027847Z"
    },
    "papermill": {
     "duration": 0.99528,
     "end_time": "2021-11-25T15:00:09.028580",
     "exception": false,
     "start_time": "2021-11-25T15:00:08.033300",
     "status": "completed"
    },
    "tags": []
   },
   "outputs": [],
   "source": [
    "import pandas as pd\n",
    "import sqlite3"
   ]
  },
  {
   "cell_type": "code",
   "execution_count": 2,
   "id": "innovative-syndrome",
   "metadata": {
    "execution": {
     "iopub.execute_input": "2021-11-25T15:00:09.094125Z",
     "iopub.status.busy": "2021-11-25T15:00:09.090004Z",
     "iopub.status.idle": "2021-11-25T15:00:09.990205Z",
     "shell.execute_reply": "2021-11-25T15:00:09.991394Z"
    },
    "papermill": {
     "duration": 0.935823,
     "end_time": "2021-11-25T15:00:09.991812",
     "exception": false,
     "start_time": "2021-11-25T15:00:09.055989",
     "status": "completed"
    },
    "tags": []
   },
   "outputs": [],
   "source": [
    "timestamps = pd.read_sql(\"select distinct record_time from EBAY_TOP_BERLIN order by record_time desc limit 2\", sqlite3.connect(\"UsedObjects.db\"))"
   ]
  },
  {
   "cell_type": "code",
   "execution_count": 3,
   "id": "periodic-identification",
   "metadata": {
    "execution": {
     "iopub.execute_input": "2021-11-25T15:00:10.060602Z",
     "iopub.status.busy": "2021-11-25T15:00:10.055549Z",
     "iopub.status.idle": "2021-11-25T15:00:10.075736Z",
     "shell.execute_reply": "2021-11-25T15:00:10.077259Z"
    },
    "papermill": {
     "duration": 0.065531,
     "end_time": "2021-11-25T15:00:10.077722",
     "exception": false,
     "start_time": "2021-11-25T15:00:10.012191",
     "status": "completed"
    },
    "tags": []
   },
   "outputs": [
    {
     "data": {
      "text/html": [
       "<div>\n",
       "<style scoped>\n",
       "    .dataframe tbody tr th:only-of-type {\n",
       "        vertical-align: middle;\n",
       "    }\n",
       "\n",
       "    .dataframe tbody tr th {\n",
       "        vertical-align: top;\n",
       "    }\n",
       "\n",
       "    .dataframe thead th {\n",
       "        text-align: right;\n",
       "    }\n",
       "</style>\n",
       "<table border=\"1\" class=\"dataframe\">\n",
       "  <thead>\n",
       "    <tr style=\"text-align: right;\">\n",
       "      <th></th>\n",
       "      <th>RECORD_TIME</th>\n",
       "    </tr>\n",
       "  </thead>\n",
       "  <tbody>\n",
       "    <tr>\n",
       "      <th>0</th>\n",
       "      <td>2021-11-25 16:00</td>\n",
       "    </tr>\n",
       "    <tr>\n",
       "      <th>1</th>\n",
       "      <td>2021-11-25 15:30</td>\n",
       "    </tr>\n",
       "  </tbody>\n",
       "</table>\n",
       "</div>"
      ],
      "text/plain": [
       "        RECORD_TIME\n",
       "0  2021-11-25 16:00\n",
       "1  2021-11-25 15:30"
      ]
     },
     "execution_count": 3,
     "metadata": {},
     "output_type": "execute_result"
    }
   ],
   "source": [
    "timestamps"
   ]
  },
  {
   "cell_type": "code",
   "execution_count": 4,
   "id": "alternate-victory",
   "metadata": {
    "execution": {
     "iopub.execute_input": "2021-11-25T15:00:10.129373Z",
     "iopub.status.busy": "2021-11-25T15:00:10.127439Z",
     "iopub.status.idle": "2021-11-25T15:00:11.463749Z",
     "shell.execute_reply": "2021-11-25T15:00:11.465374Z"
    },
    "papermill": {
     "duration": 1.366784,
     "end_time": "2021-11-25T15:00:11.465852",
     "exception": false,
     "start_time": "2021-11-25T15:00:10.099068",
     "status": "completed"
    },
    "tags": []
   },
   "outputs": [],
   "source": [
    "df = pd.read_sql(\"select * from EBAY_TOP_BERLIN where record_time in (select distinct record_time from EBAY_TOP_BERLIN order by record_time desc limit 2)\", sqlite3.connect(\"UsedObjects.db\"))"
   ]
  },
  {
   "cell_type": "code",
   "execution_count": 5,
   "id": "popular-active",
   "metadata": {
    "execution": {
     "iopub.execute_input": "2021-11-25T15:00:11.538657Z",
     "iopub.status.busy": "2021-11-25T15:00:11.527452Z",
     "iopub.status.idle": "2021-11-25T15:00:11.564293Z",
     "shell.execute_reply": "2021-11-25T15:00:11.565942Z"
    },
    "papermill": {
     "duration": 0.080059,
     "end_time": "2021-11-25T15:00:11.566452",
     "exception": false,
     "start_time": "2021-11-25T15:00:11.486393",
     "status": "completed"
    },
    "tags": []
   },
   "outputs": [],
   "source": [
    "df_pivot = df.pivot_table(index=\"PRODUCT\", columns = \"RECORD_TIME\", values = \"LISTING_COUNT\")"
   ]
  },
  {
   "cell_type": "code",
   "execution_count": 6,
   "id": "union-huntington",
   "metadata": {
    "execution": {
     "iopub.execute_input": "2021-11-25T15:00:11.630519Z",
     "iopub.status.busy": "2021-11-25T15:00:11.627891Z",
     "iopub.status.idle": "2021-11-25T15:00:11.638568Z",
     "shell.execute_reply": "2021-11-25T15:00:11.640400Z"
    },
    "papermill": {
     "duration": 0.053146,
     "end_time": "2021-11-25T15:00:11.640971",
     "exception": false,
     "start_time": "2021-11-25T15:00:11.587825",
     "status": "completed"
    },
    "tags": []
   },
   "outputs": [],
   "source": [
    "df_pivot.columns = [\"stamp_1\", \"stamp_2\"]\n",
    "df_pivot_diff = df_pivot.diff(axis=1)"
   ]
  },
  {
   "cell_type": "code",
   "execution_count": 7,
   "id": "fifth-motion",
   "metadata": {
    "execution": {
     "iopub.execute_input": "2021-11-25T15:00:11.699327Z",
     "iopub.status.busy": "2021-11-25T15:00:11.696902Z",
     "iopub.status.idle": "2021-11-25T15:00:13.668175Z",
     "shell.execute_reply": "2021-11-25T15:00:13.670547Z"
    },
    "papermill": {
     "duration": 2.00833,
     "end_time": "2021-11-25T15:00:13.671337",
     "exception": false,
     "start_time": "2021-11-25T15:00:11.663007",
     "status": "completed"
    },
    "tags": []
   },
   "outputs": [
    {
     "data": {
      "text/plain": [
       "<AxesSubplot:ylabel='PRODUCT'>"
      ]
     },
     "execution_count": 7,
     "metadata": {},
     "output_type": "execute_result"
    },
    {
     "data": {
      "image/png": "[encoded data removed]",
      "text/plain": [
       "<Figure size 432x288 with 1 Axes>"
      ]
     },
     "metadata": {
      "needs_background": "light"
     },
     "output_type": "display_data"
    }
   ],
   "source": [
    "df_pivot_diff.sort_values(\"stamp_2\", ascending = False)[\"stamp_2\"].head(10).plot.barh()"
   ]
  },
  {
   "cell_type": "code",
   "execution_count": null,
   "id": "extra-executive",
   "metadata": {
    "papermill": {
     "duration": 0.029405,
     "end_time": "2021-11-25T15:00:13.737423",
     "exception": false,
     "start_time": "2021-11-25T15:00:13.708018",
     "status": "completed"
    },
    "tags": []
   },
   "outputs": [],
   "source": []
  }
 ],
 "metadata": {
  "kernelspec": {
   "display_name": "Python 3",
   "language": "python",
   "name": "python3"
  },
  "language_info": {
   "codemirror_mode": {
    "name": "ipython",
    "version": 3
   },
   "file_extension": ".py",
   "mimetype": "text/x-python",
   "name": "python",
   "nbconvert_exporter": "python",
   "pygments_lexer": "ipython3",
   "version": "3.9.5"
  },
  "papermill": {
   "default_parameters": {},
   "duration": 9.933742,
   "end_time": "2021-11-25T15:00:15.246318",
   "environment_variables": {},
   "exception": null,
   "input_path": "eBay_Overview.ipynb",
   "output_path": "eBay_Overview.ipynb",
   "parameters": {},
   "start_time": "2021-11-25T15:00:05.312576",
   "version": "2.3.3"
  }
 },
 "nbformat": 4,
 "nbformat_minor": 5
}