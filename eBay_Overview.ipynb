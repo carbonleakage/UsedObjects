{
 "cells": [
  {
   "cell_type": "code",
   "execution_count": 1,
   "id": "reverse-picking",
   "metadata": {
    "execution": {
     "iopub.execute_input": "2021-08-09T17:00:04.031854Z",
     "iopub.status.busy": "2021-08-09T17:00:04.031096Z",
     "iopub.status.idle": "2021-08-09T17:00:04.661204Z",
     "shell.execute_reply": "2021-08-09T17:00:04.660018Z"
    },
    "papermill": {
     "duration": 0.649037,
     "end_time": "2021-08-09T17:00:04.661463",
     "exception": false,
     "start_time": "2021-08-09T17:00:04.012426",
     "status": "completed"
    },
    "tags": []
   },
   "outputs": [],
   "source": [
    "import pandas as pd\n",
    "import sqlite3"
   ]
  },
  {
   "cell_type": "code",
   "execution_count": 2,
   "id": "innovative-syndrome",
   "metadata": {
    "execution": {
     "iopub.execute_input": "2021-08-09T17:00:04.684774Z",
     "iopub.status.busy": "2021-08-09T17:00:04.683857Z",
     "iopub.status.idle": "2021-08-09T17:00:04.967647Z",
     "shell.execute_reply": "2021-08-09T17:00:04.968211Z"
    },
    "papermill": {
     "duration": 0.297752,
     "end_time": "2021-08-09T17:00:04.968405",
     "exception": false,
     "start_time": "2021-08-09T17:00:04.670653",
     "status": "completed"
    },
    "tags": []
   },
   "outputs": [],
   "source": [
    "timestamps = pd.read_sql(\"select distinct record_time from EBAY_TOP_BERLIN order by record_time desc limit 2\", sqlite3.connect(\"UsedObjects.db\"))"
   ]
  },
  {
   "cell_type": "code",
   "execution_count": 3,
   "id": "periodic-identification",
   "metadata": {
    "execution": {
     "iopub.execute_input": "2021-08-09T17:00:04.999488Z",
     "iopub.status.busy": "2021-08-09T17:00:04.998702Z",
     "iopub.status.idle": "2021-08-09T17:00:05.012957Z",
     "shell.execute_reply": "2021-08-09T17:00:05.012342Z"
    },
    "papermill": {
     "duration": 0.034179,
     "end_time": "2021-08-09T17:00:05.013129",
     "exception": false,
     "start_time": "2021-08-09T17:00:04.978950",
     "status": "completed"
    },
    "tags": []
   },
   "outputs": [
    {
     "data": {
      "text/html": [
       "<div>\n",
       "<style scoped>\n",
       "    .dataframe tbody tr th:only-of-type {\n",
       "        vertical-align: middle;\n",
       "    }\n",
       "\n",
       "    .dataframe tbody tr th {\n",
       "        vertical-align: top;\n",
       "    }\n",
       "\n",
       "    .dataframe thead th {\n",
       "        text-align: right;\n",
       "    }\n",
       "</style>\n",
       "<table border=\"1\" class=\"dataframe\">\n",
       "  <thead>\n",
       "    <tr style=\"text-align: right;\">\n",
       "      <th></th>\n",
       "      <th>RECORD_TIME</th>\n",
       "    </tr>\n",
       "  </thead>\n",
       "  <tbody>\n",
       "    <tr>\n",
       "      <th>0</th>\n",
       "      <td>2021-08-09 19:00</td>\n",
       "    </tr>\n",
       "    <tr>\n",
       "      <th>1</th>\n",
       "      <td>2021-08-09 18:30</td>\n",
       "    </tr>\n",
       "  </tbody>\n",
       "</table>\n",
       "</div>"
      ],
      "text/plain": [
       "        RECORD_TIME\n",
       "0  2021-08-09 19:00\n",
       "1  2021-08-09 18:30"
      ]
     },
     "execution_count": 3,
     "metadata": {},
     "output_type": "execute_result"
    }
   ],
   "source": [
    "timestamps"
   ]
  },
  {
   "cell_type": "code",
   "execution_count": 4,
   "id": "alternate-victory",
   "metadata": {
    "execution": {
     "iopub.execute_input": "2021-08-09T17:00:05.034689Z",
     "iopub.status.busy": "2021-08-09T17:00:05.033943Z",
     "iopub.status.idle": "2021-08-09T17:00:05.043154Z",
     "shell.execute_reply": "2021-08-09T17:00:05.043837Z"
    },
    "papermill": {
     "duration": 0.022349,
     "end_time": "2021-08-09T17:00:05.044041",
     "exception": false,
     "start_time": "2021-08-09T17:00:05.021692",
     "status": "completed"
    },
    "tags": []
   },
   "outputs": [],
   "source": [
    "df = pd.read_sql(\"select * from EBAY_TOP_BERLIN where record_time in (select distinct record_time from EBAY_TOP_BERLIN order by record_time desc limit 2)\", sqlite3.connect(\"UsedObjects.db\"))"
   ]
  },
  {
   "cell_type": "code",
   "execution_count": 5,
   "id": "popular-active",
   "metadata": {
    "execution": {
     "iopub.execute_input": "2021-08-09T17:00:05.068231Z",
     "iopub.status.busy": "2021-08-09T17:00:05.066793Z",
     "iopub.status.idle": "2021-08-09T17:00:05.086873Z",
     "shell.execute_reply": "2021-08-09T17:00:05.085799Z"
    },
    "papermill": {
     "duration": 0.034742,
     "end_time": "2021-08-09T17:00:05.087149",
     "exception": false,
     "start_time": "2021-08-09T17:00:05.052407",
     "status": "completed"
    },
    "tags": []
   },
   "outputs": [],
   "source": [
    "df_pivot = df.pivot_table(index=\"PRODUCT\", columns = \"RECORD_TIME\", values = \"LISTING_COUNT\")"
   ]
  },
  {
   "cell_type": "code",
   "execution_count": 6,
   "id": "union-huntington",
   "metadata": {
    "execution": {
     "iopub.execute_input": "2021-08-09T17:00:05.115234Z",
     "iopub.status.busy": "2021-08-09T17:00:05.114423Z",
     "iopub.status.idle": "2021-08-09T17:00:05.116989Z",
     "shell.execute_reply": "2021-08-09T17:00:05.117511Z"
    },
    "papermill": {
     "duration": 0.018608,
     "end_time": "2021-08-09T17:00:05.117689",
     "exception": false,
     "start_time": "2021-08-09T17:00:05.099081",
     "status": "completed"
    },
    "tags": []
   },
   "outputs": [],
   "source": [
    "df_pivot.columns = [\"stamp_1\", \"stamp_2\"]\n",
    "df_pivot_diff = df_pivot.diff(axis=1)"
   ]
  },
  {
   "cell_type": "code",
   "execution_count": 7,
   "id": "fifth-motion",
   "metadata": {
    "execution": {
     "iopub.execute_input": "2021-08-09T17:00:05.142982Z",
     "iopub.status.busy": "2021-08-09T17:00:05.142215Z",
     "iopub.status.idle": "2021-08-09T17:00:05.837316Z",
     "shell.execute_reply": "2021-08-09T17:00:05.838118Z"
    },
    "papermill": {
     "duration": 0.712444,
     "end_time": "2021-08-09T17:00:05.838382",
     "exception": false,
     "start_time": "2021-08-09T17:00:05.125938",
     "status": "completed"
    },
    "tags": []
   },
   "outputs": [
    {
     "data": {
      "text/plain": [
       "<AxesSubplot:ylabel='PRODUCT'>"
      ]
     },
     "execution_count": 7,
     "metadata": {},
     "output_type": "execute_result"
    },
    {
     "data": {
      "image/png": "[encoded data removed]",
      "text/plain": [
       "<Figure size 432x288 with 1 Axes>"
      ]
     },
     "metadata": {
      "needs_background": "light"
     },
     "output_type": "display_data"
    }
   ],
   "source": [
    "df_pivot_diff.sort_values(\"stamp_2\", ascending = False)[\"stamp_2\"].head(10).plot.barh()"
   ]
  },
  {
   "cell_type": "code",
   "execution_count": null,
   "id": "extra-executive",
   "metadata": {
    "papermill": {
     "duration": 0.012829,
     "end_time": "2021-08-09T17:00:05.862119",
     "exception": false,
     "start_time": "2021-08-09T17:00:05.849290",
     "status": "completed"
    },
    "tags": []
   },
   "outputs": [],
   "source": []
  }
 ],
 "metadata": {
  "kernelspec": {
   "display_name": "Python 3",
   "language": "python",
   "name": "python3"
  },
  "language_info": {
   "codemirror_mode": {
    "name": "ipython",
    "version": 3
   },
   "file_extension": ".py",
   "mimetype": "text/x-python",
   "name": "python",
   "nbconvert_exporter": "python",
   "pygments_lexer": "ipython3",
   "version": "3.8.8"
  },
  "papermill": {
   "default_parameters": {},
   "duration": 4.295898,
   "end_time": "2021-08-09T17:00:06.616440",
   "environment_variables": {},
   "exception": null,
   "input_path": "/Users/saravananshanmugam/Carbonleakage_Git/UsedObjects/eBay_Overview.ipynb",
   "output_path": "/Users/saravananshanmugam/Carbonleakage_Git/UsedObjects/eBay_Overview.ipynb",
   "parameters": {},
   "start_time": "2021-08-09T17:00:02.320542",
   "version": "2.3.3"
  }
 },
 "nbformat": 4,
 "nbformat_minor": 5
}