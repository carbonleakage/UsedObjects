{
 "cells": [
  {
   "cell_type": "code",
   "execution_count": 1,
   "id": "reverse-picking",
   "metadata": {
    "execution": {
     "iopub.execute_input": "2021-12-07T04:30:07.993082Z",
     "iopub.status.busy": "2021-12-07T04:30:07.990738Z",
     "iopub.status.idle": "2021-12-07T04:30:08.942053Z",
     "shell.execute_reply": "2021-12-07T04:30:08.940247Z"
    },
    "papermill": {
     "duration": 1.000183,
     "end_time": "2021-12-07T04:30:08.942536",
     "exception": false,
     "start_time": "2021-12-07T04:30:07.942353",
     "status": "completed"
    },
    "tags": []
   },
   "outputs": [],
   "source": [
    "import pandas as pd\n",
    "import sqlite3"
   ]
  },
  {
   "cell_type": "code",
   "execution_count": 2,
   "id": "innovative-syndrome",
   "metadata": {
    "execution": {
     "iopub.execute_input": "2021-12-07T04:30:09.004853Z",
     "iopub.status.busy": "2021-12-07T04:30:09.002393Z",
     "iopub.status.idle": "2021-12-07T04:30:10.004177Z",
     "shell.execute_reply": "2021-12-07T04:30:10.005777Z"
    },
    "papermill": {
     "duration": 1.035416,
     "end_time": "2021-12-07T04:30:10.006304",
     "exception": false,
     "start_time": "2021-12-07T04:30:08.970888",
     "status": "completed"
    },
    "tags": []
   },
   "outputs": [],
   "source": [
    "timestamps = pd.read_sql(\"select distinct record_time from EBAY_TOP_BERLIN order by record_time desc limit 2\", sqlite3.connect(\"UsedObjects.db\"))"
   ]
  },
  {
   "cell_type": "code",
   "execution_count": 3,
   "id": "periodic-identification",
   "metadata": {
    "execution": {
     "iopub.execute_input": "2021-12-07T04:30:10.099712Z",
     "iopub.status.busy": "2021-12-07T04:30:10.095741Z",
     "iopub.status.idle": "2021-12-07T04:30:10.130426Z",
     "shell.execute_reply": "2021-12-07T04:30:10.132035Z"
    },
    "papermill": {
     "duration": 0.105632,
     "end_time": "2021-12-07T04:30:10.132532",
     "exception": false,
     "start_time": "2021-12-07T04:30:10.026900",
     "status": "completed"
    },
    "tags": []
   },
   "outputs": [
    {
     "data": {
      "text/html": [
       "<div>\n",
       "<style scoped>\n",
       "    .dataframe tbody tr th:only-of-type {\n",
       "        vertical-align: middle;\n",
       "    }\n",
       "\n",
       "    .dataframe tbody tr th {\n",
       "        vertical-align: top;\n",
       "    }\n",
       "\n",
       "    .dataframe thead th {\n",
       "        text-align: right;\n",
       "    }\n",
       "</style>\n",
       "<table border=\"1\" class=\"dataframe\">\n",
       "  <thead>\n",
       "    <tr style=\"text-align: right;\">\n",
       "      <th></th>\n",
       "      <th>RECORD_TIME</th>\n",
       "    </tr>\n",
       "  </thead>\n",
       "  <tbody>\n",
       "    <tr>\n",
       "      <th>0</th>\n",
       "      <td>2021-12-07 05:30</td>\n",
       "    </tr>\n",
       "    <tr>\n",
       "      <th>1</th>\n",
       "      <td>2021-12-07 05:00</td>\n",
       "    </tr>\n",
       "  </tbody>\n",
       "</table>\n",
       "</div>"
      ],
      "text/plain": [
       "        RECORD_TIME\n",
       "0  2021-12-07 05:30\n",
       "1  2021-12-07 05:00"
      ]
     },
     "execution_count": 3,
     "metadata": {},
     "output_type": "execute_result"
    }
   ],
   "source": [
    "timestamps"
   ]
  },
  {
   "cell_type": "code",
   "execution_count": 4,
   "id": "alternate-victory",
   "metadata": {
    "execution": {
     "iopub.execute_input": "2021-12-07T04:30:10.190626Z",
     "iopub.status.busy": "2021-12-07T04:30:10.188350Z",
     "iopub.status.idle": "2021-12-07T04:30:11.635907Z",
     "shell.execute_reply": "2021-12-07T04:30:11.638223Z"
    },
    "papermill": {
     "duration": 1.483612,
     "end_time": "2021-12-07T04:30:11.639021",
     "exception": false,
     "start_time": "2021-12-07T04:30:10.155409",
     "status": "completed"
    },
    "tags": []
   },
   "outputs": [],
   "source": [
    "df = pd.read_sql(\"select * from EBAY_TOP_BERLIN where record_time in (select distinct record_time from EBAY_TOP_BERLIN order by record_time desc limit 2)\", sqlite3.connect(\"UsedObjects.db\"))"
   ]
  },
  {
   "cell_type": "code",
   "execution_count": 5,
   "id": "popular-active",
   "metadata": {
    "execution": {
     "iopub.execute_input": "2021-12-07T04:30:11.761699Z",
     "iopub.status.busy": "2021-12-07T04:30:11.748921Z",
     "iopub.status.idle": "2021-12-07T04:30:11.797687Z",
     "shell.execute_reply": "2021-12-07T04:30:11.800598Z"
    },
    "papermill": {
     "duration": 0.130242,
     "end_time": "2021-12-07T04:30:11.801424",
     "exception": false,
     "start_time": "2021-12-07T04:30:11.671182",
     "status": "completed"
    },
    "tags": []
   },
   "outputs": [],
   "source": [
    "df_pivot = df.pivot_table(index=\"PRODUCT\", columns = \"RECORD_TIME\", values = \"LISTING_COUNT\")"
   ]
  },
  {
   "cell_type": "code",
   "execution_count": 6,
   "id": "union-huntington",
   "metadata": {
    "execution": {
     "iopub.execute_input": "2021-12-07T04:30:11.885900Z",
     "iopub.status.busy": "2021-12-07T04:30:11.883102Z",
     "iopub.status.idle": "2021-12-07T04:30:11.891853Z",
     "shell.execute_reply": "2021-12-07T04:30:11.889837Z"
    },
    "papermill": {
     "duration": 0.058699,
     "end_time": "2021-12-07T04:30:11.892389",
     "exception": false,
     "start_time": "2021-12-07T04:30:11.833690",
     "status": "completed"
    },
    "tags": []
   },
   "outputs": [],
   "source": [
    "df_pivot.columns = [\"stamp_1\", \"stamp_2\"]\n",
    "df_pivot_diff = df_pivot.diff(axis=1)"
   ]
  },
  {
   "cell_type": "code",
   "execution_count": 7,
   "id": "fifth-motion",
   "metadata": {
    "execution": {
     "iopub.execute_input": "2021-12-07T04:30:11.981027Z",
     "iopub.status.busy": "2021-12-07T04:30:11.976994Z",
     "iopub.status.idle": "2021-12-07T04:30:13.691563Z",
     "shell.execute_reply": "2021-12-07T04:30:13.692956Z"
    },
    "papermill": {
     "duration": 1.768378,
     "end_time": "2021-12-07T04:30:13.693413",
     "exception": false,
     "start_time": "2021-12-07T04:30:11.925035",
     "status": "completed"
    },
    "tags": []
   },
   "outputs": [
    {
     "data": {
      "text/plain": [
       "<AxesSubplot:ylabel='PRODUCT'>"
      ]
     },
     "execution_count": 7,
     "metadata": {},
     "output_type": "execute_result"
    },
    {
     "data": {
      "image/png": "[encoded data removed]",
      "text/plain": [
       "<Figure size 432x288 with 1 Axes>"
      ]
     },
     "metadata": {
      "needs_background": "light"
     },
     "output_type": "display_data"
    }
   ],
   "source": [
    "df_pivot_diff.sort_values(\"stamp_2\", ascending = False)[\"stamp_2\"].head(10).plot.barh()"
   ]
  },
  {
   "cell_type": "code",
   "execution_count": null,
   "id": "extra-executive",
   "metadata": {
    "papermill": {
     "duration": 0.02223,
     "end_time": "2021-12-07T04:30:13.740616",
     "exception": false,
     "start_time": "2021-12-07T04:30:13.718386",
     "status": "completed"
    },
    "tags": []
   },
   "outputs": [],
   "source": []
  }
 ],
 "metadata": {
  "kernelspec": {
   "display_name": "Python 3",
   "language": "python",
   "name": "python3"
  },
  "language_info": {
   "codemirror_mode": {
    "name": "ipython",
    "version": 3
   },
   "file_extension": ".py",
   "mimetype": "text/x-python",
   "name": "python",
   "nbconvert_exporter": "python",
   "pygments_lexer": "ipython3",
   "version": "3.9.5"
  },
  "papermill": {
   "default_parameters": {},
   "duration": 9.935168,
   "end_time": "2021-12-07T04:30:15.159508",
   "environment_variables": {},
   "exception": null,
   "input_path": "eBay_Overview.ipynb",
   "output_path": "eBay_Overview.ipynb",
   "parameters": {},
   "start_time": "2021-12-07T04:30:05.224340",
   "version": "2.3.3"
  }
 },
 "nbformat": 4,
 "nbformat_minor": 5
}