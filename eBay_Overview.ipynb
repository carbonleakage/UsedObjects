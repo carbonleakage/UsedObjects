{
 "cells": [
  {
   "cell_type": "code",
   "execution_count": 1,
   "id": "reverse-picking",
   "metadata": {
    "execution": {
     "iopub.execute_input": "2021-09-28T13:30:07.221927Z",
     "iopub.status.busy": "2021-09-28T13:30:07.220016Z",
     "iopub.status.idle": "2021-09-28T13:30:08.027893Z",
     "shell.execute_reply": "2021-09-28T13:30:08.029153Z"
    },
    "papermill": {
     "duration": 0.859142,
     "end_time": "2021-09-28T13:30:08.029760",
     "exception": false,
     "start_time": "2021-09-28T13:30:07.170618",
     "status": "completed"
    },
    "tags": []
   },
   "outputs": [],
   "source": [
    "import pandas as pd\n",
    "import sqlite3"
   ]
  },
  {
   "cell_type": "code",
   "execution_count": 2,
   "id": "innovative-syndrome",
   "metadata": {
    "execution": {
     "iopub.execute_input": "2021-09-28T13:30:08.080512Z",
     "iopub.status.busy": "2021-09-28T13:30:08.078561Z",
     "iopub.status.idle": "2021-09-28T13:30:08.477442Z",
     "shell.execute_reply": "2021-09-28T13:30:08.478637Z"
    },
    "papermill": {
     "duration": 0.42866,
     "end_time": "2021-09-28T13:30:08.479208",
     "exception": false,
     "start_time": "2021-09-28T13:30:08.050548",
     "status": "completed"
    },
    "tags": []
   },
   "outputs": [],
   "source": [
    "timestamps = pd.read_sql(\"select distinct record_time from EBAY_TOP_BERLIN order by record_time desc limit 2\", sqlite3.connect(\"UsedObjects.db\"))"
   ]
  },
  {
   "cell_type": "code",
   "execution_count": 3,
   "id": "periodic-identification",
   "metadata": {
    "execution": {
     "iopub.execute_input": "2021-09-28T13:30:08.548017Z",
     "iopub.status.busy": "2021-09-28T13:30:08.545964Z",
     "iopub.status.idle": "2021-09-28T13:30:08.566091Z",
     "shell.execute_reply": "2021-09-28T13:30:08.567550Z"
    },
    "papermill": {
     "duration": 0.066997,
     "end_time": "2021-09-28T13:30:08.567997",
     "exception": false,
     "start_time": "2021-09-28T13:30:08.501000",
     "status": "completed"
    },
    "tags": []
   },
   "outputs": [
    {
     "data": {
      "text/html": [
       "<div>\n",
       "<style scoped>\n",
       "    .dataframe tbody tr th:only-of-type {\n",
       "        vertical-align: middle;\n",
       "    }\n",
       "\n",
       "    .dataframe tbody tr th {\n",
       "        vertical-align: top;\n",
       "    }\n",
       "\n",
       "    .dataframe thead th {\n",
       "        text-align: right;\n",
       "    }\n",
       "</style>\n",
       "<table border=\"1\" class=\"dataframe\">\n",
       "  <thead>\n",
       "    <tr style=\"text-align: right;\">\n",
       "      <th></th>\n",
       "      <th>RECORD_TIME</th>\n",
       "    </tr>\n",
       "  </thead>\n",
       "  <tbody>\n",
       "    <tr>\n",
       "      <th>0</th>\n",
       "      <td>2021-09-28 15:30</td>\n",
       "    </tr>\n",
       "    <tr>\n",
       "      <th>1</th>\n",
       "      <td>2021-09-28 15:00</td>\n",
       "    </tr>\n",
       "  </tbody>\n",
       "</table>\n",
       "</div>"
      ],
      "text/plain": [
       "        RECORD_TIME\n",
       "0  2021-09-28 15:30\n",
       "1  2021-09-28 15:00"
      ]
     },
     "execution_count": 3,
     "metadata": {},
     "output_type": "execute_result"
    }
   ],
   "source": [
    "timestamps"
   ]
  },
  {
   "cell_type": "code",
   "execution_count": 4,
   "id": "alternate-victory",
   "metadata": {
    "execution": {
     "iopub.execute_input": "2021-09-28T13:30:08.620009Z",
     "iopub.status.busy": "2021-09-28T13:30:08.618058Z",
     "iopub.status.idle": "2021-09-28T13:30:09.203994Z",
     "shell.execute_reply": "2021-09-28T13:30:09.205253Z"
    },
    "papermill": {
     "duration": 0.616114,
     "end_time": "2021-09-28T13:30:09.205648",
     "exception": false,
     "start_time": "2021-09-28T13:30:08.589534",
     "status": "completed"
    },
    "tags": []
   },
   "outputs": [],
   "source": [
    "df = pd.read_sql(\"select * from EBAY_TOP_BERLIN where record_time in (select distinct record_time from EBAY_TOP_BERLIN order by record_time desc limit 2)\", sqlite3.connect(\"UsedObjects.db\"))"
   ]
  },
  {
   "cell_type": "code",
   "execution_count": 5,
   "id": "popular-active",
   "metadata": {
    "execution": {
     "iopub.execute_input": "2021-09-28T13:30:09.284621Z",
     "iopub.status.busy": "2021-09-28T13:30:09.272720Z",
     "iopub.status.idle": "2021-09-28T13:30:09.300784Z",
     "shell.execute_reply": "2021-09-28T13:30:09.302078Z"
    },
    "papermill": {
     "duration": 0.070835,
     "end_time": "2021-09-28T13:30:09.302491",
     "exception": false,
     "start_time": "2021-09-28T13:30:09.231656",
     "status": "completed"
    },
    "tags": []
   },
   "outputs": [],
   "source": [
    "df_pivot = df.pivot_table(index=\"PRODUCT\", columns = \"RECORD_TIME\", values = \"LISTING_COUNT\")"
   ]
  },
  {
   "cell_type": "code",
   "execution_count": 6,
   "id": "union-huntington",
   "metadata": {
    "execution": {
     "iopub.execute_input": "2021-09-28T13:30:09.358185Z",
     "iopub.status.busy": "2021-09-28T13:30:09.356152Z",
     "iopub.status.idle": "2021-09-28T13:30:09.361482Z",
     "shell.execute_reply": "2021-09-28T13:30:09.362754Z"
    },
    "papermill": {
     "duration": 0.040759,
     "end_time": "2021-09-28T13:30:09.363363",
     "exception": false,
     "start_time": "2021-09-28T13:30:09.322604",
     "status": "completed"
    },
    "tags": []
   },
   "outputs": [],
   "source": [
    "df_pivot.columns = [\"stamp_1\", \"stamp_2\"]\n",
    "df_pivot_diff = df_pivot.diff(axis=1)"
   ]
  },
  {
   "cell_type": "code",
   "execution_count": 7,
   "id": "fifth-motion",
   "metadata": {
    "execution": {
     "iopub.execute_input": "2021-09-28T13:30:09.419122Z",
     "iopub.status.busy": "2021-09-28T13:30:09.416433Z",
     "iopub.status.idle": "2021-09-28T13:30:10.893240Z",
     "shell.execute_reply": "2021-09-28T13:30:10.894536Z"
    },
    "papermill": {
     "duration": 1.510698,
     "end_time": "2021-09-28T13:30:10.895166",
     "exception": false,
     "start_time": "2021-09-28T13:30:09.384468",
     "status": "completed"
    },
    "tags": []
   },
   "outputs": [
    {
     "data": {
      "text/plain": [
       "<AxesSubplot:ylabel='PRODUCT'>"
      ]
     },
     "execution_count": 7,
     "metadata": {},
     "output_type": "execute_result"
    },
    {
     "data": {
      "image/png": "[encoded data removed]",
      "text/plain": [
       "<Figure size 432x288 with 1 Axes>"
      ]
     },
     "metadata": {
      "needs_background": "light"
     },
     "output_type": "display_data"
    }
   ],
   "source": [
    "df_pivot_diff.sort_values(\"stamp_2\", ascending = False)[\"stamp_2\"].head(10).plot.barh()"
   ]
  },
  {
   "cell_type": "code",
   "execution_count": null,
   "id": "extra-executive",
   "metadata": {
    "papermill": {
     "duration": 0.022192,
     "end_time": "2021-09-28T13:30:10.941836",
     "exception": false,
     "start_time": "2021-09-28T13:30:10.919644",
     "status": "completed"
    },
    "tags": []
   },
   "outputs": [],
   "source": []
  }
 ],
 "metadata": {
  "kernelspec": {
   "display_name": "Python 3",
   "language": "python",
   "name": "python3"
  },
  "language_info": {
   "codemirror_mode": {
    "name": "ipython",
    "version": 3
   },
   "file_extension": ".py",
   "mimetype": "text/x-python",
   "name": "python",
   "nbconvert_exporter": "python",
   "pygments_lexer": "ipython3",
   "version": "3.9.5"
  },
  "papermill": {
   "default_parameters": {},
   "duration": 6.823769,
   "end_time": "2021-09-28T13:30:11.582752",
   "environment_variables": {},
   "exception": null,
   "input_path": "eBay_Overview.ipynb",
   "output_path": "eBay_Overview.ipynb",
   "parameters": {},
   "start_time": "2021-09-28T13:30:04.758983",
   "version": "2.3.3"
  }
 },
 "nbformat": 4,
 "nbformat_minor": 5
}