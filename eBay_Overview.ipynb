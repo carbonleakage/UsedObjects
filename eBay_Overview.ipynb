{
 "cells": [
  {
   "cell_type": "code",
   "execution_count": 1,
   "id": "reverse-picking",
   "metadata": {
    "execution": {
     "iopub.execute_input": "2021-11-26T17:30:08.397848Z",
     "iopub.status.busy": "2021-11-26T17:30:08.395267Z",
     "iopub.status.idle": "2021-11-26T17:30:09.366412Z",
     "shell.execute_reply": "2021-11-26T17:30:09.368177Z"
    },
    "papermill": {
     "duration": 1.021274,
     "end_time": "2021-11-26T17:30:09.369014",
     "exception": false,
     "start_time": "2021-11-26T17:30:08.347740",
     "status": "completed"
    },
    "tags": []
   },
   "outputs": [],
   "source": [
    "import pandas as pd\n",
    "import sqlite3"
   ]
  },
  {
   "cell_type": "code",
   "execution_count": 2,
   "id": "innovative-syndrome",
   "metadata": {
    "execution": {
     "iopub.execute_input": "2021-11-26T17:30:09.426261Z",
     "iopub.status.busy": "2021-11-26T17:30:09.423689Z",
     "iopub.status.idle": "2021-11-26T17:30:10.339231Z",
     "shell.execute_reply": "2021-11-26T17:30:10.340463Z"
    },
    "papermill": {
     "duration": 0.950566,
     "end_time": "2021-11-26T17:30:10.341071",
     "exception": false,
     "start_time": "2021-11-26T17:30:09.390505",
     "status": "completed"
    },
    "tags": []
   },
   "outputs": [],
   "source": [
    "timestamps = pd.read_sql(\"select distinct record_time from EBAY_TOP_BERLIN order by record_time desc limit 2\", sqlite3.connect(\"UsedObjects.db\"))"
   ]
  },
  {
   "cell_type": "code",
   "execution_count": 3,
   "id": "periodic-identification",
   "metadata": {
    "execution": {
     "iopub.execute_input": "2021-11-26T17:30:10.409030Z",
     "iopub.status.busy": "2021-11-26T17:30:10.406689Z",
     "iopub.status.idle": "2021-11-26T17:30:10.431023Z",
     "shell.execute_reply": "2021-11-26T17:30:10.432780Z"
    },
    "papermill": {
     "duration": 0.072244,
     "end_time": "2021-11-26T17:30:10.433263",
     "exception": false,
     "start_time": "2021-11-26T17:30:10.361019",
     "status": "completed"
    },
    "tags": []
   },
   "outputs": [
    {
     "data": {
      "text/html": [
       "<div>\n",
       "<style scoped>\n",
       "    .dataframe tbody tr th:only-of-type {\n",
       "        vertical-align: middle;\n",
       "    }\n",
       "\n",
       "    .dataframe tbody tr th {\n",
       "        vertical-align: top;\n",
       "    }\n",
       "\n",
       "    .dataframe thead th {\n",
       "        text-align: right;\n",
       "    }\n",
       "</style>\n",
       "<table border=\"1\" class=\"dataframe\">\n",
       "  <thead>\n",
       "    <tr style=\"text-align: right;\">\n",
       "      <th></th>\n",
       "      <th>RECORD_TIME</th>\n",
       "    </tr>\n",
       "  </thead>\n",
       "  <tbody>\n",
       "    <tr>\n",
       "      <th>0</th>\n",
       "      <td>2021-11-26 18:30</td>\n",
       "    </tr>\n",
       "    <tr>\n",
       "      <th>1</th>\n",
       "      <td>2021-11-26 18:00</td>\n",
       "    </tr>\n",
       "  </tbody>\n",
       "</table>\n",
       "</div>"
      ],
      "text/plain": [
       "        RECORD_TIME\n",
       "0  2021-11-26 18:30\n",
       "1  2021-11-26 18:00"
      ]
     },
     "execution_count": 3,
     "metadata": {},
     "output_type": "execute_result"
    }
   ],
   "source": [
    "timestamps"
   ]
  },
  {
   "cell_type": "code",
   "execution_count": 4,
   "id": "alternate-victory",
   "metadata": {
    "execution": {
     "iopub.execute_input": "2021-11-26T17:30:10.490866Z",
     "iopub.status.busy": "2021-11-26T17:30:10.488545Z",
     "iopub.status.idle": "2021-11-26T17:30:11.847477Z",
     "shell.execute_reply": "2021-11-26T17:30:11.848924Z"
    },
    "papermill": {
     "duration": 1.393265,
     "end_time": "2021-11-26T17:30:11.849417",
     "exception": false,
     "start_time": "2021-11-26T17:30:10.456152",
     "status": "completed"
    },
    "tags": []
   },
   "outputs": [],
   "source": [
    "df = pd.read_sql(\"select * from EBAY_TOP_BERLIN where record_time in (select distinct record_time from EBAY_TOP_BERLIN order by record_time desc limit 2)\", sqlite3.connect(\"UsedObjects.db\"))"
   ]
  },
  {
   "cell_type": "code",
   "execution_count": 5,
   "id": "popular-active",
   "metadata": {
    "execution": {
     "iopub.execute_input": "2021-11-26T17:30:11.918823Z",
     "iopub.status.busy": "2021-11-26T17:30:11.910717Z",
     "iopub.status.idle": "2021-11-26T17:30:11.942840Z",
     "shell.execute_reply": "2021-11-26T17:30:11.944464Z"
    },
    "papermill": {
     "duration": 0.074895,
     "end_time": "2021-11-26T17:30:11.945036",
     "exception": false,
     "start_time": "2021-11-26T17:30:11.870141",
     "status": "completed"
    },
    "tags": []
   },
   "outputs": [],
   "source": [
    "df_pivot = df.pivot_table(index=\"PRODUCT\", columns = \"RECORD_TIME\", values = \"LISTING_COUNT\")"
   ]
  },
  {
   "cell_type": "code",
   "execution_count": 6,
   "id": "union-huntington",
   "metadata": {
    "execution": {
     "iopub.execute_input": "2021-11-26T17:30:12.007643Z",
     "iopub.status.busy": "2021-11-26T17:30:12.005448Z",
     "iopub.status.idle": "2021-11-26T17:30:12.011717Z",
     "shell.execute_reply": "2021-11-26T17:30:12.013150Z"
    },
    "papermill": {
     "duration": 0.046812,
     "end_time": "2021-11-26T17:30:12.013629",
     "exception": false,
     "start_time": "2021-11-26T17:30:11.966817",
     "status": "completed"
    },
    "tags": []
   },
   "outputs": [],
   "source": [
    "df_pivot.columns = [\"stamp_1\", \"stamp_2\"]\n",
    "df_pivot_diff = df_pivot.diff(axis=1)"
   ]
  },
  {
   "cell_type": "code",
   "execution_count": 7,
   "id": "fifth-motion",
   "metadata": {
    "execution": {
     "iopub.execute_input": "2021-11-26T17:30:12.070695Z",
     "iopub.status.busy": "2021-11-26T17:30:12.068095Z",
     "iopub.status.idle": "2021-11-26T17:30:14.090689Z",
     "shell.execute_reply": "2021-11-26T17:30:14.092028Z"
    },
    "papermill": {
     "duration": 2.058282,
     "end_time": "2021-11-26T17:30:14.092469",
     "exception": false,
     "start_time": "2021-11-26T17:30:12.034187",
     "status": "completed"
    },
    "tags": []
   },
   "outputs": [
    {
     "data": {
      "text/plain": [
       "<AxesSubplot:ylabel='PRODUCT'>"
      ]
     },
     "execution_count": 7,
     "metadata": {},
     "output_type": "execute_result"
    },
    {
     "data": {
      "image/png": "[encoded data removed]",
      "text/plain": [
       "<Figure size 432x288 with 1 Axes>"
      ]
     },
     "metadata": {
      "needs_background": "light"
     },
     "output_type": "display_data"
    }
   ],
   "source": [
    "df_pivot_diff.sort_values(\"stamp_2\", ascending = False)[\"stamp_2\"].head(10).plot.barh()"
   ]
  },
  {
   "cell_type": "code",
   "execution_count": null,
   "id": "extra-executive",
   "metadata": {
    "papermill": {
     "duration": 0.024349,
     "end_time": "2021-11-26T17:30:14.142084",
     "exception": false,
     "start_time": "2021-11-26T17:30:14.117735",
     "status": "completed"
    },
    "tags": []
   },
   "outputs": [],
   "source": []
  }
 ],
 "metadata": {
  "kernelspec": {
   "display_name": "Python 3",
   "language": "python",
   "name": "python3"
  },
  "language_info": {
   "codemirror_mode": {
    "name": "ipython",
    "version": 3
   },
   "file_extension": ".py",
   "mimetype": "text/x-python",
   "name": "python",
   "nbconvert_exporter": "python",
   "pygments_lexer": "ipython3",
   "version": "3.9.5"
  },
  "papermill": {
   "default_parameters": {},
   "duration": 9.949027,
   "end_time": "2021-11-26T17:30:15.535591",
   "environment_variables": {},
   "exception": null,
   "input_path": "eBay_Overview.ipynb",
   "output_path": "eBay_Overview.ipynb",
   "parameters": {},
   "start_time": "2021-11-26T17:30:05.586564",
   "version": "2.3.3"
  }
 },
 "nbformat": 4,
 "nbformat_minor": 5
}