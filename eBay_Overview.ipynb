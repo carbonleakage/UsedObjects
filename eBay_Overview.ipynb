{
 "cells": [
  {
   "cell_type": "code",
   "execution_count": 1,
   "id": "reverse-picking",
   "metadata": {
    "execution": {
     "iopub.execute_input": "2021-09-07T00:00:06.712808Z",
     "iopub.status.busy": "2021-09-07T00:00:06.710756Z",
     "iopub.status.idle": "2021-09-07T00:00:07.523737Z",
     "shell.execute_reply": "2021-09-07T00:00:07.525090Z"
    },
    "papermill": {
     "duration": 0.86589,
     "end_time": "2021-09-07T00:00:07.525738",
     "exception": false,
     "start_time": "2021-09-07T00:00:06.659848",
     "status": "completed"
    },
    "tags": []
   },
   "outputs": [],
   "source": [
    "import pandas as pd\n",
    "import sqlite3"
   ]
  },
  {
   "cell_type": "code",
   "execution_count": 2,
   "id": "innovative-syndrome",
   "metadata": {
    "execution": {
     "iopub.execute_input": "2021-09-07T00:00:07.576564Z",
     "iopub.status.busy": "2021-09-07T00:00:07.574593Z",
     "iopub.status.idle": "2021-09-07T00:00:07.794065Z",
     "shell.execute_reply": "2021-09-07T00:00:07.795479Z"
    },
    "papermill": {
     "duration": 0.249187,
     "end_time": "2021-09-07T00:00:07.795895",
     "exception": false,
     "start_time": "2021-09-07T00:00:07.546708",
     "status": "completed"
    },
    "tags": []
   },
   "outputs": [],
   "source": [
    "timestamps = pd.read_sql(\"select distinct record_time from EBAY_TOP_BERLIN order by record_time desc limit 2\", sqlite3.connect(\"UsedObjects.db\"))"
   ]
  },
  {
   "cell_type": "code",
   "execution_count": 3,
   "id": "periodic-identification",
   "metadata": {
    "execution": {
     "iopub.execute_input": "2021-09-07T00:00:07.862991Z",
     "iopub.status.busy": "2021-09-07T00:00:07.860874Z",
     "iopub.status.idle": "2021-09-07T00:00:07.881084Z",
     "shell.execute_reply": "2021-09-07T00:00:07.882369Z"
    },
    "papermill": {
     "duration": 0.06617,
     "end_time": "2021-09-07T00:00:07.882776",
     "exception": false,
     "start_time": "2021-09-07T00:00:07.816606",
     "status": "completed"
    },
    "tags": []
   },
   "outputs": [
    {
     "data": {
      "text/html": [
       "<div>\n",
       "<style scoped>\n",
       "    .dataframe tbody tr th:only-of-type {\n",
       "        vertical-align: middle;\n",
       "    }\n",
       "\n",
       "    .dataframe tbody tr th {\n",
       "        vertical-align: top;\n",
       "    }\n",
       "\n",
       "    .dataframe thead th {\n",
       "        text-align: right;\n",
       "    }\n",
       "</style>\n",
       "<table border=\"1\" class=\"dataframe\">\n",
       "  <thead>\n",
       "    <tr style=\"text-align: right;\">\n",
       "      <th></th>\n",
       "      <th>RECORD_TIME</th>\n",
       "    </tr>\n",
       "  </thead>\n",
       "  <tbody>\n",
       "    <tr>\n",
       "      <th>0</th>\n",
       "      <td>2021-09-07 02:00</td>\n",
       "    </tr>\n",
       "    <tr>\n",
       "      <th>1</th>\n",
       "      <td>2021-09-07 01:30</td>\n",
       "    </tr>\n",
       "  </tbody>\n",
       "</table>\n",
       "</div>"
      ],
      "text/plain": [
       "        RECORD_TIME\n",
       "0  2021-09-07 02:00\n",
       "1  2021-09-07 01:30"
      ]
     },
     "execution_count": 3,
     "metadata": {},
     "output_type": "execute_result"
    }
   ],
   "source": [
    "timestamps"
   ]
  },
  {
   "cell_type": "code",
   "execution_count": 4,
   "id": "alternate-victory",
   "metadata": {
    "execution": {
     "iopub.execute_input": "2021-09-07T00:00:07.933281Z",
     "iopub.status.busy": "2021-09-07T00:00:07.931401Z",
     "iopub.status.idle": "2021-09-07T00:00:08.277594Z",
     "shell.execute_reply": "2021-09-07T00:00:08.278812Z"
    },
    "papermill": {
     "duration": 0.376096,
     "end_time": "2021-09-07T00:00:08.279263",
     "exception": false,
     "start_time": "2021-09-07T00:00:07.903167",
     "status": "completed"
    },
    "tags": []
   },
   "outputs": [],
   "source": [
    "df = pd.read_sql(\"select * from EBAY_TOP_BERLIN where record_time in (select distinct record_time from EBAY_TOP_BERLIN order by record_time desc limit 2)\", sqlite3.connect(\"UsedObjects.db\"))"
   ]
  },
  {
   "cell_type": "code",
   "execution_count": 5,
   "id": "popular-active",
   "metadata": {
    "execution": {
     "iopub.execute_input": "2021-09-07T00:00:08.363940Z",
     "iopub.status.busy": "2021-09-07T00:00:08.352321Z",
     "iopub.status.idle": "2021-09-07T00:00:08.381360Z",
     "shell.execute_reply": "2021-09-07T00:00:08.382661Z"
    },
    "papermill": {
     "duration": 0.072803,
     "end_time": "2021-09-07T00:00:08.383127",
     "exception": false,
     "start_time": "2021-09-07T00:00:08.310324",
     "status": "completed"
    },
    "tags": []
   },
   "outputs": [],
   "source": [
    "df_pivot = df.pivot_table(index=\"PRODUCT\", columns = \"RECORD_TIME\", values = \"LISTING_COUNT\")"
   ]
  },
  {
   "cell_type": "code",
   "execution_count": 6,
   "id": "union-huntington",
   "metadata": {
    "execution": {
     "iopub.execute_input": "2021-09-07T00:00:08.439089Z",
     "iopub.status.busy": "2021-09-07T00:00:08.436995Z",
     "iopub.status.idle": "2021-09-07T00:00:08.442484Z",
     "shell.execute_reply": "2021-09-07T00:00:08.443879Z"
    },
    "papermill": {
     "duration": 0.041129,
     "end_time": "2021-09-07T00:00:08.444294",
     "exception": false,
     "start_time": "2021-09-07T00:00:08.403165",
     "status": "completed"
    },
    "tags": []
   },
   "outputs": [],
   "source": [
    "df_pivot.columns = [\"stamp_1\", \"stamp_2\"]\n",
    "df_pivot_diff = df_pivot.diff(axis=1)"
   ]
  },
  {
   "cell_type": "code",
   "execution_count": 7,
   "id": "fifth-motion",
   "metadata": {
    "execution": {
     "iopub.execute_input": "2021-09-07T00:00:08.498758Z",
     "iopub.status.busy": "2021-09-07T00:00:08.496309Z",
     "iopub.status.idle": "2021-09-07T00:00:09.974618Z",
     "shell.execute_reply": "2021-09-07T00:00:09.976074Z"
    },
    "papermill": {
     "duration": 1.51109,
     "end_time": "2021-09-07T00:00:09.976508",
     "exception": false,
     "start_time": "2021-09-07T00:00:08.465418",
     "status": "completed"
    },
    "tags": []
   },
   "outputs": [
    {
     "data": {
      "text/plain": [
       "<AxesSubplot:ylabel='PRODUCT'>"
      ]
     },
     "execution_count": 7,
     "metadata": {},
     "output_type": "execute_result"
    },
    {
     "data": {
      "image/png": "[encoded data removed]",
      "text/plain": [
       "<Figure size 432x288 with 1 Axes>"
      ]
     },
     "metadata": {
      "needs_background": "light"
     },
     "output_type": "display_data"
    }
   ],
   "source": [
    "df_pivot_diff.sort_values(\"stamp_2\", ascending = False)[\"stamp_2\"].head(10).plot.barh()"
   ]
  },
  {
   "cell_type": "code",
   "execution_count": null,
   "id": "extra-executive",
   "metadata": {
    "papermill": {
     "duration": 0.02204,
     "end_time": "2021-09-07T00:00:10.023000",
     "exception": false,
     "start_time": "2021-09-07T00:00:10.000960",
     "status": "completed"
    },
    "tags": []
   },
   "outputs": [],
   "source": []
  }
 ],
 "metadata": {
  "kernelspec": {
   "display_name": "Python 3",
   "language": "python",
   "name": "python3"
  },
  "language_info": {
   "codemirror_mode": {
    "name": "ipython",
    "version": 3
   },
   "file_extension": ".py",
   "mimetype": "text/x-python",
   "name": "python",
   "nbconvert_exporter": "python",
   "pygments_lexer": "ipython3",
   "version": "3.9.5"
  },
  "papermill": {
   "default_parameters": {},
   "duration": 6.419068,
   "end_time": "2021-09-07T00:00:10.664523",
   "environment_variables": {},
   "exception": null,
   "input_path": "eBay_Overview.ipynb",
   "output_path": "eBay_Overview.ipynb",
   "parameters": {},
   "start_time": "2021-09-07T00:00:04.245455",
   "version": "2.3.3"
  }
 },
 "nbformat": 4,
 "nbformat_minor": 5
}