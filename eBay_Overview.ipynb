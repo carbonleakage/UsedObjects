{
 "cells": [
  {
   "cell_type": "code",
   "execution_count": 1,
   "id": "reverse-picking",
   "metadata": {
    "execution": {
     "iopub.execute_input": "2021-09-11T14:00:06.724701Z",
     "iopub.status.busy": "2021-09-11T14:00:06.722672Z",
     "iopub.status.idle": "2021-09-11T14:00:07.536566Z",
     "shell.execute_reply": "2021-09-11T14:00:07.537733Z"
    },
    "papermill": {
     "duration": 0.865616,
     "end_time": "2021-09-11T14:00:07.538365",
     "exception": false,
     "start_time": "2021-09-11T14:00:06.672749",
     "status": "completed"
    },
    "tags": []
   },
   "outputs": [],
   "source": [
    "import pandas as pd\n",
    "import sqlite3"
   ]
  },
  {
   "cell_type": "code",
   "execution_count": 2,
   "id": "innovative-syndrome",
   "metadata": {
    "execution": {
     "iopub.execute_input": "2021-09-11T14:00:07.587597Z",
     "iopub.status.busy": "2021-09-11T14:00:07.585219Z",
     "iopub.status.idle": "2021-09-11T14:00:07.853947Z",
     "shell.execute_reply": "2021-09-11T14:00:07.855199Z"
    },
    "papermill": {
     "duration": 0.298404,
     "end_time": "2021-09-11T14:00:07.855613",
     "exception": false,
     "start_time": "2021-09-11T14:00:07.557209",
     "status": "completed"
    },
    "tags": []
   },
   "outputs": [],
   "source": [
    "timestamps = pd.read_sql(\"select distinct record_time from EBAY_TOP_BERLIN order by record_time desc limit 2\", sqlite3.connect(\"UsedObjects.db\"))"
   ]
  },
  {
   "cell_type": "code",
   "execution_count": 3,
   "id": "periodic-identification",
   "metadata": {
    "execution": {
     "iopub.execute_input": "2021-09-11T14:00:07.921123Z",
     "iopub.status.busy": "2021-09-11T14:00:07.919086Z",
     "iopub.status.idle": "2021-09-11T14:00:07.940761Z",
     "shell.execute_reply": "2021-09-11T14:00:07.939068Z"
    },
    "papermill": {
     "duration": 0.064104,
     "end_time": "2021-09-11T14:00:07.941167",
     "exception": false,
     "start_time": "2021-09-11T14:00:07.877063",
     "status": "completed"
    },
    "tags": []
   },
   "outputs": [
    {
     "data": {
      "text/html": [
       "<div>\n",
       "<style scoped>\n",
       "    .dataframe tbody tr th:only-of-type {\n",
       "        vertical-align: middle;\n",
       "    }\n",
       "\n",
       "    .dataframe tbody tr th {\n",
       "        vertical-align: top;\n",
       "    }\n",
       "\n",
       "    .dataframe thead th {\n",
       "        text-align: right;\n",
       "    }\n",
       "</style>\n",
       "<table border=\"1\" class=\"dataframe\">\n",
       "  <thead>\n",
       "    <tr style=\"text-align: right;\">\n",
       "      <th></th>\n",
       "      <th>RECORD_TIME</th>\n",
       "    </tr>\n",
       "  </thead>\n",
       "  <tbody>\n",
       "    <tr>\n",
       "      <th>0</th>\n",
       "      <td>2021-09-11 16:00</td>\n",
       "    </tr>\n",
       "    <tr>\n",
       "      <th>1</th>\n",
       "      <td>2021-09-11 15:30</td>\n",
       "    </tr>\n",
       "  </tbody>\n",
       "</table>\n",
       "</div>"
      ],
      "text/plain": [
       "        RECORD_TIME\n",
       "0  2021-09-11 16:00\n",
       "1  2021-09-11 15:30"
      ]
     },
     "execution_count": 3,
     "metadata": {},
     "output_type": "execute_result"
    }
   ],
   "source": [
    "timestamps"
   ]
  },
  {
   "cell_type": "code",
   "execution_count": 4,
   "id": "alternate-victory",
   "metadata": {
    "execution": {
     "iopub.execute_input": "2021-09-11T14:00:07.993000Z",
     "iopub.status.busy": "2021-09-11T14:00:07.990642Z",
     "iopub.status.idle": "2021-09-11T14:00:08.391251Z",
     "shell.execute_reply": "2021-09-11T14:00:08.392490Z"
    },
    "papermill": {
     "duration": 0.430658,
     "end_time": "2021-09-11T14:00:08.392896",
     "exception": false,
     "start_time": "2021-09-11T14:00:07.962238",
     "status": "completed"
    },
    "tags": []
   },
   "outputs": [],
   "source": [
    "df = pd.read_sql(\"select * from EBAY_TOP_BERLIN where record_time in (select distinct record_time from EBAY_TOP_BERLIN order by record_time desc limit 2)\", sqlite3.connect(\"UsedObjects.db\"))"
   ]
  },
  {
   "cell_type": "code",
   "execution_count": 5,
   "id": "popular-active",
   "metadata": {
    "execution": {
     "iopub.execute_input": "2021-09-11T14:00:08.472362Z",
     "iopub.status.busy": "2021-09-11T14:00:08.461103Z",
     "iopub.status.idle": "2021-09-11T14:00:08.488781Z",
     "shell.execute_reply": "2021-09-11T14:00:08.490071Z"
    },
    "papermill": {
     "duration": 0.072053,
     "end_time": "2021-09-11T14:00:08.490493",
     "exception": false,
     "start_time": "2021-09-11T14:00:08.418440",
     "status": "completed"
    },
    "tags": []
   },
   "outputs": [],
   "source": [
    "df_pivot = df.pivot_table(index=\"PRODUCT\", columns = \"RECORD_TIME\", values = \"LISTING_COUNT\")"
   ]
  },
  {
   "cell_type": "code",
   "execution_count": 6,
   "id": "union-huntington",
   "metadata": {
    "execution": {
     "iopub.execute_input": "2021-09-11T14:00:08.546690Z",
     "iopub.status.busy": "2021-09-11T14:00:08.544394Z",
     "iopub.status.idle": "2021-09-11T14:00:08.551633Z",
     "shell.execute_reply": "2021-09-11T14:00:08.550150Z"
    },
    "papermill": {
     "duration": 0.041741,
     "end_time": "2021-09-11T14:00:08.551994",
     "exception": false,
     "start_time": "2021-09-11T14:00:08.510253",
     "status": "completed"
    },
    "tags": []
   },
   "outputs": [],
   "source": [
    "df_pivot.columns = [\"stamp_1\", \"stamp_2\"]\n",
    "df_pivot_diff = df_pivot.diff(axis=1)"
   ]
  },
  {
   "cell_type": "code",
   "execution_count": 7,
   "id": "fifth-motion",
   "metadata": {
    "execution": {
     "iopub.execute_input": "2021-09-11T14:00:08.606074Z",
     "iopub.status.busy": "2021-09-11T14:00:08.603793Z",
     "iopub.status.idle": "2021-09-11T14:00:10.098421Z",
     "shell.execute_reply": "2021-09-11T14:00:10.099784Z"
    },
    "papermill": {
     "duration": 1.527955,
     "end_time": "2021-09-11T14:00:10.100221",
     "exception": false,
     "start_time": "2021-09-11T14:00:08.572266",
     "status": "completed"
    },
    "tags": []
   },
   "outputs": [
    {
     "data": {
      "text/plain": [
       "<AxesSubplot:ylabel='PRODUCT'>"
      ]
     },
     "execution_count": 7,
     "metadata": {},
     "output_type": "execute_result"
    },
    {
     "data": {
      "image/png": "[encoded data removed]",
      "text/plain": [
       "<Figure size 432x288 with 1 Axes>"
      ]
     },
     "metadata": {
      "needs_background": "light"
     },
     "output_type": "display_data"
    }
   ],
   "source": [
    "df_pivot_diff.sort_values(\"stamp_2\", ascending = False)[\"stamp_2\"].head(10).plot.barh()"
   ]
  },
  {
   "cell_type": "code",
   "execution_count": null,
   "id": "extra-executive",
   "metadata": {
    "papermill": {
     "duration": 0.02187,
     "end_time": "2021-09-11T14:00:10.145620",
     "exception": false,
     "start_time": "2021-09-11T14:00:10.123750",
     "status": "completed"
    },
    "tags": []
   },
   "outputs": [],
   "source": []
  }
 ],
 "metadata": {
  "kernelspec": {
   "display_name": "Python 3",
   "language": "python",
   "name": "python3"
  },
  "language_info": {
   "codemirror_mode": {
    "name": "ipython",
    "version": 3
   },
   "file_extension": ".py",
   "mimetype": "text/x-python",
   "name": "python",
   "nbconvert_exporter": "python",
   "pygments_lexer": "ipython3",
   "version": "3.9.5"
  },
  "papermill": {
   "default_parameters": {},
   "duration": 6.536438,
   "end_time": "2021-09-11T14:00:10.788385",
   "environment_variables": {},
   "exception": null,
   "input_path": "eBay_Overview.ipynb",
   "output_path": "eBay_Overview.ipynb",
   "parameters": {},
   "start_time": "2021-09-11T14:00:04.251947",
   "version": "2.3.3"
  }
 },
 "nbformat": 4,
 "nbformat_minor": 5
}