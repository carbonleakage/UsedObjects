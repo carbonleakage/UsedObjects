{
 "cells": [
  {
   "cell_type": "code",
   "execution_count": 1,
   "id": "reverse-picking",
   "metadata": {
    "execution": {
     "iopub.execute_input": "2021-08-19T05:30:07.043141Z",
     "iopub.status.busy": "2021-08-19T05:30:07.041105Z",
     "iopub.status.idle": "2021-08-19T05:30:07.845303Z",
     "shell.execute_reply": "2021-08-19T05:30:07.843753Z"
    },
    "papermill": {
     "duration": 0.851782,
     "end_time": "2021-08-19T05:30:07.845695",
     "exception": false,
     "start_time": "2021-08-19T05:30:06.993913",
     "status": "completed"
    },
    "tags": []
   },
   "outputs": [],
   "source": [
    "import pandas as pd\n",
    "import sqlite3"
   ]
  },
  {
   "cell_type": "code",
   "execution_count": 2,
   "id": "innovative-syndrome",
   "metadata": {
    "execution": {
     "iopub.execute_input": "2021-08-19T05:30:07.896510Z",
     "iopub.status.busy": "2021-08-19T05:30:07.894647Z",
     "iopub.status.idle": "2021-08-19T05:30:07.975848Z",
     "shell.execute_reply": "2021-08-19T05:30:07.977054Z"
    },
    "papermill": {
     "duration": 0.110749,
     "end_time": "2021-08-19T05:30:07.977449",
     "exception": false,
     "start_time": "2021-08-19T05:30:07.866700",
     "status": "completed"
    },
    "tags": []
   },
   "outputs": [],
   "source": [
    "timestamps = pd.read_sql(\"select distinct record_time from EBAY_TOP_BERLIN order by record_time desc limit 2\", sqlite3.connect(\"UsedObjects.db\"))"
   ]
  },
  {
   "cell_type": "code",
   "execution_count": 3,
   "id": "periodic-identification",
   "metadata": {
    "execution": {
     "iopub.execute_input": "2021-08-19T05:30:08.043237Z",
     "iopub.status.busy": "2021-08-19T05:30:08.041034Z",
     "iopub.status.idle": "2021-08-19T05:30:08.062291Z",
     "shell.execute_reply": "2021-08-19T05:30:08.063638Z"
    },
    "papermill": {
     "duration": 0.065431,
     "end_time": "2021-08-19T05:30:08.064036",
     "exception": false,
     "start_time": "2021-08-19T05:30:07.998605",
     "status": "completed"
    },
    "tags": []
   },
   "outputs": [
    {
     "data": {
      "text/html": [
       "<div>\n",
       "<style scoped>\n",
       "    .dataframe tbody tr th:only-of-type {\n",
       "        vertical-align: middle;\n",
       "    }\n",
       "\n",
       "    .dataframe tbody tr th {\n",
       "        vertical-align: top;\n",
       "    }\n",
       "\n",
       "    .dataframe thead th {\n",
       "        text-align: right;\n",
       "    }\n",
       "</style>\n",
       "<table border=\"1\" class=\"dataframe\">\n",
       "  <thead>\n",
       "    <tr style=\"text-align: right;\">\n",
       "      <th></th>\n",
       "      <th>RECORD_TIME</th>\n",
       "    </tr>\n",
       "  </thead>\n",
       "  <tbody>\n",
       "    <tr>\n",
       "      <th>0</th>\n",
       "      <td>2021-08-19 07:30</td>\n",
       "    </tr>\n",
       "    <tr>\n",
       "      <th>1</th>\n",
       "      <td>2021-08-19 07:00</td>\n",
       "    </tr>\n",
       "  </tbody>\n",
       "</table>\n",
       "</div>"
      ],
      "text/plain": [
       "        RECORD_TIME\n",
       "0  2021-08-19 07:30\n",
       "1  2021-08-19 07:00"
      ]
     },
     "execution_count": 3,
     "metadata": {},
     "output_type": "execute_result"
    }
   ],
   "source": [
    "timestamps"
   ]
  },
  {
   "cell_type": "code",
   "execution_count": 4,
   "id": "alternate-victory",
   "metadata": {
    "execution": {
     "iopub.execute_input": "2021-08-19T05:30:08.116868Z",
     "iopub.status.busy": "2021-08-19T05:30:08.114568Z",
     "iopub.status.idle": "2021-08-19T05:30:08.236363Z",
     "shell.execute_reply": "2021-08-19T05:30:08.237650Z"
    },
    "papermill": {
     "duration": 0.152328,
     "end_time": "2021-08-19T05:30:08.238136",
     "exception": false,
     "start_time": "2021-08-19T05:30:08.085808",
     "status": "completed"
    },
    "tags": []
   },
   "outputs": [],
   "source": [
    "df = pd.read_sql(\"select * from EBAY_TOP_BERLIN where record_time in (select distinct record_time from EBAY_TOP_BERLIN order by record_time desc limit 2)\", sqlite3.connect(\"UsedObjects.db\"))"
   ]
  },
  {
   "cell_type": "code",
   "execution_count": 5,
   "id": "popular-active",
   "metadata": {
    "execution": {
     "iopub.execute_input": "2021-08-19T05:30:08.308255Z",
     "iopub.status.busy": "2021-08-19T05:30:08.295862Z",
     "iopub.status.idle": "2021-08-19T05:30:08.324426Z",
     "shell.execute_reply": "2021-08-19T05:30:08.325648Z"
    },
    "papermill": {
     "duration": 0.067886,
     "end_time": "2021-08-19T05:30:08.326232",
     "exception": false,
     "start_time": "2021-08-19T05:30:08.258346",
     "status": "completed"
    },
    "tags": []
   },
   "outputs": [],
   "source": [
    "df_pivot = df.pivot_table(index=\"PRODUCT\", columns = \"RECORD_TIME\", values = \"LISTING_COUNT\")"
   ]
  },
  {
   "cell_type": "code",
   "execution_count": 6,
   "id": "union-huntington",
   "metadata": {
    "execution": {
     "iopub.execute_input": "2021-08-19T05:30:08.385717Z",
     "iopub.status.busy": "2021-08-19T05:30:08.383270Z",
     "iopub.status.idle": "2021-08-19T05:30:08.389156Z",
     "shell.execute_reply": "2021-08-19T05:30:08.390499Z"
    },
    "papermill": {
     "duration": 0.042494,
     "end_time": "2021-08-19T05:30:08.390921",
     "exception": false,
     "start_time": "2021-08-19T05:30:08.348427",
     "status": "completed"
    },
    "tags": []
   },
   "outputs": [],
   "source": [
    "df_pivot.columns = [\"stamp_1\", \"stamp_2\"]\n",
    "df_pivot_diff = df_pivot.diff(axis=1)"
   ]
  },
  {
   "cell_type": "code",
   "execution_count": 7,
   "id": "fifth-motion",
   "metadata": {
    "execution": {
     "iopub.execute_input": "2021-08-19T05:30:08.445799Z",
     "iopub.status.busy": "2021-08-19T05:30:08.443388Z",
     "iopub.status.idle": "2021-08-19T05:30:09.909518Z",
     "shell.execute_reply": "2021-08-19T05:30:09.910877Z"
    },
    "papermill": {
     "duration": 1.499531,
     "end_time": "2021-08-19T05:30:09.911300",
     "exception": false,
     "start_time": "2021-08-19T05:30:08.411769",
     "status": "completed"
    },
    "tags": []
   },
   "outputs": [
    {
     "data": {
      "text/plain": [
       "<AxesSubplot:ylabel='PRODUCT'>"
      ]
     },
     "execution_count": 7,
     "metadata": {},
     "output_type": "execute_result"
    },
    {
     "data": {
      "image/png": "[encoded data removed]",
      "text/plain": [
       "<Figure size 432x288 with 1 Axes>"
      ]
     },
     "metadata": {
      "needs_background": "light"
     },
     "output_type": "display_data"
    }
   ],
   "source": [
    "df_pivot_diff.sort_values(\"stamp_2\", ascending = False)[\"stamp_2\"].head(10).plot.barh()"
   ]
  },
  {
   "cell_type": "code",
   "execution_count": null,
   "id": "extra-executive",
   "metadata": {
    "papermill": {
     "duration": 0.022123,
     "end_time": "2021-08-19T05:30:09.958134",
     "exception": false,
     "start_time": "2021-08-19T05:30:09.936011",
     "status": "completed"
    },
    "tags": []
   },
   "outputs": [],
   "source": []
  }
 ],
 "metadata": {
  "kernelspec": {
   "display_name": "Python 3",
   "language": "python",
   "name": "python3"
  },
  "language_info": {
   "codemirror_mode": {
    "name": "ipython",
    "version": 3
   },
   "file_extension": ".py",
   "mimetype": "text/x-python",
   "name": "python",
   "nbconvert_exporter": "python",
   "pygments_lexer": "ipython3",
   "version": "3.9.5"
  },
  "papermill": {
   "default_parameters": {},
   "duration": 6.831103,
   "end_time": "2021-08-19T05:30:11.431724",
   "environment_variables": {},
   "exception": null,
   "input_path": "eBay_Overview.ipynb",
   "output_path": "eBay_Overview.ipynb",
   "parameters": {},
   "start_time": "2021-08-19T05:30:04.600621",
   "version": "2.3.3"
  }
 },
 "nbformat": 4,
 "nbformat_minor": 5
}