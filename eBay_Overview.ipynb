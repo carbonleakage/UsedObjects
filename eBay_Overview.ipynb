{
 "cells": [
  {
   "cell_type": "code",
   "execution_count": 1,
   "id": "reverse-picking",
   "metadata": {
    "execution": {
     "iopub.execute_input": "2021-08-23T16:30:07.313405Z",
     "iopub.status.busy": "2021-08-23T16:30:07.311502Z",
     "iopub.status.idle": "2021-08-23T16:30:08.119008Z",
     "shell.execute_reply": "2021-08-23T16:30:08.120300Z"
    },
    "papermill": {
     "duration": 0.859815,
     "end_time": "2021-08-23T16:30:08.120906",
     "exception": false,
     "start_time": "2021-08-23T16:30:07.261091",
     "status": "completed"
    },
    "tags": []
   },
   "outputs": [],
   "source": [
    "import pandas as pd\n",
    "import sqlite3"
   ]
  },
  {
   "cell_type": "code",
   "execution_count": 2,
   "id": "innovative-syndrome",
   "metadata": {
    "execution": {
     "iopub.execute_input": "2021-08-23T16:30:08.171010Z",
     "iopub.status.busy": "2021-08-23T16:30:08.169069Z",
     "iopub.status.idle": "2021-08-23T16:30:08.280756Z",
     "shell.execute_reply": "2021-08-23T16:30:08.282097Z"
    },
    "papermill": {
     "duration": 0.141462,
     "end_time": "2021-08-23T16:30:08.282529",
     "exception": false,
     "start_time": "2021-08-23T16:30:08.141067",
     "status": "completed"
    },
    "tags": []
   },
   "outputs": [],
   "source": [
    "timestamps = pd.read_sql(\"select distinct record_time from EBAY_TOP_BERLIN order by record_time desc limit 2\", sqlite3.connect(\"UsedObjects.db\"))"
   ]
  },
  {
   "cell_type": "code",
   "execution_count": 3,
   "id": "periodic-identification",
   "metadata": {
    "execution": {
     "iopub.execute_input": "2021-08-23T16:30:08.348120Z",
     "iopub.status.busy": "2021-08-23T16:30:08.345649Z",
     "iopub.status.idle": "2021-08-23T16:30:08.366400Z",
     "shell.execute_reply": "2021-08-23T16:30:08.367710Z"
    },
    "papermill": {
     "duration": 0.065951,
     "end_time": "2021-08-23T16:30:08.368108",
     "exception": false,
     "start_time": "2021-08-23T16:30:08.302157",
     "status": "completed"
    },
    "tags": []
   },
   "outputs": [
    {
     "data": {
      "text/html": [
       "<div>\n",
       "<style scoped>\n",
       "    .dataframe tbody tr th:only-of-type {\n",
       "        vertical-align: middle;\n",
       "    }\n",
       "\n",
       "    .dataframe tbody tr th {\n",
       "        vertical-align: top;\n",
       "    }\n",
       "\n",
       "    .dataframe thead th {\n",
       "        text-align: right;\n",
       "    }\n",
       "</style>\n",
       "<table border=\"1\" class=\"dataframe\">\n",
       "  <thead>\n",
       "    <tr style=\"text-align: right;\">\n",
       "      <th></th>\n",
       "      <th>RECORD_TIME</th>\n",
       "    </tr>\n",
       "  </thead>\n",
       "  <tbody>\n",
       "    <tr>\n",
       "      <th>0</th>\n",
       "      <td>2021-08-23 18:30</td>\n",
       "    </tr>\n",
       "    <tr>\n",
       "      <th>1</th>\n",
       "      <td>2021-08-23 18:00</td>\n",
       "    </tr>\n",
       "  </tbody>\n",
       "</table>\n",
       "</div>"
      ],
      "text/plain": [
       "        RECORD_TIME\n",
       "0  2021-08-23 18:30\n",
       "1  2021-08-23 18:00"
      ]
     },
     "execution_count": 3,
     "metadata": {},
     "output_type": "execute_result"
    }
   ],
   "source": [
    "timestamps"
   ]
  },
  {
   "cell_type": "code",
   "execution_count": 4,
   "id": "alternate-victory",
   "metadata": {
    "execution": {
     "iopub.execute_input": "2021-08-23T16:30:08.420521Z",
     "iopub.status.busy": "2021-08-23T16:30:08.418258Z",
     "iopub.status.idle": "2021-08-23T16:30:08.590514Z",
     "shell.execute_reply": "2021-08-23T16:30:08.591810Z"
    },
    "papermill": {
     "duration": 0.202397,
     "end_time": "2021-08-23T16:30:08.592208",
     "exception": false,
     "start_time": "2021-08-23T16:30:08.389811",
     "status": "completed"
    },
    "tags": []
   },
   "outputs": [],
   "source": [
    "df = pd.read_sql(\"select * from EBAY_TOP_BERLIN where record_time in (select distinct record_time from EBAY_TOP_BERLIN order by record_time desc limit 2)\", sqlite3.connect(\"UsedObjects.db\"))"
   ]
  },
  {
   "cell_type": "code",
   "execution_count": 5,
   "id": "popular-active",
   "metadata": {
    "execution": {
     "iopub.execute_input": "2021-08-23T16:30:08.656823Z",
     "iopub.status.busy": "2021-08-23T16:30:08.649516Z",
     "iopub.status.idle": "2021-08-23T16:30:08.677863Z",
     "shell.execute_reply": "2021-08-23T16:30:08.679328Z"
    },
    "papermill": {
     "duration": 0.06702,
     "end_time": "2021-08-23T16:30:08.679764",
     "exception": false,
     "start_time": "2021-08-23T16:30:08.612744",
     "status": "completed"
    },
    "tags": []
   },
   "outputs": [],
   "source": [
    "df_pivot = df.pivot_table(index=\"PRODUCT\", columns = \"RECORD_TIME\", values = \"LISTING_COUNT\")"
   ]
  },
  {
   "cell_type": "code",
   "execution_count": 6,
   "id": "union-huntington",
   "metadata": {
    "execution": {
     "iopub.execute_input": "2021-08-23T16:30:08.737383Z",
     "iopub.status.busy": "2021-08-23T16:30:08.734962Z",
     "iopub.status.idle": "2021-08-23T16:30:08.740630Z",
     "shell.execute_reply": "2021-08-23T16:30:08.741894Z"
    },
    "papermill": {
     "duration": 0.042148,
     "end_time": "2021-08-23T16:30:08.742396",
     "exception": false,
     "start_time": "2021-08-23T16:30:08.700248",
     "status": "completed"
    },
    "tags": []
   },
   "outputs": [],
   "source": [
    "df_pivot.columns = [\"stamp_1\", \"stamp_2\"]\n",
    "df_pivot_diff = df_pivot.diff(axis=1)"
   ]
  },
  {
   "cell_type": "code",
   "execution_count": 7,
   "id": "fifth-motion",
   "metadata": {
    "execution": {
     "iopub.execute_input": "2021-08-23T16:30:08.802914Z",
     "iopub.status.busy": "2021-08-23T16:30:08.800240Z",
     "iopub.status.idle": "2021-08-23T16:30:10.319870Z",
     "shell.execute_reply": "2021-08-23T16:30:10.321134Z"
    },
    "papermill": {
     "duration": 1.555101,
     "end_time": "2021-08-23T16:30:10.321549",
     "exception": false,
     "start_time": "2021-08-23T16:30:08.766448",
     "status": "completed"
    },
    "tags": []
   },
   "outputs": [
    {
     "data": {
      "text/plain": [
       "<AxesSubplot:ylabel='PRODUCT'>"
      ]
     },
     "execution_count": 7,
     "metadata": {},
     "output_type": "execute_result"
    },
    {
     "data": {
      "image/png": "[encoded data removed]",
      "text/plain": [
       "<Figure size 432x288 with 1 Axes>"
      ]
     },
     "metadata": {
      "needs_background": "light"
     },
     "output_type": "display_data"
    }
   ],
   "source": [
    "df_pivot_diff.sort_values(\"stamp_2\", ascending = False)[\"stamp_2\"].head(10).plot.barh()"
   ]
  },
  {
   "cell_type": "code",
   "execution_count": null,
   "id": "extra-executive",
   "metadata": {
    "papermill": {
     "duration": 0.022399,
     "end_time": "2021-08-23T16:30:10.368682",
     "exception": false,
     "start_time": "2021-08-23T16:30:10.346283",
     "status": "completed"
    },
    "tags": []
   },
   "outputs": [],
   "source": []
  }
 ],
 "metadata": {
  "kernelspec": {
   "display_name": "Python 3",
   "language": "python",
   "name": "python3"
  },
  "language_info": {
   "codemirror_mode": {
    "name": "ipython",
    "version": 3
   },
   "file_extension": ".py",
   "mimetype": "text/x-python",
   "name": "python",
   "nbconvert_exporter": "python",
   "pygments_lexer": "ipython3",
   "version": "3.9.5"
  },
  "papermill": {
   "default_parameters": {},
   "duration": 6.822758,
   "end_time": "2021-08-23T16:30:11.673708",
   "environment_variables": {},
   "exception": null,
   "input_path": "eBay_Overview.ipynb",
   "output_path": "eBay_Overview.ipynb",
   "parameters": {},
   "start_time": "2021-08-23T16:30:04.850950",
   "version": "2.3.3"
  }
 },
 "nbformat": 4,
 "nbformat_minor": 5
}