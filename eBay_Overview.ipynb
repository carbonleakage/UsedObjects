{
 "cells": [
  {
   "cell_type": "code",
   "execution_count": 1,
   "id": "reverse-picking",
   "metadata": {
    "execution": {
     "iopub.execute_input": "2021-11-07T18:30:07.536931Z",
     "iopub.status.busy": "2021-11-07T18:30:07.534600Z",
     "iopub.status.idle": "2021-11-07T18:30:08.492635Z",
     "shell.execute_reply": "2021-11-07T18:30:08.494304Z"
    },
    "papermill": {
     "duration": 1.007442,
     "end_time": "2021-11-07T18:30:08.495042",
     "exception": false,
     "start_time": "2021-11-07T18:30:07.487600",
     "status": "completed"
    },
    "tags": []
   },
   "outputs": [],
   "source": [
    "import pandas as pd\n",
    "import sqlite3"
   ]
  },
  {
   "cell_type": "code",
   "execution_count": 2,
   "id": "innovative-syndrome",
   "metadata": {
    "execution": {
     "iopub.execute_input": "2021-11-07T18:30:08.558108Z",
     "iopub.status.busy": "2021-11-07T18:30:08.555618Z",
     "iopub.status.idle": "2021-11-07T18:30:09.332452Z",
     "shell.execute_reply": "2021-11-07T18:30:09.330404Z"
    },
    "papermill": {
     "duration": 0.811046,
     "end_time": "2021-11-07T18:30:09.332992",
     "exception": false,
     "start_time": "2021-11-07T18:30:08.521946",
     "status": "completed"
    },
    "tags": []
   },
   "outputs": [],
   "source": [
    "timestamps = pd.read_sql(\"select distinct record_time from EBAY_TOP_BERLIN order by record_time desc limit 2\", sqlite3.connect(\"UsedObjects.db\"))"
   ]
  },
  {
   "cell_type": "code",
   "execution_count": 3,
   "id": "periodic-identification",
   "metadata": {
    "execution": {
     "iopub.execute_input": "2021-11-07T18:30:09.410060Z",
     "iopub.status.busy": "2021-11-07T18:30:09.403637Z",
     "iopub.status.idle": "2021-11-07T18:30:09.428902Z",
     "shell.execute_reply": "2021-11-07T18:30:09.430460Z"
    },
    "papermill": {
     "duration": 0.077291,
     "end_time": "2021-11-07T18:30:09.430975",
     "exception": false,
     "start_time": "2021-11-07T18:30:09.353684",
     "status": "completed"
    },
    "tags": []
   },
   "outputs": [
    {
     "data": {
      "text/html": [
       "<div>\n",
       "<style scoped>\n",
       "    .dataframe tbody tr th:only-of-type {\n",
       "        vertical-align: middle;\n",
       "    }\n",
       "\n",
       "    .dataframe tbody tr th {\n",
       "        vertical-align: top;\n",
       "    }\n",
       "\n",
       "    .dataframe thead th {\n",
       "        text-align: right;\n",
       "    }\n",
       "</style>\n",
       "<table border=\"1\" class=\"dataframe\">\n",
       "  <thead>\n",
       "    <tr style=\"text-align: right;\">\n",
       "      <th></th>\n",
       "      <th>RECORD_TIME</th>\n",
       "    </tr>\n",
       "  </thead>\n",
       "  <tbody>\n",
       "    <tr>\n",
       "      <th>0</th>\n",
       "      <td>2021-11-07 19:30</td>\n",
       "    </tr>\n",
       "    <tr>\n",
       "      <th>1</th>\n",
       "      <td>2021-11-07 19:00</td>\n",
       "    </tr>\n",
       "  </tbody>\n",
       "</table>\n",
       "</div>"
      ],
      "text/plain": [
       "        RECORD_TIME\n",
       "0  2021-11-07 19:30\n",
       "1  2021-11-07 19:00"
      ]
     },
     "execution_count": 3,
     "metadata": {},
     "output_type": "execute_result"
    }
   ],
   "source": [
    "timestamps"
   ]
  },
  {
   "cell_type": "code",
   "execution_count": 4,
   "id": "alternate-victory",
   "metadata": {
    "execution": {
     "iopub.execute_input": "2021-11-07T18:30:09.488579Z",
     "iopub.status.busy": "2021-11-07T18:30:09.485084Z",
     "iopub.status.idle": "2021-11-07T18:30:10.615451Z",
     "shell.execute_reply": "2021-11-07T18:30:10.617229Z"
    },
    "papermill": {
     "duration": 1.165355,
     "end_time": "2021-11-07T18:30:10.617714",
     "exception": false,
     "start_time": "2021-11-07T18:30:09.452359",
     "status": "completed"
    },
    "tags": []
   },
   "outputs": [],
   "source": [
    "df = pd.read_sql(\"select * from EBAY_TOP_BERLIN where record_time in (select distinct record_time from EBAY_TOP_BERLIN order by record_time desc limit 2)\", sqlite3.connect(\"UsedObjects.db\"))"
   ]
  },
  {
   "cell_type": "code",
   "execution_count": 5,
   "id": "popular-active",
   "metadata": {
    "execution": {
     "iopub.execute_input": "2021-11-07T18:30:10.676831Z",
     "iopub.status.busy": "2021-11-07T18:30:10.674550Z",
     "iopub.status.idle": "2021-11-07T18:30:10.713550Z",
     "shell.execute_reply": "2021-11-07T18:30:10.715220Z"
    },
    "papermill": {
     "duration": 0.075586,
     "end_time": "2021-11-07T18:30:10.715727",
     "exception": false,
     "start_time": "2021-11-07T18:30:10.640141",
     "status": "completed"
    },
    "tags": []
   },
   "outputs": [],
   "source": [
    "df_pivot = df.pivot_table(index=\"PRODUCT\", columns = \"RECORD_TIME\", values = \"LISTING_COUNT\")"
   ]
  },
  {
   "cell_type": "code",
   "execution_count": 6,
   "id": "union-huntington",
   "metadata": {
    "execution": {
     "iopub.execute_input": "2021-11-07T18:30:10.772458Z",
     "iopub.status.busy": "2021-11-07T18:30:10.770595Z",
     "iopub.status.idle": "2021-11-07T18:30:10.788812Z",
     "shell.execute_reply": "2021-11-07T18:30:10.786613Z"
    },
    "papermill": {
     "duration": 0.053159,
     "end_time": "2021-11-07T18:30:10.789269",
     "exception": false,
     "start_time": "2021-11-07T18:30:10.736110",
     "status": "completed"
    },
    "tags": []
   },
   "outputs": [],
   "source": [
    "df_pivot.columns = [\"stamp_1\", \"stamp_2\"]\n",
    "df_pivot_diff = df_pivot.diff(axis=1)"
   ]
  },
  {
   "cell_type": "code",
   "execution_count": 7,
   "id": "fifth-motion",
   "metadata": {
    "execution": {
     "iopub.execute_input": "2021-11-07T18:30:10.849049Z",
     "iopub.status.busy": "2021-11-07T18:30:10.846251Z",
     "iopub.status.idle": "2021-11-07T18:30:12.600283Z",
     "shell.execute_reply": "2021-11-07T18:30:12.601925Z"
    },
    "papermill": {
     "duration": 1.790958,
     "end_time": "2021-11-07T18:30:12.602459",
     "exception": false,
     "start_time": "2021-11-07T18:30:10.811501",
     "status": "completed"
    },
    "tags": []
   },
   "outputs": [
    {
     "data": {
      "text/plain": [
       "<AxesSubplot:ylabel='PRODUCT'>"
      ]
     },
     "execution_count": 7,
     "metadata": {},
     "output_type": "execute_result"
    },
    {
     "data": {
      "image/png": "[encoded data removed]",
      "text/plain": [
       "<Figure size 432x288 with 1 Axes>"
      ]
     },
     "metadata": {
      "needs_background": "light"
     },
     "output_type": "display_data"
    }
   ],
   "source": [
    "df_pivot_diff.sort_values(\"stamp_2\", ascending = False)[\"stamp_2\"].head(10).plot.barh()"
   ]
  },
  {
   "cell_type": "code",
   "execution_count": null,
   "id": "extra-executive",
   "metadata": {
    "papermill": {
     "duration": 0.026001,
     "end_time": "2021-11-07T18:30:12.654589",
     "exception": false,
     "start_time": "2021-11-07T18:30:12.628588",
     "status": "completed"
    },
    "tags": []
   },
   "outputs": [],
   "source": []
  }
 ],
 "metadata": {
  "kernelspec": {
   "display_name": "Python 3",
   "language": "python",
   "name": "python3"
  },
  "language_info": {
   "codemirror_mode": {
    "name": "ipython",
    "version": 3
   },
   "file_extension": ".py",
   "mimetype": "text/x-python",
   "name": "python",
   "nbconvert_exporter": "python",
   "pygments_lexer": "ipython3",
   "version": "3.9.5"
  },
  "papermill": {
   "default_parameters": {},
   "duration": 8.754667,
   "end_time": "2021-11-07T18:30:13.401573",
   "environment_variables": {},
   "exception": null,
   "input_path": "eBay_Overview.ipynb",
   "output_path": "eBay_Overview.ipynb",
   "parameters": {},
   "start_time": "2021-11-07T18:30:04.646906",
   "version": "2.3.3"
  }
 },
 "nbformat": 4,
 "nbformat_minor": 5
}