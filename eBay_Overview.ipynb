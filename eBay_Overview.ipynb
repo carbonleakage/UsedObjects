{
 "cells": [
  {
   "cell_type": "code",
   "execution_count": 1,
   "id": "reverse-picking",
   "metadata": {
    "execution": {
     "iopub.execute_input": "2021-12-16T17:30:07.499316Z",
     "iopub.status.busy": "2021-12-16T17:30:07.496961Z",
     "iopub.status.idle": "2021-12-16T17:30:08.469689Z",
     "shell.execute_reply": "2021-12-16T17:30:08.467082Z"
    },
    "papermill": {
     "duration": 1.021461,
     "end_time": "2021-12-16T17:30:08.470191",
     "exception": false,
     "start_time": "2021-12-16T17:30:07.448730",
     "status": "completed"
    },
    "tags": []
   },
   "outputs": [],
   "source": [
    "import pandas as pd\n",
    "import sqlite3"
   ]
  },
  {
   "cell_type": "code",
   "execution_count": 2,
   "id": "innovative-syndrome",
   "metadata": {
    "execution": {
     "iopub.execute_input": "2021-12-16T17:30:08.532036Z",
     "iopub.status.busy": "2021-12-16T17:30:08.529889Z",
     "iopub.status.idle": "2021-12-16T17:30:09.653439Z",
     "shell.execute_reply": "2021-12-16T17:30:09.655543Z"
    },
    "papermill": {
     "duration": 1.158352,
     "end_time": "2021-12-16T17:30:09.655960",
     "exception": false,
     "start_time": "2021-12-16T17:30:08.497608",
     "status": "completed"
    },
    "tags": []
   },
   "outputs": [],
   "source": [
    "timestamps = pd.read_sql(\"select distinct record_time from EBAY_TOP_BERLIN order by record_time desc limit 2\", sqlite3.connect(\"UsedObjects.db\"))"
   ]
  },
  {
   "cell_type": "code",
   "execution_count": 3,
   "id": "periodic-identification",
   "metadata": {
    "execution": {
     "iopub.execute_input": "2021-12-16T17:30:09.727220Z",
     "iopub.status.busy": "2021-12-16T17:30:09.724959Z",
     "iopub.status.idle": "2021-12-16T17:30:09.747879Z",
     "shell.execute_reply": "2021-12-16T17:30:09.749476Z"
    },
    "papermill": {
     "duration": 0.074865,
     "end_time": "2021-12-16T17:30:09.749948",
     "exception": false,
     "start_time": "2021-12-16T17:30:09.675083",
     "status": "completed"
    },
    "tags": []
   },
   "outputs": [
    {
     "data": {
      "text/html": [
       "<div>\n",
       "<style scoped>\n",
       "    .dataframe tbody tr th:only-of-type {\n",
       "        vertical-align: middle;\n",
       "    }\n",
       "\n",
       "    .dataframe tbody tr th {\n",
       "        vertical-align: top;\n",
       "    }\n",
       "\n",
       "    .dataframe thead th {\n",
       "        text-align: right;\n",
       "    }\n",
       "</style>\n",
       "<table border=\"1\" class=\"dataframe\">\n",
       "  <thead>\n",
       "    <tr style=\"text-align: right;\">\n",
       "      <th></th>\n",
       "      <th>RECORD_TIME</th>\n",
       "    </tr>\n",
       "  </thead>\n",
       "  <tbody>\n",
       "    <tr>\n",
       "      <th>0</th>\n",
       "      <td>2021-12-16 18:30</td>\n",
       "    </tr>\n",
       "    <tr>\n",
       "      <th>1</th>\n",
       "      <td>2021-12-16 18:00</td>\n",
       "    </tr>\n",
       "  </tbody>\n",
       "</table>\n",
       "</div>"
      ],
      "text/plain": [
       "        RECORD_TIME\n",
       "0  2021-12-16 18:30\n",
       "1  2021-12-16 18:00"
      ]
     },
     "execution_count": 3,
     "metadata": {},
     "output_type": "execute_result"
    }
   ],
   "source": [
    "timestamps"
   ]
  },
  {
   "cell_type": "code",
   "execution_count": 4,
   "id": "alternate-victory",
   "metadata": {
    "execution": {
     "iopub.execute_input": "2021-12-16T17:30:09.806254Z",
     "iopub.status.busy": "2021-12-16T17:30:09.804004Z",
     "iopub.status.idle": "2021-12-16T17:30:11.415398Z",
     "shell.execute_reply": "2021-12-16T17:30:11.416917Z"
    },
    "papermill": {
     "duration": 1.645893,
     "end_time": "2021-12-16T17:30:11.417411",
     "exception": false,
     "start_time": "2021-12-16T17:30:09.771518",
     "status": "completed"
    },
    "tags": []
   },
   "outputs": [],
   "source": [
    "df = pd.read_sql(\"select * from EBAY_TOP_BERLIN where record_time in (select distinct record_time from EBAY_TOP_BERLIN order by record_time desc limit 2)\", sqlite3.connect(\"UsedObjects.db\"))"
   ]
  },
  {
   "cell_type": "code",
   "execution_count": 5,
   "id": "popular-active",
   "metadata": {
    "execution": {
     "iopub.execute_input": "2021-12-16T17:30:11.484036Z",
     "iopub.status.busy": "2021-12-16T17:30:11.481741Z",
     "iopub.status.idle": "2021-12-16T17:30:11.512076Z",
     "shell.execute_reply": "2021-12-16T17:30:11.513630Z"
    },
    "papermill": {
     "duration": 0.073818,
     "end_time": "2021-12-16T17:30:11.514131",
     "exception": false,
     "start_time": "2021-12-16T17:30:11.440313",
     "status": "completed"
    },
    "tags": []
   },
   "outputs": [],
   "source": [
    "df_pivot = df.pivot_table(index=\"PRODUCT\", columns = \"RECORD_TIME\", values = \"LISTING_COUNT\")"
   ]
  },
  {
   "cell_type": "code",
   "execution_count": 6,
   "id": "union-huntington",
   "metadata": {
    "execution": {
     "iopub.execute_input": "2021-12-16T17:30:11.572880Z",
     "iopub.status.busy": "2021-12-16T17:30:11.570541Z",
     "iopub.status.idle": "2021-12-16T17:30:11.576068Z",
     "shell.execute_reply": "2021-12-16T17:30:11.577756Z"
    },
    "papermill": {
     "duration": 0.044083,
     "end_time": "2021-12-16T17:30:11.578264",
     "exception": false,
     "start_time": "2021-12-16T17:30:11.534181",
     "status": "completed"
    },
    "tags": []
   },
   "outputs": [],
   "source": [
    "df_pivot.columns = [\"stamp_1\", \"stamp_2\"]\n",
    "df_pivot_diff = df_pivot.diff(axis=1)"
   ]
  },
  {
   "cell_type": "code",
   "execution_count": 7,
   "id": "fifth-motion",
   "metadata": {
    "execution": {
     "iopub.execute_input": "2021-12-16T17:30:11.639298Z",
     "iopub.status.busy": "2021-12-16T17:30:11.636834Z",
     "iopub.status.idle": "2021-12-16T17:30:13.597916Z",
     "shell.execute_reply": "2021-12-16T17:30:13.599274Z"
    },
    "papermill": {
     "duration": 1.999257,
     "end_time": "2021-12-16T17:30:13.599701",
     "exception": false,
     "start_time": "2021-12-16T17:30:11.600444",
     "status": "completed"
    },
    "tags": []
   },
   "outputs": [
    {
     "data": {
      "text/plain": [
       "<AxesSubplot:ylabel='PRODUCT'>"
      ]
     },
     "execution_count": 7,
     "metadata": {},
     "output_type": "execute_result"
    },
    {
     "data": {
      "image/png": "[encoded data removed]",
      "text/plain": [
       "<Figure size 432x288 with 1 Axes>"
      ]
     },
     "metadata": {
      "needs_background": "light"
     },
     "output_type": "display_data"
    }
   ],
   "source": [
    "df_pivot_diff.sort_values(\"stamp_2\", ascending = False)[\"stamp_2\"].head(10).plot.barh()"
   ]
  },
  {
   "cell_type": "code",
   "execution_count": null,
   "id": "extra-executive",
   "metadata": {
    "papermill": {
     "duration": 0.027376,
     "end_time": "2021-12-16T17:30:13.660394",
     "exception": false,
     "start_time": "2021-12-16T17:30:13.633018",
     "status": "completed"
    },
    "tags": []
   },
   "outputs": [],
   "source": []
  }
 ],
 "metadata": {
  "kernelspec": {
   "display_name": "Python 3",
   "language": "python",
   "name": "python3"
  },
  "language_info": {
   "codemirror_mode": {
    "name": "ipython",
    "version": 3
   },
   "file_extension": ".py",
   "mimetype": "text/x-python",
   "name": "python",
   "nbconvert_exporter": "python",
   "pygments_lexer": "ipython3",
   "version": "3.9.5"
  },
  "papermill": {
   "default_parameters": {},
   "duration": 9.599483,
   "end_time": "2021-12-16T17:30:14.306168",
   "environment_variables": {},
   "exception": null,
   "input_path": "eBay_Overview.ipynb",
   "output_path": "eBay_Overview.ipynb",
   "parameters": {},
   "start_time": "2021-12-16T17:30:04.706685",
   "version": "2.3.3"
  }
 },
 "nbformat": 4,
 "nbformat_minor": 5
}