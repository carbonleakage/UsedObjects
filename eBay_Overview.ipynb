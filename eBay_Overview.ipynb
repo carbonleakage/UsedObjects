{
 "cells": [
  {
   "cell_type": "code",
   "execution_count": 1,
   "id": "reverse-picking",
   "metadata": {
    "execution": {
     "iopub.execute_input": "2021-08-29T19:00:06.532844Z",
     "iopub.status.busy": "2021-08-29T19:00:06.530803Z",
     "iopub.status.idle": "2021-08-29T19:00:07.334332Z",
     "shell.execute_reply": "2021-08-29T19:00:07.335560Z"
    },
    "papermill": {
     "duration": 0.853401,
     "end_time": "2021-08-29T19:00:07.336177",
     "exception": false,
     "start_time": "2021-08-29T19:00:06.482776",
     "status": "completed"
    },
    "tags": []
   },
   "outputs": [],
   "source": [
    "import pandas as pd\n",
    "import sqlite3"
   ]
  },
  {
   "cell_type": "code",
   "execution_count": 2,
   "id": "innovative-syndrome",
   "metadata": {
    "execution": {
     "iopub.execute_input": "2021-08-29T19:00:07.387463Z",
     "iopub.status.busy": "2021-08-29T19:00:07.385617Z",
     "iopub.status.idle": "2021-08-29T19:00:07.543796Z",
     "shell.execute_reply": "2021-08-29T19:00:07.545191Z"
    },
    "papermill": {
     "duration": 0.187872,
     "end_time": "2021-08-29T19:00:07.545601",
     "exception": false,
     "start_time": "2021-08-29T19:00:07.357729",
     "status": "completed"
    },
    "tags": []
   },
   "outputs": [],
   "source": [
    "timestamps = pd.read_sql(\"select distinct record_time from EBAY_TOP_BERLIN order by record_time desc limit 2\", sqlite3.connect(\"UsedObjects.db\"))"
   ]
  },
  {
   "cell_type": "code",
   "execution_count": 3,
   "id": "periodic-identification",
   "metadata": {
    "execution": {
     "iopub.execute_input": "2021-08-29T19:00:07.613324Z",
     "iopub.status.busy": "2021-08-29T19:00:07.611262Z",
     "iopub.status.idle": "2021-08-29T19:00:07.631212Z",
     "shell.execute_reply": "2021-08-29T19:00:07.632474Z"
    },
    "papermill": {
     "duration": 0.066501,
     "end_time": "2021-08-29T19:00:07.632909",
     "exception": false,
     "start_time": "2021-08-29T19:00:07.566408",
     "status": "completed"
    },
    "tags": []
   },
   "outputs": [
    {
     "data": {
      "text/html": [
       "<div>\n",
       "<style scoped>\n",
       "    .dataframe tbody tr th:only-of-type {\n",
       "        vertical-align: middle;\n",
       "    }\n",
       "\n",
       "    .dataframe tbody tr th {\n",
       "        vertical-align: top;\n",
       "    }\n",
       "\n",
       "    .dataframe thead th {\n",
       "        text-align: right;\n",
       "    }\n",
       "</style>\n",
       "<table border=\"1\" class=\"dataframe\">\n",
       "  <thead>\n",
       "    <tr style=\"text-align: right;\">\n",
       "      <th></th>\n",
       "      <th>RECORD_TIME</th>\n",
       "    </tr>\n",
       "  </thead>\n",
       "  <tbody>\n",
       "    <tr>\n",
       "      <th>0</th>\n",
       "      <td>2021-08-29 21:00</td>\n",
       "    </tr>\n",
       "    <tr>\n",
       "      <th>1</th>\n",
       "      <td>2021-08-29 20:30</td>\n",
       "    </tr>\n",
       "  </tbody>\n",
       "</table>\n",
       "</div>"
      ],
      "text/plain": [
       "        RECORD_TIME\n",
       "0  2021-08-29 21:00\n",
       "1  2021-08-29 20:30"
      ]
     },
     "execution_count": 3,
     "metadata": {},
     "output_type": "execute_result"
    }
   ],
   "source": [
    "timestamps"
   ]
  },
  {
   "cell_type": "code",
   "execution_count": 4,
   "id": "alternate-victory",
   "metadata": {
    "execution": {
     "iopub.execute_input": "2021-08-29T19:00:07.685232Z",
     "iopub.status.busy": "2021-08-29T19:00:07.683165Z",
     "iopub.status.idle": "2021-08-29T19:00:07.921612Z",
     "shell.execute_reply": "2021-08-29T19:00:07.922817Z"
    },
    "papermill": {
     "duration": 0.268158,
     "end_time": "2021-08-29T19:00:07.923204",
     "exception": false,
     "start_time": "2021-08-29T19:00:07.655046",
     "status": "completed"
    },
    "tags": []
   },
   "outputs": [],
   "source": [
    "df = pd.read_sql(\"select * from EBAY_TOP_BERLIN where record_time in (select distinct record_time from EBAY_TOP_BERLIN order by record_time desc limit 2)\", sqlite3.connect(\"UsedObjects.db\"))"
   ]
  },
  {
   "cell_type": "code",
   "execution_count": 5,
   "id": "popular-active",
   "metadata": {
    "execution": {
     "iopub.execute_input": "2021-08-29T19:00:08.003456Z",
     "iopub.status.busy": "2021-08-29T19:00:07.991525Z",
     "iopub.status.idle": "2021-08-29T19:00:08.019244Z",
     "shell.execute_reply": "2021-08-29T19:00:08.020591Z"
    },
    "papermill": {
     "duration": 0.075187,
     "end_time": "2021-08-29T19:00:08.021009",
     "exception": false,
     "start_time": "2021-08-29T19:00:07.945822",
     "status": "completed"
    },
    "tags": []
   },
   "outputs": [],
   "source": [
    "df_pivot = df.pivot_table(index=\"PRODUCT\", columns = \"RECORD_TIME\", values = \"LISTING_COUNT\")"
   ]
  },
  {
   "cell_type": "code",
   "execution_count": 6,
   "id": "union-huntington",
   "metadata": {
    "execution": {
     "iopub.execute_input": "2021-08-29T19:00:08.077132Z",
     "iopub.status.busy": "2021-08-29T19:00:08.075036Z",
     "iopub.status.idle": "2021-08-29T19:00:08.080340Z",
     "shell.execute_reply": "2021-08-29T19:00:08.081535Z"
    },
    "papermill": {
     "duration": 0.039983,
     "end_time": "2021-08-29T19:00:08.081962",
     "exception": false,
     "start_time": "2021-08-29T19:00:08.041979",
     "status": "completed"
    },
    "tags": []
   },
   "outputs": [],
   "source": [
    "df_pivot.columns = [\"stamp_1\", \"stamp_2\"]\n",
    "df_pivot_diff = df_pivot.diff(axis=1)"
   ]
  },
  {
   "cell_type": "code",
   "execution_count": 7,
   "id": "fifth-motion",
   "metadata": {
    "execution": {
     "iopub.execute_input": "2021-08-29T19:00:08.136905Z",
     "iopub.status.busy": "2021-08-29T19:00:08.134376Z",
     "iopub.status.idle": "2021-08-29T19:00:09.650693Z",
     "shell.execute_reply": "2021-08-29T19:00:09.651970Z"
    },
    "papermill": {
     "duration": 1.549224,
     "end_time": "2021-08-29T19:00:09.652452",
     "exception": false,
     "start_time": "2021-08-29T19:00:08.103228",
     "status": "completed"
    },
    "tags": []
   },
   "outputs": [
    {
     "data": {
      "text/plain": [
       "<AxesSubplot:ylabel='PRODUCT'>"
      ]
     },
     "execution_count": 7,
     "metadata": {},
     "output_type": "execute_result"
    },
    {
     "data": {
      "image/png": "[encoded data removed]",
      "text/plain": [
       "<Figure size 432x288 with 1 Axes>"
      ]
     },
     "metadata": {
      "needs_background": "light"
     },
     "output_type": "display_data"
    }
   ],
   "source": [
    "df_pivot_diff.sort_values(\"stamp_2\", ascending = False)[\"stamp_2\"].head(10).plot.barh()"
   ]
  },
  {
   "cell_type": "code",
   "execution_count": null,
   "id": "extra-executive",
   "metadata": {
    "papermill": {
     "duration": 0.022053,
     "end_time": "2021-08-29T19:00:09.699386",
     "exception": false,
     "start_time": "2021-08-29T19:00:09.677333",
     "status": "completed"
    },
    "tags": []
   },
   "outputs": [],
   "source": []
  }
 ],
 "metadata": {
  "kernelspec": {
   "display_name": "Python 3",
   "language": "python",
   "name": "python3"
  },
  "language_info": {
   "codemirror_mode": {
    "name": "ipython",
    "version": 3
   },
   "file_extension": ".py",
   "mimetype": "text/x-python",
   "name": "python",
   "nbconvert_exporter": "python",
   "pygments_lexer": "ipython3",
   "version": "3.9.5"
  },
  "papermill": {
   "default_parameters": {},
   "duration": 6.823048,
   "end_time": "2021-08-29T19:00:10.899187",
   "environment_variables": {},
   "exception": null,
   "input_path": "eBay_Overview.ipynb",
   "output_path": "eBay_Overview.ipynb",
   "parameters": {},
   "start_time": "2021-08-29T19:00:04.076139",
   "version": "2.3.3"
  }
 },
 "nbformat": 4,
 "nbformat_minor": 5
}