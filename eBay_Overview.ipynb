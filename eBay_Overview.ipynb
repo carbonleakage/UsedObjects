{
 "cells": [
  {
   "cell_type": "code",
   "execution_count": 1,
   "id": "reverse-picking",
   "metadata": {
    "execution": {
     "iopub.execute_input": "2021-08-10T17:30:04.468823Z",
     "iopub.status.busy": "2021-08-10T17:30:04.467960Z",
     "iopub.status.idle": "2021-08-10T17:30:05.104033Z",
     "shell.execute_reply": "2021-08-10T17:30:05.103187Z"
    },
    "papermill": {
     "duration": 0.656823,
     "end_time": "2021-08-10T17:30:05.104226",
     "exception": false,
     "start_time": "2021-08-10T17:30:04.447403",
     "status": "completed"
    },
    "tags": []
   },
   "outputs": [],
   "source": [
    "import pandas as pd\n",
    "import sqlite3"
   ]
  },
  {
   "cell_type": "code",
   "execution_count": 2,
   "id": "innovative-syndrome",
   "metadata": {
    "execution": {
     "iopub.execute_input": "2021-08-10T17:30:05.127983Z",
     "iopub.status.busy": "2021-08-10T17:30:05.127216Z",
     "iopub.status.idle": "2021-08-10T17:30:05.324774Z",
     "shell.execute_reply": "2021-08-10T17:30:05.324030Z"
    },
    "papermill": {
     "duration": 0.212087,
     "end_time": "2021-08-10T17:30:05.324937",
     "exception": false,
     "start_time": "2021-08-10T17:30:05.112850",
     "status": "completed"
    },
    "tags": []
   },
   "outputs": [],
   "source": [
    "timestamps = pd.read_sql(\"select distinct record_time from EBAY_TOP_BERLIN order by record_time desc limit 2\", sqlite3.connect(\"UsedObjects.db\"))"
   ]
  },
  {
   "cell_type": "code",
   "execution_count": 3,
   "id": "periodic-identification",
   "metadata": {
    "execution": {
     "iopub.execute_input": "2021-08-10T17:30:05.362903Z",
     "iopub.status.busy": "2021-08-10T17:30:05.362007Z",
     "iopub.status.idle": "2021-08-10T17:30:05.377274Z",
     "shell.execute_reply": "2021-08-10T17:30:05.377842Z"
    },
    "papermill": {
     "duration": 0.044799,
     "end_time": "2021-08-10T17:30:05.378036",
     "exception": false,
     "start_time": "2021-08-10T17:30:05.333237",
     "status": "completed"
    },
    "tags": []
   },
   "outputs": [
    {
     "data": {
      "text/html": [
       "<div>\n",
       "<style scoped>\n",
       "    .dataframe tbody tr th:only-of-type {\n",
       "        vertical-align: middle;\n",
       "    }\n",
       "\n",
       "    .dataframe tbody tr th {\n",
       "        vertical-align: top;\n",
       "    }\n",
       "\n",
       "    .dataframe thead th {\n",
       "        text-align: right;\n",
       "    }\n",
       "</style>\n",
       "<table border=\"1\" class=\"dataframe\">\n",
       "  <thead>\n",
       "    <tr style=\"text-align: right;\">\n",
       "      <th></th>\n",
       "      <th>RECORD_TIME</th>\n",
       "    </tr>\n",
       "  </thead>\n",
       "  <tbody>\n",
       "    <tr>\n",
       "      <th>0</th>\n",
       "      <td>2021-08-10 19:30</td>\n",
       "    </tr>\n",
       "    <tr>\n",
       "      <th>1</th>\n",
       "      <td>2021-08-10 19:00</td>\n",
       "    </tr>\n",
       "  </tbody>\n",
       "</table>\n",
       "</div>"
      ],
      "text/plain": [
       "        RECORD_TIME\n",
       "0  2021-08-10 19:30\n",
       "1  2021-08-10 19:00"
      ]
     },
     "execution_count": 3,
     "metadata": {},
     "output_type": "execute_result"
    }
   ],
   "source": [
    "timestamps"
   ]
  },
  {
   "cell_type": "code",
   "execution_count": 4,
   "id": "alternate-victory",
   "metadata": {
    "execution": {
     "iopub.execute_input": "2021-08-10T17:30:05.401615Z",
     "iopub.status.busy": "2021-08-10T17:30:05.400860Z",
     "iopub.status.idle": "2021-08-10T17:30:05.419222Z",
     "shell.execute_reply": "2021-08-10T17:30:05.418606Z"
    },
    "papermill": {
     "duration": 0.032099,
     "end_time": "2021-08-10T17:30:05.419388",
     "exception": false,
     "start_time": "2021-08-10T17:30:05.387289",
     "status": "completed"
    },
    "tags": []
   },
   "outputs": [],
   "source": [
    "df = pd.read_sql(\"select * from EBAY_TOP_BERLIN where record_time in (select distinct record_time from EBAY_TOP_BERLIN order by record_time desc limit 2)\", sqlite3.connect(\"UsedObjects.db\"))"
   ]
  },
  {
   "cell_type": "code",
   "execution_count": 5,
   "id": "popular-active",
   "metadata": {
    "execution": {
     "iopub.execute_input": "2021-08-10T17:30:05.452512Z",
     "iopub.status.busy": "2021-08-10T17:30:05.451737Z",
     "iopub.status.idle": "2021-08-10T17:30:05.470869Z",
     "shell.execute_reply": "2021-08-10T17:30:05.470257Z"
    },
    "papermill": {
     "duration": 0.042821,
     "end_time": "2021-08-10T17:30:05.471036",
     "exception": false,
     "start_time": "2021-08-10T17:30:05.428215",
     "status": "completed"
    },
    "tags": []
   },
   "outputs": [],
   "source": [
    "df_pivot = df.pivot_table(index=\"PRODUCT\", columns = \"RECORD_TIME\", values = \"LISTING_COUNT\")"
   ]
  },
  {
   "cell_type": "code",
   "execution_count": 6,
   "id": "union-huntington",
   "metadata": {
    "execution": {
     "iopub.execute_input": "2021-08-10T17:30:05.501283Z",
     "iopub.status.busy": "2021-08-10T17:30:05.499977Z",
     "iopub.status.idle": "2021-08-10T17:30:05.506408Z",
     "shell.execute_reply": "2021-08-10T17:30:05.507386Z"
    },
    "papermill": {
     "duration": 0.02793,
     "end_time": "2021-08-10T17:30:05.507703",
     "exception": false,
     "start_time": "2021-08-10T17:30:05.479773",
     "status": "completed"
    },
    "tags": []
   },
   "outputs": [],
   "source": [
    "df_pivot.columns = [\"stamp_1\", \"stamp_2\"]\n",
    "df_pivot_diff = df_pivot.diff(axis=1)"
   ]
  },
  {
   "cell_type": "code",
   "execution_count": 7,
   "id": "fifth-motion",
   "metadata": {
    "execution": {
     "iopub.execute_input": "2021-08-10T17:30:05.546333Z",
     "iopub.status.busy": "2021-08-10T17:30:05.545587Z",
     "iopub.status.idle": "2021-08-10T17:30:06.272454Z",
     "shell.execute_reply": "2021-08-10T17:30:06.271601Z"
    },
    "papermill": {
     "duration": 0.743382,
     "end_time": "2021-08-10T17:30:06.272681",
     "exception": false,
     "start_time": "2021-08-10T17:30:05.529299",
     "status": "completed"
    },
    "tags": []
   },
   "outputs": [
    {
     "data": {
      "text/plain": [
       "<AxesSubplot:ylabel='PRODUCT'>"
      ]
     },
     "execution_count": 7,
     "metadata": {},
     "output_type": "execute_result"
    },
    {
     "data": {
      "image/png": "[encoded data removed]",
      "text/plain": [
       "<Figure size 432x288 with 1 Axes>"
      ]
     },
     "metadata": {
      "needs_background": "light"
     },
     "output_type": "display_data"
    }
   ],
   "source": [
    "df_pivot_diff.sort_values(\"stamp_2\", ascending = False)[\"stamp_2\"].head(10).plot.barh()"
   ]
  },
  {
   "cell_type": "code",
   "execution_count": null,
   "id": "extra-executive",
   "metadata": {
    "papermill": {
     "duration": 0.011619,
     "end_time": "2021-08-10T17:30:06.295149",
     "exception": false,
     "start_time": "2021-08-10T17:30:06.283530",
     "status": "completed"
    },
    "tags": []
   },
   "outputs": [],
   "source": []
  }
 ],
 "metadata": {
  "kernelspec": {
   "display_name": "Python 3",
   "language": "python",
   "name": "python3"
  },
  "language_info": {
   "codemirror_mode": {
    "name": "ipython",
    "version": 3
   },
   "file_extension": ".py",
   "mimetype": "text/x-python",
   "name": "python",
   "nbconvert_exporter": "python",
   "pygments_lexer": "ipython3",
   "version": "3.8.8"
  },
  "papermill": {
   "default_parameters": {},
   "duration": 5.07401,
   "end_time": "2021-08-10T17:30:07.803456",
   "environment_variables": {},
   "exception": null,
   "input_path": "/Users/saravananshanmugam/Carbonleakage_Git/UsedObjects/eBay_Overview.ipynb",
   "output_path": "/Users/saravananshanmugam/Carbonleakage_Git/UsedObjects/eBay_Overview.ipynb",
   "parameters": {},
   "start_time": "2021-08-10T17:30:02.729446",
   "version": "2.3.3"
  }
 },
 "nbformat": 4,
 "nbformat_minor": 5
}