{
 "cells": [
  {
   "cell_type": "code",
   "execution_count": 1,
   "id": "reverse-picking",
   "metadata": {
    "execution": {
     "iopub.execute_input": "2021-10-05T01:30:07.284524Z",
     "iopub.status.busy": "2021-10-05T01:30:07.282549Z",
     "iopub.status.idle": "2021-10-05T01:30:08.091862Z",
     "shell.execute_reply": "2021-10-05T01:30:08.093112Z"
    },
    "papermill": {
     "duration": 0.861717,
     "end_time": "2021-10-05T01:30:08.093728",
     "exception": false,
     "start_time": "2021-10-05T01:30:07.232011",
     "status": "completed"
    },
    "tags": []
   },
   "outputs": [],
   "source": [
    "import pandas as pd\n",
    "import sqlite3"
   ]
  },
  {
   "cell_type": "code",
   "execution_count": 2,
   "id": "innovative-syndrome",
   "metadata": {
    "execution": {
     "iopub.execute_input": "2021-10-05T01:30:08.147610Z",
     "iopub.status.busy": "2021-10-05T01:30:08.145189Z",
     "iopub.status.idle": "2021-10-05T01:30:08.597212Z",
     "shell.execute_reply": "2021-10-05T01:30:08.598414Z"
    },
    "papermill": {
     "duration": 0.482133,
     "end_time": "2021-10-05T01:30:08.598993",
     "exception": false,
     "start_time": "2021-10-05T01:30:08.116860",
     "status": "completed"
    },
    "tags": []
   },
   "outputs": [],
   "source": [
    "timestamps = pd.read_sql(\"select distinct record_time from EBAY_TOP_BERLIN order by record_time desc limit 2\", sqlite3.connect(\"UsedObjects.db\"))"
   ]
  },
  {
   "cell_type": "code",
   "execution_count": 3,
   "id": "periodic-identification",
   "metadata": {
    "execution": {
     "iopub.execute_input": "2021-10-05T01:30:08.667128Z",
     "iopub.status.busy": "2021-10-05T01:30:08.665020Z",
     "iopub.status.idle": "2021-10-05T01:30:08.685970Z",
     "shell.execute_reply": "2021-10-05T01:30:08.687646Z"
    },
    "papermill": {
     "duration": 0.067385,
     "end_time": "2021-10-05T01:30:08.688162",
     "exception": false,
     "start_time": "2021-10-05T01:30:08.620777",
     "status": "completed"
    },
    "tags": []
   },
   "outputs": [
    {
     "data": {
      "text/html": [
       "<div>\n",
       "<style scoped>\n",
       "    .dataframe tbody tr th:only-of-type {\n",
       "        vertical-align: middle;\n",
       "    }\n",
       "\n",
       "    .dataframe tbody tr th {\n",
       "        vertical-align: top;\n",
       "    }\n",
       "\n",
       "    .dataframe thead th {\n",
       "        text-align: right;\n",
       "    }\n",
       "</style>\n",
       "<table border=\"1\" class=\"dataframe\">\n",
       "  <thead>\n",
       "    <tr style=\"text-align: right;\">\n",
       "      <th></th>\n",
       "      <th>RECORD_TIME</th>\n",
       "    </tr>\n",
       "  </thead>\n",
       "  <tbody>\n",
       "    <tr>\n",
       "      <th>0</th>\n",
       "      <td>2021-10-05 03:30</td>\n",
       "    </tr>\n",
       "    <tr>\n",
       "      <th>1</th>\n",
       "      <td>2021-10-05 03:00</td>\n",
       "    </tr>\n",
       "  </tbody>\n",
       "</table>\n",
       "</div>"
      ],
      "text/plain": [
       "        RECORD_TIME\n",
       "0  2021-10-05 03:30\n",
       "1  2021-10-05 03:00"
      ]
     },
     "execution_count": 3,
     "metadata": {},
     "output_type": "execute_result"
    }
   ],
   "source": [
    "timestamps"
   ]
  },
  {
   "cell_type": "code",
   "execution_count": 4,
   "id": "alternate-victory",
   "metadata": {
    "execution": {
     "iopub.execute_input": "2021-10-05T01:30:08.755228Z",
     "iopub.status.busy": "2021-10-05T01:30:08.753167Z",
     "iopub.status.idle": "2021-10-05T01:30:09.417752Z",
     "shell.execute_reply": "2021-10-05T01:30:09.419148Z"
    },
    "papermill": {
     "duration": 0.701391,
     "end_time": "2021-10-05T01:30:09.419629",
     "exception": false,
     "start_time": "2021-10-05T01:30:08.718238",
     "status": "completed"
    },
    "tags": []
   },
   "outputs": [],
   "source": [
    "df = pd.read_sql(\"select * from EBAY_TOP_BERLIN where record_time in (select distinct record_time from EBAY_TOP_BERLIN order by record_time desc limit 2)\", sqlite3.connect(\"UsedObjects.db\"))"
   ]
  },
  {
   "cell_type": "code",
   "execution_count": 5,
   "id": "popular-active",
   "metadata": {
    "execution": {
     "iopub.execute_input": "2021-10-05T01:30:09.490320Z",
     "iopub.status.busy": "2021-10-05T01:30:09.478811Z",
     "iopub.status.idle": "2021-10-05T01:30:09.506184Z",
     "shell.execute_reply": "2021-10-05T01:30:09.507633Z"
    },
    "papermill": {
     "duration": 0.068174,
     "end_time": "2021-10-05T01:30:09.508057",
     "exception": false,
     "start_time": "2021-10-05T01:30:09.439883",
     "status": "completed"
    },
    "tags": []
   },
   "outputs": [],
   "source": [
    "df_pivot = df.pivot_table(index=\"PRODUCT\", columns = \"RECORD_TIME\", values = \"LISTING_COUNT\")"
   ]
  },
  {
   "cell_type": "code",
   "execution_count": 6,
   "id": "union-huntington",
   "metadata": {
    "execution": {
     "iopub.execute_input": "2021-10-05T01:30:09.567062Z",
     "iopub.status.busy": "2021-10-05T01:30:09.564558Z",
     "iopub.status.idle": "2021-10-05T01:30:09.570368Z",
     "shell.execute_reply": "2021-10-05T01:30:09.571732Z"
    },
    "papermill": {
     "duration": 0.042589,
     "end_time": "2021-10-05T01:30:09.572168",
     "exception": false,
     "start_time": "2021-10-05T01:30:09.529579",
     "status": "completed"
    },
    "tags": []
   },
   "outputs": [],
   "source": [
    "df_pivot.columns = [\"stamp_1\", \"stamp_2\"]\n",
    "df_pivot_diff = df_pivot.diff(axis=1)"
   ]
  },
  {
   "cell_type": "code",
   "execution_count": 7,
   "id": "fifth-motion",
   "metadata": {
    "execution": {
     "iopub.execute_input": "2021-10-05T01:30:09.626232Z",
     "iopub.status.busy": "2021-10-05T01:30:09.623989Z",
     "iopub.status.idle": "2021-10-05T01:30:11.118573Z",
     "shell.execute_reply": "2021-10-05T01:30:11.119928Z"
    },
    "papermill": {
     "duration": 1.527392,
     "end_time": "2021-10-05T01:30:11.120348",
     "exception": false,
     "start_time": "2021-10-05T01:30:09.592956",
     "status": "completed"
    },
    "tags": []
   },
   "outputs": [
    {
     "data": {
      "text/plain": [
       "<AxesSubplot:ylabel='PRODUCT'>"
      ]
     },
     "execution_count": 7,
     "metadata": {},
     "output_type": "execute_result"
    },
    {
     "data": {
      "image/png": "[encoded data removed]",
      "text/plain": [
       "<Figure size 432x288 with 1 Axes>"
      ]
     },
     "metadata": {
      "needs_background": "light"
     },
     "output_type": "display_data"
    }
   ],
   "source": [
    "df_pivot_diff.sort_values(\"stamp_2\", ascending = False)[\"stamp_2\"].head(10).plot.barh()"
   ]
  },
  {
   "cell_type": "code",
   "execution_count": null,
   "id": "extra-executive",
   "metadata": {
    "papermill": {
     "duration": 0.022345,
     "end_time": "2021-10-05T01:30:11.166661",
     "exception": false,
     "start_time": "2021-10-05T01:30:11.144316",
     "status": "completed"
    },
    "tags": []
   },
   "outputs": [],
   "source": []
  }
 ],
 "metadata": {
  "kernelspec": {
   "display_name": "Python 3",
   "language": "python",
   "name": "python3"
  },
  "language_info": {
   "codemirror_mode": {
    "name": "ipython",
    "version": 3
   },
   "file_extension": ".py",
   "mimetype": "text/x-python",
   "name": "python",
   "nbconvert_exporter": "python",
   "pygments_lexer": "ipython3",
   "version": "3.9.5"
  },
  "papermill": {
   "default_parameters": {},
   "duration": 7.819033,
   "end_time": "2021-10-05T01:30:12.644136",
   "environment_variables": {},
   "exception": null,
   "input_path": "eBay_Overview.ipynb",
   "output_path": "eBay_Overview.ipynb",
   "parameters": {},
   "start_time": "2021-10-05T01:30:04.825103",
   "version": "2.3.3"
  }
 },
 "nbformat": 4,
 "nbformat_minor": 5
}