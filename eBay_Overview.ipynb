{
 "cells": [
  {
   "cell_type": "code",
   "execution_count": 1,
   "id": "reverse-picking",
   "metadata": {
    "execution": {
     "iopub.execute_input": "2021-08-23T13:00:07.886528Z",
     "iopub.status.busy": "2021-08-23T13:00:07.884512Z",
     "iopub.status.idle": "2021-08-23T13:00:08.687464Z",
     "shell.execute_reply": "2021-08-23T13:00:08.688632Z"
    },
    "papermill": {
     "duration": 0.852845,
     "end_time": "2021-08-23T13:00:08.689257",
     "exception": false,
     "start_time": "2021-08-23T13:00:07.836412",
     "status": "completed"
    },
    "tags": []
   },
   "outputs": [],
   "source": [
    "import pandas as pd\n",
    "import sqlite3"
   ]
  },
  {
   "cell_type": "code",
   "execution_count": 2,
   "id": "innovative-syndrome",
   "metadata": {
    "execution": {
     "iopub.execute_input": "2021-08-23T13:00:08.740934Z",
     "iopub.status.busy": "2021-08-23T13:00:08.739086Z",
     "iopub.status.idle": "2021-08-23T13:00:08.853330Z",
     "shell.execute_reply": "2021-08-23T13:00:08.854597Z"
    },
    "papermill": {
     "duration": 0.144058,
     "end_time": "2021-08-23T13:00:08.855036",
     "exception": false,
     "start_time": "2021-08-23T13:00:08.710978",
     "status": "completed"
    },
    "tags": []
   },
   "outputs": [],
   "source": [
    "timestamps = pd.read_sql(\"select distinct record_time from EBAY_TOP_BERLIN order by record_time desc limit 2\", sqlite3.connect(\"UsedObjects.db\"))"
   ]
  },
  {
   "cell_type": "code",
   "execution_count": 3,
   "id": "periodic-identification",
   "metadata": {
    "execution": {
     "iopub.execute_input": "2021-08-23T13:00:08.920206Z",
     "iopub.status.busy": "2021-08-23T13:00:08.918129Z",
     "iopub.status.idle": "2021-08-23T13:00:08.938701Z",
     "shell.execute_reply": "2021-08-23T13:00:08.939844Z"
    },
    "papermill": {
     "duration": 0.064879,
     "end_time": "2021-08-23T13:00:08.940249",
     "exception": false,
     "start_time": "2021-08-23T13:00:08.875370",
     "status": "completed"
    },
    "tags": []
   },
   "outputs": [
    {
     "data": {
      "text/html": [
       "<div>\n",
       "<style scoped>\n",
       "    .dataframe tbody tr th:only-of-type {\n",
       "        vertical-align: middle;\n",
       "    }\n",
       "\n",
       "    .dataframe tbody tr th {\n",
       "        vertical-align: top;\n",
       "    }\n",
       "\n",
       "    .dataframe thead th {\n",
       "        text-align: right;\n",
       "    }\n",
       "</style>\n",
       "<table border=\"1\" class=\"dataframe\">\n",
       "  <thead>\n",
       "    <tr style=\"text-align: right;\">\n",
       "      <th></th>\n",
       "      <th>RECORD_TIME</th>\n",
       "    </tr>\n",
       "  </thead>\n",
       "  <tbody>\n",
       "    <tr>\n",
       "      <th>0</th>\n",
       "      <td>2021-08-23 15:00</td>\n",
       "    </tr>\n",
       "    <tr>\n",
       "      <th>1</th>\n",
       "      <td>2021-08-23 14:30</td>\n",
       "    </tr>\n",
       "  </tbody>\n",
       "</table>\n",
       "</div>"
      ],
      "text/plain": [
       "        RECORD_TIME\n",
       "0  2021-08-23 15:00\n",
       "1  2021-08-23 14:30"
      ]
     },
     "execution_count": 3,
     "metadata": {},
     "output_type": "execute_result"
    }
   ],
   "source": [
    "timestamps"
   ]
  },
  {
   "cell_type": "code",
   "execution_count": 4,
   "id": "alternate-victory",
   "metadata": {
    "execution": {
     "iopub.execute_input": "2021-08-23T13:00:08.994607Z",
     "iopub.status.busy": "2021-08-23T13:00:08.992275Z",
     "iopub.status.idle": "2021-08-23T13:00:09.162694Z",
     "shell.execute_reply": "2021-08-23T13:00:09.163923Z"
    },
    "papermill": {
     "duration": 0.200599,
     "end_time": "2021-08-23T13:00:09.164315",
     "exception": false,
     "start_time": "2021-08-23T13:00:08.963716",
     "status": "completed"
    },
    "tags": []
   },
   "outputs": [],
   "source": [
    "df = pd.read_sql(\"select * from EBAY_TOP_BERLIN where record_time in (select distinct record_time from EBAY_TOP_BERLIN order by record_time desc limit 2)\", sqlite3.connect(\"UsedObjects.db\"))"
   ]
  },
  {
   "cell_type": "code",
   "execution_count": 5,
   "id": "popular-active",
   "metadata": {
    "execution": {
     "iopub.execute_input": "2021-08-23T13:00:09.230861Z",
     "iopub.status.busy": "2021-08-23T13:00:09.223214Z",
     "iopub.status.idle": "2021-08-23T13:00:09.251864Z",
     "shell.execute_reply": "2021-08-23T13:00:09.253566Z"
    },
    "papermill": {
     "duration": 0.068084,
     "end_time": "2021-08-23T13:00:09.254135",
     "exception": false,
     "start_time": "2021-08-23T13:00:09.186051",
     "status": "completed"
    },
    "tags": []
   },
   "outputs": [],
   "source": [
    "df_pivot = df.pivot_table(index=\"PRODUCT\", columns = \"RECORD_TIME\", values = \"LISTING_COUNT\")"
   ]
  },
  {
   "cell_type": "code",
   "execution_count": 6,
   "id": "union-huntington",
   "metadata": {
    "execution": {
     "iopub.execute_input": "2021-08-23T13:00:09.310483Z",
     "iopub.status.busy": "2021-08-23T13:00:09.308398Z",
     "iopub.status.idle": "2021-08-23T13:00:09.313735Z",
     "shell.execute_reply": "2021-08-23T13:00:09.315263Z"
    },
    "papermill": {
     "duration": 0.040656,
     "end_time": "2021-08-23T13:00:09.315807",
     "exception": false,
     "start_time": "2021-08-23T13:00:09.275151",
     "status": "completed"
    },
    "tags": []
   },
   "outputs": [],
   "source": [
    "df_pivot.columns = [\"stamp_1\", \"stamp_2\"]\n",
    "df_pivot_diff = df_pivot.diff(axis=1)"
   ]
  },
  {
   "cell_type": "code",
   "execution_count": 7,
   "id": "fifth-motion",
   "metadata": {
    "execution": {
     "iopub.execute_input": "2021-08-23T13:00:09.375016Z",
     "iopub.status.busy": "2021-08-23T13:00:09.372662Z",
     "iopub.status.idle": "2021-08-23T13:00:10.868815Z",
     "shell.execute_reply": "2021-08-23T13:00:10.867210Z"
    },
    "papermill": {
     "duration": 1.52909,
     "end_time": "2021-08-23T13:00:10.869187",
     "exception": false,
     "start_time": "2021-08-23T13:00:09.340097",
     "status": "completed"
    },
    "tags": []
   },
   "outputs": [
    {
     "data": {
      "text/plain": [
       "<AxesSubplot:ylabel='PRODUCT'>"
      ]
     },
     "execution_count": 7,
     "metadata": {},
     "output_type": "execute_result"
    },
    {
     "data": {
      "image/png": "[encoded data removed]",
      "text/plain": [
       "<Figure size 432x288 with 1 Axes>"
      ]
     },
     "metadata": {
      "needs_background": "light"
     },
     "output_type": "display_data"
    }
   ],
   "source": [
    "df_pivot_diff.sort_values(\"stamp_2\", ascending = False)[\"stamp_2\"].head(10).plot.barh()"
   ]
  },
  {
   "cell_type": "code",
   "execution_count": null,
   "id": "extra-executive",
   "metadata": {
    "papermill": {
     "duration": 0.022161,
     "end_time": "2021-08-23T13:00:10.915650",
     "exception": false,
     "start_time": "2021-08-23T13:00:10.893489",
     "status": "completed"
    },
    "tags": []
   },
   "outputs": [],
   "source": []
  }
 ],
 "metadata": {
  "kernelspec": {
   "display_name": "Python 3",
   "language": "python",
   "name": "python3"
  },
  "language_info": {
   "codemirror_mode": {
    "name": "ipython",
    "version": 3
   },
   "file_extension": ".py",
   "mimetype": "text/x-python",
   "name": "python",
   "nbconvert_exporter": "python",
   "pygments_lexer": "ipython3",
   "version": "3.9.5"
  },
  "papermill": {
   "default_parameters": {},
   "duration": 6.828875,
   "end_time": "2021-08-23T13:00:12.263792",
   "environment_variables": {},
   "exception": null,
   "input_path": "eBay_Overview.ipynb",
   "output_path": "eBay_Overview.ipynb",
   "parameters": {},
   "start_time": "2021-08-23T13:00:05.434917",
   "version": "2.3.3"
  }
 },
 "nbformat": 4,
 "nbformat_minor": 5
}