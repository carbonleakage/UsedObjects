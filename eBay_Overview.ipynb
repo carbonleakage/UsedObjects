{
 "cells": [
  {
   "cell_type": "code",
   "execution_count": 1,
   "id": "reverse-picking",
   "metadata": {
    "execution": {
     "iopub.execute_input": "2021-10-11T18:00:07.230958Z",
     "iopub.status.busy": "2021-10-11T18:00:07.228941Z",
     "iopub.status.idle": "2021-10-11T18:00:08.033027Z",
     "shell.execute_reply": "2021-10-11T18:00:08.034290Z"
    },
    "papermill": {
     "duration": 0.854972,
     "end_time": "2021-10-11T18:00:08.034901",
     "exception": false,
     "start_time": "2021-10-11T18:00:07.179929",
     "status": "completed"
    },
    "tags": []
   },
   "outputs": [],
   "source": [
    "import pandas as pd\n",
    "import sqlite3"
   ]
  },
  {
   "cell_type": "code",
   "execution_count": 2,
   "id": "innovative-syndrome",
   "metadata": {
    "execution": {
     "iopub.execute_input": "2021-10-11T18:00:08.086449Z",
     "iopub.status.busy": "2021-10-11T18:00:08.084195Z",
     "iopub.status.idle": "2021-10-11T18:00:08.585853Z",
     "shell.execute_reply": "2021-10-11T18:00:08.586961Z"
    },
    "papermill": {
     "duration": 0.531027,
     "end_time": "2021-10-11T18:00:08.587368",
     "exception": false,
     "start_time": "2021-10-11T18:00:08.056341",
     "status": "completed"
    },
    "tags": []
   },
   "outputs": [],
   "source": [
    "timestamps = pd.read_sql(\"select distinct record_time from EBAY_TOP_BERLIN order by record_time desc limit 2\", sqlite3.connect(\"UsedObjects.db\"))"
   ]
  },
  {
   "cell_type": "code",
   "execution_count": 3,
   "id": "periodic-identification",
   "metadata": {
    "execution": {
     "iopub.execute_input": "2021-10-11T18:00:08.657618Z",
     "iopub.status.busy": "2021-10-11T18:00:08.655534Z",
     "iopub.status.idle": "2021-10-11T18:00:08.676057Z",
     "shell.execute_reply": "2021-10-11T18:00:08.677410Z"
    },
    "papermill": {
     "duration": 0.067244,
     "end_time": "2021-10-11T18:00:08.677837",
     "exception": false,
     "start_time": "2021-10-11T18:00:08.610593",
     "status": "completed"
    },
    "tags": []
   },
   "outputs": [
    {
     "data": {
      "text/html": [
       "<div>\n",
       "<style scoped>\n",
       "    .dataframe tbody tr th:only-of-type {\n",
       "        vertical-align: middle;\n",
       "    }\n",
       "\n",
       "    .dataframe tbody tr th {\n",
       "        vertical-align: top;\n",
       "    }\n",
       "\n",
       "    .dataframe thead th {\n",
       "        text-align: right;\n",
       "    }\n",
       "</style>\n",
       "<table border=\"1\" class=\"dataframe\">\n",
       "  <thead>\n",
       "    <tr style=\"text-align: right;\">\n",
       "      <th></th>\n",
       "      <th>RECORD_TIME</th>\n",
       "    </tr>\n",
       "  </thead>\n",
       "  <tbody>\n",
       "    <tr>\n",
       "      <th>0</th>\n",
       "      <td>2021-10-11 20:00</td>\n",
       "    </tr>\n",
       "    <tr>\n",
       "      <th>1</th>\n",
       "      <td>2021-10-11 19:30</td>\n",
       "    </tr>\n",
       "  </tbody>\n",
       "</table>\n",
       "</div>"
      ],
      "text/plain": [
       "        RECORD_TIME\n",
       "0  2021-10-11 20:00\n",
       "1  2021-10-11 19:30"
      ]
     },
     "execution_count": 3,
     "metadata": {},
     "output_type": "execute_result"
    }
   ],
   "source": [
    "timestamps"
   ]
  },
  {
   "cell_type": "code",
   "execution_count": 4,
   "id": "alternate-victory",
   "metadata": {
    "execution": {
     "iopub.execute_input": "2021-10-11T18:00:08.738240Z",
     "iopub.status.busy": "2021-10-11T18:00:08.736333Z",
     "iopub.status.idle": "2021-10-11T18:00:09.478142Z",
     "shell.execute_reply": "2021-10-11T18:00:09.479655Z"
    },
    "papermill": {
     "duration": 0.775734,
     "end_time": "2021-10-11T18:00:09.480169",
     "exception": false,
     "start_time": "2021-10-11T18:00:08.704435",
     "status": "completed"
    },
    "tags": []
   },
   "outputs": [],
   "source": [
    "df = pd.read_sql(\"select * from EBAY_TOP_BERLIN where record_time in (select distinct record_time from EBAY_TOP_BERLIN order by record_time desc limit 2)\", sqlite3.connect(\"UsedObjects.db\"))"
   ]
  },
  {
   "cell_type": "code",
   "execution_count": 5,
   "id": "popular-active",
   "metadata": {
    "execution": {
     "iopub.execute_input": "2021-10-11T18:00:09.553992Z",
     "iopub.status.busy": "2021-10-11T18:00:09.542154Z",
     "iopub.status.idle": "2021-10-11T18:00:09.570809Z",
     "shell.execute_reply": "2021-10-11T18:00:09.572255Z"
    },
    "papermill": {
     "duration": 0.069204,
     "end_time": "2021-10-11T18:00:09.572902",
     "exception": false,
     "start_time": "2021-10-11T18:00:09.503698",
     "status": "completed"
    },
    "tags": []
   },
   "outputs": [],
   "source": [
    "df_pivot = df.pivot_table(index=\"PRODUCT\", columns = \"RECORD_TIME\", values = \"LISTING_COUNT\")"
   ]
  },
  {
   "cell_type": "code",
   "execution_count": 6,
   "id": "union-huntington",
   "metadata": {
    "execution": {
     "iopub.execute_input": "2021-10-11T18:00:09.632109Z",
     "iopub.status.busy": "2021-10-11T18:00:09.630093Z",
     "iopub.status.idle": "2021-10-11T18:00:09.635589Z",
     "shell.execute_reply": "2021-10-11T18:00:09.636828Z"
    },
    "papermill": {
     "duration": 0.042005,
     "end_time": "2021-10-11T18:00:09.637262",
     "exception": false,
     "start_time": "2021-10-11T18:00:09.595257",
     "status": "completed"
    },
    "tags": []
   },
   "outputs": [],
   "source": [
    "df_pivot.columns = [\"stamp_1\", \"stamp_2\"]\n",
    "df_pivot_diff = df_pivot.diff(axis=1)"
   ]
  },
  {
   "cell_type": "code",
   "execution_count": 7,
   "id": "fifth-motion",
   "metadata": {
    "execution": {
     "iopub.execute_input": "2021-10-11T18:00:09.691286Z",
     "iopub.status.busy": "2021-10-11T18:00:09.688919Z",
     "iopub.status.idle": "2021-10-11T18:00:11.163404Z",
     "shell.execute_reply": "2021-10-11T18:00:11.164671Z"
    },
    "papermill": {
     "duration": 1.507391,
     "end_time": "2021-10-11T18:00:11.165187",
     "exception": false,
     "start_time": "2021-10-11T18:00:09.657796",
     "status": "completed"
    },
    "tags": []
   },
   "outputs": [
    {
     "data": {
      "text/plain": [
       "<AxesSubplot:ylabel='PRODUCT'>"
      ]
     },
     "execution_count": 7,
     "metadata": {},
     "output_type": "execute_result"
    },
    {
     "data": {
      "image/png": "[encoded data removed]",
      "text/plain": [
       "<Figure size 432x288 with 1 Axes>"
      ]
     },
     "metadata": {
      "needs_background": "light"
     },
     "output_type": "display_data"
    }
   ],
   "source": [
    "df_pivot_diff.sort_values(\"stamp_2\", ascending = False)[\"stamp_2\"].head(10).plot.barh()"
   ]
  },
  {
   "cell_type": "code",
   "execution_count": null,
   "id": "extra-executive",
   "metadata": {
    "papermill": {
     "duration": 0.022369,
     "end_time": "2021-10-11T18:00:11.212424",
     "exception": false,
     "start_time": "2021-10-11T18:00:11.190055",
     "status": "completed"
    },
    "tags": []
   },
   "outputs": [],
   "source": []
  }
 ],
 "metadata": {
  "kernelspec": {
   "display_name": "Python 3",
   "language": "python",
   "name": "python3"
  },
  "language_info": {
   "codemirror_mode": {
    "name": "ipython",
    "version": 3
   },
   "file_extension": ".py",
   "mimetype": "text/x-python",
   "name": "python",
   "nbconvert_exporter": "python",
   "pygments_lexer": "ipython3",
   "version": "3.9.5"
  },
  "papermill": {
   "default_parameters": {},
   "duration": 7.837878,
   "end_time": "2021-10-11T18:00:12.615637",
   "environment_variables": {},
   "exception": null,
   "input_path": "eBay_Overview.ipynb",
   "output_path": "eBay_Overview.ipynb",
   "parameters": {},
   "start_time": "2021-10-11T18:00:04.777759",
   "version": "2.3.3"
  }
 },
 "nbformat": 4,
 "nbformat_minor": 5
}