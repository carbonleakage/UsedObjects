{
 "cells": [
  {
   "cell_type": "code",
   "execution_count": 1,
   "id": "reverse-picking",
   "metadata": {
    "execution": {
     "iopub.execute_input": "2021-09-29T10:30:07.245075Z",
     "iopub.status.busy": "2021-09-29T10:30:07.243142Z",
     "iopub.status.idle": "2021-09-29T10:30:08.050269Z",
     "shell.execute_reply": "2021-09-29T10:30:08.051645Z"
    },
    "papermill": {
     "duration": 0.8595,
     "end_time": "2021-09-29T10:30:08.052279",
     "exception": false,
     "start_time": "2021-09-29T10:30:07.192779",
     "status": "completed"
    },
    "tags": []
   },
   "outputs": [],
   "source": [
    "import pandas as pd\n",
    "import sqlite3"
   ]
  },
  {
   "cell_type": "code",
   "execution_count": 2,
   "id": "innovative-syndrome",
   "metadata": {
    "execution": {
     "iopub.execute_input": "2021-09-29T10:30:08.102542Z",
     "iopub.status.busy": "2021-09-29T10:30:08.100685Z",
     "iopub.status.idle": "2021-09-29T10:30:08.509079Z",
     "shell.execute_reply": "2021-09-29T10:30:08.510219Z"
    },
    "papermill": {
     "duration": 0.437697,
     "end_time": "2021-09-29T10:30:08.510630",
     "exception": false,
     "start_time": "2021-09-29T10:30:08.072933",
     "status": "completed"
    },
    "tags": []
   },
   "outputs": [],
   "source": [
    "timestamps = pd.read_sql(\"select distinct record_time from EBAY_TOP_BERLIN order by record_time desc limit 2\", sqlite3.connect(\"UsedObjects.db\"))"
   ]
  },
  {
   "cell_type": "code",
   "execution_count": 3,
   "id": "periodic-identification",
   "metadata": {
    "execution": {
     "iopub.execute_input": "2021-09-29T10:30:08.578621Z",
     "iopub.status.busy": "2021-09-29T10:30:08.576612Z",
     "iopub.status.idle": "2021-09-29T10:30:08.596699Z",
     "shell.execute_reply": "2021-09-29T10:30:08.598289Z"
    },
    "papermill": {
     "duration": 0.066521,
     "end_time": "2021-09-29T10:30:08.598849",
     "exception": false,
     "start_time": "2021-09-29T10:30:08.532328",
     "status": "completed"
    },
    "tags": []
   },
   "outputs": [
    {
     "data": {
      "text/html": [
       "<div>\n",
       "<style scoped>\n",
       "    .dataframe tbody tr th:only-of-type {\n",
       "        vertical-align: middle;\n",
       "    }\n",
       "\n",
       "    .dataframe tbody tr th {\n",
       "        vertical-align: top;\n",
       "    }\n",
       "\n",
       "    .dataframe thead th {\n",
       "        text-align: right;\n",
       "    }\n",
       "</style>\n",
       "<table border=\"1\" class=\"dataframe\">\n",
       "  <thead>\n",
       "    <tr style=\"text-align: right;\">\n",
       "      <th></th>\n",
       "      <th>RECORD_TIME</th>\n",
       "    </tr>\n",
       "  </thead>\n",
       "  <tbody>\n",
       "    <tr>\n",
       "      <th>0</th>\n",
       "      <td>2021-09-29 12:30</td>\n",
       "    </tr>\n",
       "    <tr>\n",
       "      <th>1</th>\n",
       "      <td>2021-09-29 12:00</td>\n",
       "    </tr>\n",
       "  </tbody>\n",
       "</table>\n",
       "</div>"
      ],
      "text/plain": [
       "        RECORD_TIME\n",
       "0  2021-09-29 12:30\n",
       "1  2021-09-29 12:00"
      ]
     },
     "execution_count": 3,
     "metadata": {},
     "output_type": "execute_result"
    }
   ],
   "source": [
    "timestamps"
   ]
  },
  {
   "cell_type": "code",
   "execution_count": 4,
   "id": "alternate-victory",
   "metadata": {
    "execution": {
     "iopub.execute_input": "2021-09-29T10:30:08.651464Z",
     "iopub.status.busy": "2021-09-29T10:30:08.649498Z",
     "iopub.status.idle": "2021-09-29T10:30:09.260235Z",
     "shell.execute_reply": "2021-09-29T10:30:09.261502Z"
    },
    "papermill": {
     "duration": 0.640658,
     "end_time": "2021-09-29T10:30:09.261898",
     "exception": false,
     "start_time": "2021-09-29T10:30:08.621240",
     "status": "completed"
    },
    "tags": []
   },
   "outputs": [],
   "source": [
    "df = pd.read_sql(\"select * from EBAY_TOP_BERLIN where record_time in (select distinct record_time from EBAY_TOP_BERLIN order by record_time desc limit 2)\", sqlite3.connect(\"UsedObjects.db\"))"
   ]
  },
  {
   "cell_type": "code",
   "execution_count": 5,
   "id": "popular-active",
   "metadata": {
    "execution": {
     "iopub.execute_input": "2021-09-29T10:30:09.341195Z",
     "iopub.status.busy": "2021-09-29T10:30:09.329617Z",
     "iopub.status.idle": "2021-09-29T10:30:09.357418Z",
     "shell.execute_reply": "2021-09-29T10:30:09.358726Z"
    },
    "papermill": {
     "duration": 0.071565,
     "end_time": "2021-09-29T10:30:09.359203",
     "exception": false,
     "start_time": "2021-09-29T10:30:09.287638",
     "status": "completed"
    },
    "tags": []
   },
   "outputs": [],
   "source": [
    "df_pivot = df.pivot_table(index=\"PRODUCT\", columns = \"RECORD_TIME\", values = \"LISTING_COUNT\")"
   ]
  },
  {
   "cell_type": "code",
   "execution_count": 6,
   "id": "union-huntington",
   "metadata": {
    "execution": {
     "iopub.execute_input": "2021-09-29T10:30:09.415566Z",
     "iopub.status.busy": "2021-09-29T10:30:09.413421Z",
     "iopub.status.idle": "2021-09-29T10:30:09.418630Z",
     "shell.execute_reply": "2021-09-29T10:30:09.420151Z"
    },
    "papermill": {
     "duration": 0.0414,
     "end_time": "2021-09-29T10:30:09.420597",
     "exception": false,
     "start_time": "2021-09-29T10:30:09.379197",
     "status": "completed"
    },
    "tags": []
   },
   "outputs": [],
   "source": [
    "df_pivot.columns = [\"stamp_1\", \"stamp_2\"]\n",
    "df_pivot_diff = df_pivot.diff(axis=1)"
   ]
  },
  {
   "cell_type": "code",
   "execution_count": 7,
   "id": "fifth-motion",
   "metadata": {
    "execution": {
     "iopub.execute_input": "2021-09-29T10:30:09.475726Z",
     "iopub.status.busy": "2021-09-29T10:30:09.473136Z",
     "iopub.status.idle": "2021-09-29T10:30:10.964874Z",
     "shell.execute_reply": "2021-09-29T10:30:10.966177Z"
    },
    "papermill": {
     "duration": 1.524699,
     "end_time": "2021-09-29T10:30:10.966604",
     "exception": false,
     "start_time": "2021-09-29T10:30:09.441905",
     "status": "completed"
    },
    "tags": []
   },
   "outputs": [
    {
     "data": {
      "text/plain": [
       "<AxesSubplot:ylabel='PRODUCT'>"
      ]
     },
     "execution_count": 7,
     "metadata": {},
     "output_type": "execute_result"
    },
    {
     "data": {
      "image/png": "[encoded data removed]",
      "text/plain": [
       "<Figure size 432x288 with 1 Axes>"
      ]
     },
     "metadata": {
      "needs_background": "light"
     },
     "output_type": "display_data"
    }
   ],
   "source": [
    "df_pivot_diff.sort_values(\"stamp_2\", ascending = False)[\"stamp_2\"].head(10).plot.barh()"
   ]
  },
  {
   "cell_type": "code",
   "execution_count": null,
   "id": "extra-executive",
   "metadata": {
    "papermill": {
     "duration": 0.022157,
     "end_time": "2021-09-29T10:30:11.014407",
     "exception": false,
     "start_time": "2021-09-29T10:30:10.992250",
     "status": "completed"
    },
    "tags": []
   },
   "outputs": [],
   "source": []
  }
 ],
 "metadata": {
  "kernelspec": {
   "display_name": "Python 3",
   "language": "python",
   "name": "python3"
  },
  "language_info": {
   "codemirror_mode": {
    "name": "ipython",
    "version": 3
   },
   "file_extension": ".py",
   "mimetype": "text/x-python",
   "name": "python",
   "nbconvert_exporter": "python",
   "pygments_lexer": "ipython3",
   "version": "3.9.5"
  },
  "papermill": {
   "default_parameters": {},
   "duration": 7.834713,
   "end_time": "2021-09-29T10:30:12.617449",
   "environment_variables": {},
   "exception": null,
   "input_path": "eBay_Overview.ipynb",
   "output_path": "eBay_Overview.ipynb",
   "parameters": {},
   "start_time": "2021-09-29T10:30:04.782736",
   "version": "2.3.3"
  }
 },
 "nbformat": 4,
 "nbformat_minor": 5
}