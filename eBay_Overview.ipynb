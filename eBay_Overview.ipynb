{
 "cells": [
  {
   "cell_type": "code",
   "execution_count": 1,
   "id": "reverse-picking",
   "metadata": {
    "execution": {
     "iopub.execute_input": "2021-08-22T00:30:06.560564Z",
     "iopub.status.busy": "2021-08-22T00:30:06.558681Z",
     "iopub.status.idle": "2021-08-22T00:30:07.366614Z",
     "shell.execute_reply": "2021-08-22T00:30:07.365015Z"
    },
    "papermill": {
     "duration": 0.858637,
     "end_time": "2021-08-22T00:30:07.367032",
     "exception": false,
     "start_time": "2021-08-22T00:30:06.508395",
     "status": "completed"
    },
    "tags": []
   },
   "outputs": [],
   "source": [
    "import pandas as pd\n",
    "import sqlite3"
   ]
  },
  {
   "cell_type": "code",
   "execution_count": 2,
   "id": "innovative-syndrome",
   "metadata": {
    "execution": {
     "iopub.execute_input": "2021-08-22T00:30:07.419154Z",
     "iopub.status.busy": "2021-08-22T00:30:07.417235Z",
     "iopub.status.idle": "2021-08-22T00:30:07.518515Z",
     "shell.execute_reply": "2021-08-22T00:30:07.519795Z"
    },
    "papermill": {
     "duration": 0.130672,
     "end_time": "2021-08-22T00:30:07.520197",
     "exception": false,
     "start_time": "2021-08-22T00:30:07.389525",
     "status": "completed"
    },
    "tags": []
   },
   "outputs": [],
   "source": [
    "timestamps = pd.read_sql(\"select distinct record_time from EBAY_TOP_BERLIN order by record_time desc limit 2\", sqlite3.connect(\"UsedObjects.db\"))"
   ]
  },
  {
   "cell_type": "code",
   "execution_count": 3,
   "id": "periodic-identification",
   "metadata": {
    "execution": {
     "iopub.execute_input": "2021-08-22T00:30:07.584897Z",
     "iopub.status.busy": "2021-08-22T00:30:07.582794Z",
     "iopub.status.idle": "2021-08-22T00:30:07.603526Z",
     "shell.execute_reply": "2021-08-22T00:30:07.604639Z"
    },
    "papermill": {
     "duration": 0.065595,
     "end_time": "2021-08-22T00:30:07.605047",
     "exception": false,
     "start_time": "2021-08-22T00:30:07.539452",
     "status": "completed"
    },
    "tags": []
   },
   "outputs": [
    {
     "data": {
      "text/html": [
       "<div>\n",
       "<style scoped>\n",
       "    .dataframe tbody tr th:only-of-type {\n",
       "        vertical-align: middle;\n",
       "    }\n",
       "\n",
       "    .dataframe tbody tr th {\n",
       "        vertical-align: top;\n",
       "    }\n",
       "\n",
       "    .dataframe thead th {\n",
       "        text-align: right;\n",
       "    }\n",
       "</style>\n",
       "<table border=\"1\" class=\"dataframe\">\n",
       "  <thead>\n",
       "    <tr style=\"text-align: right;\">\n",
       "      <th></th>\n",
       "      <th>RECORD_TIME</th>\n",
       "    </tr>\n",
       "  </thead>\n",
       "  <tbody>\n",
       "    <tr>\n",
       "      <th>0</th>\n",
       "      <td>2021-08-22 02:30</td>\n",
       "    </tr>\n",
       "    <tr>\n",
       "      <th>1</th>\n",
       "      <td>2021-08-22 02:00</td>\n",
       "    </tr>\n",
       "  </tbody>\n",
       "</table>\n",
       "</div>"
      ],
      "text/plain": [
       "        RECORD_TIME\n",
       "0  2021-08-22 02:30\n",
       "1  2021-08-22 02:00"
      ]
     },
     "execution_count": 3,
     "metadata": {},
     "output_type": "execute_result"
    }
   ],
   "source": [
    "timestamps"
   ]
  },
  {
   "cell_type": "code",
   "execution_count": 4,
   "id": "alternate-victory",
   "metadata": {
    "execution": {
     "iopub.execute_input": "2021-08-22T00:30:07.657667Z",
     "iopub.status.busy": "2021-08-22T00:30:07.655430Z",
     "iopub.status.idle": "2021-08-22T00:30:07.808306Z",
     "shell.execute_reply": "2021-08-22T00:30:07.809502Z"
    },
    "papermill": {
     "duration": 0.183102,
     "end_time": "2021-08-22T00:30:07.809901",
     "exception": false,
     "start_time": "2021-08-22T00:30:07.626799",
     "status": "completed"
    },
    "tags": []
   },
   "outputs": [],
   "source": [
    "df = pd.read_sql(\"select * from EBAY_TOP_BERLIN where record_time in (select distinct record_time from EBAY_TOP_BERLIN order by record_time desc limit 2)\", sqlite3.connect(\"UsedObjects.db\"))"
   ]
  },
  {
   "cell_type": "code",
   "execution_count": 5,
   "id": "popular-active",
   "metadata": {
    "execution": {
     "iopub.execute_input": "2021-08-22T00:30:07.883555Z",
     "iopub.status.busy": "2021-08-22T00:30:07.871354Z",
     "iopub.status.idle": "2021-08-22T00:30:07.898816Z",
     "shell.execute_reply": "2021-08-22T00:30:07.900009Z"
    },
    "papermill": {
     "duration": 0.06778,
     "end_time": "2021-08-22T00:30:07.900407",
     "exception": false,
     "start_time": "2021-08-22T00:30:07.832627",
     "status": "completed"
    },
    "tags": []
   },
   "outputs": [],
   "source": [
    "df_pivot = df.pivot_table(index=\"PRODUCT\", columns = \"RECORD_TIME\", values = \"LISTING_COUNT\")"
   ]
  },
  {
   "cell_type": "code",
   "execution_count": 6,
   "id": "union-huntington",
   "metadata": {
    "execution": {
     "iopub.execute_input": "2021-08-22T00:30:07.961197Z",
     "iopub.status.busy": "2021-08-22T00:30:07.958804Z",
     "iopub.status.idle": "2021-08-22T00:30:07.964662Z",
     "shell.execute_reply": "2021-08-22T00:30:07.965911Z"
    },
    "papermill": {
     "duration": 0.042174,
     "end_time": "2021-08-22T00:30:07.966426",
     "exception": false,
     "start_time": "2021-08-22T00:30:07.924252",
     "status": "completed"
    },
    "tags": []
   },
   "outputs": [],
   "source": [
    "df_pivot.columns = [\"stamp_1\", \"stamp_2\"]\n",
    "df_pivot_diff = df_pivot.diff(axis=1)"
   ]
  },
  {
   "cell_type": "code",
   "execution_count": 7,
   "id": "fifth-motion",
   "metadata": {
    "execution": {
     "iopub.execute_input": "2021-08-22T00:30:08.026863Z",
     "iopub.status.busy": "2021-08-22T00:30:08.024274Z",
     "iopub.status.idle": "2021-08-22T00:30:09.525891Z",
     "shell.execute_reply": "2021-08-22T00:30:09.527314Z"
    },
    "papermill": {
     "duration": 1.536671,
     "end_time": "2021-08-22T00:30:09.527757",
     "exception": false,
     "start_time": "2021-08-22T00:30:07.991086",
     "status": "completed"
    },
    "tags": []
   },
   "outputs": [
    {
     "data": {
      "text/plain": [
       "<AxesSubplot:ylabel='PRODUCT'>"
      ]
     },
     "execution_count": 7,
     "metadata": {},
     "output_type": "execute_result"
    },
    {
     "data": {
      "image/png": "[encoded data removed]",
      "text/plain": [
       "<Figure size 432x288 with 1 Axes>"
      ]
     },
     "metadata": {
      "needs_background": "light"
     },
     "output_type": "display_data"
    }
   ],
   "source": [
    "df_pivot_diff.sort_values(\"stamp_2\", ascending = False)[\"stamp_2\"].head(10).plot.barh()"
   ]
  },
  {
   "cell_type": "code",
   "execution_count": null,
   "id": "extra-executive",
   "metadata": {
    "papermill": {
     "duration": 0.022143,
     "end_time": "2021-08-22T00:30:09.574326",
     "exception": false,
     "start_time": "2021-08-22T00:30:09.552183",
     "status": "completed"
    },
    "tags": []
   },
   "outputs": [],
   "source": []
  }
 ],
 "metadata": {
  "kernelspec": {
   "display_name": "Python 3",
   "language": "python",
   "name": "python3"
  },
  "language_info": {
   "codemirror_mode": {
    "name": "ipython",
    "version": 3
   },
   "file_extension": ".py",
   "mimetype": "text/x-python",
   "name": "python",
   "nbconvert_exporter": "python",
   "pygments_lexer": "ipython3",
   "version": "3.9.5"
  },
  "papermill": {
   "default_parameters": {},
   "duration": 6.834177,
   "end_time": "2021-08-22T00:30:10.925168",
   "environment_variables": {},
   "exception": null,
   "input_path": "eBay_Overview.ipynb",
   "output_path": "eBay_Overview.ipynb",
   "parameters": {},
   "start_time": "2021-08-22T00:30:04.090991",
   "version": "2.3.3"
  }
 },
 "nbformat": 4,
 "nbformat_minor": 5
}