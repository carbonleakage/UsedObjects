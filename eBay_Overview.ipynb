{
 "cells": [
  {
   "cell_type": "code",
   "execution_count": 1,
   "id": "reverse-picking",
   "metadata": {
    "execution": {
     "iopub.execute_input": "2021-12-08T23:30:07.869315Z",
     "iopub.status.busy": "2021-12-08T23:30:07.855403Z",
     "iopub.status.idle": "2021-12-08T23:30:08.818240Z",
     "shell.execute_reply": "2021-12-08T23:30:08.819873Z"
    },
    "papermill": {
     "duration": 1.012898,
     "end_time": "2021-12-08T23:30:08.820602",
     "exception": false,
     "start_time": "2021-12-08T23:30:07.807704",
     "status": "completed"
    },
    "tags": []
   },
   "outputs": [],
   "source": [
    "import pandas as pd\n",
    "import sqlite3"
   ]
  },
  {
   "cell_type": "code",
   "execution_count": 2,
   "id": "innovative-syndrome",
   "metadata": {
    "execution": {
     "iopub.execute_input": "2021-12-08T23:30:08.950352Z",
     "iopub.status.busy": "2021-12-08T23:30:08.948233Z",
     "iopub.status.idle": "2021-12-08T23:30:09.994357Z",
     "shell.execute_reply": "2021-12-08T23:30:09.996096Z"
    },
    "papermill": {
     "duration": 1.08525,
     "end_time": "2021-12-08T23:30:09.996600",
     "exception": false,
     "start_time": "2021-12-08T23:30:08.911350",
     "status": "completed"
    },
    "tags": []
   },
   "outputs": [],
   "source": [
    "timestamps = pd.read_sql(\"select distinct record_time from EBAY_TOP_BERLIN order by record_time desc limit 2\", sqlite3.connect(\"UsedObjects.db\"))"
   ]
  },
  {
   "cell_type": "code",
   "execution_count": 3,
   "id": "periodic-identification",
   "metadata": {
    "execution": {
     "iopub.execute_input": "2021-12-08T23:30:10.070622Z",
     "iopub.status.busy": "2021-12-08T23:30:10.064898Z",
     "iopub.status.idle": "2021-12-08T23:30:10.086342Z",
     "shell.execute_reply": "2021-12-08T23:30:10.087926Z"
    },
    "papermill": {
     "duration": 0.070611,
     "end_time": "2021-12-08T23:30:10.088390",
     "exception": false,
     "start_time": "2021-12-08T23:30:10.017779",
     "status": "completed"
    },
    "tags": []
   },
   "outputs": [
    {
     "data": {
      "text/html": [
       "<div>\n",
       "<style scoped>\n",
       "    .dataframe tbody tr th:only-of-type {\n",
       "        vertical-align: middle;\n",
       "    }\n",
       "\n",
       "    .dataframe tbody tr th {\n",
       "        vertical-align: top;\n",
       "    }\n",
       "\n",
       "    .dataframe thead th {\n",
       "        text-align: right;\n",
       "    }\n",
       "</style>\n",
       "<table border=\"1\" class=\"dataframe\">\n",
       "  <thead>\n",
       "    <tr style=\"text-align: right;\">\n",
       "      <th></th>\n",
       "      <th>RECORD_TIME</th>\n",
       "    </tr>\n",
       "  </thead>\n",
       "  <tbody>\n",
       "    <tr>\n",
       "      <th>0</th>\n",
       "      <td>2021-12-09 00:30</td>\n",
       "    </tr>\n",
       "    <tr>\n",
       "      <th>1</th>\n",
       "      <td>2021-12-09 00:00</td>\n",
       "    </tr>\n",
       "  </tbody>\n",
       "</table>\n",
       "</div>"
      ],
      "text/plain": [
       "        RECORD_TIME\n",
       "0  2021-12-09 00:30\n",
       "1  2021-12-09 00:00"
      ]
     },
     "execution_count": 3,
     "metadata": {},
     "output_type": "execute_result"
    }
   ],
   "source": [
    "timestamps"
   ]
  },
  {
   "cell_type": "code",
   "execution_count": 4,
   "id": "alternate-victory",
   "metadata": {
    "execution": {
     "iopub.execute_input": "2021-12-08T23:30:10.142307Z",
     "iopub.status.busy": "2021-12-08T23:30:10.140152Z",
     "iopub.status.idle": "2021-12-08T23:30:11.700267Z",
     "shell.execute_reply": "2021-12-08T23:30:11.702390Z"
    },
    "papermill": {
     "duration": 1.594089,
     "end_time": "2021-12-08T23:30:11.702985",
     "exception": false,
     "start_time": "2021-12-08T23:30:10.108896",
     "status": "completed"
    },
    "tags": []
   },
   "outputs": [],
   "source": [
    "df = pd.read_sql(\"select * from EBAY_TOP_BERLIN where record_time in (select distinct record_time from EBAY_TOP_BERLIN order by record_time desc limit 2)\", sqlite3.connect(\"UsedObjects.db\"))"
   ]
  },
  {
   "cell_type": "code",
   "execution_count": 5,
   "id": "popular-active",
   "metadata": {
    "execution": {
     "iopub.execute_input": "2021-12-08T23:30:11.822131Z",
     "iopub.status.busy": "2021-12-08T23:30:11.795251Z",
     "iopub.status.idle": "2021-12-08T23:30:11.855875Z",
     "shell.execute_reply": "2021-12-08T23:30:11.857933Z"
    },
    "papermill": {
     "duration": 0.130036,
     "end_time": "2021-12-08T23:30:11.858557",
     "exception": false,
     "start_time": "2021-12-08T23:30:11.728521",
     "status": "completed"
    },
    "tags": []
   },
   "outputs": [],
   "source": [
    "df_pivot = df.pivot_table(index=\"PRODUCT\", columns = \"RECORD_TIME\", values = \"LISTING_COUNT\")"
   ]
  },
  {
   "cell_type": "code",
   "execution_count": 6,
   "id": "union-huntington",
   "metadata": {
    "execution": {
     "iopub.execute_input": "2021-12-08T23:30:12.038059Z",
     "iopub.status.busy": "2021-12-08T23:30:12.035996Z",
     "iopub.status.idle": "2021-12-08T23:30:12.041283Z",
     "shell.execute_reply": "2021-12-08T23:30:12.042546Z"
    },
    "papermill": {
     "duration": 0.150383,
     "end_time": "2021-12-08T23:30:12.042956",
     "exception": false,
     "start_time": "2021-12-08T23:30:11.892573",
     "status": "completed"
    },
    "tags": []
   },
   "outputs": [],
   "source": [
    "df_pivot.columns = [\"stamp_1\", \"stamp_2\"]\n",
    "df_pivot_diff = df_pivot.diff(axis=1)"
   ]
  },
  {
   "cell_type": "code",
   "execution_count": 7,
   "id": "fifth-motion",
   "metadata": {
    "execution": {
     "iopub.execute_input": "2021-12-08T23:30:12.161136Z",
     "iopub.status.busy": "2021-12-08T23:30:12.158636Z",
     "iopub.status.idle": "2021-12-08T23:30:13.812127Z",
     "shell.execute_reply": "2021-12-08T23:30:13.813686Z"
    },
    "papermill": {
     "duration": 1.691746,
     "end_time": "2021-12-08T23:30:13.814163",
     "exception": false,
     "start_time": "2021-12-08T23:30:12.122417",
     "status": "completed"
    },
    "tags": []
   },
   "outputs": [
    {
     "data": {
      "text/plain": [
       "<AxesSubplot:ylabel='PRODUCT'>"
      ]
     },
     "execution_count": 7,
     "metadata": {},
     "output_type": "execute_result"
    },
    {
     "data": {
      "image/png": "[encoded data removed]",
      "text/plain": [
       "<Figure size 432x288 with 1 Axes>"
      ]
     },
     "metadata": {
      "needs_background": "light"
     },
     "output_type": "display_data"
    }
   ],
   "source": [
    "df_pivot_diff.sort_values(\"stamp_2\", ascending = False)[\"stamp_2\"].head(10).plot.barh()"
   ]
  },
  {
   "cell_type": "code",
   "execution_count": null,
   "id": "extra-executive",
   "metadata": {
    "papermill": {
     "duration": 0.042239,
     "end_time": "2021-12-08T23:30:13.880799",
     "exception": false,
     "start_time": "2021-12-08T23:30:13.838560",
     "status": "completed"
    },
    "tags": []
   },
   "outputs": [],
   "source": []
  }
 ],
 "metadata": {
  "kernelspec": {
   "display_name": "Python 3",
   "language": "python",
   "name": "python3"
  },
  "language_info": {
   "codemirror_mode": {
    "name": "ipython",
    "version": 3
   },
   "file_extension": ".py",
   "mimetype": "text/x-python",
   "name": "python",
   "nbconvert_exporter": "python",
   "pygments_lexer": "ipython3",
   "version": "3.9.5"
  },
  "papermill": {
   "default_parameters": {},
   "duration": 9.472397,
   "end_time": "2021-12-08T23:30:14.533489",
   "environment_variables": {},
   "exception": null,
   "input_path": "eBay_Overview.ipynb",
   "output_path": "eBay_Overview.ipynb",
   "parameters": {},
   "start_time": "2021-12-08T23:30:05.061092",
   "version": "2.3.3"
  }
 },
 "nbformat": 4,
 "nbformat_minor": 5
}