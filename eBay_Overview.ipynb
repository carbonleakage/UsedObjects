{
 "cells": [
  {
   "cell_type": "code",
   "execution_count": 1,
   "id": "reverse-picking",
   "metadata": {
    "execution": {
     "iopub.execute_input": "2021-11-16T00:00:08.114623Z",
     "iopub.status.busy": "2021-11-16T00:00:08.107044Z",
     "iopub.status.idle": "2021-11-16T00:00:09.083177Z",
     "shell.execute_reply": "2021-11-16T00:00:09.085255Z"
    },
    "papermill": {
     "duration": 1.020352,
     "end_time": "2021-11-16T00:00:09.085970",
     "exception": false,
     "start_time": "2021-11-16T00:00:08.065618",
     "status": "completed"
    },
    "tags": []
   },
   "outputs": [],
   "source": [
    "import pandas as pd\n",
    "import sqlite3"
   ]
  },
  {
   "cell_type": "code",
   "execution_count": 2,
   "id": "innovative-syndrome",
   "metadata": {
    "execution": {
     "iopub.execute_input": "2021-11-16T00:00:09.153311Z",
     "iopub.status.busy": "2021-11-16T00:00:09.151039Z",
     "iopub.status.idle": "2021-11-16T00:00:09.988354Z",
     "shell.execute_reply": "2021-11-16T00:00:09.989905Z"
    },
    "papermill": {
     "duration": 0.871483,
     "end_time": "2021-11-16T00:00:09.990348",
     "exception": false,
     "start_time": "2021-11-16T00:00:09.118865",
     "status": "completed"
    },
    "tags": []
   },
   "outputs": [],
   "source": [
    "timestamps = pd.read_sql(\"select distinct record_time from EBAY_TOP_BERLIN order by record_time desc limit 2\", sqlite3.connect(\"UsedObjects.db\"))"
   ]
  },
  {
   "cell_type": "code",
   "execution_count": 3,
   "id": "periodic-identification",
   "metadata": {
    "execution": {
     "iopub.execute_input": "2021-11-16T00:00:10.059202Z",
     "iopub.status.busy": "2021-11-16T00:00:10.056962Z",
     "iopub.status.idle": "2021-11-16T00:00:10.079466Z",
     "shell.execute_reply": "2021-11-16T00:00:10.080982Z"
    },
    "papermill": {
     "duration": 0.071104,
     "end_time": "2021-11-16T00:00:10.081448",
     "exception": false,
     "start_time": "2021-11-16T00:00:10.010344",
     "status": "completed"
    },
    "tags": []
   },
   "outputs": [
    {
     "data": {
      "text/html": [
       "<div>\n",
       "<style scoped>\n",
       "    .dataframe tbody tr th:only-of-type {\n",
       "        vertical-align: middle;\n",
       "    }\n",
       "\n",
       "    .dataframe tbody tr th {\n",
       "        vertical-align: top;\n",
       "    }\n",
       "\n",
       "    .dataframe thead th {\n",
       "        text-align: right;\n",
       "    }\n",
       "</style>\n",
       "<table border=\"1\" class=\"dataframe\">\n",
       "  <thead>\n",
       "    <tr style=\"text-align: right;\">\n",
       "      <th></th>\n",
       "      <th>RECORD_TIME</th>\n",
       "    </tr>\n",
       "  </thead>\n",
       "  <tbody>\n",
       "    <tr>\n",
       "      <th>0</th>\n",
       "      <td>2021-11-16 01:00</td>\n",
       "    </tr>\n",
       "    <tr>\n",
       "      <th>1</th>\n",
       "      <td>2021-11-16 00:30</td>\n",
       "    </tr>\n",
       "  </tbody>\n",
       "</table>\n",
       "</div>"
      ],
      "text/plain": [
       "        RECORD_TIME\n",
       "0  2021-11-16 01:00\n",
       "1  2021-11-16 00:30"
      ]
     },
     "execution_count": 3,
     "metadata": {},
     "output_type": "execute_result"
    }
   ],
   "source": [
    "timestamps"
   ]
  },
  {
   "cell_type": "code",
   "execution_count": 4,
   "id": "alternate-victory",
   "metadata": {
    "execution": {
     "iopub.execute_input": "2021-11-16T00:00:10.137040Z",
     "iopub.status.busy": "2021-11-16T00:00:10.134658Z",
     "iopub.status.idle": "2021-11-16T00:00:11.338350Z",
     "shell.execute_reply": "2021-11-16T00:00:11.340433Z"
    },
    "papermill": {
     "duration": 1.239441,
     "end_time": "2021-11-16T00:00:11.340961",
     "exception": false,
     "start_time": "2021-11-16T00:00:10.101520",
     "status": "completed"
    },
    "tags": []
   },
   "outputs": [],
   "source": [
    "df = pd.read_sql(\"select * from EBAY_TOP_BERLIN where record_time in (select distinct record_time from EBAY_TOP_BERLIN order by record_time desc limit 2)\", sqlite3.connect(\"UsedObjects.db\"))"
   ]
  },
  {
   "cell_type": "code",
   "execution_count": 5,
   "id": "popular-active",
   "metadata": {
    "execution": {
     "iopub.execute_input": "2021-11-16T00:00:11.420667Z",
     "iopub.status.busy": "2021-11-16T00:00:11.405677Z",
     "iopub.status.idle": "2021-11-16T00:00:11.439761Z",
     "shell.execute_reply": "2021-11-16T00:00:11.441329Z"
    },
    "papermill": {
     "duration": 0.080343,
     "end_time": "2021-11-16T00:00:11.441919",
     "exception": false,
     "start_time": "2021-11-16T00:00:11.361576",
     "status": "completed"
    },
    "tags": []
   },
   "outputs": [],
   "source": [
    "df_pivot = df.pivot_table(index=\"PRODUCT\", columns = \"RECORD_TIME\", values = \"LISTING_COUNT\")"
   ]
  },
  {
   "cell_type": "code",
   "execution_count": 6,
   "id": "union-huntington",
   "metadata": {
    "execution": {
     "iopub.execute_input": "2021-11-16T00:00:11.509117Z",
     "iopub.status.busy": "2021-11-16T00:00:11.506547Z",
     "iopub.status.idle": "2021-11-16T00:00:11.512357Z",
     "shell.execute_reply": "2021-11-16T00:00:11.514094Z"
    },
    "papermill": {
     "duration": 0.047556,
     "end_time": "2021-11-16T00:00:11.514584",
     "exception": false,
     "start_time": "2021-11-16T00:00:11.467028",
     "status": "completed"
    },
    "tags": []
   },
   "outputs": [],
   "source": [
    "df_pivot.columns = [\"stamp_1\", \"stamp_2\"]\n",
    "df_pivot_diff = df_pivot.diff(axis=1)"
   ]
  },
  {
   "cell_type": "code",
   "execution_count": 7,
   "id": "fifth-motion",
   "metadata": {
    "execution": {
     "iopub.execute_input": "2021-11-16T00:00:11.571236Z",
     "iopub.status.busy": "2021-11-16T00:00:11.568781Z",
     "iopub.status.idle": "2021-11-16T00:00:13.620888Z",
     "shell.execute_reply": "2021-11-16T00:00:13.622918Z"
    },
    "papermill": {
     "duration": 2.088021,
     "end_time": "2021-11-16T00:00:13.623530",
     "exception": false,
     "start_time": "2021-11-16T00:00:11.535509",
     "status": "completed"
    },
    "tags": []
   },
   "outputs": [
    {
     "data": {
      "text/plain": [
       "<AxesSubplot:ylabel='PRODUCT'>"
      ]
     },
     "execution_count": 7,
     "metadata": {},
     "output_type": "execute_result"
    },
    {
     "data": {
      "image/png": "[encoded data removed]",
      "text/plain": [
       "<Figure size 432x288 with 1 Axes>"
      ]
     },
     "metadata": {
      "needs_background": "light"
     },
     "output_type": "display_data"
    }
   ],
   "source": [
    "df_pivot_diff.sort_values(\"stamp_2\", ascending = False)[\"stamp_2\"].head(10).plot.barh()"
   ]
  },
  {
   "cell_type": "code",
   "execution_count": null,
   "id": "extra-executive",
   "metadata": {
    "papermill": {
     "duration": 0.024731,
     "end_time": "2021-11-16T00:00:13.676315",
     "exception": false,
     "start_time": "2021-11-16T00:00:13.651584",
     "status": "completed"
    },
    "tags": []
   },
   "outputs": [],
   "source": []
  }
 ],
 "metadata": {
  "kernelspec": {
   "display_name": "Python 3",
   "language": "python",
   "name": "python3"
  },
  "language_info": {
   "codemirror_mode": {
    "name": "ipython",
    "version": 3
   },
   "file_extension": ".py",
   "mimetype": "text/x-python",
   "name": "python",
   "nbconvert_exporter": "python",
   "pygments_lexer": "ipython3",
   "version": "3.9.5"
  },
  "papermill": {
   "default_parameters": {},
   "duration": 9.938872,
   "end_time": "2021-11-16T00:00:15.246879",
   "environment_variables": {},
   "exception": null,
   "input_path": "eBay_Overview.ipynb",
   "output_path": "eBay_Overview.ipynb",
   "parameters": {},
   "start_time": "2021-11-16T00:00:05.308007",
   "version": "2.3.3"
  }
 },
 "nbformat": 4,
 "nbformat_minor": 5
}