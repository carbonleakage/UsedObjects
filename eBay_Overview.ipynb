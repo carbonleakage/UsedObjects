{
 "cells": [
  {
   "cell_type": "code",
   "execution_count": 1,
   "id": "reverse-picking",
   "metadata": {
    "execution": {
     "iopub.execute_input": "2021-09-11T02:00:06.589352Z",
     "iopub.status.busy": "2021-09-11T02:00:06.587412Z",
     "iopub.status.idle": "2021-09-11T02:00:07.400362Z",
     "shell.execute_reply": "2021-09-11T02:00:07.398598Z"
    },
    "papermill": {
     "duration": 0.863922,
     "end_time": "2021-09-11T02:00:07.400774",
     "exception": false,
     "start_time": "2021-09-11T02:00:06.536852",
     "status": "completed"
    },
    "tags": []
   },
   "outputs": [],
   "source": [
    "import pandas as pd\n",
    "import sqlite3"
   ]
  },
  {
   "cell_type": "code",
   "execution_count": 2,
   "id": "innovative-syndrome",
   "metadata": {
    "execution": {
     "iopub.execute_input": "2021-09-11T02:00:07.451935Z",
     "iopub.status.busy": "2021-09-11T02:00:07.449947Z",
     "iopub.status.idle": "2021-09-11T02:00:07.705710Z",
     "shell.execute_reply": "2021-09-11T02:00:07.706940Z"
    },
    "papermill": {
     "duration": 0.285297,
     "end_time": "2021-09-11T02:00:07.707390",
     "exception": false,
     "start_time": "2021-09-11T02:00:07.422093",
     "status": "completed"
    },
    "tags": []
   },
   "outputs": [],
   "source": [
    "timestamps = pd.read_sql(\"select distinct record_time from EBAY_TOP_BERLIN order by record_time desc limit 2\", sqlite3.connect(\"UsedObjects.db\"))"
   ]
  },
  {
   "cell_type": "code",
   "execution_count": 3,
   "id": "periodic-identification",
   "metadata": {
    "execution": {
     "iopub.execute_input": "2021-09-11T02:00:07.776101Z",
     "iopub.status.busy": "2021-09-11T02:00:07.770767Z",
     "iopub.status.idle": "2021-09-11T02:00:07.791641Z",
     "shell.execute_reply": "2021-09-11T02:00:07.793025Z"
    },
    "papermill": {
     "duration": 0.06642,
     "end_time": "2021-09-11T02:00:07.793466",
     "exception": false,
     "start_time": "2021-09-11T02:00:07.727046",
     "status": "completed"
    },
    "tags": []
   },
   "outputs": [
    {
     "data": {
      "text/html": [
       "<div>\n",
       "<style scoped>\n",
       "    .dataframe tbody tr th:only-of-type {\n",
       "        vertical-align: middle;\n",
       "    }\n",
       "\n",
       "    .dataframe tbody tr th {\n",
       "        vertical-align: top;\n",
       "    }\n",
       "\n",
       "    .dataframe thead th {\n",
       "        text-align: right;\n",
       "    }\n",
       "</style>\n",
       "<table border=\"1\" class=\"dataframe\">\n",
       "  <thead>\n",
       "    <tr style=\"text-align: right;\">\n",
       "      <th></th>\n",
       "      <th>RECORD_TIME</th>\n",
       "    </tr>\n",
       "  </thead>\n",
       "  <tbody>\n",
       "    <tr>\n",
       "      <th>0</th>\n",
       "      <td>2021-09-11 04:00</td>\n",
       "    </tr>\n",
       "    <tr>\n",
       "      <th>1</th>\n",
       "      <td>2021-09-11 03:30</td>\n",
       "    </tr>\n",
       "  </tbody>\n",
       "</table>\n",
       "</div>"
      ],
      "text/plain": [
       "        RECORD_TIME\n",
       "0  2021-09-11 04:00\n",
       "1  2021-09-11 03:30"
      ]
     },
     "execution_count": 3,
     "metadata": {},
     "output_type": "execute_result"
    }
   ],
   "source": [
    "timestamps"
   ]
  },
  {
   "cell_type": "code",
   "execution_count": 4,
   "id": "alternate-victory",
   "metadata": {
    "execution": {
     "iopub.execute_input": "2021-09-11T02:00:07.846575Z",
     "iopub.status.busy": "2021-09-11T02:00:07.844305Z",
     "iopub.status.idle": "2021-09-11T02:00:08.229771Z",
     "shell.execute_reply": "2021-09-11T02:00:08.231174Z"
    },
    "papermill": {
     "duration": 0.416576,
     "end_time": "2021-09-11T02:00:08.231652",
     "exception": false,
     "start_time": "2021-09-11T02:00:07.815076",
     "status": "completed"
    },
    "tags": []
   },
   "outputs": [],
   "source": [
    "df = pd.read_sql(\"select * from EBAY_TOP_BERLIN where record_time in (select distinct record_time from EBAY_TOP_BERLIN order by record_time desc limit 2)\", sqlite3.connect(\"UsedObjects.db\"))"
   ]
  },
  {
   "cell_type": "code",
   "execution_count": 5,
   "id": "popular-active",
   "metadata": {
    "execution": {
     "iopub.execute_input": "2021-09-11T02:00:08.318137Z",
     "iopub.status.busy": "2021-09-11T02:00:08.306394Z",
     "iopub.status.idle": "2021-09-11T02:00:08.333927Z",
     "shell.execute_reply": "2021-09-11T02:00:08.335320Z"
    },
    "papermill": {
     "duration": 0.074947,
     "end_time": "2021-09-11T02:00:08.335747",
     "exception": false,
     "start_time": "2021-09-11T02:00:08.260800",
     "status": "completed"
    },
    "tags": []
   },
   "outputs": [],
   "source": [
    "df_pivot = df.pivot_table(index=\"PRODUCT\", columns = \"RECORD_TIME\", values = \"LISTING_COUNT\")"
   ]
  },
  {
   "cell_type": "code",
   "execution_count": 6,
   "id": "union-huntington",
   "metadata": {
    "execution": {
     "iopub.execute_input": "2021-09-11T02:00:08.392082Z",
     "iopub.status.busy": "2021-09-11T02:00:08.389978Z",
     "iopub.status.idle": "2021-09-11T02:00:08.395260Z",
     "shell.execute_reply": "2021-09-11T02:00:08.396560Z"
    },
    "papermill": {
     "duration": 0.040924,
     "end_time": "2021-09-11T02:00:08.396979",
     "exception": false,
     "start_time": "2021-09-11T02:00:08.356055",
     "status": "completed"
    },
    "tags": []
   },
   "outputs": [],
   "source": [
    "df_pivot.columns = [\"stamp_1\", \"stamp_2\"]\n",
    "df_pivot_diff = df_pivot.diff(axis=1)"
   ]
  },
  {
   "cell_type": "code",
   "execution_count": 7,
   "id": "fifth-motion",
   "metadata": {
    "execution": {
     "iopub.execute_input": "2021-09-11T02:00:08.454082Z",
     "iopub.status.busy": "2021-09-11T02:00:08.451441Z",
     "iopub.status.idle": "2021-09-11T02:00:09.973399Z",
     "shell.execute_reply": "2021-09-11T02:00:09.974689Z"
    },
    "papermill": {
     "duration": 1.555898,
     "end_time": "2021-09-11T02:00:09.975169",
     "exception": false,
     "start_time": "2021-09-11T02:00:08.419271",
     "status": "completed"
    },
    "tags": []
   },
   "outputs": [
    {
     "data": {
      "text/plain": [
       "<AxesSubplot:ylabel='PRODUCT'>"
      ]
     },
     "execution_count": 7,
     "metadata": {},
     "output_type": "execute_result"
    },
    {
     "data": {
      "image/png": "[encoded data removed]",
      "text/plain": [
       "<Figure size 432x288 with 1 Axes>"
      ]
     },
     "metadata": {
      "needs_background": "light"
     },
     "output_type": "display_data"
    }
   ],
   "source": [
    "df_pivot_diff.sort_values(\"stamp_2\", ascending = False)[\"stamp_2\"].head(10).plot.barh()"
   ]
  },
  {
   "cell_type": "code",
   "execution_count": null,
   "id": "extra-executive",
   "metadata": {
    "papermill": {
     "duration": 0.022466,
     "end_time": "2021-09-11T02:00:10.022576",
     "exception": false,
     "start_time": "2021-09-11T02:00:10.000110",
     "status": "completed"
    },
    "tags": []
   },
   "outputs": [],
   "source": []
  }
 ],
 "metadata": {
  "kernelspec": {
   "display_name": "Python 3",
   "language": "python",
   "name": "python3"
  },
  "language_info": {
   "codemirror_mode": {
    "name": "ipython",
    "version": 3
   },
   "file_extension": ".py",
   "mimetype": "text/x-python",
   "name": "python",
   "nbconvert_exporter": "python",
   "pygments_lexer": "ipython3",
   "version": "3.9.5"
  },
  "papermill": {
   "default_parameters": {},
   "duration": 6.543918,
   "end_time": "2021-09-11T02:00:10.663842",
   "environment_variables": {},
   "exception": null,
   "input_path": "eBay_Overview.ipynb",
   "output_path": "eBay_Overview.ipynb",
   "parameters": {},
   "start_time": "2021-09-11T02:00:04.119924",
   "version": "2.3.3"
  }
 },
 "nbformat": 4,
 "nbformat_minor": 5
}