{
 "cells": [
  {
   "cell_type": "code",
   "execution_count": 1,
   "id": "reverse-picking",
   "metadata": {
    "execution": {
     "iopub.execute_input": "2021-11-13T05:30:08.493355Z",
     "iopub.status.busy": "2021-11-13T05:30:08.490966Z",
     "iopub.status.idle": "2021-11-13T05:30:09.455112Z",
     "shell.execute_reply": "2021-11-13T05:30:09.456566Z"
    },
    "papermill": {
     "duration": 1.01423,
     "end_time": "2021-11-13T05:30:09.457314",
     "exception": false,
     "start_time": "2021-11-13T05:30:08.443084",
     "status": "completed"
    },
    "tags": []
   },
   "outputs": [],
   "source": [
    "import pandas as pd\n",
    "import sqlite3"
   ]
  },
  {
   "cell_type": "code",
   "execution_count": 2,
   "id": "innovative-syndrome",
   "metadata": {
    "execution": {
     "iopub.execute_input": "2021-11-13T05:30:09.516606Z",
     "iopub.status.busy": "2021-11-13T05:30:09.514298Z",
     "iopub.status.idle": "2021-11-13T05:30:10.313988Z",
     "shell.execute_reply": "2021-11-13T05:30:10.316129Z"
    },
    "papermill": {
     "duration": 0.835411,
     "end_time": "2021-11-13T05:30:10.316649",
     "exception": false,
     "start_time": "2021-11-13T05:30:09.481238",
     "status": "completed"
    },
    "tags": []
   },
   "outputs": [],
   "source": [
    "timestamps = pd.read_sql(\"select distinct record_time from EBAY_TOP_BERLIN order by record_time desc limit 2\", sqlite3.connect(\"UsedObjects.db\"))"
   ]
  },
  {
   "cell_type": "code",
   "execution_count": 3,
   "id": "periodic-identification",
   "metadata": {
    "execution": {
     "iopub.execute_input": "2021-11-13T05:30:10.390891Z",
     "iopub.status.busy": "2021-11-13T05:30:10.388494Z",
     "iopub.status.idle": "2021-11-13T05:30:10.411143Z",
     "shell.execute_reply": "2021-11-13T05:30:10.412581Z"
    },
    "papermill": {
     "duration": 0.075415,
     "end_time": "2021-11-13T05:30:10.413126",
     "exception": false,
     "start_time": "2021-11-13T05:30:10.337711",
     "status": "completed"
    },
    "tags": []
   },
   "outputs": [
    {
     "data": {
      "text/html": [
       "<div>\n",
       "<style scoped>\n",
       "    .dataframe tbody tr th:only-of-type {\n",
       "        vertical-align: middle;\n",
       "    }\n",
       "\n",
       "    .dataframe tbody tr th {\n",
       "        vertical-align: top;\n",
       "    }\n",
       "\n",
       "    .dataframe thead th {\n",
       "        text-align: right;\n",
       "    }\n",
       "</style>\n",
       "<table border=\"1\" class=\"dataframe\">\n",
       "  <thead>\n",
       "    <tr style=\"text-align: right;\">\n",
       "      <th></th>\n",
       "      <th>RECORD_TIME</th>\n",
       "    </tr>\n",
       "  </thead>\n",
       "  <tbody>\n",
       "    <tr>\n",
       "      <th>0</th>\n",
       "      <td>2021-11-13 06:30</td>\n",
       "    </tr>\n",
       "    <tr>\n",
       "      <th>1</th>\n",
       "      <td>2021-11-13 06:00</td>\n",
       "    </tr>\n",
       "  </tbody>\n",
       "</table>\n",
       "</div>"
      ],
      "text/plain": [
       "        RECORD_TIME\n",
       "0  2021-11-13 06:30\n",
       "1  2021-11-13 06:00"
      ]
     },
     "execution_count": 3,
     "metadata": {},
     "output_type": "execute_result"
    }
   ],
   "source": [
    "timestamps"
   ]
  },
  {
   "cell_type": "code",
   "execution_count": 4,
   "id": "alternate-victory",
   "metadata": {
    "execution": {
     "iopub.execute_input": "2021-11-13T05:30:10.471203Z",
     "iopub.status.busy": "2021-11-13T05:30:10.469025Z",
     "iopub.status.idle": "2021-11-13T05:30:11.650614Z",
     "shell.execute_reply": "2021-11-13T05:30:11.651946Z"
    },
    "papermill": {
     "duration": 1.215763,
     "end_time": "2021-11-13T05:30:11.652521",
     "exception": false,
     "start_time": "2021-11-13T05:30:10.436758",
     "status": "completed"
    },
    "tags": []
   },
   "outputs": [],
   "source": [
    "df = pd.read_sql(\"select * from EBAY_TOP_BERLIN where record_time in (select distinct record_time from EBAY_TOP_BERLIN order by record_time desc limit 2)\", sqlite3.connect(\"UsedObjects.db\"))"
   ]
  },
  {
   "cell_type": "code",
   "execution_count": 5,
   "id": "popular-active",
   "metadata": {
    "execution": {
     "iopub.execute_input": "2021-11-13T05:30:11.723887Z",
     "iopub.status.busy": "2021-11-13T05:30:11.716110Z",
     "iopub.status.idle": "2021-11-13T05:30:11.749879Z",
     "shell.execute_reply": "2021-11-13T05:30:11.751029Z"
    },
    "papermill": {
     "duration": 0.076692,
     "end_time": "2021-11-13T05:30:11.751443",
     "exception": false,
     "start_time": "2021-11-13T05:30:11.674751",
     "status": "completed"
    },
    "tags": []
   },
   "outputs": [],
   "source": [
    "df_pivot = df.pivot_table(index=\"PRODUCT\", columns = \"RECORD_TIME\", values = \"LISTING_COUNT\")"
   ]
  },
  {
   "cell_type": "code",
   "execution_count": 6,
   "id": "union-huntington",
   "metadata": {
    "execution": {
     "iopub.execute_input": "2021-11-13T05:30:11.814003Z",
     "iopub.status.busy": "2021-11-13T05:30:11.811743Z",
     "iopub.status.idle": "2021-11-13T05:30:11.817308Z",
     "shell.execute_reply": "2021-11-13T05:30:11.818658Z"
    },
    "papermill": {
     "duration": 0.043381,
     "end_time": "2021-11-13T05:30:11.819140",
     "exception": false,
     "start_time": "2021-11-13T05:30:11.775759",
     "status": "completed"
    },
    "tags": []
   },
   "outputs": [],
   "source": [
    "df_pivot.columns = [\"stamp_1\", \"stamp_2\"]\n",
    "df_pivot_diff = df_pivot.diff(axis=1)"
   ]
  },
  {
   "cell_type": "code",
   "execution_count": 7,
   "id": "fifth-motion",
   "metadata": {
    "execution": {
     "iopub.execute_input": "2021-11-13T05:30:11.875797Z",
     "iopub.status.busy": "2021-11-13T05:30:11.873359Z",
     "iopub.status.idle": "2021-11-13T05:30:13.832354Z",
     "shell.execute_reply": "2021-11-13T05:30:13.833807Z"
    },
    "papermill": {
     "duration": 1.994728,
     "end_time": "2021-11-13T05:30:13.834249",
     "exception": false,
     "start_time": "2021-11-13T05:30:11.839521",
     "status": "completed"
    },
    "tags": []
   },
   "outputs": [
    {
     "data": {
      "text/plain": [
       "<AxesSubplot:ylabel='PRODUCT'>"
      ]
     },
     "execution_count": 7,
     "metadata": {},
     "output_type": "execute_result"
    },
    {
     "data": {
      "image/png": "[encoded data removed]",
      "text/plain": [
       "<Figure size 432x288 with 1 Axes>"
      ]
     },
     "metadata": {
      "needs_background": "light"
     },
     "output_type": "display_data"
    }
   ],
   "source": [
    "df_pivot_diff.sort_values(\"stamp_2\", ascending = False)[\"stamp_2\"].head(10).plot.barh()"
   ]
  },
  {
   "cell_type": "code",
   "execution_count": null,
   "id": "extra-executive",
   "metadata": {
    "papermill": {
     "duration": 0.022409,
     "end_time": "2021-11-13T05:30:13.880628",
     "exception": false,
     "start_time": "2021-11-13T05:30:13.858219",
     "status": "completed"
    },
    "tags": []
   },
   "outputs": [],
   "source": []
  }
 ],
 "metadata": {
  "kernelspec": {
   "display_name": "Python 3",
   "language": "python",
   "name": "python3"
  },
  "language_info": {
   "codemirror_mode": {
    "name": "ipython",
    "version": 3
   },
   "file_extension": ".py",
   "mimetype": "text/x-python",
   "name": "python",
   "nbconvert_exporter": "python",
   "pygments_lexer": "ipython3",
   "version": "3.9.5"
  },
  "papermill": {
   "default_parameters": {},
   "duration": 8.813159,
   "end_time": "2021-11-13T05:30:14.533171",
   "environment_variables": {},
   "exception": null,
   "input_path": "eBay_Overview.ipynb",
   "output_path": "eBay_Overview.ipynb",
   "parameters": {},
   "start_time": "2021-11-13T05:30:05.720012",
   "version": "2.3.3"
  }
 },
 "nbformat": 4,
 "nbformat_minor": 5
}