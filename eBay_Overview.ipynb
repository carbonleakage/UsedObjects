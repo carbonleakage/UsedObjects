{
 "cells": [
  {
   "cell_type": "code",
   "execution_count": 1,
   "id": "reverse-picking",
   "metadata": {
    "execution": {
     "iopub.execute_input": "2021-12-17T10:30:08.056648Z",
     "iopub.status.busy": "2021-12-17T10:30:08.054327Z",
     "iopub.status.idle": "2021-12-17T10:30:09.009196Z",
     "shell.execute_reply": "2021-12-17T10:30:09.011444Z"
    },
    "papermill": {
     "duration": 1.006432,
     "end_time": "2021-12-17T10:30:09.012229",
     "exception": false,
     "start_time": "2021-12-17T10:30:08.005797",
     "status": "completed"
    },
    "tags": []
   },
   "outputs": [],
   "source": [
    "import pandas as pd\n",
    "import sqlite3"
   ]
  },
  {
   "cell_type": "code",
   "execution_count": 2,
   "id": "innovative-syndrome",
   "metadata": {
    "execution": {
     "iopub.execute_input": "2021-12-17T10:30:09.086622Z",
     "iopub.status.busy": "2021-12-17T10:30:09.084374Z",
     "iopub.status.idle": "2021-12-17T10:30:10.206886Z",
     "shell.execute_reply": "2021-12-17T10:30:10.208881Z"
    },
    "papermill": {
     "duration": 1.159461,
     "end_time": "2021-12-17T10:30:10.209384",
     "exception": false,
     "start_time": "2021-12-17T10:30:09.049923",
     "status": "completed"
    },
    "tags": []
   },
   "outputs": [],
   "source": [
    "timestamps = pd.read_sql(\"select distinct record_time from EBAY_TOP_BERLIN order by record_time desc limit 2\", sqlite3.connect(\"UsedObjects.db\"))"
   ]
  },
  {
   "cell_type": "code",
   "execution_count": 3,
   "id": "periodic-identification",
   "metadata": {
    "execution": {
     "iopub.execute_input": "2021-12-17T10:30:10.267961Z",
     "iopub.status.busy": "2021-12-17T10:30:10.266385Z",
     "iopub.status.idle": "2021-12-17T10:30:10.303437Z",
     "shell.execute_reply": "2021-12-17T10:30:10.306125Z"
    },
    "papermill": {
     "duration": 0.076786,
     "end_time": "2021-12-17T10:30:10.306616",
     "exception": false,
     "start_time": "2021-12-17T10:30:10.229830",
     "status": "completed"
    },
    "tags": []
   },
   "outputs": [
    {
     "data": {
      "text/html": [
       "<div>\n",
       "<style scoped>\n",
       "    .dataframe tbody tr th:only-of-type {\n",
       "        vertical-align: middle;\n",
       "    }\n",
       "\n",
       "    .dataframe tbody tr th {\n",
       "        vertical-align: top;\n",
       "    }\n",
       "\n",
       "    .dataframe thead th {\n",
       "        text-align: right;\n",
       "    }\n",
       "</style>\n",
       "<table border=\"1\" class=\"dataframe\">\n",
       "  <thead>\n",
       "    <tr style=\"text-align: right;\">\n",
       "      <th></th>\n",
       "      <th>RECORD_TIME</th>\n",
       "    </tr>\n",
       "  </thead>\n",
       "  <tbody>\n",
       "    <tr>\n",
       "      <th>0</th>\n",
       "      <td>2021-12-17 11:30</td>\n",
       "    </tr>\n",
       "    <tr>\n",
       "      <th>1</th>\n",
       "      <td>2021-12-17 11:00</td>\n",
       "    </tr>\n",
       "  </tbody>\n",
       "</table>\n",
       "</div>"
      ],
      "text/plain": [
       "        RECORD_TIME\n",
       "0  2021-12-17 11:30\n",
       "1  2021-12-17 11:00"
      ]
     },
     "execution_count": 3,
     "metadata": {},
     "output_type": "execute_result"
    }
   ],
   "source": [
    "timestamps"
   ]
  },
  {
   "cell_type": "code",
   "execution_count": 4,
   "id": "alternate-victory",
   "metadata": {
    "execution": {
     "iopub.execute_input": "2021-12-17T10:30:10.363693Z",
     "iopub.status.busy": "2021-12-17T10:30:10.361524Z",
     "iopub.status.idle": "2021-12-17T10:30:11.944280Z",
     "shell.execute_reply": "2021-12-17T10:30:11.945872Z"
    },
    "papermill": {
     "duration": 1.618471,
     "end_time": "2021-12-17T10:30:11.946352",
     "exception": false,
     "start_time": "2021-12-17T10:30:10.327881",
     "status": "completed"
    },
    "tags": []
   },
   "outputs": [],
   "source": [
    "df = pd.read_sql(\"select * from EBAY_TOP_BERLIN where record_time in (select distinct record_time from EBAY_TOP_BERLIN order by record_time desc limit 2)\", sqlite3.connect(\"UsedObjects.db\"))"
   ]
  },
  {
   "cell_type": "code",
   "execution_count": 5,
   "id": "popular-active",
   "metadata": {
    "execution": {
     "iopub.execute_input": "2021-12-17T10:30:12.021620Z",
     "iopub.status.busy": "2021-12-17T10:30:12.009430Z",
     "iopub.status.idle": "2021-12-17T10:30:12.037301Z",
     "shell.execute_reply": "2021-12-17T10:30:12.038628Z"
    },
    "papermill": {
     "duration": 0.071613,
     "end_time": "2021-12-17T10:30:12.039037",
     "exception": false,
     "start_time": "2021-12-17T10:30:11.967424",
     "status": "completed"
    },
    "tags": []
   },
   "outputs": [],
   "source": [
    "df_pivot = df.pivot_table(index=\"PRODUCT\", columns = \"RECORD_TIME\", values = \"LISTING_COUNT\")"
   ]
  },
  {
   "cell_type": "code",
   "execution_count": 6,
   "id": "union-huntington",
   "metadata": {
    "execution": {
     "iopub.execute_input": "2021-12-17T10:30:12.131165Z",
     "iopub.status.busy": "2021-12-17T10:30:12.128959Z",
     "iopub.status.idle": "2021-12-17T10:30:12.133948Z",
     "shell.execute_reply": "2021-12-17T10:30:12.135420Z"
    },
    "papermill": {
     "duration": 0.076555,
     "end_time": "2021-12-17T10:30:12.135897",
     "exception": false,
     "start_time": "2021-12-17T10:30:12.059342",
     "status": "completed"
    },
    "tags": []
   },
   "outputs": [],
   "source": [
    "df_pivot.columns = [\"stamp_1\", \"stamp_2\"]\n",
    "df_pivot_diff = df_pivot.diff(axis=1)"
   ]
  },
  {
   "cell_type": "code",
   "execution_count": 7,
   "id": "fifth-motion",
   "metadata": {
    "execution": {
     "iopub.execute_input": "2021-12-17T10:30:12.192387Z",
     "iopub.status.busy": "2021-12-17T10:30:12.189906Z",
     "iopub.status.idle": "2021-12-17T10:30:14.149184Z",
     "shell.execute_reply": "2021-12-17T10:30:14.150830Z"
    },
    "papermill": {
     "duration": 1.995006,
     "end_time": "2021-12-17T10:30:14.151329",
     "exception": false,
     "start_time": "2021-12-17T10:30:12.156323",
     "status": "completed"
    },
    "tags": []
   },
   "outputs": [
    {
     "data": {
      "text/plain": [
       "<AxesSubplot:ylabel='PRODUCT'>"
      ]
     },
     "execution_count": 7,
     "metadata": {},
     "output_type": "execute_result"
    },
    {
     "data": {
      "image/png": "[encoded data removed]",
      "text/plain": [
       "<Figure size 432x288 with 1 Axes>"
      ]
     },
     "metadata": {
      "needs_background": "light"
     },
     "output_type": "display_data"
    }
   ],
   "source": [
    "df_pivot_diff.sort_values(\"stamp_2\", ascending = False)[\"stamp_2\"].head(10).plot.barh()"
   ]
  },
  {
   "cell_type": "code",
   "execution_count": null,
   "id": "extra-executive",
   "metadata": {
    "papermill": {
     "duration": 0.022183,
     "end_time": "2021-12-17T10:30:14.197695",
     "exception": false,
     "start_time": "2021-12-17T10:30:14.175512",
     "status": "completed"
    },
    "tags": []
   },
   "outputs": [],
   "source": []
  }
 ],
 "metadata": {
  "kernelspec": {
   "display_name": "Python 3",
   "language": "python",
   "name": "python3"
  },
  "language_info": {
   "codemirror_mode": {
    "name": "ipython",
    "version": 3
   },
   "file_extension": ".py",
   "mimetype": "text/x-python",
   "name": "python",
   "nbconvert_exporter": "python",
   "pygments_lexer": "ipython3",
   "version": "3.9.5"
  },
  "papermill": {
   "default_parameters": {},
   "duration": 9.558341,
   "end_time": "2021-12-17T10:30:14.841980",
   "environment_variables": {},
   "exception": null,
   "input_path": "eBay_Overview.ipynb",
   "output_path": "eBay_Overview.ipynb",
   "parameters": {},
   "start_time": "2021-12-17T10:30:05.283639",
   "version": "2.3.3"
  }
 },
 "nbformat": 4,
 "nbformat_minor": 5
}