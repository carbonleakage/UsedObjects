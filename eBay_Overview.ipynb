{
 "cells": [
  {
   "cell_type": "code",
   "execution_count": 1,
   "id": "reverse-picking",
   "metadata": {
    "execution": {
     "iopub.execute_input": "2021-09-07T00:30:07.152836Z",
     "iopub.status.busy": "2021-09-07T00:30:07.150814Z",
     "iopub.status.idle": "2021-09-07T00:30:07.965089Z",
     "shell.execute_reply": "2021-09-07T00:30:07.966397Z"
    },
    "papermill": {
     "duration": 0.866952,
     "end_time": "2021-09-07T00:30:07.967094",
     "exception": false,
     "start_time": "2021-09-07T00:30:07.100142",
     "status": "completed"
    },
    "tags": []
   },
   "outputs": [],
   "source": [
    "import pandas as pd\n",
    "import sqlite3"
   ]
  },
  {
   "cell_type": "code",
   "execution_count": 2,
   "id": "innovative-syndrome",
   "metadata": {
    "execution": {
     "iopub.execute_input": "2021-09-07T00:30:08.017373Z",
     "iopub.status.busy": "2021-09-07T00:30:08.015214Z",
     "iopub.status.idle": "2021-09-07T00:30:08.244397Z",
     "shell.execute_reply": "2021-09-07T00:30:08.245593Z"
    },
    "papermill": {
     "duration": 0.259219,
     "end_time": "2021-09-07T00:30:08.245983",
     "exception": false,
     "start_time": "2021-09-07T00:30:07.986764",
     "status": "completed"
    },
    "tags": []
   },
   "outputs": [],
   "source": [
    "timestamps = pd.read_sql(\"select distinct record_time from EBAY_TOP_BERLIN order by record_time desc limit 2\", sqlite3.connect(\"UsedObjects.db\"))"
   ]
  },
  {
   "cell_type": "code",
   "execution_count": 3,
   "id": "periodic-identification",
   "metadata": {
    "execution": {
     "iopub.execute_input": "2021-09-07T00:30:08.310530Z",
     "iopub.status.busy": "2021-09-07T00:30:08.308503Z",
     "iopub.status.idle": "2021-09-07T00:30:08.328539Z",
     "shell.execute_reply": "2021-09-07T00:30:08.329721Z"
    },
    "papermill": {
     "duration": 0.064595,
     "end_time": "2021-09-07T00:30:08.330145",
     "exception": false,
     "start_time": "2021-09-07T00:30:08.265550",
     "status": "completed"
    },
    "tags": []
   },
   "outputs": [
    {
     "data": {
      "text/html": [
       "<div>\n",
       "<style scoped>\n",
       "    .dataframe tbody tr th:only-of-type {\n",
       "        vertical-align: middle;\n",
       "    }\n",
       "\n",
       "    .dataframe tbody tr th {\n",
       "        vertical-align: top;\n",
       "    }\n",
       "\n",
       "    .dataframe thead th {\n",
       "        text-align: right;\n",
       "    }\n",
       "</style>\n",
       "<table border=\"1\" class=\"dataframe\">\n",
       "  <thead>\n",
       "    <tr style=\"text-align: right;\">\n",
       "      <th></th>\n",
       "      <th>RECORD_TIME</th>\n",
       "    </tr>\n",
       "  </thead>\n",
       "  <tbody>\n",
       "    <tr>\n",
       "      <th>0</th>\n",
       "      <td>2021-09-07 02:30</td>\n",
       "    </tr>\n",
       "    <tr>\n",
       "      <th>1</th>\n",
       "      <td>2021-09-07 02:00</td>\n",
       "    </tr>\n",
       "  </tbody>\n",
       "</table>\n",
       "</div>"
      ],
      "text/plain": [
       "        RECORD_TIME\n",
       "0  2021-09-07 02:30\n",
       "1  2021-09-07 02:00"
      ]
     },
     "execution_count": 3,
     "metadata": {},
     "output_type": "execute_result"
    }
   ],
   "source": [
    "timestamps"
   ]
  },
  {
   "cell_type": "code",
   "execution_count": 4,
   "id": "alternate-victory",
   "metadata": {
    "execution": {
     "iopub.execute_input": "2021-09-07T00:30:08.381250Z",
     "iopub.status.busy": "2021-09-07T00:30:08.379410Z",
     "iopub.status.idle": "2021-09-07T00:30:08.729731Z",
     "shell.execute_reply": "2021-09-07T00:30:08.731165Z"
    },
    "papermill": {
     "duration": 0.380977,
     "end_time": "2021-09-07T00:30:08.731632",
     "exception": false,
     "start_time": "2021-09-07T00:30:08.350655",
     "status": "completed"
    },
    "tags": []
   },
   "outputs": [],
   "source": [
    "df = pd.read_sql(\"select * from EBAY_TOP_BERLIN where record_time in (select distinct record_time from EBAY_TOP_BERLIN order by record_time desc limit 2)\", sqlite3.connect(\"UsedObjects.db\"))"
   ]
  },
  {
   "cell_type": "code",
   "execution_count": 5,
   "id": "popular-active",
   "metadata": {
    "execution": {
     "iopub.execute_input": "2021-09-07T00:30:08.803992Z",
     "iopub.status.busy": "2021-09-07T00:30:08.792239Z",
     "iopub.status.idle": "2021-09-07T00:30:08.820557Z",
     "shell.execute_reply": "2021-09-07T00:30:08.821916Z"
    },
    "papermill": {
     "duration": 0.070275,
     "end_time": "2021-09-07T00:30:08.822347",
     "exception": false,
     "start_time": "2021-09-07T00:30:08.752072",
     "status": "completed"
    },
    "tags": []
   },
   "outputs": [],
   "source": [
    "df_pivot = df.pivot_table(index=\"PRODUCT\", columns = \"RECORD_TIME\", values = \"LISTING_COUNT\")"
   ]
  },
  {
   "cell_type": "code",
   "execution_count": 6,
   "id": "union-huntington",
   "metadata": {
    "execution": {
     "iopub.execute_input": "2021-09-07T00:30:08.882459Z",
     "iopub.status.busy": "2021-09-07T00:30:08.880197Z",
     "iopub.status.idle": "2021-09-07T00:30:08.886267Z",
     "shell.execute_reply": "2021-09-07T00:30:08.887821Z"
    },
    "papermill": {
     "duration": 0.042594,
     "end_time": "2021-09-07T00:30:08.888289",
     "exception": false,
     "start_time": "2021-09-07T00:30:08.845695",
     "status": "completed"
    },
    "tags": []
   },
   "outputs": [],
   "source": [
    "df_pivot.columns = [\"stamp_1\", \"stamp_2\"]\n",
    "df_pivot_diff = df_pivot.diff(axis=1)"
   ]
  },
  {
   "cell_type": "code",
   "execution_count": 7,
   "id": "fifth-motion",
   "metadata": {
    "execution": {
     "iopub.execute_input": "2021-09-07T00:30:08.943307Z",
     "iopub.status.busy": "2021-09-07T00:30:08.940867Z",
     "iopub.status.idle": "2021-09-07T00:30:10.451880Z",
     "shell.execute_reply": "2021-09-07T00:30:10.453164Z"
    },
    "papermill": {
     "duration": 1.544166,
     "end_time": "2021-09-07T00:30:10.453575",
     "exception": false,
     "start_time": "2021-09-07T00:30:08.909409",
     "status": "completed"
    },
    "tags": []
   },
   "outputs": [
    {
     "data": {
      "text/plain": [
       "<AxesSubplot:ylabel='PRODUCT'>"
      ]
     },
     "execution_count": 7,
     "metadata": {},
     "output_type": "execute_result"
    },
    {
     "data": {
      "image/png": "[encoded data removed]",
      "text/plain": [
       "<Figure size 432x288 with 1 Axes>"
      ]
     },
     "metadata": {
      "needs_background": "light"
     },
     "output_type": "display_data"
    }
   ],
   "source": [
    "df_pivot_diff.sort_values(\"stamp_2\", ascending = False)[\"stamp_2\"].head(10).plot.barh()"
   ]
  },
  {
   "cell_type": "code",
   "execution_count": null,
   "id": "extra-executive",
   "metadata": {
    "papermill": {
     "duration": 0.022221,
     "end_time": "2021-09-07T00:30:10.500322",
     "exception": false,
     "start_time": "2021-09-07T00:30:10.478101",
     "status": "completed"
    },
    "tags": []
   },
   "outputs": [],
   "source": []
  }
 ],
 "metadata": {
  "kernelspec": {
   "display_name": "Python 3",
   "language": "python",
   "name": "python3"
  },
  "language_info": {
   "codemirror_mode": {
    "name": "ipython",
    "version": 3
   },
   "file_extension": ".py",
   "mimetype": "text/x-python",
   "name": "python",
   "nbconvert_exporter": "python",
   "pygments_lexer": "ipython3",
   "version": "3.9.5"
  },
  "papermill": {
   "default_parameters": {},
   "duration": 6.455821,
   "end_time": "2021-09-07T00:30:11.142507",
   "environment_variables": {},
   "exception": null,
   "input_path": "eBay_Overview.ipynb",
   "output_path": "eBay_Overview.ipynb",
   "parameters": {},
   "start_time": "2021-09-07T00:30:04.686686",
   "version": "2.3.3"
  }
 },
 "nbformat": 4,
 "nbformat_minor": 5
}