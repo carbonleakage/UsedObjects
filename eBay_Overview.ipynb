{
 "cells": [
  {
   "cell_type": "code",
   "execution_count": 1,
   "id": "reverse-picking",
   "metadata": {
    "execution": {
     "iopub.execute_input": "2021-09-04T08:30:06.986427Z",
     "iopub.status.busy": "2021-09-04T08:30:06.984482Z",
     "iopub.status.idle": "2021-09-04T08:30:07.789038Z",
     "shell.execute_reply": "2021-09-04T08:30:07.790371Z"
    },
    "papermill": {
     "duration": 0.856563,
     "end_time": "2021-09-04T08:30:07.791065",
     "exception": false,
     "start_time": "2021-09-04T08:30:06.934502",
     "status": "completed"
    },
    "tags": []
   },
   "outputs": [],
   "source": [
    "import pandas as pd\n",
    "import sqlite3"
   ]
  },
  {
   "cell_type": "code",
   "execution_count": 2,
   "id": "innovative-syndrome",
   "metadata": {
    "execution": {
     "iopub.execute_input": "2021-09-04T08:30:07.841776Z",
     "iopub.status.busy": "2021-09-04T08:30:07.839718Z",
     "iopub.status.idle": "2021-09-04T08:30:08.042118Z",
     "shell.execute_reply": "2021-09-04T08:30:08.043403Z"
    },
    "papermill": {
     "duration": 0.232368,
     "end_time": "2021-09-04T08:30:08.043821",
     "exception": false,
     "start_time": "2021-09-04T08:30:07.811453",
     "status": "completed"
    },
    "tags": []
   },
   "outputs": [],
   "source": [
    "timestamps = pd.read_sql(\"select distinct record_time from EBAY_TOP_BERLIN order by record_time desc limit 2\", sqlite3.connect(\"UsedObjects.db\"))"
   ]
  },
  {
   "cell_type": "code",
   "execution_count": 3,
   "id": "periodic-identification",
   "metadata": {
    "execution": {
     "iopub.execute_input": "2021-09-04T08:30:08.110001Z",
     "iopub.status.busy": "2021-09-04T08:30:08.104949Z",
     "iopub.status.idle": "2021-09-04T08:30:08.124744Z",
     "shell.execute_reply": "2021-09-04T08:30:08.125957Z"
    },
    "papermill": {
     "duration": 0.063361,
     "end_time": "2021-09-04T08:30:08.126354",
     "exception": false,
     "start_time": "2021-09-04T08:30:08.062993",
     "status": "completed"
    },
    "tags": []
   },
   "outputs": [
    {
     "data": {
      "text/html": [
       "<div>\n",
       "<style scoped>\n",
       "    .dataframe tbody tr th:only-of-type {\n",
       "        vertical-align: middle;\n",
       "    }\n",
       "\n",
       "    .dataframe tbody tr th {\n",
       "        vertical-align: top;\n",
       "    }\n",
       "\n",
       "    .dataframe thead th {\n",
       "        text-align: right;\n",
       "    }\n",
       "</style>\n",
       "<table border=\"1\" class=\"dataframe\">\n",
       "  <thead>\n",
       "    <tr style=\"text-align: right;\">\n",
       "      <th></th>\n",
       "      <th>RECORD_TIME</th>\n",
       "    </tr>\n",
       "  </thead>\n",
       "  <tbody>\n",
       "    <tr>\n",
       "      <th>0</th>\n",
       "      <td>2021-09-04 10:30</td>\n",
       "    </tr>\n",
       "    <tr>\n",
       "      <th>1</th>\n",
       "      <td>2021-09-04 10:00</td>\n",
       "    </tr>\n",
       "  </tbody>\n",
       "</table>\n",
       "</div>"
      ],
      "text/plain": [
       "        RECORD_TIME\n",
       "0  2021-09-04 10:30\n",
       "1  2021-09-04 10:00"
      ]
     },
     "execution_count": 3,
     "metadata": {},
     "output_type": "execute_result"
    }
   ],
   "source": [
    "timestamps"
   ]
  },
  {
   "cell_type": "code",
   "execution_count": 4,
   "id": "alternate-victory",
   "metadata": {
    "execution": {
     "iopub.execute_input": "2021-09-04T08:30:08.178334Z",
     "iopub.status.busy": "2021-09-04T08:30:08.176054Z",
     "iopub.status.idle": "2021-09-04T08:30:08.473134Z",
     "shell.execute_reply": "2021-09-04T08:30:08.474350Z"
    },
    "papermill": {
     "duration": 0.327346,
     "end_time": "2021-09-04T08:30:08.474755",
     "exception": false,
     "start_time": "2021-09-04T08:30:08.147409",
     "status": "completed"
    },
    "tags": []
   },
   "outputs": [],
   "source": [
    "df = pd.read_sql(\"select * from EBAY_TOP_BERLIN where record_time in (select distinct record_time from EBAY_TOP_BERLIN order by record_time desc limit 2)\", sqlite3.connect(\"UsedObjects.db\"))"
   ]
  },
  {
   "cell_type": "code",
   "execution_count": 5,
   "id": "popular-active",
   "metadata": {
    "execution": {
     "iopub.execute_input": "2021-09-04T08:30:08.553346Z",
     "iopub.status.busy": "2021-09-04T08:30:08.542208Z",
     "iopub.status.idle": "2021-09-04T08:30:08.569428Z",
     "shell.execute_reply": "2021-09-04T08:30:08.570715Z"
    },
    "papermill": {
     "duration": 0.070549,
     "end_time": "2021-09-04T08:30:08.571187",
     "exception": false,
     "start_time": "2021-09-04T08:30:08.500638",
     "status": "completed"
    },
    "tags": []
   },
   "outputs": [],
   "source": [
    "df_pivot = df.pivot_table(index=\"PRODUCT\", columns = \"RECORD_TIME\", values = \"LISTING_COUNT\")"
   ]
  },
  {
   "cell_type": "code",
   "execution_count": 6,
   "id": "union-huntington",
   "metadata": {
    "execution": {
     "iopub.execute_input": "2021-09-04T08:30:08.627175Z",
     "iopub.status.busy": "2021-09-04T08:30:08.625062Z",
     "iopub.status.idle": "2021-09-04T08:30:08.630229Z",
     "shell.execute_reply": "2021-09-04T08:30:08.631614Z"
    },
    "papermill": {
     "duration": 0.040762,
     "end_time": "2021-09-04T08:30:08.632047",
     "exception": false,
     "start_time": "2021-09-04T08:30:08.591285",
     "status": "completed"
    },
    "tags": []
   },
   "outputs": [],
   "source": [
    "df_pivot.columns = [\"stamp_1\", \"stamp_2\"]\n",
    "df_pivot_diff = df_pivot.diff(axis=1)"
   ]
  },
  {
   "cell_type": "code",
   "execution_count": 7,
   "id": "fifth-motion",
   "metadata": {
    "execution": {
     "iopub.execute_input": "2021-09-04T08:30:08.686728Z",
     "iopub.status.busy": "2021-09-04T08:30:08.684352Z",
     "iopub.status.idle": "2021-09-04T08:30:10.183829Z",
     "shell.execute_reply": "2021-09-04T08:30:10.185127Z"
    },
    "papermill": {
     "duration": 1.53219,
     "end_time": "2021-09-04T08:30:10.185546",
     "exception": false,
     "start_time": "2021-09-04T08:30:08.653356",
     "status": "completed"
    },
    "tags": []
   },
   "outputs": [
    {
     "data": {
      "text/plain": [
       "<AxesSubplot:ylabel='PRODUCT'>"
      ]
     },
     "execution_count": 7,
     "metadata": {},
     "output_type": "execute_result"
    },
    {
     "data": {
      "image/png": "[encoded data removed]",
      "text/plain": [
       "<Figure size 432x288 with 1 Axes>"
      ]
     },
     "metadata": {
      "needs_background": "light"
     },
     "output_type": "display_data"
    }
   ],
   "source": [
    "df_pivot_diff.sort_values(\"stamp_2\", ascending = False)[\"stamp_2\"].head(10).plot.barh()"
   ]
  },
  {
   "cell_type": "code",
   "execution_count": null,
   "id": "extra-executive",
   "metadata": {
    "papermill": {
     "duration": 0.021874,
     "end_time": "2021-09-04T08:30:10.230940",
     "exception": false,
     "start_time": "2021-09-04T08:30:10.209066",
     "status": "completed"
    },
    "tags": []
   },
   "outputs": [],
   "source": []
  }
 ],
 "metadata": {
  "kernelspec": {
   "display_name": "Python 3",
   "language": "python",
   "name": "python3"
  },
  "language_info": {
   "codemirror_mode": {
    "name": "ipython",
    "version": 3
   },
   "file_extension": ".py",
   "mimetype": "text/x-python",
   "name": "python",
   "nbconvert_exporter": "python",
   "pygments_lexer": "ipython3",
   "version": "3.9.5"
  },
  "papermill": {
   "default_parameters": {},
   "duration": 6.340558,
   "end_time": "2021-09-04T08:30:10.872850",
   "environment_variables": {},
   "exception": null,
   "input_path": "eBay_Overview.ipynb",
   "output_path": "eBay_Overview.ipynb",
   "parameters": {},
   "start_time": "2021-09-04T08:30:04.532292",
   "version": "2.3.3"
  }
 },
 "nbformat": 4,
 "nbformat_minor": 5
}