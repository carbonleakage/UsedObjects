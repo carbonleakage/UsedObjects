{
 "cells": [
  {
   "cell_type": "code",
   "execution_count": 1,
   "id": "reverse-picking",
   "metadata": {
    "execution": {
     "iopub.execute_input": "2021-08-09T16:00:04.507022Z",
     "iopub.status.busy": "2021-08-09T16:00:04.506258Z",
     "iopub.status.idle": "2021-08-09T16:00:05.303101Z",
     "shell.execute_reply": "2021-08-09T16:00:05.303936Z"
    },
    "papermill": {
     "duration": 0.816818,
     "end_time": "2021-08-09T16:00:05.304351",
     "exception": false,
     "start_time": "2021-08-09T16:00:04.487533",
     "status": "completed"
    },
    "tags": []
   },
   "outputs": [],
   "source": [
    "import pandas as pd\n",
    "import sqlite3"
   ]
  },
  {
   "cell_type": "code",
   "execution_count": 2,
   "id": "innovative-syndrome",
   "metadata": {
    "execution": {
     "iopub.execute_input": "2021-08-09T16:00:05.335082Z",
     "iopub.status.busy": "2021-08-09T16:00:05.333700Z",
     "iopub.status.idle": "2021-08-09T16:00:05.617966Z",
     "shell.execute_reply": "2021-08-09T16:00:05.618779Z"
    },
    "papermill": {
     "duration": 0.302827,
     "end_time": "2021-08-09T16:00:05.619054",
     "exception": false,
     "start_time": "2021-08-09T16:00:05.316227",
     "status": "completed"
    },
    "tags": []
   },
   "outputs": [],
   "source": [
    "timestamps = pd.read_sql(\"select distinct record_time from EBAY_TOP_BERLIN order by record_time desc limit 2\", sqlite3.connect(\"UsedObjects.db\"))"
   ]
  },
  {
   "cell_type": "code",
   "execution_count": 3,
   "id": "periodic-identification",
   "metadata": {
    "execution": {
     "iopub.execute_input": "2021-08-09T16:00:05.647744Z",
     "iopub.status.busy": "2021-08-09T16:00:05.646918Z",
     "iopub.status.idle": "2021-08-09T16:00:05.657914Z",
     "shell.execute_reply": "2021-08-09T16:00:05.657317Z"
    },
    "papermill": {
     "duration": 0.029851,
     "end_time": "2021-08-09T16:00:05.658064",
     "exception": false,
     "start_time": "2021-08-09T16:00:05.628213",
     "status": "completed"
    },
    "tags": []
   },
   "outputs": [
    {
     "data": {
      "text/html": [
       "<div>\n",
       "<style scoped>\n",
       "    .dataframe tbody tr th:only-of-type {\n",
       "        vertical-align: middle;\n",
       "    }\n",
       "\n",
       "    .dataframe tbody tr th {\n",
       "        vertical-align: top;\n",
       "    }\n",
       "\n",
       "    .dataframe thead th {\n",
       "        text-align: right;\n",
       "    }\n",
       "</style>\n",
       "<table border=\"1\" class=\"dataframe\">\n",
       "  <thead>\n",
       "    <tr style=\"text-align: right;\">\n",
       "      <th></th>\n",
       "      <th>RECORD_TIME</th>\n",
       "    </tr>\n",
       "  </thead>\n",
       "  <tbody>\n",
       "    <tr>\n",
       "      <th>0</th>\n",
       "      <td>2021-08-09 18:00</td>\n",
       "    </tr>\n",
       "    <tr>\n",
       "      <th>1</th>\n",
       "      <td>2021-08-09 17:30</td>\n",
       "    </tr>\n",
       "  </tbody>\n",
       "</table>\n",
       "</div>"
      ],
      "text/plain": [
       "        RECORD_TIME\n",
       "0  2021-08-09 18:00\n",
       "1  2021-08-09 17:30"
      ]
     },
     "execution_count": 3,
     "metadata": {},
     "output_type": "execute_result"
    }
   ],
   "source": [
    "timestamps"
   ]
  },
  {
   "cell_type": "code",
   "execution_count": 4,
   "id": "alternate-victory",
   "metadata": {
    "execution": {
     "iopub.execute_input": "2021-08-09T16:00:05.684782Z",
     "iopub.status.busy": "2021-08-09T16:00:05.684010Z",
     "iopub.status.idle": "2021-08-09T16:00:05.694015Z",
     "shell.execute_reply": "2021-08-09T16:00:05.693295Z"
    },
    "papermill": {
     "duration": 0.026173,
     "end_time": "2021-08-09T16:00:05.694169",
     "exception": false,
     "start_time": "2021-08-09T16:00:05.667996",
     "status": "completed"
    },
    "tags": []
   },
   "outputs": [],
   "source": [
    "df = pd.read_sql(\"select * from EBAY_TOP_BERLIN where record_time in (select distinct record_time from EBAY_TOP_BERLIN order by record_time desc limit 2)\", sqlite3.connect(\"UsedObjects.db\"))"
   ]
  },
  {
   "cell_type": "code",
   "execution_count": 5,
   "id": "popular-active",
   "metadata": {
    "execution": {
     "iopub.execute_input": "2021-08-09T16:00:05.722754Z",
     "iopub.status.busy": "2021-08-09T16:00:05.721984Z",
     "iopub.status.idle": "2021-08-09T16:00:05.786800Z",
     "shell.execute_reply": "2021-08-09T16:00:05.787337Z"
    },
    "papermill": {
     "duration": 0.08245,
     "end_time": "2021-08-09T16:00:05.787522",
     "exception": false,
     "start_time": "2021-08-09T16:00:05.705072",
     "status": "completed"
    },
    "tags": []
   },
   "outputs": [],
   "source": [
    "df_pivot = df.pivot_table(index=\"PRODUCT\", columns = \"RECORD_TIME\", values = \"LISTING_COUNT\")"
   ]
  },
  {
   "cell_type": "code",
   "execution_count": 6,
   "id": "union-huntington",
   "metadata": {
    "execution": {
     "iopub.execute_input": "2021-08-09T16:00:05.819850Z",
     "iopub.status.busy": "2021-08-09T16:00:05.819163Z",
     "iopub.status.idle": "2021-08-09T16:00:05.825004Z",
     "shell.execute_reply": "2021-08-09T16:00:05.824385Z"
    },
    "papermill": {
     "duration": 0.026961,
     "end_time": "2021-08-09T16:00:05.825169",
     "exception": false,
     "start_time": "2021-08-09T16:00:05.798208",
     "status": "completed"
    },
    "tags": []
   },
   "outputs": [],
   "source": [
    "df_pivot.columns = [\"stamp_1\", \"stamp_2\"]\n",
    "df_pivot_diff = df_pivot.diff(axis=1)"
   ]
  },
  {
   "cell_type": "code",
   "execution_count": 7,
   "id": "fifth-motion",
   "metadata": {
    "execution": {
     "iopub.execute_input": "2021-08-09T16:00:05.852510Z",
     "iopub.status.busy": "2021-08-09T16:00:05.851719Z",
     "iopub.status.idle": "2021-08-09T16:00:06.747674Z",
     "shell.execute_reply": "2021-08-09T16:00:06.748212Z"
    },
    "papermill": {
     "duration": 0.911551,
     "end_time": "2021-08-09T16:00:06.748395",
     "exception": false,
     "start_time": "2021-08-09T16:00:05.836844",
     "status": "completed"
    },
    "tags": []
   },
   "outputs": [
    {
     "data": {
      "text/plain": [
       "<AxesSubplot:ylabel='PRODUCT'>"
      ]
     },
     "execution_count": 7,
     "metadata": {},
     "output_type": "execute_result"
    },
    {
     "data": {
      "image/png": "[encoded data removed]",
      "text/plain": [
       "<Figure size 432x288 with 1 Axes>"
      ]
     },
     "metadata": {
      "needs_background": "light"
     },
     "output_type": "display_data"
    }
   ],
   "source": [
    "df_pivot_diff.sort_values(\"stamp_2\", ascending = False)[\"stamp_2\"].head(10).plot.barh()"
   ]
  },
  {
   "cell_type": "code",
   "execution_count": null,
   "id": "extra-executive",
   "metadata": {
    "papermill": {
     "duration": 0.010235,
     "end_time": "2021-08-09T16:00:06.773844",
     "exception": false,
     "start_time": "2021-08-09T16:00:06.763609",
     "status": "completed"
    },
    "tags": []
   },
   "outputs": [],
   "source": []
  }
 ],
 "metadata": {
  "kernelspec": {
   "display_name": "Python 3",
   "language": "python",
   "name": "python3"
  },
  "language_info": {
   "codemirror_mode": {
    "name": "ipython",
    "version": 3
   },
   "file_extension": ".py",
   "mimetype": "text/x-python",
   "name": "python",
   "nbconvert_exporter": "python",
   "pygments_lexer": "ipython3",
   "version": "3.8.8"
  },
  "papermill": {
   "default_parameters": {},
   "duration": 4.337878,
   "end_time": "2021-08-09T16:00:07.271317",
   "environment_variables": {},
   "exception": null,
   "input_path": "/Users/saravananshanmugam/Carbonleakage_Git/UsedObjects/eBay_Overview.ipynb",
   "output_path": "/Users/saravananshanmugam/Carbonleakage_Git/UsedObjects/eBay_Overview.ipynb",
   "parameters": {},
   "start_time": "2021-08-09T16:00:02.933439",
   "version": "2.3.3"
  }
 },
 "nbformat": 4,
 "nbformat_minor": 5
}