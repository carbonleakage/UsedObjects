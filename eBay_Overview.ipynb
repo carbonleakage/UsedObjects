{
 "cells": [
  {
   "cell_type": "code",
   "execution_count": 1,
   "id": "reverse-picking",
   "metadata": {
    "execution": {
     "iopub.execute_input": "2021-10-25T05:00:07.481969Z",
     "iopub.status.busy": "2021-10-25T05:00:07.479935Z",
     "iopub.status.idle": "2021-10-25T05:00:08.294958Z",
     "shell.execute_reply": "2021-10-25T05:00:08.293198Z"
    },
    "papermill": {
     "duration": 0.863566,
     "end_time": "2021-10-25T05:00:08.295370",
     "exception": false,
     "start_time": "2021-10-25T05:00:07.431804",
     "status": "completed"
    },
    "tags": []
   },
   "outputs": [],
   "source": [
    "import pandas as pd\n",
    "import sqlite3"
   ]
  },
  {
   "cell_type": "code",
   "execution_count": 2,
   "id": "innovative-syndrome",
   "metadata": {
    "execution": {
     "iopub.execute_input": "2021-10-25T05:00:08.346062Z",
     "iopub.status.busy": "2021-10-25T05:00:08.344061Z",
     "iopub.status.idle": "2021-10-25T05:00:08.962022Z",
     "shell.execute_reply": "2021-10-25T05:00:08.963237Z"
    },
    "papermill": {
     "duration": 0.647766,
     "end_time": "2021-10-25T05:00:08.963629",
     "exception": false,
     "start_time": "2021-10-25T05:00:08.315863",
     "status": "completed"
    },
    "tags": []
   },
   "outputs": [],
   "source": [
    "timestamps = pd.read_sql(\"select distinct record_time from EBAY_TOP_BERLIN order by record_time desc limit 2\", sqlite3.connect(\"UsedObjects.db\"))"
   ]
  },
  {
   "cell_type": "code",
   "execution_count": 3,
   "id": "periodic-identification",
   "metadata": {
    "execution": {
     "iopub.execute_input": "2021-10-25T05:00:09.040274Z",
     "iopub.status.busy": "2021-10-25T05:00:09.038258Z",
     "iopub.status.idle": "2021-10-25T05:00:09.057755Z",
     "shell.execute_reply": "2021-10-25T05:00:09.059025Z"
    },
    "papermill": {
     "duration": 0.069932,
     "end_time": "2021-10-25T05:00:09.059419",
     "exception": false,
     "start_time": "2021-10-25T05:00:08.989487",
     "status": "completed"
    },
    "tags": []
   },
   "outputs": [
    {
     "data": {
      "text/html": [
       "<div>\n",
       "<style scoped>\n",
       "    .dataframe tbody tr th:only-of-type {\n",
       "        vertical-align: middle;\n",
       "    }\n",
       "\n",
       "    .dataframe tbody tr th {\n",
       "        vertical-align: top;\n",
       "    }\n",
       "\n",
       "    .dataframe thead th {\n",
       "        text-align: right;\n",
       "    }\n",
       "</style>\n",
       "<table border=\"1\" class=\"dataframe\">\n",
       "  <thead>\n",
       "    <tr style=\"text-align: right;\">\n",
       "      <th></th>\n",
       "      <th>RECORD_TIME</th>\n",
       "    </tr>\n",
       "  </thead>\n",
       "  <tbody>\n",
       "    <tr>\n",
       "      <th>0</th>\n",
       "      <td>2021-10-25 07:00</td>\n",
       "    </tr>\n",
       "    <tr>\n",
       "      <th>1</th>\n",
       "      <td>2021-10-25 06:30</td>\n",
       "    </tr>\n",
       "  </tbody>\n",
       "</table>\n",
       "</div>"
      ],
      "text/plain": [
       "        RECORD_TIME\n",
       "0  2021-10-25 07:00\n",
       "1  2021-10-25 06:30"
      ]
     },
     "execution_count": 3,
     "metadata": {},
     "output_type": "execute_result"
    }
   ],
   "source": [
    "timestamps"
   ]
  },
  {
   "cell_type": "code",
   "execution_count": 4,
   "id": "alternate-victory",
   "metadata": {
    "execution": {
     "iopub.execute_input": "2021-10-25T05:00:09.112797Z",
     "iopub.status.busy": "2021-10-25T05:00:09.110441Z",
     "iopub.status.idle": "2021-10-25T05:00:10.047552Z",
     "shell.execute_reply": "2021-10-25T05:00:10.048786Z"
    },
    "papermill": {
     "duration": 0.967945,
     "end_time": "2021-10-25T05:00:10.049230",
     "exception": false,
     "start_time": "2021-10-25T05:00:09.081285",
     "status": "completed"
    },
    "tags": []
   },
   "outputs": [],
   "source": [
    "df = pd.read_sql(\"select * from EBAY_TOP_BERLIN where record_time in (select distinct record_time from EBAY_TOP_BERLIN order by record_time desc limit 2)\", sqlite3.connect(\"UsedObjects.db\"))"
   ]
  },
  {
   "cell_type": "code",
   "execution_count": 5,
   "id": "popular-active",
   "metadata": {
    "execution": {
     "iopub.execute_input": "2021-10-25T05:00:10.119900Z",
     "iopub.status.busy": "2021-10-25T05:00:10.107985Z",
     "iopub.status.idle": "2021-10-25T05:00:10.138944Z",
     "shell.execute_reply": "2021-10-25T05:00:10.137450Z"
    },
    "papermill": {
     "duration": 0.069085,
     "end_time": "2021-10-25T05:00:10.139315",
     "exception": false,
     "start_time": "2021-10-25T05:00:10.070230",
     "status": "completed"
    },
    "tags": []
   },
   "outputs": [],
   "source": [
    "df_pivot = df.pivot_table(index=\"PRODUCT\", columns = \"RECORD_TIME\", values = \"LISTING_COUNT\")"
   ]
  },
  {
   "cell_type": "code",
   "execution_count": 6,
   "id": "union-huntington",
   "metadata": {
    "execution": {
     "iopub.execute_input": "2021-10-25T05:00:10.196721Z",
     "iopub.status.busy": "2021-10-25T05:00:10.194616Z",
     "iopub.status.idle": "2021-10-25T05:00:10.200042Z",
     "shell.execute_reply": "2021-10-25T05:00:10.201303Z"
    },
    "papermill": {
     "duration": 0.041757,
     "end_time": "2021-10-25T05:00:10.201743",
     "exception": false,
     "start_time": "2021-10-25T05:00:10.159986",
     "status": "completed"
    },
    "tags": []
   },
   "outputs": [],
   "source": [
    "df_pivot.columns = [\"stamp_1\", \"stamp_2\"]\n",
    "df_pivot_diff = df_pivot.diff(axis=1)"
   ]
  },
  {
   "cell_type": "code",
   "execution_count": 7,
   "id": "fifth-motion",
   "metadata": {
    "execution": {
     "iopub.execute_input": "2021-10-25T05:00:10.259622Z",
     "iopub.status.busy": "2021-10-25T05:00:10.256975Z",
     "iopub.status.idle": "2021-10-25T05:00:11.762106Z",
     "shell.execute_reply": "2021-10-25T05:00:11.763302Z"
    },
    "papermill": {
     "duration": 1.538727,
     "end_time": "2021-10-25T05:00:11.763730",
     "exception": false,
     "start_time": "2021-10-25T05:00:10.225003",
     "status": "completed"
    },
    "tags": []
   },
   "outputs": [
    {
     "data": {
      "text/plain": [
       "<AxesSubplot:ylabel='PRODUCT'>"
      ]
     },
     "execution_count": 7,
     "metadata": {},
     "output_type": "execute_result"
    },
    {
     "data": {
      "image/png": "[encoded data removed]",
      "text/plain": [
       "<Figure size 432x288 with 1 Axes>"
      ]
     },
     "metadata": {
      "needs_background": "light"
     },
     "output_type": "display_data"
    }
   ],
   "source": [
    "df_pivot_diff.sort_values(\"stamp_2\", ascending = False)[\"stamp_2\"].head(10).plot.barh()"
   ]
  },
  {
   "cell_type": "code",
   "execution_count": null,
   "id": "extra-executive",
   "metadata": {
    "papermill": {
     "duration": 0.022528,
     "end_time": "2021-10-25T05:00:11.810609",
     "exception": false,
     "start_time": "2021-10-25T05:00:11.788081",
     "status": "completed"
    },
    "tags": []
   },
   "outputs": [],
   "source": []
  }
 ],
 "metadata": {
  "kernelspec": {
   "display_name": "Python 3",
   "language": "python",
   "name": "python3"
  },
  "language_info": {
   "codemirror_mode": {
    "name": "ipython",
    "version": 3
   },
   "file_extension": ".py",
   "mimetype": "text/x-python",
   "name": "python",
   "nbconvert_exporter": "python",
   "pygments_lexer": "ipython3",
   "version": "3.9.5"
  },
  "papermill": {
   "default_parameters": {},
   "duration": 7.43659,
   "end_time": "2021-10-25T05:00:12.452148",
   "environment_variables": {},
   "exception": null,
   "input_path": "eBay_Overview.ipynb",
   "output_path": "eBay_Overview.ipynb",
   "parameters": {},
   "start_time": "2021-10-25T05:00:05.015558",
   "version": "2.3.3"
  }
 },
 "nbformat": 4,
 "nbformat_minor": 5
}