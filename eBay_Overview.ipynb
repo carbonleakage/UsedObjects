{
 "cells": [
  {
   "cell_type": "code",
   "execution_count": 1,
   "id": "reverse-picking",
   "metadata": {
    "execution": {
     "iopub.execute_input": "2021-10-19T08:30:07.526426Z",
     "iopub.status.busy": "2021-10-19T08:30:07.524328Z",
     "iopub.status.idle": "2021-10-19T08:30:08.330104Z",
     "shell.execute_reply": "2021-10-19T08:30:08.331366Z"
    },
    "papermill": {
     "duration": 0.858071,
     "end_time": "2021-10-19T08:30:08.331980",
     "exception": false,
     "start_time": "2021-10-19T08:30:07.473909",
     "status": "completed"
    },
    "tags": []
   },
   "outputs": [],
   "source": [
    "import pandas as pd\n",
    "import sqlite3"
   ]
  },
  {
   "cell_type": "code",
   "execution_count": 2,
   "id": "innovative-syndrome",
   "metadata": {
    "execution": {
     "iopub.execute_input": "2021-10-19T08:30:08.386140Z",
     "iopub.status.busy": "2021-10-19T08:30:08.383718Z",
     "iopub.status.idle": "2021-10-19T08:30:08.978754Z",
     "shell.execute_reply": "2021-10-19T08:30:08.979893Z"
    },
    "papermill": {
     "duration": 0.625137,
     "end_time": "2021-10-19T08:30:08.980304",
     "exception": false,
     "start_time": "2021-10-19T08:30:08.355167",
     "status": "completed"
    },
    "tags": []
   },
   "outputs": [],
   "source": [
    "timestamps = pd.read_sql(\"select distinct record_time from EBAY_TOP_BERLIN order by record_time desc limit 2\", sqlite3.connect(\"UsedObjects.db\"))"
   ]
  },
  {
   "cell_type": "code",
   "execution_count": 3,
   "id": "periodic-identification",
   "metadata": {
    "execution": {
     "iopub.execute_input": "2021-10-19T08:30:09.057388Z",
     "iopub.status.busy": "2021-10-19T08:30:09.055254Z",
     "iopub.status.idle": "2021-10-19T08:30:09.077134Z",
     "shell.execute_reply": "2021-10-19T08:30:09.075450Z"
    },
    "papermill": {
     "duration": 0.066297,
     "end_time": "2021-10-19T08:30:09.077544",
     "exception": false,
     "start_time": "2021-10-19T08:30:09.011247",
     "status": "completed"
    },
    "tags": []
   },
   "outputs": [
    {
     "data": {
      "text/html": [
       "<div>\n",
       "<style scoped>\n",
       "    .dataframe tbody tr th:only-of-type {\n",
       "        vertical-align: middle;\n",
       "    }\n",
       "\n",
       "    .dataframe tbody tr th {\n",
       "        vertical-align: top;\n",
       "    }\n",
       "\n",
       "    .dataframe thead th {\n",
       "        text-align: right;\n",
       "    }\n",
       "</style>\n",
       "<table border=\"1\" class=\"dataframe\">\n",
       "  <thead>\n",
       "    <tr style=\"text-align: right;\">\n",
       "      <th></th>\n",
       "      <th>RECORD_TIME</th>\n",
       "    </tr>\n",
       "  </thead>\n",
       "  <tbody>\n",
       "    <tr>\n",
       "      <th>0</th>\n",
       "      <td>2021-10-19 10:30</td>\n",
       "    </tr>\n",
       "    <tr>\n",
       "      <th>1</th>\n",
       "      <td>2021-10-19 10:00</td>\n",
       "    </tr>\n",
       "  </tbody>\n",
       "</table>\n",
       "</div>"
      ],
      "text/plain": [
       "        RECORD_TIME\n",
       "0  2021-10-19 10:30\n",
       "1  2021-10-19 10:00"
      ]
     },
     "execution_count": 3,
     "metadata": {},
     "output_type": "execute_result"
    }
   ],
   "source": [
    "timestamps"
   ]
  },
  {
   "cell_type": "code",
   "execution_count": 4,
   "id": "alternate-victory",
   "metadata": {
    "execution": {
     "iopub.execute_input": "2021-10-19T08:30:09.129711Z",
     "iopub.status.busy": "2021-10-19T08:30:09.127766Z",
     "iopub.status.idle": "2021-10-19T08:30:10.001456Z",
     "shell.execute_reply": "2021-10-19T08:30:10.002698Z"
    },
    "papermill": {
     "duration": 0.90374,
     "end_time": "2021-10-19T08:30:10.003099",
     "exception": false,
     "start_time": "2021-10-19T08:30:09.099359",
     "status": "completed"
    },
    "tags": []
   },
   "outputs": [],
   "source": [
    "df = pd.read_sql(\"select * from EBAY_TOP_BERLIN where record_time in (select distinct record_time from EBAY_TOP_BERLIN order by record_time desc limit 2)\", sqlite3.connect(\"UsedObjects.db\"))"
   ]
  },
  {
   "cell_type": "code",
   "execution_count": 5,
   "id": "popular-active",
   "metadata": {
    "execution": {
     "iopub.execute_input": "2021-10-19T08:30:10.074163Z",
     "iopub.status.busy": "2021-10-19T08:30:10.068302Z",
     "iopub.status.idle": "2021-10-19T08:30:10.089489Z",
     "shell.execute_reply": "2021-10-19T08:30:10.090749Z"
    },
    "papermill": {
     "duration": 0.067196,
     "end_time": "2021-10-19T08:30:10.091150",
     "exception": false,
     "start_time": "2021-10-19T08:30:10.023954",
     "status": "completed"
    },
    "tags": []
   },
   "outputs": [],
   "source": [
    "df_pivot = df.pivot_table(index=\"PRODUCT\", columns = \"RECORD_TIME\", values = \"LISTING_COUNT\")"
   ]
  },
  {
   "cell_type": "code",
   "execution_count": 6,
   "id": "union-huntington",
   "metadata": {
    "execution": {
     "iopub.execute_input": "2021-10-19T08:30:10.147236Z",
     "iopub.status.busy": "2021-10-19T08:30:10.145240Z",
     "iopub.status.idle": "2021-10-19T08:30:10.151475Z",
     "shell.execute_reply": "2021-10-19T08:30:10.150153Z"
    },
    "papermill": {
     "duration": 0.039761,
     "end_time": "2021-10-19T08:30:10.151811",
     "exception": false,
     "start_time": "2021-10-19T08:30:10.112050",
     "status": "completed"
    },
    "tags": []
   },
   "outputs": [],
   "source": [
    "df_pivot.columns = [\"stamp_1\", \"stamp_2\"]\n",
    "df_pivot_diff = df_pivot.diff(axis=1)"
   ]
  },
  {
   "cell_type": "code",
   "execution_count": 7,
   "id": "fifth-motion",
   "metadata": {
    "execution": {
     "iopub.execute_input": "2021-10-19T08:30:10.207857Z",
     "iopub.status.busy": "2021-10-19T08:30:10.205232Z",
     "iopub.status.idle": "2021-10-19T08:30:11.716832Z",
     "shell.execute_reply": "2021-10-19T08:30:11.718151Z"
    },
    "papermill": {
     "duration": 1.54545,
     "end_time": "2021-10-19T08:30:11.718573",
     "exception": false,
     "start_time": "2021-10-19T08:30:10.173123",
     "status": "completed"
    },
    "tags": []
   },
   "outputs": [
    {
     "data": {
      "text/plain": [
       "<AxesSubplot:ylabel='PRODUCT'>"
      ]
     },
     "execution_count": 7,
     "metadata": {},
     "output_type": "execute_result"
    },
    {
     "data": {
      "image/png": "[encoded data removed]",
      "text/plain": [
       "<Figure size 432x288 with 1 Axes>"
      ]
     },
     "metadata": {
      "needs_background": "light"
     },
     "output_type": "display_data"
    }
   ],
   "source": [
    "df_pivot_diff.sort_values(\"stamp_2\", ascending = False)[\"stamp_2\"].head(10).plot.barh()"
   ]
  },
  {
   "cell_type": "code",
   "execution_count": null,
   "id": "extra-executive",
   "metadata": {
    "papermill": {
     "duration": 0.022464,
     "end_time": "2021-10-19T08:30:11.766153",
     "exception": false,
     "start_time": "2021-10-19T08:30:11.743689",
     "status": "completed"
    },
    "tags": []
   },
   "outputs": [],
   "source": []
  }
 ],
 "metadata": {
  "kernelspec": {
   "display_name": "Python 3",
   "language": "python",
   "name": "python3"
  },
  "language_info": {
   "codemirror_mode": {
    "name": "ipython",
    "version": 3
   },
   "file_extension": ".py",
   "mimetype": "text/x-python",
   "name": "python",
   "nbconvert_exporter": "python",
   "pygments_lexer": "ipython3",
   "version": "3.9.5"
  },
  "papermill": {
   "default_parameters": {},
   "duration": 7.336135,
   "end_time": "2021-10-19T08:30:12.409278",
   "environment_variables": {},
   "exception": null,
   "input_path": "eBay_Overview.ipynb",
   "output_path": "eBay_Overview.ipynb",
   "parameters": {},
   "start_time": "2021-10-19T08:30:05.073143",
   "version": "2.3.3"
  }
 },
 "nbformat": 4,
 "nbformat_minor": 5
}