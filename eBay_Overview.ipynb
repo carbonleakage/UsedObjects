{
 "cells": [
  {
   "cell_type": "code",
   "execution_count": 1,
   "id": "reverse-picking",
   "metadata": {
    "execution": {
     "iopub.execute_input": "2021-11-27T00:30:08.181155Z",
     "iopub.status.busy": "2021-11-27T00:30:08.178793Z",
     "iopub.status.idle": "2021-11-27T00:30:09.138246Z",
     "shell.execute_reply": "2021-11-27T00:30:09.139964Z"
    },
    "papermill": {
     "duration": 1.008958,
     "end_time": "2021-11-27T00:30:09.140866",
     "exception": false,
     "start_time": "2021-11-27T00:30:08.131908",
     "status": "completed"
    },
    "tags": []
   },
   "outputs": [],
   "source": [
    "import pandas as pd\n",
    "import sqlite3"
   ]
  },
  {
   "cell_type": "code",
   "execution_count": 2,
   "id": "innovative-syndrome",
   "metadata": {
    "execution": {
     "iopub.execute_input": "2021-11-27T00:30:09.214758Z",
     "iopub.status.busy": "2021-11-27T00:30:09.211209Z",
     "iopub.status.idle": "2021-11-27T00:30:10.147797Z",
     "shell.execute_reply": "2021-11-27T00:30:10.149909Z"
    },
    "papermill": {
     "duration": 0.972388,
     "end_time": "2021-11-27T00:30:10.150368",
     "exception": false,
     "start_time": "2021-11-27T00:30:09.177980",
     "status": "completed"
    },
    "tags": []
   },
   "outputs": [],
   "source": [
    "timestamps = pd.read_sql(\"select distinct record_time from EBAY_TOP_BERLIN order by record_time desc limit 2\", sqlite3.connect(\"UsedObjects.db\"))"
   ]
  },
  {
   "cell_type": "code",
   "execution_count": 3,
   "id": "periodic-identification",
   "metadata": {
    "execution": {
     "iopub.execute_input": "2021-11-27T00:30:10.218727Z",
     "iopub.status.busy": "2021-11-27T00:30:10.213694Z",
     "iopub.status.idle": "2021-11-27T00:30:10.234439Z",
     "shell.execute_reply": "2021-11-27T00:30:10.235798Z"
    },
    "papermill": {
     "duration": 0.065437,
     "end_time": "2021-11-27T00:30:10.236238",
     "exception": false,
     "start_time": "2021-11-27T00:30:10.170801",
     "status": "completed"
    },
    "tags": []
   },
   "outputs": [
    {
     "data": {
      "text/html": [
       "<div>\n",
       "<style scoped>\n",
       "    .dataframe tbody tr th:only-of-type {\n",
       "        vertical-align: middle;\n",
       "    }\n",
       "\n",
       "    .dataframe tbody tr th {\n",
       "        vertical-align: top;\n",
       "    }\n",
       "\n",
       "    .dataframe thead th {\n",
       "        text-align: right;\n",
       "    }\n",
       "</style>\n",
       "<table border=\"1\" class=\"dataframe\">\n",
       "  <thead>\n",
       "    <tr style=\"text-align: right;\">\n",
       "      <th></th>\n",
       "      <th>RECORD_TIME</th>\n",
       "    </tr>\n",
       "  </thead>\n",
       "  <tbody>\n",
       "    <tr>\n",
       "      <th>0</th>\n",
       "      <td>2021-11-27 01:30</td>\n",
       "    </tr>\n",
       "    <tr>\n",
       "      <th>1</th>\n",
       "      <td>2021-11-27 01:00</td>\n",
       "    </tr>\n",
       "  </tbody>\n",
       "</table>\n",
       "</div>"
      ],
      "text/plain": [
       "        RECORD_TIME\n",
       "0  2021-11-27 01:30\n",
       "1  2021-11-27 01:00"
      ]
     },
     "execution_count": 3,
     "metadata": {},
     "output_type": "execute_result"
    }
   ],
   "source": [
    "timestamps"
   ]
  },
  {
   "cell_type": "code",
   "execution_count": 4,
   "id": "alternate-victory",
   "metadata": {
    "execution": {
     "iopub.execute_input": "2021-11-27T00:30:10.288779Z",
     "iopub.status.busy": "2021-11-27T00:30:10.286454Z",
     "iopub.status.idle": "2021-11-27T00:30:11.606195Z",
     "shell.execute_reply": "2021-11-27T00:30:11.608282Z"
    },
    "papermill": {
     "duration": 1.351324,
     "end_time": "2021-11-27T00:30:11.608857",
     "exception": false,
     "start_time": "2021-11-27T00:30:10.257533",
     "status": "completed"
    },
    "tags": []
   },
   "outputs": [],
   "source": [
    "df = pd.read_sql(\"select * from EBAY_TOP_BERLIN where record_time in (select distinct record_time from EBAY_TOP_BERLIN order by record_time desc limit 2)\", sqlite3.connect(\"UsedObjects.db\"))"
   ]
  },
  {
   "cell_type": "code",
   "execution_count": 5,
   "id": "popular-active",
   "metadata": {
    "execution": {
     "iopub.execute_input": "2021-11-27T00:30:11.672658Z",
     "iopub.status.busy": "2021-11-27T00:30:11.670384Z",
     "iopub.status.idle": "2021-11-27T00:30:11.707518Z",
     "shell.execute_reply": "2021-11-27T00:30:11.705919Z"
    },
    "papermill": {
     "duration": 0.077873,
     "end_time": "2021-11-27T00:30:11.707973",
     "exception": false,
     "start_time": "2021-11-27T00:30:11.630100",
     "status": "completed"
    },
    "tags": []
   },
   "outputs": [],
   "source": [
    "df_pivot = df.pivot_table(index=\"PRODUCT\", columns = \"RECORD_TIME\", values = \"LISTING_COUNT\")"
   ]
  },
  {
   "cell_type": "code",
   "execution_count": 6,
   "id": "union-huntington",
   "metadata": {
    "execution": {
     "iopub.execute_input": "2021-11-27T00:30:11.772778Z",
     "iopub.status.busy": "2021-11-27T00:30:11.770592Z",
     "iopub.status.idle": "2021-11-27T00:30:11.777228Z",
     "shell.execute_reply": "2021-11-27T00:30:11.780331Z"
    },
    "papermill": {
     "duration": 0.051767,
     "end_time": "2021-11-27T00:30:11.781198",
     "exception": false,
     "start_time": "2021-11-27T00:30:11.729431",
     "status": "completed"
    },
    "tags": []
   },
   "outputs": [],
   "source": [
    "df_pivot.columns = [\"stamp_1\", \"stamp_2\"]\n",
    "df_pivot_diff = df_pivot.diff(axis=1)"
   ]
  },
  {
   "cell_type": "code",
   "execution_count": 7,
   "id": "fifth-motion",
   "metadata": {
    "execution": {
     "iopub.execute_input": "2021-11-27T00:30:11.849220Z",
     "iopub.status.busy": "2021-11-27T00:30:11.847033Z",
     "iopub.status.idle": "2021-11-27T00:30:13.811175Z",
     "shell.execute_reply": "2021-11-27T00:30:13.813813Z"
    },
    "papermill": {
     "duration": 2.009545,
     "end_time": "2021-11-27T00:30:13.814664",
     "exception": false,
     "start_time": "2021-11-27T00:30:11.805119",
     "status": "completed"
    },
    "tags": []
   },
   "outputs": [
    {
     "data": {
      "text/plain": [
       "<AxesSubplot:ylabel='PRODUCT'>"
      ]
     },
     "execution_count": 7,
     "metadata": {},
     "output_type": "execute_result"
    },
    {
     "data": {
      "image/png": "[encoded data removed]",
      "text/plain": [
       "<Figure size 432x288 with 1 Axes>"
      ]
     },
     "metadata": {
      "needs_background": "light"
     },
     "output_type": "display_data"
    }
   ],
   "source": [
    "df_pivot_diff.sort_values(\"stamp_2\", ascending = False)[\"stamp_2\"].head(10).plot.barh()"
   ]
  },
  {
   "cell_type": "code",
   "execution_count": null,
   "id": "extra-executive",
   "metadata": {
    "papermill": {
     "duration": 0.035255,
     "end_time": "2021-11-27T00:30:13.888824",
     "exception": false,
     "start_time": "2021-11-27T00:30:13.853569",
     "status": "completed"
    },
    "tags": []
   },
   "outputs": [],
   "source": []
  }
 ],
 "metadata": {
  "kernelspec": {
   "display_name": "Python 3",
   "language": "python",
   "name": "python3"
  },
  "language_info": {
   "codemirror_mode": {
    "name": "ipython",
    "version": 3
   },
   "file_extension": ".py",
   "mimetype": "text/x-python",
   "name": "python",
   "nbconvert_exporter": "python",
   "pygments_lexer": "ipython3",
   "version": "3.9.5"
  },
  "papermill": {
   "default_parameters": {},
   "duration": 9.94458,
   "end_time": "2021-11-27T00:30:15.338378",
   "environment_variables": {},
   "exception": null,
   "input_path": "eBay_Overview.ipynb",
   "output_path": "eBay_Overview.ipynb",
   "parameters": {},
   "start_time": "2021-11-27T00:30:05.393798",
   "version": "2.3.3"
  }
 },
 "nbformat": 4,
 "nbformat_minor": 5
}