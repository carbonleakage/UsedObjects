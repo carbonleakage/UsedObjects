{
 "cells": [
  {
   "cell_type": "code",
   "execution_count": 1,
   "id": "reverse-picking",
   "metadata": {
    "execution": {
     "iopub.execute_input": "2021-12-13T18:30:08.013802Z",
     "iopub.status.busy": "2021-12-13T18:30:08.011720Z",
     "iopub.status.idle": "2021-12-13T18:30:08.975087Z",
     "shell.execute_reply": "2021-12-13T18:30:08.976622Z"
    },
    "papermill": {
     "duration": 1.01229,
     "end_time": "2021-12-13T18:30:08.977459",
     "exception": false,
     "start_time": "2021-12-13T18:30:07.965169",
     "status": "completed"
    },
    "tags": []
   },
   "outputs": [],
   "source": [
    "import pandas as pd\n",
    "import sqlite3"
   ]
  },
  {
   "cell_type": "code",
   "execution_count": 2,
   "id": "innovative-syndrome",
   "metadata": {
    "execution": {
     "iopub.execute_input": "2021-12-13T18:30:09.040657Z",
     "iopub.status.busy": "2021-12-13T18:30:09.038179Z",
     "iopub.status.idle": "2021-12-13T18:30:10.138528Z",
     "shell.execute_reply": "2021-12-13T18:30:10.140172Z"
    },
    "papermill": {
     "duration": 1.135495,
     "end_time": "2021-12-13T18:30:10.140762",
     "exception": false,
     "start_time": "2021-12-13T18:30:09.005267",
     "status": "completed"
    },
    "tags": []
   },
   "outputs": [],
   "source": [
    "timestamps = pd.read_sql(\"select distinct record_time from EBAY_TOP_BERLIN order by record_time desc limit 2\", sqlite3.connect(\"UsedObjects.db\"))"
   ]
  },
  {
   "cell_type": "code",
   "execution_count": 3,
   "id": "periodic-identification",
   "metadata": {
    "execution": {
     "iopub.execute_input": "2021-12-13T18:30:10.221402Z",
     "iopub.status.busy": "2021-12-13T18:30:10.215377Z",
     "iopub.status.idle": "2021-12-13T18:30:10.240493Z",
     "shell.execute_reply": "2021-12-13T18:30:10.238878Z"
    },
    "papermill": {
     "duration": 0.077707,
     "end_time": "2021-12-13T18:30:10.241001",
     "exception": false,
     "start_time": "2021-12-13T18:30:10.163294",
     "status": "completed"
    },
    "tags": []
   },
   "outputs": [
    {
     "data": {
      "text/html": [
       "<div>\n",
       "<style scoped>\n",
       "    .dataframe tbody tr th:only-of-type {\n",
       "        vertical-align: middle;\n",
       "    }\n",
       "\n",
       "    .dataframe tbody tr th {\n",
       "        vertical-align: top;\n",
       "    }\n",
       "\n",
       "    .dataframe thead th {\n",
       "        text-align: right;\n",
       "    }\n",
       "</style>\n",
       "<table border=\"1\" class=\"dataframe\">\n",
       "  <thead>\n",
       "    <tr style=\"text-align: right;\">\n",
       "      <th></th>\n",
       "      <th>RECORD_TIME</th>\n",
       "    </tr>\n",
       "  </thead>\n",
       "  <tbody>\n",
       "    <tr>\n",
       "      <th>0</th>\n",
       "      <td>2021-12-13 19:30</td>\n",
       "    </tr>\n",
       "    <tr>\n",
       "      <th>1</th>\n",
       "      <td>2021-12-13 19:00</td>\n",
       "    </tr>\n",
       "  </tbody>\n",
       "</table>\n",
       "</div>"
      ],
      "text/plain": [
       "        RECORD_TIME\n",
       "0  2021-12-13 19:30\n",
       "1  2021-12-13 19:00"
      ]
     },
     "execution_count": 3,
     "metadata": {},
     "output_type": "execute_result"
    }
   ],
   "source": [
    "timestamps"
   ]
  },
  {
   "cell_type": "code",
   "execution_count": 4,
   "id": "alternate-victory",
   "metadata": {
    "execution": {
     "iopub.execute_input": "2021-12-13T18:30:10.298866Z",
     "iopub.status.busy": "2021-12-13T18:30:10.296581Z",
     "iopub.status.idle": "2021-12-13T18:30:11.873595Z",
     "shell.execute_reply": "2021-12-13T18:30:11.875109Z"
    },
    "papermill": {
     "duration": 1.611524,
     "end_time": "2021-12-13T18:30:11.875558",
     "exception": false,
     "start_time": "2021-12-13T18:30:10.264034",
     "status": "completed"
    },
    "tags": []
   },
   "outputs": [],
   "source": [
    "df = pd.read_sql(\"select * from EBAY_TOP_BERLIN where record_time in (select distinct record_time from EBAY_TOP_BERLIN order by record_time desc limit 2)\", sqlite3.connect(\"UsedObjects.db\"))"
   ]
  },
  {
   "cell_type": "code",
   "execution_count": 5,
   "id": "popular-active",
   "metadata": {
    "execution": {
     "iopub.execute_input": "2021-12-13T18:30:11.954625Z",
     "iopub.status.busy": "2021-12-13T18:30:11.940480Z",
     "iopub.status.idle": "2021-12-13T18:30:11.973917Z",
     "shell.execute_reply": "2021-12-13T18:30:11.972376Z"
    },
    "papermill": {
     "duration": 0.076658,
     "end_time": "2021-12-13T18:30:11.974332",
     "exception": false,
     "start_time": "2021-12-13T18:30:11.897674",
     "status": "completed"
    },
    "tags": []
   },
   "outputs": [],
   "source": [
    "df_pivot = df.pivot_table(index=\"PRODUCT\", columns = \"RECORD_TIME\", values = \"LISTING_COUNT\")"
   ]
  },
  {
   "cell_type": "code",
   "execution_count": 6,
   "id": "union-huntington",
   "metadata": {
    "execution": {
     "iopub.execute_input": "2021-12-13T18:30:12.032662Z",
     "iopub.status.busy": "2021-12-13T18:30:12.030463Z",
     "iopub.status.idle": "2021-12-13T18:30:12.036205Z",
     "shell.execute_reply": "2021-12-13T18:30:12.037726Z"
    },
    "papermill": {
     "duration": 0.043727,
     "end_time": "2021-12-13T18:30:12.038197",
     "exception": false,
     "start_time": "2021-12-13T18:30:11.994470",
     "status": "completed"
    },
    "tags": []
   },
   "outputs": [],
   "source": [
    "df_pivot.columns = [\"stamp_1\", \"stamp_2\"]\n",
    "df_pivot_diff = df_pivot.diff(axis=1)"
   ]
  },
  {
   "cell_type": "code",
   "execution_count": 7,
   "id": "fifth-motion",
   "metadata": {
    "execution": {
     "iopub.execute_input": "2021-12-13T18:30:12.100334Z",
     "iopub.status.busy": "2021-12-13T18:30:12.097760Z",
     "iopub.status.idle": "2021-12-13T18:30:14.115777Z",
     "shell.execute_reply": "2021-12-13T18:30:14.118297Z"
    },
    "papermill": {
     "duration": 2.058856,
     "end_time": "2021-12-13T18:30:14.119151",
     "exception": false,
     "start_time": "2021-12-13T18:30:12.060295",
     "status": "completed"
    },
    "tags": []
   },
   "outputs": [
    {
     "data": {
      "text/plain": [
       "<AxesSubplot:ylabel='PRODUCT'>"
      ]
     },
     "execution_count": 7,
     "metadata": {},
     "output_type": "execute_result"
    },
    {
     "data": {
      "image/png": "[encoded data removed]",
      "text/plain": [
       "<Figure size 432x288 with 1 Axes>"
      ]
     },
     "metadata": {
      "needs_background": "light"
     },
     "output_type": "display_data"
    }
   ],
   "source": [
    "df_pivot_diff.sort_values(\"stamp_2\", ascending = False)[\"stamp_2\"].head(10).plot.barh()"
   ]
  },
  {
   "cell_type": "code",
   "execution_count": null,
   "id": "extra-executive",
   "metadata": {
    "papermill": {
     "duration": 0.029202,
     "end_time": "2021-12-13T18:30:14.185639",
     "exception": false,
     "start_time": "2021-12-13T18:30:14.156437",
     "status": "completed"
    },
    "tags": []
   },
   "outputs": [],
   "source": []
  }
 ],
 "metadata": {
  "kernelspec": {
   "display_name": "Python 3",
   "language": "python",
   "name": "python3"
  },
  "language_info": {
   "codemirror_mode": {
    "name": "ipython",
    "version": 3
   },
   "file_extension": ".py",
   "mimetype": "text/x-python",
   "name": "python",
   "nbconvert_exporter": "python",
   "pygments_lexer": "ipython3",
   "version": "3.9.5"
  },
  "papermill": {
   "default_parameters": {},
   "duration": 9.827017,
   "end_time": "2021-12-13T18:30:14.954798",
   "environment_variables": {},
   "exception": null,
   "input_path": "eBay_Overview.ipynb",
   "output_path": "eBay_Overview.ipynb",
   "parameters": {},
   "start_time": "2021-12-13T18:30:05.127781",
   "version": "2.3.3"
  }
 },
 "nbformat": 4,
 "nbformat_minor": 5
}