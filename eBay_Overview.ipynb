{
 "cells": [
  {
   "cell_type": "code",
   "execution_count": 1,
   "id": "reverse-picking",
   "metadata": {
    "execution": {
     "iopub.execute_input": "2021-10-19T17:30:07.356542Z",
     "iopub.status.busy": "2021-10-19T17:30:07.354566Z",
     "iopub.status.idle": "2021-10-19T17:30:08.163579Z",
     "shell.execute_reply": "2021-10-19T17:30:08.162042Z"
    },
    "papermill": {
     "duration": 0.859871,
     "end_time": "2021-10-19T17:30:08.163975",
     "exception": false,
     "start_time": "2021-10-19T17:30:07.304104",
     "status": "completed"
    },
    "tags": []
   },
   "outputs": [],
   "source": [
    "import pandas as pd\n",
    "import sqlite3"
   ]
  },
  {
   "cell_type": "code",
   "execution_count": 2,
   "id": "innovative-syndrome",
   "metadata": {
    "execution": {
     "iopub.execute_input": "2021-10-19T17:30:08.216248Z",
     "iopub.status.busy": "2021-10-19T17:30:08.214397Z",
     "iopub.status.idle": "2021-10-19T17:30:08.801407Z",
     "shell.execute_reply": "2021-10-19T17:30:08.802615Z"
    },
    "papermill": {
     "duration": 0.617037,
     "end_time": "2021-10-19T17:30:08.803010",
     "exception": false,
     "start_time": "2021-10-19T17:30:08.185973",
     "status": "completed"
    },
    "tags": []
   },
   "outputs": [],
   "source": [
    "timestamps = pd.read_sql(\"select distinct record_time from EBAY_TOP_BERLIN order by record_time desc limit 2\", sqlite3.connect(\"UsedObjects.db\"))"
   ]
  },
  {
   "cell_type": "code",
   "execution_count": 3,
   "id": "periodic-identification",
   "metadata": {
    "execution": {
     "iopub.execute_input": "2021-10-19T17:30:08.882959Z",
     "iopub.status.busy": "2021-10-19T17:30:08.878028Z",
     "iopub.status.idle": "2021-10-19T17:30:08.899819Z",
     "shell.execute_reply": "2021-10-19T17:30:08.901257Z"
    },
    "papermill": {
     "duration": 0.070109,
     "end_time": "2021-10-19T17:30:08.901677",
     "exception": false,
     "start_time": "2021-10-19T17:30:08.831568",
     "status": "completed"
    },
    "tags": []
   },
   "outputs": [
    {
     "data": {
      "text/html": [
       "<div>\n",
       "<style scoped>\n",
       "    .dataframe tbody tr th:only-of-type {\n",
       "        vertical-align: middle;\n",
       "    }\n",
       "\n",
       "    .dataframe tbody tr th {\n",
       "        vertical-align: top;\n",
       "    }\n",
       "\n",
       "    .dataframe thead th {\n",
       "        text-align: right;\n",
       "    }\n",
       "</style>\n",
       "<table border=\"1\" class=\"dataframe\">\n",
       "  <thead>\n",
       "    <tr style=\"text-align: right;\">\n",
       "      <th></th>\n",
       "      <th>RECORD_TIME</th>\n",
       "    </tr>\n",
       "  </thead>\n",
       "  <tbody>\n",
       "    <tr>\n",
       "      <th>0</th>\n",
       "      <td>2021-10-19 19:30</td>\n",
       "    </tr>\n",
       "    <tr>\n",
       "      <th>1</th>\n",
       "      <td>2021-10-19 19:00</td>\n",
       "    </tr>\n",
       "  </tbody>\n",
       "</table>\n",
       "</div>"
      ],
      "text/plain": [
       "        RECORD_TIME\n",
       "0  2021-10-19 19:30\n",
       "1  2021-10-19 19:00"
      ]
     },
     "execution_count": 3,
     "metadata": {},
     "output_type": "execute_result"
    }
   ],
   "source": [
    "timestamps"
   ]
  },
  {
   "cell_type": "code",
   "execution_count": 4,
   "id": "alternate-victory",
   "metadata": {
    "execution": {
     "iopub.execute_input": "2021-10-19T17:30:08.955832Z",
     "iopub.status.busy": "2021-10-19T17:30:08.953830Z",
     "iopub.status.idle": "2021-10-19T17:30:09.823226Z",
     "shell.execute_reply": "2021-10-19T17:30:09.824516Z"
    },
    "papermill": {
     "duration": 0.900545,
     "end_time": "2021-10-19T17:30:09.824984",
     "exception": false,
     "start_time": "2021-10-19T17:30:08.924439",
     "status": "completed"
    },
    "tags": []
   },
   "outputs": [],
   "source": [
    "df = pd.read_sql(\"select * from EBAY_TOP_BERLIN where record_time in (select distinct record_time from EBAY_TOP_BERLIN order by record_time desc limit 2)\", sqlite3.connect(\"UsedObjects.db\"))"
   ]
  },
  {
   "cell_type": "code",
   "execution_count": 5,
   "id": "popular-active",
   "metadata": {
    "execution": {
     "iopub.execute_input": "2021-10-19T17:30:09.894025Z",
     "iopub.status.busy": "2021-10-19T17:30:09.883142Z",
     "iopub.status.idle": "2021-10-19T17:30:09.910504Z",
     "shell.execute_reply": "2021-10-19T17:30:09.911715Z"
    },
    "papermill": {
     "duration": 0.066029,
     "end_time": "2021-10-19T17:30:09.912108",
     "exception": false,
     "start_time": "2021-10-19T17:30:09.846079",
     "status": "completed"
    },
    "tags": []
   },
   "outputs": [],
   "source": [
    "df_pivot = df.pivot_table(index=\"PRODUCT\", columns = \"RECORD_TIME\", values = \"LISTING_COUNT\")"
   ]
  },
  {
   "cell_type": "code",
   "execution_count": 6,
   "id": "union-huntington",
   "metadata": {
    "execution": {
     "iopub.execute_input": "2021-10-19T17:30:09.972507Z",
     "iopub.status.busy": "2021-10-19T17:30:09.970060Z",
     "iopub.status.idle": "2021-10-19T17:30:09.975885Z",
     "shell.execute_reply": "2021-10-19T17:30:09.977292Z"
    },
    "papermill": {
     "duration": 0.042876,
     "end_time": "2021-10-19T17:30:09.977735",
     "exception": false,
     "start_time": "2021-10-19T17:30:09.934859",
     "status": "completed"
    },
    "tags": []
   },
   "outputs": [],
   "source": [
    "df_pivot.columns = [\"stamp_1\", \"stamp_2\"]\n",
    "df_pivot_diff = df_pivot.diff(axis=1)"
   ]
  },
  {
   "cell_type": "code",
   "execution_count": 7,
   "id": "fifth-motion",
   "metadata": {
    "execution": {
     "iopub.execute_input": "2021-10-19T17:30:10.032582Z",
     "iopub.status.busy": "2021-10-19T17:30:10.030138Z",
     "iopub.status.idle": "2021-10-19T17:30:11.541930Z",
     "shell.execute_reply": "2021-10-19T17:30:11.543114Z"
    },
    "papermill": {
     "duration": 1.544776,
     "end_time": "2021-10-19T17:30:11.543538",
     "exception": false,
     "start_time": "2021-10-19T17:30:09.998762",
     "status": "completed"
    },
    "tags": []
   },
   "outputs": [
    {
     "data": {
      "text/plain": [
       "<AxesSubplot:ylabel='PRODUCT'>"
      ]
     },
     "execution_count": 7,
     "metadata": {},
     "output_type": "execute_result"
    },
    {
     "data": {
      "image/png": "[encoded data removed]",
      "text/plain": [
       "<Figure size 432x288 with 1 Axes>"
      ]
     },
     "metadata": {
      "needs_background": "light"
     },
     "output_type": "display_data"
    }
   ],
   "source": [
    "df_pivot_diff.sort_values(\"stamp_2\", ascending = False)[\"stamp_2\"].head(10).plot.barh()"
   ]
  },
  {
   "cell_type": "code",
   "execution_count": null,
   "id": "extra-executive",
   "metadata": {
    "papermill": {
     "duration": 0.022472,
     "end_time": "2021-10-19T17:30:11.590230",
     "exception": false,
     "start_time": "2021-10-19T17:30:11.567758",
     "status": "completed"
    },
    "tags": []
   },
   "outputs": [],
   "source": []
  }
 ],
 "metadata": {
  "kernelspec": {
   "display_name": "Python 3",
   "language": "python",
   "name": "python3"
  },
  "language_info": {
   "codemirror_mode": {
    "name": "ipython",
    "version": 3
   },
   "file_extension": ".py",
   "mimetype": "text/x-python",
   "name": "python",
   "nbconvert_exporter": "python",
   "pygments_lexer": "ipython3",
   "version": "3.9.5"
  },
  "papermill": {
   "default_parameters": {},
   "duration": 7.333429,
   "end_time": "2021-10-19T17:30:12.233711",
   "environment_variables": {},
   "exception": null,
   "input_path": "eBay_Overview.ipynb",
   "output_path": "eBay_Overview.ipynb",
   "parameters": {},
   "start_time": "2021-10-19T17:30:04.900282",
   "version": "2.3.3"
  }
 },
 "nbformat": 4,
 "nbformat_minor": 5
}