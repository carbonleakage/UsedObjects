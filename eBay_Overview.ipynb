{
 "cells": [
  {
   "cell_type": "code",
   "execution_count": 1,
   "id": "reverse-picking",
   "metadata": {
    "execution": {
     "iopub.execute_input": "2021-09-12T01:30:07.217667Z",
     "iopub.status.busy": "2021-09-12T01:30:07.215746Z",
     "iopub.status.idle": "2021-09-12T01:30:08.028926Z",
     "shell.execute_reply": "2021-09-12T01:30:08.030250Z"
    },
    "papermill": {
     "duration": 0.86438,
     "end_time": "2021-09-12T01:30:08.030962",
     "exception": false,
     "start_time": "2021-09-12T01:30:07.166582",
     "status": "completed"
    },
    "tags": []
   },
   "outputs": [],
   "source": [
    "import pandas as pd\n",
    "import sqlite3"
   ]
  },
  {
   "cell_type": "code",
   "execution_count": 2,
   "id": "innovative-syndrome",
   "metadata": {
    "execution": {
     "iopub.execute_input": "2021-09-12T01:30:08.081699Z",
     "iopub.status.busy": "2021-09-12T01:30:08.079388Z",
     "iopub.status.idle": "2021-09-12T01:30:08.341691Z",
     "shell.execute_reply": "2021-09-12T01:30:08.343034Z"
    },
    "papermill": {
     "duration": 0.292493,
     "end_time": "2021-09-12T01:30:08.343465",
     "exception": false,
     "start_time": "2021-09-12T01:30:08.050972",
     "status": "completed"
    },
    "tags": []
   },
   "outputs": [],
   "source": [
    "timestamps = pd.read_sql(\"select distinct record_time from EBAY_TOP_BERLIN order by record_time desc limit 2\", sqlite3.connect(\"UsedObjects.db\"))"
   ]
  },
  {
   "cell_type": "code",
   "execution_count": 3,
   "id": "periodic-identification",
   "metadata": {
    "execution": {
     "iopub.execute_input": "2021-09-12T01:30:08.408986Z",
     "iopub.status.busy": "2021-09-12T01:30:08.406954Z",
     "iopub.status.idle": "2021-09-12T01:30:08.427703Z",
     "shell.execute_reply": "2021-09-12T01:30:08.428919Z"
    },
    "papermill": {
     "duration": 0.067137,
     "end_time": "2021-09-12T01:30:08.429351",
     "exception": false,
     "start_time": "2021-09-12T01:30:08.362214",
     "status": "completed"
    },
    "tags": []
   },
   "outputs": [
    {
     "data": {
      "text/html": [
       "<div>\n",
       "<style scoped>\n",
       "    .dataframe tbody tr th:only-of-type {\n",
       "        vertical-align: middle;\n",
       "    }\n",
       "\n",
       "    .dataframe tbody tr th {\n",
       "        vertical-align: top;\n",
       "    }\n",
       "\n",
       "    .dataframe thead th {\n",
       "        text-align: right;\n",
       "    }\n",
       "</style>\n",
       "<table border=\"1\" class=\"dataframe\">\n",
       "  <thead>\n",
       "    <tr style=\"text-align: right;\">\n",
       "      <th></th>\n",
       "      <th>RECORD_TIME</th>\n",
       "    </tr>\n",
       "  </thead>\n",
       "  <tbody>\n",
       "    <tr>\n",
       "      <th>0</th>\n",
       "      <td>2021-09-12 03:30</td>\n",
       "    </tr>\n",
       "    <tr>\n",
       "      <th>1</th>\n",
       "      <td>2021-09-12 03:00</td>\n",
       "    </tr>\n",
       "  </tbody>\n",
       "</table>\n",
       "</div>"
      ],
      "text/plain": [
       "        RECORD_TIME\n",
       "0  2021-09-12 03:30\n",
       "1  2021-09-12 03:00"
      ]
     },
     "execution_count": 3,
     "metadata": {},
     "output_type": "execute_result"
    }
   ],
   "source": [
    "timestamps"
   ]
  },
  {
   "cell_type": "code",
   "execution_count": 4,
   "id": "alternate-victory",
   "metadata": {
    "execution": {
     "iopub.execute_input": "2021-09-12T01:30:08.482754Z",
     "iopub.status.busy": "2021-09-12T01:30:08.480486Z",
     "iopub.status.idle": "2021-09-12T01:30:08.875945Z",
     "shell.execute_reply": "2021-09-12T01:30:08.877349Z"
    },
    "papermill": {
     "duration": 0.425934,
     "end_time": "2021-09-12T01:30:08.877790",
     "exception": false,
     "start_time": "2021-09-12T01:30:08.451856",
     "status": "completed"
    },
    "tags": []
   },
   "outputs": [],
   "source": [
    "df = pd.read_sql(\"select * from EBAY_TOP_BERLIN where record_time in (select distinct record_time from EBAY_TOP_BERLIN order by record_time desc limit 2)\", sqlite3.connect(\"UsedObjects.db\"))"
   ]
  },
  {
   "cell_type": "code",
   "execution_count": 5,
   "id": "popular-active",
   "metadata": {
    "execution": {
     "iopub.execute_input": "2021-09-12T01:30:08.963577Z",
     "iopub.status.busy": "2021-09-12T01:30:08.950930Z",
     "iopub.status.idle": "2021-09-12T01:30:08.979266Z",
     "shell.execute_reply": "2021-09-12T01:30:08.980504Z"
    },
    "papermill": {
     "duration": 0.07338,
     "end_time": "2021-09-12T01:30:08.980900",
     "exception": false,
     "start_time": "2021-09-12T01:30:08.907520",
     "status": "completed"
    },
    "tags": []
   },
   "outputs": [],
   "source": [
    "df_pivot = df.pivot_table(index=\"PRODUCT\", columns = \"RECORD_TIME\", values = \"LISTING_COUNT\")"
   ]
  },
  {
   "cell_type": "code",
   "execution_count": 6,
   "id": "union-huntington",
   "metadata": {
    "execution": {
     "iopub.execute_input": "2021-09-12T01:30:09.036318Z",
     "iopub.status.busy": "2021-09-12T01:30:09.034283Z",
     "iopub.status.idle": "2021-09-12T01:30:09.039501Z",
     "shell.execute_reply": "2021-09-12T01:30:09.040626Z"
    },
    "papermill": {
     "duration": 0.039754,
     "end_time": "2021-09-12T01:30:09.041040",
     "exception": false,
     "start_time": "2021-09-12T01:30:09.001286",
     "status": "completed"
    },
    "tags": []
   },
   "outputs": [],
   "source": [
    "df_pivot.columns = [\"stamp_1\", \"stamp_2\"]\n",
    "df_pivot_diff = df_pivot.diff(axis=1)"
   ]
  },
  {
   "cell_type": "code",
   "execution_count": 7,
   "id": "fifth-motion",
   "metadata": {
    "execution": {
     "iopub.execute_input": "2021-09-12T01:30:09.098184Z",
     "iopub.status.busy": "2021-09-12T01:30:09.095541Z",
     "iopub.status.idle": "2021-09-12T01:30:10.612248Z",
     "shell.execute_reply": "2021-09-12T01:30:10.613815Z"
    },
    "papermill": {
     "duration": 1.550699,
     "end_time": "2021-09-12T01:30:10.614313",
     "exception": false,
     "start_time": "2021-09-12T01:30:09.063614",
     "status": "completed"
    },
    "tags": []
   },
   "outputs": [
    {
     "data": {
      "text/plain": [
       "<AxesSubplot:ylabel='PRODUCT'>"
      ]
     },
     "execution_count": 7,
     "metadata": {},
     "output_type": "execute_result"
    },
    {
     "data": {
      "image/png": "[encoded data removed]",
      "text/plain": [
       "<Figure size 432x288 with 1 Axes>"
      ]
     },
     "metadata": {
      "needs_background": "light"
     },
     "output_type": "display_data"
    }
   ],
   "source": [
    "df_pivot_diff.sort_values(\"stamp_2\", ascending = False)[\"stamp_2\"].head(10).plot.barh()"
   ]
  },
  {
   "cell_type": "code",
   "execution_count": null,
   "id": "extra-executive",
   "metadata": {
    "papermill": {
     "duration": 0.021997,
     "end_time": "2021-09-12T01:30:10.661362",
     "exception": false,
     "start_time": "2021-09-12T01:30:10.639365",
     "status": "completed"
    },
    "tags": []
   },
   "outputs": [],
   "source": []
  }
 ],
 "metadata": {
  "kernelspec": {
   "display_name": "Python 3",
   "language": "python",
   "name": "python3"
  },
  "language_info": {
   "codemirror_mode": {
    "name": "ipython",
    "version": 3
   },
   "file_extension": ".py",
   "mimetype": "text/x-python",
   "name": "python",
   "nbconvert_exporter": "python",
   "pygments_lexer": "ipython3",
   "version": "3.9.5"
  },
  "papermill": {
   "default_parameters": {},
   "duration": 6.548591,
   "end_time": "2021-09-12T01:30:11.301707",
   "environment_variables": {},
   "exception": null,
   "input_path": "eBay_Overview.ipynb",
   "output_path": "eBay_Overview.ipynb",
   "parameters": {},
   "start_time": "2021-09-12T01:30:04.753116",
   "version": "2.3.3"
  }
 },
 "nbformat": 4,
 "nbformat_minor": 5
}