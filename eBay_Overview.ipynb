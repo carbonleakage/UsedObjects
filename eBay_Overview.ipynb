{
 "cells": [
  {
   "cell_type": "code",
   "execution_count": 1,
   "id": "reverse-picking",
   "metadata": {
    "execution": {
     "iopub.execute_input": "2021-08-15T21:30:07.104262Z",
     "iopub.status.busy": "2021-08-15T21:30:07.102292Z",
     "iopub.status.idle": "2021-08-15T21:30:07.919233Z",
     "shell.execute_reply": "2021-08-15T21:30:07.920485Z"
    },
    "papermill": {
     "duration": 0.870411,
     "end_time": "2021-08-15T21:30:07.921108",
     "exception": false,
     "start_time": "2021-08-15T21:30:07.050697",
     "status": "completed"
    },
    "tags": []
   },
   "outputs": [],
   "source": [
    "import pandas as pd\n",
    "import sqlite3"
   ]
  },
  {
   "cell_type": "code",
   "execution_count": 2,
   "id": "innovative-syndrome",
   "metadata": {
    "execution": {
     "iopub.execute_input": "2021-08-15T21:30:07.972058Z",
     "iopub.status.busy": "2021-08-15T21:30:07.970176Z",
     "iopub.status.idle": "2021-08-15T21:30:08.027718Z",
     "shell.execute_reply": "2021-08-15T21:30:08.028921Z"
    },
    "papermill": {
     "duration": 0.086809,
     "end_time": "2021-08-15T21:30:08.029323",
     "exception": false,
     "start_time": "2021-08-15T21:30:07.942514",
     "status": "completed"
    },
    "tags": []
   },
   "outputs": [],
   "source": [
    "timestamps = pd.read_sql(\"select distinct record_time from EBAY_TOP_BERLIN order by record_time desc limit 2\", sqlite3.connect(\"UsedObjects.db\"))"
   ]
  },
  {
   "cell_type": "code",
   "execution_count": 3,
   "id": "periodic-identification",
   "metadata": {
    "execution": {
     "iopub.execute_input": "2021-08-15T21:30:08.093152Z",
     "iopub.status.busy": "2021-08-15T21:30:08.091098Z",
     "iopub.status.idle": "2021-08-15T21:30:08.111211Z",
     "shell.execute_reply": "2021-08-15T21:30:08.112411Z"
    },
    "papermill": {
     "duration": 0.064436,
     "end_time": "2021-08-15T21:30:08.112847",
     "exception": false,
     "start_time": "2021-08-15T21:30:08.048411",
     "status": "completed"
    },
    "tags": []
   },
   "outputs": [
    {
     "data": {
      "text/html": [
       "<div>\n",
       "<style scoped>\n",
       "    .dataframe tbody tr th:only-of-type {\n",
       "        vertical-align: middle;\n",
       "    }\n",
       "\n",
       "    .dataframe tbody tr th {\n",
       "        vertical-align: top;\n",
       "    }\n",
       "\n",
       "    .dataframe thead th {\n",
       "        text-align: right;\n",
       "    }\n",
       "</style>\n",
       "<table border=\"1\" class=\"dataframe\">\n",
       "  <thead>\n",
       "    <tr style=\"text-align: right;\">\n",
       "      <th></th>\n",
       "      <th>RECORD_TIME</th>\n",
       "    </tr>\n",
       "  </thead>\n",
       "  <tbody>\n",
       "    <tr>\n",
       "      <th>0</th>\n",
       "      <td>2021-08-15 23:30</td>\n",
       "    </tr>\n",
       "    <tr>\n",
       "      <th>1</th>\n",
       "      <td>2021-08-15 23:00</td>\n",
       "    </tr>\n",
       "  </tbody>\n",
       "</table>\n",
       "</div>"
      ],
      "text/plain": [
       "        RECORD_TIME\n",
       "0  2021-08-15 23:30\n",
       "1  2021-08-15 23:00"
      ]
     },
     "execution_count": 3,
     "metadata": {},
     "output_type": "execute_result"
    }
   ],
   "source": [
    "timestamps"
   ]
  },
  {
   "cell_type": "code",
   "execution_count": 4,
   "id": "alternate-victory",
   "metadata": {
    "execution": {
     "iopub.execute_input": "2021-08-15T21:30:08.166356Z",
     "iopub.status.busy": "2021-08-15T21:30:08.163978Z",
     "iopub.status.idle": "2021-08-15T21:30:08.252073Z",
     "shell.execute_reply": "2021-08-15T21:30:08.253289Z"
    },
    "papermill": {
     "duration": 0.118345,
     "end_time": "2021-08-15T21:30:08.253685",
     "exception": false,
     "start_time": "2021-08-15T21:30:08.135340",
     "status": "completed"
    },
    "tags": []
   },
   "outputs": [],
   "source": [
    "df = pd.read_sql(\"select * from EBAY_TOP_BERLIN where record_time in (select distinct record_time from EBAY_TOP_BERLIN order by record_time desc limit 2)\", sqlite3.connect(\"UsedObjects.db\"))"
   ]
  },
  {
   "cell_type": "code",
   "execution_count": 5,
   "id": "popular-active",
   "metadata": {
    "execution": {
     "iopub.execute_input": "2021-08-15T21:30:08.323531Z",
     "iopub.status.busy": "2021-08-15T21:30:08.312014Z",
     "iopub.status.idle": "2021-08-15T21:30:08.339703Z",
     "shell.execute_reply": "2021-08-15T21:30:08.341004Z"
    },
    "papermill": {
     "duration": 0.067497,
     "end_time": "2021-08-15T21:30:08.341429",
     "exception": false,
     "start_time": "2021-08-15T21:30:08.273932",
     "status": "completed"
    },
    "tags": []
   },
   "outputs": [],
   "source": [
    "df_pivot = df.pivot_table(index=\"PRODUCT\", columns = \"RECORD_TIME\", values = \"LISTING_COUNT\")"
   ]
  },
  {
   "cell_type": "code",
   "execution_count": 6,
   "id": "union-huntington",
   "metadata": {
    "execution": {
     "iopub.execute_input": "2021-08-15T21:30:08.397623Z",
     "iopub.status.busy": "2021-08-15T21:30:08.395308Z",
     "iopub.status.idle": "2021-08-15T21:30:08.400934Z",
     "shell.execute_reply": "2021-08-15T21:30:08.402287Z"
    },
    "papermill": {
     "duration": 0.041539,
     "end_time": "2021-08-15T21:30:08.402712",
     "exception": false,
     "start_time": "2021-08-15T21:30:08.361173",
     "status": "completed"
    },
    "tags": []
   },
   "outputs": [],
   "source": [
    "df_pivot.columns = [\"stamp_1\", \"stamp_2\"]\n",
    "df_pivot_diff = df_pivot.diff(axis=1)"
   ]
  },
  {
   "cell_type": "code",
   "execution_count": 7,
   "id": "fifth-motion",
   "metadata": {
    "execution": {
     "iopub.execute_input": "2021-08-15T21:30:08.458015Z",
     "iopub.status.busy": "2021-08-15T21:30:08.454871Z",
     "iopub.status.idle": "2021-08-15T21:30:09.936372Z",
     "shell.execute_reply": "2021-08-15T21:30:09.937666Z"
    },
    "papermill": {
     "duration": 1.515223,
     "end_time": "2021-08-15T21:30:09.938306",
     "exception": false,
     "start_time": "2021-08-15T21:30:08.423083",
     "status": "completed"
    },
    "tags": []
   },
   "outputs": [
    {
     "data": {
      "text/plain": [
       "<AxesSubplot:ylabel='PRODUCT'>"
      ]
     },
     "execution_count": 7,
     "metadata": {},
     "output_type": "execute_result"
    },
    {
     "data": {
      "image/png": "[encoded data removed]",
      "text/plain": [
       "<Figure size 432x288 with 1 Axes>"
      ]
     },
     "metadata": {
      "needs_background": "light"
     },
     "output_type": "display_data"
    }
   ],
   "source": [
    "df_pivot_diff.sort_values(\"stamp_2\", ascending = False)[\"stamp_2\"].head(10).plot.barh()"
   ]
  },
  {
   "cell_type": "code",
   "execution_count": null,
   "id": "extra-executive",
   "metadata": {
    "papermill": {
     "duration": 0.021695,
     "end_time": "2021-08-15T21:30:09.983995",
     "exception": false,
     "start_time": "2021-08-15T21:30:09.962300",
     "status": "completed"
    },
    "tags": []
   },
   "outputs": [],
   "source": []
  }
 ],
 "metadata": {
  "kernelspec": {
   "display_name": "Python 3",
   "language": "python",
   "name": "python3"
  },
  "language_info": {
   "codemirror_mode": {
    "name": "ipython",
    "version": 3
   },
   "file_extension": ".py",
   "mimetype": "text/x-python",
   "name": "python",
   "nbconvert_exporter": "python",
   "pygments_lexer": "ipython3",
   "version": "3.9.5"
  },
  "papermill": {
   "default_parameters": {},
   "duration": 6.82834,
   "end_time": "2021-08-15T21:30:11.460297",
   "environment_variables": {},
   "exception": null,
   "input_path": "eBay_Overview.ipynb",
   "output_path": "eBay_Overview.ipynb",
   "parameters": {},
   "start_time": "2021-08-15T21:30:04.631957",
   "version": "2.3.3"
  }
 },
 "nbformat": 4,
 "nbformat_minor": 5
}