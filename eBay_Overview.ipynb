{
 "cells": [
  {
   "cell_type": "code",
   "execution_count": 1,
   "id": "reverse-picking",
   "metadata": {
    "execution": {
     "iopub.execute_input": "2021-10-13T08:00:06.914799Z",
     "iopub.status.busy": "2021-10-13T08:00:06.912834Z",
     "iopub.status.idle": "2021-10-13T08:00:07.713077Z",
     "shell.execute_reply": "2021-10-13T08:00:07.714529Z"
    },
    "papermill": {
     "duration": 0.852639,
     "end_time": "2021-10-13T08:00:07.715200",
     "exception": false,
     "start_time": "2021-10-13T08:00:06.862561",
     "status": "completed"
    },
    "tags": []
   },
   "outputs": [],
   "source": [
    "import pandas as pd\n",
    "import sqlite3"
   ]
  },
  {
   "cell_type": "code",
   "execution_count": 2,
   "id": "innovative-syndrome",
   "metadata": {
    "execution": {
     "iopub.execute_input": "2021-10-13T08:00:07.765051Z",
     "iopub.status.busy": "2021-10-13T08:00:07.763013Z",
     "iopub.status.idle": "2021-10-13T08:00:08.289887Z",
     "shell.execute_reply": "2021-10-13T08:00:08.288442Z"
    },
    "papermill": {
     "duration": 0.555417,
     "end_time": "2021-10-13T08:00:08.290237",
     "exception": false,
     "start_time": "2021-10-13T08:00:07.734820",
     "status": "completed"
    },
    "tags": []
   },
   "outputs": [],
   "source": [
    "timestamps = pd.read_sql(\"select distinct record_time from EBAY_TOP_BERLIN order by record_time desc limit 2\", sqlite3.connect(\"UsedObjects.db\"))"
   ]
  },
  {
   "cell_type": "code",
   "execution_count": 3,
   "id": "periodic-identification",
   "metadata": {
    "execution": {
     "iopub.execute_input": "2021-10-13T08:00:08.354552Z",
     "iopub.status.busy": "2021-10-13T08:00:08.352480Z",
     "iopub.status.idle": "2021-10-13T08:00:08.374700Z",
     "shell.execute_reply": "2021-10-13T08:00:08.375912Z"
    },
    "papermill": {
     "duration": 0.066554,
     "end_time": "2021-10-13T08:00:08.376298",
     "exception": false,
     "start_time": "2021-10-13T08:00:08.309744",
     "status": "completed"
    },
    "tags": []
   },
   "outputs": [
    {
     "data": {
      "text/html": [
       "<div>\n",
       "<style scoped>\n",
       "    .dataframe tbody tr th:only-of-type {\n",
       "        vertical-align: middle;\n",
       "    }\n",
       "\n",
       "    .dataframe tbody tr th {\n",
       "        vertical-align: top;\n",
       "    }\n",
       "\n",
       "    .dataframe thead th {\n",
       "        text-align: right;\n",
       "    }\n",
       "</style>\n",
       "<table border=\"1\" class=\"dataframe\">\n",
       "  <thead>\n",
       "    <tr style=\"text-align: right;\">\n",
       "      <th></th>\n",
       "      <th>RECORD_TIME</th>\n",
       "    </tr>\n",
       "  </thead>\n",
       "  <tbody>\n",
       "    <tr>\n",
       "      <th>0</th>\n",
       "      <td>2021-10-13 10:00</td>\n",
       "    </tr>\n",
       "    <tr>\n",
       "      <th>1</th>\n",
       "      <td>2021-10-13 09:30</td>\n",
       "    </tr>\n",
       "  </tbody>\n",
       "</table>\n",
       "</div>"
      ],
      "text/plain": [
       "        RECORD_TIME\n",
       "0  2021-10-13 10:00\n",
       "1  2021-10-13 09:30"
      ]
     },
     "execution_count": 3,
     "metadata": {},
     "output_type": "execute_result"
    }
   ],
   "source": [
    "timestamps"
   ]
  },
  {
   "cell_type": "code",
   "execution_count": 4,
   "id": "alternate-victory",
   "metadata": {
    "execution": {
     "iopub.execute_input": "2021-10-13T08:00:08.436998Z",
     "iopub.status.busy": "2021-10-13T08:00:08.435053Z",
     "iopub.status.idle": "2021-10-13T08:00:09.208777Z",
     "shell.execute_reply": "2021-10-13T08:00:09.207335Z"
    },
    "papermill": {
     "duration": 0.805353,
     "end_time": "2021-10-13T08:00:09.209144",
     "exception": false,
     "start_time": "2021-10-13T08:00:08.403791",
     "status": "completed"
    },
    "tags": []
   },
   "outputs": [],
   "source": [
    "df = pd.read_sql(\"select * from EBAY_TOP_BERLIN where record_time in (select distinct record_time from EBAY_TOP_BERLIN order by record_time desc limit 2)\", sqlite3.connect(\"UsedObjects.db\"))"
   ]
  },
  {
   "cell_type": "code",
   "execution_count": 5,
   "id": "popular-active",
   "metadata": {
    "execution": {
     "iopub.execute_input": "2021-10-13T08:00:09.278973Z",
     "iopub.status.busy": "2021-10-13T08:00:09.267054Z",
     "iopub.status.idle": "2021-10-13T08:00:09.295484Z",
     "shell.execute_reply": "2021-10-13T08:00:09.296886Z"
    },
    "papermill": {
     "duration": 0.067746,
     "end_time": "2021-10-13T08:00:09.297345",
     "exception": false,
     "start_time": "2021-10-13T08:00:09.229599",
     "status": "completed"
    },
    "tags": []
   },
   "outputs": [],
   "source": [
    "df_pivot = df.pivot_table(index=\"PRODUCT\", columns = \"RECORD_TIME\", values = \"LISTING_COUNT\")"
   ]
  },
  {
   "cell_type": "code",
   "execution_count": 6,
   "id": "union-huntington",
   "metadata": {
    "execution": {
     "iopub.execute_input": "2021-10-13T08:00:09.354019Z",
     "iopub.status.busy": "2021-10-13T08:00:09.351543Z",
     "iopub.status.idle": "2021-10-13T08:00:09.357479Z",
     "shell.execute_reply": "2021-10-13T08:00:09.358772Z"
    },
    "papermill": {
     "duration": 0.042039,
     "end_time": "2021-10-13T08:00:09.359185",
     "exception": false,
     "start_time": "2021-10-13T08:00:09.317146",
     "status": "completed"
    },
    "tags": []
   },
   "outputs": [],
   "source": [
    "df_pivot.columns = [\"stamp_1\", \"stamp_2\"]\n",
    "df_pivot_diff = df_pivot.diff(axis=1)"
   ]
  },
  {
   "cell_type": "code",
   "execution_count": 7,
   "id": "fifth-motion",
   "metadata": {
    "execution": {
     "iopub.execute_input": "2021-10-13T08:00:09.412620Z",
     "iopub.status.busy": "2021-10-13T08:00:09.410462Z",
     "iopub.status.idle": "2021-10-13T08:00:10.915556Z",
     "shell.execute_reply": "2021-10-13T08:00:10.916794Z"
    },
    "papermill": {
     "duration": 1.537517,
     "end_time": "2021-10-13T08:00:10.917225",
     "exception": false,
     "start_time": "2021-10-13T08:00:09.379708",
     "status": "completed"
    },
    "tags": []
   },
   "outputs": [
    {
     "data": {
      "text/plain": [
       "<AxesSubplot:ylabel='PRODUCT'>"
      ]
     },
     "execution_count": 7,
     "metadata": {},
     "output_type": "execute_result"
    },
    {
     "data": {
      "image/png": "[encoded data removed]",
      "text/plain": [
       "<Figure size 432x288 with 1 Axes>"
      ]
     },
     "metadata": {
      "needs_background": "light"
     },
     "output_type": "display_data"
    }
   ],
   "source": [
    "df_pivot_diff.sort_values(\"stamp_2\", ascending = False)[\"stamp_2\"].head(10).plot.barh()"
   ]
  },
  {
   "cell_type": "code",
   "execution_count": null,
   "id": "extra-executive",
   "metadata": {
    "papermill": {
     "duration": 0.022239,
     "end_time": "2021-10-13T08:00:10.965811",
     "exception": false,
     "start_time": "2021-10-13T08:00:10.943572",
     "status": "completed"
    },
    "tags": []
   },
   "outputs": [],
   "source": []
  }
 ],
 "metadata": {
  "kernelspec": {
   "display_name": "Python 3",
   "language": "python",
   "name": "python3"
  },
  "language_info": {
   "codemirror_mode": {
    "name": "ipython",
    "version": 3
   },
   "file_extension": ".py",
   "mimetype": "text/x-python",
   "name": "python",
   "nbconvert_exporter": "python",
   "pygments_lexer": "ipython3",
   "version": "3.9.5"
  },
  "papermill": {
   "default_parameters": {},
   "duration": 7.817576,
   "end_time": "2021-10-13T08:00:12.290609",
   "environment_variables": {},
   "exception": null,
   "input_path": "eBay_Overview.ipynb",
   "output_path": "eBay_Overview.ipynb",
   "parameters": {},
   "start_time": "2021-10-13T08:00:04.473033",
   "version": "2.3.3"
  }
 },
 "nbformat": 4,
 "nbformat_minor": 5
}