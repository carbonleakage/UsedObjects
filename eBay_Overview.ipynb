{
 "cells": [
  {
   "cell_type": "code",
   "execution_count": 1,
   "id": "reverse-picking",
   "metadata": {
    "execution": {
     "iopub.execute_input": "2021-08-21T17:00:06.944157Z",
     "iopub.status.busy": "2021-08-21T17:00:06.942254Z",
     "iopub.status.idle": "2021-08-21T17:00:07.748483Z",
     "shell.execute_reply": "2021-08-21T17:00:07.749803Z"
    },
    "papermill": {
     "duration": 0.859723,
     "end_time": "2021-08-21T17:00:07.750490",
     "exception": false,
     "start_time": "2021-08-21T17:00:06.890767",
     "status": "completed"
    },
    "tags": []
   },
   "outputs": [],
   "source": [
    "import pandas as pd\n",
    "import sqlite3"
   ]
  },
  {
   "cell_type": "code",
   "execution_count": 2,
   "id": "innovative-syndrome",
   "metadata": {
    "execution": {
     "iopub.execute_input": "2021-08-21T17:00:07.801096Z",
     "iopub.status.busy": "2021-08-21T17:00:07.799251Z",
     "iopub.status.idle": "2021-08-21T17:00:07.898090Z",
     "shell.execute_reply": "2021-08-21T17:00:07.899489Z"
    },
    "papermill": {
     "duration": 0.12856,
     "end_time": "2021-08-21T17:00:07.899932",
     "exception": false,
     "start_time": "2021-08-21T17:00:07.771372",
     "status": "completed"
    },
    "tags": []
   },
   "outputs": [],
   "source": [
    "timestamps = pd.read_sql(\"select distinct record_time from EBAY_TOP_BERLIN order by record_time desc limit 2\", sqlite3.connect(\"UsedObjects.db\"))"
   ]
  },
  {
   "cell_type": "code",
   "execution_count": 3,
   "id": "periodic-identification",
   "metadata": {
    "execution": {
     "iopub.execute_input": "2021-08-21T17:00:07.965843Z",
     "iopub.status.busy": "2021-08-21T17:00:07.963824Z",
     "iopub.status.idle": "2021-08-21T17:00:07.984079Z",
     "shell.execute_reply": "2021-08-21T17:00:07.985349Z"
    },
    "papermill": {
     "duration": 0.065985,
     "end_time": "2021-08-21T17:00:07.985760",
     "exception": false,
     "start_time": "2021-08-21T17:00:07.919775",
     "status": "completed"
    },
    "tags": []
   },
   "outputs": [
    {
     "data": {
      "text/html": [
       "<div>\n",
       "<style scoped>\n",
       "    .dataframe tbody tr th:only-of-type {\n",
       "        vertical-align: middle;\n",
       "    }\n",
       "\n",
       "    .dataframe tbody tr th {\n",
       "        vertical-align: top;\n",
       "    }\n",
       "\n",
       "    .dataframe thead th {\n",
       "        text-align: right;\n",
       "    }\n",
       "</style>\n",
       "<table border=\"1\" class=\"dataframe\">\n",
       "  <thead>\n",
       "    <tr style=\"text-align: right;\">\n",
       "      <th></th>\n",
       "      <th>RECORD_TIME</th>\n",
       "    </tr>\n",
       "  </thead>\n",
       "  <tbody>\n",
       "    <tr>\n",
       "      <th>0</th>\n",
       "      <td>2021-08-21 19:00</td>\n",
       "    </tr>\n",
       "    <tr>\n",
       "      <th>1</th>\n",
       "      <td>2021-08-21 18:30</td>\n",
       "    </tr>\n",
       "  </tbody>\n",
       "</table>\n",
       "</div>"
      ],
      "text/plain": [
       "        RECORD_TIME\n",
       "0  2021-08-21 19:00\n",
       "1  2021-08-21 18:30"
      ]
     },
     "execution_count": 3,
     "metadata": {},
     "output_type": "execute_result"
    }
   ],
   "source": [
    "timestamps"
   ]
  },
  {
   "cell_type": "code",
   "execution_count": 4,
   "id": "alternate-victory",
   "metadata": {
    "execution": {
     "iopub.execute_input": "2021-08-21T17:00:08.037343Z",
     "iopub.status.busy": "2021-08-21T17:00:08.035349Z",
     "iopub.status.idle": "2021-08-21T17:00:08.182841Z",
     "shell.execute_reply": "2021-08-21T17:00:08.184127Z"
    },
    "papermill": {
     "duration": 0.178242,
     "end_time": "2021-08-21T17:00:08.184530",
     "exception": false,
     "start_time": "2021-08-21T17:00:08.006288",
     "status": "completed"
    },
    "tags": []
   },
   "outputs": [],
   "source": [
    "df = pd.read_sql(\"select * from EBAY_TOP_BERLIN where record_time in (select distinct record_time from EBAY_TOP_BERLIN order by record_time desc limit 2)\", sqlite3.connect(\"UsedObjects.db\"))"
   ]
  },
  {
   "cell_type": "code",
   "execution_count": 5,
   "id": "popular-active",
   "metadata": {
    "execution": {
     "iopub.execute_input": "2021-08-21T17:00:08.254456Z",
     "iopub.status.busy": "2021-08-21T17:00:08.243258Z",
     "iopub.status.idle": "2021-08-21T17:00:08.270983Z",
     "shell.execute_reply": "2021-08-21T17:00:08.272208Z"
    },
    "papermill": {
     "duration": 0.067676,
     "end_time": "2021-08-21T17:00:08.272606",
     "exception": false,
     "start_time": "2021-08-21T17:00:08.204930",
     "status": "completed"
    },
    "tags": []
   },
   "outputs": [],
   "source": [
    "df_pivot = df.pivot_table(index=\"PRODUCT\", columns = \"RECORD_TIME\", values = \"LISTING_COUNT\")"
   ]
  },
  {
   "cell_type": "code",
   "execution_count": 6,
   "id": "union-huntington",
   "metadata": {
    "execution": {
     "iopub.execute_input": "2021-08-21T17:00:08.329399Z",
     "iopub.status.busy": "2021-08-21T17:00:08.327263Z",
     "iopub.status.idle": "2021-08-21T17:00:08.332807Z",
     "shell.execute_reply": "2021-08-21T17:00:08.334386Z"
    },
    "papermill": {
     "duration": 0.041538,
     "end_time": "2021-08-21T17:00:08.334849",
     "exception": false,
     "start_time": "2021-08-21T17:00:08.293311",
     "status": "completed"
    },
    "tags": []
   },
   "outputs": [],
   "source": [
    "df_pivot.columns = [\"stamp_1\", \"stamp_2\"]\n",
    "df_pivot_diff = df_pivot.diff(axis=1)"
   ]
  },
  {
   "cell_type": "code",
   "execution_count": 7,
   "id": "fifth-motion",
   "metadata": {
    "execution": {
     "iopub.execute_input": "2021-08-21T17:00:08.393899Z",
     "iopub.status.busy": "2021-08-21T17:00:08.391279Z",
     "iopub.status.idle": "2021-08-21T17:00:09.904260Z",
     "shell.execute_reply": "2021-08-21T17:00:09.905436Z"
    },
    "papermill": {
     "duration": 1.5508,
     "end_time": "2021-08-21T17:00:09.905871",
     "exception": false,
     "start_time": "2021-08-21T17:00:08.355071",
     "status": "completed"
    },
    "tags": []
   },
   "outputs": [
    {
     "data": {
      "text/plain": [
       "<AxesSubplot:ylabel='PRODUCT'>"
      ]
     },
     "execution_count": 7,
     "metadata": {},
     "output_type": "execute_result"
    },
    {
     "data": {
      "image/png": "[encoded data removed]",
      "text/plain": [
       "<Figure size 432x288 with 1 Axes>"
      ]
     },
     "metadata": {
      "needs_background": "light"
     },
     "output_type": "display_data"
    }
   ],
   "source": [
    "df_pivot_diff.sort_values(\"stamp_2\", ascending = False)[\"stamp_2\"].head(10).plot.barh()"
   ]
  },
  {
   "cell_type": "code",
   "execution_count": null,
   "id": "extra-executive",
   "metadata": {
    "papermill": {
     "duration": 0.022291,
     "end_time": "2021-08-21T17:00:09.952395",
     "exception": false,
     "start_time": "2021-08-21T17:00:09.930104",
     "status": "completed"
    },
    "tags": []
   },
   "outputs": [],
   "source": []
  }
 ],
 "metadata": {
  "kernelspec": {
   "display_name": "Python 3",
   "language": "python",
   "name": "python3"
  },
  "language_info": {
   "codemirror_mode": {
    "name": "ipython",
    "version": 3
   },
   "file_extension": ".py",
   "mimetype": "text/x-python",
   "name": "python",
   "nbconvert_exporter": "python",
   "pygments_lexer": "ipython3",
   "version": "3.9.5"
  },
  "papermill": {
   "default_parameters": {},
   "duration": 6.824681,
   "end_time": "2021-08-21T17:00:11.315970",
   "environment_variables": {},
   "exception": null,
   "input_path": "eBay_Overview.ipynb",
   "output_path": "eBay_Overview.ipynb",
   "parameters": {},
   "start_time": "2021-08-21T17:00:04.491289",
   "version": "2.3.3"
  }
 },
 "nbformat": 4,
 "nbformat_minor": 5
}