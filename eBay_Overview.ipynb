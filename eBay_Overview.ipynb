{
 "cells": [
  {
   "cell_type": "code",
   "execution_count": 1,
   "id": "reverse-picking",
   "metadata": {
    "execution": {
     "iopub.execute_input": "2021-08-30T07:00:06.564869Z",
     "iopub.status.busy": "2021-08-30T07:00:06.562825Z",
     "iopub.status.idle": "2021-08-30T07:00:07.368658Z",
     "shell.execute_reply": "2021-08-30T07:00:07.369940Z"
    },
    "papermill": {
     "duration": 0.857745,
     "end_time": "2021-08-30T07:00:07.370556",
     "exception": false,
     "start_time": "2021-08-30T07:00:06.512811",
     "status": "completed"
    },
    "tags": []
   },
   "outputs": [],
   "source": [
    "import pandas as pd\n",
    "import sqlite3"
   ]
  },
  {
   "cell_type": "code",
   "execution_count": 2,
   "id": "innovative-syndrome",
   "metadata": {
    "execution": {
     "iopub.execute_input": "2021-08-30T07:00:07.421544Z",
     "iopub.status.busy": "2021-08-30T07:00:07.419480Z",
     "iopub.status.idle": "2021-08-30T07:00:07.580386Z",
     "shell.execute_reply": "2021-08-30T07:00:07.581821Z"
    },
    "papermill": {
     "duration": 0.19037,
     "end_time": "2021-08-30T07:00:07.582256",
     "exception": false,
     "start_time": "2021-08-30T07:00:07.391886",
     "status": "completed"
    },
    "tags": []
   },
   "outputs": [],
   "source": [
    "timestamps = pd.read_sql(\"select distinct record_time from EBAY_TOP_BERLIN order by record_time desc limit 2\", sqlite3.connect(\"UsedObjects.db\"))"
   ]
  },
  {
   "cell_type": "code",
   "execution_count": 3,
   "id": "periodic-identification",
   "metadata": {
    "execution": {
     "iopub.execute_input": "2021-08-30T07:00:07.646636Z",
     "iopub.status.busy": "2021-08-30T07:00:07.644628Z",
     "iopub.status.idle": "2021-08-30T07:00:07.664373Z",
     "shell.execute_reply": "2021-08-30T07:00:07.665524Z"
    },
    "papermill": {
     "duration": 0.064086,
     "end_time": "2021-08-30T07:00:07.665932",
     "exception": false,
     "start_time": "2021-08-30T07:00:07.601846",
     "status": "completed"
    },
    "tags": []
   },
   "outputs": [
    {
     "data": {
      "text/html": [
       "<div>\n",
       "<style scoped>\n",
       "    .dataframe tbody tr th:only-of-type {\n",
       "        vertical-align: middle;\n",
       "    }\n",
       "\n",
       "    .dataframe tbody tr th {\n",
       "        vertical-align: top;\n",
       "    }\n",
       "\n",
       "    .dataframe thead th {\n",
       "        text-align: right;\n",
       "    }\n",
       "</style>\n",
       "<table border=\"1\" class=\"dataframe\">\n",
       "  <thead>\n",
       "    <tr style=\"text-align: right;\">\n",
       "      <th></th>\n",
       "      <th>RECORD_TIME</th>\n",
       "    </tr>\n",
       "  </thead>\n",
       "  <tbody>\n",
       "    <tr>\n",
       "      <th>0</th>\n",
       "      <td>2021-08-30 09:00</td>\n",
       "    </tr>\n",
       "    <tr>\n",
       "      <th>1</th>\n",
       "      <td>2021-08-30 08:30</td>\n",
       "    </tr>\n",
       "  </tbody>\n",
       "</table>\n",
       "</div>"
      ],
      "text/plain": [
       "        RECORD_TIME\n",
       "0  2021-08-30 09:00\n",
       "1  2021-08-30 08:30"
      ]
     },
     "execution_count": 3,
     "metadata": {},
     "output_type": "execute_result"
    }
   ],
   "source": [
    "timestamps"
   ]
  },
  {
   "cell_type": "code",
   "execution_count": 4,
   "id": "alternate-victory",
   "metadata": {
    "execution": {
     "iopub.execute_input": "2021-08-30T07:00:07.717507Z",
     "iopub.status.busy": "2021-08-30T07:00:07.715575Z",
     "iopub.status.idle": "2021-08-30T07:00:07.957825Z",
     "shell.execute_reply": "2021-08-30T07:00:07.959110Z"
    },
    "papermill": {
     "duration": 0.272114,
     "end_time": "2021-08-30T07:00:07.959523",
     "exception": false,
     "start_time": "2021-08-30T07:00:07.687409",
     "status": "completed"
    },
    "tags": []
   },
   "outputs": [],
   "source": [
    "df = pd.read_sql(\"select * from EBAY_TOP_BERLIN where record_time in (select distinct record_time from EBAY_TOP_BERLIN order by record_time desc limit 2)\", sqlite3.connect(\"UsedObjects.db\"))"
   ]
  },
  {
   "cell_type": "code",
   "execution_count": 5,
   "id": "popular-active",
   "metadata": {
    "execution": {
     "iopub.execute_input": "2021-08-30T07:00:08.039525Z",
     "iopub.status.busy": "2021-08-30T07:00:08.026962Z",
     "iopub.status.idle": "2021-08-30T07:00:08.054799Z",
     "shell.execute_reply": "2021-08-30T07:00:08.056002Z"
    },
    "papermill": {
     "duration": 0.071519,
     "end_time": "2021-08-30T07:00:08.056451",
     "exception": false,
     "start_time": "2021-08-30T07:00:07.984932",
     "status": "completed"
    },
    "tags": []
   },
   "outputs": [],
   "source": [
    "df_pivot = df.pivot_table(index=\"PRODUCT\", columns = \"RECORD_TIME\", values = \"LISTING_COUNT\")"
   ]
  },
  {
   "cell_type": "code",
   "execution_count": 6,
   "id": "union-huntington",
   "metadata": {
    "execution": {
     "iopub.execute_input": "2021-08-30T07:00:08.112467Z",
     "iopub.status.busy": "2021-08-30T07:00:08.110377Z",
     "iopub.status.idle": "2021-08-30T07:00:08.115508Z",
     "shell.execute_reply": "2021-08-30T07:00:08.116990Z"
    },
    "papermill": {
     "duration": 0.040367,
     "end_time": "2021-08-30T07:00:08.117421",
     "exception": false,
     "start_time": "2021-08-30T07:00:08.077054",
     "status": "completed"
    },
    "tags": []
   },
   "outputs": [],
   "source": [
    "df_pivot.columns = [\"stamp_1\", \"stamp_2\"]\n",
    "df_pivot_diff = df_pivot.diff(axis=1)"
   ]
  },
  {
   "cell_type": "code",
   "execution_count": 7,
   "id": "fifth-motion",
   "metadata": {
    "execution": {
     "iopub.execute_input": "2021-08-30T07:00:08.173069Z",
     "iopub.status.busy": "2021-08-30T07:00:08.170374Z",
     "iopub.status.idle": "2021-08-30T07:00:09.676036Z",
     "shell.execute_reply": "2021-08-30T07:00:09.677496Z"
    },
    "papermill": {
     "duration": 1.539554,
     "end_time": "2021-08-30T07:00:09.677934",
     "exception": false,
     "start_time": "2021-08-30T07:00:08.138380",
     "status": "completed"
    },
    "tags": []
   },
   "outputs": [
    {
     "data": {
      "text/plain": [
       "<AxesSubplot:ylabel='PRODUCT'>"
      ]
     },
     "execution_count": 7,
     "metadata": {},
     "output_type": "execute_result"
    },
    {
     "data": {
      "image/png": "[encoded data removed]",
      "text/plain": [
       "<Figure size 432x288 with 1 Axes>"
      ]
     },
     "metadata": {
      "needs_background": "light"
     },
     "output_type": "display_data"
    }
   ],
   "source": [
    "df_pivot_diff.sort_values(\"stamp_2\", ascending = False)[\"stamp_2\"].head(10).plot.barh()"
   ]
  },
  {
   "cell_type": "code",
   "execution_count": null,
   "id": "extra-executive",
   "metadata": {
    "papermill": {
     "duration": 0.022081,
     "end_time": "2021-08-30T07:00:09.723618",
     "exception": false,
     "start_time": "2021-08-30T07:00:09.701537",
     "status": "completed"
    },
    "tags": []
   },
   "outputs": [],
   "source": []
  }
 ],
 "metadata": {
  "kernelspec": {
   "display_name": "Python 3",
   "language": "python",
   "name": "python3"
  },
  "language_info": {
   "codemirror_mode": {
    "name": "ipython",
    "version": 3
   },
   "file_extension": ".py",
   "mimetype": "text/x-python",
   "name": "python",
   "nbconvert_exporter": "python",
   "pygments_lexer": "ipython3",
   "version": "3.9.5"
  },
  "papermill": {
   "default_parameters": {},
   "duration": 6.822859,
   "end_time": "2021-08-30T07:00:10.928311",
   "environment_variables": {},
   "exception": null,
   "input_path": "eBay_Overview.ipynb",
   "output_path": "eBay_Overview.ipynb",
   "parameters": {},
   "start_time": "2021-08-30T07:00:04.105452",
   "version": "2.3.3"
  }
 },
 "nbformat": 4,
 "nbformat_minor": 5
}