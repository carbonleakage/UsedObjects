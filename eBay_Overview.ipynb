{
 "cells": [
  {
   "cell_type": "code",
   "execution_count": 1,
   "id": "reverse-picking",
   "metadata": {
    "execution": {
     "iopub.execute_input": "2021-10-25T23:30:06.949056Z",
     "iopub.status.busy": "2021-10-25T23:30:06.947015Z",
     "iopub.status.idle": "2021-10-25T23:30:07.753239Z",
     "shell.execute_reply": "2021-10-25T23:30:07.754613Z"
    },
    "papermill": {
     "duration": 0.857858,
     "end_time": "2021-10-25T23:30:07.755259",
     "exception": false,
     "start_time": "2021-10-25T23:30:06.897401",
     "status": "completed"
    },
    "tags": []
   },
   "outputs": [],
   "source": [
    "import pandas as pd\n",
    "import sqlite3"
   ]
  },
  {
   "cell_type": "code",
   "execution_count": 2,
   "id": "innovative-syndrome",
   "metadata": {
    "execution": {
     "iopub.execute_input": "2021-10-25T23:30:07.806436Z",
     "iopub.status.busy": "2021-10-25T23:30:07.804432Z",
     "iopub.status.idle": "2021-10-25T23:30:08.459227Z",
     "shell.execute_reply": "2021-10-25T23:30:08.460592Z"
    },
    "papermill": {
     "duration": 0.684511,
     "end_time": "2021-10-25T23:30:08.461110",
     "exception": false,
     "start_time": "2021-10-25T23:30:07.776599",
     "status": "completed"
    },
    "tags": []
   },
   "outputs": [],
   "source": [
    "timestamps = pd.read_sql(\"select distinct record_time from EBAY_TOP_BERLIN order by record_time desc limit 2\", sqlite3.connect(\"UsedObjects.db\"))"
   ]
  },
  {
   "cell_type": "code",
   "execution_count": 3,
   "id": "periodic-identification",
   "metadata": {
    "execution": {
     "iopub.execute_input": "2021-10-25T23:30:08.549392Z",
     "iopub.status.busy": "2021-10-25T23:30:08.547283Z",
     "iopub.status.idle": "2021-10-25T23:30:08.567528Z",
     "shell.execute_reply": "2021-10-25T23:30:08.569056Z"
    },
    "papermill": {
     "duration": 0.07257,
     "end_time": "2021-10-25T23:30:08.569529",
     "exception": false,
     "start_time": "2021-10-25T23:30:08.496959",
     "status": "completed"
    },
    "tags": []
   },
   "outputs": [
    {
     "data": {
      "text/html": [
       "<div>\n",
       "<style scoped>\n",
       "    .dataframe tbody tr th:only-of-type {\n",
       "        vertical-align: middle;\n",
       "    }\n",
       "\n",
       "    .dataframe tbody tr th {\n",
       "        vertical-align: top;\n",
       "    }\n",
       "\n",
       "    .dataframe thead th {\n",
       "        text-align: right;\n",
       "    }\n",
       "</style>\n",
       "<table border=\"1\" class=\"dataframe\">\n",
       "  <thead>\n",
       "    <tr style=\"text-align: right;\">\n",
       "      <th></th>\n",
       "      <th>RECORD_TIME</th>\n",
       "    </tr>\n",
       "  </thead>\n",
       "  <tbody>\n",
       "    <tr>\n",
       "      <th>0</th>\n",
       "      <td>2021-10-26 01:30</td>\n",
       "    </tr>\n",
       "    <tr>\n",
       "      <th>1</th>\n",
       "      <td>2021-10-26 01:00</td>\n",
       "    </tr>\n",
       "  </tbody>\n",
       "</table>\n",
       "</div>"
      ],
      "text/plain": [
       "        RECORD_TIME\n",
       "0  2021-10-26 01:30\n",
       "1  2021-10-26 01:00"
      ]
     },
     "execution_count": 3,
     "metadata": {},
     "output_type": "execute_result"
    }
   ],
   "source": [
    "timestamps"
   ]
  },
  {
   "cell_type": "code",
   "execution_count": 4,
   "id": "alternate-victory",
   "metadata": {
    "execution": {
     "iopub.execute_input": "2021-10-25T23:30:08.621307Z",
     "iopub.status.busy": "2021-10-25T23:30:08.619362Z",
     "iopub.status.idle": "2021-10-25T23:30:09.538697Z",
     "shell.execute_reply": "2021-10-25T23:30:09.539913Z"
    },
    "papermill": {
     "duration": 0.949004,
     "end_time": "2021-10-25T23:30:09.540301",
     "exception": false,
     "start_time": "2021-10-25T23:30:08.591297",
     "status": "completed"
    },
    "tags": []
   },
   "outputs": [],
   "source": [
    "df = pd.read_sql(\"select * from EBAY_TOP_BERLIN where record_time in (select distinct record_time from EBAY_TOP_BERLIN order by record_time desc limit 2)\", sqlite3.connect(\"UsedObjects.db\"))"
   ]
  },
  {
   "cell_type": "code",
   "execution_count": 5,
   "id": "popular-active",
   "metadata": {
    "execution": {
     "iopub.execute_input": "2021-10-25T23:30:09.605510Z",
     "iopub.status.busy": "2021-10-25T23:30:09.598010Z",
     "iopub.status.idle": "2021-10-25T23:30:09.626990Z",
     "shell.execute_reply": "2021-10-25T23:30:09.625465Z"
    },
    "papermill": {
     "duration": 0.066251,
     "end_time": "2021-10-25T23:30:09.627357",
     "exception": false,
     "start_time": "2021-10-25T23:30:09.561106",
     "status": "completed"
    },
    "tags": []
   },
   "outputs": [],
   "source": [
    "df_pivot = df.pivot_table(index=\"PRODUCT\", columns = \"RECORD_TIME\", values = \"LISTING_COUNT\")"
   ]
  },
  {
   "cell_type": "code",
   "execution_count": 6,
   "id": "union-huntington",
   "metadata": {
    "execution": {
     "iopub.execute_input": "2021-10-25T23:30:09.684399Z",
     "iopub.status.busy": "2021-10-25T23:30:09.682102Z",
     "iopub.status.idle": "2021-10-25T23:30:09.687793Z",
     "shell.execute_reply": "2021-10-25T23:30:09.689070Z"
    },
    "papermill": {
     "duration": 0.041707,
     "end_time": "2021-10-25T23:30:09.689500",
     "exception": false,
     "start_time": "2021-10-25T23:30:09.647793",
     "status": "completed"
    },
    "tags": []
   },
   "outputs": [],
   "source": [
    "df_pivot.columns = [\"stamp_1\", \"stamp_2\"]\n",
    "df_pivot_diff = df_pivot.diff(axis=1)"
   ]
  },
  {
   "cell_type": "code",
   "execution_count": 7,
   "id": "fifth-motion",
   "metadata": {
    "execution": {
     "iopub.execute_input": "2021-10-25T23:30:09.743853Z",
     "iopub.status.busy": "2021-10-25T23:30:09.741601Z",
     "iopub.status.idle": "2021-10-25T23:30:11.220383Z",
     "shell.execute_reply": "2021-10-25T23:30:11.221664Z"
    },
    "papermill": {
     "duration": 1.511896,
     "end_time": "2021-10-25T23:30:11.222096",
     "exception": false,
     "start_time": "2021-10-25T23:30:09.710200",
     "status": "completed"
    },
    "tags": []
   },
   "outputs": [
    {
     "data": {
      "text/plain": [
       "<AxesSubplot:ylabel='PRODUCT'>"
      ]
     },
     "execution_count": 7,
     "metadata": {},
     "output_type": "execute_result"
    },
    {
     "data": {
      "image/png": "[encoded data removed]",
      "text/plain": [
       "<Figure size 432x288 with 1 Axes>"
      ]
     },
     "metadata": {
      "needs_background": "light"
     },
     "output_type": "display_data"
    }
   ],
   "source": [
    "df_pivot_diff.sort_values(\"stamp_2\", ascending = False)[\"stamp_2\"].head(10).plot.barh()"
   ]
  },
  {
   "cell_type": "code",
   "execution_count": null,
   "id": "extra-executive",
   "metadata": {
    "papermill": {
     "duration": 0.022229,
     "end_time": "2021-10-25T23:30:11.269272",
     "exception": false,
     "start_time": "2021-10-25T23:30:11.247043",
     "status": "completed"
    },
    "tags": []
   },
   "outputs": [],
   "source": []
  }
 ],
 "metadata": {
  "kernelspec": {
   "display_name": "Python 3",
   "language": "python",
   "name": "python3"
  },
  "language_info": {
   "codemirror_mode": {
    "name": "ipython",
    "version": 3
   },
   "file_extension": ".py",
   "mimetype": "text/x-python",
   "name": "python",
   "nbconvert_exporter": "python",
   "pygments_lexer": "ipython3",
   "version": "3.9.5"
  },
  "papermill": {
   "default_parameters": {},
   "duration": 7.432977,
   "end_time": "2021-10-25T23:30:11.912614",
   "environment_variables": {},
   "exception": null,
   "input_path": "eBay_Overview.ipynb",
   "output_path": "eBay_Overview.ipynb",
   "parameters": {},
   "start_time": "2021-10-25T23:30:04.479637",
   "version": "2.3.3"
  }
 },
 "nbformat": 4,
 "nbformat_minor": 5
}