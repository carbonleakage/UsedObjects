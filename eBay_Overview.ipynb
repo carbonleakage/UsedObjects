{
 "cells": [
  {
   "cell_type": "code",
   "execution_count": 1,
   "id": "reverse-picking",
   "metadata": {
    "execution": {
     "iopub.execute_input": "2021-08-30T01:30:06.818305Z",
     "iopub.status.busy": "2021-08-30T01:30:06.816394Z",
     "iopub.status.idle": "2021-08-30T01:30:07.620844Z",
     "shell.execute_reply": "2021-08-30T01:30:07.622194Z"
    },
    "papermill": {
     "duration": 0.856703,
     "end_time": "2021-08-30T01:30:07.622819",
     "exception": false,
     "start_time": "2021-08-30T01:30:06.766116",
     "status": "completed"
    },
    "tags": []
   },
   "outputs": [],
   "source": [
    "import pandas as pd\n",
    "import sqlite3"
   ]
  },
  {
   "cell_type": "code",
   "execution_count": 2,
   "id": "innovative-syndrome",
   "metadata": {
    "execution": {
     "iopub.execute_input": "2021-08-30T01:30:07.673068Z",
     "iopub.status.busy": "2021-08-30T01:30:07.671019Z",
     "iopub.status.idle": "2021-08-30T01:30:07.832678Z",
     "shell.execute_reply": "2021-08-30T01:30:07.834055Z"
    },
    "papermill": {
     "duration": 0.191663,
     "end_time": "2021-08-30T01:30:07.834495",
     "exception": false,
     "start_time": "2021-08-30T01:30:07.642832",
     "status": "completed"
    },
    "tags": []
   },
   "outputs": [],
   "source": [
    "timestamps = pd.read_sql(\"select distinct record_time from EBAY_TOP_BERLIN order by record_time desc limit 2\", sqlite3.connect(\"UsedObjects.db\"))"
   ]
  },
  {
   "cell_type": "code",
   "execution_count": 3,
   "id": "periodic-identification",
   "metadata": {
    "execution": {
     "iopub.execute_input": "2021-08-30T01:30:07.900806Z",
     "iopub.status.busy": "2021-08-30T01:30:07.898712Z",
     "iopub.status.idle": "2021-08-30T01:30:07.919044Z",
     "shell.execute_reply": "2021-08-30T01:30:07.920557Z"
    },
    "papermill": {
     "duration": 0.066839,
     "end_time": "2021-08-30T01:30:07.921033",
     "exception": false,
     "start_time": "2021-08-30T01:30:07.854194",
     "status": "completed"
    },
    "tags": []
   },
   "outputs": [
    {
     "data": {
      "text/html": [
       "<div>\n",
       "<style scoped>\n",
       "    .dataframe tbody tr th:only-of-type {\n",
       "        vertical-align: middle;\n",
       "    }\n",
       "\n",
       "    .dataframe tbody tr th {\n",
       "        vertical-align: top;\n",
       "    }\n",
       "\n",
       "    .dataframe thead th {\n",
       "        text-align: right;\n",
       "    }\n",
       "</style>\n",
       "<table border=\"1\" class=\"dataframe\">\n",
       "  <thead>\n",
       "    <tr style=\"text-align: right;\">\n",
       "      <th></th>\n",
       "      <th>RECORD_TIME</th>\n",
       "    </tr>\n",
       "  </thead>\n",
       "  <tbody>\n",
       "    <tr>\n",
       "      <th>0</th>\n",
       "      <td>2021-08-30 03:30</td>\n",
       "    </tr>\n",
       "    <tr>\n",
       "      <th>1</th>\n",
       "      <td>2021-08-30 03:00</td>\n",
       "    </tr>\n",
       "  </tbody>\n",
       "</table>\n",
       "</div>"
      ],
      "text/plain": [
       "        RECORD_TIME\n",
       "0  2021-08-30 03:30\n",
       "1  2021-08-30 03:00"
      ]
     },
     "execution_count": 3,
     "metadata": {},
     "output_type": "execute_result"
    }
   ],
   "source": [
    "timestamps"
   ]
  },
  {
   "cell_type": "code",
   "execution_count": 4,
   "id": "alternate-victory",
   "metadata": {
    "execution": {
     "iopub.execute_input": "2021-08-30T01:30:07.972627Z",
     "iopub.status.busy": "2021-08-30T01:30:07.970673Z",
     "iopub.status.idle": "2021-08-30T01:30:08.214084Z",
     "shell.execute_reply": "2021-08-30T01:30:08.215289Z"
    },
    "papermill": {
     "duration": 0.273065,
     "end_time": "2021-08-30T01:30:08.215690",
     "exception": false,
     "start_time": "2021-08-30T01:30:07.942625",
     "status": "completed"
    },
    "tags": []
   },
   "outputs": [],
   "source": [
    "df = pd.read_sql(\"select * from EBAY_TOP_BERLIN where record_time in (select distinct record_time from EBAY_TOP_BERLIN order by record_time desc limit 2)\", sqlite3.connect(\"UsedObjects.db\"))"
   ]
  },
  {
   "cell_type": "code",
   "execution_count": 5,
   "id": "popular-active",
   "metadata": {
    "execution": {
     "iopub.execute_input": "2021-08-30T01:30:08.294166Z",
     "iopub.status.busy": "2021-08-30T01:30:08.282954Z",
     "iopub.status.idle": "2021-08-30T01:30:08.310484Z",
     "shell.execute_reply": "2021-08-30T01:30:08.311768Z"
    },
    "papermill": {
     "duration": 0.070949,
     "end_time": "2021-08-30T01:30:08.312187",
     "exception": false,
     "start_time": "2021-08-30T01:30:08.241238",
     "status": "completed"
    },
    "tags": []
   },
   "outputs": [],
   "source": [
    "df_pivot = df.pivot_table(index=\"PRODUCT\", columns = \"RECORD_TIME\", values = \"LISTING_COUNT\")"
   ]
  },
  {
   "cell_type": "code",
   "execution_count": 6,
   "id": "union-huntington",
   "metadata": {
    "execution": {
     "iopub.execute_input": "2021-08-30T01:30:08.368401Z",
     "iopub.status.busy": "2021-08-30T01:30:08.366322Z",
     "iopub.status.idle": "2021-08-30T01:30:08.371640Z",
     "shell.execute_reply": "2021-08-30T01:30:08.372899Z"
    },
    "papermill": {
     "duration": 0.041068,
     "end_time": "2021-08-30T01:30:08.373339",
     "exception": false,
     "start_time": "2021-08-30T01:30:08.332271",
     "status": "completed"
    },
    "tags": []
   },
   "outputs": [],
   "source": [
    "df_pivot.columns = [\"stamp_1\", \"stamp_2\"]\n",
    "df_pivot_diff = df_pivot.diff(axis=1)"
   ]
  },
  {
   "cell_type": "code",
   "execution_count": 7,
   "id": "fifth-motion",
   "metadata": {
    "execution": {
     "iopub.execute_input": "2021-08-30T01:30:08.429855Z",
     "iopub.status.busy": "2021-08-30T01:30:08.427330Z",
     "iopub.status.idle": "2021-08-30T01:30:09.899435Z",
     "shell.execute_reply": "2021-08-30T01:30:09.900948Z"
    },
    "papermill": {
     "duration": 1.505249,
     "end_time": "2021-08-30T01:30:09.901422",
     "exception": false,
     "start_time": "2021-08-30T01:30:08.396173",
     "status": "completed"
    },
    "tags": []
   },
   "outputs": [
    {
     "data": {
      "text/plain": [
       "<AxesSubplot:ylabel='PRODUCT'>"
      ]
     },
     "execution_count": 7,
     "metadata": {},
     "output_type": "execute_result"
    },
    {
     "data": {
      "image/png": "[encoded data removed]",
      "text/plain": [
       "<Figure size 432x288 with 1 Axes>"
      ]
     },
     "metadata": {
      "needs_background": "light"
     },
     "output_type": "display_data"
    }
   ],
   "source": [
    "df_pivot_diff.sort_values(\"stamp_2\", ascending = False)[\"stamp_2\"].head(10).plot.barh()"
   ]
  },
  {
   "cell_type": "code",
   "execution_count": null,
   "id": "extra-executive",
   "metadata": {
    "papermill": {
     "duration": 0.022065,
     "end_time": "2021-08-30T01:30:09.948067",
     "exception": false,
     "start_time": "2021-08-30T01:30:09.926002",
     "status": "completed"
    },
    "tags": []
   },
   "outputs": [],
   "source": []
  }
 ],
 "metadata": {
  "kernelspec": {
   "display_name": "Python 3",
   "language": "python",
   "name": "python3"
  },
  "language_info": {
   "codemirror_mode": {
    "name": "ipython",
    "version": 3
   },
   "file_extension": ".py",
   "mimetype": "text/x-python",
   "name": "python",
   "nbconvert_exporter": "python",
   "pygments_lexer": "ipython3",
   "version": "3.9.5"
  },
  "papermill": {
   "default_parameters": {},
   "duration": 6.826531,
   "end_time": "2021-08-30T01:30:11.180879",
   "environment_variables": {},
   "exception": null,
   "input_path": "eBay_Overview.ipynb",
   "output_path": "eBay_Overview.ipynb",
   "parameters": {},
   "start_time": "2021-08-30T01:30:04.354348",
   "version": "2.3.3"
  }
 },
 "nbformat": 4,
 "nbformat_minor": 5
}