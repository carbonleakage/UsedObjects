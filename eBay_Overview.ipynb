{
 "cells": [
  {
   "cell_type": "code",
   "execution_count": 1,
   "id": "reverse-picking",
   "metadata": {
    "execution": {
     "iopub.execute_input": "2021-09-02T12:00:07.164387Z",
     "iopub.status.busy": "2021-09-02T12:00:07.162333Z",
     "iopub.status.idle": "2021-09-02T12:00:07.965691Z",
     "shell.execute_reply": "2021-09-02T12:00:07.964121Z"
    },
    "papermill": {
     "duration": 0.85247,
     "end_time": "2021-09-02T12:00:07.966089",
     "exception": false,
     "start_time": "2021-09-02T12:00:07.113619",
     "status": "completed"
    },
    "tags": []
   },
   "outputs": [],
   "source": [
    "import pandas as pd\n",
    "import sqlite3"
   ]
  },
  {
   "cell_type": "code",
   "execution_count": 2,
   "id": "innovative-syndrome",
   "metadata": {
    "execution": {
     "iopub.execute_input": "2021-09-02T12:00:08.017699Z",
     "iopub.status.busy": "2021-09-02T12:00:08.015841Z",
     "iopub.status.idle": "2021-09-02T12:00:08.201934Z",
     "shell.execute_reply": "2021-09-02T12:00:08.203292Z"
    },
    "papermill": {
     "duration": 0.215847,
     "end_time": "2021-09-02T12:00:08.203729",
     "exception": false,
     "start_time": "2021-09-02T12:00:07.987882",
     "status": "completed"
    },
    "tags": []
   },
   "outputs": [],
   "source": [
    "timestamps = pd.read_sql(\"select distinct record_time from EBAY_TOP_BERLIN order by record_time desc limit 2\", sqlite3.connect(\"UsedObjects.db\"))"
   ]
  },
  {
   "cell_type": "code",
   "execution_count": 3,
   "id": "periodic-identification",
   "metadata": {
    "execution": {
     "iopub.execute_input": "2021-09-02T12:00:08.269062Z",
     "iopub.status.busy": "2021-09-02T12:00:08.267005Z",
     "iopub.status.idle": "2021-09-02T12:00:08.288996Z",
     "shell.execute_reply": "2021-09-02T12:00:08.290216Z"
    },
    "papermill": {
     "duration": 0.067348,
     "end_time": "2021-09-02T12:00:08.290623",
     "exception": false,
     "start_time": "2021-09-02T12:00:08.223275",
     "status": "completed"
    },
    "tags": []
   },
   "outputs": [
    {
     "data": {
      "text/html": [
       "<div>\n",
       "<style scoped>\n",
       "    .dataframe tbody tr th:only-of-type {\n",
       "        vertical-align: middle;\n",
       "    }\n",
       "\n",
       "    .dataframe tbody tr th {\n",
       "        vertical-align: top;\n",
       "    }\n",
       "\n",
       "    .dataframe thead th {\n",
       "        text-align: right;\n",
       "    }\n",
       "</style>\n",
       "<table border=\"1\" class=\"dataframe\">\n",
       "  <thead>\n",
       "    <tr style=\"text-align: right;\">\n",
       "      <th></th>\n",
       "      <th>RECORD_TIME</th>\n",
       "    </tr>\n",
       "  </thead>\n",
       "  <tbody>\n",
       "    <tr>\n",
       "      <th>0</th>\n",
       "      <td>2021-09-02 14:00</td>\n",
       "    </tr>\n",
       "    <tr>\n",
       "      <th>1</th>\n",
       "      <td>2021-09-02 13:30</td>\n",
       "    </tr>\n",
       "  </tbody>\n",
       "</table>\n",
       "</div>"
      ],
      "text/plain": [
       "        RECORD_TIME\n",
       "0  2021-09-02 14:00\n",
       "1  2021-09-02 13:30"
      ]
     },
     "execution_count": 3,
     "metadata": {},
     "output_type": "execute_result"
    }
   ],
   "source": [
    "timestamps"
   ]
  },
  {
   "cell_type": "code",
   "execution_count": 4,
   "id": "alternate-victory",
   "metadata": {
    "execution": {
     "iopub.execute_input": "2021-09-02T12:00:08.344520Z",
     "iopub.status.busy": "2021-09-02T12:00:08.342130Z",
     "iopub.status.idle": "2021-09-02T12:00:08.627311Z",
     "shell.execute_reply": "2021-09-02T12:00:08.628831Z"
    },
    "papermill": {
     "duration": 0.315947,
     "end_time": "2021-09-02T12:00:08.629278",
     "exception": false,
     "start_time": "2021-09-02T12:00:08.313331",
     "status": "completed"
    },
    "tags": []
   },
   "outputs": [],
   "source": [
    "df = pd.read_sql(\"select * from EBAY_TOP_BERLIN where record_time in (select distinct record_time from EBAY_TOP_BERLIN order by record_time desc limit 2)\", sqlite3.connect(\"UsedObjects.db\"))"
   ]
  },
  {
   "cell_type": "code",
   "execution_count": 5,
   "id": "popular-active",
   "metadata": {
    "execution": {
     "iopub.execute_input": "2021-09-02T12:00:08.708632Z",
     "iopub.status.busy": "2021-09-02T12:00:08.697763Z",
     "iopub.status.idle": "2021-09-02T12:00:08.725033Z",
     "shell.execute_reply": "2021-09-02T12:00:08.726250Z"
    },
    "papermill": {
     "duration": 0.070953,
     "end_time": "2021-09-02T12:00:08.726653",
     "exception": false,
     "start_time": "2021-09-02T12:00:08.655700",
     "status": "completed"
    },
    "tags": []
   },
   "outputs": [],
   "source": [
    "df_pivot = df.pivot_table(index=\"PRODUCT\", columns = \"RECORD_TIME\", values = \"LISTING_COUNT\")"
   ]
  },
  {
   "cell_type": "code",
   "execution_count": 6,
   "id": "union-huntington",
   "metadata": {
    "execution": {
     "iopub.execute_input": "2021-09-02T12:00:08.783467Z",
     "iopub.status.busy": "2021-09-02T12:00:08.781377Z",
     "iopub.status.idle": "2021-09-02T12:00:08.786581Z",
     "shell.execute_reply": "2021-09-02T12:00:08.788030Z"
    },
    "papermill": {
     "duration": 0.040365,
     "end_time": "2021-09-02T12:00:08.788473",
     "exception": false,
     "start_time": "2021-09-02T12:00:08.748108",
     "status": "completed"
    },
    "tags": []
   },
   "outputs": [],
   "source": [
    "df_pivot.columns = [\"stamp_1\", \"stamp_2\"]\n",
    "df_pivot_diff = df_pivot.diff(axis=1)"
   ]
  },
  {
   "cell_type": "code",
   "execution_count": 7,
   "id": "fifth-motion",
   "metadata": {
    "execution": {
     "iopub.execute_input": "2021-09-02T12:00:08.842396Z",
     "iopub.status.busy": "2021-09-02T12:00:08.840025Z",
     "iopub.status.idle": "2021-09-02T12:00:10.358381Z",
     "shell.execute_reply": "2021-09-02T12:00:10.359744Z"
    },
    "papermill": {
     "duration": 1.55124,
     "end_time": "2021-09-02T12:00:10.360170",
     "exception": false,
     "start_time": "2021-09-02T12:00:08.808930",
     "status": "completed"
    },
    "tags": []
   },
   "outputs": [
    {
     "data": {
      "text/plain": [
       "<AxesSubplot:ylabel='PRODUCT'>"
      ]
     },
     "execution_count": 7,
     "metadata": {},
     "output_type": "execute_result"
    },
    {
     "data": {
      "image/png": "[encoded data removed]",
      "text/plain": [
       "<Figure size 432x288 with 1 Axes>"
      ]
     },
     "metadata": {
      "needs_background": "light"
     },
     "output_type": "display_data"
    }
   ],
   "source": [
    "df_pivot_diff.sort_values(\"stamp_2\", ascending = False)[\"stamp_2\"].head(10).plot.barh()"
   ]
  },
  {
   "cell_type": "code",
   "execution_count": null,
   "id": "extra-executive",
   "metadata": {
    "papermill": {
     "duration": 0.022311,
     "end_time": "2021-09-02T12:00:10.406062",
     "exception": false,
     "start_time": "2021-09-02T12:00:10.383751",
     "status": "completed"
    },
    "tags": []
   },
   "outputs": [],
   "source": []
  }
 ],
 "metadata": {
  "kernelspec": {
   "display_name": "Python 3",
   "language": "python",
   "name": "python3"
  },
  "language_info": {
   "codemirror_mode": {
    "name": "ipython",
    "version": 3
   },
   "file_extension": ".py",
   "mimetype": "text/x-python",
   "name": "python",
   "nbconvert_exporter": "python",
   "pygments_lexer": "ipython3",
   "version": "3.9.5"
  },
  "papermill": {
   "default_parameters": {},
   "duration": 6.332764,
   "end_time": "2021-09-02T12:00:11.049214",
   "environment_variables": {},
   "exception": null,
   "input_path": "eBay_Overview.ipynb",
   "output_path": "eBay_Overview.ipynb",
   "parameters": {},
   "start_time": "2021-09-02T12:00:04.716450",
   "version": "2.3.3"
  }
 },
 "nbformat": 4,
 "nbformat_minor": 5
}