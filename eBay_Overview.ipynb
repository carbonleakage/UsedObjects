{
 "cells": [
  {
   "cell_type": "code",
   "execution_count": 1,
   "id": "reverse-picking",
   "metadata": {
    "execution": {
     "iopub.execute_input": "2021-10-01T13:00:07.365022Z",
     "iopub.status.busy": "2021-10-01T13:00:07.363060Z",
     "iopub.status.idle": "2021-10-01T13:00:08.171842Z",
     "shell.execute_reply": "2021-10-01T13:00:08.173120Z"
    },
    "papermill": {
     "duration": 0.860607,
     "end_time": "2021-10-01T13:00:08.173737",
     "exception": false,
     "start_time": "2021-10-01T13:00:07.313130",
     "status": "completed"
    },
    "tags": []
   },
   "outputs": [],
   "source": [
    "import pandas as pd\n",
    "import sqlite3"
   ]
  },
  {
   "cell_type": "code",
   "execution_count": 2,
   "id": "innovative-syndrome",
   "metadata": {
    "execution": {
     "iopub.execute_input": "2021-10-01T13:00:08.227488Z",
     "iopub.status.busy": "2021-10-01T13:00:08.225102Z",
     "iopub.status.idle": "2021-10-01T13:00:08.653298Z",
     "shell.execute_reply": "2021-10-01T13:00:08.654496Z"
    },
    "papermill": {
     "duration": 0.458364,
     "end_time": "2021-10-01T13:00:08.655058",
     "exception": false,
     "start_time": "2021-10-01T13:00:08.196694",
     "status": "completed"
    },
    "tags": []
   },
   "outputs": [],
   "source": [
    "timestamps = pd.read_sql(\"select distinct record_time from EBAY_TOP_BERLIN order by record_time desc limit 2\", sqlite3.connect(\"UsedObjects.db\"))"
   ]
  },
  {
   "cell_type": "code",
   "execution_count": 3,
   "id": "periodic-identification",
   "metadata": {
    "execution": {
     "iopub.execute_input": "2021-10-01T13:00:08.719459Z",
     "iopub.status.busy": "2021-10-01T13:00:08.717318Z",
     "iopub.status.idle": "2021-10-01T13:00:08.737917Z",
     "shell.execute_reply": "2021-10-01T13:00:08.739264Z"
    },
    "papermill": {
     "duration": 0.065446,
     "end_time": "2021-10-01T13:00:08.739685",
     "exception": false,
     "start_time": "2021-10-01T13:00:08.674239",
     "status": "completed"
    },
    "tags": []
   },
   "outputs": [
    {
     "data": {
      "text/html": [
       "<div>\n",
       "<style scoped>\n",
       "    .dataframe tbody tr th:only-of-type {\n",
       "        vertical-align: middle;\n",
       "    }\n",
       "\n",
       "    .dataframe tbody tr th {\n",
       "        vertical-align: top;\n",
       "    }\n",
       "\n",
       "    .dataframe thead th {\n",
       "        text-align: right;\n",
       "    }\n",
       "</style>\n",
       "<table border=\"1\" class=\"dataframe\">\n",
       "  <thead>\n",
       "    <tr style=\"text-align: right;\">\n",
       "      <th></th>\n",
       "      <th>RECORD_TIME</th>\n",
       "    </tr>\n",
       "  </thead>\n",
       "  <tbody>\n",
       "    <tr>\n",
       "      <th>0</th>\n",
       "      <td>2021-10-01 15:00</td>\n",
       "    </tr>\n",
       "    <tr>\n",
       "      <th>1</th>\n",
       "      <td>2021-10-01 14:30</td>\n",
       "    </tr>\n",
       "  </tbody>\n",
       "</table>\n",
       "</div>"
      ],
      "text/plain": [
       "        RECORD_TIME\n",
       "0  2021-10-01 15:00\n",
       "1  2021-10-01 14:30"
      ]
     },
     "execution_count": 3,
     "metadata": {},
     "output_type": "execute_result"
    }
   ],
   "source": [
    "timestamps"
   ]
  },
  {
   "cell_type": "code",
   "execution_count": 4,
   "id": "alternate-victory",
   "metadata": {
    "execution": {
     "iopub.execute_input": "2021-10-01T13:00:08.798181Z",
     "iopub.status.busy": "2021-10-01T13:00:08.796162Z",
     "iopub.status.idle": "2021-10-01T13:00:09.433261Z",
     "shell.execute_reply": "2021-10-01T13:00:09.434541Z"
    },
    "papermill": {
     "duration": 0.674921,
     "end_time": "2021-10-01T13:00:09.435056",
     "exception": false,
     "start_time": "2021-10-01T13:00:08.760135",
     "status": "completed"
    },
    "tags": []
   },
   "outputs": [],
   "source": [
    "df = pd.read_sql(\"select * from EBAY_TOP_BERLIN where record_time in (select distinct record_time from EBAY_TOP_BERLIN order by record_time desc limit 2)\", sqlite3.connect(\"UsedObjects.db\"))"
   ]
  },
  {
   "cell_type": "code",
   "execution_count": 5,
   "id": "popular-active",
   "metadata": {
    "execution": {
     "iopub.execute_input": "2021-10-01T13:00:09.505013Z",
     "iopub.status.busy": "2021-10-01T13:00:09.498135Z",
     "iopub.status.idle": "2021-10-01T13:00:09.521768Z",
     "shell.execute_reply": "2021-10-01T13:00:09.523453Z"
    },
    "papermill": {
     "duration": 0.068603,
     "end_time": "2021-10-01T13:00:09.523937",
     "exception": false,
     "start_time": "2021-10-01T13:00:09.455334",
     "status": "completed"
    },
    "tags": []
   },
   "outputs": [],
   "source": [
    "df_pivot = df.pivot_table(index=\"PRODUCT\", columns = \"RECORD_TIME\", values = \"LISTING_COUNT\")"
   ]
  },
  {
   "cell_type": "code",
   "execution_count": 6,
   "id": "union-huntington",
   "metadata": {
    "execution": {
     "iopub.execute_input": "2021-10-01T13:00:09.582320Z",
     "iopub.status.busy": "2021-10-01T13:00:09.580196Z",
     "iopub.status.idle": "2021-10-01T13:00:09.585808Z",
     "shell.execute_reply": "2021-10-01T13:00:09.587154Z"
    },
    "papermill": {
     "duration": 0.041497,
     "end_time": "2021-10-01T13:00:09.587609",
     "exception": false,
     "start_time": "2021-10-01T13:00:09.546112",
     "status": "completed"
    },
    "tags": []
   },
   "outputs": [],
   "source": [
    "df_pivot.columns = [\"stamp_1\", \"stamp_2\"]\n",
    "df_pivot_diff = df_pivot.diff(axis=1)"
   ]
  },
  {
   "cell_type": "code",
   "execution_count": 7,
   "id": "fifth-motion",
   "metadata": {
    "execution": {
     "iopub.execute_input": "2021-10-01T13:00:09.642171Z",
     "iopub.status.busy": "2021-10-01T13:00:09.639795Z",
     "iopub.status.idle": "2021-10-01T13:00:11.148405Z",
     "shell.execute_reply": "2021-10-01T13:00:11.149685Z"
    },
    "papermill": {
     "duration": 1.541473,
     "end_time": "2021-10-01T13:00:11.150104",
     "exception": false,
     "start_time": "2021-10-01T13:00:09.608631",
     "status": "completed"
    },
    "tags": []
   },
   "outputs": [
    {
     "data": {
      "text/plain": [
       "<AxesSubplot:ylabel='PRODUCT'>"
      ]
     },
     "execution_count": 7,
     "metadata": {},
     "output_type": "execute_result"
    },
    {
     "data": {
      "image/png": "[encoded data removed]",
      "text/plain": [
       "<Figure size 432x288 with 1 Axes>"
      ]
     },
     "metadata": {
      "needs_background": "light"
     },
     "output_type": "display_data"
    }
   ],
   "source": [
    "df_pivot_diff.sort_values(\"stamp_2\", ascending = False)[\"stamp_2\"].head(10).plot.barh()"
   ]
  },
  {
   "cell_type": "code",
   "execution_count": null,
   "id": "extra-executive",
   "metadata": {
    "papermill": {
     "duration": 0.022372,
     "end_time": "2021-10-01T13:00:11.198620",
     "exception": false,
     "start_time": "2021-10-01T13:00:11.176248",
     "status": "completed"
    },
    "tags": []
   },
   "outputs": [],
   "source": []
  }
 ],
 "metadata": {
  "kernelspec": {
   "display_name": "Python 3",
   "language": "python",
   "name": "python3"
  },
  "language_info": {
   "codemirror_mode": {
    "name": "ipython",
    "version": 3
   },
   "file_extension": ".py",
   "mimetype": "text/x-python",
   "name": "python",
   "nbconvert_exporter": "python",
   "pygments_lexer": "ipython3",
   "version": "3.9.5"
  },
  "papermill": {
   "default_parameters": {},
   "duration": 7.827106,
   "end_time": "2021-10-01T13:00:12.724793",
   "environment_variables": {},
   "exception": null,
   "input_path": "eBay_Overview.ipynb",
   "output_path": "eBay_Overview.ipynb",
   "parameters": {},
   "start_time": "2021-10-01T13:00:04.897687",
   "version": "2.3.3"
  }
 },
 "nbformat": 4,
 "nbformat_minor": 5
}