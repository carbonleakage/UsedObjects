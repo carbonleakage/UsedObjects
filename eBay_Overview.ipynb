{
 "cells": [
  {
   "cell_type": "code",
   "execution_count": 1,
   "id": "reverse-picking",
   "metadata": {
    "execution": {
     "iopub.execute_input": "2021-11-09T22:00:07.244902Z",
     "iopub.status.busy": "2021-11-09T22:00:07.242347Z",
     "iopub.status.idle": "2021-11-09T22:00:08.161774Z",
     "shell.execute_reply": "2021-11-09T22:00:08.163287Z"
    },
    "papermill": {
     "duration": 0.970568,
     "end_time": "2021-11-09T22:00:08.164366",
     "exception": false,
     "start_time": "2021-11-09T22:00:07.193798",
     "status": "completed"
    },
    "tags": []
   },
   "outputs": [],
   "source": [
    "import pandas as pd\n",
    "import sqlite3"
   ]
  },
  {
   "cell_type": "code",
   "execution_count": 2,
   "id": "innovative-syndrome",
   "metadata": {
    "execution": {
     "iopub.execute_input": "2021-11-09T22:00:08.230404Z",
     "iopub.status.busy": "2021-11-09T22:00:08.227731Z",
     "iopub.status.idle": "2021-11-09T22:00:09.002776Z",
     "shell.execute_reply": "2021-11-09T22:00:09.004236Z"
    },
    "papermill": {
     "duration": 0.809896,
     "end_time": "2021-11-09T22:00:09.004736",
     "exception": false,
     "start_time": "2021-11-09T22:00:08.194840",
     "status": "completed"
    },
    "tags": []
   },
   "outputs": [],
   "source": [
    "timestamps = pd.read_sql(\"select distinct record_time from EBAY_TOP_BERLIN order by record_time desc limit 2\", sqlite3.connect(\"UsedObjects.db\"))"
   ]
  },
  {
   "cell_type": "code",
   "execution_count": 3,
   "id": "periodic-identification",
   "metadata": {
    "execution": {
     "iopub.execute_input": "2021-11-09T22:00:09.075482Z",
     "iopub.status.busy": "2021-11-09T22:00:09.073213Z",
     "iopub.status.idle": "2021-11-09T22:00:09.096098Z",
     "shell.execute_reply": "2021-11-09T22:00:09.097886Z"
    },
    "papermill": {
     "duration": 0.073307,
     "end_time": "2021-11-09T22:00:09.098384",
     "exception": false,
     "start_time": "2021-11-09T22:00:09.025077",
     "status": "completed"
    },
    "tags": []
   },
   "outputs": [
    {
     "data": {
      "text/html": [
       "<div>\n",
       "<style scoped>\n",
       "    .dataframe tbody tr th:only-of-type {\n",
       "        vertical-align: middle;\n",
       "    }\n",
       "\n",
       "    .dataframe tbody tr th {\n",
       "        vertical-align: top;\n",
       "    }\n",
       "\n",
       "    .dataframe thead th {\n",
       "        text-align: right;\n",
       "    }\n",
       "</style>\n",
       "<table border=\"1\" class=\"dataframe\">\n",
       "  <thead>\n",
       "    <tr style=\"text-align: right;\">\n",
       "      <th></th>\n",
       "      <th>RECORD_TIME</th>\n",
       "    </tr>\n",
       "  </thead>\n",
       "  <tbody>\n",
       "    <tr>\n",
       "      <th>0</th>\n",
       "      <td>2021-11-09 23:00</td>\n",
       "    </tr>\n",
       "    <tr>\n",
       "      <th>1</th>\n",
       "      <td>2021-11-09 22:30</td>\n",
       "    </tr>\n",
       "  </tbody>\n",
       "</table>\n",
       "</div>"
      ],
      "text/plain": [
       "        RECORD_TIME\n",
       "0  2021-11-09 23:00\n",
       "1  2021-11-09 22:30"
      ]
     },
     "execution_count": 3,
     "metadata": {},
     "output_type": "execute_result"
    }
   ],
   "source": [
    "timestamps"
   ]
  },
  {
   "cell_type": "code",
   "execution_count": 4,
   "id": "alternate-victory",
   "metadata": {
    "execution": {
     "iopub.execute_input": "2021-11-09T22:00:09.157043Z",
     "iopub.status.busy": "2021-11-09T22:00:09.154759Z",
     "iopub.status.idle": "2021-11-09T22:00:10.295776Z",
     "shell.execute_reply": "2021-11-09T22:00:10.297564Z"
    },
    "papermill": {
     "duration": 1.177686,
     "end_time": "2021-11-09T22:00:10.298086",
     "exception": false,
     "start_time": "2021-11-09T22:00:09.120400",
     "status": "completed"
    },
    "tags": []
   },
   "outputs": [],
   "source": [
    "df = pd.read_sql(\"select * from EBAY_TOP_BERLIN where record_time in (select distinct record_time from EBAY_TOP_BERLIN order by record_time desc limit 2)\", sqlite3.connect(\"UsedObjects.db\"))"
   ]
  },
  {
   "cell_type": "code",
   "execution_count": 5,
   "id": "popular-active",
   "metadata": {
    "execution": {
     "iopub.execute_input": "2021-11-09T22:00:10.374897Z",
     "iopub.status.busy": "2021-11-09T22:00:10.361966Z",
     "iopub.status.idle": "2021-11-09T22:00:10.395907Z",
     "shell.execute_reply": "2021-11-09T22:00:10.394350Z"
    },
    "papermill": {
     "duration": 0.075667,
     "end_time": "2021-11-09T22:00:10.396301",
     "exception": false,
     "start_time": "2021-11-09T22:00:10.320634",
     "status": "completed"
    },
    "tags": []
   },
   "outputs": [],
   "source": [
    "df_pivot = df.pivot_table(index=\"PRODUCT\", columns = \"RECORD_TIME\", values = \"LISTING_COUNT\")"
   ]
  },
  {
   "cell_type": "code",
   "execution_count": 6,
   "id": "union-huntington",
   "metadata": {
    "execution": {
     "iopub.execute_input": "2021-11-09T22:00:10.457563Z",
     "iopub.status.busy": "2021-11-09T22:00:10.455265Z",
     "iopub.status.idle": "2021-11-09T22:00:10.462193Z",
     "shell.execute_reply": "2021-11-09T22:00:10.460578Z"
    },
    "papermill": {
     "duration": 0.045041,
     "end_time": "2021-11-09T22:00:10.462576",
     "exception": false,
     "start_time": "2021-11-09T22:00:10.417535",
     "status": "completed"
    },
    "tags": []
   },
   "outputs": [],
   "source": [
    "df_pivot.columns = [\"stamp_1\", \"stamp_2\"]\n",
    "df_pivot_diff = df_pivot.diff(axis=1)"
   ]
  },
  {
   "cell_type": "code",
   "execution_count": 7,
   "id": "fifth-motion",
   "metadata": {
    "execution": {
     "iopub.execute_input": "2021-11-09T22:00:10.545269Z",
     "iopub.status.busy": "2021-11-09T22:00:10.541757Z",
     "iopub.status.idle": "2021-11-09T22:00:12.307269Z",
     "shell.execute_reply": "2021-11-09T22:00:12.309982Z"
    },
    "papermill": {
     "duration": 1.824006,
     "end_time": "2021-11-09T22:00:12.310891",
     "exception": false,
     "start_time": "2021-11-09T22:00:10.486885",
     "status": "completed"
    },
    "tags": []
   },
   "outputs": [
    {
     "data": {
      "text/plain": [
       "<AxesSubplot:ylabel='PRODUCT'>"
      ]
     },
     "execution_count": 7,
     "metadata": {},
     "output_type": "execute_result"
    },
    {
     "data": {
      "image/png": "[encoded data removed]",
      "text/plain": [
       "<Figure size 432x288 with 1 Axes>"
      ]
     },
     "metadata": {
      "needs_background": "light"
     },
     "output_type": "display_data"
    }
   ],
   "source": [
    "df_pivot_diff.sort_values(\"stamp_2\", ascending = False)[\"stamp_2\"].head(10).plot.barh()"
   ]
  },
  {
   "cell_type": "code",
   "execution_count": null,
   "id": "extra-executive",
   "metadata": {
    "papermill": {
     "duration": 0.037924,
     "end_time": "2021-11-09T22:00:12.384572",
     "exception": false,
     "start_time": "2021-11-09T22:00:12.346648",
     "status": "completed"
    },
    "tags": []
   },
   "outputs": [],
   "source": []
  }
 ],
 "metadata": {
  "kernelspec": {
   "display_name": "Python 3",
   "language": "python",
   "name": "python3"
  },
  "language_info": {
   "codemirror_mode": {
    "name": "ipython",
    "version": 3
   },
   "file_extension": ".py",
   "mimetype": "text/x-python",
   "name": "python",
   "nbconvert_exporter": "python",
   "pygments_lexer": "ipython3",
   "version": "3.9.5"
  },
  "papermill": {
   "default_parameters": {},
   "duration": 8.780427,
   "end_time": "2021-11-09T22:00:13.256671",
   "environment_variables": {},
   "exception": null,
   "input_path": "eBay_Overview.ipynb",
   "output_path": "eBay_Overview.ipynb",
   "parameters": {},
   "start_time": "2021-11-09T22:00:04.476244",
   "version": "2.3.3"
  }
 },
 "nbformat": 4,
 "nbformat_minor": 5
}