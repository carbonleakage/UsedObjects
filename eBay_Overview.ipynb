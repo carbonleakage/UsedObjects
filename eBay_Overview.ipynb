{
 "cells": [
  {
   "cell_type": "code",
   "execution_count": 1,
   "id": "reverse-picking",
   "metadata": {
    "execution": {
     "iopub.execute_input": "2021-10-11T02:00:06.692718Z",
     "iopub.status.busy": "2021-10-11T02:00:06.690714Z",
     "iopub.status.idle": "2021-10-11T02:00:07.500546Z",
     "shell.execute_reply": "2021-10-11T02:00:07.501823Z"
    },
    "papermill": {
     "duration": 0.861591,
     "end_time": "2021-10-11T02:00:07.502441",
     "exception": false,
     "start_time": "2021-10-11T02:00:06.640850",
     "status": "completed"
    },
    "tags": []
   },
   "outputs": [],
   "source": [
    "import pandas as pd\n",
    "import sqlite3"
   ]
  },
  {
   "cell_type": "code",
   "execution_count": 2,
   "id": "innovative-syndrome",
   "metadata": {
    "execution": {
     "iopub.execute_input": "2021-10-11T02:00:07.555269Z",
     "iopub.status.busy": "2021-10-11T02:00:07.552871Z",
     "iopub.status.idle": "2021-10-11T02:00:08.066393Z",
     "shell.execute_reply": "2021-10-11T02:00:08.067841Z"
    },
    "papermill": {
     "duration": 0.543556,
     "end_time": "2021-10-11T02:00:08.068293",
     "exception": false,
     "start_time": "2021-10-11T02:00:07.524737",
     "status": "completed"
    },
    "tags": []
   },
   "outputs": [],
   "source": [
    "timestamps = pd.read_sql(\"select distinct record_time from EBAY_TOP_BERLIN order by record_time desc limit 2\", sqlite3.connect(\"UsedObjects.db\"))"
   ]
  },
  {
   "cell_type": "code",
   "execution_count": 3,
   "id": "periodic-identification",
   "metadata": {
    "execution": {
     "iopub.execute_input": "2021-10-11T02:00:08.133999Z",
     "iopub.status.busy": "2021-10-11T02:00:08.131986Z",
     "iopub.status.idle": "2021-10-11T02:00:08.153679Z",
     "shell.execute_reply": "2021-10-11T02:00:08.155430Z"
    },
    "papermill": {
     "duration": 0.067738,
     "end_time": "2021-10-11T02:00:08.155964",
     "exception": false,
     "start_time": "2021-10-11T02:00:08.088226",
     "status": "completed"
    },
    "tags": []
   },
   "outputs": [
    {
     "data": {
      "text/html": [
       "<div>\n",
       "<style scoped>\n",
       "    .dataframe tbody tr th:only-of-type {\n",
       "        vertical-align: middle;\n",
       "    }\n",
       "\n",
       "    .dataframe tbody tr th {\n",
       "        vertical-align: top;\n",
       "    }\n",
       "\n",
       "    .dataframe thead th {\n",
       "        text-align: right;\n",
       "    }\n",
       "</style>\n",
       "<table border=\"1\" class=\"dataframe\">\n",
       "  <thead>\n",
       "    <tr style=\"text-align: right;\">\n",
       "      <th></th>\n",
       "      <th>RECORD_TIME</th>\n",
       "    </tr>\n",
       "  </thead>\n",
       "  <tbody>\n",
       "    <tr>\n",
       "      <th>0</th>\n",
       "      <td>2021-10-11 04:00</td>\n",
       "    </tr>\n",
       "    <tr>\n",
       "      <th>1</th>\n",
       "      <td>2021-10-11 03:30</td>\n",
       "    </tr>\n",
       "  </tbody>\n",
       "</table>\n",
       "</div>"
      ],
      "text/plain": [
       "        RECORD_TIME\n",
       "0  2021-10-11 04:00\n",
       "1  2021-10-11 03:30"
      ]
     },
     "execution_count": 3,
     "metadata": {},
     "output_type": "execute_result"
    }
   ],
   "source": [
    "timestamps"
   ]
  },
  {
   "cell_type": "code",
   "execution_count": 4,
   "id": "alternate-victory",
   "metadata": {
    "execution": {
     "iopub.execute_input": "2021-10-11T02:00:08.222325Z",
     "iopub.status.busy": "2021-10-11T02:00:08.220468Z",
     "iopub.status.idle": "2021-10-11T02:00:08.949702Z",
     "shell.execute_reply": "2021-10-11T02:00:08.951016Z"
    },
    "papermill": {
     "duration": 0.765628,
     "end_time": "2021-10-11T02:00:08.951440",
     "exception": false,
     "start_time": "2021-10-11T02:00:08.185812",
     "status": "completed"
    },
    "tags": []
   },
   "outputs": [],
   "source": [
    "df = pd.read_sql(\"select * from EBAY_TOP_BERLIN where record_time in (select distinct record_time from EBAY_TOP_BERLIN order by record_time desc limit 2)\", sqlite3.connect(\"UsedObjects.db\"))"
   ]
  },
  {
   "cell_type": "code",
   "execution_count": 5,
   "id": "popular-active",
   "metadata": {
    "execution": {
     "iopub.execute_input": "2021-10-11T02:00:09.023768Z",
     "iopub.status.busy": "2021-10-11T02:00:09.011422Z",
     "iopub.status.idle": "2021-10-11T02:00:09.039558Z",
     "shell.execute_reply": "2021-10-11T02:00:09.040798Z"
    },
    "papermill": {
     "duration": 0.067422,
     "end_time": "2021-10-11T02:00:09.041195",
     "exception": false,
     "start_time": "2021-10-11T02:00:08.973773",
     "status": "completed"
    },
    "tags": []
   },
   "outputs": [],
   "source": [
    "df_pivot = df.pivot_table(index=\"PRODUCT\", columns = \"RECORD_TIME\", values = \"LISTING_COUNT\")"
   ]
  },
  {
   "cell_type": "code",
   "execution_count": 6,
   "id": "union-huntington",
   "metadata": {
    "execution": {
     "iopub.execute_input": "2021-10-11T02:00:09.098119Z",
     "iopub.status.busy": "2021-10-11T02:00:09.095861Z",
     "iopub.status.idle": "2021-10-11T02:00:09.101622Z",
     "shell.execute_reply": "2021-10-11T02:00:09.103061Z"
    },
    "papermill": {
     "duration": 0.041563,
     "end_time": "2021-10-11T02:00:09.103546",
     "exception": false,
     "start_time": "2021-10-11T02:00:09.061983",
     "status": "completed"
    },
    "tags": []
   },
   "outputs": [],
   "source": [
    "df_pivot.columns = [\"stamp_1\", \"stamp_2\"]\n",
    "df_pivot_diff = df_pivot.diff(axis=1)"
   ]
  },
  {
   "cell_type": "code",
   "execution_count": 7,
   "id": "fifth-motion",
   "metadata": {
    "execution": {
     "iopub.execute_input": "2021-10-11T02:00:09.158119Z",
     "iopub.status.busy": "2021-10-11T02:00:09.155853Z",
     "iopub.status.idle": "2021-10-11T02:00:10.680965Z",
     "shell.execute_reply": "2021-10-11T02:00:10.679458Z"
    },
    "papermill": {
     "duration": 1.556794,
     "end_time": "2021-10-11T02:00:10.681346",
     "exception": false,
     "start_time": "2021-10-11T02:00:09.124552",
     "status": "completed"
    },
    "tags": []
   },
   "outputs": [
    {
     "data": {
      "text/plain": [
       "<AxesSubplot:ylabel='PRODUCT'>"
      ]
     },
     "execution_count": 7,
     "metadata": {},
     "output_type": "execute_result"
    },
    {
     "data": {
      "image/png": "[encoded data removed]",
      "text/plain": [
       "<Figure size 432x288 with 1 Axes>"
      ]
     },
     "metadata": {
      "needs_background": "light"
     },
     "output_type": "display_data"
    }
   ],
   "source": [
    "df_pivot_diff.sort_values(\"stamp_2\", ascending = False)[\"stamp_2\"].head(10).plot.barh()"
   ]
  },
  {
   "cell_type": "code",
   "execution_count": null,
   "id": "extra-executive",
   "metadata": {
    "papermill": {
     "duration": 0.022152,
     "end_time": "2021-10-11T02:00:10.727816",
     "exception": false,
     "start_time": "2021-10-11T02:00:10.705664",
     "status": "completed"
    },
    "tags": []
   },
   "outputs": [],
   "source": []
  }
 ],
 "metadata": {
  "kernelspec": {
   "display_name": "Python 3",
   "language": "python",
   "name": "python3"
  },
  "language_info": {
   "codemirror_mode": {
    "name": "ipython",
    "version": 3
   },
   "file_extension": ".py",
   "mimetype": "text/x-python",
   "name": "python",
   "nbconvert_exporter": "python",
   "pygments_lexer": "ipython3",
   "version": "3.9.5"
  },
  "papermill": {
   "default_parameters": {},
   "duration": 7.831056,
   "end_time": "2021-10-11T02:00:12.058173",
   "environment_variables": {},
   "exception": null,
   "input_path": "eBay_Overview.ipynb",
   "output_path": "eBay_Overview.ipynb",
   "parameters": {},
   "start_time": "2021-10-11T02:00:04.227117",
   "version": "2.3.3"
  }
 },
 "nbformat": 4,
 "nbformat_minor": 5
}