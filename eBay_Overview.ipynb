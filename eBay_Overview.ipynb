{
 "cells": [
  {
   "cell_type": "code",
   "execution_count": 1,
   "id": "reverse-picking",
   "metadata": {
    "execution": {
     "iopub.execute_input": "2021-09-27T07:30:06.840539Z",
     "iopub.status.busy": "2021-09-27T07:30:06.838567Z",
     "iopub.status.idle": "2021-09-27T07:30:07.646468Z",
     "shell.execute_reply": "2021-09-27T07:30:07.644942Z"
    },
    "papermill": {
     "duration": 0.858026,
     "end_time": "2021-09-27T07:30:07.646934",
     "exception": false,
     "start_time": "2021-09-27T07:30:06.788908",
     "status": "completed"
    },
    "tags": []
   },
   "outputs": [],
   "source": [
    "import pandas as pd\n",
    "import sqlite3"
   ]
  },
  {
   "cell_type": "code",
   "execution_count": 2,
   "id": "innovative-syndrome",
   "metadata": {
    "execution": {
     "iopub.execute_input": "2021-09-27T07:30:07.697518Z",
     "iopub.status.busy": "2021-09-27T07:30:07.695670Z",
     "iopub.status.idle": "2021-09-27T07:30:08.079346Z",
     "shell.execute_reply": "2021-09-27T07:30:08.080630Z"
    },
    "papermill": {
     "duration": 0.413227,
     "end_time": "2021-09-27T07:30:08.081025",
     "exception": false,
     "start_time": "2021-09-27T07:30:07.667798",
     "status": "completed"
    },
    "tags": []
   },
   "outputs": [],
   "source": [
    "timestamps = pd.read_sql(\"select distinct record_time from EBAY_TOP_BERLIN order by record_time desc limit 2\", sqlite3.connect(\"UsedObjects.db\"))"
   ]
  },
  {
   "cell_type": "code",
   "execution_count": 3,
   "id": "periodic-identification",
   "metadata": {
    "execution": {
     "iopub.execute_input": "2021-09-27T07:30:08.144681Z",
     "iopub.status.busy": "2021-09-27T07:30:08.142612Z",
     "iopub.status.idle": "2021-09-27T07:30:08.162706Z",
     "shell.execute_reply": "2021-09-27T07:30:08.163909Z"
    },
    "papermill": {
     "duration": 0.063967,
     "end_time": "2021-09-27T07:30:08.164317",
     "exception": false,
     "start_time": "2021-09-27T07:30:08.100350",
     "status": "completed"
    },
    "tags": []
   },
   "outputs": [
    {
     "data": {
      "text/html": [
       "<div>\n",
       "<style scoped>\n",
       "    .dataframe tbody tr th:only-of-type {\n",
       "        vertical-align: middle;\n",
       "    }\n",
       "\n",
       "    .dataframe tbody tr th {\n",
       "        vertical-align: top;\n",
       "    }\n",
       "\n",
       "    .dataframe thead th {\n",
       "        text-align: right;\n",
       "    }\n",
       "</style>\n",
       "<table border=\"1\" class=\"dataframe\">\n",
       "  <thead>\n",
       "    <tr style=\"text-align: right;\">\n",
       "      <th></th>\n",
       "      <th>RECORD_TIME</th>\n",
       "    </tr>\n",
       "  </thead>\n",
       "  <tbody>\n",
       "    <tr>\n",
       "      <th>0</th>\n",
       "      <td>2021-09-27 09:30</td>\n",
       "    </tr>\n",
       "    <tr>\n",
       "      <th>1</th>\n",
       "      <td>2021-09-27 09:00</td>\n",
       "    </tr>\n",
       "  </tbody>\n",
       "</table>\n",
       "</div>"
      ],
      "text/plain": [
       "        RECORD_TIME\n",
       "0  2021-09-27 09:30\n",
       "1  2021-09-27 09:00"
      ]
     },
     "execution_count": 3,
     "metadata": {},
     "output_type": "execute_result"
    }
   ],
   "source": [
    "timestamps"
   ]
  },
  {
   "cell_type": "code",
   "execution_count": 4,
   "id": "alternate-victory",
   "metadata": {
    "execution": {
     "iopub.execute_input": "2021-09-27T07:30:08.219008Z",
     "iopub.status.busy": "2021-09-27T07:30:08.216697Z",
     "iopub.status.idle": "2021-09-27T07:30:08.789062Z",
     "shell.execute_reply": "2021-09-27T07:30:08.790264Z"
    },
    "papermill": {
     "duration": 0.602972,
     "end_time": "2021-09-27T07:30:08.790655",
     "exception": false,
     "start_time": "2021-09-27T07:30:08.187683",
     "status": "completed"
    },
    "tags": []
   },
   "outputs": [],
   "source": [
    "df = pd.read_sql(\"select * from EBAY_TOP_BERLIN where record_time in (select distinct record_time from EBAY_TOP_BERLIN order by record_time desc limit 2)\", sqlite3.connect(\"UsedObjects.db\"))"
   ]
  },
  {
   "cell_type": "code",
   "execution_count": 5,
   "id": "popular-active",
   "metadata": {
    "execution": {
     "iopub.execute_input": "2021-09-27T07:30:08.864109Z",
     "iopub.status.busy": "2021-09-27T07:30:08.852426Z",
     "iopub.status.idle": "2021-09-27T07:30:08.879650Z",
     "shell.execute_reply": "2021-09-27T07:30:08.880867Z"
    },
    "papermill": {
     "duration": 0.067783,
     "end_time": "2021-09-27T07:30:08.881256",
     "exception": false,
     "start_time": "2021-09-27T07:30:08.813473",
     "status": "completed"
    },
    "tags": []
   },
   "outputs": [],
   "source": [
    "df_pivot = df.pivot_table(index=\"PRODUCT\", columns = \"RECORD_TIME\", values = \"LISTING_COUNT\")"
   ]
  },
  {
   "cell_type": "code",
   "execution_count": 6,
   "id": "union-huntington",
   "metadata": {
    "execution": {
     "iopub.execute_input": "2021-09-27T07:30:08.940901Z",
     "iopub.status.busy": "2021-09-27T07:30:08.938461Z",
     "iopub.status.idle": "2021-09-27T07:30:08.944632Z",
     "shell.execute_reply": "2021-09-27T07:30:08.946072Z"
    },
    "papermill": {
     "duration": 0.042312,
     "end_time": "2021-09-27T07:30:08.946528",
     "exception": false,
     "start_time": "2021-09-27T07:30:08.904216",
     "status": "completed"
    },
    "tags": []
   },
   "outputs": [],
   "source": [
    "df_pivot.columns = [\"stamp_1\", \"stamp_2\"]\n",
    "df_pivot_diff = df_pivot.diff(axis=1)"
   ]
  },
  {
   "cell_type": "code",
   "execution_count": 7,
   "id": "fifth-motion",
   "metadata": {
    "execution": {
     "iopub.execute_input": "2021-09-27T07:30:09.000507Z",
     "iopub.status.busy": "2021-09-27T07:30:08.998007Z",
     "iopub.status.idle": "2021-09-27T07:30:10.480284Z",
     "shell.execute_reply": "2021-09-27T07:30:10.481696Z"
    },
    "papermill": {
     "duration": 1.515058,
     "end_time": "2021-09-27T07:30:10.482131",
     "exception": false,
     "start_time": "2021-09-27T07:30:08.967073",
     "status": "completed"
    },
    "tags": []
   },
   "outputs": [
    {
     "data": {
      "text/plain": [
       "<AxesSubplot:ylabel='PRODUCT'>"
      ]
     },
     "execution_count": 7,
     "metadata": {},
     "output_type": "execute_result"
    },
    {
     "data": {
      "image/png": "[encoded data removed]",
      "text/plain": [
       "<Figure size 432x288 with 1 Axes>"
      ]
     },
     "metadata": {
      "needs_background": "light"
     },
     "output_type": "display_data"
    }
   ],
   "source": [
    "df_pivot_diff.sort_values(\"stamp_2\", ascending = False)[\"stamp_2\"].head(10).plot.barh()"
   ]
  },
  {
   "cell_type": "code",
   "execution_count": null,
   "id": "extra-executive",
   "metadata": {
    "papermill": {
     "duration": 0.022105,
     "end_time": "2021-09-27T07:30:10.527486",
     "exception": false,
     "start_time": "2021-09-27T07:30:10.505381",
     "status": "completed"
    },
    "tags": []
   },
   "outputs": [],
   "source": []
  }
 ],
 "metadata": {
  "kernelspec": {
   "display_name": "Python 3",
   "language": "python",
   "name": "python3"
  },
  "language_info": {
   "codemirror_mode": {
    "name": "ipython",
    "version": 3
   },
   "file_extension": ".py",
   "mimetype": "text/x-python",
   "name": "python",
   "nbconvert_exporter": "python",
   "pygments_lexer": "ipython3",
   "version": "3.9.5"
  },
  "papermill": {
   "default_parameters": {},
   "duration": 6.780574,
   "end_time": "2021-09-27T07:30:11.168613",
   "environment_variables": {},
   "exception": null,
   "input_path": "eBay_Overview.ipynb",
   "output_path": "eBay_Overview.ipynb",
   "parameters": {},
   "start_time": "2021-09-27T07:30:04.388039",
   "version": "2.3.3"
  }
 },
 "nbformat": 4,
 "nbformat_minor": 5
}