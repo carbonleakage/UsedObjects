{
 "cells": [
  {
   "cell_type": "code",
   "execution_count": 1,
   "id": "reverse-picking",
   "metadata": {
    "execution": {
     "iopub.execute_input": "2021-12-03T14:30:08.235024Z",
     "iopub.status.busy": "2021-12-03T14:30:08.232816Z",
     "iopub.status.idle": "2021-12-03T14:30:09.191860Z",
     "shell.execute_reply": "2021-12-03T14:30:09.190117Z"
    },
    "papermill": {
     "duration": 1.007007,
     "end_time": "2021-12-03T14:30:09.192288",
     "exception": false,
     "start_time": "2021-12-03T14:30:08.185281",
     "status": "completed"
    },
    "tags": []
   },
   "outputs": [],
   "source": [
    "import pandas as pd\n",
    "import sqlite3"
   ]
  },
  {
   "cell_type": "code",
   "execution_count": 2,
   "id": "innovative-syndrome",
   "metadata": {
    "execution": {
     "iopub.execute_input": "2021-12-03T14:30:09.255082Z",
     "iopub.status.busy": "2021-12-03T14:30:09.252909Z",
     "iopub.status.idle": "2021-12-03T14:30:10.216673Z",
     "shell.execute_reply": "2021-12-03T14:30:10.218248Z"
    },
    "papermill": {
     "duration": 0.997688,
     "end_time": "2021-12-03T14:30:10.218717",
     "exception": false,
     "start_time": "2021-12-03T14:30:09.221029",
     "status": "completed"
    },
    "tags": []
   },
   "outputs": [],
   "source": [
    "timestamps = pd.read_sql(\"select distinct record_time from EBAY_TOP_BERLIN order by record_time desc limit 2\", sqlite3.connect(\"UsedObjects.db\"))"
   ]
  },
  {
   "cell_type": "code",
   "execution_count": 3,
   "id": "periodic-identification",
   "metadata": {
    "execution": {
     "iopub.execute_input": "2021-12-03T14:30:10.278956Z",
     "iopub.status.busy": "2021-12-03T14:30:10.277373Z",
     "iopub.status.idle": "2021-12-03T14:30:10.321532Z",
     "shell.execute_reply": "2021-12-03T14:30:10.323912Z"
    },
    "papermill": {
     "duration": 0.084812,
     "end_time": "2021-12-03T14:30:10.324328",
     "exception": false,
     "start_time": "2021-12-03T14:30:10.239516",
     "status": "completed"
    },
    "tags": []
   },
   "outputs": [
    {
     "data": {
      "text/html": [
       "<div>\n",
       "<style scoped>\n",
       "    .dataframe tbody tr th:only-of-type {\n",
       "        vertical-align: middle;\n",
       "    }\n",
       "\n",
       "    .dataframe tbody tr th {\n",
       "        vertical-align: top;\n",
       "    }\n",
       "\n",
       "    .dataframe thead th {\n",
       "        text-align: right;\n",
       "    }\n",
       "</style>\n",
       "<table border=\"1\" class=\"dataframe\">\n",
       "  <thead>\n",
       "    <tr style=\"text-align: right;\">\n",
       "      <th></th>\n",
       "      <th>RECORD_TIME</th>\n",
       "    </tr>\n",
       "  </thead>\n",
       "  <tbody>\n",
       "    <tr>\n",
       "      <th>0</th>\n",
       "      <td>2021-12-03 15:30</td>\n",
       "    </tr>\n",
       "    <tr>\n",
       "      <th>1</th>\n",
       "      <td>2021-12-03 15:00</td>\n",
       "    </tr>\n",
       "  </tbody>\n",
       "</table>\n",
       "</div>"
      ],
      "text/plain": [
       "        RECORD_TIME\n",
       "0  2021-12-03 15:30\n",
       "1  2021-12-03 15:00"
      ]
     },
     "execution_count": 3,
     "metadata": {},
     "output_type": "execute_result"
    }
   ],
   "source": [
    "timestamps"
   ]
  },
  {
   "cell_type": "code",
   "execution_count": 4,
   "id": "alternate-victory",
   "metadata": {
    "execution": {
     "iopub.execute_input": "2021-12-03T14:30:10.381280Z",
     "iopub.status.busy": "2021-12-03T14:30:10.378970Z",
     "iopub.status.idle": "2021-12-03T14:30:11.792754Z",
     "shell.execute_reply": "2021-12-03T14:30:11.794139Z"
    },
    "papermill": {
     "duration": 1.448005,
     "end_time": "2021-12-03T14:30:11.794611",
     "exception": false,
     "start_time": "2021-12-03T14:30:10.346606",
     "status": "completed"
    },
    "tags": []
   },
   "outputs": [],
   "source": [
    "df = pd.read_sql(\"select * from EBAY_TOP_BERLIN where record_time in (select distinct record_time from EBAY_TOP_BERLIN order by record_time desc limit 2)\", sqlite3.connect(\"UsedObjects.db\"))"
   ]
  },
  {
   "cell_type": "code",
   "execution_count": 5,
   "id": "popular-active",
   "metadata": {
    "execution": {
     "iopub.execute_input": "2021-12-03T14:30:11.869830Z",
     "iopub.status.busy": "2021-12-03T14:30:11.857010Z",
     "iopub.status.idle": "2021-12-03T14:30:11.886971Z",
     "shell.execute_reply": "2021-12-03T14:30:11.888479Z"
    },
    "papermill": {
     "duration": 0.073745,
     "end_time": "2021-12-03T14:30:11.889052",
     "exception": false,
     "start_time": "2021-12-03T14:30:11.815307",
     "status": "completed"
    },
    "tags": []
   },
   "outputs": [],
   "source": [
    "df_pivot = df.pivot_table(index=\"PRODUCT\", columns = \"RECORD_TIME\", values = \"LISTING_COUNT\")"
   ]
  },
  {
   "cell_type": "code",
   "execution_count": 6,
   "id": "union-huntington",
   "metadata": {
    "execution": {
     "iopub.execute_input": "2021-12-03T14:30:11.950573Z",
     "iopub.status.busy": "2021-12-03T14:30:11.948168Z",
     "iopub.status.idle": "2021-12-03T14:30:11.954388Z",
     "shell.execute_reply": "2021-12-03T14:30:11.955746Z"
    },
    "papermill": {
     "duration": 0.045309,
     "end_time": "2021-12-03T14:30:11.956216",
     "exception": false,
     "start_time": "2021-12-03T14:30:11.910907",
     "status": "completed"
    },
    "tags": []
   },
   "outputs": [],
   "source": [
    "df_pivot.columns = [\"stamp_1\", \"stamp_2\"]\n",
    "df_pivot_diff = df_pivot.diff(axis=1)"
   ]
  },
  {
   "cell_type": "code",
   "execution_count": 7,
   "id": "fifth-motion",
   "metadata": {
    "execution": {
     "iopub.execute_input": "2021-12-03T14:30:12.013097Z",
     "iopub.status.busy": "2021-12-03T14:30:12.010582Z",
     "iopub.status.idle": "2021-12-03T14:30:13.978705Z",
     "shell.execute_reply": "2021-12-03T14:30:13.980003Z"
    },
    "papermill": {
     "duration": 2.00357,
     "end_time": "2021-12-03T14:30:13.980421",
     "exception": false,
     "start_time": "2021-12-03T14:30:11.976851",
     "status": "completed"
    },
    "tags": []
   },
   "outputs": [
    {
     "data": {
      "text/plain": [
       "<AxesSubplot:ylabel='PRODUCT'>"
      ]
     },
     "execution_count": 7,
     "metadata": {},
     "output_type": "execute_result"
    },
    {
     "data": {
      "image/png": "[encoded data removed]",
      "text/plain": [
       "<Figure size 432x288 with 1 Axes>"
      ]
     },
     "metadata": {
      "needs_background": "light"
     },
     "output_type": "display_data"
    }
   ],
   "source": [
    "df_pivot_diff.sort_values(\"stamp_2\", ascending = False)[\"stamp_2\"].head(10).plot.barh()"
   ]
  },
  {
   "cell_type": "code",
   "execution_count": null,
   "id": "extra-executive",
   "metadata": {
    "papermill": {
     "duration": 0.022578,
     "end_time": "2021-12-03T14:30:14.028081",
     "exception": false,
     "start_time": "2021-12-03T14:30:14.005503",
     "status": "completed"
    },
    "tags": []
   },
   "outputs": [],
   "source": []
  }
 ],
 "metadata": {
  "kernelspec": {
   "display_name": "Python 3",
   "language": "python",
   "name": "python3"
  },
  "language_info": {
   "codemirror_mode": {
    "name": "ipython",
    "version": 3
   },
   "file_extension": ".py",
   "mimetype": "text/x-python",
   "name": "python",
   "nbconvert_exporter": "python",
   "pygments_lexer": "ipython3",
   "version": "3.9.5"
  },
  "papermill": {
   "default_parameters": {},
   "duration": 9.936565,
   "end_time": "2021-12-03T14:30:15.390029",
   "environment_variables": {},
   "exception": null,
   "input_path": "eBay_Overview.ipynb",
   "output_path": "eBay_Overview.ipynb",
   "parameters": {},
   "start_time": "2021-12-03T14:30:05.453464",
   "version": "2.3.3"
  }
 },
 "nbformat": 4,
 "nbformat_minor": 5
}