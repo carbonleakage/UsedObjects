{
 "cells": [
  {
   "cell_type": "code",
   "execution_count": 1,
   "id": "reverse-picking",
   "metadata": {
    "execution": {
     "iopub.execute_input": "2021-10-09T13:00:07.156901Z",
     "iopub.status.busy": "2021-10-09T13:00:07.154975Z",
     "iopub.status.idle": "2021-10-09T13:00:07.965806Z",
     "shell.execute_reply": "2021-10-09T13:00:07.967065Z"
    },
    "papermill": {
     "duration": 0.862268,
     "end_time": "2021-10-09T13:00:07.967712",
     "exception": false,
     "start_time": "2021-10-09T13:00:07.105444",
     "status": "completed"
    },
    "tags": []
   },
   "outputs": [],
   "source": [
    "import pandas as pd\n",
    "import sqlite3"
   ]
  },
  {
   "cell_type": "code",
   "execution_count": 2,
   "id": "innovative-syndrome",
   "metadata": {
    "execution": {
     "iopub.execute_input": "2021-10-09T13:00:08.021242Z",
     "iopub.status.busy": "2021-10-09T13:00:08.018929Z",
     "iopub.status.idle": "2021-10-09T13:00:08.521669Z",
     "shell.execute_reply": "2021-10-09T13:00:08.523032Z"
    },
    "papermill": {
     "duration": 0.533293,
     "end_time": "2021-10-09T13:00:08.523501",
     "exception": false,
     "start_time": "2021-10-09T13:00:07.990208",
     "status": "completed"
    },
    "tags": []
   },
   "outputs": [],
   "source": [
    "timestamps = pd.read_sql(\"select distinct record_time from EBAY_TOP_BERLIN order by record_time desc limit 2\", sqlite3.connect(\"UsedObjects.db\"))"
   ]
  },
  {
   "cell_type": "code",
   "execution_count": 3,
   "id": "periodic-identification",
   "metadata": {
    "execution": {
     "iopub.execute_input": "2021-10-09T13:00:08.588681Z",
     "iopub.status.busy": "2021-10-09T13:00:08.586550Z",
     "iopub.status.idle": "2021-10-09T13:00:08.606229Z",
     "shell.execute_reply": "2021-10-09T13:00:08.607448Z"
    },
    "papermill": {
     "duration": 0.064513,
     "end_time": "2021-10-09T13:00:08.607865",
     "exception": false,
     "start_time": "2021-10-09T13:00:08.543352",
     "status": "completed"
    },
    "tags": []
   },
   "outputs": [
    {
     "data": {
      "text/html": [
       "<div>\n",
       "<style scoped>\n",
       "    .dataframe tbody tr th:only-of-type {\n",
       "        vertical-align: middle;\n",
       "    }\n",
       "\n",
       "    .dataframe tbody tr th {\n",
       "        vertical-align: top;\n",
       "    }\n",
       "\n",
       "    .dataframe thead th {\n",
       "        text-align: right;\n",
       "    }\n",
       "</style>\n",
       "<table border=\"1\" class=\"dataframe\">\n",
       "  <thead>\n",
       "    <tr style=\"text-align: right;\">\n",
       "      <th></th>\n",
       "      <th>RECORD_TIME</th>\n",
       "    </tr>\n",
       "  </thead>\n",
       "  <tbody>\n",
       "    <tr>\n",
       "      <th>0</th>\n",
       "      <td>2021-10-09 15:00</td>\n",
       "    </tr>\n",
       "    <tr>\n",
       "      <th>1</th>\n",
       "      <td>2021-10-09 14:30</td>\n",
       "    </tr>\n",
       "  </tbody>\n",
       "</table>\n",
       "</div>"
      ],
      "text/plain": [
       "        RECORD_TIME\n",
       "0  2021-10-09 15:00\n",
       "1  2021-10-09 14:30"
      ]
     },
     "execution_count": 3,
     "metadata": {},
     "output_type": "execute_result"
    }
   ],
   "source": [
    "timestamps"
   ]
  },
  {
   "cell_type": "code",
   "execution_count": 4,
   "id": "alternate-victory",
   "metadata": {
    "execution": {
     "iopub.execute_input": "2021-10-09T13:00:08.669908Z",
     "iopub.status.busy": "2021-10-09T13:00:08.667812Z",
     "iopub.status.idle": "2021-10-09T13:00:09.385951Z",
     "shell.execute_reply": "2021-10-09T13:00:09.387229Z"
    },
    "papermill": {
     "duration": 0.751753,
     "end_time": "2021-10-09T13:00:09.387631",
     "exception": false,
     "start_time": "2021-10-09T13:00:08.635878",
     "status": "completed"
    },
    "tags": []
   },
   "outputs": [],
   "source": [
    "df = pd.read_sql(\"select * from EBAY_TOP_BERLIN where record_time in (select distinct record_time from EBAY_TOP_BERLIN order by record_time desc limit 2)\", sqlite3.connect(\"UsedObjects.db\"))"
   ]
  },
  {
   "cell_type": "code",
   "execution_count": 5,
   "id": "popular-active",
   "metadata": {
    "execution": {
     "iopub.execute_input": "2021-10-09T13:00:09.459416Z",
     "iopub.status.busy": "2021-10-09T13:00:09.445426Z",
     "iopub.status.idle": "2021-10-09T13:00:09.475313Z",
     "shell.execute_reply": "2021-10-09T13:00:09.476605Z"
    },
    "papermill": {
     "duration": 0.068771,
     "end_time": "2021-10-09T13:00:09.477015",
     "exception": false,
     "start_time": "2021-10-09T13:00:09.408244",
     "status": "completed"
    },
    "tags": []
   },
   "outputs": [],
   "source": [
    "df_pivot = df.pivot_table(index=\"PRODUCT\", columns = \"RECORD_TIME\", values = \"LISTING_COUNT\")"
   ]
  },
  {
   "cell_type": "code",
   "execution_count": 6,
   "id": "union-huntington",
   "metadata": {
    "execution": {
     "iopub.execute_input": "2021-10-09T13:00:09.533955Z",
     "iopub.status.busy": "2021-10-09T13:00:09.531916Z",
     "iopub.status.idle": "2021-10-09T13:00:09.537257Z",
     "shell.execute_reply": "2021-10-09T13:00:09.538453Z"
    },
    "papermill": {
     "duration": 0.040774,
     "end_time": "2021-10-09T13:00:09.539069",
     "exception": false,
     "start_time": "2021-10-09T13:00:09.498295",
     "status": "completed"
    },
    "tags": []
   },
   "outputs": [],
   "source": [
    "df_pivot.columns = [\"stamp_1\", \"stamp_2\"]\n",
    "df_pivot_diff = df_pivot.diff(axis=1)"
   ]
  },
  {
   "cell_type": "code",
   "execution_count": 7,
   "id": "fifth-motion",
   "metadata": {
    "execution": {
     "iopub.execute_input": "2021-10-09T13:00:09.596527Z",
     "iopub.status.busy": "2021-10-09T13:00:09.593820Z",
     "iopub.status.idle": "2021-10-09T13:00:11.088797Z",
     "shell.execute_reply": "2021-10-09T13:00:11.090071Z"
    },
    "papermill": {
     "duration": 1.52862,
     "end_time": "2021-10-09T13:00:11.090481",
     "exception": false,
     "start_time": "2021-10-09T13:00:09.561861",
     "status": "completed"
    },
    "tags": []
   },
   "outputs": [
    {
     "data": {
      "text/plain": [
       "<AxesSubplot:ylabel='PRODUCT'>"
      ]
     },
     "execution_count": 7,
     "metadata": {},
     "output_type": "execute_result"
    },
    {
     "data": {
      "image/png": "[encoded data removed]",
      "text/plain": [
       "<Figure size 432x288 with 1 Axes>"
      ]
     },
     "metadata": {
      "needs_background": "light"
     },
     "output_type": "display_data"
    }
   ],
   "source": [
    "df_pivot_diff.sort_values(\"stamp_2\", ascending = False)[\"stamp_2\"].head(10).plot.barh()"
   ]
  },
  {
   "cell_type": "code",
   "execution_count": null,
   "id": "extra-executive",
   "metadata": {
    "papermill": {
     "duration": 0.022471,
     "end_time": "2021-10-09T13:00:11.137638",
     "exception": false,
     "start_time": "2021-10-09T13:00:11.115167",
     "status": "completed"
    },
    "tags": []
   },
   "outputs": [],
   "source": []
  }
 ],
 "metadata": {
  "kernelspec": {
   "display_name": "Python 3",
   "language": "python",
   "name": "python3"
  },
  "language_info": {
   "codemirror_mode": {
    "name": "ipython",
    "version": 3
   },
   "file_extension": ".py",
   "mimetype": "text/x-python",
   "name": "python",
   "nbconvert_exporter": "python",
   "pygments_lexer": "ipython3",
   "version": "3.9.5"
  },
  "papermill": {
   "default_parameters": {},
   "duration": 7.826084,
   "end_time": "2021-10-09T13:00:12.521199",
   "environment_variables": {},
   "exception": null,
   "input_path": "eBay_Overview.ipynb",
   "output_path": "eBay_Overview.ipynb",
   "parameters": {},
   "start_time": "2021-10-09T13:00:04.695115",
   "version": "2.3.3"
  }
 },
 "nbformat": 4,
 "nbformat_minor": 5
}