{
 "cells": [
  {
   "cell_type": "code",
   "execution_count": 1,
   "id": "reverse-picking",
   "metadata": {
    "execution": {
     "iopub.execute_input": "2021-10-04T19:30:07.804751Z",
     "iopub.status.busy": "2021-10-04T19:30:07.802765Z",
     "iopub.status.idle": "2021-10-04T19:30:08.611938Z",
     "shell.execute_reply": "2021-10-04T19:30:08.613222Z"
    },
    "papermill": {
     "duration": 0.861226,
     "end_time": "2021-10-04T19:30:08.613834",
     "exception": false,
     "start_time": "2021-10-04T19:30:07.752608",
     "status": "completed"
    },
    "tags": []
   },
   "outputs": [],
   "source": [
    "import pandas as pd\n",
    "import sqlite3"
   ]
  },
  {
   "cell_type": "code",
   "execution_count": 2,
   "id": "innovative-syndrome",
   "metadata": {
    "execution": {
     "iopub.execute_input": "2021-10-04T19:30:08.667142Z",
     "iopub.status.busy": "2021-10-04T19:30:08.664775Z",
     "iopub.status.idle": "2021-10-04T19:30:09.118406Z",
     "shell.execute_reply": "2021-10-04T19:30:09.119852Z"
    },
    "papermill": {
     "duration": 0.484015,
     "end_time": "2021-10-04T19:30:09.120272",
     "exception": false,
     "start_time": "2021-10-04T19:30:08.636257",
     "status": "completed"
    },
    "tags": []
   },
   "outputs": [],
   "source": [
    "timestamps = pd.read_sql(\"select distinct record_time from EBAY_TOP_BERLIN order by record_time desc limit 2\", sqlite3.connect(\"UsedObjects.db\"))"
   ]
  },
  {
   "cell_type": "code",
   "execution_count": 3,
   "id": "periodic-identification",
   "metadata": {
    "execution": {
     "iopub.execute_input": "2021-10-04T19:30:09.188378Z",
     "iopub.status.busy": "2021-10-04T19:30:09.186291Z",
     "iopub.status.idle": "2021-10-04T19:30:09.205871Z",
     "shell.execute_reply": "2021-10-04T19:30:09.207250Z"
    },
    "papermill": {
     "duration": 0.066589,
     "end_time": "2021-10-04T19:30:09.207673",
     "exception": false,
     "start_time": "2021-10-04T19:30:09.141084",
     "status": "completed"
    },
    "tags": []
   },
   "outputs": [
    {
     "data": {
      "text/html": [
       "<div>\n",
       "<style scoped>\n",
       "    .dataframe tbody tr th:only-of-type {\n",
       "        vertical-align: middle;\n",
       "    }\n",
       "\n",
       "    .dataframe tbody tr th {\n",
       "        vertical-align: top;\n",
       "    }\n",
       "\n",
       "    .dataframe thead th {\n",
       "        text-align: right;\n",
       "    }\n",
       "</style>\n",
       "<table border=\"1\" class=\"dataframe\">\n",
       "  <thead>\n",
       "    <tr style=\"text-align: right;\">\n",
       "      <th></th>\n",
       "      <th>RECORD_TIME</th>\n",
       "    </tr>\n",
       "  </thead>\n",
       "  <tbody>\n",
       "    <tr>\n",
       "      <th>0</th>\n",
       "      <td>2021-10-04 21:30</td>\n",
       "    </tr>\n",
       "    <tr>\n",
       "      <th>1</th>\n",
       "      <td>2021-10-04 21:00</td>\n",
       "    </tr>\n",
       "  </tbody>\n",
       "</table>\n",
       "</div>"
      ],
      "text/plain": [
       "        RECORD_TIME\n",
       "0  2021-10-04 21:30\n",
       "1  2021-10-04 21:00"
      ]
     },
     "execution_count": 3,
     "metadata": {},
     "output_type": "execute_result"
    }
   ],
   "source": [
    "timestamps"
   ]
  },
  {
   "cell_type": "code",
   "execution_count": 4,
   "id": "alternate-victory",
   "metadata": {
    "execution": {
     "iopub.execute_input": "2021-10-04T19:30:09.271359Z",
     "iopub.status.busy": "2021-10-04T19:30:09.269113Z",
     "iopub.status.idle": "2021-10-04T19:30:09.929596Z",
     "shell.execute_reply": "2021-10-04T19:30:09.930874Z"
    },
    "papermill": {
     "duration": 0.694051,
     "end_time": "2021-10-04T19:30:09.931321",
     "exception": false,
     "start_time": "2021-10-04T19:30:09.237270",
     "status": "completed"
    },
    "tags": []
   },
   "outputs": [],
   "source": [
    "df = pd.read_sql(\"select * from EBAY_TOP_BERLIN where record_time in (select distinct record_time from EBAY_TOP_BERLIN order by record_time desc limit 2)\", sqlite3.connect(\"UsedObjects.db\"))"
   ]
  },
  {
   "cell_type": "code",
   "execution_count": 5,
   "id": "popular-active",
   "metadata": {
    "execution": {
     "iopub.execute_input": "2021-10-04T19:30:09.996797Z",
     "iopub.status.busy": "2021-10-04T19:30:09.989628Z",
     "iopub.status.idle": "2021-10-04T19:30:10.017436Z",
     "shell.execute_reply": "2021-10-04T19:30:10.018681Z"
    },
    "papermill": {
     "duration": 0.067273,
     "end_time": "2021-10-04T19:30:10.019268",
     "exception": false,
     "start_time": "2021-10-04T19:30:09.951995",
     "status": "completed"
    },
    "tags": []
   },
   "outputs": [],
   "source": [
    "df_pivot = df.pivot_table(index=\"PRODUCT\", columns = \"RECORD_TIME\", values = \"LISTING_COUNT\")"
   ]
  },
  {
   "cell_type": "code",
   "execution_count": 6,
   "id": "union-huntington",
   "metadata": {
    "execution": {
     "iopub.execute_input": "2021-10-04T19:30:10.078200Z",
     "iopub.status.busy": "2021-10-04T19:30:10.075783Z",
     "iopub.status.idle": "2021-10-04T19:30:10.081701Z",
     "shell.execute_reply": "2021-10-04T19:30:10.083056Z"
    },
    "papermill": {
     "duration": 0.042132,
     "end_time": "2021-10-04T19:30:10.083513",
     "exception": false,
     "start_time": "2021-10-04T19:30:10.041381",
     "status": "completed"
    },
    "tags": []
   },
   "outputs": [],
   "source": [
    "df_pivot.columns = [\"stamp_1\", \"stamp_2\"]\n",
    "df_pivot_diff = df_pivot.diff(axis=1)"
   ]
  },
  {
   "cell_type": "code",
   "execution_count": 7,
   "id": "fifth-motion",
   "metadata": {
    "execution": {
     "iopub.execute_input": "2021-10-04T19:30:10.138856Z",
     "iopub.status.busy": "2021-10-04T19:30:10.136502Z",
     "iopub.status.idle": "2021-10-04T19:30:11.620662Z",
     "shell.execute_reply": "2021-10-04T19:30:11.622276Z"
    },
    "papermill": {
     "duration": 1.517237,
     "end_time": "2021-10-04T19:30:11.622773",
     "exception": false,
     "start_time": "2021-10-04T19:30:10.105536",
     "status": "completed"
    },
    "tags": []
   },
   "outputs": [
    {
     "data": {
      "text/plain": [
       "<AxesSubplot:ylabel='PRODUCT'>"
      ]
     },
     "execution_count": 7,
     "metadata": {},
     "output_type": "execute_result"
    },
    {
     "data": {
      "image/png": "[encoded data removed]",
      "text/plain": [
       "<Figure size 432x288 with 1 Axes>"
      ]
     },
     "metadata": {
      "needs_background": "light"
     },
     "output_type": "display_data"
    }
   ],
   "source": [
    "df_pivot_diff.sort_values(\"stamp_2\", ascending = False)[\"stamp_2\"].head(10).plot.barh()"
   ]
  },
  {
   "cell_type": "code",
   "execution_count": null,
   "id": "extra-executive",
   "metadata": {
    "papermill": {
     "duration": 0.022427,
     "end_time": "2021-10-04T19:30:11.670431",
     "exception": false,
     "start_time": "2021-10-04T19:30:11.648004",
     "status": "completed"
    },
    "tags": []
   },
   "outputs": [],
   "source": []
  }
 ],
 "metadata": {
  "kernelspec": {
   "display_name": "Python 3",
   "language": "python",
   "name": "python3"
  },
  "language_info": {
   "codemirror_mode": {
    "name": "ipython",
    "version": 3
   },
   "file_extension": ".py",
   "mimetype": "text/x-python",
   "name": "python",
   "nbconvert_exporter": "python",
   "pygments_lexer": "ipython3",
   "version": "3.9.5"
  },
  "papermill": {
   "default_parameters": {},
   "duration": 7.826433,
   "end_time": "2021-10-04T19:30:13.164147",
   "environment_variables": {},
   "exception": null,
   "input_path": "eBay_Overview.ipynb",
   "output_path": "eBay_Overview.ipynb",
   "parameters": {},
   "start_time": "2021-10-04T19:30:05.337714",
   "version": "2.3.3"
  }
 },
 "nbformat": 4,
 "nbformat_minor": 5
}