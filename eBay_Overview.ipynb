{
 "cells": [
  {
   "cell_type": "code",
   "execution_count": 1,
   "id": "reverse-picking",
   "metadata": {
    "execution": {
     "iopub.execute_input": "2021-08-31T13:00:06.520995Z",
     "iopub.status.busy": "2021-08-31T13:00:06.519106Z",
     "iopub.status.idle": "2021-08-31T13:00:07.319603Z",
     "shell.execute_reply": "2021-08-31T13:00:07.320937Z"
    },
    "papermill": {
     "duration": 0.85299,
     "end_time": "2021-08-31T13:00:07.321592",
     "exception": false,
     "start_time": "2021-08-31T13:00:06.468602",
     "status": "completed"
    },
    "tags": []
   },
   "outputs": [],
   "source": [
    "import pandas as pd\n",
    "import sqlite3"
   ]
  },
  {
   "cell_type": "code",
   "execution_count": 2,
   "id": "innovative-syndrome",
   "metadata": {
    "execution": {
     "iopub.execute_input": "2021-08-31T13:00:07.372431Z",
     "iopub.status.busy": "2021-08-31T13:00:07.370480Z",
     "iopub.status.idle": "2021-08-31T13:00:07.541777Z",
     "shell.execute_reply": "2021-08-31T13:00:07.543148Z"
    },
    "papermill": {
     "duration": 0.200799,
     "end_time": "2021-08-31T13:00:07.543588",
     "exception": false,
     "start_time": "2021-08-31T13:00:07.342789",
     "status": "completed"
    },
    "tags": []
   },
   "outputs": [],
   "source": [
    "timestamps = pd.read_sql(\"select distinct record_time from EBAY_TOP_BERLIN order by record_time desc limit 2\", sqlite3.connect(\"UsedObjects.db\"))"
   ]
  },
  {
   "cell_type": "code",
   "execution_count": 3,
   "id": "periodic-identification",
   "metadata": {
    "execution": {
     "iopub.execute_input": "2021-08-31T13:00:07.612554Z",
     "iopub.status.busy": "2021-08-31T13:00:07.607562Z",
     "iopub.status.idle": "2021-08-31T13:00:07.627668Z",
     "shell.execute_reply": "2021-08-31T13:00:07.628990Z"
    },
    "papermill": {
     "duration": 0.066379,
     "end_time": "2021-08-31T13:00:07.629407",
     "exception": false,
     "start_time": "2021-08-31T13:00:07.563028",
     "status": "completed"
    },
    "tags": []
   },
   "outputs": [
    {
     "data": {
      "text/html": [
       "<div>\n",
       "<style scoped>\n",
       "    .dataframe tbody tr th:only-of-type {\n",
       "        vertical-align: middle;\n",
       "    }\n",
       "\n",
       "    .dataframe tbody tr th {\n",
       "        vertical-align: top;\n",
       "    }\n",
       "\n",
       "    .dataframe thead th {\n",
       "        text-align: right;\n",
       "    }\n",
       "</style>\n",
       "<table border=\"1\" class=\"dataframe\">\n",
       "  <thead>\n",
       "    <tr style=\"text-align: right;\">\n",
       "      <th></th>\n",
       "      <th>RECORD_TIME</th>\n",
       "    </tr>\n",
       "  </thead>\n",
       "  <tbody>\n",
       "    <tr>\n",
       "      <th>0</th>\n",
       "      <td>2021-08-31 15:00</td>\n",
       "    </tr>\n",
       "    <tr>\n",
       "      <th>1</th>\n",
       "      <td>2021-08-31 14:30</td>\n",
       "    </tr>\n",
       "  </tbody>\n",
       "</table>\n",
       "</div>"
      ],
      "text/plain": [
       "        RECORD_TIME\n",
       "0  2021-08-31 15:00\n",
       "1  2021-08-31 14:30"
      ]
     },
     "execution_count": 3,
     "metadata": {},
     "output_type": "execute_result"
    }
   ],
   "source": [
    "timestamps"
   ]
  },
  {
   "cell_type": "code",
   "execution_count": 4,
   "id": "alternate-victory",
   "metadata": {
    "execution": {
     "iopub.execute_input": "2021-08-31T13:00:07.681148Z",
     "iopub.status.busy": "2021-08-31T13:00:07.678987Z",
     "iopub.status.idle": "2021-08-31T13:00:07.941085Z",
     "shell.execute_reply": "2021-08-31T13:00:07.942292Z"
    },
    "papermill": {
     "duration": 0.292175,
     "end_time": "2021-08-31T13:00:07.942688",
     "exception": false,
     "start_time": "2021-08-31T13:00:07.650513",
     "status": "completed"
    },
    "tags": []
   },
   "outputs": [],
   "source": [
    "df = pd.read_sql(\"select * from EBAY_TOP_BERLIN where record_time in (select distinct record_time from EBAY_TOP_BERLIN order by record_time desc limit 2)\", sqlite3.connect(\"UsedObjects.db\"))"
   ]
  },
  {
   "cell_type": "code",
   "execution_count": 5,
   "id": "popular-active",
   "metadata": {
    "execution": {
     "iopub.execute_input": "2021-08-31T13:00:08.022296Z",
     "iopub.status.busy": "2021-08-31T13:00:08.015239Z",
     "iopub.status.idle": "2021-08-31T13:00:08.037741Z",
     "shell.execute_reply": "2021-08-31T13:00:08.039084Z"
    },
    "papermill": {
     "duration": 0.071103,
     "end_time": "2021-08-31T13:00:08.039506",
     "exception": false,
     "start_time": "2021-08-31T13:00:07.968403",
     "status": "completed"
    },
    "tags": []
   },
   "outputs": [],
   "source": [
    "df_pivot = df.pivot_table(index=\"PRODUCT\", columns = \"RECORD_TIME\", values = \"LISTING_COUNT\")"
   ]
  },
  {
   "cell_type": "code",
   "execution_count": 6,
   "id": "union-huntington",
   "metadata": {
    "execution": {
     "iopub.execute_input": "2021-08-31T13:00:08.096955Z",
     "iopub.status.busy": "2021-08-31T13:00:08.094784Z",
     "iopub.status.idle": "2021-08-31T13:00:08.100448Z",
     "shell.execute_reply": "2021-08-31T13:00:08.101927Z"
    },
    "papermill": {
     "duration": 0.041148,
     "end_time": "2021-08-31T13:00:08.102390",
     "exception": false,
     "start_time": "2021-08-31T13:00:08.061242",
     "status": "completed"
    },
    "tags": []
   },
   "outputs": [],
   "source": [
    "df_pivot.columns = [\"stamp_1\", \"stamp_2\"]\n",
    "df_pivot_diff = df_pivot.diff(axis=1)"
   ]
  },
  {
   "cell_type": "code",
   "execution_count": 7,
   "id": "fifth-motion",
   "metadata": {
    "execution": {
     "iopub.execute_input": "2021-08-31T13:00:08.157745Z",
     "iopub.status.busy": "2021-08-31T13:00:08.155386Z",
     "iopub.status.idle": "2021-08-31T13:00:09.612423Z",
     "shell.execute_reply": "2021-08-31T13:00:09.613713Z"
    },
    "papermill": {
     "duration": 1.490539,
     "end_time": "2021-08-31T13:00:09.614133",
     "exception": false,
     "start_time": "2021-08-31T13:00:08.123594",
     "status": "completed"
    },
    "tags": []
   },
   "outputs": [
    {
     "data": {
      "text/plain": [
       "<AxesSubplot:ylabel='PRODUCT'>"
      ]
     },
     "execution_count": 7,
     "metadata": {},
     "output_type": "execute_result"
    },
    {
     "data": {
      "image/png": "[encoded data removed]",
      "text/plain": [
       "<Figure size 432x288 with 1 Axes>"
      ]
     },
     "metadata": {
      "needs_background": "light"
     },
     "output_type": "display_data"
    }
   ],
   "source": [
    "df_pivot_diff.sort_values(\"stamp_2\", ascending = False)[\"stamp_2\"].head(10).plot.barh()"
   ]
  },
  {
   "cell_type": "code",
   "execution_count": null,
   "id": "extra-executive",
   "metadata": {
    "papermill": {
     "duration": 0.022051,
     "end_time": "2021-08-31T13:00:09.659840",
     "exception": false,
     "start_time": "2021-08-31T13:00:09.637789",
     "status": "completed"
    },
    "tags": []
   },
   "outputs": [],
   "source": []
  }
 ],
 "metadata": {
  "kernelspec": {
   "display_name": "Python 3",
   "language": "python",
   "name": "python3"
  },
  "language_info": {
   "codemirror_mode": {
    "name": "ipython",
    "version": 3
   },
   "file_extension": ".py",
   "mimetype": "text/x-python",
   "name": "python",
   "nbconvert_exporter": "python",
   "pygments_lexer": "ipython3",
   "version": "3.9.5"
  },
  "papermill": {
   "default_parameters": {},
   "duration": 6.819886,
   "end_time": "2021-08-31T13:00:10.889100",
   "environment_variables": {},
   "exception": null,
   "input_path": "eBay_Overview.ipynb",
   "output_path": "eBay_Overview.ipynb",
   "parameters": {},
   "start_time": "2021-08-31T13:00:04.069214",
   "version": "2.3.3"
  }
 },
 "nbformat": 4,
 "nbformat_minor": 5
}