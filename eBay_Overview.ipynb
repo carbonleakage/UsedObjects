{
 "cells": [
  {
   "cell_type": "code",
   "execution_count": 1,
   "id": "reverse-picking",
   "metadata": {
    "execution": {
     "iopub.execute_input": "2021-10-06T20:00:07.159693Z",
     "iopub.status.busy": "2021-10-06T20:00:07.157579Z",
     "iopub.status.idle": "2021-10-06T20:00:07.961686Z",
     "shell.execute_reply": "2021-10-06T20:00:07.963117Z"
    },
    "papermill": {
     "duration": 0.855502,
     "end_time": "2021-10-06T20:00:07.963763",
     "exception": false,
     "start_time": "2021-10-06T20:00:07.108261",
     "status": "completed"
    },
    "tags": []
   },
   "outputs": [],
   "source": [
    "import pandas as pd\n",
    "import sqlite3"
   ]
  },
  {
   "cell_type": "code",
   "execution_count": 2,
   "id": "innovative-syndrome",
   "metadata": {
    "execution": {
     "iopub.execute_input": "2021-10-06T20:00:08.016886Z",
     "iopub.status.busy": "2021-10-06T20:00:08.014498Z",
     "iopub.status.idle": "2021-10-06T20:00:08.479491Z",
     "shell.execute_reply": "2021-10-06T20:00:08.480873Z"
    },
    "papermill": {
     "duration": 0.495162,
     "end_time": "2021-10-06T20:00:08.481318",
     "exception": false,
     "start_time": "2021-10-06T20:00:07.986156",
     "status": "completed"
    },
    "tags": []
   },
   "outputs": [],
   "source": [
    "timestamps = pd.read_sql(\"select distinct record_time from EBAY_TOP_BERLIN order by record_time desc limit 2\", sqlite3.connect(\"UsedObjects.db\"))"
   ]
  },
  {
   "cell_type": "code",
   "execution_count": 3,
   "id": "periodic-identification",
   "metadata": {
    "execution": {
     "iopub.execute_input": "2021-10-06T20:00:08.548403Z",
     "iopub.status.busy": "2021-10-06T20:00:08.546328Z",
     "iopub.status.idle": "2021-10-06T20:00:08.566552Z",
     "shell.execute_reply": "2021-10-06T20:00:08.568122Z"
    },
    "papermill": {
     "duration": 0.067376,
     "end_time": "2021-10-06T20:00:08.568594",
     "exception": false,
     "start_time": "2021-10-06T20:00:08.501218",
     "status": "completed"
    },
    "tags": []
   },
   "outputs": [
    {
     "data": {
      "text/html": [
       "<div>\n",
       "<style scoped>\n",
       "    .dataframe tbody tr th:only-of-type {\n",
       "        vertical-align: middle;\n",
       "    }\n",
       "\n",
       "    .dataframe tbody tr th {\n",
       "        vertical-align: top;\n",
       "    }\n",
       "\n",
       "    .dataframe thead th {\n",
       "        text-align: right;\n",
       "    }\n",
       "</style>\n",
       "<table border=\"1\" class=\"dataframe\">\n",
       "  <thead>\n",
       "    <tr style=\"text-align: right;\">\n",
       "      <th></th>\n",
       "      <th>RECORD_TIME</th>\n",
       "    </tr>\n",
       "  </thead>\n",
       "  <tbody>\n",
       "    <tr>\n",
       "      <th>0</th>\n",
       "      <td>2021-10-06 22:00</td>\n",
       "    </tr>\n",
       "    <tr>\n",
       "      <th>1</th>\n",
       "      <td>2021-10-06 21:30</td>\n",
       "    </tr>\n",
       "  </tbody>\n",
       "</table>\n",
       "</div>"
      ],
      "text/plain": [
       "        RECORD_TIME\n",
       "0  2021-10-06 22:00\n",
       "1  2021-10-06 21:30"
      ]
     },
     "execution_count": 3,
     "metadata": {},
     "output_type": "execute_result"
    }
   ],
   "source": [
    "timestamps"
   ]
  },
  {
   "cell_type": "code",
   "execution_count": 4,
   "id": "alternate-victory",
   "metadata": {
    "execution": {
     "iopub.execute_input": "2021-10-06T20:00:08.631426Z",
     "iopub.status.busy": "2021-10-06T20:00:08.629260Z",
     "iopub.status.idle": "2021-10-06T20:00:09.304331Z",
     "shell.execute_reply": "2021-10-06T20:00:09.305684Z"
    },
    "papermill": {
     "duration": 0.708944,
     "end_time": "2021-10-06T20:00:09.306132",
     "exception": false,
     "start_time": "2021-10-06T20:00:08.597188",
     "status": "completed"
    },
    "tags": []
   },
   "outputs": [],
   "source": [
    "df = pd.read_sql(\"select * from EBAY_TOP_BERLIN where record_time in (select distinct record_time from EBAY_TOP_BERLIN order by record_time desc limit 2)\", sqlite3.connect(\"UsedObjects.db\"))"
   ]
  },
  {
   "cell_type": "code",
   "execution_count": 5,
   "id": "popular-active",
   "metadata": {
    "execution": {
     "iopub.execute_input": "2021-10-06T20:00:09.376770Z",
     "iopub.status.busy": "2021-10-06T20:00:09.365717Z",
     "iopub.status.idle": "2021-10-06T20:00:09.394095Z",
     "shell.execute_reply": "2021-10-06T20:00:09.395556Z"
    },
    "papermill": {
     "duration": 0.068659,
     "end_time": "2021-10-06T20:00:09.396021",
     "exception": false,
     "start_time": "2021-10-06T20:00:09.327362",
     "status": "completed"
    },
    "tags": []
   },
   "outputs": [],
   "source": [
    "df_pivot = df.pivot_table(index=\"PRODUCT\", columns = \"RECORD_TIME\", values = \"LISTING_COUNT\")"
   ]
  },
  {
   "cell_type": "code",
   "execution_count": 6,
   "id": "union-huntington",
   "metadata": {
    "execution": {
     "iopub.execute_input": "2021-10-06T20:00:09.452267Z",
     "iopub.status.busy": "2021-10-06T20:00:09.450143Z",
     "iopub.status.idle": "2021-10-06T20:00:09.455502Z",
     "shell.execute_reply": "2021-10-06T20:00:09.456784Z"
    },
    "papermill": {
     "duration": 0.040914,
     "end_time": "2021-10-06T20:00:09.457205",
     "exception": false,
     "start_time": "2021-10-06T20:00:09.416291",
     "status": "completed"
    },
    "tags": []
   },
   "outputs": [],
   "source": [
    "df_pivot.columns = [\"stamp_1\", \"stamp_2\"]\n",
    "df_pivot_diff = df_pivot.diff(axis=1)"
   ]
  },
  {
   "cell_type": "code",
   "execution_count": 7,
   "id": "fifth-motion",
   "metadata": {
    "execution": {
     "iopub.execute_input": "2021-10-06T20:00:09.512730Z",
     "iopub.status.busy": "2021-10-06T20:00:09.510134Z",
     "iopub.status.idle": "2021-10-06T20:00:10.967828Z",
     "shell.execute_reply": "2021-10-06T20:00:10.969206Z"
    },
    "papermill": {
     "duration": 1.491068,
     "end_time": "2021-10-06T20:00:10.969653",
     "exception": false,
     "start_time": "2021-10-06T20:00:09.478585",
     "status": "completed"
    },
    "tags": []
   },
   "outputs": [
    {
     "data": {
      "text/plain": [
       "<AxesSubplot:ylabel='PRODUCT'>"
      ]
     },
     "execution_count": 7,
     "metadata": {},
     "output_type": "execute_result"
    },
    {
     "data": {
      "image/png": "[encoded data removed]",
      "text/plain": [
       "<Figure size 432x288 with 1 Axes>"
      ]
     },
     "metadata": {
      "needs_background": "light"
     },
     "output_type": "display_data"
    }
   ],
   "source": [
    "df_pivot_diff.sort_values(\"stamp_2\", ascending = False)[\"stamp_2\"].head(10).plot.barh()"
   ]
  },
  {
   "cell_type": "code",
   "execution_count": null,
   "id": "extra-executive",
   "metadata": {
    "papermill": {
     "duration": 0.022251,
     "end_time": "2021-10-06T20:00:11.015270",
     "exception": false,
     "start_time": "2021-10-06T20:00:10.993019",
     "status": "completed"
    },
    "tags": []
   },
   "outputs": [],
   "source": []
  }
 ],
 "metadata": {
  "kernelspec": {
   "display_name": "Python 3",
   "language": "python",
   "name": "python3"
  },
  "language_info": {
   "codemirror_mode": {
    "name": "ipython",
    "version": 3
   },
   "file_extension": ".py",
   "mimetype": "text/x-python",
   "name": "python",
   "nbconvert_exporter": "python",
   "pygments_lexer": "ipython3",
   "version": "3.9.5"
  },
  "papermill": {
   "default_parameters": {},
   "duration": 7.823173,
   "end_time": "2021-10-06T20:00:12.525719",
   "environment_variables": {},
   "exception": null,
   "input_path": "eBay_Overview.ipynb",
   "output_path": "eBay_Overview.ipynb",
   "parameters": {},
   "start_time": "2021-10-06T20:00:04.702546",
   "version": "2.3.3"
  }
 },
 "nbformat": 4,
 "nbformat_minor": 5
}