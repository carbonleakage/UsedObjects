{
 "cells": [
  {
   "cell_type": "code",
   "execution_count": 1,
   "id": "reverse-picking",
   "metadata": {
    "execution": {
     "iopub.execute_input": "2021-10-16T16:30:07.579165Z",
     "iopub.status.busy": "2021-10-16T16:30:07.577212Z",
     "iopub.status.idle": "2021-10-16T16:30:08.382775Z",
     "shell.execute_reply": "2021-10-16T16:30:08.384039Z"
    },
    "papermill": {
     "duration": 0.857344,
     "end_time": "2021-10-16T16:30:08.384659",
     "exception": false,
     "start_time": "2021-10-16T16:30:07.527315",
     "status": "completed"
    },
    "tags": []
   },
   "outputs": [],
   "source": [
    "import pandas as pd\n",
    "import sqlite3"
   ]
  },
  {
   "cell_type": "code",
   "execution_count": 2,
   "id": "innovative-syndrome",
   "metadata": {
    "execution": {
     "iopub.execute_input": "2021-10-16T16:30:08.435178Z",
     "iopub.status.busy": "2021-10-16T16:30:08.433285Z",
     "iopub.status.idle": "2021-10-16T16:30:09.000213Z",
     "shell.execute_reply": "2021-10-16T16:30:09.001660Z"
    },
    "papermill": {
     "duration": 0.596695,
     "end_time": "2021-10-16T16:30:09.002079",
     "exception": false,
     "start_time": "2021-10-16T16:30:08.405384",
     "status": "completed"
    },
    "tags": []
   },
   "outputs": [],
   "source": [
    "timestamps = pd.read_sql(\"select distinct record_time from EBAY_TOP_BERLIN order by record_time desc limit 2\", sqlite3.connect(\"UsedObjects.db\"))"
   ]
  },
  {
   "cell_type": "code",
   "execution_count": 3,
   "id": "periodic-identification",
   "metadata": {
    "execution": {
     "iopub.execute_input": "2021-10-16T16:30:09.076293Z",
     "iopub.status.busy": "2021-10-16T16:30:09.074068Z",
     "iopub.status.idle": "2021-10-16T16:30:09.095285Z",
     "shell.execute_reply": "2021-10-16T16:30:09.096522Z"
    },
    "papermill": {
     "duration": 0.069439,
     "end_time": "2021-10-16T16:30:09.097096",
     "exception": false,
     "start_time": "2021-10-16T16:30:09.027657",
     "status": "completed"
    },
    "tags": []
   },
   "outputs": [
    {
     "data": {
      "text/html": [
       "<div>\n",
       "<style scoped>\n",
       "    .dataframe tbody tr th:only-of-type {\n",
       "        vertical-align: middle;\n",
       "    }\n",
       "\n",
       "    .dataframe tbody tr th {\n",
       "        vertical-align: top;\n",
       "    }\n",
       "\n",
       "    .dataframe thead th {\n",
       "        text-align: right;\n",
       "    }\n",
       "</style>\n",
       "<table border=\"1\" class=\"dataframe\">\n",
       "  <thead>\n",
       "    <tr style=\"text-align: right;\">\n",
       "      <th></th>\n",
       "      <th>RECORD_TIME</th>\n",
       "    </tr>\n",
       "  </thead>\n",
       "  <tbody>\n",
       "    <tr>\n",
       "      <th>0</th>\n",
       "      <td>2021-10-16 18:30</td>\n",
       "    </tr>\n",
       "    <tr>\n",
       "      <th>1</th>\n",
       "      <td>2021-10-16 18:00</td>\n",
       "    </tr>\n",
       "  </tbody>\n",
       "</table>\n",
       "</div>"
      ],
      "text/plain": [
       "        RECORD_TIME\n",
       "0  2021-10-16 18:30\n",
       "1  2021-10-16 18:00"
      ]
     },
     "execution_count": 3,
     "metadata": {},
     "output_type": "execute_result"
    }
   ],
   "source": [
    "timestamps"
   ]
  },
  {
   "cell_type": "code",
   "execution_count": 4,
   "id": "alternate-victory",
   "metadata": {
    "execution": {
     "iopub.execute_input": "2021-10-16T16:30:09.150586Z",
     "iopub.status.busy": "2021-10-16T16:30:09.148325Z",
     "iopub.status.idle": "2021-10-16T16:30:09.958882Z",
     "shell.execute_reply": "2021-10-16T16:30:09.960045Z"
    },
    "papermill": {
     "duration": 0.840841,
     "end_time": "2021-10-16T16:30:09.960454",
     "exception": false,
     "start_time": "2021-10-16T16:30:09.119613",
     "status": "completed"
    },
    "tags": []
   },
   "outputs": [],
   "source": [
    "df = pd.read_sql(\"select * from EBAY_TOP_BERLIN where record_time in (select distinct record_time from EBAY_TOP_BERLIN order by record_time desc limit 2)\", sqlite3.connect(\"UsedObjects.db\"))"
   ]
  },
  {
   "cell_type": "code",
   "execution_count": 5,
   "id": "popular-active",
   "metadata": {
    "execution": {
     "iopub.execute_input": "2021-10-16T16:30:10.034234Z",
     "iopub.status.busy": "2021-10-16T16:30:10.022914Z",
     "iopub.status.idle": "2021-10-16T16:30:10.049673Z",
     "shell.execute_reply": "2021-10-16T16:30:10.050825Z"
    },
    "papermill": {
     "duration": 0.067944,
     "end_time": "2021-10-16T16:30:10.051231",
     "exception": false,
     "start_time": "2021-10-16T16:30:09.983287",
     "status": "completed"
    },
    "tags": []
   },
   "outputs": [],
   "source": [
    "df_pivot = df.pivot_table(index=\"PRODUCT\", columns = \"RECORD_TIME\", values = \"LISTING_COUNT\")"
   ]
  },
  {
   "cell_type": "code",
   "execution_count": 6,
   "id": "union-huntington",
   "metadata": {
    "execution": {
     "iopub.execute_input": "2021-10-16T16:30:10.111467Z",
     "iopub.status.busy": "2021-10-16T16:30:10.108995Z",
     "iopub.status.idle": "2021-10-16T16:30:10.114785Z",
     "shell.execute_reply": "2021-10-16T16:30:10.116087Z"
    },
    "papermill": {
     "duration": 0.042138,
     "end_time": "2021-10-16T16:30:10.116503",
     "exception": false,
     "start_time": "2021-10-16T16:30:10.074365",
     "status": "completed"
    },
    "tags": []
   },
   "outputs": [],
   "source": [
    "df_pivot.columns = [\"stamp_1\", \"stamp_2\"]\n",
    "df_pivot_diff = df_pivot.diff(axis=1)"
   ]
  },
  {
   "cell_type": "code",
   "execution_count": 7,
   "id": "fifth-motion",
   "metadata": {
    "execution": {
     "iopub.execute_input": "2021-10-16T16:30:10.171051Z",
     "iopub.status.busy": "2021-10-16T16:30:10.168635Z",
     "iopub.status.idle": "2021-10-16T16:30:11.673685Z",
     "shell.execute_reply": "2021-10-16T16:30:11.675001Z"
    },
    "papermill": {
     "duration": 1.53831,
     "end_time": "2021-10-16T16:30:11.675418",
     "exception": false,
     "start_time": "2021-10-16T16:30:10.137108",
     "status": "completed"
    },
    "tags": []
   },
   "outputs": [
    {
     "data": {
      "text/plain": [
       "<AxesSubplot:ylabel='PRODUCT'>"
      ]
     },
     "execution_count": 7,
     "metadata": {},
     "output_type": "execute_result"
    },
    {
     "data": {
      "image/png": "[encoded data removed]",
      "text/plain": [
       "<Figure size 432x288 with 1 Axes>"
      ]
     },
     "metadata": {
      "needs_background": "light"
     },
     "output_type": "display_data"
    }
   ],
   "source": [
    "df_pivot_diff.sort_values(\"stamp_2\", ascending = False)[\"stamp_2\"].head(10).plot.barh()"
   ]
  },
  {
   "cell_type": "code",
   "execution_count": null,
   "id": "extra-executive",
   "metadata": {
    "papermill": {
     "duration": 0.021987,
     "end_time": "2021-10-16T16:30:11.722874",
     "exception": false,
     "start_time": "2021-10-16T16:30:11.700887",
     "status": "completed"
    },
    "tags": []
   },
   "outputs": [],
   "source": []
  }
 ],
 "metadata": {
  "kernelspec": {
   "display_name": "Python 3",
   "language": "python",
   "name": "python3"
  },
  "language_info": {
   "codemirror_mode": {
    "name": "ipython",
    "version": 3
   },
   "file_extension": ".py",
   "mimetype": "text/x-python",
   "name": "python",
   "nbconvert_exporter": "python",
   "pygments_lexer": "ipython3",
   "version": "3.9.5"
  },
  "papermill": {
   "default_parameters": {},
   "duration": 7.825209,
   "end_time": "2021-10-16T16:30:12.935927",
   "environment_variables": {},
   "exception": null,
   "input_path": "eBay_Overview.ipynb",
   "output_path": "eBay_Overview.ipynb",
   "parameters": {},
   "start_time": "2021-10-16T16:30:05.110718",
   "version": "2.3.3"
  }
 },
 "nbformat": 4,
 "nbformat_minor": 5
}