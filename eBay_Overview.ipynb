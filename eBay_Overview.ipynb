{
 "cells": [
  {
   "cell_type": "code",
   "execution_count": 1,
   "id": "reverse-picking",
   "metadata": {
    "execution": {
     "iopub.execute_input": "2021-11-16T20:30:08.125396Z",
     "iopub.status.busy": "2021-11-16T20:30:08.122935Z",
     "iopub.status.idle": "2021-11-16T20:30:09.072624Z",
     "shell.execute_reply": "2021-11-16T20:30:09.074362Z"
    },
    "papermill": {
     "duration": 0.999998,
     "end_time": "2021-11-16T20:30:09.075128",
     "exception": false,
     "start_time": "2021-11-16T20:30:08.075130",
     "status": "completed"
    },
    "tags": []
   },
   "outputs": [],
   "source": [
    "import pandas as pd\n",
    "import sqlite3"
   ]
  },
  {
   "cell_type": "code",
   "execution_count": 2,
   "id": "innovative-syndrome",
   "metadata": {
    "execution": {
     "iopub.execute_input": "2021-11-16T20:30:09.154125Z",
     "iopub.status.busy": "2021-11-16T20:30:09.150327Z",
     "iopub.status.idle": "2021-11-16T20:30:09.963848Z",
     "shell.execute_reply": "2021-11-16T20:30:09.965280Z"
    },
    "papermill": {
     "duration": 0.859247,
     "end_time": "2021-11-16T20:30:09.965755",
     "exception": false,
     "start_time": "2021-11-16T20:30:09.106508",
     "status": "completed"
    },
    "tags": []
   },
   "outputs": [],
   "source": [
    "timestamps = pd.read_sql(\"select distinct record_time from EBAY_TOP_BERLIN order by record_time desc limit 2\", sqlite3.connect(\"UsedObjects.db\"))"
   ]
  },
  {
   "cell_type": "code",
   "execution_count": 3,
   "id": "periodic-identification",
   "metadata": {
    "execution": {
     "iopub.execute_input": "2021-11-16T20:30:10.040559Z",
     "iopub.status.busy": "2021-11-16T20:30:10.035432Z",
     "iopub.status.idle": "2021-11-16T20:30:10.060539Z",
     "shell.execute_reply": "2021-11-16T20:30:10.061995Z"
    },
    "papermill": {
     "duration": 0.076769,
     "end_time": "2021-11-16T20:30:10.062564",
     "exception": false,
     "start_time": "2021-11-16T20:30:09.985795",
     "status": "completed"
    },
    "tags": []
   },
   "outputs": [
    {
     "data": {
      "text/html": [
       "<div>\n",
       "<style scoped>\n",
       "    .dataframe tbody tr th:only-of-type {\n",
       "        vertical-align: middle;\n",
       "    }\n",
       "\n",
       "    .dataframe tbody tr th {\n",
       "        vertical-align: top;\n",
       "    }\n",
       "\n",
       "    .dataframe thead th {\n",
       "        text-align: right;\n",
       "    }\n",
       "</style>\n",
       "<table border=\"1\" class=\"dataframe\">\n",
       "  <thead>\n",
       "    <tr style=\"text-align: right;\">\n",
       "      <th></th>\n",
       "      <th>RECORD_TIME</th>\n",
       "    </tr>\n",
       "  </thead>\n",
       "  <tbody>\n",
       "    <tr>\n",
       "      <th>0</th>\n",
       "      <td>2021-11-16 21:30</td>\n",
       "    </tr>\n",
       "    <tr>\n",
       "      <th>1</th>\n",
       "      <td>2021-11-16 21:00</td>\n",
       "    </tr>\n",
       "  </tbody>\n",
       "</table>\n",
       "</div>"
      ],
      "text/plain": [
       "        RECORD_TIME\n",
       "0  2021-11-16 21:30\n",
       "1  2021-11-16 21:00"
      ]
     },
     "execution_count": 3,
     "metadata": {},
     "output_type": "execute_result"
    }
   ],
   "source": [
    "timestamps"
   ]
  },
  {
   "cell_type": "code",
   "execution_count": 4,
   "id": "alternate-victory",
   "metadata": {
    "execution": {
     "iopub.execute_input": "2021-11-16T20:30:10.115081Z",
     "iopub.status.busy": "2021-11-16T20:30:10.112899Z",
     "iopub.status.idle": "2021-11-16T20:30:11.293466Z",
     "shell.execute_reply": "2021-11-16T20:30:11.294987Z"
    },
    "papermill": {
     "duration": 1.211685,
     "end_time": "2021-11-16T20:30:11.295785",
     "exception": false,
     "start_time": "2021-11-16T20:30:10.084100",
     "status": "completed"
    },
    "tags": []
   },
   "outputs": [],
   "source": [
    "df = pd.read_sql(\"select * from EBAY_TOP_BERLIN where record_time in (select distinct record_time from EBAY_TOP_BERLIN order by record_time desc limit 2)\", sqlite3.connect(\"UsedObjects.db\"))"
   ]
  },
  {
   "cell_type": "code",
   "execution_count": 5,
   "id": "popular-active",
   "metadata": {
    "execution": {
     "iopub.execute_input": "2021-11-16T20:30:11.368828Z",
     "iopub.status.busy": "2021-11-16T20:30:11.359352Z",
     "iopub.status.idle": "2021-11-16T20:30:11.393129Z",
     "shell.execute_reply": "2021-11-16T20:30:11.394777Z"
    },
    "papermill": {
     "duration": 0.078181,
     "end_time": "2021-11-16T20:30:11.395256",
     "exception": false,
     "start_time": "2021-11-16T20:30:11.317075",
     "status": "completed"
    },
    "tags": []
   },
   "outputs": [],
   "source": [
    "df_pivot = df.pivot_table(index=\"PRODUCT\", columns = \"RECORD_TIME\", values = \"LISTING_COUNT\")"
   ]
  },
  {
   "cell_type": "code",
   "execution_count": 6,
   "id": "union-huntington",
   "metadata": {
    "execution": {
     "iopub.execute_input": "2021-11-16T20:30:11.457326Z",
     "iopub.status.busy": "2021-11-16T20:30:11.454910Z",
     "iopub.status.idle": "2021-11-16T20:30:11.459973Z",
     "shell.execute_reply": "2021-11-16T20:30:11.461639Z"
    },
    "papermill": {
     "duration": 0.04582,
     "end_time": "2021-11-16T20:30:11.462111",
     "exception": false,
     "start_time": "2021-11-16T20:30:11.416291",
     "status": "completed"
    },
    "tags": []
   },
   "outputs": [],
   "source": [
    "df_pivot.columns = [\"stamp_1\", \"stamp_2\"]\n",
    "df_pivot_diff = df_pivot.diff(axis=1)"
   ]
  },
  {
   "cell_type": "code",
   "execution_count": 7,
   "id": "fifth-motion",
   "metadata": {
    "execution": {
     "iopub.execute_input": "2021-11-16T20:30:11.518329Z",
     "iopub.status.busy": "2021-11-16T20:30:11.515767Z",
     "iopub.status.idle": "2021-11-16T20:30:13.406285Z",
     "shell.execute_reply": "2021-11-16T20:30:13.407656Z"
    },
    "papermill": {
     "duration": 1.925262,
     "end_time": "2021-11-16T20:30:13.408130",
     "exception": false,
     "start_time": "2021-11-16T20:30:11.482868",
     "status": "completed"
    },
    "tags": []
   },
   "outputs": [
    {
     "data": {
      "text/plain": [
       "<AxesSubplot:ylabel='PRODUCT'>"
      ]
     },
     "execution_count": 7,
     "metadata": {},
     "output_type": "execute_result"
    },
    {
     "data": {
      "image/png": "[encoded data removed]",
      "text/plain": [
       "<Figure size 432x288 with 1 Axes>"
      ]
     },
     "metadata": {
      "needs_background": "light"
     },
     "output_type": "display_data"
    }
   ],
   "source": [
    "df_pivot_diff.sort_values(\"stamp_2\", ascending = False)[\"stamp_2\"].head(10).plot.barh()"
   ]
  },
  {
   "cell_type": "code",
   "execution_count": null,
   "id": "extra-executive",
   "metadata": {
    "papermill": {
     "duration": 0.024558,
     "end_time": "2021-11-16T20:30:13.456438",
     "exception": false,
     "start_time": "2021-11-16T20:30:13.431880",
     "status": "completed"
    },
    "tags": []
   },
   "outputs": [],
   "source": []
  }
 ],
 "metadata": {
  "kernelspec": {
   "display_name": "Python 3",
   "language": "python",
   "name": "python3"
  },
  "language_info": {
   "codemirror_mode": {
    "name": "ipython",
    "version": 3
   },
   "file_extension": ".py",
   "mimetype": "text/x-python",
   "name": "python",
   "nbconvert_exporter": "python",
   "pygments_lexer": "ipython3",
   "version": "3.9.5"
  },
  "papermill": {
   "default_parameters": {},
   "duration": 9.930143,
   "end_time": "2021-11-16T20:30:15.280331",
   "environment_variables": {},
   "exception": null,
   "input_path": "eBay_Overview.ipynb",
   "output_path": "eBay_Overview.ipynb",
   "parameters": {},
   "start_time": "2021-11-16T20:30:05.350188",
   "version": "2.3.3"
  }
 },
 "nbformat": 4,
 "nbformat_minor": 5
}