{
 "cells": [
  {
   "cell_type": "code",
   "execution_count": 1,
   "id": "reverse-picking",
   "metadata": {
    "execution": {
     "iopub.execute_input": "2021-09-09T03:00:07.540673Z",
     "iopub.status.busy": "2021-09-09T03:00:07.538647Z",
     "iopub.status.idle": "2021-09-09T03:00:08.356087Z",
     "shell.execute_reply": "2021-09-09T03:00:08.354362Z"
    },
    "papermill": {
     "duration": 0.86771,
     "end_time": "2021-09-09T03:00:08.356512",
     "exception": false,
     "start_time": "2021-09-09T03:00:07.488802",
     "status": "completed"
    },
    "tags": []
   },
   "outputs": [],
   "source": [
    "import pandas as pd\n",
    "import sqlite3"
   ]
  },
  {
   "cell_type": "code",
   "execution_count": 2,
   "id": "innovative-syndrome",
   "metadata": {
    "execution": {
     "iopub.execute_input": "2021-09-09T03:00:08.406800Z",
     "iopub.status.busy": "2021-09-09T03:00:08.404859Z",
     "iopub.status.idle": "2021-09-09T03:00:08.643285Z",
     "shell.execute_reply": "2021-09-09T03:00:08.644501Z"
    },
    "papermill": {
     "duration": 0.268409,
     "end_time": "2021-09-09T03:00:08.644902",
     "exception": false,
     "start_time": "2021-09-09T03:00:08.376493",
     "status": "completed"
    },
    "tags": []
   },
   "outputs": [],
   "source": [
    "timestamps = pd.read_sql(\"select distinct record_time from EBAY_TOP_BERLIN order by record_time desc limit 2\", sqlite3.connect(\"UsedObjects.db\"))"
   ]
  },
  {
   "cell_type": "code",
   "execution_count": 3,
   "id": "periodic-identification",
   "metadata": {
    "execution": {
     "iopub.execute_input": "2021-09-09T03:00:08.709714Z",
     "iopub.status.busy": "2021-09-09T03:00:08.707607Z",
     "iopub.status.idle": "2021-09-09T03:00:08.728475Z",
     "shell.execute_reply": "2021-09-09T03:00:08.729593Z"
    },
    "papermill": {
     "duration": 0.065081,
     "end_time": "2021-09-09T03:00:08.730012",
     "exception": false,
     "start_time": "2021-09-09T03:00:08.664931",
     "status": "completed"
    },
    "tags": []
   },
   "outputs": [
    {
     "data": {
      "text/html": [
       "<div>\n",
       "<style scoped>\n",
       "    .dataframe tbody tr th:only-of-type {\n",
       "        vertical-align: middle;\n",
       "    }\n",
       "\n",
       "    .dataframe tbody tr th {\n",
       "        vertical-align: top;\n",
       "    }\n",
       "\n",
       "    .dataframe thead th {\n",
       "        text-align: right;\n",
       "    }\n",
       "</style>\n",
       "<table border=\"1\" class=\"dataframe\">\n",
       "  <thead>\n",
       "    <tr style=\"text-align: right;\">\n",
       "      <th></th>\n",
       "      <th>RECORD_TIME</th>\n",
       "    </tr>\n",
       "  </thead>\n",
       "  <tbody>\n",
       "    <tr>\n",
       "      <th>0</th>\n",
       "      <td>2021-09-09 05:00</td>\n",
       "    </tr>\n",
       "    <tr>\n",
       "      <th>1</th>\n",
       "      <td>2021-09-09 04:30</td>\n",
       "    </tr>\n",
       "  </tbody>\n",
       "</table>\n",
       "</div>"
      ],
      "text/plain": [
       "        RECORD_TIME\n",
       "0  2021-09-09 05:00\n",
       "1  2021-09-09 04:30"
      ]
     },
     "execution_count": 3,
     "metadata": {},
     "output_type": "execute_result"
    }
   ],
   "source": [
    "timestamps"
   ]
  },
  {
   "cell_type": "code",
   "execution_count": 4,
   "id": "alternate-victory",
   "metadata": {
    "execution": {
     "iopub.execute_input": "2021-09-09T03:00:08.783214Z",
     "iopub.status.busy": "2021-09-09T03:00:08.780888Z",
     "iopub.status.idle": "2021-09-09T03:00:09.147522Z",
     "shell.execute_reply": "2021-09-09T03:00:09.148728Z"
    },
    "papermill": {
     "duration": 0.396763,
     "end_time": "2021-09-09T03:00:09.149129",
     "exception": false,
     "start_time": "2021-09-09T03:00:08.752366",
     "status": "completed"
    },
    "tags": []
   },
   "outputs": [],
   "source": [
    "df = pd.read_sql(\"select * from EBAY_TOP_BERLIN where record_time in (select distinct record_time from EBAY_TOP_BERLIN order by record_time desc limit 2)\", sqlite3.connect(\"UsedObjects.db\"))"
   ]
  },
  {
   "cell_type": "code",
   "execution_count": 5,
   "id": "popular-active",
   "metadata": {
    "execution": {
     "iopub.execute_input": "2021-09-09T03:00:09.231149Z",
     "iopub.status.busy": "2021-09-09T03:00:09.218668Z",
     "iopub.status.idle": "2021-09-09T03:00:09.247102Z",
     "shell.execute_reply": "2021-09-09T03:00:09.248388Z"
    },
    "papermill": {
     "duration": 0.071397,
     "end_time": "2021-09-09T03:00:09.248802",
     "exception": false,
     "start_time": "2021-09-09T03:00:09.177405",
     "status": "completed"
    },
    "tags": []
   },
   "outputs": [],
   "source": [
    "df_pivot = df.pivot_table(index=\"PRODUCT\", columns = \"RECORD_TIME\", values = \"LISTING_COUNT\")"
   ]
  },
  {
   "cell_type": "code",
   "execution_count": 6,
   "id": "union-huntington",
   "metadata": {
    "execution": {
     "iopub.execute_input": "2021-09-09T03:00:09.304570Z",
     "iopub.status.busy": "2021-09-09T03:00:09.302459Z",
     "iopub.status.idle": "2021-09-09T03:00:09.307928Z",
     "shell.execute_reply": "2021-09-09T03:00:09.309113Z"
    },
    "papermill": {
     "duration": 0.040224,
     "end_time": "2021-09-09T03:00:09.309539",
     "exception": false,
     "start_time": "2021-09-09T03:00:09.269315",
     "status": "completed"
    },
    "tags": []
   },
   "outputs": [],
   "source": [
    "df_pivot.columns = [\"stamp_1\", \"stamp_2\"]\n",
    "df_pivot_diff = df_pivot.diff(axis=1)"
   ]
  },
  {
   "cell_type": "code",
   "execution_count": 7,
   "id": "fifth-motion",
   "metadata": {
    "execution": {
     "iopub.execute_input": "2021-09-09T03:00:09.364451Z",
     "iopub.status.busy": "2021-09-09T03:00:09.361845Z",
     "iopub.status.idle": "2021-09-09T03:00:10.830484Z",
     "shell.execute_reply": "2021-09-09T03:00:10.831743Z"
    },
    "papermill": {
     "duration": 1.501719,
     "end_time": "2021-09-09T03:00:10.832184",
     "exception": false,
     "start_time": "2021-09-09T03:00:09.330465",
     "status": "completed"
    },
    "tags": []
   },
   "outputs": [
    {
     "data": {
      "text/plain": [
       "<AxesSubplot:ylabel='PRODUCT'>"
      ]
     },
     "execution_count": 7,
     "metadata": {},
     "output_type": "execute_result"
    },
    {
     "data": {
      "image/png": "[encoded data removed]",
      "text/plain": [
       "<Figure size 432x288 with 1 Axes>"
      ]
     },
     "metadata": {
      "needs_background": "light"
     },
     "output_type": "display_data"
    }
   ],
   "source": [
    "df_pivot_diff.sort_values(\"stamp_2\", ascending = False)[\"stamp_2\"].head(10).plot.barh()"
   ]
  },
  {
   "cell_type": "code",
   "execution_count": null,
   "id": "extra-executive",
   "metadata": {
    "papermill": {
     "duration": 0.021668,
     "end_time": "2021-09-09T03:00:10.877499",
     "exception": false,
     "start_time": "2021-09-09T03:00:10.855831",
     "status": "completed"
    },
    "tags": []
   },
   "outputs": [],
   "source": []
  }
 ],
 "metadata": {
  "kernelspec": {
   "display_name": "Python 3",
   "language": "python",
   "name": "python3"
  },
  "language_info": {
   "codemirror_mode": {
    "name": "ipython",
    "version": 3
   },
   "file_extension": ".py",
   "mimetype": "text/x-python",
   "name": "python",
   "nbconvert_exporter": "python",
   "pygments_lexer": "ipython3",
   "version": "3.9.5"
  },
  "papermill": {
   "default_parameters": {},
   "duration": 6.451567,
   "end_time": "2021-09-09T03:00:11.518320",
   "environment_variables": {},
   "exception": null,
   "input_path": "eBay_Overview.ipynb",
   "output_path": "eBay_Overview.ipynb",
   "parameters": {},
   "start_time": "2021-09-09T03:00:05.066753",
   "version": "2.3.3"
  }
 },
 "nbformat": 4,
 "nbformat_minor": 5
}