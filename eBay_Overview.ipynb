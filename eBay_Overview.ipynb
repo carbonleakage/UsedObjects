{
 "cells": [
  {
   "cell_type": "code",
   "execution_count": 1,
   "id": "reverse-picking",
   "metadata": {
    "execution": {
     "iopub.execute_input": "2021-11-23T23:00:08.629061Z",
     "iopub.status.busy": "2021-11-23T23:00:08.625782Z",
     "iopub.status.idle": "2021-11-23T23:00:09.590580Z",
     "shell.execute_reply": "2021-11-23T23:00:09.592016Z"
    },
    "papermill": {
     "duration": 1.014894,
     "end_time": "2021-11-23T23:00:09.592761",
     "exception": false,
     "start_time": "2021-11-23T23:00:08.577867",
     "status": "completed"
    },
    "tags": []
   },
   "outputs": [],
   "source": [
    "import pandas as pd\n",
    "import sqlite3"
   ]
  },
  {
   "cell_type": "code",
   "execution_count": 2,
   "id": "innovative-syndrome",
   "metadata": {
    "execution": {
     "iopub.execute_input": "2021-11-23T23:00:09.648319Z",
     "iopub.status.busy": "2021-11-23T23:00:09.646086Z",
     "iopub.status.idle": "2021-11-23T23:00:10.549839Z",
     "shell.execute_reply": "2021-11-23T23:00:10.551145Z"
    },
    "papermill": {
     "duration": 0.937385,
     "end_time": "2021-11-23T23:00:10.551565",
     "exception": false,
     "start_time": "2021-11-23T23:00:09.614180",
     "status": "completed"
    },
    "tags": []
   },
   "outputs": [],
   "source": [
    "timestamps = pd.read_sql(\"select distinct record_time from EBAY_TOP_BERLIN order by record_time desc limit 2\", sqlite3.connect(\"UsedObjects.db\"))"
   ]
  },
  {
   "cell_type": "code",
   "execution_count": 3,
   "id": "periodic-identification",
   "metadata": {
    "execution": {
     "iopub.execute_input": "2021-11-23T23:00:10.622809Z",
     "iopub.status.busy": "2021-11-23T23:00:10.616959Z",
     "iopub.status.idle": "2021-11-23T23:00:10.641423Z",
     "shell.execute_reply": "2021-11-23T23:00:10.642900Z"
    },
    "papermill": {
     "duration": 0.072533,
     "end_time": "2021-11-23T23:00:10.643368",
     "exception": false,
     "start_time": "2021-11-23T23:00:10.570835",
     "status": "completed"
    },
    "tags": []
   },
   "outputs": [
    {
     "data": {
      "text/html": [
       "<div>\n",
       "<style scoped>\n",
       "    .dataframe tbody tr th:only-of-type {\n",
       "        vertical-align: middle;\n",
       "    }\n",
       "\n",
       "    .dataframe tbody tr th {\n",
       "        vertical-align: top;\n",
       "    }\n",
       "\n",
       "    .dataframe thead th {\n",
       "        text-align: right;\n",
       "    }\n",
       "</style>\n",
       "<table border=\"1\" class=\"dataframe\">\n",
       "  <thead>\n",
       "    <tr style=\"text-align: right;\">\n",
       "      <th></th>\n",
       "      <th>RECORD_TIME</th>\n",
       "    </tr>\n",
       "  </thead>\n",
       "  <tbody>\n",
       "    <tr>\n",
       "      <th>0</th>\n",
       "      <td>2021-11-24 00:00</td>\n",
       "    </tr>\n",
       "    <tr>\n",
       "      <th>1</th>\n",
       "      <td>2021-11-23 23:30</td>\n",
       "    </tr>\n",
       "  </tbody>\n",
       "</table>\n",
       "</div>"
      ],
      "text/plain": [
       "        RECORD_TIME\n",
       "0  2021-11-24 00:00\n",
       "1  2021-11-23 23:30"
      ]
     },
     "execution_count": 3,
     "metadata": {},
     "output_type": "execute_result"
    }
   ],
   "source": [
    "timestamps"
   ]
  },
  {
   "cell_type": "code",
   "execution_count": 4,
   "id": "alternate-victory",
   "metadata": {
    "execution": {
     "iopub.execute_input": "2021-11-23T23:00:10.697266Z",
     "iopub.status.busy": "2021-11-23T23:00:10.694943Z",
     "iopub.status.idle": "2021-11-23T23:00:12.038931Z",
     "shell.execute_reply": "2021-11-23T23:00:12.040368Z"
    },
    "papermill": {
     "duration": 1.375744,
     "end_time": "2021-11-23T23:00:12.040941",
     "exception": false,
     "start_time": "2021-11-23T23:00:10.665197",
     "status": "completed"
    },
    "tags": []
   },
   "outputs": [],
   "source": [
    "df = pd.read_sql(\"select * from EBAY_TOP_BERLIN where record_time in (select distinct record_time from EBAY_TOP_BERLIN order by record_time desc limit 2)\", sqlite3.connect(\"UsedObjects.db\"))"
   ]
  },
  {
   "cell_type": "code",
   "execution_count": 5,
   "id": "popular-active",
   "metadata": {
    "execution": {
     "iopub.execute_input": "2021-11-23T23:00:12.104160Z",
     "iopub.status.busy": "2021-11-23T23:00:12.101492Z",
     "iopub.status.idle": "2021-11-23T23:00:12.135848Z",
     "shell.execute_reply": "2021-11-23T23:00:12.134286Z"
    },
    "papermill": {
     "duration": 0.074412,
     "end_time": "2021-11-23T23:00:12.136243",
     "exception": false,
     "start_time": "2021-11-23T23:00:12.061831",
     "status": "completed"
    },
    "tags": []
   },
   "outputs": [],
   "source": [
    "df_pivot = df.pivot_table(index=\"PRODUCT\", columns = \"RECORD_TIME\", values = \"LISTING_COUNT\")"
   ]
  },
  {
   "cell_type": "code",
   "execution_count": 6,
   "id": "union-huntington",
   "metadata": {
    "execution": {
     "iopub.execute_input": "2021-11-23T23:00:12.195836Z",
     "iopub.status.busy": "2021-11-23T23:00:12.193334Z",
     "iopub.status.idle": "2021-11-23T23:00:12.198984Z",
     "shell.execute_reply": "2021-11-23T23:00:12.200366Z"
    },
    "papermill": {
     "duration": 0.043188,
     "end_time": "2021-11-23T23:00:12.200886",
     "exception": false,
     "start_time": "2021-11-23T23:00:12.157698",
     "status": "completed"
    },
    "tags": []
   },
   "outputs": [],
   "source": [
    "df_pivot.columns = [\"stamp_1\", \"stamp_2\"]\n",
    "df_pivot_diff = df_pivot.diff(axis=1)"
   ]
  },
  {
   "cell_type": "code",
   "execution_count": 7,
   "id": "fifth-motion",
   "metadata": {
    "execution": {
     "iopub.execute_input": "2021-11-23T23:00:12.257081Z",
     "iopub.status.busy": "2021-11-23T23:00:12.254635Z",
     "iopub.status.idle": "2021-11-23T23:00:14.263401Z",
     "shell.execute_reply": "2021-11-23T23:00:14.264672Z"
    },
    "papermill": {
     "duration": 2.043824,
     "end_time": "2021-11-23T23:00:14.265181",
     "exception": false,
     "start_time": "2021-11-23T23:00:12.221357",
     "status": "completed"
    },
    "tags": []
   },
   "outputs": [
    {
     "data": {
      "text/plain": [
       "<AxesSubplot:ylabel='PRODUCT'>"
      ]
     },
     "execution_count": 7,
     "metadata": {},
     "output_type": "execute_result"
    },
    {
     "data": {
      "image/png": "[encoded data removed]",
      "text/plain": [
       "<Figure size 432x288 with 1 Axes>"
      ]
     },
     "metadata": {
      "needs_background": "light"
     },
     "output_type": "display_data"
    }
   ],
   "source": [
    "df_pivot_diff.sort_values(\"stamp_2\", ascending = False)[\"stamp_2\"].head(10).plot.barh()"
   ]
  },
  {
   "cell_type": "code",
   "execution_count": null,
   "id": "extra-executive",
   "metadata": {
    "papermill": {
     "duration": 0.022174,
     "end_time": "2021-11-23T23:00:14.312155",
     "exception": false,
     "start_time": "2021-11-23T23:00:14.289981",
     "status": "completed"
    },
    "tags": []
   },
   "outputs": [],
   "source": []
  }
 ],
 "metadata": {
  "kernelspec": {
   "display_name": "Python 3",
   "language": "python",
   "name": "python3"
  },
  "language_info": {
   "codemirror_mode": {
    "name": "ipython",
    "version": 3
   },
   "file_extension": ".py",
   "mimetype": "text/x-python",
   "name": "python",
   "nbconvert_exporter": "python",
   "pygments_lexer": "ipython3",
   "version": "3.9.5"
  },
  "papermill": {
   "default_parameters": {},
   "duration": 9.934074,
   "end_time": "2021-11-23T23:00:15.775317",
   "environment_variables": {},
   "exception": null,
   "input_path": "eBay_Overview.ipynb",
   "output_path": "eBay_Overview.ipynb",
   "parameters": {},
   "start_time": "2021-11-23T23:00:05.841243",
   "version": "2.3.3"
  }
 },
 "nbformat": 4,
 "nbformat_minor": 5
}