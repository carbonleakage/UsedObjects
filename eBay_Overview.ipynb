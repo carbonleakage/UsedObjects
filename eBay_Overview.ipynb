{
 "cells": [
  {
   "cell_type": "code",
   "execution_count": 1,
   "id": "reverse-picking",
   "metadata": {
    "execution": {
     "iopub.execute_input": "2021-08-30T09:30:06.622000Z",
     "iopub.status.busy": "2021-08-30T09:30:06.620004Z",
     "iopub.status.idle": "2021-08-30T09:30:07.423198Z",
     "shell.execute_reply": "2021-08-30T09:30:07.424521Z"
    },
    "papermill": {
     "duration": 0.853164,
     "end_time": "2021-08-30T09:30:07.425150",
     "exception": false,
     "start_time": "2021-08-30T09:30:06.571986",
     "status": "completed"
    },
    "tags": []
   },
   "outputs": [],
   "source": [
    "import pandas as pd\n",
    "import sqlite3"
   ]
  },
  {
   "cell_type": "code",
   "execution_count": 2,
   "id": "innovative-syndrome",
   "metadata": {
    "execution": {
     "iopub.execute_input": "2021-08-30T09:30:07.475567Z",
     "iopub.status.busy": "2021-08-30T09:30:07.473713Z",
     "iopub.status.idle": "2021-08-30T09:30:07.641548Z",
     "shell.execute_reply": "2021-08-30T09:30:07.642790Z"
    },
    "papermill": {
     "duration": 0.197224,
     "end_time": "2021-08-30T09:30:07.643186",
     "exception": false,
     "start_time": "2021-08-30T09:30:07.445962",
     "status": "completed"
    },
    "tags": []
   },
   "outputs": [],
   "source": [
    "timestamps = pd.read_sql(\"select distinct record_time from EBAY_TOP_BERLIN order by record_time desc limit 2\", sqlite3.connect(\"UsedObjects.db\"))"
   ]
  },
  {
   "cell_type": "code",
   "execution_count": 3,
   "id": "periodic-identification",
   "metadata": {
    "execution": {
     "iopub.execute_input": "2021-08-30T09:30:07.706886Z",
     "iopub.status.busy": "2021-08-30T09:30:07.704883Z",
     "iopub.status.idle": "2021-08-30T09:30:07.728148Z",
     "shell.execute_reply": "2021-08-30T09:30:07.726735Z"
    },
    "papermill": {
     "duration": 0.066212,
     "end_time": "2021-08-30T09:30:07.728607",
     "exception": false,
     "start_time": "2021-08-30T09:30:07.662395",
     "status": "completed"
    },
    "tags": []
   },
   "outputs": [
    {
     "data": {
      "text/html": [
       "<div>\n",
       "<style scoped>\n",
       "    .dataframe tbody tr th:only-of-type {\n",
       "        vertical-align: middle;\n",
       "    }\n",
       "\n",
       "    .dataframe tbody tr th {\n",
       "        vertical-align: top;\n",
       "    }\n",
       "\n",
       "    .dataframe thead th {\n",
       "        text-align: right;\n",
       "    }\n",
       "</style>\n",
       "<table border=\"1\" class=\"dataframe\">\n",
       "  <thead>\n",
       "    <tr style=\"text-align: right;\">\n",
       "      <th></th>\n",
       "      <th>RECORD_TIME</th>\n",
       "    </tr>\n",
       "  </thead>\n",
       "  <tbody>\n",
       "    <tr>\n",
       "      <th>0</th>\n",
       "      <td>2021-08-30 11:30</td>\n",
       "    </tr>\n",
       "    <tr>\n",
       "      <th>1</th>\n",
       "      <td>2021-08-30 11:00</td>\n",
       "    </tr>\n",
       "  </tbody>\n",
       "</table>\n",
       "</div>"
      ],
      "text/plain": [
       "        RECORD_TIME\n",
       "0  2021-08-30 11:30\n",
       "1  2021-08-30 11:00"
      ]
     },
     "execution_count": 3,
     "metadata": {},
     "output_type": "execute_result"
    }
   ],
   "source": [
    "timestamps"
   ]
  },
  {
   "cell_type": "code",
   "execution_count": 4,
   "id": "alternate-victory",
   "metadata": {
    "execution": {
     "iopub.execute_input": "2021-08-30T09:30:07.780205Z",
     "iopub.status.busy": "2021-08-30T09:30:07.778289Z",
     "iopub.status.idle": "2021-08-30T09:30:08.027442Z",
     "shell.execute_reply": "2021-08-30T09:30:08.028804Z"
    },
    "papermill": {
     "duration": 0.279485,
     "end_time": "2021-08-30T09:30:08.029230",
     "exception": false,
     "start_time": "2021-08-30T09:30:07.749745",
     "status": "completed"
    },
    "tags": []
   },
   "outputs": [],
   "source": [
    "df = pd.read_sql(\"select * from EBAY_TOP_BERLIN where record_time in (select distinct record_time from EBAY_TOP_BERLIN order by record_time desc limit 2)\", sqlite3.connect(\"UsedObjects.db\"))"
   ]
  },
  {
   "cell_type": "code",
   "execution_count": 5,
   "id": "popular-active",
   "metadata": {
    "execution": {
     "iopub.execute_input": "2021-08-30T09:30:08.108072Z",
     "iopub.status.busy": "2021-08-30T09:30:08.097043Z",
     "iopub.status.idle": "2021-08-30T09:30:08.124424Z",
     "shell.execute_reply": "2021-08-30T09:30:08.125676Z"
    },
    "papermill": {
     "duration": 0.071017,
     "end_time": "2021-08-30T09:30:08.126076",
     "exception": false,
     "start_time": "2021-08-30T09:30:08.055059",
     "status": "completed"
    },
    "tags": []
   },
   "outputs": [],
   "source": [
    "df_pivot = df.pivot_table(index=\"PRODUCT\", columns = \"RECORD_TIME\", values = \"LISTING_COUNT\")"
   ]
  },
  {
   "cell_type": "code",
   "execution_count": 6,
   "id": "union-huntington",
   "metadata": {
    "execution": {
     "iopub.execute_input": "2021-08-30T09:30:08.185653Z",
     "iopub.status.busy": "2021-08-30T09:30:08.183167Z",
     "iopub.status.idle": "2021-08-30T09:30:08.189158Z",
     "shell.execute_reply": "2021-08-30T09:30:08.190478Z"
    },
    "papermill": {
     "duration": 0.042001,
     "end_time": "2021-08-30T09:30:08.190895",
     "exception": false,
     "start_time": "2021-08-30T09:30:08.148894",
     "status": "completed"
    },
    "tags": []
   },
   "outputs": [],
   "source": [
    "df_pivot.columns = [\"stamp_1\", \"stamp_2\"]\n",
    "df_pivot_diff = df_pivot.diff(axis=1)"
   ]
  },
  {
   "cell_type": "code",
   "execution_count": 7,
   "id": "fifth-motion",
   "metadata": {
    "execution": {
     "iopub.execute_input": "2021-08-30T09:30:08.244044Z",
     "iopub.status.busy": "2021-08-30T09:30:08.241877Z",
     "iopub.status.idle": "2021-08-30T09:30:09.731254Z",
     "shell.execute_reply": "2021-08-30T09:30:09.732826Z"
    },
    "papermill": {
     "duration": 1.522014,
     "end_time": "2021-08-30T09:30:09.733294",
     "exception": false,
     "start_time": "2021-08-30T09:30:08.211280",
     "status": "completed"
    },
    "tags": []
   },
   "outputs": [
    {
     "data": {
      "text/plain": [
       "<AxesSubplot:ylabel='PRODUCT'>"
      ]
     },
     "execution_count": 7,
     "metadata": {},
     "output_type": "execute_result"
    },
    {
     "data": {
      "image/png": "[encoded data removed]",
      "text/plain": [
       "<Figure size 432x288 with 1 Axes>"
      ]
     },
     "metadata": {
      "needs_background": "light"
     },
     "output_type": "display_data"
    }
   ],
   "source": [
    "df_pivot_diff.sort_values(\"stamp_2\", ascending = False)[\"stamp_2\"].head(10).plot.barh()"
   ]
  },
  {
   "cell_type": "code",
   "execution_count": null,
   "id": "extra-executive",
   "metadata": {
    "papermill": {
     "duration": 0.021968,
     "end_time": "2021-08-30T09:30:09.779394",
     "exception": false,
     "start_time": "2021-08-30T09:30:09.757426",
     "status": "completed"
    },
    "tags": []
   },
   "outputs": [],
   "source": []
  }
 ],
 "metadata": {
  "kernelspec": {
   "display_name": "Python 3",
   "language": "python",
   "name": "python3"
  },
  "language_info": {
   "codemirror_mode": {
    "name": "ipython",
    "version": 3
   },
   "file_extension": ".py",
   "mimetype": "text/x-python",
   "name": "python",
   "nbconvert_exporter": "python",
   "pygments_lexer": "ipython3",
   "version": "3.9.5"
  },
  "papermill": {
   "default_parameters": {},
   "duration": 6.818232,
   "end_time": "2021-08-30T09:30:10.991070",
   "environment_variables": {},
   "exception": null,
   "input_path": "eBay_Overview.ipynb",
   "output_path": "eBay_Overview.ipynb",
   "parameters": {},
   "start_time": "2021-08-30T09:30:04.172838",
   "version": "2.3.3"
  }
 },
 "nbformat": 4,
 "nbformat_minor": 5
}