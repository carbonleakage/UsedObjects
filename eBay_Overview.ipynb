{
 "cells": [
  {
   "cell_type": "code",
   "execution_count": 1,
   "id": "reverse-picking",
   "metadata": {
    "execution": {
     "iopub.execute_input": "2021-10-11T16:00:07.145674Z",
     "iopub.status.busy": "2021-10-11T16:00:07.142682Z",
     "iopub.status.idle": "2021-10-11T16:00:07.946647Z",
     "shell.execute_reply": "2021-10-11T16:00:07.947902Z"
    },
    "papermill": {
     "duration": 0.855409,
     "end_time": "2021-10-11T16:00:07.948562",
     "exception": false,
     "start_time": "2021-10-11T16:00:07.093153",
     "status": "completed"
    },
    "tags": []
   },
   "outputs": [],
   "source": [
    "import pandas as pd\n",
    "import sqlite3"
   ]
  },
  {
   "cell_type": "code",
   "execution_count": 2,
   "id": "innovative-syndrome",
   "metadata": {
    "execution": {
     "iopub.execute_input": "2021-10-11T16:00:07.999753Z",
     "iopub.status.busy": "2021-10-11T16:00:07.997699Z",
     "iopub.status.idle": "2021-10-11T16:00:08.505013Z",
     "shell.execute_reply": "2021-10-11T16:00:08.506551Z"
    },
    "papermill": {
     "duration": 0.538201,
     "end_time": "2021-10-11T16:00:08.507184",
     "exception": false,
     "start_time": "2021-10-11T16:00:07.968983",
     "status": "completed"
    },
    "tags": []
   },
   "outputs": [],
   "source": [
    "timestamps = pd.read_sql(\"select distinct record_time from EBAY_TOP_BERLIN order by record_time desc limit 2\", sqlite3.connect(\"UsedObjects.db\"))"
   ]
  },
  {
   "cell_type": "code",
   "execution_count": 3,
   "id": "periodic-identification",
   "metadata": {
    "execution": {
     "iopub.execute_input": "2021-10-11T16:00:08.574771Z",
     "iopub.status.busy": "2021-10-11T16:00:08.572394Z",
     "iopub.status.idle": "2021-10-11T16:00:08.595362Z",
     "shell.execute_reply": "2021-10-11T16:00:08.596655Z"
    },
    "papermill": {
     "duration": 0.069656,
     "end_time": "2021-10-11T16:00:08.597190",
     "exception": false,
     "start_time": "2021-10-11T16:00:08.527534",
     "status": "completed"
    },
    "tags": []
   },
   "outputs": [
    {
     "data": {
      "text/html": [
       "<div>\n",
       "<style scoped>\n",
       "    .dataframe tbody tr th:only-of-type {\n",
       "        vertical-align: middle;\n",
       "    }\n",
       "\n",
       "    .dataframe tbody tr th {\n",
       "        vertical-align: top;\n",
       "    }\n",
       "\n",
       "    .dataframe thead th {\n",
       "        text-align: right;\n",
       "    }\n",
       "</style>\n",
       "<table border=\"1\" class=\"dataframe\">\n",
       "  <thead>\n",
       "    <tr style=\"text-align: right;\">\n",
       "      <th></th>\n",
       "      <th>RECORD_TIME</th>\n",
       "    </tr>\n",
       "  </thead>\n",
       "  <tbody>\n",
       "    <tr>\n",
       "      <th>0</th>\n",
       "      <td>2021-10-11 18:00</td>\n",
       "    </tr>\n",
       "    <tr>\n",
       "      <th>1</th>\n",
       "      <td>2021-10-11 17:30</td>\n",
       "    </tr>\n",
       "  </tbody>\n",
       "</table>\n",
       "</div>"
      ],
      "text/plain": [
       "        RECORD_TIME\n",
       "0  2021-10-11 18:00\n",
       "1  2021-10-11 17:30"
      ]
     },
     "execution_count": 3,
     "metadata": {},
     "output_type": "execute_result"
    }
   ],
   "source": [
    "timestamps"
   ]
  },
  {
   "cell_type": "code",
   "execution_count": 4,
   "id": "alternate-victory",
   "metadata": {
    "execution": {
     "iopub.execute_input": "2021-10-11T16:00:08.656241Z",
     "iopub.status.busy": "2021-10-11T16:00:08.654403Z",
     "iopub.status.idle": "2021-10-11T16:00:09.414259Z",
     "shell.execute_reply": "2021-10-11T16:00:09.415565Z"
    },
    "papermill": {
     "duration": 0.794003,
     "end_time": "2021-10-11T16:00:09.415983",
     "exception": false,
     "start_time": "2021-10-11T16:00:08.621980",
     "status": "completed"
    },
    "tags": []
   },
   "outputs": [],
   "source": [
    "df = pd.read_sql(\"select * from EBAY_TOP_BERLIN where record_time in (select distinct record_time from EBAY_TOP_BERLIN order by record_time desc limit 2)\", sqlite3.connect(\"UsedObjects.db\"))"
   ]
  },
  {
   "cell_type": "code",
   "execution_count": 5,
   "id": "popular-active",
   "metadata": {
    "execution": {
     "iopub.execute_input": "2021-10-11T16:00:09.487295Z",
     "iopub.status.busy": "2021-10-11T16:00:09.474494Z",
     "iopub.status.idle": "2021-10-11T16:00:09.503785Z",
     "shell.execute_reply": "2021-10-11T16:00:09.505164Z"
    },
    "papermill": {
     "duration": 0.068164,
     "end_time": "2021-10-11T16:00:09.505598",
     "exception": false,
     "start_time": "2021-10-11T16:00:09.437434",
     "status": "completed"
    },
    "tags": []
   },
   "outputs": [],
   "source": [
    "df_pivot = df.pivot_table(index=\"PRODUCT\", columns = \"RECORD_TIME\", values = \"LISTING_COUNT\")"
   ]
  },
  {
   "cell_type": "code",
   "execution_count": 6,
   "id": "union-huntington",
   "metadata": {
    "execution": {
     "iopub.execute_input": "2021-10-11T16:00:09.562495Z",
     "iopub.status.busy": "2021-10-11T16:00:09.560378Z",
     "iopub.status.idle": "2021-10-11T16:00:09.565694Z",
     "shell.execute_reply": "2021-10-11T16:00:09.567006Z"
    },
    "papermill": {
     "duration": 0.040516,
     "end_time": "2021-10-11T16:00:09.567429",
     "exception": false,
     "start_time": "2021-10-11T16:00:09.526913",
     "status": "completed"
    },
    "tags": []
   },
   "outputs": [],
   "source": [
    "df_pivot.columns = [\"stamp_1\", \"stamp_2\"]\n",
    "df_pivot_diff = df_pivot.diff(axis=1)"
   ]
  },
  {
   "cell_type": "code",
   "execution_count": 7,
   "id": "fifth-motion",
   "metadata": {
    "execution": {
     "iopub.execute_input": "2021-10-11T16:00:09.624249Z",
     "iopub.status.busy": "2021-10-11T16:00:09.620225Z",
     "iopub.status.idle": "2021-10-11T16:00:11.129464Z",
     "shell.execute_reply": "2021-10-11T16:00:11.130846Z"
    },
    "papermill": {
     "duration": 1.543552,
     "end_time": "2021-10-11T16:00:11.131296",
     "exception": false,
     "start_time": "2021-10-11T16:00:09.587744",
     "status": "completed"
    },
    "tags": []
   },
   "outputs": [
    {
     "data": {
      "text/plain": [
       "<AxesSubplot:ylabel='PRODUCT'>"
      ]
     },
     "execution_count": 7,
     "metadata": {},
     "output_type": "execute_result"
    },
    {
     "data": {
      "image/png": "[encoded data removed]",
      "text/plain": [
       "<Figure size 432x288 with 1 Axes>"
      ]
     },
     "metadata": {
      "needs_background": "light"
     },
     "output_type": "display_data"
    }
   ],
   "source": [
    "df_pivot_diff.sort_values(\"stamp_2\", ascending = False)[\"stamp_2\"].head(10).plot.barh()"
   ]
  },
  {
   "cell_type": "code",
   "execution_count": null,
   "id": "extra-executive",
   "metadata": {
    "papermill": {
     "duration": 0.022134,
     "end_time": "2021-10-11T16:00:11.179595",
     "exception": false,
     "start_time": "2021-10-11T16:00:11.157461",
     "status": "completed"
    },
    "tags": []
   },
   "outputs": [],
   "source": []
  }
 ],
 "metadata": {
  "kernelspec": {
   "display_name": "Python 3",
   "language": "python",
   "name": "python3"
  },
  "language_info": {
   "codemirror_mode": {
    "name": "ipython",
    "version": 3
   },
   "file_extension": ".py",
   "mimetype": "text/x-python",
   "name": "python",
   "nbconvert_exporter": "python",
   "pygments_lexer": "ipython3",
   "version": "3.9.5"
  },
  "papermill": {
   "default_parameters": {},
   "duration": 7.835802,
   "end_time": "2021-10-11T16:00:12.527393",
   "environment_variables": {},
   "exception": null,
   "input_path": "eBay_Overview.ipynb",
   "output_path": "eBay_Overview.ipynb",
   "parameters": {},
   "start_time": "2021-10-11T16:00:04.691591",
   "version": "2.3.3"
  }
 },
 "nbformat": 4,
 "nbformat_minor": 5
}