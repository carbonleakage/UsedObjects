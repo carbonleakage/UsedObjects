{
 "cells": [
  {
   "cell_type": "code",
   "execution_count": 1,
   "id": "reverse-picking",
   "metadata": {
    "execution": {
     "iopub.execute_input": "2021-12-16T21:00:07.423414Z",
     "iopub.status.busy": "2021-12-16T21:00:07.421100Z",
     "iopub.status.idle": "2021-12-16T21:00:08.345182Z",
     "shell.execute_reply": "2021-12-16T21:00:08.346714Z"
    },
    "papermill": {
     "duration": 0.975398,
     "end_time": "2021-12-16T21:00:08.347444",
     "exception": false,
     "start_time": "2021-12-16T21:00:07.372046",
     "status": "completed"
    },
    "tags": []
   },
   "outputs": [],
   "source": [
    "import pandas as pd\n",
    "import sqlite3"
   ]
  },
  {
   "cell_type": "code",
   "execution_count": 2,
   "id": "innovative-syndrome",
   "metadata": {
    "execution": {
     "iopub.execute_input": "2021-12-16T21:00:08.405868Z",
     "iopub.status.busy": "2021-12-16T21:00:08.403507Z",
     "iopub.status.idle": "2021-12-16T21:00:09.511246Z",
     "shell.execute_reply": "2021-12-16T21:00:09.512491Z"
    },
    "papermill": {
     "duration": 1.142419,
     "end_time": "2021-12-16T21:00:09.512945",
     "exception": false,
     "start_time": "2021-12-16T21:00:08.370526",
     "status": "completed"
    },
    "tags": []
   },
   "outputs": [],
   "source": [
    "timestamps = pd.read_sql(\"select distinct record_time from EBAY_TOP_BERLIN order by record_time desc limit 2\", sqlite3.connect(\"UsedObjects.db\"))"
   ]
  },
  {
   "cell_type": "code",
   "execution_count": 3,
   "id": "periodic-identification",
   "metadata": {
    "execution": {
     "iopub.execute_input": "2021-12-16T21:00:09.577510Z",
     "iopub.status.busy": "2021-12-16T21:00:09.575326Z",
     "iopub.status.idle": "2021-12-16T21:00:09.594801Z",
     "shell.execute_reply": "2021-12-16T21:00:09.596116Z"
    },
    "papermill": {
     "duration": 0.063631,
     "end_time": "2021-12-16T21:00:09.596536",
     "exception": false,
     "start_time": "2021-12-16T21:00:09.532905",
     "status": "completed"
    },
    "tags": []
   },
   "outputs": [
    {
     "data": {
      "text/html": [
       "<div>\n",
       "<style scoped>\n",
       "    .dataframe tbody tr th:only-of-type {\n",
       "        vertical-align: middle;\n",
       "    }\n",
       "\n",
       "    .dataframe tbody tr th {\n",
       "        vertical-align: top;\n",
       "    }\n",
       "\n",
       "    .dataframe thead th {\n",
       "        text-align: right;\n",
       "    }\n",
       "</style>\n",
       "<table border=\"1\" class=\"dataframe\">\n",
       "  <thead>\n",
       "    <tr style=\"text-align: right;\">\n",
       "      <th></th>\n",
       "      <th>RECORD_TIME</th>\n",
       "    </tr>\n",
       "  </thead>\n",
       "  <tbody>\n",
       "    <tr>\n",
       "      <th>0</th>\n",
       "      <td>2021-12-16 22:00</td>\n",
       "    </tr>\n",
       "    <tr>\n",
       "      <th>1</th>\n",
       "      <td>2021-12-16 21:30</td>\n",
       "    </tr>\n",
       "  </tbody>\n",
       "</table>\n",
       "</div>"
      ],
      "text/plain": [
       "        RECORD_TIME\n",
       "0  2021-12-16 22:00\n",
       "1  2021-12-16 21:30"
      ]
     },
     "execution_count": 3,
     "metadata": {},
     "output_type": "execute_result"
    }
   ],
   "source": [
    "timestamps"
   ]
  },
  {
   "cell_type": "code",
   "execution_count": 4,
   "id": "alternate-victory",
   "metadata": {
    "execution": {
     "iopub.execute_input": "2021-12-16T21:00:09.649494Z",
     "iopub.status.busy": "2021-12-16T21:00:09.646866Z",
     "iopub.status.idle": "2021-12-16T21:00:11.272985Z",
     "shell.execute_reply": "2021-12-16T21:00:11.274482Z"
    },
    "papermill": {
     "duration": 1.656765,
     "end_time": "2021-12-16T21:00:11.275017",
     "exception": false,
     "start_time": "2021-12-16T21:00:09.618252",
     "status": "completed"
    },
    "tags": []
   },
   "outputs": [],
   "source": [
    "df = pd.read_sql(\"select * from EBAY_TOP_BERLIN where record_time in (select distinct record_time from EBAY_TOP_BERLIN order by record_time desc limit 2)\", sqlite3.connect(\"UsedObjects.db\"))"
   ]
  },
  {
   "cell_type": "code",
   "execution_count": 5,
   "id": "popular-active",
   "metadata": {
    "execution": {
     "iopub.execute_input": "2021-12-16T21:00:11.350995Z",
     "iopub.status.busy": "2021-12-16T21:00:11.337137Z",
     "iopub.status.idle": "2021-12-16T21:00:11.369279Z",
     "shell.execute_reply": "2021-12-16T21:00:11.370675Z"
    },
    "papermill": {
     "duration": 0.073796,
     "end_time": "2021-12-16T21:00:11.371144",
     "exception": false,
     "start_time": "2021-12-16T21:00:11.297348",
     "status": "completed"
    },
    "tags": []
   },
   "outputs": [],
   "source": [
    "df_pivot = df.pivot_table(index=\"PRODUCT\", columns = \"RECORD_TIME\", values = \"LISTING_COUNT\")"
   ]
  },
  {
   "cell_type": "code",
   "execution_count": 6,
   "id": "union-huntington",
   "metadata": {
    "execution": {
     "iopub.execute_input": "2021-12-16T21:00:11.429873Z",
     "iopub.status.busy": "2021-12-16T21:00:11.427764Z",
     "iopub.status.idle": "2021-12-16T21:00:11.444671Z",
     "shell.execute_reply": "2021-12-16T21:00:11.443171Z"
    },
    "papermill": {
     "duration": 0.05454,
     "end_time": "2021-12-16T21:00:11.445143",
     "exception": false,
     "start_time": "2021-12-16T21:00:11.390603",
     "status": "completed"
    },
    "tags": []
   },
   "outputs": [],
   "source": [
    "df_pivot.columns = [\"stamp_1\", \"stamp_2\"]\n",
    "df_pivot_diff = df_pivot.diff(axis=1)"
   ]
  },
  {
   "cell_type": "code",
   "execution_count": 7,
   "id": "fifth-motion",
   "metadata": {
    "execution": {
     "iopub.execute_input": "2021-12-16T21:00:11.500894Z",
     "iopub.status.busy": "2021-12-16T21:00:11.498456Z",
     "iopub.status.idle": "2021-12-16T21:00:13.539747Z",
     "shell.execute_reply": "2021-12-16T21:00:13.537548Z"
    },
    "papermill": {
     "duration": 2.074854,
     "end_time": "2021-12-16T21:00:13.540180",
     "exception": false,
     "start_time": "2021-12-16T21:00:11.465326",
     "status": "completed"
    },
    "tags": []
   },
   "outputs": [
    {
     "data": {
      "text/plain": [
       "<AxesSubplot:ylabel='PRODUCT'>"
      ]
     },
     "execution_count": 7,
     "metadata": {},
     "output_type": "execute_result"
    },
    {
     "data": {
      "image/png": "[encoded data removed]",
      "text/plain": [
       "<Figure size 432x288 with 1 Axes>"
      ]
     },
     "metadata": {
      "needs_background": "light"
     },
     "output_type": "display_data"
    }
   ],
   "source": [
    "df_pivot_diff.sort_values(\"stamp_2\", ascending = False)[\"stamp_2\"].head(10).plot.barh()"
   ]
  },
  {
   "cell_type": "code",
   "execution_count": null,
   "id": "extra-executive",
   "metadata": {
    "papermill": {
     "duration": 0.028469,
     "end_time": "2021-12-16T21:00:13.608009",
     "exception": false,
     "start_time": "2021-12-16T21:00:13.579540",
     "status": "completed"
    },
    "tags": []
   },
   "outputs": [],
   "source": []
  }
 ],
 "metadata": {
  "kernelspec": {
   "display_name": "Python 3",
   "language": "python",
   "name": "python3"
  },
  "language_info": {
   "codemirror_mode": {
    "name": "ipython",
    "version": 3
   },
   "file_extension": ".py",
   "mimetype": "text/x-python",
   "name": "python",
   "nbconvert_exporter": "python",
   "pygments_lexer": "ipython3",
   "version": "3.9.5"
  },
  "papermill": {
   "default_parameters": {},
   "duration": 9.640691,
   "end_time": "2021-12-16T21:00:14.253618",
   "environment_variables": {},
   "exception": null,
   "input_path": "eBay_Overview.ipynb",
   "output_path": "eBay_Overview.ipynb",
   "parameters": {},
   "start_time": "2021-12-16T21:00:04.612927",
   "version": "2.3.3"
  }
 },
 "nbformat": 4,
 "nbformat_minor": 5
}