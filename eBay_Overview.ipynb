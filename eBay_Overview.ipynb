{
 "cells": [
  {
   "cell_type": "code",
   "execution_count": 1,
   "id": "reverse-picking",
   "metadata": {
    "execution": {
     "iopub.execute_input": "2021-08-19T22:00:06.840298Z",
     "iopub.status.busy": "2021-08-19T22:00:06.838329Z",
     "iopub.status.idle": "2021-08-19T22:00:07.651012Z",
     "shell.execute_reply": "2021-08-19T22:00:07.649252Z"
    },
    "papermill": {
     "duration": 0.864626,
     "end_time": "2021-08-19T22:00:07.651439",
     "exception": false,
     "start_time": "2021-08-19T22:00:06.786813",
     "status": "completed"
    },
    "tags": []
   },
   "outputs": [],
   "source": [
    "import pandas as pd\n",
    "import sqlite3"
   ]
  },
  {
   "cell_type": "code",
   "execution_count": 2,
   "id": "innovative-syndrome",
   "metadata": {
    "execution": {
     "iopub.execute_input": "2021-08-19T22:00:07.703340Z",
     "iopub.status.busy": "2021-08-19T22:00:07.700958Z",
     "iopub.status.idle": "2021-08-19T22:00:07.788016Z",
     "shell.execute_reply": "2021-08-19T22:00:07.789215Z"
    },
    "papermill": {
     "duration": 0.116899,
     "end_time": "2021-08-19T22:00:07.789609",
     "exception": false,
     "start_time": "2021-08-19T22:00:07.672710",
     "status": "completed"
    },
    "tags": []
   },
   "outputs": [],
   "source": [
    "timestamps = pd.read_sql(\"select distinct record_time from EBAY_TOP_BERLIN order by record_time desc limit 2\", sqlite3.connect(\"UsedObjects.db\"))"
   ]
  },
  {
   "cell_type": "code",
   "execution_count": 3,
   "id": "periodic-identification",
   "metadata": {
    "execution": {
     "iopub.execute_input": "2021-08-19T22:00:07.853075Z",
     "iopub.status.busy": "2021-08-19T22:00:07.851056Z",
     "iopub.status.idle": "2021-08-19T22:00:07.870678Z",
     "shell.execute_reply": "2021-08-19T22:00:07.871897Z"
    },
    "papermill": {
     "duration": 0.063269,
     "end_time": "2021-08-19T22:00:07.872289",
     "exception": false,
     "start_time": "2021-08-19T22:00:07.809020",
     "status": "completed"
    },
    "tags": []
   },
   "outputs": [
    {
     "data": {
      "text/html": [
       "<div>\n",
       "<style scoped>\n",
       "    .dataframe tbody tr th:only-of-type {\n",
       "        vertical-align: middle;\n",
       "    }\n",
       "\n",
       "    .dataframe tbody tr th {\n",
       "        vertical-align: top;\n",
       "    }\n",
       "\n",
       "    .dataframe thead th {\n",
       "        text-align: right;\n",
       "    }\n",
       "</style>\n",
       "<table border=\"1\" class=\"dataframe\">\n",
       "  <thead>\n",
       "    <tr style=\"text-align: right;\">\n",
       "      <th></th>\n",
       "      <th>RECORD_TIME</th>\n",
       "    </tr>\n",
       "  </thead>\n",
       "  <tbody>\n",
       "    <tr>\n",
       "      <th>0</th>\n",
       "      <td>2021-08-20 00:00</td>\n",
       "    </tr>\n",
       "    <tr>\n",
       "      <th>1</th>\n",
       "      <td>2021-08-19 23:30</td>\n",
       "    </tr>\n",
       "  </tbody>\n",
       "</table>\n",
       "</div>"
      ],
      "text/plain": [
       "        RECORD_TIME\n",
       "0  2021-08-20 00:00\n",
       "1  2021-08-19 23:30"
      ]
     },
     "execution_count": 3,
     "metadata": {},
     "output_type": "execute_result"
    }
   ],
   "source": [
    "timestamps"
   ]
  },
  {
   "cell_type": "code",
   "execution_count": 4,
   "id": "alternate-victory",
   "metadata": {
    "execution": {
     "iopub.execute_input": "2021-08-19T22:00:07.923256Z",
     "iopub.status.busy": "2021-08-19T22:00:07.921315Z",
     "iopub.status.idle": "2021-08-19T22:00:08.051805Z",
     "shell.execute_reply": "2021-08-19T22:00:08.053007Z"
    },
    "papermill": {
     "duration": 0.160315,
     "end_time": "2021-08-19T22:00:08.053392",
     "exception": false,
     "start_time": "2021-08-19T22:00:07.893077",
     "status": "completed"
    },
    "tags": []
   },
   "outputs": [],
   "source": [
    "df = pd.read_sql(\"select * from EBAY_TOP_BERLIN where record_time in (select distinct record_time from EBAY_TOP_BERLIN order by record_time desc limit 2)\", sqlite3.connect(\"UsedObjects.db\"))"
   ]
  },
  {
   "cell_type": "code",
   "execution_count": 5,
   "id": "popular-active",
   "metadata": {
    "execution": {
     "iopub.execute_input": "2021-08-19T22:00:08.114358Z",
     "iopub.status.busy": "2021-08-19T22:00:08.112034Z",
     "iopub.status.idle": "2021-08-19T22:00:08.139430Z",
     "shell.execute_reply": "2021-08-19T22:00:08.140635Z"
    },
    "papermill": {
     "duration": 0.067358,
     "end_time": "2021-08-19T22:00:08.141031",
     "exception": false,
     "start_time": "2021-08-19T22:00:08.073673",
     "status": "completed"
    },
    "tags": []
   },
   "outputs": [],
   "source": [
    "df_pivot = df.pivot_table(index=\"PRODUCT\", columns = \"RECORD_TIME\", values = \"LISTING_COUNT\")"
   ]
  },
  {
   "cell_type": "code",
   "execution_count": 6,
   "id": "union-huntington",
   "metadata": {
    "execution": {
     "iopub.execute_input": "2021-08-19T22:00:08.198901Z",
     "iopub.status.busy": "2021-08-19T22:00:08.195992Z",
     "iopub.status.idle": "2021-08-19T22:00:08.202168Z",
     "shell.execute_reply": "2021-08-19T22:00:08.203515Z"
    },
    "papermill": {
     "duration": 0.041257,
     "end_time": "2021-08-19T22:00:08.204085",
     "exception": false,
     "start_time": "2021-08-19T22:00:08.162828",
     "status": "completed"
    },
    "tags": []
   },
   "outputs": [],
   "source": [
    "df_pivot.columns = [\"stamp_1\", \"stamp_2\"]\n",
    "df_pivot_diff = df_pivot.diff(axis=1)"
   ]
  },
  {
   "cell_type": "code",
   "execution_count": 7,
   "id": "fifth-motion",
   "metadata": {
    "execution": {
     "iopub.execute_input": "2021-08-19T22:00:08.260027Z",
     "iopub.status.busy": "2021-08-19T22:00:08.257545Z",
     "iopub.status.idle": "2021-08-19T22:00:09.753646Z",
     "shell.execute_reply": "2021-08-19T22:00:09.755103Z"
    },
    "papermill": {
     "duration": 1.52981,
     "end_time": "2021-08-19T22:00:09.755549",
     "exception": false,
     "start_time": "2021-08-19T22:00:08.225739",
     "status": "completed"
    },
    "tags": []
   },
   "outputs": [
    {
     "data": {
      "text/plain": [
       "<AxesSubplot:ylabel='PRODUCT'>"
      ]
     },
     "execution_count": 7,
     "metadata": {},
     "output_type": "execute_result"
    },
    {
     "data": {
      "image/png": "[encoded data removed]",
      "text/plain": [
       "<Figure size 432x288 with 1 Axes>"
      ]
     },
     "metadata": {
      "needs_background": "light"
     },
     "output_type": "display_data"
    }
   ],
   "source": [
    "df_pivot_diff.sort_values(\"stamp_2\", ascending = False)[\"stamp_2\"].head(10).plot.barh()"
   ]
  },
  {
   "cell_type": "code",
   "execution_count": null,
   "id": "extra-executive",
   "metadata": {
    "papermill": {
     "duration": 0.022334,
     "end_time": "2021-08-19T22:00:09.802568",
     "exception": false,
     "start_time": "2021-08-19T22:00:09.780234",
     "status": "completed"
    },
    "tags": []
   },
   "outputs": [],
   "source": []
  }
 ],
 "metadata": {
  "kernelspec": {
   "display_name": "Python 3",
   "language": "python",
   "name": "python3"
  },
  "language_info": {
   "codemirror_mode": {
    "name": "ipython",
    "version": 3
   },
   "file_extension": ".py",
   "mimetype": "text/x-python",
   "name": "python",
   "nbconvert_exporter": "python",
   "pygments_lexer": "ipython3",
   "version": "3.9.5"
  },
  "papermill": {
   "default_parameters": {},
   "duration": 6.822661,
   "end_time": "2021-08-19T22:00:11.201340",
   "environment_variables": {},
   "exception": null,
   "input_path": "eBay_Overview.ipynb",
   "output_path": "eBay_Overview.ipynb",
   "parameters": {},
   "start_time": "2021-08-19T22:00:04.378679",
   "version": "2.3.3"
  }
 },
 "nbformat": 4,
 "nbformat_minor": 5
}