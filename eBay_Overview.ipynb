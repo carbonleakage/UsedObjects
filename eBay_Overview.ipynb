{
 "cells": [
  {
   "cell_type": "code",
   "execution_count": 1,
   "id": "reverse-picking",
   "metadata": {
    "execution": {
     "iopub.execute_input": "2021-10-06T02:30:07.207141Z",
     "iopub.status.busy": "2021-10-06T02:30:07.205067Z",
     "iopub.status.idle": "2021-10-06T02:30:08.014071Z",
     "shell.execute_reply": "2021-10-06T02:30:08.012511Z"
    },
    "papermill": {
     "duration": 0.858674,
     "end_time": "2021-10-06T02:30:08.014459",
     "exception": false,
     "start_time": "2021-10-06T02:30:07.155785",
     "status": "completed"
    },
    "tags": []
   },
   "outputs": [],
   "source": [
    "import pandas as pd\n",
    "import sqlite3"
   ]
  },
  {
   "cell_type": "code",
   "execution_count": 2,
   "id": "innovative-syndrome",
   "metadata": {
    "execution": {
     "iopub.execute_input": "2021-10-06T02:30:08.065729Z",
     "iopub.status.busy": "2021-10-06T02:30:08.063884Z",
     "iopub.status.idle": "2021-10-06T02:30:08.529541Z",
     "shell.execute_reply": "2021-10-06T02:30:08.530732Z"
    },
    "papermill": {
     "duration": 0.495125,
     "end_time": "2021-10-06T02:30:08.531211",
     "exception": false,
     "start_time": "2021-10-06T02:30:08.036086",
     "status": "completed"
    },
    "tags": []
   },
   "outputs": [],
   "source": [
    "timestamps = pd.read_sql(\"select distinct record_time from EBAY_TOP_BERLIN order by record_time desc limit 2\", sqlite3.connect(\"UsedObjects.db\"))"
   ]
  },
  {
   "cell_type": "code",
   "execution_count": 3,
   "id": "periodic-identification",
   "metadata": {
    "execution": {
     "iopub.execute_input": "2021-10-06T02:30:08.595562Z",
     "iopub.status.busy": "2021-10-06T02:30:08.593323Z",
     "iopub.status.idle": "2021-10-06T02:30:08.616894Z",
     "shell.execute_reply": "2021-10-06T02:30:08.618013Z"
    },
    "papermill": {
     "duration": 0.067697,
     "end_time": "2021-10-06T02:30:08.618412",
     "exception": false,
     "start_time": "2021-10-06T02:30:08.550715",
     "status": "completed"
    },
    "tags": []
   },
   "outputs": [
    {
     "data": {
      "text/html": [
       "<div>\n",
       "<style scoped>\n",
       "    .dataframe tbody tr th:only-of-type {\n",
       "        vertical-align: middle;\n",
       "    }\n",
       "\n",
       "    .dataframe tbody tr th {\n",
       "        vertical-align: top;\n",
       "    }\n",
       "\n",
       "    .dataframe thead th {\n",
       "        text-align: right;\n",
       "    }\n",
       "</style>\n",
       "<table border=\"1\" class=\"dataframe\">\n",
       "  <thead>\n",
       "    <tr style=\"text-align: right;\">\n",
       "      <th></th>\n",
       "      <th>RECORD_TIME</th>\n",
       "    </tr>\n",
       "  </thead>\n",
       "  <tbody>\n",
       "    <tr>\n",
       "      <th>0</th>\n",
       "      <td>2021-10-06 04:30</td>\n",
       "    </tr>\n",
       "    <tr>\n",
       "      <th>1</th>\n",
       "      <td>2021-10-06 04:00</td>\n",
       "    </tr>\n",
       "  </tbody>\n",
       "</table>\n",
       "</div>"
      ],
      "text/plain": [
       "        RECORD_TIME\n",
       "0  2021-10-06 04:30\n",
       "1  2021-10-06 04:00"
      ]
     },
     "execution_count": 3,
     "metadata": {},
     "output_type": "execute_result"
    }
   ],
   "source": [
    "timestamps"
   ]
  },
  {
   "cell_type": "code",
   "execution_count": 4,
   "id": "alternate-victory",
   "metadata": {
    "execution": {
     "iopub.execute_input": "2021-10-06T02:30:08.685426Z",
     "iopub.status.busy": "2021-10-06T02:30:08.683069Z",
     "iopub.status.idle": "2021-10-06T02:30:09.373506Z",
     "shell.execute_reply": "2021-10-06T02:30:09.374707Z"
    },
    "papermill": {
     "duration": 0.725912,
     "end_time": "2021-10-06T02:30:09.375331",
     "exception": false,
     "start_time": "2021-10-06T02:30:08.649419",
     "status": "completed"
    },
    "tags": []
   },
   "outputs": [],
   "source": [
    "df = pd.read_sql(\"select * from EBAY_TOP_BERLIN where record_time in (select distinct record_time from EBAY_TOP_BERLIN order by record_time desc limit 2)\", sqlite3.connect(\"UsedObjects.db\"))"
   ]
  },
  {
   "cell_type": "code",
   "execution_count": 5,
   "id": "popular-active",
   "metadata": {
    "execution": {
     "iopub.execute_input": "2021-10-06T02:30:09.446726Z",
     "iopub.status.busy": "2021-10-06T02:30:09.434504Z",
     "iopub.status.idle": "2021-10-06T02:30:09.462567Z",
     "shell.execute_reply": "2021-10-06T02:30:09.463861Z"
    },
    "papermill": {
     "duration": 0.068461,
     "end_time": "2021-10-06T02:30:09.464263",
     "exception": false,
     "start_time": "2021-10-06T02:30:09.395802",
     "status": "completed"
    },
    "tags": []
   },
   "outputs": [],
   "source": [
    "df_pivot = df.pivot_table(index=\"PRODUCT\", columns = \"RECORD_TIME\", values = \"LISTING_COUNT\")"
   ]
  },
  {
   "cell_type": "code",
   "execution_count": 6,
   "id": "union-huntington",
   "metadata": {
    "execution": {
     "iopub.execute_input": "2021-10-06T02:30:09.522145Z",
     "iopub.status.busy": "2021-10-06T02:30:09.519873Z",
     "iopub.status.idle": "2021-10-06T02:30:09.525587Z",
     "shell.execute_reply": "2021-10-06T02:30:09.526964Z"
    },
    "papermill": {
     "duration": 0.041609,
     "end_time": "2021-10-06T02:30:09.527385",
     "exception": false,
     "start_time": "2021-10-06T02:30:09.485776",
     "status": "completed"
    },
    "tags": []
   },
   "outputs": [],
   "source": [
    "df_pivot.columns = [\"stamp_1\", \"stamp_2\"]\n",
    "df_pivot_diff = df_pivot.diff(axis=1)"
   ]
  },
  {
   "cell_type": "code",
   "execution_count": 7,
   "id": "fifth-motion",
   "metadata": {
    "execution": {
     "iopub.execute_input": "2021-10-06T02:30:09.581059Z",
     "iopub.status.busy": "2021-10-06T02:30:09.578703Z",
     "iopub.status.idle": "2021-10-06T02:30:11.079469Z",
     "shell.execute_reply": "2021-10-06T02:30:11.080844Z"
    },
    "papermill": {
     "duration": 1.533957,
     "end_time": "2021-10-06T02:30:11.081278",
     "exception": false,
     "start_time": "2021-10-06T02:30:09.547321",
     "status": "completed"
    },
    "tags": []
   },
   "outputs": [
    {
     "data": {
      "text/plain": [
       "<AxesSubplot:ylabel='PRODUCT'>"
      ]
     },
     "execution_count": 7,
     "metadata": {},
     "output_type": "execute_result"
    },
    {
     "data": {
      "image/png": "[encoded data removed]",
      "text/plain": [
       "<Figure size 432x288 with 1 Axes>"
      ]
     },
     "metadata": {
      "needs_background": "light"
     },
     "output_type": "display_data"
    }
   ],
   "source": [
    "df_pivot_diff.sort_values(\"stamp_2\", ascending = False)[\"stamp_2\"].head(10).plot.barh()"
   ]
  },
  {
   "cell_type": "code",
   "execution_count": null,
   "id": "extra-executive",
   "metadata": {
    "papermill": {
     "duration": 0.022154,
     "end_time": "2021-10-06T02:30:11.126949",
     "exception": false,
     "start_time": "2021-10-06T02:30:11.104795",
     "status": "completed"
    },
    "tags": []
   },
   "outputs": [],
   "source": []
  }
 ],
 "metadata": {
  "kernelspec": {
   "display_name": "Python 3",
   "language": "python",
   "name": "python3"
  },
  "language_info": {
   "codemirror_mode": {
    "name": "ipython",
    "version": 3
   },
   "file_extension": ".py",
   "mimetype": "text/x-python",
   "name": "python",
   "nbconvert_exporter": "python",
   "pygments_lexer": "ipython3",
   "version": "3.9.5"
  },
  "papermill": {
   "default_parameters": {},
   "duration": 7.823646,
   "end_time": "2021-10-06T02:30:12.572942",
   "environment_variables": {},
   "exception": null,
   "input_path": "eBay_Overview.ipynb",
   "output_path": "eBay_Overview.ipynb",
   "parameters": {},
   "start_time": "2021-10-06T02:30:04.749296",
   "version": "2.3.3"
  }
 },
 "nbformat": 4,
 "nbformat_minor": 5
}