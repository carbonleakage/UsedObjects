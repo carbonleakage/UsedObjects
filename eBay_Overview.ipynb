{
 "cells": [
  {
   "cell_type": "code",
   "execution_count": 1,
   "id": "reverse-picking",
   "metadata": {
    "execution": {
     "iopub.execute_input": "2021-09-21T10:30:06.776659Z",
     "iopub.status.busy": "2021-09-21T10:30:06.774642Z",
     "iopub.status.idle": "2021-09-21T10:30:07.577587Z",
     "shell.execute_reply": "2021-09-21T10:30:07.578910Z"
    },
    "papermill": {
     "duration": 0.853709,
     "end_time": "2021-09-21T10:30:07.579561",
     "exception": false,
     "start_time": "2021-09-21T10:30:06.725852",
     "status": "completed"
    },
    "tags": []
   },
   "outputs": [],
   "source": [
    "import pandas as pd\n",
    "import sqlite3"
   ]
  },
  {
   "cell_type": "code",
   "execution_count": 2,
   "id": "innovative-syndrome",
   "metadata": {
    "execution": {
     "iopub.execute_input": "2021-09-21T10:30:07.632406Z",
     "iopub.status.busy": "2021-09-21T10:30:07.630247Z",
     "iopub.status.idle": "2021-09-21T10:30:07.966857Z",
     "shell.execute_reply": "2021-09-21T10:30:07.968260Z"
    },
    "papermill": {
     "duration": 0.366441,
     "end_time": "2021-09-21T10:30:07.968703",
     "exception": false,
     "start_time": "2021-09-21T10:30:07.602262",
     "status": "completed"
    },
    "tags": []
   },
   "outputs": [],
   "source": [
    "timestamps = pd.read_sql(\"select distinct record_time from EBAY_TOP_BERLIN order by record_time desc limit 2\", sqlite3.connect(\"UsedObjects.db\"))"
   ]
  },
  {
   "cell_type": "code",
   "execution_count": 3,
   "id": "periodic-identification",
   "metadata": {
    "execution": {
     "iopub.execute_input": "2021-09-21T10:30:08.034095Z",
     "iopub.status.busy": "2021-09-21T10:30:08.031866Z",
     "iopub.status.idle": "2021-09-21T10:30:08.052769Z",
     "shell.execute_reply": "2021-09-21T10:30:08.053977Z"
    },
    "papermill": {
     "duration": 0.066088,
     "end_time": "2021-09-21T10:30:08.054371",
     "exception": false,
     "start_time": "2021-09-21T10:30:07.988283",
     "status": "completed"
    },
    "tags": []
   },
   "outputs": [
    {
     "data": {
      "text/html": [
       "<div>\n",
       "<style scoped>\n",
       "    .dataframe tbody tr th:only-of-type {\n",
       "        vertical-align: middle;\n",
       "    }\n",
       "\n",
       "    .dataframe tbody tr th {\n",
       "        vertical-align: top;\n",
       "    }\n",
       "\n",
       "    .dataframe thead th {\n",
       "        text-align: right;\n",
       "    }\n",
       "</style>\n",
       "<table border=\"1\" class=\"dataframe\">\n",
       "  <thead>\n",
       "    <tr style=\"text-align: right;\">\n",
       "      <th></th>\n",
       "      <th>RECORD_TIME</th>\n",
       "    </tr>\n",
       "  </thead>\n",
       "  <tbody>\n",
       "    <tr>\n",
       "      <th>0</th>\n",
       "      <td>2021-09-21 12:30</td>\n",
       "    </tr>\n",
       "    <tr>\n",
       "      <th>1</th>\n",
       "      <td>2021-09-21 12:00</td>\n",
       "    </tr>\n",
       "  </tbody>\n",
       "</table>\n",
       "</div>"
      ],
      "text/plain": [
       "        RECORD_TIME\n",
       "0  2021-09-21 12:30\n",
       "1  2021-09-21 12:00"
      ]
     },
     "execution_count": 3,
     "metadata": {},
     "output_type": "execute_result"
    }
   ],
   "source": [
    "timestamps"
   ]
  },
  {
   "cell_type": "code",
   "execution_count": 4,
   "id": "alternate-victory",
   "metadata": {
    "execution": {
     "iopub.execute_input": "2021-09-21T10:30:08.108205Z",
     "iopub.status.busy": "2021-09-21T10:30:08.105837Z",
     "iopub.status.idle": "2021-09-21T10:30:08.622083Z",
     "shell.execute_reply": "2021-09-21T10:30:08.623549Z"
    },
    "papermill": {
     "duration": 0.54688,
     "end_time": "2021-09-21T10:30:08.624005",
     "exception": false,
     "start_time": "2021-09-21T10:30:08.077125",
     "status": "completed"
    },
    "tags": []
   },
   "outputs": [],
   "source": [
    "df = pd.read_sql(\"select * from EBAY_TOP_BERLIN where record_time in (select distinct record_time from EBAY_TOP_BERLIN order by record_time desc limit 2)\", sqlite3.connect(\"UsedObjects.db\"))"
   ]
  },
  {
   "cell_type": "code",
   "execution_count": 5,
   "id": "popular-active",
   "metadata": {
    "execution": {
     "iopub.execute_input": "2021-09-21T10:30:08.704994Z",
     "iopub.status.busy": "2021-09-21T10:30:08.693089Z",
     "iopub.status.idle": "2021-09-21T10:30:08.722073Z",
     "shell.execute_reply": "2021-09-21T10:30:08.723781Z"
    },
    "papermill": {
     "duration": 0.074214,
     "end_time": "2021-09-21T10:30:08.724267",
     "exception": false,
     "start_time": "2021-09-21T10:30:08.650053",
     "status": "completed"
    },
    "tags": []
   },
   "outputs": [],
   "source": [
    "df_pivot = df.pivot_table(index=\"PRODUCT\", columns = \"RECORD_TIME\", values = \"LISTING_COUNT\")"
   ]
  },
  {
   "cell_type": "code",
   "execution_count": 6,
   "id": "union-huntington",
   "metadata": {
    "execution": {
     "iopub.execute_input": "2021-09-21T10:30:08.782768Z",
     "iopub.status.busy": "2021-09-21T10:30:08.780673Z",
     "iopub.status.idle": "2021-09-21T10:30:08.785951Z",
     "shell.execute_reply": "2021-09-21T10:30:08.787298Z"
    },
    "papermill": {
     "duration": 0.041212,
     "end_time": "2021-09-21T10:30:08.787718",
     "exception": false,
     "start_time": "2021-09-21T10:30:08.746506",
     "status": "completed"
    },
    "tags": []
   },
   "outputs": [],
   "source": [
    "df_pivot.columns = [\"stamp_1\", \"stamp_2\"]\n",
    "df_pivot_diff = df_pivot.diff(axis=1)"
   ]
  },
  {
   "cell_type": "code",
   "execution_count": 7,
   "id": "fifth-motion",
   "metadata": {
    "execution": {
     "iopub.execute_input": "2021-09-21T10:30:08.841904Z",
     "iopub.status.busy": "2021-09-21T10:30:08.839491Z",
     "iopub.status.idle": "2021-09-21T10:30:10.332499Z",
     "shell.execute_reply": "2021-09-21T10:30:10.333870Z"
    },
    "papermill": {
     "duration": 1.525989,
     "end_time": "2021-09-21T10:30:10.334306",
     "exception": false,
     "start_time": "2021-09-21T10:30:08.808317",
     "status": "completed"
    },
    "tags": []
   },
   "outputs": [
    {
     "data": {
      "text/plain": [
       "<AxesSubplot:ylabel='PRODUCT'>"
      ]
     },
     "execution_count": 7,
     "metadata": {},
     "output_type": "execute_result"
    },
    {
     "data": {
      "image/png": "[encoded data removed]",
      "text/plain": [
       "<Figure size 432x288 with 1 Axes>"
      ]
     },
     "metadata": {
      "needs_background": "light"
     },
     "output_type": "display_data"
    }
   ],
   "source": [
    "df_pivot_diff.sort_values(\"stamp_2\", ascending = False)[\"stamp_2\"].head(10).plot.barh()"
   ]
  },
  {
   "cell_type": "code",
   "execution_count": null,
   "id": "extra-executive",
   "metadata": {
    "papermill": {
     "duration": 0.022282,
     "end_time": "2021-09-21T10:30:10.381633",
     "exception": false,
     "start_time": "2021-09-21T10:30:10.359351",
     "status": "completed"
    },
    "tags": []
   },
   "outputs": [],
   "source": []
  }
 ],
 "metadata": {
  "kernelspec": {
   "display_name": "Python 3",
   "language": "python",
   "name": "python3"
  },
  "language_info": {
   "codemirror_mode": {
    "name": "ipython",
    "version": 3
   },
   "file_extension": ".py",
   "mimetype": "text/x-python",
   "name": "python",
   "nbconvert_exporter": "python",
   "pygments_lexer": "ipython3",
   "version": "3.9.5"
  },
  "papermill": {
   "default_parameters": {},
   "duration": 6.69904,
   "end_time": "2021-09-21T10:30:11.024568",
   "environment_variables": {},
   "exception": null,
   "input_path": "eBay_Overview.ipynb",
   "output_path": "eBay_Overview.ipynb",
   "parameters": {},
   "start_time": "2021-09-21T10:30:04.325528",
   "version": "2.3.3"
  }
 },
 "nbformat": 4,
 "nbformat_minor": 5
}