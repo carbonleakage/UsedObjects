{
 "cells": [
  {
   "cell_type": "code",
   "execution_count": 1,
   "id": "reverse-picking",
   "metadata": {
    "execution": {
     "iopub.execute_input": "2021-12-02T05:00:08.135508Z",
     "iopub.status.busy": "2021-12-02T05:00:08.133232Z",
     "iopub.status.idle": "2021-12-02T05:00:09.088040Z",
     "shell.execute_reply": "2021-12-02T05:00:09.090424Z"
    },
    "papermill": {
     "duration": 1.005712,
     "end_time": "2021-12-02T05:00:09.091240",
     "exception": false,
     "start_time": "2021-12-02T05:00:08.085528",
     "status": "completed"
    },
    "tags": []
   },
   "outputs": [],
   "source": [
    "import pandas as pd\n",
    "import sqlite3"
   ]
  },
  {
   "cell_type": "code",
   "execution_count": 2,
   "id": "innovative-syndrome",
   "metadata": {
    "execution": {
     "iopub.execute_input": "2021-12-02T05:00:09.167753Z",
     "iopub.status.busy": "2021-12-02T05:00:09.165445Z",
     "iopub.status.idle": "2021-12-02T05:00:10.136785Z",
     "shell.execute_reply": "2021-12-02T05:00:10.138149Z"
    },
    "papermill": {
     "duration": 1.004708,
     "end_time": "2021-12-02T05:00:10.138570",
     "exception": false,
     "start_time": "2021-12-02T05:00:09.133862",
     "status": "completed"
    },
    "tags": []
   },
   "outputs": [],
   "source": [
    "timestamps = pd.read_sql(\"select distinct record_time from EBAY_TOP_BERLIN order by record_time desc limit 2\", sqlite3.connect(\"UsedObjects.db\"))"
   ]
  },
  {
   "cell_type": "code",
   "execution_count": 3,
   "id": "periodic-identification",
   "metadata": {
    "execution": {
     "iopub.execute_input": "2021-12-02T05:00:10.203380Z",
     "iopub.status.busy": "2021-12-02T05:00:10.201350Z",
     "iopub.status.idle": "2021-12-02T05:00:10.222226Z",
     "shell.execute_reply": "2021-12-02T05:00:10.220872Z"
    },
    "papermill": {
     "duration": 0.064405,
     "end_time": "2021-12-02T05:00:10.222558",
     "exception": false,
     "start_time": "2021-12-02T05:00:10.158153",
     "status": "completed"
    },
    "tags": []
   },
   "outputs": [
    {
     "data": {
      "text/html": [
       "<div>\n",
       "<style scoped>\n",
       "    .dataframe tbody tr th:only-of-type {\n",
       "        vertical-align: middle;\n",
       "    }\n",
       "\n",
       "    .dataframe tbody tr th {\n",
       "        vertical-align: top;\n",
       "    }\n",
       "\n",
       "    .dataframe thead th {\n",
       "        text-align: right;\n",
       "    }\n",
       "</style>\n",
       "<table border=\"1\" class=\"dataframe\">\n",
       "  <thead>\n",
       "    <tr style=\"text-align: right;\">\n",
       "      <th></th>\n",
       "      <th>RECORD_TIME</th>\n",
       "    </tr>\n",
       "  </thead>\n",
       "  <tbody>\n",
       "    <tr>\n",
       "      <th>0</th>\n",
       "      <td>2021-12-02 06:00</td>\n",
       "    </tr>\n",
       "    <tr>\n",
       "      <th>1</th>\n",
       "      <td>2021-12-02 05:30</td>\n",
       "    </tr>\n",
       "  </tbody>\n",
       "</table>\n",
       "</div>"
      ],
      "text/plain": [
       "        RECORD_TIME\n",
       "0  2021-12-02 06:00\n",
       "1  2021-12-02 05:30"
      ]
     },
     "execution_count": 3,
     "metadata": {},
     "output_type": "execute_result"
    }
   ],
   "source": [
    "timestamps"
   ]
  },
  {
   "cell_type": "code",
   "execution_count": 4,
   "id": "alternate-victory",
   "metadata": {
    "execution": {
     "iopub.execute_input": "2021-12-02T05:00:10.273909Z",
     "iopub.status.busy": "2021-12-02T05:00:10.271841Z",
     "iopub.status.idle": "2021-12-02T05:00:11.658615Z",
     "shell.execute_reply": "2021-12-02T05:00:11.660886Z"
    },
    "papermill": {
     "duration": 1.417722,
     "end_time": "2021-12-02T05:00:11.661384",
     "exception": false,
     "start_time": "2021-12-02T05:00:10.243662",
     "status": "completed"
    },
    "tags": []
   },
   "outputs": [],
   "source": [
    "df = pd.read_sql(\"select * from EBAY_TOP_BERLIN where record_time in (select distinct record_time from EBAY_TOP_BERLIN order by record_time desc limit 2)\", sqlite3.connect(\"UsedObjects.db\"))"
   ]
  },
  {
   "cell_type": "code",
   "execution_count": 5,
   "id": "popular-active",
   "metadata": {
    "execution": {
     "iopub.execute_input": "2021-12-02T05:00:11.741573Z",
     "iopub.status.busy": "2021-12-02T05:00:11.727330Z",
     "iopub.status.idle": "2021-12-02T05:00:11.769392Z",
     "shell.execute_reply": "2021-12-02T05:00:11.771043Z"
    },
    "papermill": {
     "duration": 0.085914,
     "end_time": "2021-12-02T05:00:11.771534",
     "exception": false,
     "start_time": "2021-12-02T05:00:11.685620",
     "status": "completed"
    },
    "tags": []
   },
   "outputs": [],
   "source": [
    "df_pivot = df.pivot_table(index=\"PRODUCT\", columns = \"RECORD_TIME\", values = \"LISTING_COUNT\")"
   ]
  },
  {
   "cell_type": "code",
   "execution_count": 6,
   "id": "union-huntington",
   "metadata": {
    "execution": {
     "iopub.execute_input": "2021-12-02T05:00:11.832896Z",
     "iopub.status.busy": "2021-12-02T05:00:11.830663Z",
     "iopub.status.idle": "2021-12-02T05:00:11.837812Z",
     "shell.execute_reply": "2021-12-02T05:00:11.836178Z"
    },
    "papermill": {
     "duration": 0.044278,
     "end_time": "2021-12-02T05:00:11.838215",
     "exception": false,
     "start_time": "2021-12-02T05:00:11.793937",
     "status": "completed"
    },
    "tags": []
   },
   "outputs": [],
   "source": [
    "df_pivot.columns = [\"stamp_1\", \"stamp_2\"]\n",
    "df_pivot_diff = df_pivot.diff(axis=1)"
   ]
  },
  {
   "cell_type": "code",
   "execution_count": 7,
   "id": "fifth-motion",
   "metadata": {
    "execution": {
     "iopub.execute_input": "2021-12-02T05:00:11.894280Z",
     "iopub.status.busy": "2021-12-02T05:00:11.891820Z",
     "iopub.status.idle": "2021-12-02T05:00:13.844103Z",
     "shell.execute_reply": "2021-12-02T05:00:13.847134Z"
    },
    "papermill": {
     "duration": 1.989857,
     "end_time": "2021-12-02T05:00:13.848013",
     "exception": false,
     "start_time": "2021-12-02T05:00:11.858156",
     "status": "completed"
    },
    "tags": []
   },
   "outputs": [
    {
     "data": {
      "text/plain": [
       "<AxesSubplot:ylabel='PRODUCT'>"
      ]
     },
     "execution_count": 7,
     "metadata": {},
     "output_type": "execute_result"
    },
    {
     "data": {
      "image/png": "[encoded data removed]",
      "text/plain": [
       "<Figure size 432x288 with 1 Axes>"
      ]
     },
     "metadata": {
      "needs_background": "light"
     },
     "output_type": "display_data"
    }
   ],
   "source": [
    "df_pivot_diff.sort_values(\"stamp_2\", ascending = False)[\"stamp_2\"].head(10).plot.barh()"
   ]
  },
  {
   "cell_type": "code",
   "execution_count": null,
   "id": "extra-executive",
   "metadata": {
    "papermill": {
     "duration": 0.027649,
     "end_time": "2021-12-02T05:00:13.906388",
     "exception": false,
     "start_time": "2021-12-02T05:00:13.878739",
     "status": "completed"
    },
    "tags": []
   },
   "outputs": [],
   "source": []
  }
 ],
 "metadata": {
  "kernelspec": {
   "display_name": "Python 3",
   "language": "python",
   "name": "python3"
  },
  "language_info": {
   "codemirror_mode": {
    "name": "ipython",
    "version": 3
   },
   "file_extension": ".py",
   "mimetype": "text/x-python",
   "name": "python",
   "nbconvert_exporter": "python",
   "pygments_lexer": "ipython3",
   "version": "3.9.5"
  },
  "papermill": {
   "default_parameters": {},
   "duration": 9.935888,
   "end_time": "2021-12-02T05:00:15.299010",
   "environment_variables": {},
   "exception": null,
   "input_path": "eBay_Overview.ipynb",
   "output_path": "eBay_Overview.ipynb",
   "parameters": {},
   "start_time": "2021-12-02T05:00:05.363122",
   "version": "2.3.3"
  }
 },
 "nbformat": 4,
 "nbformat_minor": 5
}