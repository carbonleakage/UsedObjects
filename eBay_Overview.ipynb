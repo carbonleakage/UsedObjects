{
 "cells": [
  {
   "cell_type": "code",
   "execution_count": 1,
   "id": "reverse-picking",
   "metadata": {
    "execution": {
     "iopub.execute_input": "2021-12-21T14:00:07.975199Z",
     "iopub.status.busy": "2021-12-21T14:00:07.973177Z",
     "iopub.status.idle": "2021-12-21T14:00:08.949492Z",
     "shell.execute_reply": "2021-12-21T14:00:08.951126Z"
    },
    "papermill": {
     "duration": 1.026464,
     "end_time": "2021-12-21T14:00:08.951919",
     "exception": false,
     "start_time": "2021-12-21T14:00:07.925455",
     "status": "completed"
    },
    "tags": []
   },
   "outputs": [],
   "source": [
    "import pandas as pd\n",
    "import sqlite3"
   ]
  },
  {
   "cell_type": "code",
   "execution_count": 2,
   "id": "innovative-syndrome",
   "metadata": {
    "execution": {
     "iopub.execute_input": "2021-12-21T14:00:09.041704Z",
     "iopub.status.busy": "2021-12-21T14:00:09.039485Z",
     "iopub.status.idle": "2021-12-21T14:00:10.199758Z",
     "shell.execute_reply": "2021-12-21T14:00:10.202744Z"
    },
    "papermill": {
     "duration": 1.22932,
     "end_time": "2021-12-21T14:00:10.203570",
     "exception": false,
     "start_time": "2021-12-21T14:00:08.974250",
     "status": "completed"
    },
    "tags": []
   },
   "outputs": [],
   "source": [
    "timestamps = pd.read_sql(\"select distinct record_time from EBAY_TOP_BERLIN order by record_time desc limit 2\", sqlite3.connect(\"UsedObjects.db\"))"
   ]
  },
  {
   "cell_type": "code",
   "execution_count": 3,
   "id": "periodic-identification",
   "metadata": {
    "execution": {
     "iopub.execute_input": "2021-12-21T14:00:10.280745Z",
     "iopub.status.busy": "2021-12-21T14:00:10.278349Z",
     "iopub.status.idle": "2021-12-21T14:00:10.302395Z",
     "shell.execute_reply": "2021-12-21T14:00:10.303667Z"
    },
    "papermill": {
     "duration": 0.075183,
     "end_time": "2021-12-21T14:00:10.304122",
     "exception": false,
     "start_time": "2021-12-21T14:00:10.228939",
     "status": "completed"
    },
    "tags": []
   },
   "outputs": [
    {
     "data": {
      "text/html": [
       "<div>\n",
       "<style scoped>\n",
       "    .dataframe tbody tr th:only-of-type {\n",
       "        vertical-align: middle;\n",
       "    }\n",
       "\n",
       "    .dataframe tbody tr th {\n",
       "        vertical-align: top;\n",
       "    }\n",
       "\n",
       "    .dataframe thead th {\n",
       "        text-align: right;\n",
       "    }\n",
       "</style>\n",
       "<table border=\"1\" class=\"dataframe\">\n",
       "  <thead>\n",
       "    <tr style=\"text-align: right;\">\n",
       "      <th></th>\n",
       "      <th>RECORD_TIME</th>\n",
       "    </tr>\n",
       "  </thead>\n",
       "  <tbody>\n",
       "    <tr>\n",
       "      <th>0</th>\n",
       "      <td>2021-12-21 15:00</td>\n",
       "    </tr>\n",
       "    <tr>\n",
       "      <th>1</th>\n",
       "      <td>2021-12-21 14:30</td>\n",
       "    </tr>\n",
       "  </tbody>\n",
       "</table>\n",
       "</div>"
      ],
      "text/plain": [
       "        RECORD_TIME\n",
       "0  2021-12-21 15:00\n",
       "1  2021-12-21 14:30"
      ]
     },
     "execution_count": 3,
     "metadata": {},
     "output_type": "execute_result"
    }
   ],
   "source": [
    "timestamps"
   ]
  },
  {
   "cell_type": "code",
   "execution_count": 4,
   "id": "alternate-victory",
   "metadata": {
    "execution": {
     "iopub.execute_input": "2021-12-21T14:00:10.358757Z",
     "iopub.status.busy": "2021-12-21T14:00:10.356676Z",
     "iopub.status.idle": "2021-12-21T14:00:11.987139Z",
     "shell.execute_reply": "2021-12-21T14:00:11.984902Z"
    },
    "papermill": {
     "duration": 1.662674,
     "end_time": "2021-12-21T14:00:11.987711",
     "exception": false,
     "start_time": "2021-12-21T14:00:10.325037",
     "status": "completed"
    },
    "tags": []
   },
   "outputs": [],
   "source": [
    "df = pd.read_sql(\"select * from EBAY_TOP_BERLIN where record_time in (select distinct record_time from EBAY_TOP_BERLIN order by record_time desc limit 2)\", sqlite3.connect(\"UsedObjects.db\"))"
   ]
  },
  {
   "cell_type": "code",
   "execution_count": 5,
   "id": "popular-active",
   "metadata": {
    "execution": {
     "iopub.execute_input": "2021-12-21T14:00:12.106171Z",
     "iopub.status.busy": "2021-12-21T14:00:12.083237Z",
     "iopub.status.idle": "2021-12-21T14:00:12.142200Z",
     "shell.execute_reply": "2021-12-21T14:00:12.144936Z"
    },
    "papermill": {
     "duration": 0.131899,
     "end_time": "2021-12-21T14:00:12.145682",
     "exception": false,
     "start_time": "2021-12-21T14:00:12.013783",
     "status": "completed"
    },
    "tags": []
   },
   "outputs": [],
   "source": [
    "df_pivot = df.pivot_table(index=\"PRODUCT\", columns = \"RECORD_TIME\", values = \"LISTING_COUNT\")"
   ]
  },
  {
   "cell_type": "code",
   "execution_count": 6,
   "id": "union-huntington",
   "metadata": {
    "execution": {
     "iopub.execute_input": "2021-12-21T14:00:12.220735Z",
     "iopub.status.busy": "2021-12-21T14:00:12.218022Z",
     "iopub.status.idle": "2021-12-21T14:00:12.223776Z",
     "shell.execute_reply": "2021-12-21T14:00:12.225848Z"
    },
    "papermill": {
     "duration": 0.05438,
     "end_time": "2021-12-21T14:00:12.226412",
     "exception": false,
     "start_time": "2021-12-21T14:00:12.172032",
     "status": "completed"
    },
    "tags": []
   },
   "outputs": [],
   "source": [
    "df_pivot.columns = [\"stamp_1\", \"stamp_2\"]\n",
    "df_pivot_diff = df_pivot.diff(axis=1)"
   ]
  },
  {
   "cell_type": "code",
   "execution_count": 7,
   "id": "fifth-motion",
   "metadata": {
    "execution": {
     "iopub.execute_input": "2021-12-21T14:00:12.283557Z",
     "iopub.status.busy": "2021-12-21T14:00:12.281041Z",
     "iopub.status.idle": "2021-12-21T14:00:13.977122Z",
     "shell.execute_reply": "2021-12-21T14:00:13.978439Z"
    },
    "papermill": {
     "duration": 1.732692,
     "end_time": "2021-12-21T14:00:13.978862",
     "exception": false,
     "start_time": "2021-12-21T14:00:12.246170",
     "status": "completed"
    },
    "tags": []
   },
   "outputs": [
    {
     "data": {
      "text/plain": [
       "<AxesSubplot:ylabel='PRODUCT'>"
      ]
     },
     "execution_count": 7,
     "metadata": {},
     "output_type": "execute_result"
    },
    {
     "data": {
      "image/png": "[encoded data removed]",
      "text/plain": [
       "<Figure size 432x288 with 1 Axes>"
      ]
     },
     "metadata": {
      "needs_background": "light"
     },
     "output_type": "display_data"
    }
   ],
   "source": [
    "df_pivot_diff.sort_values(\"stamp_2\", ascending = False)[\"stamp_2\"].head(10).plot.barh()"
   ]
  },
  {
   "cell_type": "code",
   "execution_count": null,
   "id": "extra-executive",
   "metadata": {
    "papermill": {
     "duration": 0.02794,
     "end_time": "2021-12-21T14:00:14.040442",
     "exception": false,
     "start_time": "2021-12-21T14:00:14.012502",
     "status": "completed"
    },
    "tags": []
   },
   "outputs": [],
   "source": []
  }
 ],
 "metadata": {
  "kernelspec": {
   "display_name": "Python 3",
   "language": "python",
   "name": "python3"
  },
  "language_info": {
   "codemirror_mode": {
    "name": "ipython",
    "version": 3
   },
   "file_extension": ".py",
   "mimetype": "text/x-python",
   "name": "python",
   "nbconvert_exporter": "python",
   "pygments_lexer": "ipython3",
   "version": "3.9.5"
  },
  "papermill": {
   "default_parameters": {},
   "duration": 9.511272,
   "end_time": "2021-12-21T14:00:14.681800",
   "environment_variables": {},
   "exception": null,
   "input_path": "eBay_Overview.ipynb",
   "output_path": "eBay_Overview.ipynb",
   "parameters": {},
   "start_time": "2021-12-21T14:00:05.170528",
   "version": "2.3.3"
  }
 },
 "nbformat": 4,
 "nbformat_minor": 5
}