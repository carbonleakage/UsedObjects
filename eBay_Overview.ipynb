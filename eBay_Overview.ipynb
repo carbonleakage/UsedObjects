{
 "cells": [
  {
   "cell_type": "code",
   "execution_count": 1,
   "id": "reverse-picking",
   "metadata": {
    "execution": {
     "iopub.execute_input": "2021-09-03T12:30:07.021827Z",
     "iopub.status.busy": "2021-09-03T12:30:07.019910Z",
     "iopub.status.idle": "2021-09-03T12:30:07.823824Z",
     "shell.execute_reply": "2021-09-03T12:30:07.825100Z"
    },
    "papermill": {
     "duration": 0.854059,
     "end_time": "2021-09-03T12:30:07.825723",
     "exception": false,
     "start_time": "2021-09-03T12:30:06.971664",
     "status": "completed"
    },
    "tags": []
   },
   "outputs": [],
   "source": [
    "import pandas as pd\n",
    "import sqlite3"
   ]
  },
  {
   "cell_type": "code",
   "execution_count": 2,
   "id": "innovative-syndrome",
   "metadata": {
    "execution": {
     "iopub.execute_input": "2021-09-03T12:30:07.875761Z",
     "iopub.status.busy": "2021-09-03T12:30:07.873753Z",
     "iopub.status.idle": "2021-09-03T12:30:08.067244Z",
     "shell.execute_reply": "2021-09-03T12:30:08.068746Z"
    },
    "papermill": {
     "duration": 0.222976,
     "end_time": "2021-09-03T12:30:08.069203",
     "exception": false,
     "start_time": "2021-09-03T12:30:07.846227",
     "status": "completed"
    },
    "tags": []
   },
   "outputs": [],
   "source": [
    "timestamps = pd.read_sql(\"select distinct record_time from EBAY_TOP_BERLIN order by record_time desc limit 2\", sqlite3.connect(\"UsedObjects.db\"))"
   ]
  },
  {
   "cell_type": "code",
   "execution_count": 3,
   "id": "periodic-identification",
   "metadata": {
    "execution": {
     "iopub.execute_input": "2021-09-03T12:30:08.134627Z",
     "iopub.status.busy": "2021-09-03T12:30:08.132629Z",
     "iopub.status.idle": "2021-09-03T12:30:08.152895Z",
     "shell.execute_reply": "2021-09-03T12:30:08.154462Z"
    },
    "papermill": {
     "duration": 0.066188,
     "end_time": "2021-09-03T12:30:08.155011",
     "exception": false,
     "start_time": "2021-09-03T12:30:08.088823",
     "status": "completed"
    },
    "tags": []
   },
   "outputs": [
    {
     "data": {
      "text/html": [
       "<div>\n",
       "<style scoped>\n",
       "    .dataframe tbody tr th:only-of-type {\n",
       "        vertical-align: middle;\n",
       "    }\n",
       "\n",
       "    .dataframe tbody tr th {\n",
       "        vertical-align: top;\n",
       "    }\n",
       "\n",
       "    .dataframe thead th {\n",
       "        text-align: right;\n",
       "    }\n",
       "</style>\n",
       "<table border=\"1\" class=\"dataframe\">\n",
       "  <thead>\n",
       "    <tr style=\"text-align: right;\">\n",
       "      <th></th>\n",
       "      <th>RECORD_TIME</th>\n",
       "    </tr>\n",
       "  </thead>\n",
       "  <tbody>\n",
       "    <tr>\n",
       "      <th>0</th>\n",
       "      <td>2021-09-03 14:30</td>\n",
       "    </tr>\n",
       "    <tr>\n",
       "      <th>1</th>\n",
       "      <td>2021-09-03 14:00</td>\n",
       "    </tr>\n",
       "  </tbody>\n",
       "</table>\n",
       "</div>"
      ],
      "text/plain": [
       "        RECORD_TIME\n",
       "0  2021-09-03 14:30\n",
       "1  2021-09-03 14:00"
      ]
     },
     "execution_count": 3,
     "metadata": {},
     "output_type": "execute_result"
    }
   ],
   "source": [
    "timestamps"
   ]
  },
  {
   "cell_type": "code",
   "execution_count": 4,
   "id": "alternate-victory",
   "metadata": {
    "execution": {
     "iopub.execute_input": "2021-09-03T12:30:08.207103Z",
     "iopub.status.busy": "2021-09-03T12:30:08.205035Z",
     "iopub.status.idle": "2021-09-03T12:30:08.492421Z",
     "shell.execute_reply": "2021-09-03T12:30:08.493656Z"
    },
    "papermill": {
     "duration": 0.31766,
     "end_time": "2021-09-03T12:30:08.494056",
     "exception": false,
     "start_time": "2021-09-03T12:30:08.176396",
     "status": "completed"
    },
    "tags": []
   },
   "outputs": [],
   "source": [
    "df = pd.read_sql(\"select * from EBAY_TOP_BERLIN where record_time in (select distinct record_time from EBAY_TOP_BERLIN order by record_time desc limit 2)\", sqlite3.connect(\"UsedObjects.db\"))"
   ]
  },
  {
   "cell_type": "code",
   "execution_count": 5,
   "id": "popular-active",
   "metadata": {
    "execution": {
     "iopub.execute_input": "2021-09-03T12:30:08.575062Z",
     "iopub.status.busy": "2021-09-03T12:30:08.563196Z",
     "iopub.status.idle": "2021-09-03T12:30:08.590832Z",
     "shell.execute_reply": "2021-09-03T12:30:08.592321Z"
    },
    "papermill": {
     "duration": 0.07331,
     "end_time": "2021-09-03T12:30:08.592764",
     "exception": false,
     "start_time": "2021-09-03T12:30:08.519454",
     "status": "completed"
    },
    "tags": []
   },
   "outputs": [],
   "source": [
    "df_pivot = df.pivot_table(index=\"PRODUCT\", columns = \"RECORD_TIME\", values = \"LISTING_COUNT\")"
   ]
  },
  {
   "cell_type": "code",
   "execution_count": 6,
   "id": "union-huntington",
   "metadata": {
    "execution": {
     "iopub.execute_input": "2021-09-03T12:30:08.649597Z",
     "iopub.status.busy": "2021-09-03T12:30:08.647169Z",
     "iopub.status.idle": "2021-09-03T12:30:08.653270Z",
     "shell.execute_reply": "2021-09-03T12:30:08.654601Z"
    },
    "papermill": {
     "duration": 0.042264,
     "end_time": "2021-09-03T12:30:08.655126",
     "exception": false,
     "start_time": "2021-09-03T12:30:08.612862",
     "status": "completed"
    },
    "tags": []
   },
   "outputs": [],
   "source": [
    "df_pivot.columns = [\"stamp_1\", \"stamp_2\"]\n",
    "df_pivot_diff = df_pivot.diff(axis=1)"
   ]
  },
  {
   "cell_type": "code",
   "execution_count": 7,
   "id": "fifth-motion",
   "metadata": {
    "execution": {
     "iopub.execute_input": "2021-09-03T12:30:08.708752Z",
     "iopub.status.busy": "2021-09-03T12:30:08.706555Z",
     "iopub.status.idle": "2021-09-03T12:30:10.169417Z",
     "shell.execute_reply": "2021-09-03T12:30:10.170691Z"
    },
    "papermill": {
     "duration": 1.495097,
     "end_time": "2021-09-03T12:30:10.171188",
     "exception": false,
     "start_time": "2021-09-03T12:30:08.676091",
     "status": "completed"
    },
    "tags": []
   },
   "outputs": [
    {
     "data": {
      "text/plain": [
       "<AxesSubplot:ylabel='PRODUCT'>"
      ]
     },
     "execution_count": 7,
     "metadata": {},
     "output_type": "execute_result"
    },
    {
     "data": {
      "image/png": "[encoded data removed]",
      "text/plain": [
       "<Figure size 432x288 with 1 Axes>"
      ]
     },
     "metadata": {
      "needs_background": "light"
     },
     "output_type": "display_data"
    }
   ],
   "source": [
    "df_pivot_diff.sort_values(\"stamp_2\", ascending = False)[\"stamp_2\"].head(10).plot.barh()"
   ]
  },
  {
   "cell_type": "code",
   "execution_count": null,
   "id": "extra-executive",
   "metadata": {
    "papermill": {
     "duration": 0.021832,
     "end_time": "2021-09-03T12:30:10.216941",
     "exception": false,
     "start_time": "2021-09-03T12:30:10.195109",
     "status": "completed"
    },
    "tags": []
   },
   "outputs": [],
   "source": []
  }
 ],
 "metadata": {
  "kernelspec": {
   "display_name": "Python 3",
   "language": "python",
   "name": "python3"
  },
  "language_info": {
   "codemirror_mode": {
    "name": "ipython",
    "version": 3
   },
   "file_extension": ".py",
   "mimetype": "text/x-python",
   "name": "python",
   "nbconvert_exporter": "python",
   "pygments_lexer": "ipython3",
   "version": "3.9.5"
  },
  "papermill": {
   "default_parameters": {},
   "duration": 6.817402,
   "end_time": "2021-09-03T12:30:11.389913",
   "environment_variables": {},
   "exception": null,
   "input_path": "eBay_Overview.ipynb",
   "output_path": "eBay_Overview.ipynb",
   "parameters": {},
   "start_time": "2021-09-03T12:30:04.572511",
   "version": "2.3.3"
  }
 },
 "nbformat": 4,
 "nbformat_minor": 5
}