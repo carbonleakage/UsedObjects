{
 "cells": [
  {
   "cell_type": "code",
   "execution_count": 1,
   "id": "reverse-picking",
   "metadata": {
    "execution": {
     "iopub.execute_input": "2021-11-25T03:30:07.896273Z",
     "iopub.status.busy": "2021-11-25T03:30:07.893982Z",
     "iopub.status.idle": "2021-11-25T03:30:08.849611Z",
     "shell.execute_reply": "2021-11-25T03:30:08.851065Z"
    },
    "papermill": {
     "duration": 1.005586,
     "end_time": "2021-11-25T03:30:08.851814",
     "exception": false,
     "start_time": "2021-11-25T03:30:07.846228",
     "status": "completed"
    },
    "tags": []
   },
   "outputs": [],
   "source": [
    "import pandas as pd\n",
    "import sqlite3"
   ]
  },
  {
   "cell_type": "code",
   "execution_count": 2,
   "id": "innovative-syndrome",
   "metadata": {
    "execution": {
     "iopub.execute_input": "2021-11-25T03:30:08.950916Z",
     "iopub.status.busy": "2021-11-25T03:30:08.948585Z",
     "iopub.status.idle": "2021-11-25T03:30:09.858057Z",
     "shell.execute_reply": "2021-11-25T03:30:09.859545Z"
    },
    "papermill": {
     "duration": 0.979904,
     "end_time": "2021-11-25T03:30:09.860017",
     "exception": false,
     "start_time": "2021-11-25T03:30:08.880113",
     "status": "completed"
    },
    "tags": []
   },
   "outputs": [],
   "source": [
    "timestamps = pd.read_sql(\"select distinct record_time from EBAY_TOP_BERLIN order by record_time desc limit 2\", sqlite3.connect(\"UsedObjects.db\"))"
   ]
  },
  {
   "cell_type": "code",
   "execution_count": 3,
   "id": "periodic-identification",
   "metadata": {
    "execution": {
     "iopub.execute_input": "2021-11-25T03:30:09.930952Z",
     "iopub.status.busy": "2021-11-25T03:30:09.928639Z",
     "iopub.status.idle": "2021-11-25T03:30:09.952190Z",
     "shell.execute_reply": "2021-11-25T03:30:09.953836Z"
    },
    "papermill": {
     "duration": 0.073175,
     "end_time": "2021-11-25T03:30:09.954371",
     "exception": false,
     "start_time": "2021-11-25T03:30:09.881196",
     "status": "completed"
    },
    "tags": []
   },
   "outputs": [
    {
     "data": {
      "text/html": [
       "<div>\n",
       "<style scoped>\n",
       "    .dataframe tbody tr th:only-of-type {\n",
       "        vertical-align: middle;\n",
       "    }\n",
       "\n",
       "    .dataframe tbody tr th {\n",
       "        vertical-align: top;\n",
       "    }\n",
       "\n",
       "    .dataframe thead th {\n",
       "        text-align: right;\n",
       "    }\n",
       "</style>\n",
       "<table border=\"1\" class=\"dataframe\">\n",
       "  <thead>\n",
       "    <tr style=\"text-align: right;\">\n",
       "      <th></th>\n",
       "      <th>RECORD_TIME</th>\n",
       "    </tr>\n",
       "  </thead>\n",
       "  <tbody>\n",
       "    <tr>\n",
       "      <th>0</th>\n",
       "      <td>2021-11-25 04:30</td>\n",
       "    </tr>\n",
       "    <tr>\n",
       "      <th>1</th>\n",
       "      <td>2021-11-25 04:00</td>\n",
       "    </tr>\n",
       "  </tbody>\n",
       "</table>\n",
       "</div>"
      ],
      "text/plain": [
       "        RECORD_TIME\n",
       "0  2021-11-25 04:30\n",
       "1  2021-11-25 04:00"
      ]
     },
     "execution_count": 3,
     "metadata": {},
     "output_type": "execute_result"
    }
   ],
   "source": [
    "timestamps"
   ]
  },
  {
   "cell_type": "code",
   "execution_count": 4,
   "id": "alternate-victory",
   "metadata": {
    "execution": {
     "iopub.execute_input": "2021-11-25T03:30:10.012570Z",
     "iopub.status.busy": "2021-11-25T03:30:10.010444Z",
     "iopub.status.idle": "2021-11-25T03:30:11.350714Z",
     "shell.execute_reply": "2021-11-25T03:30:11.352396Z"
    },
    "papermill": {
     "duration": 1.376384,
     "end_time": "2021-11-25T03:30:11.352964",
     "exception": false,
     "start_time": "2021-11-25T03:30:09.976580",
     "status": "completed"
    },
    "tags": []
   },
   "outputs": [],
   "source": [
    "df = pd.read_sql(\"select * from EBAY_TOP_BERLIN where record_time in (select distinct record_time from EBAY_TOP_BERLIN order by record_time desc limit 2)\", sqlite3.connect(\"UsedObjects.db\"))"
   ]
  },
  {
   "cell_type": "code",
   "execution_count": 5,
   "id": "popular-active",
   "metadata": {
    "execution": {
     "iopub.execute_input": "2021-11-25T03:30:11.429047Z",
     "iopub.status.busy": "2021-11-25T03:30:11.416623Z",
     "iopub.status.idle": "2021-11-25T03:30:11.448127Z",
     "shell.execute_reply": "2021-11-25T03:30:11.449633Z"
    },
    "papermill": {
     "duration": 0.075861,
     "end_time": "2021-11-25T03:30:11.450164",
     "exception": false,
     "start_time": "2021-11-25T03:30:11.374303",
     "status": "completed"
    },
    "tags": []
   },
   "outputs": [],
   "source": [
    "df_pivot = df.pivot_table(index=\"PRODUCT\", columns = \"RECORD_TIME\", values = \"LISTING_COUNT\")"
   ]
  },
  {
   "cell_type": "code",
   "execution_count": 6,
   "id": "union-huntington",
   "metadata": {
    "execution": {
     "iopub.execute_input": "2021-11-25T03:30:11.512547Z",
     "iopub.status.busy": "2021-11-25T03:30:11.510214Z",
     "iopub.status.idle": "2021-11-25T03:30:11.516035Z",
     "shell.execute_reply": "2021-11-25T03:30:11.517626Z"
    },
    "papermill": {
     "duration": 0.045362,
     "end_time": "2021-11-25T03:30:11.518179",
     "exception": false,
     "start_time": "2021-11-25T03:30:11.472817",
     "status": "completed"
    },
    "tags": []
   },
   "outputs": [],
   "source": [
    "df_pivot.columns = [\"stamp_1\", \"stamp_2\"]\n",
    "df_pivot_diff = df_pivot.diff(axis=1)"
   ]
  },
  {
   "cell_type": "code",
   "execution_count": 7,
   "id": "fifth-motion",
   "metadata": {
    "execution": {
     "iopub.execute_input": "2021-11-25T03:30:11.577975Z",
     "iopub.status.busy": "2021-11-25T03:30:11.575427Z",
     "iopub.status.idle": "2021-11-25T03:30:13.515277Z",
     "shell.execute_reply": "2021-11-25T03:30:13.517475Z"
    },
    "papermill": {
     "duration": 1.97761,
     "end_time": "2021-11-25T03:30:13.518044",
     "exception": false,
     "start_time": "2021-11-25T03:30:11.540434",
     "status": "completed"
    },
    "tags": []
   },
   "outputs": [
    {
     "data": {
      "text/plain": [
       "<AxesSubplot:ylabel='PRODUCT'>"
      ]
     },
     "execution_count": 7,
     "metadata": {},
     "output_type": "execute_result"
    },
    {
     "data": {
      "image/png": "[encoded data removed]",
      "text/plain": [
       "<Figure size 432x288 with 1 Axes>"
      ]
     },
     "metadata": {
      "needs_background": "light"
     },
     "output_type": "display_data"
    }
   ],
   "source": [
    "df_pivot_diff.sort_values(\"stamp_2\", ascending = False)[\"stamp_2\"].head(10).plot.barh()"
   ]
  },
  {
   "cell_type": "code",
   "execution_count": null,
   "id": "extra-executive",
   "metadata": {
    "papermill": {
     "duration": 0.036886,
     "end_time": "2021-11-25T03:30:13.582812",
     "exception": false,
     "start_time": "2021-11-25T03:30:13.545926",
     "status": "completed"
    },
    "tags": []
   },
   "outputs": [],
   "source": []
  }
 ],
 "metadata": {
  "kernelspec": {
   "display_name": "Python 3",
   "language": "python",
   "name": "python3"
  },
  "language_info": {
   "codemirror_mode": {
    "name": "ipython",
    "version": 3
   },
   "file_extension": ".py",
   "mimetype": "text/x-python",
   "name": "python",
   "nbconvert_exporter": "python",
   "pygments_lexer": "ipython3",
   "version": "3.9.5"
  },
  "papermill": {
   "default_parameters": {},
   "duration": 9.925015,
   "end_time": "2021-11-25T03:30:15.054143",
   "environment_variables": {},
   "exception": null,
   "input_path": "eBay_Overview.ipynb",
   "output_path": "eBay_Overview.ipynb",
   "parameters": {},
   "start_time": "2021-11-25T03:30:05.129128",
   "version": "2.3.3"
  }
 },
 "nbformat": 4,
 "nbformat_minor": 5
}