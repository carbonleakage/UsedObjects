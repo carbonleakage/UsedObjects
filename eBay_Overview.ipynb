{
 "cells": [
  {
   "cell_type": "code",
   "execution_count": 1,
   "id": "reverse-picking",
   "metadata": {
    "execution": {
     "iopub.execute_input": "2021-09-05T03:00:07.208305Z",
     "iopub.status.busy": "2021-09-05T03:00:07.206230Z",
     "iopub.status.idle": "2021-09-05T03:00:08.010056Z",
     "shell.execute_reply": "2021-09-05T03:00:08.011440Z"
    },
    "papermill": {
     "duration": 0.854852,
     "end_time": "2021-09-05T03:00:08.012098",
     "exception": false,
     "start_time": "2021-09-05T03:00:07.157246",
     "status": "completed"
    },
    "tags": []
   },
   "outputs": [],
   "source": [
    "import pandas as pd\n",
    "import sqlite3"
   ]
  },
  {
   "cell_type": "code",
   "execution_count": 2,
   "id": "innovative-syndrome",
   "metadata": {
    "execution": {
     "iopub.execute_input": "2021-09-05T03:00:08.062715Z",
     "iopub.status.busy": "2021-09-05T03:00:08.060864Z",
     "iopub.status.idle": "2021-09-05T03:00:08.276544Z",
     "shell.execute_reply": "2021-09-05T03:00:08.277742Z"
    },
    "papermill": {
     "duration": 0.245486,
     "end_time": "2021-09-05T03:00:08.278137",
     "exception": false,
     "start_time": "2021-09-05T03:00:08.032651",
     "status": "completed"
    },
    "tags": []
   },
   "outputs": [],
   "source": [
    "timestamps = pd.read_sql(\"select distinct record_time from EBAY_TOP_BERLIN order by record_time desc limit 2\", sqlite3.connect(\"UsedObjects.db\"))"
   ]
  },
  {
   "cell_type": "code",
   "execution_count": 3,
   "id": "periodic-identification",
   "metadata": {
    "execution": {
     "iopub.execute_input": "2021-09-05T03:00:08.343612Z",
     "iopub.status.busy": "2021-09-05T03:00:08.341531Z",
     "iopub.status.idle": "2021-09-05T03:00:08.361529Z",
     "shell.execute_reply": "2021-09-05T03:00:08.362956Z"
    },
    "papermill": {
     "duration": 0.065482,
     "end_time": "2021-09-05T03:00:08.363412",
     "exception": false,
     "start_time": "2021-09-05T03:00:08.297930",
     "status": "completed"
    },
    "tags": []
   },
   "outputs": [
    {
     "data": {
      "text/html": [
       "<div>\n",
       "<style scoped>\n",
       "    .dataframe tbody tr th:only-of-type {\n",
       "        vertical-align: middle;\n",
       "    }\n",
       "\n",
       "    .dataframe tbody tr th {\n",
       "        vertical-align: top;\n",
       "    }\n",
       "\n",
       "    .dataframe thead th {\n",
       "        text-align: right;\n",
       "    }\n",
       "</style>\n",
       "<table border=\"1\" class=\"dataframe\">\n",
       "  <thead>\n",
       "    <tr style=\"text-align: right;\">\n",
       "      <th></th>\n",
       "      <th>RECORD_TIME</th>\n",
       "    </tr>\n",
       "  </thead>\n",
       "  <tbody>\n",
       "    <tr>\n",
       "      <th>0</th>\n",
       "      <td>2021-09-05 05:00</td>\n",
       "    </tr>\n",
       "    <tr>\n",
       "      <th>1</th>\n",
       "      <td>2021-09-05 04:30</td>\n",
       "    </tr>\n",
       "  </tbody>\n",
       "</table>\n",
       "</div>"
      ],
      "text/plain": [
       "        RECORD_TIME\n",
       "0  2021-09-05 05:00\n",
       "1  2021-09-05 04:30"
      ]
     },
     "execution_count": 3,
     "metadata": {},
     "output_type": "execute_result"
    }
   ],
   "source": [
    "timestamps"
   ]
  },
  {
   "cell_type": "code",
   "execution_count": 4,
   "id": "alternate-victory",
   "metadata": {
    "execution": {
     "iopub.execute_input": "2021-09-05T03:00:08.415511Z",
     "iopub.status.busy": "2021-09-05T03:00:08.413580Z",
     "iopub.status.idle": "2021-09-05T03:00:08.726190Z",
     "shell.execute_reply": "2021-09-05T03:00:08.727624Z"
    },
    "papermill": {
     "duration": 0.343047,
     "end_time": "2021-09-05T03:00:08.728043",
     "exception": false,
     "start_time": "2021-09-05T03:00:08.384996",
     "status": "completed"
    },
    "tags": []
   },
   "outputs": [],
   "source": [
    "df = pd.read_sql(\"select * from EBAY_TOP_BERLIN where record_time in (select distinct record_time from EBAY_TOP_BERLIN order by record_time desc limit 2)\", sqlite3.connect(\"UsedObjects.db\"))"
   ]
  },
  {
   "cell_type": "code",
   "execution_count": 5,
   "id": "popular-active",
   "metadata": {
    "execution": {
     "iopub.execute_input": "2021-09-05T03:00:08.809979Z",
     "iopub.status.busy": "2021-09-05T03:00:08.798523Z",
     "iopub.status.idle": "2021-09-05T03:00:08.825688Z",
     "shell.execute_reply": "2021-09-05T03:00:08.826963Z"
    },
    "papermill": {
     "duration": 0.0717,
     "end_time": "2021-09-05T03:00:08.827369",
     "exception": false,
     "start_time": "2021-09-05T03:00:08.755669",
     "status": "completed"
    },
    "tags": []
   },
   "outputs": [],
   "source": [
    "df_pivot = df.pivot_table(index=\"PRODUCT\", columns = \"RECORD_TIME\", values = \"LISTING_COUNT\")"
   ]
  },
  {
   "cell_type": "code",
   "execution_count": 6,
   "id": "union-huntington",
   "metadata": {
    "execution": {
     "iopub.execute_input": "2021-09-05T03:00:08.884252Z",
     "iopub.status.busy": "2021-09-05T03:00:08.882062Z",
     "iopub.status.idle": "2021-09-05T03:00:08.889352Z",
     "shell.execute_reply": "2021-09-05T03:00:08.887866Z"
    },
    "papermill": {
     "duration": 0.041363,
     "end_time": "2021-09-05T03:00:08.889732",
     "exception": false,
     "start_time": "2021-09-05T03:00:08.848369",
     "status": "completed"
    },
    "tags": []
   },
   "outputs": [],
   "source": [
    "df_pivot.columns = [\"stamp_1\", \"stamp_2\"]\n",
    "df_pivot_diff = df_pivot.diff(axis=1)"
   ]
  },
  {
   "cell_type": "code",
   "execution_count": 7,
   "id": "fifth-motion",
   "metadata": {
    "execution": {
     "iopub.execute_input": "2021-09-05T03:00:08.946521Z",
     "iopub.status.busy": "2021-09-05T03:00:08.943899Z",
     "iopub.status.idle": "2021-09-05T03:00:10.443149Z",
     "shell.execute_reply": "2021-09-05T03:00:10.444453Z"
    },
    "papermill": {
     "duration": 1.5334,
     "end_time": "2021-09-05T03:00:10.444872",
     "exception": false,
     "start_time": "2021-09-05T03:00:08.911472",
     "status": "completed"
    },
    "tags": []
   },
   "outputs": [
    {
     "data": {
      "text/plain": [
       "<AxesSubplot:ylabel='PRODUCT'>"
      ]
     },
     "execution_count": 7,
     "metadata": {},
     "output_type": "execute_result"
    },
    {
     "data": {
      "image/png": "[encoded data removed]",
      "text/plain": [
       "<Figure size 432x288 with 1 Axes>"
      ]
     },
     "metadata": {
      "needs_background": "light"
     },
     "output_type": "display_data"
    }
   ],
   "source": [
    "df_pivot_diff.sort_values(\"stamp_2\", ascending = False)[\"stamp_2\"].head(10).plot.barh()"
   ]
  },
  {
   "cell_type": "code",
   "execution_count": null,
   "id": "extra-executive",
   "metadata": {
    "papermill": {
     "duration": 0.022544,
     "end_time": "2021-09-05T03:00:10.492606",
     "exception": false,
     "start_time": "2021-09-05T03:00:10.470062",
     "status": "completed"
    },
    "tags": []
   },
   "outputs": [],
   "source": []
  }
 ],
 "metadata": {
  "kernelspec": {
   "display_name": "Python 3",
   "language": "python",
   "name": "python3"
  },
  "language_info": {
   "codemirror_mode": {
    "name": "ipython",
    "version": 3
   },
   "file_extension": ".py",
   "mimetype": "text/x-python",
   "name": "python",
   "nbconvert_exporter": "python",
   "pygments_lexer": "ipython3",
   "version": "3.9.5"
  },
  "papermill": {
   "default_parameters": {},
   "duration": 6.382814,
   "end_time": "2021-09-05T03:00:11.133832",
   "environment_variables": {},
   "exception": null,
   "input_path": "eBay_Overview.ipynb",
   "output_path": "eBay_Overview.ipynb",
   "parameters": {},
   "start_time": "2021-09-05T03:00:04.751018",
   "version": "2.3.3"
  }
 },
 "nbformat": 4,
 "nbformat_minor": 5
}