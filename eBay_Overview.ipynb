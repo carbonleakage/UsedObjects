{
 "cells": [
  {
   "cell_type": "code",
   "execution_count": 1,
   "id": "reverse-picking",
   "metadata": {
    "execution": {
     "iopub.execute_input": "2021-10-31T00:00:07.174619Z",
     "iopub.status.busy": "2021-10-31T00:00:07.172625Z",
     "iopub.status.idle": "2021-10-31T00:00:07.978764Z",
     "shell.execute_reply": "2021-10-31T00:00:07.980003Z"
    },
    "papermill": {
     "duration": 0.857949,
     "end_time": "2021-10-31T00:00:07.980635",
     "exception": false,
     "start_time": "2021-10-31T00:00:07.122686",
     "status": "completed"
    },
    "tags": []
   },
   "outputs": [],
   "source": [
    "import pandas as pd\n",
    "import sqlite3"
   ]
  },
  {
   "cell_type": "code",
   "execution_count": 2,
   "id": "innovative-syndrome",
   "metadata": {
    "execution": {
     "iopub.execute_input": "2021-10-31T00:00:08.030638Z",
     "iopub.status.busy": "2021-10-31T00:00:08.028754Z",
     "iopub.status.idle": "2021-10-31T00:00:08.708640Z",
     "shell.execute_reply": "2021-10-31T00:00:08.709990Z"
    },
    "papermill": {
     "duration": 0.709557,
     "end_time": "2021-10-31T00:00:08.710412",
     "exception": false,
     "start_time": "2021-10-31T00:00:08.000855",
     "status": "completed"
    },
    "tags": []
   },
   "outputs": [],
   "source": [
    "timestamps = pd.read_sql(\"select distinct record_time from EBAY_TOP_BERLIN order by record_time desc limit 2\", sqlite3.connect(\"UsedObjects.db\"))"
   ]
  },
  {
   "cell_type": "code",
   "execution_count": 3,
   "id": "periodic-identification",
   "metadata": {
    "execution": {
     "iopub.execute_input": "2021-10-31T00:00:08.797185Z",
     "iopub.status.busy": "2021-10-31T00:00:08.791996Z",
     "iopub.status.idle": "2021-10-31T00:00:08.812242Z",
     "shell.execute_reply": "2021-10-31T00:00:08.813709Z"
    },
    "papermill": {
     "duration": 0.072409,
     "end_time": "2021-10-31T00:00:08.814165",
     "exception": false,
     "start_time": "2021-10-31T00:00:08.741756",
     "status": "completed"
    },
    "tags": []
   },
   "outputs": [
    {
     "data": {
      "text/html": [
       "<div>\n",
       "<style scoped>\n",
       "    .dataframe tbody tr th:only-of-type {\n",
       "        vertical-align: middle;\n",
       "    }\n",
       "\n",
       "    .dataframe tbody tr th {\n",
       "        vertical-align: top;\n",
       "    }\n",
       "\n",
       "    .dataframe thead th {\n",
       "        text-align: right;\n",
       "    }\n",
       "</style>\n",
       "<table border=\"1\" class=\"dataframe\">\n",
       "  <thead>\n",
       "    <tr style=\"text-align: right;\">\n",
       "      <th></th>\n",
       "      <th>RECORD_TIME</th>\n",
       "    </tr>\n",
       "  </thead>\n",
       "  <tbody>\n",
       "    <tr>\n",
       "      <th>0</th>\n",
       "      <td>2021-10-31 02:00</td>\n",
       "    </tr>\n",
       "    <tr>\n",
       "      <th>1</th>\n",
       "      <td>2021-10-31 01:30</td>\n",
       "    </tr>\n",
       "  </tbody>\n",
       "</table>\n",
       "</div>"
      ],
      "text/plain": [
       "        RECORD_TIME\n",
       "0  2021-10-31 02:00\n",
       "1  2021-10-31 01:30"
      ]
     },
     "execution_count": 3,
     "metadata": {},
     "output_type": "execute_result"
    }
   ],
   "source": [
    "timestamps"
   ]
  },
  {
   "cell_type": "code",
   "execution_count": 4,
   "id": "alternate-victory",
   "metadata": {
    "execution": {
     "iopub.execute_input": "2021-10-31T00:00:08.864976Z",
     "iopub.status.busy": "2021-10-31T00:00:08.863079Z",
     "iopub.status.idle": "2021-10-31T00:00:09.858021Z",
     "shell.execute_reply": "2021-10-31T00:00:09.859216Z"
    },
    "papermill": {
     "duration": 1.024604,
     "end_time": "2021-10-31T00:00:09.859610",
     "exception": false,
     "start_time": "2021-10-31T00:00:08.835006",
     "status": "completed"
    },
    "tags": []
   },
   "outputs": [],
   "source": [
    "df = pd.read_sql(\"select * from EBAY_TOP_BERLIN where record_time in (select distinct record_time from EBAY_TOP_BERLIN order by record_time desc limit 2)\", sqlite3.connect(\"UsedObjects.db\"))"
   ]
  },
  {
   "cell_type": "code",
   "execution_count": 5,
   "id": "popular-active",
   "metadata": {
    "execution": {
     "iopub.execute_input": "2021-10-31T00:00:09.934449Z",
     "iopub.status.busy": "2021-10-31T00:00:09.922211Z",
     "iopub.status.idle": "2021-10-31T00:00:09.950015Z",
     "shell.execute_reply": "2021-10-31T00:00:09.951119Z"
    },
    "papermill": {
     "duration": 0.068098,
     "end_time": "2021-10-31T00:00:09.951531",
     "exception": false,
     "start_time": "2021-10-31T00:00:09.883433",
     "status": "completed"
    },
    "tags": []
   },
   "outputs": [],
   "source": [
    "df_pivot = df.pivot_table(index=\"PRODUCT\", columns = \"RECORD_TIME\", values = \"LISTING_COUNT\")"
   ]
  },
  {
   "cell_type": "code",
   "execution_count": 6,
   "id": "union-huntington",
   "metadata": {
    "execution": {
     "iopub.execute_input": "2021-10-31T00:00:10.011138Z",
     "iopub.status.busy": "2021-10-31T00:00:10.008673Z",
     "iopub.status.idle": "2021-10-31T00:00:10.014712Z",
     "shell.execute_reply": "2021-10-31T00:00:10.016168Z"
    },
    "papermill": {
     "duration": 0.04217,
     "end_time": "2021-10-31T00:00:10.016638",
     "exception": false,
     "start_time": "2021-10-31T00:00:09.974468",
     "status": "completed"
    },
    "tags": []
   },
   "outputs": [],
   "source": [
    "df_pivot.columns = [\"stamp_1\", \"stamp_2\"]\n",
    "df_pivot_diff = df_pivot.diff(axis=1)"
   ]
  },
  {
   "cell_type": "code",
   "execution_count": 7,
   "id": "fifth-motion",
   "metadata": {
    "execution": {
     "iopub.execute_input": "2021-10-31T00:00:10.071677Z",
     "iopub.status.busy": "2021-10-31T00:00:10.069403Z",
     "iopub.status.idle": "2021-10-31T00:00:11.582186Z",
     "shell.execute_reply": "2021-10-31T00:00:11.580779Z"
    },
    "papermill": {
     "duration": 1.54464,
     "end_time": "2021-10-31T00:00:11.582545",
     "exception": false,
     "start_time": "2021-10-31T00:00:10.037905",
     "status": "completed"
    },
    "tags": []
   },
   "outputs": [
    {
     "data": {
      "text/plain": [
       "<AxesSubplot:ylabel='PRODUCT'>"
      ]
     },
     "execution_count": 7,
     "metadata": {},
     "output_type": "execute_result"
    },
    {
     "data": {
      "image/png": "[encoded data removed]",
      "text/plain": [
       "<Figure size 432x288 with 1 Axes>"
      ]
     },
     "metadata": {
      "needs_background": "light"
     },
     "output_type": "display_data"
    }
   ],
   "source": [
    "df_pivot_diff.sort_values(\"stamp_2\", ascending = False)[\"stamp_2\"].head(10).plot.barh()"
   ]
  },
  {
   "cell_type": "code",
   "execution_count": null,
   "id": "extra-executive",
   "metadata": {
    "papermill": {
     "duration": 0.021935,
     "end_time": "2021-10-31T00:00:11.627624",
     "exception": false,
     "start_time": "2021-10-31T00:00:11.605689",
     "status": "completed"
    },
    "tags": []
   },
   "outputs": [],
   "source": []
  }
 ],
 "metadata": {
  "kernelspec": {
   "display_name": "Python 3",
   "language": "python",
   "name": "python3"
  },
  "language_info": {
   "codemirror_mode": {
    "name": "ipython",
    "version": 3
   },
   "file_extension": ".py",
   "mimetype": "text/x-python",
   "name": "python",
   "nbconvert_exporter": "python",
   "pygments_lexer": "ipython3",
   "version": "3.9.5"
  },
  "papermill": {
   "default_parameters": {},
   "duration": 7.551231,
   "end_time": "2021-10-31T00:00:12.270005",
   "environment_variables": {},
   "exception": null,
   "input_path": "eBay_Overview.ipynb",
   "output_path": "eBay_Overview.ipynb",
   "parameters": {},
   "start_time": "2021-10-31T00:00:04.718774",
   "version": "2.3.3"
  }
 },
 "nbformat": 4,
 "nbformat_minor": 5
}