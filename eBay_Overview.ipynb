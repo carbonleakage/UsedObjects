{
 "cells": [
  {
   "cell_type": "code",
   "execution_count": 1,
   "id": "reverse-picking",
   "metadata": {
    "execution": {
     "iopub.execute_input": "2021-11-30T15:30:07.282562Z",
     "iopub.status.busy": "2021-11-30T15:30:07.280193Z",
     "iopub.status.idle": "2021-11-30T15:30:08.225177Z",
     "shell.execute_reply": "2021-11-30T15:30:08.226688Z"
    },
    "papermill": {
     "duration": 0.994344,
     "end_time": "2021-11-30T15:30:08.227662",
     "exception": false,
     "start_time": "2021-11-30T15:30:07.233318",
     "status": "completed"
    },
    "tags": []
   },
   "outputs": [],
   "source": [
    "import pandas as pd\n",
    "import sqlite3"
   ]
  },
  {
   "cell_type": "code",
   "execution_count": 2,
   "id": "innovative-syndrome",
   "metadata": {
    "execution": {
     "iopub.execute_input": "2021-11-30T15:30:08.289717Z",
     "iopub.status.busy": "2021-11-30T15:30:08.287325Z",
     "iopub.status.idle": "2021-11-30T15:30:09.228983Z",
     "shell.execute_reply": "2021-11-30T15:30:09.230836Z"
    },
    "papermill": {
     "duration": 0.975406,
     "end_time": "2021-11-30T15:30:09.231371",
     "exception": false,
     "start_time": "2021-11-30T15:30:08.255965",
     "status": "completed"
    },
    "tags": []
   },
   "outputs": [],
   "source": [
    "timestamps = pd.read_sql(\"select distinct record_time from EBAY_TOP_BERLIN order by record_time desc limit 2\", sqlite3.connect(\"UsedObjects.db\"))"
   ]
  },
  {
   "cell_type": "code",
   "execution_count": 3,
   "id": "periodic-identification",
   "metadata": {
    "execution": {
     "iopub.execute_input": "2021-11-30T15:30:09.299798Z",
     "iopub.status.busy": "2021-11-30T15:30:09.297794Z",
     "iopub.status.idle": "2021-11-30T15:30:09.319503Z",
     "shell.execute_reply": "2021-11-30T15:30:09.318078Z"
    },
    "papermill": {
     "duration": 0.066991,
     "end_time": "2021-11-30T15:30:09.319856",
     "exception": false,
     "start_time": "2021-11-30T15:30:09.252865",
     "status": "completed"
    },
    "tags": []
   },
   "outputs": [
    {
     "data": {
      "text/html": [
       "<div>\n",
       "<style scoped>\n",
       "    .dataframe tbody tr th:only-of-type {\n",
       "        vertical-align: middle;\n",
       "    }\n",
       "\n",
       "    .dataframe tbody tr th {\n",
       "        vertical-align: top;\n",
       "    }\n",
       "\n",
       "    .dataframe thead th {\n",
       "        text-align: right;\n",
       "    }\n",
       "</style>\n",
       "<table border=\"1\" class=\"dataframe\">\n",
       "  <thead>\n",
       "    <tr style=\"text-align: right;\">\n",
       "      <th></th>\n",
       "      <th>RECORD_TIME</th>\n",
       "    </tr>\n",
       "  </thead>\n",
       "  <tbody>\n",
       "    <tr>\n",
       "      <th>0</th>\n",
       "      <td>2021-11-30 16:30</td>\n",
       "    </tr>\n",
       "    <tr>\n",
       "      <th>1</th>\n",
       "      <td>2021-11-30 16:00</td>\n",
       "    </tr>\n",
       "  </tbody>\n",
       "</table>\n",
       "</div>"
      ],
      "text/plain": [
       "        RECORD_TIME\n",
       "0  2021-11-30 16:30\n",
       "1  2021-11-30 16:00"
      ]
     },
     "execution_count": 3,
     "metadata": {},
     "output_type": "execute_result"
    }
   ],
   "source": [
    "timestamps"
   ]
  },
  {
   "cell_type": "code",
   "execution_count": 4,
   "id": "alternate-victory",
   "metadata": {
    "execution": {
     "iopub.execute_input": "2021-11-30T15:30:09.371717Z",
     "iopub.status.busy": "2021-11-30T15:30:09.369417Z",
     "iopub.status.idle": "2021-11-30T15:30:10.751156Z",
     "shell.execute_reply": "2021-11-30T15:30:10.753282Z"
    },
    "papermill": {
     "duration": 1.412805,
     "end_time": "2021-11-30T15:30:10.753726",
     "exception": false,
     "start_time": "2021-11-30T15:30:09.340921",
     "status": "completed"
    },
    "tags": []
   },
   "outputs": [],
   "source": [
    "df = pd.read_sql(\"select * from EBAY_TOP_BERLIN where record_time in (select distinct record_time from EBAY_TOP_BERLIN order by record_time desc limit 2)\", sqlite3.connect(\"UsedObjects.db\"))"
   ]
  },
  {
   "cell_type": "code",
   "execution_count": 5,
   "id": "popular-active",
   "metadata": {
    "execution": {
     "iopub.execute_input": "2021-11-30T15:30:10.833657Z",
     "iopub.status.busy": "2021-11-30T15:30:10.819432Z",
     "iopub.status.idle": "2021-11-30T15:30:10.859053Z",
     "shell.execute_reply": "2021-11-30T15:30:10.856187Z"
    },
    "papermill": {
     "duration": 0.083443,
     "end_time": "2021-11-30T15:30:10.859623",
     "exception": false,
     "start_time": "2021-11-30T15:30:10.776180",
     "status": "completed"
    },
    "tags": []
   },
   "outputs": [],
   "source": [
    "df_pivot = df.pivot_table(index=\"PRODUCT\", columns = \"RECORD_TIME\", values = \"LISTING_COUNT\")"
   ]
  },
  {
   "cell_type": "code",
   "execution_count": 6,
   "id": "union-huntington",
   "metadata": {
    "execution": {
     "iopub.execute_input": "2021-11-30T15:30:10.922964Z",
     "iopub.status.busy": "2021-11-30T15:30:10.920645Z",
     "iopub.status.idle": "2021-11-30T15:30:10.928219Z",
     "shell.execute_reply": "2021-11-30T15:30:10.926674Z"
    },
    "papermill": {
     "duration": 0.046532,
     "end_time": "2021-11-30T15:30:10.928609",
     "exception": false,
     "start_time": "2021-11-30T15:30:10.882077",
     "status": "completed"
    },
    "tags": []
   },
   "outputs": [],
   "source": [
    "df_pivot.columns = [\"stamp_1\", \"stamp_2\"]\n",
    "df_pivot_diff = df_pivot.diff(axis=1)"
   ]
  },
  {
   "cell_type": "code",
   "execution_count": 7,
   "id": "fifth-motion",
   "metadata": {
    "execution": {
     "iopub.execute_input": "2021-11-30T15:30:10.983798Z",
     "iopub.status.busy": "2021-11-30T15:30:10.981360Z",
     "iopub.status.idle": "2021-11-30T15:30:13.009719Z",
     "shell.execute_reply": "2021-11-30T15:30:13.011786Z"
    },
    "papermill": {
     "duration": 2.064122,
     "end_time": "2021-11-30T15:30:13.012406",
     "exception": false,
     "start_time": "2021-11-30T15:30:10.948284",
     "status": "completed"
    },
    "tags": []
   },
   "outputs": [
    {
     "data": {
      "text/plain": [
       "<AxesSubplot:ylabel='PRODUCT'>"
      ]
     },
     "execution_count": 7,
     "metadata": {},
     "output_type": "execute_result"
    },
    {
     "data": {
      "image/png": "[encoded data removed]",
      "text/plain": [
       "<Figure size 432x288 with 1 Axes>"
      ]
     },
     "metadata": {
      "needs_background": "light"
     },
     "output_type": "display_data"
    }
   ],
   "source": [
    "df_pivot_diff.sort_values(\"stamp_2\", ascending = False)[\"stamp_2\"].head(10).plot.barh()"
   ]
  },
  {
   "cell_type": "code",
   "execution_count": null,
   "id": "extra-executive",
   "metadata": {
    "papermill": {
     "duration": 0.027011,
     "end_time": "2021-11-30T15:30:13.067273",
     "exception": false,
     "start_time": "2021-11-30T15:30:13.040262",
     "status": "completed"
    },
    "tags": []
   },
   "outputs": [],
   "source": []
  }
 ],
 "metadata": {
  "kernelspec": {
   "display_name": "Python 3",
   "language": "python",
   "name": "python3"
  },
  "language_info": {
   "codemirror_mode": {
    "name": "ipython",
    "version": 3
   },
   "file_extension": ".py",
   "mimetype": "text/x-python",
   "name": "python",
   "nbconvert_exporter": "python",
   "pygments_lexer": "ipython3",
   "version": "3.9.5"
  },
  "papermill": {
   "default_parameters": {},
   "duration": 9.93732,
   "end_time": "2021-11-30T15:30:14.459656",
   "environment_variables": {},
   "exception": null,
   "input_path": "eBay_Overview.ipynb",
   "output_path": "eBay_Overview.ipynb",
   "parameters": {},
   "start_time": "2021-11-30T15:30:04.522336",
   "version": "2.3.3"
  }
 },
 "nbformat": 4,
 "nbformat_minor": 5
}