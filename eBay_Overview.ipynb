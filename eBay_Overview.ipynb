{
 "cells": [
  {
   "cell_type": "code",
   "execution_count": 1,
   "id": "reverse-picking",
   "metadata": {
    "execution": {
     "iopub.execute_input": "2021-10-25T08:00:07.278798Z",
     "iopub.status.busy": "2021-10-25T08:00:07.276861Z",
     "iopub.status.idle": "2021-10-25T08:00:08.090214Z",
     "shell.execute_reply": "2021-10-25T08:00:08.091647Z"
    },
    "papermill": {
     "duration": 0.86667,
     "end_time": "2021-10-25T08:00:08.092316",
     "exception": false,
     "start_time": "2021-10-25T08:00:07.225646",
     "status": "completed"
    },
    "tags": []
   },
   "outputs": [],
   "source": [
    "import pandas as pd\n",
    "import sqlite3"
   ]
  },
  {
   "cell_type": "code",
   "execution_count": 2,
   "id": "innovative-syndrome",
   "metadata": {
    "execution": {
     "iopub.execute_input": "2021-10-25T08:00:08.143757Z",
     "iopub.status.busy": "2021-10-25T08:00:08.141686Z",
     "iopub.status.idle": "2021-10-25T08:00:08.767211Z",
     "shell.execute_reply": "2021-10-25T08:00:08.768421Z"
    },
    "papermill": {
     "duration": 0.656143,
     "end_time": "2021-10-25T08:00:08.769010",
     "exception": false,
     "start_time": "2021-10-25T08:00:08.112867",
     "status": "completed"
    },
    "tags": []
   },
   "outputs": [],
   "source": [
    "timestamps = pd.read_sql(\"select distinct record_time from EBAY_TOP_BERLIN order by record_time desc limit 2\", sqlite3.connect(\"UsedObjects.db\"))"
   ]
  },
  {
   "cell_type": "code",
   "execution_count": 3,
   "id": "periodic-identification",
   "metadata": {
    "execution": {
     "iopub.execute_input": "2021-10-25T08:00:08.845322Z",
     "iopub.status.busy": "2021-10-25T08:00:08.843088Z",
     "iopub.status.idle": "2021-10-25T08:00:08.862907Z",
     "shell.execute_reply": "2021-10-25T08:00:08.864117Z"
    },
    "papermill": {
     "duration": 0.067991,
     "end_time": "2021-10-25T08:00:08.864508",
     "exception": false,
     "start_time": "2021-10-25T08:00:08.796517",
     "status": "completed"
    },
    "tags": []
   },
   "outputs": [
    {
     "data": {
      "text/html": [
       "<div>\n",
       "<style scoped>\n",
       "    .dataframe tbody tr th:only-of-type {\n",
       "        vertical-align: middle;\n",
       "    }\n",
       "\n",
       "    .dataframe tbody tr th {\n",
       "        vertical-align: top;\n",
       "    }\n",
       "\n",
       "    .dataframe thead th {\n",
       "        text-align: right;\n",
       "    }\n",
       "</style>\n",
       "<table border=\"1\" class=\"dataframe\">\n",
       "  <thead>\n",
       "    <tr style=\"text-align: right;\">\n",
       "      <th></th>\n",
       "      <th>RECORD_TIME</th>\n",
       "    </tr>\n",
       "  </thead>\n",
       "  <tbody>\n",
       "    <tr>\n",
       "      <th>0</th>\n",
       "      <td>2021-10-25 10:00</td>\n",
       "    </tr>\n",
       "    <tr>\n",
       "      <th>1</th>\n",
       "      <td>2021-10-25 09:30</td>\n",
       "    </tr>\n",
       "  </tbody>\n",
       "</table>\n",
       "</div>"
      ],
      "text/plain": [
       "        RECORD_TIME\n",
       "0  2021-10-25 10:00\n",
       "1  2021-10-25 09:30"
      ]
     },
     "execution_count": 3,
     "metadata": {},
     "output_type": "execute_result"
    }
   ],
   "source": [
    "timestamps"
   ]
  },
  {
   "cell_type": "code",
   "execution_count": 4,
   "id": "alternate-victory",
   "metadata": {
    "execution": {
     "iopub.execute_input": "2021-10-25T08:00:08.918676Z",
     "iopub.status.busy": "2021-10-25T08:00:08.916277Z",
     "iopub.status.idle": "2021-10-25T08:00:09.843853Z",
     "shell.execute_reply": "2021-10-25T08:00:09.845059Z"
    },
    "papermill": {
     "duration": 0.958096,
     "end_time": "2021-10-25T08:00:09.845486",
     "exception": false,
     "start_time": "2021-10-25T08:00:08.887390",
     "status": "completed"
    },
    "tags": []
   },
   "outputs": [],
   "source": [
    "df = pd.read_sql(\"select * from EBAY_TOP_BERLIN where record_time in (select distinct record_time from EBAY_TOP_BERLIN order by record_time desc limit 2)\", sqlite3.connect(\"UsedObjects.db\"))"
   ]
  },
  {
   "cell_type": "code",
   "execution_count": 5,
   "id": "popular-active",
   "metadata": {
    "execution": {
     "iopub.execute_input": "2021-10-25T08:00:09.919874Z",
     "iopub.status.busy": "2021-10-25T08:00:09.908280Z",
     "iopub.status.idle": "2021-10-25T08:00:09.935596Z",
     "shell.execute_reply": "2021-10-25T08:00:09.936884Z"
    },
    "papermill": {
     "duration": 0.068626,
     "end_time": "2021-10-25T08:00:09.937287",
     "exception": false,
     "start_time": "2021-10-25T08:00:09.868661",
     "status": "completed"
    },
    "tags": []
   },
   "outputs": [],
   "source": [
    "df_pivot = df.pivot_table(index=\"PRODUCT\", columns = \"RECORD_TIME\", values = \"LISTING_COUNT\")"
   ]
  },
  {
   "cell_type": "code",
   "execution_count": 6,
   "id": "union-huntington",
   "metadata": {
    "execution": {
     "iopub.execute_input": "2021-10-25T08:00:09.994256Z",
     "iopub.status.busy": "2021-10-25T08:00:09.992018Z",
     "iopub.status.idle": "2021-10-25T08:00:09.997751Z",
     "shell.execute_reply": "2021-10-25T08:00:09.999154Z"
    },
    "papermill": {
     "duration": 0.041295,
     "end_time": "2021-10-25T08:00:09.999597",
     "exception": false,
     "start_time": "2021-10-25T08:00:09.958302",
     "status": "completed"
    },
    "tags": []
   },
   "outputs": [],
   "source": [
    "df_pivot.columns = [\"stamp_1\", \"stamp_2\"]\n",
    "df_pivot_diff = df_pivot.diff(axis=1)"
   ]
  },
  {
   "cell_type": "code",
   "execution_count": 7,
   "id": "fifth-motion",
   "metadata": {
    "execution": {
     "iopub.execute_input": "2021-10-25T08:00:10.056858Z",
     "iopub.status.busy": "2021-10-25T08:00:10.054172Z",
     "iopub.status.idle": "2021-10-25T08:00:11.537828Z",
     "shell.execute_reply": "2021-10-25T08:00:11.539124Z"
    },
    "papermill": {
     "duration": 1.517503,
     "end_time": "2021-10-25T08:00:11.539538",
     "exception": false,
     "start_time": "2021-10-25T08:00:10.022035",
     "status": "completed"
    },
    "tags": []
   },
   "outputs": [
    {
     "data": {
      "text/plain": [
       "<AxesSubplot:ylabel='PRODUCT'>"
      ]
     },
     "execution_count": 7,
     "metadata": {},
     "output_type": "execute_result"
    },
    {
     "data": {
      "image/png": "[encoded data removed]",
      "text/plain": [
       "<Figure size 432x288 with 1 Axes>"
      ]
     },
     "metadata": {
      "needs_background": "light"
     },
     "output_type": "display_data"
    }
   ],
   "source": [
    "df_pivot_diff.sort_values(\"stamp_2\", ascending = False)[\"stamp_2\"].head(10).plot.barh()"
   ]
  },
  {
   "cell_type": "code",
   "execution_count": null,
   "id": "extra-executive",
   "metadata": {
    "papermill": {
     "duration": 0.022533,
     "end_time": "2021-10-25T08:00:11.587862",
     "exception": false,
     "start_time": "2021-10-25T08:00:11.565329",
     "status": "completed"
    },
    "tags": []
   },
   "outputs": [],
   "source": []
  }
 ],
 "metadata": {
  "kernelspec": {
   "display_name": "Python 3",
   "language": "python",
   "name": "python3"
  },
  "language_info": {
   "codemirror_mode": {
    "name": "ipython",
    "version": 3
   },
   "file_extension": ".py",
   "mimetype": "text/x-python",
   "name": "python",
   "nbconvert_exporter": "python",
   "pygments_lexer": "ipython3",
   "version": "3.9.5"
  },
  "papermill": {
   "default_parameters": {},
   "duration": 7.431744,
   "end_time": "2021-10-25T08:00:12.228872",
   "environment_variables": {},
   "exception": null,
   "input_path": "eBay_Overview.ipynb",
   "output_path": "eBay_Overview.ipynb",
   "parameters": {},
   "start_time": "2021-10-25T08:00:04.797128",
   "version": "2.3.3"
  }
 },
 "nbformat": 4,
 "nbformat_minor": 5
}