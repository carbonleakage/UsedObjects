{
 "cells": [
  {
   "cell_type": "code",
   "execution_count": 1,
   "id": "reverse-picking",
   "metadata": {
    "execution": {
     "iopub.execute_input": "2021-12-22T03:30:07.694211Z",
     "iopub.status.busy": "2021-12-22T03:30:07.691573Z",
     "iopub.status.idle": "2021-12-22T03:30:08.652909Z",
     "shell.execute_reply": "2021-12-22T03:30:08.650906Z"
    },
    "papermill": {
     "duration": 1.009174,
     "end_time": "2021-12-22T03:30:08.653424",
     "exception": false,
     "start_time": "2021-12-22T03:30:07.644250",
     "status": "completed"
    },
    "tags": []
   },
   "outputs": [],
   "source": [
    "import pandas as pd\n",
    "import sqlite3"
   ]
  },
  {
   "cell_type": "code",
   "execution_count": 2,
   "id": "innovative-syndrome",
   "metadata": {
    "execution": {
     "iopub.execute_input": "2021-12-22T03:30:08.719387Z",
     "iopub.status.busy": "2021-12-22T03:30:08.716772Z",
     "iopub.status.idle": "2021-12-22T03:30:09.879183Z",
     "shell.execute_reply": "2021-12-22T03:30:09.880541Z"
    },
    "papermill": {
     "duration": 1.197521,
     "end_time": "2021-12-22T03:30:09.881108",
     "exception": false,
     "start_time": "2021-12-22T03:30:08.683587",
     "status": "completed"
    },
    "tags": []
   },
   "outputs": [],
   "source": [
    "timestamps = pd.read_sql(\"select distinct record_time from EBAY_TOP_BERLIN order by record_time desc limit 2\", sqlite3.connect(\"UsedObjects.db\"))"
   ]
  },
  {
   "cell_type": "code",
   "execution_count": 3,
   "id": "periodic-identification",
   "metadata": {
    "execution": {
     "iopub.execute_input": "2021-12-22T03:30:09.952840Z",
     "iopub.status.busy": "2021-12-22T03:30:09.934844Z",
     "iopub.status.idle": "2021-12-22T03:30:09.974462Z",
     "shell.execute_reply": "2021-12-22T03:30:09.976446Z"
    },
    "papermill": {
     "duration": 0.076144,
     "end_time": "2021-12-22T03:30:09.976936",
     "exception": false,
     "start_time": "2021-12-22T03:30:09.900792",
     "status": "completed"
    },
    "tags": []
   },
   "outputs": [
    {
     "data": {
      "text/html": [
       "<div>\n",
       "<style scoped>\n",
       "    .dataframe tbody tr th:only-of-type {\n",
       "        vertical-align: middle;\n",
       "    }\n",
       "\n",
       "    .dataframe tbody tr th {\n",
       "        vertical-align: top;\n",
       "    }\n",
       "\n",
       "    .dataframe thead th {\n",
       "        text-align: right;\n",
       "    }\n",
       "</style>\n",
       "<table border=\"1\" class=\"dataframe\">\n",
       "  <thead>\n",
       "    <tr style=\"text-align: right;\">\n",
       "      <th></th>\n",
       "      <th>RECORD_TIME</th>\n",
       "    </tr>\n",
       "  </thead>\n",
       "  <tbody>\n",
       "    <tr>\n",
       "      <th>0</th>\n",
       "      <td>2021-12-22 04:30</td>\n",
       "    </tr>\n",
       "    <tr>\n",
       "      <th>1</th>\n",
       "      <td>2021-12-22 04:00</td>\n",
       "    </tr>\n",
       "  </tbody>\n",
       "</table>\n",
       "</div>"
      ],
      "text/plain": [
       "        RECORD_TIME\n",
       "0  2021-12-22 04:30\n",
       "1  2021-12-22 04:00"
      ]
     },
     "execution_count": 3,
     "metadata": {},
     "output_type": "execute_result"
    }
   ],
   "source": [
    "timestamps"
   ]
  },
  {
   "cell_type": "code",
   "execution_count": 4,
   "id": "alternate-victory",
   "metadata": {
    "execution": {
     "iopub.execute_input": "2021-12-22T03:30:10.061313Z",
     "iopub.status.busy": "2021-12-22T03:30:10.058880Z",
     "iopub.status.idle": "2021-12-22T03:30:11.734607Z",
     "shell.execute_reply": "2021-12-22T03:30:11.736077Z"
    },
    "papermill": {
     "duration": 1.712969,
     "end_time": "2021-12-22T03:30:11.736602",
     "exception": false,
     "start_time": "2021-12-22T03:30:10.023633",
     "status": "completed"
    },
    "tags": []
   },
   "outputs": [],
   "source": [
    "df = pd.read_sql(\"select * from EBAY_TOP_BERLIN where record_time in (select distinct record_time from EBAY_TOP_BERLIN order by record_time desc limit 2)\", sqlite3.connect(\"UsedObjects.db\"))"
   ]
  },
  {
   "cell_type": "code",
   "execution_count": 5,
   "id": "popular-active",
   "metadata": {
    "execution": {
     "iopub.execute_input": "2021-12-22T03:30:11.816664Z",
     "iopub.status.busy": "2021-12-22T03:30:11.803758Z",
     "iopub.status.idle": "2021-12-22T03:30:11.834829Z",
     "shell.execute_reply": "2021-12-22T03:30:11.836145Z"
    },
    "papermill": {
     "duration": 0.077641,
     "end_time": "2021-12-22T03:30:11.836631",
     "exception": false,
     "start_time": "2021-12-22T03:30:11.758990",
     "status": "completed"
    },
    "tags": []
   },
   "outputs": [],
   "source": [
    "df_pivot = df.pivot_table(index=\"PRODUCT\", columns = \"RECORD_TIME\", values = \"LISTING_COUNT\")"
   ]
  },
  {
   "cell_type": "code",
   "execution_count": 6,
   "id": "union-huntington",
   "metadata": {
    "execution": {
     "iopub.execute_input": "2021-12-22T03:30:11.894948Z",
     "iopub.status.busy": "2021-12-22T03:30:11.892669Z",
     "iopub.status.idle": "2021-12-22T03:30:11.898429Z",
     "shell.execute_reply": "2021-12-22T03:30:11.899757Z"
    },
    "papermill": {
     "duration": 0.043318,
     "end_time": "2021-12-22T03:30:11.900241",
     "exception": false,
     "start_time": "2021-12-22T03:30:11.856923",
     "status": "completed"
    },
    "tags": []
   },
   "outputs": [],
   "source": [
    "df_pivot.columns = [\"stamp_1\", \"stamp_2\"]\n",
    "df_pivot_diff = df_pivot.diff(axis=1)"
   ]
  },
  {
   "cell_type": "code",
   "execution_count": 7,
   "id": "fifth-motion",
   "metadata": {
    "execution": {
     "iopub.execute_input": "2021-12-22T03:30:11.959812Z",
     "iopub.status.busy": "2021-12-22T03:30:11.956908Z",
     "iopub.status.idle": "2021-12-22T03:30:13.928832Z",
     "shell.execute_reply": "2021-12-22T03:30:13.927273Z"
    },
    "papermill": {
     "duration": 2.007683,
     "end_time": "2021-12-22T03:30:13.929225",
     "exception": false,
     "start_time": "2021-12-22T03:30:11.921542",
     "status": "completed"
    },
    "tags": []
   },
   "outputs": [
    {
     "data": {
      "text/plain": [
       "<AxesSubplot:ylabel='PRODUCT'>"
      ]
     },
     "execution_count": 7,
     "metadata": {},
     "output_type": "execute_result"
    },
    {
     "data": {
      "image/png": "[encoded data removed]",
      "text/plain": [
       "<Figure size 432x288 with 1 Axes>"
      ]
     },
     "metadata": {
      "needs_background": "light"
     },
     "output_type": "display_data"
    }
   ],
   "source": [
    "df_pivot_diff.sort_values(\"stamp_2\", ascending = False)[\"stamp_2\"].head(10).plot.barh()"
   ]
  },
  {
   "cell_type": "code",
   "execution_count": null,
   "id": "extra-executive",
   "metadata": {
    "papermill": {
     "duration": 0.027032,
     "end_time": "2021-12-22T03:30:13.989582",
     "exception": false,
     "start_time": "2021-12-22T03:30:13.962550",
     "status": "completed"
    },
    "tags": []
   },
   "outputs": [],
   "source": []
  }
 ],
 "metadata": {
  "kernelspec": {
   "display_name": "Python 3",
   "language": "python",
   "name": "python3"
  },
  "language_info": {
   "codemirror_mode": {
    "name": "ipython",
    "version": 3
   },
   "file_extension": ".py",
   "mimetype": "text/x-python",
   "name": "python",
   "nbconvert_exporter": "python",
   "pygments_lexer": "ipython3",
   "version": "3.9.5"
  },
  "papermill": {
   "default_parameters": {},
   "duration": 9.749641,
   "end_time": "2021-12-22T03:30:14.632042",
   "environment_variables": {},
   "exception": null,
   "input_path": "eBay_Overview.ipynb",
   "output_path": "eBay_Overview.ipynb",
   "parameters": {},
   "start_time": "2021-12-22T03:30:04.882401",
   "version": "2.3.3"
  }
 },
 "nbformat": 4,
 "nbformat_minor": 5
}