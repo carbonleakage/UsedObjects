{
 "cells": [
  {
   "cell_type": "code",
   "execution_count": 1,
   "id": "reverse-picking",
   "metadata": {
    "execution": {
     "iopub.execute_input": "2021-10-17T19:00:07.462900Z",
     "iopub.status.busy": "2021-10-17T19:00:07.460862Z",
     "iopub.status.idle": "2021-10-17T19:00:08.271027Z",
     "shell.execute_reply": "2021-10-17T19:00:08.272318Z"
    },
    "papermill": {
     "duration": 0.862987,
     "end_time": "2021-10-17T19:00:08.273125",
     "exception": false,
     "start_time": "2021-10-17T19:00:07.410138",
     "status": "completed"
    },
    "tags": []
   },
   "outputs": [],
   "source": [
    "import pandas as pd\n",
    "import sqlite3"
   ]
  },
  {
   "cell_type": "code",
   "execution_count": 2,
   "id": "innovative-syndrome",
   "metadata": {
    "execution": {
     "iopub.execute_input": "2021-10-17T19:00:08.326458Z",
     "iopub.status.busy": "2021-10-17T19:00:08.324002Z",
     "iopub.status.idle": "2021-10-17T19:00:08.877121Z",
     "shell.execute_reply": "2021-10-17T19:00:08.878450Z"
    },
    "papermill": {
     "duration": 0.583516,
     "end_time": "2021-10-17T19:00:08.878877",
     "exception": false,
     "start_time": "2021-10-17T19:00:08.295361",
     "status": "completed"
    },
    "tags": []
   },
   "outputs": [],
   "source": [
    "timestamps = pd.read_sql(\"select distinct record_time from EBAY_TOP_BERLIN order by record_time desc limit 2\", sqlite3.connect(\"UsedObjects.db\"))"
   ]
  },
  {
   "cell_type": "code",
   "execution_count": 3,
   "id": "periodic-identification",
   "metadata": {
    "execution": {
     "iopub.execute_input": "2021-10-17T19:00:08.957817Z",
     "iopub.status.busy": "2021-10-17T19:00:08.952579Z",
     "iopub.status.idle": "2021-10-17T19:00:08.973027Z",
     "shell.execute_reply": "2021-10-17T19:00:08.974498Z"
    },
    "papermill": {
     "duration": 0.071035,
     "end_time": "2021-10-17T19:00:08.974932",
     "exception": false,
     "start_time": "2021-10-17T19:00:08.903897",
     "status": "completed"
    },
    "tags": []
   },
   "outputs": [
    {
     "data": {
      "text/html": [
       "<div>\n",
       "<style scoped>\n",
       "    .dataframe tbody tr th:only-of-type {\n",
       "        vertical-align: middle;\n",
       "    }\n",
       "\n",
       "    .dataframe tbody tr th {\n",
       "        vertical-align: top;\n",
       "    }\n",
       "\n",
       "    .dataframe thead th {\n",
       "        text-align: right;\n",
       "    }\n",
       "</style>\n",
       "<table border=\"1\" class=\"dataframe\">\n",
       "  <thead>\n",
       "    <tr style=\"text-align: right;\">\n",
       "      <th></th>\n",
       "      <th>RECORD_TIME</th>\n",
       "    </tr>\n",
       "  </thead>\n",
       "  <tbody>\n",
       "    <tr>\n",
       "      <th>0</th>\n",
       "      <td>2021-10-17 21:00</td>\n",
       "    </tr>\n",
       "    <tr>\n",
       "      <th>1</th>\n",
       "      <td>2021-10-17 20:30</td>\n",
       "    </tr>\n",
       "  </tbody>\n",
       "</table>\n",
       "</div>"
      ],
      "text/plain": [
       "        RECORD_TIME\n",
       "0  2021-10-17 21:00\n",
       "1  2021-10-17 20:30"
      ]
     },
     "execution_count": 3,
     "metadata": {},
     "output_type": "execute_result"
    }
   ],
   "source": [
    "timestamps"
   ]
  },
  {
   "cell_type": "code",
   "execution_count": 4,
   "id": "alternate-victory",
   "metadata": {
    "execution": {
     "iopub.execute_input": "2021-10-17T19:00:09.026722Z",
     "iopub.status.busy": "2021-10-17T19:00:09.024410Z",
     "iopub.status.idle": "2021-10-17T19:00:09.855386Z",
     "shell.execute_reply": "2021-10-17T19:00:09.853854Z"
    },
    "papermill": {
     "duration": 0.859682,
     "end_time": "2021-10-17T19:00:09.855763",
     "exception": false,
     "start_time": "2021-10-17T19:00:08.996081",
     "status": "completed"
    },
    "tags": []
   },
   "outputs": [],
   "source": [
    "df = pd.read_sql(\"select * from EBAY_TOP_BERLIN where record_time in (select distinct record_time from EBAY_TOP_BERLIN order by record_time desc limit 2)\", sqlite3.connect(\"UsedObjects.db\"))"
   ]
  },
  {
   "cell_type": "code",
   "execution_count": 5,
   "id": "popular-active",
   "metadata": {
    "execution": {
     "iopub.execute_input": "2021-10-17T19:00:09.925688Z",
     "iopub.status.busy": "2021-10-17T19:00:09.914164Z",
     "iopub.status.idle": "2021-10-17T19:00:09.941574Z",
     "shell.execute_reply": "2021-10-17T19:00:09.942896Z"
    },
    "papermill": {
     "duration": 0.066827,
     "end_time": "2021-10-17T19:00:09.943302",
     "exception": false,
     "start_time": "2021-10-17T19:00:09.876475",
     "status": "completed"
    },
    "tags": []
   },
   "outputs": [],
   "source": [
    "df_pivot = df.pivot_table(index=\"PRODUCT\", columns = \"RECORD_TIME\", values = \"LISTING_COUNT\")"
   ]
  },
  {
   "cell_type": "code",
   "execution_count": 6,
   "id": "union-huntington",
   "metadata": {
    "execution": {
     "iopub.execute_input": "2021-10-17T19:00:09.999370Z",
     "iopub.status.busy": "2021-10-17T19:00:09.997138Z",
     "iopub.status.idle": "2021-10-17T19:00:10.002624Z",
     "shell.execute_reply": "2021-10-17T19:00:10.004020Z"
    },
    "papermill": {
     "duration": 0.041215,
     "end_time": "2021-10-17T19:00:10.004466",
     "exception": false,
     "start_time": "2021-10-17T19:00:09.963251",
     "status": "completed"
    },
    "tags": []
   },
   "outputs": [],
   "source": [
    "df_pivot.columns = [\"stamp_1\", \"stamp_2\"]\n",
    "df_pivot_diff = df_pivot.diff(axis=1)"
   ]
  },
  {
   "cell_type": "code",
   "execution_count": 7,
   "id": "fifth-motion",
   "metadata": {
    "execution": {
     "iopub.execute_input": "2021-10-17T19:00:10.062404Z",
     "iopub.status.busy": "2021-10-17T19:00:10.059633Z",
     "iopub.status.idle": "2021-10-17T19:00:11.557138Z",
     "shell.execute_reply": "2021-10-17T19:00:11.558463Z"
    },
    "papermill": {
     "duration": 1.531439,
     "end_time": "2021-10-17T19:00:11.558919",
     "exception": false,
     "start_time": "2021-10-17T19:00:10.027480",
     "status": "completed"
    },
    "tags": []
   },
   "outputs": [
    {
     "data": {
      "text/plain": [
       "<AxesSubplot:ylabel='PRODUCT'>"
      ]
     },
     "execution_count": 7,
     "metadata": {},
     "output_type": "execute_result"
    },
    {
     "data": {
      "image/png": "[encoded data removed]",
      "text/plain": [
       "<Figure size 432x288 with 1 Axes>"
      ]
     },
     "metadata": {
      "needs_background": "light"
     },
     "output_type": "display_data"
    }
   ],
   "source": [
    "df_pivot_diff.sort_values(\"stamp_2\", ascending = False)[\"stamp_2\"].head(10).plot.barh()"
   ]
  },
  {
   "cell_type": "code",
   "execution_count": null,
   "id": "extra-executive",
   "metadata": {
    "papermill": {
     "duration": 0.022504,
     "end_time": "2021-10-17T19:00:11.606186",
     "exception": false,
     "start_time": "2021-10-17T19:00:11.583682",
     "status": "completed"
    },
    "tags": []
   },
   "outputs": [],
   "source": []
  }
 ],
 "metadata": {
  "kernelspec": {
   "display_name": "Python 3",
   "language": "python",
   "name": "python3"
  },
  "language_info": {
   "codemirror_mode": {
    "name": "ipython",
    "version": 3
   },
   "file_extension": ".py",
   "mimetype": "text/x-python",
   "name": "python",
   "nbconvert_exporter": "python",
   "pygments_lexer": "ipython3",
   "version": "3.9.5"
  },
  "papermill": {
   "default_parameters": {},
   "duration": 7.820925,
   "end_time": "2021-10-17T19:00:12.822152",
   "environment_variables": {},
   "exception": null,
   "input_path": "eBay_Overview.ipynb",
   "output_path": "eBay_Overview.ipynb",
   "parameters": {},
   "start_time": "2021-10-17T19:00:05.001227",
   "version": "2.3.3"
  }
 },
 "nbformat": 4,
 "nbformat_minor": 5
}