{
 "cells": [
  {
   "cell_type": "code",
   "execution_count": 1,
   "id": "reverse-picking",
   "metadata": {
    "execution": {
     "iopub.execute_input": "2021-11-20T16:00:07.475104Z",
     "iopub.status.busy": "2021-11-20T16:00:07.472745Z",
     "iopub.status.idle": "2021-11-20T16:00:08.419390Z",
     "shell.execute_reply": "2021-11-20T16:00:08.420963Z"
    },
    "papermill": {
     "duration": 0.997891,
     "end_time": "2021-11-20T16:00:08.421710",
     "exception": false,
     "start_time": "2021-11-20T16:00:07.423819",
     "status": "completed"
    },
    "tags": []
   },
   "outputs": [],
   "source": [
    "import pandas as pd\n",
    "import sqlite3"
   ]
  },
  {
   "cell_type": "code",
   "execution_count": 2,
   "id": "innovative-syndrome",
   "metadata": {
    "execution": {
     "iopub.execute_input": "2021-11-20T16:00:08.484203Z",
     "iopub.status.busy": "2021-11-20T16:00:08.481815Z",
     "iopub.status.idle": "2021-11-20T16:00:09.353343Z",
     "shell.execute_reply": "2021-11-20T16:00:09.354792Z"
    },
    "papermill": {
     "duration": 0.906521,
     "end_time": "2021-11-20T16:00:09.355294",
     "exception": false,
     "start_time": "2021-11-20T16:00:08.448773",
     "status": "completed"
    },
    "tags": []
   },
   "outputs": [],
   "source": [
    "timestamps = pd.read_sql(\"select distinct record_time from EBAY_TOP_BERLIN order by record_time desc limit 2\", sqlite3.connect(\"UsedObjects.db\"))"
   ]
  },
  {
   "cell_type": "code",
   "execution_count": 3,
   "id": "periodic-identification",
   "metadata": {
    "execution": {
     "iopub.execute_input": "2021-11-20T16:00:09.429869Z",
     "iopub.status.busy": "2021-11-20T16:00:09.427410Z",
     "iopub.status.idle": "2021-11-20T16:00:09.451477Z",
     "shell.execute_reply": "2021-11-20T16:00:09.452966Z"
    },
    "papermill": {
     "duration": 0.076616,
     "end_time": "2021-11-20T16:00:09.453462",
     "exception": false,
     "start_time": "2021-11-20T16:00:09.376846",
     "status": "completed"
    },
    "tags": []
   },
   "outputs": [
    {
     "data": {
      "text/html": [
       "<div>\n",
       "<style scoped>\n",
       "    .dataframe tbody tr th:only-of-type {\n",
       "        vertical-align: middle;\n",
       "    }\n",
       "\n",
       "    .dataframe tbody tr th {\n",
       "        vertical-align: top;\n",
       "    }\n",
       "\n",
       "    .dataframe thead th {\n",
       "        text-align: right;\n",
       "    }\n",
       "</style>\n",
       "<table border=\"1\" class=\"dataframe\">\n",
       "  <thead>\n",
       "    <tr style=\"text-align: right;\">\n",
       "      <th></th>\n",
       "      <th>RECORD_TIME</th>\n",
       "    </tr>\n",
       "  </thead>\n",
       "  <tbody>\n",
       "    <tr>\n",
       "      <th>0</th>\n",
       "      <td>2021-11-20 17:00</td>\n",
       "    </tr>\n",
       "    <tr>\n",
       "      <th>1</th>\n",
       "      <td>2021-11-20 16:30</td>\n",
       "    </tr>\n",
       "  </tbody>\n",
       "</table>\n",
       "</div>"
      ],
      "text/plain": [
       "        RECORD_TIME\n",
       "0  2021-11-20 17:00\n",
       "1  2021-11-20 16:30"
      ]
     },
     "execution_count": 3,
     "metadata": {},
     "output_type": "execute_result"
    }
   ],
   "source": [
    "timestamps"
   ]
  },
  {
   "cell_type": "code",
   "execution_count": 4,
   "id": "alternate-victory",
   "metadata": {
    "execution": {
     "iopub.execute_input": "2021-11-20T16:00:09.509104Z",
     "iopub.status.busy": "2021-11-20T16:00:09.506845Z",
     "iopub.status.idle": "2021-11-20T16:00:10.807473Z",
     "shell.execute_reply": "2021-11-20T16:00:10.811046Z"
    },
    "papermill": {
     "duration": 1.336589,
     "end_time": "2021-11-20T16:00:10.811681",
     "exception": false,
     "start_time": "2021-11-20T16:00:09.475092",
     "status": "completed"
    },
    "tags": []
   },
   "outputs": [],
   "source": [
    "df = pd.read_sql(\"select * from EBAY_TOP_BERLIN where record_time in (select distinct record_time from EBAY_TOP_BERLIN order by record_time desc limit 2)\", sqlite3.connect(\"UsedObjects.db\"))"
   ]
  },
  {
   "cell_type": "code",
   "execution_count": 5,
   "id": "popular-active",
   "metadata": {
    "execution": {
     "iopub.execute_input": "2021-11-20T16:00:10.892112Z",
     "iopub.status.busy": "2021-11-20T16:00:10.877886Z",
     "iopub.status.idle": "2021-11-20T16:00:10.912230Z",
     "shell.execute_reply": "2021-11-20T16:00:10.913542Z"
    },
    "papermill": {
     "duration": 0.078893,
     "end_time": "2021-11-20T16:00:10.913997",
     "exception": false,
     "start_time": "2021-11-20T16:00:10.835104",
     "status": "completed"
    },
    "tags": []
   },
   "outputs": [],
   "source": [
    "df_pivot = df.pivot_table(index=\"PRODUCT\", columns = \"RECORD_TIME\", values = \"LISTING_COUNT\")"
   ]
  },
  {
   "cell_type": "code",
   "execution_count": 6,
   "id": "union-huntington",
   "metadata": {
    "execution": {
     "iopub.execute_input": "2021-11-20T16:00:10.973350Z",
     "iopub.status.busy": "2021-11-20T16:00:10.971236Z",
     "iopub.status.idle": "2021-11-20T16:00:10.976667Z",
     "shell.execute_reply": "2021-11-20T16:00:10.978028Z"
    },
    "papermill": {
     "duration": 0.043293,
     "end_time": "2021-11-20T16:00:10.978461",
     "exception": false,
     "start_time": "2021-11-20T16:00:10.935168",
     "status": "completed"
    },
    "tags": []
   },
   "outputs": [],
   "source": [
    "df_pivot.columns = [\"stamp_1\", \"stamp_2\"]\n",
    "df_pivot_diff = df_pivot.diff(axis=1)"
   ]
  },
  {
   "cell_type": "code",
   "execution_count": 7,
   "id": "fifth-motion",
   "metadata": {
    "execution": {
     "iopub.execute_input": "2021-11-20T16:00:11.038913Z",
     "iopub.status.busy": "2021-11-20T16:00:11.036360Z",
     "iopub.status.idle": "2021-11-20T16:00:12.987336Z",
     "shell.execute_reply": "2021-11-20T16:00:12.988664Z"
    },
    "papermill": {
     "duration": 1.989538,
     "end_time": "2021-11-20T16:00:12.989199",
     "exception": false,
     "start_time": "2021-11-20T16:00:10.999661",
     "status": "completed"
    },
    "tags": []
   },
   "outputs": [
    {
     "data": {
      "text/plain": [
       "<AxesSubplot:ylabel='PRODUCT'>"
      ]
     },
     "execution_count": 7,
     "metadata": {},
     "output_type": "execute_result"
    },
    {
     "data": {
      "image/png": "[encoded data removed]",
      "text/plain": [
       "<Figure size 432x288 with 1 Axes>"
      ]
     },
     "metadata": {
      "needs_background": "light"
     },
     "output_type": "display_data"
    }
   ],
   "source": [
    "df_pivot_diff.sort_values(\"stamp_2\", ascending = False)[\"stamp_2\"].head(10).plot.barh()"
   ]
  },
  {
   "cell_type": "code",
   "execution_count": null,
   "id": "extra-executive",
   "metadata": {
    "papermill": {
     "duration": 0.023411,
     "end_time": "2021-11-20T16:00:13.036380",
     "exception": false,
     "start_time": "2021-11-20T16:00:13.012969",
     "status": "completed"
    },
    "tags": []
   },
   "outputs": [],
   "source": []
  }
 ],
 "metadata": {
  "kernelspec": {
   "display_name": "Python 3",
   "language": "python",
   "name": "python3"
  },
  "language_info": {
   "codemirror_mode": {
    "name": "ipython",
    "version": 3
   },
   "file_extension": ".py",
   "mimetype": "text/x-python",
   "name": "python",
   "nbconvert_exporter": "python",
   "pygments_lexer": "ipython3",
   "version": "3.9.5"
  },
  "papermill": {
   "default_parameters": {},
   "duration": 9.928508,
   "end_time": "2021-11-20T16:00:14.623321",
   "environment_variables": {},
   "exception": null,
   "input_path": "eBay_Overview.ipynb",
   "output_path": "eBay_Overview.ipynb",
   "parameters": {},
   "start_time": "2021-11-20T16:00:04.694813",
   "version": "2.3.3"
  }
 },
 "nbformat": 4,
 "nbformat_minor": 5
}