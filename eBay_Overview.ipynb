{
 "cells": [
  {
   "cell_type": "code",
   "execution_count": 1,
   "id": "reverse-picking",
   "metadata": {
    "execution": {
     "iopub.execute_input": "2021-08-26T11:00:07.331252Z",
     "iopub.status.busy": "2021-08-26T11:00:07.329296Z",
     "iopub.status.idle": "2021-08-26T11:00:08.133384Z",
     "shell.execute_reply": "2021-08-26T11:00:08.134659Z"
    },
    "papermill": {
     "duration": 0.854412,
     "end_time": "2021-08-26T11:00:08.135270",
     "exception": false,
     "start_time": "2021-08-26T11:00:07.280858",
     "status": "completed"
    },
    "tags": []
   },
   "outputs": [],
   "source": [
    "import pandas as pd\n",
    "import sqlite3"
   ]
  },
  {
   "cell_type": "code",
   "execution_count": 2,
   "id": "innovative-syndrome",
   "metadata": {
    "execution": {
     "iopub.execute_input": "2021-08-26T11:00:08.185431Z",
     "iopub.status.busy": "2021-08-26T11:00:08.183433Z",
     "iopub.status.idle": "2021-08-26T11:00:08.317907Z",
     "shell.execute_reply": "2021-08-26T11:00:08.319068Z"
    },
    "papermill": {
     "duration": 0.163689,
     "end_time": "2021-08-26T11:00:08.319494",
     "exception": false,
     "start_time": "2021-08-26T11:00:08.155805",
     "status": "completed"
    },
    "tags": []
   },
   "outputs": [],
   "source": [
    "timestamps = pd.read_sql(\"select distinct record_time from EBAY_TOP_BERLIN order by record_time desc limit 2\", sqlite3.connect(\"UsedObjects.db\"))"
   ]
  },
  {
   "cell_type": "code",
   "execution_count": 3,
   "id": "periodic-identification",
   "metadata": {
    "execution": {
     "iopub.execute_input": "2021-08-26T11:00:08.385922Z",
     "iopub.status.busy": "2021-08-26T11:00:08.383835Z",
     "iopub.status.idle": "2021-08-26T11:00:08.403797Z",
     "shell.execute_reply": "2021-08-26T11:00:08.405148Z"
    },
    "papermill": {
     "duration": 0.066721,
     "end_time": "2021-08-26T11:00:08.405567",
     "exception": false,
     "start_time": "2021-08-26T11:00:08.338846",
     "status": "completed"
    },
    "tags": []
   },
   "outputs": [
    {
     "data": {
      "text/html": [
       "<div>\n",
       "<style scoped>\n",
       "    .dataframe tbody tr th:only-of-type {\n",
       "        vertical-align: middle;\n",
       "    }\n",
       "\n",
       "    .dataframe tbody tr th {\n",
       "        vertical-align: top;\n",
       "    }\n",
       "\n",
       "    .dataframe thead th {\n",
       "        text-align: right;\n",
       "    }\n",
       "</style>\n",
       "<table border=\"1\" class=\"dataframe\">\n",
       "  <thead>\n",
       "    <tr style=\"text-align: right;\">\n",
       "      <th></th>\n",
       "      <th>RECORD_TIME</th>\n",
       "    </tr>\n",
       "  </thead>\n",
       "  <tbody>\n",
       "    <tr>\n",
       "      <th>0</th>\n",
       "      <td>2021-08-26 13:00</td>\n",
       "    </tr>\n",
       "    <tr>\n",
       "      <th>1</th>\n",
       "      <td>2021-08-26 12:30</td>\n",
       "    </tr>\n",
       "  </tbody>\n",
       "</table>\n",
       "</div>"
      ],
      "text/plain": [
       "        RECORD_TIME\n",
       "0  2021-08-26 13:00\n",
       "1  2021-08-26 12:30"
      ]
     },
     "execution_count": 3,
     "metadata": {},
     "output_type": "execute_result"
    }
   ],
   "source": [
    "timestamps"
   ]
  },
  {
   "cell_type": "code",
   "execution_count": 4,
   "id": "alternate-victory",
   "metadata": {
    "execution": {
     "iopub.execute_input": "2021-08-26T11:00:08.457012Z",
     "iopub.status.busy": "2021-08-26T11:00:08.454925Z",
     "iopub.status.idle": "2021-08-26T11:00:08.651581Z",
     "shell.execute_reply": "2021-08-26T11:00:08.653068Z"
    },
    "papermill": {
     "duration": 0.22685,
     "end_time": "2021-08-26T11:00:08.653528",
     "exception": false,
     "start_time": "2021-08-26T11:00:08.426678",
     "status": "completed"
    },
    "tags": []
   },
   "outputs": [],
   "source": [
    "df = pd.read_sql(\"select * from EBAY_TOP_BERLIN where record_time in (select distinct record_time from EBAY_TOP_BERLIN order by record_time desc limit 2)\", sqlite3.connect(\"UsedObjects.db\"))"
   ]
  },
  {
   "cell_type": "code",
   "execution_count": 5,
   "id": "popular-active",
   "metadata": {
    "execution": {
     "iopub.execute_input": "2021-08-26T11:00:08.721652Z",
     "iopub.status.busy": "2021-08-26T11:00:08.711813Z",
     "iopub.status.idle": "2021-08-26T11:00:08.738084Z",
     "shell.execute_reply": "2021-08-26T11:00:08.739288Z"
    },
    "papermill": {
     "duration": 0.066241,
     "end_time": "2021-08-26T11:00:08.739689",
     "exception": false,
     "start_time": "2021-08-26T11:00:08.673448",
     "status": "completed"
    },
    "tags": []
   },
   "outputs": [],
   "source": [
    "df_pivot = df.pivot_table(index=\"PRODUCT\", columns = \"RECORD_TIME\", values = \"LISTING_COUNT\")"
   ]
  },
  {
   "cell_type": "code",
   "execution_count": 6,
   "id": "union-huntington",
   "metadata": {
    "execution": {
     "iopub.execute_input": "2021-08-26T11:00:08.806521Z",
     "iopub.status.busy": "2021-08-26T11:00:08.804085Z",
     "iopub.status.idle": "2021-08-26T11:00:08.809705Z",
     "shell.execute_reply": "2021-08-26T11:00:08.811046Z"
    },
    "papermill": {
     "duration": 0.043936,
     "end_time": "2021-08-26T11:00:08.811484",
     "exception": false,
     "start_time": "2021-08-26T11:00:08.767548",
     "status": "completed"
    },
    "tags": []
   },
   "outputs": [],
   "source": [
    "df_pivot.columns = [\"stamp_1\", \"stamp_2\"]\n",
    "df_pivot_diff = df_pivot.diff(axis=1)"
   ]
  },
  {
   "cell_type": "code",
   "execution_count": 7,
   "id": "fifth-motion",
   "metadata": {
    "execution": {
     "iopub.execute_input": "2021-08-26T11:00:08.867113Z",
     "iopub.status.busy": "2021-08-26T11:00:08.864482Z",
     "iopub.status.idle": "2021-08-26T11:00:10.363001Z",
     "shell.execute_reply": "2021-08-26T11:00:10.364549Z"
    },
    "papermill": {
     "duration": 1.532335,
     "end_time": "2021-08-26T11:00:10.365071",
     "exception": false,
     "start_time": "2021-08-26T11:00:08.832736",
     "status": "completed"
    },
    "tags": []
   },
   "outputs": [
    {
     "data": {
      "text/plain": [
       "<AxesSubplot:ylabel='PRODUCT'>"
      ]
     },
     "execution_count": 7,
     "metadata": {},
     "output_type": "execute_result"
    },
    {
     "data": {
      "image/png": "[encoded data removed]",
      "text/plain": [
       "<Figure size 432x288 with 1 Axes>"
      ]
     },
     "metadata": {
      "needs_background": "light"
     },
     "output_type": "display_data"
    }
   ],
   "source": [
    "df_pivot_diff.sort_values(\"stamp_2\", ascending = False)[\"stamp_2\"].head(10).plot.barh()"
   ]
  },
  {
   "cell_type": "code",
   "execution_count": null,
   "id": "extra-executive",
   "metadata": {
    "papermill": {
     "duration": 0.022241,
     "end_time": "2021-08-26T11:00:10.411986",
     "exception": false,
     "start_time": "2021-08-26T11:00:10.389745",
     "status": "completed"
    },
    "tags": []
   },
   "outputs": [],
   "source": []
  }
 ],
 "metadata": {
  "kernelspec": {
   "display_name": "Python 3",
   "language": "python",
   "name": "python3"
  },
  "language_info": {
   "codemirror_mode": {
    "name": "ipython",
    "version": 3
   },
   "file_extension": ".py",
   "mimetype": "text/x-python",
   "name": "python",
   "nbconvert_exporter": "python",
   "pygments_lexer": "ipython3",
   "version": "3.9.5"
  },
  "papermill": {
   "default_parameters": {},
   "duration": 6.819124,
   "end_time": "2021-08-26T11:00:11.698864",
   "environment_variables": {},
   "exception": null,
   "input_path": "eBay_Overview.ipynb",
   "output_path": "eBay_Overview.ipynb",
   "parameters": {},
   "start_time": "2021-08-26T11:00:04.879740",
   "version": "2.3.3"
  }
 },
 "nbformat": 4,
 "nbformat_minor": 5
}