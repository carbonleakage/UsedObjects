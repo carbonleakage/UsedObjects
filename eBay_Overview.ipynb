{
 "cells": [
  {
   "cell_type": "code",
   "execution_count": 1,
   "id": "reverse-picking",
   "metadata": {
    "execution": {
     "iopub.execute_input": "2021-12-22T00:30:07.732782Z",
     "iopub.status.busy": "2021-12-22T00:30:07.730464Z",
     "iopub.status.idle": "2021-12-22T00:30:08.684513Z",
     "shell.execute_reply": "2021-12-22T00:30:08.686258Z"
    },
    "papermill": {
     "duration": 1.004107,
     "end_time": "2021-12-22T00:30:08.687073",
     "exception": false,
     "start_time": "2021-12-22T00:30:07.682966",
     "status": "completed"
    },
    "tags": []
   },
   "outputs": [],
   "source": [
    "import pandas as pd\n",
    "import sqlite3"
   ]
  },
  {
   "cell_type": "code",
   "execution_count": 2,
   "id": "innovative-syndrome",
   "metadata": {
    "execution": {
     "iopub.execute_input": "2021-12-22T00:30:08.756385Z",
     "iopub.status.busy": "2021-12-22T00:30:08.754087Z",
     "iopub.status.idle": "2021-12-22T00:30:09.906952Z",
     "shell.execute_reply": "2021-12-22T00:30:09.908263Z"
    },
    "papermill": {
     "duration": 1.187076,
     "end_time": "2021-12-22T00:30:09.908745",
     "exception": false,
     "start_time": "2021-12-22T00:30:08.721669",
     "status": "completed"
    },
    "tags": []
   },
   "outputs": [],
   "source": [
    "timestamps = pd.read_sql(\"select distinct record_time from EBAY_TOP_BERLIN order by record_time desc limit 2\", sqlite3.connect(\"UsedObjects.db\"))"
   ]
  },
  {
   "cell_type": "code",
   "execution_count": 3,
   "id": "periodic-identification",
   "metadata": {
    "execution": {
     "iopub.execute_input": "2021-12-22T00:30:09.979729Z",
     "iopub.status.busy": "2021-12-22T00:30:09.977366Z",
     "iopub.status.idle": "2021-12-22T00:30:09.999015Z",
     "shell.execute_reply": "2021-12-22T00:30:10.000457Z"
    },
    "papermill": {
     "duration": 0.071387,
     "end_time": "2021-12-22T00:30:10.001028",
     "exception": false,
     "start_time": "2021-12-22T00:30:09.929641",
     "status": "completed"
    },
    "tags": []
   },
   "outputs": [
    {
     "data": {
      "text/html": [
       "<div>\n",
       "<style scoped>\n",
       "    .dataframe tbody tr th:only-of-type {\n",
       "        vertical-align: middle;\n",
       "    }\n",
       "\n",
       "    .dataframe tbody tr th {\n",
       "        vertical-align: top;\n",
       "    }\n",
       "\n",
       "    .dataframe thead th {\n",
       "        text-align: right;\n",
       "    }\n",
       "</style>\n",
       "<table border=\"1\" class=\"dataframe\">\n",
       "  <thead>\n",
       "    <tr style=\"text-align: right;\">\n",
       "      <th></th>\n",
       "      <th>RECORD_TIME</th>\n",
       "    </tr>\n",
       "  </thead>\n",
       "  <tbody>\n",
       "    <tr>\n",
       "      <th>0</th>\n",
       "      <td>2021-12-22 01:30</td>\n",
       "    </tr>\n",
       "    <tr>\n",
       "      <th>1</th>\n",
       "      <td>2021-12-22 01:00</td>\n",
       "    </tr>\n",
       "  </tbody>\n",
       "</table>\n",
       "</div>"
      ],
      "text/plain": [
       "        RECORD_TIME\n",
       "0  2021-12-22 01:30\n",
       "1  2021-12-22 01:00"
      ]
     },
     "execution_count": 3,
     "metadata": {},
     "output_type": "execute_result"
    }
   ],
   "source": [
    "timestamps"
   ]
  },
  {
   "cell_type": "code",
   "execution_count": 4,
   "id": "alternate-victory",
   "metadata": {
    "execution": {
     "iopub.execute_input": "2021-12-22T00:30:10.056328Z",
     "iopub.status.busy": "2021-12-22T00:30:10.053986Z",
     "iopub.status.idle": "2021-12-22T00:30:11.753838Z",
     "shell.execute_reply": "2021-12-22T00:30:11.755345Z"
    },
    "papermill": {
     "duration": 1.733592,
     "end_time": "2021-12-22T00:30:11.755861",
     "exception": false,
     "start_time": "2021-12-22T00:30:10.022269",
     "status": "completed"
    },
    "tags": []
   },
   "outputs": [],
   "source": [
    "df = pd.read_sql(\"select * from EBAY_TOP_BERLIN where record_time in (select distinct record_time from EBAY_TOP_BERLIN order by record_time desc limit 2)\", sqlite3.connect(\"UsedObjects.db\"))"
   ]
  },
  {
   "cell_type": "code",
   "execution_count": 5,
   "id": "popular-active",
   "metadata": {
    "execution": {
     "iopub.execute_input": "2021-12-22T00:30:11.819539Z",
     "iopub.status.busy": "2021-12-22T00:30:11.817130Z",
     "iopub.status.idle": "2021-12-22T00:30:11.849946Z",
     "shell.execute_reply": "2021-12-22T00:30:11.851613Z"
    },
    "papermill": {
     "duration": 0.075614,
     "end_time": "2021-12-22T00:30:11.852126",
     "exception": false,
     "start_time": "2021-12-22T00:30:11.776512",
     "status": "completed"
    },
    "tags": []
   },
   "outputs": [],
   "source": [
    "df_pivot = df.pivot_table(index=\"PRODUCT\", columns = \"RECORD_TIME\", values = \"LISTING_COUNT\")"
   ]
  },
  {
   "cell_type": "code",
   "execution_count": 6,
   "id": "union-huntington",
   "metadata": {
    "execution": {
     "iopub.execute_input": "2021-12-22T00:30:11.915334Z",
     "iopub.status.busy": "2021-12-22T00:30:11.913123Z",
     "iopub.status.idle": "2021-12-22T00:30:11.918151Z",
     "shell.execute_reply": "2021-12-22T00:30:11.919497Z"
    },
    "papermill": {
     "duration": 0.044896,
     "end_time": "2021-12-22T00:30:11.919982",
     "exception": false,
     "start_time": "2021-12-22T00:30:11.875086",
     "status": "completed"
    },
    "tags": []
   },
   "outputs": [],
   "source": [
    "df_pivot.columns = [\"stamp_1\", \"stamp_2\"]\n",
    "df_pivot_diff = df_pivot.diff(axis=1)"
   ]
  },
  {
   "cell_type": "code",
   "execution_count": 7,
   "id": "fifth-motion",
   "metadata": {
    "execution": {
     "iopub.execute_input": "2021-12-22T00:30:11.977237Z",
     "iopub.status.busy": "2021-12-22T00:30:11.974685Z",
     "iopub.status.idle": "2021-12-22T00:30:13.989651Z",
     "shell.execute_reply": "2021-12-22T00:30:13.991225Z"
    },
    "papermill": {
     "duration": 2.051072,
     "end_time": "2021-12-22T00:30:13.991865",
     "exception": false,
     "start_time": "2021-12-22T00:30:11.940793",
     "status": "completed"
    },
    "tags": []
   },
   "outputs": [
    {
     "data": {
      "text/plain": [
       "<AxesSubplot:ylabel='PRODUCT'>"
      ]
     },
     "execution_count": 7,
     "metadata": {},
     "output_type": "execute_result"
    },
    {
     "data": {
      "image/png": "[encoded data removed]",
      "text/plain": [
       "<Figure size 432x288 with 1 Axes>"
      ]
     },
     "metadata": {
      "needs_background": "light"
     },
     "output_type": "display_data"
    }
   ],
   "source": [
    "df_pivot_diff.sort_values(\"stamp_2\", ascending = False)[\"stamp_2\"].head(10).plot.barh()"
   ]
  },
  {
   "cell_type": "code",
   "execution_count": null,
   "id": "extra-executive",
   "metadata": {
    "papermill": {
     "duration": 0.022214,
     "end_time": "2021-12-22T00:30:14.039533",
     "exception": false,
     "start_time": "2021-12-22T00:30:14.017319",
     "status": "completed"
    },
    "tags": []
   },
   "outputs": [],
   "source": []
  }
 ],
 "metadata": {
  "kernelspec": {
   "display_name": "Python 3",
   "language": "python",
   "name": "python3"
  },
  "language_info": {
   "codemirror_mode": {
    "name": "ipython",
    "version": 3
   },
   "file_extension": ".py",
   "mimetype": "text/x-python",
   "name": "python",
   "nbconvert_exporter": "python",
   "pygments_lexer": "ipython3",
   "version": "3.9.5"
  },
  "papermill": {
   "default_parameters": {},
   "duration": 9.737673,
   "end_time": "2021-12-22T00:30:14.681404",
   "environment_variables": {},
   "exception": null,
   "input_path": "eBay_Overview.ipynb",
   "output_path": "eBay_Overview.ipynb",
   "parameters": {},
   "start_time": "2021-12-22T00:30:04.943731",
   "version": "2.3.3"
  }
 },
 "nbformat": 4,
 "nbformat_minor": 5
}