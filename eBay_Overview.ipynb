{
 "cells": [
  {
   "cell_type": "code",
   "execution_count": 1,
   "id": "reverse-picking",
   "metadata": {
    "execution": {
     "iopub.execute_input": "2021-09-13T05:00:07.319071Z",
     "iopub.status.busy": "2021-09-13T05:00:07.317094Z",
     "iopub.status.idle": "2021-09-13T05:00:08.119617Z",
     "shell.execute_reply": "2021-09-13T05:00:08.121046Z"
    },
    "papermill": {
     "duration": 0.854887,
     "end_time": "2021-09-13T05:00:08.121712",
     "exception": false,
     "start_time": "2021-09-13T05:00:07.266825",
     "status": "completed"
    },
    "tags": []
   },
   "outputs": [],
   "source": [
    "import pandas as pd\n",
    "import sqlite3"
   ]
  },
  {
   "cell_type": "code",
   "execution_count": 2,
   "id": "innovative-syndrome",
   "metadata": {
    "execution": {
     "iopub.execute_input": "2021-09-13T05:00:08.173304Z",
     "iopub.status.busy": "2021-09-13T05:00:08.170952Z",
     "iopub.status.idle": "2021-09-13T05:00:08.452735Z",
     "shell.execute_reply": "2021-09-13T05:00:08.453961Z"
    },
    "papermill": {
     "duration": 0.312055,
     "end_time": "2021-09-13T05:00:08.454358",
     "exception": false,
     "start_time": "2021-09-13T05:00:08.142303",
     "status": "completed"
    },
    "tags": []
   },
   "outputs": [],
   "source": [
    "timestamps = pd.read_sql(\"select distinct record_time from EBAY_TOP_BERLIN order by record_time desc limit 2\", sqlite3.connect(\"UsedObjects.db\"))"
   ]
  },
  {
   "cell_type": "code",
   "execution_count": 3,
   "id": "periodic-identification",
   "metadata": {
    "execution": {
     "iopub.execute_input": "2021-09-13T05:00:08.519289Z",
     "iopub.status.busy": "2021-09-13T05:00:08.517191Z",
     "iopub.status.idle": "2021-09-13T05:00:08.537194Z",
     "shell.execute_reply": "2021-09-13T05:00:08.538837Z"
    },
    "papermill": {
     "duration": 0.065613,
     "end_time": "2021-09-13T05:00:08.539395",
     "exception": false,
     "start_time": "2021-09-13T05:00:08.473782",
     "status": "completed"
    },
    "tags": []
   },
   "outputs": [
    {
     "data": {
      "text/html": [
       "<div>\n",
       "<style scoped>\n",
       "    .dataframe tbody tr th:only-of-type {\n",
       "        vertical-align: middle;\n",
       "    }\n",
       "\n",
       "    .dataframe tbody tr th {\n",
       "        vertical-align: top;\n",
       "    }\n",
       "\n",
       "    .dataframe thead th {\n",
       "        text-align: right;\n",
       "    }\n",
       "</style>\n",
       "<table border=\"1\" class=\"dataframe\">\n",
       "  <thead>\n",
       "    <tr style=\"text-align: right;\">\n",
       "      <th></th>\n",
       "      <th>RECORD_TIME</th>\n",
       "    </tr>\n",
       "  </thead>\n",
       "  <tbody>\n",
       "    <tr>\n",
       "      <th>0</th>\n",
       "      <td>2021-09-13 07:00</td>\n",
       "    </tr>\n",
       "    <tr>\n",
       "      <th>1</th>\n",
       "      <td>2021-09-13 06:30</td>\n",
       "    </tr>\n",
       "  </tbody>\n",
       "</table>\n",
       "</div>"
      ],
      "text/plain": [
       "        RECORD_TIME\n",
       "0  2021-09-13 07:00\n",
       "1  2021-09-13 06:30"
      ]
     },
     "execution_count": 3,
     "metadata": {},
     "output_type": "execute_result"
    }
   ],
   "source": [
    "timestamps"
   ]
  },
  {
   "cell_type": "code",
   "execution_count": 4,
   "id": "alternate-victory",
   "metadata": {
    "execution": {
     "iopub.execute_input": "2021-09-13T05:00:08.593091Z",
     "iopub.status.busy": "2021-09-13T05:00:08.591013Z",
     "iopub.status.idle": "2021-09-13T05:00:09.004991Z",
     "shell.execute_reply": "2021-09-13T05:00:09.006350Z"
    },
    "papermill": {
     "duration": 0.444687,
     "end_time": "2021-09-13T05:00:09.006788",
     "exception": false,
     "start_time": "2021-09-13T05:00:08.562101",
     "status": "completed"
    },
    "tags": []
   },
   "outputs": [],
   "source": [
    "df = pd.read_sql(\"select * from EBAY_TOP_BERLIN where record_time in (select distinct record_time from EBAY_TOP_BERLIN order by record_time desc limit 2)\", sqlite3.connect(\"UsedObjects.db\"))"
   ]
  },
  {
   "cell_type": "code",
   "execution_count": 5,
   "id": "popular-active",
   "metadata": {
    "execution": {
     "iopub.execute_input": "2021-09-13T05:00:09.077178Z",
     "iopub.status.busy": "2021-09-13T05:00:09.065219Z",
     "iopub.status.idle": "2021-09-13T05:00:09.094784Z",
     "shell.execute_reply": "2021-09-13T05:00:09.096697Z"
    },
    "papermill": {
     "duration": 0.068793,
     "end_time": "2021-09-13T05:00:09.097172",
     "exception": false,
     "start_time": "2021-09-13T05:00:09.028379",
     "status": "completed"
    },
    "tags": []
   },
   "outputs": [],
   "source": [
    "df_pivot = df.pivot_table(index=\"PRODUCT\", columns = \"RECORD_TIME\", values = \"LISTING_COUNT\")"
   ]
  },
  {
   "cell_type": "code",
   "execution_count": 6,
   "id": "union-huntington",
   "metadata": {
    "execution": {
     "iopub.execute_input": "2021-09-13T05:00:09.154585Z",
     "iopub.status.busy": "2021-09-13T05:00:09.152442Z",
     "iopub.status.idle": "2021-09-13T05:00:09.157620Z",
     "shell.execute_reply": "2021-09-13T05:00:09.158974Z"
    },
    "papermill": {
     "duration": 0.041025,
     "end_time": "2021-09-13T05:00:09.159403",
     "exception": false,
     "start_time": "2021-09-13T05:00:09.118378",
     "status": "completed"
    },
    "tags": []
   },
   "outputs": [],
   "source": [
    "df_pivot.columns = [\"stamp_1\", \"stamp_2\"]\n",
    "df_pivot_diff = df_pivot.diff(axis=1)"
   ]
  },
  {
   "cell_type": "code",
   "execution_count": 7,
   "id": "fifth-motion",
   "metadata": {
    "execution": {
     "iopub.execute_input": "2021-09-13T05:00:09.213764Z",
     "iopub.status.busy": "2021-09-13T05:00:09.211399Z",
     "iopub.status.idle": "2021-09-13T05:00:10.674366Z",
     "shell.execute_reply": "2021-09-13T05:00:10.675816Z"
    },
    "papermill": {
     "duration": 1.496293,
     "end_time": "2021-09-13T05:00:10.676292",
     "exception": false,
     "start_time": "2021-09-13T05:00:09.179999",
     "status": "completed"
    },
    "tags": []
   },
   "outputs": [
    {
     "data": {
      "text/plain": [
       "<AxesSubplot:ylabel='PRODUCT'>"
      ]
     },
     "execution_count": 7,
     "metadata": {},
     "output_type": "execute_result"
    },
    {
     "data": {
      "image/png": "[encoded data removed]",
      "text/plain": [
       "<Figure size 432x288 with 1 Axes>"
      ]
     },
     "metadata": {
      "needs_background": "light"
     },
     "output_type": "display_data"
    }
   ],
   "source": [
    "df_pivot_diff.sort_values(\"stamp_2\", ascending = False)[\"stamp_2\"].head(10).plot.barh()"
   ]
  },
  {
   "cell_type": "code",
   "execution_count": null,
   "id": "extra-executive",
   "metadata": {
    "papermill": {
     "duration": 0.022429,
     "end_time": "2021-09-13T05:00:10.723622",
     "exception": false,
     "start_time": "2021-09-13T05:00:10.701193",
     "status": "completed"
    },
    "tags": []
   },
   "outputs": [],
   "source": []
  }
 ],
 "metadata": {
  "kernelspec": {
   "display_name": "Python 3",
   "language": "python",
   "name": "python3"
  },
  "language_info": {
   "codemirror_mode": {
    "name": "ipython",
    "version": 3
   },
   "file_extension": ".py",
   "mimetype": "text/x-python",
   "name": "python",
   "nbconvert_exporter": "python",
   "pygments_lexer": "ipython3",
   "version": "3.9.5"
  },
  "papermill": {
   "default_parameters": {},
   "duration": 6.498323,
   "end_time": "2021-09-13T05:00:11.367001",
   "environment_variables": {},
   "exception": null,
   "input_path": "eBay_Overview.ipynb",
   "output_path": "eBay_Overview.ipynb",
   "parameters": {},
   "start_time": "2021-09-13T05:00:04.868678",
   "version": "2.3.3"
  }
 },
 "nbformat": 4,
 "nbformat_minor": 5
}