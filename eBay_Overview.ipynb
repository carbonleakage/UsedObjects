{
 "cells": [
  {
   "cell_type": "code",
   "execution_count": 1,
   "id": "reverse-picking",
   "metadata": {
    "execution": {
     "iopub.execute_input": "2021-11-18T02:00:07.873917Z",
     "iopub.status.busy": "2021-11-18T02:00:07.871643Z",
     "iopub.status.idle": "2021-11-18T02:00:08.827414Z",
     "shell.execute_reply": "2021-11-18T02:00:08.828940Z"
    },
    "papermill": {
     "duration": 1.005085,
     "end_time": "2021-11-18T02:00:08.829667",
     "exception": false,
     "start_time": "2021-11-18T02:00:07.824582",
     "status": "completed"
    },
    "tags": []
   },
   "outputs": [],
   "source": [
    "import pandas as pd\n",
    "import sqlite3"
   ]
  },
  {
   "cell_type": "code",
   "execution_count": 2,
   "id": "innovative-syndrome",
   "metadata": {
    "execution": {
     "iopub.execute_input": "2021-11-18T02:00:08.886306Z",
     "iopub.status.busy": "2021-11-18T02:00:08.884090Z",
     "iopub.status.idle": "2021-11-18T02:00:09.751526Z",
     "shell.execute_reply": "2021-11-18T02:00:09.753847Z"
    },
    "papermill": {
     "duration": 0.902201,
     "end_time": "2021-11-18T02:00:09.754340",
     "exception": false,
     "start_time": "2021-11-18T02:00:08.852139",
     "status": "completed"
    },
    "tags": []
   },
   "outputs": [],
   "source": [
    "timestamps = pd.read_sql(\"select distinct record_time from EBAY_TOP_BERLIN order by record_time desc limit 2\", sqlite3.connect(\"UsedObjects.db\"))"
   ]
  },
  {
   "cell_type": "code",
   "execution_count": 3,
   "id": "periodic-identification",
   "metadata": {
    "execution": {
     "iopub.execute_input": "2021-11-18T02:00:09.825905Z",
     "iopub.status.busy": "2021-11-18T02:00:09.823561Z",
     "iopub.status.idle": "2021-11-18T02:00:09.846517Z",
     "shell.execute_reply": "2021-11-18T02:00:09.848169Z"
    },
    "papermill": {
     "duration": 0.073768,
     "end_time": "2021-11-18T02:00:09.848644",
     "exception": false,
     "start_time": "2021-11-18T02:00:09.774876",
     "status": "completed"
    },
    "tags": []
   },
   "outputs": [
    {
     "data": {
      "text/html": [
       "<div>\n",
       "<style scoped>\n",
       "    .dataframe tbody tr th:only-of-type {\n",
       "        vertical-align: middle;\n",
       "    }\n",
       "\n",
       "    .dataframe tbody tr th {\n",
       "        vertical-align: top;\n",
       "    }\n",
       "\n",
       "    .dataframe thead th {\n",
       "        text-align: right;\n",
       "    }\n",
       "</style>\n",
       "<table border=\"1\" class=\"dataframe\">\n",
       "  <thead>\n",
       "    <tr style=\"text-align: right;\">\n",
       "      <th></th>\n",
       "      <th>RECORD_TIME</th>\n",
       "    </tr>\n",
       "  </thead>\n",
       "  <tbody>\n",
       "    <tr>\n",
       "      <th>0</th>\n",
       "      <td>2021-11-18 03:00</td>\n",
       "    </tr>\n",
       "    <tr>\n",
       "      <th>1</th>\n",
       "      <td>2021-11-18 02:30</td>\n",
       "    </tr>\n",
       "  </tbody>\n",
       "</table>\n",
       "</div>"
      ],
      "text/plain": [
       "        RECORD_TIME\n",
       "0  2021-11-18 03:00\n",
       "1  2021-11-18 02:30"
      ]
     },
     "execution_count": 3,
     "metadata": {},
     "output_type": "execute_result"
    }
   ],
   "source": [
    "timestamps"
   ]
  },
  {
   "cell_type": "code",
   "execution_count": 4,
   "id": "alternate-victory",
   "metadata": {
    "execution": {
     "iopub.execute_input": "2021-11-18T02:00:09.904985Z",
     "iopub.status.busy": "2021-11-18T02:00:09.902796Z",
     "iopub.status.idle": "2021-11-18T02:00:11.112646Z",
     "shell.execute_reply": "2021-11-18T02:00:11.113957Z"
    },
    "papermill": {
     "duration": 1.243019,
     "end_time": "2021-11-18T02:00:11.114356",
     "exception": false,
     "start_time": "2021-11-18T02:00:09.871337",
     "status": "completed"
    },
    "tags": []
   },
   "outputs": [],
   "source": [
    "df = pd.read_sql(\"select * from EBAY_TOP_BERLIN where record_time in (select distinct record_time from EBAY_TOP_BERLIN order by record_time desc limit 2)\", sqlite3.connect(\"UsedObjects.db\"))"
   ]
  },
  {
   "cell_type": "code",
   "execution_count": 5,
   "id": "popular-active",
   "metadata": {
    "execution": {
     "iopub.execute_input": "2021-11-18T02:00:11.179956Z",
     "iopub.status.busy": "2021-11-18T02:00:11.172240Z",
     "iopub.status.idle": "2021-11-18T02:00:11.200462Z",
     "shell.execute_reply": "2021-11-18T02:00:11.201742Z"
    },
    "papermill": {
     "duration": 0.067526,
     "end_time": "2021-11-18T02:00:11.202147",
     "exception": false,
     "start_time": "2021-11-18T02:00:11.134621",
     "status": "completed"
    },
    "tags": []
   },
   "outputs": [],
   "source": [
    "df_pivot = df.pivot_table(index=\"PRODUCT\", columns = \"RECORD_TIME\", values = \"LISTING_COUNT\")"
   ]
  },
  {
   "cell_type": "code",
   "execution_count": 6,
   "id": "union-huntington",
   "metadata": {
    "execution": {
     "iopub.execute_input": "2021-11-18T02:00:11.258098Z",
     "iopub.status.busy": "2021-11-18T02:00:11.256083Z",
     "iopub.status.idle": "2021-11-18T02:00:11.260969Z",
     "shell.execute_reply": "2021-11-18T02:00:11.262200Z"
    },
    "papermill": {
     "duration": 0.039591,
     "end_time": "2021-11-18T02:00:11.262600",
     "exception": false,
     "start_time": "2021-11-18T02:00:11.223009",
     "status": "completed"
    },
    "tags": []
   },
   "outputs": [],
   "source": [
    "df_pivot.columns = [\"stamp_1\", \"stamp_2\"]\n",
    "df_pivot_diff = df_pivot.diff(axis=1)"
   ]
  },
  {
   "cell_type": "code",
   "execution_count": 7,
   "id": "fifth-motion",
   "metadata": {
    "execution": {
     "iopub.execute_input": "2021-11-18T02:00:11.319106Z",
     "iopub.status.busy": "2021-11-18T02:00:11.316592Z",
     "iopub.status.idle": "2021-11-18T02:00:13.065635Z",
     "shell.execute_reply": "2021-11-18T02:00:13.067132Z"
    },
    "papermill": {
     "duration": 1.78458,
     "end_time": "2021-11-18T02:00:13.067596",
     "exception": false,
     "start_time": "2021-11-18T02:00:11.283016",
     "status": "completed"
    },
    "tags": []
   },
   "outputs": [
    {
     "data": {
      "text/plain": [
       "<AxesSubplot:ylabel='PRODUCT'>"
      ]
     },
     "execution_count": 7,
     "metadata": {},
     "output_type": "execute_result"
    },
    {
     "data": {
      "image/png": "[encoded data removed]",
      "text/plain": [
       "<Figure size 432x288 with 1 Axes>"
      ]
     },
     "metadata": {
      "needs_background": "light"
     },
     "output_type": "display_data"
    }
   ],
   "source": [
    "df_pivot_diff.sort_values(\"stamp_2\", ascending = False)[\"stamp_2\"].head(10).plot.barh()"
   ]
  },
  {
   "cell_type": "code",
   "execution_count": null,
   "id": "extra-executive",
   "metadata": {
    "papermill": {
     "duration": 0.024086,
     "end_time": "2021-11-18T02:00:13.115790",
     "exception": false,
     "start_time": "2021-11-18T02:00:13.091704",
     "status": "completed"
    },
    "tags": []
   },
   "outputs": [],
   "source": []
  }
 ],
 "metadata": {
  "kernelspec": {
   "display_name": "Python 3",
   "language": "python",
   "name": "python3"
  },
  "language_info": {
   "codemirror_mode": {
    "name": "ipython",
    "version": 3
   },
   "file_extension": ".py",
   "mimetype": "text/x-python",
   "name": "python",
   "nbconvert_exporter": "python",
   "pygments_lexer": "ipython3",
   "version": "3.9.5"
  },
  "papermill": {
   "default_parameters": {},
   "duration": 8.77609,
   "end_time": "2021-11-18T02:00:13.862398",
   "environment_variables": {},
   "exception": null,
   "input_path": "eBay_Overview.ipynb",
   "output_path": "eBay_Overview.ipynb",
   "parameters": {},
   "start_time": "2021-11-18T02:00:05.086308",
   "version": "2.3.3"
  }
 },
 "nbformat": 4,
 "nbformat_minor": 5
}