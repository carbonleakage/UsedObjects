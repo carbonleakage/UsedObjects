{
 "cells": [
  {
   "cell_type": "code",
   "execution_count": 1,
   "id": "reverse-picking",
   "metadata": {
    "execution": {
     "iopub.execute_input": "2021-10-14T16:30:07.108062Z",
     "iopub.status.busy": "2021-10-14T16:30:07.106109Z",
     "iopub.status.idle": "2021-10-14T16:30:07.916923Z",
     "shell.execute_reply": "2021-10-14T16:30:07.915280Z"
    },
    "papermill": {
     "duration": 0.86183,
     "end_time": "2021-10-14T16:30:07.917331",
     "exception": false,
     "start_time": "2021-10-14T16:30:07.055501",
     "status": "completed"
    },
    "tags": []
   },
   "outputs": [],
   "source": [
    "import pandas as pd\n",
    "import sqlite3"
   ]
  },
  {
   "cell_type": "code",
   "execution_count": 2,
   "id": "innovative-syndrome",
   "metadata": {
    "execution": {
     "iopub.execute_input": "2021-10-14T16:30:07.967970Z",
     "iopub.status.busy": "2021-10-14T16:30:07.966089Z",
     "iopub.status.idle": "2021-10-14T16:30:08.512986Z",
     "shell.execute_reply": "2021-10-14T16:30:08.514425Z"
    },
    "papermill": {
     "duration": 0.576678,
     "end_time": "2021-10-14T16:30:08.514862",
     "exception": false,
     "start_time": "2021-10-14T16:30:07.938184",
     "status": "completed"
    },
    "tags": []
   },
   "outputs": [],
   "source": [
    "timestamps = pd.read_sql(\"select distinct record_time from EBAY_TOP_BERLIN order by record_time desc limit 2\", sqlite3.connect(\"UsedObjects.db\"))"
   ]
  },
  {
   "cell_type": "code",
   "execution_count": 3,
   "id": "periodic-identification",
   "metadata": {
    "execution": {
     "iopub.execute_input": "2021-10-14T16:30:08.584945Z",
     "iopub.status.busy": "2021-10-14T16:30:08.582819Z",
     "iopub.status.idle": "2021-10-14T16:30:08.604764Z",
     "shell.execute_reply": "2021-10-14T16:30:08.606124Z"
    },
    "papermill": {
     "duration": 0.068801,
     "end_time": "2021-10-14T16:30:08.606549",
     "exception": false,
     "start_time": "2021-10-14T16:30:08.537748",
     "status": "completed"
    },
    "tags": []
   },
   "outputs": [
    {
     "data": {
      "text/html": [
       "<div>\n",
       "<style scoped>\n",
       "    .dataframe tbody tr th:only-of-type {\n",
       "        vertical-align: middle;\n",
       "    }\n",
       "\n",
       "    .dataframe tbody tr th {\n",
       "        vertical-align: top;\n",
       "    }\n",
       "\n",
       "    .dataframe thead th {\n",
       "        text-align: right;\n",
       "    }\n",
       "</style>\n",
       "<table border=\"1\" class=\"dataframe\">\n",
       "  <thead>\n",
       "    <tr style=\"text-align: right;\">\n",
       "      <th></th>\n",
       "      <th>RECORD_TIME</th>\n",
       "    </tr>\n",
       "  </thead>\n",
       "  <tbody>\n",
       "    <tr>\n",
       "      <th>0</th>\n",
       "      <td>2021-10-14 18:30</td>\n",
       "    </tr>\n",
       "    <tr>\n",
       "      <th>1</th>\n",
       "      <td>2021-10-14 18:00</td>\n",
       "    </tr>\n",
       "  </tbody>\n",
       "</table>\n",
       "</div>"
      ],
      "text/plain": [
       "        RECORD_TIME\n",
       "0  2021-10-14 18:30\n",
       "1  2021-10-14 18:00"
      ]
     },
     "execution_count": 3,
     "metadata": {},
     "output_type": "execute_result"
    }
   ],
   "source": [
    "timestamps"
   ]
  },
  {
   "cell_type": "code",
   "execution_count": 4,
   "id": "alternate-victory",
   "metadata": {
    "execution": {
     "iopub.execute_input": "2021-10-14T16:30:08.657166Z",
     "iopub.status.busy": "2021-10-14T16:30:08.655247Z",
     "iopub.status.idle": "2021-10-14T16:30:09.438303Z",
     "shell.execute_reply": "2021-10-14T16:30:09.439717Z"
    },
    "papermill": {
     "duration": 0.813274,
     "end_time": "2021-10-14T16:30:09.440164",
     "exception": false,
     "start_time": "2021-10-14T16:30:08.626890",
     "status": "completed"
    },
    "tags": []
   },
   "outputs": [],
   "source": [
    "df = pd.read_sql(\"select * from EBAY_TOP_BERLIN where record_time in (select distinct record_time from EBAY_TOP_BERLIN order by record_time desc limit 2)\", sqlite3.connect(\"UsedObjects.db\"))"
   ]
  },
  {
   "cell_type": "code",
   "execution_count": 5,
   "id": "popular-active",
   "metadata": {
    "execution": {
     "iopub.execute_input": "2021-10-14T16:30:09.506971Z",
     "iopub.status.busy": "2021-10-14T16:30:09.498569Z",
     "iopub.status.idle": "2021-10-14T16:30:09.528284Z",
     "shell.execute_reply": "2021-10-14T16:30:09.529744Z"
    },
    "papermill": {
     "duration": 0.069412,
     "end_time": "2021-10-14T16:30:09.530160",
     "exception": false,
     "start_time": "2021-10-14T16:30:09.460748",
     "status": "completed"
    },
    "tags": []
   },
   "outputs": [],
   "source": [
    "df_pivot = df.pivot_table(index=\"PRODUCT\", columns = \"RECORD_TIME\", values = \"LISTING_COUNT\")"
   ]
  },
  {
   "cell_type": "code",
   "execution_count": 6,
   "id": "union-huntington",
   "metadata": {
    "execution": {
     "iopub.execute_input": "2021-10-14T16:30:09.588260Z",
     "iopub.status.busy": "2021-10-14T16:30:09.585803Z",
     "iopub.status.idle": "2021-10-14T16:30:09.591762Z",
     "shell.execute_reply": "2021-10-14T16:30:09.593026Z"
    },
    "papermill": {
     "duration": 0.042197,
     "end_time": "2021-10-14T16:30:09.593468",
     "exception": false,
     "start_time": "2021-10-14T16:30:09.551271",
     "status": "completed"
    },
    "tags": []
   },
   "outputs": [],
   "source": [
    "df_pivot.columns = [\"stamp_1\", \"stamp_2\"]\n",
    "df_pivot_diff = df_pivot.diff(axis=1)"
   ]
  },
  {
   "cell_type": "code",
   "execution_count": 7,
   "id": "fifth-motion",
   "metadata": {
    "execution": {
     "iopub.execute_input": "2021-10-14T16:30:09.647743Z",
     "iopub.status.busy": "2021-10-14T16:30:09.645432Z",
     "iopub.status.idle": "2021-10-14T16:30:11.117036Z",
     "shell.execute_reply": "2021-10-14T16:30:11.118429Z"
    },
    "papermill": {
     "duration": 1.50502,
     "end_time": "2021-10-14T16:30:11.118875",
     "exception": false,
     "start_time": "2021-10-14T16:30:09.613855",
     "status": "completed"
    },
    "tags": []
   },
   "outputs": [
    {
     "data": {
      "text/plain": [
       "<AxesSubplot:ylabel='PRODUCT'>"
      ]
     },
     "execution_count": 7,
     "metadata": {},
     "output_type": "execute_result"
    },
    {
     "data": {
      "image/png": "[encoded data removed]",
      "text/plain": [
       "<Figure size 432x288 with 1 Axes>"
      ]
     },
     "metadata": {
      "needs_background": "light"
     },
     "output_type": "display_data"
    }
   ],
   "source": [
    "df_pivot_diff.sort_values(\"stamp_2\", ascending = False)[\"stamp_2\"].head(10).plot.barh()"
   ]
  },
  {
   "cell_type": "code",
   "execution_count": null,
   "id": "extra-executive",
   "metadata": {
    "papermill": {
     "duration": 0.02193,
     "end_time": "2021-10-14T16:30:11.165148",
     "exception": false,
     "start_time": "2021-10-14T16:30:11.143218",
     "status": "completed"
    },
    "tags": []
   },
   "outputs": [],
   "source": []
  }
 ],
 "metadata": {
  "kernelspec": {
   "display_name": "Python 3",
   "language": "python",
   "name": "python3"
  },
  "language_info": {
   "codemirror_mode": {
    "name": "ipython",
    "version": 3
   },
   "file_extension": ".py",
   "mimetype": "text/x-python",
   "name": "python",
   "nbconvert_exporter": "python",
   "pygments_lexer": "ipython3",
   "version": "3.9.5"
  },
  "papermill": {
   "default_parameters": {},
   "duration": 7.829629,
   "end_time": "2021-10-14T16:30:12.481935",
   "environment_variables": {},
   "exception": null,
   "input_path": "eBay_Overview.ipynb",
   "output_path": "eBay_Overview.ipynb",
   "parameters": {},
   "start_time": "2021-10-14T16:30:04.652306",
   "version": "2.3.3"
  }
 },
 "nbformat": 4,
 "nbformat_minor": 5
}