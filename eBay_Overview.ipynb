{
 "cells": [
  {
   "cell_type": "code",
   "execution_count": 1,
   "id": "reverse-picking",
   "metadata": {
    "execution": {
     "iopub.execute_input": "2021-10-09T15:30:07.506821Z",
     "iopub.status.busy": "2021-10-09T15:30:07.504808Z",
     "iopub.status.idle": "2021-10-09T15:30:08.312227Z",
     "shell.execute_reply": "2021-10-09T15:30:08.313983Z"
    },
    "papermill": {
     "duration": 0.860433,
     "end_time": "2021-10-09T15:30:08.314607",
     "exception": false,
     "start_time": "2021-10-09T15:30:07.454174",
     "status": "completed"
    },
    "tags": []
   },
   "outputs": [],
   "source": [
    "import pandas as pd\n",
    "import sqlite3"
   ]
  },
  {
   "cell_type": "code",
   "execution_count": 2,
   "id": "innovative-syndrome",
   "metadata": {
    "execution": {
     "iopub.execute_input": "2021-10-09T15:30:08.366747Z",
     "iopub.status.busy": "2021-10-09T15:30:08.364877Z",
     "iopub.status.idle": "2021-10-09T15:30:08.853112Z",
     "shell.execute_reply": "2021-10-09T15:30:08.854340Z"
    },
    "papermill": {
     "duration": 0.517892,
     "end_time": "2021-10-09T15:30:08.854738",
     "exception": false,
     "start_time": "2021-10-09T15:30:08.336846",
     "status": "completed"
    },
    "tags": []
   },
   "outputs": [],
   "source": [
    "timestamps = pd.read_sql(\"select distinct record_time from EBAY_TOP_BERLIN order by record_time desc limit 2\", sqlite3.connect(\"UsedObjects.db\"))"
   ]
  },
  {
   "cell_type": "code",
   "execution_count": 3,
   "id": "periodic-identification",
   "metadata": {
    "execution": {
     "iopub.execute_input": "2021-10-09T15:30:08.918336Z",
     "iopub.status.busy": "2021-10-09T15:30:08.916307Z",
     "iopub.status.idle": "2021-10-09T15:30:08.936318Z",
     "shell.execute_reply": "2021-10-09T15:30:08.937645Z"
    },
    "papermill": {
     "duration": 0.063541,
     "end_time": "2021-10-09T15:30:08.938064",
     "exception": false,
     "start_time": "2021-10-09T15:30:08.874523",
     "status": "completed"
    },
    "tags": []
   },
   "outputs": [
    {
     "data": {
      "text/html": [
       "<div>\n",
       "<style scoped>\n",
       "    .dataframe tbody tr th:only-of-type {\n",
       "        vertical-align: middle;\n",
       "    }\n",
       "\n",
       "    .dataframe tbody tr th {\n",
       "        vertical-align: top;\n",
       "    }\n",
       "\n",
       "    .dataframe thead th {\n",
       "        text-align: right;\n",
       "    }\n",
       "</style>\n",
       "<table border=\"1\" class=\"dataframe\">\n",
       "  <thead>\n",
       "    <tr style=\"text-align: right;\">\n",
       "      <th></th>\n",
       "      <th>RECORD_TIME</th>\n",
       "    </tr>\n",
       "  </thead>\n",
       "  <tbody>\n",
       "    <tr>\n",
       "      <th>0</th>\n",
       "      <td>2021-10-09 17:30</td>\n",
       "    </tr>\n",
       "    <tr>\n",
       "      <th>1</th>\n",
       "      <td>2021-10-09 17:00</td>\n",
       "    </tr>\n",
       "  </tbody>\n",
       "</table>\n",
       "</div>"
      ],
      "text/plain": [
       "        RECORD_TIME\n",
       "0  2021-10-09 17:30\n",
       "1  2021-10-09 17:00"
      ]
     },
     "execution_count": 3,
     "metadata": {},
     "output_type": "execute_result"
    }
   ],
   "source": [
    "timestamps"
   ]
  },
  {
   "cell_type": "code",
   "execution_count": 4,
   "id": "alternate-victory",
   "metadata": {
    "execution": {
     "iopub.execute_input": "2021-10-09T15:30:08.998423Z",
     "iopub.status.busy": "2021-10-09T15:30:08.996531Z",
     "iopub.status.idle": "2021-10-09T15:30:09.755970Z",
     "shell.execute_reply": "2021-10-09T15:30:09.757386Z"
    },
    "papermill": {
     "duration": 0.792879,
     "end_time": "2021-10-09T15:30:09.757829",
     "exception": false,
     "start_time": "2021-10-09T15:30:08.964950",
     "status": "completed"
    },
    "tags": []
   },
   "outputs": [],
   "source": [
    "df = pd.read_sql(\"select * from EBAY_TOP_BERLIN where record_time in (select distinct record_time from EBAY_TOP_BERLIN order by record_time desc limit 2)\", sqlite3.connect(\"UsedObjects.db\"))"
   ]
  },
  {
   "cell_type": "code",
   "execution_count": 5,
   "id": "popular-active",
   "metadata": {
    "execution": {
     "iopub.execute_input": "2021-10-09T15:30:09.829885Z",
     "iopub.status.busy": "2021-10-09T15:30:09.816918Z",
     "iopub.status.idle": "2021-10-09T15:30:09.846495Z",
     "shell.execute_reply": "2021-10-09T15:30:09.847977Z"
    },
    "papermill": {
     "duration": 0.069645,
     "end_time": "2021-10-09T15:30:09.848395",
     "exception": false,
     "start_time": "2021-10-09T15:30:09.778750",
     "status": "completed"
    },
    "tags": []
   },
   "outputs": [],
   "source": [
    "df_pivot = df.pivot_table(index=\"PRODUCT\", columns = \"RECORD_TIME\", values = \"LISTING_COUNT\")"
   ]
  },
  {
   "cell_type": "code",
   "execution_count": 6,
   "id": "union-huntington",
   "metadata": {
    "execution": {
     "iopub.execute_input": "2021-10-09T15:30:09.907120Z",
     "iopub.status.busy": "2021-10-09T15:30:09.904974Z",
     "iopub.status.idle": "2021-10-09T15:30:09.910102Z",
     "shell.execute_reply": "2021-10-09T15:30:09.911476Z"
    },
    "papermill": {
     "duration": 0.041977,
     "end_time": "2021-10-09T15:30:09.911907",
     "exception": false,
     "start_time": "2021-10-09T15:30:09.869930",
     "status": "completed"
    },
    "tags": []
   },
   "outputs": [],
   "source": [
    "df_pivot.columns = [\"stamp_1\", \"stamp_2\"]\n",
    "df_pivot_diff = df_pivot.diff(axis=1)"
   ]
  },
  {
   "cell_type": "code",
   "execution_count": 7,
   "id": "fifth-motion",
   "metadata": {
    "execution": {
     "iopub.execute_input": "2021-10-09T15:30:09.966161Z",
     "iopub.status.busy": "2021-10-09T15:30:09.963776Z",
     "iopub.status.idle": "2021-10-09T15:30:11.463242Z",
     "shell.execute_reply": "2021-10-09T15:30:11.464530Z"
    },
    "papermill": {
     "duration": 1.532446,
     "end_time": "2021-10-09T15:30:11.464985",
     "exception": false,
     "start_time": "2021-10-09T15:30:09.932539",
     "status": "completed"
    },
    "tags": []
   },
   "outputs": [
    {
     "data": {
      "text/plain": [
       "<AxesSubplot:ylabel='PRODUCT'>"
      ]
     },
     "execution_count": 7,
     "metadata": {},
     "output_type": "execute_result"
    },
    {
     "data": {
      "image/png": "[encoded data removed]",
      "text/plain": [
       "<Figure size 432x288 with 1 Axes>"
      ]
     },
     "metadata": {
      "needs_background": "light"
     },
     "output_type": "display_data"
    }
   ],
   "source": [
    "df_pivot_diff.sort_values(\"stamp_2\", ascending = False)[\"stamp_2\"].head(10).plot.barh()"
   ]
  },
  {
   "cell_type": "code",
   "execution_count": null,
   "id": "extra-executive",
   "metadata": {
    "papermill": {
     "duration": 0.022614,
     "end_time": "2021-10-09T15:30:11.512261",
     "exception": false,
     "start_time": "2021-10-09T15:30:11.489647",
     "status": "completed"
    },
    "tags": []
   },
   "outputs": [],
   "source": []
  }
 ],
 "metadata": {
  "kernelspec": {
   "display_name": "Python 3",
   "language": "python",
   "name": "python3"
  },
  "language_info": {
   "codemirror_mode": {
    "name": "ipython",
    "version": 3
   },
   "file_extension": ".py",
   "mimetype": "text/x-python",
   "name": "python",
   "nbconvert_exporter": "python",
   "pygments_lexer": "ipython3",
   "version": "3.9.5"
  },
  "papermill": {
   "default_parameters": {},
   "duration": 7.84223,
   "end_time": "2021-10-09T15:30:12.888271",
   "environment_variables": {},
   "exception": null,
   "input_path": "eBay_Overview.ipynb",
   "output_path": "eBay_Overview.ipynb",
   "parameters": {},
   "start_time": "2021-10-09T15:30:05.046041",
   "version": "2.3.3"
  }
 },
 "nbformat": 4,
 "nbformat_minor": 5
}