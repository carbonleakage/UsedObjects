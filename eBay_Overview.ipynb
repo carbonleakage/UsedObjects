{
 "cells": [
  {
   "cell_type": "code",
   "execution_count": 1,
   "id": "reverse-picking",
   "metadata": {
    "execution": {
     "iopub.execute_input": "2021-10-01T02:30:06.558695Z",
     "iopub.status.busy": "2021-10-01T02:30:06.556750Z",
     "iopub.status.idle": "2021-10-01T02:30:07.362047Z",
     "shell.execute_reply": "2021-10-01T02:30:07.363461Z"
    },
    "papermill": {
     "duration": 0.857028,
     "end_time": "2021-10-01T02:30:07.364106",
     "exception": false,
     "start_time": "2021-10-01T02:30:06.507078",
     "status": "completed"
    },
    "tags": []
   },
   "outputs": [],
   "source": [
    "import pandas as pd\n",
    "import sqlite3"
   ]
  },
  {
   "cell_type": "code",
   "execution_count": 2,
   "id": "innovative-syndrome",
   "metadata": {
    "execution": {
     "iopub.execute_input": "2021-10-01T02:30:07.415749Z",
     "iopub.status.busy": "2021-10-01T02:30:07.413694Z",
     "iopub.status.idle": "2021-10-01T02:30:07.838934Z",
     "shell.execute_reply": "2021-10-01T02:30:07.840320Z"
    },
    "papermill": {
     "duration": 0.455387,
     "end_time": "2021-10-01T02:30:07.840754",
     "exception": false,
     "start_time": "2021-10-01T02:30:07.385367",
     "status": "completed"
    },
    "tags": []
   },
   "outputs": [],
   "source": [
    "timestamps = pd.read_sql(\"select distinct record_time from EBAY_TOP_BERLIN order by record_time desc limit 2\", sqlite3.connect(\"UsedObjects.db\"))"
   ]
  },
  {
   "cell_type": "code",
   "execution_count": 3,
   "id": "periodic-identification",
   "metadata": {
    "execution": {
     "iopub.execute_input": "2021-10-01T02:30:07.906730Z",
     "iopub.status.busy": "2021-10-01T02:30:07.904722Z",
     "iopub.status.idle": "2021-10-01T02:30:07.925777Z",
     "shell.execute_reply": "2021-10-01T02:30:07.927027Z"
    },
    "papermill": {
     "duration": 0.066872,
     "end_time": "2021-10-01T02:30:07.927462",
     "exception": false,
     "start_time": "2021-10-01T02:30:07.860590",
     "status": "completed"
    },
    "tags": []
   },
   "outputs": [
    {
     "data": {
      "text/html": [
       "<div>\n",
       "<style scoped>\n",
       "    .dataframe tbody tr th:only-of-type {\n",
       "        vertical-align: middle;\n",
       "    }\n",
       "\n",
       "    .dataframe tbody tr th {\n",
       "        vertical-align: top;\n",
       "    }\n",
       "\n",
       "    .dataframe thead th {\n",
       "        text-align: right;\n",
       "    }\n",
       "</style>\n",
       "<table border=\"1\" class=\"dataframe\">\n",
       "  <thead>\n",
       "    <tr style=\"text-align: right;\">\n",
       "      <th></th>\n",
       "      <th>RECORD_TIME</th>\n",
       "    </tr>\n",
       "  </thead>\n",
       "  <tbody>\n",
       "    <tr>\n",
       "      <th>0</th>\n",
       "      <td>2021-10-01 04:30</td>\n",
       "    </tr>\n",
       "    <tr>\n",
       "      <th>1</th>\n",
       "      <td>2021-10-01 04:00</td>\n",
       "    </tr>\n",
       "  </tbody>\n",
       "</table>\n",
       "</div>"
      ],
      "text/plain": [
       "        RECORD_TIME\n",
       "0  2021-10-01 04:30\n",
       "1  2021-10-01 04:00"
      ]
     },
     "execution_count": 3,
     "metadata": {},
     "output_type": "execute_result"
    }
   ],
   "source": [
    "timestamps"
   ]
  },
  {
   "cell_type": "code",
   "execution_count": 4,
   "id": "alternate-victory",
   "metadata": {
    "execution": {
     "iopub.execute_input": "2021-10-01T02:30:07.978360Z",
     "iopub.status.busy": "2021-10-01T02:30:07.976554Z",
     "iopub.status.idle": "2021-10-01T02:30:08.609357Z",
     "shell.execute_reply": "2021-10-01T02:30:08.610562Z"
    },
    "papermill": {
     "duration": 0.66248,
     "end_time": "2021-10-01T02:30:08.611017",
     "exception": false,
     "start_time": "2021-10-01T02:30:07.948537",
     "status": "completed"
    },
    "tags": []
   },
   "outputs": [],
   "source": [
    "df = pd.read_sql(\"select * from EBAY_TOP_BERLIN where record_time in (select distinct record_time from EBAY_TOP_BERLIN order by record_time desc limit 2)\", sqlite3.connect(\"UsedObjects.db\"))"
   ]
  },
  {
   "cell_type": "code",
   "execution_count": 5,
   "id": "popular-active",
   "metadata": {
    "execution": {
     "iopub.execute_input": "2021-10-01T02:30:08.690484Z",
     "iopub.status.busy": "2021-10-01T02:30:08.679985Z",
     "iopub.status.idle": "2021-10-01T02:30:08.706065Z",
     "shell.execute_reply": "2021-10-01T02:30:08.707501Z"
    },
    "papermill": {
     "duration": 0.071111,
     "end_time": "2021-10-01T02:30:08.707924",
     "exception": false,
     "start_time": "2021-10-01T02:30:08.636813",
     "status": "completed"
    },
    "tags": []
   },
   "outputs": [],
   "source": [
    "df_pivot = df.pivot_table(index=\"PRODUCT\", columns = \"RECORD_TIME\", values = \"LISTING_COUNT\")"
   ]
  },
  {
   "cell_type": "code",
   "execution_count": 6,
   "id": "union-huntington",
   "metadata": {
    "execution": {
     "iopub.execute_input": "2021-10-01T02:30:08.766271Z",
     "iopub.status.busy": "2021-10-01T02:30:08.763865Z",
     "iopub.status.idle": "2021-10-01T02:30:08.769905Z",
     "shell.execute_reply": "2021-10-01T02:30:08.771339Z"
    },
    "papermill": {
     "duration": 0.042557,
     "end_time": "2021-10-01T02:30:08.771779",
     "exception": false,
     "start_time": "2021-10-01T02:30:08.729222",
     "status": "completed"
    },
    "tags": []
   },
   "outputs": [],
   "source": [
    "df_pivot.columns = [\"stamp_1\", \"stamp_2\"]\n",
    "df_pivot_diff = df_pivot.diff(axis=1)"
   ]
  },
  {
   "cell_type": "code",
   "execution_count": 7,
   "id": "fifth-motion",
   "metadata": {
    "execution": {
     "iopub.execute_input": "2021-10-01T02:30:08.826177Z",
     "iopub.status.busy": "2021-10-01T02:30:08.824020Z",
     "iopub.status.idle": "2021-10-01T02:30:10.344402Z",
     "shell.execute_reply": "2021-10-01T02:30:10.345791Z"
    },
    "papermill": {
     "duration": 1.553048,
     "end_time": "2021-10-01T02:30:10.346232",
     "exception": false,
     "start_time": "2021-10-01T02:30:08.793184",
     "status": "completed"
    },
    "tags": []
   },
   "outputs": [
    {
     "data": {
      "text/plain": [
       "<AxesSubplot:ylabel='PRODUCT'>"
      ]
     },
     "execution_count": 7,
     "metadata": {},
     "output_type": "execute_result"
    },
    {
     "data": {
      "image/png": "[encoded data removed]",
      "text/plain": [
       "<Figure size 432x288 with 1 Axes>"
      ]
     },
     "metadata": {
      "needs_background": "light"
     },
     "output_type": "display_data"
    }
   ],
   "source": [
    "df_pivot_diff.sort_values(\"stamp_2\", ascending = False)[\"stamp_2\"].head(10).plot.barh()"
   ]
  },
  {
   "cell_type": "code",
   "execution_count": null,
   "id": "extra-executive",
   "metadata": {
    "papermill": {
     "duration": 0.022033,
     "end_time": "2021-10-01T02:30:10.392137",
     "exception": false,
     "start_time": "2021-10-01T02:30:10.370104",
     "status": "completed"
    },
    "tags": []
   },
   "outputs": [],
   "source": []
  }
 ],
 "metadata": {
  "kernelspec": {
   "display_name": "Python 3",
   "language": "python",
   "name": "python3"
  },
  "language_info": {
   "codemirror_mode": {
    "name": "ipython",
    "version": 3
   },
   "file_extension": ".py",
   "mimetype": "text/x-python",
   "name": "python",
   "nbconvert_exporter": "python",
   "pygments_lexer": "ipython3",
   "version": "3.9.5"
  },
  "papermill": {
   "default_parameters": {},
   "duration": 7.821967,
   "end_time": "2021-10-01T02:30:11.921453",
   "environment_variables": {},
   "exception": null,
   "input_path": "eBay_Overview.ipynb",
   "output_path": "eBay_Overview.ipynb",
   "parameters": {},
   "start_time": "2021-10-01T02:30:04.099486",
   "version": "2.3.3"
  }
 },
 "nbformat": 4,
 "nbformat_minor": 5
}