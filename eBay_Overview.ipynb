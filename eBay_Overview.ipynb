{
 "cells": [
  {
   "cell_type": "code",
   "execution_count": 1,
   "id": "reverse-picking",
   "metadata": {
    "execution": {
     "iopub.execute_input": "2021-08-23T05:30:06.808094Z",
     "iopub.status.busy": "2021-08-23T05:30:06.806196Z",
     "iopub.status.idle": "2021-08-23T05:30:07.611859Z",
     "shell.execute_reply": "2021-08-23T05:30:07.613005Z"
    },
    "papermill": {
     "duration": 0.859276,
     "end_time": "2021-08-23T05:30:07.613634",
     "exception": false,
     "start_time": "2021-08-23T05:30:06.754358",
     "status": "completed"
    },
    "tags": []
   },
   "outputs": [],
   "source": [
    "import pandas as pd\n",
    "import sqlite3"
   ]
  },
  {
   "cell_type": "code",
   "execution_count": 2,
   "id": "innovative-syndrome",
   "metadata": {
    "execution": {
     "iopub.execute_input": "2021-08-23T05:30:07.664535Z",
     "iopub.status.busy": "2021-08-23T05:30:07.662674Z",
     "iopub.status.idle": "2021-08-23T05:30:07.772004Z",
     "shell.execute_reply": "2021-08-23T05:30:07.773184Z"
    },
    "papermill": {
     "duration": 0.138502,
     "end_time": "2021-08-23T05:30:07.773586",
     "exception": false,
     "start_time": "2021-08-23T05:30:07.635084",
     "status": "completed"
    },
    "tags": []
   },
   "outputs": [],
   "source": [
    "timestamps = pd.read_sql(\"select distinct record_time from EBAY_TOP_BERLIN order by record_time desc limit 2\", sqlite3.connect(\"UsedObjects.db\"))"
   ]
  },
  {
   "cell_type": "code",
   "execution_count": 3,
   "id": "periodic-identification",
   "metadata": {
    "execution": {
     "iopub.execute_input": "2021-08-23T05:30:07.840991Z",
     "iopub.status.busy": "2021-08-23T05:30:07.838985Z",
     "iopub.status.idle": "2021-08-23T05:30:07.860471Z",
     "shell.execute_reply": "2021-08-23T05:30:07.862109Z"
    },
    "papermill": {
     "duration": 0.067401,
     "end_time": "2021-08-23T05:30:07.862661",
     "exception": false,
     "start_time": "2021-08-23T05:30:07.795260",
     "status": "completed"
    },
    "tags": []
   },
   "outputs": [
    {
     "data": {
      "text/html": [
       "<div>\n",
       "<style scoped>\n",
       "    .dataframe tbody tr th:only-of-type {\n",
       "        vertical-align: middle;\n",
       "    }\n",
       "\n",
       "    .dataframe tbody tr th {\n",
       "        vertical-align: top;\n",
       "    }\n",
       "\n",
       "    .dataframe thead th {\n",
       "        text-align: right;\n",
       "    }\n",
       "</style>\n",
       "<table border=\"1\" class=\"dataframe\">\n",
       "  <thead>\n",
       "    <tr style=\"text-align: right;\">\n",
       "      <th></th>\n",
       "      <th>RECORD_TIME</th>\n",
       "    </tr>\n",
       "  </thead>\n",
       "  <tbody>\n",
       "    <tr>\n",
       "      <th>0</th>\n",
       "      <td>2021-08-23 07:30</td>\n",
       "    </tr>\n",
       "    <tr>\n",
       "      <th>1</th>\n",
       "      <td>2021-08-23 07:00</td>\n",
       "    </tr>\n",
       "  </tbody>\n",
       "</table>\n",
       "</div>"
      ],
      "text/plain": [
       "        RECORD_TIME\n",
       "0  2021-08-23 07:30\n",
       "1  2021-08-23 07:00"
      ]
     },
     "execution_count": 3,
     "metadata": {},
     "output_type": "execute_result"
    }
   ],
   "source": [
    "timestamps"
   ]
  },
  {
   "cell_type": "code",
   "execution_count": 4,
   "id": "alternate-victory",
   "metadata": {
    "execution": {
     "iopub.execute_input": "2021-08-23T05:30:07.914109Z",
     "iopub.status.busy": "2021-08-23T05:30:07.912223Z",
     "iopub.status.idle": "2021-08-23T05:30:08.073245Z",
     "shell.execute_reply": "2021-08-23T05:30:08.074606Z"
    },
    "papermill": {
     "duration": 0.190955,
     "end_time": "2021-08-23T05:30:08.075033",
     "exception": false,
     "start_time": "2021-08-23T05:30:07.884078",
     "status": "completed"
    },
    "tags": []
   },
   "outputs": [],
   "source": [
    "df = pd.read_sql(\"select * from EBAY_TOP_BERLIN where record_time in (select distinct record_time from EBAY_TOP_BERLIN order by record_time desc limit 2)\", sqlite3.connect(\"UsedObjects.db\"))"
   ]
  },
  {
   "cell_type": "code",
   "execution_count": 5,
   "id": "popular-active",
   "metadata": {
    "execution": {
     "iopub.execute_input": "2021-08-23T05:30:08.144112Z",
     "iopub.status.busy": "2021-08-23T05:30:08.132173Z",
     "iopub.status.idle": "2021-08-23T05:30:08.161745Z",
     "shell.execute_reply": "2021-08-23T05:30:08.163613Z"
    },
    "papermill": {
     "duration": 0.068798,
     "end_time": "2021-08-23T05:30:08.164240",
     "exception": false,
     "start_time": "2021-08-23T05:30:08.095442",
     "status": "completed"
    },
    "tags": []
   },
   "outputs": [],
   "source": [
    "df_pivot = df.pivot_table(index=\"PRODUCT\", columns = \"RECORD_TIME\", values = \"LISTING_COUNT\")"
   ]
  },
  {
   "cell_type": "code",
   "execution_count": 6,
   "id": "union-huntington",
   "metadata": {
    "execution": {
     "iopub.execute_input": "2021-08-23T05:30:08.221559Z",
     "iopub.status.busy": "2021-08-23T05:30:08.219534Z",
     "iopub.status.idle": "2021-08-23T05:30:08.224886Z",
     "shell.execute_reply": "2021-08-23T05:30:08.226217Z"
    },
    "papermill": {
     "duration": 0.040479,
     "end_time": "2021-08-23T05:30:08.226640",
     "exception": false,
     "start_time": "2021-08-23T05:30:08.186161",
     "status": "completed"
    },
    "tags": []
   },
   "outputs": [],
   "source": [
    "df_pivot.columns = [\"stamp_1\", \"stamp_2\"]\n",
    "df_pivot_diff = df_pivot.diff(axis=1)"
   ]
  },
  {
   "cell_type": "code",
   "execution_count": 7,
   "id": "fifth-motion",
   "metadata": {
    "execution": {
     "iopub.execute_input": "2021-08-23T05:30:08.288783Z",
     "iopub.status.busy": "2021-08-23T05:30:08.286409Z",
     "iopub.status.idle": "2021-08-23T05:30:09.766243Z",
     "shell.execute_reply": "2021-08-23T05:30:09.767541Z"
    },
    "papermill": {
     "duration": 1.516639,
     "end_time": "2021-08-23T05:30:09.767957",
     "exception": false,
     "start_time": "2021-08-23T05:30:08.251318",
     "status": "completed"
    },
    "tags": []
   },
   "outputs": [
    {
     "data": {
      "text/plain": [
       "<AxesSubplot:ylabel='PRODUCT'>"
      ]
     },
     "execution_count": 7,
     "metadata": {},
     "output_type": "execute_result"
    },
    {
     "data": {
      "image/png": "[encoded data removed]",
      "text/plain": [
       "<Figure size 432x288 with 1 Axes>"
      ]
     },
     "metadata": {
      "needs_background": "light"
     },
     "output_type": "display_data"
    }
   ],
   "source": [
    "df_pivot_diff.sort_values(\"stamp_2\", ascending = False)[\"stamp_2\"].head(10).plot.barh()"
   ]
  },
  {
   "cell_type": "code",
   "execution_count": null,
   "id": "extra-executive",
   "metadata": {
    "papermill": {
     "duration": 0.022158,
     "end_time": "2021-08-23T05:30:09.813781",
     "exception": false,
     "start_time": "2021-08-23T05:30:09.791623",
     "status": "completed"
    },
    "tags": []
   },
   "outputs": [],
   "source": []
  }
 ],
 "metadata": {
  "kernelspec": {
   "display_name": "Python 3",
   "language": "python",
   "name": "python3"
  },
  "language_info": {
   "codemirror_mode": {
    "name": "ipython",
    "version": 3
   },
   "file_extension": ".py",
   "mimetype": "text/x-python",
   "name": "python",
   "nbconvert_exporter": "python",
   "pygments_lexer": "ipython3",
   "version": "3.9.5"
  },
  "papermill": {
   "default_parameters": {},
   "duration": 6.8366,
   "end_time": "2021-08-23T05:30:11.178962",
   "environment_variables": {},
   "exception": null,
   "input_path": "eBay_Overview.ipynb",
   "output_path": "eBay_Overview.ipynb",
   "parameters": {},
   "start_time": "2021-08-23T05:30:04.342362",
   "version": "2.3.3"
  }
 },
 "nbformat": 4,
 "nbformat_minor": 5
}