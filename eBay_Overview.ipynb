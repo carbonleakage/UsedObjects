{
 "cells": [
  {
   "cell_type": "code",
   "execution_count": 1,
   "id": "reverse-picking",
   "metadata": {
    "execution": {
     "iopub.execute_input": "2021-12-10T16:00:07.113484Z",
     "iopub.status.busy": "2021-12-10T16:00:07.110229Z",
     "iopub.status.idle": "2021-12-10T16:00:08.053521Z",
     "shell.execute_reply": "2021-12-10T16:00:08.051489Z"
    },
    "papermill": {
     "duration": 0.990243,
     "end_time": "2021-12-10T16:00:08.054008",
     "exception": false,
     "start_time": "2021-12-10T16:00:07.063765",
     "status": "completed"
    },
    "tags": []
   },
   "outputs": [],
   "source": [
    "import pandas as pd\n",
    "import sqlite3"
   ]
  },
  {
   "cell_type": "code",
   "execution_count": 2,
   "id": "innovative-syndrome",
   "metadata": {
    "execution": {
     "iopub.execute_input": "2021-12-10T16:00:08.117834Z",
     "iopub.status.busy": "2021-12-10T16:00:08.115518Z",
     "iopub.status.idle": "2021-12-10T16:00:09.190942Z",
     "shell.execute_reply": "2021-12-10T16:00:09.192366Z"
    },
    "papermill": {
     "duration": 1.117359,
     "end_time": "2021-12-10T16:00:09.192921",
     "exception": false,
     "start_time": "2021-12-10T16:00:08.075562",
     "status": "completed"
    },
    "tags": []
   },
   "outputs": [],
   "source": [
    "timestamps = pd.read_sql(\"select distinct record_time from EBAY_TOP_BERLIN order by record_time desc limit 2\", sqlite3.connect(\"UsedObjects.db\"))"
   ]
  },
  {
   "cell_type": "code",
   "execution_count": 3,
   "id": "periodic-identification",
   "metadata": {
    "execution": {
     "iopub.execute_input": "2021-12-10T16:00:09.264618Z",
     "iopub.status.busy": "2021-12-10T16:00:09.258538Z",
     "iopub.status.idle": "2021-12-10T16:00:09.280943Z",
     "shell.execute_reply": "2021-12-10T16:00:09.282348Z"
    },
    "papermill": {
     "duration": 0.070146,
     "end_time": "2021-12-10T16:00:09.282809",
     "exception": false,
     "start_time": "2021-12-10T16:00:09.212663",
     "status": "completed"
    },
    "tags": []
   },
   "outputs": [
    {
     "data": {
      "text/html": [
       "<div>\n",
       "<style scoped>\n",
       "    .dataframe tbody tr th:only-of-type {\n",
       "        vertical-align: middle;\n",
       "    }\n",
       "\n",
       "    .dataframe tbody tr th {\n",
       "        vertical-align: top;\n",
       "    }\n",
       "\n",
       "    .dataframe thead th {\n",
       "        text-align: right;\n",
       "    }\n",
       "</style>\n",
       "<table border=\"1\" class=\"dataframe\">\n",
       "  <thead>\n",
       "    <tr style=\"text-align: right;\">\n",
       "      <th></th>\n",
       "      <th>RECORD_TIME</th>\n",
       "    </tr>\n",
       "  </thead>\n",
       "  <tbody>\n",
       "    <tr>\n",
       "      <th>0</th>\n",
       "      <td>2021-12-10 17:00</td>\n",
       "    </tr>\n",
       "    <tr>\n",
       "      <th>1</th>\n",
       "      <td>2021-12-10 16:30</td>\n",
       "    </tr>\n",
       "  </tbody>\n",
       "</table>\n",
       "</div>"
      ],
      "text/plain": [
       "        RECORD_TIME\n",
       "0  2021-12-10 17:00\n",
       "1  2021-12-10 16:30"
      ]
     },
     "execution_count": 3,
     "metadata": {},
     "output_type": "execute_result"
    }
   ],
   "source": [
    "timestamps"
   ]
  },
  {
   "cell_type": "code",
   "execution_count": 4,
   "id": "alternate-victory",
   "metadata": {
    "execution": {
     "iopub.execute_input": "2021-12-10T16:00:09.337422Z",
     "iopub.status.busy": "2021-12-10T16:00:09.335268Z",
     "iopub.status.idle": "2021-12-10T16:00:10.852029Z",
     "shell.execute_reply": "2021-12-10T16:00:10.854780Z"
    },
    "papermill": {
     "duration": 1.551958,
     "end_time": "2021-12-10T16:00:10.855428",
     "exception": false,
     "start_time": "2021-12-10T16:00:09.303470",
     "status": "completed"
    },
    "tags": []
   },
   "outputs": [],
   "source": [
    "df = pd.read_sql(\"select * from EBAY_TOP_BERLIN where record_time in (select distinct record_time from EBAY_TOP_BERLIN order by record_time desc limit 2)\", sqlite3.connect(\"UsedObjects.db\"))"
   ]
  },
  {
   "cell_type": "code",
   "execution_count": 5,
   "id": "popular-active",
   "metadata": {
    "execution": {
     "iopub.execute_input": "2021-12-10T16:00:10.924588Z",
     "iopub.status.busy": "2021-12-10T16:00:10.922238Z",
     "iopub.status.idle": "2021-12-10T16:00:10.956397Z",
     "shell.execute_reply": "2021-12-10T16:00:10.954933Z"
    },
    "papermill": {
     "duration": 0.077504,
     "end_time": "2021-12-10T16:00:10.956827",
     "exception": false,
     "start_time": "2021-12-10T16:00:10.879323",
     "status": "completed"
    },
    "tags": []
   },
   "outputs": [],
   "source": [
    "df_pivot = df.pivot_table(index=\"PRODUCT\", columns = \"RECORD_TIME\", values = \"LISTING_COUNT\")"
   ]
  },
  {
   "cell_type": "code",
   "execution_count": 6,
   "id": "union-huntington",
   "metadata": {
    "execution": {
     "iopub.execute_input": "2021-12-10T16:00:11.016136Z",
     "iopub.status.busy": "2021-12-10T16:00:11.014124Z",
     "iopub.status.idle": "2021-12-10T16:00:11.018633Z",
     "shell.execute_reply": "2021-12-10T16:00:11.020308Z"
    },
    "papermill": {
     "duration": 0.043272,
     "end_time": "2021-12-10T16:00:11.020800",
     "exception": false,
     "start_time": "2021-12-10T16:00:10.977528",
     "status": "completed"
    },
    "tags": []
   },
   "outputs": [],
   "source": [
    "df_pivot.columns = [\"stamp_1\", \"stamp_2\"]\n",
    "df_pivot_diff = df_pivot.diff(axis=1)"
   ]
  },
  {
   "cell_type": "code",
   "execution_count": 7,
   "id": "fifth-motion",
   "metadata": {
    "execution": {
     "iopub.execute_input": "2021-12-10T16:00:11.082107Z",
     "iopub.status.busy": "2021-12-10T16:00:11.079545Z",
     "iopub.status.idle": "2021-12-10T16:00:12.950888Z",
     "shell.execute_reply": "2021-12-10T16:00:12.952922Z"
    },
    "papermill": {
     "duration": 1.910977,
     "end_time": "2021-12-10T16:00:12.953457",
     "exception": false,
     "start_time": "2021-12-10T16:00:11.042480",
     "status": "completed"
    },
    "tags": []
   },
   "outputs": [
    {
     "data": {
      "text/plain": [
       "<AxesSubplot:ylabel='PRODUCT'>"
      ]
     },
     "execution_count": 7,
     "metadata": {},
     "output_type": "execute_result"
    },
    {
     "data": {
      "image/png": "[encoded data removed]",
      "text/plain": [
       "<Figure size 432x288 with 1 Axes>"
      ]
     },
     "metadata": {
      "needs_background": "light"
     },
     "output_type": "display_data"
    }
   ],
   "source": [
    "df_pivot_diff.sort_values(\"stamp_2\", ascending = False)[\"stamp_2\"].head(10).plot.barh()"
   ]
  },
  {
   "cell_type": "code",
   "execution_count": null,
   "id": "extra-executive",
   "metadata": {
    "papermill": {
     "duration": 0.022361,
     "end_time": "2021-12-10T16:00:13.000619",
     "exception": false,
     "start_time": "2021-12-10T16:00:12.978258",
     "status": "completed"
    },
    "tags": []
   },
   "outputs": [],
   "source": []
  }
 ],
 "metadata": {
  "kernelspec": {
   "display_name": "Python 3",
   "language": "python",
   "name": "python3"
  },
  "language_info": {
   "codemirror_mode": {
    "name": "ipython",
    "version": 3
   },
   "file_extension": ".py",
   "mimetype": "text/x-python",
   "name": "python",
   "nbconvert_exporter": "python",
   "pygments_lexer": "ipython3",
   "version": "3.9.5"
  },
  "papermill": {
   "default_parameters": {},
   "duration": 10.012486,
   "end_time": "2021-12-10T16:00:14.272229",
   "environment_variables": {},
   "exception": null,
   "input_path": "eBay_Overview.ipynb",
   "output_path": "eBay_Overview.ipynb",
   "parameters": {},
   "start_time": "2021-12-10T16:00:04.259743",
   "version": "2.3.3"
  }
 },
 "nbformat": 4,
 "nbformat_minor": 5
}