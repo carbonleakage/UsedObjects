{
 "cells": [
  {
   "cell_type": "code",
   "execution_count": 1,
   "id": "reverse-picking",
   "metadata": {
    "execution": {
     "iopub.execute_input": "2021-10-30T19:00:07.284673Z",
     "iopub.status.busy": "2021-10-30T19:00:07.282707Z",
     "iopub.status.idle": "2021-10-30T19:00:08.089680Z",
     "shell.execute_reply": "2021-10-30T19:00:08.090989Z"
    },
    "papermill": {
     "duration": 0.857431,
     "end_time": "2021-10-30T19:00:08.091613",
     "exception": false,
     "start_time": "2021-10-30T19:00:07.234182",
     "status": "completed"
    },
    "tags": []
   },
   "outputs": [],
   "source": [
    "import pandas as pd\n",
    "import sqlite3"
   ]
  },
  {
   "cell_type": "code",
   "execution_count": 2,
   "id": "innovative-syndrome",
   "metadata": {
    "execution": {
     "iopub.execute_input": "2021-10-30T19:00:08.143650Z",
     "iopub.status.busy": "2021-10-30T19:00:08.141476Z",
     "iopub.status.idle": "2021-10-30T19:00:08.808458Z",
     "shell.execute_reply": "2021-10-30T19:00:08.809765Z"
    },
    "papermill": {
     "duration": 0.696912,
     "end_time": "2021-10-30T19:00:08.810173",
     "exception": false,
     "start_time": "2021-10-30T19:00:08.113261",
     "status": "completed"
    },
    "tags": []
   },
   "outputs": [],
   "source": [
    "timestamps = pd.read_sql(\"select distinct record_time from EBAY_TOP_BERLIN order by record_time desc limit 2\", sqlite3.connect(\"UsedObjects.db\"))"
   ]
  },
  {
   "cell_type": "code",
   "execution_count": 3,
   "id": "periodic-identification",
   "metadata": {
    "execution": {
     "iopub.execute_input": "2021-10-30T19:00:08.883963Z",
     "iopub.status.busy": "2021-10-30T19:00:08.881915Z",
     "iopub.status.idle": "2021-10-30T19:00:08.901621Z",
     "shell.execute_reply": "2021-10-30T19:00:08.902912Z"
    },
    "papermill": {
     "duration": 0.068151,
     "end_time": "2021-10-30T19:00:08.903323",
     "exception": false,
     "start_time": "2021-10-30T19:00:08.835172",
     "status": "completed"
    },
    "tags": []
   },
   "outputs": [
    {
     "data": {
      "text/html": [
       "<div>\n",
       "<style scoped>\n",
       "    .dataframe tbody tr th:only-of-type {\n",
       "        vertical-align: middle;\n",
       "    }\n",
       "\n",
       "    .dataframe tbody tr th {\n",
       "        vertical-align: top;\n",
       "    }\n",
       "\n",
       "    .dataframe thead th {\n",
       "        text-align: right;\n",
       "    }\n",
       "</style>\n",
       "<table border=\"1\" class=\"dataframe\">\n",
       "  <thead>\n",
       "    <tr style=\"text-align: right;\">\n",
       "      <th></th>\n",
       "      <th>RECORD_TIME</th>\n",
       "    </tr>\n",
       "  </thead>\n",
       "  <tbody>\n",
       "    <tr>\n",
       "      <th>0</th>\n",
       "      <td>2021-10-30 21:00</td>\n",
       "    </tr>\n",
       "    <tr>\n",
       "      <th>1</th>\n",
       "      <td>2021-10-30 20:30</td>\n",
       "    </tr>\n",
       "  </tbody>\n",
       "</table>\n",
       "</div>"
      ],
      "text/plain": [
       "        RECORD_TIME\n",
       "0  2021-10-30 21:00\n",
       "1  2021-10-30 20:30"
      ]
     },
     "execution_count": 3,
     "metadata": {},
     "output_type": "execute_result"
    }
   ],
   "source": [
    "timestamps"
   ]
  },
  {
   "cell_type": "code",
   "execution_count": 4,
   "id": "alternate-victory",
   "metadata": {
    "execution": {
     "iopub.execute_input": "2021-10-30T19:00:08.954554Z",
     "iopub.status.busy": "2021-10-30T19:00:08.952287Z",
     "iopub.status.idle": "2021-10-30T19:00:09.916289Z",
     "shell.execute_reply": "2021-10-30T19:00:09.917659Z"
    },
    "papermill": {
     "duration": 0.993794,
     "end_time": "2021-10-30T19:00:09.918088",
     "exception": false,
     "start_time": "2021-10-30T19:00:08.924294",
     "status": "completed"
    },
    "tags": []
   },
   "outputs": [],
   "source": [
    "df = pd.read_sql(\"select * from EBAY_TOP_BERLIN where record_time in (select distinct record_time from EBAY_TOP_BERLIN order by record_time desc limit 2)\", sqlite3.connect(\"UsedObjects.db\"))"
   ]
  },
  {
   "cell_type": "code",
   "execution_count": 5,
   "id": "popular-active",
   "metadata": {
    "execution": {
     "iopub.execute_input": "2021-10-30T19:00:09.988159Z",
     "iopub.status.busy": "2021-10-30T19:00:09.976218Z",
     "iopub.status.idle": "2021-10-30T19:00:10.005543Z",
     "shell.execute_reply": "2021-10-30T19:00:10.007016Z"
    },
    "papermill": {
     "duration": 0.067721,
     "end_time": "2021-10-30T19:00:10.007463",
     "exception": false,
     "start_time": "2021-10-30T19:00:09.939742",
     "status": "completed"
    },
    "tags": []
   },
   "outputs": [],
   "source": [
    "df_pivot = df.pivot_table(index=\"PRODUCT\", columns = \"RECORD_TIME\", values = \"LISTING_COUNT\")"
   ]
  },
  {
   "cell_type": "code",
   "execution_count": 6,
   "id": "union-huntington",
   "metadata": {
    "execution": {
     "iopub.execute_input": "2021-10-30T19:00:10.064869Z",
     "iopub.status.busy": "2021-10-30T19:00:10.062386Z",
     "iopub.status.idle": "2021-10-30T19:00:10.068049Z",
     "shell.execute_reply": "2021-10-30T19:00:10.069342Z"
    },
    "papermill": {
     "duration": 0.042072,
     "end_time": "2021-10-30T19:00:10.069792",
     "exception": false,
     "start_time": "2021-10-30T19:00:10.027720",
     "status": "completed"
    },
    "tags": []
   },
   "outputs": [],
   "source": [
    "df_pivot.columns = [\"stamp_1\", \"stamp_2\"]\n",
    "df_pivot_diff = df_pivot.diff(axis=1)"
   ]
  },
  {
   "cell_type": "code",
   "execution_count": 7,
   "id": "fifth-motion",
   "metadata": {
    "execution": {
     "iopub.execute_input": "2021-10-30T19:00:10.123924Z",
     "iopub.status.busy": "2021-10-30T19:00:10.121528Z",
     "iopub.status.idle": "2021-10-30T19:00:11.619607Z",
     "shell.execute_reply": "2021-10-30T19:00:11.621187Z"
    },
    "papermill": {
     "duration": 1.531901,
     "end_time": "2021-10-30T19:00:11.621671",
     "exception": false,
     "start_time": "2021-10-30T19:00:10.089770",
     "status": "completed"
    },
    "tags": []
   },
   "outputs": [
    {
     "data": {
      "text/plain": [
       "<AxesSubplot:ylabel='PRODUCT'>"
      ]
     },
     "execution_count": 7,
     "metadata": {},
     "output_type": "execute_result"
    },
    {
     "data": {
      "image/png": "[encoded data removed]",
      "text/plain": [
       "<Figure size 432x288 with 1 Axes>"
      ]
     },
     "metadata": {
      "needs_background": "light"
     },
     "output_type": "display_data"
    }
   ],
   "source": [
    "df_pivot_diff.sort_values(\"stamp_2\", ascending = False)[\"stamp_2\"].head(10).plot.barh()"
   ]
  },
  {
   "cell_type": "code",
   "execution_count": null,
   "id": "extra-executive",
   "metadata": {
    "papermill": {
     "duration": 0.023091,
     "end_time": "2021-10-30T19:00:11.669209",
     "exception": false,
     "start_time": "2021-10-30T19:00:11.646118",
     "status": "completed"
    },
    "tags": []
   },
   "outputs": [],
   "source": []
  }
 ],
 "metadata": {
  "kernelspec": {
   "display_name": "Python 3",
   "language": "python",
   "name": "python3"
  },
  "language_info": {
   "codemirror_mode": {
    "name": "ipython",
    "version": 3
   },
   "file_extension": ".py",
   "mimetype": "text/x-python",
   "name": "python",
   "nbconvert_exporter": "python",
   "pygments_lexer": "ipython3",
   "version": "3.9.5"
  },
  "papermill": {
   "default_parameters": {},
   "duration": 7.474275,
   "end_time": "2021-10-30T19:00:12.311693",
   "environment_variables": {},
   "exception": null,
   "input_path": "eBay_Overview.ipynb",
   "output_path": "eBay_Overview.ipynb",
   "parameters": {},
   "start_time": "2021-10-30T19:00:04.837418",
   "version": "2.3.3"
  }
 },
 "nbformat": 4,
 "nbformat_minor": 5
}