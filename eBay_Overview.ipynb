{
 "cells": [
  {
   "cell_type": "code",
   "execution_count": 1,
   "id": "reverse-picking",
   "metadata": {
    "execution": {
     "iopub.execute_input": "2021-09-01T18:00:06.611002Z",
     "iopub.status.busy": "2021-09-01T18:00:06.609002Z",
     "iopub.status.idle": "2021-09-01T18:00:07.410600Z",
     "shell.execute_reply": "2021-09-01T18:00:07.412018Z"
    },
    "papermill": {
     "duration": 0.852128,
     "end_time": "2021-09-01T18:00:07.412693",
     "exception": false,
     "start_time": "2021-09-01T18:00:06.560565",
     "status": "completed"
    },
    "tags": []
   },
   "outputs": [],
   "source": [
    "import pandas as pd\n",
    "import sqlite3"
   ]
  },
  {
   "cell_type": "code",
   "execution_count": 2,
   "id": "innovative-syndrome",
   "metadata": {
    "execution": {
     "iopub.execute_input": "2021-09-01T18:00:07.463439Z",
     "iopub.status.busy": "2021-09-01T18:00:07.461464Z",
     "iopub.status.idle": "2021-09-01T18:00:07.647828Z",
     "shell.execute_reply": "2021-09-01T18:00:07.649096Z"
    },
    "papermill": {
     "duration": 0.215763,
     "end_time": "2021-09-01T18:00:07.649496",
     "exception": false,
     "start_time": "2021-09-01T18:00:07.433733",
     "status": "completed"
    },
    "tags": []
   },
   "outputs": [],
   "source": [
    "timestamps = pd.read_sql(\"select distinct record_time from EBAY_TOP_BERLIN order by record_time desc limit 2\", sqlite3.connect(\"UsedObjects.db\"))"
   ]
  },
  {
   "cell_type": "code",
   "execution_count": 3,
   "id": "periodic-identification",
   "metadata": {
    "execution": {
     "iopub.execute_input": "2021-09-01T18:00:07.713638Z",
     "iopub.status.busy": "2021-09-01T18:00:07.711606Z",
     "iopub.status.idle": "2021-09-01T18:00:07.731706Z",
     "shell.execute_reply": "2021-09-01T18:00:07.732903Z"
    },
    "papermill": {
     "duration": 0.064333,
     "end_time": "2021-09-01T18:00:07.733333",
     "exception": false,
     "start_time": "2021-09-01T18:00:07.669000",
     "status": "completed"
    },
    "tags": []
   },
   "outputs": [
    {
     "data": {
      "text/html": [
       "<div>\n",
       "<style scoped>\n",
       "    .dataframe tbody tr th:only-of-type {\n",
       "        vertical-align: middle;\n",
       "    }\n",
       "\n",
       "    .dataframe tbody tr th {\n",
       "        vertical-align: top;\n",
       "    }\n",
       "\n",
       "    .dataframe thead th {\n",
       "        text-align: right;\n",
       "    }\n",
       "</style>\n",
       "<table border=\"1\" class=\"dataframe\">\n",
       "  <thead>\n",
       "    <tr style=\"text-align: right;\">\n",
       "      <th></th>\n",
       "      <th>RECORD_TIME</th>\n",
       "    </tr>\n",
       "  </thead>\n",
       "  <tbody>\n",
       "    <tr>\n",
       "      <th>0</th>\n",
       "      <td>2021-09-01 20:00</td>\n",
       "    </tr>\n",
       "    <tr>\n",
       "      <th>1</th>\n",
       "      <td>2021-09-01 19:30</td>\n",
       "    </tr>\n",
       "  </tbody>\n",
       "</table>\n",
       "</div>"
      ],
      "text/plain": [
       "        RECORD_TIME\n",
       "0  2021-09-01 20:00\n",
       "1  2021-09-01 19:30"
      ]
     },
     "execution_count": 3,
     "metadata": {},
     "output_type": "execute_result"
    }
   ],
   "source": [
    "timestamps"
   ]
  },
  {
   "cell_type": "code",
   "execution_count": 4,
   "id": "alternate-victory",
   "metadata": {
    "execution": {
     "iopub.execute_input": "2021-09-01T18:00:07.787296Z",
     "iopub.status.busy": "2021-09-01T18:00:07.784931Z",
     "iopub.status.idle": "2021-09-01T18:00:08.052260Z",
     "shell.execute_reply": "2021-09-01T18:00:08.053482Z"
    },
    "papermill": {
     "duration": 0.297731,
     "end_time": "2021-09-01T18:00:08.053878",
     "exception": false,
     "start_time": "2021-09-01T18:00:07.756147",
     "status": "completed"
    },
    "tags": []
   },
   "outputs": [],
   "source": [
    "df = pd.read_sql(\"select * from EBAY_TOP_BERLIN where record_time in (select distinct record_time from EBAY_TOP_BERLIN order by record_time desc limit 2)\", sqlite3.connect(\"UsedObjects.db\"))"
   ]
  },
  {
   "cell_type": "code",
   "execution_count": 5,
   "id": "popular-active",
   "metadata": {
    "execution": {
     "iopub.execute_input": "2021-09-01T18:00:08.128472Z",
     "iopub.status.busy": "2021-09-01T18:00:08.120785Z",
     "iopub.status.idle": "2021-09-01T18:00:08.149029Z",
     "shell.execute_reply": "2021-09-01T18:00:08.150257Z"
    },
    "papermill": {
     "duration": 0.071016,
     "end_time": "2021-09-01T18:00:08.150656",
     "exception": false,
     "start_time": "2021-09-01T18:00:08.079640",
     "status": "completed"
    },
    "tags": []
   },
   "outputs": [],
   "source": [
    "df_pivot = df.pivot_table(index=\"PRODUCT\", columns = \"RECORD_TIME\", values = \"LISTING_COUNT\")"
   ]
  },
  {
   "cell_type": "code",
   "execution_count": 6,
   "id": "union-huntington",
   "metadata": {
    "execution": {
     "iopub.execute_input": "2021-09-01T18:00:08.210098Z",
     "iopub.status.busy": "2021-09-01T18:00:08.207653Z",
     "iopub.status.idle": "2021-09-01T18:00:08.213535Z",
     "shell.execute_reply": "2021-09-01T18:00:08.214825Z"
    },
    "papermill": {
     "duration": 0.042316,
     "end_time": "2021-09-01T18:00:08.215312",
     "exception": false,
     "start_time": "2021-09-01T18:00:08.172996",
     "status": "completed"
    },
    "tags": []
   },
   "outputs": [],
   "source": [
    "df_pivot.columns = [\"stamp_1\", \"stamp_2\"]\n",
    "df_pivot_diff = df_pivot.diff(axis=1)"
   ]
  },
  {
   "cell_type": "code",
   "execution_count": 7,
   "id": "fifth-motion",
   "metadata": {
    "execution": {
     "iopub.execute_input": "2021-09-01T18:00:08.269889Z",
     "iopub.status.busy": "2021-09-01T18:00:08.267610Z",
     "iopub.status.idle": "2021-09-01T18:00:09.753812Z",
     "shell.execute_reply": "2021-09-01T18:00:09.755194Z"
    },
    "papermill": {
     "duration": 1.519581,
     "end_time": "2021-09-01T18:00:09.755663",
     "exception": false,
     "start_time": "2021-09-01T18:00:08.236082",
     "status": "completed"
    },
    "tags": []
   },
   "outputs": [
    {
     "data": {
      "text/plain": [
       "<AxesSubplot:ylabel='PRODUCT'>"
      ]
     },
     "execution_count": 7,
     "metadata": {},
     "output_type": "execute_result"
    },
    {
     "data": {
      "image/png": "[encoded data removed]",
      "text/plain": [
       "<Figure size 432x288 with 1 Axes>"
      ]
     },
     "metadata": {
      "needs_background": "light"
     },
     "output_type": "display_data"
    }
   ],
   "source": [
    "df_pivot_diff.sort_values(\"stamp_2\", ascending = False)[\"stamp_2\"].head(10).plot.barh()"
   ]
  },
  {
   "cell_type": "code",
   "execution_count": null,
   "id": "extra-executive",
   "metadata": {
    "papermill": {
     "duration": 0.021995,
     "end_time": "2021-09-01T18:00:09.802295",
     "exception": false,
     "start_time": "2021-09-01T18:00:09.780300",
     "status": "completed"
    },
    "tags": []
   },
   "outputs": [],
   "source": []
  }
 ],
 "metadata": {
  "kernelspec": {
   "display_name": "Python 3",
   "language": "python",
   "name": "python3"
  },
  "language_info": {
   "codemirror_mode": {
    "name": "ipython",
    "version": 3
   },
   "file_extension": ".py",
   "mimetype": "text/x-python",
   "name": "python",
   "nbconvert_exporter": "python",
   "pygments_lexer": "ipython3",
   "version": "3.9.5"
  },
  "papermill": {
   "default_parameters": {},
   "duration": 6.819832,
   "end_time": "2021-09-01T18:00:10.979124",
   "environment_variables": {},
   "exception": null,
   "input_path": "eBay_Overview.ipynb",
   "output_path": "eBay_Overview.ipynb",
   "parameters": {},
   "start_time": "2021-09-01T18:00:04.159292",
   "version": "2.3.3"
  }
 },
 "nbformat": 4,
 "nbformat_minor": 5
}