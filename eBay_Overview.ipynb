{
 "cells": [
  {
   "cell_type": "code",
   "execution_count": 1,
   "id": "reverse-picking",
   "metadata": {
    "execution": {
     "iopub.execute_input": "2021-09-30T05:30:06.806501Z",
     "iopub.status.busy": "2021-09-30T05:30:06.804586Z",
     "iopub.status.idle": "2021-09-30T05:30:07.610717Z",
     "shell.execute_reply": "2021-09-30T05:30:07.612125Z"
    },
    "papermill": {
     "duration": 0.858241,
     "end_time": "2021-09-30T05:30:07.612780",
     "exception": false,
     "start_time": "2021-09-30T05:30:06.754539",
     "status": "completed"
    },
    "tags": []
   },
   "outputs": [],
   "source": [
    "import pandas as pd\n",
    "import sqlite3"
   ]
  },
  {
   "cell_type": "code",
   "execution_count": 2,
   "id": "innovative-syndrome",
   "metadata": {
    "execution": {
     "iopub.execute_input": "2021-09-30T05:30:07.663732Z",
     "iopub.status.busy": "2021-09-30T05:30:07.661782Z",
     "iopub.status.idle": "2021-09-30T05:30:08.079005Z",
     "shell.execute_reply": "2021-09-30T05:30:08.080232Z"
    },
    "papermill": {
     "duration": 0.446639,
     "end_time": "2021-09-30T05:30:08.080630",
     "exception": false,
     "start_time": "2021-09-30T05:30:07.633991",
     "status": "completed"
    },
    "tags": []
   },
   "outputs": [],
   "source": [
    "timestamps = pd.read_sql(\"select distinct record_time from EBAY_TOP_BERLIN order by record_time desc limit 2\", sqlite3.connect(\"UsedObjects.db\"))"
   ]
  },
  {
   "cell_type": "code",
   "execution_count": 3,
   "id": "periodic-identification",
   "metadata": {
    "execution": {
     "iopub.execute_input": "2021-09-30T05:30:08.148997Z",
     "iopub.status.busy": "2021-09-30T05:30:08.146983Z",
     "iopub.status.idle": "2021-09-30T05:30:08.170050Z",
     "shell.execute_reply": "2021-09-30T05:30:08.171330Z"
    },
    "papermill": {
     "duration": 0.068603,
     "end_time": "2021-09-30T05:30:08.171768",
     "exception": false,
     "start_time": "2021-09-30T05:30:08.103165",
     "status": "completed"
    },
    "tags": []
   },
   "outputs": [
    {
     "data": {
      "text/html": [
       "<div>\n",
       "<style scoped>\n",
       "    .dataframe tbody tr th:only-of-type {\n",
       "        vertical-align: middle;\n",
       "    }\n",
       "\n",
       "    .dataframe tbody tr th {\n",
       "        vertical-align: top;\n",
       "    }\n",
       "\n",
       "    .dataframe thead th {\n",
       "        text-align: right;\n",
       "    }\n",
       "</style>\n",
       "<table border=\"1\" class=\"dataframe\">\n",
       "  <thead>\n",
       "    <tr style=\"text-align: right;\">\n",
       "      <th></th>\n",
       "      <th>RECORD_TIME</th>\n",
       "    </tr>\n",
       "  </thead>\n",
       "  <tbody>\n",
       "    <tr>\n",
       "      <th>0</th>\n",
       "      <td>2021-09-30 07:30</td>\n",
       "    </tr>\n",
       "    <tr>\n",
       "      <th>1</th>\n",
       "      <td>2021-09-30 07:00</td>\n",
       "    </tr>\n",
       "  </tbody>\n",
       "</table>\n",
       "</div>"
      ],
      "text/plain": [
       "        RECORD_TIME\n",
       "0  2021-09-30 07:30\n",
       "1  2021-09-30 07:00"
      ]
     },
     "execution_count": 3,
     "metadata": {},
     "output_type": "execute_result"
    }
   ],
   "source": [
    "timestamps"
   ]
  },
  {
   "cell_type": "code",
   "execution_count": 4,
   "id": "alternate-victory",
   "metadata": {
    "execution": {
     "iopub.execute_input": "2021-09-30T05:30:08.224874Z",
     "iopub.status.busy": "2021-09-30T05:30:08.222646Z",
     "iopub.status.idle": "2021-09-30T05:30:08.842502Z",
     "shell.execute_reply": "2021-09-30T05:30:08.843807Z"
    },
    "papermill": {
     "duration": 0.649702,
     "end_time": "2021-09-30T05:30:08.844215",
     "exception": false,
     "start_time": "2021-09-30T05:30:08.194513",
     "status": "completed"
    },
    "tags": []
   },
   "outputs": [],
   "source": [
    "df = pd.read_sql(\"select * from EBAY_TOP_BERLIN where record_time in (select distinct record_time from EBAY_TOP_BERLIN order by record_time desc limit 2)\", sqlite3.connect(\"UsedObjects.db\"))"
   ]
  },
  {
   "cell_type": "code",
   "execution_count": 5,
   "id": "popular-active",
   "metadata": {
    "execution": {
     "iopub.execute_input": "2021-09-30T05:30:08.907385Z",
     "iopub.status.busy": "2021-09-30T05:30:08.905058Z",
     "iopub.status.idle": "2021-09-30T05:30:08.932438Z",
     "shell.execute_reply": "2021-09-30T05:30:08.933650Z"
    },
    "papermill": {
     "duration": 0.067308,
     "end_time": "2021-09-30T05:30:08.934045",
     "exception": false,
     "start_time": "2021-09-30T05:30:08.866737",
     "status": "completed"
    },
    "tags": []
   },
   "outputs": [],
   "source": [
    "df_pivot = df.pivot_table(index=\"PRODUCT\", columns = \"RECORD_TIME\", values = \"LISTING_COUNT\")"
   ]
  },
  {
   "cell_type": "code",
   "execution_count": 6,
   "id": "union-huntington",
   "metadata": {
    "execution": {
     "iopub.execute_input": "2021-09-30T05:30:08.990518Z",
     "iopub.status.busy": "2021-09-30T05:30:08.988469Z",
     "iopub.status.idle": "2021-09-30T05:30:08.993748Z",
     "shell.execute_reply": "2021-09-30T05:30:08.995013Z"
    },
    "papermill": {
     "duration": 0.03992,
     "end_time": "2021-09-30T05:30:08.995448",
     "exception": false,
     "start_time": "2021-09-30T05:30:08.955528",
     "status": "completed"
    },
    "tags": []
   },
   "outputs": [],
   "source": [
    "df_pivot.columns = [\"stamp_1\", \"stamp_2\"]\n",
    "df_pivot_diff = df_pivot.diff(axis=1)"
   ]
  },
  {
   "cell_type": "code",
   "execution_count": 7,
   "id": "fifth-motion",
   "metadata": {
    "execution": {
     "iopub.execute_input": "2021-09-30T05:30:09.052555Z",
     "iopub.status.busy": "2021-09-30T05:30:09.050000Z",
     "iopub.status.idle": "2021-09-30T05:30:10.568520Z",
     "shell.execute_reply": "2021-09-30T05:30:10.569807Z"
    },
    "papermill": {
     "duration": 1.551777,
     "end_time": "2021-09-30T05:30:10.570219",
     "exception": false,
     "start_time": "2021-09-30T05:30:09.018442",
     "status": "completed"
    },
    "tags": []
   },
   "outputs": [
    {
     "data": {
      "text/plain": [
       "<AxesSubplot:ylabel='PRODUCT'>"
      ]
     },
     "execution_count": 7,
     "metadata": {},
     "output_type": "execute_result"
    },
    {
     "data": {
      "image/png": "[encoded data removed]",
      "text/plain": [
       "<Figure size 432x288 with 1 Axes>"
      ]
     },
     "metadata": {
      "needs_background": "light"
     },
     "output_type": "display_data"
    }
   ],
   "source": [
    "df_pivot_diff.sort_values(\"stamp_2\", ascending = False)[\"stamp_2\"].head(10).plot.barh()"
   ]
  },
  {
   "cell_type": "code",
   "execution_count": null,
   "id": "extra-executive",
   "metadata": {
    "papermill": {
     "duration": 0.022129,
     "end_time": "2021-09-30T05:30:10.616141",
     "exception": false,
     "start_time": "2021-09-30T05:30:10.594012",
     "status": "completed"
    },
    "tags": []
   },
   "outputs": [],
   "source": []
  }
 ],
 "metadata": {
  "kernelspec": {
   "display_name": "Python 3",
   "language": "python",
   "name": "python3"
  },
  "language_info": {
   "codemirror_mode": {
    "name": "ipython",
    "version": 3
   },
   "file_extension": ".py",
   "mimetype": "text/x-python",
   "name": "python",
   "nbconvert_exporter": "python",
   "pygments_lexer": "ipython3",
   "version": "3.9.5"
  },
  "papermill": {
   "default_parameters": {},
   "duration": 7.823784,
   "end_time": "2021-09-30T05:30:12.167124",
   "environment_variables": {},
   "exception": null,
   "input_path": "eBay_Overview.ipynb",
   "output_path": "eBay_Overview.ipynb",
   "parameters": {},
   "start_time": "2021-09-30T05:30:04.343340",
   "version": "2.3.3"
  }
 },
 "nbformat": 4,
 "nbformat_minor": 5
}