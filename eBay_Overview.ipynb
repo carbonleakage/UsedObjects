{
 "cells": [
  {
   "cell_type": "code",
   "execution_count": 1,
   "id": "reverse-picking",
   "metadata": {
    "execution": {
     "iopub.execute_input": "2021-11-24T17:30:08.338439Z",
     "iopub.status.busy": "2021-11-24T17:30:08.336012Z",
     "iopub.status.idle": "2021-11-24T17:30:09.299597Z",
     "shell.execute_reply": "2021-11-24T17:30:09.301227Z"
    },
    "papermill": {
     "duration": 1.012444,
     "end_time": "2021-11-24T17:30:09.301958",
     "exception": false,
     "start_time": "2021-11-24T17:30:08.289514",
     "status": "completed"
    },
    "tags": []
   },
   "outputs": [],
   "source": [
    "import pandas as pd\n",
    "import sqlite3"
   ]
  },
  {
   "cell_type": "code",
   "execution_count": 2,
   "id": "innovative-syndrome",
   "metadata": {
    "execution": {
     "iopub.execute_input": "2021-11-24T17:30:09.365449Z",
     "iopub.status.busy": "2021-11-24T17:30:09.363051Z",
     "iopub.status.idle": "2021-11-24T17:30:10.278527Z",
     "shell.execute_reply": "2021-11-24T17:30:10.280891Z"
    },
    "papermill": {
     "duration": 0.951831,
     "end_time": "2021-11-24T17:30:10.281430",
     "exception": false,
     "start_time": "2021-11-24T17:30:09.329599",
     "status": "completed"
    },
    "tags": []
   },
   "outputs": [],
   "source": [
    "timestamps = pd.read_sql(\"select distinct record_time from EBAY_TOP_BERLIN order by record_time desc limit 2\", sqlite3.connect(\"UsedObjects.db\"))"
   ]
  },
  {
   "cell_type": "code",
   "execution_count": 3,
   "id": "periodic-identification",
   "metadata": {
    "execution": {
     "iopub.execute_input": "2021-11-24T17:30:10.335286Z",
     "iopub.status.busy": "2021-11-24T17:30:10.333347Z",
     "iopub.status.idle": "2021-11-24T17:30:10.384407Z",
     "shell.execute_reply": "2021-11-24T17:30:10.385873Z"
    },
    "papermill": {
     "duration": 0.085627,
     "end_time": "2021-11-24T17:30:10.386351",
     "exception": false,
     "start_time": "2021-11-24T17:30:10.300724",
     "status": "completed"
    },
    "tags": []
   },
   "outputs": [
    {
     "data": {
      "text/html": [
       "<div>\n",
       "<style scoped>\n",
       "    .dataframe tbody tr th:only-of-type {\n",
       "        vertical-align: middle;\n",
       "    }\n",
       "\n",
       "    .dataframe tbody tr th {\n",
       "        vertical-align: top;\n",
       "    }\n",
       "\n",
       "    .dataframe thead th {\n",
       "        text-align: right;\n",
       "    }\n",
       "</style>\n",
       "<table border=\"1\" class=\"dataframe\">\n",
       "  <thead>\n",
       "    <tr style=\"text-align: right;\">\n",
       "      <th></th>\n",
       "      <th>RECORD_TIME</th>\n",
       "    </tr>\n",
       "  </thead>\n",
       "  <tbody>\n",
       "    <tr>\n",
       "      <th>0</th>\n",
       "      <td>2021-11-24 18:30</td>\n",
       "    </tr>\n",
       "    <tr>\n",
       "      <th>1</th>\n",
       "      <td>2021-11-24 18:00</td>\n",
       "    </tr>\n",
       "  </tbody>\n",
       "</table>\n",
       "</div>"
      ],
      "text/plain": [
       "        RECORD_TIME\n",
       "0  2021-11-24 18:30\n",
       "1  2021-11-24 18:00"
      ]
     },
     "execution_count": 3,
     "metadata": {},
     "output_type": "execute_result"
    }
   ],
   "source": [
    "timestamps"
   ]
  },
  {
   "cell_type": "code",
   "execution_count": 4,
   "id": "alternate-victory",
   "metadata": {
    "execution": {
     "iopub.execute_input": "2021-11-24T17:30:10.442117Z",
     "iopub.status.busy": "2021-11-24T17:30:10.439750Z",
     "iopub.status.idle": "2021-11-24T17:30:11.771074Z",
     "shell.execute_reply": "2021-11-24T17:30:11.772288Z"
    },
    "papermill": {
     "duration": 1.364493,
     "end_time": "2021-11-24T17:30:11.772737",
     "exception": false,
     "start_time": "2021-11-24T17:30:10.408244",
     "status": "completed"
    },
    "tags": []
   },
   "outputs": [],
   "source": [
    "df = pd.read_sql(\"select * from EBAY_TOP_BERLIN where record_time in (select distinct record_time from EBAY_TOP_BERLIN order by record_time desc limit 2)\", sqlite3.connect(\"UsedObjects.db\"))"
   ]
  },
  {
   "cell_type": "code",
   "execution_count": 5,
   "id": "popular-active",
   "metadata": {
    "execution": {
     "iopub.execute_input": "2021-11-24T17:30:11.825984Z",
     "iopub.status.busy": "2021-11-24T17:30:11.823790Z",
     "iopub.status.idle": "2021-11-24T17:30:11.866990Z",
     "shell.execute_reply": "2021-11-24T17:30:11.868314Z"
    },
    "papermill": {
     "duration": 0.073485,
     "end_time": "2021-11-24T17:30:11.868905",
     "exception": false,
     "start_time": "2021-11-24T17:30:11.795420",
     "status": "completed"
    },
    "tags": []
   },
   "outputs": [],
   "source": [
    "df_pivot = df.pivot_table(index=\"PRODUCT\", columns = \"RECORD_TIME\", values = \"LISTING_COUNT\")"
   ]
  },
  {
   "cell_type": "code",
   "execution_count": 6,
   "id": "union-huntington",
   "metadata": {
    "execution": {
     "iopub.execute_input": "2021-11-24T17:30:11.926983Z",
     "iopub.status.busy": "2021-11-24T17:30:11.924734Z",
     "iopub.status.idle": "2021-11-24T17:30:11.930513Z",
     "shell.execute_reply": "2021-11-24T17:30:11.931876Z"
    },
    "papermill": {
     "duration": 0.043582,
     "end_time": "2021-11-24T17:30:11.932352",
     "exception": false,
     "start_time": "2021-11-24T17:30:11.888770",
     "status": "completed"
    },
    "tags": []
   },
   "outputs": [],
   "source": [
    "df_pivot.columns = [\"stamp_1\", \"stamp_2\"]\n",
    "df_pivot_diff = df_pivot.diff(axis=1)"
   ]
  },
  {
   "cell_type": "code",
   "execution_count": 7,
   "id": "fifth-motion",
   "metadata": {
    "execution": {
     "iopub.execute_input": "2021-11-24T17:30:11.992094Z",
     "iopub.status.busy": "2021-11-24T17:30:11.989626Z",
     "iopub.status.idle": "2021-11-24T17:30:14.015986Z",
     "shell.execute_reply": "2021-11-24T17:30:14.017548Z"
    },
    "papermill": {
     "duration": 2.064267,
     "end_time": "2021-11-24T17:30:14.018079",
     "exception": false,
     "start_time": "2021-11-24T17:30:11.953812",
     "status": "completed"
    },
    "tags": []
   },
   "outputs": [
    {
     "data": {
      "text/plain": [
       "<AxesSubplot:ylabel='PRODUCT'>"
      ]
     },
     "execution_count": 7,
     "metadata": {},
     "output_type": "execute_result"
    },
    {
     "data": {
      "image/png": "[encoded data removed]",
      "text/plain": [
       "<Figure size 432x288 with 1 Axes>"
      ]
     },
     "metadata": {
      "needs_background": "light"
     },
     "output_type": "display_data"
    }
   ],
   "source": [
    "df_pivot_diff.sort_values(\"stamp_2\", ascending = False)[\"stamp_2\"].head(10).plot.barh()"
   ]
  },
  {
   "cell_type": "code",
   "execution_count": null,
   "id": "extra-executive",
   "metadata": {
    "papermill": {
     "duration": 0.022077,
     "end_time": "2021-11-24T17:30:14.064871",
     "exception": false,
     "start_time": "2021-11-24T17:30:14.042794",
     "status": "completed"
    },
    "tags": []
   },
   "outputs": [],
   "source": []
  }
 ],
 "metadata": {
  "kernelspec": {
   "display_name": "Python 3",
   "language": "python",
   "name": "python3"
  },
  "language_info": {
   "codemirror_mode": {
    "name": "ipython",
    "version": 3
   },
   "file_extension": ".py",
   "mimetype": "text/x-python",
   "name": "python",
   "nbconvert_exporter": "python",
   "pygments_lexer": "ipython3",
   "version": "3.9.5"
  },
  "papermill": {
   "default_parameters": {},
   "duration": 9.939587,
   "end_time": "2021-11-24T17:30:15.466857",
   "environment_variables": {},
   "exception": null,
   "input_path": "eBay_Overview.ipynb",
   "output_path": "eBay_Overview.ipynb",
   "parameters": {},
   "start_time": "2021-11-24T17:30:05.527270",
   "version": "2.3.3"
  }
 },
 "nbformat": 4,
 "nbformat_minor": 5
}