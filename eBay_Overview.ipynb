{
 "cells": [
  {
   "cell_type": "code",
   "execution_count": 1,
   "id": "reverse-picking",
   "metadata": {
    "execution": {
     "iopub.execute_input": "2021-10-02T19:30:07.112594Z",
     "iopub.status.busy": "2021-10-02T19:30:07.110580Z",
     "iopub.status.idle": "2021-10-02T19:30:07.915549Z",
     "shell.execute_reply": "2021-10-02T19:30:07.916798Z"
    },
    "papermill": {
     "duration": 0.857013,
     "end_time": "2021-10-02T19:30:07.917450",
     "exception": false,
     "start_time": "2021-10-02T19:30:07.060437",
     "status": "completed"
    },
    "tags": []
   },
   "outputs": [],
   "source": [
    "import pandas as pd\n",
    "import sqlite3"
   ]
  },
  {
   "cell_type": "code",
   "execution_count": 2,
   "id": "innovative-syndrome",
   "metadata": {
    "execution": {
     "iopub.execute_input": "2021-10-02T19:30:07.967414Z",
     "iopub.status.busy": "2021-10-02T19:30:07.965487Z",
     "iopub.status.idle": "2021-10-02T19:30:08.392644Z",
     "shell.execute_reply": "2021-10-02T19:30:08.393823Z"
    },
    "papermill": {
     "duration": 0.456494,
     "end_time": "2021-10-02T19:30:08.394213",
     "exception": false,
     "start_time": "2021-10-02T19:30:07.937719",
     "status": "completed"
    },
    "tags": []
   },
   "outputs": [],
   "source": [
    "timestamps = pd.read_sql(\"select distinct record_time from EBAY_TOP_BERLIN order by record_time desc limit 2\", sqlite3.connect(\"UsedObjects.db\"))"
   ]
  },
  {
   "cell_type": "code",
   "execution_count": 3,
   "id": "periodic-identification",
   "metadata": {
    "execution": {
     "iopub.execute_input": "2021-10-02T19:30:08.458631Z",
     "iopub.status.busy": "2021-10-02T19:30:08.456638Z",
     "iopub.status.idle": "2021-10-02T19:30:08.476706Z",
     "shell.execute_reply": "2021-10-02T19:30:08.478202Z"
    },
    "papermill": {
     "duration": 0.063457,
     "end_time": "2021-10-02T19:30:08.478717",
     "exception": false,
     "start_time": "2021-10-02T19:30:08.415260",
     "status": "completed"
    },
    "tags": []
   },
   "outputs": [
    {
     "data": {
      "text/html": [
       "<div>\n",
       "<style scoped>\n",
       "    .dataframe tbody tr th:only-of-type {\n",
       "        vertical-align: middle;\n",
       "    }\n",
       "\n",
       "    .dataframe tbody tr th {\n",
       "        vertical-align: top;\n",
       "    }\n",
       "\n",
       "    .dataframe thead th {\n",
       "        text-align: right;\n",
       "    }\n",
       "</style>\n",
       "<table border=\"1\" class=\"dataframe\">\n",
       "  <thead>\n",
       "    <tr style=\"text-align: right;\">\n",
       "      <th></th>\n",
       "      <th>RECORD_TIME</th>\n",
       "    </tr>\n",
       "  </thead>\n",
       "  <tbody>\n",
       "    <tr>\n",
       "      <th>0</th>\n",
       "      <td>2021-10-02 21:30</td>\n",
       "    </tr>\n",
       "    <tr>\n",
       "      <th>1</th>\n",
       "      <td>2021-10-02 21:00</td>\n",
       "    </tr>\n",
       "  </tbody>\n",
       "</table>\n",
       "</div>"
      ],
      "text/plain": [
       "        RECORD_TIME\n",
       "0  2021-10-02 21:30\n",
       "1  2021-10-02 21:00"
      ]
     },
     "execution_count": 3,
     "metadata": {},
     "output_type": "execute_result"
    }
   ],
   "source": [
    "timestamps"
   ]
  },
  {
   "cell_type": "code",
   "execution_count": 4,
   "id": "alternate-victory",
   "metadata": {
    "execution": {
     "iopub.execute_input": "2021-10-02T19:30:08.531628Z",
     "iopub.status.busy": "2021-10-02T19:30:08.529702Z",
     "iopub.status.idle": "2021-10-02T19:30:09.169431Z",
     "shell.execute_reply": "2021-10-02T19:30:09.170702Z"
    },
    "papermill": {
     "duration": 0.669722,
     "end_time": "2021-10-02T19:30:09.171196",
     "exception": false,
     "start_time": "2021-10-02T19:30:08.501474",
     "status": "completed"
    },
    "tags": []
   },
   "outputs": [],
   "source": [
    "df = pd.read_sql(\"select * from EBAY_TOP_BERLIN where record_time in (select distinct record_time from EBAY_TOP_BERLIN order by record_time desc limit 2)\", sqlite3.connect(\"UsedObjects.db\"))"
   ]
  },
  {
   "cell_type": "code",
   "execution_count": 5,
   "id": "popular-active",
   "metadata": {
    "execution": {
     "iopub.execute_input": "2021-10-02T19:30:09.240949Z",
     "iopub.status.busy": "2021-10-02T19:30:09.229013Z",
     "iopub.status.idle": "2021-10-02T19:30:09.257760Z",
     "shell.execute_reply": "2021-10-02T19:30:09.259417Z"
    },
    "papermill": {
     "duration": 0.068639,
     "end_time": "2021-10-02T19:30:09.259897",
     "exception": false,
     "start_time": "2021-10-02T19:30:09.191258",
     "status": "completed"
    },
    "tags": []
   },
   "outputs": [],
   "source": [
    "df_pivot = df.pivot_table(index=\"PRODUCT\", columns = \"RECORD_TIME\", values = \"LISTING_COUNT\")"
   ]
  },
  {
   "cell_type": "code",
   "execution_count": 6,
   "id": "union-huntington",
   "metadata": {
    "execution": {
     "iopub.execute_input": "2021-10-02T19:30:09.318337Z",
     "iopub.status.busy": "2021-10-02T19:30:09.316063Z",
     "iopub.status.idle": "2021-10-02T19:30:09.321815Z",
     "shell.execute_reply": "2021-10-02T19:30:09.323124Z"
    },
    "papermill": {
     "duration": 0.041565,
     "end_time": "2021-10-02T19:30:09.323537",
     "exception": false,
     "start_time": "2021-10-02T19:30:09.281972",
     "status": "completed"
    },
    "tags": []
   },
   "outputs": [],
   "source": [
    "df_pivot.columns = [\"stamp_1\", \"stamp_2\"]\n",
    "df_pivot_diff = df_pivot.diff(axis=1)"
   ]
  },
  {
   "cell_type": "code",
   "execution_count": 7,
   "id": "fifth-motion",
   "metadata": {
    "execution": {
     "iopub.execute_input": "2021-10-02T19:30:09.377942Z",
     "iopub.status.busy": "2021-10-02T19:30:09.375686Z",
     "iopub.status.idle": "2021-10-02T19:30:10.884374Z",
     "shell.execute_reply": "2021-10-02T19:30:10.885667Z"
    },
    "papermill": {
     "duration": 1.541997,
     "end_time": "2021-10-02T19:30:10.886078",
     "exception": false,
     "start_time": "2021-10-02T19:30:09.344081",
     "status": "completed"
    },
    "tags": []
   },
   "outputs": [
    {
     "data": {
      "text/plain": [
       "<AxesSubplot:ylabel='PRODUCT'>"
      ]
     },
     "execution_count": 7,
     "metadata": {},
     "output_type": "execute_result"
    },
    {
     "data": {
      "image/png": "[encoded data removed]",
      "text/plain": [
       "<Figure size 432x288 with 1 Axes>"
      ]
     },
     "metadata": {
      "needs_background": "light"
     },
     "output_type": "display_data"
    }
   ],
   "source": [
    "df_pivot_diff.sort_values(\"stamp_2\", ascending = False)[\"stamp_2\"].head(10).plot.barh()"
   ]
  },
  {
   "cell_type": "code",
   "execution_count": null,
   "id": "extra-executive",
   "metadata": {
    "papermill": {
     "duration": 0.022214,
     "end_time": "2021-10-02T19:30:10.932051",
     "exception": false,
     "start_time": "2021-10-02T19:30:10.909837",
     "status": "completed"
    },
    "tags": []
   },
   "outputs": [],
   "source": []
  }
 ],
 "metadata": {
  "kernelspec": {
   "display_name": "Python 3",
   "language": "python",
   "name": "python3"
  },
  "language_info": {
   "codemirror_mode": {
    "name": "ipython",
    "version": 3
   },
   "file_extension": ".py",
   "mimetype": "text/x-python",
   "name": "python",
   "nbconvert_exporter": "python",
   "pygments_lexer": "ipython3",
   "version": "3.9.5"
  },
  "papermill": {
   "default_parameters": {},
   "duration": 7.827577,
   "end_time": "2021-10-02T19:30:12.488780",
   "environment_variables": {},
   "exception": null,
   "input_path": "eBay_Overview.ipynb",
   "output_path": "eBay_Overview.ipynb",
   "parameters": {},
   "start_time": "2021-10-02T19:30:04.661203",
   "version": "2.3.3"
  }
 },
 "nbformat": 4,
 "nbformat_minor": 5
}