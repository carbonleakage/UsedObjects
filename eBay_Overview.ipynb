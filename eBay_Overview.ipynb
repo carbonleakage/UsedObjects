{
 "cells": [
  {
   "cell_type": "code",
   "execution_count": 1,
   "id": "reverse-picking",
   "metadata": {
    "execution": {
     "iopub.execute_input": "2021-11-19T05:00:07.221434Z",
     "iopub.status.busy": "2021-11-19T05:00:07.219151Z",
     "iopub.status.idle": "2021-11-19T05:00:08.165509Z",
     "shell.execute_reply": "2021-11-19T05:00:08.167050Z"
    },
    "papermill": {
     "duration": 0.994582,
     "end_time": "2021-11-19T05:00:08.167781",
     "exception": false,
     "start_time": "2021-11-19T05:00:07.173199",
     "status": "completed"
    },
    "tags": []
   },
   "outputs": [],
   "source": [
    "import pandas as pd\n",
    "import sqlite3"
   ]
  },
  {
   "cell_type": "code",
   "execution_count": 2,
   "id": "innovative-syndrome",
   "metadata": {
    "execution": {
     "iopub.execute_input": "2021-11-19T05:00:08.226722Z",
     "iopub.status.busy": "2021-11-19T05:00:08.224314Z",
     "iopub.status.idle": "2021-11-19T05:00:09.106781Z",
     "shell.execute_reply": "2021-11-19T05:00:09.108243Z"
    },
    "papermill": {
     "duration": 0.919013,
     "end_time": "2021-11-19T05:00:09.108806",
     "exception": false,
     "start_time": "2021-11-19T05:00:08.189793",
     "status": "completed"
    },
    "tags": []
   },
   "outputs": [],
   "source": [
    "timestamps = pd.read_sql(\"select distinct record_time from EBAY_TOP_BERLIN order by record_time desc limit 2\", sqlite3.connect(\"UsedObjects.db\"))"
   ]
  },
  {
   "cell_type": "code",
   "execution_count": 3,
   "id": "periodic-identification",
   "metadata": {
    "execution": {
     "iopub.execute_input": "2021-11-19T05:00:09.182073Z",
     "iopub.status.busy": "2021-11-19T05:00:09.179274Z",
     "iopub.status.idle": "2021-11-19T05:00:09.201991Z",
     "shell.execute_reply": "2021-11-19T05:00:09.203427Z"
    },
    "papermill": {
     "duration": 0.074568,
     "end_time": "2021-11-19T05:00:09.203929",
     "exception": false,
     "start_time": "2021-11-19T05:00:09.129361",
     "status": "completed"
    },
    "tags": []
   },
   "outputs": [
    {
     "data": {
      "text/html": [
       "<div>\n",
       "<style scoped>\n",
       "    .dataframe tbody tr th:only-of-type {\n",
       "        vertical-align: middle;\n",
       "    }\n",
       "\n",
       "    .dataframe tbody tr th {\n",
       "        vertical-align: top;\n",
       "    }\n",
       "\n",
       "    .dataframe thead th {\n",
       "        text-align: right;\n",
       "    }\n",
       "</style>\n",
       "<table border=\"1\" class=\"dataframe\">\n",
       "  <thead>\n",
       "    <tr style=\"text-align: right;\">\n",
       "      <th></th>\n",
       "      <th>RECORD_TIME</th>\n",
       "    </tr>\n",
       "  </thead>\n",
       "  <tbody>\n",
       "    <tr>\n",
       "      <th>0</th>\n",
       "      <td>2021-11-19 06:00</td>\n",
       "    </tr>\n",
       "    <tr>\n",
       "      <th>1</th>\n",
       "      <td>2021-11-19 05:30</td>\n",
       "    </tr>\n",
       "  </tbody>\n",
       "</table>\n",
       "</div>"
      ],
      "text/plain": [
       "        RECORD_TIME\n",
       "0  2021-11-19 06:00\n",
       "1  2021-11-19 05:30"
      ]
     },
     "execution_count": 3,
     "metadata": {},
     "output_type": "execute_result"
    }
   ],
   "source": [
    "timestamps"
   ]
  },
  {
   "cell_type": "code",
   "execution_count": 4,
   "id": "alternate-victory",
   "metadata": {
    "execution": {
     "iopub.execute_input": "2021-11-19T05:00:09.260165Z",
     "iopub.status.busy": "2021-11-19T05:00:09.257966Z",
     "iopub.status.idle": "2021-11-19T05:00:10.520342Z",
     "shell.execute_reply": "2021-11-19T05:00:10.523233Z"
    },
    "papermill": {
     "duration": 1.297938,
     "end_time": "2021-11-19T05:00:10.523727",
     "exception": false,
     "start_time": "2021-11-19T05:00:09.225789",
     "status": "completed"
    },
    "tags": []
   },
   "outputs": [],
   "source": [
    "df = pd.read_sql(\"select * from EBAY_TOP_BERLIN where record_time in (select distinct record_time from EBAY_TOP_BERLIN order by record_time desc limit 2)\", sqlite3.connect(\"UsedObjects.db\"))"
   ]
  },
  {
   "cell_type": "code",
   "execution_count": 5,
   "id": "popular-active",
   "metadata": {
    "execution": {
     "iopub.execute_input": "2021-11-19T05:00:10.586249Z",
     "iopub.status.busy": "2021-11-19T05:00:10.583838Z",
     "iopub.status.idle": "2021-11-19T05:00:10.618901Z",
     "shell.execute_reply": "2021-11-19T05:00:10.620453Z"
    },
    "papermill": {
     "duration": 0.075556,
     "end_time": "2021-11-19T05:00:10.621045",
     "exception": false,
     "start_time": "2021-11-19T05:00:10.545489",
     "status": "completed"
    },
    "tags": []
   },
   "outputs": [],
   "source": [
    "df_pivot = df.pivot_table(index=\"PRODUCT\", columns = \"RECORD_TIME\", values = \"LISTING_COUNT\")"
   ]
  },
  {
   "cell_type": "code",
   "execution_count": 6,
   "id": "union-huntington",
   "metadata": {
    "execution": {
     "iopub.execute_input": "2021-11-19T05:00:10.681998Z",
     "iopub.status.busy": "2021-11-19T05:00:10.679668Z",
     "iopub.status.idle": "2021-11-19T05:00:10.685621Z",
     "shell.execute_reply": "2021-11-19T05:00:10.687168Z"
    },
    "papermill": {
     "duration": 0.045403,
     "end_time": "2021-11-19T05:00:10.687648",
     "exception": false,
     "start_time": "2021-11-19T05:00:10.642245",
     "status": "completed"
    },
    "tags": []
   },
   "outputs": [],
   "source": [
    "df_pivot.columns = [\"stamp_1\", \"stamp_2\"]\n",
    "df_pivot_diff = df_pivot.diff(axis=1)"
   ]
  },
  {
   "cell_type": "code",
   "execution_count": 7,
   "id": "fifth-motion",
   "metadata": {
    "execution": {
     "iopub.execute_input": "2021-11-19T05:00:10.746865Z",
     "iopub.status.busy": "2021-11-19T05:00:10.744242Z",
     "iopub.status.idle": "2021-11-19T05:00:12.479082Z",
     "shell.execute_reply": "2021-11-19T05:00:12.480405Z"
    },
    "papermill": {
     "duration": 1.771674,
     "end_time": "2021-11-19T05:00:12.480935",
     "exception": false,
     "start_time": "2021-11-19T05:00:10.709261",
     "status": "completed"
    },
    "tags": []
   },
   "outputs": [
    {
     "data": {
      "text/plain": [
       "<AxesSubplot:ylabel='PRODUCT'>"
      ]
     },
     "execution_count": 7,
     "metadata": {},
     "output_type": "execute_result"
    },
    {
     "data": {
      "image/png": "[encoded data removed]",
      "text/plain": [
       "<Figure size 432x288 with 1 Axes>"
      ]
     },
     "metadata": {
      "needs_background": "light"
     },
     "output_type": "display_data"
    }
   ],
   "source": [
    "df_pivot_diff.sort_values(\"stamp_2\", ascending = False)[\"stamp_2\"].head(10).plot.barh()"
   ]
  },
  {
   "cell_type": "code",
   "execution_count": null,
   "id": "extra-executive",
   "metadata": {
    "papermill": {
     "duration": 0.023655,
     "end_time": "2021-11-19T05:00:12.528308",
     "exception": false,
     "start_time": "2021-11-19T05:00:12.504653",
     "status": "completed"
    },
    "tags": []
   },
   "outputs": [],
   "source": []
  }
 ],
 "metadata": {
  "kernelspec": {
   "display_name": "Python 3",
   "language": "python",
   "name": "python3"
  },
  "language_info": {
   "codemirror_mode": {
    "name": "ipython",
    "version": 3
   },
   "file_extension": ".py",
   "mimetype": "text/x-python",
   "name": "python",
   "nbconvert_exporter": "python",
   "pygments_lexer": "ipython3",
   "version": "3.9.5"
  },
  "papermill": {
   "default_parameters": {},
   "duration": 8.874503,
   "end_time": "2021-11-19T05:00:13.274267",
   "environment_variables": {},
   "exception": null,
   "input_path": "eBay_Overview.ipynb",
   "output_path": "eBay_Overview.ipynb",
   "parameters": {},
   "start_time": "2021-11-19T05:00:04.399764",
   "version": "2.3.3"
  }
 },
 "nbformat": 4,
 "nbformat_minor": 5
}