{
 "cells": [
  {
   "cell_type": "code",
   "execution_count": 1,
   "id": "reverse-picking",
   "metadata": {
    "execution": {
     "iopub.execute_input": "2021-11-10T20:00:08.392969Z",
     "iopub.status.busy": "2021-11-10T20:00:08.390575Z",
     "iopub.status.idle": "2021-11-10T20:00:09.357041Z",
     "shell.execute_reply": "2021-11-10T20:00:09.355130Z"
    },
    "papermill": {
     "duration": 1.013846,
     "end_time": "2021-11-10T20:00:09.357512",
     "exception": false,
     "start_time": "2021-11-10T20:00:08.343666",
     "status": "completed"
    },
    "tags": []
   },
   "outputs": [],
   "source": [
    "import pandas as pd\n",
    "import sqlite3"
   ]
  },
  {
   "cell_type": "code",
   "execution_count": 2,
   "id": "innovative-syndrome",
   "metadata": {
    "execution": {
     "iopub.execute_input": "2021-11-10T20:00:09.419581Z",
     "iopub.status.busy": "2021-11-10T20:00:09.417248Z",
     "iopub.status.idle": "2021-11-10T20:00:10.208478Z",
     "shell.execute_reply": "2021-11-10T20:00:10.209696Z"
    },
    "papermill": {
     "duration": 0.824517,
     "end_time": "2021-11-10T20:00:10.210112",
     "exception": false,
     "start_time": "2021-11-10T20:00:09.385595",
     "status": "completed"
    },
    "tags": []
   },
   "outputs": [],
   "source": [
    "timestamps = pd.read_sql(\"select distinct record_time from EBAY_TOP_BERLIN order by record_time desc limit 2\", sqlite3.connect(\"UsedObjects.db\"))"
   ]
  },
  {
   "cell_type": "code",
   "execution_count": 3,
   "id": "periodic-identification",
   "metadata": {
    "execution": {
     "iopub.execute_input": "2021-11-10T20:00:10.279620Z",
     "iopub.status.busy": "2021-11-10T20:00:10.274728Z",
     "iopub.status.idle": "2021-11-10T20:00:10.296484Z",
     "shell.execute_reply": "2021-11-10T20:00:10.298049Z"
    },
    "papermill": {
     "duration": 0.06689,
     "end_time": "2021-11-10T20:00:10.298644",
     "exception": false,
     "start_time": "2021-11-10T20:00:10.231754",
     "status": "completed"
    },
    "tags": []
   },
   "outputs": [
    {
     "data": {
      "text/html": [
       "<div>\n",
       "<style scoped>\n",
       "    .dataframe tbody tr th:only-of-type {\n",
       "        vertical-align: middle;\n",
       "    }\n",
       "\n",
       "    .dataframe tbody tr th {\n",
       "        vertical-align: top;\n",
       "    }\n",
       "\n",
       "    .dataframe thead th {\n",
       "        text-align: right;\n",
       "    }\n",
       "</style>\n",
       "<table border=\"1\" class=\"dataframe\">\n",
       "  <thead>\n",
       "    <tr style=\"text-align: right;\">\n",
       "      <th></th>\n",
       "      <th>RECORD_TIME</th>\n",
       "    </tr>\n",
       "  </thead>\n",
       "  <tbody>\n",
       "    <tr>\n",
       "      <th>0</th>\n",
       "      <td>2021-11-10 21:00</td>\n",
       "    </tr>\n",
       "    <tr>\n",
       "      <th>1</th>\n",
       "      <td>2021-11-10 20:30</td>\n",
       "    </tr>\n",
       "  </tbody>\n",
       "</table>\n",
       "</div>"
      ],
      "text/plain": [
       "        RECORD_TIME\n",
       "0  2021-11-10 21:00\n",
       "1  2021-11-10 20:30"
      ]
     },
     "execution_count": 3,
     "metadata": {},
     "output_type": "execute_result"
    }
   ],
   "source": [
    "timestamps"
   ]
  },
  {
   "cell_type": "code",
   "execution_count": 4,
   "id": "alternate-victory",
   "metadata": {
    "execution": {
     "iopub.execute_input": "2021-11-10T20:00:10.353243Z",
     "iopub.status.busy": "2021-11-10T20:00:10.351072Z",
     "iopub.status.idle": "2021-11-10T20:00:11.495753Z",
     "shell.execute_reply": "2021-11-10T20:00:11.497311Z"
    },
    "papermill": {
     "duration": 1.177651,
     "end_time": "2021-11-10T20:00:11.497795",
     "exception": false,
     "start_time": "2021-11-10T20:00:10.320144",
     "status": "completed"
    },
    "tags": []
   },
   "outputs": [],
   "source": [
    "df = pd.read_sql(\"select * from EBAY_TOP_BERLIN where record_time in (select distinct record_time from EBAY_TOP_BERLIN order by record_time desc limit 2)\", sqlite3.connect(\"UsedObjects.db\"))"
   ]
  },
  {
   "cell_type": "code",
   "execution_count": 5,
   "id": "popular-active",
   "metadata": {
    "execution": {
     "iopub.execute_input": "2021-11-10T20:00:11.569160Z",
     "iopub.status.busy": "2021-11-10T20:00:11.559333Z",
     "iopub.status.idle": "2021-11-10T20:00:11.592578Z",
     "shell.execute_reply": "2021-11-10T20:00:11.594152Z"
    },
    "papermill": {
     "duration": 0.075127,
     "end_time": "2021-11-10T20:00:11.594623",
     "exception": false,
     "start_time": "2021-11-10T20:00:11.519496",
     "status": "completed"
    },
    "tags": []
   },
   "outputs": [],
   "source": [
    "df_pivot = df.pivot_table(index=\"PRODUCT\", columns = \"RECORD_TIME\", values = \"LISTING_COUNT\")"
   ]
  },
  {
   "cell_type": "code",
   "execution_count": 6,
   "id": "union-huntington",
   "metadata": {
    "execution": {
     "iopub.execute_input": "2021-11-10T20:00:11.652663Z",
     "iopub.status.busy": "2021-11-10T20:00:11.650298Z",
     "iopub.status.idle": "2021-11-10T20:00:11.657227Z",
     "shell.execute_reply": "2021-11-10T20:00:11.659145Z"
    },
    "papermill": {
     "duration": 0.045336,
     "end_time": "2021-11-10T20:00:11.659771",
     "exception": false,
     "start_time": "2021-11-10T20:00:11.614435",
     "status": "completed"
    },
    "tags": []
   },
   "outputs": [],
   "source": [
    "df_pivot.columns = [\"stamp_1\", \"stamp_2\"]\n",
    "df_pivot_diff = df_pivot.diff(axis=1)"
   ]
  },
  {
   "cell_type": "code",
   "execution_count": 7,
   "id": "fifth-motion",
   "metadata": {
    "execution": {
     "iopub.execute_input": "2021-11-10T20:00:11.722045Z",
     "iopub.status.busy": "2021-11-10T20:00:11.717914Z",
     "iopub.status.idle": "2021-11-10T20:00:13.688375Z",
     "shell.execute_reply": "2021-11-10T20:00:13.690757Z"
    },
    "papermill": {
     "duration": 2.008655,
     "end_time": "2021-11-10T20:00:13.691749",
     "exception": false,
     "start_time": "2021-11-10T20:00:11.683094",
     "status": "completed"
    },
    "tags": []
   },
   "outputs": [
    {
     "data": {
      "text/plain": [
       "<AxesSubplot:ylabel='PRODUCT'>"
      ]
     },
     "execution_count": 7,
     "metadata": {},
     "output_type": "execute_result"
    },
    {
     "data": {
      "image/png": "[encoded data removed]",
      "text/plain": [
       "<Figure size 432x288 with 1 Axes>"
      ]
     },
     "metadata": {
      "needs_background": "light"
     },
     "output_type": "display_data"
    }
   ],
   "source": [
    "df_pivot_diff.sort_values(\"stamp_2\", ascending = False)[\"stamp_2\"].head(10).plot.barh()"
   ]
  },
  {
   "cell_type": "code",
   "execution_count": null,
   "id": "extra-executive",
   "metadata": {
    "papermill": {
     "duration": 0.02702,
     "end_time": "2021-11-10T20:00:13.752285",
     "exception": false,
     "start_time": "2021-11-10T20:00:13.725265",
     "status": "completed"
    },
    "tags": []
   },
   "outputs": [],
   "source": []
  }
 ],
 "metadata": {
  "kernelspec": {
   "display_name": "Python 3",
   "language": "python",
   "name": "python3"
  },
  "language_info": {
   "codemirror_mode": {
    "name": "ipython",
    "version": 3
   },
   "file_extension": ".py",
   "mimetype": "text/x-python",
   "name": "python",
   "nbconvert_exporter": "python",
   "pygments_lexer": "ipython3",
   "version": "3.9.5"
  },
  "papermill": {
   "default_parameters": {},
   "duration": 8.895704,
   "end_time": "2021-11-10T20:00:14.512965",
   "environment_variables": {},
   "exception": null,
   "input_path": "eBay_Overview.ipynb",
   "output_path": "eBay_Overview.ipynb",
   "parameters": {},
   "start_time": "2021-11-10T20:00:05.617261",
   "version": "2.3.3"
  }
 },
 "nbformat": 4,
 "nbformat_minor": 5
}