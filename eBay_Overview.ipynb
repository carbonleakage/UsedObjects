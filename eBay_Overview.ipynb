{
 "cells": [
  {
   "cell_type": "code",
   "execution_count": 1,
   "id": "reverse-picking",
   "metadata": {
    "execution": {
     "iopub.execute_input": "2021-10-23T06:30:08.278720Z",
     "iopub.status.busy": "2021-10-23T06:30:08.276639Z",
     "iopub.status.idle": "2021-10-23T06:30:09.081402Z",
     "shell.execute_reply": "2021-10-23T06:30:09.082648Z"
    },
    "papermill": {
     "duration": 0.855346,
     "end_time": "2021-10-23T06:30:09.083275",
     "exception": false,
     "start_time": "2021-10-23T06:30:08.227929",
     "status": "completed"
    },
    "tags": []
   },
   "outputs": [],
   "source": [
    "import pandas as pd\n",
    "import sqlite3"
   ]
  },
  {
   "cell_type": "code",
   "execution_count": 2,
   "id": "innovative-syndrome",
   "metadata": {
    "execution": {
     "iopub.execute_input": "2021-10-23T06:30:09.137139Z",
     "iopub.status.busy": "2021-10-23T06:30:09.134742Z",
     "iopub.status.idle": "2021-10-23T06:30:09.754668Z",
     "shell.execute_reply": "2021-10-23T06:30:09.755782Z"
    },
    "papermill": {
     "duration": 0.649651,
     "end_time": "2021-10-23T06:30:09.756186",
     "exception": false,
     "start_time": "2021-10-23T06:30:09.106535",
     "status": "completed"
    },
    "tags": []
   },
   "outputs": [],
   "source": [
    "timestamps = pd.read_sql(\"select distinct record_time from EBAY_TOP_BERLIN order by record_time desc limit 2\", sqlite3.connect(\"UsedObjects.db\"))"
   ]
  },
  {
   "cell_type": "code",
   "execution_count": 3,
   "id": "periodic-identification",
   "metadata": {
    "execution": {
     "iopub.execute_input": "2021-10-23T06:30:09.836226Z",
     "iopub.status.busy": "2021-10-23T06:30:09.834219Z",
     "iopub.status.idle": "2021-10-23T06:30:09.858039Z",
     "shell.execute_reply": "2021-10-23T06:30:09.856356Z"
    },
    "papermill": {
     "duration": 0.072149,
     "end_time": "2021-10-23T06:30:09.858437",
     "exception": false,
     "start_time": "2021-10-23T06:30:09.786288",
     "status": "completed"
    },
    "tags": []
   },
   "outputs": [
    {
     "data": {
      "text/html": [
       "<div>\n",
       "<style scoped>\n",
       "    .dataframe tbody tr th:only-of-type {\n",
       "        vertical-align: middle;\n",
       "    }\n",
       "\n",
       "    .dataframe tbody tr th {\n",
       "        vertical-align: top;\n",
       "    }\n",
       "\n",
       "    .dataframe thead th {\n",
       "        text-align: right;\n",
       "    }\n",
       "</style>\n",
       "<table border=\"1\" class=\"dataframe\">\n",
       "  <thead>\n",
       "    <tr style=\"text-align: right;\">\n",
       "      <th></th>\n",
       "      <th>RECORD_TIME</th>\n",
       "    </tr>\n",
       "  </thead>\n",
       "  <tbody>\n",
       "    <tr>\n",
       "      <th>0</th>\n",
       "      <td>2021-10-23 08:30</td>\n",
       "    </tr>\n",
       "    <tr>\n",
       "      <th>1</th>\n",
       "      <td>2021-10-23 08:00</td>\n",
       "    </tr>\n",
       "  </tbody>\n",
       "</table>\n",
       "</div>"
      ],
      "text/plain": [
       "        RECORD_TIME\n",
       "0  2021-10-23 08:30\n",
       "1  2021-10-23 08:00"
      ]
     },
     "execution_count": 3,
     "metadata": {},
     "output_type": "execute_result"
    }
   ],
   "source": [
    "timestamps"
   ]
  },
  {
   "cell_type": "code",
   "execution_count": 4,
   "id": "alternate-victory",
   "metadata": {
    "execution": {
     "iopub.execute_input": "2021-10-23T06:30:09.910133Z",
     "iopub.status.busy": "2021-10-23T06:30:09.908191Z",
     "iopub.status.idle": "2021-10-23T06:30:10.813818Z",
     "shell.execute_reply": "2021-10-23T06:30:10.815089Z"
    },
    "papermill": {
     "duration": 0.93538,
     "end_time": "2021-10-23T06:30:10.815483",
     "exception": false,
     "start_time": "2021-10-23T06:30:09.880103",
     "status": "completed"
    },
    "tags": []
   },
   "outputs": [],
   "source": [
    "df = pd.read_sql(\"select * from EBAY_TOP_BERLIN where record_time in (select distinct record_time from EBAY_TOP_BERLIN order by record_time desc limit 2)\", sqlite3.connect(\"UsedObjects.db\"))"
   ]
  },
  {
   "cell_type": "code",
   "execution_count": 5,
   "id": "popular-active",
   "metadata": {
    "execution": {
     "iopub.execute_input": "2021-10-23T06:30:10.885198Z",
     "iopub.status.busy": "2021-10-23T06:30:10.873460Z",
     "iopub.status.idle": "2021-10-23T06:30:10.901179Z",
     "shell.execute_reply": "2021-10-23T06:30:10.902459Z"
    },
    "papermill": {
     "duration": 0.066906,
     "end_time": "2021-10-23T06:30:10.902908",
     "exception": false,
     "start_time": "2021-10-23T06:30:10.836002",
     "status": "completed"
    },
    "tags": []
   },
   "outputs": [],
   "source": [
    "df_pivot = df.pivot_table(index=\"PRODUCT\", columns = \"RECORD_TIME\", values = \"LISTING_COUNT\")"
   ]
  },
  {
   "cell_type": "code",
   "execution_count": 6,
   "id": "union-huntington",
   "metadata": {
    "execution": {
     "iopub.execute_input": "2021-10-23T06:30:10.957828Z",
     "iopub.status.busy": "2021-10-23T06:30:10.955742Z",
     "iopub.status.idle": "2021-10-23T06:30:10.962456Z",
     "shell.execute_reply": "2021-10-23T06:30:10.961159Z"
    },
    "papermill": {
     "duration": 0.040183,
     "end_time": "2021-10-23T06:30:10.962819",
     "exception": false,
     "start_time": "2021-10-23T06:30:10.922636",
     "status": "completed"
    },
    "tags": []
   },
   "outputs": [],
   "source": [
    "df_pivot.columns = [\"stamp_1\", \"stamp_2\"]\n",
    "df_pivot_diff = df_pivot.diff(axis=1)"
   ]
  },
  {
   "cell_type": "code",
   "execution_count": 7,
   "id": "fifth-motion",
   "metadata": {
    "execution": {
     "iopub.execute_input": "2021-10-23T06:30:11.016735Z",
     "iopub.status.busy": "2021-10-23T06:30:11.014317Z",
     "iopub.status.idle": "2021-10-23T06:30:12.519374Z",
     "shell.execute_reply": "2021-10-23T06:30:12.520657Z"
    },
    "papermill": {
     "duration": 1.538163,
     "end_time": "2021-10-23T06:30:12.521318",
     "exception": false,
     "start_time": "2021-10-23T06:30:10.983155",
     "status": "completed"
    },
    "tags": []
   },
   "outputs": [
    {
     "data": {
      "text/plain": [
       "<AxesSubplot:ylabel='PRODUCT'>"
      ]
     },
     "execution_count": 7,
     "metadata": {},
     "output_type": "execute_result"
    },
    {
     "data": {
      "image/png": "[encoded data removed]",
      "text/plain": [
       "<Figure size 432x288 with 1 Axes>"
      ]
     },
     "metadata": {
      "needs_background": "light"
     },
     "output_type": "display_data"
    }
   ],
   "source": [
    "df_pivot_diff.sort_values(\"stamp_2\", ascending = False)[\"stamp_2\"].head(10).plot.barh()"
   ]
  },
  {
   "cell_type": "code",
   "execution_count": null,
   "id": "extra-executive",
   "metadata": {
    "papermill": {
     "duration": 0.021967,
     "end_time": "2021-10-23T06:30:12.567730",
     "exception": false,
     "start_time": "2021-10-23T06:30:12.545763",
     "status": "completed"
    },
    "tags": []
   },
   "outputs": [],
   "source": []
  }
 ],
 "metadata": {
  "kernelspec": {
   "display_name": "Python 3",
   "language": "python",
   "name": "python3"
  },
  "language_info": {
   "codemirror_mode": {
    "name": "ipython",
    "version": 3
   },
   "file_extension": ".py",
   "mimetype": "text/x-python",
   "name": "python",
   "nbconvert_exporter": "python",
   "pygments_lexer": "ipython3",
   "version": "3.9.5"
  },
  "papermill": {
   "default_parameters": {},
   "duration": 7.386978,
   "end_time": "2021-10-23T06:30:13.211011",
   "environment_variables": {},
   "exception": null,
   "input_path": "eBay_Overview.ipynb",
   "output_path": "eBay_Overview.ipynb",
   "parameters": {},
   "start_time": "2021-10-23T06:30:05.824033",
   "version": "2.3.3"
  }
 },
 "nbformat": 4,
 "nbformat_minor": 5
}