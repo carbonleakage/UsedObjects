{
 "cells": [
  {
   "cell_type": "code",
   "execution_count": 1,
   "id": "reverse-picking",
   "metadata": {
    "execution": {
     "iopub.execute_input": "2021-11-01T22:00:07.183713Z",
     "iopub.status.busy": "2021-11-01T22:00:07.181356Z",
     "iopub.status.idle": "2021-11-01T22:00:08.125594Z",
     "shell.execute_reply": "2021-11-01T22:00:08.127117Z"
    },
    "papermill": {
     "duration": 0.995206,
     "end_time": "2021-11-01T22:00:08.127841",
     "exception": false,
     "start_time": "2021-11-01T22:00:07.132635",
     "status": "completed"
    },
    "tags": []
   },
   "outputs": [],
   "source": [
    "import pandas as pd\n",
    "import sqlite3"
   ]
  },
  {
   "cell_type": "code",
   "execution_count": 2,
   "id": "innovative-syndrome",
   "metadata": {
    "execution": {
     "iopub.execute_input": "2021-11-01T22:00:08.192544Z",
     "iopub.status.busy": "2021-11-01T22:00:08.190211Z",
     "iopub.status.idle": "2021-11-01T22:00:08.895370Z",
     "shell.execute_reply": "2021-11-01T22:00:08.897020Z"
    },
    "papermill": {
     "duration": 0.73953,
     "end_time": "2021-11-01T22:00:08.897503",
     "exception": false,
     "start_time": "2021-11-01T22:00:08.157973",
     "status": "completed"
    },
    "tags": []
   },
   "outputs": [],
   "source": [
    "timestamps = pd.read_sql(\"select distinct record_time from EBAY_TOP_BERLIN order by record_time desc limit 2\", sqlite3.connect(\"UsedObjects.db\"))"
   ]
  },
  {
   "cell_type": "code",
   "execution_count": 3,
   "id": "periodic-identification",
   "metadata": {
    "execution": {
     "iopub.execute_input": "2021-11-01T22:00:08.972236Z",
     "iopub.status.busy": "2021-11-01T22:00:08.969695Z",
     "iopub.status.idle": "2021-11-01T22:00:08.992862Z",
     "shell.execute_reply": "2021-11-01T22:00:08.994347Z"
    },
    "papermill": {
     "duration": 0.076609,
     "end_time": "2021-11-01T22:00:08.994843",
     "exception": false,
     "start_time": "2021-11-01T22:00:08.918234",
     "status": "completed"
    },
    "tags": []
   },
   "outputs": [
    {
     "data": {
      "text/html": [
       "<div>\n",
       "<style scoped>\n",
       "    .dataframe tbody tr th:only-of-type {\n",
       "        vertical-align: middle;\n",
       "    }\n",
       "\n",
       "    .dataframe tbody tr th {\n",
       "        vertical-align: top;\n",
       "    }\n",
       "\n",
       "    .dataframe thead th {\n",
       "        text-align: right;\n",
       "    }\n",
       "</style>\n",
       "<table border=\"1\" class=\"dataframe\">\n",
       "  <thead>\n",
       "    <tr style=\"text-align: right;\">\n",
       "      <th></th>\n",
       "      <th>RECORD_TIME</th>\n",
       "    </tr>\n",
       "  </thead>\n",
       "  <tbody>\n",
       "    <tr>\n",
       "      <th>0</th>\n",
       "      <td>2021-11-01 23:00</td>\n",
       "    </tr>\n",
       "    <tr>\n",
       "      <th>1</th>\n",
       "      <td>2021-11-01 22:30</td>\n",
       "    </tr>\n",
       "  </tbody>\n",
       "</table>\n",
       "</div>"
      ],
      "text/plain": [
       "        RECORD_TIME\n",
       "0  2021-11-01 23:00\n",
       "1  2021-11-01 22:30"
      ]
     },
     "execution_count": 3,
     "metadata": {},
     "output_type": "execute_result"
    }
   ],
   "source": [
    "timestamps"
   ]
  },
  {
   "cell_type": "code",
   "execution_count": 4,
   "id": "alternate-victory",
   "metadata": {
    "execution": {
     "iopub.execute_input": "2021-11-01T22:00:09.051403Z",
     "iopub.status.busy": "2021-11-01T22:00:09.049291Z",
     "iopub.status.idle": "2021-11-01T22:00:10.065051Z",
     "shell.execute_reply": "2021-11-01T22:00:10.067381Z"
    },
    "papermill": {
     "duration": 1.051113,
     "end_time": "2021-11-01T22:00:10.067906",
     "exception": false,
     "start_time": "2021-11-01T22:00:09.016793",
     "status": "completed"
    },
    "tags": []
   },
   "outputs": [],
   "source": [
    "df = pd.read_sql(\"select * from EBAY_TOP_BERLIN where record_time in (select distinct record_time from EBAY_TOP_BERLIN order by record_time desc limit 2)\", sqlite3.connect(\"UsedObjects.db\"))"
   ]
  },
  {
   "cell_type": "code",
   "execution_count": 5,
   "id": "popular-active",
   "metadata": {
    "execution": {
     "iopub.execute_input": "2021-11-01T22:00:10.141284Z",
     "iopub.status.busy": "2021-11-01T22:00:10.132483Z",
     "iopub.status.idle": "2021-11-01T22:00:10.167319Z",
     "shell.execute_reply": "2021-11-01T22:00:10.168647Z"
    },
    "papermill": {
     "duration": 0.079709,
     "end_time": "2021-11-01T22:00:10.169175",
     "exception": false,
     "start_time": "2021-11-01T22:00:10.089466",
     "status": "completed"
    },
    "tags": []
   },
   "outputs": [],
   "source": [
    "df_pivot = df.pivot_table(index=\"PRODUCT\", columns = \"RECORD_TIME\", values = \"LISTING_COUNT\")"
   ]
  },
  {
   "cell_type": "code",
   "execution_count": 6,
   "id": "union-huntington",
   "metadata": {
    "execution": {
     "iopub.execute_input": "2021-11-01T22:00:10.228362Z",
     "iopub.status.busy": "2021-11-01T22:00:10.226204Z",
     "iopub.status.idle": "2021-11-01T22:00:10.231291Z",
     "shell.execute_reply": "2021-11-01T22:00:10.232636Z"
    },
    "papermill": {
     "duration": 0.043357,
     "end_time": "2021-11-01T22:00:10.233165",
     "exception": false,
     "start_time": "2021-11-01T22:00:10.189808",
     "status": "completed"
    },
    "tags": []
   },
   "outputs": [],
   "source": [
    "df_pivot.columns = [\"stamp_1\", \"stamp_2\"]\n",
    "df_pivot_diff = df_pivot.diff(axis=1)"
   ]
  },
  {
   "cell_type": "code",
   "execution_count": 7,
   "id": "fifth-motion",
   "metadata": {
    "execution": {
     "iopub.execute_input": "2021-11-01T22:00:10.291734Z",
     "iopub.status.busy": "2021-11-01T22:00:10.289082Z",
     "iopub.status.idle": "2021-11-01T22:00:12.214462Z",
     "shell.execute_reply": "2021-11-01T22:00:12.215948Z"
    },
    "papermill": {
     "duration": 1.963032,
     "end_time": "2021-11-01T22:00:12.216447",
     "exception": false,
     "start_time": "2021-11-01T22:00:10.253415",
     "status": "completed"
    },
    "tags": []
   },
   "outputs": [
    {
     "data": {
      "text/plain": [
       "<AxesSubplot:ylabel='PRODUCT'>"
      ]
     },
     "execution_count": 7,
     "metadata": {},
     "output_type": "execute_result"
    },
    {
     "data": {
      "image/png": "[encoded data removed]",
      "text/plain": [
       "<Figure size 432x288 with 1 Axes>"
      ]
     },
     "metadata": {
      "needs_background": "light"
     },
     "output_type": "display_data"
    }
   ],
   "source": [
    "df_pivot_diff.sort_values(\"stamp_2\", ascending = False)[\"stamp_2\"].head(10).plot.barh()"
   ]
  },
  {
   "cell_type": "code",
   "execution_count": null,
   "id": "extra-executive",
   "metadata": {
    "papermill": {
     "duration": 0.02365,
     "end_time": "2021-11-01T22:00:12.265069",
     "exception": false,
     "start_time": "2021-11-01T22:00:12.241419",
     "status": "completed"
    },
    "tags": []
   },
   "outputs": [],
   "source": []
  }
 ],
 "metadata": {
  "kernelspec": {
   "display_name": "Python 3",
   "language": "python",
   "name": "python3"
  },
  "language_info": {
   "codemirror_mode": {
    "name": "ipython",
    "version": 3
   },
   "file_extension": ".py",
   "mimetype": "text/x-python",
   "name": "python",
   "nbconvert_exporter": "python",
   "pygments_lexer": "ipython3",
   "version": "3.9.5"
  },
  "papermill": {
   "default_parameters": {},
   "duration": 8.690481,
   "end_time": "2021-11-01T22:00:13.114123",
   "environment_variables": {},
   "exception": null,
   "input_path": "eBay_Overview.ipynb",
   "output_path": "eBay_Overview.ipynb",
   "parameters": {},
   "start_time": "2021-11-01T22:00:04.423642",
   "version": "2.3.3"
  }
 },
 "nbformat": 4,
 "nbformat_minor": 5
}