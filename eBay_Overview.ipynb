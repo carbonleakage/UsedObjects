{
 "cells": [
  {
   "cell_type": "code",
   "execution_count": 1,
   "id": "reverse-picking",
   "metadata": {
    "execution": {
     "iopub.execute_input": "2021-12-04T18:00:07.705482Z",
     "iopub.status.busy": "2021-12-04T18:00:07.703014Z",
     "iopub.status.idle": "2021-12-04T18:00:08.660111Z",
     "shell.execute_reply": "2021-12-04T18:00:08.661751Z"
    },
    "papermill": {
     "duration": 1.008012,
     "end_time": "2021-12-04T18:00:08.662470",
     "exception": false,
     "start_time": "2021-12-04T18:00:07.654458",
     "status": "completed"
    },
    "tags": []
   },
   "outputs": [],
   "source": [
    "import pandas as pd\n",
    "import sqlite3"
   ]
  },
  {
   "cell_type": "code",
   "execution_count": 2,
   "id": "innovative-syndrome",
   "metadata": {
    "execution": {
     "iopub.execute_input": "2021-12-04T18:00:08.726809Z",
     "iopub.status.busy": "2021-12-04T18:00:08.724172Z",
     "iopub.status.idle": "2021-12-04T18:00:09.709428Z",
     "shell.execute_reply": "2021-12-04T18:00:09.710924Z"
    },
    "papermill": {
     "duration": 1.020991,
     "end_time": "2021-12-04T18:00:09.711392",
     "exception": false,
     "start_time": "2021-12-04T18:00:08.690401",
     "status": "completed"
    },
    "tags": []
   },
   "outputs": [],
   "source": [
    "timestamps = pd.read_sql(\"select distinct record_time from EBAY_TOP_BERLIN order by record_time desc limit 2\", sqlite3.connect(\"UsedObjects.db\"))"
   ]
  },
  {
   "cell_type": "code",
   "execution_count": 3,
   "id": "periodic-identification",
   "metadata": {
    "execution": {
     "iopub.execute_input": "2021-12-04T18:00:09.761010Z",
     "iopub.status.busy": "2021-12-04T18:00:09.758769Z",
     "iopub.status.idle": "2021-12-04T18:00:09.801149Z",
     "shell.execute_reply": "2021-12-04T18:00:09.802680Z"
    },
    "papermill": {
     "duration": 0.07171,
     "end_time": "2021-12-04T18:00:09.803184",
     "exception": false,
     "start_time": "2021-12-04T18:00:09.731474",
     "status": "completed"
    },
    "tags": []
   },
   "outputs": [
    {
     "data": {
      "text/html": [
       "<div>\n",
       "<style scoped>\n",
       "    .dataframe tbody tr th:only-of-type {\n",
       "        vertical-align: middle;\n",
       "    }\n",
       "\n",
       "    .dataframe tbody tr th {\n",
       "        vertical-align: top;\n",
       "    }\n",
       "\n",
       "    .dataframe thead th {\n",
       "        text-align: right;\n",
       "    }\n",
       "</style>\n",
       "<table border=\"1\" class=\"dataframe\">\n",
       "  <thead>\n",
       "    <tr style=\"text-align: right;\">\n",
       "      <th></th>\n",
       "      <th>RECORD_TIME</th>\n",
       "    </tr>\n",
       "  </thead>\n",
       "  <tbody>\n",
       "    <tr>\n",
       "      <th>0</th>\n",
       "      <td>2021-12-04 19:00</td>\n",
       "    </tr>\n",
       "    <tr>\n",
       "      <th>1</th>\n",
       "      <td>2021-12-04 18:30</td>\n",
       "    </tr>\n",
       "  </tbody>\n",
       "</table>\n",
       "</div>"
      ],
      "text/plain": [
       "        RECORD_TIME\n",
       "0  2021-12-04 19:00\n",
       "1  2021-12-04 18:30"
      ]
     },
     "execution_count": 3,
     "metadata": {},
     "output_type": "execute_result"
    }
   ],
   "source": [
    "timestamps"
   ]
  },
  {
   "cell_type": "code",
   "execution_count": 4,
   "id": "alternate-victory",
   "metadata": {
    "execution": {
     "iopub.execute_input": "2021-12-04T18:00:09.861332Z",
     "iopub.status.busy": "2021-12-04T18:00:09.858542Z",
     "iopub.status.idle": "2021-12-04T18:00:11.319461Z",
     "shell.execute_reply": "2021-12-04T18:00:11.321642Z"
    },
    "papermill": {
     "duration": 1.49644,
     "end_time": "2021-12-04T18:00:11.322113",
     "exception": false,
     "start_time": "2021-12-04T18:00:09.825673",
     "status": "completed"
    },
    "tags": []
   },
   "outputs": [],
   "source": [
    "df = pd.read_sql(\"select * from EBAY_TOP_BERLIN where record_time in (select distinct record_time from EBAY_TOP_BERLIN order by record_time desc limit 2)\", sqlite3.connect(\"UsedObjects.db\"))"
   ]
  },
  {
   "cell_type": "code",
   "execution_count": 5,
   "id": "popular-active",
   "metadata": {
    "execution": {
     "iopub.execute_input": "2021-12-04T18:00:11.389501Z",
     "iopub.status.busy": "2021-12-04T18:00:11.384041Z",
     "iopub.status.idle": "2021-12-04T18:00:11.422990Z",
     "shell.execute_reply": "2021-12-04T18:00:11.421345Z"
    },
    "papermill": {
     "duration": 0.080386,
     "end_time": "2021-12-04T18:00:11.423443",
     "exception": false,
     "start_time": "2021-12-04T18:00:11.343057",
     "status": "completed"
    },
    "tags": []
   },
   "outputs": [],
   "source": [
    "df_pivot = df.pivot_table(index=\"PRODUCT\", columns = \"RECORD_TIME\", values = \"LISTING_COUNT\")"
   ]
  },
  {
   "cell_type": "code",
   "execution_count": 6,
   "id": "union-huntington",
   "metadata": {
    "execution": {
     "iopub.execute_input": "2021-12-04T18:00:11.491534Z",
     "iopub.status.busy": "2021-12-04T18:00:11.489037Z",
     "iopub.status.idle": "2021-12-04T18:00:11.497513Z",
     "shell.execute_reply": "2021-12-04T18:00:11.494952Z"
    },
    "papermill": {
     "duration": 0.052656,
     "end_time": "2021-12-04T18:00:11.498012",
     "exception": false,
     "start_time": "2021-12-04T18:00:11.445356",
     "status": "completed"
    },
    "tags": []
   },
   "outputs": [],
   "source": [
    "df_pivot.columns = [\"stamp_1\", \"stamp_2\"]\n",
    "df_pivot_diff = df_pivot.diff(axis=1)"
   ]
  },
  {
   "cell_type": "code",
   "execution_count": 7,
   "id": "fifth-motion",
   "metadata": {
    "execution": {
     "iopub.execute_input": "2021-12-04T18:00:11.556803Z",
     "iopub.status.busy": "2021-12-04T18:00:11.554268Z",
     "iopub.status.idle": "2021-12-04T18:00:13.188752Z",
     "shell.execute_reply": "2021-12-04T18:00:13.190221Z"
    },
    "papermill": {
     "duration": 1.671055,
     "end_time": "2021-12-04T18:00:13.190660",
     "exception": false,
     "start_time": "2021-12-04T18:00:11.519605",
     "status": "completed"
    },
    "tags": []
   },
   "outputs": [
    {
     "data": {
      "text/plain": [
       "<AxesSubplot:ylabel='PRODUCT'>"
      ]
     },
     "execution_count": 7,
     "metadata": {},
     "output_type": "execute_result"
    },
    {
     "data": {
      "image/png": "[encoded data removed]",
      "text/plain": [
       "<Figure size 432x288 with 1 Axes>"
      ]
     },
     "metadata": {
      "needs_background": "light"
     },
     "output_type": "display_data"
    }
   ],
   "source": [
    "df_pivot_diff.sort_values(\"stamp_2\", ascending = False)[\"stamp_2\"].head(10).plot.barh()"
   ]
  },
  {
   "cell_type": "code",
   "execution_count": null,
   "id": "extra-executive",
   "metadata": {
    "papermill": {
     "duration": 0.022259,
     "end_time": "2021-12-04T18:00:13.237846",
     "exception": false,
     "start_time": "2021-12-04T18:00:13.215587",
     "status": "completed"
    },
    "tags": []
   },
   "outputs": [],
   "source": []
  }
 ],
 "metadata": {
  "kernelspec": {
   "display_name": "Python 3",
   "language": "python",
   "name": "python3"
  },
  "language_info": {
   "codemirror_mode": {
    "name": "ipython",
    "version": 3
   },
   "file_extension": ".py",
   "mimetype": "text/x-python",
   "name": "python",
   "nbconvert_exporter": "python",
   "pygments_lexer": "ipython3",
   "version": "3.9.5"
  },
  "papermill": {
   "default_parameters": {},
   "duration": 9.944562,
   "end_time": "2021-12-04T18:00:14.865211",
   "environment_variables": {},
   "exception": null,
   "input_path": "eBay_Overview.ipynb",
   "output_path": "eBay_Overview.ipynb",
   "parameters": {},
   "start_time": "2021-12-04T18:00:04.920649",
   "version": "2.3.3"
  }
 },
 "nbformat": 4,
 "nbformat_minor": 5
}