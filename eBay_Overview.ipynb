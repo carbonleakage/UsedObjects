{
 "cells": [
  {
   "cell_type": "code",
   "execution_count": 1,
   "id": "reverse-picking",
   "metadata": {
    "execution": {
     "iopub.execute_input": "2021-11-09T04:00:07.596638Z",
     "iopub.status.busy": "2021-11-09T04:00:07.594240Z",
     "iopub.status.idle": "2021-11-09T04:00:08.541617Z",
     "shell.execute_reply": "2021-11-09T04:00:08.543326Z"
    },
    "papermill": {
     "duration": 0.997181,
     "end_time": "2021-11-09T04:00:08.544077",
     "exception": false,
     "start_time": "2021-11-09T04:00:07.546896",
     "status": "completed"
    },
    "tags": []
   },
   "outputs": [],
   "source": [
    "import pandas as pd\n",
    "import sqlite3"
   ]
  },
  {
   "cell_type": "code",
   "execution_count": 2,
   "id": "innovative-syndrome",
   "metadata": {
    "execution": {
     "iopub.execute_input": "2021-11-09T04:00:08.613047Z",
     "iopub.status.busy": "2021-11-09T04:00:08.610547Z",
     "iopub.status.idle": "2021-11-09T04:00:09.379463Z",
     "shell.execute_reply": "2021-11-09T04:00:09.381763Z"
    },
    "papermill": {
     "duration": 0.805013,
     "end_time": "2021-11-09T04:00:09.382274",
     "exception": false,
     "start_time": "2021-11-09T04:00:08.577261",
     "status": "completed"
    },
    "tags": []
   },
   "outputs": [],
   "source": [
    "timestamps = pd.read_sql(\"select distinct record_time from EBAY_TOP_BERLIN order by record_time desc limit 2\", sqlite3.connect(\"UsedObjects.db\"))"
   ]
  },
  {
   "cell_type": "code",
   "execution_count": 3,
   "id": "periodic-identification",
   "metadata": {
    "execution": {
     "iopub.execute_input": "2021-11-09T04:00:09.452401Z",
     "iopub.status.busy": "2021-11-09T04:00:09.450063Z",
     "iopub.status.idle": "2021-11-09T04:00:09.472953Z",
     "shell.execute_reply": "2021-11-09T04:00:09.474509Z"
    },
    "papermill": {
     "duration": 0.072934,
     "end_time": "2021-11-09T04:00:09.475026",
     "exception": false,
     "start_time": "2021-11-09T04:00:09.402092",
     "status": "completed"
    },
    "tags": []
   },
   "outputs": [
    {
     "data": {
      "text/html": [
       "<div>\n",
       "<style scoped>\n",
       "    .dataframe tbody tr th:only-of-type {\n",
       "        vertical-align: middle;\n",
       "    }\n",
       "\n",
       "    .dataframe tbody tr th {\n",
       "        vertical-align: top;\n",
       "    }\n",
       "\n",
       "    .dataframe thead th {\n",
       "        text-align: right;\n",
       "    }\n",
       "</style>\n",
       "<table border=\"1\" class=\"dataframe\">\n",
       "  <thead>\n",
       "    <tr style=\"text-align: right;\">\n",
       "      <th></th>\n",
       "      <th>RECORD_TIME</th>\n",
       "    </tr>\n",
       "  </thead>\n",
       "  <tbody>\n",
       "    <tr>\n",
       "      <th>0</th>\n",
       "      <td>2021-11-09 05:00</td>\n",
       "    </tr>\n",
       "    <tr>\n",
       "      <th>1</th>\n",
       "      <td>2021-11-09 04:30</td>\n",
       "    </tr>\n",
       "  </tbody>\n",
       "</table>\n",
       "</div>"
      ],
      "text/plain": [
       "        RECORD_TIME\n",
       "0  2021-11-09 05:00\n",
       "1  2021-11-09 04:30"
      ]
     },
     "execution_count": 3,
     "metadata": {},
     "output_type": "execute_result"
    }
   ],
   "source": [
    "timestamps"
   ]
  },
  {
   "cell_type": "code",
   "execution_count": 4,
   "id": "alternate-victory",
   "metadata": {
    "execution": {
     "iopub.execute_input": "2021-11-09T04:00:09.531486Z",
     "iopub.status.busy": "2021-11-09T04:00:09.529474Z",
     "iopub.status.idle": "2021-11-09T04:00:10.653506Z",
     "shell.execute_reply": "2021-11-09T04:00:10.655056Z"
    },
    "papermill": {
     "duration": 1.158892,
     "end_time": "2021-11-09T04:00:10.655548",
     "exception": false,
     "start_time": "2021-11-09T04:00:09.496656",
     "status": "completed"
    },
    "tags": []
   },
   "outputs": [],
   "source": [
    "df = pd.read_sql(\"select * from EBAY_TOP_BERLIN where record_time in (select distinct record_time from EBAY_TOP_BERLIN order by record_time desc limit 2)\", sqlite3.connect(\"UsedObjects.db\"))"
   ]
  },
  {
   "cell_type": "code",
   "execution_count": 5,
   "id": "popular-active",
   "metadata": {
    "execution": {
     "iopub.execute_input": "2021-11-09T04:00:10.727108Z",
     "iopub.status.busy": "2021-11-09T04:00:10.719424Z",
     "iopub.status.idle": "2021-11-09T04:00:10.754647Z",
     "shell.execute_reply": "2021-11-09T04:00:10.756628Z"
    },
    "papermill": {
     "duration": 0.079795,
     "end_time": "2021-11-09T04:00:10.757203",
     "exception": false,
     "start_time": "2021-11-09T04:00:10.677408",
     "status": "completed"
    },
    "tags": []
   },
   "outputs": [],
   "source": [
    "df_pivot = df.pivot_table(index=\"PRODUCT\", columns = \"RECORD_TIME\", values = \"LISTING_COUNT\")"
   ]
  },
  {
   "cell_type": "code",
   "execution_count": 6,
   "id": "union-huntington",
   "metadata": {
    "execution": {
     "iopub.execute_input": "2021-11-09T04:00:10.819095Z",
     "iopub.status.busy": "2021-11-09T04:00:10.816791Z",
     "iopub.status.idle": "2021-11-09T04:00:10.822849Z",
     "shell.execute_reply": "2021-11-09T04:00:10.824358Z"
    },
    "papermill": {
     "duration": 0.046035,
     "end_time": "2021-11-09T04:00:10.824890",
     "exception": false,
     "start_time": "2021-11-09T04:00:10.778855",
     "status": "completed"
    },
    "tags": []
   },
   "outputs": [],
   "source": [
    "df_pivot.columns = [\"stamp_1\", \"stamp_2\"]\n",
    "df_pivot_diff = df_pivot.diff(axis=1)"
   ]
  },
  {
   "cell_type": "code",
   "execution_count": 7,
   "id": "fifth-motion",
   "metadata": {
    "execution": {
     "iopub.execute_input": "2021-11-09T04:00:10.884835Z",
     "iopub.status.busy": "2021-11-09T04:00:10.881625Z",
     "iopub.status.idle": "2021-11-09T04:00:12.634546Z",
     "shell.execute_reply": "2021-11-09T04:00:12.636003Z"
    },
    "papermill": {
     "duration": 1.790024,
     "end_time": "2021-11-09T04:00:12.636446",
     "exception": false,
     "start_time": "2021-11-09T04:00:10.846422",
     "status": "completed"
    },
    "tags": []
   },
   "outputs": [
    {
     "data": {
      "text/plain": [
       "<AxesSubplot:ylabel='PRODUCT'>"
      ]
     },
     "execution_count": 7,
     "metadata": {},
     "output_type": "execute_result"
    },
    {
     "data": {
      "image/png": "[encoded data removed]",
      "text/plain": [
       "<Figure size 432x288 with 1 Axes>"
      ]
     },
     "metadata": {
      "needs_background": "light"
     },
     "output_type": "display_data"
    }
   ],
   "source": [
    "df_pivot_diff.sort_values(\"stamp_2\", ascending = False)[\"stamp_2\"].head(10).plot.barh()"
   ]
  },
  {
   "cell_type": "code",
   "execution_count": null,
   "id": "extra-executive",
   "metadata": {
    "papermill": {
     "duration": 0.023375,
     "end_time": "2021-11-09T04:00:12.684223",
     "exception": false,
     "start_time": "2021-11-09T04:00:12.660848",
     "status": "completed"
    },
    "tags": []
   },
   "outputs": [],
   "source": []
  }
 ],
 "metadata": {
  "kernelspec": {
   "display_name": "Python 3",
   "language": "python",
   "name": "python3"
  },
  "language_info": {
   "codemirror_mode": {
    "name": "ipython",
    "version": 3
   },
   "file_extension": ".py",
   "mimetype": "text/x-python",
   "name": "python",
   "nbconvert_exporter": "python",
   "pygments_lexer": "ipython3",
   "version": "3.9.5"
  },
  "papermill": {
   "default_parameters": {},
   "duration": 8.782276,
   "end_time": "2021-11-09T04:00:13.534437",
   "environment_variables": {},
   "exception": null,
   "input_path": "eBay_Overview.ipynb",
   "output_path": "eBay_Overview.ipynb",
   "parameters": {},
   "start_time": "2021-11-09T04:00:04.752161",
   "version": "2.3.3"
  }
 },
 "nbformat": 4,
 "nbformat_minor": 5
}