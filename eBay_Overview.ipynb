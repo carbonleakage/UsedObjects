{
 "cells": [
  {
   "cell_type": "code",
   "execution_count": 1,
   "id": "reverse-picking",
   "metadata": {
    "execution": {
     "iopub.execute_input": "2021-10-13T06:30:07.225654Z",
     "iopub.status.busy": "2021-10-13T06:30:07.223660Z",
     "iopub.status.idle": "2021-10-13T06:30:08.021776Z",
     "shell.execute_reply": "2021-10-13T06:30:08.023066Z"
    },
    "papermill": {
     "duration": 0.85018,
     "end_time": "2021-10-13T06:30:08.023694",
     "exception": false,
     "start_time": "2021-10-13T06:30:07.173514",
     "status": "completed"
    },
    "tags": []
   },
   "outputs": [],
   "source": [
    "import pandas as pd\n",
    "import sqlite3"
   ]
  },
  {
   "cell_type": "code",
   "execution_count": 2,
   "id": "innovative-syndrome",
   "metadata": {
    "execution": {
     "iopub.execute_input": "2021-10-13T06:30:08.077596Z",
     "iopub.status.busy": "2021-10-13T06:30:08.075187Z",
     "iopub.status.idle": "2021-10-13T06:30:08.609361Z",
     "shell.execute_reply": "2021-10-13T06:30:08.610593Z"
    },
    "papermill": {
     "duration": 0.564516,
     "end_time": "2021-10-13T06:30:08.610995",
     "exception": false,
     "start_time": "2021-10-13T06:30:08.046479",
     "status": "completed"
    },
    "tags": []
   },
   "outputs": [],
   "source": [
    "timestamps = pd.read_sql(\"select distinct record_time from EBAY_TOP_BERLIN order by record_time desc limit 2\", sqlite3.connect(\"UsedObjects.db\"))"
   ]
  },
  {
   "cell_type": "code",
   "execution_count": 3,
   "id": "periodic-identification",
   "metadata": {
    "execution": {
     "iopub.execute_input": "2021-10-13T06:30:08.676555Z",
     "iopub.status.busy": "2021-10-13T06:30:08.674507Z",
     "iopub.status.idle": "2021-10-13T06:30:08.694195Z",
     "shell.execute_reply": "2021-10-13T06:30:08.695462Z"
    },
    "papermill": {
     "duration": 0.065147,
     "end_time": "2021-10-13T06:30:08.695866",
     "exception": false,
     "start_time": "2021-10-13T06:30:08.630719",
     "status": "completed"
    },
    "tags": []
   },
   "outputs": [
    {
     "data": {
      "text/html": [
       "<div>\n",
       "<style scoped>\n",
       "    .dataframe tbody tr th:only-of-type {\n",
       "        vertical-align: middle;\n",
       "    }\n",
       "\n",
       "    .dataframe tbody tr th {\n",
       "        vertical-align: top;\n",
       "    }\n",
       "\n",
       "    .dataframe thead th {\n",
       "        text-align: right;\n",
       "    }\n",
       "</style>\n",
       "<table border=\"1\" class=\"dataframe\">\n",
       "  <thead>\n",
       "    <tr style=\"text-align: right;\">\n",
       "      <th></th>\n",
       "      <th>RECORD_TIME</th>\n",
       "    </tr>\n",
       "  </thead>\n",
       "  <tbody>\n",
       "    <tr>\n",
       "      <th>0</th>\n",
       "      <td>2021-10-13 08:30</td>\n",
       "    </tr>\n",
       "    <tr>\n",
       "      <th>1</th>\n",
       "      <td>2021-10-13 08:00</td>\n",
       "    </tr>\n",
       "  </tbody>\n",
       "</table>\n",
       "</div>"
      ],
      "text/plain": [
       "        RECORD_TIME\n",
       "0  2021-10-13 08:30\n",
       "1  2021-10-13 08:00"
      ]
     },
     "execution_count": 3,
     "metadata": {},
     "output_type": "execute_result"
    }
   ],
   "source": [
    "timestamps"
   ]
  },
  {
   "cell_type": "code",
   "execution_count": 4,
   "id": "alternate-victory",
   "metadata": {
    "execution": {
     "iopub.execute_input": "2021-10-13T06:30:08.750359Z",
     "iopub.status.busy": "2021-10-13T06:30:08.747957Z",
     "iopub.status.idle": "2021-10-13T06:30:09.520489Z",
     "shell.execute_reply": "2021-10-13T06:30:09.521810Z"
    },
    "papermill": {
     "duration": 0.803347,
     "end_time": "2021-10-13T06:30:09.522220",
     "exception": false,
     "start_time": "2021-10-13T06:30:08.718873",
     "status": "completed"
    },
    "tags": []
   },
   "outputs": [],
   "source": [
    "df = pd.read_sql(\"select * from EBAY_TOP_BERLIN where record_time in (select distinct record_time from EBAY_TOP_BERLIN order by record_time desc limit 2)\", sqlite3.connect(\"UsedObjects.db\"))"
   ]
  },
  {
   "cell_type": "code",
   "execution_count": 5,
   "id": "popular-active",
   "metadata": {
    "execution": {
     "iopub.execute_input": "2021-10-13T06:30:09.595631Z",
     "iopub.status.busy": "2021-10-13T06:30:09.584288Z",
     "iopub.status.idle": "2021-10-13T06:30:09.611936Z",
     "shell.execute_reply": "2021-10-13T06:30:09.613236Z"
    },
    "papermill": {
     "duration": 0.068416,
     "end_time": "2021-10-13T06:30:09.613645",
     "exception": false,
     "start_time": "2021-10-13T06:30:09.545229",
     "status": "completed"
    },
    "tags": []
   },
   "outputs": [],
   "source": [
    "df_pivot = df.pivot_table(index=\"PRODUCT\", columns = \"RECORD_TIME\", values = \"LISTING_COUNT\")"
   ]
  },
  {
   "cell_type": "code",
   "execution_count": 6,
   "id": "union-huntington",
   "metadata": {
    "execution": {
     "iopub.execute_input": "2021-10-13T06:30:09.673147Z",
     "iopub.status.busy": "2021-10-13T06:30:09.670836Z",
     "iopub.status.idle": "2021-10-13T06:30:09.676591Z",
     "shell.execute_reply": "2021-10-13T06:30:09.677958Z"
    },
    "papermill": {
     "duration": 0.04209,
     "end_time": "2021-10-13T06:30:09.678378",
     "exception": false,
     "start_time": "2021-10-13T06:30:09.636288",
     "status": "completed"
    },
    "tags": []
   },
   "outputs": [],
   "source": [
    "df_pivot.columns = [\"stamp_1\", \"stamp_2\"]\n",
    "df_pivot_diff = df_pivot.diff(axis=1)"
   ]
  },
  {
   "cell_type": "code",
   "execution_count": 7,
   "id": "fifth-motion",
   "metadata": {
    "execution": {
     "iopub.execute_input": "2021-10-13T06:30:09.732086Z",
     "iopub.status.busy": "2021-10-13T06:30:09.729885Z",
     "iopub.status.idle": "2021-10-13T06:30:11.193307Z",
     "shell.execute_reply": "2021-10-13T06:30:11.194516Z"
    },
    "papermill": {
     "duration": 1.496283,
     "end_time": "2021-10-13T06:30:11.194955",
     "exception": false,
     "start_time": "2021-10-13T06:30:09.698672",
     "status": "completed"
    },
    "tags": []
   },
   "outputs": [
    {
     "data": {
      "text/plain": [
       "<AxesSubplot:ylabel='PRODUCT'>"
      ]
     },
     "execution_count": 7,
     "metadata": {},
     "output_type": "execute_result"
    },
    {
     "data": {
      "image/png": "[encoded data removed]",
      "text/plain": [
       "<Figure size 432x288 with 1 Axes>"
      ]
     },
     "metadata": {
      "needs_background": "light"
     },
     "output_type": "display_data"
    }
   ],
   "source": [
    "df_pivot_diff.sort_values(\"stamp_2\", ascending = False)[\"stamp_2\"].head(10).plot.barh()"
   ]
  },
  {
   "cell_type": "code",
   "execution_count": null,
   "id": "extra-executive",
   "metadata": {
    "papermill": {
     "duration": 0.022395,
     "end_time": "2021-10-13T06:30:11.243880",
     "exception": false,
     "start_time": "2021-10-13T06:30:11.221485",
     "status": "completed"
    },
    "tags": []
   },
   "outputs": [],
   "source": []
  }
 ],
 "metadata": {
  "kernelspec": {
   "display_name": "Python 3",
   "language": "python",
   "name": "python3"
  },
  "language_info": {
   "codemirror_mode": {
    "name": "ipython",
    "version": 3
   },
   "file_extension": ".py",
   "mimetype": "text/x-python",
   "name": "python",
   "nbconvert_exporter": "python",
   "pygments_lexer": "ipython3",
   "version": "3.9.5"
  },
  "papermill": {
   "default_parameters": {},
   "duration": 7.819882,
   "end_time": "2021-10-13T06:30:12.589642",
   "environment_variables": {},
   "exception": null,
   "input_path": "eBay_Overview.ipynb",
   "output_path": "eBay_Overview.ipynb",
   "parameters": {},
   "start_time": "2021-10-13T06:30:04.769760",
   "version": "2.3.3"
  }
 },
 "nbformat": 4,
 "nbformat_minor": 5
}