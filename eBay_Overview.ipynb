{
 "cells": [
  {
   "cell_type": "code",
   "execution_count": 1,
   "id": "reverse-picking",
   "metadata": {
    "execution": {
     "iopub.execute_input": "2021-10-25T09:30:07.066985Z",
     "iopub.status.busy": "2021-10-25T09:30:07.065021Z",
     "iopub.status.idle": "2021-10-25T09:30:07.877717Z",
     "shell.execute_reply": "2021-10-25T09:30:07.879001Z"
    },
    "papermill": {
     "duration": 0.865533,
     "end_time": "2021-10-25T09:30:07.879627",
     "exception": false,
     "start_time": "2021-10-25T09:30:07.014094",
     "status": "completed"
    },
    "tags": []
   },
   "outputs": [],
   "source": [
    "import pandas as pd\n",
    "import sqlite3"
   ]
  },
  {
   "cell_type": "code",
   "execution_count": 2,
   "id": "innovative-syndrome",
   "metadata": {
    "execution": {
     "iopub.execute_input": "2021-10-25T09:30:07.930765Z",
     "iopub.status.busy": "2021-10-25T09:30:07.928869Z",
     "iopub.status.idle": "2021-10-25T09:30:08.547466Z",
     "shell.execute_reply": "2021-10-25T09:30:08.548793Z"
    },
    "papermill": {
     "duration": 0.648732,
     "end_time": "2021-10-25T09:30:08.549271",
     "exception": false,
     "start_time": "2021-10-25T09:30:07.900539",
     "status": "completed"
    },
    "tags": []
   },
   "outputs": [],
   "source": [
    "timestamps = pd.read_sql(\"select distinct record_time from EBAY_TOP_BERLIN order by record_time desc limit 2\", sqlite3.connect(\"UsedObjects.db\"))"
   ]
  },
  {
   "cell_type": "code",
   "execution_count": 3,
   "id": "periodic-identification",
   "metadata": {
    "execution": {
     "iopub.execute_input": "2021-10-25T09:30:08.624562Z",
     "iopub.status.busy": "2021-10-25T09:30:08.622383Z",
     "iopub.status.idle": "2021-10-25T09:30:08.643747Z",
     "shell.execute_reply": "2021-10-25T09:30:08.642349Z"
    },
    "papermill": {
     "duration": 0.069752,
     "end_time": "2021-10-25T09:30:08.644105",
     "exception": false,
     "start_time": "2021-10-25T09:30:08.574353",
     "status": "completed"
    },
    "tags": []
   },
   "outputs": [
    {
     "data": {
      "text/html": [
       "<div>\n",
       "<style scoped>\n",
       "    .dataframe tbody tr th:only-of-type {\n",
       "        vertical-align: middle;\n",
       "    }\n",
       "\n",
       "    .dataframe tbody tr th {\n",
       "        vertical-align: top;\n",
       "    }\n",
       "\n",
       "    .dataframe thead th {\n",
       "        text-align: right;\n",
       "    }\n",
       "</style>\n",
       "<table border=\"1\" class=\"dataframe\">\n",
       "  <thead>\n",
       "    <tr style=\"text-align: right;\">\n",
       "      <th></th>\n",
       "      <th>RECORD_TIME</th>\n",
       "    </tr>\n",
       "  </thead>\n",
       "  <tbody>\n",
       "    <tr>\n",
       "      <th>0</th>\n",
       "      <td>2021-10-25 11:30</td>\n",
       "    </tr>\n",
       "    <tr>\n",
       "      <th>1</th>\n",
       "      <td>2021-10-25 11:00</td>\n",
       "    </tr>\n",
       "  </tbody>\n",
       "</table>\n",
       "</div>"
      ],
      "text/plain": [
       "        RECORD_TIME\n",
       "0  2021-10-25 11:30\n",
       "1  2021-10-25 11:00"
      ]
     },
     "execution_count": 3,
     "metadata": {},
     "output_type": "execute_result"
    }
   ],
   "source": [
    "timestamps"
   ]
  },
  {
   "cell_type": "code",
   "execution_count": 4,
   "id": "alternate-victory",
   "metadata": {
    "execution": {
     "iopub.execute_input": "2021-10-25T09:30:08.696133Z",
     "iopub.status.busy": "2021-10-25T09:30:08.694089Z",
     "iopub.status.idle": "2021-10-25T09:30:09.594273Z",
     "shell.execute_reply": "2021-10-25T09:30:09.595392Z"
    },
    "papermill": {
     "duration": 0.931058,
     "end_time": "2021-10-25T09:30:09.595808",
     "exception": false,
     "start_time": "2021-10-25T09:30:08.664750",
     "status": "completed"
    },
    "tags": []
   },
   "outputs": [],
   "source": [
    "df = pd.read_sql(\"select * from EBAY_TOP_BERLIN where record_time in (select distinct record_time from EBAY_TOP_BERLIN order by record_time desc limit 2)\", sqlite3.connect(\"UsedObjects.db\"))"
   ]
  },
  {
   "cell_type": "code",
   "execution_count": 5,
   "id": "popular-active",
   "metadata": {
    "execution": {
     "iopub.execute_input": "2021-10-25T09:30:09.667765Z",
     "iopub.status.busy": "2021-10-25T09:30:09.655279Z",
     "iopub.status.idle": "2021-10-25T09:30:09.683922Z",
     "shell.execute_reply": "2021-10-25T09:30:09.685351Z"
    },
    "papermill": {
     "duration": 0.067606,
     "end_time": "2021-10-25T09:30:09.685778",
     "exception": false,
     "start_time": "2021-10-25T09:30:09.618172",
     "status": "completed"
    },
    "tags": []
   },
   "outputs": [],
   "source": [
    "df_pivot = df.pivot_table(index=\"PRODUCT\", columns = \"RECORD_TIME\", values = \"LISTING_COUNT\")"
   ]
  },
  {
   "cell_type": "code",
   "execution_count": 6,
   "id": "union-huntington",
   "metadata": {
    "execution": {
     "iopub.execute_input": "2021-10-25T09:30:09.744827Z",
     "iopub.status.busy": "2021-10-25T09:30:09.742337Z",
     "iopub.status.idle": "2021-10-25T09:30:09.749908Z",
     "shell.execute_reply": "2021-10-25T09:30:09.748361Z"
    },
    "papermill": {
     "duration": 0.042835,
     "end_time": "2021-10-25T09:30:09.750290",
     "exception": false,
     "start_time": "2021-10-25T09:30:09.707455",
     "status": "completed"
    },
    "tags": []
   },
   "outputs": [],
   "source": [
    "df_pivot.columns = [\"stamp_1\", \"stamp_2\"]\n",
    "df_pivot_diff = df_pivot.diff(axis=1)"
   ]
  },
  {
   "cell_type": "code",
   "execution_count": 7,
   "id": "fifth-motion",
   "metadata": {
    "execution": {
     "iopub.execute_input": "2021-10-25T09:30:09.805060Z",
     "iopub.status.busy": "2021-10-25T09:30:09.802685Z",
     "iopub.status.idle": "2021-10-25T09:30:11.270533Z",
     "shell.execute_reply": "2021-10-25T09:30:11.271815Z"
    },
    "papermill": {
     "duration": 1.500551,
     "end_time": "2021-10-25T09:30:11.272240",
     "exception": false,
     "start_time": "2021-10-25T09:30:09.771689",
     "status": "completed"
    },
    "tags": []
   },
   "outputs": [
    {
     "data": {
      "text/plain": [
       "<AxesSubplot:ylabel='PRODUCT'>"
      ]
     },
     "execution_count": 7,
     "metadata": {},
     "output_type": "execute_result"
    },
    {
     "data": {
      "image/png": "[encoded data removed]",
      "text/plain": [
       "<Figure size 432x288 with 1 Axes>"
      ]
     },
     "metadata": {
      "needs_background": "light"
     },
     "output_type": "display_data"
    }
   ],
   "source": [
    "df_pivot_diff.sort_values(\"stamp_2\", ascending = False)[\"stamp_2\"].head(10).plot.barh()"
   ]
  },
  {
   "cell_type": "code",
   "execution_count": null,
   "id": "extra-executive",
   "metadata": {
    "papermill": {
     "duration": 0.022289,
     "end_time": "2021-10-25T09:30:11.319496",
     "exception": false,
     "start_time": "2021-10-25T09:30:11.297207",
     "status": "completed"
    },
    "tags": []
   },
   "outputs": [],
   "source": []
  }
 ],
 "metadata": {
  "kernelspec": {
   "display_name": "Python 3",
   "language": "python",
   "name": "python3"
  },
  "language_info": {
   "codemirror_mode": {
    "name": "ipython",
    "version": 3
   },
   "file_extension": ".py",
   "mimetype": "text/x-python",
   "name": "python",
   "nbconvert_exporter": "python",
   "pygments_lexer": "ipython3",
   "version": "3.9.5"
  },
  "papermill": {
   "default_parameters": {},
   "duration": 7.361014,
   "end_time": "2021-10-25T09:30:11.960563",
   "environment_variables": {},
   "exception": null,
   "input_path": "eBay_Overview.ipynb",
   "output_path": "eBay_Overview.ipynb",
   "parameters": {},
   "start_time": "2021-10-25T09:30:04.599549",
   "version": "2.3.3"
  }
 },
 "nbformat": 4,
 "nbformat_minor": 5
}