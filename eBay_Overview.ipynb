{
 "cells": [
  {
   "cell_type": "code",
   "execution_count": 1,
   "id": "reverse-picking",
   "metadata": {
    "execution": {
     "iopub.execute_input": "2021-11-08T03:30:07.171641Z",
     "iopub.status.busy": "2021-11-08T03:30:07.159915Z",
     "iopub.status.idle": "2021-11-08T03:30:08.127302Z",
     "shell.execute_reply": "2021-11-08T03:30:08.128842Z"
    },
    "papermill": {
     "duration": 1.016522,
     "end_time": "2021-11-08T03:30:08.129598",
     "exception": false,
     "start_time": "2021-11-08T03:30:07.113076",
     "status": "completed"
    },
    "tags": []
   },
   "outputs": [],
   "source": [
    "import pandas as pd\n",
    "import sqlite3"
   ]
  },
  {
   "cell_type": "code",
   "execution_count": 2,
   "id": "innovative-syndrome",
   "metadata": {
    "execution": {
     "iopub.execute_input": "2021-11-08T03:30:08.193759Z",
     "iopub.status.busy": "2021-11-08T03:30:08.191356Z",
     "iopub.status.idle": "2021-11-08T03:30:08.955477Z",
     "shell.execute_reply": "2021-11-08T03:30:08.956931Z"
    },
    "papermill": {
     "duration": 0.797852,
     "end_time": "2021-11-08T03:30:08.957446",
     "exception": false,
     "start_time": "2021-11-08T03:30:08.159594",
     "status": "completed"
    },
    "tags": []
   },
   "outputs": [],
   "source": [
    "timestamps = pd.read_sql(\"select distinct record_time from EBAY_TOP_BERLIN order by record_time desc limit 2\", sqlite3.connect(\"UsedObjects.db\"))"
   ]
  },
  {
   "cell_type": "code",
   "execution_count": 3,
   "id": "periodic-identification",
   "metadata": {
    "execution": {
     "iopub.execute_input": "2021-11-08T03:30:09.034577Z",
     "iopub.status.busy": "2021-11-08T03:30:09.028532Z",
     "iopub.status.idle": "2021-11-08T03:30:09.051137Z",
     "shell.execute_reply": "2021-11-08T03:30:09.052783Z"
    },
    "papermill": {
     "duration": 0.073984,
     "end_time": "2021-11-08T03:30:09.053358",
     "exception": false,
     "start_time": "2021-11-08T03:30:08.979374",
     "status": "completed"
    },
    "tags": []
   },
   "outputs": [
    {
     "data": {
      "text/html": [
       "<div>\n",
       "<style scoped>\n",
       "    .dataframe tbody tr th:only-of-type {\n",
       "        vertical-align: middle;\n",
       "    }\n",
       "\n",
       "    .dataframe tbody tr th {\n",
       "        vertical-align: top;\n",
       "    }\n",
       "\n",
       "    .dataframe thead th {\n",
       "        text-align: right;\n",
       "    }\n",
       "</style>\n",
       "<table border=\"1\" class=\"dataframe\">\n",
       "  <thead>\n",
       "    <tr style=\"text-align: right;\">\n",
       "      <th></th>\n",
       "      <th>RECORD_TIME</th>\n",
       "    </tr>\n",
       "  </thead>\n",
       "  <tbody>\n",
       "    <tr>\n",
       "      <th>0</th>\n",
       "      <td>2021-11-08 04:30</td>\n",
       "    </tr>\n",
       "    <tr>\n",
       "      <th>1</th>\n",
       "      <td>2021-11-08 04:00</td>\n",
       "    </tr>\n",
       "  </tbody>\n",
       "</table>\n",
       "</div>"
      ],
      "text/plain": [
       "        RECORD_TIME\n",
       "0  2021-11-08 04:30\n",
       "1  2021-11-08 04:00"
      ]
     },
     "execution_count": 3,
     "metadata": {},
     "output_type": "execute_result"
    }
   ],
   "source": [
    "timestamps"
   ]
  },
  {
   "cell_type": "code",
   "execution_count": 4,
   "id": "alternate-victory",
   "metadata": {
    "execution": {
     "iopub.execute_input": "2021-11-08T03:30:09.123867Z",
     "iopub.status.busy": "2021-11-08T03:30:09.121700Z",
     "iopub.status.idle": "2021-11-08T03:30:10.215943Z",
     "shell.execute_reply": "2021-11-08T03:30:10.217393Z"
    },
    "papermill": {
     "duration": 1.141673,
     "end_time": "2021-11-08T03:30:10.217882",
     "exception": false,
     "start_time": "2021-11-08T03:30:09.076209",
     "status": "completed"
    },
    "tags": []
   },
   "outputs": [],
   "source": [
    "df = pd.read_sql(\"select * from EBAY_TOP_BERLIN where record_time in (select distinct record_time from EBAY_TOP_BERLIN order by record_time desc limit 2)\", sqlite3.connect(\"UsedObjects.db\"))"
   ]
  },
  {
   "cell_type": "code",
   "execution_count": 5,
   "id": "popular-active",
   "metadata": {
    "execution": {
     "iopub.execute_input": "2021-11-08T03:30:10.278726Z",
     "iopub.status.busy": "2021-11-08T03:30:10.276155Z",
     "iopub.status.idle": "2021-11-08T03:30:10.310370Z",
     "shell.execute_reply": "2021-11-08T03:30:10.313128Z"
    },
    "papermill": {
     "duration": 0.07534,
     "end_time": "2021-11-08T03:30:10.313553",
     "exception": false,
     "start_time": "2021-11-08T03:30:10.238213",
     "status": "completed"
    },
    "tags": []
   },
   "outputs": [],
   "source": [
    "df_pivot = df.pivot_table(index=\"PRODUCT\", columns = \"RECORD_TIME\", values = \"LISTING_COUNT\")"
   ]
  },
  {
   "cell_type": "code",
   "execution_count": 6,
   "id": "union-huntington",
   "metadata": {
    "execution": {
     "iopub.execute_input": "2021-11-08T03:30:10.406551Z",
     "iopub.status.busy": "2021-11-08T03:30:10.404192Z",
     "iopub.status.idle": "2021-11-08T03:30:10.409839Z",
     "shell.execute_reply": "2021-11-08T03:30:10.411339Z"
    },
    "papermill": {
     "duration": 0.05448,
     "end_time": "2021-11-08T03:30:10.411836",
     "exception": false,
     "start_time": "2021-11-08T03:30:10.357356",
     "status": "completed"
    },
    "tags": []
   },
   "outputs": [],
   "source": [
    "df_pivot.columns = [\"stamp_1\", \"stamp_2\"]\n",
    "df_pivot_diff = df_pivot.diff(axis=1)"
   ]
  },
  {
   "cell_type": "code",
   "execution_count": 7,
   "id": "fifth-motion",
   "metadata": {
    "execution": {
     "iopub.execute_input": "2021-11-08T03:30:10.471067Z",
     "iopub.status.busy": "2021-11-08T03:30:10.468308Z",
     "iopub.status.idle": "2021-11-08T03:30:12.238308Z",
     "shell.execute_reply": "2021-11-08T03:30:12.239979Z"
    },
    "papermill": {
     "duration": 1.807614,
     "end_time": "2021-11-08T03:30:12.240576",
     "exception": false,
     "start_time": "2021-11-08T03:30:10.432962",
     "status": "completed"
    },
    "tags": []
   },
   "outputs": [
    {
     "data": {
      "text/plain": [
       "<AxesSubplot:ylabel='PRODUCT'>"
      ]
     },
     "execution_count": 7,
     "metadata": {},
     "output_type": "execute_result"
    },
    {
     "data": {
      "image/png": "[encoded data removed]",
      "text/plain": [
       "<Figure size 432x288 with 1 Axes>"
      ]
     },
     "metadata": {
      "needs_background": "light"
     },
     "output_type": "display_data"
    }
   ],
   "source": [
    "df_pivot_diff.sort_values(\"stamp_2\", ascending = False)[\"stamp_2\"].head(10).plot.barh()"
   ]
  },
  {
   "cell_type": "code",
   "execution_count": null,
   "id": "extra-executive",
   "metadata": {
    "papermill": {
     "duration": 0.023417,
     "end_time": "2021-11-08T03:30:12.288928",
     "exception": false,
     "start_time": "2021-11-08T03:30:12.265511",
     "status": "completed"
    },
    "tags": []
   },
   "outputs": [],
   "source": []
  }
 ],
 "metadata": {
  "kernelspec": {
   "display_name": "Python 3",
   "language": "python",
   "name": "python3"
  },
  "language_info": {
   "codemirror_mode": {
    "name": "ipython",
    "version": 3
   },
   "file_extension": ".py",
   "mimetype": "text/x-python",
   "name": "python",
   "nbconvert_exporter": "python",
   "pygments_lexer": "ipython3",
   "version": "3.9.5"
  },
  "papermill": {
   "default_parameters": {},
   "duration": 8.732568,
   "end_time": "2021-11-08T03:30:13.034690",
   "environment_variables": {},
   "exception": null,
   "input_path": "eBay_Overview.ipynb",
   "output_path": "eBay_Overview.ipynb",
   "parameters": {},
   "start_time": "2021-11-08T03:30:04.302122",
   "version": "2.3.3"
  }
 },
 "nbformat": 4,
 "nbformat_minor": 5
}