{
 "cells": [
  {
   "cell_type": "code",
   "execution_count": 1,
   "id": "reverse-picking",
   "metadata": {
    "execution": {
     "iopub.execute_input": "2021-11-28T01:30:07.541102Z",
     "iopub.status.busy": "2021-11-28T01:30:07.538699Z",
     "iopub.status.idle": "2021-11-28T01:30:08.494863Z",
     "shell.execute_reply": "2021-11-28T01:30:08.496638Z"
    },
    "papermill": {
     "duration": 1.007863,
     "end_time": "2021-11-28T01:30:08.497420",
     "exception": false,
     "start_time": "2021-11-28T01:30:07.489557",
     "status": "completed"
    },
    "tags": []
   },
   "outputs": [],
   "source": [
    "import pandas as pd\n",
    "import sqlite3"
   ]
  },
  {
   "cell_type": "code",
   "execution_count": 2,
   "id": "innovative-syndrome",
   "metadata": {
    "execution": {
     "iopub.execute_input": "2021-11-28T01:30:08.563284Z",
     "iopub.status.busy": "2021-11-28T01:30:08.560858Z",
     "iopub.status.idle": "2021-11-28T01:30:09.513867Z",
     "shell.execute_reply": "2021-11-28T01:30:09.515263Z"
    },
    "papermill": {
     "duration": 0.987053,
     "end_time": "2021-11-28T01:30:09.515703",
     "exception": false,
     "start_time": "2021-11-28T01:30:08.528650",
     "status": "completed"
    },
    "tags": []
   },
   "outputs": [],
   "source": [
    "timestamps = pd.read_sql(\"select distinct record_time from EBAY_TOP_BERLIN order by record_time desc limit 2\", sqlite3.connect(\"UsedObjects.db\"))"
   ]
  },
  {
   "cell_type": "code",
   "execution_count": 3,
   "id": "periodic-identification",
   "metadata": {
    "execution": {
     "iopub.execute_input": "2021-11-28T01:30:09.582921Z",
     "iopub.status.busy": "2021-11-28T01:30:09.580880Z",
     "iopub.status.idle": "2021-11-28T01:30:09.600915Z",
     "shell.execute_reply": "2021-11-28T01:30:09.602235Z"
    },
    "papermill": {
     "duration": 0.067201,
     "end_time": "2021-11-28T01:30:09.602645",
     "exception": false,
     "start_time": "2021-11-28T01:30:09.535444",
     "status": "completed"
    },
    "tags": []
   },
   "outputs": [
    {
     "data": {
      "text/html": [
       "<div>\n",
       "<style scoped>\n",
       "    .dataframe tbody tr th:only-of-type {\n",
       "        vertical-align: middle;\n",
       "    }\n",
       "\n",
       "    .dataframe tbody tr th {\n",
       "        vertical-align: top;\n",
       "    }\n",
       "\n",
       "    .dataframe thead th {\n",
       "        text-align: right;\n",
       "    }\n",
       "</style>\n",
       "<table border=\"1\" class=\"dataframe\">\n",
       "  <thead>\n",
       "    <tr style=\"text-align: right;\">\n",
       "      <th></th>\n",
       "      <th>RECORD_TIME</th>\n",
       "    </tr>\n",
       "  </thead>\n",
       "  <tbody>\n",
       "    <tr>\n",
       "      <th>0</th>\n",
       "      <td>2021-11-28 02:30</td>\n",
       "    </tr>\n",
       "    <tr>\n",
       "      <th>1</th>\n",
       "      <td>2021-11-28 02:00</td>\n",
       "    </tr>\n",
       "  </tbody>\n",
       "</table>\n",
       "</div>"
      ],
      "text/plain": [
       "        RECORD_TIME\n",
       "0  2021-11-28 02:30\n",
       "1  2021-11-28 02:00"
      ]
     },
     "execution_count": 3,
     "metadata": {},
     "output_type": "execute_result"
    }
   ],
   "source": [
    "timestamps"
   ]
  },
  {
   "cell_type": "code",
   "execution_count": 4,
   "id": "alternate-victory",
   "metadata": {
    "execution": {
     "iopub.execute_input": "2021-11-28T01:30:09.653032Z",
     "iopub.status.busy": "2021-11-28T01:30:09.651050Z",
     "iopub.status.idle": "2021-11-28T01:30:11.014638Z",
     "shell.execute_reply": "2021-11-28T01:30:11.016019Z"
    },
    "papermill": {
     "duration": 1.393622,
     "end_time": "2021-11-28T01:30:11.016452",
     "exception": false,
     "start_time": "2021-11-28T01:30:09.622830",
     "status": "completed"
    },
    "tags": []
   },
   "outputs": [],
   "source": [
    "df = pd.read_sql(\"select * from EBAY_TOP_BERLIN where record_time in (select distinct record_time from EBAY_TOP_BERLIN order by record_time desc limit 2)\", sqlite3.connect(\"UsedObjects.db\"))"
   ]
  },
  {
   "cell_type": "code",
   "execution_count": 5,
   "id": "popular-active",
   "metadata": {
    "execution": {
     "iopub.execute_input": "2021-11-28T01:30:11.097149Z",
     "iopub.status.busy": "2021-11-28T01:30:11.083832Z",
     "iopub.status.idle": "2021-11-28T01:30:11.124633Z",
     "shell.execute_reply": "2021-11-28T01:30:11.126448Z"
    },
    "papermill": {
     "duration": 0.086994,
     "end_time": "2021-11-28T01:30:11.127028",
     "exception": false,
     "start_time": "2021-11-28T01:30:11.040034",
     "status": "completed"
    },
    "tags": []
   },
   "outputs": [],
   "source": [
    "df_pivot = df.pivot_table(index=\"PRODUCT\", columns = \"RECORD_TIME\", values = \"LISTING_COUNT\")"
   ]
  },
  {
   "cell_type": "code",
   "execution_count": 6,
   "id": "union-huntington",
   "metadata": {
    "execution": {
     "iopub.execute_input": "2021-11-28T01:30:11.190981Z",
     "iopub.status.busy": "2021-11-28T01:30:11.188331Z",
     "iopub.status.idle": "2021-11-28T01:30:11.194969Z",
     "shell.execute_reply": "2021-11-28T01:30:11.196313Z"
    },
    "papermill": {
     "duration": 0.046666,
     "end_time": "2021-11-28T01:30:11.196833",
     "exception": false,
     "start_time": "2021-11-28T01:30:11.150167",
     "status": "completed"
    },
    "tags": []
   },
   "outputs": [],
   "source": [
    "df_pivot.columns = [\"stamp_1\", \"stamp_2\"]\n",
    "df_pivot_diff = df_pivot.diff(axis=1)"
   ]
  },
  {
   "cell_type": "code",
   "execution_count": 7,
   "id": "fifth-motion",
   "metadata": {
    "execution": {
     "iopub.execute_input": "2021-11-28T01:30:11.253289Z",
     "iopub.status.busy": "2021-11-28T01:30:11.250646Z",
     "iopub.status.idle": "2021-11-28T01:30:13.302241Z",
     "shell.execute_reply": "2021-11-28T01:30:13.304244Z"
    },
    "papermill": {
     "duration": 2.088218,
     "end_time": "2021-11-28T01:30:13.304964",
     "exception": false,
     "start_time": "2021-11-28T01:30:11.216746",
     "status": "completed"
    },
    "tags": []
   },
   "outputs": [
    {
     "data": {
      "text/plain": [
       "<AxesSubplot:ylabel='PRODUCT'>"
      ]
     },
     "execution_count": 7,
     "metadata": {},
     "output_type": "execute_result"
    },
    {
     "data": {
      "image/png": "[encoded data removed]",
      "text/plain": [
       "<Figure size 432x288 with 1 Axes>"
      ]
     },
     "metadata": {
      "needs_background": "light"
     },
     "output_type": "display_data"
    }
   ],
   "source": [
    "df_pivot_diff.sort_values(\"stamp_2\", ascending = False)[\"stamp_2\"].head(10).plot.barh()"
   ]
  },
  {
   "cell_type": "code",
   "execution_count": null,
   "id": "extra-executive",
   "metadata": {
    "papermill": {
     "duration": 0.025031,
     "end_time": "2021-11-28T01:30:13.358941",
     "exception": false,
     "start_time": "2021-11-28T01:30:13.333910",
     "status": "completed"
    },
    "tags": []
   },
   "outputs": [],
   "source": []
  }
 ],
 "metadata": {
  "kernelspec": {
   "display_name": "Python 3",
   "language": "python",
   "name": "python3"
  },
  "language_info": {
   "codemirror_mode": {
    "name": "ipython",
    "version": 3
   },
   "file_extension": ".py",
   "mimetype": "text/x-python",
   "name": "python",
   "nbconvert_exporter": "python",
   "pygments_lexer": "ipython3",
   "version": "3.9.5"
  },
  "papermill": {
   "default_parameters": {},
   "duration": 9.939693,
   "end_time": "2021-11-28T01:30:14.684151",
   "environment_variables": {},
   "exception": null,
   "input_path": "eBay_Overview.ipynb",
   "output_path": "eBay_Overview.ipynb",
   "parameters": {},
   "start_time": "2021-11-28T01:30:04.744458",
   "version": "2.3.3"
  }
 },
 "nbformat": 4,
 "nbformat_minor": 5
}