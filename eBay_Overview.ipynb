{
 "cells": [
  {
   "cell_type": "code",
   "execution_count": 1,
   "id": "reverse-picking",
   "metadata": {
    "execution": {
     "iopub.execute_input": "2021-10-18T09:00:07.159197Z",
     "iopub.status.busy": "2021-10-18T09:00:07.157263Z",
     "iopub.status.idle": "2021-10-18T09:00:07.961692Z",
     "shell.execute_reply": "2021-10-18T09:00:07.962967Z"
    },
    "papermill": {
     "duration": 0.857104,
     "end_time": "2021-10-18T09:00:07.963570",
     "exception": false,
     "start_time": "2021-10-18T09:00:07.106466",
     "status": "completed"
    },
    "tags": []
   },
   "outputs": [],
   "source": [
    "import pandas as pd\n",
    "import sqlite3"
   ]
  },
  {
   "cell_type": "code",
   "execution_count": 2,
   "id": "innovative-syndrome",
   "metadata": {
    "execution": {
     "iopub.execute_input": "2021-10-18T09:00:08.016280Z",
     "iopub.status.busy": "2021-10-18T09:00:08.014279Z",
     "iopub.status.idle": "2021-10-18T09:00:08.586126Z",
     "shell.execute_reply": "2021-10-18T09:00:08.587334Z"
    },
    "papermill": {
     "duration": 0.602564,
     "end_time": "2021-10-18T09:00:08.587728",
     "exception": false,
     "start_time": "2021-10-18T09:00:07.985164",
     "status": "completed"
    },
    "tags": []
   },
   "outputs": [],
   "source": [
    "timestamps = pd.read_sql(\"select distinct record_time from EBAY_TOP_BERLIN order by record_time desc limit 2\", sqlite3.connect(\"UsedObjects.db\"))"
   ]
  },
  {
   "cell_type": "code",
   "execution_count": 3,
   "id": "periodic-identification",
   "metadata": {
    "execution": {
     "iopub.execute_input": "2021-10-18T09:00:08.663789Z",
     "iopub.status.busy": "2021-10-18T09:00:08.661692Z",
     "iopub.status.idle": "2021-10-18T09:00:08.682364Z",
     "shell.execute_reply": "2021-10-18T09:00:08.683577Z"
    },
    "papermill": {
     "duration": 0.070562,
     "end_time": "2021-10-18T09:00:08.683970",
     "exception": false,
     "start_time": "2021-10-18T09:00:08.613408",
     "status": "completed"
    },
    "tags": []
   },
   "outputs": [
    {
     "data": {
      "text/html": [
       "<div>\n",
       "<style scoped>\n",
       "    .dataframe tbody tr th:only-of-type {\n",
       "        vertical-align: middle;\n",
       "    }\n",
       "\n",
       "    .dataframe tbody tr th {\n",
       "        vertical-align: top;\n",
       "    }\n",
       "\n",
       "    .dataframe thead th {\n",
       "        text-align: right;\n",
       "    }\n",
       "</style>\n",
       "<table border=\"1\" class=\"dataframe\">\n",
       "  <thead>\n",
       "    <tr style=\"text-align: right;\">\n",
       "      <th></th>\n",
       "      <th>RECORD_TIME</th>\n",
       "    </tr>\n",
       "  </thead>\n",
       "  <tbody>\n",
       "    <tr>\n",
       "      <th>0</th>\n",
       "      <td>2021-10-18 11:00</td>\n",
       "    </tr>\n",
       "    <tr>\n",
       "      <th>1</th>\n",
       "      <td>2021-10-18 10:30</td>\n",
       "    </tr>\n",
       "  </tbody>\n",
       "</table>\n",
       "</div>"
      ],
      "text/plain": [
       "        RECORD_TIME\n",
       "0  2021-10-18 11:00\n",
       "1  2021-10-18 10:30"
      ]
     },
     "execution_count": 3,
     "metadata": {},
     "output_type": "execute_result"
    }
   ],
   "source": [
    "timestamps"
   ]
  },
  {
   "cell_type": "code",
   "execution_count": 4,
   "id": "alternate-victory",
   "metadata": {
    "execution": {
     "iopub.execute_input": "2021-10-18T09:00:08.738114Z",
     "iopub.status.busy": "2021-10-18T09:00:08.735756Z",
     "iopub.status.idle": "2021-10-18T09:00:09.550020Z",
     "shell.execute_reply": "2021-10-18T09:00:09.551460Z"
    },
    "papermill": {
     "duration": 0.845192,
     "end_time": "2021-10-18T09:00:09.551897",
     "exception": false,
     "start_time": "2021-10-18T09:00:08.706705",
     "status": "completed"
    },
    "tags": []
   },
   "outputs": [],
   "source": [
    "df = pd.read_sql(\"select * from EBAY_TOP_BERLIN where record_time in (select distinct record_time from EBAY_TOP_BERLIN order by record_time desc limit 2)\", sqlite3.connect(\"UsedObjects.db\"))"
   ]
  },
  {
   "cell_type": "code",
   "execution_count": 5,
   "id": "popular-active",
   "metadata": {
    "execution": {
     "iopub.execute_input": "2021-10-18T09:00:09.623845Z",
     "iopub.status.busy": "2021-10-18T09:00:09.617514Z",
     "iopub.status.idle": "2021-10-18T09:00:09.638741Z",
     "shell.execute_reply": "2021-10-18T09:00:09.639951Z"
    },
    "papermill": {
     "duration": 0.067086,
     "end_time": "2021-10-18T09:00:09.640344",
     "exception": false,
     "start_time": "2021-10-18T09:00:09.573258",
     "status": "completed"
    },
    "tags": []
   },
   "outputs": [],
   "source": [
    "df_pivot = df.pivot_table(index=\"PRODUCT\", columns = \"RECORD_TIME\", values = \"LISTING_COUNT\")"
   ]
  },
  {
   "cell_type": "code",
   "execution_count": 6,
   "id": "union-huntington",
   "metadata": {
    "execution": {
     "iopub.execute_input": "2021-10-18T09:00:09.700614Z",
     "iopub.status.busy": "2021-10-18T09:00:09.698174Z",
     "iopub.status.idle": "2021-10-18T09:00:09.704013Z",
     "shell.execute_reply": "2021-10-18T09:00:09.705368Z"
    },
    "papermill": {
     "duration": 0.042736,
     "end_time": "2021-10-18T09:00:09.705787",
     "exception": false,
     "start_time": "2021-10-18T09:00:09.663051",
     "status": "completed"
    },
    "tags": []
   },
   "outputs": [],
   "source": [
    "df_pivot.columns = [\"stamp_1\", \"stamp_2\"]\n",
    "df_pivot_diff = df_pivot.diff(axis=1)"
   ]
  },
  {
   "cell_type": "code",
   "execution_count": 7,
   "id": "fifth-motion",
   "metadata": {
    "execution": {
     "iopub.execute_input": "2021-10-18T09:00:09.760118Z",
     "iopub.status.busy": "2021-10-18T09:00:09.757960Z",
     "iopub.status.idle": "2021-10-18T09:00:11.262292Z",
     "shell.execute_reply": "2021-10-18T09:00:11.263579Z"
    },
    "papermill": {
     "duration": 1.537213,
     "end_time": "2021-10-18T09:00:11.263988",
     "exception": false,
     "start_time": "2021-10-18T09:00:09.726775",
     "status": "completed"
    },
    "tags": []
   },
   "outputs": [
    {
     "data": {
      "text/plain": [
       "<AxesSubplot:ylabel='PRODUCT'>"
      ]
     },
     "execution_count": 7,
     "metadata": {},
     "output_type": "execute_result"
    },
    {
     "data": {
      "image/png": "[encoded data removed]",
      "text/plain": [
       "<Figure size 432x288 with 1 Axes>"
      ]
     },
     "metadata": {
      "needs_background": "light"
     },
     "output_type": "display_data"
    }
   ],
   "source": [
    "df_pivot_diff.sort_values(\"stamp_2\", ascending = False)[\"stamp_2\"].head(10).plot.barh()"
   ]
  },
  {
   "cell_type": "code",
   "execution_count": null,
   "id": "extra-executive",
   "metadata": {
    "papermill": {
     "duration": 0.022638,
     "end_time": "2021-10-18T09:00:11.311655",
     "exception": false,
     "start_time": "2021-10-18T09:00:11.289017",
     "status": "completed"
    },
    "tags": []
   },
   "outputs": [],
   "source": []
  }
 ],
 "metadata": {
  "kernelspec": {
   "display_name": "Python 3",
   "language": "python",
   "name": "python3"
  },
  "language_info": {
   "codemirror_mode": {
    "name": "ipython",
    "version": 3
   },
   "file_extension": ".py",
   "mimetype": "text/x-python",
   "name": "python",
   "nbconvert_exporter": "python",
   "pygments_lexer": "ipython3",
   "version": "3.9.5"
  },
  "papermill": {
   "default_parameters": {},
   "duration": 7.823405,
   "end_time": "2021-10-18T09:00:12.518871",
   "environment_variables": {},
   "exception": null,
   "input_path": "eBay_Overview.ipynb",
   "output_path": "eBay_Overview.ipynb",
   "parameters": {},
   "start_time": "2021-10-18T09:00:04.695466",
   "version": "2.3.3"
  }
 },
 "nbformat": 4,
 "nbformat_minor": 5
}