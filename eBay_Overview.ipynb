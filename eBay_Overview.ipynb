{
 "cells": [
  {
   "cell_type": "code",
   "execution_count": 1,
   "id": "reverse-picking",
   "metadata": {
    "execution": {
     "iopub.execute_input": "2021-08-17T06:00:06.970008Z",
     "iopub.status.busy": "2021-08-17T06:00:06.967999Z",
     "iopub.status.idle": "2021-08-17T06:00:07.776409Z",
     "shell.execute_reply": "2021-08-17T06:00:07.777639Z"
    },
    "papermill": {
     "duration": 0.859933,
     "end_time": "2021-08-17T06:00:07.778319",
     "exception": false,
     "start_time": "2021-08-17T06:00:06.918386",
     "status": "completed"
    },
    "tags": []
   },
   "outputs": [],
   "source": [
    "import pandas as pd\n",
    "import sqlite3"
   ]
  },
  {
   "cell_type": "code",
   "execution_count": 2,
   "id": "innovative-syndrome",
   "metadata": {
    "execution": {
     "iopub.execute_input": "2021-08-17T06:00:07.829897Z",
     "iopub.status.busy": "2021-08-17T06:00:07.828034Z",
     "iopub.status.idle": "2021-08-17T06:00:07.894617Z",
     "shell.execute_reply": "2021-08-17T06:00:07.895893Z"
    },
    "papermill": {
     "duration": 0.095793,
     "end_time": "2021-08-17T06:00:07.896287",
     "exception": false,
     "start_time": "2021-08-17T06:00:07.800494",
     "status": "completed"
    },
    "tags": []
   },
   "outputs": [],
   "source": [
    "timestamps = pd.read_sql(\"select distinct record_time from EBAY_TOP_BERLIN order by record_time desc limit 2\", sqlite3.connect(\"UsedObjects.db\"))"
   ]
  },
  {
   "cell_type": "code",
   "execution_count": 3,
   "id": "periodic-identification",
   "metadata": {
    "execution": {
     "iopub.execute_input": "2021-08-17T06:00:07.960886Z",
     "iopub.status.busy": "2021-08-17T06:00:07.958760Z",
     "iopub.status.idle": "2021-08-17T06:00:07.979217Z",
     "shell.execute_reply": "2021-08-17T06:00:07.980447Z"
    },
    "papermill": {
     "duration": 0.065476,
     "end_time": "2021-08-17T06:00:07.980837",
     "exception": false,
     "start_time": "2021-08-17T06:00:07.915361",
     "status": "completed"
    },
    "tags": []
   },
   "outputs": [
    {
     "data": {
      "text/html": [
       "<div>\n",
       "<style scoped>\n",
       "    .dataframe tbody tr th:only-of-type {\n",
       "        vertical-align: middle;\n",
       "    }\n",
       "\n",
       "    .dataframe tbody tr th {\n",
       "        vertical-align: top;\n",
       "    }\n",
       "\n",
       "    .dataframe thead th {\n",
       "        text-align: right;\n",
       "    }\n",
       "</style>\n",
       "<table border=\"1\" class=\"dataframe\">\n",
       "  <thead>\n",
       "    <tr style=\"text-align: right;\">\n",
       "      <th></th>\n",
       "      <th>RECORD_TIME</th>\n",
       "    </tr>\n",
       "  </thead>\n",
       "  <tbody>\n",
       "    <tr>\n",
       "      <th>0</th>\n",
       "      <td>2021-08-17 08:00</td>\n",
       "    </tr>\n",
       "    <tr>\n",
       "      <th>1</th>\n",
       "      <td>2021-08-17 07:30</td>\n",
       "    </tr>\n",
       "  </tbody>\n",
       "</table>\n",
       "</div>"
      ],
      "text/plain": [
       "        RECORD_TIME\n",
       "0  2021-08-17 08:00\n",
       "1  2021-08-17 07:30"
      ]
     },
     "execution_count": 3,
     "metadata": {},
     "output_type": "execute_result"
    }
   ],
   "source": [
    "timestamps"
   ]
  },
  {
   "cell_type": "code",
   "execution_count": 4,
   "id": "alternate-victory",
   "metadata": {
    "execution": {
     "iopub.execute_input": "2021-08-17T06:00:08.032707Z",
     "iopub.status.busy": "2021-08-17T06:00:08.030424Z",
     "iopub.status.idle": "2021-08-17T06:00:08.130265Z",
     "shell.execute_reply": "2021-08-17T06:00:08.131554Z"
    },
    "papermill": {
     "duration": 0.129777,
     "end_time": "2021-08-17T06:00:08.131968",
     "exception": false,
     "start_time": "2021-08-17T06:00:08.002191",
     "status": "completed"
    },
    "tags": []
   },
   "outputs": [],
   "source": [
    "df = pd.read_sql(\"select * from EBAY_TOP_BERLIN where record_time in (select distinct record_time from EBAY_TOP_BERLIN order by record_time desc limit 2)\", sqlite3.connect(\"UsedObjects.db\"))"
   ]
  },
  {
   "cell_type": "code",
   "execution_count": 5,
   "id": "popular-active",
   "metadata": {
    "execution": {
     "iopub.execute_input": "2021-08-17T06:00:08.201159Z",
     "iopub.status.busy": "2021-08-17T06:00:08.194167Z",
     "iopub.status.idle": "2021-08-17T06:00:08.216582Z",
     "shell.execute_reply": "2021-08-17T06:00:08.217771Z"
    },
    "papermill": {
     "duration": 0.066152,
     "end_time": "2021-08-17T06:00:08.218372",
     "exception": false,
     "start_time": "2021-08-17T06:00:08.152220",
     "status": "completed"
    },
    "tags": []
   },
   "outputs": [],
   "source": [
    "df_pivot = df.pivot_table(index=\"PRODUCT\", columns = \"RECORD_TIME\", values = \"LISTING_COUNT\")"
   ]
  },
  {
   "cell_type": "code",
   "execution_count": 6,
   "id": "union-huntington",
   "metadata": {
    "execution": {
     "iopub.execute_input": "2021-08-17T06:00:08.277153Z",
     "iopub.status.busy": "2021-08-17T06:00:08.274704Z",
     "iopub.status.idle": "2021-08-17T06:00:08.280299Z",
     "shell.execute_reply": "2021-08-17T06:00:08.281564Z"
    },
    "papermill": {
     "duration": 0.041806,
     "end_time": "2021-08-17T06:00:08.282034",
     "exception": false,
     "start_time": "2021-08-17T06:00:08.240228",
     "status": "completed"
    },
    "tags": []
   },
   "outputs": [],
   "source": [
    "df_pivot.columns = [\"stamp_1\", \"stamp_2\"]\n",
    "df_pivot_diff = df_pivot.diff(axis=1)"
   ]
  },
  {
   "cell_type": "code",
   "execution_count": 7,
   "id": "fifth-motion",
   "metadata": {
    "execution": {
     "iopub.execute_input": "2021-08-17T06:00:08.336622Z",
     "iopub.status.busy": "2021-08-17T06:00:08.334321Z",
     "iopub.status.idle": "2021-08-17T06:00:09.818102Z",
     "shell.execute_reply": "2021-08-17T06:00:09.819413Z"
    },
    "papermill": {
     "duration": 1.517279,
     "end_time": "2021-08-17T06:00:09.819830",
     "exception": false,
     "start_time": "2021-08-17T06:00:08.302551",
     "status": "completed"
    },
    "tags": []
   },
   "outputs": [
    {
     "data": {
      "text/plain": [
       "<AxesSubplot:ylabel='PRODUCT'>"
      ]
     },
     "execution_count": 7,
     "metadata": {},
     "output_type": "execute_result"
    },
    {
     "data": {
      "image/png": "[encoded data removed]",
      "text/plain": [
       "<Figure size 432x288 with 1 Axes>"
      ]
     },
     "metadata": {
      "needs_background": "light"
     },
     "output_type": "display_data"
    }
   ],
   "source": [
    "df_pivot_diff.sort_values(\"stamp_2\", ascending = False)[\"stamp_2\"].head(10).plot.barh()"
   ]
  },
  {
   "cell_type": "code",
   "execution_count": null,
   "id": "extra-executive",
   "metadata": {
    "papermill": {
     "duration": 0.021919,
     "end_time": "2021-08-17T06:00:09.867924",
     "exception": false,
     "start_time": "2021-08-17T06:00:09.846005",
     "status": "completed"
    },
    "tags": []
   },
   "outputs": [],
   "source": []
  }
 ],
 "metadata": {
  "kernelspec": {
   "display_name": "Python 3",
   "language": "python",
   "name": "python3"
  },
  "language_info": {
   "codemirror_mode": {
    "name": "ipython",
    "version": 3
   },
   "file_extension": ".py",
   "mimetype": "text/x-python",
   "name": "python",
   "nbconvert_exporter": "python",
   "pygments_lexer": "ipython3",
   "version": "3.9.5"
  },
  "papermill": {
   "default_parameters": {},
   "duration": 6.825858,
   "end_time": "2021-08-17T06:00:11.333165",
   "environment_variables": {},
   "exception": null,
   "input_path": "eBay_Overview.ipynb",
   "output_path": "eBay_Overview.ipynb",
   "parameters": {},
   "start_time": "2021-08-17T06:00:04.507307",
   "version": "2.3.3"
  }
 },
 "nbformat": 4,
 "nbformat_minor": 5
}