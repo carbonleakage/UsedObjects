{
 "cells": [
  {
   "cell_type": "code",
   "execution_count": 1,
   "id": "reverse-picking",
   "metadata": {
    "execution": {
     "iopub.execute_input": "2021-09-23T17:30:07.631287Z",
     "iopub.status.busy": "2021-09-23T17:30:07.629293Z",
     "iopub.status.idle": "2021-09-23T17:30:08.433815Z",
     "shell.execute_reply": "2021-09-23T17:30:08.435201Z"
    },
    "papermill": {
     "duration": 0.856442,
     "end_time": "2021-09-23T17:30:08.435857",
     "exception": false,
     "start_time": "2021-09-23T17:30:07.579415",
     "status": "completed"
    },
    "tags": []
   },
   "outputs": [],
   "source": [
    "import pandas as pd\n",
    "import sqlite3"
   ]
  },
  {
   "cell_type": "code",
   "execution_count": 2,
   "id": "innovative-syndrome",
   "metadata": {
    "execution": {
     "iopub.execute_input": "2021-09-23T17:30:08.487058Z",
     "iopub.status.busy": "2021-09-23T17:30:08.484914Z",
     "iopub.status.idle": "2021-09-23T17:30:08.842046Z",
     "shell.execute_reply": "2021-09-23T17:30:08.843370Z"
    },
    "papermill": {
     "duration": 0.387602,
     "end_time": "2021-09-23T17:30:08.843797",
     "exception": false,
     "start_time": "2021-09-23T17:30:08.456195",
     "status": "completed"
    },
    "tags": []
   },
   "outputs": [],
   "source": [
    "timestamps = pd.read_sql(\"select distinct record_time from EBAY_TOP_BERLIN order by record_time desc limit 2\", sqlite3.connect(\"UsedObjects.db\"))"
   ]
  },
  {
   "cell_type": "code",
   "execution_count": 3,
   "id": "periodic-identification",
   "metadata": {
    "execution": {
     "iopub.execute_input": "2021-09-23T17:30:08.909563Z",
     "iopub.status.busy": "2021-09-23T17:30:08.907400Z",
     "iopub.status.idle": "2021-09-23T17:30:08.927243Z",
     "shell.execute_reply": "2021-09-23T17:30:08.928558Z"
    },
    "papermill": {
     "duration": 0.064339,
     "end_time": "2021-09-23T17:30:08.928955",
     "exception": false,
     "start_time": "2021-09-23T17:30:08.864616",
     "status": "completed"
    },
    "tags": []
   },
   "outputs": [
    {
     "data": {
      "text/html": [
       "<div>\n",
       "<style scoped>\n",
       "    .dataframe tbody tr th:only-of-type {\n",
       "        vertical-align: middle;\n",
       "    }\n",
       "\n",
       "    .dataframe tbody tr th {\n",
       "        vertical-align: top;\n",
       "    }\n",
       "\n",
       "    .dataframe thead th {\n",
       "        text-align: right;\n",
       "    }\n",
       "</style>\n",
       "<table border=\"1\" class=\"dataframe\">\n",
       "  <thead>\n",
       "    <tr style=\"text-align: right;\">\n",
       "      <th></th>\n",
       "      <th>RECORD_TIME</th>\n",
       "    </tr>\n",
       "  </thead>\n",
       "  <tbody>\n",
       "    <tr>\n",
       "      <th>0</th>\n",
       "      <td>2021-09-23 19:30</td>\n",
       "    </tr>\n",
       "    <tr>\n",
       "      <th>1</th>\n",
       "      <td>2021-09-23 19:00</td>\n",
       "    </tr>\n",
       "  </tbody>\n",
       "</table>\n",
       "</div>"
      ],
      "text/plain": [
       "        RECORD_TIME\n",
       "0  2021-09-23 19:30\n",
       "1  2021-09-23 19:00"
      ]
     },
     "execution_count": 3,
     "metadata": {},
     "output_type": "execute_result"
    }
   ],
   "source": [
    "timestamps"
   ]
  },
  {
   "cell_type": "code",
   "execution_count": 4,
   "id": "alternate-victory",
   "metadata": {
    "execution": {
     "iopub.execute_input": "2021-09-23T17:30:08.981554Z",
     "iopub.status.busy": "2021-09-23T17:30:08.979230Z",
     "iopub.status.idle": "2021-09-23T17:30:09.503590Z",
     "shell.execute_reply": "2021-09-23T17:30:09.504870Z"
    },
    "papermill": {
     "duration": 0.55438,
     "end_time": "2021-09-23T17:30:09.505265",
     "exception": false,
     "start_time": "2021-09-23T17:30:08.950885",
     "status": "completed"
    },
    "tags": []
   },
   "outputs": [],
   "source": [
    "df = pd.read_sql(\"select * from EBAY_TOP_BERLIN where record_time in (select distinct record_time from EBAY_TOP_BERLIN order by record_time desc limit 2)\", sqlite3.connect(\"UsedObjects.db\"))"
   ]
  },
  {
   "cell_type": "code",
   "execution_count": 5,
   "id": "popular-active",
   "metadata": {
    "execution": {
     "iopub.execute_input": "2021-09-23T17:30:09.585795Z",
     "iopub.status.busy": "2021-09-23T17:30:09.573359Z",
     "iopub.status.idle": "2021-09-23T17:30:09.601447Z",
     "shell.execute_reply": "2021-09-23T17:30:09.602718Z"
    },
    "papermill": {
     "duration": 0.071737,
     "end_time": "2021-09-23T17:30:09.603216",
     "exception": false,
     "start_time": "2021-09-23T17:30:09.531479",
     "status": "completed"
    },
    "tags": []
   },
   "outputs": [],
   "source": [
    "df_pivot = df.pivot_table(index=\"PRODUCT\", columns = \"RECORD_TIME\", values = \"LISTING_COUNT\")"
   ]
  },
  {
   "cell_type": "code",
   "execution_count": 6,
   "id": "union-huntington",
   "metadata": {
    "execution": {
     "iopub.execute_input": "2021-09-23T17:30:09.659538Z",
     "iopub.status.busy": "2021-09-23T17:30:09.657430Z",
     "iopub.status.idle": "2021-09-23T17:30:09.662703Z",
     "shell.execute_reply": "2021-09-23T17:30:09.663995Z"
    },
    "papermill": {
     "duration": 0.04097,
     "end_time": "2021-09-23T17:30:09.664421",
     "exception": false,
     "start_time": "2021-09-23T17:30:09.623451",
     "status": "completed"
    },
    "tags": []
   },
   "outputs": [],
   "source": [
    "df_pivot.columns = [\"stamp_1\", \"stamp_2\"]\n",
    "df_pivot_diff = df_pivot.diff(axis=1)"
   ]
  },
  {
   "cell_type": "code",
   "execution_count": 7,
   "id": "fifth-motion",
   "metadata": {
    "execution": {
     "iopub.execute_input": "2021-09-23T17:30:09.718300Z",
     "iopub.status.busy": "2021-09-23T17:30:09.715942Z",
     "iopub.status.idle": "2021-09-23T17:30:11.196594Z",
     "shell.execute_reply": "2021-09-23T17:30:11.197863Z"
    },
    "papermill": {
     "duration": 1.513298,
     "end_time": "2021-09-23T17:30:11.198279",
     "exception": false,
     "start_time": "2021-09-23T17:30:09.684981",
     "status": "completed"
    },
    "tags": []
   },
   "outputs": [
    {
     "data": {
      "text/plain": [
       "<AxesSubplot:ylabel='PRODUCT'>"
      ]
     },
     "execution_count": 7,
     "metadata": {},
     "output_type": "execute_result"
    },
    {
     "data": {
      "image/png": "[encoded data removed]",
      "text/plain": [
       "<Figure size 432x288 with 1 Axes>"
      ]
     },
     "metadata": {
      "needs_background": "light"
     },
     "output_type": "display_data"
    }
   ],
   "source": [
    "df_pivot_diff.sort_values(\"stamp_2\", ascending = False)[\"stamp_2\"].head(10).plot.barh()"
   ]
  },
  {
   "cell_type": "code",
   "execution_count": null,
   "id": "extra-executive",
   "metadata": {
    "papermill": {
     "duration": 0.022378,
     "end_time": "2021-09-23T17:30:11.246978",
     "exception": false,
     "start_time": "2021-09-23T17:30:11.224600",
     "status": "completed"
    },
    "tags": []
   },
   "outputs": [],
   "source": []
  }
 ],
 "metadata": {
  "kernelspec": {
   "display_name": "Python 3",
   "language": "python",
   "name": "python3"
  },
  "language_info": {
   "codemirror_mode": {
    "name": "ipython",
    "version": 3
   },
   "file_extension": ".py",
   "mimetype": "text/x-python",
   "name": "python",
   "nbconvert_exporter": "python",
   "pygments_lexer": "ipython3",
   "version": "3.9.5"
  },
  "papermill": {
   "default_parameters": {},
   "duration": 6.714178,
   "end_time": "2021-09-23T17:30:11.889115",
   "environment_variables": {},
   "exception": null,
   "input_path": "eBay_Overview.ipynb",
   "output_path": "eBay_Overview.ipynb",
   "parameters": {},
   "start_time": "2021-09-23T17:30:05.174937",
   "version": "2.3.3"
  }
 },
 "nbformat": 4,
 "nbformat_minor": 5
}