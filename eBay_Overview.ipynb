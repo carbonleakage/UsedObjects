{
 "cells": [
  {
   "cell_type": "code",
   "execution_count": 1,
   "id": "reverse-picking",
   "metadata": {
    "execution": {
     "iopub.execute_input": "2021-08-18T11:30:07.743856Z",
     "iopub.status.busy": "2021-08-18T11:30:07.741847Z",
     "iopub.status.idle": "2021-08-18T11:30:08.546406Z",
     "shell.execute_reply": "2021-08-18T11:30:08.547772Z"
    },
    "papermill": {
     "duration": 0.856476,
     "end_time": "2021-08-18T11:30:08.548426",
     "exception": false,
     "start_time": "2021-08-18T11:30:07.691950",
     "status": "completed"
    },
    "tags": []
   },
   "outputs": [],
   "source": [
    "import pandas as pd\n",
    "import sqlite3"
   ]
  },
  {
   "cell_type": "code",
   "execution_count": 2,
   "id": "innovative-syndrome",
   "metadata": {
    "execution": {
     "iopub.execute_input": "2021-08-18T11:30:08.598907Z",
     "iopub.status.busy": "2021-08-18T11:30:08.596881Z",
     "iopub.status.idle": "2021-08-18T11:30:08.670547Z",
     "shell.execute_reply": "2021-08-18T11:30:08.671751Z"
    },
    "papermill": {
     "duration": 0.103516,
     "end_time": "2021-08-18T11:30:08.672141",
     "exception": false,
     "start_time": "2021-08-18T11:30:08.568625",
     "status": "completed"
    },
    "tags": []
   },
   "outputs": [],
   "source": [
    "timestamps = pd.read_sql(\"select distinct record_time from EBAY_TOP_BERLIN order by record_time desc limit 2\", sqlite3.connect(\"UsedObjects.db\"))"
   ]
  },
  {
   "cell_type": "code",
   "execution_count": 3,
   "id": "periodic-identification",
   "metadata": {
    "execution": {
     "iopub.execute_input": "2021-08-18T11:30:08.740615Z",
     "iopub.status.busy": "2021-08-18T11:30:08.738610Z",
     "iopub.status.idle": "2021-08-18T11:30:08.760133Z",
     "shell.execute_reply": "2021-08-18T11:30:08.761322Z"
    },
    "papermill": {
     "duration": 0.067073,
     "end_time": "2021-08-18T11:30:08.761747",
     "exception": false,
     "start_time": "2021-08-18T11:30:08.694674",
     "status": "completed"
    },
    "tags": []
   },
   "outputs": [
    {
     "data": {
      "text/html": [
       "<div>\n",
       "<style scoped>\n",
       "    .dataframe tbody tr th:only-of-type {\n",
       "        vertical-align: middle;\n",
       "    }\n",
       "\n",
       "    .dataframe tbody tr th {\n",
       "        vertical-align: top;\n",
       "    }\n",
       "\n",
       "    .dataframe thead th {\n",
       "        text-align: right;\n",
       "    }\n",
       "</style>\n",
       "<table border=\"1\" class=\"dataframe\">\n",
       "  <thead>\n",
       "    <tr style=\"text-align: right;\">\n",
       "      <th></th>\n",
       "      <th>RECORD_TIME</th>\n",
       "    </tr>\n",
       "  </thead>\n",
       "  <tbody>\n",
       "    <tr>\n",
       "      <th>0</th>\n",
       "      <td>2021-08-18 13:30</td>\n",
       "    </tr>\n",
       "    <tr>\n",
       "      <th>1</th>\n",
       "      <td>2021-08-18 13:00</td>\n",
       "    </tr>\n",
       "  </tbody>\n",
       "</table>\n",
       "</div>"
      ],
      "text/plain": [
       "        RECORD_TIME\n",
       "0  2021-08-18 13:30\n",
       "1  2021-08-18 13:00"
      ]
     },
     "execution_count": 3,
     "metadata": {},
     "output_type": "execute_result"
    }
   ],
   "source": [
    "timestamps"
   ]
  },
  {
   "cell_type": "code",
   "execution_count": 4,
   "id": "alternate-victory",
   "metadata": {
    "execution": {
     "iopub.execute_input": "2021-08-18T11:30:08.814637Z",
     "iopub.status.busy": "2021-08-18T11:30:08.812679Z",
     "iopub.status.idle": "2021-08-18T11:30:08.924874Z",
     "shell.execute_reply": "2021-08-18T11:30:08.926140Z"
    },
    "papermill": {
     "duration": 0.141918,
     "end_time": "2021-08-18T11:30:08.926580",
     "exception": false,
     "start_time": "2021-08-18T11:30:08.784662",
     "status": "completed"
    },
    "tags": []
   },
   "outputs": [],
   "source": [
    "df = pd.read_sql(\"select * from EBAY_TOP_BERLIN where record_time in (select distinct record_time from EBAY_TOP_BERLIN order by record_time desc limit 2)\", sqlite3.connect(\"UsedObjects.db\"))"
   ]
  },
  {
   "cell_type": "code",
   "execution_count": 5,
   "id": "popular-active",
   "metadata": {
    "execution": {
     "iopub.execute_input": "2021-08-18T11:30:08.992101Z",
     "iopub.status.busy": "2021-08-18T11:30:08.984920Z",
     "iopub.status.idle": "2021-08-18T11:30:09.012561Z",
     "shell.execute_reply": "2021-08-18T11:30:09.013775Z"
    },
    "papermill": {
     "duration": 0.067219,
     "end_time": "2021-08-18T11:30:09.014345",
     "exception": false,
     "start_time": "2021-08-18T11:30:08.947126",
     "status": "completed"
    },
    "tags": []
   },
   "outputs": [],
   "source": [
    "df_pivot = df.pivot_table(index=\"PRODUCT\", columns = \"RECORD_TIME\", values = \"LISTING_COUNT\")"
   ]
  },
  {
   "cell_type": "code",
   "execution_count": 6,
   "id": "union-huntington",
   "metadata": {
    "execution": {
     "iopub.execute_input": "2021-08-18T11:30:09.073354Z",
     "iopub.status.busy": "2021-08-18T11:30:09.070949Z",
     "iopub.status.idle": "2021-08-18T11:30:09.076740Z",
     "shell.execute_reply": "2021-08-18T11:30:09.077917Z"
    },
    "papermill": {
     "duration": 0.041994,
     "end_time": "2021-08-18T11:30:09.078400",
     "exception": false,
     "start_time": "2021-08-18T11:30:09.036406",
     "status": "completed"
    },
    "tags": []
   },
   "outputs": [],
   "source": [
    "df_pivot.columns = [\"stamp_1\", \"stamp_2\"]\n",
    "df_pivot_diff = df_pivot.diff(axis=1)"
   ]
  },
  {
   "cell_type": "code",
   "execution_count": 7,
   "id": "fifth-motion",
   "metadata": {
    "execution": {
     "iopub.execute_input": "2021-08-18T11:30:09.133578Z",
     "iopub.status.busy": "2021-08-18T11:30:09.131427Z",
     "iopub.status.idle": "2021-08-18T11:30:10.612162Z",
     "shell.execute_reply": "2021-08-18T11:30:10.613445Z"
    },
    "papermill": {
     "duration": 1.513872,
     "end_time": "2021-08-18T11:30:10.613862",
     "exception": false,
     "start_time": "2021-08-18T11:30:09.099990",
     "status": "completed"
    },
    "tags": []
   },
   "outputs": [
    {
     "data": {
      "text/plain": [
       "<AxesSubplot:ylabel='PRODUCT'>"
      ]
     },
     "execution_count": 7,
     "metadata": {},
     "output_type": "execute_result"
    },
    {
     "data": {
      "image/png": "[encoded data removed]",
      "text/plain": [
       "<Figure size 432x288 with 1 Axes>"
      ]
     },
     "metadata": {
      "needs_background": "light"
     },
     "output_type": "display_data"
    }
   ],
   "source": [
    "df_pivot_diff.sort_values(\"stamp_2\", ascending = False)[\"stamp_2\"].head(10).plot.barh()"
   ]
  },
  {
   "cell_type": "code",
   "execution_count": null,
   "id": "extra-executive",
   "metadata": {
    "papermill": {
     "duration": 0.022016,
     "end_time": "2021-08-18T11:30:10.660288",
     "exception": false,
     "start_time": "2021-08-18T11:30:10.638272",
     "status": "completed"
    },
    "tags": []
   },
   "outputs": [],
   "source": []
  }
 ],
 "metadata": {
  "kernelspec": {
   "display_name": "Python 3",
   "language": "python",
   "name": "python3"
  },
  "language_info": {
   "codemirror_mode": {
    "name": "ipython",
    "version": 3
   },
   "file_extension": ".py",
   "mimetype": "text/x-python",
   "name": "python",
   "nbconvert_exporter": "python",
   "pygments_lexer": "ipython3",
   "version": "3.9.5"
  },
  "papermill": {
   "default_parameters": {},
   "duration": 6.831287,
   "end_time": "2021-08-18T11:30:12.115725",
   "environment_variables": {},
   "exception": null,
   "input_path": "eBay_Overview.ipynb",
   "output_path": "eBay_Overview.ipynb",
   "parameters": {},
   "start_time": "2021-08-18T11:30:05.284438",
   "version": "2.3.3"
  }
 },
 "nbformat": 4,
 "nbformat_minor": 5
}