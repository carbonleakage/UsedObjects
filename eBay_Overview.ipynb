{
 "cells": [
  {
   "cell_type": "code",
   "execution_count": 1,
   "id": "reverse-picking",
   "metadata": {
    "execution": {
     "iopub.execute_input": "2021-08-28T17:00:07.277826Z",
     "iopub.status.busy": "2021-08-28T17:00:07.275808Z",
     "iopub.status.idle": "2021-08-28T17:00:08.082070Z",
     "shell.execute_reply": "2021-08-28T17:00:08.080487Z"
    },
    "papermill": {
     "duration": 0.855276,
     "end_time": "2021-08-28T17:00:08.082467",
     "exception": false,
     "start_time": "2021-08-28T17:00:07.227191",
     "status": "completed"
    },
    "tags": []
   },
   "outputs": [],
   "source": [
    "import pandas as pd\n",
    "import sqlite3"
   ]
  },
  {
   "cell_type": "code",
   "execution_count": 2,
   "id": "innovative-syndrome",
   "metadata": {
    "execution": {
     "iopub.execute_input": "2021-08-28T17:00:08.134228Z",
     "iopub.status.busy": "2021-08-28T17:00:08.131928Z",
     "iopub.status.idle": "2021-08-28T17:00:08.285363Z",
     "shell.execute_reply": "2021-08-28T17:00:08.286570Z"
    },
    "papermill": {
     "duration": 0.182909,
     "end_time": "2021-08-28T17:00:08.286960",
     "exception": false,
     "start_time": "2021-08-28T17:00:08.104051",
     "status": "completed"
    },
    "tags": []
   },
   "outputs": [],
   "source": [
    "timestamps = pd.read_sql(\"select distinct record_time from EBAY_TOP_BERLIN order by record_time desc limit 2\", sqlite3.connect(\"UsedObjects.db\"))"
   ]
  },
  {
   "cell_type": "code",
   "execution_count": 3,
   "id": "periodic-identification",
   "metadata": {
    "execution": {
     "iopub.execute_input": "2021-08-28T17:00:08.354254Z",
     "iopub.status.busy": "2021-08-28T17:00:08.352195Z",
     "iopub.status.idle": "2021-08-28T17:00:08.372186Z",
     "shell.execute_reply": "2021-08-28T17:00:08.373631Z"
    },
    "papermill": {
     "duration": 0.065569,
     "end_time": "2021-08-28T17:00:08.374065",
     "exception": false,
     "start_time": "2021-08-28T17:00:08.308496",
     "status": "completed"
    },
    "tags": []
   },
   "outputs": [
    {
     "data": {
      "text/html": [
       "<div>\n",
       "<style scoped>\n",
       "    .dataframe tbody tr th:only-of-type {\n",
       "        vertical-align: middle;\n",
       "    }\n",
       "\n",
       "    .dataframe tbody tr th {\n",
       "        vertical-align: top;\n",
       "    }\n",
       "\n",
       "    .dataframe thead th {\n",
       "        text-align: right;\n",
       "    }\n",
       "</style>\n",
       "<table border=\"1\" class=\"dataframe\">\n",
       "  <thead>\n",
       "    <tr style=\"text-align: right;\">\n",
       "      <th></th>\n",
       "      <th>RECORD_TIME</th>\n",
       "    </tr>\n",
       "  </thead>\n",
       "  <tbody>\n",
       "    <tr>\n",
       "      <th>0</th>\n",
       "      <td>2021-08-28 19:00</td>\n",
       "    </tr>\n",
       "    <tr>\n",
       "      <th>1</th>\n",
       "      <td>2021-08-28 18:30</td>\n",
       "    </tr>\n",
       "  </tbody>\n",
       "</table>\n",
       "</div>"
      ],
      "text/plain": [
       "        RECORD_TIME\n",
       "0  2021-08-28 19:00\n",
       "1  2021-08-28 18:30"
      ]
     },
     "execution_count": 3,
     "metadata": {},
     "output_type": "execute_result"
    }
   ],
   "source": [
    "timestamps"
   ]
  },
  {
   "cell_type": "code",
   "execution_count": 4,
   "id": "alternate-victory",
   "metadata": {
    "execution": {
     "iopub.execute_input": "2021-08-28T17:00:08.425219Z",
     "iopub.status.busy": "2021-08-28T17:00:08.423289Z",
     "iopub.status.idle": "2021-08-28T17:00:08.647322Z",
     "shell.execute_reply": "2021-08-28T17:00:08.648652Z"
    },
    "papermill": {
     "duration": 0.253822,
     "end_time": "2021-08-28T17:00:08.649098",
     "exception": false,
     "start_time": "2021-08-28T17:00:08.395276",
     "status": "completed"
    },
    "tags": []
   },
   "outputs": [],
   "source": [
    "df = pd.read_sql(\"select * from EBAY_TOP_BERLIN where record_time in (select distinct record_time from EBAY_TOP_BERLIN order by record_time desc limit 2)\", sqlite3.connect(\"UsedObjects.db\"))"
   ]
  },
  {
   "cell_type": "code",
   "execution_count": 5,
   "id": "popular-active",
   "metadata": {
    "execution": {
     "iopub.execute_input": "2021-08-28T17:00:08.718670Z",
     "iopub.status.busy": "2021-08-28T17:00:08.707525Z",
     "iopub.status.idle": "2021-08-28T17:00:08.734953Z",
     "shell.execute_reply": "2021-08-28T17:00:08.736165Z"
    },
    "papermill": {
     "duration": 0.067364,
     "end_time": "2021-08-28T17:00:08.736758",
     "exception": false,
     "start_time": "2021-08-28T17:00:08.669394",
     "status": "completed"
    },
    "tags": []
   },
   "outputs": [],
   "source": [
    "df_pivot = df.pivot_table(index=\"PRODUCT\", columns = \"RECORD_TIME\", values = \"LISTING_COUNT\")"
   ]
  },
  {
   "cell_type": "code",
   "execution_count": 6,
   "id": "union-huntington",
   "metadata": {
    "execution": {
     "iopub.execute_input": "2021-08-28T17:00:08.801793Z",
     "iopub.status.busy": "2021-08-28T17:00:08.799581Z",
     "iopub.status.idle": "2021-08-28T17:00:08.804808Z",
     "shell.execute_reply": "2021-08-28T17:00:08.806191Z"
    },
    "papermill": {
     "duration": 0.042875,
     "end_time": "2021-08-28T17:00:08.806628",
     "exception": false,
     "start_time": "2021-08-28T17:00:08.763753",
     "status": "completed"
    },
    "tags": []
   },
   "outputs": [],
   "source": [
    "df_pivot.columns = [\"stamp_1\", \"stamp_2\"]\n",
    "df_pivot_diff = df_pivot.diff(axis=1)"
   ]
  },
  {
   "cell_type": "code",
   "execution_count": 7,
   "id": "fifth-motion",
   "metadata": {
    "execution": {
     "iopub.execute_input": "2021-08-28T17:00:08.860732Z",
     "iopub.status.busy": "2021-08-28T17:00:08.858315Z",
     "iopub.status.idle": "2021-08-28T17:00:10.363495Z",
     "shell.execute_reply": "2021-08-28T17:00:10.364971Z"
    },
    "papermill": {
     "duration": 1.53819,
     "end_time": "2021-08-28T17:00:10.365426",
     "exception": false,
     "start_time": "2021-08-28T17:00:08.827236",
     "status": "completed"
    },
    "tags": []
   },
   "outputs": [
    {
     "data": {
      "text/plain": [
       "<AxesSubplot:ylabel='PRODUCT'>"
      ]
     },
     "execution_count": 7,
     "metadata": {},
     "output_type": "execute_result"
    },
    {
     "data": {
      "image/png": "[encoded data removed]",
      "text/plain": [
       "<Figure size 432x288 with 1 Axes>"
      ]
     },
     "metadata": {
      "needs_background": "light"
     },
     "output_type": "display_data"
    }
   ],
   "source": [
    "df_pivot_diff.sort_values(\"stamp_2\", ascending = False)[\"stamp_2\"].head(10).plot.barh()"
   ]
  },
  {
   "cell_type": "code",
   "execution_count": null,
   "id": "extra-executive",
   "metadata": {
    "papermill": {
     "duration": 0.022105,
     "end_time": "2021-08-28T17:00:10.412154",
     "exception": false,
     "start_time": "2021-08-28T17:00:10.390049",
     "status": "completed"
    },
    "tags": []
   },
   "outputs": [],
   "source": []
  }
 ],
 "metadata": {
  "kernelspec": {
   "display_name": "Python 3",
   "language": "python",
   "name": "python3"
  },
  "language_info": {
   "codemirror_mode": {
    "name": "ipython",
    "version": 3
   },
   "file_extension": ".py",
   "mimetype": "text/x-python",
   "name": "python",
   "nbconvert_exporter": "python",
   "pygments_lexer": "ipython3",
   "version": "3.9.5"
  },
  "papermill": {
   "default_parameters": {},
   "duration": 6.820644,
   "end_time": "2021-08-28T17:00:11.647861",
   "environment_variables": {},
   "exception": null,
   "input_path": "eBay_Overview.ipynb",
   "output_path": "eBay_Overview.ipynb",
   "parameters": {},
   "start_time": "2021-08-28T17:00:04.827217",
   "version": "2.3.3"
  }
 },
 "nbformat": 4,
 "nbformat_minor": 5
}