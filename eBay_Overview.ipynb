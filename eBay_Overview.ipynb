{
 "cells": [
  {
   "cell_type": "code",
   "execution_count": 1,
   "id": "reverse-picking",
   "metadata": {
    "execution": {
     "iopub.execute_input": "2021-09-04T23:30:06.598205Z",
     "iopub.status.busy": "2021-09-04T23:30:06.596305Z",
     "iopub.status.idle": "2021-09-04T23:30:07.399537Z",
     "shell.execute_reply": "2021-09-04T23:30:07.400964Z"
    },
    "papermill": {
     "duration": 0.854831,
     "end_time": "2021-09-04T23:30:07.401644",
     "exception": false,
     "start_time": "2021-09-04T23:30:06.546813",
     "status": "completed"
    },
    "tags": []
   },
   "outputs": [],
   "source": [
    "import pandas as pd\n",
    "import sqlite3"
   ]
  },
  {
   "cell_type": "code",
   "execution_count": 2,
   "id": "innovative-syndrome",
   "metadata": {
    "execution": {
     "iopub.execute_input": "2021-09-04T23:30:07.452735Z",
     "iopub.status.busy": "2021-09-04T23:30:07.450341Z",
     "iopub.status.idle": "2021-09-04T23:30:07.657802Z",
     "shell.execute_reply": "2021-09-04T23:30:07.659077Z"
    },
    "papermill": {
     "duration": 0.237447,
     "end_time": "2021-09-04T23:30:07.659505",
     "exception": false,
     "start_time": "2021-09-04T23:30:07.422058",
     "status": "completed"
    },
    "tags": []
   },
   "outputs": [],
   "source": [
    "timestamps = pd.read_sql(\"select distinct record_time from EBAY_TOP_BERLIN order by record_time desc limit 2\", sqlite3.connect(\"UsedObjects.db\"))"
   ]
  },
  {
   "cell_type": "code",
   "execution_count": 3,
   "id": "periodic-identification",
   "metadata": {
    "execution": {
     "iopub.execute_input": "2021-09-04T23:30:07.725346Z",
     "iopub.status.busy": "2021-09-04T23:30:07.723359Z",
     "iopub.status.idle": "2021-09-04T23:30:07.743181Z",
     "shell.execute_reply": "2021-09-04T23:30:07.744311Z"
    },
    "papermill": {
     "duration": 0.06363,
     "end_time": "2021-09-04T23:30:07.744716",
     "exception": false,
     "start_time": "2021-09-04T23:30:07.681086",
     "status": "completed"
    },
    "tags": []
   },
   "outputs": [
    {
     "data": {
      "text/html": [
       "<div>\n",
       "<style scoped>\n",
       "    .dataframe tbody tr th:only-of-type {\n",
       "        vertical-align: middle;\n",
       "    }\n",
       "\n",
       "    .dataframe tbody tr th {\n",
       "        vertical-align: top;\n",
       "    }\n",
       "\n",
       "    .dataframe thead th {\n",
       "        text-align: right;\n",
       "    }\n",
       "</style>\n",
       "<table border=\"1\" class=\"dataframe\">\n",
       "  <thead>\n",
       "    <tr style=\"text-align: right;\">\n",
       "      <th></th>\n",
       "      <th>RECORD_TIME</th>\n",
       "    </tr>\n",
       "  </thead>\n",
       "  <tbody>\n",
       "    <tr>\n",
       "      <th>0</th>\n",
       "      <td>2021-09-05 01:30</td>\n",
       "    </tr>\n",
       "    <tr>\n",
       "      <th>1</th>\n",
       "      <td>2021-09-05 01:00</td>\n",
       "    </tr>\n",
       "  </tbody>\n",
       "</table>\n",
       "</div>"
      ],
      "text/plain": [
       "        RECORD_TIME\n",
       "0  2021-09-05 01:30\n",
       "1  2021-09-05 01:00"
      ]
     },
     "execution_count": 3,
     "metadata": {},
     "output_type": "execute_result"
    }
   ],
   "source": [
    "timestamps"
   ]
  },
  {
   "cell_type": "code",
   "execution_count": 4,
   "id": "alternate-victory",
   "metadata": {
    "execution": {
     "iopub.execute_input": "2021-09-04T23:30:07.796774Z",
     "iopub.status.busy": "2021-09-04T23:30:07.794532Z",
     "iopub.status.idle": "2021-09-04T23:30:08.099876Z",
     "shell.execute_reply": "2021-09-04T23:30:08.101141Z"
    },
    "papermill": {
     "duration": 0.335167,
     "end_time": "2021-09-04T23:30:08.101535",
     "exception": false,
     "start_time": "2021-09-04T23:30:07.766368",
     "status": "completed"
    },
    "tags": []
   },
   "outputs": [],
   "source": [
    "df = pd.read_sql(\"select * from EBAY_TOP_BERLIN where record_time in (select distinct record_time from EBAY_TOP_BERLIN order by record_time desc limit 2)\", sqlite3.connect(\"UsedObjects.db\"))"
   ]
  },
  {
   "cell_type": "code",
   "execution_count": 5,
   "id": "popular-active",
   "metadata": {
    "execution": {
     "iopub.execute_input": "2021-09-04T23:30:08.181721Z",
     "iopub.status.busy": "2021-09-04T23:30:08.169242Z",
     "iopub.status.idle": "2021-09-04T23:30:08.197856Z",
     "shell.execute_reply": "2021-09-04T23:30:08.199195Z"
    },
    "papermill": {
     "duration": 0.072398,
     "end_time": "2021-09-04T23:30:08.199621",
     "exception": false,
     "start_time": "2021-09-04T23:30:08.127223",
     "status": "completed"
    },
    "tags": []
   },
   "outputs": [],
   "source": [
    "df_pivot = df.pivot_table(index=\"PRODUCT\", columns = \"RECORD_TIME\", values = \"LISTING_COUNT\")"
   ]
  },
  {
   "cell_type": "code",
   "execution_count": 6,
   "id": "union-huntington",
   "metadata": {
    "execution": {
     "iopub.execute_input": "2021-09-04T23:30:08.255440Z",
     "iopub.status.busy": "2021-09-04T23:30:08.253364Z",
     "iopub.status.idle": "2021-09-04T23:30:08.258714Z",
     "shell.execute_reply": "2021-09-04T23:30:08.259981Z"
    },
    "papermill": {
     "duration": 0.040741,
     "end_time": "2021-09-04T23:30:08.260412",
     "exception": false,
     "start_time": "2021-09-04T23:30:08.219671",
     "status": "completed"
    },
    "tags": []
   },
   "outputs": [],
   "source": [
    "df_pivot.columns = [\"stamp_1\", \"stamp_2\"]\n",
    "df_pivot_diff = df_pivot.diff(axis=1)"
   ]
  },
  {
   "cell_type": "code",
   "execution_count": 7,
   "id": "fifth-motion",
   "metadata": {
    "execution": {
     "iopub.execute_input": "2021-09-04T23:30:08.313858Z",
     "iopub.status.busy": "2021-09-04T23:30:08.311532Z",
     "iopub.status.idle": "2021-09-04T23:30:09.816934Z",
     "shell.execute_reply": "2021-09-04T23:30:09.818199Z"
    },
    "papermill": {
     "duration": 1.537935,
     "end_time": "2021-09-04T23:30:09.818616",
     "exception": false,
     "start_time": "2021-09-04T23:30:08.280681",
     "status": "completed"
    },
    "tags": []
   },
   "outputs": [
    {
     "data": {
      "text/plain": [
       "<AxesSubplot:ylabel='PRODUCT'>"
      ]
     },
     "execution_count": 7,
     "metadata": {},
     "output_type": "execute_result"
    },
    {
     "data": {
      "image/png": "[encoded data removed]",
      "text/plain": [
       "<Figure size 432x288 with 1 Axes>"
      ]
     },
     "metadata": {
      "needs_background": "light"
     },
     "output_type": "display_data"
    }
   ],
   "source": [
    "df_pivot_diff.sort_values(\"stamp_2\", ascending = False)[\"stamp_2\"].head(10).plot.barh()"
   ]
  },
  {
   "cell_type": "code",
   "execution_count": null,
   "id": "extra-executive",
   "metadata": {
    "papermill": {
     "duration": 0.021933,
     "end_time": "2021-09-04T23:30:09.865098",
     "exception": false,
     "start_time": "2021-09-04T23:30:09.843165",
     "status": "completed"
    },
    "tags": []
   },
   "outputs": [],
   "source": []
  }
 ],
 "metadata": {
  "kernelspec": {
   "display_name": "Python 3",
   "language": "python",
   "name": "python3"
  },
  "language_info": {
   "codemirror_mode": {
    "name": "ipython",
    "version": 3
   },
   "file_extension": ".py",
   "mimetype": "text/x-python",
   "name": "python",
   "nbconvert_exporter": "python",
   "pygments_lexer": "ipython3",
   "version": "3.9.5"
  },
  "papermill": {
   "default_parameters": {},
   "duration": 6.355513,
   "end_time": "2021-09-04T23:30:10.506684",
   "environment_variables": {},
   "exception": null,
   "input_path": "eBay_Overview.ipynb",
   "output_path": "eBay_Overview.ipynb",
   "parameters": {},
   "start_time": "2021-09-04T23:30:04.151171",
   "version": "2.3.3"
  }
 },
 "nbformat": 4,
 "nbformat_minor": 5
}