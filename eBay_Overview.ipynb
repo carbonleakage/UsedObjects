{
 "cells": [
  {
   "cell_type": "code",
   "execution_count": 1,
   "id": "reverse-picking",
   "metadata": {
    "execution": {
     "iopub.execute_input": "2021-09-12T17:00:07.172987Z",
     "iopub.status.busy": "2021-09-12T17:00:07.170987Z",
     "iopub.status.idle": "2021-09-12T17:00:07.977739Z",
     "shell.execute_reply": "2021-09-12T17:00:07.979053Z"
    },
    "papermill": {
     "duration": 0.857679,
     "end_time": "2021-09-12T17:00:07.979719",
     "exception": false,
     "start_time": "2021-09-12T17:00:07.122040",
     "status": "completed"
    },
    "tags": []
   },
   "outputs": [],
   "source": [
    "import pandas as pd\n",
    "import sqlite3"
   ]
  },
  {
   "cell_type": "code",
   "execution_count": 2,
   "id": "innovative-syndrome",
   "metadata": {
    "execution": {
     "iopub.execute_input": "2021-09-12T17:00:08.032830Z",
     "iopub.status.busy": "2021-09-12T17:00:08.030405Z",
     "iopub.status.idle": "2021-09-12T17:00:08.300027Z",
     "shell.execute_reply": "2021-09-12T17:00:08.301216Z"
    },
    "papermill": {
     "duration": 0.299614,
     "end_time": "2021-09-12T17:00:08.301614",
     "exception": false,
     "start_time": "2021-09-12T17:00:08.002000",
     "status": "completed"
    },
    "tags": []
   },
   "outputs": [],
   "source": [
    "timestamps = pd.read_sql(\"select distinct record_time from EBAY_TOP_BERLIN order by record_time desc limit 2\", sqlite3.connect(\"UsedObjects.db\"))"
   ]
  },
  {
   "cell_type": "code",
   "execution_count": 3,
   "id": "periodic-identification",
   "metadata": {
    "execution": {
     "iopub.execute_input": "2021-09-12T17:00:08.369980Z",
     "iopub.status.busy": "2021-09-12T17:00:08.367987Z",
     "iopub.status.idle": "2021-09-12T17:00:08.388012Z",
     "shell.execute_reply": "2021-09-12T17:00:08.389643Z"
    },
    "papermill": {
     "duration": 0.066209,
     "end_time": "2021-09-12T17:00:08.390142",
     "exception": false,
     "start_time": "2021-09-12T17:00:08.323933",
     "status": "completed"
    },
    "tags": []
   },
   "outputs": [
    {
     "data": {
      "text/html": [
       "<div>\n",
       "<style scoped>\n",
       "    .dataframe tbody tr th:only-of-type {\n",
       "        vertical-align: middle;\n",
       "    }\n",
       "\n",
       "    .dataframe tbody tr th {\n",
       "        vertical-align: top;\n",
       "    }\n",
       "\n",
       "    .dataframe thead th {\n",
       "        text-align: right;\n",
       "    }\n",
       "</style>\n",
       "<table border=\"1\" class=\"dataframe\">\n",
       "  <thead>\n",
       "    <tr style=\"text-align: right;\">\n",
       "      <th></th>\n",
       "      <th>RECORD_TIME</th>\n",
       "    </tr>\n",
       "  </thead>\n",
       "  <tbody>\n",
       "    <tr>\n",
       "      <th>0</th>\n",
       "      <td>2021-09-12 19:00</td>\n",
       "    </tr>\n",
       "    <tr>\n",
       "      <th>1</th>\n",
       "      <td>2021-09-12 18:30</td>\n",
       "    </tr>\n",
       "  </tbody>\n",
       "</table>\n",
       "</div>"
      ],
      "text/plain": [
       "        RECORD_TIME\n",
       "0  2021-09-12 19:00\n",
       "1  2021-09-12 18:30"
      ]
     },
     "execution_count": 3,
     "metadata": {},
     "output_type": "execute_result"
    }
   ],
   "source": [
    "timestamps"
   ]
  },
  {
   "cell_type": "code",
   "execution_count": 4,
   "id": "alternate-victory",
   "metadata": {
    "execution": {
     "iopub.execute_input": "2021-09-12T17:00:08.442582Z",
     "iopub.status.busy": "2021-09-12T17:00:08.440669Z",
     "iopub.status.idle": "2021-09-12T17:00:08.849528Z",
     "shell.execute_reply": "2021-09-12T17:00:08.850811Z"
    },
    "papermill": {
     "duration": 0.439285,
     "end_time": "2021-09-12T17:00:08.851308",
     "exception": false,
     "start_time": "2021-09-12T17:00:08.412023",
     "status": "completed"
    },
    "tags": []
   },
   "outputs": [],
   "source": [
    "df = pd.read_sql(\"select * from EBAY_TOP_BERLIN where record_time in (select distinct record_time from EBAY_TOP_BERLIN order by record_time desc limit 2)\", sqlite3.connect(\"UsedObjects.db\"))"
   ]
  },
  {
   "cell_type": "code",
   "execution_count": 5,
   "id": "popular-active",
   "metadata": {
    "execution": {
     "iopub.execute_input": "2021-09-12T17:00:08.923208Z",
     "iopub.status.busy": "2021-09-12T17:00:08.911497Z",
     "iopub.status.idle": "2021-09-12T17:00:08.939052Z",
     "shell.execute_reply": "2021-09-12T17:00:08.940318Z"
    },
    "papermill": {
     "duration": 0.068037,
     "end_time": "2021-09-12T17:00:08.940714",
     "exception": false,
     "start_time": "2021-09-12T17:00:08.872677",
     "status": "completed"
    },
    "tags": []
   },
   "outputs": [],
   "source": [
    "df_pivot = df.pivot_table(index=\"PRODUCT\", columns = \"RECORD_TIME\", values = \"LISTING_COUNT\")"
   ]
  },
  {
   "cell_type": "code",
   "execution_count": 6,
   "id": "union-huntington",
   "metadata": {
    "execution": {
     "iopub.execute_input": "2021-09-12T17:00:08.996529Z",
     "iopub.status.busy": "2021-09-12T17:00:08.994466Z",
     "iopub.status.idle": "2021-09-12T17:00:08.999747Z",
     "shell.execute_reply": "2021-09-12T17:00:09.001038Z"
    },
    "papermill": {
     "duration": 0.040147,
     "end_time": "2021-09-12T17:00:09.001457",
     "exception": false,
     "start_time": "2021-09-12T17:00:08.961310",
     "status": "completed"
    },
    "tags": []
   },
   "outputs": [],
   "source": [
    "df_pivot.columns = [\"stamp_1\", \"stamp_2\"]\n",
    "df_pivot_diff = df_pivot.diff(axis=1)"
   ]
  },
  {
   "cell_type": "code",
   "execution_count": 7,
   "id": "fifth-motion",
   "metadata": {
    "execution": {
     "iopub.execute_input": "2021-09-12T17:00:09.056484Z",
     "iopub.status.busy": "2021-09-12T17:00:09.053959Z",
     "iopub.status.idle": "2021-09-12T17:00:10.519538Z",
     "shell.execute_reply": "2021-09-12T17:00:10.520897Z"
    },
    "papermill": {
     "duration": 1.498594,
     "end_time": "2021-09-12T17:00:10.521317",
     "exception": false,
     "start_time": "2021-09-12T17:00:09.022723",
     "status": "completed"
    },
    "tags": []
   },
   "outputs": [
    {
     "data": {
      "text/plain": [
       "<AxesSubplot:ylabel='PRODUCT'>"
      ]
     },
     "execution_count": 7,
     "metadata": {},
     "output_type": "execute_result"
    },
    {
     "data": {
      "image/png": "[encoded data removed]",
      "text/plain": [
       "<Figure size 432x288 with 1 Axes>"
      ]
     },
     "metadata": {
      "needs_background": "light"
     },
     "output_type": "display_data"
    }
   ],
   "source": [
    "df_pivot_diff.sort_values(\"stamp_2\", ascending = False)[\"stamp_2\"].head(10).plot.barh()"
   ]
  },
  {
   "cell_type": "code",
   "execution_count": null,
   "id": "extra-executive",
   "metadata": {
    "papermill": {
     "duration": 0.022092,
     "end_time": "2021-09-12T17:00:10.568178",
     "exception": false,
     "start_time": "2021-09-12T17:00:10.546086",
     "status": "completed"
    },
    "tags": []
   },
   "outputs": [],
   "source": []
  }
 ],
 "metadata": {
  "kernelspec": {
   "display_name": "Python 3",
   "language": "python",
   "name": "python3"
  },
  "language_info": {
   "codemirror_mode": {
    "name": "ipython",
    "version": 3
   },
   "file_extension": ".py",
   "mimetype": "text/x-python",
   "name": "python",
   "nbconvert_exporter": "python",
   "pygments_lexer": "ipython3",
   "version": "3.9.5"
  },
  "papermill": {
   "default_parameters": {},
   "duration": 6.496903,
   "end_time": "2021-09-12T17:00:11.211292",
   "environment_variables": {},
   "exception": null,
   "input_path": "eBay_Overview.ipynb",
   "output_path": "eBay_Overview.ipynb",
   "parameters": {},
   "start_time": "2021-09-12T17:00:04.714389",
   "version": "2.3.3"
  }
 },
 "nbformat": 4,
 "nbformat_minor": 5
}