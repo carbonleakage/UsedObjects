{
 "cells": [
  {
   "cell_type": "code",
   "execution_count": 1,
   "id": "reverse-picking",
   "metadata": {
    "execution": {
     "iopub.execute_input": "2021-11-11T05:30:08.101687Z",
     "iopub.status.busy": "2021-11-11T05:30:08.099425Z",
     "iopub.status.idle": "2021-11-11T05:30:09.066285Z",
     "shell.execute_reply": "2021-11-11T05:30:09.067836Z"
    },
    "papermill": {
     "duration": 1.013608,
     "end_time": "2021-11-11T05:30:09.068576",
     "exception": false,
     "start_time": "2021-11-11T05:30:08.054968",
     "status": "completed"
    },
    "tags": []
   },
   "outputs": [],
   "source": [
    "import pandas as pd\n",
    "import sqlite3"
   ]
  },
  {
   "cell_type": "code",
   "execution_count": 2,
   "id": "innovative-syndrome",
   "metadata": {
    "execution": {
     "iopub.execute_input": "2021-11-11T05:30:09.134059Z",
     "iopub.status.busy": "2021-11-11T05:30:09.131706Z",
     "iopub.status.idle": "2021-11-11T05:30:09.896510Z",
     "shell.execute_reply": "2021-11-11T05:30:09.897946Z"
    },
    "papermill": {
     "duration": 0.798917,
     "end_time": "2021-11-11T05:30:09.898416",
     "exception": false,
     "start_time": "2021-11-11T05:30:09.099499",
     "status": "completed"
    },
    "tags": []
   },
   "outputs": [],
   "source": [
    "timestamps = pd.read_sql(\"select distinct record_time from EBAY_TOP_BERLIN order by record_time desc limit 2\", sqlite3.connect(\"UsedObjects.db\"))"
   ]
  },
  {
   "cell_type": "code",
   "execution_count": 3,
   "id": "periodic-identification",
   "metadata": {
    "execution": {
     "iopub.execute_input": "2021-11-11T05:30:09.970499Z",
     "iopub.status.busy": "2021-11-11T05:30:09.964938Z",
     "iopub.status.idle": "2021-11-11T05:30:09.986949Z",
     "shell.execute_reply": "2021-11-11T05:30:09.988430Z"
    },
    "papermill": {
     "duration": 0.071119,
     "end_time": "2021-11-11T05:30:09.988960",
     "exception": false,
     "start_time": "2021-11-11T05:30:09.917841",
     "status": "completed"
    },
    "tags": []
   },
   "outputs": [
    {
     "data": {
      "text/html": [
       "<div>\n",
       "<style scoped>\n",
       "    .dataframe tbody tr th:only-of-type {\n",
       "        vertical-align: middle;\n",
       "    }\n",
       "\n",
       "    .dataframe tbody tr th {\n",
       "        vertical-align: top;\n",
       "    }\n",
       "\n",
       "    .dataframe thead th {\n",
       "        text-align: right;\n",
       "    }\n",
       "</style>\n",
       "<table border=\"1\" class=\"dataframe\">\n",
       "  <thead>\n",
       "    <tr style=\"text-align: right;\">\n",
       "      <th></th>\n",
       "      <th>RECORD_TIME</th>\n",
       "    </tr>\n",
       "  </thead>\n",
       "  <tbody>\n",
       "    <tr>\n",
       "      <th>0</th>\n",
       "      <td>2021-11-11 06:30</td>\n",
       "    </tr>\n",
       "    <tr>\n",
       "      <th>1</th>\n",
       "      <td>2021-11-11 06:00</td>\n",
       "    </tr>\n",
       "  </tbody>\n",
       "</table>\n",
       "</div>"
      ],
      "text/plain": [
       "        RECORD_TIME\n",
       "0  2021-11-11 06:30\n",
       "1  2021-11-11 06:00"
      ]
     },
     "execution_count": 3,
     "metadata": {},
     "output_type": "execute_result"
    }
   ],
   "source": [
    "timestamps"
   ]
  },
  {
   "cell_type": "code",
   "execution_count": 4,
   "id": "alternate-victory",
   "metadata": {
    "execution": {
     "iopub.execute_input": "2021-11-11T05:30:10.044359Z",
     "iopub.status.busy": "2021-11-11T05:30:10.042018Z",
     "iopub.status.idle": "2021-11-11T05:30:11.158292Z",
     "shell.execute_reply": "2021-11-11T05:30:11.161494Z"
    },
    "papermill": {
     "duration": 1.15213,
     "end_time": "2021-11-11T05:30:11.162201",
     "exception": false,
     "start_time": "2021-11-11T05:30:10.010071",
     "status": "completed"
    },
    "tags": []
   },
   "outputs": [],
   "source": [
    "df = pd.read_sql(\"select * from EBAY_TOP_BERLIN where record_time in (select distinct record_time from EBAY_TOP_BERLIN order by record_time desc limit 2)\", sqlite3.connect(\"UsedObjects.db\"))"
   ]
  },
  {
   "cell_type": "code",
   "execution_count": 5,
   "id": "popular-active",
   "metadata": {
    "execution": {
     "iopub.execute_input": "2021-11-11T05:30:11.236073Z",
     "iopub.status.busy": "2021-11-11T05:30:11.226966Z",
     "iopub.status.idle": "2021-11-11T05:30:11.261478Z",
     "shell.execute_reply": "2021-11-11T05:30:11.262971Z"
    },
    "papermill": {
     "duration": 0.079322,
     "end_time": "2021-11-11T05:30:11.263455",
     "exception": false,
     "start_time": "2021-11-11T05:30:11.184133",
     "status": "completed"
    },
    "tags": []
   },
   "outputs": [],
   "source": [
    "df_pivot = df.pivot_table(index=\"PRODUCT\", columns = \"RECORD_TIME\", values = \"LISTING_COUNT\")"
   ]
  },
  {
   "cell_type": "code",
   "execution_count": 6,
   "id": "union-huntington",
   "metadata": {
    "execution": {
     "iopub.execute_input": "2021-11-11T05:30:11.327327Z",
     "iopub.status.busy": "2021-11-11T05:30:11.325149Z",
     "iopub.status.idle": "2021-11-11T05:30:11.330685Z",
     "shell.execute_reply": "2021-11-11T05:30:11.332010Z"
    },
    "papermill": {
     "duration": 0.047154,
     "end_time": "2021-11-11T05:30:11.332478",
     "exception": false,
     "start_time": "2021-11-11T05:30:11.285324",
     "status": "completed"
    },
    "tags": []
   },
   "outputs": [],
   "source": [
    "df_pivot.columns = [\"stamp_1\", \"stamp_2\"]\n",
    "df_pivot_diff = df_pivot.diff(axis=1)"
   ]
  },
  {
   "cell_type": "code",
   "execution_count": 7,
   "id": "fifth-motion",
   "metadata": {
    "execution": {
     "iopub.execute_input": "2021-11-11T05:30:11.388383Z",
     "iopub.status.busy": "2021-11-11T05:30:11.385991Z",
     "iopub.status.idle": "2021-11-11T05:30:13.143946Z",
     "shell.execute_reply": "2021-11-11T05:30:13.146737Z"
    },
    "papermill": {
     "duration": 1.795197,
     "end_time": "2021-11-11T05:30:13.147595",
     "exception": false,
     "start_time": "2021-11-11T05:30:11.352398",
     "status": "completed"
    },
    "tags": []
   },
   "outputs": [
    {
     "data": {
      "text/plain": [
       "<AxesSubplot:ylabel='PRODUCT'>"
      ]
     },
     "execution_count": 7,
     "metadata": {},
     "output_type": "execute_result"
    },
    {
     "data": {
      "image/png": "[encoded data removed]",
      "text/plain": [
       "<Figure size 432x288 with 1 Axes>"
      ]
     },
     "metadata": {
      "needs_background": "light"
     },
     "output_type": "display_data"
    }
   ],
   "source": [
    "df_pivot_diff.sort_values(\"stamp_2\", ascending = False)[\"stamp_2\"].head(10).plot.barh()"
   ]
  },
  {
   "cell_type": "code",
   "execution_count": null,
   "id": "extra-executive",
   "metadata": {
    "papermill": {
     "duration": 0.034874,
     "end_time": "2021-11-11T05:30:13.220232",
     "exception": false,
     "start_time": "2021-11-11T05:30:13.185358",
     "status": "completed"
    },
    "tags": []
   },
   "outputs": [],
   "source": []
  }
 ],
 "metadata": {
  "kernelspec": {
   "display_name": "Python 3",
   "language": "python",
   "name": "python3"
  },
  "language_info": {
   "codemirror_mode": {
    "name": "ipython",
    "version": 3
   },
   "file_extension": ".py",
   "mimetype": "text/x-python",
   "name": "python",
   "nbconvert_exporter": "python",
   "pygments_lexer": "ipython3",
   "version": "3.9.5"
  },
  "papermill": {
   "default_parameters": {},
   "duration": 8.770396,
   "end_time": "2021-11-11T05:30:14.094603",
   "environment_variables": {},
   "exception": null,
   "input_path": "eBay_Overview.ipynb",
   "output_path": "eBay_Overview.ipynb",
   "parameters": {},
   "start_time": "2021-11-11T05:30:05.324207",
   "version": "2.3.3"
  }
 },
 "nbformat": 4,
 "nbformat_minor": 5
}