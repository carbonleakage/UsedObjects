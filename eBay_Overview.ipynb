{
 "cells": [
  {
   "cell_type": "code",
   "execution_count": 1,
   "id": "reverse-picking",
   "metadata": {
    "execution": {
     "iopub.execute_input": "2021-10-23T17:00:07.337429Z",
     "iopub.status.busy": "2021-10-23T17:00:07.335359Z",
     "iopub.status.idle": "2021-10-23T17:00:08.142000Z",
     "shell.execute_reply": "2021-10-23T17:00:08.140336Z"
    },
    "papermill": {
     "duration": 0.856465,
     "end_time": "2021-10-23T17:00:08.142438",
     "exception": false,
     "start_time": "2021-10-23T17:00:07.285973",
     "status": "completed"
    },
    "tags": []
   },
   "outputs": [],
   "source": [
    "import pandas as pd\n",
    "import sqlite3"
   ]
  },
  {
   "cell_type": "code",
   "execution_count": 2,
   "id": "innovative-syndrome",
   "metadata": {
    "execution": {
     "iopub.execute_input": "2021-10-23T17:00:08.193616Z",
     "iopub.status.busy": "2021-10-23T17:00:08.191628Z",
     "iopub.status.idle": "2021-10-23T17:00:08.810469Z",
     "shell.execute_reply": "2021-10-23T17:00:08.811680Z"
    },
    "papermill": {
     "duration": 0.648293,
     "end_time": "2021-10-23T17:00:08.812073",
     "exception": false,
     "start_time": "2021-10-23T17:00:08.163780",
     "status": "completed"
    },
    "tags": []
   },
   "outputs": [],
   "source": [
    "timestamps = pd.read_sql(\"select distinct record_time from EBAY_TOP_BERLIN order by record_time desc limit 2\", sqlite3.connect(\"UsedObjects.db\"))"
   ]
  },
  {
   "cell_type": "code",
   "execution_count": 3,
   "id": "periodic-identification",
   "metadata": {
    "execution": {
     "iopub.execute_input": "2021-10-23T17:00:08.887620Z",
     "iopub.status.busy": "2021-10-23T17:00:08.885532Z",
     "iopub.status.idle": "2021-10-23T17:00:08.906910Z",
     "shell.execute_reply": "2021-10-23T17:00:08.908132Z"
    },
    "papermill": {
     "duration": 0.071328,
     "end_time": "2021-10-23T17:00:08.908533",
     "exception": false,
     "start_time": "2021-10-23T17:00:08.837205",
     "status": "completed"
    },
    "tags": []
   },
   "outputs": [
    {
     "data": {
      "text/html": [
       "<div>\n",
       "<style scoped>\n",
       "    .dataframe tbody tr th:only-of-type {\n",
       "        vertical-align: middle;\n",
       "    }\n",
       "\n",
       "    .dataframe tbody tr th {\n",
       "        vertical-align: top;\n",
       "    }\n",
       "\n",
       "    .dataframe thead th {\n",
       "        text-align: right;\n",
       "    }\n",
       "</style>\n",
       "<table border=\"1\" class=\"dataframe\">\n",
       "  <thead>\n",
       "    <tr style=\"text-align: right;\">\n",
       "      <th></th>\n",
       "      <th>RECORD_TIME</th>\n",
       "    </tr>\n",
       "  </thead>\n",
       "  <tbody>\n",
       "    <tr>\n",
       "      <th>0</th>\n",
       "      <td>2021-10-23 19:00</td>\n",
       "    </tr>\n",
       "    <tr>\n",
       "      <th>1</th>\n",
       "      <td>2021-10-23 18:30</td>\n",
       "    </tr>\n",
       "  </tbody>\n",
       "</table>\n",
       "</div>"
      ],
      "text/plain": [
       "        RECORD_TIME\n",
       "0  2021-10-23 19:00\n",
       "1  2021-10-23 18:30"
      ]
     },
     "execution_count": 3,
     "metadata": {},
     "output_type": "execute_result"
    }
   ],
   "source": [
    "timestamps"
   ]
  },
  {
   "cell_type": "code",
   "execution_count": 4,
   "id": "alternate-victory",
   "metadata": {
    "execution": {
     "iopub.execute_input": "2021-10-23T17:00:08.976472Z",
     "iopub.status.busy": "2021-10-23T17:00:08.974539Z",
     "iopub.status.idle": "2021-10-23T17:00:09.880820Z",
     "shell.execute_reply": "2021-10-23T17:00:09.882364Z"
    },
    "papermill": {
     "duration": 0.942184,
     "end_time": "2021-10-23T17:00:09.882811",
     "exception": false,
     "start_time": "2021-10-23T17:00:08.940627",
     "status": "completed"
    },
    "tags": []
   },
   "outputs": [],
   "source": [
    "df = pd.read_sql(\"select * from EBAY_TOP_BERLIN where record_time in (select distinct record_time from EBAY_TOP_BERLIN order by record_time desc limit 2)\", sqlite3.connect(\"UsedObjects.db\"))"
   ]
  },
  {
   "cell_type": "code",
   "execution_count": 5,
   "id": "popular-active",
   "metadata": {
    "execution": {
     "iopub.execute_input": "2021-10-23T17:00:09.955076Z",
     "iopub.status.busy": "2021-10-23T17:00:09.942497Z",
     "iopub.status.idle": "2021-10-23T17:00:09.970435Z",
     "shell.execute_reply": "2021-10-23T17:00:09.971650Z"
    },
    "papermill": {
     "duration": 0.068247,
     "end_time": "2021-10-23T17:00:09.972047",
     "exception": false,
     "start_time": "2021-10-23T17:00:09.903800",
     "status": "completed"
    },
    "tags": []
   },
   "outputs": [],
   "source": [
    "df_pivot = df.pivot_table(index=\"PRODUCT\", columns = \"RECORD_TIME\", values = \"LISTING_COUNT\")"
   ]
  },
  {
   "cell_type": "code",
   "execution_count": 6,
   "id": "union-huntington",
   "metadata": {
    "execution": {
     "iopub.execute_input": "2021-10-23T17:00:10.031038Z",
     "iopub.status.busy": "2021-10-23T17:00:10.028535Z",
     "iopub.status.idle": "2021-10-23T17:00:10.034331Z",
     "shell.execute_reply": "2021-10-23T17:00:10.035615Z"
    },
    "papermill": {
     "duration": 0.041723,
     "end_time": "2021-10-23T17:00:10.036036",
     "exception": false,
     "start_time": "2021-10-23T17:00:09.994313",
     "status": "completed"
    },
    "tags": []
   },
   "outputs": [],
   "source": [
    "df_pivot.columns = [\"stamp_1\", \"stamp_2\"]\n",
    "df_pivot_diff = df_pivot.diff(axis=1)"
   ]
  },
  {
   "cell_type": "code",
   "execution_count": 7,
   "id": "fifth-motion",
   "metadata": {
    "execution": {
     "iopub.execute_input": "2021-10-23T17:00:10.088869Z",
     "iopub.status.busy": "2021-10-23T17:00:10.086558Z",
     "iopub.status.idle": "2021-10-23T17:00:11.561977Z",
     "shell.execute_reply": "2021-10-23T17:00:11.563191Z"
    },
    "papermill": {
     "duration": 1.507771,
     "end_time": "2021-10-23T17:00:11.563625",
     "exception": false,
     "start_time": "2021-10-23T17:00:10.055854",
     "status": "completed"
    },
    "tags": []
   },
   "outputs": [
    {
     "data": {
      "text/plain": [
       "<AxesSubplot:ylabel='PRODUCT'>"
      ]
     },
     "execution_count": 7,
     "metadata": {},
     "output_type": "execute_result"
    },
    {
     "data": {
      "image/png": "[encoded data removed]",
      "text/plain": [
       "<Figure size 432x288 with 1 Axes>"
      ]
     },
     "metadata": {
      "needs_background": "light"
     },
     "output_type": "display_data"
    }
   ],
   "source": [
    "df_pivot_diff.sort_values(\"stamp_2\", ascending = False)[\"stamp_2\"].head(10).plot.barh()"
   ]
  },
  {
   "cell_type": "code",
   "execution_count": null,
   "id": "extra-executive",
   "metadata": {
    "papermill": {
     "duration": 0.022224,
     "end_time": "2021-10-23T17:00:11.612851",
     "exception": false,
     "start_time": "2021-10-23T17:00:11.590627",
     "status": "completed"
    },
    "tags": []
   },
   "outputs": [],
   "source": []
  }
 ],
 "metadata": {
  "kernelspec": {
   "display_name": "Python 3",
   "language": "python",
   "name": "python3"
  },
  "language_info": {
   "codemirror_mode": {
    "name": "ipython",
    "version": 3
   },
   "file_extension": ".py",
   "mimetype": "text/x-python",
   "name": "python",
   "nbconvert_exporter": "python",
   "pygments_lexer": "ipython3",
   "version": "3.9.5"
  },
  "papermill": {
   "default_parameters": {},
   "duration": 7.376751,
   "end_time": "2021-10-23T17:00:12.256457",
   "environment_variables": {},
   "exception": null,
   "input_path": "eBay_Overview.ipynb",
   "output_path": "eBay_Overview.ipynb",
   "parameters": {},
   "start_time": "2021-10-23T17:00:04.879706",
   "version": "2.3.3"
  }
 },
 "nbformat": 4,
 "nbformat_minor": 5
}