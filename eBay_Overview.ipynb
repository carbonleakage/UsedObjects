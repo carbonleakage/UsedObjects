{
 "cells": [
  {
   "cell_type": "code",
   "execution_count": 1,
   "id": "reverse-picking",
   "metadata": {
    "execution": {
     "iopub.execute_input": "2021-12-14T03:30:07.418257Z",
     "iopub.status.busy": "2021-12-14T03:30:07.415957Z",
     "iopub.status.idle": "2021-12-14T03:30:08.386967Z",
     "shell.execute_reply": "2021-12-14T03:30:08.388419Z"
    },
    "papermill": {
     "duration": 1.018377,
     "end_time": "2021-12-14T03:30:08.389198",
     "exception": false,
     "start_time": "2021-12-14T03:30:07.370821",
     "status": "completed"
    },
    "tags": []
   },
   "outputs": [],
   "source": [
    "import pandas as pd\n",
    "import sqlite3"
   ]
  },
  {
   "cell_type": "code",
   "execution_count": 2,
   "id": "innovative-syndrome",
   "metadata": {
    "execution": {
     "iopub.execute_input": "2021-12-14T03:30:08.454062Z",
     "iopub.status.busy": "2021-12-14T03:30:08.451738Z",
     "iopub.status.idle": "2021-12-14T03:30:09.554558Z",
     "shell.execute_reply": "2021-12-14T03:30:09.556796Z"
    },
    "papermill": {
     "duration": 1.137607,
     "end_time": "2021-12-14T03:30:09.557329",
     "exception": false,
     "start_time": "2021-12-14T03:30:08.419722",
     "status": "completed"
    },
    "tags": []
   },
   "outputs": [],
   "source": [
    "timestamps = pd.read_sql(\"select distinct record_time from EBAY_TOP_BERLIN order by record_time desc limit 2\", sqlite3.connect(\"UsedObjects.db\"))"
   ]
  },
  {
   "cell_type": "code",
   "execution_count": 3,
   "id": "periodic-identification",
   "metadata": {
    "execution": {
     "iopub.execute_input": "2021-12-14T03:30:09.629040Z",
     "iopub.status.busy": "2021-12-14T03:30:09.626710Z",
     "iopub.status.idle": "2021-12-14T03:30:09.649602Z",
     "shell.execute_reply": "2021-12-14T03:30:09.650960Z"
    },
    "papermill": {
     "duration": 0.071241,
     "end_time": "2021-12-14T03:30:09.651433",
     "exception": false,
     "start_time": "2021-12-14T03:30:09.580192",
     "status": "completed"
    },
    "tags": []
   },
   "outputs": [
    {
     "data": {
      "text/html": [
       "<div>\n",
       "<style scoped>\n",
       "    .dataframe tbody tr th:only-of-type {\n",
       "        vertical-align: middle;\n",
       "    }\n",
       "\n",
       "    .dataframe tbody tr th {\n",
       "        vertical-align: top;\n",
       "    }\n",
       "\n",
       "    .dataframe thead th {\n",
       "        text-align: right;\n",
       "    }\n",
       "</style>\n",
       "<table border=\"1\" class=\"dataframe\">\n",
       "  <thead>\n",
       "    <tr style=\"text-align: right;\">\n",
       "      <th></th>\n",
       "      <th>RECORD_TIME</th>\n",
       "    </tr>\n",
       "  </thead>\n",
       "  <tbody>\n",
       "    <tr>\n",
       "      <th>0</th>\n",
       "      <td>2021-12-14 04:30</td>\n",
       "    </tr>\n",
       "    <tr>\n",
       "      <th>1</th>\n",
       "      <td>2021-12-14 04:00</td>\n",
       "    </tr>\n",
       "  </tbody>\n",
       "</table>\n",
       "</div>"
      ],
      "text/plain": [
       "        RECORD_TIME\n",
       "0  2021-12-14 04:30\n",
       "1  2021-12-14 04:00"
      ]
     },
     "execution_count": 3,
     "metadata": {},
     "output_type": "execute_result"
    }
   ],
   "source": [
    "timestamps"
   ]
  },
  {
   "cell_type": "code",
   "execution_count": 4,
   "id": "alternate-victory",
   "metadata": {
    "execution": {
     "iopub.execute_input": "2021-12-14T03:30:09.705074Z",
     "iopub.status.busy": "2021-12-14T03:30:09.702279Z",
     "iopub.status.idle": "2021-12-14T03:30:11.283558Z",
     "shell.execute_reply": "2021-12-14T03:30:11.285259Z"
    },
    "papermill": {
     "duration": 1.613864,
     "end_time": "2021-12-14T03:30:11.285764",
     "exception": false,
     "start_time": "2021-12-14T03:30:09.671900",
     "status": "completed"
    },
    "tags": []
   },
   "outputs": [],
   "source": [
    "df = pd.read_sql(\"select * from EBAY_TOP_BERLIN where record_time in (select distinct record_time from EBAY_TOP_BERLIN order by record_time desc limit 2)\", sqlite3.connect(\"UsedObjects.db\"))"
   ]
  },
  {
   "cell_type": "code",
   "execution_count": 5,
   "id": "popular-active",
   "metadata": {
    "execution": {
     "iopub.execute_input": "2021-12-14T03:30:11.355965Z",
     "iopub.status.busy": "2021-12-14T03:30:11.344339Z",
     "iopub.status.idle": "2021-12-14T03:30:11.391234Z",
     "shell.execute_reply": "2021-12-14T03:30:11.389294Z"
    },
    "papermill": {
     "duration": 0.083994,
     "end_time": "2021-12-14T03:30:11.391707",
     "exception": false,
     "start_time": "2021-12-14T03:30:11.307713",
     "status": "completed"
    },
    "tags": []
   },
   "outputs": [],
   "source": [
    "df_pivot = df.pivot_table(index=\"PRODUCT\", columns = \"RECORD_TIME\", values = \"LISTING_COUNT\")"
   ]
  },
  {
   "cell_type": "code",
   "execution_count": 6,
   "id": "union-huntington",
   "metadata": {
    "execution": {
     "iopub.execute_input": "2021-12-14T03:30:11.455265Z",
     "iopub.status.busy": "2021-12-14T03:30:11.453047Z",
     "iopub.status.idle": "2021-12-14T03:30:11.458383Z",
     "shell.execute_reply": "2021-12-14T03:30:11.459743Z"
    },
    "papermill": {
     "duration": 0.045362,
     "end_time": "2021-12-14T03:30:11.460206",
     "exception": false,
     "start_time": "2021-12-14T03:30:11.414844",
     "status": "completed"
    },
    "tags": []
   },
   "outputs": [],
   "source": [
    "df_pivot.columns = [\"stamp_1\", \"stamp_2\"]\n",
    "df_pivot_diff = df_pivot.diff(axis=1)"
   ]
  },
  {
   "cell_type": "code",
   "execution_count": 7,
   "id": "fifth-motion",
   "metadata": {
    "execution": {
     "iopub.execute_input": "2021-12-14T03:30:11.515916Z",
     "iopub.status.busy": "2021-12-14T03:30:11.513463Z",
     "iopub.status.idle": "2021-12-14T03:30:13.512529Z",
     "shell.execute_reply": "2021-12-14T03:30:13.514618Z"
    },
    "papermill": {
     "duration": 2.035232,
     "end_time": "2021-12-14T03:30:13.515210",
     "exception": false,
     "start_time": "2021-12-14T03:30:11.479978",
     "status": "completed"
    },
    "tags": []
   },
   "outputs": [
    {
     "data": {
      "text/plain": [
       "<AxesSubplot:ylabel='PRODUCT'>"
      ]
     },
     "execution_count": 7,
     "metadata": {},
     "output_type": "execute_result"
    },
    {
     "data": {
      "image/png": "[encoded data removed]",
      "text/plain": [
       "<Figure size 432x288 with 1 Axes>"
      ]
     },
     "metadata": {
      "needs_background": "light"
     },
     "output_type": "display_data"
    }
   ],
   "source": [
    "df_pivot_diff.sort_values(\"stamp_2\", ascending = False)[\"stamp_2\"].head(10).plot.barh()"
   ]
  },
  {
   "cell_type": "code",
   "execution_count": null,
   "id": "extra-executive",
   "metadata": {
    "papermill": {
     "duration": 0.028887,
     "end_time": "2021-12-14T03:30:13.578943",
     "exception": false,
     "start_time": "2021-12-14T03:30:13.550056",
     "status": "completed"
    },
    "tags": []
   },
   "outputs": [],
   "source": []
  }
 ],
 "metadata": {
  "kernelspec": {
   "display_name": "Python 3",
   "language": "python",
   "name": "python3"
  },
  "language_info": {
   "codemirror_mode": {
    "name": "ipython",
    "version": 3
   },
   "file_extension": ".py",
   "mimetype": "text/x-python",
   "name": "python",
   "nbconvert_exporter": "python",
   "pygments_lexer": "ipython3",
   "version": "3.9.5"
  },
  "papermill": {
   "default_parameters": {},
   "duration": 9.633359,
   "end_time": "2021-12-14T03:30:14.226959",
   "environment_variables": {},
   "exception": null,
   "input_path": "eBay_Overview.ipynb",
   "output_path": "eBay_Overview.ipynb",
   "parameters": {},
   "start_time": "2021-12-14T03:30:04.593600",
   "version": "2.3.3"
  }
 },
 "nbformat": 4,
 "nbformat_minor": 5
}