{
 "cells": [
  {
   "cell_type": "code",
   "execution_count": 1,
   "id": "reverse-picking",
   "metadata": {
    "execution": {
     "iopub.execute_input": "2021-08-13T21:00:06.959943Z",
     "iopub.status.busy": "2021-08-13T21:00:06.957993Z",
     "iopub.status.idle": "2021-08-13T21:00:07.782686Z",
     "shell.execute_reply": "2021-08-13T21:00:07.783968Z"
    },
    "papermill": {
     "duration": 0.875846,
     "end_time": "2021-08-13T21:00:07.784584",
     "exception": false,
     "start_time": "2021-08-13T21:00:06.908738",
     "status": "completed"
    },
    "tags": []
   },
   "outputs": [],
   "source": [
    "import pandas as pd\n",
    "import sqlite3"
   ]
  },
  {
   "cell_type": "code",
   "execution_count": 2,
   "id": "innovative-syndrome",
   "metadata": {
    "execution": {
     "iopub.execute_input": "2021-08-13T21:00:07.835887Z",
     "iopub.status.busy": "2021-08-13T21:00:07.833981Z",
     "iopub.status.idle": "2021-08-13T21:00:07.877299Z",
     "shell.execute_reply": "2021-08-13T21:00:07.878664Z"
    },
    "papermill": {
     "duration": 0.073551,
     "end_time": "2021-08-13T21:00:07.879096",
     "exception": false,
     "start_time": "2021-08-13T21:00:07.805545",
     "status": "completed"
    },
    "tags": []
   },
   "outputs": [],
   "source": [
    "timestamps = pd.read_sql(\"select distinct record_time from EBAY_TOP_BERLIN order by record_time desc limit 2\", sqlite3.connect(\"UsedObjects.db\"))"
   ]
  },
  {
   "cell_type": "code",
   "execution_count": 3,
   "id": "periodic-identification",
   "metadata": {
    "execution": {
     "iopub.execute_input": "2021-08-13T21:00:07.944937Z",
     "iopub.status.busy": "2021-08-13T21:00:07.942730Z",
     "iopub.status.idle": "2021-08-13T21:00:07.963967Z",
     "shell.execute_reply": "2021-08-13T21:00:07.965088Z"
    },
    "papermill": {
     "duration": 0.066978,
     "end_time": "2021-08-13T21:00:07.965492",
     "exception": false,
     "start_time": "2021-08-13T21:00:07.898514",
     "status": "completed"
    },
    "tags": []
   },
   "outputs": [
    {
     "data": {
      "text/html": [
       "<div>\n",
       "<style scoped>\n",
       "    .dataframe tbody tr th:only-of-type {\n",
       "        vertical-align: middle;\n",
       "    }\n",
       "\n",
       "    .dataframe tbody tr th {\n",
       "        vertical-align: top;\n",
       "    }\n",
       "\n",
       "    .dataframe thead th {\n",
       "        text-align: right;\n",
       "    }\n",
       "</style>\n",
       "<table border=\"1\" class=\"dataframe\">\n",
       "  <thead>\n",
       "    <tr style=\"text-align: right;\">\n",
       "      <th></th>\n",
       "      <th>RECORD_TIME</th>\n",
       "    </tr>\n",
       "  </thead>\n",
       "  <tbody>\n",
       "    <tr>\n",
       "      <th>0</th>\n",
       "      <td>2021-08-13 23:00</td>\n",
       "    </tr>\n",
       "    <tr>\n",
       "      <th>1</th>\n",
       "      <td>2021-08-13 22:30</td>\n",
       "    </tr>\n",
       "  </tbody>\n",
       "</table>\n",
       "</div>"
      ],
      "text/plain": [
       "        RECORD_TIME\n",
       "0  2021-08-13 23:00\n",
       "1  2021-08-13 22:30"
      ]
     },
     "execution_count": 3,
     "metadata": {},
     "output_type": "execute_result"
    }
   ],
   "source": [
    "timestamps"
   ]
  },
  {
   "cell_type": "code",
   "execution_count": 4,
   "id": "alternate-victory",
   "metadata": {
    "execution": {
     "iopub.execute_input": "2021-08-13T21:00:08.021387Z",
     "iopub.status.busy": "2021-08-13T21:00:08.019476Z",
     "iopub.status.idle": "2021-08-13T21:00:08.082946Z",
     "shell.execute_reply": "2021-08-13T21:00:08.084166Z"
    },
    "papermill": {
     "duration": 0.094267,
     "end_time": "2021-08-13T21:00:08.084562",
     "exception": false,
     "start_time": "2021-08-13T21:00:07.990295",
     "status": "completed"
    },
    "tags": []
   },
   "outputs": [],
   "source": [
    "df = pd.read_sql(\"select * from EBAY_TOP_BERLIN where record_time in (select distinct record_time from EBAY_TOP_BERLIN order by record_time desc limit 2)\", sqlite3.connect(\"UsedObjects.db\"))"
   ]
  },
  {
   "cell_type": "code",
   "execution_count": 5,
   "id": "popular-active",
   "metadata": {
    "execution": {
     "iopub.execute_input": "2021-08-13T21:00:08.156705Z",
     "iopub.status.busy": "2021-08-13T21:00:08.143926Z",
     "iopub.status.idle": "2021-08-13T21:00:08.172385Z",
     "shell.execute_reply": "2021-08-13T21:00:08.173603Z"
    },
    "papermill": {
     "duration": 0.068887,
     "end_time": "2021-08-13T21:00:08.174058",
     "exception": false,
     "start_time": "2021-08-13T21:00:08.105171",
     "status": "completed"
    },
    "tags": []
   },
   "outputs": [],
   "source": [
    "df_pivot = df.pivot_table(index=\"PRODUCT\", columns = \"RECORD_TIME\", values = \"LISTING_COUNT\")"
   ]
  },
  {
   "cell_type": "code",
   "execution_count": 6,
   "id": "union-huntington",
   "metadata": {
    "execution": {
     "iopub.execute_input": "2021-08-13T21:00:08.231509Z",
     "iopub.status.busy": "2021-08-13T21:00:08.229263Z",
     "iopub.status.idle": "2021-08-13T21:00:08.234879Z",
     "shell.execute_reply": "2021-08-13T21:00:08.236352Z"
    },
    "papermill": {
     "duration": 0.041735,
     "end_time": "2021-08-13T21:00:08.236827",
     "exception": false,
     "start_time": "2021-08-13T21:00:08.195092",
     "status": "completed"
    },
    "tags": []
   },
   "outputs": [],
   "source": [
    "df_pivot.columns = [\"stamp_1\", \"stamp_2\"]\n",
    "df_pivot_diff = df_pivot.diff(axis=1)"
   ]
  },
  {
   "cell_type": "code",
   "execution_count": 7,
   "id": "fifth-motion",
   "metadata": {
    "execution": {
     "iopub.execute_input": "2021-08-13T21:00:08.292855Z",
     "iopub.status.busy": "2021-08-13T21:00:08.290535Z",
     "iopub.status.idle": "2021-08-13T21:00:09.819911Z",
     "shell.execute_reply": "2021-08-13T21:00:09.821198Z"
    },
    "papermill": {
     "duration": 1.562917,
     "end_time": "2021-08-13T21:00:09.821613",
     "exception": false,
     "start_time": "2021-08-13T21:00:08.258696",
     "status": "completed"
    },
    "tags": []
   },
   "outputs": [
    {
     "data": {
      "text/plain": [
       "<AxesSubplot:ylabel='PRODUCT'>"
      ]
     },
     "execution_count": 7,
     "metadata": {},
     "output_type": "execute_result"
    },
    {
     "data": {
      "image/png": "[encoded data removed]",
      "text/plain": [
       "<Figure size 432x288 with 1 Axes>"
      ]
     },
     "metadata": {
      "needs_background": "light"
     },
     "output_type": "display_data"
    }
   ],
   "source": [
    "df_pivot_diff.sort_values(\"stamp_2\", ascending = False)[\"stamp_2\"].head(10).plot.barh()"
   ]
  },
  {
   "cell_type": "code",
   "execution_count": null,
   "id": "extra-executive",
   "metadata": {
    "papermill": {
     "duration": 0.02277,
     "end_time": "2021-08-13T21:00:09.869690",
     "exception": false,
     "start_time": "2021-08-13T21:00:09.846920",
     "status": "completed"
    },
    "tags": []
   },
   "outputs": [],
   "source": []
  }
 ],
 "metadata": {
  "kernelspec": {
   "display_name": "Python 3",
   "language": "python",
   "name": "python3"
  },
  "language_info": {
   "codemirror_mode": {
    "name": "ipython",
    "version": 3
   },
   "file_extension": ".py",
   "mimetype": "text/x-python",
   "name": "python",
   "nbconvert_exporter": "python",
   "pygments_lexer": "ipython3",
   "version": "3.9.5"
  },
  "papermill": {
   "default_parameters": {},
   "duration": 6.841913,
   "end_time": "2021-08-13T21:00:11.314251",
   "environment_variables": {},
   "exception": null,
   "input_path": "eBay_Overview.ipynb",
   "output_path": "eBay_Overview.ipynb",
   "parameters": {},
   "start_time": "2021-08-13T21:00:04.472338",
   "version": "2.3.3"
  }
 },
 "nbformat": 4,
 "nbformat_minor": 5
}