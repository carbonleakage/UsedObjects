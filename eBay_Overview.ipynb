{
 "cells": [
  {
   "cell_type": "code",
   "execution_count": 1,
   "id": "reverse-picking",
   "metadata": {
    "execution": {
     "iopub.execute_input": "2021-11-13T08:30:08.086754Z",
     "iopub.status.busy": "2021-11-13T08:30:08.084380Z",
     "iopub.status.idle": "2021-11-13T08:30:09.036489Z",
     "shell.execute_reply": "2021-11-13T08:30:09.038173Z"
    },
    "papermill": {
     "duration": 1.001175,
     "end_time": "2021-11-13T08:30:09.038940",
     "exception": false,
     "start_time": "2021-11-13T08:30:08.037765",
     "status": "completed"
    },
    "tags": []
   },
   "outputs": [],
   "source": [
    "import pandas as pd\n",
    "import sqlite3"
   ]
  },
  {
   "cell_type": "code",
   "execution_count": 2,
   "id": "innovative-syndrome",
   "metadata": {
    "execution": {
     "iopub.execute_input": "2021-11-13T08:30:09.104067Z",
     "iopub.status.busy": "2021-11-13T08:30:09.099909Z",
     "iopub.status.idle": "2021-11-13T08:30:09.895957Z",
     "shell.execute_reply": "2021-11-13T08:30:09.897476Z"
    },
    "papermill": {
     "duration": 0.831795,
     "end_time": "2021-11-13T08:30:09.897975",
     "exception": false,
     "start_time": "2021-11-13T08:30:09.066180",
     "status": "completed"
    },
    "tags": []
   },
   "outputs": [],
   "source": [
    "timestamps = pd.read_sql(\"select distinct record_time from EBAY_TOP_BERLIN order by record_time desc limit 2\", sqlite3.connect(\"UsedObjects.db\"))"
   ]
  },
  {
   "cell_type": "code",
   "execution_count": 3,
   "id": "periodic-identification",
   "metadata": {
    "execution": {
     "iopub.execute_input": "2021-11-13T08:30:09.968069Z",
     "iopub.status.busy": "2021-11-13T08:30:09.965772Z",
     "iopub.status.idle": "2021-11-13T08:30:09.988486Z",
     "shell.execute_reply": "2021-11-13T08:30:09.990341Z"
    },
    "papermill": {
     "duration": 0.072703,
     "end_time": "2021-11-13T08:30:09.990882",
     "exception": false,
     "start_time": "2021-11-13T08:30:09.918179",
     "status": "completed"
    },
    "tags": []
   },
   "outputs": [
    {
     "data": {
      "text/html": [
       "<div>\n",
       "<style scoped>\n",
       "    .dataframe tbody tr th:only-of-type {\n",
       "        vertical-align: middle;\n",
       "    }\n",
       "\n",
       "    .dataframe tbody tr th {\n",
       "        vertical-align: top;\n",
       "    }\n",
       "\n",
       "    .dataframe thead th {\n",
       "        text-align: right;\n",
       "    }\n",
       "</style>\n",
       "<table border=\"1\" class=\"dataframe\">\n",
       "  <thead>\n",
       "    <tr style=\"text-align: right;\">\n",
       "      <th></th>\n",
       "      <th>RECORD_TIME</th>\n",
       "    </tr>\n",
       "  </thead>\n",
       "  <tbody>\n",
       "    <tr>\n",
       "      <th>0</th>\n",
       "      <td>2021-11-13 09:30</td>\n",
       "    </tr>\n",
       "    <tr>\n",
       "      <th>1</th>\n",
       "      <td>2021-11-13 09:00</td>\n",
       "    </tr>\n",
       "  </tbody>\n",
       "</table>\n",
       "</div>"
      ],
      "text/plain": [
       "        RECORD_TIME\n",
       "0  2021-11-13 09:30\n",
       "1  2021-11-13 09:00"
      ]
     },
     "execution_count": 3,
     "metadata": {},
     "output_type": "execute_result"
    }
   ],
   "source": [
    "timestamps"
   ]
  },
  {
   "cell_type": "code",
   "execution_count": 4,
   "id": "alternate-victory",
   "metadata": {
    "execution": {
     "iopub.execute_input": "2021-11-13T08:30:10.045946Z",
     "iopub.status.busy": "2021-11-13T08:30:10.043984Z",
     "iopub.status.idle": "2021-11-13T08:30:11.211777Z",
     "shell.execute_reply": "2021-11-13T08:30:11.213487Z"
    },
    "papermill": {
     "duration": 1.198587,
     "end_time": "2021-11-13T08:30:11.213979",
     "exception": false,
     "start_time": "2021-11-13T08:30:10.015392",
     "status": "completed"
    },
    "tags": []
   },
   "outputs": [],
   "source": [
    "df = pd.read_sql(\"select * from EBAY_TOP_BERLIN where record_time in (select distinct record_time from EBAY_TOP_BERLIN order by record_time desc limit 2)\", sqlite3.connect(\"UsedObjects.db\"))"
   ]
  },
  {
   "cell_type": "code",
   "execution_count": 5,
   "id": "popular-active",
   "metadata": {
    "execution": {
     "iopub.execute_input": "2021-11-13T08:30:11.291106Z",
     "iopub.status.busy": "2021-11-13T08:30:11.278340Z",
     "iopub.status.idle": "2021-11-13T08:30:11.310201Z",
     "shell.execute_reply": "2021-11-13T08:30:11.311653Z"
    },
    "papermill": {
     "duration": 0.076203,
     "end_time": "2021-11-13T08:30:11.312171",
     "exception": false,
     "start_time": "2021-11-13T08:30:11.235968",
     "status": "completed"
    },
    "tags": []
   },
   "outputs": [],
   "source": [
    "df_pivot = df.pivot_table(index=\"PRODUCT\", columns = \"RECORD_TIME\", values = \"LISTING_COUNT\")"
   ]
  },
  {
   "cell_type": "code",
   "execution_count": 6,
   "id": "union-huntington",
   "metadata": {
    "execution": {
     "iopub.execute_input": "2021-11-13T08:30:11.374522Z",
     "iopub.status.busy": "2021-11-13T08:30:11.372226Z",
     "iopub.status.idle": "2021-11-13T08:30:11.377919Z",
     "shell.execute_reply": "2021-11-13T08:30:11.379368Z"
    },
    "papermill": {
     "duration": 0.046393,
     "end_time": "2021-11-13T08:30:11.379869",
     "exception": false,
     "start_time": "2021-11-13T08:30:11.333476",
     "status": "completed"
    },
    "tags": []
   },
   "outputs": [],
   "source": [
    "df_pivot.columns = [\"stamp_1\", \"stamp_2\"]\n",
    "df_pivot_diff = df_pivot.diff(axis=1)"
   ]
  },
  {
   "cell_type": "code",
   "execution_count": 7,
   "id": "fifth-motion",
   "metadata": {
    "execution": {
     "iopub.execute_input": "2021-11-13T08:30:11.442267Z",
     "iopub.status.busy": "2021-11-13T08:30:11.437482Z",
     "iopub.status.idle": "2021-11-13T08:30:13.300120Z",
     "shell.execute_reply": "2021-11-13T08:30:13.301836Z"
    },
    "papermill": {
     "duration": 1.900204,
     "end_time": "2021-11-13T08:30:13.302345",
     "exception": false,
     "start_time": "2021-11-13T08:30:11.402141",
     "status": "completed"
    },
    "tags": []
   },
   "outputs": [
    {
     "data": {
      "text/plain": [
       "<AxesSubplot:ylabel='PRODUCT'>"
      ]
     },
     "execution_count": 7,
     "metadata": {},
     "output_type": "execute_result"
    },
    {
     "data": {
      "image/png": "[encoded data removed]",
      "text/plain": [
       "<Figure size 432x288 with 1 Axes>"
      ]
     },
     "metadata": {
      "needs_background": "light"
     },
     "output_type": "display_data"
    }
   ],
   "source": [
    "df_pivot_diff.sort_values(\"stamp_2\", ascending = False)[\"stamp_2\"].head(10).plot.barh()"
   ]
  },
  {
   "cell_type": "code",
   "execution_count": null,
   "id": "extra-executive",
   "metadata": {
    "papermill": {
     "duration": 0.023837,
     "end_time": "2021-11-13T08:30:13.350441",
     "exception": false,
     "start_time": "2021-11-13T08:30:13.326604",
     "status": "completed"
    },
    "tags": []
   },
   "outputs": [],
   "source": []
  }
 ],
 "metadata": {
  "kernelspec": {
   "display_name": "Python 3",
   "language": "python",
   "name": "python3"
  },
  "language_info": {
   "codemirror_mode": {
    "name": "ipython",
    "version": 3
   },
   "file_extension": ".py",
   "mimetype": "text/x-python",
   "name": "python",
   "nbconvert_exporter": "python",
   "pygments_lexer": "ipython3",
   "version": "3.9.5"
  },
  "papermill": {
   "default_parameters": {},
   "duration": 10.948328,
   "end_time": "2021-11-13T08:30:16.261671",
   "environment_variables": {},
   "exception": null,
   "input_path": "eBay_Overview.ipynb",
   "output_path": "eBay_Overview.ipynb",
   "parameters": {},
   "start_time": "2021-11-13T08:30:05.313343",
   "version": "2.3.3"
  }
 },
 "nbformat": 4,
 "nbformat_minor": 5
}