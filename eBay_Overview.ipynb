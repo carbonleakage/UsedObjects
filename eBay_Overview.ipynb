{
 "cells": [
  {
   "cell_type": "code",
   "execution_count": 1,
   "id": "reverse-picking",
   "metadata": {
    "execution": {
     "iopub.execute_input": "2021-08-30T11:30:07.461843Z",
     "iopub.status.busy": "2021-08-30T11:30:07.459857Z",
     "iopub.status.idle": "2021-08-30T11:30:08.265056Z",
     "shell.execute_reply": "2021-08-30T11:30:08.263387Z"
    },
    "papermill": {
     "duration": 0.853735,
     "end_time": "2021-08-30T11:30:08.265477",
     "exception": false,
     "start_time": "2021-08-30T11:30:07.411742",
     "status": "completed"
    },
    "tags": []
   },
   "outputs": [],
   "source": [
    "import pandas as pd\n",
    "import sqlite3"
   ]
  },
  {
   "cell_type": "code",
   "execution_count": 2,
   "id": "innovative-syndrome",
   "metadata": {
    "execution": {
     "iopub.execute_input": "2021-08-30T11:30:08.315838Z",
     "iopub.status.busy": "2021-08-30T11:30:08.314025Z",
     "iopub.status.idle": "2021-08-30T11:30:08.477916Z",
     "shell.execute_reply": "2021-08-30T11:30:08.479091Z"
    },
    "papermill": {
     "duration": 0.193294,
     "end_time": "2021-08-30T11:30:08.479488",
     "exception": false,
     "start_time": "2021-08-30T11:30:08.286194",
     "status": "completed"
    },
    "tags": []
   },
   "outputs": [],
   "source": [
    "timestamps = pd.read_sql(\"select distinct record_time from EBAY_TOP_BERLIN order by record_time desc limit 2\", sqlite3.connect(\"UsedObjects.db\"))"
   ]
  },
  {
   "cell_type": "code",
   "execution_count": 3,
   "id": "periodic-identification",
   "metadata": {
    "execution": {
     "iopub.execute_input": "2021-08-30T11:30:08.543402Z",
     "iopub.status.busy": "2021-08-30T11:30:08.541413Z",
     "iopub.status.idle": "2021-08-30T11:30:08.562724Z",
     "shell.execute_reply": "2021-08-30T11:30:08.563908Z"
    },
    "papermill": {
     "duration": 0.065627,
     "end_time": "2021-08-30T11:30:08.564461",
     "exception": false,
     "start_time": "2021-08-30T11:30:08.498834",
     "status": "completed"
    },
    "tags": []
   },
   "outputs": [
    {
     "data": {
      "text/html": [
       "<div>\n",
       "<style scoped>\n",
       "    .dataframe tbody tr th:only-of-type {\n",
       "        vertical-align: middle;\n",
       "    }\n",
       "\n",
       "    .dataframe tbody tr th {\n",
       "        vertical-align: top;\n",
       "    }\n",
       "\n",
       "    .dataframe thead th {\n",
       "        text-align: right;\n",
       "    }\n",
       "</style>\n",
       "<table border=\"1\" class=\"dataframe\">\n",
       "  <thead>\n",
       "    <tr style=\"text-align: right;\">\n",
       "      <th></th>\n",
       "      <th>RECORD_TIME</th>\n",
       "    </tr>\n",
       "  </thead>\n",
       "  <tbody>\n",
       "    <tr>\n",
       "      <th>0</th>\n",
       "      <td>2021-08-30 13:30</td>\n",
       "    </tr>\n",
       "    <tr>\n",
       "      <th>1</th>\n",
       "      <td>2021-08-30 13:00</td>\n",
       "    </tr>\n",
       "  </tbody>\n",
       "</table>\n",
       "</div>"
      ],
      "text/plain": [
       "        RECORD_TIME\n",
       "0  2021-08-30 13:30\n",
       "1  2021-08-30 13:00"
      ]
     },
     "execution_count": 3,
     "metadata": {},
     "output_type": "execute_result"
    }
   ],
   "source": [
    "timestamps"
   ]
  },
  {
   "cell_type": "code",
   "execution_count": 4,
   "id": "alternate-victory",
   "metadata": {
    "execution": {
     "iopub.execute_input": "2021-08-30T11:30:08.617003Z",
     "iopub.status.busy": "2021-08-30T11:30:08.614710Z",
     "iopub.status.idle": "2021-08-30T11:30:08.858772Z",
     "shell.execute_reply": "2021-08-30T11:30:08.859952Z"
    },
    "papermill": {
     "duration": 0.274427,
     "end_time": "2021-08-30T11:30:08.860400",
     "exception": false,
     "start_time": "2021-08-30T11:30:08.585973",
     "status": "completed"
    },
    "tags": []
   },
   "outputs": [],
   "source": [
    "df = pd.read_sql(\"select * from EBAY_TOP_BERLIN where record_time in (select distinct record_time from EBAY_TOP_BERLIN order by record_time desc limit 2)\", sqlite3.connect(\"UsedObjects.db\"))"
   ]
  },
  {
   "cell_type": "code",
   "execution_count": 5,
   "id": "popular-active",
   "metadata": {
    "execution": {
     "iopub.execute_input": "2021-08-30T11:30:08.937279Z",
     "iopub.status.busy": "2021-08-30T11:30:08.926470Z",
     "iopub.status.idle": "2021-08-30T11:30:08.953977Z",
     "shell.execute_reply": "2021-08-30T11:30:08.955177Z"
    },
    "papermill": {
     "duration": 0.07487,
     "end_time": "2021-08-30T11:30:08.955567",
     "exception": false,
     "start_time": "2021-08-30T11:30:08.880697",
     "status": "completed"
    },
    "tags": []
   },
   "outputs": [],
   "source": [
    "df_pivot = df.pivot_table(index=\"PRODUCT\", columns = \"RECORD_TIME\", values = \"LISTING_COUNT\")"
   ]
  },
  {
   "cell_type": "code",
   "execution_count": 6,
   "id": "union-huntington",
   "metadata": {
    "execution": {
     "iopub.execute_input": "2021-08-30T11:30:09.014768Z",
     "iopub.status.busy": "2021-08-30T11:30:09.012366Z",
     "iopub.status.idle": "2021-08-30T11:30:09.018325Z",
     "shell.execute_reply": "2021-08-30T11:30:09.019571Z"
    },
    "papermill": {
     "duration": 0.042233,
     "end_time": "2021-08-30T11:30:09.019988",
     "exception": false,
     "start_time": "2021-08-30T11:30:08.977755",
     "status": "completed"
    },
    "tags": []
   },
   "outputs": [],
   "source": [
    "df_pivot.columns = [\"stamp_1\", \"stamp_2\"]\n",
    "df_pivot_diff = df_pivot.diff(axis=1)"
   ]
  },
  {
   "cell_type": "code",
   "execution_count": 7,
   "id": "fifth-motion",
   "metadata": {
    "execution": {
     "iopub.execute_input": "2021-08-30T11:30:09.074782Z",
     "iopub.status.busy": "2021-08-30T11:30:09.072320Z",
     "iopub.status.idle": "2021-08-30T11:30:10.598461Z",
     "shell.execute_reply": "2021-08-30T11:30:10.599712Z"
    },
    "papermill": {
     "duration": 1.559683,
     "end_time": "2021-08-30T11:30:10.600130",
     "exception": false,
     "start_time": "2021-08-30T11:30:09.040447",
     "status": "completed"
    },
    "tags": []
   },
   "outputs": [
    {
     "data": {
      "text/plain": [
       "<AxesSubplot:ylabel='PRODUCT'>"
      ]
     },
     "execution_count": 7,
     "metadata": {},
     "output_type": "execute_result"
    },
    {
     "data": {
      "image/png": "[encoded data removed]",
      "text/plain": [
       "<Figure size 432x288 with 1 Axes>"
      ]
     },
     "metadata": {
      "needs_background": "light"
     },
     "output_type": "display_data"
    }
   ],
   "source": [
    "df_pivot_diff.sort_values(\"stamp_2\", ascending = False)[\"stamp_2\"].head(10).plot.barh()"
   ]
  },
  {
   "cell_type": "code",
   "execution_count": null,
   "id": "extra-executive",
   "metadata": {
    "papermill": {
     "duration": 0.022133,
     "end_time": "2021-08-30T11:30:10.648267",
     "exception": false,
     "start_time": "2021-08-30T11:30:10.626134",
     "status": "completed"
    },
    "tags": []
   },
   "outputs": [],
   "source": []
  }
 ],
 "metadata": {
  "kernelspec": {
   "display_name": "Python 3",
   "language": "python",
   "name": "python3"
  },
  "language_info": {
   "codemirror_mode": {
    "name": "ipython",
    "version": 3
   },
   "file_extension": ".py",
   "mimetype": "text/x-python",
   "name": "python",
   "nbconvert_exporter": "python",
   "pygments_lexer": "ipython3",
   "version": "3.9.5"
  },
  "papermill": {
   "default_parameters": {},
   "duration": 6.819189,
   "end_time": "2021-08-30T11:30:11.833171",
   "environment_variables": {},
   "exception": null,
   "input_path": "eBay_Overview.ipynb",
   "output_path": "eBay_Overview.ipynb",
   "parameters": {},
   "start_time": "2021-08-30T11:30:05.013982",
   "version": "2.3.3"
  }
 },
 "nbformat": 4,
 "nbformat_minor": 5
}