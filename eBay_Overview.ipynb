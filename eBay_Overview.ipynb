{
 "cells": [
  {
   "cell_type": "code",
   "execution_count": 1,
   "id": "reverse-picking",
   "metadata": {
    "execution": {
     "iopub.execute_input": "2021-09-22T15:00:07.708680Z",
     "iopub.status.busy": "2021-09-22T15:00:07.706517Z",
     "iopub.status.idle": "2021-09-22T15:00:08.511853Z",
     "shell.execute_reply": "2021-09-22T15:00:08.513144Z"
    },
    "papermill": {
     "duration": 0.856202,
     "end_time": "2021-09-22T15:00:08.513757",
     "exception": false,
     "start_time": "2021-09-22T15:00:07.657555",
     "status": "completed"
    },
    "tags": []
   },
   "outputs": [],
   "source": [
    "import pandas as pd\n",
    "import sqlite3"
   ]
  },
  {
   "cell_type": "code",
   "execution_count": 2,
   "id": "innovative-syndrome",
   "metadata": {
    "execution": {
     "iopub.execute_input": "2021-09-22T15:00:08.567366Z",
     "iopub.status.busy": "2021-09-22T15:00:08.564944Z",
     "iopub.status.idle": "2021-09-22T15:00:08.923182Z",
     "shell.execute_reply": "2021-09-22T15:00:08.924686Z"
    },
    "papermill": {
     "duration": 0.388398,
     "end_time": "2021-09-22T15:00:08.925141",
     "exception": false,
     "start_time": "2021-09-22T15:00:08.536743",
     "status": "completed"
    },
    "tags": []
   },
   "outputs": [],
   "source": [
    "timestamps = pd.read_sql(\"select distinct record_time from EBAY_TOP_BERLIN order by record_time desc limit 2\", sqlite3.connect(\"UsedObjects.db\"))"
   ]
  },
  {
   "cell_type": "code",
   "execution_count": 3,
   "id": "periodic-identification",
   "metadata": {
    "execution": {
     "iopub.execute_input": "2021-09-22T15:00:08.991818Z",
     "iopub.status.busy": "2021-09-22T15:00:08.989698Z",
     "iopub.status.idle": "2021-09-22T15:00:09.009715Z",
     "shell.execute_reply": "2021-09-22T15:00:09.011094Z"
    },
    "papermill": {
     "duration": 0.066643,
     "end_time": "2021-09-22T15:00:09.011573",
     "exception": false,
     "start_time": "2021-09-22T15:00:08.944930",
     "status": "completed"
    },
    "tags": []
   },
   "outputs": [
    {
     "data": {
      "text/html": [
       "<div>\n",
       "<style scoped>\n",
       "    .dataframe tbody tr th:only-of-type {\n",
       "        vertical-align: middle;\n",
       "    }\n",
       "\n",
       "    .dataframe tbody tr th {\n",
       "        vertical-align: top;\n",
       "    }\n",
       "\n",
       "    .dataframe thead th {\n",
       "        text-align: right;\n",
       "    }\n",
       "</style>\n",
       "<table border=\"1\" class=\"dataframe\">\n",
       "  <thead>\n",
       "    <tr style=\"text-align: right;\">\n",
       "      <th></th>\n",
       "      <th>RECORD_TIME</th>\n",
       "    </tr>\n",
       "  </thead>\n",
       "  <tbody>\n",
       "    <tr>\n",
       "      <th>0</th>\n",
       "      <td>2021-09-22 17:00</td>\n",
       "    </tr>\n",
       "    <tr>\n",
       "      <th>1</th>\n",
       "      <td>2021-09-22 16:30</td>\n",
       "    </tr>\n",
       "  </tbody>\n",
       "</table>\n",
       "</div>"
      ],
      "text/plain": [
       "        RECORD_TIME\n",
       "0  2021-09-22 17:00\n",
       "1  2021-09-22 16:30"
      ]
     },
     "execution_count": 3,
     "metadata": {},
     "output_type": "execute_result"
    }
   ],
   "source": [
    "timestamps"
   ]
  },
  {
   "cell_type": "code",
   "execution_count": 4,
   "id": "alternate-victory",
   "metadata": {
    "execution": {
     "iopub.execute_input": "2021-09-22T15:00:09.063497Z",
     "iopub.status.busy": "2021-09-22T15:00:09.061537Z",
     "iopub.status.idle": "2021-09-22T15:00:09.596949Z",
     "shell.execute_reply": "2021-09-22T15:00:09.598169Z"
    },
    "papermill": {
     "duration": 0.565145,
     "end_time": "2021-09-22T15:00:09.598574",
     "exception": false,
     "start_time": "2021-09-22T15:00:09.033429",
     "status": "completed"
    },
    "tags": []
   },
   "outputs": [],
   "source": [
    "df = pd.read_sql(\"select * from EBAY_TOP_BERLIN where record_time in (select distinct record_time from EBAY_TOP_BERLIN order by record_time desc limit 2)\", sqlite3.connect(\"UsedObjects.db\"))"
   ]
  },
  {
   "cell_type": "code",
   "execution_count": 5,
   "id": "popular-active",
   "metadata": {
    "execution": {
     "iopub.execute_input": "2021-09-22T15:00:09.681602Z",
     "iopub.status.busy": "2021-09-22T15:00:09.669529Z",
     "iopub.status.idle": "2021-09-22T15:00:09.700010Z",
     "shell.execute_reply": "2021-09-22T15:00:09.701243Z"
    },
    "papermill": {
     "duration": 0.075216,
     "end_time": "2021-09-22T15:00:09.701642",
     "exception": false,
     "start_time": "2021-09-22T15:00:09.626426",
     "status": "completed"
    },
    "tags": []
   },
   "outputs": [],
   "source": [
    "df_pivot = df.pivot_table(index=\"PRODUCT\", columns = \"RECORD_TIME\", values = \"LISTING_COUNT\")"
   ]
  },
  {
   "cell_type": "code",
   "execution_count": 6,
   "id": "union-huntington",
   "metadata": {
    "execution": {
     "iopub.execute_input": "2021-09-22T15:00:09.757458Z",
     "iopub.status.busy": "2021-09-22T15:00:09.755408Z",
     "iopub.status.idle": "2021-09-22T15:00:09.760621Z",
     "shell.execute_reply": "2021-09-22T15:00:09.761801Z"
    },
    "papermill": {
     "duration": 0.040043,
     "end_time": "2021-09-22T15:00:09.762238",
     "exception": false,
     "start_time": "2021-09-22T15:00:09.722195",
     "status": "completed"
    },
    "tags": []
   },
   "outputs": [],
   "source": [
    "df_pivot.columns = [\"stamp_1\", \"stamp_2\"]\n",
    "df_pivot_diff = df_pivot.diff(axis=1)"
   ]
  },
  {
   "cell_type": "code",
   "execution_count": 7,
   "id": "fifth-motion",
   "metadata": {
    "execution": {
     "iopub.execute_input": "2021-09-22T15:00:09.816501Z",
     "iopub.status.busy": "2021-09-22T15:00:09.813796Z",
     "iopub.status.idle": "2021-09-22T15:00:11.319032Z",
     "shell.execute_reply": "2021-09-22T15:00:11.320328Z"
    },
    "papermill": {
     "duration": 1.538356,
     "end_time": "2021-09-22T15:00:11.320788",
     "exception": false,
     "start_time": "2021-09-22T15:00:09.782432",
     "status": "completed"
    },
    "tags": []
   },
   "outputs": [
    {
     "data": {
      "text/plain": [
       "<AxesSubplot:ylabel='PRODUCT'>"
      ]
     },
     "execution_count": 7,
     "metadata": {},
     "output_type": "execute_result"
    },
    {
     "data": {
      "image/png": "[encoded data removed]",
      "text/plain": [
       "<Figure size 432x288 with 1 Axes>"
      ]
     },
     "metadata": {
      "needs_background": "light"
     },
     "output_type": "display_data"
    }
   ],
   "source": [
    "df_pivot_diff.sort_values(\"stamp_2\", ascending = False)[\"stamp_2\"].head(10).plot.barh()"
   ]
  },
  {
   "cell_type": "code",
   "execution_count": null,
   "id": "extra-executive",
   "metadata": {
    "papermill": {
     "duration": 0.022276,
     "end_time": "2021-09-22T15:00:11.367559",
     "exception": false,
     "start_time": "2021-09-22T15:00:11.345283",
     "status": "completed"
    },
    "tags": []
   },
   "outputs": [],
   "source": []
  }
 ],
 "metadata": {
  "kernelspec": {
   "display_name": "Python 3",
   "language": "python",
   "name": "python3"
  },
  "language_info": {
   "codemirror_mode": {
    "name": "ipython",
    "version": 3
   },
   "file_extension": ".py",
   "mimetype": "text/x-python",
   "name": "python",
   "nbconvert_exporter": "python",
   "pygments_lexer": "ipython3",
   "version": "3.9.5"
  },
  "papermill": {
   "default_parameters": {},
   "duration": 6.755933,
   "end_time": "2021-09-22T15:00:12.011096",
   "environment_variables": {},
   "exception": null,
   "input_path": "eBay_Overview.ipynb",
   "output_path": "eBay_Overview.ipynb",
   "parameters": {},
   "start_time": "2021-09-22T15:00:05.255163",
   "version": "2.3.3"
  }
 },
 "nbformat": 4,
 "nbformat_minor": 5
}