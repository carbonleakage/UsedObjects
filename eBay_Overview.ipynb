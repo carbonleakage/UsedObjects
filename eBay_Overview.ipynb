{
 "cells": [
  {
   "cell_type": "code",
   "execution_count": 1,
   "id": "reverse-picking",
   "metadata": {
    "execution": {
     "iopub.execute_input": "2021-11-12T23:00:08.271730Z",
     "iopub.status.busy": "2021-11-12T23:00:08.269560Z",
     "iopub.status.idle": "2021-11-12T23:00:09.228725Z",
     "shell.execute_reply": "2021-11-12T23:00:09.230414Z"
    },
    "papermill": {
     "duration": 1.008265,
     "end_time": "2021-11-12T23:00:09.231114",
     "exception": false,
     "start_time": "2021-11-12T23:00:08.222849",
     "status": "completed"
    },
    "tags": []
   },
   "outputs": [],
   "source": [
    "import pandas as pd\n",
    "import sqlite3"
   ]
  },
  {
   "cell_type": "code",
   "execution_count": 2,
   "id": "innovative-syndrome",
   "metadata": {
    "execution": {
     "iopub.execute_input": "2021-11-12T23:00:09.296017Z",
     "iopub.status.busy": "2021-11-12T23:00:09.293526Z",
     "iopub.status.idle": "2021-11-12T23:00:10.099343Z",
     "shell.execute_reply": "2021-11-12T23:00:10.100620Z"
    },
    "papermill": {
     "duration": 0.839615,
     "end_time": "2021-11-12T23:00:10.101101",
     "exception": false,
     "start_time": "2021-11-12T23:00:09.261486",
     "status": "completed"
    },
    "tags": []
   },
   "outputs": [],
   "source": [
    "timestamps = pd.read_sql(\"select distinct record_time from EBAY_TOP_BERLIN order by record_time desc limit 2\", sqlite3.connect(\"UsedObjects.db\"))"
   ]
  },
  {
   "cell_type": "code",
   "execution_count": 3,
   "id": "periodic-identification",
   "metadata": {
    "execution": {
     "iopub.execute_input": "2021-11-12T23:00:10.168211Z",
     "iopub.status.busy": "2021-11-12T23:00:10.166200Z",
     "iopub.status.idle": "2021-11-12T23:00:10.187480Z",
     "shell.execute_reply": "2021-11-12T23:00:10.186065Z"
    },
    "papermill": {
     "duration": 0.067059,
     "end_time": "2021-11-12T23:00:10.187830",
     "exception": false,
     "start_time": "2021-11-12T23:00:10.120771",
     "status": "completed"
    },
    "tags": []
   },
   "outputs": [
    {
     "data": {
      "text/html": [
       "<div>\n",
       "<style scoped>\n",
       "    .dataframe tbody tr th:only-of-type {\n",
       "        vertical-align: middle;\n",
       "    }\n",
       "\n",
       "    .dataframe tbody tr th {\n",
       "        vertical-align: top;\n",
       "    }\n",
       "\n",
       "    .dataframe thead th {\n",
       "        text-align: right;\n",
       "    }\n",
       "</style>\n",
       "<table border=\"1\" class=\"dataframe\">\n",
       "  <thead>\n",
       "    <tr style=\"text-align: right;\">\n",
       "      <th></th>\n",
       "      <th>RECORD_TIME</th>\n",
       "    </tr>\n",
       "  </thead>\n",
       "  <tbody>\n",
       "    <tr>\n",
       "      <th>0</th>\n",
       "      <td>2021-11-13 00:00</td>\n",
       "    </tr>\n",
       "    <tr>\n",
       "      <th>1</th>\n",
       "      <td>2021-11-12 23:30</td>\n",
       "    </tr>\n",
       "  </tbody>\n",
       "</table>\n",
       "</div>"
      ],
      "text/plain": [
       "        RECORD_TIME\n",
       "0  2021-11-13 00:00\n",
       "1  2021-11-12 23:30"
      ]
     },
     "execution_count": 3,
     "metadata": {},
     "output_type": "execute_result"
    }
   ],
   "source": [
    "timestamps"
   ]
  },
  {
   "cell_type": "code",
   "execution_count": 4,
   "id": "alternate-victory",
   "metadata": {
    "execution": {
     "iopub.execute_input": "2021-11-12T23:00:10.239744Z",
     "iopub.status.busy": "2021-11-12T23:00:10.237457Z",
     "iopub.status.idle": "2021-11-12T23:00:11.394885Z",
     "shell.execute_reply": "2021-11-12T23:00:11.396445Z"
    },
    "papermill": {
     "duration": 1.187804,
     "end_time": "2021-11-12T23:00:11.396992",
     "exception": false,
     "start_time": "2021-11-12T23:00:10.209188",
     "status": "completed"
    },
    "tags": []
   },
   "outputs": [],
   "source": [
    "df = pd.read_sql(\"select * from EBAY_TOP_BERLIN where record_time in (select distinct record_time from EBAY_TOP_BERLIN order by record_time desc limit 2)\", sqlite3.connect(\"UsedObjects.db\"))"
   ]
  },
  {
   "cell_type": "code",
   "execution_count": 5,
   "id": "popular-active",
   "metadata": {
    "execution": {
     "iopub.execute_input": "2021-11-12T23:00:11.470359Z",
     "iopub.status.busy": "2021-11-12T23:00:11.460632Z",
     "iopub.status.idle": "2021-11-12T23:00:11.493511Z",
     "shell.execute_reply": "2021-11-12T23:00:11.494984Z"
    },
    "papermill": {
     "duration": 0.076378,
     "end_time": "2021-11-12T23:00:11.495440",
     "exception": false,
     "start_time": "2021-11-12T23:00:11.419062",
     "status": "completed"
    },
    "tags": []
   },
   "outputs": [],
   "source": [
    "df_pivot = df.pivot_table(index=\"PRODUCT\", columns = \"RECORD_TIME\", values = \"LISTING_COUNT\")"
   ]
  },
  {
   "cell_type": "code",
   "execution_count": 6,
   "id": "union-huntington",
   "metadata": {
    "execution": {
     "iopub.execute_input": "2021-11-12T23:00:11.553776Z",
     "iopub.status.busy": "2021-11-12T23:00:11.551499Z",
     "iopub.status.idle": "2021-11-12T23:00:11.558731Z",
     "shell.execute_reply": "2021-11-12T23:00:11.557237Z"
    },
    "papermill": {
     "duration": 0.043595,
     "end_time": "2021-11-12T23:00:11.559133",
     "exception": false,
     "start_time": "2021-11-12T23:00:11.515538",
     "status": "completed"
    },
    "tags": []
   },
   "outputs": [],
   "source": [
    "df_pivot.columns = [\"stamp_1\", \"stamp_2\"]\n",
    "df_pivot_diff = df_pivot.diff(axis=1)"
   ]
  },
  {
   "cell_type": "code",
   "execution_count": 7,
   "id": "fifth-motion",
   "metadata": {
    "execution": {
     "iopub.execute_input": "2021-11-12T23:00:11.620740Z",
     "iopub.status.busy": "2021-11-12T23:00:11.618124Z",
     "iopub.status.idle": "2021-11-12T23:00:13.550223Z",
     "shell.execute_reply": "2021-11-12T23:00:13.553180Z"
    },
    "papermill": {
     "duration": 1.97274,
     "end_time": "2021-11-12T23:00:13.554114",
     "exception": false,
     "start_time": "2021-11-12T23:00:11.581374",
     "status": "completed"
    },
    "tags": []
   },
   "outputs": [
    {
     "data": {
      "text/plain": [
       "<AxesSubplot:ylabel='PRODUCT'>"
      ]
     },
     "execution_count": 7,
     "metadata": {},
     "output_type": "execute_result"
    },
    {
     "data": {
      "image/png": "[encoded data removed]",
      "text/plain": [
       "<Figure size 432x288 with 1 Axes>"
      ]
     },
     "metadata": {
      "needs_background": "light"
     },
     "output_type": "display_data"
    }
   ],
   "source": [
    "df_pivot_diff.sort_values(\"stamp_2\", ascending = False)[\"stamp_2\"].head(10).plot.barh()"
   ]
  },
  {
   "cell_type": "code",
   "execution_count": null,
   "id": "extra-executive",
   "metadata": {
    "papermill": {
     "duration": 0.031144,
     "end_time": "2021-11-12T23:00:13.622350",
     "exception": false,
     "start_time": "2021-11-12T23:00:13.591206",
     "status": "completed"
    },
    "tags": []
   },
   "outputs": [],
   "source": []
  }
 ],
 "metadata": {
  "kernelspec": {
   "display_name": "Python 3",
   "language": "python",
   "name": "python3"
  },
  "language_info": {
   "codemirror_mode": {
    "name": "ipython",
    "version": 3
   },
   "file_extension": ".py",
   "mimetype": "text/x-python",
   "name": "python",
   "nbconvert_exporter": "python",
   "pygments_lexer": "ipython3",
   "version": "3.9.5"
  },
  "papermill": {
   "default_parameters": {},
   "duration": 8.902723,
   "end_time": "2021-11-12T23:00:14.396762",
   "environment_variables": {},
   "exception": null,
   "input_path": "eBay_Overview.ipynb",
   "output_path": "eBay_Overview.ipynb",
   "parameters": {},
   "start_time": "2021-11-12T23:00:05.494039",
   "version": "2.3.3"
  }
 },
 "nbformat": 4,
 "nbformat_minor": 5
}