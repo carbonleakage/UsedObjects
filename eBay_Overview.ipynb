{
 "cells": [
  {
   "cell_type": "code",
   "execution_count": 1,
   "id": "reverse-picking",
   "metadata": {
    "execution": {
     "iopub.execute_input": "2021-10-21T10:30:07.514693Z",
     "iopub.status.busy": "2021-10-21T10:30:07.512745Z",
     "iopub.status.idle": "2021-10-21T10:30:08.320784Z",
     "shell.execute_reply": "2021-10-21T10:30:08.319154Z"
    },
    "papermill": {
     "duration": 0.859301,
     "end_time": "2021-10-21T10:30:08.321201",
     "exception": false,
     "start_time": "2021-10-21T10:30:07.461900",
     "status": "completed"
    },
    "tags": []
   },
   "outputs": [],
   "source": [
    "import pandas as pd\n",
    "import sqlite3"
   ]
  },
  {
   "cell_type": "code",
   "execution_count": 2,
   "id": "innovative-syndrome",
   "metadata": {
    "execution": {
     "iopub.execute_input": "2021-10-21T10:30:08.373756Z",
     "iopub.status.busy": "2021-10-21T10:30:08.371657Z",
     "iopub.status.idle": "2021-10-21T10:30:08.987157Z",
     "shell.execute_reply": "2021-10-21T10:30:08.988330Z"
    },
    "papermill": {
     "duration": 0.645241,
     "end_time": "2021-10-21T10:30:08.988816",
     "exception": false,
     "start_time": "2021-10-21T10:30:08.343575",
     "status": "completed"
    },
    "tags": []
   },
   "outputs": [],
   "source": [
    "timestamps = pd.read_sql(\"select distinct record_time from EBAY_TOP_BERLIN order by record_time desc limit 2\", sqlite3.connect(\"UsedObjects.db\"))"
   ]
  },
  {
   "cell_type": "code",
   "execution_count": 3,
   "id": "periodic-identification",
   "metadata": {
    "execution": {
     "iopub.execute_input": "2021-10-21T10:30:09.064813Z",
     "iopub.status.busy": "2021-10-21T10:30:09.062751Z",
     "iopub.status.idle": "2021-10-21T10:30:09.082834Z",
     "shell.execute_reply": "2021-10-21T10:30:09.084026Z"
    },
    "papermill": {
     "duration": 0.070225,
     "end_time": "2021-10-21T10:30:09.084457",
     "exception": false,
     "start_time": "2021-10-21T10:30:09.014232",
     "status": "completed"
    },
    "tags": []
   },
   "outputs": [
    {
     "data": {
      "text/html": [
       "<div>\n",
       "<style scoped>\n",
       "    .dataframe tbody tr th:only-of-type {\n",
       "        vertical-align: middle;\n",
       "    }\n",
       "\n",
       "    .dataframe tbody tr th {\n",
       "        vertical-align: top;\n",
       "    }\n",
       "\n",
       "    .dataframe thead th {\n",
       "        text-align: right;\n",
       "    }\n",
       "</style>\n",
       "<table border=\"1\" class=\"dataframe\">\n",
       "  <thead>\n",
       "    <tr style=\"text-align: right;\">\n",
       "      <th></th>\n",
       "      <th>RECORD_TIME</th>\n",
       "    </tr>\n",
       "  </thead>\n",
       "  <tbody>\n",
       "    <tr>\n",
       "      <th>0</th>\n",
       "      <td>2021-10-21 12:30</td>\n",
       "    </tr>\n",
       "    <tr>\n",
       "      <th>1</th>\n",
       "      <td>2021-10-21 12:00</td>\n",
       "    </tr>\n",
       "  </tbody>\n",
       "</table>\n",
       "</div>"
      ],
      "text/plain": [
       "        RECORD_TIME\n",
       "0  2021-10-21 12:30\n",
       "1  2021-10-21 12:00"
      ]
     },
     "execution_count": 3,
     "metadata": {},
     "output_type": "execute_result"
    }
   ],
   "source": [
    "timestamps"
   ]
  },
  {
   "cell_type": "code",
   "execution_count": 4,
   "id": "alternate-victory",
   "metadata": {
    "execution": {
     "iopub.execute_input": "2021-10-21T10:30:09.136935Z",
     "iopub.status.busy": "2021-10-21T10:30:09.135011Z",
     "iopub.status.idle": "2021-10-21T10:30:10.029489Z",
     "shell.execute_reply": "2021-10-21T10:30:10.030712Z"
    },
    "papermill": {
     "duration": 0.92446,
     "end_time": "2021-10-21T10:30:10.031110",
     "exception": false,
     "start_time": "2021-10-21T10:30:09.106650",
     "status": "completed"
    },
    "tags": []
   },
   "outputs": [],
   "source": [
    "df = pd.read_sql(\"select * from EBAY_TOP_BERLIN where record_time in (select distinct record_time from EBAY_TOP_BERLIN order by record_time desc limit 2)\", sqlite3.connect(\"UsedObjects.db\"))"
   ]
  },
  {
   "cell_type": "code",
   "execution_count": 5,
   "id": "popular-active",
   "metadata": {
    "execution": {
     "iopub.execute_input": "2021-10-21T10:30:10.100399Z",
     "iopub.status.busy": "2021-10-21T10:30:10.089346Z",
     "iopub.status.idle": "2021-10-21T10:30:10.115790Z",
     "shell.execute_reply": "2021-10-21T10:30:10.117234Z"
    },
    "papermill": {
     "duration": 0.065996,
     "end_time": "2021-10-21T10:30:10.117655",
     "exception": false,
     "start_time": "2021-10-21T10:30:10.051659",
     "status": "completed"
    },
    "tags": []
   },
   "outputs": [],
   "source": [
    "df_pivot = df.pivot_table(index=\"PRODUCT\", columns = \"RECORD_TIME\", values = \"LISTING_COUNT\")"
   ]
  },
  {
   "cell_type": "code",
   "execution_count": 6,
   "id": "union-huntington",
   "metadata": {
    "execution": {
     "iopub.execute_input": "2021-10-21T10:30:10.176231Z",
     "iopub.status.busy": "2021-10-21T10:30:10.173807Z",
     "iopub.status.idle": "2021-10-21T10:30:10.179786Z",
     "shell.execute_reply": "2021-10-21T10:30:10.181222Z"
    },
    "papermill": {
     "duration": 0.042491,
     "end_time": "2021-10-21T10:30:10.181667",
     "exception": false,
     "start_time": "2021-10-21T10:30:10.139176",
     "status": "completed"
    },
    "tags": []
   },
   "outputs": [],
   "source": [
    "df_pivot.columns = [\"stamp_1\", \"stamp_2\"]\n",
    "df_pivot_diff = df_pivot.diff(axis=1)"
   ]
  },
  {
   "cell_type": "code",
   "execution_count": 7,
   "id": "fifth-motion",
   "metadata": {
    "execution": {
     "iopub.execute_input": "2021-10-21T10:30:10.236652Z",
     "iopub.status.busy": "2021-10-21T10:30:10.234371Z",
     "iopub.status.idle": "2021-10-21T10:30:11.753627Z",
     "shell.execute_reply": "2021-10-21T10:30:11.754985Z"
    },
    "papermill": {
     "duration": 1.55225,
     "end_time": "2021-10-21T10:30:11.755423",
     "exception": false,
     "start_time": "2021-10-21T10:30:10.203173",
     "status": "completed"
    },
    "tags": []
   },
   "outputs": [
    {
     "data": {
      "text/plain": [
       "<AxesSubplot:ylabel='PRODUCT'>"
      ]
     },
     "execution_count": 7,
     "metadata": {},
     "output_type": "execute_result"
    },
    {
     "data": {
      "image/png": "[encoded data removed]",
      "text/plain": [
       "<Figure size 432x288 with 1 Axes>"
      ]
     },
     "metadata": {
      "needs_background": "light"
     },
     "output_type": "display_data"
    }
   ],
   "source": [
    "df_pivot_diff.sort_values(\"stamp_2\", ascending = False)[\"stamp_2\"].head(10).plot.barh()"
   ]
  },
  {
   "cell_type": "code",
   "execution_count": null,
   "id": "extra-executive",
   "metadata": {
    "papermill": {
     "duration": 0.022526,
     "end_time": "2021-10-21T10:30:11.802803",
     "exception": false,
     "start_time": "2021-10-21T10:30:11.780277",
     "status": "completed"
    },
    "tags": []
   },
   "outputs": [],
   "source": []
  }
 ],
 "metadata": {
  "kernelspec": {
   "display_name": "Python 3",
   "language": "python",
   "name": "python3"
  },
  "language_info": {
   "codemirror_mode": {
    "name": "ipython",
    "version": 3
   },
   "file_extension": ".py",
   "mimetype": "text/x-python",
   "name": "python",
   "nbconvert_exporter": "python",
   "pygments_lexer": "ipython3",
   "version": "3.9.5"
  },
  "papermill": {
   "default_parameters": {},
   "duration": 7.397026,
   "end_time": "2021-10-21T10:30:12.445996",
   "environment_variables": {},
   "exception": null,
   "input_path": "eBay_Overview.ipynb",
   "output_path": "eBay_Overview.ipynb",
   "parameters": {},
   "start_time": "2021-10-21T10:30:05.048970",
   "version": "2.3.3"
  }
 },
 "nbformat": 4,
 "nbformat_minor": 5
}