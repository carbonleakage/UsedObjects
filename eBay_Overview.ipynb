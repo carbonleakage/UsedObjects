{
 "cells": [
  {
   "cell_type": "code",
   "execution_count": 1,
   "id": "reverse-picking",
   "metadata": {
    "execution": {
     "iopub.execute_input": "2021-11-08T07:00:07.785145Z",
     "iopub.status.busy": "2021-11-08T07:00:07.770837Z",
     "iopub.status.idle": "2021-11-08T07:00:08.722941Z",
     "shell.execute_reply": "2021-11-08T07:00:08.724535Z"
    },
    "papermill": {
     "duration": 1.001104,
     "end_time": "2021-11-08T07:00:08.725342",
     "exception": false,
     "start_time": "2021-11-08T07:00:07.724238",
     "status": "completed"
    },
    "tags": []
   },
   "outputs": [],
   "source": [
    "import pandas as pd\n",
    "import sqlite3"
   ]
  },
  {
   "cell_type": "code",
   "execution_count": 2,
   "id": "innovative-syndrome",
   "metadata": {
    "execution": {
     "iopub.execute_input": "2021-11-08T07:00:08.783295Z",
     "iopub.status.busy": "2021-11-08T07:00:08.778871Z",
     "iopub.status.idle": "2021-11-08T07:00:09.552885Z",
     "shell.execute_reply": "2021-11-08T07:00:09.554409Z"
    },
    "papermill": {
     "duration": 0.808068,
     "end_time": "2021-11-08T07:00:09.554890",
     "exception": false,
     "start_time": "2021-11-08T07:00:08.746822",
     "status": "completed"
    },
    "tags": []
   },
   "outputs": [],
   "source": [
    "timestamps = pd.read_sql(\"select distinct record_time from EBAY_TOP_BERLIN order by record_time desc limit 2\", sqlite3.connect(\"UsedObjects.db\"))"
   ]
  },
  {
   "cell_type": "code",
   "execution_count": 3,
   "id": "periodic-identification",
   "metadata": {
    "execution": {
     "iopub.execute_input": "2021-11-08T07:00:09.628672Z",
     "iopub.status.busy": "2021-11-08T07:00:09.626350Z",
     "iopub.status.idle": "2021-11-08T07:00:09.649682Z",
     "shell.execute_reply": "2021-11-08T07:00:09.651138Z"
    },
    "papermill": {
     "duration": 0.076082,
     "end_time": "2021-11-08T07:00:09.651664",
     "exception": false,
     "start_time": "2021-11-08T07:00:09.575582",
     "status": "completed"
    },
    "tags": []
   },
   "outputs": [
    {
     "data": {
      "text/html": [
       "<div>\n",
       "<style scoped>\n",
       "    .dataframe tbody tr th:only-of-type {\n",
       "        vertical-align: middle;\n",
       "    }\n",
       "\n",
       "    .dataframe tbody tr th {\n",
       "        vertical-align: top;\n",
       "    }\n",
       "\n",
       "    .dataframe thead th {\n",
       "        text-align: right;\n",
       "    }\n",
       "</style>\n",
       "<table border=\"1\" class=\"dataframe\">\n",
       "  <thead>\n",
       "    <tr style=\"text-align: right;\">\n",
       "      <th></th>\n",
       "      <th>RECORD_TIME</th>\n",
       "    </tr>\n",
       "  </thead>\n",
       "  <tbody>\n",
       "    <tr>\n",
       "      <th>0</th>\n",
       "      <td>2021-11-08 08:00</td>\n",
       "    </tr>\n",
       "    <tr>\n",
       "      <th>1</th>\n",
       "      <td>2021-11-08 07:30</td>\n",
       "    </tr>\n",
       "  </tbody>\n",
       "</table>\n",
       "</div>"
      ],
      "text/plain": [
       "        RECORD_TIME\n",
       "0  2021-11-08 08:00\n",
       "1  2021-11-08 07:30"
      ]
     },
     "execution_count": 3,
     "metadata": {},
     "output_type": "execute_result"
    }
   ],
   "source": [
    "timestamps"
   ]
  },
  {
   "cell_type": "code",
   "execution_count": 4,
   "id": "alternate-victory",
   "metadata": {
    "execution": {
     "iopub.execute_input": "2021-11-08T07:00:09.709003Z",
     "iopub.status.busy": "2021-11-08T07:00:09.705858Z",
     "iopub.status.idle": "2021-11-08T07:00:10.815536Z",
     "shell.execute_reply": "2021-11-08T07:00:10.816857Z"
    },
    "papermill": {
     "duration": 1.144033,
     "end_time": "2021-11-08T07:00:10.817318",
     "exception": false,
     "start_time": "2021-11-08T07:00:09.673285",
     "status": "completed"
    },
    "tags": []
   },
   "outputs": [],
   "source": [
    "df = pd.read_sql(\"select * from EBAY_TOP_BERLIN where record_time in (select distinct record_time from EBAY_TOP_BERLIN order by record_time desc limit 2)\", sqlite3.connect(\"UsedObjects.db\"))"
   ]
  },
  {
   "cell_type": "code",
   "execution_count": 5,
   "id": "popular-active",
   "metadata": {
    "execution": {
     "iopub.execute_input": "2021-11-08T07:00:10.887724Z",
     "iopub.status.busy": "2021-11-08T07:00:10.877902Z",
     "iopub.status.idle": "2021-11-08T07:00:10.904170Z",
     "shell.execute_reply": "2021-11-08T07:00:10.905463Z"
    },
    "papermill": {
     "duration": 0.067958,
     "end_time": "2021-11-08T07:00:10.905860",
     "exception": false,
     "start_time": "2021-11-08T07:00:10.837902",
     "status": "completed"
    },
    "tags": []
   },
   "outputs": [],
   "source": [
    "df_pivot = df.pivot_table(index=\"PRODUCT\", columns = \"RECORD_TIME\", values = \"LISTING_COUNT\")"
   ]
  },
  {
   "cell_type": "code",
   "execution_count": 6,
   "id": "union-huntington",
   "metadata": {
    "execution": {
     "iopub.execute_input": "2021-11-08T07:00:10.979314Z",
     "iopub.status.busy": "2021-11-08T07:00:10.977016Z",
     "iopub.status.idle": "2021-11-08T07:00:10.983399Z",
     "shell.execute_reply": "2021-11-08T07:00:10.984881Z"
    },
    "papermill": {
     "duration": 0.056987,
     "end_time": "2021-11-08T07:00:10.985361",
     "exception": false,
     "start_time": "2021-11-08T07:00:10.928374",
     "status": "completed"
    },
    "tags": []
   },
   "outputs": [],
   "source": [
    "df_pivot.columns = [\"stamp_1\", \"stamp_2\"]\n",
    "df_pivot_diff = df_pivot.diff(axis=1)"
   ]
  },
  {
   "cell_type": "code",
   "execution_count": 7,
   "id": "fifth-motion",
   "metadata": {
    "execution": {
     "iopub.execute_input": "2021-11-08T07:00:11.046488Z",
     "iopub.status.busy": "2021-11-08T07:00:11.044237Z",
     "iopub.status.idle": "2021-11-08T07:00:12.868890Z",
     "shell.execute_reply": "2021-11-08T07:00:12.870300Z"
    },
    "papermill": {
     "duration": 1.863616,
     "end_time": "2021-11-08T07:00:12.870784",
     "exception": false,
     "start_time": "2021-11-08T07:00:11.007168",
     "status": "completed"
    },
    "tags": []
   },
   "outputs": [
    {
     "data": {
      "text/plain": [
       "<AxesSubplot:ylabel='PRODUCT'>"
      ]
     },
     "execution_count": 7,
     "metadata": {},
     "output_type": "execute_result"
    },
    {
     "data": {
      "image/png": "[encoded data removed]",
      "text/plain": [
       "<Figure size 432x288 with 1 Axes>"
      ]
     },
     "metadata": {
      "needs_background": "light"
     },
     "output_type": "display_data"
    }
   ],
   "source": [
    "df_pivot_diff.sort_values(\"stamp_2\", ascending = False)[\"stamp_2\"].head(10).plot.barh()"
   ]
  },
  {
   "cell_type": "code",
   "execution_count": null,
   "id": "extra-executive",
   "metadata": {
    "papermill": {
     "duration": 0.024679,
     "end_time": "2021-11-08T07:00:12.919435",
     "exception": false,
     "start_time": "2021-11-08T07:00:12.894756",
     "status": "completed"
    },
    "tags": []
   },
   "outputs": [],
   "source": []
  }
 ],
 "metadata": {
  "kernelspec": {
   "display_name": "Python 3",
   "language": "python",
   "name": "python3"
  },
  "language_info": {
   "codemirror_mode": {
    "name": "ipython",
    "version": 3
   },
   "file_extension": ".py",
   "mimetype": "text/x-python",
   "name": "python",
   "nbconvert_exporter": "python",
   "pygments_lexer": "ipython3",
   "version": "3.9.5"
  },
  "papermill": {
   "default_parameters": {},
   "duration": 8.746758,
   "end_time": "2021-11-08T07:00:13.674897",
   "environment_variables": {},
   "exception": null,
   "input_path": "eBay_Overview.ipynb",
   "output_path": "eBay_Overview.ipynb",
   "parameters": {},
   "start_time": "2021-11-08T07:00:04.928139",
   "version": "2.3.3"
  }
 },
 "nbformat": 4,
 "nbformat_minor": 5
}