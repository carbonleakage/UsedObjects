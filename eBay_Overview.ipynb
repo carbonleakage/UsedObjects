{
 "cells": [
  {
   "cell_type": "code",
   "execution_count": 1,
   "id": "reverse-picking",
   "metadata": {
    "execution": {
     "iopub.execute_input": "2021-11-05T00:30:08.288264Z",
     "iopub.status.busy": "2021-11-05T00:30:08.286059Z",
     "iopub.status.idle": "2021-11-05T00:30:09.234227Z",
     "shell.execute_reply": "2021-11-05T00:30:09.235797Z"
    },
    "papermill": {
     "duration": 0.995432,
     "end_time": "2021-11-05T00:30:09.236524",
     "exception": false,
     "start_time": "2021-11-05T00:30:08.241092",
     "status": "completed"
    },
    "tags": []
   },
   "outputs": [],
   "source": [
    "import pandas as pd\n",
    "import sqlite3"
   ]
  },
  {
   "cell_type": "code",
   "execution_count": 2,
   "id": "innovative-syndrome",
   "metadata": {
    "execution": {
     "iopub.execute_input": "2021-11-05T00:30:09.304359Z",
     "iopub.status.busy": "2021-11-05T00:30:09.302096Z",
     "iopub.status.idle": "2021-11-05T00:30:10.027477Z",
     "shell.execute_reply": "2021-11-05T00:30:10.028904Z"
    },
    "papermill": {
     "duration": 0.759009,
     "end_time": "2021-11-05T00:30:10.029369",
     "exception": false,
     "start_time": "2021-11-05T00:30:09.270360",
     "status": "completed"
    },
    "tags": []
   },
   "outputs": [],
   "source": [
    "timestamps = pd.read_sql(\"select distinct record_time from EBAY_TOP_BERLIN order by record_time desc limit 2\", sqlite3.connect(\"UsedObjects.db\"))"
   ]
  },
  {
   "cell_type": "code",
   "execution_count": 3,
   "id": "periodic-identification",
   "metadata": {
    "execution": {
     "iopub.execute_input": "2021-11-05T00:30:10.097134Z",
     "iopub.status.busy": "2021-11-05T00:30:10.094857Z",
     "iopub.status.idle": "2021-11-05T00:30:10.118377Z",
     "shell.execute_reply": "2021-11-05T00:30:10.119746Z"
    },
    "papermill": {
     "duration": 0.071223,
     "end_time": "2021-11-05T00:30:10.120185",
     "exception": false,
     "start_time": "2021-11-05T00:30:10.048962",
     "status": "completed"
    },
    "tags": []
   },
   "outputs": [
    {
     "data": {
      "text/html": [
       "<div>\n",
       "<style scoped>\n",
       "    .dataframe tbody tr th:only-of-type {\n",
       "        vertical-align: middle;\n",
       "    }\n",
       "\n",
       "    .dataframe tbody tr th {\n",
       "        vertical-align: top;\n",
       "    }\n",
       "\n",
       "    .dataframe thead th {\n",
       "        text-align: right;\n",
       "    }\n",
       "</style>\n",
       "<table border=\"1\" class=\"dataframe\">\n",
       "  <thead>\n",
       "    <tr style=\"text-align: right;\">\n",
       "      <th></th>\n",
       "      <th>RECORD_TIME</th>\n",
       "    </tr>\n",
       "  </thead>\n",
       "  <tbody>\n",
       "    <tr>\n",
       "      <th>0</th>\n",
       "      <td>2021-11-05 01:30</td>\n",
       "    </tr>\n",
       "    <tr>\n",
       "      <th>1</th>\n",
       "      <td>2021-11-05 01:00</td>\n",
       "    </tr>\n",
       "  </tbody>\n",
       "</table>\n",
       "</div>"
      ],
      "text/plain": [
       "        RECORD_TIME\n",
       "0  2021-11-05 01:30\n",
       "1  2021-11-05 01:00"
      ]
     },
     "execution_count": 3,
     "metadata": {},
     "output_type": "execute_result"
    }
   ],
   "source": [
    "timestamps"
   ]
  },
  {
   "cell_type": "code",
   "execution_count": 4,
   "id": "alternate-victory",
   "metadata": {
    "execution": {
     "iopub.execute_input": "2021-11-05T00:30:10.173562Z",
     "iopub.status.busy": "2021-11-05T00:30:10.171174Z",
     "iopub.status.idle": "2021-11-05T00:30:11.253932Z",
     "shell.execute_reply": "2021-11-05T00:30:11.255435Z"
    },
    "papermill": {
     "duration": 1.115471,
     "end_time": "2021-11-05T00:30:11.255944",
     "exception": false,
     "start_time": "2021-11-05T00:30:10.140473",
     "status": "completed"
    },
    "tags": []
   },
   "outputs": [],
   "source": [
    "df = pd.read_sql(\"select * from EBAY_TOP_BERLIN where record_time in (select distinct record_time from EBAY_TOP_BERLIN order by record_time desc limit 2)\", sqlite3.connect(\"UsedObjects.db\"))"
   ]
  },
  {
   "cell_type": "code",
   "execution_count": 5,
   "id": "popular-active",
   "metadata": {
    "execution": {
     "iopub.execute_input": "2021-11-05T00:30:11.330455Z",
     "iopub.status.busy": "2021-11-05T00:30:11.321724Z",
     "iopub.status.idle": "2021-11-05T00:30:11.356284Z",
     "shell.execute_reply": "2021-11-05T00:30:11.354665Z"
    },
    "papermill": {
     "duration": 0.079295,
     "end_time": "2021-11-05T00:30:11.356903",
     "exception": false,
     "start_time": "2021-11-05T00:30:11.277608",
     "status": "completed"
    },
    "tags": []
   },
   "outputs": [],
   "source": [
    "df_pivot = df.pivot_table(index=\"PRODUCT\", columns = \"RECORD_TIME\", values = \"LISTING_COUNT\")"
   ]
  },
  {
   "cell_type": "code",
   "execution_count": 6,
   "id": "union-huntington",
   "metadata": {
    "execution": {
     "iopub.execute_input": "2021-11-05T00:30:11.419662Z",
     "iopub.status.busy": "2021-11-05T00:30:11.417350Z",
     "iopub.status.idle": "2021-11-05T00:30:11.423240Z",
     "shell.execute_reply": "2021-11-05T00:30:11.424655Z"
    },
    "papermill": {
     "duration": 0.045109,
     "end_time": "2021-11-05T00:30:11.425221",
     "exception": false,
     "start_time": "2021-11-05T00:30:11.380112",
     "status": "completed"
    },
    "tags": []
   },
   "outputs": [],
   "source": [
    "df_pivot.columns = [\"stamp_1\", \"stamp_2\"]\n",
    "df_pivot_diff = df_pivot.diff(axis=1)"
   ]
  },
  {
   "cell_type": "code",
   "execution_count": 7,
   "id": "fifth-motion",
   "metadata": {
    "execution": {
     "iopub.execute_input": "2021-11-05T00:30:11.486186Z",
     "iopub.status.busy": "2021-11-05T00:30:11.483739Z",
     "iopub.status.idle": "2021-11-05T00:30:13.286267Z",
     "shell.execute_reply": "2021-11-05T00:30:13.287626Z"
    },
    "papermill": {
     "duration": 1.840306,
     "end_time": "2021-11-05T00:30:13.288098",
     "exception": false,
     "start_time": "2021-11-05T00:30:11.447792",
     "status": "completed"
    },
    "tags": []
   },
   "outputs": [
    {
     "data": {
      "text/plain": [
       "<AxesSubplot:ylabel='PRODUCT'>"
      ]
     },
     "execution_count": 7,
     "metadata": {},
     "output_type": "execute_result"
    },
    {
     "data": {
      "image/png": "[encoded data removed]",
      "text/plain": [
       "<Figure size 432x288 with 1 Axes>"
      ]
     },
     "metadata": {
      "needs_background": "light"
     },
     "output_type": "display_data"
    }
   ],
   "source": [
    "df_pivot_diff.sort_values(\"stamp_2\", ascending = False)[\"stamp_2\"].head(10).plot.barh()"
   ]
  },
  {
   "cell_type": "code",
   "execution_count": null,
   "id": "extra-executive",
   "metadata": {
    "papermill": {
     "duration": 0.030511,
     "end_time": "2021-11-05T00:30:13.343818",
     "exception": false,
     "start_time": "2021-11-05T00:30:13.313307",
     "status": "completed"
    },
    "tags": []
   },
   "outputs": [],
   "source": []
  }
 ],
 "metadata": {
  "kernelspec": {
   "display_name": "Python 3",
   "language": "python",
   "name": "python3"
  },
  "language_info": {
   "codemirror_mode": {
    "name": "ipython",
    "version": 3
   },
   "file_extension": ".py",
   "mimetype": "text/x-python",
   "name": "python",
   "nbconvert_exporter": "python",
   "pygments_lexer": "ipython3",
   "version": "3.9.5"
  },
  "papermill": {
   "default_parameters": {},
   "duration": 8.784551,
   "end_time": "2021-11-05T00:30:14.238045",
   "environment_variables": {},
   "exception": null,
   "input_path": "eBay_Overview.ipynb",
   "output_path": "eBay_Overview.ipynb",
   "parameters": {},
   "start_time": "2021-11-05T00:30:05.453494",
   "version": "2.3.3"
  }
 },
 "nbformat": 4,
 "nbformat_minor": 5
}