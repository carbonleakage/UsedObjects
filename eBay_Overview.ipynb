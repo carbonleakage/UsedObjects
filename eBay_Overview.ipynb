{
 "cells": [
  {
   "cell_type": "code",
   "execution_count": 1,
   "id": "reverse-picking",
   "metadata": {
    "execution": {
     "iopub.execute_input": "2021-08-13T19:30:06.844064Z",
     "iopub.status.busy": "2021-08-13T19:30:06.842126Z",
     "iopub.status.idle": "2021-08-13T19:30:07.651973Z",
     "shell.execute_reply": "2021-08-13T19:30:07.653221Z"
    },
    "papermill": {
     "duration": 0.862145,
     "end_time": "2021-08-13T19:30:07.653843",
     "exception": false,
     "start_time": "2021-08-13T19:30:06.791698",
     "status": "completed"
    },
    "tags": []
   },
   "outputs": [],
   "source": [
    "import pandas as pd\n",
    "import sqlite3"
   ]
  },
  {
   "cell_type": "code",
   "execution_count": 2,
   "id": "innovative-syndrome",
   "metadata": {
    "execution": {
     "iopub.execute_input": "2021-08-13T19:30:07.706848Z",
     "iopub.status.busy": "2021-08-13T19:30:07.704420Z",
     "iopub.status.idle": "2021-08-13T19:30:07.749742Z",
     "shell.execute_reply": "2021-08-13T19:30:07.751202Z"
    },
    "papermill": {
     "duration": 0.075465,
     "end_time": "2021-08-13T19:30:07.751639",
     "exception": false,
     "start_time": "2021-08-13T19:30:07.676174",
     "status": "completed"
    },
    "tags": []
   },
   "outputs": [],
   "source": [
    "timestamps = pd.read_sql(\"select distinct record_time from EBAY_TOP_BERLIN order by record_time desc limit 2\", sqlite3.connect(\"UsedObjects.db\"))"
   ]
  },
  {
   "cell_type": "code",
   "execution_count": 3,
   "id": "periodic-identification",
   "metadata": {
    "execution": {
     "iopub.execute_input": "2021-08-13T19:30:07.816952Z",
     "iopub.status.busy": "2021-08-13T19:30:07.814918Z",
     "iopub.status.idle": "2021-08-13T19:30:07.835094Z",
     "shell.execute_reply": "2021-08-13T19:30:07.836872Z"
    },
    "papermill": {
     "duration": 0.06638,
     "end_time": "2021-08-13T19:30:07.837405",
     "exception": false,
     "start_time": "2021-08-13T19:30:07.771025",
     "status": "completed"
    },
    "tags": []
   },
   "outputs": [
    {
     "data": {
      "text/html": [
       "<div>\n",
       "<style scoped>\n",
       "    .dataframe tbody tr th:only-of-type {\n",
       "        vertical-align: middle;\n",
       "    }\n",
       "\n",
       "    .dataframe tbody tr th {\n",
       "        vertical-align: top;\n",
       "    }\n",
       "\n",
       "    .dataframe thead th {\n",
       "        text-align: right;\n",
       "    }\n",
       "</style>\n",
       "<table border=\"1\" class=\"dataframe\">\n",
       "  <thead>\n",
       "    <tr style=\"text-align: right;\">\n",
       "      <th></th>\n",
       "      <th>RECORD_TIME</th>\n",
       "    </tr>\n",
       "  </thead>\n",
       "  <tbody>\n",
       "    <tr>\n",
       "      <th>0</th>\n",
       "      <td>2021-08-13 21:30</td>\n",
       "    </tr>\n",
       "    <tr>\n",
       "      <th>1</th>\n",
       "      <td>2021-08-13 21:00</td>\n",
       "    </tr>\n",
       "  </tbody>\n",
       "</table>\n",
       "</div>"
      ],
      "text/plain": [
       "        RECORD_TIME\n",
       "0  2021-08-13 21:30\n",
       "1  2021-08-13 21:00"
      ]
     },
     "execution_count": 3,
     "metadata": {},
     "output_type": "execute_result"
    }
   ],
   "source": [
    "timestamps"
   ]
  },
  {
   "cell_type": "code",
   "execution_count": 4,
   "id": "alternate-victory",
   "metadata": {
    "execution": {
     "iopub.execute_input": "2021-08-13T19:30:07.890258Z",
     "iopub.status.busy": "2021-08-13T19:30:07.888298Z",
     "iopub.status.idle": "2021-08-13T19:30:07.948236Z",
     "shell.execute_reply": "2021-08-13T19:30:07.949451Z"
    },
    "papermill": {
     "duration": 0.089786,
     "end_time": "2021-08-13T19:30:07.949849",
     "exception": false,
     "start_time": "2021-08-13T19:30:07.860063",
     "status": "completed"
    },
    "tags": []
   },
   "outputs": [],
   "source": [
    "df = pd.read_sql(\"select * from EBAY_TOP_BERLIN where record_time in (select distinct record_time from EBAY_TOP_BERLIN order by record_time desc limit 2)\", sqlite3.connect(\"UsedObjects.db\"))"
   ]
  },
  {
   "cell_type": "code",
   "execution_count": 5,
   "id": "popular-active",
   "metadata": {
    "execution": {
     "iopub.execute_input": "2021-08-13T19:30:08.021344Z",
     "iopub.status.busy": "2021-08-13T19:30:08.008462Z",
     "iopub.status.idle": "2021-08-13T19:30:08.036722Z",
     "shell.execute_reply": "2021-08-13T19:30:08.038000Z"
    },
    "papermill": {
     "duration": 0.068211,
     "end_time": "2021-08-13T19:30:08.038401",
     "exception": false,
     "start_time": "2021-08-13T19:30:07.970190",
     "status": "completed"
    },
    "tags": []
   },
   "outputs": [],
   "source": [
    "df_pivot = df.pivot_table(index=\"PRODUCT\", columns = \"RECORD_TIME\", values = \"LISTING_COUNT\")"
   ]
  },
  {
   "cell_type": "code",
   "execution_count": 6,
   "id": "union-huntington",
   "metadata": {
    "execution": {
     "iopub.execute_input": "2021-08-13T19:30:08.094488Z",
     "iopub.status.busy": "2021-08-13T19:30:08.092232Z",
     "iopub.status.idle": "2021-08-13T19:30:08.097794Z",
     "shell.execute_reply": "2021-08-13T19:30:08.099438Z"
    },
    "papermill": {
     "duration": 0.041274,
     "end_time": "2021-08-13T19:30:08.100013",
     "exception": false,
     "start_time": "2021-08-13T19:30:08.058739",
     "status": "completed"
    },
    "tags": []
   },
   "outputs": [],
   "source": [
    "df_pivot.columns = [\"stamp_1\", \"stamp_2\"]\n",
    "df_pivot_diff = df_pivot.diff(axis=1)"
   ]
  },
  {
   "cell_type": "code",
   "execution_count": 7,
   "id": "fifth-motion",
   "metadata": {
    "execution": {
     "iopub.execute_input": "2021-08-13T19:30:08.155467Z",
     "iopub.status.busy": "2021-08-13T19:30:08.152840Z",
     "iopub.status.idle": "2021-08-13T19:30:09.653376Z",
     "shell.execute_reply": "2021-08-13T19:30:09.654839Z"
    },
    "papermill": {
     "duration": 1.533936,
     "end_time": "2021-08-13T19:30:09.655297",
     "exception": false,
     "start_time": "2021-08-13T19:30:08.121361",
     "status": "completed"
    },
    "tags": []
   },
   "outputs": [
    {
     "data": {
      "text/plain": [
       "<AxesSubplot:ylabel='PRODUCT'>"
      ]
     },
     "execution_count": 7,
     "metadata": {},
     "output_type": "execute_result"
    },
    {
     "data": {
      "image/png": "[encoded data removed]",
      "text/plain": [
       "<Figure size 432x288 with 1 Axes>"
      ]
     },
     "metadata": {
      "needs_background": "light"
     },
     "output_type": "display_data"
    }
   ],
   "source": [
    "df_pivot_diff.sort_values(\"stamp_2\", ascending = False)[\"stamp_2\"].head(10).plot.barh()"
   ]
  },
  {
   "cell_type": "code",
   "execution_count": null,
   "id": "extra-executive",
   "metadata": {
    "papermill": {
     "duration": 0.021956,
     "end_time": "2021-08-13T19:30:09.701653",
     "exception": false,
     "start_time": "2021-08-13T19:30:09.679697",
     "status": "completed"
    },
    "tags": []
   },
   "outputs": [],
   "source": []
  }
 ],
 "metadata": {
  "kernelspec": {
   "display_name": "Python 3",
   "language": "python",
   "name": "python3"
  },
  "language_info": {
   "codemirror_mode": {
    "name": "ipython",
    "version": 3
   },
   "file_extension": ".py",
   "mimetype": "text/x-python",
   "name": "python",
   "nbconvert_exporter": "python",
   "pygments_lexer": "ipython3",
   "version": "3.9.5"
  },
  "papermill": {
   "default_parameters": {},
   "duration": 6.829098,
   "end_time": "2021-08-13T19:30:11.199359",
   "environment_variables": {},
   "exception": null,
   "input_path": "eBay_Overview.ipynb",
   "output_path": "eBay_Overview.ipynb",
   "parameters": {},
   "start_time": "2021-08-13T19:30:04.370261",
   "version": "2.3.3"
  }
 },
 "nbformat": 4,
 "nbformat_minor": 5
}