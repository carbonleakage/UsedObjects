{
 "cells": [
  {
   "cell_type": "code",
   "execution_count": 1,
   "id": "reverse-picking",
   "metadata": {
    "execution": {
     "iopub.execute_input": "2021-08-10T04:00:04.342464Z",
     "iopub.status.busy": "2021-08-10T04:00:04.341704Z",
     "iopub.status.idle": "2021-08-10T04:00:05.009678Z",
     "shell.execute_reply": "2021-08-10T04:00:05.008320Z"
    },
    "papermill": {
     "duration": 0.685279,
     "end_time": "2021-08-10T04:00:05.010017",
     "exception": false,
     "start_time": "2021-08-10T04:00:04.324738",
     "status": "completed"
    },
    "tags": []
   },
   "outputs": [],
   "source": [
    "import pandas as pd\n",
    "import sqlite3"
   ]
  },
  {
   "cell_type": "code",
   "execution_count": 2,
   "id": "innovative-syndrome",
   "metadata": {
    "execution": {
     "iopub.execute_input": "2021-08-10T04:00:05.035082Z",
     "iopub.status.busy": "2021-08-10T04:00:05.034315Z",
     "iopub.status.idle": "2021-08-10T04:00:05.247997Z",
     "shell.execute_reply": "2021-08-10T04:00:05.248529Z"
    },
    "papermill": {
     "duration": 0.227861,
     "end_time": "2021-08-10T04:00:05.248712",
     "exception": false,
     "start_time": "2021-08-10T04:00:05.020851",
     "status": "completed"
    },
    "tags": []
   },
   "outputs": [],
   "source": [
    "timestamps = pd.read_sql(\"select distinct record_time from EBAY_TOP_BERLIN order by record_time desc limit 2\", sqlite3.connect(\"UsedObjects.db\"))"
   ]
  },
  {
   "cell_type": "code",
   "execution_count": 3,
   "id": "periodic-identification",
   "metadata": {
    "execution": {
     "iopub.execute_input": "2021-08-10T04:00:05.280455Z",
     "iopub.status.busy": "2021-08-10T04:00:05.279675Z",
     "iopub.status.idle": "2021-08-10T04:00:05.290754Z",
     "shell.execute_reply": "2021-08-10T04:00:05.291284Z"
    },
    "papermill": {
     "duration": 0.034747,
     "end_time": "2021-08-10T04:00:05.291466",
     "exception": false,
     "start_time": "2021-08-10T04:00:05.256719",
     "status": "completed"
    },
    "tags": []
   },
   "outputs": [
    {
     "data": {
      "text/html": [
       "<div>\n",
       "<style scoped>\n",
       "    .dataframe tbody tr th:only-of-type {\n",
       "        vertical-align: middle;\n",
       "    }\n",
       "\n",
       "    .dataframe tbody tr th {\n",
       "        vertical-align: top;\n",
       "    }\n",
       "\n",
       "    .dataframe thead th {\n",
       "        text-align: right;\n",
       "    }\n",
       "</style>\n",
       "<table border=\"1\" class=\"dataframe\">\n",
       "  <thead>\n",
       "    <tr style=\"text-align: right;\">\n",
       "      <th></th>\n",
       "      <th>RECORD_TIME</th>\n",
       "    </tr>\n",
       "  </thead>\n",
       "  <tbody>\n",
       "    <tr>\n",
       "      <th>0</th>\n",
       "      <td>2021-08-10 06:00</td>\n",
       "    </tr>\n",
       "    <tr>\n",
       "      <th>1</th>\n",
       "      <td>2021-08-10 05:30</td>\n",
       "    </tr>\n",
       "  </tbody>\n",
       "</table>\n",
       "</div>"
      ],
      "text/plain": [
       "        RECORD_TIME\n",
       "0  2021-08-10 06:00\n",
       "1  2021-08-10 05:30"
      ]
     },
     "execution_count": 3,
     "metadata": {},
     "output_type": "execute_result"
    }
   ],
   "source": [
    "timestamps"
   ]
  },
  {
   "cell_type": "code",
   "execution_count": 4,
   "id": "alternate-victory",
   "metadata": {
    "execution": {
     "iopub.execute_input": "2021-08-10T04:00:05.318249Z",
     "iopub.status.busy": "2021-08-10T04:00:05.317498Z",
     "iopub.status.idle": "2021-08-10T04:00:05.328702Z",
     "shell.execute_reply": "2021-08-10T04:00:05.329235Z"
    },
    "papermill": {
     "duration": 0.027687,
     "end_time": "2021-08-10T04:00:05.329419",
     "exception": false,
     "start_time": "2021-08-10T04:00:05.301732",
     "status": "completed"
    },
    "tags": []
   },
   "outputs": [],
   "source": [
    "df = pd.read_sql(\"select * from EBAY_TOP_BERLIN where record_time in (select distinct record_time from EBAY_TOP_BERLIN order by record_time desc limit 2)\", sqlite3.connect(\"UsedObjects.db\"))"
   ]
  },
  {
   "cell_type": "code",
   "execution_count": 5,
   "id": "popular-active",
   "metadata": {
    "execution": {
     "iopub.execute_input": "2021-08-10T04:00:05.354666Z",
     "iopub.status.busy": "2021-08-10T04:00:05.353823Z",
     "iopub.status.idle": "2021-08-10T04:00:05.371527Z",
     "shell.execute_reply": "2021-08-10T04:00:05.372419Z"
    },
    "papermill": {
     "duration": 0.034967,
     "end_time": "2021-08-10T04:00:05.372659",
     "exception": false,
     "start_time": "2021-08-10T04:00:05.337692",
     "status": "completed"
    },
    "tags": []
   },
   "outputs": [],
   "source": [
    "df_pivot = df.pivot_table(index=\"PRODUCT\", columns = \"RECORD_TIME\", values = \"LISTING_COUNT\")"
   ]
  },
  {
   "cell_type": "code",
   "execution_count": 6,
   "id": "union-huntington",
   "metadata": {
    "execution": {
     "iopub.execute_input": "2021-08-10T04:00:05.400050Z",
     "iopub.status.busy": "2021-08-10T04:00:05.399357Z",
     "iopub.status.idle": "2021-08-10T04:00:05.407698Z",
     "shell.execute_reply": "2021-08-10T04:00:05.407081Z"
    },
    "papermill": {
     "duration": 0.02429,
     "end_time": "2021-08-10T04:00:05.407863",
     "exception": false,
     "start_time": "2021-08-10T04:00:05.383573",
     "status": "completed"
    },
    "tags": []
   },
   "outputs": [],
   "source": [
    "df_pivot.columns = [\"stamp_1\", \"stamp_2\"]\n",
    "df_pivot_diff = df_pivot.diff(axis=1)"
   ]
  },
  {
   "cell_type": "code",
   "execution_count": 7,
   "id": "fifth-motion",
   "metadata": {
    "execution": {
     "iopub.execute_input": "2021-08-10T04:00:05.442287Z",
     "iopub.status.busy": "2021-08-10T04:00:05.439448Z",
     "iopub.status.idle": "2021-08-10T04:00:06.168088Z",
     "shell.execute_reply": "2021-08-10T04:00:06.167347Z"
    },
    "papermill": {
     "duration": 0.749492,
     "end_time": "2021-08-10T04:00:06.168242",
     "exception": false,
     "start_time": "2021-08-10T04:00:05.418750",
     "status": "completed"
    },
    "tags": []
   },
   "outputs": [
    {
     "data": {
      "text/plain": [
       "<AxesSubplot:ylabel='PRODUCT'>"
      ]
     },
     "execution_count": 7,
     "metadata": {},
     "output_type": "execute_result"
    },
    {
     "data": {
      "image/png": "[encoded data removed]",
      "text/plain": [
       "<Figure size 432x288 with 1 Axes>"
      ]
     },
     "metadata": {
      "needs_background": "light"
     },
     "output_type": "display_data"
    }
   ],
   "source": [
    "df_pivot_diff.sort_values(\"stamp_2\", ascending = False)[\"stamp_2\"].head(10).plot.barh()"
   ]
  },
  {
   "cell_type": "code",
   "execution_count": null,
   "id": "extra-executive",
   "metadata": {
    "papermill": {
     "duration": 0.009455,
     "end_time": "2021-08-10T04:00:06.187676",
     "exception": false,
     "start_time": "2021-08-10T04:00:06.178221",
     "status": "completed"
    },
    "tags": []
   },
   "outputs": [],
   "source": []
  }
 ],
 "metadata": {
  "kernelspec": {
   "display_name": "Python 3",
   "language": "python",
   "name": "python3"
  },
  "language_info": {
   "codemirror_mode": {
    "name": "ipython",
    "version": 3
   },
   "file_extension": ".py",
   "mimetype": "text/x-python",
   "name": "python",
   "nbconvert_exporter": "python",
   "pygments_lexer": "ipython3",
   "version": "3.8.8"
  },
  "papermill": {
   "default_parameters": {},
   "duration": 4.293202,
   "end_time": "2021-08-10T04:00:06.917446",
   "environment_variables": {},
   "exception": null,
   "input_path": "/Users/saravananshanmugam/Carbonleakage_Git/UsedObjects/eBay_Overview.ipynb",
   "output_path": "/Users/saravananshanmugam/Carbonleakage_Git/UsedObjects/eBay_Overview.ipynb",
   "parameters": {},
   "start_time": "2021-08-10T04:00:02.624244",
   "version": "2.3.3"
  }
 },
 "nbformat": 4,
 "nbformat_minor": 5
}