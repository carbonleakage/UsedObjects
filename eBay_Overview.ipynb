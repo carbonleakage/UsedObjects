{
 "cells": [
  {
   "cell_type": "code",
   "execution_count": 1,
   "id": "reverse-picking",
   "metadata": {
    "execution": {
     "iopub.execute_input": "2021-08-24T08:30:07.642186Z",
     "iopub.status.busy": "2021-08-24T08:30:07.640157Z",
     "iopub.status.idle": "2021-08-24T08:30:08.443154Z",
     "shell.execute_reply": "2021-08-24T08:30:08.444582Z"
    },
    "papermill": {
     "duration": 0.855369,
     "end_time": "2021-08-24T08:30:08.445264",
     "exception": false,
     "start_time": "2021-08-24T08:30:07.589895",
     "status": "completed"
    },
    "tags": []
   },
   "outputs": [],
   "source": [
    "import pandas as pd\n",
    "import sqlite3"
   ]
  },
  {
   "cell_type": "code",
   "execution_count": 2,
   "id": "innovative-syndrome",
   "metadata": {
    "execution": {
     "iopub.execute_input": "2021-08-24T08:30:08.496874Z",
     "iopub.status.busy": "2021-08-24T08:30:08.494835Z",
     "iopub.status.idle": "2021-08-24T08:30:08.612830Z",
     "shell.execute_reply": "2021-08-24T08:30:08.614204Z"
    },
    "papermill": {
     "duration": 0.148369,
     "end_time": "2021-08-24T08:30:08.614669",
     "exception": false,
     "start_time": "2021-08-24T08:30:08.466300",
     "status": "completed"
    },
    "tags": []
   },
   "outputs": [],
   "source": [
    "timestamps = pd.read_sql(\"select distinct record_time from EBAY_TOP_BERLIN order by record_time desc limit 2\", sqlite3.connect(\"UsedObjects.db\"))"
   ]
  },
  {
   "cell_type": "code",
   "execution_count": 3,
   "id": "periodic-identification",
   "metadata": {
    "execution": {
     "iopub.execute_input": "2021-08-24T08:30:08.680761Z",
     "iopub.status.busy": "2021-08-24T08:30:08.678762Z",
     "iopub.status.idle": "2021-08-24T08:30:08.698724Z",
     "shell.execute_reply": "2021-08-24T08:30:08.700037Z"
    },
    "papermill": {
     "duration": 0.066729,
     "end_time": "2021-08-24T08:30:08.700449",
     "exception": false,
     "start_time": "2021-08-24T08:30:08.633720",
     "status": "completed"
    },
    "tags": []
   },
   "outputs": [
    {
     "data": {
      "text/html": [
       "<div>\n",
       "<style scoped>\n",
       "    .dataframe tbody tr th:only-of-type {\n",
       "        vertical-align: middle;\n",
       "    }\n",
       "\n",
       "    .dataframe tbody tr th {\n",
       "        vertical-align: top;\n",
       "    }\n",
       "\n",
       "    .dataframe thead th {\n",
       "        text-align: right;\n",
       "    }\n",
       "</style>\n",
       "<table border=\"1\" class=\"dataframe\">\n",
       "  <thead>\n",
       "    <tr style=\"text-align: right;\">\n",
       "      <th></th>\n",
       "      <th>RECORD_TIME</th>\n",
       "    </tr>\n",
       "  </thead>\n",
       "  <tbody>\n",
       "    <tr>\n",
       "      <th>0</th>\n",
       "      <td>2021-08-24 10:30</td>\n",
       "    </tr>\n",
       "    <tr>\n",
       "      <th>1</th>\n",
       "      <td>2021-08-24 10:00</td>\n",
       "    </tr>\n",
       "  </tbody>\n",
       "</table>\n",
       "</div>"
      ],
      "text/plain": [
       "        RECORD_TIME\n",
       "0  2021-08-24 10:30\n",
       "1  2021-08-24 10:00"
      ]
     },
     "execution_count": 3,
     "metadata": {},
     "output_type": "execute_result"
    }
   ],
   "source": [
    "timestamps"
   ]
  },
  {
   "cell_type": "code",
   "execution_count": 4,
   "id": "alternate-victory",
   "metadata": {
    "execution": {
     "iopub.execute_input": "2021-08-24T08:30:08.752206Z",
     "iopub.status.busy": "2021-08-24T08:30:08.750042Z",
     "iopub.status.idle": "2021-08-24T08:30:08.924596Z",
     "shell.execute_reply": "2021-08-24T08:30:08.925799Z"
    },
    "papermill": {
     "duration": 0.204734,
     "end_time": "2021-08-24T08:30:08.926380",
     "exception": false,
     "start_time": "2021-08-24T08:30:08.721646",
     "status": "completed"
    },
    "tags": []
   },
   "outputs": [],
   "source": [
    "df = pd.read_sql(\"select * from EBAY_TOP_BERLIN where record_time in (select distinct record_time from EBAY_TOP_BERLIN order by record_time desc limit 2)\", sqlite3.connect(\"UsedObjects.db\"))"
   ]
  },
  {
   "cell_type": "code",
   "execution_count": 5,
   "id": "popular-active",
   "metadata": {
    "execution": {
     "iopub.execute_input": "2021-08-24T08:30:08.997808Z",
     "iopub.status.busy": "2021-08-24T08:30:08.985368Z",
     "iopub.status.idle": "2021-08-24T08:30:09.013576Z",
     "shell.execute_reply": "2021-08-24T08:30:09.014860Z"
    },
    "papermill": {
     "duration": 0.068629,
     "end_time": "2021-08-24T08:30:09.015261",
     "exception": false,
     "start_time": "2021-08-24T08:30:08.946632",
     "status": "completed"
    },
    "tags": []
   },
   "outputs": [],
   "source": [
    "df_pivot = df.pivot_table(index=\"PRODUCT\", columns = \"RECORD_TIME\", values = \"LISTING_COUNT\")"
   ]
  },
  {
   "cell_type": "code",
   "execution_count": 6,
   "id": "union-huntington",
   "metadata": {
    "execution": {
     "iopub.execute_input": "2021-08-24T08:30:09.078704Z",
     "iopub.status.busy": "2021-08-24T08:30:09.076251Z",
     "iopub.status.idle": "2021-08-24T08:30:09.082367Z",
     "shell.execute_reply": "2021-08-24T08:30:09.083895Z"
    },
    "papermill": {
     "duration": 0.046901,
     "end_time": "2021-08-24T08:30:09.084355",
     "exception": false,
     "start_time": "2021-08-24T08:30:09.037454",
     "status": "completed"
    },
    "tags": []
   },
   "outputs": [],
   "source": [
    "df_pivot.columns = [\"stamp_1\", \"stamp_2\"]\n",
    "df_pivot_diff = df_pivot.diff(axis=1)"
   ]
  },
  {
   "cell_type": "code",
   "execution_count": 7,
   "id": "fifth-motion",
   "metadata": {
    "execution": {
     "iopub.execute_input": "2021-08-24T08:30:09.138819Z",
     "iopub.status.busy": "2021-08-24T08:30:09.136230Z",
     "iopub.status.idle": "2021-08-24T08:30:10.625708Z",
     "shell.execute_reply": "2021-08-24T08:30:10.626983Z"
    },
    "papermill": {
     "duration": 1.522358,
     "end_time": "2021-08-24T08:30:10.627415",
     "exception": false,
     "start_time": "2021-08-24T08:30:09.105057",
     "status": "completed"
    },
    "tags": []
   },
   "outputs": [
    {
     "data": {
      "text/plain": [
       "<AxesSubplot:ylabel='PRODUCT'>"
      ]
     },
     "execution_count": 7,
     "metadata": {},
     "output_type": "execute_result"
    },
    {
     "data": {
      "image/png": "[encoded data removed]",
      "text/plain": [
       "<Figure size 432x288 with 1 Axes>"
      ]
     },
     "metadata": {
      "needs_background": "light"
     },
     "output_type": "display_data"
    }
   ],
   "source": [
    "df_pivot_diff.sort_values(\"stamp_2\", ascending = False)[\"stamp_2\"].head(10).plot.barh()"
   ]
  },
  {
   "cell_type": "code",
   "execution_count": null,
   "id": "extra-executive",
   "metadata": {
    "papermill": {
     "duration": 0.022117,
     "end_time": "2021-08-24T08:30:10.675773",
     "exception": false,
     "start_time": "2021-08-24T08:30:10.653656",
     "status": "completed"
    },
    "tags": []
   },
   "outputs": [],
   "source": []
  }
 ],
 "metadata": {
  "kernelspec": {
   "display_name": "Python 3",
   "language": "python",
   "name": "python3"
  },
  "language_info": {
   "codemirror_mode": {
    "name": "ipython",
    "version": 3
   },
   "file_extension": ".py",
   "mimetype": "text/x-python",
   "name": "python",
   "nbconvert_exporter": "python",
   "pygments_lexer": "ipython3",
   "version": "3.9.5"
  },
  "papermill": {
   "default_parameters": {},
   "duration": 6.824668,
   "end_time": "2021-08-24T08:30:12.005198",
   "environment_variables": {},
   "exception": null,
   "input_path": "eBay_Overview.ipynb",
   "output_path": "eBay_Overview.ipynb",
   "parameters": {},
   "start_time": "2021-08-24T08:30:05.180530",
   "version": "2.3.3"
  }
 },
 "nbformat": 4,
 "nbformat_minor": 5
}