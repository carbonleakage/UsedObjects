{
 "cells": [
  {
   "cell_type": "code",
   "execution_count": 1,
   "id": "reverse-picking",
   "metadata": {
    "execution": {
     "iopub.execute_input": "2021-09-30T20:30:06.939815Z",
     "iopub.status.busy": "2021-09-30T20:30:06.937832Z",
     "iopub.status.idle": "2021-09-30T20:30:07.743107Z",
     "shell.execute_reply": "2021-09-30T20:30:07.744387Z"
    },
    "papermill": {
     "duration": 0.854823,
     "end_time": "2021-09-30T20:30:07.745011",
     "exception": false,
     "start_time": "2021-09-30T20:30:06.890188",
     "status": "completed"
    },
    "tags": []
   },
   "outputs": [],
   "source": [
    "import pandas as pd\n",
    "import sqlite3"
   ]
  },
  {
   "cell_type": "code",
   "execution_count": 2,
   "id": "innovative-syndrome",
   "metadata": {
    "execution": {
     "iopub.execute_input": "2021-09-30T20:30:07.798944Z",
     "iopub.status.busy": "2021-09-30T20:30:07.796611Z",
     "iopub.status.idle": "2021-09-30T20:30:08.225039Z",
     "shell.execute_reply": "2021-09-30T20:30:08.226224Z"
    },
    "papermill": {
     "duration": 0.458431,
     "end_time": "2021-09-30T20:30:08.226618",
     "exception": false,
     "start_time": "2021-09-30T20:30:07.768187",
     "status": "completed"
    },
    "tags": []
   },
   "outputs": [],
   "source": [
    "timestamps = pd.read_sql(\"select distinct record_time from EBAY_TOP_BERLIN order by record_time desc limit 2\", sqlite3.connect(\"UsedObjects.db\"))"
   ]
  },
  {
   "cell_type": "code",
   "execution_count": 3,
   "id": "periodic-identification",
   "metadata": {
    "execution": {
     "iopub.execute_input": "2021-09-30T20:30:08.294657Z",
     "iopub.status.busy": "2021-09-30T20:30:08.292673Z",
     "iopub.status.idle": "2021-09-30T20:30:08.313355Z",
     "shell.execute_reply": "2021-09-30T20:30:08.314629Z"
    },
    "papermill": {
     "duration": 0.066557,
     "end_time": "2021-09-30T20:30:08.315095",
     "exception": false,
     "start_time": "2021-09-30T20:30:08.248538",
     "status": "completed"
    },
    "tags": []
   },
   "outputs": [
    {
     "data": {
      "text/html": [
       "<div>\n",
       "<style scoped>\n",
       "    .dataframe tbody tr th:only-of-type {\n",
       "        vertical-align: middle;\n",
       "    }\n",
       "\n",
       "    .dataframe tbody tr th {\n",
       "        vertical-align: top;\n",
       "    }\n",
       "\n",
       "    .dataframe thead th {\n",
       "        text-align: right;\n",
       "    }\n",
       "</style>\n",
       "<table border=\"1\" class=\"dataframe\">\n",
       "  <thead>\n",
       "    <tr style=\"text-align: right;\">\n",
       "      <th></th>\n",
       "      <th>RECORD_TIME</th>\n",
       "    </tr>\n",
       "  </thead>\n",
       "  <tbody>\n",
       "    <tr>\n",
       "      <th>0</th>\n",
       "      <td>2021-09-30 22:30</td>\n",
       "    </tr>\n",
       "    <tr>\n",
       "      <th>1</th>\n",
       "      <td>2021-09-30 22:00</td>\n",
       "    </tr>\n",
       "  </tbody>\n",
       "</table>\n",
       "</div>"
      ],
      "text/plain": [
       "        RECORD_TIME\n",
       "0  2021-09-30 22:30\n",
       "1  2021-09-30 22:00"
      ]
     },
     "execution_count": 3,
     "metadata": {},
     "output_type": "execute_result"
    }
   ],
   "source": [
    "timestamps"
   ]
  },
  {
   "cell_type": "code",
   "execution_count": 4,
   "id": "alternate-victory",
   "metadata": {
    "execution": {
     "iopub.execute_input": "2021-09-30T20:30:08.378766Z",
     "iopub.status.busy": "2021-09-30T20:30:08.376946Z",
     "iopub.status.idle": "2021-09-30T20:30:09.032272Z",
     "shell.execute_reply": "2021-09-30T20:30:09.033478Z"
    },
    "papermill": {
     "duration": 0.697643,
     "end_time": "2021-09-30T20:30:09.033877",
     "exception": false,
     "start_time": "2021-09-30T20:30:08.336234",
     "status": "completed"
    },
    "tags": []
   },
   "outputs": [],
   "source": [
    "df = pd.read_sql(\"select * from EBAY_TOP_BERLIN where record_time in (select distinct record_time from EBAY_TOP_BERLIN order by record_time desc limit 2)\", sqlite3.connect(\"UsedObjects.db\"))"
   ]
  },
  {
   "cell_type": "code",
   "execution_count": 5,
   "id": "popular-active",
   "metadata": {
    "execution": {
     "iopub.execute_input": "2021-09-30T20:30:09.106559Z",
     "iopub.status.busy": "2021-09-30T20:30:09.095600Z",
     "iopub.status.idle": "2021-09-30T20:30:09.123011Z",
     "shell.execute_reply": "2021-09-30T20:30:09.124247Z"
    },
    "papermill": {
     "duration": 0.067973,
     "end_time": "2021-09-30T20:30:09.124646",
     "exception": false,
     "start_time": "2021-09-30T20:30:09.056673",
     "status": "completed"
    },
    "tags": []
   },
   "outputs": [],
   "source": [
    "df_pivot = df.pivot_table(index=\"PRODUCT\", columns = \"RECORD_TIME\", values = \"LISTING_COUNT\")"
   ]
  },
  {
   "cell_type": "code",
   "execution_count": 6,
   "id": "union-huntington",
   "metadata": {
    "execution": {
     "iopub.execute_input": "2021-09-30T20:30:09.182543Z",
     "iopub.status.busy": "2021-09-30T20:30:09.180315Z",
     "iopub.status.idle": "2021-09-30T20:30:09.186110Z",
     "shell.execute_reply": "2021-09-30T20:30:09.187627Z"
    },
    "papermill": {
     "duration": 0.041844,
     "end_time": "2021-09-30T20:30:09.188104",
     "exception": false,
     "start_time": "2021-09-30T20:30:09.146260",
     "status": "completed"
    },
    "tags": []
   },
   "outputs": [],
   "source": [
    "df_pivot.columns = [\"stamp_1\", \"stamp_2\"]\n",
    "df_pivot_diff = df_pivot.diff(axis=1)"
   ]
  },
  {
   "cell_type": "code",
   "execution_count": 7,
   "id": "fifth-motion",
   "metadata": {
    "execution": {
     "iopub.execute_input": "2021-09-30T20:30:09.242490Z",
     "iopub.status.busy": "2021-09-30T20:30:09.240224Z",
     "iopub.status.idle": "2021-09-30T20:30:10.754343Z",
     "shell.execute_reply": "2021-09-30T20:30:10.755862Z"
    },
    "papermill": {
     "duration": 1.547054,
     "end_time": "2021-09-30T20:30:10.756324",
     "exception": false,
     "start_time": "2021-09-30T20:30:09.209270",
     "status": "completed"
    },
    "tags": []
   },
   "outputs": [
    {
     "data": {
      "text/plain": [
       "<AxesSubplot:ylabel='PRODUCT'>"
      ]
     },
     "execution_count": 7,
     "metadata": {},
     "output_type": "execute_result"
    },
    {
     "data": {
      "image/png": "[encoded data removed]",
      "text/plain": [
       "<Figure size 432x288 with 1 Axes>"
      ]
     },
     "metadata": {
      "needs_background": "light"
     },
     "output_type": "display_data"
    }
   ],
   "source": [
    "df_pivot_diff.sort_values(\"stamp_2\", ascending = False)[\"stamp_2\"].head(10).plot.barh()"
   ]
  },
  {
   "cell_type": "code",
   "execution_count": null,
   "id": "extra-executive",
   "metadata": {
    "papermill": {
     "duration": 0.022475,
     "end_time": "2021-09-30T20:30:10.803655",
     "exception": false,
     "start_time": "2021-09-30T20:30:10.781180",
     "status": "completed"
    },
    "tags": []
   },
   "outputs": [],
   "source": []
  }
 ],
 "metadata": {
  "kernelspec": {
   "display_name": "Python 3",
   "language": "python",
   "name": "python3"
  },
  "language_info": {
   "codemirror_mode": {
    "name": "ipython",
    "version": 3
   },
   "file_extension": ".py",
   "mimetype": "text/x-python",
   "name": "python",
   "nbconvert_exporter": "python",
   "pygments_lexer": "ipython3",
   "version": "3.9.5"
  },
  "papermill": {
   "default_parameters": {},
   "duration": 7.827454,
   "end_time": "2021-09-30T20:30:12.301110",
   "environment_variables": {},
   "exception": null,
   "input_path": "eBay_Overview.ipynb",
   "output_path": "eBay_Overview.ipynb",
   "parameters": {},
   "start_time": "2021-09-30T20:30:04.473656",
   "version": "2.3.3"
  }
 },
 "nbformat": 4,
 "nbformat_minor": 5
}