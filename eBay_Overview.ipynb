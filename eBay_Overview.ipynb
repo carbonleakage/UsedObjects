{
 "cells": [
  {
   "cell_type": "code",
   "execution_count": 1,
   "id": "reverse-picking",
   "metadata": {
    "execution": {
     "iopub.execute_input": "2021-11-06T16:30:07.906831Z",
     "iopub.status.busy": "2021-11-06T16:30:07.904468Z",
     "iopub.status.idle": "2021-11-06T16:30:08.854780Z",
     "shell.execute_reply": "2021-11-06T16:30:08.857188Z"
    },
    "papermill": {
     "duration": 1.001749,
     "end_time": "2021-11-06T16:30:08.857971",
     "exception": false,
     "start_time": "2021-11-06T16:30:07.856222",
     "status": "completed"
    },
    "tags": []
   },
   "outputs": [],
   "source": [
    "import pandas as pd\n",
    "import sqlite3"
   ]
  },
  {
   "cell_type": "code",
   "execution_count": 2,
   "id": "innovative-syndrome",
   "metadata": {
    "execution": {
     "iopub.execute_input": "2021-11-06T16:30:08.918360Z",
     "iopub.status.busy": "2021-11-06T16:30:08.915642Z",
     "iopub.status.idle": "2021-11-06T16:30:09.657124Z",
     "shell.execute_reply": "2021-11-06T16:30:09.658773Z"
    },
    "papermill": {
     "duration": 0.776152,
     "end_time": "2021-11-06T16:30:09.659277",
     "exception": false,
     "start_time": "2021-11-06T16:30:08.883125",
     "status": "completed"
    },
    "tags": []
   },
   "outputs": [],
   "source": [
    "timestamps = pd.read_sql(\"select distinct record_time from EBAY_TOP_BERLIN order by record_time desc limit 2\", sqlite3.connect(\"UsedObjects.db\"))"
   ]
  },
  {
   "cell_type": "code",
   "execution_count": 3,
   "id": "periodic-identification",
   "metadata": {
    "execution": {
     "iopub.execute_input": "2021-11-06T16:30:09.750014Z",
     "iopub.status.busy": "2021-11-06T16:30:09.743531Z",
     "iopub.status.idle": "2021-11-06T16:30:09.767933Z",
     "shell.execute_reply": "2021-11-06T16:30:09.769543Z"
    },
    "papermill": {
     "duration": 0.086818,
     "end_time": "2021-11-06T16:30:09.770053",
     "exception": false,
     "start_time": "2021-11-06T16:30:09.683235",
     "status": "completed"
    },
    "tags": []
   },
   "outputs": [
    {
     "data": {
      "text/html": [
       "<div>\n",
       "<style scoped>\n",
       "    .dataframe tbody tr th:only-of-type {\n",
       "        vertical-align: middle;\n",
       "    }\n",
       "\n",
       "    .dataframe tbody tr th {\n",
       "        vertical-align: top;\n",
       "    }\n",
       "\n",
       "    .dataframe thead th {\n",
       "        text-align: right;\n",
       "    }\n",
       "</style>\n",
       "<table border=\"1\" class=\"dataframe\">\n",
       "  <thead>\n",
       "    <tr style=\"text-align: right;\">\n",
       "      <th></th>\n",
       "      <th>RECORD_TIME</th>\n",
       "    </tr>\n",
       "  </thead>\n",
       "  <tbody>\n",
       "    <tr>\n",
       "      <th>0</th>\n",
       "      <td>2021-11-06 17:30</td>\n",
       "    </tr>\n",
       "    <tr>\n",
       "      <th>1</th>\n",
       "      <td>2021-11-06 17:00</td>\n",
       "    </tr>\n",
       "  </tbody>\n",
       "</table>\n",
       "</div>"
      ],
      "text/plain": [
       "        RECORD_TIME\n",
       "0  2021-11-06 17:30\n",
       "1  2021-11-06 17:00"
      ]
     },
     "execution_count": 3,
     "metadata": {},
     "output_type": "execute_result"
    }
   ],
   "source": [
    "timestamps"
   ]
  },
  {
   "cell_type": "code",
   "execution_count": 4,
   "id": "alternate-victory",
   "metadata": {
    "execution": {
     "iopub.execute_input": "2021-11-06T16:30:09.826981Z",
     "iopub.status.busy": "2021-11-06T16:30:09.824802Z",
     "iopub.status.idle": "2021-11-06T16:30:10.939909Z",
     "shell.execute_reply": "2021-11-06T16:30:10.941590Z"
    },
    "papermill": {
     "duration": 1.149314,
     "end_time": "2021-11-06T16:30:10.942114",
     "exception": false,
     "start_time": "2021-11-06T16:30:09.792800",
     "status": "completed"
    },
    "tags": []
   },
   "outputs": [],
   "source": [
    "df = pd.read_sql(\"select * from EBAY_TOP_BERLIN where record_time in (select distinct record_time from EBAY_TOP_BERLIN order by record_time desc limit 2)\", sqlite3.connect(\"UsedObjects.db\"))"
   ]
  },
  {
   "cell_type": "code",
   "execution_count": 5,
   "id": "popular-active",
   "metadata": {
    "execution": {
     "iopub.execute_input": "2021-11-06T16:30:11.001106Z",
     "iopub.status.busy": "2021-11-06T16:30:10.998999Z",
     "iopub.status.idle": "2021-11-06T16:30:11.067638Z",
     "shell.execute_reply": "2021-11-06T16:30:11.069016Z"
    },
    "papermill": {
     "duration": 0.105451,
     "end_time": "2021-11-06T16:30:11.069513",
     "exception": false,
     "start_time": "2021-11-06T16:30:10.964062",
     "status": "completed"
    },
    "tags": []
   },
   "outputs": [],
   "source": [
    "df_pivot = df.pivot_table(index=\"PRODUCT\", columns = \"RECORD_TIME\", values = \"LISTING_COUNT\")"
   ]
  },
  {
   "cell_type": "code",
   "execution_count": 6,
   "id": "union-huntington",
   "metadata": {
    "execution": {
     "iopub.execute_input": "2021-11-06T16:30:11.163030Z",
     "iopub.status.busy": "2021-11-06T16:30:11.160660Z",
     "iopub.status.idle": "2021-11-06T16:30:11.168269Z",
     "shell.execute_reply": "2021-11-06T16:30:11.166506Z"
    },
    "papermill": {
     "duration": 0.077812,
     "end_time": "2021-11-06T16:30:11.168859",
     "exception": false,
     "start_time": "2021-11-06T16:30:11.091047",
     "status": "completed"
    },
    "tags": []
   },
   "outputs": [],
   "source": [
    "df_pivot.columns = [\"stamp_1\", \"stamp_2\"]\n",
    "df_pivot_diff = df_pivot.diff(axis=1)"
   ]
  },
  {
   "cell_type": "code",
   "execution_count": 7,
   "id": "fifth-motion",
   "metadata": {
    "execution": {
     "iopub.execute_input": "2021-11-06T16:30:11.229331Z",
     "iopub.status.busy": "2021-11-06T16:30:11.226634Z",
     "iopub.status.idle": "2021-11-06T16:30:13.032941Z",
     "shell.execute_reply": "2021-11-06T16:30:13.034311Z"
    },
    "papermill": {
     "duration": 1.844575,
     "end_time": "2021-11-06T16:30:13.034791",
     "exception": false,
     "start_time": "2021-11-06T16:30:11.190216",
     "status": "completed"
    },
    "tags": []
   },
   "outputs": [
    {
     "data": {
      "text/plain": [
       "<AxesSubplot:ylabel='PRODUCT'>"
      ]
     },
     "execution_count": 7,
     "metadata": {},
     "output_type": "execute_result"
    },
    {
     "data": {
      "image/png": "[encoded data removed]",
      "text/plain": [
       "<Figure size 432x288 with 1 Axes>"
      ]
     },
     "metadata": {
      "needs_background": "light"
     },
     "output_type": "display_data"
    }
   ],
   "source": [
    "df_pivot_diff.sort_values(\"stamp_2\", ascending = False)[\"stamp_2\"].head(10).plot.barh()"
   ]
  },
  {
   "cell_type": "code",
   "execution_count": null,
   "id": "extra-executive",
   "metadata": {
    "papermill": {
     "duration": 0.027036,
     "end_time": "2021-11-06T16:30:13.086867",
     "exception": false,
     "start_time": "2021-11-06T16:30:13.059831",
     "status": "completed"
    },
    "tags": []
   },
   "outputs": [],
   "source": []
  }
 ],
 "metadata": {
  "kernelspec": {
   "display_name": "Python 3",
   "language": "python",
   "name": "python3"
  },
  "language_info": {
   "codemirror_mode": {
    "name": "ipython",
    "version": 3
   },
   "file_extension": ".py",
   "mimetype": "text/x-python",
   "name": "python",
   "nbconvert_exporter": "python",
   "pygments_lexer": "ipython3",
   "version": "3.9.5"
  },
  "papermill": {
   "default_parameters": {},
   "duration": 8.94461,
   "end_time": "2021-11-06T16:30:13.948929",
   "environment_variables": {},
   "exception": null,
   "input_path": "eBay_Overview.ipynb",
   "output_path": "eBay_Overview.ipynb",
   "parameters": {},
   "start_time": "2021-11-06T16:30:05.004319",
   "version": "2.3.3"
  }
 },
 "nbformat": 4,
 "nbformat_minor": 5
}