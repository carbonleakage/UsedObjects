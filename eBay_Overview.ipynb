{
 "cells": [
  {
   "cell_type": "code",
   "execution_count": 1,
   "id": "reverse-picking",
   "metadata": {
    "execution": {
     "iopub.execute_input": "2021-09-27T16:00:06.821317Z",
     "iopub.status.busy": "2021-09-27T16:00:06.819340Z",
     "iopub.status.idle": "2021-09-27T16:00:07.630478Z",
     "shell.execute_reply": "2021-09-27T16:00:07.632044Z"
    },
    "papermill": {
     "duration": 0.865035,
     "end_time": "2021-09-27T16:00:07.632736",
     "exception": false,
     "start_time": "2021-09-27T16:00:06.767701",
     "status": "completed"
    },
    "tags": []
   },
   "outputs": [],
   "source": [
    "import pandas as pd\n",
    "import sqlite3"
   ]
  },
  {
   "cell_type": "code",
   "execution_count": 2,
   "id": "innovative-syndrome",
   "metadata": {
    "execution": {
     "iopub.execute_input": "2021-09-27T16:00:07.683964Z",
     "iopub.status.busy": "2021-09-27T16:00:07.681552Z",
     "iopub.status.idle": "2021-09-27T16:00:08.076180Z",
     "shell.execute_reply": "2021-09-27T16:00:08.077633Z"
    },
    "papermill": {
     "duration": 0.424839,
     "end_time": "2021-09-27T16:00:08.078078",
     "exception": false,
     "start_time": "2021-09-27T16:00:07.653239",
     "status": "completed"
    },
    "tags": []
   },
   "outputs": [],
   "source": [
    "timestamps = pd.read_sql(\"select distinct record_time from EBAY_TOP_BERLIN order by record_time desc limit 2\", sqlite3.connect(\"UsedObjects.db\"))"
   ]
  },
  {
   "cell_type": "code",
   "execution_count": 3,
   "id": "periodic-identification",
   "metadata": {
    "execution": {
     "iopub.execute_input": "2021-09-27T16:00:08.144952Z",
     "iopub.status.busy": "2021-09-27T16:00:08.142927Z",
     "iopub.status.idle": "2021-09-27T16:00:08.163070Z",
     "shell.execute_reply": "2021-09-27T16:00:08.164493Z"
    },
    "papermill": {
     "duration": 0.067116,
     "end_time": "2021-09-27T16:00:08.164923",
     "exception": false,
     "start_time": "2021-09-27T16:00:08.097807",
     "status": "completed"
    },
    "tags": []
   },
   "outputs": [
    {
     "data": {
      "text/html": [
       "<div>\n",
       "<style scoped>\n",
       "    .dataframe tbody tr th:only-of-type {\n",
       "        vertical-align: middle;\n",
       "    }\n",
       "\n",
       "    .dataframe tbody tr th {\n",
       "        vertical-align: top;\n",
       "    }\n",
       "\n",
       "    .dataframe thead th {\n",
       "        text-align: right;\n",
       "    }\n",
       "</style>\n",
       "<table border=\"1\" class=\"dataframe\">\n",
       "  <thead>\n",
       "    <tr style=\"text-align: right;\">\n",
       "      <th></th>\n",
       "      <th>RECORD_TIME</th>\n",
       "    </tr>\n",
       "  </thead>\n",
       "  <tbody>\n",
       "    <tr>\n",
       "      <th>0</th>\n",
       "      <td>2021-09-27 18:00</td>\n",
       "    </tr>\n",
       "    <tr>\n",
       "      <th>1</th>\n",
       "      <td>2021-09-27 17:30</td>\n",
       "    </tr>\n",
       "  </tbody>\n",
       "</table>\n",
       "</div>"
      ],
      "text/plain": [
       "        RECORD_TIME\n",
       "0  2021-09-27 18:00\n",
       "1  2021-09-27 17:30"
      ]
     },
     "execution_count": 3,
     "metadata": {},
     "output_type": "execute_result"
    }
   ],
   "source": [
    "timestamps"
   ]
  },
  {
   "cell_type": "code",
   "execution_count": 4,
   "id": "alternate-victory",
   "metadata": {
    "execution": {
     "iopub.execute_input": "2021-09-27T16:00:08.217328Z",
     "iopub.status.busy": "2021-09-27T16:00:08.215304Z",
     "iopub.status.idle": "2021-09-27T16:00:08.792471Z",
     "shell.execute_reply": "2021-09-27T16:00:08.793672Z"
    },
    "papermill": {
     "duration": 0.607623,
     "end_time": "2021-09-27T16:00:08.794070",
     "exception": false,
     "start_time": "2021-09-27T16:00:08.186447",
     "status": "completed"
    },
    "tags": []
   },
   "outputs": [],
   "source": [
    "df = pd.read_sql(\"select * from EBAY_TOP_BERLIN where record_time in (select distinct record_time from EBAY_TOP_BERLIN order by record_time desc limit 2)\", sqlite3.connect(\"UsedObjects.db\"))"
   ]
  },
  {
   "cell_type": "code",
   "execution_count": 5,
   "id": "popular-active",
   "metadata": {
    "execution": {
     "iopub.execute_input": "2021-09-27T16:00:08.867544Z",
     "iopub.status.busy": "2021-09-27T16:00:08.860587Z",
     "iopub.status.idle": "2021-09-27T16:00:08.882892Z",
     "shell.execute_reply": "2021-09-27T16:00:08.884132Z"
    },
    "papermill": {
     "duration": 0.07023,
     "end_time": "2021-09-27T16:00:08.884531",
     "exception": false,
     "start_time": "2021-09-27T16:00:08.814301",
     "status": "completed"
    },
    "tags": []
   },
   "outputs": [],
   "source": [
    "df_pivot = df.pivot_table(index=\"PRODUCT\", columns = \"RECORD_TIME\", values = \"LISTING_COUNT\")"
   ]
  },
  {
   "cell_type": "code",
   "execution_count": 6,
   "id": "union-huntington",
   "metadata": {
    "execution": {
     "iopub.execute_input": "2021-09-27T16:00:08.940453Z",
     "iopub.status.busy": "2021-09-27T16:00:08.938228Z",
     "iopub.status.idle": "2021-09-27T16:00:08.943956Z",
     "shell.execute_reply": "2021-09-27T16:00:08.945238Z"
    },
    "papermill": {
     "duration": 0.040884,
     "end_time": "2021-09-27T16:00:08.945701",
     "exception": false,
     "start_time": "2021-09-27T16:00:08.904817",
     "status": "completed"
    },
    "tags": []
   },
   "outputs": [],
   "source": [
    "df_pivot.columns = [\"stamp_1\", \"stamp_2\"]\n",
    "df_pivot_diff = df_pivot.diff(axis=1)"
   ]
  },
  {
   "cell_type": "code",
   "execution_count": 7,
   "id": "fifth-motion",
   "metadata": {
    "execution": {
     "iopub.execute_input": "2021-09-27T16:00:09.003052Z",
     "iopub.status.busy": "2021-09-27T16:00:09.000282Z",
     "iopub.status.idle": "2021-09-27T16:00:10.497073Z",
     "shell.execute_reply": "2021-09-27T16:00:10.498377Z"
    },
    "papermill": {
     "duration": 1.530254,
     "end_time": "2021-09-27T16:00:10.498851",
     "exception": false,
     "start_time": "2021-09-27T16:00:08.968597",
     "status": "completed"
    },
    "tags": []
   },
   "outputs": [
    {
     "data": {
      "text/plain": [
       "<AxesSubplot:ylabel='PRODUCT'>"
      ]
     },
     "execution_count": 7,
     "metadata": {},
     "output_type": "execute_result"
    },
    {
     "data": {
      "image/png": "[encoded data removed]",
      "text/plain": [
       "<Figure size 432x288 with 1 Axes>"
      ]
     },
     "metadata": {
      "needs_background": "light"
     },
     "output_type": "display_data"
    }
   ],
   "source": [
    "df_pivot_diff.sort_values(\"stamp_2\", ascending = False)[\"stamp_2\"].head(10).plot.barh()"
   ]
  },
  {
   "cell_type": "code",
   "execution_count": null,
   "id": "extra-executive",
   "metadata": {
    "papermill": {
     "duration": 0.022036,
     "end_time": "2021-09-27T16:00:10.545485",
     "exception": false,
     "start_time": "2021-09-27T16:00:10.523449",
     "status": "completed"
    },
    "tags": []
   },
   "outputs": [],
   "source": []
  }
 ],
 "metadata": {
  "kernelspec": {
   "display_name": "Python 3",
   "language": "python",
   "name": "python3"
  },
  "language_info": {
   "codemirror_mode": {
    "name": "ipython",
    "version": 3
   },
   "file_extension": ".py",
   "mimetype": "text/x-python",
   "name": "python",
   "nbconvert_exporter": "python",
   "pygments_lexer": "ipython3",
   "version": "3.9.5"
  },
  "papermill": {
   "default_parameters": {},
   "duration": 7.827875,
   "end_time": "2021-09-27T16:00:12.187932",
   "environment_variables": {},
   "exception": null,
   "input_path": "eBay_Overview.ipynb",
   "output_path": "eBay_Overview.ipynb",
   "parameters": {},
   "start_time": "2021-09-27T16:00:04.360057",
   "version": "2.3.3"
  }
 },
 "nbformat": 4,
 "nbformat_minor": 5
}