{
 "cells": [
  {
   "cell_type": "code",
   "execution_count": 1,
   "id": "reverse-picking",
   "metadata": {
    "execution": {
     "iopub.execute_input": "2021-09-20T20:30:09.073430Z",
     "iopub.status.busy": "2021-09-20T20:30:09.071534Z",
     "iopub.status.idle": "2021-09-20T20:30:11.073627Z",
     "shell.execute_reply": "2021-09-20T20:30:11.075199Z"
    },
    "papermill": {
     "duration": 2.05341,
     "end_time": "2021-09-20T20:30:11.075930",
     "exception": false,
     "start_time": "2021-09-20T20:30:09.022520",
     "status": "completed"
    },
    "tags": []
   },
   "outputs": [],
   "source": [
    "import pandas as pd\n",
    "import sqlite3"
   ]
  },
  {
   "cell_type": "code",
   "execution_count": 2,
   "id": "innovative-syndrome",
   "metadata": {
    "execution": {
     "iopub.execute_input": "2021-09-20T20:30:11.127217Z",
     "iopub.status.busy": "2021-09-20T20:30:11.125019Z",
     "iopub.status.idle": "2021-09-20T20:30:11.626662Z",
     "shell.execute_reply": "2021-09-20T20:30:11.628264Z"
    },
    "papermill": {
     "duration": 0.531478,
     "end_time": "2021-09-20T20:30:11.628737",
     "exception": false,
     "start_time": "2021-09-20T20:30:11.097259",
     "status": "completed"
    },
    "tags": []
   },
   "outputs": [],
   "source": [
    "timestamps = pd.read_sql(\"select distinct record_time from EBAY_TOP_BERLIN order by record_time desc limit 2\", sqlite3.connect(\"UsedObjects.db\"))"
   ]
  },
  {
   "cell_type": "code",
   "execution_count": 3,
   "id": "periodic-identification",
   "metadata": {
    "execution": {
     "iopub.execute_input": "2021-09-20T20:30:11.694079Z",
     "iopub.status.busy": "2021-09-20T20:30:11.692022Z",
     "iopub.status.idle": "2021-09-20T20:30:11.715639Z",
     "shell.execute_reply": "2021-09-20T20:30:11.717247Z"
    },
    "papermill": {
     "duration": 0.069372,
     "end_time": "2021-09-20T20:30:11.717796",
     "exception": false,
     "start_time": "2021-09-20T20:30:11.648424",
     "status": "completed"
    },
    "tags": []
   },
   "outputs": [
    {
     "data": {
      "text/html": [
       "<div>\n",
       "<style scoped>\n",
       "    .dataframe tbody tr th:only-of-type {\n",
       "        vertical-align: middle;\n",
       "    }\n",
       "\n",
       "    .dataframe tbody tr th {\n",
       "        vertical-align: top;\n",
       "    }\n",
       "\n",
       "    .dataframe thead th {\n",
       "        text-align: right;\n",
       "    }\n",
       "</style>\n",
       "<table border=\"1\" class=\"dataframe\">\n",
       "  <thead>\n",
       "    <tr style=\"text-align: right;\">\n",
       "      <th></th>\n",
       "      <th>RECORD_TIME</th>\n",
       "    </tr>\n",
       "  </thead>\n",
       "  <tbody>\n",
       "    <tr>\n",
       "      <th>0</th>\n",
       "      <td>2021-09-20 22:30</td>\n",
       "    </tr>\n",
       "    <tr>\n",
       "      <th>1</th>\n",
       "      <td>2021-09-20 22:00</td>\n",
       "    </tr>\n",
       "  </tbody>\n",
       "</table>\n",
       "</div>"
      ],
      "text/plain": [
       "        RECORD_TIME\n",
       "0  2021-09-20 22:30\n",
       "1  2021-09-20 22:00"
      ]
     },
     "execution_count": 3,
     "metadata": {},
     "output_type": "execute_result"
    }
   ],
   "source": [
    "timestamps"
   ]
  },
  {
   "cell_type": "code",
   "execution_count": 4,
   "id": "alternate-victory",
   "metadata": {
    "execution": {
     "iopub.execute_input": "2021-09-20T20:30:11.770759Z",
     "iopub.status.busy": "2021-09-20T20:30:11.768878Z",
     "iopub.status.idle": "2021-09-20T20:30:12.270179Z",
     "shell.execute_reply": "2021-09-20T20:30:12.271457Z"
    },
    "papermill": {
     "duration": 0.53157,
     "end_time": "2021-09-20T20:30:12.271864",
     "exception": false,
     "start_time": "2021-09-20T20:30:11.740294",
     "status": "completed"
    },
    "tags": []
   },
   "outputs": [],
   "source": [
    "df = pd.read_sql(\"select * from EBAY_TOP_BERLIN where record_time in (select distinct record_time from EBAY_TOP_BERLIN order by record_time desc limit 2)\", sqlite3.connect(\"UsedObjects.db\"))"
   ]
  },
  {
   "cell_type": "code",
   "execution_count": 5,
   "id": "popular-active",
   "metadata": {
    "execution": {
     "iopub.execute_input": "2021-09-20T20:30:12.344849Z",
     "iopub.status.busy": "2021-09-20T20:30:12.342031Z",
     "iopub.status.idle": "2021-09-20T20:30:12.408410Z",
     "shell.execute_reply": "2021-09-20T20:30:12.407014Z"
    },
    "papermill": {
     "duration": 0.116459,
     "end_time": "2021-09-20T20:30:12.408760",
     "exception": false,
     "start_time": "2021-09-20T20:30:12.292301",
     "status": "completed"
    },
    "tags": []
   },
   "outputs": [],
   "source": [
    "df_pivot = df.pivot_table(index=\"PRODUCT\", columns = \"RECORD_TIME\", values = \"LISTING_COUNT\")"
   ]
  },
  {
   "cell_type": "code",
   "execution_count": 6,
   "id": "union-huntington",
   "metadata": {
    "execution": {
     "iopub.execute_input": "2021-09-20T20:30:12.467097Z",
     "iopub.status.busy": "2021-09-20T20:30:12.464810Z",
     "iopub.status.idle": "2021-09-20T20:30:12.470697Z",
     "shell.execute_reply": "2021-09-20T20:30:12.472143Z"
    },
    "papermill": {
     "duration": 0.041795,
     "end_time": "2021-09-20T20:30:12.472625",
     "exception": false,
     "start_time": "2021-09-20T20:30:12.430830",
     "status": "completed"
    },
    "tags": []
   },
   "outputs": [],
   "source": [
    "df_pivot.columns = [\"stamp_1\", \"stamp_2\"]\n",
    "df_pivot_diff = df_pivot.diff(axis=1)"
   ]
  },
  {
   "cell_type": "code",
   "execution_count": 7,
   "id": "fifth-motion",
   "metadata": {
    "execution": {
     "iopub.execute_input": "2021-09-20T20:30:12.524148Z",
     "iopub.status.busy": "2021-09-20T20:30:12.522168Z",
     "iopub.status.idle": "2021-09-20T20:30:14.472383Z",
     "shell.execute_reply": "2021-09-20T20:30:14.473895Z"
    },
    "papermill": {
     "duration": 1.981313,
     "end_time": "2021-09-20T20:30:14.474364",
     "exception": false,
     "start_time": "2021-09-20T20:30:12.493051",
     "status": "completed"
    },
    "tags": []
   },
   "outputs": [
    {
     "data": {
      "text/plain": [
       "<AxesSubplot:ylabel='PRODUCT'>"
      ]
     },
     "execution_count": 7,
     "metadata": {},
     "output_type": "execute_result"
    },
    {
     "data": {
      "image/png": "[encoded data removed]",
      "text/plain": [
       "<Figure size 432x288 with 1 Axes>"
      ]
     },
     "metadata": {
      "needs_background": "light"
     },
     "output_type": "display_data"
    }
   ],
   "source": [
    "df_pivot_diff.sort_values(\"stamp_2\", ascending = False)[\"stamp_2\"].head(10).plot.barh()"
   ]
  },
  {
   "cell_type": "code",
   "execution_count": null,
   "id": "extra-executive",
   "metadata": {
    "papermill": {
     "duration": 0.021863,
     "end_time": "2021-09-20T20:30:14.519656",
     "exception": false,
     "start_time": "2021-09-20T20:30:14.497793",
     "status": "completed"
    },
    "tags": []
   },
   "outputs": [],
   "source": []
  }
 ],
 "metadata": {
  "kernelspec": {
   "display_name": "Python 3",
   "language": "python",
   "name": "python3"
  },
  "language_info": {
   "codemirror_mode": {
    "name": "ipython",
    "version": 3
   },
   "file_extension": ".py",
   "mimetype": "text/x-python",
   "name": "python",
   "nbconvert_exporter": "python",
   "pygments_lexer": "ipython3",
   "version": "3.9.5"
  },
  "papermill": {
   "default_parameters": {},
   "duration": 9.066522,
   "end_time": "2021-09-20T20:30:15.163647",
   "environment_variables": {},
   "exception": null,
   "input_path": "eBay_Overview.ipynb",
   "output_path": "eBay_Overview.ipynb",
   "parameters": {},
   "start_time": "2021-09-20T20:30:06.097125",
   "version": "2.3.3"
  }
 },
 "nbformat": 4,
 "nbformat_minor": 5
}