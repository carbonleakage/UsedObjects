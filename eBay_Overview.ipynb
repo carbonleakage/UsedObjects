{
 "cells": [
  {
   "cell_type": "code",
   "execution_count": 1,
   "id": "reverse-picking",
   "metadata": {
    "execution": {
     "iopub.execute_input": "2021-12-21T04:00:07.255968Z",
     "iopub.status.busy": "2021-12-21T04:00:07.253017Z",
     "iopub.status.idle": "2021-12-21T04:00:08.203482Z",
     "shell.execute_reply": "2021-12-21T04:00:08.205083Z"
    },
    "papermill": {
     "duration": 1.000636,
     "end_time": "2021-12-21T04:00:08.205828",
     "exception": false,
     "start_time": "2021-12-21T04:00:07.205192",
     "status": "completed"
    },
    "tags": []
   },
   "outputs": [],
   "source": [
    "import pandas as pd\n",
    "import sqlite3"
   ]
  },
  {
   "cell_type": "code",
   "execution_count": 2,
   "id": "innovative-syndrome",
   "metadata": {
    "execution": {
     "iopub.execute_input": "2021-12-21T04:00:08.267674Z",
     "iopub.status.busy": "2021-12-21T04:00:08.265237Z",
     "iopub.status.idle": "2021-12-21T04:00:09.401461Z",
     "shell.execute_reply": "2021-12-21T04:00:09.402750Z"
    },
    "papermill": {
     "duration": 1.169798,
     "end_time": "2021-12-21T04:00:09.403152",
     "exception": false,
     "start_time": "2021-12-21T04:00:08.233354",
     "status": "completed"
    },
    "tags": []
   },
   "outputs": [],
   "source": [
    "timestamps = pd.read_sql(\"select distinct record_time from EBAY_TOP_BERLIN order by record_time desc limit 2\", sqlite3.connect(\"UsedObjects.db\"))"
   ]
  },
  {
   "cell_type": "code",
   "execution_count": 3,
   "id": "periodic-identification",
   "metadata": {
    "execution": {
     "iopub.execute_input": "2021-12-21T04:00:09.472169Z",
     "iopub.status.busy": "2021-12-21T04:00:09.469963Z",
     "iopub.status.idle": "2021-12-21T04:00:09.494180Z",
     "shell.execute_reply": "2021-12-21T04:00:09.495773Z"
    },
    "papermill": {
     "duration": 0.073254,
     "end_time": "2021-12-21T04:00:09.497157",
     "exception": false,
     "start_time": "2021-12-21T04:00:09.423903",
     "status": "completed"
    },
    "tags": []
   },
   "outputs": [
    {
     "data": {
      "text/html": [
       "<div>\n",
       "<style scoped>\n",
       "    .dataframe tbody tr th:only-of-type {\n",
       "        vertical-align: middle;\n",
       "    }\n",
       "\n",
       "    .dataframe tbody tr th {\n",
       "        vertical-align: top;\n",
       "    }\n",
       "\n",
       "    .dataframe thead th {\n",
       "        text-align: right;\n",
       "    }\n",
       "</style>\n",
       "<table border=\"1\" class=\"dataframe\">\n",
       "  <thead>\n",
       "    <tr style=\"text-align: right;\">\n",
       "      <th></th>\n",
       "      <th>RECORD_TIME</th>\n",
       "    </tr>\n",
       "  </thead>\n",
       "  <tbody>\n",
       "    <tr>\n",
       "      <th>0</th>\n",
       "      <td>2021-12-21 05:00</td>\n",
       "    </tr>\n",
       "    <tr>\n",
       "      <th>1</th>\n",
       "      <td>2021-12-21 04:30</td>\n",
       "    </tr>\n",
       "  </tbody>\n",
       "</table>\n",
       "</div>"
      ],
      "text/plain": [
       "        RECORD_TIME\n",
       "0  2021-12-21 05:00\n",
       "1  2021-12-21 04:30"
      ]
     },
     "execution_count": 3,
     "metadata": {},
     "output_type": "execute_result"
    }
   ],
   "source": [
    "timestamps"
   ]
  },
  {
   "cell_type": "code",
   "execution_count": 4,
   "id": "alternate-victory",
   "metadata": {
    "execution": {
     "iopub.execute_input": "2021-12-21T04:00:09.557122Z",
     "iopub.status.busy": "2021-12-21T04:00:09.554933Z",
     "iopub.status.idle": "2021-12-21T04:00:11.225473Z",
     "shell.execute_reply": "2021-12-21T04:00:11.226846Z"
    },
    "papermill": {
     "duration": 1.708426,
     "end_time": "2021-12-21T04:00:11.227325",
     "exception": false,
     "start_time": "2021-12-21T04:00:09.518899",
     "status": "completed"
    },
    "tags": []
   },
   "outputs": [],
   "source": [
    "df = pd.read_sql(\"select * from EBAY_TOP_BERLIN where record_time in (select distinct record_time from EBAY_TOP_BERLIN order by record_time desc limit 2)\", sqlite3.connect(\"UsedObjects.db\"))"
   ]
  },
  {
   "cell_type": "code",
   "execution_count": 5,
   "id": "popular-active",
   "metadata": {
    "execution": {
     "iopub.execute_input": "2021-12-21T04:00:11.292381Z",
     "iopub.status.busy": "2021-12-21T04:00:11.290020Z",
     "iopub.status.idle": "2021-12-21T04:00:11.324552Z",
     "shell.execute_reply": "2021-12-21T04:00:11.326401Z"
    },
    "papermill": {
     "duration": 0.078902,
     "end_time": "2021-12-21T04:00:11.326922",
     "exception": false,
     "start_time": "2021-12-21T04:00:11.248020",
     "status": "completed"
    },
    "tags": []
   },
   "outputs": [],
   "source": [
    "df_pivot = df.pivot_table(index=\"PRODUCT\", columns = \"RECORD_TIME\", values = \"LISTING_COUNT\")"
   ]
  },
  {
   "cell_type": "code",
   "execution_count": 6,
   "id": "union-huntington",
   "metadata": {
    "execution": {
     "iopub.execute_input": "2021-12-21T04:00:11.386915Z",
     "iopub.status.busy": "2021-12-21T04:00:11.384717Z",
     "iopub.status.idle": "2021-12-21T04:00:11.390636Z",
     "shell.execute_reply": "2021-12-21T04:00:11.391948Z"
    },
    "papermill": {
     "duration": 0.043564,
     "end_time": "2021-12-21T04:00:11.392412",
     "exception": false,
     "start_time": "2021-12-21T04:00:11.348848",
     "status": "completed"
    },
    "tags": []
   },
   "outputs": [],
   "source": [
    "df_pivot.columns = [\"stamp_1\", \"stamp_2\"]\n",
    "df_pivot_diff = df_pivot.diff(axis=1)"
   ]
  },
  {
   "cell_type": "code",
   "execution_count": 7,
   "id": "fifth-motion",
   "metadata": {
    "execution": {
     "iopub.execute_input": "2021-12-21T04:00:11.449837Z",
     "iopub.status.busy": "2021-12-21T04:00:11.447358Z",
     "iopub.status.idle": "2021-12-21T04:00:13.394935Z",
     "shell.execute_reply": "2021-12-21T04:00:13.396236Z"
    },
    "papermill": {
     "duration": 1.983899,
     "end_time": "2021-12-21T04:00:13.396656",
     "exception": false,
     "start_time": "2021-12-21T04:00:11.412757",
     "status": "completed"
    },
    "tags": []
   },
   "outputs": [
    {
     "data": {
      "text/plain": [
       "<AxesSubplot:ylabel='PRODUCT'>"
      ]
     },
     "execution_count": 7,
     "metadata": {},
     "output_type": "execute_result"
    },
    {
     "data": {
      "image/png": "[encoded data removed]",
      "text/plain": [
       "<Figure size 432x288 with 1 Axes>"
      ]
     },
     "metadata": {
      "needs_background": "light"
     },
     "output_type": "display_data"
    }
   ],
   "source": [
    "df_pivot_diff.sort_values(\"stamp_2\", ascending = False)[\"stamp_2\"].head(10).plot.barh()"
   ]
  },
  {
   "cell_type": "code",
   "execution_count": null,
   "id": "extra-executive",
   "metadata": {
    "papermill": {
     "duration": 0.022591,
     "end_time": "2021-12-21T04:00:13.443825",
     "exception": false,
     "start_time": "2021-12-21T04:00:13.421234",
     "status": "completed"
    },
    "tags": []
   },
   "outputs": [],
   "source": []
  }
 ],
 "metadata": {
  "kernelspec": {
   "display_name": "Python 3",
   "language": "python",
   "name": "python3"
  },
  "language_info": {
   "codemirror_mode": {
    "name": "ipython",
    "version": 3
   },
   "file_extension": ".py",
   "mimetype": "text/x-python",
   "name": "python",
   "nbconvert_exporter": "python",
   "pygments_lexer": "ipython3",
   "version": "3.9.5"
  },
  "papermill": {
   "default_parameters": {},
   "duration": 9.603374,
   "end_time": "2021-12-21T04:00:14.084649",
   "environment_variables": {},
   "exception": null,
   "input_path": "eBay_Overview.ipynb",
   "output_path": "eBay_Overview.ipynb",
   "parameters": {},
   "start_time": "2021-12-21T04:00:04.481275",
   "version": "2.3.3"
  }
 },
 "nbformat": 4,
 "nbformat_minor": 5
}