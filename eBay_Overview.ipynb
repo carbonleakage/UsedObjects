{
 "cells": [
  {
   "cell_type": "code",
   "execution_count": 1,
   "id": "reverse-picking",
   "metadata": {
    "execution": {
     "iopub.execute_input": "2021-10-15T12:00:06.727612Z",
     "iopub.status.busy": "2021-10-15T12:00:06.725647Z",
     "iopub.status.idle": "2021-10-15T12:00:07.536463Z",
     "shell.execute_reply": "2021-10-15T12:00:07.534908Z"
    },
    "papermill": {
     "duration": 0.860712,
     "end_time": "2021-10-15T12:00:07.537056",
     "exception": false,
     "start_time": "2021-10-15T12:00:06.676344",
     "status": "completed"
    },
    "tags": []
   },
   "outputs": [],
   "source": [
    "import pandas as pd\n",
    "import sqlite3"
   ]
  },
  {
   "cell_type": "code",
   "execution_count": 2,
   "id": "innovative-syndrome",
   "metadata": {
    "execution": {
     "iopub.execute_input": "2021-10-15T12:00:07.590558Z",
     "iopub.status.busy": "2021-10-15T12:00:07.588153Z",
     "iopub.status.idle": "2021-10-15T12:00:08.131041Z",
     "shell.execute_reply": "2021-10-15T12:00:08.132239Z"
    },
    "papermill": {
     "duration": 0.573106,
     "end_time": "2021-10-15T12:00:08.132637",
     "exception": false,
     "start_time": "2021-10-15T12:00:07.559531",
     "status": "completed"
    },
    "tags": []
   },
   "outputs": [],
   "source": [
    "timestamps = pd.read_sql(\"select distinct record_time from EBAY_TOP_BERLIN order by record_time desc limit 2\", sqlite3.connect(\"UsedObjects.db\"))"
   ]
  },
  {
   "cell_type": "code",
   "execution_count": 3,
   "id": "periodic-identification",
   "metadata": {
    "execution": {
     "iopub.execute_input": "2021-10-15T12:00:08.207880Z",
     "iopub.status.busy": "2021-10-15T12:00:08.205840Z",
     "iopub.status.idle": "2021-10-15T12:00:08.225994Z",
     "shell.execute_reply": "2021-10-15T12:00:08.227200Z"
    },
    "papermill": {
     "duration": 0.069853,
     "end_time": "2021-10-15T12:00:08.227633",
     "exception": false,
     "start_time": "2021-10-15T12:00:08.157780",
     "status": "completed"
    },
    "tags": []
   },
   "outputs": [
    {
     "data": {
      "text/html": [
       "<div>\n",
       "<style scoped>\n",
       "    .dataframe tbody tr th:only-of-type {\n",
       "        vertical-align: middle;\n",
       "    }\n",
       "\n",
       "    .dataframe tbody tr th {\n",
       "        vertical-align: top;\n",
       "    }\n",
       "\n",
       "    .dataframe thead th {\n",
       "        text-align: right;\n",
       "    }\n",
       "</style>\n",
       "<table border=\"1\" class=\"dataframe\">\n",
       "  <thead>\n",
       "    <tr style=\"text-align: right;\">\n",
       "      <th></th>\n",
       "      <th>RECORD_TIME</th>\n",
       "    </tr>\n",
       "  </thead>\n",
       "  <tbody>\n",
       "    <tr>\n",
       "      <th>0</th>\n",
       "      <td>2021-10-15 14:00</td>\n",
       "    </tr>\n",
       "    <tr>\n",
       "      <th>1</th>\n",
       "      <td>2021-10-15 13:30</td>\n",
       "    </tr>\n",
       "  </tbody>\n",
       "</table>\n",
       "</div>"
      ],
      "text/plain": [
       "        RECORD_TIME\n",
       "0  2021-10-15 14:00\n",
       "1  2021-10-15 13:30"
      ]
     },
     "execution_count": 3,
     "metadata": {},
     "output_type": "execute_result"
    }
   ],
   "source": [
    "timestamps"
   ]
  },
  {
   "cell_type": "code",
   "execution_count": 4,
   "id": "alternate-victory",
   "metadata": {
    "execution": {
     "iopub.execute_input": "2021-10-15T12:00:08.281734Z",
     "iopub.status.busy": "2021-10-15T12:00:08.279361Z",
     "iopub.status.idle": "2021-10-15T12:00:09.057974Z",
     "shell.execute_reply": "2021-10-15T12:00:09.059409Z"
    },
    "papermill": {
     "duration": 0.809283,
     "end_time": "2021-10-15T12:00:09.059854",
     "exception": false,
     "start_time": "2021-10-15T12:00:08.250571",
     "status": "completed"
    },
    "tags": []
   },
   "outputs": [],
   "source": [
    "df = pd.read_sql(\"select * from EBAY_TOP_BERLIN where record_time in (select distinct record_time from EBAY_TOP_BERLIN order by record_time desc limit 2)\", sqlite3.connect(\"UsedObjects.db\"))"
   ]
  },
  {
   "cell_type": "code",
   "execution_count": 5,
   "id": "popular-active",
   "metadata": {
    "execution": {
     "iopub.execute_input": "2021-10-15T12:00:09.130799Z",
     "iopub.status.busy": "2021-10-15T12:00:09.118748Z",
     "iopub.status.idle": "2021-10-15T12:00:09.146360Z",
     "shell.execute_reply": "2021-10-15T12:00:09.147577Z"
    },
    "papermill": {
     "duration": 0.066909,
     "end_time": "2021-10-15T12:00:09.147981",
     "exception": false,
     "start_time": "2021-10-15T12:00:09.081072",
     "status": "completed"
    },
    "tags": []
   },
   "outputs": [],
   "source": [
    "df_pivot = df.pivot_table(index=\"PRODUCT\", columns = \"RECORD_TIME\", values = \"LISTING_COUNT\")"
   ]
  },
  {
   "cell_type": "code",
   "execution_count": 6,
   "id": "union-huntington",
   "metadata": {
    "execution": {
     "iopub.execute_input": "2021-10-15T12:00:09.207376Z",
     "iopub.status.busy": "2021-10-15T12:00:09.204935Z",
     "iopub.status.idle": "2021-10-15T12:00:09.210884Z",
     "shell.execute_reply": "2021-10-15T12:00:09.212161Z"
    },
    "papermill": {
     "duration": 0.042165,
     "end_time": "2021-10-15T12:00:09.212580",
     "exception": false,
     "start_time": "2021-10-15T12:00:09.170415",
     "status": "completed"
    },
    "tags": []
   },
   "outputs": [],
   "source": [
    "df_pivot.columns = [\"stamp_1\", \"stamp_2\"]\n",
    "df_pivot_diff = df_pivot.diff(axis=1)"
   ]
  },
  {
   "cell_type": "code",
   "execution_count": 7,
   "id": "fifth-motion",
   "metadata": {
    "execution": {
     "iopub.execute_input": "2021-10-15T12:00:09.267244Z",
     "iopub.status.busy": "2021-10-15T12:00:09.264833Z",
     "iopub.status.idle": "2021-10-15T12:00:10.766208Z",
     "shell.execute_reply": "2021-10-15T12:00:10.767846Z"
    },
    "papermill": {
     "duration": 1.535554,
     "end_time": "2021-10-15T12:00:10.768346",
     "exception": false,
     "start_time": "2021-10-15T12:00:09.232792",
     "status": "completed"
    },
    "tags": []
   },
   "outputs": [
    {
     "data": {
      "text/plain": [
       "<AxesSubplot:ylabel='PRODUCT'>"
      ]
     },
     "execution_count": 7,
     "metadata": {},
     "output_type": "execute_result"
    },
    {
     "data": {
      "image/png": "[encoded data removed]",
      "text/plain": [
       "<Figure size 432x288 with 1 Axes>"
      ]
     },
     "metadata": {
      "needs_background": "light"
     },
     "output_type": "display_data"
    }
   ],
   "source": [
    "df_pivot_diff.sort_values(\"stamp_2\", ascending = False)[\"stamp_2\"].head(10).plot.barh()"
   ]
  },
  {
   "cell_type": "code",
   "execution_count": null,
   "id": "extra-executive",
   "metadata": {
    "papermill": {
     "duration": 0.022487,
     "end_time": "2021-10-15T12:00:10.816443",
     "exception": false,
     "start_time": "2021-10-15T12:00:10.793956",
     "status": "completed"
    },
    "tags": []
   },
   "outputs": [],
   "source": []
  }
 ],
 "metadata": {
  "kernelspec": {
   "display_name": "Python 3",
   "language": "python",
   "name": "python3"
  },
  "language_info": {
   "codemirror_mode": {
    "name": "ipython",
    "version": 3
   },
   "file_extension": ".py",
   "mimetype": "text/x-python",
   "name": "python",
   "nbconvert_exporter": "python",
   "pygments_lexer": "ipython3",
   "version": "3.9.5"
  },
  "papermill": {
   "default_parameters": {},
   "duration": 7.821356,
   "end_time": "2021-10-15T12:00:12.084219",
   "environment_variables": {},
   "exception": null,
   "input_path": "eBay_Overview.ipynb",
   "output_path": "eBay_Overview.ipynb",
   "parameters": {},
   "start_time": "2021-10-15T12:00:04.262863",
   "version": "2.3.3"
  }
 },
 "nbformat": 4,
 "nbformat_minor": 5
}