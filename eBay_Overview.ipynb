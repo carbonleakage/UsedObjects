{
 "cells": [
  {
   "cell_type": "code",
   "execution_count": 1,
   "id": "reverse-picking",
   "metadata": {
    "execution": {
     "iopub.execute_input": "2021-10-19T17:00:07.282500Z",
     "iopub.status.busy": "2021-10-19T17:00:07.280476Z",
     "iopub.status.idle": "2021-10-19T17:00:08.083860Z",
     "shell.execute_reply": "2021-10-19T17:00:08.085294Z"
    },
    "papermill": {
     "duration": 0.853832,
     "end_time": "2021-10-19T17:00:08.085954",
     "exception": false,
     "start_time": "2021-10-19T17:00:07.232122",
     "status": "completed"
    },
    "tags": []
   },
   "outputs": [],
   "source": [
    "import pandas as pd\n",
    "import sqlite3"
   ]
  },
  {
   "cell_type": "code",
   "execution_count": 2,
   "id": "innovative-syndrome",
   "metadata": {
    "execution": {
     "iopub.execute_input": "2021-10-19T17:00:08.137161Z",
     "iopub.status.busy": "2021-10-19T17:00:08.134896Z",
     "iopub.status.idle": "2021-10-19T17:00:08.719143Z",
     "shell.execute_reply": "2021-10-19T17:00:08.720365Z"
    },
    "papermill": {
     "duration": 0.614433,
     "end_time": "2021-10-19T17:00:08.720946",
     "exception": false,
     "start_time": "2021-10-19T17:00:08.106513",
     "status": "completed"
    },
    "tags": []
   },
   "outputs": [],
   "source": [
    "timestamps = pd.read_sql(\"select distinct record_time from EBAY_TOP_BERLIN order by record_time desc limit 2\", sqlite3.connect(\"UsedObjects.db\"))"
   ]
  },
  {
   "cell_type": "code",
   "execution_count": 3,
   "id": "periodic-identification",
   "metadata": {
    "execution": {
     "iopub.execute_input": "2021-10-19T17:00:08.807958Z",
     "iopub.status.busy": "2021-10-19T17:00:08.805918Z",
     "iopub.status.idle": "2021-10-19T17:00:08.825600Z",
     "shell.execute_reply": "2021-10-19T17:00:08.826883Z"
    },
    "papermill": {
     "duration": 0.069441,
     "end_time": "2021-10-19T17:00:08.827278",
     "exception": false,
     "start_time": "2021-10-19T17:00:08.757837",
     "status": "completed"
    },
    "tags": []
   },
   "outputs": [
    {
     "data": {
      "text/html": [
       "<div>\n",
       "<style scoped>\n",
       "    .dataframe tbody tr th:only-of-type {\n",
       "        vertical-align: middle;\n",
       "    }\n",
       "\n",
       "    .dataframe tbody tr th {\n",
       "        vertical-align: top;\n",
       "    }\n",
       "\n",
       "    .dataframe thead th {\n",
       "        text-align: right;\n",
       "    }\n",
       "</style>\n",
       "<table border=\"1\" class=\"dataframe\">\n",
       "  <thead>\n",
       "    <tr style=\"text-align: right;\">\n",
       "      <th></th>\n",
       "      <th>RECORD_TIME</th>\n",
       "    </tr>\n",
       "  </thead>\n",
       "  <tbody>\n",
       "    <tr>\n",
       "      <th>0</th>\n",
       "      <td>2021-10-19 19:00</td>\n",
       "    </tr>\n",
       "    <tr>\n",
       "      <th>1</th>\n",
       "      <td>2021-10-19 18:30</td>\n",
       "    </tr>\n",
       "  </tbody>\n",
       "</table>\n",
       "</div>"
      ],
      "text/plain": [
       "        RECORD_TIME\n",
       "0  2021-10-19 19:00\n",
       "1  2021-10-19 18:30"
      ]
     },
     "execution_count": 3,
     "metadata": {},
     "output_type": "execute_result"
    }
   ],
   "source": [
    "timestamps"
   ]
  },
  {
   "cell_type": "code",
   "execution_count": 4,
   "id": "alternate-victory",
   "metadata": {
    "execution": {
     "iopub.execute_input": "2021-10-19T17:00:08.878172Z",
     "iopub.status.busy": "2021-10-19T17:00:08.876222Z",
     "iopub.status.idle": "2021-10-19T17:00:09.733066Z",
     "shell.execute_reply": "2021-10-19T17:00:09.734447Z"
    },
    "papermill": {
     "duration": 0.886829,
     "end_time": "2021-10-19T17:00:09.734857",
     "exception": false,
     "start_time": "2021-10-19T17:00:08.848028",
     "status": "completed"
    },
    "tags": []
   },
   "outputs": [],
   "source": [
    "df = pd.read_sql(\"select * from EBAY_TOP_BERLIN where record_time in (select distinct record_time from EBAY_TOP_BERLIN order by record_time desc limit 2)\", sqlite3.connect(\"UsedObjects.db\"))"
   ]
  },
  {
   "cell_type": "code",
   "execution_count": 5,
   "id": "popular-active",
   "metadata": {
    "execution": {
     "iopub.execute_input": "2021-10-19T17:00:09.803828Z",
     "iopub.status.busy": "2021-10-19T17:00:09.791930Z",
     "iopub.status.idle": "2021-10-19T17:00:09.823144Z",
     "shell.execute_reply": "2021-10-19T17:00:09.821630Z"
    },
    "papermill": {
     "duration": 0.068166,
     "end_time": "2021-10-19T17:00:09.823522",
     "exception": false,
     "start_time": "2021-10-19T17:00:09.755356",
     "status": "completed"
    },
    "tags": []
   },
   "outputs": [],
   "source": [
    "df_pivot = df.pivot_table(index=\"PRODUCT\", columns = \"RECORD_TIME\", values = \"LISTING_COUNT\")"
   ]
  },
  {
   "cell_type": "code",
   "execution_count": 6,
   "id": "union-huntington",
   "metadata": {
    "execution": {
     "iopub.execute_input": "2021-10-19T17:00:09.880947Z",
     "iopub.status.busy": "2021-10-19T17:00:09.878449Z",
     "iopub.status.idle": "2021-10-19T17:00:09.884020Z",
     "shell.execute_reply": "2021-10-19T17:00:09.885503Z"
    },
    "papermill": {
     "duration": 0.042146,
     "end_time": "2021-10-19T17:00:09.885926",
     "exception": false,
     "start_time": "2021-10-19T17:00:09.843780",
     "status": "completed"
    },
    "tags": []
   },
   "outputs": [],
   "source": [
    "df_pivot.columns = [\"stamp_1\", \"stamp_2\"]\n",
    "df_pivot_diff = df_pivot.diff(axis=1)"
   ]
  },
  {
   "cell_type": "code",
   "execution_count": 7,
   "id": "fifth-motion",
   "metadata": {
    "execution": {
     "iopub.execute_input": "2021-10-19T17:00:09.940129Z",
     "iopub.status.busy": "2021-10-19T17:00:09.937890Z",
     "iopub.status.idle": "2021-10-19T17:00:11.412894Z",
     "shell.execute_reply": "2021-10-19T17:00:11.414106Z"
    },
    "papermill": {
     "duration": 1.507967,
     "end_time": "2021-10-19T17:00:11.414534",
     "exception": false,
     "start_time": "2021-10-19T17:00:09.906567",
     "status": "completed"
    },
    "tags": []
   },
   "outputs": [
    {
     "data": {
      "text/plain": [
       "<AxesSubplot:ylabel='PRODUCT'>"
      ]
     },
     "execution_count": 7,
     "metadata": {},
     "output_type": "execute_result"
    },
    {
     "data": {
      "image/png": "[encoded data removed]",
      "text/plain": [
       "<Figure size 432x288 with 1 Axes>"
      ]
     },
     "metadata": {
      "needs_background": "light"
     },
     "output_type": "display_data"
    }
   ],
   "source": [
    "df_pivot_diff.sort_values(\"stamp_2\", ascending = False)[\"stamp_2\"].head(10).plot.barh()"
   ]
  },
  {
   "cell_type": "code",
   "execution_count": null,
   "id": "extra-executive",
   "metadata": {
    "papermill": {
     "duration": 0.022007,
     "end_time": "2021-10-19T17:00:11.460079",
     "exception": false,
     "start_time": "2021-10-19T17:00:11.438072",
     "status": "completed"
    },
    "tags": []
   },
   "outputs": [],
   "source": []
  }
 ],
 "metadata": {
  "kernelspec": {
   "display_name": "Python 3",
   "language": "python",
   "name": "python3"
  },
  "language_info": {
   "codemirror_mode": {
    "name": "ipython",
    "version": 3
   },
   "file_extension": ".py",
   "mimetype": "text/x-python",
   "name": "python",
   "nbconvert_exporter": "python",
   "pygments_lexer": "ipython3",
   "version": "3.9.5"
  },
  "papermill": {
   "default_parameters": {},
   "duration": 7.820375,
   "end_time": "2021-10-19T17:00:12.658150",
   "environment_variables": {},
   "exception": null,
   "input_path": "eBay_Overview.ipynb",
   "output_path": "eBay_Overview.ipynb",
   "parameters": {},
   "start_time": "2021-10-19T17:00:04.837775",
   "version": "2.3.3"
  }
 },
 "nbformat": 4,
 "nbformat_minor": 5
}