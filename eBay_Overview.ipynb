{
 "cells": [
  {
   "cell_type": "code",
   "execution_count": 1,
   "id": "reverse-picking",
   "metadata": {
    "execution": {
     "iopub.execute_input": "2021-09-01T11:30:06.607163Z",
     "iopub.status.busy": "2021-09-01T11:30:06.605198Z",
     "iopub.status.idle": "2021-09-01T11:30:07.405719Z",
     "shell.execute_reply": "2021-09-01T11:30:07.407168Z"
    },
    "papermill": {
     "duration": 0.851982,
     "end_time": "2021-09-01T11:30:07.407815",
     "exception": false,
     "start_time": "2021-09-01T11:30:06.555833",
     "status": "completed"
    },
    "tags": []
   },
   "outputs": [],
   "source": [
    "import pandas as pd\n",
    "import sqlite3"
   ]
  },
  {
   "cell_type": "code",
   "execution_count": 2,
   "id": "innovative-syndrome",
   "metadata": {
    "execution": {
     "iopub.execute_input": "2021-09-01T11:30:07.460477Z",
     "iopub.status.busy": "2021-09-01T11:30:07.458090Z",
     "iopub.status.idle": "2021-09-01T11:30:07.644604Z",
     "shell.execute_reply": "2021-09-01T11:30:07.645814Z"
    },
    "papermill": {
     "duration": 0.216332,
     "end_time": "2021-09-01T11:30:07.646216",
     "exception": false,
     "start_time": "2021-09-01T11:30:07.429884",
     "status": "completed"
    },
    "tags": []
   },
   "outputs": [],
   "source": [
    "timestamps = pd.read_sql(\"select distinct record_time from EBAY_TOP_BERLIN order by record_time desc limit 2\", sqlite3.connect(\"UsedObjects.db\"))"
   ]
  },
  {
   "cell_type": "code",
   "execution_count": 3,
   "id": "periodic-identification",
   "metadata": {
    "execution": {
     "iopub.execute_input": "2021-09-01T11:30:07.713322Z",
     "iopub.status.busy": "2021-09-01T11:30:07.708220Z",
     "iopub.status.idle": "2021-09-01T11:30:07.728784Z",
     "shell.execute_reply": "2021-09-01T11:30:07.730151Z"
    },
    "papermill": {
     "duration": 0.065148,
     "end_time": "2021-09-01T11:30:07.730591",
     "exception": false,
     "start_time": "2021-09-01T11:30:07.665443",
     "status": "completed"
    },
    "tags": []
   },
   "outputs": [
    {
     "data": {
      "text/html": [
       "<div>\n",
       "<style scoped>\n",
       "    .dataframe tbody tr th:only-of-type {\n",
       "        vertical-align: middle;\n",
       "    }\n",
       "\n",
       "    .dataframe tbody tr th {\n",
       "        vertical-align: top;\n",
       "    }\n",
       "\n",
       "    .dataframe thead th {\n",
       "        text-align: right;\n",
       "    }\n",
       "</style>\n",
       "<table border=\"1\" class=\"dataframe\">\n",
       "  <thead>\n",
       "    <tr style=\"text-align: right;\">\n",
       "      <th></th>\n",
       "      <th>RECORD_TIME</th>\n",
       "    </tr>\n",
       "  </thead>\n",
       "  <tbody>\n",
       "    <tr>\n",
       "      <th>0</th>\n",
       "      <td>2021-09-01 13:30</td>\n",
       "    </tr>\n",
       "    <tr>\n",
       "      <th>1</th>\n",
       "      <td>2021-09-01 13:00</td>\n",
       "    </tr>\n",
       "  </tbody>\n",
       "</table>\n",
       "</div>"
      ],
      "text/plain": [
       "        RECORD_TIME\n",
       "0  2021-09-01 13:30\n",
       "1  2021-09-01 13:00"
      ]
     },
     "execution_count": 3,
     "metadata": {},
     "output_type": "execute_result"
    }
   ],
   "source": [
    "timestamps"
   ]
  },
  {
   "cell_type": "code",
   "execution_count": 4,
   "id": "alternate-victory",
   "metadata": {
    "execution": {
     "iopub.execute_input": "2021-09-01T11:30:07.782692Z",
     "iopub.status.busy": "2021-09-01T11:30:07.780395Z",
     "iopub.status.idle": "2021-09-01T11:30:08.049268Z",
     "shell.execute_reply": "2021-09-01T11:30:08.050496Z"
    },
    "papermill": {
     "duration": 0.299346,
     "end_time": "2021-09-01T11:30:08.050946",
     "exception": false,
     "start_time": "2021-09-01T11:30:07.751600",
     "status": "completed"
    },
    "tags": []
   },
   "outputs": [],
   "source": [
    "df = pd.read_sql(\"select * from EBAY_TOP_BERLIN where record_time in (select distinct record_time from EBAY_TOP_BERLIN order by record_time desc limit 2)\", sqlite3.connect(\"UsedObjects.db\"))"
   ]
  },
  {
   "cell_type": "code",
   "execution_count": 5,
   "id": "popular-active",
   "metadata": {
    "execution": {
     "iopub.execute_input": "2021-09-01T11:30:08.132454Z",
     "iopub.status.busy": "2021-09-01T11:30:08.120722Z",
     "iopub.status.idle": "2021-09-01T11:30:08.148895Z",
     "shell.execute_reply": "2021-09-01T11:30:08.150304Z"
    },
    "papermill": {
     "duration": 0.07257,
     "end_time": "2021-09-01T11:30:08.150749",
     "exception": false,
     "start_time": "2021-09-01T11:30:08.078179",
     "status": "completed"
    },
    "tags": []
   },
   "outputs": [],
   "source": [
    "df_pivot = df.pivot_table(index=\"PRODUCT\", columns = \"RECORD_TIME\", values = \"LISTING_COUNT\")"
   ]
  },
  {
   "cell_type": "code",
   "execution_count": 6,
   "id": "union-huntington",
   "metadata": {
    "execution": {
     "iopub.execute_input": "2021-09-01T11:30:08.206516Z",
     "iopub.status.busy": "2021-09-01T11:30:08.204214Z",
     "iopub.status.idle": "2021-09-01T11:30:08.209760Z",
     "shell.execute_reply": "2021-09-01T11:30:08.211101Z"
    },
    "papermill": {
     "duration": 0.041409,
     "end_time": "2021-09-01T11:30:08.211521",
     "exception": false,
     "start_time": "2021-09-01T11:30:08.170112",
     "status": "completed"
    },
    "tags": []
   },
   "outputs": [],
   "source": [
    "df_pivot.columns = [\"stamp_1\", \"stamp_2\"]\n",
    "df_pivot_diff = df_pivot.diff(axis=1)"
   ]
  },
  {
   "cell_type": "code",
   "execution_count": 7,
   "id": "fifth-motion",
   "metadata": {
    "execution": {
     "iopub.execute_input": "2021-09-01T11:30:08.266020Z",
     "iopub.status.busy": "2021-09-01T11:30:08.263655Z",
     "iopub.status.idle": "2021-09-01T11:30:09.745730Z",
     "shell.execute_reply": "2021-09-01T11:30:09.746978Z"
    },
    "papermill": {
     "duration": 1.515556,
     "end_time": "2021-09-01T11:30:09.747418",
     "exception": false,
     "start_time": "2021-09-01T11:30:08.231862",
     "status": "completed"
    },
    "tags": []
   },
   "outputs": [
    {
     "data": {
      "text/plain": [
       "<AxesSubplot:ylabel='PRODUCT'>"
      ]
     },
     "execution_count": 7,
     "metadata": {},
     "output_type": "execute_result"
    },
    {
     "data": {
      "image/png": "[encoded data removed]",
      "text/plain": [
       "<Figure size 432x288 with 1 Axes>"
      ]
     },
     "metadata": {
      "needs_background": "light"
     },
     "output_type": "display_data"
    }
   ],
   "source": [
    "df_pivot_diff.sort_values(\"stamp_2\", ascending = False)[\"stamp_2\"].head(10).plot.barh()"
   ]
  },
  {
   "cell_type": "code",
   "execution_count": null,
   "id": "extra-executive",
   "metadata": {
    "papermill": {
     "duration": 0.021962,
     "end_time": "2021-09-01T11:30:09.794078",
     "exception": false,
     "start_time": "2021-09-01T11:30:09.772116",
     "status": "completed"
    },
    "tags": []
   },
   "outputs": [],
   "source": []
  }
 ],
 "metadata": {
  "kernelspec": {
   "display_name": "Python 3",
   "language": "python",
   "name": "python3"
  },
  "language_info": {
   "codemirror_mode": {
    "name": "ipython",
    "version": 3
   },
   "file_extension": ".py",
   "mimetype": "text/x-python",
   "name": "python",
   "nbconvert_exporter": "python",
   "pygments_lexer": "ipython3",
   "version": "3.9.5"
  },
  "papermill": {
   "default_parameters": {},
   "duration": 6.819556,
   "end_time": "2021-09-01T11:30:10.971551",
   "environment_variables": {},
   "exception": null,
   "input_path": "eBay_Overview.ipynb",
   "output_path": "eBay_Overview.ipynb",
   "parameters": {},
   "start_time": "2021-09-01T11:30:04.151995",
   "version": "2.3.3"
  }
 },
 "nbformat": 4,
 "nbformat_minor": 5
}