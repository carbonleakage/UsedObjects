{
 "cells": [
  {
   "cell_type": "code",
   "execution_count": 1,
   "id": "reverse-picking",
   "metadata": {
    "execution": {
     "iopub.execute_input": "2021-09-15T03:00:07.274647Z",
     "iopub.status.busy": "2021-09-15T03:00:07.272701Z",
     "iopub.status.idle": "2021-09-15T03:00:08.077991Z",
     "shell.execute_reply": "2021-09-15T03:00:08.079348Z"
    },
    "papermill": {
     "duration": 0.857395,
     "end_time": "2021-09-15T03:00:08.079995",
     "exception": false,
     "start_time": "2021-09-15T03:00:07.222600",
     "status": "completed"
    },
    "tags": []
   },
   "outputs": [],
   "source": [
    "import pandas as pd\n",
    "import sqlite3"
   ]
  },
  {
   "cell_type": "code",
   "execution_count": 2,
   "id": "innovative-syndrome",
   "metadata": {
    "execution": {
     "iopub.execute_input": "2021-09-15T03:00:08.132502Z",
     "iopub.status.busy": "2021-09-15T03:00:08.130297Z",
     "iopub.status.idle": "2021-09-15T03:00:08.440519Z",
     "shell.execute_reply": "2021-09-15T03:00:08.441721Z"
    },
    "papermill": {
     "duration": 0.339749,
     "end_time": "2021-09-15T03:00:08.442115",
     "exception": false,
     "start_time": "2021-09-15T03:00:08.102366",
     "status": "completed"
    },
    "tags": []
   },
   "outputs": [],
   "source": [
    "timestamps = pd.read_sql(\"select distinct record_time from EBAY_TOP_BERLIN order by record_time desc limit 2\", sqlite3.connect(\"UsedObjects.db\"))"
   ]
  },
  {
   "cell_type": "code",
   "execution_count": 3,
   "id": "periodic-identification",
   "metadata": {
    "execution": {
     "iopub.execute_input": "2021-09-15T03:00:08.510075Z",
     "iopub.status.busy": "2021-09-15T03:00:08.508045Z",
     "iopub.status.idle": "2021-09-15T03:00:08.527886Z",
     "shell.execute_reply": "2021-09-15T03:00:08.529512Z"
    },
    "papermill": {
     "duration": 0.066242,
     "end_time": "2021-09-15T03:00:08.530058",
     "exception": false,
     "start_time": "2021-09-15T03:00:08.463816",
     "status": "completed"
    },
    "tags": []
   },
   "outputs": [
    {
     "data": {
      "text/html": [
       "<div>\n",
       "<style scoped>\n",
       "    .dataframe tbody tr th:only-of-type {\n",
       "        vertical-align: middle;\n",
       "    }\n",
       "\n",
       "    .dataframe tbody tr th {\n",
       "        vertical-align: top;\n",
       "    }\n",
       "\n",
       "    .dataframe thead th {\n",
       "        text-align: right;\n",
       "    }\n",
       "</style>\n",
       "<table border=\"1\" class=\"dataframe\">\n",
       "  <thead>\n",
       "    <tr style=\"text-align: right;\">\n",
       "      <th></th>\n",
       "      <th>RECORD_TIME</th>\n",
       "    </tr>\n",
       "  </thead>\n",
       "  <tbody>\n",
       "    <tr>\n",
       "      <th>0</th>\n",
       "      <td>2021-09-15 05:00</td>\n",
       "    </tr>\n",
       "    <tr>\n",
       "      <th>1</th>\n",
       "      <td>2021-09-15 04:30</td>\n",
       "    </tr>\n",
       "  </tbody>\n",
       "</table>\n",
       "</div>"
      ],
      "text/plain": [
       "        RECORD_TIME\n",
       "0  2021-09-15 05:00\n",
       "1  2021-09-15 04:30"
      ]
     },
     "execution_count": 3,
     "metadata": {},
     "output_type": "execute_result"
    }
   ],
   "source": [
    "timestamps"
   ]
  },
  {
   "cell_type": "code",
   "execution_count": 4,
   "id": "alternate-victory",
   "metadata": {
    "execution": {
     "iopub.execute_input": "2021-09-15T03:00:08.583086Z",
     "iopub.status.busy": "2021-09-15T03:00:08.581086Z",
     "iopub.status.idle": "2021-09-15T03:00:09.044082Z",
     "shell.execute_reply": "2021-09-15T03:00:09.045497Z"
    },
    "papermill": {
     "duration": 0.493298,
     "end_time": "2021-09-15T03:00:09.045929",
     "exception": false,
     "start_time": "2021-09-15T03:00:08.552631",
     "status": "completed"
    },
    "tags": []
   },
   "outputs": [],
   "source": [
    "df = pd.read_sql(\"select * from EBAY_TOP_BERLIN where record_time in (select distinct record_time from EBAY_TOP_BERLIN order by record_time desc limit 2)\", sqlite3.connect(\"UsedObjects.db\"))"
   ]
  },
  {
   "cell_type": "code",
   "execution_count": 5,
   "id": "popular-active",
   "metadata": {
    "execution": {
     "iopub.execute_input": "2021-09-15T03:00:09.127798Z",
     "iopub.status.busy": "2021-09-15T03:00:09.115140Z",
     "iopub.status.idle": "2021-09-15T03:00:09.144067Z",
     "shell.execute_reply": "2021-09-15T03:00:09.145455Z"
    },
    "papermill": {
     "duration": 0.073342,
     "end_time": "2021-09-15T03:00:09.145889",
     "exception": false,
     "start_time": "2021-09-15T03:00:09.072547",
     "status": "completed"
    },
    "tags": []
   },
   "outputs": [],
   "source": [
    "df_pivot = df.pivot_table(index=\"PRODUCT\", columns = \"RECORD_TIME\", values = \"LISTING_COUNT\")"
   ]
  },
  {
   "cell_type": "code",
   "execution_count": 6,
   "id": "union-huntington",
   "metadata": {
    "execution": {
     "iopub.execute_input": "2021-09-15T03:00:09.204691Z",
     "iopub.status.busy": "2021-09-15T03:00:09.202210Z",
     "iopub.status.idle": "2021-09-15T03:00:09.208074Z",
     "shell.execute_reply": "2021-09-15T03:00:09.209354Z"
    },
    "papermill": {
     "duration": 0.042227,
     "end_time": "2021-09-15T03:00:09.209767",
     "exception": false,
     "start_time": "2021-09-15T03:00:09.167540",
     "status": "completed"
    },
    "tags": []
   },
   "outputs": [],
   "source": [
    "df_pivot.columns = [\"stamp_1\", \"stamp_2\"]\n",
    "df_pivot_diff = df_pivot.diff(axis=1)"
   ]
  },
  {
   "cell_type": "code",
   "execution_count": 7,
   "id": "fifth-motion",
   "metadata": {
    "execution": {
     "iopub.execute_input": "2021-09-15T03:00:09.263365Z",
     "iopub.status.busy": "2021-09-15T03:00:09.261002Z",
     "iopub.status.idle": "2021-09-15T03:00:10.764438Z",
     "shell.execute_reply": "2021-09-15T03:00:10.765715Z"
    },
    "papermill": {
     "duration": 1.535941,
     "end_time": "2021-09-15T03:00:10.766130",
     "exception": false,
     "start_time": "2021-09-15T03:00:09.230189",
     "status": "completed"
    },
    "tags": []
   },
   "outputs": [
    {
     "data": {
      "text/plain": [
       "<AxesSubplot:ylabel='PRODUCT'>"
      ]
     },
     "execution_count": 7,
     "metadata": {},
     "output_type": "execute_result"
    },
    {
     "data": {
      "image/png": "[encoded data removed]",
      "text/plain": [
       "<Figure size 432x288 with 1 Axes>"
      ]
     },
     "metadata": {
      "needs_background": "light"
     },
     "output_type": "display_data"
    }
   ],
   "source": [
    "df_pivot_diff.sort_values(\"stamp_2\", ascending = False)[\"stamp_2\"].head(10).plot.barh()"
   ]
  },
  {
   "cell_type": "code",
   "execution_count": null,
   "id": "extra-executive",
   "metadata": {
    "papermill": {
     "duration": 0.021976,
     "end_time": "2021-09-15T03:00:10.814071",
     "exception": false,
     "start_time": "2021-09-15T03:00:10.792095",
     "status": "completed"
    },
    "tags": []
   },
   "outputs": [],
   "source": []
  }
 ],
 "metadata": {
  "kernelspec": {
   "display_name": "Python 3",
   "language": "python",
   "name": "python3"
  },
  "language_info": {
   "codemirror_mode": {
    "name": "ipython",
    "version": 3
   },
   "file_extension": ".py",
   "mimetype": "text/x-python",
   "name": "python",
   "nbconvert_exporter": "python",
   "pygments_lexer": "ipython3",
   "version": "3.9.5"
  },
  "papermill": {
   "default_parameters": {},
   "duration": 6.641928,
   "end_time": "2021-09-15T03:00:11.456915",
   "environment_variables": {},
   "exception": null,
   "input_path": "eBay_Overview.ipynb",
   "output_path": "eBay_Overview.ipynb",
   "parameters": {},
   "start_time": "2021-09-15T03:00:04.814987",
   "version": "2.3.3"
  }
 },
 "nbformat": 4,
 "nbformat_minor": 5
}