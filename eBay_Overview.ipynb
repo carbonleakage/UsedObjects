{
 "cells": [
  {
   "cell_type": "code",
   "execution_count": 1,
   "id": "reverse-picking",
   "metadata": {
    "execution": {
     "iopub.execute_input": "2021-08-23T09:30:06.675780Z",
     "iopub.status.busy": "2021-08-23T09:30:06.673761Z",
     "iopub.status.idle": "2021-08-23T09:30:07.482043Z",
     "shell.execute_reply": "2021-08-23T09:30:07.483352Z"
    },
    "papermill": {
     "duration": 0.860789,
     "end_time": "2021-08-23T09:30:07.483973",
     "exception": false,
     "start_time": "2021-08-23T09:30:06.623184",
     "status": "completed"
    },
    "tags": []
   },
   "outputs": [],
   "source": [
    "import pandas as pd\n",
    "import sqlite3"
   ]
  },
  {
   "cell_type": "code",
   "execution_count": 2,
   "id": "innovative-syndrome",
   "metadata": {
    "execution": {
     "iopub.execute_input": "2021-08-23T09:30:07.537599Z",
     "iopub.status.busy": "2021-08-23T09:30:07.535291Z",
     "iopub.status.idle": "2021-08-23T09:30:07.647110Z",
     "shell.execute_reply": "2021-08-23T09:30:07.648316Z"
    },
    "papermill": {
     "duration": 0.141713,
     "end_time": "2021-08-23T09:30:07.648714",
     "exception": false,
     "start_time": "2021-08-23T09:30:07.507001",
     "status": "completed"
    },
    "tags": []
   },
   "outputs": [],
   "source": [
    "timestamps = pd.read_sql(\"select distinct record_time from EBAY_TOP_BERLIN order by record_time desc limit 2\", sqlite3.connect(\"UsedObjects.db\"))"
   ]
  },
  {
   "cell_type": "code",
   "execution_count": 3,
   "id": "periodic-identification",
   "metadata": {
    "execution": {
     "iopub.execute_input": "2021-08-23T09:30:07.713231Z",
     "iopub.status.busy": "2021-08-23T09:30:07.711005Z",
     "iopub.status.idle": "2021-08-23T09:30:07.731443Z",
     "shell.execute_reply": "2021-08-23T09:30:07.732569Z"
    },
    "papermill": {
     "duration": 0.065023,
     "end_time": "2021-08-23T09:30:07.732975",
     "exception": false,
     "start_time": "2021-08-23T09:30:07.667952",
     "status": "completed"
    },
    "tags": []
   },
   "outputs": [
    {
     "data": {
      "text/html": [
       "<div>\n",
       "<style scoped>\n",
       "    .dataframe tbody tr th:only-of-type {\n",
       "        vertical-align: middle;\n",
       "    }\n",
       "\n",
       "    .dataframe tbody tr th {\n",
       "        vertical-align: top;\n",
       "    }\n",
       "\n",
       "    .dataframe thead th {\n",
       "        text-align: right;\n",
       "    }\n",
       "</style>\n",
       "<table border=\"1\" class=\"dataframe\">\n",
       "  <thead>\n",
       "    <tr style=\"text-align: right;\">\n",
       "      <th></th>\n",
       "      <th>RECORD_TIME</th>\n",
       "    </tr>\n",
       "  </thead>\n",
       "  <tbody>\n",
       "    <tr>\n",
       "      <th>0</th>\n",
       "      <td>2021-08-23 11:30</td>\n",
       "    </tr>\n",
       "    <tr>\n",
       "      <th>1</th>\n",
       "      <td>2021-08-23 11:00</td>\n",
       "    </tr>\n",
       "  </tbody>\n",
       "</table>\n",
       "</div>"
      ],
      "text/plain": [
       "        RECORD_TIME\n",
       "0  2021-08-23 11:30\n",
       "1  2021-08-23 11:00"
      ]
     },
     "execution_count": 3,
     "metadata": {},
     "output_type": "execute_result"
    }
   ],
   "source": [
    "timestamps"
   ]
  },
  {
   "cell_type": "code",
   "execution_count": 4,
   "id": "alternate-victory",
   "metadata": {
    "execution": {
     "iopub.execute_input": "2021-08-23T09:30:07.786458Z",
     "iopub.status.busy": "2021-08-23T09:30:07.784075Z",
     "iopub.status.idle": "2021-08-23T09:30:07.953457Z",
     "shell.execute_reply": "2021-08-23T09:30:07.954723Z"
    },
    "papermill": {
     "duration": 0.199729,
     "end_time": "2021-08-23T09:30:07.955163",
     "exception": false,
     "start_time": "2021-08-23T09:30:07.755434",
     "status": "completed"
    },
    "tags": []
   },
   "outputs": [],
   "source": [
    "df = pd.read_sql(\"select * from EBAY_TOP_BERLIN where record_time in (select distinct record_time from EBAY_TOP_BERLIN order by record_time desc limit 2)\", sqlite3.connect(\"UsedObjects.db\"))"
   ]
  },
  {
   "cell_type": "code",
   "execution_count": 5,
   "id": "popular-active",
   "metadata": {
    "execution": {
     "iopub.execute_input": "2021-08-23T09:30:08.024732Z",
     "iopub.status.busy": "2021-08-23T09:30:08.013174Z",
     "iopub.status.idle": "2021-08-23T09:30:08.040900Z",
     "shell.execute_reply": "2021-08-23T09:30:08.042386Z"
    },
    "papermill": {
     "duration": 0.06639,
     "end_time": "2021-08-23T09:30:08.042839",
     "exception": false,
     "start_time": "2021-08-23T09:30:07.976449",
     "status": "completed"
    },
    "tags": []
   },
   "outputs": [],
   "source": [
    "df_pivot = df.pivot_table(index=\"PRODUCT\", columns = \"RECORD_TIME\", values = \"LISTING_COUNT\")"
   ]
  },
  {
   "cell_type": "code",
   "execution_count": 6,
   "id": "union-huntington",
   "metadata": {
    "execution": {
     "iopub.execute_input": "2021-08-23T09:30:08.103508Z",
     "iopub.status.busy": "2021-08-23T09:30:08.101333Z",
     "iopub.status.idle": "2021-08-23T09:30:08.107072Z",
     "shell.execute_reply": "2021-08-23T09:30:08.108299Z"
    },
    "papermill": {
     "duration": 0.046175,
     "end_time": "2021-08-23T09:30:08.108743",
     "exception": false,
     "start_time": "2021-08-23T09:30:08.062568",
     "status": "completed"
    },
    "tags": []
   },
   "outputs": [],
   "source": [
    "df_pivot.columns = [\"stamp_1\", \"stamp_2\"]\n",
    "df_pivot_diff = df_pivot.diff(axis=1)"
   ]
  },
  {
   "cell_type": "code",
   "execution_count": 7,
   "id": "fifth-motion",
   "metadata": {
    "execution": {
     "iopub.execute_input": "2021-08-23T09:30:08.165791Z",
     "iopub.status.busy": "2021-08-23T09:30:08.163179Z",
     "iopub.status.idle": "2021-08-23T09:30:09.660181Z",
     "shell.execute_reply": "2021-08-23T09:30:09.661471Z"
    },
    "papermill": {
     "duration": 1.530373,
     "end_time": "2021-08-23T09:30:09.661889",
     "exception": false,
     "start_time": "2021-08-23T09:30:08.131516",
     "status": "completed"
    },
    "tags": []
   },
   "outputs": [
    {
     "data": {
      "text/plain": [
       "<AxesSubplot:ylabel='PRODUCT'>"
      ]
     },
     "execution_count": 7,
     "metadata": {},
     "output_type": "execute_result"
    },
    {
     "data": {
      "image/png": "[encoded data removed]",
      "text/plain": [
       "<Figure size 432x288 with 1 Axes>"
      ]
     },
     "metadata": {
      "needs_background": "light"
     },
     "output_type": "display_data"
    }
   ],
   "source": [
    "df_pivot_diff.sort_values(\"stamp_2\", ascending = False)[\"stamp_2\"].head(10).plot.barh()"
   ]
  },
  {
   "cell_type": "code",
   "execution_count": null,
   "id": "extra-executive",
   "metadata": {
    "papermill": {
     "duration": 0.022249,
     "end_time": "2021-08-23T09:30:09.708803",
     "exception": false,
     "start_time": "2021-08-23T09:30:09.686554",
     "status": "completed"
    },
    "tags": []
   },
   "outputs": [],
   "source": []
  }
 ],
 "metadata": {
  "kernelspec": {
   "display_name": "Python 3",
   "language": "python",
   "name": "python3"
  },
  "language_info": {
   "codemirror_mode": {
    "name": "ipython",
    "version": 3
   },
   "file_extension": ".py",
   "mimetype": "text/x-python",
   "name": "python",
   "nbconvert_exporter": "python",
   "pygments_lexer": "ipython3",
   "version": "3.9.5"
  },
  "papermill": {
   "default_parameters": {},
   "duration": 6.824524,
   "end_time": "2021-08-23T09:30:11.030598",
   "environment_variables": {},
   "exception": null,
   "input_path": "eBay_Overview.ipynb",
   "output_path": "eBay_Overview.ipynb",
   "parameters": {},
   "start_time": "2021-08-23T09:30:04.206074",
   "version": "2.3.3"
  }
 },
 "nbformat": 4,
 "nbformat_minor": 5
}