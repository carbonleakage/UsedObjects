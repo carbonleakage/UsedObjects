{
 "cells": [
  {
   "cell_type": "code",
   "execution_count": 1,
   "id": "reverse-picking",
   "metadata": {
    "execution": {
     "iopub.execute_input": "2021-10-02T05:00:07.645582Z",
     "iopub.status.busy": "2021-10-02T05:00:07.643656Z",
     "iopub.status.idle": "2021-10-02T05:00:08.449751Z",
     "shell.execute_reply": "2021-10-02T05:00:08.451059Z"
    },
    "papermill": {
     "duration": 0.856947,
     "end_time": "2021-10-02T05:00:08.451691",
     "exception": false,
     "start_time": "2021-10-02T05:00:07.594744",
     "status": "completed"
    },
    "tags": []
   },
   "outputs": [],
   "source": [
    "import pandas as pd\n",
    "import sqlite3"
   ]
  },
  {
   "cell_type": "code",
   "execution_count": 2,
   "id": "innovative-syndrome",
   "metadata": {
    "execution": {
     "iopub.execute_input": "2021-10-02T05:00:08.501745Z",
     "iopub.status.busy": "2021-10-02T05:00:08.499916Z",
     "iopub.status.idle": "2021-10-02T05:00:08.930918Z",
     "shell.execute_reply": "2021-10-02T05:00:08.932156Z"
    },
    "papermill": {
     "duration": 0.460269,
     "end_time": "2021-10-02T05:00:08.932545",
     "exception": false,
     "start_time": "2021-10-02T05:00:08.472276",
     "status": "completed"
    },
    "tags": []
   },
   "outputs": [],
   "source": [
    "timestamps = pd.read_sql(\"select distinct record_time from EBAY_TOP_BERLIN order by record_time desc limit 2\", sqlite3.connect(\"UsedObjects.db\"))"
   ]
  },
  {
   "cell_type": "code",
   "execution_count": 3,
   "id": "periodic-identification",
   "metadata": {
    "execution": {
     "iopub.execute_input": "2021-10-02T05:00:08.999522Z",
     "iopub.status.busy": "2021-10-02T05:00:08.997435Z",
     "iopub.status.idle": "2021-10-02T05:00:09.017683Z",
     "shell.execute_reply": "2021-10-02T05:00:09.019064Z"
    },
    "papermill": {
     "duration": 0.065492,
     "end_time": "2021-10-02T05:00:09.019519",
     "exception": false,
     "start_time": "2021-10-02T05:00:08.954027",
     "status": "completed"
    },
    "tags": []
   },
   "outputs": [
    {
     "data": {
      "text/html": [
       "<div>\n",
       "<style scoped>\n",
       "    .dataframe tbody tr th:only-of-type {\n",
       "        vertical-align: middle;\n",
       "    }\n",
       "\n",
       "    .dataframe tbody tr th {\n",
       "        vertical-align: top;\n",
       "    }\n",
       "\n",
       "    .dataframe thead th {\n",
       "        text-align: right;\n",
       "    }\n",
       "</style>\n",
       "<table border=\"1\" class=\"dataframe\">\n",
       "  <thead>\n",
       "    <tr style=\"text-align: right;\">\n",
       "      <th></th>\n",
       "      <th>RECORD_TIME</th>\n",
       "    </tr>\n",
       "  </thead>\n",
       "  <tbody>\n",
       "    <tr>\n",
       "      <th>0</th>\n",
       "      <td>2021-10-02 07:00</td>\n",
       "    </tr>\n",
       "    <tr>\n",
       "      <th>1</th>\n",
       "      <td>2021-10-02 06:30</td>\n",
       "    </tr>\n",
       "  </tbody>\n",
       "</table>\n",
       "</div>"
      ],
      "text/plain": [
       "        RECORD_TIME\n",
       "0  2021-10-02 07:00\n",
       "1  2021-10-02 06:30"
      ]
     },
     "execution_count": 3,
     "metadata": {},
     "output_type": "execute_result"
    }
   ],
   "source": [
    "timestamps"
   ]
  },
  {
   "cell_type": "code",
   "execution_count": 4,
   "id": "alternate-victory",
   "metadata": {
    "execution": {
     "iopub.execute_input": "2021-10-02T05:00:09.072714Z",
     "iopub.status.busy": "2021-10-02T05:00:09.070327Z",
     "iopub.status.idle": "2021-10-02T05:00:09.713943Z",
     "shell.execute_reply": "2021-10-02T05:00:09.712643Z"
    },
    "papermill": {
     "duration": 0.672477,
     "end_time": "2021-10-02T05:00:09.714277",
     "exception": false,
     "start_time": "2021-10-02T05:00:09.041800",
     "status": "completed"
    },
    "tags": []
   },
   "outputs": [],
   "source": [
    "df = pd.read_sql(\"select * from EBAY_TOP_BERLIN where record_time in (select distinct record_time from EBAY_TOP_BERLIN order by record_time desc limit 2)\", sqlite3.connect(\"UsedObjects.db\"))"
   ]
  },
  {
   "cell_type": "code",
   "execution_count": 5,
   "id": "popular-active",
   "metadata": {
    "execution": {
     "iopub.execute_input": "2021-10-02T05:00:09.785088Z",
     "iopub.status.busy": "2021-10-02T05:00:09.773518Z",
     "iopub.status.idle": "2021-10-02T05:00:09.800968Z",
     "shell.execute_reply": "2021-10-02T05:00:09.802170Z"
    },
    "papermill": {
     "duration": 0.065733,
     "end_time": "2021-10-02T05:00:09.802562",
     "exception": false,
     "start_time": "2021-10-02T05:00:09.736829",
     "status": "completed"
    },
    "tags": []
   },
   "outputs": [],
   "source": [
    "df_pivot = df.pivot_table(index=\"PRODUCT\", columns = \"RECORD_TIME\", values = \"LISTING_COUNT\")"
   ]
  },
  {
   "cell_type": "code",
   "execution_count": 6,
   "id": "union-huntington",
   "metadata": {
    "execution": {
     "iopub.execute_input": "2021-10-02T05:00:09.861340Z",
     "iopub.status.busy": "2021-10-02T05:00:09.858937Z",
     "iopub.status.idle": "2021-10-02T05:00:09.864840Z",
     "shell.execute_reply": "2021-10-02T05:00:09.866096Z"
    },
    "papermill": {
     "duration": 0.041792,
     "end_time": "2021-10-02T05:00:09.866508",
     "exception": false,
     "start_time": "2021-10-02T05:00:09.824716",
     "status": "completed"
    },
    "tags": []
   },
   "outputs": [],
   "source": [
    "df_pivot.columns = [\"stamp_1\", \"stamp_2\"]\n",
    "df_pivot_diff = df_pivot.diff(axis=1)"
   ]
  },
  {
   "cell_type": "code",
   "execution_count": 7,
   "id": "fifth-motion",
   "metadata": {
    "execution": {
     "iopub.execute_input": "2021-10-02T05:00:09.920710Z",
     "iopub.status.busy": "2021-10-02T05:00:09.918261Z",
     "iopub.status.idle": "2021-10-02T05:00:11.401244Z",
     "shell.execute_reply": "2021-10-02T05:00:11.402519Z"
    },
    "papermill": {
     "duration": 1.516307,
     "end_time": "2021-10-02T05:00:11.403143",
     "exception": false,
     "start_time": "2021-10-02T05:00:09.886836",
     "status": "completed"
    },
    "tags": []
   },
   "outputs": [
    {
     "data": {
      "text/plain": [
       "<AxesSubplot:ylabel='PRODUCT'>"
      ]
     },
     "execution_count": 7,
     "metadata": {},
     "output_type": "execute_result"
    },
    {
     "data": {
      "image/png": "[encoded data removed]",
      "text/plain": [
       "<Figure size 432x288 with 1 Axes>"
      ]
     },
     "metadata": {
      "needs_background": "light"
     },
     "output_type": "display_data"
    }
   ],
   "source": [
    "df_pivot_diff.sort_values(\"stamp_2\", ascending = False)[\"stamp_2\"].head(10).plot.barh()"
   ]
  },
  {
   "cell_type": "code",
   "execution_count": null,
   "id": "extra-executive",
   "metadata": {
    "papermill": {
     "duration": 0.021856,
     "end_time": "2021-10-02T05:00:11.450544",
     "exception": false,
     "start_time": "2021-10-02T05:00:11.428688",
     "status": "completed"
    },
    "tags": []
   },
   "outputs": [],
   "source": []
  }
 ],
 "metadata": {
  "kernelspec": {
   "display_name": "Python 3",
   "language": "python",
   "name": "python3"
  },
  "language_info": {
   "codemirror_mode": {
    "name": "ipython",
    "version": 3
   },
   "file_extension": ".py",
   "mimetype": "text/x-python",
   "name": "python",
   "nbconvert_exporter": "python",
   "pygments_lexer": "ipython3",
   "version": "3.9.5"
  },
  "papermill": {
   "default_parameters": {},
   "duration": 7.827594,
   "end_time": "2021-10-02T05:00:13.019146",
   "environment_variables": {},
   "exception": null,
   "input_path": "eBay_Overview.ipynb",
   "output_path": "eBay_Overview.ipynb",
   "parameters": {},
   "start_time": "2021-10-02T05:00:05.191552",
   "version": "2.3.3"
  }
 },
 "nbformat": 4,
 "nbformat_minor": 5
}