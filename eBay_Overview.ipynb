{
 "cells": [
  {
   "cell_type": "code",
   "execution_count": 1,
   "id": "reverse-picking",
   "metadata": {
    "execution": {
     "iopub.execute_input": "2021-09-13T02:00:06.830462Z",
     "iopub.status.busy": "2021-09-13T02:00:06.828580Z",
     "iopub.status.idle": "2021-09-13T02:00:07.632143Z",
     "shell.execute_reply": "2021-09-13T02:00:07.633559Z"
    },
    "papermill": {
     "duration": 0.856158,
     "end_time": "2021-09-13T02:00:07.634224",
     "exception": false,
     "start_time": "2021-09-13T02:00:06.778066",
     "status": "completed"
    },
    "tags": []
   },
   "outputs": [],
   "source": [
    "import pandas as pd\n",
    "import sqlite3"
   ]
  },
  {
   "cell_type": "code",
   "execution_count": 2,
   "id": "innovative-syndrome",
   "metadata": {
    "execution": {
     "iopub.execute_input": "2021-09-13T02:00:07.684998Z",
     "iopub.status.busy": "2021-09-13T02:00:07.682603Z",
     "iopub.status.idle": "2021-09-13T02:00:07.960637Z",
     "shell.execute_reply": "2021-09-13T02:00:07.959321Z"
    },
    "papermill": {
     "duration": 0.306655,
     "end_time": "2021-09-13T02:00:07.960966",
     "exception": false,
     "start_time": "2021-09-13T02:00:07.654311",
     "status": "completed"
    },
    "tags": []
   },
   "outputs": [],
   "source": [
    "timestamps = pd.read_sql(\"select distinct record_time from EBAY_TOP_BERLIN order by record_time desc limit 2\", sqlite3.connect(\"UsedObjects.db\"))"
   ]
  },
  {
   "cell_type": "code",
   "execution_count": 3,
   "id": "periodic-identification",
   "metadata": {
    "execution": {
     "iopub.execute_input": "2021-09-13T02:00:08.025623Z",
     "iopub.status.busy": "2021-09-13T02:00:08.023514Z",
     "iopub.status.idle": "2021-09-13T02:00:08.044992Z",
     "shell.execute_reply": "2021-09-13T02:00:08.046113Z"
    },
    "papermill": {
     "duration": 0.06647,
     "end_time": "2021-09-13T02:00:08.046519",
     "exception": false,
     "start_time": "2021-09-13T02:00:07.980049",
     "status": "completed"
    },
    "tags": []
   },
   "outputs": [
    {
     "data": {
      "text/html": [
       "<div>\n",
       "<style scoped>\n",
       "    .dataframe tbody tr th:only-of-type {\n",
       "        vertical-align: middle;\n",
       "    }\n",
       "\n",
       "    .dataframe tbody tr th {\n",
       "        vertical-align: top;\n",
       "    }\n",
       "\n",
       "    .dataframe thead th {\n",
       "        text-align: right;\n",
       "    }\n",
       "</style>\n",
       "<table border=\"1\" class=\"dataframe\">\n",
       "  <thead>\n",
       "    <tr style=\"text-align: right;\">\n",
       "      <th></th>\n",
       "      <th>RECORD_TIME</th>\n",
       "    </tr>\n",
       "  </thead>\n",
       "  <tbody>\n",
       "    <tr>\n",
       "      <th>0</th>\n",
       "      <td>2021-09-13 04:00</td>\n",
       "    </tr>\n",
       "    <tr>\n",
       "      <th>1</th>\n",
       "      <td>2021-09-13 03:30</td>\n",
       "    </tr>\n",
       "  </tbody>\n",
       "</table>\n",
       "</div>"
      ],
      "text/plain": [
       "        RECORD_TIME\n",
       "0  2021-09-13 04:00\n",
       "1  2021-09-13 03:30"
      ]
     },
     "execution_count": 3,
     "metadata": {},
     "output_type": "execute_result"
    }
   ],
   "source": [
    "timestamps"
   ]
  },
  {
   "cell_type": "code",
   "execution_count": 4,
   "id": "alternate-victory",
   "metadata": {
    "execution": {
     "iopub.execute_input": "2021-09-13T02:00:08.101033Z",
     "iopub.status.busy": "2021-09-13T02:00:08.098690Z",
     "iopub.status.idle": "2021-09-13T02:00:08.506576Z",
     "shell.execute_reply": "2021-09-13T02:00:08.507918Z"
    },
    "papermill": {
     "duration": 0.438423,
     "end_time": "2021-09-13T02:00:08.508327",
     "exception": false,
     "start_time": "2021-09-13T02:00:08.069904",
     "status": "completed"
    },
    "tags": []
   },
   "outputs": [],
   "source": [
    "df = pd.read_sql(\"select * from EBAY_TOP_BERLIN where record_time in (select distinct record_time from EBAY_TOP_BERLIN order by record_time desc limit 2)\", sqlite3.connect(\"UsedObjects.db\"))"
   ]
  },
  {
   "cell_type": "code",
   "execution_count": 5,
   "id": "popular-active",
   "metadata": {
    "execution": {
     "iopub.execute_input": "2021-09-13T02:00:08.588940Z",
     "iopub.status.busy": "2021-09-13T02:00:08.576927Z",
     "iopub.status.idle": "2021-09-13T02:00:08.604398Z",
     "shell.execute_reply": "2021-09-13T02:00:08.605621Z"
    },
    "papermill": {
     "duration": 0.071358,
     "end_time": "2021-09-13T02:00:08.606013",
     "exception": false,
     "start_time": "2021-09-13T02:00:08.534655",
     "status": "completed"
    },
    "tags": []
   },
   "outputs": [],
   "source": [
    "df_pivot = df.pivot_table(index=\"PRODUCT\", columns = \"RECORD_TIME\", values = \"LISTING_COUNT\")"
   ]
  },
  {
   "cell_type": "code",
   "execution_count": 6,
   "id": "union-huntington",
   "metadata": {
    "execution": {
     "iopub.execute_input": "2021-09-13T02:00:08.665138Z",
     "iopub.status.busy": "2021-09-13T02:00:08.662640Z",
     "iopub.status.idle": "2021-09-13T02:00:08.668723Z",
     "shell.execute_reply": "2021-09-13T02:00:08.669992Z"
    },
    "papermill": {
     "duration": 0.042163,
     "end_time": "2021-09-13T02:00:08.670399",
     "exception": false,
     "start_time": "2021-09-13T02:00:08.628236",
     "status": "completed"
    },
    "tags": []
   },
   "outputs": [],
   "source": [
    "df_pivot.columns = [\"stamp_1\", \"stamp_2\"]\n",
    "df_pivot_diff = df_pivot.diff(axis=1)"
   ]
  },
  {
   "cell_type": "code",
   "execution_count": 7,
   "id": "fifth-motion",
   "metadata": {
    "execution": {
     "iopub.execute_input": "2021-09-13T02:00:08.724163Z",
     "iopub.status.busy": "2021-09-13T02:00:08.721734Z",
     "iopub.status.idle": "2021-09-13T02:00:10.224139Z",
     "shell.execute_reply": "2021-09-13T02:00:10.225602Z"
    },
    "papermill": {
     "duration": 1.535241,
     "end_time": "2021-09-13T02:00:10.226059",
     "exception": false,
     "start_time": "2021-09-13T02:00:08.690818",
     "status": "completed"
    },
    "tags": []
   },
   "outputs": [
    {
     "data": {
      "text/plain": [
       "<AxesSubplot:ylabel='PRODUCT'>"
      ]
     },
     "execution_count": 7,
     "metadata": {},
     "output_type": "execute_result"
    },
    {
     "data": {
      "image/png": "[encoded data removed]",
      "text/plain": [
       "<Figure size 432x288 with 1 Axes>"
      ]
     },
     "metadata": {
      "needs_background": "light"
     },
     "output_type": "display_data"
    }
   ],
   "source": [
    "df_pivot_diff.sort_values(\"stamp_2\", ascending = False)[\"stamp_2\"].head(10).plot.barh()"
   ]
  },
  {
   "cell_type": "code",
   "execution_count": null,
   "id": "extra-executive",
   "metadata": {
    "papermill": {
     "duration": 0.022028,
     "end_time": "2021-09-13T02:00:10.271875",
     "exception": false,
     "start_time": "2021-09-13T02:00:10.249847",
     "status": "completed"
    },
    "tags": []
   },
   "outputs": [],
   "source": []
  }
 ],
 "metadata": {
  "kernelspec": {
   "display_name": "Python 3",
   "language": "python",
   "name": "python3"
  },
  "language_info": {
   "codemirror_mode": {
    "name": "ipython",
    "version": 3
   },
   "file_extension": ".py",
   "mimetype": "text/x-python",
   "name": "python",
   "nbconvert_exporter": "python",
   "pygments_lexer": "ipython3",
   "version": "3.9.5"
  },
  "papermill": {
   "default_parameters": {},
   "duration": 6.534036,
   "end_time": "2021-09-13T02:00:10.915305",
   "environment_variables": {},
   "exception": null,
   "input_path": "eBay_Overview.ipynb",
   "output_path": "eBay_Overview.ipynb",
   "parameters": {},
   "start_time": "2021-09-13T02:00:04.381269",
   "version": "2.3.3"
  }
 },
 "nbformat": 4,
 "nbformat_minor": 5
}