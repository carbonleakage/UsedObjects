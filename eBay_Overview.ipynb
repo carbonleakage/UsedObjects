{
 "cells": [
  {
   "cell_type": "code",
   "execution_count": 1,
   "id": "reverse-picking",
   "metadata": {
    "execution": {
     "iopub.execute_input": "2021-11-06T03:00:07.958180Z",
     "iopub.status.busy": "2021-11-06T03:00:07.955840Z",
     "iopub.status.idle": "2021-11-06T03:00:08.910982Z",
     "shell.execute_reply": "2021-11-06T03:00:08.912548Z"
    },
    "papermill": {
     "duration": 1.005978,
     "end_time": "2021-11-06T03:00:08.913332",
     "exception": false,
     "start_time": "2021-11-06T03:00:07.907354",
     "status": "completed"
    },
    "tags": []
   },
   "outputs": [],
   "source": [
    "import pandas as pd\n",
    "import sqlite3"
   ]
  },
  {
   "cell_type": "code",
   "execution_count": 2,
   "id": "innovative-syndrome",
   "metadata": {
    "execution": {
     "iopub.execute_input": "2021-11-06T03:00:09.032201Z",
     "iopub.status.busy": "2021-11-06T03:00:09.029938Z",
     "iopub.status.idle": "2021-11-06T03:00:09.785408Z",
     "shell.execute_reply": "2021-11-06T03:00:09.787123Z"
    },
    "papermill": {
     "duration": 0.791375,
     "end_time": "2021-11-06T03:00:09.787640",
     "exception": false,
     "start_time": "2021-11-06T03:00:08.996265",
     "status": "completed"
    },
    "tags": []
   },
   "outputs": [],
   "source": [
    "timestamps = pd.read_sql(\"select distinct record_time from EBAY_TOP_BERLIN order by record_time desc limit 2\", sqlite3.connect(\"UsedObjects.db\"))"
   ]
  },
  {
   "cell_type": "code",
   "execution_count": 3,
   "id": "periodic-identification",
   "metadata": {
    "execution": {
     "iopub.execute_input": "2021-11-06T03:00:09.859566Z",
     "iopub.status.busy": "2021-11-06T03:00:09.857231Z",
     "iopub.status.idle": "2021-11-06T03:00:09.880411Z",
     "shell.execute_reply": "2021-11-06T03:00:09.881954Z"
    },
    "papermill": {
     "duration": 0.07402,
     "end_time": "2021-11-06T03:00:09.882447",
     "exception": false,
     "start_time": "2021-11-06T03:00:09.808427",
     "status": "completed"
    },
    "tags": []
   },
   "outputs": [
    {
     "data": {
      "text/html": [
       "<div>\n",
       "<style scoped>\n",
       "    .dataframe tbody tr th:only-of-type {\n",
       "        vertical-align: middle;\n",
       "    }\n",
       "\n",
       "    .dataframe tbody tr th {\n",
       "        vertical-align: top;\n",
       "    }\n",
       "\n",
       "    .dataframe thead th {\n",
       "        text-align: right;\n",
       "    }\n",
       "</style>\n",
       "<table border=\"1\" class=\"dataframe\">\n",
       "  <thead>\n",
       "    <tr style=\"text-align: right;\">\n",
       "      <th></th>\n",
       "      <th>RECORD_TIME</th>\n",
       "    </tr>\n",
       "  </thead>\n",
       "  <tbody>\n",
       "    <tr>\n",
       "      <th>0</th>\n",
       "      <td>2021-11-06 04:00</td>\n",
       "    </tr>\n",
       "    <tr>\n",
       "      <th>1</th>\n",
       "      <td>2021-11-06 03:30</td>\n",
       "    </tr>\n",
       "  </tbody>\n",
       "</table>\n",
       "</div>"
      ],
      "text/plain": [
       "        RECORD_TIME\n",
       "0  2021-11-06 04:00\n",
       "1  2021-11-06 03:30"
      ]
     },
     "execution_count": 3,
     "metadata": {},
     "output_type": "execute_result"
    }
   ],
   "source": [
    "timestamps"
   ]
  },
  {
   "cell_type": "code",
   "execution_count": 4,
   "id": "alternate-victory",
   "metadata": {
    "execution": {
     "iopub.execute_input": "2021-11-06T03:00:09.939627Z",
     "iopub.status.busy": "2021-11-06T03:00:09.937448Z",
     "iopub.status.idle": "2021-11-06T03:00:11.061588Z",
     "shell.execute_reply": "2021-11-06T03:00:11.064270Z"
    },
    "papermill": {
     "duration": 1.16104,
     "end_time": "2021-11-06T03:00:11.064868",
     "exception": false,
     "start_time": "2021-11-06T03:00:09.903828",
     "status": "completed"
    },
    "tags": []
   },
   "outputs": [],
   "source": [
    "df = pd.read_sql(\"select * from EBAY_TOP_BERLIN where record_time in (select distinct record_time from EBAY_TOP_BERLIN order by record_time desc limit 2)\", sqlite3.connect(\"UsedObjects.db\"))"
   ]
  },
  {
   "cell_type": "code",
   "execution_count": 5,
   "id": "popular-active",
   "metadata": {
    "execution": {
     "iopub.execute_input": "2021-11-06T03:00:11.145586Z",
     "iopub.status.busy": "2021-11-06T03:00:11.129216Z",
     "iopub.status.idle": "2021-11-06T03:00:11.165722Z",
     "shell.execute_reply": "2021-11-06T03:00:11.163933Z"
    },
    "papermill": {
     "duration": 0.077764,
     "end_time": "2021-11-06T03:00:11.166149",
     "exception": false,
     "start_time": "2021-11-06T03:00:11.088385",
     "status": "completed"
    },
    "tags": []
   },
   "outputs": [],
   "source": [
    "df_pivot = df.pivot_table(index=\"PRODUCT\", columns = \"RECORD_TIME\", values = \"LISTING_COUNT\")"
   ]
  },
  {
   "cell_type": "code",
   "execution_count": 6,
   "id": "union-huntington",
   "metadata": {
    "execution": {
     "iopub.execute_input": "2021-11-06T03:00:11.229362Z",
     "iopub.status.busy": "2021-11-06T03:00:11.226698Z",
     "iopub.status.idle": "2021-11-06T03:00:11.235391Z",
     "shell.execute_reply": "2021-11-06T03:00:11.236925Z"
    },
    "papermill": {
     "duration": 0.049815,
     "end_time": "2021-11-06T03:00:11.237449",
     "exception": false,
     "start_time": "2021-11-06T03:00:11.187634",
     "status": "completed"
    },
    "tags": []
   },
   "outputs": [],
   "source": [
    "df_pivot.columns = [\"stamp_1\", \"stamp_2\"]\n",
    "df_pivot_diff = df_pivot.diff(axis=1)"
   ]
  },
  {
   "cell_type": "code",
   "execution_count": 7,
   "id": "fifth-motion",
   "metadata": {
    "execution": {
     "iopub.execute_input": "2021-11-06T03:00:11.296863Z",
     "iopub.status.busy": "2021-11-06T03:00:11.294165Z",
     "iopub.status.idle": "2021-11-06T03:00:13.120952Z",
     "shell.execute_reply": "2021-11-06T03:00:13.122384Z"
    },
    "papermill": {
     "duration": 1.863835,
     "end_time": "2021-11-06T03:00:13.122884",
     "exception": false,
     "start_time": "2021-11-06T03:00:11.259049",
     "status": "completed"
    },
    "tags": []
   },
   "outputs": [
    {
     "data": {
      "text/plain": [
       "<AxesSubplot:ylabel='PRODUCT'>"
      ]
     },
     "execution_count": 7,
     "metadata": {},
     "output_type": "execute_result"
    },
    {
     "data": {
      "image/png": "[encoded data removed]",
      "text/plain": [
       "<Figure size 432x288 with 1 Axes>"
      ]
     },
     "metadata": {
      "needs_background": "light"
     },
     "output_type": "display_data"
    }
   ],
   "source": [
    "df_pivot_diff.sort_values(\"stamp_2\", ascending = False)[\"stamp_2\"].head(10).plot.barh()"
   ]
  },
  {
   "cell_type": "code",
   "execution_count": null,
   "id": "extra-executive",
   "metadata": {
    "papermill": {
     "duration": 0.02858,
     "end_time": "2021-11-06T03:00:13.177775",
     "exception": false,
     "start_time": "2021-11-06T03:00:13.149195",
     "status": "completed"
    },
    "tags": []
   },
   "outputs": [],
   "source": []
  }
 ],
 "metadata": {
  "kernelspec": {
   "display_name": "Python 3",
   "language": "python",
   "name": "python3"
  },
  "language_info": {
   "codemirror_mode": {
    "name": "ipython",
    "version": 3
   },
   "file_extension": ".py",
   "mimetype": "text/x-python",
   "name": "python",
   "nbconvert_exporter": "python",
   "pygments_lexer": "ipython3",
   "version": "3.9.5"
  },
  "papermill": {
   "default_parameters": {},
   "duration": 10.046885,
   "end_time": "2021-11-06T03:00:15.091780",
   "environment_variables": {},
   "exception": null,
   "input_path": "eBay_Overview.ipynb",
   "output_path": "eBay_Overview.ipynb",
   "parameters": {},
   "start_time": "2021-11-06T03:00:05.044895",
   "version": "2.3.3"
  }
 },
 "nbformat": 4,
 "nbformat_minor": 5
}