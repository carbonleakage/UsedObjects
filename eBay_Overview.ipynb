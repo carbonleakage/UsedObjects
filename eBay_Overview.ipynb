{
 "cells": [
  {
   "cell_type": "code",
   "execution_count": 1,
   "id": "reverse-picking",
   "metadata": {
    "execution": {
     "iopub.execute_input": "2021-08-26T10:00:07.454637Z",
     "iopub.status.busy": "2021-08-26T10:00:07.452608Z",
     "iopub.status.idle": "2021-08-26T10:00:08.255962Z",
     "shell.execute_reply": "2021-08-26T10:00:08.257376Z"
    },
    "papermill": {
     "duration": 0.854133,
     "end_time": "2021-08-26T10:00:08.258035",
     "exception": false,
     "start_time": "2021-08-26T10:00:07.403902",
     "status": "completed"
    },
    "tags": []
   },
   "outputs": [],
   "source": [
    "import pandas as pd\n",
    "import sqlite3"
   ]
  },
  {
   "cell_type": "code",
   "execution_count": 2,
   "id": "innovative-syndrome",
   "metadata": {
    "execution": {
     "iopub.execute_input": "2021-08-26T10:00:08.309404Z",
     "iopub.status.busy": "2021-08-26T10:00:08.307447Z",
     "iopub.status.idle": "2021-08-26T10:00:08.439420Z",
     "shell.execute_reply": "2021-08-26T10:00:08.440818Z"
    },
    "papermill": {
     "duration": 0.161923,
     "end_time": "2021-08-26T10:00:08.441301",
     "exception": false,
     "start_time": "2021-08-26T10:00:08.279378",
     "status": "completed"
    },
    "tags": []
   },
   "outputs": [],
   "source": [
    "timestamps = pd.read_sql(\"select distinct record_time from EBAY_TOP_BERLIN order by record_time desc limit 2\", sqlite3.connect(\"UsedObjects.db\"))"
   ]
  },
  {
   "cell_type": "code",
   "execution_count": 3,
   "id": "periodic-identification",
   "metadata": {
    "execution": {
     "iopub.execute_input": "2021-08-26T10:00:08.509668Z",
     "iopub.status.busy": "2021-08-26T10:00:08.507578Z",
     "iopub.status.idle": "2021-08-26T10:00:08.527669Z",
     "shell.execute_reply": "2021-08-26T10:00:08.528963Z"
    },
    "papermill": {
     "duration": 0.067062,
     "end_time": "2021-08-26T10:00:08.529395",
     "exception": false,
     "start_time": "2021-08-26T10:00:08.462333",
     "status": "completed"
    },
    "tags": []
   },
   "outputs": [
    {
     "data": {
      "text/html": [
       "<div>\n",
       "<style scoped>\n",
       "    .dataframe tbody tr th:only-of-type {\n",
       "        vertical-align: middle;\n",
       "    }\n",
       "\n",
       "    .dataframe tbody tr th {\n",
       "        vertical-align: top;\n",
       "    }\n",
       "\n",
       "    .dataframe thead th {\n",
       "        text-align: right;\n",
       "    }\n",
       "</style>\n",
       "<table border=\"1\" class=\"dataframe\">\n",
       "  <thead>\n",
       "    <tr style=\"text-align: right;\">\n",
       "      <th></th>\n",
       "      <th>RECORD_TIME</th>\n",
       "    </tr>\n",
       "  </thead>\n",
       "  <tbody>\n",
       "    <tr>\n",
       "      <th>0</th>\n",
       "      <td>2021-08-26 12:00</td>\n",
       "    </tr>\n",
       "    <tr>\n",
       "      <th>1</th>\n",
       "      <td>2021-08-26 11:30</td>\n",
       "    </tr>\n",
       "  </tbody>\n",
       "</table>\n",
       "</div>"
      ],
      "text/plain": [
       "        RECORD_TIME\n",
       "0  2021-08-26 12:00\n",
       "1  2021-08-26 11:30"
      ]
     },
     "execution_count": 3,
     "metadata": {},
     "output_type": "execute_result"
    }
   ],
   "source": [
    "timestamps"
   ]
  },
  {
   "cell_type": "code",
   "execution_count": 4,
   "id": "alternate-victory",
   "metadata": {
    "execution": {
     "iopub.execute_input": "2021-08-26T10:00:08.584036Z",
     "iopub.status.busy": "2021-08-26T10:00:08.581741Z",
     "iopub.status.idle": "2021-08-26T10:00:08.790597Z",
     "shell.execute_reply": "2021-08-26T10:00:08.791814Z"
    },
    "papermill": {
     "duration": 0.239568,
     "end_time": "2021-08-26T10:00:08.792210",
     "exception": false,
     "start_time": "2021-08-26T10:00:08.552642",
     "status": "completed"
    },
    "tags": []
   },
   "outputs": [],
   "source": [
    "df = pd.read_sql(\"select * from EBAY_TOP_BERLIN where record_time in (select distinct record_time from EBAY_TOP_BERLIN order by record_time desc limit 2)\", sqlite3.connect(\"UsedObjects.db\"))"
   ]
  },
  {
   "cell_type": "code",
   "execution_count": 5,
   "id": "popular-active",
   "metadata": {
    "execution": {
     "iopub.execute_input": "2021-08-26T10:00:08.864319Z",
     "iopub.status.busy": "2021-08-26T10:00:08.852815Z",
     "iopub.status.idle": "2021-08-26T10:00:08.879539Z",
     "shell.execute_reply": "2021-08-26T10:00:08.880838Z"
    },
    "papermill": {
     "duration": 0.068152,
     "end_time": "2021-08-26T10:00:08.881237",
     "exception": false,
     "start_time": "2021-08-26T10:00:08.813085",
     "status": "completed"
    },
    "tags": []
   },
   "outputs": [],
   "source": [
    "df_pivot = df.pivot_table(index=\"PRODUCT\", columns = \"RECORD_TIME\", values = \"LISTING_COUNT\")"
   ]
  },
  {
   "cell_type": "code",
   "execution_count": 6,
   "id": "union-huntington",
   "metadata": {
    "execution": {
     "iopub.execute_input": "2021-08-26T10:00:08.948157Z",
     "iopub.status.busy": "2021-08-26T10:00:08.946119Z",
     "iopub.status.idle": "2021-08-26T10:00:08.951568Z",
     "shell.execute_reply": "2021-08-26T10:00:08.952913Z"
    },
    "papermill": {
     "duration": 0.04556,
     "end_time": "2021-08-26T10:00:08.953333",
     "exception": false,
     "start_time": "2021-08-26T10:00:08.907773",
     "status": "completed"
    },
    "tags": []
   },
   "outputs": [],
   "source": [
    "df_pivot.columns = [\"stamp_1\", \"stamp_2\"]\n",
    "df_pivot_diff = df_pivot.diff(axis=1)"
   ]
  },
  {
   "cell_type": "code",
   "execution_count": 7,
   "id": "fifth-motion",
   "metadata": {
    "execution": {
     "iopub.execute_input": "2021-08-26T10:00:09.008728Z",
     "iopub.status.busy": "2021-08-26T10:00:09.006285Z",
     "iopub.status.idle": "2021-08-26T10:00:10.486336Z",
     "shell.execute_reply": "2021-08-26T10:00:10.487633Z"
    },
    "papermill": {
     "duration": 1.513196,
     "end_time": "2021-08-26T10:00:10.488049",
     "exception": false,
     "start_time": "2021-08-26T10:00:08.974853",
     "status": "completed"
    },
    "tags": []
   },
   "outputs": [
    {
     "data": {
      "text/plain": [
       "<AxesSubplot:ylabel='PRODUCT'>"
      ]
     },
     "execution_count": 7,
     "metadata": {},
     "output_type": "execute_result"
    },
    {
     "data": {
      "image/png": "[encoded data removed]",
      "text/plain": [
       "<Figure size 432x288 with 1 Axes>"
      ]
     },
     "metadata": {
      "needs_background": "light"
     },
     "output_type": "display_data"
    }
   ],
   "source": [
    "df_pivot_diff.sort_values(\"stamp_2\", ascending = False)[\"stamp_2\"].head(10).plot.barh()"
   ]
  },
  {
   "cell_type": "code",
   "execution_count": null,
   "id": "extra-executive",
   "metadata": {
    "papermill": {
     "duration": 0.022387,
     "end_time": "2021-08-26T10:00:10.535310",
     "exception": false,
     "start_time": "2021-08-26T10:00:10.512923",
     "status": "completed"
    },
    "tags": []
   },
   "outputs": [],
   "source": []
  }
 ],
 "metadata": {
  "kernelspec": {
   "display_name": "Python 3",
   "language": "python",
   "name": "python3"
  },
  "language_info": {
   "codemirror_mode": {
    "name": "ipython",
    "version": 3
   },
   "file_extension": ".py",
   "mimetype": "text/x-python",
   "name": "python",
   "nbconvert_exporter": "python",
   "pygments_lexer": "ipython3",
   "version": "3.9.5"
  },
  "papermill": {
   "default_parameters": {},
   "duration": 6.829065,
   "end_time": "2021-08-26T10:00:11.835936",
   "environment_variables": {},
   "exception": null,
   "input_path": "eBay_Overview.ipynb",
   "output_path": "eBay_Overview.ipynb",
   "parameters": {},
   "start_time": "2021-08-26T10:00:05.006871",
   "version": "2.3.3"
  }
 },
 "nbformat": 4,
 "nbformat_minor": 5
}