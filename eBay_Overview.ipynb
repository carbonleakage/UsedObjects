{
 "cells": [
  {
   "cell_type": "code",
   "execution_count": 1,
   "id": "reverse-picking",
   "metadata": {
    "execution": {
     "iopub.execute_input": "2021-08-22T21:00:07.012475Z",
     "iopub.status.busy": "2021-08-22T21:00:07.010570Z",
     "iopub.status.idle": "2021-08-22T21:00:07.819223Z",
     "shell.execute_reply": "2021-08-22T21:00:07.820452Z"
    },
    "papermill": {
     "duration": 0.860705,
     "end_time": "2021-08-22T21:00:07.821067",
     "exception": false,
     "start_time": "2021-08-22T21:00:06.960362",
     "status": "completed"
    },
    "tags": []
   },
   "outputs": [],
   "source": [
    "import pandas as pd\n",
    "import sqlite3"
   ]
  },
  {
   "cell_type": "code",
   "execution_count": 2,
   "id": "innovative-syndrome",
   "metadata": {
    "execution": {
     "iopub.execute_input": "2021-08-22T21:00:07.874446Z",
     "iopub.status.busy": "2021-08-22T21:00:07.872077Z",
     "iopub.status.idle": "2021-08-22T21:00:07.980153Z",
     "shell.execute_reply": "2021-08-22T21:00:07.981408Z"
    },
    "papermill": {
     "duration": 0.138308,
     "end_time": "2021-08-22T21:00:07.981823",
     "exception": false,
     "start_time": "2021-08-22T21:00:07.843515",
     "status": "completed"
    },
    "tags": []
   },
   "outputs": [],
   "source": [
    "timestamps = pd.read_sql(\"select distinct record_time from EBAY_TOP_BERLIN order by record_time desc limit 2\", sqlite3.connect(\"UsedObjects.db\"))"
   ]
  },
  {
   "cell_type": "code",
   "execution_count": 3,
   "id": "periodic-identification",
   "metadata": {
    "execution": {
     "iopub.execute_input": "2021-08-22T21:00:08.048693Z",
     "iopub.status.busy": "2021-08-22T21:00:08.046708Z",
     "iopub.status.idle": "2021-08-22T21:00:08.069691Z",
     "shell.execute_reply": "2021-08-22T21:00:08.071266Z"
    },
    "papermill": {
     "duration": 0.070361,
     "end_time": "2021-08-22T21:00:08.071844",
     "exception": false,
     "start_time": "2021-08-22T21:00:08.001483",
     "status": "completed"
    },
    "tags": []
   },
   "outputs": [
    {
     "data": {
      "text/html": [
       "<div>\n",
       "<style scoped>\n",
       "    .dataframe tbody tr th:only-of-type {\n",
       "        vertical-align: middle;\n",
       "    }\n",
       "\n",
       "    .dataframe tbody tr th {\n",
       "        vertical-align: top;\n",
       "    }\n",
       "\n",
       "    .dataframe thead th {\n",
       "        text-align: right;\n",
       "    }\n",
       "</style>\n",
       "<table border=\"1\" class=\"dataframe\">\n",
       "  <thead>\n",
       "    <tr style=\"text-align: right;\">\n",
       "      <th></th>\n",
       "      <th>RECORD_TIME</th>\n",
       "    </tr>\n",
       "  </thead>\n",
       "  <tbody>\n",
       "    <tr>\n",
       "      <th>0</th>\n",
       "      <td>2021-08-22 23:00</td>\n",
       "    </tr>\n",
       "    <tr>\n",
       "      <th>1</th>\n",
       "      <td>2021-08-22 22:30</td>\n",
       "    </tr>\n",
       "  </tbody>\n",
       "</table>\n",
       "</div>"
      ],
      "text/plain": [
       "        RECORD_TIME\n",
       "0  2021-08-22 23:00\n",
       "1  2021-08-22 22:30"
      ]
     },
     "execution_count": 3,
     "metadata": {},
     "output_type": "execute_result"
    }
   ],
   "source": [
    "timestamps"
   ]
  },
  {
   "cell_type": "code",
   "execution_count": 4,
   "id": "alternate-victory",
   "metadata": {
    "execution": {
     "iopub.execute_input": "2021-08-22T21:00:08.125552Z",
     "iopub.status.busy": "2021-08-22T21:00:08.123562Z",
     "iopub.status.idle": "2021-08-22T21:00:08.281227Z",
     "shell.execute_reply": "2021-08-22T21:00:08.282602Z"
    },
    "papermill": {
     "duration": 0.188674,
     "end_time": "2021-08-22T21:00:08.283039",
     "exception": false,
     "start_time": "2021-08-22T21:00:08.094365",
     "status": "completed"
    },
    "tags": []
   },
   "outputs": [],
   "source": [
    "df = pd.read_sql(\"select * from EBAY_TOP_BERLIN where record_time in (select distinct record_time from EBAY_TOP_BERLIN order by record_time desc limit 2)\", sqlite3.connect(\"UsedObjects.db\"))"
   ]
  },
  {
   "cell_type": "code",
   "execution_count": 5,
   "id": "popular-active",
   "metadata": {
    "execution": {
     "iopub.execute_input": "2021-08-22T21:00:08.354371Z",
     "iopub.status.busy": "2021-08-22T21:00:08.342759Z",
     "iopub.status.idle": "2021-08-22T21:00:08.370418Z",
     "shell.execute_reply": "2021-08-22T21:00:08.371619Z"
    },
    "papermill": {
     "duration": 0.068397,
     "end_time": "2021-08-22T21:00:08.372012",
     "exception": false,
     "start_time": "2021-08-22T21:00:08.303615",
     "status": "completed"
    },
    "tags": []
   },
   "outputs": [],
   "source": [
    "df_pivot = df.pivot_table(index=\"PRODUCT\", columns = \"RECORD_TIME\", values = \"LISTING_COUNT\")"
   ]
  },
  {
   "cell_type": "code",
   "execution_count": 6,
   "id": "union-huntington",
   "metadata": {
    "execution": {
     "iopub.execute_input": "2021-08-22T21:00:08.426968Z",
     "iopub.status.busy": "2021-08-22T21:00:08.424988Z",
     "iopub.status.idle": "2021-08-22T21:00:08.430147Z",
     "shell.execute_reply": "2021-08-22T21:00:08.431486Z"
    },
    "papermill": {
     "duration": 0.039885,
     "end_time": "2021-08-22T21:00:08.431902",
     "exception": false,
     "start_time": "2021-08-22T21:00:08.392017",
     "status": "completed"
    },
    "tags": []
   },
   "outputs": [],
   "source": [
    "df_pivot.columns = [\"stamp_1\", \"stamp_2\"]\n",
    "df_pivot_diff = df_pivot.diff(axis=1)"
   ]
  },
  {
   "cell_type": "code",
   "execution_count": 7,
   "id": "fifth-motion",
   "metadata": {
    "execution": {
     "iopub.execute_input": "2021-08-22T21:00:08.512506Z",
     "iopub.status.busy": "2021-08-22T21:00:08.510125Z",
     "iopub.status.idle": "2021-08-22T21:00:09.983659Z",
     "shell.execute_reply": "2021-08-22T21:00:09.984926Z"
    },
    "papermill": {
     "duration": 1.513228,
     "end_time": "2021-08-22T21:00:09.985341",
     "exception": false,
     "start_time": "2021-08-22T21:00:08.472113",
     "status": "completed"
    },
    "tags": []
   },
   "outputs": [
    {
     "data": {
      "text/plain": [
       "<AxesSubplot:ylabel='PRODUCT'>"
      ]
     },
     "execution_count": 7,
     "metadata": {},
     "output_type": "execute_result"
    },
    {
     "data": {
      "image/png": "[encoded data removed]",
      "text/plain": [
       "<Figure size 432x288 with 1 Axes>"
      ]
     },
     "metadata": {
      "needs_background": "light"
     },
     "output_type": "display_data"
    }
   ],
   "source": [
    "df_pivot_diff.sort_values(\"stamp_2\", ascending = False)[\"stamp_2\"].head(10).plot.barh()"
   ]
  },
  {
   "cell_type": "code",
   "execution_count": null,
   "id": "extra-executive",
   "metadata": {
    "papermill": {
     "duration": 0.022186,
     "end_time": "2021-08-22T21:00:10.032047",
     "exception": false,
     "start_time": "2021-08-22T21:00:10.009861",
     "status": "completed"
    },
    "tags": []
   },
   "outputs": [],
   "source": []
  }
 ],
 "metadata": {
  "kernelspec": {
   "display_name": "Python 3",
   "language": "python",
   "name": "python3"
  },
  "language_info": {
   "codemirror_mode": {
    "name": "ipython",
    "version": 3
   },
   "file_extension": ".py",
   "mimetype": "text/x-python",
   "name": "python",
   "nbconvert_exporter": "python",
   "pygments_lexer": "ipython3",
   "version": "3.9.5"
  },
  "papermill": {
   "default_parameters": {},
   "duration": 6.825357,
   "end_time": "2021-08-22T21:00:11.373075",
   "environment_variables": {},
   "exception": null,
   "input_path": "eBay_Overview.ipynb",
   "output_path": "eBay_Overview.ipynb",
   "parameters": {},
   "start_time": "2021-08-22T21:00:04.547718",
   "version": "2.3.3"
  }
 },
 "nbformat": 4,
 "nbformat_minor": 5
}