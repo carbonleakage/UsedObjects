{
 "cells": [
  {
   "cell_type": "code",
   "execution_count": 1,
   "id": "reverse-picking",
   "metadata": {
    "execution": {
     "iopub.execute_input": "2021-12-22T14:00:07.753059Z",
     "iopub.status.busy": "2021-12-22T14:00:07.750490Z",
     "iopub.status.idle": "2021-12-22T14:00:08.724498Z",
     "shell.execute_reply": "2021-12-22T14:00:08.726057Z"
    },
    "papermill": {
     "duration": 1.02278,
     "end_time": "2021-12-22T14:00:08.726759",
     "exception": false,
     "start_time": "2021-12-22T14:00:07.703979",
     "status": "completed"
    },
    "tags": []
   },
   "outputs": [],
   "source": [
    "import pandas as pd\n",
    "import sqlite3"
   ]
  },
  {
   "cell_type": "code",
   "execution_count": 2,
   "id": "innovative-syndrome",
   "metadata": {
    "execution": {
     "iopub.execute_input": "2021-12-22T14:00:08.790526Z",
     "iopub.status.busy": "2021-12-22T14:00:08.788170Z",
     "iopub.status.idle": "2021-12-22T14:00:09.941093Z",
     "shell.execute_reply": "2021-12-22T14:00:09.942547Z"
    },
    "papermill": {
     "duration": 1.186582,
     "end_time": "2021-12-22T14:00:09.943089",
     "exception": false,
     "start_time": "2021-12-22T14:00:08.756507",
     "status": "completed"
    },
    "tags": []
   },
   "outputs": [],
   "source": [
    "timestamps = pd.read_sql(\"select distinct record_time from EBAY_TOP_BERLIN order by record_time desc limit 2\", sqlite3.connect(\"UsedObjects.db\"))"
   ]
  },
  {
   "cell_type": "code",
   "execution_count": 3,
   "id": "periodic-identification",
   "metadata": {
    "execution": {
     "iopub.execute_input": "2021-12-22T14:00:10.014989Z",
     "iopub.status.busy": "2021-12-22T14:00:10.012606Z",
     "iopub.status.idle": "2021-12-22T14:00:10.036057Z",
     "shell.execute_reply": "2021-12-22T14:00:10.037778Z"
    },
    "papermill": {
     "duration": 0.074362,
     "end_time": "2021-12-22T14:00:10.038313",
     "exception": false,
     "start_time": "2021-12-22T14:00:09.963951",
     "status": "completed"
    },
    "tags": []
   },
   "outputs": [
    {
     "data": {
      "text/html": [
       "<div>\n",
       "<style scoped>\n",
       "    .dataframe tbody tr th:only-of-type {\n",
       "        vertical-align: middle;\n",
       "    }\n",
       "\n",
       "    .dataframe tbody tr th {\n",
       "        vertical-align: top;\n",
       "    }\n",
       "\n",
       "    .dataframe thead th {\n",
       "        text-align: right;\n",
       "    }\n",
       "</style>\n",
       "<table border=\"1\" class=\"dataframe\">\n",
       "  <thead>\n",
       "    <tr style=\"text-align: right;\">\n",
       "      <th></th>\n",
       "      <th>RECORD_TIME</th>\n",
       "    </tr>\n",
       "  </thead>\n",
       "  <tbody>\n",
       "    <tr>\n",
       "      <th>0</th>\n",
       "      <td>2021-12-22 15:00</td>\n",
       "    </tr>\n",
       "    <tr>\n",
       "      <th>1</th>\n",
       "      <td>2021-12-22 14:30</td>\n",
       "    </tr>\n",
       "  </tbody>\n",
       "</table>\n",
       "</div>"
      ],
      "text/plain": [
       "        RECORD_TIME\n",
       "0  2021-12-22 15:00\n",
       "1  2021-12-22 14:30"
      ]
     },
     "execution_count": 3,
     "metadata": {},
     "output_type": "execute_result"
    }
   ],
   "source": [
    "timestamps"
   ]
  },
  {
   "cell_type": "code",
   "execution_count": 4,
   "id": "alternate-victory",
   "metadata": {
    "execution": {
     "iopub.execute_input": "2021-12-22T14:00:10.095073Z",
     "iopub.status.busy": "2021-12-22T14:00:10.092974Z",
     "iopub.status.idle": "2021-12-22T14:00:11.770264Z",
     "shell.execute_reply": "2021-12-22T14:00:11.772248Z"
    },
    "papermill": {
     "duration": 1.712387,
     "end_time": "2021-12-22T14:00:11.772801",
     "exception": false,
     "start_time": "2021-12-22T14:00:10.060414",
     "status": "completed"
    },
    "tags": []
   },
   "outputs": [],
   "source": [
    "df = pd.read_sql(\"select * from EBAY_TOP_BERLIN where record_time in (select distinct record_time from EBAY_TOP_BERLIN order by record_time desc limit 2)\", sqlite3.connect(\"UsedObjects.db\"))"
   ]
  },
  {
   "cell_type": "code",
   "execution_count": 5,
   "id": "popular-active",
   "metadata": {
    "execution": {
     "iopub.execute_input": "2021-12-22T14:00:11.839753Z",
     "iopub.status.busy": "2021-12-22T14:00:11.837450Z",
     "iopub.status.idle": "2021-12-22T14:00:11.868640Z",
     "shell.execute_reply": "2021-12-22T14:00:11.870436Z"
    },
    "papermill": {
     "duration": 0.076977,
     "end_time": "2021-12-22T14:00:11.870960",
     "exception": false,
     "start_time": "2021-12-22T14:00:11.793983",
     "status": "completed"
    },
    "tags": []
   },
   "outputs": [],
   "source": [
    "df_pivot = df.pivot_table(index=\"PRODUCT\", columns = \"RECORD_TIME\", values = \"LISTING_COUNT\")"
   ]
  },
  {
   "cell_type": "code",
   "execution_count": 6,
   "id": "union-huntington",
   "metadata": {
    "execution": {
     "iopub.execute_input": "2021-12-22T14:00:11.931379Z",
     "iopub.status.busy": "2021-12-22T14:00:11.929158Z",
     "iopub.status.idle": "2021-12-22T14:00:11.934248Z",
     "shell.execute_reply": "2021-12-22T14:00:11.935802Z"
    },
    "papermill": {
     "duration": 0.044387,
     "end_time": "2021-12-22T14:00:11.936256",
     "exception": false,
     "start_time": "2021-12-22T14:00:11.891869",
     "status": "completed"
    },
    "tags": []
   },
   "outputs": [],
   "source": [
    "df_pivot.columns = [\"stamp_1\", \"stamp_2\"]\n",
    "df_pivot_diff = df_pivot.diff(axis=1)"
   ]
  },
  {
   "cell_type": "code",
   "execution_count": 7,
   "id": "fifth-motion",
   "metadata": {
    "execution": {
     "iopub.execute_input": "2021-12-22T14:00:11.993005Z",
     "iopub.status.busy": "2021-12-22T14:00:11.990452Z",
     "iopub.status.idle": "2021-12-22T14:00:13.963846Z",
     "shell.execute_reply": "2021-12-22T14:00:13.965211Z"
    },
    "papermill": {
     "duration": 2.008615,
     "end_time": "2021-12-22T14:00:13.965647",
     "exception": false,
     "start_time": "2021-12-22T14:00:11.957032",
     "status": "completed"
    },
    "tags": []
   },
   "outputs": [
    {
     "data": {
      "text/plain": [
       "<AxesSubplot:ylabel='PRODUCT'>"
      ]
     },
     "execution_count": 7,
     "metadata": {},
     "output_type": "execute_result"
    },
    {
     "data": {
      "image/png": "[encoded data removed]",
      "text/plain": [
       "<Figure size 432x288 with 1 Axes>"
      ]
     },
     "metadata": {
      "needs_background": "light"
     },
     "output_type": "display_data"
    }
   ],
   "source": [
    "df_pivot_diff.sort_values(\"stamp_2\", ascending = False)[\"stamp_2\"].head(10).plot.barh()"
   ]
  },
  {
   "cell_type": "code",
   "execution_count": null,
   "id": "extra-executive",
   "metadata": {
    "papermill": {
     "duration": 0.026516,
     "end_time": "2021-12-22T14:00:14.025552",
     "exception": false,
     "start_time": "2021-12-22T14:00:13.999036",
     "status": "completed"
    },
    "tags": []
   },
   "outputs": [],
   "source": []
  }
 ],
 "metadata": {
  "kernelspec": {
   "display_name": "Python 3",
   "language": "python",
   "name": "python3"
  },
  "language_info": {
   "codemirror_mode": {
    "name": "ipython",
    "version": 3
   },
   "file_extension": ".py",
   "mimetype": "text/x-python",
   "name": "python",
   "nbconvert_exporter": "python",
   "pygments_lexer": "ipython3",
   "version": "3.9.5"
  },
  "papermill": {
   "default_parameters": {},
   "duration": 9.719551,
   "end_time": "2021-12-22T14:00:14.675578",
   "environment_variables": {},
   "exception": null,
   "input_path": "eBay_Overview.ipynb",
   "output_path": "eBay_Overview.ipynb",
   "parameters": {},
   "start_time": "2021-12-22T14:00:04.956027",
   "version": "2.3.3"
  }
 },
 "nbformat": 4,
 "nbformat_minor": 5
}