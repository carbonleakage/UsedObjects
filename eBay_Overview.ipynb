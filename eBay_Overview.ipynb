{
 "cells": [
  {
   "cell_type": "code",
   "execution_count": 1,
   "id": "reverse-picking",
   "metadata": {
    "execution": {
     "iopub.execute_input": "2021-12-14T22:00:12.368960Z",
     "iopub.status.busy": "2021-12-14T22:00:12.366748Z",
     "iopub.status.idle": "2021-12-14T22:00:13.395699Z",
     "shell.execute_reply": "2021-12-14T22:00:13.398767Z"
    },
    "papermill": {
     "duration": 1.079271,
     "end_time": "2021-12-14T22:00:13.399849",
     "exception": false,
     "start_time": "2021-12-14T22:00:12.320578",
     "status": "completed"
    },
    "tags": []
   },
   "outputs": [],
   "source": [
    "import pandas as pd\n",
    "import sqlite3"
   ]
  },
  {
   "cell_type": "code",
   "execution_count": 2,
   "id": "innovative-syndrome",
   "metadata": {
    "execution": {
     "iopub.execute_input": "2021-12-14T22:00:13.472637Z",
     "iopub.status.busy": "2021-12-14T22:00:13.465873Z",
     "iopub.status.idle": "2021-12-14T22:00:14.536532Z",
     "shell.execute_reply": "2021-12-14T22:00:14.537968Z"
    },
    "papermill": {
     "duration": 1.109787,
     "end_time": "2021-12-14T22:00:14.538456",
     "exception": false,
     "start_time": "2021-12-14T22:00:13.428669",
     "status": "completed"
    },
    "tags": []
   },
   "outputs": [],
   "source": [
    "timestamps = pd.read_sql(\"select distinct record_time from EBAY_TOP_BERLIN order by record_time desc limit 2\", sqlite3.connect(\"UsedObjects.db\"))"
   ]
  },
  {
   "cell_type": "code",
   "execution_count": 3,
   "id": "periodic-identification",
   "metadata": {
    "execution": {
     "iopub.execute_input": "2021-12-14T22:00:14.608750Z",
     "iopub.status.busy": "2021-12-14T22:00:14.603683Z",
     "iopub.status.idle": "2021-12-14T22:00:14.623724Z",
     "shell.execute_reply": "2021-12-14T22:00:14.625153Z"
    },
    "papermill": {
     "duration": 0.06676,
     "end_time": "2021-12-14T22:00:14.625619",
     "exception": false,
     "start_time": "2021-12-14T22:00:14.558859",
     "status": "completed"
    },
    "tags": []
   },
   "outputs": [
    {
     "data": {
      "text/html": [
       "<div>\n",
       "<style scoped>\n",
       "    .dataframe tbody tr th:only-of-type {\n",
       "        vertical-align: middle;\n",
       "    }\n",
       "\n",
       "    .dataframe tbody tr th {\n",
       "        vertical-align: top;\n",
       "    }\n",
       "\n",
       "    .dataframe thead th {\n",
       "        text-align: right;\n",
       "    }\n",
       "</style>\n",
       "<table border=\"1\" class=\"dataframe\">\n",
       "  <thead>\n",
       "    <tr style=\"text-align: right;\">\n",
       "      <th></th>\n",
       "      <th>RECORD_TIME</th>\n",
       "    </tr>\n",
       "  </thead>\n",
       "  <tbody>\n",
       "    <tr>\n",
       "      <th>0</th>\n",
       "      <td>2021-12-14 23:00</td>\n",
       "    </tr>\n",
       "    <tr>\n",
       "      <th>1</th>\n",
       "      <td>2021-12-14 22:30</td>\n",
       "    </tr>\n",
       "  </tbody>\n",
       "</table>\n",
       "</div>"
      ],
      "text/plain": [
       "        RECORD_TIME\n",
       "0  2021-12-14 23:00\n",
       "1  2021-12-14 22:30"
      ]
     },
     "execution_count": 3,
     "metadata": {},
     "output_type": "execute_result"
    }
   ],
   "source": [
    "timestamps"
   ]
  },
  {
   "cell_type": "code",
   "execution_count": 4,
   "id": "alternate-victory",
   "metadata": {
    "execution": {
     "iopub.execute_input": "2021-12-14T22:00:14.675606Z",
     "iopub.status.busy": "2021-12-14T22:00:14.673758Z",
     "iopub.status.idle": "2021-12-14T22:00:16.194470Z",
     "shell.execute_reply": "2021-12-14T22:00:16.195670Z"
    },
    "papermill": {
     "duration": 1.550412,
     "end_time": "2021-12-14T22:00:16.196066",
     "exception": false,
     "start_time": "2021-12-14T22:00:14.645654",
     "status": "completed"
    },
    "tags": []
   },
   "outputs": [],
   "source": [
    "df = pd.read_sql(\"select * from EBAY_TOP_BERLIN where record_time in (select distinct record_time from EBAY_TOP_BERLIN order by record_time desc limit 2)\", sqlite3.connect(\"UsedObjects.db\"))"
   ]
  },
  {
   "cell_type": "code",
   "execution_count": 5,
   "id": "popular-active",
   "metadata": {
    "execution": {
     "iopub.execute_input": "2021-12-14T22:00:16.264331Z",
     "iopub.status.busy": "2021-12-14T22:00:16.252623Z",
     "iopub.status.idle": "2021-12-14T22:00:16.281692Z",
     "shell.execute_reply": "2021-12-14T22:00:16.283084Z"
    },
    "papermill": {
     "duration": 0.06721,
     "end_time": "2021-12-14T22:00:16.283523",
     "exception": false,
     "start_time": "2021-12-14T22:00:16.216313",
     "status": "completed"
    },
    "tags": []
   },
   "outputs": [],
   "source": [
    "df_pivot = df.pivot_table(index=\"PRODUCT\", columns = \"RECORD_TIME\", values = \"LISTING_COUNT\")"
   ]
  },
  {
   "cell_type": "code",
   "execution_count": 6,
   "id": "union-huntington",
   "metadata": {
    "execution": {
     "iopub.execute_input": "2021-12-14T22:00:16.340524Z",
     "iopub.status.busy": "2021-12-14T22:00:16.338098Z",
     "iopub.status.idle": "2021-12-14T22:00:16.343955Z",
     "shell.execute_reply": "2021-12-14T22:00:16.345308Z"
    },
    "papermill": {
     "duration": 0.042096,
     "end_time": "2021-12-14T22:00:16.345735",
     "exception": false,
     "start_time": "2021-12-14T22:00:16.303639",
     "status": "completed"
    },
    "tags": []
   },
   "outputs": [],
   "source": [
    "df_pivot.columns = [\"stamp_1\", \"stamp_2\"]\n",
    "df_pivot_diff = df_pivot.diff(axis=1)"
   ]
  },
  {
   "cell_type": "code",
   "execution_count": 7,
   "id": "fifth-motion",
   "metadata": {
    "execution": {
     "iopub.execute_input": "2021-12-14T22:00:16.399763Z",
     "iopub.status.busy": "2021-12-14T22:00:16.397525Z",
     "iopub.status.idle": "2021-12-14T22:00:17.885879Z",
     "shell.execute_reply": "2021-12-14T22:00:17.887077Z"
    },
    "papermill": {
     "duration": 1.521382,
     "end_time": "2021-12-14T22:00:17.887516",
     "exception": false,
     "start_time": "2021-12-14T22:00:16.366134",
     "status": "completed"
    },
    "tags": []
   },
   "outputs": [
    {
     "data": {
      "text/plain": [
       "<AxesSubplot:ylabel='PRODUCT'>"
      ]
     },
     "execution_count": 7,
     "metadata": {},
     "output_type": "execute_result"
    },
    {
     "data": {
      "image/png": "[encoded data removed]",
      "text/plain": [
       "<Figure size 432x288 with 1 Axes>"
      ]
     },
     "metadata": {
      "needs_background": "light"
     },
     "output_type": "display_data"
    }
   ],
   "source": [
    "df_pivot_diff.sort_values(\"stamp_2\", ascending = False)[\"stamp_2\"].head(10).plot.barh()"
   ]
  },
  {
   "cell_type": "code",
   "execution_count": null,
   "id": "extra-executive",
   "metadata": {
    "papermill": {
     "duration": 0.021813,
     "end_time": "2021-12-14T22:00:17.932962",
     "exception": false,
     "start_time": "2021-12-14T22:00:17.911149",
     "status": "completed"
    },
    "tags": []
   },
   "outputs": [],
   "source": []
  }
 ],
 "metadata": {
  "kernelspec": {
   "display_name": "Python 3",
   "language": "python",
   "name": "python3"
  },
  "language_info": {
   "codemirror_mode": {
    "name": "ipython",
    "version": 3
   },
   "file_extension": ".py",
   "mimetype": "text/x-python",
   "name": "python",
   "nbconvert_exporter": "python",
   "pygments_lexer": "ipython3",
   "version": "3.9.5"
  },
  "papermill": {
   "default_parameters": {},
   "duration": 9.918718,
   "end_time": "2021-12-14T22:00:19.503921",
   "environment_variables": {},
   "exception": null,
   "input_path": "eBay_Overview.ipynb",
   "output_path": "eBay_Overview.ipynb",
   "parameters": {},
   "start_time": "2021-12-14T22:00:09.585203",
   "version": "2.3.3"
  }
 },
 "nbformat": 4,
 "nbformat_minor": 5
}