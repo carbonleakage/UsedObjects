{
 "cells": [
  {
   "cell_type": "code",
   "execution_count": 1,
   "id": "reverse-picking",
   "metadata": {
    "execution": {
     "iopub.execute_input": "2021-08-27T01:00:06.547549Z",
     "iopub.status.busy": "2021-08-27T01:00:06.545632Z",
     "iopub.status.idle": "2021-08-27T01:00:07.348071Z",
     "shell.execute_reply": "2021-08-27T01:00:07.349498Z"
    },
    "papermill": {
     "duration": 0.852694,
     "end_time": "2021-08-27T01:00:07.350167",
     "exception": false,
     "start_time": "2021-08-27T01:00:06.497473",
     "status": "completed"
    },
    "tags": []
   },
   "outputs": [],
   "source": [
    "import pandas as pd\n",
    "import sqlite3"
   ]
  },
  {
   "cell_type": "code",
   "execution_count": 2,
   "id": "innovative-syndrome",
   "metadata": {
    "execution": {
     "iopub.execute_input": "2021-08-27T01:00:07.400630Z",
     "iopub.status.busy": "2021-08-27T01:00:07.398599Z",
     "iopub.status.idle": "2021-08-27T01:00:07.538363Z",
     "shell.execute_reply": "2021-08-27T01:00:07.539548Z"
    },
    "papermill": {
     "duration": 0.169561,
     "end_time": "2021-08-27T01:00:07.539981",
     "exception": false,
     "start_time": "2021-08-27T01:00:07.370420",
     "status": "completed"
    },
    "tags": []
   },
   "outputs": [],
   "source": [
    "timestamps = pd.read_sql(\"select distinct record_time from EBAY_TOP_BERLIN order by record_time desc limit 2\", sqlite3.connect(\"UsedObjects.db\"))"
   ]
  },
  {
   "cell_type": "code",
   "execution_count": 3,
   "id": "periodic-identification",
   "metadata": {
    "execution": {
     "iopub.execute_input": "2021-08-27T01:00:07.610115Z",
     "iopub.status.busy": "2021-08-27T01:00:07.604911Z",
     "iopub.status.idle": "2021-08-27T01:00:07.625049Z",
     "shell.execute_reply": "2021-08-27T01:00:07.626359Z"
    },
    "papermill": {
     "duration": 0.067212,
     "end_time": "2021-08-27T01:00:07.626778",
     "exception": false,
     "start_time": "2021-08-27T01:00:07.559566",
     "status": "completed"
    },
    "tags": []
   },
   "outputs": [
    {
     "data": {
      "text/html": [
       "<div>\n",
       "<style scoped>\n",
       "    .dataframe tbody tr th:only-of-type {\n",
       "        vertical-align: middle;\n",
       "    }\n",
       "\n",
       "    .dataframe tbody tr th {\n",
       "        vertical-align: top;\n",
       "    }\n",
       "\n",
       "    .dataframe thead th {\n",
       "        text-align: right;\n",
       "    }\n",
       "</style>\n",
       "<table border=\"1\" class=\"dataframe\">\n",
       "  <thead>\n",
       "    <tr style=\"text-align: right;\">\n",
       "      <th></th>\n",
       "      <th>RECORD_TIME</th>\n",
       "    </tr>\n",
       "  </thead>\n",
       "  <tbody>\n",
       "    <tr>\n",
       "      <th>0</th>\n",
       "      <td>2021-08-27 03:00</td>\n",
       "    </tr>\n",
       "    <tr>\n",
       "      <th>1</th>\n",
       "      <td>2021-08-27 02:30</td>\n",
       "    </tr>\n",
       "  </tbody>\n",
       "</table>\n",
       "</div>"
      ],
      "text/plain": [
       "        RECORD_TIME\n",
       "0  2021-08-27 03:00\n",
       "1  2021-08-27 02:30"
      ]
     },
     "execution_count": 3,
     "metadata": {},
     "output_type": "execute_result"
    }
   ],
   "source": [
    "timestamps"
   ]
  },
  {
   "cell_type": "code",
   "execution_count": 4,
   "id": "alternate-victory",
   "metadata": {
    "execution": {
     "iopub.execute_input": "2021-08-27T01:00:07.678375Z",
     "iopub.status.busy": "2021-08-27T01:00:07.676120Z",
     "iopub.status.idle": "2021-08-27T01:00:07.881879Z",
     "shell.execute_reply": "2021-08-27T01:00:07.880551Z"
    },
    "papermill": {
     "duration": 0.234292,
     "end_time": "2021-08-27T01:00:07.882215",
     "exception": false,
     "start_time": "2021-08-27T01:00:07.647923",
     "status": "completed"
    },
    "tags": []
   },
   "outputs": [],
   "source": [
    "df = pd.read_sql(\"select * from EBAY_TOP_BERLIN where record_time in (select distinct record_time from EBAY_TOP_BERLIN order by record_time desc limit 2)\", sqlite3.connect(\"UsedObjects.db\"))"
   ]
  },
  {
   "cell_type": "code",
   "execution_count": 5,
   "id": "popular-active",
   "metadata": {
    "execution": {
     "iopub.execute_input": "2021-08-27T01:00:07.954973Z",
     "iopub.status.busy": "2021-08-27T01:00:07.942107Z",
     "iopub.status.idle": "2021-08-27T01:00:07.970460Z",
     "shell.execute_reply": "2021-08-27T01:00:07.971667Z"
    },
    "papermill": {
     "duration": 0.068208,
     "end_time": "2021-08-27T01:00:07.972067",
     "exception": false,
     "start_time": "2021-08-27T01:00:07.903859",
     "status": "completed"
    },
    "tags": []
   },
   "outputs": [],
   "source": [
    "df_pivot = df.pivot_table(index=\"PRODUCT\", columns = \"RECORD_TIME\", values = \"LISTING_COUNT\")"
   ]
  },
  {
   "cell_type": "code",
   "execution_count": 6,
   "id": "union-huntington",
   "metadata": {
    "execution": {
     "iopub.execute_input": "2021-08-27T01:00:08.039834Z",
     "iopub.status.busy": "2021-08-27T01:00:08.037701Z",
     "iopub.status.idle": "2021-08-27T01:00:08.043642Z",
     "shell.execute_reply": "2021-08-27T01:00:08.045173Z"
    },
    "papermill": {
     "duration": 0.04627,
     "end_time": "2021-08-27T01:00:08.045631",
     "exception": false,
     "start_time": "2021-08-27T01:00:07.999361",
     "status": "completed"
    },
    "tags": []
   },
   "outputs": [],
   "source": [
    "df_pivot.columns = [\"stamp_1\", \"stamp_2\"]\n",
    "df_pivot_diff = df_pivot.diff(axis=1)"
   ]
  },
  {
   "cell_type": "code",
   "execution_count": 7,
   "id": "fifth-motion",
   "metadata": {
    "execution": {
     "iopub.execute_input": "2021-08-27T01:00:08.101210Z",
     "iopub.status.busy": "2021-08-27T01:00:08.098516Z",
     "iopub.status.idle": "2021-08-27T01:00:09.595913Z",
     "shell.execute_reply": "2021-08-27T01:00:09.597535Z"
    },
    "papermill": {
     "duration": 1.531477,
     "end_time": "2021-08-27T01:00:09.598016",
     "exception": false,
     "start_time": "2021-08-27T01:00:08.066539",
     "status": "completed"
    },
    "tags": []
   },
   "outputs": [
    {
     "data": {
      "text/plain": [
       "<AxesSubplot:ylabel='PRODUCT'>"
      ]
     },
     "execution_count": 7,
     "metadata": {},
     "output_type": "execute_result"
    },
    {
     "data": {
      "image/png": "[encoded data removed]",
      "text/plain": [
       "<Figure size 432x288 with 1 Axes>"
      ]
     },
     "metadata": {
      "needs_background": "light"
     },
     "output_type": "display_data"
    }
   ],
   "source": [
    "df_pivot_diff.sort_values(\"stamp_2\", ascending = False)[\"stamp_2\"].head(10).plot.barh()"
   ]
  },
  {
   "cell_type": "code",
   "execution_count": null,
   "id": "extra-executive",
   "metadata": {
    "papermill": {
     "duration": 0.022312,
     "end_time": "2021-08-27T01:00:09.644763",
     "exception": false,
     "start_time": "2021-08-27T01:00:09.622451",
     "status": "completed"
    },
    "tags": []
   },
   "outputs": [],
   "source": []
  }
 ],
 "metadata": {
  "kernelspec": {
   "display_name": "Python 3",
   "language": "python",
   "name": "python3"
  },
  "language_info": {
   "codemirror_mode": {
    "name": "ipython",
    "version": 3
   },
   "file_extension": ".py",
   "mimetype": "text/x-python",
   "name": "python",
   "nbconvert_exporter": "python",
   "pygments_lexer": "ipython3",
   "version": "3.9.5"
  },
  "papermill": {
   "default_parameters": {},
   "duration": 6.831215,
   "end_time": "2021-08-27T01:00:10.926544",
   "environment_variables": {},
   "exception": null,
   "input_path": "eBay_Overview.ipynb",
   "output_path": "eBay_Overview.ipynb",
   "parameters": {},
   "start_time": "2021-08-27T01:00:04.095329",
   "version": "2.3.3"
  }
 },
 "nbformat": 4,
 "nbformat_minor": 5
}