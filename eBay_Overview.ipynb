{
 "cells": [
  {
   "cell_type": "code",
   "execution_count": 1,
   "id": "reverse-picking",
   "metadata": {
    "execution": {
     "iopub.execute_input": "2021-12-10T19:00:07.421371Z",
     "iopub.status.busy": "2021-12-10T19:00:07.417740Z",
     "iopub.status.idle": "2021-12-10T19:00:08.367695Z",
     "shell.execute_reply": "2021-12-10T19:00:08.369428Z"
    },
    "papermill": {
     "duration": 0.998714,
     "end_time": "2021-12-10T19:00:08.370142",
     "exception": false,
     "start_time": "2021-12-10T19:00:07.371428",
     "status": "completed"
    },
    "tags": []
   },
   "outputs": [],
   "source": [
    "import pandas as pd\n",
    "import sqlite3"
   ]
  },
  {
   "cell_type": "code",
   "execution_count": 2,
   "id": "innovative-syndrome",
   "metadata": {
    "execution": {
     "iopub.execute_input": "2021-12-10T19:00:08.431890Z",
     "iopub.status.busy": "2021-12-10T19:00:08.429615Z",
     "iopub.status.idle": "2021-12-10T19:00:09.466044Z",
     "shell.execute_reply": "2021-12-10T19:00:09.467506Z"
    },
    "papermill": {
     "duration": 1.07037,
     "end_time": "2021-12-10T19:00:09.467968",
     "exception": false,
     "start_time": "2021-12-10T19:00:08.397598",
     "status": "completed"
    },
    "tags": []
   },
   "outputs": [],
   "source": [
    "timestamps = pd.read_sql(\"select distinct record_time from EBAY_TOP_BERLIN order by record_time desc limit 2\", sqlite3.connect(\"UsedObjects.db\"))"
   ]
  },
  {
   "cell_type": "code",
   "execution_count": 3,
   "id": "periodic-identification",
   "metadata": {
    "execution": {
     "iopub.execute_input": "2021-12-10T19:00:09.543427Z",
     "iopub.status.busy": "2021-12-10T19:00:09.537592Z",
     "iopub.status.idle": "2021-12-10T19:00:09.560355Z",
     "shell.execute_reply": "2021-12-10T19:00:09.561875Z"
    },
    "papermill": {
     "duration": 0.073832,
     "end_time": "2021-12-10T19:00:09.562413",
     "exception": false,
     "start_time": "2021-12-10T19:00:09.488581",
     "status": "completed"
    },
    "tags": []
   },
   "outputs": [
    {
     "data": {
      "text/html": [
       "<div>\n",
       "<style scoped>\n",
       "    .dataframe tbody tr th:only-of-type {\n",
       "        vertical-align: middle;\n",
       "    }\n",
       "\n",
       "    .dataframe tbody tr th {\n",
       "        vertical-align: top;\n",
       "    }\n",
       "\n",
       "    .dataframe thead th {\n",
       "        text-align: right;\n",
       "    }\n",
       "</style>\n",
       "<table border=\"1\" class=\"dataframe\">\n",
       "  <thead>\n",
       "    <tr style=\"text-align: right;\">\n",
       "      <th></th>\n",
       "      <th>RECORD_TIME</th>\n",
       "    </tr>\n",
       "  </thead>\n",
       "  <tbody>\n",
       "    <tr>\n",
       "      <th>0</th>\n",
       "      <td>2021-12-10 20:00</td>\n",
       "    </tr>\n",
       "    <tr>\n",
       "      <th>1</th>\n",
       "      <td>2021-12-10 19:30</td>\n",
       "    </tr>\n",
       "  </tbody>\n",
       "</table>\n",
       "</div>"
      ],
      "text/plain": [
       "        RECORD_TIME\n",
       "0  2021-12-10 20:00\n",
       "1  2021-12-10 19:30"
      ]
     },
     "execution_count": 3,
     "metadata": {},
     "output_type": "execute_result"
    }
   ],
   "source": [
    "timestamps"
   ]
  },
  {
   "cell_type": "code",
   "execution_count": 4,
   "id": "alternate-victory",
   "metadata": {
    "execution": {
     "iopub.execute_input": "2021-12-10T19:00:09.621842Z",
     "iopub.status.busy": "2021-12-10T19:00:09.619632Z",
     "iopub.status.idle": "2021-12-10T19:00:11.208038Z",
     "shell.execute_reply": "2021-12-10T19:00:11.209421Z"
    },
    "papermill": {
     "duration": 1.623686,
     "end_time": "2021-12-10T19:00:11.209895",
     "exception": false,
     "start_time": "2021-12-10T19:00:09.586209",
     "status": "completed"
    },
    "tags": []
   },
   "outputs": [],
   "source": [
    "df = pd.read_sql(\"select * from EBAY_TOP_BERLIN where record_time in (select distinct record_time from EBAY_TOP_BERLIN order by record_time desc limit 2)\", sqlite3.connect(\"UsedObjects.db\"))"
   ]
  },
  {
   "cell_type": "code",
   "execution_count": 5,
   "id": "popular-active",
   "metadata": {
    "execution": {
     "iopub.execute_input": "2021-12-10T19:00:11.282966Z",
     "iopub.status.busy": "2021-12-10T19:00:11.274117Z",
     "iopub.status.idle": "2021-12-10T19:00:11.307020Z",
     "shell.execute_reply": "2021-12-10T19:00:11.308383Z"
    },
    "papermill": {
     "duration": 0.077167,
     "end_time": "2021-12-10T19:00:11.308944",
     "exception": false,
     "start_time": "2021-12-10T19:00:11.231777",
     "status": "completed"
    },
    "tags": []
   },
   "outputs": [],
   "source": [
    "df_pivot = df.pivot_table(index=\"PRODUCT\", columns = \"RECORD_TIME\", values = \"LISTING_COUNT\")"
   ]
  },
  {
   "cell_type": "code",
   "execution_count": 6,
   "id": "union-huntington",
   "metadata": {
    "execution": {
     "iopub.execute_input": "2021-12-10T19:00:11.368094Z",
     "iopub.status.busy": "2021-12-10T19:00:11.365874Z",
     "iopub.status.idle": "2021-12-10T19:00:11.371505Z",
     "shell.execute_reply": "2021-12-10T19:00:11.372954Z"
    },
    "papermill": {
     "duration": 0.04408,
     "end_time": "2021-12-10T19:00:11.373450",
     "exception": false,
     "start_time": "2021-12-10T19:00:11.329370",
     "status": "completed"
    },
    "tags": []
   },
   "outputs": [],
   "source": [
    "df_pivot.columns = [\"stamp_1\", \"stamp_2\"]\n",
    "df_pivot_diff = df_pivot.diff(axis=1)"
   ]
  },
  {
   "cell_type": "code",
   "execution_count": 7,
   "id": "fifth-motion",
   "metadata": {
    "execution": {
     "iopub.execute_input": "2021-12-10T19:00:11.432883Z",
     "iopub.status.busy": "2021-12-10T19:00:11.430185Z",
     "iopub.status.idle": "2021-12-10T19:00:13.390035Z",
     "shell.execute_reply": "2021-12-10T19:00:13.392912Z"
    },
    "papermill": {
     "duration": 1.999456,
     "end_time": "2021-12-10T19:00:13.393715",
     "exception": false,
     "start_time": "2021-12-10T19:00:11.394259",
     "status": "completed"
    },
    "tags": []
   },
   "outputs": [
    {
     "data": {
      "text/plain": [
       "<AxesSubplot:ylabel='PRODUCT'>"
      ]
     },
     "execution_count": 7,
     "metadata": {},
     "output_type": "execute_result"
    },
    {
     "data": {
      "image/png": "[encoded data removed]",
      "text/plain": [
       "<Figure size 432x288 with 1 Axes>"
      ]
     },
     "metadata": {
      "needs_background": "light"
     },
     "output_type": "display_data"
    }
   ],
   "source": [
    "df_pivot_diff.sort_values(\"stamp_2\", ascending = False)[\"stamp_2\"].head(10).plot.barh()"
   ]
  },
  {
   "cell_type": "code",
   "execution_count": null,
   "id": "extra-executive",
   "metadata": {
    "papermill": {
     "duration": 0.033364,
     "end_time": "2021-12-10T19:00:13.471382",
     "exception": false,
     "start_time": "2021-12-10T19:00:13.438018",
     "status": "completed"
    },
    "tags": []
   },
   "outputs": [],
   "source": []
  }
 ],
 "metadata": {
  "kernelspec": {
   "display_name": "Python 3",
   "language": "python",
   "name": "python3"
  },
  "language_info": {
   "codemirror_mode": {
    "name": "ipython",
    "version": 3
   },
   "file_extension": ".py",
   "mimetype": "text/x-python",
   "name": "python",
   "nbconvert_exporter": "python",
   "pygments_lexer": "ipython3",
   "version": "3.9.5"
  },
  "papermill": {
   "default_parameters": {},
   "duration": 9.640275,
   "end_time": "2021-12-10T19:00:14.225714",
   "environment_variables": {},
   "exception": null,
   "input_path": "eBay_Overview.ipynb",
   "output_path": "eBay_Overview.ipynb",
   "parameters": {},
   "start_time": "2021-12-10T19:00:04.585439",
   "version": "2.3.3"
  }
 },
 "nbformat": 4,
 "nbformat_minor": 5
}