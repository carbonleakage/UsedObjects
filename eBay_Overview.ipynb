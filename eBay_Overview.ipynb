{
 "cells": [
  {
   "cell_type": "code",
   "execution_count": 1,
   "id": "reverse-picking",
   "metadata": {
    "execution": {
     "iopub.execute_input": "2021-12-20T07:30:07.755300Z",
     "iopub.status.busy": "2021-12-20T07:30:07.752772Z",
     "iopub.status.idle": "2021-12-20T07:30:08.703429Z",
     "shell.execute_reply": "2021-12-20T07:30:08.706980Z"
    },
    "papermill": {
     "duration": 1.002735,
     "end_time": "2021-12-20T07:30:08.707741",
     "exception": false,
     "start_time": "2021-12-20T07:30:07.705006",
     "status": "completed"
    },
    "tags": []
   },
   "outputs": [],
   "source": [
    "import pandas as pd\n",
    "import sqlite3"
   ]
  },
  {
   "cell_type": "code",
   "execution_count": 2,
   "id": "innovative-syndrome",
   "metadata": {
    "execution": {
     "iopub.execute_input": "2021-12-20T07:30:08.782462Z",
     "iopub.status.busy": "2021-12-20T07:30:08.779944Z",
     "iopub.status.idle": "2021-12-20T07:30:09.887407Z",
     "shell.execute_reply": "2021-12-20T07:30:09.888802Z"
    },
    "papermill": {
     "duration": 1.145385,
     "end_time": "2021-12-20T07:30:09.889291",
     "exception": false,
     "start_time": "2021-12-20T07:30:08.743906",
     "status": "completed"
    },
    "tags": []
   },
   "outputs": [],
   "source": [
    "timestamps = pd.read_sql(\"select distinct record_time from EBAY_TOP_BERLIN order by record_time desc limit 2\", sqlite3.connect(\"UsedObjects.db\"))"
   ]
  },
  {
   "cell_type": "code",
   "execution_count": 3,
   "id": "periodic-identification",
   "metadata": {
    "execution": {
     "iopub.execute_input": "2021-12-20T07:30:09.947697Z",
     "iopub.status.busy": "2021-12-20T07:30:09.945720Z",
     "iopub.status.idle": "2021-12-20T07:30:09.991476Z",
     "shell.execute_reply": "2021-12-20T07:30:09.988858Z"
    },
    "papermill": {
     "duration": 0.079845,
     "end_time": "2021-12-20T07:30:09.991841",
     "exception": false,
     "start_time": "2021-12-20T07:30:09.911996",
     "status": "completed"
    },
    "tags": []
   },
   "outputs": [
    {
     "data": {
      "text/html": [
       "<div>\n",
       "<style scoped>\n",
       "    .dataframe tbody tr th:only-of-type {\n",
       "        vertical-align: middle;\n",
       "    }\n",
       "\n",
       "    .dataframe tbody tr th {\n",
       "        vertical-align: top;\n",
       "    }\n",
       "\n",
       "    .dataframe thead th {\n",
       "        text-align: right;\n",
       "    }\n",
       "</style>\n",
       "<table border=\"1\" class=\"dataframe\">\n",
       "  <thead>\n",
       "    <tr style=\"text-align: right;\">\n",
       "      <th></th>\n",
       "      <th>RECORD_TIME</th>\n",
       "    </tr>\n",
       "  </thead>\n",
       "  <tbody>\n",
       "    <tr>\n",
       "      <th>0</th>\n",
       "      <td>2021-12-20 08:30</td>\n",
       "    </tr>\n",
       "    <tr>\n",
       "      <th>1</th>\n",
       "      <td>2021-12-20 08:00</td>\n",
       "    </tr>\n",
       "  </tbody>\n",
       "</table>\n",
       "</div>"
      ],
      "text/plain": [
       "        RECORD_TIME\n",
       "0  2021-12-20 08:30\n",
       "1  2021-12-20 08:00"
      ]
     },
     "execution_count": 3,
     "metadata": {},
     "output_type": "execute_result"
    }
   ],
   "source": [
    "timestamps"
   ]
  },
  {
   "cell_type": "code",
   "execution_count": 4,
   "id": "alternate-victory",
   "metadata": {
    "execution": {
     "iopub.execute_input": "2021-12-20T07:30:10.055460Z",
     "iopub.status.busy": "2021-12-20T07:30:10.053195Z",
     "iopub.status.idle": "2021-12-20T07:30:11.649506Z",
     "shell.execute_reply": "2021-12-20T07:30:11.651571Z"
    },
    "papermill": {
     "duration": 1.632052,
     "end_time": "2021-12-20T07:30:11.652043",
     "exception": false,
     "start_time": "2021-12-20T07:30:10.019991",
     "status": "completed"
    },
    "tags": []
   },
   "outputs": [],
   "source": [
    "df = pd.read_sql(\"select * from EBAY_TOP_BERLIN where record_time in (select distinct record_time from EBAY_TOP_BERLIN order by record_time desc limit 2)\", sqlite3.connect(\"UsedObjects.db\"))"
   ]
  },
  {
   "cell_type": "code",
   "execution_count": 5,
   "id": "popular-active",
   "metadata": {
    "execution": {
     "iopub.execute_input": "2021-12-20T07:30:11.727237Z",
     "iopub.status.busy": "2021-12-20T07:30:11.713027Z",
     "iopub.status.idle": "2021-12-20T07:30:11.745646Z",
     "shell.execute_reply": "2021-12-20T07:30:11.747137Z"
    },
    "papermill": {
     "duration": 0.074868,
     "end_time": "2021-12-20T07:30:11.747651",
     "exception": false,
     "start_time": "2021-12-20T07:30:11.672783",
     "status": "completed"
    },
    "tags": []
   },
   "outputs": [],
   "source": [
    "df_pivot = df.pivot_table(index=\"PRODUCT\", columns = \"RECORD_TIME\", values = \"LISTING_COUNT\")"
   ]
  },
  {
   "cell_type": "code",
   "execution_count": 6,
   "id": "union-huntington",
   "metadata": {
    "execution": {
     "iopub.execute_input": "2021-12-20T07:30:11.813766Z",
     "iopub.status.busy": "2021-12-20T07:30:11.811407Z",
     "iopub.status.idle": "2021-12-20T07:30:11.818246Z",
     "shell.execute_reply": "2021-12-20T07:30:11.819690Z"
    },
    "papermill": {
     "duration": 0.051234,
     "end_time": "2021-12-20T07:30:11.820150",
     "exception": false,
     "start_time": "2021-12-20T07:30:11.768916",
     "status": "completed"
    },
    "tags": []
   },
   "outputs": [],
   "source": [
    "df_pivot.columns = [\"stamp_1\", \"stamp_2\"]\n",
    "df_pivot_diff = df_pivot.diff(axis=1)"
   ]
  },
  {
   "cell_type": "code",
   "execution_count": 7,
   "id": "fifth-motion",
   "metadata": {
    "execution": {
     "iopub.execute_input": "2021-12-20T07:30:11.876961Z",
     "iopub.status.busy": "2021-12-20T07:30:11.874405Z",
     "iopub.status.idle": "2021-12-20T07:30:13.880926Z",
     "shell.execute_reply": "2021-12-20T07:30:13.882450Z"
    },
    "papermill": {
     "duration": 2.042389,
     "end_time": "2021-12-20T07:30:13.882922",
     "exception": false,
     "start_time": "2021-12-20T07:30:11.840533",
     "status": "completed"
    },
    "tags": []
   },
   "outputs": [
    {
     "data": {
      "text/plain": [
       "<AxesSubplot:ylabel='PRODUCT'>"
      ]
     },
     "execution_count": 7,
     "metadata": {},
     "output_type": "execute_result"
    },
    {
     "data": {
      "image/png": "[encoded data removed]",
      "text/plain": [
       "<Figure size 432x288 with 1 Axes>"
      ]
     },
     "metadata": {
      "needs_background": "light"
     },
     "output_type": "display_data"
    }
   ],
   "source": [
    "df_pivot_diff.sort_values(\"stamp_2\", ascending = False)[\"stamp_2\"].head(10).plot.barh()"
   ]
  },
  {
   "cell_type": "code",
   "execution_count": null,
   "id": "extra-executive",
   "metadata": {
    "papermill": {
     "duration": 0.027519,
     "end_time": "2021-12-20T07:30:13.944677",
     "exception": false,
     "start_time": "2021-12-20T07:30:13.917158",
     "status": "completed"
    },
    "tags": []
   },
   "outputs": [],
   "source": []
  }
 ],
 "metadata": {
  "kernelspec": {
   "display_name": "Python 3",
   "language": "python",
   "name": "python3"
  },
  "language_info": {
   "codemirror_mode": {
    "name": "ipython",
    "version": 3
   },
   "file_extension": ".py",
   "mimetype": "text/x-python",
   "name": "python",
   "nbconvert_exporter": "python",
   "pygments_lexer": "ipython3",
   "version": "3.9.5"
  },
  "papermill": {
   "default_parameters": {},
   "duration": 9.634268,
   "end_time": "2021-12-20T07:30:14.590123",
   "environment_variables": {},
   "exception": null,
   "input_path": "eBay_Overview.ipynb",
   "output_path": "eBay_Overview.ipynb",
   "parameters": {},
   "start_time": "2021-12-20T07:30:04.955855",
   "version": "2.3.3"
  }
 },
 "nbformat": 4,
 "nbformat_minor": 5
}