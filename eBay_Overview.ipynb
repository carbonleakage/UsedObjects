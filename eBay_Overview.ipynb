{
 "cells": [
  {
   "cell_type": "code",
   "execution_count": 1,
   "id": "reverse-picking",
   "metadata": {
    "execution": {
     "iopub.execute_input": "2021-08-24T03:30:06.700551Z",
     "iopub.status.busy": "2021-08-24T03:30:06.698588Z",
     "iopub.status.idle": "2021-08-24T03:30:07.507722Z",
     "shell.execute_reply": "2021-08-24T03:30:07.509025Z"
    },
    "papermill": {
     "duration": 0.861181,
     "end_time": "2021-08-24T03:30:07.509634",
     "exception": false,
     "start_time": "2021-08-24T03:30:06.648453",
     "status": "completed"
    },
    "tags": []
   },
   "outputs": [],
   "source": [
    "import pandas as pd\n",
    "import sqlite3"
   ]
  },
  {
   "cell_type": "code",
   "execution_count": 2,
   "id": "innovative-syndrome",
   "metadata": {
    "execution": {
     "iopub.execute_input": "2021-08-24T03:30:07.559888Z",
     "iopub.status.busy": "2021-08-24T03:30:07.557631Z",
     "iopub.status.idle": "2021-08-24T03:30:07.676831Z",
     "shell.execute_reply": "2021-08-24T03:30:07.678213Z"
    },
    "papermill": {
     "duration": 0.148835,
     "end_time": "2021-08-24T03:30:07.678642",
     "exception": false,
     "start_time": "2021-08-24T03:30:07.529807",
     "status": "completed"
    },
    "tags": []
   },
   "outputs": [],
   "source": [
    "timestamps = pd.read_sql(\"select distinct record_time from EBAY_TOP_BERLIN order by record_time desc limit 2\", sqlite3.connect(\"UsedObjects.db\"))"
   ]
  },
  {
   "cell_type": "code",
   "execution_count": 3,
   "id": "periodic-identification",
   "metadata": {
    "execution": {
     "iopub.execute_input": "2021-08-24T03:30:07.745782Z",
     "iopub.status.busy": "2021-08-24T03:30:07.743789Z",
     "iopub.status.idle": "2021-08-24T03:30:07.763539Z",
     "shell.execute_reply": "2021-08-24T03:30:07.764925Z"
    },
    "papermill": {
     "duration": 0.065866,
     "end_time": "2021-08-24T03:30:07.765360",
     "exception": false,
     "start_time": "2021-08-24T03:30:07.699494",
     "status": "completed"
    },
    "tags": []
   },
   "outputs": [
    {
     "data": {
      "text/html": [
       "<div>\n",
       "<style scoped>\n",
       "    .dataframe tbody tr th:only-of-type {\n",
       "        vertical-align: middle;\n",
       "    }\n",
       "\n",
       "    .dataframe tbody tr th {\n",
       "        vertical-align: top;\n",
       "    }\n",
       "\n",
       "    .dataframe thead th {\n",
       "        text-align: right;\n",
       "    }\n",
       "</style>\n",
       "<table border=\"1\" class=\"dataframe\">\n",
       "  <thead>\n",
       "    <tr style=\"text-align: right;\">\n",
       "      <th></th>\n",
       "      <th>RECORD_TIME</th>\n",
       "    </tr>\n",
       "  </thead>\n",
       "  <tbody>\n",
       "    <tr>\n",
       "      <th>0</th>\n",
       "      <td>2021-08-24 05:30</td>\n",
       "    </tr>\n",
       "    <tr>\n",
       "      <th>1</th>\n",
       "      <td>2021-08-24 05:00</td>\n",
       "    </tr>\n",
       "  </tbody>\n",
       "</table>\n",
       "</div>"
      ],
      "text/plain": [
       "        RECORD_TIME\n",
       "0  2021-08-24 05:30\n",
       "1  2021-08-24 05:00"
      ]
     },
     "execution_count": 3,
     "metadata": {},
     "output_type": "execute_result"
    }
   ],
   "source": [
    "timestamps"
   ]
  },
  {
   "cell_type": "code",
   "execution_count": 4,
   "id": "alternate-victory",
   "metadata": {
    "execution": {
     "iopub.execute_input": "2021-08-24T03:30:07.816690Z",
     "iopub.status.busy": "2021-08-24T03:30:07.814683Z",
     "iopub.status.idle": "2021-08-24T03:30:07.987457Z",
     "shell.execute_reply": "2021-08-24T03:30:07.988666Z"
    },
    "papermill": {
     "duration": 0.203022,
     "end_time": "2021-08-24T03:30:07.989059",
     "exception": false,
     "start_time": "2021-08-24T03:30:07.786037",
     "status": "completed"
    },
    "tags": []
   },
   "outputs": [],
   "source": [
    "df = pd.read_sql(\"select * from EBAY_TOP_BERLIN where record_time in (select distinct record_time from EBAY_TOP_BERLIN order by record_time desc limit 2)\", sqlite3.connect(\"UsedObjects.db\"))"
   ]
  },
  {
   "cell_type": "code",
   "execution_count": 5,
   "id": "popular-active",
   "metadata": {
    "execution": {
     "iopub.execute_input": "2021-08-24T03:30:08.059650Z",
     "iopub.status.busy": "2021-08-24T03:30:08.049114Z",
     "iopub.status.idle": "2021-08-24T03:30:08.075331Z",
     "shell.execute_reply": "2021-08-24T03:30:08.076543Z"
    },
    "papermill": {
     "duration": 0.0675,
     "end_time": "2021-08-24T03:30:08.076938",
     "exception": false,
     "start_time": "2021-08-24T03:30:08.009438",
     "status": "completed"
    },
    "tags": []
   },
   "outputs": [],
   "source": [
    "df_pivot = df.pivot_table(index=\"PRODUCT\", columns = \"RECORD_TIME\", values = \"LISTING_COUNT\")"
   ]
  },
  {
   "cell_type": "code",
   "execution_count": 6,
   "id": "union-huntington",
   "metadata": {
    "execution": {
     "iopub.execute_input": "2021-08-24T03:30:08.133733Z",
     "iopub.status.busy": "2021-08-24T03:30:08.131701Z",
     "iopub.status.idle": "2021-08-24T03:30:08.137321Z",
     "shell.execute_reply": "2021-08-24T03:30:08.138687Z"
    },
    "papermill": {
     "duration": 0.040658,
     "end_time": "2021-08-24T03:30:08.139111",
     "exception": false,
     "start_time": "2021-08-24T03:30:08.098453",
     "status": "completed"
    },
    "tags": []
   },
   "outputs": [],
   "source": [
    "df_pivot.columns = [\"stamp_1\", \"stamp_2\"]\n",
    "df_pivot_diff = df_pivot.diff(axis=1)"
   ]
  },
  {
   "cell_type": "code",
   "execution_count": 7,
   "id": "fifth-motion",
   "metadata": {
    "execution": {
     "iopub.execute_input": "2021-08-24T03:30:08.195943Z",
     "iopub.status.busy": "2021-08-24T03:30:08.193390Z",
     "iopub.status.idle": "2021-08-24T03:30:09.671792Z",
     "shell.execute_reply": "2021-08-24T03:30:09.673085Z"
    },
    "papermill": {
     "duration": 1.511413,
     "end_time": "2021-08-24T03:30:09.673505",
     "exception": false,
     "start_time": "2021-08-24T03:30:08.162092",
     "status": "completed"
    },
    "tags": []
   },
   "outputs": [
    {
     "data": {
      "text/plain": [
       "<AxesSubplot:ylabel='PRODUCT'>"
      ]
     },
     "execution_count": 7,
     "metadata": {},
     "output_type": "execute_result"
    },
    {
     "data": {
      "image/png": "[encoded data removed]",
      "text/plain": [
       "<Figure size 432x288 with 1 Axes>"
      ]
     },
     "metadata": {
      "needs_background": "light"
     },
     "output_type": "display_data"
    }
   ],
   "source": [
    "df_pivot_diff.sort_values(\"stamp_2\", ascending = False)[\"stamp_2\"].head(10).plot.barh()"
   ]
  },
  {
   "cell_type": "code",
   "execution_count": null,
   "id": "extra-executive",
   "metadata": {
    "papermill": {
     "duration": 0.021932,
     "end_time": "2021-08-24T03:30:09.719904",
     "exception": false,
     "start_time": "2021-08-24T03:30:09.697972",
     "status": "completed"
    },
    "tags": []
   },
   "outputs": [],
   "source": []
  }
 ],
 "metadata": {
  "kernelspec": {
   "display_name": "Python 3",
   "language": "python",
   "name": "python3"
  },
  "language_info": {
   "codemirror_mode": {
    "name": "ipython",
    "version": 3
   },
   "file_extension": ".py",
   "mimetype": "text/x-python",
   "name": "python",
   "nbconvert_exporter": "python",
   "pygments_lexer": "ipython3",
   "version": "3.9.5"
  },
  "papermill": {
   "default_parameters": {},
   "duration": 6.826464,
   "end_time": "2021-08-24T03:30:11.057723",
   "environment_variables": {},
   "exception": null,
   "input_path": "eBay_Overview.ipynb",
   "output_path": "eBay_Overview.ipynb",
   "parameters": {},
   "start_time": "2021-08-24T03:30:04.231259",
   "version": "2.3.3"
  }
 },
 "nbformat": 4,
 "nbformat_minor": 5
}