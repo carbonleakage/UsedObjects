{
 "cells": [
  {
   "cell_type": "code",
   "execution_count": 1,
   "id": "reverse-picking",
   "metadata": {
    "execution": {
     "iopub.execute_input": "2021-10-27T17:00:08.135668Z",
     "iopub.status.busy": "2021-10-27T17:00:08.133723Z",
     "iopub.status.idle": "2021-10-27T17:00:08.936527Z",
     "shell.execute_reply": "2021-10-27T17:00:08.937968Z"
    },
    "papermill": {
     "duration": 0.853547,
     "end_time": "2021-10-27T17:00:08.938616",
     "exception": false,
     "start_time": "2021-10-27T17:00:08.085069",
     "status": "completed"
    },
    "tags": []
   },
   "outputs": [],
   "source": [
    "import pandas as pd\n",
    "import sqlite3"
   ]
  },
  {
   "cell_type": "code",
   "execution_count": 2,
   "id": "innovative-syndrome",
   "metadata": {
    "execution": {
     "iopub.execute_input": "2021-10-27T17:00:08.989169Z",
     "iopub.status.busy": "2021-10-27T17:00:08.987138Z",
     "iopub.status.idle": "2021-10-27T17:00:09.625876Z",
     "shell.execute_reply": "2021-10-27T17:00:09.627098Z"
    },
    "papermill": {
     "duration": 0.668737,
     "end_time": "2021-10-27T17:00:09.627498",
     "exception": false,
     "start_time": "2021-10-27T17:00:08.958761",
     "status": "completed"
    },
    "tags": []
   },
   "outputs": [],
   "source": [
    "timestamps = pd.read_sql(\"select distinct record_time from EBAY_TOP_BERLIN order by record_time desc limit 2\", sqlite3.connect(\"UsedObjects.db\"))"
   ]
  },
  {
   "cell_type": "code",
   "execution_count": 3,
   "id": "periodic-identification",
   "metadata": {
    "execution": {
     "iopub.execute_input": "2021-10-27T17:00:09.703710Z",
     "iopub.status.busy": "2021-10-27T17:00:09.701711Z",
     "iopub.status.idle": "2021-10-27T17:00:09.721686Z",
     "shell.execute_reply": "2021-10-27T17:00:09.722955Z"
    },
    "papermill": {
     "duration": 0.067731,
     "end_time": "2021-10-27T17:00:09.723358",
     "exception": false,
     "start_time": "2021-10-27T17:00:09.655627",
     "status": "completed"
    },
    "tags": []
   },
   "outputs": [
    {
     "data": {
      "text/html": [
       "<div>\n",
       "<style scoped>\n",
       "    .dataframe tbody tr th:only-of-type {\n",
       "        vertical-align: middle;\n",
       "    }\n",
       "\n",
       "    .dataframe tbody tr th {\n",
       "        vertical-align: top;\n",
       "    }\n",
       "\n",
       "    .dataframe thead th {\n",
       "        text-align: right;\n",
       "    }\n",
       "</style>\n",
       "<table border=\"1\" class=\"dataframe\">\n",
       "  <thead>\n",
       "    <tr style=\"text-align: right;\">\n",
       "      <th></th>\n",
       "      <th>RECORD_TIME</th>\n",
       "    </tr>\n",
       "  </thead>\n",
       "  <tbody>\n",
       "    <tr>\n",
       "      <th>0</th>\n",
       "      <td>2021-10-27 19:00</td>\n",
       "    </tr>\n",
       "    <tr>\n",
       "      <th>1</th>\n",
       "      <td>2021-10-27 18:30</td>\n",
       "    </tr>\n",
       "  </tbody>\n",
       "</table>\n",
       "</div>"
      ],
      "text/plain": [
       "        RECORD_TIME\n",
       "0  2021-10-27 19:00\n",
       "1  2021-10-27 18:30"
      ]
     },
     "execution_count": 3,
     "metadata": {},
     "output_type": "execute_result"
    }
   ],
   "source": [
    "timestamps"
   ]
  },
  {
   "cell_type": "code",
   "execution_count": 4,
   "id": "alternate-victory",
   "metadata": {
    "execution": {
     "iopub.execute_input": "2021-10-27T17:00:09.774926Z",
     "iopub.status.busy": "2021-10-27T17:00:09.772755Z",
     "iopub.status.idle": "2021-10-27T17:00:10.736146Z",
     "shell.execute_reply": "2021-10-27T17:00:10.737421Z"
    },
    "papermill": {
     "duration": 0.993413,
     "end_time": "2021-10-27T17:00:10.737831",
     "exception": false,
     "start_time": "2021-10-27T17:00:09.744418",
     "status": "completed"
    },
    "tags": []
   },
   "outputs": [],
   "source": [
    "df = pd.read_sql(\"select * from EBAY_TOP_BERLIN where record_time in (select distinct record_time from EBAY_TOP_BERLIN order by record_time desc limit 2)\", sqlite3.connect(\"UsedObjects.db\"))"
   ]
  },
  {
   "cell_type": "code",
   "execution_count": 5,
   "id": "popular-active",
   "metadata": {
    "execution": {
     "iopub.execute_input": "2021-10-27T17:00:10.809050Z",
     "iopub.status.busy": "2021-10-27T17:00:10.802132Z",
     "iopub.status.idle": "2021-10-27T17:00:10.824616Z",
     "shell.execute_reply": "2021-10-27T17:00:10.825971Z"
    },
    "papermill": {
     "duration": 0.067729,
     "end_time": "2021-10-27T17:00:10.826393",
     "exception": false,
     "start_time": "2021-10-27T17:00:10.758664",
     "status": "completed"
    },
    "tags": []
   },
   "outputs": [],
   "source": [
    "df_pivot = df.pivot_table(index=\"PRODUCT\", columns = \"RECORD_TIME\", values = \"LISTING_COUNT\")"
   ]
  },
  {
   "cell_type": "code",
   "execution_count": 6,
   "id": "union-huntington",
   "metadata": {
    "execution": {
     "iopub.execute_input": "2021-10-27T17:00:10.882706Z",
     "iopub.status.busy": "2021-10-27T17:00:10.880744Z",
     "iopub.status.idle": "2021-10-27T17:00:10.885834Z",
     "shell.execute_reply": "2021-10-27T17:00:10.887062Z"
    },
    "papermill": {
     "duration": 0.039757,
     "end_time": "2021-10-27T17:00:10.887464",
     "exception": false,
     "start_time": "2021-10-27T17:00:10.847707",
     "status": "completed"
    },
    "tags": []
   },
   "outputs": [],
   "source": [
    "df_pivot.columns = [\"stamp_1\", \"stamp_2\"]\n",
    "df_pivot_diff = df_pivot.diff(axis=1)"
   ]
  },
  {
   "cell_type": "code",
   "execution_count": 7,
   "id": "fifth-motion",
   "metadata": {
    "execution": {
     "iopub.execute_input": "2021-10-27T17:00:10.944189Z",
     "iopub.status.busy": "2021-10-27T17:00:10.941588Z",
     "iopub.status.idle": "2021-10-27T17:00:12.401826Z",
     "shell.execute_reply": "2021-10-27T17:00:12.403283Z"
    },
    "papermill": {
     "duration": 1.494258,
     "end_time": "2021-10-27T17:00:12.403757",
     "exception": false,
     "start_time": "2021-10-27T17:00:10.909499",
     "status": "completed"
    },
    "tags": []
   },
   "outputs": [
    {
     "data": {
      "text/plain": [
       "<AxesSubplot:ylabel='PRODUCT'>"
      ]
     },
     "execution_count": 7,
     "metadata": {},
     "output_type": "execute_result"
    },
    {
     "data": {
      "image/png": "[encoded data removed]",
      "text/plain": [
       "<Figure size 432x288 with 1 Axes>"
      ]
     },
     "metadata": {
      "needs_background": "light"
     },
     "output_type": "display_data"
    }
   ],
   "source": [
    "df_pivot_diff.sort_values(\"stamp_2\", ascending = False)[\"stamp_2\"].head(10).plot.barh()"
   ]
  },
  {
   "cell_type": "code",
   "execution_count": null,
   "id": "extra-executive",
   "metadata": {
    "papermill": {
     "duration": 0.0222,
     "end_time": "2021-10-27T17:00:12.450873",
     "exception": false,
     "start_time": "2021-10-27T17:00:12.428673",
     "status": "completed"
    },
    "tags": []
   },
   "outputs": [],
   "source": []
  }
 ],
 "metadata": {
  "kernelspec": {
   "display_name": "Python 3",
   "language": "python",
   "name": "python3"
  },
  "language_info": {
   "codemirror_mode": {
    "name": "ipython",
    "version": 3
   },
   "file_extension": ".py",
   "mimetype": "text/x-python",
   "name": "python",
   "nbconvert_exporter": "python",
   "pygments_lexer": "ipython3",
   "version": "3.9.5"
  },
  "papermill": {
   "default_parameters": {},
   "duration": 7.410569,
   "end_time": "2021-10-27T17:00:13.094692",
   "environment_variables": {},
   "exception": null,
   "input_path": "eBay_Overview.ipynb",
   "output_path": "eBay_Overview.ipynb",
   "parameters": {},
   "start_time": "2021-10-27T17:00:05.684123",
   "version": "2.3.3"
  }
 },
 "nbformat": 4,
 "nbformat_minor": 5
}