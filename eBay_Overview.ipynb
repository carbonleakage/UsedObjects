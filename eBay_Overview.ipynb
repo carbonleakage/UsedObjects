{
 "cells": [
  {
   "cell_type": "code",
   "execution_count": 1,
   "id": "reverse-picking",
   "metadata": {
    "execution": {
     "iopub.execute_input": "2021-09-04T04:30:06.472933Z",
     "iopub.status.busy": "2021-09-04T04:30:06.471020Z",
     "iopub.status.idle": "2021-09-04T04:30:07.272934Z",
     "shell.execute_reply": "2021-09-04T04:30:07.274246Z"
    },
    "papermill": {
     "duration": 0.85376,
     "end_time": "2021-09-04T04:30:07.274951",
     "exception": false,
     "start_time": "2021-09-04T04:30:06.421191",
     "status": "completed"
    },
    "tags": []
   },
   "outputs": [],
   "source": [
    "import pandas as pd\n",
    "import sqlite3"
   ]
  },
  {
   "cell_type": "code",
   "execution_count": 2,
   "id": "innovative-syndrome",
   "metadata": {
    "execution": {
     "iopub.execute_input": "2021-09-04T04:30:07.325688Z",
     "iopub.status.busy": "2021-09-04T04:30:07.323487Z",
     "iopub.status.idle": "2021-09-04T04:30:07.522913Z",
     "shell.execute_reply": "2021-09-04T04:30:07.524223Z"
    },
    "papermill": {
     "duration": 0.229509,
     "end_time": "2021-09-04T04:30:07.524683",
     "exception": false,
     "start_time": "2021-09-04T04:30:07.295174",
     "status": "completed"
    },
    "tags": []
   },
   "outputs": [],
   "source": [
    "timestamps = pd.read_sql(\"select distinct record_time from EBAY_TOP_BERLIN order by record_time desc limit 2\", sqlite3.connect(\"UsedObjects.db\"))"
   ]
  },
  {
   "cell_type": "code",
   "execution_count": 3,
   "id": "periodic-identification",
   "metadata": {
    "execution": {
     "iopub.execute_input": "2021-09-04T04:30:07.590797Z",
     "iopub.status.busy": "2021-09-04T04:30:07.588786Z",
     "iopub.status.idle": "2021-09-04T04:30:07.609080Z",
     "shell.execute_reply": "2021-09-04T04:30:07.610658Z"
    },
    "papermill": {
     "duration": 0.066589,
     "end_time": "2021-09-04T04:30:07.611233",
     "exception": false,
     "start_time": "2021-09-04T04:30:07.544644",
     "status": "completed"
    },
    "tags": []
   },
   "outputs": [
    {
     "data": {
      "text/html": [
       "<div>\n",
       "<style scoped>\n",
       "    .dataframe tbody tr th:only-of-type {\n",
       "        vertical-align: middle;\n",
       "    }\n",
       "\n",
       "    .dataframe tbody tr th {\n",
       "        vertical-align: top;\n",
       "    }\n",
       "\n",
       "    .dataframe thead th {\n",
       "        text-align: right;\n",
       "    }\n",
       "</style>\n",
       "<table border=\"1\" class=\"dataframe\">\n",
       "  <thead>\n",
       "    <tr style=\"text-align: right;\">\n",
       "      <th></th>\n",
       "      <th>RECORD_TIME</th>\n",
       "    </tr>\n",
       "  </thead>\n",
       "  <tbody>\n",
       "    <tr>\n",
       "      <th>0</th>\n",
       "      <td>2021-09-04 06:30</td>\n",
       "    </tr>\n",
       "    <tr>\n",
       "      <th>1</th>\n",
       "      <td>2021-09-04 06:00</td>\n",
       "    </tr>\n",
       "  </tbody>\n",
       "</table>\n",
       "</div>"
      ],
      "text/plain": [
       "        RECORD_TIME\n",
       "0  2021-09-04 06:30\n",
       "1  2021-09-04 06:00"
      ]
     },
     "execution_count": 3,
     "metadata": {},
     "output_type": "execute_result"
    }
   ],
   "source": [
    "timestamps"
   ]
  },
  {
   "cell_type": "code",
   "execution_count": 4,
   "id": "alternate-victory",
   "metadata": {
    "execution": {
     "iopub.execute_input": "2021-09-04T04:30:07.663166Z",
     "iopub.status.busy": "2021-09-04T04:30:07.661243Z",
     "iopub.status.idle": "2021-09-04T04:30:07.965432Z",
     "shell.execute_reply": "2021-09-04T04:30:07.966713Z"
    },
    "papermill": {
     "duration": 0.334186,
     "end_time": "2021-09-04T04:30:07.967192",
     "exception": false,
     "start_time": "2021-09-04T04:30:07.633006",
     "status": "completed"
    },
    "tags": []
   },
   "outputs": [],
   "source": [
    "df = pd.read_sql(\"select * from EBAY_TOP_BERLIN where record_time in (select distinct record_time from EBAY_TOP_BERLIN order by record_time desc limit 2)\", sqlite3.connect(\"UsedObjects.db\"))"
   ]
  },
  {
   "cell_type": "code",
   "execution_count": 5,
   "id": "popular-active",
   "metadata": {
    "execution": {
     "iopub.execute_input": "2021-09-04T04:30:08.047693Z",
     "iopub.status.busy": "2021-09-04T04:30:08.036123Z",
     "iopub.status.idle": "2021-09-04T04:30:08.063314Z",
     "shell.execute_reply": "2021-09-04T04:30:08.064546Z"
    },
    "papermill": {
     "duration": 0.071842,
     "end_time": "2021-09-04T04:30:08.064946",
     "exception": false,
     "start_time": "2021-09-04T04:30:07.993104",
     "status": "completed"
    },
    "tags": []
   },
   "outputs": [],
   "source": [
    "df_pivot = df.pivot_table(index=\"PRODUCT\", columns = \"RECORD_TIME\", values = \"LISTING_COUNT\")"
   ]
  },
  {
   "cell_type": "code",
   "execution_count": 6,
   "id": "union-huntington",
   "metadata": {
    "execution": {
     "iopub.execute_input": "2021-09-04T04:30:08.122791Z",
     "iopub.status.busy": "2021-09-04T04:30:08.120528Z",
     "iopub.status.idle": "2021-09-04T04:30:08.126146Z",
     "shell.execute_reply": "2021-09-04T04:30:08.127506Z"
    },
    "papermill": {
     "duration": 0.041375,
     "end_time": "2021-09-04T04:30:08.127933",
     "exception": false,
     "start_time": "2021-09-04T04:30:08.086558",
     "status": "completed"
    },
    "tags": []
   },
   "outputs": [],
   "source": [
    "df_pivot.columns = [\"stamp_1\", \"stamp_2\"]\n",
    "df_pivot_diff = df_pivot.diff(axis=1)"
   ]
  },
  {
   "cell_type": "code",
   "execution_count": 7,
   "id": "fifth-motion",
   "metadata": {
    "execution": {
     "iopub.execute_input": "2021-09-04T04:30:08.181880Z",
     "iopub.status.busy": "2021-09-04T04:30:08.179679Z",
     "iopub.status.idle": "2021-09-04T04:30:09.662618Z",
     "shell.execute_reply": "2021-09-04T04:30:09.663963Z"
    },
    "papermill": {
     "duration": 1.515765,
     "end_time": "2021-09-04T04:30:09.664385",
     "exception": false,
     "start_time": "2021-09-04T04:30:08.148620",
     "status": "completed"
    },
    "tags": []
   },
   "outputs": [
    {
     "data": {
      "text/plain": [
       "<AxesSubplot:ylabel='PRODUCT'>"
      ]
     },
     "execution_count": 7,
     "metadata": {},
     "output_type": "execute_result"
    },
    {
     "data": {
      "image/png": "[encoded data removed]",
      "text/plain": [
       "<Figure size 432x288 with 1 Axes>"
      ]
     },
     "metadata": {
      "needs_background": "light"
     },
     "output_type": "display_data"
    }
   ],
   "source": [
    "df_pivot_diff.sort_values(\"stamp_2\", ascending = False)[\"stamp_2\"].head(10).plot.barh()"
   ]
  },
  {
   "cell_type": "code",
   "execution_count": null,
   "id": "extra-executive",
   "metadata": {
    "papermill": {
     "duration": 0.022325,
     "end_time": "2021-09-04T04:30:09.711736",
     "exception": false,
     "start_time": "2021-09-04T04:30:09.689411",
     "status": "completed"
    },
    "tags": []
   },
   "outputs": [],
   "source": []
  }
 ],
 "metadata": {
  "kernelspec": {
   "display_name": "Python 3",
   "language": "python",
   "name": "python3"
  },
  "language_info": {
   "codemirror_mode": {
    "name": "ipython",
    "version": 3
   },
   "file_extension": ".py",
   "mimetype": "text/x-python",
   "name": "python",
   "nbconvert_exporter": "python",
   "pygments_lexer": "ipython3",
   "version": "3.9.5"
  },
  "papermill": {
   "default_parameters": {},
   "duration": 6.331666,
   "end_time": "2021-09-04T04:30:10.353266",
   "environment_variables": {},
   "exception": null,
   "input_path": "eBay_Overview.ipynb",
   "output_path": "eBay_Overview.ipynb",
   "parameters": {},
   "start_time": "2021-09-04T04:30:04.021600",
   "version": "2.3.3"
  }
 },
 "nbformat": 4,
 "nbformat_minor": 5
}