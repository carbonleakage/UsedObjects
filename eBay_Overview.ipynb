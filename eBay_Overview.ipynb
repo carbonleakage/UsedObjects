{
 "cells": [
  {
   "cell_type": "code",
   "execution_count": 1,
   "id": "reverse-picking",
   "metadata": {
    "execution": {
     "iopub.execute_input": "2021-09-19T05:30:07.480682Z",
     "iopub.status.busy": "2021-09-19T05:30:07.478683Z",
     "iopub.status.idle": "2021-09-19T05:30:08.283284Z",
     "shell.execute_reply": "2021-09-19T05:30:08.284628Z"
    },
    "papermill": {
     "duration": 0.857198,
     "end_time": "2021-09-19T05:30:08.285266",
     "exception": false,
     "start_time": "2021-09-19T05:30:07.428068",
     "status": "completed"
    },
    "tags": []
   },
   "outputs": [],
   "source": [
    "import pandas as pd\n",
    "import sqlite3"
   ]
  },
  {
   "cell_type": "code",
   "execution_count": 2,
   "id": "innovative-syndrome",
   "metadata": {
    "execution": {
     "iopub.execute_input": "2021-09-19T05:30:08.336507Z",
     "iopub.status.busy": "2021-09-19T05:30:08.334564Z",
     "iopub.status.idle": "2021-09-19T05:30:08.655216Z",
     "shell.execute_reply": "2021-09-19T05:30:08.656619Z"
    },
    "papermill": {
     "duration": 0.350466,
     "end_time": "2021-09-19T05:30:08.657041",
     "exception": false,
     "start_time": "2021-09-19T05:30:08.306575",
     "status": "completed"
    },
    "tags": []
   },
   "outputs": [],
   "source": [
    "timestamps = pd.read_sql(\"select distinct record_time from EBAY_TOP_BERLIN order by record_time desc limit 2\", sqlite3.connect(\"UsedObjects.db\"))"
   ]
  },
  {
   "cell_type": "code",
   "execution_count": 3,
   "id": "periodic-identification",
   "metadata": {
    "execution": {
     "iopub.execute_input": "2021-09-19T05:30:08.722384Z",
     "iopub.status.busy": "2021-09-19T05:30:08.720387Z",
     "iopub.status.idle": "2021-09-19T05:30:08.740300Z",
     "shell.execute_reply": "2021-09-19T05:30:08.741568Z"
    },
    "papermill": {
     "duration": 0.06522,
     "end_time": "2021-09-19T05:30:08.741977",
     "exception": false,
     "start_time": "2021-09-19T05:30:08.676757",
     "status": "completed"
    },
    "tags": []
   },
   "outputs": [
    {
     "data": {
      "text/html": [
       "<div>\n",
       "<style scoped>\n",
       "    .dataframe tbody tr th:only-of-type {\n",
       "        vertical-align: middle;\n",
       "    }\n",
       "\n",
       "    .dataframe tbody tr th {\n",
       "        vertical-align: top;\n",
       "    }\n",
       "\n",
       "    .dataframe thead th {\n",
       "        text-align: right;\n",
       "    }\n",
       "</style>\n",
       "<table border=\"1\" class=\"dataframe\">\n",
       "  <thead>\n",
       "    <tr style=\"text-align: right;\">\n",
       "      <th></th>\n",
       "      <th>RECORD_TIME</th>\n",
       "    </tr>\n",
       "  </thead>\n",
       "  <tbody>\n",
       "    <tr>\n",
       "      <th>0</th>\n",
       "      <td>2021-09-19 07:30</td>\n",
       "    </tr>\n",
       "    <tr>\n",
       "      <th>1</th>\n",
       "      <td>2021-09-19 07:00</td>\n",
       "    </tr>\n",
       "  </tbody>\n",
       "</table>\n",
       "</div>"
      ],
      "text/plain": [
       "        RECORD_TIME\n",
       "0  2021-09-19 07:30\n",
       "1  2021-09-19 07:00"
      ]
     },
     "execution_count": 3,
     "metadata": {},
     "output_type": "execute_result"
    }
   ],
   "source": [
    "timestamps"
   ]
  },
  {
   "cell_type": "code",
   "execution_count": 4,
   "id": "alternate-victory",
   "metadata": {
    "execution": {
     "iopub.execute_input": "2021-09-19T05:30:08.793787Z",
     "iopub.status.busy": "2021-09-19T05:30:08.791975Z",
     "iopub.status.idle": "2021-09-19T05:30:09.270350Z",
     "shell.execute_reply": "2021-09-19T05:30:09.271647Z"
    },
    "papermill": {
     "duration": 0.508538,
     "end_time": "2021-09-19T05:30:09.272048",
     "exception": false,
     "start_time": "2021-09-19T05:30:08.763510",
     "status": "completed"
    },
    "tags": []
   },
   "outputs": [],
   "source": [
    "df = pd.read_sql(\"select * from EBAY_TOP_BERLIN where record_time in (select distinct record_time from EBAY_TOP_BERLIN order by record_time desc limit 2)\", sqlite3.connect(\"UsedObjects.db\"))"
   ]
  },
  {
   "cell_type": "code",
   "execution_count": 5,
   "id": "popular-active",
   "metadata": {
    "execution": {
     "iopub.execute_input": "2021-09-19T05:30:09.353005Z",
     "iopub.status.busy": "2021-09-19T05:30:09.340457Z",
     "iopub.status.idle": "2021-09-19T05:30:09.369641Z",
     "shell.execute_reply": "2021-09-19T05:30:09.370986Z"
    },
    "papermill": {
     "duration": 0.073181,
     "end_time": "2021-09-19T05:30:09.371408",
     "exception": false,
     "start_time": "2021-09-19T05:30:09.298227",
     "status": "completed"
    },
    "tags": []
   },
   "outputs": [],
   "source": [
    "df_pivot = df.pivot_table(index=\"PRODUCT\", columns = \"RECORD_TIME\", values = \"LISTING_COUNT\")"
   ]
  },
  {
   "cell_type": "code",
   "execution_count": 6,
   "id": "union-huntington",
   "metadata": {
    "execution": {
     "iopub.execute_input": "2021-09-19T05:30:09.428538Z",
     "iopub.status.busy": "2021-09-19T05:30:09.426317Z",
     "iopub.status.idle": "2021-09-19T05:30:09.431758Z",
     "shell.execute_reply": "2021-09-19T05:30:09.433132Z"
    },
    "papermill": {
     "duration": 0.041103,
     "end_time": "2021-09-19T05:30:09.433568",
     "exception": false,
     "start_time": "2021-09-19T05:30:09.392465",
     "status": "completed"
    },
    "tags": []
   },
   "outputs": [],
   "source": [
    "df_pivot.columns = [\"stamp_1\", \"stamp_2\"]\n",
    "df_pivot_diff = df_pivot.diff(axis=1)"
   ]
  },
  {
   "cell_type": "code",
   "execution_count": 7,
   "id": "fifth-motion",
   "metadata": {
    "execution": {
     "iopub.execute_input": "2021-09-19T05:30:09.488200Z",
     "iopub.status.busy": "2021-09-19T05:30:09.485613Z",
     "iopub.status.idle": "2021-09-19T05:30:10.971049Z",
     "shell.execute_reply": "2021-09-19T05:30:10.972246Z"
    },
    "papermill": {
     "duration": 1.518374,
     "end_time": "2021-09-19T05:30:10.972675",
     "exception": false,
     "start_time": "2021-09-19T05:30:09.454301",
     "status": "completed"
    },
    "tags": []
   },
   "outputs": [
    {
     "data": {
      "text/plain": [
       "<AxesSubplot:ylabel='PRODUCT'>"
      ]
     },
     "execution_count": 7,
     "metadata": {},
     "output_type": "execute_result"
    },
    {
     "data": {
      "image/png": "[encoded data removed]",
      "text/plain": [
       "<Figure size 432x288 with 1 Axes>"
      ]
     },
     "metadata": {
      "needs_background": "light"
     },
     "output_type": "display_data"
    }
   ],
   "source": [
    "df_pivot_diff.sort_values(\"stamp_2\", ascending = False)[\"stamp_2\"].head(10).plot.barh()"
   ]
  },
  {
   "cell_type": "code",
   "execution_count": null,
   "id": "extra-executive",
   "metadata": {
    "papermill": {
     "duration": 0.022488,
     "end_time": "2021-09-19T05:30:11.020182",
     "exception": false,
     "start_time": "2021-09-19T05:30:10.997694",
     "status": "completed"
    },
    "tags": []
   },
   "outputs": [],
   "source": []
  }
 ],
 "metadata": {
  "kernelspec": {
   "display_name": "Python 3",
   "language": "python",
   "name": "python3"
  },
  "language_info": {
   "codemirror_mode": {
    "name": "ipython",
    "version": 3
   },
   "file_extension": ".py",
   "mimetype": "text/x-python",
   "name": "python",
   "nbconvert_exporter": "python",
   "pygments_lexer": "ipython3",
   "version": "3.9.5"
  },
  "papermill": {
   "default_parameters": {},
   "duration": 6.627811,
   "end_time": "2021-09-19T05:30:11.661630",
   "environment_variables": {},
   "exception": null,
   "input_path": "eBay_Overview.ipynb",
   "output_path": "eBay_Overview.ipynb",
   "parameters": {},
   "start_time": "2021-09-19T05:30:05.033819",
   "version": "2.3.3"
  }
 },
 "nbformat": 4,
 "nbformat_minor": 5
}