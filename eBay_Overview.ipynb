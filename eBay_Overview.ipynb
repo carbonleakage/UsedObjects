{
 "cells": [
  {
   "cell_type": "code",
   "execution_count": 1,
   "id": "reverse-picking",
   "metadata": {
    "execution": {
     "iopub.execute_input": "2021-11-28T17:00:07.966753Z",
     "iopub.status.busy": "2021-11-28T17:00:07.964317Z",
     "iopub.status.idle": "2021-11-28T17:00:08.933839Z",
     "shell.execute_reply": "2021-11-28T17:00:08.935417Z"
    },
    "papermill": {
     "duration": 1.019022,
     "end_time": "2021-11-28T17:00:08.936123",
     "exception": false,
     "start_time": "2021-11-28T17:00:07.917101",
     "status": "completed"
    },
    "tags": []
   },
   "outputs": [],
   "source": [
    "import pandas as pd\n",
    "import sqlite3"
   ]
  },
  {
   "cell_type": "code",
   "execution_count": 2,
   "id": "innovative-syndrome",
   "metadata": {
    "execution": {
     "iopub.execute_input": "2021-11-28T17:00:08.997770Z",
     "iopub.status.busy": "2021-11-28T17:00:08.995260Z",
     "iopub.status.idle": "2021-11-28T17:00:09.947676Z",
     "shell.execute_reply": "2021-11-28T17:00:09.949278Z"
    },
    "papermill": {
     "duration": 0.986262,
     "end_time": "2021-11-28T17:00:09.949779",
     "exception": false,
     "start_time": "2021-11-28T17:00:08.963517",
     "status": "completed"
    },
    "tags": []
   },
   "outputs": [],
   "source": [
    "timestamps = pd.read_sql(\"select distinct record_time from EBAY_TOP_BERLIN order by record_time desc limit 2\", sqlite3.connect(\"UsedObjects.db\"))"
   ]
  },
  {
   "cell_type": "code",
   "execution_count": 3,
   "id": "periodic-identification",
   "metadata": {
    "execution": {
     "iopub.execute_input": "2021-11-28T17:00:10.025298Z",
     "iopub.status.busy": "2021-11-28T17:00:10.018965Z",
     "iopub.status.idle": "2021-11-28T17:00:10.042041Z",
     "shell.execute_reply": "2021-11-28T17:00:10.044184Z"
    },
    "papermill": {
     "duration": 0.073789,
     "end_time": "2021-11-28T17:00:10.044789",
     "exception": false,
     "start_time": "2021-11-28T17:00:09.971000",
     "status": "completed"
    },
    "tags": []
   },
   "outputs": [
    {
     "data": {
      "text/html": [
       "<div>\n",
       "<style scoped>\n",
       "    .dataframe tbody tr th:only-of-type {\n",
       "        vertical-align: middle;\n",
       "    }\n",
       "\n",
       "    .dataframe tbody tr th {\n",
       "        vertical-align: top;\n",
       "    }\n",
       "\n",
       "    .dataframe thead th {\n",
       "        text-align: right;\n",
       "    }\n",
       "</style>\n",
       "<table border=\"1\" class=\"dataframe\">\n",
       "  <thead>\n",
       "    <tr style=\"text-align: right;\">\n",
       "      <th></th>\n",
       "      <th>RECORD_TIME</th>\n",
       "    </tr>\n",
       "  </thead>\n",
       "  <tbody>\n",
       "    <tr>\n",
       "      <th>0</th>\n",
       "      <td>2021-11-28 18:00</td>\n",
       "    </tr>\n",
       "    <tr>\n",
       "      <th>1</th>\n",
       "      <td>2021-11-28 17:30</td>\n",
       "    </tr>\n",
       "  </tbody>\n",
       "</table>\n",
       "</div>"
      ],
      "text/plain": [
       "        RECORD_TIME\n",
       "0  2021-11-28 18:00\n",
       "1  2021-11-28 17:30"
      ]
     },
     "execution_count": 3,
     "metadata": {},
     "output_type": "execute_result"
    }
   ],
   "source": [
    "timestamps"
   ]
  },
  {
   "cell_type": "code",
   "execution_count": 4,
   "id": "alternate-victory",
   "metadata": {
    "execution": {
     "iopub.execute_input": "2021-11-28T17:00:10.103530Z",
     "iopub.status.busy": "2021-11-28T17:00:10.101407Z",
     "iopub.status.idle": "2021-11-28T17:00:11.460787Z",
     "shell.execute_reply": "2021-11-28T17:00:11.462333Z"
    },
    "papermill": {
     "duration": 1.395849,
     "end_time": "2021-11-28T17:00:11.462836",
     "exception": false,
     "start_time": "2021-11-28T17:00:10.066987",
     "status": "completed"
    },
    "tags": []
   },
   "outputs": [],
   "source": [
    "df = pd.read_sql(\"select * from EBAY_TOP_BERLIN where record_time in (select distinct record_time from EBAY_TOP_BERLIN order by record_time desc limit 2)\", sqlite3.connect(\"UsedObjects.db\"))"
   ]
  },
  {
   "cell_type": "code",
   "execution_count": 5,
   "id": "popular-active",
   "metadata": {
    "execution": {
     "iopub.execute_input": "2021-11-28T17:00:11.538777Z",
     "iopub.status.busy": "2021-11-28T17:00:11.524512Z",
     "iopub.status.idle": "2021-11-28T17:00:11.558045Z",
     "shell.execute_reply": "2021-11-28T17:00:11.559931Z"
    },
    "papermill": {
     "duration": 0.077269,
     "end_time": "2021-11-28T17:00:11.560843",
     "exception": false,
     "start_time": "2021-11-28T17:00:11.483574",
     "status": "completed"
    },
    "tags": []
   },
   "outputs": [],
   "source": [
    "df_pivot = df.pivot_table(index=\"PRODUCT\", columns = \"RECORD_TIME\", values = \"LISTING_COUNT\")"
   ]
  },
  {
   "cell_type": "code",
   "execution_count": 6,
   "id": "union-huntington",
   "metadata": {
    "execution": {
     "iopub.execute_input": "2021-11-28T17:00:11.622565Z",
     "iopub.status.busy": "2021-11-28T17:00:11.620120Z",
     "iopub.status.idle": "2021-11-28T17:00:11.626361Z",
     "shell.execute_reply": "2021-11-28T17:00:11.627856Z"
    },
    "papermill": {
     "duration": 0.045444,
     "end_time": "2021-11-28T17:00:11.628361",
     "exception": false,
     "start_time": "2021-11-28T17:00:11.582917",
     "status": "completed"
    },
    "tags": []
   },
   "outputs": [],
   "source": [
    "df_pivot.columns = [\"stamp_1\", \"stamp_2\"]\n",
    "df_pivot_diff = df_pivot.diff(axis=1)"
   ]
  },
  {
   "cell_type": "code",
   "execution_count": 7,
   "id": "fifth-motion",
   "metadata": {
    "execution": {
     "iopub.execute_input": "2021-11-28T17:00:11.687662Z",
     "iopub.status.busy": "2021-11-28T17:00:11.685184Z",
     "iopub.status.idle": "2021-11-28T17:00:13.615405Z",
     "shell.execute_reply": "2021-11-28T17:00:13.616795Z"
    },
    "papermill": {
     "duration": 1.967006,
     "end_time": "2021-11-28T17:00:13.617268",
     "exception": false,
     "start_time": "2021-11-28T17:00:11.650262",
     "status": "completed"
    },
    "tags": []
   },
   "outputs": [
    {
     "data": {
      "text/plain": [
       "<AxesSubplot:ylabel='PRODUCT'>"
      ]
     },
     "execution_count": 7,
     "metadata": {},
     "output_type": "execute_result"
    },
    {
     "data": {
      "image/png": "[encoded data removed]",
      "text/plain": [
       "<Figure size 432x288 with 1 Axes>"
      ]
     },
     "metadata": {
      "needs_background": "light"
     },
     "output_type": "display_data"
    }
   ],
   "source": [
    "df_pivot_diff.sort_values(\"stamp_2\", ascending = False)[\"stamp_2\"].head(10).plot.barh()"
   ]
  },
  {
   "cell_type": "code",
   "execution_count": null,
   "id": "extra-executive",
   "metadata": {
    "papermill": {
     "duration": 0.035233,
     "end_time": "2021-11-28T17:00:13.678383",
     "exception": false,
     "start_time": "2021-11-28T17:00:13.643150",
     "status": "completed"
    },
    "tags": []
   },
   "outputs": [],
   "source": []
  }
 ],
 "metadata": {
  "kernelspec": {
   "display_name": "Python 3",
   "language": "python",
   "name": "python3"
  },
  "language_info": {
   "codemirror_mode": {
    "name": "ipython",
    "version": 3
   },
   "file_extension": ".py",
   "mimetype": "text/x-python",
   "name": "python",
   "nbconvert_exporter": "python",
   "pygments_lexer": "ipython3",
   "version": "3.9.5"
  },
  "papermill": {
   "default_parameters": {},
   "duration": 9.935287,
   "end_time": "2021-11-28T17:00:15.104553",
   "environment_variables": {},
   "exception": null,
   "input_path": "eBay_Overview.ipynb",
   "output_path": "eBay_Overview.ipynb",
   "parameters": {},
   "start_time": "2021-11-28T17:00:05.169266",
   "version": "2.3.3"
  }
 },
 "nbformat": 4,
 "nbformat_minor": 5
}