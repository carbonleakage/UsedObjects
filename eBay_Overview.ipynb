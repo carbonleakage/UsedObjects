{
 "cells": [
  {
   "cell_type": "code",
   "execution_count": 1,
   "id": "reverse-picking",
   "metadata": {
    "execution": {
     "iopub.execute_input": "2021-08-15T03:30:07.276025Z",
     "iopub.status.busy": "2021-08-15T03:30:07.274045Z",
     "iopub.status.idle": "2021-08-15T03:30:08.084365Z",
     "shell.execute_reply": "2021-08-15T03:30:08.085617Z"
    },
    "papermill": {
     "duration": 0.862924,
     "end_time": "2021-08-15T03:30:08.086434",
     "exception": false,
     "start_time": "2021-08-15T03:30:07.223510",
     "status": "completed"
    },
    "tags": []
   },
   "outputs": [],
   "source": [
    "import pandas as pd\n",
    "import sqlite3"
   ]
  },
  {
   "cell_type": "code",
   "execution_count": 2,
   "id": "innovative-syndrome",
   "metadata": {
    "execution": {
     "iopub.execute_input": "2021-08-15T03:30:08.139578Z",
     "iopub.status.busy": "2021-08-15T03:30:08.137104Z",
     "iopub.status.idle": "2021-08-15T03:30:08.191011Z",
     "shell.execute_reply": "2021-08-15T03:30:08.192144Z"
    },
    "papermill": {
     "duration": 0.083959,
     "end_time": "2021-08-15T03:30:08.192549",
     "exception": false,
     "start_time": "2021-08-15T03:30:08.108590",
     "status": "completed"
    },
    "tags": []
   },
   "outputs": [],
   "source": [
    "timestamps = pd.read_sql(\"select distinct record_time from EBAY_TOP_BERLIN order by record_time desc limit 2\", sqlite3.connect(\"UsedObjects.db\"))"
   ]
  },
  {
   "cell_type": "code",
   "execution_count": 3,
   "id": "periodic-identification",
   "metadata": {
    "execution": {
     "iopub.execute_input": "2021-08-15T03:30:08.264048Z",
     "iopub.status.busy": "2021-08-15T03:30:08.259147Z",
     "iopub.status.idle": "2021-08-15T03:30:08.283541Z",
     "shell.execute_reply": "2021-08-15T03:30:08.284843Z"
    },
    "papermill": {
     "duration": 0.070326,
     "end_time": "2021-08-15T03:30:08.285258",
     "exception": false,
     "start_time": "2021-08-15T03:30:08.214932",
     "status": "completed"
    },
    "tags": []
   },
   "outputs": [
    {
     "data": {
      "text/html": [
       "<div>\n",
       "<style scoped>\n",
       "    .dataframe tbody tr th:only-of-type {\n",
       "        vertical-align: middle;\n",
       "    }\n",
       "\n",
       "    .dataframe tbody tr th {\n",
       "        vertical-align: top;\n",
       "    }\n",
       "\n",
       "    .dataframe thead th {\n",
       "        text-align: right;\n",
       "    }\n",
       "</style>\n",
       "<table border=\"1\" class=\"dataframe\">\n",
       "  <thead>\n",
       "    <tr style=\"text-align: right;\">\n",
       "      <th></th>\n",
       "      <th>RECORD_TIME</th>\n",
       "    </tr>\n",
       "  </thead>\n",
       "  <tbody>\n",
       "    <tr>\n",
       "      <th>0</th>\n",
       "      <td>2021-08-15 05:30</td>\n",
       "    </tr>\n",
       "    <tr>\n",
       "      <th>1</th>\n",
       "      <td>2021-08-15 05:00</td>\n",
       "    </tr>\n",
       "  </tbody>\n",
       "</table>\n",
       "</div>"
      ],
      "text/plain": [
       "        RECORD_TIME\n",
       "0  2021-08-15 05:30\n",
       "1  2021-08-15 05:00"
      ]
     },
     "execution_count": 3,
     "metadata": {},
     "output_type": "execute_result"
    }
   ],
   "source": [
    "timestamps"
   ]
  },
  {
   "cell_type": "code",
   "execution_count": 4,
   "id": "alternate-victory",
   "metadata": {
    "execution": {
     "iopub.execute_input": "2021-08-15T03:30:08.335684Z",
     "iopub.status.busy": "2021-08-15T03:30:08.333745Z",
     "iopub.status.idle": "2021-08-15T03:30:08.410934Z",
     "shell.execute_reply": "2021-08-15T03:30:08.412331Z"
    },
    "papermill": {
     "duration": 0.107198,
     "end_time": "2021-08-15T03:30:08.412769",
     "exception": false,
     "start_time": "2021-08-15T03:30:08.305571",
     "status": "completed"
    },
    "tags": []
   },
   "outputs": [],
   "source": [
    "df = pd.read_sql(\"select * from EBAY_TOP_BERLIN where record_time in (select distinct record_time from EBAY_TOP_BERLIN order by record_time desc limit 2)\", sqlite3.connect(\"UsedObjects.db\"))"
   ]
  },
  {
   "cell_type": "code",
   "execution_count": 5,
   "id": "popular-active",
   "metadata": {
    "execution": {
     "iopub.execute_input": "2021-08-15T03:30:08.484579Z",
     "iopub.status.busy": "2021-08-15T03:30:08.471761Z",
     "iopub.status.idle": "2021-08-15T03:30:08.500374Z",
     "shell.execute_reply": "2021-08-15T03:30:08.501586Z"
    },
    "papermill": {
     "duration": 0.068578,
     "end_time": "2021-08-15T03:30:08.502171",
     "exception": false,
     "start_time": "2021-08-15T03:30:08.433593",
     "status": "completed"
    },
    "tags": []
   },
   "outputs": [],
   "source": [
    "df_pivot = df.pivot_table(index=\"PRODUCT\", columns = \"RECORD_TIME\", values = \"LISTING_COUNT\")"
   ]
  },
  {
   "cell_type": "code",
   "execution_count": 6,
   "id": "union-huntington",
   "metadata": {
    "execution": {
     "iopub.execute_input": "2021-08-15T03:30:08.561716Z",
     "iopub.status.busy": "2021-08-15T03:30:08.559244Z",
     "iopub.status.idle": "2021-08-15T03:30:08.565165Z",
     "shell.execute_reply": "2021-08-15T03:30:08.566522Z"
    },
    "papermill": {
     "duration": 0.042711,
     "end_time": "2021-08-15T03:30:08.566945",
     "exception": false,
     "start_time": "2021-08-15T03:30:08.524234",
     "status": "completed"
    },
    "tags": []
   },
   "outputs": [],
   "source": [
    "df_pivot.columns = [\"stamp_1\", \"stamp_2\"]\n",
    "df_pivot_diff = df_pivot.diff(axis=1)"
   ]
  },
  {
   "cell_type": "code",
   "execution_count": 7,
   "id": "fifth-motion",
   "metadata": {
    "execution": {
     "iopub.execute_input": "2021-08-15T03:30:08.621154Z",
     "iopub.status.busy": "2021-08-15T03:30:08.618852Z",
     "iopub.status.idle": "2021-08-15T03:30:10.093618Z",
     "shell.execute_reply": "2021-08-15T03:30:10.095080Z"
    },
    "papermill": {
     "duration": 1.508163,
     "end_time": "2021-08-15T03:30:10.095534",
     "exception": false,
     "start_time": "2021-08-15T03:30:08.587371",
     "status": "completed"
    },
    "tags": []
   },
   "outputs": [
    {
     "data": {
      "text/plain": [
       "<AxesSubplot:ylabel='PRODUCT'>"
      ]
     },
     "execution_count": 7,
     "metadata": {},
     "output_type": "execute_result"
    },
    {
     "data": {
      "image/png": "[encoded data removed]",
      "text/plain": [
       "<Figure size 432x288 with 1 Axes>"
      ]
     },
     "metadata": {
      "needs_background": "light"
     },
     "output_type": "display_data"
    }
   ],
   "source": [
    "df_pivot_diff.sort_values(\"stamp_2\", ascending = False)[\"stamp_2\"].head(10).plot.barh()"
   ]
  },
  {
   "cell_type": "code",
   "execution_count": null,
   "id": "extra-executive",
   "metadata": {
    "papermill": {
     "duration": 0.022056,
     "end_time": "2021-08-15T03:30:10.142059",
     "exception": false,
     "start_time": "2021-08-15T03:30:10.120003",
     "status": "completed"
    },
    "tags": []
   },
   "outputs": [],
   "source": []
  }
 ],
 "metadata": {
  "kernelspec": {
   "display_name": "Python 3",
   "language": "python",
   "name": "python3"
  },
  "language_info": {
   "codemirror_mode": {
    "name": "ipython",
    "version": 3
   },
   "file_extension": ".py",
   "mimetype": "text/x-python",
   "name": "python",
   "nbconvert_exporter": "python",
   "pygments_lexer": "ipython3",
   "version": "3.9.5"
  },
  "papermill": {
   "default_parameters": {},
   "duration": 6.828983,
   "end_time": "2021-08-15T03:30:11.630575",
   "environment_variables": {},
   "exception": null,
   "input_path": "eBay_Overview.ipynb",
   "output_path": "eBay_Overview.ipynb",
   "parameters": {},
   "start_time": "2021-08-15T03:30:04.801592",
   "version": "2.3.3"
  }
 },
 "nbformat": 4,
 "nbformat_minor": 5
}