{
 "cells": [
  {
   "cell_type": "code",
   "execution_count": 1,
   "id": "reverse-picking",
   "metadata": {
    "execution": {
     "iopub.execute_input": "2021-09-08T23:00:06.933671Z",
     "iopub.status.busy": "2021-09-08T23:00:06.931764Z",
     "iopub.status.idle": "2021-09-08T23:00:07.744219Z",
     "shell.execute_reply": "2021-09-08T23:00:07.742304Z"
    },
    "papermill": {
     "duration": 0.862666,
     "end_time": "2021-09-08T23:00:07.744791",
     "exception": false,
     "start_time": "2021-09-08T23:00:06.882125",
     "status": "completed"
    },
    "tags": []
   },
   "outputs": [],
   "source": [
    "import pandas as pd\n",
    "import sqlite3"
   ]
  },
  {
   "cell_type": "code",
   "execution_count": 2,
   "id": "innovative-syndrome",
   "metadata": {
    "execution": {
     "iopub.execute_input": "2021-09-08T23:00:07.796574Z",
     "iopub.status.busy": "2021-09-08T23:00:07.794159Z",
     "iopub.status.idle": "2021-09-08T23:00:08.039256Z",
     "shell.execute_reply": "2021-09-08T23:00:08.040462Z"
    },
    "papermill": {
     "duration": 0.274889,
     "end_time": "2021-09-08T23:00:08.040859",
     "exception": false,
     "start_time": "2021-09-08T23:00:07.765970",
     "status": "completed"
    },
    "tags": []
   },
   "outputs": [],
   "source": [
    "timestamps = pd.read_sql(\"select distinct record_time from EBAY_TOP_BERLIN order by record_time desc limit 2\", sqlite3.connect(\"UsedObjects.db\"))"
   ]
  },
  {
   "cell_type": "code",
   "execution_count": 3,
   "id": "periodic-identification",
   "metadata": {
    "execution": {
     "iopub.execute_input": "2021-09-08T23:00:08.109145Z",
     "iopub.status.busy": "2021-09-08T23:00:08.107122Z",
     "iopub.status.idle": "2021-09-08T23:00:08.127575Z",
     "shell.execute_reply": "2021-09-08T23:00:08.128857Z"
    },
    "papermill": {
     "duration": 0.065907,
     "end_time": "2021-09-08T23:00:08.129306",
     "exception": false,
     "start_time": "2021-09-08T23:00:08.063399",
     "status": "completed"
    },
    "tags": []
   },
   "outputs": [
    {
     "data": {
      "text/html": [
       "<div>\n",
       "<style scoped>\n",
       "    .dataframe tbody tr th:only-of-type {\n",
       "        vertical-align: middle;\n",
       "    }\n",
       "\n",
       "    .dataframe tbody tr th {\n",
       "        vertical-align: top;\n",
       "    }\n",
       "\n",
       "    .dataframe thead th {\n",
       "        text-align: right;\n",
       "    }\n",
       "</style>\n",
       "<table border=\"1\" class=\"dataframe\">\n",
       "  <thead>\n",
       "    <tr style=\"text-align: right;\">\n",
       "      <th></th>\n",
       "      <th>RECORD_TIME</th>\n",
       "    </tr>\n",
       "  </thead>\n",
       "  <tbody>\n",
       "    <tr>\n",
       "      <th>0</th>\n",
       "      <td>2021-09-09 01:00</td>\n",
       "    </tr>\n",
       "    <tr>\n",
       "      <th>1</th>\n",
       "      <td>2021-09-09 00:30</td>\n",
       "    </tr>\n",
       "  </tbody>\n",
       "</table>\n",
       "</div>"
      ],
      "text/plain": [
       "        RECORD_TIME\n",
       "0  2021-09-09 01:00\n",
       "1  2021-09-09 00:30"
      ]
     },
     "execution_count": 3,
     "metadata": {},
     "output_type": "execute_result"
    }
   ],
   "source": [
    "timestamps"
   ]
  },
  {
   "cell_type": "code",
   "execution_count": 4,
   "id": "alternate-victory",
   "metadata": {
    "execution": {
     "iopub.execute_input": "2021-09-08T23:00:08.180307Z",
     "iopub.status.busy": "2021-09-08T23:00:08.178343Z",
     "iopub.status.idle": "2021-09-08T23:00:08.542210Z",
     "shell.execute_reply": "2021-09-08T23:00:08.543549Z"
    },
    "papermill": {
     "duration": 0.393779,
     "end_time": "2021-09-08T23:00:08.543973",
     "exception": false,
     "start_time": "2021-09-08T23:00:08.150194",
     "status": "completed"
    },
    "tags": []
   },
   "outputs": [],
   "source": [
    "df = pd.read_sql(\"select * from EBAY_TOP_BERLIN where record_time in (select distinct record_time from EBAY_TOP_BERLIN order by record_time desc limit 2)\", sqlite3.connect(\"UsedObjects.db\"))"
   ]
  },
  {
   "cell_type": "code",
   "execution_count": 5,
   "id": "popular-active",
   "metadata": {
    "execution": {
     "iopub.execute_input": "2021-09-08T23:00:08.623525Z",
     "iopub.status.busy": "2021-09-08T23:00:08.612166Z",
     "iopub.status.idle": "2021-09-08T23:00:08.640017Z",
     "shell.execute_reply": "2021-09-08T23:00:08.641249Z"
    },
    "papermill": {
     "duration": 0.071915,
     "end_time": "2021-09-08T23:00:08.641646",
     "exception": false,
     "start_time": "2021-09-08T23:00:08.569731",
     "status": "completed"
    },
    "tags": []
   },
   "outputs": [],
   "source": [
    "df_pivot = df.pivot_table(index=\"PRODUCT\", columns = \"RECORD_TIME\", values = \"LISTING_COUNT\")"
   ]
  },
  {
   "cell_type": "code",
   "execution_count": 6,
   "id": "union-huntington",
   "metadata": {
    "execution": {
     "iopub.execute_input": "2021-09-08T23:00:08.701690Z",
     "iopub.status.busy": "2021-09-08T23:00:08.699234Z",
     "iopub.status.idle": "2021-09-08T23:00:08.705193Z",
     "shell.execute_reply": "2021-09-08T23:00:08.706550Z"
    },
    "papermill": {
     "duration": 0.0425,
     "end_time": "2021-09-08T23:00:08.707087",
     "exception": false,
     "start_time": "2021-09-08T23:00:08.664587",
     "status": "completed"
    },
    "tags": []
   },
   "outputs": [],
   "source": [
    "df_pivot.columns = [\"stamp_1\", \"stamp_2\"]\n",
    "df_pivot_diff = df_pivot.diff(axis=1)"
   ]
  },
  {
   "cell_type": "code",
   "execution_count": 7,
   "id": "fifth-motion",
   "metadata": {
    "execution": {
     "iopub.execute_input": "2021-09-08T23:00:08.761631Z",
     "iopub.status.busy": "2021-09-08T23:00:08.759326Z",
     "iopub.status.idle": "2021-09-08T23:00:10.219787Z",
     "shell.execute_reply": "2021-09-08T23:00:10.221073Z"
    },
    "papermill": {
     "duration": 1.493479,
     "end_time": "2021-09-08T23:00:10.221484",
     "exception": false,
     "start_time": "2021-09-08T23:00:08.728005",
     "status": "completed"
    },
    "tags": []
   },
   "outputs": [
    {
     "data": {
      "text/plain": [
       "<AxesSubplot:ylabel='PRODUCT'>"
      ]
     },
     "execution_count": 7,
     "metadata": {},
     "output_type": "execute_result"
    },
    {
     "data": {
      "image/png": "[encoded data removed]",
      "text/plain": [
       "<Figure size 432x288 with 1 Axes>"
      ]
     },
     "metadata": {
      "needs_background": "light"
     },
     "output_type": "display_data"
    }
   ],
   "source": [
    "df_pivot_diff.sort_values(\"stamp_2\", ascending = False)[\"stamp_2\"].head(10).plot.barh()"
   ]
  },
  {
   "cell_type": "code",
   "execution_count": null,
   "id": "extra-executive",
   "metadata": {
    "papermill": {
     "duration": 0.021884,
     "end_time": "2021-09-08T23:00:10.268339",
     "exception": false,
     "start_time": "2021-09-08T23:00:10.246455",
     "status": "completed"
    },
    "tags": []
   },
   "outputs": [],
   "source": []
  }
 ],
 "metadata": {
  "kernelspec": {
   "display_name": "Python 3",
   "language": "python",
   "name": "python3"
  },
  "language_info": {
   "codemirror_mode": {
    "name": "ipython",
    "version": 3
   },
   "file_extension": ".py",
   "mimetype": "text/x-python",
   "name": "python",
   "nbconvert_exporter": "python",
   "pygments_lexer": "ipython3",
   "version": "3.9.5"
  },
  "papermill": {
   "default_parameters": {},
   "duration": 6.444516,
   "end_time": "2021-09-08T23:00:10.909226",
   "environment_variables": {},
   "exception": null,
   "input_path": "eBay_Overview.ipynb",
   "output_path": "eBay_Overview.ipynb",
   "parameters": {},
   "start_time": "2021-09-08T23:00:04.464710",
   "version": "2.3.3"
  }
 },
 "nbformat": 4,
 "nbformat_minor": 5
}