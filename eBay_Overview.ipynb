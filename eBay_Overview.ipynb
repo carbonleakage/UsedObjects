{
 "cells": [
  {
   "cell_type": "code",
   "execution_count": 1,
   "id": "reverse-picking",
   "metadata": {
    "execution": {
     "iopub.execute_input": "2021-12-16T21:30:08.087828Z",
     "iopub.status.busy": "2021-12-16T21:30:08.085481Z",
     "iopub.status.idle": "2021-12-16T21:30:09.037242Z",
     "shell.execute_reply": "2021-12-16T21:30:09.039442Z"
    },
    "papermill": {
     "duration": 1.002663,
     "end_time": "2021-12-16T21:30:09.040174",
     "exception": false,
     "start_time": "2021-12-16T21:30:08.037511",
     "status": "completed"
    },
    "tags": []
   },
   "outputs": [],
   "source": [
    "import pandas as pd\n",
    "import sqlite3"
   ]
  },
  {
   "cell_type": "code",
   "execution_count": 2,
   "id": "innovative-syndrome",
   "metadata": {
    "execution": {
     "iopub.execute_input": "2021-12-16T21:30:09.096743Z",
     "iopub.status.busy": "2021-12-16T21:30:09.094424Z",
     "iopub.status.idle": "2021-12-16T21:30:10.180598Z",
     "shell.execute_reply": "2021-12-16T21:30:10.181996Z"
    },
    "papermill": {
     "duration": 1.119723,
     "end_time": "2021-12-16T21:30:10.182427",
     "exception": false,
     "start_time": "2021-12-16T21:30:09.062704",
     "status": "completed"
    },
    "tags": []
   },
   "outputs": [],
   "source": [
    "timestamps = pd.read_sql(\"select distinct record_time from EBAY_TOP_BERLIN order by record_time desc limit 2\", sqlite3.connect(\"UsedObjects.db\"))"
   ]
  },
  {
   "cell_type": "code",
   "execution_count": 3,
   "id": "periodic-identification",
   "metadata": {
    "execution": {
     "iopub.execute_input": "2021-12-16T21:30:10.247526Z",
     "iopub.status.busy": "2021-12-16T21:30:10.245498Z",
     "iopub.status.idle": "2021-12-16T21:30:10.268071Z",
     "shell.execute_reply": "2021-12-16T21:30:10.266472Z"
    },
    "papermill": {
     "duration": 0.066291,
     "end_time": "2021-12-16T21:30:10.268480",
     "exception": false,
     "start_time": "2021-12-16T21:30:10.202189",
     "status": "completed"
    },
    "tags": []
   },
   "outputs": [
    {
     "data": {
      "text/html": [
       "<div>\n",
       "<style scoped>\n",
       "    .dataframe tbody tr th:only-of-type {\n",
       "        vertical-align: middle;\n",
       "    }\n",
       "\n",
       "    .dataframe tbody tr th {\n",
       "        vertical-align: top;\n",
       "    }\n",
       "\n",
       "    .dataframe thead th {\n",
       "        text-align: right;\n",
       "    }\n",
       "</style>\n",
       "<table border=\"1\" class=\"dataframe\">\n",
       "  <thead>\n",
       "    <tr style=\"text-align: right;\">\n",
       "      <th></th>\n",
       "      <th>RECORD_TIME</th>\n",
       "    </tr>\n",
       "  </thead>\n",
       "  <tbody>\n",
       "    <tr>\n",
       "      <th>0</th>\n",
       "      <td>2021-12-16 22:30</td>\n",
       "    </tr>\n",
       "    <tr>\n",
       "      <th>1</th>\n",
       "      <td>2021-12-16 22:00</td>\n",
       "    </tr>\n",
       "  </tbody>\n",
       "</table>\n",
       "</div>"
      ],
      "text/plain": [
       "        RECORD_TIME\n",
       "0  2021-12-16 22:30\n",
       "1  2021-12-16 22:00"
      ]
     },
     "execution_count": 3,
     "metadata": {},
     "output_type": "execute_result"
    }
   ],
   "source": [
    "timestamps"
   ]
  },
  {
   "cell_type": "code",
   "execution_count": 4,
   "id": "alternate-victory",
   "metadata": {
    "execution": {
     "iopub.execute_input": "2021-12-16T21:30:10.322845Z",
     "iopub.status.busy": "2021-12-16T21:30:10.320227Z",
     "iopub.status.idle": "2021-12-16T21:30:11.879153Z",
     "shell.execute_reply": "2021-12-16T21:30:11.880838Z"
    },
    "papermill": {
     "duration": 1.591676,
     "end_time": "2021-12-16T21:30:11.881338",
     "exception": false,
     "start_time": "2021-12-16T21:30:10.289662",
     "status": "completed"
    },
    "tags": []
   },
   "outputs": [],
   "source": [
    "df = pd.read_sql(\"select * from EBAY_TOP_BERLIN where record_time in (select distinct record_time from EBAY_TOP_BERLIN order by record_time desc limit 2)\", sqlite3.connect(\"UsedObjects.db\"))"
   ]
  },
  {
   "cell_type": "code",
   "execution_count": 5,
   "id": "popular-active",
   "metadata": {
    "execution": {
     "iopub.execute_input": "2021-12-16T21:30:11.946860Z",
     "iopub.status.busy": "2021-12-16T21:30:11.944485Z",
     "iopub.status.idle": "2021-12-16T21:30:11.976521Z",
     "shell.execute_reply": "2021-12-16T21:30:11.975020Z"
    },
    "papermill": {
     "duration": 0.072982,
     "end_time": "2021-12-16T21:30:11.976993",
     "exception": false,
     "start_time": "2021-12-16T21:30:11.904011",
     "status": "completed"
    },
    "tags": []
   },
   "outputs": [],
   "source": [
    "df_pivot = df.pivot_table(index=\"PRODUCT\", columns = \"RECORD_TIME\", values = \"LISTING_COUNT\")"
   ]
  },
  {
   "cell_type": "code",
   "execution_count": 6,
   "id": "union-huntington",
   "metadata": {
    "execution": {
     "iopub.execute_input": "2021-12-16T21:30:12.036885Z",
     "iopub.status.busy": "2021-12-16T21:30:12.034328Z",
     "iopub.status.idle": "2021-12-16T21:30:12.043248Z",
     "shell.execute_reply": "2021-12-16T21:30:12.041345Z"
    },
    "papermill": {
     "duration": 0.046458,
     "end_time": "2021-12-16T21:30:12.043681",
     "exception": false,
     "start_time": "2021-12-16T21:30:11.997223",
     "status": "completed"
    },
    "tags": []
   },
   "outputs": [],
   "source": [
    "df_pivot.columns = [\"stamp_1\", \"stamp_2\"]\n",
    "df_pivot_diff = df_pivot.diff(axis=1)"
   ]
  },
  {
   "cell_type": "code",
   "execution_count": 7,
   "id": "fifth-motion",
   "metadata": {
    "execution": {
     "iopub.execute_input": "2021-12-16T21:30:12.102072Z",
     "iopub.status.busy": "2021-12-16T21:30:12.099486Z",
     "iopub.status.idle": "2021-12-16T21:30:14.117669Z",
     "shell.execute_reply": "2021-12-16T21:30:14.119169Z"
    },
    "papermill": {
     "duration": 2.0538,
     "end_time": "2021-12-16T21:30:14.119688",
     "exception": false,
     "start_time": "2021-12-16T21:30:12.065888",
     "status": "completed"
    },
    "tags": []
   },
   "outputs": [
    {
     "data": {
      "text/plain": [
       "<AxesSubplot:ylabel='PRODUCT'>"
      ]
     },
     "execution_count": 7,
     "metadata": {},
     "output_type": "execute_result"
    },
    {
     "data": {
      "image/png": "[encoded data removed]",
      "text/plain": [
       "<Figure size 432x288 with 1 Axes>"
      ]
     },
     "metadata": {
      "needs_background": "light"
     },
     "output_type": "display_data"
    }
   ],
   "source": [
    "df_pivot_diff.sort_values(\"stamp_2\", ascending = False)[\"stamp_2\"].head(10).plot.barh()"
   ]
  },
  {
   "cell_type": "code",
   "execution_count": null,
   "id": "extra-executive",
   "metadata": {
    "papermill": {
     "duration": 0.02907,
     "end_time": "2021-12-16T21:30:14.187144",
     "exception": false,
     "start_time": "2021-12-16T21:30:14.158074",
     "status": "completed"
    },
    "tags": []
   },
   "outputs": [],
   "source": []
  }
 ],
 "metadata": {
  "kernelspec": {
   "display_name": "Python 3",
   "language": "python",
   "name": "python3"
  },
  "language_info": {
   "codemirror_mode": {
    "name": "ipython",
    "version": 3
   },
   "file_extension": ".py",
   "mimetype": "text/x-python",
   "name": "python",
   "nbconvert_exporter": "python",
   "pygments_lexer": "ipython3",
   "version": "3.9.5"
  },
  "papermill": {
   "default_parameters": {},
   "duration": 9.535402,
   "end_time": "2021-12-16T21:30:14.839028",
   "environment_variables": {},
   "exception": null,
   "input_path": "eBay_Overview.ipynb",
   "output_path": "eBay_Overview.ipynb",
   "parameters": {},
   "start_time": "2021-12-16T21:30:05.303626",
   "version": "2.3.3"
  }
 },
 "nbformat": 4,
 "nbformat_minor": 5
}