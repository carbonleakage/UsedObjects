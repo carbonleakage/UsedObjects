{
 "cells": [
  {
   "cell_type": "code",
   "execution_count": 1,
   "id": "reverse-picking",
   "metadata": {
    "execution": {
     "iopub.execute_input": "2021-10-15T16:00:06.531951Z",
     "iopub.status.busy": "2021-10-15T16:00:06.530020Z",
     "iopub.status.idle": "2021-10-15T16:00:07.335845Z",
     "shell.execute_reply": "2021-10-15T16:00:07.337234Z"
    },
    "papermill": {
     "duration": 0.856058,
     "end_time": "2021-10-15T16:00:07.337875",
     "exception": false,
     "start_time": "2021-10-15T16:00:06.481817",
     "status": "completed"
    },
    "tags": []
   },
   "outputs": [],
   "source": [
    "import pandas as pd\n",
    "import sqlite3"
   ]
  },
  {
   "cell_type": "code",
   "execution_count": 2,
   "id": "innovative-syndrome",
   "metadata": {
    "execution": {
     "iopub.execute_input": "2021-10-15T16:00:07.388658Z",
     "iopub.status.busy": "2021-10-15T16:00:07.386791Z",
     "iopub.status.idle": "2021-10-15T16:00:07.943001Z",
     "shell.execute_reply": "2021-10-15T16:00:07.944268Z"
    },
    "papermill": {
     "duration": 0.585953,
     "end_time": "2021-10-15T16:00:07.944738",
     "exception": false,
     "start_time": "2021-10-15T16:00:07.358785",
     "status": "completed"
    },
    "tags": []
   },
   "outputs": [],
   "source": [
    "timestamps = pd.read_sql(\"select distinct record_time from EBAY_TOP_BERLIN order by record_time desc limit 2\", sqlite3.connect(\"UsedObjects.db\"))"
   ]
  },
  {
   "cell_type": "code",
   "execution_count": 3,
   "id": "periodic-identification",
   "metadata": {
    "execution": {
     "iopub.execute_input": "2021-10-15T16:00:08.022963Z",
     "iopub.status.busy": "2021-10-15T16:00:08.017814Z",
     "iopub.status.idle": "2021-10-15T16:00:08.038146Z",
     "shell.execute_reply": "2021-10-15T16:00:08.039456Z"
    },
    "papermill": {
     "duration": 0.06988,
     "end_time": "2021-10-15T16:00:08.039870",
     "exception": false,
     "start_time": "2021-10-15T16:00:07.969990",
     "status": "completed"
    },
    "tags": []
   },
   "outputs": [
    {
     "data": {
      "text/html": [
       "<div>\n",
       "<style scoped>\n",
       "    .dataframe tbody tr th:only-of-type {\n",
       "        vertical-align: middle;\n",
       "    }\n",
       "\n",
       "    .dataframe tbody tr th {\n",
       "        vertical-align: top;\n",
       "    }\n",
       "\n",
       "    .dataframe thead th {\n",
       "        text-align: right;\n",
       "    }\n",
       "</style>\n",
       "<table border=\"1\" class=\"dataframe\">\n",
       "  <thead>\n",
       "    <tr style=\"text-align: right;\">\n",
       "      <th></th>\n",
       "      <th>RECORD_TIME</th>\n",
       "    </tr>\n",
       "  </thead>\n",
       "  <tbody>\n",
       "    <tr>\n",
       "      <th>0</th>\n",
       "      <td>2021-10-15 18:00</td>\n",
       "    </tr>\n",
       "    <tr>\n",
       "      <th>1</th>\n",
       "      <td>2021-10-15 17:30</td>\n",
       "    </tr>\n",
       "  </tbody>\n",
       "</table>\n",
       "</div>"
      ],
      "text/plain": [
       "        RECORD_TIME\n",
       "0  2021-10-15 18:00\n",
       "1  2021-10-15 17:30"
      ]
     },
     "execution_count": 3,
     "metadata": {},
     "output_type": "execute_result"
    }
   ],
   "source": [
    "timestamps"
   ]
  },
  {
   "cell_type": "code",
   "execution_count": 4,
   "id": "alternate-victory",
   "metadata": {
    "execution": {
     "iopub.execute_input": "2021-10-15T16:00:08.090648Z",
     "iopub.status.busy": "2021-10-15T16:00:08.088784Z",
     "iopub.status.idle": "2021-10-15T16:00:08.877838Z",
     "shell.execute_reply": "2021-10-15T16:00:08.879122Z"
    },
    "papermill": {
     "duration": 0.819178,
     "end_time": "2021-10-15T16:00:08.879528",
     "exception": false,
     "start_time": "2021-10-15T16:00:08.060350",
     "status": "completed"
    },
    "tags": []
   },
   "outputs": [],
   "source": [
    "df = pd.read_sql(\"select * from EBAY_TOP_BERLIN where record_time in (select distinct record_time from EBAY_TOP_BERLIN order by record_time desc limit 2)\", sqlite3.connect(\"UsedObjects.db\"))"
   ]
  },
  {
   "cell_type": "code",
   "execution_count": 5,
   "id": "popular-active",
   "metadata": {
    "execution": {
     "iopub.execute_input": "2021-10-15T16:00:08.950358Z",
     "iopub.status.busy": "2021-10-15T16:00:08.942496Z",
     "iopub.status.idle": "2021-10-15T16:00:08.966615Z",
     "shell.execute_reply": "2021-10-15T16:00:08.967889Z"
    },
    "papermill": {
     "duration": 0.068103,
     "end_time": "2021-10-15T16:00:08.968303",
     "exception": false,
     "start_time": "2021-10-15T16:00:08.900200",
     "status": "completed"
    },
    "tags": []
   },
   "outputs": [],
   "source": [
    "df_pivot = df.pivot_table(index=\"PRODUCT\", columns = \"RECORD_TIME\", values = \"LISTING_COUNT\")"
   ]
  },
  {
   "cell_type": "code",
   "execution_count": 6,
   "id": "union-huntington",
   "metadata": {
    "execution": {
     "iopub.execute_input": "2021-10-15T16:00:09.024834Z",
     "iopub.status.busy": "2021-10-15T16:00:09.022729Z",
     "iopub.status.idle": "2021-10-15T16:00:09.028226Z",
     "shell.execute_reply": "2021-10-15T16:00:09.029474Z"
    },
    "papermill": {
     "duration": 0.041405,
     "end_time": "2021-10-15T16:00:09.029906",
     "exception": false,
     "start_time": "2021-10-15T16:00:08.988501",
     "status": "completed"
    },
    "tags": []
   },
   "outputs": [],
   "source": [
    "df_pivot.columns = [\"stamp_1\", \"stamp_2\"]\n",
    "df_pivot_diff = df_pivot.diff(axis=1)"
   ]
  },
  {
   "cell_type": "code",
   "execution_count": 7,
   "id": "fifth-motion",
   "metadata": {
    "execution": {
     "iopub.execute_input": "2021-10-15T16:00:09.083817Z",
     "iopub.status.busy": "2021-10-15T16:00:09.081410Z",
     "iopub.status.idle": "2021-10-15T16:00:10.574297Z",
     "shell.execute_reply": "2021-10-15T16:00:10.575484Z"
    },
    "papermill": {
     "duration": 1.525534,
     "end_time": "2021-10-15T16:00:10.575916",
     "exception": false,
     "start_time": "2021-10-15T16:00:09.050382",
     "status": "completed"
    },
    "tags": []
   },
   "outputs": [
    {
     "data": {
      "text/plain": [
       "<AxesSubplot:ylabel='PRODUCT'>"
      ]
     },
     "execution_count": 7,
     "metadata": {},
     "output_type": "execute_result"
    },
    {
     "data": {
      "image/png": "[encoded data removed]",
      "text/plain": [
       "<Figure size 432x288 with 1 Axes>"
      ]
     },
     "metadata": {
      "needs_background": "light"
     },
     "output_type": "display_data"
    }
   ],
   "source": [
    "df_pivot_diff.sort_values(\"stamp_2\", ascending = False)[\"stamp_2\"].head(10).plot.barh()"
   ]
  },
  {
   "cell_type": "code",
   "execution_count": null,
   "id": "extra-executive",
   "metadata": {
    "papermill": {
     "duration": 0.022117,
     "end_time": "2021-10-15T16:00:10.623618",
     "exception": false,
     "start_time": "2021-10-15T16:00:10.601501",
     "status": "completed"
    },
    "tags": []
   },
   "outputs": [],
   "source": []
  }
 ],
 "metadata": {
  "kernelspec": {
   "display_name": "Python 3",
   "language": "python",
   "name": "python3"
  },
  "language_info": {
   "codemirror_mode": {
    "name": "ipython",
    "version": 3
   },
   "file_extension": ".py",
   "mimetype": "text/x-python",
   "name": "python",
   "nbconvert_exporter": "python",
   "pygments_lexer": "ipython3",
   "version": "3.9.5"
  },
  "papermill": {
   "default_parameters": {},
   "duration": 7.825724,
   "end_time": "2021-10-15T16:00:11.903518",
   "environment_variables": {},
   "exception": null,
   "input_path": "eBay_Overview.ipynb",
   "output_path": "eBay_Overview.ipynb",
   "parameters": {},
   "start_time": "2021-10-15T16:00:04.077794",
   "version": "2.3.3"
  }
 },
 "nbformat": 4,
 "nbformat_minor": 5
}