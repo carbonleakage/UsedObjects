{
 "cells": [
  {
   "cell_type": "code",
   "execution_count": 1,
   "id": "reverse-picking",
   "metadata": {
    "execution": {
     "iopub.execute_input": "2021-11-18T19:00:08.050486Z",
     "iopub.status.busy": "2021-11-18T19:00:08.047977Z",
     "iopub.status.idle": "2021-11-18T19:00:08.997123Z",
     "shell.execute_reply": "2021-11-18T19:00:08.998654Z"
    },
    "papermill": {
     "duration": 0.996659,
     "end_time": "2021-11-18T19:00:08.999389",
     "exception": false,
     "start_time": "2021-11-18T19:00:08.002730",
     "status": "completed"
    },
    "tags": []
   },
   "outputs": [],
   "source": [
    "import pandas as pd\n",
    "import sqlite3"
   ]
  },
  {
   "cell_type": "code",
   "execution_count": 2,
   "id": "innovative-syndrome",
   "metadata": {
    "execution": {
     "iopub.execute_input": "2021-11-18T19:00:09.058490Z",
     "iopub.status.busy": "2021-11-18T19:00:09.056045Z",
     "iopub.status.idle": "2021-11-18T19:00:09.894213Z",
     "shell.execute_reply": "2021-11-18T19:00:09.896100Z"
    },
    "papermill": {
     "duration": 0.876089,
     "end_time": "2021-11-18T19:00:09.896620",
     "exception": false,
     "start_time": "2021-11-18T19:00:09.020531",
     "status": "completed"
    },
    "tags": []
   },
   "outputs": [],
   "source": [
    "timestamps = pd.read_sql(\"select distinct record_time from EBAY_TOP_BERLIN order by record_time desc limit 2\", sqlite3.connect(\"UsedObjects.db\"))"
   ]
  },
  {
   "cell_type": "code",
   "execution_count": 3,
   "id": "periodic-identification",
   "metadata": {
    "execution": {
     "iopub.execute_input": "2021-11-18T19:00:09.966071Z",
     "iopub.status.busy": "2021-11-18T19:00:09.963724Z",
     "iopub.status.idle": "2021-11-18T19:00:09.985784Z",
     "shell.execute_reply": "2021-11-18T19:00:09.987411Z"
    },
    "papermill": {
     "duration": 0.071163,
     "end_time": "2021-11-18T19:00:09.987878",
     "exception": false,
     "start_time": "2021-11-18T19:00:09.916715",
     "status": "completed"
    },
    "tags": []
   },
   "outputs": [
    {
     "data": {
      "text/html": [
       "<div>\n",
       "<style scoped>\n",
       "    .dataframe tbody tr th:only-of-type {\n",
       "        vertical-align: middle;\n",
       "    }\n",
       "\n",
       "    .dataframe tbody tr th {\n",
       "        vertical-align: top;\n",
       "    }\n",
       "\n",
       "    .dataframe thead th {\n",
       "        text-align: right;\n",
       "    }\n",
       "</style>\n",
       "<table border=\"1\" class=\"dataframe\">\n",
       "  <thead>\n",
       "    <tr style=\"text-align: right;\">\n",
       "      <th></th>\n",
       "      <th>RECORD_TIME</th>\n",
       "    </tr>\n",
       "  </thead>\n",
       "  <tbody>\n",
       "    <tr>\n",
       "      <th>0</th>\n",
       "      <td>2021-11-18 20:00</td>\n",
       "    </tr>\n",
       "    <tr>\n",
       "      <th>1</th>\n",
       "      <td>2021-11-18 19:30</td>\n",
       "    </tr>\n",
       "  </tbody>\n",
       "</table>\n",
       "</div>"
      ],
      "text/plain": [
       "        RECORD_TIME\n",
       "0  2021-11-18 20:00\n",
       "1  2021-11-18 19:30"
      ]
     },
     "execution_count": 3,
     "metadata": {},
     "output_type": "execute_result"
    }
   ],
   "source": [
    "timestamps"
   ]
  },
  {
   "cell_type": "code",
   "execution_count": 4,
   "id": "alternate-victory",
   "metadata": {
    "execution": {
     "iopub.execute_input": "2021-11-18T19:00:10.040215Z",
     "iopub.status.busy": "2021-11-18T19:00:10.038170Z",
     "iopub.status.idle": "2021-11-18T19:00:11.258000Z",
     "shell.execute_reply": "2021-11-18T19:00:11.259584Z"
    },
    "papermill": {
     "duration": 1.252207,
     "end_time": "2021-11-18T19:00:11.260075",
     "exception": false,
     "start_time": "2021-11-18T19:00:10.007868",
     "status": "completed"
    },
    "tags": []
   },
   "outputs": [],
   "source": [
    "df = pd.read_sql(\"select * from EBAY_TOP_BERLIN where record_time in (select distinct record_time from EBAY_TOP_BERLIN order by record_time desc limit 2)\", sqlite3.connect(\"UsedObjects.db\"))"
   ]
  },
  {
   "cell_type": "code",
   "execution_count": 5,
   "id": "popular-active",
   "metadata": {
    "execution": {
     "iopub.execute_input": "2021-11-18T19:00:11.326987Z",
     "iopub.status.busy": "2021-11-18T19:00:11.324593Z",
     "iopub.status.idle": "2021-11-18T19:00:11.360110Z",
     "shell.execute_reply": "2021-11-18T19:00:11.358432Z"
    },
    "papermill": {
     "duration": 0.078409,
     "end_time": "2021-11-18T19:00:11.360532",
     "exception": false,
     "start_time": "2021-11-18T19:00:11.282123",
     "status": "completed"
    },
    "tags": []
   },
   "outputs": [],
   "source": [
    "df_pivot = df.pivot_table(index=\"PRODUCT\", columns = \"RECORD_TIME\", values = \"LISTING_COUNT\")"
   ]
  },
  {
   "cell_type": "code",
   "execution_count": 6,
   "id": "union-huntington",
   "metadata": {
    "execution": {
     "iopub.execute_input": "2021-11-18T19:00:11.423483Z",
     "iopub.status.busy": "2021-11-18T19:00:11.421332Z",
     "iopub.status.idle": "2021-11-18T19:00:11.426172Z",
     "shell.execute_reply": "2021-11-18T19:00:11.428117Z"
    },
    "papermill": {
     "duration": 0.046645,
     "end_time": "2021-11-18T19:00:11.428619",
     "exception": false,
     "start_time": "2021-11-18T19:00:11.381974",
     "status": "completed"
    },
    "tags": []
   },
   "outputs": [],
   "source": [
    "df_pivot.columns = [\"stamp_1\", \"stamp_2\"]\n",
    "df_pivot_diff = df_pivot.diff(axis=1)"
   ]
  },
  {
   "cell_type": "code",
   "execution_count": 7,
   "id": "fifth-motion",
   "metadata": {
    "execution": {
     "iopub.execute_input": "2021-11-18T19:00:11.488763Z",
     "iopub.status.busy": "2021-11-18T19:00:11.486037Z",
     "iopub.status.idle": "2021-11-18T19:00:13.218280Z",
     "shell.execute_reply": "2021-11-18T19:00:13.219602Z"
    },
    "papermill": {
     "duration": 1.770404,
     "end_time": "2021-11-18T19:00:13.220065",
     "exception": false,
     "start_time": "2021-11-18T19:00:11.449661",
     "status": "completed"
    },
    "tags": []
   },
   "outputs": [
    {
     "data": {
      "text/plain": [
       "<AxesSubplot:ylabel='PRODUCT'>"
      ]
     },
     "execution_count": 7,
     "metadata": {},
     "output_type": "execute_result"
    },
    {
     "data": {
      "image/png": "[encoded data removed]",
      "text/plain": [
       "<Figure size 432x288 with 1 Axes>"
      ]
     },
     "metadata": {
      "needs_background": "light"
     },
     "output_type": "display_data"
    }
   ],
   "source": [
    "df_pivot_diff.sort_values(\"stamp_2\", ascending = False)[\"stamp_2\"].head(10).plot.barh()"
   ]
  },
  {
   "cell_type": "code",
   "execution_count": null,
   "id": "extra-executive",
   "metadata": {
    "papermill": {
     "duration": 0.023007,
     "end_time": "2021-11-18T19:00:13.266663",
     "exception": false,
     "start_time": "2021-11-18T19:00:13.243656",
     "status": "completed"
    },
    "tags": []
   },
   "outputs": [],
   "source": []
  }
 ],
 "metadata": {
  "kernelspec": {
   "display_name": "Python 3",
   "language": "python",
   "name": "python3"
  },
  "language_info": {
   "codemirror_mode": {
    "name": "ipython",
    "version": 3
   },
   "file_extension": ".py",
   "mimetype": "text/x-python",
   "name": "python",
   "nbconvert_exporter": "python",
   "pygments_lexer": "ipython3",
   "version": "3.9.5"
  },
  "papermill": {
   "default_parameters": {},
   "duration": 8.914649,
   "end_time": "2021-11-18T19:00:14.127005",
   "environment_variables": {},
   "exception": null,
   "input_path": "eBay_Overview.ipynb",
   "output_path": "eBay_Overview.ipynb",
   "parameters": {},
   "start_time": "2021-11-18T19:00:05.212356",
   "version": "2.3.3"
  }
 },
 "nbformat": 4,
 "nbformat_minor": 5
}