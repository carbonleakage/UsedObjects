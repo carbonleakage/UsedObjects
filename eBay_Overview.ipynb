{
 "cells": [
  {
   "cell_type": "code",
   "execution_count": 1,
   "id": "reverse-picking",
   "metadata": {
    "execution": {
     "iopub.execute_input": "2021-10-08T08:30:06.676003Z",
     "iopub.status.busy": "2021-10-08T08:30:06.673973Z",
     "iopub.status.idle": "2021-10-08T08:30:07.486159Z",
     "shell.execute_reply": "2021-10-08T08:30:07.487546Z"
    },
    "papermill": {
     "duration": 0.86268,
     "end_time": "2021-10-08T08:30:07.488194",
     "exception": false,
     "start_time": "2021-10-08T08:30:06.625514",
     "status": "completed"
    },
    "tags": []
   },
   "outputs": [],
   "source": [
    "import pandas as pd\n",
    "import sqlite3"
   ]
  },
  {
   "cell_type": "code",
   "execution_count": 2,
   "id": "innovative-syndrome",
   "metadata": {
    "execution": {
     "iopub.execute_input": "2021-10-08T08:30:07.539715Z",
     "iopub.status.busy": "2021-10-08T08:30:07.537697Z",
     "iopub.status.idle": "2021-10-08T08:30:08.023132Z",
     "shell.execute_reply": "2021-10-08T08:30:08.024527Z"
    },
    "papermill": {
     "duration": 0.515539,
     "end_time": "2021-10-08T08:30:08.024959",
     "exception": false,
     "start_time": "2021-10-08T08:30:07.509420",
     "status": "completed"
    },
    "tags": []
   },
   "outputs": [],
   "source": [
    "timestamps = pd.read_sql(\"select distinct record_time from EBAY_TOP_BERLIN order by record_time desc limit 2\", sqlite3.connect(\"UsedObjects.db\"))"
   ]
  },
  {
   "cell_type": "code",
   "execution_count": 3,
   "id": "periodic-identification",
   "metadata": {
    "execution": {
     "iopub.execute_input": "2021-10-08T08:30:08.090260Z",
     "iopub.status.busy": "2021-10-08T08:30:08.088248Z",
     "iopub.status.idle": "2021-10-08T08:30:08.108347Z",
     "shell.execute_reply": "2021-10-08T08:30:08.109656Z"
    },
    "papermill": {
     "duration": 0.06511,
     "end_time": "2021-10-08T08:30:08.110067",
     "exception": false,
     "start_time": "2021-10-08T08:30:08.044957",
     "status": "completed"
    },
    "tags": []
   },
   "outputs": [
    {
     "data": {
      "text/html": [
       "<div>\n",
       "<style scoped>\n",
       "    .dataframe tbody tr th:only-of-type {\n",
       "        vertical-align: middle;\n",
       "    }\n",
       "\n",
       "    .dataframe tbody tr th {\n",
       "        vertical-align: top;\n",
       "    }\n",
       "\n",
       "    .dataframe thead th {\n",
       "        text-align: right;\n",
       "    }\n",
       "</style>\n",
       "<table border=\"1\" class=\"dataframe\">\n",
       "  <thead>\n",
       "    <tr style=\"text-align: right;\">\n",
       "      <th></th>\n",
       "      <th>RECORD_TIME</th>\n",
       "    </tr>\n",
       "  </thead>\n",
       "  <tbody>\n",
       "    <tr>\n",
       "      <th>0</th>\n",
       "      <td>2021-10-08 10:30</td>\n",
       "    </tr>\n",
       "    <tr>\n",
       "      <th>1</th>\n",
       "      <td>2021-10-08 10:00</td>\n",
       "    </tr>\n",
       "  </tbody>\n",
       "</table>\n",
       "</div>"
      ],
      "text/plain": [
       "        RECORD_TIME\n",
       "0  2021-10-08 10:30\n",
       "1  2021-10-08 10:00"
      ]
     },
     "execution_count": 3,
     "metadata": {},
     "output_type": "execute_result"
    }
   ],
   "source": [
    "timestamps"
   ]
  },
  {
   "cell_type": "code",
   "execution_count": 4,
   "id": "alternate-victory",
   "metadata": {
    "execution": {
     "iopub.execute_input": "2021-10-08T08:30:08.172011Z",
     "iopub.status.busy": "2021-10-08T08:30:08.170082Z",
     "iopub.status.idle": "2021-10-08T08:30:08.866127Z",
     "shell.execute_reply": "2021-10-08T08:30:08.867727Z"
    },
    "papermill": {
     "duration": 0.731485,
     "end_time": "2021-10-08T08:30:08.868165",
     "exception": false,
     "start_time": "2021-10-08T08:30:08.136680",
     "status": "completed"
    },
    "tags": []
   },
   "outputs": [],
   "source": [
    "df = pd.read_sql(\"select * from EBAY_TOP_BERLIN where record_time in (select distinct record_time from EBAY_TOP_BERLIN order by record_time desc limit 2)\", sqlite3.connect(\"UsedObjects.db\"))"
   ]
  },
  {
   "cell_type": "code",
   "execution_count": 5,
   "id": "popular-active",
   "metadata": {
    "execution": {
     "iopub.execute_input": "2021-10-08T08:30:08.938378Z",
     "iopub.status.busy": "2021-10-08T08:30:08.925716Z",
     "iopub.status.idle": "2021-10-08T08:30:08.955942Z",
     "shell.execute_reply": "2021-10-08T08:30:08.957316Z"
    },
    "papermill": {
     "duration": 0.069444,
     "end_time": "2021-10-08T08:30:08.957747",
     "exception": false,
     "start_time": "2021-10-08T08:30:08.888303",
     "status": "completed"
    },
    "tags": []
   },
   "outputs": [],
   "source": [
    "df_pivot = df.pivot_table(index=\"PRODUCT\", columns = \"RECORD_TIME\", values = \"LISTING_COUNT\")"
   ]
  },
  {
   "cell_type": "code",
   "execution_count": 6,
   "id": "union-huntington",
   "metadata": {
    "execution": {
     "iopub.execute_input": "2021-10-08T08:30:09.015050Z",
     "iopub.status.busy": "2021-10-08T08:30:09.012909Z",
     "iopub.status.idle": "2021-10-08T08:30:09.018139Z",
     "shell.execute_reply": "2021-10-08T08:30:09.019488Z"
    },
    "papermill": {
     "duration": 0.041175,
     "end_time": "2021-10-08T08:30:09.019907",
     "exception": false,
     "start_time": "2021-10-08T08:30:08.978732",
     "status": "completed"
    },
    "tags": []
   },
   "outputs": [],
   "source": [
    "df_pivot.columns = [\"stamp_1\", \"stamp_2\"]\n",
    "df_pivot_diff = df_pivot.diff(axis=1)"
   ]
  },
  {
   "cell_type": "code",
   "execution_count": 7,
   "id": "fifth-motion",
   "metadata": {
    "execution": {
     "iopub.execute_input": "2021-10-08T08:30:09.073900Z",
     "iopub.status.busy": "2021-10-08T08:30:09.071496Z",
     "iopub.status.idle": "2021-10-08T08:30:10.545740Z",
     "shell.execute_reply": "2021-10-08T08:30:10.547233Z"
    },
    "papermill": {
     "duration": 1.507088,
     "end_time": "2021-10-08T08:30:10.547719",
     "exception": false,
     "start_time": "2021-10-08T08:30:09.040631",
     "status": "completed"
    },
    "tags": []
   },
   "outputs": [
    {
     "data": {
      "text/plain": [
       "<AxesSubplot:ylabel='PRODUCT'>"
      ]
     },
     "execution_count": 7,
     "metadata": {},
     "output_type": "execute_result"
    },
    {
     "data": {
      "image/png": "[encoded data removed]",
      "text/plain": [
       "<Figure size 432x288 with 1 Axes>"
      ]
     },
     "metadata": {
      "needs_background": "light"
     },
     "output_type": "display_data"
    }
   ],
   "source": [
    "df_pivot_diff.sort_values(\"stamp_2\", ascending = False)[\"stamp_2\"].head(10).plot.barh()"
   ]
  },
  {
   "cell_type": "code",
   "execution_count": null,
   "id": "extra-executive",
   "metadata": {
    "papermill": {
     "duration": 0.022039,
     "end_time": "2021-10-08T08:30:10.594481",
     "exception": false,
     "start_time": "2021-10-08T08:30:10.572442",
     "status": "completed"
    },
    "tags": []
   },
   "outputs": [],
   "source": []
  }
 ],
 "metadata": {
  "kernelspec": {
   "display_name": "Python 3",
   "language": "python",
   "name": "python3"
  },
  "language_info": {
   "codemirror_mode": {
    "name": "ipython",
    "version": 3
   },
   "file_extension": ".py",
   "mimetype": "text/x-python",
   "name": "python",
   "nbconvert_exporter": "python",
   "pygments_lexer": "ipython3",
   "version": "3.9.5"
  },
  "papermill": {
   "default_parameters": {},
   "duration": 7.839867,
   "end_time": "2021-10-08T08:30:12.043940",
   "environment_variables": {},
   "exception": null,
   "input_path": "eBay_Overview.ipynb",
   "output_path": "eBay_Overview.ipynb",
   "parameters": {},
   "start_time": "2021-10-08T08:30:04.204073",
   "version": "2.3.3"
  }
 },
 "nbformat": 4,
 "nbformat_minor": 5
}