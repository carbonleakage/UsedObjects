{
 "cells": [
  {
   "cell_type": "code",
   "execution_count": 1,
   "id": "reverse-picking",
   "metadata": {
    "execution": {
     "iopub.execute_input": "2021-09-30T01:00:06.836733Z",
     "iopub.status.busy": "2021-09-30T01:00:06.834714Z",
     "iopub.status.idle": "2021-09-30T01:00:07.647021Z",
     "shell.execute_reply": "2021-09-30T01:00:07.648456Z"
    },
    "papermill": {
     "duration": 0.865774,
     "end_time": "2021-09-30T01:00:07.649129",
     "exception": false,
     "start_time": "2021-09-30T01:00:06.783355",
     "status": "completed"
    },
    "tags": []
   },
   "outputs": [],
   "source": [
    "import pandas as pd\n",
    "import sqlite3"
   ]
  },
  {
   "cell_type": "code",
   "execution_count": 2,
   "id": "innovative-syndrome",
   "metadata": {
    "execution": {
     "iopub.execute_input": "2021-09-30T01:00:07.700835Z",
     "iopub.status.busy": "2021-09-30T01:00:07.698423Z",
     "iopub.status.idle": "2021-09-30T01:00:08.116185Z",
     "shell.execute_reply": "2021-09-30T01:00:08.117494Z"
    },
    "papermill": {
     "duration": 0.448053,
     "end_time": "2021-09-30T01:00:08.117912",
     "exception": false,
     "start_time": "2021-09-30T01:00:07.669859",
     "status": "completed"
    },
    "tags": []
   },
   "outputs": [],
   "source": [
    "timestamps = pd.read_sql(\"select distinct record_time from EBAY_TOP_BERLIN order by record_time desc limit 2\", sqlite3.connect(\"UsedObjects.db\"))"
   ]
  },
  {
   "cell_type": "code",
   "execution_count": 3,
   "id": "periodic-identification",
   "metadata": {
    "execution": {
     "iopub.execute_input": "2021-09-30T01:00:08.187345Z",
     "iopub.status.busy": "2021-09-30T01:00:08.182193Z",
     "iopub.status.idle": "2021-09-30T01:00:08.202581Z",
     "shell.execute_reply": "2021-09-30T01:00:08.203926Z"
    },
    "papermill": {
     "duration": 0.067129,
     "end_time": "2021-09-30T01:00:08.204340",
     "exception": false,
     "start_time": "2021-09-30T01:00:08.137211",
     "status": "completed"
    },
    "tags": []
   },
   "outputs": [
    {
     "data": {
      "text/html": [
       "<div>\n",
       "<style scoped>\n",
       "    .dataframe tbody tr th:only-of-type {\n",
       "        vertical-align: middle;\n",
       "    }\n",
       "\n",
       "    .dataframe tbody tr th {\n",
       "        vertical-align: top;\n",
       "    }\n",
       "\n",
       "    .dataframe thead th {\n",
       "        text-align: right;\n",
       "    }\n",
       "</style>\n",
       "<table border=\"1\" class=\"dataframe\">\n",
       "  <thead>\n",
       "    <tr style=\"text-align: right;\">\n",
       "      <th></th>\n",
       "      <th>RECORD_TIME</th>\n",
       "    </tr>\n",
       "  </thead>\n",
       "  <tbody>\n",
       "    <tr>\n",
       "      <th>0</th>\n",
       "      <td>2021-09-30 03:00</td>\n",
       "    </tr>\n",
       "    <tr>\n",
       "      <th>1</th>\n",
       "      <td>2021-09-30 02:30</td>\n",
       "    </tr>\n",
       "  </tbody>\n",
       "</table>\n",
       "</div>"
      ],
      "text/plain": [
       "        RECORD_TIME\n",
       "0  2021-09-30 03:00\n",
       "1  2021-09-30 02:30"
      ]
     },
     "execution_count": 3,
     "metadata": {},
     "output_type": "execute_result"
    }
   ],
   "source": [
    "timestamps"
   ]
  },
  {
   "cell_type": "code",
   "execution_count": 4,
   "id": "alternate-victory",
   "metadata": {
    "execution": {
     "iopub.execute_input": "2021-09-30T01:00:08.256278Z",
     "iopub.status.busy": "2021-09-30T01:00:08.254336Z",
     "iopub.status.idle": "2021-09-30T01:00:08.860654Z",
     "shell.execute_reply": "2021-09-30T01:00:08.861859Z"
    },
    "papermill": {
     "duration": 0.636507,
     "end_time": "2021-09-30T01:00:08.862257",
     "exception": false,
     "start_time": "2021-09-30T01:00:08.225750",
     "status": "completed"
    },
    "tags": []
   },
   "outputs": [],
   "source": [
    "df = pd.read_sql(\"select * from EBAY_TOP_BERLIN where record_time in (select distinct record_time from EBAY_TOP_BERLIN order by record_time desc limit 2)\", sqlite3.connect(\"UsedObjects.db\"))"
   ]
  },
  {
   "cell_type": "code",
   "execution_count": 5,
   "id": "popular-active",
   "metadata": {
    "execution": {
     "iopub.execute_input": "2021-09-30T01:00:08.934224Z",
     "iopub.status.busy": "2021-09-30T01:00:08.921846Z",
     "iopub.status.idle": "2021-09-30T01:00:08.949963Z",
     "shell.execute_reply": "2021-09-30T01:00:08.951317Z"
    },
    "papermill": {
     "duration": 0.068576,
     "end_time": "2021-09-30T01:00:08.951743",
     "exception": false,
     "start_time": "2021-09-30T01:00:08.883167",
     "status": "completed"
    },
    "tags": []
   },
   "outputs": [],
   "source": [
    "df_pivot = df.pivot_table(index=\"PRODUCT\", columns = \"RECORD_TIME\", values = \"LISTING_COUNT\")"
   ]
  },
  {
   "cell_type": "code",
   "execution_count": 6,
   "id": "union-huntington",
   "metadata": {
    "execution": {
     "iopub.execute_input": "2021-09-30T01:00:09.008319Z",
     "iopub.status.busy": "2021-09-30T01:00:09.006212Z",
     "iopub.status.idle": "2021-09-30T01:00:09.011574Z",
     "shell.execute_reply": "2021-09-30T01:00:09.012767Z"
    },
    "papermill": {
     "duration": 0.041155,
     "end_time": "2021-09-30T01:00:09.013197",
     "exception": false,
     "start_time": "2021-09-30T01:00:08.972042",
     "status": "completed"
    },
    "tags": []
   },
   "outputs": [],
   "source": [
    "df_pivot.columns = [\"stamp_1\", \"stamp_2\"]\n",
    "df_pivot_diff = df_pivot.diff(axis=1)"
   ]
  },
  {
   "cell_type": "code",
   "execution_count": 7,
   "id": "fifth-motion",
   "metadata": {
    "execution": {
     "iopub.execute_input": "2021-09-30T01:00:09.067781Z",
     "iopub.status.busy": "2021-09-30T01:00:09.065216Z",
     "iopub.status.idle": "2021-09-30T01:00:10.588896Z",
     "shell.execute_reply": "2021-09-30T01:00:10.590172Z"
    },
    "papermill": {
     "duration": 1.556867,
     "end_time": "2021-09-30T01:00:10.590587",
     "exception": false,
     "start_time": "2021-09-30T01:00:09.033720",
     "status": "completed"
    },
    "tags": []
   },
   "outputs": [
    {
     "data": {
      "text/plain": [
       "<AxesSubplot:ylabel='PRODUCT'>"
      ]
     },
     "execution_count": 7,
     "metadata": {},
     "output_type": "execute_result"
    },
    {
     "data": {
      "image/png": "[encoded data removed]",
      "text/plain": [
       "<Figure size 432x288 with 1 Axes>"
      ]
     },
     "metadata": {
      "needs_background": "light"
     },
     "output_type": "display_data"
    }
   ],
   "source": [
    "df_pivot_diff.sort_values(\"stamp_2\", ascending = False)[\"stamp_2\"].head(10).plot.barh()"
   ]
  },
  {
   "cell_type": "code",
   "execution_count": null,
   "id": "extra-executive",
   "metadata": {
    "papermill": {
     "duration": 0.022452,
     "end_time": "2021-09-30T01:00:10.637037",
     "exception": false,
     "start_time": "2021-09-30T01:00:10.614585",
     "status": "completed"
    },
    "tags": []
   },
   "outputs": [],
   "source": []
  }
 ],
 "metadata": {
  "kernelspec": {
   "display_name": "Python 3",
   "language": "python",
   "name": "python3"
  },
  "language_info": {
   "codemirror_mode": {
    "name": "ipython",
    "version": 3
   },
   "file_extension": ".py",
   "mimetype": "text/x-python",
   "name": "python",
   "nbconvert_exporter": "python",
   "pygments_lexer": "ipython3",
   "version": "3.9.5"
  },
  "papermill": {
   "default_parameters": {},
   "duration": 7.823613,
   "end_time": "2021-09-30T01:00:12.193336",
   "environment_variables": {},
   "exception": null,
   "input_path": "eBay_Overview.ipynb",
   "output_path": "eBay_Overview.ipynb",
   "parameters": {},
   "start_time": "2021-09-30T01:00:04.369723",
   "version": "2.3.3"
  }
 },
 "nbformat": 4,
 "nbformat_minor": 5
}