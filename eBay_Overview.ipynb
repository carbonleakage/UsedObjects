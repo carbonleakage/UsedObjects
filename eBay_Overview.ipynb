{
 "cells": [
  {
   "cell_type": "code",
   "execution_count": 1,
   "id": "reverse-picking",
   "metadata": {
    "execution": {
     "iopub.execute_input": "2021-08-15T13:00:06.963711Z",
     "iopub.status.busy": "2021-08-15T13:00:06.961683Z",
     "iopub.status.idle": "2021-08-15T13:00:07.772177Z",
     "shell.execute_reply": "2021-08-15T13:00:07.773395Z"
    },
    "papermill": {
     "duration": 0.862697,
     "end_time": "2021-08-15T13:00:07.774133",
     "exception": false,
     "start_time": "2021-08-15T13:00:06.911436",
     "status": "completed"
    },
    "tags": []
   },
   "outputs": [],
   "source": [
    "import pandas as pd\n",
    "import sqlite3"
   ]
  },
  {
   "cell_type": "code",
   "execution_count": 2,
   "id": "innovative-syndrome",
   "metadata": {
    "execution": {
     "iopub.execute_input": "2021-08-15T13:00:07.825383Z",
     "iopub.status.busy": "2021-08-15T13:00:07.823298Z",
     "iopub.status.idle": "2021-08-15T13:00:07.877625Z",
     "shell.execute_reply": "2021-08-15T13:00:07.879047Z"
    },
    "papermill": {
     "duration": 0.084883,
     "end_time": "2021-08-15T13:00:07.879463",
     "exception": false,
     "start_time": "2021-08-15T13:00:07.794580",
     "status": "completed"
    },
    "tags": []
   },
   "outputs": [],
   "source": [
    "timestamps = pd.read_sql(\"select distinct record_time from EBAY_TOP_BERLIN order by record_time desc limit 2\", sqlite3.connect(\"UsedObjects.db\"))"
   ]
  },
  {
   "cell_type": "code",
   "execution_count": 3,
   "id": "periodic-identification",
   "metadata": {
    "execution": {
     "iopub.execute_input": "2021-08-15T13:00:07.950835Z",
     "iopub.status.busy": "2021-08-15T13:00:07.945540Z",
     "iopub.status.idle": "2021-08-15T13:00:07.965698Z",
     "shell.execute_reply": "2021-08-15T13:00:07.966967Z"
    },
    "papermill": {
     "duration": 0.067096,
     "end_time": "2021-08-15T13:00:07.967399",
     "exception": false,
     "start_time": "2021-08-15T13:00:07.900303",
     "status": "completed"
    },
    "tags": []
   },
   "outputs": [
    {
     "data": {
      "text/html": [
       "<div>\n",
       "<style scoped>\n",
       "    .dataframe tbody tr th:only-of-type {\n",
       "        vertical-align: middle;\n",
       "    }\n",
       "\n",
       "    .dataframe tbody tr th {\n",
       "        vertical-align: top;\n",
       "    }\n",
       "\n",
       "    .dataframe thead th {\n",
       "        text-align: right;\n",
       "    }\n",
       "</style>\n",
       "<table border=\"1\" class=\"dataframe\">\n",
       "  <thead>\n",
       "    <tr style=\"text-align: right;\">\n",
       "      <th></th>\n",
       "      <th>RECORD_TIME</th>\n",
       "    </tr>\n",
       "  </thead>\n",
       "  <tbody>\n",
       "    <tr>\n",
       "      <th>0</th>\n",
       "      <td>2021-08-15 15:00</td>\n",
       "    </tr>\n",
       "    <tr>\n",
       "      <th>1</th>\n",
       "      <td>2021-08-15 14:30</td>\n",
       "    </tr>\n",
       "  </tbody>\n",
       "</table>\n",
       "</div>"
      ],
      "text/plain": [
       "        RECORD_TIME\n",
       "0  2021-08-15 15:00\n",
       "1  2021-08-15 14:30"
      ]
     },
     "execution_count": 3,
     "metadata": {},
     "output_type": "execute_result"
    }
   ],
   "source": [
    "timestamps"
   ]
  },
  {
   "cell_type": "code",
   "execution_count": 4,
   "id": "alternate-victory",
   "metadata": {
    "execution": {
     "iopub.execute_input": "2021-08-15T13:00:08.017843Z",
     "iopub.status.busy": "2021-08-15T13:00:08.016020Z",
     "iopub.status.idle": "2021-08-15T13:00:08.099062Z",
     "shell.execute_reply": "2021-08-15T13:00:08.100329Z"
    },
    "papermill": {
     "duration": 0.113102,
     "end_time": "2021-08-15T13:00:08.100726",
     "exception": false,
     "start_time": "2021-08-15T13:00:07.987624",
     "status": "completed"
    },
    "tags": []
   },
   "outputs": [],
   "source": [
    "df = pd.read_sql(\"select * from EBAY_TOP_BERLIN where record_time in (select distinct record_time from EBAY_TOP_BERLIN order by record_time desc limit 2)\", sqlite3.connect(\"UsedObjects.db\"))"
   ]
  },
  {
   "cell_type": "code",
   "execution_count": 5,
   "id": "popular-active",
   "metadata": {
    "execution": {
     "iopub.execute_input": "2021-08-15T13:00:08.171022Z",
     "iopub.status.busy": "2021-08-15T13:00:08.160831Z",
     "iopub.status.idle": "2021-08-15T13:00:08.187711Z",
     "shell.execute_reply": "2021-08-15T13:00:08.188905Z"
    },
    "papermill": {
     "duration": 0.068029,
     "end_time": "2021-08-15T13:00:08.189295",
     "exception": false,
     "start_time": "2021-08-15T13:00:08.121266",
     "status": "completed"
    },
    "tags": []
   },
   "outputs": [],
   "source": [
    "df_pivot = df.pivot_table(index=\"PRODUCT\", columns = \"RECORD_TIME\", values = \"LISTING_COUNT\")"
   ]
  },
  {
   "cell_type": "code",
   "execution_count": 6,
   "id": "union-huntington",
   "metadata": {
    "execution": {
     "iopub.execute_input": "2021-08-15T13:00:08.245502Z",
     "iopub.status.busy": "2021-08-15T13:00:08.243444Z",
     "iopub.status.idle": "2021-08-15T13:00:08.248672Z",
     "shell.execute_reply": "2021-08-15T13:00:08.250005Z"
    },
    "papermill": {
     "duration": 0.040247,
     "end_time": "2021-08-15T13:00:08.250425",
     "exception": false,
     "start_time": "2021-08-15T13:00:08.210178",
     "status": "completed"
    },
    "tags": []
   },
   "outputs": [],
   "source": [
    "df_pivot.columns = [\"stamp_1\", \"stamp_2\"]\n",
    "df_pivot_diff = df_pivot.diff(axis=1)"
   ]
  },
  {
   "cell_type": "code",
   "execution_count": 7,
   "id": "fifth-motion",
   "metadata": {
    "execution": {
     "iopub.execute_input": "2021-08-15T13:00:08.305603Z",
     "iopub.status.busy": "2021-08-15T13:00:08.303240Z",
     "iopub.status.idle": "2021-08-15T13:00:09.802058Z",
     "shell.execute_reply": "2021-08-15T13:00:09.803352Z"
    },
    "papermill": {
     "duration": 1.531847,
     "end_time": "2021-08-15T13:00:09.803766",
     "exception": false,
     "start_time": "2021-08-15T13:00:08.271919",
     "status": "completed"
    },
    "tags": []
   },
   "outputs": [
    {
     "data": {
      "text/plain": [
       "<AxesSubplot:ylabel='PRODUCT'>"
      ]
     },
     "execution_count": 7,
     "metadata": {},
     "output_type": "execute_result"
    },
    {
     "data": {
      "image/png": "[encoded data removed]",
      "text/plain": [
       "<Figure size 432x288 with 1 Axes>"
      ]
     },
     "metadata": {
      "needs_background": "light"
     },
     "output_type": "display_data"
    }
   ],
   "source": [
    "df_pivot_diff.sort_values(\"stamp_2\", ascending = False)[\"stamp_2\"].head(10).plot.barh()"
   ]
  },
  {
   "cell_type": "code",
   "execution_count": null,
   "id": "extra-executive",
   "metadata": {
    "papermill": {
     "duration": 0.022249,
     "end_time": "2021-08-15T13:00:09.850630",
     "exception": false,
     "start_time": "2021-08-15T13:00:09.828381",
     "status": "completed"
    },
    "tags": []
   },
   "outputs": [],
   "source": []
  }
 ],
 "metadata": {
  "kernelspec": {
   "display_name": "Python 3",
   "language": "python",
   "name": "python3"
  },
  "language_info": {
   "codemirror_mode": {
    "name": "ipython",
    "version": 3
   },
   "file_extension": ".py",
   "mimetype": "text/x-python",
   "name": "python",
   "nbconvert_exporter": "python",
   "pygments_lexer": "ipython3",
   "version": "3.9.5"
  },
  "papermill": {
   "default_parameters": {},
   "duration": 6.827763,
   "end_time": "2021-08-15T13:00:11.320555",
   "environment_variables": {},
   "exception": null,
   "input_path": "eBay_Overview.ipynb",
   "output_path": "eBay_Overview.ipynb",
   "parameters": {},
   "start_time": "2021-08-15T13:00:04.492792",
   "version": "2.3.3"
  }
 },
 "nbformat": 4,
 "nbformat_minor": 5
}