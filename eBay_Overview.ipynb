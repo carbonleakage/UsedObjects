{
 "cells": [
  {
   "cell_type": "code",
   "execution_count": 1,
   "id": "reverse-picking",
   "metadata": {
    "execution": {
     "iopub.execute_input": "2021-09-11T00:00:06.701064Z",
     "iopub.status.busy": "2021-09-11T00:00:06.699084Z",
     "iopub.status.idle": "2021-09-11T00:00:07.511955Z",
     "shell.execute_reply": "2021-09-11T00:00:07.510166Z"
    },
    "papermill": {
     "duration": 0.863656,
     "end_time": "2021-09-11T00:00:07.512371",
     "exception": false,
     "start_time": "2021-09-11T00:00:06.648715",
     "status": "completed"
    },
    "tags": []
   },
   "outputs": [],
   "source": [
    "import pandas as pd\n",
    "import sqlite3"
   ]
  },
  {
   "cell_type": "code",
   "execution_count": 2,
   "id": "innovative-syndrome",
   "metadata": {
    "execution": {
     "iopub.execute_input": "2021-09-11T00:00:07.565104Z",
     "iopub.status.busy": "2021-09-11T00:00:07.562674Z",
     "iopub.status.idle": "2021-09-11T00:00:07.820432Z",
     "shell.execute_reply": "2021-09-11T00:00:07.821628Z"
    },
    "papermill": {
     "duration": 0.287889,
     "end_time": "2021-09-11T00:00:07.822025",
     "exception": false,
     "start_time": "2021-09-11T00:00:07.534136",
     "status": "completed"
    },
    "tags": []
   },
   "outputs": [],
   "source": [
    "timestamps = pd.read_sql(\"select distinct record_time from EBAY_TOP_BERLIN order by record_time desc limit 2\", sqlite3.connect(\"UsedObjects.db\"))"
   ]
  },
  {
   "cell_type": "code",
   "execution_count": 3,
   "id": "periodic-identification",
   "metadata": {
    "execution": {
     "iopub.execute_input": "2021-09-11T00:00:07.889991Z",
     "iopub.status.busy": "2021-09-11T00:00:07.887948Z",
     "iopub.status.idle": "2021-09-11T00:00:07.909749Z",
     "shell.execute_reply": "2021-09-11T00:00:07.911464Z"
    },
    "papermill": {
     "duration": 0.068081,
     "end_time": "2021-09-11T00:00:07.911997",
     "exception": false,
     "start_time": "2021-09-11T00:00:07.843916",
     "status": "completed"
    },
    "tags": []
   },
   "outputs": [
    {
     "data": {
      "text/html": [
       "<div>\n",
       "<style scoped>\n",
       "    .dataframe tbody tr th:only-of-type {\n",
       "        vertical-align: middle;\n",
       "    }\n",
       "\n",
       "    .dataframe tbody tr th {\n",
       "        vertical-align: top;\n",
       "    }\n",
       "\n",
       "    .dataframe thead th {\n",
       "        text-align: right;\n",
       "    }\n",
       "</style>\n",
       "<table border=\"1\" class=\"dataframe\">\n",
       "  <thead>\n",
       "    <tr style=\"text-align: right;\">\n",
       "      <th></th>\n",
       "      <th>RECORD_TIME</th>\n",
       "    </tr>\n",
       "  </thead>\n",
       "  <tbody>\n",
       "    <tr>\n",
       "      <th>0</th>\n",
       "      <td>2021-09-11 02:00</td>\n",
       "    </tr>\n",
       "    <tr>\n",
       "      <th>1</th>\n",
       "      <td>2021-09-11 01:30</td>\n",
       "    </tr>\n",
       "  </tbody>\n",
       "</table>\n",
       "</div>"
      ],
      "text/plain": [
       "        RECORD_TIME\n",
       "0  2021-09-11 02:00\n",
       "1  2021-09-11 01:30"
      ]
     },
     "execution_count": 3,
     "metadata": {},
     "output_type": "execute_result"
    }
   ],
   "source": [
    "timestamps"
   ]
  },
  {
   "cell_type": "code",
   "execution_count": 4,
   "id": "alternate-victory",
   "metadata": {
    "execution": {
     "iopub.execute_input": "2021-09-11T00:00:07.965170Z",
     "iopub.status.busy": "2021-09-11T00:00:07.963320Z",
     "iopub.status.idle": "2021-09-11T00:00:08.335953Z",
     "shell.execute_reply": "2021-09-11T00:00:08.337173Z"
    },
    "papermill": {
     "duration": 0.403024,
     "end_time": "2021-09-11T00:00:08.337569",
     "exception": false,
     "start_time": "2021-09-11T00:00:07.934545",
     "status": "completed"
    },
    "tags": []
   },
   "outputs": [],
   "source": [
    "df = pd.read_sql(\"select * from EBAY_TOP_BERLIN where record_time in (select distinct record_time from EBAY_TOP_BERLIN order by record_time desc limit 2)\", sqlite3.connect(\"UsedObjects.db\"))"
   ]
  },
  {
   "cell_type": "code",
   "execution_count": 5,
   "id": "popular-active",
   "metadata": {
    "execution": {
     "iopub.execute_input": "2021-09-11T00:00:08.424248Z",
     "iopub.status.busy": "2021-09-11T00:00:08.413292Z",
     "iopub.status.idle": "2021-09-11T00:00:08.440865Z",
     "shell.execute_reply": "2021-09-11T00:00:08.442082Z"
    },
    "papermill": {
     "duration": 0.072837,
     "end_time": "2021-09-11T00:00:08.442478",
     "exception": false,
     "start_time": "2021-09-11T00:00:08.369641",
     "status": "completed"
    },
    "tags": []
   },
   "outputs": [],
   "source": [
    "df_pivot = df.pivot_table(index=\"PRODUCT\", columns = \"RECORD_TIME\", values = \"LISTING_COUNT\")"
   ]
  },
  {
   "cell_type": "code",
   "execution_count": 6,
   "id": "union-huntington",
   "metadata": {
    "execution": {
     "iopub.execute_input": "2021-09-11T00:00:08.502135Z",
     "iopub.status.busy": "2021-09-11T00:00:08.499715Z",
     "iopub.status.idle": "2021-09-11T00:00:08.506038Z",
     "shell.execute_reply": "2021-09-11T00:00:08.507458Z"
    },
    "papermill": {
     "duration": 0.043012,
     "end_time": "2021-09-11T00:00:08.507943",
     "exception": false,
     "start_time": "2021-09-11T00:00:08.464931",
     "status": "completed"
    },
    "tags": []
   },
   "outputs": [],
   "source": [
    "df_pivot.columns = [\"stamp_1\", \"stamp_2\"]\n",
    "df_pivot_diff = df_pivot.diff(axis=1)"
   ]
  },
  {
   "cell_type": "code",
   "execution_count": 7,
   "id": "fifth-motion",
   "metadata": {
    "execution": {
     "iopub.execute_input": "2021-09-11T00:00:08.563180Z",
     "iopub.status.busy": "2021-09-11T00:00:08.560781Z",
     "iopub.status.idle": "2021-09-11T00:00:10.070032Z",
     "shell.execute_reply": "2021-09-11T00:00:10.071559Z"
    },
    "papermill": {
     "duration": 1.542173,
     "end_time": "2021-09-11T00:00:10.072042",
     "exception": false,
     "start_time": "2021-09-11T00:00:08.529869",
     "status": "completed"
    },
    "tags": []
   },
   "outputs": [
    {
     "data": {
      "text/plain": [
       "<AxesSubplot:ylabel='PRODUCT'>"
      ]
     },
     "execution_count": 7,
     "metadata": {},
     "output_type": "execute_result"
    },
    {
     "data": {
      "image/png": "[encoded data removed]",
      "text/plain": [
       "<Figure size 432x288 with 1 Axes>"
      ]
     },
     "metadata": {
      "needs_background": "light"
     },
     "output_type": "display_data"
    }
   ],
   "source": [
    "df_pivot_diff.sort_values(\"stamp_2\", ascending = False)[\"stamp_2\"].head(10).plot.barh()"
   ]
  },
  {
   "cell_type": "code",
   "execution_count": null,
   "id": "extra-executive",
   "metadata": {
    "papermill": {
     "duration": 0.022449,
     "end_time": "2021-09-11T00:00:10.119300",
     "exception": false,
     "start_time": "2021-09-11T00:00:10.096851",
     "status": "completed"
    },
    "tags": []
   },
   "outputs": [],
   "source": []
  }
 ],
 "metadata": {
  "kernelspec": {
   "display_name": "Python 3",
   "language": "python",
   "name": "python3"
  },
  "language_info": {
   "codemirror_mode": {
    "name": "ipython",
    "version": 3
   },
   "file_extension": ".py",
   "mimetype": "text/x-python",
   "name": "python",
   "nbconvert_exporter": "python",
   "pygments_lexer": "ipython3",
   "version": "3.9.5"
  },
  "papermill": {
   "default_parameters": {},
   "duration": 6.524922,
   "end_time": "2021-09-11T00:00:10.760366",
   "environment_variables": {},
   "exception": null,
   "input_path": "eBay_Overview.ipynb",
   "output_path": "eBay_Overview.ipynb",
   "parameters": {},
   "start_time": "2021-09-11T00:00:04.235444",
   "version": "2.3.3"
  }
 },
 "nbformat": 4,
 "nbformat_minor": 5
}