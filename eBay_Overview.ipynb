{
 "cells": [
  {
   "cell_type": "code",
   "execution_count": 1,
   "id": "reverse-picking",
   "metadata": {
    "execution": {
     "iopub.execute_input": "2021-08-10T18:00:03.780968Z",
     "iopub.status.busy": "2021-08-10T18:00:03.780207Z",
     "iopub.status.idle": "2021-08-10T18:00:04.414636Z",
     "shell.execute_reply": "2021-08-10T18:00:04.415259Z"
    },
    "papermill": {
     "duration": 0.653634,
     "end_time": "2021-08-10T18:00:04.415568",
     "exception": false,
     "start_time": "2021-08-10T18:00:03.761934",
     "status": "completed"
    },
    "tags": []
   },
   "outputs": [],
   "source": [
    "import pandas as pd\n",
    "import sqlite3"
   ]
  },
  {
   "cell_type": "code",
   "execution_count": 2,
   "id": "innovative-syndrome",
   "metadata": {
    "execution": {
     "iopub.execute_input": "2021-08-10T18:00:04.442111Z",
     "iopub.status.busy": "2021-08-10T18:00:04.441344Z",
     "iopub.status.idle": "2021-08-10T18:00:04.655528Z",
     "shell.execute_reply": "2021-08-10T18:00:04.654076Z"
    },
    "papermill": {
     "duration": 0.229569,
     "end_time": "2021-08-10T18:00:04.655789",
     "exception": false,
     "start_time": "2021-08-10T18:00:04.426220",
     "status": "completed"
    },
    "tags": []
   },
   "outputs": [],
   "source": [
    "timestamps = pd.read_sql(\"select distinct record_time from EBAY_TOP_BERLIN order by record_time desc limit 2\", sqlite3.connect(\"UsedObjects.db\"))"
   ]
  },
  {
   "cell_type": "code",
   "execution_count": 3,
   "id": "periodic-identification",
   "metadata": {
    "execution": {
     "iopub.execute_input": "2021-08-10T18:00:04.684979Z",
     "iopub.status.busy": "2021-08-10T18:00:04.684212Z",
     "iopub.status.idle": "2021-08-10T18:00:04.696069Z",
     "shell.execute_reply": "2021-08-10T18:00:04.696682Z"
    },
    "papermill": {
     "duration": 0.031374,
     "end_time": "2021-08-10T18:00:04.696872",
     "exception": false,
     "start_time": "2021-08-10T18:00:04.665498",
     "status": "completed"
    },
    "tags": []
   },
   "outputs": [
    {
     "data": {
      "text/html": [
       "<div>\n",
       "<style scoped>\n",
       "    .dataframe tbody tr th:only-of-type {\n",
       "        vertical-align: middle;\n",
       "    }\n",
       "\n",
       "    .dataframe tbody tr th {\n",
       "        vertical-align: top;\n",
       "    }\n",
       "\n",
       "    .dataframe thead th {\n",
       "        text-align: right;\n",
       "    }\n",
       "</style>\n",
       "<table border=\"1\" class=\"dataframe\">\n",
       "  <thead>\n",
       "    <tr style=\"text-align: right;\">\n",
       "      <th></th>\n",
       "      <th>RECORD_TIME</th>\n",
       "    </tr>\n",
       "  </thead>\n",
       "  <tbody>\n",
       "    <tr>\n",
       "      <th>0</th>\n",
       "      <td>2021-08-10 20:00</td>\n",
       "    </tr>\n",
       "    <tr>\n",
       "      <th>1</th>\n",
       "      <td>2021-08-10 19:30</td>\n",
       "    </tr>\n",
       "  </tbody>\n",
       "</table>\n",
       "</div>"
      ],
      "text/plain": [
       "        RECORD_TIME\n",
       "0  2021-08-10 20:00\n",
       "1  2021-08-10 19:30"
      ]
     },
     "execution_count": 3,
     "metadata": {},
     "output_type": "execute_result"
    }
   ],
   "source": [
    "timestamps"
   ]
  },
  {
   "cell_type": "code",
   "execution_count": 4,
   "id": "alternate-victory",
   "metadata": {
    "execution": {
     "iopub.execute_input": "2021-08-10T18:00:04.724286Z",
     "iopub.status.busy": "2021-08-10T18:00:04.723356Z",
     "iopub.status.idle": "2021-08-10T18:00:04.739393Z",
     "shell.execute_reply": "2021-08-10T18:00:04.740090Z"
    },
    "papermill": {
     "duration": 0.030595,
     "end_time": "2021-08-10T18:00:04.740346",
     "exception": false,
     "start_time": "2021-08-10T18:00:04.709751",
     "status": "completed"
    },
    "tags": []
   },
   "outputs": [],
   "source": [
    "df = pd.read_sql(\"select * from EBAY_TOP_BERLIN where record_time in (select distinct record_time from EBAY_TOP_BERLIN order by record_time desc limit 2)\", sqlite3.connect(\"UsedObjects.db\"))"
   ]
  },
  {
   "cell_type": "code",
   "execution_count": 5,
   "id": "popular-active",
   "metadata": {
    "execution": {
     "iopub.execute_input": "2021-08-10T18:00:04.771596Z",
     "iopub.status.busy": "2021-08-10T18:00:04.770709Z",
     "iopub.status.idle": "2021-08-10T18:00:04.789673Z",
     "shell.execute_reply": "2021-08-10T18:00:04.789062Z"
    },
    "papermill": {
     "duration": 0.035706,
     "end_time": "2021-08-10T18:00:04.789833",
     "exception": false,
     "start_time": "2021-08-10T18:00:04.754127",
     "status": "completed"
    },
    "tags": []
   },
   "outputs": [],
   "source": [
    "df_pivot = df.pivot_table(index=\"PRODUCT\", columns = \"RECORD_TIME\", values = \"LISTING_COUNT\")"
   ]
  },
  {
   "cell_type": "code",
   "execution_count": 6,
   "id": "union-huntington",
   "metadata": {
    "execution": {
     "iopub.execute_input": "2021-08-10T18:00:04.815468Z",
     "iopub.status.busy": "2021-08-10T18:00:04.814785Z",
     "iopub.status.idle": "2021-08-10T18:00:04.819849Z",
     "shell.execute_reply": "2021-08-10T18:00:04.820418Z"
    },
    "papermill": {
     "duration": 0.022311,
     "end_time": "2021-08-10T18:00:04.820614",
     "exception": false,
     "start_time": "2021-08-10T18:00:04.798303",
     "status": "completed"
    },
    "tags": []
   },
   "outputs": [],
   "source": [
    "df_pivot.columns = [\"stamp_1\", \"stamp_2\"]\n",
    "df_pivot_diff = df_pivot.diff(axis=1)"
   ]
  },
  {
   "cell_type": "code",
   "execution_count": 7,
   "id": "fifth-motion",
   "metadata": {
    "execution": {
     "iopub.execute_input": "2021-08-10T18:00:04.898282Z",
     "iopub.status.busy": "2021-08-10T18:00:04.897089Z",
     "iopub.status.idle": "2021-08-10T18:00:05.587215Z",
     "shell.execute_reply": "2021-08-10T18:00:05.586529Z"
    },
    "papermill": {
     "duration": 0.758505,
     "end_time": "2021-08-10T18:00:05.587375",
     "exception": false,
     "start_time": "2021-08-10T18:00:04.828870",
     "status": "completed"
    },
    "tags": []
   },
   "outputs": [
    {
     "data": {
      "text/plain": [
       "<AxesSubplot:ylabel='PRODUCT'>"
      ]
     },
     "execution_count": 7,
     "metadata": {},
     "output_type": "execute_result"
    },
    {
     "data": {
      "image/png": "[encoded data removed]",
      "text/plain": [
       "<Figure size 432x288 with 1 Axes>"
      ]
     },
     "metadata": {
      "needs_background": "light"
     },
     "output_type": "display_data"
    }
   ],
   "source": [
    "df_pivot_diff.sort_values(\"stamp_2\", ascending = False)[\"stamp_2\"].head(10).plot.barh()"
   ]
  },
  {
   "cell_type": "code",
   "execution_count": null,
   "id": "extra-executive",
   "metadata": {
    "papermill": {
     "duration": 0.011957,
     "end_time": "2021-08-10T18:00:05.612033",
     "exception": false,
     "start_time": "2021-08-10T18:00:05.600076",
     "status": "completed"
    },
    "tags": []
   },
   "outputs": [],
   "source": []
  }
 ],
 "metadata": {
  "kernelspec": {
   "display_name": "Python 3",
   "language": "python",
   "name": "python3"
  },
  "language_info": {
   "codemirror_mode": {
    "name": "ipython",
    "version": 3
   },
   "file_extension": ".py",
   "mimetype": "text/x-python",
   "name": "python",
   "nbconvert_exporter": "python",
   "pygments_lexer": "ipython3",
   "version": "3.8.8"
  },
  "papermill": {
   "default_parameters": {},
   "duration": 5.095796,
   "end_time": "2021-08-10T18:00:07.165206",
   "environment_variables": {},
   "exception": null,
   "input_path": "/Users/saravananshanmugam/Carbonleakage_Git/UsedObjects/eBay_Overview.ipynb",
   "output_path": "/Users/saravananshanmugam/Carbonleakage_Git/UsedObjects/eBay_Overview.ipynb",
   "parameters": {},
   "start_time": "2021-08-10T18:00:02.069410",
   "version": "2.3.3"
  }
 },
 "nbformat": 4,
 "nbformat_minor": 5
}