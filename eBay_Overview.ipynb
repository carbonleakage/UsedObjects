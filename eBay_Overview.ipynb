{
 "cells": [
  {
   "cell_type": "code",
   "execution_count": 1,
   "id": "reverse-picking",
   "metadata": {
    "execution": {
     "iopub.execute_input": "2021-08-29T06:00:06.742511Z",
     "iopub.status.busy": "2021-08-29T06:00:06.740547Z",
     "iopub.status.idle": "2021-08-29T06:00:07.545303Z",
     "shell.execute_reply": "2021-08-29T06:00:07.546594Z"
    },
    "papermill": {
     "duration": 0.858456,
     "end_time": "2021-08-29T06:00:07.547218",
     "exception": false,
     "start_time": "2021-08-29T06:00:06.688762",
     "status": "completed"
    },
    "tags": []
   },
   "outputs": [],
   "source": [
    "import pandas as pd\n",
    "import sqlite3"
   ]
  },
  {
   "cell_type": "code",
   "execution_count": 2,
   "id": "innovative-syndrome",
   "metadata": {
    "execution": {
     "iopub.execute_input": "2021-08-29T06:00:07.598079Z",
     "iopub.status.busy": "2021-08-29T06:00:07.596108Z",
     "iopub.status.idle": "2021-08-29T06:00:07.748904Z",
     "shell.execute_reply": "2021-08-29T06:00:07.750059Z"
    },
    "papermill": {
     "duration": 0.182324,
     "end_time": "2021-08-29T06:00:07.750474",
     "exception": false,
     "start_time": "2021-08-29T06:00:07.568150",
     "status": "completed"
    },
    "tags": []
   },
   "outputs": [],
   "source": [
    "timestamps = pd.read_sql(\"select distinct record_time from EBAY_TOP_BERLIN order by record_time desc limit 2\", sqlite3.connect(\"UsedObjects.db\"))"
   ]
  },
  {
   "cell_type": "code",
   "execution_count": 3,
   "id": "periodic-identification",
   "metadata": {
    "execution": {
     "iopub.execute_input": "2021-08-29T06:00:07.814886Z",
     "iopub.status.busy": "2021-08-29T06:00:07.812867Z",
     "iopub.status.idle": "2021-08-29T06:00:07.833005Z",
     "shell.execute_reply": "2021-08-29T06:00:07.834322Z"
    },
    "papermill": {
     "duration": 0.063557,
     "end_time": "2021-08-29T06:00:07.834743",
     "exception": false,
     "start_time": "2021-08-29T06:00:07.771186",
     "status": "completed"
    },
    "tags": []
   },
   "outputs": [
    {
     "data": {
      "text/html": [
       "<div>\n",
       "<style scoped>\n",
       "    .dataframe tbody tr th:only-of-type {\n",
       "        vertical-align: middle;\n",
       "    }\n",
       "\n",
       "    .dataframe tbody tr th {\n",
       "        vertical-align: top;\n",
       "    }\n",
       "\n",
       "    .dataframe thead th {\n",
       "        text-align: right;\n",
       "    }\n",
       "</style>\n",
       "<table border=\"1\" class=\"dataframe\">\n",
       "  <thead>\n",
       "    <tr style=\"text-align: right;\">\n",
       "      <th></th>\n",
       "      <th>RECORD_TIME</th>\n",
       "    </tr>\n",
       "  </thead>\n",
       "  <tbody>\n",
       "    <tr>\n",
       "      <th>0</th>\n",
       "      <td>2021-08-29 08:00</td>\n",
       "    </tr>\n",
       "    <tr>\n",
       "      <th>1</th>\n",
       "      <td>2021-08-29 07:30</td>\n",
       "    </tr>\n",
       "  </tbody>\n",
       "</table>\n",
       "</div>"
      ],
      "text/plain": [
       "        RECORD_TIME\n",
       "0  2021-08-29 08:00\n",
       "1  2021-08-29 07:30"
      ]
     },
     "execution_count": 3,
     "metadata": {},
     "output_type": "execute_result"
    }
   ],
   "source": [
    "timestamps"
   ]
  },
  {
   "cell_type": "code",
   "execution_count": 4,
   "id": "alternate-victory",
   "metadata": {
    "execution": {
     "iopub.execute_input": "2021-08-29T06:00:07.886604Z",
     "iopub.status.busy": "2021-08-29T06:00:07.884417Z",
     "iopub.status.idle": "2021-08-29T06:00:08.112523Z",
     "shell.execute_reply": "2021-08-29T06:00:08.113688Z"
    },
    "papermill": {
     "duration": 0.25816,
     "end_time": "2021-08-29T06:00:08.114109",
     "exception": false,
     "start_time": "2021-08-29T06:00:07.855949",
     "status": "completed"
    },
    "tags": []
   },
   "outputs": [],
   "source": [
    "df = pd.read_sql(\"select * from EBAY_TOP_BERLIN where record_time in (select distinct record_time from EBAY_TOP_BERLIN order by record_time desc limit 2)\", sqlite3.connect(\"UsedObjects.db\"))"
   ]
  },
  {
   "cell_type": "code",
   "execution_count": 5,
   "id": "popular-active",
   "metadata": {
    "execution": {
     "iopub.execute_input": "2021-08-29T06:00:08.182545Z",
     "iopub.status.busy": "2021-08-29T06:00:08.173567Z",
     "iopub.status.idle": "2021-08-29T06:00:08.202946Z",
     "shell.execute_reply": "2021-08-29T06:00:08.204168Z"
    },
    "papermill": {
     "duration": 0.067949,
     "end_time": "2021-08-29T06:00:08.204632",
     "exception": false,
     "start_time": "2021-08-29T06:00:08.136683",
     "status": "completed"
    },
    "tags": []
   },
   "outputs": [],
   "source": [
    "df_pivot = df.pivot_table(index=\"PRODUCT\", columns = \"RECORD_TIME\", values = \"LISTING_COUNT\")"
   ]
  },
  {
   "cell_type": "code",
   "execution_count": 6,
   "id": "union-huntington",
   "metadata": {
    "execution": {
     "iopub.execute_input": "2021-08-29T06:00:08.268929Z",
     "iopub.status.busy": "2021-08-29T06:00:08.266885Z",
     "iopub.status.idle": "2021-08-29T06:00:08.272145Z",
     "shell.execute_reply": "2021-08-29T06:00:08.273349Z"
    },
    "papermill": {
     "duration": 0.043437,
     "end_time": "2021-08-29T06:00:08.273801",
     "exception": false,
     "start_time": "2021-08-29T06:00:08.230364",
     "status": "completed"
    },
    "tags": []
   },
   "outputs": [],
   "source": [
    "df_pivot.columns = [\"stamp_1\", \"stamp_2\"]\n",
    "df_pivot_diff = df_pivot.diff(axis=1)"
   ]
  },
  {
   "cell_type": "code",
   "execution_count": 7,
   "id": "fifth-motion",
   "metadata": {
    "execution": {
     "iopub.execute_input": "2021-08-29T06:00:08.327343Z",
     "iopub.status.busy": "2021-08-29T06:00:08.324985Z",
     "iopub.status.idle": "2021-08-29T06:00:09.825866Z",
     "shell.execute_reply": "2021-08-29T06:00:09.827176Z"
    },
    "papermill": {
     "duration": 1.533517,
     "end_time": "2021-08-29T06:00:09.827599",
     "exception": false,
     "start_time": "2021-08-29T06:00:08.294082",
     "status": "completed"
    },
    "tags": []
   },
   "outputs": [
    {
     "data": {
      "text/plain": [
       "<AxesSubplot:ylabel='PRODUCT'>"
      ]
     },
     "execution_count": 7,
     "metadata": {},
     "output_type": "execute_result"
    },
    {
     "data": {
      "image/png": "[encoded data removed]",
      "text/plain": [
       "<Figure size 432x288 with 1 Axes>"
      ]
     },
     "metadata": {
      "needs_background": "light"
     },
     "output_type": "display_data"
    }
   ],
   "source": [
    "df_pivot_diff.sort_values(\"stamp_2\", ascending = False)[\"stamp_2\"].head(10).plot.barh()"
   ]
  },
  {
   "cell_type": "code",
   "execution_count": null,
   "id": "extra-executive",
   "metadata": {
    "papermill": {
     "duration": 0.022277,
     "end_time": "2021-08-29T06:00:09.873197",
     "exception": false,
     "start_time": "2021-08-29T06:00:09.850920",
     "status": "completed"
    },
    "tags": []
   },
   "outputs": [],
   "source": []
  }
 ],
 "metadata": {
  "kernelspec": {
   "display_name": "Python 3",
   "language": "python",
   "name": "python3"
  },
  "language_info": {
   "codemirror_mode": {
    "name": "ipython",
    "version": 3
   },
   "file_extension": ".py",
   "mimetype": "text/x-python",
   "name": "python",
   "nbconvert_exporter": "python",
   "pygments_lexer": "ipython3",
   "version": "3.9.5"
  },
  "papermill": {
   "default_parameters": {},
   "duration": 6.819943,
   "end_time": "2021-08-29T06:00:11.109273",
   "environment_variables": {},
   "exception": null,
   "input_path": "eBay_Overview.ipynb",
   "output_path": "eBay_Overview.ipynb",
   "parameters": {},
   "start_time": "2021-08-29T06:00:04.289330",
   "version": "2.3.3"
  }
 },
 "nbformat": 4,
 "nbformat_minor": 5
}