{
 "cells": [
  {
   "cell_type": "code",
   "execution_count": 1,
   "id": "reverse-picking",
   "metadata": {
    "execution": {
     "iopub.execute_input": "2021-10-08T20:30:06.904955Z",
     "iopub.status.busy": "2021-10-08T20:30:06.902910Z",
     "iopub.status.idle": "2021-10-08T20:30:07.718197Z",
     "shell.execute_reply": "2021-10-08T20:30:07.719541Z"
    },
    "papermill": {
     "duration": 0.865883,
     "end_time": "2021-10-08T20:30:07.720169",
     "exception": false,
     "start_time": "2021-10-08T20:30:06.854286",
     "status": "completed"
    },
    "tags": []
   },
   "outputs": [],
   "source": [
    "import pandas as pd\n",
    "import sqlite3"
   ]
  },
  {
   "cell_type": "code",
   "execution_count": 2,
   "id": "innovative-syndrome",
   "metadata": {
    "execution": {
     "iopub.execute_input": "2021-10-08T20:30:07.770656Z",
     "iopub.status.busy": "2021-10-08T20:30:07.768809Z",
     "iopub.status.idle": "2021-10-08T20:30:08.254391Z",
     "shell.execute_reply": "2021-10-08T20:30:08.255872Z"
    },
    "papermill": {
     "duration": 0.515566,
     "end_time": "2021-10-08T20:30:08.256347",
     "exception": false,
     "start_time": "2021-10-08T20:30:07.740781",
     "status": "completed"
    },
    "tags": []
   },
   "outputs": [],
   "source": [
    "timestamps = pd.read_sql(\"select distinct record_time from EBAY_TOP_BERLIN order by record_time desc limit 2\", sqlite3.connect(\"UsedObjects.db\"))"
   ]
  },
  {
   "cell_type": "code",
   "execution_count": 3,
   "id": "periodic-identification",
   "metadata": {
    "execution": {
     "iopub.execute_input": "2021-10-08T20:30:08.321969Z",
     "iopub.status.busy": "2021-10-08T20:30:08.319974Z",
     "iopub.status.idle": "2021-10-08T20:30:08.339920Z",
     "shell.execute_reply": "2021-10-08T20:30:08.341142Z"
    },
    "papermill": {
     "duration": 0.064715,
     "end_time": "2021-10-08T20:30:08.341542",
     "exception": false,
     "start_time": "2021-10-08T20:30:08.276827",
     "status": "completed"
    },
    "tags": []
   },
   "outputs": [
    {
     "data": {
      "text/html": [
       "<div>\n",
       "<style scoped>\n",
       "    .dataframe tbody tr th:only-of-type {\n",
       "        vertical-align: middle;\n",
       "    }\n",
       "\n",
       "    .dataframe tbody tr th {\n",
       "        vertical-align: top;\n",
       "    }\n",
       "\n",
       "    .dataframe thead th {\n",
       "        text-align: right;\n",
       "    }\n",
       "</style>\n",
       "<table border=\"1\" class=\"dataframe\">\n",
       "  <thead>\n",
       "    <tr style=\"text-align: right;\">\n",
       "      <th></th>\n",
       "      <th>RECORD_TIME</th>\n",
       "    </tr>\n",
       "  </thead>\n",
       "  <tbody>\n",
       "    <tr>\n",
       "      <th>0</th>\n",
       "      <td>2021-10-08 22:30</td>\n",
       "    </tr>\n",
       "    <tr>\n",
       "      <th>1</th>\n",
       "      <td>2021-10-08 22:00</td>\n",
       "    </tr>\n",
       "  </tbody>\n",
       "</table>\n",
       "</div>"
      ],
      "text/plain": [
       "        RECORD_TIME\n",
       "0  2021-10-08 22:30\n",
       "1  2021-10-08 22:00"
      ]
     },
     "execution_count": 3,
     "metadata": {},
     "output_type": "execute_result"
    }
   ],
   "source": [
    "timestamps"
   ]
  },
  {
   "cell_type": "code",
   "execution_count": 4,
   "id": "alternate-victory",
   "metadata": {
    "execution": {
     "iopub.execute_input": "2021-10-08T20:30:08.402971Z",
     "iopub.status.busy": "2021-10-08T20:30:08.400943Z",
     "iopub.status.idle": "2021-10-08T20:30:09.120565Z",
     "shell.execute_reply": "2021-10-08T20:30:09.121688Z"
    },
    "papermill": {
     "duration": 0.752626,
     "end_time": "2021-10-08T20:30:09.122102",
     "exception": false,
     "start_time": "2021-10-08T20:30:08.369476",
     "status": "completed"
    },
    "tags": []
   },
   "outputs": [],
   "source": [
    "df = pd.read_sql(\"select * from EBAY_TOP_BERLIN where record_time in (select distinct record_time from EBAY_TOP_BERLIN order by record_time desc limit 2)\", sqlite3.connect(\"UsedObjects.db\"))"
   ]
  },
  {
   "cell_type": "code",
   "execution_count": 5,
   "id": "popular-active",
   "metadata": {
    "execution": {
     "iopub.execute_input": "2021-10-08T20:30:09.185973Z",
     "iopub.status.busy": "2021-10-08T20:30:09.181607Z",
     "iopub.status.idle": "2021-10-08T20:30:09.211703Z",
     "shell.execute_reply": "2021-10-08T20:30:09.212927Z"
    },
    "papermill": {
     "duration": 0.068543,
     "end_time": "2021-10-08T20:30:09.213331",
     "exception": false,
     "start_time": "2021-10-08T20:30:09.144788",
     "status": "completed"
    },
    "tags": []
   },
   "outputs": [],
   "source": [
    "df_pivot = df.pivot_table(index=\"PRODUCT\", columns = \"RECORD_TIME\", values = \"LISTING_COUNT\")"
   ]
  },
  {
   "cell_type": "code",
   "execution_count": 6,
   "id": "union-huntington",
   "metadata": {
    "execution": {
     "iopub.execute_input": "2021-10-08T20:30:09.271168Z",
     "iopub.status.busy": "2021-10-08T20:30:09.268773Z",
     "iopub.status.idle": "2021-10-08T20:30:09.274022Z",
     "shell.execute_reply": "2021-10-08T20:30:09.275518Z"
    },
    "papermill": {
     "duration": 0.041075,
     "end_time": "2021-10-08T20:30:09.275965",
     "exception": false,
     "start_time": "2021-10-08T20:30:09.234890",
     "status": "completed"
    },
    "tags": []
   },
   "outputs": [],
   "source": [
    "df_pivot.columns = [\"stamp_1\", \"stamp_2\"]\n",
    "df_pivot_diff = df_pivot.diff(axis=1)"
   ]
  },
  {
   "cell_type": "code",
   "execution_count": 7,
   "id": "fifth-motion",
   "metadata": {
    "execution": {
     "iopub.execute_input": "2021-10-08T20:30:09.331715Z",
     "iopub.status.busy": "2021-10-08T20:30:09.329030Z",
     "iopub.status.idle": "2021-10-08T20:30:10.823734Z",
     "shell.execute_reply": "2021-10-08T20:30:10.824945Z"
    },
    "papermill": {
     "duration": 1.528419,
     "end_time": "2021-10-08T20:30:10.825382",
     "exception": false,
     "start_time": "2021-10-08T20:30:09.296963",
     "status": "completed"
    },
    "tags": []
   },
   "outputs": [
    {
     "data": {
      "text/plain": [
       "<AxesSubplot:ylabel='PRODUCT'>"
      ]
     },
     "execution_count": 7,
     "metadata": {},
     "output_type": "execute_result"
    },
    {
     "data": {
      "image/png": "[encoded data removed]",
      "text/plain": [
       "<Figure size 432x288 with 1 Axes>"
      ]
     },
     "metadata": {
      "needs_background": "light"
     },
     "output_type": "display_data"
    }
   ],
   "source": [
    "df_pivot_diff.sort_values(\"stamp_2\", ascending = False)[\"stamp_2\"].head(10).plot.barh()"
   ]
  },
  {
   "cell_type": "code",
   "execution_count": null,
   "id": "extra-executive",
   "metadata": {
    "papermill": {
     "duration": 0.022521,
     "end_time": "2021-10-08T20:30:10.872763",
     "exception": false,
     "start_time": "2021-10-08T20:30:10.850242",
     "status": "completed"
    },
    "tags": []
   },
   "outputs": [],
   "source": []
  }
 ],
 "metadata": {
  "kernelspec": {
   "display_name": "Python 3",
   "language": "python",
   "name": "python3"
  },
  "language_info": {
   "codemirror_mode": {
    "name": "ipython",
    "version": 3
   },
   "file_extension": ".py",
   "mimetype": "text/x-python",
   "name": "python",
   "nbconvert_exporter": "python",
   "pygments_lexer": "ipython3",
   "version": "3.9.5"
  },
  "papermill": {
   "default_parameters": {},
   "duration": 7.840177,
   "end_time": "2021-10-08T20:30:12.271960",
   "environment_variables": {},
   "exception": null,
   "input_path": "eBay_Overview.ipynb",
   "output_path": "eBay_Overview.ipynb",
   "parameters": {},
   "start_time": "2021-10-08T20:30:04.431783",
   "version": "2.3.3"
  }
 },
 "nbformat": 4,
 "nbformat_minor": 5
}