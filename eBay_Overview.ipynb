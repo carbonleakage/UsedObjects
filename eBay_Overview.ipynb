{
 "cells": [
  {
   "cell_type": "code",
   "execution_count": 1,
   "id": "reverse-picking",
   "metadata": {
    "execution": {
     "iopub.execute_input": "2021-09-01T06:30:07.404834Z",
     "iopub.status.busy": "2021-09-01T06:30:07.402831Z",
     "iopub.status.idle": "2021-09-01T06:30:08.207601Z",
     "shell.execute_reply": "2021-09-01T06:30:08.208883Z"
    },
    "papermill": {
     "duration": 0.856961,
     "end_time": "2021-09-01T06:30:08.209510",
     "exception": false,
     "start_time": "2021-09-01T06:30:07.352549",
     "status": "completed"
    },
    "tags": []
   },
   "outputs": [],
   "source": [
    "import pandas as pd\n",
    "import sqlite3"
   ]
  },
  {
   "cell_type": "code",
   "execution_count": 2,
   "id": "innovative-syndrome",
   "metadata": {
    "execution": {
     "iopub.execute_input": "2021-09-01T06:30:08.259671Z",
     "iopub.status.busy": "2021-09-01T06:30:08.257712Z",
     "iopub.status.idle": "2021-09-01T06:30:08.433318Z",
     "shell.execute_reply": "2021-09-01T06:30:08.434506Z"
    },
    "papermill": {
     "duration": 0.204982,
     "end_time": "2021-09-01T06:30:08.434945",
     "exception": false,
     "start_time": "2021-09-01T06:30:08.229963",
     "status": "completed"
    },
    "tags": []
   },
   "outputs": [],
   "source": [
    "timestamps = pd.read_sql(\"select distinct record_time from EBAY_TOP_BERLIN order by record_time desc limit 2\", sqlite3.connect(\"UsedObjects.db\"))"
   ]
  },
  {
   "cell_type": "code",
   "execution_count": 3,
   "id": "periodic-identification",
   "metadata": {
    "execution": {
     "iopub.execute_input": "2021-09-01T06:30:08.501051Z",
     "iopub.status.busy": "2021-09-01T06:30:08.498940Z",
     "iopub.status.idle": "2021-09-01T06:30:08.518371Z",
     "shell.execute_reply": "2021-09-01T06:30:08.519793Z"
    },
    "papermill": {
     "duration": 0.064374,
     "end_time": "2021-09-01T06:30:08.520252",
     "exception": false,
     "start_time": "2021-09-01T06:30:08.455878",
     "status": "completed"
    },
    "tags": []
   },
   "outputs": [
    {
     "data": {
      "text/html": [
       "<div>\n",
       "<style scoped>\n",
       "    .dataframe tbody tr th:only-of-type {\n",
       "        vertical-align: middle;\n",
       "    }\n",
       "\n",
       "    .dataframe tbody tr th {\n",
       "        vertical-align: top;\n",
       "    }\n",
       "\n",
       "    .dataframe thead th {\n",
       "        text-align: right;\n",
       "    }\n",
       "</style>\n",
       "<table border=\"1\" class=\"dataframe\">\n",
       "  <thead>\n",
       "    <tr style=\"text-align: right;\">\n",
       "      <th></th>\n",
       "      <th>RECORD_TIME</th>\n",
       "    </tr>\n",
       "  </thead>\n",
       "  <tbody>\n",
       "    <tr>\n",
       "      <th>0</th>\n",
       "      <td>2021-09-01 08:30</td>\n",
       "    </tr>\n",
       "    <tr>\n",
       "      <th>1</th>\n",
       "      <td>2021-09-01 08:00</td>\n",
       "    </tr>\n",
       "  </tbody>\n",
       "</table>\n",
       "</div>"
      ],
      "text/plain": [
       "        RECORD_TIME\n",
       "0  2021-09-01 08:30\n",
       "1  2021-09-01 08:00"
      ]
     },
     "execution_count": 3,
     "metadata": {},
     "output_type": "execute_result"
    }
   ],
   "source": [
    "timestamps"
   ]
  },
  {
   "cell_type": "code",
   "execution_count": 4,
   "id": "alternate-victory",
   "metadata": {
    "execution": {
     "iopub.execute_input": "2021-09-01T06:30:08.573522Z",
     "iopub.status.busy": "2021-09-01T06:30:08.571501Z",
     "iopub.status.idle": "2021-09-01T06:30:08.844148Z",
     "shell.execute_reply": "2021-09-01T06:30:08.845492Z"
    },
    "papermill": {
     "duration": 0.303436,
     "end_time": "2021-09-01T06:30:08.845906",
     "exception": false,
     "start_time": "2021-09-01T06:30:08.542470",
     "status": "completed"
    },
    "tags": []
   },
   "outputs": [],
   "source": [
    "df = pd.read_sql(\"select * from EBAY_TOP_BERLIN where record_time in (select distinct record_time from EBAY_TOP_BERLIN order by record_time desc limit 2)\", sqlite3.connect(\"UsedObjects.db\"))"
   ]
  },
  {
   "cell_type": "code",
   "execution_count": 5,
   "id": "popular-active",
   "metadata": {
    "execution": {
     "iopub.execute_input": "2021-09-01T06:30:08.924756Z",
     "iopub.status.busy": "2021-09-01T06:30:08.912519Z",
     "iopub.status.idle": "2021-09-01T06:30:08.940364Z",
     "shell.execute_reply": "2021-09-01T06:30:08.941652Z"
    },
    "papermill": {
     "duration": 0.070907,
     "end_time": "2021-09-01T06:30:08.942065",
     "exception": false,
     "start_time": "2021-09-01T06:30:08.871158",
     "status": "completed"
    },
    "tags": []
   },
   "outputs": [],
   "source": [
    "df_pivot = df.pivot_table(index=\"PRODUCT\", columns = \"RECORD_TIME\", values = \"LISTING_COUNT\")"
   ]
  },
  {
   "cell_type": "code",
   "execution_count": 6,
   "id": "union-huntington",
   "metadata": {
    "execution": {
     "iopub.execute_input": "2021-09-01T06:30:08.999671Z",
     "iopub.status.busy": "2021-09-01T06:30:08.997458Z",
     "iopub.status.idle": "2021-09-01T06:30:09.003405Z",
     "shell.execute_reply": "2021-09-01T06:30:09.004802Z"
    },
    "papermill": {
     "duration": 0.04136,
     "end_time": "2021-09-01T06:30:09.005241",
     "exception": false,
     "start_time": "2021-09-01T06:30:08.963881",
     "status": "completed"
    },
    "tags": []
   },
   "outputs": [],
   "source": [
    "df_pivot.columns = [\"stamp_1\", \"stamp_2\"]\n",
    "df_pivot_diff = df_pivot.diff(axis=1)"
   ]
  },
  {
   "cell_type": "code",
   "execution_count": 7,
   "id": "fifth-motion",
   "metadata": {
    "execution": {
     "iopub.execute_input": "2021-09-01T06:30:09.059732Z",
     "iopub.status.busy": "2021-09-01T06:30:09.057024Z",
     "iopub.status.idle": "2021-09-01T06:30:10.559874Z",
     "shell.execute_reply": "2021-09-01T06:30:10.561354Z"
    },
    "papermill": {
     "duration": 1.536555,
     "end_time": "2021-09-01T06:30:10.561868",
     "exception": false,
     "start_time": "2021-09-01T06:30:09.025313",
     "status": "completed"
    },
    "tags": []
   },
   "outputs": [
    {
     "data": {
      "text/plain": [
       "<AxesSubplot:ylabel='PRODUCT'>"
      ]
     },
     "execution_count": 7,
     "metadata": {},
     "output_type": "execute_result"
    },
    {
     "data": {
      "image/png": "[encoded data removed]",
      "text/plain": [
       "<Figure size 432x288 with 1 Axes>"
      ]
     },
     "metadata": {
      "needs_background": "light"
     },
     "output_type": "display_data"
    }
   ],
   "source": [
    "df_pivot_diff.sort_values(\"stamp_2\", ascending = False)[\"stamp_2\"].head(10).plot.barh()"
   ]
  },
  {
   "cell_type": "code",
   "execution_count": null,
   "id": "extra-executive",
   "metadata": {
    "papermill": {
     "duration": 0.022066,
     "end_time": "2021-09-01T06:30:10.609103",
     "exception": false,
     "start_time": "2021-09-01T06:30:10.587037",
     "status": "completed"
    },
    "tags": []
   },
   "outputs": [],
   "source": []
  }
 ],
 "metadata": {
  "kernelspec": {
   "display_name": "Python 3",
   "language": "python",
   "name": "python3"
  },
  "language_info": {
   "codemirror_mode": {
    "name": "ipython",
    "version": 3
   },
   "file_extension": ".py",
   "mimetype": "text/x-python",
   "name": "python",
   "nbconvert_exporter": "python",
   "pygments_lexer": "ipython3",
   "version": "3.9.5"
  },
  "papermill": {
   "default_parameters": {},
   "duration": 6.82047,
   "end_time": "2021-09-01T06:30:11.766352",
   "environment_variables": {},
   "exception": null,
   "input_path": "eBay_Overview.ipynb",
   "output_path": "eBay_Overview.ipynb",
   "parameters": {},
   "start_time": "2021-09-01T06:30:04.945882",
   "version": "2.3.3"
  }
 },
 "nbformat": 4,
 "nbformat_minor": 5
}