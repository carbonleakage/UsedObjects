{
 "cells": [
  {
   "cell_type": "code",
   "execution_count": 1,
   "id": "reverse-picking",
   "metadata": {
    "execution": {
     "iopub.execute_input": "2021-11-21T18:00:08.214636Z",
     "iopub.status.busy": "2021-11-21T18:00:08.182371Z",
     "iopub.status.idle": "2021-11-21T18:00:09.143600Z",
     "shell.execute_reply": "2021-11-21T18:00:09.145248Z"
    },
    "papermill": {
     "duration": 1.008294,
     "end_time": "2021-11-21T18:00:09.146003",
     "exception": false,
     "start_time": "2021-11-21T18:00:08.137709",
     "status": "completed"
    },
    "tags": []
   },
   "outputs": [],
   "source": [
    "import pandas as pd\n",
    "import sqlite3"
   ]
  },
  {
   "cell_type": "code",
   "execution_count": 2,
   "id": "innovative-syndrome",
   "metadata": {
    "execution": {
     "iopub.execute_input": "2021-11-21T18:00:09.263005Z",
     "iopub.status.busy": "2021-11-21T18:00:09.260669Z",
     "iopub.status.idle": "2021-11-21T18:00:10.155543Z",
     "shell.execute_reply": "2021-11-21T18:00:10.157178Z"
    },
    "papermill": {
     "duration": 0.928931,
     "end_time": "2021-11-21T18:00:10.157693",
     "exception": false,
     "start_time": "2021-11-21T18:00:09.228762",
     "status": "completed"
    },
    "tags": []
   },
   "outputs": [],
   "source": [
    "timestamps = pd.read_sql(\"select distinct record_time from EBAY_TOP_BERLIN order by record_time desc limit 2\", sqlite3.connect(\"UsedObjects.db\"))"
   ]
  },
  {
   "cell_type": "code",
   "execution_count": 3,
   "id": "periodic-identification",
   "metadata": {
    "execution": {
     "iopub.execute_input": "2021-11-21T18:00:10.229838Z",
     "iopub.status.busy": "2021-11-21T18:00:10.227489Z",
     "iopub.status.idle": "2021-11-21T18:00:10.250491Z",
     "shell.execute_reply": "2021-11-21T18:00:10.251899Z"
    },
    "papermill": {
     "duration": 0.073767,
     "end_time": "2021-11-21T18:00:10.252362",
     "exception": false,
     "start_time": "2021-11-21T18:00:10.178595",
     "status": "completed"
    },
    "tags": []
   },
   "outputs": [
    {
     "data": {
      "text/html": [
       "<div>\n",
       "<style scoped>\n",
       "    .dataframe tbody tr th:only-of-type {\n",
       "        vertical-align: middle;\n",
       "    }\n",
       "\n",
       "    .dataframe tbody tr th {\n",
       "        vertical-align: top;\n",
       "    }\n",
       "\n",
       "    .dataframe thead th {\n",
       "        text-align: right;\n",
       "    }\n",
       "</style>\n",
       "<table border=\"1\" class=\"dataframe\">\n",
       "  <thead>\n",
       "    <tr style=\"text-align: right;\">\n",
       "      <th></th>\n",
       "      <th>RECORD_TIME</th>\n",
       "    </tr>\n",
       "  </thead>\n",
       "  <tbody>\n",
       "    <tr>\n",
       "      <th>0</th>\n",
       "      <td>2021-11-21 19:00</td>\n",
       "    </tr>\n",
       "    <tr>\n",
       "      <th>1</th>\n",
       "      <td>2021-11-21 18:30</td>\n",
       "    </tr>\n",
       "  </tbody>\n",
       "</table>\n",
       "</div>"
      ],
      "text/plain": [
       "        RECORD_TIME\n",
       "0  2021-11-21 19:00\n",
       "1  2021-11-21 18:30"
      ]
     },
     "execution_count": 3,
     "metadata": {},
     "output_type": "execute_result"
    }
   ],
   "source": [
    "timestamps"
   ]
  },
  {
   "cell_type": "code",
   "execution_count": 4,
   "id": "alternate-victory",
   "metadata": {
    "execution": {
     "iopub.execute_input": "2021-11-21T18:00:10.308208Z",
     "iopub.status.busy": "2021-11-21T18:00:10.305739Z",
     "iopub.status.idle": "2021-11-21T18:00:11.573817Z",
     "shell.execute_reply": "2021-11-21T18:00:11.575580Z"
    },
    "papermill": {
     "duration": 1.302895,
     "end_time": "2021-11-21T18:00:11.576084",
     "exception": false,
     "start_time": "2021-11-21T18:00:10.273189",
     "status": "completed"
    },
    "tags": []
   },
   "outputs": [],
   "source": [
    "df = pd.read_sql(\"select * from EBAY_TOP_BERLIN where record_time in (select distinct record_time from EBAY_TOP_BERLIN order by record_time desc limit 2)\", sqlite3.connect(\"UsedObjects.db\"))"
   ]
  },
  {
   "cell_type": "code",
   "execution_count": 5,
   "id": "popular-active",
   "metadata": {
    "execution": {
     "iopub.execute_input": "2021-11-21T18:00:11.650986Z",
     "iopub.status.busy": "2021-11-21T18:00:11.641192Z",
     "iopub.status.idle": "2021-11-21T18:00:11.674049Z",
     "shell.execute_reply": "2021-11-21T18:00:11.675315Z"
    },
    "papermill": {
     "duration": 0.077016,
     "end_time": "2021-11-21T18:00:11.675761",
     "exception": false,
     "start_time": "2021-11-21T18:00:11.598745",
     "status": "completed"
    },
    "tags": []
   },
   "outputs": [],
   "source": [
    "df_pivot = df.pivot_table(index=\"PRODUCT\", columns = \"RECORD_TIME\", values = \"LISTING_COUNT\")"
   ]
  },
  {
   "cell_type": "code",
   "execution_count": 6,
   "id": "union-huntington",
   "metadata": {
    "execution": {
     "iopub.execute_input": "2021-11-21T18:00:11.735223Z",
     "iopub.status.busy": "2021-11-21T18:00:11.732845Z",
     "iopub.status.idle": "2021-11-21T18:00:11.738020Z",
     "shell.execute_reply": "2021-11-21T18:00:11.739744Z"
    },
    "papermill": {
     "duration": 0.043209,
     "end_time": "2021-11-21T18:00:11.740231",
     "exception": false,
     "start_time": "2021-11-21T18:00:11.697022",
     "status": "completed"
    },
    "tags": []
   },
   "outputs": [],
   "source": [
    "df_pivot.columns = [\"stamp_1\", \"stamp_2\"]\n",
    "df_pivot_diff = df_pivot.diff(axis=1)"
   ]
  },
  {
   "cell_type": "code",
   "execution_count": 7,
   "id": "fifth-motion",
   "metadata": {
    "execution": {
     "iopub.execute_input": "2021-11-21T18:00:11.808564Z",
     "iopub.status.busy": "2021-11-21T18:00:11.797754Z",
     "iopub.status.idle": "2021-11-21T18:00:13.760052Z",
     "shell.execute_reply": "2021-11-21T18:00:13.761447Z"
    },
    "papermill": {
     "duration": 2.000938,
     "end_time": "2021-11-21T18:00:13.761925",
     "exception": false,
     "start_time": "2021-11-21T18:00:11.760987",
     "status": "completed"
    },
    "tags": []
   },
   "outputs": [
    {
     "data": {
      "text/plain": [
       "<AxesSubplot:ylabel='PRODUCT'>"
      ]
     },
     "execution_count": 7,
     "metadata": {},
     "output_type": "execute_result"
    },
    {
     "data": {
      "image/png": "[encoded data removed]",
      "text/plain": [
       "<Figure size 432x288 with 1 Axes>"
      ]
     },
     "metadata": {
      "needs_background": "light"
     },
     "output_type": "display_data"
    }
   ],
   "source": [
    "df_pivot_diff.sort_values(\"stamp_2\", ascending = False)[\"stamp_2\"].head(10).plot.barh()"
   ]
  },
  {
   "cell_type": "code",
   "execution_count": null,
   "id": "extra-executive",
   "metadata": {
    "papermill": {
     "duration": 0.023346,
     "end_time": "2021-11-21T18:00:13.809317",
     "exception": false,
     "start_time": "2021-11-21T18:00:13.785971",
     "status": "completed"
    },
    "tags": []
   },
   "outputs": [],
   "source": []
  }
 ],
 "metadata": {
  "kernelspec": {
   "display_name": "Python 3",
   "language": "python",
   "name": "python3"
  },
  "language_info": {
   "codemirror_mode": {
    "name": "ipython",
    "version": 3
   },
   "file_extension": ".py",
   "mimetype": "text/x-python",
   "name": "python",
   "nbconvert_exporter": "python",
   "pygments_lexer": "ipython3",
   "version": "3.9.5"
  },
  "papermill": {
   "default_parameters": {},
   "duration": 9.931883,
   "end_time": "2021-11-21T18:00:15.332315",
   "environment_variables": {},
   "exception": null,
   "input_path": "eBay_Overview.ipynb",
   "output_path": "eBay_Overview.ipynb",
   "parameters": {},
   "start_time": "2021-11-21T18:00:05.400432",
   "version": "2.3.3"
  }
 },
 "nbformat": 4,
 "nbformat_minor": 5
}