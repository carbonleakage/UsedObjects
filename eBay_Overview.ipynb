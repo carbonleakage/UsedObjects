{
 "cells": [
  {
   "cell_type": "code",
   "execution_count": 1,
   "id": "reverse-picking",
   "metadata": {
    "execution": {
     "iopub.execute_input": "2021-10-15T15:00:07.255080Z",
     "iopub.status.busy": "2021-10-15T15:00:07.253003Z",
     "iopub.status.idle": "2021-10-15T15:00:08.057612Z",
     "shell.execute_reply": "2021-10-15T15:00:08.058952Z"
    },
    "papermill": {
     "duration": 0.855853,
     "end_time": "2021-10-15T15:00:08.059567",
     "exception": false,
     "start_time": "2021-10-15T15:00:07.203714",
     "status": "completed"
    },
    "tags": []
   },
   "outputs": [],
   "source": [
    "import pandas as pd\n",
    "import sqlite3"
   ]
  },
  {
   "cell_type": "code",
   "execution_count": 2,
   "id": "innovative-syndrome",
   "metadata": {
    "execution": {
     "iopub.execute_input": "2021-10-15T15:00:08.111061Z",
     "iopub.status.busy": "2021-10-15T15:00:08.108784Z",
     "iopub.status.idle": "2021-10-15T15:00:08.647624Z",
     "shell.execute_reply": "2021-10-15T15:00:08.649110Z"
    },
    "papermill": {
     "duration": 0.569045,
     "end_time": "2021-10-15T15:00:08.649567",
     "exception": false,
     "start_time": "2021-10-15T15:00:08.080522",
     "status": "completed"
    },
    "tags": []
   },
   "outputs": [],
   "source": [
    "timestamps = pd.read_sql(\"select distinct record_time from EBAY_TOP_BERLIN order by record_time desc limit 2\", sqlite3.connect(\"UsedObjects.db\"))"
   ]
  },
  {
   "cell_type": "code",
   "execution_count": 3,
   "id": "periodic-identification",
   "metadata": {
    "execution": {
     "iopub.execute_input": "2021-10-15T15:00:08.725823Z",
     "iopub.status.busy": "2021-10-15T15:00:08.720376Z",
     "iopub.status.idle": "2021-10-15T15:00:08.743195Z",
     "shell.execute_reply": "2021-10-15T15:00:08.744763Z"
    },
    "papermill": {
     "duration": 0.076146,
     "end_time": "2021-10-15T15:00:08.745247",
     "exception": false,
     "start_time": "2021-10-15T15:00:08.669101",
     "status": "completed"
    },
    "tags": []
   },
   "outputs": [
    {
     "data": {
      "text/html": [
       "<div>\n",
       "<style scoped>\n",
       "    .dataframe tbody tr th:only-of-type {\n",
       "        vertical-align: middle;\n",
       "    }\n",
       "\n",
       "    .dataframe tbody tr th {\n",
       "        vertical-align: top;\n",
       "    }\n",
       "\n",
       "    .dataframe thead th {\n",
       "        text-align: right;\n",
       "    }\n",
       "</style>\n",
       "<table border=\"1\" class=\"dataframe\">\n",
       "  <thead>\n",
       "    <tr style=\"text-align: right;\">\n",
       "      <th></th>\n",
       "      <th>RECORD_TIME</th>\n",
       "    </tr>\n",
       "  </thead>\n",
       "  <tbody>\n",
       "    <tr>\n",
       "      <th>0</th>\n",
       "      <td>2021-10-15 17:00</td>\n",
       "    </tr>\n",
       "    <tr>\n",
       "      <th>1</th>\n",
       "      <td>2021-10-15 16:30</td>\n",
       "    </tr>\n",
       "  </tbody>\n",
       "</table>\n",
       "</div>"
      ],
      "text/plain": [
       "        RECORD_TIME\n",
       "0  2021-10-15 17:00\n",
       "1  2021-10-15 16:30"
      ]
     },
     "execution_count": 3,
     "metadata": {},
     "output_type": "execute_result"
    }
   ],
   "source": [
    "timestamps"
   ]
  },
  {
   "cell_type": "code",
   "execution_count": 4,
   "id": "alternate-victory",
   "metadata": {
    "execution": {
     "iopub.execute_input": "2021-10-15T15:00:08.797677Z",
     "iopub.status.busy": "2021-10-15T15:00:08.795692Z",
     "iopub.status.idle": "2021-10-15T15:00:09.574650Z",
     "shell.execute_reply": "2021-10-15T15:00:09.575894Z"
    },
    "papermill": {
     "duration": 0.809134,
     "end_time": "2021-10-15T15:00:09.576296",
     "exception": false,
     "start_time": "2021-10-15T15:00:08.767162",
     "status": "completed"
    },
    "tags": []
   },
   "outputs": [],
   "source": [
    "df = pd.read_sql(\"select * from EBAY_TOP_BERLIN where record_time in (select distinct record_time from EBAY_TOP_BERLIN order by record_time desc limit 2)\", sqlite3.connect(\"UsedObjects.db\"))"
   ]
  },
  {
   "cell_type": "code",
   "execution_count": 5,
   "id": "popular-active",
   "metadata": {
    "execution": {
     "iopub.execute_input": "2021-10-15T15:00:09.648091Z",
     "iopub.status.busy": "2021-10-15T15:00:09.636451Z",
     "iopub.status.idle": "2021-10-15T15:00:09.663853Z",
     "shell.execute_reply": "2021-10-15T15:00:09.665161Z"
    },
    "papermill": {
     "duration": 0.068364,
     "end_time": "2021-10-15T15:00:09.665565",
     "exception": false,
     "start_time": "2021-10-15T15:00:09.597201",
     "status": "completed"
    },
    "tags": []
   },
   "outputs": [],
   "source": [
    "df_pivot = df.pivot_table(index=\"PRODUCT\", columns = \"RECORD_TIME\", values = \"LISTING_COUNT\")"
   ]
  },
  {
   "cell_type": "code",
   "execution_count": 6,
   "id": "union-huntington",
   "metadata": {
    "execution": {
     "iopub.execute_input": "2021-10-15T15:00:09.724586Z",
     "iopub.status.busy": "2021-10-15T15:00:09.722284Z",
     "iopub.status.idle": "2021-10-15T15:00:09.728178Z",
     "shell.execute_reply": "2021-10-15T15:00:09.729767Z"
    },
    "papermill": {
     "duration": 0.042112,
     "end_time": "2021-10-15T15:00:09.730250",
     "exception": false,
     "start_time": "2021-10-15T15:00:09.688138",
     "status": "completed"
    },
    "tags": []
   },
   "outputs": [],
   "source": [
    "df_pivot.columns = [\"stamp_1\", \"stamp_2\"]\n",
    "df_pivot_diff = df_pivot.diff(axis=1)"
   ]
  },
  {
   "cell_type": "code",
   "execution_count": 7,
   "id": "fifth-motion",
   "metadata": {
    "execution": {
     "iopub.execute_input": "2021-10-15T15:00:09.785216Z",
     "iopub.status.busy": "2021-10-15T15:00:09.782815Z",
     "iopub.status.idle": "2021-10-15T15:00:11.248178Z",
     "shell.execute_reply": "2021-10-15T15:00:11.249705Z"
    },
    "papermill": {
     "duration": 1.498659,
     "end_time": "2021-10-15T15:00:11.250175",
     "exception": false,
     "start_time": "2021-10-15T15:00:09.751516",
     "status": "completed"
    },
    "tags": []
   },
   "outputs": [
    {
     "data": {
      "text/plain": [
       "<AxesSubplot:ylabel='PRODUCT'>"
      ]
     },
     "execution_count": 7,
     "metadata": {},
     "output_type": "execute_result"
    },
    {
     "data": {
      "image/png": "[encoded data removed]",
      "text/plain": [
       "<Figure size 432x288 with 1 Axes>"
      ]
     },
     "metadata": {
      "needs_background": "light"
     },
     "output_type": "display_data"
    }
   ],
   "source": [
    "df_pivot_diff.sort_values(\"stamp_2\", ascending = False)[\"stamp_2\"].head(10).plot.barh()"
   ]
  },
  {
   "cell_type": "code",
   "execution_count": null,
   "id": "extra-executive",
   "metadata": {
    "papermill": {
     "duration": 0.022643,
     "end_time": "2021-10-15T15:00:11.297814",
     "exception": false,
     "start_time": "2021-10-15T15:00:11.275171",
     "status": "completed"
    },
    "tags": []
   },
   "outputs": [],
   "source": []
  }
 ],
 "metadata": {
  "kernelspec": {
   "display_name": "Python 3",
   "language": "python",
   "name": "python3"
  },
  "language_info": {
   "codemirror_mode": {
    "name": "ipython",
    "version": 3
   },
   "file_extension": ".py",
   "mimetype": "text/x-python",
   "name": "python",
   "nbconvert_exporter": "python",
   "pygments_lexer": "ipython3",
   "version": "3.9.5"
  },
  "papermill": {
   "default_parameters": {},
   "duration": 7.819846,
   "end_time": "2021-10-15T15:00:12.620288",
   "environment_variables": {},
   "exception": null,
   "input_path": "eBay_Overview.ipynb",
   "output_path": "eBay_Overview.ipynb",
   "parameters": {},
   "start_time": "2021-10-15T15:00:04.800442",
   "version": "2.3.3"
  }
 },
 "nbformat": 4,
 "nbformat_minor": 5
}