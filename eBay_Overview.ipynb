{
 "cells": [
  {
   "cell_type": "code",
   "execution_count": 1,
   "id": "reverse-picking",
   "metadata": {
    "execution": {
     "iopub.execute_input": "2021-12-01T15:30:08.137994Z",
     "iopub.status.busy": "2021-12-01T15:30:08.135640Z",
     "iopub.status.idle": "2021-12-01T15:30:09.049544Z",
     "shell.execute_reply": "2021-12-01T15:30:09.050986Z"
    },
    "papermill": {
     "duration": 0.967609,
     "end_time": "2021-12-01T15:30:09.051722",
     "exception": false,
     "start_time": "2021-12-01T15:30:08.084113",
     "status": "completed"
    },
    "tags": []
   },
   "outputs": [],
   "source": [
    "import pandas as pd\n",
    "import sqlite3"
   ]
  },
  {
   "cell_type": "code",
   "execution_count": 2,
   "id": "innovative-syndrome",
   "metadata": {
    "execution": {
     "iopub.execute_input": "2021-12-01T15:30:09.113728Z",
     "iopub.status.busy": "2021-12-01T15:30:09.111349Z",
     "iopub.status.idle": "2021-12-01T15:30:10.062827Z",
     "shell.execute_reply": "2021-12-01T15:30:10.064358Z"
    },
    "papermill": {
     "duration": 0.985707,
     "end_time": "2021-12-01T15:30:10.064957",
     "exception": false,
     "start_time": "2021-12-01T15:30:09.079250",
     "status": "completed"
    },
    "tags": []
   },
   "outputs": [],
   "source": [
    "timestamps = pd.read_sql(\"select distinct record_time from EBAY_TOP_BERLIN order by record_time desc limit 2\", sqlite3.connect(\"UsedObjects.db\"))"
   ]
  },
  {
   "cell_type": "code",
   "execution_count": 3,
   "id": "periodic-identification",
   "metadata": {
    "execution": {
     "iopub.execute_input": "2021-12-01T15:30:10.136016Z",
     "iopub.status.busy": "2021-12-01T15:30:10.133660Z",
     "iopub.status.idle": "2021-12-01T15:30:10.156318Z",
     "shell.execute_reply": "2021-12-01T15:30:10.158202Z"
    },
    "papermill": {
     "duration": 0.073403,
     "end_time": "2021-12-01T15:30:10.158794",
     "exception": false,
     "start_time": "2021-12-01T15:30:10.085391",
     "status": "completed"
    },
    "tags": []
   },
   "outputs": [
    {
     "data": {
      "text/html": [
       "<div>\n",
       "<style scoped>\n",
       "    .dataframe tbody tr th:only-of-type {\n",
       "        vertical-align: middle;\n",
       "    }\n",
       "\n",
       "    .dataframe tbody tr th {\n",
       "        vertical-align: top;\n",
       "    }\n",
       "\n",
       "    .dataframe thead th {\n",
       "        text-align: right;\n",
       "    }\n",
       "</style>\n",
       "<table border=\"1\" class=\"dataframe\">\n",
       "  <thead>\n",
       "    <tr style=\"text-align: right;\">\n",
       "      <th></th>\n",
       "      <th>RECORD_TIME</th>\n",
       "    </tr>\n",
       "  </thead>\n",
       "  <tbody>\n",
       "    <tr>\n",
       "      <th>0</th>\n",
       "      <td>2021-12-01 16:30</td>\n",
       "    </tr>\n",
       "    <tr>\n",
       "      <th>1</th>\n",
       "      <td>2021-12-01 16:00</td>\n",
       "    </tr>\n",
       "  </tbody>\n",
       "</table>\n",
       "</div>"
      ],
      "text/plain": [
       "        RECORD_TIME\n",
       "0  2021-12-01 16:30\n",
       "1  2021-12-01 16:00"
      ]
     },
     "execution_count": 3,
     "metadata": {},
     "output_type": "execute_result"
    }
   ],
   "source": [
    "timestamps"
   ]
  },
  {
   "cell_type": "code",
   "execution_count": 4,
   "id": "alternate-victory",
   "metadata": {
    "execution": {
     "iopub.execute_input": "2021-12-01T15:30:10.214831Z",
     "iopub.status.busy": "2021-12-01T15:30:10.212559Z",
     "iopub.status.idle": "2021-12-01T15:30:11.603873Z",
     "shell.execute_reply": "2021-12-01T15:30:11.606116Z"
    },
    "papermill": {
     "duration": 1.422719,
     "end_time": "2021-12-01T15:30:11.606607",
     "exception": false,
     "start_time": "2021-12-01T15:30:10.183888",
     "status": "completed"
    },
    "tags": []
   },
   "outputs": [],
   "source": [
    "df = pd.read_sql(\"select * from EBAY_TOP_BERLIN where record_time in (select distinct record_time from EBAY_TOP_BERLIN order by record_time desc limit 2)\", sqlite3.connect(\"UsedObjects.db\"))"
   ]
  },
  {
   "cell_type": "code",
   "execution_count": 5,
   "id": "popular-active",
   "metadata": {
    "execution": {
     "iopub.execute_input": "2021-12-01T15:30:11.681896Z",
     "iopub.status.busy": "2021-12-01T15:30:11.673949Z",
     "iopub.status.idle": "2021-12-01T15:30:11.699263Z",
     "shell.execute_reply": "2021-12-01T15:30:11.700604Z"
    },
    "papermill": {
     "duration": 0.073744,
     "end_time": "2021-12-01T15:30:11.701136",
     "exception": false,
     "start_time": "2021-12-01T15:30:11.627392",
     "status": "completed"
    },
    "tags": []
   },
   "outputs": [],
   "source": [
    "df_pivot = df.pivot_table(index=\"PRODUCT\", columns = \"RECORD_TIME\", values = \"LISTING_COUNT\")"
   ]
  },
  {
   "cell_type": "code",
   "execution_count": 6,
   "id": "union-huntington",
   "metadata": {
    "execution": {
     "iopub.execute_input": "2021-12-01T15:30:11.764934Z",
     "iopub.status.busy": "2021-12-01T15:30:11.762508Z",
     "iopub.status.idle": "2021-12-01T15:30:11.767573Z",
     "shell.execute_reply": "2021-12-01T15:30:11.769198Z"
    },
    "papermill": {
     "duration": 0.047899,
     "end_time": "2021-12-01T15:30:11.769695",
     "exception": false,
     "start_time": "2021-12-01T15:30:11.721796",
     "status": "completed"
    },
    "tags": []
   },
   "outputs": [],
   "source": [
    "df_pivot.columns = [\"stamp_1\", \"stamp_2\"]\n",
    "df_pivot_diff = df_pivot.diff(axis=1)"
   ]
  },
  {
   "cell_type": "code",
   "execution_count": 7,
   "id": "fifth-motion",
   "metadata": {
    "execution": {
     "iopub.execute_input": "2021-12-01T15:30:11.834939Z",
     "iopub.status.busy": "2021-12-01T15:30:11.832285Z",
     "iopub.status.idle": "2021-12-01T15:30:13.749530Z",
     "shell.execute_reply": "2021-12-01T15:30:13.752238Z"
    },
    "papermill": {
     "duration": 1.96179,
     "end_time": "2021-12-01T15:30:13.752989",
     "exception": false,
     "start_time": "2021-12-01T15:30:11.791199",
     "status": "completed"
    },
    "tags": []
   },
   "outputs": [
    {
     "data": {
      "text/plain": [
       "<AxesSubplot:ylabel='PRODUCT'>"
      ]
     },
     "execution_count": 7,
     "metadata": {},
     "output_type": "execute_result"
    },
    {
     "data": {
      "image/png": "[encoded data removed]",
      "text/plain": [
       "<Figure size 432x288 with 1 Axes>"
      ]
     },
     "metadata": {
      "needs_background": "light"
     },
     "output_type": "display_data"
    }
   ],
   "source": [
    "df_pivot_diff.sort_values(\"stamp_2\", ascending = False)[\"stamp_2\"].head(10).plot.barh()"
   ]
  },
  {
   "cell_type": "code",
   "execution_count": null,
   "id": "extra-executive",
   "metadata": {
    "papermill": {
     "duration": 0.027264,
     "end_time": "2021-12-01T15:30:13.812244",
     "exception": false,
     "start_time": "2021-12-01T15:30:13.784980",
     "status": "completed"
    },
    "tags": []
   },
   "outputs": [],
   "source": []
  }
 ],
 "metadata": {
  "kernelspec": {
   "display_name": "Python 3",
   "language": "python",
   "name": "python3"
  },
  "language_info": {
   "codemirror_mode": {
    "name": "ipython",
    "version": 3
   },
   "file_extension": ".py",
   "mimetype": "text/x-python",
   "name": "python",
   "nbconvert_exporter": "python",
   "pygments_lexer": "ipython3",
   "version": "3.9.5"
  },
  "papermill": {
   "default_parameters": {},
   "duration": 9.932827,
   "end_time": "2021-12-01T15:30:15.304307",
   "environment_variables": {},
   "exception": null,
   "input_path": "eBay_Overview.ipynb",
   "output_path": "eBay_Overview.ipynb",
   "parameters": {},
   "start_time": "2021-12-01T15:30:05.371480",
   "version": "2.3.3"
  }
 },
 "nbformat": 4,
 "nbformat_minor": 5
}