{
 "cells": [
  {
   "cell_type": "code",
   "execution_count": 1,
   "id": "reverse-picking",
   "metadata": {
    "execution": {
     "iopub.execute_input": "2021-11-05T15:00:08.241922Z",
     "iopub.status.busy": "2021-11-05T15:00:08.239545Z",
     "iopub.status.idle": "2021-11-05T15:00:09.199499Z",
     "shell.execute_reply": "2021-11-05T15:00:09.201153Z"
    },
    "papermill": {
     "duration": 1.008623,
     "end_time": "2021-11-05T15:00:09.201933",
     "exception": false,
     "start_time": "2021-11-05T15:00:08.193310",
     "status": "completed"
    },
    "tags": []
   },
   "outputs": [],
   "source": [
    "import pandas as pd\n",
    "import sqlite3"
   ]
  },
  {
   "cell_type": "code",
   "execution_count": 2,
   "id": "innovative-syndrome",
   "metadata": {
    "execution": {
     "iopub.execute_input": "2021-11-05T15:00:09.317207Z",
     "iopub.status.busy": "2021-11-05T15:00:09.314617Z",
     "iopub.status.idle": "2021-11-05T15:00:10.044221Z",
     "shell.execute_reply": "2021-11-05T15:00:10.045787Z"
    },
    "papermill": {
     "duration": 0.764163,
     "end_time": "2021-11-05T15:00:10.046301",
     "exception": false,
     "start_time": "2021-11-05T15:00:09.282138",
     "status": "completed"
    },
    "tags": []
   },
   "outputs": [],
   "source": [
    "timestamps = pd.read_sql(\"select distinct record_time from EBAY_TOP_BERLIN order by record_time desc limit 2\", sqlite3.connect(\"UsedObjects.db\"))"
   ]
  },
  {
   "cell_type": "code",
   "execution_count": 3,
   "id": "periodic-identification",
   "metadata": {
    "execution": {
     "iopub.execute_input": "2021-11-05T15:00:10.120845Z",
     "iopub.status.busy": "2021-11-05T15:00:10.115089Z",
     "iopub.status.idle": "2021-11-05T15:00:10.138073Z",
     "shell.execute_reply": "2021-11-05T15:00:10.139552Z"
    },
    "papermill": {
     "duration": 0.073477,
     "end_time": "2021-11-05T15:00:10.140069",
     "exception": false,
     "start_time": "2021-11-05T15:00:10.066592",
     "status": "completed"
    },
    "tags": []
   },
   "outputs": [
    {
     "data": {
      "text/html": [
       "<div>\n",
       "<style scoped>\n",
       "    .dataframe tbody tr th:only-of-type {\n",
       "        vertical-align: middle;\n",
       "    }\n",
       "\n",
       "    .dataframe tbody tr th {\n",
       "        vertical-align: top;\n",
       "    }\n",
       "\n",
       "    .dataframe thead th {\n",
       "        text-align: right;\n",
       "    }\n",
       "</style>\n",
       "<table border=\"1\" class=\"dataframe\">\n",
       "  <thead>\n",
       "    <tr style=\"text-align: right;\">\n",
       "      <th></th>\n",
       "      <th>RECORD_TIME</th>\n",
       "    </tr>\n",
       "  </thead>\n",
       "  <tbody>\n",
       "    <tr>\n",
       "      <th>0</th>\n",
       "      <td>2021-11-05 16:00</td>\n",
       "    </tr>\n",
       "    <tr>\n",
       "      <th>1</th>\n",
       "      <td>2021-11-05 15:30</td>\n",
       "    </tr>\n",
       "  </tbody>\n",
       "</table>\n",
       "</div>"
      ],
      "text/plain": [
       "        RECORD_TIME\n",
       "0  2021-11-05 16:00\n",
       "1  2021-11-05 15:30"
      ]
     },
     "execution_count": 3,
     "metadata": {},
     "output_type": "execute_result"
    }
   ],
   "source": [
    "timestamps"
   ]
  },
  {
   "cell_type": "code",
   "execution_count": 4,
   "id": "alternate-victory",
   "metadata": {
    "execution": {
     "iopub.execute_input": "2021-11-05T15:00:10.196323Z",
     "iopub.status.busy": "2021-11-05T15:00:10.194073Z",
     "iopub.status.idle": "2021-11-05T15:00:11.265960Z",
     "shell.execute_reply": "2021-11-05T15:00:11.267736Z"
    },
    "papermill": {
     "duration": 1.106921,
     "end_time": "2021-11-05T15:00:11.268154",
     "exception": false,
     "start_time": "2021-11-05T15:00:10.161233",
     "status": "completed"
    },
    "tags": []
   },
   "outputs": [],
   "source": [
    "df = pd.read_sql(\"select * from EBAY_TOP_BERLIN where record_time in (select distinct record_time from EBAY_TOP_BERLIN order by record_time desc limit 2)\", sqlite3.connect(\"UsedObjects.db\"))"
   ]
  },
  {
   "cell_type": "code",
   "execution_count": 5,
   "id": "popular-active",
   "metadata": {
    "execution": {
     "iopub.execute_input": "2021-11-05T15:00:11.365971Z",
     "iopub.status.busy": "2021-11-05T15:00:11.348145Z",
     "iopub.status.idle": "2021-11-05T15:00:11.385627Z",
     "shell.execute_reply": "2021-11-05T15:00:11.387171Z"
    },
    "papermill": {
     "duration": 0.088331,
     "end_time": "2021-11-05T15:00:11.387683",
     "exception": false,
     "start_time": "2021-11-05T15:00:11.299352",
     "status": "completed"
    },
    "tags": []
   },
   "outputs": [],
   "source": [
    "df_pivot = df.pivot_table(index=\"PRODUCT\", columns = \"RECORD_TIME\", values = \"LISTING_COUNT\")"
   ]
  },
  {
   "cell_type": "code",
   "execution_count": 6,
   "id": "union-huntington",
   "metadata": {
    "execution": {
     "iopub.execute_input": "2021-11-05T15:00:11.450146Z",
     "iopub.status.busy": "2021-11-05T15:00:11.447651Z",
     "iopub.status.idle": "2021-11-05T15:00:11.454097Z",
     "shell.execute_reply": "2021-11-05T15:00:11.455663Z"
    },
    "papermill": {
     "duration": 0.0468,
     "end_time": "2021-11-05T15:00:11.456213",
     "exception": false,
     "start_time": "2021-11-05T15:00:11.409413",
     "status": "completed"
    },
    "tags": []
   },
   "outputs": [],
   "source": [
    "df_pivot.columns = [\"stamp_1\", \"stamp_2\"]\n",
    "df_pivot_diff = df_pivot.diff(axis=1)"
   ]
  },
  {
   "cell_type": "code",
   "execution_count": 7,
   "id": "fifth-motion",
   "metadata": {
    "execution": {
     "iopub.execute_input": "2021-11-05T15:00:11.517180Z",
     "iopub.status.busy": "2021-11-05T15:00:11.514507Z",
     "iopub.status.idle": "2021-11-05T15:00:13.311677Z",
     "shell.execute_reply": "2021-11-05T15:00:13.309653Z"
    },
    "papermill": {
     "duration": 1.834491,
     "end_time": "2021-11-05T15:00:13.312199",
     "exception": false,
     "start_time": "2021-11-05T15:00:11.477708",
     "status": "completed"
    },
    "tags": []
   },
   "outputs": [
    {
     "data": {
      "text/plain": [
       "<AxesSubplot:ylabel='PRODUCT'>"
      ]
     },
     "execution_count": 7,
     "metadata": {},
     "output_type": "execute_result"
    },
    {
     "data": {
      "image/png": "[encoded data removed]",
      "text/plain": [
       "<Figure size 432x288 with 1 Axes>"
      ]
     },
     "metadata": {
      "needs_background": "light"
     },
     "output_type": "display_data"
    }
   ],
   "source": [
    "df_pivot_diff.sort_values(\"stamp_2\", ascending = False)[\"stamp_2\"].head(10).plot.barh()"
   ]
  },
  {
   "cell_type": "code",
   "execution_count": null,
   "id": "extra-executive",
   "metadata": {
    "papermill": {
     "duration": 0.02309,
     "end_time": "2021-11-05T15:00:13.360171",
     "exception": false,
     "start_time": "2021-11-05T15:00:13.337081",
     "status": "completed"
    },
    "tags": []
   },
   "outputs": [],
   "source": []
  }
 ],
 "metadata": {
  "kernelspec": {
   "display_name": "Python 3",
   "language": "python",
   "name": "python3"
  },
  "language_info": {
   "codemirror_mode": {
    "name": "ipython",
    "version": 3
   },
   "file_extension": ".py",
   "mimetype": "text/x-python",
   "name": "python",
   "nbconvert_exporter": "python",
   "pygments_lexer": "ipython3",
   "version": "3.9.5"
  },
  "papermill": {
   "default_parameters": {},
   "duration": 8.900506,
   "end_time": "2021-11-05T15:00:14.214731",
   "environment_variables": {},
   "exception": null,
   "input_path": "eBay_Overview.ipynb",
   "output_path": "eBay_Overview.ipynb",
   "parameters": {},
   "start_time": "2021-11-05T15:00:05.314225",
   "version": "2.3.3"
  }
 },
 "nbformat": 4,
 "nbformat_minor": 5
}