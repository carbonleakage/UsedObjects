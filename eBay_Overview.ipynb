{
 "cells": [
  {
   "cell_type": "code",
   "execution_count": 1,
   "id": "reverse-picking",
   "metadata": {
    "execution": {
     "iopub.execute_input": "2021-12-03T01:00:07.485172Z",
     "iopub.status.busy": "2021-12-03T01:00:07.482851Z",
     "iopub.status.idle": "2021-12-03T01:00:08.444496Z",
     "shell.execute_reply": "2021-12-03T01:00:08.446232Z"
    },
    "papermill": {
     "duration": 1.009565,
     "end_time": "2021-12-03T01:00:08.447015",
     "exception": false,
     "start_time": "2021-12-03T01:00:07.437450",
     "status": "completed"
    },
    "tags": []
   },
   "outputs": [],
   "source": [
    "import pandas as pd\n",
    "import sqlite3"
   ]
  },
  {
   "cell_type": "code",
   "execution_count": 2,
   "id": "innovative-syndrome",
   "metadata": {
    "execution": {
     "iopub.execute_input": "2021-12-03T01:00:08.553285Z",
     "iopub.status.busy": "2021-12-03T01:00:08.550878Z",
     "iopub.status.idle": "2021-12-03T01:00:09.530157Z",
     "shell.execute_reply": "2021-12-03T01:00:09.531877Z"
    },
    "papermill": {
     "duration": 1.014541,
     "end_time": "2021-12-03T01:00:09.532369",
     "exception": false,
     "start_time": "2021-12-03T01:00:08.517828",
     "status": "completed"
    },
    "tags": []
   },
   "outputs": [],
   "source": [
    "timestamps = pd.read_sql(\"select distinct record_time from EBAY_TOP_BERLIN order by record_time desc limit 2\", sqlite3.connect(\"UsedObjects.db\"))"
   ]
  },
  {
   "cell_type": "code",
   "execution_count": 3,
   "id": "periodic-identification",
   "metadata": {
    "execution": {
     "iopub.execute_input": "2021-12-03T01:00:09.608027Z",
     "iopub.status.busy": "2021-12-03T01:00:09.604888Z",
     "iopub.status.idle": "2021-12-03T01:00:09.628938Z",
     "shell.execute_reply": "2021-12-03T01:00:09.630463Z"
    },
    "papermill": {
     "duration": 0.0779,
     "end_time": "2021-12-03T01:00:09.630930",
     "exception": false,
     "start_time": "2021-12-03T01:00:09.553030",
     "status": "completed"
    },
    "tags": []
   },
   "outputs": [
    {
     "data": {
      "text/html": [
       "<div>\n",
       "<style scoped>\n",
       "    .dataframe tbody tr th:only-of-type {\n",
       "        vertical-align: middle;\n",
       "    }\n",
       "\n",
       "    .dataframe tbody tr th {\n",
       "        vertical-align: top;\n",
       "    }\n",
       "\n",
       "    .dataframe thead th {\n",
       "        text-align: right;\n",
       "    }\n",
       "</style>\n",
       "<table border=\"1\" class=\"dataframe\">\n",
       "  <thead>\n",
       "    <tr style=\"text-align: right;\">\n",
       "      <th></th>\n",
       "      <th>RECORD_TIME</th>\n",
       "    </tr>\n",
       "  </thead>\n",
       "  <tbody>\n",
       "    <tr>\n",
       "      <th>0</th>\n",
       "      <td>2021-12-03 02:00</td>\n",
       "    </tr>\n",
       "    <tr>\n",
       "      <th>1</th>\n",
       "      <td>2021-12-03 01:30</td>\n",
       "    </tr>\n",
       "  </tbody>\n",
       "</table>\n",
       "</div>"
      ],
      "text/plain": [
       "        RECORD_TIME\n",
       "0  2021-12-03 02:00\n",
       "1  2021-12-03 01:30"
      ]
     },
     "execution_count": 3,
     "metadata": {},
     "output_type": "execute_result"
    }
   ],
   "source": [
    "timestamps"
   ]
  },
  {
   "cell_type": "code",
   "execution_count": 4,
   "id": "alternate-victory",
   "metadata": {
    "execution": {
     "iopub.execute_input": "2021-12-03T01:00:09.688099Z",
     "iopub.status.busy": "2021-12-03T01:00:09.685797Z",
     "iopub.status.idle": "2021-12-03T01:00:11.158547Z",
     "shell.execute_reply": "2021-12-03T01:00:11.160049Z"
    },
    "papermill": {
     "duration": 1.507189,
     "end_time": "2021-12-03T01:00:11.160556",
     "exception": false,
     "start_time": "2021-12-03T01:00:09.653367",
     "status": "completed"
    },
    "tags": []
   },
   "outputs": [],
   "source": [
    "df = pd.read_sql(\"select * from EBAY_TOP_BERLIN where record_time in (select distinct record_time from EBAY_TOP_BERLIN order by record_time desc limit 2)\", sqlite3.connect(\"UsedObjects.db\"))"
   ]
  },
  {
   "cell_type": "code",
   "execution_count": 5,
   "id": "popular-active",
   "metadata": {
    "execution": {
     "iopub.execute_input": "2021-12-03T01:00:11.237672Z",
     "iopub.status.busy": "2021-12-03T01:00:11.223046Z",
     "iopub.status.idle": "2021-12-03T01:00:11.256614Z",
     "shell.execute_reply": "2021-12-03T01:00:11.258924Z"
    },
    "papermill": {
     "duration": 0.078038,
     "end_time": "2021-12-03T01:00:11.259753",
     "exception": false,
     "start_time": "2021-12-03T01:00:11.181715",
     "status": "completed"
    },
    "tags": []
   },
   "outputs": [],
   "source": [
    "df_pivot = df.pivot_table(index=\"PRODUCT\", columns = \"RECORD_TIME\", values = \"LISTING_COUNT\")"
   ]
  },
  {
   "cell_type": "code",
   "execution_count": 6,
   "id": "union-huntington",
   "metadata": {
    "execution": {
     "iopub.execute_input": "2021-12-03T01:00:11.322020Z",
     "iopub.status.busy": "2021-12-03T01:00:11.319572Z",
     "iopub.status.idle": "2021-12-03T01:00:11.325667Z",
     "shell.execute_reply": "2021-12-03T01:00:11.327166Z"
    },
    "papermill": {
     "duration": 0.045828,
     "end_time": "2021-12-03T01:00:11.327750",
     "exception": false,
     "start_time": "2021-12-03T01:00:11.281922",
     "status": "completed"
    },
    "tags": []
   },
   "outputs": [],
   "source": [
    "df_pivot.columns = [\"stamp_1\", \"stamp_2\"]\n",
    "df_pivot_diff = df_pivot.diff(axis=1)"
   ]
  },
  {
   "cell_type": "code",
   "execution_count": 7,
   "id": "fifth-motion",
   "metadata": {
    "execution": {
     "iopub.execute_input": "2021-12-03T01:00:11.387086Z",
     "iopub.status.busy": "2021-12-03T01:00:11.384480Z",
     "iopub.status.idle": "2021-12-03T01:00:13.336157Z",
     "shell.execute_reply": "2021-12-03T01:00:13.337694Z"
    },
    "papermill": {
     "duration": 1.989069,
     "end_time": "2021-12-03T01:00:13.338168",
     "exception": false,
     "start_time": "2021-12-03T01:00:11.349099",
     "status": "completed"
    },
    "tags": []
   },
   "outputs": [
    {
     "data": {
      "text/plain": [
       "<AxesSubplot:ylabel='PRODUCT'>"
      ]
     },
     "execution_count": 7,
     "metadata": {},
     "output_type": "execute_result"
    },
    {
     "data": {
      "image/png": "[encoded data removed]",
      "text/plain": [
       "<Figure size 432x288 with 1 Axes>"
      ]
     },
     "metadata": {
      "needs_background": "light"
     },
     "output_type": "display_data"
    }
   ],
   "source": [
    "df_pivot_diff.sort_values(\"stamp_2\", ascending = False)[\"stamp_2\"].head(10).plot.barh()"
   ]
  },
  {
   "cell_type": "code",
   "execution_count": null,
   "id": "extra-executive",
   "metadata": {
    "papermill": {
     "duration": 0.03071,
     "end_time": "2021-12-03T01:00:13.394161",
     "exception": false,
     "start_time": "2021-12-03T01:00:13.363451",
     "status": "completed"
    },
    "tags": []
   },
   "outputs": [],
   "source": []
  }
 ],
 "metadata": {
  "kernelspec": {
   "display_name": "Python 3",
   "language": "python",
   "name": "python3"
  },
  "language_info": {
   "codemirror_mode": {
    "name": "ipython",
    "version": 3
   },
   "file_extension": ".py",
   "mimetype": "text/x-python",
   "name": "python",
   "nbconvert_exporter": "python",
   "pygments_lexer": "ipython3",
   "version": "3.9.5"
  },
  "papermill": {
   "default_parameters": {},
   "duration": 9.626999,
   "end_time": "2021-12-03T01:00:14.262475",
   "environment_variables": {},
   "exception": null,
   "input_path": "eBay_Overview.ipynb",
   "output_path": "eBay_Overview.ipynb",
   "parameters": {},
   "start_time": "2021-12-03T01:00:04.635476",
   "version": "2.3.3"
  }
 },
 "nbformat": 4,
 "nbformat_minor": 5
}