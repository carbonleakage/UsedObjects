{
 "cells": [
  {
   "cell_type": "code",
   "execution_count": 1,
   "id": "reverse-picking",
   "metadata": {
    "execution": {
     "iopub.execute_input": "2021-10-19T00:30:06.943030Z",
     "iopub.status.busy": "2021-10-19T00:30:06.939822Z",
     "iopub.status.idle": "2021-10-19T00:30:07.746662Z",
     "shell.execute_reply": "2021-10-19T00:30:07.748011Z"
    },
    "papermill": {
     "duration": 0.85817,
     "end_time": "2021-10-19T00:30:07.748651",
     "exception": false,
     "start_time": "2021-10-19T00:30:06.890481",
     "status": "completed"
    },
    "tags": []
   },
   "outputs": [],
   "source": [
    "import pandas as pd\n",
    "import sqlite3"
   ]
  },
  {
   "cell_type": "code",
   "execution_count": 2,
   "id": "innovative-syndrome",
   "metadata": {
    "execution": {
     "iopub.execute_input": "2021-10-19T00:30:07.799419Z",
     "iopub.status.busy": "2021-10-19T00:30:07.797339Z",
     "iopub.status.idle": "2021-10-19T00:30:08.377009Z",
     "shell.execute_reply": "2021-10-19T00:30:08.375607Z"
    },
    "papermill": {
     "duration": 0.608363,
     "end_time": "2021-10-19T00:30:08.377367",
     "exception": false,
     "start_time": "2021-10-19T00:30:07.769004",
     "status": "completed"
    },
    "tags": []
   },
   "outputs": [],
   "source": [
    "timestamps = pd.read_sql(\"select distinct record_time from EBAY_TOP_BERLIN order by record_time desc limit 2\", sqlite3.connect(\"UsedObjects.db\"))"
   ]
  },
  {
   "cell_type": "code",
   "execution_count": 3,
   "id": "periodic-identification",
   "metadata": {
    "execution": {
     "iopub.execute_input": "2021-10-19T00:30:08.458930Z",
     "iopub.status.busy": "2021-10-19T00:30:08.456883Z",
     "iopub.status.idle": "2021-10-19T00:30:08.476460Z",
     "shell.execute_reply": "2021-10-19T00:30:08.478338Z"
    },
    "papermill": {
     "duration": 0.07044,
     "end_time": "2021-10-19T00:30:08.478874",
     "exception": false,
     "start_time": "2021-10-19T00:30:08.408434",
     "status": "completed"
    },
    "tags": []
   },
   "outputs": [
    {
     "data": {
      "text/html": [
       "<div>\n",
       "<style scoped>\n",
       "    .dataframe tbody tr th:only-of-type {\n",
       "        vertical-align: middle;\n",
       "    }\n",
       "\n",
       "    .dataframe tbody tr th {\n",
       "        vertical-align: top;\n",
       "    }\n",
       "\n",
       "    .dataframe thead th {\n",
       "        text-align: right;\n",
       "    }\n",
       "</style>\n",
       "<table border=\"1\" class=\"dataframe\">\n",
       "  <thead>\n",
       "    <tr style=\"text-align: right;\">\n",
       "      <th></th>\n",
       "      <th>RECORD_TIME</th>\n",
       "    </tr>\n",
       "  </thead>\n",
       "  <tbody>\n",
       "    <tr>\n",
       "      <th>0</th>\n",
       "      <td>2021-10-19 02:30</td>\n",
       "    </tr>\n",
       "    <tr>\n",
       "      <th>1</th>\n",
       "      <td>2021-10-19 02:00</td>\n",
       "    </tr>\n",
       "  </tbody>\n",
       "</table>\n",
       "</div>"
      ],
      "text/plain": [
       "        RECORD_TIME\n",
       "0  2021-10-19 02:30\n",
       "1  2021-10-19 02:00"
      ]
     },
     "execution_count": 3,
     "metadata": {},
     "output_type": "execute_result"
    }
   ],
   "source": [
    "timestamps"
   ]
  },
  {
   "cell_type": "code",
   "execution_count": 4,
   "id": "alternate-victory",
   "metadata": {
    "execution": {
     "iopub.execute_input": "2021-10-19T00:30:08.532625Z",
     "iopub.status.busy": "2021-10-19T00:30:08.530708Z",
     "iopub.status.idle": "2021-10-19T00:30:09.347282Z",
     "shell.execute_reply": "2021-10-19T00:30:09.348436Z"
    },
    "papermill": {
     "duration": 0.847198,
     "end_time": "2021-10-19T00:30:09.348977",
     "exception": false,
     "start_time": "2021-10-19T00:30:08.501779",
     "status": "completed"
    },
    "tags": []
   },
   "outputs": [],
   "source": [
    "df = pd.read_sql(\"select * from EBAY_TOP_BERLIN where record_time in (select distinct record_time from EBAY_TOP_BERLIN order by record_time desc limit 2)\", sqlite3.connect(\"UsedObjects.db\"))"
   ]
  },
  {
   "cell_type": "code",
   "execution_count": 5,
   "id": "popular-active",
   "metadata": {
    "execution": {
     "iopub.execute_input": "2021-10-19T00:30:09.420977Z",
     "iopub.status.busy": "2021-10-19T00:30:09.408728Z",
     "iopub.status.idle": "2021-10-19T00:30:09.436640Z",
     "shell.execute_reply": "2021-10-19T00:30:09.438051Z"
    },
    "papermill": {
     "duration": 0.067528,
     "end_time": "2021-10-19T00:30:09.438465",
     "exception": false,
     "start_time": "2021-10-19T00:30:09.370937",
     "status": "completed"
    },
    "tags": []
   },
   "outputs": [],
   "source": [
    "df_pivot = df.pivot_table(index=\"PRODUCT\", columns = \"RECORD_TIME\", values = \"LISTING_COUNT\")"
   ]
  },
  {
   "cell_type": "code",
   "execution_count": 6,
   "id": "union-huntington",
   "metadata": {
    "execution": {
     "iopub.execute_input": "2021-10-19T00:30:09.494047Z",
     "iopub.status.busy": "2021-10-19T00:30:09.491904Z",
     "iopub.status.idle": "2021-10-19T00:30:09.497216Z",
     "shell.execute_reply": "2021-10-19T00:30:09.498541Z"
    },
    "papermill": {
     "duration": 0.040225,
     "end_time": "2021-10-19T00:30:09.498956",
     "exception": false,
     "start_time": "2021-10-19T00:30:09.458731",
     "status": "completed"
    },
    "tags": []
   },
   "outputs": [],
   "source": [
    "df_pivot.columns = [\"stamp_1\", \"stamp_2\"]\n",
    "df_pivot_diff = df_pivot.diff(axis=1)"
   ]
  },
  {
   "cell_type": "code",
   "execution_count": 7,
   "id": "fifth-motion",
   "metadata": {
    "execution": {
     "iopub.execute_input": "2021-10-19T00:30:09.554431Z",
     "iopub.status.busy": "2021-10-19T00:30:09.551817Z",
     "iopub.status.idle": "2021-10-19T00:30:11.046081Z",
     "shell.execute_reply": "2021-10-19T00:30:11.047393Z"
    },
    "papermill": {
     "duration": 1.527452,
     "end_time": "2021-10-19T00:30:11.047810",
     "exception": false,
     "start_time": "2021-10-19T00:30:09.520358",
     "status": "completed"
    },
    "tags": []
   },
   "outputs": [
    {
     "data": {
      "text/plain": [
       "<AxesSubplot:ylabel='PRODUCT'>"
      ]
     },
     "execution_count": 7,
     "metadata": {},
     "output_type": "execute_result"
    },
    {
     "data": {
      "image/png": "[encoded data removed]",
      "text/plain": [
       "<Figure size 432x288 with 1 Axes>"
      ]
     },
     "metadata": {
      "needs_background": "light"
     },
     "output_type": "display_data"
    }
   ],
   "source": [
    "df_pivot_diff.sort_values(\"stamp_2\", ascending = False)[\"stamp_2\"].head(10).plot.barh()"
   ]
  },
  {
   "cell_type": "code",
   "execution_count": null,
   "id": "extra-executive",
   "metadata": {
    "papermill": {
     "duration": 0.021964,
     "end_time": "2021-10-19T00:30:11.095191",
     "exception": false,
     "start_time": "2021-10-19T00:30:11.073227",
     "status": "completed"
    },
    "tags": []
   },
   "outputs": [],
   "source": []
  }
 ],
 "metadata": {
  "kernelspec": {
   "display_name": "Python 3",
   "language": "python",
   "name": "python3"
  },
  "language_info": {
   "codemirror_mode": {
    "name": "ipython",
    "version": 3
   },
   "file_extension": ".py",
   "mimetype": "text/x-python",
   "name": "python",
   "nbconvert_exporter": "python",
   "pygments_lexer": "ipython3",
   "version": "3.9.5"
  },
  "papermill": {
   "default_parameters": {},
   "duration": 7.820825,
   "end_time": "2021-10-19T00:30:12.316069",
   "environment_variables": {},
   "exception": null,
   "input_path": "eBay_Overview.ipynb",
   "output_path": "eBay_Overview.ipynb",
   "parameters": {},
   "start_time": "2021-10-19T00:30:04.495244",
   "version": "2.3.3"
  }
 },
 "nbformat": 4,
 "nbformat_minor": 5
}