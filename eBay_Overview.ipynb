{
 "cells": [
  {
   "cell_type": "code",
   "execution_count": 1,
   "id": "reverse-picking",
   "metadata": {
    "execution": {
     "iopub.execute_input": "2021-08-16T10:00:07.533905Z",
     "iopub.status.busy": "2021-08-16T10:00:07.531926Z",
     "iopub.status.idle": "2021-08-16T10:00:08.339774Z",
     "shell.execute_reply": "2021-08-16T10:00:08.341020Z"
    },
    "papermill": {
     "duration": 0.860565,
     "end_time": "2021-08-16T10:00:08.341636",
     "exception": false,
     "start_time": "2021-08-16T10:00:07.481071",
     "status": "completed"
    },
    "tags": []
   },
   "outputs": [],
   "source": [
    "import pandas as pd\n",
    "import sqlite3"
   ]
  },
  {
   "cell_type": "code",
   "execution_count": 2,
   "id": "innovative-syndrome",
   "metadata": {
    "execution": {
     "iopub.execute_input": "2021-08-16T10:00:08.393194Z",
     "iopub.status.busy": "2021-08-16T10:00:08.391326Z",
     "iopub.status.idle": "2021-08-16T10:00:08.451612Z",
     "shell.execute_reply": "2021-08-16T10:00:08.452711Z"
    },
    "papermill": {
     "duration": 0.08989,
     "end_time": "2021-08-16T10:00:08.453115",
     "exception": false,
     "start_time": "2021-08-16T10:00:08.363225",
     "status": "completed"
    },
    "tags": []
   },
   "outputs": [],
   "source": [
    "timestamps = pd.read_sql(\"select distinct record_time from EBAY_TOP_BERLIN order by record_time desc limit 2\", sqlite3.connect(\"UsedObjects.db\"))"
   ]
  },
  {
   "cell_type": "code",
   "execution_count": 3,
   "id": "periodic-identification",
   "metadata": {
    "execution": {
     "iopub.execute_input": "2021-08-16T10:00:08.521485Z",
     "iopub.status.busy": "2021-08-16T10:00:08.519458Z",
     "iopub.status.idle": "2021-08-16T10:00:08.539304Z",
     "shell.execute_reply": "2021-08-16T10:00:08.540623Z"
    },
    "papermill": {
     "duration": 0.066112,
     "end_time": "2021-08-16T10:00:08.541036",
     "exception": false,
     "start_time": "2021-08-16T10:00:08.474924",
     "status": "completed"
    },
    "tags": []
   },
   "outputs": [
    {
     "data": {
      "text/html": [
       "<div>\n",
       "<style scoped>\n",
       "    .dataframe tbody tr th:only-of-type {\n",
       "        vertical-align: middle;\n",
       "    }\n",
       "\n",
       "    .dataframe tbody tr th {\n",
       "        vertical-align: top;\n",
       "    }\n",
       "\n",
       "    .dataframe thead th {\n",
       "        text-align: right;\n",
       "    }\n",
       "</style>\n",
       "<table border=\"1\" class=\"dataframe\">\n",
       "  <thead>\n",
       "    <tr style=\"text-align: right;\">\n",
       "      <th></th>\n",
       "      <th>RECORD_TIME</th>\n",
       "    </tr>\n",
       "  </thead>\n",
       "  <tbody>\n",
       "    <tr>\n",
       "      <th>0</th>\n",
       "      <td>2021-08-16 12:00</td>\n",
       "    </tr>\n",
       "    <tr>\n",
       "      <th>1</th>\n",
       "      <td>2021-08-16 11:30</td>\n",
       "    </tr>\n",
       "  </tbody>\n",
       "</table>\n",
       "</div>"
      ],
      "text/plain": [
       "        RECORD_TIME\n",
       "0  2021-08-16 12:00\n",
       "1  2021-08-16 11:30"
      ]
     },
     "execution_count": 3,
     "metadata": {},
     "output_type": "execute_result"
    }
   ],
   "source": [
    "timestamps"
   ]
  },
  {
   "cell_type": "code",
   "execution_count": 4,
   "id": "alternate-victory",
   "metadata": {
    "execution": {
     "iopub.execute_input": "2021-08-16T10:00:08.592068Z",
     "iopub.status.busy": "2021-08-16T10:00:08.590203Z",
     "iopub.status.idle": "2021-08-16T10:00:08.678373Z",
     "shell.execute_reply": "2021-08-16T10:00:08.679879Z"
    },
    "papermill": {
     "duration": 0.118592,
     "end_time": "2021-08-16T10:00:08.680322",
     "exception": false,
     "start_time": "2021-08-16T10:00:08.561730",
     "status": "completed"
    },
    "tags": []
   },
   "outputs": [],
   "source": [
    "df = pd.read_sql(\"select * from EBAY_TOP_BERLIN where record_time in (select distinct record_time from EBAY_TOP_BERLIN order by record_time desc limit 2)\", sqlite3.connect(\"UsedObjects.db\"))"
   ]
  },
  {
   "cell_type": "code",
   "execution_count": 5,
   "id": "popular-active",
   "metadata": {
    "execution": {
     "iopub.execute_input": "2021-08-16T10:00:08.746961Z",
     "iopub.status.busy": "2021-08-16T10:00:08.739737Z",
     "iopub.status.idle": "2021-08-16T10:00:08.767136Z",
     "shell.execute_reply": "2021-08-16T10:00:08.768338Z"
    },
    "papermill": {
     "duration": 0.06735,
     "end_time": "2021-08-16T10:00:08.768730",
     "exception": false,
     "start_time": "2021-08-16T10:00:08.701380",
     "status": "completed"
    },
    "tags": []
   },
   "outputs": [],
   "source": [
    "df_pivot = df.pivot_table(index=\"PRODUCT\", columns = \"RECORD_TIME\", values = \"LISTING_COUNT\")"
   ]
  },
  {
   "cell_type": "code",
   "execution_count": 6,
   "id": "union-huntington",
   "metadata": {
    "execution": {
     "iopub.execute_input": "2021-08-16T10:00:08.829167Z",
     "iopub.status.busy": "2021-08-16T10:00:08.826753Z",
     "iopub.status.idle": "2021-08-16T10:00:08.832612Z",
     "shell.execute_reply": "2021-08-16T10:00:08.834032Z"
    },
    "papermill": {
     "duration": 0.042651,
     "end_time": "2021-08-16T10:00:08.834476",
     "exception": false,
     "start_time": "2021-08-16T10:00:08.791825",
     "status": "completed"
    },
    "tags": []
   },
   "outputs": [],
   "source": [
    "df_pivot.columns = [\"stamp_1\", \"stamp_2\"]\n",
    "df_pivot_diff = df_pivot.diff(axis=1)"
   ]
  },
  {
   "cell_type": "code",
   "execution_count": 7,
   "id": "fifth-motion",
   "metadata": {
    "execution": {
     "iopub.execute_input": "2021-08-16T10:00:08.889086Z",
     "iopub.status.busy": "2021-08-16T10:00:08.886677Z",
     "iopub.status.idle": "2021-08-16T10:00:10.369019Z",
     "shell.execute_reply": "2021-08-16T10:00:10.370450Z"
    },
    "papermill": {
     "duration": 1.515414,
     "end_time": "2021-08-16T10:00:10.370885",
     "exception": false,
     "start_time": "2021-08-16T10:00:08.855471",
     "status": "completed"
    },
    "tags": []
   },
   "outputs": [
    {
     "data": {
      "text/plain": [
       "<AxesSubplot:ylabel='PRODUCT'>"
      ]
     },
     "execution_count": 7,
     "metadata": {},
     "output_type": "execute_result"
    },
    {
     "data": {
      "image/png": "[encoded data removed]",
      "text/plain": [
       "<Figure size 432x288 with 1 Axes>"
      ]
     },
     "metadata": {
      "needs_background": "light"
     },
     "output_type": "display_data"
    }
   ],
   "source": [
    "df_pivot_diff.sort_values(\"stamp_2\", ascending = False)[\"stamp_2\"].head(10).plot.barh()"
   ]
  },
  {
   "cell_type": "code",
   "execution_count": null,
   "id": "extra-executive",
   "metadata": {
    "papermill": {
     "duration": 0.022233,
     "end_time": "2021-08-16T10:00:10.416885",
     "exception": false,
     "start_time": "2021-08-16T10:00:10.394652",
     "status": "completed"
    },
    "tags": []
   },
   "outputs": [],
   "source": []
  }
 ],
 "metadata": {
  "kernelspec": {
   "display_name": "Python 3",
   "language": "python",
   "name": "python3"
  },
  "language_info": {
   "codemirror_mode": {
    "name": "ipython",
    "version": 3
   },
   "file_extension": ".py",
   "mimetype": "text/x-python",
   "name": "python",
   "nbconvert_exporter": "python",
   "pygments_lexer": "ipython3",
   "version": "3.9.5"
  },
  "papermill": {
   "default_parameters": {},
   "duration": 6.834116,
   "end_time": "2021-08-16T10:00:11.894481",
   "environment_variables": {},
   "exception": null,
   "input_path": "eBay_Overview.ipynb",
   "output_path": "eBay_Overview.ipynb",
   "parameters": {},
   "start_time": "2021-08-16T10:00:05.060365",
   "version": "2.3.3"
  }
 },
 "nbformat": 4,
 "nbformat_minor": 5
}