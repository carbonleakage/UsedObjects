{
 "cells": [
  {
   "cell_type": "code",
   "execution_count": 1,
   "id": "reverse-picking",
   "metadata": {
    "execution": {
     "iopub.execute_input": "2021-08-15T17:00:07.320290Z",
     "iopub.status.busy": "2021-08-15T17:00:07.318364Z",
     "iopub.status.idle": "2021-08-15T17:00:08.124852Z",
     "shell.execute_reply": "2021-08-15T17:00:08.126185Z"
    },
    "papermill": {
     "duration": 0.860191,
     "end_time": "2021-08-15T17:00:08.126872",
     "exception": false,
     "start_time": "2021-08-15T17:00:07.266681",
     "status": "completed"
    },
    "tags": []
   },
   "outputs": [],
   "source": [
    "import pandas as pd\n",
    "import sqlite3"
   ]
  },
  {
   "cell_type": "code",
   "execution_count": 2,
   "id": "innovative-syndrome",
   "metadata": {
    "execution": {
     "iopub.execute_input": "2021-08-15T17:00:08.176750Z",
     "iopub.status.busy": "2021-08-15T17:00:08.174848Z",
     "iopub.status.idle": "2021-08-15T17:00:08.231109Z",
     "shell.execute_reply": "2021-08-15T17:00:08.232296Z"
    },
    "papermill": {
     "duration": 0.085631,
     "end_time": "2021-08-15T17:00:08.232684",
     "exception": false,
     "start_time": "2021-08-15T17:00:08.147053",
     "status": "completed"
    },
    "tags": []
   },
   "outputs": [],
   "source": [
    "timestamps = pd.read_sql(\"select distinct record_time from EBAY_TOP_BERLIN order by record_time desc limit 2\", sqlite3.connect(\"UsedObjects.db\"))"
   ]
  },
  {
   "cell_type": "code",
   "execution_count": 3,
   "id": "periodic-identification",
   "metadata": {
    "execution": {
     "iopub.execute_input": "2021-08-15T17:00:08.300199Z",
     "iopub.status.busy": "2021-08-15T17:00:08.295188Z",
     "iopub.status.idle": "2021-08-15T17:00:08.315651Z",
     "shell.execute_reply": "2021-08-15T17:00:08.316916Z"
    },
    "papermill": {
     "duration": 0.063926,
     "end_time": "2021-08-15T17:00:08.317366",
     "exception": false,
     "start_time": "2021-08-15T17:00:08.253440",
     "status": "completed"
    },
    "tags": []
   },
   "outputs": [
    {
     "data": {
      "text/html": [
       "<div>\n",
       "<style scoped>\n",
       "    .dataframe tbody tr th:only-of-type {\n",
       "        vertical-align: middle;\n",
       "    }\n",
       "\n",
       "    .dataframe tbody tr th {\n",
       "        vertical-align: top;\n",
       "    }\n",
       "\n",
       "    .dataframe thead th {\n",
       "        text-align: right;\n",
       "    }\n",
       "</style>\n",
       "<table border=\"1\" class=\"dataframe\">\n",
       "  <thead>\n",
       "    <tr style=\"text-align: right;\">\n",
       "      <th></th>\n",
       "      <th>RECORD_TIME</th>\n",
       "    </tr>\n",
       "  </thead>\n",
       "  <tbody>\n",
       "    <tr>\n",
       "      <th>0</th>\n",
       "      <td>2021-08-15 19:00</td>\n",
       "    </tr>\n",
       "    <tr>\n",
       "      <th>1</th>\n",
       "      <td>2021-08-15 18:30</td>\n",
       "    </tr>\n",
       "  </tbody>\n",
       "</table>\n",
       "</div>"
      ],
      "text/plain": [
       "        RECORD_TIME\n",
       "0  2021-08-15 19:00\n",
       "1  2021-08-15 18:30"
      ]
     },
     "execution_count": 3,
     "metadata": {},
     "output_type": "execute_result"
    }
   ],
   "source": [
    "timestamps"
   ]
  },
  {
   "cell_type": "code",
   "execution_count": 4,
   "id": "alternate-victory",
   "metadata": {
    "execution": {
     "iopub.execute_input": "2021-08-15T17:00:08.370191Z",
     "iopub.status.busy": "2021-08-15T17:00:08.367841Z",
     "iopub.status.idle": "2021-08-15T17:00:08.452009Z",
     "shell.execute_reply": "2021-08-15T17:00:08.453274Z"
    },
    "papermill": {
     "duration": 0.114445,
     "end_time": "2021-08-15T17:00:08.453680",
     "exception": false,
     "start_time": "2021-08-15T17:00:08.339235",
     "status": "completed"
    },
    "tags": []
   },
   "outputs": [],
   "source": [
    "df = pd.read_sql(\"select * from EBAY_TOP_BERLIN where record_time in (select distinct record_time from EBAY_TOP_BERLIN order by record_time desc limit 2)\", sqlite3.connect(\"UsedObjects.db\"))"
   ]
  },
  {
   "cell_type": "code",
   "execution_count": 5,
   "id": "popular-active",
   "metadata": {
    "execution": {
     "iopub.execute_input": "2021-08-15T17:00:08.519767Z",
     "iopub.status.busy": "2021-08-15T17:00:08.512318Z",
     "iopub.status.idle": "2021-08-15T17:00:08.540751Z",
     "shell.execute_reply": "2021-08-15T17:00:08.542177Z"
    },
    "papermill": {
     "duration": 0.068421,
     "end_time": "2021-08-15T17:00:08.542632",
     "exception": false,
     "start_time": "2021-08-15T17:00:08.474211",
     "status": "completed"
    },
    "tags": []
   },
   "outputs": [],
   "source": [
    "df_pivot = df.pivot_table(index=\"PRODUCT\", columns = \"RECORD_TIME\", values = \"LISTING_COUNT\")"
   ]
  },
  {
   "cell_type": "code",
   "execution_count": 6,
   "id": "union-huntington",
   "metadata": {
    "execution": {
     "iopub.execute_input": "2021-08-15T17:00:08.599447Z",
     "iopub.status.busy": "2021-08-15T17:00:08.596990Z",
     "iopub.status.idle": "2021-08-15T17:00:08.603421Z",
     "shell.execute_reply": "2021-08-15T17:00:08.604764Z"
    },
    "papermill": {
     "duration": 0.042858,
     "end_time": "2021-08-15T17:00:08.605238",
     "exception": false,
     "start_time": "2021-08-15T17:00:08.562380",
     "status": "completed"
    },
    "tags": []
   },
   "outputs": [],
   "source": [
    "df_pivot.columns = [\"stamp_1\", \"stamp_2\"]\n",
    "df_pivot_diff = df_pivot.diff(axis=1)"
   ]
  },
  {
   "cell_type": "code",
   "execution_count": 7,
   "id": "fifth-motion",
   "metadata": {
    "execution": {
     "iopub.execute_input": "2021-08-15T17:00:08.661236Z",
     "iopub.status.busy": "2021-08-15T17:00:08.658955Z",
     "iopub.status.idle": "2021-08-15T17:00:10.120498Z",
     "shell.execute_reply": "2021-08-15T17:00:10.121782Z"
    },
    "papermill": {
     "duration": 1.495076,
     "end_time": "2021-08-15T17:00:10.122414",
     "exception": false,
     "start_time": "2021-08-15T17:00:08.627338",
     "status": "completed"
    },
    "tags": []
   },
   "outputs": [
    {
     "data": {
      "text/plain": [
       "<AxesSubplot:ylabel='PRODUCT'>"
      ]
     },
     "execution_count": 7,
     "metadata": {},
     "output_type": "execute_result"
    },
    {
     "data": {
      "image/png": "[encoded data removed]",
      "text/plain": [
       "<Figure size 432x288 with 1 Axes>"
      ]
     },
     "metadata": {
      "needs_background": "light"
     },
     "output_type": "display_data"
    }
   ],
   "source": [
    "df_pivot_diff.sort_values(\"stamp_2\", ascending = False)[\"stamp_2\"].head(10).plot.barh()"
   ]
  },
  {
   "cell_type": "code",
   "execution_count": null,
   "id": "extra-executive",
   "metadata": {
    "papermill": {
     "duration": 0.021973,
     "end_time": "2021-08-15T17:00:10.170867",
     "exception": false,
     "start_time": "2021-08-15T17:00:10.148894",
     "status": "completed"
    },
    "tags": []
   },
   "outputs": [],
   "source": []
  }
 ],
 "metadata": {
  "kernelspec": {
   "display_name": "Python 3",
   "language": "python",
   "name": "python3"
  },
  "language_info": {
   "codemirror_mode": {
    "name": "ipython",
    "version": 3
   },
   "file_extension": ".py",
   "mimetype": "text/x-python",
   "name": "python",
   "nbconvert_exporter": "python",
   "pygments_lexer": "ipython3",
   "version": "3.9.5"
  },
  "papermill": {
   "default_parameters": {},
   "duration": 6.828842,
   "end_time": "2021-08-15T17:00:11.679600",
   "environment_variables": {},
   "exception": null,
   "input_path": "eBay_Overview.ipynb",
   "output_path": "eBay_Overview.ipynb",
   "parameters": {},
   "start_time": "2021-08-15T17:00:04.850758",
   "version": "2.3.3"
  }
 },
 "nbformat": 4,
 "nbformat_minor": 5
}