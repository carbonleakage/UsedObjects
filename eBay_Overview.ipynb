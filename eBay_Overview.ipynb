{
 "cells": [
  {
   "cell_type": "code",
   "execution_count": 1,
   "id": "reverse-picking",
   "metadata": {
    "execution": {
     "iopub.execute_input": "2021-11-04T18:00:08.135027Z",
     "iopub.status.busy": "2021-11-04T18:00:08.132737Z",
     "iopub.status.idle": "2021-11-04T18:00:09.080852Z",
     "shell.execute_reply": "2021-11-04T18:00:09.082456Z"
    },
    "papermill": {
     "duration": 0.996174,
     "end_time": "2021-11-04T18:00:09.083215",
     "exception": false,
     "start_time": "2021-11-04T18:00:08.087041",
     "status": "completed"
    },
    "tags": []
   },
   "outputs": [],
   "source": [
    "import pandas as pd\n",
    "import sqlite3"
   ]
  },
  {
   "cell_type": "code",
   "execution_count": 2,
   "id": "innovative-syndrome",
   "metadata": {
    "execution": {
     "iopub.execute_input": "2021-11-04T18:00:09.147854Z",
     "iopub.status.busy": "2021-11-04T18:00:09.145670Z",
     "iopub.status.idle": "2021-11-04T18:00:09.880760Z",
     "shell.execute_reply": "2021-11-04T18:00:09.882209Z"
    },
    "papermill": {
     "duration": 0.769363,
     "end_time": "2021-11-04T18:00:09.882647",
     "exception": false,
     "start_time": "2021-11-04T18:00:09.113284",
     "status": "completed"
    },
    "tags": []
   },
   "outputs": [],
   "source": [
    "timestamps = pd.read_sql(\"select distinct record_time from EBAY_TOP_BERLIN order by record_time desc limit 2\", sqlite3.connect(\"UsedObjects.db\"))"
   ]
  },
  {
   "cell_type": "code",
   "execution_count": 3,
   "id": "periodic-identification",
   "metadata": {
    "execution": {
     "iopub.execute_input": "2021-11-04T18:00:09.948987Z",
     "iopub.status.busy": "2021-11-04T18:00:09.946795Z",
     "iopub.status.idle": "2021-11-04T18:00:09.969614Z",
     "shell.execute_reply": "2021-11-04T18:00:09.971026Z"
    },
    "papermill": {
     "duration": 0.06972,
     "end_time": "2021-11-04T18:00:09.971489",
     "exception": false,
     "start_time": "2021-11-04T18:00:09.901769",
     "status": "completed"
    },
    "tags": []
   },
   "outputs": [
    {
     "data": {
      "text/html": [
       "<div>\n",
       "<style scoped>\n",
       "    .dataframe tbody tr th:only-of-type {\n",
       "        vertical-align: middle;\n",
       "    }\n",
       "\n",
       "    .dataframe tbody tr th {\n",
       "        vertical-align: top;\n",
       "    }\n",
       "\n",
       "    .dataframe thead th {\n",
       "        text-align: right;\n",
       "    }\n",
       "</style>\n",
       "<table border=\"1\" class=\"dataframe\">\n",
       "  <thead>\n",
       "    <tr style=\"text-align: right;\">\n",
       "      <th></th>\n",
       "      <th>RECORD_TIME</th>\n",
       "    </tr>\n",
       "  </thead>\n",
       "  <tbody>\n",
       "    <tr>\n",
       "      <th>0</th>\n",
       "      <td>2021-11-04 19:00</td>\n",
       "    </tr>\n",
       "    <tr>\n",
       "      <th>1</th>\n",
       "      <td>2021-11-04 18:30</td>\n",
       "    </tr>\n",
       "  </tbody>\n",
       "</table>\n",
       "</div>"
      ],
      "text/plain": [
       "        RECORD_TIME\n",
       "0  2021-11-04 19:00\n",
       "1  2021-11-04 18:30"
      ]
     },
     "execution_count": 3,
     "metadata": {},
     "output_type": "execute_result"
    }
   ],
   "source": [
    "timestamps"
   ]
  },
  {
   "cell_type": "code",
   "execution_count": 4,
   "id": "alternate-victory",
   "metadata": {
    "execution": {
     "iopub.execute_input": "2021-11-04T18:00:10.025681Z",
     "iopub.status.busy": "2021-11-04T18:00:10.023488Z",
     "iopub.status.idle": "2021-11-04T18:00:11.081267Z",
     "shell.execute_reply": "2021-11-04T18:00:11.082873Z"
    },
    "papermill": {
     "duration": 1.091842,
     "end_time": "2021-11-04T18:00:11.083425",
     "exception": false,
     "start_time": "2021-11-04T18:00:09.991583",
     "status": "completed"
    },
    "tags": []
   },
   "outputs": [],
   "source": [
    "df = pd.read_sql(\"select * from EBAY_TOP_BERLIN where record_time in (select distinct record_time from EBAY_TOP_BERLIN order by record_time desc limit 2)\", sqlite3.connect(\"UsedObjects.db\"))"
   ]
  },
  {
   "cell_type": "code",
   "execution_count": 5,
   "id": "popular-active",
   "metadata": {
    "execution": {
     "iopub.execute_input": "2021-11-04T18:00:11.150394Z",
     "iopub.status.busy": "2021-11-04T18:00:11.148054Z",
     "iopub.status.idle": "2021-11-04T18:00:11.181318Z",
     "shell.execute_reply": "2021-11-04T18:00:11.182915Z"
    },
    "papermill": {
     "duration": 0.077359,
     "end_time": "2021-11-04T18:00:11.183392",
     "exception": false,
     "start_time": "2021-11-04T18:00:11.106033",
     "status": "completed"
    },
    "tags": []
   },
   "outputs": [],
   "source": [
    "df_pivot = df.pivot_table(index=\"PRODUCT\", columns = \"RECORD_TIME\", values = \"LISTING_COUNT\")"
   ]
  },
  {
   "cell_type": "code",
   "execution_count": 6,
   "id": "union-huntington",
   "metadata": {
    "execution": {
     "iopub.execute_input": "2021-11-04T18:00:11.244846Z",
     "iopub.status.busy": "2021-11-04T18:00:11.242592Z",
     "iopub.status.idle": "2021-11-04T18:00:11.248243Z",
     "shell.execute_reply": "2021-11-04T18:00:11.249891Z"
    },
    "papermill": {
     "duration": 0.04617,
     "end_time": "2021-11-04T18:00:11.250415",
     "exception": false,
     "start_time": "2021-11-04T18:00:11.204245",
     "status": "completed"
    },
    "tags": []
   },
   "outputs": [],
   "source": [
    "df_pivot.columns = [\"stamp_1\", \"stamp_2\"]\n",
    "df_pivot_diff = df_pivot.diff(axis=1)"
   ]
  },
  {
   "cell_type": "code",
   "execution_count": 7,
   "id": "fifth-motion",
   "metadata": {
    "execution": {
     "iopub.execute_input": "2021-11-04T18:00:11.311280Z",
     "iopub.status.busy": "2021-11-04T18:00:11.308788Z",
     "iopub.status.idle": "2021-11-04T18:00:13.097892Z",
     "shell.execute_reply": "2021-11-04T18:00:13.099252Z"
    },
    "papermill": {
     "duration": 1.82764,
     "end_time": "2021-11-04T18:00:13.099727",
     "exception": false,
     "start_time": "2021-11-04T18:00:11.272087",
     "status": "completed"
    },
    "tags": []
   },
   "outputs": [
    {
     "data": {
      "text/plain": [
       "<AxesSubplot:ylabel='PRODUCT'>"
      ]
     },
     "execution_count": 7,
     "metadata": {},
     "output_type": "execute_result"
    },
    {
     "data": {
      "image/png": "[encoded data removed]",
      "text/plain": [
       "<Figure size 432x288 with 1 Axes>"
      ]
     },
     "metadata": {
      "needs_background": "light"
     },
     "output_type": "display_data"
    }
   ],
   "source": [
    "df_pivot_diff.sort_values(\"stamp_2\", ascending = False)[\"stamp_2\"].head(10).plot.barh()"
   ]
  },
  {
   "cell_type": "code",
   "execution_count": null,
   "id": "extra-executive",
   "metadata": {
    "papermill": {
     "duration": 0.02449,
     "end_time": "2021-11-04T18:00:13.148038",
     "exception": false,
     "start_time": "2021-11-04T18:00:13.123548",
     "status": "completed"
    },
    "tags": []
   },
   "outputs": [],
   "source": []
  }
 ],
 "metadata": {
  "kernelspec": {
   "display_name": "Python 3",
   "language": "python",
   "name": "python3"
  },
  "language_info": {
   "codemirror_mode": {
    "name": "ipython",
    "version": 3
   },
   "file_extension": ".py",
   "mimetype": "text/x-python",
   "name": "python",
   "nbconvert_exporter": "python",
   "pygments_lexer": "ipython3",
   "version": "3.9.5"
  },
  "papermill": {
   "default_parameters": {},
   "duration": 8.660075,
   "end_time": "2021-11-04T18:00:14.026813",
   "environment_variables": {},
   "exception": null,
   "input_path": "eBay_Overview.ipynb",
   "output_path": "eBay_Overview.ipynb",
   "parameters": {},
   "start_time": "2021-11-04T18:00:05.366738",
   "version": "2.3.3"
  }
 },
 "nbformat": 4,
 "nbformat_minor": 5
}