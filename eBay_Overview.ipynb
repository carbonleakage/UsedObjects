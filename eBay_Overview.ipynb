{
 "cells": [
  {
   "cell_type": "code",
   "execution_count": 1,
   "id": "reverse-picking",
   "metadata": {
    "execution": {
     "iopub.execute_input": "2021-09-19T16:00:07.388325Z",
     "iopub.status.busy": "2021-09-19T16:00:07.386225Z",
     "iopub.status.idle": "2021-09-19T16:00:08.190194Z",
     "shell.execute_reply": "2021-09-19T16:00:08.191685Z"
    },
    "papermill": {
     "duration": 0.854523,
     "end_time": "2021-09-19T16:00:08.192344",
     "exception": false,
     "start_time": "2021-09-19T16:00:07.337821",
     "status": "completed"
    },
    "tags": []
   },
   "outputs": [],
   "source": [
    "import pandas as pd\n",
    "import sqlite3"
   ]
  },
  {
   "cell_type": "code",
   "execution_count": 2,
   "id": "innovative-syndrome",
   "metadata": {
    "execution": {
     "iopub.execute_input": "2021-09-19T16:00:08.241782Z",
     "iopub.status.busy": "2021-09-19T16:00:08.239930Z",
     "iopub.status.idle": "2021-09-19T16:00:08.566071Z",
     "shell.execute_reply": "2021-09-19T16:00:08.568008Z"
    },
    "papermill": {
     "duration": 0.356223,
     "end_time": "2021-09-19T16:00:08.568454",
     "exception": false,
     "start_time": "2021-09-19T16:00:08.212231",
     "status": "completed"
    },
    "tags": []
   },
   "outputs": [],
   "source": [
    "timestamps = pd.read_sql(\"select distinct record_time from EBAY_TOP_BERLIN order by record_time desc limit 2\", sqlite3.connect(\"UsedObjects.db\"))"
   ]
  },
  {
   "cell_type": "code",
   "execution_count": 3,
   "id": "periodic-identification",
   "metadata": {
    "execution": {
     "iopub.execute_input": "2021-09-19T16:00:08.633494Z",
     "iopub.status.busy": "2021-09-19T16:00:08.631480Z",
     "iopub.status.idle": "2021-09-19T16:00:08.653187Z",
     "shell.execute_reply": "2021-09-19T16:00:08.651199Z"
    },
    "papermill": {
     "duration": 0.06594,
     "end_time": "2021-09-19T16:00:08.653592",
     "exception": false,
     "start_time": "2021-09-19T16:00:08.587652",
     "status": "completed"
    },
    "tags": []
   },
   "outputs": [
    {
     "data": {
      "text/html": [
       "<div>\n",
       "<style scoped>\n",
       "    .dataframe tbody tr th:only-of-type {\n",
       "        vertical-align: middle;\n",
       "    }\n",
       "\n",
       "    .dataframe tbody tr th {\n",
       "        vertical-align: top;\n",
       "    }\n",
       "\n",
       "    .dataframe thead th {\n",
       "        text-align: right;\n",
       "    }\n",
       "</style>\n",
       "<table border=\"1\" class=\"dataframe\">\n",
       "  <thead>\n",
       "    <tr style=\"text-align: right;\">\n",
       "      <th></th>\n",
       "      <th>RECORD_TIME</th>\n",
       "    </tr>\n",
       "  </thead>\n",
       "  <tbody>\n",
       "    <tr>\n",
       "      <th>0</th>\n",
       "      <td>2021-09-19 18:00</td>\n",
       "    </tr>\n",
       "    <tr>\n",
       "      <th>1</th>\n",
       "      <td>2021-09-19 17:30</td>\n",
       "    </tr>\n",
       "  </tbody>\n",
       "</table>\n",
       "</div>"
      ],
      "text/plain": [
       "        RECORD_TIME\n",
       "0  2021-09-19 18:00\n",
       "1  2021-09-19 17:30"
      ]
     },
     "execution_count": 3,
     "metadata": {},
     "output_type": "execute_result"
    }
   ],
   "source": [
    "timestamps"
   ]
  },
  {
   "cell_type": "code",
   "execution_count": 4,
   "id": "alternate-victory",
   "metadata": {
    "execution": {
     "iopub.execute_input": "2021-09-19T16:00:08.705658Z",
     "iopub.status.busy": "2021-09-19T16:00:08.703655Z",
     "iopub.status.idle": "2021-09-19T16:00:09.183065Z",
     "shell.execute_reply": "2021-09-19T16:00:09.184453Z"
    },
    "papermill": {
     "duration": 0.510123,
     "end_time": "2021-09-19T16:00:09.184882",
     "exception": false,
     "start_time": "2021-09-19T16:00:08.674759",
     "status": "completed"
    },
    "tags": []
   },
   "outputs": [],
   "source": [
    "df = pd.read_sql(\"select * from EBAY_TOP_BERLIN where record_time in (select distinct record_time from EBAY_TOP_BERLIN order by record_time desc limit 2)\", sqlite3.connect(\"UsedObjects.db\"))"
   ]
  },
  {
   "cell_type": "code",
   "execution_count": 5,
   "id": "popular-active",
   "metadata": {
    "execution": {
     "iopub.execute_input": "2021-09-19T16:00:09.259514Z",
     "iopub.status.busy": "2021-09-19T16:00:09.252044Z",
     "iopub.status.idle": "2021-09-19T16:00:09.280358Z",
     "shell.execute_reply": "2021-09-19T16:00:09.281569Z"
    },
    "papermill": {
     "duration": 0.071527,
     "end_time": "2021-09-19T16:00:09.281971",
     "exception": false,
     "start_time": "2021-09-19T16:00:09.210444",
     "status": "completed"
    },
    "tags": []
   },
   "outputs": [],
   "source": [
    "df_pivot = df.pivot_table(index=\"PRODUCT\", columns = \"RECORD_TIME\", values = \"LISTING_COUNT\")"
   ]
  },
  {
   "cell_type": "code",
   "execution_count": 6,
   "id": "union-huntington",
   "metadata": {
    "execution": {
     "iopub.execute_input": "2021-09-19T16:00:09.340768Z",
     "iopub.status.busy": "2021-09-19T16:00:09.338258Z",
     "iopub.status.idle": "2021-09-19T16:00:09.344287Z",
     "shell.execute_reply": "2021-09-19T16:00:09.345478Z"
    },
    "papermill": {
     "duration": 0.041873,
     "end_time": "2021-09-19T16:00:09.345916",
     "exception": false,
     "start_time": "2021-09-19T16:00:09.304043",
     "status": "completed"
    },
    "tags": []
   },
   "outputs": [],
   "source": [
    "df_pivot.columns = [\"stamp_1\", \"stamp_2\"]\n",
    "df_pivot_diff = df_pivot.diff(axis=1)"
   ]
  },
  {
   "cell_type": "code",
   "execution_count": 7,
   "id": "fifth-motion",
   "metadata": {
    "execution": {
     "iopub.execute_input": "2021-09-19T16:00:09.400226Z",
     "iopub.status.busy": "2021-09-19T16:00:09.397774Z",
     "iopub.status.idle": "2021-09-19T16:00:10.895868Z",
     "shell.execute_reply": "2021-09-19T16:00:10.897243Z"
    },
    "papermill": {
     "duration": 1.531349,
     "end_time": "2021-09-19T16:00:10.897690",
     "exception": false,
     "start_time": "2021-09-19T16:00:09.366341",
     "status": "completed"
    },
    "tags": []
   },
   "outputs": [
    {
     "data": {
      "text/plain": [
       "<AxesSubplot:ylabel='PRODUCT'>"
      ]
     },
     "execution_count": 7,
     "metadata": {},
     "output_type": "execute_result"
    },
    {
     "data": {
      "image/png": "[encoded data removed]",
      "text/plain": [
       "<Figure size 432x288 with 1 Axes>"
      ]
     },
     "metadata": {
      "needs_background": "light"
     },
     "output_type": "display_data"
    }
   ],
   "source": [
    "df_pivot_diff.sort_values(\"stamp_2\", ascending = False)[\"stamp_2\"].head(10).plot.barh()"
   ]
  },
  {
   "cell_type": "code",
   "execution_count": null,
   "id": "extra-executive",
   "metadata": {
    "papermill": {
     "duration": 0.022365,
     "end_time": "2021-09-19T16:00:10.943621",
     "exception": false,
     "start_time": "2021-09-19T16:00:10.921256",
     "status": "completed"
    },
    "tags": []
   },
   "outputs": [],
   "source": []
  }
 ],
 "metadata": {
  "kernelspec": {
   "display_name": "Python 3",
   "language": "python",
   "name": "python3"
  },
  "language_info": {
   "codemirror_mode": {
    "name": "ipython",
    "version": 3
   },
   "file_extension": ".py",
   "mimetype": "text/x-python",
   "name": "python",
   "nbconvert_exporter": "python",
   "pygments_lexer": "ipython3",
   "version": "3.9.5"
  },
  "papermill": {
   "default_parameters": {},
   "duration": 6.653684,
   "end_time": "2021-09-19T16:00:11.585055",
   "environment_variables": {},
   "exception": null,
   "input_path": "eBay_Overview.ipynb",
   "output_path": "eBay_Overview.ipynb",
   "parameters": {},
   "start_time": "2021-09-19T16:00:04.931371",
   "version": "2.3.3"
  }
 },
 "nbformat": 4,
 "nbformat_minor": 5
}