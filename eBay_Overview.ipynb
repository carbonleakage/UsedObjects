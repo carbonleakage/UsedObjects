{
 "cells": [
  {
   "cell_type": "code",
   "execution_count": 1,
   "id": "reverse-picking",
   "metadata": {
    "execution": {
     "iopub.execute_input": "2021-08-21T01:30:07.106450Z",
     "iopub.status.busy": "2021-08-21T01:30:07.104463Z",
     "iopub.status.idle": "2021-08-21T01:30:07.909613Z",
     "shell.execute_reply": "2021-08-21T01:30:07.911020Z"
    },
    "papermill": {
     "duration": 0.856633,
     "end_time": "2021-08-21T01:30:07.911685",
     "exception": false,
     "start_time": "2021-08-21T01:30:07.055052",
     "status": "completed"
    },
    "tags": []
   },
   "outputs": [],
   "source": [
    "import pandas as pd\n",
    "import sqlite3"
   ]
  },
  {
   "cell_type": "code",
   "execution_count": 2,
   "id": "innovative-syndrome",
   "metadata": {
    "execution": {
     "iopub.execute_input": "2021-08-21T01:30:07.962405Z",
     "iopub.status.busy": "2021-08-21T01:30:07.960275Z",
     "iopub.status.idle": "2021-08-21T01:30:08.054077Z",
     "shell.execute_reply": "2021-08-21T01:30:08.055426Z"
    },
    "papermill": {
     "duration": 0.124008,
     "end_time": "2021-08-21T01:30:08.055844",
     "exception": false,
     "start_time": "2021-08-21T01:30:07.931836",
     "status": "completed"
    },
    "tags": []
   },
   "outputs": [],
   "source": [
    "timestamps = pd.read_sql(\"select distinct record_time from EBAY_TOP_BERLIN order by record_time desc limit 2\", sqlite3.connect(\"UsedObjects.db\"))"
   ]
  },
  {
   "cell_type": "code",
   "execution_count": 3,
   "id": "periodic-identification",
   "metadata": {
    "execution": {
     "iopub.execute_input": "2021-08-21T01:30:08.119901Z",
     "iopub.status.busy": "2021-08-21T01:30:08.117454Z",
     "iopub.status.idle": "2021-08-21T01:30:08.138955Z",
     "shell.execute_reply": "2021-08-21T01:30:08.137558Z"
    },
    "papermill": {
     "duration": 0.064304,
     "end_time": "2021-08-21T01:30:08.139300",
     "exception": false,
     "start_time": "2021-08-21T01:30:08.074996",
     "status": "completed"
    },
    "tags": []
   },
   "outputs": [
    {
     "data": {
      "text/html": [
       "<div>\n",
       "<style scoped>\n",
       "    .dataframe tbody tr th:only-of-type {\n",
       "        vertical-align: middle;\n",
       "    }\n",
       "\n",
       "    .dataframe tbody tr th {\n",
       "        vertical-align: top;\n",
       "    }\n",
       "\n",
       "    .dataframe thead th {\n",
       "        text-align: right;\n",
       "    }\n",
       "</style>\n",
       "<table border=\"1\" class=\"dataframe\">\n",
       "  <thead>\n",
       "    <tr style=\"text-align: right;\">\n",
       "      <th></th>\n",
       "      <th>RECORD_TIME</th>\n",
       "    </tr>\n",
       "  </thead>\n",
       "  <tbody>\n",
       "    <tr>\n",
       "      <th>0</th>\n",
       "      <td>2021-08-21 03:30</td>\n",
       "    </tr>\n",
       "    <tr>\n",
       "      <th>1</th>\n",
       "      <td>2021-08-21 03:00</td>\n",
       "    </tr>\n",
       "  </tbody>\n",
       "</table>\n",
       "</div>"
      ],
      "text/plain": [
       "        RECORD_TIME\n",
       "0  2021-08-21 03:30\n",
       "1  2021-08-21 03:00"
      ]
     },
     "execution_count": 3,
     "metadata": {},
     "output_type": "execute_result"
    }
   ],
   "source": [
    "timestamps"
   ]
  },
  {
   "cell_type": "code",
   "execution_count": 4,
   "id": "alternate-victory",
   "metadata": {
    "execution": {
     "iopub.execute_input": "2021-08-21T01:30:08.189913Z",
     "iopub.status.busy": "2021-08-21T01:30:08.188108Z",
     "iopub.status.idle": "2021-08-21T01:30:08.328440Z",
     "shell.execute_reply": "2021-08-21T01:30:08.329657Z"
    },
    "papermill": {
     "duration": 0.170071,
     "end_time": "2021-08-21T01:30:08.330110",
     "exception": false,
     "start_time": "2021-08-21T01:30:08.160039",
     "status": "completed"
    },
    "tags": []
   },
   "outputs": [],
   "source": [
    "df = pd.read_sql(\"select * from EBAY_TOP_BERLIN where record_time in (select distinct record_time from EBAY_TOP_BERLIN order by record_time desc limit 2)\", sqlite3.connect(\"UsedObjects.db\"))"
   ]
  },
  {
   "cell_type": "code",
   "execution_count": 5,
   "id": "popular-active",
   "metadata": {
    "execution": {
     "iopub.execute_input": "2021-08-21T01:30:08.394976Z",
     "iopub.status.busy": "2021-08-21T01:30:08.387320Z",
     "iopub.status.idle": "2021-08-21T01:30:08.416315Z",
     "shell.execute_reply": "2021-08-21T01:30:08.417595Z"
    },
    "papermill": {
     "duration": 0.067604,
     "end_time": "2021-08-21T01:30:08.418062",
     "exception": false,
     "start_time": "2021-08-21T01:30:08.350458",
     "status": "completed"
    },
    "tags": []
   },
   "outputs": [],
   "source": [
    "df_pivot = df.pivot_table(index=\"PRODUCT\", columns = \"RECORD_TIME\", values = \"LISTING_COUNT\")"
   ]
  },
  {
   "cell_type": "code",
   "execution_count": 6,
   "id": "union-huntington",
   "metadata": {
    "execution": {
     "iopub.execute_input": "2021-08-21T01:30:08.474117Z",
     "iopub.status.busy": "2021-08-21T01:30:08.472016Z",
     "iopub.status.idle": "2021-08-21T01:30:08.478900Z",
     "shell.execute_reply": "2021-08-21T01:30:08.477445Z"
    },
    "papermill": {
     "duration": 0.041441,
     "end_time": "2021-08-21T01:30:08.479261",
     "exception": false,
     "start_time": "2021-08-21T01:30:08.437820",
     "status": "completed"
    },
    "tags": []
   },
   "outputs": [],
   "source": [
    "df_pivot.columns = [\"stamp_1\", \"stamp_2\"]\n",
    "df_pivot_diff = df_pivot.diff(axis=1)"
   ]
  },
  {
   "cell_type": "code",
   "execution_count": 7,
   "id": "fifth-motion",
   "metadata": {
    "execution": {
     "iopub.execute_input": "2021-08-21T01:30:08.538607Z",
     "iopub.status.busy": "2021-08-21T01:30:08.535898Z",
     "iopub.status.idle": "2021-08-21T01:30:10.043148Z",
     "shell.execute_reply": "2021-08-21T01:30:10.044338Z"
    },
    "papermill": {
     "duration": 1.544332,
     "end_time": "2021-08-21T01:30:10.044769",
     "exception": false,
     "start_time": "2021-08-21T01:30:08.500437",
     "status": "completed"
    },
    "tags": []
   },
   "outputs": [
    {
     "data": {
      "text/plain": [
       "<AxesSubplot:ylabel='PRODUCT'>"
      ]
     },
     "execution_count": 7,
     "metadata": {},
     "output_type": "execute_result"
    },
    {
     "data": {
      "image/png": "[encoded data removed]",
      "text/plain": [
       "<Figure size 432x288 with 1 Axes>"
      ]
     },
     "metadata": {
      "needs_background": "light"
     },
     "output_type": "display_data"
    }
   ],
   "source": [
    "df_pivot_diff.sort_values(\"stamp_2\", ascending = False)[\"stamp_2\"].head(10).plot.barh()"
   ]
  },
  {
   "cell_type": "code",
   "execution_count": null,
   "id": "extra-executive",
   "metadata": {
    "papermill": {
     "duration": 0.021838,
     "end_time": "2021-08-21T01:30:10.091922",
     "exception": false,
     "start_time": "2021-08-21T01:30:10.070084",
     "status": "completed"
    },
    "tags": []
   },
   "outputs": [],
   "source": []
  }
 ],
 "metadata": {
  "kernelspec": {
   "display_name": "Python 3",
   "language": "python",
   "name": "python3"
  },
  "language_info": {
   "codemirror_mode": {
    "name": "ipython",
    "version": 3
   },
   "file_extension": ".py",
   "mimetype": "text/x-python",
   "name": "python",
   "nbconvert_exporter": "python",
   "pygments_lexer": "ipython3",
   "version": "3.9.5"
  },
  "papermill": {
   "default_parameters": {},
   "duration": 6.822597,
   "end_time": "2021-08-21T01:30:11.468325",
   "environment_variables": {},
   "exception": null,
   "input_path": "eBay_Overview.ipynb",
   "output_path": "eBay_Overview.ipynb",
   "parameters": {},
   "start_time": "2021-08-21T01:30:04.645728",
   "version": "2.3.3"
  }
 },
 "nbformat": 4,
 "nbformat_minor": 5
}