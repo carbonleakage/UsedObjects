{
 "cells": [
  {
   "cell_type": "code",
   "execution_count": 1,
   "id": "reverse-picking",
   "metadata": {
    "execution": {
     "iopub.execute_input": "2021-12-16T10:00:07.683628Z",
     "iopub.status.busy": "2021-12-16T10:00:07.681457Z",
     "iopub.status.idle": "2021-12-16T10:00:08.632643Z",
     "shell.execute_reply": "2021-12-16T10:00:08.634940Z"
    },
    "papermill": {
     "duration": 1.002368,
     "end_time": "2021-12-16T10:00:08.636557",
     "exception": false,
     "start_time": "2021-12-16T10:00:07.634189",
     "status": "completed"
    },
    "tags": []
   },
   "outputs": [],
   "source": [
    "import pandas as pd\n",
    "import sqlite3"
   ]
  },
  {
   "cell_type": "code",
   "execution_count": 2,
   "id": "innovative-syndrome",
   "metadata": {
    "execution": {
     "iopub.execute_input": "2021-12-16T10:00:08.713394Z",
     "iopub.status.busy": "2021-12-16T10:00:08.710941Z",
     "iopub.status.idle": "2021-12-16T10:00:09.789619Z",
     "shell.execute_reply": "2021-12-16T10:00:09.791097Z"
    },
    "papermill": {
     "duration": 1.121864,
     "end_time": "2021-12-16T10:00:09.791562",
     "exception": false,
     "start_time": "2021-12-16T10:00:08.669698",
     "status": "completed"
    },
    "tags": []
   },
   "outputs": [],
   "source": [
    "timestamps = pd.read_sql(\"select distinct record_time from EBAY_TOP_BERLIN order by record_time desc limit 2\", sqlite3.connect(\"UsedObjects.db\"))"
   ]
  },
  {
   "cell_type": "code",
   "execution_count": 3,
   "id": "periodic-identification",
   "metadata": {
    "execution": {
     "iopub.execute_input": "2021-12-16T10:00:09.861435Z",
     "iopub.status.busy": "2021-12-16T10:00:09.859070Z",
     "iopub.status.idle": "2021-12-16T10:00:09.886802Z",
     "shell.execute_reply": "2021-12-16T10:00:09.887959Z"
    },
    "papermill": {
     "duration": 0.077509,
     "end_time": "2021-12-16T10:00:09.888377",
     "exception": false,
     "start_time": "2021-12-16T10:00:09.810868",
     "status": "completed"
    },
    "tags": []
   },
   "outputs": [
    {
     "data": {
      "text/html": [
       "<div>\n",
       "<style scoped>\n",
       "    .dataframe tbody tr th:only-of-type {\n",
       "        vertical-align: middle;\n",
       "    }\n",
       "\n",
       "    .dataframe tbody tr th {\n",
       "        vertical-align: top;\n",
       "    }\n",
       "\n",
       "    .dataframe thead th {\n",
       "        text-align: right;\n",
       "    }\n",
       "</style>\n",
       "<table border=\"1\" class=\"dataframe\">\n",
       "  <thead>\n",
       "    <tr style=\"text-align: right;\">\n",
       "      <th></th>\n",
       "      <th>RECORD_TIME</th>\n",
       "    </tr>\n",
       "  </thead>\n",
       "  <tbody>\n",
       "    <tr>\n",
       "      <th>0</th>\n",
       "      <td>2021-12-16 11:00</td>\n",
       "    </tr>\n",
       "    <tr>\n",
       "      <th>1</th>\n",
       "      <td>2021-12-16 10:30</td>\n",
       "    </tr>\n",
       "  </tbody>\n",
       "</table>\n",
       "</div>"
      ],
      "text/plain": [
       "        RECORD_TIME\n",
       "0  2021-12-16 11:00\n",
       "1  2021-12-16 10:30"
      ]
     },
     "execution_count": 3,
     "metadata": {},
     "output_type": "execute_result"
    }
   ],
   "source": [
    "timestamps"
   ]
  },
  {
   "cell_type": "code",
   "execution_count": 4,
   "id": "alternate-victory",
   "metadata": {
    "execution": {
     "iopub.execute_input": "2021-12-16T10:00:09.941549Z",
     "iopub.status.busy": "2021-12-16T10:00:09.939339Z",
     "iopub.status.idle": "2021-12-16T10:00:11.518960Z",
     "shell.execute_reply": "2021-12-16T10:00:11.521416Z"
    },
    "papermill": {
     "duration": 1.613786,
     "end_time": "2021-12-16T10:00:11.521919",
     "exception": false,
     "start_time": "2021-12-16T10:00:09.908133",
     "status": "completed"
    },
    "tags": []
   },
   "outputs": [],
   "source": [
    "df = pd.read_sql(\"select * from EBAY_TOP_BERLIN where record_time in (select distinct record_time from EBAY_TOP_BERLIN order by record_time desc limit 2)\", sqlite3.connect(\"UsedObjects.db\"))"
   ]
  },
  {
   "cell_type": "code",
   "execution_count": 5,
   "id": "popular-active",
   "metadata": {
    "execution": {
     "iopub.execute_input": "2021-12-16T10:00:11.601307Z",
     "iopub.status.busy": "2021-12-16T10:00:11.588304Z",
     "iopub.status.idle": "2021-12-16T10:00:11.618900Z",
     "shell.execute_reply": "2021-12-16T10:00:11.620256Z"
    },
    "papermill": {
     "duration": 0.073518,
     "end_time": "2021-12-16T10:00:11.620835",
     "exception": false,
     "start_time": "2021-12-16T10:00:11.547317",
     "status": "completed"
    },
    "tags": []
   },
   "outputs": [],
   "source": [
    "df_pivot = df.pivot_table(index=\"PRODUCT\", columns = \"RECORD_TIME\", values = \"LISTING_COUNT\")"
   ]
  },
  {
   "cell_type": "code",
   "execution_count": 6,
   "id": "union-huntington",
   "metadata": {
    "execution": {
     "iopub.execute_input": "2021-12-16T10:00:11.680917Z",
     "iopub.status.busy": "2021-12-16T10:00:11.678499Z",
     "iopub.status.idle": "2021-12-16T10:00:11.684525Z",
     "shell.execute_reply": "2021-12-16T10:00:11.686094Z"
    },
    "papermill": {
     "duration": 0.045768,
     "end_time": "2021-12-16T10:00:11.686594",
     "exception": false,
     "start_time": "2021-12-16T10:00:11.640826",
     "status": "completed"
    },
    "tags": []
   },
   "outputs": [],
   "source": [
    "df_pivot.columns = [\"stamp_1\", \"stamp_2\"]\n",
    "df_pivot_diff = df_pivot.diff(axis=1)"
   ]
  },
  {
   "cell_type": "code",
   "execution_count": 7,
   "id": "fifth-motion",
   "metadata": {
    "execution": {
     "iopub.execute_input": "2021-12-16T10:00:11.746524Z",
     "iopub.status.busy": "2021-12-16T10:00:11.744005Z",
     "iopub.status.idle": "2021-12-16T10:00:13.727749Z",
     "shell.execute_reply": "2021-12-16T10:00:13.729203Z"
    },
    "papermill": {
     "duration": 2.021259,
     "end_time": "2021-12-16T10:00:13.729667",
     "exception": false,
     "start_time": "2021-12-16T10:00:11.708408",
     "status": "completed"
    },
    "tags": []
   },
   "outputs": [
    {
     "data": {
      "text/plain": [
       "<AxesSubplot:ylabel='PRODUCT'>"
      ]
     },
     "execution_count": 7,
     "metadata": {},
     "output_type": "execute_result"
    },
    {
     "data": {
      "image/png": "[encoded data removed]",
      "text/plain": [
       "<Figure size 432x288 with 1 Axes>"
      ]
     },
     "metadata": {
      "needs_background": "light"
     },
     "output_type": "display_data"
    }
   ],
   "source": [
    "df_pivot_diff.sort_values(\"stamp_2\", ascending = False)[\"stamp_2\"].head(10).plot.barh()"
   ]
  },
  {
   "cell_type": "code",
   "execution_count": null,
   "id": "extra-executive",
   "metadata": {
    "papermill": {
     "duration": 0.027533,
     "end_time": "2021-12-16T10:00:13.792068",
     "exception": false,
     "start_time": "2021-12-16T10:00:13.764535",
     "status": "completed"
    },
    "tags": []
   },
   "outputs": [],
   "source": []
  }
 ],
 "metadata": {
  "kernelspec": {
   "display_name": "Python 3",
   "language": "python",
   "name": "python3"
  },
  "language_info": {
   "codemirror_mode": {
    "name": "ipython",
    "version": 3
   },
   "file_extension": ".py",
   "mimetype": "text/x-python",
   "name": "python",
   "nbconvert_exporter": "python",
   "pygments_lexer": "ipython3",
   "version": "3.9.5"
  },
  "papermill": {
   "default_parameters": {},
   "duration": 9.536937,
   "end_time": "2021-12-16T10:00:14.450681",
   "environment_variables": {},
   "exception": null,
   "input_path": "eBay_Overview.ipynb",
   "output_path": "eBay_Overview.ipynb",
   "parameters": {},
   "start_time": "2021-12-16T10:00:04.913744",
   "version": "2.3.3"
  }
 },
 "nbformat": 4,
 "nbformat_minor": 5
}