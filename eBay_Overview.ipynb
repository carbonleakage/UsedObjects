{
 "cells": [
  {
   "cell_type": "code",
   "execution_count": 1,
   "id": "reverse-picking",
   "metadata": {
    "execution": {
     "iopub.execute_input": "2021-10-31T00:30:07.422535Z",
     "iopub.status.busy": "2021-10-31T00:30:07.420518Z",
     "iopub.status.idle": "2021-10-31T00:30:08.225350Z",
     "shell.execute_reply": "2021-10-31T00:30:08.226606Z"
    },
    "papermill": {
     "duration": 0.856734,
     "end_time": "2021-10-31T00:30:08.227227",
     "exception": false,
     "start_time": "2021-10-31T00:30:07.370493",
     "status": "completed"
    },
    "tags": []
   },
   "outputs": [],
   "source": [
    "import pandas as pd\n",
    "import sqlite3"
   ]
  },
  {
   "cell_type": "code",
   "execution_count": 2,
   "id": "innovative-syndrome",
   "metadata": {
    "execution": {
     "iopub.execute_input": "2021-10-31T00:30:08.278144Z",
     "iopub.status.busy": "2021-10-31T00:30:08.276070Z",
     "iopub.status.idle": "2021-10-31T00:30:08.949990Z",
     "shell.execute_reply": "2021-10-31T00:30:08.951265Z"
    },
    "papermill": {
     "duration": 0.703628,
     "end_time": "2021-10-31T00:30:08.951681",
     "exception": false,
     "start_time": "2021-10-31T00:30:08.248053",
     "status": "completed"
    },
    "tags": []
   },
   "outputs": [],
   "source": [
    "timestamps = pd.read_sql(\"select distinct record_time from EBAY_TOP_BERLIN order by record_time desc limit 2\", sqlite3.connect(\"UsedObjects.db\"))"
   ]
  },
  {
   "cell_type": "code",
   "execution_count": 3,
   "id": "periodic-identification",
   "metadata": {
    "execution": {
     "iopub.execute_input": "2021-10-31T00:30:09.031008Z",
     "iopub.status.busy": "2021-10-31T00:30:09.028975Z",
     "iopub.status.idle": "2021-10-31T00:30:09.049150Z",
     "shell.execute_reply": "2021-10-31T00:30:09.050352Z"
    },
    "papermill": {
     "duration": 0.071253,
     "end_time": "2021-10-31T00:30:09.050787",
     "exception": false,
     "start_time": "2021-10-31T00:30:08.979534",
     "status": "completed"
    },
    "tags": []
   },
   "outputs": [
    {
     "data": {
      "text/html": [
       "<div>\n",
       "<style scoped>\n",
       "    .dataframe tbody tr th:only-of-type {\n",
       "        vertical-align: middle;\n",
       "    }\n",
       "\n",
       "    .dataframe tbody tr th {\n",
       "        vertical-align: top;\n",
       "    }\n",
       "\n",
       "    .dataframe thead th {\n",
       "        text-align: right;\n",
       "    }\n",
       "</style>\n",
       "<table border=\"1\" class=\"dataframe\">\n",
       "  <thead>\n",
       "    <tr style=\"text-align: right;\">\n",
       "      <th></th>\n",
       "      <th>RECORD_TIME</th>\n",
       "    </tr>\n",
       "  </thead>\n",
       "  <tbody>\n",
       "    <tr>\n",
       "      <th>0</th>\n",
       "      <td>2021-10-31 02:30</td>\n",
       "    </tr>\n",
       "    <tr>\n",
       "      <th>1</th>\n",
       "      <td>2021-10-31 02:00</td>\n",
       "    </tr>\n",
       "  </tbody>\n",
       "</table>\n",
       "</div>"
      ],
      "text/plain": [
       "        RECORD_TIME\n",
       "0  2021-10-31 02:30\n",
       "1  2021-10-31 02:00"
      ]
     },
     "execution_count": 3,
     "metadata": {},
     "output_type": "execute_result"
    }
   ],
   "source": [
    "timestamps"
   ]
  },
  {
   "cell_type": "code",
   "execution_count": 4,
   "id": "alternate-victory",
   "metadata": {
    "execution": {
     "iopub.execute_input": "2021-10-31T00:30:09.104838Z",
     "iopub.status.busy": "2021-10-31T00:30:09.102551Z",
     "iopub.status.idle": "2021-10-31T00:30:10.097348Z",
     "shell.execute_reply": "2021-10-31T00:30:10.099041Z"
    },
    "papermill": {
     "duration": 1.025963,
     "end_time": "2021-10-31T00:30:10.099558",
     "exception": false,
     "start_time": "2021-10-31T00:30:09.073595",
     "status": "completed"
    },
    "tags": []
   },
   "outputs": [],
   "source": [
    "df = pd.read_sql(\"select * from EBAY_TOP_BERLIN where record_time in (select distinct record_time from EBAY_TOP_BERLIN order by record_time desc limit 2)\", sqlite3.connect(\"UsedObjects.db\"))"
   ]
  },
  {
   "cell_type": "code",
   "execution_count": 5,
   "id": "popular-active",
   "metadata": {
    "execution": {
     "iopub.execute_input": "2021-10-31T00:30:10.166300Z",
     "iopub.status.busy": "2021-10-31T00:30:10.159313Z",
     "iopub.status.idle": "2021-10-31T00:30:10.187278Z",
     "shell.execute_reply": "2021-10-31T00:30:10.188474Z"
    },
    "papermill": {
     "duration": 0.06705,
     "end_time": "2021-10-31T00:30:10.189047",
     "exception": false,
     "start_time": "2021-10-31T00:30:10.121997",
     "status": "completed"
    },
    "tags": []
   },
   "outputs": [],
   "source": [
    "df_pivot = df.pivot_table(index=\"PRODUCT\", columns = \"RECORD_TIME\", values = \"LISTING_COUNT\")"
   ]
  },
  {
   "cell_type": "code",
   "execution_count": 6,
   "id": "union-huntington",
   "metadata": {
    "execution": {
     "iopub.execute_input": "2021-10-31T00:30:10.248630Z",
     "iopub.status.busy": "2021-10-31T00:30:10.246234Z",
     "iopub.status.idle": "2021-10-31T00:30:10.252013Z",
     "shell.execute_reply": "2021-10-31T00:30:10.253353Z"
    },
    "papermill": {
     "duration": 0.042347,
     "end_time": "2021-10-31T00:30:10.253785",
     "exception": false,
     "start_time": "2021-10-31T00:30:10.211438",
     "status": "completed"
    },
    "tags": []
   },
   "outputs": [],
   "source": [
    "df_pivot.columns = [\"stamp_1\", \"stamp_2\"]\n",
    "df_pivot_diff = df_pivot.diff(axis=1)"
   ]
  },
  {
   "cell_type": "code",
   "execution_count": 7,
   "id": "fifth-motion",
   "metadata": {
    "execution": {
     "iopub.execute_input": "2021-10-31T00:30:10.308136Z",
     "iopub.status.busy": "2021-10-31T00:30:10.305920Z",
     "iopub.status.idle": "2021-10-31T00:30:11.774896Z",
     "shell.execute_reply": "2021-10-31T00:30:11.776159Z"
    },
    "papermill": {
     "duration": 1.50201,
     "end_time": "2021-10-31T00:30:11.776583",
     "exception": false,
     "start_time": "2021-10-31T00:30:10.274573",
     "status": "completed"
    },
    "tags": []
   },
   "outputs": [
    {
     "data": {
      "text/plain": [
       "<AxesSubplot:ylabel='PRODUCT'>"
      ]
     },
     "execution_count": 7,
     "metadata": {},
     "output_type": "execute_result"
    },
    {
     "data": {
      "image/png": "[encoded data removed]",
      "text/plain": [
       "<Figure size 432x288 with 1 Axes>"
      ]
     },
     "metadata": {
      "needs_background": "light"
     },
     "output_type": "display_data"
    }
   ],
   "source": [
    "df_pivot_diff.sort_values(\"stamp_2\", ascending = False)[\"stamp_2\"].head(10).plot.barh()"
   ]
  },
  {
   "cell_type": "code",
   "execution_count": null,
   "id": "extra-executive",
   "metadata": {
    "papermill": {
     "duration": 0.022298,
     "end_time": "2021-10-31T00:30:11.823889",
     "exception": false,
     "start_time": "2021-10-31T00:30:11.801591",
     "status": "completed"
    },
    "tags": []
   },
   "outputs": [],
   "source": []
  }
 ],
 "metadata": {
  "kernelspec": {
   "display_name": "Python 3",
   "language": "python",
   "name": "python3"
  },
  "language_info": {
   "codemirror_mode": {
    "name": "ipython",
    "version": 3
   },
   "file_extension": ".py",
   "mimetype": "text/x-python",
   "name": "python",
   "nbconvert_exporter": "python",
   "pygments_lexer": "ipython3",
   "version": "3.9.5"
  },
  "papermill": {
   "default_parameters": {},
   "duration": 7.505788,
   "end_time": "2021-10-31T00:30:12.468339",
   "environment_variables": {},
   "exception": null,
   "input_path": "eBay_Overview.ipynb",
   "output_path": "eBay_Overview.ipynb",
   "parameters": {},
   "start_time": "2021-10-31T00:30:04.962551",
   "version": "2.3.3"
  }
 },
 "nbformat": 4,
 "nbformat_minor": 5
}