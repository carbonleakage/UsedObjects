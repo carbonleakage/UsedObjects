{
 "cells": [
  {
   "cell_type": "code",
   "execution_count": 1,
   "id": "reverse-picking",
   "metadata": {
    "execution": {
     "iopub.execute_input": "2021-11-26T00:00:08.049190Z",
     "iopub.status.busy": "2021-11-26T00:00:08.046881Z",
     "iopub.status.idle": "2021-11-26T00:00:09.009697Z",
     "shell.execute_reply": "2021-11-26T00:00:09.011231Z"
    },
    "papermill": {
     "duration": 1.015411,
     "end_time": "2021-11-26T00:00:09.011943",
     "exception": false,
     "start_time": "2021-11-26T00:00:07.996532",
     "status": "completed"
    },
    "tags": []
   },
   "outputs": [],
   "source": [
    "import pandas as pd\n",
    "import sqlite3"
   ]
  },
  {
   "cell_type": "code",
   "execution_count": 2,
   "id": "innovative-syndrome",
   "metadata": {
    "execution": {
     "iopub.execute_input": "2021-11-26T00:00:09.134917Z",
     "iopub.status.busy": "2021-11-26T00:00:09.132217Z",
     "iopub.status.idle": "2021-11-26T00:00:10.049517Z",
     "shell.execute_reply": "2021-11-26T00:00:10.047911Z"
    },
    "papermill": {
     "duration": 0.949986,
     "end_time": "2021-11-26T00:00:10.049970",
     "exception": false,
     "start_time": "2021-11-26T00:00:09.099984",
     "status": "completed"
    },
    "tags": []
   },
   "outputs": [],
   "source": [
    "timestamps = pd.read_sql(\"select distinct record_time from EBAY_TOP_BERLIN order by record_time desc limit 2\", sqlite3.connect(\"UsedObjects.db\"))"
   ]
  },
  {
   "cell_type": "code",
   "execution_count": 3,
   "id": "periodic-identification",
   "metadata": {
    "execution": {
     "iopub.execute_input": "2021-11-26T00:00:10.119476Z",
     "iopub.status.busy": "2021-11-26T00:00:10.117446Z",
     "iopub.status.idle": "2021-11-26T00:00:10.138259Z",
     "shell.execute_reply": "2021-11-26T00:00:10.139561Z"
    },
    "papermill": {
     "duration": 0.066971,
     "end_time": "2021-11-26T00:00:10.139982",
     "exception": false,
     "start_time": "2021-11-26T00:00:10.073011",
     "status": "completed"
    },
    "tags": []
   },
   "outputs": [
    {
     "data": {
      "text/html": [
       "<div>\n",
       "<style scoped>\n",
       "    .dataframe tbody tr th:only-of-type {\n",
       "        vertical-align: middle;\n",
       "    }\n",
       "\n",
       "    .dataframe tbody tr th {\n",
       "        vertical-align: top;\n",
       "    }\n",
       "\n",
       "    .dataframe thead th {\n",
       "        text-align: right;\n",
       "    }\n",
       "</style>\n",
       "<table border=\"1\" class=\"dataframe\">\n",
       "  <thead>\n",
       "    <tr style=\"text-align: right;\">\n",
       "      <th></th>\n",
       "      <th>RECORD_TIME</th>\n",
       "    </tr>\n",
       "  </thead>\n",
       "  <tbody>\n",
       "    <tr>\n",
       "      <th>0</th>\n",
       "      <td>2021-11-26 01:00</td>\n",
       "    </tr>\n",
       "    <tr>\n",
       "      <th>1</th>\n",
       "      <td>2021-11-26 00:30</td>\n",
       "    </tr>\n",
       "  </tbody>\n",
       "</table>\n",
       "</div>"
      ],
      "text/plain": [
       "        RECORD_TIME\n",
       "0  2021-11-26 01:00\n",
       "1  2021-11-26 00:30"
      ]
     },
     "execution_count": 3,
     "metadata": {},
     "output_type": "execute_result"
    }
   ],
   "source": [
    "timestamps"
   ]
  },
  {
   "cell_type": "code",
   "execution_count": 4,
   "id": "alternate-victory",
   "metadata": {
    "execution": {
     "iopub.execute_input": "2021-11-26T00:00:10.192656Z",
     "iopub.status.busy": "2021-11-26T00:00:10.190343Z",
     "iopub.status.idle": "2021-11-26T00:00:11.524608Z",
     "shell.execute_reply": "2021-11-26T00:00:11.526642Z"
    },
    "papermill": {
     "duration": 1.365746,
     "end_time": "2021-11-26T00:00:11.527123",
     "exception": false,
     "start_time": "2021-11-26T00:00:10.161377",
     "status": "completed"
    },
    "tags": []
   },
   "outputs": [],
   "source": [
    "df = pd.read_sql(\"select * from EBAY_TOP_BERLIN where record_time in (select distinct record_time from EBAY_TOP_BERLIN order by record_time desc limit 2)\", sqlite3.connect(\"UsedObjects.db\"))"
   ]
  },
  {
   "cell_type": "code",
   "execution_count": 5,
   "id": "popular-active",
   "metadata": {
    "execution": {
     "iopub.execute_input": "2021-11-26T00:00:11.590605Z",
     "iopub.status.busy": "2021-11-26T00:00:11.588225Z",
     "iopub.status.idle": "2021-11-26T00:00:11.622919Z",
     "shell.execute_reply": "2021-11-26T00:00:11.625543Z"
    },
    "papermill": {
     "duration": 0.078087,
     "end_time": "2021-11-26T00:00:11.626088",
     "exception": false,
     "start_time": "2021-11-26T00:00:11.548001",
     "status": "completed"
    },
    "tags": []
   },
   "outputs": [],
   "source": [
    "df_pivot = df.pivot_table(index=\"PRODUCT\", columns = \"RECORD_TIME\", values = \"LISTING_COUNT\")"
   ]
  },
  {
   "cell_type": "code",
   "execution_count": 6,
   "id": "union-huntington",
   "metadata": {
    "execution": {
     "iopub.execute_input": "2021-11-26T00:00:11.689074Z",
     "iopub.status.busy": "2021-11-26T00:00:11.686497Z",
     "iopub.status.idle": "2021-11-26T00:00:11.693441Z",
     "shell.execute_reply": "2021-11-26T00:00:11.695145Z"
    },
    "papermill": {
     "duration": 0.04846,
     "end_time": "2021-11-26T00:00:11.695682",
     "exception": false,
     "start_time": "2021-11-26T00:00:11.647222",
     "status": "completed"
    },
    "tags": []
   },
   "outputs": [],
   "source": [
    "df_pivot.columns = [\"stamp_1\", \"stamp_2\"]\n",
    "df_pivot_diff = df_pivot.diff(axis=1)"
   ]
  },
  {
   "cell_type": "code",
   "execution_count": 7,
   "id": "fifth-motion",
   "metadata": {
    "execution": {
     "iopub.execute_input": "2021-11-26T00:00:11.760512Z",
     "iopub.status.busy": "2021-11-26T00:00:11.757782Z",
     "iopub.status.idle": "2021-11-26T00:00:13.712542Z",
     "shell.execute_reply": "2021-11-26T00:00:13.714442Z"
    },
    "papermill": {
     "duration": 1.993278,
     "end_time": "2021-11-26T00:00:13.715011",
     "exception": false,
     "start_time": "2021-11-26T00:00:11.721733",
     "status": "completed"
    },
    "tags": []
   },
   "outputs": [
    {
     "data": {
      "text/plain": [
       "<AxesSubplot:ylabel='PRODUCT'>"
      ]
     },
     "execution_count": 7,
     "metadata": {},
     "output_type": "execute_result"
    },
    {
     "data": {
      "image/png": "[encoded data removed]",
      "text/plain": [
       "<Figure size 432x288 with 1 Axes>"
      ]
     },
     "metadata": {
      "needs_background": "light"
     },
     "output_type": "display_data"
    }
   ],
   "source": [
    "df_pivot_diff.sort_values(\"stamp_2\", ascending = False)[\"stamp_2\"].head(10).plot.barh()"
   ]
  },
  {
   "cell_type": "code",
   "execution_count": null,
   "id": "extra-executive",
   "metadata": {
    "papermill": {
     "duration": 0.036382,
     "end_time": "2021-11-26T00:00:13.782795",
     "exception": false,
     "start_time": "2021-11-26T00:00:13.746413",
     "status": "completed"
    },
    "tags": []
   },
   "outputs": [],
   "source": []
  }
 ],
 "metadata": {
  "kernelspec": {
   "display_name": "Python 3",
   "language": "python",
   "name": "python3"
  },
  "language_info": {
   "codemirror_mode": {
    "name": "ipython",
    "version": 3
   },
   "file_extension": ".py",
   "mimetype": "text/x-python",
   "name": "python",
   "nbconvert_exporter": "python",
   "pygments_lexer": "ipython3",
   "version": "3.9.5"
  },
  "papermill": {
   "default_parameters": {},
   "duration": 9.94606,
   "end_time": "2021-11-26T00:00:15.191568",
   "environment_variables": {},
   "exception": null,
   "input_path": "eBay_Overview.ipynb",
   "output_path": "eBay_Overview.ipynb",
   "parameters": {},
   "start_time": "2021-11-26T00:00:05.245508",
   "version": "2.3.3"
  }
 },
 "nbformat": 4,
 "nbformat_minor": 5
}