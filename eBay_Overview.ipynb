{
 "cells": [
  {
   "cell_type": "code",
   "execution_count": 1,
   "id": "reverse-picking",
   "metadata": {
    "execution": {
     "iopub.execute_input": "2021-11-08T13:00:07.991156Z",
     "iopub.status.busy": "2021-11-08T13:00:07.988847Z",
     "iopub.status.idle": "2021-11-08T13:00:08.936920Z",
     "shell.execute_reply": "2021-11-08T13:00:08.938470Z"
    },
    "papermill": {
     "duration": 0.997343,
     "end_time": "2021-11-08T13:00:08.939202",
     "exception": false,
     "start_time": "2021-11-08T13:00:07.941859",
     "status": "completed"
    },
    "tags": []
   },
   "outputs": [],
   "source": [
    "import pandas as pd\n",
    "import sqlite3"
   ]
  },
  {
   "cell_type": "code",
   "execution_count": 2,
   "id": "innovative-syndrome",
   "metadata": {
    "execution": {
     "iopub.execute_input": "2021-11-08T13:00:09.006106Z",
     "iopub.status.busy": "2021-11-08T13:00:09.003793Z",
     "iopub.status.idle": "2021-11-08T13:00:09.763095Z",
     "shell.execute_reply": "2021-11-08T13:00:09.765963Z"
    },
    "papermill": {
     "duration": 0.796967,
     "end_time": "2021-11-08T13:00:09.766803",
     "exception": false,
     "start_time": "2021-11-08T13:00:08.969836",
     "status": "completed"
    },
    "tags": []
   },
   "outputs": [],
   "source": [
    "timestamps = pd.read_sql(\"select distinct record_time from EBAY_TOP_BERLIN order by record_time desc limit 2\", sqlite3.connect(\"UsedObjects.db\"))"
   ]
  },
  {
   "cell_type": "code",
   "execution_count": 3,
   "id": "periodic-identification",
   "metadata": {
    "execution": {
     "iopub.execute_input": "2021-11-08T13:00:09.846702Z",
     "iopub.status.busy": "2021-11-08T13:00:09.840755Z",
     "iopub.status.idle": "2021-11-08T13:00:09.865547Z",
     "shell.execute_reply": "2021-11-08T13:00:09.863820Z"
    },
    "papermill": {
     "duration": 0.073835,
     "end_time": "2021-11-08T13:00:09.866042",
     "exception": false,
     "start_time": "2021-11-08T13:00:09.792207",
     "status": "completed"
    },
    "tags": []
   },
   "outputs": [
    {
     "data": {
      "text/html": [
       "<div>\n",
       "<style scoped>\n",
       "    .dataframe tbody tr th:only-of-type {\n",
       "        vertical-align: middle;\n",
       "    }\n",
       "\n",
       "    .dataframe tbody tr th {\n",
       "        vertical-align: top;\n",
       "    }\n",
       "\n",
       "    .dataframe thead th {\n",
       "        text-align: right;\n",
       "    }\n",
       "</style>\n",
       "<table border=\"1\" class=\"dataframe\">\n",
       "  <thead>\n",
       "    <tr style=\"text-align: right;\">\n",
       "      <th></th>\n",
       "      <th>RECORD_TIME</th>\n",
       "    </tr>\n",
       "  </thead>\n",
       "  <tbody>\n",
       "    <tr>\n",
       "      <th>0</th>\n",
       "      <td>2021-11-08 14:00</td>\n",
       "    </tr>\n",
       "    <tr>\n",
       "      <th>1</th>\n",
       "      <td>2021-11-08 13:30</td>\n",
       "    </tr>\n",
       "  </tbody>\n",
       "</table>\n",
       "</div>"
      ],
      "text/plain": [
       "        RECORD_TIME\n",
       "0  2021-11-08 14:00\n",
       "1  2021-11-08 13:30"
      ]
     },
     "execution_count": 3,
     "metadata": {},
     "output_type": "execute_result"
    }
   ],
   "source": [
    "timestamps"
   ]
  },
  {
   "cell_type": "code",
   "execution_count": 4,
   "id": "alternate-victory",
   "metadata": {
    "execution": {
     "iopub.execute_input": "2021-11-08T13:00:09.922334Z",
     "iopub.status.busy": "2021-11-08T13:00:09.920210Z",
     "iopub.status.idle": "2021-11-08T13:00:11.040291Z",
     "shell.execute_reply": "2021-11-08T13:00:11.041961Z"
    },
    "papermill": {
     "duration": 1.1547,
     "end_time": "2021-11-08T13:00:11.042456",
     "exception": false,
     "start_time": "2021-11-08T13:00:09.887756",
     "status": "completed"
    },
    "tags": []
   },
   "outputs": [],
   "source": [
    "df = pd.read_sql(\"select * from EBAY_TOP_BERLIN where record_time in (select distinct record_time from EBAY_TOP_BERLIN order by record_time desc limit 2)\", sqlite3.connect(\"UsedObjects.db\"))"
   ]
  },
  {
   "cell_type": "code",
   "execution_count": 5,
   "id": "popular-active",
   "metadata": {
    "execution": {
     "iopub.execute_input": "2021-11-08T13:00:11.122409Z",
     "iopub.status.busy": "2021-11-08T13:00:11.114258Z",
     "iopub.status.idle": "2021-11-08T13:00:11.141313Z",
     "shell.execute_reply": "2021-11-08T13:00:11.142921Z"
    },
    "papermill": {
     "duration": 0.077984,
     "end_time": "2021-11-08T13:00:11.143414",
     "exception": false,
     "start_time": "2021-11-08T13:00:11.065430",
     "status": "completed"
    },
    "tags": []
   },
   "outputs": [],
   "source": [
    "df_pivot = df.pivot_table(index=\"PRODUCT\", columns = \"RECORD_TIME\", values = \"LISTING_COUNT\")"
   ]
  },
  {
   "cell_type": "code",
   "execution_count": 6,
   "id": "union-huntington",
   "metadata": {
    "execution": {
     "iopub.execute_input": "2021-11-08T13:00:11.205553Z",
     "iopub.status.busy": "2021-11-08T13:00:11.203161Z",
     "iopub.status.idle": "2021-11-08T13:00:11.209234Z",
     "shell.execute_reply": "2021-11-08T13:00:11.210808Z"
    },
    "papermill": {
     "duration": 0.046676,
     "end_time": "2021-11-08T13:00:11.211312",
     "exception": false,
     "start_time": "2021-11-08T13:00:11.164636",
     "status": "completed"
    },
    "tags": []
   },
   "outputs": [],
   "source": [
    "df_pivot.columns = [\"stamp_1\", \"stamp_2\"]\n",
    "df_pivot_diff = df_pivot.diff(axis=1)"
   ]
  },
  {
   "cell_type": "code",
   "execution_count": 7,
   "id": "fifth-motion",
   "metadata": {
    "execution": {
     "iopub.execute_input": "2021-11-08T13:00:11.272594Z",
     "iopub.status.busy": "2021-11-08T13:00:11.270064Z",
     "iopub.status.idle": "2021-11-08T13:00:12.979632Z",
     "shell.execute_reply": "2021-11-08T13:00:12.981202Z"
    },
    "papermill": {
     "duration": 1.747138,
     "end_time": "2021-11-08T13:00:12.981708",
     "exception": false,
     "start_time": "2021-11-08T13:00:11.234570",
     "status": "completed"
    },
    "tags": []
   },
   "outputs": [
    {
     "data": {
      "text/plain": [
       "<AxesSubplot:ylabel='PRODUCT'>"
      ]
     },
     "execution_count": 7,
     "metadata": {},
     "output_type": "execute_result"
    },
    {
     "data": {
      "image/png": "[encoded data removed]",
      "text/plain": [
       "<Figure size 432x288 with 1 Axes>"
      ]
     },
     "metadata": {
      "needs_background": "light"
     },
     "output_type": "display_data"
    }
   ],
   "source": [
    "df_pivot_diff.sort_values(\"stamp_2\", ascending = False)[\"stamp_2\"].head(10).plot.barh()"
   ]
  },
  {
   "cell_type": "code",
   "execution_count": null,
   "id": "extra-executive",
   "metadata": {
    "papermill": {
     "duration": 0.02365,
     "end_time": "2021-11-08T13:00:13.029978",
     "exception": false,
     "start_time": "2021-11-08T13:00:13.006328",
     "status": "completed"
    },
    "tags": []
   },
   "outputs": [],
   "source": []
  }
 ],
 "metadata": {
  "kernelspec": {
   "display_name": "Python 3",
   "language": "python",
   "name": "python3"
  },
  "language_info": {
   "codemirror_mode": {
    "name": "ipython",
    "version": 3
   },
   "file_extension": ".py",
   "mimetype": "text/x-python",
   "name": "python",
   "nbconvert_exporter": "python",
   "pygments_lexer": "ipython3",
   "version": "3.9.5"
  },
  "papermill": {
   "default_parameters": {},
   "duration": 8.653289,
   "end_time": "2021-11-08T13:00:13.777769",
   "environment_variables": {},
   "exception": null,
   "input_path": "eBay_Overview.ipynb",
   "output_path": "eBay_Overview.ipynb",
   "parameters": {},
   "start_time": "2021-11-08T13:00:05.124480",
   "version": "2.3.3"
  }
 },
 "nbformat": 4,
 "nbformat_minor": 5
}