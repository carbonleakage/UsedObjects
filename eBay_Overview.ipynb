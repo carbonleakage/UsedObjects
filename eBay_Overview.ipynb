{
 "cells": [
  {
   "cell_type": "code",
   "execution_count": 1,
   "id": "reverse-picking",
   "metadata": {
    "execution": {
     "iopub.execute_input": "2021-08-26T20:00:07.558018Z",
     "iopub.status.busy": "2021-08-26T20:00:07.556018Z",
     "iopub.status.idle": "2021-08-26T20:00:08.361686Z",
     "shell.execute_reply": "2021-08-26T20:00:08.359930Z"
    },
    "papermill": {
     "duration": 0.857628,
     "end_time": "2021-08-26T20:00:08.362086",
     "exception": false,
     "start_time": "2021-08-26T20:00:07.504458",
     "status": "completed"
    },
    "tags": []
   },
   "outputs": [],
   "source": [
    "import pandas as pd\n",
    "import sqlite3"
   ]
  },
  {
   "cell_type": "code",
   "execution_count": 2,
   "id": "innovative-syndrome",
   "metadata": {
    "execution": {
     "iopub.execute_input": "2021-08-26T20:00:08.413277Z",
     "iopub.status.busy": "2021-08-26T20:00:08.411219Z",
     "iopub.status.idle": "2021-08-26T20:00:08.545227Z",
     "shell.execute_reply": "2021-08-26T20:00:08.546588Z"
    },
    "papermill": {
     "duration": 0.163924,
     "end_time": "2021-08-26T20:00:08.547019",
     "exception": false,
     "start_time": "2021-08-26T20:00:08.383095",
     "status": "completed"
    },
    "tags": []
   },
   "outputs": [],
   "source": [
    "timestamps = pd.read_sql(\"select distinct record_time from EBAY_TOP_BERLIN order by record_time desc limit 2\", sqlite3.connect(\"UsedObjects.db\"))"
   ]
  },
  {
   "cell_type": "code",
   "execution_count": 3,
   "id": "periodic-identification",
   "metadata": {
    "execution": {
     "iopub.execute_input": "2021-08-26T20:00:08.613336Z",
     "iopub.status.busy": "2021-08-26T20:00:08.611274Z",
     "iopub.status.idle": "2021-08-26T20:00:08.633246Z",
     "shell.execute_reply": "2021-08-26T20:00:08.634508Z"
    },
    "papermill": {
     "duration": 0.06838,
     "end_time": "2021-08-26T20:00:08.634897",
     "exception": false,
     "start_time": "2021-08-26T20:00:08.566517",
     "status": "completed"
    },
    "tags": []
   },
   "outputs": [
    {
     "data": {
      "text/html": [
       "<div>\n",
       "<style scoped>\n",
       "    .dataframe tbody tr th:only-of-type {\n",
       "        vertical-align: middle;\n",
       "    }\n",
       "\n",
       "    .dataframe tbody tr th {\n",
       "        vertical-align: top;\n",
       "    }\n",
       "\n",
       "    .dataframe thead th {\n",
       "        text-align: right;\n",
       "    }\n",
       "</style>\n",
       "<table border=\"1\" class=\"dataframe\">\n",
       "  <thead>\n",
       "    <tr style=\"text-align: right;\">\n",
       "      <th></th>\n",
       "      <th>RECORD_TIME</th>\n",
       "    </tr>\n",
       "  </thead>\n",
       "  <tbody>\n",
       "    <tr>\n",
       "      <th>0</th>\n",
       "      <td>2021-08-26 22:00</td>\n",
       "    </tr>\n",
       "    <tr>\n",
       "      <th>1</th>\n",
       "      <td>2021-08-26 21:30</td>\n",
       "    </tr>\n",
       "  </tbody>\n",
       "</table>\n",
       "</div>"
      ],
      "text/plain": [
       "        RECORD_TIME\n",
       "0  2021-08-26 22:00\n",
       "1  2021-08-26 21:30"
      ]
     },
     "execution_count": 3,
     "metadata": {},
     "output_type": "execute_result"
    }
   ],
   "source": [
    "timestamps"
   ]
  },
  {
   "cell_type": "code",
   "execution_count": 4,
   "id": "alternate-victory",
   "metadata": {
    "execution": {
     "iopub.execute_input": "2021-08-26T20:00:08.685724Z",
     "iopub.status.busy": "2021-08-26T20:00:08.683642Z",
     "iopub.status.idle": "2021-08-26T20:00:08.885165Z",
     "shell.execute_reply": "2021-08-26T20:00:08.886390Z"
    },
    "papermill": {
     "duration": 0.231191,
     "end_time": "2021-08-26T20:00:08.886782",
     "exception": false,
     "start_time": "2021-08-26T20:00:08.655591",
     "status": "completed"
    },
    "tags": []
   },
   "outputs": [],
   "source": [
    "df = pd.read_sql(\"select * from EBAY_TOP_BERLIN where record_time in (select distinct record_time from EBAY_TOP_BERLIN order by record_time desc limit 2)\", sqlite3.connect(\"UsedObjects.db\"))"
   ]
  },
  {
   "cell_type": "code",
   "execution_count": 5,
   "id": "popular-active",
   "metadata": {
    "execution": {
     "iopub.execute_input": "2021-08-26T20:00:08.959067Z",
     "iopub.status.busy": "2021-08-26T20:00:08.948351Z",
     "iopub.status.idle": "2021-08-26T20:00:08.975339Z",
     "shell.execute_reply": "2021-08-26T20:00:08.976612Z"
    },
    "papermill": {
     "duration": 0.068002,
     "end_time": "2021-08-26T20:00:08.977012",
     "exception": false,
     "start_time": "2021-08-26T20:00:08.909010",
     "status": "completed"
    },
    "tags": []
   },
   "outputs": [],
   "source": [
    "df_pivot = df.pivot_table(index=\"PRODUCT\", columns = \"RECORD_TIME\", values = \"LISTING_COUNT\")"
   ]
  },
  {
   "cell_type": "code",
   "execution_count": 6,
   "id": "union-huntington",
   "metadata": {
    "execution": {
     "iopub.execute_input": "2021-08-26T20:00:09.048654Z",
     "iopub.status.busy": "2021-08-26T20:00:09.046339Z",
     "iopub.status.idle": "2021-08-26T20:00:09.052345Z",
     "shell.execute_reply": "2021-08-26T20:00:09.053815Z"
    },
    "papermill": {
     "duration": 0.046637,
     "end_time": "2021-08-26T20:00:09.054272",
     "exception": false,
     "start_time": "2021-08-26T20:00:09.007635",
     "status": "completed"
    },
    "tags": []
   },
   "outputs": [],
   "source": [
    "df_pivot.columns = [\"stamp_1\", \"stamp_2\"]\n",
    "df_pivot_diff = df_pivot.diff(axis=1)"
   ]
  },
  {
   "cell_type": "code",
   "execution_count": 7,
   "id": "fifth-motion",
   "metadata": {
    "execution": {
     "iopub.execute_input": "2021-08-26T20:00:09.107413Z",
     "iopub.status.busy": "2021-08-26T20:00:09.105260Z",
     "iopub.status.idle": "2021-08-26T20:00:10.619421Z",
     "shell.execute_reply": "2021-08-26T20:00:10.621072Z"
    },
    "papermill": {
     "duration": 1.546805,
     "end_time": "2021-08-26T20:00:10.621572",
     "exception": false,
     "start_time": "2021-08-26T20:00:09.074767",
     "status": "completed"
    },
    "tags": []
   },
   "outputs": [
    {
     "data": {
      "text/plain": [
       "<AxesSubplot:ylabel='PRODUCT'>"
      ]
     },
     "execution_count": 7,
     "metadata": {},
     "output_type": "execute_result"
    },
    {
     "data": {
      "image/png": "[encoded data removed]",
      "text/plain": [
       "<Figure size 432x288 with 1 Axes>"
      ]
     },
     "metadata": {
      "needs_background": "light"
     },
     "output_type": "display_data"
    }
   ],
   "source": [
    "df_pivot_diff.sort_values(\"stamp_2\", ascending = False)[\"stamp_2\"].head(10).plot.barh()"
   ]
  },
  {
   "cell_type": "code",
   "execution_count": null,
   "id": "extra-executive",
   "metadata": {
    "papermill": {
     "duration": 0.02203,
     "end_time": "2021-08-26T20:00:10.668593",
     "exception": false,
     "start_time": "2021-08-26T20:00:10.646563",
     "status": "completed"
    },
    "tags": []
   },
   "outputs": [],
   "source": []
  }
 ],
 "metadata": {
  "kernelspec": {
   "display_name": "Python 3",
   "language": "python",
   "name": "python3"
  },
  "language_info": {
   "codemirror_mode": {
    "name": "ipython",
    "version": 3
   },
   "file_extension": ".py",
   "mimetype": "text/x-python",
   "name": "python",
   "nbconvert_exporter": "python",
   "pygments_lexer": "ipython3",
   "version": "3.9.5"
  },
  "papermill": {
   "default_parameters": {},
   "duration": 6.831976,
   "end_time": "2021-08-26T20:00:11.929221",
   "environment_variables": {},
   "exception": null,
   "input_path": "eBay_Overview.ipynb",
   "output_path": "eBay_Overview.ipynb",
   "parameters": {},
   "start_time": "2021-08-26T20:00:05.097245",
   "version": "2.3.3"
  }
 },
 "nbformat": 4,
 "nbformat_minor": 5
}