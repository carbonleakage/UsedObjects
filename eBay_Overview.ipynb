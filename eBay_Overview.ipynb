{
 "cells": [
  {
   "cell_type": "code",
   "execution_count": 1,
   "id": "reverse-picking",
   "metadata": {
    "execution": {
     "iopub.execute_input": "2021-11-08T19:00:07.451293Z",
     "iopub.status.busy": "2021-11-08T19:00:07.443222Z",
     "iopub.status.idle": "2021-11-08T19:00:08.393640Z",
     "shell.execute_reply": "2021-11-08T19:00:08.395113Z"
    },
    "papermill": {
     "duration": 0.997966,
     "end_time": "2021-11-08T19:00:08.395851",
     "exception": false,
     "start_time": "2021-11-08T19:00:07.397885",
     "status": "completed"
    },
    "tags": []
   },
   "outputs": [],
   "source": [
    "import pandas as pd\n",
    "import sqlite3"
   ]
  },
  {
   "cell_type": "code",
   "execution_count": 2,
   "id": "innovative-syndrome",
   "metadata": {
    "execution": {
     "iopub.execute_input": "2021-11-08T19:00:08.460630Z",
     "iopub.status.busy": "2021-11-08T19:00:08.458214Z",
     "iopub.status.idle": "2021-11-08T19:00:09.204211Z",
     "shell.execute_reply": "2021-11-08T19:00:09.205772Z"
    },
    "papermill": {
     "duration": 0.780746,
     "end_time": "2021-11-08T19:00:09.206316",
     "exception": false,
     "start_time": "2021-11-08T19:00:08.425570",
     "status": "completed"
    },
    "tags": []
   },
   "outputs": [],
   "source": [
    "timestamps = pd.read_sql(\"select distinct record_time from EBAY_TOP_BERLIN order by record_time desc limit 2\", sqlite3.connect(\"UsedObjects.db\"))"
   ]
  },
  {
   "cell_type": "code",
   "execution_count": 3,
   "id": "periodic-identification",
   "metadata": {
    "execution": {
     "iopub.execute_input": "2021-11-08T19:00:09.277763Z",
     "iopub.status.busy": "2021-11-08T19:00:09.275266Z",
     "iopub.status.idle": "2021-11-08T19:00:09.298502Z",
     "shell.execute_reply": "2021-11-08T19:00:09.300374Z"
    },
    "papermill": {
     "duration": 0.07421,
     "end_time": "2021-11-08T19:00:09.301197",
     "exception": false,
     "start_time": "2021-11-08T19:00:09.226987",
     "status": "completed"
    },
    "tags": []
   },
   "outputs": [
    {
     "data": {
      "text/html": [
       "<div>\n",
       "<style scoped>\n",
       "    .dataframe tbody tr th:only-of-type {\n",
       "        vertical-align: middle;\n",
       "    }\n",
       "\n",
       "    .dataframe tbody tr th {\n",
       "        vertical-align: top;\n",
       "    }\n",
       "\n",
       "    .dataframe thead th {\n",
       "        text-align: right;\n",
       "    }\n",
       "</style>\n",
       "<table border=\"1\" class=\"dataframe\">\n",
       "  <thead>\n",
       "    <tr style=\"text-align: right;\">\n",
       "      <th></th>\n",
       "      <th>RECORD_TIME</th>\n",
       "    </tr>\n",
       "  </thead>\n",
       "  <tbody>\n",
       "    <tr>\n",
       "      <th>0</th>\n",
       "      <td>2021-11-08 20:00</td>\n",
       "    </tr>\n",
       "    <tr>\n",
       "      <th>1</th>\n",
       "      <td>2021-11-08 19:30</td>\n",
       "    </tr>\n",
       "  </tbody>\n",
       "</table>\n",
       "</div>"
      ],
      "text/plain": [
       "        RECORD_TIME\n",
       "0  2021-11-08 20:00\n",
       "1  2021-11-08 19:30"
      ]
     },
     "execution_count": 3,
     "metadata": {},
     "output_type": "execute_result"
    }
   ],
   "source": [
    "timestamps"
   ]
  },
  {
   "cell_type": "code",
   "execution_count": 4,
   "id": "alternate-victory",
   "metadata": {
    "execution": {
     "iopub.execute_input": "2021-11-08T19:00:09.357091Z",
     "iopub.status.busy": "2021-11-08T19:00:09.354852Z",
     "iopub.status.idle": "2021-11-08T19:00:10.451677Z",
     "shell.execute_reply": "2021-11-08T19:00:10.453481Z"
    },
    "papermill": {
     "duration": 1.130523,
     "end_time": "2021-11-08T19:00:10.454001",
     "exception": false,
     "start_time": "2021-11-08T19:00:09.323478",
     "status": "completed"
    },
    "tags": []
   },
   "outputs": [],
   "source": [
    "df = pd.read_sql(\"select * from EBAY_TOP_BERLIN where record_time in (select distinct record_time from EBAY_TOP_BERLIN order by record_time desc limit 2)\", sqlite3.connect(\"UsedObjects.db\"))"
   ]
  },
  {
   "cell_type": "code",
   "execution_count": 5,
   "id": "popular-active",
   "metadata": {
    "execution": {
     "iopub.execute_input": "2021-11-08T19:00:10.534052Z",
     "iopub.status.busy": "2021-11-08T19:00:10.529234Z",
     "iopub.status.idle": "2021-11-08T19:00:10.552983Z",
     "shell.execute_reply": "2021-11-08T19:00:10.554568Z"
    },
    "papermill": {
     "duration": 0.078655,
     "end_time": "2021-11-08T19:00:10.555092",
     "exception": false,
     "start_time": "2021-11-08T19:00:10.476437",
     "status": "completed"
    },
    "tags": []
   },
   "outputs": [],
   "source": [
    "df_pivot = df.pivot_table(index=\"PRODUCT\", columns = \"RECORD_TIME\", values = \"LISTING_COUNT\")"
   ]
  },
  {
   "cell_type": "code",
   "execution_count": 6,
   "id": "union-huntington",
   "metadata": {
    "execution": {
     "iopub.execute_input": "2021-11-08T19:00:10.618330Z",
     "iopub.status.busy": "2021-11-08T19:00:10.615983Z",
     "iopub.status.idle": "2021-11-08T19:00:10.621789Z",
     "shell.execute_reply": "2021-11-08T19:00:10.623332Z"
    },
    "papermill": {
     "duration": 0.046794,
     "end_time": "2021-11-08T19:00:10.623790",
     "exception": false,
     "start_time": "2021-11-08T19:00:10.576996",
     "status": "completed"
    },
    "tags": []
   },
   "outputs": [],
   "source": [
    "df_pivot.columns = [\"stamp_1\", \"stamp_2\"]\n",
    "df_pivot_diff = df_pivot.diff(axis=1)"
   ]
  },
  {
   "cell_type": "code",
   "execution_count": 7,
   "id": "fifth-motion",
   "metadata": {
    "execution": {
     "iopub.execute_input": "2021-11-08T19:00:10.683917Z",
     "iopub.status.busy": "2021-11-08T19:00:10.680964Z",
     "iopub.status.idle": "2021-11-08T19:00:12.440206Z",
     "shell.execute_reply": "2021-11-08T19:00:12.441853Z"
    },
    "papermill": {
     "duration": 1.797057,
     "end_time": "2021-11-08T19:00:12.442336",
     "exception": false,
     "start_time": "2021-11-08T19:00:10.645279",
     "status": "completed"
    },
    "tags": []
   },
   "outputs": [
    {
     "data": {
      "text/plain": [
       "<AxesSubplot:ylabel='PRODUCT'>"
      ]
     },
     "execution_count": 7,
     "metadata": {},
     "output_type": "execute_result"
    },
    {
     "data": {
      "image/png": "[encoded data removed]",
      "text/plain": [
       "<Figure size 432x288 with 1 Axes>"
      ]
     },
     "metadata": {
      "needs_background": "light"
     },
     "output_type": "display_data"
    }
   ],
   "source": [
    "df_pivot_diff.sort_values(\"stamp_2\", ascending = False)[\"stamp_2\"].head(10).plot.barh()"
   ]
  },
  {
   "cell_type": "code",
   "execution_count": null,
   "id": "extra-executive",
   "metadata": {
    "papermill": {
     "duration": 0.023586,
     "end_time": "2021-11-08T19:00:12.489930",
     "exception": false,
     "start_time": "2021-11-08T19:00:12.466344",
     "status": "completed"
    },
    "tags": []
   },
   "outputs": [],
   "source": []
  }
 ],
 "metadata": {
  "kernelspec": {
   "display_name": "Python 3",
   "language": "python",
   "name": "python3"
  },
  "language_info": {
   "codemirror_mode": {
    "name": "ipython",
    "version": 3
   },
   "file_extension": ".py",
   "mimetype": "text/x-python",
   "name": "python",
   "nbconvert_exporter": "python",
   "pygments_lexer": "ipython3",
   "version": "3.9.5"
  },
  "papermill": {
   "default_parameters": {},
   "duration": 8.73484,
   "end_time": "2021-11-08T19:00:13.339253",
   "environment_variables": {},
   "exception": null,
   "input_path": "eBay_Overview.ipynb",
   "output_path": "eBay_Overview.ipynb",
   "parameters": {},
   "start_time": "2021-11-08T19:00:04.604413",
   "version": "2.3.3"
  }
 },
 "nbformat": 4,
 "nbformat_minor": 5
}