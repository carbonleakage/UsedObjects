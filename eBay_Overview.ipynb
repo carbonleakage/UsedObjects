{
 "cells": [
  {
   "cell_type": "code",
   "execution_count": 1,
   "id": "reverse-picking",
   "metadata": {
    "execution": {
     "iopub.execute_input": "2021-09-13T16:00:06.574441Z",
     "iopub.status.busy": "2021-09-13T16:00:06.572514Z",
     "iopub.status.idle": "2021-09-13T16:00:07.378340Z",
     "shell.execute_reply": "2021-09-13T16:00:07.379762Z"
    },
    "papermill": {
     "duration": 0.858155,
     "end_time": "2021-09-13T16:00:07.380418",
     "exception": false,
     "start_time": "2021-09-13T16:00:06.522263",
     "status": "completed"
    },
    "tags": []
   },
   "outputs": [],
   "source": [
    "import pandas as pd\n",
    "import sqlite3"
   ]
  },
  {
   "cell_type": "code",
   "execution_count": 2,
   "id": "innovative-syndrome",
   "metadata": {
    "execution": {
     "iopub.execute_input": "2021-09-13T16:00:07.431367Z",
     "iopub.status.busy": "2021-09-13T16:00:07.429375Z",
     "iopub.status.idle": "2021-09-13T16:00:07.704635Z",
     "shell.execute_reply": "2021-09-13T16:00:07.705826Z"
    },
    "papermill": {
     "duration": 0.304811,
     "end_time": "2021-09-13T16:00:07.706220",
     "exception": false,
     "start_time": "2021-09-13T16:00:07.401409",
     "status": "completed"
    },
    "tags": []
   },
   "outputs": [],
   "source": [
    "timestamps = pd.read_sql(\"select distinct record_time from EBAY_TOP_BERLIN order by record_time desc limit 2\", sqlite3.connect(\"UsedObjects.db\"))"
   ]
  },
  {
   "cell_type": "code",
   "execution_count": 3,
   "id": "periodic-identification",
   "metadata": {
    "execution": {
     "iopub.execute_input": "2021-09-13T16:00:07.774401Z",
     "iopub.status.busy": "2021-09-13T16:00:07.772289Z",
     "iopub.status.idle": "2021-09-13T16:00:07.794818Z",
     "shell.execute_reply": "2021-09-13T16:00:07.796172Z"
    },
    "papermill": {
     "duration": 0.068561,
     "end_time": "2021-09-13T16:00:07.796622",
     "exception": false,
     "start_time": "2021-09-13T16:00:07.728061",
     "status": "completed"
    },
    "tags": []
   },
   "outputs": [
    {
     "data": {
      "text/html": [
       "<div>\n",
       "<style scoped>\n",
       "    .dataframe tbody tr th:only-of-type {\n",
       "        vertical-align: middle;\n",
       "    }\n",
       "\n",
       "    .dataframe tbody tr th {\n",
       "        vertical-align: top;\n",
       "    }\n",
       "\n",
       "    .dataframe thead th {\n",
       "        text-align: right;\n",
       "    }\n",
       "</style>\n",
       "<table border=\"1\" class=\"dataframe\">\n",
       "  <thead>\n",
       "    <tr style=\"text-align: right;\">\n",
       "      <th></th>\n",
       "      <th>RECORD_TIME</th>\n",
       "    </tr>\n",
       "  </thead>\n",
       "  <tbody>\n",
       "    <tr>\n",
       "      <th>0</th>\n",
       "      <td>2021-09-13 18:00</td>\n",
       "    </tr>\n",
       "    <tr>\n",
       "      <th>1</th>\n",
       "      <td>2021-09-13 17:30</td>\n",
       "    </tr>\n",
       "  </tbody>\n",
       "</table>\n",
       "</div>"
      ],
      "text/plain": [
       "        RECORD_TIME\n",
       "0  2021-09-13 18:00\n",
       "1  2021-09-13 17:30"
      ]
     },
     "execution_count": 3,
     "metadata": {},
     "output_type": "execute_result"
    }
   ],
   "source": [
    "timestamps"
   ]
  },
  {
   "cell_type": "code",
   "execution_count": 4,
   "id": "alternate-victory",
   "metadata": {
    "execution": {
     "iopub.execute_input": "2021-09-13T16:00:07.848927Z",
     "iopub.status.busy": "2021-09-13T16:00:07.847050Z",
     "iopub.status.idle": "2021-09-13T16:00:08.260424Z",
     "shell.execute_reply": "2021-09-13T16:00:08.261706Z"
    },
    "papermill": {
     "duration": 0.443561,
     "end_time": "2021-09-13T16:00:08.262117",
     "exception": false,
     "start_time": "2021-09-13T16:00:07.818556",
     "status": "completed"
    },
    "tags": []
   },
   "outputs": [],
   "source": [
    "df = pd.read_sql(\"select * from EBAY_TOP_BERLIN where record_time in (select distinct record_time from EBAY_TOP_BERLIN order by record_time desc limit 2)\", sqlite3.connect(\"UsedObjects.db\"))"
   ]
  },
  {
   "cell_type": "code",
   "execution_count": 5,
   "id": "popular-active",
   "metadata": {
    "execution": {
     "iopub.execute_input": "2021-09-13T16:00:08.340638Z",
     "iopub.status.busy": "2021-09-13T16:00:08.329326Z",
     "iopub.status.idle": "2021-09-13T16:00:08.356916Z",
     "shell.execute_reply": "2021-09-13T16:00:08.358145Z"
    },
    "papermill": {
     "duration": 0.070742,
     "end_time": "2021-09-13T16:00:08.358537",
     "exception": false,
     "start_time": "2021-09-13T16:00:08.287795",
     "status": "completed"
    },
    "tags": []
   },
   "outputs": [],
   "source": [
    "df_pivot = df.pivot_table(index=\"PRODUCT\", columns = \"RECORD_TIME\", values = \"LISTING_COUNT\")"
   ]
  },
  {
   "cell_type": "code",
   "execution_count": 6,
   "id": "union-huntington",
   "metadata": {
    "execution": {
     "iopub.execute_input": "2021-09-13T16:00:08.414725Z",
     "iopub.status.busy": "2021-09-13T16:00:08.412676Z",
     "iopub.status.idle": "2021-09-13T16:00:08.417948Z",
     "shell.execute_reply": "2021-09-13T16:00:08.419277Z"
    },
    "papermill": {
     "duration": 0.040405,
     "end_time": "2021-09-13T16:00:08.419713",
     "exception": false,
     "start_time": "2021-09-13T16:00:08.379308",
     "status": "completed"
    },
    "tags": []
   },
   "outputs": [],
   "source": [
    "df_pivot.columns = [\"stamp_1\", \"stamp_2\"]\n",
    "df_pivot_diff = df_pivot.diff(axis=1)"
   ]
  },
  {
   "cell_type": "code",
   "execution_count": 7,
   "id": "fifth-motion",
   "metadata": {
    "execution": {
     "iopub.execute_input": "2021-09-13T16:00:08.474736Z",
     "iopub.status.busy": "2021-09-13T16:00:08.472080Z",
     "iopub.status.idle": "2021-09-13T16:00:09.966948Z",
     "shell.execute_reply": "2021-09-13T16:00:09.968237Z"
    },
    "papermill": {
     "duration": 1.528739,
     "end_time": "2021-09-13T16:00:09.968688",
     "exception": false,
     "start_time": "2021-09-13T16:00:08.439949",
     "status": "completed"
    },
    "tags": []
   },
   "outputs": [
    {
     "data": {
      "text/plain": [
       "<AxesSubplot:ylabel='PRODUCT'>"
      ]
     },
     "execution_count": 7,
     "metadata": {},
     "output_type": "execute_result"
    },
    {
     "data": {
      "image/png": "[encoded data removed]",
      "text/plain": [
       "<Figure size 432x288 with 1 Axes>"
      ]
     },
     "metadata": {
      "needs_background": "light"
     },
     "output_type": "display_data"
    }
   ],
   "source": [
    "df_pivot_diff.sort_values(\"stamp_2\", ascending = False)[\"stamp_2\"].head(10).plot.barh()"
   ]
  },
  {
   "cell_type": "code",
   "execution_count": null,
   "id": "extra-executive",
   "metadata": {
    "papermill": {
     "duration": 0.022523,
     "end_time": "2021-09-13T16:00:10.016037",
     "exception": false,
     "start_time": "2021-09-13T16:00:09.993514",
     "status": "completed"
    },
    "tags": []
   },
   "outputs": [],
   "source": []
  }
 ],
 "metadata": {
  "kernelspec": {
   "display_name": "Python 3",
   "language": "python",
   "name": "python3"
  },
  "language_info": {
   "codemirror_mode": {
    "name": "ipython",
    "version": 3
   },
   "file_extension": ".py",
   "mimetype": "text/x-python",
   "name": "python",
   "nbconvert_exporter": "python",
   "pygments_lexer": "ipython3",
   "version": "3.9.5"
  },
  "papermill": {
   "default_parameters": {},
   "duration": 6.546106,
   "end_time": "2021-09-13T16:00:10.659828",
   "environment_variables": {},
   "exception": null,
   "input_path": "eBay_Overview.ipynb",
   "output_path": "eBay_Overview.ipynb",
   "parameters": {},
   "start_time": "2021-09-13T16:00:04.113722",
   "version": "2.3.3"
  }
 },
 "nbformat": 4,
 "nbformat_minor": 5
}