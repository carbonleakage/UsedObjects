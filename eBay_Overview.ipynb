{
 "cells": [
  {
   "cell_type": "code",
   "execution_count": 1,
   "id": "reverse-picking",
   "metadata": {
    "execution": {
     "iopub.execute_input": "2021-09-30T03:30:07.188496Z",
     "iopub.status.busy": "2021-09-30T03:30:07.186451Z",
     "iopub.status.idle": "2021-09-30T03:30:08.000185Z",
     "shell.execute_reply": "2021-09-30T03:30:08.001441Z"
    },
    "papermill": {
     "duration": 0.864549,
     "end_time": "2021-09-30T03:30:08.002055",
     "exception": false,
     "start_time": "2021-09-30T03:30:07.137506",
     "status": "completed"
    },
    "tags": []
   },
   "outputs": [],
   "source": [
    "import pandas as pd\n",
    "import sqlite3"
   ]
  },
  {
   "cell_type": "code",
   "execution_count": 2,
   "id": "innovative-syndrome",
   "metadata": {
    "execution": {
     "iopub.execute_input": "2021-09-30T03:30:08.052171Z",
     "iopub.status.busy": "2021-09-30T03:30:08.050216Z",
     "iopub.status.idle": "2021-09-30T03:30:08.467584Z",
     "shell.execute_reply": "2021-09-30T03:30:08.468853Z"
    },
    "papermill": {
     "duration": 0.446575,
     "end_time": "2021-09-30T03:30:08.469252",
     "exception": false,
     "start_time": "2021-09-30T03:30:08.022677",
     "status": "completed"
    },
    "tags": []
   },
   "outputs": [],
   "source": [
    "timestamps = pd.read_sql(\"select distinct record_time from EBAY_TOP_BERLIN order by record_time desc limit 2\", sqlite3.connect(\"UsedObjects.db\"))"
   ]
  },
  {
   "cell_type": "code",
   "execution_count": 3,
   "id": "periodic-identification",
   "metadata": {
    "execution": {
     "iopub.execute_input": "2021-09-30T03:30:08.537024Z",
     "iopub.status.busy": "2021-09-30T03:30:08.531329Z",
     "iopub.status.idle": "2021-09-30T03:30:08.553470Z",
     "shell.execute_reply": "2021-09-30T03:30:08.555038Z"
    },
    "papermill": {
     "duration": 0.06701,
     "end_time": "2021-09-30T03:30:08.555541",
     "exception": false,
     "start_time": "2021-09-30T03:30:08.488531",
     "status": "completed"
    },
    "tags": []
   },
   "outputs": [
    {
     "data": {
      "text/html": [
       "<div>\n",
       "<style scoped>\n",
       "    .dataframe tbody tr th:only-of-type {\n",
       "        vertical-align: middle;\n",
       "    }\n",
       "\n",
       "    .dataframe tbody tr th {\n",
       "        vertical-align: top;\n",
       "    }\n",
       "\n",
       "    .dataframe thead th {\n",
       "        text-align: right;\n",
       "    }\n",
       "</style>\n",
       "<table border=\"1\" class=\"dataframe\">\n",
       "  <thead>\n",
       "    <tr style=\"text-align: right;\">\n",
       "      <th></th>\n",
       "      <th>RECORD_TIME</th>\n",
       "    </tr>\n",
       "  </thead>\n",
       "  <tbody>\n",
       "    <tr>\n",
       "      <th>0</th>\n",
       "      <td>2021-09-30 05:30</td>\n",
       "    </tr>\n",
       "    <tr>\n",
       "      <th>1</th>\n",
       "      <td>2021-09-30 05:00</td>\n",
       "    </tr>\n",
       "  </tbody>\n",
       "</table>\n",
       "</div>"
      ],
      "text/plain": [
       "        RECORD_TIME\n",
       "0  2021-09-30 05:30\n",
       "1  2021-09-30 05:00"
      ]
     },
     "execution_count": 3,
     "metadata": {},
     "output_type": "execute_result"
    }
   ],
   "source": [
    "timestamps"
   ]
  },
  {
   "cell_type": "code",
   "execution_count": 4,
   "id": "alternate-victory",
   "metadata": {
    "execution": {
     "iopub.execute_input": "2021-09-30T03:30:08.620185Z",
     "iopub.status.busy": "2021-09-30T03:30:08.618074Z",
     "iopub.status.idle": "2021-09-30T03:30:09.221049Z",
     "shell.execute_reply": "2021-09-30T03:30:09.222276Z"
    },
    "papermill": {
     "duration": 0.64476,
     "end_time": "2021-09-30T03:30:09.222670",
     "exception": false,
     "start_time": "2021-09-30T03:30:08.577910",
     "status": "completed"
    },
    "tags": []
   },
   "outputs": [],
   "source": [
    "df = pd.read_sql(\"select * from EBAY_TOP_BERLIN where record_time in (select distinct record_time from EBAY_TOP_BERLIN order by record_time desc limit 2)\", sqlite3.connect(\"UsedObjects.db\"))"
   ]
  },
  {
   "cell_type": "code",
   "execution_count": 5,
   "id": "popular-active",
   "metadata": {
    "execution": {
     "iopub.execute_input": "2021-09-30T03:30:09.294715Z",
     "iopub.status.busy": "2021-09-30T03:30:09.287046Z",
     "iopub.status.idle": "2021-09-30T03:30:09.309516Z",
     "shell.execute_reply": "2021-09-30T03:30:09.310728Z"
    },
    "papermill": {
     "duration": 0.06687,
     "end_time": "2021-09-30T03:30:09.311333",
     "exception": false,
     "start_time": "2021-09-30T03:30:09.244463",
     "status": "completed"
    },
    "tags": []
   },
   "outputs": [],
   "source": [
    "df_pivot = df.pivot_table(index=\"PRODUCT\", columns = \"RECORD_TIME\", values = \"LISTING_COUNT\")"
   ]
  },
  {
   "cell_type": "code",
   "execution_count": 6,
   "id": "union-huntington",
   "metadata": {
    "execution": {
     "iopub.execute_input": "2021-09-30T03:30:09.370134Z",
     "iopub.status.busy": "2021-09-30T03:30:09.367677Z",
     "iopub.status.idle": "2021-09-30T03:30:09.373492Z",
     "shell.execute_reply": "2021-09-30T03:30:09.374845Z"
    },
    "papermill": {
     "duration": 0.042033,
     "end_time": "2021-09-30T03:30:09.375268",
     "exception": false,
     "start_time": "2021-09-30T03:30:09.333235",
     "status": "completed"
    },
    "tags": []
   },
   "outputs": [],
   "source": [
    "df_pivot.columns = [\"stamp_1\", \"stamp_2\"]\n",
    "df_pivot_diff = df_pivot.diff(axis=1)"
   ]
  },
  {
   "cell_type": "code",
   "execution_count": 7,
   "id": "fifth-motion",
   "metadata": {
    "execution": {
     "iopub.execute_input": "2021-09-30T03:30:09.429469Z",
     "iopub.status.busy": "2021-09-30T03:30:09.427191Z",
     "iopub.status.idle": "2021-09-30T03:30:10.952462Z",
     "shell.execute_reply": "2021-09-30T03:30:10.953760Z"
    },
    "papermill": {
     "duration": 1.558453,
     "end_time": "2021-09-30T03:30:10.954178",
     "exception": false,
     "start_time": "2021-09-30T03:30:09.395725",
     "status": "completed"
    },
    "tags": []
   },
   "outputs": [
    {
     "data": {
      "text/plain": [
       "<AxesSubplot:ylabel='PRODUCT'>"
      ]
     },
     "execution_count": 7,
     "metadata": {},
     "output_type": "execute_result"
    },
    {
     "data": {
      "image/png": "[encoded data removed]",
      "text/plain": [
       "<Figure size 432x288 with 1 Axes>"
      ]
     },
     "metadata": {
      "needs_background": "light"
     },
     "output_type": "display_data"
    }
   ],
   "source": [
    "df_pivot_diff.sort_values(\"stamp_2\", ascending = False)[\"stamp_2\"].head(10).plot.barh()"
   ]
  },
  {
   "cell_type": "code",
   "execution_count": null,
   "id": "extra-executive",
   "metadata": {
    "papermill": {
     "duration": 0.022152,
     "end_time": "2021-09-30T03:30:11.000050",
     "exception": false,
     "start_time": "2021-09-30T03:30:10.977898",
     "status": "completed"
    },
    "tags": []
   },
   "outputs": [],
   "source": []
  }
 ],
 "metadata": {
  "kernelspec": {
   "display_name": "Python 3",
   "language": "python",
   "name": "python3"
  },
  "language_info": {
   "codemirror_mode": {
    "name": "ipython",
    "version": 3
   },
   "file_extension": ".py",
   "mimetype": "text/x-python",
   "name": "python",
   "nbconvert_exporter": "python",
   "pygments_lexer": "ipython3",
   "version": "3.9.5"
  },
  "papermill": {
   "default_parameters": {},
   "duration": 7.829125,
   "end_time": "2021-09-30T03:30:12.542758",
   "environment_variables": {},
   "exception": null,
   "input_path": "eBay_Overview.ipynb",
   "output_path": "eBay_Overview.ipynb",
   "parameters": {},
   "start_time": "2021-09-30T03:30:04.713633",
   "version": "2.3.3"
  }
 },
 "nbformat": 4,
 "nbformat_minor": 5
}