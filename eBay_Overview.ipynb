{
 "cells": [
  {
   "cell_type": "code",
   "execution_count": 1,
   "id": "reverse-picking",
   "metadata": {
    "execution": {
     "iopub.execute_input": "2021-10-08T23:30:06.736456Z",
     "iopub.status.busy": "2021-10-08T23:30:06.734432Z",
     "iopub.status.idle": "2021-10-08T23:30:07.549889Z",
     "shell.execute_reply": "2021-10-08T23:30:07.548140Z"
    },
    "papermill": {
     "duration": 0.866493,
     "end_time": "2021-10-08T23:30:07.550321",
     "exception": false,
     "start_time": "2021-10-08T23:30:06.683828",
     "status": "completed"
    },
    "tags": []
   },
   "outputs": [],
   "source": [
    "import pandas as pd\n",
    "import sqlite3"
   ]
  },
  {
   "cell_type": "code",
   "execution_count": 2,
   "id": "innovative-syndrome",
   "metadata": {
    "execution": {
     "iopub.execute_input": "2021-10-08T23:30:07.601111Z",
     "iopub.status.busy": "2021-10-08T23:30:07.598704Z",
     "iopub.status.idle": "2021-10-08T23:30:08.086041Z",
     "shell.execute_reply": "2021-10-08T23:30:08.087686Z"
    },
    "papermill": {
     "duration": 0.517573,
     "end_time": "2021-10-08T23:30:08.088114",
     "exception": false,
     "start_time": "2021-10-08T23:30:07.570541",
     "status": "completed"
    },
    "tags": []
   },
   "outputs": [],
   "source": [
    "timestamps = pd.read_sql(\"select distinct record_time from EBAY_TOP_BERLIN order by record_time desc limit 2\", sqlite3.connect(\"UsedObjects.db\"))"
   ]
  },
  {
   "cell_type": "code",
   "execution_count": 3,
   "id": "periodic-identification",
   "metadata": {
    "execution": {
     "iopub.execute_input": "2021-10-08T23:30:08.175197Z",
     "iopub.status.busy": "2021-10-08T23:30:08.173079Z",
     "iopub.status.idle": "2021-10-08T23:30:08.193496Z",
     "shell.execute_reply": "2021-10-08T23:30:08.194701Z"
    },
    "papermill": {
     "duration": 0.086428,
     "end_time": "2021-10-08T23:30:08.195318",
     "exception": false,
     "start_time": "2021-10-08T23:30:08.108890",
     "status": "completed"
    },
    "tags": []
   },
   "outputs": [
    {
     "data": {
      "text/html": [
       "<div>\n",
       "<style scoped>\n",
       "    .dataframe tbody tr th:only-of-type {\n",
       "        vertical-align: middle;\n",
       "    }\n",
       "\n",
       "    .dataframe tbody tr th {\n",
       "        vertical-align: top;\n",
       "    }\n",
       "\n",
       "    .dataframe thead th {\n",
       "        text-align: right;\n",
       "    }\n",
       "</style>\n",
       "<table border=\"1\" class=\"dataframe\">\n",
       "  <thead>\n",
       "    <tr style=\"text-align: right;\">\n",
       "      <th></th>\n",
       "      <th>RECORD_TIME</th>\n",
       "    </tr>\n",
       "  </thead>\n",
       "  <tbody>\n",
       "    <tr>\n",
       "      <th>0</th>\n",
       "      <td>2021-10-09 01:30</td>\n",
       "    </tr>\n",
       "    <tr>\n",
       "      <th>1</th>\n",
       "      <td>2021-10-09 01:00</td>\n",
       "    </tr>\n",
       "  </tbody>\n",
       "</table>\n",
       "</div>"
      ],
      "text/plain": [
       "        RECORD_TIME\n",
       "0  2021-10-09 01:30\n",
       "1  2021-10-09 01:00"
      ]
     },
     "execution_count": 3,
     "metadata": {},
     "output_type": "execute_result"
    }
   ],
   "source": [
    "timestamps"
   ]
  },
  {
   "cell_type": "code",
   "execution_count": 4,
   "id": "alternate-victory",
   "metadata": {
    "execution": {
     "iopub.execute_input": "2021-10-08T23:30:08.250047Z",
     "iopub.status.busy": "2021-10-08T23:30:08.248018Z",
     "iopub.status.idle": "2021-10-08T23:30:08.964391Z",
     "shell.execute_reply": "2021-10-08T23:30:08.965609Z"
    },
    "papermill": {
     "duration": 0.746992,
     "end_time": "2021-10-08T23:30:08.965997",
     "exception": false,
     "start_time": "2021-10-08T23:30:08.219005",
     "status": "completed"
    },
    "tags": []
   },
   "outputs": [],
   "source": [
    "df = pd.read_sql(\"select * from EBAY_TOP_BERLIN where record_time in (select distinct record_time from EBAY_TOP_BERLIN order by record_time desc limit 2)\", sqlite3.connect(\"UsedObjects.db\"))"
   ]
  },
  {
   "cell_type": "code",
   "execution_count": 5,
   "id": "popular-active",
   "metadata": {
    "execution": {
     "iopub.execute_input": "2021-10-08T23:30:09.037181Z",
     "iopub.status.busy": "2021-10-08T23:30:09.025966Z",
     "iopub.status.idle": "2021-10-08T23:30:09.053289Z",
     "shell.execute_reply": "2021-10-08T23:30:09.054570Z"
    },
    "papermill": {
     "duration": 0.067153,
     "end_time": "2021-10-08T23:30:09.055035",
     "exception": false,
     "start_time": "2021-10-08T23:30:08.987882",
     "status": "completed"
    },
    "tags": []
   },
   "outputs": [],
   "source": [
    "df_pivot = df.pivot_table(index=\"PRODUCT\", columns = \"RECORD_TIME\", values = \"LISTING_COUNT\")"
   ]
  },
  {
   "cell_type": "code",
   "execution_count": 6,
   "id": "union-huntington",
   "metadata": {
    "execution": {
     "iopub.execute_input": "2021-10-08T23:30:09.112147Z",
     "iopub.status.busy": "2021-10-08T23:30:09.110018Z",
     "iopub.status.idle": "2021-10-08T23:30:09.115479Z",
     "shell.execute_reply": "2021-10-08T23:30:09.116677Z"
    },
    "papermill": {
     "duration": 0.042081,
     "end_time": "2021-10-08T23:30:09.117099",
     "exception": false,
     "start_time": "2021-10-08T23:30:09.075018",
     "status": "completed"
    },
    "tags": []
   },
   "outputs": [],
   "source": [
    "df_pivot.columns = [\"stamp_1\", \"stamp_2\"]\n",
    "df_pivot_diff = df_pivot.diff(axis=1)"
   ]
  },
  {
   "cell_type": "code",
   "execution_count": 7,
   "id": "fifth-motion",
   "metadata": {
    "execution": {
     "iopub.execute_input": "2021-10-08T23:30:09.174549Z",
     "iopub.status.busy": "2021-10-08T23:30:09.171906Z",
     "iopub.status.idle": "2021-10-08T23:30:10.646702Z",
     "shell.execute_reply": "2021-10-08T23:30:10.648214Z"
    },
    "papermill": {
     "duration": 1.508815,
     "end_time": "2021-10-08T23:30:10.648660",
     "exception": false,
     "start_time": "2021-10-08T23:30:09.139845",
     "status": "completed"
    },
    "tags": []
   },
   "outputs": [
    {
     "data": {
      "text/plain": [
       "<AxesSubplot:ylabel='PRODUCT'>"
      ]
     },
     "execution_count": 7,
     "metadata": {},
     "output_type": "execute_result"
    },
    {
     "data": {
      "image/png": "[encoded data removed]",
      "text/plain": [
       "<Figure size 432x288 with 1 Axes>"
      ]
     },
     "metadata": {
      "needs_background": "light"
     },
     "output_type": "display_data"
    }
   ],
   "source": [
    "df_pivot_diff.sort_values(\"stamp_2\", ascending = False)[\"stamp_2\"].head(10).plot.barh()"
   ]
  },
  {
   "cell_type": "code",
   "execution_count": null,
   "id": "extra-executive",
   "metadata": {
    "papermill": {
     "duration": 0.022103,
     "end_time": "2021-10-08T23:30:10.695387",
     "exception": false,
     "start_time": "2021-10-08T23:30:10.673284",
     "status": "completed"
    },
    "tags": []
   },
   "outputs": [],
   "source": []
  }
 ],
 "metadata": {
  "kernelspec": {
   "display_name": "Python 3",
   "language": "python",
   "name": "python3"
  },
  "language_info": {
   "codemirror_mode": {
    "name": "ipython",
    "version": 3
   },
   "file_extension": ".py",
   "mimetype": "text/x-python",
   "name": "python",
   "nbconvert_exporter": "python",
   "pygments_lexer": "ipython3",
   "version": "3.9.5"
  },
  "papermill": {
   "default_parameters": {},
   "duration": 7.839267,
   "end_time": "2021-10-08T23:30:12.096262",
   "environment_variables": {},
   "exception": null,
   "input_path": "eBay_Overview.ipynb",
   "output_path": "eBay_Overview.ipynb",
   "parameters": {},
   "start_time": "2021-10-08T23:30:04.256995",
   "version": "2.3.3"
  }
 },
 "nbformat": 4,
 "nbformat_minor": 5
}