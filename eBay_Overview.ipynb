{
 "cells": [
  {
   "cell_type": "code",
   "execution_count": 1,
   "id": "reverse-picking",
   "metadata": {
    "execution": {
     "iopub.execute_input": "2021-11-21T15:30:08.065908Z",
     "iopub.status.busy": "2021-11-21T15:30:08.063453Z",
     "iopub.status.idle": "2021-11-21T15:30:09.026300Z",
     "shell.execute_reply": "2021-11-21T15:30:09.027854Z"
    },
    "papermill": {
     "duration": 1.010772,
     "end_time": "2021-11-21T15:30:09.028596",
     "exception": false,
     "start_time": "2021-11-21T15:30:08.017824",
     "status": "completed"
    },
    "tags": []
   },
   "outputs": [],
   "source": [
    "import pandas as pd\n",
    "import sqlite3"
   ]
  },
  {
   "cell_type": "code",
   "execution_count": 2,
   "id": "innovative-syndrome",
   "metadata": {
    "execution": {
     "iopub.execute_input": "2021-11-21T15:30:09.091969Z",
     "iopub.status.busy": "2021-11-21T15:30:09.089748Z",
     "iopub.status.idle": "2021-11-21T15:30:09.960587Z",
     "shell.execute_reply": "2021-11-21T15:30:09.962000Z"
    },
    "papermill": {
     "duration": 0.904366,
     "end_time": "2021-11-21T15:30:09.962518",
     "exception": false,
     "start_time": "2021-11-21T15:30:09.058152",
     "status": "completed"
    },
    "tags": []
   },
   "outputs": [],
   "source": [
    "timestamps = pd.read_sql(\"select distinct record_time from EBAY_TOP_BERLIN order by record_time desc limit 2\", sqlite3.connect(\"UsedObjects.db\"))"
   ]
  },
  {
   "cell_type": "code",
   "execution_count": 3,
   "id": "periodic-identification",
   "metadata": {
    "execution": {
     "iopub.execute_input": "2021-11-21T15:30:10.035422Z",
     "iopub.status.busy": "2021-11-21T15:30:10.030180Z",
     "iopub.status.idle": "2021-11-21T15:30:10.057197Z",
     "shell.execute_reply": "2021-11-21T15:30:10.058517Z"
    },
    "papermill": {
     "duration": 0.075798,
     "end_time": "2021-11-21T15:30:10.058985",
     "exception": false,
     "start_time": "2021-11-21T15:30:09.983187",
     "status": "completed"
    },
    "tags": []
   },
   "outputs": [
    {
     "data": {
      "text/html": [
       "<div>\n",
       "<style scoped>\n",
       "    .dataframe tbody tr th:only-of-type {\n",
       "        vertical-align: middle;\n",
       "    }\n",
       "\n",
       "    .dataframe tbody tr th {\n",
       "        vertical-align: top;\n",
       "    }\n",
       "\n",
       "    .dataframe thead th {\n",
       "        text-align: right;\n",
       "    }\n",
       "</style>\n",
       "<table border=\"1\" class=\"dataframe\">\n",
       "  <thead>\n",
       "    <tr style=\"text-align: right;\">\n",
       "      <th></th>\n",
       "      <th>RECORD_TIME</th>\n",
       "    </tr>\n",
       "  </thead>\n",
       "  <tbody>\n",
       "    <tr>\n",
       "      <th>0</th>\n",
       "      <td>2021-11-21 16:30</td>\n",
       "    </tr>\n",
       "    <tr>\n",
       "      <th>1</th>\n",
       "      <td>2021-11-21 16:00</td>\n",
       "    </tr>\n",
       "  </tbody>\n",
       "</table>\n",
       "</div>"
      ],
      "text/plain": [
       "        RECORD_TIME\n",
       "0  2021-11-21 16:30\n",
       "1  2021-11-21 16:00"
      ]
     },
     "execution_count": 3,
     "metadata": {},
     "output_type": "execute_result"
    }
   ],
   "source": [
    "timestamps"
   ]
  },
  {
   "cell_type": "code",
   "execution_count": 4,
   "id": "alternate-victory",
   "metadata": {
    "execution": {
     "iopub.execute_input": "2021-11-21T15:30:10.111872Z",
     "iopub.status.busy": "2021-11-21T15:30:10.109924Z",
     "iopub.status.idle": "2021-11-21T15:30:11.369347Z",
     "shell.execute_reply": "2021-11-21T15:30:11.370940Z"
    },
    "papermill": {
     "duration": 1.291603,
     "end_time": "2021-11-21T15:30:11.371429",
     "exception": false,
     "start_time": "2021-11-21T15:30:10.079826",
     "status": "completed"
    },
    "tags": []
   },
   "outputs": [],
   "source": [
    "df = pd.read_sql(\"select * from EBAY_TOP_BERLIN where record_time in (select distinct record_time from EBAY_TOP_BERLIN order by record_time desc limit 2)\", sqlite3.connect(\"UsedObjects.db\"))"
   ]
  },
  {
   "cell_type": "code",
   "execution_count": 5,
   "id": "popular-active",
   "metadata": {
    "execution": {
     "iopub.execute_input": "2021-11-21T15:30:11.448897Z",
     "iopub.status.busy": "2021-11-21T15:30:11.435573Z",
     "iopub.status.idle": "2021-11-21T15:30:11.470896Z",
     "shell.execute_reply": "2021-11-21T15:30:11.472368Z"
    },
    "papermill": {
     "duration": 0.079742,
     "end_time": "2021-11-21T15:30:11.472960",
     "exception": false,
     "start_time": "2021-11-21T15:30:11.393218",
     "status": "completed"
    },
    "tags": []
   },
   "outputs": [],
   "source": [
    "df_pivot = df.pivot_table(index=\"PRODUCT\", columns = \"RECORD_TIME\", values = \"LISTING_COUNT\")"
   ]
  },
  {
   "cell_type": "code",
   "execution_count": 6,
   "id": "union-huntington",
   "metadata": {
    "execution": {
     "iopub.execute_input": "2021-11-21T15:30:11.531421Z",
     "iopub.status.busy": "2021-11-21T15:30:11.529261Z",
     "iopub.status.idle": "2021-11-21T15:30:11.534913Z",
     "shell.execute_reply": "2021-11-21T15:30:11.536311Z"
    },
    "papermill": {
     "duration": 0.04328,
     "end_time": "2021-11-21T15:30:11.536899",
     "exception": false,
     "start_time": "2021-11-21T15:30:11.493619",
     "status": "completed"
    },
    "tags": []
   },
   "outputs": [],
   "source": [
    "df_pivot.columns = [\"stamp_1\", \"stamp_2\"]\n",
    "df_pivot_diff = df_pivot.diff(axis=1)"
   ]
  },
  {
   "cell_type": "code",
   "execution_count": 7,
   "id": "fifth-motion",
   "metadata": {
    "execution": {
     "iopub.execute_input": "2021-11-21T15:30:11.594437Z",
     "iopub.status.busy": "2021-11-21T15:30:11.591823Z",
     "iopub.status.idle": "2021-11-21T15:30:13.352007Z",
     "shell.execute_reply": "2021-11-21T15:30:13.354771Z"
    },
    "papermill": {
     "duration": 1.798407,
     "end_time": "2021-11-21T15:30:13.355616",
     "exception": false,
     "start_time": "2021-11-21T15:30:11.557209",
     "status": "completed"
    },
    "tags": []
   },
   "outputs": [
    {
     "data": {
      "text/plain": [
       "<AxesSubplot:ylabel='PRODUCT'>"
      ]
     },
     "execution_count": 7,
     "metadata": {},
     "output_type": "execute_result"
    },
    {
     "data": {
      "image/png": "[encoded data removed]",
      "text/plain": [
       "<Figure size 432x288 with 1 Axes>"
      ]
     },
     "metadata": {
      "needs_background": "light"
     },
     "output_type": "display_data"
    }
   ],
   "source": [
    "df_pivot_diff.sort_values(\"stamp_2\", ascending = False)[\"stamp_2\"].head(10).plot.barh()"
   ]
  },
  {
   "cell_type": "code",
   "execution_count": null,
   "id": "extra-executive",
   "metadata": {
    "papermill": {
     "duration": 0.035203,
     "end_time": "2021-11-21T15:30:13.429228",
     "exception": false,
     "start_time": "2021-11-21T15:30:13.394025",
     "status": "completed"
    },
    "tags": []
   },
   "outputs": [],
   "source": []
  }
 ],
 "metadata": {
  "kernelspec": {
   "display_name": "Python 3",
   "language": "python",
   "name": "python3"
  },
  "language_info": {
   "codemirror_mode": {
    "name": "ipython",
    "version": 3
   },
   "file_extension": ".py",
   "mimetype": "text/x-python",
   "name": "python",
   "nbconvert_exporter": "python",
   "pygments_lexer": "ipython3",
   "version": "3.9.5"
  },
  "papermill": {
   "default_parameters": {},
   "duration": 9.993248,
   "end_time": "2021-11-21T15:30:15.216308",
   "environment_variables": {},
   "exception": null,
   "input_path": "eBay_Overview.ipynb",
   "output_path": "eBay_Overview.ipynb",
   "parameters": {},
   "start_time": "2021-11-21T15:30:05.223060",
   "version": "2.3.3"
  }
 },
 "nbformat": 4,
 "nbformat_minor": 5
}