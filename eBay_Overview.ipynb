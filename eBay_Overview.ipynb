{
 "cells": [
  {
   "cell_type": "code",
   "execution_count": 1,
   "id": "reverse-picking",
   "metadata": {
    "execution": {
     "iopub.execute_input": "2021-11-16T00:30:07.930770Z",
     "iopub.status.busy": "2021-11-16T00:30:07.928426Z",
     "iopub.status.idle": "2021-11-16T00:30:08.880450Z",
     "shell.execute_reply": "2021-11-16T00:30:08.882035Z"
    },
    "papermill": {
     "duration": 1.000964,
     "end_time": "2021-11-16T00:30:08.882760",
     "exception": false,
     "start_time": "2021-11-16T00:30:07.881796",
     "status": "completed"
    },
    "tags": []
   },
   "outputs": [],
   "source": [
    "import pandas as pd\n",
    "import sqlite3"
   ]
  },
  {
   "cell_type": "code",
   "execution_count": 2,
   "id": "innovative-syndrome",
   "metadata": {
    "execution": {
     "iopub.execute_input": "2021-11-16T00:30:08.951029Z",
     "iopub.status.busy": "2021-11-16T00:30:08.948753Z",
     "iopub.status.idle": "2021-11-16T00:30:09.759105Z",
     "shell.execute_reply": "2021-11-16T00:30:09.760646Z"
    },
    "papermill": {
     "duration": 0.844543,
     "end_time": "2021-11-16T00:30:09.761197",
     "exception": false,
     "start_time": "2021-11-16T00:30:08.916654",
     "status": "completed"
    },
    "tags": []
   },
   "outputs": [],
   "source": [
    "timestamps = pd.read_sql(\"select distinct record_time from EBAY_TOP_BERLIN order by record_time desc limit 2\", sqlite3.connect(\"UsedObjects.db\"))"
   ]
  },
  {
   "cell_type": "code",
   "execution_count": 3,
   "id": "periodic-identification",
   "metadata": {
    "execution": {
     "iopub.execute_input": "2021-11-16T00:30:09.839428Z",
     "iopub.status.busy": "2021-11-16T00:30:09.833216Z",
     "iopub.status.idle": "2021-11-16T00:30:09.855969Z",
     "shell.execute_reply": "2021-11-16T00:30:09.857637Z"
    },
    "papermill": {
     "duration": 0.075806,
     "end_time": "2021-11-16T00:30:09.858154",
     "exception": false,
     "start_time": "2021-11-16T00:30:09.782348",
     "status": "completed"
    },
    "tags": []
   },
   "outputs": [
    {
     "data": {
      "text/html": [
       "<div>\n",
       "<style scoped>\n",
       "    .dataframe tbody tr th:only-of-type {\n",
       "        vertical-align: middle;\n",
       "    }\n",
       "\n",
       "    .dataframe tbody tr th {\n",
       "        vertical-align: top;\n",
       "    }\n",
       "\n",
       "    .dataframe thead th {\n",
       "        text-align: right;\n",
       "    }\n",
       "</style>\n",
       "<table border=\"1\" class=\"dataframe\">\n",
       "  <thead>\n",
       "    <tr style=\"text-align: right;\">\n",
       "      <th></th>\n",
       "      <th>RECORD_TIME</th>\n",
       "    </tr>\n",
       "  </thead>\n",
       "  <tbody>\n",
       "    <tr>\n",
       "      <th>0</th>\n",
       "      <td>2021-11-16 01:30</td>\n",
       "    </tr>\n",
       "    <tr>\n",
       "      <th>1</th>\n",
       "      <td>2021-11-16 01:00</td>\n",
       "    </tr>\n",
       "  </tbody>\n",
       "</table>\n",
       "</div>"
      ],
      "text/plain": [
       "        RECORD_TIME\n",
       "0  2021-11-16 01:30\n",
       "1  2021-11-16 01:00"
      ]
     },
     "execution_count": 3,
     "metadata": {},
     "output_type": "execute_result"
    }
   ],
   "source": [
    "timestamps"
   ]
  },
  {
   "cell_type": "code",
   "execution_count": 4,
   "id": "alternate-victory",
   "metadata": {
    "execution": {
     "iopub.execute_input": "2021-11-16T00:30:09.913937Z",
     "iopub.status.busy": "2021-11-16T00:30:09.911511Z",
     "iopub.status.idle": "2021-11-16T00:30:11.101681Z",
     "shell.execute_reply": "2021-11-16T00:30:11.103810Z"
    },
    "papermill": {
     "duration": 1.22505,
     "end_time": "2021-11-16T00:30:11.104281",
     "exception": false,
     "start_time": "2021-11-16T00:30:09.879231",
     "status": "completed"
    },
    "tags": []
   },
   "outputs": [],
   "source": [
    "df = pd.read_sql(\"select * from EBAY_TOP_BERLIN where record_time in (select distinct record_time from EBAY_TOP_BERLIN order by record_time desc limit 2)\", sqlite3.connect(\"UsedObjects.db\"))"
   ]
  },
  {
   "cell_type": "code",
   "execution_count": 5,
   "id": "popular-active",
   "metadata": {
    "execution": {
     "iopub.execute_input": "2021-11-16T00:30:11.185346Z",
     "iopub.status.busy": "2021-11-16T00:30:11.176907Z",
     "iopub.status.idle": "2021-11-16T00:30:11.198645Z",
     "shell.execute_reply": "2021-11-16T00:30:11.200123Z"
    },
    "papermill": {
     "duration": 0.07552,
     "end_time": "2021-11-16T00:30:11.200602",
     "exception": false,
     "start_time": "2021-11-16T00:30:11.125082",
     "status": "completed"
    },
    "tags": []
   },
   "outputs": [],
   "source": [
    "df_pivot = df.pivot_table(index=\"PRODUCT\", columns = \"RECORD_TIME\", values = \"LISTING_COUNT\")"
   ]
  },
  {
   "cell_type": "code",
   "execution_count": 6,
   "id": "union-huntington",
   "metadata": {
    "execution": {
     "iopub.execute_input": "2021-11-16T00:30:11.263143Z",
     "iopub.status.busy": "2021-11-16T00:30:11.260919Z",
     "iopub.status.idle": "2021-11-16T00:30:11.266408Z",
     "shell.execute_reply": "2021-11-16T00:30:11.267848Z"
    },
    "papermill": {
     "duration": 0.046048,
     "end_time": "2021-11-16T00:30:11.268313",
     "exception": false,
     "start_time": "2021-11-16T00:30:11.222265",
     "status": "completed"
    },
    "tags": []
   },
   "outputs": [],
   "source": [
    "df_pivot.columns = [\"stamp_1\", \"stamp_2\"]\n",
    "df_pivot_diff = df_pivot.diff(axis=1)"
   ]
  },
  {
   "cell_type": "code",
   "execution_count": 7,
   "id": "fifth-motion",
   "metadata": {
    "execution": {
     "iopub.execute_input": "2021-11-16T00:30:11.325866Z",
     "iopub.status.busy": "2021-11-16T00:30:11.323303Z",
     "iopub.status.idle": "2021-11-16T00:30:13.357740Z",
     "shell.execute_reply": "2021-11-16T00:30:13.358938Z"
    },
    "papermill": {
     "duration": 2.070448,
     "end_time": "2021-11-16T00:30:13.359371",
     "exception": false,
     "start_time": "2021-11-16T00:30:11.288923",
     "status": "completed"
    },
    "tags": []
   },
   "outputs": [
    {
     "data": {
      "text/plain": [
       "<AxesSubplot:ylabel='PRODUCT'>"
      ]
     },
     "execution_count": 7,
     "metadata": {},
     "output_type": "execute_result"
    },
    {
     "data": {
      "image/png": "[encoded data removed]",
      "text/plain": [
       "<Figure size 432x288 with 1 Axes>"
      ]
     },
     "metadata": {
      "needs_background": "light"
     },
     "output_type": "display_data"
    }
   ],
   "source": [
    "df_pivot_diff.sort_values(\"stamp_2\", ascending = False)[\"stamp_2\"].head(10).plot.barh()"
   ]
  },
  {
   "cell_type": "code",
   "execution_count": null,
   "id": "extra-executive",
   "metadata": {
    "papermill": {
     "duration": 0.022135,
     "end_time": "2021-11-16T00:30:13.405494",
     "exception": false,
     "start_time": "2021-11-16T00:30:13.383359",
     "status": "completed"
    },
    "tags": []
   },
   "outputs": [],
   "source": []
  }
 ],
 "metadata": {
  "kernelspec": {
   "display_name": "Python 3",
   "language": "python",
   "name": "python3"
  },
  "language_info": {
   "codemirror_mode": {
    "name": "ipython",
    "version": 3
   },
   "file_extension": ".py",
   "mimetype": "text/x-python",
   "name": "python",
   "nbconvert_exporter": "python",
   "pygments_lexer": "ipython3",
   "version": "3.9.5"
  },
  "papermill": {
   "default_parameters": {},
   "duration": 8.934905,
   "end_time": "2021-11-16T00:30:14.057378",
   "environment_variables": {},
   "exception": null,
   "input_path": "eBay_Overview.ipynb",
   "output_path": "eBay_Overview.ipynb",
   "parameters": {},
   "start_time": "2021-11-16T00:30:05.122473",
   "version": "2.3.3"
  }
 },
 "nbformat": 4,
 "nbformat_minor": 5
}