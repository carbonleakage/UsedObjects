{
 "cells": [
  {
   "cell_type": "code",
   "execution_count": 1,
   "id": "reverse-picking",
   "metadata": {
    "execution": {
     "iopub.execute_input": "2021-10-14T17:30:07.002458Z",
     "iopub.status.busy": "2021-10-14T17:30:07.000389Z",
     "iopub.status.idle": "2021-10-14T17:30:07.807817Z",
     "shell.execute_reply": "2021-10-14T17:30:07.809162Z"
    },
    "papermill": {
     "duration": 0.859534,
     "end_time": "2021-10-14T17:30:07.809801",
     "exception": false,
     "start_time": "2021-10-14T17:30:06.950267",
     "status": "completed"
    },
    "tags": []
   },
   "outputs": [],
   "source": [
    "import pandas as pd\n",
    "import sqlite3"
   ]
  },
  {
   "cell_type": "code",
   "execution_count": 2,
   "id": "innovative-syndrome",
   "metadata": {
    "execution": {
     "iopub.execute_input": "2021-10-14T17:30:07.862024Z",
     "iopub.status.busy": "2021-10-14T17:30:07.859898Z",
     "iopub.status.idle": "2021-10-14T17:30:08.401971Z",
     "shell.execute_reply": "2021-10-14T17:30:08.403264Z"
    },
    "papermill": {
     "duration": 0.571561,
     "end_time": "2021-10-14T17:30:08.403690",
     "exception": false,
     "start_time": "2021-10-14T17:30:07.832129",
     "status": "completed"
    },
    "tags": []
   },
   "outputs": [],
   "source": [
    "timestamps = pd.read_sql(\"select distinct record_time from EBAY_TOP_BERLIN order by record_time desc limit 2\", sqlite3.connect(\"UsedObjects.db\"))"
   ]
  },
  {
   "cell_type": "code",
   "execution_count": 3,
   "id": "periodic-identification",
   "metadata": {
    "execution": {
     "iopub.execute_input": "2021-10-14T17:30:08.476060Z",
     "iopub.status.busy": "2021-10-14T17:30:08.474031Z",
     "iopub.status.idle": "2021-10-14T17:30:08.493844Z",
     "shell.execute_reply": "2021-10-14T17:30:08.495115Z"
    },
    "papermill": {
     "duration": 0.066988,
     "end_time": "2021-10-14T17:30:08.495521",
     "exception": false,
     "start_time": "2021-10-14T17:30:08.428533",
     "status": "completed"
    },
    "tags": []
   },
   "outputs": [
    {
     "data": {
      "text/html": [
       "<div>\n",
       "<style scoped>\n",
       "    .dataframe tbody tr th:only-of-type {\n",
       "        vertical-align: middle;\n",
       "    }\n",
       "\n",
       "    .dataframe tbody tr th {\n",
       "        vertical-align: top;\n",
       "    }\n",
       "\n",
       "    .dataframe thead th {\n",
       "        text-align: right;\n",
       "    }\n",
       "</style>\n",
       "<table border=\"1\" class=\"dataframe\">\n",
       "  <thead>\n",
       "    <tr style=\"text-align: right;\">\n",
       "      <th></th>\n",
       "      <th>RECORD_TIME</th>\n",
       "    </tr>\n",
       "  </thead>\n",
       "  <tbody>\n",
       "    <tr>\n",
       "      <th>0</th>\n",
       "      <td>2021-10-14 19:30</td>\n",
       "    </tr>\n",
       "    <tr>\n",
       "      <th>1</th>\n",
       "      <td>2021-10-14 19:00</td>\n",
       "    </tr>\n",
       "  </tbody>\n",
       "</table>\n",
       "</div>"
      ],
      "text/plain": [
       "        RECORD_TIME\n",
       "0  2021-10-14 19:30\n",
       "1  2021-10-14 19:00"
      ]
     },
     "execution_count": 3,
     "metadata": {},
     "output_type": "execute_result"
    }
   ],
   "source": [
    "timestamps"
   ]
  },
  {
   "cell_type": "code",
   "execution_count": 4,
   "id": "alternate-victory",
   "metadata": {
    "execution": {
     "iopub.execute_input": "2021-10-14T17:30:08.548415Z",
     "iopub.status.busy": "2021-10-14T17:30:08.546135Z",
     "iopub.status.idle": "2021-10-14T17:30:09.341193Z",
     "shell.execute_reply": "2021-10-14T17:30:09.342621Z"
    },
    "papermill": {
     "duration": 0.825688,
     "end_time": "2021-10-14T17:30:09.343052",
     "exception": false,
     "start_time": "2021-10-14T17:30:08.517364",
     "status": "completed"
    },
    "tags": []
   },
   "outputs": [],
   "source": [
    "df = pd.read_sql(\"select * from EBAY_TOP_BERLIN where record_time in (select distinct record_time from EBAY_TOP_BERLIN order by record_time desc limit 2)\", sqlite3.connect(\"UsedObjects.db\"))"
   ]
  },
  {
   "cell_type": "code",
   "execution_count": 5,
   "id": "popular-active",
   "metadata": {
    "execution": {
     "iopub.execute_input": "2021-10-14T17:30:09.413302Z",
     "iopub.status.busy": "2021-10-14T17:30:09.400895Z",
     "iopub.status.idle": "2021-10-14T17:30:09.429467Z",
     "shell.execute_reply": "2021-10-14T17:30:09.430869Z"
    },
    "papermill": {
     "duration": 0.067328,
     "end_time": "2021-10-14T17:30:09.431320",
     "exception": false,
     "start_time": "2021-10-14T17:30:09.363992",
     "status": "completed"
    },
    "tags": []
   },
   "outputs": [],
   "source": [
    "df_pivot = df.pivot_table(index=\"PRODUCT\", columns = \"RECORD_TIME\", values = \"LISTING_COUNT\")"
   ]
  },
  {
   "cell_type": "code",
   "execution_count": 6,
   "id": "union-huntington",
   "metadata": {
    "execution": {
     "iopub.execute_input": "2021-10-14T17:30:09.488307Z",
     "iopub.status.busy": "2021-10-14T17:30:09.485991Z",
     "iopub.status.idle": "2021-10-14T17:30:09.491865Z",
     "shell.execute_reply": "2021-10-14T17:30:09.493208Z"
    },
    "papermill": {
     "duration": 0.042081,
     "end_time": "2021-10-14T17:30:09.493680",
     "exception": false,
     "start_time": "2021-10-14T17:30:09.451599",
     "status": "completed"
    },
    "tags": []
   },
   "outputs": [],
   "source": [
    "df_pivot.columns = [\"stamp_1\", \"stamp_2\"]\n",
    "df_pivot_diff = df_pivot.diff(axis=1)"
   ]
  },
  {
   "cell_type": "code",
   "execution_count": 7,
   "id": "fifth-motion",
   "metadata": {
    "execution": {
     "iopub.execute_input": "2021-10-14T17:30:09.548171Z",
     "iopub.status.busy": "2021-10-14T17:30:09.545942Z",
     "iopub.status.idle": "2021-10-14T17:30:11.058273Z",
     "shell.execute_reply": "2021-10-14T17:30:11.059570Z"
    },
    "papermill": {
     "duration": 1.544933,
     "end_time": "2021-10-14T17:30:11.059996",
     "exception": false,
     "start_time": "2021-10-14T17:30:09.515063",
     "status": "completed"
    },
    "tags": []
   },
   "outputs": [
    {
     "data": {
      "text/plain": [
       "<AxesSubplot:ylabel='PRODUCT'>"
      ]
     },
     "execution_count": 7,
     "metadata": {},
     "output_type": "execute_result"
    },
    {
     "data": {
      "image/png": "[encoded data removed]",
      "text/plain": [
       "<Figure size 432x288 with 1 Axes>"
      ]
     },
     "metadata": {
      "needs_background": "light"
     },
     "output_type": "display_data"
    }
   ],
   "source": [
    "df_pivot_diff.sort_values(\"stamp_2\", ascending = False)[\"stamp_2\"].head(10).plot.barh()"
   ]
  },
  {
   "cell_type": "code",
   "execution_count": null,
   "id": "extra-executive",
   "metadata": {
    "papermill": {
     "duration": 0.022241,
     "end_time": "2021-10-14T17:30:11.106175",
     "exception": false,
     "start_time": "2021-10-14T17:30:11.083934",
     "status": "completed"
    },
    "tags": []
   },
   "outputs": [],
   "source": []
  }
 ],
 "metadata": {
  "kernelspec": {
   "display_name": "Python 3",
   "language": "python",
   "name": "python3"
  },
  "language_info": {
   "codemirror_mode": {
    "name": "ipython",
    "version": 3
   },
   "file_extension": ".py",
   "mimetype": "text/x-python",
   "name": "python",
   "nbconvert_exporter": "python",
   "pygments_lexer": "ipython3",
   "version": "3.9.5"
  },
  "papermill": {
   "default_parameters": {},
   "duration": 7.824389,
   "end_time": "2021-10-14T17:30:12.367307",
   "environment_variables": {},
   "exception": null,
   "input_path": "eBay_Overview.ipynb",
   "output_path": "eBay_Overview.ipynb",
   "parameters": {},
   "start_time": "2021-10-14T17:30:04.542918",
   "version": "2.3.3"
  }
 },
 "nbformat": 4,
 "nbformat_minor": 5
}