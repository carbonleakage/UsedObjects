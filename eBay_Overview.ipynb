{
 "cells": [
  {
   "cell_type": "code",
   "execution_count": 1,
   "id": "reverse-picking",
   "metadata": {
    "execution": {
     "iopub.execute_input": "2021-08-15T16:00:07.676684Z",
     "iopub.status.busy": "2021-08-15T16:00:07.674752Z",
     "iopub.status.idle": "2021-08-15T16:00:08.487160Z",
     "shell.execute_reply": "2021-08-15T16:00:08.488564Z"
    },
    "papermill": {
     "duration": 0.863932,
     "end_time": "2021-08-15T16:00:08.489234",
     "exception": false,
     "start_time": "2021-08-15T16:00:07.625302",
     "status": "completed"
    },
    "tags": []
   },
   "outputs": [],
   "source": [
    "import pandas as pd\n",
    "import sqlite3"
   ]
  },
  {
   "cell_type": "code",
   "execution_count": 2,
   "id": "innovative-syndrome",
   "metadata": {
    "execution": {
     "iopub.execute_input": "2021-08-15T16:00:08.539956Z",
     "iopub.status.busy": "2021-08-15T16:00:08.537525Z",
     "iopub.status.idle": "2021-08-15T16:00:08.594491Z",
     "shell.execute_reply": "2021-08-15T16:00:08.595865Z"
    },
    "papermill": {
     "duration": 0.086884,
     "end_time": "2021-08-15T16:00:08.596300",
     "exception": false,
     "start_time": "2021-08-15T16:00:08.509416",
     "status": "completed"
    },
    "tags": []
   },
   "outputs": [],
   "source": [
    "timestamps = pd.read_sql(\"select distinct record_time from EBAY_TOP_BERLIN order by record_time desc limit 2\", sqlite3.connect(\"UsedObjects.db\"))"
   ]
  },
  {
   "cell_type": "code",
   "execution_count": 3,
   "id": "periodic-identification",
   "metadata": {
    "execution": {
     "iopub.execute_input": "2021-08-15T16:00:08.660658Z",
     "iopub.status.busy": "2021-08-15T16:00:08.658625Z",
     "iopub.status.idle": "2021-08-15T16:00:08.678291Z",
     "shell.execute_reply": "2021-08-15T16:00:08.679405Z"
    },
    "papermill": {
     "duration": 0.064577,
     "end_time": "2021-08-15T16:00:08.679811",
     "exception": false,
     "start_time": "2021-08-15T16:00:08.615234",
     "status": "completed"
    },
    "tags": []
   },
   "outputs": [
    {
     "data": {
      "text/html": [
       "<div>\n",
       "<style scoped>\n",
       "    .dataframe tbody tr th:only-of-type {\n",
       "        vertical-align: middle;\n",
       "    }\n",
       "\n",
       "    .dataframe tbody tr th {\n",
       "        vertical-align: top;\n",
       "    }\n",
       "\n",
       "    .dataframe thead th {\n",
       "        text-align: right;\n",
       "    }\n",
       "</style>\n",
       "<table border=\"1\" class=\"dataframe\">\n",
       "  <thead>\n",
       "    <tr style=\"text-align: right;\">\n",
       "      <th></th>\n",
       "      <th>RECORD_TIME</th>\n",
       "    </tr>\n",
       "  </thead>\n",
       "  <tbody>\n",
       "    <tr>\n",
       "      <th>0</th>\n",
       "      <td>2021-08-15 18:00</td>\n",
       "    </tr>\n",
       "    <tr>\n",
       "      <th>1</th>\n",
       "      <td>2021-08-15 17:30</td>\n",
       "    </tr>\n",
       "  </tbody>\n",
       "</table>\n",
       "</div>"
      ],
      "text/plain": [
       "        RECORD_TIME\n",
       "0  2021-08-15 18:00\n",
       "1  2021-08-15 17:30"
      ]
     },
     "execution_count": 3,
     "metadata": {},
     "output_type": "execute_result"
    }
   ],
   "source": [
    "timestamps"
   ]
  },
  {
   "cell_type": "code",
   "execution_count": 4,
   "id": "alternate-victory",
   "metadata": {
    "execution": {
     "iopub.execute_input": "2021-08-15T16:00:08.732989Z",
     "iopub.status.busy": "2021-08-15T16:00:08.730681Z",
     "iopub.status.idle": "2021-08-15T16:00:08.815529Z",
     "shell.execute_reply": "2021-08-15T16:00:08.816813Z"
    },
    "papermill": {
     "duration": 0.114904,
     "end_time": "2021-08-15T16:00:08.817228",
     "exception": false,
     "start_time": "2021-08-15T16:00:08.702324",
     "status": "completed"
    },
    "tags": []
   },
   "outputs": [],
   "source": [
    "df = pd.read_sql(\"select * from EBAY_TOP_BERLIN where record_time in (select distinct record_time from EBAY_TOP_BERLIN order by record_time desc limit 2)\", sqlite3.connect(\"UsedObjects.db\"))"
   ]
  },
  {
   "cell_type": "code",
   "execution_count": 5,
   "id": "popular-active",
   "metadata": {
    "execution": {
     "iopub.execute_input": "2021-08-15T16:00:08.887538Z",
     "iopub.status.busy": "2021-08-15T16:00:08.875602Z",
     "iopub.status.idle": "2021-08-15T16:00:08.904121Z",
     "shell.execute_reply": "2021-08-15T16:00:08.905490Z"
    },
    "papermill": {
     "duration": 0.069001,
     "end_time": "2021-08-15T16:00:08.906111",
     "exception": false,
     "start_time": "2021-08-15T16:00:08.837110",
     "status": "completed"
    },
    "tags": []
   },
   "outputs": [],
   "source": [
    "df_pivot = df.pivot_table(index=\"PRODUCT\", columns = \"RECORD_TIME\", values = \"LISTING_COUNT\")"
   ]
  },
  {
   "cell_type": "code",
   "execution_count": 6,
   "id": "union-huntington",
   "metadata": {
    "execution": {
     "iopub.execute_input": "2021-08-15T16:00:08.965410Z",
     "iopub.status.busy": "2021-08-15T16:00:08.962973Z",
     "iopub.status.idle": "2021-08-15T16:00:08.968918Z",
     "shell.execute_reply": "2021-08-15T16:00:08.970251Z"
    },
    "papermill": {
     "duration": 0.042396,
     "end_time": "2021-08-15T16:00:08.970672",
     "exception": false,
     "start_time": "2021-08-15T16:00:08.928276",
     "status": "completed"
    },
    "tags": []
   },
   "outputs": [],
   "source": [
    "df_pivot.columns = [\"stamp_1\", \"stamp_2\"]\n",
    "df_pivot_diff = df_pivot.diff(axis=1)"
   ]
  },
  {
   "cell_type": "code",
   "execution_count": 7,
   "id": "fifth-motion",
   "metadata": {
    "execution": {
     "iopub.execute_input": "2021-08-15T16:00:09.024839Z",
     "iopub.status.busy": "2021-08-15T16:00:09.022557Z",
     "iopub.status.idle": "2021-08-15T16:00:10.526694Z",
     "shell.execute_reply": "2021-08-15T16:00:10.527974Z"
    },
    "papermill": {
     "duration": 1.537345,
     "end_time": "2021-08-15T16:00:10.528425",
     "exception": false,
     "start_time": "2021-08-15T16:00:08.991080",
     "status": "completed"
    },
    "tags": []
   },
   "outputs": [
    {
     "data": {
      "text/plain": [
       "<AxesSubplot:ylabel='PRODUCT'>"
      ]
     },
     "execution_count": 7,
     "metadata": {},
     "output_type": "execute_result"
    },
    {
     "data": {
      "image/png": "[encoded data removed]",
      "text/plain": [
       "<Figure size 432x288 with 1 Axes>"
      ]
     },
     "metadata": {
      "needs_background": "light"
     },
     "output_type": "display_data"
    }
   ],
   "source": [
    "df_pivot_diff.sort_values(\"stamp_2\", ascending = False)[\"stamp_2\"].head(10).plot.barh()"
   ]
  },
  {
   "cell_type": "code",
   "execution_count": null,
   "id": "extra-executive",
   "metadata": {
    "papermill": {
     "duration": 0.021874,
     "end_time": "2021-08-15T16:00:10.576299",
     "exception": false,
     "start_time": "2021-08-15T16:00:10.554425",
     "status": "completed"
    },
    "tags": []
   },
   "outputs": [],
   "source": []
  }
 ],
 "metadata": {
  "kernelspec": {
   "display_name": "Python 3",
   "language": "python",
   "name": "python3"
  },
  "language_info": {
   "codemirror_mode": {
    "name": "ipython",
    "version": 3
   },
   "file_extension": ".py",
   "mimetype": "text/x-python",
   "name": "python",
   "nbconvert_exporter": "python",
   "pygments_lexer": "ipython3",
   "version": "3.9.5"
  },
  "papermill": {
   "default_parameters": {},
   "duration": 6.829998,
   "end_time": "2021-08-15T16:00:12.032789",
   "environment_variables": {},
   "exception": null,
   "input_path": "eBay_Overview.ipynb",
   "output_path": "eBay_Overview.ipynb",
   "parameters": {},
   "start_time": "2021-08-15T16:00:05.202791",
   "version": "2.3.3"
  }
 },
 "nbformat": 4,
 "nbformat_minor": 5
}