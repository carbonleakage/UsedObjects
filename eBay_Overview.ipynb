{
 "cells": [
  {
   "cell_type": "code",
   "execution_count": 1,
   "id": "reverse-picking",
   "metadata": {
    "execution": {
     "iopub.execute_input": "2021-12-07T14:30:07.910912Z",
     "iopub.status.busy": "2021-12-07T14:30:07.908446Z",
     "iopub.status.idle": "2021-12-07T14:30:08.848498Z",
     "shell.execute_reply": "2021-12-07T14:30:08.849828Z"
    },
    "papermill": {
     "duration": 1.00171,
     "end_time": "2021-12-07T14:30:08.850469",
     "exception": false,
     "start_time": "2021-12-07T14:30:07.848759",
     "status": "completed"
    },
    "tags": []
   },
   "outputs": [],
   "source": [
    "import pandas as pd\n",
    "import sqlite3"
   ]
  },
  {
   "cell_type": "code",
   "execution_count": 2,
   "id": "innovative-syndrome",
   "metadata": {
    "execution": {
     "iopub.execute_input": "2021-12-07T14:30:08.912898Z",
     "iopub.status.busy": "2021-12-07T14:30:08.910833Z",
     "iopub.status.idle": "2021-12-07T14:30:09.944662Z",
     "shell.execute_reply": "2021-12-07T14:30:09.946069Z"
    },
    "papermill": {
     "duration": 1.067514,
     "end_time": "2021-12-07T14:30:09.946537",
     "exception": false,
     "start_time": "2021-12-07T14:30:08.879023",
     "status": "completed"
    },
    "tags": []
   },
   "outputs": [],
   "source": [
    "timestamps = pd.read_sql(\"select distinct record_time from EBAY_TOP_BERLIN order by record_time desc limit 2\", sqlite3.connect(\"UsedObjects.db\"))"
   ]
  },
  {
   "cell_type": "code",
   "execution_count": 3,
   "id": "periodic-identification",
   "metadata": {
    "execution": {
     "iopub.execute_input": "2021-12-07T14:30:10.017671Z",
     "iopub.status.busy": "2021-12-07T14:30:10.015429Z",
     "iopub.status.idle": "2021-12-07T14:30:10.038674Z",
     "shell.execute_reply": "2021-12-07T14:30:10.040151Z"
    },
    "papermill": {
     "duration": 0.073542,
     "end_time": "2021-12-07T14:30:10.040664",
     "exception": false,
     "start_time": "2021-12-07T14:30:09.967122",
     "status": "completed"
    },
    "tags": []
   },
   "outputs": [
    {
     "data": {
      "text/html": [
       "<div>\n",
       "<style scoped>\n",
       "    .dataframe tbody tr th:only-of-type {\n",
       "        vertical-align: middle;\n",
       "    }\n",
       "\n",
       "    .dataframe tbody tr th {\n",
       "        vertical-align: top;\n",
       "    }\n",
       "\n",
       "    .dataframe thead th {\n",
       "        text-align: right;\n",
       "    }\n",
       "</style>\n",
       "<table border=\"1\" class=\"dataframe\">\n",
       "  <thead>\n",
       "    <tr style=\"text-align: right;\">\n",
       "      <th></th>\n",
       "      <th>RECORD_TIME</th>\n",
       "    </tr>\n",
       "  </thead>\n",
       "  <tbody>\n",
       "    <tr>\n",
       "      <th>0</th>\n",
       "      <td>2021-12-07 15:30</td>\n",
       "    </tr>\n",
       "    <tr>\n",
       "      <th>1</th>\n",
       "      <td>2021-12-07 15:00</td>\n",
       "    </tr>\n",
       "  </tbody>\n",
       "</table>\n",
       "</div>"
      ],
      "text/plain": [
       "        RECORD_TIME\n",
       "0  2021-12-07 15:30\n",
       "1  2021-12-07 15:00"
      ]
     },
     "execution_count": 3,
     "metadata": {},
     "output_type": "execute_result"
    }
   ],
   "source": [
    "timestamps"
   ]
  },
  {
   "cell_type": "code",
   "execution_count": 4,
   "id": "alternate-victory",
   "metadata": {
    "execution": {
     "iopub.execute_input": "2021-12-07T14:30:10.094739Z",
     "iopub.status.busy": "2021-12-07T14:30:10.092525Z",
     "iopub.status.idle": "2021-12-07T14:30:11.610254Z",
     "shell.execute_reply": "2021-12-07T14:30:11.614142Z"
    },
    "papermill": {
     "duration": 1.553473,
     "end_time": "2021-12-07T14:30:11.614933",
     "exception": false,
     "start_time": "2021-12-07T14:30:10.061460",
     "status": "completed"
    },
    "tags": []
   },
   "outputs": [],
   "source": [
    "df = pd.read_sql(\"select * from EBAY_TOP_BERLIN where record_time in (select distinct record_time from EBAY_TOP_BERLIN order by record_time desc limit 2)\", sqlite3.connect(\"UsedObjects.db\"))"
   ]
  },
  {
   "cell_type": "code",
   "execution_count": 5,
   "id": "popular-active",
   "metadata": {
    "execution": {
     "iopub.execute_input": "2021-12-07T14:30:11.727311Z",
     "iopub.status.busy": "2021-12-07T14:30:11.702045Z",
     "iopub.status.idle": "2021-12-07T14:30:11.762813Z",
     "shell.execute_reply": "2021-12-07T14:30:11.765414Z"
    },
    "papermill": {
     "duration": 0.120712,
     "end_time": "2021-12-07T14:30:11.766083",
     "exception": false,
     "start_time": "2021-12-07T14:30:11.645371",
     "status": "completed"
    },
    "tags": []
   },
   "outputs": [],
   "source": [
    "df_pivot = df.pivot_table(index=\"PRODUCT\", columns = \"RECORD_TIME\", values = \"LISTING_COUNT\")"
   ]
  },
  {
   "cell_type": "code",
   "execution_count": 6,
   "id": "union-huntington",
   "metadata": {
    "execution": {
     "iopub.execute_input": "2021-12-07T14:30:11.846931Z",
     "iopub.status.busy": "2021-12-07T14:30:11.844011Z",
     "iopub.status.idle": "2021-12-07T14:30:11.851312Z",
     "shell.execute_reply": "2021-12-07T14:30:11.853329Z"
    },
    "papermill": {
     "duration": 0.057293,
     "end_time": "2021-12-07T14:30:11.853953",
     "exception": false,
     "start_time": "2021-12-07T14:30:11.796660",
     "status": "completed"
    },
    "tags": []
   },
   "outputs": [],
   "source": [
    "df_pivot.columns = [\"stamp_1\", \"stamp_2\"]\n",
    "df_pivot_diff = df_pivot.diff(axis=1)"
   ]
  },
  {
   "cell_type": "code",
   "execution_count": 7,
   "id": "fifth-motion",
   "metadata": {
    "execution": {
     "iopub.execute_input": "2021-12-07T14:30:11.914863Z",
     "iopub.status.busy": "2021-12-07T14:30:11.912184Z",
     "iopub.status.idle": "2021-12-07T14:30:13.599604Z",
     "shell.execute_reply": "2021-12-07T14:30:13.600941Z"
    },
    "papermill": {
     "duration": 1.722685,
     "end_time": "2021-12-07T14:30:13.601412",
     "exception": false,
     "start_time": "2021-12-07T14:30:11.878727",
     "status": "completed"
    },
    "tags": []
   },
   "outputs": [
    {
     "data": {
      "text/plain": [
       "<AxesSubplot:ylabel='PRODUCT'>"
      ]
     },
     "execution_count": 7,
     "metadata": {},
     "output_type": "execute_result"
    },
    {
     "data": {
      "image/png": "[encoded data removed]",
      "text/plain": [
       "<Figure size 432x288 with 1 Axes>"
      ]
     },
     "metadata": {
      "needs_background": "light"
     },
     "output_type": "display_data"
    }
   ],
   "source": [
    "df_pivot_diff.sort_values(\"stamp_2\", ascending = False)[\"stamp_2\"].head(10).plot.barh()"
   ]
  },
  {
   "cell_type": "code",
   "execution_count": null,
   "id": "extra-executive",
   "metadata": {
    "papermill": {
     "duration": 0.022308,
     "end_time": "2021-12-07T14:30:13.649087",
     "exception": false,
     "start_time": "2021-12-07T14:30:13.626779",
     "status": "completed"
    },
    "tags": []
   },
   "outputs": [],
   "source": []
  }
 ],
 "metadata": {
  "kernelspec": {
   "display_name": "Python 3",
   "language": "python",
   "name": "python3"
  },
  "language_info": {
   "codemirror_mode": {
    "name": "ipython",
    "version": 3
   },
   "file_extension": ".py",
   "mimetype": "text/x-python",
   "name": "python",
   "nbconvert_exporter": "python",
   "pygments_lexer": "ipython3",
   "version": "3.9.5"
  },
  "papermill": {
   "default_parameters": {},
   "duration": 9.94165,
   "end_time": "2021-12-07T14:30:15.065931",
   "environment_variables": {},
   "exception": null,
   "input_path": "eBay_Overview.ipynb",
   "output_path": "eBay_Overview.ipynb",
   "parameters": {},
   "start_time": "2021-12-07T14:30:05.124281",
   "version": "2.3.3"
  }
 },
 "nbformat": 4,
 "nbformat_minor": 5
}