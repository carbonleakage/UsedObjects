{
 "cells": [
  {
   "cell_type": "code",
   "execution_count": 1,
   "id": "reverse-picking",
   "metadata": {
    "execution": {
     "iopub.execute_input": "2021-10-19T03:00:07.312558Z",
     "iopub.status.busy": "2021-10-19T03:00:07.310628Z",
     "iopub.status.idle": "2021-10-19T03:00:08.116369Z",
     "shell.execute_reply": "2021-10-19T03:00:08.117770Z"
    },
    "papermill": {
     "duration": 0.857584,
     "end_time": "2021-10-19T03:00:08.118435",
     "exception": false,
     "start_time": "2021-10-19T03:00:07.260851",
     "status": "completed"
    },
    "tags": []
   },
   "outputs": [],
   "source": [
    "import pandas as pd\n",
    "import sqlite3"
   ]
  },
  {
   "cell_type": "code",
   "execution_count": 2,
   "id": "innovative-syndrome",
   "metadata": {
    "execution": {
     "iopub.execute_input": "2021-10-19T03:00:08.168805Z",
     "iopub.status.busy": "2021-10-19T03:00:08.166770Z",
     "iopub.status.idle": "2021-10-19T03:00:08.745273Z",
     "shell.execute_reply": "2021-10-19T03:00:08.746514Z"
    },
    "papermill": {
     "duration": 0.608283,
     "end_time": "2021-10-19T03:00:08.746920",
     "exception": false,
     "start_time": "2021-10-19T03:00:08.138637",
     "status": "completed"
    },
    "tags": []
   },
   "outputs": [],
   "source": [
    "timestamps = pd.read_sql(\"select distinct record_time from EBAY_TOP_BERLIN order by record_time desc limit 2\", sqlite3.connect(\"UsedObjects.db\"))"
   ]
  },
  {
   "cell_type": "code",
   "execution_count": 3,
   "id": "periodic-identification",
   "metadata": {
    "execution": {
     "iopub.execute_input": "2021-10-19T03:00:08.827327Z",
     "iopub.status.busy": "2021-10-19T03:00:08.825315Z",
     "iopub.status.idle": "2021-10-19T03:00:08.847925Z",
     "shell.execute_reply": "2021-10-19T03:00:08.849849Z"
    },
    "papermill": {
     "duration": 0.072352,
     "end_time": "2021-10-19T03:00:08.850432",
     "exception": false,
     "start_time": "2021-10-19T03:00:08.778080",
     "status": "completed"
    },
    "tags": []
   },
   "outputs": [
    {
     "data": {
      "text/html": [
       "<div>\n",
       "<style scoped>\n",
       "    .dataframe tbody tr th:only-of-type {\n",
       "        vertical-align: middle;\n",
       "    }\n",
       "\n",
       "    .dataframe tbody tr th {\n",
       "        vertical-align: top;\n",
       "    }\n",
       "\n",
       "    .dataframe thead th {\n",
       "        text-align: right;\n",
       "    }\n",
       "</style>\n",
       "<table border=\"1\" class=\"dataframe\">\n",
       "  <thead>\n",
       "    <tr style=\"text-align: right;\">\n",
       "      <th></th>\n",
       "      <th>RECORD_TIME</th>\n",
       "    </tr>\n",
       "  </thead>\n",
       "  <tbody>\n",
       "    <tr>\n",
       "      <th>0</th>\n",
       "      <td>2021-10-19 05:00</td>\n",
       "    </tr>\n",
       "    <tr>\n",
       "      <th>1</th>\n",
       "      <td>2021-10-19 04:30</td>\n",
       "    </tr>\n",
       "  </tbody>\n",
       "</table>\n",
       "</div>"
      ],
      "text/plain": [
       "        RECORD_TIME\n",
       "0  2021-10-19 05:00\n",
       "1  2021-10-19 04:30"
      ]
     },
     "execution_count": 3,
     "metadata": {},
     "output_type": "execute_result"
    }
   ],
   "source": [
    "timestamps"
   ]
  },
  {
   "cell_type": "code",
   "execution_count": 4,
   "id": "alternate-victory",
   "metadata": {
    "execution": {
     "iopub.execute_input": "2021-10-19T03:00:08.903058Z",
     "iopub.status.busy": "2021-10-19T03:00:08.901200Z",
     "iopub.status.idle": "2021-10-19T03:00:09.760989Z",
     "shell.execute_reply": "2021-10-19T03:00:09.762452Z"
    },
    "papermill": {
     "duration": 0.889682,
     "end_time": "2021-10-19T03:00:09.762893",
     "exception": false,
     "start_time": "2021-10-19T03:00:08.873211",
     "status": "completed"
    },
    "tags": []
   },
   "outputs": [],
   "source": [
    "df = pd.read_sql(\"select * from EBAY_TOP_BERLIN where record_time in (select distinct record_time from EBAY_TOP_BERLIN order by record_time desc limit 2)\", sqlite3.connect(\"UsedObjects.db\"))"
   ]
  },
  {
   "cell_type": "code",
   "execution_count": 5,
   "id": "popular-active",
   "metadata": {
    "execution": {
     "iopub.execute_input": "2021-10-19T03:00:09.830967Z",
     "iopub.status.busy": "2021-10-19T03:00:09.819368Z",
     "iopub.status.idle": "2021-10-19T03:00:09.846694Z",
     "shell.execute_reply": "2021-10-19T03:00:09.847925Z"
    },
    "papermill": {
     "duration": 0.065401,
     "end_time": "2021-10-19T03:00:09.848320",
     "exception": false,
     "start_time": "2021-10-19T03:00:09.782919",
     "status": "completed"
    },
    "tags": []
   },
   "outputs": [],
   "source": [
    "df_pivot = df.pivot_table(index=\"PRODUCT\", columns = \"RECORD_TIME\", values = \"LISTING_COUNT\")"
   ]
  },
  {
   "cell_type": "code",
   "execution_count": 6,
   "id": "union-huntington",
   "metadata": {
    "execution": {
     "iopub.execute_input": "2021-10-19T03:00:09.907758Z",
     "iopub.status.busy": "2021-10-19T03:00:09.905284Z",
     "iopub.status.idle": "2021-10-19T03:00:09.911174Z",
     "shell.execute_reply": "2021-10-19T03:00:09.912640Z"
    },
    "papermill": {
     "duration": 0.042369,
     "end_time": "2021-10-19T03:00:09.913163",
     "exception": false,
     "start_time": "2021-10-19T03:00:09.870794",
     "status": "completed"
    },
    "tags": []
   },
   "outputs": [],
   "source": [
    "df_pivot.columns = [\"stamp_1\", \"stamp_2\"]\n",
    "df_pivot_diff = df_pivot.diff(axis=1)"
   ]
  },
  {
   "cell_type": "code",
   "execution_count": 7,
   "id": "fifth-motion",
   "metadata": {
    "execution": {
     "iopub.execute_input": "2021-10-19T03:00:09.968032Z",
     "iopub.status.busy": "2021-10-19T03:00:09.965633Z",
     "iopub.status.idle": "2021-10-19T03:00:11.441423Z",
     "shell.execute_reply": "2021-10-19T03:00:11.442798Z"
    },
    "papermill": {
     "duration": 1.508686,
     "end_time": "2021-10-19T03:00:11.443220",
     "exception": false,
     "start_time": "2021-10-19T03:00:09.934534",
     "status": "completed"
    },
    "tags": []
   },
   "outputs": [
    {
     "data": {
      "text/plain": [
       "<AxesSubplot:ylabel='PRODUCT'>"
      ]
     },
     "execution_count": 7,
     "metadata": {},
     "output_type": "execute_result"
    },
    {
     "data": {
      "image/png": "[encoded data removed]",
      "text/plain": [
       "<Figure size 432x288 with 1 Axes>"
      ]
     },
     "metadata": {
      "needs_background": "light"
     },
     "output_type": "display_data"
    }
   ],
   "source": [
    "df_pivot_diff.sort_values(\"stamp_2\", ascending = False)[\"stamp_2\"].head(10).plot.barh()"
   ]
  },
  {
   "cell_type": "code",
   "execution_count": null,
   "id": "extra-executive",
   "metadata": {
    "papermill": {
     "duration": 0.02206,
     "end_time": "2021-10-19T03:00:11.489119",
     "exception": false,
     "start_time": "2021-10-19T03:00:11.467059",
     "status": "completed"
    },
    "tags": []
   },
   "outputs": [],
   "source": []
  }
 ],
 "metadata": {
  "kernelspec": {
   "display_name": "Python 3",
   "language": "python",
   "name": "python3"
  },
  "language_info": {
   "codemirror_mode": {
    "name": "ipython",
    "version": 3
   },
   "file_extension": ".py",
   "mimetype": "text/x-python",
   "name": "python",
   "nbconvert_exporter": "python",
   "pygments_lexer": "ipython3",
   "version": "3.9.5"
  },
  "papermill": {
   "default_parameters": {},
   "duration": 7.819457,
   "end_time": "2021-10-19T03:00:12.677062",
   "environment_variables": {},
   "exception": null,
   "input_path": "eBay_Overview.ipynb",
   "output_path": "eBay_Overview.ipynb",
   "parameters": {},
   "start_time": "2021-10-19T03:00:04.857605",
   "version": "2.3.3"
  }
 },
 "nbformat": 4,
 "nbformat_minor": 5
}