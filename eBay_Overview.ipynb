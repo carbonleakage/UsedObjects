{
 "cells": [
  {
   "cell_type": "code",
   "execution_count": 1,
   "id": "reverse-picking",
   "metadata": {
    "execution": {
     "iopub.execute_input": "2021-12-15T00:00:07.731717Z",
     "iopub.status.busy": "2021-12-15T00:00:07.729547Z",
     "iopub.status.idle": "2021-12-15T00:00:08.682051Z",
     "shell.execute_reply": "2021-12-15T00:00:08.683567Z"
    },
    "papermill": {
     "duration": 1.001161,
     "end_time": "2021-12-15T00:00:08.684310",
     "exception": false,
     "start_time": "2021-12-15T00:00:07.683149",
     "status": "completed"
    },
    "tags": []
   },
   "outputs": [],
   "source": [
    "import pandas as pd\n",
    "import sqlite3"
   ]
  },
  {
   "cell_type": "code",
   "execution_count": 2,
   "id": "innovative-syndrome",
   "metadata": {
    "execution": {
     "iopub.execute_input": "2021-12-15T00:00:08.754877Z",
     "iopub.status.busy": "2021-12-15T00:00:08.752548Z",
     "iopub.status.idle": "2021-12-15T00:00:09.841315Z",
     "shell.execute_reply": "2021-12-15T00:00:09.842933Z"
    },
    "papermill": {
     "duration": 1.123124,
     "end_time": "2021-12-15T00:00:09.843419",
     "exception": false,
     "start_time": "2021-12-15T00:00:08.720295",
     "status": "completed"
    },
    "tags": []
   },
   "outputs": [],
   "source": [
    "timestamps = pd.read_sql(\"select distinct record_time from EBAY_TOP_BERLIN order by record_time desc limit 2\", sqlite3.connect(\"UsedObjects.db\"))"
   ]
  },
  {
   "cell_type": "code",
   "execution_count": 3,
   "id": "periodic-identification",
   "metadata": {
    "execution": {
     "iopub.execute_input": "2021-12-15T00:00:09.918554Z",
     "iopub.status.busy": "2021-12-15T00:00:09.916045Z",
     "iopub.status.idle": "2021-12-15T00:00:09.938710Z",
     "shell.execute_reply": "2021-12-15T00:00:09.940495Z"
    },
    "papermill": {
     "duration": 0.077057,
     "end_time": "2021-12-15T00:00:09.941090",
     "exception": false,
     "start_time": "2021-12-15T00:00:09.864033",
     "status": "completed"
    },
    "tags": []
   },
   "outputs": [
    {
     "data": {
      "text/html": [
       "<div>\n",
       "<style scoped>\n",
       "    .dataframe tbody tr th:only-of-type {\n",
       "        vertical-align: middle;\n",
       "    }\n",
       "\n",
       "    .dataframe tbody tr th {\n",
       "        vertical-align: top;\n",
       "    }\n",
       "\n",
       "    .dataframe thead th {\n",
       "        text-align: right;\n",
       "    }\n",
       "</style>\n",
       "<table border=\"1\" class=\"dataframe\">\n",
       "  <thead>\n",
       "    <tr style=\"text-align: right;\">\n",
       "      <th></th>\n",
       "      <th>RECORD_TIME</th>\n",
       "    </tr>\n",
       "  </thead>\n",
       "  <tbody>\n",
       "    <tr>\n",
       "      <th>0</th>\n",
       "      <td>2021-12-15 01:00</td>\n",
       "    </tr>\n",
       "    <tr>\n",
       "      <th>1</th>\n",
       "      <td>2021-12-15 00:30</td>\n",
       "    </tr>\n",
       "  </tbody>\n",
       "</table>\n",
       "</div>"
      ],
      "text/plain": [
       "        RECORD_TIME\n",
       "0  2021-12-15 01:00\n",
       "1  2021-12-15 00:30"
      ]
     },
     "execution_count": 3,
     "metadata": {},
     "output_type": "execute_result"
    }
   ],
   "source": [
    "timestamps"
   ]
  },
  {
   "cell_type": "code",
   "execution_count": 4,
   "id": "alternate-victory",
   "metadata": {
    "execution": {
     "iopub.execute_input": "2021-12-15T00:00:09.997665Z",
     "iopub.status.busy": "2021-12-15T00:00:09.995493Z",
     "iopub.status.idle": "2021-12-15T00:00:11.589429Z",
     "shell.execute_reply": "2021-12-15T00:00:11.590952Z"
    },
    "papermill": {
     "duration": 1.627903,
     "end_time": "2021-12-15T00:00:11.591432",
     "exception": false,
     "start_time": "2021-12-15T00:00:09.963529",
     "status": "completed"
    },
    "tags": []
   },
   "outputs": [],
   "source": [
    "df = pd.read_sql(\"select * from EBAY_TOP_BERLIN where record_time in (select distinct record_time from EBAY_TOP_BERLIN order by record_time desc limit 2)\", sqlite3.connect(\"UsedObjects.db\"))"
   ]
  },
  {
   "cell_type": "code",
   "execution_count": 5,
   "id": "popular-active",
   "metadata": {
    "execution": {
     "iopub.execute_input": "2021-12-15T00:00:11.664363Z",
     "iopub.status.busy": "2021-12-15T00:00:11.662147Z",
     "iopub.status.idle": "2021-12-15T00:00:11.687087Z",
     "shell.execute_reply": "2021-12-15T00:00:11.688513Z"
    },
    "papermill": {
     "duration": 0.075697,
     "end_time": "2021-12-15T00:00:11.689025",
     "exception": false,
     "start_time": "2021-12-15T00:00:11.613328",
     "status": "completed"
    },
    "tags": []
   },
   "outputs": [],
   "source": [
    "df_pivot = df.pivot_table(index=\"PRODUCT\", columns = \"RECORD_TIME\", values = \"LISTING_COUNT\")"
   ]
  },
  {
   "cell_type": "code",
   "execution_count": 6,
   "id": "union-huntington",
   "metadata": {
    "execution": {
     "iopub.execute_input": "2021-12-15T00:00:11.747333Z",
     "iopub.status.busy": "2021-12-15T00:00:11.745155Z",
     "iopub.status.idle": "2021-12-15T00:00:11.750777Z",
     "shell.execute_reply": "2021-12-15T00:00:11.752082Z"
    },
    "papermill": {
     "duration": 0.043578,
     "end_time": "2021-12-15T00:00:11.752544",
     "exception": false,
     "start_time": "2021-12-15T00:00:11.708966",
     "status": "completed"
    },
    "tags": []
   },
   "outputs": [],
   "source": [
    "df_pivot.columns = [\"stamp_1\", \"stamp_2\"]\n",
    "df_pivot_diff = df_pivot.diff(axis=1)"
   ]
  },
  {
   "cell_type": "code",
   "execution_count": 7,
   "id": "fifth-motion",
   "metadata": {
    "execution": {
     "iopub.execute_input": "2021-12-15T00:00:11.816914Z",
     "iopub.status.busy": "2021-12-15T00:00:11.814417Z",
     "iopub.status.idle": "2021-12-15T00:00:13.763488Z",
     "shell.execute_reply": "2021-12-15T00:00:13.766730Z"
    },
    "papermill": {
     "duration": 1.99006,
     "end_time": "2021-12-15T00:00:13.767517",
     "exception": false,
     "start_time": "2021-12-15T00:00:11.777457",
     "status": "completed"
    },
    "tags": []
   },
   "outputs": [
    {
     "data": {
      "text/plain": [
       "<AxesSubplot:ylabel='PRODUCT'>"
      ]
     },
     "execution_count": 7,
     "metadata": {},
     "output_type": "execute_result"
    },
    {
     "data": {
      "image/png": "[encoded data removed]",
      "text/plain": [
       "<Figure size 432x288 with 1 Axes>"
      ]
     },
     "metadata": {
      "needs_background": "light"
     },
     "output_type": "display_data"
    }
   ],
   "source": [
    "df_pivot_diff.sort_values(\"stamp_2\", ascending = False)[\"stamp_2\"].head(10).plot.barh()"
   ]
  },
  {
   "cell_type": "code",
   "execution_count": null,
   "id": "extra-executive",
   "metadata": {
    "papermill": {
     "duration": 0.0297,
     "end_time": "2021-12-15T00:00:13.839986",
     "exception": false,
     "start_time": "2021-12-15T00:00:13.810286",
     "status": "completed"
    },
    "tags": []
   },
   "outputs": [],
   "source": []
  }
 ],
 "metadata": {
  "kernelspec": {
   "display_name": "Python 3",
   "language": "python",
   "name": "python3"
  },
  "language_info": {
   "codemirror_mode": {
    "name": "ipython",
    "version": 3
   },
   "file_extension": ".py",
   "mimetype": "text/x-python",
   "name": "python",
   "nbconvert_exporter": "python",
   "pygments_lexer": "ipython3",
   "version": "3.9.5"
  },
  "papermill": {
   "default_parameters": {},
   "duration": 9.694466,
   "end_time": "2021-12-15T00:00:14.596369",
   "environment_variables": {},
   "exception": null,
   "input_path": "eBay_Overview.ipynb",
   "output_path": "eBay_Overview.ipynb",
   "parameters": {},
   "start_time": "2021-12-15T00:00:04.901903",
   "version": "2.3.3"
  }
 },
 "nbformat": 4,
 "nbformat_minor": 5
}