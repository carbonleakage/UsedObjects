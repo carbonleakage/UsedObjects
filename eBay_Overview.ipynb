{
 "cells": [
  {
   "cell_type": "code",
   "execution_count": 1,
   "id": "reverse-picking",
   "metadata": {
    "execution": {
     "iopub.execute_input": "2021-10-10T13:00:06.689198Z",
     "iopub.status.busy": "2021-10-10T13:00:06.687231Z",
     "iopub.status.idle": "2021-10-10T13:00:07.491405Z",
     "shell.execute_reply": "2021-10-10T13:00:07.492692Z"
    },
    "papermill": {
     "duration": 0.85689,
     "end_time": "2021-10-10T13:00:07.493305",
     "exception": false,
     "start_time": "2021-10-10T13:00:06.636415",
     "status": "completed"
    },
    "tags": []
   },
   "outputs": [],
   "source": [
    "import pandas as pd\n",
    "import sqlite3"
   ]
  },
  {
   "cell_type": "code",
   "execution_count": 2,
   "id": "innovative-syndrome",
   "metadata": {
    "execution": {
     "iopub.execute_input": "2021-10-10T13:00:07.543686Z",
     "iopub.status.busy": "2021-10-10T13:00:07.541710Z",
     "iopub.status.idle": "2021-10-10T13:00:08.042009Z",
     "shell.execute_reply": "2021-10-10T13:00:08.043310Z"
    },
    "papermill": {
     "duration": 0.529854,
     "end_time": "2021-10-10T13:00:08.043768",
     "exception": false,
     "start_time": "2021-10-10T13:00:07.513914",
     "status": "completed"
    },
    "tags": []
   },
   "outputs": [],
   "source": [
    "timestamps = pd.read_sql(\"select distinct record_time from EBAY_TOP_BERLIN order by record_time desc limit 2\", sqlite3.connect(\"UsedObjects.db\"))"
   ]
  },
  {
   "cell_type": "code",
   "execution_count": 3,
   "id": "periodic-identification",
   "metadata": {
    "execution": {
     "iopub.execute_input": "2021-10-10T13:00:08.111652Z",
     "iopub.status.busy": "2021-10-10T13:00:08.109554Z",
     "iopub.status.idle": "2021-10-10T13:00:08.129157Z",
     "shell.execute_reply": "2021-10-10T13:00:08.130525Z"
    },
    "papermill": {
     "duration": 0.064799,
     "end_time": "2021-10-10T13:00:08.131021",
     "exception": false,
     "start_time": "2021-10-10T13:00:08.066222",
     "status": "completed"
    },
    "tags": []
   },
   "outputs": [
    {
     "data": {
      "text/html": [
       "<div>\n",
       "<style scoped>\n",
       "    .dataframe tbody tr th:only-of-type {\n",
       "        vertical-align: middle;\n",
       "    }\n",
       "\n",
       "    .dataframe tbody tr th {\n",
       "        vertical-align: top;\n",
       "    }\n",
       "\n",
       "    .dataframe thead th {\n",
       "        text-align: right;\n",
       "    }\n",
       "</style>\n",
       "<table border=\"1\" class=\"dataframe\">\n",
       "  <thead>\n",
       "    <tr style=\"text-align: right;\">\n",
       "      <th></th>\n",
       "      <th>RECORD_TIME</th>\n",
       "    </tr>\n",
       "  </thead>\n",
       "  <tbody>\n",
       "    <tr>\n",
       "      <th>0</th>\n",
       "      <td>2021-10-10 15:00</td>\n",
       "    </tr>\n",
       "    <tr>\n",
       "      <th>1</th>\n",
       "      <td>2021-10-10 14:30</td>\n",
       "    </tr>\n",
       "  </tbody>\n",
       "</table>\n",
       "</div>"
      ],
      "text/plain": [
       "        RECORD_TIME\n",
       "0  2021-10-10 15:00\n",
       "1  2021-10-10 14:30"
      ]
     },
     "execution_count": 3,
     "metadata": {},
     "output_type": "execute_result"
    }
   ],
   "source": [
    "timestamps"
   ]
  },
  {
   "cell_type": "code",
   "execution_count": 4,
   "id": "alternate-victory",
   "metadata": {
    "execution": {
     "iopub.execute_input": "2021-10-10T13:00:08.192312Z",
     "iopub.status.busy": "2021-10-10T13:00:08.189886Z",
     "iopub.status.idle": "2021-10-10T13:00:08.926735Z",
     "shell.execute_reply": "2021-10-10T13:00:08.928200Z"
    },
    "papermill": {
     "duration": 0.770917,
     "end_time": "2021-10-10T13:00:08.928624",
     "exception": false,
     "start_time": "2021-10-10T13:00:08.157707",
     "status": "completed"
    },
    "tags": []
   },
   "outputs": [],
   "source": [
    "df = pd.read_sql(\"select * from EBAY_TOP_BERLIN where record_time in (select distinct record_time from EBAY_TOP_BERLIN order by record_time desc limit 2)\", sqlite3.connect(\"UsedObjects.db\"))"
   ]
  },
  {
   "cell_type": "code",
   "execution_count": 5,
   "id": "popular-active",
   "metadata": {
    "execution": {
     "iopub.execute_input": "2021-10-10T13:00:09.000225Z",
     "iopub.status.busy": "2021-10-10T13:00:08.988274Z",
     "iopub.status.idle": "2021-10-10T13:00:09.015583Z",
     "shell.execute_reply": "2021-10-10T13:00:09.016826Z"
    },
    "papermill": {
     "duration": 0.067901,
     "end_time": "2021-10-10T13:00:09.017217",
     "exception": false,
     "start_time": "2021-10-10T13:00:08.949316",
     "status": "completed"
    },
    "tags": []
   },
   "outputs": [],
   "source": [
    "df_pivot = df.pivot_table(index=\"PRODUCT\", columns = \"RECORD_TIME\", values = \"LISTING_COUNT\")"
   ]
  },
  {
   "cell_type": "code",
   "execution_count": 6,
   "id": "union-huntington",
   "metadata": {
    "execution": {
     "iopub.execute_input": "2021-10-10T13:00:09.073806Z",
     "iopub.status.busy": "2021-10-10T13:00:09.071767Z",
     "iopub.status.idle": "2021-10-10T13:00:09.077098Z",
     "shell.execute_reply": "2021-10-10T13:00:09.078380Z"
    },
    "papermill": {
     "duration": 0.040858,
     "end_time": "2021-10-10T13:00:09.078974",
     "exception": false,
     "start_time": "2021-10-10T13:00:09.038116",
     "status": "completed"
    },
    "tags": []
   },
   "outputs": [],
   "source": [
    "df_pivot.columns = [\"stamp_1\", \"stamp_2\"]\n",
    "df_pivot_diff = df_pivot.diff(axis=1)"
   ]
  },
  {
   "cell_type": "code",
   "execution_count": 7,
   "id": "fifth-motion",
   "metadata": {
    "execution": {
     "iopub.execute_input": "2021-10-10T13:00:09.136418Z",
     "iopub.status.busy": "2021-10-10T13:00:09.133859Z",
     "iopub.status.idle": "2021-10-10T13:00:10.621987Z",
     "shell.execute_reply": "2021-10-10T13:00:10.624108Z"
    },
    "papermill": {
     "duration": 1.522756,
     "end_time": "2021-10-10T13:00:10.624674",
     "exception": false,
     "start_time": "2021-10-10T13:00:09.101918",
     "status": "completed"
    },
    "tags": []
   },
   "outputs": [
    {
     "data": {
      "text/plain": [
       "<AxesSubplot:ylabel='PRODUCT'>"
      ]
     },
     "execution_count": 7,
     "metadata": {},
     "output_type": "execute_result"
    },
    {
     "data": {
      "image/png": "[encoded data removed]",
      "text/plain": [
       "<Figure size 432x288 with 1 Axes>"
      ]
     },
     "metadata": {
      "needs_background": "light"
     },
     "output_type": "display_data"
    }
   ],
   "source": [
    "df_pivot_diff.sort_values(\"stamp_2\", ascending = False)[\"stamp_2\"].head(10).plot.barh()"
   ]
  },
  {
   "cell_type": "code",
   "execution_count": null,
   "id": "extra-executive",
   "metadata": {
    "papermill": {
     "duration": 0.022653,
     "end_time": "2021-10-10T13:00:10.671926",
     "exception": false,
     "start_time": "2021-10-10T13:00:10.649273",
     "status": "completed"
    },
    "tags": []
   },
   "outputs": [],
   "source": []
  }
 ],
 "metadata": {
  "kernelspec": {
   "display_name": "Python 3",
   "language": "python",
   "name": "python3"
  },
  "language_info": {
   "codemirror_mode": {
    "name": "ipython",
    "version": 3
   },
   "file_extension": ".py",
   "mimetype": "text/x-python",
   "name": "python",
   "nbconvert_exporter": "python",
   "pygments_lexer": "ipython3",
   "version": "3.9.5"
  },
  "papermill": {
   "default_parameters": {},
   "duration": 7.840167,
   "end_time": "2021-10-10T13:00:12.060857",
   "environment_variables": {},
   "exception": null,
   "input_path": "eBay_Overview.ipynb",
   "output_path": "eBay_Overview.ipynb",
   "parameters": {},
   "start_time": "2021-10-10T13:00:04.220690",
   "version": "2.3.3"
  }
 },
 "nbformat": 4,
 "nbformat_minor": 5
}