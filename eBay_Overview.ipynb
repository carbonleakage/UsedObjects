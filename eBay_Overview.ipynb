{
 "cells": [
  {
   "cell_type": "code",
   "execution_count": 1,
   "id": "reverse-picking",
   "metadata": {
    "execution": {
     "iopub.execute_input": "2021-11-13T16:30:07.299138Z",
     "iopub.status.busy": "2021-11-13T16:30:07.296737Z",
     "iopub.status.idle": "2021-11-13T16:30:08.203014Z",
     "shell.execute_reply": "2021-11-13T16:30:08.204554Z"
    },
    "papermill": {
     "duration": 0.955635,
     "end_time": "2021-11-13T16:30:08.205343",
     "exception": false,
     "start_time": "2021-11-13T16:30:07.249708",
     "status": "completed"
    },
    "tags": []
   },
   "outputs": [],
   "source": [
    "import pandas as pd\n",
    "import sqlite3"
   ]
  },
  {
   "cell_type": "code",
   "execution_count": 2,
   "id": "innovative-syndrome",
   "metadata": {
    "execution": {
     "iopub.execute_input": "2021-11-13T16:30:08.266350Z",
     "iopub.status.busy": "2021-11-13T16:30:08.263986Z",
     "iopub.status.idle": "2021-11-13T16:30:09.059565Z",
     "shell.execute_reply": "2021-11-13T16:30:09.061095Z"
    },
    "papermill": {
     "duration": 0.834968,
     "end_time": "2021-11-13T16:30:09.061578",
     "exception": false,
     "start_time": "2021-11-13T16:30:08.226610",
     "status": "completed"
    },
    "tags": []
   },
   "outputs": [],
   "source": [
    "timestamps = pd.read_sql(\"select distinct record_time from EBAY_TOP_BERLIN order by record_time desc limit 2\", sqlite3.connect(\"UsedObjects.db\"))"
   ]
  },
  {
   "cell_type": "code",
   "execution_count": 3,
   "id": "periodic-identification",
   "metadata": {
    "execution": {
     "iopub.execute_input": "2021-11-13T16:30:09.132743Z",
     "iopub.status.busy": "2021-11-13T16:30:09.130389Z",
     "iopub.status.idle": "2021-11-13T16:30:09.156495Z",
     "shell.execute_reply": "2021-11-13T16:30:09.158417Z"
    },
    "papermill": {
     "duration": 0.077464,
     "end_time": "2021-11-13T16:30:09.158899",
     "exception": false,
     "start_time": "2021-11-13T16:30:09.081435",
     "status": "completed"
    },
    "tags": []
   },
   "outputs": [
    {
     "data": {
      "text/html": [
       "<div>\n",
       "<style scoped>\n",
       "    .dataframe tbody tr th:only-of-type {\n",
       "        vertical-align: middle;\n",
       "    }\n",
       "\n",
       "    .dataframe tbody tr th {\n",
       "        vertical-align: top;\n",
       "    }\n",
       "\n",
       "    .dataframe thead th {\n",
       "        text-align: right;\n",
       "    }\n",
       "</style>\n",
       "<table border=\"1\" class=\"dataframe\">\n",
       "  <thead>\n",
       "    <tr style=\"text-align: right;\">\n",
       "      <th></th>\n",
       "      <th>RECORD_TIME</th>\n",
       "    </tr>\n",
       "  </thead>\n",
       "  <tbody>\n",
       "    <tr>\n",
       "      <th>0</th>\n",
       "      <td>2021-11-13 17:30</td>\n",
       "    </tr>\n",
       "    <tr>\n",
       "      <th>1</th>\n",
       "      <td>2021-11-13 17:00</td>\n",
       "    </tr>\n",
       "  </tbody>\n",
       "</table>\n",
       "</div>"
      ],
      "text/plain": [
       "        RECORD_TIME\n",
       "0  2021-11-13 17:30\n",
       "1  2021-11-13 17:00"
      ]
     },
     "execution_count": 3,
     "metadata": {},
     "output_type": "execute_result"
    }
   ],
   "source": [
    "timestamps"
   ]
  },
  {
   "cell_type": "code",
   "execution_count": 4,
   "id": "alternate-victory",
   "metadata": {
    "execution": {
     "iopub.execute_input": "2021-11-13T16:30:09.213761Z",
     "iopub.status.busy": "2021-11-13T16:30:09.211518Z",
     "iopub.status.idle": "2021-11-13T16:30:10.389682Z",
     "shell.execute_reply": "2021-11-13T16:30:10.391820Z"
    },
    "papermill": {
     "duration": 1.212798,
     "end_time": "2021-11-13T16:30:10.392473",
     "exception": false,
     "start_time": "2021-11-13T16:30:09.179675",
     "status": "completed"
    },
    "tags": []
   },
   "outputs": [],
   "source": [
    "df = pd.read_sql(\"select * from EBAY_TOP_BERLIN where record_time in (select distinct record_time from EBAY_TOP_BERLIN order by record_time desc limit 2)\", sqlite3.connect(\"UsedObjects.db\"))"
   ]
  },
  {
   "cell_type": "code",
   "execution_count": 5,
   "id": "popular-active",
   "metadata": {
    "execution": {
     "iopub.execute_input": "2021-11-13T16:30:10.473278Z",
     "iopub.status.busy": "2021-11-13T16:30:10.457613Z",
     "iopub.status.idle": "2021-11-13T16:30:10.492500Z",
     "shell.execute_reply": "2021-11-13T16:30:10.491035Z"
    },
    "papermill": {
     "duration": 0.078254,
     "end_time": "2021-11-13T16:30:10.492993",
     "exception": false,
     "start_time": "2021-11-13T16:30:10.414739",
     "status": "completed"
    },
    "tags": []
   },
   "outputs": [],
   "source": [
    "df_pivot = df.pivot_table(index=\"PRODUCT\", columns = \"RECORD_TIME\", values = \"LISTING_COUNT\")"
   ]
  },
  {
   "cell_type": "code",
   "execution_count": 6,
   "id": "union-huntington",
   "metadata": {
    "execution": {
     "iopub.execute_input": "2021-11-13T16:30:10.551268Z",
     "iopub.status.busy": "2021-11-13T16:30:10.549237Z",
     "iopub.status.idle": "2021-11-13T16:30:10.555238Z",
     "shell.execute_reply": "2021-11-13T16:30:10.556862Z"
    },
    "papermill": {
     "duration": 0.043601,
     "end_time": "2021-11-13T16:30:10.557398",
     "exception": false,
     "start_time": "2021-11-13T16:30:10.513797",
     "status": "completed"
    },
    "tags": []
   },
   "outputs": [],
   "source": [
    "df_pivot.columns = [\"stamp_1\", \"stamp_2\"]\n",
    "df_pivot_diff = df_pivot.diff(axis=1)"
   ]
  },
  {
   "cell_type": "code",
   "execution_count": 7,
   "id": "fifth-motion",
   "metadata": {
    "execution": {
     "iopub.execute_input": "2021-11-13T16:30:10.616672Z",
     "iopub.status.busy": "2021-11-13T16:30:10.614622Z",
     "iopub.status.idle": "2021-11-13T16:30:12.541275Z",
     "shell.execute_reply": "2021-11-13T16:30:12.542651Z"
    },
    "papermill": {
     "duration": 1.96441,
     "end_time": "2021-11-13T16:30:12.543128",
     "exception": false,
     "start_time": "2021-11-13T16:30:10.578718",
     "status": "completed"
    },
    "tags": []
   },
   "outputs": [
    {
     "data": {
      "text/plain": [
       "<AxesSubplot:ylabel='PRODUCT'>"
      ]
     },
     "execution_count": 7,
     "metadata": {},
     "output_type": "execute_result"
    },
    {
     "data": {
      "image/png": "[encoded data removed]",
      "text/plain": [
       "<Figure size 432x288 with 1 Axes>"
      ]
     },
     "metadata": {
      "needs_background": "light"
     },
     "output_type": "display_data"
    }
   ],
   "source": [
    "df_pivot_diff.sort_values(\"stamp_2\", ascending = False)[\"stamp_2\"].head(10).plot.barh()"
   ]
  },
  {
   "cell_type": "code",
   "execution_count": null,
   "id": "extra-executive",
   "metadata": {
    "papermill": {
     "duration": 0.02387,
     "end_time": "2021-11-13T16:30:12.591131",
     "exception": false,
     "start_time": "2021-11-13T16:30:12.567261",
     "status": "completed"
    },
    "tags": []
   },
   "outputs": [],
   "source": []
  }
 ],
 "metadata": {
  "kernelspec": {
   "display_name": "Python 3",
   "language": "python",
   "name": "python3"
  },
  "language_info": {
   "codemirror_mode": {
    "name": "ipython",
    "version": 3
   },
   "file_extension": ".py",
   "mimetype": "text/x-python",
   "name": "python",
   "nbconvert_exporter": "python",
   "pygments_lexer": "ipython3",
   "version": "3.9.5"
  },
  "papermill": {
   "default_parameters": {},
   "duration": 8.893193,
   "end_time": "2021-11-13T16:30:13.440265",
   "environment_variables": {},
   "exception": null,
   "input_path": "eBay_Overview.ipynb",
   "output_path": "eBay_Overview.ipynb",
   "parameters": {},
   "start_time": "2021-11-13T16:30:04.547072",
   "version": "2.3.3"
  }
 },
 "nbformat": 4,
 "nbformat_minor": 5
}