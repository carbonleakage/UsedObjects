{
 "cells": [
  {
   "cell_type": "code",
   "execution_count": 1,
   "id": "reverse-picking",
   "metadata": {
    "execution": {
     "iopub.execute_input": "2021-10-02T21:00:07.116786Z",
     "iopub.status.busy": "2021-10-02T21:00:07.114863Z",
     "iopub.status.idle": "2021-10-02T21:00:07.919816Z",
     "shell.execute_reply": "2021-10-02T21:00:07.921087Z"
    },
    "papermill": {
     "duration": 0.856598,
     "end_time": "2021-10-02T21:00:07.921708",
     "exception": false,
     "start_time": "2021-10-02T21:00:07.065110",
     "status": "completed"
    },
    "tags": []
   },
   "outputs": [],
   "source": [
    "import pandas as pd\n",
    "import sqlite3"
   ]
  },
  {
   "cell_type": "code",
   "execution_count": 2,
   "id": "innovative-syndrome",
   "metadata": {
    "execution": {
     "iopub.execute_input": "2021-10-02T21:00:07.972333Z",
     "iopub.status.busy": "2021-10-02T21:00:07.970388Z",
     "iopub.status.idle": "2021-10-02T21:00:08.414118Z",
     "shell.execute_reply": "2021-10-02T21:00:08.415511Z"
    },
    "papermill": {
     "duration": 0.473338,
     "end_time": "2021-10-02T21:00:08.415926",
     "exception": false,
     "start_time": "2021-10-02T21:00:07.942588",
     "status": "completed"
    },
    "tags": []
   },
   "outputs": [],
   "source": [
    "timestamps = pd.read_sql(\"select distinct record_time from EBAY_TOP_BERLIN order by record_time desc limit 2\", sqlite3.connect(\"UsedObjects.db\"))"
   ]
  },
  {
   "cell_type": "code",
   "execution_count": 3,
   "id": "periodic-identification",
   "metadata": {
    "execution": {
     "iopub.execute_input": "2021-10-02T21:00:08.484397Z",
     "iopub.status.busy": "2021-10-02T21:00:08.481943Z",
     "iopub.status.idle": "2021-10-02T21:00:08.502860Z",
     "shell.execute_reply": "2021-10-02T21:00:08.504159Z"
    },
    "papermill": {
     "duration": 0.067897,
     "end_time": "2021-10-02T21:00:08.504580",
     "exception": false,
     "start_time": "2021-10-02T21:00:08.436683",
     "status": "completed"
    },
    "tags": []
   },
   "outputs": [
    {
     "data": {
      "text/html": [
       "<div>\n",
       "<style scoped>\n",
       "    .dataframe tbody tr th:only-of-type {\n",
       "        vertical-align: middle;\n",
       "    }\n",
       "\n",
       "    .dataframe tbody tr th {\n",
       "        vertical-align: top;\n",
       "    }\n",
       "\n",
       "    .dataframe thead th {\n",
       "        text-align: right;\n",
       "    }\n",
       "</style>\n",
       "<table border=\"1\" class=\"dataframe\">\n",
       "  <thead>\n",
       "    <tr style=\"text-align: right;\">\n",
       "      <th></th>\n",
       "      <th>RECORD_TIME</th>\n",
       "    </tr>\n",
       "  </thead>\n",
       "  <tbody>\n",
       "    <tr>\n",
       "      <th>0</th>\n",
       "      <td>2021-10-02 23:00</td>\n",
       "    </tr>\n",
       "    <tr>\n",
       "      <th>1</th>\n",
       "      <td>2021-10-02 22:30</td>\n",
       "    </tr>\n",
       "  </tbody>\n",
       "</table>\n",
       "</div>"
      ],
      "text/plain": [
       "        RECORD_TIME\n",
       "0  2021-10-02 23:00\n",
       "1  2021-10-02 22:30"
      ]
     },
     "execution_count": 3,
     "metadata": {},
     "output_type": "execute_result"
    }
   ],
   "source": [
    "timestamps"
   ]
  },
  {
   "cell_type": "code",
   "execution_count": 4,
   "id": "alternate-victory",
   "metadata": {
    "execution": {
     "iopub.execute_input": "2021-10-02T21:00:08.586327Z",
     "iopub.status.busy": "2021-10-02T21:00:08.584174Z",
     "iopub.status.idle": "2021-10-02T21:00:09.258147Z",
     "shell.execute_reply": "2021-10-02T21:00:09.259423Z"
    },
    "papermill": {
     "duration": 0.734143,
     "end_time": "2021-10-02T21:00:09.259820",
     "exception": false,
     "start_time": "2021-10-02T21:00:08.525677",
     "status": "completed"
    },
    "tags": []
   },
   "outputs": [],
   "source": [
    "df = pd.read_sql(\"select * from EBAY_TOP_BERLIN where record_time in (select distinct record_time from EBAY_TOP_BERLIN order by record_time desc limit 2)\", sqlite3.connect(\"UsedObjects.db\"))"
   ]
  },
  {
   "cell_type": "code",
   "execution_count": 5,
   "id": "popular-active",
   "metadata": {
    "execution": {
     "iopub.execute_input": "2021-10-02T21:00:09.330843Z",
     "iopub.status.busy": "2021-10-02T21:00:09.318397Z",
     "iopub.status.idle": "2021-10-02T21:00:09.347567Z",
     "shell.execute_reply": "2021-10-02T21:00:09.348846Z"
    },
    "papermill": {
     "duration": 0.068764,
     "end_time": "2021-10-02T21:00:09.349260",
     "exception": false,
     "start_time": "2021-10-02T21:00:09.280496",
     "status": "completed"
    },
    "tags": []
   },
   "outputs": [],
   "source": [
    "df_pivot = df.pivot_table(index=\"PRODUCT\", columns = \"RECORD_TIME\", values = \"LISTING_COUNT\")"
   ]
  },
  {
   "cell_type": "code",
   "execution_count": 6,
   "id": "union-huntington",
   "metadata": {
    "execution": {
     "iopub.execute_input": "2021-10-02T21:00:09.405849Z",
     "iopub.status.busy": "2021-10-02T21:00:09.403812Z",
     "iopub.status.idle": "2021-10-02T21:00:09.409029Z",
     "shell.execute_reply": "2021-10-02T21:00:09.410279Z"
    },
    "papermill": {
     "duration": 0.040259,
     "end_time": "2021-10-02T21:00:09.410692",
     "exception": false,
     "start_time": "2021-10-02T21:00:09.370433",
     "status": "completed"
    },
    "tags": []
   },
   "outputs": [],
   "source": [
    "df_pivot.columns = [\"stamp_1\", \"stamp_2\"]\n",
    "df_pivot_diff = df_pivot.diff(axis=1)"
   ]
  },
  {
   "cell_type": "code",
   "execution_count": 7,
   "id": "fifth-motion",
   "metadata": {
    "execution": {
     "iopub.execute_input": "2021-10-02T21:00:09.464672Z",
     "iopub.status.busy": "2021-10-02T21:00:09.462224Z",
     "iopub.status.idle": "2021-10-02T21:00:10.976204Z",
     "shell.execute_reply": "2021-10-02T21:00:10.977478Z"
    },
    "papermill": {
     "duration": 1.546599,
     "end_time": "2021-10-02T21:00:10.977897",
     "exception": false,
     "start_time": "2021-10-02T21:00:09.431298",
     "status": "completed"
    },
    "tags": []
   },
   "outputs": [
    {
     "data": {
      "text/plain": [
       "<AxesSubplot:ylabel='PRODUCT'>"
      ]
     },
     "execution_count": 7,
     "metadata": {},
     "output_type": "execute_result"
    },
    {
     "data": {
      "image/png": "[encoded data removed]",
      "text/plain": [
       "<Figure size 432x288 with 1 Axes>"
      ]
     },
     "metadata": {
      "needs_background": "light"
     },
     "output_type": "display_data"
    }
   ],
   "source": [
    "df_pivot_diff.sort_values(\"stamp_2\", ascending = False)[\"stamp_2\"].head(10).plot.barh()"
   ]
  },
  {
   "cell_type": "code",
   "execution_count": null,
   "id": "extra-executive",
   "metadata": {
    "papermill": {
     "duration": 0.022288,
     "end_time": "2021-10-02T21:00:11.024950",
     "exception": false,
     "start_time": "2021-10-02T21:00:11.002662",
     "status": "completed"
    },
    "tags": []
   },
   "outputs": [],
   "source": []
  }
 ],
 "metadata": {
  "kernelspec": {
   "display_name": "Python 3",
   "language": "python",
   "name": "python3"
  },
  "language_info": {
   "codemirror_mode": {
    "name": "ipython",
    "version": 3
   },
   "file_extension": ".py",
   "mimetype": "text/x-python",
   "name": "python",
   "nbconvert_exporter": "python",
   "pygments_lexer": "ipython3",
   "version": "3.9.5"
  },
  "papermill": {
   "default_parameters": {},
   "duration": 7.823914,
   "end_time": "2021-10-02T21:00:12.487620",
   "environment_variables": {},
   "exception": null,
   "input_path": "eBay_Overview.ipynb",
   "output_path": "eBay_Overview.ipynb",
   "parameters": {},
   "start_time": "2021-10-02T21:00:04.663706",
   "version": "2.3.3"
  }
 },
 "nbformat": 4,
 "nbformat_minor": 5
}