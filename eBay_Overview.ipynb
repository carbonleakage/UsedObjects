{
 "cells": [
  {
   "cell_type": "code",
   "execution_count": 1,
   "id": "reverse-picking",
   "metadata": {
    "execution": {
     "iopub.execute_input": "2021-09-25T08:30:07.193115Z",
     "iopub.status.busy": "2021-09-25T08:30:07.191209Z",
     "iopub.status.idle": "2021-09-25T08:30:07.995211Z",
     "shell.execute_reply": "2021-09-25T08:30:07.996552Z"
    },
    "papermill": {
     "duration": 0.857694,
     "end_time": "2021-09-25T08:30:07.997197",
     "exception": false,
     "start_time": "2021-09-25T08:30:07.139503",
     "status": "completed"
    },
    "tags": []
   },
   "outputs": [],
   "source": [
    "import pandas as pd\n",
    "import sqlite3"
   ]
  },
  {
   "cell_type": "code",
   "execution_count": 2,
   "id": "innovative-syndrome",
   "metadata": {
    "execution": {
     "iopub.execute_input": "2021-09-25T08:30:08.047877Z",
     "iopub.status.busy": "2021-09-25T08:30:08.045864Z",
     "iopub.status.idle": "2021-09-25T08:30:08.422518Z",
     "shell.execute_reply": "2021-09-25T08:30:08.421059Z"
    },
    "papermill": {
     "duration": 0.40476,
     "end_time": "2021-09-25T08:30:08.422951",
     "exception": false,
     "start_time": "2021-09-25T08:30:08.018191",
     "status": "completed"
    },
    "tags": []
   },
   "outputs": [],
   "source": [
    "timestamps = pd.read_sql(\"select distinct record_time from EBAY_TOP_BERLIN order by record_time desc limit 2\", sqlite3.connect(\"UsedObjects.db\"))"
   ]
  },
  {
   "cell_type": "code",
   "execution_count": 3,
   "id": "periodic-identification",
   "metadata": {
    "execution": {
     "iopub.execute_input": "2021-09-25T08:30:08.486210Z",
     "iopub.status.busy": "2021-09-25T08:30:08.484204Z",
     "iopub.status.idle": "2021-09-25T08:30:08.504132Z",
     "shell.execute_reply": "2021-09-25T08:30:08.505442Z"
    },
    "papermill": {
     "duration": 0.062881,
     "end_time": "2021-09-25T08:30:08.505857",
     "exception": false,
     "start_time": "2021-09-25T08:30:08.442976",
     "status": "completed"
    },
    "tags": []
   },
   "outputs": [
    {
     "data": {
      "text/html": [
       "<div>\n",
       "<style scoped>\n",
       "    .dataframe tbody tr th:only-of-type {\n",
       "        vertical-align: middle;\n",
       "    }\n",
       "\n",
       "    .dataframe tbody tr th {\n",
       "        vertical-align: top;\n",
       "    }\n",
       "\n",
       "    .dataframe thead th {\n",
       "        text-align: right;\n",
       "    }\n",
       "</style>\n",
       "<table border=\"1\" class=\"dataframe\">\n",
       "  <thead>\n",
       "    <tr style=\"text-align: right;\">\n",
       "      <th></th>\n",
       "      <th>RECORD_TIME</th>\n",
       "    </tr>\n",
       "  </thead>\n",
       "  <tbody>\n",
       "    <tr>\n",
       "      <th>0</th>\n",
       "      <td>2021-09-25 10:30</td>\n",
       "    </tr>\n",
       "    <tr>\n",
       "      <th>1</th>\n",
       "      <td>2021-09-25 10:00</td>\n",
       "    </tr>\n",
       "  </tbody>\n",
       "</table>\n",
       "</div>"
      ],
      "text/plain": [
       "        RECORD_TIME\n",
       "0  2021-09-25 10:30\n",
       "1  2021-09-25 10:00"
      ]
     },
     "execution_count": 3,
     "metadata": {},
     "output_type": "execute_result"
    }
   ],
   "source": [
    "timestamps"
   ]
  },
  {
   "cell_type": "code",
   "execution_count": 4,
   "id": "alternate-victory",
   "metadata": {
    "execution": {
     "iopub.execute_input": "2021-09-25T08:30:08.556231Z",
     "iopub.status.busy": "2021-09-25T08:30:08.554302Z",
     "iopub.status.idle": "2021-09-25T08:30:09.106400Z",
     "shell.execute_reply": "2021-09-25T08:30:09.108407Z"
    },
    "papermill": {
     "duration": 0.582759,
     "end_time": "2021-09-25T08:30:09.108957",
     "exception": false,
     "start_time": "2021-09-25T08:30:08.526198",
     "status": "completed"
    },
    "tags": []
   },
   "outputs": [],
   "source": [
    "df = pd.read_sql(\"select * from EBAY_TOP_BERLIN where record_time in (select distinct record_time from EBAY_TOP_BERLIN order by record_time desc limit 2)\", sqlite3.connect(\"UsedObjects.db\"))"
   ]
  },
  {
   "cell_type": "code",
   "execution_count": 5,
   "id": "popular-active",
   "metadata": {
    "execution": {
     "iopub.execute_input": "2021-09-25T08:30:09.188021Z",
     "iopub.status.busy": "2021-09-25T08:30:09.175398Z",
     "iopub.status.idle": "2021-09-25T08:30:09.203469Z",
     "shell.execute_reply": "2021-09-25T08:30:09.204692Z"
    },
    "papermill": {
     "duration": 0.07063,
     "end_time": "2021-09-25T08:30:09.205087",
     "exception": false,
     "start_time": "2021-09-25T08:30:09.134457",
     "status": "completed"
    },
    "tags": []
   },
   "outputs": [],
   "source": [
    "df_pivot = df.pivot_table(index=\"PRODUCT\", columns = \"RECORD_TIME\", values = \"LISTING_COUNT\")"
   ]
  },
  {
   "cell_type": "code",
   "execution_count": 6,
   "id": "union-huntington",
   "metadata": {
    "execution": {
     "iopub.execute_input": "2021-09-25T08:30:09.260771Z",
     "iopub.status.busy": "2021-09-25T08:30:09.258695Z",
     "iopub.status.idle": "2021-09-25T08:30:09.263990Z",
     "shell.execute_reply": "2021-09-25T08:30:09.265284Z"
    },
    "papermill": {
     "duration": 0.040082,
     "end_time": "2021-09-25T08:30:09.265697",
     "exception": false,
     "start_time": "2021-09-25T08:30:09.225615",
     "status": "completed"
    },
    "tags": []
   },
   "outputs": [],
   "source": [
    "df_pivot.columns = [\"stamp_1\", \"stamp_2\"]\n",
    "df_pivot_diff = df_pivot.diff(axis=1)"
   ]
  },
  {
   "cell_type": "code",
   "execution_count": 7,
   "id": "fifth-motion",
   "metadata": {
    "execution": {
     "iopub.execute_input": "2021-09-25T08:30:09.320587Z",
     "iopub.status.busy": "2021-09-25T08:30:09.318048Z",
     "iopub.status.idle": "2021-09-25T08:30:10.822542Z",
     "shell.execute_reply": "2021-09-25T08:30:10.824033Z"
    },
    "papermill": {
     "duration": 1.53773,
     "end_time": "2021-09-25T08:30:10.824488",
     "exception": false,
     "start_time": "2021-09-25T08:30:09.286758",
     "status": "completed"
    },
    "tags": []
   },
   "outputs": [
    {
     "data": {
      "text/plain": [
       "<AxesSubplot:ylabel='PRODUCT'>"
      ]
     },
     "execution_count": 7,
     "metadata": {},
     "output_type": "execute_result"
    },
    {
     "data": {
      "image/png": "[encoded data removed]",
      "text/plain": [
       "<Figure size 432x288 with 1 Axes>"
      ]
     },
     "metadata": {
      "needs_background": "light"
     },
     "output_type": "display_data"
    }
   ],
   "source": [
    "df_pivot_diff.sort_values(\"stamp_2\", ascending = False)[\"stamp_2\"].head(10).plot.barh()"
   ]
  },
  {
   "cell_type": "code",
   "execution_count": null,
   "id": "extra-executive",
   "metadata": {
    "papermill": {
     "duration": 0.022064,
     "end_time": "2021-09-25T08:30:10.871107",
     "exception": false,
     "start_time": "2021-09-25T08:30:10.849043",
     "status": "completed"
    },
    "tags": []
   },
   "outputs": [],
   "source": []
  }
 ],
 "metadata": {
  "kernelspec": {
   "display_name": "Python 3",
   "language": "python",
   "name": "python3"
  },
  "language_info": {
   "codemirror_mode": {
    "name": "ipython",
    "version": 3
   },
   "file_extension": ".py",
   "mimetype": "text/x-python",
   "name": "python",
   "nbconvert_exporter": "python",
   "pygments_lexer": "ipython3",
   "version": "3.9.5"
  },
  "papermill": {
   "default_parameters": {},
   "duration": 6.772357,
   "end_time": "2021-09-25T08:30:11.514397",
   "environment_variables": {},
   "exception": null,
   "input_path": "eBay_Overview.ipynb",
   "output_path": "eBay_Overview.ipynb",
   "parameters": {},
   "start_time": "2021-09-25T08:30:04.742040",
   "version": "2.3.3"
  }
 },
 "nbformat": 4,
 "nbformat_minor": 5
}