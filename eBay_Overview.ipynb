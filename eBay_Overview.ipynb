{
 "cells": [
  {
   "cell_type": "code",
   "execution_count": 1,
   "id": "reverse-picking",
   "metadata": {
    "execution": {
     "iopub.execute_input": "2021-09-06T05:30:06.809258Z",
     "iopub.status.busy": "2021-09-06T05:30:06.807285Z",
     "iopub.status.idle": "2021-09-06T05:30:07.612269Z",
     "shell.execute_reply": "2021-09-06T05:30:07.613514Z"
    },
    "papermill": {
     "duration": 0.858504,
     "end_time": "2021-09-06T05:30:07.614117",
     "exception": false,
     "start_time": "2021-09-06T05:30:06.755613",
     "status": "completed"
    },
    "tags": []
   },
   "outputs": [],
   "source": [
    "import pandas as pd\n",
    "import sqlite3"
   ]
  },
  {
   "cell_type": "code",
   "execution_count": 2,
   "id": "innovative-syndrome",
   "metadata": {
    "execution": {
     "iopub.execute_input": "2021-09-06T05:30:07.664850Z",
     "iopub.status.busy": "2021-09-06T05:30:07.662978Z",
     "iopub.status.idle": "2021-09-06T05:30:07.877470Z",
     "shell.execute_reply": "2021-09-06T05:30:07.878654Z"
    },
    "papermill": {
     "duration": 0.244117,
     "end_time": "2021-09-06T05:30:07.879100",
     "exception": false,
     "start_time": "2021-09-06T05:30:07.634983",
     "status": "completed"
    },
    "tags": []
   },
   "outputs": [],
   "source": [
    "timestamps = pd.read_sql(\"select distinct record_time from EBAY_TOP_BERLIN order by record_time desc limit 2\", sqlite3.connect(\"UsedObjects.db\"))"
   ]
  },
  {
   "cell_type": "code",
   "execution_count": 3,
   "id": "periodic-identification",
   "metadata": {
    "execution": {
     "iopub.execute_input": "2021-09-06T05:30:07.945752Z",
     "iopub.status.busy": "2021-09-06T05:30:07.943751Z",
     "iopub.status.idle": "2021-09-06T05:30:07.963150Z",
     "shell.execute_reply": "2021-09-06T05:30:07.964500Z"
    },
    "papermill": {
     "duration": 0.064,
     "end_time": "2021-09-06T05:30:07.964900",
     "exception": false,
     "start_time": "2021-09-06T05:30:07.900900",
     "status": "completed"
    },
    "tags": []
   },
   "outputs": [
    {
     "data": {
      "text/html": [
       "<div>\n",
       "<style scoped>\n",
       "    .dataframe tbody tr th:only-of-type {\n",
       "        vertical-align: middle;\n",
       "    }\n",
       "\n",
       "    .dataframe tbody tr th {\n",
       "        vertical-align: top;\n",
       "    }\n",
       "\n",
       "    .dataframe thead th {\n",
       "        text-align: right;\n",
       "    }\n",
       "</style>\n",
       "<table border=\"1\" class=\"dataframe\">\n",
       "  <thead>\n",
       "    <tr style=\"text-align: right;\">\n",
       "      <th></th>\n",
       "      <th>RECORD_TIME</th>\n",
       "    </tr>\n",
       "  </thead>\n",
       "  <tbody>\n",
       "    <tr>\n",
       "      <th>0</th>\n",
       "      <td>2021-09-06 07:30</td>\n",
       "    </tr>\n",
       "    <tr>\n",
       "      <th>1</th>\n",
       "      <td>2021-09-06 07:00</td>\n",
       "    </tr>\n",
       "  </tbody>\n",
       "</table>\n",
       "</div>"
      ],
      "text/plain": [
       "        RECORD_TIME\n",
       "0  2021-09-06 07:30\n",
       "1  2021-09-06 07:00"
      ]
     },
     "execution_count": 3,
     "metadata": {},
     "output_type": "execute_result"
    }
   ],
   "source": [
    "timestamps"
   ]
  },
  {
   "cell_type": "code",
   "execution_count": 4,
   "id": "alternate-victory",
   "metadata": {
    "execution": {
     "iopub.execute_input": "2021-09-06T05:30:08.017465Z",
     "iopub.status.busy": "2021-09-06T05:30:08.015323Z",
     "iopub.status.idle": "2021-09-06T05:30:08.343837Z",
     "shell.execute_reply": "2021-09-06T05:30:08.345068Z"
    },
    "papermill": {
     "duration": 0.358746,
     "end_time": "2021-09-06T05:30:08.345459",
     "exception": false,
     "start_time": "2021-09-06T05:30:07.986713",
     "status": "completed"
    },
    "tags": []
   },
   "outputs": [],
   "source": [
    "df = pd.read_sql(\"select * from EBAY_TOP_BERLIN where record_time in (select distinct record_time from EBAY_TOP_BERLIN order by record_time desc limit 2)\", sqlite3.connect(\"UsedObjects.db\"))"
   ]
  },
  {
   "cell_type": "code",
   "execution_count": 5,
   "id": "popular-active",
   "metadata": {
    "execution": {
     "iopub.execute_input": "2021-09-06T05:30:08.426785Z",
     "iopub.status.busy": "2021-09-06T05:30:08.414693Z",
     "iopub.status.idle": "2021-09-06T05:30:08.442214Z",
     "shell.execute_reply": "2021-09-06T05:30:08.443653Z"
    },
    "papermill": {
     "duration": 0.071224,
     "end_time": "2021-09-06T05:30:08.444061",
     "exception": false,
     "start_time": "2021-09-06T05:30:08.372837",
     "status": "completed"
    },
    "tags": []
   },
   "outputs": [],
   "source": [
    "df_pivot = df.pivot_table(index=\"PRODUCT\", columns = \"RECORD_TIME\", values = \"LISTING_COUNT\")"
   ]
  },
  {
   "cell_type": "code",
   "execution_count": 6,
   "id": "union-huntington",
   "metadata": {
    "execution": {
     "iopub.execute_input": "2021-09-06T05:30:08.502395Z",
     "iopub.status.busy": "2021-09-06T05:30:08.499980Z",
     "iopub.status.idle": "2021-09-06T05:30:08.506029Z",
     "shell.execute_reply": "2021-09-06T05:30:08.507459Z"
    },
    "papermill": {
     "duration": 0.042559,
     "end_time": "2021-09-06T05:30:08.507897",
     "exception": false,
     "start_time": "2021-09-06T05:30:08.465338",
     "status": "completed"
    },
    "tags": []
   },
   "outputs": [],
   "source": [
    "df_pivot.columns = [\"stamp_1\", \"stamp_2\"]\n",
    "df_pivot_diff = df_pivot.diff(axis=1)"
   ]
  },
  {
   "cell_type": "code",
   "execution_count": 7,
   "id": "fifth-motion",
   "metadata": {
    "execution": {
     "iopub.execute_input": "2021-09-06T05:30:08.562265Z",
     "iopub.status.busy": "2021-09-06T05:30:08.560101Z",
     "iopub.status.idle": "2021-09-06T05:30:10.067780Z",
     "shell.execute_reply": "2021-09-06T05:30:10.069070Z"
    },
    "papermill": {
     "duration": 1.540261,
     "end_time": "2021-09-06T05:30:10.069478",
     "exception": false,
     "start_time": "2021-09-06T05:30:08.529217",
     "status": "completed"
    },
    "tags": []
   },
   "outputs": [
    {
     "data": {
      "text/plain": [
       "<AxesSubplot:ylabel='PRODUCT'>"
      ]
     },
     "execution_count": 7,
     "metadata": {},
     "output_type": "execute_result"
    },
    {
     "data": {
      "image/png": "[encoded data removed]",
      "text/plain": [
       "<Figure size 432x288 with 1 Axes>"
      ]
     },
     "metadata": {
      "needs_background": "light"
     },
     "output_type": "display_data"
    }
   ],
   "source": [
    "df_pivot_diff.sort_values(\"stamp_2\", ascending = False)[\"stamp_2\"].head(10).plot.barh()"
   ]
  },
  {
   "cell_type": "code",
   "execution_count": null,
   "id": "extra-executive",
   "metadata": {
    "papermill": {
     "duration": 0.022408,
     "end_time": "2021-09-06T05:30:10.116607",
     "exception": false,
     "start_time": "2021-09-06T05:30:10.094199",
     "status": "completed"
    },
    "tags": []
   },
   "outputs": [],
   "source": []
  }
 ],
 "metadata": {
  "kernelspec": {
   "display_name": "Python 3",
   "language": "python",
   "name": "python3"
  },
  "language_info": {
   "codemirror_mode": {
    "name": "ipython",
    "version": 3
   },
   "file_extension": ".py",
   "mimetype": "text/x-python",
   "name": "python",
   "nbconvert_exporter": "python",
   "pygments_lexer": "ipython3",
   "version": "3.9.5"
  },
  "papermill": {
   "default_parameters": {},
   "duration": 6.403854,
   "end_time": "2021-09-06T05:30:10.757323",
   "environment_variables": {},
   "exception": null,
   "input_path": "eBay_Overview.ipynb",
   "output_path": "eBay_Overview.ipynb",
   "parameters": {},
   "start_time": "2021-09-06T05:30:04.353469",
   "version": "2.3.3"
  }
 },
 "nbformat": 4,
 "nbformat_minor": 5
}