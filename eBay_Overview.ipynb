{
 "cells": [
  {
   "cell_type": "code",
   "execution_count": 1,
   "id": "reverse-picking",
   "metadata": {
    "execution": {
     "iopub.execute_input": "2021-11-19T22:30:07.408084Z",
     "iopub.status.busy": "2021-11-19T22:30:07.405898Z",
     "iopub.status.idle": "2021-11-19T22:30:08.372534Z",
     "shell.execute_reply": "2021-11-19T22:30:08.374137Z"
    },
    "papermill": {
     "duration": 1.013469,
     "end_time": "2021-11-19T22:30:08.374839",
     "exception": false,
     "start_time": "2021-11-19T22:30:07.361370",
     "status": "completed"
    },
    "tags": []
   },
   "outputs": [],
   "source": [
    "import pandas as pd\n",
    "import sqlite3"
   ]
  },
  {
   "cell_type": "code",
   "execution_count": 2,
   "id": "innovative-syndrome",
   "metadata": {
    "execution": {
     "iopub.execute_input": "2021-11-19T22:30:08.440235Z",
     "iopub.status.busy": "2021-11-19T22:30:08.437956Z",
     "iopub.status.idle": "2021-11-19T22:30:09.302116Z",
     "shell.execute_reply": "2021-11-19T22:30:09.303577Z"
    },
    "papermill": {
     "duration": 0.898293,
     "end_time": "2021-11-19T22:30:09.304035",
     "exception": false,
     "start_time": "2021-11-19T22:30:08.405742",
     "status": "completed"
    },
    "tags": []
   },
   "outputs": [],
   "source": [
    "timestamps = pd.read_sql(\"select distinct record_time from EBAY_TOP_BERLIN order by record_time desc limit 2\", sqlite3.connect(\"UsedObjects.db\"))"
   ]
  },
  {
   "cell_type": "code",
   "execution_count": 3,
   "id": "periodic-identification",
   "metadata": {
    "execution": {
     "iopub.execute_input": "2021-11-19T22:30:09.375932Z",
     "iopub.status.busy": "2021-11-19T22:30:09.373680Z",
     "iopub.status.idle": "2021-11-19T22:30:09.396324Z",
     "shell.execute_reply": "2021-11-19T22:30:09.397845Z"
    },
    "papermill": {
     "duration": 0.07397,
     "end_time": "2021-11-19T22:30:09.398350",
     "exception": false,
     "start_time": "2021-11-19T22:30:09.324380",
     "status": "completed"
    },
    "tags": []
   },
   "outputs": [
    {
     "data": {
      "text/html": [
       "<div>\n",
       "<style scoped>\n",
       "    .dataframe tbody tr th:only-of-type {\n",
       "        vertical-align: middle;\n",
       "    }\n",
       "\n",
       "    .dataframe tbody tr th {\n",
       "        vertical-align: top;\n",
       "    }\n",
       "\n",
       "    .dataframe thead th {\n",
       "        text-align: right;\n",
       "    }\n",
       "</style>\n",
       "<table border=\"1\" class=\"dataframe\">\n",
       "  <thead>\n",
       "    <tr style=\"text-align: right;\">\n",
       "      <th></th>\n",
       "      <th>RECORD_TIME</th>\n",
       "    </tr>\n",
       "  </thead>\n",
       "  <tbody>\n",
       "    <tr>\n",
       "      <th>0</th>\n",
       "      <td>2021-11-19 23:30</td>\n",
       "    </tr>\n",
       "    <tr>\n",
       "      <th>1</th>\n",
       "      <td>2021-11-19 23:00</td>\n",
       "    </tr>\n",
       "  </tbody>\n",
       "</table>\n",
       "</div>"
      ],
      "text/plain": [
       "        RECORD_TIME\n",
       "0  2021-11-19 23:30\n",
       "1  2021-11-19 23:00"
      ]
     },
     "execution_count": 3,
     "metadata": {},
     "output_type": "execute_result"
    }
   ],
   "source": [
    "timestamps"
   ]
  },
  {
   "cell_type": "code",
   "execution_count": 4,
   "id": "alternate-victory",
   "metadata": {
    "execution": {
     "iopub.execute_input": "2021-11-19T22:30:09.456451Z",
     "iopub.status.busy": "2021-11-19T22:30:09.454163Z",
     "iopub.status.idle": "2021-11-19T22:30:10.695814Z",
     "shell.execute_reply": "2021-11-19T22:30:10.697329Z"
    },
    "papermill": {
     "duration": 1.276359,
     "end_time": "2021-11-19T22:30:10.697809",
     "exception": false,
     "start_time": "2021-11-19T22:30:09.421450",
     "status": "completed"
    },
    "tags": []
   },
   "outputs": [],
   "source": [
    "df = pd.read_sql(\"select * from EBAY_TOP_BERLIN where record_time in (select distinct record_time from EBAY_TOP_BERLIN order by record_time desc limit 2)\", sqlite3.connect(\"UsedObjects.db\"))"
   ]
  },
  {
   "cell_type": "code",
   "execution_count": 5,
   "id": "popular-active",
   "metadata": {
    "execution": {
     "iopub.execute_input": "2021-11-19T22:30:10.763168Z",
     "iopub.status.busy": "2021-11-19T22:30:10.760969Z",
     "iopub.status.idle": "2021-11-19T22:30:10.802561Z",
     "shell.execute_reply": "2021-11-19T22:30:10.805368Z"
    },
    "papermill": {
     "duration": 0.087563,
     "end_time": "2021-11-19T22:30:10.806200",
     "exception": false,
     "start_time": "2021-11-19T22:30:10.718637",
     "status": "completed"
    },
    "tags": []
   },
   "outputs": [],
   "source": [
    "df_pivot = df.pivot_table(index=\"PRODUCT\", columns = \"RECORD_TIME\", values = \"LISTING_COUNT\")"
   ]
  },
  {
   "cell_type": "code",
   "execution_count": 6,
   "id": "union-huntington",
   "metadata": {
    "execution": {
     "iopub.execute_input": "2021-11-19T22:30:10.888268Z",
     "iopub.status.busy": "2021-11-19T22:30:10.885880Z",
     "iopub.status.idle": "2021-11-19T22:30:10.892015Z",
     "shell.execute_reply": "2021-11-19T22:30:10.893586Z"
    },
    "papermill": {
     "duration": 0.055482,
     "end_time": "2021-11-19T22:30:10.894076",
     "exception": false,
     "start_time": "2021-11-19T22:30:10.838594",
     "status": "completed"
    },
    "tags": []
   },
   "outputs": [],
   "source": [
    "df_pivot.columns = [\"stamp_1\", \"stamp_2\"]\n",
    "df_pivot_diff = df_pivot.diff(axis=1)"
   ]
  },
  {
   "cell_type": "code",
   "execution_count": 7,
   "id": "fifth-motion",
   "metadata": {
    "execution": {
     "iopub.execute_input": "2021-11-19T22:30:10.954436Z",
     "iopub.status.busy": "2021-11-19T22:30:10.951990Z",
     "iopub.status.idle": "2021-11-19T22:30:12.871664Z",
     "shell.execute_reply": "2021-11-19T22:30:12.874618Z"
    },
    "papermill": {
     "duration": 1.959991,
     "end_time": "2021-11-19T22:30:12.875539",
     "exception": false,
     "start_time": "2021-11-19T22:30:10.915548",
     "status": "completed"
    },
    "tags": []
   },
   "outputs": [
    {
     "data": {
      "text/plain": [
       "<AxesSubplot:ylabel='PRODUCT'>"
      ]
     },
     "execution_count": 7,
     "metadata": {},
     "output_type": "execute_result"
    },
    {
     "data": {
      "image/png": "[encoded data removed]",
      "text/plain": [
       "<Figure size 432x288 with 1 Axes>"
      ]
     },
     "metadata": {
      "needs_background": "light"
     },
     "output_type": "display_data"
    }
   ],
   "source": [
    "df_pivot_diff.sort_values(\"stamp_2\", ascending = False)[\"stamp_2\"].head(10).plot.barh()"
   ]
  },
  {
   "cell_type": "code",
   "execution_count": null,
   "id": "extra-executive",
   "metadata": {
    "papermill": {
     "duration": 0.028206,
     "end_time": "2021-11-19T22:30:12.937137",
     "exception": false,
     "start_time": "2021-11-19T22:30:12.908931",
     "status": "completed"
    },
    "tags": []
   },
   "outputs": [],
   "source": []
  }
 ],
 "metadata": {
  "kernelspec": {
   "display_name": "Python 3",
   "language": "python",
   "name": "python3"
  },
  "language_info": {
   "codemirror_mode": {
    "name": "ipython",
    "version": 3
   },
   "file_extension": ".py",
   "mimetype": "text/x-python",
   "name": "python",
   "nbconvert_exporter": "python",
   "pygments_lexer": "ipython3",
   "version": "3.9.5"
  },
  "papermill": {
   "default_parameters": {},
   "duration": 9.939476,
   "end_time": "2021-11-19T22:30:14.545342",
   "environment_variables": {},
   "exception": null,
   "input_path": "eBay_Overview.ipynb",
   "output_path": "eBay_Overview.ipynb",
   "parameters": {},
   "start_time": "2021-11-19T22:30:04.605866",
   "version": "2.3.3"
  }
 },
 "nbformat": 4,
 "nbformat_minor": 5
}