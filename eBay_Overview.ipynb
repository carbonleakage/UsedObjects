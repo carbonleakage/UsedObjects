{
 "cells": [
  {
   "cell_type": "code",
   "execution_count": 1,
   "id": "reverse-picking",
   "metadata": {
    "execution": {
     "iopub.execute_input": "2021-09-06T10:30:07.376959Z",
     "iopub.status.busy": "2021-09-06T10:30:07.374978Z",
     "iopub.status.idle": "2021-09-06T10:30:08.180580Z",
     "shell.execute_reply": "2021-09-06T10:30:08.181829Z"
    },
    "papermill": {
     "duration": 0.857618,
     "end_time": "2021-09-06T10:30:08.182446",
     "exception": false,
     "start_time": "2021-09-06T10:30:07.324828",
     "status": "completed"
    },
    "tags": []
   },
   "outputs": [],
   "source": [
    "import pandas as pd\n",
    "import sqlite3"
   ]
  },
  {
   "cell_type": "code",
   "execution_count": 2,
   "id": "innovative-syndrome",
   "metadata": {
    "execution": {
     "iopub.execute_input": "2021-09-06T10:30:08.233966Z",
     "iopub.status.busy": "2021-09-06T10:30:08.232114Z",
     "iopub.status.idle": "2021-09-06T10:30:08.449360Z",
     "shell.execute_reply": "2021-09-06T10:30:08.450555Z"
    },
    "papermill": {
     "duration": 0.246994,
     "end_time": "2021-09-06T10:30:08.451123",
     "exception": false,
     "start_time": "2021-09-06T10:30:08.204129",
     "status": "completed"
    },
    "tags": []
   },
   "outputs": [],
   "source": [
    "timestamps = pd.read_sql(\"select distinct record_time from EBAY_TOP_BERLIN order by record_time desc limit 2\", sqlite3.connect(\"UsedObjects.db\"))"
   ]
  },
  {
   "cell_type": "code",
   "execution_count": 3,
   "id": "periodic-identification",
   "metadata": {
    "execution": {
     "iopub.execute_input": "2021-09-06T10:30:08.519758Z",
     "iopub.status.busy": "2021-09-06T10:30:08.517647Z",
     "iopub.status.idle": "2021-09-06T10:30:08.538197Z",
     "shell.execute_reply": "2021-09-06T10:30:08.539546Z"
    },
    "papermill": {
     "duration": 0.067207,
     "end_time": "2021-09-06T10:30:08.539970",
     "exception": false,
     "start_time": "2021-09-06T10:30:08.472763",
     "status": "completed"
    },
    "tags": []
   },
   "outputs": [
    {
     "data": {
      "text/html": [
       "<div>\n",
       "<style scoped>\n",
       "    .dataframe tbody tr th:only-of-type {\n",
       "        vertical-align: middle;\n",
       "    }\n",
       "\n",
       "    .dataframe tbody tr th {\n",
       "        vertical-align: top;\n",
       "    }\n",
       "\n",
       "    .dataframe thead th {\n",
       "        text-align: right;\n",
       "    }\n",
       "</style>\n",
       "<table border=\"1\" class=\"dataframe\">\n",
       "  <thead>\n",
       "    <tr style=\"text-align: right;\">\n",
       "      <th></th>\n",
       "      <th>RECORD_TIME</th>\n",
       "    </tr>\n",
       "  </thead>\n",
       "  <tbody>\n",
       "    <tr>\n",
       "      <th>0</th>\n",
       "      <td>2021-09-06 12:30</td>\n",
       "    </tr>\n",
       "    <tr>\n",
       "      <th>1</th>\n",
       "      <td>2021-09-06 12:00</td>\n",
       "    </tr>\n",
       "  </tbody>\n",
       "</table>\n",
       "</div>"
      ],
      "text/plain": [
       "        RECORD_TIME\n",
       "0  2021-09-06 12:30\n",
       "1  2021-09-06 12:00"
      ]
     },
     "execution_count": 3,
     "metadata": {},
     "output_type": "execute_result"
    }
   ],
   "source": [
    "timestamps"
   ]
  },
  {
   "cell_type": "code",
   "execution_count": 4,
   "id": "alternate-victory",
   "metadata": {
    "execution": {
     "iopub.execute_input": "2021-09-06T10:30:08.591530Z",
     "iopub.status.busy": "2021-09-06T10:30:08.589459Z",
     "iopub.status.idle": "2021-09-06T10:30:08.916567Z",
     "shell.execute_reply": "2021-09-06T10:30:08.918038Z"
    },
    "papermill": {
     "duration": 0.35752,
     "end_time": "2021-09-06T10:30:08.918500",
     "exception": false,
     "start_time": "2021-09-06T10:30:08.560980",
     "status": "completed"
    },
    "tags": []
   },
   "outputs": [],
   "source": [
    "df = pd.read_sql(\"select * from EBAY_TOP_BERLIN where record_time in (select distinct record_time from EBAY_TOP_BERLIN order by record_time desc limit 2)\", sqlite3.connect(\"UsedObjects.db\"))"
   ]
  },
  {
   "cell_type": "code",
   "execution_count": 5,
   "id": "popular-active",
   "metadata": {
    "execution": {
     "iopub.execute_input": "2021-09-06T10:30:08.998962Z",
     "iopub.status.busy": "2021-09-06T10:30:08.988382Z",
     "iopub.status.idle": "2021-09-06T10:30:09.015472Z",
     "shell.execute_reply": "2021-09-06T10:30:09.016679Z"
    },
    "papermill": {
     "duration": 0.070842,
     "end_time": "2021-09-06T10:30:09.017074",
     "exception": false,
     "start_time": "2021-09-06T10:30:08.946232",
     "status": "completed"
    },
    "tags": []
   },
   "outputs": [],
   "source": [
    "df_pivot = df.pivot_table(index=\"PRODUCT\", columns = \"RECORD_TIME\", values = \"LISTING_COUNT\")"
   ]
  },
  {
   "cell_type": "code",
   "execution_count": 6,
   "id": "union-huntington",
   "metadata": {
    "execution": {
     "iopub.execute_input": "2021-09-06T10:30:09.077347Z",
     "iopub.status.busy": "2021-09-06T10:30:09.074912Z",
     "iopub.status.idle": "2021-09-06T10:30:09.080758Z",
     "shell.execute_reply": "2021-09-06T10:30:09.082026Z"
    },
    "papermill": {
     "duration": 0.04234,
     "end_time": "2021-09-06T10:30:09.082440",
     "exception": false,
     "start_time": "2021-09-06T10:30:09.040100",
     "status": "completed"
    },
    "tags": []
   },
   "outputs": [],
   "source": [
    "df_pivot.columns = [\"stamp_1\", \"stamp_2\"]\n",
    "df_pivot_diff = df_pivot.diff(axis=1)"
   ]
  },
  {
   "cell_type": "code",
   "execution_count": 7,
   "id": "fifth-motion",
   "metadata": {
    "execution": {
     "iopub.execute_input": "2021-09-06T10:30:09.136652Z",
     "iopub.status.busy": "2021-09-06T10:30:09.134200Z",
     "iopub.status.idle": "2021-09-06T10:30:10.634143Z",
     "shell.execute_reply": "2021-09-06T10:30:10.635820Z"
    },
    "papermill": {
     "duration": 1.533756,
     "end_time": "2021-09-06T10:30:10.636287",
     "exception": false,
     "start_time": "2021-09-06T10:30:09.102531",
     "status": "completed"
    },
    "tags": []
   },
   "outputs": [
    {
     "data": {
      "text/plain": [
       "<AxesSubplot:ylabel='PRODUCT'>"
      ]
     },
     "execution_count": 7,
     "metadata": {},
     "output_type": "execute_result"
    },
    {
     "data": {
      "image/png": "[encoded data removed]",
      "text/plain": [
       "<Figure size 432x288 with 1 Axes>"
      ]
     },
     "metadata": {
      "needs_background": "light"
     },
     "output_type": "display_data"
    }
   ],
   "source": [
    "df_pivot_diff.sort_values(\"stamp_2\", ascending = False)[\"stamp_2\"].head(10).plot.barh()"
   ]
  },
  {
   "cell_type": "code",
   "execution_count": null,
   "id": "extra-executive",
   "metadata": {
    "papermill": {
     "duration": 0.022399,
     "end_time": "2021-09-06T10:30:10.683112",
     "exception": false,
     "start_time": "2021-09-06T10:30:10.660713",
     "status": "completed"
    },
    "tags": []
   },
   "outputs": [],
   "source": []
  }
 ],
 "metadata": {
  "kernelspec": {
   "display_name": "Python 3",
   "language": "python",
   "name": "python3"
  },
  "language_info": {
   "codemirror_mode": {
    "name": "ipython",
    "version": 3
   },
   "file_extension": ".py",
   "mimetype": "text/x-python",
   "name": "python",
   "nbconvert_exporter": "python",
   "pygments_lexer": "ipython3",
   "version": "3.9.5"
  },
  "papermill": {
   "default_parameters": {},
   "duration": 6.409463,
   "end_time": "2021-09-06T10:30:11.325857",
   "environment_variables": {},
   "exception": null,
   "input_path": "eBay_Overview.ipynb",
   "output_path": "eBay_Overview.ipynb",
   "parameters": {},
   "start_time": "2021-09-06T10:30:04.916394",
   "version": "2.3.3"
  }
 },
 "nbformat": 4,
 "nbformat_minor": 5
}