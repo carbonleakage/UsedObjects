{
 "cells": [
  {
   "cell_type": "code",
   "execution_count": 1,
   "id": "reverse-picking",
   "metadata": {
    "execution": {
     "iopub.execute_input": "2021-11-23T09:00:10.356892Z",
     "iopub.status.busy": "2021-11-23T09:00:10.354662Z",
     "iopub.status.idle": "2021-11-23T09:00:12.471582Z",
     "shell.execute_reply": "2021-11-23T09:00:12.473698Z"
    },
    "papermill": {
     "duration": 2.164883,
     "end_time": "2021-11-23T09:00:12.474472",
     "exception": false,
     "start_time": "2021-11-23T09:00:10.309589",
     "status": "completed"
    },
    "tags": []
   },
   "outputs": [],
   "source": [
    "import pandas as pd\n",
    "import sqlite3"
   ]
  },
  {
   "cell_type": "code",
   "execution_count": 2,
   "id": "innovative-syndrome",
   "metadata": {
    "execution": {
     "iopub.execute_input": "2021-11-23T09:00:12.536654Z",
     "iopub.status.busy": "2021-11-23T09:00:12.534372Z",
     "iopub.status.idle": "2021-11-23T09:00:13.809201Z",
     "shell.execute_reply": "2021-11-23T09:00:13.810719Z"
    },
    "papermill": {
     "duration": 1.311869,
     "end_time": "2021-11-23T09:00:13.811222",
     "exception": false,
     "start_time": "2021-11-23T09:00:12.499353",
     "status": "completed"
    },
    "tags": []
   },
   "outputs": [],
   "source": [
    "timestamps = pd.read_sql(\"select distinct record_time from EBAY_TOP_BERLIN order by record_time desc limit 2\", sqlite3.connect(\"UsedObjects.db\"))"
   ]
  },
  {
   "cell_type": "code",
   "execution_count": 3,
   "id": "periodic-identification",
   "metadata": {
    "execution": {
     "iopub.execute_input": "2021-11-23T09:00:13.882020Z",
     "iopub.status.busy": "2021-11-23T09:00:13.879615Z",
     "iopub.status.idle": "2021-11-23T09:00:13.906454Z",
     "shell.execute_reply": "2021-11-23T09:00:13.907954Z"
    },
    "papermill": {
     "duration": 0.076774,
     "end_time": "2021-11-23T09:00:13.908442",
     "exception": false,
     "start_time": "2021-11-23T09:00:13.831668",
     "status": "completed"
    },
    "tags": []
   },
   "outputs": [
    {
     "data": {
      "text/html": [
       "<div>\n",
       "<style scoped>\n",
       "    .dataframe tbody tr th:only-of-type {\n",
       "        vertical-align: middle;\n",
       "    }\n",
       "\n",
       "    .dataframe tbody tr th {\n",
       "        vertical-align: top;\n",
       "    }\n",
       "\n",
       "    .dataframe thead th {\n",
       "        text-align: right;\n",
       "    }\n",
       "</style>\n",
       "<table border=\"1\" class=\"dataframe\">\n",
       "  <thead>\n",
       "    <tr style=\"text-align: right;\">\n",
       "      <th></th>\n",
       "      <th>RECORD_TIME</th>\n",
       "    </tr>\n",
       "  </thead>\n",
       "  <tbody>\n",
       "    <tr>\n",
       "      <th>0</th>\n",
       "      <td>2021-11-23 10:00</td>\n",
       "    </tr>\n",
       "    <tr>\n",
       "      <th>1</th>\n",
       "      <td>2021-11-23 09:30</td>\n",
       "    </tr>\n",
       "  </tbody>\n",
       "</table>\n",
       "</div>"
      ],
      "text/plain": [
       "        RECORD_TIME\n",
       "0  2021-11-23 10:00\n",
       "1  2021-11-23 09:30"
      ]
     },
     "execution_count": 3,
     "metadata": {},
     "output_type": "execute_result"
    }
   ],
   "source": [
    "timestamps"
   ]
  },
  {
   "cell_type": "code",
   "execution_count": 4,
   "id": "alternate-victory",
   "metadata": {
    "execution": {
     "iopub.execute_input": "2021-11-23T09:00:13.965081Z",
     "iopub.status.busy": "2021-11-23T09:00:13.962767Z",
     "iopub.status.idle": "2021-11-23T09:00:15.255454Z",
     "shell.execute_reply": "2021-11-23T09:00:15.257160Z"
    },
    "papermill": {
     "duration": 1.326963,
     "end_time": "2021-11-23T09:00:15.257639",
     "exception": false,
     "start_time": "2021-11-23T09:00:13.930676",
     "status": "completed"
    },
    "tags": []
   },
   "outputs": [],
   "source": [
    "df = pd.read_sql(\"select * from EBAY_TOP_BERLIN where record_time in (select distinct record_time from EBAY_TOP_BERLIN order by record_time desc limit 2)\", sqlite3.connect(\"UsedObjects.db\"))"
   ]
  },
  {
   "cell_type": "code",
   "execution_count": 5,
   "id": "popular-active",
   "metadata": {
    "execution": {
     "iopub.execute_input": "2021-11-23T09:00:15.372161Z",
     "iopub.status.busy": "2021-11-23T09:00:15.344143Z",
     "iopub.status.idle": "2021-11-23T09:00:15.407140Z",
     "shell.execute_reply": "2021-11-23T09:00:15.408800Z"
    },
    "papermill": {
     "duration": 0.12068,
     "end_time": "2021-11-23T09:00:15.409309",
     "exception": false,
     "start_time": "2021-11-23T09:00:15.288629",
     "status": "completed"
    },
    "tags": []
   },
   "outputs": [],
   "source": [
    "df_pivot = df.pivot_table(index=\"PRODUCT\", columns = \"RECORD_TIME\", values = \"LISTING_COUNT\")"
   ]
  },
  {
   "cell_type": "code",
   "execution_count": 6,
   "id": "union-huntington",
   "metadata": {
    "execution": {
     "iopub.execute_input": "2021-11-23T09:00:15.472569Z",
     "iopub.status.busy": "2021-11-23T09:00:15.470232Z",
     "iopub.status.idle": "2021-11-23T09:00:15.476431Z",
     "shell.execute_reply": "2021-11-23T09:00:15.477916Z"
    },
    "papermill": {
     "duration": 0.047255,
     "end_time": "2021-11-23T09:00:15.478389",
     "exception": false,
     "start_time": "2021-11-23T09:00:15.431134",
     "status": "completed"
    },
    "tags": []
   },
   "outputs": [],
   "source": [
    "df_pivot.columns = [\"stamp_1\", \"stamp_2\"]\n",
    "df_pivot_diff = df_pivot.diff(axis=1)"
   ]
  },
  {
   "cell_type": "code",
   "execution_count": 7,
   "id": "fifth-motion",
   "metadata": {
    "execution": {
     "iopub.execute_input": "2021-11-23T09:00:15.538248Z",
     "iopub.status.busy": "2021-11-23T09:00:15.536037Z",
     "iopub.status.idle": "2021-11-23T09:00:17.713087Z",
     "shell.execute_reply": "2021-11-23T09:00:17.715882Z"
    },
    "papermill": {
     "duration": 2.216197,
     "end_time": "2021-11-23T09:00:17.716613",
     "exception": false,
     "start_time": "2021-11-23T09:00:15.500416",
     "status": "completed"
    },
    "tags": []
   },
   "outputs": [
    {
     "data": {
      "text/plain": [
       "<AxesSubplot:ylabel='PRODUCT'>"
      ]
     },
     "execution_count": 7,
     "metadata": {},
     "output_type": "execute_result"
    },
    {
     "data": {
      "image/png": "[encoded data removed]",
      "text/plain": [
       "<Figure size 432x288 with 1 Axes>"
      ]
     },
     "metadata": {
      "needs_background": "light"
     },
     "output_type": "display_data"
    }
   ],
   "source": [
    "df_pivot_diff.sort_values(\"stamp_2\", ascending = False)[\"stamp_2\"].head(10).plot.barh()"
   ]
  },
  {
   "cell_type": "code",
   "execution_count": null,
   "id": "extra-executive",
   "metadata": {
    "papermill": {
     "duration": 0.037086,
     "end_time": "2021-11-23T09:00:17.789955",
     "exception": false,
     "start_time": "2021-11-23T09:00:17.752869",
     "status": "completed"
    },
    "tags": []
   },
   "outputs": [],
   "source": []
  }
 ],
 "metadata": {
  "kernelspec": {
   "display_name": "Python 3",
   "language": "python",
   "name": "python3"
  },
  "language_info": {
   "codemirror_mode": {
    "name": "ipython",
    "version": 3
   },
   "file_extension": ".py",
   "mimetype": "text/x-python",
   "name": "python",
   "nbconvert_exporter": "python",
   "pygments_lexer": "ipython3",
   "version": "3.9.5"
  },
  "papermill": {
   "default_parameters": {},
   "duration": 12.51851,
   "end_time": "2021-11-23T09:00:19.501434",
   "environment_variables": {},
   "exception": null,
   "input_path": "eBay_Overview.ipynb",
   "output_path": "eBay_Overview.ipynb",
   "parameters": {},
   "start_time": "2021-11-23T09:00:06.982924",
   "version": "2.3.3"
  }
 },
 "nbformat": 4,
 "nbformat_minor": 5
}