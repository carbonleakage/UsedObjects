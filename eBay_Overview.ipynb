{
 "cells": [
  {
   "cell_type": "code",
   "execution_count": 1,
   "id": "reverse-picking",
   "metadata": {
    "execution": {
     "iopub.execute_input": "2021-11-29T07:30:07.862058Z",
     "iopub.status.busy": "2021-11-29T07:30:07.859772Z",
     "iopub.status.idle": "2021-11-29T07:30:08.817756Z",
     "shell.execute_reply": "2021-11-29T07:30:08.819291Z"
    },
    "papermill": {
     "duration": 1.007362,
     "end_time": "2021-11-29T07:30:08.820029",
     "exception": false,
     "start_time": "2021-11-29T07:30:07.812667",
     "status": "completed"
    },
    "tags": []
   },
   "outputs": [],
   "source": [
    "import pandas as pd\n",
    "import sqlite3"
   ]
  },
  {
   "cell_type": "code",
   "execution_count": 2,
   "id": "innovative-syndrome",
   "metadata": {
    "execution": {
     "iopub.execute_input": "2021-11-29T07:30:08.880786Z",
     "iopub.status.busy": "2021-11-29T07:30:08.878497Z",
     "iopub.status.idle": "2021-11-29T07:30:09.842290Z",
     "shell.execute_reply": "2021-11-29T07:30:09.843680Z"
    },
    "papermill": {
     "duration": 0.997617,
     "end_time": "2021-11-29T07:30:09.844182",
     "exception": false,
     "start_time": "2021-11-29T07:30:08.846565",
     "status": "completed"
    },
    "tags": []
   },
   "outputs": [],
   "source": [
    "timestamps = pd.read_sql(\"select distinct record_time from EBAY_TOP_BERLIN order by record_time desc limit 2\", sqlite3.connect(\"UsedObjects.db\"))"
   ]
  },
  {
   "cell_type": "code",
   "execution_count": 3,
   "id": "periodic-identification",
   "metadata": {
    "execution": {
     "iopub.execute_input": "2021-11-29T07:30:09.915271Z",
     "iopub.status.busy": "2021-11-29T07:30:09.909807Z",
     "iopub.status.idle": "2021-11-29T07:30:09.938910Z",
     "shell.execute_reply": "2021-11-29T07:30:09.940315Z"
    },
    "papermill": {
     "duration": 0.074889,
     "end_time": "2021-11-29T07:30:09.940847",
     "exception": false,
     "start_time": "2021-11-29T07:30:09.865958",
     "status": "completed"
    },
    "tags": []
   },
   "outputs": [
    {
     "data": {
      "text/html": [
       "<div>\n",
       "<style scoped>\n",
       "    .dataframe tbody tr th:only-of-type {\n",
       "        vertical-align: middle;\n",
       "    }\n",
       "\n",
       "    .dataframe tbody tr th {\n",
       "        vertical-align: top;\n",
       "    }\n",
       "\n",
       "    .dataframe thead th {\n",
       "        text-align: right;\n",
       "    }\n",
       "</style>\n",
       "<table border=\"1\" class=\"dataframe\">\n",
       "  <thead>\n",
       "    <tr style=\"text-align: right;\">\n",
       "      <th></th>\n",
       "      <th>RECORD_TIME</th>\n",
       "    </tr>\n",
       "  </thead>\n",
       "  <tbody>\n",
       "    <tr>\n",
       "      <th>0</th>\n",
       "      <td>2021-11-29 08:30</td>\n",
       "    </tr>\n",
       "    <tr>\n",
       "      <th>1</th>\n",
       "      <td>2021-11-29 08:00</td>\n",
       "    </tr>\n",
       "  </tbody>\n",
       "</table>\n",
       "</div>"
      ],
      "text/plain": [
       "        RECORD_TIME\n",
       "0  2021-11-29 08:30\n",
       "1  2021-11-29 08:00"
      ]
     },
     "execution_count": 3,
     "metadata": {},
     "output_type": "execute_result"
    }
   ],
   "source": [
    "timestamps"
   ]
  },
  {
   "cell_type": "code",
   "execution_count": 4,
   "id": "alternate-victory",
   "metadata": {
    "execution": {
     "iopub.execute_input": "2021-11-29T07:30:09.995828Z",
     "iopub.status.busy": "2021-11-29T07:30:09.993501Z",
     "iopub.status.idle": "2021-11-29T07:30:11.349207Z",
     "shell.execute_reply": "2021-11-29T07:30:11.350775Z"
    },
    "papermill": {
     "duration": 1.389667,
     "end_time": "2021-11-29T07:30:11.351290",
     "exception": false,
     "start_time": "2021-11-29T07:30:09.961623",
     "status": "completed"
    },
    "tags": []
   },
   "outputs": [],
   "source": [
    "df = pd.read_sql(\"select * from EBAY_TOP_BERLIN where record_time in (select distinct record_time from EBAY_TOP_BERLIN order by record_time desc limit 2)\", sqlite3.connect(\"UsedObjects.db\"))"
   ]
  },
  {
   "cell_type": "code",
   "execution_count": 5,
   "id": "popular-active",
   "metadata": {
    "execution": {
     "iopub.execute_input": "2021-11-29T07:30:11.429915Z",
     "iopub.status.busy": "2021-11-29T07:30:11.415590Z",
     "iopub.status.idle": "2021-11-29T07:30:11.451028Z",
     "shell.execute_reply": "2021-11-29T07:30:11.452522Z"
    },
    "papermill": {
     "duration": 0.079927,
     "end_time": "2021-11-29T07:30:11.453092",
     "exception": false,
     "start_time": "2021-11-29T07:30:11.373165",
     "status": "completed"
    },
    "tags": []
   },
   "outputs": [],
   "source": [
    "df_pivot = df.pivot_table(index=\"PRODUCT\", columns = \"RECORD_TIME\", values = \"LISTING_COUNT\")"
   ]
  },
  {
   "cell_type": "code",
   "execution_count": 6,
   "id": "union-huntington",
   "metadata": {
    "execution": {
     "iopub.execute_input": "2021-11-29T07:30:11.512488Z",
     "iopub.status.busy": "2021-11-29T07:30:11.510279Z",
     "iopub.status.idle": "2021-11-29T07:30:11.517656Z",
     "shell.execute_reply": "2021-11-29T07:30:11.515992Z"
    },
    "papermill": {
     "duration": 0.043535,
     "end_time": "2021-11-29T07:30:11.518082",
     "exception": false,
     "start_time": "2021-11-29T07:30:11.474547",
     "status": "completed"
    },
    "tags": []
   },
   "outputs": [],
   "source": [
    "df_pivot.columns = [\"stamp_1\", \"stamp_2\"]\n",
    "df_pivot_diff = df_pivot.diff(axis=1)"
   ]
  },
  {
   "cell_type": "code",
   "execution_count": 7,
   "id": "fifth-motion",
   "metadata": {
    "execution": {
     "iopub.execute_input": "2021-11-29T07:30:11.579564Z",
     "iopub.status.busy": "2021-11-29T07:30:11.573146Z",
     "iopub.status.idle": "2021-11-29T07:30:13.515247Z",
     "shell.execute_reply": "2021-11-29T07:30:13.517306Z"
    },
    "papermill": {
     "duration": 1.980047,
     "end_time": "2021-11-29T07:30:13.517957",
     "exception": false,
     "start_time": "2021-11-29T07:30:11.537910",
     "status": "completed"
    },
    "tags": []
   },
   "outputs": [
    {
     "data": {
      "text/plain": [
       "<AxesSubplot:ylabel='PRODUCT'>"
      ]
     },
     "execution_count": 7,
     "metadata": {},
     "output_type": "execute_result"
    },
    {
     "data": {
      "image/png": "[encoded data removed]",
      "text/plain": [
       "<Figure size 432x288 with 1 Axes>"
      ]
     },
     "metadata": {
      "needs_background": "light"
     },
     "output_type": "display_data"
    }
   ],
   "source": [
    "df_pivot_diff.sort_values(\"stamp_2\", ascending = False)[\"stamp_2\"].head(10).plot.barh()"
   ]
  },
  {
   "cell_type": "code",
   "execution_count": null,
   "id": "extra-executive",
   "metadata": {
    "papermill": {
     "duration": 0.037002,
     "end_time": "2021-11-29T07:30:13.590881",
     "exception": false,
     "start_time": "2021-11-29T07:30:13.553879",
     "status": "completed"
    },
    "tags": []
   },
   "outputs": [],
   "source": []
  }
 ],
 "metadata": {
  "kernelspec": {
   "display_name": "Python 3",
   "language": "python",
   "name": "python3"
  },
  "language_info": {
   "codemirror_mode": {
    "name": "ipython",
    "version": 3
   },
   "file_extension": ".py",
   "mimetype": "text/x-python",
   "name": "python",
   "nbconvert_exporter": "python",
   "pygments_lexer": "ipython3",
   "version": "3.9.5"
  },
  "papermill": {
   "default_parameters": {},
   "duration": 9.942259,
   "end_time": "2021-11-29T07:30:15.019611",
   "environment_variables": {},
   "exception": null,
   "input_path": "eBay_Overview.ipynb",
   "output_path": "eBay_Overview.ipynb",
   "parameters": {},
   "start_time": "2021-11-29T07:30:05.077352",
   "version": "2.3.3"
  }
 },
 "nbformat": 4,
 "nbformat_minor": 5
}