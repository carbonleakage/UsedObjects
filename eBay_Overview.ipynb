{
 "cells": [
  {
   "cell_type": "code",
   "execution_count": 1,
   "id": "reverse-picking",
   "metadata": {
    "execution": {
     "iopub.execute_input": "2021-09-07T13:30:06.732911Z",
     "iopub.status.busy": "2021-09-07T13:30:06.730927Z",
     "iopub.status.idle": "2021-09-07T13:30:07.541443Z",
     "shell.execute_reply": "2021-09-07T13:30:07.539854Z"
    },
    "papermill": {
     "duration": 0.861674,
     "end_time": "2021-09-07T13:30:07.541839",
     "exception": false,
     "start_time": "2021-09-07T13:30:06.680165",
     "status": "completed"
    },
    "tags": []
   },
   "outputs": [],
   "source": [
    "import pandas as pd\n",
    "import sqlite3"
   ]
  },
  {
   "cell_type": "code",
   "execution_count": 2,
   "id": "innovative-syndrome",
   "metadata": {
    "execution": {
     "iopub.execute_input": "2021-09-07T13:30:07.595113Z",
     "iopub.status.busy": "2021-09-07T13:30:07.592767Z",
     "iopub.status.idle": "2021-09-07T13:30:07.825780Z",
     "shell.execute_reply": "2021-09-07T13:30:07.826980Z"
    },
    "papermill": {
     "duration": 0.263209,
     "end_time": "2021-09-07T13:30:07.827415",
     "exception": false,
     "start_time": "2021-09-07T13:30:07.564206",
     "status": "completed"
    },
    "tags": []
   },
   "outputs": [],
   "source": [
    "timestamps = pd.read_sql(\"select distinct record_time from EBAY_TOP_BERLIN order by record_time desc limit 2\", sqlite3.connect(\"UsedObjects.db\"))"
   ]
  },
  {
   "cell_type": "code",
   "execution_count": 3,
   "id": "periodic-identification",
   "metadata": {
    "execution": {
     "iopub.execute_input": "2021-09-07T13:30:07.894159Z",
     "iopub.status.busy": "2021-09-07T13:30:07.892132Z",
     "iopub.status.idle": "2021-09-07T13:30:07.911972Z",
     "shell.execute_reply": "2021-09-07T13:30:07.913239Z"
    },
    "papermill": {
     "duration": 0.064467,
     "end_time": "2021-09-07T13:30:07.913640",
     "exception": false,
     "start_time": "2021-09-07T13:30:07.849173",
     "status": "completed"
    },
    "tags": []
   },
   "outputs": [
    {
     "data": {
      "text/html": [
       "<div>\n",
       "<style scoped>\n",
       "    .dataframe tbody tr th:only-of-type {\n",
       "        vertical-align: middle;\n",
       "    }\n",
       "\n",
       "    .dataframe tbody tr th {\n",
       "        vertical-align: top;\n",
       "    }\n",
       "\n",
       "    .dataframe thead th {\n",
       "        text-align: right;\n",
       "    }\n",
       "</style>\n",
       "<table border=\"1\" class=\"dataframe\">\n",
       "  <thead>\n",
       "    <tr style=\"text-align: right;\">\n",
       "      <th></th>\n",
       "      <th>RECORD_TIME</th>\n",
       "    </tr>\n",
       "  </thead>\n",
       "  <tbody>\n",
       "    <tr>\n",
       "      <th>0</th>\n",
       "      <td>2021-09-07 15:30</td>\n",
       "    </tr>\n",
       "    <tr>\n",
       "      <th>1</th>\n",
       "      <td>2021-09-07 15:00</td>\n",
       "    </tr>\n",
       "  </tbody>\n",
       "</table>\n",
       "</div>"
      ],
      "text/plain": [
       "        RECORD_TIME\n",
       "0  2021-09-07 15:30\n",
       "1  2021-09-07 15:00"
      ]
     },
     "execution_count": 3,
     "metadata": {},
     "output_type": "execute_result"
    }
   ],
   "source": [
    "timestamps"
   ]
  },
  {
   "cell_type": "code",
   "execution_count": 4,
   "id": "alternate-victory",
   "metadata": {
    "execution": {
     "iopub.execute_input": "2021-09-07T13:30:07.965449Z",
     "iopub.status.busy": "2021-09-07T13:30:07.963304Z",
     "iopub.status.idle": "2021-09-07T13:30:08.308342Z",
     "shell.execute_reply": "2021-09-07T13:30:08.309548Z"
    },
    "papermill": {
     "duration": 0.375189,
     "end_time": "2021-09-07T13:30:08.309956",
     "exception": false,
     "start_time": "2021-09-07T13:30:07.934767",
     "status": "completed"
    },
    "tags": []
   },
   "outputs": [],
   "source": [
    "df = pd.read_sql(\"select * from EBAY_TOP_BERLIN where record_time in (select distinct record_time from EBAY_TOP_BERLIN order by record_time desc limit 2)\", sqlite3.connect(\"UsedObjects.db\"))"
   ]
  },
  {
   "cell_type": "code",
   "execution_count": 5,
   "id": "popular-active",
   "metadata": {
    "execution": {
     "iopub.execute_input": "2021-09-07T13:30:08.387914Z",
     "iopub.status.busy": "2021-09-07T13:30:08.377699Z",
     "iopub.status.idle": "2021-09-07T13:30:08.404547Z",
     "shell.execute_reply": "2021-09-07T13:30:08.405751Z"
    },
    "papermill": {
     "duration": 0.070184,
     "end_time": "2021-09-07T13:30:08.406153",
     "exception": false,
     "start_time": "2021-09-07T13:30:08.335969",
     "status": "completed"
    },
    "tags": []
   },
   "outputs": [],
   "source": [
    "df_pivot = df.pivot_table(index=\"PRODUCT\", columns = \"RECORD_TIME\", values = \"LISTING_COUNT\")"
   ]
  },
  {
   "cell_type": "code",
   "execution_count": 6,
   "id": "union-huntington",
   "metadata": {
    "execution": {
     "iopub.execute_input": "2021-09-07T13:30:08.463100Z",
     "iopub.status.busy": "2021-09-07T13:30:08.460994Z",
     "iopub.status.idle": "2021-09-07T13:30:08.466265Z",
     "shell.execute_reply": "2021-09-07T13:30:08.467728Z"
    },
    "papermill": {
     "duration": 0.040547,
     "end_time": "2021-09-07T13:30:08.468182",
     "exception": false,
     "start_time": "2021-09-07T13:30:08.427635",
     "status": "completed"
    },
    "tags": []
   },
   "outputs": [],
   "source": [
    "df_pivot.columns = [\"stamp_1\", \"stamp_2\"]\n",
    "df_pivot_diff = df_pivot.diff(axis=1)"
   ]
  },
  {
   "cell_type": "code",
   "execution_count": 7,
   "id": "fifth-motion",
   "metadata": {
    "execution": {
     "iopub.execute_input": "2021-09-07T13:30:08.523306Z",
     "iopub.status.busy": "2021-09-07T13:30:08.520860Z",
     "iopub.status.idle": "2021-09-07T13:30:10.029995Z",
     "shell.execute_reply": "2021-09-07T13:30:10.031405Z"
    },
    "papermill": {
     "duration": 1.542251,
     "end_time": "2021-09-07T13:30:10.031860",
     "exception": false,
     "start_time": "2021-09-07T13:30:08.489609",
     "status": "completed"
    },
    "tags": []
   },
   "outputs": [
    {
     "data": {
      "text/plain": [
       "<AxesSubplot:ylabel='PRODUCT'>"
      ]
     },
     "execution_count": 7,
     "metadata": {},
     "output_type": "execute_result"
    },
    {
     "data": {
      "image/png": "[encoded data removed]",
      "text/plain": [
       "<Figure size 432x288 with 1 Axes>"
      ]
     },
     "metadata": {
      "needs_background": "light"
     },
     "output_type": "display_data"
    }
   ],
   "source": [
    "df_pivot_diff.sort_values(\"stamp_2\", ascending = False)[\"stamp_2\"].head(10).plot.barh()"
   ]
  },
  {
   "cell_type": "code",
   "execution_count": null,
   "id": "extra-executive",
   "metadata": {
    "papermill": {
     "duration": 0.022031,
     "end_time": "2021-09-07T13:30:10.077930",
     "exception": false,
     "start_time": "2021-09-07T13:30:10.055899",
     "status": "completed"
    },
    "tags": []
   },
   "outputs": [],
   "source": []
  }
 ],
 "metadata": {
  "kernelspec": {
   "display_name": "Python 3",
   "language": "python",
   "name": "python3"
  },
  "language_info": {
   "codemirror_mode": {
    "name": "ipython",
    "version": 3
   },
   "file_extension": ".py",
   "mimetype": "text/x-python",
   "name": "python",
   "nbconvert_exporter": "python",
   "pygments_lexer": "ipython3",
   "version": "3.9.5"
  },
  "papermill": {
   "default_parameters": {},
   "duration": 6.44974,
   "end_time": "2021-09-07T13:30:10.719285",
   "environment_variables": {},
   "exception": null,
   "input_path": "eBay_Overview.ipynb",
   "output_path": "eBay_Overview.ipynb",
   "parameters": {},
   "start_time": "2021-09-07T13:30:04.269545",
   "version": "2.3.3"
  }
 },
 "nbformat": 4,
 "nbformat_minor": 5
}