{
 "cells": [
  {
   "cell_type": "code",
   "execution_count": 1,
   "id": "reverse-picking",
   "metadata": {
    "execution": {
     "iopub.execute_input": "2021-09-18T07:00:06.920738Z",
     "iopub.status.busy": "2021-09-18T07:00:06.918674Z",
     "iopub.status.idle": "2021-09-18T07:00:07.718639Z",
     "shell.execute_reply": "2021-09-18T07:00:07.720148Z"
    },
    "papermill": {
     "duration": 0.852292,
     "end_time": "2021-09-18T07:00:07.720950",
     "exception": false,
     "start_time": "2021-09-18T07:00:06.868658",
     "status": "completed"
    },
    "tags": []
   },
   "outputs": [],
   "source": [
    "import pandas as pd\n",
    "import sqlite3"
   ]
  },
  {
   "cell_type": "code",
   "execution_count": 2,
   "id": "innovative-syndrome",
   "metadata": {
    "execution": {
     "iopub.execute_input": "2021-09-18T07:00:07.772566Z",
     "iopub.status.busy": "2021-09-18T07:00:07.770183Z",
     "iopub.status.idle": "2021-09-18T07:00:08.081245Z",
     "shell.execute_reply": "2021-09-18T07:00:08.082502Z"
    },
    "papermill": {
     "duration": 0.340971,
     "end_time": "2021-09-18T07:00:08.082983",
     "exception": false,
     "start_time": "2021-09-18T07:00:07.742012",
     "status": "completed"
    },
    "tags": []
   },
   "outputs": [],
   "source": [
    "timestamps = pd.read_sql(\"select distinct record_time from EBAY_TOP_BERLIN order by record_time desc limit 2\", sqlite3.connect(\"UsedObjects.db\"))"
   ]
  },
  {
   "cell_type": "code",
   "execution_count": 3,
   "id": "periodic-identification",
   "metadata": {
    "execution": {
     "iopub.execute_input": "2021-09-18T07:00:08.148790Z",
     "iopub.status.busy": "2021-09-18T07:00:08.146726Z",
     "iopub.status.idle": "2021-09-18T07:00:08.166865Z",
     "shell.execute_reply": "2021-09-18T07:00:08.168167Z"
    },
    "papermill": {
     "duration": 0.06644,
     "end_time": "2021-09-18T07:00:08.168581",
     "exception": false,
     "start_time": "2021-09-18T07:00:08.102141",
     "status": "completed"
    },
    "tags": []
   },
   "outputs": [
    {
     "data": {
      "text/html": [
       "<div>\n",
       "<style scoped>\n",
       "    .dataframe tbody tr th:only-of-type {\n",
       "        vertical-align: middle;\n",
       "    }\n",
       "\n",
       "    .dataframe tbody tr th {\n",
       "        vertical-align: top;\n",
       "    }\n",
       "\n",
       "    .dataframe thead th {\n",
       "        text-align: right;\n",
       "    }\n",
       "</style>\n",
       "<table border=\"1\" class=\"dataframe\">\n",
       "  <thead>\n",
       "    <tr style=\"text-align: right;\">\n",
       "      <th></th>\n",
       "      <th>RECORD_TIME</th>\n",
       "    </tr>\n",
       "  </thead>\n",
       "  <tbody>\n",
       "    <tr>\n",
       "      <th>0</th>\n",
       "      <td>2021-09-18 09:00</td>\n",
       "    </tr>\n",
       "    <tr>\n",
       "      <th>1</th>\n",
       "      <td>2021-09-18 08:30</td>\n",
       "    </tr>\n",
       "  </tbody>\n",
       "</table>\n",
       "</div>"
      ],
      "text/plain": [
       "        RECORD_TIME\n",
       "0  2021-09-18 09:00\n",
       "1  2021-09-18 08:30"
      ]
     },
     "execution_count": 3,
     "metadata": {},
     "output_type": "execute_result"
    }
   ],
   "source": [
    "timestamps"
   ]
  },
  {
   "cell_type": "code",
   "execution_count": 4,
   "id": "alternate-victory",
   "metadata": {
    "execution": {
     "iopub.execute_input": "2021-09-18T07:00:08.221203Z",
     "iopub.status.busy": "2021-09-18T07:00:08.219072Z",
     "iopub.status.idle": "2021-09-18T07:00:08.684552Z",
     "shell.execute_reply": "2021-09-18T07:00:08.685754Z"
    },
    "papermill": {
     "duration": 0.495468,
     "end_time": "2021-09-18T07:00:08.686153",
     "exception": false,
     "start_time": "2021-09-18T07:00:08.190685",
     "status": "completed"
    },
    "tags": []
   },
   "outputs": [],
   "source": [
    "df = pd.read_sql(\"select * from EBAY_TOP_BERLIN where record_time in (select distinct record_time from EBAY_TOP_BERLIN order by record_time desc limit 2)\", sqlite3.connect(\"UsedObjects.db\"))"
   ]
  },
  {
   "cell_type": "code",
   "execution_count": 5,
   "id": "popular-active",
   "metadata": {
    "execution": {
     "iopub.execute_input": "2021-09-18T07:00:08.760164Z",
     "iopub.status.busy": "2021-09-18T07:00:08.748594Z",
     "iopub.status.idle": "2021-09-18T07:00:08.775822Z",
     "shell.execute_reply": "2021-09-18T07:00:08.777037Z"
    },
    "papermill": {
     "duration": 0.068153,
     "end_time": "2021-09-18T07:00:08.777435",
     "exception": false,
     "start_time": "2021-09-18T07:00:08.709282",
     "status": "completed"
    },
    "tags": []
   },
   "outputs": [],
   "source": [
    "df_pivot = df.pivot_table(index=\"PRODUCT\", columns = \"RECORD_TIME\", values = \"LISTING_COUNT\")"
   ]
  },
  {
   "cell_type": "code",
   "execution_count": 6,
   "id": "union-huntington",
   "metadata": {
    "execution": {
     "iopub.execute_input": "2021-09-18T07:00:08.837605Z",
     "iopub.status.busy": "2021-09-18T07:00:08.835177Z",
     "iopub.status.idle": "2021-09-18T07:00:08.841348Z",
     "shell.execute_reply": "2021-09-18T07:00:08.842690Z"
    },
    "papermill": {
     "duration": 0.0427,
     "end_time": "2021-09-18T07:00:08.843221",
     "exception": false,
     "start_time": "2021-09-18T07:00:08.800521",
     "status": "completed"
    },
    "tags": []
   },
   "outputs": [],
   "source": [
    "df_pivot.columns = [\"stamp_1\", \"stamp_2\"]\n",
    "df_pivot_diff = df_pivot.diff(axis=1)"
   ]
  },
  {
   "cell_type": "code",
   "execution_count": 7,
   "id": "fifth-motion",
   "metadata": {
    "execution": {
     "iopub.execute_input": "2021-09-18T07:00:08.898484Z",
     "iopub.status.busy": "2021-09-18T07:00:08.896285Z",
     "iopub.status.idle": "2021-09-18T07:00:10.371804Z",
     "shell.execute_reply": "2021-09-18T07:00:10.373091Z"
    },
    "papermill": {
     "duration": 1.508117,
     "end_time": "2021-09-18T07:00:10.373512",
     "exception": false,
     "start_time": "2021-09-18T07:00:08.865395",
     "status": "completed"
    },
    "tags": []
   },
   "outputs": [
    {
     "data": {
      "text/plain": [
       "<AxesSubplot:ylabel='PRODUCT'>"
      ]
     },
     "execution_count": 7,
     "metadata": {},
     "output_type": "execute_result"
    },
    {
     "data": {
      "image/png": "[encoded data removed]",
      "text/plain": [
       "<Figure size 432x288 with 1 Axes>"
      ]
     },
     "metadata": {
      "needs_background": "light"
     },
     "output_type": "display_data"
    }
   ],
   "source": [
    "df_pivot_diff.sort_values(\"stamp_2\", ascending = False)[\"stamp_2\"].head(10).plot.barh()"
   ]
  },
  {
   "cell_type": "code",
   "execution_count": null,
   "id": "extra-executive",
   "metadata": {
    "papermill": {
     "duration": 0.02208,
     "end_time": "2021-09-18T07:00:10.420085",
     "exception": false,
     "start_time": "2021-09-18T07:00:10.398005",
     "status": "completed"
    },
    "tags": []
   },
   "outputs": [],
   "source": []
  }
 ],
 "metadata": {
  "kernelspec": {
   "display_name": "Python 3",
   "language": "python",
   "name": "python3"
  },
  "language_info": {
   "codemirror_mode": {
    "name": "ipython",
    "version": 3
   },
   "file_extension": ".py",
   "mimetype": "text/x-python",
   "name": "python",
   "nbconvert_exporter": "python",
   "pygments_lexer": "ipython3",
   "version": "3.9.5"
  },
  "papermill": {
   "default_parameters": {},
   "duration": 6.58175,
   "end_time": "2021-09-18T07:00:11.061426",
   "environment_variables": {},
   "exception": null,
   "input_path": "eBay_Overview.ipynb",
   "output_path": "eBay_Overview.ipynb",
   "parameters": {},
   "start_time": "2021-09-18T07:00:04.479676",
   "version": "2.3.3"
  }
 },
 "nbformat": 4,
 "nbformat_minor": 5
}