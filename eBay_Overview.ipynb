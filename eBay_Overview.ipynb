{
 "cells": [
  {
   "cell_type": "code",
   "execution_count": 1,
   "id": "reverse-picking",
   "metadata": {
    "execution": {
     "iopub.execute_input": "2021-09-02T16:30:07.043807Z",
     "iopub.status.busy": "2021-09-02T16:30:07.041792Z",
     "iopub.status.idle": "2021-09-02T16:30:07.843991Z",
     "shell.execute_reply": "2021-09-02T16:30:07.845226Z"
    },
    "papermill": {
     "duration": 0.851244,
     "end_time": "2021-09-02T16:30:07.845849",
     "exception": false,
     "start_time": "2021-09-02T16:30:06.994605",
     "status": "completed"
    },
    "tags": []
   },
   "outputs": [],
   "source": [
    "import pandas as pd\n",
    "import sqlite3"
   ]
  },
  {
   "cell_type": "code",
   "execution_count": 2,
   "id": "innovative-syndrome",
   "metadata": {
    "execution": {
     "iopub.execute_input": "2021-09-02T16:30:07.896926Z",
     "iopub.status.busy": "2021-09-02T16:30:07.895066Z",
     "iopub.status.idle": "2021-09-02T16:30:08.089809Z",
     "shell.execute_reply": "2021-09-02T16:30:08.091186Z"
    },
    "papermill": {
     "duration": 0.224183,
     "end_time": "2021-09-02T16:30:08.091613",
     "exception": false,
     "start_time": "2021-09-02T16:30:07.867430",
     "status": "completed"
    },
    "tags": []
   },
   "outputs": [],
   "source": [
    "timestamps = pd.read_sql(\"select distinct record_time from EBAY_TOP_BERLIN order by record_time desc limit 2\", sqlite3.connect(\"UsedObjects.db\"))"
   ]
  },
  {
   "cell_type": "code",
   "execution_count": 3,
   "id": "periodic-identification",
   "metadata": {
    "execution": {
     "iopub.execute_input": "2021-09-02T16:30:08.161673Z",
     "iopub.status.busy": "2021-09-02T16:30:08.156708Z",
     "iopub.status.idle": "2021-09-02T16:30:08.176584Z",
     "shell.execute_reply": "2021-09-02T16:30:08.177860Z"
    },
    "papermill": {
     "duration": 0.065762,
     "end_time": "2021-09-02T16:30:08.178267",
     "exception": false,
     "start_time": "2021-09-02T16:30:08.112505",
     "status": "completed"
    },
    "tags": []
   },
   "outputs": [
    {
     "data": {
      "text/html": [
       "<div>\n",
       "<style scoped>\n",
       "    .dataframe tbody tr th:only-of-type {\n",
       "        vertical-align: middle;\n",
       "    }\n",
       "\n",
       "    .dataframe tbody tr th {\n",
       "        vertical-align: top;\n",
       "    }\n",
       "\n",
       "    .dataframe thead th {\n",
       "        text-align: right;\n",
       "    }\n",
       "</style>\n",
       "<table border=\"1\" class=\"dataframe\">\n",
       "  <thead>\n",
       "    <tr style=\"text-align: right;\">\n",
       "      <th></th>\n",
       "      <th>RECORD_TIME</th>\n",
       "    </tr>\n",
       "  </thead>\n",
       "  <tbody>\n",
       "    <tr>\n",
       "      <th>0</th>\n",
       "      <td>2021-09-02 18:30</td>\n",
       "    </tr>\n",
       "    <tr>\n",
       "      <th>1</th>\n",
       "      <td>2021-09-02 18:00</td>\n",
       "    </tr>\n",
       "  </tbody>\n",
       "</table>\n",
       "</div>"
      ],
      "text/plain": [
       "        RECORD_TIME\n",
       "0  2021-09-02 18:30\n",
       "1  2021-09-02 18:00"
      ]
     },
     "execution_count": 3,
     "metadata": {},
     "output_type": "execute_result"
    }
   ],
   "source": [
    "timestamps"
   ]
  },
  {
   "cell_type": "code",
   "execution_count": 4,
   "id": "alternate-victory",
   "metadata": {
    "execution": {
     "iopub.execute_input": "2021-09-02T16:30:08.229018Z",
     "iopub.status.busy": "2021-09-02T16:30:08.227166Z",
     "iopub.status.idle": "2021-09-02T16:30:08.511641Z",
     "shell.execute_reply": "2021-09-02T16:30:08.512927Z"
    },
    "papermill": {
     "duration": 0.314485,
     "end_time": "2021-09-02T16:30:08.513320",
     "exception": false,
     "start_time": "2021-09-02T16:30:08.198835",
     "status": "completed"
    },
    "tags": []
   },
   "outputs": [],
   "source": [
    "df = pd.read_sql(\"select * from EBAY_TOP_BERLIN where record_time in (select distinct record_time from EBAY_TOP_BERLIN order by record_time desc limit 2)\", sqlite3.connect(\"UsedObjects.db\"))"
   ]
  },
  {
   "cell_type": "code",
   "execution_count": 5,
   "id": "popular-active",
   "metadata": {
    "execution": {
     "iopub.execute_input": "2021-09-02T16:30:08.588210Z",
     "iopub.status.busy": "2021-09-02T16:30:08.580882Z",
     "iopub.status.idle": "2021-09-02T16:30:08.608495Z",
     "shell.execute_reply": "2021-09-02T16:30:08.609700Z"
    },
    "papermill": {
     "duration": 0.070984,
     "end_time": "2021-09-02T16:30:08.610092",
     "exception": false,
     "start_time": "2021-09-02T16:30:08.539108",
     "status": "completed"
    },
    "tags": []
   },
   "outputs": [],
   "source": [
    "df_pivot = df.pivot_table(index=\"PRODUCT\", columns = \"RECORD_TIME\", values = \"LISTING_COUNT\")"
   ]
  },
  {
   "cell_type": "code",
   "execution_count": 6,
   "id": "union-huntington",
   "metadata": {
    "execution": {
     "iopub.execute_input": "2021-09-02T16:30:08.668976Z",
     "iopub.status.busy": "2021-09-02T16:30:08.666512Z",
     "iopub.status.idle": "2021-09-02T16:30:08.672411Z",
     "shell.execute_reply": "2021-09-02T16:30:08.673664Z"
    },
    "papermill": {
     "duration": 0.041692,
     "end_time": "2021-09-02T16:30:08.674071",
     "exception": false,
     "start_time": "2021-09-02T16:30:08.632379",
     "status": "completed"
    },
    "tags": []
   },
   "outputs": [],
   "source": [
    "df_pivot.columns = [\"stamp_1\", \"stamp_2\"]\n",
    "df_pivot_diff = df_pivot.diff(axis=1)"
   ]
  },
  {
   "cell_type": "code",
   "execution_count": 7,
   "id": "fifth-motion",
   "metadata": {
    "execution": {
     "iopub.execute_input": "2021-09-02T16:30:08.727943Z",
     "iopub.status.busy": "2021-09-02T16:30:08.725403Z",
     "iopub.status.idle": "2021-09-02T16:30:10.178678Z",
     "shell.execute_reply": "2021-09-02T16:30:10.180169Z"
    },
    "papermill": {
     "duration": 1.486474,
     "end_time": "2021-09-02T16:30:10.180610",
     "exception": false,
     "start_time": "2021-09-02T16:30:08.694136",
     "status": "completed"
    },
    "tags": []
   },
   "outputs": [
    {
     "data": {
      "text/plain": [
       "<AxesSubplot:ylabel='PRODUCT'>"
      ]
     },
     "execution_count": 7,
     "metadata": {},
     "output_type": "execute_result"
    },
    {
     "data": {
      "image/png": "[encoded data removed]",
      "text/plain": [
       "<Figure size 432x288 with 1 Axes>"
      ]
     },
     "metadata": {
      "needs_background": "light"
     },
     "output_type": "display_data"
    }
   ],
   "source": [
    "df_pivot_diff.sort_values(\"stamp_2\", ascending = False)[\"stamp_2\"].head(10).plot.barh()"
   ]
  },
  {
   "cell_type": "code",
   "execution_count": null,
   "id": "extra-executive",
   "metadata": {
    "papermill": {
     "duration": 0.022036,
     "end_time": "2021-09-02T16:30:10.226222",
     "exception": false,
     "start_time": "2021-09-02T16:30:10.204186",
     "status": "completed"
    },
    "tags": []
   },
   "outputs": [],
   "source": []
  }
 ],
 "metadata": {
  "kernelspec": {
   "display_name": "Python 3",
   "language": "python",
   "name": "python3"
  },
  "language_info": {
   "codemirror_mode": {
    "name": "ipython",
    "version": 3
   },
   "file_extension": ".py",
   "mimetype": "text/x-python",
   "name": "python",
   "nbconvert_exporter": "python",
   "pygments_lexer": "ipython3",
   "version": "3.9.5"
  },
  "papermill": {
   "default_parameters": {},
   "duration": 6.820917,
   "end_time": "2021-09-02T16:30:11.418352",
   "environment_variables": {},
   "exception": null,
   "input_path": "eBay_Overview.ipynb",
   "output_path": "eBay_Overview.ipynb",
   "parameters": {},
   "start_time": "2021-09-02T16:30:04.597435",
   "version": "2.3.3"
  }
 },
 "nbformat": 4,
 "nbformat_minor": 5
}