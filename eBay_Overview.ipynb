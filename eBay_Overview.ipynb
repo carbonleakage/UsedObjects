{
 "cells": [
  {
   "cell_type": "code",
   "execution_count": 1,
   "id": "reverse-picking",
   "metadata": {
    "execution": {
     "iopub.execute_input": "2021-10-17T03:30:06.591299Z",
     "iopub.status.busy": "2021-10-17T03:30:06.589173Z",
     "iopub.status.idle": "2021-10-17T03:30:07.393197Z",
     "shell.execute_reply": "2021-10-17T03:30:07.394517Z"
    },
    "papermill": {
     "duration": 0.85546,
     "end_time": "2021-10-17T03:30:07.395138",
     "exception": false,
     "start_time": "2021-10-17T03:30:06.539678",
     "status": "completed"
    },
    "tags": []
   },
   "outputs": [],
   "source": [
    "import pandas as pd\n",
    "import sqlite3"
   ]
  },
  {
   "cell_type": "code",
   "execution_count": 2,
   "id": "innovative-syndrome",
   "metadata": {
    "execution": {
     "iopub.execute_input": "2021-10-17T03:30:07.447312Z",
     "iopub.status.busy": "2021-10-17T03:30:07.445126Z",
     "iopub.status.idle": "2021-10-17T03:30:08.008414Z",
     "shell.execute_reply": "2021-10-17T03:30:08.009877Z"
    },
    "papermill": {
     "duration": 0.593461,
     "end_time": "2021-10-17T03:30:08.010329",
     "exception": false,
     "start_time": "2021-10-17T03:30:07.416868",
     "status": "completed"
    },
    "tags": []
   },
   "outputs": [],
   "source": [
    "timestamps = pd.read_sql(\"select distinct record_time from EBAY_TOP_BERLIN order by record_time desc limit 2\", sqlite3.connect(\"UsedObjects.db\"))"
   ]
  },
  {
   "cell_type": "code",
   "execution_count": 3,
   "id": "periodic-identification",
   "metadata": {
    "execution": {
     "iopub.execute_input": "2021-10-17T03:30:08.084226Z",
     "iopub.status.busy": "2021-10-17T03:30:08.082175Z",
     "iopub.status.idle": "2021-10-17T03:30:08.102037Z",
     "shell.execute_reply": "2021-10-17T03:30:08.103310Z"
    },
    "papermill": {
     "duration": 0.067588,
     "end_time": "2021-10-17T03:30:08.103709",
     "exception": false,
     "start_time": "2021-10-17T03:30:08.036121",
     "status": "completed"
    },
    "tags": []
   },
   "outputs": [
    {
     "data": {
      "text/html": [
       "<div>\n",
       "<style scoped>\n",
       "    .dataframe tbody tr th:only-of-type {\n",
       "        vertical-align: middle;\n",
       "    }\n",
       "\n",
       "    .dataframe tbody tr th {\n",
       "        vertical-align: top;\n",
       "    }\n",
       "\n",
       "    .dataframe thead th {\n",
       "        text-align: right;\n",
       "    }\n",
       "</style>\n",
       "<table border=\"1\" class=\"dataframe\">\n",
       "  <thead>\n",
       "    <tr style=\"text-align: right;\">\n",
       "      <th></th>\n",
       "      <th>RECORD_TIME</th>\n",
       "    </tr>\n",
       "  </thead>\n",
       "  <tbody>\n",
       "    <tr>\n",
       "      <th>0</th>\n",
       "      <td>2021-10-17 05:30</td>\n",
       "    </tr>\n",
       "    <tr>\n",
       "      <th>1</th>\n",
       "      <td>2021-10-17 05:00</td>\n",
       "    </tr>\n",
       "  </tbody>\n",
       "</table>\n",
       "</div>"
      ],
      "text/plain": [
       "        RECORD_TIME\n",
       "0  2021-10-17 05:30\n",
       "1  2021-10-17 05:00"
      ]
     },
     "execution_count": 3,
     "metadata": {},
     "output_type": "execute_result"
    }
   ],
   "source": [
    "timestamps"
   ]
  },
  {
   "cell_type": "code",
   "execution_count": 4,
   "id": "alternate-victory",
   "metadata": {
    "execution": {
     "iopub.execute_input": "2021-10-17T03:30:08.157019Z",
     "iopub.status.busy": "2021-10-17T03:30:08.154663Z",
     "iopub.status.idle": "2021-10-17T03:30:08.989881Z",
     "shell.execute_reply": "2021-10-17T03:30:08.991186Z"
    },
    "papermill": {
     "duration": 0.865834,
     "end_time": "2021-10-17T03:30:08.991587",
     "exception": false,
     "start_time": "2021-10-17T03:30:08.125753",
     "status": "completed"
    },
    "tags": []
   },
   "outputs": [],
   "source": [
    "df = pd.read_sql(\"select * from EBAY_TOP_BERLIN where record_time in (select distinct record_time from EBAY_TOP_BERLIN order by record_time desc limit 2)\", sqlite3.connect(\"UsedObjects.db\"))"
   ]
  },
  {
   "cell_type": "code",
   "execution_count": 5,
   "id": "popular-active",
   "metadata": {
    "execution": {
     "iopub.execute_input": "2021-10-17T03:30:09.063260Z",
     "iopub.status.busy": "2021-10-17T03:30:09.050542Z",
     "iopub.status.idle": "2021-10-17T03:30:09.080170Z",
     "shell.execute_reply": "2021-10-17T03:30:09.078830Z"
    },
    "papermill": {
     "duration": 0.068304,
     "end_time": "2021-10-17T03:30:09.080510",
     "exception": false,
     "start_time": "2021-10-17T03:30:09.012206",
     "status": "completed"
    },
    "tags": []
   },
   "outputs": [],
   "source": [
    "df_pivot = df.pivot_table(index=\"PRODUCT\", columns = \"RECORD_TIME\", values = \"LISTING_COUNT\")"
   ]
  },
  {
   "cell_type": "code",
   "execution_count": 6,
   "id": "union-huntington",
   "metadata": {
    "execution": {
     "iopub.execute_input": "2021-10-17T03:30:09.137221Z",
     "iopub.status.busy": "2021-10-17T03:30:09.134968Z",
     "iopub.status.idle": "2021-10-17T03:30:09.140593Z",
     "shell.execute_reply": "2021-10-17T03:30:09.142252Z"
    },
    "papermill": {
     "duration": 0.041412,
     "end_time": "2021-10-17T03:30:09.142831",
     "exception": false,
     "start_time": "2021-10-17T03:30:09.101419",
     "status": "completed"
    },
    "tags": []
   },
   "outputs": [],
   "source": [
    "df_pivot.columns = [\"stamp_1\", \"stamp_2\"]\n",
    "df_pivot_diff = df_pivot.diff(axis=1)"
   ]
  },
  {
   "cell_type": "code",
   "execution_count": 7,
   "id": "fifth-motion",
   "metadata": {
    "execution": {
     "iopub.execute_input": "2021-10-17T03:30:09.198919Z",
     "iopub.status.busy": "2021-10-17T03:30:09.196399Z",
     "iopub.status.idle": "2021-10-17T03:30:10.674605Z",
     "shell.execute_reply": "2021-10-17T03:30:10.675924Z"
    },
    "papermill": {
     "duration": 1.511807,
     "end_time": "2021-10-17T03:30:10.676345",
     "exception": false,
     "start_time": "2021-10-17T03:30:09.164538",
     "status": "completed"
    },
    "tags": []
   },
   "outputs": [
    {
     "data": {
      "text/plain": [
       "<AxesSubplot:ylabel='PRODUCT'>"
      ]
     },
     "execution_count": 7,
     "metadata": {},
     "output_type": "execute_result"
    },
    {
     "data": {
      "image/png": "[encoded data removed]",
      "text/plain": [
       "<Figure size 432x288 with 1 Axes>"
      ]
     },
     "metadata": {
      "needs_background": "light"
     },
     "output_type": "display_data"
    }
   ],
   "source": [
    "df_pivot_diff.sort_values(\"stamp_2\", ascending = False)[\"stamp_2\"].head(10).plot.barh()"
   ]
  },
  {
   "cell_type": "code",
   "execution_count": null,
   "id": "extra-executive",
   "metadata": {
    "papermill": {
     "duration": 0.022196,
     "end_time": "2021-10-17T03:30:10.723397",
     "exception": false,
     "start_time": "2021-10-17T03:30:10.701201",
     "status": "completed"
    },
    "tags": []
   },
   "outputs": [],
   "source": []
  }
 ],
 "metadata": {
  "kernelspec": {
   "display_name": "Python 3",
   "language": "python",
   "name": "python3"
  },
  "language_info": {
   "codemirror_mode": {
    "name": "ipython",
    "version": 3
   },
   "file_extension": ".py",
   "mimetype": "text/x-python",
   "name": "python",
   "nbconvert_exporter": "python",
   "pygments_lexer": "ipython3",
   "version": "3.9.5"
  },
  "papermill": {
   "default_parameters": {},
   "duration": 7.819524,
   "end_time": "2021-10-17T03:30:11.955628",
   "environment_variables": {},
   "exception": null,
   "input_path": "eBay_Overview.ipynb",
   "output_path": "eBay_Overview.ipynb",
   "parameters": {},
   "start_time": "2021-10-17T03:30:04.136104",
   "version": "2.3.3"
  }
 },
 "nbformat": 4,
 "nbformat_minor": 5
}