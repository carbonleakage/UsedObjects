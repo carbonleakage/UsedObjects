{
 "cells": [
  {
   "cell_type": "code",
   "execution_count": 1,
   "id": "reverse-picking",
   "metadata": {
    "execution": {
     "iopub.execute_input": "2021-10-21T17:30:07.884636Z",
     "iopub.status.busy": "2021-10-21T17:30:07.882692Z",
     "iopub.status.idle": "2021-10-21T17:30:08.692271Z",
     "shell.execute_reply": "2021-10-21T17:30:08.693656Z"
    },
    "papermill": {
     "duration": 0.861759,
     "end_time": "2021-10-21T17:30:08.694298",
     "exception": false,
     "start_time": "2021-10-21T17:30:07.832539",
     "status": "completed"
    },
    "tags": []
   },
   "outputs": [],
   "source": [
    "import pandas as pd\n",
    "import sqlite3"
   ]
  },
  {
   "cell_type": "code",
   "execution_count": 2,
   "id": "innovative-syndrome",
   "metadata": {
    "execution": {
     "iopub.execute_input": "2021-10-21T17:30:08.747318Z",
     "iopub.status.busy": "2021-10-21T17:30:08.745139Z",
     "iopub.status.idle": "2021-10-21T17:30:09.351645Z",
     "shell.execute_reply": "2021-10-21T17:30:09.352977Z"
    },
    "papermill": {
     "duration": 0.636532,
     "end_time": "2021-10-21T17:30:09.353413",
     "exception": false,
     "start_time": "2021-10-21T17:30:08.716881",
     "status": "completed"
    },
    "tags": []
   },
   "outputs": [],
   "source": [
    "timestamps = pd.read_sql(\"select distinct record_time from EBAY_TOP_BERLIN order by record_time desc limit 2\", sqlite3.connect(\"UsedObjects.db\"))"
   ]
  },
  {
   "cell_type": "code",
   "execution_count": 3,
   "id": "periodic-identification",
   "metadata": {
    "execution": {
     "iopub.execute_input": "2021-10-21T17:30:09.416725Z",
     "iopub.status.busy": "2021-10-21T17:30:09.414663Z",
     "iopub.status.idle": "2021-10-21T17:30:09.434720Z",
     "shell.execute_reply": "2021-10-21T17:30:09.435913Z"
    },
    "papermill": {
     "duration": 0.063421,
     "end_time": "2021-10-21T17:30:09.436351",
     "exception": false,
     "start_time": "2021-10-21T17:30:09.372930",
     "status": "completed"
    },
    "tags": []
   },
   "outputs": [
    {
     "data": {
      "text/html": [
       "<div>\n",
       "<style scoped>\n",
       "    .dataframe tbody tr th:only-of-type {\n",
       "        vertical-align: middle;\n",
       "    }\n",
       "\n",
       "    .dataframe tbody tr th {\n",
       "        vertical-align: top;\n",
       "    }\n",
       "\n",
       "    .dataframe thead th {\n",
       "        text-align: right;\n",
       "    }\n",
       "</style>\n",
       "<table border=\"1\" class=\"dataframe\">\n",
       "  <thead>\n",
       "    <tr style=\"text-align: right;\">\n",
       "      <th></th>\n",
       "      <th>RECORD_TIME</th>\n",
       "    </tr>\n",
       "  </thead>\n",
       "  <tbody>\n",
       "    <tr>\n",
       "      <th>0</th>\n",
       "      <td>2021-10-21 19:30</td>\n",
       "    </tr>\n",
       "    <tr>\n",
       "      <th>1</th>\n",
       "      <td>2021-10-21 19:00</td>\n",
       "    </tr>\n",
       "  </tbody>\n",
       "</table>\n",
       "</div>"
      ],
      "text/plain": [
       "        RECORD_TIME\n",
       "0  2021-10-21 19:30\n",
       "1  2021-10-21 19:00"
      ]
     },
     "execution_count": 3,
     "metadata": {},
     "output_type": "execute_result"
    }
   ],
   "source": [
    "timestamps"
   ]
  },
  {
   "cell_type": "code",
   "execution_count": 4,
   "id": "alternate-victory",
   "metadata": {
    "execution": {
     "iopub.execute_input": "2021-10-21T17:30:09.488950Z",
     "iopub.status.busy": "2021-10-21T17:30:09.487011Z",
     "iopub.status.idle": "2021-10-21T17:30:10.377727Z",
     "shell.execute_reply": "2021-10-21T17:30:10.379144Z"
    },
    "papermill": {
     "duration": 0.920952,
     "end_time": "2021-10-21T17:30:10.379590",
     "exception": false,
     "start_time": "2021-10-21T17:30:09.458638",
     "status": "completed"
    },
    "tags": []
   },
   "outputs": [],
   "source": [
    "df = pd.read_sql(\"select * from EBAY_TOP_BERLIN where record_time in (select distinct record_time from EBAY_TOP_BERLIN order by record_time desc limit 2)\", sqlite3.connect(\"UsedObjects.db\"))"
   ]
  },
  {
   "cell_type": "code",
   "execution_count": 5,
   "id": "popular-active",
   "metadata": {
    "execution": {
     "iopub.execute_input": "2021-10-21T17:30:10.450480Z",
     "iopub.status.busy": "2021-10-21T17:30:10.443680Z",
     "iopub.status.idle": "2021-10-21T17:30:10.465948Z",
     "shell.execute_reply": "2021-10-21T17:30:10.467194Z"
    },
    "papermill": {
     "duration": 0.066929,
     "end_time": "2021-10-21T17:30:10.467598",
     "exception": false,
     "start_time": "2021-10-21T17:30:10.400669",
     "status": "completed"
    },
    "tags": []
   },
   "outputs": [],
   "source": [
    "df_pivot = df.pivot_table(index=\"PRODUCT\", columns = \"RECORD_TIME\", values = \"LISTING_COUNT\")"
   ]
  },
  {
   "cell_type": "code",
   "execution_count": 6,
   "id": "union-huntington",
   "metadata": {
    "execution": {
     "iopub.execute_input": "2021-10-21T17:30:10.527293Z",
     "iopub.status.busy": "2021-10-21T17:30:10.524860Z",
     "iopub.status.idle": "2021-10-21T17:30:10.530819Z",
     "shell.execute_reply": "2021-10-21T17:30:10.532101Z"
    },
    "papermill": {
     "duration": 0.042371,
     "end_time": "2021-10-21T17:30:10.532521",
     "exception": false,
     "start_time": "2021-10-21T17:30:10.490150",
     "status": "completed"
    },
    "tags": []
   },
   "outputs": [],
   "source": [
    "df_pivot.columns = [\"stamp_1\", \"stamp_2\"]\n",
    "df_pivot_diff = df_pivot.diff(axis=1)"
   ]
  },
  {
   "cell_type": "code",
   "execution_count": 7,
   "id": "fifth-motion",
   "metadata": {
    "execution": {
     "iopub.execute_input": "2021-10-21T17:30:10.587229Z",
     "iopub.status.busy": "2021-10-21T17:30:10.584961Z",
     "iopub.status.idle": "2021-10-21T17:30:12.075379Z",
     "shell.execute_reply": "2021-10-21T17:30:12.076670Z"
    },
    "papermill": {
     "duration": 1.524018,
     "end_time": "2021-10-21T17:30:12.077340",
     "exception": false,
     "start_time": "2021-10-21T17:30:10.553322",
     "status": "completed"
    },
    "tags": []
   },
   "outputs": [
    {
     "data": {
      "text/plain": [
       "<AxesSubplot:ylabel='PRODUCT'>"
      ]
     },
     "execution_count": 7,
     "metadata": {},
     "output_type": "execute_result"
    },
    {
     "data": {
      "image/png": "[encoded data removed]",
      "text/plain": [
       "<Figure size 432x288 with 1 Axes>"
      ]
     },
     "metadata": {
      "needs_background": "light"
     },
     "output_type": "display_data"
    }
   ],
   "source": [
    "df_pivot_diff.sort_values(\"stamp_2\", ascending = False)[\"stamp_2\"].head(10).plot.barh()"
   ]
  },
  {
   "cell_type": "code",
   "execution_count": null,
   "id": "extra-executive",
   "metadata": {
    "papermill": {
     "duration": 0.024924,
     "end_time": "2021-10-21T17:30:12.129115",
     "exception": false,
     "start_time": "2021-10-21T17:30:12.104191",
     "status": "completed"
    },
    "tags": []
   },
   "outputs": [],
   "source": []
  }
 ],
 "metadata": {
  "kernelspec": {
   "display_name": "Python 3",
   "language": "python",
   "name": "python3"
  },
  "language_info": {
   "codemirror_mode": {
    "name": "ipython",
    "version": 3
   },
   "file_extension": ".py",
   "mimetype": "text/x-python",
   "name": "python",
   "nbconvert_exporter": "python",
   "pygments_lexer": "ipython3",
   "version": "3.9.5"
  },
  "papermill": {
   "default_parameters": {},
   "duration": 7.360796,
   "end_time": "2021-10-21T17:30:12.778928",
   "environment_variables": {},
   "exception": null,
   "input_path": "eBay_Overview.ipynb",
   "output_path": "eBay_Overview.ipynb",
   "parameters": {},
   "start_time": "2021-10-21T17:30:05.418132",
   "version": "2.3.3"
  }
 },
 "nbformat": 4,
 "nbformat_minor": 5
}