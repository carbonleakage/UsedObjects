{
 "cells": [
  {
   "cell_type": "code",
   "execution_count": 1,
   "id": "reverse-picking",
   "metadata": {
    "execution": {
     "iopub.execute_input": "2021-11-20T03:00:07.587660Z",
     "iopub.status.busy": "2021-11-20T03:00:07.585461Z",
     "iopub.status.idle": "2021-11-20T03:00:08.542922Z",
     "shell.execute_reply": "2021-11-20T03:00:08.544465Z"
    },
    "papermill": {
     "duration": 1.00536,
     "end_time": "2021-11-20T03:00:08.545233",
     "exception": false,
     "start_time": "2021-11-20T03:00:07.539873",
     "status": "completed"
    },
    "tags": []
   },
   "outputs": [],
   "source": [
    "import pandas as pd\n",
    "import sqlite3"
   ]
  },
  {
   "cell_type": "code",
   "execution_count": 2,
   "id": "innovative-syndrome",
   "metadata": {
    "execution": {
     "iopub.execute_input": "2021-11-20T03:00:08.609572Z",
     "iopub.status.busy": "2021-11-20T03:00:08.607128Z",
     "iopub.status.idle": "2021-11-20T03:00:09.469510Z",
     "shell.execute_reply": "2021-11-20T03:00:09.470994Z"
    },
    "papermill": {
     "duration": 0.896363,
     "end_time": "2021-11-20T03:00:09.471493",
     "exception": false,
     "start_time": "2021-11-20T03:00:08.575130",
     "status": "completed"
    },
    "tags": []
   },
   "outputs": [],
   "source": [
    "timestamps = pd.read_sql(\"select distinct record_time from EBAY_TOP_BERLIN order by record_time desc limit 2\", sqlite3.connect(\"UsedObjects.db\"))"
   ]
  },
  {
   "cell_type": "code",
   "execution_count": 3,
   "id": "periodic-identification",
   "metadata": {
    "execution": {
     "iopub.execute_input": "2021-11-20T03:00:09.540939Z",
     "iopub.status.busy": "2021-11-20T03:00:09.538599Z",
     "iopub.status.idle": "2021-11-20T03:00:09.560291Z",
     "shell.execute_reply": "2021-11-20T03:00:09.561874Z"
    },
    "papermill": {
     "duration": 0.071536,
     "end_time": "2021-11-20T03:00:09.562373",
     "exception": false,
     "start_time": "2021-11-20T03:00:09.490837",
     "status": "completed"
    },
    "tags": []
   },
   "outputs": [
    {
     "data": {
      "text/html": [
       "<div>\n",
       "<style scoped>\n",
       "    .dataframe tbody tr th:only-of-type {\n",
       "        vertical-align: middle;\n",
       "    }\n",
       "\n",
       "    .dataframe tbody tr th {\n",
       "        vertical-align: top;\n",
       "    }\n",
       "\n",
       "    .dataframe thead th {\n",
       "        text-align: right;\n",
       "    }\n",
       "</style>\n",
       "<table border=\"1\" class=\"dataframe\">\n",
       "  <thead>\n",
       "    <tr style=\"text-align: right;\">\n",
       "      <th></th>\n",
       "      <th>RECORD_TIME</th>\n",
       "    </tr>\n",
       "  </thead>\n",
       "  <tbody>\n",
       "    <tr>\n",
       "      <th>0</th>\n",
       "      <td>2021-11-20 04:00</td>\n",
       "    </tr>\n",
       "    <tr>\n",
       "      <th>1</th>\n",
       "      <td>2021-11-20 03:30</td>\n",
       "    </tr>\n",
       "  </tbody>\n",
       "</table>\n",
       "</div>"
      ],
      "text/plain": [
       "        RECORD_TIME\n",
       "0  2021-11-20 04:00\n",
       "1  2021-11-20 03:30"
      ]
     },
     "execution_count": 3,
     "metadata": {},
     "output_type": "execute_result"
    }
   ],
   "source": [
    "timestamps"
   ]
  },
  {
   "cell_type": "code",
   "execution_count": 4,
   "id": "alternate-victory",
   "metadata": {
    "execution": {
     "iopub.execute_input": "2021-11-20T03:00:09.616150Z",
     "iopub.status.busy": "2021-11-20T03:00:09.614073Z",
     "iopub.status.idle": "2021-11-20T03:00:10.875803Z",
     "shell.execute_reply": "2021-11-20T03:00:10.877369Z"
    },
    "papermill": {
     "duration": 1.294584,
     "end_time": "2021-11-20T03:00:10.877856",
     "exception": false,
     "start_time": "2021-11-20T03:00:09.583272",
     "status": "completed"
    },
    "tags": []
   },
   "outputs": [],
   "source": [
    "df = pd.read_sql(\"select * from EBAY_TOP_BERLIN where record_time in (select distinct record_time from EBAY_TOP_BERLIN order by record_time desc limit 2)\", sqlite3.connect(\"UsedObjects.db\"))"
   ]
  },
  {
   "cell_type": "code",
   "execution_count": 5,
   "id": "popular-active",
   "metadata": {
    "execution": {
     "iopub.execute_input": "2021-11-20T03:00:10.957449Z",
     "iopub.status.busy": "2021-11-20T03:00:10.944004Z",
     "iopub.status.idle": "2021-11-20T03:00:10.979622Z",
     "shell.execute_reply": "2021-11-20T03:00:10.981238Z"
    },
    "papermill": {
     "duration": 0.079891,
     "end_time": "2021-11-20T03:00:10.981730",
     "exception": false,
     "start_time": "2021-11-20T03:00:10.901839",
     "status": "completed"
    },
    "tags": []
   },
   "outputs": [],
   "source": [
    "df_pivot = df.pivot_table(index=\"PRODUCT\", columns = \"RECORD_TIME\", values = \"LISTING_COUNT\")"
   ]
  },
  {
   "cell_type": "code",
   "execution_count": 6,
   "id": "union-huntington",
   "metadata": {
    "execution": {
     "iopub.execute_input": "2021-11-20T03:00:11.041898Z",
     "iopub.status.busy": "2021-11-20T03:00:11.039624Z",
     "iopub.status.idle": "2021-11-20T03:00:11.045237Z",
     "shell.execute_reply": "2021-11-20T03:00:11.046596Z"
    },
    "papermill": {
     "duration": 0.043442,
     "end_time": "2021-11-20T03:00:11.047064",
     "exception": false,
     "start_time": "2021-11-20T03:00:11.003622",
     "status": "completed"
    },
    "tags": []
   },
   "outputs": [],
   "source": [
    "df_pivot.columns = [\"stamp_1\", \"stamp_2\"]\n",
    "df_pivot_diff = df_pivot.diff(axis=1)"
   ]
  },
  {
   "cell_type": "code",
   "execution_count": 7,
   "id": "fifth-motion",
   "metadata": {
    "execution": {
     "iopub.execute_input": "2021-11-20T03:00:11.111401Z",
     "iopub.status.busy": "2021-11-20T03:00:11.101247Z",
     "iopub.status.idle": "2021-11-20T03:00:12.914155Z",
     "shell.execute_reply": "2021-11-20T03:00:12.917239Z"
    },
    "papermill": {
     "duration": 1.850846,
     "end_time": "2021-11-20T03:00:12.918067",
     "exception": false,
     "start_time": "2021-11-20T03:00:11.067221",
     "status": "completed"
    },
    "tags": []
   },
   "outputs": [
    {
     "data": {
      "text/plain": [
       "<AxesSubplot:ylabel='PRODUCT'>"
      ]
     },
     "execution_count": 7,
     "metadata": {},
     "output_type": "execute_result"
    },
    {
     "data": {
      "image/png": "[encoded data removed]",
      "text/plain": [
       "<Figure size 432x288 with 1 Axes>"
      ]
     },
     "metadata": {
      "needs_background": "light"
     },
     "output_type": "display_data"
    }
   ],
   "source": [
    "df_pivot_diff.sort_values(\"stamp_2\", ascending = False)[\"stamp_2\"].head(10).plot.barh()"
   ]
  },
  {
   "cell_type": "code",
   "execution_count": null,
   "id": "extra-executive",
   "metadata": {
    "papermill": {
     "duration": 0.034776,
     "end_time": "2021-11-20T03:00:12.989085",
     "exception": false,
     "start_time": "2021-11-20T03:00:12.954309",
     "status": "completed"
    },
    "tags": []
   },
   "outputs": [],
   "source": []
  }
 ],
 "metadata": {
  "kernelspec": {
   "display_name": "Python 3",
   "language": "python",
   "name": "python3"
  },
  "language_info": {
   "codemirror_mode": {
    "name": "ipython",
    "version": 3
   },
   "file_extension": ".py",
   "mimetype": "text/x-python",
   "name": "python",
   "nbconvert_exporter": "python",
   "pygments_lexer": "ipython3",
   "version": "3.9.5"
  },
  "papermill": {
   "default_parameters": {},
   "duration": 10.000767,
   "end_time": "2021-11-20T03:00:14.732047",
   "environment_variables": {},
   "exception": null,
   "input_path": "eBay_Overview.ipynb",
   "output_path": "eBay_Overview.ipynb",
   "parameters": {},
   "start_time": "2021-11-20T03:00:04.731280",
   "version": "2.3.3"
  }
 },
 "nbformat": 4,
 "nbformat_minor": 5
}