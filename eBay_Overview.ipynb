{
 "cells": [
  {
   "cell_type": "code",
   "execution_count": 1,
   "id": "reverse-picking",
   "metadata": {
    "execution": {
     "iopub.execute_input": "2021-09-07T13:00:07.165031Z",
     "iopub.status.busy": "2021-09-07T13:00:07.163088Z",
     "iopub.status.idle": "2021-09-07T13:00:07.975725Z",
     "shell.execute_reply": "2021-09-07T13:00:07.973886Z"
    },
    "papermill": {
     "duration": 0.863294,
     "end_time": "2021-09-07T13:00:07.976148",
     "exception": false,
     "start_time": "2021-09-07T13:00:07.112854",
     "status": "completed"
    },
    "tags": []
   },
   "outputs": [],
   "source": [
    "import pandas as pd\n",
    "import sqlite3"
   ]
  },
  {
   "cell_type": "code",
   "execution_count": 2,
   "id": "innovative-syndrome",
   "metadata": {
    "execution": {
     "iopub.execute_input": "2021-09-07T13:00:08.028287Z",
     "iopub.status.busy": "2021-09-07T13:00:08.025898Z",
     "iopub.status.idle": "2021-09-07T13:00:08.256164Z",
     "shell.execute_reply": "2021-09-07T13:00:08.257351Z"
    },
    "papermill": {
     "duration": 0.26023,
     "end_time": "2021-09-07T13:00:08.257742",
     "exception": false,
     "start_time": "2021-09-07T13:00:07.997512",
     "status": "completed"
    },
    "tags": []
   },
   "outputs": [],
   "source": [
    "timestamps = pd.read_sql(\"select distinct record_time from EBAY_TOP_BERLIN order by record_time desc limit 2\", sqlite3.connect(\"UsedObjects.db\"))"
   ]
  },
  {
   "cell_type": "code",
   "execution_count": 3,
   "id": "periodic-identification",
   "metadata": {
    "execution": {
     "iopub.execute_input": "2021-09-07T13:00:08.325602Z",
     "iopub.status.busy": "2021-09-07T13:00:08.320757Z",
     "iopub.status.idle": "2021-09-07T13:00:08.344836Z",
     "shell.execute_reply": "2021-09-07T13:00:08.346039Z"
    },
    "papermill": {
     "duration": 0.067752,
     "end_time": "2021-09-07T13:00:08.346432",
     "exception": false,
     "start_time": "2021-09-07T13:00:08.278680",
     "status": "completed"
    },
    "tags": []
   },
   "outputs": [
    {
     "data": {
      "text/html": [
       "<div>\n",
       "<style scoped>\n",
       "    .dataframe tbody tr th:only-of-type {\n",
       "        vertical-align: middle;\n",
       "    }\n",
       "\n",
       "    .dataframe tbody tr th {\n",
       "        vertical-align: top;\n",
       "    }\n",
       "\n",
       "    .dataframe thead th {\n",
       "        text-align: right;\n",
       "    }\n",
       "</style>\n",
       "<table border=\"1\" class=\"dataframe\">\n",
       "  <thead>\n",
       "    <tr style=\"text-align: right;\">\n",
       "      <th></th>\n",
       "      <th>RECORD_TIME</th>\n",
       "    </tr>\n",
       "  </thead>\n",
       "  <tbody>\n",
       "    <tr>\n",
       "      <th>0</th>\n",
       "      <td>2021-09-07 15:00</td>\n",
       "    </tr>\n",
       "    <tr>\n",
       "      <th>1</th>\n",
       "      <td>2021-09-07 14:30</td>\n",
       "    </tr>\n",
       "  </tbody>\n",
       "</table>\n",
       "</div>"
      ],
      "text/plain": [
       "        RECORD_TIME\n",
       "0  2021-09-07 15:00\n",
       "1  2021-09-07 14:30"
      ]
     },
     "execution_count": 3,
     "metadata": {},
     "output_type": "execute_result"
    }
   ],
   "source": [
    "timestamps"
   ]
  },
  {
   "cell_type": "code",
   "execution_count": 4,
   "id": "alternate-victory",
   "metadata": {
    "execution": {
     "iopub.execute_input": "2021-09-07T13:00:08.398934Z",
     "iopub.status.busy": "2021-09-07T13:00:08.396605Z",
     "iopub.status.idle": "2021-09-07T13:00:08.743355Z",
     "shell.execute_reply": "2021-09-07T13:00:08.744652Z"
    },
    "papermill": {
     "duration": 0.37764,
     "end_time": "2021-09-07T13:00:08.745102",
     "exception": false,
     "start_time": "2021-09-07T13:00:08.367462",
     "status": "completed"
    },
    "tags": []
   },
   "outputs": [],
   "source": [
    "df = pd.read_sql(\"select * from EBAY_TOP_BERLIN where record_time in (select distinct record_time from EBAY_TOP_BERLIN order by record_time desc limit 2)\", sqlite3.connect(\"UsedObjects.db\"))"
   ]
  },
  {
   "cell_type": "code",
   "execution_count": 5,
   "id": "popular-active",
   "metadata": {
    "execution": {
     "iopub.execute_input": "2021-09-07T13:00:08.842985Z",
     "iopub.status.busy": "2021-09-07T13:00:08.830104Z",
     "iopub.status.idle": "2021-09-07T13:00:08.859024Z",
     "shell.execute_reply": "2021-09-07T13:00:08.860318Z"
    },
    "papermill": {
     "duration": 0.07719,
     "end_time": "2021-09-07T13:00:08.860731",
     "exception": false,
     "start_time": "2021-09-07T13:00:08.783541",
     "status": "completed"
    },
    "tags": []
   },
   "outputs": [],
   "source": [
    "df_pivot = df.pivot_table(index=\"PRODUCT\", columns = \"RECORD_TIME\", values = \"LISTING_COUNT\")"
   ]
  },
  {
   "cell_type": "code",
   "execution_count": 6,
   "id": "union-huntington",
   "metadata": {
    "execution": {
     "iopub.execute_input": "2021-09-07T13:00:08.918791Z",
     "iopub.status.busy": "2021-09-07T13:00:08.916523Z",
     "iopub.status.idle": "2021-09-07T13:00:08.922384Z",
     "shell.execute_reply": "2021-09-07T13:00:08.923903Z"
    },
    "papermill": {
     "duration": 0.042036,
     "end_time": "2021-09-07T13:00:08.924369",
     "exception": false,
     "start_time": "2021-09-07T13:00:08.882333",
     "status": "completed"
    },
    "tags": []
   },
   "outputs": [],
   "source": [
    "df_pivot.columns = [\"stamp_1\", \"stamp_2\"]\n",
    "df_pivot_diff = df_pivot.diff(axis=1)"
   ]
  },
  {
   "cell_type": "code",
   "execution_count": 7,
   "id": "fifth-motion",
   "metadata": {
    "execution": {
     "iopub.execute_input": "2021-09-07T13:00:08.979376Z",
     "iopub.status.busy": "2021-09-07T13:00:08.976990Z",
     "iopub.status.idle": "2021-09-07T13:00:10.485898Z",
     "shell.execute_reply": "2021-09-07T13:00:10.487378Z"
    },
    "papermill": {
     "duration": 1.5417,
     "end_time": "2021-09-07T13:00:10.487864",
     "exception": false,
     "start_time": "2021-09-07T13:00:08.946164",
     "status": "completed"
    },
    "tags": []
   },
   "outputs": [
    {
     "data": {
      "text/plain": [
       "<AxesSubplot:ylabel='PRODUCT'>"
      ]
     },
     "execution_count": 7,
     "metadata": {},
     "output_type": "execute_result"
    },
    {
     "data": {
      "image/png": "[encoded data removed]",
      "text/plain": [
       "<Figure size 432x288 with 1 Axes>"
      ]
     },
     "metadata": {
      "needs_background": "light"
     },
     "output_type": "display_data"
    }
   ],
   "source": [
    "df_pivot_diff.sort_values(\"stamp_2\", ascending = False)[\"stamp_2\"].head(10).plot.barh()"
   ]
  },
  {
   "cell_type": "code",
   "execution_count": null,
   "id": "extra-executive",
   "metadata": {
    "papermill": {
     "duration": 0.023082,
     "end_time": "2021-09-07T13:00:10.535644",
     "exception": false,
     "start_time": "2021-09-07T13:00:10.512562",
     "status": "completed"
    },
    "tags": []
   },
   "outputs": [],
   "source": []
  }
 ],
 "metadata": {
  "kernelspec": {
   "display_name": "Python 3",
   "language": "python",
   "name": "python3"
  },
  "language_info": {
   "codemirror_mode": {
    "name": "ipython",
    "version": 3
   },
   "file_extension": ".py",
   "mimetype": "text/x-python",
   "name": "python",
   "nbconvert_exporter": "python",
   "pygments_lexer": "ipython3",
   "version": "3.9.5"
  },
  "papermill": {
   "default_parameters": {},
   "duration": 6.481955,
   "end_time": "2021-09-07T13:00:11.176403",
   "environment_variables": {},
   "exception": null,
   "input_path": "eBay_Overview.ipynb",
   "output_path": "eBay_Overview.ipynb",
   "parameters": {},
   "start_time": "2021-09-07T13:00:04.694448",
   "version": "2.3.3"
  }
 },
 "nbformat": 4,
 "nbformat_minor": 5
}