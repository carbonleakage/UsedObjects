{
 "cells": [
  {
   "cell_type": "code",
   "execution_count": 1,
   "id": "reverse-picking",
   "metadata": {
    "execution": {
     "iopub.execute_input": "2021-09-13T13:30:06.994284Z",
     "iopub.status.busy": "2021-09-13T13:30:06.992384Z",
     "iopub.status.idle": "2021-09-13T13:30:07.796360Z",
     "shell.execute_reply": "2021-09-13T13:30:07.797773Z"
    },
    "papermill": {
     "duration": 0.856348,
     "end_time": "2021-09-13T13:30:07.798448",
     "exception": false,
     "start_time": "2021-09-13T13:30:06.942100",
     "status": "completed"
    },
    "tags": []
   },
   "outputs": [],
   "source": [
    "import pandas as pd\n",
    "import sqlite3"
   ]
  },
  {
   "cell_type": "code",
   "execution_count": 2,
   "id": "innovative-syndrome",
   "metadata": {
    "execution": {
     "iopub.execute_input": "2021-09-13T13:30:07.849453Z",
     "iopub.status.busy": "2021-09-13T13:30:07.847136Z",
     "iopub.status.idle": "2021-09-13T13:30:08.130979Z",
     "shell.execute_reply": "2021-09-13T13:30:08.132380Z"
    },
    "papermill": {
     "duration": 0.314252,
     "end_time": "2021-09-13T13:30:08.132818",
     "exception": false,
     "start_time": "2021-09-13T13:30:07.818566",
     "status": "completed"
    },
    "tags": []
   },
   "outputs": [],
   "source": [
    "timestamps = pd.read_sql(\"select distinct record_time from EBAY_TOP_BERLIN order by record_time desc limit 2\", sqlite3.connect(\"UsedObjects.db\"))"
   ]
  },
  {
   "cell_type": "code",
   "execution_count": 3,
   "id": "periodic-identification",
   "metadata": {
    "execution": {
     "iopub.execute_input": "2021-09-13T13:30:08.197202Z",
     "iopub.status.busy": "2021-09-13T13:30:08.195185Z",
     "iopub.status.idle": "2021-09-13T13:30:08.214926Z",
     "shell.execute_reply": "2021-09-13T13:30:08.216086Z"
    },
    "papermill": {
     "duration": 0.064505,
     "end_time": "2021-09-13T13:30:08.216495",
     "exception": false,
     "start_time": "2021-09-13T13:30:08.151990",
     "status": "completed"
    },
    "tags": []
   },
   "outputs": [
    {
     "data": {
      "text/html": [
       "<div>\n",
       "<style scoped>\n",
       "    .dataframe tbody tr th:only-of-type {\n",
       "        vertical-align: middle;\n",
       "    }\n",
       "\n",
       "    .dataframe tbody tr th {\n",
       "        vertical-align: top;\n",
       "    }\n",
       "\n",
       "    .dataframe thead th {\n",
       "        text-align: right;\n",
       "    }\n",
       "</style>\n",
       "<table border=\"1\" class=\"dataframe\">\n",
       "  <thead>\n",
       "    <tr style=\"text-align: right;\">\n",
       "      <th></th>\n",
       "      <th>RECORD_TIME</th>\n",
       "    </tr>\n",
       "  </thead>\n",
       "  <tbody>\n",
       "    <tr>\n",
       "      <th>0</th>\n",
       "      <td>2021-09-13 15:30</td>\n",
       "    </tr>\n",
       "    <tr>\n",
       "      <th>1</th>\n",
       "      <td>2021-09-13 15:00</td>\n",
       "    </tr>\n",
       "  </tbody>\n",
       "</table>\n",
       "</div>"
      ],
      "text/plain": [
       "        RECORD_TIME\n",
       "0  2021-09-13 15:30\n",
       "1  2021-09-13 15:00"
      ]
     },
     "execution_count": 3,
     "metadata": {},
     "output_type": "execute_result"
    }
   ],
   "source": [
    "timestamps"
   ]
  },
  {
   "cell_type": "code",
   "execution_count": 4,
   "id": "alternate-victory",
   "metadata": {
    "execution": {
     "iopub.execute_input": "2021-09-13T13:30:08.267950Z",
     "iopub.status.busy": "2021-09-13T13:30:08.265989Z",
     "iopub.status.idle": "2021-09-13T13:30:08.688733Z",
     "shell.execute_reply": "2021-09-13T13:30:08.689992Z"
    },
    "papermill": {
     "duration": 0.452596,
     "end_time": "2021-09-13T13:30:08.690399",
     "exception": false,
     "start_time": "2021-09-13T13:30:08.237803",
     "status": "completed"
    },
    "tags": []
   },
   "outputs": [],
   "source": [
    "df = pd.read_sql(\"select * from EBAY_TOP_BERLIN where record_time in (select distinct record_time from EBAY_TOP_BERLIN order by record_time desc limit 2)\", sqlite3.connect(\"UsedObjects.db\"))"
   ]
  },
  {
   "cell_type": "code",
   "execution_count": 5,
   "id": "popular-active",
   "metadata": {
    "execution": {
     "iopub.execute_input": "2021-09-13T13:30:08.764630Z",
     "iopub.status.busy": "2021-09-13T13:30:08.757134Z",
     "iopub.status.idle": "2021-09-13T13:30:08.785845Z",
     "shell.execute_reply": "2021-09-13T13:30:08.787267Z"
    },
    "papermill": {
     "duration": 0.071748,
     "end_time": "2021-09-13T13:30:08.787680",
     "exception": false,
     "start_time": "2021-09-13T13:30:08.715932",
     "status": "completed"
    },
    "tags": []
   },
   "outputs": [],
   "source": [
    "df_pivot = df.pivot_table(index=\"PRODUCT\", columns = \"RECORD_TIME\", values = \"LISTING_COUNT\")"
   ]
  },
  {
   "cell_type": "code",
   "execution_count": 6,
   "id": "union-huntington",
   "metadata": {
    "execution": {
     "iopub.execute_input": "2021-09-13T13:30:08.846114Z",
     "iopub.status.busy": "2021-09-13T13:30:08.843698Z",
     "iopub.status.idle": "2021-09-13T13:30:08.849294Z",
     "shell.execute_reply": "2021-09-13T13:30:08.850567Z"
    },
    "papermill": {
     "duration": 0.042124,
     "end_time": "2021-09-13T13:30:08.851025",
     "exception": false,
     "start_time": "2021-09-13T13:30:08.808901",
     "status": "completed"
    },
    "tags": []
   },
   "outputs": [],
   "source": [
    "df_pivot.columns = [\"stamp_1\", \"stamp_2\"]\n",
    "df_pivot_diff = df_pivot.diff(axis=1)"
   ]
  },
  {
   "cell_type": "code",
   "execution_count": 7,
   "id": "fifth-motion",
   "metadata": {
    "execution": {
     "iopub.execute_input": "2021-09-13T13:30:08.905586Z",
     "iopub.status.busy": "2021-09-13T13:30:08.903316Z",
     "iopub.status.idle": "2021-09-13T13:30:10.395318Z",
     "shell.execute_reply": "2021-09-13T13:30:10.396715Z"
    },
    "papermill": {
     "duration": 1.525477,
     "end_time": "2021-09-13T13:30:10.397129",
     "exception": false,
     "start_time": "2021-09-13T13:30:08.871652",
     "status": "completed"
    },
    "tags": []
   },
   "outputs": [
    {
     "data": {
      "text/plain": [
       "<AxesSubplot:ylabel='PRODUCT'>"
      ]
     },
     "execution_count": 7,
     "metadata": {},
     "output_type": "execute_result"
    },
    {
     "data": {
      "image/png": "[encoded data removed]",
      "text/plain": [
       "<Figure size 432x288 with 1 Axes>"
      ]
     },
     "metadata": {
      "needs_background": "light"
     },
     "output_type": "display_data"
    }
   ],
   "source": [
    "df_pivot_diff.sort_values(\"stamp_2\", ascending = False)[\"stamp_2\"].head(10).plot.barh()"
   ]
  },
  {
   "cell_type": "code",
   "execution_count": null,
   "id": "extra-executive",
   "metadata": {
    "papermill": {
     "duration": 0.022229,
     "end_time": "2021-09-13T13:30:10.443246",
     "exception": false,
     "start_time": "2021-09-13T13:30:10.421017",
     "status": "completed"
    },
    "tags": []
   },
   "outputs": [],
   "source": []
  }
 ],
 "metadata": {
  "kernelspec": {
   "display_name": "Python 3",
   "language": "python",
   "name": "python3"
  },
  "language_info": {
   "codemirror_mode": {
    "name": "ipython",
    "version": 3
   },
   "file_extension": ".py",
   "mimetype": "text/x-python",
   "name": "python",
   "nbconvert_exporter": "python",
   "pygments_lexer": "ipython3",
   "version": "3.9.5"
  },
  "papermill": {
   "default_parameters": {},
   "duration": 6.550989,
   "end_time": "2021-09-13T13:30:11.085564",
   "environment_variables": {},
   "exception": null,
   "input_path": "eBay_Overview.ipynb",
   "output_path": "eBay_Overview.ipynb",
   "parameters": {},
   "start_time": "2021-09-13T13:30:04.534575",
   "version": "2.3.3"
  }
 },
 "nbformat": 4,
 "nbformat_minor": 5
}