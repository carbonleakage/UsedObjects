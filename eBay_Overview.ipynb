{
 "cells": [
  {
   "cell_type": "code",
   "execution_count": 1,
   "id": "reverse-picking",
   "metadata": {
    "execution": {
     "iopub.execute_input": "2021-09-08T02:00:06.933019Z",
     "iopub.status.busy": "2021-09-08T02:00:06.931002Z",
     "iopub.status.idle": "2021-09-08T02:00:07.742228Z",
     "shell.execute_reply": "2021-09-08T02:00:07.743544Z"
    },
    "papermill": {
     "duration": 0.862558,
     "end_time": "2021-09-08T02:00:07.744219",
     "exception": false,
     "start_time": "2021-09-08T02:00:06.881661",
     "status": "completed"
    },
    "tags": []
   },
   "outputs": [],
   "source": [
    "import pandas as pd\n",
    "import sqlite3"
   ]
  },
  {
   "cell_type": "code",
   "execution_count": 2,
   "id": "innovative-syndrome",
   "metadata": {
    "execution": {
     "iopub.execute_input": "2021-09-08T02:00:07.795564Z",
     "iopub.status.busy": "2021-09-08T02:00:07.793437Z",
     "iopub.status.idle": "2021-09-08T02:00:08.027156Z",
     "shell.execute_reply": "2021-09-08T02:00:08.028446Z"
    },
    "papermill": {
     "duration": 0.264108,
     "end_time": "2021-09-08T02:00:08.028871",
     "exception": false,
     "start_time": "2021-09-08T02:00:07.764763",
     "status": "completed"
    },
    "tags": []
   },
   "outputs": [],
   "source": [
    "timestamps = pd.read_sql(\"select distinct record_time from EBAY_TOP_BERLIN order by record_time desc limit 2\", sqlite3.connect(\"UsedObjects.db\"))"
   ]
  },
  {
   "cell_type": "code",
   "execution_count": 3,
   "id": "periodic-identification",
   "metadata": {
    "execution": {
     "iopub.execute_input": "2021-09-08T02:00:08.093780Z",
     "iopub.status.busy": "2021-09-08T02:00:08.091737Z",
     "iopub.status.idle": "2021-09-08T02:00:08.112002Z",
     "shell.execute_reply": "2021-09-08T02:00:08.113197Z"
    },
    "papermill": {
     "duration": 0.064879,
     "end_time": "2021-09-08T02:00:08.113630",
     "exception": false,
     "start_time": "2021-09-08T02:00:08.048751",
     "status": "completed"
    },
    "tags": []
   },
   "outputs": [
    {
     "data": {
      "text/html": [
       "<div>\n",
       "<style scoped>\n",
       "    .dataframe tbody tr th:only-of-type {\n",
       "        vertical-align: middle;\n",
       "    }\n",
       "\n",
       "    .dataframe tbody tr th {\n",
       "        vertical-align: top;\n",
       "    }\n",
       "\n",
       "    .dataframe thead th {\n",
       "        text-align: right;\n",
       "    }\n",
       "</style>\n",
       "<table border=\"1\" class=\"dataframe\">\n",
       "  <thead>\n",
       "    <tr style=\"text-align: right;\">\n",
       "      <th></th>\n",
       "      <th>RECORD_TIME</th>\n",
       "    </tr>\n",
       "  </thead>\n",
       "  <tbody>\n",
       "    <tr>\n",
       "      <th>0</th>\n",
       "      <td>2021-09-08 04:00</td>\n",
       "    </tr>\n",
       "    <tr>\n",
       "      <th>1</th>\n",
       "      <td>2021-09-08 03:30</td>\n",
       "    </tr>\n",
       "  </tbody>\n",
       "</table>\n",
       "</div>"
      ],
      "text/plain": [
       "        RECORD_TIME\n",
       "0  2021-09-08 04:00\n",
       "1  2021-09-08 03:30"
      ]
     },
     "execution_count": 3,
     "metadata": {},
     "output_type": "execute_result"
    }
   ],
   "source": [
    "timestamps"
   ]
  },
  {
   "cell_type": "code",
   "execution_count": 4,
   "id": "alternate-victory",
   "metadata": {
    "execution": {
     "iopub.execute_input": "2021-09-08T02:00:08.166179Z",
     "iopub.status.busy": "2021-09-08T02:00:08.163904Z",
     "iopub.status.idle": "2021-09-08T02:00:08.513537Z",
     "shell.execute_reply": "2021-09-08T02:00:08.514814Z"
    },
    "papermill": {
     "duration": 0.38025,
     "end_time": "2021-09-08T02:00:08.515305",
     "exception": false,
     "start_time": "2021-09-08T02:00:08.135055",
     "status": "completed"
    },
    "tags": []
   },
   "outputs": [],
   "source": [
    "df = pd.read_sql(\"select * from EBAY_TOP_BERLIN where record_time in (select distinct record_time from EBAY_TOP_BERLIN order by record_time desc limit 2)\", sqlite3.connect(\"UsedObjects.db\"))"
   ]
  },
  {
   "cell_type": "code",
   "execution_count": 5,
   "id": "popular-active",
   "metadata": {
    "execution": {
     "iopub.execute_input": "2021-09-08T02:00:08.601773Z",
     "iopub.status.busy": "2021-09-08T02:00:08.589413Z",
     "iopub.status.idle": "2021-09-08T02:00:08.617870Z",
     "shell.execute_reply": "2021-09-08T02:00:08.619262Z"
    },
    "papermill": {
     "duration": 0.075522,
     "end_time": "2021-09-08T02:00:08.619696",
     "exception": false,
     "start_time": "2021-09-08T02:00:08.544174",
     "status": "completed"
    },
    "tags": []
   },
   "outputs": [],
   "source": [
    "df_pivot = df.pivot_table(index=\"PRODUCT\", columns = \"RECORD_TIME\", values = \"LISTING_COUNT\")"
   ]
  },
  {
   "cell_type": "code",
   "execution_count": 6,
   "id": "union-huntington",
   "metadata": {
    "execution": {
     "iopub.execute_input": "2021-09-08T02:00:08.676097Z",
     "iopub.status.busy": "2021-09-08T02:00:08.673974Z",
     "iopub.status.idle": "2021-09-08T02:00:08.679407Z",
     "shell.execute_reply": "2021-09-08T02:00:08.680600Z"
    },
    "papermill": {
     "duration": 0.041053,
     "end_time": "2021-09-08T02:00:08.681038",
     "exception": false,
     "start_time": "2021-09-08T02:00:08.639985",
     "status": "completed"
    },
    "tags": []
   },
   "outputs": [],
   "source": [
    "df_pivot.columns = [\"stamp_1\", \"stamp_2\"]\n",
    "df_pivot_diff = df_pivot.diff(axis=1)"
   ]
  },
  {
   "cell_type": "code",
   "execution_count": 7,
   "id": "fifth-motion",
   "metadata": {
    "execution": {
     "iopub.execute_input": "2021-09-08T02:00:08.735910Z",
     "iopub.status.busy": "2021-09-08T02:00:08.733268Z",
     "iopub.status.idle": "2021-09-08T02:00:10.263450Z",
     "shell.execute_reply": "2021-09-08T02:00:10.264746Z"
    },
    "papermill": {
     "duration": 1.563473,
     "end_time": "2021-09-08T02:00:10.265164",
     "exception": false,
     "start_time": "2021-09-08T02:00:08.701691",
     "status": "completed"
    },
    "tags": []
   },
   "outputs": [
    {
     "data": {
      "text/plain": [
       "<AxesSubplot:ylabel='PRODUCT'>"
      ]
     },
     "execution_count": 7,
     "metadata": {},
     "output_type": "execute_result"
    },
    {
     "data": {
      "image/png": "[encoded data removed]",
      "text/plain": [
       "<Figure size 432x288 with 1 Axes>"
      ]
     },
     "metadata": {
      "needs_background": "light"
     },
     "output_type": "display_data"
    }
   ],
   "source": [
    "df_pivot_diff.sort_values(\"stamp_2\", ascending = False)[\"stamp_2\"].head(10).plot.barh()"
   ]
  },
  {
   "cell_type": "code",
   "execution_count": null,
   "id": "extra-executive",
   "metadata": {
    "papermill": {
     "duration": 0.022389,
     "end_time": "2021-09-08T02:00:10.312110",
     "exception": false,
     "start_time": "2021-09-08T02:00:10.289721",
     "status": "completed"
    },
    "tags": []
   },
   "outputs": [],
   "source": []
  }
 ],
 "metadata": {
  "kernelspec": {
   "display_name": "Python 3",
   "language": "python",
   "name": "python3"
  },
  "language_info": {
   "codemirror_mode": {
    "name": "ipython",
    "version": 3
   },
   "file_extension": ".py",
   "mimetype": "text/x-python",
   "name": "python",
   "nbconvert_exporter": "python",
   "pygments_lexer": "ipython3",
   "version": "3.9.5"
  },
  "papermill": {
   "default_parameters": {},
   "duration": 6.493416,
   "end_time": "2021-09-08T02:00:10.953243",
   "environment_variables": {},
   "exception": null,
   "input_path": "eBay_Overview.ipynb",
   "output_path": "eBay_Overview.ipynb",
   "parameters": {},
   "start_time": "2021-09-08T02:00:04.459827",
   "version": "2.3.3"
  }
 },
 "nbformat": 4,
 "nbformat_minor": 5
}