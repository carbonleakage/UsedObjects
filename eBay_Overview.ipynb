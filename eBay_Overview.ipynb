{
 "cells": [
  {
   "cell_type": "code",
   "execution_count": 1,
   "id": "reverse-picking",
   "metadata": {
    "execution": {
     "iopub.execute_input": "2021-11-30T07:00:07.955097Z",
     "iopub.status.busy": "2021-11-30T07:00:07.952235Z",
     "iopub.status.idle": "2021-11-30T07:00:08.924225Z",
     "shell.execute_reply": "2021-11-30T07:00:08.925772Z"
    },
    "papermill": {
     "duration": 1.007437,
     "end_time": "2021-11-30T07:00:08.926494",
     "exception": false,
     "start_time": "2021-11-30T07:00:07.919057",
     "status": "completed"
    },
    "tags": []
   },
   "outputs": [],
   "source": [
    "import pandas as pd\n",
    "import sqlite3"
   ]
  },
  {
   "cell_type": "code",
   "execution_count": 2,
   "id": "innovative-syndrome",
   "metadata": {
    "execution": {
     "iopub.execute_input": "2021-11-30T07:00:09.042120Z",
     "iopub.status.busy": "2021-11-30T07:00:09.039798Z",
     "iopub.status.idle": "2021-11-30T07:00:09.977204Z",
     "shell.execute_reply": "2021-11-30T07:00:09.978898Z"
    },
    "papermill": {
     "duration": 0.972258,
     "end_time": "2021-11-30T07:00:09.979421",
     "exception": false,
     "start_time": "2021-11-30T07:00:09.007163",
     "status": "completed"
    },
    "tags": []
   },
   "outputs": [],
   "source": [
    "timestamps = pd.read_sql(\"select distinct record_time from EBAY_TOP_BERLIN order by record_time desc limit 2\", sqlite3.connect(\"UsedObjects.db\"))"
   ]
  },
  {
   "cell_type": "code",
   "execution_count": 3,
   "id": "periodic-identification",
   "metadata": {
    "execution": {
     "iopub.execute_input": "2021-11-30T07:00:10.049938Z",
     "iopub.status.busy": "2021-11-30T07:00:10.047586Z",
     "iopub.status.idle": "2021-11-30T07:00:10.067489Z",
     "shell.execute_reply": "2021-11-30T07:00:10.068784Z"
    },
    "papermill": {
     "duration": 0.064948,
     "end_time": "2021-11-30T07:00:10.069236",
     "exception": false,
     "start_time": "2021-11-30T07:00:10.004288",
     "status": "completed"
    },
    "tags": []
   },
   "outputs": [
    {
     "data": {
      "text/html": [
       "<div>\n",
       "<style scoped>\n",
       "    .dataframe tbody tr th:only-of-type {\n",
       "        vertical-align: middle;\n",
       "    }\n",
       "\n",
       "    .dataframe tbody tr th {\n",
       "        vertical-align: top;\n",
       "    }\n",
       "\n",
       "    .dataframe thead th {\n",
       "        text-align: right;\n",
       "    }\n",
       "</style>\n",
       "<table border=\"1\" class=\"dataframe\">\n",
       "  <thead>\n",
       "    <tr style=\"text-align: right;\">\n",
       "      <th></th>\n",
       "      <th>RECORD_TIME</th>\n",
       "    </tr>\n",
       "  </thead>\n",
       "  <tbody>\n",
       "    <tr>\n",
       "      <th>0</th>\n",
       "      <td>2021-11-30 08:00</td>\n",
       "    </tr>\n",
       "    <tr>\n",
       "      <th>1</th>\n",
       "      <td>2021-11-30 07:30</td>\n",
       "    </tr>\n",
       "  </tbody>\n",
       "</table>\n",
       "</div>"
      ],
      "text/plain": [
       "        RECORD_TIME\n",
       "0  2021-11-30 08:00\n",
       "1  2021-11-30 07:30"
      ]
     },
     "execution_count": 3,
     "metadata": {},
     "output_type": "execute_result"
    }
   ],
   "source": [
    "timestamps"
   ]
  },
  {
   "cell_type": "code",
   "execution_count": 4,
   "id": "alternate-victory",
   "metadata": {
    "execution": {
     "iopub.execute_input": "2021-11-30T07:00:10.121982Z",
     "iopub.status.busy": "2021-11-30T07:00:10.119608Z",
     "iopub.status.idle": "2021-11-30T07:00:11.485687Z",
     "shell.execute_reply": "2021-11-30T07:00:11.487756Z"
    },
    "papermill": {
     "duration": 1.397633,
     "end_time": "2021-11-30T07:00:11.488209",
     "exception": false,
     "start_time": "2021-11-30T07:00:10.090576",
     "status": "completed"
    },
    "tags": []
   },
   "outputs": [],
   "source": [
    "df = pd.read_sql(\"select * from EBAY_TOP_BERLIN where record_time in (select distinct record_time from EBAY_TOP_BERLIN order by record_time desc limit 2)\", sqlite3.connect(\"UsedObjects.db\"))"
   ]
  },
  {
   "cell_type": "code",
   "execution_count": 5,
   "id": "popular-active",
   "metadata": {
    "execution": {
     "iopub.execute_input": "2021-11-30T07:00:11.567788Z",
     "iopub.status.busy": "2021-11-30T07:00:11.555379Z",
     "iopub.status.idle": "2021-11-30T07:00:11.592842Z",
     "shell.execute_reply": "2021-11-30T07:00:11.595729Z"
    },
    "papermill": {
     "duration": 0.084812,
     "end_time": "2021-11-30T07:00:11.596294",
     "exception": false,
     "start_time": "2021-11-30T07:00:11.511482",
     "status": "completed"
    },
    "tags": []
   },
   "outputs": [],
   "source": [
    "df_pivot = df.pivot_table(index=\"PRODUCT\", columns = \"RECORD_TIME\", values = \"LISTING_COUNT\")"
   ]
  },
  {
   "cell_type": "code",
   "execution_count": 6,
   "id": "union-huntington",
   "metadata": {
    "execution": {
     "iopub.execute_input": "2021-11-30T07:00:11.660104Z",
     "iopub.status.busy": "2021-11-30T07:00:11.657610Z",
     "iopub.status.idle": "2021-11-30T07:00:11.663604Z",
     "shell.execute_reply": "2021-11-30T07:00:11.665069Z"
    },
    "papermill": {
     "duration": 0.046925,
     "end_time": "2021-11-30T07:00:11.665557",
     "exception": false,
     "start_time": "2021-11-30T07:00:11.618632",
     "status": "completed"
    },
    "tags": []
   },
   "outputs": [],
   "source": [
    "df_pivot.columns = [\"stamp_1\", \"stamp_2\"]\n",
    "df_pivot_diff = df_pivot.diff(axis=1)"
   ]
  },
  {
   "cell_type": "code",
   "execution_count": 7,
   "id": "fifth-motion",
   "metadata": {
    "execution": {
     "iopub.execute_input": "2021-11-30T07:00:11.721979Z",
     "iopub.status.busy": "2021-11-30T07:00:11.719463Z",
     "iopub.status.idle": "2021-11-30T07:00:13.718644Z",
     "shell.execute_reply": "2021-11-30T07:00:13.720597Z"
    },
    "papermill": {
     "duration": 2.035748,
     "end_time": "2021-11-30T07:00:13.721338",
     "exception": false,
     "start_time": "2021-11-30T07:00:11.685590",
     "status": "completed"
    },
    "tags": []
   },
   "outputs": [
    {
     "data": {
      "text/plain": [
       "<AxesSubplot:ylabel='PRODUCT'>"
      ]
     },
     "execution_count": 7,
     "metadata": {},
     "output_type": "execute_result"
    },
    {
     "data": {
      "image/png": "[encoded data removed]",
      "text/plain": [
       "<Figure size 432x288 with 1 Axes>"
      ]
     },
     "metadata": {
      "needs_background": "light"
     },
     "output_type": "display_data"
    }
   ],
   "source": [
    "df_pivot_diff.sort_values(\"stamp_2\", ascending = False)[\"stamp_2\"].head(10).plot.barh()"
   ]
  },
  {
   "cell_type": "code",
   "execution_count": null,
   "id": "extra-executive",
   "metadata": {
    "papermill": {
     "duration": 0.059216,
     "end_time": "2021-11-30T07:00:13.809204",
     "exception": false,
     "start_time": "2021-11-30T07:00:13.749988",
     "status": "completed"
    },
    "tags": []
   },
   "outputs": [],
   "source": []
  }
 ],
 "metadata": {
  "kernelspec": {
   "display_name": "Python 3",
   "language": "python",
   "name": "python3"
  },
  "language_info": {
   "codemirror_mode": {
    "name": "ipython",
    "version": 3
   },
   "file_extension": ".py",
   "mimetype": "text/x-python",
   "name": "python",
   "nbconvert_exporter": "python",
   "pygments_lexer": "ipython3",
   "version": "3.9.5"
  },
  "papermill": {
   "default_parameters": {},
   "duration": 9.939306,
   "end_time": "2021-11-30T07:00:15.134282",
   "environment_variables": {},
   "exception": null,
   "input_path": "eBay_Overview.ipynb",
   "output_path": "eBay_Overview.ipynb",
   "parameters": {},
   "start_time": "2021-11-30T07:00:05.194976",
   "version": "2.3.3"
  }
 },
 "nbformat": 4,
 "nbformat_minor": 5
}