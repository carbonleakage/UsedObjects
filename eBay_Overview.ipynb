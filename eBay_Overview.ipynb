{
 "cells": [
  {
   "cell_type": "code",
   "execution_count": 1,
   "id": "reverse-picking",
   "metadata": {
    "execution": {
     "iopub.execute_input": "2021-09-25T17:30:07.378484Z",
     "iopub.status.busy": "2021-09-25T17:30:07.376522Z",
     "iopub.status.idle": "2021-09-25T17:30:08.184264Z",
     "shell.execute_reply": "2021-09-25T17:30:08.182524Z"
    },
    "papermill": {
     "duration": 0.858863,
     "end_time": "2021-09-25T17:30:08.184699",
     "exception": false,
     "start_time": "2021-09-25T17:30:07.325836",
     "status": "completed"
    },
    "tags": []
   },
   "outputs": [],
   "source": [
    "import pandas as pd\n",
    "import sqlite3"
   ]
  },
  {
   "cell_type": "code",
   "execution_count": 2,
   "id": "innovative-syndrome",
   "metadata": {
    "execution": {
     "iopub.execute_input": "2021-09-25T17:30:08.235269Z",
     "iopub.status.busy": "2021-09-25T17:30:08.233178Z",
     "iopub.status.idle": "2021-09-25T17:30:08.602697Z",
     "shell.execute_reply": "2021-09-25T17:30:08.603970Z"
    },
    "papermill": {
     "duration": 0.399364,
     "end_time": "2021-09-25T17:30:08.604372",
     "exception": false,
     "start_time": "2021-09-25T17:30:08.205008",
     "status": "completed"
    },
    "tags": []
   },
   "outputs": [],
   "source": [
    "timestamps = pd.read_sql(\"select distinct record_time from EBAY_TOP_BERLIN order by record_time desc limit 2\", sqlite3.connect(\"UsedObjects.db\"))"
   ]
  },
  {
   "cell_type": "code",
   "execution_count": 3,
   "id": "periodic-identification",
   "metadata": {
    "execution": {
     "iopub.execute_input": "2021-09-25T17:30:08.669295Z",
     "iopub.status.busy": "2021-09-25T17:30:08.667254Z",
     "iopub.status.idle": "2021-09-25T17:30:08.686990Z",
     "shell.execute_reply": "2021-09-25T17:30:08.688244Z"
    },
    "papermill": {
     "duration": 0.064246,
     "end_time": "2021-09-25T17:30:08.688643",
     "exception": false,
     "start_time": "2021-09-25T17:30:08.624397",
     "status": "completed"
    },
    "tags": []
   },
   "outputs": [
    {
     "data": {
      "text/html": [
       "<div>\n",
       "<style scoped>\n",
       "    .dataframe tbody tr th:only-of-type {\n",
       "        vertical-align: middle;\n",
       "    }\n",
       "\n",
       "    .dataframe tbody tr th {\n",
       "        vertical-align: top;\n",
       "    }\n",
       "\n",
       "    .dataframe thead th {\n",
       "        text-align: right;\n",
       "    }\n",
       "</style>\n",
       "<table border=\"1\" class=\"dataframe\">\n",
       "  <thead>\n",
       "    <tr style=\"text-align: right;\">\n",
       "      <th></th>\n",
       "      <th>RECORD_TIME</th>\n",
       "    </tr>\n",
       "  </thead>\n",
       "  <tbody>\n",
       "    <tr>\n",
       "      <th>0</th>\n",
       "      <td>2021-09-25 19:30</td>\n",
       "    </tr>\n",
       "    <tr>\n",
       "      <th>1</th>\n",
       "      <td>2021-09-25 19:00</td>\n",
       "    </tr>\n",
       "  </tbody>\n",
       "</table>\n",
       "</div>"
      ],
      "text/plain": [
       "        RECORD_TIME\n",
       "0  2021-09-25 19:30\n",
       "1  2021-09-25 19:00"
      ]
     },
     "execution_count": 3,
     "metadata": {},
     "output_type": "execute_result"
    }
   ],
   "source": [
    "timestamps"
   ]
  },
  {
   "cell_type": "code",
   "execution_count": 4,
   "id": "alternate-victory",
   "metadata": {
    "execution": {
     "iopub.execute_input": "2021-09-25T17:30:08.740883Z",
     "iopub.status.busy": "2021-09-25T17:30:08.738653Z",
     "iopub.status.idle": "2021-09-25T17:30:09.288272Z",
     "shell.execute_reply": "2021-09-25T17:30:09.289491Z"
    },
    "papermill": {
     "duration": 0.579586,
     "end_time": "2021-09-25T17:30:09.289892",
     "exception": false,
     "start_time": "2021-09-25T17:30:08.710306",
     "status": "completed"
    },
    "tags": []
   },
   "outputs": [],
   "source": [
    "df = pd.read_sql(\"select * from EBAY_TOP_BERLIN where record_time in (select distinct record_time from EBAY_TOP_BERLIN order by record_time desc limit 2)\", sqlite3.connect(\"UsedObjects.db\"))"
   ]
  },
  {
   "cell_type": "code",
   "execution_count": 5,
   "id": "popular-active",
   "metadata": {
    "execution": {
     "iopub.execute_input": "2021-09-25T17:30:09.369378Z",
     "iopub.status.busy": "2021-09-25T17:30:09.356416Z",
     "iopub.status.idle": "2021-09-25T17:30:09.385877Z",
     "shell.execute_reply": "2021-09-25T17:30:09.387242Z"
    },
    "papermill": {
     "duration": 0.072025,
     "end_time": "2021-09-25T17:30:09.387670",
     "exception": false,
     "start_time": "2021-09-25T17:30:09.315645",
     "status": "completed"
    },
    "tags": []
   },
   "outputs": [],
   "source": [
    "df_pivot = df.pivot_table(index=\"PRODUCT\", columns = \"RECORD_TIME\", values = \"LISTING_COUNT\")"
   ]
  },
  {
   "cell_type": "code",
   "execution_count": 6,
   "id": "union-huntington",
   "metadata": {
    "execution": {
     "iopub.execute_input": "2021-09-25T17:30:09.444358Z",
     "iopub.status.busy": "2021-09-25T17:30:09.442216Z",
     "iopub.status.idle": "2021-09-25T17:30:09.447587Z",
     "shell.execute_reply": "2021-09-25T17:30:09.448910Z"
    },
    "papermill": {
     "duration": 0.040521,
     "end_time": "2021-09-25T17:30:09.449327",
     "exception": false,
     "start_time": "2021-09-25T17:30:09.408806",
     "status": "completed"
    },
    "tags": []
   },
   "outputs": [],
   "source": [
    "df_pivot.columns = [\"stamp_1\", \"stamp_2\"]\n",
    "df_pivot_diff = df_pivot.diff(axis=1)"
   ]
  },
  {
   "cell_type": "code",
   "execution_count": 7,
   "id": "fifth-motion",
   "metadata": {
    "execution": {
     "iopub.execute_input": "2021-09-25T17:30:09.504632Z",
     "iopub.status.busy": "2021-09-25T17:30:09.502019Z",
     "iopub.status.idle": "2021-09-25T17:30:10.996156Z",
     "shell.execute_reply": "2021-09-25T17:30:10.997455Z"
    },
    "papermill": {
     "duration": 1.527366,
     "end_time": "2021-09-25T17:30:10.997885",
     "exception": false,
     "start_time": "2021-09-25T17:30:09.470519",
     "status": "completed"
    },
    "tags": []
   },
   "outputs": [
    {
     "data": {
      "text/plain": [
       "<AxesSubplot:ylabel='PRODUCT'>"
      ]
     },
     "execution_count": 7,
     "metadata": {},
     "output_type": "execute_result"
    },
    {
     "data": {
      "image/png": "[encoded data removed]",
      "text/plain": [
       "<Figure size 432x288 with 1 Axes>"
      ]
     },
     "metadata": {
      "needs_background": "light"
     },
     "output_type": "display_data"
    }
   ],
   "source": [
    "df_pivot_diff.sort_values(\"stamp_2\", ascending = False)[\"stamp_2\"].head(10).plot.barh()"
   ]
  },
  {
   "cell_type": "code",
   "execution_count": null,
   "id": "extra-executive",
   "metadata": {
    "papermill": {
     "duration": 0.022274,
     "end_time": "2021-09-25T17:30:11.044007",
     "exception": false,
     "start_time": "2021-09-25T17:30:11.021733",
     "status": "completed"
    },
    "tags": []
   },
   "outputs": [],
   "source": []
  }
 ],
 "metadata": {
  "kernelspec": {
   "display_name": "Python 3",
   "language": "python",
   "name": "python3"
  },
  "language_info": {
   "codemirror_mode": {
    "name": "ipython",
    "version": 3
   },
   "file_extension": ".py",
   "mimetype": "text/x-python",
   "name": "python",
   "nbconvert_exporter": "python",
   "pygments_lexer": "ipython3",
   "version": "3.9.5"
  },
  "papermill": {
   "default_parameters": {},
   "duration": 6.7684,
   "end_time": "2021-09-25T17:30:11.687762",
   "environment_variables": {},
   "exception": null,
   "input_path": "eBay_Overview.ipynb",
   "output_path": "eBay_Overview.ipynb",
   "parameters": {},
   "start_time": "2021-09-25T17:30:04.919362",
   "version": "2.3.3"
  }
 },
 "nbformat": 4,
 "nbformat_minor": 5
}