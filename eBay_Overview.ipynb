{
 "cells": [
  {
   "cell_type": "code",
   "execution_count": 1,
   "id": "reverse-picking",
   "metadata": {
    "execution": {
     "iopub.execute_input": "2021-08-23T12:00:07.128206Z",
     "iopub.status.busy": "2021-08-23T12:00:07.126231Z",
     "iopub.status.idle": "2021-08-23T12:00:07.932417Z",
     "shell.execute_reply": "2021-08-23T12:00:07.933672Z"
    },
    "papermill": {
     "duration": 0.859901,
     "end_time": "2021-08-23T12:00:07.934369",
     "exception": false,
     "start_time": "2021-08-23T12:00:07.074468",
     "status": "completed"
    },
    "tags": []
   },
   "outputs": [],
   "source": [
    "import pandas as pd\n",
    "import sqlite3"
   ]
  },
  {
   "cell_type": "code",
   "execution_count": 2,
   "id": "innovative-syndrome",
   "metadata": {
    "execution": {
     "iopub.execute_input": "2021-08-23T12:00:07.984591Z",
     "iopub.status.busy": "2021-08-23T12:00:07.982725Z",
     "iopub.status.idle": "2021-08-23T12:00:08.093573Z",
     "shell.execute_reply": "2021-08-23T12:00:08.095064Z"
    },
    "papermill": {
     "duration": 0.140815,
     "end_time": "2021-08-23T12:00:08.095514",
     "exception": false,
     "start_time": "2021-08-23T12:00:07.954699",
     "status": "completed"
    },
    "tags": []
   },
   "outputs": [],
   "source": [
    "timestamps = pd.read_sql(\"select distinct record_time from EBAY_TOP_BERLIN order by record_time desc limit 2\", sqlite3.connect(\"UsedObjects.db\"))"
   ]
  },
  {
   "cell_type": "code",
   "execution_count": 3,
   "id": "periodic-identification",
   "metadata": {
    "execution": {
     "iopub.execute_input": "2021-08-23T12:00:08.161703Z",
     "iopub.status.busy": "2021-08-23T12:00:08.159674Z",
     "iopub.status.idle": "2021-08-23T12:00:08.179760Z",
     "shell.execute_reply": "2021-08-23T12:00:08.181234Z"
    },
    "papermill": {
     "duration": 0.066351,
     "end_time": "2021-08-23T12:00:08.181753",
     "exception": false,
     "start_time": "2021-08-23T12:00:08.115402",
     "status": "completed"
    },
    "tags": []
   },
   "outputs": [
    {
     "data": {
      "text/html": [
       "<div>\n",
       "<style scoped>\n",
       "    .dataframe tbody tr th:only-of-type {\n",
       "        vertical-align: middle;\n",
       "    }\n",
       "\n",
       "    .dataframe tbody tr th {\n",
       "        vertical-align: top;\n",
       "    }\n",
       "\n",
       "    .dataframe thead th {\n",
       "        text-align: right;\n",
       "    }\n",
       "</style>\n",
       "<table border=\"1\" class=\"dataframe\">\n",
       "  <thead>\n",
       "    <tr style=\"text-align: right;\">\n",
       "      <th></th>\n",
       "      <th>RECORD_TIME</th>\n",
       "    </tr>\n",
       "  </thead>\n",
       "  <tbody>\n",
       "    <tr>\n",
       "      <th>0</th>\n",
       "      <td>2021-08-23 14:00</td>\n",
       "    </tr>\n",
       "    <tr>\n",
       "      <th>1</th>\n",
       "      <td>2021-08-23 13:30</td>\n",
       "    </tr>\n",
       "  </tbody>\n",
       "</table>\n",
       "</div>"
      ],
      "text/plain": [
       "        RECORD_TIME\n",
       "0  2021-08-23 14:00\n",
       "1  2021-08-23 13:30"
      ]
     },
     "execution_count": 3,
     "metadata": {},
     "output_type": "execute_result"
    }
   ],
   "source": [
    "timestamps"
   ]
  },
  {
   "cell_type": "code",
   "execution_count": 4,
   "id": "alternate-victory",
   "metadata": {
    "execution": {
     "iopub.execute_input": "2021-08-23T12:00:08.233402Z",
     "iopub.status.busy": "2021-08-23T12:00:08.231553Z",
     "iopub.status.idle": "2021-08-23T12:00:08.397122Z",
     "shell.execute_reply": "2021-08-23T12:00:08.398376Z"
    },
    "papermill": {
     "duration": 0.1956,
     "end_time": "2021-08-23T12:00:08.398807",
     "exception": false,
     "start_time": "2021-08-23T12:00:08.203207",
     "status": "completed"
    },
    "tags": []
   },
   "outputs": [],
   "source": [
    "df = pd.read_sql(\"select * from EBAY_TOP_BERLIN where record_time in (select distinct record_time from EBAY_TOP_BERLIN order by record_time desc limit 2)\", sqlite3.connect(\"UsedObjects.db\"))"
   ]
  },
  {
   "cell_type": "code",
   "execution_count": 5,
   "id": "popular-active",
   "metadata": {
    "execution": {
     "iopub.execute_input": "2021-08-23T12:00:08.471392Z",
     "iopub.status.busy": "2021-08-23T12:00:08.460690Z",
     "iopub.status.idle": "2021-08-23T12:00:08.488264Z",
     "shell.execute_reply": "2021-08-23T12:00:08.489499Z"
    },
    "papermill": {
     "duration": 0.068571,
     "end_time": "2021-08-23T12:00:08.489898",
     "exception": false,
     "start_time": "2021-08-23T12:00:08.421327",
     "status": "completed"
    },
    "tags": []
   },
   "outputs": [],
   "source": [
    "df_pivot = df.pivot_table(index=\"PRODUCT\", columns = \"RECORD_TIME\", values = \"LISTING_COUNT\")"
   ]
  },
  {
   "cell_type": "code",
   "execution_count": 6,
   "id": "union-huntington",
   "metadata": {
    "execution": {
     "iopub.execute_input": "2021-08-23T12:00:08.545951Z",
     "iopub.status.busy": "2021-08-23T12:00:08.543869Z",
     "iopub.status.idle": "2021-08-23T12:00:08.549248Z",
     "shell.execute_reply": "2021-08-23T12:00:08.550515Z"
    },
    "papermill": {
     "duration": 0.040266,
     "end_time": "2021-08-23T12:00:08.550957",
     "exception": false,
     "start_time": "2021-08-23T12:00:08.510691",
     "status": "completed"
    },
    "tags": []
   },
   "outputs": [],
   "source": [
    "df_pivot.columns = [\"stamp_1\", \"stamp_2\"]\n",
    "df_pivot_diff = df_pivot.diff(axis=1)"
   ]
  },
  {
   "cell_type": "code",
   "execution_count": 7,
   "id": "fifth-motion",
   "metadata": {
    "execution": {
     "iopub.execute_input": "2021-08-23T12:00:08.612182Z",
     "iopub.status.busy": "2021-08-23T12:00:08.609719Z",
     "iopub.status.idle": "2021-08-23T12:00:10.095431Z",
     "shell.execute_reply": "2021-08-23T12:00:10.096717Z"
    },
    "papermill": {
     "duration": 1.522412,
     "end_time": "2021-08-23T12:00:10.097138",
     "exception": false,
     "start_time": "2021-08-23T12:00:08.574726",
     "status": "completed"
    },
    "tags": []
   },
   "outputs": [
    {
     "data": {
      "text/plain": [
       "<AxesSubplot:ylabel='PRODUCT'>"
      ]
     },
     "execution_count": 7,
     "metadata": {},
     "output_type": "execute_result"
    },
    {
     "data": {
      "image/png": "[encoded data removed]",
      "text/plain": [
       "<Figure size 432x288 with 1 Axes>"
      ]
     },
     "metadata": {
      "needs_background": "light"
     },
     "output_type": "display_data"
    }
   ],
   "source": [
    "df_pivot_diff.sort_values(\"stamp_2\", ascending = False)[\"stamp_2\"].head(10).plot.barh()"
   ]
  },
  {
   "cell_type": "code",
   "execution_count": null,
   "id": "extra-executive",
   "metadata": {
    "papermill": {
     "duration": 0.022092,
     "end_time": "2021-08-23T12:00:10.143803",
     "exception": false,
     "start_time": "2021-08-23T12:00:10.121711",
     "status": "completed"
    },
    "tags": []
   },
   "outputs": [],
   "source": []
  }
 ],
 "metadata": {
  "kernelspec": {
   "display_name": "Python 3",
   "language": "python",
   "name": "python3"
  },
  "language_info": {
   "codemirror_mode": {
    "name": "ipython",
    "version": 3
   },
   "file_extension": ".py",
   "mimetype": "text/x-python",
   "name": "python",
   "nbconvert_exporter": "python",
   "pygments_lexer": "ipython3",
   "version": "3.9.5"
  },
  "papermill": {
   "default_parameters": {},
   "duration": 6.826272,
   "end_time": "2021-08-23T12:00:11.488135",
   "environment_variables": {},
   "exception": null,
   "input_path": "eBay_Overview.ipynb",
   "output_path": "eBay_Overview.ipynb",
   "parameters": {},
   "start_time": "2021-08-23T12:00:04.661863",
   "version": "2.3.3"
  }
 },
 "nbformat": 4,
 "nbformat_minor": 5
}