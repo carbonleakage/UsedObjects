{
 "cells": [
  {
   "cell_type": "code",
   "execution_count": 1,
   "id": "reverse-picking",
   "metadata": {
    "execution": {
     "iopub.execute_input": "2021-09-01T05:00:07.140959Z",
     "iopub.status.busy": "2021-09-01T05:00:07.139077Z",
     "iopub.status.idle": "2021-09-01T05:00:07.940413Z",
     "shell.execute_reply": "2021-09-01T05:00:07.941792Z"
    },
    "papermill": {
     "duration": 0.855349,
     "end_time": "2021-09-01T05:00:07.942485",
     "exception": false,
     "start_time": "2021-09-01T05:00:07.087136",
     "status": "completed"
    },
    "tags": []
   },
   "outputs": [],
   "source": [
    "import pandas as pd\n",
    "import sqlite3"
   ]
  },
  {
   "cell_type": "code",
   "execution_count": 2,
   "id": "innovative-syndrome",
   "metadata": {
    "execution": {
     "iopub.execute_input": "2021-09-01T05:00:07.993113Z",
     "iopub.status.busy": "2021-09-01T05:00:07.990721Z",
     "iopub.status.idle": "2021-09-01T05:00:08.168111Z",
     "shell.execute_reply": "2021-09-01T05:00:08.169503Z"
    },
    "papermill": {
     "duration": 0.207281,
     "end_time": "2021-09-01T05:00:08.169938",
     "exception": false,
     "start_time": "2021-09-01T05:00:07.962657",
     "status": "completed"
    },
    "tags": []
   },
   "outputs": [],
   "source": [
    "timestamps = pd.read_sql(\"select distinct record_time from EBAY_TOP_BERLIN order by record_time desc limit 2\", sqlite3.connect(\"UsedObjects.db\"))"
   ]
  },
  {
   "cell_type": "code",
   "execution_count": 3,
   "id": "periodic-identification",
   "metadata": {
    "execution": {
     "iopub.execute_input": "2021-09-01T05:00:08.237029Z",
     "iopub.status.busy": "2021-09-01T05:00:08.235009Z",
     "iopub.status.idle": "2021-09-01T05:00:08.254825Z",
     "shell.execute_reply": "2021-09-01T05:00:08.256164Z"
    },
    "papermill": {
     "duration": 0.066846,
     "end_time": "2021-09-01T05:00:08.256573",
     "exception": false,
     "start_time": "2021-09-01T05:00:08.189727",
     "status": "completed"
    },
    "tags": []
   },
   "outputs": [
    {
     "data": {
      "text/html": [
       "<div>\n",
       "<style scoped>\n",
       "    .dataframe tbody tr th:only-of-type {\n",
       "        vertical-align: middle;\n",
       "    }\n",
       "\n",
       "    .dataframe tbody tr th {\n",
       "        vertical-align: top;\n",
       "    }\n",
       "\n",
       "    .dataframe thead th {\n",
       "        text-align: right;\n",
       "    }\n",
       "</style>\n",
       "<table border=\"1\" class=\"dataframe\">\n",
       "  <thead>\n",
       "    <tr style=\"text-align: right;\">\n",
       "      <th></th>\n",
       "      <th>RECORD_TIME</th>\n",
       "    </tr>\n",
       "  </thead>\n",
       "  <tbody>\n",
       "    <tr>\n",
       "      <th>0</th>\n",
       "      <td>2021-09-01 07:00</td>\n",
       "    </tr>\n",
       "    <tr>\n",
       "      <th>1</th>\n",
       "      <td>2021-09-01 06:30</td>\n",
       "    </tr>\n",
       "  </tbody>\n",
       "</table>\n",
       "</div>"
      ],
      "text/plain": [
       "        RECORD_TIME\n",
       "0  2021-09-01 07:00\n",
       "1  2021-09-01 06:30"
      ]
     },
     "execution_count": 3,
     "metadata": {},
     "output_type": "execute_result"
    }
   ],
   "source": [
    "timestamps"
   ]
  },
  {
   "cell_type": "code",
   "execution_count": 4,
   "id": "alternate-victory",
   "metadata": {
    "execution": {
     "iopub.execute_input": "2021-09-01T05:00:08.308098Z",
     "iopub.status.busy": "2021-09-01T05:00:08.306076Z",
     "iopub.status.idle": "2021-09-01T05:00:08.569112Z",
     "shell.execute_reply": "2021-09-01T05:00:08.570293Z"
    },
    "papermill": {
     "duration": 0.292816,
     "end_time": "2021-09-01T05:00:08.570683",
     "exception": false,
     "start_time": "2021-09-01T05:00:08.277867",
     "status": "completed"
    },
    "tags": []
   },
   "outputs": [],
   "source": [
    "df = pd.read_sql(\"select * from EBAY_TOP_BERLIN where record_time in (select distinct record_time from EBAY_TOP_BERLIN order by record_time desc limit 2)\", sqlite3.connect(\"UsedObjects.db\"))"
   ]
  },
  {
   "cell_type": "code",
   "execution_count": 5,
   "id": "popular-active",
   "metadata": {
    "execution": {
     "iopub.execute_input": "2021-09-01T05:00:08.651800Z",
     "iopub.status.busy": "2021-09-01T05:00:08.641188Z",
     "iopub.status.idle": "2021-09-01T05:00:08.667583Z",
     "shell.execute_reply": "2021-09-01T05:00:08.668787Z"
    },
    "papermill": {
     "duration": 0.070293,
     "end_time": "2021-09-01T05:00:08.669184",
     "exception": false,
     "start_time": "2021-09-01T05:00:08.598891",
     "status": "completed"
    },
    "tags": []
   },
   "outputs": [],
   "source": [
    "df_pivot = df.pivot_table(index=\"PRODUCT\", columns = \"RECORD_TIME\", values = \"LISTING_COUNT\")"
   ]
  },
  {
   "cell_type": "code",
   "execution_count": 6,
   "id": "union-huntington",
   "metadata": {
    "execution": {
     "iopub.execute_input": "2021-09-01T05:00:08.726014Z",
     "iopub.status.busy": "2021-09-01T05:00:08.724003Z",
     "iopub.status.idle": "2021-09-01T05:00:08.729219Z",
     "shell.execute_reply": "2021-09-01T05:00:08.730384Z"
    },
    "papermill": {
     "duration": 0.040118,
     "end_time": "2021-09-01T05:00:08.730812",
     "exception": false,
     "start_time": "2021-09-01T05:00:08.690694",
     "status": "completed"
    },
    "tags": []
   },
   "outputs": [],
   "source": [
    "df_pivot.columns = [\"stamp_1\", \"stamp_2\"]\n",
    "df_pivot_diff = df_pivot.diff(axis=1)"
   ]
  },
  {
   "cell_type": "code",
   "execution_count": 7,
   "id": "fifth-motion",
   "metadata": {
    "execution": {
     "iopub.execute_input": "2021-09-01T05:00:08.787058Z",
     "iopub.status.busy": "2021-09-01T05:00:08.784373Z",
     "iopub.status.idle": "2021-09-01T05:00:10.269577Z",
     "shell.execute_reply": "2021-09-01T05:00:10.270839Z"
    },
    "papermill": {
     "duration": 1.519194,
     "end_time": "2021-09-01T05:00:10.271314",
     "exception": false,
     "start_time": "2021-09-01T05:00:08.752120",
     "status": "completed"
    },
    "tags": []
   },
   "outputs": [
    {
     "data": {
      "text/plain": [
       "<AxesSubplot:ylabel='PRODUCT'>"
      ]
     },
     "execution_count": 7,
     "metadata": {},
     "output_type": "execute_result"
    },
    {
     "data": {
      "image/png": "[encoded data removed]",
      "text/plain": [
       "<Figure size 432x288 with 1 Axes>"
      ]
     },
     "metadata": {
      "needs_background": "light"
     },
     "output_type": "display_data"
    }
   ],
   "source": [
    "df_pivot_diff.sort_values(\"stamp_2\", ascending = False)[\"stamp_2\"].head(10).plot.barh()"
   ]
  },
  {
   "cell_type": "code",
   "execution_count": null,
   "id": "extra-executive",
   "metadata": {
    "papermill": {
     "duration": 0.022392,
     "end_time": "2021-09-01T05:00:10.318591",
     "exception": false,
     "start_time": "2021-09-01T05:00:10.296199",
     "status": "completed"
    },
    "tags": []
   },
   "outputs": [],
   "source": []
  }
 ],
 "metadata": {
  "kernelspec": {
   "display_name": "Python 3",
   "language": "python",
   "name": "python3"
  },
  "language_info": {
   "codemirror_mode": {
    "name": "ipython",
    "version": 3
   },
   "file_extension": ".py",
   "mimetype": "text/x-python",
   "name": "python",
   "nbconvert_exporter": "python",
   "pygments_lexer": "ipython3",
   "version": "3.9.5"
  },
  "papermill": {
   "default_parameters": {},
   "duration": 6.817608,
   "end_time": "2021-09-01T05:00:11.514699",
   "environment_variables": {},
   "exception": null,
   "input_path": "eBay_Overview.ipynb",
   "output_path": "eBay_Overview.ipynb",
   "parameters": {},
   "start_time": "2021-09-01T05:00:04.697091",
   "version": "2.3.3"
  }
 },
 "nbformat": 4,
 "nbformat_minor": 5
}