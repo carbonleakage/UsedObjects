{
 "cells": [
  {
   "cell_type": "code",
   "execution_count": 1,
   "id": "reverse-picking",
   "metadata": {
    "execution": {
     "iopub.execute_input": "2021-11-07T19:30:07.445738Z",
     "iopub.status.busy": "2021-11-07T19:30:07.443297Z",
     "iopub.status.idle": "2021-11-07T19:30:08.399903Z",
     "shell.execute_reply": "2021-11-07T19:30:08.401282Z"
    },
    "papermill": {
     "duration": 1.005068,
     "end_time": "2021-11-07T19:30:08.401935",
     "exception": false,
     "start_time": "2021-11-07T19:30:07.396867",
     "status": "completed"
    },
    "tags": []
   },
   "outputs": [],
   "source": [
    "import pandas as pd\n",
    "import sqlite3"
   ]
  },
  {
   "cell_type": "code",
   "execution_count": 2,
   "id": "innovative-syndrome",
   "metadata": {
    "execution": {
     "iopub.execute_input": "2021-11-07T19:30:08.470590Z",
     "iopub.status.busy": "2021-11-07T19:30:08.468231Z",
     "iopub.status.idle": "2021-11-07T19:30:09.257117Z",
     "shell.execute_reply": "2021-11-07T19:30:09.258802Z"
    },
    "papermill": {
     "duration": 0.836542,
     "end_time": "2021-11-07T19:30:09.259289",
     "exception": false,
     "start_time": "2021-11-07T19:30:08.422747",
     "status": "completed"
    },
    "tags": []
   },
   "outputs": [],
   "source": [
    "timestamps = pd.read_sql(\"select distinct record_time from EBAY_TOP_BERLIN order by record_time desc limit 2\", sqlite3.connect(\"UsedObjects.db\"))"
   ]
  },
  {
   "cell_type": "code",
   "execution_count": 3,
   "id": "periodic-identification",
   "metadata": {
    "execution": {
     "iopub.execute_input": "2021-11-07T19:30:09.332993Z",
     "iopub.status.busy": "2021-11-07T19:30:09.330534Z",
     "iopub.status.idle": "2021-11-07T19:30:09.354636Z",
     "shell.execute_reply": "2021-11-07T19:30:09.356128Z"
    },
    "papermill": {
     "duration": 0.076946,
     "end_time": "2021-11-07T19:30:09.356641",
     "exception": false,
     "start_time": "2021-11-07T19:30:09.279695",
     "status": "completed"
    },
    "tags": []
   },
   "outputs": [
    {
     "data": {
      "text/html": [
       "<div>\n",
       "<style scoped>\n",
       "    .dataframe tbody tr th:only-of-type {\n",
       "        vertical-align: middle;\n",
       "    }\n",
       "\n",
       "    .dataframe tbody tr th {\n",
       "        vertical-align: top;\n",
       "    }\n",
       "\n",
       "    .dataframe thead th {\n",
       "        text-align: right;\n",
       "    }\n",
       "</style>\n",
       "<table border=\"1\" class=\"dataframe\">\n",
       "  <thead>\n",
       "    <tr style=\"text-align: right;\">\n",
       "      <th></th>\n",
       "      <th>RECORD_TIME</th>\n",
       "    </tr>\n",
       "  </thead>\n",
       "  <tbody>\n",
       "    <tr>\n",
       "      <th>0</th>\n",
       "      <td>2021-11-07 20:30</td>\n",
       "    </tr>\n",
       "    <tr>\n",
       "      <th>1</th>\n",
       "      <td>2021-11-07 20:00</td>\n",
       "    </tr>\n",
       "  </tbody>\n",
       "</table>\n",
       "</div>"
      ],
      "text/plain": [
       "        RECORD_TIME\n",
       "0  2021-11-07 20:30\n",
       "1  2021-11-07 20:00"
      ]
     },
     "execution_count": 3,
     "metadata": {},
     "output_type": "execute_result"
    }
   ],
   "source": [
    "timestamps"
   ]
  },
  {
   "cell_type": "code",
   "execution_count": 4,
   "id": "alternate-victory",
   "metadata": {
    "execution": {
     "iopub.execute_input": "2021-11-07T19:30:09.425138Z",
     "iopub.status.busy": "2021-11-07T19:30:09.421296Z",
     "iopub.status.idle": "2021-11-07T19:30:10.506136Z",
     "shell.execute_reply": "2021-11-07T19:30:10.507357Z"
    },
    "papermill": {
     "duration": 1.129193,
     "end_time": "2021-11-07T19:30:10.507753",
     "exception": false,
     "start_time": "2021-11-07T19:30:09.378560",
     "status": "completed"
    },
    "tags": []
   },
   "outputs": [],
   "source": [
    "df = pd.read_sql(\"select * from EBAY_TOP_BERLIN where record_time in (select distinct record_time from EBAY_TOP_BERLIN order by record_time desc limit 2)\", sqlite3.connect(\"UsedObjects.db\"))"
   ]
  },
  {
   "cell_type": "code",
   "execution_count": 5,
   "id": "popular-active",
   "metadata": {
    "execution": {
     "iopub.execute_input": "2021-11-07T19:30:10.581912Z",
     "iopub.status.busy": "2021-11-07T19:30:10.579107Z",
     "iopub.status.idle": "2021-11-07T19:30:10.604435Z",
     "shell.execute_reply": "2021-11-07T19:30:10.606132Z"
    },
    "papermill": {
     "duration": 0.076733,
     "end_time": "2021-11-07T19:30:10.606769",
     "exception": false,
     "start_time": "2021-11-07T19:30:10.530036",
     "status": "completed"
    },
    "tags": []
   },
   "outputs": [],
   "source": [
    "df_pivot = df.pivot_table(index=\"PRODUCT\", columns = \"RECORD_TIME\", values = \"LISTING_COUNT\")"
   ]
  },
  {
   "cell_type": "code",
   "execution_count": 6,
   "id": "union-huntington",
   "metadata": {
    "execution": {
     "iopub.execute_input": "2021-11-07T19:30:10.667162Z",
     "iopub.status.busy": "2021-11-07T19:30:10.665173Z",
     "iopub.status.idle": "2021-11-07T19:30:10.674575Z",
     "shell.execute_reply": "2021-11-07T19:30:10.676128Z"
    },
    "papermill": {
     "duration": 0.048314,
     "end_time": "2021-11-07T19:30:10.676533",
     "exception": false,
     "start_time": "2021-11-07T19:30:10.628219",
     "status": "completed"
    },
    "tags": []
   },
   "outputs": [],
   "source": [
    "df_pivot.columns = [\"stamp_1\", \"stamp_2\"]\n",
    "df_pivot_diff = df_pivot.diff(axis=1)"
   ]
  },
  {
   "cell_type": "code",
   "execution_count": 7,
   "id": "fifth-motion",
   "metadata": {
    "execution": {
     "iopub.execute_input": "2021-11-07T19:30:10.736069Z",
     "iopub.status.busy": "2021-11-07T19:30:10.733475Z",
     "iopub.status.idle": "2021-11-07T19:30:12.483242Z",
     "shell.execute_reply": "2021-11-07T19:30:12.484782Z"
    },
    "papermill": {
     "duration": 1.787623,
     "end_time": "2021-11-07T19:30:12.485256",
     "exception": false,
     "start_time": "2021-11-07T19:30:10.697633",
     "status": "completed"
    },
    "tags": []
   },
   "outputs": [
    {
     "data": {
      "text/plain": [
       "<AxesSubplot:ylabel='PRODUCT'>"
      ]
     },
     "execution_count": 7,
     "metadata": {},
     "output_type": "execute_result"
    },
    {
     "data": {
      "image/png": "[encoded data removed]",
      "text/plain": [
       "<Figure size 432x288 with 1 Axes>"
      ]
     },
     "metadata": {
      "needs_background": "light"
     },
     "output_type": "display_data"
    }
   ],
   "source": [
    "df_pivot_diff.sort_values(\"stamp_2\", ascending = False)[\"stamp_2\"].head(10).plot.barh()"
   ]
  },
  {
   "cell_type": "code",
   "execution_count": null,
   "id": "extra-executive",
   "metadata": {
    "papermill": {
     "duration": 0.024981,
     "end_time": "2021-11-07T19:30:12.534060",
     "exception": false,
     "start_time": "2021-11-07T19:30:12.509079",
     "status": "completed"
    },
    "tags": []
   },
   "outputs": [],
   "source": []
  }
 ],
 "metadata": {
  "kernelspec": {
   "display_name": "Python 3",
   "language": "python",
   "name": "python3"
  },
  "language_info": {
   "codemirror_mode": {
    "name": "ipython",
    "version": 3
   },
   "file_extension": ".py",
   "mimetype": "text/x-python",
   "name": "python",
   "nbconvert_exporter": "python",
   "pygments_lexer": "ipython3",
   "version": "3.9.5"
  },
  "papermill": {
   "default_parameters": {},
   "duration": 8.740077,
   "end_time": "2021-11-07T19:30:13.286798",
   "environment_variables": {},
   "exception": null,
   "input_path": "eBay_Overview.ipynb",
   "output_path": "eBay_Overview.ipynb",
   "parameters": {},
   "start_time": "2021-11-07T19:30:04.546721",
   "version": "2.3.3"
  }
 },
 "nbformat": 4,
 "nbformat_minor": 5
}