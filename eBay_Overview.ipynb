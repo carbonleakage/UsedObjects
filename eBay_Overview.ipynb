{
 "cells": [
  {
   "cell_type": "code",
   "execution_count": 1,
   "id": "reverse-picking",
   "metadata": {
    "execution": {
     "iopub.execute_input": "2021-11-05T10:00:08.298092Z",
     "iopub.status.busy": "2021-11-05T10:00:08.295853Z",
     "iopub.status.idle": "2021-11-05T10:00:09.260293Z",
     "shell.execute_reply": "2021-11-05T10:00:09.257839Z"
    },
    "papermill": {
     "duration": 1.009233,
     "end_time": "2021-11-05T10:00:09.260941",
     "exception": false,
     "start_time": "2021-11-05T10:00:08.251708",
     "status": "completed"
    },
    "tags": []
   },
   "outputs": [],
   "source": [
    "import pandas as pd\n",
    "import sqlite3"
   ]
  },
  {
   "cell_type": "code",
   "execution_count": 2,
   "id": "innovative-syndrome",
   "metadata": {
    "execution": {
     "iopub.execute_input": "2021-11-05T10:00:09.321959Z",
     "iopub.status.busy": "2021-11-05T10:00:09.319603Z",
     "iopub.status.idle": "2021-11-05T10:00:10.055023Z",
     "shell.execute_reply": "2021-11-05T10:00:10.056365Z"
    },
    "papermill": {
     "duration": 0.768788,
     "end_time": "2021-11-05T10:00:10.056900",
     "exception": false,
     "start_time": "2021-11-05T10:00:09.288112",
     "status": "completed"
    },
    "tags": []
   },
   "outputs": [],
   "source": [
    "timestamps = pd.read_sql(\"select distinct record_time from EBAY_TOP_BERLIN order by record_time desc limit 2\", sqlite3.connect(\"UsedObjects.db\"))"
   ]
  },
  {
   "cell_type": "code",
   "execution_count": 3,
   "id": "periodic-identification",
   "metadata": {
    "execution": {
     "iopub.execute_input": "2021-11-05T10:00:10.125222Z",
     "iopub.status.busy": "2021-11-05T10:00:10.122773Z",
     "iopub.status.idle": "2021-11-05T10:00:10.145483Z",
     "shell.execute_reply": "2021-11-05T10:00:10.146985Z"
    },
    "papermill": {
     "duration": 0.070786,
     "end_time": "2021-11-05T10:00:10.147441",
     "exception": false,
     "start_time": "2021-11-05T10:00:10.076655",
     "status": "completed"
    },
    "tags": []
   },
   "outputs": [
    {
     "data": {
      "text/html": [
       "<div>\n",
       "<style scoped>\n",
       "    .dataframe tbody tr th:only-of-type {\n",
       "        vertical-align: middle;\n",
       "    }\n",
       "\n",
       "    .dataframe tbody tr th {\n",
       "        vertical-align: top;\n",
       "    }\n",
       "\n",
       "    .dataframe thead th {\n",
       "        text-align: right;\n",
       "    }\n",
       "</style>\n",
       "<table border=\"1\" class=\"dataframe\">\n",
       "  <thead>\n",
       "    <tr style=\"text-align: right;\">\n",
       "      <th></th>\n",
       "      <th>RECORD_TIME</th>\n",
       "    </tr>\n",
       "  </thead>\n",
       "  <tbody>\n",
       "    <tr>\n",
       "      <th>0</th>\n",
       "      <td>2021-11-05 11:00</td>\n",
       "    </tr>\n",
       "    <tr>\n",
       "      <th>1</th>\n",
       "      <td>2021-11-05 10:30</td>\n",
       "    </tr>\n",
       "  </tbody>\n",
       "</table>\n",
       "</div>"
      ],
      "text/plain": [
       "        RECORD_TIME\n",
       "0  2021-11-05 11:00\n",
       "1  2021-11-05 10:30"
      ]
     },
     "execution_count": 3,
     "metadata": {},
     "output_type": "execute_result"
    }
   ],
   "source": [
    "timestamps"
   ]
  },
  {
   "cell_type": "code",
   "execution_count": 4,
   "id": "alternate-victory",
   "metadata": {
    "execution": {
     "iopub.execute_input": "2021-11-05T10:00:10.201509Z",
     "iopub.status.busy": "2021-11-05T10:00:10.199352Z",
     "iopub.status.idle": "2021-11-05T10:00:11.321929Z",
     "shell.execute_reply": "2021-11-05T10:00:11.323486Z"
    },
    "papermill": {
     "duration": 1.156389,
     "end_time": "2021-11-05T10:00:11.324044",
     "exception": false,
     "start_time": "2021-11-05T10:00:10.167655",
     "status": "completed"
    },
    "tags": []
   },
   "outputs": [],
   "source": [
    "df = pd.read_sql(\"select * from EBAY_TOP_BERLIN where record_time in (select distinct record_time from EBAY_TOP_BERLIN order by record_time desc limit 2)\", sqlite3.connect(\"UsedObjects.db\"))"
   ]
  },
  {
   "cell_type": "code",
   "execution_count": 5,
   "id": "popular-active",
   "metadata": {
    "execution": {
     "iopub.execute_input": "2021-11-05T10:00:11.391424Z",
     "iopub.status.busy": "2021-11-05T10:00:11.389064Z",
     "iopub.status.idle": "2021-11-05T10:00:11.422587Z",
     "shell.execute_reply": "2021-11-05T10:00:11.424152Z"
    },
    "papermill": {
     "duration": 0.078254,
     "end_time": "2021-11-05T10:00:11.424670",
     "exception": false,
     "start_time": "2021-11-05T10:00:11.346416",
     "status": "completed"
    },
    "tags": []
   },
   "outputs": [],
   "source": [
    "df_pivot = df.pivot_table(index=\"PRODUCT\", columns = \"RECORD_TIME\", values = \"LISTING_COUNT\")"
   ]
  },
  {
   "cell_type": "code",
   "execution_count": 6,
   "id": "union-huntington",
   "metadata": {
    "execution": {
     "iopub.execute_input": "2021-11-05T10:00:11.488770Z",
     "iopub.status.busy": "2021-11-05T10:00:11.486466Z",
     "iopub.status.idle": "2021-11-05T10:00:11.493784Z",
     "shell.execute_reply": "2021-11-05T10:00:11.492083Z"
    },
    "papermill": {
     "duration": 0.04785,
     "end_time": "2021-11-05T10:00:11.494198",
     "exception": false,
     "start_time": "2021-11-05T10:00:11.446348",
     "status": "completed"
    },
    "tags": []
   },
   "outputs": [],
   "source": [
    "df_pivot.columns = [\"stamp_1\", \"stamp_2\"]\n",
    "df_pivot_diff = df_pivot.diff(axis=1)"
   ]
  },
  {
   "cell_type": "code",
   "execution_count": 7,
   "id": "fifth-motion",
   "metadata": {
    "execution": {
     "iopub.execute_input": "2021-11-05T10:00:11.554792Z",
     "iopub.status.busy": "2021-11-05T10:00:11.552164Z",
     "iopub.status.idle": "2021-11-05T10:00:13.368109Z",
     "shell.execute_reply": "2021-11-05T10:00:13.369603Z"
    },
    "papermill": {
     "duration": 1.854462,
     "end_time": "2021-11-05T10:00:13.370090",
     "exception": false,
     "start_time": "2021-11-05T10:00:11.515628",
     "status": "completed"
    },
    "tags": []
   },
   "outputs": [
    {
     "data": {
      "text/plain": [
       "<AxesSubplot:ylabel='PRODUCT'>"
      ]
     },
     "execution_count": 7,
     "metadata": {},
     "output_type": "execute_result"
    },
    {
     "data": {
      "image/png": "[encoded data removed]",
      "text/plain": [
       "<Figure size 432x288 with 1 Axes>"
      ]
     },
     "metadata": {
      "needs_background": "light"
     },
     "output_type": "display_data"
    }
   ],
   "source": [
    "df_pivot_diff.sort_values(\"stamp_2\", ascending = False)[\"stamp_2\"].head(10).plot.barh()"
   ]
  },
  {
   "cell_type": "code",
   "execution_count": null,
   "id": "extra-executive",
   "metadata": {
    "papermill": {
     "duration": 0.025552,
     "end_time": "2021-11-05T10:00:13.419645",
     "exception": false,
     "start_time": "2021-11-05T10:00:13.394093",
     "status": "completed"
    },
    "tags": []
   },
   "outputs": [],
   "source": []
  }
 ],
 "metadata": {
  "kernelspec": {
   "display_name": "Python 3",
   "language": "python",
   "name": "python3"
  },
  "language_info": {
   "codemirror_mode": {
    "name": "ipython",
    "version": 3
   },
   "file_extension": ".py",
   "mimetype": "text/x-python",
   "name": "python",
   "nbconvert_exporter": "python",
   "pygments_lexer": "ipython3",
   "version": "3.9.5"
  },
  "papermill": {
   "default_parameters": {},
   "duration": 8.886557,
   "end_time": "2021-11-05T10:00:14.386253",
   "environment_variables": {},
   "exception": null,
   "input_path": "eBay_Overview.ipynb",
   "output_path": "eBay_Overview.ipynb",
   "parameters": {},
   "start_time": "2021-11-05T10:00:05.499696",
   "version": "2.3.3"
  }
 },
 "nbformat": 4,
 "nbformat_minor": 5
}