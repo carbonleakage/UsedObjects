{
 "cells": [
  {
   "cell_type": "code",
   "execution_count": 1,
   "id": "reverse-picking",
   "metadata": {
    "execution": {
     "iopub.execute_input": "2021-09-27T11:00:06.752599Z",
     "iopub.status.busy": "2021-09-27T11:00:06.750520Z",
     "iopub.status.idle": "2021-09-27T11:00:07.558339Z",
     "shell.execute_reply": "2021-09-27T11:00:07.559689Z"
    },
    "papermill": {
     "duration": 0.860926,
     "end_time": "2021-09-27T11:00:07.560337",
     "exception": false,
     "start_time": "2021-09-27T11:00:06.699411",
     "status": "completed"
    },
    "tags": []
   },
   "outputs": [],
   "source": [
    "import pandas as pd\n",
    "import sqlite3"
   ]
  },
  {
   "cell_type": "code",
   "execution_count": 2,
   "id": "innovative-syndrome",
   "metadata": {
    "execution": {
     "iopub.execute_input": "2021-09-27T11:00:07.611348Z",
     "iopub.status.busy": "2021-09-27T11:00:07.609360Z",
     "iopub.status.idle": "2021-09-27T11:00:07.994928Z",
     "shell.execute_reply": "2021-09-27T11:00:07.996328Z"
    },
    "papermill": {
     "duration": 0.415549,
     "end_time": "2021-09-27T11:00:07.996777",
     "exception": false,
     "start_time": "2021-09-27T11:00:07.581228",
     "status": "completed"
    },
    "tags": []
   },
   "outputs": [],
   "source": [
    "timestamps = pd.read_sql(\"select distinct record_time from EBAY_TOP_BERLIN order by record_time desc limit 2\", sqlite3.connect(\"UsedObjects.db\"))"
   ]
  },
  {
   "cell_type": "code",
   "execution_count": 3,
   "id": "periodic-identification",
   "metadata": {
    "execution": {
     "iopub.execute_input": "2021-09-27T11:00:08.067374Z",
     "iopub.status.busy": "2021-09-27T11:00:08.062182Z",
     "iopub.status.idle": "2021-09-27T11:00:08.082471Z",
     "shell.execute_reply": "2021-09-27T11:00:08.083740Z"
    },
    "papermill": {
     "duration": 0.06727,
     "end_time": "2021-09-27T11:00:08.084184",
     "exception": false,
     "start_time": "2021-09-27T11:00:08.016914",
     "status": "completed"
    },
    "tags": []
   },
   "outputs": [
    {
     "data": {
      "text/html": [
       "<div>\n",
       "<style scoped>\n",
       "    .dataframe tbody tr th:only-of-type {\n",
       "        vertical-align: middle;\n",
       "    }\n",
       "\n",
       "    .dataframe tbody tr th {\n",
       "        vertical-align: top;\n",
       "    }\n",
       "\n",
       "    .dataframe thead th {\n",
       "        text-align: right;\n",
       "    }\n",
       "</style>\n",
       "<table border=\"1\" class=\"dataframe\">\n",
       "  <thead>\n",
       "    <tr style=\"text-align: right;\">\n",
       "      <th></th>\n",
       "      <th>RECORD_TIME</th>\n",
       "    </tr>\n",
       "  </thead>\n",
       "  <tbody>\n",
       "    <tr>\n",
       "      <th>0</th>\n",
       "      <td>2021-09-27 13:00</td>\n",
       "    </tr>\n",
       "    <tr>\n",
       "      <th>1</th>\n",
       "      <td>2021-09-27 12:30</td>\n",
       "    </tr>\n",
       "  </tbody>\n",
       "</table>\n",
       "</div>"
      ],
      "text/plain": [
       "        RECORD_TIME\n",
       "0  2021-09-27 13:00\n",
       "1  2021-09-27 12:30"
      ]
     },
     "execution_count": 3,
     "metadata": {},
     "output_type": "execute_result"
    }
   ],
   "source": [
    "timestamps"
   ]
  },
  {
   "cell_type": "code",
   "execution_count": 4,
   "id": "alternate-victory",
   "metadata": {
    "execution": {
     "iopub.execute_input": "2021-09-27T11:00:08.139456Z",
     "iopub.status.busy": "2021-09-27T11:00:08.137113Z",
     "iopub.status.idle": "2021-09-27T11:00:08.720258Z",
     "shell.execute_reply": "2021-09-27T11:00:08.721468Z"
    },
    "papermill": {
     "duration": 0.614627,
     "end_time": "2021-09-27T11:00:08.721868",
     "exception": false,
     "start_time": "2021-09-27T11:00:08.107241",
     "status": "completed"
    },
    "tags": []
   },
   "outputs": [],
   "source": [
    "df = pd.read_sql(\"select * from EBAY_TOP_BERLIN where record_time in (select distinct record_time from EBAY_TOP_BERLIN order by record_time desc limit 2)\", sqlite3.connect(\"UsedObjects.db\"))"
   ]
  },
  {
   "cell_type": "code",
   "execution_count": 5,
   "id": "popular-active",
   "metadata": {
    "execution": {
     "iopub.execute_input": "2021-09-27T11:00:08.796786Z",
     "iopub.status.busy": "2021-09-27T11:00:08.789822Z",
     "iopub.status.idle": "2021-09-27T11:00:08.812294Z",
     "shell.execute_reply": "2021-09-27T11:00:08.813510Z"
    },
    "papermill": {
     "duration": 0.068601,
     "end_time": "2021-09-27T11:00:08.813916",
     "exception": false,
     "start_time": "2021-09-27T11:00:08.745315",
     "status": "completed"
    },
    "tags": []
   },
   "outputs": [],
   "source": [
    "df_pivot = df.pivot_table(index=\"PRODUCT\", columns = \"RECORD_TIME\", values = \"LISTING_COUNT\")"
   ]
  },
  {
   "cell_type": "code",
   "execution_count": 6,
   "id": "union-huntington",
   "metadata": {
    "execution": {
     "iopub.execute_input": "2021-09-27T11:00:08.874536Z",
     "iopub.status.busy": "2021-09-27T11:00:08.872101Z",
     "iopub.status.idle": "2021-09-27T11:00:08.878039Z",
     "shell.execute_reply": "2021-09-27T11:00:08.879541Z"
    },
    "papermill": {
     "duration": 0.042866,
     "end_time": "2021-09-27T11:00:08.880013",
     "exception": false,
     "start_time": "2021-09-27T11:00:08.837147",
     "status": "completed"
    },
    "tags": []
   },
   "outputs": [],
   "source": [
    "df_pivot.columns = [\"stamp_1\", \"stamp_2\"]\n",
    "df_pivot_diff = df_pivot.diff(axis=1)"
   ]
  },
  {
   "cell_type": "code",
   "execution_count": 7,
   "id": "fifth-motion",
   "metadata": {
    "execution": {
     "iopub.execute_input": "2021-09-27T11:00:08.934903Z",
     "iopub.status.busy": "2021-09-27T11:00:08.932572Z",
     "iopub.status.idle": "2021-09-27T11:00:10.418075Z",
     "shell.execute_reply": "2021-09-27T11:00:10.419423Z"
    },
    "papermill": {
     "duration": 1.518343,
     "end_time": "2021-09-27T11:00:10.419891",
     "exception": false,
     "start_time": "2021-09-27T11:00:08.901548",
     "status": "completed"
    },
    "tags": []
   },
   "outputs": [
    {
     "data": {
      "text/plain": [
       "<AxesSubplot:ylabel='PRODUCT'>"
      ]
     },
     "execution_count": 7,
     "metadata": {},
     "output_type": "execute_result"
    },
    {
     "data": {
      "image/png": "[encoded data removed]",
      "text/plain": [
       "<Figure size 432x288 with 1 Axes>"
      ]
     },
     "metadata": {
      "needs_background": "light"
     },
     "output_type": "display_data"
    }
   ],
   "source": [
    "df_pivot_diff.sort_values(\"stamp_2\", ascending = False)[\"stamp_2\"].head(10).plot.barh()"
   ]
  },
  {
   "cell_type": "code",
   "execution_count": null,
   "id": "extra-executive",
   "metadata": {
    "papermill": {
     "duration": 0.022624,
     "end_time": "2021-09-27T11:00:10.467624",
     "exception": false,
     "start_time": "2021-09-27T11:00:10.445000",
     "status": "completed"
    },
    "tags": []
   },
   "outputs": [],
   "source": []
  }
 ],
 "metadata": {
  "kernelspec": {
   "display_name": "Python 3",
   "language": "python",
   "name": "python3"
  },
  "language_info": {
   "codemirror_mode": {
    "name": "ipython",
    "version": 3
   },
   "file_extension": ".py",
   "mimetype": "text/x-python",
   "name": "python",
   "nbconvert_exporter": "python",
   "pygments_lexer": "ipython3",
   "version": "3.9.5"
  },
  "papermill": {
   "default_parameters": {},
   "duration": 6.818256,
   "end_time": "2021-09-27T11:00:11.109123",
   "environment_variables": {},
   "exception": null,
   "input_path": "eBay_Overview.ipynb",
   "output_path": "eBay_Overview.ipynb",
   "parameters": {},
   "start_time": "2021-09-27T11:00:04.290867",
   "version": "2.3.3"
  }
 },
 "nbformat": 4,
 "nbformat_minor": 5
}