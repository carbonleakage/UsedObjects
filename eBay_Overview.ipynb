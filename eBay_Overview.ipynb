{
 "cells": [
  {
   "cell_type": "code",
   "execution_count": 1,
   "id": "reverse-picking",
   "metadata": {
    "execution": {
     "iopub.execute_input": "2021-08-11T21:00:04.467445Z",
     "iopub.status.busy": "2021-08-11T21:00:04.466685Z",
     "iopub.status.idle": "2021-08-11T21:00:05.052631Z",
     "shell.execute_reply": "2021-08-11T21:00:05.053216Z"
    },
    "papermill": {
     "duration": 0.605868,
     "end_time": "2021-08-11T21:00:05.053506",
     "exception": false,
     "start_time": "2021-08-11T21:00:04.447638",
     "status": "completed"
    },
    "tags": []
   },
   "outputs": [],
   "source": [
    "import pandas as pd\n",
    "import sqlite3"
   ]
  },
  {
   "cell_type": "code",
   "execution_count": 2,
   "id": "innovative-syndrome",
   "metadata": {
    "execution": {
     "iopub.execute_input": "2021-08-11T21:00:05.076416Z",
     "iopub.status.busy": "2021-08-11T21:00:05.075639Z",
     "iopub.status.idle": "2021-08-11T21:00:05.279012Z",
     "shell.execute_reply": "2021-08-11T21:00:05.279586Z"
    },
    "papermill": {
     "duration": 0.217912,
     "end_time": "2021-08-11T21:00:05.279779",
     "exception": false,
     "start_time": "2021-08-11T21:00:05.061867",
     "status": "completed"
    },
    "tags": []
   },
   "outputs": [],
   "source": [
    "timestamps = pd.read_sql(\"select distinct record_time from EBAY_TOP_BERLIN order by record_time desc limit 2\", sqlite3.connect(\"UsedObjects.db\"))"
   ]
  },
  {
   "cell_type": "code",
   "execution_count": 3,
   "id": "periodic-identification",
   "metadata": {
    "execution": {
     "iopub.execute_input": "2021-08-11T21:00:05.311943Z",
     "iopub.status.busy": "2021-08-11T21:00:05.311174Z",
     "iopub.status.idle": "2021-08-11T21:00:05.321868Z",
     "shell.execute_reply": "2021-08-11T21:00:05.322395Z"
    },
    "papermill": {
     "duration": 0.034543,
     "end_time": "2021-08-11T21:00:05.322574",
     "exception": false,
     "start_time": "2021-08-11T21:00:05.288031",
     "status": "completed"
    },
    "tags": []
   },
   "outputs": [
    {
     "data": {
      "text/html": [
       "<div>\n",
       "<style scoped>\n",
       "    .dataframe tbody tr th:only-of-type {\n",
       "        vertical-align: middle;\n",
       "    }\n",
       "\n",
       "    .dataframe tbody tr th {\n",
       "        vertical-align: top;\n",
       "    }\n",
       "\n",
       "    .dataframe thead th {\n",
       "        text-align: right;\n",
       "    }\n",
       "</style>\n",
       "<table border=\"1\" class=\"dataframe\">\n",
       "  <thead>\n",
       "    <tr style=\"text-align: right;\">\n",
       "      <th></th>\n",
       "      <th>RECORD_TIME</th>\n",
       "    </tr>\n",
       "  </thead>\n",
       "  <tbody>\n",
       "    <tr>\n",
       "      <th>0</th>\n",
       "      <td>2021-08-11 23:00</td>\n",
       "    </tr>\n",
       "    <tr>\n",
       "      <th>1</th>\n",
       "      <td>2021-08-11 22:30</td>\n",
       "    </tr>\n",
       "  </tbody>\n",
       "</table>\n",
       "</div>"
      ],
      "text/plain": [
       "        RECORD_TIME\n",
       "0  2021-08-11 23:00\n",
       "1  2021-08-11 22:30"
      ]
     },
     "execution_count": 3,
     "metadata": {},
     "output_type": "execute_result"
    }
   ],
   "source": [
    "timestamps"
   ]
  },
  {
   "cell_type": "code",
   "execution_count": 4,
   "id": "alternate-victory",
   "metadata": {
    "execution": {
     "iopub.execute_input": "2021-08-11T21:00:05.350919Z",
     "iopub.status.busy": "2021-08-11T21:00:05.350151Z",
     "iopub.status.idle": "2021-08-11T21:00:05.379825Z",
     "shell.execute_reply": "2021-08-11T21:00:05.380357Z"
    },
    "papermill": {
     "duration": 0.04967,
     "end_time": "2021-08-11T21:00:05.380540",
     "exception": false,
     "start_time": "2021-08-11T21:00:05.330870",
     "status": "completed"
    },
    "tags": []
   },
   "outputs": [],
   "source": [
    "df = pd.read_sql(\"select * from EBAY_TOP_BERLIN where record_time in (select distinct record_time from EBAY_TOP_BERLIN order by record_time desc limit 2)\", sqlite3.connect(\"UsedObjects.db\"))"
   ]
  },
  {
   "cell_type": "code",
   "execution_count": 5,
   "id": "popular-active",
   "metadata": {
    "execution": {
     "iopub.execute_input": "2021-08-11T21:00:05.410837Z",
     "iopub.status.busy": "2021-08-11T21:00:05.409881Z",
     "iopub.status.idle": "2021-08-11T21:00:05.428799Z",
     "shell.execute_reply": "2021-08-11T21:00:05.428187Z"
    },
    "papermill": {
     "duration": 0.036232,
     "end_time": "2021-08-11T21:00:05.428962",
     "exception": false,
     "start_time": "2021-08-11T21:00:05.392730",
     "status": "completed"
    },
    "tags": []
   },
   "outputs": [],
   "source": [
    "df_pivot = df.pivot_table(index=\"PRODUCT\", columns = \"RECORD_TIME\", values = \"LISTING_COUNT\")"
   ]
  },
  {
   "cell_type": "code",
   "execution_count": 6,
   "id": "union-huntington",
   "metadata": {
    "execution": {
     "iopub.execute_input": "2021-08-11T21:00:05.458562Z",
     "iopub.status.busy": "2021-08-11T21:00:05.457574Z",
     "iopub.status.idle": "2021-08-11T21:00:05.466772Z",
     "shell.execute_reply": "2021-08-11T21:00:05.465591Z"
    },
    "papermill": {
     "duration": 0.02557,
     "end_time": "2021-08-11T21:00:05.467107",
     "exception": false,
     "start_time": "2021-08-11T21:00:05.441537",
     "status": "completed"
    },
    "tags": []
   },
   "outputs": [],
   "source": [
    "df_pivot.columns = [\"stamp_1\", \"stamp_2\"]\n",
    "df_pivot_diff = df_pivot.diff(axis=1)"
   ]
  },
  {
   "cell_type": "code",
   "execution_count": 7,
   "id": "fifth-motion",
   "metadata": {
    "execution": {
     "iopub.execute_input": "2021-08-11T21:00:05.504016Z",
     "iopub.status.busy": "2021-08-11T21:00:05.502416Z",
     "iopub.status.idle": "2021-08-11T21:00:06.164630Z",
     "shell.execute_reply": "2021-08-11T21:00:06.163895Z"
    },
    "papermill": {
     "duration": 0.685374,
     "end_time": "2021-08-11T21:00:06.164800",
     "exception": false,
     "start_time": "2021-08-11T21:00:05.479426",
     "status": "completed"
    },
    "tags": []
   },
   "outputs": [
    {
     "data": {
      "text/plain": [
       "<AxesSubplot:ylabel='PRODUCT'>"
      ]
     },
     "execution_count": 7,
     "metadata": {},
     "output_type": "execute_result"
    },
    {
     "data": {
      "image/png": "[encoded data removed]",
      "text/plain": [
       "<Figure size 432x288 with 1 Axes>"
      ]
     },
     "metadata": {
      "needs_background": "light"
     },
     "output_type": "display_data"
    }
   ],
   "source": [
    "df_pivot_diff.sort_values(\"stamp_2\", ascending = False)[\"stamp_2\"].head(10).plot.barh()"
   ]
  },
  {
   "cell_type": "code",
   "execution_count": null,
   "id": "extra-executive",
   "metadata": {
    "papermill": {
     "duration": 0.015425,
     "end_time": "2021-08-11T21:00:06.190186",
     "exception": false,
     "start_time": "2021-08-11T21:00:06.174761",
     "status": "completed"
    },
    "tags": []
   },
   "outputs": [],
   "source": []
  }
 ],
 "metadata": {
  "kernelspec": {
   "display_name": "Python 3",
   "language": "python",
   "name": "python3"
  },
  "language_info": {
   "codemirror_mode": {
    "name": "ipython",
    "version": 3
   },
   "file_extension": ".py",
   "mimetype": "text/x-python",
   "name": "python",
   "nbconvert_exporter": "python",
   "pygments_lexer": "ipython3",
   "version": "3.8.8"
  },
  "papermill": {
   "default_parameters": {},
   "duration": 4.06464,
   "end_time": "2021-08-11T21:00:06.865486",
   "environment_variables": {},
   "exception": null,
   "input_path": "/Users/saravananshanmugam/Carbonleakage_Git/UsedObjects/eBay_Overview.ipynb",
   "output_path": "/Users/saravananshanmugam/Carbonleakage_Git/UsedObjects/eBay_Overview.ipynb",
   "parameters": {},
   "start_time": "2021-08-11T21:00:02.800846",
   "version": "2.3.3"
  }
 },
 "nbformat": 4,
 "nbformat_minor": 5
}