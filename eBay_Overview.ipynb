{
 "cells": [
  {
   "cell_type": "code",
   "execution_count": 1,
   "id": "reverse-picking",
   "metadata": {
    "execution": {
     "iopub.execute_input": "2021-09-03T00:30:07.232675Z",
     "iopub.status.busy": "2021-09-03T00:30:07.230685Z",
     "iopub.status.idle": "2021-09-03T00:30:08.039541Z",
     "shell.execute_reply": "2021-09-03T00:30:08.037781Z"
    },
    "papermill": {
     "duration": 0.857495,
     "end_time": "2021-09-03T00:30:08.039984",
     "exception": false,
     "start_time": "2021-09-03T00:30:07.182489",
     "status": "completed"
    },
    "tags": []
   },
   "outputs": [],
   "source": [
    "import pandas as pd\n",
    "import sqlite3"
   ]
  },
  {
   "cell_type": "code",
   "execution_count": 2,
   "id": "innovative-syndrome",
   "metadata": {
    "execution": {
     "iopub.execute_input": "2021-09-03T00:30:08.092749Z",
     "iopub.status.busy": "2021-09-03T00:30:08.090325Z",
     "iopub.status.idle": "2021-09-03T00:30:08.281397Z",
     "shell.execute_reply": "2021-09-03T00:30:08.282683Z"
    },
    "papermill": {
     "duration": 0.221088,
     "end_time": "2021-09-03T00:30:08.283216",
     "exception": false,
     "start_time": "2021-09-03T00:30:08.062128",
     "status": "completed"
    },
    "tags": []
   },
   "outputs": [],
   "source": [
    "timestamps = pd.read_sql(\"select distinct record_time from EBAY_TOP_BERLIN order by record_time desc limit 2\", sqlite3.connect(\"UsedObjects.db\"))"
   ]
  },
  {
   "cell_type": "code",
   "execution_count": 3,
   "id": "periodic-identification",
   "metadata": {
    "execution": {
     "iopub.execute_input": "2021-09-03T00:30:08.352384Z",
     "iopub.status.busy": "2021-09-03T00:30:08.347329Z",
     "iopub.status.idle": "2021-09-03T00:30:08.367433Z",
     "shell.execute_reply": "2021-09-03T00:30:08.368749Z"
    },
    "papermill": {
     "duration": 0.066938,
     "end_time": "2021-09-03T00:30:08.369169",
     "exception": false,
     "start_time": "2021-09-03T00:30:08.302231",
     "status": "completed"
    },
    "tags": []
   },
   "outputs": [
    {
     "data": {
      "text/html": [
       "<div>\n",
       "<style scoped>\n",
       "    .dataframe tbody tr th:only-of-type {\n",
       "        vertical-align: middle;\n",
       "    }\n",
       "\n",
       "    .dataframe tbody tr th {\n",
       "        vertical-align: top;\n",
       "    }\n",
       "\n",
       "    .dataframe thead th {\n",
       "        text-align: right;\n",
       "    }\n",
       "</style>\n",
       "<table border=\"1\" class=\"dataframe\">\n",
       "  <thead>\n",
       "    <tr style=\"text-align: right;\">\n",
       "      <th></th>\n",
       "      <th>RECORD_TIME</th>\n",
       "    </tr>\n",
       "  </thead>\n",
       "  <tbody>\n",
       "    <tr>\n",
       "      <th>0</th>\n",
       "      <td>2021-09-03 02:30</td>\n",
       "    </tr>\n",
       "    <tr>\n",
       "      <th>1</th>\n",
       "      <td>2021-09-03 02:00</td>\n",
       "    </tr>\n",
       "  </tbody>\n",
       "</table>\n",
       "</div>"
      ],
      "text/plain": [
       "        RECORD_TIME\n",
       "0  2021-09-03 02:30\n",
       "1  2021-09-03 02:00"
      ]
     },
     "execution_count": 3,
     "metadata": {},
     "output_type": "execute_result"
    }
   ],
   "source": [
    "timestamps"
   ]
  },
  {
   "cell_type": "code",
   "execution_count": 4,
   "id": "alternate-victory",
   "metadata": {
    "execution": {
     "iopub.execute_input": "2021-09-03T00:30:08.420194Z",
     "iopub.status.busy": "2021-09-03T00:30:08.418266Z",
     "iopub.status.idle": "2021-09-03T00:30:08.699088Z",
     "shell.execute_reply": "2021-09-03T00:30:08.700346Z"
    },
    "papermill": {
     "duration": 0.310469,
     "end_time": "2021-09-03T00:30:08.700753",
     "exception": false,
     "start_time": "2021-09-03T00:30:08.390284",
     "status": "completed"
    },
    "tags": []
   },
   "outputs": [],
   "source": [
    "df = pd.read_sql(\"select * from EBAY_TOP_BERLIN where record_time in (select distinct record_time from EBAY_TOP_BERLIN order by record_time desc limit 2)\", sqlite3.connect(\"UsedObjects.db\"))"
   ]
  },
  {
   "cell_type": "code",
   "execution_count": 5,
   "id": "popular-active",
   "metadata": {
    "execution": {
     "iopub.execute_input": "2021-09-03T00:30:08.791891Z",
     "iopub.status.busy": "2021-09-03T00:30:08.780585Z",
     "iopub.status.idle": "2021-09-03T00:30:08.807210Z",
     "shell.execute_reply": "2021-09-03T00:30:08.808457Z"
    },
    "papermill": {
     "duration": 0.073147,
     "end_time": "2021-09-03T00:30:08.808861",
     "exception": false,
     "start_time": "2021-09-03T00:30:08.735714",
     "status": "completed"
    },
    "tags": []
   },
   "outputs": [],
   "source": [
    "df_pivot = df.pivot_table(index=\"PRODUCT\", columns = \"RECORD_TIME\", values = \"LISTING_COUNT\")"
   ]
  },
  {
   "cell_type": "code",
   "execution_count": 6,
   "id": "union-huntington",
   "metadata": {
    "execution": {
     "iopub.execute_input": "2021-09-03T00:30:08.866550Z",
     "iopub.status.busy": "2021-09-03T00:30:08.864268Z",
     "iopub.status.idle": "2021-09-03T00:30:08.870084Z",
     "shell.execute_reply": "2021-09-03T00:30:08.871340Z"
    },
    "papermill": {
     "duration": 0.041542,
     "end_time": "2021-09-03T00:30:08.871783",
     "exception": false,
     "start_time": "2021-09-03T00:30:08.830241",
     "status": "completed"
    },
    "tags": []
   },
   "outputs": [],
   "source": [
    "df_pivot.columns = [\"stamp_1\", \"stamp_2\"]\n",
    "df_pivot_diff = df_pivot.diff(axis=1)"
   ]
  },
  {
   "cell_type": "code",
   "execution_count": 7,
   "id": "fifth-motion",
   "metadata": {
    "execution": {
     "iopub.execute_input": "2021-09-03T00:30:08.925692Z",
     "iopub.status.busy": "2021-09-03T00:30:08.923419Z",
     "iopub.status.idle": "2021-09-03T00:30:10.410907Z",
     "shell.execute_reply": "2021-09-03T00:30:10.412126Z"
    },
    "papermill": {
     "duration": 1.520387,
     "end_time": "2021-09-03T00:30:10.412566",
     "exception": false,
     "start_time": "2021-09-03T00:30:08.892179",
     "status": "completed"
    },
    "tags": []
   },
   "outputs": [
    {
     "data": {
      "text/plain": [
       "<AxesSubplot:ylabel='PRODUCT'>"
      ]
     },
     "execution_count": 7,
     "metadata": {},
     "output_type": "execute_result"
    },
    {
     "data": {
      "image/png": "[encoded data removed]",
      "text/plain": [
       "<Figure size 432x288 with 1 Axes>"
      ]
     },
     "metadata": {
      "needs_background": "light"
     },
     "output_type": "display_data"
    }
   ],
   "source": [
    "df_pivot_diff.sort_values(\"stamp_2\", ascending = False)[\"stamp_2\"].head(10).plot.barh()"
   ]
  },
  {
   "cell_type": "code",
   "execution_count": null,
   "id": "extra-executive",
   "metadata": {
    "papermill": {
     "duration": 0.022022,
     "end_time": "2021-09-03T00:30:10.458284",
     "exception": false,
     "start_time": "2021-09-03T00:30:10.436262",
     "status": "completed"
    },
    "tags": []
   },
   "outputs": [],
   "source": []
  }
 ],
 "metadata": {
  "kernelspec": {
   "display_name": "Python 3",
   "language": "python",
   "name": "python3"
  },
  "language_info": {
   "codemirror_mode": {
    "name": "ipython",
    "version": 3
   },
   "file_extension": ".py",
   "mimetype": "text/x-python",
   "name": "python",
   "nbconvert_exporter": "python",
   "pygments_lexer": "ipython3",
   "version": "3.9.5"
  },
  "papermill": {
   "default_parameters": {},
   "duration": 6.818473,
   "end_time": "2021-09-03T00:30:11.602847",
   "environment_variables": {},
   "exception": null,
   "input_path": "eBay_Overview.ipynb",
   "output_path": "eBay_Overview.ipynb",
   "parameters": {},
   "start_time": "2021-09-03T00:30:04.784374",
   "version": "2.3.3"
  }
 },
 "nbformat": 4,
 "nbformat_minor": 5
}