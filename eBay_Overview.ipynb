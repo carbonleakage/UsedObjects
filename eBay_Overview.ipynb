{
 "cells": [
  {
   "cell_type": "code",
   "execution_count": 1,
   "id": "reverse-picking",
   "metadata": {
    "execution": {
     "iopub.execute_input": "2021-08-31T08:00:08.717739Z",
     "iopub.status.busy": "2021-08-31T08:00:08.715668Z",
     "iopub.status.idle": "2021-08-31T08:00:10.743634Z",
     "shell.execute_reply": "2021-08-31T08:00:10.745165Z"
    },
    "papermill": {
     "duration": 2.08088,
     "end_time": "2021-08-31T08:00:10.745878",
     "exception": false,
     "start_time": "2021-08-31T08:00:08.664998",
     "status": "completed"
    },
    "tags": []
   },
   "outputs": [],
   "source": [
    "import pandas as pd\n",
    "import sqlite3"
   ]
  },
  {
   "cell_type": "code",
   "execution_count": 2,
   "id": "innovative-syndrome",
   "metadata": {
    "execution": {
     "iopub.execute_input": "2021-08-31T08:00:10.800824Z",
     "iopub.status.busy": "2021-08-31T08:00:10.798251Z",
     "iopub.status.idle": "2021-08-31T08:00:11.054272Z",
     "shell.execute_reply": "2021-08-31T08:00:11.055959Z"
    },
    "papermill": {
     "duration": 0.286965,
     "end_time": "2021-08-31T08:00:11.056525",
     "exception": false,
     "start_time": "2021-08-31T08:00:10.769560",
     "status": "completed"
    },
    "tags": []
   },
   "outputs": [],
   "source": [
    "timestamps = pd.read_sql(\"select distinct record_time from EBAY_TOP_BERLIN order by record_time desc limit 2\", sqlite3.connect(\"UsedObjects.db\"))"
   ]
  },
  {
   "cell_type": "code",
   "execution_count": 3,
   "id": "periodic-identification",
   "metadata": {
    "execution": {
     "iopub.execute_input": "2021-08-31T08:00:11.123749Z",
     "iopub.status.busy": "2021-08-31T08:00:11.121591Z",
     "iopub.status.idle": "2021-08-31T08:00:11.145103Z",
     "shell.execute_reply": "2021-08-31T08:00:11.146377Z"
    },
    "papermill": {
     "duration": 0.068827,
     "end_time": "2021-08-31T08:00:11.146792",
     "exception": false,
     "start_time": "2021-08-31T08:00:11.077965",
     "status": "completed"
    },
    "tags": []
   },
   "outputs": [
    {
     "data": {
      "text/html": [
       "<div>\n",
       "<style scoped>\n",
       "    .dataframe tbody tr th:only-of-type {\n",
       "        vertical-align: middle;\n",
       "    }\n",
       "\n",
       "    .dataframe tbody tr th {\n",
       "        vertical-align: top;\n",
       "    }\n",
       "\n",
       "    .dataframe thead th {\n",
       "        text-align: right;\n",
       "    }\n",
       "</style>\n",
       "<table border=\"1\" class=\"dataframe\">\n",
       "  <thead>\n",
       "    <tr style=\"text-align: right;\">\n",
       "      <th></th>\n",
       "      <th>RECORD_TIME</th>\n",
       "    </tr>\n",
       "  </thead>\n",
       "  <tbody>\n",
       "    <tr>\n",
       "      <th>0</th>\n",
       "      <td>2021-08-31 10:00</td>\n",
       "    </tr>\n",
       "    <tr>\n",
       "      <th>1</th>\n",
       "      <td>2021-08-31 09:30</td>\n",
       "    </tr>\n",
       "  </tbody>\n",
       "</table>\n",
       "</div>"
      ],
      "text/plain": [
       "        RECORD_TIME\n",
       "0  2021-08-31 10:00\n",
       "1  2021-08-31 09:30"
      ]
     },
     "execution_count": 3,
     "metadata": {},
     "output_type": "execute_result"
    }
   ],
   "source": [
    "timestamps"
   ]
  },
  {
   "cell_type": "code",
   "execution_count": 4,
   "id": "alternate-victory",
   "metadata": {
    "execution": {
     "iopub.execute_input": "2021-08-31T08:00:11.197617Z",
     "iopub.status.busy": "2021-08-31T08:00:11.195774Z",
     "iopub.status.idle": "2021-08-31T08:00:11.459135Z",
     "shell.execute_reply": "2021-08-31T08:00:11.460527Z"
    },
    "papermill": {
     "duration": 0.293583,
     "end_time": "2021-08-31T08:00:11.460942",
     "exception": false,
     "start_time": "2021-08-31T08:00:11.167359",
     "status": "completed"
    },
    "tags": []
   },
   "outputs": [],
   "source": [
    "df = pd.read_sql(\"select * from EBAY_TOP_BERLIN where record_time in (select distinct record_time from EBAY_TOP_BERLIN order by record_time desc limit 2)\", sqlite3.connect(\"UsedObjects.db\"))"
   ]
  },
  {
   "cell_type": "code",
   "execution_count": 5,
   "id": "popular-active",
   "metadata": {
    "execution": {
     "iopub.execute_input": "2021-08-31T08:00:11.554388Z",
     "iopub.status.busy": "2021-08-31T08:00:11.533270Z",
     "iopub.status.idle": "2021-08-31T08:00:11.600783Z",
     "shell.execute_reply": "2021-08-31T08:00:11.602444Z"
    },
    "papermill": {
     "duration": 0.120735,
     "end_time": "2021-08-31T08:00:11.603003",
     "exception": false,
     "start_time": "2021-08-31T08:00:11.482268",
     "status": "completed"
    },
    "tags": []
   },
   "outputs": [],
   "source": [
    "df_pivot = df.pivot_table(index=\"PRODUCT\", columns = \"RECORD_TIME\", values = \"LISTING_COUNT\")"
   ]
  },
  {
   "cell_type": "code",
   "execution_count": 6,
   "id": "union-huntington",
   "metadata": {
    "execution": {
     "iopub.execute_input": "2021-08-31T08:00:11.664665Z",
     "iopub.status.busy": "2021-08-31T08:00:11.662151Z",
     "iopub.status.idle": "2021-08-31T08:00:11.668572Z",
     "shell.execute_reply": "2021-08-31T08:00:11.670224Z"
    },
    "papermill": {
     "duration": 0.044957,
     "end_time": "2021-08-31T08:00:11.670736",
     "exception": false,
     "start_time": "2021-08-31T08:00:11.625779",
     "status": "completed"
    },
    "tags": []
   },
   "outputs": [],
   "source": [
    "df_pivot.columns = [\"stamp_1\", \"stamp_2\"]\n",
    "df_pivot_diff = df_pivot.diff(axis=1)"
   ]
  },
  {
   "cell_type": "code",
   "execution_count": 7,
   "id": "fifth-motion",
   "metadata": {
    "execution": {
     "iopub.execute_input": "2021-08-31T08:00:11.727883Z",
     "iopub.status.busy": "2021-08-31T08:00:11.725409Z",
     "iopub.status.idle": "2021-08-31T08:00:13.719463Z",
     "shell.execute_reply": "2021-08-31T08:00:13.720835Z"
    },
    "papermill": {
     "duration": 2.02998,
     "end_time": "2021-08-31T08:00:13.721278",
     "exception": false,
     "start_time": "2021-08-31T08:00:11.691298",
     "status": "completed"
    },
    "tags": []
   },
   "outputs": [
    {
     "data": {
      "text/plain": [
       "<AxesSubplot:ylabel='PRODUCT'>"
      ]
     },
     "execution_count": 7,
     "metadata": {},
     "output_type": "execute_result"
    },
    {
     "data": {
      "image/png": "[encoded data removed]",
      "text/plain": [
       "<Figure size 432x288 with 1 Axes>"
      ]
     },
     "metadata": {
      "needs_background": "light"
     },
     "output_type": "display_data"
    }
   ],
   "source": [
    "df_pivot_diff.sort_values(\"stamp_2\", ascending = False)[\"stamp_2\"].head(10).plot.barh()"
   ]
  },
  {
   "cell_type": "code",
   "execution_count": null,
   "id": "extra-executive",
   "metadata": {
    "papermill": {
     "duration": 0.022235,
     "end_time": "2021-08-31T08:00:13.768128",
     "exception": false,
     "start_time": "2021-08-31T08:00:13.745893",
     "status": "completed"
    },
    "tags": []
   },
   "outputs": [],
   "source": []
  }
 ],
 "metadata": {
  "kernelspec": {
   "display_name": "Python 3",
   "language": "python",
   "name": "python3"
  },
  "language_info": {
   "codemirror_mode": {
    "name": "ipython",
    "version": 3
   },
   "file_extension": ".py",
   "mimetype": "text/x-python",
   "name": "python",
   "nbconvert_exporter": "python",
   "pygments_lexer": "ipython3",
   "version": "3.9.5"
  },
  "papermill": {
   "default_parameters": {},
   "duration": 9.293614,
   "end_time": "2021-08-31T08:00:15.052320",
   "environment_variables": {},
   "exception": null,
   "input_path": "eBay_Overview.ipynb",
   "output_path": "eBay_Overview.ipynb",
   "parameters": {},
   "start_time": "2021-08-31T08:00:05.758706",
   "version": "2.3.3"
  }
 },
 "nbformat": 4,
 "nbformat_minor": 5
}