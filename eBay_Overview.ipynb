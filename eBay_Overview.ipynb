{
 "cells": [
  {
   "cell_type": "code",
   "execution_count": 1,
   "id": "reverse-picking",
   "metadata": {
    "execution": {
     "iopub.execute_input": "2021-10-29T03:30:07.540024Z",
     "iopub.status.busy": "2021-10-29T03:30:07.538066Z",
     "iopub.status.idle": "2021-10-29T03:30:08.345777Z",
     "shell.execute_reply": "2021-10-29T03:30:08.347046Z"
    },
    "papermill": {
     "duration": 0.858135,
     "end_time": "2021-10-29T03:30:08.347668",
     "exception": false,
     "start_time": "2021-10-29T03:30:07.489533",
     "status": "completed"
    },
    "tags": []
   },
   "outputs": [],
   "source": [
    "import pandas as pd\n",
    "import sqlite3"
   ]
  },
  {
   "cell_type": "code",
   "execution_count": 2,
   "id": "innovative-syndrome",
   "metadata": {
    "execution": {
     "iopub.execute_input": "2021-10-29T03:30:08.401369Z",
     "iopub.status.busy": "2021-10-29T03:30:08.398934Z",
     "iopub.status.idle": "2021-10-29T03:30:09.066733Z",
     "shell.execute_reply": "2021-10-29T03:30:09.067950Z"
    },
    "papermill": {
     "duration": 0.697787,
     "end_time": "2021-10-29T03:30:09.068339",
     "exception": false,
     "start_time": "2021-10-29T03:30:08.370552",
     "status": "completed"
    },
    "tags": []
   },
   "outputs": [],
   "source": [
    "timestamps = pd.read_sql(\"select distinct record_time from EBAY_TOP_BERLIN order by record_time desc limit 2\", sqlite3.connect(\"UsedObjects.db\"))"
   ]
  },
  {
   "cell_type": "code",
   "execution_count": 3,
   "id": "periodic-identification",
   "metadata": {
    "execution": {
     "iopub.execute_input": "2021-10-29T03:30:09.151770Z",
     "iopub.status.busy": "2021-10-29T03:30:09.149748Z",
     "iopub.status.idle": "2021-10-29T03:30:09.169581Z",
     "shell.execute_reply": "2021-10-29T03:30:09.170871Z"
    },
    "papermill": {
     "duration": 0.071796,
     "end_time": "2021-10-29T03:30:09.171280",
     "exception": false,
     "start_time": "2021-10-29T03:30:09.099484",
     "status": "completed"
    },
    "tags": []
   },
   "outputs": [
    {
     "data": {
      "text/html": [
       "<div>\n",
       "<style scoped>\n",
       "    .dataframe tbody tr th:only-of-type {\n",
       "        vertical-align: middle;\n",
       "    }\n",
       "\n",
       "    .dataframe tbody tr th {\n",
       "        vertical-align: top;\n",
       "    }\n",
       "\n",
       "    .dataframe thead th {\n",
       "        text-align: right;\n",
       "    }\n",
       "</style>\n",
       "<table border=\"1\" class=\"dataframe\">\n",
       "  <thead>\n",
       "    <tr style=\"text-align: right;\">\n",
       "      <th></th>\n",
       "      <th>RECORD_TIME</th>\n",
       "    </tr>\n",
       "  </thead>\n",
       "  <tbody>\n",
       "    <tr>\n",
       "      <th>0</th>\n",
       "      <td>2021-10-29 05:30</td>\n",
       "    </tr>\n",
       "    <tr>\n",
       "      <th>1</th>\n",
       "      <td>2021-10-29 05:00</td>\n",
       "    </tr>\n",
       "  </tbody>\n",
       "</table>\n",
       "</div>"
      ],
      "text/plain": [
       "        RECORD_TIME\n",
       "0  2021-10-29 05:30\n",
       "1  2021-10-29 05:00"
      ]
     },
     "execution_count": 3,
     "metadata": {},
     "output_type": "execute_result"
    }
   ],
   "source": [
    "timestamps"
   ]
  },
  {
   "cell_type": "code",
   "execution_count": 4,
   "id": "alternate-victory",
   "metadata": {
    "execution": {
     "iopub.execute_input": "2021-10-29T03:30:09.225267Z",
     "iopub.status.busy": "2021-10-29T03:30:09.222903Z",
     "iopub.status.idle": "2021-10-29T03:30:10.248438Z",
     "shell.execute_reply": "2021-10-29T03:30:10.249627Z"
    },
    "papermill": {
     "duration": 1.05598,
     "end_time": "2021-10-29T03:30:10.250033",
     "exception": false,
     "start_time": "2021-10-29T03:30:09.194053",
     "status": "completed"
    },
    "tags": []
   },
   "outputs": [],
   "source": [
    "df = pd.read_sql(\"select * from EBAY_TOP_BERLIN where record_time in (select distinct record_time from EBAY_TOP_BERLIN order by record_time desc limit 2)\", sqlite3.connect(\"UsedObjects.db\"))"
   ]
  },
  {
   "cell_type": "code",
   "execution_count": 5,
   "id": "popular-active",
   "metadata": {
    "execution": {
     "iopub.execute_input": "2021-10-29T03:30:10.322246Z",
     "iopub.status.busy": "2021-10-29T03:30:10.311649Z",
     "iopub.status.idle": "2021-10-29T03:30:10.338895Z",
     "shell.execute_reply": "2021-10-29T03:30:10.340105Z"
    },
    "papermill": {
     "duration": 0.067738,
     "end_time": "2021-10-29T03:30:10.340491",
     "exception": false,
     "start_time": "2021-10-29T03:30:10.272753",
     "status": "completed"
    },
    "tags": []
   },
   "outputs": [],
   "source": [
    "df_pivot = df.pivot_table(index=\"PRODUCT\", columns = \"RECORD_TIME\", values = \"LISTING_COUNT\")"
   ]
  },
  {
   "cell_type": "code",
   "execution_count": 6,
   "id": "union-huntington",
   "metadata": {
    "execution": {
     "iopub.execute_input": "2021-10-29T03:30:10.397470Z",
     "iopub.status.busy": "2021-10-29T03:30:10.395336Z",
     "iopub.status.idle": "2021-10-29T03:30:10.400421Z",
     "shell.execute_reply": "2021-10-29T03:30:10.401766Z"
    },
    "papermill": {
     "duration": 0.039886,
     "end_time": "2021-10-29T03:30:10.402177",
     "exception": false,
     "start_time": "2021-10-29T03:30:10.362291",
     "status": "completed"
    },
    "tags": []
   },
   "outputs": [],
   "source": [
    "df_pivot.columns = [\"stamp_1\", \"stamp_2\"]\n",
    "df_pivot_diff = df_pivot.diff(axis=1)"
   ]
  },
  {
   "cell_type": "code",
   "execution_count": 7,
   "id": "fifth-motion",
   "metadata": {
    "execution": {
     "iopub.execute_input": "2021-10-29T03:30:10.457157Z",
     "iopub.status.busy": "2021-10-29T03:30:10.454708Z",
     "iopub.status.idle": "2021-10-29T03:30:11.934412Z",
     "shell.execute_reply": "2021-10-29T03:30:11.935600Z"
    },
    "papermill": {
     "duration": 1.5125,
     "end_time": "2021-10-29T03:30:11.936026",
     "exception": false,
     "start_time": "2021-10-29T03:30:10.423526",
     "status": "completed"
    },
    "tags": []
   },
   "outputs": [
    {
     "data": {
      "text/plain": [
       "<AxesSubplot:ylabel='PRODUCT'>"
      ]
     },
     "execution_count": 7,
     "metadata": {},
     "output_type": "execute_result"
    },
    {
     "data": {
      "image/png": "[encoded data removed]",
      "text/plain": [
       "<Figure size 432x288 with 1 Axes>"
      ]
     },
     "metadata": {
      "needs_background": "light"
     },
     "output_type": "display_data"
    }
   ],
   "source": [
    "df_pivot_diff.sort_values(\"stamp_2\", ascending = False)[\"stamp_2\"].head(10).plot.barh()"
   ]
  },
  {
   "cell_type": "code",
   "execution_count": null,
   "id": "extra-executive",
   "metadata": {
    "papermill": {
     "duration": 0.02212,
     "end_time": "2021-10-29T03:30:11.983808",
     "exception": false,
     "start_time": "2021-10-29T03:30:11.961688",
     "status": "completed"
    },
    "tags": []
   },
   "outputs": [],
   "source": []
  }
 ],
 "metadata": {
  "kernelspec": {
   "display_name": "Python 3",
   "language": "python",
   "name": "python3"
  },
  "language_info": {
   "codemirror_mode": {
    "name": "ipython",
    "version": 3
   },
   "file_extension": ".py",
   "mimetype": "text/x-python",
   "name": "python",
   "nbconvert_exporter": "python",
   "pygments_lexer": "ipython3",
   "version": "3.9.5"
  },
  "papermill": {
   "default_parameters": {},
   "duration": 7.537671,
   "end_time": "2021-10-29T03:30:12.627427",
   "environment_variables": {},
   "exception": null,
   "input_path": "eBay_Overview.ipynb",
   "output_path": "eBay_Overview.ipynb",
   "parameters": {},
   "start_time": "2021-10-29T03:30:05.089756",
   "version": "2.3.3"
  }
 },
 "nbformat": 4,
 "nbformat_minor": 5
}