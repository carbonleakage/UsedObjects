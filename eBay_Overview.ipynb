{
 "cells": [
  {
   "cell_type": "code",
   "execution_count": 1,
   "id": "reverse-picking",
   "metadata": {
    "execution": {
     "iopub.execute_input": "2021-10-20T14:00:06.794676Z",
     "iopub.status.busy": "2021-10-20T14:00:06.792658Z",
     "iopub.status.idle": "2021-10-20T14:00:07.601526Z",
     "shell.execute_reply": "2021-10-20T14:00:07.602797Z"
    },
    "papermill": {
     "duration": 0.862206,
     "end_time": "2021-10-20T14:00:07.603420",
     "exception": false,
     "start_time": "2021-10-20T14:00:06.741214",
     "status": "completed"
    },
    "tags": []
   },
   "outputs": [],
   "source": [
    "import pandas as pd\n",
    "import sqlite3"
   ]
  },
  {
   "cell_type": "code",
   "execution_count": 2,
   "id": "innovative-syndrome",
   "metadata": {
    "execution": {
     "iopub.execute_input": "2021-10-20T14:00:07.656751Z",
     "iopub.status.busy": "2021-10-20T14:00:07.654379Z",
     "iopub.status.idle": "2021-10-20T14:00:08.247961Z",
     "shell.execute_reply": "2021-10-20T14:00:08.249239Z"
    },
    "papermill": {
     "duration": 0.62402,
     "end_time": "2021-10-20T14:00:08.249646",
     "exception": false,
     "start_time": "2021-10-20T14:00:07.625626",
     "status": "completed"
    },
    "tags": []
   },
   "outputs": [],
   "source": [
    "timestamps = pd.read_sql(\"select distinct record_time from EBAY_TOP_BERLIN order by record_time desc limit 2\", sqlite3.connect(\"UsedObjects.db\"))"
   ]
  },
  {
   "cell_type": "code",
   "execution_count": 3,
   "id": "periodic-identification",
   "metadata": {
    "execution": {
     "iopub.execute_input": "2021-10-20T14:00:08.324504Z",
     "iopub.status.busy": "2021-10-20T14:00:08.322478Z",
     "iopub.status.idle": "2021-10-20T14:00:08.343840Z",
     "shell.execute_reply": "2021-10-20T14:00:08.342438Z"
    },
    "papermill": {
     "duration": 0.068949,
     "end_time": "2021-10-20T14:00:08.344196",
     "exception": false,
     "start_time": "2021-10-20T14:00:08.275247",
     "status": "completed"
    },
    "tags": []
   },
   "outputs": [
    {
     "data": {
      "text/html": [
       "<div>\n",
       "<style scoped>\n",
       "    .dataframe tbody tr th:only-of-type {\n",
       "        vertical-align: middle;\n",
       "    }\n",
       "\n",
       "    .dataframe tbody tr th {\n",
       "        vertical-align: top;\n",
       "    }\n",
       "\n",
       "    .dataframe thead th {\n",
       "        text-align: right;\n",
       "    }\n",
       "</style>\n",
       "<table border=\"1\" class=\"dataframe\">\n",
       "  <thead>\n",
       "    <tr style=\"text-align: right;\">\n",
       "      <th></th>\n",
       "      <th>RECORD_TIME</th>\n",
       "    </tr>\n",
       "  </thead>\n",
       "  <tbody>\n",
       "    <tr>\n",
       "      <th>0</th>\n",
       "      <td>2021-10-20 16:00</td>\n",
       "    </tr>\n",
       "    <tr>\n",
       "      <th>1</th>\n",
       "      <td>2021-10-20 15:30</td>\n",
       "    </tr>\n",
       "  </tbody>\n",
       "</table>\n",
       "</div>"
      ],
      "text/plain": [
       "        RECORD_TIME\n",
       "0  2021-10-20 16:00\n",
       "1  2021-10-20 15:30"
      ]
     },
     "execution_count": 3,
     "metadata": {},
     "output_type": "execute_result"
    }
   ],
   "source": [
    "timestamps"
   ]
  },
  {
   "cell_type": "code",
   "execution_count": 4,
   "id": "alternate-victory",
   "metadata": {
    "execution": {
     "iopub.execute_input": "2021-10-20T14:00:08.395201Z",
     "iopub.status.busy": "2021-10-20T14:00:08.393379Z",
     "iopub.status.idle": "2021-10-20T14:00:09.259513Z",
     "shell.execute_reply": "2021-10-20T14:00:09.260895Z"
    },
    "papermill": {
     "duration": 0.896512,
     "end_time": "2021-10-20T14:00:09.261381",
     "exception": false,
     "start_time": "2021-10-20T14:00:08.364869",
     "status": "completed"
    },
    "tags": []
   },
   "outputs": [],
   "source": [
    "df = pd.read_sql(\"select * from EBAY_TOP_BERLIN where record_time in (select distinct record_time from EBAY_TOP_BERLIN order by record_time desc limit 2)\", sqlite3.connect(\"UsedObjects.db\"))"
   ]
  },
  {
   "cell_type": "code",
   "execution_count": 5,
   "id": "popular-active",
   "metadata": {
    "execution": {
     "iopub.execute_input": "2021-10-20T14:00:09.334580Z",
     "iopub.status.busy": "2021-10-20T14:00:09.322554Z",
     "iopub.status.idle": "2021-10-20T14:00:09.350276Z",
     "shell.execute_reply": "2021-10-20T14:00:09.351507Z"
    },
    "papermill": {
     "duration": 0.068296,
     "end_time": "2021-10-20T14:00:09.351908",
     "exception": false,
     "start_time": "2021-10-20T14:00:09.283612",
     "status": "completed"
    },
    "tags": []
   },
   "outputs": [],
   "source": [
    "df_pivot = df.pivot_table(index=\"PRODUCT\", columns = \"RECORD_TIME\", values = \"LISTING_COUNT\")"
   ]
  },
  {
   "cell_type": "code",
   "execution_count": 6,
   "id": "union-huntington",
   "metadata": {
    "execution": {
     "iopub.execute_input": "2021-10-20T14:00:09.412001Z",
     "iopub.status.busy": "2021-10-20T14:00:09.409561Z",
     "iopub.status.idle": "2021-10-20T14:00:09.415356Z",
     "shell.execute_reply": "2021-10-20T14:00:09.416648Z"
    },
    "papermill": {
     "duration": 0.042552,
     "end_time": "2021-10-20T14:00:09.417116",
     "exception": false,
     "start_time": "2021-10-20T14:00:09.374564",
     "status": "completed"
    },
    "tags": []
   },
   "outputs": [],
   "source": [
    "df_pivot.columns = [\"stamp_1\", \"stamp_2\"]\n",
    "df_pivot_diff = df_pivot.diff(axis=1)"
   ]
  },
  {
   "cell_type": "code",
   "execution_count": 7,
   "id": "fifth-motion",
   "metadata": {
    "execution": {
     "iopub.execute_input": "2021-10-20T14:00:09.472221Z",
     "iopub.status.busy": "2021-10-20T14:00:09.469894Z",
     "iopub.status.idle": "2021-10-20T14:00:10.978630Z",
     "shell.execute_reply": "2021-10-20T14:00:10.979919Z"
    },
    "papermill": {
     "duration": 1.542377,
     "end_time": "2021-10-20T14:00:10.980341",
     "exception": false,
     "start_time": "2021-10-20T14:00:09.437964",
     "status": "completed"
    },
    "tags": []
   },
   "outputs": [
    {
     "data": {
      "text/plain": [
       "<AxesSubplot:ylabel='PRODUCT'>"
      ]
     },
     "execution_count": 7,
     "metadata": {},
     "output_type": "execute_result"
    },
    {
     "data": {
      "image/png": "[encoded data removed]",
      "text/plain": [
       "<Figure size 432x288 with 1 Axes>"
      ]
     },
     "metadata": {
      "needs_background": "light"
     },
     "output_type": "display_data"
    }
   ],
   "source": [
    "df_pivot_diff.sort_values(\"stamp_2\", ascending = False)[\"stamp_2\"].head(10).plot.barh()"
   ]
  },
  {
   "cell_type": "code",
   "execution_count": null,
   "id": "extra-executive",
   "metadata": {
    "papermill": {
     "duration": 0.022447,
     "end_time": "2021-10-20T14:00:11.026828",
     "exception": false,
     "start_time": "2021-10-20T14:00:11.004381",
     "status": "completed"
    },
    "tags": []
   },
   "outputs": [],
   "source": []
  }
 ],
 "metadata": {
  "kernelspec": {
   "display_name": "Python 3",
   "language": "python",
   "name": "python3"
  },
  "language_info": {
   "codemirror_mode": {
    "name": "ipython",
    "version": 3
   },
   "file_extension": ".py",
   "mimetype": "text/x-python",
   "name": "python",
   "nbconvert_exporter": "python",
   "pygments_lexer": "ipython3",
   "version": "3.9.5"
  },
  "papermill": {
   "default_parameters": {},
   "duration": 7.348987,
   "end_time": "2021-10-20T14:00:11.667610",
   "environment_variables": {},
   "exception": null,
   "input_path": "eBay_Overview.ipynb",
   "output_path": "eBay_Overview.ipynb",
   "parameters": {},
   "start_time": "2021-10-20T14:00:04.318623",
   "version": "2.3.3"
  }
 },
 "nbformat": 4,
 "nbformat_minor": 5
}