{
 "cells": [
  {
   "cell_type": "code",
   "execution_count": 1,
   "id": "reverse-picking",
   "metadata": {
    "execution": {
     "iopub.execute_input": "2021-11-30T21:30:07.457197Z",
     "iopub.status.busy": "2021-11-30T21:30:07.454805Z",
     "iopub.status.idle": "2021-11-30T21:30:08.402103Z",
     "shell.execute_reply": "2021-11-30T21:30:08.400095Z"
    },
    "papermill": {
     "duration": 0.996649,
     "end_time": "2021-11-30T21:30:08.402601",
     "exception": false,
     "start_time": "2021-11-30T21:30:07.405952",
     "status": "completed"
    },
    "tags": []
   },
   "outputs": [],
   "source": [
    "import pandas as pd\n",
    "import sqlite3"
   ]
  },
  {
   "cell_type": "code",
   "execution_count": 2,
   "id": "innovative-syndrome",
   "metadata": {
    "execution": {
     "iopub.execute_input": "2021-11-30T21:30:08.473277Z",
     "iopub.status.busy": "2021-11-30T21:30:08.470692Z",
     "iopub.status.idle": "2021-11-30T21:30:09.429822Z",
     "shell.execute_reply": "2021-11-30T21:30:09.431088Z"
    },
    "papermill": {
     "duration": 1.006215,
     "end_time": "2021-11-30T21:30:09.431492",
     "exception": false,
     "start_time": "2021-11-30T21:30:08.425277",
     "status": "completed"
    },
    "tags": []
   },
   "outputs": [],
   "source": [
    "timestamps = pd.read_sql(\"select distinct record_time from EBAY_TOP_BERLIN order by record_time desc limit 2\", sqlite3.connect(\"UsedObjects.db\"))"
   ]
  },
  {
   "cell_type": "code",
   "execution_count": 3,
   "id": "periodic-identification",
   "metadata": {
    "execution": {
     "iopub.execute_input": "2021-11-30T21:30:09.496065Z",
     "iopub.status.busy": "2021-11-30T21:30:09.494049Z",
     "iopub.status.idle": "2021-11-30T21:30:09.514223Z",
     "shell.execute_reply": "2021-11-30T21:30:09.515533Z"
    },
    "papermill": {
     "duration": 0.064857,
     "end_time": "2021-11-30T21:30:09.515952",
     "exception": false,
     "start_time": "2021-11-30T21:30:09.451095",
     "status": "completed"
    },
    "tags": []
   },
   "outputs": [
    {
     "data": {
      "text/html": [
       "<div>\n",
       "<style scoped>\n",
       "    .dataframe tbody tr th:only-of-type {\n",
       "        vertical-align: middle;\n",
       "    }\n",
       "\n",
       "    .dataframe tbody tr th {\n",
       "        vertical-align: top;\n",
       "    }\n",
       "\n",
       "    .dataframe thead th {\n",
       "        text-align: right;\n",
       "    }\n",
       "</style>\n",
       "<table border=\"1\" class=\"dataframe\">\n",
       "  <thead>\n",
       "    <tr style=\"text-align: right;\">\n",
       "      <th></th>\n",
       "      <th>RECORD_TIME</th>\n",
       "    </tr>\n",
       "  </thead>\n",
       "  <tbody>\n",
       "    <tr>\n",
       "      <th>0</th>\n",
       "      <td>2021-11-30 22:30</td>\n",
       "    </tr>\n",
       "    <tr>\n",
       "      <th>1</th>\n",
       "      <td>2021-11-30 22:00</td>\n",
       "    </tr>\n",
       "  </tbody>\n",
       "</table>\n",
       "</div>"
      ],
      "text/plain": [
       "        RECORD_TIME\n",
       "0  2021-11-30 22:30\n",
       "1  2021-11-30 22:00"
      ]
     },
     "execution_count": 3,
     "metadata": {},
     "output_type": "execute_result"
    }
   ],
   "source": [
    "timestamps"
   ]
  },
  {
   "cell_type": "code",
   "execution_count": 4,
   "id": "alternate-victory",
   "metadata": {
    "execution": {
     "iopub.execute_input": "2021-11-30T21:30:09.569974Z",
     "iopub.status.busy": "2021-11-30T21:30:09.567808Z",
     "iopub.status.idle": "2021-11-30T21:30:10.973547Z",
     "shell.execute_reply": "2021-11-30T21:30:10.975043Z"
    },
    "papermill": {
     "duration": 1.438178,
     "end_time": "2021-11-30T21:30:10.975552",
     "exception": false,
     "start_time": "2021-11-30T21:30:09.537374",
     "status": "completed"
    },
    "tags": []
   },
   "outputs": [],
   "source": [
    "df = pd.read_sql(\"select * from EBAY_TOP_BERLIN where record_time in (select distinct record_time from EBAY_TOP_BERLIN order by record_time desc limit 2)\", sqlite3.connect(\"UsedObjects.db\"))"
   ]
  },
  {
   "cell_type": "code",
   "execution_count": 5,
   "id": "popular-active",
   "metadata": {
    "execution": {
     "iopub.execute_input": "2021-11-30T21:30:11.053246Z",
     "iopub.status.busy": "2021-11-30T21:30:11.040154Z",
     "iopub.status.idle": "2021-11-30T21:30:11.070898Z",
     "shell.execute_reply": "2021-11-30T21:30:11.072268Z"
    },
    "papermill": {
     "duration": 0.074597,
     "end_time": "2021-11-30T21:30:11.072792",
     "exception": false,
     "start_time": "2021-11-30T21:30:10.998195",
     "status": "completed"
    },
    "tags": []
   },
   "outputs": [],
   "source": [
    "df_pivot = df.pivot_table(index=\"PRODUCT\", columns = \"RECORD_TIME\", values = \"LISTING_COUNT\")"
   ]
  },
  {
   "cell_type": "code",
   "execution_count": 6,
   "id": "union-huntington",
   "metadata": {
    "execution": {
     "iopub.execute_input": "2021-11-30T21:30:11.169980Z",
     "iopub.status.busy": "2021-11-30T21:30:11.167404Z",
     "iopub.status.idle": "2021-11-30T21:30:11.174733Z",
     "shell.execute_reply": "2021-11-30T21:30:11.176916Z"
    },
    "papermill": {
     "duration": 0.083958,
     "end_time": "2021-11-30T21:30:11.177439",
     "exception": false,
     "start_time": "2021-11-30T21:30:11.093481",
     "status": "completed"
    },
    "tags": []
   },
   "outputs": [],
   "source": [
    "df_pivot.columns = [\"stamp_1\", \"stamp_2\"]\n",
    "df_pivot_diff = df_pivot.diff(axis=1)"
   ]
  },
  {
   "cell_type": "code",
   "execution_count": 7,
   "id": "fifth-motion",
   "metadata": {
    "execution": {
     "iopub.execute_input": "2021-11-30T21:30:11.236086Z",
     "iopub.status.busy": "2021-11-30T21:30:11.233642Z",
     "iopub.status.idle": "2021-11-30T21:30:13.313390Z",
     "shell.execute_reply": "2021-11-30T21:30:13.314811Z"
    },
    "papermill": {
     "duration": 2.115413,
     "end_time": "2021-11-30T21:30:13.315256",
     "exception": false,
     "start_time": "2021-11-30T21:30:11.199843",
     "status": "completed"
    },
    "tags": []
   },
   "outputs": [
    {
     "data": {
      "text/plain": [
       "<AxesSubplot:ylabel='PRODUCT'>"
      ]
     },
     "execution_count": 7,
     "metadata": {},
     "output_type": "execute_result"
    },
    {
     "data": {
      "image/png": "[encoded data removed]",
      "text/plain": [
       "<Figure size 432x288 with 1 Axes>"
      ]
     },
     "metadata": {
      "needs_background": "light"
     },
     "output_type": "display_data"
    }
   ],
   "source": [
    "df_pivot_diff.sort_values(\"stamp_2\", ascending = False)[\"stamp_2\"].head(10).plot.barh()"
   ]
  },
  {
   "cell_type": "code",
   "execution_count": null,
   "id": "extra-executive",
   "metadata": {
    "papermill": {
     "duration": 0.089266,
     "end_time": "2021-11-30T21:30:13.429226",
     "exception": false,
     "start_time": "2021-11-30T21:30:13.339960",
     "status": "completed"
    },
    "tags": []
   },
   "outputs": [],
   "source": []
  }
 ],
 "metadata": {
  "kernelspec": {
   "display_name": "Python 3",
   "language": "python",
   "name": "python3"
  },
  "language_info": {
   "codemirror_mode": {
    "name": "ipython",
    "version": 3
   },
   "file_extension": ".py",
   "mimetype": "text/x-python",
   "name": "python",
   "nbconvert_exporter": "python",
   "pygments_lexer": "ipython3",
   "version": "3.9.5"
  },
  "papermill": {
   "default_parameters": {},
   "duration": 9.92764,
   "end_time": "2021-11-30T21:30:14.600584",
   "environment_variables": {},
   "exception": null,
   "input_path": "eBay_Overview.ipynb",
   "output_path": "eBay_Overview.ipynb",
   "parameters": {},
   "start_time": "2021-11-30T21:30:04.672944",
   "version": "2.3.3"
  }
 },
 "nbformat": 4,
 "nbformat_minor": 5
}