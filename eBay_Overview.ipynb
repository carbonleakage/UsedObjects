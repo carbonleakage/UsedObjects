{
 "cells": [
  {
   "cell_type": "code",
   "execution_count": 1,
   "id": "reverse-picking",
   "metadata": {
    "execution": {
     "iopub.execute_input": "2021-09-25T10:30:06.832430Z",
     "iopub.status.busy": "2021-09-25T10:30:06.830423Z",
     "iopub.status.idle": "2021-09-25T10:30:07.634049Z",
     "shell.execute_reply": "2021-09-25T10:30:07.635465Z"
    },
    "papermill": {
     "duration": 0.856367,
     "end_time": "2021-09-25T10:30:07.636123",
     "exception": false,
     "start_time": "2021-09-25T10:30:06.779756",
     "status": "completed"
    },
    "tags": []
   },
   "outputs": [],
   "source": [
    "import pandas as pd\n",
    "import sqlite3"
   ]
  },
  {
   "cell_type": "code",
   "execution_count": 2,
   "id": "innovative-syndrome",
   "metadata": {
    "execution": {
     "iopub.execute_input": "2021-09-25T10:30:07.687742Z",
     "iopub.status.busy": "2021-09-25T10:30:07.685707Z",
     "iopub.status.idle": "2021-09-25T10:30:08.069073Z",
     "shell.execute_reply": "2021-09-25T10:30:08.070291Z"
    },
    "papermill": {
     "duration": 0.413354,
     "end_time": "2021-09-25T10:30:08.070687",
     "exception": false,
     "start_time": "2021-09-25T10:30:07.657333",
     "status": "completed"
    },
    "tags": []
   },
   "outputs": [],
   "source": [
    "timestamps = pd.read_sql(\"select distinct record_time from EBAY_TOP_BERLIN order by record_time desc limit 2\", sqlite3.connect(\"UsedObjects.db\"))"
   ]
  },
  {
   "cell_type": "code",
   "execution_count": 3,
   "id": "periodic-identification",
   "metadata": {
    "execution": {
     "iopub.execute_input": "2021-09-25T10:30:08.136302Z",
     "iopub.status.busy": "2021-09-25T10:30:08.134093Z",
     "iopub.status.idle": "2021-09-25T10:30:08.154310Z",
     "shell.execute_reply": "2021-09-25T10:30:08.155513Z"
    },
    "papermill": {
     "duration": 0.064188,
     "end_time": "2021-09-25T10:30:08.155931",
     "exception": false,
     "start_time": "2021-09-25T10:30:08.091743",
     "status": "completed"
    },
    "tags": []
   },
   "outputs": [
    {
     "data": {
      "text/html": [
       "<div>\n",
       "<style scoped>\n",
       "    .dataframe tbody tr th:only-of-type {\n",
       "        vertical-align: middle;\n",
       "    }\n",
       "\n",
       "    .dataframe tbody tr th {\n",
       "        vertical-align: top;\n",
       "    }\n",
       "\n",
       "    .dataframe thead th {\n",
       "        text-align: right;\n",
       "    }\n",
       "</style>\n",
       "<table border=\"1\" class=\"dataframe\">\n",
       "  <thead>\n",
       "    <tr style=\"text-align: right;\">\n",
       "      <th></th>\n",
       "      <th>RECORD_TIME</th>\n",
       "    </tr>\n",
       "  </thead>\n",
       "  <tbody>\n",
       "    <tr>\n",
       "      <th>0</th>\n",
       "      <td>2021-09-25 12:30</td>\n",
       "    </tr>\n",
       "    <tr>\n",
       "      <th>1</th>\n",
       "      <td>2021-09-25 12:00</td>\n",
       "    </tr>\n",
       "  </tbody>\n",
       "</table>\n",
       "</div>"
      ],
      "text/plain": [
       "        RECORD_TIME\n",
       "0  2021-09-25 12:30\n",
       "1  2021-09-25 12:00"
      ]
     },
     "execution_count": 3,
     "metadata": {},
     "output_type": "execute_result"
    }
   ],
   "source": [
    "timestamps"
   ]
  },
  {
   "cell_type": "code",
   "execution_count": 4,
   "id": "alternate-victory",
   "metadata": {
    "execution": {
     "iopub.execute_input": "2021-09-25T10:30:08.209341Z",
     "iopub.status.busy": "2021-09-25T10:30:08.207180Z",
     "iopub.status.idle": "2021-09-25T10:30:08.750220Z",
     "shell.execute_reply": "2021-09-25T10:30:08.751512Z"
    },
    "papermill": {
     "duration": 0.573349,
     "end_time": "2021-09-25T10:30:08.751914",
     "exception": false,
     "start_time": "2021-09-25T10:30:08.178565",
     "status": "completed"
    },
    "tags": []
   },
   "outputs": [],
   "source": [
    "df = pd.read_sql(\"select * from EBAY_TOP_BERLIN where record_time in (select distinct record_time from EBAY_TOP_BERLIN order by record_time desc limit 2)\", sqlite3.connect(\"UsedObjects.db\"))"
   ]
  },
  {
   "cell_type": "code",
   "execution_count": 5,
   "id": "popular-active",
   "metadata": {
    "execution": {
     "iopub.execute_input": "2021-09-25T10:30:08.823103Z",
     "iopub.status.busy": "2021-09-25T10:30:08.811108Z",
     "iopub.status.idle": "2021-09-25T10:30:08.839072Z",
     "shell.execute_reply": "2021-09-25T10:30:08.840391Z"
    },
    "papermill": {
     "duration": 0.068687,
     "end_time": "2021-09-25T10:30:08.840800",
     "exception": false,
     "start_time": "2021-09-25T10:30:08.772113",
     "status": "completed"
    },
    "tags": []
   },
   "outputs": [],
   "source": [
    "df_pivot = df.pivot_table(index=\"PRODUCT\", columns = \"RECORD_TIME\", values = \"LISTING_COUNT\")"
   ]
  },
  {
   "cell_type": "code",
   "execution_count": 6,
   "id": "union-huntington",
   "metadata": {
    "execution": {
     "iopub.execute_input": "2021-09-25T10:30:08.899507Z",
     "iopub.status.busy": "2021-09-25T10:30:08.897053Z",
     "iopub.status.idle": "2021-09-25T10:30:08.902921Z",
     "shell.execute_reply": "2021-09-25T10:30:08.904243Z"
    },
    "papermill": {
     "duration": 0.041617,
     "end_time": "2021-09-25T10:30:08.904658",
     "exception": false,
     "start_time": "2021-09-25T10:30:08.863041",
     "status": "completed"
    },
    "tags": []
   },
   "outputs": [],
   "source": [
    "df_pivot.columns = [\"stamp_1\", \"stamp_2\"]\n",
    "df_pivot_diff = df_pivot.diff(axis=1)"
   ]
  },
  {
   "cell_type": "code",
   "execution_count": 7,
   "id": "fifth-motion",
   "metadata": {
    "execution": {
     "iopub.execute_input": "2021-09-25T10:30:08.958101Z",
     "iopub.status.busy": "2021-09-25T10:30:08.955821Z",
     "iopub.status.idle": "2021-09-25T10:30:10.412068Z",
     "shell.execute_reply": "2021-09-25T10:30:10.413254Z"
    },
    "papermill": {
     "duration": 1.48921,
     "end_time": "2021-09-25T10:30:10.413681",
     "exception": false,
     "start_time": "2021-09-25T10:30:08.924471",
     "status": "completed"
    },
    "tags": []
   },
   "outputs": [
    {
     "data": {
      "text/plain": [
       "<AxesSubplot:ylabel='PRODUCT'>"
      ]
     },
     "execution_count": 7,
     "metadata": {},
     "output_type": "execute_result"
    },
    {
     "data": {
      "image/png": "[encoded data removed]",
      "text/plain": [
       "<Figure size 432x288 with 1 Axes>"
      ]
     },
     "metadata": {
      "needs_background": "light"
     },
     "output_type": "display_data"
    }
   ],
   "source": [
    "df_pivot_diff.sort_values(\"stamp_2\", ascending = False)[\"stamp_2\"].head(10).plot.barh()"
   ]
  },
  {
   "cell_type": "code",
   "execution_count": null,
   "id": "extra-executive",
   "metadata": {
    "papermill": {
     "duration": 0.022051,
     "end_time": "2021-09-25T10:30:10.461778",
     "exception": false,
     "start_time": "2021-09-25T10:30:10.439727",
     "status": "completed"
    },
    "tags": []
   },
   "outputs": [],
   "source": []
  }
 ],
 "metadata": {
  "kernelspec": {
   "display_name": "Python 3",
   "language": "python",
   "name": "python3"
  },
  "language_info": {
   "codemirror_mode": {
    "name": "ipython",
    "version": 3
   },
   "file_extension": ".py",
   "mimetype": "text/x-python",
   "name": "python",
   "nbconvert_exporter": "python",
   "pygments_lexer": "ipython3",
   "version": "3.9.5"
  },
  "papermill": {
   "default_parameters": {},
   "duration": 6.723303,
   "end_time": "2021-09-25T10:30:11.104788",
   "environment_variables": {},
   "exception": null,
   "input_path": "eBay_Overview.ipynb",
   "output_path": "eBay_Overview.ipynb",
   "parameters": {},
   "start_time": "2021-09-25T10:30:04.381485",
   "version": "2.3.3"
  }
 },
 "nbformat": 4,
 "nbformat_minor": 5
}