{
 "cells": [
  {
   "cell_type": "code",
   "execution_count": 1,
   "id": "reverse-picking",
   "metadata": {
    "execution": {
     "iopub.execute_input": "2021-11-25T07:00:08.566427Z",
     "iopub.status.busy": "2021-11-25T07:00:08.563921Z",
     "iopub.status.idle": "2021-11-25T07:00:09.529627Z",
     "shell.execute_reply": "2021-11-25T07:00:09.531175Z"
    },
    "papermill": {
     "duration": 1.014897,
     "end_time": "2021-11-25T07:00:09.531914",
     "exception": false,
     "start_time": "2021-11-25T07:00:08.517017",
     "status": "completed"
    },
    "tags": []
   },
   "outputs": [],
   "source": [
    "import pandas as pd\n",
    "import sqlite3"
   ]
  },
  {
   "cell_type": "code",
   "execution_count": 2,
   "id": "innovative-syndrome",
   "metadata": {
    "execution": {
     "iopub.execute_input": "2021-11-25T07:00:09.597887Z",
     "iopub.status.busy": "2021-11-25T07:00:09.594929Z",
     "iopub.status.idle": "2021-11-25T07:00:10.500214Z",
     "shell.execute_reply": "2021-11-25T07:00:10.501499Z"
    },
    "papermill": {
     "duration": 0.938907,
     "end_time": "2021-11-25T07:00:10.501949",
     "exception": false,
     "start_time": "2021-11-25T07:00:09.563042",
     "status": "completed"
    },
    "tags": []
   },
   "outputs": [],
   "source": [
    "timestamps = pd.read_sql(\"select distinct record_time from EBAY_TOP_BERLIN order by record_time desc limit 2\", sqlite3.connect(\"UsedObjects.db\"))"
   ]
  },
  {
   "cell_type": "code",
   "execution_count": 3,
   "id": "periodic-identification",
   "metadata": {
    "execution": {
     "iopub.execute_input": "2021-11-25T07:00:10.569316Z",
     "iopub.status.busy": "2021-11-25T07:00:10.566939Z",
     "iopub.status.idle": "2021-11-25T07:00:10.589505Z",
     "shell.execute_reply": "2021-11-25T07:00:10.590911Z"
    },
    "papermill": {
     "duration": 0.0688,
     "end_time": "2021-11-25T07:00:10.591390",
     "exception": false,
     "start_time": "2021-11-25T07:00:10.522590",
     "status": "completed"
    },
    "tags": []
   },
   "outputs": [
    {
     "data": {
      "text/html": [
       "<div>\n",
       "<style scoped>\n",
       "    .dataframe tbody tr th:only-of-type {\n",
       "        vertical-align: middle;\n",
       "    }\n",
       "\n",
       "    .dataframe tbody tr th {\n",
       "        vertical-align: top;\n",
       "    }\n",
       "\n",
       "    .dataframe thead th {\n",
       "        text-align: right;\n",
       "    }\n",
       "</style>\n",
       "<table border=\"1\" class=\"dataframe\">\n",
       "  <thead>\n",
       "    <tr style=\"text-align: right;\">\n",
       "      <th></th>\n",
       "      <th>RECORD_TIME</th>\n",
       "    </tr>\n",
       "  </thead>\n",
       "  <tbody>\n",
       "    <tr>\n",
       "      <th>0</th>\n",
       "      <td>2021-11-25 08:00</td>\n",
       "    </tr>\n",
       "    <tr>\n",
       "      <th>1</th>\n",
       "      <td>2021-11-25 07:30</td>\n",
       "    </tr>\n",
       "  </tbody>\n",
       "</table>\n",
       "</div>"
      ],
      "text/plain": [
       "        RECORD_TIME\n",
       "0  2021-11-25 08:00\n",
       "1  2021-11-25 07:30"
      ]
     },
     "execution_count": 3,
     "metadata": {},
     "output_type": "execute_result"
    }
   ],
   "source": [
    "timestamps"
   ]
  },
  {
   "cell_type": "code",
   "execution_count": 4,
   "id": "alternate-victory",
   "metadata": {
    "execution": {
     "iopub.execute_input": "2021-11-25T07:00:10.647685Z",
     "iopub.status.busy": "2021-11-25T07:00:10.645446Z",
     "iopub.status.idle": "2021-11-25T07:00:11.975627Z",
     "shell.execute_reply": "2021-11-25T07:00:11.978296Z"
    },
    "papermill": {
     "duration": 1.366996,
     "end_time": "2021-11-25T07:00:11.978857",
     "exception": false,
     "start_time": "2021-11-25T07:00:10.611861",
     "status": "completed"
    },
    "tags": []
   },
   "outputs": [],
   "source": [
    "df = pd.read_sql(\"select * from EBAY_TOP_BERLIN where record_time in (select distinct record_time from EBAY_TOP_BERLIN order by record_time desc limit 2)\", sqlite3.connect(\"UsedObjects.db\"))"
   ]
  },
  {
   "cell_type": "code",
   "execution_count": 5,
   "id": "popular-active",
   "metadata": {
    "execution": {
     "iopub.execute_input": "2021-11-25T07:00:12.057743Z",
     "iopub.status.busy": "2021-11-25T07:00:12.044204Z",
     "iopub.status.idle": "2021-11-25T07:00:12.076057Z",
     "shell.execute_reply": "2021-11-25T07:00:12.077536Z"
    },
    "papermill": {
     "duration": 0.075197,
     "end_time": "2021-11-25T07:00:12.078009",
     "exception": false,
     "start_time": "2021-11-25T07:00:12.002812",
     "status": "completed"
    },
    "tags": []
   },
   "outputs": [],
   "source": [
    "df_pivot = df.pivot_table(index=\"PRODUCT\", columns = \"RECORD_TIME\", values = \"LISTING_COUNT\")"
   ]
  },
  {
   "cell_type": "code",
   "execution_count": 6,
   "id": "union-huntington",
   "metadata": {
    "execution": {
     "iopub.execute_input": "2021-11-25T07:00:12.137088Z",
     "iopub.status.busy": "2021-11-25T07:00:12.134853Z",
     "iopub.status.idle": "2021-11-25T07:00:12.139873Z",
     "shell.execute_reply": "2021-11-25T07:00:12.141684Z"
    },
    "papermill": {
     "duration": 0.043754,
     "end_time": "2021-11-25T07:00:12.142123",
     "exception": false,
     "start_time": "2021-11-25T07:00:12.098369",
     "status": "completed"
    },
    "tags": []
   },
   "outputs": [],
   "source": [
    "df_pivot.columns = [\"stamp_1\", \"stamp_2\"]\n",
    "df_pivot_diff = df_pivot.diff(axis=1)"
   ]
  },
  {
   "cell_type": "code",
   "execution_count": 7,
   "id": "fifth-motion",
   "metadata": {
    "execution": {
     "iopub.execute_input": "2021-11-25T07:00:12.203310Z",
     "iopub.status.busy": "2021-11-25T07:00:12.200657Z",
     "iopub.status.idle": "2021-11-25T07:00:14.221909Z",
     "shell.execute_reply": "2021-11-25T07:00:14.223394Z"
    },
    "papermill": {
     "duration": 2.059757,
     "end_time": "2021-11-25T07:00:14.223912",
     "exception": false,
     "start_time": "2021-11-25T07:00:12.164155",
     "status": "completed"
    },
    "tags": []
   },
   "outputs": [
    {
     "data": {
      "text/plain": [
       "<AxesSubplot:ylabel='PRODUCT'>"
      ]
     },
     "execution_count": 7,
     "metadata": {},
     "output_type": "execute_result"
    },
    {
     "data": {
      "image/png": "[encoded data removed]",
      "text/plain": [
       "<Figure size 432x288 with 1 Axes>"
      ]
     },
     "metadata": {
      "needs_background": "light"
     },
     "output_type": "display_data"
    }
   ],
   "source": [
    "df_pivot_diff.sort_values(\"stamp_2\", ascending = False)[\"stamp_2\"].head(10).plot.barh()"
   ]
  },
  {
   "cell_type": "code",
   "execution_count": null,
   "id": "extra-executive",
   "metadata": {
    "papermill": {
     "duration": 0.022353,
     "end_time": "2021-11-25T07:00:14.272573",
     "exception": false,
     "start_time": "2021-11-25T07:00:14.250220",
     "status": "completed"
    },
    "tags": []
   },
   "outputs": [],
   "source": []
  }
 ],
 "metadata": {
  "kernelspec": {
   "display_name": "Python 3",
   "language": "python",
   "name": "python3"
  },
  "language_info": {
   "codemirror_mode": {
    "name": "ipython",
    "version": 3
   },
   "file_extension": ".py",
   "mimetype": "text/x-python",
   "name": "python",
   "nbconvert_exporter": "python",
   "pygments_lexer": "ipython3",
   "version": "3.9.5"
  },
  "papermill": {
   "default_parameters": {},
   "duration": 9.944487,
   "end_time": "2021-11-25T07:00:15.707809",
   "environment_variables": {},
   "exception": null,
   "input_path": "eBay_Overview.ipynb",
   "output_path": "eBay_Overview.ipynb",
   "parameters": {},
   "start_time": "2021-11-25T07:00:05.763322",
   "version": "2.3.3"
  }
 },
 "nbformat": 4,
 "nbformat_minor": 5
}