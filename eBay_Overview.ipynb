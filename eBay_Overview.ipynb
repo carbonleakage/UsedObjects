{
 "cells": [
  {
   "cell_type": "code",
   "execution_count": 1,
   "id": "reverse-picking",
   "metadata": {
    "execution": {
     "iopub.execute_input": "2021-10-20T06:30:06.654808Z",
     "iopub.status.busy": "2021-10-20T06:30:06.652863Z",
     "iopub.status.idle": "2021-10-20T06:30:07.461470Z",
     "shell.execute_reply": "2021-10-20T06:30:07.462757Z"
    },
    "papermill": {
     "duration": 0.860878,
     "end_time": "2021-10-20T06:30:07.463371",
     "exception": false,
     "start_time": "2021-10-20T06:30:06.602493",
     "status": "completed"
    },
    "tags": []
   },
   "outputs": [],
   "source": [
    "import pandas as pd\n",
    "import sqlite3"
   ]
  },
  {
   "cell_type": "code",
   "execution_count": 2,
   "id": "innovative-syndrome",
   "metadata": {
    "execution": {
     "iopub.execute_input": "2021-10-20T06:30:07.517279Z",
     "iopub.status.busy": "2021-10-20T06:30:07.514811Z",
     "iopub.status.idle": "2021-10-20T06:30:08.109418Z",
     "shell.execute_reply": "2021-10-20T06:30:08.108087Z"
    },
    "papermill": {
     "duration": 0.623261,
     "end_time": "2021-10-20T06:30:08.109779",
     "exception": false,
     "start_time": "2021-10-20T06:30:07.486518",
     "status": "completed"
    },
    "tags": []
   },
   "outputs": [],
   "source": [
    "timestamps = pd.read_sql(\"select distinct record_time from EBAY_TOP_BERLIN order by record_time desc limit 2\", sqlite3.connect(\"UsedObjects.db\"))"
   ]
  },
  {
   "cell_type": "code",
   "execution_count": 3,
   "id": "periodic-identification",
   "metadata": {
    "execution": {
     "iopub.execute_input": "2021-10-20T06:30:08.190734Z",
     "iopub.status.busy": "2021-10-20T06:30:08.188591Z",
     "iopub.status.idle": "2021-10-20T06:30:08.209440Z",
     "shell.execute_reply": "2021-10-20T06:30:08.211003Z"
    },
    "papermill": {
     "duration": 0.070956,
     "end_time": "2021-10-20T06:30:08.211467",
     "exception": false,
     "start_time": "2021-10-20T06:30:08.140511",
     "status": "completed"
    },
    "tags": []
   },
   "outputs": [
    {
     "data": {
      "text/html": [
       "<div>\n",
       "<style scoped>\n",
       "    .dataframe tbody tr th:only-of-type {\n",
       "        vertical-align: middle;\n",
       "    }\n",
       "\n",
       "    .dataframe tbody tr th {\n",
       "        vertical-align: top;\n",
       "    }\n",
       "\n",
       "    .dataframe thead th {\n",
       "        text-align: right;\n",
       "    }\n",
       "</style>\n",
       "<table border=\"1\" class=\"dataframe\">\n",
       "  <thead>\n",
       "    <tr style=\"text-align: right;\">\n",
       "      <th></th>\n",
       "      <th>RECORD_TIME</th>\n",
       "    </tr>\n",
       "  </thead>\n",
       "  <tbody>\n",
       "    <tr>\n",
       "      <th>0</th>\n",
       "      <td>2021-10-20 08:30</td>\n",
       "    </tr>\n",
       "    <tr>\n",
       "      <th>1</th>\n",
       "      <td>2021-10-20 08:00</td>\n",
       "    </tr>\n",
       "  </tbody>\n",
       "</table>\n",
       "</div>"
      ],
      "text/plain": [
       "        RECORD_TIME\n",
       "0  2021-10-20 08:30\n",
       "1  2021-10-20 08:00"
      ]
     },
     "execution_count": 3,
     "metadata": {},
     "output_type": "execute_result"
    }
   ],
   "source": [
    "timestamps"
   ]
  },
  {
   "cell_type": "code",
   "execution_count": 4,
   "id": "alternate-victory",
   "metadata": {
    "execution": {
     "iopub.execute_input": "2021-10-20T06:30:08.263769Z",
     "iopub.status.busy": "2021-10-20T06:30:08.261736Z",
     "iopub.status.idle": "2021-10-20T06:30:09.163251Z",
     "shell.execute_reply": "2021-10-20T06:30:09.164477Z"
    },
    "papermill": {
     "duration": 0.932204,
     "end_time": "2021-10-20T06:30:09.165075",
     "exception": false,
     "start_time": "2021-10-20T06:30:08.232871",
     "status": "completed"
    },
    "tags": []
   },
   "outputs": [],
   "source": [
    "df = pd.read_sql(\"select * from EBAY_TOP_BERLIN where record_time in (select distinct record_time from EBAY_TOP_BERLIN order by record_time desc limit 2)\", sqlite3.connect(\"UsedObjects.db\"))"
   ]
  },
  {
   "cell_type": "code",
   "execution_count": 5,
   "id": "popular-active",
   "metadata": {
    "execution": {
     "iopub.execute_input": "2021-10-20T06:30:09.236257Z",
     "iopub.status.busy": "2021-10-20T06:30:09.224380Z",
     "iopub.status.idle": "2021-10-20T06:30:09.252043Z",
     "shell.execute_reply": "2021-10-20T06:30:09.253339Z"
    },
    "papermill": {
     "duration": 0.068042,
     "end_time": "2021-10-20T06:30:09.253741",
     "exception": false,
     "start_time": "2021-10-20T06:30:09.185699",
     "status": "completed"
    },
    "tags": []
   },
   "outputs": [],
   "source": [
    "df_pivot = df.pivot_table(index=\"PRODUCT\", columns = \"RECORD_TIME\", values = \"LISTING_COUNT\")"
   ]
  },
  {
   "cell_type": "code",
   "execution_count": 6,
   "id": "union-huntington",
   "metadata": {
    "execution": {
     "iopub.execute_input": "2021-10-20T06:30:09.309967Z",
     "iopub.status.busy": "2021-10-20T06:30:09.307774Z",
     "iopub.status.idle": "2021-10-20T06:30:09.313409Z",
     "shell.execute_reply": "2021-10-20T06:30:09.314701Z"
    },
    "papermill": {
     "duration": 0.040557,
     "end_time": "2021-10-20T06:30:09.315151",
     "exception": false,
     "start_time": "2021-10-20T06:30:09.274594",
     "status": "completed"
    },
    "tags": []
   },
   "outputs": [],
   "source": [
    "df_pivot.columns = [\"stamp_1\", \"stamp_2\"]\n",
    "df_pivot_diff = df_pivot.diff(axis=1)"
   ]
  },
  {
   "cell_type": "code",
   "execution_count": 7,
   "id": "fifth-motion",
   "metadata": {
    "execution": {
     "iopub.execute_input": "2021-10-20T06:30:09.369505Z",
     "iopub.status.busy": "2021-10-20T06:30:09.366942Z",
     "iopub.status.idle": "2021-10-20T06:30:10.863404Z",
     "shell.execute_reply": "2021-10-20T06:30:10.865007Z"
    },
    "papermill": {
     "duration": 1.529823,
     "end_time": "2021-10-20T06:30:10.865529",
     "exception": false,
     "start_time": "2021-10-20T06:30:09.335706",
     "status": "completed"
    },
    "tags": []
   },
   "outputs": [
    {
     "data": {
      "text/plain": [
       "<AxesSubplot:ylabel='PRODUCT'>"
      ]
     },
     "execution_count": 7,
     "metadata": {},
     "output_type": "execute_result"
    },
    {
     "data": {
      "image/png": "[encoded data removed]",
      "text/plain": [
       "<Figure size 432x288 with 1 Axes>"
      ]
     },
     "metadata": {
      "needs_background": "light"
     },
     "output_type": "display_data"
    }
   ],
   "source": [
    "df_pivot_diff.sort_values(\"stamp_2\", ascending = False)[\"stamp_2\"].head(10).plot.barh()"
   ]
  },
  {
   "cell_type": "code",
   "execution_count": null,
   "id": "extra-executive",
   "metadata": {
    "papermill": {
     "duration": 0.021944,
     "end_time": "2021-10-20T06:30:10.912410",
     "exception": false,
     "start_time": "2021-10-20T06:30:10.890466",
     "status": "completed"
    },
    "tags": []
   },
   "outputs": [],
   "source": []
  }
 ],
 "metadata": {
  "kernelspec": {
   "display_name": "Python 3",
   "language": "python",
   "name": "python3"
  },
  "language_info": {
   "codemirror_mode": {
    "name": "ipython",
    "version": 3
   },
   "file_extension": ".py",
   "mimetype": "text/x-python",
   "name": "python",
   "nbconvert_exporter": "python",
   "pygments_lexer": "ipython3",
   "version": "3.9.5"
  },
  "papermill": {
   "default_parameters": {},
   "duration": 7.347156,
   "end_time": "2021-10-20T06:30:11.555702",
   "environment_variables": {},
   "exception": null,
   "input_path": "eBay_Overview.ipynb",
   "output_path": "eBay_Overview.ipynb",
   "parameters": {},
   "start_time": "2021-10-20T06:30:04.208546",
   "version": "2.3.3"
  }
 },
 "nbformat": 4,
 "nbformat_minor": 5
}