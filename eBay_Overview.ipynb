{
 "cells": [
  {
   "cell_type": "code",
   "execution_count": 1,
   "id": "reverse-picking",
   "metadata": {
    "execution": {
     "iopub.execute_input": "2021-09-13T23:30:06.533061Z",
     "iopub.status.busy": "2021-09-13T23:30:06.531096Z",
     "iopub.status.idle": "2021-09-13T23:30:07.337419Z",
     "shell.execute_reply": "2021-09-13T23:30:07.335827Z"
    },
    "papermill": {
     "duration": 0.856945,
     "end_time": "2021-09-13T23:30:07.337820",
     "exception": false,
     "start_time": "2021-09-13T23:30:06.480875",
     "status": "completed"
    },
    "tags": []
   },
   "outputs": [],
   "source": [
    "import pandas as pd\n",
    "import sqlite3"
   ]
  },
  {
   "cell_type": "code",
   "execution_count": 2,
   "id": "innovative-syndrome",
   "metadata": {
    "execution": {
     "iopub.execute_input": "2021-09-13T23:30:07.389061Z",
     "iopub.status.busy": "2021-09-13T23:30:07.387193Z",
     "iopub.status.idle": "2021-09-13T23:30:07.670813Z",
     "shell.execute_reply": "2021-09-13T23:30:07.672075Z"
    },
    "papermill": {
     "duration": 0.313124,
     "end_time": "2021-09-13T23:30:07.672513",
     "exception": false,
     "start_time": "2021-09-13T23:30:07.359389",
     "status": "completed"
    },
    "tags": []
   },
   "outputs": [],
   "source": [
    "timestamps = pd.read_sql(\"select distinct record_time from EBAY_TOP_BERLIN order by record_time desc limit 2\", sqlite3.connect(\"UsedObjects.db\"))"
   ]
  },
  {
   "cell_type": "code",
   "execution_count": 3,
   "id": "periodic-identification",
   "metadata": {
    "execution": {
     "iopub.execute_input": "2021-09-13T23:30:07.737738Z",
     "iopub.status.busy": "2021-09-13T23:30:07.735733Z",
     "iopub.status.idle": "2021-09-13T23:30:07.755891Z",
     "shell.execute_reply": "2021-09-13T23:30:07.757100Z"
    },
    "papermill": {
     "duration": 0.064578,
     "end_time": "2021-09-13T23:30:07.757534",
     "exception": false,
     "start_time": "2021-09-13T23:30:07.692956",
     "status": "completed"
    },
    "tags": []
   },
   "outputs": [
    {
     "data": {
      "text/html": [
       "<div>\n",
       "<style scoped>\n",
       "    .dataframe tbody tr th:only-of-type {\n",
       "        vertical-align: middle;\n",
       "    }\n",
       "\n",
       "    .dataframe tbody tr th {\n",
       "        vertical-align: top;\n",
       "    }\n",
       "\n",
       "    .dataframe thead th {\n",
       "        text-align: right;\n",
       "    }\n",
       "</style>\n",
       "<table border=\"1\" class=\"dataframe\">\n",
       "  <thead>\n",
       "    <tr style=\"text-align: right;\">\n",
       "      <th></th>\n",
       "      <th>RECORD_TIME</th>\n",
       "    </tr>\n",
       "  </thead>\n",
       "  <tbody>\n",
       "    <tr>\n",
       "      <th>0</th>\n",
       "      <td>2021-09-14 01:30</td>\n",
       "    </tr>\n",
       "    <tr>\n",
       "      <th>1</th>\n",
       "      <td>2021-09-14 01:00</td>\n",
       "    </tr>\n",
       "  </tbody>\n",
       "</table>\n",
       "</div>"
      ],
      "text/plain": [
       "        RECORD_TIME\n",
       "0  2021-09-14 01:30\n",
       "1  2021-09-14 01:00"
      ]
     },
     "execution_count": 3,
     "metadata": {},
     "output_type": "execute_result"
    }
   ],
   "source": [
    "timestamps"
   ]
  },
  {
   "cell_type": "code",
   "execution_count": 4,
   "id": "alternate-victory",
   "metadata": {
    "execution": {
     "iopub.execute_input": "2021-09-13T23:30:07.811606Z",
     "iopub.status.busy": "2021-09-13T23:30:07.809216Z",
     "iopub.status.idle": "2021-09-13T23:30:08.232510Z",
     "shell.execute_reply": "2021-09-13T23:30:08.233733Z"
    },
    "papermill": {
     "duration": 0.45369,
     "end_time": "2021-09-13T23:30:08.234129",
     "exception": false,
     "start_time": "2021-09-13T23:30:07.780439",
     "status": "completed"
    },
    "tags": []
   },
   "outputs": [],
   "source": [
    "df = pd.read_sql(\"select * from EBAY_TOP_BERLIN where record_time in (select distinct record_time from EBAY_TOP_BERLIN order by record_time desc limit 2)\", sqlite3.connect(\"UsedObjects.db\"))"
   ]
  },
  {
   "cell_type": "code",
   "execution_count": 5,
   "id": "popular-active",
   "metadata": {
    "execution": {
     "iopub.execute_input": "2021-09-13T23:30:08.314271Z",
     "iopub.status.busy": "2021-09-13T23:30:08.302641Z",
     "iopub.status.idle": "2021-09-13T23:30:08.331672Z",
     "shell.execute_reply": "2021-09-13T23:30:08.332977Z"
    },
    "papermill": {
     "duration": 0.073509,
     "end_time": "2021-09-13T23:30:08.333431",
     "exception": false,
     "start_time": "2021-09-13T23:30:08.259922",
     "status": "completed"
    },
    "tags": []
   },
   "outputs": [],
   "source": [
    "df_pivot = df.pivot_table(index=\"PRODUCT\", columns = \"RECORD_TIME\", values = \"LISTING_COUNT\")"
   ]
  },
  {
   "cell_type": "code",
   "execution_count": 6,
   "id": "union-huntington",
   "metadata": {
    "execution": {
     "iopub.execute_input": "2021-09-13T23:30:08.390841Z",
     "iopub.status.busy": "2021-09-13T23:30:08.388441Z",
     "iopub.status.idle": "2021-09-13T23:30:08.393935Z",
     "shell.execute_reply": "2021-09-13T23:30:08.395205Z"
    },
    "papermill": {
     "duration": 0.041804,
     "end_time": "2021-09-13T23:30:08.395650",
     "exception": false,
     "start_time": "2021-09-13T23:30:08.353846",
     "status": "completed"
    },
    "tags": []
   },
   "outputs": [],
   "source": [
    "df_pivot.columns = [\"stamp_1\", \"stamp_2\"]\n",
    "df_pivot_diff = df_pivot.diff(axis=1)"
   ]
  },
  {
   "cell_type": "code",
   "execution_count": 7,
   "id": "fifth-motion",
   "metadata": {
    "execution": {
     "iopub.execute_input": "2021-09-13T23:30:08.450222Z",
     "iopub.status.busy": "2021-09-13T23:30:08.447917Z",
     "iopub.status.idle": "2021-09-13T23:30:09.923627Z",
     "shell.execute_reply": "2021-09-13T23:30:09.924940Z"
    },
    "papermill": {
     "duration": 1.509126,
     "end_time": "2021-09-13T23:30:09.925360",
     "exception": false,
     "start_time": "2021-09-13T23:30:08.416234",
     "status": "completed"
    },
    "tags": []
   },
   "outputs": [
    {
     "data": {
      "text/plain": [
       "<AxesSubplot:ylabel='PRODUCT'>"
      ]
     },
     "execution_count": 7,
     "metadata": {},
     "output_type": "execute_result"
    },
    {
     "data": {
      "image/png": "[encoded data removed]",
      "text/plain": [
       "<Figure size 432x288 with 1 Axes>"
      ]
     },
     "metadata": {
      "needs_background": "light"
     },
     "output_type": "display_data"
    }
   ],
   "source": [
    "df_pivot_diff.sort_values(\"stamp_2\", ascending = False)[\"stamp_2\"].head(10).plot.barh()"
   ]
  },
  {
   "cell_type": "code",
   "execution_count": null,
   "id": "extra-executive",
   "metadata": {
    "papermill": {
     "duration": 0.022439,
     "end_time": "2021-09-13T23:30:09.971925",
     "exception": false,
     "start_time": "2021-09-13T23:30:09.949486",
     "status": "completed"
    },
    "tags": []
   },
   "outputs": [],
   "source": []
  }
 ],
 "metadata": {
  "kernelspec": {
   "display_name": "Python 3",
   "language": "python",
   "name": "python3"
  },
  "language_info": {
   "codemirror_mode": {
    "name": "ipython",
    "version": 3
   },
   "file_extension": ".py",
   "mimetype": "text/x-python",
   "name": "python",
   "nbconvert_exporter": "python",
   "pygments_lexer": "ipython3",
   "version": "3.9.5"
  },
  "papermill": {
   "default_parameters": {},
   "duration": 6.542818,
   "end_time": "2021-09-13T23:30:10.615939",
   "environment_variables": {},
   "exception": null,
   "input_path": "eBay_Overview.ipynb",
   "output_path": "eBay_Overview.ipynb",
   "parameters": {},
   "start_time": "2021-09-13T23:30:04.073121",
   "version": "2.3.3"
  }
 },
 "nbformat": 4,
 "nbformat_minor": 5
}