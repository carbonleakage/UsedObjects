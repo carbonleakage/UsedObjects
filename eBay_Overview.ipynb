{
 "cells": [
  {
   "cell_type": "code",
   "execution_count": 1,
   "id": "reverse-picking",
   "metadata": {
    "execution": {
     "iopub.execute_input": "2021-11-30T18:30:07.348211Z",
     "iopub.status.busy": "2021-11-30T18:30:07.345941Z",
     "iopub.status.idle": "2021-11-30T18:30:08.302899Z",
     "shell.execute_reply": "2021-11-30T18:30:08.304336Z"
    },
    "papermill": {
     "duration": 1.007293,
     "end_time": "2021-11-30T18:30:08.305086",
     "exception": false,
     "start_time": "2021-11-30T18:30:07.297793",
     "status": "completed"
    },
    "tags": []
   },
   "outputs": [],
   "source": [
    "import pandas as pd\n",
    "import sqlite3"
   ]
  },
  {
   "cell_type": "code",
   "execution_count": 2,
   "id": "innovative-syndrome",
   "metadata": {
    "execution": {
     "iopub.execute_input": "2021-11-30T18:30:08.365465Z",
     "iopub.status.busy": "2021-11-30T18:30:08.363171Z",
     "iopub.status.idle": "2021-11-30T18:30:09.337015Z",
     "shell.execute_reply": "2021-11-30T18:30:09.338904Z"
    },
    "papermill": {
     "duration": 1.007735,
     "end_time": "2021-11-30T18:30:09.339386",
     "exception": false,
     "start_time": "2021-11-30T18:30:08.331651",
     "status": "completed"
    },
    "tags": []
   },
   "outputs": [],
   "source": [
    "timestamps = pd.read_sql(\"select distinct record_time from EBAY_TOP_BERLIN order by record_time desc limit 2\", sqlite3.connect(\"UsedObjects.db\"))"
   ]
  },
  {
   "cell_type": "code",
   "execution_count": 3,
   "id": "periodic-identification",
   "metadata": {
    "execution": {
     "iopub.execute_input": "2021-11-30T18:30:09.412031Z",
     "iopub.status.busy": "2021-11-30T18:30:09.409496Z",
     "iopub.status.idle": "2021-11-30T18:30:09.431220Z",
     "shell.execute_reply": "2021-11-30T18:30:09.432552Z"
    },
    "papermill": {
     "duration": 0.070823,
     "end_time": "2021-11-30T18:30:09.433064",
     "exception": false,
     "start_time": "2021-11-30T18:30:09.362241",
     "status": "completed"
    },
    "tags": []
   },
   "outputs": [
    {
     "data": {
      "text/html": [
       "<div>\n",
       "<style scoped>\n",
       "    .dataframe tbody tr th:only-of-type {\n",
       "        vertical-align: middle;\n",
       "    }\n",
       "\n",
       "    .dataframe tbody tr th {\n",
       "        vertical-align: top;\n",
       "    }\n",
       "\n",
       "    .dataframe thead th {\n",
       "        text-align: right;\n",
       "    }\n",
       "</style>\n",
       "<table border=\"1\" class=\"dataframe\">\n",
       "  <thead>\n",
       "    <tr style=\"text-align: right;\">\n",
       "      <th></th>\n",
       "      <th>RECORD_TIME</th>\n",
       "    </tr>\n",
       "  </thead>\n",
       "  <tbody>\n",
       "    <tr>\n",
       "      <th>0</th>\n",
       "      <td>2021-11-30 19:30</td>\n",
       "    </tr>\n",
       "    <tr>\n",
       "      <th>1</th>\n",
       "      <td>2021-11-30 19:00</td>\n",
       "    </tr>\n",
       "  </tbody>\n",
       "</table>\n",
       "</div>"
      ],
      "text/plain": [
       "        RECORD_TIME\n",
       "0  2021-11-30 19:30\n",
       "1  2021-11-30 19:00"
      ]
     },
     "execution_count": 3,
     "metadata": {},
     "output_type": "execute_result"
    }
   ],
   "source": [
    "timestamps"
   ]
  },
  {
   "cell_type": "code",
   "execution_count": 4,
   "id": "alternate-victory",
   "metadata": {
    "execution": {
     "iopub.execute_input": "2021-11-30T18:30:09.489755Z",
     "iopub.status.busy": "2021-11-30T18:30:09.487491Z",
     "iopub.status.idle": "2021-11-30T18:30:10.861360Z",
     "shell.execute_reply": "2021-11-30T18:30:10.863540Z"
    },
    "papermill": {
     "duration": 1.408886,
     "end_time": "2021-11-30T18:30:10.864018",
     "exception": false,
     "start_time": "2021-11-30T18:30:09.455132",
     "status": "completed"
    },
    "tags": []
   },
   "outputs": [],
   "source": [
    "df = pd.read_sql(\"select * from EBAY_TOP_BERLIN where record_time in (select distinct record_time from EBAY_TOP_BERLIN order by record_time desc limit 2)\", sqlite3.connect(\"UsedObjects.db\"))"
   ]
  },
  {
   "cell_type": "code",
   "execution_count": 5,
   "id": "popular-active",
   "metadata": {
    "execution": {
     "iopub.execute_input": "2021-11-30T18:30:10.943330Z",
     "iopub.status.busy": "2021-11-30T18:30:10.939296Z",
     "iopub.status.idle": "2021-11-30T18:30:10.961114Z",
     "shell.execute_reply": "2021-11-30T18:30:10.962441Z"
    },
    "papermill": {
     "duration": 0.077485,
     "end_time": "2021-11-30T18:30:10.962917",
     "exception": false,
     "start_time": "2021-11-30T18:30:10.885432",
     "status": "completed"
    },
    "tags": []
   },
   "outputs": [],
   "source": [
    "df_pivot = df.pivot_table(index=\"PRODUCT\", columns = \"RECORD_TIME\", values = \"LISTING_COUNT\")"
   ]
  },
  {
   "cell_type": "code",
   "execution_count": 6,
   "id": "union-huntington",
   "metadata": {
    "execution": {
     "iopub.execute_input": "2021-11-30T18:30:11.021062Z",
     "iopub.status.busy": "2021-11-30T18:30:11.018819Z",
     "iopub.status.idle": "2021-11-30T18:30:11.023853Z",
     "shell.execute_reply": "2021-11-30T18:30:11.025402Z"
    },
    "papermill": {
     "duration": 0.043068,
     "end_time": "2021-11-30T18:30:11.025869",
     "exception": false,
     "start_time": "2021-11-30T18:30:10.982801",
     "status": "completed"
    },
    "tags": []
   },
   "outputs": [],
   "source": [
    "df_pivot.columns = [\"stamp_1\", \"stamp_2\"]\n",
    "df_pivot_diff = df_pivot.diff(axis=1)"
   ]
  },
  {
   "cell_type": "code",
   "execution_count": 7,
   "id": "fifth-motion",
   "metadata": {
    "execution": {
     "iopub.execute_input": "2021-11-30T18:30:11.085137Z",
     "iopub.status.busy": "2021-11-30T18:30:11.082645Z",
     "iopub.status.idle": "2021-11-30T18:30:13.040334Z",
     "shell.execute_reply": "2021-11-30T18:30:13.043151Z"
    },
    "papermill": {
     "duration": 1.997925,
     "end_time": "2021-11-30T18:30:13.043878",
     "exception": false,
     "start_time": "2021-11-30T18:30:11.045953",
     "status": "completed"
    },
    "tags": []
   },
   "outputs": [
    {
     "data": {
      "text/plain": [
       "<AxesSubplot:ylabel='PRODUCT'>"
      ]
     },
     "execution_count": 7,
     "metadata": {},
     "output_type": "execute_result"
    },
    {
     "data": {
      "image/png": "[encoded data removed]",
      "text/plain": [
       "<Figure size 432x288 with 1 Axes>"
      ]
     },
     "metadata": {
      "needs_background": "light"
     },
     "output_type": "display_data"
    }
   ],
   "source": [
    "df_pivot_diff.sort_values(\"stamp_2\", ascending = False)[\"stamp_2\"].head(10).plot.barh()"
   ]
  },
  {
   "cell_type": "code",
   "execution_count": null,
   "id": "extra-executive",
   "metadata": {
    "papermill": {
     "duration": 0.032055,
     "end_time": "2021-11-30T18:30:13.112982",
     "exception": false,
     "start_time": "2021-11-30T18:30:13.080927",
     "status": "completed"
    },
    "tags": []
   },
   "outputs": [],
   "source": []
  }
 ],
 "metadata": {
  "kernelspec": {
   "display_name": "Python 3",
   "language": "python",
   "name": "python3"
  },
  "language_info": {
   "codemirror_mode": {
    "name": "ipython",
    "version": 3
   },
   "file_extension": ".py",
   "mimetype": "text/x-python",
   "name": "python",
   "nbconvert_exporter": "python",
   "pygments_lexer": "ipython3",
   "version": "3.9.5"
  },
  "papermill": {
   "default_parameters": {},
   "duration": 9.93393,
   "end_time": "2021-11-30T18:30:14.516263",
   "environment_variables": {},
   "exception": null,
   "input_path": "eBay_Overview.ipynb",
   "output_path": "eBay_Overview.ipynb",
   "parameters": {},
   "start_time": "2021-11-30T18:30:04.582333",
   "version": "2.3.3"
  }
 },
 "nbformat": 4,
 "nbformat_minor": 5
}