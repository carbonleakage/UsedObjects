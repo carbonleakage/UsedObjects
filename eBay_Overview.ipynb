{
 "cells": [
  {
   "cell_type": "code",
   "execution_count": 1,
   "id": "reverse-picking",
   "metadata": {
    "execution": {
     "iopub.execute_input": "2021-08-29T20:00:07.277825Z",
     "iopub.status.busy": "2021-08-29T20:00:07.275803Z",
     "iopub.status.idle": "2021-08-29T20:00:08.081641Z",
     "shell.execute_reply": "2021-08-29T20:00:08.082893Z"
    },
    "papermill": {
     "duration": 0.857705,
     "end_time": "2021-08-29T20:00:08.083512",
     "exception": false,
     "start_time": "2021-08-29T20:00:07.225807",
     "status": "completed"
    },
    "tags": []
   },
   "outputs": [],
   "source": [
    "import pandas as pd\n",
    "import sqlite3"
   ]
  },
  {
   "cell_type": "code",
   "execution_count": 2,
   "id": "innovative-syndrome",
   "metadata": {
    "execution": {
     "iopub.execute_input": "2021-08-29T20:00:08.134088Z",
     "iopub.status.busy": "2021-08-29T20:00:08.132127Z",
     "iopub.status.idle": "2021-08-29T20:00:08.290150Z",
     "shell.execute_reply": "2021-08-29T20:00:08.291352Z"
    },
    "papermill": {
     "duration": 0.187379,
     "end_time": "2021-08-29T20:00:08.291743",
     "exception": false,
     "start_time": "2021-08-29T20:00:08.104364",
     "status": "completed"
    },
    "tags": []
   },
   "outputs": [],
   "source": [
    "timestamps = pd.read_sql(\"select distinct record_time from EBAY_TOP_BERLIN order by record_time desc limit 2\", sqlite3.connect(\"UsedObjects.db\"))"
   ]
  },
  {
   "cell_type": "code",
   "execution_count": 3,
   "id": "periodic-identification",
   "metadata": {
    "execution": {
     "iopub.execute_input": "2021-08-29T20:00:08.362508Z",
     "iopub.status.busy": "2021-08-29T20:00:08.357250Z",
     "iopub.status.idle": "2021-08-29T20:00:08.377167Z",
     "shell.execute_reply": "2021-08-29T20:00:08.378616Z"
    },
    "papermill": {
     "duration": 0.065616,
     "end_time": "2021-08-29T20:00:08.379051",
     "exception": false,
     "start_time": "2021-08-29T20:00:08.313435",
     "status": "completed"
    },
    "tags": []
   },
   "outputs": [
    {
     "data": {
      "text/html": [
       "<div>\n",
       "<style scoped>\n",
       "    .dataframe tbody tr th:only-of-type {\n",
       "        vertical-align: middle;\n",
       "    }\n",
       "\n",
       "    .dataframe tbody tr th {\n",
       "        vertical-align: top;\n",
       "    }\n",
       "\n",
       "    .dataframe thead th {\n",
       "        text-align: right;\n",
       "    }\n",
       "</style>\n",
       "<table border=\"1\" class=\"dataframe\">\n",
       "  <thead>\n",
       "    <tr style=\"text-align: right;\">\n",
       "      <th></th>\n",
       "      <th>RECORD_TIME</th>\n",
       "    </tr>\n",
       "  </thead>\n",
       "  <tbody>\n",
       "    <tr>\n",
       "      <th>0</th>\n",
       "      <td>2021-08-29 22:00</td>\n",
       "    </tr>\n",
       "    <tr>\n",
       "      <th>1</th>\n",
       "      <td>2021-08-29 21:30</td>\n",
       "    </tr>\n",
       "  </tbody>\n",
       "</table>\n",
       "</div>"
      ],
      "text/plain": [
       "        RECORD_TIME\n",
       "0  2021-08-29 22:00\n",
       "1  2021-08-29 21:30"
      ]
     },
     "execution_count": 3,
     "metadata": {},
     "output_type": "execute_result"
    }
   ],
   "source": [
    "timestamps"
   ]
  },
  {
   "cell_type": "code",
   "execution_count": 4,
   "id": "alternate-victory",
   "metadata": {
    "execution": {
     "iopub.execute_input": "2021-08-29T20:00:08.430230Z",
     "iopub.status.busy": "2021-08-29T20:00:08.428378Z",
     "iopub.status.idle": "2021-08-29T20:00:08.663542Z",
     "shell.execute_reply": "2021-08-29T20:00:08.664893Z"
    },
    "papermill": {
     "duration": 0.265219,
     "end_time": "2021-08-29T20:00:08.665318",
     "exception": false,
     "start_time": "2021-08-29T20:00:08.400099",
     "status": "completed"
    },
    "tags": []
   },
   "outputs": [],
   "source": [
    "df = pd.read_sql(\"select * from EBAY_TOP_BERLIN where record_time in (select distinct record_time from EBAY_TOP_BERLIN order by record_time desc limit 2)\", sqlite3.connect(\"UsedObjects.db\"))"
   ]
  },
  {
   "cell_type": "code",
   "execution_count": 5,
   "id": "popular-active",
   "metadata": {
    "execution": {
     "iopub.execute_input": "2021-08-29T20:00:08.748577Z",
     "iopub.status.busy": "2021-08-29T20:00:08.736862Z",
     "iopub.status.idle": "2021-08-29T20:00:08.764385Z",
     "shell.execute_reply": "2021-08-29T20:00:08.765812Z"
    },
    "papermill": {
     "duration": 0.079358,
     "end_time": "2021-08-29T20:00:08.766248",
     "exception": false,
     "start_time": "2021-08-29T20:00:08.686890",
     "status": "completed"
    },
    "tags": []
   },
   "outputs": [],
   "source": [
    "df_pivot = df.pivot_table(index=\"PRODUCT\", columns = \"RECORD_TIME\", values = \"LISTING_COUNT\")"
   ]
  },
  {
   "cell_type": "code",
   "execution_count": 6,
   "id": "union-huntington",
   "metadata": {
    "execution": {
     "iopub.execute_input": "2021-08-29T20:00:08.824086Z",
     "iopub.status.busy": "2021-08-29T20:00:08.821676Z",
     "iopub.status.idle": "2021-08-29T20:00:08.827520Z",
     "shell.execute_reply": "2021-08-29T20:00:08.828895Z"
    },
    "papermill": {
     "duration": 0.042317,
     "end_time": "2021-08-29T20:00:08.829320",
     "exception": false,
     "start_time": "2021-08-29T20:00:08.787003",
     "status": "completed"
    },
    "tags": []
   },
   "outputs": [],
   "source": [
    "df_pivot.columns = [\"stamp_1\", \"stamp_2\"]\n",
    "df_pivot_diff = df_pivot.diff(axis=1)"
   ]
  },
  {
   "cell_type": "code",
   "execution_count": 7,
   "id": "fifth-motion",
   "metadata": {
    "execution": {
     "iopub.execute_input": "2021-08-29T20:00:08.883760Z",
     "iopub.status.busy": "2021-08-29T20:00:08.881480Z",
     "iopub.status.idle": "2021-08-29T20:00:10.369688Z",
     "shell.execute_reply": "2021-08-29T20:00:10.370981Z"
    },
    "papermill": {
     "duration": 1.521169,
     "end_time": "2021-08-29T20:00:10.371396",
     "exception": false,
     "start_time": "2021-08-29T20:00:08.850227",
     "status": "completed"
    },
    "tags": []
   },
   "outputs": [
    {
     "data": {
      "text/plain": [
       "<AxesSubplot:ylabel='PRODUCT'>"
      ]
     },
     "execution_count": 7,
     "metadata": {},
     "output_type": "execute_result"
    },
    {
     "data": {
      "image/png": "[encoded data removed]",
      "text/plain": [
       "<Figure size 432x288 with 1 Axes>"
      ]
     },
     "metadata": {
      "needs_background": "light"
     },
     "output_type": "display_data"
    }
   ],
   "source": [
    "df_pivot_diff.sort_values(\"stamp_2\", ascending = False)[\"stamp_2\"].head(10).plot.barh()"
   ]
  },
  {
   "cell_type": "code",
   "execution_count": null,
   "id": "extra-executive",
   "metadata": {
    "papermill": {
     "duration": 0.022035,
     "end_time": "2021-08-29T20:00:10.417722",
     "exception": false,
     "start_time": "2021-08-29T20:00:10.395687",
     "status": "completed"
    },
    "tags": []
   },
   "outputs": [],
   "source": []
  }
 ],
 "metadata": {
  "kernelspec": {
   "display_name": "Python 3",
   "language": "python",
   "name": "python3"
  },
  "language_info": {
   "codemirror_mode": {
    "name": "ipython",
    "version": 3
   },
   "file_extension": ".py",
   "mimetype": "text/x-python",
   "name": "python",
   "nbconvert_exporter": "python",
   "pygments_lexer": "ipython3",
   "version": "3.9.5"
  },
  "papermill": {
   "default_parameters": {},
   "duration": 6.81855,
   "end_time": "2021-08-29T20:00:11.640139",
   "environment_variables": {},
   "exception": null,
   "input_path": "eBay_Overview.ipynb",
   "output_path": "eBay_Overview.ipynb",
   "parameters": {},
   "start_time": "2021-08-29T20:00:04.821589",
   "version": "2.3.3"
  }
 },
 "nbformat": 4,
 "nbformat_minor": 5
}