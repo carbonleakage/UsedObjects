{
 "cells": [
  {
   "cell_type": "code",
   "execution_count": 1,
   "id": "reverse-picking",
   "metadata": {
    "execution": {
     "iopub.execute_input": "2021-09-04T23:00:07.016731Z",
     "iopub.status.busy": "2021-09-04T23:00:07.014753Z",
     "iopub.status.idle": "2021-09-04T23:00:07.817217Z",
     "shell.execute_reply": "2021-09-04T23:00:07.818461Z"
    },
    "papermill": {
     "duration": 0.852646,
     "end_time": "2021-09-04T23:00:07.819165",
     "exception": false,
     "start_time": "2021-09-04T23:00:06.966519",
     "status": "completed"
    },
    "tags": []
   },
   "outputs": [],
   "source": [
    "import pandas as pd\n",
    "import sqlite3"
   ]
  },
  {
   "cell_type": "code",
   "execution_count": 2,
   "id": "innovative-syndrome",
   "metadata": {
    "execution": {
     "iopub.execute_input": "2021-09-04T23:00:07.869650Z",
     "iopub.status.busy": "2021-09-04T23:00:07.867817Z",
     "iopub.status.idle": "2021-09-04T23:00:08.075210Z",
     "shell.execute_reply": "2021-09-04T23:00:08.076708Z"
    },
    "papermill": {
     "duration": 0.237265,
     "end_time": "2021-09-04T23:00:08.077165",
     "exception": false,
     "start_time": "2021-09-04T23:00:07.839900",
     "status": "completed"
    },
    "tags": []
   },
   "outputs": [],
   "source": [
    "timestamps = pd.read_sql(\"select distinct record_time from EBAY_TOP_BERLIN order by record_time desc limit 2\", sqlite3.connect(\"UsedObjects.db\"))"
   ]
  },
  {
   "cell_type": "code",
   "execution_count": 3,
   "id": "periodic-identification",
   "metadata": {
    "execution": {
     "iopub.execute_input": "2021-09-04T23:00:08.144052Z",
     "iopub.status.busy": "2021-09-04T23:00:08.141974Z",
     "iopub.status.idle": "2021-09-04T23:00:08.162473Z",
     "shell.execute_reply": "2021-09-04T23:00:08.163737Z"
    },
    "papermill": {
     "duration": 0.067167,
     "end_time": "2021-09-04T23:00:08.164180",
     "exception": false,
     "start_time": "2021-09-04T23:00:08.097013",
     "status": "completed"
    },
    "tags": []
   },
   "outputs": [
    {
     "data": {
      "text/html": [
       "<div>\n",
       "<style scoped>\n",
       "    .dataframe tbody tr th:only-of-type {\n",
       "        vertical-align: middle;\n",
       "    }\n",
       "\n",
       "    .dataframe tbody tr th {\n",
       "        vertical-align: top;\n",
       "    }\n",
       "\n",
       "    .dataframe thead th {\n",
       "        text-align: right;\n",
       "    }\n",
       "</style>\n",
       "<table border=\"1\" class=\"dataframe\">\n",
       "  <thead>\n",
       "    <tr style=\"text-align: right;\">\n",
       "      <th></th>\n",
       "      <th>RECORD_TIME</th>\n",
       "    </tr>\n",
       "  </thead>\n",
       "  <tbody>\n",
       "    <tr>\n",
       "      <th>0</th>\n",
       "      <td>2021-09-05 01:00</td>\n",
       "    </tr>\n",
       "    <tr>\n",
       "      <th>1</th>\n",
       "      <td>2021-09-05 00:30</td>\n",
       "    </tr>\n",
       "  </tbody>\n",
       "</table>\n",
       "</div>"
      ],
      "text/plain": [
       "        RECORD_TIME\n",
       "0  2021-09-05 01:00\n",
       "1  2021-09-05 00:30"
      ]
     },
     "execution_count": 3,
     "metadata": {},
     "output_type": "execute_result"
    }
   ],
   "source": [
    "timestamps"
   ]
  },
  {
   "cell_type": "code",
   "execution_count": 4,
   "id": "alternate-victory",
   "metadata": {
    "execution": {
     "iopub.execute_input": "2021-09-04T23:00:08.217975Z",
     "iopub.status.busy": "2021-09-04T23:00:08.215706Z",
     "iopub.status.idle": "2021-09-04T23:00:08.519275Z",
     "shell.execute_reply": "2021-09-04T23:00:08.520638Z"
    },
    "papermill": {
     "duration": 0.333908,
     "end_time": "2021-09-04T23:00:08.521053",
     "exception": false,
     "start_time": "2021-09-04T23:00:08.187145",
     "status": "completed"
    },
    "tags": []
   },
   "outputs": [],
   "source": [
    "df = pd.read_sql(\"select * from EBAY_TOP_BERLIN where record_time in (select distinct record_time from EBAY_TOP_BERLIN order by record_time desc limit 2)\", sqlite3.connect(\"UsedObjects.db\"))"
   ]
  },
  {
   "cell_type": "code",
   "execution_count": 5,
   "id": "popular-active",
   "metadata": {
    "execution": {
     "iopub.execute_input": "2021-09-04T23:00:08.603108Z",
     "iopub.status.busy": "2021-09-04T23:00:08.595169Z",
     "iopub.status.idle": "2021-09-04T23:00:08.623601Z",
     "shell.execute_reply": "2021-09-04T23:00:08.624813Z"
    },
    "papermill": {
     "duration": 0.075272,
     "end_time": "2021-09-04T23:00:08.625213",
     "exception": false,
     "start_time": "2021-09-04T23:00:08.549941",
     "status": "completed"
    },
    "tags": []
   },
   "outputs": [],
   "source": [
    "df_pivot = df.pivot_table(index=\"PRODUCT\", columns = \"RECORD_TIME\", values = \"LISTING_COUNT\")"
   ]
  },
  {
   "cell_type": "code",
   "execution_count": 6,
   "id": "union-huntington",
   "metadata": {
    "execution": {
     "iopub.execute_input": "2021-09-04T23:00:08.682051Z",
     "iopub.status.busy": "2021-09-04T23:00:08.680024Z",
     "iopub.status.idle": "2021-09-04T23:00:08.685214Z",
     "shell.execute_reply": "2021-09-04T23:00:08.686489Z"
    },
    "papermill": {
     "duration": 0.040447,
     "end_time": "2021-09-04T23:00:08.687107",
     "exception": false,
     "start_time": "2021-09-04T23:00:08.646660",
     "status": "completed"
    },
    "tags": []
   },
   "outputs": [],
   "source": [
    "df_pivot.columns = [\"stamp_1\", \"stamp_2\"]\n",
    "df_pivot_diff = df_pivot.diff(axis=1)"
   ]
  },
  {
   "cell_type": "code",
   "execution_count": 7,
   "id": "fifth-motion",
   "metadata": {
    "execution": {
     "iopub.execute_input": "2021-09-04T23:00:08.742930Z",
     "iopub.status.busy": "2021-09-04T23:00:08.740179Z",
     "iopub.status.idle": "2021-09-04T23:00:10.240559Z",
     "shell.execute_reply": "2021-09-04T23:00:10.241832Z"
    },
    "papermill": {
     "duration": 1.534053,
     "end_time": "2021-09-04T23:00:10.242252",
     "exception": false,
     "start_time": "2021-09-04T23:00:08.708199",
     "status": "completed"
    },
    "tags": []
   },
   "outputs": [
    {
     "data": {
      "text/plain": [
       "<AxesSubplot:ylabel='PRODUCT'>"
      ]
     },
     "execution_count": 7,
     "metadata": {},
     "output_type": "execute_result"
    },
    {
     "data": {
      "image/png": "[encoded data removed]",
      "text/plain": [
       "<Figure size 432x288 with 1 Axes>"
      ]
     },
     "metadata": {
      "needs_background": "light"
     },
     "output_type": "display_data"
    }
   ],
   "source": [
    "df_pivot_diff.sort_values(\"stamp_2\", ascending = False)[\"stamp_2\"].head(10).plot.barh()"
   ]
  },
  {
   "cell_type": "code",
   "execution_count": null,
   "id": "extra-executive",
   "metadata": {
    "papermill": {
     "duration": 0.02213,
     "end_time": "2021-09-04T23:00:10.288791",
     "exception": false,
     "start_time": "2021-09-04T23:00:10.266661",
     "status": "completed"
    },
    "tags": []
   },
   "outputs": [],
   "source": []
  }
 ],
 "metadata": {
  "kernelspec": {
   "display_name": "Python 3",
   "language": "python",
   "name": "python3"
  },
  "language_info": {
   "codemirror_mode": {
    "name": "ipython",
    "version": 3
   },
   "file_extension": ".py",
   "mimetype": "text/x-python",
   "name": "python",
   "nbconvert_exporter": "python",
   "pygments_lexer": "ipython3",
   "version": "3.9.5"
  },
  "papermill": {
   "default_parameters": {},
   "duration": 6.363739,
   "end_time": "2021-09-04T23:00:10.930202",
   "environment_variables": {},
   "exception": null,
   "input_path": "eBay_Overview.ipynb",
   "output_path": "eBay_Overview.ipynb",
   "parameters": {},
   "start_time": "2021-09-04T23:00:04.566463",
   "version": "2.3.3"
  }
 },
 "nbformat": 4,
 "nbformat_minor": 5
}