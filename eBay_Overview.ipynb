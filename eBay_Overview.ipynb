{
 "cells": [
  {
   "cell_type": "code",
   "execution_count": 1,
   "id": "reverse-picking",
   "metadata": {
    "execution": {
     "iopub.execute_input": "2021-12-04T03:30:07.984037Z",
     "iopub.status.busy": "2021-12-04T03:30:07.976010Z",
     "iopub.status.idle": "2021-12-04T03:30:08.934657Z",
     "shell.execute_reply": "2021-12-04T03:30:08.936247Z"
    },
    "papermill": {
     "duration": 1.008498,
     "end_time": "2021-12-04T03:30:08.937044",
     "exception": false,
     "start_time": "2021-12-04T03:30:07.928546",
     "status": "completed"
    },
    "tags": []
   },
   "outputs": [],
   "source": [
    "import pandas as pd\n",
    "import sqlite3"
   ]
  },
  {
   "cell_type": "code",
   "execution_count": 2,
   "id": "innovative-syndrome",
   "metadata": {
    "execution": {
     "iopub.execute_input": "2021-12-04T03:30:08.999153Z",
     "iopub.status.busy": "2021-12-04T03:30:08.996886Z",
     "iopub.status.idle": "2021-12-04T03:30:09.988866Z",
     "shell.execute_reply": "2021-12-04T03:30:09.991129Z"
    },
    "papermill": {
     "duration": 1.026509,
     "end_time": "2021-12-04T03:30:09.991678",
     "exception": false,
     "start_time": "2021-12-04T03:30:08.965169",
     "status": "completed"
    },
    "tags": []
   },
   "outputs": [],
   "source": [
    "timestamps = pd.read_sql(\"select distinct record_time from EBAY_TOP_BERLIN order by record_time desc limit 2\", sqlite3.connect(\"UsedObjects.db\"))"
   ]
  },
  {
   "cell_type": "code",
   "execution_count": 3,
   "id": "periodic-identification",
   "metadata": {
    "execution": {
     "iopub.execute_input": "2021-12-04T03:30:10.065604Z",
     "iopub.status.busy": "2021-12-04T03:30:10.063083Z",
     "iopub.status.idle": "2021-12-04T03:30:10.086452Z",
     "shell.execute_reply": "2021-12-04T03:30:10.088303Z"
    },
    "papermill": {
     "duration": 0.074871,
     "end_time": "2021-12-04T03:30:10.088895",
     "exception": false,
     "start_time": "2021-12-04T03:30:10.014024",
     "status": "completed"
    },
    "tags": []
   },
   "outputs": [
    {
     "data": {
      "text/html": [
       "<div>\n",
       "<style scoped>\n",
       "    .dataframe tbody tr th:only-of-type {\n",
       "        vertical-align: middle;\n",
       "    }\n",
       "\n",
       "    .dataframe tbody tr th {\n",
       "        vertical-align: top;\n",
       "    }\n",
       "\n",
       "    .dataframe thead th {\n",
       "        text-align: right;\n",
       "    }\n",
       "</style>\n",
       "<table border=\"1\" class=\"dataframe\">\n",
       "  <thead>\n",
       "    <tr style=\"text-align: right;\">\n",
       "      <th></th>\n",
       "      <th>RECORD_TIME</th>\n",
       "    </tr>\n",
       "  </thead>\n",
       "  <tbody>\n",
       "    <tr>\n",
       "      <th>0</th>\n",
       "      <td>2021-12-04 04:30</td>\n",
       "    </tr>\n",
       "    <tr>\n",
       "      <th>1</th>\n",
       "      <td>2021-12-04 04:00</td>\n",
       "    </tr>\n",
       "  </tbody>\n",
       "</table>\n",
       "</div>"
      ],
      "text/plain": [
       "        RECORD_TIME\n",
       "0  2021-12-04 04:30\n",
       "1  2021-12-04 04:00"
      ]
     },
     "execution_count": 3,
     "metadata": {},
     "output_type": "execute_result"
    }
   ],
   "source": [
    "timestamps"
   ]
  },
  {
   "cell_type": "code",
   "execution_count": 4,
   "id": "alternate-victory",
   "metadata": {
    "execution": {
     "iopub.execute_input": "2021-12-04T03:30:10.147345Z",
     "iopub.status.busy": "2021-12-04T03:30:10.145235Z",
     "iopub.status.idle": "2021-12-04T03:30:11.578255Z",
     "shell.execute_reply": "2021-12-04T03:30:11.579723Z"
    },
    "papermill": {
     "duration": 1.46684,
     "end_time": "2021-12-04T03:30:11.580216",
     "exception": false,
     "start_time": "2021-12-04T03:30:10.113376",
     "status": "completed"
    },
    "tags": []
   },
   "outputs": [],
   "source": [
    "df = pd.read_sql(\"select * from EBAY_TOP_BERLIN where record_time in (select distinct record_time from EBAY_TOP_BERLIN order by record_time desc limit 2)\", sqlite3.connect(\"UsedObjects.db\"))"
   ]
  },
  {
   "cell_type": "code",
   "execution_count": 5,
   "id": "popular-active",
   "metadata": {
    "execution": {
     "iopub.execute_input": "2021-12-04T03:30:11.659439Z",
     "iopub.status.busy": "2021-12-04T03:30:11.644660Z",
     "iopub.status.idle": "2021-12-04T03:30:11.678113Z",
     "shell.execute_reply": "2021-12-04T03:30:11.679485Z"
    },
    "papermill": {
     "duration": 0.078277,
     "end_time": "2021-12-04T03:30:11.679952",
     "exception": false,
     "start_time": "2021-12-04T03:30:11.601675",
     "status": "completed"
    },
    "tags": []
   },
   "outputs": [],
   "source": [
    "df_pivot = df.pivot_table(index=\"PRODUCT\", columns = \"RECORD_TIME\", values = \"LISTING_COUNT\")"
   ]
  },
  {
   "cell_type": "code",
   "execution_count": 6,
   "id": "union-huntington",
   "metadata": {
    "execution": {
     "iopub.execute_input": "2021-12-04T03:30:11.740555Z",
     "iopub.status.busy": "2021-12-04T03:30:11.738371Z",
     "iopub.status.idle": "2021-12-04T03:30:11.744087Z",
     "shell.execute_reply": "2021-12-04T03:30:11.745533Z"
    },
    "papermill": {
     "duration": 0.043663,
     "end_time": "2021-12-04T03:30:11.746003",
     "exception": false,
     "start_time": "2021-12-04T03:30:11.702340",
     "status": "completed"
    },
    "tags": []
   },
   "outputs": [],
   "source": [
    "df_pivot.columns = [\"stamp_1\", \"stamp_2\"]\n",
    "df_pivot_diff = df_pivot.diff(axis=1)"
   ]
  },
  {
   "cell_type": "code",
   "execution_count": 7,
   "id": "fifth-motion",
   "metadata": {
    "execution": {
     "iopub.execute_input": "2021-12-04T03:30:11.804208Z",
     "iopub.status.busy": "2021-12-04T03:30:11.801805Z",
     "iopub.status.idle": "2021-12-04T03:30:13.731941Z",
     "shell.execute_reply": "2021-12-04T03:30:13.734675Z"
    },
    "papermill": {
     "duration": 1.969386,
     "end_time": "2021-12-04T03:30:13.735497",
     "exception": false,
     "start_time": "2021-12-04T03:30:11.766111",
     "status": "completed"
    },
    "tags": []
   },
   "outputs": [
    {
     "data": {
      "text/plain": [
       "<AxesSubplot:ylabel='PRODUCT'>"
      ]
     },
     "execution_count": 7,
     "metadata": {},
     "output_type": "execute_result"
    },
    {
     "data": {
      "image/png": "[encoded data removed]",
      "text/plain": [
       "<Figure size 432x288 with 1 Axes>"
      ]
     },
     "metadata": {
      "needs_background": "light"
     },
     "output_type": "display_data"
    }
   ],
   "source": [
    "df_pivot_diff.sort_values(\"stamp_2\", ascending = False)[\"stamp_2\"].head(10).plot.barh()"
   ]
  },
  {
   "cell_type": "code",
   "execution_count": null,
   "id": "extra-executive",
   "metadata": {
    "papermill": {
     "duration": 0.037235,
     "end_time": "2021-12-04T03:30:13.807541",
     "exception": false,
     "start_time": "2021-12-04T03:30:13.770306",
     "status": "completed"
    },
    "tags": []
   },
   "outputs": [],
   "source": []
  }
 ],
 "metadata": {
  "kernelspec": {
   "display_name": "Python 3",
   "language": "python",
   "name": "python3"
  },
  "language_info": {
   "codemirror_mode": {
    "name": "ipython",
    "version": 3
   },
   "file_extension": ".py",
   "mimetype": "text/x-python",
   "name": "python",
   "nbconvert_exporter": "python",
   "pygments_lexer": "ipython3",
   "version": "3.9.5"
  },
  "papermill": {
   "default_parameters": {},
   "duration": 9.930866,
   "end_time": "2021-12-04T03:30:15.138766",
   "environment_variables": {},
   "exception": null,
   "input_path": "eBay_Overview.ipynb",
   "output_path": "eBay_Overview.ipynb",
   "parameters": {},
   "start_time": "2021-12-04T03:30:05.207900",
   "version": "2.3.3"
  }
 },
 "nbformat": 4,
 "nbformat_minor": 5
}