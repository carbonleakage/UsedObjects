{
 "cells": [
  {
   "cell_type": "code",
   "execution_count": 1,
   "id": "reverse-picking",
   "metadata": {
    "execution": {
     "iopub.execute_input": "2021-09-29T04:00:07.664554Z",
     "iopub.status.busy": "2021-09-29T04:00:07.662533Z",
     "iopub.status.idle": "2021-09-29T04:00:08.470913Z",
     "shell.execute_reply": "2021-09-29T04:00:08.472221Z"
    },
    "papermill": {
     "duration": 0.860449,
     "end_time": "2021-09-29T04:00:08.472833",
     "exception": false,
     "start_time": "2021-09-29T04:00:07.612384",
     "status": "completed"
    },
    "tags": []
   },
   "outputs": [],
   "source": [
    "import pandas as pd\n",
    "import sqlite3"
   ]
  },
  {
   "cell_type": "code",
   "execution_count": 2,
   "id": "innovative-syndrome",
   "metadata": {
    "execution": {
     "iopub.execute_input": "2021-09-29T04:00:08.525904Z",
     "iopub.status.busy": "2021-09-29T04:00:08.523770Z",
     "iopub.status.idle": "2021-09-29T04:00:08.940629Z",
     "shell.execute_reply": "2021-09-29T04:00:08.941818Z"
    },
    "papermill": {
     "duration": 0.446406,
     "end_time": "2021-09-29T04:00:08.942215",
     "exception": false,
     "start_time": "2021-09-29T04:00:08.495809",
     "status": "completed"
    },
    "tags": []
   },
   "outputs": [],
   "source": [
    "timestamps = pd.read_sql(\"select distinct record_time from EBAY_TOP_BERLIN order by record_time desc limit 2\", sqlite3.connect(\"UsedObjects.db\"))"
   ]
  },
  {
   "cell_type": "code",
   "execution_count": 3,
   "id": "periodic-identification",
   "metadata": {
    "execution": {
     "iopub.execute_input": "2021-09-29T04:00:09.009576Z",
     "iopub.status.busy": "2021-09-29T04:00:09.007550Z",
     "iopub.status.idle": "2021-09-29T04:00:09.027703Z",
     "shell.execute_reply": "2021-09-29T04:00:09.029227Z"
    },
    "papermill": {
     "duration": 0.06591,
     "end_time": "2021-09-29T04:00:09.029697",
     "exception": false,
     "start_time": "2021-09-29T04:00:08.963787",
     "status": "completed"
    },
    "tags": []
   },
   "outputs": [
    {
     "data": {
      "text/html": [
       "<div>\n",
       "<style scoped>\n",
       "    .dataframe tbody tr th:only-of-type {\n",
       "        vertical-align: middle;\n",
       "    }\n",
       "\n",
       "    .dataframe tbody tr th {\n",
       "        vertical-align: top;\n",
       "    }\n",
       "\n",
       "    .dataframe thead th {\n",
       "        text-align: right;\n",
       "    }\n",
       "</style>\n",
       "<table border=\"1\" class=\"dataframe\">\n",
       "  <thead>\n",
       "    <tr style=\"text-align: right;\">\n",
       "      <th></th>\n",
       "      <th>RECORD_TIME</th>\n",
       "    </tr>\n",
       "  </thead>\n",
       "  <tbody>\n",
       "    <tr>\n",
       "      <th>0</th>\n",
       "      <td>2021-09-29 06:00</td>\n",
       "    </tr>\n",
       "    <tr>\n",
       "      <th>1</th>\n",
       "      <td>2021-09-29 05:30</td>\n",
       "    </tr>\n",
       "  </tbody>\n",
       "</table>\n",
       "</div>"
      ],
      "text/plain": [
       "        RECORD_TIME\n",
       "0  2021-09-29 06:00\n",
       "1  2021-09-29 05:30"
      ]
     },
     "execution_count": 3,
     "metadata": {},
     "output_type": "execute_result"
    }
   ],
   "source": [
    "timestamps"
   ]
  },
  {
   "cell_type": "code",
   "execution_count": 4,
   "id": "alternate-victory",
   "metadata": {
    "execution": {
     "iopub.execute_input": "2021-09-29T04:00:09.091943Z",
     "iopub.status.busy": "2021-09-29T04:00:09.089827Z",
     "iopub.status.idle": "2021-09-29T04:00:09.699555Z",
     "shell.execute_reply": "2021-09-29T04:00:09.701008Z"
    },
    "papermill": {
     "duration": 0.650787,
     "end_time": "2021-09-29T04:00:09.701449",
     "exception": false,
     "start_time": "2021-09-29T04:00:09.050662",
     "status": "completed"
    },
    "tags": []
   },
   "outputs": [],
   "source": [
    "df = pd.read_sql(\"select * from EBAY_TOP_BERLIN where record_time in (select distinct record_time from EBAY_TOP_BERLIN order by record_time desc limit 2)\", sqlite3.connect(\"UsedObjects.db\"))"
   ]
  },
  {
   "cell_type": "code",
   "execution_count": 5,
   "id": "popular-active",
   "metadata": {
    "execution": {
     "iopub.execute_input": "2021-09-29T04:00:09.772666Z",
     "iopub.status.busy": "2021-09-29T04:00:09.760756Z",
     "iopub.status.idle": "2021-09-29T04:00:09.788732Z",
     "shell.execute_reply": "2021-09-29T04:00:09.789933Z"
    },
    "papermill": {
     "duration": 0.068304,
     "end_time": "2021-09-29T04:00:09.790326",
     "exception": false,
     "start_time": "2021-09-29T04:00:09.722022",
     "status": "completed"
    },
    "tags": []
   },
   "outputs": [],
   "source": [
    "df_pivot = df.pivot_table(index=\"PRODUCT\", columns = \"RECORD_TIME\", values = \"LISTING_COUNT\")"
   ]
  },
  {
   "cell_type": "code",
   "execution_count": 6,
   "id": "union-huntington",
   "metadata": {
    "execution": {
     "iopub.execute_input": "2021-09-29T04:00:09.849597Z",
     "iopub.status.busy": "2021-09-29T04:00:09.847162Z",
     "iopub.status.idle": "2021-09-29T04:00:09.853021Z",
     "shell.execute_reply": "2021-09-29T04:00:09.854282Z"
    },
    "papermill": {
     "duration": 0.042331,
     "end_time": "2021-09-29T04:00:09.854696",
     "exception": false,
     "start_time": "2021-09-29T04:00:09.812365",
     "status": "completed"
    },
    "tags": []
   },
   "outputs": [],
   "source": [
    "df_pivot.columns = [\"stamp_1\", \"stamp_2\"]\n",
    "df_pivot_diff = df_pivot.diff(axis=1)"
   ]
  },
  {
   "cell_type": "code",
   "execution_count": 7,
   "id": "fifth-motion",
   "metadata": {
    "execution": {
     "iopub.execute_input": "2021-09-29T04:00:09.909094Z",
     "iopub.status.busy": "2021-09-29T04:00:09.906626Z",
     "iopub.status.idle": "2021-09-29T04:00:11.383646Z",
     "shell.execute_reply": "2021-09-29T04:00:11.385031Z"
    },
    "papermill": {
     "duration": 1.510339,
     "end_time": "2021-09-29T04:00:11.385469",
     "exception": false,
     "start_time": "2021-09-29T04:00:09.875130",
     "status": "completed"
    },
    "tags": []
   },
   "outputs": [
    {
     "data": {
      "text/plain": [
       "<AxesSubplot:ylabel='PRODUCT'>"
      ]
     },
     "execution_count": 7,
     "metadata": {},
     "output_type": "execute_result"
    },
    {
     "data": {
      "image/png": "[encoded data removed]",
      "text/plain": [
       "<Figure size 432x288 with 1 Axes>"
      ]
     },
     "metadata": {
      "needs_background": "light"
     },
     "output_type": "display_data"
    }
   ],
   "source": [
    "df_pivot_diff.sort_values(\"stamp_2\", ascending = False)[\"stamp_2\"].head(10).plot.barh()"
   ]
  },
  {
   "cell_type": "code",
   "execution_count": null,
   "id": "extra-executive",
   "metadata": {
    "papermill": {
     "duration": 0.021944,
     "end_time": "2021-09-29T04:00:11.430459",
     "exception": false,
     "start_time": "2021-09-29T04:00:11.408515",
     "status": "completed"
    },
    "tags": []
   },
   "outputs": [],
   "source": []
  }
 ],
 "metadata": {
  "kernelspec": {
   "display_name": "Python 3",
   "language": "python",
   "name": "python3"
  },
  "language_info": {
   "codemirror_mode": {
    "name": "ipython",
    "version": 3
   },
   "file_extension": ".py",
   "mimetype": "text/x-python",
   "name": "python",
   "nbconvert_exporter": "python",
   "pygments_lexer": "ipython3",
   "version": "3.9.5"
  },
  "papermill": {
   "default_parameters": {},
   "duration": 7.827067,
   "end_time": "2021-09-29T04:00:13.022564",
   "environment_variables": {},
   "exception": null,
   "input_path": "eBay_Overview.ipynb",
   "output_path": "eBay_Overview.ipynb",
   "parameters": {},
   "start_time": "2021-09-29T04:00:05.195497",
   "version": "2.3.3"
  }
 },
 "nbformat": 4,
 "nbformat_minor": 5
}