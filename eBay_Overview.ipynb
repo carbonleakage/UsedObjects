{
 "cells": [
  {
   "cell_type": "code",
   "execution_count": 1,
   "id": "reverse-picking",
   "metadata": {
    "execution": {
     "iopub.execute_input": "2021-10-08T04:00:07.085017Z",
     "iopub.status.busy": "2021-10-08T04:00:07.083102Z",
     "iopub.status.idle": "2021-10-08T04:00:07.893808Z",
     "shell.execute_reply": "2021-10-08T04:00:07.895267Z"
    },
    "papermill": {
     "duration": 0.862971,
     "end_time": "2021-10-08T04:00:07.895913",
     "exception": false,
     "start_time": "2021-10-08T04:00:07.032942",
     "status": "completed"
    },
    "tags": []
   },
   "outputs": [],
   "source": [
    "import pandas as pd\n",
    "import sqlite3"
   ]
  },
  {
   "cell_type": "code",
   "execution_count": 2,
   "id": "innovative-syndrome",
   "metadata": {
    "execution": {
     "iopub.execute_input": "2021-10-08T04:00:07.948279Z",
     "iopub.status.busy": "2021-10-08T04:00:07.945886Z",
     "iopub.status.idle": "2021-10-08T04:00:08.424850Z",
     "shell.execute_reply": "2021-10-08T04:00:08.426115Z"
    },
    "papermill": {
     "duration": 0.509175,
     "end_time": "2021-10-08T04:00:08.426530",
     "exception": false,
     "start_time": "2021-10-08T04:00:07.917355",
     "status": "completed"
    },
    "tags": []
   },
   "outputs": [],
   "source": [
    "timestamps = pd.read_sql(\"select distinct record_time from EBAY_TOP_BERLIN order by record_time desc limit 2\", sqlite3.connect(\"UsedObjects.db\"))"
   ]
  },
  {
   "cell_type": "code",
   "execution_count": 3,
   "id": "periodic-identification",
   "metadata": {
    "execution": {
     "iopub.execute_input": "2021-10-08T04:00:08.491369Z",
     "iopub.status.busy": "2021-10-08T04:00:08.489276Z",
     "iopub.status.idle": "2021-10-08T04:00:08.509496Z",
     "shell.execute_reply": "2021-10-08T04:00:08.510771Z"
    },
    "papermill": {
     "duration": 0.064292,
     "end_time": "2021-10-08T04:00:08.511274",
     "exception": false,
     "start_time": "2021-10-08T04:00:08.446982",
     "status": "completed"
    },
    "tags": []
   },
   "outputs": [
    {
     "data": {
      "text/html": [
       "<div>\n",
       "<style scoped>\n",
       "    .dataframe tbody tr th:only-of-type {\n",
       "        vertical-align: middle;\n",
       "    }\n",
       "\n",
       "    .dataframe tbody tr th {\n",
       "        vertical-align: top;\n",
       "    }\n",
       "\n",
       "    .dataframe thead th {\n",
       "        text-align: right;\n",
       "    }\n",
       "</style>\n",
       "<table border=\"1\" class=\"dataframe\">\n",
       "  <thead>\n",
       "    <tr style=\"text-align: right;\">\n",
       "      <th></th>\n",
       "      <th>RECORD_TIME</th>\n",
       "    </tr>\n",
       "  </thead>\n",
       "  <tbody>\n",
       "    <tr>\n",
       "      <th>0</th>\n",
       "      <td>2021-10-08 06:00</td>\n",
       "    </tr>\n",
       "    <tr>\n",
       "      <th>1</th>\n",
       "      <td>2021-10-08 05:30</td>\n",
       "    </tr>\n",
       "  </tbody>\n",
       "</table>\n",
       "</div>"
      ],
      "text/plain": [
       "        RECORD_TIME\n",
       "0  2021-10-08 06:00\n",
       "1  2021-10-08 05:30"
      ]
     },
     "execution_count": 3,
     "metadata": {},
     "output_type": "execute_result"
    }
   ],
   "source": [
    "timestamps"
   ]
  },
  {
   "cell_type": "code",
   "execution_count": 4,
   "id": "alternate-victory",
   "metadata": {
    "execution": {
     "iopub.execute_input": "2021-10-08T04:00:08.563619Z",
     "iopub.status.busy": "2021-10-08T04:00:08.561259Z",
     "iopub.status.idle": "2021-10-08T04:00:09.261176Z",
     "shell.execute_reply": "2021-10-08T04:00:09.262374Z"
    },
    "papermill": {
     "duration": 0.730422,
     "end_time": "2021-10-08T04:00:09.262760",
     "exception": false,
     "start_time": "2021-10-08T04:00:08.532338",
     "status": "completed"
    },
    "tags": []
   },
   "outputs": [],
   "source": [
    "df = pd.read_sql(\"select * from EBAY_TOP_BERLIN where record_time in (select distinct record_time from EBAY_TOP_BERLIN order by record_time desc limit 2)\", sqlite3.connect(\"UsedObjects.db\"))"
   ]
  },
  {
   "cell_type": "code",
   "execution_count": 5,
   "id": "popular-active",
   "metadata": {
    "execution": {
     "iopub.execute_input": "2021-10-08T04:00:09.332306Z",
     "iopub.status.busy": "2021-10-08T04:00:09.320877Z",
     "iopub.status.idle": "2021-10-08T04:00:09.349401Z",
     "shell.execute_reply": "2021-10-08T04:00:09.350672Z"
    },
    "papermill": {
     "duration": 0.067634,
     "end_time": "2021-10-08T04:00:09.351137",
     "exception": false,
     "start_time": "2021-10-08T04:00:09.283503",
     "status": "completed"
    },
    "tags": []
   },
   "outputs": [],
   "source": [
    "df_pivot = df.pivot_table(index=\"PRODUCT\", columns = \"RECORD_TIME\", values = \"LISTING_COUNT\")"
   ]
  },
  {
   "cell_type": "code",
   "execution_count": 6,
   "id": "union-huntington",
   "metadata": {
    "execution": {
     "iopub.execute_input": "2021-10-08T04:00:09.407690Z",
     "iopub.status.busy": "2021-10-08T04:00:09.405607Z",
     "iopub.status.idle": "2021-10-08T04:00:09.411012Z",
     "shell.execute_reply": "2021-10-08T04:00:09.412198Z"
    },
    "papermill": {
     "duration": 0.041141,
     "end_time": "2021-10-08T04:00:09.412614",
     "exception": false,
     "start_time": "2021-10-08T04:00:09.371473",
     "status": "completed"
    },
    "tags": []
   },
   "outputs": [],
   "source": [
    "df_pivot.columns = [\"stamp_1\", \"stamp_2\"]\n",
    "df_pivot_diff = df_pivot.diff(axis=1)"
   ]
  },
  {
   "cell_type": "code",
   "execution_count": 7,
   "id": "fifth-motion",
   "metadata": {
    "execution": {
     "iopub.execute_input": "2021-10-08T04:00:09.470449Z",
     "iopub.status.busy": "2021-10-08T04:00:09.468100Z",
     "iopub.status.idle": "2021-10-08T04:00:10.992649Z",
     "shell.execute_reply": "2021-10-08T04:00:10.994396Z"
    },
    "papermill": {
     "duration": 1.559193,
     "end_time": "2021-10-08T04:00:10.994967",
     "exception": false,
     "start_time": "2021-10-08T04:00:09.435774",
     "status": "completed"
    },
    "tags": []
   },
   "outputs": [
    {
     "data": {
      "text/plain": [
       "<AxesSubplot:ylabel='PRODUCT'>"
      ]
     },
     "execution_count": 7,
     "metadata": {},
     "output_type": "execute_result"
    },
    {
     "data": {
      "image/png": "[encoded data removed]",
      "text/plain": [
       "<Figure size 432x288 with 1 Axes>"
      ]
     },
     "metadata": {
      "needs_background": "light"
     },
     "output_type": "display_data"
    }
   ],
   "source": [
    "df_pivot_diff.sort_values(\"stamp_2\", ascending = False)[\"stamp_2\"].head(10).plot.barh()"
   ]
  },
  {
   "cell_type": "code",
   "execution_count": null,
   "id": "extra-executive",
   "metadata": {
    "papermill": {
     "duration": 0.022536,
     "end_time": "2021-10-08T04:00:11.043481",
     "exception": false,
     "start_time": "2021-10-08T04:00:11.020945",
     "status": "completed"
    },
    "tags": []
   },
   "outputs": [],
   "source": []
  }
 ],
 "metadata": {
  "kernelspec": {
   "display_name": "Python 3",
   "language": "python",
   "name": "python3"
  },
  "language_info": {
   "codemirror_mode": {
    "name": "ipython",
    "version": 3
   },
   "file_extension": ".py",
   "mimetype": "text/x-python",
   "name": "python",
   "nbconvert_exporter": "python",
   "pygments_lexer": "ipython3",
   "version": "3.9.5"
  },
  "papermill": {
   "default_parameters": {},
   "duration": 7.847722,
   "end_time": "2021-10-08T04:00:12.458670",
   "environment_variables": {},
   "exception": null,
   "input_path": "eBay_Overview.ipynb",
   "output_path": "eBay_Overview.ipynb",
   "parameters": {},
   "start_time": "2021-10-08T04:00:04.610948",
   "version": "2.3.3"
  }
 },
 "nbformat": 4,
 "nbformat_minor": 5
}