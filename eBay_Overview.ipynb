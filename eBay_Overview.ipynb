{
 "cells": [
  {
   "cell_type": "code",
   "execution_count": 1,
   "id": "reverse-picking",
   "metadata": {
    "execution": {
     "iopub.execute_input": "2021-10-27T02:00:06.727705Z",
     "iopub.status.busy": "2021-10-27T02:00:06.725784Z",
     "iopub.status.idle": "2021-10-27T02:00:07.534220Z",
     "shell.execute_reply": "2021-10-27T02:00:07.532572Z"
    },
    "papermill": {
     "duration": 0.85704,
     "end_time": "2021-10-27T02:00:07.534623",
     "exception": false,
     "start_time": "2021-10-27T02:00:06.677583",
     "status": "completed"
    },
    "tags": []
   },
   "outputs": [],
   "source": [
    "import pandas as pd\n",
    "import sqlite3"
   ]
  },
  {
   "cell_type": "code",
   "execution_count": 2,
   "id": "innovative-syndrome",
   "metadata": {
    "execution": {
     "iopub.execute_input": "2021-10-27T02:00:07.586652Z",
     "iopub.status.busy": "2021-10-27T02:00:07.584368Z",
     "iopub.status.idle": "2021-10-27T02:00:08.232242Z",
     "shell.execute_reply": "2021-10-27T02:00:08.233562Z"
    },
    "papermill": {
     "duration": 0.677567,
     "end_time": "2021-10-27T02:00:08.233994",
     "exception": false,
     "start_time": "2021-10-27T02:00:07.556427",
     "status": "completed"
    },
    "tags": []
   },
   "outputs": [],
   "source": [
    "timestamps = pd.read_sql(\"select distinct record_time from EBAY_TOP_BERLIN order by record_time desc limit 2\", sqlite3.connect(\"UsedObjects.db\"))"
   ]
  },
  {
   "cell_type": "code",
   "execution_count": 3,
   "id": "periodic-identification",
   "metadata": {
    "execution": {
     "iopub.execute_input": "2021-10-27T02:00:08.314455Z",
     "iopub.status.busy": "2021-10-27T02:00:08.312363Z",
     "iopub.status.idle": "2021-10-27T02:00:08.332496Z",
     "shell.execute_reply": "2021-10-27T02:00:08.333986Z"
    },
    "papermill": {
     "duration": 0.070709,
     "end_time": "2021-10-27T02:00:08.334437",
     "exception": false,
     "start_time": "2021-10-27T02:00:08.263728",
     "status": "completed"
    },
    "tags": []
   },
   "outputs": [
    {
     "data": {
      "text/html": [
       "<div>\n",
       "<style scoped>\n",
       "    .dataframe tbody tr th:only-of-type {\n",
       "        vertical-align: middle;\n",
       "    }\n",
       "\n",
       "    .dataframe tbody tr th {\n",
       "        vertical-align: top;\n",
       "    }\n",
       "\n",
       "    .dataframe thead th {\n",
       "        text-align: right;\n",
       "    }\n",
       "</style>\n",
       "<table border=\"1\" class=\"dataframe\">\n",
       "  <thead>\n",
       "    <tr style=\"text-align: right;\">\n",
       "      <th></th>\n",
       "      <th>RECORD_TIME</th>\n",
       "    </tr>\n",
       "  </thead>\n",
       "  <tbody>\n",
       "    <tr>\n",
       "      <th>0</th>\n",
       "      <td>2021-10-27 04:00</td>\n",
       "    </tr>\n",
       "    <tr>\n",
       "      <th>1</th>\n",
       "      <td>2021-10-27 03:30</td>\n",
       "    </tr>\n",
       "  </tbody>\n",
       "</table>\n",
       "</div>"
      ],
      "text/plain": [
       "        RECORD_TIME\n",
       "0  2021-10-27 04:00\n",
       "1  2021-10-27 03:30"
      ]
     },
     "execution_count": 3,
     "metadata": {},
     "output_type": "execute_result"
    }
   ],
   "source": [
    "timestamps"
   ]
  },
  {
   "cell_type": "code",
   "execution_count": 4,
   "id": "alternate-victory",
   "metadata": {
    "execution": {
     "iopub.execute_input": "2021-10-27T02:00:08.385762Z",
     "iopub.status.busy": "2021-10-27T02:00:08.383842Z",
     "iopub.status.idle": "2021-10-27T02:00:09.357748Z",
     "shell.execute_reply": "2021-10-27T02:00:09.359130Z"
    },
    "papermill": {
     "duration": 1.00394,
     "end_time": "2021-10-27T02:00:09.359577",
     "exception": false,
     "start_time": "2021-10-27T02:00:08.355637",
     "status": "completed"
    },
    "tags": []
   },
   "outputs": [],
   "source": [
    "df = pd.read_sql(\"select * from EBAY_TOP_BERLIN where record_time in (select distinct record_time from EBAY_TOP_BERLIN order by record_time desc limit 2)\", sqlite3.connect(\"UsedObjects.db\"))"
   ]
  },
  {
   "cell_type": "code",
   "execution_count": 5,
   "id": "popular-active",
   "metadata": {
    "execution": {
     "iopub.execute_input": "2021-10-27T02:00:09.430329Z",
     "iopub.status.busy": "2021-10-27T02:00:09.418986Z",
     "iopub.status.idle": "2021-10-27T02:00:09.448672Z",
     "shell.execute_reply": "2021-10-27T02:00:09.447375Z"
    },
    "papermill": {
     "duration": 0.067844,
     "end_time": "2021-10-27T02:00:09.449217",
     "exception": false,
     "start_time": "2021-10-27T02:00:09.381373",
     "status": "completed"
    },
    "tags": []
   },
   "outputs": [],
   "source": [
    "df_pivot = df.pivot_table(index=\"PRODUCT\", columns = \"RECORD_TIME\", values = \"LISTING_COUNT\")"
   ]
  },
  {
   "cell_type": "code",
   "execution_count": 6,
   "id": "union-huntington",
   "metadata": {
    "execution": {
     "iopub.execute_input": "2021-10-27T02:00:09.508997Z",
     "iopub.status.busy": "2021-10-27T02:00:09.506502Z",
     "iopub.status.idle": "2021-10-27T02:00:09.512460Z",
     "shell.execute_reply": "2021-10-27T02:00:09.513913Z"
    },
    "papermill": {
     "duration": 0.042876,
     "end_time": "2021-10-27T02:00:09.514365",
     "exception": false,
     "start_time": "2021-10-27T02:00:09.471489",
     "status": "completed"
    },
    "tags": []
   },
   "outputs": [],
   "source": [
    "df_pivot.columns = [\"stamp_1\", \"stamp_2\"]\n",
    "df_pivot_diff = df_pivot.diff(axis=1)"
   ]
  },
  {
   "cell_type": "code",
   "execution_count": 7,
   "id": "fifth-motion",
   "metadata": {
    "execution": {
     "iopub.execute_input": "2021-10-27T02:00:09.568983Z",
     "iopub.status.busy": "2021-10-27T02:00:09.566641Z",
     "iopub.status.idle": "2021-10-27T02:00:11.042656Z",
     "shell.execute_reply": "2021-10-27T02:00:11.044001Z"
    },
    "papermill": {
     "duration": 1.508791,
     "end_time": "2021-10-27T02:00:11.044484",
     "exception": false,
     "start_time": "2021-10-27T02:00:09.535693",
     "status": "completed"
    },
    "tags": []
   },
   "outputs": [
    {
     "data": {
      "text/plain": [
       "<AxesSubplot:ylabel='PRODUCT'>"
      ]
     },
     "execution_count": 7,
     "metadata": {},
     "output_type": "execute_result"
    },
    {
     "data": {
      "image/png": "[encoded data removed]",
      "text/plain": [
       "<Figure size 432x288 with 1 Axes>"
      ]
     },
     "metadata": {
      "needs_background": "light"
     },
     "output_type": "display_data"
    }
   ],
   "source": [
    "df_pivot_diff.sort_values(\"stamp_2\", ascending = False)[\"stamp_2\"].head(10).plot.barh()"
   ]
  },
  {
   "cell_type": "code",
   "execution_count": null,
   "id": "extra-executive",
   "metadata": {
    "papermill": {
     "duration": 0.022348,
     "end_time": "2021-10-27T02:00:11.092378",
     "exception": false,
     "start_time": "2021-10-27T02:00:11.070030",
     "status": "completed"
    },
    "tags": []
   },
   "outputs": [],
   "source": []
  }
 ],
 "metadata": {
  "kernelspec": {
   "display_name": "Python 3",
   "language": "python",
   "name": "python3"
  },
  "language_info": {
   "codemirror_mode": {
    "name": "ipython",
    "version": 3
   },
   "file_extension": ".py",
   "mimetype": "text/x-python",
   "name": "python",
   "nbconvert_exporter": "python",
   "pygments_lexer": "ipython3",
   "version": "3.9.5"
  },
  "papermill": {
   "default_parameters": {},
   "duration": 7.459846,
   "end_time": "2021-10-27T02:00:11.737039",
   "environment_variables": {},
   "exception": null,
   "input_path": "eBay_Overview.ipynb",
   "output_path": "eBay_Overview.ipynb",
   "parameters": {},
   "start_time": "2021-10-27T02:00:04.277193",
   "version": "2.3.3"
  }
 },
 "nbformat": 4,
 "nbformat_minor": 5
}