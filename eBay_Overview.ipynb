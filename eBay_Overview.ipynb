{
 "cells": [
  {
   "cell_type": "code",
   "execution_count": 1,
   "id": "reverse-picking",
   "metadata": {
    "execution": {
     "iopub.execute_input": "2021-09-28T08:00:07.512899Z",
     "iopub.status.busy": "2021-09-28T08:00:07.510937Z",
     "iopub.status.idle": "2021-09-28T08:00:08.317641Z",
     "shell.execute_reply": "2021-09-28T08:00:08.318959Z"
    },
    "papermill": {
     "duration": 0.858704,
     "end_time": "2021-09-28T08:00:08.319598",
     "exception": false,
     "start_time": "2021-09-28T08:00:07.460894",
     "status": "completed"
    },
    "tags": []
   },
   "outputs": [],
   "source": [
    "import pandas as pd\n",
    "import sqlite3"
   ]
  },
  {
   "cell_type": "code",
   "execution_count": 2,
   "id": "innovative-syndrome",
   "metadata": {
    "execution": {
     "iopub.execute_input": "2021-09-28T08:00:08.371669Z",
     "iopub.status.busy": "2021-09-28T08:00:08.369652Z",
     "iopub.status.idle": "2021-09-28T08:00:08.773670Z",
     "shell.execute_reply": "2021-09-28T08:00:08.774933Z"
    },
    "papermill": {
     "duration": 0.433439,
     "end_time": "2021-09-28T08:00:08.775361",
     "exception": false,
     "start_time": "2021-09-28T08:00:08.341922",
     "status": "completed"
    },
    "tags": []
   },
   "outputs": [],
   "source": [
    "timestamps = pd.read_sql(\"select distinct record_time from EBAY_TOP_BERLIN order by record_time desc limit 2\", sqlite3.connect(\"UsedObjects.db\"))"
   ]
  },
  {
   "cell_type": "code",
   "execution_count": 3,
   "id": "periodic-identification",
   "metadata": {
    "execution": {
     "iopub.execute_input": "2021-09-28T08:00:08.841764Z",
     "iopub.status.busy": "2021-09-28T08:00:08.839738Z",
     "iopub.status.idle": "2021-09-28T08:00:08.861055Z",
     "shell.execute_reply": "2021-09-28T08:00:08.859683Z"
    },
    "papermill": {
     "duration": 0.064325,
     "end_time": "2021-09-28T08:00:08.861396",
     "exception": false,
     "start_time": "2021-09-28T08:00:08.797071",
     "status": "completed"
    },
    "tags": []
   },
   "outputs": [
    {
     "data": {
      "text/html": [
       "<div>\n",
       "<style scoped>\n",
       "    .dataframe tbody tr th:only-of-type {\n",
       "        vertical-align: middle;\n",
       "    }\n",
       "\n",
       "    .dataframe tbody tr th {\n",
       "        vertical-align: top;\n",
       "    }\n",
       "\n",
       "    .dataframe thead th {\n",
       "        text-align: right;\n",
       "    }\n",
       "</style>\n",
       "<table border=\"1\" class=\"dataframe\">\n",
       "  <thead>\n",
       "    <tr style=\"text-align: right;\">\n",
       "      <th></th>\n",
       "      <th>RECORD_TIME</th>\n",
       "    </tr>\n",
       "  </thead>\n",
       "  <tbody>\n",
       "    <tr>\n",
       "      <th>0</th>\n",
       "      <td>2021-09-28 10:00</td>\n",
       "    </tr>\n",
       "    <tr>\n",
       "      <th>1</th>\n",
       "      <td>2021-09-28 09:30</td>\n",
       "    </tr>\n",
       "  </tbody>\n",
       "</table>\n",
       "</div>"
      ],
      "text/plain": [
       "        RECORD_TIME\n",
       "0  2021-09-28 10:00\n",
       "1  2021-09-28 09:30"
      ]
     },
     "execution_count": 3,
     "metadata": {},
     "output_type": "execute_result"
    }
   ],
   "source": [
    "timestamps"
   ]
  },
  {
   "cell_type": "code",
   "execution_count": 4,
   "id": "alternate-victory",
   "metadata": {
    "execution": {
     "iopub.execute_input": "2021-09-28T08:00:08.915070Z",
     "iopub.status.busy": "2021-09-28T08:00:08.912742Z",
     "iopub.status.idle": "2021-09-28T08:00:09.506116Z",
     "shell.execute_reply": "2021-09-28T08:00:09.507410Z"
    },
    "papermill": {
     "duration": 0.623808,
     "end_time": "2021-09-28T08:00:09.507817",
     "exception": false,
     "start_time": "2021-09-28T08:00:08.884009",
     "status": "completed"
    },
    "tags": []
   },
   "outputs": [],
   "source": [
    "df = pd.read_sql(\"select * from EBAY_TOP_BERLIN where record_time in (select distinct record_time from EBAY_TOP_BERLIN order by record_time desc limit 2)\", sqlite3.connect(\"UsedObjects.db\"))"
   ]
  },
  {
   "cell_type": "code",
   "execution_count": 5,
   "id": "popular-active",
   "metadata": {
    "execution": {
     "iopub.execute_input": "2021-09-28T08:00:09.586570Z",
     "iopub.status.busy": "2021-09-28T08:00:09.575662Z",
     "iopub.status.idle": "2021-09-28T08:00:09.603757Z",
     "shell.execute_reply": "2021-09-28T08:00:09.605161Z"
    },
    "papermill": {
     "duration": 0.071805,
     "end_time": "2021-09-28T08:00:09.605609",
     "exception": false,
     "start_time": "2021-09-28T08:00:09.533804",
     "status": "completed"
    },
    "tags": []
   },
   "outputs": [],
   "source": [
    "df_pivot = df.pivot_table(index=\"PRODUCT\", columns = \"RECORD_TIME\", values = \"LISTING_COUNT\")"
   ]
  },
  {
   "cell_type": "code",
   "execution_count": 6,
   "id": "union-huntington",
   "metadata": {
    "execution": {
     "iopub.execute_input": "2021-09-28T08:00:09.662589Z",
     "iopub.status.busy": "2021-09-28T08:00:09.660285Z",
     "iopub.status.idle": "2021-09-28T08:00:09.666044Z",
     "shell.execute_reply": "2021-09-28T08:00:09.667458Z"
    },
    "papermill": {
     "duration": 0.042006,
     "end_time": "2021-09-28T08:00:09.667885",
     "exception": false,
     "start_time": "2021-09-28T08:00:09.625879",
     "status": "completed"
    },
    "tags": []
   },
   "outputs": [],
   "source": [
    "df_pivot.columns = [\"stamp_1\", \"stamp_2\"]\n",
    "df_pivot_diff = df_pivot.diff(axis=1)"
   ]
  },
  {
   "cell_type": "code",
   "execution_count": 7,
   "id": "fifth-motion",
   "metadata": {
    "execution": {
     "iopub.execute_input": "2021-09-28T08:00:09.722300Z",
     "iopub.status.busy": "2021-09-28T08:00:09.719999Z",
     "iopub.status.idle": "2021-09-28T08:00:11.204943Z",
     "shell.execute_reply": "2021-09-28T08:00:11.206234Z"
    },
    "papermill": {
     "duration": 1.518215,
     "end_time": "2021-09-28T08:00:11.206654",
     "exception": false,
     "start_time": "2021-09-28T08:00:09.688439",
     "status": "completed"
    },
    "tags": []
   },
   "outputs": [
    {
     "data": {
      "text/plain": [
       "<AxesSubplot:ylabel='PRODUCT'>"
      ]
     },
     "execution_count": 7,
     "metadata": {},
     "output_type": "execute_result"
    },
    {
     "data": {
      "image/png": "[encoded data removed]",
      "text/plain": [
       "<Figure size 432x288 with 1 Axes>"
      ]
     },
     "metadata": {
      "needs_background": "light"
     },
     "output_type": "display_data"
    }
   ],
   "source": [
    "df_pivot_diff.sort_values(\"stamp_2\", ascending = False)[\"stamp_2\"].head(10).plot.barh()"
   ]
  },
  {
   "cell_type": "code",
   "execution_count": null,
   "id": "extra-executive",
   "metadata": {
    "papermill": {
     "duration": 0.021994,
     "end_time": "2021-09-28T08:00:11.253314",
     "exception": false,
     "start_time": "2021-09-28T08:00:11.231320",
     "status": "completed"
    },
    "tags": []
   },
   "outputs": [],
   "source": []
  }
 ],
 "metadata": {
  "kernelspec": {
   "display_name": "Python 3",
   "language": "python",
   "name": "python3"
  },
  "language_info": {
   "codemirror_mode": {
    "name": "ipython",
    "version": 3
   },
   "file_extension": ".py",
   "mimetype": "text/x-python",
   "name": "python",
   "nbconvert_exporter": "python",
   "pygments_lexer": "ipython3",
   "version": "3.9.5"
  },
  "papermill": {
   "default_parameters": {},
   "duration": 7.837914,
   "end_time": "2021-09-28T08:00:12.880786",
   "environment_variables": {},
   "exception": null,
   "input_path": "eBay_Overview.ipynb",
   "output_path": "eBay_Overview.ipynb",
   "parameters": {},
   "start_time": "2021-09-28T08:00:05.042872",
   "version": "2.3.3"
  }
 },
 "nbformat": 4,
 "nbformat_minor": 5
}