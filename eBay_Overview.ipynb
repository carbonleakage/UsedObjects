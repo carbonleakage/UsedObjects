{
 "cells": [
  {
   "cell_type": "code",
   "execution_count": 1,
   "id": "reverse-picking",
   "metadata": {
    "execution": {
     "iopub.execute_input": "2021-08-09T22:30:03.932946Z",
     "iopub.status.busy": "2021-08-09T22:30:03.932184Z",
     "iopub.status.idle": "2021-08-09T22:30:05.003945Z",
     "shell.execute_reply": "2021-08-09T22:30:05.002531Z"
    },
    "papermill": {
     "duration": 1.090637,
     "end_time": "2021-08-09T22:30:05.004304",
     "exception": false,
     "start_time": "2021-08-09T22:30:03.913667",
     "status": "completed"
    },
    "tags": []
   },
   "outputs": [],
   "source": [
    "import pandas as pd\n",
    "import sqlite3"
   ]
  },
  {
   "cell_type": "code",
   "execution_count": 2,
   "id": "innovative-syndrome",
   "metadata": {
    "execution": {
     "iopub.execute_input": "2021-08-09T22:30:05.029737Z",
     "iopub.status.busy": "2021-08-09T22:30:05.028976Z",
     "iopub.status.idle": "2021-08-09T22:30:05.426905Z",
     "shell.execute_reply": "2021-08-09T22:30:05.425639Z"
    },
    "papermill": {
     "duration": 0.41219,
     "end_time": "2021-08-09T22:30:05.427129",
     "exception": false,
     "start_time": "2021-08-09T22:30:05.014939",
     "status": "completed"
    },
    "tags": []
   },
   "outputs": [],
   "source": [
    "timestamps = pd.read_sql(\"select distinct record_time from EBAY_TOP_BERLIN order by record_time desc limit 2\", sqlite3.connect(\"UsedObjects.db\"))"
   ]
  },
  {
   "cell_type": "code",
   "execution_count": 3,
   "id": "periodic-identification",
   "metadata": {
    "execution": {
     "iopub.execute_input": "2021-08-09T22:30:05.459946Z",
     "iopub.status.busy": "2021-08-09T22:30:05.458782Z",
     "iopub.status.idle": "2021-08-09T22:30:05.509909Z",
     "shell.execute_reply": "2021-08-09T22:30:05.510602Z"
    },
    "papermill": {
     "duration": 0.072597,
     "end_time": "2021-08-09T22:30:05.510807",
     "exception": false,
     "start_time": "2021-08-09T22:30:05.438210",
     "status": "completed"
    },
    "tags": []
   },
   "outputs": [
    {
     "data": {
      "text/html": [
       "<div>\n",
       "<style scoped>\n",
       "    .dataframe tbody tr th:only-of-type {\n",
       "        vertical-align: middle;\n",
       "    }\n",
       "\n",
       "    .dataframe tbody tr th {\n",
       "        vertical-align: top;\n",
       "    }\n",
       "\n",
       "    .dataframe thead th {\n",
       "        text-align: right;\n",
       "    }\n",
       "</style>\n",
       "<table border=\"1\" class=\"dataframe\">\n",
       "  <thead>\n",
       "    <tr style=\"text-align: right;\">\n",
       "      <th></th>\n",
       "      <th>RECORD_TIME</th>\n",
       "    </tr>\n",
       "  </thead>\n",
       "  <tbody>\n",
       "    <tr>\n",
       "      <th>0</th>\n",
       "      <td>2021-08-10 00:30</td>\n",
       "    </tr>\n",
       "    <tr>\n",
       "      <th>1</th>\n",
       "      <td>2021-08-10 00:00</td>\n",
       "    </tr>\n",
       "  </tbody>\n",
       "</table>\n",
       "</div>"
      ],
      "text/plain": [
       "        RECORD_TIME\n",
       "0  2021-08-10 00:30\n",
       "1  2021-08-10 00:00"
      ]
     },
     "execution_count": 3,
     "metadata": {},
     "output_type": "execute_result"
    }
   ],
   "source": [
    "timestamps"
   ]
  },
  {
   "cell_type": "code",
   "execution_count": 4,
   "id": "alternate-victory",
   "metadata": {
    "execution": {
     "iopub.execute_input": "2021-08-09T22:30:05.533619Z",
     "iopub.status.busy": "2021-08-09T22:30:05.532871Z",
     "iopub.status.idle": "2021-08-09T22:30:05.543004Z",
     "shell.execute_reply": "2021-08-09T22:30:05.543536Z"
    },
    "papermill": {
     "duration": 0.02442,
     "end_time": "2021-08-09T22:30:05.543721",
     "exception": false,
     "start_time": "2021-08-09T22:30:05.519301",
     "status": "completed"
    },
    "tags": []
   },
   "outputs": [],
   "source": [
    "df = pd.read_sql(\"select * from EBAY_TOP_BERLIN where record_time in (select distinct record_time from EBAY_TOP_BERLIN order by record_time desc limit 2)\", sqlite3.connect(\"UsedObjects.db\"))"
   ]
  },
  {
   "cell_type": "code",
   "execution_count": 5,
   "id": "popular-active",
   "metadata": {
    "execution": {
     "iopub.execute_input": "2021-08-09T22:30:05.569660Z",
     "iopub.status.busy": "2021-08-09T22:30:05.568876Z",
     "iopub.status.idle": "2021-08-09T22:30:05.657088Z",
     "shell.execute_reply": "2021-08-09T22:30:05.656132Z"
    },
    "papermill": {
     "duration": 0.104866,
     "end_time": "2021-08-09T22:30:05.657358",
     "exception": false,
     "start_time": "2021-08-09T22:30:05.552492",
     "status": "completed"
    },
    "tags": []
   },
   "outputs": [],
   "source": [
    "df_pivot = df.pivot_table(index=\"PRODUCT\", columns = \"RECORD_TIME\", values = \"LISTING_COUNT\")"
   ]
  },
  {
   "cell_type": "code",
   "execution_count": 6,
   "id": "union-huntington",
   "metadata": {
    "execution": {
     "iopub.execute_input": "2021-08-09T22:30:05.705950Z",
     "iopub.status.busy": "2021-08-09T22:30:05.699529Z",
     "iopub.status.idle": "2021-08-09T22:30:05.710115Z",
     "shell.execute_reply": "2021-08-09T22:30:05.709333Z"
    },
    "papermill": {
     "duration": 0.033718,
     "end_time": "2021-08-09T22:30:05.710277",
     "exception": false,
     "start_time": "2021-08-09T22:30:05.676559",
     "status": "completed"
    },
    "tags": []
   },
   "outputs": [],
   "source": [
    "df_pivot.columns = [\"stamp_1\", \"stamp_2\"]\n",
    "df_pivot_diff = df_pivot.diff(axis=1)"
   ]
  },
  {
   "cell_type": "code",
   "execution_count": 7,
   "id": "fifth-motion",
   "metadata": {
    "execution": {
     "iopub.execute_input": "2021-08-09T22:30:05.756441Z",
     "iopub.status.busy": "2021-08-09T22:30:05.753763Z",
     "iopub.status.idle": "2021-08-09T22:30:06.496035Z",
     "shell.execute_reply": "2021-08-09T22:30:06.496560Z"
    },
    "papermill": {
     "duration": 0.776408,
     "end_time": "2021-08-09T22:30:06.496740",
     "exception": false,
     "start_time": "2021-08-09T22:30:05.720332",
     "status": "completed"
    },
    "tags": []
   },
   "outputs": [
    {
     "data": {
      "text/plain": [
       "<AxesSubplot:ylabel='PRODUCT'>"
      ]
     },
     "execution_count": 7,
     "metadata": {},
     "output_type": "execute_result"
    },
    {
     "data": {
      "image/png": "[encoded data removed]",
      "text/plain": [
       "<Figure size 432x288 with 1 Axes>"
      ]
     },
     "metadata": {
      "needs_background": "light"
     },
     "output_type": "display_data"
    }
   ],
   "source": [
    "df_pivot_diff.sort_values(\"stamp_2\", ascending = False)[\"stamp_2\"].head(10).plot.barh()"
   ]
  },
  {
   "cell_type": "code",
   "execution_count": null,
   "id": "extra-executive",
   "metadata": {
    "papermill": {
     "duration": 0.009691,
     "end_time": "2021-08-09T22:30:06.521187",
     "exception": false,
     "start_time": "2021-08-09T22:30:06.511496",
     "status": "completed"
    },
    "tags": []
   },
   "outputs": [],
   "source": []
  }
 ],
 "metadata": {
  "kernelspec": {
   "display_name": "Python 3",
   "language": "python",
   "name": "python3"
  },
  "language_info": {
   "codemirror_mode": {
    "name": "ipython",
    "version": 3
   },
   "file_extension": ".py",
   "mimetype": "text/x-python",
   "name": "python",
   "nbconvert_exporter": "python",
   "pygments_lexer": "ipython3",
   "version": "3.8.8"
  },
  "papermill": {
   "default_parameters": {},
   "duration": 6.088432,
   "end_time": "2021-08-09T22:30:08.326160",
   "environment_variables": {},
   "exception": null,
   "input_path": "/Users/saravananshanmugam/Carbonleakage_Git/UsedObjects/eBay_Overview.ipynb",
   "output_path": "/Users/saravananshanmugam/Carbonleakage_Git/UsedObjects/eBay_Overview.ipynb",
   "parameters": {},
   "start_time": "2021-08-09T22:30:02.237728",
   "version": "2.3.3"
  }
 },
 "nbformat": 4,
 "nbformat_minor": 5
}