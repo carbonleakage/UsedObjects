{
 "cells": [
  {
   "cell_type": "code",
   "execution_count": 1,
   "id": "reverse-picking",
   "metadata": {
    "execution": {
     "iopub.execute_input": "2021-11-26T14:00:07.797804Z",
     "iopub.status.busy": "2021-11-26T14:00:07.795349Z",
     "iopub.status.idle": "2021-11-26T14:00:08.762011Z",
     "shell.execute_reply": "2021-11-26T14:00:08.763529Z"
    },
    "papermill": {
     "duration": 1.016618,
     "end_time": "2021-11-26T14:00:08.764266",
     "exception": false,
     "start_time": "2021-11-26T14:00:07.747648",
     "status": "completed"
    },
    "tags": []
   },
   "outputs": [],
   "source": [
    "import pandas as pd\n",
    "import sqlite3"
   ]
  },
  {
   "cell_type": "code",
   "execution_count": 2,
   "id": "innovative-syndrome",
   "metadata": {
    "execution": {
     "iopub.execute_input": "2021-11-26T14:00:08.826289Z",
     "iopub.status.busy": "2021-11-26T14:00:08.823559Z",
     "iopub.status.idle": "2021-11-26T14:00:09.719686Z",
     "shell.execute_reply": "2021-11-26T14:00:09.720990Z"
    },
    "papermill": {
     "duration": 0.929516,
     "end_time": "2021-11-26T14:00:09.721420",
     "exception": false,
     "start_time": "2021-11-26T14:00:08.791904",
     "status": "completed"
    },
    "tags": []
   },
   "outputs": [],
   "source": [
    "timestamps = pd.read_sql(\"select distinct record_time from EBAY_TOP_BERLIN order by record_time desc limit 2\", sqlite3.connect(\"UsedObjects.db\"))"
   ]
  },
  {
   "cell_type": "code",
   "execution_count": 3,
   "id": "periodic-identification",
   "metadata": {
    "execution": {
     "iopub.execute_input": "2021-11-26T14:00:09.786749Z",
     "iopub.status.busy": "2021-11-26T14:00:09.784247Z",
     "iopub.status.idle": "2021-11-26T14:00:09.804295Z",
     "shell.execute_reply": "2021-11-26T14:00:09.805531Z"
    },
    "papermill": {
     "duration": 0.064329,
     "end_time": "2021-11-26T14:00:09.805957",
     "exception": false,
     "start_time": "2021-11-26T14:00:09.741628",
     "status": "completed"
    },
    "tags": []
   },
   "outputs": [
    {
     "data": {
      "text/html": [
       "<div>\n",
       "<style scoped>\n",
       "    .dataframe tbody tr th:only-of-type {\n",
       "        vertical-align: middle;\n",
       "    }\n",
       "\n",
       "    .dataframe tbody tr th {\n",
       "        vertical-align: top;\n",
       "    }\n",
       "\n",
       "    .dataframe thead th {\n",
       "        text-align: right;\n",
       "    }\n",
       "</style>\n",
       "<table border=\"1\" class=\"dataframe\">\n",
       "  <thead>\n",
       "    <tr style=\"text-align: right;\">\n",
       "      <th></th>\n",
       "      <th>RECORD_TIME</th>\n",
       "    </tr>\n",
       "  </thead>\n",
       "  <tbody>\n",
       "    <tr>\n",
       "      <th>0</th>\n",
       "      <td>2021-11-26 15:00</td>\n",
       "    </tr>\n",
       "    <tr>\n",
       "      <th>1</th>\n",
       "      <td>2021-11-26 14:30</td>\n",
       "    </tr>\n",
       "  </tbody>\n",
       "</table>\n",
       "</div>"
      ],
      "text/plain": [
       "        RECORD_TIME\n",
       "0  2021-11-26 15:00\n",
       "1  2021-11-26 14:30"
      ]
     },
     "execution_count": 3,
     "metadata": {},
     "output_type": "execute_result"
    }
   ],
   "source": [
    "timestamps"
   ]
  },
  {
   "cell_type": "code",
   "execution_count": 4,
   "id": "alternate-victory",
   "metadata": {
    "execution": {
     "iopub.execute_input": "2021-11-26T14:00:09.861379Z",
     "iopub.status.busy": "2021-11-26T14:00:09.859200Z",
     "iopub.status.idle": "2021-11-26T14:00:11.200737Z",
     "shell.execute_reply": "2021-11-26T14:00:11.202328Z"
    },
    "papermill": {
     "duration": 1.374067,
     "end_time": "2021-11-26T14:00:11.202825",
     "exception": false,
     "start_time": "2021-11-26T14:00:09.828758",
     "status": "completed"
    },
    "tags": []
   },
   "outputs": [],
   "source": [
    "df = pd.read_sql(\"select * from EBAY_TOP_BERLIN where record_time in (select distinct record_time from EBAY_TOP_BERLIN order by record_time desc limit 2)\", sqlite3.connect(\"UsedObjects.db\"))"
   ]
  },
  {
   "cell_type": "code",
   "execution_count": 5,
   "id": "popular-active",
   "metadata": {
    "execution": {
     "iopub.execute_input": "2021-11-26T14:00:11.272607Z",
     "iopub.status.busy": "2021-11-26T14:00:11.269931Z",
     "iopub.status.idle": "2021-11-26T14:00:11.303432Z",
     "shell.execute_reply": "2021-11-26T14:00:11.305015Z"
    },
    "papermill": {
     "duration": 0.081148,
     "end_time": "2021-11-26T14:00:11.305442",
     "exception": false,
     "start_time": "2021-11-26T14:00:11.224294",
     "status": "completed"
    },
    "tags": []
   },
   "outputs": [],
   "source": [
    "df_pivot = df.pivot_table(index=\"PRODUCT\", columns = \"RECORD_TIME\", values = \"LISTING_COUNT\")"
   ]
  },
  {
   "cell_type": "code",
   "execution_count": 6,
   "id": "union-huntington",
   "metadata": {
    "execution": {
     "iopub.execute_input": "2021-11-26T14:00:11.366043Z",
     "iopub.status.busy": "2021-11-26T14:00:11.363764Z",
     "iopub.status.idle": "2021-11-26T14:00:11.371037Z",
     "shell.execute_reply": "2021-11-26T14:00:11.369480Z"
    },
    "papermill": {
     "duration": 0.043192,
     "end_time": "2021-11-26T14:00:11.371433",
     "exception": false,
     "start_time": "2021-11-26T14:00:11.328241",
     "status": "completed"
    },
    "tags": []
   },
   "outputs": [],
   "source": [
    "df_pivot.columns = [\"stamp_1\", \"stamp_2\"]\n",
    "df_pivot_diff = df_pivot.diff(axis=1)"
   ]
  },
  {
   "cell_type": "code",
   "execution_count": 7,
   "id": "fifth-motion",
   "metadata": {
    "execution": {
     "iopub.execute_input": "2021-11-26T14:00:11.425704Z",
     "iopub.status.busy": "2021-11-26T14:00:11.423276Z",
     "iopub.status.idle": "2021-11-26T14:00:13.477348Z",
     "shell.execute_reply": "2021-11-26T14:00:13.478808Z"
    },
    "papermill": {
     "duration": 2.088089,
     "end_time": "2021-11-26T14:00:13.479330",
     "exception": false,
     "start_time": "2021-11-26T14:00:11.391241",
     "status": "completed"
    },
    "tags": []
   },
   "outputs": [
    {
     "data": {
      "text/plain": [
       "<AxesSubplot:ylabel='PRODUCT'>"
      ]
     },
     "execution_count": 7,
     "metadata": {},
     "output_type": "execute_result"
    },
    {
     "data": {
      "image/png": "[encoded data removed]",
      "text/plain": [
       "<Figure size 432x288 with 1 Axes>"
      ]
     },
     "metadata": {
      "needs_background": "light"
     },
     "output_type": "display_data"
    }
   ],
   "source": [
    "df_pivot_diff.sort_values(\"stamp_2\", ascending = False)[\"stamp_2\"].head(10).plot.barh()"
   ]
  },
  {
   "cell_type": "code",
   "execution_count": null,
   "id": "extra-executive",
   "metadata": {
    "papermill": {
     "duration": 0.024022,
     "end_time": "2021-11-26T14:00:13.527627",
     "exception": false,
     "start_time": "2021-11-26T14:00:13.503605",
     "status": "completed"
    },
    "tags": []
   },
   "outputs": [],
   "source": []
  }
 ],
 "metadata": {
  "kernelspec": {
   "display_name": "Python 3",
   "language": "python",
   "name": "python3"
  },
  "language_info": {
   "codemirror_mode": {
    "name": "ipython",
    "version": 3
   },
   "file_extension": ".py",
   "mimetype": "text/x-python",
   "name": "python",
   "nbconvert_exporter": "python",
   "pygments_lexer": "ipython3",
   "version": "3.9.5"
  },
  "papermill": {
   "default_parameters": {},
   "duration": 9.933171,
   "end_time": "2021-11-26T14:00:14.957615",
   "environment_variables": {},
   "exception": null,
   "input_path": "eBay_Overview.ipynb",
   "output_path": "eBay_Overview.ipynb",
   "parameters": {},
   "start_time": "2021-11-26T14:00:05.024444",
   "version": "2.3.3"
  }
 },
 "nbformat": 4,
 "nbformat_minor": 5
}