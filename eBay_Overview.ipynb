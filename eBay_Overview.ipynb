{
 "cells": [
  {
   "cell_type": "code",
   "execution_count": 1,
   "id": "reverse-picking",
   "metadata": {
    "execution": {
     "iopub.execute_input": "2021-08-28T00:00:06.629764Z",
     "iopub.status.busy": "2021-08-28T00:00:06.627747Z",
     "iopub.status.idle": "2021-08-28T00:00:07.429330Z",
     "shell.execute_reply": "2021-08-28T00:00:07.430594Z"
    },
    "papermill": {
     "duration": 0.852303,
     "end_time": "2021-08-28T00:00:07.431213",
     "exception": false,
     "start_time": "2021-08-28T00:00:06.578910",
     "status": "completed"
    },
    "tags": []
   },
   "outputs": [],
   "source": [
    "import pandas as pd\n",
    "import sqlite3"
   ]
  },
  {
   "cell_type": "code",
   "execution_count": 2,
   "id": "innovative-syndrome",
   "metadata": {
    "execution": {
     "iopub.execute_input": "2021-08-28T00:00:07.482258Z",
     "iopub.status.busy": "2021-08-28T00:00:07.480365Z",
     "iopub.status.idle": "2021-08-28T00:00:07.623908Z",
     "shell.execute_reply": "2021-08-28T00:00:07.625098Z"
    },
    "papermill": {
     "duration": 0.172748,
     "end_time": "2021-08-28T00:00:07.625519",
     "exception": false,
     "start_time": "2021-08-28T00:00:07.452771",
     "status": "completed"
    },
    "tags": []
   },
   "outputs": [],
   "source": [
    "timestamps = pd.read_sql(\"select distinct record_time from EBAY_TOP_BERLIN order by record_time desc limit 2\", sqlite3.connect(\"UsedObjects.db\"))"
   ]
  },
  {
   "cell_type": "code",
   "execution_count": 3,
   "id": "periodic-identification",
   "metadata": {
    "execution": {
     "iopub.execute_input": "2021-08-28T00:00:07.695806Z",
     "iopub.status.busy": "2021-08-28T00:00:07.690546Z",
     "iopub.status.idle": "2021-08-28T00:00:07.712751Z",
     "shell.execute_reply": "2021-08-28T00:00:07.714135Z"
    },
    "papermill": {
     "duration": 0.067447,
     "end_time": "2021-08-28T00:00:07.714616",
     "exception": false,
     "start_time": "2021-08-28T00:00:07.647169",
     "status": "completed"
    },
    "tags": []
   },
   "outputs": [
    {
     "data": {
      "text/html": [
       "<div>\n",
       "<style scoped>\n",
       "    .dataframe tbody tr th:only-of-type {\n",
       "        vertical-align: middle;\n",
       "    }\n",
       "\n",
       "    .dataframe tbody tr th {\n",
       "        vertical-align: top;\n",
       "    }\n",
       "\n",
       "    .dataframe thead th {\n",
       "        text-align: right;\n",
       "    }\n",
       "</style>\n",
       "<table border=\"1\" class=\"dataframe\">\n",
       "  <thead>\n",
       "    <tr style=\"text-align: right;\">\n",
       "      <th></th>\n",
       "      <th>RECORD_TIME</th>\n",
       "    </tr>\n",
       "  </thead>\n",
       "  <tbody>\n",
       "    <tr>\n",
       "      <th>0</th>\n",
       "      <td>2021-08-28 02:00</td>\n",
       "    </tr>\n",
       "    <tr>\n",
       "      <th>1</th>\n",
       "      <td>2021-08-28 01:30</td>\n",
       "    </tr>\n",
       "  </tbody>\n",
       "</table>\n",
       "</div>"
      ],
      "text/plain": [
       "        RECORD_TIME\n",
       "0  2021-08-28 02:00\n",
       "1  2021-08-28 01:30"
      ]
     },
     "execution_count": 3,
     "metadata": {},
     "output_type": "execute_result"
    }
   ],
   "source": [
    "timestamps"
   ]
  },
  {
   "cell_type": "code",
   "execution_count": 4,
   "id": "alternate-victory",
   "metadata": {
    "execution": {
     "iopub.execute_input": "2021-08-28T00:00:07.766422Z",
     "iopub.status.busy": "2021-08-28T00:00:07.764391Z",
     "iopub.status.idle": "2021-08-28T00:00:07.978326Z",
     "shell.execute_reply": "2021-08-28T00:00:07.979593Z"
    },
    "papermill": {
     "duration": 0.244172,
     "end_time": "2021-08-28T00:00:07.980005",
     "exception": false,
     "start_time": "2021-08-28T00:00:07.735833",
     "status": "completed"
    },
    "tags": []
   },
   "outputs": [],
   "source": [
    "df = pd.read_sql(\"select * from EBAY_TOP_BERLIN where record_time in (select distinct record_time from EBAY_TOP_BERLIN order by record_time desc limit 2)\", sqlite3.connect(\"UsedObjects.db\"))"
   ]
  },
  {
   "cell_type": "code",
   "execution_count": 5,
   "id": "popular-active",
   "metadata": {
    "execution": {
     "iopub.execute_input": "2021-08-28T00:00:08.045503Z",
     "iopub.status.busy": "2021-08-28T00:00:08.038279Z",
     "iopub.status.idle": "2021-08-28T00:00:08.066355Z",
     "shell.execute_reply": "2021-08-28T00:00:08.067562Z"
    },
    "papermill": {
     "duration": 0.067073,
     "end_time": "2021-08-28T00:00:08.067957",
     "exception": false,
     "start_time": "2021-08-28T00:00:08.000884",
     "status": "completed"
    },
    "tags": []
   },
   "outputs": [],
   "source": [
    "df_pivot = df.pivot_table(index=\"PRODUCT\", columns = \"RECORD_TIME\", values = \"LISTING_COUNT\")"
   ]
  },
  {
   "cell_type": "code",
   "execution_count": 6,
   "id": "union-huntington",
   "metadata": {
    "execution": {
     "iopub.execute_input": "2021-08-28T00:00:08.131327Z",
     "iopub.status.busy": "2021-08-28T00:00:08.129194Z",
     "iopub.status.idle": "2021-08-28T00:00:08.134199Z",
     "shell.execute_reply": "2021-08-28T00:00:08.135485Z"
    },
    "papermill": {
     "duration": 0.042419,
     "end_time": "2021-08-28T00:00:08.135895",
     "exception": false,
     "start_time": "2021-08-28T00:00:08.093476",
     "status": "completed"
    },
    "tags": []
   },
   "outputs": [],
   "source": [
    "df_pivot.columns = [\"stamp_1\", \"stamp_2\"]\n",
    "df_pivot_diff = df_pivot.diff(axis=1)"
   ]
  },
  {
   "cell_type": "code",
   "execution_count": 7,
   "id": "fifth-motion",
   "metadata": {
    "execution": {
     "iopub.execute_input": "2021-08-28T00:00:08.191630Z",
     "iopub.status.busy": "2021-08-28T00:00:08.189001Z",
     "iopub.status.idle": "2021-08-28T00:00:09.657256Z",
     "shell.execute_reply": "2021-08-28T00:00:09.658624Z"
    },
    "papermill": {
     "duration": 1.501922,
     "end_time": "2021-08-28T00:00:09.659071",
     "exception": false,
     "start_time": "2021-08-28T00:00:08.157149",
     "status": "completed"
    },
    "tags": []
   },
   "outputs": [
    {
     "data": {
      "text/plain": [
       "<AxesSubplot:ylabel='PRODUCT'>"
      ]
     },
     "execution_count": 7,
     "metadata": {},
     "output_type": "execute_result"
    },
    {
     "data": {
      "image/png": "[encoded data removed]",
      "text/plain": [
       "<Figure size 432x288 with 1 Axes>"
      ]
     },
     "metadata": {
      "needs_background": "light"
     },
     "output_type": "display_data"
    }
   ],
   "source": [
    "df_pivot_diff.sort_values(\"stamp_2\", ascending = False)[\"stamp_2\"].head(10).plot.barh()"
   ]
  },
  {
   "cell_type": "code",
   "execution_count": null,
   "id": "extra-executive",
   "metadata": {
    "papermill": {
     "duration": 0.022018,
     "end_time": "2021-08-28T00:00:09.705354",
     "exception": false,
     "start_time": "2021-08-28T00:00:09.683336",
     "status": "completed"
    },
    "tags": []
   },
   "outputs": [],
   "source": []
  }
 ],
 "metadata": {
  "kernelspec": {
   "display_name": "Python 3",
   "language": "python",
   "name": "python3"
  },
  "language_info": {
   "codemirror_mode": {
    "name": "ipython",
    "version": 3
   },
   "file_extension": ".py",
   "mimetype": "text/x-python",
   "name": "python",
   "nbconvert_exporter": "python",
   "pygments_lexer": "ipython3",
   "version": "3.9.5"
  },
  "papermill": {
   "default_parameters": {},
   "duration": 6.817581,
   "end_time": "2021-08-28T00:00:11.003937",
   "environment_variables": {},
   "exception": null,
   "input_path": "eBay_Overview.ipynb",
   "output_path": "eBay_Overview.ipynb",
   "parameters": {},
   "start_time": "2021-08-28T00:00:04.186356",
   "version": "2.3.3"
  }
 },
 "nbformat": 4,
 "nbformat_minor": 5
}