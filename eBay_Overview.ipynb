{
 "cells": [
  {
   "cell_type": "code",
   "execution_count": 1,
   "id": "reverse-picking",
   "metadata": {
    "execution": {
     "iopub.execute_input": "2021-09-06T18:00:06.920796Z",
     "iopub.status.busy": "2021-09-06T18:00:06.918732Z",
     "iopub.status.idle": "2021-09-06T18:00:07.729280Z",
     "shell.execute_reply": "2021-09-06T18:00:07.727503Z"
    },
    "papermill": {
     "duration": 0.859722,
     "end_time": "2021-09-06T18:00:07.729711",
     "exception": false,
     "start_time": "2021-09-06T18:00:06.869989",
     "status": "completed"
    },
    "tags": []
   },
   "outputs": [],
   "source": [
    "import pandas as pd\n",
    "import sqlite3"
   ]
  },
  {
   "cell_type": "code",
   "execution_count": 2,
   "id": "innovative-syndrome",
   "metadata": {
    "execution": {
     "iopub.execute_input": "2021-09-06T18:00:07.780967Z",
     "iopub.status.busy": "2021-09-06T18:00:07.778434Z",
     "iopub.status.idle": "2021-09-06T18:00:07.999029Z",
     "shell.execute_reply": "2021-09-06T18:00:08.000255Z"
    },
    "papermill": {
     "duration": 0.250511,
     "end_time": "2021-09-06T18:00:08.000649",
     "exception": false,
     "start_time": "2021-09-06T18:00:07.750138",
     "status": "completed"
    },
    "tags": []
   },
   "outputs": [],
   "source": [
    "timestamps = pd.read_sql(\"select distinct record_time from EBAY_TOP_BERLIN order by record_time desc limit 2\", sqlite3.connect(\"UsedObjects.db\"))"
   ]
  },
  {
   "cell_type": "code",
   "execution_count": 3,
   "id": "periodic-identification",
   "metadata": {
    "execution": {
     "iopub.execute_input": "2021-09-06T18:00:08.064641Z",
     "iopub.status.busy": "2021-09-06T18:00:08.062492Z",
     "iopub.status.idle": "2021-09-06T18:00:08.082663Z",
     "shell.execute_reply": "2021-09-06T18:00:08.084036Z"
    },
    "papermill": {
     "duration": 0.064462,
     "end_time": "2021-09-06T18:00:08.084463",
     "exception": false,
     "start_time": "2021-09-06T18:00:08.020001",
     "status": "completed"
    },
    "tags": []
   },
   "outputs": [
    {
     "data": {
      "text/html": [
       "<div>\n",
       "<style scoped>\n",
       "    .dataframe tbody tr th:only-of-type {\n",
       "        vertical-align: middle;\n",
       "    }\n",
       "\n",
       "    .dataframe tbody tr th {\n",
       "        vertical-align: top;\n",
       "    }\n",
       "\n",
       "    .dataframe thead th {\n",
       "        text-align: right;\n",
       "    }\n",
       "</style>\n",
       "<table border=\"1\" class=\"dataframe\">\n",
       "  <thead>\n",
       "    <tr style=\"text-align: right;\">\n",
       "      <th></th>\n",
       "      <th>RECORD_TIME</th>\n",
       "    </tr>\n",
       "  </thead>\n",
       "  <tbody>\n",
       "    <tr>\n",
       "      <th>0</th>\n",
       "      <td>2021-09-06 20:00</td>\n",
       "    </tr>\n",
       "    <tr>\n",
       "      <th>1</th>\n",
       "      <td>2021-09-06 19:30</td>\n",
       "    </tr>\n",
       "  </tbody>\n",
       "</table>\n",
       "</div>"
      ],
      "text/plain": [
       "        RECORD_TIME\n",
       "0  2021-09-06 20:00\n",
       "1  2021-09-06 19:30"
      ]
     },
     "execution_count": 3,
     "metadata": {},
     "output_type": "execute_result"
    }
   ],
   "source": [
    "timestamps"
   ]
  },
  {
   "cell_type": "code",
   "execution_count": 4,
   "id": "alternate-victory",
   "metadata": {
    "execution": {
     "iopub.execute_input": "2021-09-06T18:00:08.137490Z",
     "iopub.status.busy": "2021-09-06T18:00:08.135479Z",
     "iopub.status.idle": "2021-09-06T18:00:08.468926Z",
     "shell.execute_reply": "2021-09-06T18:00:08.470218Z"
    },
    "papermill": {
     "duration": 0.363966,
     "end_time": "2021-09-06T18:00:08.470629",
     "exception": false,
     "start_time": "2021-09-06T18:00:08.106663",
     "status": "completed"
    },
    "tags": []
   },
   "outputs": [],
   "source": [
    "df = pd.read_sql(\"select * from EBAY_TOP_BERLIN where record_time in (select distinct record_time from EBAY_TOP_BERLIN order by record_time desc limit 2)\", sqlite3.connect(\"UsedObjects.db\"))"
   ]
  },
  {
   "cell_type": "code",
   "execution_count": 5,
   "id": "popular-active",
   "metadata": {
    "execution": {
     "iopub.execute_input": "2021-09-06T18:00:08.550578Z",
     "iopub.status.busy": "2021-09-06T18:00:08.538300Z",
     "iopub.status.idle": "2021-09-06T18:00:08.566141Z",
     "shell.execute_reply": "2021-09-06T18:00:08.567425Z"
    },
    "papermill": {
     "duration": 0.071715,
     "end_time": "2021-09-06T18:00:08.567824",
     "exception": false,
     "start_time": "2021-09-06T18:00:08.496109",
     "status": "completed"
    },
    "tags": []
   },
   "outputs": [],
   "source": [
    "df_pivot = df.pivot_table(index=\"PRODUCT\", columns = \"RECORD_TIME\", values = \"LISTING_COUNT\")"
   ]
  },
  {
   "cell_type": "code",
   "execution_count": 6,
   "id": "union-huntington",
   "metadata": {
    "execution": {
     "iopub.execute_input": "2021-09-06T18:00:08.624170Z",
     "iopub.status.busy": "2021-09-06T18:00:08.621984Z",
     "iopub.status.idle": "2021-09-06T18:00:08.627717Z",
     "shell.execute_reply": "2021-09-06T18:00:08.629110Z"
    },
    "papermill": {
     "duration": 0.041013,
     "end_time": "2021-09-06T18:00:08.629542",
     "exception": false,
     "start_time": "2021-09-06T18:00:08.588529",
     "status": "completed"
    },
    "tags": []
   },
   "outputs": [],
   "source": [
    "df_pivot.columns = [\"stamp_1\", \"stamp_2\"]\n",
    "df_pivot_diff = df_pivot.diff(axis=1)"
   ]
  },
  {
   "cell_type": "code",
   "execution_count": 7,
   "id": "fifth-motion",
   "metadata": {
    "execution": {
     "iopub.execute_input": "2021-09-06T18:00:08.684151Z",
     "iopub.status.busy": "2021-09-06T18:00:08.681609Z",
     "iopub.status.idle": "2021-09-06T18:00:10.185845Z",
     "shell.execute_reply": "2021-09-06T18:00:10.187236Z"
    },
    "papermill": {
     "duration": 1.537509,
     "end_time": "2021-09-06T18:00:10.187697",
     "exception": false,
     "start_time": "2021-09-06T18:00:08.650188",
     "status": "completed"
    },
    "tags": []
   },
   "outputs": [
    {
     "data": {
      "text/plain": [
       "<AxesSubplot:ylabel='PRODUCT'>"
      ]
     },
     "execution_count": 7,
     "metadata": {},
     "output_type": "execute_result"
    },
    {
     "data": {
      "image/png": "[encoded data removed]",
      "text/plain": [
       "<Figure size 432x288 with 1 Axes>"
      ]
     },
     "metadata": {
      "needs_background": "light"
     },
     "output_type": "display_data"
    }
   ],
   "source": [
    "df_pivot_diff.sort_values(\"stamp_2\", ascending = False)[\"stamp_2\"].head(10).plot.barh()"
   ]
  },
  {
   "cell_type": "code",
   "execution_count": null,
   "id": "extra-executive",
   "metadata": {
    "papermill": {
     "duration": 0.022171,
     "end_time": "2021-09-06T18:00:10.233953",
     "exception": false,
     "start_time": "2021-09-06T18:00:10.211782",
     "status": "completed"
    },
    "tags": []
   },
   "outputs": [],
   "source": []
  }
 ],
 "metadata": {
  "kernelspec": {
   "display_name": "Python 3",
   "language": "python",
   "name": "python3"
  },
  "language_info": {
   "codemirror_mode": {
    "name": "ipython",
    "version": 3
   },
   "file_extension": ".py",
   "mimetype": "text/x-python",
   "name": "python",
   "nbconvert_exporter": "python",
   "pygments_lexer": "ipython3",
   "version": "3.9.5"
  },
  "papermill": {
   "default_parameters": {},
   "duration": 6.414285,
   "end_time": "2021-09-06T18:00:10.874310",
   "environment_variables": {},
   "exception": null,
   "input_path": "eBay_Overview.ipynb",
   "output_path": "eBay_Overview.ipynb",
   "parameters": {},
   "start_time": "2021-09-06T18:00:04.460025",
   "version": "2.3.3"
  }
 },
 "nbformat": 4,
 "nbformat_minor": 5
}