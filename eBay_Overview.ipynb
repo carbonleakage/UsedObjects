{
 "cells": [
  {
   "cell_type": "code",
   "execution_count": 1,
   "id": "reverse-picking",
   "metadata": {
    "execution": {
     "iopub.execute_input": "2021-12-18T09:30:07.317281Z",
     "iopub.status.busy": "2021-12-18T09:30:07.314709Z",
     "iopub.status.idle": "2021-12-18T09:30:08.274018Z",
     "shell.execute_reply": "2021-12-18T09:30:08.275503Z"
    },
    "papermill": {
     "duration": 1.009639,
     "end_time": "2021-12-18T09:30:08.276236",
     "exception": false,
     "start_time": "2021-12-18T09:30:07.266597",
     "status": "completed"
    },
    "tags": []
   },
   "outputs": [],
   "source": [
    "import pandas as pd\n",
    "import sqlite3"
   ]
  },
  {
   "cell_type": "code",
   "execution_count": 2,
   "id": "innovative-syndrome",
   "metadata": {
    "execution": {
     "iopub.execute_input": "2021-12-18T09:30:08.343059Z",
     "iopub.status.busy": "2021-12-18T09:30:08.340744Z",
     "iopub.status.idle": "2021-12-18T09:30:09.458516Z",
     "shell.execute_reply": "2021-12-18T09:30:09.459739Z"
    },
    "papermill": {
     "duration": 1.154346,
     "end_time": "2021-12-18T09:30:09.460144",
     "exception": false,
     "start_time": "2021-12-18T09:30:08.305798",
     "status": "completed"
    },
    "tags": []
   },
   "outputs": [],
   "source": [
    "timestamps = pd.read_sql(\"select distinct record_time from EBAY_TOP_BERLIN order by record_time desc limit 2\", sqlite3.connect(\"UsedObjects.db\"))"
   ]
  },
  {
   "cell_type": "code",
   "execution_count": 3,
   "id": "periodic-identification",
   "metadata": {
    "execution": {
     "iopub.execute_input": "2021-12-18T09:30:09.525494Z",
     "iopub.status.busy": "2021-12-18T09:30:09.523356Z",
     "iopub.status.idle": "2021-12-18T09:30:09.543778Z",
     "shell.execute_reply": "2021-12-18T09:30:09.545326Z"
    },
    "papermill": {
     "duration": 0.06581,
     "end_time": "2021-12-18T09:30:09.545810",
     "exception": false,
     "start_time": "2021-12-18T09:30:09.480000",
     "status": "completed"
    },
    "tags": []
   },
   "outputs": [
    {
     "data": {
      "text/html": [
       "<div>\n",
       "<style scoped>\n",
       "    .dataframe tbody tr th:only-of-type {\n",
       "        vertical-align: middle;\n",
       "    }\n",
       "\n",
       "    .dataframe tbody tr th {\n",
       "        vertical-align: top;\n",
       "    }\n",
       "\n",
       "    .dataframe thead th {\n",
       "        text-align: right;\n",
       "    }\n",
       "</style>\n",
       "<table border=\"1\" class=\"dataframe\">\n",
       "  <thead>\n",
       "    <tr style=\"text-align: right;\">\n",
       "      <th></th>\n",
       "      <th>RECORD_TIME</th>\n",
       "    </tr>\n",
       "  </thead>\n",
       "  <tbody>\n",
       "    <tr>\n",
       "      <th>0</th>\n",
       "      <td>2021-12-18 10:30</td>\n",
       "    </tr>\n",
       "    <tr>\n",
       "      <th>1</th>\n",
       "      <td>2021-12-18 10:00</td>\n",
       "    </tr>\n",
       "  </tbody>\n",
       "</table>\n",
       "</div>"
      ],
      "text/plain": [
       "        RECORD_TIME\n",
       "0  2021-12-18 10:30\n",
       "1  2021-12-18 10:00"
      ]
     },
     "execution_count": 3,
     "metadata": {},
     "output_type": "execute_result"
    }
   ],
   "source": [
    "timestamps"
   ]
  },
  {
   "cell_type": "code",
   "execution_count": 4,
   "id": "alternate-victory",
   "metadata": {
    "execution": {
     "iopub.execute_input": "2021-12-18T09:30:09.597417Z",
     "iopub.status.busy": "2021-12-18T09:30:09.595451Z",
     "iopub.status.idle": "2021-12-18T09:30:11.192363Z",
     "shell.execute_reply": "2021-12-18T09:30:11.193910Z"
    },
    "papermill": {
     "duration": 1.627175,
     "end_time": "2021-12-18T09:30:11.194396",
     "exception": false,
     "start_time": "2021-12-18T09:30:09.567221",
     "status": "completed"
    },
    "tags": []
   },
   "outputs": [],
   "source": [
    "df = pd.read_sql(\"select * from EBAY_TOP_BERLIN where record_time in (select distinct record_time from EBAY_TOP_BERLIN order by record_time desc limit 2)\", sqlite3.connect(\"UsedObjects.db\"))"
   ]
  },
  {
   "cell_type": "code",
   "execution_count": 5,
   "id": "popular-active",
   "metadata": {
    "execution": {
     "iopub.execute_input": "2021-12-18T09:30:11.268733Z",
     "iopub.status.busy": "2021-12-18T09:30:11.254964Z",
     "iopub.status.idle": "2021-12-18T09:30:11.289094Z",
     "shell.execute_reply": "2021-12-18T09:30:11.290514Z"
    },
    "papermill": {
     "duration": 0.075554,
     "end_time": "2021-12-18T09:30:11.291004",
     "exception": false,
     "start_time": "2021-12-18T09:30:11.215450",
     "status": "completed"
    },
    "tags": []
   },
   "outputs": [],
   "source": [
    "df_pivot = df.pivot_table(index=\"PRODUCT\", columns = \"RECORD_TIME\", values = \"LISTING_COUNT\")"
   ]
  },
  {
   "cell_type": "code",
   "execution_count": 6,
   "id": "union-huntington",
   "metadata": {
    "execution": {
     "iopub.execute_input": "2021-12-18T09:30:11.351336Z",
     "iopub.status.busy": "2021-12-18T09:30:11.349111Z",
     "iopub.status.idle": "2021-12-18T09:30:11.353979Z",
     "shell.execute_reply": "2021-12-18T09:30:11.355443Z"
    },
    "papermill": {
     "duration": 0.042971,
     "end_time": "2021-12-18T09:30:11.355908",
     "exception": false,
     "start_time": "2021-12-18T09:30:11.312937",
     "status": "completed"
    },
    "tags": []
   },
   "outputs": [],
   "source": [
    "df_pivot.columns = [\"stamp_1\", \"stamp_2\"]\n",
    "df_pivot_diff = df_pivot.diff(axis=1)"
   ]
  },
  {
   "cell_type": "code",
   "execution_count": 7,
   "id": "fifth-motion",
   "metadata": {
    "execution": {
     "iopub.execute_input": "2021-12-18T09:30:11.411968Z",
     "iopub.status.busy": "2021-12-18T09:30:11.409342Z",
     "iopub.status.idle": "2021-12-18T09:30:13.430059Z",
     "shell.execute_reply": "2021-12-18T09:30:13.431432Z"
    },
    "papermill": {
     "duration": 2.055668,
     "end_time": "2021-12-18T09:30:13.431862",
     "exception": false,
     "start_time": "2021-12-18T09:30:11.376194",
     "status": "completed"
    },
    "tags": []
   },
   "outputs": [
    {
     "data": {
      "text/plain": [
       "<AxesSubplot:ylabel='PRODUCT'>"
      ]
     },
     "execution_count": 7,
     "metadata": {},
     "output_type": "execute_result"
    },
    {
     "data": {
      "image/png": "[encoded data removed]",
      "text/plain": [
       "<Figure size 432x288 with 1 Axes>"
      ]
     },
     "metadata": {
      "needs_background": "light"
     },
     "output_type": "display_data"
    }
   ],
   "source": [
    "df_pivot_diff.sort_values(\"stamp_2\", ascending = False)[\"stamp_2\"].head(10).plot.barh()"
   ]
  },
  {
   "cell_type": "code",
   "execution_count": null,
   "id": "extra-executive",
   "metadata": {
    "papermill": {
     "duration": 0.021998,
     "end_time": "2021-12-18T09:30:13.477611",
     "exception": false,
     "start_time": "2021-12-18T09:30:13.455613",
     "status": "completed"
    },
    "tags": []
   },
   "outputs": [],
   "source": []
  }
 ],
 "metadata": {
  "kernelspec": {
   "display_name": "Python 3",
   "language": "python",
   "name": "python3"
  },
  "language_info": {
   "codemirror_mode": {
    "name": "ipython",
    "version": 3
   },
   "file_extension": ".py",
   "mimetype": "text/x-python",
   "name": "python",
   "nbconvert_exporter": "python",
   "pygments_lexer": "ipython3",
   "version": "3.9.5"
  },
  "papermill": {
   "default_parameters": {},
   "duration": 9.584109,
   "end_time": "2021-12-18T09:30:14.120085",
   "environment_variables": {},
   "exception": null,
   "input_path": "eBay_Overview.ipynb",
   "output_path": "eBay_Overview.ipynb",
   "parameters": {},
   "start_time": "2021-12-18T09:30:04.535976",
   "version": "2.3.3"
  }
 },
 "nbformat": 4,
 "nbformat_minor": 5
}