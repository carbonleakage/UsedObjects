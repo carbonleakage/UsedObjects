{
 "cells": [
  {
   "cell_type": "code",
   "execution_count": 1,
   "id": "reverse-picking",
   "metadata": {
    "execution": {
     "iopub.execute_input": "2021-11-13T11:30:08.044962Z",
     "iopub.status.busy": "2021-11-13T11:30:08.042171Z",
     "iopub.status.idle": "2021-11-13T11:30:08.981893Z",
     "shell.execute_reply": "2021-11-13T11:30:08.983598Z"
    },
    "papermill": {
     "duration": 0.993492,
     "end_time": "2021-11-13T11:30:08.984403",
     "exception": false,
     "start_time": "2021-11-13T11:30:07.990911",
     "status": "completed"
    },
    "tags": []
   },
   "outputs": [],
   "source": [
    "import pandas as pd\n",
    "import sqlite3"
   ]
  },
  {
   "cell_type": "code",
   "execution_count": 2,
   "id": "innovative-syndrome",
   "metadata": {
    "execution": {
     "iopub.execute_input": "2021-11-13T11:30:09.045512Z",
     "iopub.status.busy": "2021-11-13T11:30:09.043059Z",
     "iopub.status.idle": "2021-11-13T11:30:09.856295Z",
     "shell.execute_reply": "2021-11-13T11:30:09.857853Z"
    },
    "papermill": {
     "duration": 0.84673,
     "end_time": "2021-11-13T11:30:09.858364",
     "exception": false,
     "start_time": "2021-11-13T11:30:09.011634",
     "status": "completed"
    },
    "tags": []
   },
   "outputs": [],
   "source": [
    "timestamps = pd.read_sql(\"select distinct record_time from EBAY_TOP_BERLIN order by record_time desc limit 2\", sqlite3.connect(\"UsedObjects.db\"))"
   ]
  },
  {
   "cell_type": "code",
   "execution_count": 3,
   "id": "periodic-identification",
   "metadata": {
    "execution": {
     "iopub.execute_input": "2021-11-13T11:30:09.929791Z",
     "iopub.status.busy": "2021-11-13T11:30:09.927318Z",
     "iopub.status.idle": "2021-11-13T11:30:09.953977Z",
     "shell.execute_reply": "2021-11-13T11:30:09.952200Z"
    },
    "papermill": {
     "duration": 0.075706,
     "end_time": "2021-11-13T11:30:09.954503",
     "exception": false,
     "start_time": "2021-11-13T11:30:09.878797",
     "status": "completed"
    },
    "tags": []
   },
   "outputs": [
    {
     "data": {
      "text/html": [
       "<div>\n",
       "<style scoped>\n",
       "    .dataframe tbody tr th:only-of-type {\n",
       "        vertical-align: middle;\n",
       "    }\n",
       "\n",
       "    .dataframe tbody tr th {\n",
       "        vertical-align: top;\n",
       "    }\n",
       "\n",
       "    .dataframe thead th {\n",
       "        text-align: right;\n",
       "    }\n",
       "</style>\n",
       "<table border=\"1\" class=\"dataframe\">\n",
       "  <thead>\n",
       "    <tr style=\"text-align: right;\">\n",
       "      <th></th>\n",
       "      <th>RECORD_TIME</th>\n",
       "    </tr>\n",
       "  </thead>\n",
       "  <tbody>\n",
       "    <tr>\n",
       "      <th>0</th>\n",
       "      <td>2021-11-13 12:30</td>\n",
       "    </tr>\n",
       "    <tr>\n",
       "      <th>1</th>\n",
       "      <td>2021-11-13 12:00</td>\n",
       "    </tr>\n",
       "  </tbody>\n",
       "</table>\n",
       "</div>"
      ],
      "text/plain": [
       "        RECORD_TIME\n",
       "0  2021-11-13 12:30\n",
       "1  2021-11-13 12:00"
      ]
     },
     "execution_count": 3,
     "metadata": {},
     "output_type": "execute_result"
    }
   ],
   "source": [
    "timestamps"
   ]
  },
  {
   "cell_type": "code",
   "execution_count": 4,
   "id": "alternate-victory",
   "metadata": {
    "execution": {
     "iopub.execute_input": "2021-11-13T11:30:10.010602Z",
     "iopub.status.busy": "2021-11-13T11:30:10.008381Z",
     "iopub.status.idle": "2021-11-13T11:30:11.201278Z",
     "shell.execute_reply": "2021-11-13T11:30:11.202921Z"
    },
    "papermill": {
     "duration": 1.226545,
     "end_time": "2021-11-13T11:30:11.203421",
     "exception": false,
     "start_time": "2021-11-13T11:30:09.976876",
     "status": "completed"
    },
    "tags": []
   },
   "outputs": [],
   "source": [
    "df = pd.read_sql(\"select * from EBAY_TOP_BERLIN where record_time in (select distinct record_time from EBAY_TOP_BERLIN order by record_time desc limit 2)\", sqlite3.connect(\"UsedObjects.db\"))"
   ]
  },
  {
   "cell_type": "code",
   "execution_count": 5,
   "id": "popular-active",
   "metadata": {
    "execution": {
     "iopub.execute_input": "2021-11-13T11:30:11.285195Z",
     "iopub.status.busy": "2021-11-13T11:30:11.269720Z",
     "iopub.status.idle": "2021-11-13T11:30:11.302392Z",
     "shell.execute_reply": "2021-11-13T11:30:11.304102Z"
    },
    "papermill": {
     "duration": 0.077828,
     "end_time": "2021-11-13T11:30:11.304794",
     "exception": false,
     "start_time": "2021-11-13T11:30:11.226966",
     "status": "completed"
    },
    "tags": []
   },
   "outputs": [],
   "source": [
    "df_pivot = df.pivot_table(index=\"PRODUCT\", columns = \"RECORD_TIME\", values = \"LISTING_COUNT\")"
   ]
  },
  {
   "cell_type": "code",
   "execution_count": 6,
   "id": "union-huntington",
   "metadata": {
    "execution": {
     "iopub.execute_input": "2021-11-13T11:30:11.364208Z",
     "iopub.status.busy": "2021-11-13T11:30:11.361886Z",
     "iopub.status.idle": "2021-11-13T11:30:11.367500Z",
     "shell.execute_reply": "2021-11-13T11:30:11.369221Z"
    },
    "papermill": {
     "duration": 0.044103,
     "end_time": "2021-11-13T11:30:11.369697",
     "exception": false,
     "start_time": "2021-11-13T11:30:11.325594",
     "status": "completed"
    },
    "tags": []
   },
   "outputs": [],
   "source": [
    "df_pivot.columns = [\"stamp_1\", \"stamp_2\"]\n",
    "df_pivot_diff = df_pivot.diff(axis=1)"
   ]
  },
  {
   "cell_type": "code",
   "execution_count": 7,
   "id": "fifth-motion",
   "metadata": {
    "execution": {
     "iopub.execute_input": "2021-11-13T11:30:11.428951Z",
     "iopub.status.busy": "2021-11-13T11:30:11.426371Z",
     "iopub.status.idle": "2021-11-13T11:30:13.343471Z",
     "shell.execute_reply": "2021-11-13T11:30:13.344939Z"
    },
    "papermill": {
     "duration": 1.954715,
     "end_time": "2021-11-13T11:30:13.345432",
     "exception": false,
     "start_time": "2021-11-13T11:30:11.390717",
     "status": "completed"
    },
    "tags": []
   },
   "outputs": [
    {
     "data": {
      "text/plain": [
       "<AxesSubplot:ylabel='PRODUCT'>"
      ]
     },
     "execution_count": 7,
     "metadata": {},
     "output_type": "execute_result"
    },
    {
     "data": {
      "image/png": "[encoded data removed]",
      "text/plain": [
       "<Figure size 432x288 with 1 Axes>"
      ]
     },
     "metadata": {
      "needs_background": "light"
     },
     "output_type": "display_data"
    }
   ],
   "source": [
    "df_pivot_diff.sort_values(\"stamp_2\", ascending = False)[\"stamp_2\"].head(10).plot.barh()"
   ]
  },
  {
   "cell_type": "code",
   "execution_count": null,
   "id": "extra-executive",
   "metadata": {
    "papermill": {
     "duration": 0.023617,
     "end_time": "2021-11-13T11:30:13.393105",
     "exception": false,
     "start_time": "2021-11-13T11:30:13.369488",
     "status": "completed"
    },
    "tags": []
   },
   "outputs": [],
   "source": []
  }
 ],
 "metadata": {
  "kernelspec": {
   "display_name": "Python 3",
   "language": "python",
   "name": "python3"
  },
  "language_info": {
   "codemirror_mode": {
    "name": "ipython",
    "version": 3
   },
   "file_extension": ".py",
   "mimetype": "text/x-python",
   "name": "python",
   "nbconvert_exporter": "python",
   "pygments_lexer": "ipython3",
   "version": "3.9.5"
  },
  "papermill": {
   "default_parameters": {},
   "duration": 9.940776,
   "end_time": "2021-11-13T11:30:15.229439",
   "environment_variables": {},
   "exception": null,
   "input_path": "eBay_Overview.ipynb",
   "output_path": "eBay_Overview.ipynb",
   "parameters": {},
   "start_time": "2021-11-13T11:30:05.288663",
   "version": "2.3.3"
  }
 },
 "nbformat": 4,
 "nbformat_minor": 5
}