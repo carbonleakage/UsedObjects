{
 "cells": [
  {
   "cell_type": "code",
   "execution_count": 1,
   "id": "reverse-picking",
   "metadata": {
    "execution": {
     "iopub.execute_input": "2021-09-17T16:30:07.474245Z",
     "iopub.status.busy": "2021-09-17T16:30:07.472351Z",
     "iopub.status.idle": "2021-09-17T16:30:08.276073Z",
     "shell.execute_reply": "2021-09-17T16:30:08.277379Z"
    },
    "papermill": {
     "duration": 0.855583,
     "end_time": "2021-09-17T16:30:08.278068",
     "exception": false,
     "start_time": "2021-09-17T16:30:07.422485",
     "status": "completed"
    },
    "tags": []
   },
   "outputs": [],
   "source": [
    "import pandas as pd\n",
    "import sqlite3"
   ]
  },
  {
   "cell_type": "code",
   "execution_count": 2,
   "id": "innovative-syndrome",
   "metadata": {
    "execution": {
     "iopub.execute_input": "2021-09-17T16:30:08.328905Z",
     "iopub.status.busy": "2021-09-17T16:30:08.326520Z",
     "iopub.status.idle": "2021-09-17T16:30:08.631612Z",
     "shell.execute_reply": "2021-09-17T16:30:08.632814Z"
    },
    "papermill": {
     "duration": 0.334838,
     "end_time": "2021-09-17T16:30:08.633202",
     "exception": false,
     "start_time": "2021-09-17T16:30:08.298364",
     "status": "completed"
    },
    "tags": []
   },
   "outputs": [],
   "source": [
    "timestamps = pd.read_sql(\"select distinct record_time from EBAY_TOP_BERLIN order by record_time desc limit 2\", sqlite3.connect(\"UsedObjects.db\"))"
   ]
  },
  {
   "cell_type": "code",
   "execution_count": 3,
   "id": "periodic-identification",
   "metadata": {
    "execution": {
     "iopub.execute_input": "2021-09-17T16:30:08.697276Z",
     "iopub.status.busy": "2021-09-17T16:30:08.695281Z",
     "iopub.status.idle": "2021-09-17T16:30:08.714888Z",
     "shell.execute_reply": "2021-09-17T16:30:08.716040Z"
    },
    "papermill": {
     "duration": 0.063911,
     "end_time": "2021-09-17T16:30:08.716442",
     "exception": false,
     "start_time": "2021-09-17T16:30:08.652531",
     "status": "completed"
    },
    "tags": []
   },
   "outputs": [
    {
     "data": {
      "text/html": [
       "<div>\n",
       "<style scoped>\n",
       "    .dataframe tbody tr th:only-of-type {\n",
       "        vertical-align: middle;\n",
       "    }\n",
       "\n",
       "    .dataframe tbody tr th {\n",
       "        vertical-align: top;\n",
       "    }\n",
       "\n",
       "    .dataframe thead th {\n",
       "        text-align: right;\n",
       "    }\n",
       "</style>\n",
       "<table border=\"1\" class=\"dataframe\">\n",
       "  <thead>\n",
       "    <tr style=\"text-align: right;\">\n",
       "      <th></th>\n",
       "      <th>RECORD_TIME</th>\n",
       "    </tr>\n",
       "  </thead>\n",
       "  <tbody>\n",
       "    <tr>\n",
       "      <th>0</th>\n",
       "      <td>2021-09-17 18:30</td>\n",
       "    </tr>\n",
       "    <tr>\n",
       "      <th>1</th>\n",
       "      <td>2021-09-17 18:00</td>\n",
       "    </tr>\n",
       "  </tbody>\n",
       "</table>\n",
       "</div>"
      ],
      "text/plain": [
       "        RECORD_TIME\n",
       "0  2021-09-17 18:30\n",
       "1  2021-09-17 18:00"
      ]
     },
     "execution_count": 3,
     "metadata": {},
     "output_type": "execute_result"
    }
   ],
   "source": [
    "timestamps"
   ]
  },
  {
   "cell_type": "code",
   "execution_count": 4,
   "id": "alternate-victory",
   "metadata": {
    "execution": {
     "iopub.execute_input": "2021-09-17T16:30:08.770652Z",
     "iopub.status.busy": "2021-09-17T16:30:08.768409Z",
     "iopub.status.idle": "2021-09-17T16:30:09.237422Z",
     "shell.execute_reply": "2021-09-17T16:30:09.238700Z"
    },
    "papermill": {
     "duration": 0.499508,
     "end_time": "2021-09-17T16:30:09.239191",
     "exception": false,
     "start_time": "2021-09-17T16:30:08.739683",
     "status": "completed"
    },
    "tags": []
   },
   "outputs": [],
   "source": [
    "df = pd.read_sql(\"select * from EBAY_TOP_BERLIN where record_time in (select distinct record_time from EBAY_TOP_BERLIN order by record_time desc limit 2)\", sqlite3.connect(\"UsedObjects.db\"))"
   ]
  },
  {
   "cell_type": "code",
   "execution_count": 5,
   "id": "popular-active",
   "metadata": {
    "execution": {
     "iopub.execute_input": "2021-09-17T16:30:09.319949Z",
     "iopub.status.busy": "2021-09-17T16:30:09.307525Z",
     "iopub.status.idle": "2021-09-17T16:30:09.336504Z",
     "shell.execute_reply": "2021-09-17T16:30:09.337865Z"
    },
    "papermill": {
     "duration": 0.073223,
     "end_time": "2021-09-17T16:30:09.338297",
     "exception": false,
     "start_time": "2021-09-17T16:30:09.265074",
     "status": "completed"
    },
    "tags": []
   },
   "outputs": [],
   "source": [
    "df_pivot = df.pivot_table(index=\"PRODUCT\", columns = \"RECORD_TIME\", values = \"LISTING_COUNT\")"
   ]
  },
  {
   "cell_type": "code",
   "execution_count": 6,
   "id": "union-huntington",
   "metadata": {
    "execution": {
     "iopub.execute_input": "2021-09-17T16:30:09.397757Z",
     "iopub.status.busy": "2021-09-17T16:30:09.395372Z",
     "iopub.status.idle": "2021-09-17T16:30:09.401326Z",
     "shell.execute_reply": "2021-09-17T16:30:09.402591Z"
    },
    "papermill": {
     "duration": 0.042257,
     "end_time": "2021-09-17T16:30:09.403039",
     "exception": false,
     "start_time": "2021-09-17T16:30:09.360782",
     "status": "completed"
    },
    "tags": []
   },
   "outputs": [],
   "source": [
    "df_pivot.columns = [\"stamp_1\", \"stamp_2\"]\n",
    "df_pivot_diff = df_pivot.diff(axis=1)"
   ]
  },
  {
   "cell_type": "code",
   "execution_count": 7,
   "id": "fifth-motion",
   "metadata": {
    "execution": {
     "iopub.execute_input": "2021-09-17T16:30:09.457727Z",
     "iopub.status.busy": "2021-09-17T16:30:09.455448Z",
     "iopub.status.idle": "2021-09-17T16:30:10.924350Z",
     "shell.execute_reply": "2021-09-17T16:30:10.925620Z"
    },
    "papermill": {
     "duration": 1.502317,
     "end_time": "2021-09-17T16:30:10.926030",
     "exception": false,
     "start_time": "2021-09-17T16:30:09.423713",
     "status": "completed"
    },
    "tags": []
   },
   "outputs": [
    {
     "data": {
      "text/plain": [
       "<AxesSubplot:ylabel='PRODUCT'>"
      ]
     },
     "execution_count": 7,
     "metadata": {},
     "output_type": "execute_result"
    },
    {
     "data": {
      "image/png": "[encoded data removed]",
      "text/plain": [
       "<Figure size 432x288 with 1 Axes>"
      ]
     },
     "metadata": {
      "needs_background": "light"
     },
     "output_type": "display_data"
    }
   ],
   "source": [
    "df_pivot_diff.sort_values(\"stamp_2\", ascending = False)[\"stamp_2\"].head(10).plot.barh()"
   ]
  },
  {
   "cell_type": "code",
   "execution_count": null,
   "id": "extra-executive",
   "metadata": {
    "papermill": {
     "duration": 0.022019,
     "end_time": "2021-09-17T16:30:10.972302",
     "exception": false,
     "start_time": "2021-09-17T16:30:10.950283",
     "status": "completed"
    },
    "tags": []
   },
   "outputs": [],
   "source": []
  }
 ],
 "metadata": {
  "kernelspec": {
   "display_name": "Python 3",
   "language": "python",
   "name": "python3"
  },
  "language_info": {
   "codemirror_mode": {
    "name": "ipython",
    "version": 3
   },
   "file_extension": ".py",
   "mimetype": "text/x-python",
   "name": "python",
   "nbconvert_exporter": "python",
   "pygments_lexer": "ipython3",
   "version": "3.9.5"
  },
  "papermill": {
   "default_parameters": {},
   "duration": 6.585507,
   "end_time": "2021-09-17T16:30:11.614409",
   "environment_variables": {},
   "exception": null,
   "input_path": "eBay_Overview.ipynb",
   "output_path": "eBay_Overview.ipynb",
   "parameters": {},
   "start_time": "2021-09-17T16:30:05.028902",
   "version": "2.3.3"
  }
 },
 "nbformat": 4,
 "nbformat_minor": 5
}