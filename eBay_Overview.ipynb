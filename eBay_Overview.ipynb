{
 "cells": [
  {
   "cell_type": "code",
   "execution_count": 1,
   "id": "reverse-picking",
   "metadata": {
    "execution": {
     "iopub.execute_input": "2021-12-19T04:30:07.817374Z",
     "iopub.status.busy": "2021-12-19T04:30:07.814840Z",
     "iopub.status.idle": "2021-12-19T04:30:08.773258Z",
     "shell.execute_reply": "2021-12-19T04:30:08.774802Z"
    },
    "papermill": {
     "duration": 1.00859,
     "end_time": "2021-12-19T04:30:08.775634",
     "exception": false,
     "start_time": "2021-12-19T04:30:07.767044",
     "status": "completed"
    },
    "tags": []
   },
   "outputs": [],
   "source": [
    "import pandas as pd\n",
    "import sqlite3"
   ]
  },
  {
   "cell_type": "code",
   "execution_count": 2,
   "id": "innovative-syndrome",
   "metadata": {
    "execution": {
     "iopub.execute_input": "2021-12-19T04:30:08.853403Z",
     "iopub.status.busy": "2021-12-19T04:30:08.850811Z",
     "iopub.status.idle": "2021-12-19T04:30:09.969981Z",
     "shell.execute_reply": "2021-12-19T04:30:09.971269Z"
    },
    "papermill": {
     "duration": 1.157089,
     "end_time": "2021-12-19T04:30:09.971772",
     "exception": false,
     "start_time": "2021-12-19T04:30:08.814683",
     "status": "completed"
    },
    "tags": []
   },
   "outputs": [],
   "source": [
    "timestamps = pd.read_sql(\"select distinct record_time from EBAY_TOP_BERLIN order by record_time desc limit 2\", sqlite3.connect(\"UsedObjects.db\"))"
   ]
  },
  {
   "cell_type": "code",
   "execution_count": 3,
   "id": "periodic-identification",
   "metadata": {
    "execution": {
     "iopub.execute_input": "2021-12-19T04:30:10.031980Z",
     "iopub.status.busy": "2021-12-19T04:30:10.030405Z",
     "iopub.status.idle": "2021-12-19T04:30:10.066627Z",
     "shell.execute_reply": "2021-12-19T04:30:10.069383Z"
    },
    "papermill": {
     "duration": 0.077345,
     "end_time": "2021-12-19T04:30:10.069862",
     "exception": false,
     "start_time": "2021-12-19T04:30:09.992517",
     "status": "completed"
    },
    "tags": []
   },
   "outputs": [
    {
     "data": {
      "text/html": [
       "<div>\n",
       "<style scoped>\n",
       "    .dataframe tbody tr th:only-of-type {\n",
       "        vertical-align: middle;\n",
       "    }\n",
       "\n",
       "    .dataframe tbody tr th {\n",
       "        vertical-align: top;\n",
       "    }\n",
       "\n",
       "    .dataframe thead th {\n",
       "        text-align: right;\n",
       "    }\n",
       "</style>\n",
       "<table border=\"1\" class=\"dataframe\">\n",
       "  <thead>\n",
       "    <tr style=\"text-align: right;\">\n",
       "      <th></th>\n",
       "      <th>RECORD_TIME</th>\n",
       "    </tr>\n",
       "  </thead>\n",
       "  <tbody>\n",
       "    <tr>\n",
       "      <th>0</th>\n",
       "      <td>2021-12-19 05:30</td>\n",
       "    </tr>\n",
       "    <tr>\n",
       "      <th>1</th>\n",
       "      <td>2021-12-19 05:00</td>\n",
       "    </tr>\n",
       "  </tbody>\n",
       "</table>\n",
       "</div>"
      ],
      "text/plain": [
       "        RECORD_TIME\n",
       "0  2021-12-19 05:30\n",
       "1  2021-12-19 05:00"
      ]
     },
     "execution_count": 3,
     "metadata": {},
     "output_type": "execute_result"
    }
   ],
   "source": [
    "timestamps"
   ]
  },
  {
   "cell_type": "code",
   "execution_count": 4,
   "id": "alternate-victory",
   "metadata": {
    "execution": {
     "iopub.execute_input": "2021-12-19T04:30:10.127510Z",
     "iopub.status.busy": "2021-12-19T04:30:10.125261Z",
     "iopub.status.idle": "2021-12-19T04:30:11.759758Z",
     "shell.execute_reply": "2021-12-19T04:30:11.761331Z"
    },
    "papermill": {
     "duration": 1.668508,
     "end_time": "2021-12-19T04:30:11.761811",
     "exception": false,
     "start_time": "2021-12-19T04:30:10.093303",
     "status": "completed"
    },
    "tags": []
   },
   "outputs": [],
   "source": [
    "df = pd.read_sql(\"select * from EBAY_TOP_BERLIN where record_time in (select distinct record_time from EBAY_TOP_BERLIN order by record_time desc limit 2)\", sqlite3.connect(\"UsedObjects.db\"))"
   ]
  },
  {
   "cell_type": "code",
   "execution_count": 5,
   "id": "popular-active",
   "metadata": {
    "execution": {
     "iopub.execute_input": "2021-12-19T04:30:11.828276Z",
     "iopub.status.busy": "2021-12-19T04:30:11.825738Z",
     "iopub.status.idle": "2021-12-19T04:30:11.862130Z",
     "shell.execute_reply": "2021-12-19T04:30:11.863959Z"
    },
    "papermill": {
     "duration": 0.081689,
     "end_time": "2021-12-19T04:30:11.864441",
     "exception": false,
     "start_time": "2021-12-19T04:30:11.782752",
     "status": "completed"
    },
    "tags": []
   },
   "outputs": [],
   "source": [
    "df_pivot = df.pivot_table(index=\"PRODUCT\", columns = \"RECORD_TIME\", values = \"LISTING_COUNT\")"
   ]
  },
  {
   "cell_type": "code",
   "execution_count": 6,
   "id": "union-huntington",
   "metadata": {
    "execution": {
     "iopub.execute_input": "2021-12-19T04:30:11.923743Z",
     "iopub.status.busy": "2021-12-19T04:30:11.921600Z",
     "iopub.status.idle": "2021-12-19T04:30:11.927020Z",
     "shell.execute_reply": "2021-12-19T04:30:11.928615Z"
    },
    "papermill": {
     "duration": 0.043553,
     "end_time": "2021-12-19T04:30:11.929161",
     "exception": false,
     "start_time": "2021-12-19T04:30:11.885608",
     "status": "completed"
    },
    "tags": []
   },
   "outputs": [],
   "source": [
    "df_pivot.columns = [\"stamp_1\", \"stamp_2\"]\n",
    "df_pivot_diff = df_pivot.diff(axis=1)"
   ]
  },
  {
   "cell_type": "code",
   "execution_count": 7,
   "id": "fifth-motion",
   "metadata": {
    "execution": {
     "iopub.execute_input": "2021-12-19T04:30:11.986042Z",
     "iopub.status.busy": "2021-12-19T04:30:11.983438Z",
     "iopub.status.idle": "2021-12-19T04:30:13.944006Z",
     "shell.execute_reply": "2021-12-19T04:30:13.945259Z"
    },
    "papermill": {
     "duration": 1.996544,
     "end_time": "2021-12-19T04:30:13.945700",
     "exception": false,
     "start_time": "2021-12-19T04:30:11.949156",
     "status": "completed"
    },
    "tags": []
   },
   "outputs": [
    {
     "data": {
      "text/plain": [
       "<AxesSubplot:ylabel='PRODUCT'>"
      ]
     },
     "execution_count": 7,
     "metadata": {},
     "output_type": "execute_result"
    },
    {
     "data": {
      "image/png": "[encoded data removed]",
      "text/plain": [
       "<Figure size 432x288 with 1 Axes>"
      ]
     },
     "metadata": {
      "needs_background": "light"
     },
     "output_type": "display_data"
    }
   ],
   "source": [
    "df_pivot_diff.sort_values(\"stamp_2\", ascending = False)[\"stamp_2\"].head(10).plot.barh()"
   ]
  },
  {
   "cell_type": "code",
   "execution_count": null,
   "id": "extra-executive",
   "metadata": {
    "papermill": {
     "duration": 0.029238,
     "end_time": "2021-12-19T04:30:14.009745",
     "exception": false,
     "start_time": "2021-12-19T04:30:13.980507",
     "status": "completed"
    },
    "tags": []
   },
   "outputs": [],
   "source": []
  }
 ],
 "metadata": {
  "kernelspec": {
   "display_name": "Python 3",
   "language": "python",
   "name": "python3"
  },
  "language_info": {
   "codemirror_mode": {
    "name": "ipython",
    "version": 3
   },
   "file_extension": ".py",
   "mimetype": "text/x-python",
   "name": "python",
   "nbconvert_exporter": "python",
   "pygments_lexer": "ipython3",
   "version": "3.9.5"
  },
  "papermill": {
   "default_parameters": {},
   "duration": 9.631061,
   "end_time": "2021-12-19T04:30:14.651033",
   "environment_variables": {},
   "exception": null,
   "input_path": "eBay_Overview.ipynb",
   "output_path": "eBay_Overview.ipynb",
   "parameters": {},
   "start_time": "2021-12-19T04:30:05.019972",
   "version": "2.3.3"
  }
 },
 "nbformat": 4,
 "nbformat_minor": 5
}