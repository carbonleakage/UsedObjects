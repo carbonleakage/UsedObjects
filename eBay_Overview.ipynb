{
 "cells": [
  {
   "cell_type": "code",
   "execution_count": 1,
   "id": "reverse-picking",
   "metadata": {
    "execution": {
     "iopub.execute_input": "2021-11-13T02:00:07.785735Z",
     "iopub.status.busy": "2021-11-13T02:00:07.783040Z",
     "iopub.status.idle": "2021-11-13T02:00:08.743717Z",
     "shell.execute_reply": "2021-11-13T02:00:08.745268Z"
    },
    "papermill": {
     "duration": 1.012106,
     "end_time": "2021-11-13T02:00:08.746002",
     "exception": false,
     "start_time": "2021-11-13T02:00:07.733896",
     "status": "completed"
    },
    "tags": []
   },
   "outputs": [],
   "source": [
    "import pandas as pd\n",
    "import sqlite3"
   ]
  },
  {
   "cell_type": "code",
   "execution_count": 2,
   "id": "innovative-syndrome",
   "metadata": {
    "execution": {
     "iopub.execute_input": "2021-11-13T02:00:08.810341Z",
     "iopub.status.busy": "2021-11-13T02:00:08.808047Z",
     "iopub.status.idle": "2021-11-13T02:00:09.611289Z",
     "shell.execute_reply": "2021-11-13T02:00:09.612573Z"
    },
    "papermill": {
     "duration": 0.836523,
     "end_time": "2021-11-13T02:00:09.613053",
     "exception": false,
     "start_time": "2021-11-13T02:00:08.776530",
     "status": "completed"
    },
    "tags": []
   },
   "outputs": [],
   "source": [
    "timestamps = pd.read_sql(\"select distinct record_time from EBAY_TOP_BERLIN order by record_time desc limit 2\", sqlite3.connect(\"UsedObjects.db\"))"
   ]
  },
  {
   "cell_type": "code",
   "execution_count": 3,
   "id": "periodic-identification",
   "metadata": {
    "execution": {
     "iopub.execute_input": "2021-11-13T02:00:09.679496Z",
     "iopub.status.busy": "2021-11-13T02:00:09.677478Z",
     "iopub.status.idle": "2021-11-13T02:00:09.697619Z",
     "shell.execute_reply": "2021-11-13T02:00:09.698957Z"
    },
    "papermill": {
     "duration": 0.066982,
     "end_time": "2021-11-13T02:00:09.699373",
     "exception": false,
     "start_time": "2021-11-13T02:00:09.632391",
     "status": "completed"
    },
    "tags": []
   },
   "outputs": [
    {
     "data": {
      "text/html": [
       "<div>\n",
       "<style scoped>\n",
       "    .dataframe tbody tr th:only-of-type {\n",
       "        vertical-align: middle;\n",
       "    }\n",
       "\n",
       "    .dataframe tbody tr th {\n",
       "        vertical-align: top;\n",
       "    }\n",
       "\n",
       "    .dataframe thead th {\n",
       "        text-align: right;\n",
       "    }\n",
       "</style>\n",
       "<table border=\"1\" class=\"dataframe\">\n",
       "  <thead>\n",
       "    <tr style=\"text-align: right;\">\n",
       "      <th></th>\n",
       "      <th>RECORD_TIME</th>\n",
       "    </tr>\n",
       "  </thead>\n",
       "  <tbody>\n",
       "    <tr>\n",
       "      <th>0</th>\n",
       "      <td>2021-11-13 03:00</td>\n",
       "    </tr>\n",
       "    <tr>\n",
       "      <th>1</th>\n",
       "      <td>2021-11-13 02:30</td>\n",
       "    </tr>\n",
       "  </tbody>\n",
       "</table>\n",
       "</div>"
      ],
      "text/plain": [
       "        RECORD_TIME\n",
       "0  2021-11-13 03:00\n",
       "1  2021-11-13 02:30"
      ]
     },
     "execution_count": 3,
     "metadata": {},
     "output_type": "execute_result"
    }
   ],
   "source": [
    "timestamps"
   ]
  },
  {
   "cell_type": "code",
   "execution_count": 4,
   "id": "alternate-victory",
   "metadata": {
    "execution": {
     "iopub.execute_input": "2021-11-13T02:00:09.753208Z",
     "iopub.status.busy": "2021-11-13T02:00:09.751021Z",
     "iopub.status.idle": "2021-11-13T02:00:10.908389Z",
     "shell.execute_reply": "2021-11-13T02:00:10.910099Z"
    },
    "papermill": {
     "duration": 1.189665,
     "end_time": "2021-11-13T02:00:10.910596",
     "exception": false,
     "start_time": "2021-11-13T02:00:09.720931",
     "status": "completed"
    },
    "tags": []
   },
   "outputs": [],
   "source": [
    "df = pd.read_sql(\"select * from EBAY_TOP_BERLIN where record_time in (select distinct record_time from EBAY_TOP_BERLIN order by record_time desc limit 2)\", sqlite3.connect(\"UsedObjects.db\"))"
   ]
  },
  {
   "cell_type": "code",
   "execution_count": 5,
   "id": "popular-active",
   "metadata": {
    "execution": {
     "iopub.execute_input": "2021-11-13T02:00:10.986201Z",
     "iopub.status.busy": "2021-11-13T02:00:10.973632Z",
     "iopub.status.idle": "2021-11-13T02:00:11.005123Z",
     "shell.execute_reply": "2021-11-13T02:00:11.006570Z"
    },
    "papermill": {
     "duration": 0.073296,
     "end_time": "2021-11-13T02:00:11.007031",
     "exception": false,
     "start_time": "2021-11-13T02:00:10.933735",
     "status": "completed"
    },
    "tags": []
   },
   "outputs": [],
   "source": [
    "df_pivot = df.pivot_table(index=\"PRODUCT\", columns = \"RECORD_TIME\", values = \"LISTING_COUNT\")"
   ]
  },
  {
   "cell_type": "code",
   "execution_count": 6,
   "id": "union-huntington",
   "metadata": {
    "execution": {
     "iopub.execute_input": "2021-11-13T02:00:11.069053Z",
     "iopub.status.busy": "2021-11-13T02:00:11.066783Z",
     "iopub.status.idle": "2021-11-13T02:00:11.072389Z",
     "shell.execute_reply": "2021-11-13T02:00:11.074124Z"
    },
    "papermill": {
     "duration": 0.048028,
     "end_time": "2021-11-13T02:00:11.074633",
     "exception": false,
     "start_time": "2021-11-13T02:00:11.026605",
     "status": "completed"
    },
    "tags": []
   },
   "outputs": [],
   "source": [
    "df_pivot.columns = [\"stamp_1\", \"stamp_2\"]\n",
    "df_pivot_diff = df_pivot.diff(axis=1)"
   ]
  },
  {
   "cell_type": "code",
   "execution_count": 7,
   "id": "fifth-motion",
   "metadata": {
    "execution": {
     "iopub.execute_input": "2021-11-13T02:00:11.137105Z",
     "iopub.status.busy": "2021-11-13T02:00:11.134349Z",
     "iopub.status.idle": "2021-11-13T02:00:13.054479Z",
     "shell.execute_reply": "2021-11-13T02:00:13.057099Z"
    },
    "papermill": {
     "duration": 1.961631,
     "end_time": "2021-11-13T02:00:13.057801",
     "exception": false,
     "start_time": "2021-11-13T02:00:11.096170",
     "status": "completed"
    },
    "tags": []
   },
   "outputs": [
    {
     "data": {
      "text/plain": [
       "<AxesSubplot:ylabel='PRODUCT'>"
      ]
     },
     "execution_count": 7,
     "metadata": {},
     "output_type": "execute_result"
    },
    {
     "data": {
      "image/png": "[encoded data removed]",
      "text/plain": [
       "<Figure size 432x288 with 1 Axes>"
      ]
     },
     "metadata": {
      "needs_background": "light"
     },
     "output_type": "display_data"
    }
   ],
   "source": [
    "df_pivot_diff.sort_values(\"stamp_2\", ascending = False)[\"stamp_2\"].head(10).plot.barh()"
   ]
  },
  {
   "cell_type": "code",
   "execution_count": null,
   "id": "extra-executive",
   "metadata": {
    "papermill": {
     "duration": 0.026789,
     "end_time": "2021-11-13T02:00:13.114552",
     "exception": false,
     "start_time": "2021-11-13T02:00:13.087763",
     "status": "completed"
    },
    "tags": []
   },
   "outputs": [],
   "source": []
  }
 ],
 "metadata": {
  "kernelspec": {
   "display_name": "Python 3",
   "language": "python",
   "name": "python3"
  },
  "language_info": {
   "codemirror_mode": {
    "name": "ipython",
    "version": 3
   },
   "file_extension": ".py",
   "mimetype": "text/x-python",
   "name": "python",
   "nbconvert_exporter": "python",
   "pygments_lexer": "ipython3",
   "version": "3.9.5"
  },
  "papermill": {
   "default_parameters": {},
   "duration": 8.887653,
   "end_time": "2021-11-13T02:00:13.889058",
   "environment_variables": {},
   "exception": null,
   "input_path": "eBay_Overview.ipynb",
   "output_path": "eBay_Overview.ipynb",
   "parameters": {},
   "start_time": "2021-11-13T02:00:05.001405",
   "version": "2.3.3"
  }
 },
 "nbformat": 4,
 "nbformat_minor": 5
}