{
 "cells": [
  {
   "cell_type": "code",
   "execution_count": 1,
   "id": "reverse-picking",
   "metadata": {
    "execution": {
     "iopub.execute_input": "2021-08-25T10:30:07.006435Z",
     "iopub.status.busy": "2021-08-25T10:30:07.004397Z",
     "iopub.status.idle": "2021-08-25T10:30:07.809573Z",
     "shell.execute_reply": "2021-08-25T10:30:07.810887Z"
    },
    "papermill": {
     "duration": 0.855935,
     "end_time": "2021-08-25T10:30:07.811545",
     "exception": false,
     "start_time": "2021-08-25T10:30:06.955610",
     "status": "completed"
    },
    "tags": []
   },
   "outputs": [],
   "source": [
    "import pandas as pd\n",
    "import sqlite3"
   ]
  },
  {
   "cell_type": "code",
   "execution_count": 2,
   "id": "innovative-syndrome",
   "metadata": {
    "execution": {
     "iopub.execute_input": "2021-08-25T10:30:07.862472Z",
     "iopub.status.busy": "2021-08-25T10:30:07.860029Z",
     "iopub.status.idle": "2021-08-25T10:30:08.004194Z",
     "shell.execute_reply": "2021-08-25T10:30:08.005464Z"
    },
    "papermill": {
     "duration": 0.17399,
     "end_time": "2021-08-25T10:30:08.005866",
     "exception": false,
     "start_time": "2021-08-25T10:30:07.831876",
     "status": "completed"
    },
    "tags": []
   },
   "outputs": [],
   "source": [
    "timestamps = pd.read_sql(\"select distinct record_time from EBAY_TOP_BERLIN order by record_time desc limit 2\", sqlite3.connect(\"UsedObjects.db\"))"
   ]
  },
  {
   "cell_type": "code",
   "execution_count": 3,
   "id": "periodic-identification",
   "metadata": {
    "execution": {
     "iopub.execute_input": "2021-08-25T10:30:08.071421Z",
     "iopub.status.busy": "2021-08-25T10:30:08.069390Z",
     "iopub.status.idle": "2021-08-25T10:30:08.089340Z",
     "shell.execute_reply": "2021-08-25T10:30:08.090635Z"
    },
    "papermill": {
     "duration": 0.064587,
     "end_time": "2021-08-25T10:30:08.091050",
     "exception": false,
     "start_time": "2021-08-25T10:30:08.026463",
     "status": "completed"
    },
    "tags": []
   },
   "outputs": [
    {
     "data": {
      "text/html": [
       "<div>\n",
       "<style scoped>\n",
       "    .dataframe tbody tr th:only-of-type {\n",
       "        vertical-align: middle;\n",
       "    }\n",
       "\n",
       "    .dataframe tbody tr th {\n",
       "        vertical-align: top;\n",
       "    }\n",
       "\n",
       "    .dataframe thead th {\n",
       "        text-align: right;\n",
       "    }\n",
       "</style>\n",
       "<table border=\"1\" class=\"dataframe\">\n",
       "  <thead>\n",
       "    <tr style=\"text-align: right;\">\n",
       "      <th></th>\n",
       "      <th>RECORD_TIME</th>\n",
       "    </tr>\n",
       "  </thead>\n",
       "  <tbody>\n",
       "    <tr>\n",
       "      <th>0</th>\n",
       "      <td>2021-08-25 12:30</td>\n",
       "    </tr>\n",
       "    <tr>\n",
       "      <th>1</th>\n",
       "      <td>2021-08-25 12:00</td>\n",
       "    </tr>\n",
       "  </tbody>\n",
       "</table>\n",
       "</div>"
      ],
      "text/plain": [
       "        RECORD_TIME\n",
       "0  2021-08-25 12:30\n",
       "1  2021-08-25 12:00"
      ]
     },
     "execution_count": 3,
     "metadata": {},
     "output_type": "execute_result"
    }
   ],
   "source": [
    "timestamps"
   ]
  },
  {
   "cell_type": "code",
   "execution_count": 4,
   "id": "alternate-victory",
   "metadata": {
    "execution": {
     "iopub.execute_input": "2021-08-25T10:30:08.143069Z",
     "iopub.status.busy": "2021-08-25T10:30:08.140763Z",
     "iopub.status.idle": "2021-08-25T10:30:08.333909Z",
     "shell.execute_reply": "2021-08-25T10:30:08.335259Z"
    },
    "papermill": {
     "duration": 0.223489,
     "end_time": "2021-08-25T10:30:08.335697",
     "exception": false,
     "start_time": "2021-08-25T10:30:08.112208",
     "status": "completed"
    },
    "tags": []
   },
   "outputs": [],
   "source": [
    "df = pd.read_sql(\"select * from EBAY_TOP_BERLIN where record_time in (select distinct record_time from EBAY_TOP_BERLIN order by record_time desc limit 2)\", sqlite3.connect(\"UsedObjects.db\"))"
   ]
  },
  {
   "cell_type": "code",
   "execution_count": 5,
   "id": "popular-active",
   "metadata": {
    "execution": {
     "iopub.execute_input": "2021-08-25T10:30:08.408145Z",
     "iopub.status.busy": "2021-08-25T10:30:08.400752Z",
     "iopub.status.idle": "2021-08-25T10:30:08.425705Z",
     "shell.execute_reply": "2021-08-25T10:30:08.427074Z"
    },
    "papermill": {
     "duration": 0.070399,
     "end_time": "2021-08-25T10:30:08.427520",
     "exception": false,
     "start_time": "2021-08-25T10:30:08.357121",
     "status": "completed"
    },
    "tags": []
   },
   "outputs": [],
   "source": [
    "df_pivot = df.pivot_table(index=\"PRODUCT\", columns = \"RECORD_TIME\", values = \"LISTING_COUNT\")"
   ]
  },
  {
   "cell_type": "code",
   "execution_count": 6,
   "id": "union-huntington",
   "metadata": {
    "execution": {
     "iopub.execute_input": "2021-08-25T10:30:08.494448Z",
     "iopub.status.busy": "2021-08-25T10:30:08.491936Z",
     "iopub.status.idle": "2021-08-25T10:30:08.498184Z",
     "shell.execute_reply": "2021-08-25T10:30:08.499367Z"
    },
    "papermill": {
     "duration": 0.046436,
     "end_time": "2021-08-25T10:30:08.499802",
     "exception": false,
     "start_time": "2021-08-25T10:30:08.453366",
     "status": "completed"
    },
    "tags": []
   },
   "outputs": [],
   "source": [
    "df_pivot.columns = [\"stamp_1\", \"stamp_2\"]\n",
    "df_pivot_diff = df_pivot.diff(axis=1)"
   ]
  },
  {
   "cell_type": "code",
   "execution_count": 7,
   "id": "fifth-motion",
   "metadata": {
    "execution": {
     "iopub.execute_input": "2021-08-25T10:30:08.553727Z",
     "iopub.status.busy": "2021-08-25T10:30:08.551254Z",
     "iopub.status.idle": "2021-08-25T10:30:10.061605Z",
     "shell.execute_reply": "2021-08-25T10:30:10.062870Z"
    },
    "papermill": {
     "duration": 1.542947,
     "end_time": "2021-08-25T10:30:10.063291",
     "exception": false,
     "start_time": "2021-08-25T10:30:08.520344",
     "status": "completed"
    },
    "tags": []
   },
   "outputs": [
    {
     "data": {
      "text/plain": [
       "<AxesSubplot:ylabel='PRODUCT'>"
      ]
     },
     "execution_count": 7,
     "metadata": {},
     "output_type": "execute_result"
    },
    {
     "data": {
      "image/png": "[encoded data removed]",
      "text/plain": [
       "<Figure size 432x288 with 1 Axes>"
      ]
     },
     "metadata": {
      "needs_background": "light"
     },
     "output_type": "display_data"
    }
   ],
   "source": [
    "df_pivot_diff.sort_values(\"stamp_2\", ascending = False)[\"stamp_2\"].head(10).plot.barh()"
   ]
  },
  {
   "cell_type": "code",
   "execution_count": null,
   "id": "extra-executive",
   "metadata": {
    "papermill": {
     "duration": 0.02231,
     "end_time": "2021-08-25T10:30:10.109483",
     "exception": false,
     "start_time": "2021-08-25T10:30:10.087173",
     "status": "completed"
    },
    "tags": []
   },
   "outputs": [],
   "source": []
  }
 ],
 "metadata": {
  "kernelspec": {
   "display_name": "Python 3",
   "language": "python",
   "name": "python3"
  },
  "language_info": {
   "codemirror_mode": {
    "name": "ipython",
    "version": 3
   },
   "file_extension": ".py",
   "mimetype": "text/x-python",
   "name": "python",
   "nbconvert_exporter": "python",
   "pygments_lexer": "ipython3",
   "version": "3.9.5"
  },
  "papermill": {
   "default_parameters": {},
   "duration": 6.826257,
   "end_time": "2021-08-25T10:30:11.379801",
   "environment_variables": {},
   "exception": null,
   "input_path": "eBay_Overview.ipynb",
   "output_path": "eBay_Overview.ipynb",
   "parameters": {},
   "start_time": "2021-08-25T10:30:04.553544",
   "version": "2.3.3"
  }
 },
 "nbformat": 4,
 "nbformat_minor": 5
}