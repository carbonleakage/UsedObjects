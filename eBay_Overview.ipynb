{
 "cells": [
  {
   "cell_type": "code",
   "execution_count": 1,
   "id": "reverse-picking",
   "metadata": {
    "execution": {
     "iopub.execute_input": "2021-09-03T10:30:07.303479Z",
     "iopub.status.busy": "2021-09-03T10:30:07.301469Z",
     "iopub.status.idle": "2021-09-03T10:30:08.106801Z",
     "shell.execute_reply": "2021-09-03T10:30:08.108117Z"
    },
    "papermill": {
     "duration": 0.855588,
     "end_time": "2021-09-03T10:30:08.108751",
     "exception": false,
     "start_time": "2021-09-03T10:30:07.253163",
     "status": "completed"
    },
    "tags": []
   },
   "outputs": [],
   "source": [
    "import pandas as pd\n",
    "import sqlite3"
   ]
  },
  {
   "cell_type": "code",
   "execution_count": 2,
   "id": "innovative-syndrome",
   "metadata": {
    "execution": {
     "iopub.execute_input": "2021-09-03T10:30:08.162188Z",
     "iopub.status.busy": "2021-09-03T10:30:08.160026Z",
     "iopub.status.idle": "2021-09-03T10:30:08.354691Z",
     "shell.execute_reply": "2021-09-03T10:30:08.356034Z"
    },
    "papermill": {
     "duration": 0.224576,
     "end_time": "2021-09-03T10:30:08.356457",
     "exception": false,
     "start_time": "2021-09-03T10:30:08.131881",
     "status": "completed"
    },
    "tags": []
   },
   "outputs": [],
   "source": [
    "timestamps = pd.read_sql(\"select distinct record_time from EBAY_TOP_BERLIN order by record_time desc limit 2\", sqlite3.connect(\"UsedObjects.db\"))"
   ]
  },
  {
   "cell_type": "code",
   "execution_count": 3,
   "id": "periodic-identification",
   "metadata": {
    "execution": {
     "iopub.execute_input": "2021-09-03T10:30:08.420972Z",
     "iopub.status.busy": "2021-09-03T10:30:08.418851Z",
     "iopub.status.idle": "2021-09-03T10:30:08.438920Z",
     "shell.execute_reply": "2021-09-03T10:30:08.440292Z"
    },
    "papermill": {
     "duration": 0.064669,
     "end_time": "2021-09-03T10:30:08.440713",
     "exception": false,
     "start_time": "2021-09-03T10:30:08.376044",
     "status": "completed"
    },
    "tags": []
   },
   "outputs": [
    {
     "data": {
      "text/html": [
       "<div>\n",
       "<style scoped>\n",
       "    .dataframe tbody tr th:only-of-type {\n",
       "        vertical-align: middle;\n",
       "    }\n",
       "\n",
       "    .dataframe tbody tr th {\n",
       "        vertical-align: top;\n",
       "    }\n",
       "\n",
       "    .dataframe thead th {\n",
       "        text-align: right;\n",
       "    }\n",
       "</style>\n",
       "<table border=\"1\" class=\"dataframe\">\n",
       "  <thead>\n",
       "    <tr style=\"text-align: right;\">\n",
       "      <th></th>\n",
       "      <th>RECORD_TIME</th>\n",
       "    </tr>\n",
       "  </thead>\n",
       "  <tbody>\n",
       "    <tr>\n",
       "      <th>0</th>\n",
       "      <td>2021-09-03 12:30</td>\n",
       "    </tr>\n",
       "    <tr>\n",
       "      <th>1</th>\n",
       "      <td>2021-09-03 12:00</td>\n",
       "    </tr>\n",
       "  </tbody>\n",
       "</table>\n",
       "</div>"
      ],
      "text/plain": [
       "        RECORD_TIME\n",
       "0  2021-09-03 12:30\n",
       "1  2021-09-03 12:00"
      ]
     },
     "execution_count": 3,
     "metadata": {},
     "output_type": "execute_result"
    }
   ],
   "source": [
    "timestamps"
   ]
  },
  {
   "cell_type": "code",
   "execution_count": 4,
   "id": "alternate-victory",
   "metadata": {
    "execution": {
     "iopub.execute_input": "2021-09-03T10:30:08.492846Z",
     "iopub.status.busy": "2021-09-03T10:30:08.490590Z",
     "iopub.status.idle": "2021-09-03T10:30:08.797298Z",
     "shell.execute_reply": "2021-09-03T10:30:08.798496Z"
    },
    "papermill": {
     "duration": 0.336357,
     "end_time": "2021-09-03T10:30:08.798939",
     "exception": false,
     "start_time": "2021-09-03T10:30:08.462582",
     "status": "completed"
    },
    "tags": []
   },
   "outputs": [],
   "source": [
    "df = pd.read_sql(\"select * from EBAY_TOP_BERLIN where record_time in (select distinct record_time from EBAY_TOP_BERLIN order by record_time desc limit 2)\", sqlite3.connect(\"UsedObjects.db\"))"
   ]
  },
  {
   "cell_type": "code",
   "execution_count": 5,
   "id": "popular-active",
   "metadata": {
    "execution": {
     "iopub.execute_input": "2021-09-03T10:30:08.881172Z",
     "iopub.status.busy": "2021-09-03T10:30:08.868391Z",
     "iopub.status.idle": "2021-09-03T10:30:08.897976Z",
     "shell.execute_reply": "2021-09-03T10:30:08.899336Z"
    },
    "papermill": {
     "duration": 0.073405,
     "end_time": "2021-09-03T10:30:08.899757",
     "exception": false,
     "start_time": "2021-09-03T10:30:08.826352",
     "status": "completed"
    },
    "tags": []
   },
   "outputs": [],
   "source": [
    "df_pivot = df.pivot_table(index=\"PRODUCT\", columns = \"RECORD_TIME\", values = \"LISTING_COUNT\")"
   ]
  },
  {
   "cell_type": "code",
   "execution_count": 6,
   "id": "union-huntington",
   "metadata": {
    "execution": {
     "iopub.execute_input": "2021-09-03T10:30:08.956619Z",
     "iopub.status.busy": "2021-09-03T10:30:08.954404Z",
     "iopub.status.idle": "2021-09-03T10:30:08.960174Z",
     "shell.execute_reply": "2021-09-03T10:30:08.961589Z"
    },
    "papermill": {
     "duration": 0.041292,
     "end_time": "2021-09-03T10:30:08.962025",
     "exception": false,
     "start_time": "2021-09-03T10:30:08.920733",
     "status": "completed"
    },
    "tags": []
   },
   "outputs": [],
   "source": [
    "df_pivot.columns = [\"stamp_1\", \"stamp_2\"]\n",
    "df_pivot_diff = df_pivot.diff(axis=1)"
   ]
  },
  {
   "cell_type": "code",
   "execution_count": 7,
   "id": "fifth-motion",
   "metadata": {
    "execution": {
     "iopub.execute_input": "2021-09-03T10:30:09.018587Z",
     "iopub.status.busy": "2021-09-03T10:30:09.015964Z",
     "iopub.status.idle": "2021-09-03T10:30:10.520248Z",
     "shell.execute_reply": "2021-09-03T10:30:10.521523Z"
    },
    "papermill": {
     "duration": 1.53787,
     "end_time": "2021-09-03T10:30:10.521939",
     "exception": false,
     "start_time": "2021-09-03T10:30:08.984069",
     "status": "completed"
    },
    "tags": []
   },
   "outputs": [
    {
     "data": {
      "text/plain": [
       "<AxesSubplot:ylabel='PRODUCT'>"
      ]
     },
     "execution_count": 7,
     "metadata": {},
     "output_type": "execute_result"
    },
    {
     "data": {
      "image/png": "[encoded data removed]",
      "text/plain": [
       "<Figure size 432x288 with 1 Axes>"
      ]
     },
     "metadata": {
      "needs_background": "light"
     },
     "output_type": "display_data"
    }
   ],
   "source": [
    "df_pivot_diff.sort_values(\"stamp_2\", ascending = False)[\"stamp_2\"].head(10).plot.barh()"
   ]
  },
  {
   "cell_type": "code",
   "execution_count": null,
   "id": "extra-executive",
   "metadata": {
    "papermill": {
     "duration": 0.022149,
     "end_time": "2021-09-03T10:30:10.567272",
     "exception": false,
     "start_time": "2021-09-03T10:30:10.545123",
     "status": "completed"
    },
    "tags": []
   },
   "outputs": [],
   "source": []
  }
 ],
 "metadata": {
  "kernelspec": {
   "display_name": "Python 3",
   "language": "python",
   "name": "python3"
  },
  "language_info": {
   "codemirror_mode": {
    "name": "ipython",
    "version": 3
   },
   "file_extension": ".py",
   "mimetype": "text/x-python",
   "name": "python",
   "nbconvert_exporter": "python",
   "pygments_lexer": "ipython3",
   "version": "3.9.5"
  },
  "papermill": {
   "default_parameters": {},
   "duration": 6.359699,
   "end_time": "2021-09-03T10:30:11.207547",
   "environment_variables": {},
   "exception": null,
   "input_path": "eBay_Overview.ipynb",
   "output_path": "eBay_Overview.ipynb",
   "parameters": {},
   "start_time": "2021-09-03T10:30:04.847848",
   "version": "2.3.3"
  }
 },
 "nbformat": 4,
 "nbformat_minor": 5
}