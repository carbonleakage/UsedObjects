{
 "cells": [
  {
   "cell_type": "code",
   "execution_count": 1,
   "id": "reverse-picking",
   "metadata": {
    "execution": {
     "iopub.execute_input": "2021-09-07T14:30:06.849554Z",
     "iopub.status.busy": "2021-09-07T14:30:06.847530Z",
     "iopub.status.idle": "2021-09-07T14:30:07.658714Z",
     "shell.execute_reply": "2021-09-07T14:30:07.660241Z"
    },
    "papermill": {
     "duration": 0.865299,
     "end_time": "2021-09-07T14:30:07.661044",
     "exception": false,
     "start_time": "2021-09-07T14:30:06.795745",
     "status": "completed"
    },
    "tags": []
   },
   "outputs": [],
   "source": [
    "import pandas as pd\n",
    "import sqlite3"
   ]
  },
  {
   "cell_type": "code",
   "execution_count": 2,
   "id": "innovative-syndrome",
   "metadata": {
    "execution": {
     "iopub.execute_input": "2021-09-07T14:30:07.713323Z",
     "iopub.status.busy": "2021-09-07T14:30:07.710987Z",
     "iopub.status.idle": "2021-09-07T14:30:07.939800Z",
     "shell.execute_reply": "2021-09-07T14:30:07.941019Z"
    },
    "papermill": {
     "duration": 0.258985,
     "end_time": "2021-09-07T14:30:07.941419",
     "exception": false,
     "start_time": "2021-09-07T14:30:07.682434",
     "status": "completed"
    },
    "tags": []
   },
   "outputs": [],
   "source": [
    "timestamps = pd.read_sql(\"select distinct record_time from EBAY_TOP_BERLIN order by record_time desc limit 2\", sqlite3.connect(\"UsedObjects.db\"))"
   ]
  },
  {
   "cell_type": "code",
   "execution_count": 3,
   "id": "periodic-identification",
   "metadata": {
    "execution": {
     "iopub.execute_input": "2021-09-07T14:30:08.006139Z",
     "iopub.status.busy": "2021-09-07T14:30:08.004099Z",
     "iopub.status.idle": "2021-09-07T14:30:08.024464Z",
     "shell.execute_reply": "2021-09-07T14:30:08.025748Z"
    },
    "papermill": {
     "duration": 0.063861,
     "end_time": "2021-09-07T14:30:08.026164",
     "exception": false,
     "start_time": "2021-09-07T14:30:07.962303",
     "status": "completed"
    },
    "tags": []
   },
   "outputs": [
    {
     "data": {
      "text/html": [
       "<div>\n",
       "<style scoped>\n",
       "    .dataframe tbody tr th:only-of-type {\n",
       "        vertical-align: middle;\n",
       "    }\n",
       "\n",
       "    .dataframe tbody tr th {\n",
       "        vertical-align: top;\n",
       "    }\n",
       "\n",
       "    .dataframe thead th {\n",
       "        text-align: right;\n",
       "    }\n",
       "</style>\n",
       "<table border=\"1\" class=\"dataframe\">\n",
       "  <thead>\n",
       "    <tr style=\"text-align: right;\">\n",
       "      <th></th>\n",
       "      <th>RECORD_TIME</th>\n",
       "    </tr>\n",
       "  </thead>\n",
       "  <tbody>\n",
       "    <tr>\n",
       "      <th>0</th>\n",
       "      <td>2021-09-07 16:30</td>\n",
       "    </tr>\n",
       "    <tr>\n",
       "      <th>1</th>\n",
       "      <td>2021-09-07 16:00</td>\n",
       "    </tr>\n",
       "  </tbody>\n",
       "</table>\n",
       "</div>"
      ],
      "text/plain": [
       "        RECORD_TIME\n",
       "0  2021-09-07 16:30\n",
       "1  2021-09-07 16:00"
      ]
     },
     "execution_count": 3,
     "metadata": {},
     "output_type": "execute_result"
    }
   ],
   "source": [
    "timestamps"
   ]
  },
  {
   "cell_type": "code",
   "execution_count": 4,
   "id": "alternate-victory",
   "metadata": {
    "execution": {
     "iopub.execute_input": "2021-09-07T14:30:08.078390Z",
     "iopub.status.busy": "2021-09-07T14:30:08.076110Z",
     "iopub.status.idle": "2021-09-07T14:30:08.417503Z",
     "shell.execute_reply": "2021-09-07T14:30:08.418716Z"
    },
    "papermill": {
     "duration": 0.371941,
     "end_time": "2021-09-07T14:30:08.419179",
     "exception": false,
     "start_time": "2021-09-07T14:30:08.047238",
     "status": "completed"
    },
    "tags": []
   },
   "outputs": [],
   "source": [
    "df = pd.read_sql(\"select * from EBAY_TOP_BERLIN where record_time in (select distinct record_time from EBAY_TOP_BERLIN order by record_time desc limit 2)\", sqlite3.connect(\"UsedObjects.db\"))"
   ]
  },
  {
   "cell_type": "code",
   "execution_count": 5,
   "id": "popular-active",
   "metadata": {
    "execution": {
     "iopub.execute_input": "2021-09-07T14:30:08.498933Z",
     "iopub.status.busy": "2021-09-07T14:30:08.486458Z",
     "iopub.status.idle": "2021-09-07T14:30:08.514312Z",
     "shell.execute_reply": "2021-09-07T14:30:08.515752Z"
    },
    "papermill": {
     "duration": 0.071272,
     "end_time": "2021-09-07T14:30:08.516171",
     "exception": false,
     "start_time": "2021-09-07T14:30:08.444899",
     "status": "completed"
    },
    "tags": []
   },
   "outputs": [],
   "source": [
    "df_pivot = df.pivot_table(index=\"PRODUCT\", columns = \"RECORD_TIME\", values = \"LISTING_COUNT\")"
   ]
  },
  {
   "cell_type": "code",
   "execution_count": 6,
   "id": "union-huntington",
   "metadata": {
    "execution": {
     "iopub.execute_input": "2021-09-07T14:30:08.574580Z",
     "iopub.status.busy": "2021-09-07T14:30:08.572137Z",
     "iopub.status.idle": "2021-09-07T14:30:08.578089Z",
     "shell.execute_reply": "2021-09-07T14:30:08.579365Z"
    },
    "papermill": {
     "duration": 0.042398,
     "end_time": "2021-09-07T14:30:08.579802",
     "exception": false,
     "start_time": "2021-09-07T14:30:08.537404",
     "status": "completed"
    },
    "tags": []
   },
   "outputs": [],
   "source": [
    "df_pivot.columns = [\"stamp_1\", \"stamp_2\"]\n",
    "df_pivot_diff = df_pivot.diff(axis=1)"
   ]
  },
  {
   "cell_type": "code",
   "execution_count": 7,
   "id": "fifth-motion",
   "metadata": {
    "execution": {
     "iopub.execute_input": "2021-09-07T14:30:08.634513Z",
     "iopub.status.busy": "2021-09-07T14:30:08.632283Z",
     "iopub.status.idle": "2021-09-07T14:30:10.115814Z",
     "shell.execute_reply": "2021-09-07T14:30:10.117160Z"
    },
    "papermill": {
     "duration": 1.516268,
     "end_time": "2021-09-07T14:30:10.117583",
     "exception": false,
     "start_time": "2021-09-07T14:30:08.601315",
     "status": "completed"
    },
    "tags": []
   },
   "outputs": [
    {
     "data": {
      "text/plain": [
       "<AxesSubplot:ylabel='PRODUCT'>"
      ]
     },
     "execution_count": 7,
     "metadata": {},
     "output_type": "execute_result"
    },
    {
     "data": {
      "image/png": "[encoded data removed]",
      "text/plain": [
       "<Figure size 432x288 with 1 Axes>"
      ]
     },
     "metadata": {
      "needs_background": "light"
     },
     "output_type": "display_data"
    }
   ],
   "source": [
    "df_pivot_diff.sort_values(\"stamp_2\", ascending = False)[\"stamp_2\"].head(10).plot.barh()"
   ]
  },
  {
   "cell_type": "code",
   "execution_count": null,
   "id": "extra-executive",
   "metadata": {
    "papermill": {
     "duration": 0.02204,
     "end_time": "2021-09-07T14:30:10.164672",
     "exception": false,
     "start_time": "2021-09-07T14:30:10.142632",
     "status": "completed"
    },
    "tags": []
   },
   "outputs": [],
   "source": []
  }
 ],
 "metadata": {
  "kernelspec": {
   "display_name": "Python 3",
   "language": "python",
   "name": "python3"
  },
  "language_info": {
   "codemirror_mode": {
    "name": "ipython",
    "version": 3
   },
   "file_extension": ".py",
   "mimetype": "text/x-python",
   "name": "python",
   "nbconvert_exporter": "python",
   "pygments_lexer": "ipython3",
   "version": "3.9.5"
  },
  "papermill": {
   "default_parameters": {},
   "duration": 6.418242,
   "end_time": "2021-09-07T14:30:10.804512",
   "environment_variables": {},
   "exception": null,
   "input_path": "eBay_Overview.ipynb",
   "output_path": "eBay_Overview.ipynb",
   "parameters": {},
   "start_time": "2021-09-07T14:30:04.386270",
   "version": "2.3.3"
  }
 },
 "nbformat": 4,
 "nbformat_minor": 5
}