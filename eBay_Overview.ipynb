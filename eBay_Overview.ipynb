{
 "cells": [
  {
   "cell_type": "code",
   "execution_count": 1,
   "id": "reverse-picking",
   "metadata": {
    "execution": {
     "iopub.execute_input": "2021-10-20T13:30:07.059686Z",
     "iopub.status.busy": "2021-10-20T13:30:07.057316Z",
     "iopub.status.idle": "2021-10-20T13:30:07.866537Z",
     "shell.execute_reply": "2021-10-20T13:30:07.867795Z"
    },
    "papermill": {
     "duration": 0.862663,
     "end_time": "2021-10-20T13:30:07.868394",
     "exception": false,
     "start_time": "2021-10-20T13:30:07.005731",
     "status": "completed"
    },
    "tags": []
   },
   "outputs": [],
   "source": [
    "import pandas as pd\n",
    "import sqlite3"
   ]
  },
  {
   "cell_type": "code",
   "execution_count": 2,
   "id": "innovative-syndrome",
   "metadata": {
    "execution": {
     "iopub.execute_input": "2021-10-20T13:30:07.921798Z",
     "iopub.status.busy": "2021-10-20T13:30:07.919412Z",
     "iopub.status.idle": "2021-10-20T13:30:08.507753Z",
     "shell.execute_reply": "2021-10-20T13:30:08.509164Z"
    },
    "papermill": {
     "duration": 0.618575,
     "end_time": "2021-10-20T13:30:08.509603",
     "exception": false,
     "start_time": "2021-10-20T13:30:07.891028",
     "status": "completed"
    },
    "tags": []
   },
   "outputs": [],
   "source": [
    "timestamps = pd.read_sql(\"select distinct record_time from EBAY_TOP_BERLIN order by record_time desc limit 2\", sqlite3.connect(\"UsedObjects.db\"))"
   ]
  },
  {
   "cell_type": "code",
   "execution_count": 3,
   "id": "periodic-identification",
   "metadata": {
    "execution": {
     "iopub.execute_input": "2021-10-20T13:30:08.583651Z",
     "iopub.status.busy": "2021-10-20T13:30:08.581605Z",
     "iopub.status.idle": "2021-10-20T13:30:08.602221Z",
     "shell.execute_reply": "2021-10-20T13:30:08.603509Z"
    },
    "papermill": {
     "duration": 0.069639,
     "end_time": "2021-10-20T13:30:08.603928",
     "exception": false,
     "start_time": "2021-10-20T13:30:08.534289",
     "status": "completed"
    },
    "tags": []
   },
   "outputs": [
    {
     "data": {
      "text/html": [
       "<div>\n",
       "<style scoped>\n",
       "    .dataframe tbody tr th:only-of-type {\n",
       "        vertical-align: middle;\n",
       "    }\n",
       "\n",
       "    .dataframe tbody tr th {\n",
       "        vertical-align: top;\n",
       "    }\n",
       "\n",
       "    .dataframe thead th {\n",
       "        text-align: right;\n",
       "    }\n",
       "</style>\n",
       "<table border=\"1\" class=\"dataframe\">\n",
       "  <thead>\n",
       "    <tr style=\"text-align: right;\">\n",
       "      <th></th>\n",
       "      <th>RECORD_TIME</th>\n",
       "    </tr>\n",
       "  </thead>\n",
       "  <tbody>\n",
       "    <tr>\n",
       "      <th>0</th>\n",
       "      <td>2021-10-20 15:30</td>\n",
       "    </tr>\n",
       "    <tr>\n",
       "      <th>1</th>\n",
       "      <td>2021-10-20 15:00</td>\n",
       "    </tr>\n",
       "  </tbody>\n",
       "</table>\n",
       "</div>"
      ],
      "text/plain": [
       "        RECORD_TIME\n",
       "0  2021-10-20 15:30\n",
       "1  2021-10-20 15:00"
      ]
     },
     "execution_count": 3,
     "metadata": {},
     "output_type": "execute_result"
    }
   ],
   "source": [
    "timestamps"
   ]
  },
  {
   "cell_type": "code",
   "execution_count": 4,
   "id": "alternate-victory",
   "metadata": {
    "execution": {
     "iopub.execute_input": "2021-10-20T13:30:08.655939Z",
     "iopub.status.busy": "2021-10-20T13:30:08.654087Z",
     "iopub.status.idle": "2021-10-20T13:30:09.515316Z",
     "shell.execute_reply": "2021-10-20T13:30:09.516547Z"
    },
    "papermill": {
     "duration": 0.892499,
     "end_time": "2021-10-20T13:30:09.517025",
     "exception": false,
     "start_time": "2021-10-20T13:30:08.624526",
     "status": "completed"
    },
    "tags": []
   },
   "outputs": [],
   "source": [
    "df = pd.read_sql(\"select * from EBAY_TOP_BERLIN where record_time in (select distinct record_time from EBAY_TOP_BERLIN order by record_time desc limit 2)\", sqlite3.connect(\"UsedObjects.db\"))"
   ]
  },
  {
   "cell_type": "code",
   "execution_count": 5,
   "id": "popular-active",
   "metadata": {
    "execution": {
     "iopub.execute_input": "2021-10-20T13:30:09.588153Z",
     "iopub.status.busy": "2021-10-20T13:30:09.576042Z",
     "iopub.status.idle": "2021-10-20T13:30:09.604584Z",
     "shell.execute_reply": "2021-10-20T13:30:09.606048Z"
    },
    "papermill": {
     "duration": 0.068641,
     "end_time": "2021-10-20T13:30:09.606493",
     "exception": false,
     "start_time": "2021-10-20T13:30:09.537852",
     "status": "completed"
    },
    "tags": []
   },
   "outputs": [],
   "source": [
    "df_pivot = df.pivot_table(index=\"PRODUCT\", columns = \"RECORD_TIME\", values = \"LISTING_COUNT\")"
   ]
  },
  {
   "cell_type": "code",
   "execution_count": 6,
   "id": "union-huntington",
   "metadata": {
    "execution": {
     "iopub.execute_input": "2021-10-20T13:30:09.663767Z",
     "iopub.status.busy": "2021-10-20T13:30:09.661614Z",
     "iopub.status.idle": "2021-10-20T13:30:09.666931Z",
     "shell.execute_reply": "2021-10-20T13:30:09.668209Z"
    },
    "papermill": {
     "duration": 0.041446,
     "end_time": "2021-10-20T13:30:09.668655",
     "exception": false,
     "start_time": "2021-10-20T13:30:09.627209",
     "status": "completed"
    },
    "tags": []
   },
   "outputs": [],
   "source": [
    "df_pivot.columns = [\"stamp_1\", \"stamp_2\"]\n",
    "df_pivot_diff = df_pivot.diff(axis=1)"
   ]
  },
  {
   "cell_type": "code",
   "execution_count": 7,
   "id": "fifth-motion",
   "metadata": {
    "execution": {
     "iopub.execute_input": "2021-10-20T13:30:09.722337Z",
     "iopub.status.busy": "2021-10-20T13:30:09.719823Z",
     "iopub.status.idle": "2021-10-20T13:30:11.234172Z",
     "shell.execute_reply": "2021-10-20T13:30:11.235553Z"
    },
    "papermill": {
     "duration": 1.547607,
     "end_time": "2021-10-20T13:30:11.235997",
     "exception": false,
     "start_time": "2021-10-20T13:30:09.688390",
     "status": "completed"
    },
    "tags": []
   },
   "outputs": [
    {
     "data": {
      "text/plain": [
       "<AxesSubplot:ylabel='PRODUCT'>"
      ]
     },
     "execution_count": 7,
     "metadata": {},
     "output_type": "execute_result"
    },
    {
     "data": {
      "image/png": "[encoded data removed]",
      "text/plain": [
       "<Figure size 432x288 with 1 Axes>"
      ]
     },
     "metadata": {
      "needs_background": "light"
     },
     "output_type": "display_data"
    }
   ],
   "source": [
    "df_pivot_diff.sort_values(\"stamp_2\", ascending = False)[\"stamp_2\"].head(10).plot.barh()"
   ]
  },
  {
   "cell_type": "code",
   "execution_count": null,
   "id": "extra-executive",
   "metadata": {
    "papermill": {
     "duration": 0.022103,
     "end_time": "2021-10-20T13:30:11.282567",
     "exception": false,
     "start_time": "2021-10-20T13:30:11.260464",
     "status": "completed"
    },
    "tags": []
   },
   "outputs": [],
   "source": []
  }
 ],
 "metadata": {
  "kernelspec": {
   "display_name": "Python 3",
   "language": "python",
   "name": "python3"
  },
  "language_info": {
   "codemirror_mode": {
    "name": "ipython",
    "version": 3
   },
   "file_extension": ".py",
   "mimetype": "text/x-python",
   "name": "python",
   "nbconvert_exporter": "python",
   "pygments_lexer": "ipython3",
   "version": "3.9.5"
  },
  "papermill": {
   "default_parameters": {},
   "duration": 7.342295,
   "end_time": "2021-10-20T13:30:11.924333",
   "environment_variables": {},
   "exception": null,
   "input_path": "eBay_Overview.ipynb",
   "output_path": "eBay_Overview.ipynb",
   "parameters": {},
   "start_time": "2021-10-20T13:30:04.582038",
   "version": "2.3.3"
  }
 },
 "nbformat": 4,
 "nbformat_minor": 5
}