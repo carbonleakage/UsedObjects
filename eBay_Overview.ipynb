{
 "cells": [
  {
   "cell_type": "code",
   "execution_count": 1,
   "id": "reverse-picking",
   "metadata": {
    "execution": {
     "iopub.execute_input": "2021-09-08T19:00:07.389231Z",
     "iopub.status.busy": "2021-09-08T19:00:07.387277Z",
     "iopub.status.idle": "2021-09-08T19:00:08.196291Z",
     "shell.execute_reply": "2021-09-08T19:00:08.197521Z"
    },
    "papermill": {
     "duration": 0.863033,
     "end_time": "2021-09-08T19:00:08.198139",
     "exception": false,
     "start_time": "2021-09-08T19:00:07.335106",
     "status": "completed"
    },
    "tags": []
   },
   "outputs": [],
   "source": [
    "import pandas as pd\n",
    "import sqlite3"
   ]
  },
  {
   "cell_type": "code",
   "execution_count": 2,
   "id": "innovative-syndrome",
   "metadata": {
    "execution": {
     "iopub.execute_input": "2021-09-08T19:00:08.251689Z",
     "iopub.status.busy": "2021-09-08T19:00:08.249300Z",
     "iopub.status.idle": "2021-09-08T19:00:08.486016Z",
     "shell.execute_reply": "2021-09-08T19:00:08.487410Z"
    },
    "papermill": {
     "duration": 0.26679,
     "end_time": "2021-09-08T19:00:08.487828",
     "exception": false,
     "start_time": "2021-09-08T19:00:08.221038",
     "status": "completed"
    },
    "tags": []
   },
   "outputs": [],
   "source": [
    "timestamps = pd.read_sql(\"select distinct record_time from EBAY_TOP_BERLIN order by record_time desc limit 2\", sqlite3.connect(\"UsedObjects.db\"))"
   ]
  },
  {
   "cell_type": "code",
   "execution_count": 3,
   "id": "periodic-identification",
   "metadata": {
    "execution": {
     "iopub.execute_input": "2021-09-08T19:00:08.552156Z",
     "iopub.status.busy": "2021-09-08T19:00:08.550092Z",
     "iopub.status.idle": "2021-09-08T19:00:08.570614Z",
     "shell.execute_reply": "2021-09-08T19:00:08.572271Z"
    },
    "papermill": {
     "duration": 0.065722,
     "end_time": "2021-09-08T19:00:08.572764",
     "exception": false,
     "start_time": "2021-09-08T19:00:08.507042",
     "status": "completed"
    },
    "tags": []
   },
   "outputs": [
    {
     "data": {
      "text/html": [
       "<div>\n",
       "<style scoped>\n",
       "    .dataframe tbody tr th:only-of-type {\n",
       "        vertical-align: middle;\n",
       "    }\n",
       "\n",
       "    .dataframe tbody tr th {\n",
       "        vertical-align: top;\n",
       "    }\n",
       "\n",
       "    .dataframe thead th {\n",
       "        text-align: right;\n",
       "    }\n",
       "</style>\n",
       "<table border=\"1\" class=\"dataframe\">\n",
       "  <thead>\n",
       "    <tr style=\"text-align: right;\">\n",
       "      <th></th>\n",
       "      <th>RECORD_TIME</th>\n",
       "    </tr>\n",
       "  </thead>\n",
       "  <tbody>\n",
       "    <tr>\n",
       "      <th>0</th>\n",
       "      <td>2021-09-08 21:00</td>\n",
       "    </tr>\n",
       "    <tr>\n",
       "      <th>1</th>\n",
       "      <td>2021-09-08 20:30</td>\n",
       "    </tr>\n",
       "  </tbody>\n",
       "</table>\n",
       "</div>"
      ],
      "text/plain": [
       "        RECORD_TIME\n",
       "0  2021-09-08 21:00\n",
       "1  2021-09-08 20:30"
      ]
     },
     "execution_count": 3,
     "metadata": {},
     "output_type": "execute_result"
    }
   ],
   "source": [
    "timestamps"
   ]
  },
  {
   "cell_type": "code",
   "execution_count": 4,
   "id": "alternate-victory",
   "metadata": {
    "execution": {
     "iopub.execute_input": "2021-09-08T19:00:08.624217Z",
     "iopub.status.busy": "2021-09-08T19:00:08.622291Z",
     "iopub.status.idle": "2021-09-08T19:00:08.968913Z",
     "shell.execute_reply": "2021-09-08T19:00:08.970045Z"
    },
    "papermill": {
     "duration": 0.376276,
     "end_time": "2021-09-08T19:00:08.970450",
     "exception": false,
     "start_time": "2021-09-08T19:00:08.594174",
     "status": "completed"
    },
    "tags": []
   },
   "outputs": [],
   "source": [
    "df = pd.read_sql(\"select * from EBAY_TOP_BERLIN where record_time in (select distinct record_time from EBAY_TOP_BERLIN order by record_time desc limit 2)\", sqlite3.connect(\"UsedObjects.db\"))"
   ]
  },
  {
   "cell_type": "code",
   "execution_count": 5,
   "id": "popular-active",
   "metadata": {
    "execution": {
     "iopub.execute_input": "2021-09-08T19:00:09.051697Z",
     "iopub.status.busy": "2021-09-08T19:00:09.040533Z",
     "iopub.status.idle": "2021-09-08T19:00:09.067286Z",
     "shell.execute_reply": "2021-09-08T19:00:09.068515Z"
    },
    "papermill": {
     "duration": 0.070381,
     "end_time": "2021-09-08T19:00:09.068906",
     "exception": false,
     "start_time": "2021-09-08T19:00:08.998525",
     "status": "completed"
    },
    "tags": []
   },
   "outputs": [],
   "source": [
    "df_pivot = df.pivot_table(index=\"PRODUCT\", columns = \"RECORD_TIME\", values = \"LISTING_COUNT\")"
   ]
  },
  {
   "cell_type": "code",
   "execution_count": 6,
   "id": "union-huntington",
   "metadata": {
    "execution": {
     "iopub.execute_input": "2021-09-08T19:00:09.124623Z",
     "iopub.status.busy": "2021-09-08T19:00:09.122486Z",
     "iopub.status.idle": "2021-09-08T19:00:09.127738Z",
     "shell.execute_reply": "2021-09-08T19:00:09.129025Z"
    },
    "papermill": {
     "duration": 0.040118,
     "end_time": "2021-09-08T19:00:09.129437",
     "exception": false,
     "start_time": "2021-09-08T19:00:09.089319",
     "status": "completed"
    },
    "tags": []
   },
   "outputs": [],
   "source": [
    "df_pivot.columns = [\"stamp_1\", \"stamp_2\"]\n",
    "df_pivot_diff = df_pivot.diff(axis=1)"
   ]
  },
  {
   "cell_type": "code",
   "execution_count": 7,
   "id": "fifth-motion",
   "metadata": {
    "execution": {
     "iopub.execute_input": "2021-09-08T19:00:09.183064Z",
     "iopub.status.busy": "2021-09-08T19:00:09.180625Z",
     "iopub.status.idle": "2021-09-08T19:00:10.656493Z",
     "shell.execute_reply": "2021-09-08T19:00:10.657777Z"
    },
    "papermill": {
     "duration": 1.508582,
     "end_time": "2021-09-08T19:00:10.658190",
     "exception": false,
     "start_time": "2021-09-08T19:00:09.149608",
     "status": "completed"
    },
    "tags": []
   },
   "outputs": [
    {
     "data": {
      "text/plain": [
       "<AxesSubplot:ylabel='PRODUCT'>"
      ]
     },
     "execution_count": 7,
     "metadata": {},
     "output_type": "execute_result"
    },
    {
     "data": {
      "image/png": "[encoded data removed]",
      "text/plain": [
       "<Figure size 432x288 with 1 Axes>"
      ]
     },
     "metadata": {
      "needs_background": "light"
     },
     "output_type": "display_data"
    }
   ],
   "source": [
    "df_pivot_diff.sort_values(\"stamp_2\", ascending = False)[\"stamp_2\"].head(10).plot.barh()"
   ]
  },
  {
   "cell_type": "code",
   "execution_count": null,
   "id": "extra-executive",
   "metadata": {
    "papermill": {
     "duration": 0.021925,
     "end_time": "2021-09-08T19:00:10.703588",
     "exception": false,
     "start_time": "2021-09-08T19:00:10.681663",
     "status": "completed"
    },
    "tags": []
   },
   "outputs": [],
   "source": []
  }
 ],
 "metadata": {
  "kernelspec": {
   "display_name": "Python 3",
   "language": "python",
   "name": "python3"
  },
  "language_info": {
   "codemirror_mode": {
    "name": "ipython",
    "version": 3
   },
   "file_extension": ".py",
   "mimetype": "text/x-python",
   "name": "python",
   "nbconvert_exporter": "python",
   "pygments_lexer": "ipython3",
   "version": "3.9.5"
  },
  "papermill": {
   "default_parameters": {},
   "duration": 6.423467,
   "end_time": "2021-09-08T19:00:11.344766",
   "environment_variables": {},
   "exception": null,
   "input_path": "eBay_Overview.ipynb",
   "output_path": "eBay_Overview.ipynb",
   "parameters": {},
   "start_time": "2021-09-08T19:00:04.921299",
   "version": "2.3.3"
  }
 },
 "nbformat": 4,
 "nbformat_minor": 5
}