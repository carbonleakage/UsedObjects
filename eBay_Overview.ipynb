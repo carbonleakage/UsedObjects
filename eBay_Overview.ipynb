{
 "cells": [
  {
   "cell_type": "code",
   "execution_count": 1,
   "id": "reverse-picking",
   "metadata": {
    "execution": {
     "iopub.execute_input": "2021-08-26T06:00:07.050523Z",
     "iopub.status.busy": "2021-08-26T06:00:07.048496Z",
     "iopub.status.idle": "2021-08-26T06:00:07.855110Z",
     "shell.execute_reply": "2021-08-26T06:00:07.853566Z"
    },
    "papermill": {
     "duration": 0.856675,
     "end_time": "2021-08-26T06:00:07.855507",
     "exception": false,
     "start_time": "2021-08-26T06:00:06.998832",
     "status": "completed"
    },
    "tags": []
   },
   "outputs": [],
   "source": [
    "import pandas as pd\n",
    "import sqlite3"
   ]
  },
  {
   "cell_type": "code",
   "execution_count": 2,
   "id": "innovative-syndrome",
   "metadata": {
    "execution": {
     "iopub.execute_input": "2021-08-26T06:00:07.908681Z",
     "iopub.status.busy": "2021-08-26T06:00:07.906321Z",
     "iopub.status.idle": "2021-08-26T06:00:08.044462Z",
     "shell.execute_reply": "2021-08-26T06:00:08.045597Z"
    },
    "papermill": {
     "duration": 0.168119,
     "end_time": "2021-08-26T06:00:08.046012",
     "exception": false,
     "start_time": "2021-08-26T06:00:07.877893",
     "status": "completed"
    },
    "tags": []
   },
   "outputs": [],
   "source": [
    "timestamps = pd.read_sql(\"select distinct record_time from EBAY_TOP_BERLIN order by record_time desc limit 2\", sqlite3.connect(\"UsedObjects.db\"))"
   ]
  },
  {
   "cell_type": "code",
   "execution_count": 3,
   "id": "periodic-identification",
   "metadata": {
    "execution": {
     "iopub.execute_input": "2021-08-26T06:00:08.114900Z",
     "iopub.status.busy": "2021-08-26T06:00:08.112888Z",
     "iopub.status.idle": "2021-08-26T06:00:08.133046Z",
     "shell.execute_reply": "2021-08-26T06:00:08.134497Z"
    },
    "papermill": {
     "duration": 0.066284,
     "end_time": "2021-08-26T06:00:08.134939",
     "exception": false,
     "start_time": "2021-08-26T06:00:08.068655",
     "status": "completed"
    },
    "tags": []
   },
   "outputs": [
    {
     "data": {
      "text/html": [
       "<div>\n",
       "<style scoped>\n",
       "    .dataframe tbody tr th:only-of-type {\n",
       "        vertical-align: middle;\n",
       "    }\n",
       "\n",
       "    .dataframe tbody tr th {\n",
       "        vertical-align: top;\n",
       "    }\n",
       "\n",
       "    .dataframe thead th {\n",
       "        text-align: right;\n",
       "    }\n",
       "</style>\n",
       "<table border=\"1\" class=\"dataframe\">\n",
       "  <thead>\n",
       "    <tr style=\"text-align: right;\">\n",
       "      <th></th>\n",
       "      <th>RECORD_TIME</th>\n",
       "    </tr>\n",
       "  </thead>\n",
       "  <tbody>\n",
       "    <tr>\n",
       "      <th>0</th>\n",
       "      <td>2021-08-26 08:00</td>\n",
       "    </tr>\n",
       "    <tr>\n",
       "      <th>1</th>\n",
       "      <td>2021-08-26 07:30</td>\n",
       "    </tr>\n",
       "  </tbody>\n",
       "</table>\n",
       "</div>"
      ],
      "text/plain": [
       "        RECORD_TIME\n",
       "0  2021-08-26 08:00\n",
       "1  2021-08-26 07:30"
      ]
     },
     "execution_count": 3,
     "metadata": {},
     "output_type": "execute_result"
    }
   ],
   "source": [
    "timestamps"
   ]
  },
  {
   "cell_type": "code",
   "execution_count": 4,
   "id": "alternate-victory",
   "metadata": {
    "execution": {
     "iopub.execute_input": "2021-08-26T06:00:08.186443Z",
     "iopub.status.busy": "2021-08-26T06:00:08.184597Z",
     "iopub.status.idle": "2021-08-26T06:00:08.379065Z",
     "shell.execute_reply": "2021-08-26T06:00:08.380457Z"
    },
    "papermill": {
     "duration": 0.224825,
     "end_time": "2021-08-26T06:00:08.380891",
     "exception": false,
     "start_time": "2021-08-26T06:00:08.156066",
     "status": "completed"
    },
    "tags": []
   },
   "outputs": [],
   "source": [
    "df = pd.read_sql(\"select * from EBAY_TOP_BERLIN where record_time in (select distinct record_time from EBAY_TOP_BERLIN order by record_time desc limit 2)\", sqlite3.connect(\"UsedObjects.db\"))"
   ]
  },
  {
   "cell_type": "code",
   "execution_count": 5,
   "id": "popular-active",
   "metadata": {
    "execution": {
     "iopub.execute_input": "2021-08-26T06:00:08.453308Z",
     "iopub.status.busy": "2021-08-26T06:00:08.442060Z",
     "iopub.status.idle": "2021-08-26T06:00:08.471244Z",
     "shell.execute_reply": "2021-08-26T06:00:08.472707Z"
    },
    "papermill": {
     "duration": 0.070433,
     "end_time": "2021-08-26T06:00:08.473156",
     "exception": false,
     "start_time": "2021-08-26T06:00:08.402723",
     "status": "completed"
    },
    "tags": []
   },
   "outputs": [],
   "source": [
    "df_pivot = df.pivot_table(index=\"PRODUCT\", columns = \"RECORD_TIME\", values = \"LISTING_COUNT\")"
   ]
  },
  {
   "cell_type": "code",
   "execution_count": 6,
   "id": "union-huntington",
   "metadata": {
    "execution": {
     "iopub.execute_input": "2021-08-26T06:00:08.540036Z",
     "iopub.status.busy": "2021-08-26T06:00:08.537566Z",
     "iopub.status.idle": "2021-08-26T06:00:08.543266Z",
     "shell.execute_reply": "2021-08-26T06:00:08.544635Z"
    },
    "papermill": {
     "duration": 0.046096,
     "end_time": "2021-08-26T06:00:08.545076",
     "exception": false,
     "start_time": "2021-08-26T06:00:08.498980",
     "status": "completed"
    },
    "tags": []
   },
   "outputs": [],
   "source": [
    "df_pivot.columns = [\"stamp_1\", \"stamp_2\"]\n",
    "df_pivot_diff = df_pivot.diff(axis=1)"
   ]
  },
  {
   "cell_type": "code",
   "execution_count": 7,
   "id": "fifth-motion",
   "metadata": {
    "execution": {
     "iopub.execute_input": "2021-08-26T06:00:08.599098Z",
     "iopub.status.busy": "2021-08-26T06:00:08.596717Z",
     "iopub.status.idle": "2021-08-26T06:00:10.048972Z",
     "shell.execute_reply": "2021-08-26T06:00:10.050260Z"
    },
    "papermill": {
     "duration": 1.48523,
     "end_time": "2021-08-26T06:00:10.050677",
     "exception": false,
     "start_time": "2021-08-26T06:00:08.565447",
     "status": "completed"
    },
    "tags": []
   },
   "outputs": [
    {
     "data": {
      "text/plain": [
       "<AxesSubplot:ylabel='PRODUCT'>"
      ]
     },
     "execution_count": 7,
     "metadata": {},
     "output_type": "execute_result"
    },
    {
     "data": {
      "image/png": "[encoded data removed]",
      "text/plain": [
       "<Figure size 432x288 with 1 Axes>"
      ]
     },
     "metadata": {
      "needs_background": "light"
     },
     "output_type": "display_data"
    }
   ],
   "source": [
    "df_pivot_diff.sort_values(\"stamp_2\", ascending = False)[\"stamp_2\"].head(10).plot.barh()"
   ]
  },
  {
   "cell_type": "code",
   "execution_count": null,
   "id": "extra-executive",
   "metadata": {
    "papermill": {
     "duration": 0.022206,
     "end_time": "2021-08-26T06:00:10.097522",
     "exception": false,
     "start_time": "2021-08-26T06:00:10.075316",
     "status": "completed"
    },
    "tags": []
   },
   "outputs": [],
   "source": []
  }
 ],
 "metadata": {
  "kernelspec": {
   "display_name": "Python 3",
   "language": "python",
   "name": "python3"
  },
  "language_info": {
   "codemirror_mode": {
    "name": "ipython",
    "version": 3
   },
   "file_extension": ".py",
   "mimetype": "text/x-python",
   "name": "python",
   "nbconvert_exporter": "python",
   "pygments_lexer": "ipython3",
   "version": "3.9.5"
  },
  "papermill": {
   "default_parameters": {},
   "duration": 6.829606,
   "end_time": "2021-08-26T06:00:11.425330",
   "environment_variables": {},
   "exception": null,
   "input_path": "eBay_Overview.ipynb",
   "output_path": "eBay_Overview.ipynb",
   "parameters": {},
   "start_time": "2021-08-26T06:00:04.595724",
   "version": "2.3.3"
  }
 },
 "nbformat": 4,
 "nbformat_minor": 5
}