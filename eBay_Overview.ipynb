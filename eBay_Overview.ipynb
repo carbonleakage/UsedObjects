{
 "cells": [
  {
   "cell_type": "code",
   "execution_count": 1,
   "id": "reverse-picking",
   "metadata": {
    "execution": {
     "iopub.execute_input": "2021-12-07T14:00:08.069950Z",
     "iopub.status.busy": "2021-12-07T14:00:08.067067Z",
     "iopub.status.idle": "2021-12-07T14:00:09.016080Z",
     "shell.execute_reply": "2021-12-07T14:00:09.013655Z"
    },
    "papermill": {
     "duration": 0.997894,
     "end_time": "2021-12-07T14:00:09.016553",
     "exception": false,
     "start_time": "2021-12-07T14:00:08.018659",
     "status": "completed"
    },
    "tags": []
   },
   "outputs": [],
   "source": [
    "import pandas as pd\n",
    "import sqlite3"
   ]
  },
  {
   "cell_type": "code",
   "execution_count": 2,
   "id": "innovative-syndrome",
   "metadata": {
    "execution": {
     "iopub.execute_input": "2021-12-07T14:00:09.080166Z",
     "iopub.status.busy": "2021-12-07T14:00:09.077753Z",
     "iopub.status.idle": "2021-12-07T14:00:10.096302Z",
     "shell.execute_reply": "2021-12-07T14:00:10.099094Z"
    },
    "papermill": {
     "duration": 1.054115,
     "end_time": "2021-12-07T14:00:10.099908",
     "exception": false,
     "start_time": "2021-12-07T14:00:09.045793",
     "status": "completed"
    },
    "tags": []
   },
   "outputs": [],
   "source": [
    "timestamps = pd.read_sql(\"select distinct record_time from EBAY_TOP_BERLIN order by record_time desc limit 2\", sqlite3.connect(\"UsedObjects.db\"))"
   ]
  },
  {
   "cell_type": "code",
   "execution_count": 3,
   "id": "periodic-identification",
   "metadata": {
    "execution": {
     "iopub.execute_input": "2021-12-07T14:00:10.186456Z",
     "iopub.status.busy": "2021-12-07T14:00:10.183967Z",
     "iopub.status.idle": "2021-12-07T14:00:10.207280Z",
     "shell.execute_reply": "2021-12-07T14:00:10.208937Z"
    },
    "papermill": {
     "duration": 0.078497,
     "end_time": "2021-12-07T14:00:10.209421",
     "exception": false,
     "start_time": "2021-12-07T14:00:10.130924",
     "status": "completed"
    },
    "tags": []
   },
   "outputs": [
    {
     "data": {
      "text/html": [
       "<div>\n",
       "<style scoped>\n",
       "    .dataframe tbody tr th:only-of-type {\n",
       "        vertical-align: middle;\n",
       "    }\n",
       "\n",
       "    .dataframe tbody tr th {\n",
       "        vertical-align: top;\n",
       "    }\n",
       "\n",
       "    .dataframe thead th {\n",
       "        text-align: right;\n",
       "    }\n",
       "</style>\n",
       "<table border=\"1\" class=\"dataframe\">\n",
       "  <thead>\n",
       "    <tr style=\"text-align: right;\">\n",
       "      <th></th>\n",
       "      <th>RECORD_TIME</th>\n",
       "    </tr>\n",
       "  </thead>\n",
       "  <tbody>\n",
       "    <tr>\n",
       "      <th>0</th>\n",
       "      <td>2021-12-07 15:00</td>\n",
       "    </tr>\n",
       "    <tr>\n",
       "      <th>1</th>\n",
       "      <td>2021-12-07 14:30</td>\n",
       "    </tr>\n",
       "  </tbody>\n",
       "</table>\n",
       "</div>"
      ],
      "text/plain": [
       "        RECORD_TIME\n",
       "0  2021-12-07 15:00\n",
       "1  2021-12-07 14:30"
      ]
     },
     "execution_count": 3,
     "metadata": {},
     "output_type": "execute_result"
    }
   ],
   "source": [
    "timestamps"
   ]
  },
  {
   "cell_type": "code",
   "execution_count": 4,
   "id": "alternate-victory",
   "metadata": {
    "execution": {
     "iopub.execute_input": "2021-12-07T14:00:10.266437Z",
     "iopub.status.busy": "2021-12-07T14:00:10.264264Z",
     "iopub.status.idle": "2021-12-07T14:00:11.761111Z",
     "shell.execute_reply": "2021-12-07T14:00:11.763824Z"
    },
    "papermill": {
     "duration": 1.53263,
     "end_time": "2021-12-07T14:00:11.764614",
     "exception": false,
     "start_time": "2021-12-07T14:00:10.231984",
     "status": "completed"
    },
    "tags": []
   },
   "outputs": [],
   "source": [
    "df = pd.read_sql(\"select * from EBAY_TOP_BERLIN where record_time in (select distinct record_time from EBAY_TOP_BERLIN order by record_time desc limit 2)\", sqlite3.connect(\"UsedObjects.db\"))"
   ]
  },
  {
   "cell_type": "code",
   "execution_count": 5,
   "id": "popular-active",
   "metadata": {
    "execution": {
     "iopub.execute_input": "2021-12-07T14:00:11.877816Z",
     "iopub.status.busy": "2021-12-07T14:00:11.859847Z",
     "iopub.status.idle": "2021-12-07T14:00:11.903731Z",
     "shell.execute_reply": "2021-12-07T14:00:11.907607Z"
    },
    "papermill": {
     "duration": 0.110343,
     "end_time": "2021-12-07T14:00:11.908383",
     "exception": false,
     "start_time": "2021-12-07T14:00:11.798040",
     "status": "completed"
    },
    "tags": []
   },
   "outputs": [],
   "source": [
    "df_pivot = df.pivot_table(index=\"PRODUCT\", columns = \"RECORD_TIME\", values = \"LISTING_COUNT\")"
   ]
  },
  {
   "cell_type": "code",
   "execution_count": 6,
   "id": "union-huntington",
   "metadata": {
    "execution": {
     "iopub.execute_input": "2021-12-07T14:00:12.001803Z",
     "iopub.status.busy": "2021-12-07T14:00:11.998264Z",
     "iopub.status.idle": "2021-12-07T14:00:12.010065Z",
     "shell.execute_reply": "2021-12-07T14:00:12.012973Z"
    },
    "papermill": {
     "duration": 0.070448,
     "end_time": "2021-12-07T14:00:12.013860",
     "exception": false,
     "start_time": "2021-12-07T14:00:11.943412",
     "status": "completed"
    },
    "tags": []
   },
   "outputs": [],
   "source": [
    "df_pivot.columns = [\"stamp_1\", \"stamp_2\"]\n",
    "df_pivot_diff = df_pivot.diff(axis=1)"
   ]
  },
  {
   "cell_type": "code",
   "execution_count": 7,
   "id": "fifth-motion",
   "metadata": {
    "execution": {
     "iopub.execute_input": "2021-12-07T14:00:12.085073Z",
     "iopub.status.busy": "2021-12-07T14:00:12.081859Z",
     "iopub.status.idle": "2021-12-07T14:00:13.779656Z",
     "shell.execute_reply": "2021-12-07T14:00:13.781005Z"
    },
    "papermill": {
     "duration": 1.741351,
     "end_time": "2021-12-07T14:00:13.781429",
     "exception": false,
     "start_time": "2021-12-07T14:00:12.040078",
     "status": "completed"
    },
    "tags": []
   },
   "outputs": [
    {
     "data": {
      "text/plain": [
       "<AxesSubplot:ylabel='PRODUCT'>"
      ]
     },
     "execution_count": 7,
     "metadata": {},
     "output_type": "execute_result"
    },
    {
     "data": {
      "image/png": "[encoded data removed]",
      "text/plain": [
       "<Figure size 432x288 with 1 Axes>"
      ]
     },
     "metadata": {
      "needs_background": "light"
     },
     "output_type": "display_data"
    }
   ],
   "source": [
    "df_pivot_diff.sort_values(\"stamp_2\", ascending = False)[\"stamp_2\"].head(10).plot.barh()"
   ]
  },
  {
   "cell_type": "code",
   "execution_count": null,
   "id": "extra-executive",
   "metadata": {
    "papermill": {
     "duration": 0.022588,
     "end_time": "2021-12-07T14:00:13.829309",
     "exception": false,
     "start_time": "2021-12-07T14:00:13.806721",
     "status": "completed"
    },
    "tags": []
   },
   "outputs": [],
   "source": []
  }
 ],
 "metadata": {
  "kernelspec": {
   "display_name": "Python 3",
   "language": "python",
   "name": "python3"
  },
  "language_info": {
   "codemirror_mode": {
    "name": "ipython",
    "version": 3
   },
   "file_extension": ".py",
   "mimetype": "text/x-python",
   "name": "python",
   "nbconvert_exporter": "python",
   "pygments_lexer": "ipython3",
   "version": "3.9.5"
  },
  "papermill": {
   "default_parameters": {},
   "duration": 9.950419,
   "end_time": "2021-12-07T14:00:15.254577",
   "environment_variables": {},
   "exception": null,
   "input_path": "eBay_Overview.ipynb",
   "output_path": "eBay_Overview.ipynb",
   "parameters": {},
   "start_time": "2021-12-07T14:00:05.304158",
   "version": "2.3.3"
  }
 },
 "nbformat": 4,
 "nbformat_minor": 5
}