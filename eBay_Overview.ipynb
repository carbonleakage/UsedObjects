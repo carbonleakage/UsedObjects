{
 "cells": [
  {
   "cell_type": "code",
   "execution_count": 1,
   "id": "reverse-picking",
   "metadata": {
    "execution": {
     "iopub.execute_input": "2021-12-02T06:00:08.061949Z",
     "iopub.status.busy": "2021-12-02T06:00:08.059159Z",
     "iopub.status.idle": "2021-12-02T06:00:09.035713Z",
     "shell.execute_reply": "2021-12-02T06:00:09.033852Z"
    },
    "papermill": {
     "duration": 1.013184,
     "end_time": "2021-12-02T06:00:09.036252",
     "exception": false,
     "start_time": "2021-12-02T06:00:08.023068",
     "status": "completed"
    },
    "tags": []
   },
   "outputs": [],
   "source": [
    "import pandas as pd\n",
    "import sqlite3"
   ]
  },
  {
   "cell_type": "code",
   "execution_count": 2,
   "id": "innovative-syndrome",
   "metadata": {
    "execution": {
     "iopub.execute_input": "2021-12-02T06:00:09.100300Z",
     "iopub.status.busy": "2021-12-02T06:00:09.097245Z",
     "iopub.status.idle": "2021-12-02T06:00:10.056794Z",
     "shell.execute_reply": "2021-12-02T06:00:10.058184Z"
    },
    "papermill": {
     "duration": 0.99452,
     "end_time": "2021-12-02T06:00:10.058656",
     "exception": false,
     "start_time": "2021-12-02T06:00:09.064136",
     "status": "completed"
    },
    "tags": []
   },
   "outputs": [],
   "source": [
    "timestamps = pd.read_sql(\"select distinct record_time from EBAY_TOP_BERLIN order by record_time desc limit 2\", sqlite3.connect(\"UsedObjects.db\"))"
   ]
  },
  {
   "cell_type": "code",
   "execution_count": 3,
   "id": "periodic-identification",
   "metadata": {
    "execution": {
     "iopub.execute_input": "2021-12-02T06:00:10.131914Z",
     "iopub.status.busy": "2021-12-02T06:00:10.129875Z",
     "iopub.status.idle": "2021-12-02T06:00:10.153711Z",
     "shell.execute_reply": "2021-12-02T06:00:10.155513Z"
    },
    "papermill": {
     "duration": 0.077184,
     "end_time": "2021-12-02T06:00:10.156063",
     "exception": false,
     "start_time": "2021-12-02T06:00:10.078879",
     "status": "completed"
    },
    "tags": []
   },
   "outputs": [
    {
     "data": {
      "text/html": [
       "<div>\n",
       "<style scoped>\n",
       "    .dataframe tbody tr th:only-of-type {\n",
       "        vertical-align: middle;\n",
       "    }\n",
       "\n",
       "    .dataframe tbody tr th {\n",
       "        vertical-align: top;\n",
       "    }\n",
       "\n",
       "    .dataframe thead th {\n",
       "        text-align: right;\n",
       "    }\n",
       "</style>\n",
       "<table border=\"1\" class=\"dataframe\">\n",
       "  <thead>\n",
       "    <tr style=\"text-align: right;\">\n",
       "      <th></th>\n",
       "      <th>RECORD_TIME</th>\n",
       "    </tr>\n",
       "  </thead>\n",
       "  <tbody>\n",
       "    <tr>\n",
       "      <th>0</th>\n",
       "      <td>2021-12-02 07:00</td>\n",
       "    </tr>\n",
       "    <tr>\n",
       "      <th>1</th>\n",
       "      <td>2021-12-02 06:30</td>\n",
       "    </tr>\n",
       "  </tbody>\n",
       "</table>\n",
       "</div>"
      ],
      "text/plain": [
       "        RECORD_TIME\n",
       "0  2021-12-02 07:00\n",
       "1  2021-12-02 06:30"
      ]
     },
     "execution_count": 3,
     "metadata": {},
     "output_type": "execute_result"
    }
   ],
   "source": [
    "timestamps"
   ]
  },
  {
   "cell_type": "code",
   "execution_count": 4,
   "id": "alternate-victory",
   "metadata": {
    "execution": {
     "iopub.execute_input": "2021-12-02T06:00:10.209493Z",
     "iopub.status.busy": "2021-12-02T06:00:10.207376Z",
     "iopub.status.idle": "2021-12-02T06:00:11.593857Z",
     "shell.execute_reply": "2021-12-02T06:00:11.595912Z"
    },
    "papermill": {
     "duration": 1.417475,
     "end_time": "2021-12-02T06:00:11.596385",
     "exception": false,
     "start_time": "2021-12-02T06:00:10.178910",
     "status": "completed"
    },
    "tags": []
   },
   "outputs": [],
   "source": [
    "df = pd.read_sql(\"select * from EBAY_TOP_BERLIN where record_time in (select distinct record_time from EBAY_TOP_BERLIN order by record_time desc limit 2)\", sqlite3.connect(\"UsedObjects.db\"))"
   ]
  },
  {
   "cell_type": "code",
   "execution_count": 5,
   "id": "popular-active",
   "metadata": {
    "execution": {
     "iopub.execute_input": "2021-12-02T06:00:11.662288Z",
     "iopub.status.busy": "2021-12-02T06:00:11.659587Z",
     "iopub.status.idle": "2021-12-02T06:00:11.692298Z",
     "shell.execute_reply": "2021-12-02T06:00:11.693905Z"
    },
    "papermill": {
     "duration": 0.076248,
     "end_time": "2021-12-02T06:00:11.694412",
     "exception": false,
     "start_time": "2021-12-02T06:00:11.618164",
     "status": "completed"
    },
    "tags": []
   },
   "outputs": [],
   "source": [
    "df_pivot = df.pivot_table(index=\"PRODUCT\", columns = \"RECORD_TIME\", values = \"LISTING_COUNT\")"
   ]
  },
  {
   "cell_type": "code",
   "execution_count": 6,
   "id": "union-huntington",
   "metadata": {
    "execution": {
     "iopub.execute_input": "2021-12-02T06:00:11.762532Z",
     "iopub.status.busy": "2021-12-02T06:00:11.759834Z",
     "iopub.status.idle": "2021-12-02T06:00:11.769937Z",
     "shell.execute_reply": "2021-12-02T06:00:11.771550Z"
    },
    "papermill": {
     "duration": 0.054785,
     "end_time": "2021-12-02T06:00:11.772071",
     "exception": false,
     "start_time": "2021-12-02T06:00:11.717286",
     "status": "completed"
    },
    "tags": []
   },
   "outputs": [],
   "source": [
    "df_pivot.columns = [\"stamp_1\", \"stamp_2\"]\n",
    "df_pivot_diff = df_pivot.diff(axis=1)"
   ]
  },
  {
   "cell_type": "code",
   "execution_count": 7,
   "id": "fifth-motion",
   "metadata": {
    "execution": {
     "iopub.execute_input": "2021-12-02T06:00:11.833555Z",
     "iopub.status.busy": "2021-12-02T06:00:11.830778Z",
     "iopub.status.idle": "2021-12-02T06:00:13.782437Z",
     "shell.execute_reply": "2021-12-02T06:00:13.785445Z"
    },
    "papermill": {
     "duration": 1.990678,
     "end_time": "2021-12-02T06:00:13.786437",
     "exception": false,
     "start_time": "2021-12-02T06:00:11.795759",
     "status": "completed"
    },
    "tags": []
   },
   "outputs": [
    {
     "data": {
      "text/plain": [
       "<AxesSubplot:ylabel='PRODUCT'>"
      ]
     },
     "execution_count": 7,
     "metadata": {},
     "output_type": "execute_result"
    },
    {
     "data": {
      "image/png": "[encoded data removed]",
      "text/plain": [
       "<Figure size 432x288 with 1 Axes>"
      ]
     },
     "metadata": {
      "needs_background": "light"
     },
     "output_type": "display_data"
    }
   ],
   "source": [
    "df_pivot_diff.sort_values(\"stamp_2\", ascending = False)[\"stamp_2\"].head(10).plot.barh()"
   ]
  },
  {
   "cell_type": "code",
   "execution_count": null,
   "id": "extra-executive",
   "metadata": {
    "papermill": {
     "duration": 0.034922,
     "end_time": "2021-12-02T06:00:13.858301",
     "exception": false,
     "start_time": "2021-12-02T06:00:13.823379",
     "status": "completed"
    },
    "tags": []
   },
   "outputs": [],
   "source": []
  }
 ],
 "metadata": {
  "kernelspec": {
   "display_name": "Python 3",
   "language": "python",
   "name": "python3"
  },
  "language_info": {
   "codemirror_mode": {
    "name": "ipython",
    "version": 3
   },
   "file_extension": ".py",
   "mimetype": "text/x-python",
   "name": "python",
   "nbconvert_exporter": "python",
   "pygments_lexer": "ipython3",
   "version": "3.9.5"
  },
  "papermill": {
   "default_parameters": {},
   "duration": 9.936734,
   "end_time": "2021-12-02T06:00:15.235578",
   "environment_variables": {},
   "exception": null,
   "input_path": "eBay_Overview.ipynb",
   "output_path": "eBay_Overview.ipynb",
   "parameters": {},
   "start_time": "2021-12-02T06:00:05.298844",
   "version": "2.3.3"
  }
 },
 "nbformat": 4,
 "nbformat_minor": 5
}