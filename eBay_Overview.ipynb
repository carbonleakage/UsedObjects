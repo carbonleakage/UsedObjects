{
 "cells": [
  {
   "cell_type": "code",
   "execution_count": 1,
   "id": "reverse-picking",
   "metadata": {
    "execution": {
     "iopub.execute_input": "2021-08-23T09:00:07.015808Z",
     "iopub.status.busy": "2021-08-23T09:00:07.013760Z",
     "iopub.status.idle": "2021-08-23T09:00:07.820652Z",
     "shell.execute_reply": "2021-08-23T09:00:07.821913Z"
    },
    "papermill": {
     "duration": 0.859085,
     "end_time": "2021-08-23T09:00:07.822608",
     "exception": false,
     "start_time": "2021-08-23T09:00:06.963523",
     "status": "completed"
    },
    "tags": []
   },
   "outputs": [],
   "source": [
    "import pandas as pd\n",
    "import sqlite3"
   ]
  },
  {
   "cell_type": "code",
   "execution_count": 2,
   "id": "innovative-syndrome",
   "metadata": {
    "execution": {
     "iopub.execute_input": "2021-08-23T09:00:07.873138Z",
     "iopub.status.busy": "2021-08-23T09:00:07.871292Z",
     "iopub.status.idle": "2021-08-23T09:00:07.980385Z",
     "shell.execute_reply": "2021-08-23T09:00:07.981596Z"
    },
    "papermill": {
     "duration": 0.138723,
     "end_time": "2021-08-23T09:00:07.982163",
     "exception": false,
     "start_time": "2021-08-23T09:00:07.843440",
     "status": "completed"
    },
    "tags": []
   },
   "outputs": [],
   "source": [
    "timestamps = pd.read_sql(\"select distinct record_time from EBAY_TOP_BERLIN order by record_time desc limit 2\", sqlite3.connect(\"UsedObjects.db\"))"
   ]
  },
  {
   "cell_type": "code",
   "execution_count": 3,
   "id": "periodic-identification",
   "metadata": {
    "execution": {
     "iopub.execute_input": "2021-08-23T09:00:08.047089Z",
     "iopub.status.busy": "2021-08-23T09:00:08.045005Z",
     "iopub.status.idle": "2021-08-23T09:00:08.065074Z",
     "shell.execute_reply": "2021-08-23T09:00:08.066633Z"
    },
    "papermill": {
     "duration": 0.065669,
     "end_time": "2021-08-23T09:00:08.067114",
     "exception": false,
     "start_time": "2021-08-23T09:00:08.001445",
     "status": "completed"
    },
    "tags": []
   },
   "outputs": [
    {
     "data": {
      "text/html": [
       "<div>\n",
       "<style scoped>\n",
       "    .dataframe tbody tr th:only-of-type {\n",
       "        vertical-align: middle;\n",
       "    }\n",
       "\n",
       "    .dataframe tbody tr th {\n",
       "        vertical-align: top;\n",
       "    }\n",
       "\n",
       "    .dataframe thead th {\n",
       "        text-align: right;\n",
       "    }\n",
       "</style>\n",
       "<table border=\"1\" class=\"dataframe\">\n",
       "  <thead>\n",
       "    <tr style=\"text-align: right;\">\n",
       "      <th></th>\n",
       "      <th>RECORD_TIME</th>\n",
       "    </tr>\n",
       "  </thead>\n",
       "  <tbody>\n",
       "    <tr>\n",
       "      <th>0</th>\n",
       "      <td>2021-08-23 11:00</td>\n",
       "    </tr>\n",
       "    <tr>\n",
       "      <th>1</th>\n",
       "      <td>2021-08-23 10:30</td>\n",
       "    </tr>\n",
       "  </tbody>\n",
       "</table>\n",
       "</div>"
      ],
      "text/plain": [
       "        RECORD_TIME\n",
       "0  2021-08-23 11:00\n",
       "1  2021-08-23 10:30"
      ]
     },
     "execution_count": 3,
     "metadata": {},
     "output_type": "execute_result"
    }
   ],
   "source": [
    "timestamps"
   ]
  },
  {
   "cell_type": "code",
   "execution_count": 4,
   "id": "alternate-victory",
   "metadata": {
    "execution": {
     "iopub.execute_input": "2021-08-23T09:00:08.118653Z",
     "iopub.status.busy": "2021-08-23T09:00:08.116570Z",
     "iopub.status.idle": "2021-08-23T09:00:08.288554Z",
     "shell.execute_reply": "2021-08-23T09:00:08.289763Z"
    },
    "papermill": {
     "duration": 0.201888,
     "end_time": "2021-08-23T09:00:08.290251",
     "exception": false,
     "start_time": "2021-08-23T09:00:08.088363",
     "status": "completed"
    },
    "tags": []
   },
   "outputs": [],
   "source": [
    "df = pd.read_sql(\"select * from EBAY_TOP_BERLIN where record_time in (select distinct record_time from EBAY_TOP_BERLIN order by record_time desc limit 2)\", sqlite3.connect(\"UsedObjects.db\"))"
   ]
  },
  {
   "cell_type": "code",
   "execution_count": 5,
   "id": "popular-active",
   "metadata": {
    "execution": {
     "iopub.execute_input": "2021-08-23T09:00:08.360962Z",
     "iopub.status.busy": "2021-08-23T09:00:08.349802Z",
     "iopub.status.idle": "2021-08-23T09:00:08.381233Z",
     "shell.execute_reply": "2021-08-23T09:00:08.382617Z"
    },
    "papermill": {
     "duration": 0.072135,
     "end_time": "2021-08-23T09:00:08.383045",
     "exception": false,
     "start_time": "2021-08-23T09:00:08.310910",
     "status": "completed"
    },
    "tags": []
   },
   "outputs": [],
   "source": [
    "df_pivot = df.pivot_table(index=\"PRODUCT\", columns = \"RECORD_TIME\", values = \"LISTING_COUNT\")"
   ]
  },
  {
   "cell_type": "code",
   "execution_count": 6,
   "id": "union-huntington",
   "metadata": {
    "execution": {
     "iopub.execute_input": "2021-08-23T09:00:08.445402Z",
     "iopub.status.busy": "2021-08-23T09:00:08.443243Z",
     "iopub.status.idle": "2021-08-23T09:00:08.448686Z",
     "shell.execute_reply": "2021-08-23T09:00:08.450057Z"
    },
    "papermill": {
     "duration": 0.046256,
     "end_time": "2021-08-23T09:00:08.450486",
     "exception": false,
     "start_time": "2021-08-23T09:00:08.404230",
     "status": "completed"
    },
    "tags": []
   },
   "outputs": [],
   "source": [
    "df_pivot.columns = [\"stamp_1\", \"stamp_2\"]\n",
    "df_pivot_diff = df_pivot.diff(axis=1)"
   ]
  },
  {
   "cell_type": "code",
   "execution_count": 7,
   "id": "fifth-motion",
   "metadata": {
    "execution": {
     "iopub.execute_input": "2021-08-23T09:00:08.504094Z",
     "iopub.status.busy": "2021-08-23T09:00:08.501715Z",
     "iopub.status.idle": "2021-08-23T09:00:09.991460Z",
     "shell.execute_reply": "2021-08-23T09:00:09.992757Z"
    },
    "papermill": {
     "duration": 1.52261,
     "end_time": "2021-08-23T09:00:09.993178",
     "exception": false,
     "start_time": "2021-08-23T09:00:08.470568",
     "status": "completed"
    },
    "tags": []
   },
   "outputs": [
    {
     "data": {
      "text/plain": [
       "<AxesSubplot:ylabel='PRODUCT'>"
      ]
     },
     "execution_count": 7,
     "metadata": {},
     "output_type": "execute_result"
    },
    {
     "data": {
      "image/png": "[encoded data removed]",
      "text/plain": [
       "<Figure size 432x288 with 1 Axes>"
      ]
     },
     "metadata": {
      "needs_background": "light"
     },
     "output_type": "display_data"
    }
   ],
   "source": [
    "df_pivot_diff.sort_values(\"stamp_2\", ascending = False)[\"stamp_2\"].head(10).plot.barh()"
   ]
  },
  {
   "cell_type": "code",
   "execution_count": null,
   "id": "extra-executive",
   "metadata": {
    "papermill": {
     "duration": 0.022254,
     "end_time": "2021-08-23T09:00:10.039304",
     "exception": false,
     "start_time": "2021-08-23T09:00:10.017050",
     "status": "completed"
    },
    "tags": []
   },
   "outputs": [],
   "source": []
  }
 ],
 "metadata": {
  "kernelspec": {
   "display_name": "Python 3",
   "language": "python",
   "name": "python3"
  },
  "language_info": {
   "codemirror_mode": {
    "name": "ipython",
    "version": 3
   },
   "file_extension": ".py",
   "mimetype": "text/x-python",
   "name": "python",
   "nbconvert_exporter": "python",
   "pygments_lexer": "ipython3",
   "version": "3.9.5"
  },
  "papermill": {
   "default_parameters": {},
   "duration": 6.825897,
   "end_time": "2021-08-23T09:00:11.372267",
   "environment_variables": {},
   "exception": null,
   "input_path": "eBay_Overview.ipynb",
   "output_path": "eBay_Overview.ipynb",
   "parameters": {},
   "start_time": "2021-08-23T09:00:04.546370",
   "version": "2.3.3"
  }
 },
 "nbformat": 4,
 "nbformat_minor": 5
}