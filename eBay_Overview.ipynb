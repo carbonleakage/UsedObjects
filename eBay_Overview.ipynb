{
 "cells": [
  {
   "cell_type": "code",
   "execution_count": 1,
   "id": "reverse-picking",
   "metadata": {
    "execution": {
     "iopub.execute_input": "2021-09-01T01:00:07.421188Z",
     "iopub.status.busy": "2021-09-01T01:00:07.419202Z",
     "iopub.status.idle": "2021-09-01T01:00:08.225324Z",
     "shell.execute_reply": "2021-09-01T01:00:08.226578Z"
    },
    "papermill": {
     "duration": 0.857798,
     "end_time": "2021-09-01T01:00:08.227268",
     "exception": false,
     "start_time": "2021-09-01T01:00:07.369470",
     "status": "completed"
    },
    "tags": []
   },
   "outputs": [],
   "source": [
    "import pandas as pd\n",
    "import sqlite3"
   ]
  },
  {
   "cell_type": "code",
   "execution_count": 2,
   "id": "innovative-syndrome",
   "metadata": {
    "execution": {
     "iopub.execute_input": "2021-09-01T01:00:08.276712Z",
     "iopub.status.busy": "2021-09-01T01:00:08.274757Z",
     "iopub.status.idle": "2021-09-01T01:00:08.449682Z",
     "shell.execute_reply": "2021-09-01T01:00:08.451015Z"
    },
    "papermill": {
     "duration": 0.204209,
     "end_time": "2021-09-01T01:00:08.451481",
     "exception": false,
     "start_time": "2021-09-01T01:00:08.247272",
     "status": "completed"
    },
    "tags": []
   },
   "outputs": [],
   "source": [
    "timestamps = pd.read_sql(\"select distinct record_time from EBAY_TOP_BERLIN order by record_time desc limit 2\", sqlite3.connect(\"UsedObjects.db\"))"
   ]
  },
  {
   "cell_type": "code",
   "execution_count": 3,
   "id": "periodic-identification",
   "metadata": {
    "execution": {
     "iopub.execute_input": "2021-09-01T01:00:08.521521Z",
     "iopub.status.busy": "2021-09-01T01:00:08.516108Z",
     "iopub.status.idle": "2021-09-01T01:00:08.537228Z",
     "shell.execute_reply": "2021-09-01T01:00:08.538607Z"
    },
    "papermill": {
     "duration": 0.068245,
     "end_time": "2021-09-01T01:00:08.539163",
     "exception": false,
     "start_time": "2021-09-01T01:00:08.470918",
     "status": "completed"
    },
    "tags": []
   },
   "outputs": [
    {
     "data": {
      "text/html": [
       "<div>\n",
       "<style scoped>\n",
       "    .dataframe tbody tr th:only-of-type {\n",
       "        vertical-align: middle;\n",
       "    }\n",
       "\n",
       "    .dataframe tbody tr th {\n",
       "        vertical-align: top;\n",
       "    }\n",
       "\n",
       "    .dataframe thead th {\n",
       "        text-align: right;\n",
       "    }\n",
       "</style>\n",
       "<table border=\"1\" class=\"dataframe\">\n",
       "  <thead>\n",
       "    <tr style=\"text-align: right;\">\n",
       "      <th></th>\n",
       "      <th>RECORD_TIME</th>\n",
       "    </tr>\n",
       "  </thead>\n",
       "  <tbody>\n",
       "    <tr>\n",
       "      <th>0</th>\n",
       "      <td>2021-09-01 03:00</td>\n",
       "    </tr>\n",
       "    <tr>\n",
       "      <th>1</th>\n",
       "      <td>2021-09-01 02:30</td>\n",
       "    </tr>\n",
       "  </tbody>\n",
       "</table>\n",
       "</div>"
      ],
      "text/plain": [
       "        RECORD_TIME\n",
       "0  2021-09-01 03:00\n",
       "1  2021-09-01 02:30"
      ]
     },
     "execution_count": 3,
     "metadata": {},
     "output_type": "execute_result"
    }
   ],
   "source": [
    "timestamps"
   ]
  },
  {
   "cell_type": "code",
   "execution_count": 4,
   "id": "alternate-victory",
   "metadata": {
    "execution": {
     "iopub.execute_input": "2021-09-01T01:00:08.590924Z",
     "iopub.status.busy": "2021-09-01T01:00:08.588597Z",
     "iopub.status.idle": "2021-09-01T01:00:08.852219Z",
     "shell.execute_reply": "2021-09-01T01:00:08.853415Z"
    },
    "papermill": {
     "duration": 0.293729,
     "end_time": "2021-09-01T01:00:08.853839",
     "exception": false,
     "start_time": "2021-09-01T01:00:08.560110",
     "status": "completed"
    },
    "tags": []
   },
   "outputs": [],
   "source": [
    "df = pd.read_sql(\"select * from EBAY_TOP_BERLIN where record_time in (select distinct record_time from EBAY_TOP_BERLIN order by record_time desc limit 2)\", sqlite3.connect(\"UsedObjects.db\"))"
   ]
  },
  {
   "cell_type": "code",
   "execution_count": 5,
   "id": "popular-active",
   "metadata": {
    "execution": {
     "iopub.execute_input": "2021-09-01T01:00:08.933572Z",
     "iopub.status.busy": "2021-09-01T01:00:08.926783Z",
     "iopub.status.idle": "2021-09-01T01:00:08.949072Z",
     "shell.execute_reply": "2021-09-01T01:00:08.950307Z"
    },
    "papermill": {
     "duration": 0.071199,
     "end_time": "2021-09-01T01:00:08.950696",
     "exception": false,
     "start_time": "2021-09-01T01:00:08.879497",
     "status": "completed"
    },
    "tags": []
   },
   "outputs": [],
   "source": [
    "df_pivot = df.pivot_table(index=\"PRODUCT\", columns = \"RECORD_TIME\", values = \"LISTING_COUNT\")"
   ]
  },
  {
   "cell_type": "code",
   "execution_count": 6,
   "id": "union-huntington",
   "metadata": {
    "execution": {
     "iopub.execute_input": "2021-09-01T01:00:09.006279Z",
     "iopub.status.busy": "2021-09-01T01:00:09.004028Z",
     "iopub.status.idle": "2021-09-01T01:00:09.009806Z",
     "shell.execute_reply": "2021-09-01T01:00:09.011165Z"
    },
    "papermill": {
     "duration": 0.041269,
     "end_time": "2021-09-01T01:00:09.011580",
     "exception": false,
     "start_time": "2021-09-01T01:00:08.970311",
     "status": "completed"
    },
    "tags": []
   },
   "outputs": [],
   "source": [
    "df_pivot.columns = [\"stamp_1\", \"stamp_2\"]\n",
    "df_pivot_diff = df_pivot.diff(axis=1)"
   ]
  },
  {
   "cell_type": "code",
   "execution_count": 7,
   "id": "fifth-motion",
   "metadata": {
    "execution": {
     "iopub.execute_input": "2021-09-01T01:00:09.065106Z",
     "iopub.status.busy": "2021-09-01T01:00:09.062686Z",
     "iopub.status.idle": "2021-09-01T01:00:10.550811Z",
     "shell.execute_reply": "2021-09-01T01:00:10.552403Z"
    },
    "papermill": {
     "duration": 1.521571,
     "end_time": "2021-09-01T01:00:10.552864",
     "exception": false,
     "start_time": "2021-09-01T01:00:09.031293",
     "status": "completed"
    },
    "tags": []
   },
   "outputs": [
    {
     "data": {
      "text/plain": [
       "<AxesSubplot:ylabel='PRODUCT'>"
      ]
     },
     "execution_count": 7,
     "metadata": {},
     "output_type": "execute_result"
    },
    {
     "data": {
      "image/png": "[encoded data removed]",
      "text/plain": [
       "<Figure size 432x288 with 1 Axes>"
      ]
     },
     "metadata": {
      "needs_background": "light"
     },
     "output_type": "display_data"
    }
   ],
   "source": [
    "df_pivot_diff.sort_values(\"stamp_2\", ascending = False)[\"stamp_2\"].head(10).plot.barh()"
   ]
  },
  {
   "cell_type": "code",
   "execution_count": null,
   "id": "extra-executive",
   "metadata": {
    "papermill": {
     "duration": 0.021851,
     "end_time": "2021-09-01T01:00:10.597979",
     "exception": false,
     "start_time": "2021-09-01T01:00:10.576128",
     "status": "completed"
    },
    "tags": []
   },
   "outputs": [],
   "source": []
  }
 ],
 "metadata": {
  "kernelspec": {
   "display_name": "Python 3",
   "language": "python",
   "name": "python3"
  },
  "language_info": {
   "codemirror_mode": {
    "name": "ipython",
    "version": 3
   },
   "file_extension": ".py",
   "mimetype": "text/x-python",
   "name": "python",
   "nbconvert_exporter": "python",
   "pygments_lexer": "ipython3",
   "version": "3.9.5"
  },
  "papermill": {
   "default_parameters": {},
   "duration": 6.823981,
   "end_time": "2021-09-01T01:00:11.782720",
   "environment_variables": {},
   "exception": null,
   "input_path": "eBay_Overview.ipynb",
   "output_path": "eBay_Overview.ipynb",
   "parameters": {},
   "start_time": "2021-09-01T01:00:04.958739",
   "version": "2.3.3"
  }
 },
 "nbformat": 4,
 "nbformat_minor": 5
}