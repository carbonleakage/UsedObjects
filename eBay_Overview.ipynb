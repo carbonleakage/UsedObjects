{
 "cells": [
  {
   "cell_type": "code",
   "execution_count": 1,
   "id": "reverse-picking",
   "metadata": {
    "execution": {
     "iopub.execute_input": "2021-12-15T11:00:07.499345Z",
     "iopub.status.busy": "2021-12-15T11:00:07.497050Z",
     "iopub.status.idle": "2021-12-15T11:00:08.451746Z",
     "shell.execute_reply": "2021-12-15T11:00:08.453376Z"
    },
    "papermill": {
     "duration": 1.004803,
     "end_time": "2021-12-15T11:00:08.454107",
     "exception": false,
     "start_time": "2021-12-15T11:00:07.449304",
     "status": "completed"
    },
    "tags": []
   },
   "outputs": [],
   "source": [
    "import pandas as pd\n",
    "import sqlite3"
   ]
  },
  {
   "cell_type": "code",
   "execution_count": 2,
   "id": "innovative-syndrome",
   "metadata": {
    "execution": {
     "iopub.execute_input": "2021-12-15T11:00:08.516246Z",
     "iopub.status.busy": "2021-12-15T11:00:08.514022Z",
     "iopub.status.idle": "2021-12-15T11:00:09.614520Z",
     "shell.execute_reply": "2021-12-15T11:00:09.616182Z"
    },
    "papermill": {
     "duration": 1.134612,
     "end_time": "2021-12-15T11:00:09.616657",
     "exception": false,
     "start_time": "2021-12-15T11:00:08.482045",
     "status": "completed"
    },
    "tags": []
   },
   "outputs": [],
   "source": [
    "timestamps = pd.read_sql(\"select distinct record_time from EBAY_TOP_BERLIN order by record_time desc limit 2\", sqlite3.connect(\"UsedObjects.db\"))"
   ]
  },
  {
   "cell_type": "code",
   "execution_count": 3,
   "id": "periodic-identification",
   "metadata": {
    "execution": {
     "iopub.execute_input": "2021-12-15T11:00:09.687059Z",
     "iopub.status.busy": "2021-12-15T11:00:09.684131Z",
     "iopub.status.idle": "2021-12-15T11:00:09.707177Z",
     "shell.execute_reply": "2021-12-15T11:00:09.708611Z"
    },
    "papermill": {
     "duration": 0.072052,
     "end_time": "2021-12-15T11:00:09.709155",
     "exception": false,
     "start_time": "2021-12-15T11:00:09.637103",
     "status": "completed"
    },
    "tags": []
   },
   "outputs": [
    {
     "data": {
      "text/html": [
       "<div>\n",
       "<style scoped>\n",
       "    .dataframe tbody tr th:only-of-type {\n",
       "        vertical-align: middle;\n",
       "    }\n",
       "\n",
       "    .dataframe tbody tr th {\n",
       "        vertical-align: top;\n",
       "    }\n",
       "\n",
       "    .dataframe thead th {\n",
       "        text-align: right;\n",
       "    }\n",
       "</style>\n",
       "<table border=\"1\" class=\"dataframe\">\n",
       "  <thead>\n",
       "    <tr style=\"text-align: right;\">\n",
       "      <th></th>\n",
       "      <th>RECORD_TIME</th>\n",
       "    </tr>\n",
       "  </thead>\n",
       "  <tbody>\n",
       "    <tr>\n",
       "      <th>0</th>\n",
       "      <td>2021-12-15 12:00</td>\n",
       "    </tr>\n",
       "    <tr>\n",
       "      <th>1</th>\n",
       "      <td>2021-12-15 11:30</td>\n",
       "    </tr>\n",
       "  </tbody>\n",
       "</table>\n",
       "</div>"
      ],
      "text/plain": [
       "        RECORD_TIME\n",
       "0  2021-12-15 12:00\n",
       "1  2021-12-15 11:30"
      ]
     },
     "execution_count": 3,
     "metadata": {},
     "output_type": "execute_result"
    }
   ],
   "source": [
    "timestamps"
   ]
  },
  {
   "cell_type": "code",
   "execution_count": 4,
   "id": "alternate-victory",
   "metadata": {
    "execution": {
     "iopub.execute_input": "2021-12-15T11:00:09.762942Z",
     "iopub.status.busy": "2021-12-15T11:00:09.760504Z",
     "iopub.status.idle": "2021-12-15T11:00:11.345647Z",
     "shell.execute_reply": "2021-12-15T11:00:11.347780Z"
    },
    "papermill": {
     "duration": 1.618386,
     "end_time": "2021-12-15T11:00:11.348278",
     "exception": false,
     "start_time": "2021-12-15T11:00:09.729892",
     "status": "completed"
    },
    "tags": []
   },
   "outputs": [],
   "source": [
    "df = pd.read_sql(\"select * from EBAY_TOP_BERLIN where record_time in (select distinct record_time from EBAY_TOP_BERLIN order by record_time desc limit 2)\", sqlite3.connect(\"UsedObjects.db\"))"
   ]
  },
  {
   "cell_type": "code",
   "execution_count": 5,
   "id": "popular-active",
   "metadata": {
    "execution": {
     "iopub.execute_input": "2021-12-15T11:00:11.435346Z",
     "iopub.status.busy": "2021-12-15T11:00:11.422010Z",
     "iopub.status.idle": "2021-12-15T11:00:11.454248Z",
     "shell.execute_reply": "2021-12-15T11:00:11.455722Z"
    },
    "papermill": {
     "duration": 0.085979,
     "end_time": "2021-12-15T11:00:11.456210",
     "exception": false,
     "start_time": "2021-12-15T11:00:11.370231",
     "status": "completed"
    },
    "tags": []
   },
   "outputs": [],
   "source": [
    "df_pivot = df.pivot_table(index=\"PRODUCT\", columns = \"RECORD_TIME\", values = \"LISTING_COUNT\")"
   ]
  },
  {
   "cell_type": "code",
   "execution_count": 6,
   "id": "union-huntington",
   "metadata": {
    "execution": {
     "iopub.execute_input": "2021-12-15T11:00:11.517332Z",
     "iopub.status.busy": "2021-12-15T11:00:11.514982Z",
     "iopub.status.idle": "2021-12-15T11:00:11.521144Z",
     "shell.execute_reply": "2021-12-15T11:00:11.522507Z"
    },
    "papermill": {
     "duration": 0.043691,
     "end_time": "2021-12-15T11:00:11.522989",
     "exception": false,
     "start_time": "2021-12-15T11:00:11.479298",
     "status": "completed"
    },
    "tags": []
   },
   "outputs": [],
   "source": [
    "df_pivot.columns = [\"stamp_1\", \"stamp_2\"]\n",
    "df_pivot_diff = df_pivot.diff(axis=1)"
   ]
  },
  {
   "cell_type": "code",
   "execution_count": 7,
   "id": "fifth-motion",
   "metadata": {
    "execution": {
     "iopub.execute_input": "2021-12-15T11:00:11.580950Z",
     "iopub.status.busy": "2021-12-15T11:00:11.578156Z",
     "iopub.status.idle": "2021-12-15T11:00:13.210194Z",
     "shell.execute_reply": "2021-12-15T11:00:13.211469Z"
    },
    "papermill": {
     "duration": 1.668801,
     "end_time": "2021-12-15T11:00:13.211928",
     "exception": false,
     "start_time": "2021-12-15T11:00:11.543127",
     "status": "completed"
    },
    "tags": []
   },
   "outputs": [
    {
     "data": {
      "text/plain": [
       "<AxesSubplot:ylabel='PRODUCT'>"
      ]
     },
     "execution_count": 7,
     "metadata": {},
     "output_type": "execute_result"
    },
    {
     "data": {
      "image/png": "[encoded data removed]",
      "text/plain": [
       "<Figure size 432x288 with 1 Axes>"
      ]
     },
     "metadata": {
      "needs_background": "light"
     },
     "output_type": "display_data"
    }
   ],
   "source": [
    "df_pivot_diff.sort_values(\"stamp_2\", ascending = False)[\"stamp_2\"].head(10).plot.barh()"
   ]
  },
  {
   "cell_type": "code",
   "execution_count": null,
   "id": "extra-executive",
   "metadata": {
    "papermill": {
     "duration": 0.022578,
     "end_time": "2021-12-15T11:00:13.259447",
     "exception": false,
     "start_time": "2021-12-15T11:00:13.236869",
     "status": "completed"
    },
    "tags": []
   },
   "outputs": [],
   "source": []
  }
 ],
 "metadata": {
  "kernelspec": {
   "display_name": "Python 3",
   "language": "python",
   "name": "python3"
  },
  "language_info": {
   "codemirror_mode": {
    "name": "ipython",
    "version": 3
   },
   "file_extension": ".py",
   "mimetype": "text/x-python",
   "name": "python",
   "nbconvert_exporter": "python",
   "pygments_lexer": "ipython3",
   "version": "3.9.5"
  },
  "papermill": {
   "default_parameters": {},
   "duration": 9.919999,
   "end_time": "2021-12-15T11:00:14.663775",
   "environment_variables": {},
   "exception": null,
   "input_path": "eBay_Overview.ipynb",
   "output_path": "eBay_Overview.ipynb",
   "parameters": {},
   "start_time": "2021-12-15T11:00:04.743776",
   "version": "2.3.3"
  }
 },
 "nbformat": 4,
 "nbformat_minor": 5
}