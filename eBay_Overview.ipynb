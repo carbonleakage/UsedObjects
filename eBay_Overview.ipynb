{
 "cells": [
  {
   "cell_type": "code",
   "execution_count": 1,
   "id": "reverse-picking",
   "metadata": {
    "execution": {
     "iopub.execute_input": "2021-08-28T02:30:06.590460Z",
     "iopub.status.busy": "2021-08-28T02:30:06.588501Z",
     "iopub.status.idle": "2021-08-28T02:30:07.391365Z",
     "shell.execute_reply": "2021-08-28T02:30:07.392804Z"
    },
    "papermill": {
     "duration": 0.855811,
     "end_time": "2021-08-28T02:30:07.393466",
     "exception": false,
     "start_time": "2021-08-28T02:30:06.537655",
     "status": "completed"
    },
    "tags": []
   },
   "outputs": [],
   "source": [
    "import pandas as pd\n",
    "import sqlite3"
   ]
  },
  {
   "cell_type": "code",
   "execution_count": 2,
   "id": "innovative-syndrome",
   "metadata": {
    "execution": {
     "iopub.execute_input": "2021-08-28T02:30:07.444598Z",
     "iopub.status.busy": "2021-08-28T02:30:07.442537Z",
     "iopub.status.idle": "2021-08-28T02:30:07.587456Z",
     "shell.execute_reply": "2021-08-28T02:30:07.588925Z"
    },
    "papermill": {
     "duration": 0.175437,
     "end_time": "2021-08-28T02:30:07.589351",
     "exception": false,
     "start_time": "2021-08-28T02:30:07.413914",
     "status": "completed"
    },
    "tags": []
   },
   "outputs": [],
   "source": [
    "timestamps = pd.read_sql(\"select distinct record_time from EBAY_TOP_BERLIN order by record_time desc limit 2\", sqlite3.connect(\"UsedObjects.db\"))"
   ]
  },
  {
   "cell_type": "code",
   "execution_count": 3,
   "id": "periodic-identification",
   "metadata": {
    "execution": {
     "iopub.execute_input": "2021-08-28T02:30:07.655281Z",
     "iopub.status.busy": "2021-08-28T02:30:07.653256Z",
     "iopub.status.idle": "2021-08-28T02:30:07.672830Z",
     "shell.execute_reply": "2021-08-28T02:30:07.674425Z"
    },
    "papermill": {
     "duration": 0.065998,
     "end_time": "2021-08-28T02:30:07.674896",
     "exception": false,
     "start_time": "2021-08-28T02:30:07.608898",
     "status": "completed"
    },
    "tags": []
   },
   "outputs": [
    {
     "data": {
      "text/html": [
       "<div>\n",
       "<style scoped>\n",
       "    .dataframe tbody tr th:only-of-type {\n",
       "        vertical-align: middle;\n",
       "    }\n",
       "\n",
       "    .dataframe tbody tr th {\n",
       "        vertical-align: top;\n",
       "    }\n",
       "\n",
       "    .dataframe thead th {\n",
       "        text-align: right;\n",
       "    }\n",
       "</style>\n",
       "<table border=\"1\" class=\"dataframe\">\n",
       "  <thead>\n",
       "    <tr style=\"text-align: right;\">\n",
       "      <th></th>\n",
       "      <th>RECORD_TIME</th>\n",
       "    </tr>\n",
       "  </thead>\n",
       "  <tbody>\n",
       "    <tr>\n",
       "      <th>0</th>\n",
       "      <td>2021-08-28 04:30</td>\n",
       "    </tr>\n",
       "    <tr>\n",
       "      <th>1</th>\n",
       "      <td>2021-08-28 04:00</td>\n",
       "    </tr>\n",
       "  </tbody>\n",
       "</table>\n",
       "</div>"
      ],
      "text/plain": [
       "        RECORD_TIME\n",
       "0  2021-08-28 04:30\n",
       "1  2021-08-28 04:00"
      ]
     },
     "execution_count": 3,
     "metadata": {},
     "output_type": "execute_result"
    }
   ],
   "source": [
    "timestamps"
   ]
  },
  {
   "cell_type": "code",
   "execution_count": 4,
   "id": "alternate-victory",
   "metadata": {
    "execution": {
     "iopub.execute_input": "2021-08-28T02:30:07.727499Z",
     "iopub.status.busy": "2021-08-28T02:30:07.725555Z",
     "iopub.status.idle": "2021-08-28T02:30:07.948989Z",
     "shell.execute_reply": "2021-08-28T02:30:07.950483Z"
    },
    "papermill": {
     "duration": 0.254364,
     "end_time": "2021-08-28T02:30:07.950926",
     "exception": false,
     "start_time": "2021-08-28T02:30:07.696562",
     "status": "completed"
    },
    "tags": []
   },
   "outputs": [],
   "source": [
    "df = pd.read_sql(\"select * from EBAY_TOP_BERLIN where record_time in (select distinct record_time from EBAY_TOP_BERLIN order by record_time desc limit 2)\", sqlite3.connect(\"UsedObjects.db\"))"
   ]
  },
  {
   "cell_type": "code",
   "execution_count": 5,
   "id": "popular-active",
   "metadata": {
    "execution": {
     "iopub.execute_input": "2021-08-28T02:30:08.022615Z",
     "iopub.status.busy": "2021-08-28T02:30:08.010271Z",
     "iopub.status.idle": "2021-08-28T02:30:08.038651Z",
     "shell.execute_reply": "2021-08-28T02:30:08.039887Z"
    },
    "papermill": {
     "duration": 0.067796,
     "end_time": "2021-08-28T02:30:08.040428",
     "exception": false,
     "start_time": "2021-08-28T02:30:07.972632",
     "status": "completed"
    },
    "tags": []
   },
   "outputs": [],
   "source": [
    "df_pivot = df.pivot_table(index=\"PRODUCT\", columns = \"RECORD_TIME\", values = \"LISTING_COUNT\")"
   ]
  },
  {
   "cell_type": "code",
   "execution_count": 6,
   "id": "union-huntington",
   "metadata": {
    "execution": {
     "iopub.execute_input": "2021-08-28T02:30:08.107512Z",
     "iopub.status.busy": "2021-08-28T02:30:08.105022Z",
     "iopub.status.idle": "2021-08-28T02:30:08.110861Z",
     "shell.execute_reply": "2021-08-28T02:30:08.112183Z"
    },
    "papermill": {
     "duration": 0.044764,
     "end_time": "2021-08-28T02:30:08.112659",
     "exception": false,
     "start_time": "2021-08-28T02:30:08.067895",
     "status": "completed"
    },
    "tags": []
   },
   "outputs": [],
   "source": [
    "df_pivot.columns = [\"stamp_1\", \"stamp_2\"]\n",
    "df_pivot_diff = df_pivot.diff(axis=1)"
   ]
  },
  {
   "cell_type": "code",
   "execution_count": 7,
   "id": "fifth-motion",
   "metadata": {
    "execution": {
     "iopub.execute_input": "2021-08-28T02:30:08.166807Z",
     "iopub.status.busy": "2021-08-28T02:30:08.164501Z",
     "iopub.status.idle": "2021-08-28T02:30:09.665755Z",
     "shell.execute_reply": "2021-08-28T02:30:09.667063Z"
    },
    "papermill": {
     "duration": 1.534521,
     "end_time": "2021-08-28T02:30:09.667484",
     "exception": false,
     "start_time": "2021-08-28T02:30:08.132963",
     "status": "completed"
    },
    "tags": []
   },
   "outputs": [
    {
     "data": {
      "text/plain": [
       "<AxesSubplot:ylabel='PRODUCT'>"
      ]
     },
     "execution_count": 7,
     "metadata": {},
     "output_type": "execute_result"
    },
    {
     "data": {
      "image/png": "[encoded data removed]",
      "text/plain": [
       "<Figure size 432x288 with 1 Axes>"
      ]
     },
     "metadata": {
      "needs_background": "light"
     },
     "output_type": "display_data"
    }
   ],
   "source": [
    "df_pivot_diff.sort_values(\"stamp_2\", ascending = False)[\"stamp_2\"].head(10).plot.barh()"
   ]
  },
  {
   "cell_type": "code",
   "execution_count": null,
   "id": "extra-executive",
   "metadata": {
    "papermill": {
     "duration": 0.022618,
     "end_time": "2021-08-28T02:30:09.714325",
     "exception": false,
     "start_time": "2021-08-28T02:30:09.691707",
     "status": "completed"
    },
    "tags": []
   },
   "outputs": [],
   "source": []
  }
 ],
 "metadata": {
  "kernelspec": {
   "display_name": "Python 3",
   "language": "python",
   "name": "python3"
  },
  "language_info": {
   "codemirror_mode": {
    "name": "ipython",
    "version": 3
   },
   "file_extension": ".py",
   "mimetype": "text/x-python",
   "name": "python",
   "nbconvert_exporter": "python",
   "pygments_lexer": "ipython3",
   "version": "3.9.5"
  },
  "papermill": {
   "default_parameters": {},
   "duration": 6.831242,
   "end_time": "2021-08-28T02:30:10.969651",
   "environment_variables": {},
   "exception": null,
   "input_path": "eBay_Overview.ipynb",
   "output_path": "eBay_Overview.ipynb",
   "parameters": {},
   "start_time": "2021-08-28T02:30:04.138409",
   "version": "2.3.3"
  }
 },
 "nbformat": 4,
 "nbformat_minor": 5
}