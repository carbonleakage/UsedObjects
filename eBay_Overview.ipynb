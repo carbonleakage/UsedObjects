{
 "cells": [
  {
   "cell_type": "code",
   "execution_count": 1,
   "id": "reverse-picking",
   "metadata": {
    "execution": {
     "iopub.execute_input": "2021-12-01T20:00:07.303271Z",
     "iopub.status.busy": "2021-12-01T20:00:07.300937Z",
     "iopub.status.idle": "2021-12-01T20:00:08.215075Z",
     "shell.execute_reply": "2021-12-01T20:00:08.216655Z"
    },
    "papermill": {
     "duration": 0.964452,
     "end_time": "2021-12-01T20:00:08.217424",
     "exception": false,
     "start_time": "2021-12-01T20:00:07.252972",
     "status": "completed"
    },
    "tags": []
   },
   "outputs": [],
   "source": [
    "import pandas as pd\n",
    "import sqlite3"
   ]
  },
  {
   "cell_type": "code",
   "execution_count": 2,
   "id": "innovative-syndrome",
   "metadata": {
    "execution": {
     "iopub.execute_input": "2021-12-01T20:00:08.282090Z",
     "iopub.status.busy": "2021-12-01T20:00:08.279829Z",
     "iopub.status.idle": "2021-12-01T20:00:09.257337Z",
     "shell.execute_reply": "2021-12-01T20:00:09.258754Z"
    },
    "papermill": {
     "duration": 1.011049,
     "end_time": "2021-12-01T20:00:09.259224",
     "exception": false,
     "start_time": "2021-12-01T20:00:08.248175",
     "status": "completed"
    },
    "tags": []
   },
   "outputs": [],
   "source": [
    "timestamps = pd.read_sql(\"select distinct record_time from EBAY_TOP_BERLIN order by record_time desc limit 2\", sqlite3.connect(\"UsedObjects.db\"))"
   ]
  },
  {
   "cell_type": "code",
   "execution_count": 3,
   "id": "periodic-identification",
   "metadata": {
    "execution": {
     "iopub.execute_input": "2021-12-01T20:00:09.334110Z",
     "iopub.status.busy": "2021-12-01T20:00:09.330070Z",
     "iopub.status.idle": "2021-12-01T20:00:09.352649Z",
     "shell.execute_reply": "2021-12-01T20:00:09.354230Z"
    },
    "papermill": {
     "duration": 0.074923,
     "end_time": "2021-12-01T20:00:09.354700",
     "exception": false,
     "start_time": "2021-12-01T20:00:09.279777",
     "status": "completed"
    },
    "tags": []
   },
   "outputs": [
    {
     "data": {
      "text/html": [
       "<div>\n",
       "<style scoped>\n",
       "    .dataframe tbody tr th:only-of-type {\n",
       "        vertical-align: middle;\n",
       "    }\n",
       "\n",
       "    .dataframe tbody tr th {\n",
       "        vertical-align: top;\n",
       "    }\n",
       "\n",
       "    .dataframe thead th {\n",
       "        text-align: right;\n",
       "    }\n",
       "</style>\n",
       "<table border=\"1\" class=\"dataframe\">\n",
       "  <thead>\n",
       "    <tr style=\"text-align: right;\">\n",
       "      <th></th>\n",
       "      <th>RECORD_TIME</th>\n",
       "    </tr>\n",
       "  </thead>\n",
       "  <tbody>\n",
       "    <tr>\n",
       "      <th>0</th>\n",
       "      <td>2021-12-01 21:00</td>\n",
       "    </tr>\n",
       "    <tr>\n",
       "      <th>1</th>\n",
       "      <td>2021-12-01 20:30</td>\n",
       "    </tr>\n",
       "  </tbody>\n",
       "</table>\n",
       "</div>"
      ],
      "text/plain": [
       "        RECORD_TIME\n",
       "0  2021-12-01 21:00\n",
       "1  2021-12-01 20:30"
      ]
     },
     "execution_count": 3,
     "metadata": {},
     "output_type": "execute_result"
    }
   ],
   "source": [
    "timestamps"
   ]
  },
  {
   "cell_type": "code",
   "execution_count": 4,
   "id": "alternate-victory",
   "metadata": {
    "execution": {
     "iopub.execute_input": "2021-12-01T20:00:09.409214Z",
     "iopub.status.busy": "2021-12-01T20:00:09.406834Z",
     "iopub.status.idle": "2021-12-01T20:00:10.814282Z",
     "shell.execute_reply": "2021-12-01T20:00:10.815923Z"
    },
    "papermill": {
     "duration": 1.441049,
     "end_time": "2021-12-01T20:00:10.816457",
     "exception": false,
     "start_time": "2021-12-01T20:00:09.375408",
     "status": "completed"
    },
    "tags": []
   },
   "outputs": [],
   "source": [
    "df = pd.read_sql(\"select * from EBAY_TOP_BERLIN where record_time in (select distinct record_time from EBAY_TOP_BERLIN order by record_time desc limit 2)\", sqlite3.connect(\"UsedObjects.db\"))"
   ]
  },
  {
   "cell_type": "code",
   "execution_count": 5,
   "id": "popular-active",
   "metadata": {
    "execution": {
     "iopub.execute_input": "2021-12-01T20:00:10.889414Z",
     "iopub.status.busy": "2021-12-01T20:00:10.886970Z",
     "iopub.status.idle": "2021-12-01T20:00:10.912417Z",
     "shell.execute_reply": "2021-12-01T20:00:10.913921Z"
    },
    "papermill": {
     "duration": 0.076013,
     "end_time": "2021-12-01T20:00:10.914400",
     "exception": false,
     "start_time": "2021-12-01T20:00:10.838387",
     "status": "completed"
    },
    "tags": []
   },
   "outputs": [],
   "source": [
    "df_pivot = df.pivot_table(index=\"PRODUCT\", columns = \"RECORD_TIME\", values = \"LISTING_COUNT\")"
   ]
  },
  {
   "cell_type": "code",
   "execution_count": 6,
   "id": "union-huntington",
   "metadata": {
    "execution": {
     "iopub.execute_input": "2021-12-01T20:00:10.972406Z",
     "iopub.status.busy": "2021-12-01T20:00:10.970231Z",
     "iopub.status.idle": "2021-12-01T20:00:10.975826Z",
     "shell.execute_reply": "2021-12-01T20:00:10.977360Z"
    },
    "papermill": {
     "duration": 0.04357,
     "end_time": "2021-12-01T20:00:10.977828",
     "exception": false,
     "start_time": "2021-12-01T20:00:10.934258",
     "status": "completed"
    },
    "tags": []
   },
   "outputs": [],
   "source": [
    "df_pivot.columns = [\"stamp_1\", \"stamp_2\"]\n",
    "df_pivot_diff = df_pivot.diff(axis=1)"
   ]
  },
  {
   "cell_type": "code",
   "execution_count": 7,
   "id": "fifth-motion",
   "metadata": {
    "execution": {
     "iopub.execute_input": "2021-12-01T20:00:11.038358Z",
     "iopub.status.busy": "2021-12-01T20:00:11.035679Z",
     "iopub.status.idle": "2021-12-01T20:00:12.987097Z",
     "shell.execute_reply": "2021-12-01T20:00:12.990024Z"
    },
    "papermill": {
     "duration": 1.992797,
     "end_time": "2021-12-01T20:00:12.990874",
     "exception": false,
     "start_time": "2021-12-01T20:00:10.998077",
     "status": "completed"
    },
    "tags": []
   },
   "outputs": [
    {
     "data": {
      "text/plain": [
       "<AxesSubplot:ylabel='PRODUCT'>"
      ]
     },
     "execution_count": 7,
     "metadata": {},
     "output_type": "execute_result"
    },
    {
     "data": {
      "image/png": "[encoded data removed]",
      "text/plain": [
       "<Figure size 432x288 with 1 Axes>"
      ]
     },
     "metadata": {
      "needs_background": "light"
     },
     "output_type": "display_data"
    }
   ],
   "source": [
    "df_pivot_diff.sort_values(\"stamp_2\", ascending = False)[\"stamp_2\"].head(10).plot.barh()"
   ]
  },
  {
   "cell_type": "code",
   "execution_count": null,
   "id": "extra-executive",
   "metadata": {
    "papermill": {
     "duration": 0.031606,
     "end_time": "2021-12-01T20:00:13.058869",
     "exception": false,
     "start_time": "2021-12-01T20:00:13.027263",
     "status": "completed"
    },
    "tags": []
   },
   "outputs": [],
   "source": []
  }
 ],
 "metadata": {
  "kernelspec": {
   "display_name": "Python 3",
   "language": "python",
   "name": "python3"
  },
  "language_info": {
   "codemirror_mode": {
    "name": "ipython",
    "version": 3
   },
   "file_extension": ".py",
   "mimetype": "text/x-python",
   "name": "python",
   "nbconvert_exporter": "python",
   "pygments_lexer": "ipython3",
   "version": "3.9.5"
  },
  "papermill": {
   "default_parameters": {},
   "duration": 9.931944,
   "end_time": "2021-12-01T20:00:14.480447",
   "environment_variables": {},
   "exception": null,
   "input_path": "eBay_Overview.ipynb",
   "output_path": "eBay_Overview.ipynb",
   "parameters": {},
   "start_time": "2021-12-01T20:00:04.548503",
   "version": "2.3.3"
  }
 },
 "nbformat": 4,
 "nbformat_minor": 5
}