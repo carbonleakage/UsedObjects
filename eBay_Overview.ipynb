{
 "cells": [
  {
   "cell_type": "code",
   "execution_count": 1,
   "id": "reverse-picking",
   "metadata": {
    "execution": {
     "iopub.execute_input": "2021-08-11T13:00:03.984608Z",
     "iopub.status.busy": "2021-08-11T13:00:03.983841Z",
     "iopub.status.idle": "2021-08-11T13:00:04.589263Z",
     "shell.execute_reply": "2021-08-11T13:00:04.588544Z"
    },
    "papermill": {
     "duration": 0.624527,
     "end_time": "2021-08-11T13:00:04.589457",
     "exception": false,
     "start_time": "2021-08-11T13:00:03.964930",
     "status": "completed"
    },
    "tags": []
   },
   "outputs": [],
   "source": [
    "import pandas as pd\n",
    "import sqlite3"
   ]
  },
  {
   "cell_type": "code",
   "execution_count": 2,
   "id": "innovative-syndrome",
   "metadata": {
    "execution": {
     "iopub.execute_input": "2021-08-11T13:00:04.614085Z",
     "iopub.status.busy": "2021-08-11T13:00:04.613204Z",
     "iopub.status.idle": "2021-08-11T13:00:04.908603Z",
     "shell.execute_reply": "2021-08-11T13:00:04.909762Z"
    },
    "papermill": {
     "duration": 0.311485,
     "end_time": "2021-08-11T13:00:04.910091",
     "exception": false,
     "start_time": "2021-08-11T13:00:04.598606",
     "status": "completed"
    },
    "tags": []
   },
   "outputs": [],
   "source": [
    "timestamps = pd.read_sql(\"select distinct record_time from EBAY_TOP_BERLIN order by record_time desc limit 2\", sqlite3.connect(\"UsedObjects.db\"))"
   ]
  },
  {
   "cell_type": "code",
   "execution_count": 3,
   "id": "periodic-identification",
   "metadata": {
    "execution": {
     "iopub.execute_input": "2021-08-11T13:00:04.944928Z",
     "iopub.status.busy": "2021-08-11T13:00:04.944152Z",
     "iopub.status.idle": "2021-08-11T13:00:04.955860Z",
     "shell.execute_reply": "2021-08-11T13:00:04.956414Z"
    },
    "papermill": {
     "duration": 0.033788,
     "end_time": "2021-08-11T13:00:04.956596",
     "exception": false,
     "start_time": "2021-08-11T13:00:04.922808",
     "status": "completed"
    },
    "tags": []
   },
   "outputs": [
    {
     "data": {
      "text/html": [
       "<div>\n",
       "<style scoped>\n",
       "    .dataframe tbody tr th:only-of-type {\n",
       "        vertical-align: middle;\n",
       "    }\n",
       "\n",
       "    .dataframe tbody tr th {\n",
       "        vertical-align: top;\n",
       "    }\n",
       "\n",
       "    .dataframe thead th {\n",
       "        text-align: right;\n",
       "    }\n",
       "</style>\n",
       "<table border=\"1\" class=\"dataframe\">\n",
       "  <thead>\n",
       "    <tr style=\"text-align: right;\">\n",
       "      <th></th>\n",
       "      <th>RECORD_TIME</th>\n",
       "    </tr>\n",
       "  </thead>\n",
       "  <tbody>\n",
       "    <tr>\n",
       "      <th>0</th>\n",
       "      <td>2021-08-11 15:00</td>\n",
       "    </tr>\n",
       "    <tr>\n",
       "      <th>1</th>\n",
       "      <td>2021-08-11 14:30</td>\n",
       "    </tr>\n",
       "  </tbody>\n",
       "</table>\n",
       "</div>"
      ],
      "text/plain": [
       "        RECORD_TIME\n",
       "0  2021-08-11 15:00\n",
       "1  2021-08-11 14:30"
      ]
     },
     "execution_count": 3,
     "metadata": {},
     "output_type": "execute_result"
    }
   ],
   "source": [
    "timestamps"
   ]
  },
  {
   "cell_type": "code",
   "execution_count": 4,
   "id": "alternate-victory",
   "metadata": {
    "execution": {
     "iopub.execute_input": "2021-08-11T13:00:04.982083Z",
     "iopub.status.busy": "2021-08-11T13:00:04.981319Z",
     "iopub.status.idle": "2021-08-11T13:00:05.000387Z",
     "shell.execute_reply": "2021-08-11T13:00:05.000960Z"
    },
    "papermill": {
     "duration": 0.034389,
     "end_time": "2021-08-11T13:00:05.001156",
     "exception": false,
     "start_time": "2021-08-11T13:00:04.966767",
     "status": "completed"
    },
    "tags": []
   },
   "outputs": [],
   "source": [
    "df = pd.read_sql(\"select * from EBAY_TOP_BERLIN where record_time in (select distinct record_time from EBAY_TOP_BERLIN order by record_time desc limit 2)\", sqlite3.connect(\"UsedObjects.db\"))"
   ]
  },
  {
   "cell_type": "code",
   "execution_count": 5,
   "id": "popular-active",
   "metadata": {
    "execution": {
     "iopub.execute_input": "2021-08-11T13:00:05.027946Z",
     "iopub.status.busy": "2021-08-11T13:00:05.027188Z",
     "iopub.status.idle": "2021-08-11T13:00:05.046310Z",
     "shell.execute_reply": "2021-08-11T13:00:05.046878Z"
    },
    "papermill": {
     "duration": 0.037269,
     "end_time": "2021-08-11T13:00:05.047072",
     "exception": false,
     "start_time": "2021-08-11T13:00:05.009803",
     "status": "completed"
    },
    "tags": []
   },
   "outputs": [],
   "source": [
    "df_pivot = df.pivot_table(index=\"PRODUCT\", columns = \"RECORD_TIME\", values = \"LISTING_COUNT\")"
   ]
  },
  {
   "cell_type": "code",
   "execution_count": 6,
   "id": "union-huntington",
   "metadata": {
    "execution": {
     "iopub.execute_input": "2021-08-11T13:00:05.076755Z",
     "iopub.status.busy": "2021-08-11T13:00:05.076058Z",
     "iopub.status.idle": "2021-08-11T13:00:05.081705Z",
     "shell.execute_reply": "2021-08-11T13:00:05.081092Z"
    },
    "papermill": {
     "duration": 0.024991,
     "end_time": "2021-08-11T13:00:05.081868",
     "exception": false,
     "start_time": "2021-08-11T13:00:05.056877",
     "status": "completed"
    },
    "tags": []
   },
   "outputs": [],
   "source": [
    "df_pivot.columns = [\"stamp_1\", \"stamp_2\"]\n",
    "df_pivot_diff = df_pivot.diff(axis=1)"
   ]
  },
  {
   "cell_type": "code",
   "execution_count": 7,
   "id": "fifth-motion",
   "metadata": {
    "execution": {
     "iopub.execute_input": "2021-08-11T13:00:05.110808Z",
     "iopub.status.busy": "2021-08-11T13:00:05.109991Z",
     "iopub.status.idle": "2021-08-11T13:00:05.755043Z",
     "shell.execute_reply": "2021-08-11T13:00:05.755577Z"
    },
    "papermill": {
     "duration": 0.664586,
     "end_time": "2021-08-11T13:00:05.755759",
     "exception": false,
     "start_time": "2021-08-11T13:00:05.091173",
     "status": "completed"
    },
    "tags": []
   },
   "outputs": [
    {
     "data": {
      "text/plain": [
       "<AxesSubplot:ylabel='PRODUCT'>"
      ]
     },
     "execution_count": 7,
     "metadata": {},
     "output_type": "execute_result"
    },
    {
     "data": {
      "image/png": "[encoded data removed]",
      "text/plain": [
       "<Figure size 432x288 with 1 Axes>"
      ]
     },
     "metadata": {
      "needs_background": "light"
     },
     "output_type": "display_data"
    }
   ],
   "source": [
    "df_pivot_diff.sort_values(\"stamp_2\", ascending = False)[\"stamp_2\"].head(10).plot.barh()"
   ]
  },
  {
   "cell_type": "code",
   "execution_count": null,
   "id": "extra-executive",
   "metadata": {
    "papermill": {
     "duration": 0.009579,
     "end_time": "2021-08-11T13:00:05.777922",
     "exception": false,
     "start_time": "2021-08-11T13:00:05.768343",
     "status": "completed"
    },
    "tags": []
   },
   "outputs": [],
   "source": []
  }
 ],
 "metadata": {
  "kernelspec": {
   "display_name": "Python 3",
   "language": "python",
   "name": "python3"
  },
  "language_info": {
   "codemirror_mode": {
    "name": "ipython",
    "version": 3
   },
   "file_extension": ".py",
   "mimetype": "text/x-python",
   "name": "python",
   "nbconvert_exporter": "python",
   "pygments_lexer": "ipython3",
   "version": "3.8.8"
  },
  "papermill": {
   "default_parameters": {},
   "duration": 4.979027,
   "end_time": "2021-08-11T13:00:07.239923",
   "environment_variables": {},
   "exception": null,
   "input_path": "/Users/saravananshanmugam/Carbonleakage_Git/UsedObjects/eBay_Overview.ipynb",
   "output_path": "/Users/saravananshanmugam/Carbonleakage_Git/UsedObjects/eBay_Overview.ipynb",
   "parameters": {},
   "start_time": "2021-08-11T13:00:02.260896",
   "version": "2.3.3"
  }
 },
 "nbformat": 4,
 "nbformat_minor": 5
}