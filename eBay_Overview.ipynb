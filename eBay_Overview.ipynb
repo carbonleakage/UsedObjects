{
 "cells": [
  {
   "cell_type": "code",
   "execution_count": 1,
   "id": "reverse-picking",
   "metadata": {
    "execution": {
     "iopub.execute_input": "2021-10-08T06:30:06.756131Z",
     "iopub.status.busy": "2021-10-08T06:30:06.754053Z",
     "iopub.status.idle": "2021-10-08T06:30:07.569406Z",
     "shell.execute_reply": "2021-10-08T06:30:07.567803Z"
    },
    "papermill": {
     "duration": 0.863643,
     "end_time": "2021-10-08T06:30:07.569795",
     "exception": false,
     "start_time": "2021-10-08T06:30:06.706152",
     "status": "completed"
    },
    "tags": []
   },
   "outputs": [],
   "source": [
    "import pandas as pd\n",
    "import sqlite3"
   ]
  },
  {
   "cell_type": "code",
   "execution_count": 2,
   "id": "innovative-syndrome",
   "metadata": {
    "execution": {
     "iopub.execute_input": "2021-10-08T06:30:07.620966Z",
     "iopub.status.busy": "2021-10-08T06:30:07.618678Z",
     "iopub.status.idle": "2021-10-08T06:30:08.106104Z",
     "shell.execute_reply": "2021-10-08T06:30:08.107357Z"
    },
    "papermill": {
     "duration": 0.517374,
     "end_time": "2021-10-08T06:30:08.107786",
     "exception": false,
     "start_time": "2021-10-08T06:30:07.590412",
     "status": "completed"
    },
    "tags": []
   },
   "outputs": [],
   "source": [
    "timestamps = pd.read_sql(\"select distinct record_time from EBAY_TOP_BERLIN order by record_time desc limit 2\", sqlite3.connect(\"UsedObjects.db\"))"
   ]
  },
  {
   "cell_type": "code",
   "execution_count": 3,
   "id": "periodic-identification",
   "metadata": {
    "execution": {
     "iopub.execute_input": "2021-10-08T06:30:08.173311Z",
     "iopub.status.busy": "2021-10-08T06:30:08.171262Z",
     "iopub.status.idle": "2021-10-08T06:30:08.191277Z",
     "shell.execute_reply": "2021-10-08T06:30:08.192628Z"
    },
    "papermill": {
     "duration": 0.064468,
     "end_time": "2021-10-08T06:30:08.193032",
     "exception": false,
     "start_time": "2021-10-08T06:30:08.128564",
     "status": "completed"
    },
    "tags": []
   },
   "outputs": [
    {
     "data": {
      "text/html": [
       "<div>\n",
       "<style scoped>\n",
       "    .dataframe tbody tr th:only-of-type {\n",
       "        vertical-align: middle;\n",
       "    }\n",
       "\n",
       "    .dataframe tbody tr th {\n",
       "        vertical-align: top;\n",
       "    }\n",
       "\n",
       "    .dataframe thead th {\n",
       "        text-align: right;\n",
       "    }\n",
       "</style>\n",
       "<table border=\"1\" class=\"dataframe\">\n",
       "  <thead>\n",
       "    <tr style=\"text-align: right;\">\n",
       "      <th></th>\n",
       "      <th>RECORD_TIME</th>\n",
       "    </tr>\n",
       "  </thead>\n",
       "  <tbody>\n",
       "    <tr>\n",
       "      <th>0</th>\n",
       "      <td>2021-10-08 08:30</td>\n",
       "    </tr>\n",
       "    <tr>\n",
       "      <th>1</th>\n",
       "      <td>2021-10-08 08:00</td>\n",
       "    </tr>\n",
       "  </tbody>\n",
       "</table>\n",
       "</div>"
      ],
      "text/plain": [
       "        RECORD_TIME\n",
       "0  2021-10-08 08:30\n",
       "1  2021-10-08 08:00"
      ]
     },
     "execution_count": 3,
     "metadata": {},
     "output_type": "execute_result"
    }
   ],
   "source": [
    "timestamps"
   ]
  },
  {
   "cell_type": "code",
   "execution_count": 4,
   "id": "alternate-victory",
   "metadata": {
    "execution": {
     "iopub.execute_input": "2021-10-08T06:30:08.253818Z",
     "iopub.status.busy": "2021-10-08T06:30:08.251952Z",
     "iopub.status.idle": "2021-10-08T06:30:08.956860Z",
     "shell.execute_reply": "2021-10-08T06:30:08.958099Z"
    },
    "papermill": {
     "duration": 0.738435,
     "end_time": "2021-10-08T06:30:08.958497",
     "exception": false,
     "start_time": "2021-10-08T06:30:08.220062",
     "status": "completed"
    },
    "tags": []
   },
   "outputs": [],
   "source": [
    "df = pd.read_sql(\"select * from EBAY_TOP_BERLIN where record_time in (select distinct record_time from EBAY_TOP_BERLIN order by record_time desc limit 2)\", sqlite3.connect(\"UsedObjects.db\"))"
   ]
  },
  {
   "cell_type": "code",
   "execution_count": 5,
   "id": "popular-active",
   "metadata": {
    "execution": {
     "iopub.execute_input": "2021-10-08T06:30:09.028249Z",
     "iopub.status.busy": "2021-10-08T06:30:09.017023Z",
     "iopub.status.idle": "2021-10-08T06:30:09.044923Z",
     "shell.execute_reply": "2021-10-08T06:30:09.046156Z"
    },
    "papermill": {
     "duration": 0.067516,
     "end_time": "2021-10-08T06:30:09.046556",
     "exception": false,
     "start_time": "2021-10-08T06:30:08.979040",
     "status": "completed"
    },
    "tags": []
   },
   "outputs": [],
   "source": [
    "df_pivot = df.pivot_table(index=\"PRODUCT\", columns = \"RECORD_TIME\", values = \"LISTING_COUNT\")"
   ]
  },
  {
   "cell_type": "code",
   "execution_count": 6,
   "id": "union-huntington",
   "metadata": {
    "execution": {
     "iopub.execute_input": "2021-10-08T06:30:09.102924Z",
     "iopub.status.busy": "2021-10-08T06:30:09.100770Z",
     "iopub.status.idle": "2021-10-08T06:30:09.107712Z",
     "shell.execute_reply": "2021-10-08T06:30:09.105892Z"
    },
    "papermill": {
     "duration": 0.040721,
     "end_time": "2021-10-08T06:30:09.108081",
     "exception": false,
     "start_time": "2021-10-08T06:30:09.067360",
     "status": "completed"
    },
    "tags": []
   },
   "outputs": [],
   "source": [
    "df_pivot.columns = [\"stamp_1\", \"stamp_2\"]\n",
    "df_pivot_diff = df_pivot.diff(axis=1)"
   ]
  },
  {
   "cell_type": "code",
   "execution_count": 7,
   "id": "fifth-motion",
   "metadata": {
    "execution": {
     "iopub.execute_input": "2021-10-08T06:30:09.162180Z",
     "iopub.status.busy": "2021-10-08T06:30:09.159764Z",
     "iopub.status.idle": "2021-10-08T06:30:10.644188Z",
     "shell.execute_reply": "2021-10-08T06:30:10.645579Z"
    },
    "papermill": {
     "duration": 1.517582,
     "end_time": "2021-10-08T06:30:10.646014",
     "exception": false,
     "start_time": "2021-10-08T06:30:09.128432",
     "status": "completed"
    },
    "tags": []
   },
   "outputs": [
    {
     "data": {
      "text/plain": [
       "<AxesSubplot:ylabel='PRODUCT'>"
      ]
     },
     "execution_count": 7,
     "metadata": {},
     "output_type": "execute_result"
    },
    {
     "data": {
      "image/png": "[encoded data removed]",
      "text/plain": [
       "<Figure size 432x288 with 1 Axes>"
      ]
     },
     "metadata": {
      "needs_background": "light"
     },
     "output_type": "display_data"
    }
   ],
   "source": [
    "df_pivot_diff.sort_values(\"stamp_2\", ascending = False)[\"stamp_2\"].head(10).plot.barh()"
   ]
  },
  {
   "cell_type": "code",
   "execution_count": null,
   "id": "extra-executive",
   "metadata": {
    "papermill": {
     "duration": 0.022048,
     "end_time": "2021-10-08T06:30:10.691981",
     "exception": false,
     "start_time": "2021-10-08T06:30:10.669933",
     "status": "completed"
    },
    "tags": []
   },
   "outputs": [],
   "source": []
  }
 ],
 "metadata": {
  "kernelspec": {
   "display_name": "Python 3",
   "language": "python",
   "name": "python3"
  },
  "language_info": {
   "codemirror_mode": {
    "name": "ipython",
    "version": 3
   },
   "file_extension": ".py",
   "mimetype": "text/x-python",
   "name": "python",
   "nbconvert_exporter": "python",
   "pygments_lexer": "ipython3",
   "version": "3.9.5"
  },
  "papermill": {
   "default_parameters": {},
   "duration": 7.82229,
   "end_time": "2021-10-08T06:30:12.108004",
   "environment_variables": {},
   "exception": null,
   "input_path": "eBay_Overview.ipynb",
   "output_path": "eBay_Overview.ipynb",
   "parameters": {},
   "start_time": "2021-10-08T06:30:04.285714",
   "version": "2.3.3"
  }
 },
 "nbformat": 4,
 "nbformat_minor": 5
}