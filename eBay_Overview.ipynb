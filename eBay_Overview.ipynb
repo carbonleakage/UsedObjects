{
 "cells": [
  {
   "cell_type": "code",
   "execution_count": 1,
   "id": "reverse-picking",
   "metadata": {
    "execution": {
     "iopub.execute_input": "2021-08-14T14:30:07.491750Z",
     "iopub.status.busy": "2021-08-14T14:30:07.489675Z",
     "iopub.status.idle": "2021-08-14T14:30:08.302536Z",
     "shell.execute_reply": "2021-08-14T14:30:08.303874Z"
    },
    "papermill": {
     "duration": 0.865419,
     "end_time": "2021-08-14T14:30:08.304515",
     "exception": false,
     "start_time": "2021-08-14T14:30:07.439096",
     "status": "completed"
    },
    "tags": []
   },
   "outputs": [],
   "source": [
    "import pandas as pd\n",
    "import sqlite3"
   ]
  },
  {
   "cell_type": "code",
   "execution_count": 2,
   "id": "innovative-syndrome",
   "metadata": {
    "execution": {
     "iopub.execute_input": "2021-08-14T14:30:08.356156Z",
     "iopub.status.busy": "2021-08-14T14:30:08.354265Z",
     "iopub.status.idle": "2021-08-14T14:30:08.401952Z",
     "shell.execute_reply": "2021-08-14T14:30:08.403175Z"
    },
    "papermill": {
     "duration": 0.077193,
     "end_time": "2021-08-14T14:30:08.403571",
     "exception": false,
     "start_time": "2021-08-14T14:30:08.326378",
     "status": "completed"
    },
    "tags": []
   },
   "outputs": [],
   "source": [
    "timestamps = pd.read_sql(\"select distinct record_time from EBAY_TOP_BERLIN order by record_time desc limit 2\", sqlite3.connect(\"UsedObjects.db\"))"
   ]
  },
  {
   "cell_type": "code",
   "execution_count": 3,
   "id": "periodic-identification",
   "metadata": {
    "execution": {
     "iopub.execute_input": "2021-08-14T14:30:08.470863Z",
     "iopub.status.busy": "2021-08-14T14:30:08.468746Z",
     "iopub.status.idle": "2021-08-14T14:30:08.488763Z",
     "shell.execute_reply": "2021-08-14T14:30:08.490288Z"
    },
    "papermill": {
     "duration": 0.065189,
     "end_time": "2021-08-14T14:30:08.490753",
     "exception": false,
     "start_time": "2021-08-14T14:30:08.425564",
     "status": "completed"
    },
    "tags": []
   },
   "outputs": [
    {
     "data": {
      "text/html": [
       "<div>\n",
       "<style scoped>\n",
       "    .dataframe tbody tr th:only-of-type {\n",
       "        vertical-align: middle;\n",
       "    }\n",
       "\n",
       "    .dataframe tbody tr th {\n",
       "        vertical-align: top;\n",
       "    }\n",
       "\n",
       "    .dataframe thead th {\n",
       "        text-align: right;\n",
       "    }\n",
       "</style>\n",
       "<table border=\"1\" class=\"dataframe\">\n",
       "  <thead>\n",
       "    <tr style=\"text-align: right;\">\n",
       "      <th></th>\n",
       "      <th>RECORD_TIME</th>\n",
       "    </tr>\n",
       "  </thead>\n",
       "  <tbody>\n",
       "    <tr>\n",
       "      <th>0</th>\n",
       "      <td>2021-08-14 16:30</td>\n",
       "    </tr>\n",
       "    <tr>\n",
       "      <th>1</th>\n",
       "      <td>2021-08-14 16:00</td>\n",
       "    </tr>\n",
       "  </tbody>\n",
       "</table>\n",
       "</div>"
      ],
      "text/plain": [
       "        RECORD_TIME\n",
       "0  2021-08-14 16:30\n",
       "1  2021-08-14 16:00"
      ]
     },
     "execution_count": 3,
     "metadata": {},
     "output_type": "execute_result"
    }
   ],
   "source": [
    "timestamps"
   ]
  },
  {
   "cell_type": "code",
   "execution_count": 4,
   "id": "alternate-victory",
   "metadata": {
    "execution": {
     "iopub.execute_input": "2021-08-14T14:30:08.543259Z",
     "iopub.status.busy": "2021-08-14T14:30:08.541308Z",
     "iopub.status.idle": "2021-08-14T14:30:08.610772Z",
     "shell.execute_reply": "2021-08-14T14:30:08.611981Z"
    },
    "papermill": {
     "duration": 0.09939,
     "end_time": "2021-08-14T14:30:08.612374",
     "exception": false,
     "start_time": "2021-08-14T14:30:08.512984",
     "status": "completed"
    },
    "tags": []
   },
   "outputs": [],
   "source": [
    "df = pd.read_sql(\"select * from EBAY_TOP_BERLIN where record_time in (select distinct record_time from EBAY_TOP_BERLIN order by record_time desc limit 2)\", sqlite3.connect(\"UsedObjects.db\"))"
   ]
  },
  {
   "cell_type": "code",
   "execution_count": 5,
   "id": "popular-active",
   "metadata": {
    "execution": {
     "iopub.execute_input": "2021-08-14T14:30:08.685265Z",
     "iopub.status.busy": "2021-08-14T14:30:08.674586Z",
     "iopub.status.idle": "2021-08-14T14:30:08.701954Z",
     "shell.execute_reply": "2021-08-14T14:30:08.703197Z"
    },
    "papermill": {
     "duration": 0.067919,
     "end_time": "2021-08-14T14:30:08.703592",
     "exception": false,
     "start_time": "2021-08-14T14:30:08.635673",
     "status": "completed"
    },
    "tags": []
   },
   "outputs": [],
   "source": [
    "df_pivot = df.pivot_table(index=\"PRODUCT\", columns = \"RECORD_TIME\", values = \"LISTING_COUNT\")"
   ]
  },
  {
   "cell_type": "code",
   "execution_count": 6,
   "id": "union-huntington",
   "metadata": {
    "execution": {
     "iopub.execute_input": "2021-08-14T14:30:08.763768Z",
     "iopub.status.busy": "2021-08-14T14:30:08.761303Z",
     "iopub.status.idle": "2021-08-14T14:30:08.767412Z",
     "shell.execute_reply": "2021-08-14T14:30:08.768866Z"
    },
    "papermill": {
     "duration": 0.042657,
     "end_time": "2021-08-14T14:30:08.769324",
     "exception": false,
     "start_time": "2021-08-14T14:30:08.726667",
     "status": "completed"
    },
    "tags": []
   },
   "outputs": [],
   "source": [
    "df_pivot.columns = [\"stamp_1\", \"stamp_2\"]\n",
    "df_pivot_diff = df_pivot.diff(axis=1)"
   ]
  },
  {
   "cell_type": "code",
   "execution_count": 7,
   "id": "fifth-motion",
   "metadata": {
    "execution": {
     "iopub.execute_input": "2021-08-14T14:30:08.823635Z",
     "iopub.status.busy": "2021-08-14T14:30:08.821160Z",
     "iopub.status.idle": "2021-08-14T14:30:10.327643Z",
     "shell.execute_reply": "2021-08-14T14:30:10.328998Z"
    },
    "papermill": {
     "duration": 1.539406,
     "end_time": "2021-08-14T14:30:10.329437",
     "exception": false,
     "start_time": "2021-08-14T14:30:08.790031",
     "status": "completed"
    },
    "tags": []
   },
   "outputs": [
    {
     "data": {
      "text/plain": [
       "<AxesSubplot:ylabel='PRODUCT'>"
      ]
     },
     "execution_count": 7,
     "metadata": {},
     "output_type": "execute_result"
    },
    {
     "data": {
      "image/png": "[encoded data removed]",
      "text/plain": [
       "<Figure size 432x288 with 1 Axes>"
      ]
     },
     "metadata": {
      "needs_background": "light"
     },
     "output_type": "display_data"
    }
   ],
   "source": [
    "df_pivot_diff.sort_values(\"stamp_2\", ascending = False)[\"stamp_2\"].head(10).plot.barh()"
   ]
  },
  {
   "cell_type": "code",
   "execution_count": null,
   "id": "extra-executive",
   "metadata": {
    "papermill": {
     "duration": 0.022405,
     "end_time": "2021-08-14T14:30:10.376977",
     "exception": false,
     "start_time": "2021-08-14T14:30:10.354572",
     "status": "completed"
    },
    "tags": []
   },
   "outputs": [],
   "source": []
  }
 ],
 "metadata": {
  "kernelspec": {
   "display_name": "Python 3",
   "language": "python",
   "name": "python3"
  },
  "language_info": {
   "codemirror_mode": {
    "name": "ipython",
    "version": 3
   },
   "file_extension": ".py",
   "mimetype": "text/x-python",
   "name": "python",
   "nbconvert_exporter": "python",
   "pygments_lexer": "ipython3",
   "version": "3.9.5"
  },
  "papermill": {
   "default_parameters": {},
   "duration": 6.827267,
   "end_time": "2021-08-14T14:30:11.846304",
   "environment_variables": {},
   "exception": null,
   "input_path": "eBay_Overview.ipynb",
   "output_path": "eBay_Overview.ipynb",
   "parameters": {},
   "start_time": "2021-08-14T14:30:05.019037",
   "version": "2.3.3"
  }
 },
 "nbformat": 4,
 "nbformat_minor": 5
}