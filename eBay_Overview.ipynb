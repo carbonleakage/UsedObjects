{
 "cells": [
  {
   "cell_type": "code",
   "execution_count": 1,
   "id": "reverse-picking",
   "metadata": {
    "execution": {
     "iopub.execute_input": "2021-10-07T11:30:07.593596Z",
     "iopub.status.busy": "2021-10-07T11:30:07.591654Z",
     "iopub.status.idle": "2021-10-07T11:30:08.402196Z",
     "shell.execute_reply": "2021-10-07T11:30:08.403776Z"
    },
    "papermill": {
     "duration": 0.864697,
     "end_time": "2021-10-07T11:30:08.404432",
     "exception": false,
     "start_time": "2021-10-07T11:30:07.539735",
     "status": "completed"
    },
    "tags": []
   },
   "outputs": [],
   "source": [
    "import pandas as pd\n",
    "import sqlite3"
   ]
  },
  {
   "cell_type": "code",
   "execution_count": 2,
   "id": "innovative-syndrome",
   "metadata": {
    "execution": {
     "iopub.execute_input": "2021-10-07T11:30:08.455011Z",
     "iopub.status.busy": "2021-10-07T11:30:08.452670Z",
     "iopub.status.idle": "2021-10-07T11:30:08.932579Z",
     "shell.execute_reply": "2021-10-07T11:30:08.933865Z"
    },
    "papermill": {
     "duration": 0.509958,
     "end_time": "2021-10-07T11:30:08.934282",
     "exception": false,
     "start_time": "2021-10-07T11:30:08.424324",
     "status": "completed"
    },
    "tags": []
   },
   "outputs": [],
   "source": [
    "timestamps = pd.read_sql(\"select distinct record_time from EBAY_TOP_BERLIN order by record_time desc limit 2\", sqlite3.connect(\"UsedObjects.db\"))"
   ]
  },
  {
   "cell_type": "code",
   "execution_count": 3,
   "id": "periodic-identification",
   "metadata": {
    "execution": {
     "iopub.execute_input": "2021-10-07T11:30:09.000353Z",
     "iopub.status.busy": "2021-10-07T11:30:08.998258Z",
     "iopub.status.idle": "2021-10-07T11:30:09.018680Z",
     "shell.execute_reply": "2021-10-07T11:30:09.020038Z"
    },
    "papermill": {
     "duration": 0.066728,
     "end_time": "2021-10-07T11:30:09.020491",
     "exception": false,
     "start_time": "2021-10-07T11:30:08.953763",
     "status": "completed"
    },
    "tags": []
   },
   "outputs": [
    {
     "data": {
      "text/html": [
       "<div>\n",
       "<style scoped>\n",
       "    .dataframe tbody tr th:only-of-type {\n",
       "        vertical-align: middle;\n",
       "    }\n",
       "\n",
       "    .dataframe tbody tr th {\n",
       "        vertical-align: top;\n",
       "    }\n",
       "\n",
       "    .dataframe thead th {\n",
       "        text-align: right;\n",
       "    }\n",
       "</style>\n",
       "<table border=\"1\" class=\"dataframe\">\n",
       "  <thead>\n",
       "    <tr style=\"text-align: right;\">\n",
       "      <th></th>\n",
       "      <th>RECORD_TIME</th>\n",
       "    </tr>\n",
       "  </thead>\n",
       "  <tbody>\n",
       "    <tr>\n",
       "      <th>0</th>\n",
       "      <td>2021-10-07 13:30</td>\n",
       "    </tr>\n",
       "    <tr>\n",
       "      <th>1</th>\n",
       "      <td>2021-10-07 13:00</td>\n",
       "    </tr>\n",
       "  </tbody>\n",
       "</table>\n",
       "</div>"
      ],
      "text/plain": [
       "        RECORD_TIME\n",
       "0  2021-10-07 13:30\n",
       "1  2021-10-07 13:00"
      ]
     },
     "execution_count": 3,
     "metadata": {},
     "output_type": "execute_result"
    }
   ],
   "source": [
    "timestamps"
   ]
  },
  {
   "cell_type": "code",
   "execution_count": 4,
   "id": "alternate-victory",
   "metadata": {
    "execution": {
     "iopub.execute_input": "2021-10-07T11:30:09.081929Z",
     "iopub.status.busy": "2021-10-07T11:30:09.079997Z",
     "iopub.status.idle": "2021-10-07T11:30:09.791723Z",
     "shell.execute_reply": "2021-10-07T11:30:09.793112Z"
    },
    "papermill": {
     "duration": 0.745923,
     "end_time": "2021-10-07T11:30:09.793553",
     "exception": false,
     "start_time": "2021-10-07T11:30:09.047630",
     "status": "completed"
    },
    "tags": []
   },
   "outputs": [],
   "source": [
    "df = pd.read_sql(\"select * from EBAY_TOP_BERLIN where record_time in (select distinct record_time from EBAY_TOP_BERLIN order by record_time desc limit 2)\", sqlite3.connect(\"UsedObjects.db\"))"
   ]
  },
  {
   "cell_type": "code",
   "execution_count": 5,
   "id": "popular-active",
   "metadata": {
    "execution": {
     "iopub.execute_input": "2021-10-07T11:30:09.859960Z",
     "iopub.status.busy": "2021-10-07T11:30:09.852648Z",
     "iopub.status.idle": "2021-10-07T11:30:09.880586Z",
     "shell.execute_reply": "2021-10-07T11:30:09.881806Z"
    },
    "papermill": {
     "duration": 0.067826,
     "end_time": "2021-10-07T11:30:09.882200",
     "exception": false,
     "start_time": "2021-10-07T11:30:09.814374",
     "status": "completed"
    },
    "tags": []
   },
   "outputs": [],
   "source": [
    "df_pivot = df.pivot_table(index=\"PRODUCT\", columns = \"RECORD_TIME\", values = \"LISTING_COUNT\")"
   ]
  },
  {
   "cell_type": "code",
   "execution_count": 6,
   "id": "union-huntington",
   "metadata": {
    "execution": {
     "iopub.execute_input": "2021-10-07T11:30:09.941313Z",
     "iopub.status.busy": "2021-10-07T11:30:09.938863Z",
     "iopub.status.idle": "2021-10-07T11:30:09.944714Z",
     "shell.execute_reply": "2021-10-07T11:30:09.946002Z"
    },
    "papermill": {
     "duration": 0.042027,
     "end_time": "2021-10-07T11:30:09.946423",
     "exception": false,
     "start_time": "2021-10-07T11:30:09.904396",
     "status": "completed"
    },
    "tags": []
   },
   "outputs": [],
   "source": [
    "df_pivot.columns = [\"stamp_1\", \"stamp_2\"]\n",
    "df_pivot_diff = df_pivot.diff(axis=1)"
   ]
  },
  {
   "cell_type": "code",
   "execution_count": 7,
   "id": "fifth-motion",
   "metadata": {
    "execution": {
     "iopub.execute_input": "2021-10-07T11:30:10.000433Z",
     "iopub.status.busy": "2021-10-07T11:30:09.997965Z",
     "iopub.status.idle": "2021-10-07T11:30:11.474733Z",
     "shell.execute_reply": "2021-10-07T11:30:11.476097Z"
    },
    "papermill": {
     "duration": 1.509378,
     "end_time": "2021-10-07T11:30:11.476524",
     "exception": false,
     "start_time": "2021-10-07T11:30:09.967146",
     "status": "completed"
    },
    "tags": []
   },
   "outputs": [
    {
     "data": {
      "text/plain": [
       "<AxesSubplot:ylabel='PRODUCT'>"
      ]
     },
     "execution_count": 7,
     "metadata": {},
     "output_type": "execute_result"
    },
    {
     "data": {
      "image/png": "[encoded data removed]",
      "text/plain": [
       "<Figure size 432x288 with 1 Axes>"
      ]
     },
     "metadata": {
      "needs_background": "light"
     },
     "output_type": "display_data"
    }
   ],
   "source": [
    "df_pivot_diff.sort_values(\"stamp_2\", ascending = False)[\"stamp_2\"].head(10).plot.barh()"
   ]
  },
  {
   "cell_type": "code",
   "execution_count": null,
   "id": "extra-executive",
   "metadata": {
    "papermill": {
     "duration": 0.021948,
     "end_time": "2021-10-07T11:30:11.522962",
     "exception": false,
     "start_time": "2021-10-07T11:30:11.501014",
     "status": "completed"
    },
    "tags": []
   },
   "outputs": [],
   "source": []
  }
 ],
 "metadata": {
  "kernelspec": {
   "display_name": "Python 3",
   "language": "python",
   "name": "python3"
  },
  "language_info": {
   "codemirror_mode": {
    "name": "ipython",
    "version": 3
   },
   "file_extension": ".py",
   "mimetype": "text/x-python",
   "name": "python",
   "nbconvert_exporter": "python",
   "pygments_lexer": "ipython3",
   "version": "3.9.5"
  },
  "papermill": {
   "default_parameters": {},
   "duration": 7.843267,
   "end_time": "2021-10-07T11:30:12.967517",
   "environment_variables": {},
   "exception": null,
   "input_path": "eBay_Overview.ipynb",
   "output_path": "eBay_Overview.ipynb",
   "parameters": {},
   "start_time": "2021-10-07T11:30:05.124250",
   "version": "2.3.3"
  }
 },
 "nbformat": 4,
 "nbformat_minor": 5
}