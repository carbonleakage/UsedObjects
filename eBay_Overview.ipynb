{
 "cells": [
  {
   "cell_type": "code",
   "execution_count": 1,
   "id": "reverse-picking",
   "metadata": {
    "execution": {
     "iopub.execute_input": "2021-10-24T05:00:07.201733Z",
     "iopub.status.busy": "2021-10-24T05:00:07.199644Z",
     "iopub.status.idle": "2021-10-24T05:00:08.004523Z",
     "shell.execute_reply": "2021-10-24T05:00:08.006032Z"
    },
    "papermill": {
     "duration": 0.856514,
     "end_time": "2021-10-24T05:00:08.006837",
     "exception": false,
     "start_time": "2021-10-24T05:00:07.150323",
     "status": "completed"
    },
    "tags": []
   },
   "outputs": [],
   "source": [
    "import pandas as pd\n",
    "import sqlite3"
   ]
  },
  {
   "cell_type": "code",
   "execution_count": 2,
   "id": "innovative-syndrome",
   "metadata": {
    "execution": {
     "iopub.execute_input": "2021-10-24T05:00:08.058772Z",
     "iopub.status.busy": "2021-10-24T05:00:08.056332Z",
     "iopub.status.idle": "2021-10-24T05:00:08.670892Z",
     "shell.execute_reply": "2021-10-24T05:00:08.672084Z"
    },
    "papermill": {
     "duration": 0.644275,
     "end_time": "2021-10-24T05:00:08.672474",
     "exception": false,
     "start_time": "2021-10-24T05:00:08.028199",
     "status": "completed"
    },
    "tags": []
   },
   "outputs": [],
   "source": [
    "timestamps = pd.read_sql(\"select distinct record_time from EBAY_TOP_BERLIN order by record_time desc limit 2\", sqlite3.connect(\"UsedObjects.db\"))"
   ]
  },
  {
   "cell_type": "code",
   "execution_count": 3,
   "id": "periodic-identification",
   "metadata": {
    "execution": {
     "iopub.execute_input": "2021-10-24T05:00:08.747850Z",
     "iopub.status.busy": "2021-10-24T05:00:08.745810Z",
     "iopub.status.idle": "2021-10-24T05:00:08.765873Z",
     "shell.execute_reply": "2021-10-24T05:00:08.767069Z"
    },
    "papermill": {
     "duration": 0.068609,
     "end_time": "2021-10-24T05:00:08.767491",
     "exception": false,
     "start_time": "2021-10-24T05:00:08.698882",
     "status": "completed"
    },
    "tags": []
   },
   "outputs": [
    {
     "data": {
      "text/html": [
       "<div>\n",
       "<style scoped>\n",
       "    .dataframe tbody tr th:only-of-type {\n",
       "        vertical-align: middle;\n",
       "    }\n",
       "\n",
       "    .dataframe tbody tr th {\n",
       "        vertical-align: top;\n",
       "    }\n",
       "\n",
       "    .dataframe thead th {\n",
       "        text-align: right;\n",
       "    }\n",
       "</style>\n",
       "<table border=\"1\" class=\"dataframe\">\n",
       "  <thead>\n",
       "    <tr style=\"text-align: right;\">\n",
       "      <th></th>\n",
       "      <th>RECORD_TIME</th>\n",
       "    </tr>\n",
       "  </thead>\n",
       "  <tbody>\n",
       "    <tr>\n",
       "      <th>0</th>\n",
       "      <td>2021-10-24 07:00</td>\n",
       "    </tr>\n",
       "    <tr>\n",
       "      <th>1</th>\n",
       "      <td>2021-10-24 06:30</td>\n",
       "    </tr>\n",
       "  </tbody>\n",
       "</table>\n",
       "</div>"
      ],
      "text/plain": [
       "        RECORD_TIME\n",
       "0  2021-10-24 07:00\n",
       "1  2021-10-24 06:30"
      ]
     },
     "execution_count": 3,
     "metadata": {},
     "output_type": "execute_result"
    }
   ],
   "source": [
    "timestamps"
   ]
  },
  {
   "cell_type": "code",
   "execution_count": 4,
   "id": "alternate-victory",
   "metadata": {
    "execution": {
     "iopub.execute_input": "2021-10-24T05:00:08.821269Z",
     "iopub.status.busy": "2021-10-24T05:00:08.818917Z",
     "iopub.status.idle": "2021-10-24T05:00:09.766337Z",
     "shell.execute_reply": "2021-10-24T05:00:09.767627Z"
    },
    "papermill": {
     "duration": 0.977779,
     "end_time": "2021-10-24T05:00:09.768039",
     "exception": false,
     "start_time": "2021-10-24T05:00:08.790260",
     "status": "completed"
    },
    "tags": []
   },
   "outputs": [],
   "source": [
    "df = pd.read_sql(\"select * from EBAY_TOP_BERLIN where record_time in (select distinct record_time from EBAY_TOP_BERLIN order by record_time desc limit 2)\", sqlite3.connect(\"UsedObjects.db\"))"
   ]
  },
  {
   "cell_type": "code",
   "execution_count": 5,
   "id": "popular-active",
   "metadata": {
    "execution": {
     "iopub.execute_input": "2021-10-24T05:00:09.837599Z",
     "iopub.status.busy": "2021-10-24T05:00:09.825958Z",
     "iopub.status.idle": "2021-10-24T05:00:09.853419Z",
     "shell.execute_reply": "2021-10-24T05:00:09.854638Z"
    },
    "papermill": {
     "duration": 0.066679,
     "end_time": "2021-10-24T05:00:09.855026",
     "exception": false,
     "start_time": "2021-10-24T05:00:09.788347",
     "status": "completed"
    },
    "tags": []
   },
   "outputs": [],
   "source": [
    "df_pivot = df.pivot_table(index=\"PRODUCT\", columns = \"RECORD_TIME\", values = \"LISTING_COUNT\")"
   ]
  },
  {
   "cell_type": "code",
   "execution_count": 6,
   "id": "union-huntington",
   "metadata": {
    "execution": {
     "iopub.execute_input": "2021-10-24T05:00:09.913022Z",
     "iopub.status.busy": "2021-10-24T05:00:09.910727Z",
     "iopub.status.idle": "2021-10-24T05:00:09.916426Z",
     "shell.execute_reply": "2021-10-24T05:00:09.917805Z"
    },
    "papermill": {
     "duration": 0.041591,
     "end_time": "2021-10-24T05:00:09.918222",
     "exception": false,
     "start_time": "2021-10-24T05:00:09.876631",
     "status": "completed"
    },
    "tags": []
   },
   "outputs": [],
   "source": [
    "df_pivot.columns = [\"stamp_1\", \"stamp_2\"]\n",
    "df_pivot_diff = df_pivot.diff(axis=1)"
   ]
  },
  {
   "cell_type": "code",
   "execution_count": 7,
   "id": "fifth-motion",
   "metadata": {
    "execution": {
     "iopub.execute_input": "2021-10-24T05:00:09.971795Z",
     "iopub.status.busy": "2021-10-24T05:00:09.969541Z",
     "iopub.status.idle": "2021-10-24T05:00:11.431760Z",
     "shell.execute_reply": "2021-10-24T05:00:11.433279Z"
    },
    "papermill": {
     "duration": 1.495543,
     "end_time": "2021-10-24T05:00:11.433752",
     "exception": false,
     "start_time": "2021-10-24T05:00:09.938209",
     "status": "completed"
    },
    "tags": []
   },
   "outputs": [
    {
     "data": {
      "text/plain": [
       "<AxesSubplot:ylabel='PRODUCT'>"
      ]
     },
     "execution_count": 7,
     "metadata": {},
     "output_type": "execute_result"
    },
    {
     "data": {
      "image/png": "[encoded data removed]",
      "text/plain": [
       "<Figure size 432x288 with 1 Axes>"
      ]
     },
     "metadata": {
      "needs_background": "light"
     },
     "output_type": "display_data"
    }
   ],
   "source": [
    "df_pivot_diff.sort_values(\"stamp_2\", ascending = False)[\"stamp_2\"].head(10).plot.barh()"
   ]
  },
  {
   "cell_type": "code",
   "execution_count": null,
   "id": "extra-executive",
   "metadata": {
    "papermill": {
     "duration": 0.021989,
     "end_time": "2021-10-24T05:00:11.480566",
     "exception": false,
     "start_time": "2021-10-24T05:00:11.458577",
     "status": "completed"
    },
    "tags": []
   },
   "outputs": [],
   "source": []
  }
 ],
 "metadata": {
  "kernelspec": {
   "display_name": "Python 3",
   "language": "python",
   "name": "python3"
  },
  "language_info": {
   "codemirror_mode": {
    "name": "ipython",
    "version": 3
   },
   "file_extension": ".py",
   "mimetype": "text/x-python",
   "name": "python",
   "nbconvert_exporter": "python",
   "pygments_lexer": "ipython3",
   "version": "3.9.5"
  },
  "papermill": {
   "default_parameters": {},
   "duration": 7.373992,
   "end_time": "2021-10-24T05:00:12.123463",
   "environment_variables": {},
   "exception": null,
   "input_path": "eBay_Overview.ipynb",
   "output_path": "eBay_Overview.ipynb",
   "parameters": {},
   "start_time": "2021-10-24T05:00:04.749471",
   "version": "2.3.3"
  }
 },
 "nbformat": 4,
 "nbformat_minor": 5
}