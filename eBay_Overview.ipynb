{
 "cells": [
  {
   "cell_type": "code",
   "execution_count": 1,
   "id": "reverse-picking",
   "metadata": {
    "execution": {
     "iopub.execute_input": "2021-09-30T16:00:06.561634Z",
     "iopub.status.busy": "2021-09-30T16:00:06.559629Z",
     "iopub.status.idle": "2021-09-30T16:00:07.368597Z",
     "shell.execute_reply": "2021-09-30T16:00:07.367007Z"
    },
    "papermill": {
     "duration": 0.858017,
     "end_time": "2021-09-30T16:00:07.368988",
     "exception": false,
     "start_time": "2021-09-30T16:00:06.510971",
     "status": "completed"
    },
    "tags": []
   },
   "outputs": [],
   "source": [
    "import pandas as pd\n",
    "import sqlite3"
   ]
  },
  {
   "cell_type": "code",
   "execution_count": 2,
   "id": "innovative-syndrome",
   "metadata": {
    "execution": {
     "iopub.execute_input": "2021-09-30T16:00:07.421700Z",
     "iopub.status.busy": "2021-09-30T16:00:07.419529Z",
     "iopub.status.idle": "2021-09-30T16:00:07.836015Z",
     "shell.execute_reply": "2021-09-30T16:00:07.837239Z"
    },
    "papermill": {
     "duration": 0.446214,
     "end_time": "2021-09-30T16:00:07.837634",
     "exception": false,
     "start_time": "2021-09-30T16:00:07.391420",
     "status": "completed"
    },
    "tags": []
   },
   "outputs": [],
   "source": [
    "timestamps = pd.read_sql(\"select distinct record_time from EBAY_TOP_BERLIN order by record_time desc limit 2\", sqlite3.connect(\"UsedObjects.db\"))"
   ]
  },
  {
   "cell_type": "code",
   "execution_count": 3,
   "id": "periodic-identification",
   "metadata": {
    "execution": {
     "iopub.execute_input": "2021-09-30T16:00:07.905053Z",
     "iopub.status.busy": "2021-09-30T16:00:07.903026Z",
     "iopub.status.idle": "2021-09-30T16:00:07.923772Z",
     "shell.execute_reply": "2021-09-30T16:00:07.925266Z"
    },
    "papermill": {
     "duration": 0.066508,
     "end_time": "2021-09-30T16:00:07.925704",
     "exception": false,
     "start_time": "2021-09-30T16:00:07.859196",
     "status": "completed"
    },
    "tags": []
   },
   "outputs": [
    {
     "data": {
      "text/html": [
       "<div>\n",
       "<style scoped>\n",
       "    .dataframe tbody tr th:only-of-type {\n",
       "        vertical-align: middle;\n",
       "    }\n",
       "\n",
       "    .dataframe tbody tr th {\n",
       "        vertical-align: top;\n",
       "    }\n",
       "\n",
       "    .dataframe thead th {\n",
       "        text-align: right;\n",
       "    }\n",
       "</style>\n",
       "<table border=\"1\" class=\"dataframe\">\n",
       "  <thead>\n",
       "    <tr style=\"text-align: right;\">\n",
       "      <th></th>\n",
       "      <th>RECORD_TIME</th>\n",
       "    </tr>\n",
       "  </thead>\n",
       "  <tbody>\n",
       "    <tr>\n",
       "      <th>0</th>\n",
       "      <td>2021-09-30 18:00</td>\n",
       "    </tr>\n",
       "    <tr>\n",
       "      <th>1</th>\n",
       "      <td>2021-09-30 17:30</td>\n",
       "    </tr>\n",
       "  </tbody>\n",
       "</table>\n",
       "</div>"
      ],
      "text/plain": [
       "        RECORD_TIME\n",
       "0  2021-09-30 18:00\n",
       "1  2021-09-30 17:30"
      ]
     },
     "execution_count": 3,
     "metadata": {},
     "output_type": "execute_result"
    }
   ],
   "source": [
    "timestamps"
   ]
  },
  {
   "cell_type": "code",
   "execution_count": 4,
   "id": "alternate-victory",
   "metadata": {
    "execution": {
     "iopub.execute_input": "2021-09-30T16:00:07.976112Z",
     "iopub.status.busy": "2021-09-30T16:00:07.974151Z",
     "iopub.status.idle": "2021-09-30T16:00:08.585204Z",
     "shell.execute_reply": "2021-09-30T16:00:08.586427Z"
    },
    "papermill": {
     "duration": 0.640902,
     "end_time": "2021-09-30T16:00:08.586984",
     "exception": false,
     "start_time": "2021-09-30T16:00:07.946082",
     "status": "completed"
    },
    "tags": []
   },
   "outputs": [],
   "source": [
    "df = pd.read_sql(\"select * from EBAY_TOP_BERLIN where record_time in (select distinct record_time from EBAY_TOP_BERLIN order by record_time desc limit 2)\", sqlite3.connect(\"UsedObjects.db\"))"
   ]
  },
  {
   "cell_type": "code",
   "execution_count": 5,
   "id": "popular-active",
   "metadata": {
    "execution": {
     "iopub.execute_input": "2021-09-30T16:00:08.666033Z",
     "iopub.status.busy": "2021-09-30T16:00:08.653607Z",
     "iopub.status.idle": "2021-09-30T16:00:08.681847Z",
     "shell.execute_reply": "2021-09-30T16:00:08.683210Z"
    },
    "papermill": {
     "duration": 0.071005,
     "end_time": "2021-09-30T16:00:08.683634",
     "exception": false,
     "start_time": "2021-09-30T16:00:08.612629",
     "status": "completed"
    },
    "tags": []
   },
   "outputs": [],
   "source": [
    "df_pivot = df.pivot_table(index=\"PRODUCT\", columns = \"RECORD_TIME\", values = \"LISTING_COUNT\")"
   ]
  },
  {
   "cell_type": "code",
   "execution_count": 6,
   "id": "union-huntington",
   "metadata": {
    "execution": {
     "iopub.execute_input": "2021-09-30T16:00:08.740898Z",
     "iopub.status.busy": "2021-09-30T16:00:08.738647Z",
     "iopub.status.idle": "2021-09-30T16:00:08.744132Z",
     "shell.execute_reply": "2021-09-30T16:00:08.745412Z"
    },
    "papermill": {
     "duration": 0.040582,
     "end_time": "2021-09-30T16:00:08.745856",
     "exception": false,
     "start_time": "2021-09-30T16:00:08.705274",
     "status": "completed"
    },
    "tags": []
   },
   "outputs": [],
   "source": [
    "df_pivot.columns = [\"stamp_1\", \"stamp_2\"]\n",
    "df_pivot_diff = df_pivot.diff(axis=1)"
   ]
  },
  {
   "cell_type": "code",
   "execution_count": 7,
   "id": "fifth-motion",
   "metadata": {
    "execution": {
     "iopub.execute_input": "2021-09-30T16:00:08.800302Z",
     "iopub.status.busy": "2021-09-30T16:00:08.797762Z",
     "iopub.status.idle": "2021-09-30T16:00:10.287558Z",
     "shell.execute_reply": "2021-09-30T16:00:10.288860Z"
    },
    "papermill": {
     "duration": 1.522919,
     "end_time": "2021-09-30T16:00:10.289279",
     "exception": false,
     "start_time": "2021-09-30T16:00:08.766360",
     "status": "completed"
    },
    "tags": []
   },
   "outputs": [
    {
     "data": {
      "text/plain": [
       "<AxesSubplot:ylabel='PRODUCT'>"
      ]
     },
     "execution_count": 7,
     "metadata": {},
     "output_type": "execute_result"
    },
    {
     "data": {
      "image/png": "[encoded data removed]",
      "text/plain": [
       "<Figure size 432x288 with 1 Axes>"
      ]
     },
     "metadata": {
      "needs_background": "light"
     },
     "output_type": "display_data"
    }
   ],
   "source": [
    "df_pivot_diff.sort_values(\"stamp_2\", ascending = False)[\"stamp_2\"].head(10).plot.barh()"
   ]
  },
  {
   "cell_type": "code",
   "execution_count": null,
   "id": "extra-executive",
   "metadata": {
    "papermill": {
     "duration": 0.022106,
     "end_time": "2021-09-30T16:00:10.336975",
     "exception": false,
     "start_time": "2021-09-30T16:00:10.314869",
     "status": "completed"
    },
    "tags": []
   },
   "outputs": [],
   "source": []
  }
 ],
 "metadata": {
  "kernelspec": {
   "display_name": "Python 3",
   "language": "python",
   "name": "python3"
  },
  "language_info": {
   "codemirror_mode": {
    "name": "ipython",
    "version": 3
   },
   "file_extension": ".py",
   "mimetype": "text/x-python",
   "name": "python",
   "nbconvert_exporter": "python",
   "pygments_lexer": "ipython3",
   "version": "3.9.5"
  },
  "papermill": {
   "default_parameters": {},
   "duration": 7.825082,
   "end_time": "2021-09-30T16:00:11.927041",
   "environment_variables": {},
   "exception": null,
   "input_path": "eBay_Overview.ipynb",
   "output_path": "eBay_Overview.ipynb",
   "parameters": {},
   "start_time": "2021-09-30T16:00:04.101959",
   "version": "2.3.3"
  }
 },
 "nbformat": 4,
 "nbformat_minor": 5
}