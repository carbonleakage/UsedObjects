{
 "cells": [
  {
   "cell_type": "code",
   "execution_count": 1,
   "id": "reverse-picking",
   "metadata": {
    "execution": {
     "iopub.execute_input": "2021-09-21T10:00:07.581919Z",
     "iopub.status.busy": "2021-09-21T10:00:07.580002Z",
     "iopub.status.idle": "2021-09-21T10:00:08.383407Z",
     "shell.execute_reply": "2021-09-21T10:00:08.384819Z"
    },
    "papermill": {
     "duration": 0.855987,
     "end_time": "2021-09-21T10:00:08.385488",
     "exception": false,
     "start_time": "2021-09-21T10:00:07.529501",
     "status": "completed"
    },
    "tags": []
   },
   "outputs": [],
   "source": [
    "import pandas as pd\n",
    "import sqlite3"
   ]
  },
  {
   "cell_type": "code",
   "execution_count": 2,
   "id": "innovative-syndrome",
   "metadata": {
    "execution": {
     "iopub.execute_input": "2021-09-21T10:00:08.436769Z",
     "iopub.status.busy": "2021-09-21T10:00:08.434370Z",
     "iopub.status.idle": "2021-09-21T10:00:08.772421Z",
     "shell.execute_reply": "2021-09-21T10:00:08.773538Z"
    },
    "papermill": {
     "duration": 0.367872,
     "end_time": "2021-09-21T10:00:08.773944",
     "exception": false,
     "start_time": "2021-09-21T10:00:08.406072",
     "status": "completed"
    },
    "tags": []
   },
   "outputs": [],
   "source": [
    "timestamps = pd.read_sql(\"select distinct record_time from EBAY_TOP_BERLIN order by record_time desc limit 2\", sqlite3.connect(\"UsedObjects.db\"))"
   ]
  },
  {
   "cell_type": "code",
   "execution_count": 3,
   "id": "periodic-identification",
   "metadata": {
    "execution": {
     "iopub.execute_input": "2021-09-21T10:00:08.841673Z",
     "iopub.status.busy": "2021-09-21T10:00:08.836728Z",
     "iopub.status.idle": "2021-09-21T10:00:08.856999Z",
     "shell.execute_reply": "2021-09-21T10:00:08.858191Z"
    },
    "papermill": {
     "duration": 0.063619,
     "end_time": "2021-09-21T10:00:08.858614",
     "exception": false,
     "start_time": "2021-09-21T10:00:08.794995",
     "status": "completed"
    },
    "tags": []
   },
   "outputs": [
    {
     "data": {
      "text/html": [
       "<div>\n",
       "<style scoped>\n",
       "    .dataframe tbody tr th:only-of-type {\n",
       "        vertical-align: middle;\n",
       "    }\n",
       "\n",
       "    .dataframe tbody tr th {\n",
       "        vertical-align: top;\n",
       "    }\n",
       "\n",
       "    .dataframe thead th {\n",
       "        text-align: right;\n",
       "    }\n",
       "</style>\n",
       "<table border=\"1\" class=\"dataframe\">\n",
       "  <thead>\n",
       "    <tr style=\"text-align: right;\">\n",
       "      <th></th>\n",
       "      <th>RECORD_TIME</th>\n",
       "    </tr>\n",
       "  </thead>\n",
       "  <tbody>\n",
       "    <tr>\n",
       "      <th>0</th>\n",
       "      <td>2021-09-21 12:00</td>\n",
       "    </tr>\n",
       "    <tr>\n",
       "      <th>1</th>\n",
       "      <td>2021-09-21 11:30</td>\n",
       "    </tr>\n",
       "  </tbody>\n",
       "</table>\n",
       "</div>"
      ],
      "text/plain": [
       "        RECORD_TIME\n",
       "0  2021-09-21 12:00\n",
       "1  2021-09-21 11:30"
      ]
     },
     "execution_count": 3,
     "metadata": {},
     "output_type": "execute_result"
    }
   ],
   "source": [
    "timestamps"
   ]
  },
  {
   "cell_type": "code",
   "execution_count": 4,
   "id": "alternate-victory",
   "metadata": {
    "execution": {
     "iopub.execute_input": "2021-09-21T10:00:08.913083Z",
     "iopub.status.busy": "2021-09-21T10:00:08.910953Z",
     "iopub.status.idle": "2021-09-21T10:00:09.405879Z",
     "shell.execute_reply": "2021-09-21T10:00:09.407155Z"
    },
    "papermill": {
     "duration": 0.525334,
     "end_time": "2021-09-21T10:00:09.407560",
     "exception": false,
     "start_time": "2021-09-21T10:00:08.882226",
     "status": "completed"
    },
    "tags": []
   },
   "outputs": [],
   "source": [
    "df = pd.read_sql(\"select * from EBAY_TOP_BERLIN where record_time in (select distinct record_time from EBAY_TOP_BERLIN order by record_time desc limit 2)\", sqlite3.connect(\"UsedObjects.db\"))"
   ]
  },
  {
   "cell_type": "code",
   "execution_count": 5,
   "id": "popular-active",
   "metadata": {
    "execution": {
     "iopub.execute_input": "2021-09-21T10:00:09.487893Z",
     "iopub.status.busy": "2021-09-21T10:00:09.475812Z",
     "iopub.status.idle": "2021-09-21T10:00:09.504582Z",
     "shell.execute_reply": "2021-09-21T10:00:09.505865Z"
    },
    "papermill": {
     "duration": 0.07281,
     "end_time": "2021-09-21T10:00:09.506271",
     "exception": false,
     "start_time": "2021-09-21T10:00:09.433461",
     "status": "completed"
    },
    "tags": []
   },
   "outputs": [],
   "source": [
    "df_pivot = df.pivot_table(index=\"PRODUCT\", columns = \"RECORD_TIME\", values = \"LISTING_COUNT\")"
   ]
  },
  {
   "cell_type": "code",
   "execution_count": 6,
   "id": "union-huntington",
   "metadata": {
    "execution": {
     "iopub.execute_input": "2021-09-21T10:00:09.561582Z",
     "iopub.status.busy": "2021-09-21T10:00:09.559564Z",
     "iopub.status.idle": "2021-09-21T10:00:09.564938Z",
     "shell.execute_reply": "2021-09-21T10:00:09.566119Z"
    },
    "papermill": {
     "duration": 0.040097,
     "end_time": "2021-09-21T10:00:09.566537",
     "exception": false,
     "start_time": "2021-09-21T10:00:09.526440",
     "status": "completed"
    },
    "tags": []
   },
   "outputs": [],
   "source": [
    "df_pivot.columns = [\"stamp_1\", \"stamp_2\"]\n",
    "df_pivot_diff = df_pivot.diff(axis=1)"
   ]
  },
  {
   "cell_type": "code",
   "execution_count": 7,
   "id": "fifth-motion",
   "metadata": {
    "execution": {
     "iopub.execute_input": "2021-09-21T10:00:09.621562Z",
     "iopub.status.busy": "2021-09-21T10:00:09.618936Z",
     "iopub.status.idle": "2021-09-21T10:00:11.125419Z",
     "shell.execute_reply": "2021-09-21T10:00:11.124022Z"
    },
    "papermill": {
     "duration": 1.538806,
     "end_time": "2021-09-21T10:00:11.125772",
     "exception": false,
     "start_time": "2021-09-21T10:00:09.586966",
     "status": "completed"
    },
    "tags": []
   },
   "outputs": [
    {
     "data": {
      "text/plain": [
       "<AxesSubplot:ylabel='PRODUCT'>"
      ]
     },
     "execution_count": 7,
     "metadata": {},
     "output_type": "execute_result"
    },
    {
     "data": {
      "image/png": "[encoded data removed]",
      "text/plain": [
       "<Figure size 432x288 with 1 Axes>"
      ]
     },
     "metadata": {
      "needs_background": "light"
     },
     "output_type": "display_data"
    }
   ],
   "source": [
    "df_pivot_diff.sort_values(\"stamp_2\", ascending = False)[\"stamp_2\"].head(10).plot.barh()"
   ]
  },
  {
   "cell_type": "code",
   "execution_count": null,
   "id": "extra-executive",
   "metadata": {
    "papermill": {
     "duration": 0.022471,
     "end_time": "2021-09-21T10:00:11.172243",
     "exception": false,
     "start_time": "2021-09-21T10:00:11.149772",
     "status": "completed"
    },
    "tags": []
   },
   "outputs": [],
   "source": []
  }
 ],
 "metadata": {
  "kernelspec": {
   "display_name": "Python 3",
   "language": "python",
   "name": "python3"
  },
  "language_info": {
   "codemirror_mode": {
    "name": "ipython",
    "version": 3
   },
   "file_extension": ".py",
   "mimetype": "text/x-python",
   "name": "python",
   "nbconvert_exporter": "python",
   "pygments_lexer": "ipython3",
   "version": "3.9.5"
  },
  "papermill": {
   "default_parameters": {},
   "duration": 6.68306,
   "end_time": "2021-09-21T10:00:11.816021",
   "environment_variables": {},
   "exception": null,
   "input_path": "eBay_Overview.ipynb",
   "output_path": "eBay_Overview.ipynb",
   "parameters": {},
   "start_time": "2021-09-21T10:00:05.132961",
   "version": "2.3.3"
  }
 },
 "nbformat": 4,
 "nbformat_minor": 5
}