{
 "cells": [
  {
   "cell_type": "code",
   "execution_count": 1,
   "id": "reverse-picking",
   "metadata": {
    "execution": {
     "iopub.execute_input": "2021-11-29T12:30:07.465809Z",
     "iopub.status.busy": "2021-11-29T12:30:07.463386Z",
     "iopub.status.idle": "2021-11-29T12:30:08.423458Z",
     "shell.execute_reply": "2021-11-29T12:30:08.425167Z"
    },
    "papermill": {
     "duration": 1.007754,
     "end_time": "2021-11-29T12:30:08.425921",
     "exception": false,
     "start_time": "2021-11-29T12:30:07.418167",
     "status": "completed"
    },
    "tags": []
   },
   "outputs": [],
   "source": [
    "import pandas as pd\n",
    "import sqlite3"
   ]
  },
  {
   "cell_type": "code",
   "execution_count": 2,
   "id": "innovative-syndrome",
   "metadata": {
    "execution": {
     "iopub.execute_input": "2021-11-29T12:30:08.490175Z",
     "iopub.status.busy": "2021-11-29T12:30:08.487818Z",
     "iopub.status.idle": "2021-11-29T12:30:09.441887Z",
     "shell.execute_reply": "2021-11-29T12:30:09.443380Z"
    },
    "papermill": {
     "duration": 0.987777,
     "end_time": "2021-11-29T12:30:09.443897",
     "exception": false,
     "start_time": "2021-11-29T12:30:08.456120",
     "status": "completed"
    },
    "tags": []
   },
   "outputs": [],
   "source": [
    "timestamps = pd.read_sql(\"select distinct record_time from EBAY_TOP_BERLIN order by record_time desc limit 2\", sqlite3.connect(\"UsedObjects.db\"))"
   ]
  },
  {
   "cell_type": "code",
   "execution_count": 3,
   "id": "periodic-identification",
   "metadata": {
    "execution": {
     "iopub.execute_input": "2021-11-29T12:30:09.519296Z",
     "iopub.status.busy": "2021-11-29T12:30:09.516852Z",
     "iopub.status.idle": "2021-11-29T12:30:09.539613Z",
     "shell.execute_reply": "2021-11-29T12:30:09.541211Z"
    },
    "papermill": {
     "duration": 0.076757,
     "end_time": "2021-11-29T12:30:09.541746",
     "exception": false,
     "start_time": "2021-11-29T12:30:09.464989",
     "status": "completed"
    },
    "tags": []
   },
   "outputs": [
    {
     "data": {
      "text/html": [
       "<div>\n",
       "<style scoped>\n",
       "    .dataframe tbody tr th:only-of-type {\n",
       "        vertical-align: middle;\n",
       "    }\n",
       "\n",
       "    .dataframe tbody tr th {\n",
       "        vertical-align: top;\n",
       "    }\n",
       "\n",
       "    .dataframe thead th {\n",
       "        text-align: right;\n",
       "    }\n",
       "</style>\n",
       "<table border=\"1\" class=\"dataframe\">\n",
       "  <thead>\n",
       "    <tr style=\"text-align: right;\">\n",
       "      <th></th>\n",
       "      <th>RECORD_TIME</th>\n",
       "    </tr>\n",
       "  </thead>\n",
       "  <tbody>\n",
       "    <tr>\n",
       "      <th>0</th>\n",
       "      <td>2021-11-29 13:30</td>\n",
       "    </tr>\n",
       "    <tr>\n",
       "      <th>1</th>\n",
       "      <td>2021-11-29 13:00</td>\n",
       "    </tr>\n",
       "  </tbody>\n",
       "</table>\n",
       "</div>"
      ],
      "text/plain": [
       "        RECORD_TIME\n",
       "0  2021-11-29 13:30\n",
       "1  2021-11-29 13:00"
      ]
     },
     "execution_count": 3,
     "metadata": {},
     "output_type": "execute_result"
    }
   ],
   "source": [
    "timestamps"
   ]
  },
  {
   "cell_type": "code",
   "execution_count": 4,
   "id": "alternate-victory",
   "metadata": {
    "execution": {
     "iopub.execute_input": "2021-11-29T12:30:09.597875Z",
     "iopub.status.busy": "2021-11-29T12:30:09.595557Z",
     "iopub.status.idle": "2021-11-29T12:30:10.987947Z",
     "shell.execute_reply": "2021-11-29T12:30:10.990056Z"
    },
    "papermill": {
     "duration": 1.427334,
     "end_time": "2021-11-29T12:30:10.990539",
     "exception": false,
     "start_time": "2021-11-29T12:30:09.563205",
     "status": "completed"
    },
    "tags": []
   },
   "outputs": [],
   "source": [
    "df = pd.read_sql(\"select * from EBAY_TOP_BERLIN where record_time in (select distinct record_time from EBAY_TOP_BERLIN order by record_time desc limit 2)\", sqlite3.connect(\"UsedObjects.db\"))"
   ]
  },
  {
   "cell_type": "code",
   "execution_count": 5,
   "id": "popular-active",
   "metadata": {
    "execution": {
     "iopub.execute_input": "2021-11-29T12:30:11.070234Z",
     "iopub.status.busy": "2021-11-29T12:30:11.053607Z",
     "iopub.status.idle": "2021-11-29T12:30:11.089099Z",
     "shell.execute_reply": "2021-11-29T12:30:11.090602Z"
    },
    "papermill": {
     "duration": 0.079953,
     "end_time": "2021-11-29T12:30:11.091095",
     "exception": false,
     "start_time": "2021-11-29T12:30:11.011142",
     "status": "completed"
    },
    "tags": []
   },
   "outputs": [],
   "source": [
    "df_pivot = df.pivot_table(index=\"PRODUCT\", columns = \"RECORD_TIME\", values = \"LISTING_COUNT\")"
   ]
  },
  {
   "cell_type": "code",
   "execution_count": 6,
   "id": "union-huntington",
   "metadata": {
    "execution": {
     "iopub.execute_input": "2021-11-29T12:30:11.153714Z",
     "iopub.status.busy": "2021-11-29T12:30:11.151359Z",
     "iopub.status.idle": "2021-11-29T12:30:11.157477Z",
     "shell.execute_reply": "2021-11-29T12:30:11.159124Z"
    },
    "papermill": {
     "duration": 0.046713,
     "end_time": "2021-11-29T12:30:11.159634",
     "exception": false,
     "start_time": "2021-11-29T12:30:11.112921",
     "status": "completed"
    },
    "tags": []
   },
   "outputs": [],
   "source": [
    "df_pivot.columns = [\"stamp_1\", \"stamp_2\"]\n",
    "df_pivot_diff = df_pivot.diff(axis=1)"
   ]
  },
  {
   "cell_type": "code",
   "execution_count": 7,
   "id": "fifth-motion",
   "metadata": {
    "execution": {
     "iopub.execute_input": "2021-11-29T12:30:11.216605Z",
     "iopub.status.busy": "2021-11-29T12:30:11.214151Z",
     "iopub.status.idle": "2021-11-29T12:30:13.120765Z",
     "shell.execute_reply": "2021-11-29T12:30:13.122461Z"
    },
    "papermill": {
     "duration": 1.942458,
     "end_time": "2021-11-29T12:30:13.123022",
     "exception": false,
     "start_time": "2021-11-29T12:30:11.180564",
     "status": "completed"
    },
    "tags": []
   },
   "outputs": [
    {
     "data": {
      "text/plain": [
       "<AxesSubplot:ylabel='PRODUCT'>"
      ]
     },
     "execution_count": 7,
     "metadata": {},
     "output_type": "execute_result"
    },
    {
     "data": {
      "image/png": "[encoded data removed]",
      "text/plain": [
       "<Figure size 432x288 with 1 Axes>"
      ]
     },
     "metadata": {
      "needs_background": "light"
     },
     "output_type": "display_data"
    }
   ],
   "source": [
    "df_pivot_diff.sort_values(\"stamp_2\", ascending = False)[\"stamp_2\"].head(10).plot.barh()"
   ]
  },
  {
   "cell_type": "code",
   "execution_count": null,
   "id": "extra-executive",
   "metadata": {
    "papermill": {
     "duration": 0.035278,
     "end_time": "2021-11-29T12:30:13.188780",
     "exception": false,
     "start_time": "2021-11-29T12:30:13.153502",
     "status": "completed"
    },
    "tags": []
   },
   "outputs": [],
   "source": []
  }
 ],
 "metadata": {
  "kernelspec": {
   "display_name": "Python 3",
   "language": "python",
   "name": "python3"
  },
  "language_info": {
   "codemirror_mode": {
    "name": "ipython",
    "version": 3
   },
   "file_extension": ".py",
   "mimetype": "text/x-python",
   "name": "python",
   "nbconvert_exporter": "python",
   "pygments_lexer": "ipython3",
   "version": "3.9.5"
  },
  "papermill": {
   "default_parameters": {},
   "duration": 9.956371,
   "end_time": "2021-11-29T12:30:14.616664",
   "environment_variables": {},
   "exception": null,
   "input_path": "eBay_Overview.ipynb",
   "output_path": "eBay_Overview.ipynb",
   "parameters": {},
   "start_time": "2021-11-29T12:30:04.660293",
   "version": "2.3.3"
  }
 },
 "nbformat": 4,
 "nbformat_minor": 5
}