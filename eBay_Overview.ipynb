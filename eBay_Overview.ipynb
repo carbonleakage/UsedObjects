{
 "cells": [
  {
   "cell_type": "code",
   "execution_count": 1,
   "id": "reverse-picking",
   "metadata": {
    "execution": {
     "iopub.execute_input": "2021-11-21T23:00:07.963585Z",
     "iopub.status.busy": "2021-11-21T23:00:07.961272Z",
     "iopub.status.idle": "2021-11-21T23:00:08.921378Z",
     "shell.execute_reply": "2021-11-21T23:00:08.922934Z"
    },
    "papermill": {
     "duration": 1.008609,
     "end_time": "2021-11-21T23:00:08.923671",
     "exception": false,
     "start_time": "2021-11-21T23:00:07.915062",
     "status": "completed"
    },
    "tags": []
   },
   "outputs": [],
   "source": [
    "import pandas as pd\n",
    "import sqlite3"
   ]
  },
  {
   "cell_type": "code",
   "execution_count": 2,
   "id": "innovative-syndrome",
   "metadata": {
    "execution": {
     "iopub.execute_input": "2021-11-21T23:00:08.992168Z",
     "iopub.status.busy": "2021-11-21T23:00:08.989821Z",
     "iopub.status.idle": "2021-11-21T23:00:09.854025Z",
     "shell.execute_reply": "2021-11-21T23:00:09.855464Z"
    },
    "papermill": {
     "duration": 0.898512,
     "end_time": "2021-11-21T23:00:09.855914",
     "exception": false,
     "start_time": "2021-11-21T23:00:08.957402",
     "status": "completed"
    },
    "tags": []
   },
   "outputs": [],
   "source": [
    "timestamps = pd.read_sql(\"select distinct record_time from EBAY_TOP_BERLIN order by record_time desc limit 2\", sqlite3.connect(\"UsedObjects.db\"))"
   ]
  },
  {
   "cell_type": "code",
   "execution_count": 3,
   "id": "periodic-identification",
   "metadata": {
    "execution": {
     "iopub.execute_input": "2021-11-21T23:00:09.929667Z",
     "iopub.status.busy": "2021-11-21T23:00:09.923882Z",
     "iopub.status.idle": "2021-11-21T23:00:09.946913Z",
     "shell.execute_reply": "2021-11-21T23:00:09.948393Z"
    },
    "papermill": {
     "duration": 0.072472,
     "end_time": "2021-11-21T23:00:09.948881",
     "exception": false,
     "start_time": "2021-11-21T23:00:09.876409",
     "status": "completed"
    },
    "tags": []
   },
   "outputs": [
    {
     "data": {
      "text/html": [
       "<div>\n",
       "<style scoped>\n",
       "    .dataframe tbody tr th:only-of-type {\n",
       "        vertical-align: middle;\n",
       "    }\n",
       "\n",
       "    .dataframe tbody tr th {\n",
       "        vertical-align: top;\n",
       "    }\n",
       "\n",
       "    .dataframe thead th {\n",
       "        text-align: right;\n",
       "    }\n",
       "</style>\n",
       "<table border=\"1\" class=\"dataframe\">\n",
       "  <thead>\n",
       "    <tr style=\"text-align: right;\">\n",
       "      <th></th>\n",
       "      <th>RECORD_TIME</th>\n",
       "    </tr>\n",
       "  </thead>\n",
       "  <tbody>\n",
       "    <tr>\n",
       "      <th>0</th>\n",
       "      <td>2021-11-22 00:00</td>\n",
       "    </tr>\n",
       "    <tr>\n",
       "      <th>1</th>\n",
       "      <td>2021-11-21 23:30</td>\n",
       "    </tr>\n",
       "  </tbody>\n",
       "</table>\n",
       "</div>"
      ],
      "text/plain": [
       "        RECORD_TIME\n",
       "0  2021-11-22 00:00\n",
       "1  2021-11-21 23:30"
      ]
     },
     "execution_count": 3,
     "metadata": {},
     "output_type": "execute_result"
    }
   ],
   "source": [
    "timestamps"
   ]
  },
  {
   "cell_type": "code",
   "execution_count": 4,
   "id": "alternate-victory",
   "metadata": {
    "execution": {
     "iopub.execute_input": "2021-11-21T23:00:10.001981Z",
     "iopub.status.busy": "2021-11-21T23:00:09.999883Z",
     "iopub.status.idle": "2021-11-21T23:00:11.273830Z",
     "shell.execute_reply": "2021-11-21T23:00:11.275394Z"
    },
    "papermill": {
     "duration": 1.306869,
     "end_time": "2021-11-21T23:00:11.275880",
     "exception": false,
     "start_time": "2021-11-21T23:00:09.969011",
     "status": "completed"
    },
    "tags": []
   },
   "outputs": [],
   "source": [
    "df = pd.read_sql(\"select * from EBAY_TOP_BERLIN where record_time in (select distinct record_time from EBAY_TOP_BERLIN order by record_time desc limit 2)\", sqlite3.connect(\"UsedObjects.db\"))"
   ]
  },
  {
   "cell_type": "code",
   "execution_count": 5,
   "id": "popular-active",
   "metadata": {
    "execution": {
     "iopub.execute_input": "2021-11-21T23:00:11.350661Z",
     "iopub.status.busy": "2021-11-21T23:00:11.340551Z",
     "iopub.status.idle": "2021-11-21T23:00:11.375736Z",
     "shell.execute_reply": "2021-11-21T23:00:11.377220Z"
    },
    "papermill": {
     "duration": 0.080139,
     "end_time": "2021-11-21T23:00:11.377689",
     "exception": false,
     "start_time": "2021-11-21T23:00:11.297550",
     "status": "completed"
    },
    "tags": []
   },
   "outputs": [],
   "source": [
    "df_pivot = df.pivot_table(index=\"PRODUCT\", columns = \"RECORD_TIME\", values = \"LISTING_COUNT\")"
   ]
  },
  {
   "cell_type": "code",
   "execution_count": 6,
   "id": "union-huntington",
   "metadata": {
    "execution": {
     "iopub.execute_input": "2021-11-21T23:00:11.435940Z",
     "iopub.status.busy": "2021-11-21T23:00:11.433766Z",
     "iopub.status.idle": "2021-11-21T23:00:11.439683Z",
     "shell.execute_reply": "2021-11-21T23:00:11.441172Z"
    },
    "papermill": {
     "duration": 0.043538,
     "end_time": "2021-11-21T23:00:11.441651",
     "exception": false,
     "start_time": "2021-11-21T23:00:11.398113",
     "status": "completed"
    },
    "tags": []
   },
   "outputs": [],
   "source": [
    "df_pivot.columns = [\"stamp_1\", \"stamp_2\"]\n",
    "df_pivot_diff = df_pivot.diff(axis=1)"
   ]
  },
  {
   "cell_type": "code",
   "execution_count": 7,
   "id": "fifth-motion",
   "metadata": {
    "execution": {
     "iopub.execute_input": "2021-11-21T23:00:11.503762Z",
     "iopub.status.busy": "2021-11-21T23:00:11.500551Z",
     "iopub.status.idle": "2021-11-21T23:00:13.303026Z",
     "shell.execute_reply": "2021-11-21T23:00:13.305931Z"
    },
    "papermill": {
     "duration": 1.843973,
     "end_time": "2021-11-21T23:00:13.306698",
     "exception": false,
     "start_time": "2021-11-21T23:00:11.462725",
     "status": "completed"
    },
    "tags": []
   },
   "outputs": [
    {
     "data": {
      "text/plain": [
       "<AxesSubplot:ylabel='PRODUCT'>"
      ]
     },
     "execution_count": 7,
     "metadata": {},
     "output_type": "execute_result"
    },
    {
     "data": {
      "image/png": "[encoded data removed]",
      "text/plain": [
       "<Figure size 432x288 with 1 Axes>"
      ]
     },
     "metadata": {
      "needs_background": "light"
     },
     "output_type": "display_data"
    }
   ],
   "source": [
    "df_pivot_diff.sort_values(\"stamp_2\", ascending = False)[\"stamp_2\"].head(10).plot.barh()"
   ]
  },
  {
   "cell_type": "code",
   "execution_count": null,
   "id": "extra-executive",
   "metadata": {
    "papermill": {
     "duration": 0.107614,
     "end_time": "2021-11-21T23:00:13.489333",
     "exception": false,
     "start_time": "2021-11-21T23:00:13.381719",
     "status": "completed"
    },
    "tags": []
   },
   "outputs": [],
   "source": []
  }
 ],
 "metadata": {
  "kernelspec": {
   "display_name": "Python 3",
   "language": "python",
   "name": "python3"
  },
  "language_info": {
   "codemirror_mode": {
    "name": "ipython",
    "version": 3
   },
   "file_extension": ".py",
   "mimetype": "text/x-python",
   "name": "python",
   "nbconvert_exporter": "python",
   "pygments_lexer": "ipython3",
   "version": "3.9.5"
  },
  "papermill": {
   "default_parameters": {},
   "duration": 9.995917,
   "end_time": "2021-11-21T23:00:15.107070",
   "environment_variables": {},
   "exception": null,
   "input_path": "eBay_Overview.ipynb",
   "output_path": "eBay_Overview.ipynb",
   "parameters": {},
   "start_time": "2021-11-21T23:00:05.111153",
   "version": "2.3.3"
  }
 },
 "nbformat": 4,
 "nbformat_minor": 5
}