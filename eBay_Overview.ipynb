{
 "cells": [
  {
   "cell_type": "code",
   "execution_count": 1,
   "id": "reverse-picking",
   "metadata": {
    "execution": {
     "iopub.execute_input": "2021-10-27T12:00:07.240810Z",
     "iopub.status.busy": "2021-10-27T12:00:07.238840Z",
     "iopub.status.idle": "2021-10-27T12:00:08.041127Z",
     "shell.execute_reply": "2021-10-27T12:00:08.042582Z"
    },
    "papermill": {
     "duration": 0.854625,
     "end_time": "2021-10-27T12:00:08.043286",
     "exception": false,
     "start_time": "2021-10-27T12:00:07.188661",
     "status": "completed"
    },
    "tags": []
   },
   "outputs": [],
   "source": [
    "import pandas as pd\n",
    "import sqlite3"
   ]
  },
  {
   "cell_type": "code",
   "execution_count": 2,
   "id": "innovative-syndrome",
   "metadata": {
    "execution": {
     "iopub.execute_input": "2021-10-27T12:00:08.094548Z",
     "iopub.status.busy": "2021-10-27T12:00:08.092145Z",
     "iopub.status.idle": "2021-10-27T12:00:08.746552Z",
     "shell.execute_reply": "2021-10-27T12:00:08.747777Z"
    },
    "papermill": {
     "duration": 0.684339,
     "end_time": "2021-10-27T12:00:08.748180",
     "exception": false,
     "start_time": "2021-10-27T12:00:08.063841",
     "status": "completed"
    },
    "tags": []
   },
   "outputs": [],
   "source": [
    "timestamps = pd.read_sql(\"select distinct record_time from EBAY_TOP_BERLIN order by record_time desc limit 2\", sqlite3.connect(\"UsedObjects.db\"))"
   ]
  },
  {
   "cell_type": "code",
   "execution_count": 3,
   "id": "periodic-identification",
   "metadata": {
    "execution": {
     "iopub.execute_input": "2021-10-27T12:00:08.821897Z",
     "iopub.status.busy": "2021-10-27T12:00:08.819829Z",
     "iopub.status.idle": "2021-10-27T12:00:08.839464Z",
     "shell.execute_reply": "2021-10-27T12:00:08.840852Z"
    },
    "papermill": {
     "duration": 0.068118,
     "end_time": "2021-10-27T12:00:08.841304",
     "exception": false,
     "start_time": "2021-10-27T12:00:08.773186",
     "status": "completed"
    },
    "tags": []
   },
   "outputs": [
    {
     "data": {
      "text/html": [
       "<div>\n",
       "<style scoped>\n",
       "    .dataframe tbody tr th:only-of-type {\n",
       "        vertical-align: middle;\n",
       "    }\n",
       "\n",
       "    .dataframe tbody tr th {\n",
       "        vertical-align: top;\n",
       "    }\n",
       "\n",
       "    .dataframe thead th {\n",
       "        text-align: right;\n",
       "    }\n",
       "</style>\n",
       "<table border=\"1\" class=\"dataframe\">\n",
       "  <thead>\n",
       "    <tr style=\"text-align: right;\">\n",
       "      <th></th>\n",
       "      <th>RECORD_TIME</th>\n",
       "    </tr>\n",
       "  </thead>\n",
       "  <tbody>\n",
       "    <tr>\n",
       "      <th>0</th>\n",
       "      <td>2021-10-27 14:00</td>\n",
       "    </tr>\n",
       "    <tr>\n",
       "      <th>1</th>\n",
       "      <td>2021-10-27 13:30</td>\n",
       "    </tr>\n",
       "  </tbody>\n",
       "</table>\n",
       "</div>"
      ],
      "text/plain": [
       "        RECORD_TIME\n",
       "0  2021-10-27 14:00\n",
       "1  2021-10-27 13:30"
      ]
     },
     "execution_count": 3,
     "metadata": {},
     "output_type": "execute_result"
    }
   ],
   "source": [
    "timestamps"
   ]
  },
  {
   "cell_type": "code",
   "execution_count": 4,
   "id": "alternate-victory",
   "metadata": {
    "execution": {
     "iopub.execute_input": "2021-10-27T12:00:08.894702Z",
     "iopub.status.busy": "2021-10-27T12:00:08.892349Z",
     "iopub.status.idle": "2021-10-27T12:00:09.840911Z",
     "shell.execute_reply": "2021-10-27T12:00:09.842236Z"
    },
    "papermill": {
     "duration": 0.978944,
     "end_time": "2021-10-27T12:00:09.842655",
     "exception": false,
     "start_time": "2021-10-27T12:00:08.863711",
     "status": "completed"
    },
    "tags": []
   },
   "outputs": [],
   "source": [
    "df = pd.read_sql(\"select * from EBAY_TOP_BERLIN where record_time in (select distinct record_time from EBAY_TOP_BERLIN order by record_time desc limit 2)\", sqlite3.connect(\"UsedObjects.db\"))"
   ]
  },
  {
   "cell_type": "code",
   "execution_count": 5,
   "id": "popular-active",
   "metadata": {
    "execution": {
     "iopub.execute_input": "2021-10-27T12:00:09.912178Z",
     "iopub.status.busy": "2021-10-27T12:00:09.901740Z",
     "iopub.status.idle": "2021-10-27T12:00:09.929152Z",
     "shell.execute_reply": "2021-10-27T12:00:09.930558Z"
    },
    "papermill": {
     "duration": 0.066721,
     "end_time": "2021-10-27T12:00:09.930997",
     "exception": false,
     "start_time": "2021-10-27T12:00:09.864276",
     "status": "completed"
    },
    "tags": []
   },
   "outputs": [],
   "source": [
    "df_pivot = df.pivot_table(index=\"PRODUCT\", columns = \"RECORD_TIME\", values = \"LISTING_COUNT\")"
   ]
  },
  {
   "cell_type": "code",
   "execution_count": 6,
   "id": "union-huntington",
   "metadata": {
    "execution": {
     "iopub.execute_input": "2021-10-27T12:00:09.988541Z",
     "iopub.status.busy": "2021-10-27T12:00:09.986130Z",
     "iopub.status.idle": "2021-10-27T12:00:09.991887Z",
     "shell.execute_reply": "2021-10-27T12:00:09.993432Z"
    },
    "papermill": {
     "duration": 0.042471,
     "end_time": "2021-10-27T12:00:09.993912",
     "exception": false,
     "start_time": "2021-10-27T12:00:09.951441",
     "status": "completed"
    },
    "tags": []
   },
   "outputs": [],
   "source": [
    "df_pivot.columns = [\"stamp_1\", \"stamp_2\"]\n",
    "df_pivot_diff = df_pivot.diff(axis=1)"
   ]
  },
  {
   "cell_type": "code",
   "execution_count": 7,
   "id": "fifth-motion",
   "metadata": {
    "execution": {
     "iopub.execute_input": "2021-10-27T12:00:10.048242Z",
     "iopub.status.busy": "2021-10-27T12:00:10.046042Z",
     "iopub.status.idle": "2021-10-27T12:00:11.546448Z",
     "shell.execute_reply": "2021-10-27T12:00:11.547737Z"
    },
    "papermill": {
     "duration": 1.53285,
     "end_time": "2021-10-27T12:00:11.548155",
     "exception": false,
     "start_time": "2021-10-27T12:00:10.015305",
     "status": "completed"
    },
    "tags": []
   },
   "outputs": [
    {
     "data": {
      "text/plain": [
       "<AxesSubplot:ylabel='PRODUCT'>"
      ]
     },
     "execution_count": 7,
     "metadata": {},
     "output_type": "execute_result"
    },
    {
     "data": {
      "image/png": "[encoded data removed]",
      "text/plain": [
       "<Figure size 432x288 with 1 Axes>"
      ]
     },
     "metadata": {
      "needs_background": "light"
     },
     "output_type": "display_data"
    }
   ],
   "source": [
    "df_pivot_diff.sort_values(\"stamp_2\", ascending = False)[\"stamp_2\"].head(10).plot.barh()"
   ]
  },
  {
   "cell_type": "code",
   "execution_count": null,
   "id": "extra-executive",
   "metadata": {
    "papermill": {
     "duration": 0.02207,
     "end_time": "2021-10-27T12:00:11.594728",
     "exception": false,
     "start_time": "2021-10-27T12:00:11.572658",
     "status": "completed"
    },
    "tags": []
   },
   "outputs": [],
   "source": []
  }
 ],
 "metadata": {
  "kernelspec": {
   "display_name": "Python 3",
   "language": "python",
   "name": "python3"
  },
  "language_info": {
   "codemirror_mode": {
    "name": "ipython",
    "version": 3
   },
   "file_extension": ".py",
   "mimetype": "text/x-python",
   "name": "python",
   "nbconvert_exporter": "python",
   "pygments_lexer": "ipython3",
   "version": "3.9.5"
  },
  "papermill": {
   "default_parameters": {},
   "duration": 7.455198,
   "end_time": "2021-10-27T12:00:12.239004",
   "environment_variables": {},
   "exception": null,
   "input_path": "eBay_Overview.ipynb",
   "output_path": "eBay_Overview.ipynb",
   "parameters": {},
   "start_time": "2021-10-27T12:00:04.783806",
   "version": "2.3.3"
  }
 },
 "nbformat": 4,
 "nbformat_minor": 5
}