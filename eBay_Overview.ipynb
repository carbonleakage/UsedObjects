{
 "cells": [
  {
   "cell_type": "code",
   "execution_count": 1,
   "id": "reverse-picking",
   "metadata": {
    "execution": {
     "iopub.execute_input": "2021-08-20T14:00:06.910135Z",
     "iopub.status.busy": "2021-08-20T14:00:06.908170Z",
     "iopub.status.idle": "2021-08-20T14:00:07.710153Z",
     "shell.execute_reply": "2021-08-20T14:00:07.711492Z"
    },
    "papermill": {
     "duration": 0.852911,
     "end_time": "2021-08-20T14:00:07.712145",
     "exception": false,
     "start_time": "2021-08-20T14:00:06.859234",
     "status": "completed"
    },
    "tags": []
   },
   "outputs": [],
   "source": [
    "import pandas as pd\n",
    "import sqlite3"
   ]
  },
  {
   "cell_type": "code",
   "execution_count": 2,
   "id": "innovative-syndrome",
   "metadata": {
    "execution": {
     "iopub.execute_input": "2021-08-20T14:00:07.763825Z",
     "iopub.status.busy": "2021-08-20T14:00:07.761889Z",
     "iopub.status.idle": "2021-08-20T14:00:07.852004Z",
     "shell.execute_reply": "2021-08-20T14:00:07.853275Z"
    },
    "papermill": {
     "duration": 0.11952,
     "end_time": "2021-08-20T14:00:07.853693",
     "exception": false,
     "start_time": "2021-08-20T14:00:07.734173",
     "status": "completed"
    },
    "tags": []
   },
   "outputs": [],
   "source": [
    "timestamps = pd.read_sql(\"select distinct record_time from EBAY_TOP_BERLIN order by record_time desc limit 2\", sqlite3.connect(\"UsedObjects.db\"))"
   ]
  },
  {
   "cell_type": "code",
   "execution_count": 3,
   "id": "periodic-identification",
   "metadata": {
    "execution": {
     "iopub.execute_input": "2021-08-20T14:00:07.920343Z",
     "iopub.status.busy": "2021-08-20T14:00:07.918347Z",
     "iopub.status.idle": "2021-08-20T14:00:07.938285Z",
     "shell.execute_reply": "2021-08-20T14:00:07.939703Z"
    },
    "papermill": {
     "duration": 0.0669,
     "end_time": "2021-08-20T14:00:07.940129",
     "exception": false,
     "start_time": "2021-08-20T14:00:07.873229",
     "status": "completed"
    },
    "tags": []
   },
   "outputs": [
    {
     "data": {
      "text/html": [
       "<div>\n",
       "<style scoped>\n",
       "    .dataframe tbody tr th:only-of-type {\n",
       "        vertical-align: middle;\n",
       "    }\n",
       "\n",
       "    .dataframe tbody tr th {\n",
       "        vertical-align: top;\n",
       "    }\n",
       "\n",
       "    .dataframe thead th {\n",
       "        text-align: right;\n",
       "    }\n",
       "</style>\n",
       "<table border=\"1\" class=\"dataframe\">\n",
       "  <thead>\n",
       "    <tr style=\"text-align: right;\">\n",
       "      <th></th>\n",
       "      <th>RECORD_TIME</th>\n",
       "    </tr>\n",
       "  </thead>\n",
       "  <tbody>\n",
       "    <tr>\n",
       "      <th>0</th>\n",
       "      <td>2021-08-20 16:00</td>\n",
       "    </tr>\n",
       "    <tr>\n",
       "      <th>1</th>\n",
       "      <td>2021-08-20 15:30</td>\n",
       "    </tr>\n",
       "  </tbody>\n",
       "</table>\n",
       "</div>"
      ],
      "text/plain": [
       "        RECORD_TIME\n",
       "0  2021-08-20 16:00\n",
       "1  2021-08-20 15:30"
      ]
     },
     "execution_count": 3,
     "metadata": {},
     "output_type": "execute_result"
    }
   ],
   "source": [
    "timestamps"
   ]
  },
  {
   "cell_type": "code",
   "execution_count": 4,
   "id": "alternate-victory",
   "metadata": {
    "execution": {
     "iopub.execute_input": "2021-08-20T14:00:07.991428Z",
     "iopub.status.busy": "2021-08-20T14:00:07.989464Z",
     "iopub.status.idle": "2021-08-20T14:00:08.126714Z",
     "shell.execute_reply": "2021-08-20T14:00:08.127923Z"
    },
    "papermill": {
     "duration": 0.167057,
     "end_time": "2021-08-20T14:00:08.128313",
     "exception": false,
     "start_time": "2021-08-20T14:00:07.961256",
     "status": "completed"
    },
    "tags": []
   },
   "outputs": [],
   "source": [
    "df = pd.read_sql(\"select * from EBAY_TOP_BERLIN where record_time in (select distinct record_time from EBAY_TOP_BERLIN order by record_time desc limit 2)\", sqlite3.connect(\"UsedObjects.db\"))"
   ]
  },
  {
   "cell_type": "code",
   "execution_count": 5,
   "id": "popular-active",
   "metadata": {
    "execution": {
     "iopub.execute_input": "2021-08-20T14:00:08.194912Z",
     "iopub.status.busy": "2021-08-20T14:00:08.185971Z",
     "iopub.status.idle": "2021-08-20T14:00:08.216332Z",
     "shell.execute_reply": "2021-08-20T14:00:08.217606Z"
    },
    "papermill": {
     "duration": 0.067837,
     "end_time": "2021-08-20T14:00:08.218076",
     "exception": false,
     "start_time": "2021-08-20T14:00:08.150239",
     "status": "completed"
    },
    "tags": []
   },
   "outputs": [],
   "source": [
    "df_pivot = df.pivot_table(index=\"PRODUCT\", columns = \"RECORD_TIME\", values = \"LISTING_COUNT\")"
   ]
  },
  {
   "cell_type": "code",
   "execution_count": 6,
   "id": "union-huntington",
   "metadata": {
    "execution": {
     "iopub.execute_input": "2021-08-20T14:00:08.274541Z",
     "iopub.status.busy": "2021-08-20T14:00:08.272304Z",
     "iopub.status.idle": "2021-08-20T14:00:08.278002Z",
     "shell.execute_reply": "2021-08-20T14:00:08.279232Z"
    },
    "papermill": {
     "duration": 0.04194,
     "end_time": "2021-08-20T14:00:08.279665",
     "exception": false,
     "start_time": "2021-08-20T14:00:08.237725",
     "status": "completed"
    },
    "tags": []
   },
   "outputs": [],
   "source": [
    "df_pivot.columns = [\"stamp_1\", \"stamp_2\"]\n",
    "df_pivot_diff = df_pivot.diff(axis=1)"
   ]
  },
  {
   "cell_type": "code",
   "execution_count": 7,
   "id": "fifth-motion",
   "metadata": {
    "execution": {
     "iopub.execute_input": "2021-08-20T14:00:08.333065Z",
     "iopub.status.busy": "2021-08-20T14:00:08.330826Z",
     "iopub.status.idle": "2021-08-20T14:00:09.820374Z",
     "shell.execute_reply": "2021-08-20T14:00:09.821830Z"
    },
    "papermill": {
     "duration": 1.522921,
     "end_time": "2021-08-20T14:00:09.822385",
     "exception": false,
     "start_time": "2021-08-20T14:00:08.299464",
     "status": "completed"
    },
    "tags": []
   },
   "outputs": [
    {
     "data": {
      "text/plain": [
       "<AxesSubplot:ylabel='PRODUCT'>"
      ]
     },
     "execution_count": 7,
     "metadata": {},
     "output_type": "execute_result"
    },
    {
     "data": {
      "image/png": "[encoded data removed]",
      "text/plain": [
       "<Figure size 432x288 with 1 Axes>"
      ]
     },
     "metadata": {
      "needs_background": "light"
     },
     "output_type": "display_data"
    }
   ],
   "source": [
    "df_pivot_diff.sort_values(\"stamp_2\", ascending = False)[\"stamp_2\"].head(10).plot.barh()"
   ]
  },
  {
   "cell_type": "code",
   "execution_count": null,
   "id": "extra-executive",
   "metadata": {
    "papermill": {
     "duration": 0.022063,
     "end_time": "2021-08-20T14:00:09.868934",
     "exception": false,
     "start_time": "2021-08-20T14:00:09.846871",
     "status": "completed"
    },
    "tags": []
   },
   "outputs": [],
   "source": []
  }
 ],
 "metadata": {
  "kernelspec": {
   "display_name": "Python 3",
   "language": "python",
   "name": "python3"
  },
  "language_info": {
   "codemirror_mode": {
    "name": "ipython",
    "version": 3
   },
   "file_extension": ".py",
   "mimetype": "text/x-python",
   "name": "python",
   "nbconvert_exporter": "python",
   "pygments_lexer": "ipython3",
   "version": "3.9.5"
  },
  "papermill": {
   "default_parameters": {},
   "duration": 6.821849,
   "end_time": "2021-08-20T14:00:11.279871",
   "environment_variables": {},
   "exception": null,
   "input_path": "eBay_Overview.ipynb",
   "output_path": "eBay_Overview.ipynb",
   "parameters": {},
   "start_time": "2021-08-20T14:00:04.458022",
   "version": "2.3.3"
  }
 },
 "nbformat": 4,
 "nbformat_minor": 5
}