{
 "cells": [
  {
   "cell_type": "code",
   "execution_count": 1,
   "id": "reverse-picking",
   "metadata": {
    "execution": {
     "iopub.execute_input": "2021-12-02T01:00:07.392863Z",
     "iopub.status.busy": "2021-12-02T01:00:07.389577Z",
     "iopub.status.idle": "2021-12-02T01:00:08.341787Z",
     "shell.execute_reply": "2021-12-02T01:00:08.343998Z"
    },
    "papermill": {
     "duration": 1.003018,
     "end_time": "2021-12-02T01:00:08.344788",
     "exception": false,
     "start_time": "2021-12-02T01:00:07.341770",
     "status": "completed"
    },
    "tags": []
   },
   "outputs": [],
   "source": [
    "import pandas as pd\n",
    "import sqlite3"
   ]
  },
  {
   "cell_type": "code",
   "execution_count": 2,
   "id": "innovative-syndrome",
   "metadata": {
    "execution": {
     "iopub.execute_input": "2021-12-02T01:00:08.401519Z",
     "iopub.status.busy": "2021-12-02T01:00:08.399208Z",
     "iopub.status.idle": "2021-12-02T01:00:09.379769Z",
     "shell.execute_reply": "2021-12-02T01:00:09.381620Z"
    },
    "papermill": {
     "duration": 1.01558,
     "end_time": "2021-12-02T01:00:09.382149",
     "exception": false,
     "start_time": "2021-12-02T01:00:08.366569",
     "status": "completed"
    },
    "tags": []
   },
   "outputs": [],
   "source": [
    "timestamps = pd.read_sql(\"select distinct record_time from EBAY_TOP_BERLIN order by record_time desc limit 2\", sqlite3.connect(\"UsedObjects.db\"))"
   ]
  },
  {
   "cell_type": "code",
   "execution_count": 3,
   "id": "periodic-identification",
   "metadata": {
    "execution": {
     "iopub.execute_input": "2021-12-02T01:00:09.450152Z",
     "iopub.status.busy": "2021-12-02T01:00:09.448064Z",
     "iopub.status.idle": "2021-12-02T01:00:09.468152Z",
     "shell.execute_reply": "2021-12-02T01:00:09.469631Z"
    },
    "papermill": {
     "duration": 0.0653,
     "end_time": "2021-12-02T01:00:09.470081",
     "exception": false,
     "start_time": "2021-12-02T01:00:09.404781",
     "status": "completed"
    },
    "tags": []
   },
   "outputs": [
    {
     "data": {
      "text/html": [
       "<div>\n",
       "<style scoped>\n",
       "    .dataframe tbody tr th:only-of-type {\n",
       "        vertical-align: middle;\n",
       "    }\n",
       "\n",
       "    .dataframe tbody tr th {\n",
       "        vertical-align: top;\n",
       "    }\n",
       "\n",
       "    .dataframe thead th {\n",
       "        text-align: right;\n",
       "    }\n",
       "</style>\n",
       "<table border=\"1\" class=\"dataframe\">\n",
       "  <thead>\n",
       "    <tr style=\"text-align: right;\">\n",
       "      <th></th>\n",
       "      <th>RECORD_TIME</th>\n",
       "    </tr>\n",
       "  </thead>\n",
       "  <tbody>\n",
       "    <tr>\n",
       "      <th>0</th>\n",
       "      <td>2021-12-02 02:00</td>\n",
       "    </tr>\n",
       "    <tr>\n",
       "      <th>1</th>\n",
       "      <td>2021-12-02 01:30</td>\n",
       "    </tr>\n",
       "  </tbody>\n",
       "</table>\n",
       "</div>"
      ],
      "text/plain": [
       "        RECORD_TIME\n",
       "0  2021-12-02 02:00\n",
       "1  2021-12-02 01:30"
      ]
     },
     "execution_count": 3,
     "metadata": {},
     "output_type": "execute_result"
    }
   ],
   "source": [
    "timestamps"
   ]
  },
  {
   "cell_type": "code",
   "execution_count": 4,
   "id": "alternate-victory",
   "metadata": {
    "execution": {
     "iopub.execute_input": "2021-12-02T01:00:09.521414Z",
     "iopub.status.busy": "2021-12-02T01:00:09.519421Z",
     "iopub.status.idle": "2021-12-02T01:00:10.921183Z",
     "shell.execute_reply": "2021-12-02T01:00:10.922689Z"
    },
    "papermill": {
     "duration": 1.431966,
     "end_time": "2021-12-02T01:00:10.923184",
     "exception": false,
     "start_time": "2021-12-02T01:00:09.491218",
     "status": "completed"
    },
    "tags": []
   },
   "outputs": [],
   "source": [
    "df = pd.read_sql(\"select * from EBAY_TOP_BERLIN where record_time in (select distinct record_time from EBAY_TOP_BERLIN order by record_time desc limit 2)\", sqlite3.connect(\"UsedObjects.db\"))"
   ]
  },
  {
   "cell_type": "code",
   "execution_count": 5,
   "id": "popular-active",
   "metadata": {
    "execution": {
     "iopub.execute_input": "2021-12-02T01:00:11.004558Z",
     "iopub.status.busy": "2021-12-02T01:00:10.988351Z",
     "iopub.status.idle": "2021-12-02T01:00:11.030213Z",
     "shell.execute_reply": "2021-12-02T01:00:11.032506Z"
    },
    "papermill": {
     "duration": 0.084999,
     "end_time": "2021-12-02T01:00:11.033164",
     "exception": false,
     "start_time": "2021-12-02T01:00:10.948165",
     "status": "completed"
    },
    "tags": []
   },
   "outputs": [],
   "source": [
    "df_pivot = df.pivot_table(index=\"PRODUCT\", columns = \"RECORD_TIME\", values = \"LISTING_COUNT\")"
   ]
  },
  {
   "cell_type": "code",
   "execution_count": 6,
   "id": "union-huntington",
   "metadata": {
    "execution": {
     "iopub.execute_input": "2021-12-02T01:00:11.094214Z",
     "iopub.status.busy": "2021-12-02T01:00:11.091864Z",
     "iopub.status.idle": "2021-12-02T01:00:11.097666Z",
     "shell.execute_reply": "2021-12-02T01:00:11.099048Z"
    },
    "papermill": {
     "duration": 0.044116,
     "end_time": "2021-12-02T01:00:11.099518",
     "exception": false,
     "start_time": "2021-12-02T01:00:11.055402",
     "status": "completed"
    },
    "tags": []
   },
   "outputs": [],
   "source": [
    "df_pivot.columns = [\"stamp_1\", \"stamp_2\"]\n",
    "df_pivot_diff = df_pivot.diff(axis=1)"
   ]
  },
  {
   "cell_type": "code",
   "execution_count": 7,
   "id": "fifth-motion",
   "metadata": {
    "execution": {
     "iopub.execute_input": "2021-12-02T01:00:11.154742Z",
     "iopub.status.busy": "2021-12-02T01:00:11.152225Z",
     "iopub.status.idle": "2021-12-02T01:00:13.159388Z",
     "shell.execute_reply": "2021-12-02T01:00:13.161665Z"
    },
    "papermill": {
     "duration": 2.043261,
     "end_time": "2021-12-02T01:00:13.162337",
     "exception": false,
     "start_time": "2021-12-02T01:00:11.119076",
     "status": "completed"
    },
    "tags": []
   },
   "outputs": [
    {
     "data": {
      "text/plain": [
       "<AxesSubplot:ylabel='PRODUCT'>"
      ]
     },
     "execution_count": 7,
     "metadata": {},
     "output_type": "execute_result"
    },
    {
     "data": {
      "image/png": "[encoded data removed]",
      "text/plain": [
       "<Figure size 432x288 with 1 Axes>"
      ]
     },
     "metadata": {
      "needs_background": "light"
     },
     "output_type": "display_data"
    }
   ],
   "source": [
    "df_pivot_diff.sort_values(\"stamp_2\", ascending = False)[\"stamp_2\"].head(10).plot.barh()"
   ]
  },
  {
   "cell_type": "code",
   "execution_count": null,
   "id": "extra-executive",
   "metadata": {
    "papermill": {
     "duration": 0.027123,
     "end_time": "2021-12-02T01:00:13.217604",
     "exception": false,
     "start_time": "2021-12-02T01:00:13.190481",
     "status": "completed"
    },
    "tags": []
   },
   "outputs": [],
   "source": []
  }
 ],
 "metadata": {
  "kernelspec": {
   "display_name": "Python 3",
   "language": "python",
   "name": "python3"
  },
  "language_info": {
   "codemirror_mode": {
    "name": "ipython",
    "version": 3
   },
   "file_extension": ".py",
   "mimetype": "text/x-python",
   "name": "python",
   "nbconvert_exporter": "python",
   "pygments_lexer": "ipython3",
   "version": "3.9.5"
  },
  "papermill": {
   "default_parameters": {},
   "duration": 9.938086,
   "end_time": "2021-12-02T01:00:14.555662",
   "environment_variables": {},
   "exception": null,
   "input_path": "eBay_Overview.ipynb",
   "output_path": "eBay_Overview.ipynb",
   "parameters": {},
   "start_time": "2021-12-02T01:00:04.617576",
   "version": "2.3.3"
  }
 },
 "nbformat": 4,
 "nbformat_minor": 5
}