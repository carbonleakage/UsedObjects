{
 "cells": [
  {
   "cell_type": "code",
   "execution_count": 1,
   "id": "reverse-picking",
   "metadata": {
    "execution": {
     "iopub.execute_input": "2021-10-24T00:00:06.673397Z",
     "iopub.status.busy": "2021-10-24T00:00:06.671384Z",
     "iopub.status.idle": "2021-10-24T00:00:07.477999Z",
     "shell.execute_reply": "2021-10-24T00:00:07.479243Z"
    },
    "papermill": {
     "duration": 0.857137,
     "end_time": "2021-10-24T00:00:07.479849",
     "exception": false,
     "start_time": "2021-10-24T00:00:06.622712",
     "status": "completed"
    },
    "tags": []
   },
   "outputs": [],
   "source": [
    "import pandas as pd\n",
    "import sqlite3"
   ]
  },
  {
   "cell_type": "code",
   "execution_count": 2,
   "id": "innovative-syndrome",
   "metadata": {
    "execution": {
     "iopub.execute_input": "2021-10-24T00:00:07.533688Z",
     "iopub.status.busy": "2021-10-24T00:00:07.531305Z",
     "iopub.status.idle": "2021-10-24T00:00:08.161799Z",
     "shell.execute_reply": "2021-10-24T00:00:08.162905Z"
    },
    "papermill": {
     "duration": 0.660828,
     "end_time": "2021-10-24T00:00:08.163310",
     "exception": false,
     "start_time": "2021-10-24T00:00:07.502482",
     "status": "completed"
    },
    "tags": []
   },
   "outputs": [],
   "source": [
    "timestamps = pd.read_sql(\"select distinct record_time from EBAY_TOP_BERLIN order by record_time desc limit 2\", sqlite3.connect(\"UsedObjects.db\"))"
   ]
  },
  {
   "cell_type": "code",
   "execution_count": 3,
   "id": "periodic-identification",
   "metadata": {
    "execution": {
     "iopub.execute_input": "2021-10-24T00:00:08.246699Z",
     "iopub.status.busy": "2021-10-24T00:00:08.244525Z",
     "iopub.status.idle": "2021-10-24T00:00:08.265847Z",
     "shell.execute_reply": "2021-10-24T00:00:08.267333Z"
    },
    "papermill": {
     "duration": 0.072558,
     "end_time": "2021-10-24T00:00:08.267783",
     "exception": false,
     "start_time": "2021-10-24T00:00:08.195225",
     "status": "completed"
    },
    "tags": []
   },
   "outputs": [
    {
     "data": {
      "text/html": [
       "<div>\n",
       "<style scoped>\n",
       "    .dataframe tbody tr th:only-of-type {\n",
       "        vertical-align: middle;\n",
       "    }\n",
       "\n",
       "    .dataframe tbody tr th {\n",
       "        vertical-align: top;\n",
       "    }\n",
       "\n",
       "    .dataframe thead th {\n",
       "        text-align: right;\n",
       "    }\n",
       "</style>\n",
       "<table border=\"1\" class=\"dataframe\">\n",
       "  <thead>\n",
       "    <tr style=\"text-align: right;\">\n",
       "      <th></th>\n",
       "      <th>RECORD_TIME</th>\n",
       "    </tr>\n",
       "  </thead>\n",
       "  <tbody>\n",
       "    <tr>\n",
       "      <th>0</th>\n",
       "      <td>2021-10-24 02:00</td>\n",
       "    </tr>\n",
       "    <tr>\n",
       "      <th>1</th>\n",
       "      <td>2021-10-24 01:30</td>\n",
       "    </tr>\n",
       "  </tbody>\n",
       "</table>\n",
       "</div>"
      ],
      "text/plain": [
       "        RECORD_TIME\n",
       "0  2021-10-24 02:00\n",
       "1  2021-10-24 01:30"
      ]
     },
     "execution_count": 3,
     "metadata": {},
     "output_type": "execute_result"
    }
   ],
   "source": [
    "timestamps"
   ]
  },
  {
   "cell_type": "code",
   "execution_count": 4,
   "id": "alternate-victory",
   "metadata": {
    "execution": {
     "iopub.execute_input": "2021-10-24T00:00:08.320283Z",
     "iopub.status.busy": "2021-10-24T00:00:08.318370Z",
     "iopub.status.idle": "2021-10-24T00:00:09.230388Z",
     "shell.execute_reply": "2021-10-24T00:00:09.231600Z"
    },
    "papermill": {
     "duration": 0.94261,
     "end_time": "2021-10-24T00:00:09.231993",
     "exception": false,
     "start_time": "2021-10-24T00:00:08.289383",
     "status": "completed"
    },
    "tags": []
   },
   "outputs": [],
   "source": [
    "df = pd.read_sql(\"select * from EBAY_TOP_BERLIN where record_time in (select distinct record_time from EBAY_TOP_BERLIN order by record_time desc limit 2)\", sqlite3.connect(\"UsedObjects.db\"))"
   ]
  },
  {
   "cell_type": "code",
   "execution_count": 5,
   "id": "popular-active",
   "metadata": {
    "execution": {
     "iopub.execute_input": "2021-10-24T00:00:09.302670Z",
     "iopub.status.busy": "2021-10-24T00:00:09.290275Z",
     "iopub.status.idle": "2021-10-24T00:00:09.321283Z",
     "shell.execute_reply": "2021-10-24T00:00:09.319843Z"
    },
    "papermill": {
     "duration": 0.068622,
     "end_time": "2021-10-24T00:00:09.321637",
     "exception": false,
     "start_time": "2021-10-24T00:00:09.253015",
     "status": "completed"
    },
    "tags": []
   },
   "outputs": [],
   "source": [
    "df_pivot = df.pivot_table(index=\"PRODUCT\", columns = \"RECORD_TIME\", values = \"LISTING_COUNT\")"
   ]
  },
  {
   "cell_type": "code",
   "execution_count": 6,
   "id": "union-huntington",
   "metadata": {
    "execution": {
     "iopub.execute_input": "2021-10-24T00:00:09.378689Z",
     "iopub.status.busy": "2021-10-24T00:00:09.376597Z",
     "iopub.status.idle": "2021-10-24T00:00:09.383321Z",
     "shell.execute_reply": "2021-10-24T00:00:09.381934Z"
    },
    "papermill": {
     "duration": 0.040523,
     "end_time": "2021-10-24T00:00:09.383666",
     "exception": false,
     "start_time": "2021-10-24T00:00:09.343143",
     "status": "completed"
    },
    "tags": []
   },
   "outputs": [],
   "source": [
    "df_pivot.columns = [\"stamp_1\", \"stamp_2\"]\n",
    "df_pivot_diff = df_pivot.diff(axis=1)"
   ]
  },
  {
   "cell_type": "code",
   "execution_count": 7,
   "id": "fifth-motion",
   "metadata": {
    "execution": {
     "iopub.execute_input": "2021-10-24T00:00:09.440056Z",
     "iopub.status.busy": "2021-10-24T00:00:09.437431Z",
     "iopub.status.idle": "2021-10-24T00:00:10.897682Z",
     "shell.execute_reply": "2021-10-24T00:00:10.898955Z"
    },
    "papermill": {
     "duration": 1.494076,
     "end_time": "2021-10-24T00:00:10.899363",
     "exception": false,
     "start_time": "2021-10-24T00:00:09.405287",
     "status": "completed"
    },
    "tags": []
   },
   "outputs": [
    {
     "data": {
      "text/plain": [
       "<AxesSubplot:ylabel='PRODUCT'>"
      ]
     },
     "execution_count": 7,
     "metadata": {},
     "output_type": "execute_result"
    },
    {
     "data": {
      "image/png": "[encoded data removed]",
      "text/plain": [
       "<Figure size 432x288 with 1 Axes>"
      ]
     },
     "metadata": {
      "needs_background": "light"
     },
     "output_type": "display_data"
    }
   ],
   "source": [
    "df_pivot_diff.sort_values(\"stamp_2\", ascending = False)[\"stamp_2\"].head(10).plot.barh()"
   ]
  },
  {
   "cell_type": "code",
   "execution_count": null,
   "id": "extra-executive",
   "metadata": {
    "papermill": {
     "duration": 0.022345,
     "end_time": "2021-10-24T00:00:10.947438",
     "exception": false,
     "start_time": "2021-10-24T00:00:10.925093",
     "status": "completed"
    },
    "tags": []
   },
   "outputs": [],
   "source": []
  }
 ],
 "metadata": {
  "kernelspec": {
   "display_name": "Python 3",
   "language": "python",
   "name": "python3"
  },
  "language_info": {
   "codemirror_mode": {
    "name": "ipython",
    "version": 3
   },
   "file_extension": ".py",
   "mimetype": "text/x-python",
   "name": "python",
   "nbconvert_exporter": "python",
   "pygments_lexer": "ipython3",
   "version": "3.9.5"
  },
  "papermill": {
   "default_parameters": {},
   "duration": 7.371862,
   "end_time": "2021-10-24T00:00:11.590638",
   "environment_variables": {},
   "exception": null,
   "input_path": "eBay_Overview.ipynb",
   "output_path": "eBay_Overview.ipynb",
   "parameters": {},
   "start_time": "2021-10-24T00:00:04.218776",
   "version": "2.3.3"
  }
 },
 "nbformat": 4,
 "nbformat_minor": 5
}