{
 "cells": [
  {
   "cell_type": "code",
   "execution_count": 1,
   "id": "reverse-picking",
   "metadata": {
    "execution": {
     "iopub.execute_input": "2021-11-16T22:00:08.008143Z",
     "iopub.status.busy": "2021-11-16T22:00:08.006037Z",
     "iopub.status.idle": "2021-11-16T22:00:08.971768Z",
     "shell.execute_reply": "2021-11-16T22:00:08.974621Z"
    },
    "papermill": {
     "duration": 1.016128,
     "end_time": "2021-11-16T22:00:08.975787",
     "exception": false,
     "start_time": "2021-11-16T22:00:07.959659",
     "status": "completed"
    },
    "tags": []
   },
   "outputs": [],
   "source": [
    "import pandas as pd\n",
    "import sqlite3"
   ]
  },
  {
   "cell_type": "code",
   "execution_count": 2,
   "id": "innovative-syndrome",
   "metadata": {
    "execution": {
     "iopub.execute_input": "2021-11-16T22:00:09.046838Z",
     "iopub.status.busy": "2021-11-16T22:00:09.043283Z",
     "iopub.status.idle": "2021-11-16T22:00:09.888746Z",
     "shell.execute_reply": "2021-11-16T22:00:09.890128Z"
    },
    "papermill": {
     "duration": 0.878573,
     "end_time": "2021-11-16T22:00:09.890554",
     "exception": false,
     "start_time": "2021-11-16T22:00:09.011981",
     "status": "completed"
    },
    "tags": []
   },
   "outputs": [],
   "source": [
    "timestamps = pd.read_sql(\"select distinct record_time from EBAY_TOP_BERLIN order by record_time desc limit 2\", sqlite3.connect(\"UsedObjects.db\"))"
   ]
  },
  {
   "cell_type": "code",
   "execution_count": 3,
   "id": "periodic-identification",
   "metadata": {
    "execution": {
     "iopub.execute_input": "2021-11-16T22:00:09.954522Z",
     "iopub.status.busy": "2021-11-16T22:00:09.952445Z",
     "iopub.status.idle": "2021-11-16T22:00:09.974757Z",
     "shell.execute_reply": "2021-11-16T22:00:09.975898Z"
    },
    "papermill": {
     "duration": 0.066358,
     "end_time": "2021-11-16T22:00:09.976308",
     "exception": false,
     "start_time": "2021-11-16T22:00:09.909950",
     "status": "completed"
    },
    "tags": []
   },
   "outputs": [
    {
     "data": {
      "text/html": [
       "<div>\n",
       "<style scoped>\n",
       "    .dataframe tbody tr th:only-of-type {\n",
       "        vertical-align: middle;\n",
       "    }\n",
       "\n",
       "    .dataframe tbody tr th {\n",
       "        vertical-align: top;\n",
       "    }\n",
       "\n",
       "    .dataframe thead th {\n",
       "        text-align: right;\n",
       "    }\n",
       "</style>\n",
       "<table border=\"1\" class=\"dataframe\">\n",
       "  <thead>\n",
       "    <tr style=\"text-align: right;\">\n",
       "      <th></th>\n",
       "      <th>RECORD_TIME</th>\n",
       "    </tr>\n",
       "  </thead>\n",
       "  <tbody>\n",
       "    <tr>\n",
       "      <th>0</th>\n",
       "      <td>2021-11-16 23:00</td>\n",
       "    </tr>\n",
       "    <tr>\n",
       "      <th>1</th>\n",
       "      <td>2021-11-16 22:30</td>\n",
       "    </tr>\n",
       "  </tbody>\n",
       "</table>\n",
       "</div>"
      ],
      "text/plain": [
       "        RECORD_TIME\n",
       "0  2021-11-16 23:00\n",
       "1  2021-11-16 22:30"
      ]
     },
     "execution_count": 3,
     "metadata": {},
     "output_type": "execute_result"
    }
   ],
   "source": [
    "timestamps"
   ]
  },
  {
   "cell_type": "code",
   "execution_count": 4,
   "id": "alternate-victory",
   "metadata": {
    "execution": {
     "iopub.execute_input": "2021-11-16T22:00:10.031615Z",
     "iopub.status.busy": "2021-11-16T22:00:10.029580Z",
     "iopub.status.idle": "2021-11-16T22:00:11.254908Z",
     "shell.execute_reply": "2021-11-16T22:00:11.256481Z"
    },
    "papermill": {
     "duration": 1.256415,
     "end_time": "2021-11-16T22:00:11.257050",
     "exception": false,
     "start_time": "2021-11-16T22:00:10.000635",
     "status": "completed"
    },
    "tags": []
   },
   "outputs": [],
   "source": [
    "df = pd.read_sql(\"select * from EBAY_TOP_BERLIN where record_time in (select distinct record_time from EBAY_TOP_BERLIN order by record_time desc limit 2)\", sqlite3.connect(\"UsedObjects.db\"))"
   ]
  },
  {
   "cell_type": "code",
   "execution_count": 5,
   "id": "popular-active",
   "metadata": {
    "execution": {
     "iopub.execute_input": "2021-11-16T22:00:11.334096Z",
     "iopub.status.busy": "2021-11-16T22:00:11.326752Z",
     "iopub.status.idle": "2021-11-16T22:00:11.351327Z",
     "shell.execute_reply": "2021-11-16T22:00:11.352904Z"
    },
    "papermill": {
     "duration": 0.074058,
     "end_time": "2021-11-16T22:00:11.353378",
     "exception": false,
     "start_time": "2021-11-16T22:00:11.279320",
     "status": "completed"
    },
    "tags": []
   },
   "outputs": [],
   "source": [
    "df_pivot = df.pivot_table(index=\"PRODUCT\", columns = \"RECORD_TIME\", values = \"LISTING_COUNT\")"
   ]
  },
  {
   "cell_type": "code",
   "execution_count": 6,
   "id": "union-huntington",
   "metadata": {
    "execution": {
     "iopub.execute_input": "2021-11-16T22:00:11.414756Z",
     "iopub.status.busy": "2021-11-16T22:00:11.412478Z",
     "iopub.status.idle": "2021-11-16T22:00:11.417540Z",
     "shell.execute_reply": "2021-11-16T22:00:11.419184Z"
    },
    "papermill": {
     "duration": 0.046632,
     "end_time": "2021-11-16T22:00:11.419945",
     "exception": false,
     "start_time": "2021-11-16T22:00:11.373313",
     "status": "completed"
    },
    "tags": []
   },
   "outputs": [],
   "source": [
    "df_pivot.columns = [\"stamp_1\", \"stamp_2\"]\n",
    "df_pivot_diff = df_pivot.diff(axis=1)"
   ]
  },
  {
   "cell_type": "code",
   "execution_count": 7,
   "id": "fifth-motion",
   "metadata": {
    "execution": {
     "iopub.execute_input": "2021-11-16T22:00:11.484601Z",
     "iopub.status.busy": "2021-11-16T22:00:11.481175Z",
     "iopub.status.idle": "2021-11-16T22:00:13.384254Z",
     "shell.execute_reply": "2021-11-16T22:00:13.386826Z"
    },
    "papermill": {
     "duration": 1.945076,
     "end_time": "2021-11-16T22:00:13.387662",
     "exception": false,
     "start_time": "2021-11-16T22:00:11.442586",
     "status": "completed"
    },
    "tags": []
   },
   "outputs": [
    {
     "data": {
      "text/plain": [
       "<AxesSubplot:ylabel='PRODUCT'>"
      ]
     },
     "execution_count": 7,
     "metadata": {},
     "output_type": "execute_result"
    },
    {
     "data": {
      "image/png": "[encoded data removed]",
      "text/plain": [
       "<Figure size 432x288 with 1 Axes>"
      ]
     },
     "metadata": {
      "needs_background": "light"
     },
     "output_type": "display_data"
    }
   ],
   "source": [
    "df_pivot_diff.sort_values(\"stamp_2\", ascending = False)[\"stamp_2\"].head(10).plot.barh()"
   ]
  },
  {
   "cell_type": "code",
   "execution_count": null,
   "id": "extra-executive",
   "metadata": {
    "papermill": {
     "duration": 0.027207,
     "end_time": "2021-11-16T22:00:13.447748",
     "exception": false,
     "start_time": "2021-11-16T22:00:13.420541",
     "status": "completed"
    },
    "tags": []
   },
   "outputs": [],
   "source": []
  }
 ],
 "metadata": {
  "kernelspec": {
   "display_name": "Python 3",
   "language": "python",
   "name": "python3"
  },
  "language_info": {
   "codemirror_mode": {
    "name": "ipython",
    "version": 3
   },
   "file_extension": ".py",
   "mimetype": "text/x-python",
   "name": "python",
   "nbconvert_exporter": "python",
   "pygments_lexer": "ipython3",
   "version": "3.9.5"
  },
  "papermill": {
   "default_parameters": {},
   "duration": 9.929234,
   "end_time": "2021-11-16T22:00:15.157781",
   "environment_variables": {},
   "exception": null,
   "input_path": "eBay_Overview.ipynb",
   "output_path": "eBay_Overview.ipynb",
   "parameters": {},
   "start_time": "2021-11-16T22:00:05.228547",
   "version": "2.3.3"
  }
 },
 "nbformat": 4,
 "nbformat_minor": 5
}