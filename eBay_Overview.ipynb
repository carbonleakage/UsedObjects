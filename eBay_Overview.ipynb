{
 "cells": [
  {
   "cell_type": "code",
   "execution_count": 1,
   "id": "reverse-picking",
   "metadata": {
    "execution": {
     "iopub.execute_input": "2021-10-01T01:00:06.740992Z",
     "iopub.status.busy": "2021-10-01T01:00:06.738960Z",
     "iopub.status.idle": "2021-10-01T01:00:07.551940Z",
     "shell.execute_reply": "2021-10-01T01:00:07.553201Z"
    },
    "papermill": {
     "duration": 0.863765,
     "end_time": "2021-10-01T01:00:07.553827",
     "exception": false,
     "start_time": "2021-10-01T01:00:06.690062",
     "status": "completed"
    },
    "tags": []
   },
   "outputs": [],
   "source": [
    "import pandas as pd\n",
    "import sqlite3"
   ]
  },
  {
   "cell_type": "code",
   "execution_count": 2,
   "id": "innovative-syndrome",
   "metadata": {
    "execution": {
     "iopub.execute_input": "2021-10-01T01:00:07.604327Z",
     "iopub.status.busy": "2021-10-01T01:00:07.602354Z",
     "iopub.status.idle": "2021-10-01T01:00:08.017120Z",
     "shell.execute_reply": "2021-10-01T01:00:08.018308Z"
    },
    "papermill": {
     "duration": 0.444044,
     "end_time": "2021-10-01T01:00:08.018697",
     "exception": false,
     "start_time": "2021-10-01T01:00:07.574653",
     "status": "completed"
    },
    "tags": []
   },
   "outputs": [],
   "source": [
    "timestamps = pd.read_sql(\"select distinct record_time from EBAY_TOP_BERLIN order by record_time desc limit 2\", sqlite3.connect(\"UsedObjects.db\"))"
   ]
  },
  {
   "cell_type": "code",
   "execution_count": 3,
   "id": "periodic-identification",
   "metadata": {
    "execution": {
     "iopub.execute_input": "2021-10-01T01:00:08.084377Z",
     "iopub.status.busy": "2021-10-01T01:00:08.082071Z",
     "iopub.status.idle": "2021-10-01T01:00:08.106742Z",
     "shell.execute_reply": "2021-10-01T01:00:08.105119Z"
    },
    "papermill": {
     "duration": 0.067589,
     "end_time": "2021-10-01T01:00:08.107255",
     "exception": false,
     "start_time": "2021-10-01T01:00:08.039666",
     "status": "completed"
    },
    "tags": []
   },
   "outputs": [
    {
     "data": {
      "text/html": [
       "<div>\n",
       "<style scoped>\n",
       "    .dataframe tbody tr th:only-of-type {\n",
       "        vertical-align: middle;\n",
       "    }\n",
       "\n",
       "    .dataframe tbody tr th {\n",
       "        vertical-align: top;\n",
       "    }\n",
       "\n",
       "    .dataframe thead th {\n",
       "        text-align: right;\n",
       "    }\n",
       "</style>\n",
       "<table border=\"1\" class=\"dataframe\">\n",
       "  <thead>\n",
       "    <tr style=\"text-align: right;\">\n",
       "      <th></th>\n",
       "      <th>RECORD_TIME</th>\n",
       "    </tr>\n",
       "  </thead>\n",
       "  <tbody>\n",
       "    <tr>\n",
       "      <th>0</th>\n",
       "      <td>2021-10-01 03:00</td>\n",
       "    </tr>\n",
       "    <tr>\n",
       "      <th>1</th>\n",
       "      <td>2021-10-01 02:30</td>\n",
       "    </tr>\n",
       "  </tbody>\n",
       "</table>\n",
       "</div>"
      ],
      "text/plain": [
       "        RECORD_TIME\n",
       "0  2021-10-01 03:00\n",
       "1  2021-10-01 02:30"
      ]
     },
     "execution_count": 3,
     "metadata": {},
     "output_type": "execute_result"
    }
   ],
   "source": [
    "timestamps"
   ]
  },
  {
   "cell_type": "code",
   "execution_count": 4,
   "id": "alternate-victory",
   "metadata": {
    "execution": {
     "iopub.execute_input": "2021-10-01T01:00:08.158667Z",
     "iopub.status.busy": "2021-10-01T01:00:08.156844Z",
     "iopub.status.idle": "2021-10-01T01:00:08.773210Z",
     "shell.execute_reply": "2021-10-01T01:00:08.774496Z"
    },
    "papermill": {
     "duration": 0.646239,
     "end_time": "2021-10-01T01:00:08.774987",
     "exception": false,
     "start_time": "2021-10-01T01:00:08.128748",
     "status": "completed"
    },
    "tags": []
   },
   "outputs": [],
   "source": [
    "df = pd.read_sql(\"select * from EBAY_TOP_BERLIN where record_time in (select distinct record_time from EBAY_TOP_BERLIN order by record_time desc limit 2)\", sqlite3.connect(\"UsedObjects.db\"))"
   ]
  },
  {
   "cell_type": "code",
   "execution_count": 5,
   "id": "popular-active",
   "metadata": {
    "execution": {
     "iopub.execute_input": "2021-10-01T01:00:08.844737Z",
     "iopub.status.busy": "2021-10-01T01:00:08.833455Z",
     "iopub.status.idle": "2021-10-01T01:00:08.861557Z",
     "shell.execute_reply": "2021-10-01T01:00:08.863238Z"
    },
    "papermill": {
     "duration": 0.068656,
     "end_time": "2021-10-01T01:00:08.863729",
     "exception": false,
     "start_time": "2021-10-01T01:00:08.795073",
     "status": "completed"
    },
    "tags": []
   },
   "outputs": [],
   "source": [
    "df_pivot = df.pivot_table(index=\"PRODUCT\", columns = \"RECORD_TIME\", values = \"LISTING_COUNT\")"
   ]
  },
  {
   "cell_type": "code",
   "execution_count": 6,
   "id": "union-huntington",
   "metadata": {
    "execution": {
     "iopub.execute_input": "2021-10-01T01:00:08.922951Z",
     "iopub.status.busy": "2021-10-01T01:00:08.920498Z",
     "iopub.status.idle": "2021-10-01T01:00:08.927541Z",
     "shell.execute_reply": "2021-10-01T01:00:08.926078Z"
    },
    "papermill": {
     "duration": 0.042069,
     "end_time": "2021-10-01T01:00:08.927900",
     "exception": false,
     "start_time": "2021-10-01T01:00:08.885831",
     "status": "completed"
    },
    "tags": []
   },
   "outputs": [],
   "source": [
    "df_pivot.columns = [\"stamp_1\", \"stamp_2\"]\n",
    "df_pivot_diff = df_pivot.diff(axis=1)"
   ]
  },
  {
   "cell_type": "code",
   "execution_count": 7,
   "id": "fifth-motion",
   "metadata": {
    "execution": {
     "iopub.execute_input": "2021-10-01T01:00:08.982195Z",
     "iopub.status.busy": "2021-10-01T01:00:08.980002Z",
     "iopub.status.idle": "2021-10-01T01:00:10.481232Z",
     "shell.execute_reply": "2021-10-01T01:00:10.482495Z"
    },
    "papermill": {
     "duration": 1.533547,
     "end_time": "2021-10-01T01:00:10.483008",
     "exception": false,
     "start_time": "2021-10-01T01:00:08.949461",
     "status": "completed"
    },
    "tags": []
   },
   "outputs": [
    {
     "data": {
      "text/plain": [
       "<AxesSubplot:ylabel='PRODUCT'>"
      ]
     },
     "execution_count": 7,
     "metadata": {},
     "output_type": "execute_result"
    },
    {
     "data": {
      "image/png": "[encoded data removed]",
      "text/plain": [
       "<Figure size 432x288 with 1 Axes>"
      ]
     },
     "metadata": {
      "needs_background": "light"
     },
     "output_type": "display_data"
    }
   ],
   "source": [
    "df_pivot_diff.sort_values(\"stamp_2\", ascending = False)[\"stamp_2\"].head(10).plot.barh()"
   ]
  },
  {
   "cell_type": "code",
   "execution_count": null,
   "id": "extra-executive",
   "metadata": {
    "papermill": {
     "duration": 0.022114,
     "end_time": "2021-10-01T01:00:10.529869",
     "exception": false,
     "start_time": "2021-10-01T01:00:10.507755",
     "status": "completed"
    },
    "tags": []
   },
   "outputs": [],
   "source": []
  }
 ],
 "metadata": {
  "kernelspec": {
   "display_name": "Python 3",
   "language": "python",
   "name": "python3"
  },
  "language_info": {
   "codemirror_mode": {
    "name": "ipython",
    "version": 3
   },
   "file_extension": ".py",
   "mimetype": "text/x-python",
   "name": "python",
   "nbconvert_exporter": "python",
   "pygments_lexer": "ipython3",
   "version": "3.9.5"
  },
  "papermill": {
   "default_parameters": {},
   "duration": 7.822914,
   "end_time": "2021-10-01T01:00:12.107507",
   "environment_variables": {},
   "exception": null,
   "input_path": "eBay_Overview.ipynb",
   "output_path": "eBay_Overview.ipynb",
   "parameters": {},
   "start_time": "2021-10-01T01:00:04.284593",
   "version": "2.3.3"
  }
 },
 "nbformat": 4,
 "nbformat_minor": 5
}