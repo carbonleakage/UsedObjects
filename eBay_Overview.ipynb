{
 "cells": [
  {
   "cell_type": "code",
   "execution_count": 1,
   "id": "reverse-picking",
   "metadata": {
    "execution": {
     "iopub.execute_input": "2021-10-29T23:30:07.146867Z",
     "iopub.status.busy": "2021-10-29T23:30:07.144909Z",
     "iopub.status.idle": "2021-10-29T23:30:07.950302Z",
     "shell.execute_reply": "2021-10-29T23:30:07.951564Z"
    },
    "papermill": {
     "duration": 0.858624,
     "end_time": "2021-10-29T23:30:07.952188",
     "exception": false,
     "start_time": "2021-10-29T23:30:07.093564",
     "status": "completed"
    },
    "tags": []
   },
   "outputs": [],
   "source": [
    "import pandas as pd\n",
    "import sqlite3"
   ]
  },
  {
   "cell_type": "code",
   "execution_count": 2,
   "id": "innovative-syndrome",
   "metadata": {
    "execution": {
     "iopub.execute_input": "2021-10-29T23:30:08.002520Z",
     "iopub.status.busy": "2021-10-29T23:30:08.000569Z",
     "iopub.status.idle": "2021-10-29T23:30:08.670683Z",
     "shell.execute_reply": "2021-10-29T23:30:08.671889Z"
    },
    "papermill": {
     "duration": 0.699498,
     "end_time": "2021-10-29T23:30:08.672288",
     "exception": false,
     "start_time": "2021-10-29T23:30:07.972790",
     "status": "completed"
    },
    "tags": []
   },
   "outputs": [],
   "source": [
    "timestamps = pd.read_sql(\"select distinct record_time from EBAY_TOP_BERLIN order by record_time desc limit 2\", sqlite3.connect(\"UsedObjects.db\"))"
   ]
  },
  {
   "cell_type": "code",
   "execution_count": 3,
   "id": "periodic-identification",
   "metadata": {
    "execution": {
     "iopub.execute_input": "2021-10-29T23:30:08.851366Z",
     "iopub.status.busy": "2021-10-29T23:30:08.849331Z",
     "iopub.status.idle": "2021-10-29T23:30:08.868938Z",
     "shell.execute_reply": "2021-10-29T23:30:08.870280Z"
    },
    "papermill": {
     "duration": 0.07181,
     "end_time": "2021-10-29T23:30:08.870689",
     "exception": false,
     "start_time": "2021-10-29T23:30:08.798879",
     "status": "completed"
    },
    "tags": []
   },
   "outputs": [
    {
     "data": {
      "text/html": [
       "<div>\n",
       "<style scoped>\n",
       "    .dataframe tbody tr th:only-of-type {\n",
       "        vertical-align: middle;\n",
       "    }\n",
       "\n",
       "    .dataframe tbody tr th {\n",
       "        vertical-align: top;\n",
       "    }\n",
       "\n",
       "    .dataframe thead th {\n",
       "        text-align: right;\n",
       "    }\n",
       "</style>\n",
       "<table border=\"1\" class=\"dataframe\">\n",
       "  <thead>\n",
       "    <tr style=\"text-align: right;\">\n",
       "      <th></th>\n",
       "      <th>RECORD_TIME</th>\n",
       "    </tr>\n",
       "  </thead>\n",
       "  <tbody>\n",
       "    <tr>\n",
       "      <th>0</th>\n",
       "      <td>2021-10-30 01:30</td>\n",
       "    </tr>\n",
       "    <tr>\n",
       "      <th>1</th>\n",
       "      <td>2021-10-30 01:00</td>\n",
       "    </tr>\n",
       "  </tbody>\n",
       "</table>\n",
       "</div>"
      ],
      "text/plain": [
       "        RECORD_TIME\n",
       "0  2021-10-30 01:30\n",
       "1  2021-10-30 01:00"
      ]
     },
     "execution_count": 3,
     "metadata": {},
     "output_type": "execute_result"
    }
   ],
   "source": [
    "timestamps"
   ]
  },
  {
   "cell_type": "code",
   "execution_count": 4,
   "id": "alternate-victory",
   "metadata": {
    "execution": {
     "iopub.execute_input": "2021-10-29T23:30:08.922134Z",
     "iopub.status.busy": "2021-10-29T23:30:08.920181Z",
     "iopub.status.idle": "2021-10-29T23:30:09.890772Z",
     "shell.execute_reply": "2021-10-29T23:30:09.891988Z"
    },
    "papermill": {
     "duration": 1.000196,
     "end_time": "2021-10-29T23:30:09.892388",
     "exception": false,
     "start_time": "2021-10-29T23:30:08.892192",
     "status": "completed"
    },
    "tags": []
   },
   "outputs": [],
   "source": [
    "df = pd.read_sql(\"select * from EBAY_TOP_BERLIN where record_time in (select distinct record_time from EBAY_TOP_BERLIN order by record_time desc limit 2)\", sqlite3.connect(\"UsedObjects.db\"))"
   ]
  },
  {
   "cell_type": "code",
   "execution_count": 5,
   "id": "popular-active",
   "metadata": {
    "execution": {
     "iopub.execute_input": "2021-10-29T23:30:09.965609Z",
     "iopub.status.busy": "2021-10-29T23:30:09.958847Z",
     "iopub.status.idle": "2021-10-29T23:30:09.981482Z",
     "shell.execute_reply": "2021-10-29T23:30:09.982771Z"
    },
    "papermill": {
     "duration": 0.068028,
     "end_time": "2021-10-29T23:30:09.983187",
     "exception": false,
     "start_time": "2021-10-29T23:30:09.915159",
     "status": "completed"
    },
    "tags": []
   },
   "outputs": [],
   "source": [
    "df_pivot = df.pivot_table(index=\"PRODUCT\", columns = \"RECORD_TIME\", values = \"LISTING_COUNT\")"
   ]
  },
  {
   "cell_type": "code",
   "execution_count": 6,
   "id": "union-huntington",
   "metadata": {
    "execution": {
     "iopub.execute_input": "2021-10-29T23:30:10.043248Z",
     "iopub.status.busy": "2021-10-29T23:30:10.040802Z",
     "iopub.status.idle": "2021-10-29T23:30:10.046535Z",
     "shell.execute_reply": "2021-10-29T23:30:10.047816Z"
    },
    "papermill": {
     "duration": 0.041873,
     "end_time": "2021-10-29T23:30:10.048233",
     "exception": false,
     "start_time": "2021-10-29T23:30:10.006360",
     "status": "completed"
    },
    "tags": []
   },
   "outputs": [],
   "source": [
    "df_pivot.columns = [\"stamp_1\", \"stamp_2\"]\n",
    "df_pivot_diff = df_pivot.diff(axis=1)"
   ]
  },
  {
   "cell_type": "code",
   "execution_count": 7,
   "id": "fifth-motion",
   "metadata": {
    "execution": {
     "iopub.execute_input": "2021-10-29T23:30:10.102909Z",
     "iopub.status.busy": "2021-10-29T23:30:10.100495Z",
     "iopub.status.idle": "2021-10-29T23:30:11.562870Z",
     "shell.execute_reply": "2021-10-29T23:30:11.564066Z"
    },
    "papermill": {
     "duration": 1.49584,
     "end_time": "2021-10-29T23:30:11.564498",
     "exception": false,
     "start_time": "2021-10-29T23:30:10.068658",
     "status": "completed"
    },
    "tags": []
   },
   "outputs": [
    {
     "data": {
      "text/plain": [
       "<AxesSubplot:ylabel='PRODUCT'>"
      ]
     },
     "execution_count": 7,
     "metadata": {},
     "output_type": "execute_result"
    },
    {
     "data": {
      "image/png": "[encoded data removed]",
      "text/plain": [
       "<Figure size 432x288 with 1 Axes>"
      ]
     },
     "metadata": {
      "needs_background": "light"
     },
     "output_type": "display_data"
    }
   ],
   "source": [
    "df_pivot_diff.sort_values(\"stamp_2\", ascending = False)[\"stamp_2\"].head(10).plot.barh()"
   ]
  },
  {
   "cell_type": "code",
   "execution_count": null,
   "id": "extra-executive",
   "metadata": {
    "papermill": {
     "duration": 0.022041,
     "end_time": "2021-10-29T23:30:11.612599",
     "exception": false,
     "start_time": "2021-10-29T23:30:11.590558",
     "status": "completed"
    },
    "tags": []
   },
   "outputs": [],
   "source": []
  }
 ],
 "metadata": {
  "kernelspec": {
   "display_name": "Python 3",
   "language": "python",
   "name": "python3"
  },
  "language_info": {
   "codemirror_mode": {
    "name": "ipython",
    "version": 3
   },
   "file_extension": ".py",
   "mimetype": "text/x-python",
   "name": "python",
   "nbconvert_exporter": "python",
   "pygments_lexer": "ipython3",
   "version": "3.9.5"
  },
  "papermill": {
   "default_parameters": {},
   "duration": 7.576318,
   "end_time": "2021-10-29T23:30:12.254792",
   "environment_variables": {},
   "exception": null,
   "input_path": "eBay_Overview.ipynb",
   "output_path": "eBay_Overview.ipynb",
   "parameters": {},
   "start_time": "2021-10-29T23:30:04.678474",
   "version": "2.3.3"
  }
 },
 "nbformat": 4,
 "nbformat_minor": 5
}