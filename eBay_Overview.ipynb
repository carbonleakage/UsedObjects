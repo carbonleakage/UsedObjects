{
 "cells": [
  {
   "cell_type": "code",
   "execution_count": 1,
   "id": "reverse-picking",
   "metadata": {
    "execution": {
     "iopub.execute_input": "2021-10-17T10:00:08.500492Z",
     "iopub.status.busy": "2021-10-17T10:00:08.498490Z",
     "iopub.status.idle": "2021-10-17T10:00:09.304939Z",
     "shell.execute_reply": "2021-10-17T10:00:09.306300Z"
    },
    "papermill": {
     "duration": 0.859272,
     "end_time": "2021-10-17T10:00:09.306934",
     "exception": false,
     "start_time": "2021-10-17T10:00:08.447662",
     "status": "completed"
    },
    "tags": []
   },
   "outputs": [],
   "source": [
    "import pandas as pd\n",
    "import sqlite3"
   ]
  },
  {
   "cell_type": "code",
   "execution_count": 2,
   "id": "innovative-syndrome",
   "metadata": {
    "execution": {
     "iopub.execute_input": "2021-10-17T10:00:09.358171Z",
     "iopub.status.busy": "2021-10-17T10:00:09.356190Z",
     "iopub.status.idle": "2021-10-17T10:00:09.916585Z",
     "shell.execute_reply": "2021-10-17T10:00:09.917863Z"
    },
    "papermill": {
     "duration": 0.589908,
     "end_time": "2021-10-17T10:00:09.918256",
     "exception": false,
     "start_time": "2021-10-17T10:00:09.328348",
     "status": "completed"
    },
    "tags": []
   },
   "outputs": [],
   "source": [
    "timestamps = pd.read_sql(\"select distinct record_time from EBAY_TOP_BERLIN order by record_time desc limit 2\", sqlite3.connect(\"UsedObjects.db\"))"
   ]
  },
  {
   "cell_type": "code",
   "execution_count": 3,
   "id": "periodic-identification",
   "metadata": {
    "execution": {
     "iopub.execute_input": "2021-10-17T10:00:09.992082Z",
     "iopub.status.busy": "2021-10-17T10:00:09.990052Z",
     "iopub.status.idle": "2021-10-17T10:00:10.011177Z",
     "shell.execute_reply": "2021-10-17T10:00:10.009796Z"
    },
    "papermill": {
     "duration": 0.067793,
     "end_time": "2021-10-17T10:00:10.011506",
     "exception": false,
     "start_time": "2021-10-17T10:00:09.943713",
     "status": "completed"
    },
    "tags": []
   },
   "outputs": [
    {
     "data": {
      "text/html": [
       "<div>\n",
       "<style scoped>\n",
       "    .dataframe tbody tr th:only-of-type {\n",
       "        vertical-align: middle;\n",
       "    }\n",
       "\n",
       "    .dataframe tbody tr th {\n",
       "        vertical-align: top;\n",
       "    }\n",
       "\n",
       "    .dataframe thead th {\n",
       "        text-align: right;\n",
       "    }\n",
       "</style>\n",
       "<table border=\"1\" class=\"dataframe\">\n",
       "  <thead>\n",
       "    <tr style=\"text-align: right;\">\n",
       "      <th></th>\n",
       "      <th>RECORD_TIME</th>\n",
       "    </tr>\n",
       "  </thead>\n",
       "  <tbody>\n",
       "    <tr>\n",
       "      <th>0</th>\n",
       "      <td>2021-10-17 12:00</td>\n",
       "    </tr>\n",
       "    <tr>\n",
       "      <th>1</th>\n",
       "      <td>2021-10-17 11:30</td>\n",
       "    </tr>\n",
       "  </tbody>\n",
       "</table>\n",
       "</div>"
      ],
      "text/plain": [
       "        RECORD_TIME\n",
       "0  2021-10-17 12:00\n",
       "1  2021-10-17 11:30"
      ]
     },
     "execution_count": 3,
     "metadata": {},
     "output_type": "execute_result"
    }
   ],
   "source": [
    "timestamps"
   ]
  },
  {
   "cell_type": "code",
   "execution_count": 4,
   "id": "alternate-victory",
   "metadata": {
    "execution": {
     "iopub.execute_input": "2021-10-17T10:00:10.077266Z",
     "iopub.status.busy": "2021-10-17T10:00:10.075317Z",
     "iopub.status.idle": "2021-10-17T10:00:10.896253Z",
     "shell.execute_reply": "2021-10-17T10:00:10.897610Z"
    },
    "papermill": {
     "duration": 0.856041,
     "end_time": "2021-10-17T10:00:10.898032",
     "exception": false,
     "start_time": "2021-10-17T10:00:10.041991",
     "status": "completed"
    },
    "tags": []
   },
   "outputs": [],
   "source": [
    "df = pd.read_sql(\"select * from EBAY_TOP_BERLIN where record_time in (select distinct record_time from EBAY_TOP_BERLIN order by record_time desc limit 2)\", sqlite3.connect(\"UsedObjects.db\"))"
   ]
  },
  {
   "cell_type": "code",
   "execution_count": 5,
   "id": "popular-active",
   "metadata": {
    "execution": {
     "iopub.execute_input": "2021-10-17T10:00:10.962955Z",
     "iopub.status.busy": "2021-10-17T10:00:10.955648Z",
     "iopub.status.idle": "2021-10-17T10:00:10.982860Z",
     "shell.execute_reply": "2021-10-17T10:00:10.984070Z"
    },
    "papermill": {
     "duration": 0.065465,
     "end_time": "2021-10-17T10:00:10.984457",
     "exception": false,
     "start_time": "2021-10-17T10:00:10.918992",
     "status": "completed"
    },
    "tags": []
   },
   "outputs": [],
   "source": [
    "df_pivot = df.pivot_table(index=\"PRODUCT\", columns = \"RECORD_TIME\", values = \"LISTING_COUNT\")"
   ]
  },
  {
   "cell_type": "code",
   "execution_count": 6,
   "id": "union-huntington",
   "metadata": {
    "execution": {
     "iopub.execute_input": "2021-10-17T10:00:11.044258Z",
     "iopub.status.busy": "2021-10-17T10:00:11.041816Z",
     "iopub.status.idle": "2021-10-17T10:00:11.049014Z",
     "shell.execute_reply": "2021-10-17T10:00:11.047566Z"
    },
    "papermill": {
     "duration": 0.042407,
     "end_time": "2021-10-17T10:00:11.049373",
     "exception": false,
     "start_time": "2021-10-17T10:00:11.006966",
     "status": "completed"
    },
    "tags": []
   },
   "outputs": [],
   "source": [
    "df_pivot.columns = [\"stamp_1\", \"stamp_2\"]\n",
    "df_pivot_diff = df_pivot.diff(axis=1)"
   ]
  },
  {
   "cell_type": "code",
   "execution_count": 7,
   "id": "fifth-motion",
   "metadata": {
    "execution": {
     "iopub.execute_input": "2021-10-17T10:00:11.103940Z",
     "iopub.status.busy": "2021-10-17T10:00:11.101665Z",
     "iopub.status.idle": "2021-10-17T10:00:12.586008Z",
     "shell.execute_reply": "2021-10-17T10:00:12.587273Z"
    },
    "papermill": {
     "duration": 1.51766,
     "end_time": "2021-10-17T10:00:12.587723",
     "exception": false,
     "start_time": "2021-10-17T10:00:11.070063",
     "status": "completed"
    },
    "tags": []
   },
   "outputs": [
    {
     "data": {
      "text/plain": [
       "<AxesSubplot:ylabel='PRODUCT'>"
      ]
     },
     "execution_count": 7,
     "metadata": {},
     "output_type": "execute_result"
    },
    {
     "data": {
      "image/png": "[encoded data removed]",
      "text/plain": [
       "<Figure size 432x288 with 1 Axes>"
      ]
     },
     "metadata": {
      "needs_background": "light"
     },
     "output_type": "display_data"
    }
   ],
   "source": [
    "df_pivot_diff.sort_values(\"stamp_2\", ascending = False)[\"stamp_2\"].head(10).plot.barh()"
   ]
  },
  {
   "cell_type": "code",
   "execution_count": null,
   "id": "extra-executive",
   "metadata": {
    "papermill": {
     "duration": 0.022261,
     "end_time": "2021-10-17T10:00:12.634636",
     "exception": false,
     "start_time": "2021-10-17T10:00:12.612375",
     "status": "completed"
    },
    "tags": []
   },
   "outputs": [],
   "source": []
  }
 ],
 "metadata": {
  "kernelspec": {
   "display_name": "Python 3",
   "language": "python",
   "name": "python3"
  },
  "language_info": {
   "codemirror_mode": {
    "name": "ipython",
    "version": 3
   },
   "file_extension": ".py",
   "mimetype": "text/x-python",
   "name": "python",
   "nbconvert_exporter": "python",
   "pygments_lexer": "ipython3",
   "version": "3.9.5"
  },
  "papermill": {
   "default_parameters": {},
   "duration": 7.821581,
   "end_time": "2021-10-17T10:00:13.860406",
   "environment_variables": {},
   "exception": null,
   "input_path": "eBay_Overview.ipynb",
   "output_path": "eBay_Overview.ipynb",
   "parameters": {},
   "start_time": "2021-10-17T10:00:06.038825",
   "version": "2.3.3"
  }
 },
 "nbformat": 4,
 "nbformat_minor": 5
}