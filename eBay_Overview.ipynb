{
 "cells": [
  {
   "cell_type": "code",
   "execution_count": 1,
   "id": "reverse-picking",
   "metadata": {
    "execution": {
     "iopub.execute_input": "2021-10-10T15:30:07.024065Z",
     "iopub.status.busy": "2021-10-10T15:30:07.022075Z",
     "iopub.status.idle": "2021-10-10T15:30:07.837425Z",
     "shell.execute_reply": "2021-10-10T15:30:07.835842Z"
    },
    "papermill": {
     "duration": 0.863576,
     "end_time": "2021-10-10T15:30:07.837814",
     "exception": false,
     "start_time": "2021-10-10T15:30:06.974238",
     "status": "completed"
    },
    "tags": []
   },
   "outputs": [],
   "source": [
    "import pandas as pd\n",
    "import sqlite3"
   ]
  },
  {
   "cell_type": "code",
   "execution_count": 2,
   "id": "innovative-syndrome",
   "metadata": {
    "execution": {
     "iopub.execute_input": "2021-10-10T15:30:07.888186Z",
     "iopub.status.busy": "2021-10-10T15:30:07.886228Z",
     "iopub.status.idle": "2021-10-10T15:30:08.397723Z",
     "shell.execute_reply": "2021-10-10T15:30:08.399157Z"
    },
    "papermill": {
     "duration": 0.541193,
     "end_time": "2021-10-10T15:30:08.399605",
     "exception": false,
     "start_time": "2021-10-10T15:30:07.858412",
     "status": "completed"
    },
    "tags": []
   },
   "outputs": [],
   "source": [
    "timestamps = pd.read_sql(\"select distinct record_time from EBAY_TOP_BERLIN order by record_time desc limit 2\", sqlite3.connect(\"UsedObjects.db\"))"
   ]
  },
  {
   "cell_type": "code",
   "execution_count": 3,
   "id": "periodic-identification",
   "metadata": {
    "execution": {
     "iopub.execute_input": "2021-10-10T15:30:08.472954Z",
     "iopub.status.busy": "2021-10-10T15:30:08.470924Z",
     "iopub.status.idle": "2021-10-10T15:30:08.490878Z",
     "shell.execute_reply": "2021-10-10T15:30:08.492311Z"
    },
    "papermill": {
     "duration": 0.068351,
     "end_time": "2021-10-10T15:30:08.492824",
     "exception": false,
     "start_time": "2021-10-10T15:30:08.424473",
     "status": "completed"
    },
    "tags": []
   },
   "outputs": [
    {
     "data": {
      "text/html": [
       "<div>\n",
       "<style scoped>\n",
       "    .dataframe tbody tr th:only-of-type {\n",
       "        vertical-align: middle;\n",
       "    }\n",
       "\n",
       "    .dataframe tbody tr th {\n",
       "        vertical-align: top;\n",
       "    }\n",
       "\n",
       "    .dataframe thead th {\n",
       "        text-align: right;\n",
       "    }\n",
       "</style>\n",
       "<table border=\"1\" class=\"dataframe\">\n",
       "  <thead>\n",
       "    <tr style=\"text-align: right;\">\n",
       "      <th></th>\n",
       "      <th>RECORD_TIME</th>\n",
       "    </tr>\n",
       "  </thead>\n",
       "  <tbody>\n",
       "    <tr>\n",
       "      <th>0</th>\n",
       "      <td>2021-10-10 17:30</td>\n",
       "    </tr>\n",
       "    <tr>\n",
       "      <th>1</th>\n",
       "      <td>2021-10-10 17:00</td>\n",
       "    </tr>\n",
       "  </tbody>\n",
       "</table>\n",
       "</div>"
      ],
      "text/plain": [
       "        RECORD_TIME\n",
       "0  2021-10-10 17:30\n",
       "1  2021-10-10 17:00"
      ]
     },
     "execution_count": 3,
     "metadata": {},
     "output_type": "execute_result"
    }
   ],
   "source": [
    "timestamps"
   ]
  },
  {
   "cell_type": "code",
   "execution_count": 4,
   "id": "alternate-victory",
   "metadata": {
    "execution": {
     "iopub.execute_input": "2021-10-10T15:30:08.544817Z",
     "iopub.status.busy": "2021-10-10T15:30:08.542918Z",
     "iopub.status.idle": "2021-10-10T15:30:09.276323Z",
     "shell.execute_reply": "2021-10-10T15:30:09.277529Z"
    },
    "papermill": {
     "duration": 0.7647,
     "end_time": "2021-10-10T15:30:09.277921",
     "exception": false,
     "start_time": "2021-10-10T15:30:08.513221",
     "status": "completed"
    },
    "tags": []
   },
   "outputs": [],
   "source": [
    "df = pd.read_sql(\"select * from EBAY_TOP_BERLIN where record_time in (select distinct record_time from EBAY_TOP_BERLIN order by record_time desc limit 2)\", sqlite3.connect(\"UsedObjects.db\"))"
   ]
  },
  {
   "cell_type": "code",
   "execution_count": 5,
   "id": "popular-active",
   "metadata": {
    "execution": {
     "iopub.execute_input": "2021-10-10T15:30:09.338979Z",
     "iopub.status.busy": "2021-10-10T15:30:09.336715Z",
     "iopub.status.idle": "2021-10-10T15:30:09.364395Z",
     "shell.execute_reply": "2021-10-10T15:30:09.365588Z"
    },
    "papermill": {
     "duration": 0.067658,
     "end_time": "2021-10-10T15:30:09.365979",
     "exception": false,
     "start_time": "2021-10-10T15:30:09.298321",
     "status": "completed"
    },
    "tags": []
   },
   "outputs": [],
   "source": [
    "df_pivot = df.pivot_table(index=\"PRODUCT\", columns = \"RECORD_TIME\", values = \"LISTING_COUNT\")"
   ]
  },
  {
   "cell_type": "code",
   "execution_count": 6,
   "id": "union-huntington",
   "metadata": {
    "execution": {
     "iopub.execute_input": "2021-10-10T15:30:09.424700Z",
     "iopub.status.busy": "2021-10-10T15:30:09.422178Z",
     "iopub.status.idle": "2021-10-10T15:30:09.428014Z",
     "shell.execute_reply": "2021-10-10T15:30:09.429282Z"
    },
    "papermill": {
     "duration": 0.042171,
     "end_time": "2021-10-10T15:30:09.429694",
     "exception": false,
     "start_time": "2021-10-10T15:30:09.387523",
     "status": "completed"
    },
    "tags": []
   },
   "outputs": [],
   "source": [
    "df_pivot.columns = [\"stamp_1\", \"stamp_2\"]\n",
    "df_pivot_diff = df_pivot.diff(axis=1)"
   ]
  },
  {
   "cell_type": "code",
   "execution_count": 7,
   "id": "fifth-motion",
   "metadata": {
    "execution": {
     "iopub.execute_input": "2021-10-10T15:30:09.484350Z",
     "iopub.status.busy": "2021-10-10T15:30:09.481912Z",
     "iopub.status.idle": "2021-10-10T15:30:11.005434Z",
     "shell.execute_reply": "2021-10-10T15:30:11.006706Z"
    },
    "papermill": {
     "duration": 1.556053,
     "end_time": "2021-10-10T15:30:11.007208",
     "exception": false,
     "start_time": "2021-10-10T15:30:09.451155",
     "status": "completed"
    },
    "tags": []
   },
   "outputs": [
    {
     "data": {
      "text/plain": [
       "<AxesSubplot:ylabel='PRODUCT'>"
      ]
     },
     "execution_count": 7,
     "metadata": {},
     "output_type": "execute_result"
    },
    {
     "data": {
      "image/png": "[encoded data removed]",
      "text/plain": [
       "<Figure size 432x288 with 1 Axes>"
      ]
     },
     "metadata": {
      "needs_background": "light"
     },
     "output_type": "display_data"
    }
   ],
   "source": [
    "df_pivot_diff.sort_values(\"stamp_2\", ascending = False)[\"stamp_2\"].head(10).plot.barh()"
   ]
  },
  {
   "cell_type": "code",
   "execution_count": null,
   "id": "extra-executive",
   "metadata": {
    "papermill": {
     "duration": 0.022346,
     "end_time": "2021-10-10T15:30:11.054362",
     "exception": false,
     "start_time": "2021-10-10T15:30:11.032016",
     "status": "completed"
    },
    "tags": []
   },
   "outputs": [],
   "source": []
  }
 ],
 "metadata": {
  "kernelspec": {
   "display_name": "Python 3",
   "language": "python",
   "name": "python3"
  },
  "language_info": {
   "codemirror_mode": {
    "name": "ipython",
    "version": 3
   },
   "file_extension": ".py",
   "mimetype": "text/x-python",
   "name": "python",
   "nbconvert_exporter": "python",
   "pygments_lexer": "ipython3",
   "version": "3.9.5"
  },
  "papermill": {
   "default_parameters": {},
   "duration": 7.83412,
   "end_time": "2021-10-10T15:30:12.385101",
   "environment_variables": {},
   "exception": null,
   "input_path": "eBay_Overview.ipynb",
   "output_path": "eBay_Overview.ipynb",
   "parameters": {},
   "start_time": "2021-10-10T15:30:04.550981",
   "version": "2.3.3"
  }
 },
 "nbformat": 4,
 "nbformat_minor": 5
}