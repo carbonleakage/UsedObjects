{
 "cells": [
  {
   "cell_type": "code",
   "execution_count": 1,
   "id": "reverse-picking",
   "metadata": {
    "execution": {
     "iopub.execute_input": "2021-10-25T21:00:07.742436Z",
     "iopub.status.busy": "2021-10-25T21:00:07.740413Z",
     "iopub.status.idle": "2021-10-25T21:00:08.553947Z",
     "shell.execute_reply": "2021-10-25T21:00:08.552211Z"
    },
    "papermill": {
     "duration": 0.862484,
     "end_time": "2021-10-25T21:00:08.554365",
     "exception": false,
     "start_time": "2021-10-25T21:00:07.691881",
     "status": "completed"
    },
    "tags": []
   },
   "outputs": [],
   "source": [
    "import pandas as pd\n",
    "import sqlite3"
   ]
  },
  {
   "cell_type": "code",
   "execution_count": 2,
   "id": "innovative-syndrome",
   "metadata": {
    "execution": {
     "iopub.execute_input": "2021-10-25T21:00:08.604977Z",
     "iopub.status.busy": "2021-10-25T21:00:08.602871Z",
     "iopub.status.idle": "2021-10-25T21:00:09.227314Z",
     "shell.execute_reply": "2021-10-25T21:00:09.228524Z"
    },
    "papermill": {
     "duration": 0.654797,
     "end_time": "2021-10-25T21:00:09.229112",
     "exception": false,
     "start_time": "2021-10-25T21:00:08.574315",
     "status": "completed"
    },
    "tags": []
   },
   "outputs": [],
   "source": [
    "timestamps = pd.read_sql(\"select distinct record_time from EBAY_TOP_BERLIN order by record_time desc limit 2\", sqlite3.connect(\"UsedObjects.db\"))"
   ]
  },
  {
   "cell_type": "code",
   "execution_count": 3,
   "id": "periodic-identification",
   "metadata": {
    "execution": {
     "iopub.execute_input": "2021-10-25T21:00:09.305442Z",
     "iopub.status.busy": "2021-10-25T21:00:09.303309Z",
     "iopub.status.idle": "2021-10-25T21:00:09.323652Z",
     "shell.execute_reply": "2021-10-25T21:00:09.325146Z"
    },
    "papermill": {
     "duration": 0.068607,
     "end_time": "2021-10-25T21:00:09.325612",
     "exception": false,
     "start_time": "2021-10-25T21:00:09.257005",
     "status": "completed"
    },
    "tags": []
   },
   "outputs": [
    {
     "data": {
      "text/html": [
       "<div>\n",
       "<style scoped>\n",
       "    .dataframe tbody tr th:only-of-type {\n",
       "        vertical-align: middle;\n",
       "    }\n",
       "\n",
       "    .dataframe tbody tr th {\n",
       "        vertical-align: top;\n",
       "    }\n",
       "\n",
       "    .dataframe thead th {\n",
       "        text-align: right;\n",
       "    }\n",
       "</style>\n",
       "<table border=\"1\" class=\"dataframe\">\n",
       "  <thead>\n",
       "    <tr style=\"text-align: right;\">\n",
       "      <th></th>\n",
       "      <th>RECORD_TIME</th>\n",
       "    </tr>\n",
       "  </thead>\n",
       "  <tbody>\n",
       "    <tr>\n",
       "      <th>0</th>\n",
       "      <td>2021-10-25 23:00</td>\n",
       "    </tr>\n",
       "    <tr>\n",
       "      <th>1</th>\n",
       "      <td>2021-10-25 22:30</td>\n",
       "    </tr>\n",
       "  </tbody>\n",
       "</table>\n",
       "</div>"
      ],
      "text/plain": [
       "        RECORD_TIME\n",
       "0  2021-10-25 23:00\n",
       "1  2021-10-25 22:30"
      ]
     },
     "execution_count": 3,
     "metadata": {},
     "output_type": "execute_result"
    }
   ],
   "source": [
    "timestamps"
   ]
  },
  {
   "cell_type": "code",
   "execution_count": 4,
   "id": "alternate-victory",
   "metadata": {
    "execution": {
     "iopub.execute_input": "2021-10-25T21:00:09.377006Z",
     "iopub.status.busy": "2021-10-25T21:00:09.374994Z",
     "iopub.status.idle": "2021-10-25T21:00:10.291203Z",
     "shell.execute_reply": "2021-10-25T21:00:10.292418Z"
    },
    "papermill": {
     "duration": 0.946506,
     "end_time": "2021-10-25T21:00:10.292989",
     "exception": false,
     "start_time": "2021-10-25T21:00:09.346483",
     "status": "completed"
    },
    "tags": []
   },
   "outputs": [],
   "source": [
    "df = pd.read_sql(\"select * from EBAY_TOP_BERLIN where record_time in (select distinct record_time from EBAY_TOP_BERLIN order by record_time desc limit 2)\", sqlite3.connect(\"UsedObjects.db\"))"
   ]
  },
  {
   "cell_type": "code",
   "execution_count": 5,
   "id": "popular-active",
   "metadata": {
    "execution": {
     "iopub.execute_input": "2021-10-25T21:00:10.362611Z",
     "iopub.status.busy": "2021-10-25T21:00:10.351041Z",
     "iopub.status.idle": "2021-10-25T21:00:10.379124Z",
     "shell.execute_reply": "2021-10-25T21:00:10.380342Z"
    },
    "papermill": {
     "duration": 0.067537,
     "end_time": "2021-10-25T21:00:10.380799",
     "exception": false,
     "start_time": "2021-10-25T21:00:10.313262",
     "status": "completed"
    },
    "tags": []
   },
   "outputs": [],
   "source": [
    "df_pivot = df.pivot_table(index=\"PRODUCT\", columns = \"RECORD_TIME\", values = \"LISTING_COUNT\")"
   ]
  },
  {
   "cell_type": "code",
   "execution_count": 6,
   "id": "union-huntington",
   "metadata": {
    "execution": {
     "iopub.execute_input": "2021-10-25T21:00:10.435704Z",
     "iopub.status.busy": "2021-10-25T21:00:10.433652Z",
     "iopub.status.idle": "2021-10-25T21:00:10.438792Z",
     "shell.execute_reply": "2021-10-25T21:00:10.439974Z"
    },
    "papermill": {
     "duration": 0.039771,
     "end_time": "2021-10-25T21:00:10.440402",
     "exception": false,
     "start_time": "2021-10-25T21:00:10.400631",
     "status": "completed"
    },
    "tags": []
   },
   "outputs": [],
   "source": [
    "df_pivot.columns = [\"stamp_1\", \"stamp_2\"]\n",
    "df_pivot_diff = df_pivot.diff(axis=1)"
   ]
  },
  {
   "cell_type": "code",
   "execution_count": 7,
   "id": "fifth-motion",
   "metadata": {
    "execution": {
     "iopub.execute_input": "2021-10-25T21:00:10.497925Z",
     "iopub.status.busy": "2021-10-25T21:00:10.493812Z",
     "iopub.status.idle": "2021-10-25T21:00:12.004059Z",
     "shell.execute_reply": "2021-10-25T21:00:12.005565Z"
    },
    "papermill": {
     "duration": 1.543263,
     "end_time": "2021-10-25T21:00:12.006016",
     "exception": false,
     "start_time": "2021-10-25T21:00:10.462753",
     "status": "completed"
    },
    "tags": []
   },
   "outputs": [
    {
     "data": {
      "text/plain": [
       "<AxesSubplot:ylabel='PRODUCT'>"
      ]
     },
     "execution_count": 7,
     "metadata": {},
     "output_type": "execute_result"
    },
    {
     "data": {
      "image/png": "[encoded data removed]",
      "text/plain": [
       "<Figure size 432x288 with 1 Axes>"
      ]
     },
     "metadata": {
      "needs_background": "light"
     },
     "output_type": "display_data"
    }
   ],
   "source": [
    "df_pivot_diff.sort_values(\"stamp_2\", ascending = False)[\"stamp_2\"].head(10).plot.barh()"
   ]
  },
  {
   "cell_type": "code",
   "execution_count": null,
   "id": "extra-executive",
   "metadata": {
    "papermill": {
     "duration": 0.021931,
     "end_time": "2021-10-25T21:00:12.052535",
     "exception": false,
     "start_time": "2021-10-25T21:00:12.030604",
     "status": "completed"
    },
    "tags": []
   },
   "outputs": [],
   "source": []
  }
 ],
 "metadata": {
  "kernelspec": {
   "display_name": "Python 3",
   "language": "python",
   "name": "python3"
  },
  "language_info": {
   "codemirror_mode": {
    "name": "ipython",
    "version": 3
   },
   "file_extension": ".py",
   "mimetype": "text/x-python",
   "name": "python",
   "nbconvert_exporter": "python",
   "pygments_lexer": "ipython3",
   "version": "3.9.5"
  },
  "papermill": {
   "default_parameters": {},
   "duration": 7.425183,
   "end_time": "2021-10-25T21:00:12.692906",
   "environment_variables": {},
   "exception": null,
   "input_path": "eBay_Overview.ipynb",
   "output_path": "eBay_Overview.ipynb",
   "parameters": {},
   "start_time": "2021-10-25T21:00:05.267723",
   "version": "2.3.3"
  }
 },
 "nbformat": 4,
 "nbformat_minor": 5
}