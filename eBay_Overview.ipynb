{
 "cells": [
  {
   "cell_type": "code",
   "execution_count": 1,
   "id": "reverse-picking",
   "metadata": {
    "execution": {
     "iopub.execute_input": "2021-11-26T15:00:08.029020Z",
     "iopub.status.busy": "2021-11-26T15:00:08.026634Z",
     "iopub.status.idle": "2021-11-26T15:00:08.979166Z",
     "shell.execute_reply": "2021-11-26T15:00:08.981860Z"
    },
    "papermill": {
     "duration": 1.004531,
     "end_time": "2021-11-26T15:00:08.982767",
     "exception": false,
     "start_time": "2021-11-26T15:00:07.978236",
     "status": "completed"
    },
    "tags": []
   },
   "outputs": [],
   "source": [
    "import pandas as pd\n",
    "import sqlite3"
   ]
  },
  {
   "cell_type": "code",
   "execution_count": 2,
   "id": "innovative-syndrome",
   "metadata": {
    "execution": {
     "iopub.execute_input": "2021-11-26T15:00:09.056968Z",
     "iopub.status.busy": "2021-11-26T15:00:09.054572Z",
     "iopub.status.idle": "2021-11-26T15:00:09.979079Z",
     "shell.execute_reply": "2021-11-26T15:00:09.980307Z"
    },
    "papermill": {
     "duration": 0.96737,
     "end_time": "2021-11-26T15:00:09.980757",
     "exception": false,
     "start_time": "2021-11-26T15:00:09.013387",
     "status": "completed"
    },
    "tags": []
   },
   "outputs": [],
   "source": [
    "timestamps = pd.read_sql(\"select distinct record_time from EBAY_TOP_BERLIN order by record_time desc limit 2\", sqlite3.connect(\"UsedObjects.db\"))"
   ]
  },
  {
   "cell_type": "code",
   "execution_count": 3,
   "id": "periodic-identification",
   "metadata": {
    "execution": {
     "iopub.execute_input": "2021-11-26T15:00:10.046759Z",
     "iopub.status.busy": "2021-11-26T15:00:10.044654Z",
     "iopub.status.idle": "2021-11-26T15:00:10.065479Z",
     "shell.execute_reply": "2021-11-26T15:00:10.066876Z"
    },
    "papermill": {
     "duration": 0.066276,
     "end_time": "2021-11-26T15:00:10.067364",
     "exception": false,
     "start_time": "2021-11-26T15:00:10.001088",
     "status": "completed"
    },
    "tags": []
   },
   "outputs": [
    {
     "data": {
      "text/html": [
       "<div>\n",
       "<style scoped>\n",
       "    .dataframe tbody tr th:only-of-type {\n",
       "        vertical-align: middle;\n",
       "    }\n",
       "\n",
       "    .dataframe tbody tr th {\n",
       "        vertical-align: top;\n",
       "    }\n",
       "\n",
       "    .dataframe thead th {\n",
       "        text-align: right;\n",
       "    }\n",
       "</style>\n",
       "<table border=\"1\" class=\"dataframe\">\n",
       "  <thead>\n",
       "    <tr style=\"text-align: right;\">\n",
       "      <th></th>\n",
       "      <th>RECORD_TIME</th>\n",
       "    </tr>\n",
       "  </thead>\n",
       "  <tbody>\n",
       "    <tr>\n",
       "      <th>0</th>\n",
       "      <td>2021-11-26 16:00</td>\n",
       "    </tr>\n",
       "    <tr>\n",
       "      <th>1</th>\n",
       "      <td>2021-11-26 15:30</td>\n",
       "    </tr>\n",
       "  </tbody>\n",
       "</table>\n",
       "</div>"
      ],
      "text/plain": [
       "        RECORD_TIME\n",
       "0  2021-11-26 16:00\n",
       "1  2021-11-26 15:30"
      ]
     },
     "execution_count": 3,
     "metadata": {},
     "output_type": "execute_result"
    }
   ],
   "source": [
    "timestamps"
   ]
  },
  {
   "cell_type": "code",
   "execution_count": 4,
   "id": "alternate-victory",
   "metadata": {
    "execution": {
     "iopub.execute_input": "2021-11-26T15:00:10.120116Z",
     "iopub.status.busy": "2021-11-26T15:00:10.118090Z",
     "iopub.status.idle": "2021-11-26T15:00:11.447357Z",
     "shell.execute_reply": "2021-11-26T15:00:11.448984Z"
    },
    "papermill": {
     "duration": 1.359738,
     "end_time": "2021-11-26T15:00:11.449506",
     "exception": false,
     "start_time": "2021-11-26T15:00:10.089768",
     "status": "completed"
    },
    "tags": []
   },
   "outputs": [],
   "source": [
    "df = pd.read_sql(\"select * from EBAY_TOP_BERLIN where record_time in (select distinct record_time from EBAY_TOP_BERLIN order by record_time desc limit 2)\", sqlite3.connect(\"UsedObjects.db\"))"
   ]
  },
  {
   "cell_type": "code",
   "execution_count": 5,
   "id": "popular-active",
   "metadata": {
    "execution": {
     "iopub.execute_input": "2021-11-26T15:00:11.524752Z",
     "iopub.status.busy": "2021-11-26T15:00:11.522119Z",
     "iopub.status.idle": "2021-11-26T15:00:11.556302Z",
     "shell.execute_reply": "2021-11-26T15:00:11.557800Z"
    },
    "papermill": {
     "duration": 0.084875,
     "end_time": "2021-11-26T15:00:11.558332",
     "exception": false,
     "start_time": "2021-11-26T15:00:11.473457",
     "status": "completed"
    },
    "tags": []
   },
   "outputs": [],
   "source": [
    "df_pivot = df.pivot_table(index=\"PRODUCT\", columns = \"RECORD_TIME\", values = \"LISTING_COUNT\")"
   ]
  },
  {
   "cell_type": "code",
   "execution_count": 6,
   "id": "union-huntington",
   "metadata": {
    "execution": {
     "iopub.execute_input": "2021-11-26T15:00:11.619356Z",
     "iopub.status.busy": "2021-11-26T15:00:11.617139Z",
     "iopub.status.idle": "2021-11-26T15:00:11.622829Z",
     "shell.execute_reply": "2021-11-26T15:00:11.624229Z"
    },
    "papermill": {
     "duration": 0.043924,
     "end_time": "2021-11-26T15:00:11.624754",
     "exception": false,
     "start_time": "2021-11-26T15:00:11.580830",
     "status": "completed"
    },
    "tags": []
   },
   "outputs": [],
   "source": [
    "df_pivot.columns = [\"stamp_1\", \"stamp_2\"]\n",
    "df_pivot_diff = df_pivot.diff(axis=1)"
   ]
  },
  {
   "cell_type": "code",
   "execution_count": 7,
   "id": "fifth-motion",
   "metadata": {
    "execution": {
     "iopub.execute_input": "2021-11-26T15:00:11.680179Z",
     "iopub.status.busy": "2021-11-26T15:00:11.677674Z",
     "iopub.status.idle": "2021-11-26T15:00:13.642524Z",
     "shell.execute_reply": "2021-11-26T15:00:13.645210Z"
    },
    "papermill": {
     "duration": 2.001624,
     "end_time": "2021-11-26T15:00:13.646045",
     "exception": false,
     "start_time": "2021-11-26T15:00:11.644421",
     "status": "completed"
    },
    "tags": []
   },
   "outputs": [
    {
     "data": {
      "text/plain": [
       "<AxesSubplot:ylabel='PRODUCT'>"
      ]
     },
     "execution_count": 7,
     "metadata": {},
     "output_type": "execute_result"
    },
    {
     "data": {
      "image/png": "[encoded data removed]",
      "text/plain": [
       "<Figure size 432x288 with 1 Axes>"
      ]
     },
     "metadata": {
      "needs_background": "light"
     },
     "output_type": "display_data"
    }
   ],
   "source": [
    "df_pivot_diff.sort_values(\"stamp_2\", ascending = False)[\"stamp_2\"].head(10).plot.barh()"
   ]
  },
  {
   "cell_type": "code",
   "execution_count": null,
   "id": "extra-executive",
   "metadata": {
    "papermill": {
     "duration": 0.027596,
     "end_time": "2021-11-26T15:00:13.709942",
     "exception": false,
     "start_time": "2021-11-26T15:00:13.682346",
     "status": "completed"
    },
    "tags": []
   },
   "outputs": [],
   "source": []
  }
 ],
 "metadata": {
  "kernelspec": {
   "display_name": "Python 3",
   "language": "python",
   "name": "python3"
  },
  "language_info": {
   "codemirror_mode": {
    "name": "ipython",
    "version": 3
   },
   "file_extension": ".py",
   "mimetype": "text/x-python",
   "name": "python",
   "nbconvert_exporter": "python",
   "pygments_lexer": "ipython3",
   "version": "3.9.5"
  },
  "papermill": {
   "default_parameters": {},
   "duration": 9.931996,
   "end_time": "2021-11-26T15:00:15.162331",
   "environment_variables": {},
   "exception": null,
   "input_path": "eBay_Overview.ipynb",
   "output_path": "eBay_Overview.ipynb",
   "parameters": {},
   "start_time": "2021-11-26T15:00:05.230335",
   "version": "2.3.3"
  }
 },
 "nbformat": 4,
 "nbformat_minor": 5
}