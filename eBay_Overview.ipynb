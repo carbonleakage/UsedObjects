{
 "cells": [
  {
   "cell_type": "code",
   "execution_count": 1,
   "id": "reverse-picking",
   "metadata": {
    "execution": {
     "iopub.execute_input": "2021-11-03T07:00:07.855428Z",
     "iopub.status.busy": "2021-11-03T07:00:07.853274Z",
     "iopub.status.idle": "2021-11-03T07:00:08.797029Z",
     "shell.execute_reply": "2021-11-03T07:00:08.798538Z"
    },
    "papermill": {
     "duration": 0.990933,
     "end_time": "2021-11-03T07:00:08.799338",
     "exception": false,
     "start_time": "2021-11-03T07:00:07.808405",
     "status": "completed"
    },
    "tags": []
   },
   "outputs": [],
   "source": [
    "import pandas as pd\n",
    "import sqlite3"
   ]
  },
  {
   "cell_type": "code",
   "execution_count": 2,
   "id": "innovative-syndrome",
   "metadata": {
    "execution": {
     "iopub.execute_input": "2021-11-03T07:00:08.862203Z",
     "iopub.status.busy": "2021-11-03T07:00:08.859833Z",
     "iopub.status.idle": "2021-11-03T07:00:09.573596Z",
     "shell.execute_reply": "2021-11-03T07:00:09.575143Z"
    },
    "papermill": {
     "duration": 0.754489,
     "end_time": "2021-11-03T07:00:09.575647",
     "exception": false,
     "start_time": "2021-11-03T07:00:08.821158",
     "status": "completed"
    },
    "tags": []
   },
   "outputs": [],
   "source": [
    "timestamps = pd.read_sql(\"select distinct record_time from EBAY_TOP_BERLIN order by record_time desc limit 2\", sqlite3.connect(\"UsedObjects.db\"))"
   ]
  },
  {
   "cell_type": "code",
   "execution_count": 3,
   "id": "periodic-identification",
   "metadata": {
    "execution": {
     "iopub.execute_input": "2021-11-03T07:00:09.647533Z",
     "iopub.status.busy": "2021-11-03T07:00:09.645306Z",
     "iopub.status.idle": "2021-11-03T07:00:09.667173Z",
     "shell.execute_reply": "2021-11-03T07:00:09.668874Z"
    },
    "papermill": {
     "duration": 0.071699,
     "end_time": "2021-11-03T07:00:09.669364",
     "exception": false,
     "start_time": "2021-11-03T07:00:09.597665",
     "status": "completed"
    },
    "tags": []
   },
   "outputs": [
    {
     "data": {
      "text/html": [
       "<div>\n",
       "<style scoped>\n",
       "    .dataframe tbody tr th:only-of-type {\n",
       "        vertical-align: middle;\n",
       "    }\n",
       "\n",
       "    .dataframe tbody tr th {\n",
       "        vertical-align: top;\n",
       "    }\n",
       "\n",
       "    .dataframe thead th {\n",
       "        text-align: right;\n",
       "    }\n",
       "</style>\n",
       "<table border=\"1\" class=\"dataframe\">\n",
       "  <thead>\n",
       "    <tr style=\"text-align: right;\">\n",
       "      <th></th>\n",
       "      <th>RECORD_TIME</th>\n",
       "    </tr>\n",
       "  </thead>\n",
       "  <tbody>\n",
       "    <tr>\n",
       "      <th>0</th>\n",
       "      <td>2021-11-03 08:00</td>\n",
       "    </tr>\n",
       "    <tr>\n",
       "      <th>1</th>\n",
       "      <td>2021-11-03 07:30</td>\n",
       "    </tr>\n",
       "  </tbody>\n",
       "</table>\n",
       "</div>"
      ],
      "text/plain": [
       "        RECORD_TIME\n",
       "0  2021-11-03 08:00\n",
       "1  2021-11-03 07:30"
      ]
     },
     "execution_count": 3,
     "metadata": {},
     "output_type": "execute_result"
    }
   ],
   "source": [
    "timestamps"
   ]
  },
  {
   "cell_type": "code",
   "execution_count": 4,
   "id": "alternate-victory",
   "metadata": {
    "execution": {
     "iopub.execute_input": "2021-11-03T07:00:09.722767Z",
     "iopub.status.busy": "2021-11-03T07:00:09.720519Z",
     "iopub.status.idle": "2021-11-03T07:00:10.761866Z",
     "shell.execute_reply": "2021-11-03T07:00:10.764050Z"
    },
    "papermill": {
     "duration": 1.074679,
     "end_time": "2021-11-03T07:00:10.764574",
     "exception": false,
     "start_time": "2021-11-03T07:00:09.689895",
     "status": "completed"
    },
    "tags": []
   },
   "outputs": [],
   "source": [
    "df = pd.read_sql(\"select * from EBAY_TOP_BERLIN where record_time in (select distinct record_time from EBAY_TOP_BERLIN order by record_time desc limit 2)\", sqlite3.connect(\"UsedObjects.db\"))"
   ]
  },
  {
   "cell_type": "code",
   "execution_count": 5,
   "id": "popular-active",
   "metadata": {
    "execution": {
     "iopub.execute_input": "2021-11-03T07:00:10.830614Z",
     "iopub.status.busy": "2021-11-03T07:00:10.828109Z",
     "iopub.status.idle": "2021-11-03T07:00:10.861289Z",
     "shell.execute_reply": "2021-11-03T07:00:10.863306Z"
    },
    "papermill": {
     "duration": 0.077704,
     "end_time": "2021-11-03T07:00:10.863858",
     "exception": false,
     "start_time": "2021-11-03T07:00:10.786154",
     "status": "completed"
    },
    "tags": []
   },
   "outputs": [],
   "source": [
    "df_pivot = df.pivot_table(index=\"PRODUCT\", columns = \"RECORD_TIME\", values = \"LISTING_COUNT\")"
   ]
  },
  {
   "cell_type": "code",
   "execution_count": 6,
   "id": "union-huntington",
   "metadata": {
    "execution": {
     "iopub.execute_input": "2021-11-03T07:00:10.926489Z",
     "iopub.status.busy": "2021-11-03T07:00:10.923902Z",
     "iopub.status.idle": "2021-11-03T07:00:10.930579Z",
     "shell.execute_reply": "2021-11-03T07:00:10.931963Z"
    },
    "papermill": {
     "duration": 0.046917,
     "end_time": "2021-11-03T07:00:10.932431",
     "exception": false,
     "start_time": "2021-11-03T07:00:10.885514",
     "status": "completed"
    },
    "tags": []
   },
   "outputs": [],
   "source": [
    "df_pivot.columns = [\"stamp_1\", \"stamp_2\"]\n",
    "df_pivot_diff = df_pivot.diff(axis=1)"
   ]
  },
  {
   "cell_type": "code",
   "execution_count": 7,
   "id": "fifth-motion",
   "metadata": {
    "execution": {
     "iopub.execute_input": "2021-11-03T07:00:10.993930Z",
     "iopub.status.busy": "2021-11-03T07:00:10.991404Z",
     "iopub.status.idle": "2021-11-03T07:00:12.787042Z",
     "shell.execute_reply": "2021-11-03T07:00:12.789859Z"
    },
    "papermill": {
     "duration": 1.835855,
     "end_time": "2021-11-03T07:00:12.790673",
     "exception": false,
     "start_time": "2021-11-03T07:00:10.954818",
     "status": "completed"
    },
    "tags": []
   },
   "outputs": [
    {
     "data": {
      "text/plain": [
       "<AxesSubplot:ylabel='PRODUCT'>"
      ]
     },
     "execution_count": 7,
     "metadata": {},
     "output_type": "execute_result"
    },
    {
     "data": {
      "image/png": "[encoded data removed]",
      "text/plain": [
       "<Figure size 432x288 with 1 Axes>"
      ]
     },
     "metadata": {
      "needs_background": "light"
     },
     "output_type": "display_data"
    }
   ],
   "source": [
    "df_pivot_diff.sort_values(\"stamp_2\", ascending = False)[\"stamp_2\"].head(10).plot.barh()"
   ]
  },
  {
   "cell_type": "code",
   "execution_count": null,
   "id": "extra-executive",
   "metadata": {
    "papermill": {
     "duration": 0.037552,
     "end_time": "2021-11-03T07:00:12.863976",
     "exception": false,
     "start_time": "2021-11-03T07:00:12.826424",
     "status": "completed"
    },
    "tags": []
   },
   "outputs": [],
   "source": []
  }
 ],
 "metadata": {
  "kernelspec": {
   "display_name": "Python 3",
   "language": "python",
   "name": "python3"
  },
  "language_info": {
   "codemirror_mode": {
    "name": "ipython",
    "version": 3
   },
   "file_extension": ".py",
   "mimetype": "text/x-python",
   "name": "python",
   "nbconvert_exporter": "python",
   "pygments_lexer": "ipython3",
   "version": "3.9.5"
  },
  "papermill": {
   "default_parameters": {},
   "duration": 8.657628,
   "end_time": "2021-11-03T07:00:13.732297",
   "environment_variables": {},
   "exception": null,
   "input_path": "eBay_Overview.ipynb",
   "output_path": "eBay_Overview.ipynb",
   "parameters": {},
   "start_time": "2021-11-03T07:00:05.074669",
   "version": "2.3.3"
  }
 },
 "nbformat": 4,
 "nbformat_minor": 5
}