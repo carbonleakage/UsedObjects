{
 "cells": [
  {
   "cell_type": "code",
   "execution_count": 1,
   "id": "reverse-picking",
   "metadata": {
    "execution": {
     "iopub.execute_input": "2021-10-04T21:30:07.457492Z",
     "iopub.status.busy": "2021-10-04T21:30:07.455523Z",
     "iopub.status.idle": "2021-10-04T21:30:08.263097Z",
     "shell.execute_reply": "2021-10-04T21:30:08.264421Z"
    },
    "papermill": {
     "duration": 0.862116,
     "end_time": "2021-10-04T21:30:08.265050",
     "exception": false,
     "start_time": "2021-10-04T21:30:07.402934",
     "status": "completed"
    },
    "tags": []
   },
   "outputs": [],
   "source": [
    "import pandas as pd\n",
    "import sqlite3"
   ]
  },
  {
   "cell_type": "code",
   "execution_count": 2,
   "id": "innovative-syndrome",
   "metadata": {
    "execution": {
     "iopub.execute_input": "2021-10-04T21:30:08.316966Z",
     "iopub.status.busy": "2021-10-04T21:30:08.314668Z",
     "iopub.status.idle": "2021-10-04T21:30:08.763489Z",
     "shell.execute_reply": "2021-10-04T21:30:08.764724Z"
    },
    "papermill": {
     "duration": 0.478441,
     "end_time": "2021-10-04T21:30:08.765122",
     "exception": false,
     "start_time": "2021-10-04T21:30:08.286681",
     "status": "completed"
    },
    "tags": []
   },
   "outputs": [],
   "source": [
    "timestamps = pd.read_sql(\"select distinct record_time from EBAY_TOP_BERLIN order by record_time desc limit 2\", sqlite3.connect(\"UsedObjects.db\"))"
   ]
  },
  {
   "cell_type": "code",
   "execution_count": 3,
   "id": "periodic-identification",
   "metadata": {
    "execution": {
     "iopub.execute_input": "2021-10-04T21:30:08.830370Z",
     "iopub.status.busy": "2021-10-04T21:30:08.828326Z",
     "iopub.status.idle": "2021-10-04T21:30:08.848429Z",
     "shell.execute_reply": "2021-10-04T21:30:08.849647Z"
    },
    "papermill": {
     "duration": 0.063825,
     "end_time": "2021-10-04T21:30:08.850073",
     "exception": false,
     "start_time": "2021-10-04T21:30:08.786248",
     "status": "completed"
    },
    "tags": []
   },
   "outputs": [
    {
     "data": {
      "text/html": [
       "<div>\n",
       "<style scoped>\n",
       "    .dataframe tbody tr th:only-of-type {\n",
       "        vertical-align: middle;\n",
       "    }\n",
       "\n",
       "    .dataframe tbody tr th {\n",
       "        vertical-align: top;\n",
       "    }\n",
       "\n",
       "    .dataframe thead th {\n",
       "        text-align: right;\n",
       "    }\n",
       "</style>\n",
       "<table border=\"1\" class=\"dataframe\">\n",
       "  <thead>\n",
       "    <tr style=\"text-align: right;\">\n",
       "      <th></th>\n",
       "      <th>RECORD_TIME</th>\n",
       "    </tr>\n",
       "  </thead>\n",
       "  <tbody>\n",
       "    <tr>\n",
       "      <th>0</th>\n",
       "      <td>2021-10-04 23:30</td>\n",
       "    </tr>\n",
       "    <tr>\n",
       "      <th>1</th>\n",
       "      <td>2021-10-04 23:00</td>\n",
       "    </tr>\n",
       "  </tbody>\n",
       "</table>\n",
       "</div>"
      ],
      "text/plain": [
       "        RECORD_TIME\n",
       "0  2021-10-04 23:30\n",
       "1  2021-10-04 23:00"
      ]
     },
     "execution_count": 3,
     "metadata": {},
     "output_type": "execute_result"
    }
   ],
   "source": [
    "timestamps"
   ]
  },
  {
   "cell_type": "code",
   "execution_count": 4,
   "id": "alternate-victory",
   "metadata": {
    "execution": {
     "iopub.execute_input": "2021-10-04T21:30:08.924774Z",
     "iopub.status.busy": "2021-10-04T21:30:08.922624Z",
     "iopub.status.idle": "2021-10-04T21:30:09.603772Z",
     "shell.execute_reply": "2021-10-04T21:30:09.605044Z"
    },
    "papermill": {
     "duration": 0.717297,
     "end_time": "2021-10-04T21:30:09.605444",
     "exception": false,
     "start_time": "2021-10-04T21:30:08.888147",
     "status": "completed"
    },
    "tags": []
   },
   "outputs": [],
   "source": [
    "df = pd.read_sql(\"select * from EBAY_TOP_BERLIN where record_time in (select distinct record_time from EBAY_TOP_BERLIN order by record_time desc limit 2)\", sqlite3.connect(\"UsedObjects.db\"))"
   ]
  },
  {
   "cell_type": "code",
   "execution_count": 5,
   "id": "popular-active",
   "metadata": {
    "execution": {
     "iopub.execute_input": "2021-10-04T21:30:09.677559Z",
     "iopub.status.busy": "2021-10-04T21:30:09.665628Z",
     "iopub.status.idle": "2021-10-04T21:30:09.693524Z",
     "shell.execute_reply": "2021-10-04T21:30:09.694913Z"
    },
    "papermill": {
     "duration": 0.067739,
     "end_time": "2021-10-04T21:30:09.695337",
     "exception": false,
     "start_time": "2021-10-04T21:30:09.627598",
     "status": "completed"
    },
    "tags": []
   },
   "outputs": [],
   "source": [
    "df_pivot = df.pivot_table(index=\"PRODUCT\", columns = \"RECORD_TIME\", values = \"LISTING_COUNT\")"
   ]
  },
  {
   "cell_type": "code",
   "execution_count": 6,
   "id": "union-huntington",
   "metadata": {
    "execution": {
     "iopub.execute_input": "2021-10-04T21:30:09.751846Z",
     "iopub.status.busy": "2021-10-04T21:30:09.749713Z",
     "iopub.status.idle": "2021-10-04T21:30:09.755163Z",
     "shell.execute_reply": "2021-10-04T21:30:09.756615Z"
    },
    "papermill": {
     "duration": 0.041348,
     "end_time": "2021-10-04T21:30:09.757044",
     "exception": false,
     "start_time": "2021-10-04T21:30:09.715696",
     "status": "completed"
    },
    "tags": []
   },
   "outputs": [],
   "source": [
    "df_pivot.columns = [\"stamp_1\", \"stamp_2\"]\n",
    "df_pivot_diff = df_pivot.diff(axis=1)"
   ]
  },
  {
   "cell_type": "code",
   "execution_count": 7,
   "id": "fifth-motion",
   "metadata": {
    "execution": {
     "iopub.execute_input": "2021-10-04T21:30:09.813233Z",
     "iopub.status.busy": "2021-10-04T21:30:09.810275Z",
     "iopub.status.idle": "2021-10-04T21:30:11.303126Z",
     "shell.execute_reply": "2021-10-04T21:30:11.304447Z"
    },
    "papermill": {
     "duration": 1.526386,
     "end_time": "2021-10-04T21:30:11.304869",
     "exception": false,
     "start_time": "2021-10-04T21:30:09.778483",
     "status": "completed"
    },
    "tags": []
   },
   "outputs": [
    {
     "data": {
      "text/plain": [
       "<AxesSubplot:ylabel='PRODUCT'>"
      ]
     },
     "execution_count": 7,
     "metadata": {},
     "output_type": "execute_result"
    },
    {
     "data": {
      "image/png": "[encoded data removed]",
      "text/plain": [
       "<Figure size 432x288 with 1 Axes>"
      ]
     },
     "metadata": {
      "needs_background": "light"
     },
     "output_type": "display_data"
    }
   ],
   "source": [
    "df_pivot_diff.sort_values(\"stamp_2\", ascending = False)[\"stamp_2\"].head(10).plot.barh()"
   ]
  },
  {
   "cell_type": "code",
   "execution_count": null,
   "id": "extra-executive",
   "metadata": {
    "papermill": {
     "duration": 0.022328,
     "end_time": "2021-10-04T21:30:11.352096",
     "exception": false,
     "start_time": "2021-10-04T21:30:11.329768",
     "status": "completed"
    },
    "tags": []
   },
   "outputs": [],
   "source": []
  }
 ],
 "metadata": {
  "kernelspec": {
   "display_name": "Python 3",
   "language": "python",
   "name": "python3"
  },
  "language_info": {
   "codemirror_mode": {
    "name": "ipython",
    "version": 3
   },
   "file_extension": ".py",
   "mimetype": "text/x-python",
   "name": "python",
   "nbconvert_exporter": "python",
   "pygments_lexer": "ipython3",
   "version": "3.9.5"
  },
  "papermill": {
   "default_parameters": {},
   "duration": 7.827985,
   "end_time": "2021-10-04T21:30:12.818248",
   "environment_variables": {},
   "exception": null,
   "input_path": "eBay_Overview.ipynb",
   "output_path": "eBay_Overview.ipynb",
   "parameters": {},
   "start_time": "2021-10-04T21:30:04.990263",
   "version": "2.3.3"
  }
 },
 "nbformat": 4,
 "nbformat_minor": 5
}