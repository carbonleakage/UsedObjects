{
 "cells": [
  {
   "cell_type": "code",
   "execution_count": 1,
   "id": "reverse-picking",
   "metadata": {
    "execution": {
     "iopub.execute_input": "2021-11-05T19:00:08.189473Z",
     "iopub.status.busy": "2021-11-05T19:00:08.187106Z",
     "iopub.status.idle": "2021-11-05T19:00:09.114042Z",
     "shell.execute_reply": "2021-11-05T19:00:09.116383Z"
    },
    "papermill": {
     "duration": 0.975699,
     "end_time": "2021-11-05T19:00:09.117237",
     "exception": false,
     "start_time": "2021-11-05T19:00:08.141538",
     "status": "completed"
    },
    "tags": []
   },
   "outputs": [],
   "source": [
    "import pandas as pd\n",
    "import sqlite3"
   ]
  },
  {
   "cell_type": "code",
   "execution_count": 2,
   "id": "innovative-syndrome",
   "metadata": {
    "execution": {
     "iopub.execute_input": "2021-11-05T19:00:09.242198Z",
     "iopub.status.busy": "2021-11-05T19:00:09.239655Z",
     "iopub.status.idle": "2021-11-05T19:00:09.986289Z",
     "shell.execute_reply": "2021-11-05T19:00:09.987751Z"
    },
    "papermill": {
     "duration": 0.781185,
     "end_time": "2021-11-05T19:00:09.988236",
     "exception": false,
     "start_time": "2021-11-05T19:00:09.207051",
     "status": "completed"
    },
    "tags": []
   },
   "outputs": [],
   "source": [
    "timestamps = pd.read_sql(\"select distinct record_time from EBAY_TOP_BERLIN order by record_time desc limit 2\", sqlite3.connect(\"UsedObjects.db\"))"
   ]
  },
  {
   "cell_type": "code",
   "execution_count": 3,
   "id": "periodic-identification",
   "metadata": {
    "execution": {
     "iopub.execute_input": "2021-11-05T19:00:10.059837Z",
     "iopub.status.busy": "2021-11-05T19:00:10.057508Z",
     "iopub.status.idle": "2021-11-05T19:00:10.080152Z",
     "shell.execute_reply": "2021-11-05T19:00:10.081853Z"
    },
    "papermill": {
     "duration": 0.073523,
     "end_time": "2021-11-05T19:00:10.082352",
     "exception": false,
     "start_time": "2021-11-05T19:00:10.008829",
     "status": "completed"
    },
    "tags": []
   },
   "outputs": [
    {
     "data": {
      "text/html": [
       "<div>\n",
       "<style scoped>\n",
       "    .dataframe tbody tr th:only-of-type {\n",
       "        vertical-align: middle;\n",
       "    }\n",
       "\n",
       "    .dataframe tbody tr th {\n",
       "        vertical-align: top;\n",
       "    }\n",
       "\n",
       "    .dataframe thead th {\n",
       "        text-align: right;\n",
       "    }\n",
       "</style>\n",
       "<table border=\"1\" class=\"dataframe\">\n",
       "  <thead>\n",
       "    <tr style=\"text-align: right;\">\n",
       "      <th></th>\n",
       "      <th>RECORD_TIME</th>\n",
       "    </tr>\n",
       "  </thead>\n",
       "  <tbody>\n",
       "    <tr>\n",
       "      <th>0</th>\n",
       "      <td>2021-11-05 20:00</td>\n",
       "    </tr>\n",
       "    <tr>\n",
       "      <th>1</th>\n",
       "      <td>2021-11-05 19:30</td>\n",
       "    </tr>\n",
       "  </tbody>\n",
       "</table>\n",
       "</div>"
      ],
      "text/plain": [
       "        RECORD_TIME\n",
       "0  2021-11-05 20:00\n",
       "1  2021-11-05 19:30"
      ]
     },
     "execution_count": 3,
     "metadata": {},
     "output_type": "execute_result"
    }
   ],
   "source": [
    "timestamps"
   ]
  },
  {
   "cell_type": "code",
   "execution_count": 4,
   "id": "alternate-victory",
   "metadata": {
    "execution": {
     "iopub.execute_input": "2021-11-05T19:00:10.138852Z",
     "iopub.status.busy": "2021-11-05T19:00:10.136601Z",
     "iopub.status.idle": "2021-11-05T19:00:11.249284Z",
     "shell.execute_reply": "2021-11-05T19:00:11.250814Z"
    },
    "papermill": {
     "duration": 1.146413,
     "end_time": "2021-11-05T19:00:11.251273",
     "exception": false,
     "start_time": "2021-11-05T19:00:10.104860",
     "status": "completed"
    },
    "tags": []
   },
   "outputs": [],
   "source": [
    "df = pd.read_sql(\"select * from EBAY_TOP_BERLIN where record_time in (select distinct record_time from EBAY_TOP_BERLIN order by record_time desc limit 2)\", sqlite3.connect(\"UsedObjects.db\"))"
   ]
  },
  {
   "cell_type": "code",
   "execution_count": 5,
   "id": "popular-active",
   "metadata": {
    "execution": {
     "iopub.execute_input": "2021-11-05T19:00:11.330048Z",
     "iopub.status.busy": "2021-11-05T19:00:11.316122Z",
     "iopub.status.idle": "2021-11-05T19:00:11.350418Z",
     "shell.execute_reply": "2021-11-05T19:00:11.351925Z"
    },
    "papermill": {
     "duration": 0.07817,
     "end_time": "2021-11-05T19:00:11.352451",
     "exception": false,
     "start_time": "2021-11-05T19:00:11.274281",
     "status": "completed"
    },
    "tags": []
   },
   "outputs": [],
   "source": [
    "df_pivot = df.pivot_table(index=\"PRODUCT\", columns = \"RECORD_TIME\", values = \"LISTING_COUNT\")"
   ]
  },
  {
   "cell_type": "code",
   "execution_count": 6,
   "id": "union-huntington",
   "metadata": {
    "execution": {
     "iopub.execute_input": "2021-11-05T19:00:11.415660Z",
     "iopub.status.busy": "2021-11-05T19:00:11.413378Z",
     "iopub.status.idle": "2021-11-05T19:00:11.419019Z",
     "shell.execute_reply": "2021-11-05T19:00:11.420881Z"
    },
    "papermill": {
     "duration": 0.047087,
     "end_time": "2021-11-05T19:00:11.421459",
     "exception": false,
     "start_time": "2021-11-05T19:00:11.374372",
     "status": "completed"
    },
    "tags": []
   },
   "outputs": [],
   "source": [
    "df_pivot.columns = [\"stamp_1\", \"stamp_2\"]\n",
    "df_pivot_diff = df_pivot.diff(axis=1)"
   ]
  },
  {
   "cell_type": "code",
   "execution_count": 7,
   "id": "fifth-motion",
   "metadata": {
    "execution": {
     "iopub.execute_input": "2021-11-05T19:00:11.491600Z",
     "iopub.status.busy": "2021-11-05T19:00:11.478885Z",
     "iopub.status.idle": "2021-11-05T19:00:13.243847Z",
     "shell.execute_reply": "2021-11-05T19:00:13.245277Z"
    },
    "papermill": {
     "duration": 1.80206,
     "end_time": "2021-11-05T19:00:13.245747",
     "exception": false,
     "start_time": "2021-11-05T19:00:11.443687",
     "status": "completed"
    },
    "tags": []
   },
   "outputs": [
    {
     "data": {
      "text/plain": [
       "<AxesSubplot:ylabel='PRODUCT'>"
      ]
     },
     "execution_count": 7,
     "metadata": {},
     "output_type": "execute_result"
    },
    {
     "data": {
      "image/png": "[encoded data removed]",
      "text/plain": [
       "<Figure size 432x288 with 1 Axes>"
      ]
     },
     "metadata": {
      "needs_background": "light"
     },
     "output_type": "display_data"
    }
   ],
   "source": [
    "df_pivot_diff.sort_values(\"stamp_2\", ascending = False)[\"stamp_2\"].head(10).plot.barh()"
   ]
  },
  {
   "cell_type": "code",
   "execution_count": null,
   "id": "extra-executive",
   "metadata": {
    "papermill": {
     "duration": 0.02333,
     "end_time": "2021-11-05T19:00:13.293775",
     "exception": false,
     "start_time": "2021-11-05T19:00:13.270445",
     "status": "completed"
    },
    "tags": []
   },
   "outputs": [],
   "source": []
  }
 ],
 "metadata": {
  "kernelspec": {
   "display_name": "Python 3",
   "language": "python",
   "name": "python3"
  },
  "language_info": {
   "codemirror_mode": {
    "name": "ipython",
    "version": 3
   },
   "file_extension": ".py",
   "mimetype": "text/x-python",
   "name": "python",
   "nbconvert_exporter": "python",
   "pygments_lexer": "ipython3",
   "version": "3.9.5"
  },
  "papermill": {
   "default_parameters": {},
   "duration": 9.029463,
   "end_time": "2021-11-05T19:00:14.310802",
   "environment_variables": {},
   "exception": null,
   "input_path": "eBay_Overview.ipynb",
   "output_path": "eBay_Overview.ipynb",
   "parameters": {},
   "start_time": "2021-11-05T19:00:05.281339",
   "version": "2.3.3"
  }
 },
 "nbformat": 4,
 "nbformat_minor": 5
}