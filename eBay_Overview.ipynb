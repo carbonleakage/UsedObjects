{
 "cells": [
  {
   "cell_type": "code",
   "execution_count": 1,
   "id": "reverse-picking",
   "metadata": {
    "execution": {
     "iopub.execute_input": "2021-11-16T09:30:08.407112Z",
     "iopub.status.busy": "2021-11-16T09:30:08.404865Z",
     "iopub.status.idle": "2021-11-16T09:30:09.382506Z",
     "shell.execute_reply": "2021-11-16T09:30:09.384059Z"
    },
    "papermill": {
     "duration": 1.02734,
     "end_time": "2021-11-16T09:30:09.384865",
     "exception": false,
     "start_time": "2021-11-16T09:30:08.357525",
     "status": "completed"
    },
    "tags": []
   },
   "outputs": [],
   "source": [
    "import pandas as pd\n",
    "import sqlite3"
   ]
  },
  {
   "cell_type": "code",
   "execution_count": 2,
   "id": "innovative-syndrome",
   "metadata": {
    "execution": {
     "iopub.execute_input": "2021-11-16T09:30:09.438028Z",
     "iopub.status.busy": "2021-11-16T09:30:09.435888Z",
     "iopub.status.idle": "2021-11-16T09:30:10.262576Z",
     "shell.execute_reply": "2021-11-16T09:30:10.265256Z"
    },
    "papermill": {
     "duration": 0.860748,
     "end_time": "2021-11-16T09:30:10.265800",
     "exception": false,
     "start_time": "2021-11-16T09:30:09.405052",
     "status": "completed"
    },
    "tags": []
   },
   "outputs": [],
   "source": [
    "timestamps = pd.read_sql(\"select distinct record_time from EBAY_TOP_BERLIN order by record_time desc limit 2\", sqlite3.connect(\"UsedObjects.db\"))"
   ]
  },
  {
   "cell_type": "code",
   "execution_count": 3,
   "id": "periodic-identification",
   "metadata": {
    "execution": {
     "iopub.execute_input": "2021-11-16T09:30:10.335346Z",
     "iopub.status.busy": "2021-11-16T09:30:10.332977Z",
     "iopub.status.idle": "2021-11-16T09:30:10.356858Z",
     "shell.execute_reply": "2021-11-16T09:30:10.358340Z"
    },
    "papermill": {
     "duration": 0.073565,
     "end_time": "2021-11-16T09:30:10.358835",
     "exception": false,
     "start_time": "2021-11-16T09:30:10.285270",
     "status": "completed"
    },
    "tags": []
   },
   "outputs": [
    {
     "data": {
      "text/html": [
       "<div>\n",
       "<style scoped>\n",
       "    .dataframe tbody tr th:only-of-type {\n",
       "        vertical-align: middle;\n",
       "    }\n",
       "\n",
       "    .dataframe tbody tr th {\n",
       "        vertical-align: top;\n",
       "    }\n",
       "\n",
       "    .dataframe thead th {\n",
       "        text-align: right;\n",
       "    }\n",
       "</style>\n",
       "<table border=\"1\" class=\"dataframe\">\n",
       "  <thead>\n",
       "    <tr style=\"text-align: right;\">\n",
       "      <th></th>\n",
       "      <th>RECORD_TIME</th>\n",
       "    </tr>\n",
       "  </thead>\n",
       "  <tbody>\n",
       "    <tr>\n",
       "      <th>0</th>\n",
       "      <td>2021-11-16 10:30</td>\n",
       "    </tr>\n",
       "    <tr>\n",
       "      <th>1</th>\n",
       "      <td>2021-11-16 10:00</td>\n",
       "    </tr>\n",
       "  </tbody>\n",
       "</table>\n",
       "</div>"
      ],
      "text/plain": [
       "        RECORD_TIME\n",
       "0  2021-11-16 10:30\n",
       "1  2021-11-16 10:00"
      ]
     },
     "execution_count": 3,
     "metadata": {},
     "output_type": "execute_result"
    }
   ],
   "source": [
    "timestamps"
   ]
  },
  {
   "cell_type": "code",
   "execution_count": 4,
   "id": "alternate-victory",
   "metadata": {
    "execution": {
     "iopub.execute_input": "2021-11-16T09:30:10.414791Z",
     "iopub.status.busy": "2021-11-16T09:30:10.412547Z",
     "iopub.status.idle": "2021-11-16T09:30:11.617306Z",
     "shell.execute_reply": "2021-11-16T09:30:11.618759Z"
    },
    "papermill": {
     "duration": 1.238788,
     "end_time": "2021-11-16T09:30:11.619228",
     "exception": false,
     "start_time": "2021-11-16T09:30:10.380440",
     "status": "completed"
    },
    "tags": []
   },
   "outputs": [],
   "source": [
    "df = pd.read_sql(\"select * from EBAY_TOP_BERLIN where record_time in (select distinct record_time from EBAY_TOP_BERLIN order by record_time desc limit 2)\", sqlite3.connect(\"UsedObjects.db\"))"
   ]
  },
  {
   "cell_type": "code",
   "execution_count": 5,
   "id": "popular-active",
   "metadata": {
    "execution": {
     "iopub.execute_input": "2021-11-16T09:30:11.693453Z",
     "iopub.status.busy": "2021-11-16T09:30:11.681102Z",
     "iopub.status.idle": "2021-11-16T09:30:11.712802Z",
     "shell.execute_reply": "2021-11-16T09:30:11.714321Z"
    },
    "papermill": {
     "duration": 0.074407,
     "end_time": "2021-11-16T09:30:11.714816",
     "exception": false,
     "start_time": "2021-11-16T09:30:11.640409",
     "status": "completed"
    },
    "tags": []
   },
   "outputs": [],
   "source": [
    "df_pivot = df.pivot_table(index=\"PRODUCT\", columns = \"RECORD_TIME\", values = \"LISTING_COUNT\")"
   ]
  },
  {
   "cell_type": "code",
   "execution_count": 6,
   "id": "union-huntington",
   "metadata": {
    "execution": {
     "iopub.execute_input": "2021-11-16T09:30:11.778349Z",
     "iopub.status.busy": "2021-11-16T09:30:11.776138Z",
     "iopub.status.idle": "2021-11-16T09:30:11.780781Z",
     "shell.execute_reply": "2021-11-16T09:30:11.782574Z"
    },
    "papermill": {
     "duration": 0.045557,
     "end_time": "2021-11-16T09:30:11.783041",
     "exception": false,
     "start_time": "2021-11-16T09:30:11.737484",
     "status": "completed"
    },
    "tags": []
   },
   "outputs": [],
   "source": [
    "df_pivot.columns = [\"stamp_1\", \"stamp_2\"]\n",
    "df_pivot_diff = df_pivot.diff(axis=1)"
   ]
  },
  {
   "cell_type": "code",
   "execution_count": 7,
   "id": "fifth-motion",
   "metadata": {
    "execution": {
     "iopub.execute_input": "2021-11-16T09:30:11.839394Z",
     "iopub.status.busy": "2021-11-16T09:30:11.836936Z",
     "iopub.status.idle": "2021-11-16T09:30:13.881446Z",
     "shell.execute_reply": "2021-11-16T09:30:13.883027Z"
    },
    "papermill": {
     "duration": 2.080053,
     "end_time": "2021-11-16T09:30:13.883527",
     "exception": false,
     "start_time": "2021-11-16T09:30:11.803474",
     "status": "completed"
    },
    "tags": []
   },
   "outputs": [
    {
     "data": {
      "text/plain": [
       "<AxesSubplot:ylabel='PRODUCT'>"
      ]
     },
     "execution_count": 7,
     "metadata": {},
     "output_type": "execute_result"
    },
    {
     "data": {
      "image/png": "[encoded data removed]",
      "text/plain": [
       "<Figure size 432x288 with 1 Axes>"
      ]
     },
     "metadata": {
      "needs_background": "light"
     },
     "output_type": "display_data"
    }
   ],
   "source": [
    "df_pivot_diff.sort_values(\"stamp_2\", ascending = False)[\"stamp_2\"].head(10).plot.barh()"
   ]
  },
  {
   "cell_type": "code",
   "execution_count": null,
   "id": "extra-executive",
   "metadata": {
    "papermill": {
     "duration": 0.022294,
     "end_time": "2021-11-16T09:30:13.931443",
     "exception": false,
     "start_time": "2021-11-16T09:30:13.909149",
     "status": "completed"
    },
    "tags": []
   },
   "outputs": [],
   "source": []
  }
 ],
 "metadata": {
  "kernelspec": {
   "display_name": "Python 3",
   "language": "python",
   "name": "python3"
  },
  "language_info": {
   "codemirror_mode": {
    "name": "ipython",
    "version": 3
   },
   "file_extension": ".py",
   "mimetype": "text/x-python",
   "name": "python",
   "nbconvert_exporter": "python",
   "pygments_lexer": "ipython3",
   "version": "3.9.5"
  },
  "papermill": {
   "default_parameters": {},
   "duration": 9.973752,
   "end_time": "2021-11-16T09:30:15.537115",
   "environment_variables": {},
   "exception": null,
   "input_path": "eBay_Overview.ipynb",
   "output_path": "eBay_Overview.ipynb",
   "parameters": {},
   "start_time": "2021-11-16T09:30:05.563363",
   "version": "2.3.3"
  }
 },
 "nbformat": 4,
 "nbformat_minor": 5
}