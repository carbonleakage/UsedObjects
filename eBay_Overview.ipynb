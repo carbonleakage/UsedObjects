{
 "cells": [
  {
   "cell_type": "code",
   "execution_count": 1,
   "id": "reverse-picking",
   "metadata": {
    "execution": {
     "iopub.execute_input": "2021-10-25T19:00:06.787146Z",
     "iopub.status.busy": "2021-10-25T19:00:06.785181Z",
     "iopub.status.idle": "2021-10-25T19:00:07.592069Z",
     "shell.execute_reply": "2021-10-25T19:00:07.593494Z"
    },
    "papermill": {
     "duration": 0.860253,
     "end_time": "2021-10-25T19:00:07.594149",
     "exception": false,
     "start_time": "2021-10-25T19:00:06.733896",
     "status": "completed"
    },
    "tags": []
   },
   "outputs": [],
   "source": [
    "import pandas as pd\n",
    "import sqlite3"
   ]
  },
  {
   "cell_type": "code",
   "execution_count": 2,
   "id": "innovative-syndrome",
   "metadata": {
    "execution": {
     "iopub.execute_input": "2021-10-25T19:00:07.643699Z",
     "iopub.status.busy": "2021-10-25T19:00:07.641808Z",
     "iopub.status.idle": "2021-10-25T19:00:08.282155Z",
     "shell.execute_reply": "2021-10-25T19:00:08.283559Z"
    },
    "papermill": {
     "duration": 0.67001,
     "end_time": "2021-10-25T19:00:08.284006",
     "exception": false,
     "start_time": "2021-10-25T19:00:07.613996",
     "status": "completed"
    },
    "tags": []
   },
   "outputs": [],
   "source": [
    "timestamps = pd.read_sql(\"select distinct record_time from EBAY_TOP_BERLIN order by record_time desc limit 2\", sqlite3.connect(\"UsedObjects.db\"))"
   ]
  },
  {
   "cell_type": "code",
   "execution_count": 3,
   "id": "periodic-identification",
   "metadata": {
    "execution": {
     "iopub.execute_input": "2021-10-25T19:00:08.356896Z",
     "iopub.status.busy": "2021-10-25T19:00:08.354658Z",
     "iopub.status.idle": "2021-10-25T19:00:08.374519Z",
     "shell.execute_reply": "2021-10-25T19:00:08.375730Z"
    },
    "papermill": {
     "duration": 0.067011,
     "end_time": "2021-10-25T19:00:08.376139",
     "exception": false,
     "start_time": "2021-10-25T19:00:08.309128",
     "status": "completed"
    },
    "tags": []
   },
   "outputs": [
    {
     "data": {
      "text/html": [
       "<div>\n",
       "<style scoped>\n",
       "    .dataframe tbody tr th:only-of-type {\n",
       "        vertical-align: middle;\n",
       "    }\n",
       "\n",
       "    .dataframe tbody tr th {\n",
       "        vertical-align: top;\n",
       "    }\n",
       "\n",
       "    .dataframe thead th {\n",
       "        text-align: right;\n",
       "    }\n",
       "</style>\n",
       "<table border=\"1\" class=\"dataframe\">\n",
       "  <thead>\n",
       "    <tr style=\"text-align: right;\">\n",
       "      <th></th>\n",
       "      <th>RECORD_TIME</th>\n",
       "    </tr>\n",
       "  </thead>\n",
       "  <tbody>\n",
       "    <tr>\n",
       "      <th>0</th>\n",
       "      <td>2021-10-25 21:00</td>\n",
       "    </tr>\n",
       "    <tr>\n",
       "      <th>1</th>\n",
       "      <td>2021-10-25 20:30</td>\n",
       "    </tr>\n",
       "  </tbody>\n",
       "</table>\n",
       "</div>"
      ],
      "text/plain": [
       "        RECORD_TIME\n",
       "0  2021-10-25 21:00\n",
       "1  2021-10-25 20:30"
      ]
     },
     "execution_count": 3,
     "metadata": {},
     "output_type": "execute_result"
    }
   ],
   "source": [
    "timestamps"
   ]
  },
  {
   "cell_type": "code",
   "execution_count": 4,
   "id": "alternate-victory",
   "metadata": {
    "execution": {
     "iopub.execute_input": "2021-10-25T19:00:08.429191Z",
     "iopub.status.busy": "2021-10-25T19:00:08.426807Z",
     "iopub.status.idle": "2021-10-25T19:00:09.352284Z",
     "shell.execute_reply": "2021-10-25T19:00:09.350895Z"
    },
    "papermill": {
     "duration": 0.954324,
     "end_time": "2021-10-25T19:00:09.352643",
     "exception": false,
     "start_time": "2021-10-25T19:00:08.398319",
     "status": "completed"
    },
    "tags": []
   },
   "outputs": [],
   "source": [
    "df = pd.read_sql(\"select * from EBAY_TOP_BERLIN where record_time in (select distinct record_time from EBAY_TOP_BERLIN order by record_time desc limit 2)\", sqlite3.connect(\"UsedObjects.db\"))"
   ]
  },
  {
   "cell_type": "code",
   "execution_count": 5,
   "id": "popular-active",
   "metadata": {
    "execution": {
     "iopub.execute_input": "2021-10-25T19:00:09.422157Z",
     "iopub.status.busy": "2021-10-25T19:00:09.410367Z",
     "iopub.status.idle": "2021-10-25T19:00:09.439603Z",
     "shell.execute_reply": "2021-10-25T19:00:09.441288Z"
    },
    "papermill": {
     "duration": 0.068589,
     "end_time": "2021-10-25T19:00:09.441776",
     "exception": false,
     "start_time": "2021-10-25T19:00:09.373187",
     "status": "completed"
    },
    "tags": []
   },
   "outputs": [],
   "source": [
    "df_pivot = df.pivot_table(index=\"PRODUCT\", columns = \"RECORD_TIME\", values = \"LISTING_COUNT\")"
   ]
  },
  {
   "cell_type": "code",
   "execution_count": 6,
   "id": "union-huntington",
   "metadata": {
    "execution": {
     "iopub.execute_input": "2021-10-25T19:00:09.500287Z",
     "iopub.status.busy": "2021-10-25T19:00:09.497995Z",
     "iopub.status.idle": "2021-10-25T19:00:09.503802Z",
     "shell.execute_reply": "2021-10-25T19:00:09.505228Z"
    },
    "papermill": {
     "duration": 0.041896,
     "end_time": "2021-10-25T19:00:09.505696",
     "exception": false,
     "start_time": "2021-10-25T19:00:09.463800",
     "status": "completed"
    },
    "tags": []
   },
   "outputs": [],
   "source": [
    "df_pivot.columns = [\"stamp_1\", \"stamp_2\"]\n",
    "df_pivot_diff = df_pivot.diff(axis=1)"
   ]
  },
  {
   "cell_type": "code",
   "execution_count": 7,
   "id": "fifth-motion",
   "metadata": {
    "execution": {
     "iopub.execute_input": "2021-10-25T19:00:09.559708Z",
     "iopub.status.busy": "2021-10-25T19:00:09.557448Z",
     "iopub.status.idle": "2021-10-25T19:00:11.064832Z",
     "shell.execute_reply": "2021-10-25T19:00:11.066239Z"
    },
    "papermill": {
     "duration": 1.540613,
     "end_time": "2021-10-25T19:00:11.066685",
     "exception": false,
     "start_time": "2021-10-25T19:00:09.526072",
     "status": "completed"
    },
    "tags": []
   },
   "outputs": [
    {
     "data": {
      "text/plain": [
       "<AxesSubplot:ylabel='PRODUCT'>"
      ]
     },
     "execution_count": 7,
     "metadata": {},
     "output_type": "execute_result"
    },
    {
     "data": {
      "image/png": "[encoded data removed]",
      "text/plain": [
       "<Figure size 432x288 with 1 Axes>"
      ]
     },
     "metadata": {
      "needs_background": "light"
     },
     "output_type": "display_data"
    }
   ],
   "source": [
    "df_pivot_diff.sort_values(\"stamp_2\", ascending = False)[\"stamp_2\"].head(10).plot.barh()"
   ]
  },
  {
   "cell_type": "code",
   "execution_count": null,
   "id": "extra-executive",
   "metadata": {
    "papermill": {
     "duration": 0.021968,
     "end_time": "2021-10-25T19:00:11.112273",
     "exception": false,
     "start_time": "2021-10-25T19:00:11.090305",
     "status": "completed"
    },
    "tags": []
   },
   "outputs": [],
   "source": []
  }
 ],
 "metadata": {
  "kernelspec": {
   "display_name": "Python 3",
   "language": "python",
   "name": "python3"
  },
  "language_info": {
   "codemirror_mode": {
    "name": "ipython",
    "version": 3
   },
   "file_extension": ".py",
   "mimetype": "text/x-python",
   "name": "python",
   "nbconvert_exporter": "python",
   "pygments_lexer": "ipython3",
   "version": "3.9.5"
  },
  "papermill": {
   "default_parameters": {},
   "duration": 7.428262,
   "end_time": "2021-10-25T19:00:11.752106",
   "environment_variables": {},
   "exception": null,
   "input_path": "eBay_Overview.ipynb",
   "output_path": "eBay_Overview.ipynb",
   "parameters": {},
   "start_time": "2021-10-25T19:00:04.323844",
   "version": "2.3.3"
  }
 },
 "nbformat": 4,
 "nbformat_minor": 5
}