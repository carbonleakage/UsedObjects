{
 "cells": [
  {
   "cell_type": "code",
   "execution_count": 1,
   "id": "reverse-picking",
   "metadata": {
    "execution": {
     "iopub.execute_input": "2021-10-13T05:30:08.334080Z",
     "iopub.status.busy": "2021-10-13T05:30:08.332055Z",
     "iopub.status.idle": "2021-10-13T05:30:09.134366Z",
     "shell.execute_reply": "2021-10-13T05:30:09.135627Z"
    },
    "papermill": {
     "duration": 0.852782,
     "end_time": "2021-10-13T05:30:09.136256",
     "exception": false,
     "start_time": "2021-10-13T05:30:08.283474",
     "status": "completed"
    },
    "tags": []
   },
   "outputs": [],
   "source": [
    "import pandas as pd\n",
    "import sqlite3"
   ]
  },
  {
   "cell_type": "code",
   "execution_count": 2,
   "id": "innovative-syndrome",
   "metadata": {
    "execution": {
     "iopub.execute_input": "2021-10-13T05:30:09.187729Z",
     "iopub.status.busy": "2021-10-13T05:30:09.185808Z",
     "iopub.status.idle": "2021-10-13T05:30:09.732190Z",
     "shell.execute_reply": "2021-10-13T05:30:09.730780Z"
    },
    "papermill": {
     "duration": 0.574707,
     "end_time": "2021-10-13T05:30:09.732545",
     "exception": false,
     "start_time": "2021-10-13T05:30:09.157838",
     "status": "completed"
    },
    "tags": []
   },
   "outputs": [],
   "source": [
    "timestamps = pd.read_sql(\"select distinct record_time from EBAY_TOP_BERLIN order by record_time desc limit 2\", sqlite3.connect(\"UsedObjects.db\"))"
   ]
  },
  {
   "cell_type": "code",
   "execution_count": 3,
   "id": "periodic-identification",
   "metadata": {
    "execution": {
     "iopub.execute_input": "2021-10-13T05:30:09.798908Z",
     "iopub.status.busy": "2021-10-13T05:30:09.796885Z",
     "iopub.status.idle": "2021-10-13T05:30:09.816583Z",
     "shell.execute_reply": "2021-10-13T05:30:09.818045Z"
    },
    "papermill": {
     "duration": 0.066742,
     "end_time": "2021-10-13T05:30:09.818479",
     "exception": false,
     "start_time": "2021-10-13T05:30:09.751737",
     "status": "completed"
    },
    "tags": []
   },
   "outputs": [
    {
     "data": {
      "text/html": [
       "<div>\n",
       "<style scoped>\n",
       "    .dataframe tbody tr th:only-of-type {\n",
       "        vertical-align: middle;\n",
       "    }\n",
       "\n",
       "    .dataframe tbody tr th {\n",
       "        vertical-align: top;\n",
       "    }\n",
       "\n",
       "    .dataframe thead th {\n",
       "        text-align: right;\n",
       "    }\n",
       "</style>\n",
       "<table border=\"1\" class=\"dataframe\">\n",
       "  <thead>\n",
       "    <tr style=\"text-align: right;\">\n",
       "      <th></th>\n",
       "      <th>RECORD_TIME</th>\n",
       "    </tr>\n",
       "  </thead>\n",
       "  <tbody>\n",
       "    <tr>\n",
       "      <th>0</th>\n",
       "      <td>2021-10-13 07:30</td>\n",
       "    </tr>\n",
       "    <tr>\n",
       "      <th>1</th>\n",
       "      <td>2021-10-13 07:00</td>\n",
       "    </tr>\n",
       "  </tbody>\n",
       "</table>\n",
       "</div>"
      ],
      "text/plain": [
       "        RECORD_TIME\n",
       "0  2021-10-13 07:30\n",
       "1  2021-10-13 07:00"
      ]
     },
     "execution_count": 3,
     "metadata": {},
     "output_type": "execute_result"
    }
   ],
   "source": [
    "timestamps"
   ]
  },
  {
   "cell_type": "code",
   "execution_count": 4,
   "id": "alternate-victory",
   "metadata": {
    "execution": {
     "iopub.execute_input": "2021-10-13T05:30:09.879299Z",
     "iopub.status.busy": "2021-10-13T05:30:09.877347Z",
     "iopub.status.idle": "2021-10-13T05:30:10.687116Z",
     "shell.execute_reply": "2021-10-13T05:30:10.688351Z"
    },
    "papermill": {
     "duration": 0.844583,
     "end_time": "2021-10-13T05:30:10.688795",
     "exception": false,
     "start_time": "2021-10-13T05:30:09.844212",
     "status": "completed"
    },
    "tags": []
   },
   "outputs": [],
   "source": [
    "df = pd.read_sql(\"select * from EBAY_TOP_BERLIN where record_time in (select distinct record_time from EBAY_TOP_BERLIN order by record_time desc limit 2)\", sqlite3.connect(\"UsedObjects.db\"))"
   ]
  },
  {
   "cell_type": "code",
   "execution_count": 5,
   "id": "popular-active",
   "metadata": {
    "execution": {
     "iopub.execute_input": "2021-10-13T05:30:10.760787Z",
     "iopub.status.busy": "2021-10-13T05:30:10.749453Z",
     "iopub.status.idle": "2021-10-13T05:30:10.776425Z",
     "shell.execute_reply": "2021-10-13T05:30:10.777800Z"
    },
    "papermill": {
     "duration": 0.067379,
     "end_time": "2021-10-13T05:30:10.778231",
     "exception": false,
     "start_time": "2021-10-13T05:30:10.710852",
     "status": "completed"
    },
    "tags": []
   },
   "outputs": [],
   "source": [
    "df_pivot = df.pivot_table(index=\"PRODUCT\", columns = \"RECORD_TIME\", values = \"LISTING_COUNT\")"
   ]
  },
  {
   "cell_type": "code",
   "execution_count": 6,
   "id": "union-huntington",
   "metadata": {
    "execution": {
     "iopub.execute_input": "2021-10-13T05:30:10.833628Z",
     "iopub.status.busy": "2021-10-13T05:30:10.831494Z",
     "iopub.status.idle": "2021-10-13T05:30:10.836665Z",
     "shell.execute_reply": "2021-10-13T05:30:10.838176Z"
    },
    "papermill": {
     "duration": 0.040175,
     "end_time": "2021-10-13T05:30:10.838623",
     "exception": false,
     "start_time": "2021-10-13T05:30:10.798448",
     "status": "completed"
    },
    "tags": []
   },
   "outputs": [],
   "source": [
    "df_pivot.columns = [\"stamp_1\", \"stamp_2\"]\n",
    "df_pivot_diff = df_pivot.diff(axis=1)"
   ]
  },
  {
   "cell_type": "code",
   "execution_count": 7,
   "id": "fifth-motion",
   "metadata": {
    "execution": {
     "iopub.execute_input": "2021-10-13T05:30:10.893904Z",
     "iopub.status.busy": "2021-10-13T05:30:10.891319Z",
     "iopub.status.idle": "2021-10-13T05:30:12.414845Z",
     "shell.execute_reply": "2021-10-13T05:30:12.416160Z"
    },
    "papermill": {
     "duration": 1.556589,
     "end_time": "2021-10-13T05:30:12.416588",
     "exception": false,
     "start_time": "2021-10-13T05:30:10.859999",
     "status": "completed"
    },
    "tags": []
   },
   "outputs": [
    {
     "data": {
      "text/plain": [
       "<AxesSubplot:ylabel='PRODUCT'>"
      ]
     },
     "execution_count": 7,
     "metadata": {},
     "output_type": "execute_result"
    },
    {
     "data": {
      "image/png": "[encoded data removed]",
      "text/plain": [
       "<Figure size 432x288 with 1 Axes>"
      ]
     },
     "metadata": {
      "needs_background": "light"
     },
     "output_type": "display_data"
    }
   ],
   "source": [
    "df_pivot_diff.sort_values(\"stamp_2\", ascending = False)[\"stamp_2\"].head(10).plot.barh()"
   ]
  },
  {
   "cell_type": "code",
   "execution_count": null,
   "id": "extra-executive",
   "metadata": {
    "papermill": {
     "duration": 0.022405,
     "end_time": "2021-10-13T05:30:12.464198",
     "exception": false,
     "start_time": "2021-10-13T05:30:12.441793",
     "status": "completed"
    },
    "tags": []
   },
   "outputs": [],
   "source": []
  }
 ],
 "metadata": {
  "kernelspec": {
   "display_name": "Python 3",
   "language": "python",
   "name": "python3"
  },
  "language_info": {
   "codemirror_mode": {
    "name": "ipython",
    "version": 3
   },
   "file_extension": ".py",
   "mimetype": "text/x-python",
   "name": "python",
   "nbconvert_exporter": "python",
   "pygments_lexer": "ipython3",
   "version": "3.9.5"
  },
  "papermill": {
   "default_parameters": {},
   "duration": 7.81804,
   "end_time": "2021-10-13T05:30:13.712497",
   "environment_variables": {},
   "exception": null,
   "input_path": "eBay_Overview.ipynb",
   "output_path": "eBay_Overview.ipynb",
   "parameters": {},
   "start_time": "2021-10-13T05:30:05.894457",
   "version": "2.3.3"
  }
 },
 "nbformat": 4,
 "nbformat_minor": 5
}