{
 "cells": [
  {
   "cell_type": "code",
   "execution_count": 1,
   "id": "reverse-picking",
   "metadata": {
    "execution": {
     "iopub.execute_input": "2021-11-12T21:00:07.424118Z",
     "iopub.status.busy": "2021-11-12T21:00:07.414320Z",
     "iopub.status.idle": "2021-11-12T21:00:08.374902Z",
     "shell.execute_reply": "2021-11-12T21:00:08.376565Z"
    },
    "papermill": {
     "duration": 1.009369,
     "end_time": "2021-11-12T21:00:08.377546",
     "exception": false,
     "start_time": "2021-11-12T21:00:07.368177",
     "status": "completed"
    },
    "tags": []
   },
   "outputs": [],
   "source": [
    "import pandas as pd\n",
    "import sqlite3"
   ]
  },
  {
   "cell_type": "code",
   "execution_count": 2,
   "id": "innovative-syndrome",
   "metadata": {
    "execution": {
     "iopub.execute_input": "2021-11-12T21:00:08.474278Z",
     "iopub.status.busy": "2021-11-12T21:00:08.471891Z",
     "iopub.status.idle": "2021-11-12T21:00:09.273615Z",
     "shell.execute_reply": "2021-11-12T21:00:09.274887Z"
    },
    "papermill": {
     "duration": 0.877136,
     "end_time": "2021-11-12T21:00:09.275291",
     "exception": false,
     "start_time": "2021-11-12T21:00:08.398155",
     "status": "completed"
    },
    "tags": []
   },
   "outputs": [],
   "source": [
    "timestamps = pd.read_sql(\"select distinct record_time from EBAY_TOP_BERLIN order by record_time desc limit 2\", sqlite3.connect(\"UsedObjects.db\"))"
   ]
  },
  {
   "cell_type": "code",
   "execution_count": 3,
   "id": "periodic-identification",
   "metadata": {
    "execution": {
     "iopub.execute_input": "2021-11-12T21:00:09.342408Z",
     "iopub.status.busy": "2021-11-12T21:00:09.337026Z",
     "iopub.status.idle": "2021-11-12T21:00:09.359065Z",
     "shell.execute_reply": "2021-11-12T21:00:09.360739Z"
    },
    "papermill": {
     "duration": 0.066886,
     "end_time": "2021-11-12T21:00:09.361296",
     "exception": false,
     "start_time": "2021-11-12T21:00:09.294410",
     "status": "completed"
    },
    "tags": []
   },
   "outputs": [
    {
     "data": {
      "text/html": [
       "<div>\n",
       "<style scoped>\n",
       "    .dataframe tbody tr th:only-of-type {\n",
       "        vertical-align: middle;\n",
       "    }\n",
       "\n",
       "    .dataframe tbody tr th {\n",
       "        vertical-align: top;\n",
       "    }\n",
       "\n",
       "    .dataframe thead th {\n",
       "        text-align: right;\n",
       "    }\n",
       "</style>\n",
       "<table border=\"1\" class=\"dataframe\">\n",
       "  <thead>\n",
       "    <tr style=\"text-align: right;\">\n",
       "      <th></th>\n",
       "      <th>RECORD_TIME</th>\n",
       "    </tr>\n",
       "  </thead>\n",
       "  <tbody>\n",
       "    <tr>\n",
       "      <th>0</th>\n",
       "      <td>2021-11-12 22:00</td>\n",
       "    </tr>\n",
       "    <tr>\n",
       "      <th>1</th>\n",
       "      <td>2021-11-12 21:30</td>\n",
       "    </tr>\n",
       "  </tbody>\n",
       "</table>\n",
       "</div>"
      ],
      "text/plain": [
       "        RECORD_TIME\n",
       "0  2021-11-12 22:00\n",
       "1  2021-11-12 21:30"
      ]
     },
     "execution_count": 3,
     "metadata": {},
     "output_type": "execute_result"
    }
   ],
   "source": [
    "timestamps"
   ]
  },
  {
   "cell_type": "code",
   "execution_count": 4,
   "id": "alternate-victory",
   "metadata": {
    "execution": {
     "iopub.execute_input": "2021-11-12T21:00:09.416108Z",
     "iopub.status.busy": "2021-11-12T21:00:09.413985Z",
     "iopub.status.idle": "2021-11-12T21:00:10.598881Z",
     "shell.execute_reply": "2021-11-12T21:00:10.600300Z"
    },
    "papermill": {
     "duration": 1.216842,
     "end_time": "2021-11-12T21:00:10.600832",
     "exception": false,
     "start_time": "2021-11-12T21:00:09.383990",
     "status": "completed"
    },
    "tags": []
   },
   "outputs": [],
   "source": [
    "df = pd.read_sql(\"select * from EBAY_TOP_BERLIN where record_time in (select distinct record_time from EBAY_TOP_BERLIN order by record_time desc limit 2)\", sqlite3.connect(\"UsedObjects.db\"))"
   ]
  },
  {
   "cell_type": "code",
   "execution_count": 5,
   "id": "popular-active",
   "metadata": {
    "execution": {
     "iopub.execute_input": "2021-11-12T21:00:10.674791Z",
     "iopub.status.busy": "2021-11-12T21:00:10.662629Z",
     "iopub.status.idle": "2021-11-12T21:00:10.694721Z",
     "shell.execute_reply": "2021-11-12T21:00:10.696448Z"
    },
    "papermill": {
     "duration": 0.075742,
     "end_time": "2021-11-12T21:00:10.697111",
     "exception": false,
     "start_time": "2021-11-12T21:00:10.621369",
     "status": "completed"
    },
    "tags": []
   },
   "outputs": [],
   "source": [
    "df_pivot = df.pivot_table(index=\"PRODUCT\", columns = \"RECORD_TIME\", values = \"LISTING_COUNT\")"
   ]
  },
  {
   "cell_type": "code",
   "execution_count": 6,
   "id": "union-huntington",
   "metadata": {
    "execution": {
     "iopub.execute_input": "2021-11-12T21:00:10.760175Z",
     "iopub.status.busy": "2021-11-12T21:00:10.757679Z",
     "iopub.status.idle": "2021-11-12T21:00:10.764921Z",
     "shell.execute_reply": "2021-11-12T21:00:10.767018Z"
    },
    "papermill": {
     "duration": 0.047627,
     "end_time": "2021-11-12T21:00:10.767756",
     "exception": false,
     "start_time": "2021-11-12T21:00:10.720129",
     "status": "completed"
    },
    "tags": []
   },
   "outputs": [],
   "source": [
    "df_pivot.columns = [\"stamp_1\", \"stamp_2\"]\n",
    "df_pivot_diff = df_pivot.diff(axis=1)"
   ]
  },
  {
   "cell_type": "code",
   "execution_count": 7,
   "id": "fifth-motion",
   "metadata": {
    "execution": {
     "iopub.execute_input": "2021-11-12T21:00:10.828993Z",
     "iopub.status.busy": "2021-11-12T21:00:10.826458Z",
     "iopub.status.idle": "2021-11-12T21:00:12.832749Z",
     "shell.execute_reply": "2021-11-12T21:00:12.835680Z"
    },
    "papermill": {
     "duration": 2.045071,
     "end_time": "2021-11-12T21:00:12.836547",
     "exception": false,
     "start_time": "2021-11-12T21:00:10.791476",
     "status": "completed"
    },
    "tags": []
   },
   "outputs": [
    {
     "data": {
      "text/plain": [
       "<AxesSubplot:ylabel='PRODUCT'>"
      ]
     },
     "execution_count": 7,
     "metadata": {},
     "output_type": "execute_result"
    },
    {
     "data": {
      "image/png": "[encoded data removed]",
      "text/plain": [
       "<Figure size 432x288 with 1 Axes>"
      ]
     },
     "metadata": {
      "needs_background": "light"
     },
     "output_type": "display_data"
    }
   ],
   "source": [
    "df_pivot_diff.sort_values(\"stamp_2\", ascending = False)[\"stamp_2\"].head(10).plot.barh()"
   ]
  },
  {
   "cell_type": "code",
   "execution_count": null,
   "id": "extra-executive",
   "metadata": {
    "papermill": {
     "duration": 0.027293,
     "end_time": "2021-11-12T21:00:12.895660",
     "exception": false,
     "start_time": "2021-11-12T21:00:12.868367",
     "status": "completed"
    },
    "tags": []
   },
   "outputs": [],
   "source": []
  }
 ],
 "metadata": {
  "kernelspec": {
   "display_name": "Python 3",
   "language": "python",
   "name": "python3"
  },
  "language_info": {
   "codemirror_mode": {
    "name": "ipython",
    "version": 3
   },
   "file_extension": ".py",
   "mimetype": "text/x-python",
   "name": "python",
   "nbconvert_exporter": "python",
   "pygments_lexer": "ipython3",
   "version": "3.9.5"
  },
  "papermill": {
   "default_parameters": {},
   "duration": 8.90553,
   "end_time": "2021-11-12T21:00:13.547721",
   "environment_variables": {},
   "exception": null,
   "input_path": "eBay_Overview.ipynb",
   "output_path": "eBay_Overview.ipynb",
   "parameters": {},
   "start_time": "2021-11-12T21:00:04.642191",
   "version": "2.3.3"
  }
 },
 "nbformat": 4,
 "nbformat_minor": 5
}