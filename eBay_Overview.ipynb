{
 "cells": [
  {
   "cell_type": "code",
   "execution_count": 1,
   "id": "reverse-picking",
   "metadata": {
    "execution": {
     "iopub.execute_input": "2021-10-12T01:30:07.475737Z",
     "iopub.status.busy": "2021-10-12T01:30:07.473811Z",
     "iopub.status.idle": "2021-10-12T01:30:08.278564Z",
     "shell.execute_reply": "2021-10-12T01:30:08.279820Z"
    },
    "papermill": {
     "duration": 0.854451,
     "end_time": "2021-10-12T01:30:08.280436",
     "exception": false,
     "start_time": "2021-10-12T01:30:07.425985",
     "status": "completed"
    },
    "tags": []
   },
   "outputs": [],
   "source": [
    "import pandas as pd\n",
    "import sqlite3"
   ]
  },
  {
   "cell_type": "code",
   "execution_count": 2,
   "id": "innovative-syndrome",
   "metadata": {
    "execution": {
     "iopub.execute_input": "2021-10-12T01:30:08.331115Z",
     "iopub.status.busy": "2021-10-12T01:30:08.329211Z",
     "iopub.status.idle": "2021-10-12T01:30:08.851073Z",
     "shell.execute_reply": "2021-10-12T01:30:08.852431Z"
    },
    "papermill": {
     "duration": 0.551518,
     "end_time": "2021-10-12T01:30:08.852931",
     "exception": false,
     "start_time": "2021-10-12T01:30:08.301413",
     "status": "completed"
    },
    "tags": []
   },
   "outputs": [],
   "source": [
    "timestamps = pd.read_sql(\"select distinct record_time from EBAY_TOP_BERLIN order by record_time desc limit 2\", sqlite3.connect(\"UsedObjects.db\"))"
   ]
  },
  {
   "cell_type": "code",
   "execution_count": 3,
   "id": "periodic-identification",
   "metadata": {
    "execution": {
     "iopub.execute_input": "2021-10-12T01:30:08.916269Z",
     "iopub.status.busy": "2021-10-12T01:30:08.914242Z",
     "iopub.status.idle": "2021-10-12T01:30:08.934321Z",
     "shell.execute_reply": "2021-10-12T01:30:08.935632Z"
    },
    "papermill": {
     "duration": 0.063311,
     "end_time": "2021-10-12T01:30:08.936044",
     "exception": false,
     "start_time": "2021-10-12T01:30:08.872733",
     "status": "completed"
    },
    "tags": []
   },
   "outputs": [
    {
     "data": {
      "text/html": [
       "<div>\n",
       "<style scoped>\n",
       "    .dataframe tbody tr th:only-of-type {\n",
       "        vertical-align: middle;\n",
       "    }\n",
       "\n",
       "    .dataframe tbody tr th {\n",
       "        vertical-align: top;\n",
       "    }\n",
       "\n",
       "    .dataframe thead th {\n",
       "        text-align: right;\n",
       "    }\n",
       "</style>\n",
       "<table border=\"1\" class=\"dataframe\">\n",
       "  <thead>\n",
       "    <tr style=\"text-align: right;\">\n",
       "      <th></th>\n",
       "      <th>RECORD_TIME</th>\n",
       "    </tr>\n",
       "  </thead>\n",
       "  <tbody>\n",
       "    <tr>\n",
       "      <th>0</th>\n",
       "      <td>2021-10-12 03:30</td>\n",
       "    </tr>\n",
       "    <tr>\n",
       "      <th>1</th>\n",
       "      <td>2021-10-12 03:00</td>\n",
       "    </tr>\n",
       "  </tbody>\n",
       "</table>\n",
       "</div>"
      ],
      "text/plain": [
       "        RECORD_TIME\n",
       "0  2021-10-12 03:30\n",
       "1  2021-10-12 03:00"
      ]
     },
     "execution_count": 3,
     "metadata": {},
     "output_type": "execute_result"
    }
   ],
   "source": [
    "timestamps"
   ]
  },
  {
   "cell_type": "code",
   "execution_count": 4,
   "id": "alternate-victory",
   "metadata": {
    "execution": {
     "iopub.execute_input": "2021-10-12T01:30:09.002996Z",
     "iopub.status.busy": "2021-10-12T01:30:09.000624Z",
     "iopub.status.idle": "2021-10-12T01:30:09.760859Z",
     "shell.execute_reply": "2021-10-12T01:30:09.762256Z"
    },
    "papermill": {
     "duration": 0.795675,
     "end_time": "2021-10-12T01:30:09.762678",
     "exception": false,
     "start_time": "2021-10-12T01:30:08.967003",
     "status": "completed"
    },
    "tags": []
   },
   "outputs": [],
   "source": [
    "df = pd.read_sql(\"select * from EBAY_TOP_BERLIN where record_time in (select distinct record_time from EBAY_TOP_BERLIN order by record_time desc limit 2)\", sqlite3.connect(\"UsedObjects.db\"))"
   ]
  },
  {
   "cell_type": "code",
   "execution_count": 5,
   "id": "popular-active",
   "metadata": {
    "execution": {
     "iopub.execute_input": "2021-10-12T01:30:09.833872Z",
     "iopub.status.busy": "2021-10-12T01:30:09.821502Z",
     "iopub.status.idle": "2021-10-12T01:30:09.849464Z",
     "shell.execute_reply": "2021-10-12T01:30:09.850715Z"
    },
    "papermill": {
     "duration": 0.068437,
     "end_time": "2021-10-12T01:30:09.851109",
     "exception": false,
     "start_time": "2021-10-12T01:30:09.782672",
     "status": "completed"
    },
    "tags": []
   },
   "outputs": [],
   "source": [
    "df_pivot = df.pivot_table(index=\"PRODUCT\", columns = \"RECORD_TIME\", values = \"LISTING_COUNT\")"
   ]
  },
  {
   "cell_type": "code",
   "execution_count": 6,
   "id": "union-huntington",
   "metadata": {
    "execution": {
     "iopub.execute_input": "2021-10-12T01:30:09.907305Z",
     "iopub.status.busy": "2021-10-12T01:30:09.905130Z",
     "iopub.status.idle": "2021-10-12T01:30:09.910583Z",
     "shell.execute_reply": "2021-10-12T01:30:09.911942Z"
    },
    "papermill": {
     "duration": 0.040755,
     "end_time": "2021-10-12T01:30:09.912375",
     "exception": false,
     "start_time": "2021-10-12T01:30:09.871620",
     "status": "completed"
    },
    "tags": []
   },
   "outputs": [],
   "source": [
    "df_pivot.columns = [\"stamp_1\", \"stamp_2\"]\n",
    "df_pivot_diff = df_pivot.diff(axis=1)"
   ]
  },
  {
   "cell_type": "code",
   "execution_count": 7,
   "id": "fifth-motion",
   "metadata": {
    "execution": {
     "iopub.execute_input": "2021-10-12T01:30:09.968528Z",
     "iopub.status.busy": "2021-10-12T01:30:09.965893Z",
     "iopub.status.idle": "2021-10-12T01:30:11.451357Z",
     "shell.execute_reply": "2021-10-12T01:30:11.452552Z"
    },
    "papermill": {
     "duration": 1.518676,
     "end_time": "2021-10-12T01:30:11.453040",
     "exception": false,
     "start_time": "2021-10-12T01:30:09.934364",
     "status": "completed"
    },
    "tags": []
   },
   "outputs": [
    {
     "data": {
      "text/plain": [
       "<AxesSubplot:ylabel='PRODUCT'>"
      ]
     },
     "execution_count": 7,
     "metadata": {},
     "output_type": "execute_result"
    },
    {
     "data": {
      "image/png": "[encoded data removed]",
      "text/plain": [
       "<Figure size 432x288 with 1 Axes>"
      ]
     },
     "metadata": {
      "needs_background": "light"
     },
     "output_type": "display_data"
    }
   ],
   "source": [
    "df_pivot_diff.sort_values(\"stamp_2\", ascending = False)[\"stamp_2\"].head(10).plot.barh()"
   ]
  },
  {
   "cell_type": "code",
   "execution_count": null,
   "id": "extra-executive",
   "metadata": {
    "papermill": {
     "duration": 0.021966,
     "end_time": "2021-10-12T01:30:11.498505",
     "exception": false,
     "start_time": "2021-10-12T01:30:11.476539",
     "status": "completed"
    },
    "tags": []
   },
   "outputs": [],
   "source": []
  }
 ],
 "metadata": {
  "kernelspec": {
   "display_name": "Python 3",
   "language": "python",
   "name": "python3"
  },
  "language_info": {
   "codemirror_mode": {
    "name": "ipython",
    "version": 3
   },
   "file_extension": ".py",
   "mimetype": "text/x-python",
   "name": "python",
   "nbconvert_exporter": "python",
   "pygments_lexer": "ipython3",
   "version": "3.9.5"
  },
  "papermill": {
   "default_parameters": {},
   "duration": 7.81873,
   "end_time": "2021-10-12T01:30:12.849219",
   "environment_variables": {},
   "exception": null,
   "input_path": "eBay_Overview.ipynb",
   "output_path": "eBay_Overview.ipynb",
   "parameters": {},
   "start_time": "2021-10-12T01:30:05.030489",
   "version": "2.3.3"
  }
 },
 "nbformat": 4,
 "nbformat_minor": 5
}