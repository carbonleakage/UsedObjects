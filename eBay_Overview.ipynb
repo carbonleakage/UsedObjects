{
 "cells": [
  {
   "cell_type": "code",
   "execution_count": 1,
   "id": "reverse-picking",
   "metadata": {
    "execution": {
     "iopub.execute_input": "2021-09-12T04:30:06.568604Z",
     "iopub.status.busy": "2021-09-12T04:30:06.566594Z",
     "iopub.status.idle": "2021-09-12T04:30:07.376996Z",
     "shell.execute_reply": "2021-09-12T04:30:07.378307Z"
    },
    "papermill": {
     "duration": 0.861062,
     "end_time": "2021-09-12T04:30:07.379015",
     "exception": false,
     "start_time": "2021-09-12T04:30:06.517953",
     "status": "completed"
    },
    "tags": []
   },
   "outputs": [],
   "source": [
    "import pandas as pd\n",
    "import sqlite3"
   ]
  },
  {
   "cell_type": "code",
   "execution_count": 2,
   "id": "innovative-syndrome",
   "metadata": {
    "execution": {
     "iopub.execute_input": "2021-09-12T04:30:07.430215Z",
     "iopub.status.busy": "2021-09-12T04:30:07.428187Z",
     "iopub.status.idle": "2021-09-12T04:30:07.695132Z",
     "shell.execute_reply": "2021-09-12T04:30:07.696362Z"
    },
    "papermill": {
     "duration": 0.297404,
     "end_time": "2021-09-12T04:30:07.696752",
     "exception": false,
     "start_time": "2021-09-12T04:30:07.399348",
     "status": "completed"
    },
    "tags": []
   },
   "outputs": [],
   "source": [
    "timestamps = pd.read_sql(\"select distinct record_time from EBAY_TOP_BERLIN order by record_time desc limit 2\", sqlite3.connect(\"UsedObjects.db\"))"
   ]
  },
  {
   "cell_type": "code",
   "execution_count": 3,
   "id": "periodic-identification",
   "metadata": {
    "execution": {
     "iopub.execute_input": "2021-09-12T04:30:07.768686Z",
     "iopub.status.busy": "2021-09-12T04:30:07.763518Z",
     "iopub.status.idle": "2021-09-12T04:30:07.784213Z",
     "shell.execute_reply": "2021-09-12T04:30:07.785390Z"
    },
    "papermill": {
     "duration": 0.066405,
     "end_time": "2021-09-12T04:30:07.785810",
     "exception": false,
     "start_time": "2021-09-12T04:30:07.719405",
     "status": "completed"
    },
    "tags": []
   },
   "outputs": [
    {
     "data": {
      "text/html": [
       "<div>\n",
       "<style scoped>\n",
       "    .dataframe tbody tr th:only-of-type {\n",
       "        vertical-align: middle;\n",
       "    }\n",
       "\n",
       "    .dataframe tbody tr th {\n",
       "        vertical-align: top;\n",
       "    }\n",
       "\n",
       "    .dataframe thead th {\n",
       "        text-align: right;\n",
       "    }\n",
       "</style>\n",
       "<table border=\"1\" class=\"dataframe\">\n",
       "  <thead>\n",
       "    <tr style=\"text-align: right;\">\n",
       "      <th></th>\n",
       "      <th>RECORD_TIME</th>\n",
       "    </tr>\n",
       "  </thead>\n",
       "  <tbody>\n",
       "    <tr>\n",
       "      <th>0</th>\n",
       "      <td>2021-09-12 06:30</td>\n",
       "    </tr>\n",
       "    <tr>\n",
       "      <th>1</th>\n",
       "      <td>2021-09-12 06:00</td>\n",
       "    </tr>\n",
       "  </tbody>\n",
       "</table>\n",
       "</div>"
      ],
      "text/plain": [
       "        RECORD_TIME\n",
       "0  2021-09-12 06:30\n",
       "1  2021-09-12 06:00"
      ]
     },
     "execution_count": 3,
     "metadata": {},
     "output_type": "execute_result"
    }
   ],
   "source": [
    "timestamps"
   ]
  },
  {
   "cell_type": "code",
   "execution_count": 4,
   "id": "alternate-victory",
   "metadata": {
    "execution": {
     "iopub.execute_input": "2021-09-12T04:30:07.837818Z",
     "iopub.status.busy": "2021-09-12T04:30:07.835553Z",
     "iopub.status.idle": "2021-09-12T04:30:08.224538Z",
     "shell.execute_reply": "2021-09-12T04:30:08.225734Z"
    },
    "papermill": {
     "duration": 0.419224,
     "end_time": "2021-09-12T04:30:08.226125",
     "exception": false,
     "start_time": "2021-09-12T04:30:07.806901",
     "status": "completed"
    },
    "tags": []
   },
   "outputs": [],
   "source": [
    "df = pd.read_sql(\"select * from EBAY_TOP_BERLIN where record_time in (select distinct record_time from EBAY_TOP_BERLIN order by record_time desc limit 2)\", sqlite3.connect(\"UsedObjects.db\"))"
   ]
  },
  {
   "cell_type": "code",
   "execution_count": 5,
   "id": "popular-active",
   "metadata": {
    "execution": {
     "iopub.execute_input": "2021-09-12T04:30:08.307299Z",
     "iopub.status.busy": "2021-09-12T04:30:08.294717Z",
     "iopub.status.idle": "2021-09-12T04:30:08.324649Z",
     "shell.execute_reply": "2021-09-12T04:30:08.326007Z"
    },
    "papermill": {
     "duration": 0.073087,
     "end_time": "2021-09-12T04:30:08.326437",
     "exception": false,
     "start_time": "2021-09-12T04:30:08.253350",
     "status": "completed"
    },
    "tags": []
   },
   "outputs": [],
   "source": [
    "df_pivot = df.pivot_table(index=\"PRODUCT\", columns = \"RECORD_TIME\", values = \"LISTING_COUNT\")"
   ]
  },
  {
   "cell_type": "code",
   "execution_count": 6,
   "id": "union-huntington",
   "metadata": {
    "execution": {
     "iopub.execute_input": "2021-09-12T04:30:08.383456Z",
     "iopub.status.busy": "2021-09-12T04:30:08.381103Z",
     "iopub.status.idle": "2021-09-12T04:30:08.386745Z",
     "shell.execute_reply": "2021-09-12T04:30:08.388028Z"
    },
    "papermill": {
     "duration": 0.041846,
     "end_time": "2021-09-12T04:30:08.388459",
     "exception": false,
     "start_time": "2021-09-12T04:30:08.346613",
     "status": "completed"
    },
    "tags": []
   },
   "outputs": [],
   "source": [
    "df_pivot.columns = [\"stamp_1\", \"stamp_2\"]\n",
    "df_pivot_diff = df_pivot.diff(axis=1)"
   ]
  },
  {
   "cell_type": "code",
   "execution_count": 7,
   "id": "fifth-motion",
   "metadata": {
    "execution": {
     "iopub.execute_input": "2021-09-12T04:30:08.443149Z",
     "iopub.status.busy": "2021-09-12T04:30:08.440893Z",
     "iopub.status.idle": "2021-09-12T04:30:09.948186Z",
     "shell.execute_reply": "2021-09-12T04:30:09.949469Z"
    },
    "papermill": {
     "duration": 1.539968,
     "end_time": "2021-09-12T04:30:09.949884",
     "exception": false,
     "start_time": "2021-09-12T04:30:08.409916",
     "status": "completed"
    },
    "tags": []
   },
   "outputs": [
    {
     "data": {
      "text/plain": [
       "<AxesSubplot:ylabel='PRODUCT'>"
      ]
     },
     "execution_count": 7,
     "metadata": {},
     "output_type": "execute_result"
    },
    {
     "data": {
      "image/png": "[encoded data removed]",
      "text/plain": [
       "<Figure size 432x288 with 1 Axes>"
      ]
     },
     "metadata": {
      "needs_background": "light"
     },
     "output_type": "display_data"
    }
   ],
   "source": [
    "df_pivot_diff.sort_values(\"stamp_2\", ascending = False)[\"stamp_2\"].head(10).plot.barh()"
   ]
  },
  {
   "cell_type": "code",
   "execution_count": null,
   "id": "extra-executive",
   "metadata": {
    "papermill": {
     "duration": 0.022051,
     "end_time": "2021-09-12T04:30:09.996468",
     "exception": false,
     "start_time": "2021-09-12T04:30:09.974417",
     "status": "completed"
    },
    "tags": []
   },
   "outputs": [],
   "source": []
  }
 ],
 "metadata": {
  "kernelspec": {
   "display_name": "Python 3",
   "language": "python",
   "name": "python3"
  },
  "language_info": {
   "codemirror_mode": {
    "name": "ipython",
    "version": 3
   },
   "file_extension": ".py",
   "mimetype": "text/x-python",
   "name": "python",
   "nbconvert_exporter": "python",
   "pygments_lexer": "ipython3",
   "version": "3.9.5"
  },
  "papermill": {
   "default_parameters": {},
   "duration": 6.53292,
   "end_time": "2021-09-12T04:30:10.636925",
   "environment_variables": {},
   "exception": null,
   "input_path": "eBay_Overview.ipynb",
   "output_path": "eBay_Overview.ipynb",
   "parameters": {},
   "start_time": "2021-09-12T04:30:04.104005",
   "version": "2.3.3"
  }
 },
 "nbformat": 4,
 "nbformat_minor": 5
}