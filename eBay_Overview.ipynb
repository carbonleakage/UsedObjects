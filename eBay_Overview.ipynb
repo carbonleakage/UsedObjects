{
 "cells": [
  {
   "cell_type": "code",
   "execution_count": 1,
   "id": "reverse-picking",
   "metadata": {
    "execution": {
     "iopub.execute_input": "2021-11-30T13:00:07.636154Z",
     "iopub.status.busy": "2021-11-30T13:00:07.633454Z",
     "iopub.status.idle": "2021-11-30T13:00:08.593412Z",
     "shell.execute_reply": "2021-11-30T13:00:08.595075Z"
    },
    "papermill": {
     "duration": 1.003411,
     "end_time": "2021-11-30T13:00:08.595825",
     "exception": false,
     "start_time": "2021-11-30T13:00:07.592414",
     "status": "completed"
    },
    "tags": []
   },
   "outputs": [],
   "source": [
    "import pandas as pd\n",
    "import sqlite3"
   ]
  },
  {
   "cell_type": "code",
   "execution_count": 2,
   "id": "innovative-syndrome",
   "metadata": {
    "execution": {
     "iopub.execute_input": "2021-11-30T13:00:08.659738Z",
     "iopub.status.busy": "2021-11-30T13:00:08.655022Z",
     "iopub.status.idle": "2021-11-30T13:00:09.611136Z",
     "shell.execute_reply": "2021-11-30T13:00:09.612486Z"
    },
    "papermill": {
     "duration": 0.989973,
     "end_time": "2021-11-30T13:00:09.613001",
     "exception": false,
     "start_time": "2021-11-30T13:00:08.623028",
     "status": "completed"
    },
    "tags": []
   },
   "outputs": [],
   "source": [
    "timestamps = pd.read_sql(\"select distinct record_time from EBAY_TOP_BERLIN order by record_time desc limit 2\", sqlite3.connect(\"UsedObjects.db\"))"
   ]
  },
  {
   "cell_type": "code",
   "execution_count": 3,
   "id": "periodic-identification",
   "metadata": {
    "execution": {
     "iopub.execute_input": "2021-11-30T13:00:09.686118Z",
     "iopub.status.busy": "2021-11-30T13:00:09.678987Z",
     "iopub.status.idle": "2021-11-30T13:00:09.706162Z",
     "shell.execute_reply": "2021-11-30T13:00:09.707586Z"
    },
    "papermill": {
     "duration": 0.073981,
     "end_time": "2021-11-30T13:00:09.708021",
     "exception": false,
     "start_time": "2021-11-30T13:00:09.634040",
     "status": "completed"
    },
    "tags": []
   },
   "outputs": [
    {
     "data": {
      "text/html": [
       "<div>\n",
       "<style scoped>\n",
       "    .dataframe tbody tr th:only-of-type {\n",
       "        vertical-align: middle;\n",
       "    }\n",
       "\n",
       "    .dataframe tbody tr th {\n",
       "        vertical-align: top;\n",
       "    }\n",
       "\n",
       "    .dataframe thead th {\n",
       "        text-align: right;\n",
       "    }\n",
       "</style>\n",
       "<table border=\"1\" class=\"dataframe\">\n",
       "  <thead>\n",
       "    <tr style=\"text-align: right;\">\n",
       "      <th></th>\n",
       "      <th>RECORD_TIME</th>\n",
       "    </tr>\n",
       "  </thead>\n",
       "  <tbody>\n",
       "    <tr>\n",
       "      <th>0</th>\n",
       "      <td>2021-11-30 14:00</td>\n",
       "    </tr>\n",
       "    <tr>\n",
       "      <th>1</th>\n",
       "      <td>2021-11-30 13:30</td>\n",
       "    </tr>\n",
       "  </tbody>\n",
       "</table>\n",
       "</div>"
      ],
      "text/plain": [
       "        RECORD_TIME\n",
       "0  2021-11-30 14:00\n",
       "1  2021-11-30 13:30"
      ]
     },
     "execution_count": 3,
     "metadata": {},
     "output_type": "execute_result"
    }
   ],
   "source": [
    "timestamps"
   ]
  },
  {
   "cell_type": "code",
   "execution_count": 4,
   "id": "alternate-victory",
   "metadata": {
    "execution": {
     "iopub.execute_input": "2021-11-30T13:00:09.759492Z",
     "iopub.status.busy": "2021-11-30T13:00:09.757434Z",
     "iopub.status.idle": "2021-11-30T13:00:11.151784Z",
     "shell.execute_reply": "2021-11-30T13:00:11.153398Z"
    },
    "papermill": {
     "duration": 1.425296,
     "end_time": "2021-11-30T13:00:11.153885",
     "exception": false,
     "start_time": "2021-11-30T13:00:09.728589",
     "status": "completed"
    },
    "tags": []
   },
   "outputs": [],
   "source": [
    "df = pd.read_sql(\"select * from EBAY_TOP_BERLIN where record_time in (select distinct record_time from EBAY_TOP_BERLIN order by record_time desc limit 2)\", sqlite3.connect(\"UsedObjects.db\"))"
   ]
  },
  {
   "cell_type": "code",
   "execution_count": 5,
   "id": "popular-active",
   "metadata": {
    "execution": {
     "iopub.execute_input": "2021-11-30T13:00:11.231469Z",
     "iopub.status.busy": "2021-11-30T13:00:11.215333Z",
     "iopub.status.idle": "2021-11-30T13:00:11.251675Z",
     "shell.execute_reply": "2021-11-30T13:00:11.253407Z"
    },
    "papermill": {
     "duration": 0.079425,
     "end_time": "2021-11-30T13:00:11.253920",
     "exception": false,
     "start_time": "2021-11-30T13:00:11.174495",
     "status": "completed"
    },
    "tags": []
   },
   "outputs": [],
   "source": [
    "df_pivot = df.pivot_table(index=\"PRODUCT\", columns = \"RECORD_TIME\", values = \"LISTING_COUNT\")"
   ]
  },
  {
   "cell_type": "code",
   "execution_count": 6,
   "id": "union-huntington",
   "metadata": {
    "execution": {
     "iopub.execute_input": "2021-11-30T13:00:11.319978Z",
     "iopub.status.busy": "2021-11-30T13:00:11.317629Z",
     "iopub.status.idle": "2021-11-30T13:00:11.323348Z",
     "shell.execute_reply": "2021-11-30T13:00:11.324914Z"
    },
    "papermill": {
     "duration": 0.050239,
     "end_time": "2021-11-30T13:00:11.325393",
     "exception": false,
     "start_time": "2021-11-30T13:00:11.275154",
     "status": "completed"
    },
    "tags": []
   },
   "outputs": [],
   "source": [
    "df_pivot.columns = [\"stamp_1\", \"stamp_2\"]\n",
    "df_pivot_diff = df_pivot.diff(axis=1)"
   ]
  },
  {
   "cell_type": "code",
   "execution_count": 7,
   "id": "fifth-motion",
   "metadata": {
    "execution": {
     "iopub.execute_input": "2021-11-30T13:00:11.384336Z",
     "iopub.status.busy": "2021-11-30T13:00:11.381840Z",
     "iopub.status.idle": "2021-11-30T13:00:13.323293Z",
     "shell.execute_reply": "2021-11-30T13:00:13.326225Z"
    },
    "papermill": {
     "duration": 1.980173,
     "end_time": "2021-11-30T13:00:13.327083",
     "exception": false,
     "start_time": "2021-11-30T13:00:11.346910",
     "status": "completed"
    },
    "tags": []
   },
   "outputs": [
    {
     "data": {
      "text/plain": [
       "<AxesSubplot:ylabel='PRODUCT'>"
      ]
     },
     "execution_count": 7,
     "metadata": {},
     "output_type": "execute_result"
    },
    {
     "data": {
      "image/png": "[encoded data removed]",
      "text/plain": [
       "<Figure size 432x288 with 1 Axes>"
      ]
     },
     "metadata": {
      "needs_background": "light"
     },
     "output_type": "display_data"
    }
   ],
   "source": [
    "df_pivot_diff.sort_values(\"stamp_2\", ascending = False)[\"stamp_2\"].head(10).plot.barh()"
   ]
  },
  {
   "cell_type": "code",
   "execution_count": null,
   "id": "extra-executive",
   "metadata": {
    "papermill": {
     "duration": 0.035883,
     "end_time": "2021-11-30T13:00:13.399553",
     "exception": false,
     "start_time": "2021-11-30T13:00:13.363670",
     "status": "completed"
    },
    "tags": []
   },
   "outputs": [],
   "source": []
  }
 ],
 "metadata": {
  "kernelspec": {
   "display_name": "Python 3",
   "language": "python",
   "name": "python3"
  },
  "language_info": {
   "codemirror_mode": {
    "name": "ipython",
    "version": 3
   },
   "file_extension": ".py",
   "mimetype": "text/x-python",
   "name": "python",
   "nbconvert_exporter": "python",
   "pygments_lexer": "ipython3",
   "version": "3.9.5"
  },
  "papermill": {
   "default_parameters": {},
   "duration": 9.932034,
   "end_time": "2021-11-30T13:00:14.821631",
   "environment_variables": {},
   "exception": null,
   "input_path": "eBay_Overview.ipynb",
   "output_path": "eBay_Overview.ipynb",
   "parameters": {},
   "start_time": "2021-11-30T13:00:04.889597",
   "version": "2.3.3"
  }
 },
 "nbformat": 4,
 "nbformat_minor": 5
}