{
 "cells": [
  {
   "cell_type": "code",
   "execution_count": 1,
   "id": "reverse-picking",
   "metadata": {
    "execution": {
     "iopub.execute_input": "2021-09-10T15:30:06.936785Z",
     "iopub.status.busy": "2021-09-10T15:30:06.934788Z",
     "iopub.status.idle": "2021-09-10T15:30:07.746565Z",
     "shell.execute_reply": "2021-09-10T15:30:07.745006Z"
    },
    "papermill": {
     "duration": 0.861946,
     "end_time": "2021-09-10T15:30:07.747144",
     "exception": false,
     "start_time": "2021-09-10T15:30:06.885198",
     "status": "completed"
    },
    "tags": []
   },
   "outputs": [],
   "source": [
    "import pandas as pd\n",
    "import sqlite3"
   ]
  },
  {
   "cell_type": "code",
   "execution_count": 2,
   "id": "innovative-syndrome",
   "metadata": {
    "execution": {
     "iopub.execute_input": "2021-09-10T15:30:07.800046Z",
     "iopub.status.busy": "2021-09-10T15:30:07.797663Z",
     "iopub.status.idle": "2021-09-10T15:30:08.055088Z",
     "shell.execute_reply": "2021-09-10T15:30:08.056319Z"
    },
    "papermill": {
     "duration": 0.287398,
     "end_time": "2021-09-10T15:30:08.056723",
     "exception": false,
     "start_time": "2021-09-10T15:30:07.769325",
     "status": "completed"
    },
    "tags": []
   },
   "outputs": [],
   "source": [
    "timestamps = pd.read_sql(\"select distinct record_time from EBAY_TOP_BERLIN order by record_time desc limit 2\", sqlite3.connect(\"UsedObjects.db\"))"
   ]
  },
  {
   "cell_type": "code",
   "execution_count": 3,
   "id": "periodic-identification",
   "metadata": {
    "execution": {
     "iopub.execute_input": "2021-09-10T15:30:08.120732Z",
     "iopub.status.busy": "2021-09-10T15:30:08.118625Z",
     "iopub.status.idle": "2021-09-10T15:30:08.138316Z",
     "shell.execute_reply": "2021-09-10T15:30:08.139733Z"
    },
    "papermill": {
     "duration": 0.064102,
     "end_time": "2021-09-10T15:30:08.140168",
     "exception": false,
     "start_time": "2021-09-10T15:30:08.076066",
     "status": "completed"
    },
    "tags": []
   },
   "outputs": [
    {
     "data": {
      "text/html": [
       "<div>\n",
       "<style scoped>\n",
       "    .dataframe tbody tr th:only-of-type {\n",
       "        vertical-align: middle;\n",
       "    }\n",
       "\n",
       "    .dataframe tbody tr th {\n",
       "        vertical-align: top;\n",
       "    }\n",
       "\n",
       "    .dataframe thead th {\n",
       "        text-align: right;\n",
       "    }\n",
       "</style>\n",
       "<table border=\"1\" class=\"dataframe\">\n",
       "  <thead>\n",
       "    <tr style=\"text-align: right;\">\n",
       "      <th></th>\n",
       "      <th>RECORD_TIME</th>\n",
       "    </tr>\n",
       "  </thead>\n",
       "  <tbody>\n",
       "    <tr>\n",
       "      <th>0</th>\n",
       "      <td>2021-09-10 17:30</td>\n",
       "    </tr>\n",
       "    <tr>\n",
       "      <th>1</th>\n",
       "      <td>2021-09-10 17:00</td>\n",
       "    </tr>\n",
       "  </tbody>\n",
       "</table>\n",
       "</div>"
      ],
      "text/plain": [
       "        RECORD_TIME\n",
       "0  2021-09-10 17:30\n",
       "1  2021-09-10 17:00"
      ]
     },
     "execution_count": 3,
     "metadata": {},
     "output_type": "execute_result"
    }
   ],
   "source": [
    "timestamps"
   ]
  },
  {
   "cell_type": "code",
   "execution_count": 4,
   "id": "alternate-victory",
   "metadata": {
    "execution": {
     "iopub.execute_input": "2021-09-10T15:30:08.191264Z",
     "iopub.status.busy": "2021-09-10T15:30:08.189311Z",
     "iopub.status.idle": "2021-09-10T15:30:08.572903Z",
     "shell.execute_reply": "2021-09-10T15:30:08.574123Z"
    },
    "papermill": {
     "duration": 0.413419,
     "end_time": "2021-09-10T15:30:08.574520",
     "exception": false,
     "start_time": "2021-09-10T15:30:08.161101",
     "status": "completed"
    },
    "tags": []
   },
   "outputs": [],
   "source": [
    "df = pd.read_sql(\"select * from EBAY_TOP_BERLIN where record_time in (select distinct record_time from EBAY_TOP_BERLIN order by record_time desc limit 2)\", sqlite3.connect(\"UsedObjects.db\"))"
   ]
  },
  {
   "cell_type": "code",
   "execution_count": 5,
   "id": "popular-active",
   "metadata": {
    "execution": {
     "iopub.execute_input": "2021-09-10T15:30:08.652781Z",
     "iopub.status.busy": "2021-09-10T15:30:08.641126Z",
     "iopub.status.idle": "2021-09-10T15:30:08.670167Z",
     "shell.execute_reply": "2021-09-10T15:30:08.671542Z"
    },
    "papermill": {
     "duration": 0.071689,
     "end_time": "2021-09-10T15:30:08.671971",
     "exception": false,
     "start_time": "2021-09-10T15:30:08.600282",
     "status": "completed"
    },
    "tags": []
   },
   "outputs": [],
   "source": [
    "df_pivot = df.pivot_table(index=\"PRODUCT\", columns = \"RECORD_TIME\", values = \"LISTING_COUNT\")"
   ]
  },
  {
   "cell_type": "code",
   "execution_count": 6,
   "id": "union-huntington",
   "metadata": {
    "execution": {
     "iopub.execute_input": "2021-09-10T15:30:08.728170Z",
     "iopub.status.busy": "2021-09-10T15:30:08.726054Z",
     "iopub.status.idle": "2021-09-10T15:30:08.731232Z",
     "shell.execute_reply": "2021-09-10T15:30:08.732450Z"
    },
    "papermill": {
     "duration": 0.040368,
     "end_time": "2021-09-10T15:30:08.732887",
     "exception": false,
     "start_time": "2021-09-10T15:30:08.692519",
     "status": "completed"
    },
    "tags": []
   },
   "outputs": [],
   "source": [
    "df_pivot.columns = [\"stamp_1\", \"stamp_2\"]\n",
    "df_pivot_diff = df_pivot.diff(axis=1)"
   ]
  },
  {
   "cell_type": "code",
   "execution_count": 7,
   "id": "fifth-motion",
   "metadata": {
    "execution": {
     "iopub.execute_input": "2021-09-10T15:30:08.787940Z",
     "iopub.status.busy": "2021-09-10T15:30:08.785364Z",
     "iopub.status.idle": "2021-09-10T15:30:10.266520Z",
     "shell.execute_reply": "2021-09-10T15:30:10.267969Z"
    },
    "papermill": {
     "duration": 1.514254,
     "end_time": "2021-09-10T15:30:10.268420",
     "exception": false,
     "start_time": "2021-09-10T15:30:08.754166",
     "status": "completed"
    },
    "tags": []
   },
   "outputs": [
    {
     "data": {
      "text/plain": [
       "<AxesSubplot:ylabel='PRODUCT'>"
      ]
     },
     "execution_count": 7,
     "metadata": {},
     "output_type": "execute_result"
    },
    {
     "data": {
      "image/png": "[encoded data removed]",
      "text/plain": [
       "<Figure size 432x288 with 1 Axes>"
      ]
     },
     "metadata": {
      "needs_background": "light"
     },
     "output_type": "display_data"
    }
   ],
   "source": [
    "df_pivot_diff.sort_values(\"stamp_2\", ascending = False)[\"stamp_2\"].head(10).plot.barh()"
   ]
  },
  {
   "cell_type": "code",
   "execution_count": null,
   "id": "extra-executive",
   "metadata": {
    "papermill": {
     "duration": 0.022986,
     "end_time": "2021-09-10T15:30:10.315967",
     "exception": false,
     "start_time": "2021-09-10T15:30:10.292981",
     "status": "completed"
    },
    "tags": []
   },
   "outputs": [],
   "source": []
  }
 ],
 "metadata": {
  "kernelspec": {
   "display_name": "Python 3",
   "language": "python",
   "name": "python3"
  },
  "language_info": {
   "codemirror_mode": {
    "name": "ipython",
    "version": 3
   },
   "file_extension": ".py",
   "mimetype": "text/x-python",
   "name": "python",
   "nbconvert_exporter": "python",
   "pygments_lexer": "ipython3",
   "version": "3.9.5"
  },
  "papermill": {
   "default_parameters": {},
   "duration": 6.480702,
   "end_time": "2021-09-10T15:30:10.956216",
   "environment_variables": {},
   "exception": null,
   "input_path": "eBay_Overview.ipynb",
   "output_path": "eBay_Overview.ipynb",
   "parameters": {},
   "start_time": "2021-09-10T15:30:04.475514",
   "version": "2.3.3"
  }
 },
 "nbformat": 4,
 "nbformat_minor": 5
}