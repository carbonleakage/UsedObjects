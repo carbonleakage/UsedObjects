{
 "cells": [
  {
   "cell_type": "code",
   "execution_count": 1,
   "id": "reverse-picking",
   "metadata": {
    "execution": {
     "iopub.execute_input": "2021-08-09T00:00:04.564981Z",
     "iopub.status.busy": "2021-08-09T00:00:04.564225Z",
     "iopub.status.idle": "2021-08-09T00:00:05.255357Z",
     "shell.execute_reply": "2021-08-09T00:00:05.255932Z"
    },
    "papermill": {
     "duration": 0.710582,
     "end_time": "2021-08-09T00:00:05.256236",
     "exception": false,
     "start_time": "2021-08-09T00:00:04.545654",
     "status": "completed"
    },
    "tags": []
   },
   "outputs": [],
   "source": [
    "import pandas as pd\n",
    "import sqlite3"
   ]
  },
  {
   "cell_type": "code",
   "execution_count": 2,
   "id": "innovative-syndrome",
   "metadata": {
    "execution": {
     "iopub.execute_input": "2021-08-09T00:00:05.287603Z",
     "iopub.status.busy": "2021-08-09T00:00:05.286600Z",
     "iopub.status.idle": "2021-08-09T00:00:05.487606Z",
     "shell.execute_reply": "2021-08-09T00:00:05.488132Z"
    },
    "papermill": {
     "duration": 0.221197,
     "end_time": "2021-08-09T00:00:05.488315",
     "exception": false,
     "start_time": "2021-08-09T00:00:05.267118",
     "status": "completed"
    },
    "tags": []
   },
   "outputs": [],
   "source": [
    "timestamps = pd.read_sql(\"select distinct record_time from EBAY_TOP_BERLIN order by record_time desc limit 2\", sqlite3.connect(\"UsedObjects.db\"))"
   ]
  },
  {
   "cell_type": "code",
   "execution_count": 3,
   "id": "periodic-identification",
   "metadata": {
    "execution": {
     "iopub.execute_input": "2021-08-09T00:00:05.521195Z",
     "iopub.status.busy": "2021-08-09T00:00:05.520426Z",
     "iopub.status.idle": "2021-08-09T00:00:05.535362Z",
     "shell.execute_reply": "2021-08-09T00:00:05.535932Z"
    },
    "papermill": {
     "duration": 0.039221,
     "end_time": "2021-08-09T00:00:05.536127",
     "exception": false,
     "start_time": "2021-08-09T00:00:05.496906",
     "status": "completed"
    },
    "tags": []
   },
   "outputs": [
    {
     "data": {
      "text/html": [
       "<div>\n",
       "<style scoped>\n",
       "    .dataframe tbody tr th:only-of-type {\n",
       "        vertical-align: middle;\n",
       "    }\n",
       "\n",
       "    .dataframe tbody tr th {\n",
       "        vertical-align: top;\n",
       "    }\n",
       "\n",
       "    .dataframe thead th {\n",
       "        text-align: right;\n",
       "    }\n",
       "</style>\n",
       "<table border=\"1\" class=\"dataframe\">\n",
       "  <thead>\n",
       "    <tr style=\"text-align: right;\">\n",
       "      <th></th>\n",
       "      <th>RECORD_TIME</th>\n",
       "    </tr>\n",
       "  </thead>\n",
       "  <tbody>\n",
       "    <tr>\n",
       "      <th>0</th>\n",
       "      <td>2021-08-09 02:00</td>\n",
       "    </tr>\n",
       "    <tr>\n",
       "      <th>1</th>\n",
       "      <td>2021-08-09 01:30</td>\n",
       "    </tr>\n",
       "  </tbody>\n",
       "</table>\n",
       "</div>"
      ],
      "text/plain": [
       "        RECORD_TIME\n",
       "0  2021-08-09 02:00\n",
       "1  2021-08-09 01:30"
      ]
     },
     "execution_count": 3,
     "metadata": {},
     "output_type": "execute_result"
    }
   ],
   "source": [
    "timestamps"
   ]
  },
  {
   "cell_type": "code",
   "execution_count": 4,
   "id": "alternate-victory",
   "metadata": {
    "execution": {
     "iopub.execute_input": "2021-08-09T00:00:05.570726Z",
     "iopub.status.busy": "2021-08-09T00:00:05.569507Z",
     "iopub.status.idle": "2021-08-09T00:00:05.581212Z",
     "shell.execute_reply": "2021-08-09T00:00:05.581926Z"
    },
    "papermill": {
     "duration": 0.034291,
     "end_time": "2021-08-09T00:00:05.582266",
     "exception": false,
     "start_time": "2021-08-09T00:00:05.547975",
     "status": "completed"
    },
    "tags": []
   },
   "outputs": [],
   "source": [
    "df = pd.read_sql(\"select * from EBAY_TOP_BERLIN where record_time in (select distinct record_time from EBAY_TOP_BERLIN order by record_time desc limit 2)\", sqlite3.connect(\"UsedObjects.db\"))"
   ]
  },
  {
   "cell_type": "code",
   "execution_count": 5,
   "id": "popular-active",
   "metadata": {
    "execution": {
     "iopub.execute_input": "2021-08-09T00:00:05.614497Z",
     "iopub.status.busy": "2021-08-09T00:00:05.613509Z",
     "iopub.status.idle": "2021-08-09T00:00:05.631607Z",
     "shell.execute_reply": "2021-08-09T00:00:05.630999Z"
    },
    "papermill": {
     "duration": 0.038509,
     "end_time": "2021-08-09T00:00:05.631770",
     "exception": false,
     "start_time": "2021-08-09T00:00:05.593261",
     "status": "completed"
    },
    "tags": []
   },
   "outputs": [],
   "source": [
    "df_pivot = df.pivot_table(index=\"PRODUCT\", columns = \"RECORD_TIME\", values = \"LISTING_COUNT\")"
   ]
  },
  {
   "cell_type": "code",
   "execution_count": 6,
   "id": "union-huntington",
   "metadata": {
    "execution": {
     "iopub.execute_input": "2021-08-09T00:00:05.656082Z",
     "iopub.status.busy": "2021-08-09T00:00:05.655344Z",
     "iopub.status.idle": "2021-08-09T00:00:05.662400Z",
     "shell.execute_reply": "2021-08-09T00:00:05.663214Z"
    },
    "papermill": {
     "duration": 0.023217,
     "end_time": "2021-08-09T00:00:05.663431",
     "exception": false,
     "start_time": "2021-08-09T00:00:05.640214",
     "status": "completed"
    },
    "tags": []
   },
   "outputs": [],
   "source": [
    "df_pivot.columns = [\"stamp_1\", \"stamp_2\"]\n",
    "df_pivot_diff = df_pivot.diff(axis=1)"
   ]
  },
  {
   "cell_type": "code",
   "execution_count": 7,
   "id": "fifth-motion",
   "metadata": {
    "execution": {
     "iopub.execute_input": "2021-08-09T00:00:05.697763Z",
     "iopub.status.busy": "2021-08-09T00:00:05.697010Z",
     "iopub.status.idle": "2021-08-09T00:00:06.382757Z",
     "shell.execute_reply": "2021-08-09T00:00:06.382029Z"
    },
    "papermill": {
     "duration": 0.705801,
     "end_time": "2021-08-09T00:00:06.382918",
     "exception": false,
     "start_time": "2021-08-09T00:00:05.677117",
     "status": "completed"
    },
    "tags": []
   },
   "outputs": [
    {
     "data": {
      "text/plain": [
       "<AxesSubplot:ylabel='PRODUCT'>"
      ]
     },
     "execution_count": 7,
     "metadata": {},
     "output_type": "execute_result"
    },
    {
     "data": {
      "image/png": "[encoded data removed]",
      "text/plain": [
       "<Figure size 432x288 with 1 Axes>"
      ]
     },
     "metadata": {
      "needs_background": "light"
     },
     "output_type": "display_data"
    }
   ],
   "source": [
    "df_pivot_diff.sort_values(\"stamp_2\", ascending = False)[\"stamp_2\"].head(10).plot.barh()"
   ]
  },
  {
   "cell_type": "code",
   "execution_count": null,
   "id": "extra-executive",
   "metadata": {
    "papermill": {
     "duration": 0.011474,
     "end_time": "2021-08-09T00:00:06.405409",
     "exception": false,
     "start_time": "2021-08-09T00:00:06.393935",
     "status": "completed"
    },
    "tags": []
   },
   "outputs": [],
   "source": []
  }
 ],
 "metadata": {
  "kernelspec": {
   "display_name": "Python 3",
   "language": "python",
   "name": "python3"
  },
  "language_info": {
   "codemirror_mode": {
    "name": "ipython",
    "version": 3
   },
   "file_extension": ".py",
   "mimetype": "text/x-python",
   "name": "python",
   "nbconvert_exporter": "python",
   "pygments_lexer": "ipython3",
   "version": "3.8.8"
  },
  "papermill": {
   "default_parameters": {},
   "duration": 5.081912,
   "end_time": "2021-08-09T00:00:07.902182",
   "environment_variables": {},
   "exception": null,
   "input_path": "/Users/saravananshanmugam/Carbonleakage_Git/UsedObjects/eBay_Overview.ipynb",
   "output_path": "/Users/saravananshanmugam/Carbonleakage_Git/UsedObjects/eBay_Overview.ipynb",
   "parameters": {},
   "start_time": "2021-08-09T00:00:02.820270",
   "version": "2.3.3"
  }
 },
 "nbformat": 4,
 "nbformat_minor": 5
}