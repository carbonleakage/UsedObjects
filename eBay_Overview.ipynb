{
 "cells": [
  {
   "cell_type": "code",
   "execution_count": 1,
   "id": "reverse-picking",
   "metadata": {
    "execution": {
     "iopub.execute_input": "2021-12-19T12:00:08.020019Z",
     "iopub.status.busy": "2021-12-19T12:00:08.017428Z",
     "iopub.status.idle": "2021-12-19T12:00:08.979573Z",
     "shell.execute_reply": "2021-12-19T12:00:08.981131Z"
    },
    "papermill": {
     "duration": 1.013225,
     "end_time": "2021-12-19T12:00:08.981861",
     "exception": false,
     "start_time": "2021-12-19T12:00:07.968636",
     "status": "completed"
    },
    "tags": []
   },
   "outputs": [],
   "source": [
    "import pandas as pd\n",
    "import sqlite3"
   ]
  },
  {
   "cell_type": "code",
   "execution_count": 2,
   "id": "innovative-syndrome",
   "metadata": {
    "execution": {
     "iopub.execute_input": "2021-12-19T12:00:09.050880Z",
     "iopub.status.busy": "2021-12-19T12:00:09.048549Z",
     "iopub.status.idle": "2021-12-19T12:00:10.179377Z",
     "shell.execute_reply": "2021-12-19T12:00:10.180668Z"
    },
    "papermill": {
     "duration": 1.166786,
     "end_time": "2021-12-19T12:00:10.181162",
     "exception": false,
     "start_time": "2021-12-19T12:00:09.014376",
     "status": "completed"
    },
    "tags": []
   },
   "outputs": [],
   "source": [
    "timestamps = pd.read_sql(\"select distinct record_time from EBAY_TOP_BERLIN order by record_time desc limit 2\", sqlite3.connect(\"UsedObjects.db\"))"
   ]
  },
  {
   "cell_type": "code",
   "execution_count": 3,
   "id": "periodic-identification",
   "metadata": {
    "execution": {
     "iopub.execute_input": "2021-12-19T12:00:10.247798Z",
     "iopub.status.busy": "2021-12-19T12:00:10.245757Z",
     "iopub.status.idle": "2021-12-19T12:00:10.266077Z",
     "shell.execute_reply": "2021-12-19T12:00:10.267426Z"
    },
    "papermill": {
     "duration": 0.067252,
     "end_time": "2021-12-19T12:00:10.267848",
     "exception": false,
     "start_time": "2021-12-19T12:00:10.200596",
     "status": "completed"
    },
    "tags": []
   },
   "outputs": [
    {
     "data": {
      "text/html": [
       "<div>\n",
       "<style scoped>\n",
       "    .dataframe tbody tr th:only-of-type {\n",
       "        vertical-align: middle;\n",
       "    }\n",
       "\n",
       "    .dataframe tbody tr th {\n",
       "        vertical-align: top;\n",
       "    }\n",
       "\n",
       "    .dataframe thead th {\n",
       "        text-align: right;\n",
       "    }\n",
       "</style>\n",
       "<table border=\"1\" class=\"dataframe\">\n",
       "  <thead>\n",
       "    <tr style=\"text-align: right;\">\n",
       "      <th></th>\n",
       "      <th>RECORD_TIME</th>\n",
       "    </tr>\n",
       "  </thead>\n",
       "  <tbody>\n",
       "    <tr>\n",
       "      <th>0</th>\n",
       "      <td>2021-12-19 13:00</td>\n",
       "    </tr>\n",
       "    <tr>\n",
       "      <th>1</th>\n",
       "      <td>2021-12-19 12:30</td>\n",
       "    </tr>\n",
       "  </tbody>\n",
       "</table>\n",
       "</div>"
      ],
      "text/plain": [
       "        RECORD_TIME\n",
       "0  2021-12-19 13:00\n",
       "1  2021-12-19 12:30"
      ]
     },
     "execution_count": 3,
     "metadata": {},
     "output_type": "execute_result"
    }
   ],
   "source": [
    "timestamps"
   ]
  },
  {
   "cell_type": "code",
   "execution_count": 4,
   "id": "alternate-victory",
   "metadata": {
    "execution": {
     "iopub.execute_input": "2021-12-19T12:00:10.319625Z",
     "iopub.status.busy": "2021-12-19T12:00:10.317333Z",
     "iopub.status.idle": "2021-12-19T12:00:11.999735Z",
     "shell.execute_reply": "2021-12-19T12:00:12.001863Z"
    },
    "papermill": {
     "duration": 1.713429,
     "end_time": "2021-12-19T12:00:12.002355",
     "exception": false,
     "start_time": "2021-12-19T12:00:10.288926",
     "status": "completed"
    },
    "tags": []
   },
   "outputs": [],
   "source": [
    "df = pd.read_sql(\"select * from EBAY_TOP_BERLIN where record_time in (select distinct record_time from EBAY_TOP_BERLIN order by record_time desc limit 2)\", sqlite3.connect(\"UsedObjects.db\"))"
   ]
  },
  {
   "cell_type": "code",
   "execution_count": 5,
   "id": "popular-active",
   "metadata": {
    "execution": {
     "iopub.execute_input": "2021-12-19T12:00:12.064565Z",
     "iopub.status.busy": "2021-12-19T12:00:12.062289Z",
     "iopub.status.idle": "2021-12-19T12:00:12.093259Z",
     "shell.execute_reply": "2021-12-19T12:00:12.094733Z"
    },
    "papermill": {
     "duration": 0.072395,
     "end_time": "2021-12-19T12:00:12.095192",
     "exception": false,
     "start_time": "2021-12-19T12:00:12.022797",
     "status": "completed"
    },
    "tags": []
   },
   "outputs": [],
   "source": [
    "df_pivot = df.pivot_table(index=\"PRODUCT\", columns = \"RECORD_TIME\", values = \"LISTING_COUNT\")"
   ]
  },
  {
   "cell_type": "code",
   "execution_count": 6,
   "id": "union-huntington",
   "metadata": {
    "execution": {
     "iopub.execute_input": "2021-12-19T12:00:12.158010Z",
     "iopub.status.busy": "2021-12-19T12:00:12.155768Z",
     "iopub.status.idle": "2021-12-19T12:00:12.160817Z",
     "shell.execute_reply": "2021-12-19T12:00:12.162194Z"
    },
    "papermill": {
     "duration": 0.047768,
     "end_time": "2021-12-19T12:00:12.162668",
     "exception": false,
     "start_time": "2021-12-19T12:00:12.114900",
     "status": "completed"
    },
    "tags": []
   },
   "outputs": [],
   "source": [
    "df_pivot.columns = [\"stamp_1\", \"stamp_2\"]\n",
    "df_pivot_diff = df_pivot.diff(axis=1)"
   ]
  },
  {
   "cell_type": "code",
   "execution_count": 7,
   "id": "fifth-motion",
   "metadata": {
    "execution": {
     "iopub.execute_input": "2021-12-19T12:00:12.219917Z",
     "iopub.status.busy": "2021-12-19T12:00:12.217432Z",
     "iopub.status.idle": "2021-12-19T12:00:14.280233Z",
     "shell.execute_reply": "2021-12-19T12:00:14.281530Z"
    },
    "papermill": {
     "duration": 2.09818,
     "end_time": "2021-12-19T12:00:14.281978",
     "exception": false,
     "start_time": "2021-12-19T12:00:12.183798",
     "status": "completed"
    },
    "tags": []
   },
   "outputs": [
    {
     "data": {
      "text/plain": [
       "<AxesSubplot:ylabel='PRODUCT'>"
      ]
     },
     "execution_count": 7,
     "metadata": {},
     "output_type": "execute_result"
    },
    {
     "data": {
      "image/png": "[encoded data removed]",
      "text/plain": [
       "<Figure size 432x288 with 1 Axes>"
      ]
     },
     "metadata": {
      "needs_background": "light"
     },
     "output_type": "display_data"
    }
   ],
   "source": [
    "df_pivot_diff.sort_values(\"stamp_2\", ascending = False)[\"stamp_2\"].head(10).plot.barh()"
   ]
  },
  {
   "cell_type": "code",
   "execution_count": null,
   "id": "extra-executive",
   "metadata": {
    "papermill": {
     "duration": 0.022063,
     "end_time": "2021-12-19T12:00:14.330398",
     "exception": false,
     "start_time": "2021-12-19T12:00:14.308335",
     "status": "completed"
    },
    "tags": []
   },
   "outputs": [],
   "source": []
  }
 ],
 "metadata": {
  "kernelspec": {
   "display_name": "Python 3",
   "language": "python",
   "name": "python3"
  },
  "language_info": {
   "codemirror_mode": {
    "name": "ipython",
    "version": 3
   },
   "file_extension": ".py",
   "mimetype": "text/x-python",
   "name": "python",
   "nbconvert_exporter": "python",
   "pygments_lexer": "ipython3",
   "version": "3.9.5"
  },
  "papermill": {
   "default_parameters": {},
   "duration": 9.735832,
   "end_time": "2021-12-19T12:00:14.972148",
   "environment_variables": {},
   "exception": null,
   "input_path": "eBay_Overview.ipynb",
   "output_path": "eBay_Overview.ipynb",
   "parameters": {},
   "start_time": "2021-12-19T12:00:05.236316",
   "version": "2.3.3"
  }
 },
 "nbformat": 4,
 "nbformat_minor": 5
}