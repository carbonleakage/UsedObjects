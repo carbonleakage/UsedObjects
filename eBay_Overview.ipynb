{
 "cells": [
  {
   "cell_type": "code",
   "execution_count": 1,
   "id": "reverse-picking",
   "metadata": {
    "execution": {
     "iopub.execute_input": "2021-08-17T13:30:06.920053Z",
     "iopub.status.busy": "2021-08-17T13:30:06.918079Z",
     "iopub.status.idle": "2021-08-17T13:30:07.725570Z",
     "shell.execute_reply": "2021-08-17T13:30:07.726888Z"
    },
    "papermill": {
     "duration": 0.859811,
     "end_time": "2021-08-17T13:30:07.727516",
     "exception": false,
     "start_time": "2021-08-17T13:30:06.867705",
     "status": "completed"
    },
    "tags": []
   },
   "outputs": [],
   "source": [
    "import pandas as pd\n",
    "import sqlite3"
   ]
  },
  {
   "cell_type": "code",
   "execution_count": 2,
   "id": "innovative-syndrome",
   "metadata": {
    "execution": {
     "iopub.execute_input": "2021-08-17T13:30:07.778078Z",
     "iopub.status.busy": "2021-08-17T13:30:07.776135Z",
     "iopub.status.idle": "2021-08-17T13:30:07.844272Z",
     "shell.execute_reply": "2021-08-17T13:30:07.845451Z"
    },
    "papermill": {
     "duration": 0.097497,
     "end_time": "2021-08-17T13:30:07.845845",
     "exception": false,
     "start_time": "2021-08-17T13:30:07.748348",
     "status": "completed"
    },
    "tags": []
   },
   "outputs": [],
   "source": [
    "timestamps = pd.read_sql(\"select distinct record_time from EBAY_TOP_BERLIN order by record_time desc limit 2\", sqlite3.connect(\"UsedObjects.db\"))"
   ]
  },
  {
   "cell_type": "code",
   "execution_count": 3,
   "id": "periodic-identification",
   "metadata": {
    "execution": {
     "iopub.execute_input": "2021-08-17T13:30:07.912536Z",
     "iopub.status.busy": "2021-08-17T13:30:07.907293Z",
     "iopub.status.idle": "2021-08-17T13:30:07.930690Z",
     "shell.execute_reply": "2021-08-17T13:30:07.928979Z"
    },
    "papermill": {
     "duration": 0.065848,
     "end_time": "2021-08-17T13:30:07.931107",
     "exception": false,
     "start_time": "2021-08-17T13:30:07.865259",
     "status": "completed"
    },
    "tags": []
   },
   "outputs": [
    {
     "data": {
      "text/html": [
       "<div>\n",
       "<style scoped>\n",
       "    .dataframe tbody tr th:only-of-type {\n",
       "        vertical-align: middle;\n",
       "    }\n",
       "\n",
       "    .dataframe tbody tr th {\n",
       "        vertical-align: top;\n",
       "    }\n",
       "\n",
       "    .dataframe thead th {\n",
       "        text-align: right;\n",
       "    }\n",
       "</style>\n",
       "<table border=\"1\" class=\"dataframe\">\n",
       "  <thead>\n",
       "    <tr style=\"text-align: right;\">\n",
       "      <th></th>\n",
       "      <th>RECORD_TIME</th>\n",
       "    </tr>\n",
       "  </thead>\n",
       "  <tbody>\n",
       "    <tr>\n",
       "      <th>0</th>\n",
       "      <td>2021-08-17 15:30</td>\n",
       "    </tr>\n",
       "    <tr>\n",
       "      <th>1</th>\n",
       "      <td>2021-08-17 15:00</td>\n",
       "    </tr>\n",
       "  </tbody>\n",
       "</table>\n",
       "</div>"
      ],
      "text/plain": [
       "        RECORD_TIME\n",
       "0  2021-08-17 15:30\n",
       "1  2021-08-17 15:00"
      ]
     },
     "execution_count": 3,
     "metadata": {},
     "output_type": "execute_result"
    }
   ],
   "source": [
    "timestamps"
   ]
  },
  {
   "cell_type": "code",
   "execution_count": 4,
   "id": "alternate-victory",
   "metadata": {
    "execution": {
     "iopub.execute_input": "2021-08-17T13:30:07.983817Z",
     "iopub.status.busy": "2021-08-17T13:30:07.981443Z",
     "iopub.status.idle": "2021-08-17T13:30:08.085133Z",
     "shell.execute_reply": "2021-08-17T13:30:08.086453Z"
    },
    "papermill": {
     "duration": 0.134086,
     "end_time": "2021-08-17T13:30:08.086880",
     "exception": false,
     "start_time": "2021-08-17T13:30:07.952794",
     "status": "completed"
    },
    "tags": []
   },
   "outputs": [],
   "source": [
    "df = pd.read_sql(\"select * from EBAY_TOP_BERLIN where record_time in (select distinct record_time from EBAY_TOP_BERLIN order by record_time desc limit 2)\", sqlite3.connect(\"UsedObjects.db\"))"
   ]
  },
  {
   "cell_type": "code",
   "execution_count": 5,
   "id": "popular-active",
   "metadata": {
    "execution": {
     "iopub.execute_input": "2021-08-17T13:30:08.159076Z",
     "iopub.status.busy": "2021-08-17T13:30:08.147594Z",
     "iopub.status.idle": "2021-08-17T13:30:08.175681Z",
     "shell.execute_reply": "2021-08-17T13:30:08.176877Z"
    },
    "papermill": {
     "duration": 0.068581,
     "end_time": "2021-08-17T13:30:08.177267",
     "exception": false,
     "start_time": "2021-08-17T13:30:08.108686",
     "status": "completed"
    },
    "tags": []
   },
   "outputs": [],
   "source": [
    "df_pivot = df.pivot_table(index=\"PRODUCT\", columns = \"RECORD_TIME\", values = \"LISTING_COUNT\")"
   ]
  },
  {
   "cell_type": "code",
   "execution_count": 6,
   "id": "union-huntington",
   "metadata": {
    "execution": {
     "iopub.execute_input": "2021-08-17T13:30:08.236470Z",
     "iopub.status.busy": "2021-08-17T13:30:08.234031Z",
     "iopub.status.idle": "2021-08-17T13:30:08.239932Z",
     "shell.execute_reply": "2021-08-17T13:30:08.241202Z"
    },
    "papermill": {
     "duration": 0.042192,
     "end_time": "2021-08-17T13:30:08.241611",
     "exception": false,
     "start_time": "2021-08-17T13:30:08.199419",
     "status": "completed"
    },
    "tags": []
   },
   "outputs": [],
   "source": [
    "df_pivot.columns = [\"stamp_1\", \"stamp_2\"]\n",
    "df_pivot_diff = df_pivot.diff(axis=1)"
   ]
  },
  {
   "cell_type": "code",
   "execution_count": 7,
   "id": "fifth-motion",
   "metadata": {
    "execution": {
     "iopub.execute_input": "2021-08-17T13:30:08.296431Z",
     "iopub.status.busy": "2021-08-17T13:30:08.294099Z",
     "iopub.status.idle": "2021-08-17T13:30:09.787278Z",
     "shell.execute_reply": "2021-08-17T13:30:09.788543Z"
    },
    "papermill": {
     "duration": 1.527332,
     "end_time": "2021-08-17T13:30:09.788955",
     "exception": false,
     "start_time": "2021-08-17T13:30:08.261623",
     "status": "completed"
    },
    "tags": []
   },
   "outputs": [
    {
     "data": {
      "text/plain": [
       "<AxesSubplot:ylabel='PRODUCT'>"
      ]
     },
     "execution_count": 7,
     "metadata": {},
     "output_type": "execute_result"
    },
    {
     "data": {
      "image/png": "[encoded data removed]",
      "text/plain": [
       "<Figure size 432x288 with 1 Axes>"
      ]
     },
     "metadata": {
      "needs_background": "light"
     },
     "output_type": "display_data"
    }
   ],
   "source": [
    "df_pivot_diff.sort_values(\"stamp_2\", ascending = False)[\"stamp_2\"].head(10).plot.barh()"
   ]
  },
  {
   "cell_type": "code",
   "execution_count": null,
   "id": "extra-executive",
   "metadata": {
    "papermill": {
     "duration": 0.022141,
     "end_time": "2021-08-17T13:30:09.835572",
     "exception": false,
     "start_time": "2021-08-17T13:30:09.813431",
     "status": "completed"
    },
    "tags": []
   },
   "outputs": [],
   "source": []
  }
 ],
 "metadata": {
  "kernelspec": {
   "display_name": "Python 3",
   "language": "python",
   "name": "python3"
  },
  "language_info": {
   "codemirror_mode": {
    "name": "ipython",
    "version": 3
   },
   "file_extension": ".py",
   "mimetype": "text/x-python",
   "name": "python",
   "nbconvert_exporter": "python",
   "pygments_lexer": "ipython3",
   "version": "3.9.5"
  },
  "papermill": {
   "default_parameters": {},
   "duration": 6.832473,
   "end_time": "2021-08-17T13:30:11.284054",
   "environment_variables": {},
   "exception": null,
   "input_path": "eBay_Overview.ipynb",
   "output_path": "eBay_Overview.ipynb",
   "parameters": {},
   "start_time": "2021-08-17T13:30:04.451581",
   "version": "2.3.3"
  }
 },
 "nbformat": 4,
 "nbformat_minor": 5
}