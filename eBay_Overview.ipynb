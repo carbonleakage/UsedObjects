{
 "cells": [
  {
   "cell_type": "code",
   "execution_count": 1,
   "id": "reverse-picking",
   "metadata": {
    "execution": {
     "iopub.execute_input": "2021-12-15T17:30:07.979040Z",
     "iopub.status.busy": "2021-12-15T17:30:07.975842Z",
     "iopub.status.idle": "2021-12-15T17:30:08.925600Z",
     "shell.execute_reply": "2021-12-15T17:30:08.927051Z"
    },
    "papermill": {
     "duration": 1.000224,
     "end_time": "2021-12-15T17:30:08.927786",
     "exception": false,
     "start_time": "2021-12-15T17:30:07.927562",
     "status": "completed"
    },
    "tags": []
   },
   "outputs": [],
   "source": [
    "import pandas as pd\n",
    "import sqlite3"
   ]
  },
  {
   "cell_type": "code",
   "execution_count": 2,
   "id": "innovative-syndrome",
   "metadata": {
    "execution": {
     "iopub.execute_input": "2021-12-15T17:30:08.992811Z",
     "iopub.status.busy": "2021-12-15T17:30:08.989492Z",
     "iopub.status.idle": "2021-12-15T17:30:10.088166Z",
     "shell.execute_reply": "2021-12-15T17:30:10.089644Z"
    },
    "papermill": {
     "duration": 1.134255,
     "end_time": "2021-12-15T17:30:10.090099",
     "exception": false,
     "start_time": "2021-12-15T17:30:08.955844",
     "status": "completed"
    },
    "tags": []
   },
   "outputs": [],
   "source": [
    "timestamps = pd.read_sql(\"select distinct record_time from EBAY_TOP_BERLIN order by record_time desc limit 2\", sqlite3.connect(\"UsedObjects.db\"))"
   ]
  },
  {
   "cell_type": "code",
   "execution_count": 3,
   "id": "periodic-identification",
   "metadata": {
    "execution": {
     "iopub.execute_input": "2021-12-15T17:30:10.159341Z",
     "iopub.status.busy": "2021-12-15T17:30:10.157127Z",
     "iopub.status.idle": "2021-12-15T17:30:10.181254Z",
     "shell.execute_reply": "2021-12-15T17:30:10.182554Z"
    },
    "papermill": {
     "duration": 0.072573,
     "end_time": "2021-12-15T17:30:10.183052",
     "exception": false,
     "start_time": "2021-12-15T17:30:10.110479",
     "status": "completed"
    },
    "tags": []
   },
   "outputs": [
    {
     "data": {
      "text/html": [
       "<div>\n",
       "<style scoped>\n",
       "    .dataframe tbody tr th:only-of-type {\n",
       "        vertical-align: middle;\n",
       "    }\n",
       "\n",
       "    .dataframe tbody tr th {\n",
       "        vertical-align: top;\n",
       "    }\n",
       "\n",
       "    .dataframe thead th {\n",
       "        text-align: right;\n",
       "    }\n",
       "</style>\n",
       "<table border=\"1\" class=\"dataframe\">\n",
       "  <thead>\n",
       "    <tr style=\"text-align: right;\">\n",
       "      <th></th>\n",
       "      <th>RECORD_TIME</th>\n",
       "    </tr>\n",
       "  </thead>\n",
       "  <tbody>\n",
       "    <tr>\n",
       "      <th>0</th>\n",
       "      <td>2021-12-15 18:30</td>\n",
       "    </tr>\n",
       "    <tr>\n",
       "      <th>1</th>\n",
       "      <td>2021-12-15 18:00</td>\n",
       "    </tr>\n",
       "  </tbody>\n",
       "</table>\n",
       "</div>"
      ],
      "text/plain": [
       "        RECORD_TIME\n",
       "0  2021-12-15 18:30\n",
       "1  2021-12-15 18:00"
      ]
     },
     "execution_count": 3,
     "metadata": {},
     "output_type": "execute_result"
    }
   ],
   "source": [
    "timestamps"
   ]
  },
  {
   "cell_type": "code",
   "execution_count": 4,
   "id": "alternate-victory",
   "metadata": {
    "execution": {
     "iopub.execute_input": "2021-12-15T17:30:10.238546Z",
     "iopub.status.busy": "2021-12-15T17:30:10.235908Z",
     "iopub.status.idle": "2021-12-15T17:30:11.837451Z",
     "shell.execute_reply": "2021-12-15T17:30:11.839573Z"
    },
    "papermill": {
     "duration": 1.634836,
     "end_time": "2021-12-15T17:30:11.840102",
     "exception": false,
     "start_time": "2021-12-15T17:30:10.205266",
     "status": "completed"
    },
    "tags": []
   },
   "outputs": [],
   "source": [
    "df = pd.read_sql(\"select * from EBAY_TOP_BERLIN where record_time in (select distinct record_time from EBAY_TOP_BERLIN order by record_time desc limit 2)\", sqlite3.connect(\"UsedObjects.db\"))"
   ]
  },
  {
   "cell_type": "code",
   "execution_count": 5,
   "id": "popular-active",
   "metadata": {
    "execution": {
     "iopub.execute_input": "2021-12-15T17:30:11.917590Z",
     "iopub.status.busy": "2021-12-15T17:30:11.904367Z",
     "iopub.status.idle": "2021-12-15T17:30:11.935212Z",
     "shell.execute_reply": "2021-12-15T17:30:11.936593Z"
    },
    "papermill": {
     "duration": 0.074406,
     "end_time": "2021-12-15T17:30:11.937130",
     "exception": false,
     "start_time": "2021-12-15T17:30:11.862724",
     "status": "completed"
    },
    "tags": []
   },
   "outputs": [],
   "source": [
    "df_pivot = df.pivot_table(index=\"PRODUCT\", columns = \"RECORD_TIME\", values = \"LISTING_COUNT\")"
   ]
  },
  {
   "cell_type": "code",
   "execution_count": 6,
   "id": "union-huntington",
   "metadata": {
    "execution": {
     "iopub.execute_input": "2021-12-15T17:30:11.998114Z",
     "iopub.status.busy": "2021-12-15T17:30:11.995511Z",
     "iopub.status.idle": "2021-12-15T17:30:12.004431Z",
     "shell.execute_reply": "2021-12-15T17:30:12.002835Z"
    },
    "papermill": {
     "duration": 0.047506,
     "end_time": "2021-12-15T17:30:12.004947",
     "exception": false,
     "start_time": "2021-12-15T17:30:11.957441",
     "status": "completed"
    },
    "tags": []
   },
   "outputs": [],
   "source": [
    "df_pivot.columns = [\"stamp_1\", \"stamp_2\"]\n",
    "df_pivot_diff = df_pivot.diff(axis=1)"
   ]
  },
  {
   "cell_type": "code",
   "execution_count": 7,
   "id": "fifth-motion",
   "metadata": {
    "execution": {
     "iopub.execute_input": "2021-12-15T17:30:12.066031Z",
     "iopub.status.busy": "2021-12-15T17:30:12.062159Z",
     "iopub.status.idle": "2021-12-15T17:30:14.044474Z",
     "shell.execute_reply": "2021-12-15T17:30:14.045802Z"
    },
    "papermill": {
     "duration": 2.018604,
     "end_time": "2021-12-15T17:30:14.046225",
     "exception": false,
     "start_time": "2021-12-15T17:30:12.027621",
     "status": "completed"
    },
    "tags": []
   },
   "outputs": [
    {
     "data": {
      "text/plain": [
       "<AxesSubplot:ylabel='PRODUCT'>"
      ]
     },
     "execution_count": 7,
     "metadata": {},
     "output_type": "execute_result"
    },
    {
     "data": {
      "image/png": "[encoded data removed]",
      "text/plain": [
       "<Figure size 432x288 with 1 Axes>"
      ]
     },
     "metadata": {
      "needs_background": "light"
     },
     "output_type": "display_data"
    }
   ],
   "source": [
    "df_pivot_diff.sort_values(\"stamp_2\", ascending = False)[\"stamp_2\"].head(10).plot.barh()"
   ]
  },
  {
   "cell_type": "code",
   "execution_count": null,
   "id": "extra-executive",
   "metadata": {
    "papermill": {
     "duration": 0.026998,
     "end_time": "2021-12-15T17:30:14.106496",
     "exception": false,
     "start_time": "2021-12-15T17:30:14.079498",
     "status": "completed"
    },
    "tags": []
   },
   "outputs": [],
   "source": []
  }
 ],
 "metadata": {
  "kernelspec": {
   "display_name": "Python 3",
   "language": "python",
   "name": "python3"
  },
  "language_info": {
   "codemirror_mode": {
    "name": "ipython",
    "version": 3
   },
   "file_extension": ".py",
   "mimetype": "text/x-python",
   "name": "python",
   "nbconvert_exporter": "python",
   "pygments_lexer": "ipython3",
   "version": "3.9.5"
  },
  "papermill": {
   "default_parameters": {},
   "duration": 9.539769,
   "end_time": "2021-12-15T17:30:14.752662",
   "environment_variables": {},
   "exception": null,
   "input_path": "eBay_Overview.ipynb",
   "output_path": "eBay_Overview.ipynb",
   "parameters": {},
   "start_time": "2021-12-15T17:30:05.212893",
   "version": "2.3.3"
  }
 },
 "nbformat": 4,
 "nbformat_minor": 5
}