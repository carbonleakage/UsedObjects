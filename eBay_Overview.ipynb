{
 "cells": [
  {
   "cell_type": "code",
   "execution_count": 1,
   "id": "reverse-picking",
   "metadata": {
    "execution": {
     "iopub.execute_input": "2021-10-17T08:30:07.210569Z",
     "iopub.status.busy": "2021-10-17T08:30:07.208540Z",
     "iopub.status.idle": "2021-10-17T08:30:08.015279Z",
     "shell.execute_reply": "2021-10-17T08:30:08.016519Z"
    },
    "papermill": {
     "duration": 0.859404,
     "end_time": "2021-10-17T08:30:08.017195",
     "exception": false,
     "start_time": "2021-10-17T08:30:07.157791",
     "status": "completed"
    },
    "tags": []
   },
   "outputs": [],
   "source": [
    "import pandas as pd\n",
    "import sqlite3"
   ]
  },
  {
   "cell_type": "code",
   "execution_count": 2,
   "id": "innovative-syndrome",
   "metadata": {
    "execution": {
     "iopub.execute_input": "2021-10-17T08:30:08.068442Z",
     "iopub.status.busy": "2021-10-17T08:30:08.066546Z",
     "iopub.status.idle": "2021-10-17T08:30:08.628633Z",
     "shell.execute_reply": "2021-10-17T08:30:08.627341Z"
    },
    "papermill": {
     "duration": 0.590871,
     "end_time": "2021-10-17T08:30:08.629030",
     "exception": false,
     "start_time": "2021-10-17T08:30:08.038159",
     "status": "completed"
    },
    "tags": []
   },
   "outputs": [],
   "source": [
    "timestamps = pd.read_sql(\"select distinct record_time from EBAY_TOP_BERLIN order by record_time desc limit 2\", sqlite3.connect(\"UsedObjects.db\"))"
   ]
  },
  {
   "cell_type": "code",
   "execution_count": 3,
   "id": "periodic-identification",
   "metadata": {
    "execution": {
     "iopub.execute_input": "2021-10-17T08:30:08.708526Z",
     "iopub.status.busy": "2021-10-17T08:30:08.706514Z",
     "iopub.status.idle": "2021-10-17T08:30:08.726214Z",
     "shell.execute_reply": "2021-10-17T08:30:08.727431Z"
    },
    "papermill": {
     "duration": 0.068334,
     "end_time": "2021-10-17T08:30:08.727833",
     "exception": false,
     "start_time": "2021-10-17T08:30:08.659499",
     "status": "completed"
    },
    "tags": []
   },
   "outputs": [
    {
     "data": {
      "text/html": [
       "<div>\n",
       "<style scoped>\n",
       "    .dataframe tbody tr th:only-of-type {\n",
       "        vertical-align: middle;\n",
       "    }\n",
       "\n",
       "    .dataframe tbody tr th {\n",
       "        vertical-align: top;\n",
       "    }\n",
       "\n",
       "    .dataframe thead th {\n",
       "        text-align: right;\n",
       "    }\n",
       "</style>\n",
       "<table border=\"1\" class=\"dataframe\">\n",
       "  <thead>\n",
       "    <tr style=\"text-align: right;\">\n",
       "      <th></th>\n",
       "      <th>RECORD_TIME</th>\n",
       "    </tr>\n",
       "  </thead>\n",
       "  <tbody>\n",
       "    <tr>\n",
       "      <th>0</th>\n",
       "      <td>2021-10-17 10:30</td>\n",
       "    </tr>\n",
       "    <tr>\n",
       "      <th>1</th>\n",
       "      <td>2021-10-17 10:00</td>\n",
       "    </tr>\n",
       "  </tbody>\n",
       "</table>\n",
       "</div>"
      ],
      "text/plain": [
       "        RECORD_TIME\n",
       "0  2021-10-17 10:30\n",
       "1  2021-10-17 10:00"
      ]
     },
     "execution_count": 3,
     "metadata": {},
     "output_type": "execute_result"
    }
   ],
   "source": [
    "timestamps"
   ]
  },
  {
   "cell_type": "code",
   "execution_count": 4,
   "id": "alternate-victory",
   "metadata": {
    "execution": {
     "iopub.execute_input": "2021-10-17T08:30:08.781508Z",
     "iopub.status.busy": "2021-10-17T08:30:08.779143Z",
     "iopub.status.idle": "2021-10-17T08:30:09.600102Z",
     "shell.execute_reply": "2021-10-17T08:30:09.601382Z"
    },
    "papermill": {
     "duration": 0.851798,
     "end_time": "2021-10-17T08:30:09.601797",
     "exception": false,
     "start_time": "2021-10-17T08:30:08.749999",
     "status": "completed"
    },
    "tags": []
   },
   "outputs": [],
   "source": [
    "df = pd.read_sql(\"select * from EBAY_TOP_BERLIN where record_time in (select distinct record_time from EBAY_TOP_BERLIN order by record_time desc limit 2)\", sqlite3.connect(\"UsedObjects.db\"))"
   ]
  },
  {
   "cell_type": "code",
   "execution_count": 5,
   "id": "popular-active",
   "metadata": {
    "execution": {
     "iopub.execute_input": "2021-10-17T08:30:09.675936Z",
     "iopub.status.busy": "2021-10-17T08:30:09.669094Z",
     "iopub.status.idle": "2021-10-17T08:30:09.691167Z",
     "shell.execute_reply": "2021-10-17T08:30:09.692364Z"
    },
    "papermill": {
     "duration": 0.067829,
     "end_time": "2021-10-17T08:30:09.692823",
     "exception": false,
     "start_time": "2021-10-17T08:30:09.624994",
     "status": "completed"
    },
    "tags": []
   },
   "outputs": [],
   "source": [
    "df_pivot = df.pivot_table(index=\"PRODUCT\", columns = \"RECORD_TIME\", values = \"LISTING_COUNT\")"
   ]
  },
  {
   "cell_type": "code",
   "execution_count": 6,
   "id": "union-huntington",
   "metadata": {
    "execution": {
     "iopub.execute_input": "2021-10-17T08:30:09.751166Z",
     "iopub.status.busy": "2021-10-17T08:30:09.749012Z",
     "iopub.status.idle": "2021-10-17T08:30:09.754506Z",
     "shell.execute_reply": "2021-10-17T08:30:09.755758Z"
    },
    "papermill": {
     "duration": 0.041423,
     "end_time": "2021-10-17T08:30:09.756214",
     "exception": false,
     "start_time": "2021-10-17T08:30:09.714791",
     "status": "completed"
    },
    "tags": []
   },
   "outputs": [],
   "source": [
    "df_pivot.columns = [\"stamp_1\", \"stamp_2\"]\n",
    "df_pivot_diff = df_pivot.diff(axis=1)"
   ]
  },
  {
   "cell_type": "code",
   "execution_count": 7,
   "id": "fifth-motion",
   "metadata": {
    "execution": {
     "iopub.execute_input": "2021-10-17T08:30:09.815100Z",
     "iopub.status.busy": "2021-10-17T08:30:09.812671Z",
     "iopub.status.idle": "2021-10-17T08:30:11.320413Z",
     "shell.execute_reply": "2021-10-17T08:30:11.318873Z"
    },
    "papermill": {
     "duration": 1.540469,
     "end_time": "2021-10-17T08:30:11.320851",
     "exception": false,
     "start_time": "2021-10-17T08:30:09.780382",
     "status": "completed"
    },
    "tags": []
   },
   "outputs": [
    {
     "data": {
      "text/plain": [
       "<AxesSubplot:ylabel='PRODUCT'>"
      ]
     },
     "execution_count": 7,
     "metadata": {},
     "output_type": "execute_result"
    },
    {
     "data": {
      "image/png": "[encoded data removed]",
      "text/plain": [
       "<Figure size 432x288 with 1 Axes>"
      ]
     },
     "metadata": {
      "needs_background": "light"
     },
     "output_type": "display_data"
    }
   ],
   "source": [
    "df_pivot_diff.sort_values(\"stamp_2\", ascending = False)[\"stamp_2\"].head(10).plot.barh()"
   ]
  },
  {
   "cell_type": "code",
   "execution_count": null,
   "id": "extra-executive",
   "metadata": {
    "papermill": {
     "duration": 0.022731,
     "end_time": "2021-10-17T08:30:11.368128",
     "exception": false,
     "start_time": "2021-10-17T08:30:11.345397",
     "status": "completed"
    },
    "tags": []
   },
   "outputs": [],
   "source": []
  }
 ],
 "metadata": {
  "kernelspec": {
   "display_name": "Python 3",
   "language": "python",
   "name": "python3"
  },
  "language_info": {
   "codemirror_mode": {
    "name": "ipython",
    "version": 3
   },
   "file_extension": ".py",
   "mimetype": "text/x-python",
   "name": "python",
   "nbconvert_exporter": "python",
   "pygments_lexer": "ipython3",
   "version": "3.9.5"
  },
  "papermill": {
   "default_parameters": {},
   "duration": 7.820897,
   "end_time": "2021-10-17T08:30:12.581361",
   "environment_variables": {},
   "exception": null,
   "input_path": "eBay_Overview.ipynb",
   "output_path": "eBay_Overview.ipynb",
   "parameters": {},
   "start_time": "2021-10-17T08:30:04.760464",
   "version": "2.3.3"
  }
 },
 "nbformat": 4,
 "nbformat_minor": 5
}