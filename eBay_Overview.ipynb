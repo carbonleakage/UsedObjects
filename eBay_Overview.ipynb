{
 "cells": [
  {
   "cell_type": "code",
   "execution_count": 1,
   "id": "reverse-picking",
   "metadata": {
    "execution": {
     "iopub.execute_input": "2021-11-13T15:30:07.241403Z",
     "iopub.status.busy": "2021-11-13T15:30:07.225517Z",
     "iopub.status.idle": "2021-11-13T15:30:08.179024Z",
     "shell.execute_reply": "2021-11-13T15:30:08.180589Z"
    },
    "papermill": {
     "duration": 0.988051,
     "end_time": "2021-11-13T15:30:08.181370",
     "exception": false,
     "start_time": "2021-11-13T15:30:07.193319",
     "status": "completed"
    },
    "tags": []
   },
   "outputs": [],
   "source": [
    "import pandas as pd\n",
    "import sqlite3"
   ]
  },
  {
   "cell_type": "code",
   "execution_count": 2,
   "id": "innovative-syndrome",
   "metadata": {
    "execution": {
     "iopub.execute_input": "2021-11-13T15:30:08.244183Z",
     "iopub.status.busy": "2021-11-13T15:30:08.240741Z",
     "iopub.status.idle": "2021-11-13T15:30:09.073139Z",
     "shell.execute_reply": "2021-11-13T15:30:09.074666Z"
    },
    "papermill": {
     "duration": 0.866568,
     "end_time": "2021-11-13T15:30:09.075134",
     "exception": false,
     "start_time": "2021-11-13T15:30:08.208566",
     "status": "completed"
    },
    "tags": []
   },
   "outputs": [],
   "source": [
    "timestamps = pd.read_sql(\"select distinct record_time from EBAY_TOP_BERLIN order by record_time desc limit 2\", sqlite3.connect(\"UsedObjects.db\"))"
   ]
  },
  {
   "cell_type": "code",
   "execution_count": 3,
   "id": "periodic-identification",
   "metadata": {
    "execution": {
     "iopub.execute_input": "2021-11-13T15:30:09.149300Z",
     "iopub.status.busy": "2021-11-13T15:30:09.143500Z",
     "iopub.status.idle": "2021-11-13T15:30:09.167198Z",
     "shell.execute_reply": "2021-11-13T15:30:09.168737Z"
    },
    "papermill": {
     "duration": 0.073337,
     "end_time": "2021-11-13T15:30:09.169261",
     "exception": false,
     "start_time": "2021-11-13T15:30:09.095924",
     "status": "completed"
    },
    "tags": []
   },
   "outputs": [
    {
     "data": {
      "text/html": [
       "<div>\n",
       "<style scoped>\n",
       "    .dataframe tbody tr th:only-of-type {\n",
       "        vertical-align: middle;\n",
       "    }\n",
       "\n",
       "    .dataframe tbody tr th {\n",
       "        vertical-align: top;\n",
       "    }\n",
       "\n",
       "    .dataframe thead th {\n",
       "        text-align: right;\n",
       "    }\n",
       "</style>\n",
       "<table border=\"1\" class=\"dataframe\">\n",
       "  <thead>\n",
       "    <tr style=\"text-align: right;\">\n",
       "      <th></th>\n",
       "      <th>RECORD_TIME</th>\n",
       "    </tr>\n",
       "  </thead>\n",
       "  <tbody>\n",
       "    <tr>\n",
       "      <th>0</th>\n",
       "      <td>2021-11-13 16:30</td>\n",
       "    </tr>\n",
       "    <tr>\n",
       "      <th>1</th>\n",
       "      <td>2021-11-13 16:00</td>\n",
       "    </tr>\n",
       "  </tbody>\n",
       "</table>\n",
       "</div>"
      ],
      "text/plain": [
       "        RECORD_TIME\n",
       "0  2021-11-13 16:30\n",
       "1  2021-11-13 16:00"
      ]
     },
     "execution_count": 3,
     "metadata": {},
     "output_type": "execute_result"
    }
   ],
   "source": [
    "timestamps"
   ]
  },
  {
   "cell_type": "code",
   "execution_count": 4,
   "id": "alternate-victory",
   "metadata": {
    "execution": {
     "iopub.execute_input": "2021-11-13T15:30:09.225964Z",
     "iopub.status.busy": "2021-11-13T15:30:09.223735Z",
     "iopub.status.idle": "2021-11-13T15:30:10.414065Z",
     "shell.execute_reply": "2021-11-13T15:30:10.411869Z"
    },
    "papermill": {
     "duration": 1.225328,
     "end_time": "2021-11-13T15:30:10.415691",
     "exception": false,
     "start_time": "2021-11-13T15:30:09.190363",
     "status": "completed"
    },
    "tags": []
   },
   "outputs": [],
   "source": [
    "df = pd.read_sql(\"select * from EBAY_TOP_BERLIN where record_time in (select distinct record_time from EBAY_TOP_BERLIN order by record_time desc limit 2)\", sqlite3.connect(\"UsedObjects.db\"))"
   ]
  },
  {
   "cell_type": "code",
   "execution_count": 5,
   "id": "popular-active",
   "metadata": {
    "execution": {
     "iopub.execute_input": "2021-11-13T15:30:10.517341Z",
     "iopub.status.busy": "2021-11-13T15:30:10.500641Z",
     "iopub.status.idle": "2021-11-13T15:30:10.536604Z",
     "shell.execute_reply": "2021-11-13T15:30:10.538407Z"
    },
    "papermill": {
     "duration": 0.090033,
     "end_time": "2021-11-13T15:30:10.538912",
     "exception": false,
     "start_time": "2021-11-13T15:30:10.448879",
     "status": "completed"
    },
    "tags": []
   },
   "outputs": [],
   "source": [
    "df_pivot = df.pivot_table(index=\"PRODUCT\", columns = \"RECORD_TIME\", values = \"LISTING_COUNT\")"
   ]
  },
  {
   "cell_type": "code",
   "execution_count": 6,
   "id": "union-huntington",
   "metadata": {
    "execution": {
     "iopub.execute_input": "2021-11-13T15:30:10.601388Z",
     "iopub.status.busy": "2021-11-13T15:30:10.598961Z",
     "iopub.status.idle": "2021-11-13T15:30:10.604601Z",
     "shell.execute_reply": "2021-11-13T15:30:10.606157Z"
    },
    "papermill": {
     "duration": 0.04602,
     "end_time": "2021-11-13T15:30:10.606662",
     "exception": false,
     "start_time": "2021-11-13T15:30:10.560642",
     "status": "completed"
    },
    "tags": []
   },
   "outputs": [],
   "source": [
    "df_pivot.columns = [\"stamp_1\", \"stamp_2\"]\n",
    "df_pivot_diff = df_pivot.diff(axis=1)"
   ]
  },
  {
   "cell_type": "code",
   "execution_count": 7,
   "id": "fifth-motion",
   "metadata": {
    "execution": {
     "iopub.execute_input": "2021-11-13T15:30:10.663275Z",
     "iopub.status.busy": "2021-11-13T15:30:10.660940Z",
     "iopub.status.idle": "2021-11-13T15:30:12.375505Z",
     "shell.execute_reply": "2021-11-13T15:30:12.376956Z"
    },
    "papermill": {
     "duration": 1.750692,
     "end_time": "2021-11-13T15:30:12.377407",
     "exception": false,
     "start_time": "2021-11-13T15:30:10.626715",
     "status": "completed"
    },
    "tags": []
   },
   "outputs": [
    {
     "data": {
      "text/plain": [
       "<AxesSubplot:ylabel='PRODUCT'>"
      ]
     },
     "execution_count": 7,
     "metadata": {},
     "output_type": "execute_result"
    },
    {
     "data": {
      "image/png": "[encoded data removed]",
      "text/plain": [
       "<Figure size 432x288 with 1 Axes>"
      ]
     },
     "metadata": {
      "needs_background": "light"
     },
     "output_type": "display_data"
    }
   ],
   "source": [
    "df_pivot_diff.sort_values(\"stamp_2\", ascending = False)[\"stamp_2\"].head(10).plot.barh()"
   ]
  },
  {
   "cell_type": "code",
   "execution_count": null,
   "id": "extra-executive",
   "metadata": {
    "papermill": {
     "duration": 0.02293,
     "end_time": "2021-11-13T15:30:12.425012",
     "exception": false,
     "start_time": "2021-11-13T15:30:12.402082",
     "status": "completed"
    },
    "tags": []
   },
   "outputs": [],
   "source": []
  }
 ],
 "metadata": {
  "kernelspec": {
   "display_name": "Python 3",
   "language": "python",
   "name": "python3"
  },
  "language_info": {
   "codemirror_mode": {
    "name": "ipython",
    "version": 3
   },
   "file_extension": ".py",
   "mimetype": "text/x-python",
   "name": "python",
   "nbconvert_exporter": "python",
   "pygments_lexer": "ipython3",
   "version": "3.9.5"
  },
  "papermill": {
   "default_parameters": {},
   "duration": 8.583886,
   "end_time": "2021-11-13T15:30:13.068519",
   "environment_variables": {},
   "exception": null,
   "input_path": "eBay_Overview.ipynb",
   "output_path": "eBay_Overview.ipynb",
   "parameters": {},
   "start_time": "2021-11-13T15:30:04.484633",
   "version": "2.3.3"
  }
 },
 "nbformat": 4,
 "nbformat_minor": 5
}