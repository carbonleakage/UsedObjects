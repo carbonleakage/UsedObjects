{
 "cells": [
  {
   "cell_type": "code",
   "execution_count": 1,
   "id": "reverse-picking",
   "metadata": {
    "execution": {
     "iopub.execute_input": "2021-11-08T21:00:07.403658Z",
     "iopub.status.busy": "2021-11-08T21:00:07.401350Z",
     "iopub.status.idle": "2021-11-08T21:00:08.344197Z",
     "shell.execute_reply": "2021-11-08T21:00:08.345759Z"
    },
    "papermill": {
     "duration": 0.991259,
     "end_time": "2021-11-08T21:00:08.346485",
     "exception": false,
     "start_time": "2021-11-08T21:00:07.355226",
     "status": "completed"
    },
    "tags": []
   },
   "outputs": [],
   "source": [
    "import pandas as pd\n",
    "import sqlite3"
   ]
  },
  {
   "cell_type": "code",
   "execution_count": 2,
   "id": "innovative-syndrome",
   "metadata": {
    "execution": {
     "iopub.execute_input": "2021-11-08T21:00:08.402740Z",
     "iopub.status.busy": "2021-11-08T21:00:08.400364Z",
     "iopub.status.idle": "2021-11-08T21:00:09.157890Z",
     "shell.execute_reply": "2021-11-08T21:00:09.159299Z"
    },
    "papermill": {
     "duration": 0.79174,
     "end_time": "2021-11-08T21:00:09.159758",
     "exception": false,
     "start_time": "2021-11-08T21:00:08.368018",
     "status": "completed"
    },
    "tags": []
   },
   "outputs": [],
   "source": [
    "timestamps = pd.read_sql(\"select distinct record_time from EBAY_TOP_BERLIN order by record_time desc limit 2\", sqlite3.connect(\"UsedObjects.db\"))"
   ]
  },
  {
   "cell_type": "code",
   "execution_count": 3,
   "id": "periodic-identification",
   "metadata": {
    "execution": {
     "iopub.execute_input": "2021-11-08T21:00:09.230048Z",
     "iopub.status.busy": "2021-11-08T21:00:09.227840Z",
     "iopub.status.idle": "2021-11-08T21:00:09.251184Z",
     "shell.execute_reply": "2021-11-08T21:00:09.252833Z"
    },
    "papermill": {
     "duration": 0.073285,
     "end_time": "2021-11-08T21:00:09.253316",
     "exception": false,
     "start_time": "2021-11-08T21:00:09.180031",
     "status": "completed"
    },
    "tags": []
   },
   "outputs": [
    {
     "data": {
      "text/html": [
       "<div>\n",
       "<style scoped>\n",
       "    .dataframe tbody tr th:only-of-type {\n",
       "        vertical-align: middle;\n",
       "    }\n",
       "\n",
       "    .dataframe tbody tr th {\n",
       "        vertical-align: top;\n",
       "    }\n",
       "\n",
       "    .dataframe thead th {\n",
       "        text-align: right;\n",
       "    }\n",
       "</style>\n",
       "<table border=\"1\" class=\"dataframe\">\n",
       "  <thead>\n",
       "    <tr style=\"text-align: right;\">\n",
       "      <th></th>\n",
       "      <th>RECORD_TIME</th>\n",
       "    </tr>\n",
       "  </thead>\n",
       "  <tbody>\n",
       "    <tr>\n",
       "      <th>0</th>\n",
       "      <td>2021-11-08 22:00</td>\n",
       "    </tr>\n",
       "    <tr>\n",
       "      <th>1</th>\n",
       "      <td>2021-11-08 21:30</td>\n",
       "    </tr>\n",
       "  </tbody>\n",
       "</table>\n",
       "</div>"
      ],
      "text/plain": [
       "        RECORD_TIME\n",
       "0  2021-11-08 22:00\n",
       "1  2021-11-08 21:30"
      ]
     },
     "execution_count": 3,
     "metadata": {},
     "output_type": "execute_result"
    }
   ],
   "source": [
    "timestamps"
   ]
  },
  {
   "cell_type": "code",
   "execution_count": 4,
   "id": "alternate-victory",
   "metadata": {
    "execution": {
     "iopub.execute_input": "2021-11-08T21:00:09.308726Z",
     "iopub.status.busy": "2021-11-08T21:00:09.306498Z",
     "iopub.status.idle": "2021-11-08T21:00:10.411360Z",
     "shell.execute_reply": "2021-11-08T21:00:10.412953Z"
    },
    "papermill": {
     "duration": 1.139122,
     "end_time": "2021-11-08T21:00:10.413433",
     "exception": false,
     "start_time": "2021-11-08T21:00:09.274311",
     "status": "completed"
    },
    "tags": []
   },
   "outputs": [],
   "source": [
    "df = pd.read_sql(\"select * from EBAY_TOP_BERLIN where record_time in (select distinct record_time from EBAY_TOP_BERLIN order by record_time desc limit 2)\", sqlite3.connect(\"UsedObjects.db\"))"
   ]
  },
  {
   "cell_type": "code",
   "execution_count": 5,
   "id": "popular-active",
   "metadata": {
    "execution": {
     "iopub.execute_input": "2021-11-08T21:00:10.491879Z",
     "iopub.status.busy": "2021-11-08T21:00:10.476778Z",
     "iopub.status.idle": "2021-11-08T21:00:10.510625Z",
     "shell.execute_reply": "2021-11-08T21:00:10.512221Z"
    },
    "papermill": {
     "duration": 0.077262,
     "end_time": "2021-11-08T21:00:10.512804",
     "exception": false,
     "start_time": "2021-11-08T21:00:10.435542",
     "status": "completed"
    },
    "tags": []
   },
   "outputs": [],
   "source": [
    "df_pivot = df.pivot_table(index=\"PRODUCT\", columns = \"RECORD_TIME\", values = \"LISTING_COUNT\")"
   ]
  },
  {
   "cell_type": "code",
   "execution_count": 6,
   "id": "union-huntington",
   "metadata": {
    "execution": {
     "iopub.execute_input": "2021-11-08T21:00:10.574682Z",
     "iopub.status.busy": "2021-11-08T21:00:10.572306Z",
     "iopub.status.idle": "2021-11-08T21:00:10.578549Z",
     "shell.execute_reply": "2021-11-08T21:00:10.580024Z"
    },
    "papermill": {
     "duration": 0.046676,
     "end_time": "2021-11-08T21:00:10.580540",
     "exception": false,
     "start_time": "2021-11-08T21:00:10.533864",
     "status": "completed"
    },
    "tags": []
   },
   "outputs": [],
   "source": [
    "df_pivot.columns = [\"stamp_1\", \"stamp_2\"]\n",
    "df_pivot_diff = df_pivot.diff(axis=1)"
   ]
  },
  {
   "cell_type": "code",
   "execution_count": 7,
   "id": "fifth-motion",
   "metadata": {
    "execution": {
     "iopub.execute_input": "2021-11-08T21:00:10.638724Z",
     "iopub.status.busy": "2021-11-08T21:00:10.636114Z",
     "iopub.status.idle": "2021-11-08T21:00:12.382527Z",
     "shell.execute_reply": "2021-11-08T21:00:12.383834Z"
    },
    "papermill": {
     "duration": 1.782989,
     "end_time": "2021-11-08T21:00:12.384318",
     "exception": false,
     "start_time": "2021-11-08T21:00:10.601329",
     "status": "completed"
    },
    "tags": []
   },
   "outputs": [
    {
     "data": {
      "text/plain": [
       "<AxesSubplot:ylabel='PRODUCT'>"
      ]
     },
     "execution_count": 7,
     "metadata": {},
     "output_type": "execute_result"
    },
    {
     "data": {
      "image/png": "[encoded data removed]",
      "text/plain": [
       "<Figure size 432x288 with 1 Axes>"
      ]
     },
     "metadata": {
      "needs_background": "light"
     },
     "output_type": "display_data"
    }
   ],
   "source": [
    "df_pivot_diff.sort_values(\"stamp_2\", ascending = False)[\"stamp_2\"].head(10).plot.barh()"
   ]
  },
  {
   "cell_type": "code",
   "execution_count": null,
   "id": "extra-executive",
   "metadata": {
    "papermill": {
     "duration": 0.024687,
     "end_time": "2021-11-08T21:00:12.434084",
     "exception": false,
     "start_time": "2021-11-08T21:00:12.409397",
     "status": "completed"
    },
    "tags": []
   },
   "outputs": [],
   "source": []
  }
 ],
 "metadata": {
  "kernelspec": {
   "display_name": "Python 3",
   "language": "python",
   "name": "python3"
  },
  "language_info": {
   "codemirror_mode": {
    "name": "ipython",
    "version": 3
   },
   "file_extension": ".py",
   "mimetype": "text/x-python",
   "name": "python",
   "nbconvert_exporter": "python",
   "pygments_lexer": "ipython3",
   "version": "3.9.5"
  },
  "papermill": {
   "default_parameters": {},
   "duration": 11.009355,
   "end_time": "2021-11-08T21:00:15.560265",
   "environment_variables": {},
   "exception": null,
   "input_path": "eBay_Overview.ipynb",
   "output_path": "eBay_Overview.ipynb",
   "parameters": {},
   "start_time": "2021-11-08T21:00:04.550910",
   "version": "2.3.3"
  }
 },
 "nbformat": 4,
 "nbformat_minor": 5
}