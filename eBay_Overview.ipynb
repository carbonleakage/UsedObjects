{
 "cells": [
  {
   "cell_type": "code",
   "execution_count": 1,
   "id": "reverse-picking",
   "metadata": {
    "execution": {
     "iopub.execute_input": "2021-10-28T01:00:06.774613Z",
     "iopub.status.busy": "2021-10-28T01:00:06.772510Z",
     "iopub.status.idle": "2021-10-28T01:00:07.577378Z",
     "shell.execute_reply": "2021-10-28T01:00:07.578677Z"
    },
    "papermill": {
     "duration": 0.855692,
     "end_time": "2021-10-28T01:00:07.579288",
     "exception": false,
     "start_time": "2021-10-28T01:00:06.723596",
     "status": "completed"
    },
    "tags": []
   },
   "outputs": [],
   "source": [
    "import pandas as pd\n",
    "import sqlite3"
   ]
  },
  {
   "cell_type": "code",
   "execution_count": 2,
   "id": "innovative-syndrome",
   "metadata": {
    "execution": {
     "iopub.execute_input": "2021-10-28T01:00:07.631605Z",
     "iopub.status.busy": "2021-10-28T01:00:07.629467Z",
     "iopub.status.idle": "2021-10-28T01:00:08.285555Z",
     "shell.execute_reply": "2021-10-28T01:00:08.286766Z"
    },
    "papermill": {
     "duration": 0.686069,
     "end_time": "2021-10-28T01:00:08.287162",
     "exception": false,
     "start_time": "2021-10-28T01:00:07.601093",
     "status": "completed"
    },
    "tags": []
   },
   "outputs": [],
   "source": [
    "timestamps = pd.read_sql(\"select distinct record_time from EBAY_TOP_BERLIN order by record_time desc limit 2\", sqlite3.connect(\"UsedObjects.db\"))"
   ]
  },
  {
   "cell_type": "code",
   "execution_count": 3,
   "id": "periodic-identification",
   "metadata": {
    "execution": {
     "iopub.execute_input": "2021-10-28T01:00:08.371465Z",
     "iopub.status.busy": "2021-10-28T01:00:08.369468Z",
     "iopub.status.idle": "2021-10-28T01:00:08.389321Z",
     "shell.execute_reply": "2021-10-28T01:00:08.390639Z"
    },
    "papermill": {
     "duration": 0.072024,
     "end_time": "2021-10-28T01:00:08.391052",
     "exception": false,
     "start_time": "2021-10-28T01:00:08.319028",
     "status": "completed"
    },
    "tags": []
   },
   "outputs": [
    {
     "data": {
      "text/html": [
       "<div>\n",
       "<style scoped>\n",
       "    .dataframe tbody tr th:only-of-type {\n",
       "        vertical-align: middle;\n",
       "    }\n",
       "\n",
       "    .dataframe tbody tr th {\n",
       "        vertical-align: top;\n",
       "    }\n",
       "\n",
       "    .dataframe thead th {\n",
       "        text-align: right;\n",
       "    }\n",
       "</style>\n",
       "<table border=\"1\" class=\"dataframe\">\n",
       "  <thead>\n",
       "    <tr style=\"text-align: right;\">\n",
       "      <th></th>\n",
       "      <th>RECORD_TIME</th>\n",
       "    </tr>\n",
       "  </thead>\n",
       "  <tbody>\n",
       "    <tr>\n",
       "      <th>0</th>\n",
       "      <td>2021-10-28 03:00</td>\n",
       "    </tr>\n",
       "    <tr>\n",
       "      <th>1</th>\n",
       "      <td>2021-10-28 02:30</td>\n",
       "    </tr>\n",
       "  </tbody>\n",
       "</table>\n",
       "</div>"
      ],
      "text/plain": [
       "        RECORD_TIME\n",
       "0  2021-10-28 03:00\n",
       "1  2021-10-28 02:30"
      ]
     },
     "execution_count": 3,
     "metadata": {},
     "output_type": "execute_result"
    }
   ],
   "source": [
    "timestamps"
   ]
  },
  {
   "cell_type": "code",
   "execution_count": 4,
   "id": "alternate-victory",
   "metadata": {
    "execution": {
     "iopub.execute_input": "2021-10-28T01:00:08.441762Z",
     "iopub.status.busy": "2021-10-28T01:00:08.439838Z",
     "iopub.status.idle": "2021-10-28T01:00:09.389636Z",
     "shell.execute_reply": "2021-10-28T01:00:09.391015Z"
    },
    "papermill": {
     "duration": 0.979926,
     "end_time": "2021-10-28T01:00:09.391454",
     "exception": false,
     "start_time": "2021-10-28T01:00:08.411528",
     "status": "completed"
    },
    "tags": []
   },
   "outputs": [],
   "source": [
    "df = pd.read_sql(\"select * from EBAY_TOP_BERLIN where record_time in (select distinct record_time from EBAY_TOP_BERLIN order by record_time desc limit 2)\", sqlite3.connect(\"UsedObjects.db\"))"
   ]
  },
  {
   "cell_type": "code",
   "execution_count": 5,
   "id": "popular-active",
   "metadata": {
    "execution": {
     "iopub.execute_input": "2021-10-28T01:00:09.462471Z",
     "iopub.status.busy": "2021-10-28T01:00:09.450641Z",
     "iopub.status.idle": "2021-10-28T01:00:09.479309Z",
     "shell.execute_reply": "2021-10-28T01:00:09.480965Z"
    },
    "papermill": {
     "duration": 0.068788,
     "end_time": "2021-10-28T01:00:09.481455",
     "exception": false,
     "start_time": "2021-10-28T01:00:09.412667",
     "status": "completed"
    },
    "tags": []
   },
   "outputs": [],
   "source": [
    "df_pivot = df.pivot_table(index=\"PRODUCT\", columns = \"RECORD_TIME\", values = \"LISTING_COUNT\")"
   ]
  },
  {
   "cell_type": "code",
   "execution_count": 6,
   "id": "union-huntington",
   "metadata": {
    "execution": {
     "iopub.execute_input": "2021-10-28T01:00:09.540336Z",
     "iopub.status.busy": "2021-10-28T01:00:09.538074Z",
     "iopub.status.idle": "2021-10-28T01:00:09.543837Z",
     "shell.execute_reply": "2021-10-28T01:00:09.545183Z"
    },
    "papermill": {
     "duration": 0.041725,
     "end_time": "2021-10-28T01:00:09.545606",
     "exception": false,
     "start_time": "2021-10-28T01:00:09.503881",
     "status": "completed"
    },
    "tags": []
   },
   "outputs": [],
   "source": [
    "df_pivot.columns = [\"stamp_1\", \"stamp_2\"]\n",
    "df_pivot_diff = df_pivot.diff(axis=1)"
   ]
  },
  {
   "cell_type": "code",
   "execution_count": 7,
   "id": "fifth-motion",
   "metadata": {
    "execution": {
     "iopub.execute_input": "2021-10-28T01:00:09.599778Z",
     "iopub.status.busy": "2021-10-28T01:00:09.597486Z",
     "iopub.status.idle": "2021-10-28T01:00:11.096928Z",
     "shell.execute_reply": "2021-10-28T01:00:11.095247Z"
    },
    "papermill": {
     "duration": 1.530824,
     "end_time": "2021-10-28T01:00:11.097309",
     "exception": false,
     "start_time": "2021-10-28T01:00:09.566485",
     "status": "completed"
    },
    "tags": []
   },
   "outputs": [
    {
     "data": {
      "text/plain": [
       "<AxesSubplot:ylabel='PRODUCT'>"
      ]
     },
     "execution_count": 7,
     "metadata": {},
     "output_type": "execute_result"
    },
    {
     "data": {
      "image/png": "[encoded data removed]",
      "text/plain": [
       "<Figure size 432x288 with 1 Axes>"
      ]
     },
     "metadata": {
      "needs_background": "light"
     },
     "output_type": "display_data"
    }
   ],
   "source": [
    "df_pivot_diff.sort_values(\"stamp_2\", ascending = False)[\"stamp_2\"].head(10).plot.barh()"
   ]
  },
  {
   "cell_type": "code",
   "execution_count": null,
   "id": "extra-executive",
   "metadata": {
    "papermill": {
     "duration": 0.022727,
     "end_time": "2021-10-28T01:00:11.144940",
     "exception": false,
     "start_time": "2021-10-28T01:00:11.122213",
     "status": "completed"
    },
    "tags": []
   },
   "outputs": [],
   "source": []
  }
 ],
 "metadata": {
  "kernelspec": {
   "display_name": "Python 3",
   "language": "python",
   "name": "python3"
  },
  "language_info": {
   "codemirror_mode": {
    "name": "ipython",
    "version": 3
   },
   "file_extension": ".py",
   "mimetype": "text/x-python",
   "name": "python",
   "nbconvert_exporter": "python",
   "pygments_lexer": "ipython3",
   "version": "3.9.5"
  },
  "papermill": {
   "default_parameters": {},
   "duration": 7.474341,
   "end_time": "2021-10-28T01:00:11.789971",
   "environment_variables": {},
   "exception": null,
   "input_path": "eBay_Overview.ipynb",
   "output_path": "eBay_Overview.ipynb",
   "parameters": {},
   "start_time": "2021-10-28T01:00:04.315630",
   "version": "2.3.3"
  }
 },
 "nbformat": 4,
 "nbformat_minor": 5
}