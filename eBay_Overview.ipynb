{
 "cells": [
  {
   "cell_type": "code",
   "execution_count": 1,
   "id": "reverse-picking",
   "metadata": {
    "execution": {
     "iopub.execute_input": "2021-11-25T02:00:07.749179Z",
     "iopub.status.busy": "2021-11-25T02:00:07.738565Z",
     "iopub.status.idle": "2021-11-25T02:00:08.718949Z",
     "shell.execute_reply": "2021-11-25T02:00:08.720551Z"
    },
    "papermill": {
     "duration": 1.018396,
     "end_time": "2021-11-25T02:00:08.721399",
     "exception": false,
     "start_time": "2021-11-25T02:00:07.703003",
     "status": "completed"
    },
    "tags": []
   },
   "outputs": [],
   "source": [
    "import pandas as pd\n",
    "import sqlite3"
   ]
  },
  {
   "cell_type": "code",
   "execution_count": 2,
   "id": "innovative-syndrome",
   "metadata": {
    "execution": {
     "iopub.execute_input": "2021-11-25T02:00:08.806232Z",
     "iopub.status.busy": "2021-11-25T02:00:08.803796Z",
     "iopub.status.idle": "2021-11-25T02:00:09.714898Z",
     "shell.execute_reply": "2021-11-25T02:00:09.716527Z"
    },
    "papermill": {
     "duration": 0.94514,
     "end_time": "2021-11-25T02:00:09.717104",
     "exception": false,
     "start_time": "2021-11-25T02:00:08.771964",
     "status": "completed"
    },
    "tags": []
   },
   "outputs": [],
   "source": [
    "timestamps = pd.read_sql(\"select distinct record_time from EBAY_TOP_BERLIN order by record_time desc limit 2\", sqlite3.connect(\"UsedObjects.db\"))"
   ]
  },
  {
   "cell_type": "code",
   "execution_count": 3,
   "id": "periodic-identification",
   "metadata": {
    "execution": {
     "iopub.execute_input": "2021-11-25T02:00:09.796020Z",
     "iopub.status.busy": "2021-11-25T02:00:09.789283Z",
     "iopub.status.idle": "2021-11-25T02:00:09.813722Z",
     "shell.execute_reply": "2021-11-25T02:00:09.815308Z"
    },
    "papermill": {
     "duration": 0.076592,
     "end_time": "2021-11-25T02:00:09.815843",
     "exception": false,
     "start_time": "2021-11-25T02:00:09.739251",
     "status": "completed"
    },
    "tags": []
   },
   "outputs": [
    {
     "data": {
      "text/html": [
       "<div>\n",
       "<style scoped>\n",
       "    .dataframe tbody tr th:only-of-type {\n",
       "        vertical-align: middle;\n",
       "    }\n",
       "\n",
       "    .dataframe tbody tr th {\n",
       "        vertical-align: top;\n",
       "    }\n",
       "\n",
       "    .dataframe thead th {\n",
       "        text-align: right;\n",
       "    }\n",
       "</style>\n",
       "<table border=\"1\" class=\"dataframe\">\n",
       "  <thead>\n",
       "    <tr style=\"text-align: right;\">\n",
       "      <th></th>\n",
       "      <th>RECORD_TIME</th>\n",
       "    </tr>\n",
       "  </thead>\n",
       "  <tbody>\n",
       "    <tr>\n",
       "      <th>0</th>\n",
       "      <td>2021-11-25 03:00</td>\n",
       "    </tr>\n",
       "    <tr>\n",
       "      <th>1</th>\n",
       "      <td>2021-11-25 02:30</td>\n",
       "    </tr>\n",
       "  </tbody>\n",
       "</table>\n",
       "</div>"
      ],
      "text/plain": [
       "        RECORD_TIME\n",
       "0  2021-11-25 03:00\n",
       "1  2021-11-25 02:30"
      ]
     },
     "execution_count": 3,
     "metadata": {},
     "output_type": "execute_result"
    }
   ],
   "source": [
    "timestamps"
   ]
  },
  {
   "cell_type": "code",
   "execution_count": 4,
   "id": "alternate-victory",
   "metadata": {
    "execution": {
     "iopub.execute_input": "2021-11-25T02:00:09.873063Z",
     "iopub.status.busy": "2021-11-25T02:00:09.870626Z",
     "iopub.status.idle": "2021-11-25T02:00:11.212117Z",
     "shell.execute_reply": "2021-11-25T02:00:11.213747Z"
    },
    "papermill": {
     "duration": 1.377285,
     "end_time": "2021-11-25T02:00:11.214247",
     "exception": false,
     "start_time": "2021-11-25T02:00:09.836962",
     "status": "completed"
    },
    "tags": []
   },
   "outputs": [],
   "source": [
    "df = pd.read_sql(\"select * from EBAY_TOP_BERLIN where record_time in (select distinct record_time from EBAY_TOP_BERLIN order by record_time desc limit 2)\", sqlite3.connect(\"UsedObjects.db\"))"
   ]
  },
  {
   "cell_type": "code",
   "execution_count": 5,
   "id": "popular-active",
   "metadata": {
    "execution": {
     "iopub.execute_input": "2021-11-25T02:00:11.292961Z",
     "iopub.status.busy": "2021-11-25T02:00:11.277891Z",
     "iopub.status.idle": "2021-11-25T02:00:11.313185Z",
     "shell.execute_reply": "2021-11-25T02:00:11.311302Z"
    },
    "papermill": {
     "duration": 0.076992,
     "end_time": "2021-11-25T02:00:11.313613",
     "exception": false,
     "start_time": "2021-11-25T02:00:11.236621",
     "status": "completed"
    },
    "tags": []
   },
   "outputs": [],
   "source": [
    "df_pivot = df.pivot_table(index=\"PRODUCT\", columns = \"RECORD_TIME\", values = \"LISTING_COUNT\")"
   ]
  },
  {
   "cell_type": "code",
   "execution_count": 6,
   "id": "union-huntington",
   "metadata": {
    "execution": {
     "iopub.execute_input": "2021-11-25T02:00:11.374530Z",
     "iopub.status.busy": "2021-11-25T02:00:11.372072Z",
     "iopub.status.idle": "2021-11-25T02:00:11.377883Z",
     "shell.execute_reply": "2021-11-25T02:00:11.379484Z"
    },
    "papermill": {
     "duration": 0.046401,
     "end_time": "2021-11-25T02:00:11.379977",
     "exception": false,
     "start_time": "2021-11-25T02:00:11.333576",
     "status": "completed"
    },
    "tags": []
   },
   "outputs": [],
   "source": [
    "df_pivot.columns = [\"stamp_1\", \"stamp_2\"]\n",
    "df_pivot_diff = df_pivot.diff(axis=1)"
   ]
  },
  {
   "cell_type": "code",
   "execution_count": 7,
   "id": "fifth-motion",
   "metadata": {
    "execution": {
     "iopub.execute_input": "2021-11-25T02:00:11.440943Z",
     "iopub.status.busy": "2021-11-25T02:00:11.438256Z",
     "iopub.status.idle": "2021-11-25T02:00:13.333307Z",
     "shell.execute_reply": "2021-11-25T02:00:13.335434Z"
    },
    "papermill": {
     "duration": 1.932985,
     "end_time": "2021-11-25T02:00:13.336083",
     "exception": false,
     "start_time": "2021-11-25T02:00:11.403098",
     "status": "completed"
    },
    "tags": []
   },
   "outputs": [
    {
     "data": {
      "text/plain": [
       "<AxesSubplot:ylabel='PRODUCT'>"
      ]
     },
     "execution_count": 7,
     "metadata": {},
     "output_type": "execute_result"
    },
    {
     "data": {
      "image/png": "[encoded data removed]",
      "text/plain": [
       "<Figure size 432x288 with 1 Axes>"
      ]
     },
     "metadata": {
      "needs_background": "light"
     },
     "output_type": "display_data"
    }
   ],
   "source": [
    "df_pivot_diff.sort_values(\"stamp_2\", ascending = False)[\"stamp_2\"].head(10).plot.barh()"
   ]
  },
  {
   "cell_type": "code",
   "execution_count": null,
   "id": "extra-executive",
   "metadata": {
    "papermill": {
     "duration": 0.023382,
     "end_time": "2021-11-25T02:00:13.385221",
     "exception": false,
     "start_time": "2021-11-25T02:00:13.361839",
     "status": "completed"
    },
    "tags": []
   },
   "outputs": [],
   "source": []
  }
 ],
 "metadata": {
  "kernelspec": {
   "display_name": "Python 3",
   "language": "python",
   "name": "python3"
  },
  "language_info": {
   "codemirror_mode": {
    "name": "ipython",
    "version": 3
   },
   "file_extension": ".py",
   "mimetype": "text/x-python",
   "name": "python",
   "nbconvert_exporter": "python",
   "pygments_lexer": "ipython3",
   "version": "3.9.5"
  },
  "papermill": {
   "default_parameters": {},
   "duration": 9.939364,
   "end_time": "2021-11-25T02:00:14.887062",
   "environment_variables": {},
   "exception": null,
   "input_path": "eBay_Overview.ipynb",
   "output_path": "eBay_Overview.ipynb",
   "parameters": {},
   "start_time": "2021-11-25T02:00:04.947698",
   "version": "2.3.3"
  }
 },
 "nbformat": 4,
 "nbformat_minor": 5
}