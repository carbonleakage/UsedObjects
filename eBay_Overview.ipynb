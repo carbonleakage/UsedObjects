{
 "cells": [
  {
   "cell_type": "code",
   "execution_count": 1,
   "id": "reverse-picking",
   "metadata": {
    "execution": {
     "iopub.execute_input": "2021-09-17T06:00:06.885509Z",
     "iopub.status.busy": "2021-09-17T06:00:06.883498Z",
     "iopub.status.idle": "2021-09-17T06:00:07.685065Z",
     "shell.execute_reply": "2021-09-17T06:00:07.686394Z"
    },
    "papermill": {
     "duration": 0.85345,
     "end_time": "2021-09-17T06:00:07.687102",
     "exception": false,
     "start_time": "2021-09-17T06:00:06.833652",
     "status": "completed"
    },
    "tags": []
   },
   "outputs": [],
   "source": [
    "import pandas as pd\n",
    "import sqlite3"
   ]
  },
  {
   "cell_type": "code",
   "execution_count": 2,
   "id": "innovative-syndrome",
   "metadata": {
    "execution": {
     "iopub.execute_input": "2021-09-17T06:00:07.738145Z",
     "iopub.status.busy": "2021-09-17T06:00:07.735830Z",
     "iopub.status.idle": "2021-09-17T06:00:08.041464Z",
     "shell.execute_reply": "2021-09-17T06:00:08.040241Z"
    },
    "papermill": {
     "duration": 0.334628,
     "end_time": "2021-09-17T06:00:08.041813",
     "exception": false,
     "start_time": "2021-09-17T06:00:07.707185",
     "status": "completed"
    },
    "tags": []
   },
   "outputs": [],
   "source": [
    "timestamps = pd.read_sql(\"select distinct record_time from EBAY_TOP_BERLIN order by record_time desc limit 2\", sqlite3.connect(\"UsedObjects.db\"))"
   ]
  },
  {
   "cell_type": "code",
   "execution_count": 3,
   "id": "periodic-identification",
   "metadata": {
    "execution": {
     "iopub.execute_input": "2021-09-17T06:00:08.111914Z",
     "iopub.status.busy": "2021-09-17T06:00:08.109853Z",
     "iopub.status.idle": "2021-09-17T06:00:08.129591Z",
     "shell.execute_reply": "2021-09-17T06:00:08.130928Z"
    },
    "papermill": {
     "duration": 0.066604,
     "end_time": "2021-09-17T06:00:08.131357",
     "exception": false,
     "start_time": "2021-09-17T06:00:08.064753",
     "status": "completed"
    },
    "tags": []
   },
   "outputs": [
    {
     "data": {
      "text/html": [
       "<div>\n",
       "<style scoped>\n",
       "    .dataframe tbody tr th:only-of-type {\n",
       "        vertical-align: middle;\n",
       "    }\n",
       "\n",
       "    .dataframe tbody tr th {\n",
       "        vertical-align: top;\n",
       "    }\n",
       "\n",
       "    .dataframe thead th {\n",
       "        text-align: right;\n",
       "    }\n",
       "</style>\n",
       "<table border=\"1\" class=\"dataframe\">\n",
       "  <thead>\n",
       "    <tr style=\"text-align: right;\">\n",
       "      <th></th>\n",
       "      <th>RECORD_TIME</th>\n",
       "    </tr>\n",
       "  </thead>\n",
       "  <tbody>\n",
       "    <tr>\n",
       "      <th>0</th>\n",
       "      <td>2021-09-17 08:00</td>\n",
       "    </tr>\n",
       "    <tr>\n",
       "      <th>1</th>\n",
       "      <td>2021-09-17 07:30</td>\n",
       "    </tr>\n",
       "  </tbody>\n",
       "</table>\n",
       "</div>"
      ],
      "text/plain": [
       "        RECORD_TIME\n",
       "0  2021-09-17 08:00\n",
       "1  2021-09-17 07:30"
      ]
     },
     "execution_count": 3,
     "metadata": {},
     "output_type": "execute_result"
    }
   ],
   "source": [
    "timestamps"
   ]
  },
  {
   "cell_type": "code",
   "execution_count": 4,
   "id": "alternate-victory",
   "metadata": {
    "execution": {
     "iopub.execute_input": "2021-09-17T06:00:08.192437Z",
     "iopub.status.busy": "2021-09-17T06:00:08.190516Z",
     "iopub.status.idle": "2021-09-17T06:00:08.637407Z",
     "shell.execute_reply": "2021-09-17T06:00:08.638675Z"
    },
    "papermill": {
     "duration": 0.481333,
     "end_time": "2021-09-17T06:00:08.639173",
     "exception": false,
     "start_time": "2021-09-17T06:00:08.157840",
     "status": "completed"
    },
    "tags": []
   },
   "outputs": [],
   "source": [
    "df = pd.read_sql(\"select * from EBAY_TOP_BERLIN where record_time in (select distinct record_time from EBAY_TOP_BERLIN order by record_time desc limit 2)\", sqlite3.connect(\"UsedObjects.db\"))"
   ]
  },
  {
   "cell_type": "code",
   "execution_count": 5,
   "id": "popular-active",
   "metadata": {
    "execution": {
     "iopub.execute_input": "2021-09-17T06:00:08.708917Z",
     "iopub.status.busy": "2021-09-17T06:00:08.697844Z",
     "iopub.status.idle": "2021-09-17T06:00:08.726394Z",
     "shell.execute_reply": "2021-09-17T06:00:08.728109Z"
    },
    "papermill": {
     "duration": 0.069374,
     "end_time": "2021-09-17T06:00:08.728615",
     "exception": false,
     "start_time": "2021-09-17T06:00:08.659241",
     "status": "completed"
    },
    "tags": []
   },
   "outputs": [],
   "source": [
    "df_pivot = df.pivot_table(index=\"PRODUCT\", columns = \"RECORD_TIME\", values = \"LISTING_COUNT\")"
   ]
  },
  {
   "cell_type": "code",
   "execution_count": 6,
   "id": "union-huntington",
   "metadata": {
    "execution": {
     "iopub.execute_input": "2021-09-17T06:00:08.786292Z",
     "iopub.status.busy": "2021-09-17T06:00:08.784117Z",
     "iopub.status.idle": "2021-09-17T06:00:08.789299Z",
     "shell.execute_reply": "2021-09-17T06:00:08.790571Z"
    },
    "papermill": {
     "duration": 0.040669,
     "end_time": "2021-09-17T06:00:08.791046",
     "exception": false,
     "start_time": "2021-09-17T06:00:08.750377",
     "status": "completed"
    },
    "tags": []
   },
   "outputs": [],
   "source": [
    "df_pivot.columns = [\"stamp_1\", \"stamp_2\"]\n",
    "df_pivot_diff = df_pivot.diff(axis=1)"
   ]
  },
  {
   "cell_type": "code",
   "execution_count": 7,
   "id": "fifth-motion",
   "metadata": {
    "execution": {
     "iopub.execute_input": "2021-09-17T06:00:08.844921Z",
     "iopub.status.busy": "2021-09-17T06:00:08.842475Z",
     "iopub.status.idle": "2021-09-17T06:00:10.345518Z",
     "shell.execute_reply": "2021-09-17T06:00:10.344132Z"
    },
    "papermill": {
     "duration": 1.53436,
     "end_time": "2021-09-17T06:00:10.345873",
     "exception": false,
     "start_time": "2021-09-17T06:00:08.811513",
     "status": "completed"
    },
    "tags": []
   },
   "outputs": [
    {
     "data": {
      "text/plain": [
       "<AxesSubplot:ylabel='PRODUCT'>"
      ]
     },
     "execution_count": 7,
     "metadata": {},
     "output_type": "execute_result"
    },
    {
     "data": {
      "image/png": "[encoded data removed]",
      "text/plain": [
       "<Figure size 432x288 with 1 Axes>"
      ]
     },
     "metadata": {
      "needs_background": "light"
     },
     "output_type": "display_data"
    }
   ],
   "source": [
    "df_pivot_diff.sort_values(\"stamp_2\", ascending = False)[\"stamp_2\"].head(10).plot.barh()"
   ]
  },
  {
   "cell_type": "code",
   "execution_count": null,
   "id": "extra-executive",
   "metadata": {
    "papermill": {
     "duration": 0.022013,
     "end_time": "2021-09-17T06:00:10.393161",
     "exception": false,
     "start_time": "2021-09-17T06:00:10.371148",
     "status": "completed"
    },
    "tags": []
   },
   "outputs": [],
   "source": []
  }
 ],
 "metadata": {
  "kernelspec": {
   "display_name": "Python 3",
   "language": "python",
   "name": "python3"
  },
  "language_info": {
   "codemirror_mode": {
    "name": "ipython",
    "version": 3
   },
   "file_extension": ".py",
   "mimetype": "text/x-python",
   "name": "python",
   "nbconvert_exporter": "python",
   "pygments_lexer": "ipython3",
   "version": "3.9.5"
  },
  "papermill": {
   "default_parameters": {},
   "duration": 6.793495,
   "end_time": "2021-09-17T06:00:11.035834",
   "environment_variables": {},
   "exception": null,
   "input_path": "eBay_Overview.ipynb",
   "output_path": "eBay_Overview.ipynb",
   "parameters": {},
   "start_time": "2021-09-17T06:00:04.242339",
   "version": "2.3.3"
  }
 },
 "nbformat": 4,
 "nbformat_minor": 5
}