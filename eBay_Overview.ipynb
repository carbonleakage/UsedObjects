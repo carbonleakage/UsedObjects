{
 "cells": [
  {
   "cell_type": "code",
   "execution_count": 1,
   "id": "reverse-picking",
   "metadata": {
    "execution": {
     "iopub.execute_input": "2021-11-25T20:30:07.163934Z",
     "iopub.status.busy": "2021-11-25T20:30:07.161208Z",
     "iopub.status.idle": "2021-11-25T20:30:08.124826Z",
     "shell.execute_reply": "2021-11-25T20:30:08.126376Z"
    },
    "papermill": {
     "duration": 1.017728,
     "end_time": "2021-11-25T20:30:08.127103",
     "exception": false,
     "start_time": "2021-11-25T20:30:07.109375",
     "status": "completed"
    },
    "tags": []
   },
   "outputs": [],
   "source": [
    "import pandas as pd\n",
    "import sqlite3"
   ]
  },
  {
   "cell_type": "code",
   "execution_count": 2,
   "id": "innovative-syndrome",
   "metadata": {
    "execution": {
     "iopub.execute_input": "2021-11-25T20:30:08.192184Z",
     "iopub.status.busy": "2021-11-25T20:30:08.189815Z",
     "iopub.status.idle": "2021-11-25T20:30:09.238215Z",
     "shell.execute_reply": "2021-11-25T20:30:09.239450Z"
    },
    "papermill": {
     "duration": 1.081889,
     "end_time": "2021-11-25T20:30:09.239850",
     "exception": false,
     "start_time": "2021-11-25T20:30:08.157961",
     "status": "completed"
    },
    "tags": []
   },
   "outputs": [],
   "source": [
    "timestamps = pd.read_sql(\"select distinct record_time from EBAY_TOP_BERLIN order by record_time desc limit 2\", sqlite3.connect(\"UsedObjects.db\"))"
   ]
  },
  {
   "cell_type": "code",
   "execution_count": 3,
   "id": "periodic-identification",
   "metadata": {
    "execution": {
     "iopub.execute_input": "2021-11-25T20:30:09.304553Z",
     "iopub.status.busy": "2021-11-25T20:30:09.302521Z",
     "iopub.status.idle": "2021-11-25T20:30:09.322573Z",
     "shell.execute_reply": "2021-11-25T20:30:09.323877Z"
    },
    "papermill": {
     "duration": 0.064465,
     "end_time": "2021-11-25T20:30:09.324292",
     "exception": false,
     "start_time": "2021-11-25T20:30:09.259827",
     "status": "completed"
    },
    "tags": []
   },
   "outputs": [
    {
     "data": {
      "text/html": [
       "<div>\n",
       "<style scoped>\n",
       "    .dataframe tbody tr th:only-of-type {\n",
       "        vertical-align: middle;\n",
       "    }\n",
       "\n",
       "    .dataframe tbody tr th {\n",
       "        vertical-align: top;\n",
       "    }\n",
       "\n",
       "    .dataframe thead th {\n",
       "        text-align: right;\n",
       "    }\n",
       "</style>\n",
       "<table border=\"1\" class=\"dataframe\">\n",
       "  <thead>\n",
       "    <tr style=\"text-align: right;\">\n",
       "      <th></th>\n",
       "      <th>RECORD_TIME</th>\n",
       "    </tr>\n",
       "  </thead>\n",
       "  <tbody>\n",
       "    <tr>\n",
       "      <th>0</th>\n",
       "      <td>2021-11-25 21:30</td>\n",
       "    </tr>\n",
       "    <tr>\n",
       "      <th>1</th>\n",
       "      <td>2021-11-25 21:00</td>\n",
       "    </tr>\n",
       "  </tbody>\n",
       "</table>\n",
       "</div>"
      ],
      "text/plain": [
       "        RECORD_TIME\n",
       "0  2021-11-25 21:30\n",
       "1  2021-11-25 21:00"
      ]
     },
     "execution_count": 3,
     "metadata": {},
     "output_type": "execute_result"
    }
   ],
   "source": [
    "timestamps"
   ]
  },
  {
   "cell_type": "code",
   "execution_count": 4,
   "id": "alternate-victory",
   "metadata": {
    "execution": {
     "iopub.execute_input": "2021-11-25T20:30:09.376156Z",
     "iopub.status.busy": "2021-11-25T20:30:09.374201Z",
     "iopub.status.idle": "2021-11-25T20:30:10.693365Z",
     "shell.execute_reply": "2021-11-25T20:30:10.694769Z"
    },
    "papermill": {
     "duration": 1.349552,
     "end_time": "2021-11-25T20:30:10.695250",
     "exception": false,
     "start_time": "2021-11-25T20:30:09.345698",
     "status": "completed"
    },
    "tags": []
   },
   "outputs": [],
   "source": [
    "df = pd.read_sql(\"select * from EBAY_TOP_BERLIN where record_time in (select distinct record_time from EBAY_TOP_BERLIN order by record_time desc limit 2)\", sqlite3.connect(\"UsedObjects.db\"))"
   ]
  },
  {
   "cell_type": "code",
   "execution_count": 5,
   "id": "popular-active",
   "metadata": {
    "execution": {
     "iopub.execute_input": "2021-11-25T20:30:10.765868Z",
     "iopub.status.busy": "2021-11-25T20:30:10.763420Z",
     "iopub.status.idle": "2021-11-25T20:30:10.792104Z",
     "shell.execute_reply": "2021-11-25T20:30:10.793878Z"
    },
    "papermill": {
     "duration": 0.078857,
     "end_time": "2021-11-25T20:30:10.794375",
     "exception": false,
     "start_time": "2021-11-25T20:30:10.715518",
     "status": "completed"
    },
    "tags": []
   },
   "outputs": [],
   "source": [
    "df_pivot = df.pivot_table(index=\"PRODUCT\", columns = \"RECORD_TIME\", values = \"LISTING_COUNT\")"
   ]
  },
  {
   "cell_type": "code",
   "execution_count": 6,
   "id": "union-huntington",
   "metadata": {
    "execution": {
     "iopub.execute_input": "2021-11-25T20:30:10.858730Z",
     "iopub.status.busy": "2021-11-25T20:30:10.846643Z",
     "iopub.status.idle": "2021-11-25T20:30:10.864376Z",
     "shell.execute_reply": "2021-11-25T20:30:10.865971Z"
    },
    "papermill": {
     "duration": 0.050744,
     "end_time": "2021-11-25T20:30:10.866476",
     "exception": false,
     "start_time": "2021-11-25T20:30:10.815732",
     "status": "completed"
    },
    "tags": []
   },
   "outputs": [],
   "source": [
    "df_pivot.columns = [\"stamp_1\", \"stamp_2\"]\n",
    "df_pivot_diff = df_pivot.diff(axis=1)"
   ]
  },
  {
   "cell_type": "code",
   "execution_count": 7,
   "id": "fifth-motion",
   "metadata": {
    "execution": {
     "iopub.execute_input": "2021-11-25T20:30:10.925029Z",
     "iopub.status.busy": "2021-11-25T20:30:10.922541Z",
     "iopub.status.idle": "2021-11-25T20:30:12.900256Z",
     "shell.execute_reply": "2021-11-25T20:30:12.897747Z"
    },
    "papermill": {
     "duration": 2.012862,
     "end_time": "2021-11-25T20:30:12.901058",
     "exception": false,
     "start_time": "2021-11-25T20:30:10.888196",
     "status": "completed"
    },
    "tags": []
   },
   "outputs": [
    {
     "data": {
      "text/plain": [
       "<AxesSubplot:ylabel='PRODUCT'>"
      ]
     },
     "execution_count": 7,
     "metadata": {},
     "output_type": "execute_result"
    },
    {
     "data": {
      "image/png": "[encoded data removed]",
      "text/plain": [
       "<Figure size 432x288 with 1 Axes>"
      ]
     },
     "metadata": {
      "needs_background": "light"
     },
     "output_type": "display_data"
    }
   ],
   "source": [
    "df_pivot_diff.sort_values(\"stamp_2\", ascending = False)[\"stamp_2\"].head(10).plot.barh()"
   ]
  },
  {
   "cell_type": "code",
   "execution_count": null,
   "id": "extra-executive",
   "metadata": {
    "papermill": {
     "duration": 0.034214,
     "end_time": "2021-11-25T20:30:12.968650",
     "exception": false,
     "start_time": "2021-11-25T20:30:12.934436",
     "status": "completed"
    },
    "tags": []
   },
   "outputs": [],
   "source": []
  }
 ],
 "metadata": {
  "kernelspec": {
   "display_name": "Python 3",
   "language": "python",
   "name": "python3"
  },
  "language_info": {
   "codemirror_mode": {
    "name": "ipython",
    "version": 3
   },
   "file_extension": ".py",
   "mimetype": "text/x-python",
   "name": "python",
   "nbconvert_exporter": "python",
   "pygments_lexer": "ipython3",
   "version": "3.9.5"
  },
  "papermill": {
   "default_parameters": {},
   "duration": 9.940221,
   "end_time": "2021-11-25T20:30:14.342248",
   "environment_variables": {},
   "exception": null,
   "input_path": "eBay_Overview.ipynb",
   "output_path": "eBay_Overview.ipynb",
   "parameters": {},
   "start_time": "2021-11-25T20:30:04.402027",
   "version": "2.3.3"
  }
 },
 "nbformat": 4,
 "nbformat_minor": 5
}