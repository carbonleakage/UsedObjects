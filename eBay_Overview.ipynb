{
 "cells": [
  {
   "cell_type": "code",
   "execution_count": 1,
   "id": "reverse-picking",
   "metadata": {
    "execution": {
     "iopub.execute_input": "2021-08-27T16:30:06.735541Z",
     "iopub.status.busy": "2021-08-27T16:30:06.733630Z",
     "iopub.status.idle": "2021-08-27T16:30:07.533762Z",
     "shell.execute_reply": "2021-08-27T16:30:07.535179Z"
    },
    "papermill": {
     "duration": 0.850971,
     "end_time": "2021-08-27T16:30:07.535877",
     "exception": false,
     "start_time": "2021-08-27T16:30:06.684906",
     "status": "completed"
    },
    "tags": []
   },
   "outputs": [],
   "source": [
    "import pandas as pd\n",
    "import sqlite3"
   ]
  },
  {
   "cell_type": "code",
   "execution_count": 2,
   "id": "innovative-syndrome",
   "metadata": {
    "execution": {
     "iopub.execute_input": "2021-08-27T16:30:07.586780Z",
     "iopub.status.busy": "2021-08-27T16:30:07.584571Z",
     "iopub.status.idle": "2021-08-27T16:30:07.729898Z",
     "shell.execute_reply": "2021-08-27T16:30:07.731089Z"
    },
    "papermill": {
     "duration": 0.175208,
     "end_time": "2021-08-27T16:30:07.731488",
     "exception": false,
     "start_time": "2021-08-27T16:30:07.556280",
     "status": "completed"
    },
    "tags": []
   },
   "outputs": [],
   "source": [
    "timestamps = pd.read_sql(\"select distinct record_time from EBAY_TOP_BERLIN order by record_time desc limit 2\", sqlite3.connect(\"UsedObjects.db\"))"
   ]
  },
  {
   "cell_type": "code",
   "execution_count": 3,
   "id": "periodic-identification",
   "metadata": {
    "execution": {
     "iopub.execute_input": "2021-08-27T16:30:07.794518Z",
     "iopub.status.busy": "2021-08-27T16:30:07.792499Z",
     "iopub.status.idle": "2021-08-27T16:30:07.812952Z",
     "shell.execute_reply": "2021-08-27T16:30:07.814141Z"
    },
    "papermill": {
     "duration": 0.063522,
     "end_time": "2021-08-27T16:30:07.814582",
     "exception": false,
     "start_time": "2021-08-27T16:30:07.751060",
     "status": "completed"
    },
    "tags": []
   },
   "outputs": [
    {
     "data": {
      "text/html": [
       "<div>\n",
       "<style scoped>\n",
       "    .dataframe tbody tr th:only-of-type {\n",
       "        vertical-align: middle;\n",
       "    }\n",
       "\n",
       "    .dataframe tbody tr th {\n",
       "        vertical-align: top;\n",
       "    }\n",
       "\n",
       "    .dataframe thead th {\n",
       "        text-align: right;\n",
       "    }\n",
       "</style>\n",
       "<table border=\"1\" class=\"dataframe\">\n",
       "  <thead>\n",
       "    <tr style=\"text-align: right;\">\n",
       "      <th></th>\n",
       "      <th>RECORD_TIME</th>\n",
       "    </tr>\n",
       "  </thead>\n",
       "  <tbody>\n",
       "    <tr>\n",
       "      <th>0</th>\n",
       "      <td>2021-08-27 18:30</td>\n",
       "    </tr>\n",
       "    <tr>\n",
       "      <th>1</th>\n",
       "      <td>2021-08-27 18:00</td>\n",
       "    </tr>\n",
       "  </tbody>\n",
       "</table>\n",
       "</div>"
      ],
      "text/plain": [
       "        RECORD_TIME\n",
       "0  2021-08-27 18:30\n",
       "1  2021-08-27 18:00"
      ]
     },
     "execution_count": 3,
     "metadata": {},
     "output_type": "execute_result"
    }
   ],
   "source": [
    "timestamps"
   ]
  },
  {
   "cell_type": "code",
   "execution_count": 4,
   "id": "alternate-victory",
   "metadata": {
    "execution": {
     "iopub.execute_input": "2021-08-27T16:30:07.868472Z",
     "iopub.status.busy": "2021-08-27T16:30:07.866129Z",
     "iopub.status.idle": "2021-08-27T16:30:08.078117Z",
     "shell.execute_reply": "2021-08-27T16:30:08.079314Z"
    },
    "papermill": {
     "duration": 0.242306,
     "end_time": "2021-08-27T16:30:08.079719",
     "exception": false,
     "start_time": "2021-08-27T16:30:07.837413",
     "status": "completed"
    },
    "tags": []
   },
   "outputs": [],
   "source": [
    "df = pd.read_sql(\"select * from EBAY_TOP_BERLIN where record_time in (select distinct record_time from EBAY_TOP_BERLIN order by record_time desc limit 2)\", sqlite3.connect(\"UsedObjects.db\"))"
   ]
  },
  {
   "cell_type": "code",
   "execution_count": 5,
   "id": "popular-active",
   "metadata": {
    "execution": {
     "iopub.execute_input": "2021-08-27T16:30:08.153855Z",
     "iopub.status.busy": "2021-08-27T16:30:08.141971Z",
     "iopub.status.idle": "2021-08-27T16:30:08.169388Z",
     "shell.execute_reply": "2021-08-27T16:30:08.170588Z"
    },
    "papermill": {
     "duration": 0.068228,
     "end_time": "2021-08-27T16:30:08.170990",
     "exception": false,
     "start_time": "2021-08-27T16:30:08.102762",
     "status": "completed"
    },
    "tags": []
   },
   "outputs": [],
   "source": [
    "df_pivot = df.pivot_table(index=\"PRODUCT\", columns = \"RECORD_TIME\", values = \"LISTING_COUNT\")"
   ]
  },
  {
   "cell_type": "code",
   "execution_count": 6,
   "id": "union-huntington",
   "metadata": {
    "execution": {
     "iopub.execute_input": "2021-08-27T16:30:08.237572Z",
     "iopub.status.busy": "2021-08-27T16:30:08.235380Z",
     "iopub.status.idle": "2021-08-27T16:30:08.242399Z",
     "shell.execute_reply": "2021-08-27T16:30:08.240921Z"
    },
    "papermill": {
     "duration": 0.044235,
     "end_time": "2021-08-27T16:30:08.242780",
     "exception": false,
     "start_time": "2021-08-27T16:30:08.198545",
     "status": "completed"
    },
    "tags": []
   },
   "outputs": [],
   "source": [
    "df_pivot.columns = [\"stamp_1\", \"stamp_2\"]\n",
    "df_pivot_diff = df_pivot.diff(axis=1)"
   ]
  },
  {
   "cell_type": "code",
   "execution_count": 7,
   "id": "fifth-motion",
   "metadata": {
    "execution": {
     "iopub.execute_input": "2021-08-27T16:30:08.299533Z",
     "iopub.status.busy": "2021-08-27T16:30:08.296923Z",
     "iopub.status.idle": "2021-08-27T16:30:09.775482Z",
     "shell.execute_reply": "2021-08-27T16:30:09.776840Z"
    },
    "papermill": {
     "duration": 1.512277,
     "end_time": "2021-08-27T16:30:09.777270",
     "exception": false,
     "start_time": "2021-08-27T16:30:08.264993",
     "status": "completed"
    },
    "tags": []
   },
   "outputs": [
    {
     "data": {
      "text/plain": [
       "<AxesSubplot:ylabel='PRODUCT'>"
      ]
     },
     "execution_count": 7,
     "metadata": {},
     "output_type": "execute_result"
    },
    {
     "data": {
      "image/png": "[encoded data removed]",
      "text/plain": [
       "<Figure size 432x288 with 1 Axes>"
      ]
     },
     "metadata": {
      "needs_background": "light"
     },
     "output_type": "display_data"
    }
   ],
   "source": [
    "df_pivot_diff.sort_values(\"stamp_2\", ascending = False)[\"stamp_2\"].head(10).plot.barh()"
   ]
  },
  {
   "cell_type": "code",
   "execution_count": null,
   "id": "extra-executive",
   "metadata": {
    "papermill": {
     "duration": 0.022386,
     "end_time": "2021-08-27T16:30:09.824439",
     "exception": false,
     "start_time": "2021-08-27T16:30:09.802053",
     "status": "completed"
    },
    "tags": []
   },
   "outputs": [],
   "source": []
  }
 ],
 "metadata": {
  "kernelspec": {
   "display_name": "Python 3",
   "language": "python",
   "name": "python3"
  },
  "language_info": {
   "codemirror_mode": {
    "name": "ipython",
    "version": 3
   },
   "file_extension": ".py",
   "mimetype": "text/x-python",
   "name": "python",
   "nbconvert_exporter": "python",
   "pygments_lexer": "ipython3",
   "version": "3.9.5"
  },
  "papermill": {
   "default_parameters": {},
   "duration": 6.822892,
   "end_time": "2021-08-27T16:30:11.106047",
   "environment_variables": {},
   "exception": null,
   "input_path": "eBay_Overview.ipynb",
   "output_path": "eBay_Overview.ipynb",
   "parameters": {},
   "start_time": "2021-08-27T16:30:04.283155",
   "version": "2.3.3"
  }
 },
 "nbformat": 4,
 "nbformat_minor": 5
}