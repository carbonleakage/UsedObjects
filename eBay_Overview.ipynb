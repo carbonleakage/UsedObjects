{
 "cells": [
  {
   "cell_type": "code",
   "execution_count": 1,
   "id": "reverse-picking",
   "metadata": {
    "execution": {
     "iopub.execute_input": "2021-11-14T16:00:07.873836Z",
     "iopub.status.busy": "2021-11-14T16:00:07.871535Z",
     "iopub.status.idle": "2021-11-14T16:00:08.831144Z",
     "shell.execute_reply": "2021-11-14T16:00:08.832742Z"
    },
    "papermill": {
     "duration": 1.010393,
     "end_time": "2021-11-14T16:00:08.833505",
     "exception": false,
     "start_time": "2021-11-14T16:00:07.823112",
     "status": "completed"
    },
    "tags": []
   },
   "outputs": [],
   "source": [
    "import pandas as pd\n",
    "import sqlite3"
   ]
  },
  {
   "cell_type": "code",
   "execution_count": 2,
   "id": "innovative-syndrome",
   "metadata": {
    "execution": {
     "iopub.execute_input": "2021-11-14T16:00:08.894764Z",
     "iopub.status.busy": "2021-11-14T16:00:08.892332Z",
     "iopub.status.idle": "2021-11-14T16:00:09.713233Z",
     "shell.execute_reply": "2021-11-14T16:00:09.714808Z"
    },
    "papermill": {
     "duration": 0.854944,
     "end_time": "2021-11-14T16:00:09.715298",
     "exception": false,
     "start_time": "2021-11-14T16:00:08.860354",
     "status": "completed"
    },
    "tags": []
   },
   "outputs": [],
   "source": [
    "timestamps = pd.read_sql(\"select distinct record_time from EBAY_TOP_BERLIN order by record_time desc limit 2\", sqlite3.connect(\"UsedObjects.db\"))"
   ]
  },
  {
   "cell_type": "code",
   "execution_count": 3,
   "id": "periodic-identification",
   "metadata": {
    "execution": {
     "iopub.execute_input": "2021-11-14T16:00:09.785147Z",
     "iopub.status.busy": "2021-11-14T16:00:09.782812Z",
     "iopub.status.idle": "2021-11-14T16:00:09.807010Z",
     "shell.execute_reply": "2021-11-14T16:00:09.808433Z"
    },
    "papermill": {
     "duration": 0.07366,
     "end_time": "2021-11-14T16:00:09.808985",
     "exception": false,
     "start_time": "2021-11-14T16:00:09.735325",
     "status": "completed"
    },
    "tags": []
   },
   "outputs": [
    {
     "data": {
      "text/html": [
       "<div>\n",
       "<style scoped>\n",
       "    .dataframe tbody tr th:only-of-type {\n",
       "        vertical-align: middle;\n",
       "    }\n",
       "\n",
       "    .dataframe tbody tr th {\n",
       "        vertical-align: top;\n",
       "    }\n",
       "\n",
       "    .dataframe thead th {\n",
       "        text-align: right;\n",
       "    }\n",
       "</style>\n",
       "<table border=\"1\" class=\"dataframe\">\n",
       "  <thead>\n",
       "    <tr style=\"text-align: right;\">\n",
       "      <th></th>\n",
       "      <th>RECORD_TIME</th>\n",
       "    </tr>\n",
       "  </thead>\n",
       "  <tbody>\n",
       "    <tr>\n",
       "      <th>0</th>\n",
       "      <td>2021-11-14 17:00</td>\n",
       "    </tr>\n",
       "    <tr>\n",
       "      <th>1</th>\n",
       "      <td>2021-11-14 16:30</td>\n",
       "    </tr>\n",
       "  </tbody>\n",
       "</table>\n",
       "</div>"
      ],
      "text/plain": [
       "        RECORD_TIME\n",
       "0  2021-11-14 17:00\n",
       "1  2021-11-14 16:30"
      ]
     },
     "execution_count": 3,
     "metadata": {},
     "output_type": "execute_result"
    }
   ],
   "source": [
    "timestamps"
   ]
  },
  {
   "cell_type": "code",
   "execution_count": 4,
   "id": "alternate-victory",
   "metadata": {
    "execution": {
     "iopub.execute_input": "2021-11-14T16:00:09.865365Z",
     "iopub.status.busy": "2021-11-14T16:00:09.863393Z",
     "iopub.status.idle": "2021-11-14T16:00:11.056057Z",
     "shell.execute_reply": "2021-11-14T16:00:11.057527Z"
    },
    "papermill": {
     "duration": 1.227466,
     "end_time": "2021-11-14T16:00:11.057996",
     "exception": false,
     "start_time": "2021-11-14T16:00:09.830530",
     "status": "completed"
    },
    "tags": []
   },
   "outputs": [],
   "source": [
    "df = pd.read_sql(\"select * from EBAY_TOP_BERLIN where record_time in (select distinct record_time from EBAY_TOP_BERLIN order by record_time desc limit 2)\", sqlite3.connect(\"UsedObjects.db\"))"
   ]
  },
  {
   "cell_type": "code",
   "execution_count": 5,
   "id": "popular-active",
   "metadata": {
    "execution": {
     "iopub.execute_input": "2021-11-14T16:00:11.135215Z",
     "iopub.status.busy": "2021-11-14T16:00:11.128486Z",
     "iopub.status.idle": "2021-11-14T16:00:11.155182Z",
     "shell.execute_reply": "2021-11-14T16:00:11.153619Z"
    },
    "papermill": {
     "duration": 0.075569,
     "end_time": "2021-11-14T16:00:11.155712",
     "exception": false,
     "start_time": "2021-11-14T16:00:11.080143",
     "status": "completed"
    },
    "tags": []
   },
   "outputs": [],
   "source": [
    "df_pivot = df.pivot_table(index=\"PRODUCT\", columns = \"RECORD_TIME\", values = \"LISTING_COUNT\")"
   ]
  },
  {
   "cell_type": "code",
   "execution_count": 6,
   "id": "union-huntington",
   "metadata": {
    "execution": {
     "iopub.execute_input": "2021-11-14T16:00:11.217797Z",
     "iopub.status.busy": "2021-11-14T16:00:11.215385Z",
     "iopub.status.idle": "2021-11-14T16:00:11.223086Z",
     "shell.execute_reply": "2021-11-14T16:00:11.221360Z"
    },
    "papermill": {
     "duration": 0.045957,
     "end_time": "2021-11-14T16:00:11.223525",
     "exception": false,
     "start_time": "2021-11-14T16:00:11.177568",
     "status": "completed"
    },
    "tags": []
   },
   "outputs": [],
   "source": [
    "df_pivot.columns = [\"stamp_1\", \"stamp_2\"]\n",
    "df_pivot_diff = df_pivot.diff(axis=1)"
   ]
  },
  {
   "cell_type": "code",
   "execution_count": 7,
   "id": "fifth-motion",
   "metadata": {
    "execution": {
     "iopub.execute_input": "2021-11-14T16:00:11.292013Z",
     "iopub.status.busy": "2021-11-14T16:00:11.280657Z",
     "iopub.status.idle": "2021-11-14T16:00:13.188677Z",
     "shell.execute_reply": "2021-11-14T16:00:13.190257Z"
    },
    "papermill": {
     "duration": 1.945788,
     "end_time": "2021-11-14T16:00:13.190735",
     "exception": false,
     "start_time": "2021-11-14T16:00:11.244947",
     "status": "completed"
    },
    "tags": []
   },
   "outputs": [
    {
     "data": {
      "text/plain": [
       "<AxesSubplot:ylabel='PRODUCT'>"
      ]
     },
     "execution_count": 7,
     "metadata": {},
     "output_type": "execute_result"
    },
    {
     "data": {
      "image/png": "[encoded data removed]",
      "text/plain": [
       "<Figure size 432x288 with 1 Axes>"
      ]
     },
     "metadata": {
      "needs_background": "light"
     },
     "output_type": "display_data"
    }
   ],
   "source": [
    "df_pivot_diff.sort_values(\"stamp_2\", ascending = False)[\"stamp_2\"].head(10).plot.barh()"
   ]
  },
  {
   "cell_type": "code",
   "execution_count": null,
   "id": "extra-executive",
   "metadata": {
    "papermill": {
     "duration": 0.027869,
     "end_time": "2021-11-14T16:00:13.243140",
     "exception": false,
     "start_time": "2021-11-14T16:00:13.215271",
     "status": "completed"
    },
    "tags": []
   },
   "outputs": [],
   "source": []
  }
 ],
 "metadata": {
  "kernelspec": {
   "display_name": "Python 3",
   "language": "python",
   "name": "python3"
  },
  "language_info": {
   "codemirror_mode": {
    "name": "ipython",
    "version": 3
   },
   "file_extension": ".py",
   "mimetype": "text/x-python",
   "name": "python",
   "nbconvert_exporter": "python",
   "pygments_lexer": "ipython3",
   "version": "3.9.5"
  },
  "papermill": {
   "default_parameters": {},
   "duration": 9.94596,
   "end_time": "2021-11-14T16:00:15.027492",
   "environment_variables": {},
   "exception": null,
   "input_path": "eBay_Overview.ipynb",
   "output_path": "eBay_Overview.ipynb",
   "parameters": {},
   "start_time": "2021-11-14T16:00:05.081532",
   "version": "2.3.3"
  }
 },
 "nbformat": 4,
 "nbformat_minor": 5
}