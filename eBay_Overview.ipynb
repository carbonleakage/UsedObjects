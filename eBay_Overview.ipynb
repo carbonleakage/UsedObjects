{
 "cells": [
  {
   "cell_type": "code",
   "execution_count": 1,
   "id": "reverse-picking",
   "metadata": {
    "execution": {
     "iopub.execute_input": "2021-11-28T18:30:07.526061Z",
     "iopub.status.busy": "2021-11-28T18:30:07.523861Z",
     "iopub.status.idle": "2021-11-28T18:30:08.497000Z",
     "shell.execute_reply": "2021-11-28T18:30:08.498433Z"
    },
    "papermill": {
     "duration": 1.00722,
     "end_time": "2021-11-28T18:30:08.499154",
     "exception": false,
     "start_time": "2021-11-28T18:30:07.491934",
     "status": "completed"
    },
    "tags": []
   },
   "outputs": [],
   "source": [
    "import pandas as pd\n",
    "import sqlite3"
   ]
  },
  {
   "cell_type": "code",
   "execution_count": 2,
   "id": "innovative-syndrome",
   "metadata": {
    "execution": {
     "iopub.execute_input": "2021-11-28T18:30:08.562045Z",
     "iopub.status.busy": "2021-11-28T18:30:08.559752Z",
     "iopub.status.idle": "2021-11-28T18:30:09.495777Z",
     "shell.execute_reply": "2021-11-28T18:30:09.497990Z"
    },
    "papermill": {
     "duration": 0.970932,
     "end_time": "2021-11-28T18:30:09.498462",
     "exception": false,
     "start_time": "2021-11-28T18:30:08.527530",
     "status": "completed"
    },
    "tags": []
   },
   "outputs": [],
   "source": [
    "timestamps = pd.read_sql(\"select distinct record_time from EBAY_TOP_BERLIN order by record_time desc limit 2\", sqlite3.connect(\"UsedObjects.db\"))"
   ]
  },
  {
   "cell_type": "code",
   "execution_count": 3,
   "id": "periodic-identification",
   "metadata": {
    "execution": {
     "iopub.execute_input": "2021-11-28T18:30:09.571906Z",
     "iopub.status.busy": "2021-11-28T18:30:09.569875Z",
     "iopub.status.idle": "2021-11-28T18:30:09.589955Z",
     "shell.execute_reply": "2021-11-28T18:30:09.591250Z"
    },
    "papermill": {
     "duration": 0.069624,
     "end_time": "2021-11-28T18:30:09.591662",
     "exception": false,
     "start_time": "2021-11-28T18:30:09.522038",
     "status": "completed"
    },
    "tags": []
   },
   "outputs": [
    {
     "data": {
      "text/html": [
       "<div>\n",
       "<style scoped>\n",
       "    .dataframe tbody tr th:only-of-type {\n",
       "        vertical-align: middle;\n",
       "    }\n",
       "\n",
       "    .dataframe tbody tr th {\n",
       "        vertical-align: top;\n",
       "    }\n",
       "\n",
       "    .dataframe thead th {\n",
       "        text-align: right;\n",
       "    }\n",
       "</style>\n",
       "<table border=\"1\" class=\"dataframe\">\n",
       "  <thead>\n",
       "    <tr style=\"text-align: right;\">\n",
       "      <th></th>\n",
       "      <th>RECORD_TIME</th>\n",
       "    </tr>\n",
       "  </thead>\n",
       "  <tbody>\n",
       "    <tr>\n",
       "      <th>0</th>\n",
       "      <td>2021-11-28 19:30</td>\n",
       "    </tr>\n",
       "    <tr>\n",
       "      <th>1</th>\n",
       "      <td>2021-11-28 19:00</td>\n",
       "    </tr>\n",
       "  </tbody>\n",
       "</table>\n",
       "</div>"
      ],
      "text/plain": [
       "        RECORD_TIME\n",
       "0  2021-11-28 19:30\n",
       "1  2021-11-28 19:00"
      ]
     },
     "execution_count": 3,
     "metadata": {},
     "output_type": "execute_result"
    }
   ],
   "source": [
    "timestamps"
   ]
  },
  {
   "cell_type": "code",
   "execution_count": 4,
   "id": "alternate-victory",
   "metadata": {
    "execution": {
     "iopub.execute_input": "2021-11-28T18:30:09.644057Z",
     "iopub.status.busy": "2021-11-28T18:30:09.641750Z",
     "iopub.status.idle": "2021-11-28T18:30:10.986264Z",
     "shell.execute_reply": "2021-11-28T18:30:10.987738Z"
    },
    "papermill": {
     "duration": 1.375238,
     "end_time": "2021-11-28T18:30:10.988190",
     "exception": false,
     "start_time": "2021-11-28T18:30:09.612952",
     "status": "completed"
    },
    "tags": []
   },
   "outputs": [],
   "source": [
    "df = pd.read_sql(\"select * from EBAY_TOP_BERLIN where record_time in (select distinct record_time from EBAY_TOP_BERLIN order by record_time desc limit 2)\", sqlite3.connect(\"UsedObjects.db\"))"
   ]
  },
  {
   "cell_type": "code",
   "execution_count": 5,
   "id": "popular-active",
   "metadata": {
    "execution": {
     "iopub.execute_input": "2021-11-28T18:30:11.063041Z",
     "iopub.status.busy": "2021-11-28T18:30:11.049464Z",
     "iopub.status.idle": "2021-11-28T18:30:11.082496Z",
     "shell.execute_reply": "2021-11-28T18:30:11.081009Z"
    },
    "papermill": {
     "duration": 0.073919,
     "end_time": "2021-11-28T18:30:11.082949",
     "exception": false,
     "start_time": "2021-11-28T18:30:11.009030",
     "status": "completed"
    },
    "tags": []
   },
   "outputs": [],
   "source": [
    "df_pivot = df.pivot_table(index=\"PRODUCT\", columns = \"RECORD_TIME\", values = \"LISTING_COUNT\")"
   ]
  },
  {
   "cell_type": "code",
   "execution_count": 6,
   "id": "union-huntington",
   "metadata": {
    "execution": {
     "iopub.execute_input": "2021-11-28T18:30:11.147701Z",
     "iopub.status.busy": "2021-11-28T18:30:11.145590Z",
     "iopub.status.idle": "2021-11-28T18:30:11.151271Z",
     "shell.execute_reply": "2021-11-28T18:30:11.152618Z"
    },
    "papermill": {
     "duration": 0.045625,
     "end_time": "2021-11-28T18:30:11.153129",
     "exception": false,
     "start_time": "2021-11-28T18:30:11.107504",
     "status": "completed"
    },
    "tags": []
   },
   "outputs": [],
   "source": [
    "df_pivot.columns = [\"stamp_1\", \"stamp_2\"]\n",
    "df_pivot_diff = df_pivot.diff(axis=1)"
   ]
  },
  {
   "cell_type": "code",
   "execution_count": 7,
   "id": "fifth-motion",
   "metadata": {
    "execution": {
     "iopub.execute_input": "2021-11-28T18:30:11.218746Z",
     "iopub.status.busy": "2021-11-28T18:30:11.215854Z",
     "iopub.status.idle": "2021-11-28T18:30:13.207494Z",
     "shell.execute_reply": "2021-11-28T18:30:13.210781Z"
    },
    "papermill": {
     "duration": 2.03293,
     "end_time": "2021-11-28T18:30:13.211622",
     "exception": false,
     "start_time": "2021-11-28T18:30:11.178692",
     "status": "completed"
    },
    "tags": []
   },
   "outputs": [
    {
     "data": {
      "text/plain": [
       "<AxesSubplot:ylabel='PRODUCT'>"
      ]
     },
     "execution_count": 7,
     "metadata": {},
     "output_type": "execute_result"
    },
    {
     "data": {
      "image/png": "[encoded data removed]",
      "text/plain": [
       "<Figure size 432x288 with 1 Axes>"
      ]
     },
     "metadata": {
      "needs_background": "light"
     },
     "output_type": "display_data"
    }
   ],
   "source": [
    "df_pivot_diff.sort_values(\"stamp_2\", ascending = False)[\"stamp_2\"].head(10).plot.barh()"
   ]
  },
  {
   "cell_type": "code",
   "execution_count": null,
   "id": "extra-executive",
   "metadata": {
    "papermill": {
     "duration": 0.034868,
     "end_time": "2021-11-28T18:30:13.283970",
     "exception": false,
     "start_time": "2021-11-28T18:30:13.249102",
     "status": "completed"
    },
    "tags": []
   },
   "outputs": [],
   "source": []
  }
 ],
 "metadata": {
  "kernelspec": {
   "display_name": "Python 3",
   "language": "python",
   "name": "python3"
  },
  "language_info": {
   "codemirror_mode": {
    "name": "ipython",
    "version": 3
   },
   "file_extension": ".py",
   "mimetype": "text/x-python",
   "name": "python",
   "nbconvert_exporter": "python",
   "pygments_lexer": "ipython3",
   "version": "3.9.5"
  },
  "papermill": {
   "default_parameters": {},
   "duration": 9.942447,
   "end_time": "2021-11-28T18:30:14.700292",
   "environment_variables": {},
   "exception": null,
   "input_path": "eBay_Overview.ipynb",
   "output_path": "eBay_Overview.ipynb",
   "parameters": {},
   "start_time": "2021-11-28T18:30:04.757845",
   "version": "2.3.3"
  }
 },
 "nbformat": 4,
 "nbformat_minor": 5
}