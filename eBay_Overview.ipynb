{
 "cells": [
  {
   "cell_type": "code",
   "execution_count": 1,
   "id": "reverse-picking",
   "metadata": {
    "execution": {
     "iopub.execute_input": "2021-09-30T15:30:06.984531Z",
     "iopub.status.busy": "2021-09-30T15:30:06.982518Z",
     "iopub.status.idle": "2021-09-30T15:30:07.790140Z",
     "shell.execute_reply": "2021-09-30T15:30:07.788548Z"
    },
    "papermill": {
     "duration": 0.858447,
     "end_time": "2021-09-30T15:30:07.790537",
     "exception": false,
     "start_time": "2021-09-30T15:30:06.932090",
     "status": "completed"
    },
    "tags": []
   },
   "outputs": [],
   "source": [
    "import pandas as pd\n",
    "import sqlite3"
   ]
  },
  {
   "cell_type": "code",
   "execution_count": 2,
   "id": "innovative-syndrome",
   "metadata": {
    "execution": {
     "iopub.execute_input": "2021-09-30T15:30:07.841043Z",
     "iopub.status.busy": "2021-09-30T15:30:07.839169Z",
     "iopub.status.idle": "2021-09-30T15:30:08.255958Z",
     "shell.execute_reply": "2021-09-30T15:30:08.257217Z"
    },
    "papermill": {
     "duration": 0.446252,
     "end_time": "2021-09-30T15:30:08.257620",
     "exception": false,
     "start_time": "2021-09-30T15:30:07.811368",
     "status": "completed"
    },
    "tags": []
   },
   "outputs": [],
   "source": [
    "timestamps = pd.read_sql(\"select distinct record_time from EBAY_TOP_BERLIN order by record_time desc limit 2\", sqlite3.connect(\"UsedObjects.db\"))"
   ]
  },
  {
   "cell_type": "code",
   "execution_count": 3,
   "id": "periodic-identification",
   "metadata": {
    "execution": {
     "iopub.execute_input": "2021-09-30T15:30:08.321240Z",
     "iopub.status.busy": "2021-09-30T15:30:08.319225Z",
     "iopub.status.idle": "2021-09-30T15:30:08.339071Z",
     "shell.execute_reply": "2021-09-30T15:30:08.340451Z"
    },
    "papermill": {
     "duration": 0.06431,
     "end_time": "2021-09-30T15:30:08.341042",
     "exception": false,
     "start_time": "2021-09-30T15:30:08.276732",
     "status": "completed"
    },
    "tags": []
   },
   "outputs": [
    {
     "data": {
      "text/html": [
       "<div>\n",
       "<style scoped>\n",
       "    .dataframe tbody tr th:only-of-type {\n",
       "        vertical-align: middle;\n",
       "    }\n",
       "\n",
       "    .dataframe tbody tr th {\n",
       "        vertical-align: top;\n",
       "    }\n",
       "\n",
       "    .dataframe thead th {\n",
       "        text-align: right;\n",
       "    }\n",
       "</style>\n",
       "<table border=\"1\" class=\"dataframe\">\n",
       "  <thead>\n",
       "    <tr style=\"text-align: right;\">\n",
       "      <th></th>\n",
       "      <th>RECORD_TIME</th>\n",
       "    </tr>\n",
       "  </thead>\n",
       "  <tbody>\n",
       "    <tr>\n",
       "      <th>0</th>\n",
       "      <td>2021-09-30 17:30</td>\n",
       "    </tr>\n",
       "    <tr>\n",
       "      <th>1</th>\n",
       "      <td>2021-09-30 17:00</td>\n",
       "    </tr>\n",
       "  </tbody>\n",
       "</table>\n",
       "</div>"
      ],
      "text/plain": [
       "        RECORD_TIME\n",
       "0  2021-09-30 17:30\n",
       "1  2021-09-30 17:00"
      ]
     },
     "execution_count": 3,
     "metadata": {},
     "output_type": "execute_result"
    }
   ],
   "source": [
    "timestamps"
   ]
  },
  {
   "cell_type": "code",
   "execution_count": 4,
   "id": "alternate-victory",
   "metadata": {
    "execution": {
     "iopub.execute_input": "2021-09-30T15:30:08.394169Z",
     "iopub.status.busy": "2021-09-30T15:30:08.392233Z",
     "iopub.status.idle": "2021-09-30T15:30:09.007040Z",
     "shell.execute_reply": "2021-09-30T15:30:09.008426Z"
    },
    "papermill": {
     "duration": 0.645162,
     "end_time": "2021-09-30T15:30:09.008846",
     "exception": false,
     "start_time": "2021-09-30T15:30:08.363684",
     "status": "completed"
    },
    "tags": []
   },
   "outputs": [],
   "source": [
    "df = pd.read_sql(\"select * from EBAY_TOP_BERLIN where record_time in (select distinct record_time from EBAY_TOP_BERLIN order by record_time desc limit 2)\", sqlite3.connect(\"UsedObjects.db\"))"
   ]
  },
  {
   "cell_type": "code",
   "execution_count": 5,
   "id": "popular-active",
   "metadata": {
    "execution": {
     "iopub.execute_input": "2021-09-30T15:30:09.079700Z",
     "iopub.status.busy": "2021-09-30T15:30:09.072578Z",
     "iopub.status.idle": "2021-09-30T15:30:09.095309Z",
     "shell.execute_reply": "2021-09-30T15:30:09.096616Z"
    },
    "papermill": {
     "duration": 0.067949,
     "end_time": "2021-09-30T15:30:09.097036",
     "exception": false,
     "start_time": "2021-09-30T15:30:09.029087",
     "status": "completed"
    },
    "tags": []
   },
   "outputs": [],
   "source": [
    "df_pivot = df.pivot_table(index=\"PRODUCT\", columns = \"RECORD_TIME\", values = \"LISTING_COUNT\")"
   ]
  },
  {
   "cell_type": "code",
   "execution_count": 6,
   "id": "union-huntington",
   "metadata": {
    "execution": {
     "iopub.execute_input": "2021-09-30T15:30:09.152720Z",
     "iopub.status.busy": "2021-09-30T15:30:09.150695Z",
     "iopub.status.idle": "2021-09-30T15:30:09.155766Z",
     "shell.execute_reply": "2021-09-30T15:30:09.156921Z"
    },
    "papermill": {
     "duration": 0.039268,
     "end_time": "2021-09-30T15:30:09.157336",
     "exception": false,
     "start_time": "2021-09-30T15:30:09.118068",
     "status": "completed"
    },
    "tags": []
   },
   "outputs": [],
   "source": [
    "df_pivot.columns = [\"stamp_1\", \"stamp_2\"]\n",
    "df_pivot_diff = df_pivot.diff(axis=1)"
   ]
  },
  {
   "cell_type": "code",
   "execution_count": 7,
   "id": "fifth-motion",
   "metadata": {
    "execution": {
     "iopub.execute_input": "2021-09-30T15:30:09.210883Z",
     "iopub.status.busy": "2021-09-30T15:30:09.208448Z",
     "iopub.status.idle": "2021-09-30T15:30:10.712316Z",
     "shell.execute_reply": "2021-09-30T15:30:10.713685Z"
    },
    "papermill": {
     "duration": 1.536572,
     "end_time": "2021-09-30T15:30:10.714128",
     "exception": false,
     "start_time": "2021-09-30T15:30:09.177556",
     "status": "completed"
    },
    "tags": []
   },
   "outputs": [
    {
     "data": {
      "text/plain": [
       "<AxesSubplot:ylabel='PRODUCT'>"
      ]
     },
     "execution_count": 7,
     "metadata": {},
     "output_type": "execute_result"
    },
    {
     "data": {
      "image/png": "[encoded data removed]",
      "text/plain": [
       "<Figure size 432x288 with 1 Axes>"
      ]
     },
     "metadata": {
      "needs_background": "light"
     },
     "output_type": "display_data"
    }
   ],
   "source": [
    "df_pivot_diff.sort_values(\"stamp_2\", ascending = False)[\"stamp_2\"].head(10).plot.barh()"
   ]
  },
  {
   "cell_type": "code",
   "execution_count": null,
   "id": "extra-executive",
   "metadata": {
    "papermill": {
     "duration": 0.021929,
     "end_time": "2021-09-30T15:30:10.760266",
     "exception": false,
     "start_time": "2021-09-30T15:30:10.738337",
     "status": "completed"
    },
    "tags": []
   },
   "outputs": [],
   "source": []
  }
 ],
 "metadata": {
  "kernelspec": {
   "display_name": "Python 3",
   "language": "python",
   "name": "python3"
  },
  "language_info": {
   "codemirror_mode": {
    "name": "ipython",
    "version": 3
   },
   "file_extension": ".py",
   "mimetype": "text/x-python",
   "name": "python",
   "nbconvert_exporter": "python",
   "pygments_lexer": "ipython3",
   "version": "3.9.5"
  },
  "papermill": {
   "default_parameters": {},
   "duration": 7.836996,
   "end_time": "2021-09-30T15:30:12.356323",
   "environment_variables": {},
   "exception": null,
   "input_path": "eBay_Overview.ipynb",
   "output_path": "eBay_Overview.ipynb",
   "parameters": {},
   "start_time": "2021-09-30T15:30:04.519327",
   "version": "2.3.3"
  }
 },
 "nbformat": 4,
 "nbformat_minor": 5
}