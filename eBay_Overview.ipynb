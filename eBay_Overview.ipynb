{
 "cells": [
  {
   "cell_type": "code",
   "execution_count": 1,
   "id": "reverse-picking",
   "metadata": {
    "execution": {
     "iopub.execute_input": "2021-12-08T17:30:07.878251Z",
     "iopub.status.busy": "2021-12-08T17:30:07.875225Z",
     "iopub.status.idle": "2021-12-08T17:30:08.838728Z",
     "shell.execute_reply": "2021-12-08T17:30:08.841107Z"
    },
    "papermill": {
     "duration": 1.014858,
     "end_time": "2021-12-08T17:30:08.841826",
     "exception": false,
     "start_time": "2021-12-08T17:30:07.826968",
     "status": "completed"
    },
    "tags": []
   },
   "outputs": [],
   "source": [
    "import pandas as pd\n",
    "import sqlite3"
   ]
  },
  {
   "cell_type": "code",
   "execution_count": 2,
   "id": "innovative-syndrome",
   "metadata": {
    "execution": {
     "iopub.execute_input": "2021-12-08T17:30:08.902854Z",
     "iopub.status.busy": "2021-12-08T17:30:08.900518Z",
     "iopub.status.idle": "2021-12-08T17:30:09.907251Z",
     "shell.execute_reply": "2021-12-08T17:30:09.909881Z"
    },
    "papermill": {
     "duration": 1.041767,
     "end_time": "2021-12-08T17:30:09.910803",
     "exception": false,
     "start_time": "2021-12-08T17:30:08.869036",
     "status": "completed"
    },
    "tags": []
   },
   "outputs": [],
   "source": [
    "timestamps = pd.read_sql(\"select distinct record_time from EBAY_TOP_BERLIN order by record_time desc limit 2\", sqlite3.connect(\"UsedObjects.db\"))"
   ]
  },
  {
   "cell_type": "code",
   "execution_count": 3,
   "id": "periodic-identification",
   "metadata": {
    "execution": {
     "iopub.execute_input": "2021-12-08T17:30:09.984040Z",
     "iopub.status.busy": "2021-12-08T17:30:09.981716Z",
     "iopub.status.idle": "2021-12-08T17:30:10.005298Z",
     "shell.execute_reply": "2021-12-08T17:30:10.006815Z"
    },
    "papermill": {
     "duration": 0.075111,
     "end_time": "2021-12-08T17:30:10.007458",
     "exception": false,
     "start_time": "2021-12-08T17:30:09.932347",
     "status": "completed"
    },
    "tags": []
   },
   "outputs": [
    {
     "data": {
      "text/html": [
       "<div>\n",
       "<style scoped>\n",
       "    .dataframe tbody tr th:only-of-type {\n",
       "        vertical-align: middle;\n",
       "    }\n",
       "\n",
       "    .dataframe tbody tr th {\n",
       "        vertical-align: top;\n",
       "    }\n",
       "\n",
       "    .dataframe thead th {\n",
       "        text-align: right;\n",
       "    }\n",
       "</style>\n",
       "<table border=\"1\" class=\"dataframe\">\n",
       "  <thead>\n",
       "    <tr style=\"text-align: right;\">\n",
       "      <th></th>\n",
       "      <th>RECORD_TIME</th>\n",
       "    </tr>\n",
       "  </thead>\n",
       "  <tbody>\n",
       "    <tr>\n",
       "      <th>0</th>\n",
       "      <td>2021-12-08 18:30</td>\n",
       "    </tr>\n",
       "    <tr>\n",
       "      <th>1</th>\n",
       "      <td>2021-12-08 18:00</td>\n",
       "    </tr>\n",
       "  </tbody>\n",
       "</table>\n",
       "</div>"
      ],
      "text/plain": [
       "        RECORD_TIME\n",
       "0  2021-12-08 18:30\n",
       "1  2021-12-08 18:00"
      ]
     },
     "execution_count": 3,
     "metadata": {},
     "output_type": "execute_result"
    }
   ],
   "source": [
    "timestamps"
   ]
  },
  {
   "cell_type": "code",
   "execution_count": 4,
   "id": "alternate-victory",
   "metadata": {
    "execution": {
     "iopub.execute_input": "2021-12-08T17:30:10.062281Z",
     "iopub.status.busy": "2021-12-08T17:30:10.060061Z",
     "iopub.status.idle": "2021-12-08T17:30:11.543805Z",
     "shell.execute_reply": "2021-12-08T17:30:11.545918Z"
    },
    "papermill": {
     "duration": 1.517421,
     "end_time": "2021-12-08T17:30:11.546386",
     "exception": false,
     "start_time": "2021-12-08T17:30:10.028965",
     "status": "completed"
    },
    "tags": []
   },
   "outputs": [],
   "source": [
    "df = pd.read_sql(\"select * from EBAY_TOP_BERLIN where record_time in (select distinct record_time from EBAY_TOP_BERLIN order by record_time desc limit 2)\", sqlite3.connect(\"UsedObjects.db\"))"
   ]
  },
  {
   "cell_type": "code",
   "execution_count": 5,
   "id": "popular-active",
   "metadata": {
    "execution": {
     "iopub.execute_input": "2021-12-08T17:30:11.620998Z",
     "iopub.status.busy": "2021-12-08T17:30:11.607254Z",
     "iopub.status.idle": "2021-12-08T17:30:11.639085Z",
     "shell.execute_reply": "2021-12-08T17:30:11.640388Z"
    },
    "papermill": {
     "duration": 0.073923,
     "end_time": "2021-12-08T17:30:11.640926",
     "exception": false,
     "start_time": "2021-12-08T17:30:11.567003",
     "status": "completed"
    },
    "tags": []
   },
   "outputs": [],
   "source": [
    "df_pivot = df.pivot_table(index=\"PRODUCT\", columns = \"RECORD_TIME\", values = \"LISTING_COUNT\")"
   ]
  },
  {
   "cell_type": "code",
   "execution_count": 6,
   "id": "union-huntington",
   "metadata": {
    "execution": {
     "iopub.execute_input": "2021-12-08T17:30:11.734093Z",
     "iopub.status.busy": "2021-12-08T17:30:11.730916Z",
     "iopub.status.idle": "2021-12-08T17:30:11.739091Z",
     "shell.execute_reply": "2021-12-08T17:30:11.741671Z"
    },
    "papermill": {
     "duration": 0.071917,
     "end_time": "2021-12-08T17:30:11.742463",
     "exception": false,
     "start_time": "2021-12-08T17:30:11.670546",
     "status": "completed"
    },
    "tags": []
   },
   "outputs": [],
   "source": [
    "df_pivot.columns = [\"stamp_1\", \"stamp_2\"]\n",
    "df_pivot_diff = df_pivot.diff(axis=1)"
   ]
  },
  {
   "cell_type": "code",
   "execution_count": 7,
   "id": "fifth-motion",
   "metadata": {
    "execution": {
     "iopub.execute_input": "2021-12-08T17:30:11.828615Z",
     "iopub.status.busy": "2021-12-08T17:30:11.824529Z",
     "iopub.status.idle": "2021-12-08T17:30:13.613229Z",
     "shell.execute_reply": "2021-12-08T17:30:13.614638Z"
    },
    "papermill": {
     "duration": 1.844441,
     "end_time": "2021-12-08T17:30:13.615060",
     "exception": false,
     "start_time": "2021-12-08T17:30:11.770619",
     "status": "completed"
    },
    "tags": []
   },
   "outputs": [
    {
     "data": {
      "text/plain": [
       "<AxesSubplot:ylabel='PRODUCT'>"
      ]
     },
     "execution_count": 7,
     "metadata": {},
     "output_type": "execute_result"
    },
    {
     "data": {
      "image/png": "[encoded data removed]",
      "text/plain": [
       "<Figure size 432x288 with 1 Axes>"
      ]
     },
     "metadata": {
      "needs_background": "light"
     },
     "output_type": "display_data"
    }
   ],
   "source": [
    "df_pivot_diff.sort_values(\"stamp_2\", ascending = False)[\"stamp_2\"].head(10).plot.barh()"
   ]
  },
  {
   "cell_type": "code",
   "execution_count": null,
   "id": "extra-executive",
   "metadata": {
    "papermill": {
     "duration": 0.022271,
     "end_time": "2021-12-08T17:30:13.661499",
     "exception": false,
     "start_time": "2021-12-08T17:30:13.639228",
     "status": "completed"
    },
    "tags": []
   },
   "outputs": [],
   "source": []
  }
 ],
 "metadata": {
  "kernelspec": {
   "display_name": "Python 3",
   "language": "python",
   "name": "python3"
  },
  "language_info": {
   "codemirror_mode": {
    "name": "ipython",
    "version": 3
   },
   "file_extension": ".py",
   "mimetype": "text/x-python",
   "name": "python",
   "nbconvert_exporter": "python",
   "pygments_lexer": "ipython3",
   "version": "3.9.5"
  },
  "papermill": {
   "default_parameters": {},
   "duration": 9.937146,
   "end_time": "2021-12-08T17:30:15.033953",
   "environment_variables": {},
   "exception": null,
   "input_path": "eBay_Overview.ipynb",
   "output_path": "eBay_Overview.ipynb",
   "parameters": {},
   "start_time": "2021-12-08T17:30:05.096807",
   "version": "2.3.3"
  }
 },
 "nbformat": 4,
 "nbformat_minor": 5
}