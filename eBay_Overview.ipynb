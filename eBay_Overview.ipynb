{
 "cells": [
  {
   "cell_type": "code",
   "execution_count": 1,
   "id": "reverse-picking",
   "metadata": {
    "execution": {
     "iopub.execute_input": "2021-10-19T00:00:06.874596Z",
     "iopub.status.busy": "2021-10-19T00:00:06.872501Z",
     "iopub.status.idle": "2021-10-19T00:00:07.678648Z",
     "shell.execute_reply": "2021-10-19T00:00:07.679914Z"
    },
    "papermill": {
     "duration": 0.857144,
     "end_time": "2021-10-19T00:00:07.680526",
     "exception": false,
     "start_time": "2021-10-19T00:00:06.823382",
     "status": "completed"
    },
    "tags": []
   },
   "outputs": [],
   "source": [
    "import pandas as pd\n",
    "import sqlite3"
   ]
  },
  {
   "cell_type": "code",
   "execution_count": 2,
   "id": "innovative-syndrome",
   "metadata": {
    "execution": {
     "iopub.execute_input": "2021-10-19T00:00:07.733464Z",
     "iopub.status.busy": "2021-10-19T00:00:07.731067Z",
     "iopub.status.idle": "2021-10-19T00:00:08.307513Z",
     "shell.execute_reply": "2021-10-19T00:00:08.308870Z"
    },
    "papermill": {
     "duration": 0.606413,
     "end_time": "2021-10-19T00:00:08.309306",
     "exception": false,
     "start_time": "2021-10-19T00:00:07.702893",
     "status": "completed"
    },
    "tags": []
   },
   "outputs": [],
   "source": [
    "timestamps = pd.read_sql(\"select distinct record_time from EBAY_TOP_BERLIN order by record_time desc limit 2\", sqlite3.connect(\"UsedObjects.db\"))"
   ]
  },
  {
   "cell_type": "code",
   "execution_count": 3,
   "id": "periodic-identification",
   "metadata": {
    "execution": {
     "iopub.execute_input": "2021-10-19T00:00:08.393476Z",
     "iopub.status.busy": "2021-10-19T00:00:08.391389Z",
     "iopub.status.idle": "2021-10-19T00:00:08.413275Z",
     "shell.execute_reply": "2021-10-19T00:00:08.411708Z"
    },
    "papermill": {
     "duration": 0.073197,
     "end_time": "2021-10-19T00:00:08.413664",
     "exception": false,
     "start_time": "2021-10-19T00:00:08.340467",
     "status": "completed"
    },
    "tags": []
   },
   "outputs": [
    {
     "data": {
      "text/html": [
       "<div>\n",
       "<style scoped>\n",
       "    .dataframe tbody tr th:only-of-type {\n",
       "        vertical-align: middle;\n",
       "    }\n",
       "\n",
       "    .dataframe tbody tr th {\n",
       "        vertical-align: top;\n",
       "    }\n",
       "\n",
       "    .dataframe thead th {\n",
       "        text-align: right;\n",
       "    }\n",
       "</style>\n",
       "<table border=\"1\" class=\"dataframe\">\n",
       "  <thead>\n",
       "    <tr style=\"text-align: right;\">\n",
       "      <th></th>\n",
       "      <th>RECORD_TIME</th>\n",
       "    </tr>\n",
       "  </thead>\n",
       "  <tbody>\n",
       "    <tr>\n",
       "      <th>0</th>\n",
       "      <td>2021-10-19 02:00</td>\n",
       "    </tr>\n",
       "    <tr>\n",
       "      <th>1</th>\n",
       "      <td>2021-10-19 01:30</td>\n",
       "    </tr>\n",
       "  </tbody>\n",
       "</table>\n",
       "</div>"
      ],
      "text/plain": [
       "        RECORD_TIME\n",
       "0  2021-10-19 02:00\n",
       "1  2021-10-19 01:30"
      ]
     },
     "execution_count": 3,
     "metadata": {},
     "output_type": "execute_result"
    }
   ],
   "source": [
    "timestamps"
   ]
  },
  {
   "cell_type": "code",
   "execution_count": 4,
   "id": "alternate-victory",
   "metadata": {
    "execution": {
     "iopub.execute_input": "2021-10-19T00:00:08.464758Z",
     "iopub.status.busy": "2021-10-19T00:00:08.462867Z",
     "iopub.status.idle": "2021-10-19T00:00:09.289921Z",
     "shell.execute_reply": "2021-10-19T00:00:09.291200Z"
    },
    "papermill": {
     "duration": 0.856789,
     "end_time": "2021-10-19T00:00:09.291592",
     "exception": false,
     "start_time": "2021-10-19T00:00:08.434803",
     "status": "completed"
    },
    "tags": []
   },
   "outputs": [],
   "source": [
    "df = pd.read_sql(\"select * from EBAY_TOP_BERLIN where record_time in (select distinct record_time from EBAY_TOP_BERLIN order by record_time desc limit 2)\", sqlite3.connect(\"UsedObjects.db\"))"
   ]
  },
  {
   "cell_type": "code",
   "execution_count": 5,
   "id": "popular-active",
   "metadata": {
    "execution": {
     "iopub.execute_input": "2021-10-19T00:00:09.362623Z",
     "iopub.status.busy": "2021-10-19T00:00:09.350908Z",
     "iopub.status.idle": "2021-10-19T00:00:09.378378Z",
     "shell.execute_reply": "2021-10-19T00:00:09.379664Z"
    },
    "papermill": {
     "duration": 0.068051,
     "end_time": "2021-10-19T00:00:09.380079",
     "exception": false,
     "start_time": "2021-10-19T00:00:09.312028",
     "status": "completed"
    },
    "tags": []
   },
   "outputs": [],
   "source": [
    "df_pivot = df.pivot_table(index=\"PRODUCT\", columns = \"RECORD_TIME\", values = \"LISTING_COUNT\")"
   ]
  },
  {
   "cell_type": "code",
   "execution_count": 6,
   "id": "union-huntington",
   "metadata": {
    "execution": {
     "iopub.execute_input": "2021-10-19T00:00:09.436908Z",
     "iopub.status.busy": "2021-10-19T00:00:09.434721Z",
     "iopub.status.idle": "2021-10-19T00:00:09.442012Z",
     "shell.execute_reply": "2021-10-19T00:00:09.440211Z"
    },
    "papermill": {
     "duration": 0.041288,
     "end_time": "2021-10-19T00:00:09.442531",
     "exception": false,
     "start_time": "2021-10-19T00:00:09.401243",
     "status": "completed"
    },
    "tags": []
   },
   "outputs": [],
   "source": [
    "df_pivot.columns = [\"stamp_1\", \"stamp_2\"]\n",
    "df_pivot_diff = df_pivot.diff(axis=1)"
   ]
  },
  {
   "cell_type": "code",
   "execution_count": 7,
   "id": "fifth-motion",
   "metadata": {
    "execution": {
     "iopub.execute_input": "2021-10-19T00:00:09.498596Z",
     "iopub.status.busy": "2021-10-19T00:00:09.495918Z",
     "iopub.status.idle": "2021-10-19T00:00:10.971697Z",
     "shell.execute_reply": "2021-10-19T00:00:10.973118Z"
    },
    "papermill": {
     "duration": 1.509562,
     "end_time": "2021-10-19T00:00:10.973563",
     "exception": false,
     "start_time": "2021-10-19T00:00:09.464001",
     "status": "completed"
    },
    "tags": []
   },
   "outputs": [
    {
     "data": {
      "text/plain": [
       "<AxesSubplot:ylabel='PRODUCT'>"
      ]
     },
     "execution_count": 7,
     "metadata": {},
     "output_type": "execute_result"
    },
    {
     "data": {
      "image/png": "[encoded data removed]",
      "text/plain": [
       "<Figure size 432x288 with 1 Axes>"
      ]
     },
     "metadata": {
      "needs_background": "light"
     },
     "output_type": "display_data"
    }
   ],
   "source": [
    "df_pivot_diff.sort_values(\"stamp_2\", ascending = False)[\"stamp_2\"].head(10).plot.barh()"
   ]
  },
  {
   "cell_type": "code",
   "execution_count": null,
   "id": "extra-executive",
   "metadata": {
    "papermill": {
     "duration": 0.021985,
     "end_time": "2021-10-19T00:00:11.020177",
     "exception": false,
     "start_time": "2021-10-19T00:00:10.998192",
     "status": "completed"
    },
    "tags": []
   },
   "outputs": [],
   "source": []
  }
 ],
 "metadata": {
  "kernelspec": {
   "display_name": "Python 3",
   "language": "python",
   "name": "python3"
  },
  "language_info": {
   "codemirror_mode": {
    "name": "ipython",
    "version": 3
   },
   "file_extension": ".py",
   "mimetype": "text/x-python",
   "name": "python",
   "nbconvert_exporter": "python",
   "pygments_lexer": "ipython3",
   "version": "3.9.5"
  },
  "papermill": {
   "default_parameters": {},
   "duration": 7.822445,
   "end_time": "2021-10-19T00:00:12.240820",
   "environment_variables": {},
   "exception": null,
   "input_path": "eBay_Overview.ipynb",
   "output_path": "eBay_Overview.ipynb",
   "parameters": {},
   "start_time": "2021-10-19T00:00:04.418375",
   "version": "2.3.3"
  }
 },
 "nbformat": 4,
 "nbformat_minor": 5
}