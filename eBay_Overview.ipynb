{
 "cells": [
  {
   "cell_type": "code",
   "execution_count": 1,
   "id": "reverse-picking",
   "metadata": {
    "execution": {
     "iopub.execute_input": "2021-11-20T23:00:08.135232Z",
     "iopub.status.busy": "2021-11-20T23:00:08.132961Z",
     "iopub.status.idle": "2021-11-20T23:00:09.083987Z",
     "shell.execute_reply": "2021-11-20T23:00:09.085663Z"
    },
    "papermill": {
     "duration": 1.001033,
     "end_time": "2021-11-20T23:00:09.086415",
     "exception": false,
     "start_time": "2021-11-20T23:00:08.085382",
     "status": "completed"
    },
    "tags": []
   },
   "outputs": [],
   "source": [
    "import pandas as pd\n",
    "import sqlite3"
   ]
  },
  {
   "cell_type": "code",
   "execution_count": 2,
   "id": "innovative-syndrome",
   "metadata": {
    "execution": {
     "iopub.execute_input": "2021-11-20T23:00:09.154445Z",
     "iopub.status.busy": "2021-11-20T23:00:09.152044Z",
     "iopub.status.idle": "2021-11-20T23:00:10.008560Z",
     "shell.execute_reply": "2021-11-20T23:00:10.010180Z"
    },
    "papermill": {
     "duration": 0.89092,
     "end_time": "2021-11-20T23:00:10.010678",
     "exception": false,
     "start_time": "2021-11-20T23:00:09.119758",
     "status": "completed"
    },
    "tags": []
   },
   "outputs": [],
   "source": [
    "timestamps = pd.read_sql(\"select distinct record_time from EBAY_TOP_BERLIN order by record_time desc limit 2\", sqlite3.connect(\"UsedObjects.db\"))"
   ]
  },
  {
   "cell_type": "code",
   "execution_count": 3,
   "id": "periodic-identification",
   "metadata": {
    "execution": {
     "iopub.execute_input": "2021-11-20T23:00:10.083133Z",
     "iopub.status.busy": "2021-11-20T23:00:10.080832Z",
     "iopub.status.idle": "2021-11-20T23:00:10.105409Z",
     "shell.execute_reply": "2021-11-20T23:00:10.106982Z"
    },
    "papermill": {
     "duration": 0.075841,
     "end_time": "2021-11-20T23:00:10.107489",
     "exception": false,
     "start_time": "2021-11-20T23:00:10.031648",
     "status": "completed"
    },
    "tags": []
   },
   "outputs": [
    {
     "data": {
      "text/html": [
       "<div>\n",
       "<style scoped>\n",
       "    .dataframe tbody tr th:only-of-type {\n",
       "        vertical-align: middle;\n",
       "    }\n",
       "\n",
       "    .dataframe tbody tr th {\n",
       "        vertical-align: top;\n",
       "    }\n",
       "\n",
       "    .dataframe thead th {\n",
       "        text-align: right;\n",
       "    }\n",
       "</style>\n",
       "<table border=\"1\" class=\"dataframe\">\n",
       "  <thead>\n",
       "    <tr style=\"text-align: right;\">\n",
       "      <th></th>\n",
       "      <th>RECORD_TIME</th>\n",
       "    </tr>\n",
       "  </thead>\n",
       "  <tbody>\n",
       "    <tr>\n",
       "      <th>0</th>\n",
       "      <td>2021-11-21 00:00</td>\n",
       "    </tr>\n",
       "    <tr>\n",
       "      <th>1</th>\n",
       "      <td>2021-11-20 23:30</td>\n",
       "    </tr>\n",
       "  </tbody>\n",
       "</table>\n",
       "</div>"
      ],
      "text/plain": [
       "        RECORD_TIME\n",
       "0  2021-11-21 00:00\n",
       "1  2021-11-20 23:30"
      ]
     },
     "execution_count": 3,
     "metadata": {},
     "output_type": "execute_result"
    }
   ],
   "source": [
    "timestamps"
   ]
  },
  {
   "cell_type": "code",
   "execution_count": 4,
   "id": "alternate-victory",
   "metadata": {
    "execution": {
     "iopub.execute_input": "2021-11-20T23:00:10.162872Z",
     "iopub.status.busy": "2021-11-20T23:00:10.160735Z",
     "iopub.status.idle": "2021-11-20T23:00:11.423552Z",
     "shell.execute_reply": "2021-11-20T23:00:11.425216Z"
    },
    "papermill": {
     "duration": 1.296957,
     "end_time": "2021-11-20T23:00:11.425713",
     "exception": false,
     "start_time": "2021-11-20T23:00:10.128756",
     "status": "completed"
    },
    "tags": []
   },
   "outputs": [],
   "source": [
    "df = pd.read_sql(\"select * from EBAY_TOP_BERLIN where record_time in (select distinct record_time from EBAY_TOP_BERLIN order by record_time desc limit 2)\", sqlite3.connect(\"UsedObjects.db\"))"
   ]
  },
  {
   "cell_type": "code",
   "execution_count": 5,
   "id": "popular-active",
   "metadata": {
    "execution": {
     "iopub.execute_input": "2021-11-20T23:00:11.495350Z",
     "iopub.status.busy": "2021-11-20T23:00:11.492959Z",
     "iopub.status.idle": "2021-11-20T23:00:11.526185Z",
     "shell.execute_reply": "2021-11-20T23:00:11.527965Z"
    },
    "papermill": {
     "duration": 0.079201,
     "end_time": "2021-11-20T23:00:11.528564",
     "exception": false,
     "start_time": "2021-11-20T23:00:11.449363",
     "status": "completed"
    },
    "tags": []
   },
   "outputs": [],
   "source": [
    "df_pivot = df.pivot_table(index=\"PRODUCT\", columns = \"RECORD_TIME\", values = \"LISTING_COUNT\")"
   ]
  },
  {
   "cell_type": "code",
   "execution_count": 6,
   "id": "union-huntington",
   "metadata": {
    "execution": {
     "iopub.execute_input": "2021-11-20T23:00:11.594439Z",
     "iopub.status.busy": "2021-11-20T23:00:11.591974Z",
     "iopub.status.idle": "2021-11-20T23:00:11.598289Z",
     "shell.execute_reply": "2021-11-20T23:00:11.599894Z"
    },
    "papermill": {
     "duration": 0.048718,
     "end_time": "2021-11-20T23:00:11.600385",
     "exception": false,
     "start_time": "2021-11-20T23:00:11.551667",
     "status": "completed"
    },
    "tags": []
   },
   "outputs": [],
   "source": [
    "df_pivot.columns = [\"stamp_1\", \"stamp_2\"]\n",
    "df_pivot_diff = df_pivot.diff(axis=1)"
   ]
  },
  {
   "cell_type": "code",
   "execution_count": 7,
   "id": "fifth-motion",
   "metadata": {
    "execution": {
     "iopub.execute_input": "2021-11-20T23:00:11.660539Z",
     "iopub.status.busy": "2021-11-20T23:00:11.657761Z",
     "iopub.status.idle": "2021-11-20T23:00:13.455065Z",
     "shell.execute_reply": "2021-11-20T23:00:13.456501Z"
    },
    "papermill": {
     "duration": 1.835784,
     "end_time": "2021-11-20T23:00:13.457051",
     "exception": false,
     "start_time": "2021-11-20T23:00:11.621267",
     "status": "completed"
    },
    "tags": []
   },
   "outputs": [
    {
     "data": {
      "text/plain": [
       "<AxesSubplot:ylabel='PRODUCT'>"
      ]
     },
     "execution_count": 7,
     "metadata": {},
     "output_type": "execute_result"
    },
    {
     "data": {
      "image/png": "[encoded data removed]",
      "text/plain": [
       "<Figure size 432x288 with 1 Axes>"
      ]
     },
     "metadata": {
      "needs_background": "light"
     },
     "output_type": "display_data"
    }
   ],
   "source": [
    "df_pivot_diff.sort_values(\"stamp_2\", ascending = False)[\"stamp_2\"].head(10).plot.barh()"
   ]
  },
  {
   "cell_type": "code",
   "execution_count": null,
   "id": "extra-executive",
   "metadata": {
    "papermill": {
     "duration": 0.023843,
     "end_time": "2021-11-20T23:00:13.505092",
     "exception": false,
     "start_time": "2021-11-20T23:00:13.481249",
     "status": "completed"
    },
    "tags": []
   },
   "outputs": [],
   "source": []
  }
 ],
 "metadata": {
  "kernelspec": {
   "display_name": "Python 3",
   "language": "python",
   "name": "python3"
  },
  "language_info": {
   "codemirror_mode": {
    "name": "ipython",
    "version": 3
   },
   "file_extension": ".py",
   "mimetype": "text/x-python",
   "name": "python",
   "nbconvert_exporter": "python",
   "pygments_lexer": "ipython3",
   "version": "3.9.5"
  },
  "papermill": {
   "default_parameters": {},
   "duration": 10.019079,
   "end_time": "2021-11-20T23:00:15.270025",
   "environment_variables": {},
   "exception": null,
   "input_path": "eBay_Overview.ipynb",
   "output_path": "eBay_Overview.ipynb",
   "parameters": {},
   "start_time": "2021-11-20T23:00:05.250946",
   "version": "2.3.3"
  }
 },
 "nbformat": 4,
 "nbformat_minor": 5
}