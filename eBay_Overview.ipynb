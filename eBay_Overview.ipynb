{
 "cells": [
  {
   "cell_type": "code",
   "execution_count": 1,
   "id": "reverse-picking",
   "metadata": {
    "execution": {
     "iopub.execute_input": "2021-09-05T06:00:07.124566Z",
     "iopub.status.busy": "2021-09-05T06:00:07.122569Z",
     "iopub.status.idle": "2021-09-05T06:00:07.927706Z",
     "shell.execute_reply": "2021-09-05T06:00:07.928965Z"
    },
    "papermill": {
     "duration": 0.856816,
     "end_time": "2021-09-05T06:00:07.929578",
     "exception": false,
     "start_time": "2021-09-05T06:00:07.072762",
     "status": "completed"
    },
    "tags": []
   },
   "outputs": [],
   "source": [
    "import pandas as pd\n",
    "import sqlite3"
   ]
  },
  {
   "cell_type": "code",
   "execution_count": 2,
   "id": "innovative-syndrome",
   "metadata": {
    "execution": {
     "iopub.execute_input": "2021-09-05T06:00:07.980269Z",
     "iopub.status.busy": "2021-09-05T06:00:07.978314Z",
     "iopub.status.idle": "2021-09-05T06:00:08.186821Z",
     "shell.execute_reply": "2021-09-05T06:00:08.188239Z"
    },
    "papermill": {
     "duration": 0.237859,
     "end_time": "2021-09-05T06:00:08.188655",
     "exception": false,
     "start_time": "2021-09-05T06:00:07.950796",
     "status": "completed"
    },
    "tags": []
   },
   "outputs": [],
   "source": [
    "timestamps = pd.read_sql(\"select distinct record_time from EBAY_TOP_BERLIN order by record_time desc limit 2\", sqlite3.connect(\"UsedObjects.db\"))"
   ]
  },
  {
   "cell_type": "code",
   "execution_count": 3,
   "id": "periodic-identification",
   "metadata": {
    "execution": {
     "iopub.execute_input": "2021-09-05T06:00:08.253051Z",
     "iopub.status.busy": "2021-09-05T06:00:08.251055Z",
     "iopub.status.idle": "2021-09-05T06:00:08.270754Z",
     "shell.execute_reply": "2021-09-05T06:00:08.272160Z"
    },
    "papermill": {
     "duration": 0.064775,
     "end_time": "2021-09-05T06:00:08.272580",
     "exception": false,
     "start_time": "2021-09-05T06:00:08.207805",
     "status": "completed"
    },
    "tags": []
   },
   "outputs": [
    {
     "data": {
      "text/html": [
       "<div>\n",
       "<style scoped>\n",
       "    .dataframe tbody tr th:only-of-type {\n",
       "        vertical-align: middle;\n",
       "    }\n",
       "\n",
       "    .dataframe tbody tr th {\n",
       "        vertical-align: top;\n",
       "    }\n",
       "\n",
       "    .dataframe thead th {\n",
       "        text-align: right;\n",
       "    }\n",
       "</style>\n",
       "<table border=\"1\" class=\"dataframe\">\n",
       "  <thead>\n",
       "    <tr style=\"text-align: right;\">\n",
       "      <th></th>\n",
       "      <th>RECORD_TIME</th>\n",
       "    </tr>\n",
       "  </thead>\n",
       "  <tbody>\n",
       "    <tr>\n",
       "      <th>0</th>\n",
       "      <td>2021-09-05 08:00</td>\n",
       "    </tr>\n",
       "    <tr>\n",
       "      <th>1</th>\n",
       "      <td>2021-09-05 07:30</td>\n",
       "    </tr>\n",
       "  </tbody>\n",
       "</table>\n",
       "</div>"
      ],
      "text/plain": [
       "        RECORD_TIME\n",
       "0  2021-09-05 08:00\n",
       "1  2021-09-05 07:30"
      ]
     },
     "execution_count": 3,
     "metadata": {},
     "output_type": "execute_result"
    }
   ],
   "source": [
    "timestamps"
   ]
  },
  {
   "cell_type": "code",
   "execution_count": 4,
   "id": "alternate-victory",
   "metadata": {
    "execution": {
     "iopub.execute_input": "2021-09-05T06:00:08.324662Z",
     "iopub.status.busy": "2021-09-05T06:00:08.322442Z",
     "iopub.status.idle": "2021-09-05T06:00:08.637580Z",
     "shell.execute_reply": "2021-09-05T06:00:08.638769Z"
    },
    "papermill": {
     "duration": 0.34491,
     "end_time": "2021-09-05T06:00:08.639214",
     "exception": false,
     "start_time": "2021-09-05T06:00:08.294304",
     "status": "completed"
    },
    "tags": []
   },
   "outputs": [],
   "source": [
    "df = pd.read_sql(\"select * from EBAY_TOP_BERLIN where record_time in (select distinct record_time from EBAY_TOP_BERLIN order by record_time desc limit 2)\", sqlite3.connect(\"UsedObjects.db\"))"
   ]
  },
  {
   "cell_type": "code",
   "execution_count": 5,
   "id": "popular-active",
   "metadata": {
    "execution": {
     "iopub.execute_input": "2021-09-05T06:00:08.718369Z",
     "iopub.status.busy": "2021-09-05T06:00:08.706193Z",
     "iopub.status.idle": "2021-09-05T06:00:08.734634Z",
     "shell.execute_reply": "2021-09-05T06:00:08.736037Z"
    },
    "papermill": {
     "duration": 0.071863,
     "end_time": "2021-09-05T06:00:08.736521",
     "exception": false,
     "start_time": "2021-09-05T06:00:08.664658",
     "status": "completed"
    },
    "tags": []
   },
   "outputs": [],
   "source": [
    "df_pivot = df.pivot_table(index=\"PRODUCT\", columns = \"RECORD_TIME\", values = \"LISTING_COUNT\")"
   ]
  },
  {
   "cell_type": "code",
   "execution_count": 6,
   "id": "union-huntington",
   "metadata": {
    "execution": {
     "iopub.execute_input": "2021-09-05T06:00:08.794494Z",
     "iopub.status.busy": "2021-09-05T06:00:08.792103Z",
     "iopub.status.idle": "2021-09-05T06:00:08.798018Z",
     "shell.execute_reply": "2021-09-05T06:00:08.799355Z"
    },
    "papermill": {
     "duration": 0.042301,
     "end_time": "2021-09-05T06:00:08.799777",
     "exception": false,
     "start_time": "2021-09-05T06:00:08.757476",
     "status": "completed"
    },
    "tags": []
   },
   "outputs": [],
   "source": [
    "df_pivot.columns = [\"stamp_1\", \"stamp_2\"]\n",
    "df_pivot_diff = df_pivot.diff(axis=1)"
   ]
  },
  {
   "cell_type": "code",
   "execution_count": 7,
   "id": "fifth-motion",
   "metadata": {
    "execution": {
     "iopub.execute_input": "2021-09-05T06:00:08.854136Z",
     "iopub.status.busy": "2021-09-05T06:00:08.851706Z",
     "iopub.status.idle": "2021-09-05T06:00:10.367637Z",
     "shell.execute_reply": "2021-09-05T06:00:10.368912Z"
    },
    "papermill": {
     "duration": 1.548995,
     "end_time": "2021-09-05T06:00:10.369321",
     "exception": false,
     "start_time": "2021-09-05T06:00:08.820326",
     "status": "completed"
    },
    "tags": []
   },
   "outputs": [
    {
     "data": {
      "text/plain": [
       "<AxesSubplot:ylabel='PRODUCT'>"
      ]
     },
     "execution_count": 7,
     "metadata": {},
     "output_type": "execute_result"
    },
    {
     "data": {
      "image/png": "[encoded data removed]",
      "text/plain": [
       "<Figure size 432x288 with 1 Axes>"
      ]
     },
     "metadata": {
      "needs_background": "light"
     },
     "output_type": "display_data"
    }
   ],
   "source": [
    "df_pivot_diff.sort_values(\"stamp_2\", ascending = False)[\"stamp_2\"].head(10).plot.barh()"
   ]
  },
  {
   "cell_type": "code",
   "execution_count": null,
   "id": "extra-executive",
   "metadata": {
    "papermill": {
     "duration": 0.022078,
     "end_time": "2021-09-05T06:00:10.416084",
     "exception": false,
     "start_time": "2021-09-05T06:00:10.394006",
     "status": "completed"
    },
    "tags": []
   },
   "outputs": [],
   "source": []
  }
 ],
 "metadata": {
  "kernelspec": {
   "display_name": "Python 3",
   "language": "python",
   "name": "python3"
  },
  "language_info": {
   "codemirror_mode": {
    "name": "ipython",
    "version": 3
   },
   "file_extension": ".py",
   "mimetype": "text/x-python",
   "name": "python",
   "nbconvert_exporter": "python",
   "pygments_lexer": "ipython3",
   "version": "3.9.5"
  },
  "papermill": {
   "default_parameters": {},
   "duration": 6.39232,
   "end_time": "2021-09-05T06:00:11.057554",
   "environment_variables": {},
   "exception": null,
   "input_path": "eBay_Overview.ipynb",
   "output_path": "eBay_Overview.ipynb",
   "parameters": {},
   "start_time": "2021-09-05T06:00:04.665234",
   "version": "2.3.3"
  }
 },
 "nbformat": 4,
 "nbformat_minor": 5
}