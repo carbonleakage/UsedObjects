{
 "cells": [
  {
   "cell_type": "code",
   "execution_count": 1,
   "id": "reverse-picking",
   "metadata": {
    "execution": {
     "iopub.execute_input": "2021-10-23T11:00:07.345164Z",
     "iopub.status.busy": "2021-10-23T11:00:07.343106Z",
     "iopub.status.idle": "2021-10-23T11:00:08.146654Z",
     "shell.execute_reply": "2021-10-23T11:00:08.147905Z"
    },
    "papermill": {
     "duration": 0.854179,
     "end_time": "2021-10-23T11:00:08.148522",
     "exception": false,
     "start_time": "2021-10-23T11:00:07.294343",
     "status": "completed"
    },
    "tags": []
   },
   "outputs": [],
   "source": [
    "import pandas as pd\n",
    "import sqlite3"
   ]
  },
  {
   "cell_type": "code",
   "execution_count": 2,
   "id": "innovative-syndrome",
   "metadata": {
    "execution": {
     "iopub.execute_input": "2021-10-23T11:00:08.199980Z",
     "iopub.status.busy": "2021-10-23T11:00:08.198033Z",
     "iopub.status.idle": "2021-10-23T11:00:08.821356Z",
     "shell.execute_reply": "2021-10-23T11:00:08.822489Z"
    },
    "papermill": {
     "duration": 0.652719,
     "end_time": "2021-10-23T11:00:08.822904",
     "exception": false,
     "start_time": "2021-10-23T11:00:08.170185",
     "status": "completed"
    },
    "tags": []
   },
   "outputs": [],
   "source": [
    "timestamps = pd.read_sql(\"select distinct record_time from EBAY_TOP_BERLIN order by record_time desc limit 2\", sqlite3.connect(\"UsedObjects.db\"))"
   ]
  },
  {
   "cell_type": "code",
   "execution_count": 3,
   "id": "periodic-identification",
   "metadata": {
    "execution": {
     "iopub.execute_input": "2021-10-23T11:00:08.900464Z",
     "iopub.status.busy": "2021-10-23T11:00:08.898429Z",
     "iopub.status.idle": "2021-10-23T11:00:08.917996Z",
     "shell.execute_reply": "2021-10-23T11:00:08.919225Z"
    },
    "papermill": {
     "duration": 0.067862,
     "end_time": "2021-10-23T11:00:08.919622",
     "exception": false,
     "start_time": "2021-10-23T11:00:08.851760",
     "status": "completed"
    },
    "tags": []
   },
   "outputs": [
    {
     "data": {
      "text/html": [
       "<div>\n",
       "<style scoped>\n",
       "    .dataframe tbody tr th:only-of-type {\n",
       "        vertical-align: middle;\n",
       "    }\n",
       "\n",
       "    .dataframe tbody tr th {\n",
       "        vertical-align: top;\n",
       "    }\n",
       "\n",
       "    .dataframe thead th {\n",
       "        text-align: right;\n",
       "    }\n",
       "</style>\n",
       "<table border=\"1\" class=\"dataframe\">\n",
       "  <thead>\n",
       "    <tr style=\"text-align: right;\">\n",
       "      <th></th>\n",
       "      <th>RECORD_TIME</th>\n",
       "    </tr>\n",
       "  </thead>\n",
       "  <tbody>\n",
       "    <tr>\n",
       "      <th>0</th>\n",
       "      <td>2021-10-23 13:00</td>\n",
       "    </tr>\n",
       "    <tr>\n",
       "      <th>1</th>\n",
       "      <td>2021-10-23 12:30</td>\n",
       "    </tr>\n",
       "  </tbody>\n",
       "</table>\n",
       "</div>"
      ],
      "text/plain": [
       "        RECORD_TIME\n",
       "0  2021-10-23 13:00\n",
       "1  2021-10-23 12:30"
      ]
     },
     "execution_count": 3,
     "metadata": {},
     "output_type": "execute_result"
    }
   ],
   "source": [
    "timestamps"
   ]
  },
  {
   "cell_type": "code",
   "execution_count": 4,
   "id": "alternate-victory",
   "metadata": {
    "execution": {
     "iopub.execute_input": "2021-10-23T11:00:08.971808Z",
     "iopub.status.busy": "2021-10-23T11:00:08.969504Z",
     "iopub.status.idle": "2021-10-23T11:00:09.878201Z",
     "shell.execute_reply": "2021-10-23T11:00:09.879420Z"
    },
    "papermill": {
     "duration": 0.938906,
     "end_time": "2021-10-23T11:00:09.879822",
     "exception": false,
     "start_time": "2021-10-23T11:00:08.940916",
     "status": "completed"
    },
    "tags": []
   },
   "outputs": [],
   "source": [
    "df = pd.read_sql(\"select * from EBAY_TOP_BERLIN where record_time in (select distinct record_time from EBAY_TOP_BERLIN order by record_time desc limit 2)\", sqlite3.connect(\"UsedObjects.db\"))"
   ]
  },
  {
   "cell_type": "code",
   "execution_count": 5,
   "id": "popular-active",
   "metadata": {
    "execution": {
     "iopub.execute_input": "2021-10-23T11:00:09.951796Z",
     "iopub.status.busy": "2021-10-23T11:00:09.939795Z",
     "iopub.status.idle": "2021-10-23T11:00:09.967119Z",
     "shell.execute_reply": "2021-10-23T11:00:09.968338Z"
    },
    "papermill": {
     "duration": 0.068163,
     "end_time": "2021-10-23T11:00:09.968792",
     "exception": false,
     "start_time": "2021-10-23T11:00:09.900629",
     "status": "completed"
    },
    "tags": []
   },
   "outputs": [],
   "source": [
    "df_pivot = df.pivot_table(index=\"PRODUCT\", columns = \"RECORD_TIME\", values = \"LISTING_COUNT\")"
   ]
  },
  {
   "cell_type": "code",
   "execution_count": 6,
   "id": "union-huntington",
   "metadata": {
    "execution": {
     "iopub.execute_input": "2021-10-23T11:00:10.025456Z",
     "iopub.status.busy": "2021-10-23T11:00:10.023311Z",
     "iopub.status.idle": "2021-10-23T11:00:10.028558Z",
     "shell.execute_reply": "2021-10-23T11:00:10.029924Z"
    },
    "papermill": {
     "duration": 0.040571,
     "end_time": "2021-10-23T11:00:10.030346",
     "exception": false,
     "start_time": "2021-10-23T11:00:09.989775",
     "status": "completed"
    },
    "tags": []
   },
   "outputs": [],
   "source": [
    "df_pivot.columns = [\"stamp_1\", \"stamp_2\"]\n",
    "df_pivot_diff = df_pivot.diff(axis=1)"
   ]
  },
  {
   "cell_type": "code",
   "execution_count": 7,
   "id": "fifth-motion",
   "metadata": {
    "execution": {
     "iopub.execute_input": "2021-10-23T11:00:10.084015Z",
     "iopub.status.busy": "2021-10-23T11:00:10.081458Z",
     "iopub.status.idle": "2021-10-23T11:00:11.578386Z",
     "shell.execute_reply": "2021-10-23T11:00:11.579655Z"
    },
    "papermill": {
     "duration": 1.528225,
     "end_time": "2021-10-23T11:00:11.580111",
     "exception": false,
     "start_time": "2021-10-23T11:00:10.051886",
     "status": "completed"
    },
    "tags": []
   },
   "outputs": [
    {
     "data": {
      "text/plain": [
       "<AxesSubplot:ylabel='PRODUCT'>"
      ]
     },
     "execution_count": 7,
     "metadata": {},
     "output_type": "execute_result"
    },
    {
     "data": {
      "image/png": "[encoded data removed]",
      "text/plain": [
       "<Figure size 432x288 with 1 Axes>"
      ]
     },
     "metadata": {
      "needs_background": "light"
     },
     "output_type": "display_data"
    }
   ],
   "source": [
    "df_pivot_diff.sort_values(\"stamp_2\", ascending = False)[\"stamp_2\"].head(10).plot.barh()"
   ]
  },
  {
   "cell_type": "code",
   "execution_count": null,
   "id": "extra-executive",
   "metadata": {
    "papermill": {
     "duration": 0.022253,
     "end_time": "2021-10-23T11:00:11.626981",
     "exception": false,
     "start_time": "2021-10-23T11:00:11.604728",
     "status": "completed"
    },
    "tags": []
   },
   "outputs": [],
   "source": []
  }
 ],
 "metadata": {
  "kernelspec": {
   "display_name": "Python 3",
   "language": "python",
   "name": "python3"
  },
  "language_info": {
   "codemirror_mode": {
    "name": "ipython",
    "version": 3
   },
   "file_extension": ".py",
   "mimetype": "text/x-python",
   "name": "python",
   "nbconvert_exporter": "python",
   "pygments_lexer": "ipython3",
   "version": "3.9.5"
  },
  "papermill": {
   "default_parameters": {},
   "duration": 7.378638,
   "end_time": "2021-10-23T11:00:12.271437",
   "environment_variables": {},
   "exception": null,
   "input_path": "eBay_Overview.ipynb",
   "output_path": "eBay_Overview.ipynb",
   "parameters": {},
   "start_time": "2021-10-23T11:00:04.892799",
   "version": "2.3.3"
  }
 },
 "nbformat": 4,
 "nbformat_minor": 5
}