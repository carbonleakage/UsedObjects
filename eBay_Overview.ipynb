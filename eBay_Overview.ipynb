{
 "cells": [
  {
   "cell_type": "code",
   "execution_count": 1,
   "id": "reverse-picking",
   "metadata": {
    "execution": {
     "iopub.execute_input": "2021-12-22T13:00:07.482340Z",
     "iopub.status.busy": "2021-12-22T13:00:07.479803Z",
     "iopub.status.idle": "2021-12-22T13:00:08.450516Z",
     "shell.execute_reply": "2021-12-22T13:00:08.447054Z"
    },
    "papermill": {
     "duration": 1.018253,
     "end_time": "2021-12-22T13:00:08.451381",
     "exception": false,
     "start_time": "2021-12-22T13:00:07.433128",
     "status": "completed"
    },
    "tags": []
   },
   "outputs": [],
   "source": [
    "import pandas as pd\n",
    "import sqlite3"
   ]
  },
  {
   "cell_type": "code",
   "execution_count": 2,
   "id": "innovative-syndrome",
   "metadata": {
    "execution": {
     "iopub.execute_input": "2021-12-22T13:00:08.519039Z",
     "iopub.status.busy": "2021-12-22T13:00:08.516579Z",
     "iopub.status.idle": "2021-12-22T13:00:09.698197Z",
     "shell.execute_reply": "2021-12-22T13:00:09.700094Z"
    },
    "papermill": {
     "duration": 1.216258,
     "end_time": "2021-12-22T13:00:09.700552",
     "exception": false,
     "start_time": "2021-12-22T13:00:08.484294",
     "status": "completed"
    },
    "tags": []
   },
   "outputs": [],
   "source": [
    "timestamps = pd.read_sql(\"select distinct record_time from EBAY_TOP_BERLIN order by record_time desc limit 2\", sqlite3.connect(\"UsedObjects.db\"))"
   ]
  },
  {
   "cell_type": "code",
   "execution_count": 3,
   "id": "periodic-identification",
   "metadata": {
    "execution": {
     "iopub.execute_input": "2021-12-22T13:00:09.785615Z",
     "iopub.status.busy": "2021-12-22T13:00:09.783166Z",
     "iopub.status.idle": "2021-12-22T13:00:09.807395Z",
     "shell.execute_reply": "2021-12-22T13:00:09.809179Z"
    },
    "papermill": {
     "duration": 0.075757,
     "end_time": "2021-12-22T13:00:09.809687",
     "exception": false,
     "start_time": "2021-12-22T13:00:09.733930",
     "status": "completed"
    },
    "tags": []
   },
   "outputs": [
    {
     "data": {
      "text/html": [
       "<div>\n",
       "<style scoped>\n",
       "    .dataframe tbody tr th:only-of-type {\n",
       "        vertical-align: middle;\n",
       "    }\n",
       "\n",
       "    .dataframe tbody tr th {\n",
       "        vertical-align: top;\n",
       "    }\n",
       "\n",
       "    .dataframe thead th {\n",
       "        text-align: right;\n",
       "    }\n",
       "</style>\n",
       "<table border=\"1\" class=\"dataframe\">\n",
       "  <thead>\n",
       "    <tr style=\"text-align: right;\">\n",
       "      <th></th>\n",
       "      <th>RECORD_TIME</th>\n",
       "    </tr>\n",
       "  </thead>\n",
       "  <tbody>\n",
       "    <tr>\n",
       "      <th>0</th>\n",
       "      <td>2021-12-22 14:00</td>\n",
       "    </tr>\n",
       "    <tr>\n",
       "      <th>1</th>\n",
       "      <td>2021-12-22 13:30</td>\n",
       "    </tr>\n",
       "  </tbody>\n",
       "</table>\n",
       "</div>"
      ],
      "text/plain": [
       "        RECORD_TIME\n",
       "0  2021-12-22 14:00\n",
       "1  2021-12-22 13:30"
      ]
     },
     "execution_count": 3,
     "metadata": {},
     "output_type": "execute_result"
    }
   ],
   "source": [
    "timestamps"
   ]
  },
  {
   "cell_type": "code",
   "execution_count": 4,
   "id": "alternate-victory",
   "metadata": {
    "execution": {
     "iopub.execute_input": "2021-12-22T13:00:09.865872Z",
     "iopub.status.busy": "2021-12-22T13:00:09.863596Z",
     "iopub.status.idle": "2021-12-22T13:00:11.516374Z",
     "shell.execute_reply": "2021-12-22T13:00:11.518025Z"
    },
    "papermill": {
     "duration": 1.687656,
     "end_time": "2021-12-22T13:00:11.518500",
     "exception": false,
     "start_time": "2021-12-22T13:00:09.830844",
     "status": "completed"
    },
    "tags": []
   },
   "outputs": [],
   "source": [
    "df = pd.read_sql(\"select * from EBAY_TOP_BERLIN where record_time in (select distinct record_time from EBAY_TOP_BERLIN order by record_time desc limit 2)\", sqlite3.connect(\"UsedObjects.db\"))"
   ]
  },
  {
   "cell_type": "code",
   "execution_count": 5,
   "id": "popular-active",
   "metadata": {
    "execution": {
     "iopub.execute_input": "2021-12-22T13:00:11.593751Z",
     "iopub.status.busy": "2021-12-22T13:00:11.580546Z",
     "iopub.status.idle": "2021-12-22T13:00:11.611515Z",
     "shell.execute_reply": "2021-12-22T13:00:11.615612Z"
    },
    "papermill": {
     "duration": 0.077046,
     "end_time": "2021-12-22T13:00:11.616108",
     "exception": false,
     "start_time": "2021-12-22T13:00:11.539062",
     "status": "completed"
    },
    "tags": []
   },
   "outputs": [],
   "source": [
    "df_pivot = df.pivot_table(index=\"PRODUCT\", columns = \"RECORD_TIME\", values = \"LISTING_COUNT\")"
   ]
  },
  {
   "cell_type": "code",
   "execution_count": 6,
   "id": "union-huntington",
   "metadata": {
    "execution": {
     "iopub.execute_input": "2021-12-22T13:00:11.678479Z",
     "iopub.status.busy": "2021-12-22T13:00:11.676164Z",
     "iopub.status.idle": "2021-12-22T13:00:11.682666Z",
     "shell.execute_reply": "2021-12-22T13:00:11.684270Z"
    },
    "papermill": {
     "duration": 0.046996,
     "end_time": "2021-12-22T13:00:11.684811",
     "exception": false,
     "start_time": "2021-12-22T13:00:11.637815",
     "status": "completed"
    },
    "tags": []
   },
   "outputs": [],
   "source": [
    "df_pivot.columns = [\"stamp_1\", \"stamp_2\"]\n",
    "df_pivot_diff = df_pivot.diff(axis=1)"
   ]
  },
  {
   "cell_type": "code",
   "execution_count": 7,
   "id": "fifth-motion",
   "metadata": {
    "execution": {
     "iopub.execute_input": "2021-12-22T13:00:11.742644Z",
     "iopub.status.busy": "2021-12-22T13:00:11.740088Z",
     "iopub.status.idle": "2021-12-22T13:00:13.713039Z",
     "shell.execute_reply": "2021-12-22T13:00:13.711223Z"
    },
    "papermill": {
     "duration": 2.007148,
     "end_time": "2021-12-22T13:00:13.713407",
     "exception": false,
     "start_time": "2021-12-22T13:00:11.706259",
     "status": "completed"
    },
    "tags": []
   },
   "outputs": [
    {
     "data": {
      "text/plain": [
       "<AxesSubplot:ylabel='PRODUCT'>"
      ]
     },
     "execution_count": 7,
     "metadata": {},
     "output_type": "execute_result"
    },
    {
     "data": {
      "image/png": "[encoded data removed]",
      "text/plain": [
       "<Figure size 432x288 with 1 Axes>"
      ]
     },
     "metadata": {
      "needs_background": "light"
     },
     "output_type": "display_data"
    }
   ],
   "source": [
    "df_pivot_diff.sort_values(\"stamp_2\", ascending = False)[\"stamp_2\"].head(10).plot.barh()"
   ]
  },
  {
   "cell_type": "code",
   "execution_count": null,
   "id": "extra-executive",
   "metadata": {
    "papermill": {
     "duration": 0.021959,
     "end_time": "2021-12-22T13:00:13.759205",
     "exception": false,
     "start_time": "2021-12-22T13:00:13.737246",
     "status": "completed"
    },
    "tags": []
   },
   "outputs": [],
   "source": []
  }
 ],
 "metadata": {
  "kernelspec": {
   "display_name": "Python 3",
   "language": "python",
   "name": "python3"
  },
  "language_info": {
   "codemirror_mode": {
    "name": "ipython",
    "version": 3
   },
   "file_extension": ".py",
   "mimetype": "text/x-python",
   "name": "python",
   "nbconvert_exporter": "python",
   "pygments_lexer": "ipython3",
   "version": "3.9.5"
  },
  "papermill": {
   "default_parameters": {},
   "duration": 9.82959,
   "end_time": "2021-12-22T13:00:14.516349",
   "environment_variables": {},
   "exception": null,
   "input_path": "eBay_Overview.ipynb",
   "output_path": "eBay_Overview.ipynb",
   "parameters": {},
   "start_time": "2021-12-22T13:00:04.686759",
   "version": "2.3.3"
  }
 },
 "nbformat": 4,
 "nbformat_minor": 5
}