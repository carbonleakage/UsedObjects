{
 "cells": [
  {
   "cell_type": "code",
   "execution_count": 1,
   "id": "reverse-picking",
   "metadata": {
    "execution": {
     "iopub.execute_input": "2021-12-15T10:00:07.797179Z",
     "iopub.status.busy": "2021-12-15T10:00:07.794454Z",
     "iopub.status.idle": "2021-12-15T10:00:08.745828Z",
     "shell.execute_reply": "2021-12-15T10:00:08.747413Z"
    },
    "papermill": {
     "duration": 1.002654,
     "end_time": "2021-12-15T10:00:08.748180",
     "exception": false,
     "start_time": "2021-12-15T10:00:07.745526",
     "status": "completed"
    },
    "tags": []
   },
   "outputs": [],
   "source": [
    "import pandas as pd\n",
    "import sqlite3"
   ]
  },
  {
   "cell_type": "code",
   "execution_count": 2,
   "id": "innovative-syndrome",
   "metadata": {
    "execution": {
     "iopub.execute_input": "2021-12-15T10:00:08.812146Z",
     "iopub.status.busy": "2021-12-15T10:00:08.809867Z",
     "iopub.status.idle": "2021-12-15T10:00:09.914964Z",
     "shell.execute_reply": "2021-12-15T10:00:09.917399Z"
    },
    "papermill": {
     "duration": 1.141757,
     "end_time": "2021-12-15T10:00:09.917959",
     "exception": false,
     "start_time": "2021-12-15T10:00:08.776202",
     "status": "completed"
    },
    "tags": []
   },
   "outputs": [],
   "source": [
    "timestamps = pd.read_sql(\"select distinct record_time from EBAY_TOP_BERLIN order by record_time desc limit 2\", sqlite3.connect(\"UsedObjects.db\"))"
   ]
  },
  {
   "cell_type": "code",
   "execution_count": 3,
   "id": "periodic-identification",
   "metadata": {
    "execution": {
     "iopub.execute_input": "2021-12-15T10:00:09.983261Z",
     "iopub.status.busy": "2021-12-15T10:00:09.981255Z",
     "iopub.status.idle": "2021-12-15T10:00:10.001912Z",
     "shell.execute_reply": "2021-12-15T10:00:10.003119Z"
    },
    "papermill": {
     "duration": 0.0666,
     "end_time": "2021-12-15T10:00:10.003553",
     "exception": false,
     "start_time": "2021-12-15T10:00:09.936953",
     "status": "completed"
    },
    "tags": []
   },
   "outputs": [
    {
     "data": {
      "text/html": [
       "<div>\n",
       "<style scoped>\n",
       "    .dataframe tbody tr th:only-of-type {\n",
       "        vertical-align: middle;\n",
       "    }\n",
       "\n",
       "    .dataframe tbody tr th {\n",
       "        vertical-align: top;\n",
       "    }\n",
       "\n",
       "    .dataframe thead th {\n",
       "        text-align: right;\n",
       "    }\n",
       "</style>\n",
       "<table border=\"1\" class=\"dataframe\">\n",
       "  <thead>\n",
       "    <tr style=\"text-align: right;\">\n",
       "      <th></th>\n",
       "      <th>RECORD_TIME</th>\n",
       "    </tr>\n",
       "  </thead>\n",
       "  <tbody>\n",
       "    <tr>\n",
       "      <th>0</th>\n",
       "      <td>2021-12-15 11:00</td>\n",
       "    </tr>\n",
       "    <tr>\n",
       "      <th>1</th>\n",
       "      <td>2021-12-15 10:30</td>\n",
       "    </tr>\n",
       "  </tbody>\n",
       "</table>\n",
       "</div>"
      ],
      "text/plain": [
       "        RECORD_TIME\n",
       "0  2021-12-15 11:00\n",
       "1  2021-12-15 10:30"
      ]
     },
     "execution_count": 3,
     "metadata": {},
     "output_type": "execute_result"
    }
   ],
   "source": [
    "timestamps"
   ]
  },
  {
   "cell_type": "code",
   "execution_count": 4,
   "id": "alternate-victory",
   "metadata": {
    "execution": {
     "iopub.execute_input": "2021-12-15T10:00:10.057466Z",
     "iopub.status.busy": "2021-12-15T10:00:10.055110Z",
     "iopub.status.idle": "2021-12-15T10:00:11.660519Z",
     "shell.execute_reply": "2021-12-15T10:00:11.662095Z"
    },
    "papermill": {
     "duration": 1.636236,
     "end_time": "2021-12-15T10:00:11.662557",
     "exception": false,
     "start_time": "2021-12-15T10:00:10.026321",
     "status": "completed"
    },
    "tags": []
   },
   "outputs": [],
   "source": [
    "df = pd.read_sql(\"select * from EBAY_TOP_BERLIN where record_time in (select distinct record_time from EBAY_TOP_BERLIN order by record_time desc limit 2)\", sqlite3.connect(\"UsedObjects.db\"))"
   ]
  },
  {
   "cell_type": "code",
   "execution_count": 5,
   "id": "popular-active",
   "metadata": {
    "execution": {
     "iopub.execute_input": "2021-12-15T10:00:11.743214Z",
     "iopub.status.busy": "2021-12-15T10:00:11.733556Z",
     "iopub.status.idle": "2021-12-15T10:00:11.764606Z",
     "shell.execute_reply": "2021-12-15T10:00:11.766121Z"
    },
    "papermill": {
     "duration": 0.082746,
     "end_time": "2021-12-15T10:00:11.766608",
     "exception": false,
     "start_time": "2021-12-15T10:00:11.683862",
     "status": "completed"
    },
    "tags": []
   },
   "outputs": [],
   "source": [
    "df_pivot = df.pivot_table(index=\"PRODUCT\", columns = \"RECORD_TIME\", values = \"LISTING_COUNT\")"
   ]
  },
  {
   "cell_type": "code",
   "execution_count": 6,
   "id": "union-huntington",
   "metadata": {
    "execution": {
     "iopub.execute_input": "2021-12-15T10:00:11.826179Z",
     "iopub.status.busy": "2021-12-15T10:00:11.823918Z",
     "iopub.status.idle": "2021-12-15T10:00:11.829490Z",
     "shell.execute_reply": "2021-12-15T10:00:11.830855Z"
    },
    "papermill": {
     "duration": 0.04405,
     "end_time": "2021-12-15T10:00:11.831322",
     "exception": false,
     "start_time": "2021-12-15T10:00:11.787272",
     "status": "completed"
    },
    "tags": []
   },
   "outputs": [],
   "source": [
    "df_pivot.columns = [\"stamp_1\", \"stamp_2\"]\n",
    "df_pivot_diff = df_pivot.diff(axis=1)"
   ]
  },
  {
   "cell_type": "code",
   "execution_count": 7,
   "id": "fifth-motion",
   "metadata": {
    "execution": {
     "iopub.execute_input": "2021-12-15T10:00:11.889537Z",
     "iopub.status.busy": "2021-12-15T10:00:11.886789Z",
     "iopub.status.idle": "2021-12-15T10:00:13.898659Z",
     "shell.execute_reply": "2021-12-15T10:00:13.900239Z"
    },
    "papermill": {
     "duration": 2.049385,
     "end_time": "2021-12-15T10:00:13.900782",
     "exception": false,
     "start_time": "2021-12-15T10:00:11.851397",
     "status": "completed"
    },
    "tags": []
   },
   "outputs": [
    {
     "data": {
      "text/plain": [
       "<AxesSubplot:ylabel='PRODUCT'>"
      ]
     },
     "execution_count": 7,
     "metadata": {},
     "output_type": "execute_result"
    },
    {
     "data": {
      "image/png": "[encoded data removed]",
      "text/plain": [
       "<Figure size 432x288 with 1 Axes>"
      ]
     },
     "metadata": {
      "needs_background": "light"
     },
     "output_type": "display_data"
    }
   ],
   "source": [
    "df_pivot_diff.sort_values(\"stamp_2\", ascending = False)[\"stamp_2\"].head(10).plot.barh()"
   ]
  },
  {
   "cell_type": "code",
   "execution_count": null,
   "id": "extra-executive",
   "metadata": {
    "papermill": {
     "duration": 0.022351,
     "end_time": "2021-12-15T10:00:13.948660",
     "exception": false,
     "start_time": "2021-12-15T10:00:13.926309",
     "status": "completed"
    },
    "tags": []
   },
   "outputs": [],
   "source": []
  }
 ],
 "metadata": {
  "kernelspec": {
   "display_name": "Python 3",
   "language": "python",
   "name": "python3"
  },
  "language_info": {
   "codemirror_mode": {
    "name": "ipython",
    "version": 3
   },
   "file_extension": ".py",
   "mimetype": "text/x-python",
   "name": "python",
   "nbconvert_exporter": "python",
   "pygments_lexer": "ipython3",
   "version": "3.9.5"
  },
  "papermill": {
   "default_parameters": {},
   "duration": 9.551862,
   "end_time": "2021-12-15T10:00:14.591564",
   "environment_variables": {},
   "exception": null,
   "input_path": "eBay_Overview.ipynb",
   "output_path": "eBay_Overview.ipynb",
   "parameters": {},
   "start_time": "2021-12-15T10:00:05.039702",
   "version": "2.3.3"
  }
 },
 "nbformat": 4,
 "nbformat_minor": 5
}