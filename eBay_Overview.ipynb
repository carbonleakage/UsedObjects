{
 "cells": [
  {
   "cell_type": "code",
   "execution_count": 1,
   "id": "reverse-picking",
   "metadata": {
    "execution": {
     "iopub.execute_input": "2021-10-11T09:00:07.321310Z",
     "iopub.status.busy": "2021-10-11T09:00:07.319276Z",
     "iopub.status.idle": "2021-10-11T09:00:08.121441Z",
     "shell.execute_reply": "2021-10-11T09:00:08.122850Z"
    },
    "papermill": {
     "duration": 0.853082,
     "end_time": "2021-10-11T09:00:08.123509",
     "exception": false,
     "start_time": "2021-10-11T09:00:07.270427",
     "status": "completed"
    },
    "tags": []
   },
   "outputs": [],
   "source": [
    "import pandas as pd\n",
    "import sqlite3"
   ]
  },
  {
   "cell_type": "code",
   "execution_count": 2,
   "id": "innovative-syndrome",
   "metadata": {
    "execution": {
     "iopub.execute_input": "2021-10-11T09:00:08.174168Z",
     "iopub.status.busy": "2021-10-11T09:00:08.172179Z",
     "iopub.status.idle": "2021-10-11T09:00:08.673224Z",
     "shell.execute_reply": "2021-10-11T09:00:08.674546Z"
    },
    "papermill": {
     "duration": 0.530858,
     "end_time": "2021-10-11T09:00:08.674941",
     "exception": false,
     "start_time": "2021-10-11T09:00:08.144083",
     "status": "completed"
    },
    "tags": []
   },
   "outputs": [],
   "source": [
    "timestamps = pd.read_sql(\"select distinct record_time from EBAY_TOP_BERLIN order by record_time desc limit 2\", sqlite3.connect(\"UsedObjects.db\"))"
   ]
  },
  {
   "cell_type": "code",
   "execution_count": 3,
   "id": "periodic-identification",
   "metadata": {
    "execution": {
     "iopub.execute_input": "2021-10-11T09:00:08.739511Z",
     "iopub.status.busy": "2021-10-11T09:00:08.737469Z",
     "iopub.status.idle": "2021-10-11T09:00:08.757093Z",
     "shell.execute_reply": "2021-10-11T09:00:08.758435Z"
    },
    "papermill": {
     "duration": 0.064012,
     "end_time": "2021-10-11T09:00:08.758833",
     "exception": false,
     "start_time": "2021-10-11T09:00:08.694821",
     "status": "completed"
    },
    "tags": []
   },
   "outputs": [
    {
     "data": {
      "text/html": [
       "<div>\n",
       "<style scoped>\n",
       "    .dataframe tbody tr th:only-of-type {\n",
       "        vertical-align: middle;\n",
       "    }\n",
       "\n",
       "    .dataframe tbody tr th {\n",
       "        vertical-align: top;\n",
       "    }\n",
       "\n",
       "    .dataframe thead th {\n",
       "        text-align: right;\n",
       "    }\n",
       "</style>\n",
       "<table border=\"1\" class=\"dataframe\">\n",
       "  <thead>\n",
       "    <tr style=\"text-align: right;\">\n",
       "      <th></th>\n",
       "      <th>RECORD_TIME</th>\n",
       "    </tr>\n",
       "  </thead>\n",
       "  <tbody>\n",
       "    <tr>\n",
       "      <th>0</th>\n",
       "      <td>2021-10-11 11:00</td>\n",
       "    </tr>\n",
       "    <tr>\n",
       "      <th>1</th>\n",
       "      <td>2021-10-11 10:30</td>\n",
       "    </tr>\n",
       "  </tbody>\n",
       "</table>\n",
       "</div>"
      ],
      "text/plain": [
       "        RECORD_TIME\n",
       "0  2021-10-11 11:00\n",
       "1  2021-10-11 10:30"
      ]
     },
     "execution_count": 3,
     "metadata": {},
     "output_type": "execute_result"
    }
   ],
   "source": [
    "timestamps"
   ]
  },
  {
   "cell_type": "code",
   "execution_count": 4,
   "id": "alternate-victory",
   "metadata": {
    "execution": {
     "iopub.execute_input": "2021-10-11T09:00:08.819763Z",
     "iopub.status.busy": "2021-10-11T09:00:08.817944Z",
     "iopub.status.idle": "2021-10-11T09:00:09.559452Z",
     "shell.execute_reply": "2021-10-11T09:00:09.560736Z"
    },
    "papermill": {
     "duration": 0.774958,
     "end_time": "2021-10-11T09:00:09.561182",
     "exception": false,
     "start_time": "2021-10-11T09:00:08.786224",
     "status": "completed"
    },
    "tags": []
   },
   "outputs": [],
   "source": [
    "df = pd.read_sql(\"select * from EBAY_TOP_BERLIN where record_time in (select distinct record_time from EBAY_TOP_BERLIN order by record_time desc limit 2)\", sqlite3.connect(\"UsedObjects.db\"))"
   ]
  },
  {
   "cell_type": "code",
   "execution_count": 5,
   "id": "popular-active",
   "metadata": {
    "execution": {
     "iopub.execute_input": "2021-10-11T09:00:09.633317Z",
     "iopub.status.busy": "2021-10-11T09:00:09.621146Z",
     "iopub.status.idle": "2021-10-11T09:00:09.648536Z",
     "shell.execute_reply": "2021-10-11T09:00:09.649827Z"
    },
    "papermill": {
     "duration": 0.06829,
     "end_time": "2021-10-11T09:00:09.650227",
     "exception": false,
     "start_time": "2021-10-11T09:00:09.581937",
     "status": "completed"
    },
    "tags": []
   },
   "outputs": [],
   "source": [
    "df_pivot = df.pivot_table(index=\"PRODUCT\", columns = \"RECORD_TIME\", values = \"LISTING_COUNT\")"
   ]
  },
  {
   "cell_type": "code",
   "execution_count": 6,
   "id": "union-huntington",
   "metadata": {
    "execution": {
     "iopub.execute_input": "2021-10-11T09:00:09.706225Z",
     "iopub.status.busy": "2021-10-11T09:00:09.704119Z",
     "iopub.status.idle": "2021-10-11T09:00:09.709649Z",
     "shell.execute_reply": "2021-10-11T09:00:09.710865Z"
    },
    "papermill": {
     "duration": 0.040902,
     "end_time": "2021-10-11T09:00:09.711292",
     "exception": false,
     "start_time": "2021-10-11T09:00:09.670390",
     "status": "completed"
    },
    "tags": []
   },
   "outputs": [],
   "source": [
    "df_pivot.columns = [\"stamp_1\", \"stamp_2\"]\n",
    "df_pivot_diff = df_pivot.diff(axis=1)"
   ]
  },
  {
   "cell_type": "code",
   "execution_count": 7,
   "id": "fifth-motion",
   "metadata": {
    "execution": {
     "iopub.execute_input": "2021-10-11T09:00:09.765794Z",
     "iopub.status.busy": "2021-10-11T09:00:09.763202Z",
     "iopub.status.idle": "2021-10-11T09:00:11.233370Z",
     "shell.execute_reply": "2021-10-11T09:00:11.234663Z"
    },
    "papermill": {
     "duration": 1.503263,
     "end_time": "2021-10-11T09:00:11.235115",
     "exception": false,
     "start_time": "2021-10-11T09:00:09.731852",
     "status": "completed"
    },
    "tags": []
   },
   "outputs": [
    {
     "data": {
      "text/plain": [
       "<AxesSubplot:ylabel='PRODUCT'>"
      ]
     },
     "execution_count": 7,
     "metadata": {},
     "output_type": "execute_result"
    },
    {
     "data": {
      "image/png": "[encoded data removed]",
      "text/plain": [
       "<Figure size 432x288 with 1 Axes>"
      ]
     },
     "metadata": {
      "needs_background": "light"
     },
     "output_type": "display_data"
    }
   ],
   "source": [
    "df_pivot_diff.sort_values(\"stamp_2\", ascending = False)[\"stamp_2\"].head(10).plot.barh()"
   ]
  },
  {
   "cell_type": "code",
   "execution_count": null,
   "id": "extra-executive",
   "metadata": {
    "papermill": {
     "duration": 0.02246,
     "end_time": "2021-10-11T09:00:11.282238",
     "exception": false,
     "start_time": "2021-10-11T09:00:11.259778",
     "status": "completed"
    },
    "tags": []
   },
   "outputs": [],
   "source": []
  }
 ],
 "metadata": {
  "kernelspec": {
   "display_name": "Python 3",
   "language": "python",
   "name": "python3"
  },
  "language_info": {
   "codemirror_mode": {
    "name": "ipython",
    "version": 3
   },
   "file_extension": ".py",
   "mimetype": "text/x-python",
   "name": "python",
   "nbconvert_exporter": "python",
   "pygments_lexer": "ipython3",
   "version": "3.9.5"
  },
  "papermill": {
   "default_parameters": {},
   "duration": 7.827753,
   "end_time": "2021-10-11T09:00:12.698610",
   "environment_variables": {},
   "exception": null,
   "input_path": "eBay_Overview.ipynb",
   "output_path": "eBay_Overview.ipynb",
   "parameters": {},
   "start_time": "2021-10-11T09:00:04.870857",
   "version": "2.3.3"
  }
 },
 "nbformat": 4,
 "nbformat_minor": 5
}