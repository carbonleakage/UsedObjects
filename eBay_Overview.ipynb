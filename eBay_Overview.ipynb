{
 "cells": [
  {
   "cell_type": "code",
   "execution_count": 1,
   "id": "reverse-picking",
   "metadata": {
    "execution": {
     "iopub.execute_input": "2021-10-29T10:30:08.906464Z",
     "iopub.status.busy": "2021-10-29T10:30:08.904455Z",
     "iopub.status.idle": "2021-10-29T10:30:09.710413Z",
     "shell.execute_reply": "2021-10-29T10:30:09.711687Z"
    },
    "papermill": {
     "duration": 0.859194,
     "end_time": "2021-10-29T10:30:09.712304",
     "exception": false,
     "start_time": "2021-10-29T10:30:08.853110",
     "status": "completed"
    },
    "tags": []
   },
   "outputs": [],
   "source": [
    "import pandas as pd\n",
    "import sqlite3"
   ]
  },
  {
   "cell_type": "code",
   "execution_count": 2,
   "id": "innovative-syndrome",
   "metadata": {
    "execution": {
     "iopub.execute_input": "2021-10-29T10:30:09.763791Z",
     "iopub.status.busy": "2021-10-29T10:30:09.761916Z",
     "iopub.status.idle": "2021-10-29T10:30:10.423634Z",
     "shell.execute_reply": "2021-10-29T10:30:10.425077Z"
    },
    "papermill": {
     "duration": 0.691607,
     "end_time": "2021-10-29T10:30:10.425502",
     "exception": false,
     "start_time": "2021-10-29T10:30:09.733895",
     "status": "completed"
    },
    "tags": []
   },
   "outputs": [],
   "source": [
    "timestamps = pd.read_sql(\"select distinct record_time from EBAY_TOP_BERLIN order by record_time desc limit 2\", sqlite3.connect(\"UsedObjects.db\"))"
   ]
  },
  {
   "cell_type": "code",
   "execution_count": 3,
   "id": "periodic-identification",
   "metadata": {
    "execution": {
     "iopub.execute_input": "2021-10-29T10:30:10.503948Z",
     "iopub.status.busy": "2021-10-29T10:30:10.498927Z",
     "iopub.status.idle": "2021-10-29T10:30:10.519124Z",
     "shell.execute_reply": "2021-10-29T10:30:10.520499Z"
    },
    "papermill": {
     "duration": 0.068846,
     "end_time": "2021-10-29T10:30:10.520991",
     "exception": false,
     "start_time": "2021-10-29T10:30:10.452145",
     "status": "completed"
    },
    "tags": []
   },
   "outputs": [
    {
     "data": {
      "text/html": [
       "<div>\n",
       "<style scoped>\n",
       "    .dataframe tbody tr th:only-of-type {\n",
       "        vertical-align: middle;\n",
       "    }\n",
       "\n",
       "    .dataframe tbody tr th {\n",
       "        vertical-align: top;\n",
       "    }\n",
       "\n",
       "    .dataframe thead th {\n",
       "        text-align: right;\n",
       "    }\n",
       "</style>\n",
       "<table border=\"1\" class=\"dataframe\">\n",
       "  <thead>\n",
       "    <tr style=\"text-align: right;\">\n",
       "      <th></th>\n",
       "      <th>RECORD_TIME</th>\n",
       "    </tr>\n",
       "  </thead>\n",
       "  <tbody>\n",
       "    <tr>\n",
       "      <th>0</th>\n",
       "      <td>2021-10-29 12:30</td>\n",
       "    </tr>\n",
       "    <tr>\n",
       "      <th>1</th>\n",
       "      <td>2021-10-29 12:00</td>\n",
       "    </tr>\n",
       "  </tbody>\n",
       "</table>\n",
       "</div>"
      ],
      "text/plain": [
       "        RECORD_TIME\n",
       "0  2021-10-29 12:30\n",
       "1  2021-10-29 12:00"
      ]
     },
     "execution_count": 3,
     "metadata": {},
     "output_type": "execute_result"
    }
   ],
   "source": [
    "timestamps"
   ]
  },
  {
   "cell_type": "code",
   "execution_count": 4,
   "id": "alternate-victory",
   "metadata": {
    "execution": {
     "iopub.execute_input": "2021-10-29T10:30:10.572310Z",
     "iopub.status.busy": "2021-10-29T10:30:10.570484Z",
     "iopub.status.idle": "2021-10-29T10:30:11.521118Z",
     "shell.execute_reply": "2021-10-29T10:30:11.522542Z"
    },
    "papermill": {
     "duration": 0.981129,
     "end_time": "2021-10-29T10:30:11.522984",
     "exception": false,
     "start_time": "2021-10-29T10:30:10.541855",
     "status": "completed"
    },
    "tags": []
   },
   "outputs": [],
   "source": [
    "df = pd.read_sql(\"select * from EBAY_TOP_BERLIN where record_time in (select distinct record_time from EBAY_TOP_BERLIN order by record_time desc limit 2)\", sqlite3.connect(\"UsedObjects.db\"))"
   ]
  },
  {
   "cell_type": "code",
   "execution_count": 5,
   "id": "popular-active",
   "metadata": {
    "execution": {
     "iopub.execute_input": "2021-10-29T10:30:11.589302Z",
     "iopub.status.busy": "2021-10-29T10:30:11.581929Z",
     "iopub.status.idle": "2021-10-29T10:30:11.611797Z",
     "shell.execute_reply": "2021-10-29T10:30:11.610472Z"
    },
    "papermill": {
     "duration": 0.067918,
     "end_time": "2021-10-29T10:30:11.612134",
     "exception": false,
     "start_time": "2021-10-29T10:30:11.544216",
     "status": "completed"
    },
    "tags": []
   },
   "outputs": [],
   "source": [
    "df_pivot = df.pivot_table(index=\"PRODUCT\", columns = \"RECORD_TIME\", values = \"LISTING_COUNT\")"
   ]
  },
  {
   "cell_type": "code",
   "execution_count": 6,
   "id": "union-huntington",
   "metadata": {
    "execution": {
     "iopub.execute_input": "2021-10-29T10:30:11.672151Z",
     "iopub.status.busy": "2021-10-29T10:30:11.669692Z",
     "iopub.status.idle": "2021-10-29T10:30:11.677412Z",
     "shell.execute_reply": "2021-10-29T10:30:11.675855Z"
    },
    "papermill": {
     "duration": 0.043184,
     "end_time": "2021-10-29T10:30:11.677826",
     "exception": false,
     "start_time": "2021-10-29T10:30:11.634642",
     "status": "completed"
    },
    "tags": []
   },
   "outputs": [],
   "source": [
    "df_pivot.columns = [\"stamp_1\", \"stamp_2\"]\n",
    "df_pivot_diff = df_pivot.diff(axis=1)"
   ]
  },
  {
   "cell_type": "code",
   "execution_count": 7,
   "id": "fifth-motion",
   "metadata": {
    "execution": {
     "iopub.execute_input": "2021-10-29T10:30:11.733388Z",
     "iopub.status.busy": "2021-10-29T10:30:11.731002Z",
     "iopub.status.idle": "2021-10-29T10:30:13.235464Z",
     "shell.execute_reply": "2021-10-29T10:30:13.236839Z"
    },
    "papermill": {
     "duration": 1.537337,
     "end_time": "2021-10-29T10:30:13.237304",
     "exception": false,
     "start_time": "2021-10-29T10:30:11.699967",
     "status": "completed"
    },
    "tags": []
   },
   "outputs": [
    {
     "data": {
      "text/plain": [
       "<AxesSubplot:ylabel='PRODUCT'>"
      ]
     },
     "execution_count": 7,
     "metadata": {},
     "output_type": "execute_result"
    },
    {
     "data": {
      "image/png": "[encoded data removed]",
      "text/plain": [
       "<Figure size 432x288 with 1 Axes>"
      ]
     },
     "metadata": {
      "needs_background": "light"
     },
     "output_type": "display_data"
    }
   ],
   "source": [
    "df_pivot_diff.sort_values(\"stamp_2\", ascending = False)[\"stamp_2\"].head(10).plot.barh()"
   ]
  },
  {
   "cell_type": "code",
   "execution_count": null,
   "id": "extra-executive",
   "metadata": {
    "papermill": {
     "duration": 0.022994,
     "end_time": "2021-10-29T10:30:13.284394",
     "exception": false,
     "start_time": "2021-10-29T10:30:13.261400",
     "status": "completed"
    },
    "tags": []
   },
   "outputs": [],
   "source": []
  }
 ],
 "metadata": {
  "kernelspec": {
   "display_name": "Python 3",
   "language": "python",
   "name": "python3"
  },
  "language_info": {
   "codemirror_mode": {
    "name": "ipython",
    "version": 3
   },
   "file_extension": ".py",
   "mimetype": "text/x-python",
   "name": "python",
   "nbconvert_exporter": "python",
   "pygments_lexer": "ipython3",
   "version": "3.9.5"
  },
  "papermill": {
   "default_parameters": {},
   "duration": 7.48219,
   "end_time": "2021-10-29T10:30:13.928313",
   "environment_variables": {},
   "exception": null,
   "input_path": "eBay_Overview.ipynb",
   "output_path": "eBay_Overview.ipynb",
   "parameters": {},
   "start_time": "2021-10-29T10:30:06.446123",
   "version": "2.3.3"
  }
 },
 "nbformat": 4,
 "nbformat_minor": 5
}