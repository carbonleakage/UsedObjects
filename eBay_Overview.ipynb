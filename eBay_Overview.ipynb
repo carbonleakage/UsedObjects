{
 "cells": [
  {
   "cell_type": "code",
   "execution_count": 1,
   "id": "reverse-picking",
   "metadata": {
    "execution": {
     "iopub.execute_input": "2021-09-04T19:00:07.245074Z",
     "iopub.status.busy": "2021-09-04T19:00:07.243120Z",
     "iopub.status.idle": "2021-09-04T19:00:08.046667Z",
     "shell.execute_reply": "2021-09-04T19:00:08.048088Z"
    },
    "papermill": {
     "duration": 0.855531,
     "end_time": "2021-09-04T19:00:08.048743",
     "exception": false,
     "start_time": "2021-09-04T19:00:07.193212",
     "status": "completed"
    },
    "tags": []
   },
   "outputs": [],
   "source": [
    "import pandas as pd\n",
    "import sqlite3"
   ]
  },
  {
   "cell_type": "code",
   "execution_count": 2,
   "id": "innovative-syndrome",
   "metadata": {
    "execution": {
     "iopub.execute_input": "2021-09-04T19:00:08.099458Z",
     "iopub.status.busy": "2021-09-04T19:00:08.097427Z",
     "iopub.status.idle": "2021-09-04T19:00:08.299954Z",
     "shell.execute_reply": "2021-09-04T19:00:08.301223Z"
    },
    "papermill": {
     "duration": 0.232615,
     "end_time": "2021-09-04T19:00:08.301627",
     "exception": false,
     "start_time": "2021-09-04T19:00:08.069012",
     "status": "completed"
    },
    "tags": []
   },
   "outputs": [],
   "source": [
    "timestamps = pd.read_sql(\"select distinct record_time from EBAY_TOP_BERLIN order by record_time desc limit 2\", sqlite3.connect(\"UsedObjects.db\"))"
   ]
  },
  {
   "cell_type": "code",
   "execution_count": 3,
   "id": "periodic-identification",
   "metadata": {
    "execution": {
     "iopub.execute_input": "2021-09-04T19:00:08.365130Z",
     "iopub.status.busy": "2021-09-04T19:00:08.362920Z",
     "iopub.status.idle": "2021-09-04T19:00:08.384886Z",
     "shell.execute_reply": "2021-09-04T19:00:08.386106Z"
    },
    "papermill": {
     "duration": 0.065776,
     "end_time": "2021-09-04T19:00:08.386500",
     "exception": false,
     "start_time": "2021-09-04T19:00:08.320724",
     "status": "completed"
    },
    "tags": []
   },
   "outputs": [
    {
     "data": {
      "text/html": [
       "<div>\n",
       "<style scoped>\n",
       "    .dataframe tbody tr th:only-of-type {\n",
       "        vertical-align: middle;\n",
       "    }\n",
       "\n",
       "    .dataframe tbody tr th {\n",
       "        vertical-align: top;\n",
       "    }\n",
       "\n",
       "    .dataframe thead th {\n",
       "        text-align: right;\n",
       "    }\n",
       "</style>\n",
       "<table border=\"1\" class=\"dataframe\">\n",
       "  <thead>\n",
       "    <tr style=\"text-align: right;\">\n",
       "      <th></th>\n",
       "      <th>RECORD_TIME</th>\n",
       "    </tr>\n",
       "  </thead>\n",
       "  <tbody>\n",
       "    <tr>\n",
       "      <th>0</th>\n",
       "      <td>2021-09-04 21:00</td>\n",
       "    </tr>\n",
       "    <tr>\n",
       "      <th>1</th>\n",
       "      <td>2021-09-04 20:30</td>\n",
       "    </tr>\n",
       "  </tbody>\n",
       "</table>\n",
       "</div>"
      ],
      "text/plain": [
       "        RECORD_TIME\n",
       "0  2021-09-04 21:00\n",
       "1  2021-09-04 20:30"
      ]
     },
     "execution_count": 3,
     "metadata": {},
     "output_type": "execute_result"
    }
   ],
   "source": [
    "timestamps"
   ]
  },
  {
   "cell_type": "code",
   "execution_count": 4,
   "id": "alternate-victory",
   "metadata": {
    "execution": {
     "iopub.execute_input": "2021-09-04T19:00:08.439991Z",
     "iopub.status.busy": "2021-09-04T19:00:08.437634Z",
     "iopub.status.idle": "2021-09-04T19:00:08.745469Z",
     "shell.execute_reply": "2021-09-04T19:00:08.746684Z"
    },
    "papermill": {
     "duration": 0.338238,
     "end_time": "2021-09-04T19:00:08.747272",
     "exception": false,
     "start_time": "2021-09-04T19:00:08.409034",
     "status": "completed"
    },
    "tags": []
   },
   "outputs": [],
   "source": [
    "df = pd.read_sql(\"select * from EBAY_TOP_BERLIN where record_time in (select distinct record_time from EBAY_TOP_BERLIN order by record_time desc limit 2)\", sqlite3.connect(\"UsedObjects.db\"))"
   ]
  },
  {
   "cell_type": "code",
   "execution_count": 5,
   "id": "popular-active",
   "metadata": {
    "execution": {
     "iopub.execute_input": "2021-09-04T19:00:08.830351Z",
     "iopub.status.busy": "2021-09-04T19:00:08.823033Z",
     "iopub.status.idle": "2021-09-04T19:00:08.845438Z",
     "shell.execute_reply": "2021-09-04T19:00:08.846652Z"
    },
    "papermill": {
     "duration": 0.07188,
     "end_time": "2021-09-04T19:00:08.847247",
     "exception": false,
     "start_time": "2021-09-04T19:00:08.775367",
     "status": "completed"
    },
    "tags": []
   },
   "outputs": [],
   "source": [
    "df_pivot = df.pivot_table(index=\"PRODUCT\", columns = \"RECORD_TIME\", values = \"LISTING_COUNT\")"
   ]
  },
  {
   "cell_type": "code",
   "execution_count": 6,
   "id": "union-huntington",
   "metadata": {
    "execution": {
     "iopub.execute_input": "2021-09-04T19:00:08.906308Z",
     "iopub.status.busy": "2021-09-04T19:00:08.903859Z",
     "iopub.status.idle": "2021-09-04T19:00:08.909513Z",
     "shell.execute_reply": "2021-09-04T19:00:08.910706Z"
    },
    "papermill": {
     "duration": 0.041904,
     "end_time": "2021-09-04T19:00:08.911203",
     "exception": false,
     "start_time": "2021-09-04T19:00:08.869299",
     "status": "completed"
    },
    "tags": []
   },
   "outputs": [],
   "source": [
    "df_pivot.columns = [\"stamp_1\", \"stamp_2\"]\n",
    "df_pivot_diff = df_pivot.diff(axis=1)"
   ]
  },
  {
   "cell_type": "code",
   "execution_count": 7,
   "id": "fifth-motion",
   "metadata": {
    "execution": {
     "iopub.execute_input": "2021-09-04T19:00:08.965797Z",
     "iopub.status.busy": "2021-09-04T19:00:08.963481Z",
     "iopub.status.idle": "2021-09-04T19:00:10.464621Z",
     "shell.execute_reply": "2021-09-04T19:00:10.465999Z"
    },
    "papermill": {
     "duration": 1.534596,
     "end_time": "2021-09-04T19:00:10.466440",
     "exception": false,
     "start_time": "2021-09-04T19:00:08.931844",
     "status": "completed"
    },
    "tags": []
   },
   "outputs": [
    {
     "data": {
      "text/plain": [
       "<AxesSubplot:ylabel='PRODUCT'>"
      ]
     },
     "execution_count": 7,
     "metadata": {},
     "output_type": "execute_result"
    },
    {
     "data": {
      "image/png": "[encoded data removed]",
      "text/plain": [
       "<Figure size 432x288 with 1 Axes>"
      ]
     },
     "metadata": {
      "needs_background": "light"
     },
     "output_type": "display_data"
    }
   ],
   "source": [
    "df_pivot_diff.sort_values(\"stamp_2\", ascending = False)[\"stamp_2\"].head(10).plot.barh()"
   ]
  },
  {
   "cell_type": "code",
   "execution_count": null,
   "id": "extra-executive",
   "metadata": {
    "papermill": {
     "duration": 0.022106,
     "end_time": "2021-09-04T19:00:10.513228",
     "exception": false,
     "start_time": "2021-09-04T19:00:10.491122",
     "status": "completed"
    },
    "tags": []
   },
   "outputs": [],
   "source": []
  }
 ],
 "metadata": {
  "kernelspec": {
   "display_name": "Python 3",
   "language": "python",
   "name": "python3"
  },
  "language_info": {
   "codemirror_mode": {
    "name": "ipython",
    "version": 3
   },
   "file_extension": ".py",
   "mimetype": "text/x-python",
   "name": "python",
   "nbconvert_exporter": "python",
   "pygments_lexer": "ipython3",
   "version": "3.9.5"
  },
  "papermill": {
   "default_parameters": {},
   "duration": 6.370476,
   "end_time": "2021-09-04T19:00:11.154715",
   "environment_variables": {},
   "exception": null,
   "input_path": "eBay_Overview.ipynb",
   "output_path": "eBay_Overview.ipynb",
   "parameters": {},
   "start_time": "2021-09-04T19:00:04.784239",
   "version": "2.3.3"
  }
 },
 "nbformat": 4,
 "nbformat_minor": 5
}