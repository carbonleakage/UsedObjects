{
 "cells": [
  {
   "cell_type": "code",
   "execution_count": 1,
   "id": "reverse-picking",
   "metadata": {
    "execution": {
     "iopub.execute_input": "2021-10-28T22:30:07.036521Z",
     "iopub.status.busy": "2021-10-28T22:30:07.034605Z",
     "iopub.status.idle": "2021-10-28T22:30:07.838107Z",
     "shell.execute_reply": "2021-10-28T22:30:07.839354Z"
    },
    "papermill": {
     "duration": 0.853797,
     "end_time": "2021-10-28T22:30:07.839967",
     "exception": false,
     "start_time": "2021-10-28T22:30:06.986170",
     "status": "completed"
    },
    "tags": []
   },
   "outputs": [],
   "source": [
    "import pandas as pd\n",
    "import sqlite3"
   ]
  },
  {
   "cell_type": "code",
   "execution_count": 2,
   "id": "innovative-syndrome",
   "metadata": {
    "execution": {
     "iopub.execute_input": "2021-10-28T22:30:07.889928Z",
     "iopub.status.busy": "2021-10-28T22:30:07.887974Z",
     "iopub.status.idle": "2021-10-28T22:30:08.538740Z",
     "shell.execute_reply": "2021-10-28T22:30:08.540026Z"
    },
    "papermill": {
     "duration": 0.679902,
     "end_time": "2021-10-28T22:30:08.540446",
     "exception": false,
     "start_time": "2021-10-28T22:30:07.860544",
     "status": "completed"
    },
    "tags": []
   },
   "outputs": [],
   "source": [
    "timestamps = pd.read_sql(\"select distinct record_time from EBAY_TOP_BERLIN order by record_time desc limit 2\", sqlite3.connect(\"UsedObjects.db\"))"
   ]
  },
  {
   "cell_type": "code",
   "execution_count": 3,
   "id": "periodic-identification",
   "metadata": {
    "execution": {
     "iopub.execute_input": "2021-10-28T22:30:08.624151Z",
     "iopub.status.busy": "2021-10-28T22:30:08.622049Z",
     "iopub.status.idle": "2021-10-28T22:30:08.642432Z",
     "shell.execute_reply": "2021-10-28T22:30:08.643999Z"
    },
    "papermill": {
     "duration": 0.073741,
     "end_time": "2021-10-28T22:30:08.644503",
     "exception": false,
     "start_time": "2021-10-28T22:30:08.570762",
     "status": "completed"
    },
    "tags": []
   },
   "outputs": [
    {
     "data": {
      "text/html": [
       "<div>\n",
       "<style scoped>\n",
       "    .dataframe tbody tr th:only-of-type {\n",
       "        vertical-align: middle;\n",
       "    }\n",
       "\n",
       "    .dataframe tbody tr th {\n",
       "        vertical-align: top;\n",
       "    }\n",
       "\n",
       "    .dataframe thead th {\n",
       "        text-align: right;\n",
       "    }\n",
       "</style>\n",
       "<table border=\"1\" class=\"dataframe\">\n",
       "  <thead>\n",
       "    <tr style=\"text-align: right;\">\n",
       "      <th></th>\n",
       "      <th>RECORD_TIME</th>\n",
       "    </tr>\n",
       "  </thead>\n",
       "  <tbody>\n",
       "    <tr>\n",
       "      <th>0</th>\n",
       "      <td>2021-10-29 00:30</td>\n",
       "    </tr>\n",
       "    <tr>\n",
       "      <th>1</th>\n",
       "      <td>2021-10-29 00:00</td>\n",
       "    </tr>\n",
       "  </tbody>\n",
       "</table>\n",
       "</div>"
      ],
      "text/plain": [
       "        RECORD_TIME\n",
       "0  2021-10-29 00:30\n",
       "1  2021-10-29 00:00"
      ]
     },
     "execution_count": 3,
     "metadata": {},
     "output_type": "execute_result"
    }
   ],
   "source": [
    "timestamps"
   ]
  },
  {
   "cell_type": "code",
   "execution_count": 4,
   "id": "alternate-victory",
   "metadata": {
    "execution": {
     "iopub.execute_input": "2021-10-28T22:30:08.696250Z",
     "iopub.status.busy": "2021-10-28T22:30:08.694359Z",
     "iopub.status.idle": "2021-10-28T22:30:09.653884Z",
     "shell.execute_reply": "2021-10-28T22:30:09.655085Z"
    },
    "papermill": {
     "duration": 0.989453,
     "end_time": "2021-10-28T22:30:09.655482",
     "exception": false,
     "start_time": "2021-10-28T22:30:08.666029",
     "status": "completed"
    },
    "tags": []
   },
   "outputs": [],
   "source": [
    "df = pd.read_sql(\"select * from EBAY_TOP_BERLIN where record_time in (select distinct record_time from EBAY_TOP_BERLIN order by record_time desc limit 2)\", sqlite3.connect(\"UsedObjects.db\"))"
   ]
  },
  {
   "cell_type": "code",
   "execution_count": 5,
   "id": "popular-active",
   "metadata": {
    "execution": {
     "iopub.execute_input": "2021-10-28T22:30:09.724330Z",
     "iopub.status.busy": "2021-10-28T22:30:09.717343Z",
     "iopub.status.idle": "2021-10-28T22:30:09.741445Z",
     "shell.execute_reply": "2021-10-28T22:30:09.742737Z"
    },
    "papermill": {
     "duration": 0.067458,
     "end_time": "2021-10-28T22:30:09.743196",
     "exception": false,
     "start_time": "2021-10-28T22:30:09.675738",
     "status": "completed"
    },
    "tags": []
   },
   "outputs": [],
   "source": [
    "df_pivot = df.pivot_table(index=\"PRODUCT\", columns = \"RECORD_TIME\", values = \"LISTING_COUNT\")"
   ]
  },
  {
   "cell_type": "code",
   "execution_count": 6,
   "id": "union-huntington",
   "metadata": {
    "execution": {
     "iopub.execute_input": "2021-10-28T22:30:09.800216Z",
     "iopub.status.busy": "2021-10-28T22:30:09.797788Z",
     "iopub.status.idle": "2021-10-28T22:30:09.803527Z",
     "shell.execute_reply": "2021-10-28T22:30:09.804776Z"
    },
    "papermill": {
     "duration": 0.041836,
     "end_time": "2021-10-28T22:30:09.805214",
     "exception": false,
     "start_time": "2021-10-28T22:30:09.763378",
     "status": "completed"
    },
    "tags": []
   },
   "outputs": [],
   "source": [
    "df_pivot.columns = [\"stamp_1\", \"stamp_2\"]\n",
    "df_pivot_diff = df_pivot.diff(axis=1)"
   ]
  },
  {
   "cell_type": "code",
   "execution_count": 7,
   "id": "fifth-motion",
   "metadata": {
    "execution": {
     "iopub.execute_input": "2021-10-28T22:30:09.860142Z",
     "iopub.status.busy": "2021-10-28T22:30:09.857880Z",
     "iopub.status.idle": "2021-10-28T22:30:11.349335Z",
     "shell.execute_reply": "2021-10-28T22:30:11.350704Z"
    },
    "papermill": {
     "duration": 1.524484,
     "end_time": "2021-10-28T22:30:11.351127",
     "exception": false,
     "start_time": "2021-10-28T22:30:09.826643",
     "status": "completed"
    },
    "tags": []
   },
   "outputs": [
    {
     "data": {
      "text/plain": [
       "<AxesSubplot:ylabel='PRODUCT'>"
      ]
     },
     "execution_count": 7,
     "metadata": {},
     "output_type": "execute_result"
    },
    {
     "data": {
      "image/png": "[encoded data removed]",
      "text/plain": [
       "<Figure size 432x288 with 1 Axes>"
      ]
     },
     "metadata": {
      "needs_background": "light"
     },
     "output_type": "display_data"
    }
   ],
   "source": [
    "df_pivot_diff.sort_values(\"stamp_2\", ascending = False)[\"stamp_2\"].head(10).plot.barh()"
   ]
  },
  {
   "cell_type": "code",
   "execution_count": null,
   "id": "extra-executive",
   "metadata": {
    "papermill": {
     "duration": 0.021978,
     "end_time": "2021-10-28T22:30:11.396887",
     "exception": false,
     "start_time": "2021-10-28T22:30:11.374909",
     "status": "completed"
    },
    "tags": []
   },
   "outputs": [],
   "source": []
  }
 ],
 "metadata": {
  "kernelspec": {
   "display_name": "Python 3",
   "language": "python",
   "name": "python3"
  },
  "language_info": {
   "codemirror_mode": {
    "name": "ipython",
    "version": 3
   },
   "file_extension": ".py",
   "mimetype": "text/x-python",
   "name": "python",
   "nbconvert_exporter": "python",
   "pygments_lexer": "ipython3",
   "version": "3.9.5"
  },
  "papermill": {
   "default_parameters": {},
   "duration": 7.457754,
   "end_time": "2021-10-28T22:30:12.040658",
   "environment_variables": {},
   "exception": null,
   "input_path": "eBay_Overview.ipynb",
   "output_path": "eBay_Overview.ipynb",
   "parameters": {},
   "start_time": "2021-10-28T22:30:04.582904",
   "version": "2.3.3"
  }
 },
 "nbformat": 4,
 "nbformat_minor": 5
}