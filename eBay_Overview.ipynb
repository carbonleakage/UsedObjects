{
 "cells": [
  {
   "cell_type": "code",
   "execution_count": 1,
   "id": "reverse-picking",
   "metadata": {
    "execution": {
     "iopub.execute_input": "2021-09-04T00:00:06.635388Z",
     "iopub.status.busy": "2021-09-04T00:00:06.633385Z",
     "iopub.status.idle": "2021-09-04T00:00:07.437261Z",
     "shell.execute_reply": "2021-09-04T00:00:07.438666Z"
    },
    "papermill": {
     "duration": 0.855986,
     "end_time": "2021-09-04T00:00:07.439417",
     "exception": false,
     "start_time": "2021-09-04T00:00:06.583431",
     "status": "completed"
    },
    "tags": []
   },
   "outputs": [],
   "source": [
    "import pandas as pd\n",
    "import sqlite3"
   ]
  },
  {
   "cell_type": "code",
   "execution_count": 2,
   "id": "innovative-syndrome",
   "metadata": {
    "execution": {
     "iopub.execute_input": "2021-09-04T00:00:07.491074Z",
     "iopub.status.busy": "2021-09-04T00:00:07.488987Z",
     "iopub.status.idle": "2021-09-04T00:00:07.696916Z",
     "shell.execute_reply": "2021-09-04T00:00:07.698114Z"
    },
    "papermill": {
     "duration": 0.238112,
     "end_time": "2021-09-04T00:00:07.698505",
     "exception": false,
     "start_time": "2021-09-04T00:00:07.460393",
     "status": "completed"
    },
    "tags": []
   },
   "outputs": [],
   "source": [
    "timestamps = pd.read_sql(\"select distinct record_time from EBAY_TOP_BERLIN order by record_time desc limit 2\", sqlite3.connect(\"UsedObjects.db\"))"
   ]
  },
  {
   "cell_type": "code",
   "execution_count": 3,
   "id": "periodic-identification",
   "metadata": {
    "execution": {
     "iopub.execute_input": "2021-09-04T00:00:07.768739Z",
     "iopub.status.busy": "2021-09-04T00:00:07.763997Z",
     "iopub.status.idle": "2021-09-04T00:00:07.787326Z",
     "shell.execute_reply": "2021-09-04T00:00:07.785958Z"
    },
    "papermill": {
     "duration": 0.06748,
     "end_time": "2021-09-04T00:00:07.787701",
     "exception": false,
     "start_time": "2021-09-04T00:00:07.720221",
     "status": "completed"
    },
    "tags": []
   },
   "outputs": [
    {
     "data": {
      "text/html": [
       "<div>\n",
       "<style scoped>\n",
       "    .dataframe tbody tr th:only-of-type {\n",
       "        vertical-align: middle;\n",
       "    }\n",
       "\n",
       "    .dataframe tbody tr th {\n",
       "        vertical-align: top;\n",
       "    }\n",
       "\n",
       "    .dataframe thead th {\n",
       "        text-align: right;\n",
       "    }\n",
       "</style>\n",
       "<table border=\"1\" class=\"dataframe\">\n",
       "  <thead>\n",
       "    <tr style=\"text-align: right;\">\n",
       "      <th></th>\n",
       "      <th>RECORD_TIME</th>\n",
       "    </tr>\n",
       "  </thead>\n",
       "  <tbody>\n",
       "    <tr>\n",
       "      <th>0</th>\n",
       "      <td>2021-09-04 02:00</td>\n",
       "    </tr>\n",
       "    <tr>\n",
       "      <th>1</th>\n",
       "      <td>2021-09-04 01:30</td>\n",
       "    </tr>\n",
       "  </tbody>\n",
       "</table>\n",
       "</div>"
      ],
      "text/plain": [
       "        RECORD_TIME\n",
       "0  2021-09-04 02:00\n",
       "1  2021-09-04 01:30"
      ]
     },
     "execution_count": 3,
     "metadata": {},
     "output_type": "execute_result"
    }
   ],
   "source": [
    "timestamps"
   ]
  },
  {
   "cell_type": "code",
   "execution_count": 4,
   "id": "alternate-victory",
   "metadata": {
    "execution": {
     "iopub.execute_input": "2021-09-04T00:00:07.838197Z",
     "iopub.status.busy": "2021-09-04T00:00:07.836366Z",
     "iopub.status.idle": "2021-09-04T00:00:08.132391Z",
     "shell.execute_reply": "2021-09-04T00:00:08.133602Z"
    },
    "papermill": {
     "duration": 0.325905,
     "end_time": "2021-09-04T00:00:08.133999",
     "exception": false,
     "start_time": "2021-09-04T00:00:07.808094",
     "status": "completed"
    },
    "tags": []
   },
   "outputs": [],
   "source": [
    "df = pd.read_sql(\"select * from EBAY_TOP_BERLIN where record_time in (select distinct record_time from EBAY_TOP_BERLIN order by record_time desc limit 2)\", sqlite3.connect(\"UsedObjects.db\"))"
   ]
  },
  {
   "cell_type": "code",
   "execution_count": 5,
   "id": "popular-active",
   "metadata": {
    "execution": {
     "iopub.execute_input": "2021-09-04T00:00:08.217457Z",
     "iopub.status.busy": "2021-09-04T00:00:08.205310Z",
     "iopub.status.idle": "2021-09-04T00:00:08.233897Z",
     "shell.execute_reply": "2021-09-04T00:00:08.235154Z"
    },
    "papermill": {
     "duration": 0.072084,
     "end_time": "2021-09-04T00:00:08.235596",
     "exception": false,
     "start_time": "2021-09-04T00:00:08.163512",
     "status": "completed"
    },
    "tags": []
   },
   "outputs": [],
   "source": [
    "df_pivot = df.pivot_table(index=\"PRODUCT\", columns = \"RECORD_TIME\", values = \"LISTING_COUNT\")"
   ]
  },
  {
   "cell_type": "code",
   "execution_count": 6,
   "id": "union-huntington",
   "metadata": {
    "execution": {
     "iopub.execute_input": "2021-09-04T00:00:08.291464Z",
     "iopub.status.busy": "2021-09-04T00:00:08.289363Z",
     "iopub.status.idle": "2021-09-04T00:00:08.296249Z",
     "shell.execute_reply": "2021-09-04T00:00:08.294756Z"
    },
    "papermill": {
     "duration": 0.040933,
     "end_time": "2021-09-04T00:00:08.296609",
     "exception": false,
     "start_time": "2021-09-04T00:00:08.255676",
     "status": "completed"
    },
    "tags": []
   },
   "outputs": [],
   "source": [
    "df_pivot.columns = [\"stamp_1\", \"stamp_2\"]\n",
    "df_pivot_diff = df_pivot.diff(axis=1)"
   ]
  },
  {
   "cell_type": "code",
   "execution_count": 7,
   "id": "fifth-motion",
   "metadata": {
    "execution": {
     "iopub.execute_input": "2021-09-04T00:00:08.351817Z",
     "iopub.status.busy": "2021-09-04T00:00:08.349222Z",
     "iopub.status.idle": "2021-09-04T00:00:09.829211Z",
     "shell.execute_reply": "2021-09-04T00:00:09.830489Z"
    },
    "papermill": {
     "duration": 1.51322,
     "end_time": "2021-09-04T00:00:09.831101",
     "exception": false,
     "start_time": "2021-09-04T00:00:08.317881",
     "status": "completed"
    },
    "tags": []
   },
   "outputs": [
    {
     "data": {
      "text/plain": [
       "<AxesSubplot:ylabel='PRODUCT'>"
      ]
     },
     "execution_count": 7,
     "metadata": {},
     "output_type": "execute_result"
    },
    {
     "data": {
      "image/png": "[encoded data removed]",
      "text/plain": [
       "<Figure size 432x288 with 1 Axes>"
      ]
     },
     "metadata": {
      "needs_background": "light"
     },
     "output_type": "display_data"
    }
   ],
   "source": [
    "df_pivot_diff.sort_values(\"stamp_2\", ascending = False)[\"stamp_2\"].head(10).plot.barh()"
   ]
  },
  {
   "cell_type": "code",
   "execution_count": null,
   "id": "extra-executive",
   "metadata": {
    "papermill": {
     "duration": 0.022138,
     "end_time": "2021-09-04T00:00:09.877808",
     "exception": false,
     "start_time": "2021-09-04T00:00:09.855670",
     "status": "completed"
    },
    "tags": []
   },
   "outputs": [],
   "source": []
  }
 ],
 "metadata": {
  "kernelspec": {
   "display_name": "Python 3",
   "language": "python",
   "name": "python3"
  },
  "language_info": {
   "codemirror_mode": {
    "name": "ipython",
    "version": 3
   },
   "file_extension": ".py",
   "mimetype": "text/x-python",
   "name": "python",
   "nbconvert_exporter": "python",
   "pygments_lexer": "ipython3",
   "version": "3.9.5"
  },
  "papermill": {
   "default_parameters": {},
   "duration": 6.343747,
   "end_time": "2021-09-04T00:00:10.518570",
   "environment_variables": {},
   "exception": null,
   "input_path": "eBay_Overview.ipynb",
   "output_path": "eBay_Overview.ipynb",
   "parameters": {},
   "start_time": "2021-09-04T00:00:04.174823",
   "version": "2.3.3"
  }
 },
 "nbformat": 4,
 "nbformat_minor": 5
}