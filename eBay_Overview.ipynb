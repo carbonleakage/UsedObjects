{
 "cells": [
  {
   "cell_type": "code",
   "execution_count": 1,
   "id": "reverse-picking",
   "metadata": {
    "execution": {
     "iopub.execute_input": "2021-08-11T10:30:04.290688Z",
     "iopub.status.busy": "2021-08-11T10:30:04.289916Z",
     "iopub.status.idle": "2021-08-11T10:30:05.117882Z",
     "shell.execute_reply": "2021-08-11T10:30:05.116894Z"
    },
    "papermill": {
     "duration": 0.845573,
     "end_time": "2021-08-11T10:30:05.118153",
     "exception": false,
     "start_time": "2021-08-11T10:30:04.272580",
     "status": "completed"
    },
    "tags": []
   },
   "outputs": [],
   "source": [
    "import pandas as pd\n",
    "import sqlite3"
   ]
  },
  {
   "cell_type": "code",
   "execution_count": 2,
   "id": "innovative-syndrome",
   "metadata": {
    "execution": {
     "iopub.execute_input": "2021-08-11T10:30:05.139697Z",
     "iopub.status.busy": "2021-08-11T10:30:05.138911Z",
     "iopub.status.idle": "2021-08-11T10:30:05.349444Z",
     "shell.execute_reply": "2021-08-11T10:30:05.348102Z"
    },
    "papermill": {
     "duration": 0.222798,
     "end_time": "2021-08-11T10:30:05.349667",
     "exception": false,
     "start_time": "2021-08-11T10:30:05.126869",
     "status": "completed"
    },
    "tags": []
   },
   "outputs": [],
   "source": [
    "timestamps = pd.read_sql(\"select distinct record_time from EBAY_TOP_BERLIN order by record_time desc limit 2\", sqlite3.connect(\"UsedObjects.db\"))"
   ]
  },
  {
   "cell_type": "code",
   "execution_count": 3,
   "id": "periodic-identification",
   "metadata": {
    "execution": {
     "iopub.execute_input": "2021-08-11T10:30:05.384540Z",
     "iopub.status.busy": "2021-08-11T10:30:05.383734Z",
     "iopub.status.idle": "2021-08-11T10:30:05.395103Z",
     "shell.execute_reply": "2021-08-11T10:30:05.395641Z"
    },
    "papermill": {
     "duration": 0.036422,
     "end_time": "2021-08-11T10:30:05.395822",
     "exception": false,
     "start_time": "2021-08-11T10:30:05.359400",
     "status": "completed"
    },
    "tags": []
   },
   "outputs": [
    {
     "data": {
      "text/html": [
       "<div>\n",
       "<style scoped>\n",
       "    .dataframe tbody tr th:only-of-type {\n",
       "        vertical-align: middle;\n",
       "    }\n",
       "\n",
       "    .dataframe tbody tr th {\n",
       "        vertical-align: top;\n",
       "    }\n",
       "\n",
       "    .dataframe thead th {\n",
       "        text-align: right;\n",
       "    }\n",
       "</style>\n",
       "<table border=\"1\" class=\"dataframe\">\n",
       "  <thead>\n",
       "    <tr style=\"text-align: right;\">\n",
       "      <th></th>\n",
       "      <th>RECORD_TIME</th>\n",
       "    </tr>\n",
       "  </thead>\n",
       "  <tbody>\n",
       "    <tr>\n",
       "      <th>0</th>\n",
       "      <td>2021-08-11 12:30</td>\n",
       "    </tr>\n",
       "    <tr>\n",
       "      <th>1</th>\n",
       "      <td>2021-08-11 12:00</td>\n",
       "    </tr>\n",
       "  </tbody>\n",
       "</table>\n",
       "</div>"
      ],
      "text/plain": [
       "        RECORD_TIME\n",
       "0  2021-08-11 12:30\n",
       "1  2021-08-11 12:00"
      ]
     },
     "execution_count": 3,
     "metadata": {},
     "output_type": "execute_result"
    }
   ],
   "source": [
    "timestamps"
   ]
  },
  {
   "cell_type": "code",
   "execution_count": 4,
   "id": "alternate-victory",
   "metadata": {
    "execution": {
     "iopub.execute_input": "2021-08-11T10:30:05.419195Z",
     "iopub.status.busy": "2021-08-11T10:30:05.418412Z",
     "iopub.status.idle": "2021-08-11T10:30:05.439442Z",
     "shell.execute_reply": "2021-08-11T10:30:05.440810Z"
    },
    "papermill": {
     "duration": 0.03719,
     "end_time": "2021-08-11T10:30:05.441156",
     "exception": false,
     "start_time": "2021-08-11T10:30:05.403966",
     "status": "completed"
    },
    "tags": []
   },
   "outputs": [],
   "source": [
    "df = pd.read_sql(\"select * from EBAY_TOP_BERLIN where record_time in (select distinct record_time from EBAY_TOP_BERLIN order by record_time desc limit 2)\", sqlite3.connect(\"UsedObjects.db\"))"
   ]
  },
  {
   "cell_type": "code",
   "execution_count": 5,
   "id": "popular-active",
   "metadata": {
    "execution": {
     "iopub.execute_input": "2021-08-11T10:30:05.469664Z",
     "iopub.status.busy": "2021-08-11T10:30:05.468871Z",
     "iopub.status.idle": "2021-08-11T10:30:05.486727Z",
     "shell.execute_reply": "2021-08-11T10:30:05.486011Z"
    },
    "papermill": {
     "duration": 0.035913,
     "end_time": "2021-08-11T10:30:05.486904",
     "exception": false,
     "start_time": "2021-08-11T10:30:05.450991",
     "status": "completed"
    },
    "tags": []
   },
   "outputs": [],
   "source": [
    "df_pivot = df.pivot_table(index=\"PRODUCT\", columns = \"RECORD_TIME\", values = \"LISTING_COUNT\")"
   ]
  },
  {
   "cell_type": "code",
   "execution_count": 6,
   "id": "union-huntington",
   "metadata": {
    "execution": {
     "iopub.execute_input": "2021-08-11T10:30:05.514581Z",
     "iopub.status.busy": "2021-08-11T10:30:05.513866Z",
     "iopub.status.idle": "2021-08-11T10:30:05.520247Z",
     "shell.execute_reply": "2021-08-11T10:30:05.520821Z"
    },
    "papermill": {
     "duration": 0.025761,
     "end_time": "2021-08-11T10:30:05.521015",
     "exception": false,
     "start_time": "2021-08-11T10:30:05.495254",
     "status": "completed"
    },
    "tags": []
   },
   "outputs": [],
   "source": [
    "df_pivot.columns = [\"stamp_1\", \"stamp_2\"]\n",
    "df_pivot_diff = df_pivot.diff(axis=1)"
   ]
  },
  {
   "cell_type": "code",
   "execution_count": 7,
   "id": "fifth-motion",
   "metadata": {
    "execution": {
     "iopub.execute_input": "2021-08-11T10:30:05.550674Z",
     "iopub.status.busy": "2021-08-11T10:30:05.549911Z",
     "iopub.status.idle": "2021-08-11T10:30:06.200196Z",
     "shell.execute_reply": "2021-08-11T10:30:06.200729Z"
    },
    "papermill": {
     "duration": 0.669504,
     "end_time": "2021-08-11T10:30:06.200938",
     "exception": false,
     "start_time": "2021-08-11T10:30:05.531434",
     "status": "completed"
    },
    "tags": []
   },
   "outputs": [
    {
     "data": {
      "text/plain": [
       "<AxesSubplot:ylabel='PRODUCT'>"
      ]
     },
     "execution_count": 7,
     "metadata": {},
     "output_type": "execute_result"
    },
    {
     "data": {
      "image/png": "[encoded data removed]",
      "text/plain": [
       "<Figure size 432x288 with 1 Axes>"
      ]
     },
     "metadata": {
      "needs_background": "light"
     },
     "output_type": "display_data"
    }
   ],
   "source": [
    "df_pivot_diff.sort_values(\"stamp_2\", ascending = False)[\"stamp_2\"].head(10).plot.barh()"
   ]
  },
  {
   "cell_type": "code",
   "execution_count": null,
   "id": "extra-executive",
   "metadata": {
    "papermill": {
     "duration": 0.009173,
     "end_time": "2021-08-11T10:30:06.219962",
     "exception": false,
     "start_time": "2021-08-11T10:30:06.210789",
     "status": "completed"
    },
    "tags": []
   },
   "outputs": [],
   "source": []
  }
 ],
 "metadata": {
  "kernelspec": {
   "display_name": "Python 3",
   "language": "python",
   "name": "python3"
  },
  "language_info": {
   "codemirror_mode": {
    "name": "ipython",
    "version": 3
   },
   "file_extension": ".py",
   "mimetype": "text/x-python",
   "name": "python",
   "nbconvert_exporter": "python",
   "pygments_lexer": "ipython3",
   "version": "3.8.8"
  },
  "papermill": {
   "default_parameters": {},
   "duration": 4.290703,
   "end_time": "2021-08-11T10:30:06.864337",
   "environment_variables": {},
   "exception": null,
   "input_path": "/Users/saravananshanmugam/Carbonleakage_Git/UsedObjects/eBay_Overview.ipynb",
   "output_path": "/Users/saravananshanmugam/Carbonleakage_Git/UsedObjects/eBay_Overview.ipynb",
   "parameters": {},
   "start_time": "2021-08-11T10:30:02.573634",
   "version": "2.3.3"
  }
 },
 "nbformat": 4,
 "nbformat_minor": 5
}