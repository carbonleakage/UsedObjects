{
 "cells": [
  {
   "cell_type": "code",
   "execution_count": 1,
   "id": "reverse-picking",
   "metadata": {
    "execution": {
     "iopub.execute_input": "2021-09-26T16:00:07.216744Z",
     "iopub.status.busy": "2021-09-26T16:00:07.214770Z",
     "iopub.status.idle": "2021-09-26T16:00:08.023662Z",
     "shell.execute_reply": "2021-09-26T16:00:08.024933Z"
    },
    "papermill": {
     "duration": 0.860441,
     "end_time": "2021-09-26T16:00:08.025555",
     "exception": false,
     "start_time": "2021-09-26T16:00:07.165114",
     "status": "completed"
    },
    "tags": []
   },
   "outputs": [],
   "source": [
    "import pandas as pd\n",
    "import sqlite3"
   ]
  },
  {
   "cell_type": "code",
   "execution_count": 2,
   "id": "innovative-syndrome",
   "metadata": {
    "execution": {
     "iopub.execute_input": "2021-09-26T16:00:08.075777Z",
     "iopub.status.busy": "2021-09-26T16:00:08.073677Z",
     "iopub.status.idle": "2021-09-26T16:00:08.450764Z",
     "shell.execute_reply": "2021-09-26T16:00:08.452197Z"
    },
    "papermill": {
     "duration": 0.406903,
     "end_time": "2021-09-26T16:00:08.452616",
     "exception": false,
     "start_time": "2021-09-26T16:00:08.045713",
     "status": "completed"
    },
    "tags": []
   },
   "outputs": [],
   "source": [
    "timestamps = pd.read_sql(\"select distinct record_time from EBAY_TOP_BERLIN order by record_time desc limit 2\", sqlite3.connect(\"UsedObjects.db\"))"
   ]
  },
  {
   "cell_type": "code",
   "execution_count": 3,
   "id": "periodic-identification",
   "metadata": {
    "execution": {
     "iopub.execute_input": "2021-09-26T16:00:08.520393Z",
     "iopub.status.busy": "2021-09-26T16:00:08.515338Z",
     "iopub.status.idle": "2021-09-26T16:00:08.535971Z",
     "shell.execute_reply": "2021-09-26T16:00:08.537257Z"
    },
    "papermill": {
     "duration": 0.065987,
     "end_time": "2021-09-26T16:00:08.537707",
     "exception": false,
     "start_time": "2021-09-26T16:00:08.471720",
     "status": "completed"
    },
    "tags": []
   },
   "outputs": [
    {
     "data": {
      "text/html": [
       "<div>\n",
       "<style scoped>\n",
       "    .dataframe tbody tr th:only-of-type {\n",
       "        vertical-align: middle;\n",
       "    }\n",
       "\n",
       "    .dataframe tbody tr th {\n",
       "        vertical-align: top;\n",
       "    }\n",
       "\n",
       "    .dataframe thead th {\n",
       "        text-align: right;\n",
       "    }\n",
       "</style>\n",
       "<table border=\"1\" class=\"dataframe\">\n",
       "  <thead>\n",
       "    <tr style=\"text-align: right;\">\n",
       "      <th></th>\n",
       "      <th>RECORD_TIME</th>\n",
       "    </tr>\n",
       "  </thead>\n",
       "  <tbody>\n",
       "    <tr>\n",
       "      <th>0</th>\n",
       "      <td>2021-09-26 18:00</td>\n",
       "    </tr>\n",
       "    <tr>\n",
       "      <th>1</th>\n",
       "      <td>2021-09-26 17:30</td>\n",
       "    </tr>\n",
       "  </tbody>\n",
       "</table>\n",
       "</div>"
      ],
      "text/plain": [
       "        RECORD_TIME\n",
       "0  2021-09-26 18:00\n",
       "1  2021-09-26 17:30"
      ]
     },
     "execution_count": 3,
     "metadata": {},
     "output_type": "execute_result"
    }
   ],
   "source": [
    "timestamps"
   ]
  },
  {
   "cell_type": "code",
   "execution_count": 4,
   "id": "alternate-victory",
   "metadata": {
    "execution": {
     "iopub.execute_input": "2021-09-26T16:00:08.591125Z",
     "iopub.status.busy": "2021-09-26T16:00:08.588808Z",
     "iopub.status.idle": "2021-09-26T16:00:09.149604Z",
     "shell.execute_reply": "2021-09-26T16:00:09.150877Z"
    },
    "papermill": {
     "duration": 0.591497,
     "end_time": "2021-09-26T16:00:09.151327",
     "exception": false,
     "start_time": "2021-09-26T16:00:08.559830",
     "status": "completed"
    },
    "tags": []
   },
   "outputs": [],
   "source": [
    "df = pd.read_sql(\"select * from EBAY_TOP_BERLIN where record_time in (select distinct record_time from EBAY_TOP_BERLIN order by record_time desc limit 2)\", sqlite3.connect(\"UsedObjects.db\"))"
   ]
  },
  {
   "cell_type": "code",
   "execution_count": 5,
   "id": "popular-active",
   "metadata": {
    "execution": {
     "iopub.execute_input": "2021-09-26T16:00:09.219590Z",
     "iopub.status.busy": "2021-09-26T16:00:09.217633Z",
     "iopub.status.idle": "2021-09-26T16:00:09.248277Z",
     "shell.execute_reply": "2021-09-26T16:00:09.249577Z"
    },
    "papermill": {
     "duration": 0.072857,
     "end_time": "2021-09-26T16:00:09.249993",
     "exception": false,
     "start_time": "2021-09-26T16:00:09.177136",
     "status": "completed"
    },
    "tags": []
   },
   "outputs": [],
   "source": [
    "df_pivot = df.pivot_table(index=\"PRODUCT\", columns = \"RECORD_TIME\", values = \"LISTING_COUNT\")"
   ]
  },
  {
   "cell_type": "code",
   "execution_count": 6,
   "id": "union-huntington",
   "metadata": {
    "execution": {
     "iopub.execute_input": "2021-09-26T16:00:09.306882Z",
     "iopub.status.busy": "2021-09-26T16:00:09.304458Z",
     "iopub.status.idle": "2021-09-26T16:00:09.310329Z",
     "shell.execute_reply": "2021-09-26T16:00:09.311600Z"
    },
    "papermill": {
     "duration": 0.042401,
     "end_time": "2021-09-26T16:00:09.312035",
     "exception": false,
     "start_time": "2021-09-26T16:00:09.269634",
     "status": "completed"
    },
    "tags": []
   },
   "outputs": [],
   "source": [
    "df_pivot.columns = [\"stamp_1\", \"stamp_2\"]\n",
    "df_pivot_diff = df_pivot.diff(axis=1)"
   ]
  },
  {
   "cell_type": "code",
   "execution_count": 7,
   "id": "fifth-motion",
   "metadata": {
    "execution": {
     "iopub.execute_input": "2021-09-26T16:00:09.366200Z",
     "iopub.status.busy": "2021-09-26T16:00:09.363771Z",
     "iopub.status.idle": "2021-09-26T16:00:10.875711Z",
     "shell.execute_reply": "2021-09-26T16:00:10.876906Z"
    },
    "papermill": {
     "duration": 1.544579,
     "end_time": "2021-09-26T16:00:10.877333",
     "exception": false,
     "start_time": "2021-09-26T16:00:09.332754",
     "status": "completed"
    },
    "tags": []
   },
   "outputs": [
    {
     "data": {
      "text/plain": [
       "<AxesSubplot:ylabel='PRODUCT'>"
      ]
     },
     "execution_count": 7,
     "metadata": {},
     "output_type": "execute_result"
    },
    {
     "data": {
      "image/png": "[encoded data removed]",
      "text/plain": [
       "<Figure size 432x288 with 1 Axes>"
      ]
     },
     "metadata": {
      "needs_background": "light"
     },
     "output_type": "display_data"
    }
   ],
   "source": [
    "df_pivot_diff.sort_values(\"stamp_2\", ascending = False)[\"stamp_2\"].head(10).plot.barh()"
   ]
  },
  {
   "cell_type": "code",
   "execution_count": null,
   "id": "extra-executive",
   "metadata": {
    "papermill": {
     "duration": 0.022347,
     "end_time": "2021-09-26T16:00:10.923666",
     "exception": false,
     "start_time": "2021-09-26T16:00:10.901319",
     "status": "completed"
    },
    "tags": []
   },
   "outputs": [],
   "source": []
  }
 ],
 "metadata": {
  "kernelspec": {
   "display_name": "Python 3",
   "language": "python",
   "name": "python3"
  },
  "language_info": {
   "codemirror_mode": {
    "name": "ipython",
    "version": 3
   },
   "file_extension": ".py",
   "mimetype": "text/x-python",
   "name": "python",
   "nbconvert_exporter": "python",
   "pygments_lexer": "ipython3",
   "version": "3.9.5"
  },
  "papermill": {
   "default_parameters": {},
   "duration": 6.806506,
   "end_time": "2021-09-26T16:00:11.566218",
   "environment_variables": {},
   "exception": null,
   "input_path": "eBay_Overview.ipynb",
   "output_path": "eBay_Overview.ipynb",
   "parameters": {},
   "start_time": "2021-09-26T16:00:04.759712",
   "version": "2.3.3"
  }
 },
 "nbformat": 4,
 "nbformat_minor": 5
}