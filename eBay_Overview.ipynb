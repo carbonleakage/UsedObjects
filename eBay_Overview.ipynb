{
 "cells": [
  {
   "cell_type": "code",
   "execution_count": 1,
   "id": "reverse-picking",
   "metadata": {
    "execution": {
     "iopub.execute_input": "2021-11-07T05:30:07.257280Z",
     "iopub.status.busy": "2021-11-07T05:30:07.254963Z",
     "iopub.status.idle": "2021-11-07T05:30:08.195319Z",
     "shell.execute_reply": "2021-11-07T05:30:08.197073Z"
    },
    "papermill": {
     "duration": 0.988816,
     "end_time": "2021-11-07T05:30:08.197846",
     "exception": false,
     "start_time": "2021-11-07T05:30:07.209030",
     "status": "completed"
    },
    "tags": []
   },
   "outputs": [],
   "source": [
    "import pandas as pd\n",
    "import sqlite3"
   ]
  },
  {
   "cell_type": "code",
   "execution_count": 2,
   "id": "innovative-syndrome",
   "metadata": {
    "execution": {
     "iopub.execute_input": "2021-11-07T05:30:08.254561Z",
     "iopub.status.busy": "2021-11-07T05:30:08.252232Z",
     "iopub.status.idle": "2021-11-07T05:30:09.004226Z",
     "shell.execute_reply": "2021-11-07T05:30:09.005736Z"
    },
    "papermill": {
     "duration": 0.787492,
     "end_time": "2021-11-07T05:30:09.006220",
     "exception": false,
     "start_time": "2021-11-07T05:30:08.218728",
     "status": "completed"
    },
    "tags": []
   },
   "outputs": [],
   "source": [
    "timestamps = pd.read_sql(\"select distinct record_time from EBAY_TOP_BERLIN order by record_time desc limit 2\", sqlite3.connect(\"UsedObjects.db\"))"
   ]
  },
  {
   "cell_type": "code",
   "execution_count": 3,
   "id": "periodic-identification",
   "metadata": {
    "execution": {
     "iopub.execute_input": "2021-11-07T05:30:09.081298Z",
     "iopub.status.busy": "2021-11-07T05:30:09.074985Z",
     "iopub.status.idle": "2021-11-07T05:30:09.098163Z",
     "shell.execute_reply": "2021-11-07T05:30:09.100251Z"
    },
    "papermill": {
     "duration": 0.074467,
     "end_time": "2021-11-07T05:30:09.101207",
     "exception": false,
     "start_time": "2021-11-07T05:30:09.026740",
     "status": "completed"
    },
    "tags": []
   },
   "outputs": [
    {
     "data": {
      "text/html": [
       "<div>\n",
       "<style scoped>\n",
       "    .dataframe tbody tr th:only-of-type {\n",
       "        vertical-align: middle;\n",
       "    }\n",
       "\n",
       "    .dataframe tbody tr th {\n",
       "        vertical-align: top;\n",
       "    }\n",
       "\n",
       "    .dataframe thead th {\n",
       "        text-align: right;\n",
       "    }\n",
       "</style>\n",
       "<table border=\"1\" class=\"dataframe\">\n",
       "  <thead>\n",
       "    <tr style=\"text-align: right;\">\n",
       "      <th></th>\n",
       "      <th>RECORD_TIME</th>\n",
       "    </tr>\n",
       "  </thead>\n",
       "  <tbody>\n",
       "    <tr>\n",
       "      <th>0</th>\n",
       "      <td>2021-11-07 06:30</td>\n",
       "    </tr>\n",
       "    <tr>\n",
       "      <th>1</th>\n",
       "      <td>2021-11-07 06:00</td>\n",
       "    </tr>\n",
       "  </tbody>\n",
       "</table>\n",
       "</div>"
      ],
      "text/plain": [
       "        RECORD_TIME\n",
       "0  2021-11-07 06:30\n",
       "1  2021-11-07 06:00"
      ]
     },
     "execution_count": 3,
     "metadata": {},
     "output_type": "execute_result"
    }
   ],
   "source": [
    "timestamps"
   ]
  },
  {
   "cell_type": "code",
   "execution_count": 4,
   "id": "alternate-victory",
   "metadata": {
    "execution": {
     "iopub.execute_input": "2021-11-07T05:30:09.157656Z",
     "iopub.status.busy": "2021-11-07T05:30:09.155237Z",
     "iopub.status.idle": "2021-11-07T05:30:10.253825Z",
     "shell.execute_reply": "2021-11-07T05:30:10.255121Z"
    },
    "papermill": {
     "duration": 1.132727,
     "end_time": "2021-11-07T05:30:10.255526",
     "exception": false,
     "start_time": "2021-11-07T05:30:09.122799",
     "status": "completed"
    },
    "tags": []
   },
   "outputs": [],
   "source": [
    "df = pd.read_sql(\"select * from EBAY_TOP_BERLIN where record_time in (select distinct record_time from EBAY_TOP_BERLIN order by record_time desc limit 2)\", sqlite3.connect(\"UsedObjects.db\"))"
   ]
  },
  {
   "cell_type": "code",
   "execution_count": 5,
   "id": "popular-active",
   "metadata": {
    "execution": {
     "iopub.execute_input": "2021-11-07T05:30:10.325340Z",
     "iopub.status.busy": "2021-11-07T05:30:10.315096Z",
     "iopub.status.idle": "2021-11-07T05:30:10.341993Z",
     "shell.execute_reply": "2021-11-07T05:30:10.343221Z"
    },
    "papermill": {
     "duration": 0.067669,
     "end_time": "2021-11-07T05:30:10.343619",
     "exception": false,
     "start_time": "2021-11-07T05:30:10.275950",
     "status": "completed"
    },
    "tags": []
   },
   "outputs": [],
   "source": [
    "df_pivot = df.pivot_table(index=\"PRODUCT\", columns = \"RECORD_TIME\", values = \"LISTING_COUNT\")"
   ]
  },
  {
   "cell_type": "code",
   "execution_count": 6,
   "id": "union-huntington",
   "metadata": {
    "execution": {
     "iopub.execute_input": "2021-11-07T05:30:10.402825Z",
     "iopub.status.busy": "2021-11-07T05:30:10.400571Z",
     "iopub.status.idle": "2021-11-07T05:30:10.406344Z",
     "shell.execute_reply": "2021-11-07T05:30:10.407715Z"
    },
    "papermill": {
     "duration": 0.042353,
     "end_time": "2021-11-07T05:30:10.408187",
     "exception": false,
     "start_time": "2021-11-07T05:30:10.365834",
     "status": "completed"
    },
    "tags": []
   },
   "outputs": [],
   "source": [
    "df_pivot.columns = [\"stamp_1\", \"stamp_2\"]\n",
    "df_pivot_diff = df_pivot.diff(axis=1)"
   ]
  },
  {
   "cell_type": "code",
   "execution_count": 7,
   "id": "fifth-motion",
   "metadata": {
    "execution": {
     "iopub.execute_input": "2021-11-07T05:30:10.465218Z",
     "iopub.status.busy": "2021-11-07T05:30:10.462586Z",
     "iopub.status.idle": "2021-11-07T05:30:12.259901Z",
     "shell.execute_reply": "2021-11-07T05:30:12.261771Z"
    },
    "papermill": {
     "duration": 1.833254,
     "end_time": "2021-11-07T05:30:12.262239",
     "exception": false,
     "start_time": "2021-11-07T05:30:10.428985",
     "status": "completed"
    },
    "tags": []
   },
   "outputs": [
    {
     "data": {
      "text/plain": [
       "<AxesSubplot:ylabel='PRODUCT'>"
      ]
     },
     "execution_count": 7,
     "metadata": {},
     "output_type": "execute_result"
    },
    {
     "data": {
      "image/png": "[encoded data removed]",
      "text/plain": [
       "<Figure size 432x288 with 1 Axes>"
      ]
     },
     "metadata": {
      "needs_background": "light"
     },
     "output_type": "display_data"
    }
   ],
   "source": [
    "df_pivot_diff.sort_values(\"stamp_2\", ascending = False)[\"stamp_2\"].head(10).plot.barh()"
   ]
  },
  {
   "cell_type": "code",
   "execution_count": null,
   "id": "extra-executive",
   "metadata": {
    "papermill": {
     "duration": 0.023233,
     "end_time": "2021-11-07T05:30:12.309190",
     "exception": false,
     "start_time": "2021-11-07T05:30:12.285957",
     "status": "completed"
    },
    "tags": []
   },
   "outputs": [],
   "source": []
  }
 ],
 "metadata": {
  "kernelspec": {
   "display_name": "Python 3",
   "language": "python",
   "name": "python3"
  },
  "language_info": {
   "codemirror_mode": {
    "name": "ipython",
    "version": 3
   },
   "file_extension": ".py",
   "mimetype": "text/x-python",
   "name": "python",
   "nbconvert_exporter": "python",
   "pygments_lexer": "ipython3",
   "version": "3.9.5"
  },
  "papermill": {
   "default_parameters": {},
   "duration": 8.63618,
   "end_time": "2021-11-07T05:30:13.053478",
   "environment_variables": {},
   "exception": null,
   "input_path": "eBay_Overview.ipynb",
   "output_path": "eBay_Overview.ipynb",
   "parameters": {},
   "start_time": "2021-11-07T05:30:04.417298",
   "version": "2.3.3"
  }
 },
 "nbformat": 4,
 "nbformat_minor": 5
}