{
 "cells": [
  {
   "cell_type": "code",
   "execution_count": 1,
   "id": "reverse-picking",
   "metadata": {
    "execution": {
     "iopub.execute_input": "2021-11-11T18:00:07.466170Z",
     "iopub.status.busy": "2021-11-11T18:00:07.463886Z",
     "iopub.status.idle": "2021-11-11T18:00:08.403028Z",
     "shell.execute_reply": "2021-11-11T18:00:08.404644Z"
    },
    "papermill": {
     "duration": 0.98769,
     "end_time": "2021-11-11T18:00:08.405466",
     "exception": false,
     "start_time": "2021-11-11T18:00:07.417776",
     "status": "completed"
    },
    "tags": []
   },
   "outputs": [],
   "source": [
    "import pandas as pd\n",
    "import sqlite3"
   ]
  },
  {
   "cell_type": "code",
   "execution_count": 2,
   "id": "innovative-syndrome",
   "metadata": {
    "execution": {
     "iopub.execute_input": "2021-11-11T18:00:08.468673Z",
     "iopub.status.busy": "2021-11-11T18:00:08.466430Z",
     "iopub.status.idle": "2021-11-11T18:00:09.387776Z",
     "shell.execute_reply": "2021-11-11T18:00:09.389382Z"
    },
    "papermill": {
     "duration": 0.962593,
     "end_time": "2021-11-11T18:00:09.389883",
     "exception": false,
     "start_time": "2021-11-11T18:00:08.427290",
     "status": "completed"
    },
    "tags": []
   },
   "outputs": [],
   "source": [
    "timestamps = pd.read_sql(\"select distinct record_time from EBAY_TOP_BERLIN order by record_time desc limit 2\", sqlite3.connect(\"UsedObjects.db\"))"
   ]
  },
  {
   "cell_type": "code",
   "execution_count": 3,
   "id": "periodic-identification",
   "metadata": {
    "execution": {
     "iopub.execute_input": "2021-11-11T18:00:09.463170Z",
     "iopub.status.busy": "2021-11-11T18:00:09.460836Z",
     "iopub.status.idle": "2021-11-11T18:00:09.483367Z",
     "shell.execute_reply": "2021-11-11T18:00:09.484767Z"
    },
    "papermill": {
     "duration": 0.074638,
     "end_time": "2021-11-11T18:00:09.485231",
     "exception": false,
     "start_time": "2021-11-11T18:00:09.410593",
     "status": "completed"
    },
    "tags": []
   },
   "outputs": [
    {
     "data": {
      "text/html": [
       "<div>\n",
       "<style scoped>\n",
       "    .dataframe tbody tr th:only-of-type {\n",
       "        vertical-align: middle;\n",
       "    }\n",
       "\n",
       "    .dataframe tbody tr th {\n",
       "        vertical-align: top;\n",
       "    }\n",
       "\n",
       "    .dataframe thead th {\n",
       "        text-align: right;\n",
       "    }\n",
       "</style>\n",
       "<table border=\"1\" class=\"dataframe\">\n",
       "  <thead>\n",
       "    <tr style=\"text-align: right;\">\n",
       "      <th></th>\n",
       "      <th>RECORD_TIME</th>\n",
       "    </tr>\n",
       "  </thead>\n",
       "  <tbody>\n",
       "    <tr>\n",
       "      <th>0</th>\n",
       "      <td>2021-11-11 19:00</td>\n",
       "    </tr>\n",
       "    <tr>\n",
       "      <th>1</th>\n",
       "      <td>2021-11-11 18:30</td>\n",
       "    </tr>\n",
       "  </tbody>\n",
       "</table>\n",
       "</div>"
      ],
      "text/plain": [
       "        RECORD_TIME\n",
       "0  2021-11-11 19:00\n",
       "1  2021-11-11 18:30"
      ]
     },
     "execution_count": 3,
     "metadata": {},
     "output_type": "execute_result"
    }
   ],
   "source": [
    "timestamps"
   ]
  },
  {
   "cell_type": "code",
   "execution_count": 4,
   "id": "alternate-victory",
   "metadata": {
    "execution": {
     "iopub.execute_input": "2021-11-11T18:00:09.540474Z",
     "iopub.status.busy": "2021-11-11T18:00:09.538196Z",
     "iopub.status.idle": "2021-11-11T18:00:10.690860Z",
     "shell.execute_reply": "2021-11-11T18:00:10.692519Z"
    },
    "papermill": {
     "duration": 1.18634,
     "end_time": "2021-11-11T18:00:10.693098",
     "exception": false,
     "start_time": "2021-11-11T18:00:09.506758",
     "status": "completed"
    },
    "tags": []
   },
   "outputs": [],
   "source": [
    "df = pd.read_sql(\"select * from EBAY_TOP_BERLIN where record_time in (select distinct record_time from EBAY_TOP_BERLIN order by record_time desc limit 2)\", sqlite3.connect(\"UsedObjects.db\"))"
   ]
  },
  {
   "cell_type": "code",
   "execution_count": 5,
   "id": "popular-active",
   "metadata": {
    "execution": {
     "iopub.execute_input": "2021-11-11T18:00:10.772598Z",
     "iopub.status.busy": "2021-11-11T18:00:10.759524Z",
     "iopub.status.idle": "2021-11-11T18:00:10.793294Z",
     "shell.execute_reply": "2021-11-11T18:00:10.794880Z"
    },
    "papermill": {
     "duration": 0.08039,
     "end_time": "2021-11-11T18:00:10.795396",
     "exception": false,
     "start_time": "2021-11-11T18:00:10.715006",
     "status": "completed"
    },
    "tags": []
   },
   "outputs": [],
   "source": [
    "df_pivot = df.pivot_table(index=\"PRODUCT\", columns = \"RECORD_TIME\", values = \"LISTING_COUNT\")"
   ]
  },
  {
   "cell_type": "code",
   "execution_count": 6,
   "id": "union-huntington",
   "metadata": {
    "execution": {
     "iopub.execute_input": "2021-11-11T18:00:10.859175Z",
     "iopub.status.busy": "2021-11-11T18:00:10.856955Z",
     "iopub.status.idle": "2021-11-11T18:00:10.863711Z",
     "shell.execute_reply": "2021-11-11T18:00:10.862063Z"
    },
    "papermill": {
     "duration": 0.046247,
     "end_time": "2021-11-11T18:00:10.864116",
     "exception": false,
     "start_time": "2021-11-11T18:00:10.817869",
     "status": "completed"
    },
    "tags": []
   },
   "outputs": [],
   "source": [
    "df_pivot.columns = [\"stamp_1\", \"stamp_2\"]\n",
    "df_pivot_diff = df_pivot.diff(axis=1)"
   ]
  },
  {
   "cell_type": "code",
   "execution_count": 7,
   "id": "fifth-motion",
   "metadata": {
    "execution": {
     "iopub.execute_input": "2021-11-11T18:00:10.925079Z",
     "iopub.status.busy": "2021-11-11T18:00:10.922553Z",
     "iopub.status.idle": "2021-11-11T18:00:12.693148Z",
     "shell.execute_reply": "2021-11-11T18:00:12.694531Z"
    },
    "papermill": {
     "duration": 1.807674,
     "end_time": "2021-11-11T18:00:12.694999",
     "exception": false,
     "start_time": "2021-11-11T18:00:10.887325",
     "status": "completed"
    },
    "tags": []
   },
   "outputs": [
    {
     "data": {
      "text/plain": [
       "<AxesSubplot:ylabel='PRODUCT'>"
      ]
     },
     "execution_count": 7,
     "metadata": {},
     "output_type": "execute_result"
    },
    {
     "data": {
      "image/png": "[encoded data removed]",
      "text/plain": [
       "<Figure size 432x288 with 1 Axes>"
      ]
     },
     "metadata": {
      "needs_background": "light"
     },
     "output_type": "display_data"
    }
   ],
   "source": [
    "df_pivot_diff.sort_values(\"stamp_2\", ascending = False)[\"stamp_2\"].head(10).plot.barh()"
   ]
  },
  {
   "cell_type": "code",
   "execution_count": null,
   "id": "extra-executive",
   "metadata": {
    "papermill": {
     "duration": 0.023855,
     "end_time": "2021-11-11T18:00:12.743195",
     "exception": false,
     "start_time": "2021-11-11T18:00:12.719340",
     "status": "completed"
    },
    "tags": []
   },
   "outputs": [],
   "source": []
  }
 ],
 "metadata": {
  "kernelspec": {
   "display_name": "Python 3",
   "language": "python",
   "name": "python3"
  },
  "language_info": {
   "codemirror_mode": {
    "name": "ipython",
    "version": 3
   },
   "file_extension": ".py",
   "mimetype": "text/x-python",
   "name": "python",
   "nbconvert_exporter": "python",
   "pygments_lexer": "ipython3",
   "version": "3.9.5"
  },
  "papermill": {
   "default_parameters": {},
   "duration": 8.988356,
   "end_time": "2021-11-11T18:00:13.602412",
   "environment_variables": {},
   "exception": null,
   "input_path": "eBay_Overview.ipynb",
   "output_path": "eBay_Overview.ipynb",
   "parameters": {},
   "start_time": "2021-11-11T18:00:04.614056",
   "version": "2.3.3"
  }
 },
 "nbformat": 4,
 "nbformat_minor": 5
}