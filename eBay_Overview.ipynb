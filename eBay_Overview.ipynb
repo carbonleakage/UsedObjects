{
 "cells": [
  {
   "cell_type": "code",
   "execution_count": 1,
   "id": "reverse-picking",
   "metadata": {
    "execution": {
     "iopub.execute_input": "2021-08-26T12:30:07.546731Z",
     "iopub.status.busy": "2021-08-26T12:30:07.544720Z",
     "iopub.status.idle": "2021-08-26T12:30:08.350151Z",
     "shell.execute_reply": "2021-08-26T12:30:08.348561Z"
    },
    "papermill": {
     "duration": 0.854727,
     "end_time": "2021-08-26T12:30:08.350547",
     "exception": false,
     "start_time": "2021-08-26T12:30:07.495820",
     "status": "completed"
    },
    "tags": []
   },
   "outputs": [],
   "source": [
    "import pandas as pd\n",
    "import sqlite3"
   ]
  },
  {
   "cell_type": "code",
   "execution_count": 2,
   "id": "innovative-syndrome",
   "metadata": {
    "execution": {
     "iopub.execute_input": "2021-08-26T12:30:08.402203Z",
     "iopub.status.busy": "2021-08-26T12:30:08.399934Z",
     "iopub.status.idle": "2021-08-26T12:30:08.535080Z",
     "shell.execute_reply": "2021-08-26T12:30:08.536415Z"
    },
    "papermill": {
     "duration": 0.164852,
     "end_time": "2021-08-26T12:30:08.536849",
     "exception": false,
     "start_time": "2021-08-26T12:30:08.371997",
     "status": "completed"
    },
    "tags": []
   },
   "outputs": [],
   "source": [
    "timestamps = pd.read_sql(\"select distinct record_time from EBAY_TOP_BERLIN order by record_time desc limit 2\", sqlite3.connect(\"UsedObjects.db\"))"
   ]
  },
  {
   "cell_type": "code",
   "execution_count": 3,
   "id": "periodic-identification",
   "metadata": {
    "execution": {
     "iopub.execute_input": "2021-08-26T12:30:08.602920Z",
     "iopub.status.busy": "2021-08-26T12:30:08.600913Z",
     "iopub.status.idle": "2021-08-26T12:30:08.620867Z",
     "shell.execute_reply": "2021-08-26T12:30:08.622089Z"
    },
    "papermill": {
     "duration": 0.066166,
     "end_time": "2021-08-26T12:30:08.622513",
     "exception": false,
     "start_time": "2021-08-26T12:30:08.556347",
     "status": "completed"
    },
    "tags": []
   },
   "outputs": [
    {
     "data": {
      "text/html": [
       "<div>\n",
       "<style scoped>\n",
       "    .dataframe tbody tr th:only-of-type {\n",
       "        vertical-align: middle;\n",
       "    }\n",
       "\n",
       "    .dataframe tbody tr th {\n",
       "        vertical-align: top;\n",
       "    }\n",
       "\n",
       "    .dataframe thead th {\n",
       "        text-align: right;\n",
       "    }\n",
       "</style>\n",
       "<table border=\"1\" class=\"dataframe\">\n",
       "  <thead>\n",
       "    <tr style=\"text-align: right;\">\n",
       "      <th></th>\n",
       "      <th>RECORD_TIME</th>\n",
       "    </tr>\n",
       "  </thead>\n",
       "  <tbody>\n",
       "    <tr>\n",
       "      <th>0</th>\n",
       "      <td>2021-08-26 14:30</td>\n",
       "    </tr>\n",
       "    <tr>\n",
       "      <th>1</th>\n",
       "      <td>2021-08-26 14:00</td>\n",
       "    </tr>\n",
       "  </tbody>\n",
       "</table>\n",
       "</div>"
      ],
      "text/plain": [
       "        RECORD_TIME\n",
       "0  2021-08-26 14:30\n",
       "1  2021-08-26 14:00"
      ]
     },
     "execution_count": 3,
     "metadata": {},
     "output_type": "execute_result"
    }
   ],
   "source": [
    "timestamps"
   ]
  },
  {
   "cell_type": "code",
   "execution_count": 4,
   "id": "alternate-victory",
   "metadata": {
    "execution": {
     "iopub.execute_input": "2021-08-26T12:30:08.676386Z",
     "iopub.status.busy": "2021-08-26T12:30:08.674067Z",
     "iopub.status.idle": "2021-08-26T12:30:08.876510Z",
     "shell.execute_reply": "2021-08-26T12:30:08.878040Z"
    },
    "papermill": {
     "duration": 0.23333,
     "end_time": "2021-08-26T12:30:08.878493",
     "exception": false,
     "start_time": "2021-08-26T12:30:08.645163",
     "status": "completed"
    },
    "tags": []
   },
   "outputs": [],
   "source": [
    "df = pd.read_sql(\"select * from EBAY_TOP_BERLIN where record_time in (select distinct record_time from EBAY_TOP_BERLIN order by record_time desc limit 2)\", sqlite3.connect(\"UsedObjects.db\"))"
   ]
  },
  {
   "cell_type": "code",
   "execution_count": 5,
   "id": "popular-active",
   "metadata": {
    "execution": {
     "iopub.execute_input": "2021-08-26T12:30:08.950236Z",
     "iopub.status.busy": "2021-08-26T12:30:08.938049Z",
     "iopub.status.idle": "2021-08-26T12:30:08.965580Z",
     "shell.execute_reply": "2021-08-26T12:30:08.966806Z"
    },
    "papermill": {
     "duration": 0.067809,
     "end_time": "2021-08-26T12:30:08.967204",
     "exception": false,
     "start_time": "2021-08-26T12:30:08.899395",
     "status": "completed"
    },
    "tags": []
   },
   "outputs": [],
   "source": [
    "df_pivot = df.pivot_table(index=\"PRODUCT\", columns = \"RECORD_TIME\", values = \"LISTING_COUNT\")"
   ]
  },
  {
   "cell_type": "code",
   "execution_count": 6,
   "id": "union-huntington",
   "metadata": {
    "execution": {
     "iopub.execute_input": "2021-08-26T12:30:09.035221Z",
     "iopub.status.busy": "2021-08-26T12:30:09.033054Z",
     "iopub.status.idle": "2021-08-26T12:30:09.038720Z",
     "shell.execute_reply": "2021-08-26T12:30:09.040362Z"
    },
    "papermill": {
     "duration": 0.044794,
     "end_time": "2021-08-26T12:30:09.040846",
     "exception": false,
     "start_time": "2021-08-26T12:30:08.996052",
     "status": "completed"
    },
    "tags": []
   },
   "outputs": [],
   "source": [
    "df_pivot.columns = [\"stamp_1\", \"stamp_2\"]\n",
    "df_pivot_diff = df_pivot.diff(axis=1)"
   ]
  },
  {
   "cell_type": "code",
   "execution_count": 7,
   "id": "fifth-motion",
   "metadata": {
    "execution": {
     "iopub.execute_input": "2021-08-26T12:30:09.095521Z",
     "iopub.status.busy": "2021-08-26T12:30:09.093152Z",
     "iopub.status.idle": "2021-08-26T12:30:10.609925Z",
     "shell.execute_reply": "2021-08-26T12:30:10.611217Z"
    },
    "papermill": {
     "duration": 1.549656,
     "end_time": "2021-08-26T12:30:10.611634",
     "exception": false,
     "start_time": "2021-08-26T12:30:09.061978",
     "status": "completed"
    },
    "tags": []
   },
   "outputs": [
    {
     "data": {
      "text/plain": [
       "<AxesSubplot:ylabel='PRODUCT'>"
      ]
     },
     "execution_count": 7,
     "metadata": {},
     "output_type": "execute_result"
    },
    {
     "data": {
      "image/png": "[encoded data removed]",
      "text/plain": [
       "<Figure size 432x288 with 1 Axes>"
      ]
     },
     "metadata": {
      "needs_background": "light"
     },
     "output_type": "display_data"
    }
   ],
   "source": [
    "df_pivot_diff.sort_values(\"stamp_2\", ascending = False)[\"stamp_2\"].head(10).plot.barh()"
   ]
  },
  {
   "cell_type": "code",
   "execution_count": null,
   "id": "extra-executive",
   "metadata": {
    "papermill": {
     "duration": 0.022462,
     "end_time": "2021-08-26T12:30:10.658950",
     "exception": false,
     "start_time": "2021-08-26T12:30:10.636488",
     "status": "completed"
    },
    "tags": []
   },
   "outputs": [],
   "source": []
  }
 ],
 "metadata": {
  "kernelspec": {
   "display_name": "Python 3",
   "language": "python",
   "name": "python3"
  },
  "language_info": {
   "codemirror_mode": {
    "name": "ipython",
    "version": 3
   },
   "file_extension": ".py",
   "mimetype": "text/x-python",
   "name": "python",
   "nbconvert_exporter": "python",
   "pygments_lexer": "ipython3",
   "version": "3.9.5"
  },
  "papermill": {
   "default_parameters": {},
   "duration": 6.828495,
   "end_time": "2021-08-26T12:30:11.922159",
   "environment_variables": {},
   "exception": null,
   "input_path": "eBay_Overview.ipynb",
   "output_path": "eBay_Overview.ipynb",
   "parameters": {},
   "start_time": "2021-08-26T12:30:05.093664",
   "version": "2.3.3"
  }
 },
 "nbformat": 4,
 "nbformat_minor": 5
}