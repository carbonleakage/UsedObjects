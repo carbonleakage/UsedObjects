{
 "cells": [
  {
   "cell_type": "code",
   "execution_count": 1,
   "id": "reverse-picking",
   "metadata": {
    "execution": {
     "iopub.execute_input": "2021-12-02T23:00:08.234524Z",
     "iopub.status.busy": "2021-12-02T23:00:08.232207Z",
     "iopub.status.idle": "2021-12-02T23:00:09.203581Z",
     "shell.execute_reply": "2021-12-02T23:00:09.205261Z"
    },
    "papermill": {
     "duration": 1.021641,
     "end_time": "2021-12-02T23:00:09.205993",
     "exception": false,
     "start_time": "2021-12-02T23:00:08.184352",
     "status": "completed"
    },
    "tags": []
   },
   "outputs": [],
   "source": [
    "import pandas as pd\n",
    "import sqlite3"
   ]
  },
  {
   "cell_type": "code",
   "execution_count": 2,
   "id": "innovative-syndrome",
   "metadata": {
    "execution": {
     "iopub.execute_input": "2021-12-02T23:00:09.263588Z",
     "iopub.status.busy": "2021-12-02T23:00:09.261341Z",
     "iopub.status.idle": "2021-12-02T23:00:10.207073Z",
     "shell.execute_reply": "2021-12-02T23:00:10.208308Z"
    },
    "papermill": {
     "duration": 0.98042,
     "end_time": "2021-12-02T23:00:10.208815",
     "exception": false,
     "start_time": "2021-12-02T23:00:09.228395",
     "status": "completed"
    },
    "tags": []
   },
   "outputs": [],
   "source": [
    "timestamps = pd.read_sql(\"select distinct record_time from EBAY_TOP_BERLIN order by record_time desc limit 2\", sqlite3.connect(\"UsedObjects.db\"))"
   ]
  },
  {
   "cell_type": "code",
   "execution_count": 3,
   "id": "periodic-identification",
   "metadata": {
    "execution": {
     "iopub.execute_input": "2021-12-02T23:00:10.265613Z",
     "iopub.status.busy": "2021-12-02T23:00:10.263522Z",
     "iopub.status.idle": "2021-12-02T23:00:10.313883Z",
     "shell.execute_reply": "2021-12-02T23:00:10.315440Z"
    },
    "papermill": {
     "duration": 0.085709,
     "end_time": "2021-12-02T23:00:10.315971",
     "exception": false,
     "start_time": "2021-12-02T23:00:10.230262",
     "status": "completed"
    },
    "tags": []
   },
   "outputs": [
    {
     "data": {
      "text/html": [
       "<div>\n",
       "<style scoped>\n",
       "    .dataframe tbody tr th:only-of-type {\n",
       "        vertical-align: middle;\n",
       "    }\n",
       "\n",
       "    .dataframe tbody tr th {\n",
       "        vertical-align: top;\n",
       "    }\n",
       "\n",
       "    .dataframe thead th {\n",
       "        text-align: right;\n",
       "    }\n",
       "</style>\n",
       "<table border=\"1\" class=\"dataframe\">\n",
       "  <thead>\n",
       "    <tr style=\"text-align: right;\">\n",
       "      <th></th>\n",
       "      <th>RECORD_TIME</th>\n",
       "    </tr>\n",
       "  </thead>\n",
       "  <tbody>\n",
       "    <tr>\n",
       "      <th>0</th>\n",
       "      <td>2021-12-03 00:00</td>\n",
       "    </tr>\n",
       "    <tr>\n",
       "      <th>1</th>\n",
       "      <td>2021-12-02 23:30</td>\n",
       "    </tr>\n",
       "  </tbody>\n",
       "</table>\n",
       "</div>"
      ],
      "text/plain": [
       "        RECORD_TIME\n",
       "0  2021-12-03 00:00\n",
       "1  2021-12-02 23:30"
      ]
     },
     "execution_count": 3,
     "metadata": {},
     "output_type": "execute_result"
    }
   ],
   "source": [
    "timestamps"
   ]
  },
  {
   "cell_type": "code",
   "execution_count": 4,
   "id": "alternate-victory",
   "metadata": {
    "execution": {
     "iopub.execute_input": "2021-12-02T23:00:10.375093Z",
     "iopub.status.busy": "2021-12-02T23:00:10.372612Z",
     "iopub.status.idle": "2021-12-02T23:00:11.755374Z",
     "shell.execute_reply": "2021-12-02T23:00:11.756936Z"
    },
    "papermill": {
     "duration": 1.418632,
     "end_time": "2021-12-02T23:00:11.757408",
     "exception": false,
     "start_time": "2021-12-02T23:00:10.338776",
     "status": "completed"
    },
    "tags": []
   },
   "outputs": [],
   "source": [
    "df = pd.read_sql(\"select * from EBAY_TOP_BERLIN where record_time in (select distinct record_time from EBAY_TOP_BERLIN order by record_time desc limit 2)\", sqlite3.connect(\"UsedObjects.db\"))"
   ]
  },
  {
   "cell_type": "code",
   "execution_count": 5,
   "id": "popular-active",
   "metadata": {
    "execution": {
     "iopub.execute_input": "2021-12-02T23:00:11.832443Z",
     "iopub.status.busy": "2021-12-02T23:00:11.818284Z",
     "iopub.status.idle": "2021-12-02T23:00:11.851355Z",
     "shell.execute_reply": "2021-12-02T23:00:11.852809Z"
    },
    "papermill": {
     "duration": 0.07452,
     "end_time": "2021-12-02T23:00:11.853304",
     "exception": false,
     "start_time": "2021-12-02T23:00:11.778784",
     "status": "completed"
    },
    "tags": []
   },
   "outputs": [],
   "source": [
    "df_pivot = df.pivot_table(index=\"PRODUCT\", columns = \"RECORD_TIME\", values = \"LISTING_COUNT\")"
   ]
  },
  {
   "cell_type": "code",
   "execution_count": 6,
   "id": "union-huntington",
   "metadata": {
    "execution": {
     "iopub.execute_input": "2021-12-02T23:00:11.916498Z",
     "iopub.status.busy": "2021-12-02T23:00:11.914257Z",
     "iopub.status.idle": "2021-12-02T23:00:11.920093Z",
     "shell.execute_reply": "2021-12-02T23:00:11.921655Z"
    },
    "papermill": {
     "duration": 0.046991,
     "end_time": "2021-12-02T23:00:11.922135",
     "exception": false,
     "start_time": "2021-12-02T23:00:11.875144",
     "status": "completed"
    },
    "tags": []
   },
   "outputs": [],
   "source": [
    "df_pivot.columns = [\"stamp_1\", \"stamp_2\"]\n",
    "df_pivot_diff = df_pivot.diff(axis=1)"
   ]
  },
  {
   "cell_type": "code",
   "execution_count": 7,
   "id": "fifth-motion",
   "metadata": {
    "execution": {
     "iopub.execute_input": "2021-12-02T23:00:11.980304Z",
     "iopub.status.busy": "2021-12-02T23:00:11.977796Z",
     "iopub.status.idle": "2021-12-02T23:00:13.990686Z",
     "shell.execute_reply": "2021-12-02T23:00:13.991905Z"
    },
    "papermill": {
     "duration": 2.049179,
     "end_time": "2021-12-02T23:00:13.992341",
     "exception": false,
     "start_time": "2021-12-02T23:00:11.943162",
     "status": "completed"
    },
    "tags": []
   },
   "outputs": [
    {
     "data": {
      "text/plain": [
       "<AxesSubplot:ylabel='PRODUCT'>"
      ]
     },
     "execution_count": 7,
     "metadata": {},
     "output_type": "execute_result"
    },
    {
     "data": {
      "image/png": "[encoded data removed]",
      "text/plain": [
       "<Figure size 432x288 with 1 Axes>"
      ]
     },
     "metadata": {
      "needs_background": "light"
     },
     "output_type": "display_data"
    }
   ],
   "source": [
    "df_pivot_diff.sort_values(\"stamp_2\", ascending = False)[\"stamp_2\"].head(10).plot.barh()"
   ]
  },
  {
   "cell_type": "code",
   "execution_count": null,
   "id": "extra-executive",
   "metadata": {
    "papermill": {
     "duration": 0.022732,
     "end_time": "2021-12-02T23:00:14.038914",
     "exception": false,
     "start_time": "2021-12-02T23:00:14.016182",
     "status": "completed"
    },
    "tags": []
   },
   "outputs": [],
   "source": []
  }
 ],
 "metadata": {
  "kernelspec": {
   "display_name": "Python 3",
   "language": "python",
   "name": "python3"
  },
  "language_info": {
   "codemirror_mode": {
    "name": "ipython",
    "version": 3
   },
   "file_extension": ".py",
   "mimetype": "text/x-python",
   "name": "python",
   "nbconvert_exporter": "python",
   "pygments_lexer": "ipython3",
   "version": "3.9.5"
  },
  "papermill": {
   "default_parameters": {},
   "duration": 9.949032,
   "end_time": "2021-12-02T23:00:15.365000",
   "environment_variables": {},
   "exception": null,
   "input_path": "eBay_Overview.ipynb",
   "output_path": "eBay_Overview.ipynb",
   "parameters": {},
   "start_time": "2021-12-02T23:00:05.415968",
   "version": "2.3.3"
  }
 },
 "nbformat": 4,
 "nbformat_minor": 5
}