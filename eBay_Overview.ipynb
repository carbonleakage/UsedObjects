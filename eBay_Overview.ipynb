{
 "cells": [
  {
   "cell_type": "code",
   "execution_count": 1,
   "id": "reverse-picking",
   "metadata": {
    "execution": {
     "iopub.execute_input": "2021-09-22T23:00:07.136656Z",
     "iopub.status.busy": "2021-09-22T23:00:07.134673Z",
     "iopub.status.idle": "2021-09-22T23:00:07.940435Z",
     "shell.execute_reply": "2021-09-22T23:00:07.938836Z"
    },
    "papermill": {
     "duration": 0.85444,
     "end_time": "2021-09-22T23:00:07.940838",
     "exception": false,
     "start_time": "2021-09-22T23:00:07.086398",
     "status": "completed"
    },
    "tags": []
   },
   "outputs": [],
   "source": [
    "import pandas as pd\n",
    "import sqlite3"
   ]
  },
  {
   "cell_type": "code",
   "execution_count": 2,
   "id": "innovative-syndrome",
   "metadata": {
    "execution": {
     "iopub.execute_input": "2021-09-22T23:00:07.992770Z",
     "iopub.status.busy": "2021-09-22T23:00:07.990527Z",
     "iopub.status.idle": "2021-09-22T23:00:08.351046Z",
     "shell.execute_reply": "2021-09-22T23:00:08.352422Z"
    },
    "papermill": {
     "duration": 0.39031,
     "end_time": "2021-09-22T23:00:08.352859",
     "exception": false,
     "start_time": "2021-09-22T23:00:07.962549",
     "status": "completed"
    },
    "tags": []
   },
   "outputs": [],
   "source": [
    "timestamps = pd.read_sql(\"select distinct record_time from EBAY_TOP_BERLIN order by record_time desc limit 2\", sqlite3.connect(\"UsedObjects.db\"))"
   ]
  },
  {
   "cell_type": "code",
   "execution_count": 3,
   "id": "periodic-identification",
   "metadata": {
    "execution": {
     "iopub.execute_input": "2021-09-22T23:00:08.423247Z",
     "iopub.status.busy": "2021-09-22T23:00:08.418033Z",
     "iopub.status.idle": "2021-09-22T23:00:08.438102Z",
     "shell.execute_reply": "2021-09-22T23:00:08.439360Z"
    },
    "papermill": {
     "duration": 0.066907,
     "end_time": "2021-09-22T23:00:08.439808",
     "exception": false,
     "start_time": "2021-09-22T23:00:08.372901",
     "status": "completed"
    },
    "tags": []
   },
   "outputs": [
    {
     "data": {
      "text/html": [
       "<div>\n",
       "<style scoped>\n",
       "    .dataframe tbody tr th:only-of-type {\n",
       "        vertical-align: middle;\n",
       "    }\n",
       "\n",
       "    .dataframe tbody tr th {\n",
       "        vertical-align: top;\n",
       "    }\n",
       "\n",
       "    .dataframe thead th {\n",
       "        text-align: right;\n",
       "    }\n",
       "</style>\n",
       "<table border=\"1\" class=\"dataframe\">\n",
       "  <thead>\n",
       "    <tr style=\"text-align: right;\">\n",
       "      <th></th>\n",
       "      <th>RECORD_TIME</th>\n",
       "    </tr>\n",
       "  </thead>\n",
       "  <tbody>\n",
       "    <tr>\n",
       "      <th>0</th>\n",
       "      <td>2021-09-23 01:00</td>\n",
       "    </tr>\n",
       "    <tr>\n",
       "      <th>1</th>\n",
       "      <td>2021-09-23 00:30</td>\n",
       "    </tr>\n",
       "  </tbody>\n",
       "</table>\n",
       "</div>"
      ],
      "text/plain": [
       "        RECORD_TIME\n",
       "0  2021-09-23 01:00\n",
       "1  2021-09-23 00:30"
      ]
     },
     "execution_count": 3,
     "metadata": {},
     "output_type": "execute_result"
    }
   ],
   "source": [
    "timestamps"
   ]
  },
  {
   "cell_type": "code",
   "execution_count": 4,
   "id": "alternate-victory",
   "metadata": {
    "execution": {
     "iopub.execute_input": "2021-09-22T23:00:08.490746Z",
     "iopub.status.busy": "2021-09-22T23:00:08.488935Z",
     "iopub.status.idle": "2021-09-22T23:00:09.024005Z",
     "shell.execute_reply": "2021-09-22T23:00:09.025270Z"
    },
    "papermill": {
     "duration": 0.565376,
     "end_time": "2021-09-22T23:00:09.025665",
     "exception": false,
     "start_time": "2021-09-22T23:00:08.460289",
     "status": "completed"
    },
    "tags": []
   },
   "outputs": [],
   "source": [
    "df = pd.read_sql(\"select * from EBAY_TOP_BERLIN where record_time in (select distinct record_time from EBAY_TOP_BERLIN order by record_time desc limit 2)\", sqlite3.connect(\"UsedObjects.db\"))"
   ]
  },
  {
   "cell_type": "code",
   "execution_count": 5,
   "id": "popular-active",
   "metadata": {
    "execution": {
     "iopub.execute_input": "2021-09-22T23:00:09.095593Z",
     "iopub.status.busy": "2021-09-22T23:00:09.083980Z",
     "iopub.status.idle": "2021-09-22T23:00:09.112528Z",
     "shell.execute_reply": "2021-09-22T23:00:09.113872Z"
    },
    "papermill": {
     "duration": 0.068169,
     "end_time": "2021-09-22T23:00:09.114310",
     "exception": false,
     "start_time": "2021-09-22T23:00:09.046141",
     "status": "completed"
    },
    "tags": []
   },
   "outputs": [],
   "source": [
    "df_pivot = df.pivot_table(index=\"PRODUCT\", columns = \"RECORD_TIME\", values = \"LISTING_COUNT\")"
   ]
  },
  {
   "cell_type": "code",
   "execution_count": 6,
   "id": "union-huntington",
   "metadata": {
    "execution": {
     "iopub.execute_input": "2021-09-22T23:00:09.171043Z",
     "iopub.status.busy": "2021-09-22T23:00:09.168986Z",
     "iopub.status.idle": "2021-09-22T23:00:09.174650Z",
     "shell.execute_reply": "2021-09-22T23:00:09.175993Z"
    },
    "papermill": {
     "duration": 0.041678,
     "end_time": "2021-09-22T23:00:09.176411",
     "exception": false,
     "start_time": "2021-09-22T23:00:09.134733",
     "status": "completed"
    },
    "tags": []
   },
   "outputs": [],
   "source": [
    "df_pivot.columns = [\"stamp_1\", \"stamp_2\"]\n",
    "df_pivot_diff = df_pivot.diff(axis=1)"
   ]
  },
  {
   "cell_type": "code",
   "execution_count": 7,
   "id": "fifth-motion",
   "metadata": {
    "execution": {
     "iopub.execute_input": "2021-09-22T23:00:09.231848Z",
     "iopub.status.busy": "2021-09-22T23:00:09.229279Z",
     "iopub.status.idle": "2021-09-22T23:00:10.697843Z",
     "shell.execute_reply": "2021-09-22T23:00:10.699098Z"
    },
    "papermill": {
     "duration": 1.501616,
     "end_time": "2021-09-22T23:00:10.699541",
     "exception": false,
     "start_time": "2021-09-22T23:00:09.197925",
     "status": "completed"
    },
    "tags": []
   },
   "outputs": [
    {
     "data": {
      "text/plain": [
       "<AxesSubplot:ylabel='PRODUCT'>"
      ]
     },
     "execution_count": 7,
     "metadata": {},
     "output_type": "execute_result"
    },
    {
     "data": {
      "image/png": "[encoded data removed]",
      "text/plain": [
       "<Figure size 432x288 with 1 Axes>"
      ]
     },
     "metadata": {
      "needs_background": "light"
     },
     "output_type": "display_data"
    }
   ],
   "source": [
    "df_pivot_diff.sort_values(\"stamp_2\", ascending = False)[\"stamp_2\"].head(10).plot.barh()"
   ]
  },
  {
   "cell_type": "code",
   "execution_count": null,
   "id": "extra-executive",
   "metadata": {
    "papermill": {
     "duration": 0.022443,
     "end_time": "2021-09-22T23:00:10.746119",
     "exception": false,
     "start_time": "2021-09-22T23:00:10.723676",
     "status": "completed"
    },
    "tags": []
   },
   "outputs": [],
   "source": []
  }
 ],
 "metadata": {
  "kernelspec": {
   "display_name": "Python 3",
   "language": "python",
   "name": "python3"
  },
  "language_info": {
   "codemirror_mode": {
    "name": "ipython",
    "version": 3
   },
   "file_extension": ".py",
   "mimetype": "text/x-python",
   "name": "python",
   "nbconvert_exporter": "python",
   "pygments_lexer": "ipython3",
   "version": "3.9.5"
  },
  "papermill": {
   "default_parameters": {},
   "duration": 6.702416,
   "end_time": "2021-09-22T23:00:11.389000",
   "environment_variables": {},
   "exception": null,
   "input_path": "eBay_Overview.ipynb",
   "output_path": "eBay_Overview.ipynb",
   "parameters": {},
   "start_time": "2021-09-22T23:00:04.686584",
   "version": "2.3.3"
  }
 },
 "nbformat": 4,
 "nbformat_minor": 5
}