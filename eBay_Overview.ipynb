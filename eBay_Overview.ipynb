{
 "cells": [
  {
   "cell_type": "code",
   "execution_count": 1,
   "id": "reverse-picking",
   "metadata": {
    "execution": {
     "iopub.execute_input": "2021-11-24T11:30:07.550000Z",
     "iopub.status.busy": "2021-11-24T11:30:07.547725Z",
     "iopub.status.idle": "2021-11-24T11:30:08.511266Z",
     "shell.execute_reply": "2021-11-24T11:30:08.512545Z"
    },
    "papermill": {
     "duration": 1.010655,
     "end_time": "2021-11-24T11:30:08.513284",
     "exception": false,
     "start_time": "2021-11-24T11:30:07.502629",
     "status": "completed"
    },
    "tags": []
   },
   "outputs": [],
   "source": [
    "import pandas as pd\n",
    "import sqlite3"
   ]
  },
  {
   "cell_type": "code",
   "execution_count": 2,
   "id": "innovative-syndrome",
   "metadata": {
    "execution": {
     "iopub.execute_input": "2021-11-24T11:30:08.577303Z",
     "iopub.status.busy": "2021-11-24T11:30:08.574932Z",
     "iopub.status.idle": "2021-11-24T11:30:09.471877Z",
     "shell.execute_reply": "2021-11-24T11:30:09.473341Z"
    },
    "papermill": {
     "duration": 0.932084,
     "end_time": "2021-11-24T11:30:09.473821",
     "exception": false,
     "start_time": "2021-11-24T11:30:08.541737",
     "status": "completed"
    },
    "tags": []
   },
   "outputs": [],
   "source": [
    "timestamps = pd.read_sql(\"select distinct record_time from EBAY_TOP_BERLIN order by record_time desc limit 2\", sqlite3.connect(\"UsedObjects.db\"))"
   ]
  },
  {
   "cell_type": "code",
   "execution_count": 3,
   "id": "periodic-identification",
   "metadata": {
    "execution": {
     "iopub.execute_input": "2021-11-24T11:30:09.549806Z",
     "iopub.status.busy": "2021-11-24T11:30:09.543704Z",
     "iopub.status.idle": "2021-11-24T11:30:09.566680Z",
     "shell.execute_reply": "2021-11-24T11:30:09.568222Z"
    },
    "papermill": {
     "duration": 0.074402,
     "end_time": "2021-11-24T11:30:09.568884",
     "exception": false,
     "start_time": "2021-11-24T11:30:09.494482",
     "status": "completed"
    },
    "tags": []
   },
   "outputs": [
    {
     "data": {
      "text/html": [
       "<div>\n",
       "<style scoped>\n",
       "    .dataframe tbody tr th:only-of-type {\n",
       "        vertical-align: middle;\n",
       "    }\n",
       "\n",
       "    .dataframe tbody tr th {\n",
       "        vertical-align: top;\n",
       "    }\n",
       "\n",
       "    .dataframe thead th {\n",
       "        text-align: right;\n",
       "    }\n",
       "</style>\n",
       "<table border=\"1\" class=\"dataframe\">\n",
       "  <thead>\n",
       "    <tr style=\"text-align: right;\">\n",
       "      <th></th>\n",
       "      <th>RECORD_TIME</th>\n",
       "    </tr>\n",
       "  </thead>\n",
       "  <tbody>\n",
       "    <tr>\n",
       "      <th>0</th>\n",
       "      <td>2021-11-24 12:30</td>\n",
       "    </tr>\n",
       "    <tr>\n",
       "      <th>1</th>\n",
       "      <td>2021-11-24 12:00</td>\n",
       "    </tr>\n",
       "  </tbody>\n",
       "</table>\n",
       "</div>"
      ],
      "text/plain": [
       "        RECORD_TIME\n",
       "0  2021-11-24 12:30\n",
       "1  2021-11-24 12:00"
      ]
     },
     "execution_count": 3,
     "metadata": {},
     "output_type": "execute_result"
    }
   ],
   "source": [
    "timestamps"
   ]
  },
  {
   "cell_type": "code",
   "execution_count": 4,
   "id": "alternate-victory",
   "metadata": {
    "execution": {
     "iopub.execute_input": "2021-11-24T11:30:09.627678Z",
     "iopub.status.busy": "2021-11-24T11:30:09.625548Z",
     "iopub.status.idle": "2021-11-24T11:30:10.903619Z",
     "shell.execute_reply": "2021-11-24T11:30:10.901922Z"
    },
    "papermill": {
     "duration": 1.311621,
     "end_time": "2021-11-24T11:30:10.904036",
     "exception": false,
     "start_time": "2021-11-24T11:30:09.592415",
     "status": "completed"
    },
    "tags": []
   },
   "outputs": [],
   "source": [
    "df = pd.read_sql(\"select * from EBAY_TOP_BERLIN where record_time in (select distinct record_time from EBAY_TOP_BERLIN order by record_time desc limit 2)\", sqlite3.connect(\"UsedObjects.db\"))"
   ]
  },
  {
   "cell_type": "code",
   "execution_count": 5,
   "id": "popular-active",
   "metadata": {
    "execution": {
     "iopub.execute_input": "2021-11-24T11:30:11.002884Z",
     "iopub.status.busy": "2021-11-24T11:30:10.988276Z",
     "iopub.status.idle": "2021-11-24T11:30:11.038073Z",
     "shell.execute_reply": "2021-11-24T11:30:11.039804Z"
    },
    "papermill": {
     "duration": 0.114321,
     "end_time": "2021-11-24T11:30:11.040402",
     "exception": false,
     "start_time": "2021-11-24T11:30:10.926081",
     "status": "completed"
    },
    "tags": []
   },
   "outputs": [],
   "source": [
    "df_pivot = df.pivot_table(index=\"PRODUCT\", columns = \"RECORD_TIME\", values = \"LISTING_COUNT\")"
   ]
  },
  {
   "cell_type": "code",
   "execution_count": 6,
   "id": "union-huntington",
   "metadata": {
    "execution": {
     "iopub.execute_input": "2021-11-24T11:30:11.103528Z",
     "iopub.status.busy": "2021-11-24T11:30:11.101250Z",
     "iopub.status.idle": "2021-11-24T11:30:11.108738Z",
     "shell.execute_reply": "2021-11-24T11:30:11.110321Z"
    },
    "papermill": {
     "duration": 0.048157,
     "end_time": "2021-11-24T11:30:11.110812",
     "exception": false,
     "start_time": "2021-11-24T11:30:11.062655",
     "status": "completed"
    },
    "tags": []
   },
   "outputs": [],
   "source": [
    "df_pivot.columns = [\"stamp_1\", \"stamp_2\"]\n",
    "df_pivot_diff = df_pivot.diff(axis=1)"
   ]
  },
  {
   "cell_type": "code",
   "execution_count": 7,
   "id": "fifth-motion",
   "metadata": {
    "execution": {
     "iopub.execute_input": "2021-11-24T11:30:11.168760Z",
     "iopub.status.busy": "2021-11-24T11:30:11.166345Z",
     "iopub.status.idle": "2021-11-24T11:30:13.071217Z",
     "shell.execute_reply": "2021-11-24T11:30:13.073445Z"
    },
    "papermill": {
     "duration": 1.942975,
     "end_time": "2021-11-24T11:30:13.074079",
     "exception": false,
     "start_time": "2021-11-24T11:30:11.131104",
     "status": "completed"
    },
    "tags": []
   },
   "outputs": [
    {
     "data": {
      "text/plain": [
       "<AxesSubplot:ylabel='PRODUCT'>"
      ]
     },
     "execution_count": 7,
     "metadata": {},
     "output_type": "execute_result"
    },
    {
     "data": {
      "image/png": "[encoded data removed]",
      "text/plain": [
       "<Figure size 432x288 with 1 Axes>"
      ]
     },
     "metadata": {
      "needs_background": "light"
     },
     "output_type": "display_data"
    }
   ],
   "source": [
    "df_pivot_diff.sort_values(\"stamp_2\", ascending = False)[\"stamp_2\"].head(10).plot.barh()"
   ]
  },
  {
   "cell_type": "code",
   "execution_count": null,
   "id": "extra-executive",
   "metadata": {
    "papermill": {
     "duration": 0.030168,
     "end_time": "2021-11-24T11:30:13.133326",
     "exception": false,
     "start_time": "2021-11-24T11:30:13.103158",
     "status": "completed"
    },
    "tags": []
   },
   "outputs": [],
   "source": []
  }
 ],
 "metadata": {
  "kernelspec": {
   "display_name": "Python 3",
   "language": "python",
   "name": "python3"
  },
  "language_info": {
   "codemirror_mode": {
    "name": "ipython",
    "version": 3
   },
   "file_extension": ".py",
   "mimetype": "text/x-python",
   "name": "python",
   "nbconvert_exporter": "python",
   "pygments_lexer": "ipython3",
   "version": "3.9.5"
  },
  "papermill": {
   "default_parameters": {},
   "duration": 9.962905,
   "end_time": "2021-11-24T11:30:14.670951",
   "environment_variables": {},
   "exception": null,
   "input_path": "eBay_Overview.ipynb",
   "output_path": "eBay_Overview.ipynb",
   "parameters": {},
   "start_time": "2021-11-24T11:30:04.708046",
   "version": "2.3.3"
  }
 },
 "nbformat": 4,
 "nbformat_minor": 5
}