{
 "cells": [
  {
   "cell_type": "code",
   "execution_count": 1,
   "id": "reverse-picking",
   "metadata": {
    "execution": {
     "iopub.execute_input": "2021-08-15T05:00:07.303947Z",
     "iopub.status.busy": "2021-08-15T05:00:07.302016Z",
     "iopub.status.idle": "2021-08-15T05:00:08.111742Z",
     "shell.execute_reply": "2021-08-15T05:00:08.112974Z"
    },
    "papermill": {
     "duration": 0.861622,
     "end_time": "2021-08-15T05:00:08.113591",
     "exception": false,
     "start_time": "2021-08-15T05:00:07.251969",
     "status": "completed"
    },
    "tags": []
   },
   "outputs": [],
   "source": [
    "import pandas as pd\n",
    "import sqlite3"
   ]
  },
  {
   "cell_type": "code",
   "execution_count": 2,
   "id": "innovative-syndrome",
   "metadata": {
    "execution": {
     "iopub.execute_input": "2021-08-15T05:00:08.166663Z",
     "iopub.status.busy": "2021-08-15T05:00:08.164254Z",
     "iopub.status.idle": "2021-08-15T05:00:08.218502Z",
     "shell.execute_reply": "2021-08-15T05:00:08.219774Z"
    },
    "papermill": {
     "duration": 0.084336,
     "end_time": "2021-08-15T05:00:08.220164",
     "exception": false,
     "start_time": "2021-08-15T05:00:08.135828",
     "status": "completed"
    },
    "tags": []
   },
   "outputs": [],
   "source": [
    "timestamps = pd.read_sql(\"select distinct record_time from EBAY_TOP_BERLIN order by record_time desc limit 2\", sqlite3.connect(\"UsedObjects.db\"))"
   ]
  },
  {
   "cell_type": "code",
   "execution_count": 3,
   "id": "periodic-identification",
   "metadata": {
    "execution": {
     "iopub.execute_input": "2021-08-15T05:00:08.284533Z",
     "iopub.status.busy": "2021-08-15T05:00:08.282331Z",
     "iopub.status.idle": "2021-08-15T05:00:08.303487Z",
     "shell.execute_reply": "2021-08-15T05:00:08.304681Z"
    },
    "papermill": {
     "duration": 0.065663,
     "end_time": "2021-08-15T05:00:08.305068",
     "exception": false,
     "start_time": "2021-08-15T05:00:08.239405",
     "status": "completed"
    },
    "tags": []
   },
   "outputs": [
    {
     "data": {
      "text/html": [
       "<div>\n",
       "<style scoped>\n",
       "    .dataframe tbody tr th:only-of-type {\n",
       "        vertical-align: middle;\n",
       "    }\n",
       "\n",
       "    .dataframe tbody tr th {\n",
       "        vertical-align: top;\n",
       "    }\n",
       "\n",
       "    .dataframe thead th {\n",
       "        text-align: right;\n",
       "    }\n",
       "</style>\n",
       "<table border=\"1\" class=\"dataframe\">\n",
       "  <thead>\n",
       "    <tr style=\"text-align: right;\">\n",
       "      <th></th>\n",
       "      <th>RECORD_TIME</th>\n",
       "    </tr>\n",
       "  </thead>\n",
       "  <tbody>\n",
       "    <tr>\n",
       "      <th>0</th>\n",
       "      <td>2021-08-15 07:00</td>\n",
       "    </tr>\n",
       "    <tr>\n",
       "      <th>1</th>\n",
       "      <td>2021-08-15 06:30</td>\n",
       "    </tr>\n",
       "  </tbody>\n",
       "</table>\n",
       "</div>"
      ],
      "text/plain": [
       "        RECORD_TIME\n",
       "0  2021-08-15 07:00\n",
       "1  2021-08-15 06:30"
      ]
     },
     "execution_count": 3,
     "metadata": {},
     "output_type": "execute_result"
    }
   ],
   "source": [
    "timestamps"
   ]
  },
  {
   "cell_type": "code",
   "execution_count": 4,
   "id": "alternate-victory",
   "metadata": {
    "execution": {
     "iopub.execute_input": "2021-08-15T05:00:08.357591Z",
     "iopub.status.busy": "2021-08-15T05:00:08.355298Z",
     "iopub.status.idle": "2021-08-15T05:00:08.434152Z",
     "shell.execute_reply": "2021-08-15T05:00:08.435372Z"
    },
    "papermill": {
     "duration": 0.109073,
     "end_time": "2021-08-15T05:00:08.435761",
     "exception": false,
     "start_time": "2021-08-15T05:00:08.326688",
     "status": "completed"
    },
    "tags": []
   },
   "outputs": [],
   "source": [
    "df = pd.read_sql(\"select * from EBAY_TOP_BERLIN where record_time in (select distinct record_time from EBAY_TOP_BERLIN order by record_time desc limit 2)\", sqlite3.connect(\"UsedObjects.db\"))"
   ]
  },
  {
   "cell_type": "code",
   "execution_count": 5,
   "id": "popular-active",
   "metadata": {
    "execution": {
     "iopub.execute_input": "2021-08-15T05:00:08.500063Z",
     "iopub.status.busy": "2021-08-15T05:00:08.497790Z",
     "iopub.status.idle": "2021-08-15T05:00:08.525711Z",
     "shell.execute_reply": "2021-08-15T05:00:08.527055Z"
    },
    "papermill": {
     "duration": 0.068497,
     "end_time": "2021-08-15T05:00:08.527467",
     "exception": false,
     "start_time": "2021-08-15T05:00:08.458970",
     "status": "completed"
    },
    "tags": []
   },
   "outputs": [],
   "source": [
    "df_pivot = df.pivot_table(index=\"PRODUCT\", columns = \"RECORD_TIME\", values = \"LISTING_COUNT\")"
   ]
  },
  {
   "cell_type": "code",
   "execution_count": 6,
   "id": "union-huntington",
   "metadata": {
    "execution": {
     "iopub.execute_input": "2021-08-15T05:00:08.583906Z",
     "iopub.status.busy": "2021-08-15T05:00:08.581782Z",
     "iopub.status.idle": "2021-08-15T05:00:08.587230Z",
     "shell.execute_reply": "2021-08-15T05:00:08.588498Z"
    },
    "papermill": {
     "duration": 0.040447,
     "end_time": "2021-08-15T05:00:08.588910",
     "exception": false,
     "start_time": "2021-08-15T05:00:08.548463",
     "status": "completed"
    },
    "tags": []
   },
   "outputs": [],
   "source": [
    "df_pivot.columns = [\"stamp_1\", \"stamp_2\"]\n",
    "df_pivot_diff = df_pivot.diff(axis=1)"
   ]
  },
  {
   "cell_type": "code",
   "execution_count": 7,
   "id": "fifth-motion",
   "metadata": {
    "execution": {
     "iopub.execute_input": "2021-08-15T05:00:08.646876Z",
     "iopub.status.busy": "2021-08-15T05:00:08.644126Z",
     "iopub.status.idle": "2021-08-15T05:00:10.170514Z",
     "shell.execute_reply": "2021-08-15T05:00:10.171973Z"
    },
    "papermill": {
     "duration": 1.559984,
     "end_time": "2021-08-15T05:00:10.172412",
     "exception": false,
     "start_time": "2021-08-15T05:00:08.612428",
     "status": "completed"
    },
    "tags": []
   },
   "outputs": [
    {
     "data": {
      "text/plain": [
       "<AxesSubplot:ylabel='PRODUCT'>"
      ]
     },
     "execution_count": 7,
     "metadata": {},
     "output_type": "execute_result"
    },
    {
     "data": {
      "image/png": "[encoded data removed]",
      "text/plain": [
       "<Figure size 432x288 with 1 Axes>"
      ]
     },
     "metadata": {
      "needs_background": "light"
     },
     "output_type": "display_data"
    }
   ],
   "source": [
    "df_pivot_diff.sort_values(\"stamp_2\", ascending = False)[\"stamp_2\"].head(10).plot.barh()"
   ]
  },
  {
   "cell_type": "code",
   "execution_count": null,
   "id": "extra-executive",
   "metadata": {
    "papermill": {
     "duration": 0.022187,
     "end_time": "2021-08-15T05:00:10.218132",
     "exception": false,
     "start_time": "2021-08-15T05:00:10.195945",
     "status": "completed"
    },
    "tags": []
   },
   "outputs": [],
   "source": []
  }
 ],
 "metadata": {
  "kernelspec": {
   "display_name": "Python 3",
   "language": "python",
   "name": "python3"
  },
  "language_info": {
   "codemirror_mode": {
    "name": "ipython",
    "version": 3
   },
   "file_extension": ".py",
   "mimetype": "text/x-python",
   "name": "python",
   "nbconvert_exporter": "python",
   "pygments_lexer": "ipython3",
   "version": "3.9.5"
  },
  "papermill": {
   "default_parameters": {},
   "duration": 6.830749,
   "end_time": "2021-08-15T05:00:11.659639",
   "environment_variables": {},
   "exception": null,
   "input_path": "eBay_Overview.ipynb",
   "output_path": "eBay_Overview.ipynb",
   "parameters": {},
   "start_time": "2021-08-15T05:00:04.828890",
   "version": "2.3.3"
  }
 },
 "nbformat": 4,
 "nbformat_minor": 5
}