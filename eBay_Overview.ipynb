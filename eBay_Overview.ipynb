{
 "cells": [
  {
   "cell_type": "code",
   "execution_count": 1,
   "id": "reverse-picking",
   "metadata": {
    "execution": {
     "iopub.execute_input": "2021-10-26T12:00:06.744977Z",
     "iopub.status.busy": "2021-10-26T12:00:06.742923Z",
     "iopub.status.idle": "2021-10-26T12:00:07.551679Z",
     "shell.execute_reply": "2021-10-26T12:00:07.553035Z"
    },
    "papermill": {
     "duration": 0.862119,
     "end_time": "2021-10-26T12:00:07.553673",
     "exception": false,
     "start_time": "2021-10-26T12:00:06.691554",
     "status": "completed"
    },
    "tags": []
   },
   "outputs": [],
   "source": [
    "import pandas as pd\n",
    "import sqlite3"
   ]
  },
  {
   "cell_type": "code",
   "execution_count": 2,
   "id": "innovative-syndrome",
   "metadata": {
    "execution": {
     "iopub.execute_input": "2021-10-26T12:00:07.605030Z",
     "iopub.status.busy": "2021-10-26T12:00:07.603055Z",
     "iopub.status.idle": "2021-10-26T12:00:08.251299Z",
     "shell.execute_reply": "2021-10-26T12:00:08.252432Z"
    },
    "papermill": {
     "duration": 0.678422,
     "end_time": "2021-10-26T12:00:08.253029",
     "exception": false,
     "start_time": "2021-10-26T12:00:07.574607",
     "status": "completed"
    },
    "tags": []
   },
   "outputs": [],
   "source": [
    "timestamps = pd.read_sql(\"select distinct record_time from EBAY_TOP_BERLIN order by record_time desc limit 2\", sqlite3.connect(\"UsedObjects.db\"))"
   ]
  },
  {
   "cell_type": "code",
   "execution_count": 3,
   "id": "periodic-identification",
   "metadata": {
    "execution": {
     "iopub.execute_input": "2021-10-26T12:00:08.333084Z",
     "iopub.status.busy": "2021-10-26T12:00:08.327952Z",
     "iopub.status.idle": "2021-10-26T12:00:08.347858Z",
     "shell.execute_reply": "2021-10-26T12:00:08.349136Z"
    },
    "papermill": {
     "duration": 0.069004,
     "end_time": "2021-10-26T12:00:08.349568",
     "exception": false,
     "start_time": "2021-10-26T12:00:08.280564",
     "status": "completed"
    },
    "tags": []
   },
   "outputs": [
    {
     "data": {
      "text/html": [
       "<div>\n",
       "<style scoped>\n",
       "    .dataframe tbody tr th:only-of-type {\n",
       "        vertical-align: middle;\n",
       "    }\n",
       "\n",
       "    .dataframe tbody tr th {\n",
       "        vertical-align: top;\n",
       "    }\n",
       "\n",
       "    .dataframe thead th {\n",
       "        text-align: right;\n",
       "    }\n",
       "</style>\n",
       "<table border=\"1\" class=\"dataframe\">\n",
       "  <thead>\n",
       "    <tr style=\"text-align: right;\">\n",
       "      <th></th>\n",
       "      <th>RECORD_TIME</th>\n",
       "    </tr>\n",
       "  </thead>\n",
       "  <tbody>\n",
       "    <tr>\n",
       "      <th>0</th>\n",
       "      <td>2021-10-26 14:00</td>\n",
       "    </tr>\n",
       "    <tr>\n",
       "      <th>1</th>\n",
       "      <td>2021-10-26 13:30</td>\n",
       "    </tr>\n",
       "  </tbody>\n",
       "</table>\n",
       "</div>"
      ],
      "text/plain": [
       "        RECORD_TIME\n",
       "0  2021-10-26 14:00\n",
       "1  2021-10-26 13:30"
      ]
     },
     "execution_count": 3,
     "metadata": {},
     "output_type": "execute_result"
    }
   ],
   "source": [
    "timestamps"
   ]
  },
  {
   "cell_type": "code",
   "execution_count": 4,
   "id": "alternate-victory",
   "metadata": {
    "execution": {
     "iopub.execute_input": "2021-10-26T12:00:08.400657Z",
     "iopub.status.busy": "2021-10-26T12:00:08.398793Z",
     "iopub.status.idle": "2021-10-26T12:00:09.344987Z",
     "shell.execute_reply": "2021-10-26T12:00:09.346378Z"
    },
    "papermill": {
     "duration": 0.976619,
     "end_time": "2021-10-26T12:00:09.346792",
     "exception": false,
     "start_time": "2021-10-26T12:00:08.370173",
     "status": "completed"
    },
    "tags": []
   },
   "outputs": [],
   "source": [
    "df = pd.read_sql(\"select * from EBAY_TOP_BERLIN where record_time in (select distinct record_time from EBAY_TOP_BERLIN order by record_time desc limit 2)\", sqlite3.connect(\"UsedObjects.db\"))"
   ]
  },
  {
   "cell_type": "code",
   "execution_count": 5,
   "id": "popular-active",
   "metadata": {
    "execution": {
     "iopub.execute_input": "2021-10-26T12:00:09.418239Z",
     "iopub.status.busy": "2021-10-26T12:00:09.406993Z",
     "iopub.status.idle": "2021-10-26T12:00:09.433757Z",
     "shell.execute_reply": "2021-10-26T12:00:09.434981Z"
    },
    "papermill": {
     "duration": 0.067731,
     "end_time": "2021-10-26T12:00:09.435373",
     "exception": false,
     "start_time": "2021-10-26T12:00:09.367642",
     "status": "completed"
    },
    "tags": []
   },
   "outputs": [],
   "source": [
    "df_pivot = df.pivot_table(index=\"PRODUCT\", columns = \"RECORD_TIME\", values = \"LISTING_COUNT\")"
   ]
  },
  {
   "cell_type": "code",
   "execution_count": 6,
   "id": "union-huntington",
   "metadata": {
    "execution": {
     "iopub.execute_input": "2021-10-26T12:00:09.491637Z",
     "iopub.status.busy": "2021-10-26T12:00:09.489582Z",
     "iopub.status.idle": "2021-10-26T12:00:09.494858Z",
     "shell.execute_reply": "2021-10-26T12:00:09.496142Z"
    },
    "papermill": {
     "duration": 0.04019,
     "end_time": "2021-10-26T12:00:09.496552",
     "exception": false,
     "start_time": "2021-10-26T12:00:09.456362",
     "status": "completed"
    },
    "tags": []
   },
   "outputs": [],
   "source": [
    "df_pivot.columns = [\"stamp_1\", \"stamp_2\"]\n",
    "df_pivot_diff = df_pivot.diff(axis=1)"
   ]
  },
  {
   "cell_type": "code",
   "execution_count": 7,
   "id": "fifth-motion",
   "metadata": {
    "execution": {
     "iopub.execute_input": "2021-10-26T12:00:09.552395Z",
     "iopub.status.busy": "2021-10-26T12:00:09.549732Z",
     "iopub.status.idle": "2021-10-26T12:00:11.015810Z",
     "shell.execute_reply": "2021-10-26T12:00:11.017361Z"
    },
    "papermill": {
     "duration": 1.500576,
     "end_time": "2021-10-26T12:00:11.017832",
     "exception": false,
     "start_time": "2021-10-26T12:00:09.517256",
     "status": "completed"
    },
    "tags": []
   },
   "outputs": [
    {
     "data": {
      "text/plain": [
       "<AxesSubplot:ylabel='PRODUCT'>"
      ]
     },
     "execution_count": 7,
     "metadata": {},
     "output_type": "execute_result"
    },
    {
     "data": {
      "image/png": "[encoded data removed]",
      "text/plain": [
       "<Figure size 432x288 with 1 Axes>"
      ]
     },
     "metadata": {
      "needs_background": "light"
     },
     "output_type": "display_data"
    }
   ],
   "source": [
    "df_pivot_diff.sort_values(\"stamp_2\", ascending = False)[\"stamp_2\"].head(10).plot.barh()"
   ]
  },
  {
   "cell_type": "code",
   "execution_count": null,
   "id": "extra-executive",
   "metadata": {
    "papermill": {
     "duration": 0.02232,
     "end_time": "2021-10-26T12:00:11.064334",
     "exception": false,
     "start_time": "2021-10-26T12:00:11.042014",
     "status": "completed"
    },
    "tags": []
   },
   "outputs": [],
   "source": []
  }
 ],
 "metadata": {
  "kernelspec": {
   "display_name": "Python 3",
   "language": "python",
   "name": "python3"
  },
  "language_info": {
   "codemirror_mode": {
    "name": "ipython",
    "version": 3
   },
   "file_extension": ".py",
   "mimetype": "text/x-python",
   "name": "python",
   "nbconvert_exporter": "python",
   "pygments_lexer": "ipython3",
   "version": "3.9.5"
  },
  "papermill": {
   "default_parameters": {},
   "duration": 7.425543,
   "end_time": "2021-10-26T12:00:11.707813",
   "environment_variables": {},
   "exception": null,
   "input_path": "eBay_Overview.ipynb",
   "output_path": "eBay_Overview.ipynb",
   "parameters": {},
   "start_time": "2021-10-26T12:00:04.282270",
   "version": "2.3.3"
  }
 },
 "nbformat": 4,
 "nbformat_minor": 5
}