{
 "cells": [
  {
   "cell_type": "code",
   "execution_count": 1,
   "id": "reverse-picking",
   "metadata": {
    "execution": {
     "iopub.execute_input": "2021-11-14T22:30:07.895668Z",
     "iopub.status.busy": "2021-11-14T22:30:07.880060Z",
     "iopub.status.idle": "2021-11-14T22:30:08.842580Z",
     "shell.execute_reply": "2021-11-14T22:30:08.844214Z"
    },
    "papermill": {
     "duration": 0.996428,
     "end_time": "2021-11-14T22:30:08.844998",
     "exception": false,
     "start_time": "2021-11-14T22:30:07.848570",
     "status": "completed"
    },
    "tags": []
   },
   "outputs": [],
   "source": [
    "import pandas as pd\n",
    "import sqlite3"
   ]
  },
  {
   "cell_type": "code",
   "execution_count": 2,
   "id": "innovative-syndrome",
   "metadata": {
    "execution": {
     "iopub.execute_input": "2021-11-14T22:30:08.913760Z",
     "iopub.status.busy": "2021-11-14T22:30:08.911162Z",
     "iopub.status.idle": "2021-11-14T22:30:09.720767Z",
     "shell.execute_reply": "2021-11-14T22:30:09.723169Z"
    },
    "papermill": {
     "duration": 0.844146,
     "end_time": "2021-11-14T22:30:09.724007",
     "exception": false,
     "start_time": "2021-11-14T22:30:08.879861",
     "status": "completed"
    },
    "tags": []
   },
   "outputs": [],
   "source": [
    "timestamps = pd.read_sql(\"select distinct record_time from EBAY_TOP_BERLIN order by record_time desc limit 2\", sqlite3.connect(\"UsedObjects.db\"))"
   ]
  },
  {
   "cell_type": "code",
   "execution_count": 3,
   "id": "periodic-identification",
   "metadata": {
    "execution": {
     "iopub.execute_input": "2021-11-14T22:30:09.803909Z",
     "iopub.status.busy": "2021-11-14T22:30:09.797802Z",
     "iopub.status.idle": "2021-11-14T22:30:09.820774Z",
     "shell.execute_reply": "2021-11-14T22:30:09.822296Z"
    },
    "papermill": {
     "duration": 0.077979,
     "end_time": "2021-11-14T22:30:09.822826",
     "exception": false,
     "start_time": "2021-11-14T22:30:09.744847",
     "status": "completed"
    },
    "tags": []
   },
   "outputs": [
    {
     "data": {
      "text/html": [
       "<div>\n",
       "<style scoped>\n",
       "    .dataframe tbody tr th:only-of-type {\n",
       "        vertical-align: middle;\n",
       "    }\n",
       "\n",
       "    .dataframe tbody tr th {\n",
       "        vertical-align: top;\n",
       "    }\n",
       "\n",
       "    .dataframe thead th {\n",
       "        text-align: right;\n",
       "    }\n",
       "</style>\n",
       "<table border=\"1\" class=\"dataframe\">\n",
       "  <thead>\n",
       "    <tr style=\"text-align: right;\">\n",
       "      <th></th>\n",
       "      <th>RECORD_TIME</th>\n",
       "    </tr>\n",
       "  </thead>\n",
       "  <tbody>\n",
       "    <tr>\n",
       "      <th>0</th>\n",
       "      <td>2021-11-14 23:30</td>\n",
       "    </tr>\n",
       "    <tr>\n",
       "      <th>1</th>\n",
       "      <td>2021-11-14 23:00</td>\n",
       "    </tr>\n",
       "  </tbody>\n",
       "</table>\n",
       "</div>"
      ],
      "text/plain": [
       "        RECORD_TIME\n",
       "0  2021-11-14 23:30\n",
       "1  2021-11-14 23:00"
      ]
     },
     "execution_count": 3,
     "metadata": {},
     "output_type": "execute_result"
    }
   ],
   "source": [
    "timestamps"
   ]
  },
  {
   "cell_type": "code",
   "execution_count": 4,
   "id": "alternate-victory",
   "metadata": {
    "execution": {
     "iopub.execute_input": "2021-11-14T22:30:09.877629Z",
     "iopub.status.busy": "2021-11-14T22:30:09.875333Z",
     "iopub.status.idle": "2021-11-14T22:30:11.083966Z",
     "shell.execute_reply": "2021-11-14T22:30:11.087344Z"
    },
    "papermill": {
     "duration": 1.244794,
     "end_time": "2021-11-14T22:30:11.088229",
     "exception": false,
     "start_time": "2021-11-14T22:30:09.843435",
     "status": "completed"
    },
    "tags": []
   },
   "outputs": [],
   "source": [
    "df = pd.read_sql(\"select * from EBAY_TOP_BERLIN where record_time in (select distinct record_time from EBAY_TOP_BERLIN order by record_time desc limit 2)\", sqlite3.connect(\"UsedObjects.db\"))"
   ]
  },
  {
   "cell_type": "code",
   "execution_count": 5,
   "id": "popular-active",
   "metadata": {
    "execution": {
     "iopub.execute_input": "2021-11-14T22:30:11.189428Z",
     "iopub.status.busy": "2021-11-14T22:30:11.181902Z",
     "iopub.status.idle": "2021-11-14T22:30:11.208564Z",
     "shell.execute_reply": "2021-11-14T22:30:11.210210Z"
    },
    "papermill": {
     "duration": 0.089828,
     "end_time": "2021-11-14T22:30:11.210738",
     "exception": false,
     "start_time": "2021-11-14T22:30:11.120910",
     "status": "completed"
    },
    "tags": []
   },
   "outputs": [],
   "source": [
    "df_pivot = df.pivot_table(index=\"PRODUCT\", columns = \"RECORD_TIME\", values = \"LISTING_COUNT\")"
   ]
  },
  {
   "cell_type": "code",
   "execution_count": 6,
   "id": "union-huntington",
   "metadata": {
    "execution": {
     "iopub.execute_input": "2021-11-14T22:30:11.272776Z",
     "iopub.status.busy": "2021-11-14T22:30:11.270390Z",
     "iopub.status.idle": "2021-11-14T22:30:11.276370Z",
     "shell.execute_reply": "2021-11-14T22:30:11.277904Z"
    },
    "papermill": {
     "duration": 0.046229,
     "end_time": "2021-11-14T22:30:11.278377",
     "exception": false,
     "start_time": "2021-11-14T22:30:11.232148",
     "status": "completed"
    },
    "tags": []
   },
   "outputs": [],
   "source": [
    "df_pivot.columns = [\"stamp_1\", \"stamp_2\"]\n",
    "df_pivot_diff = df_pivot.diff(axis=1)"
   ]
  },
  {
   "cell_type": "code",
   "execution_count": 7,
   "id": "fifth-motion",
   "metadata": {
    "execution": {
     "iopub.execute_input": "2021-11-14T22:30:11.334748Z",
     "iopub.status.busy": "2021-11-14T22:30:11.332362Z",
     "iopub.status.idle": "2021-11-14T22:30:13.251235Z",
     "shell.execute_reply": "2021-11-14T22:30:13.253442Z"
    },
    "papermill": {
     "duration": 1.955716,
     "end_time": "2021-11-14T22:30:13.254085",
     "exception": false,
     "start_time": "2021-11-14T22:30:11.298369",
     "status": "completed"
    },
    "tags": []
   },
   "outputs": [
    {
     "data": {
      "text/plain": [
       "<AxesSubplot:ylabel='PRODUCT'>"
      ]
     },
     "execution_count": 7,
     "metadata": {},
     "output_type": "execute_result"
    },
    {
     "data": {
      "image/png": "[encoded data removed]",
      "text/plain": [
       "<Figure size 432x288 with 1 Axes>"
      ]
     },
     "metadata": {
      "needs_background": "light"
     },
     "output_type": "display_data"
    }
   ],
   "source": [
    "df_pivot_diff.sort_values(\"stamp_2\", ascending = False)[\"stamp_2\"].head(10).plot.barh()"
   ]
  },
  {
   "cell_type": "code",
   "execution_count": null,
   "id": "extra-executive",
   "metadata": {
    "papermill": {
     "duration": 0.023035,
     "end_time": "2021-11-14T22:30:13.301919",
     "exception": false,
     "start_time": "2021-11-14T22:30:13.278884",
     "status": "completed"
    },
    "tags": []
   },
   "outputs": [],
   "source": []
  }
 ],
 "metadata": {
  "kernelspec": {
   "display_name": "Python 3",
   "language": "python",
   "name": "python3"
  },
  "language_info": {
   "codemirror_mode": {
    "name": "ipython",
    "version": 3
   },
   "file_extension": ".py",
   "mimetype": "text/x-python",
   "name": "python",
   "nbconvert_exporter": "python",
   "pygments_lexer": "ipython3",
   "version": "3.9.5"
  },
  "papermill": {
   "default_parameters": {},
   "duration": 9.934327,
   "end_time": "2021-11-14T22:30:15.071835",
   "environment_variables": {},
   "exception": null,
   "input_path": "eBay_Overview.ipynb",
   "output_path": "eBay_Overview.ipynb",
   "parameters": {},
   "start_time": "2021-11-14T22:30:05.137508",
   "version": "2.3.3"
  }
 },
 "nbformat": 4,
 "nbformat_minor": 5
}