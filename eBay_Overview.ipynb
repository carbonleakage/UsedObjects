{
 "cells": [
  {
   "cell_type": "code",
   "execution_count": 1,
   "id": "reverse-picking",
   "metadata": {
    "execution": {
     "iopub.execute_input": "2021-11-01T03:00:07.007222Z",
     "iopub.status.busy": "2021-11-01T03:00:07.005271Z",
     "iopub.status.idle": "2021-11-01T03:00:07.810369Z",
     "shell.execute_reply": "2021-11-01T03:00:07.811632Z"
    },
    "papermill": {
     "duration": 0.85613,
     "end_time": "2021-11-01T03:00:07.812241",
     "exception": false,
     "start_time": "2021-11-01T03:00:06.956111",
     "status": "completed"
    },
    "tags": []
   },
   "outputs": [],
   "source": [
    "import pandas as pd\n",
    "import sqlite3"
   ]
  },
  {
   "cell_type": "code",
   "execution_count": 2,
   "id": "innovative-syndrome",
   "metadata": {
    "execution": {
     "iopub.execute_input": "2021-11-01T03:00:07.862523Z",
     "iopub.status.busy": "2021-11-01T03:00:07.860539Z",
     "iopub.status.idle": "2021-11-01T03:00:08.553458Z",
     "shell.execute_reply": "2021-11-01T03:00:08.554684Z"
    },
    "papermill": {
     "duration": 0.722092,
     "end_time": "2021-11-01T03:00:08.555080",
     "exception": false,
     "start_time": "2021-11-01T03:00:07.832988",
     "status": "completed"
    },
    "tags": []
   },
   "outputs": [],
   "source": [
    "timestamps = pd.read_sql(\"select distinct record_time from EBAY_TOP_BERLIN order by record_time desc limit 2\", sqlite3.connect(\"UsedObjects.db\"))"
   ]
  },
  {
   "cell_type": "code",
   "execution_count": 3,
   "id": "periodic-identification",
   "metadata": {
    "execution": {
     "iopub.execute_input": "2021-11-01T03:00:08.619743Z",
     "iopub.status.busy": "2021-11-01T03:00:08.617723Z",
     "iopub.status.idle": "2021-11-01T03:00:08.637304Z",
     "shell.execute_reply": "2021-11-01T03:00:08.638468Z"
    },
    "papermill": {
     "duration": 0.064109,
     "end_time": "2021-11-01T03:00:08.638880",
     "exception": false,
     "start_time": "2021-11-01T03:00:08.574771",
     "status": "completed"
    },
    "tags": []
   },
   "outputs": [
    {
     "data": {
      "text/html": [
       "<div>\n",
       "<style scoped>\n",
       "    .dataframe tbody tr th:only-of-type {\n",
       "        vertical-align: middle;\n",
       "    }\n",
       "\n",
       "    .dataframe tbody tr th {\n",
       "        vertical-align: top;\n",
       "    }\n",
       "\n",
       "    .dataframe thead th {\n",
       "        text-align: right;\n",
       "    }\n",
       "</style>\n",
       "<table border=\"1\" class=\"dataframe\">\n",
       "  <thead>\n",
       "    <tr style=\"text-align: right;\">\n",
       "      <th></th>\n",
       "      <th>RECORD_TIME</th>\n",
       "    </tr>\n",
       "  </thead>\n",
       "  <tbody>\n",
       "    <tr>\n",
       "      <th>0</th>\n",
       "      <td>2021-11-01 04:00</td>\n",
       "    </tr>\n",
       "    <tr>\n",
       "      <th>1</th>\n",
       "      <td>2021-11-01 03:30</td>\n",
       "    </tr>\n",
       "  </tbody>\n",
       "</table>\n",
       "</div>"
      ],
      "text/plain": [
       "        RECORD_TIME\n",
       "0  2021-11-01 04:00\n",
       "1  2021-11-01 03:30"
      ]
     },
     "execution_count": 3,
     "metadata": {},
     "output_type": "execute_result"
    }
   ],
   "source": [
    "timestamps"
   ]
  },
  {
   "cell_type": "code",
   "execution_count": 4,
   "id": "alternate-victory",
   "metadata": {
    "execution": {
     "iopub.execute_input": "2021-11-01T03:00:08.693033Z",
     "iopub.status.busy": "2021-11-01T03:00:08.690721Z",
     "iopub.status.idle": "2021-11-01T03:00:09.698287Z",
     "shell.execute_reply": "2021-11-01T03:00:09.699562Z"
    },
    "papermill": {
     "duration": 1.037918,
     "end_time": "2021-11-01T03:00:09.699973",
     "exception": false,
     "start_time": "2021-11-01T03:00:08.662055",
     "status": "completed"
    },
    "tags": []
   },
   "outputs": [],
   "source": [
    "df = pd.read_sql(\"select * from EBAY_TOP_BERLIN where record_time in (select distinct record_time from EBAY_TOP_BERLIN order by record_time desc limit 2)\", sqlite3.connect(\"UsedObjects.db\"))"
   ]
  },
  {
   "cell_type": "code",
   "execution_count": 5,
   "id": "popular-active",
   "metadata": {
    "execution": {
     "iopub.execute_input": "2021-11-01T03:00:09.765871Z",
     "iopub.status.busy": "2021-11-01T03:00:09.758083Z",
     "iopub.status.idle": "2021-11-01T03:00:09.786302Z",
     "shell.execute_reply": "2021-11-01T03:00:09.787586Z"
    },
    "papermill": {
     "duration": 0.067381,
     "end_time": "2021-11-01T03:00:09.788003",
     "exception": false,
     "start_time": "2021-11-01T03:00:09.720622",
     "status": "completed"
    },
    "tags": []
   },
   "outputs": [],
   "source": [
    "df_pivot = df.pivot_table(index=\"PRODUCT\", columns = \"RECORD_TIME\", values = \"LISTING_COUNT\")"
   ]
  },
  {
   "cell_type": "code",
   "execution_count": 6,
   "id": "union-huntington",
   "metadata": {
    "execution": {
     "iopub.execute_input": "2021-11-01T03:00:09.844294Z",
     "iopub.status.busy": "2021-11-01T03:00:09.842260Z",
     "iopub.status.idle": "2021-11-01T03:00:09.847739Z",
     "shell.execute_reply": "2021-11-01T03:00:09.849009Z"
    },
    "papermill": {
     "duration": 0.0413,
     "end_time": "2021-11-01T03:00:09.849443",
     "exception": false,
     "start_time": "2021-11-01T03:00:09.808143",
     "status": "completed"
    },
    "tags": []
   },
   "outputs": [],
   "source": [
    "df_pivot.columns = [\"stamp_1\", \"stamp_2\"]\n",
    "df_pivot_diff = df_pivot.diff(axis=1)"
   ]
  },
  {
   "cell_type": "code",
   "execution_count": 7,
   "id": "fifth-motion",
   "metadata": {
    "execution": {
     "iopub.execute_input": "2021-11-01T03:00:09.906766Z",
     "iopub.status.busy": "2021-11-01T03:00:09.904195Z",
     "iopub.status.idle": "2021-11-01T03:00:11.411492Z",
     "shell.execute_reply": "2021-11-01T03:00:11.412832Z"
    },
    "papermill": {
     "duration": 1.54088,
     "end_time": "2021-11-01T03:00:11.413254",
     "exception": false,
     "start_time": "2021-11-01T03:00:09.872374",
     "status": "completed"
    },
    "tags": []
   },
   "outputs": [
    {
     "data": {
      "text/plain": [
       "<AxesSubplot:ylabel='PRODUCT'>"
      ]
     },
     "execution_count": 7,
     "metadata": {},
     "output_type": "execute_result"
    },
    {
     "data": {
      "image/png": "[encoded data removed]",
      "text/plain": [
       "<Figure size 432x288 with 1 Axes>"
      ]
     },
     "metadata": {
      "needs_background": "light"
     },
     "output_type": "display_data"
    }
   ],
   "source": [
    "df_pivot_diff.sort_values(\"stamp_2\", ascending = False)[\"stamp_2\"].head(10).plot.barh()"
   ]
  },
  {
   "cell_type": "code",
   "execution_count": null,
   "id": "extra-executive",
   "metadata": {
    "papermill": {
     "duration": 0.022019,
     "end_time": "2021-11-01T03:00:11.459246",
     "exception": false,
     "start_time": "2021-11-01T03:00:11.437227",
     "status": "completed"
    },
    "tags": []
   },
   "outputs": [],
   "source": []
  }
 ],
 "metadata": {
  "kernelspec": {
   "display_name": "Python 3",
   "language": "python",
   "name": "python3"
  },
  "language_info": {
   "codemirror_mode": {
    "name": "ipython",
    "version": 3
   },
   "file_extension": ".py",
   "mimetype": "text/x-python",
   "name": "python",
   "nbconvert_exporter": "python",
   "pygments_lexer": "ipython3",
   "version": "3.9.5"
  },
  "papermill": {
   "default_parameters": {},
   "duration": 7.699121,
   "end_time": "2021-11-01T03:00:12.102484",
   "environment_variables": {},
   "exception": null,
   "input_path": "eBay_Overview.ipynb",
   "output_path": "eBay_Overview.ipynb",
   "parameters": {},
   "start_time": "2021-11-01T03:00:04.403363",
   "version": "2.3.3"
  }
 },
 "nbformat": 4,
 "nbformat_minor": 5
}