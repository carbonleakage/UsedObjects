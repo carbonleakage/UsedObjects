{
 "cells": [
  {
   "cell_type": "code",
   "execution_count": 1,
   "id": "reverse-picking",
   "metadata": {
    "execution": {
     "iopub.execute_input": "2021-09-28T13:00:07.332073Z",
     "iopub.status.busy": "2021-09-28T13:00:07.330062Z",
     "iopub.status.idle": "2021-09-28T13:00:08.141643Z",
     "shell.execute_reply": "2021-09-28T13:00:08.143003Z"
    },
    "papermill": {
     "duration": 0.861326,
     "end_time": "2021-09-28T13:00:08.143663",
     "exception": false,
     "start_time": "2021-09-28T13:00:07.282337",
     "status": "completed"
    },
    "tags": []
   },
   "outputs": [],
   "source": [
    "import pandas as pd\n",
    "import sqlite3"
   ]
  },
  {
   "cell_type": "code",
   "execution_count": 2,
   "id": "innovative-syndrome",
   "metadata": {
    "execution": {
     "iopub.execute_input": "2021-09-28T13:00:08.195572Z",
     "iopub.status.busy": "2021-09-28T13:00:08.193544Z",
     "iopub.status.idle": "2021-09-28T13:00:08.591622Z",
     "shell.execute_reply": "2021-09-28T13:00:08.592842Z"
    },
    "papermill": {
     "duration": 0.428258,
     "end_time": "2021-09-28T13:00:08.593241",
     "exception": false,
     "start_time": "2021-09-28T13:00:08.164983",
     "status": "completed"
    },
    "tags": []
   },
   "outputs": [],
   "source": [
    "timestamps = pd.read_sql(\"select distinct record_time from EBAY_TOP_BERLIN order by record_time desc limit 2\", sqlite3.connect(\"UsedObjects.db\"))"
   ]
  },
  {
   "cell_type": "code",
   "execution_count": 3,
   "id": "periodic-identification",
   "metadata": {
    "execution": {
     "iopub.execute_input": "2021-09-28T13:00:08.662053Z",
     "iopub.status.busy": "2021-09-28T13:00:08.660044Z",
     "iopub.status.idle": "2021-09-28T13:00:08.682132Z",
     "shell.execute_reply": "2021-09-28T13:00:08.683795Z"
    },
    "papermill": {
     "duration": 0.068425,
     "end_time": "2021-09-28T13:00:08.684295",
     "exception": false,
     "start_time": "2021-09-28T13:00:08.615870",
     "status": "completed"
    },
    "tags": []
   },
   "outputs": [
    {
     "data": {
      "text/html": [
       "<div>\n",
       "<style scoped>\n",
       "    .dataframe tbody tr th:only-of-type {\n",
       "        vertical-align: middle;\n",
       "    }\n",
       "\n",
       "    .dataframe tbody tr th {\n",
       "        vertical-align: top;\n",
       "    }\n",
       "\n",
       "    .dataframe thead th {\n",
       "        text-align: right;\n",
       "    }\n",
       "</style>\n",
       "<table border=\"1\" class=\"dataframe\">\n",
       "  <thead>\n",
       "    <tr style=\"text-align: right;\">\n",
       "      <th></th>\n",
       "      <th>RECORD_TIME</th>\n",
       "    </tr>\n",
       "  </thead>\n",
       "  <tbody>\n",
       "    <tr>\n",
       "      <th>0</th>\n",
       "      <td>2021-09-28 15:00</td>\n",
       "    </tr>\n",
       "    <tr>\n",
       "      <th>1</th>\n",
       "      <td>2021-09-28 14:30</td>\n",
       "    </tr>\n",
       "  </tbody>\n",
       "</table>\n",
       "</div>"
      ],
      "text/plain": [
       "        RECORD_TIME\n",
       "0  2021-09-28 15:00\n",
       "1  2021-09-28 14:30"
      ]
     },
     "execution_count": 3,
     "metadata": {},
     "output_type": "execute_result"
    }
   ],
   "source": [
    "timestamps"
   ]
  },
  {
   "cell_type": "code",
   "execution_count": 4,
   "id": "alternate-victory",
   "metadata": {
    "execution": {
     "iopub.execute_input": "2021-09-28T13:00:08.737085Z",
     "iopub.status.busy": "2021-09-28T13:00:08.734915Z",
     "iopub.status.idle": "2021-09-28T13:00:09.334641Z",
     "shell.execute_reply": "2021-09-28T13:00:09.336875Z"
    },
    "papermill": {
     "duration": 0.631112,
     "end_time": "2021-09-28T13:00:09.337321",
     "exception": false,
     "start_time": "2021-09-28T13:00:08.706209",
     "status": "completed"
    },
    "tags": []
   },
   "outputs": [],
   "source": [
    "df = pd.read_sql(\"select * from EBAY_TOP_BERLIN where record_time in (select distinct record_time from EBAY_TOP_BERLIN order by record_time desc limit 2)\", sqlite3.connect(\"UsedObjects.db\"))"
   ]
  },
  {
   "cell_type": "code",
   "execution_count": 5,
   "id": "popular-active",
   "metadata": {
    "execution": {
     "iopub.execute_input": "2021-09-28T13:00:09.415982Z",
     "iopub.status.busy": "2021-09-28T13:00:09.404795Z",
     "iopub.status.idle": "2021-09-28T13:00:09.432558Z",
     "shell.execute_reply": "2021-09-28T13:00:09.433756Z"
    },
    "papermill": {
     "duration": 0.071049,
     "end_time": "2021-09-28T13:00:09.434150",
     "exception": false,
     "start_time": "2021-09-28T13:00:09.363101",
     "status": "completed"
    },
    "tags": []
   },
   "outputs": [],
   "source": [
    "df_pivot = df.pivot_table(index=\"PRODUCT\", columns = \"RECORD_TIME\", values = \"LISTING_COUNT\")"
   ]
  },
  {
   "cell_type": "code",
   "execution_count": 6,
   "id": "union-huntington",
   "metadata": {
    "execution": {
     "iopub.execute_input": "2021-09-28T13:00:09.489972Z",
     "iopub.status.busy": "2021-09-28T13:00:09.487937Z",
     "iopub.status.idle": "2021-09-28T13:00:09.493215Z",
     "shell.execute_reply": "2021-09-28T13:00:09.494471Z"
    },
    "papermill": {
     "duration": 0.04125,
     "end_time": "2021-09-28T13:00:09.495583",
     "exception": false,
     "start_time": "2021-09-28T13:00:09.454333",
     "status": "completed"
    },
    "tags": []
   },
   "outputs": [],
   "source": [
    "df_pivot.columns = [\"stamp_1\", \"stamp_2\"]\n",
    "df_pivot_diff = df_pivot.diff(axis=1)"
   ]
  },
  {
   "cell_type": "code",
   "execution_count": 7,
   "id": "fifth-motion",
   "metadata": {
    "execution": {
     "iopub.execute_input": "2021-09-28T13:00:09.552492Z",
     "iopub.status.busy": "2021-09-28T13:00:09.549760Z",
     "iopub.status.idle": "2021-09-28T13:00:11.063303Z",
     "shell.execute_reply": "2021-09-28T13:00:11.064838Z"
    },
    "papermill": {
     "duration": 1.547619,
     "end_time": "2021-09-28T13:00:11.065302",
     "exception": false,
     "start_time": "2021-09-28T13:00:09.517683",
     "status": "completed"
    },
    "tags": []
   },
   "outputs": [
    {
     "data": {
      "text/plain": [
       "<AxesSubplot:ylabel='PRODUCT'>"
      ]
     },
     "execution_count": 7,
     "metadata": {},
     "output_type": "execute_result"
    },
    {
     "data": {
      "image/png": "[encoded data removed]",
      "text/plain": [
       "<Figure size 432x288 with 1 Axes>"
      ]
     },
     "metadata": {
      "needs_background": "light"
     },
     "output_type": "display_data"
    }
   ],
   "source": [
    "df_pivot_diff.sort_values(\"stamp_2\", ascending = False)[\"stamp_2\"].head(10).plot.barh()"
   ]
  },
  {
   "cell_type": "code",
   "execution_count": null,
   "id": "extra-executive",
   "metadata": {
    "papermill": {
     "duration": 0.022399,
     "end_time": "2021-09-28T13:00:11.112430",
     "exception": false,
     "start_time": "2021-09-28T13:00:11.090031",
     "status": "completed"
    },
    "tags": []
   },
   "outputs": [],
   "source": []
  }
 ],
 "metadata": {
  "kernelspec": {
   "display_name": "Python 3",
   "language": "python",
   "name": "python3"
  },
  "language_info": {
   "codemirror_mode": {
    "name": "ipython",
    "version": 3
   },
   "file_extension": ".py",
   "mimetype": "text/x-python",
   "name": "python",
   "nbconvert_exporter": "python",
   "pygments_lexer": "ipython3",
   "version": "3.9.5"
  },
  "papermill": {
   "default_parameters": {},
   "duration": 7.832349,
   "end_time": "2021-09-28T13:00:12.703821",
   "environment_variables": {},
   "exception": null,
   "input_path": "eBay_Overview.ipynb",
   "output_path": "eBay_Overview.ipynb",
   "parameters": {},
   "start_time": "2021-09-28T13:00:04.871472",
   "version": "2.3.3"
  }
 },
 "nbformat": 4,
 "nbformat_minor": 5
}