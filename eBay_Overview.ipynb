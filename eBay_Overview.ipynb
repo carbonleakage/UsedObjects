{
 "cells": [
  {
   "cell_type": "code",
   "execution_count": 1,
   "id": "reverse-picking",
   "metadata": {
    "execution": {
     "iopub.execute_input": "2021-09-15T10:00:06.720678Z",
     "iopub.status.busy": "2021-09-15T10:00:06.718658Z",
     "iopub.status.idle": "2021-09-15T10:00:07.523578Z",
     "shell.execute_reply": "2021-09-15T10:00:07.524855Z"
    },
    "papermill": {
     "duration": 0.85677,
     "end_time": "2021-09-15T10:00:07.525487",
     "exception": false,
     "start_time": "2021-09-15T10:00:06.668717",
     "status": "completed"
    },
    "tags": []
   },
   "outputs": [],
   "source": [
    "import pandas as pd\n",
    "import sqlite3"
   ]
  },
  {
   "cell_type": "code",
   "execution_count": 2,
   "id": "innovative-syndrome",
   "metadata": {
    "execution": {
     "iopub.execute_input": "2021-09-15T10:00:07.576045Z",
     "iopub.status.busy": "2021-09-15T10:00:07.574073Z",
     "iopub.status.idle": "2021-09-15T10:00:07.860588Z",
     "shell.execute_reply": "2021-09-15T10:00:07.861796Z"
    },
    "papermill": {
     "duration": 0.316037,
     "end_time": "2021-09-15T10:00:07.862194",
     "exception": false,
     "start_time": "2021-09-15T10:00:07.546157",
     "status": "completed"
    },
    "tags": []
   },
   "outputs": [],
   "source": [
    "timestamps = pd.read_sql(\"select distinct record_time from EBAY_TOP_BERLIN order by record_time desc limit 2\", sqlite3.connect(\"UsedObjects.db\"))"
   ]
  },
  {
   "cell_type": "code",
   "execution_count": 3,
   "id": "periodic-identification",
   "metadata": {
    "execution": {
     "iopub.execute_input": "2021-09-15T10:00:07.926704Z",
     "iopub.status.busy": "2021-09-15T10:00:07.924672Z",
     "iopub.status.idle": "2021-09-15T10:00:07.945029Z",
     "shell.execute_reply": "2021-09-15T10:00:07.946246Z"
    },
    "papermill": {
     "duration": 0.064949,
     "end_time": "2021-09-15T10:00:07.946646",
     "exception": false,
     "start_time": "2021-09-15T10:00:07.881697",
     "status": "completed"
    },
    "tags": []
   },
   "outputs": [
    {
     "data": {
      "text/html": [
       "<div>\n",
       "<style scoped>\n",
       "    .dataframe tbody tr th:only-of-type {\n",
       "        vertical-align: middle;\n",
       "    }\n",
       "\n",
       "    .dataframe tbody tr th {\n",
       "        vertical-align: top;\n",
       "    }\n",
       "\n",
       "    .dataframe thead th {\n",
       "        text-align: right;\n",
       "    }\n",
       "</style>\n",
       "<table border=\"1\" class=\"dataframe\">\n",
       "  <thead>\n",
       "    <tr style=\"text-align: right;\">\n",
       "      <th></th>\n",
       "      <th>RECORD_TIME</th>\n",
       "    </tr>\n",
       "  </thead>\n",
       "  <tbody>\n",
       "    <tr>\n",
       "      <th>0</th>\n",
       "      <td>2021-09-15 12:00</td>\n",
       "    </tr>\n",
       "    <tr>\n",
       "      <th>1</th>\n",
       "      <td>2021-09-15 11:30</td>\n",
       "    </tr>\n",
       "  </tbody>\n",
       "</table>\n",
       "</div>"
      ],
      "text/plain": [
       "        RECORD_TIME\n",
       "0  2021-09-15 12:00\n",
       "1  2021-09-15 11:30"
      ]
     },
     "execution_count": 3,
     "metadata": {},
     "output_type": "execute_result"
    }
   ],
   "source": [
    "timestamps"
   ]
  },
  {
   "cell_type": "code",
   "execution_count": 4,
   "id": "alternate-victory",
   "metadata": {
    "execution": {
     "iopub.execute_input": "2021-09-15T10:00:07.999186Z",
     "iopub.status.busy": "2021-09-15T10:00:07.996839Z",
     "iopub.status.idle": "2021-09-15T10:00:08.424767Z",
     "shell.execute_reply": "2021-09-15T10:00:08.425966Z"
    },
    "papermill": {
     "duration": 0.45806,
     "end_time": "2021-09-15T10:00:08.426367",
     "exception": false,
     "start_time": "2021-09-15T10:00:07.968307",
     "status": "completed"
    },
    "tags": []
   },
   "outputs": [],
   "source": [
    "df = pd.read_sql(\"select * from EBAY_TOP_BERLIN where record_time in (select distinct record_time from EBAY_TOP_BERLIN order by record_time desc limit 2)\", sqlite3.connect(\"UsedObjects.db\"))"
   ]
  },
  {
   "cell_type": "code",
   "execution_count": 5,
   "id": "popular-active",
   "metadata": {
    "execution": {
     "iopub.execute_input": "2021-09-15T10:00:08.526092Z",
     "iopub.status.busy": "2021-09-15T10:00:08.514946Z",
     "iopub.status.idle": "2021-09-15T10:00:08.542427Z",
     "shell.execute_reply": "2021-09-15T10:00:08.543721Z"
    },
    "papermill": {
     "duration": 0.074976,
     "end_time": "2021-09-15T10:00:08.544130",
     "exception": false,
     "start_time": "2021-09-15T10:00:08.469154",
     "status": "completed"
    },
    "tags": []
   },
   "outputs": [],
   "source": [
    "df_pivot = df.pivot_table(index=\"PRODUCT\", columns = \"RECORD_TIME\", values = \"LISTING_COUNT\")"
   ]
  },
  {
   "cell_type": "code",
   "execution_count": 6,
   "id": "union-huntington",
   "metadata": {
    "execution": {
     "iopub.execute_input": "2021-09-15T10:00:08.601563Z",
     "iopub.status.busy": "2021-09-15T10:00:08.599399Z",
     "iopub.status.idle": "2021-09-15T10:00:08.605060Z",
     "shell.execute_reply": "2021-09-15T10:00:08.606539Z"
    },
    "papermill": {
     "duration": 0.041452,
     "end_time": "2021-09-15T10:00:08.607083",
     "exception": false,
     "start_time": "2021-09-15T10:00:08.565631",
     "status": "completed"
    },
    "tags": []
   },
   "outputs": [],
   "source": [
    "df_pivot.columns = [\"stamp_1\", \"stamp_2\"]\n",
    "df_pivot_diff = df_pivot.diff(axis=1)"
   ]
  },
  {
   "cell_type": "code",
   "execution_count": 7,
   "id": "fifth-motion",
   "metadata": {
    "execution": {
     "iopub.execute_input": "2021-09-15T10:00:08.662479Z",
     "iopub.status.busy": "2021-09-15T10:00:08.660141Z",
     "iopub.status.idle": "2021-09-15T10:00:10.139540Z",
     "shell.execute_reply": "2021-09-15T10:00:10.140848Z"
    },
    "papermill": {
     "duration": 1.512928,
     "end_time": "2021-09-15T10:00:10.141271",
     "exception": false,
     "start_time": "2021-09-15T10:00:08.628343",
     "status": "completed"
    },
    "tags": []
   },
   "outputs": [
    {
     "data": {
      "text/plain": [
       "<AxesSubplot:ylabel='PRODUCT'>"
      ]
     },
     "execution_count": 7,
     "metadata": {},
     "output_type": "execute_result"
    },
    {
     "data": {
      "image/png": "[encoded data removed]",
      "text/plain": [
       "<Figure size 432x288 with 1 Axes>"
      ]
     },
     "metadata": {
      "needs_background": "light"
     },
     "output_type": "display_data"
    }
   ],
   "source": [
    "df_pivot_diff.sort_values(\"stamp_2\", ascending = False)[\"stamp_2\"].head(10).plot.barh()"
   ]
  },
  {
   "cell_type": "code",
   "execution_count": null,
   "id": "extra-executive",
   "metadata": {
    "papermill": {
     "duration": 0.022248,
     "end_time": "2021-09-15T10:00:10.188183",
     "exception": false,
     "start_time": "2021-09-15T10:00:10.165935",
     "status": "completed"
    },
    "tags": []
   },
   "outputs": [],
   "source": []
  }
 ],
 "metadata": {
  "kernelspec": {
   "display_name": "Python 3",
   "language": "python",
   "name": "python3"
  },
  "language_info": {
   "codemirror_mode": {
    "name": "ipython",
    "version": 3
   },
   "file_extension": ".py",
   "mimetype": "text/x-python",
   "name": "python",
   "nbconvert_exporter": "python",
   "pygments_lexer": "ipython3",
   "version": "3.9.5"
  },
  "papermill": {
   "default_parameters": {},
   "duration": 6.562206,
   "end_time": "2021-09-15T10:00:10.829930",
   "environment_variables": {},
   "exception": null,
   "input_path": "eBay_Overview.ipynb",
   "output_path": "eBay_Overview.ipynb",
   "parameters": {},
   "start_time": "2021-09-15T10:00:04.267724",
   "version": "2.3.3"
  }
 },
 "nbformat": 4,
 "nbformat_minor": 5
}