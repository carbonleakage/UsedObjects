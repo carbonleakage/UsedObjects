{
 "cells": [
  {
   "cell_type": "code",
   "execution_count": 1,
   "id": "reverse-picking",
   "metadata": {
    "execution": {
     "iopub.execute_input": "2021-09-14T11:30:07.251245Z",
     "iopub.status.busy": "2021-09-14T11:30:07.249265Z",
     "iopub.status.idle": "2021-09-14T11:30:08.052060Z",
     "shell.execute_reply": "2021-09-14T11:30:08.050318Z"
    },
    "papermill": {
     "duration": 0.852032,
     "end_time": "2021-09-14T11:30:08.052499",
     "exception": false,
     "start_time": "2021-09-14T11:30:07.200467",
     "status": "completed"
    },
    "tags": []
   },
   "outputs": [],
   "source": [
    "import pandas as pd\n",
    "import sqlite3"
   ]
  },
  {
   "cell_type": "code",
   "execution_count": 2,
   "id": "innovative-syndrome",
   "metadata": {
    "execution": {
     "iopub.execute_input": "2021-09-14T11:30:08.103480Z",
     "iopub.status.busy": "2021-09-14T11:30:08.101442Z",
     "iopub.status.idle": "2021-09-14T11:30:08.390761Z",
     "shell.execute_reply": "2021-09-14T11:30:08.392214Z"
    },
    "papermill": {
     "duration": 0.319672,
     "end_time": "2021-09-14T11:30:08.392644",
     "exception": false,
     "start_time": "2021-09-14T11:30:08.072972",
     "status": "completed"
    },
    "tags": []
   },
   "outputs": [],
   "source": [
    "timestamps = pd.read_sql(\"select distinct record_time from EBAY_TOP_BERLIN order by record_time desc limit 2\", sqlite3.connect(\"UsedObjects.db\"))"
   ]
  },
  {
   "cell_type": "code",
   "execution_count": 3,
   "id": "periodic-identification",
   "metadata": {
    "execution": {
     "iopub.execute_input": "2021-09-14T11:30:08.456846Z",
     "iopub.status.busy": "2021-09-14T11:30:08.454775Z",
     "iopub.status.idle": "2021-09-14T11:30:08.477709Z",
     "shell.execute_reply": "2021-09-14T11:30:08.479512Z"
    },
    "papermill": {
     "duration": 0.067913,
     "end_time": "2021-09-14T11:30:08.480055",
     "exception": false,
     "start_time": "2021-09-14T11:30:08.412142",
     "status": "completed"
    },
    "tags": []
   },
   "outputs": [
    {
     "data": {
      "text/html": [
       "<div>\n",
       "<style scoped>\n",
       "    .dataframe tbody tr th:only-of-type {\n",
       "        vertical-align: middle;\n",
       "    }\n",
       "\n",
       "    .dataframe tbody tr th {\n",
       "        vertical-align: top;\n",
       "    }\n",
       "\n",
       "    .dataframe thead th {\n",
       "        text-align: right;\n",
       "    }\n",
       "</style>\n",
       "<table border=\"1\" class=\"dataframe\">\n",
       "  <thead>\n",
       "    <tr style=\"text-align: right;\">\n",
       "      <th></th>\n",
       "      <th>RECORD_TIME</th>\n",
       "    </tr>\n",
       "  </thead>\n",
       "  <tbody>\n",
       "    <tr>\n",
       "      <th>0</th>\n",
       "      <td>2021-09-14 13:30</td>\n",
       "    </tr>\n",
       "    <tr>\n",
       "      <th>1</th>\n",
       "      <td>2021-09-14 13:00</td>\n",
       "    </tr>\n",
       "  </tbody>\n",
       "</table>\n",
       "</div>"
      ],
      "text/plain": [
       "        RECORD_TIME\n",
       "0  2021-09-14 13:30\n",
       "1  2021-09-14 13:00"
      ]
     },
     "execution_count": 3,
     "metadata": {},
     "output_type": "execute_result"
    }
   ],
   "source": [
    "timestamps"
   ]
  },
  {
   "cell_type": "code",
   "execution_count": 4,
   "id": "alternate-victory",
   "metadata": {
    "execution": {
     "iopub.execute_input": "2021-09-14T11:30:08.533261Z",
     "iopub.status.busy": "2021-09-14T11:30:08.531407Z",
     "iopub.status.idle": "2021-09-14T11:30:08.967139Z",
     "shell.execute_reply": "2021-09-14T11:30:08.968677Z"
    },
    "papermill": {
     "duration": 0.466097,
     "end_time": "2021-09-14T11:30:08.969129",
     "exception": false,
     "start_time": "2021-09-14T11:30:08.503032",
     "status": "completed"
    },
    "tags": []
   },
   "outputs": [],
   "source": [
    "df = pd.read_sql(\"select * from EBAY_TOP_BERLIN where record_time in (select distinct record_time from EBAY_TOP_BERLIN order by record_time desc limit 2)\", sqlite3.connect(\"UsedObjects.db\"))"
   ]
  },
  {
   "cell_type": "code",
   "execution_count": 5,
   "id": "popular-active",
   "metadata": {
    "execution": {
     "iopub.execute_input": "2021-09-14T11:30:09.050753Z",
     "iopub.status.busy": "2021-09-14T11:30:09.035046Z",
     "iopub.status.idle": "2021-09-14T11:30:09.066033Z",
     "shell.execute_reply": "2021-09-14T11:30:09.067493Z"
    },
    "papermill": {
     "duration": 0.074821,
     "end_time": "2021-09-14T11:30:09.067914",
     "exception": false,
     "start_time": "2021-09-14T11:30:08.993093",
     "status": "completed"
    },
    "tags": []
   },
   "outputs": [],
   "source": [
    "df_pivot = df.pivot_table(index=\"PRODUCT\", columns = \"RECORD_TIME\", values = \"LISTING_COUNT\")"
   ]
  },
  {
   "cell_type": "code",
   "execution_count": 6,
   "id": "union-huntington",
   "metadata": {
    "execution": {
     "iopub.execute_input": "2021-09-14T11:30:09.126661Z",
     "iopub.status.busy": "2021-09-14T11:30:09.124230Z",
     "iopub.status.idle": "2021-09-14T11:30:09.130144Z",
     "shell.execute_reply": "2021-09-14T11:30:09.131409Z"
    },
    "papermill": {
     "duration": 0.042542,
     "end_time": "2021-09-14T11:30:09.131843",
     "exception": false,
     "start_time": "2021-09-14T11:30:09.089301",
     "status": "completed"
    },
    "tags": []
   },
   "outputs": [],
   "source": [
    "df_pivot.columns = [\"stamp_1\", \"stamp_2\"]\n",
    "df_pivot_diff = df_pivot.diff(axis=1)"
   ]
  },
  {
   "cell_type": "code",
   "execution_count": 7,
   "id": "fifth-motion",
   "metadata": {
    "execution": {
     "iopub.execute_input": "2021-09-14T11:30:09.186667Z",
     "iopub.status.busy": "2021-09-14T11:30:09.184469Z",
     "iopub.status.idle": "2021-09-14T11:30:10.681958Z",
     "shell.execute_reply": "2021-09-14T11:30:10.683696Z"
    },
    "papermill": {
     "duration": 1.530606,
     "end_time": "2021-09-14T11:30:10.684155",
     "exception": false,
     "start_time": "2021-09-14T11:30:09.153549",
     "status": "completed"
    },
    "tags": []
   },
   "outputs": [
    {
     "data": {
      "text/plain": [
       "<AxesSubplot:ylabel='PRODUCT'>"
      ]
     },
     "execution_count": 7,
     "metadata": {},
     "output_type": "execute_result"
    },
    {
     "data": {
      "image/png": "[encoded data removed]",
      "text/plain": [
       "<Figure size 432x288 with 1 Axes>"
      ]
     },
     "metadata": {
      "needs_background": "light"
     },
     "output_type": "display_data"
    }
   ],
   "source": [
    "df_pivot_diff.sort_values(\"stamp_2\", ascending = False)[\"stamp_2\"].head(10).plot.barh()"
   ]
  },
  {
   "cell_type": "code",
   "execution_count": null,
   "id": "extra-executive",
   "metadata": {
    "papermill": {
     "duration": 0.022328,
     "end_time": "2021-09-14T11:30:10.732409",
     "exception": false,
     "start_time": "2021-09-14T11:30:10.710081",
     "status": "completed"
    },
    "tags": []
   },
   "outputs": [],
   "source": []
  }
 ],
 "metadata": {
  "kernelspec": {
   "display_name": "Python 3",
   "language": "python",
   "name": "python3"
  },
  "language_info": {
   "codemirror_mode": {
    "name": "ipython",
    "version": 3
   },
   "file_extension": ".py",
   "mimetype": "text/x-python",
   "name": "python",
   "nbconvert_exporter": "python",
   "pygments_lexer": "ipython3",
   "version": "3.9.5"
  },
  "papermill": {
   "default_parameters": {},
   "duration": 6.576592,
   "end_time": "2021-09-14T11:30:11.375110",
   "environment_variables": {},
   "exception": null,
   "input_path": "eBay_Overview.ipynb",
   "output_path": "eBay_Overview.ipynb",
   "parameters": {},
   "start_time": "2021-09-14T11:30:04.798518",
   "version": "2.3.3"
  }
 },
 "nbformat": 4,
 "nbformat_minor": 5
}