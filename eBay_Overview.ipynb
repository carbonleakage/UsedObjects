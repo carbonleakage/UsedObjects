{
 "cells": [
  {
   "cell_type": "code",
   "execution_count": 1,
   "id": "reverse-picking",
   "metadata": {
    "execution": {
     "iopub.execute_input": "2021-09-24T23:00:07.184550Z",
     "iopub.status.busy": "2021-09-24T23:00:07.182558Z",
     "iopub.status.idle": "2021-09-24T23:00:07.987852Z",
     "shell.execute_reply": "2021-09-24T23:00:07.989120Z"
    },
    "papermill": {
     "duration": 0.857,
     "end_time": "2021-09-24T23:00:07.989728",
     "exception": false,
     "start_time": "2021-09-24T23:00:07.132728",
     "status": "completed"
    },
    "tags": []
   },
   "outputs": [],
   "source": [
    "import pandas as pd\n",
    "import sqlite3"
   ]
  },
  {
   "cell_type": "code",
   "execution_count": 2,
   "id": "innovative-syndrome",
   "metadata": {
    "execution": {
     "iopub.execute_input": "2021-09-24T23:00:08.043132Z",
     "iopub.status.busy": "2021-09-24T23:00:08.040757Z",
     "iopub.status.idle": "2021-09-24T23:00:08.407198Z",
     "shell.execute_reply": "2021-09-24T23:00:08.408412Z"
    },
    "papermill": {
     "duration": 0.396695,
     "end_time": "2021-09-24T23:00:08.408801",
     "exception": false,
     "start_time": "2021-09-24T23:00:08.012106",
     "status": "completed"
    },
    "tags": []
   },
   "outputs": [],
   "source": [
    "timestamps = pd.read_sql(\"select distinct record_time from EBAY_TOP_BERLIN order by record_time desc limit 2\", sqlite3.connect(\"UsedObjects.db\"))"
   ]
  },
  {
   "cell_type": "code",
   "execution_count": 3,
   "id": "periodic-identification",
   "metadata": {
    "execution": {
     "iopub.execute_input": "2021-09-24T23:00:08.473120Z",
     "iopub.status.busy": "2021-09-24T23:00:08.471093Z",
     "iopub.status.idle": "2021-09-24T23:00:08.490773Z",
     "shell.execute_reply": "2021-09-24T23:00:08.492204Z"
    },
    "papermill": {
     "duration": 0.064276,
     "end_time": "2021-09-24T23:00:08.492617",
     "exception": false,
     "start_time": "2021-09-24T23:00:08.428341",
     "status": "completed"
    },
    "tags": []
   },
   "outputs": [
    {
     "data": {
      "text/html": [
       "<div>\n",
       "<style scoped>\n",
       "    .dataframe tbody tr th:only-of-type {\n",
       "        vertical-align: middle;\n",
       "    }\n",
       "\n",
       "    .dataframe tbody tr th {\n",
       "        vertical-align: top;\n",
       "    }\n",
       "\n",
       "    .dataframe thead th {\n",
       "        text-align: right;\n",
       "    }\n",
       "</style>\n",
       "<table border=\"1\" class=\"dataframe\">\n",
       "  <thead>\n",
       "    <tr style=\"text-align: right;\">\n",
       "      <th></th>\n",
       "      <th>RECORD_TIME</th>\n",
       "    </tr>\n",
       "  </thead>\n",
       "  <tbody>\n",
       "    <tr>\n",
       "      <th>0</th>\n",
       "      <td>2021-09-25 01:00</td>\n",
       "    </tr>\n",
       "    <tr>\n",
       "      <th>1</th>\n",
       "      <td>2021-09-25 00:30</td>\n",
       "    </tr>\n",
       "  </tbody>\n",
       "</table>\n",
       "</div>"
      ],
      "text/plain": [
       "        RECORD_TIME\n",
       "0  2021-09-25 01:00\n",
       "1  2021-09-25 00:30"
      ]
     },
     "execution_count": 3,
     "metadata": {},
     "output_type": "execute_result"
    }
   ],
   "source": [
    "timestamps"
   ]
  },
  {
   "cell_type": "code",
   "execution_count": 4,
   "id": "alternate-victory",
   "metadata": {
    "execution": {
     "iopub.execute_input": "2021-09-24T23:00:08.545668Z",
     "iopub.status.busy": "2021-09-24T23:00:08.543163Z",
     "iopub.status.idle": "2021-09-24T23:00:09.088448Z",
     "shell.execute_reply": "2021-09-24T23:00:09.089660Z"
    },
    "papermill": {
     "duration": 0.575554,
     "end_time": "2021-09-24T23:00:09.090046",
     "exception": false,
     "start_time": "2021-09-24T23:00:08.514492",
     "status": "completed"
    },
    "tags": []
   },
   "outputs": [],
   "source": [
    "df = pd.read_sql(\"select * from EBAY_TOP_BERLIN where record_time in (select distinct record_time from EBAY_TOP_BERLIN order by record_time desc limit 2)\", sqlite3.connect(\"UsedObjects.db\"))"
   ]
  },
  {
   "cell_type": "code",
   "execution_count": 5,
   "id": "popular-active",
   "metadata": {
    "execution": {
     "iopub.execute_input": "2021-09-24T23:00:09.175090Z",
     "iopub.status.busy": "2021-09-24T23:00:09.172867Z",
     "iopub.status.idle": "2021-09-24T23:00:09.199830Z",
     "shell.execute_reply": "2021-09-24T23:00:09.201055Z"
    },
    "papermill": {
     "duration": 0.073596,
     "end_time": "2021-09-24T23:00:09.201439",
     "exception": false,
     "start_time": "2021-09-24T23:00:09.127843",
     "status": "completed"
    },
    "tags": []
   },
   "outputs": [],
   "source": [
    "df_pivot = df.pivot_table(index=\"PRODUCT\", columns = \"RECORD_TIME\", values = \"LISTING_COUNT\")"
   ]
  },
  {
   "cell_type": "code",
   "execution_count": 6,
   "id": "union-huntington",
   "metadata": {
    "execution": {
     "iopub.execute_input": "2021-09-24T23:00:09.258776Z",
     "iopub.status.busy": "2021-09-24T23:00:09.256649Z",
     "iopub.status.idle": "2021-09-24T23:00:09.262287Z",
     "shell.execute_reply": "2021-09-24T23:00:09.263806Z"
    },
    "papermill": {
     "duration": 0.041225,
     "end_time": "2021-09-24T23:00:09.264281",
     "exception": false,
     "start_time": "2021-09-24T23:00:09.223056",
     "status": "completed"
    },
    "tags": []
   },
   "outputs": [],
   "source": [
    "df_pivot.columns = [\"stamp_1\", \"stamp_2\"]\n",
    "df_pivot_diff = df_pivot.diff(axis=1)"
   ]
  },
  {
   "cell_type": "code",
   "execution_count": 7,
   "id": "fifth-motion",
   "metadata": {
    "execution": {
     "iopub.execute_input": "2021-09-24T23:00:09.320808Z",
     "iopub.status.busy": "2021-09-24T23:00:09.318447Z",
     "iopub.status.idle": "2021-09-24T23:00:10.801275Z",
     "shell.execute_reply": "2021-09-24T23:00:10.802566Z"
    },
    "papermill": {
     "duration": 1.51617,
     "end_time": "2021-09-24T23:00:10.803189",
     "exception": false,
     "start_time": "2021-09-24T23:00:09.287019",
     "status": "completed"
    },
    "tags": []
   },
   "outputs": [
    {
     "data": {
      "text/plain": [
       "<AxesSubplot:ylabel='PRODUCT'>"
      ]
     },
     "execution_count": 7,
     "metadata": {},
     "output_type": "execute_result"
    },
    {
     "data": {
      "image/png": "[encoded data removed]",
      "text/plain": [
       "<Figure size 432x288 with 1 Axes>"
      ]
     },
     "metadata": {
      "needs_background": "light"
     },
     "output_type": "display_data"
    }
   ],
   "source": [
    "df_pivot_diff.sort_values(\"stamp_2\", ascending = False)[\"stamp_2\"].head(10).plot.barh()"
   ]
  },
  {
   "cell_type": "code",
   "execution_count": null,
   "id": "extra-executive",
   "metadata": {
    "papermill": {
     "duration": 0.022439,
     "end_time": "2021-09-24T23:00:10.851854",
     "exception": false,
     "start_time": "2021-09-24T23:00:10.829415",
     "status": "completed"
    },
    "tags": []
   },
   "outputs": [],
   "source": []
  }
 ],
 "metadata": {
  "kernelspec": {
   "display_name": "Python 3",
   "language": "python",
   "name": "python3"
  },
  "language_info": {
   "codemirror_mode": {
    "name": "ipython",
    "version": 3
   },
   "file_extension": ".py",
   "mimetype": "text/x-python",
   "name": "python",
   "nbconvert_exporter": "python",
   "pygments_lexer": "ipython3",
   "version": "3.9.5"
  },
  "papermill": {
   "default_parameters": {},
   "duration": 6.769905,
   "end_time": "2021-09-24T23:00:11.494843",
   "environment_variables": {},
   "exception": null,
   "input_path": "eBay_Overview.ipynb",
   "output_path": "eBay_Overview.ipynb",
   "parameters": {},
   "start_time": "2021-09-24T23:00:04.724938",
   "version": "2.3.3"
  }
 },
 "nbformat": 4,
 "nbformat_minor": 5
}