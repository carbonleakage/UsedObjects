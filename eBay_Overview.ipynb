{
 "cells": [
  {
   "cell_type": "code",
   "execution_count": 1,
   "id": "reverse-picking",
   "metadata": {
    "execution": {
     "iopub.execute_input": "2021-12-03T11:30:07.713190Z",
     "iopub.status.busy": "2021-12-03T11:30:07.710874Z",
     "iopub.status.idle": "2021-12-03T11:30:08.656024Z",
     "shell.execute_reply": "2021-12-03T11:30:08.657906Z"
    },
    "papermill": {
     "duration": 0.995928,
     "end_time": "2021-12-03T11:30:08.658677",
     "exception": false,
     "start_time": "2021-12-03T11:30:07.662749",
     "status": "completed"
    },
    "tags": []
   },
   "outputs": [],
   "source": [
    "import pandas as pd\n",
    "import sqlite3"
   ]
  },
  {
   "cell_type": "code",
   "execution_count": 2,
   "id": "innovative-syndrome",
   "metadata": {
    "execution": {
     "iopub.execute_input": "2021-12-03T11:30:08.787987Z",
     "iopub.status.busy": "2021-12-03T11:30:08.784143Z",
     "iopub.status.idle": "2021-12-03T11:30:09.768629Z",
     "shell.execute_reply": "2021-12-03T11:30:09.770051Z"
    },
    "papermill": {
     "duration": 1.029013,
     "end_time": "2021-12-03T11:30:09.770484",
     "exception": false,
     "start_time": "2021-12-03T11:30:08.741471",
     "status": "completed"
    },
    "tags": []
   },
   "outputs": [],
   "source": [
    "timestamps = pd.read_sql(\"select distinct record_time from EBAY_TOP_BERLIN order by record_time desc limit 2\", sqlite3.connect(\"UsedObjects.db\"))"
   ]
  },
  {
   "cell_type": "code",
   "execution_count": 3,
   "id": "periodic-identification",
   "metadata": {
    "execution": {
     "iopub.execute_input": "2021-12-03T11:30:09.838899Z",
     "iopub.status.busy": "2021-12-03T11:30:09.833890Z",
     "iopub.status.idle": "2021-12-03T11:30:09.854543Z",
     "shell.execute_reply": "2021-12-03T11:30:09.855938Z"
    },
    "papermill": {
     "duration": 0.065747,
     "end_time": "2021-12-03T11:30:09.856394",
     "exception": false,
     "start_time": "2021-12-03T11:30:09.790647",
     "status": "completed"
    },
    "tags": []
   },
   "outputs": [
    {
     "data": {
      "text/html": [
       "<div>\n",
       "<style scoped>\n",
       "    .dataframe tbody tr th:only-of-type {\n",
       "        vertical-align: middle;\n",
       "    }\n",
       "\n",
       "    .dataframe tbody tr th {\n",
       "        vertical-align: top;\n",
       "    }\n",
       "\n",
       "    .dataframe thead th {\n",
       "        text-align: right;\n",
       "    }\n",
       "</style>\n",
       "<table border=\"1\" class=\"dataframe\">\n",
       "  <thead>\n",
       "    <tr style=\"text-align: right;\">\n",
       "      <th></th>\n",
       "      <th>RECORD_TIME</th>\n",
       "    </tr>\n",
       "  </thead>\n",
       "  <tbody>\n",
       "    <tr>\n",
       "      <th>0</th>\n",
       "      <td>2021-12-03 12:30</td>\n",
       "    </tr>\n",
       "    <tr>\n",
       "      <th>1</th>\n",
       "      <td>2021-12-03 12:00</td>\n",
       "    </tr>\n",
       "  </tbody>\n",
       "</table>\n",
       "</div>"
      ],
      "text/plain": [
       "        RECORD_TIME\n",
       "0  2021-12-03 12:30\n",
       "1  2021-12-03 12:00"
      ]
     },
     "execution_count": 3,
     "metadata": {},
     "output_type": "execute_result"
    }
   ],
   "source": [
    "timestamps"
   ]
  },
  {
   "cell_type": "code",
   "execution_count": 4,
   "id": "alternate-victory",
   "metadata": {
    "execution": {
     "iopub.execute_input": "2021-12-03T11:30:09.913309Z",
     "iopub.status.busy": "2021-12-03T11:30:09.911040Z",
     "iopub.status.idle": "2021-12-03T11:30:11.318974Z",
     "shell.execute_reply": "2021-12-03T11:30:11.320471Z"
    },
    "papermill": {
     "duration": 1.441743,
     "end_time": "2021-12-03T11:30:11.321015",
     "exception": false,
     "start_time": "2021-12-03T11:30:09.879272",
     "status": "completed"
    },
    "tags": []
   },
   "outputs": [],
   "source": [
    "df = pd.read_sql(\"select * from EBAY_TOP_BERLIN where record_time in (select distinct record_time from EBAY_TOP_BERLIN order by record_time desc limit 2)\", sqlite3.connect(\"UsedObjects.db\"))"
   ]
  },
  {
   "cell_type": "code",
   "execution_count": 5,
   "id": "popular-active",
   "metadata": {
    "execution": {
     "iopub.execute_input": "2021-12-03T11:30:11.400453Z",
     "iopub.status.busy": "2021-12-03T11:30:11.392276Z",
     "iopub.status.idle": "2021-12-03T11:30:11.418026Z",
     "shell.execute_reply": "2021-12-03T11:30:11.419387Z"
    },
    "papermill": {
     "duration": 0.074125,
     "end_time": "2021-12-03T11:30:11.419875",
     "exception": false,
     "start_time": "2021-12-03T11:30:11.345750",
     "status": "completed"
    },
    "tags": []
   },
   "outputs": [],
   "source": [
    "df_pivot = df.pivot_table(index=\"PRODUCT\", columns = \"RECORD_TIME\", values = \"LISTING_COUNT\")"
   ]
  },
  {
   "cell_type": "code",
   "execution_count": 6,
   "id": "union-huntington",
   "metadata": {
    "execution": {
     "iopub.execute_input": "2021-12-03T11:30:11.480677Z",
     "iopub.status.busy": "2021-12-03T11:30:11.478300Z",
     "iopub.status.idle": "2021-12-03T11:30:11.484223Z",
     "shell.execute_reply": "2021-12-03T11:30:11.485943Z"
    },
    "papermill": {
     "duration": 0.04631,
     "end_time": "2021-12-03T11:30:11.486562",
     "exception": false,
     "start_time": "2021-12-03T11:30:11.440252",
     "status": "completed"
    },
    "tags": []
   },
   "outputs": [],
   "source": [
    "df_pivot.columns = [\"stamp_1\", \"stamp_2\"]\n",
    "df_pivot_diff = df_pivot.diff(axis=1)"
   ]
  },
  {
   "cell_type": "code",
   "execution_count": 7,
   "id": "fifth-motion",
   "metadata": {
    "execution": {
     "iopub.execute_input": "2021-12-03T11:30:11.546784Z",
     "iopub.status.busy": "2021-12-03T11:30:11.544230Z",
     "iopub.status.idle": "2021-12-03T11:30:13.551412Z",
     "shell.execute_reply": "2021-12-03T11:30:13.552790Z"
    },
    "papermill": {
     "duration": 2.043272,
     "end_time": "2021-12-03T11:30:13.553280",
     "exception": false,
     "start_time": "2021-12-03T11:30:11.510008",
     "status": "completed"
    },
    "tags": []
   },
   "outputs": [
    {
     "data": {
      "text/plain": [
       "<AxesSubplot:ylabel='PRODUCT'>"
      ]
     },
     "execution_count": 7,
     "metadata": {},
     "output_type": "execute_result"
    },
    {
     "data": {
      "image/png": "[encoded data removed]",
      "text/plain": [
       "<Figure size 432x288 with 1 Axes>"
      ]
     },
     "metadata": {
      "needs_background": "light"
     },
     "output_type": "display_data"
    }
   ],
   "source": [
    "df_pivot_diff.sort_values(\"stamp_2\", ascending = False)[\"stamp_2\"].head(10).plot.barh()"
   ]
  },
  {
   "cell_type": "code",
   "execution_count": null,
   "id": "extra-executive",
   "metadata": {
    "papermill": {
     "duration": 0.06133,
     "end_time": "2021-12-03T11:30:13.640207",
     "exception": false,
     "start_time": "2021-12-03T11:30:13.578877",
     "status": "completed"
    },
    "tags": []
   },
   "outputs": [],
   "source": []
  }
 ],
 "metadata": {
  "kernelspec": {
   "display_name": "Python 3",
   "language": "python",
   "name": "python3"
  },
  "language_info": {
   "codemirror_mode": {
    "name": "ipython",
    "version": 3
   },
   "file_extension": ".py",
   "mimetype": "text/x-python",
   "name": "python",
   "nbconvert_exporter": "python",
   "pygments_lexer": "ipython3",
   "version": "3.9.5"
  },
  "papermill": {
   "default_parameters": {},
   "duration": 9.934859,
   "end_time": "2021-12-03T11:30:14.884246",
   "environment_variables": {},
   "exception": null,
   "input_path": "eBay_Overview.ipynb",
   "output_path": "eBay_Overview.ipynb",
   "parameters": {},
   "start_time": "2021-12-03T11:30:04.949387",
   "version": "2.3.3"
  }
 },
 "nbformat": 4,
 "nbformat_minor": 5
}