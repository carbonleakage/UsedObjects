{
 "cells": [
  {
   "cell_type": "code",
   "execution_count": 1,
   "id": "reverse-picking",
   "metadata": {
    "execution": {
     "iopub.execute_input": "2021-09-24T19:30:06.996476Z",
     "iopub.status.busy": "2021-09-24T19:30:06.994484Z",
     "iopub.status.idle": "2021-09-24T19:30:07.797345Z",
     "shell.execute_reply": "2021-09-24T19:30:07.798648Z"
    },
    "papermill": {
     "duration": 0.854921,
     "end_time": "2021-09-24T19:30:07.799377",
     "exception": false,
     "start_time": "2021-09-24T19:30:06.944456",
     "status": "completed"
    },
    "tags": []
   },
   "outputs": [],
   "source": [
    "import pandas as pd\n",
    "import sqlite3"
   ]
  },
  {
   "cell_type": "code",
   "execution_count": 2,
   "id": "innovative-syndrome",
   "metadata": {
    "execution": {
     "iopub.execute_input": "2021-09-24T19:30:07.850621Z",
     "iopub.status.busy": "2021-09-24T19:30:07.848703Z",
     "iopub.status.idle": "2021-09-24T19:30:08.211718Z",
     "shell.execute_reply": "2021-09-24T19:30:08.212962Z"
    },
    "papermill": {
     "duration": 0.392819,
     "end_time": "2021-09-24T19:30:08.213357",
     "exception": false,
     "start_time": "2021-09-24T19:30:07.820538",
     "status": "completed"
    },
    "tags": []
   },
   "outputs": [],
   "source": [
    "timestamps = pd.read_sql(\"select distinct record_time from EBAY_TOP_BERLIN order by record_time desc limit 2\", sqlite3.connect(\"UsedObjects.db\"))"
   ]
  },
  {
   "cell_type": "code",
   "execution_count": 3,
   "id": "periodic-identification",
   "metadata": {
    "execution": {
     "iopub.execute_input": "2021-09-24T19:30:08.276893Z",
     "iopub.status.busy": "2021-09-24T19:30:08.274866Z",
     "iopub.status.idle": "2021-09-24T19:30:08.294571Z",
     "shell.execute_reply": "2021-09-24T19:30:08.295784Z"
    },
    "papermill": {
     "duration": 0.063615,
     "end_time": "2021-09-24T19:30:08.296200",
     "exception": false,
     "start_time": "2021-09-24T19:30:08.232585",
     "status": "completed"
    },
    "tags": []
   },
   "outputs": [
    {
     "data": {
      "text/html": [
       "<div>\n",
       "<style scoped>\n",
       "    .dataframe tbody tr th:only-of-type {\n",
       "        vertical-align: middle;\n",
       "    }\n",
       "\n",
       "    .dataframe tbody tr th {\n",
       "        vertical-align: top;\n",
       "    }\n",
       "\n",
       "    .dataframe thead th {\n",
       "        text-align: right;\n",
       "    }\n",
       "</style>\n",
       "<table border=\"1\" class=\"dataframe\">\n",
       "  <thead>\n",
       "    <tr style=\"text-align: right;\">\n",
       "      <th></th>\n",
       "      <th>RECORD_TIME</th>\n",
       "    </tr>\n",
       "  </thead>\n",
       "  <tbody>\n",
       "    <tr>\n",
       "      <th>0</th>\n",
       "      <td>2021-09-24 21:30</td>\n",
       "    </tr>\n",
       "    <tr>\n",
       "      <th>1</th>\n",
       "      <td>2021-09-24 21:00</td>\n",
       "    </tr>\n",
       "  </tbody>\n",
       "</table>\n",
       "</div>"
      ],
      "text/plain": [
       "        RECORD_TIME\n",
       "0  2021-09-24 21:30\n",
       "1  2021-09-24 21:00"
      ]
     },
     "execution_count": 3,
     "metadata": {},
     "output_type": "execute_result"
    }
   ],
   "source": [
    "timestamps"
   ]
  },
  {
   "cell_type": "code",
   "execution_count": 4,
   "id": "alternate-victory",
   "metadata": {
    "execution": {
     "iopub.execute_input": "2021-09-24T19:30:08.348894Z",
     "iopub.status.busy": "2021-09-24T19:30:08.346671Z",
     "iopub.status.idle": "2021-09-24T19:30:08.902936Z",
     "shell.execute_reply": "2021-09-24T19:30:08.904232Z"
    },
    "papermill": {
     "duration": 0.586128,
     "end_time": "2021-09-24T19:30:08.904644",
     "exception": false,
     "start_time": "2021-09-24T19:30:08.318516",
     "status": "completed"
    },
    "tags": []
   },
   "outputs": [],
   "source": [
    "df = pd.read_sql(\"select * from EBAY_TOP_BERLIN where record_time in (select distinct record_time from EBAY_TOP_BERLIN order by record_time desc limit 2)\", sqlite3.connect(\"UsedObjects.db\"))"
   ]
  },
  {
   "cell_type": "code",
   "execution_count": 5,
   "id": "popular-active",
   "metadata": {
    "execution": {
     "iopub.execute_input": "2021-09-24T19:30:08.975559Z",
     "iopub.status.busy": "2021-09-24T19:30:08.962736Z",
     "iopub.status.idle": "2021-09-24T19:30:08.991320Z",
     "shell.execute_reply": "2021-09-24T19:30:08.992545Z"
    },
    "papermill": {
     "duration": 0.067892,
     "end_time": "2021-09-24T19:30:08.992938",
     "exception": false,
     "start_time": "2021-09-24T19:30:08.925046",
     "status": "completed"
    },
    "tags": []
   },
   "outputs": [],
   "source": [
    "df_pivot = df.pivot_table(index=\"PRODUCT\", columns = \"RECORD_TIME\", values = \"LISTING_COUNT\")"
   ]
  },
  {
   "cell_type": "code",
   "execution_count": 6,
   "id": "union-huntington",
   "metadata": {
    "execution": {
     "iopub.execute_input": "2021-09-24T19:30:09.048153Z",
     "iopub.status.busy": "2021-09-24T19:30:09.046153Z",
     "iopub.status.idle": "2021-09-24T19:30:09.051222Z",
     "shell.execute_reply": "2021-09-24T19:30:09.052424Z"
    },
    "papermill": {
     "duration": 0.039254,
     "end_time": "2021-09-24T19:30:09.052815",
     "exception": false,
     "start_time": "2021-09-24T19:30:09.013561",
     "status": "completed"
    },
    "tags": []
   },
   "outputs": [],
   "source": [
    "df_pivot.columns = [\"stamp_1\", \"stamp_2\"]\n",
    "df_pivot_diff = df_pivot.diff(axis=1)"
   ]
  },
  {
   "cell_type": "code",
   "execution_count": 7,
   "id": "fifth-motion",
   "metadata": {
    "execution": {
     "iopub.execute_input": "2021-09-24T19:30:09.106065Z",
     "iopub.status.busy": "2021-09-24T19:30:09.103705Z",
     "iopub.status.idle": "2021-09-24T19:30:10.584522Z",
     "shell.execute_reply": "2021-09-24T19:30:10.586148Z"
    },
    "papermill": {
     "duration": 1.513674,
     "end_time": "2021-09-24T19:30:10.586645",
     "exception": false,
     "start_time": "2021-09-24T19:30:09.072971",
     "status": "completed"
    },
    "tags": []
   },
   "outputs": [
    {
     "data": {
      "text/plain": [
       "<AxesSubplot:ylabel='PRODUCT'>"
      ]
     },
     "execution_count": 7,
     "metadata": {},
     "output_type": "execute_result"
    },
    {
     "data": {
      "image/png": "[encoded data removed]",
      "text/plain": [
       "<Figure size 432x288 with 1 Axes>"
      ]
     },
     "metadata": {
      "needs_background": "light"
     },
     "output_type": "display_data"
    }
   ],
   "source": [
    "df_pivot_diff.sort_values(\"stamp_2\", ascending = False)[\"stamp_2\"].head(10).plot.barh()"
   ]
  },
  {
   "cell_type": "code",
   "execution_count": null,
   "id": "extra-executive",
   "metadata": {
    "papermill": {
     "duration": 0.021926,
     "end_time": "2021-09-24T19:30:10.632478",
     "exception": false,
     "start_time": "2021-09-24T19:30:10.610552",
     "status": "completed"
    },
    "tags": []
   },
   "outputs": [],
   "source": []
  }
 ],
 "metadata": {
  "kernelspec": {
   "display_name": "Python 3",
   "language": "python",
   "name": "python3"
  },
  "language_info": {
   "codemirror_mode": {
    "name": "ipython",
    "version": 3
   },
   "file_extension": ".py",
   "mimetype": "text/x-python",
   "name": "python",
   "nbconvert_exporter": "python",
   "pygments_lexer": "ipython3",
   "version": "3.9.5"
  },
  "papermill": {
   "default_parameters": {},
   "duration": 6.734235,
   "end_time": "2021-09-24T19:30:11.276397",
   "environment_variables": {},
   "exception": null,
   "input_path": "eBay_Overview.ipynb",
   "output_path": "eBay_Overview.ipynb",
   "parameters": {},
   "start_time": "2021-09-24T19:30:04.542162",
   "version": "2.3.3"
  }
 },
 "nbformat": 4,
 "nbformat_minor": 5
}