{
 "cells": [
  {
   "cell_type": "code",
   "execution_count": 1,
   "id": "reverse-picking",
   "metadata": {
    "execution": {
     "iopub.execute_input": "2021-10-20T03:00:06.679132Z",
     "iopub.status.busy": "2021-10-20T03:00:06.677174Z",
     "iopub.status.idle": "2021-10-20T03:00:07.485771Z",
     "shell.execute_reply": "2021-10-20T03:00:07.487073Z"
    },
    "papermill": {
     "duration": 0.8622,
     "end_time": "2021-10-20T03:00:07.487694",
     "exception": false,
     "start_time": "2021-10-20T03:00:06.625494",
     "status": "completed"
    },
    "tags": []
   },
   "outputs": [],
   "source": [
    "import pandas as pd\n",
    "import sqlite3"
   ]
  },
  {
   "cell_type": "code",
   "execution_count": 2,
   "id": "innovative-syndrome",
   "metadata": {
    "execution": {
     "iopub.execute_input": "2021-10-20T03:00:07.541307Z",
     "iopub.status.busy": "2021-10-20T03:00:07.539056Z",
     "iopub.status.idle": "2021-10-20T03:00:08.133376Z",
     "shell.execute_reply": "2021-10-20T03:00:08.134803Z"
    },
    "papermill": {
     "duration": 0.624752,
     "end_time": "2021-10-20T03:00:08.135238",
     "exception": false,
     "start_time": "2021-10-20T03:00:07.510486",
     "status": "completed"
    },
    "tags": []
   },
   "outputs": [],
   "source": [
    "timestamps = pd.read_sql(\"select distinct record_time from EBAY_TOP_BERLIN order by record_time desc limit 2\", sqlite3.connect(\"UsedObjects.db\"))"
   ]
  },
  {
   "cell_type": "code",
   "execution_count": 3,
   "id": "periodic-identification",
   "metadata": {
    "execution": {
     "iopub.execute_input": "2021-10-20T03:00:08.214266Z",
     "iopub.status.busy": "2021-10-20T03:00:08.212141Z",
     "iopub.status.idle": "2021-10-20T03:00:08.235020Z",
     "shell.execute_reply": "2021-10-20T03:00:08.236227Z"
    },
    "papermill": {
     "duration": 0.074014,
     "end_time": "2021-10-20T03:00:08.236654",
     "exception": false,
     "start_time": "2021-10-20T03:00:08.162640",
     "status": "completed"
    },
    "tags": []
   },
   "outputs": [
    {
     "data": {
      "text/html": [
       "<div>\n",
       "<style scoped>\n",
       "    .dataframe tbody tr th:only-of-type {\n",
       "        vertical-align: middle;\n",
       "    }\n",
       "\n",
       "    .dataframe tbody tr th {\n",
       "        vertical-align: top;\n",
       "    }\n",
       "\n",
       "    .dataframe thead th {\n",
       "        text-align: right;\n",
       "    }\n",
       "</style>\n",
       "<table border=\"1\" class=\"dataframe\">\n",
       "  <thead>\n",
       "    <tr style=\"text-align: right;\">\n",
       "      <th></th>\n",
       "      <th>RECORD_TIME</th>\n",
       "    </tr>\n",
       "  </thead>\n",
       "  <tbody>\n",
       "    <tr>\n",
       "      <th>0</th>\n",
       "      <td>2021-10-20 05:00</td>\n",
       "    </tr>\n",
       "    <tr>\n",
       "      <th>1</th>\n",
       "      <td>2021-10-20 04:30</td>\n",
       "    </tr>\n",
       "  </tbody>\n",
       "</table>\n",
       "</div>"
      ],
      "text/plain": [
       "        RECORD_TIME\n",
       "0  2021-10-20 05:00\n",
       "1  2021-10-20 04:30"
      ]
     },
     "execution_count": 3,
     "metadata": {},
     "output_type": "execute_result"
    }
   ],
   "source": [
    "timestamps"
   ]
  },
  {
   "cell_type": "code",
   "execution_count": 4,
   "id": "alternate-victory",
   "metadata": {
    "execution": {
     "iopub.execute_input": "2021-10-20T03:00:08.289874Z",
     "iopub.status.busy": "2021-10-20T03:00:08.287502Z",
     "iopub.status.idle": "2021-10-20T03:00:09.154857Z",
     "shell.execute_reply": "2021-10-20T03:00:09.156092Z"
    },
    "papermill": {
     "duration": 0.897367,
     "end_time": "2021-10-20T03:00:09.156486",
     "exception": false,
     "start_time": "2021-10-20T03:00:08.259119",
     "status": "completed"
    },
    "tags": []
   },
   "outputs": [],
   "source": [
    "df = pd.read_sql(\"select * from EBAY_TOP_BERLIN where record_time in (select distinct record_time from EBAY_TOP_BERLIN order by record_time desc limit 2)\", sqlite3.connect(\"UsedObjects.db\"))"
   ]
  },
  {
   "cell_type": "code",
   "execution_count": 5,
   "id": "popular-active",
   "metadata": {
    "execution": {
     "iopub.execute_input": "2021-10-20T03:00:09.224988Z",
     "iopub.status.busy": "2021-10-20T03:00:09.213707Z",
     "iopub.status.idle": "2021-10-20T03:00:09.242095Z",
     "shell.execute_reply": "2021-10-20T03:00:09.243536Z"
    },
    "papermill": {
     "duration": 0.067107,
     "end_time": "2021-10-20T03:00:09.243968",
     "exception": false,
     "start_time": "2021-10-20T03:00:09.176861",
     "status": "completed"
    },
    "tags": []
   },
   "outputs": [],
   "source": [
    "df_pivot = df.pivot_table(index=\"PRODUCT\", columns = \"RECORD_TIME\", values = \"LISTING_COUNT\")"
   ]
  },
  {
   "cell_type": "code",
   "execution_count": 6,
   "id": "union-huntington",
   "metadata": {
    "execution": {
     "iopub.execute_input": "2021-10-20T03:00:09.300616Z",
     "iopub.status.busy": "2021-10-20T03:00:09.298326Z",
     "iopub.status.idle": "2021-10-20T03:00:09.304515Z",
     "shell.execute_reply": "2021-10-20T03:00:09.305900Z"
    },
    "papermill": {
     "duration": 0.042176,
     "end_time": "2021-10-20T03:00:09.306315",
     "exception": false,
     "start_time": "2021-10-20T03:00:09.264139",
     "status": "completed"
    },
    "tags": []
   },
   "outputs": [],
   "source": [
    "df_pivot.columns = [\"stamp_1\", \"stamp_2\"]\n",
    "df_pivot_diff = df_pivot.diff(axis=1)"
   ]
  },
  {
   "cell_type": "code",
   "execution_count": 7,
   "id": "fifth-motion",
   "metadata": {
    "execution": {
     "iopub.execute_input": "2021-10-20T03:00:09.359881Z",
     "iopub.status.busy": "2021-10-20T03:00:09.357571Z",
     "iopub.status.idle": "2021-10-20T03:00:10.827299Z",
     "shell.execute_reply": "2021-10-20T03:00:10.828910Z"
    },
    "papermill": {
     "duration": 1.502542,
     "end_time": "2021-10-20T03:00:10.829353",
     "exception": false,
     "start_time": "2021-10-20T03:00:09.326811",
     "status": "completed"
    },
    "tags": []
   },
   "outputs": [
    {
     "data": {
      "text/plain": [
       "<AxesSubplot:ylabel='PRODUCT'>"
      ]
     },
     "execution_count": 7,
     "metadata": {},
     "output_type": "execute_result"
    },
    {
     "data": {
      "image/png": "[encoded data removed]",
      "text/plain": [
       "<Figure size 432x288 with 1 Axes>"
      ]
     },
     "metadata": {
      "needs_background": "light"
     },
     "output_type": "display_data"
    }
   ],
   "source": [
    "df_pivot_diff.sort_values(\"stamp_2\", ascending = False)[\"stamp_2\"].head(10).plot.barh()"
   ]
  },
  {
   "cell_type": "code",
   "execution_count": null,
   "id": "extra-executive",
   "metadata": {
    "papermill": {
     "duration": 0.022503,
     "end_time": "2021-10-20T03:00:10.876738",
     "exception": false,
     "start_time": "2021-10-20T03:00:10.854235",
     "status": "completed"
    },
    "tags": []
   },
   "outputs": [],
   "source": []
  }
 ],
 "metadata": {
  "kernelspec": {
   "display_name": "Python 3",
   "language": "python",
   "name": "python3"
  },
  "language_info": {
   "codemirror_mode": {
    "name": "ipython",
    "version": 3
   },
   "file_extension": ".py",
   "mimetype": "text/x-python",
   "name": "python",
   "nbconvert_exporter": "python",
   "pygments_lexer": "ipython3",
   "version": "3.9.5"
  },
  "papermill": {
   "default_parameters": {},
   "duration": 7.826322,
   "end_time": "2021-10-20T03:00:12.037004",
   "environment_variables": {},
   "exception": null,
   "input_path": "eBay_Overview.ipynb",
   "output_path": "eBay_Overview.ipynb",
   "parameters": {},
   "start_time": "2021-10-20T03:00:04.210682",
   "version": "2.3.3"
  }
 },
 "nbformat": 4,
 "nbformat_minor": 5
}