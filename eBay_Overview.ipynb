{
 "cells": [
  {
   "cell_type": "code",
   "execution_count": 1,
   "id": "reverse-picking",
   "metadata": {
    "execution": {
     "iopub.execute_input": "2021-12-21T07:00:08.009454Z",
     "iopub.status.busy": "2021-12-21T07:00:08.006659Z",
     "iopub.status.idle": "2021-12-21T07:00:08.963530Z",
     "shell.execute_reply": "2021-12-21T07:00:08.965892Z"
    },
    "papermill": {
     "duration": 1.008068,
     "end_time": "2021-12-21T07:00:08.966633",
     "exception": false,
     "start_time": "2021-12-21T07:00:07.958565",
     "status": "completed"
    },
    "tags": []
   },
   "outputs": [],
   "source": [
    "import pandas as pd\n",
    "import sqlite3"
   ]
  },
  {
   "cell_type": "code",
   "execution_count": 2,
   "id": "innovative-syndrome",
   "metadata": {
    "execution": {
     "iopub.execute_input": "2021-12-21T07:00:09.028419Z",
     "iopub.status.busy": "2021-12-21T07:00:09.026166Z",
     "iopub.status.idle": "2021-12-21T07:00:10.161279Z",
     "shell.execute_reply": "2021-12-21T07:00:10.162511Z"
    },
    "papermill": {
     "duration": 1.168892,
     "end_time": "2021-12-21T07:00:10.162906",
     "exception": false,
     "start_time": "2021-12-21T07:00:08.994014",
     "status": "completed"
    },
    "tags": []
   },
   "outputs": [],
   "source": [
    "timestamps = pd.read_sql(\"select distinct record_time from EBAY_TOP_BERLIN order by record_time desc limit 2\", sqlite3.connect(\"UsedObjects.db\"))"
   ]
  },
  {
   "cell_type": "code",
   "execution_count": 3,
   "id": "periodic-identification",
   "metadata": {
    "execution": {
     "iopub.execute_input": "2021-12-21T07:00:10.228227Z",
     "iopub.status.busy": "2021-12-21T07:00:10.226201Z",
     "iopub.status.idle": "2021-12-21T07:00:10.246121Z",
     "shell.execute_reply": "2021-12-21T07:00:10.247341Z"
    },
    "papermill": {
     "duration": 0.064314,
     "end_time": "2021-12-21T07:00:10.247741",
     "exception": false,
     "start_time": "2021-12-21T07:00:10.183427",
     "status": "completed"
    },
    "tags": []
   },
   "outputs": [
    {
     "data": {
      "text/html": [
       "<div>\n",
       "<style scoped>\n",
       "    .dataframe tbody tr th:only-of-type {\n",
       "        vertical-align: middle;\n",
       "    }\n",
       "\n",
       "    .dataframe tbody tr th {\n",
       "        vertical-align: top;\n",
       "    }\n",
       "\n",
       "    .dataframe thead th {\n",
       "        text-align: right;\n",
       "    }\n",
       "</style>\n",
       "<table border=\"1\" class=\"dataframe\">\n",
       "  <thead>\n",
       "    <tr style=\"text-align: right;\">\n",
       "      <th></th>\n",
       "      <th>RECORD_TIME</th>\n",
       "    </tr>\n",
       "  </thead>\n",
       "  <tbody>\n",
       "    <tr>\n",
       "      <th>0</th>\n",
       "      <td>2021-12-21 08:00</td>\n",
       "    </tr>\n",
       "    <tr>\n",
       "      <th>1</th>\n",
       "      <td>2021-12-21 07:30</td>\n",
       "    </tr>\n",
       "  </tbody>\n",
       "</table>\n",
       "</div>"
      ],
      "text/plain": [
       "        RECORD_TIME\n",
       "0  2021-12-21 08:00\n",
       "1  2021-12-21 07:30"
      ]
     },
     "execution_count": 3,
     "metadata": {},
     "output_type": "execute_result"
    }
   ],
   "source": [
    "timestamps"
   ]
  },
  {
   "cell_type": "code",
   "execution_count": 4,
   "id": "alternate-victory",
   "metadata": {
    "execution": {
     "iopub.execute_input": "2021-12-21T07:00:10.304035Z",
     "iopub.status.busy": "2021-12-21T07:00:10.301920Z",
     "iopub.status.idle": "2021-12-21T07:00:12.002585Z",
     "shell.execute_reply": "2021-12-21T07:00:12.004056Z"
    },
    "papermill": {
     "duration": 1.735074,
     "end_time": "2021-12-21T07:00:12.004518",
     "exception": false,
     "start_time": "2021-12-21T07:00:10.269444",
     "status": "completed"
    },
    "tags": []
   },
   "outputs": [],
   "source": [
    "df = pd.read_sql(\"select * from EBAY_TOP_BERLIN where record_time in (select distinct record_time from EBAY_TOP_BERLIN order by record_time desc limit 2)\", sqlite3.connect(\"UsedObjects.db\"))"
   ]
  },
  {
   "cell_type": "code",
   "execution_count": 5,
   "id": "popular-active",
   "metadata": {
    "execution": {
     "iopub.execute_input": "2021-12-21T07:00:12.064596Z",
     "iopub.status.busy": "2021-12-21T07:00:12.062367Z",
     "iopub.status.idle": "2021-12-21T07:00:12.098501Z",
     "shell.execute_reply": "2021-12-21T07:00:12.099872Z"
    },
    "papermill": {
     "duration": 0.074832,
     "end_time": "2021-12-21T07:00:12.100353",
     "exception": false,
     "start_time": "2021-12-21T07:00:12.025521",
     "status": "completed"
    },
    "tags": []
   },
   "outputs": [],
   "source": [
    "df_pivot = df.pivot_table(index=\"PRODUCT\", columns = \"RECORD_TIME\", values = \"LISTING_COUNT\")"
   ]
  },
  {
   "cell_type": "code",
   "execution_count": 6,
   "id": "union-huntington",
   "metadata": {
    "execution": {
     "iopub.execute_input": "2021-12-21T07:00:12.159560Z",
     "iopub.status.busy": "2021-12-21T07:00:12.157033Z",
     "iopub.status.idle": "2021-12-21T07:00:12.164586Z",
     "shell.execute_reply": "2021-12-21T07:00:12.162697Z"
    },
    "papermill": {
     "duration": 0.044757,
     "end_time": "2021-12-21T07:00:12.165039",
     "exception": false,
     "start_time": "2021-12-21T07:00:12.120282",
     "status": "completed"
    },
    "tags": []
   },
   "outputs": [],
   "source": [
    "df_pivot.columns = [\"stamp_1\", \"stamp_2\"]\n",
    "df_pivot_diff = df_pivot.diff(axis=1)"
   ]
  },
  {
   "cell_type": "code",
   "execution_count": 7,
   "id": "fifth-motion",
   "metadata": {
    "execution": {
     "iopub.execute_input": "2021-12-21T07:00:12.222385Z",
     "iopub.status.busy": "2021-12-21T07:00:12.219804Z",
     "iopub.status.idle": "2021-12-21T07:00:14.212646Z",
     "shell.execute_reply": "2021-12-21T07:00:14.214157Z"
    },
    "papermill": {
     "duration": 2.028883,
     "end_time": "2021-12-21T07:00:14.214610",
     "exception": false,
     "start_time": "2021-12-21T07:00:12.185727",
     "status": "completed"
    },
    "tags": []
   },
   "outputs": [
    {
     "data": {
      "text/plain": [
       "<AxesSubplot:ylabel='PRODUCT'>"
      ]
     },
     "execution_count": 7,
     "metadata": {},
     "output_type": "execute_result"
    },
    {
     "data": {
      "image/png": "[encoded data removed]",
      "text/plain": [
       "<Figure size 432x288 with 1 Axes>"
      ]
     },
     "metadata": {
      "needs_background": "light"
     },
     "output_type": "display_data"
    }
   ],
   "source": [
    "df_pivot_diff.sort_values(\"stamp_2\", ascending = False)[\"stamp_2\"].head(10).plot.barh()"
   ]
  },
  {
   "cell_type": "code",
   "execution_count": null,
   "id": "extra-executive",
   "metadata": {
    "papermill": {
     "duration": 0.026869,
     "end_time": "2021-12-21T07:00:14.273878",
     "exception": false,
     "start_time": "2021-12-21T07:00:14.247009",
     "status": "completed"
    },
    "tags": []
   },
   "outputs": [],
   "source": []
  }
 ],
 "metadata": {
  "kernelspec": {
   "display_name": "Python 3",
   "language": "python",
   "name": "python3"
  },
  "language_info": {
   "codemirror_mode": {
    "name": "ipython",
    "version": 3
   },
   "file_extension": ".py",
   "mimetype": "text/x-python",
   "name": "python",
   "nbconvert_exporter": "python",
   "pygments_lexer": "ipython3",
   "version": "3.9.5"
  },
  "papermill": {
   "default_parameters": {},
   "duration": 9.839116,
   "end_time": "2021-12-21T07:00:15.058050",
   "environment_variables": {},
   "exception": null,
   "input_path": "eBay_Overview.ipynb",
   "output_path": "eBay_Overview.ipynb",
   "parameters": {},
   "start_time": "2021-12-21T07:00:05.218934",
   "version": "2.3.3"
  }
 },
 "nbformat": 4,
 "nbformat_minor": 5
}