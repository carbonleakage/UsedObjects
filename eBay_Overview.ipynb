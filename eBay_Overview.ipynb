{
 "cells": [
  {
   "cell_type": "code",
   "execution_count": 1,
   "id": "reverse-picking",
   "metadata": {
    "execution": {
     "iopub.execute_input": "2021-10-22T17:00:06.583181Z",
     "iopub.status.busy": "2021-10-22T17:00:06.581150Z",
     "iopub.status.idle": "2021-10-22T17:00:07.386868Z",
     "shell.execute_reply": "2021-10-22T17:00:07.388136Z"
    },
    "papermill": {
     "duration": 0.856801,
     "end_time": "2021-10-22T17:00:07.388901",
     "exception": false,
     "start_time": "2021-10-22T17:00:06.532100",
     "status": "completed"
    },
    "tags": []
   },
   "outputs": [],
   "source": [
    "import pandas as pd\n",
    "import sqlite3"
   ]
  },
  {
   "cell_type": "code",
   "execution_count": 2,
   "id": "innovative-syndrome",
   "metadata": {
    "execution": {
     "iopub.execute_input": "2021-10-22T17:00:07.441789Z",
     "iopub.status.busy": "2021-10-22T17:00:07.439358Z",
     "iopub.status.idle": "2021-10-22T17:00:08.043057Z",
     "shell.execute_reply": "2021-10-22T17:00:08.044282Z"
    },
    "papermill": {
     "duration": 0.633687,
     "end_time": "2021-10-22T17:00:08.044732",
     "exception": false,
     "start_time": "2021-10-22T17:00:07.411045",
     "status": "completed"
    },
    "tags": []
   },
   "outputs": [],
   "source": [
    "timestamps = pd.read_sql(\"select distinct record_time from EBAY_TOP_BERLIN order by record_time desc limit 2\", sqlite3.connect(\"UsedObjects.db\"))"
   ]
  },
  {
   "cell_type": "code",
   "execution_count": 3,
   "id": "periodic-identification",
   "metadata": {
    "execution": {
     "iopub.execute_input": "2021-10-22T17:00:08.119549Z",
     "iopub.status.busy": "2021-10-22T17:00:08.117535Z",
     "iopub.status.idle": "2021-10-22T17:00:08.137701Z",
     "shell.execute_reply": "2021-10-22T17:00:08.139011Z"
    },
    "papermill": {
     "duration": 0.069706,
     "end_time": "2021-10-22T17:00:08.139423",
     "exception": false,
     "start_time": "2021-10-22T17:00:08.069717",
     "status": "completed"
    },
    "tags": []
   },
   "outputs": [
    {
     "data": {
      "text/html": [
       "<div>\n",
       "<style scoped>\n",
       "    .dataframe tbody tr th:only-of-type {\n",
       "        vertical-align: middle;\n",
       "    }\n",
       "\n",
       "    .dataframe tbody tr th {\n",
       "        vertical-align: top;\n",
       "    }\n",
       "\n",
       "    .dataframe thead th {\n",
       "        text-align: right;\n",
       "    }\n",
       "</style>\n",
       "<table border=\"1\" class=\"dataframe\">\n",
       "  <thead>\n",
       "    <tr style=\"text-align: right;\">\n",
       "      <th></th>\n",
       "      <th>RECORD_TIME</th>\n",
       "    </tr>\n",
       "  </thead>\n",
       "  <tbody>\n",
       "    <tr>\n",
       "      <th>0</th>\n",
       "      <td>2021-10-22 19:00</td>\n",
       "    </tr>\n",
       "    <tr>\n",
       "      <th>1</th>\n",
       "      <td>2021-10-22 18:30</td>\n",
       "    </tr>\n",
       "  </tbody>\n",
       "</table>\n",
       "</div>"
      ],
      "text/plain": [
       "        RECORD_TIME\n",
       "0  2021-10-22 19:00\n",
       "1  2021-10-22 18:30"
      ]
     },
     "execution_count": 3,
     "metadata": {},
     "output_type": "execute_result"
    }
   ],
   "source": [
    "timestamps"
   ]
  },
  {
   "cell_type": "code",
   "execution_count": 4,
   "id": "alternate-victory",
   "metadata": {
    "execution": {
     "iopub.execute_input": "2021-10-22T17:00:08.193676Z",
     "iopub.status.busy": "2021-10-22T17:00:08.191294Z",
     "iopub.status.idle": "2021-10-22T17:00:09.085888Z",
     "shell.execute_reply": "2021-10-22T17:00:09.087027Z"
    },
    "papermill": {
     "duration": 0.925049,
     "end_time": "2021-10-22T17:00:09.087440",
     "exception": false,
     "start_time": "2021-10-22T17:00:08.162391",
     "status": "completed"
    },
    "tags": []
   },
   "outputs": [],
   "source": [
    "df = pd.read_sql(\"select * from EBAY_TOP_BERLIN where record_time in (select distinct record_time from EBAY_TOP_BERLIN order by record_time desc limit 2)\", sqlite3.connect(\"UsedObjects.db\"))"
   ]
  },
  {
   "cell_type": "code",
   "execution_count": 5,
   "id": "popular-active",
   "metadata": {
    "execution": {
     "iopub.execute_input": "2021-10-22T17:00:09.161842Z",
     "iopub.status.busy": "2021-10-22T17:00:09.149706Z",
     "iopub.status.idle": "2021-10-22T17:00:09.177954Z",
     "shell.execute_reply": "2021-10-22T17:00:09.179334Z"
    },
    "papermill": {
     "duration": 0.0687,
     "end_time": "2021-10-22T17:00:09.179773",
     "exception": false,
     "start_time": "2021-10-22T17:00:09.111073",
     "status": "completed"
    },
    "tags": []
   },
   "outputs": [],
   "source": [
    "df_pivot = df.pivot_table(index=\"PRODUCT\", columns = \"RECORD_TIME\", values = \"LISTING_COUNT\")"
   ]
  },
  {
   "cell_type": "code",
   "execution_count": 6,
   "id": "union-huntington",
   "metadata": {
    "execution": {
     "iopub.execute_input": "2021-10-22T17:00:09.240312Z",
     "iopub.status.busy": "2021-10-22T17:00:09.237871Z",
     "iopub.status.idle": "2021-10-22T17:00:09.243571Z",
     "shell.execute_reply": "2021-10-22T17:00:09.244929Z"
    },
    "papermill": {
     "duration": 0.042073,
     "end_time": "2021-10-22T17:00:09.245357",
     "exception": false,
     "start_time": "2021-10-22T17:00:09.203284",
     "status": "completed"
    },
    "tags": []
   },
   "outputs": [],
   "source": [
    "df_pivot.columns = [\"stamp_1\", \"stamp_2\"]\n",
    "df_pivot_diff = df_pivot.diff(axis=1)"
   ]
  },
  {
   "cell_type": "code",
   "execution_count": 7,
   "id": "fifth-motion",
   "metadata": {
    "execution": {
     "iopub.execute_input": "2021-10-22T17:00:09.299199Z",
     "iopub.status.busy": "2021-10-22T17:00:09.296905Z",
     "iopub.status.idle": "2021-10-22T17:00:10.757801Z",
     "shell.execute_reply": "2021-10-22T17:00:10.759100Z"
    },
    "papermill": {
     "duration": 1.493563,
     "end_time": "2021-10-22T17:00:10.759518",
     "exception": false,
     "start_time": "2021-10-22T17:00:09.265955",
     "status": "completed"
    },
    "tags": []
   },
   "outputs": [
    {
     "data": {
      "text/plain": [
       "<AxesSubplot:ylabel='PRODUCT'>"
      ]
     },
     "execution_count": 7,
     "metadata": {},
     "output_type": "execute_result"
    },
    {
     "data": {
      "image/png": "[encoded data removed]",
      "text/plain": [
       "<Figure size 432x288 with 1 Axes>"
      ]
     },
     "metadata": {
      "needs_background": "light"
     },
     "output_type": "display_data"
    }
   ],
   "source": [
    "df_pivot_diff.sort_values(\"stamp_2\", ascending = False)[\"stamp_2\"].head(10).plot.barh()"
   ]
  },
  {
   "cell_type": "code",
   "execution_count": null,
   "id": "extra-executive",
   "metadata": {
    "papermill": {
     "duration": 0.022073,
     "end_time": "2021-10-22T17:00:10.806332",
     "exception": false,
     "start_time": "2021-10-22T17:00:10.784259",
     "status": "completed"
    },
    "tags": []
   },
   "outputs": [],
   "source": []
  }
 ],
 "metadata": {
  "kernelspec": {
   "display_name": "Python 3",
   "language": "python",
   "name": "python3"
  },
  "language_info": {
   "codemirror_mode": {
    "name": "ipython",
    "version": 3
   },
   "file_extension": ".py",
   "mimetype": "text/x-python",
   "name": "python",
   "nbconvert_exporter": "python",
   "pygments_lexer": "ipython3",
   "version": "3.9.5"
  },
  "papermill": {
   "default_parameters": {},
   "duration": 7.819711,
   "end_time": "2021-10-22T17:00:11.950535",
   "environment_variables": {},
   "exception": null,
   "input_path": "eBay_Overview.ipynb",
   "output_path": "eBay_Overview.ipynb",
   "parameters": {},
   "start_time": "2021-10-22T17:00:04.130824",
   "version": "2.3.3"
  }
 },
 "nbformat": 4,
 "nbformat_minor": 5
}