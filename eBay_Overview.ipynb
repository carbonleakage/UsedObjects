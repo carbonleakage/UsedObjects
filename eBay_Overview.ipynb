{
 "cells": [
  {
   "cell_type": "code",
   "execution_count": 1,
   "id": "reverse-picking",
   "metadata": {
    "execution": {
     "iopub.execute_input": "2021-08-17T14:00:07.274650Z",
     "iopub.status.busy": "2021-08-17T14:00:07.272605Z",
     "iopub.status.idle": "2021-08-17T14:00:08.079730Z",
     "shell.execute_reply": "2021-08-17T14:00:08.078130Z"
    },
    "papermill": {
     "duration": 0.857232,
     "end_time": "2021-08-17T14:00:08.080128",
     "exception": false,
     "start_time": "2021-08-17T14:00:07.222896",
     "status": "completed"
    },
    "tags": []
   },
   "outputs": [],
   "source": [
    "import pandas as pd\n",
    "import sqlite3"
   ]
  },
  {
   "cell_type": "code",
   "execution_count": 2,
   "id": "innovative-syndrome",
   "metadata": {
    "execution": {
     "iopub.execute_input": "2021-08-17T14:00:08.130982Z",
     "iopub.status.busy": "2021-08-17T14:00:08.129005Z",
     "iopub.status.idle": "2021-08-17T14:00:08.199675Z",
     "shell.execute_reply": "2021-08-17T14:00:08.200879Z"
    },
    "papermill": {
     "duration": 0.099836,
     "end_time": "2021-08-17T14:00:08.201277",
     "exception": false,
     "start_time": "2021-08-17T14:00:08.101441",
     "status": "completed"
    },
    "tags": []
   },
   "outputs": [],
   "source": [
    "timestamps = pd.read_sql(\"select distinct record_time from EBAY_TOP_BERLIN order by record_time desc limit 2\", sqlite3.connect(\"UsedObjects.db\"))"
   ]
  },
  {
   "cell_type": "code",
   "execution_count": 3,
   "id": "periodic-identification",
   "metadata": {
    "execution": {
     "iopub.execute_input": "2021-08-17T14:00:08.269130Z",
     "iopub.status.busy": "2021-08-17T14:00:08.267097Z",
     "iopub.status.idle": "2021-08-17T14:00:08.288762Z",
     "shell.execute_reply": "2021-08-17T14:00:08.290209Z"
    },
    "papermill": {
     "duration": 0.067821,
     "end_time": "2021-08-17T14:00:08.290661",
     "exception": false,
     "start_time": "2021-08-17T14:00:08.222840",
     "status": "completed"
    },
    "tags": []
   },
   "outputs": [
    {
     "data": {
      "text/html": [
       "<div>\n",
       "<style scoped>\n",
       "    .dataframe tbody tr th:only-of-type {\n",
       "        vertical-align: middle;\n",
       "    }\n",
       "\n",
       "    .dataframe tbody tr th {\n",
       "        vertical-align: top;\n",
       "    }\n",
       "\n",
       "    .dataframe thead th {\n",
       "        text-align: right;\n",
       "    }\n",
       "</style>\n",
       "<table border=\"1\" class=\"dataframe\">\n",
       "  <thead>\n",
       "    <tr style=\"text-align: right;\">\n",
       "      <th></th>\n",
       "      <th>RECORD_TIME</th>\n",
       "    </tr>\n",
       "  </thead>\n",
       "  <tbody>\n",
       "    <tr>\n",
       "      <th>0</th>\n",
       "      <td>2021-08-17 16:00</td>\n",
       "    </tr>\n",
       "    <tr>\n",
       "      <th>1</th>\n",
       "      <td>2021-08-17 15:30</td>\n",
       "    </tr>\n",
       "  </tbody>\n",
       "</table>\n",
       "</div>"
      ],
      "text/plain": [
       "        RECORD_TIME\n",
       "0  2021-08-17 16:00\n",
       "1  2021-08-17 15:30"
      ]
     },
     "execution_count": 3,
     "metadata": {},
     "output_type": "execute_result"
    }
   ],
   "source": [
    "timestamps"
   ]
  },
  {
   "cell_type": "code",
   "execution_count": 4,
   "id": "alternate-victory",
   "metadata": {
    "execution": {
     "iopub.execute_input": "2021-08-17T14:00:08.342078Z",
     "iopub.status.busy": "2021-08-17T14:00:08.340164Z",
     "iopub.status.idle": "2021-08-17T14:00:08.442797Z",
     "shell.execute_reply": "2021-08-17T14:00:08.444101Z"
    },
    "papermill": {
     "duration": 0.132633,
     "end_time": "2021-08-17T14:00:08.444502",
     "exception": false,
     "start_time": "2021-08-17T14:00:08.311869",
     "status": "completed"
    },
    "tags": []
   },
   "outputs": [],
   "source": [
    "df = pd.read_sql(\"select * from EBAY_TOP_BERLIN where record_time in (select distinct record_time from EBAY_TOP_BERLIN order by record_time desc limit 2)\", sqlite3.connect(\"UsedObjects.db\"))"
   ]
  },
  {
   "cell_type": "code",
   "execution_count": 5,
   "id": "popular-active",
   "metadata": {
    "execution": {
     "iopub.execute_input": "2021-08-17T14:00:08.508360Z",
     "iopub.status.busy": "2021-08-17T14:00:08.501399Z",
     "iopub.status.idle": "2021-08-17T14:00:08.528462Z",
     "shell.execute_reply": "2021-08-17T14:00:08.529668Z"
    },
    "papermill": {
     "duration": 0.065535,
     "end_time": "2021-08-17T14:00:08.530272",
     "exception": false,
     "start_time": "2021-08-17T14:00:08.464737",
     "status": "completed"
    },
    "tags": []
   },
   "outputs": [],
   "source": [
    "df_pivot = df.pivot_table(index=\"PRODUCT\", columns = \"RECORD_TIME\", values = \"LISTING_COUNT\")"
   ]
  },
  {
   "cell_type": "code",
   "execution_count": 6,
   "id": "union-huntington",
   "metadata": {
    "execution": {
     "iopub.execute_input": "2021-08-17T14:00:08.589461Z",
     "iopub.status.busy": "2021-08-17T14:00:08.586984Z",
     "iopub.status.idle": "2021-08-17T14:00:08.592795Z",
     "shell.execute_reply": "2021-08-17T14:00:08.594159Z"
    },
    "papermill": {
     "duration": 0.042331,
     "end_time": "2021-08-17T14:00:08.594602",
     "exception": false,
     "start_time": "2021-08-17T14:00:08.552271",
     "status": "completed"
    },
    "tags": []
   },
   "outputs": [],
   "source": [
    "df_pivot.columns = [\"stamp_1\", \"stamp_2\"]\n",
    "df_pivot_diff = df_pivot.diff(axis=1)"
   ]
  },
  {
   "cell_type": "code",
   "execution_count": 7,
   "id": "fifth-motion",
   "metadata": {
    "execution": {
     "iopub.execute_input": "2021-08-17T14:00:08.650783Z",
     "iopub.status.busy": "2021-08-17T14:00:08.646813Z",
     "iopub.status.idle": "2021-08-17T14:00:10.131279Z",
     "shell.execute_reply": "2021-08-17T14:00:10.132920Z"
    },
    "papermill": {
     "duration": 1.518276,
     "end_time": "2021-08-17T14:00:10.133418",
     "exception": false,
     "start_time": "2021-08-17T14:00:08.615142",
     "status": "completed"
    },
    "tags": []
   },
   "outputs": [
    {
     "data": {
      "text/plain": [
       "<AxesSubplot:ylabel='PRODUCT'>"
      ]
     },
     "execution_count": 7,
     "metadata": {},
     "output_type": "execute_result"
    },
    {
     "data": {
      "image/png": "[encoded data removed]",
      "text/plain": [
       "<Figure size 432x288 with 1 Axes>"
      ]
     },
     "metadata": {
      "needs_background": "light"
     },
     "output_type": "display_data"
    }
   ],
   "source": [
    "df_pivot_diff.sort_values(\"stamp_2\", ascending = False)[\"stamp_2\"].head(10).plot.barh()"
   ]
  },
  {
   "cell_type": "code",
   "execution_count": null,
   "id": "extra-executive",
   "metadata": {
    "papermill": {
     "duration": 0.02203,
     "end_time": "2021-08-17T14:00:10.180566",
     "exception": false,
     "start_time": "2021-08-17T14:00:10.158536",
     "status": "completed"
    },
    "tags": []
   },
   "outputs": [],
   "source": []
  }
 ],
 "metadata": {
  "kernelspec": {
   "display_name": "Python 3",
   "language": "python",
   "name": "python3"
  },
  "language_info": {
   "codemirror_mode": {
    "name": "ipython",
    "version": 3
   },
   "file_extension": ".py",
   "mimetype": "text/x-python",
   "name": "python",
   "nbconvert_exporter": "python",
   "pygments_lexer": "ipython3",
   "version": "3.9.5"
  },
  "papermill": {
   "default_parameters": {},
   "duration": 6.82916,
   "end_time": "2021-08-17T14:00:11.637398",
   "environment_variables": {},
   "exception": null,
   "input_path": "eBay_Overview.ipynb",
   "output_path": "eBay_Overview.ipynb",
   "parameters": {},
   "start_time": "2021-08-17T14:00:04.808238",
   "version": "2.3.3"
  }
 },
 "nbformat": 4,
 "nbformat_minor": 5
}