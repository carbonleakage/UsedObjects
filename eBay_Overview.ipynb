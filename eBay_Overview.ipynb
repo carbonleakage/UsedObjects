{
 "cells": [
  {
   "cell_type": "code",
   "execution_count": 1,
   "id": "reverse-picking",
   "metadata": {
    "execution": {
     "iopub.execute_input": "2021-08-27T15:00:06.733837Z",
     "iopub.status.busy": "2021-08-27T15:00:06.731808Z",
     "iopub.status.idle": "2021-08-27T15:00:07.533988Z",
     "shell.execute_reply": "2021-08-27T15:00:07.535245Z"
    },
    "papermill": {
     "duration": 0.852871,
     "end_time": "2021-08-27T15:00:07.535872",
     "exception": false,
     "start_time": "2021-08-27T15:00:06.683001",
     "status": "completed"
    },
    "tags": []
   },
   "outputs": [],
   "source": [
    "import pandas as pd\n",
    "import sqlite3"
   ]
  },
  {
   "cell_type": "code",
   "execution_count": 2,
   "id": "innovative-syndrome",
   "metadata": {
    "execution": {
     "iopub.execute_input": "2021-08-27T15:00:07.587023Z",
     "iopub.status.busy": "2021-08-27T15:00:07.585152Z",
     "iopub.status.idle": "2021-08-27T15:00:07.727283Z",
     "shell.execute_reply": "2021-08-27T15:00:07.728547Z"
    },
    "papermill": {
     "duration": 0.171593,
     "end_time": "2021-08-27T15:00:07.728952",
     "exception": false,
     "start_time": "2021-08-27T15:00:07.557359",
     "status": "completed"
    },
    "tags": []
   },
   "outputs": [],
   "source": [
    "timestamps = pd.read_sql(\"select distinct record_time from EBAY_TOP_BERLIN order by record_time desc limit 2\", sqlite3.connect(\"UsedObjects.db\"))"
   ]
  },
  {
   "cell_type": "code",
   "execution_count": 3,
   "id": "periodic-identification",
   "metadata": {
    "execution": {
     "iopub.execute_input": "2021-08-27T15:00:07.798205Z",
     "iopub.status.busy": "2021-08-27T15:00:07.793026Z",
     "iopub.status.idle": "2021-08-27T15:00:07.812488Z",
     "shell.execute_reply": "2021-08-27T15:00:07.813792Z"
    },
    "papermill": {
     "duration": 0.063867,
     "end_time": "2021-08-27T15:00:07.814197",
     "exception": false,
     "start_time": "2021-08-27T15:00:07.750330",
     "status": "completed"
    },
    "tags": []
   },
   "outputs": [
    {
     "data": {
      "text/html": [
       "<div>\n",
       "<style scoped>\n",
       "    .dataframe tbody tr th:only-of-type {\n",
       "        vertical-align: middle;\n",
       "    }\n",
       "\n",
       "    .dataframe tbody tr th {\n",
       "        vertical-align: top;\n",
       "    }\n",
       "\n",
       "    .dataframe thead th {\n",
       "        text-align: right;\n",
       "    }\n",
       "</style>\n",
       "<table border=\"1\" class=\"dataframe\">\n",
       "  <thead>\n",
       "    <tr style=\"text-align: right;\">\n",
       "      <th></th>\n",
       "      <th>RECORD_TIME</th>\n",
       "    </tr>\n",
       "  </thead>\n",
       "  <tbody>\n",
       "    <tr>\n",
       "      <th>0</th>\n",
       "      <td>2021-08-27 17:00</td>\n",
       "    </tr>\n",
       "    <tr>\n",
       "      <th>1</th>\n",
       "      <td>2021-08-27 16:30</td>\n",
       "    </tr>\n",
       "  </tbody>\n",
       "</table>\n",
       "</div>"
      ],
      "text/plain": [
       "        RECORD_TIME\n",
       "0  2021-08-27 17:00\n",
       "1  2021-08-27 16:30"
      ]
     },
     "execution_count": 3,
     "metadata": {},
     "output_type": "execute_result"
    }
   ],
   "source": [
    "timestamps"
   ]
  },
  {
   "cell_type": "code",
   "execution_count": 4,
   "id": "alternate-victory",
   "metadata": {
    "execution": {
     "iopub.execute_input": "2021-08-27T15:00:07.866739Z",
     "iopub.status.busy": "2021-08-27T15:00:07.864565Z",
     "iopub.status.idle": "2021-08-27T15:00:08.076515Z",
     "shell.execute_reply": "2021-08-27T15:00:08.077895Z"
    },
    "papermill": {
     "duration": 0.242314,
     "end_time": "2021-08-27T15:00:08.078312",
     "exception": false,
     "start_time": "2021-08-27T15:00:07.835998",
     "status": "completed"
    },
    "tags": []
   },
   "outputs": [],
   "source": [
    "df = pd.read_sql(\"select * from EBAY_TOP_BERLIN where record_time in (select distinct record_time from EBAY_TOP_BERLIN order by record_time desc limit 2)\", sqlite3.connect(\"UsedObjects.db\"))"
   ]
  },
  {
   "cell_type": "code",
   "execution_count": 5,
   "id": "popular-active",
   "metadata": {
    "execution": {
     "iopub.execute_input": "2021-08-27T15:00:08.150528Z",
     "iopub.status.busy": "2021-08-27T15:00:08.138167Z",
     "iopub.status.idle": "2021-08-27T15:00:08.167856Z",
     "shell.execute_reply": "2021-08-27T15:00:08.169481Z"
    },
    "papermill": {
     "duration": 0.071372,
     "end_time": "2021-08-27T15:00:08.169957",
     "exception": false,
     "start_time": "2021-08-27T15:00:08.098585",
     "status": "completed"
    },
    "tags": []
   },
   "outputs": [],
   "source": [
    "df_pivot = df.pivot_table(index=\"PRODUCT\", columns = \"RECORD_TIME\", values = \"LISTING_COUNT\")"
   ]
  },
  {
   "cell_type": "code",
   "execution_count": 6,
   "id": "union-huntington",
   "metadata": {
    "execution": {
     "iopub.execute_input": "2021-08-27T15:00:08.234952Z",
     "iopub.status.busy": "2021-08-27T15:00:08.232784Z",
     "iopub.status.idle": "2021-08-27T15:00:08.238561Z",
     "shell.execute_reply": "2021-08-27T15:00:08.240338Z"
    },
    "papermill": {
     "duration": 0.044496,
     "end_time": "2021-08-27T15:00:08.240860",
     "exception": false,
     "start_time": "2021-08-27T15:00:08.196364",
     "status": "completed"
    },
    "tags": []
   },
   "outputs": [],
   "source": [
    "df_pivot.columns = [\"stamp_1\", \"stamp_2\"]\n",
    "df_pivot_diff = df_pivot.diff(axis=1)"
   ]
  },
  {
   "cell_type": "code",
   "execution_count": 7,
   "id": "fifth-motion",
   "metadata": {
    "execution": {
     "iopub.execute_input": "2021-08-27T15:00:08.295705Z",
     "iopub.status.busy": "2021-08-27T15:00:08.293494Z",
     "iopub.status.idle": "2021-08-27T15:00:09.769075Z",
     "shell.execute_reply": "2021-08-27T15:00:09.770512Z"
    },
    "papermill": {
     "duration": 1.508598,
     "end_time": "2021-08-27T15:00:09.770960",
     "exception": false,
     "start_time": "2021-08-27T15:00:08.262362",
     "status": "completed"
    },
    "tags": []
   },
   "outputs": [
    {
     "data": {
      "text/plain": [
       "<AxesSubplot:ylabel='PRODUCT'>"
      ]
     },
     "execution_count": 7,
     "metadata": {},
     "output_type": "execute_result"
    },
    {
     "data": {
      "image/png": "[encoded data removed]",
      "text/plain": [
       "<Figure size 432x288 with 1 Axes>"
      ]
     },
     "metadata": {
      "needs_background": "light"
     },
     "output_type": "display_data"
    }
   ],
   "source": [
    "df_pivot_diff.sort_values(\"stamp_2\", ascending = False)[\"stamp_2\"].head(10).plot.barh()"
   ]
  },
  {
   "cell_type": "code",
   "execution_count": null,
   "id": "extra-executive",
   "metadata": {
    "papermill": {
     "duration": 0.02207,
     "end_time": "2021-08-27T15:00:09.816355",
     "exception": false,
     "start_time": "2021-08-27T15:00:09.794285",
     "status": "completed"
    },
    "tags": []
   },
   "outputs": [],
   "source": []
  }
 ],
 "metadata": {
  "kernelspec": {
   "display_name": "Python 3",
   "language": "python",
   "name": "python3"
  },
  "language_info": {
   "codemirror_mode": {
    "name": "ipython",
    "version": 3
   },
   "file_extension": ".py",
   "mimetype": "text/x-python",
   "name": "python",
   "nbconvert_exporter": "python",
   "pygments_lexer": "ipython3",
   "version": "3.9.5"
  },
  "papermill": {
   "default_parameters": {},
   "duration": 6.834897,
   "end_time": "2021-08-27T15:00:11.113604",
   "environment_variables": {},
   "exception": null,
   "input_path": "eBay_Overview.ipynb",
   "output_path": "eBay_Overview.ipynb",
   "parameters": {},
   "start_time": "2021-08-27T15:00:04.278707",
   "version": "2.3.3"
  }
 },
 "nbformat": 4,
 "nbformat_minor": 5
}