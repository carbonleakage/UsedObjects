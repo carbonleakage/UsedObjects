{
 "cells": [
  {
   "cell_type": "code",
   "execution_count": 1,
   "id": "reverse-picking",
   "metadata": {
    "execution": {
     "iopub.execute_input": "2021-10-06T05:00:06.588661Z",
     "iopub.status.busy": "2021-10-06T05:00:06.586649Z",
     "iopub.status.idle": "2021-10-06T05:00:07.394268Z",
     "shell.execute_reply": "2021-10-06T05:00:07.395746Z"
    },
    "papermill": {
     "duration": 0.858392,
     "end_time": "2021-10-06T05:00:07.396409",
     "exception": false,
     "start_time": "2021-10-06T05:00:06.538017",
     "status": "completed"
    },
    "tags": []
   },
   "outputs": [],
   "source": [
    "import pandas as pd\n",
    "import sqlite3"
   ]
  },
  {
   "cell_type": "code",
   "execution_count": 2,
   "id": "innovative-syndrome",
   "metadata": {
    "execution": {
     "iopub.execute_input": "2021-10-06T05:00:07.448706Z",
     "iopub.status.busy": "2021-10-06T05:00:07.446291Z",
     "iopub.status.idle": "2021-10-06T05:00:07.906393Z",
     "shell.execute_reply": "2021-10-06T05:00:07.907780Z"
    },
    "papermill": {
     "duration": 0.490237,
     "end_time": "2021-10-06T05:00:07.908201",
     "exception": false,
     "start_time": "2021-10-06T05:00:07.417964",
     "status": "completed"
    },
    "tags": []
   },
   "outputs": [],
   "source": [
    "timestamps = pd.read_sql(\"select distinct record_time from EBAY_TOP_BERLIN order by record_time desc limit 2\", sqlite3.connect(\"UsedObjects.db\"))"
   ]
  },
  {
   "cell_type": "code",
   "execution_count": 3,
   "id": "periodic-identification",
   "metadata": {
    "execution": {
     "iopub.execute_input": "2021-10-06T05:00:07.975753Z",
     "iopub.status.busy": "2021-10-06T05:00:07.973645Z",
     "iopub.status.idle": "2021-10-06T05:00:07.993334Z",
     "shell.execute_reply": "2021-10-06T05:00:07.994547Z"
    },
    "papermill": {
     "duration": 0.065286,
     "end_time": "2021-10-06T05:00:07.995128",
     "exception": false,
     "start_time": "2021-10-06T05:00:07.929842",
     "status": "completed"
    },
    "tags": []
   },
   "outputs": [
    {
     "data": {
      "text/html": [
       "<div>\n",
       "<style scoped>\n",
       "    .dataframe tbody tr th:only-of-type {\n",
       "        vertical-align: middle;\n",
       "    }\n",
       "\n",
       "    .dataframe tbody tr th {\n",
       "        vertical-align: top;\n",
       "    }\n",
       "\n",
       "    .dataframe thead th {\n",
       "        text-align: right;\n",
       "    }\n",
       "</style>\n",
       "<table border=\"1\" class=\"dataframe\">\n",
       "  <thead>\n",
       "    <tr style=\"text-align: right;\">\n",
       "      <th></th>\n",
       "      <th>RECORD_TIME</th>\n",
       "    </tr>\n",
       "  </thead>\n",
       "  <tbody>\n",
       "    <tr>\n",
       "      <th>0</th>\n",
       "      <td>2021-10-06 07:00</td>\n",
       "    </tr>\n",
       "    <tr>\n",
       "      <th>1</th>\n",
       "      <td>2021-10-06 06:30</td>\n",
       "    </tr>\n",
       "  </tbody>\n",
       "</table>\n",
       "</div>"
      ],
      "text/plain": [
       "        RECORD_TIME\n",
       "0  2021-10-06 07:00\n",
       "1  2021-10-06 06:30"
      ]
     },
     "execution_count": 3,
     "metadata": {},
     "output_type": "execute_result"
    }
   ],
   "source": [
    "timestamps"
   ]
  },
  {
   "cell_type": "code",
   "execution_count": 4,
   "id": "alternate-victory",
   "metadata": {
    "execution": {
     "iopub.execute_input": "2021-10-06T05:00:08.057000Z",
     "iopub.status.busy": "2021-10-06T05:00:08.054778Z",
     "iopub.status.idle": "2021-10-06T05:00:08.756820Z",
     "shell.execute_reply": "2021-10-06T05:00:08.758025Z"
    },
    "papermill": {
     "duration": 0.735305,
     "end_time": "2021-10-06T05:00:08.758425",
     "exception": false,
     "start_time": "2021-10-06T05:00:08.023120",
     "status": "completed"
    },
    "tags": []
   },
   "outputs": [],
   "source": [
    "df = pd.read_sql(\"select * from EBAY_TOP_BERLIN where record_time in (select distinct record_time from EBAY_TOP_BERLIN order by record_time desc limit 2)\", sqlite3.connect(\"UsedObjects.db\"))"
   ]
  },
  {
   "cell_type": "code",
   "execution_count": 5,
   "id": "popular-active",
   "metadata": {
    "execution": {
     "iopub.execute_input": "2021-10-06T05:00:08.829419Z",
     "iopub.status.busy": "2021-10-06T05:00:08.817388Z",
     "iopub.status.idle": "2021-10-06T05:00:08.845111Z",
     "shell.execute_reply": "2021-10-06T05:00:08.846383Z"
    },
    "papermill": {
     "duration": 0.067852,
     "end_time": "2021-10-06T05:00:08.846858",
     "exception": false,
     "start_time": "2021-10-06T05:00:08.779006",
     "status": "completed"
    },
    "tags": []
   },
   "outputs": [],
   "source": [
    "df_pivot = df.pivot_table(index=\"PRODUCT\", columns = \"RECORD_TIME\", values = \"LISTING_COUNT\")"
   ]
  },
  {
   "cell_type": "code",
   "execution_count": 6,
   "id": "union-huntington",
   "metadata": {
    "execution": {
     "iopub.execute_input": "2021-10-06T05:00:08.902833Z",
     "iopub.status.busy": "2021-10-06T05:00:08.900777Z",
     "iopub.status.idle": "2021-10-06T05:00:08.906060Z",
     "shell.execute_reply": "2021-10-06T05:00:08.907383Z"
    },
    "papermill": {
     "duration": 0.040787,
     "end_time": "2021-10-06T05:00:08.907806",
     "exception": false,
     "start_time": "2021-10-06T05:00:08.867019",
     "status": "completed"
    },
    "tags": []
   },
   "outputs": [],
   "source": [
    "df_pivot.columns = [\"stamp_1\", \"stamp_2\"]\n",
    "df_pivot_diff = df_pivot.diff(axis=1)"
   ]
  },
  {
   "cell_type": "code",
   "execution_count": 7,
   "id": "fifth-motion",
   "metadata": {
    "execution": {
     "iopub.execute_input": "2021-10-06T05:00:08.963213Z",
     "iopub.status.busy": "2021-10-06T05:00:08.960662Z",
     "iopub.status.idle": "2021-10-06T05:00:10.455080Z",
     "shell.execute_reply": "2021-10-06T05:00:10.456451Z"
    },
    "papermill": {
     "duration": 1.527605,
     "end_time": "2021-10-06T05:00:10.456893",
     "exception": false,
     "start_time": "2021-10-06T05:00:08.929288",
     "status": "completed"
    },
    "tags": []
   },
   "outputs": [
    {
     "data": {
      "text/plain": [
       "<AxesSubplot:ylabel='PRODUCT'>"
      ]
     },
     "execution_count": 7,
     "metadata": {},
     "output_type": "execute_result"
    },
    {
     "data": {
      "image/png": "[encoded data removed]",
      "text/plain": [
       "<Figure size 432x288 with 1 Axes>"
      ]
     },
     "metadata": {
      "needs_background": "light"
     },
     "output_type": "display_data"
    }
   ],
   "source": [
    "df_pivot_diff.sort_values(\"stamp_2\", ascending = False)[\"stamp_2\"].head(10).plot.barh()"
   ]
  },
  {
   "cell_type": "code",
   "execution_count": null,
   "id": "extra-executive",
   "metadata": {
    "papermill": {
     "duration": 0.022521,
     "end_time": "2021-10-06T05:00:10.504061",
     "exception": false,
     "start_time": "2021-10-06T05:00:10.481540",
     "status": "completed"
    },
    "tags": []
   },
   "outputs": [],
   "source": []
  }
 ],
 "metadata": {
  "kernelspec": {
   "display_name": "Python 3",
   "language": "python",
   "name": "python3"
  },
  "language_info": {
   "codemirror_mode": {
    "name": "ipython",
    "version": 3
   },
   "file_extension": ".py",
   "mimetype": "text/x-python",
   "name": "python",
   "nbconvert_exporter": "python",
   "pygments_lexer": "ipython3",
   "version": "3.9.5"
  },
  "papermill": {
   "default_parameters": {},
   "duration": 7.822907,
   "end_time": "2021-10-06T05:00:11.959789",
   "environment_variables": {},
   "exception": null,
   "input_path": "eBay_Overview.ipynb",
   "output_path": "eBay_Overview.ipynb",
   "parameters": {},
   "start_time": "2021-10-06T05:00:04.136882",
   "version": "2.3.3"
  }
 },
 "nbformat": 4,
 "nbformat_minor": 5
}