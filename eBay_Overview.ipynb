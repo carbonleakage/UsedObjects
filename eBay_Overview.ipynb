{
 "cells": [
  {
   "cell_type": "code",
   "execution_count": 1,
   "id": "reverse-picking",
   "metadata": {
    "execution": {
     "iopub.execute_input": "2021-10-25T02:00:07.182980Z",
     "iopub.status.busy": "2021-10-25T02:00:07.181038Z",
     "iopub.status.idle": "2021-10-25T02:00:07.999441Z",
     "shell.execute_reply": "2021-10-25T02:00:07.997892Z"
    },
    "papermill": {
     "duration": 0.870844,
     "end_time": "2021-10-25T02:00:07.999832",
     "exception": false,
     "start_time": "2021-10-25T02:00:07.128988",
     "status": "completed"
    },
    "tags": []
   },
   "outputs": [],
   "source": [
    "import pandas as pd\n",
    "import sqlite3"
   ]
  },
  {
   "cell_type": "code",
   "execution_count": 2,
   "id": "innovative-syndrome",
   "metadata": {
    "execution": {
     "iopub.execute_input": "2021-10-25T02:00:08.051039Z",
     "iopub.status.busy": "2021-10-25T02:00:08.049182Z",
     "iopub.status.idle": "2021-10-25T02:00:08.669554Z",
     "shell.execute_reply": "2021-10-25T02:00:08.670826Z"
    },
    "papermill": {
     "duration": 0.649894,
     "end_time": "2021-10-25T02:00:08.671224",
     "exception": false,
     "start_time": "2021-10-25T02:00:08.021330",
     "status": "completed"
    },
    "tags": []
   },
   "outputs": [],
   "source": [
    "timestamps = pd.read_sql(\"select distinct record_time from EBAY_TOP_BERLIN order by record_time desc limit 2\", sqlite3.connect(\"UsedObjects.db\"))"
   ]
  },
  {
   "cell_type": "code",
   "execution_count": 3,
   "id": "periodic-identification",
   "metadata": {
    "execution": {
     "iopub.execute_input": "2021-10-25T02:00:08.750695Z",
     "iopub.status.busy": "2021-10-25T02:00:08.748602Z",
     "iopub.status.idle": "2021-10-25T02:00:08.770169Z",
     "shell.execute_reply": "2021-10-25T02:00:08.771873Z"
    },
    "papermill": {
     "duration": 0.073592,
     "end_time": "2021-10-25T02:00:08.772399",
     "exception": false,
     "start_time": "2021-10-25T02:00:08.698807",
     "status": "completed"
    },
    "tags": []
   },
   "outputs": [
    {
     "data": {
      "text/html": [
       "<div>\n",
       "<style scoped>\n",
       "    .dataframe tbody tr th:only-of-type {\n",
       "        vertical-align: middle;\n",
       "    }\n",
       "\n",
       "    .dataframe tbody tr th {\n",
       "        vertical-align: top;\n",
       "    }\n",
       "\n",
       "    .dataframe thead th {\n",
       "        text-align: right;\n",
       "    }\n",
       "</style>\n",
       "<table border=\"1\" class=\"dataframe\">\n",
       "  <thead>\n",
       "    <tr style=\"text-align: right;\">\n",
       "      <th></th>\n",
       "      <th>RECORD_TIME</th>\n",
       "    </tr>\n",
       "  </thead>\n",
       "  <tbody>\n",
       "    <tr>\n",
       "      <th>0</th>\n",
       "      <td>2021-10-25 04:00</td>\n",
       "    </tr>\n",
       "    <tr>\n",
       "      <th>1</th>\n",
       "      <td>2021-10-25 03:30</td>\n",
       "    </tr>\n",
       "  </tbody>\n",
       "</table>\n",
       "</div>"
      ],
      "text/plain": [
       "        RECORD_TIME\n",
       "0  2021-10-25 04:00\n",
       "1  2021-10-25 03:30"
      ]
     },
     "execution_count": 3,
     "metadata": {},
     "output_type": "execute_result"
    }
   ],
   "source": [
    "timestamps"
   ]
  },
  {
   "cell_type": "code",
   "execution_count": 4,
   "id": "alternate-victory",
   "metadata": {
    "execution": {
     "iopub.execute_input": "2021-10-25T02:00:08.825029Z",
     "iopub.status.busy": "2021-10-25T02:00:08.823080Z",
     "iopub.status.idle": "2021-10-25T02:00:09.746815Z",
     "shell.execute_reply": "2021-10-25T02:00:09.748017Z"
    },
    "papermill": {
     "duration": 0.953659,
     "end_time": "2021-10-25T02:00:09.748404",
     "exception": false,
     "start_time": "2021-10-25T02:00:08.794745",
     "status": "completed"
    },
    "tags": []
   },
   "outputs": [],
   "source": [
    "df = pd.read_sql(\"select * from EBAY_TOP_BERLIN where record_time in (select distinct record_time from EBAY_TOP_BERLIN order by record_time desc limit 2)\", sqlite3.connect(\"UsedObjects.db\"))"
   ]
  },
  {
   "cell_type": "code",
   "execution_count": 5,
   "id": "popular-active",
   "metadata": {
    "execution": {
     "iopub.execute_input": "2021-10-25T02:00:09.809360Z",
     "iopub.status.busy": "2021-10-25T02:00:09.807044Z",
     "iopub.status.idle": "2021-10-25T02:00:09.834773Z",
     "shell.execute_reply": "2021-10-25T02:00:09.835973Z"
    },
    "papermill": {
     "duration": 0.067262,
     "end_time": "2021-10-25T02:00:09.836361",
     "exception": false,
     "start_time": "2021-10-25T02:00:09.769099",
     "status": "completed"
    },
    "tags": []
   },
   "outputs": [],
   "source": [
    "df_pivot = df.pivot_table(index=\"PRODUCT\", columns = \"RECORD_TIME\", values = \"LISTING_COUNT\")"
   ]
  },
  {
   "cell_type": "code",
   "execution_count": 6,
   "id": "union-huntington",
   "metadata": {
    "execution": {
     "iopub.execute_input": "2021-10-25T02:00:09.893391Z",
     "iopub.status.busy": "2021-10-25T02:00:09.891197Z",
     "iopub.status.idle": "2021-10-25T02:00:09.896986Z",
     "shell.execute_reply": "2021-10-25T02:00:09.898377Z"
    },
    "papermill": {
     "duration": 0.040933,
     "end_time": "2021-10-25T02:00:09.898812",
     "exception": false,
     "start_time": "2021-10-25T02:00:09.857879",
     "status": "completed"
    },
    "tags": []
   },
   "outputs": [],
   "source": [
    "df_pivot.columns = [\"stamp_1\", \"stamp_2\"]\n",
    "df_pivot_diff = df_pivot.diff(axis=1)"
   ]
  },
  {
   "cell_type": "code",
   "execution_count": 7,
   "id": "fifth-motion",
   "metadata": {
    "execution": {
     "iopub.execute_input": "2021-10-25T02:00:09.952447Z",
     "iopub.status.busy": "2021-10-25T02:00:09.950238Z",
     "iopub.status.idle": "2021-10-25T02:00:11.422923Z",
     "shell.execute_reply": "2021-10-25T02:00:11.424202Z"
    },
    "papermill": {
     "duration": 1.505296,
     "end_time": "2021-10-25T02:00:11.424617",
     "exception": false,
     "start_time": "2021-10-25T02:00:09.919321",
     "status": "completed"
    },
    "tags": []
   },
   "outputs": [
    {
     "data": {
      "text/plain": [
       "<AxesSubplot:ylabel='PRODUCT'>"
      ]
     },
     "execution_count": 7,
     "metadata": {},
     "output_type": "execute_result"
    },
    {
     "data": {
      "image/png": "[encoded data removed]",
      "text/plain": [
       "<Figure size 432x288 with 1 Axes>"
      ]
     },
     "metadata": {
      "needs_background": "light"
     },
     "output_type": "display_data"
    }
   ],
   "source": [
    "df_pivot_diff.sort_values(\"stamp_2\", ascending = False)[\"stamp_2\"].head(10).plot.barh()"
   ]
  },
  {
   "cell_type": "code",
   "execution_count": null,
   "id": "extra-executive",
   "metadata": {
    "papermill": {
     "duration": 0.022011,
     "end_time": "2021-10-25T02:00:11.473259",
     "exception": false,
     "start_time": "2021-10-25T02:00:11.451248",
     "status": "completed"
    },
    "tags": []
   },
   "outputs": [],
   "source": []
  }
 ],
 "metadata": {
  "kernelspec": {
   "display_name": "Python 3",
   "language": "python",
   "name": "python3"
  },
  "language_info": {
   "codemirror_mode": {
    "name": "ipython",
    "version": 3
   },
   "file_extension": ".py",
   "mimetype": "text/x-python",
   "name": "python",
   "nbconvert_exporter": "python",
   "pygments_lexer": "ipython3",
   "version": "3.9.5"
  },
  "papermill": {
   "default_parameters": {},
   "duration": 7.415625,
   "end_time": "2021-10-25T02:00:12.113369",
   "environment_variables": {},
   "exception": null,
   "input_path": "eBay_Overview.ipynb",
   "output_path": "eBay_Overview.ipynb",
   "parameters": {},
   "start_time": "2021-10-25T02:00:04.697744",
   "version": "2.3.3"
  }
 },
 "nbformat": 4,
 "nbformat_minor": 5
}