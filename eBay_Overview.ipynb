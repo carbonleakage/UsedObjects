{
 "cells": [
  {
   "cell_type": "code",
   "execution_count": 1,
   "id": "reverse-picking",
   "metadata": {
    "execution": {
     "iopub.execute_input": "2021-10-07T22:00:07.292941Z",
     "iopub.status.busy": "2021-10-07T22:00:07.291013Z",
     "iopub.status.idle": "2021-10-07T22:00:08.102711Z",
     "shell.execute_reply": "2021-10-07T22:00:08.104235Z"
    },
    "papermill": {
     "duration": 0.865725,
     "end_time": "2021-10-07T22:00:08.104923",
     "exception": false,
     "start_time": "2021-10-07T22:00:07.239198",
     "status": "completed"
    },
    "tags": []
   },
   "outputs": [],
   "source": [
    "import pandas as pd\n",
    "import sqlite3"
   ]
  },
  {
   "cell_type": "code",
   "execution_count": 2,
   "id": "innovative-syndrome",
   "metadata": {
    "execution": {
     "iopub.execute_input": "2021-10-07T22:00:08.155770Z",
     "iopub.status.busy": "2021-10-07T22:00:08.153395Z",
     "iopub.status.idle": "2021-10-07T22:00:08.640002Z",
     "shell.execute_reply": "2021-10-07T22:00:08.641259Z"
    },
    "papermill": {
     "duration": 0.516587,
     "end_time": "2021-10-07T22:00:08.641662",
     "exception": false,
     "start_time": "2021-10-07T22:00:08.125075",
     "status": "completed"
    },
    "tags": []
   },
   "outputs": [],
   "source": [
    "timestamps = pd.read_sql(\"select distinct record_time from EBAY_TOP_BERLIN order by record_time desc limit 2\", sqlite3.connect(\"UsedObjects.db\"))"
   ]
  },
  {
   "cell_type": "code",
   "execution_count": 3,
   "id": "periodic-identification",
   "metadata": {
    "execution": {
     "iopub.execute_input": "2021-10-07T22:00:08.707109Z",
     "iopub.status.busy": "2021-10-07T22:00:08.705007Z",
     "iopub.status.idle": "2021-10-07T22:00:08.724867Z",
     "shell.execute_reply": "2021-10-07T22:00:08.725990Z"
    },
    "papermill": {
     "duration": 0.064577,
     "end_time": "2021-10-07T22:00:08.726395",
     "exception": false,
     "start_time": "2021-10-07T22:00:08.661818",
     "status": "completed"
    },
    "tags": []
   },
   "outputs": [
    {
     "data": {
      "text/html": [
       "<div>\n",
       "<style scoped>\n",
       "    .dataframe tbody tr th:only-of-type {\n",
       "        vertical-align: middle;\n",
       "    }\n",
       "\n",
       "    .dataframe tbody tr th {\n",
       "        vertical-align: top;\n",
       "    }\n",
       "\n",
       "    .dataframe thead th {\n",
       "        text-align: right;\n",
       "    }\n",
       "</style>\n",
       "<table border=\"1\" class=\"dataframe\">\n",
       "  <thead>\n",
       "    <tr style=\"text-align: right;\">\n",
       "      <th></th>\n",
       "      <th>RECORD_TIME</th>\n",
       "    </tr>\n",
       "  </thead>\n",
       "  <tbody>\n",
       "    <tr>\n",
       "      <th>0</th>\n",
       "      <td>2021-10-08 00:00</td>\n",
       "    </tr>\n",
       "    <tr>\n",
       "      <th>1</th>\n",
       "      <td>2021-10-07 23:30</td>\n",
       "    </tr>\n",
       "  </tbody>\n",
       "</table>\n",
       "</div>"
      ],
      "text/plain": [
       "        RECORD_TIME\n",
       "0  2021-10-08 00:00\n",
       "1  2021-10-07 23:30"
      ]
     },
     "execution_count": 3,
     "metadata": {},
     "output_type": "execute_result"
    }
   ],
   "source": [
    "timestamps"
   ]
  },
  {
   "cell_type": "code",
   "execution_count": 4,
   "id": "alternate-victory",
   "metadata": {
    "execution": {
     "iopub.execute_input": "2021-10-07T22:00:08.798983Z",
     "iopub.status.busy": "2021-10-07T22:00:08.796556Z",
     "iopub.status.idle": "2021-10-07T22:00:09.509380Z",
     "shell.execute_reply": "2021-10-07T22:00:09.510499Z"
    },
    "papermill": {
     "duration": 0.750339,
     "end_time": "2021-10-07T22:00:09.510982",
     "exception": false,
     "start_time": "2021-10-07T22:00:08.760643",
     "status": "completed"
    },
    "tags": []
   },
   "outputs": [],
   "source": [
    "df = pd.read_sql(\"select * from EBAY_TOP_BERLIN where record_time in (select distinct record_time from EBAY_TOP_BERLIN order by record_time desc limit 2)\", sqlite3.connect(\"UsedObjects.db\"))"
   ]
  },
  {
   "cell_type": "code",
   "execution_count": 5,
   "id": "popular-active",
   "metadata": {
    "execution": {
     "iopub.execute_input": "2021-10-07T22:00:09.583475Z",
     "iopub.status.busy": "2021-10-07T22:00:09.571063Z",
     "iopub.status.idle": "2021-10-07T22:00:09.599140Z",
     "shell.execute_reply": "2021-10-07T22:00:09.600369Z"
    },
    "papermill": {
     "duration": 0.067795,
     "end_time": "2021-10-07T22:00:09.600767",
     "exception": false,
     "start_time": "2021-10-07T22:00:09.532972",
     "status": "completed"
    },
    "tags": []
   },
   "outputs": [],
   "source": [
    "df_pivot = df.pivot_table(index=\"PRODUCT\", columns = \"RECORD_TIME\", values = \"LISTING_COUNT\")"
   ]
  },
  {
   "cell_type": "code",
   "execution_count": 6,
   "id": "union-huntington",
   "metadata": {
    "execution": {
     "iopub.execute_input": "2021-10-07T22:00:09.657738Z",
     "iopub.status.busy": "2021-10-07T22:00:09.655165Z",
     "iopub.status.idle": "2021-10-07T22:00:09.661007Z",
     "shell.execute_reply": "2021-10-07T22:00:09.662366Z"
    },
    "papermill": {
     "duration": 0.041514,
     "end_time": "2021-10-07T22:00:09.662996",
     "exception": false,
     "start_time": "2021-10-07T22:00:09.621482",
     "status": "completed"
    },
    "tags": []
   },
   "outputs": [],
   "source": [
    "df_pivot.columns = [\"stamp_1\", \"stamp_2\"]\n",
    "df_pivot_diff = df_pivot.diff(axis=1)"
   ]
  },
  {
   "cell_type": "code",
   "execution_count": 7,
   "id": "fifth-motion",
   "metadata": {
    "execution": {
     "iopub.execute_input": "2021-10-07T22:00:09.719630Z",
     "iopub.status.busy": "2021-10-07T22:00:09.716902Z",
     "iopub.status.idle": "2021-10-07T22:00:11.195969Z",
     "shell.execute_reply": "2021-10-07T22:00:11.197401Z"
    },
    "papermill": {
     "duration": 1.512847,
     "end_time": "2021-10-07T22:00:11.197843",
     "exception": false,
     "start_time": "2021-10-07T22:00:09.684996",
     "status": "completed"
    },
    "tags": []
   },
   "outputs": [
    {
     "data": {
      "text/plain": [
       "<AxesSubplot:ylabel='PRODUCT'>"
      ]
     },
     "execution_count": 7,
     "metadata": {},
     "output_type": "execute_result"
    },
    {
     "data": {
      "image/png": "[encoded data removed]",
      "text/plain": [
       "<Figure size 432x288 with 1 Axes>"
      ]
     },
     "metadata": {
      "needs_background": "light"
     },
     "output_type": "display_data"
    }
   ],
   "source": [
    "df_pivot_diff.sort_values(\"stamp_2\", ascending = False)[\"stamp_2\"].head(10).plot.barh()"
   ]
  },
  {
   "cell_type": "code",
   "execution_count": null,
   "id": "extra-executive",
   "metadata": {
    "papermill": {
     "duration": 0.022171,
     "end_time": "2021-10-07T22:00:11.243407",
     "exception": false,
     "start_time": "2021-10-07T22:00:11.221236",
     "status": "completed"
    },
    "tags": []
   },
   "outputs": [],
   "source": []
  }
 ],
 "metadata": {
  "kernelspec": {
   "display_name": "Python 3",
   "language": "python",
   "name": "python3"
  },
  "language_info": {
   "codemirror_mode": {
    "name": "ipython",
    "version": 3
   },
   "file_extension": ".py",
   "mimetype": "text/x-python",
   "name": "python",
   "nbconvert_exporter": "python",
   "pygments_lexer": "ipython3",
   "version": "3.9.5"
  },
  "papermill": {
   "default_parameters": {},
   "duration": 7.836006,
   "end_time": "2021-10-07T22:00:12.660814",
   "environment_variables": {},
   "exception": null,
   "input_path": "eBay_Overview.ipynb",
   "output_path": "eBay_Overview.ipynb",
   "parameters": {},
   "start_time": "2021-10-07T22:00:04.824808",
   "version": "2.3.3"
  }
 },
 "nbformat": 4,
 "nbformat_minor": 5
}