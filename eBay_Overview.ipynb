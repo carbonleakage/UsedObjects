{
 "cells": [
  {
   "cell_type": "code",
   "execution_count": 1,
   "id": "reverse-picking",
   "metadata": {
    "execution": {
     "iopub.execute_input": "2021-10-28T14:00:07.008351Z",
     "iopub.status.busy": "2021-10-28T14:00:07.006395Z",
     "iopub.status.idle": "2021-10-28T14:00:07.813481Z",
     "shell.execute_reply": "2021-10-28T14:00:07.814798Z"
    },
    "papermill": {
     "duration": 0.859485,
     "end_time": "2021-10-28T14:00:07.815450",
     "exception": false,
     "start_time": "2021-10-28T14:00:06.955965",
     "status": "completed"
    },
    "tags": []
   },
   "outputs": [],
   "source": [
    "import pandas as pd\n",
    "import sqlite3"
   ]
  },
  {
   "cell_type": "code",
   "execution_count": 2,
   "id": "innovative-syndrome",
   "metadata": {
    "execution": {
     "iopub.execute_input": "2021-10-28T14:00:07.866182Z",
     "iopub.status.busy": "2021-10-28T14:00:07.864180Z",
     "iopub.status.idle": "2021-10-28T14:00:08.517973Z",
     "shell.execute_reply": "2021-10-28T14:00:08.519212Z"
    },
    "papermill": {
     "duration": 0.683021,
     "end_time": "2021-10-28T14:00:08.519609",
     "exception": false,
     "start_time": "2021-10-28T14:00:07.836588",
     "status": "completed"
    },
    "tags": []
   },
   "outputs": [],
   "source": [
    "timestamps = pd.read_sql(\"select distinct record_time from EBAY_TOP_BERLIN order by record_time desc limit 2\", sqlite3.connect(\"UsedObjects.db\"))"
   ]
  },
  {
   "cell_type": "code",
   "execution_count": 3,
   "id": "periodic-identification",
   "metadata": {
    "execution": {
     "iopub.execute_input": "2021-10-28T14:00:08.592238Z",
     "iopub.status.busy": "2021-10-28T14:00:08.590206Z",
     "iopub.status.idle": "2021-10-28T14:00:08.610177Z",
     "shell.execute_reply": "2021-10-28T14:00:08.611666Z"
    },
    "papermill": {
     "duration": 0.068924,
     "end_time": "2021-10-28T14:00:08.612187",
     "exception": false,
     "start_time": "2021-10-28T14:00:08.543263",
     "status": "completed"
    },
    "tags": []
   },
   "outputs": [
    {
     "data": {
      "text/html": [
       "<div>\n",
       "<style scoped>\n",
       "    .dataframe tbody tr th:only-of-type {\n",
       "        vertical-align: middle;\n",
       "    }\n",
       "\n",
       "    .dataframe tbody tr th {\n",
       "        vertical-align: top;\n",
       "    }\n",
       "\n",
       "    .dataframe thead th {\n",
       "        text-align: right;\n",
       "    }\n",
       "</style>\n",
       "<table border=\"1\" class=\"dataframe\">\n",
       "  <thead>\n",
       "    <tr style=\"text-align: right;\">\n",
       "      <th></th>\n",
       "      <th>RECORD_TIME</th>\n",
       "    </tr>\n",
       "  </thead>\n",
       "  <tbody>\n",
       "    <tr>\n",
       "      <th>0</th>\n",
       "      <td>2021-10-28 16:00</td>\n",
       "    </tr>\n",
       "    <tr>\n",
       "      <th>1</th>\n",
       "      <td>2021-10-28 15:30</td>\n",
       "    </tr>\n",
       "  </tbody>\n",
       "</table>\n",
       "</div>"
      ],
      "text/plain": [
       "        RECORD_TIME\n",
       "0  2021-10-28 16:00\n",
       "1  2021-10-28 15:30"
      ]
     },
     "execution_count": 3,
     "metadata": {},
     "output_type": "execute_result"
    }
   ],
   "source": [
    "timestamps"
   ]
  },
  {
   "cell_type": "code",
   "execution_count": 4,
   "id": "alternate-victory",
   "metadata": {
    "execution": {
     "iopub.execute_input": "2021-10-28T14:00:08.664410Z",
     "iopub.status.busy": "2021-10-28T14:00:08.662494Z",
     "iopub.status.idle": "2021-10-28T14:00:09.629379Z",
     "shell.execute_reply": "2021-10-28T14:00:09.630851Z"
    },
    "papermill": {
     "duration": 0.997311,
     "end_time": "2021-10-28T14:00:09.631299",
     "exception": false,
     "start_time": "2021-10-28T14:00:08.633988",
     "status": "completed"
    },
    "tags": []
   },
   "outputs": [],
   "source": [
    "df = pd.read_sql(\"select * from EBAY_TOP_BERLIN where record_time in (select distinct record_time from EBAY_TOP_BERLIN order by record_time desc limit 2)\", sqlite3.connect(\"UsedObjects.db\"))"
   ]
  },
  {
   "cell_type": "code",
   "execution_count": 5,
   "id": "popular-active",
   "metadata": {
    "execution": {
     "iopub.execute_input": "2021-10-28T14:00:09.702877Z",
     "iopub.status.busy": "2021-10-28T14:00:09.690750Z",
     "iopub.status.idle": "2021-10-28T14:00:09.719770Z",
     "shell.execute_reply": "2021-10-28T14:00:09.721464Z"
    },
    "papermill": {
     "duration": 0.069804,
     "end_time": "2021-10-28T14:00:09.721952",
     "exception": false,
     "start_time": "2021-10-28T14:00:09.652148",
     "status": "completed"
    },
    "tags": []
   },
   "outputs": [],
   "source": [
    "df_pivot = df.pivot_table(index=\"PRODUCT\", columns = \"RECORD_TIME\", values = \"LISTING_COUNT\")"
   ]
  },
  {
   "cell_type": "code",
   "execution_count": 6,
   "id": "union-huntington",
   "metadata": {
    "execution": {
     "iopub.execute_input": "2021-10-28T14:00:09.780264Z",
     "iopub.status.busy": "2021-10-28T14:00:09.778218Z",
     "iopub.status.idle": "2021-10-28T14:00:09.783527Z",
     "shell.execute_reply": "2021-10-28T14:00:09.784867Z"
    },
    "papermill": {
     "duration": 0.041436,
     "end_time": "2021-10-28T14:00:09.785341",
     "exception": false,
     "start_time": "2021-10-28T14:00:09.743905",
     "status": "completed"
    },
    "tags": []
   },
   "outputs": [],
   "source": [
    "df_pivot.columns = [\"stamp_1\", \"stamp_2\"]\n",
    "df_pivot_diff = df_pivot.diff(axis=1)"
   ]
  },
  {
   "cell_type": "code",
   "execution_count": 7,
   "id": "fifth-motion",
   "metadata": {
    "execution": {
     "iopub.execute_input": "2021-10-28T14:00:09.840270Z",
     "iopub.status.busy": "2021-10-28T14:00:09.837886Z",
     "iopub.status.idle": "2021-10-28T14:00:11.345419Z",
     "shell.execute_reply": "2021-10-28T14:00:11.346791Z"
    },
    "papermill": {
     "duration": 1.540468,
     "end_time": "2021-10-28T14:00:11.347233",
     "exception": false,
     "start_time": "2021-10-28T14:00:09.806765",
     "status": "completed"
    },
    "tags": []
   },
   "outputs": [
    {
     "data": {
      "text/plain": [
       "<AxesSubplot:ylabel='PRODUCT'>"
      ]
     },
     "execution_count": 7,
     "metadata": {},
     "output_type": "execute_result"
    },
    {
     "data": {
      "image/png": "[encoded data removed]",
      "text/plain": [
       "<Figure size 432x288 with 1 Axes>"
      ]
     },
     "metadata": {
      "needs_background": "light"
     },
     "output_type": "display_data"
    }
   ],
   "source": [
    "df_pivot_diff.sort_values(\"stamp_2\", ascending = False)[\"stamp_2\"].head(10).plot.barh()"
   ]
  },
  {
   "cell_type": "code",
   "execution_count": null,
   "id": "extra-executive",
   "metadata": {
    "papermill": {
     "duration": 0.023056,
     "end_time": "2021-10-28T14:00:11.394876",
     "exception": false,
     "start_time": "2021-10-28T14:00:11.371820",
     "status": "completed"
    },
    "tags": []
   },
   "outputs": [],
   "source": []
  }
 ],
 "metadata": {
  "kernelspec": {
   "display_name": "Python 3",
   "language": "python",
   "name": "python3"
  },
  "language_info": {
   "codemirror_mode": {
    "name": "ipython",
    "version": 3
   },
   "file_extension": ".py",
   "mimetype": "text/x-python",
   "name": "python",
   "nbconvert_exporter": "python",
   "pygments_lexer": "ipython3",
   "version": "3.9.5"
  },
  "papermill": {
   "default_parameters": {},
   "duration": 7.48791,
   "end_time": "2021-10-28T14:00:12.038162",
   "environment_variables": {},
   "exception": null,
   "input_path": "eBay_Overview.ipynb",
   "output_path": "eBay_Overview.ipynb",
   "parameters": {},
   "start_time": "2021-10-28T14:00:04.550252",
   "version": "2.3.3"
  }
 },
 "nbformat": 4,
 "nbformat_minor": 5
}