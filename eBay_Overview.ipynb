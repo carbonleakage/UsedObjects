{
 "cells": [
  {
   "cell_type": "code",
   "execution_count": 1,
   "id": "reverse-picking",
   "metadata": {
    "execution": {
     "iopub.execute_input": "2021-11-30T02:30:07.419037Z",
     "iopub.status.busy": "2021-11-30T02:30:07.416303Z",
     "iopub.status.idle": "2021-11-30T02:30:08.338659Z",
     "shell.execute_reply": "2021-11-30T02:30:08.340210Z"
    },
    "papermill": {
     "duration": 0.977372,
     "end_time": "2021-11-30T02:30:08.340986",
     "exception": false,
     "start_time": "2021-11-30T02:30:07.363614",
     "status": "completed"
    },
    "tags": []
   },
   "outputs": [],
   "source": [
    "import pandas as pd\n",
    "import sqlite3"
   ]
  },
  {
   "cell_type": "code",
   "execution_count": 2,
   "id": "innovative-syndrome",
   "metadata": {
    "execution": {
     "iopub.execute_input": "2021-11-30T02:30:08.406844Z",
     "iopub.status.busy": "2021-11-30T02:30:08.404165Z",
     "iopub.status.idle": "2021-11-30T02:30:09.358467Z",
     "shell.execute_reply": "2021-11-30T02:30:09.359861Z"
    },
    "papermill": {
     "duration": 0.988515,
     "end_time": "2021-11-30T02:30:09.360364",
     "exception": false,
     "start_time": "2021-11-30T02:30:08.371849",
     "status": "completed"
    },
    "tags": []
   },
   "outputs": [],
   "source": [
    "timestamps = pd.read_sql(\"select distinct record_time from EBAY_TOP_BERLIN order by record_time desc limit 2\", sqlite3.connect(\"UsedObjects.db\"))"
   ]
  },
  {
   "cell_type": "code",
   "execution_count": 3,
   "id": "periodic-identification",
   "metadata": {
    "execution": {
     "iopub.execute_input": "2021-11-30T02:30:09.437759Z",
     "iopub.status.busy": "2021-11-30T02:30:09.431098Z",
     "iopub.status.idle": "2021-11-30T02:30:09.454150Z",
     "shell.execute_reply": "2021-11-30T02:30:09.455981Z"
    },
    "papermill": {
     "duration": 0.074864,
     "end_time": "2021-11-30T02:30:09.456567",
     "exception": false,
     "start_time": "2021-11-30T02:30:09.381703",
     "status": "completed"
    },
    "tags": []
   },
   "outputs": [
    {
     "data": {
      "text/html": [
       "<div>\n",
       "<style scoped>\n",
       "    .dataframe tbody tr th:only-of-type {\n",
       "        vertical-align: middle;\n",
       "    }\n",
       "\n",
       "    .dataframe tbody tr th {\n",
       "        vertical-align: top;\n",
       "    }\n",
       "\n",
       "    .dataframe thead th {\n",
       "        text-align: right;\n",
       "    }\n",
       "</style>\n",
       "<table border=\"1\" class=\"dataframe\">\n",
       "  <thead>\n",
       "    <tr style=\"text-align: right;\">\n",
       "      <th></th>\n",
       "      <th>RECORD_TIME</th>\n",
       "    </tr>\n",
       "  </thead>\n",
       "  <tbody>\n",
       "    <tr>\n",
       "      <th>0</th>\n",
       "      <td>2021-11-30 03:30</td>\n",
       "    </tr>\n",
       "    <tr>\n",
       "      <th>1</th>\n",
       "      <td>2021-11-30 03:00</td>\n",
       "    </tr>\n",
       "  </tbody>\n",
       "</table>\n",
       "</div>"
      ],
      "text/plain": [
       "        RECORD_TIME\n",
       "0  2021-11-30 03:30\n",
       "1  2021-11-30 03:00"
      ]
     },
     "execution_count": 3,
     "metadata": {},
     "output_type": "execute_result"
    }
   ],
   "source": [
    "timestamps"
   ]
  },
  {
   "cell_type": "code",
   "execution_count": 4,
   "id": "alternate-victory",
   "metadata": {
    "execution": {
     "iopub.execute_input": "2021-11-30T02:30:09.510011Z",
     "iopub.status.busy": "2021-11-30T02:30:09.508033Z",
     "iopub.status.idle": "2021-11-30T02:30:10.896782Z",
     "shell.execute_reply": "2021-11-30T02:30:10.898298Z"
    },
    "papermill": {
     "duration": 1.419351,
     "end_time": "2021-11-30T02:30:10.898781",
     "exception": false,
     "start_time": "2021-11-30T02:30:09.479430",
     "status": "completed"
    },
    "tags": []
   },
   "outputs": [],
   "source": [
    "df = pd.read_sql(\"select * from EBAY_TOP_BERLIN where record_time in (select distinct record_time from EBAY_TOP_BERLIN order by record_time desc limit 2)\", sqlite3.connect(\"UsedObjects.db\"))"
   ]
  },
  {
   "cell_type": "code",
   "execution_count": 5,
   "id": "popular-active",
   "metadata": {
    "execution": {
     "iopub.execute_input": "2021-11-30T02:30:10.974542Z",
     "iopub.status.busy": "2021-11-30T02:30:10.966361Z",
     "iopub.status.idle": "2021-11-30T02:30:10.993815Z",
     "shell.execute_reply": "2021-11-30T02:30:10.992172Z"
    },
    "papermill": {
     "duration": 0.074602,
     "end_time": "2021-11-30T02:30:10.994208",
     "exception": false,
     "start_time": "2021-11-30T02:30:10.919606",
     "status": "completed"
    },
    "tags": []
   },
   "outputs": [],
   "source": [
    "df_pivot = df.pivot_table(index=\"PRODUCT\", columns = \"RECORD_TIME\", values = \"LISTING_COUNT\")"
   ]
  },
  {
   "cell_type": "code",
   "execution_count": 6,
   "id": "union-huntington",
   "metadata": {
    "execution": {
     "iopub.execute_input": "2021-11-30T02:30:11.058608Z",
     "iopub.status.busy": "2021-11-30T02:30:11.056047Z",
     "iopub.status.idle": "2021-11-30T02:30:11.062223Z",
     "shell.execute_reply": "2021-11-30T02:30:11.063705Z"
    },
    "papermill": {
     "duration": 0.047382,
     "end_time": "2021-11-30T02:30:11.064146",
     "exception": false,
     "start_time": "2021-11-30T02:30:11.016764",
     "status": "completed"
    },
    "tags": []
   },
   "outputs": [],
   "source": [
    "df_pivot.columns = [\"stamp_1\", \"stamp_2\"]\n",
    "df_pivot_diff = df_pivot.diff(axis=1)"
   ]
  },
  {
   "cell_type": "code",
   "execution_count": 7,
   "id": "fifth-motion",
   "metadata": {
    "execution": {
     "iopub.execute_input": "2021-11-30T02:30:11.130763Z",
     "iopub.status.busy": "2021-11-30T02:30:11.127527Z",
     "iopub.status.idle": "2021-11-30T02:30:13.126775Z",
     "shell.execute_reply": "2021-11-30T02:30:13.129901Z"
    },
    "papermill": {
     "duration": 2.044244,
     "end_time": "2021-11-30T02:30:13.130792",
     "exception": false,
     "start_time": "2021-11-30T02:30:11.086548",
     "status": "completed"
    },
    "tags": []
   },
   "outputs": [
    {
     "data": {
      "text/plain": [
       "<AxesSubplot:ylabel='PRODUCT'>"
      ]
     },
     "execution_count": 7,
     "metadata": {},
     "output_type": "execute_result"
    },
    {
     "data": {
      "image/png": "[encoded data removed]",
      "text/plain": [
       "<Figure size 432x288 with 1 Axes>"
      ]
     },
     "metadata": {
      "needs_background": "light"
     },
     "output_type": "display_data"
    }
   ],
   "source": [
    "df_pivot_diff.sort_values(\"stamp_2\", ascending = False)[\"stamp_2\"].head(10).plot.barh()"
   ]
  },
  {
   "cell_type": "code",
   "execution_count": null,
   "id": "extra-executive",
   "metadata": {
    "papermill": {
     "duration": 0.036691,
     "end_time": "2021-11-30T02:30:13.203872",
     "exception": false,
     "start_time": "2021-11-30T02:30:13.167181",
     "status": "completed"
    },
    "tags": []
   },
   "outputs": [],
   "source": []
  }
 ],
 "metadata": {
  "kernelspec": {
   "display_name": "Python 3",
   "language": "python",
   "name": "python3"
  },
  "language_info": {
   "codemirror_mode": {
    "name": "ipython",
    "version": 3
   },
   "file_extension": ".py",
   "mimetype": "text/x-python",
   "name": "python",
   "nbconvert_exporter": "python",
   "pygments_lexer": "ipython3",
   "version": "3.9.5"
  },
  "papermill": {
   "default_parameters": {},
   "duration": 9.943504,
   "end_time": "2021-11-30T02:30:14.568455",
   "environment_variables": {},
   "exception": null,
   "input_path": "eBay_Overview.ipynb",
   "output_path": "eBay_Overview.ipynb",
   "parameters": {},
   "start_time": "2021-11-30T02:30:04.624951",
   "version": "2.3.3"
  }
 },
 "nbformat": 4,
 "nbformat_minor": 5
}