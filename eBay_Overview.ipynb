{
 "cells": [
  {
   "cell_type": "code",
   "execution_count": 1,
   "id": "reverse-picking",
   "metadata": {
    "execution": {
     "iopub.execute_input": "2021-09-08T12:00:06.904099Z",
     "iopub.status.busy": "2021-09-08T12:00:06.902091Z",
     "iopub.status.idle": "2021-09-08T12:00:07.713685Z",
     "shell.execute_reply": "2021-09-08T12:00:07.712127Z"
    },
    "papermill": {
     "duration": 0.862189,
     "end_time": "2021-09-08T12:00:07.714087",
     "exception": false,
     "start_time": "2021-09-08T12:00:06.851898",
     "status": "completed"
    },
    "tags": []
   },
   "outputs": [],
   "source": [
    "import pandas as pd\n",
    "import sqlite3"
   ]
  },
  {
   "cell_type": "code",
   "execution_count": 2,
   "id": "innovative-syndrome",
   "metadata": {
    "execution": {
     "iopub.execute_input": "2021-09-08T12:00:07.767204Z",
     "iopub.status.busy": "2021-09-08T12:00:07.764851Z",
     "iopub.status.idle": "2021-09-08T12:00:07.999055Z",
     "shell.execute_reply": "2021-09-08T12:00:08.000288Z"
    },
    "papermill": {
     "duration": 0.264225,
     "end_time": "2021-09-08T12:00:08.000678",
     "exception": false,
     "start_time": "2021-09-08T12:00:07.736453",
     "status": "completed"
    },
    "tags": []
   },
   "outputs": [],
   "source": [
    "timestamps = pd.read_sql(\"select distinct record_time from EBAY_TOP_BERLIN order by record_time desc limit 2\", sqlite3.connect(\"UsedObjects.db\"))"
   ]
  },
  {
   "cell_type": "code",
   "execution_count": 3,
   "id": "periodic-identification",
   "metadata": {
    "execution": {
     "iopub.execute_input": "2021-09-08T12:00:08.069604Z",
     "iopub.status.busy": "2021-09-08T12:00:08.067608Z",
     "iopub.status.idle": "2021-09-08T12:00:08.088177Z",
     "shell.execute_reply": "2021-09-08T12:00:08.089466Z"
    },
    "papermill": {
     "duration": 0.066448,
     "end_time": "2021-09-08T12:00:08.089875",
     "exception": false,
     "start_time": "2021-09-08T12:00:08.023427",
     "status": "completed"
    },
    "tags": []
   },
   "outputs": [
    {
     "data": {
      "text/html": [
       "<div>\n",
       "<style scoped>\n",
       "    .dataframe tbody tr th:only-of-type {\n",
       "        vertical-align: middle;\n",
       "    }\n",
       "\n",
       "    .dataframe tbody tr th {\n",
       "        vertical-align: top;\n",
       "    }\n",
       "\n",
       "    .dataframe thead th {\n",
       "        text-align: right;\n",
       "    }\n",
       "</style>\n",
       "<table border=\"1\" class=\"dataframe\">\n",
       "  <thead>\n",
       "    <tr style=\"text-align: right;\">\n",
       "      <th></th>\n",
       "      <th>RECORD_TIME</th>\n",
       "    </tr>\n",
       "  </thead>\n",
       "  <tbody>\n",
       "    <tr>\n",
       "      <th>0</th>\n",
       "      <td>2021-09-08 14:00</td>\n",
       "    </tr>\n",
       "    <tr>\n",
       "      <th>1</th>\n",
       "      <td>2021-09-08 13:30</td>\n",
       "    </tr>\n",
       "  </tbody>\n",
       "</table>\n",
       "</div>"
      ],
      "text/plain": [
       "        RECORD_TIME\n",
       "0  2021-09-08 14:00\n",
       "1  2021-09-08 13:30"
      ]
     },
     "execution_count": 3,
     "metadata": {},
     "output_type": "execute_result"
    }
   ],
   "source": [
    "timestamps"
   ]
  },
  {
   "cell_type": "code",
   "execution_count": 4,
   "id": "alternate-victory",
   "metadata": {
    "execution": {
     "iopub.execute_input": "2021-09-08T12:00:08.140447Z",
     "iopub.status.busy": "2021-09-08T12:00:08.138537Z",
     "iopub.status.idle": "2021-09-08T12:00:08.494238Z",
     "shell.execute_reply": "2021-09-08T12:00:08.495435Z"
    },
    "papermill": {
     "duration": 0.385471,
     "end_time": "2021-09-08T12:00:08.495849",
     "exception": false,
     "start_time": "2021-09-08T12:00:08.110378",
     "status": "completed"
    },
    "tags": []
   },
   "outputs": [],
   "source": [
    "df = pd.read_sql(\"select * from EBAY_TOP_BERLIN where record_time in (select distinct record_time from EBAY_TOP_BERLIN order by record_time desc limit 2)\", sqlite3.connect(\"UsedObjects.db\"))"
   ]
  },
  {
   "cell_type": "code",
   "execution_count": 5,
   "id": "popular-active",
   "metadata": {
    "execution": {
     "iopub.execute_input": "2021-09-08T12:00:08.577041Z",
     "iopub.status.busy": "2021-09-08T12:00:08.565717Z",
     "iopub.status.idle": "2021-09-08T12:00:08.592771Z",
     "shell.execute_reply": "2021-09-08T12:00:08.594057Z"
    },
    "papermill": {
     "duration": 0.070606,
     "end_time": "2021-09-08T12:00:08.594468",
     "exception": false,
     "start_time": "2021-09-08T12:00:08.523862",
     "status": "completed"
    },
    "tags": []
   },
   "outputs": [],
   "source": [
    "df_pivot = df.pivot_table(index=\"PRODUCT\", columns = \"RECORD_TIME\", values = \"LISTING_COUNT\")"
   ]
  },
  {
   "cell_type": "code",
   "execution_count": 6,
   "id": "union-huntington",
   "metadata": {
    "execution": {
     "iopub.execute_input": "2021-09-08T12:00:08.649901Z",
     "iopub.status.busy": "2021-09-08T12:00:08.647841Z",
     "iopub.status.idle": "2021-09-08T12:00:08.653006Z",
     "shell.execute_reply": "2021-09-08T12:00:08.654280Z"
    },
    "papermill": {
     "duration": 0.040158,
     "end_time": "2021-09-08T12:00:08.654692",
     "exception": false,
     "start_time": "2021-09-08T12:00:08.614534",
     "status": "completed"
    },
    "tags": []
   },
   "outputs": [],
   "source": [
    "df_pivot.columns = [\"stamp_1\", \"stamp_2\"]\n",
    "df_pivot_diff = df_pivot.diff(axis=1)"
   ]
  },
  {
   "cell_type": "code",
   "execution_count": 7,
   "id": "fifth-motion",
   "metadata": {
    "execution": {
     "iopub.execute_input": "2021-09-08T12:00:08.708705Z",
     "iopub.status.busy": "2021-09-08T12:00:08.706282Z",
     "iopub.status.idle": "2021-09-08T12:00:10.191815Z",
     "shell.execute_reply": "2021-09-08T12:00:10.193251Z"
    },
    "papermill": {
     "duration": 1.518349,
     "end_time": "2021-09-08T12:00:10.193693",
     "exception": false,
     "start_time": "2021-09-08T12:00:08.675344",
     "status": "completed"
    },
    "tags": []
   },
   "outputs": [
    {
     "data": {
      "text/plain": [
       "<AxesSubplot:ylabel='PRODUCT'>"
      ]
     },
     "execution_count": 7,
     "metadata": {},
     "output_type": "execute_result"
    },
    {
     "data": {
      "image/png": "[encoded data removed]",
      "text/plain": [
       "<Figure size 432x288 with 1 Axes>"
      ]
     },
     "metadata": {
      "needs_background": "light"
     },
     "output_type": "display_data"
    }
   ],
   "source": [
    "df_pivot_diff.sort_values(\"stamp_2\", ascending = False)[\"stamp_2\"].head(10).plot.barh()"
   ]
  },
  {
   "cell_type": "code",
   "execution_count": null,
   "id": "extra-executive",
   "metadata": {
    "papermill": {
     "duration": 0.022349,
     "end_time": "2021-09-08T12:00:10.239497",
     "exception": false,
     "start_time": "2021-09-08T12:00:10.217148",
     "status": "completed"
    },
    "tags": []
   },
   "outputs": [],
   "source": []
  }
 ],
 "metadata": {
  "kernelspec": {
   "display_name": "Python 3",
   "language": "python",
   "name": "python3"
  },
  "language_info": {
   "codemirror_mode": {
    "name": "ipython",
    "version": 3
   },
   "file_extension": ".py",
   "mimetype": "text/x-python",
   "name": "python",
   "nbconvert_exporter": "python",
   "pygments_lexer": "ipython3",
   "version": "3.9.5"
  },
  "papermill": {
   "default_parameters": {},
   "duration": 6.435608,
   "end_time": "2021-09-08T12:00:10.882022",
   "environment_variables": {},
   "exception": null,
   "input_path": "eBay_Overview.ipynb",
   "output_path": "eBay_Overview.ipynb",
   "parameters": {},
   "start_time": "2021-09-08T12:00:04.446414",
   "version": "2.3.3"
  }
 },
 "nbformat": 4,
 "nbformat_minor": 5
}