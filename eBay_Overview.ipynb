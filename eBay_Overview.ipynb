{
 "cells": [
  {
   "cell_type": "code",
   "execution_count": 1,
   "id": "reverse-picking",
   "metadata": {
    "execution": {
     "iopub.execute_input": "2021-10-06T09:00:07.717139Z",
     "iopub.status.busy": "2021-10-06T09:00:07.715242Z",
     "iopub.status.idle": "2021-10-06T09:00:08.520544Z",
     "shell.execute_reply": "2021-10-06T09:00:08.518880Z"
    },
    "papermill": {
     "duration": 0.855548,
     "end_time": "2021-10-06T09:00:08.520957",
     "exception": false,
     "start_time": "2021-10-06T09:00:07.665409",
     "status": "completed"
    },
    "tags": []
   },
   "outputs": [],
   "source": [
    "import pandas as pd\n",
    "import sqlite3"
   ]
  },
  {
   "cell_type": "code",
   "execution_count": 2,
   "id": "innovative-syndrome",
   "metadata": {
    "execution": {
     "iopub.execute_input": "2021-10-06T09:00:08.571470Z",
     "iopub.status.busy": "2021-10-06T09:00:08.569510Z",
     "iopub.status.idle": "2021-10-06T09:00:09.047826Z",
     "shell.execute_reply": "2021-10-06T09:00:09.049079Z"
    },
    "papermill": {
     "duration": 0.507837,
     "end_time": "2021-10-06T09:00:09.049469",
     "exception": false,
     "start_time": "2021-10-06T09:00:08.541632",
     "status": "completed"
    },
    "tags": []
   },
   "outputs": [],
   "source": [
    "timestamps = pd.read_sql(\"select distinct record_time from EBAY_TOP_BERLIN order by record_time desc limit 2\", sqlite3.connect(\"UsedObjects.db\"))"
   ]
  },
  {
   "cell_type": "code",
   "execution_count": 3,
   "id": "periodic-identification",
   "metadata": {
    "execution": {
     "iopub.execute_input": "2021-10-06T09:00:09.113517Z",
     "iopub.status.busy": "2021-10-06T09:00:09.111502Z",
     "iopub.status.idle": "2021-10-06T09:00:09.131020Z",
     "shell.execute_reply": "2021-10-06T09:00:09.132264Z"
    },
    "papermill": {
     "duration": 0.063792,
     "end_time": "2021-10-06T09:00:09.132652",
     "exception": false,
     "start_time": "2021-10-06T09:00:09.068860",
     "status": "completed"
    },
    "tags": []
   },
   "outputs": [
    {
     "data": {
      "text/html": [
       "<div>\n",
       "<style scoped>\n",
       "    .dataframe tbody tr th:only-of-type {\n",
       "        vertical-align: middle;\n",
       "    }\n",
       "\n",
       "    .dataframe tbody tr th {\n",
       "        vertical-align: top;\n",
       "    }\n",
       "\n",
       "    .dataframe thead th {\n",
       "        text-align: right;\n",
       "    }\n",
       "</style>\n",
       "<table border=\"1\" class=\"dataframe\">\n",
       "  <thead>\n",
       "    <tr style=\"text-align: right;\">\n",
       "      <th></th>\n",
       "      <th>RECORD_TIME</th>\n",
       "    </tr>\n",
       "  </thead>\n",
       "  <tbody>\n",
       "    <tr>\n",
       "      <th>0</th>\n",
       "      <td>2021-10-06 11:00</td>\n",
       "    </tr>\n",
       "    <tr>\n",
       "      <th>1</th>\n",
       "      <td>2021-10-06 10:30</td>\n",
       "    </tr>\n",
       "  </tbody>\n",
       "</table>\n",
       "</div>"
      ],
      "text/plain": [
       "        RECORD_TIME\n",
       "0  2021-10-06 11:00\n",
       "1  2021-10-06 10:30"
      ]
     },
     "execution_count": 3,
     "metadata": {},
     "output_type": "execute_result"
    }
   ],
   "source": [
    "timestamps"
   ]
  },
  {
   "cell_type": "code",
   "execution_count": 4,
   "id": "alternate-victory",
   "metadata": {
    "execution": {
     "iopub.execute_input": "2021-10-06T09:00:09.192838Z",
     "iopub.status.busy": "2021-10-06T09:00:09.190988Z",
     "iopub.status.idle": "2021-10-06T09:00:09.887392Z",
     "shell.execute_reply": "2021-10-06T09:00:09.888616Z"
    },
    "papermill": {
     "duration": 0.730106,
     "end_time": "2021-10-06T09:00:09.889010",
     "exception": false,
     "start_time": "2021-10-06T09:00:09.158904",
     "status": "completed"
    },
    "tags": []
   },
   "outputs": [],
   "source": [
    "df = pd.read_sql(\"select * from EBAY_TOP_BERLIN where record_time in (select distinct record_time from EBAY_TOP_BERLIN order by record_time desc limit 2)\", sqlite3.connect(\"UsedObjects.db\"))"
   ]
  },
  {
   "cell_type": "code",
   "execution_count": 5,
   "id": "popular-active",
   "metadata": {
    "execution": {
     "iopub.execute_input": "2021-10-06T09:00:09.958665Z",
     "iopub.status.busy": "2021-10-06T09:00:09.947297Z",
     "iopub.status.idle": "2021-10-06T09:00:09.975371Z",
     "shell.execute_reply": "2021-10-06T09:00:09.976574Z"
    },
    "papermill": {
     "duration": 0.067512,
     "end_time": "2021-10-06T09:00:09.976961",
     "exception": false,
     "start_time": "2021-10-06T09:00:09.909449",
     "status": "completed"
    },
    "tags": []
   },
   "outputs": [],
   "source": [
    "df_pivot = df.pivot_table(index=\"PRODUCT\", columns = \"RECORD_TIME\", values = \"LISTING_COUNT\")"
   ]
  },
  {
   "cell_type": "code",
   "execution_count": 6,
   "id": "union-huntington",
   "metadata": {
    "execution": {
     "iopub.execute_input": "2021-10-06T09:00:10.033939Z",
     "iopub.status.busy": "2021-10-06T09:00:10.031817Z",
     "iopub.status.idle": "2021-10-06T09:00:10.037336Z",
     "shell.execute_reply": "2021-10-06T09:00:10.038578Z"
    },
    "papermill": {
     "duration": 0.040699,
     "end_time": "2021-10-06T09:00:10.039216",
     "exception": false,
     "start_time": "2021-10-06T09:00:09.998517",
     "status": "completed"
    },
    "tags": []
   },
   "outputs": [],
   "source": [
    "df_pivot.columns = [\"stamp_1\", \"stamp_2\"]\n",
    "df_pivot_diff = df_pivot.diff(axis=1)"
   ]
  },
  {
   "cell_type": "code",
   "execution_count": 7,
   "id": "fifth-motion",
   "metadata": {
    "execution": {
     "iopub.execute_input": "2021-10-06T09:00:10.094648Z",
     "iopub.status.busy": "2021-10-06T09:00:10.092017Z",
     "iopub.status.idle": "2021-10-06T09:00:11.582368Z",
     "shell.execute_reply": "2021-10-06T09:00:11.584439Z"
    },
    "papermill": {
     "duration": 1.525224,
     "end_time": "2021-10-06T09:00:11.585012",
     "exception": false,
     "start_time": "2021-10-06T09:00:10.059788",
     "status": "completed"
    },
    "tags": []
   },
   "outputs": [
    {
     "data": {
      "text/plain": [
       "<AxesSubplot:ylabel='PRODUCT'>"
      ]
     },
     "execution_count": 7,
     "metadata": {},
     "output_type": "execute_result"
    },
    {
     "data": {
      "image/png": "[encoded data removed]",
      "text/plain": [
       "<Figure size 432x288 with 1 Axes>"
      ]
     },
     "metadata": {
      "needs_background": "light"
     },
     "output_type": "display_data"
    }
   ],
   "source": [
    "df_pivot_diff.sort_values(\"stamp_2\", ascending = False)[\"stamp_2\"].head(10).plot.barh()"
   ]
  },
  {
   "cell_type": "code",
   "execution_count": null,
   "id": "extra-executive",
   "metadata": {
    "papermill": {
     "duration": 0.022548,
     "end_time": "2021-10-06T09:00:11.631913",
     "exception": false,
     "start_time": "2021-10-06T09:00:11.609365",
     "status": "completed"
    },
    "tags": []
   },
   "outputs": [],
   "source": []
  }
 ],
 "metadata": {
  "kernelspec": {
   "display_name": "Python 3",
   "language": "python",
   "name": "python3"
  },
  "language_info": {
   "codemirror_mode": {
    "name": "ipython",
    "version": 3
   },
   "file_extension": ".py",
   "mimetype": "text/x-python",
   "name": "python",
   "nbconvert_exporter": "python",
   "pygments_lexer": "ipython3",
   "version": "3.9.5"
  },
  "papermill": {
   "default_parameters": {},
   "duration": 7.822059,
   "end_time": "2021-10-06T09:00:13.092451",
   "environment_variables": {},
   "exception": null,
   "input_path": "eBay_Overview.ipynb",
   "output_path": "eBay_Overview.ipynb",
   "parameters": {},
   "start_time": "2021-10-06T09:00:05.270392",
   "version": "2.3.3"
  }
 },
 "nbformat": 4,
 "nbformat_minor": 5
}