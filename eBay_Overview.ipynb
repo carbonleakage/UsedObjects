{
 "cells": [
  {
   "cell_type": "code",
   "execution_count": 1,
   "id": "reverse-picking",
   "metadata": {
    "execution": {
     "iopub.execute_input": "2021-08-26T15:00:06.762554Z",
     "iopub.status.busy": "2021-08-26T15:00:06.760574Z",
     "iopub.status.idle": "2021-08-26T15:00:07.559958Z",
     "shell.execute_reply": "2021-08-26T15:00:07.561495Z"
    },
    "papermill": {
     "duration": 0.851809,
     "end_time": "2021-08-26T15:00:07.562181",
     "exception": false,
     "start_time": "2021-08-26T15:00:06.710372",
     "status": "completed"
    },
    "tags": []
   },
   "outputs": [],
   "source": [
    "import pandas as pd\n",
    "import sqlite3"
   ]
  },
  {
   "cell_type": "code",
   "execution_count": 2,
   "id": "innovative-syndrome",
   "metadata": {
    "execution": {
     "iopub.execute_input": "2021-08-26T15:00:07.614006Z",
     "iopub.status.busy": "2021-08-26T15:00:07.611584Z",
     "iopub.status.idle": "2021-08-26T15:00:07.751957Z",
     "shell.execute_reply": "2021-08-26T15:00:07.753346Z"
    },
    "papermill": {
     "duration": 0.170773,
     "end_time": "2021-08-26T15:00:07.753808",
     "exception": false,
     "start_time": "2021-08-26T15:00:07.583035",
     "status": "completed"
    },
    "tags": []
   },
   "outputs": [],
   "source": [
    "timestamps = pd.read_sql(\"select distinct record_time from EBAY_TOP_BERLIN order by record_time desc limit 2\", sqlite3.connect(\"UsedObjects.db\"))"
   ]
  },
  {
   "cell_type": "code",
   "execution_count": 3,
   "id": "periodic-identification",
   "metadata": {
    "execution": {
     "iopub.execute_input": "2021-08-26T15:00:07.821391Z",
     "iopub.status.busy": "2021-08-26T15:00:07.819309Z",
     "iopub.status.idle": "2021-08-26T15:00:07.839630Z",
     "shell.execute_reply": "2021-08-26T15:00:07.841146Z"
    },
    "papermill": {
     "duration": 0.067528,
     "end_time": "2021-08-26T15:00:07.841603",
     "exception": false,
     "start_time": "2021-08-26T15:00:07.774075",
     "status": "completed"
    },
    "tags": []
   },
   "outputs": [
    {
     "data": {
      "text/html": [
       "<div>\n",
       "<style scoped>\n",
       "    .dataframe tbody tr th:only-of-type {\n",
       "        vertical-align: middle;\n",
       "    }\n",
       "\n",
       "    .dataframe tbody tr th {\n",
       "        vertical-align: top;\n",
       "    }\n",
       "\n",
       "    .dataframe thead th {\n",
       "        text-align: right;\n",
       "    }\n",
       "</style>\n",
       "<table border=\"1\" class=\"dataframe\">\n",
       "  <thead>\n",
       "    <tr style=\"text-align: right;\">\n",
       "      <th></th>\n",
       "      <th>RECORD_TIME</th>\n",
       "    </tr>\n",
       "  </thead>\n",
       "  <tbody>\n",
       "    <tr>\n",
       "      <th>0</th>\n",
       "      <td>2021-08-26 17:00</td>\n",
       "    </tr>\n",
       "    <tr>\n",
       "      <th>1</th>\n",
       "      <td>2021-08-26 16:30</td>\n",
       "    </tr>\n",
       "  </tbody>\n",
       "</table>\n",
       "</div>"
      ],
      "text/plain": [
       "        RECORD_TIME\n",
       "0  2021-08-26 17:00\n",
       "1  2021-08-26 16:30"
      ]
     },
     "execution_count": 3,
     "metadata": {},
     "output_type": "execute_result"
    }
   ],
   "source": [
    "timestamps"
   ]
  },
  {
   "cell_type": "code",
   "execution_count": 4,
   "id": "alternate-victory",
   "metadata": {
    "execution": {
     "iopub.execute_input": "2021-08-26T15:00:07.893682Z",
     "iopub.status.busy": "2021-08-26T15:00:07.891570Z",
     "iopub.status.idle": "2021-08-26T15:00:08.095519Z",
     "shell.execute_reply": "2021-08-26T15:00:08.096981Z"
    },
    "papermill": {
     "duration": 0.234342,
     "end_time": "2021-08-26T15:00:08.097404",
     "exception": false,
     "start_time": "2021-08-26T15:00:07.863062",
     "status": "completed"
    },
    "tags": []
   },
   "outputs": [],
   "source": [
    "df = pd.read_sql(\"select * from EBAY_TOP_BERLIN where record_time in (select distinct record_time from EBAY_TOP_BERLIN order by record_time desc limit 2)\", sqlite3.connect(\"UsedObjects.db\"))"
   ]
  },
  {
   "cell_type": "code",
   "execution_count": 5,
   "id": "popular-active",
   "metadata": {
    "execution": {
     "iopub.execute_input": "2021-08-26T15:00:08.169700Z",
     "iopub.status.busy": "2021-08-26T15:00:08.157628Z",
     "iopub.status.idle": "2021-08-26T15:00:08.185315Z",
     "shell.execute_reply": "2021-08-26T15:00:08.186546Z"
    },
    "papermill": {
     "duration": 0.069013,
     "end_time": "2021-08-26T15:00:08.186944",
     "exception": false,
     "start_time": "2021-08-26T15:00:08.117931",
     "status": "completed"
    },
    "tags": []
   },
   "outputs": [],
   "source": [
    "df_pivot = df.pivot_table(index=\"PRODUCT\", columns = \"RECORD_TIME\", values = \"LISTING_COUNT\")"
   ]
  },
  {
   "cell_type": "code",
   "execution_count": 6,
   "id": "union-huntington",
   "metadata": {
    "execution": {
     "iopub.execute_input": "2021-08-26T15:00:08.246979Z",
     "iopub.status.busy": "2021-08-26T15:00:08.244485Z",
     "iopub.status.idle": "2021-08-26T15:00:08.250165Z",
     "shell.execute_reply": "2021-08-26T15:00:08.251497Z"
    },
    "papermill": {
     "duration": 0.042471,
     "end_time": "2021-08-26T15:00:08.251917",
     "exception": false,
     "start_time": "2021-08-26T15:00:08.209446",
     "status": "completed"
    },
    "tags": []
   },
   "outputs": [],
   "source": [
    "df_pivot.columns = [\"stamp_1\", \"stamp_2\"]\n",
    "df_pivot_diff = df_pivot.diff(axis=1)"
   ]
  },
  {
   "cell_type": "code",
   "execution_count": 7,
   "id": "fifth-motion",
   "metadata": {
    "execution": {
     "iopub.execute_input": "2021-08-26T15:00:08.306380Z",
     "iopub.status.busy": "2021-08-26T15:00:08.303945Z",
     "iopub.status.idle": "2021-08-26T15:00:09.774664Z",
     "shell.execute_reply": "2021-08-26T15:00:09.775968Z"
    },
    "papermill": {
     "duration": 1.504241,
     "end_time": "2021-08-26T15:00:09.776447",
     "exception": false,
     "start_time": "2021-08-26T15:00:08.272206",
     "status": "completed"
    },
    "tags": []
   },
   "outputs": [
    {
     "data": {
      "text/plain": [
       "<AxesSubplot:ylabel='PRODUCT'>"
      ]
     },
     "execution_count": 7,
     "metadata": {},
     "output_type": "execute_result"
    },
    {
     "data": {
      "image/png": "[encoded data removed]",
      "text/plain": [
       "<Figure size 432x288 with 1 Axes>"
      ]
     },
     "metadata": {
      "needs_background": "light"
     },
     "output_type": "display_data"
    }
   ],
   "source": [
    "df_pivot_diff.sort_values(\"stamp_2\", ascending = False)[\"stamp_2\"].head(10).plot.barh()"
   ]
  },
  {
   "cell_type": "code",
   "execution_count": null,
   "id": "extra-executive",
   "metadata": {
    "papermill": {
     "duration": 0.022364,
     "end_time": "2021-08-26T15:00:09.823822",
     "exception": false,
     "start_time": "2021-08-26T15:00:09.801458",
     "status": "completed"
    },
    "tags": []
   },
   "outputs": [],
   "source": []
  }
 ],
 "metadata": {
  "kernelspec": {
   "display_name": "Python 3",
   "language": "python",
   "name": "python3"
  },
  "language_info": {
   "codemirror_mode": {
    "name": "ipython",
    "version": 3
   },
   "file_extension": ".py",
   "mimetype": "text/x-python",
   "name": "python",
   "nbconvert_exporter": "python",
   "pygments_lexer": "ipython3",
   "version": "3.9.5"
  },
  "papermill": {
   "default_parameters": {},
   "duration": 6.819112,
   "end_time": "2021-08-26T15:00:11.140957",
   "environment_variables": {},
   "exception": null,
   "input_path": "eBay_Overview.ipynb",
   "output_path": "eBay_Overview.ipynb",
   "parameters": {},
   "start_time": "2021-08-26T15:00:04.321845",
   "version": "2.3.3"
  }
 },
 "nbformat": 4,
 "nbformat_minor": 5
}