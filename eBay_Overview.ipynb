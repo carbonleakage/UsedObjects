{
 "cells": [
  {
   "cell_type": "code",
   "execution_count": 1,
   "id": "reverse-picking",
   "metadata": {
    "execution": {
     "iopub.execute_input": "2021-09-08T19:30:07.241032Z",
     "iopub.status.busy": "2021-09-08T19:30:07.239121Z",
     "iopub.status.idle": "2021-09-08T19:30:08.048729Z",
     "shell.execute_reply": "2021-09-08T19:30:08.049976Z"
    },
    "papermill": {
     "duration": 0.862015,
     "end_time": "2021-09-08T19:30:08.050595",
     "exception": false,
     "start_time": "2021-09-08T19:30:07.188580",
     "status": "completed"
    },
    "tags": []
   },
   "outputs": [],
   "source": [
    "import pandas as pd\n",
    "import sqlite3"
   ]
  },
  {
   "cell_type": "code",
   "execution_count": 2,
   "id": "innovative-syndrome",
   "metadata": {
    "execution": {
     "iopub.execute_input": "2021-09-08T19:30:08.102795Z",
     "iopub.status.busy": "2021-09-08T19:30:08.100508Z",
     "iopub.status.idle": "2021-09-08T19:30:08.341961Z",
     "shell.execute_reply": "2021-09-08T19:30:08.343299Z"
    },
    "papermill": {
     "duration": 0.271909,
     "end_time": "2021-09-08T19:30:08.343744",
     "exception": false,
     "start_time": "2021-09-08T19:30:08.071835",
     "status": "completed"
    },
    "tags": []
   },
   "outputs": [],
   "source": [
    "timestamps = pd.read_sql(\"select distinct record_time from EBAY_TOP_BERLIN order by record_time desc limit 2\", sqlite3.connect(\"UsedObjects.db\"))"
   ]
  },
  {
   "cell_type": "code",
   "execution_count": 3,
   "id": "periodic-identification",
   "metadata": {
    "execution": {
     "iopub.execute_input": "2021-09-08T19:30:08.408420Z",
     "iopub.status.busy": "2021-09-08T19:30:08.406214Z",
     "iopub.status.idle": "2021-09-08T19:30:08.426541Z",
     "shell.execute_reply": "2021-09-08T19:30:08.427752Z"
    },
    "papermill": {
     "duration": 0.064699,
     "end_time": "2021-09-08T19:30:08.428165",
     "exception": false,
     "start_time": "2021-09-08T19:30:08.363466",
     "status": "completed"
    },
    "tags": []
   },
   "outputs": [
    {
     "data": {
      "text/html": [
       "<div>\n",
       "<style scoped>\n",
       "    .dataframe tbody tr th:only-of-type {\n",
       "        vertical-align: middle;\n",
       "    }\n",
       "\n",
       "    .dataframe tbody tr th {\n",
       "        vertical-align: top;\n",
       "    }\n",
       "\n",
       "    .dataframe thead th {\n",
       "        text-align: right;\n",
       "    }\n",
       "</style>\n",
       "<table border=\"1\" class=\"dataframe\">\n",
       "  <thead>\n",
       "    <tr style=\"text-align: right;\">\n",
       "      <th></th>\n",
       "      <th>RECORD_TIME</th>\n",
       "    </tr>\n",
       "  </thead>\n",
       "  <tbody>\n",
       "    <tr>\n",
       "      <th>0</th>\n",
       "      <td>2021-09-08 21:30</td>\n",
       "    </tr>\n",
       "    <tr>\n",
       "      <th>1</th>\n",
       "      <td>2021-09-08 21:00</td>\n",
       "    </tr>\n",
       "  </tbody>\n",
       "</table>\n",
       "</div>"
      ],
      "text/plain": [
       "        RECORD_TIME\n",
       "0  2021-09-08 21:30\n",
       "1  2021-09-08 21:00"
      ]
     },
     "execution_count": 3,
     "metadata": {},
     "output_type": "execute_result"
    }
   ],
   "source": [
    "timestamps"
   ]
  },
  {
   "cell_type": "code",
   "execution_count": 4,
   "id": "alternate-victory",
   "metadata": {
    "execution": {
     "iopub.execute_input": "2021-09-08T19:30:08.483205Z",
     "iopub.status.busy": "2021-09-08T19:30:08.480889Z",
     "iopub.status.idle": "2021-09-08T19:30:08.840011Z",
     "shell.execute_reply": "2021-09-08T19:30:08.841405Z"
    },
    "papermill": {
     "duration": 0.39018,
     "end_time": "2021-09-08T19:30:08.841839",
     "exception": false,
     "start_time": "2021-09-08T19:30:08.451659",
     "status": "completed"
    },
    "tags": []
   },
   "outputs": [],
   "source": [
    "df = pd.read_sql(\"select * from EBAY_TOP_BERLIN where record_time in (select distinct record_time from EBAY_TOP_BERLIN order by record_time desc limit 2)\", sqlite3.connect(\"UsedObjects.db\"))"
   ]
  },
  {
   "cell_type": "code",
   "execution_count": 5,
   "id": "popular-active",
   "metadata": {
    "execution": {
     "iopub.execute_input": "2021-09-08T19:30:08.924794Z",
     "iopub.status.busy": "2021-09-08T19:30:08.912168Z",
     "iopub.status.idle": "2021-09-08T19:30:08.941204Z",
     "shell.execute_reply": "2021-09-08T19:30:08.942506Z"
    },
    "papermill": {
     "duration": 0.073632,
     "end_time": "2021-09-08T19:30:08.942977",
     "exception": false,
     "start_time": "2021-09-08T19:30:08.869345",
     "status": "completed"
    },
    "tags": []
   },
   "outputs": [],
   "source": [
    "df_pivot = df.pivot_table(index=\"PRODUCT\", columns = \"RECORD_TIME\", values = \"LISTING_COUNT\")"
   ]
  },
  {
   "cell_type": "code",
   "execution_count": 6,
   "id": "union-huntington",
   "metadata": {
    "execution": {
     "iopub.execute_input": "2021-09-08T19:30:08.999766Z",
     "iopub.status.busy": "2021-09-08T19:30:08.997631Z",
     "iopub.status.idle": "2021-09-08T19:30:09.002752Z",
     "shell.execute_reply": "2021-09-08T19:30:09.004123Z"
    },
    "papermill": {
     "duration": 0.041196,
     "end_time": "2021-09-08T19:30:09.004539",
     "exception": false,
     "start_time": "2021-09-08T19:30:08.963343",
     "status": "completed"
    },
    "tags": []
   },
   "outputs": [],
   "source": [
    "df_pivot.columns = [\"stamp_1\", \"stamp_2\"]\n",
    "df_pivot_diff = df_pivot.diff(axis=1)"
   ]
  },
  {
   "cell_type": "code",
   "execution_count": 7,
   "id": "fifth-motion",
   "metadata": {
    "execution": {
     "iopub.execute_input": "2021-09-08T19:30:09.062536Z",
     "iopub.status.busy": "2021-09-08T19:30:09.059900Z",
     "iopub.status.idle": "2021-09-08T19:30:10.535981Z",
     "shell.execute_reply": "2021-09-08T19:30:10.537266Z"
    },
    "papermill": {
     "duration": 1.509962,
     "end_time": "2021-09-08T19:30:10.537680",
     "exception": false,
     "start_time": "2021-09-08T19:30:09.027718",
     "status": "completed"
    },
    "tags": []
   },
   "outputs": [
    {
     "data": {
      "text/plain": [
       "<AxesSubplot:ylabel='PRODUCT'>"
      ]
     },
     "execution_count": 7,
     "metadata": {},
     "output_type": "execute_result"
    },
    {
     "data": {
      "image/png": "[encoded data removed]",
      "text/plain": [
       "<Figure size 432x288 with 1 Axes>"
      ]
     },
     "metadata": {
      "needs_background": "light"
     },
     "output_type": "display_data"
    }
   ],
   "source": [
    "df_pivot_diff.sort_values(\"stamp_2\", ascending = False)[\"stamp_2\"].head(10).plot.barh()"
   ]
  },
  {
   "cell_type": "code",
   "execution_count": null,
   "id": "extra-executive",
   "metadata": {
    "papermill": {
     "duration": 0.022279,
     "end_time": "2021-09-08T19:30:10.584716",
     "exception": false,
     "start_time": "2021-09-08T19:30:10.562437",
     "status": "completed"
    },
    "tags": []
   },
   "outputs": [],
   "source": []
  }
 ],
 "metadata": {
  "kernelspec": {
   "display_name": "Python 3",
   "language": "python",
   "name": "python3"
  },
  "language_info": {
   "codemirror_mode": {
    "name": "ipython",
    "version": 3
   },
   "file_extension": ".py",
   "mimetype": "text/x-python",
   "name": "python",
   "nbconvert_exporter": "python",
   "pygments_lexer": "ipython3",
   "version": "3.9.5"
  },
  "papermill": {
   "default_parameters": {},
   "duration": 6.457189,
   "end_time": "2021-09-08T19:30:11.226130",
   "environment_variables": {},
   "exception": null,
   "input_path": "eBay_Overview.ipynb",
   "output_path": "eBay_Overview.ipynb",
   "parameters": {},
   "start_time": "2021-09-08T19:30:04.768941",
   "version": "2.3.3"
  }
 },
 "nbformat": 4,
 "nbformat_minor": 5
}