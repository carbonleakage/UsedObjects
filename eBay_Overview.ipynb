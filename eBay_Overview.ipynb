{
 "cells": [
  {
   "cell_type": "code",
   "execution_count": 1,
   "id": "reverse-picking",
   "metadata": {
    "execution": {
     "iopub.execute_input": "2021-09-20T21:00:07.254420Z",
     "iopub.status.busy": "2021-09-20T21:00:07.252452Z",
     "iopub.status.idle": "2021-09-20T21:00:08.062540Z",
     "shell.execute_reply": "2021-09-20T21:00:08.060999Z"
    },
    "papermill": {
     "duration": 0.860586,
     "end_time": "2021-09-20T21:00:08.062972",
     "exception": false,
     "start_time": "2021-09-20T21:00:07.202386",
     "status": "completed"
    },
    "tags": []
   },
   "outputs": [],
   "source": [
    "import pandas as pd\n",
    "import sqlite3"
   ]
  },
  {
   "cell_type": "code",
   "execution_count": 2,
   "id": "innovative-syndrome",
   "metadata": {
    "execution": {
     "iopub.execute_input": "2021-09-20T21:00:08.114568Z",
     "iopub.status.busy": "2021-09-20T21:00:08.112727Z",
     "iopub.status.idle": "2021-09-20T21:00:08.455462Z",
     "shell.execute_reply": "2021-09-20T21:00:08.456603Z"
    },
    "papermill": {
     "duration": 0.371885,
     "end_time": "2021-09-20T21:00:08.457013",
     "exception": false,
     "start_time": "2021-09-20T21:00:08.085128",
     "status": "completed"
    },
    "tags": []
   },
   "outputs": [],
   "source": [
    "timestamps = pd.read_sql(\"select distinct record_time from EBAY_TOP_BERLIN order by record_time desc limit 2\", sqlite3.connect(\"UsedObjects.db\"))"
   ]
  },
  {
   "cell_type": "code",
   "execution_count": 3,
   "id": "periodic-identification",
   "metadata": {
    "execution": {
     "iopub.execute_input": "2021-09-20T21:00:08.521964Z",
     "iopub.status.busy": "2021-09-20T21:00:08.519919Z",
     "iopub.status.idle": "2021-09-20T21:00:08.541167Z",
     "shell.execute_reply": "2021-09-20T21:00:08.542371Z"
    },
    "papermill": {
     "duration": 0.065456,
     "end_time": "2021-09-20T21:00:08.542967",
     "exception": false,
     "start_time": "2021-09-20T21:00:08.477511",
     "status": "completed"
    },
    "tags": []
   },
   "outputs": [
    {
     "data": {
      "text/html": [
       "<div>\n",
       "<style scoped>\n",
       "    .dataframe tbody tr th:only-of-type {\n",
       "        vertical-align: middle;\n",
       "    }\n",
       "\n",
       "    .dataframe tbody tr th {\n",
       "        vertical-align: top;\n",
       "    }\n",
       "\n",
       "    .dataframe thead th {\n",
       "        text-align: right;\n",
       "    }\n",
       "</style>\n",
       "<table border=\"1\" class=\"dataframe\">\n",
       "  <thead>\n",
       "    <tr style=\"text-align: right;\">\n",
       "      <th></th>\n",
       "      <th>RECORD_TIME</th>\n",
       "    </tr>\n",
       "  </thead>\n",
       "  <tbody>\n",
       "    <tr>\n",
       "      <th>0</th>\n",
       "      <td>2021-09-20 23:00</td>\n",
       "    </tr>\n",
       "    <tr>\n",
       "      <th>1</th>\n",
       "      <td>2021-09-20 22:30</td>\n",
       "    </tr>\n",
       "  </tbody>\n",
       "</table>\n",
       "</div>"
      ],
      "text/plain": [
       "        RECORD_TIME\n",
       "0  2021-09-20 23:00\n",
       "1  2021-09-20 22:30"
      ]
     },
     "execution_count": 3,
     "metadata": {},
     "output_type": "execute_result"
    }
   ],
   "source": [
    "timestamps"
   ]
  },
  {
   "cell_type": "code",
   "execution_count": 4,
   "id": "alternate-victory",
   "metadata": {
    "execution": {
     "iopub.execute_input": "2021-09-20T21:00:08.596607Z",
     "iopub.status.busy": "2021-09-20T21:00:08.594213Z",
     "iopub.status.idle": "2021-09-20T21:00:09.100287Z",
     "shell.execute_reply": "2021-09-20T21:00:09.101421Z"
    },
    "papermill": {
     "duration": 0.535833,
     "end_time": "2021-09-20T21:00:09.101825",
     "exception": false,
     "start_time": "2021-09-20T21:00:08.565992",
     "status": "completed"
    },
    "tags": []
   },
   "outputs": [],
   "source": [
    "df = pd.read_sql(\"select * from EBAY_TOP_BERLIN where record_time in (select distinct record_time from EBAY_TOP_BERLIN order by record_time desc limit 2)\", sqlite3.connect(\"UsedObjects.db\"))"
   ]
  },
  {
   "cell_type": "code",
   "execution_count": 5,
   "id": "popular-active",
   "metadata": {
    "execution": {
     "iopub.execute_input": "2021-09-20T21:00:09.187425Z",
     "iopub.status.busy": "2021-09-20T21:00:09.174267Z",
     "iopub.status.idle": "2021-09-20T21:00:09.202624Z",
     "shell.execute_reply": "2021-09-20T21:00:09.203922Z"
    },
    "papermill": {
     "duration": 0.072279,
     "end_time": "2021-09-20T21:00:09.204322",
     "exception": false,
     "start_time": "2021-09-20T21:00:09.132043",
     "status": "completed"
    },
    "tags": []
   },
   "outputs": [],
   "source": [
    "df_pivot = df.pivot_table(index=\"PRODUCT\", columns = \"RECORD_TIME\", values = \"LISTING_COUNT\")"
   ]
  },
  {
   "cell_type": "code",
   "execution_count": 6,
   "id": "union-huntington",
   "metadata": {
    "execution": {
     "iopub.execute_input": "2021-09-20T21:00:09.259370Z",
     "iopub.status.busy": "2021-09-20T21:00:09.257266Z",
     "iopub.status.idle": "2021-09-20T21:00:09.262477Z",
     "shell.execute_reply": "2021-09-20T21:00:09.263766Z"
    },
    "papermill": {
     "duration": 0.039458,
     "end_time": "2021-09-20T21:00:09.264201",
     "exception": false,
     "start_time": "2021-09-20T21:00:09.224743",
     "status": "completed"
    },
    "tags": []
   },
   "outputs": [],
   "source": [
    "df_pivot.columns = [\"stamp_1\", \"stamp_2\"]\n",
    "df_pivot_diff = df_pivot.diff(axis=1)"
   ]
  },
  {
   "cell_type": "code",
   "execution_count": 7,
   "id": "fifth-motion",
   "metadata": {
    "execution": {
     "iopub.execute_input": "2021-09-20T21:00:09.318366Z",
     "iopub.status.busy": "2021-09-20T21:00:09.315984Z",
     "iopub.status.idle": "2021-09-20T21:00:10.805920Z",
     "shell.execute_reply": "2021-09-20T21:00:10.807351Z"
    },
    "papermill": {
     "duration": 1.522572,
     "end_time": "2021-09-20T21:00:10.807804",
     "exception": false,
     "start_time": "2021-09-20T21:00:09.285232",
     "status": "completed"
    },
    "tags": []
   },
   "outputs": [
    {
     "data": {
      "text/plain": [
       "<AxesSubplot:ylabel='PRODUCT'>"
      ]
     },
     "execution_count": 7,
     "metadata": {},
     "output_type": "execute_result"
    },
    {
     "data": {
      "image/png": "[encoded data removed]",
      "text/plain": [
       "<Figure size 432x288 with 1 Axes>"
      ]
     },
     "metadata": {
      "needs_background": "light"
     },
     "output_type": "display_data"
    }
   ],
   "source": [
    "df_pivot_diff.sort_values(\"stamp_2\", ascending = False)[\"stamp_2\"].head(10).plot.barh()"
   ]
  },
  {
   "cell_type": "code",
   "execution_count": null,
   "id": "extra-executive",
   "metadata": {
    "papermill": {
     "duration": 0.021951,
     "end_time": "2021-09-20T21:00:10.854567",
     "exception": false,
     "start_time": "2021-09-20T21:00:10.832616",
     "status": "completed"
    },
    "tags": []
   },
   "outputs": [],
   "source": []
  }
 ],
 "metadata": {
  "kernelspec": {
   "display_name": "Python 3",
   "language": "python",
   "name": "python3"
  },
  "language_info": {
   "codemirror_mode": {
    "name": "ipython",
    "version": 3
   },
   "file_extension": ".py",
   "mimetype": "text/x-python",
   "name": "python",
   "nbconvert_exporter": "python",
   "pygments_lexer": "ipython3",
   "version": "3.9.5"
  },
  "papermill": {
   "default_parameters": {},
   "duration": 6.711639,
   "end_time": "2021-09-20T21:00:11.495921",
   "environment_variables": {},
   "exception": null,
   "input_path": "eBay_Overview.ipynb",
   "output_path": "eBay_Overview.ipynb",
   "parameters": {},
   "start_time": "2021-09-20T21:00:04.784282",
   "version": "2.3.3"
  }
 },
 "nbformat": 4,
 "nbformat_minor": 5
}