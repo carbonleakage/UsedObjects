{
 "cells": [
  {
   "cell_type": "code",
   "execution_count": 1,
   "id": "reverse-picking",
   "metadata": {
    "execution": {
     "iopub.execute_input": "2021-10-05T10:30:06.815453Z",
     "iopub.status.busy": "2021-10-05T10:30:06.813394Z",
     "iopub.status.idle": "2021-10-05T10:30:07.622037Z",
     "shell.execute_reply": "2021-10-05T10:30:07.623420Z"
    },
    "papermill": {
     "duration": 0.86033,
     "end_time": "2021-10-05T10:30:07.624064",
     "exception": false,
     "start_time": "2021-10-05T10:30:06.763734",
     "status": "completed"
    },
    "tags": []
   },
   "outputs": [],
   "source": [
    "import pandas as pd\n",
    "import sqlite3"
   ]
  },
  {
   "cell_type": "code",
   "execution_count": 2,
   "id": "innovative-syndrome",
   "metadata": {
    "execution": {
     "iopub.execute_input": "2021-10-05T10:30:07.674506Z",
     "iopub.status.busy": "2021-10-05T10:30:07.672643Z",
     "iopub.status.idle": "2021-10-05T10:30:08.139384Z",
     "shell.execute_reply": "2021-10-05T10:30:08.140669Z"
    },
    "papermill": {
     "duration": 0.496156,
     "end_time": "2021-10-05T10:30:08.141067",
     "exception": false,
     "start_time": "2021-10-05T10:30:07.644911",
     "status": "completed"
    },
    "tags": []
   },
   "outputs": [],
   "source": [
    "timestamps = pd.read_sql(\"select distinct record_time from EBAY_TOP_BERLIN order by record_time desc limit 2\", sqlite3.connect(\"UsedObjects.db\"))"
   ]
  },
  {
   "cell_type": "code",
   "execution_count": 3,
   "id": "periodic-identification",
   "metadata": {
    "execution": {
     "iopub.execute_input": "2021-10-05T10:30:08.206512Z",
     "iopub.status.busy": "2021-10-05T10:30:08.204510Z",
     "iopub.status.idle": "2021-10-05T10:30:08.225578Z",
     "shell.execute_reply": "2021-10-05T10:30:08.226992Z"
    },
    "papermill": {
     "duration": 0.067081,
     "end_time": "2021-10-05T10:30:08.227487",
     "exception": false,
     "start_time": "2021-10-05T10:30:08.160406",
     "status": "completed"
    },
    "tags": []
   },
   "outputs": [
    {
     "data": {
      "text/html": [
       "<div>\n",
       "<style scoped>\n",
       "    .dataframe tbody tr th:only-of-type {\n",
       "        vertical-align: middle;\n",
       "    }\n",
       "\n",
       "    .dataframe tbody tr th {\n",
       "        vertical-align: top;\n",
       "    }\n",
       "\n",
       "    .dataframe thead th {\n",
       "        text-align: right;\n",
       "    }\n",
       "</style>\n",
       "<table border=\"1\" class=\"dataframe\">\n",
       "  <thead>\n",
       "    <tr style=\"text-align: right;\">\n",
       "      <th></th>\n",
       "      <th>RECORD_TIME</th>\n",
       "    </tr>\n",
       "  </thead>\n",
       "  <tbody>\n",
       "    <tr>\n",
       "      <th>0</th>\n",
       "      <td>2021-10-05 12:30</td>\n",
       "    </tr>\n",
       "    <tr>\n",
       "      <th>1</th>\n",
       "      <td>2021-10-05 12:00</td>\n",
       "    </tr>\n",
       "  </tbody>\n",
       "</table>\n",
       "</div>"
      ],
      "text/plain": [
       "        RECORD_TIME\n",
       "0  2021-10-05 12:30\n",
       "1  2021-10-05 12:00"
      ]
     },
     "execution_count": 3,
     "metadata": {},
     "output_type": "execute_result"
    }
   ],
   "source": [
    "timestamps"
   ]
  },
  {
   "cell_type": "code",
   "execution_count": 4,
   "id": "alternate-victory",
   "metadata": {
    "execution": {
     "iopub.execute_input": "2021-10-05T10:30:08.288673Z",
     "iopub.status.busy": "2021-10-05T10:30:08.286387Z",
     "iopub.status.idle": "2021-10-05T10:30:08.959957Z",
     "shell.execute_reply": "2021-10-05T10:30:08.961176Z"
    },
    "papermill": {
     "duration": 0.707441,
     "end_time": "2021-10-05T10:30:08.961571",
     "exception": false,
     "start_time": "2021-10-05T10:30:08.254130",
     "status": "completed"
    },
    "tags": []
   },
   "outputs": [],
   "source": [
    "df = pd.read_sql(\"select * from EBAY_TOP_BERLIN where record_time in (select distinct record_time from EBAY_TOP_BERLIN order by record_time desc limit 2)\", sqlite3.connect(\"UsedObjects.db\"))"
   ]
  },
  {
   "cell_type": "code",
   "execution_count": 5,
   "id": "popular-active",
   "metadata": {
    "execution": {
     "iopub.execute_input": "2021-10-05T10:30:09.033316Z",
     "iopub.status.busy": "2021-10-05T10:30:09.020530Z",
     "iopub.status.idle": "2021-10-05T10:30:09.050017Z",
     "shell.execute_reply": "2021-10-05T10:30:09.051392Z"
    },
    "papermill": {
     "duration": 0.068375,
     "end_time": "2021-10-05T10:30:09.051817",
     "exception": false,
     "start_time": "2021-10-05T10:30:08.983442",
     "status": "completed"
    },
    "tags": []
   },
   "outputs": [],
   "source": [
    "df_pivot = df.pivot_table(index=\"PRODUCT\", columns = \"RECORD_TIME\", values = \"LISTING_COUNT\")"
   ]
  },
  {
   "cell_type": "code",
   "execution_count": 6,
   "id": "union-huntington",
   "metadata": {
    "execution": {
     "iopub.execute_input": "2021-10-05T10:30:09.107980Z",
     "iopub.status.busy": "2021-10-05T10:30:09.105895Z",
     "iopub.status.idle": "2021-10-05T10:30:09.111337Z",
     "shell.execute_reply": "2021-10-05T10:30:09.112717Z"
    },
    "papermill": {
     "duration": 0.041158,
     "end_time": "2021-10-05T10:30:09.113127",
     "exception": false,
     "start_time": "2021-10-05T10:30:09.071969",
     "status": "completed"
    },
    "tags": []
   },
   "outputs": [],
   "source": [
    "df_pivot.columns = [\"stamp_1\", \"stamp_2\"]\n",
    "df_pivot_diff = df_pivot.diff(axis=1)"
   ]
  },
  {
   "cell_type": "code",
   "execution_count": 7,
   "id": "fifth-motion",
   "metadata": {
    "execution": {
     "iopub.execute_input": "2021-10-05T10:30:09.168386Z",
     "iopub.status.busy": "2021-10-05T10:30:09.165834Z",
     "iopub.status.idle": "2021-10-05T10:30:10.643724Z",
     "shell.execute_reply": "2021-10-05T10:30:10.645075Z"
    },
    "papermill": {
     "duration": 1.511045,
     "end_time": "2021-10-05T10:30:10.645491",
     "exception": false,
     "start_time": "2021-10-05T10:30:09.134446",
     "status": "completed"
    },
    "tags": []
   },
   "outputs": [
    {
     "data": {
      "text/plain": [
       "<AxesSubplot:ylabel='PRODUCT'>"
      ]
     },
     "execution_count": 7,
     "metadata": {},
     "output_type": "execute_result"
    },
    {
     "data": {
      "image/png": "[encoded data removed]",
      "text/plain": [
       "<Figure size 432x288 with 1 Axes>"
      ]
     },
     "metadata": {
      "needs_background": "light"
     },
     "output_type": "display_data"
    }
   ],
   "source": [
    "df_pivot_diff.sort_values(\"stamp_2\", ascending = False)[\"stamp_2\"].head(10).plot.barh()"
   ]
  },
  {
   "cell_type": "code",
   "execution_count": null,
   "id": "extra-executive",
   "metadata": {
    "papermill": {
     "duration": 0.022172,
     "end_time": "2021-10-05T10:30:10.692944",
     "exception": false,
     "start_time": "2021-10-05T10:30:10.670772",
     "status": "completed"
    },
    "tags": []
   },
   "outputs": [],
   "source": []
  }
 ],
 "metadata": {
  "kernelspec": {
   "display_name": "Python 3",
   "language": "python",
   "name": "python3"
  },
  "language_info": {
   "codemirror_mode": {
    "name": "ipython",
    "version": 3
   },
   "file_extension": ".py",
   "mimetype": "text/x-python",
   "name": "python",
   "nbconvert_exporter": "python",
   "pygments_lexer": "ipython3",
   "version": "3.9.5"
  },
  "papermill": {
   "default_parameters": {},
   "duration": 7.824308,
   "end_time": "2021-10-05T10:30:12.182248",
   "environment_variables": {},
   "exception": null,
   "input_path": "eBay_Overview.ipynb",
   "output_path": "eBay_Overview.ipynb",
   "parameters": {},
   "start_time": "2021-10-05T10:30:04.357940",
   "version": "2.3.3"
  }
 },
 "nbformat": 4,
 "nbformat_minor": 5
}