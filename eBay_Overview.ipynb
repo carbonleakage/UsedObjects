{
 "cells": [
  {
   "cell_type": "code",
   "execution_count": 1,
   "id": "reverse-picking",
   "metadata": {
    "execution": {
     "iopub.execute_input": "2021-12-19T07:30:07.752103Z",
     "iopub.status.busy": "2021-12-19T07:30:07.749791Z",
     "iopub.status.idle": "2021-12-19T07:30:08.704172Z",
     "shell.execute_reply": "2021-12-19T07:30:08.705785Z"
    },
    "papermill": {
     "duration": 1.003533,
     "end_time": "2021-12-19T07:30:08.706516",
     "exception": false,
     "start_time": "2021-12-19T07:30:07.702983",
     "status": "completed"
    },
    "tags": []
   },
   "outputs": [],
   "source": [
    "import pandas as pd\n",
    "import sqlite3"
   ]
  },
  {
   "cell_type": "code",
   "execution_count": 2,
   "id": "innovative-syndrome",
   "metadata": {
    "execution": {
     "iopub.execute_input": "2021-12-19T07:30:08.770965Z",
     "iopub.status.busy": "2021-12-19T07:30:08.768615Z",
     "iopub.status.idle": "2021-12-19T07:30:09.901952Z",
     "shell.execute_reply": "2021-12-19T07:30:09.903208Z"
    },
    "papermill": {
     "duration": 1.16786,
     "end_time": "2021-12-19T07:30:09.903624",
     "exception": false,
     "start_time": "2021-12-19T07:30:08.735764",
     "status": "completed"
    },
    "tags": []
   },
   "outputs": [],
   "source": [
    "timestamps = pd.read_sql(\"select distinct record_time from EBAY_TOP_BERLIN order by record_time desc limit 2\", sqlite3.connect(\"UsedObjects.db\"))"
   ]
  },
  {
   "cell_type": "code",
   "execution_count": 3,
   "id": "periodic-identification",
   "metadata": {
    "execution": {
     "iopub.execute_input": "2021-12-19T07:30:09.970122Z",
     "iopub.status.busy": "2021-12-19T07:30:09.967653Z",
     "iopub.status.idle": "2021-12-19T07:30:09.995517Z",
     "shell.execute_reply": "2021-12-19T07:30:09.997287Z"
    },
    "papermill": {
     "duration": 0.0726,
     "end_time": "2021-12-19T07:30:09.997766",
     "exception": false,
     "start_time": "2021-12-19T07:30:09.925166",
     "status": "completed"
    },
    "tags": []
   },
   "outputs": [
    {
     "data": {
      "text/html": [
       "<div>\n",
       "<style scoped>\n",
       "    .dataframe tbody tr th:only-of-type {\n",
       "        vertical-align: middle;\n",
       "    }\n",
       "\n",
       "    .dataframe tbody tr th {\n",
       "        vertical-align: top;\n",
       "    }\n",
       "\n",
       "    .dataframe thead th {\n",
       "        text-align: right;\n",
       "    }\n",
       "</style>\n",
       "<table border=\"1\" class=\"dataframe\">\n",
       "  <thead>\n",
       "    <tr style=\"text-align: right;\">\n",
       "      <th></th>\n",
       "      <th>RECORD_TIME</th>\n",
       "    </tr>\n",
       "  </thead>\n",
       "  <tbody>\n",
       "    <tr>\n",
       "      <th>0</th>\n",
       "      <td>2021-12-19 08:30</td>\n",
       "    </tr>\n",
       "    <tr>\n",
       "      <th>1</th>\n",
       "      <td>2021-12-19 08:00</td>\n",
       "    </tr>\n",
       "  </tbody>\n",
       "</table>\n",
       "</div>"
      ],
      "text/plain": [
       "        RECORD_TIME\n",
       "0  2021-12-19 08:30\n",
       "1  2021-12-19 08:00"
      ]
     },
     "execution_count": 3,
     "metadata": {},
     "output_type": "execute_result"
    }
   ],
   "source": [
    "timestamps"
   ]
  },
  {
   "cell_type": "code",
   "execution_count": 4,
   "id": "alternate-victory",
   "metadata": {
    "execution": {
     "iopub.execute_input": "2021-12-19T07:30:10.057095Z",
     "iopub.status.busy": "2021-12-19T07:30:10.054926Z",
     "iopub.status.idle": "2021-12-19T07:30:11.713865Z",
     "shell.execute_reply": "2021-12-19T07:30:11.715264Z"
    },
    "papermill": {
     "duration": 1.696731,
     "end_time": "2021-12-19T07:30:11.715703",
     "exception": false,
     "start_time": "2021-12-19T07:30:10.018972",
     "status": "completed"
    },
    "tags": []
   },
   "outputs": [],
   "source": [
    "df = pd.read_sql(\"select * from EBAY_TOP_BERLIN where record_time in (select distinct record_time from EBAY_TOP_BERLIN order by record_time desc limit 2)\", sqlite3.connect(\"UsedObjects.db\"))"
   ]
  },
  {
   "cell_type": "code",
   "execution_count": 5,
   "id": "popular-active",
   "metadata": {
    "execution": {
     "iopub.execute_input": "2021-12-19T07:30:11.792514Z",
     "iopub.status.busy": "2021-12-19T07:30:11.776971Z",
     "iopub.status.idle": "2021-12-19T07:30:11.811341Z",
     "shell.execute_reply": "2021-12-19T07:30:11.812806Z"
    },
    "papermill": {
     "duration": 0.076525,
     "end_time": "2021-12-19T07:30:11.813354",
     "exception": false,
     "start_time": "2021-12-19T07:30:11.736829",
     "status": "completed"
    },
    "tags": []
   },
   "outputs": [],
   "source": [
    "df_pivot = df.pivot_table(index=\"PRODUCT\", columns = \"RECORD_TIME\", values = \"LISTING_COUNT\")"
   ]
  },
  {
   "cell_type": "code",
   "execution_count": 6,
   "id": "union-huntington",
   "metadata": {
    "execution": {
     "iopub.execute_input": "2021-12-19T07:30:11.874258Z",
     "iopub.status.busy": "2021-12-19T07:30:11.872066Z",
     "iopub.status.idle": "2021-12-19T07:30:11.879701Z",
     "shell.execute_reply": "2021-12-19T07:30:11.878062Z"
    },
    "papermill": {
     "duration": 0.044551,
     "end_time": "2021-12-19T07:30:11.880116",
     "exception": false,
     "start_time": "2021-12-19T07:30:11.835565",
     "status": "completed"
    },
    "tags": []
   },
   "outputs": [],
   "source": [
    "df_pivot.columns = [\"stamp_1\", \"stamp_2\"]\n",
    "df_pivot_diff = df_pivot.diff(axis=1)"
   ]
  },
  {
   "cell_type": "code",
   "execution_count": 7,
   "id": "fifth-motion",
   "metadata": {
    "execution": {
     "iopub.execute_input": "2021-12-19T07:30:11.939449Z",
     "iopub.status.busy": "2021-12-19T07:30:11.935069Z",
     "iopub.status.idle": "2021-12-19T07:30:13.949563Z",
     "shell.execute_reply": "2021-12-19T07:30:13.950845Z"
    },
    "papermill": {
     "duration": 2.050143,
     "end_time": "2021-12-19T07:30:13.951304",
     "exception": false,
     "start_time": "2021-12-19T07:30:11.901161",
     "status": "completed"
    },
    "tags": []
   },
   "outputs": [
    {
     "data": {
      "text/plain": [
       "<AxesSubplot:ylabel='PRODUCT'>"
      ]
     },
     "execution_count": 7,
     "metadata": {},
     "output_type": "execute_result"
    },
    {
     "data": {
      "image/png": "[encoded data removed]",
      "text/plain": [
       "<Figure size 432x288 with 1 Axes>"
      ]
     },
     "metadata": {
      "needs_background": "light"
     },
     "output_type": "display_data"
    }
   ],
   "source": [
    "df_pivot_diff.sort_values(\"stamp_2\", ascending = False)[\"stamp_2\"].head(10).plot.barh()"
   ]
  },
  {
   "cell_type": "code",
   "execution_count": null,
   "id": "extra-executive",
   "metadata": {
    "papermill": {
     "duration": 0.024296,
     "end_time": "2021-12-19T07:30:14.000377",
     "exception": false,
     "start_time": "2021-12-19T07:30:13.976081",
     "status": "completed"
    },
    "tags": []
   },
   "outputs": [],
   "source": []
  }
 ],
 "metadata": {
  "kernelspec": {
   "display_name": "Python 3",
   "language": "python",
   "name": "python3"
  },
  "language_info": {
   "codemirror_mode": {
    "name": "ipython",
    "version": 3
   },
   "file_extension": ".py",
   "mimetype": "text/x-python",
   "name": "python",
   "nbconvert_exporter": "python",
   "pygments_lexer": "ipython3",
   "version": "3.9.5"
  },
  "papermill": {
   "default_parameters": {},
   "duration": 9.679464,
   "end_time": "2021-12-19T07:30:14.645477",
   "environment_variables": {},
   "exception": null,
   "input_path": "eBay_Overview.ipynb",
   "output_path": "eBay_Overview.ipynb",
   "parameters": {},
   "start_time": "2021-12-19T07:30:04.966013",
   "version": "2.3.3"
  }
 },
 "nbformat": 4,
 "nbformat_minor": 5
}