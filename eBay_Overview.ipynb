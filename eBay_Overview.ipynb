{
 "cells": [
  {
   "cell_type": "code",
   "execution_count": 1,
   "id": "reverse-picking",
   "metadata": {
    "execution": {
     "iopub.execute_input": "2021-10-11T03:00:07.552737Z",
     "iopub.status.busy": "2021-10-11T03:00:07.550677Z",
     "iopub.status.idle": "2021-10-11T03:00:08.357047Z",
     "shell.execute_reply": "2021-10-11T03:00:08.358303Z"
    },
    "papermill": {
     "duration": 0.857964,
     "end_time": "2021-10-11T03:00:08.358974",
     "exception": false,
     "start_time": "2021-10-11T03:00:07.501010",
     "status": "completed"
    },
    "tags": []
   },
   "outputs": [],
   "source": [
    "import pandas as pd\n",
    "import sqlite3"
   ]
  },
  {
   "cell_type": "code",
   "execution_count": 2,
   "id": "innovative-syndrome",
   "metadata": {
    "execution": {
     "iopub.execute_input": "2021-10-11T03:00:08.409446Z",
     "iopub.status.busy": "2021-10-11T03:00:08.407471Z",
     "iopub.status.idle": "2021-10-11T03:00:08.908523Z",
     "shell.execute_reply": "2021-10-11T03:00:08.909734Z"
    },
    "papermill": {
     "duration": 0.530459,
     "end_time": "2021-10-11T03:00:08.910127",
     "exception": false,
     "start_time": "2021-10-11T03:00:08.379668",
     "status": "completed"
    },
    "tags": []
   },
   "outputs": [],
   "source": [
    "timestamps = pd.read_sql(\"select distinct record_time from EBAY_TOP_BERLIN order by record_time desc limit 2\", sqlite3.connect(\"UsedObjects.db\"))"
   ]
  },
  {
   "cell_type": "code",
   "execution_count": 3,
   "id": "periodic-identification",
   "metadata": {
    "execution": {
     "iopub.execute_input": "2021-10-11T03:00:08.977131Z",
     "iopub.status.busy": "2021-10-11T03:00:08.975120Z",
     "iopub.status.idle": "2021-10-11T03:00:08.995862Z",
     "shell.execute_reply": "2021-10-11T03:00:08.997080Z"
    },
    "papermill": {
     "duration": 0.065875,
     "end_time": "2021-10-11T03:00:08.997501",
     "exception": false,
     "start_time": "2021-10-11T03:00:08.931626",
     "status": "completed"
    },
    "tags": []
   },
   "outputs": [
    {
     "data": {
      "text/html": [
       "<div>\n",
       "<style scoped>\n",
       "    .dataframe tbody tr th:only-of-type {\n",
       "        vertical-align: middle;\n",
       "    }\n",
       "\n",
       "    .dataframe tbody tr th {\n",
       "        vertical-align: top;\n",
       "    }\n",
       "\n",
       "    .dataframe thead th {\n",
       "        text-align: right;\n",
       "    }\n",
       "</style>\n",
       "<table border=\"1\" class=\"dataframe\">\n",
       "  <thead>\n",
       "    <tr style=\"text-align: right;\">\n",
       "      <th></th>\n",
       "      <th>RECORD_TIME</th>\n",
       "    </tr>\n",
       "  </thead>\n",
       "  <tbody>\n",
       "    <tr>\n",
       "      <th>0</th>\n",
       "      <td>2021-10-11 05:00</td>\n",
       "    </tr>\n",
       "    <tr>\n",
       "      <th>1</th>\n",
       "      <td>2021-10-11 04:30</td>\n",
       "    </tr>\n",
       "  </tbody>\n",
       "</table>\n",
       "</div>"
      ],
      "text/plain": [
       "        RECORD_TIME\n",
       "0  2021-10-11 05:00\n",
       "1  2021-10-11 04:30"
      ]
     },
     "execution_count": 3,
     "metadata": {},
     "output_type": "execute_result"
    }
   ],
   "source": [
    "timestamps"
   ]
  },
  {
   "cell_type": "code",
   "execution_count": 4,
   "id": "alternate-victory",
   "metadata": {
    "execution": {
     "iopub.execute_input": "2021-10-11T03:00:09.063886Z",
     "iopub.status.busy": "2021-10-11T03:00:09.061820Z",
     "iopub.status.idle": "2021-10-11T03:00:09.794431Z",
     "shell.execute_reply": "2021-10-11T03:00:09.795893Z"
    },
    "papermill": {
     "duration": 0.768207,
     "end_time": "2021-10-11T03:00:09.796307",
     "exception": false,
     "start_time": "2021-10-11T03:00:09.028100",
     "status": "completed"
    },
    "tags": []
   },
   "outputs": [],
   "source": [
    "df = pd.read_sql(\"select * from EBAY_TOP_BERLIN where record_time in (select distinct record_time from EBAY_TOP_BERLIN order by record_time desc limit 2)\", sqlite3.connect(\"UsedObjects.db\"))"
   ]
  },
  {
   "cell_type": "code",
   "execution_count": 5,
   "id": "popular-active",
   "metadata": {
    "execution": {
     "iopub.execute_input": "2021-10-11T03:00:09.866000Z",
     "iopub.status.busy": "2021-10-11T03:00:09.853696Z",
     "iopub.status.idle": "2021-10-11T03:00:09.884408Z",
     "shell.execute_reply": "2021-10-11T03:00:09.885770Z"
    },
    "papermill": {
     "duration": 0.069916,
     "end_time": "2021-10-11T03:00:09.886199",
     "exception": false,
     "start_time": "2021-10-11T03:00:09.816283",
     "status": "completed"
    },
    "tags": []
   },
   "outputs": [],
   "source": [
    "df_pivot = df.pivot_table(index=\"PRODUCT\", columns = \"RECORD_TIME\", values = \"LISTING_COUNT\")"
   ]
  },
  {
   "cell_type": "code",
   "execution_count": 6,
   "id": "union-huntington",
   "metadata": {
    "execution": {
     "iopub.execute_input": "2021-10-11T03:00:09.942769Z",
     "iopub.status.busy": "2021-10-11T03:00:09.940719Z",
     "iopub.status.idle": "2021-10-11T03:00:09.946036Z",
     "shell.execute_reply": "2021-10-11T03:00:09.947316Z"
    },
    "papermill": {
     "duration": 0.041312,
     "end_time": "2021-10-11T03:00:09.947755",
     "exception": false,
     "start_time": "2021-10-11T03:00:09.906443",
     "status": "completed"
    },
    "tags": []
   },
   "outputs": [],
   "source": [
    "df_pivot.columns = [\"stamp_1\", \"stamp_2\"]\n",
    "df_pivot_diff = df_pivot.diff(axis=1)"
   ]
  },
  {
   "cell_type": "code",
   "execution_count": 7,
   "id": "fifth-motion",
   "metadata": {
    "execution": {
     "iopub.execute_input": "2021-10-11T03:00:10.004103Z",
     "iopub.status.busy": "2021-10-11T03:00:10.001533Z",
     "iopub.status.idle": "2021-10-11T03:00:11.503388Z",
     "shell.execute_reply": "2021-10-11T03:00:11.504785Z"
    },
    "papermill": {
     "duration": 1.534818,
     "end_time": "2021-10-11T03:00:11.505217",
     "exception": false,
     "start_time": "2021-10-11T03:00:09.970399",
     "status": "completed"
    },
    "tags": []
   },
   "outputs": [
    {
     "data": {
      "text/plain": [
       "<AxesSubplot:ylabel='PRODUCT'>"
      ]
     },
     "execution_count": 7,
     "metadata": {},
     "output_type": "execute_result"
    },
    {
     "data": {
      "image/png": "[encoded data removed]",
      "text/plain": [
       "<Figure size 432x288 with 1 Axes>"
      ]
     },
     "metadata": {
      "needs_background": "light"
     },
     "output_type": "display_data"
    }
   ],
   "source": [
    "df_pivot_diff.sort_values(\"stamp_2\", ascending = False)[\"stamp_2\"].head(10).plot.barh()"
   ]
  },
  {
   "cell_type": "code",
   "execution_count": null,
   "id": "extra-executive",
   "metadata": {
    "papermill": {
     "duration": 0.021876,
     "end_time": "2021-10-11T03:00:11.551213",
     "exception": false,
     "start_time": "2021-10-11T03:00:11.529337",
     "status": "completed"
    },
    "tags": []
   },
   "outputs": [],
   "source": []
  }
 ],
 "metadata": {
  "kernelspec": {
   "display_name": "Python 3",
   "language": "python",
   "name": "python3"
  },
  "language_info": {
   "codemirror_mode": {
    "name": "ipython",
    "version": 3
   },
   "file_extension": ".py",
   "mimetype": "text/x-python",
   "name": "python",
   "nbconvert_exporter": "python",
   "pygments_lexer": "ipython3",
   "version": "3.9.5"
  },
  "papermill": {
   "default_parameters": {},
   "duration": 7.822021,
   "end_time": "2021-10-11T03:00:12.909900",
   "environment_variables": {},
   "exception": null,
   "input_path": "eBay_Overview.ipynb",
   "output_path": "eBay_Overview.ipynb",
   "parameters": {},
   "start_time": "2021-10-11T03:00:05.087879",
   "version": "2.3.3"
  }
 },
 "nbformat": 4,
 "nbformat_minor": 5
}