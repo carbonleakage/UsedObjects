{
 "cells": [
  {
   "cell_type": "code",
   "execution_count": 1,
   "id": "reverse-picking",
   "metadata": {
    "execution": {
     "iopub.execute_input": "2021-11-18T11:30:07.746762Z",
     "iopub.status.busy": "2021-11-18T11:30:07.743577Z",
     "iopub.status.idle": "2021-11-18T11:30:08.687989Z",
     "shell.execute_reply": "2021-11-18T11:30:08.689595Z"
    },
    "papermill": {
     "duration": 0.994819,
     "end_time": "2021-11-18T11:30:08.690427",
     "exception": false,
     "start_time": "2021-11-18T11:30:07.695608",
     "status": "completed"
    },
    "tags": []
   },
   "outputs": [],
   "source": [
    "import pandas as pd\n",
    "import sqlite3"
   ]
  },
  {
   "cell_type": "code",
   "execution_count": 2,
   "id": "innovative-syndrome",
   "metadata": {
    "execution": {
     "iopub.execute_input": "2021-11-18T11:30:08.746878Z",
     "iopub.status.busy": "2021-11-18T11:30:08.744625Z",
     "iopub.status.idle": "2021-11-18T11:30:09.605284Z",
     "shell.execute_reply": "2021-11-18T11:30:09.606746Z"
    },
    "papermill": {
     "duration": 0.894184,
     "end_time": "2021-11-18T11:30:09.607248",
     "exception": false,
     "start_time": "2021-11-18T11:30:08.713064",
     "status": "completed"
    },
    "tags": []
   },
   "outputs": [],
   "source": [
    "timestamps = pd.read_sql(\"select distinct record_time from EBAY_TOP_BERLIN order by record_time desc limit 2\", sqlite3.connect(\"UsedObjects.db\"))"
   ]
  },
  {
   "cell_type": "code",
   "execution_count": 3,
   "id": "periodic-identification",
   "metadata": {
    "execution": {
     "iopub.execute_input": "2021-11-18T11:30:09.681208Z",
     "iopub.status.busy": "2021-11-18T11:30:09.678737Z",
     "iopub.status.idle": "2021-11-18T11:30:09.701765Z",
     "shell.execute_reply": "2021-11-18T11:30:09.703387Z"
    },
    "papermill": {
     "duration": 0.074123,
     "end_time": "2021-11-18T11:30:09.703870",
     "exception": false,
     "start_time": "2021-11-18T11:30:09.629747",
     "status": "completed"
    },
    "tags": []
   },
   "outputs": [
    {
     "data": {
      "text/html": [
       "<div>\n",
       "<style scoped>\n",
       "    .dataframe tbody tr th:only-of-type {\n",
       "        vertical-align: middle;\n",
       "    }\n",
       "\n",
       "    .dataframe tbody tr th {\n",
       "        vertical-align: top;\n",
       "    }\n",
       "\n",
       "    .dataframe thead th {\n",
       "        text-align: right;\n",
       "    }\n",
       "</style>\n",
       "<table border=\"1\" class=\"dataframe\">\n",
       "  <thead>\n",
       "    <tr style=\"text-align: right;\">\n",
       "      <th></th>\n",
       "      <th>RECORD_TIME</th>\n",
       "    </tr>\n",
       "  </thead>\n",
       "  <tbody>\n",
       "    <tr>\n",
       "      <th>0</th>\n",
       "      <td>2021-11-18 12:30</td>\n",
       "    </tr>\n",
       "    <tr>\n",
       "      <th>1</th>\n",
       "      <td>2021-11-18 12:00</td>\n",
       "    </tr>\n",
       "  </tbody>\n",
       "</table>\n",
       "</div>"
      ],
      "text/plain": [
       "        RECORD_TIME\n",
       "0  2021-11-18 12:30\n",
       "1  2021-11-18 12:00"
      ]
     },
     "execution_count": 3,
     "metadata": {},
     "output_type": "execute_result"
    }
   ],
   "source": [
    "timestamps"
   ]
  },
  {
   "cell_type": "code",
   "execution_count": 4,
   "id": "alternate-victory",
   "metadata": {
    "execution": {
     "iopub.execute_input": "2021-11-18T11:30:09.774239Z",
     "iopub.status.busy": "2021-11-18T11:30:09.771828Z",
     "iopub.status.idle": "2021-11-18T11:30:11.019745Z",
     "shell.execute_reply": "2021-11-18T11:30:11.021999Z"
    },
    "papermill": {
     "duration": 1.296065,
     "end_time": "2021-11-18T11:30:11.022798",
     "exception": false,
     "start_time": "2021-11-18T11:30:09.726733",
     "status": "completed"
    },
    "tags": []
   },
   "outputs": [],
   "source": [
    "df = pd.read_sql(\"select * from EBAY_TOP_BERLIN where record_time in (select distinct record_time from EBAY_TOP_BERLIN order by record_time desc limit 2)\", sqlite3.connect(\"UsedObjects.db\"))"
   ]
  },
  {
   "cell_type": "code",
   "execution_count": 5,
   "id": "popular-active",
   "metadata": {
    "execution": {
     "iopub.execute_input": "2021-11-18T11:30:11.089348Z",
     "iopub.status.busy": "2021-11-18T11:30:11.086952Z",
     "iopub.status.idle": "2021-11-18T11:30:11.119128Z",
     "shell.execute_reply": "2021-11-18T11:30:11.120676Z"
    },
    "papermill": {
     "duration": 0.076475,
     "end_time": "2021-11-18T11:30:11.121226",
     "exception": false,
     "start_time": "2021-11-18T11:30:11.044751",
     "status": "completed"
    },
    "tags": []
   },
   "outputs": [],
   "source": [
    "df_pivot = df.pivot_table(index=\"PRODUCT\", columns = \"RECORD_TIME\", values = \"LISTING_COUNT\")"
   ]
  },
  {
   "cell_type": "code",
   "execution_count": 6,
   "id": "union-huntington",
   "metadata": {
    "execution": {
     "iopub.execute_input": "2021-11-18T11:30:11.183562Z",
     "iopub.status.busy": "2021-11-18T11:30:11.181237Z",
     "iopub.status.idle": "2021-11-18T11:30:11.186977Z",
     "shell.execute_reply": "2021-11-18T11:30:11.189607Z"
    },
    "papermill": {
     "duration": 0.047685,
     "end_time": "2021-11-18T11:30:11.190402",
     "exception": false,
     "start_time": "2021-11-18T11:30:11.142717",
     "status": "completed"
    },
    "tags": []
   },
   "outputs": [],
   "source": [
    "df_pivot.columns = [\"stamp_1\", \"stamp_2\"]\n",
    "df_pivot_diff = df_pivot.diff(axis=1)"
   ]
  },
  {
   "cell_type": "code",
   "execution_count": 7,
   "id": "fifth-motion",
   "metadata": {
    "execution": {
     "iopub.execute_input": "2021-11-18T11:30:11.250191Z",
     "iopub.status.busy": "2021-11-18T11:30:11.247418Z",
     "iopub.status.idle": "2021-11-18T11:30:12.991468Z",
     "shell.execute_reply": "2021-11-18T11:30:12.993058Z"
    },
    "papermill": {
     "duration": 1.781398,
     "end_time": "2021-11-18T11:30:12.993540",
     "exception": false,
     "start_time": "2021-11-18T11:30:11.212142",
     "status": "completed"
    },
    "tags": []
   },
   "outputs": [
    {
     "data": {
      "text/plain": [
       "<AxesSubplot:ylabel='PRODUCT'>"
      ]
     },
     "execution_count": 7,
     "metadata": {},
     "output_type": "execute_result"
    },
    {
     "data": {
      "image/png": "[encoded data removed]",
      "text/plain": [
       "<Figure size 432x288 with 1 Axes>"
      ]
     },
     "metadata": {
      "needs_background": "light"
     },
     "output_type": "display_data"
    }
   ],
   "source": [
    "df_pivot_diff.sort_values(\"stamp_2\", ascending = False)[\"stamp_2\"].head(10).plot.barh()"
   ]
  },
  {
   "cell_type": "code",
   "execution_count": null,
   "id": "extra-executive",
   "metadata": {
    "papermill": {
     "duration": 0.02528,
     "end_time": "2021-11-18T11:30:13.043964",
     "exception": false,
     "start_time": "2021-11-18T11:30:13.018684",
     "status": "completed"
    },
    "tags": []
   },
   "outputs": [],
   "source": []
  }
 ],
 "metadata": {
  "kernelspec": {
   "display_name": "Python 3",
   "language": "python",
   "name": "python3"
  },
  "language_info": {
   "codemirror_mode": {
    "name": "ipython",
    "version": 3
   },
   "file_extension": ".py",
   "mimetype": "text/x-python",
   "name": "python",
   "nbconvert_exporter": "python",
   "pygments_lexer": "ipython3",
   "version": "3.9.5"
  },
  "papermill": {
   "default_parameters": {},
   "duration": 8.977003,
   "end_time": "2021-11-18T11:30:13.894703",
   "environment_variables": {},
   "exception": null,
   "input_path": "eBay_Overview.ipynb",
   "output_path": "eBay_Overview.ipynb",
   "parameters": {},
   "start_time": "2021-11-18T11:30:04.917700",
   "version": "2.3.3"
  }
 },
 "nbformat": 4,
 "nbformat_minor": 5
}