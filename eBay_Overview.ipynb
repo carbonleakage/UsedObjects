{
 "cells": [
  {
   "cell_type": "code",
   "execution_count": 1,
   "id": "reverse-picking",
   "metadata": {
    "execution": {
     "iopub.execute_input": "2021-12-14T05:00:08.051152Z",
     "iopub.status.busy": "2021-12-14T05:00:08.048840Z",
     "iopub.status.idle": "2021-12-14T05:00:09.011245Z",
     "shell.execute_reply": "2021-12-14T05:00:09.012899Z"
    },
    "papermill": {
     "duration": 1.010232,
     "end_time": "2021-12-14T05:00:09.014093",
     "exception": false,
     "start_time": "2021-12-14T05:00:08.003861",
     "status": "completed"
    },
    "tags": []
   },
   "outputs": [],
   "source": [
    "import pandas as pd\n",
    "import sqlite3"
   ]
  },
  {
   "cell_type": "code",
   "execution_count": 2,
   "id": "innovative-syndrome",
   "metadata": {
    "execution": {
     "iopub.execute_input": "2021-12-14T05:00:09.076330Z",
     "iopub.status.busy": "2021-12-14T05:00:09.074016Z",
     "iopub.status.idle": "2021-12-14T05:00:10.148173Z",
     "shell.execute_reply": "2021-12-14T05:00:10.149812Z"
    },
    "papermill": {
     "duration": 1.1082,
     "end_time": "2021-12-14T05:00:10.150301",
     "exception": false,
     "start_time": "2021-12-14T05:00:09.042101",
     "status": "completed"
    },
    "tags": []
   },
   "outputs": [],
   "source": [
    "timestamps = pd.read_sql(\"select distinct record_time from EBAY_TOP_BERLIN order by record_time desc limit 2\", sqlite3.connect(\"UsedObjects.db\"))"
   ]
  },
  {
   "cell_type": "code",
   "execution_count": 3,
   "id": "periodic-identification",
   "metadata": {
    "execution": {
     "iopub.execute_input": "2021-12-14T05:00:10.207093Z",
     "iopub.status.busy": "2021-12-14T05:00:10.204481Z",
     "iopub.status.idle": "2021-12-14T05:00:10.245353Z",
     "shell.execute_reply": "2021-12-14T05:00:10.246779Z"
    },
    "papermill": {
     "duration": 0.075821,
     "end_time": "2021-12-14T05:00:10.247267",
     "exception": false,
     "start_time": "2021-12-14T05:00:10.171446",
     "status": "completed"
    },
    "tags": []
   },
   "outputs": [
    {
     "data": {
      "text/html": [
       "<div>\n",
       "<style scoped>\n",
       "    .dataframe tbody tr th:only-of-type {\n",
       "        vertical-align: middle;\n",
       "    }\n",
       "\n",
       "    .dataframe tbody tr th {\n",
       "        vertical-align: top;\n",
       "    }\n",
       "\n",
       "    .dataframe thead th {\n",
       "        text-align: right;\n",
       "    }\n",
       "</style>\n",
       "<table border=\"1\" class=\"dataframe\">\n",
       "  <thead>\n",
       "    <tr style=\"text-align: right;\">\n",
       "      <th></th>\n",
       "      <th>RECORD_TIME</th>\n",
       "    </tr>\n",
       "  </thead>\n",
       "  <tbody>\n",
       "    <tr>\n",
       "      <th>0</th>\n",
       "      <td>2021-12-14 06:00</td>\n",
       "    </tr>\n",
       "    <tr>\n",
       "      <th>1</th>\n",
       "      <td>2021-12-14 05:30</td>\n",
       "    </tr>\n",
       "  </tbody>\n",
       "</table>\n",
       "</div>"
      ],
      "text/plain": [
       "        RECORD_TIME\n",
       "0  2021-12-14 06:00\n",
       "1  2021-12-14 05:30"
      ]
     },
     "execution_count": 3,
     "metadata": {},
     "output_type": "execute_result"
    }
   ],
   "source": [
    "timestamps"
   ]
  },
  {
   "cell_type": "code",
   "execution_count": 4,
   "id": "alternate-victory",
   "metadata": {
    "execution": {
     "iopub.execute_input": "2021-12-14T05:00:10.301849Z",
     "iopub.status.busy": "2021-12-14T05:00:10.299680Z",
     "iopub.status.idle": "2021-12-14T05:00:11.871826Z",
     "shell.execute_reply": "2021-12-14T05:00:11.873310Z"
    },
    "papermill": {
     "duration": 1.605491,
     "end_time": "2021-12-14T05:00:11.873766",
     "exception": false,
     "start_time": "2021-12-14T05:00:10.268275",
     "status": "completed"
    },
    "tags": []
   },
   "outputs": [],
   "source": [
    "df = pd.read_sql(\"select * from EBAY_TOP_BERLIN where record_time in (select distinct record_time from EBAY_TOP_BERLIN order by record_time desc limit 2)\", sqlite3.connect(\"UsedObjects.db\"))"
   ]
  },
  {
   "cell_type": "code",
   "execution_count": 5,
   "id": "popular-active",
   "metadata": {
    "execution": {
     "iopub.execute_input": "2021-12-14T05:00:11.955856Z",
     "iopub.status.busy": "2021-12-14T05:00:11.941040Z",
     "iopub.status.idle": "2021-12-14T05:00:11.978670Z",
     "shell.execute_reply": "2021-12-14T05:00:11.981188Z"
    },
    "papermill": {
     "duration": 0.084581,
     "end_time": "2021-12-14T05:00:11.981769",
     "exception": false,
     "start_time": "2021-12-14T05:00:11.897188",
     "status": "completed"
    },
    "tags": []
   },
   "outputs": [],
   "source": [
    "df_pivot = df.pivot_table(index=\"PRODUCT\", columns = \"RECORD_TIME\", values = \"LISTING_COUNT\")"
   ]
  },
  {
   "cell_type": "code",
   "execution_count": 6,
   "id": "union-huntington",
   "metadata": {
    "execution": {
     "iopub.execute_input": "2021-12-14T05:00:12.045525Z",
     "iopub.status.busy": "2021-12-14T05:00:12.043453Z",
     "iopub.status.idle": "2021-12-14T05:00:12.049216Z",
     "shell.execute_reply": "2021-12-14T05:00:12.050932Z"
    },
    "papermill": {
     "duration": 0.046667,
     "end_time": "2021-12-14T05:00:12.051450",
     "exception": false,
     "start_time": "2021-12-14T05:00:12.004783",
     "status": "completed"
    },
    "tags": []
   },
   "outputs": [],
   "source": [
    "df_pivot.columns = [\"stamp_1\", \"stamp_2\"]\n",
    "df_pivot_diff = df_pivot.diff(axis=1)"
   ]
  },
  {
   "cell_type": "code",
   "execution_count": 7,
   "id": "fifth-motion",
   "metadata": {
    "execution": {
     "iopub.execute_input": "2021-12-14T05:00:12.108249Z",
     "iopub.status.busy": "2021-12-14T05:00:12.105757Z",
     "iopub.status.idle": "2021-12-14T05:00:14.101640Z",
     "shell.execute_reply": "2021-12-14T05:00:14.104606Z"
    },
    "papermill": {
     "duration": 2.032838,
     "end_time": "2021-12-14T05:00:14.105380",
     "exception": false,
     "start_time": "2021-12-14T05:00:12.072542",
     "status": "completed"
    },
    "tags": []
   },
   "outputs": [
    {
     "data": {
      "text/plain": [
       "<AxesSubplot:ylabel='PRODUCT'>"
      ]
     },
     "execution_count": 7,
     "metadata": {},
     "output_type": "execute_result"
    },
    {
     "data": {
      "image/png": "[encoded data removed]",
      "text/plain": [
       "<Figure size 432x288 with 1 Axes>"
      ]
     },
     "metadata": {
      "needs_background": "light"
     },
     "output_type": "display_data"
    }
   ],
   "source": [
    "df_pivot_diff.sort_values(\"stamp_2\", ascending = False)[\"stamp_2\"].head(10).plot.barh()"
   ]
  },
  {
   "cell_type": "code",
   "execution_count": null,
   "id": "extra-executive",
   "metadata": {
    "papermill": {
     "duration": 0.027842,
     "end_time": "2021-12-14T05:00:14.174947",
     "exception": false,
     "start_time": "2021-12-14T05:00:14.147105",
     "status": "completed"
    },
    "tags": []
   },
   "outputs": [],
   "source": []
  }
 ],
 "metadata": {
  "kernelspec": {
   "display_name": "Python 3",
   "language": "python",
   "name": "python3"
  },
  "language_info": {
   "codemirror_mode": {
    "name": "ipython",
    "version": 3
   },
   "file_extension": ".py",
   "mimetype": "text/x-python",
   "name": "python",
   "nbconvert_exporter": "python",
   "pygments_lexer": "ipython3",
   "version": "3.9.5"
  },
  "papermill": {
   "default_parameters": {},
   "duration": 9.578948,
   "end_time": "2021-12-14T05:00:14.825131",
   "environment_variables": {},
   "exception": null,
   "input_path": "eBay_Overview.ipynb",
   "output_path": "eBay_Overview.ipynb",
   "parameters": {},
   "start_time": "2021-12-14T05:00:05.246183",
   "version": "2.3.3"
  }
 },
 "nbformat": 4,
 "nbformat_minor": 5
}