{
 "cells": [
  {
   "cell_type": "code",
   "execution_count": 1,
   "id": "reverse-picking",
   "metadata": {
    "execution": {
     "iopub.execute_input": "2021-09-07T18:30:07.049433Z",
     "iopub.status.busy": "2021-09-07T18:30:07.047437Z",
     "iopub.status.idle": "2021-09-07T18:30:07.858147Z",
     "shell.execute_reply": "2021-09-07T18:30:07.859553Z"
    },
    "papermill": {
     "duration": 0.862562,
     "end_time": "2021-09-07T18:30:07.860220",
     "exception": false,
     "start_time": "2021-09-07T18:30:06.997658",
     "status": "completed"
    },
    "tags": []
   },
   "outputs": [],
   "source": [
    "import pandas as pd\n",
    "import sqlite3"
   ]
  },
  {
   "cell_type": "code",
   "execution_count": 2,
   "id": "innovative-syndrome",
   "metadata": {
    "execution": {
     "iopub.execute_input": "2021-09-07T18:30:07.911174Z",
     "iopub.status.busy": "2021-09-07T18:30:07.909058Z",
     "iopub.status.idle": "2021-09-07T18:30:08.137250Z",
     "shell.execute_reply": "2021-09-07T18:30:08.138456Z"
    },
    "papermill": {
     "duration": 0.258684,
     "end_time": "2021-09-07T18:30:08.139018",
     "exception": false,
     "start_time": "2021-09-07T18:30:07.880334",
     "status": "completed"
    },
    "tags": []
   },
   "outputs": [],
   "source": [
    "timestamps = pd.read_sql(\"select distinct record_time from EBAY_TOP_BERLIN order by record_time desc limit 2\", sqlite3.connect(\"UsedObjects.db\"))"
   ]
  },
  {
   "cell_type": "code",
   "execution_count": 3,
   "id": "periodic-identification",
   "metadata": {
    "execution": {
     "iopub.execute_input": "2021-09-07T18:30:08.207074Z",
     "iopub.status.busy": "2021-09-07T18:30:08.204980Z",
     "iopub.status.idle": "2021-09-07T18:30:08.227856Z",
     "shell.execute_reply": "2021-09-07T18:30:08.229157Z"
    },
    "papermill": {
     "duration": 0.068921,
     "end_time": "2021-09-07T18:30:08.229572",
     "exception": false,
     "start_time": "2021-09-07T18:30:08.160651",
     "status": "completed"
    },
    "tags": []
   },
   "outputs": [
    {
     "data": {
      "text/html": [
       "<div>\n",
       "<style scoped>\n",
       "    .dataframe tbody tr th:only-of-type {\n",
       "        vertical-align: middle;\n",
       "    }\n",
       "\n",
       "    .dataframe tbody tr th {\n",
       "        vertical-align: top;\n",
       "    }\n",
       "\n",
       "    .dataframe thead th {\n",
       "        text-align: right;\n",
       "    }\n",
       "</style>\n",
       "<table border=\"1\" class=\"dataframe\">\n",
       "  <thead>\n",
       "    <tr style=\"text-align: right;\">\n",
       "      <th></th>\n",
       "      <th>RECORD_TIME</th>\n",
       "    </tr>\n",
       "  </thead>\n",
       "  <tbody>\n",
       "    <tr>\n",
       "      <th>0</th>\n",
       "      <td>2021-09-07 20:30</td>\n",
       "    </tr>\n",
       "    <tr>\n",
       "      <th>1</th>\n",
       "      <td>2021-09-07 20:00</td>\n",
       "    </tr>\n",
       "  </tbody>\n",
       "</table>\n",
       "</div>"
      ],
      "text/plain": [
       "        RECORD_TIME\n",
       "0  2021-09-07 20:30\n",
       "1  2021-09-07 20:00"
      ]
     },
     "execution_count": 3,
     "metadata": {},
     "output_type": "execute_result"
    }
   ],
   "source": [
    "timestamps"
   ]
  },
  {
   "cell_type": "code",
   "execution_count": 4,
   "id": "alternate-victory",
   "metadata": {
    "execution": {
     "iopub.execute_input": "2021-09-07T18:30:08.279948Z",
     "iopub.status.busy": "2021-09-07T18:30:08.278036Z",
     "iopub.status.idle": "2021-09-07T18:30:08.612609Z",
     "shell.execute_reply": "2021-09-07T18:30:08.613822Z"
    },
    "papermill": {
     "duration": 0.364347,
     "end_time": "2021-09-07T18:30:08.614219",
     "exception": false,
     "start_time": "2021-09-07T18:30:08.249872",
     "status": "completed"
    },
    "tags": []
   },
   "outputs": [],
   "source": [
    "df = pd.read_sql(\"select * from EBAY_TOP_BERLIN where record_time in (select distinct record_time from EBAY_TOP_BERLIN order by record_time desc limit 2)\", sqlite3.connect(\"UsedObjects.db\"))"
   ]
  },
  {
   "cell_type": "code",
   "execution_count": 5,
   "id": "popular-active",
   "metadata": {
    "execution": {
     "iopub.execute_input": "2021-09-07T18:30:08.693446Z",
     "iopub.status.busy": "2021-09-07T18:30:08.680924Z",
     "iopub.status.idle": "2021-09-07T18:30:08.709718Z",
     "shell.execute_reply": "2021-09-07T18:30:08.711068Z"
    },
    "papermill": {
     "duration": 0.071501,
     "end_time": "2021-09-07T18:30:08.711497",
     "exception": false,
     "start_time": "2021-09-07T18:30:08.639996",
     "status": "completed"
    },
    "tags": []
   },
   "outputs": [],
   "source": [
    "df_pivot = df.pivot_table(index=\"PRODUCT\", columns = \"RECORD_TIME\", values = \"LISTING_COUNT\")"
   ]
  },
  {
   "cell_type": "code",
   "execution_count": 6,
   "id": "union-huntington",
   "metadata": {
    "execution": {
     "iopub.execute_input": "2021-09-07T18:30:08.767569Z",
     "iopub.status.busy": "2021-09-07T18:30:08.765325Z",
     "iopub.status.idle": "2021-09-07T18:30:08.771136Z",
     "shell.execute_reply": "2021-09-07T18:30:08.772437Z"
    },
    "papermill": {
     "duration": 0.041256,
     "end_time": "2021-09-07T18:30:08.772899",
     "exception": false,
     "start_time": "2021-09-07T18:30:08.731643",
     "status": "completed"
    },
    "tags": []
   },
   "outputs": [],
   "source": [
    "df_pivot.columns = [\"stamp_1\", \"stamp_2\"]\n",
    "df_pivot_diff = df_pivot.diff(axis=1)"
   ]
  },
  {
   "cell_type": "code",
   "execution_count": 7,
   "id": "fifth-motion",
   "metadata": {
    "execution": {
     "iopub.execute_input": "2021-09-07T18:30:08.831116Z",
     "iopub.status.busy": "2021-09-07T18:30:08.828379Z",
     "iopub.status.idle": "2021-09-07T18:30:10.338770Z",
     "shell.execute_reply": "2021-09-07T18:30:10.340295Z"
    },
    "papermill": {
     "duration": 1.544638,
     "end_time": "2021-09-07T18:30:10.340747",
     "exception": false,
     "start_time": "2021-09-07T18:30:08.796109",
     "status": "completed"
    },
    "tags": []
   },
   "outputs": [
    {
     "data": {
      "text/plain": [
       "<AxesSubplot:ylabel='PRODUCT'>"
      ]
     },
     "execution_count": 7,
     "metadata": {},
     "output_type": "execute_result"
    },
    {
     "data": {
      "image/png": "[encoded data removed]",
      "text/plain": [
       "<Figure size 432x288 with 1 Axes>"
      ]
     },
     "metadata": {
      "needs_background": "light"
     },
     "output_type": "display_data"
    }
   ],
   "source": [
    "df_pivot_diff.sort_values(\"stamp_2\", ascending = False)[\"stamp_2\"].head(10).plot.barh()"
   ]
  },
  {
   "cell_type": "code",
   "execution_count": null,
   "id": "extra-executive",
   "metadata": {
    "papermill": {
     "duration": 0.022077,
     "end_time": "2021-09-07T18:30:10.387469",
     "exception": false,
     "start_time": "2021-09-07T18:30:10.365392",
     "status": "completed"
    },
    "tags": []
   },
   "outputs": [],
   "source": []
  }
 ],
 "metadata": {
  "kernelspec": {
   "display_name": "Python 3",
   "language": "python",
   "name": "python3"
  },
  "language_info": {
   "codemirror_mode": {
    "name": "ipython",
    "version": 3
   },
   "file_extension": ".py",
   "mimetype": "text/x-python",
   "name": "python",
   "nbconvert_exporter": "python",
   "pygments_lexer": "ipython3",
   "version": "3.9.5"
  },
  "papermill": {
   "default_parameters": {},
   "duration": 6.461795,
   "end_time": "2021-09-07T18:30:11.029831",
   "environment_variables": {},
   "exception": null,
   "input_path": "eBay_Overview.ipynb",
   "output_path": "eBay_Overview.ipynb",
   "parameters": {},
   "start_time": "2021-09-07T18:30:04.568036",
   "version": "2.3.3"
  }
 },
 "nbformat": 4,
 "nbformat_minor": 5
}