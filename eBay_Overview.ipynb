{
 "cells": [
  {
   "cell_type": "code",
   "execution_count": 1,
   "id": "reverse-picking",
   "metadata": {
    "execution": {
     "iopub.execute_input": "2021-10-29T05:30:07.126513Z",
     "iopub.status.busy": "2021-10-29T05:30:07.124471Z",
     "iopub.status.idle": "2021-10-29T05:30:07.932450Z",
     "shell.execute_reply": "2021-10-29T05:30:07.933910Z"
    },
    "papermill": {
     "duration": 0.862383,
     "end_time": "2021-10-29T05:30:07.934569",
     "exception": false,
     "start_time": "2021-10-29T05:30:07.072186",
     "status": "completed"
    },
    "tags": []
   },
   "outputs": [],
   "source": [
    "import pandas as pd\n",
    "import sqlite3"
   ]
  },
  {
   "cell_type": "code",
   "execution_count": 2,
   "id": "innovative-syndrome",
   "metadata": {
    "execution": {
     "iopub.execute_input": "2021-10-29T05:30:07.984917Z",
     "iopub.status.busy": "2021-10-29T05:30:07.982993Z",
     "iopub.status.idle": "2021-10-29T05:30:08.638300Z",
     "shell.execute_reply": "2021-10-29T05:30:08.639499Z"
    },
    "papermill": {
     "duration": 0.685019,
     "end_time": "2021-10-29T05:30:08.639903",
     "exception": false,
     "start_time": "2021-10-29T05:30:07.954884",
     "status": "completed"
    },
    "tags": []
   },
   "outputs": [],
   "source": [
    "timestamps = pd.read_sql(\"select distinct record_time from EBAY_TOP_BERLIN order by record_time desc limit 2\", sqlite3.connect(\"UsedObjects.db\"))"
   ]
  },
  {
   "cell_type": "code",
   "execution_count": 3,
   "id": "periodic-identification",
   "metadata": {
    "execution": {
     "iopub.execute_input": "2021-10-29T05:30:08.715892Z",
     "iopub.status.busy": "2021-10-29T05:30:08.713874Z",
     "iopub.status.idle": "2021-10-29T05:30:08.733821Z",
     "shell.execute_reply": "2021-10-29T05:30:08.735144Z"
    },
    "papermill": {
     "duration": 0.069925,
     "end_time": "2021-10-29T05:30:08.735565",
     "exception": false,
     "start_time": "2021-10-29T05:30:08.665640",
     "status": "completed"
    },
    "tags": []
   },
   "outputs": [
    {
     "data": {
      "text/html": [
       "<div>\n",
       "<style scoped>\n",
       "    .dataframe tbody tr th:only-of-type {\n",
       "        vertical-align: middle;\n",
       "    }\n",
       "\n",
       "    .dataframe tbody tr th {\n",
       "        vertical-align: top;\n",
       "    }\n",
       "\n",
       "    .dataframe thead th {\n",
       "        text-align: right;\n",
       "    }\n",
       "</style>\n",
       "<table border=\"1\" class=\"dataframe\">\n",
       "  <thead>\n",
       "    <tr style=\"text-align: right;\">\n",
       "      <th></th>\n",
       "      <th>RECORD_TIME</th>\n",
       "    </tr>\n",
       "  </thead>\n",
       "  <tbody>\n",
       "    <tr>\n",
       "      <th>0</th>\n",
       "      <td>2021-10-29 07:30</td>\n",
       "    </tr>\n",
       "    <tr>\n",
       "      <th>1</th>\n",
       "      <td>2021-10-29 07:00</td>\n",
       "    </tr>\n",
       "  </tbody>\n",
       "</table>\n",
       "</div>"
      ],
      "text/plain": [
       "        RECORD_TIME\n",
       "0  2021-10-29 07:30\n",
       "1  2021-10-29 07:00"
      ]
     },
     "execution_count": 3,
     "metadata": {},
     "output_type": "execute_result"
    }
   ],
   "source": [
    "timestamps"
   ]
  },
  {
   "cell_type": "code",
   "execution_count": 4,
   "id": "alternate-victory",
   "metadata": {
    "execution": {
     "iopub.execute_input": "2021-10-29T05:30:08.788246Z",
     "iopub.status.busy": "2021-10-29T05:30:08.785961Z",
     "iopub.status.idle": "2021-10-29T05:30:09.759422Z",
     "shell.execute_reply": "2021-10-29T05:30:09.760833Z"
    },
    "papermill": {
     "duration": 1.004255,
     "end_time": "2021-10-29T05:30:09.761275",
     "exception": false,
     "start_time": "2021-10-29T05:30:08.757020",
     "status": "completed"
    },
    "tags": []
   },
   "outputs": [],
   "source": [
    "df = pd.read_sql(\"select * from EBAY_TOP_BERLIN where record_time in (select distinct record_time from EBAY_TOP_BERLIN order by record_time desc limit 2)\", sqlite3.connect(\"UsedObjects.db\"))"
   ]
  },
  {
   "cell_type": "code",
   "execution_count": 5,
   "id": "popular-active",
   "metadata": {
    "execution": {
     "iopub.execute_input": "2021-10-29T05:30:09.826727Z",
     "iopub.status.busy": "2021-10-29T05:30:09.819397Z",
     "iopub.status.idle": "2021-10-29T05:30:09.847163Z",
     "shell.execute_reply": "2021-10-29T05:30:09.848376Z"
    },
    "papermill": {
     "duration": 0.067216,
     "end_time": "2021-10-29T05:30:09.848982",
     "exception": false,
     "start_time": "2021-10-29T05:30:09.781766",
     "status": "completed"
    },
    "tags": []
   },
   "outputs": [],
   "source": [
    "df_pivot = df.pivot_table(index=\"PRODUCT\", columns = \"RECORD_TIME\", values = \"LISTING_COUNT\")"
   ]
  },
  {
   "cell_type": "code",
   "execution_count": 6,
   "id": "union-huntington",
   "metadata": {
    "execution": {
     "iopub.execute_input": "2021-10-29T05:30:09.908877Z",
     "iopub.status.busy": "2021-10-29T05:30:09.906403Z",
     "iopub.status.idle": "2021-10-29T05:30:09.912237Z",
     "shell.execute_reply": "2021-10-29T05:30:09.913582Z"
    },
    "papermill": {
     "duration": 0.042498,
     "end_time": "2021-10-29T05:30:09.914005",
     "exception": false,
     "start_time": "2021-10-29T05:30:09.871507",
     "status": "completed"
    },
    "tags": []
   },
   "outputs": [],
   "source": [
    "df_pivot.columns = [\"stamp_1\", \"stamp_2\"]\n",
    "df_pivot_diff = df_pivot.diff(axis=1)"
   ]
  },
  {
   "cell_type": "code",
   "execution_count": 7,
   "id": "fifth-motion",
   "metadata": {
    "execution": {
     "iopub.execute_input": "2021-10-29T05:30:09.968014Z",
     "iopub.status.busy": "2021-10-29T05:30:09.965821Z",
     "iopub.status.idle": "2021-10-29T05:30:11.441420Z",
     "shell.execute_reply": "2021-10-29T05:30:11.442721Z"
    },
    "papermill": {
     "duration": 1.508294,
     "end_time": "2021-10-29T05:30:11.443139",
     "exception": false,
     "start_time": "2021-10-29T05:30:09.934845",
     "status": "completed"
    },
    "tags": []
   },
   "outputs": [
    {
     "data": {
      "text/plain": [
       "<AxesSubplot:ylabel='PRODUCT'>"
      ]
     },
     "execution_count": 7,
     "metadata": {},
     "output_type": "execute_result"
    },
    {
     "data": {
      "image/png": "[encoded data removed]",
      "text/plain": [
       "<Figure size 432x288 with 1 Axes>"
      ]
     },
     "metadata": {
      "needs_background": "light"
     },
     "output_type": "display_data"
    }
   ],
   "source": [
    "df_pivot_diff.sort_values(\"stamp_2\", ascending = False)[\"stamp_2\"].head(10).plot.barh()"
   ]
  },
  {
   "cell_type": "code",
   "execution_count": null,
   "id": "extra-executive",
   "metadata": {
    "papermill": {
     "duration": 0.057531,
     "end_time": "2021-10-29T05:30:11.524133",
     "exception": false,
     "start_time": "2021-10-29T05:30:11.466602",
     "status": "completed"
    },
    "tags": []
   },
   "outputs": [],
   "source": []
  }
 ],
 "metadata": {
  "kernelspec": {
   "display_name": "Python 3",
   "language": "python",
   "name": "python3"
  },
  "language_info": {
   "codemirror_mode": {
    "name": "ipython",
    "version": 3
   },
   "file_extension": ".py",
   "mimetype": "text/x-python",
   "name": "python",
   "nbconvert_exporter": "python",
   "pygments_lexer": "ipython3",
   "version": "3.9.5"
  },
  "papermill": {
   "default_parameters": {},
   "duration": 7.508124,
   "end_time": "2021-10-29T05:30:12.171550",
   "environment_variables": {},
   "exception": null,
   "input_path": "eBay_Overview.ipynb",
   "output_path": "eBay_Overview.ipynb",
   "parameters": {},
   "start_time": "2021-10-29T05:30:04.663426",
   "version": "2.3.3"
  }
 },
 "nbformat": 4,
 "nbformat_minor": 5
}