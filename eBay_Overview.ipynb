{
 "cells": [
  {
   "cell_type": "code",
   "execution_count": 1,
   "id": "reverse-picking",
   "metadata": {
    "execution": {
     "iopub.execute_input": "2021-09-13T06:00:06.922737Z",
     "iopub.status.busy": "2021-09-13T06:00:06.920762Z",
     "iopub.status.idle": "2021-09-13T06:00:07.725499Z",
     "shell.execute_reply": "2021-09-13T06:00:07.723397Z"
    },
    "papermill": {
     "duration": 0.856175,
     "end_time": "2021-09-13T06:00:07.725933",
     "exception": false,
     "start_time": "2021-09-13T06:00:06.869758",
     "status": "completed"
    },
    "tags": []
   },
   "outputs": [],
   "source": [
    "import pandas as pd\n",
    "import sqlite3"
   ]
  },
  {
   "cell_type": "code",
   "execution_count": 2,
   "id": "innovative-syndrome",
   "metadata": {
    "execution": {
     "iopub.execute_input": "2021-09-13T06:00:07.778180Z",
     "iopub.status.busy": "2021-09-13T06:00:07.775861Z",
     "iopub.status.idle": "2021-09-13T06:00:08.053427Z",
     "shell.execute_reply": "2021-09-13T06:00:08.054632Z"
    },
    "papermill": {
     "duration": 0.308333,
     "end_time": "2021-09-13T06:00:08.055095",
     "exception": false,
     "start_time": "2021-09-13T06:00:07.746762",
     "status": "completed"
    },
    "tags": []
   },
   "outputs": [],
   "source": [
    "timestamps = pd.read_sql(\"select distinct record_time from EBAY_TOP_BERLIN order by record_time desc limit 2\", sqlite3.connect(\"UsedObjects.db\"))"
   ]
  },
  {
   "cell_type": "code",
   "execution_count": 3,
   "id": "periodic-identification",
   "metadata": {
    "execution": {
     "iopub.execute_input": "2021-09-13T06:00:08.120027Z",
     "iopub.status.busy": "2021-09-13T06:00:08.117677Z",
     "iopub.status.idle": "2021-09-13T06:00:08.137427Z",
     "shell.execute_reply": "2021-09-13T06:00:08.138645Z"
    },
    "papermill": {
     "duration": 0.064145,
     "end_time": "2021-09-13T06:00:08.139107",
     "exception": false,
     "start_time": "2021-09-13T06:00:08.074962",
     "status": "completed"
    },
    "tags": []
   },
   "outputs": [
    {
     "data": {
      "text/html": [
       "<div>\n",
       "<style scoped>\n",
       "    .dataframe tbody tr th:only-of-type {\n",
       "        vertical-align: middle;\n",
       "    }\n",
       "\n",
       "    .dataframe tbody tr th {\n",
       "        vertical-align: top;\n",
       "    }\n",
       "\n",
       "    .dataframe thead th {\n",
       "        text-align: right;\n",
       "    }\n",
       "</style>\n",
       "<table border=\"1\" class=\"dataframe\">\n",
       "  <thead>\n",
       "    <tr style=\"text-align: right;\">\n",
       "      <th></th>\n",
       "      <th>RECORD_TIME</th>\n",
       "    </tr>\n",
       "  </thead>\n",
       "  <tbody>\n",
       "    <tr>\n",
       "      <th>0</th>\n",
       "      <td>2021-09-13 08:00</td>\n",
       "    </tr>\n",
       "    <tr>\n",
       "      <th>1</th>\n",
       "      <td>2021-09-13 07:30</td>\n",
       "    </tr>\n",
       "  </tbody>\n",
       "</table>\n",
       "</div>"
      ],
      "text/plain": [
       "        RECORD_TIME\n",
       "0  2021-09-13 08:00\n",
       "1  2021-09-13 07:30"
      ]
     },
     "execution_count": 3,
     "metadata": {},
     "output_type": "execute_result"
    }
   ],
   "source": [
    "timestamps"
   ]
  },
  {
   "cell_type": "code",
   "execution_count": 4,
   "id": "alternate-victory",
   "metadata": {
    "execution": {
     "iopub.execute_input": "2021-09-13T06:00:08.191053Z",
     "iopub.status.busy": "2021-09-13T06:00:08.189140Z",
     "iopub.status.idle": "2021-09-13T06:00:08.609198Z",
     "shell.execute_reply": "2021-09-13T06:00:08.610337Z"
    },
    "papermill": {
     "duration": 0.450214,
     "end_time": "2021-09-13T06:00:08.610742",
     "exception": false,
     "start_time": "2021-09-13T06:00:08.160528",
     "status": "completed"
    },
    "tags": []
   },
   "outputs": [],
   "source": [
    "df = pd.read_sql(\"select * from EBAY_TOP_BERLIN where record_time in (select distinct record_time from EBAY_TOP_BERLIN order by record_time desc limit 2)\", sqlite3.connect(\"UsedObjects.db\"))"
   ]
  },
  {
   "cell_type": "code",
   "execution_count": 5,
   "id": "popular-active",
   "metadata": {
    "execution": {
     "iopub.execute_input": "2021-09-13T06:00:08.693643Z",
     "iopub.status.busy": "2021-09-13T06:00:08.682361Z",
     "iopub.status.idle": "2021-09-13T06:00:08.710633Z",
     "shell.execute_reply": "2021-09-13T06:00:08.712129Z"
    },
    "papermill": {
     "duration": 0.073299,
     "end_time": "2021-09-13T06:00:08.712568",
     "exception": false,
     "start_time": "2021-09-13T06:00:08.639269",
     "status": "completed"
    },
    "tags": []
   },
   "outputs": [],
   "source": [
    "df_pivot = df.pivot_table(index=\"PRODUCT\", columns = \"RECORD_TIME\", values = \"LISTING_COUNT\")"
   ]
  },
  {
   "cell_type": "code",
   "execution_count": 6,
   "id": "union-huntington",
   "metadata": {
    "execution": {
     "iopub.execute_input": "2021-09-13T06:00:08.770975Z",
     "iopub.status.busy": "2021-09-13T06:00:08.768498Z",
     "iopub.status.idle": "2021-09-13T06:00:08.774348Z",
     "shell.execute_reply": "2021-09-13T06:00:08.775699Z"
    },
    "papermill": {
     "duration": 0.042768,
     "end_time": "2021-09-13T06:00:08.776113",
     "exception": false,
     "start_time": "2021-09-13T06:00:08.733345",
     "status": "completed"
    },
    "tags": []
   },
   "outputs": [],
   "source": [
    "df_pivot.columns = [\"stamp_1\", \"stamp_2\"]\n",
    "df_pivot_diff = df_pivot.diff(axis=1)"
   ]
  },
  {
   "cell_type": "code",
   "execution_count": 7,
   "id": "fifth-motion",
   "metadata": {
    "execution": {
     "iopub.execute_input": "2021-09-13T06:00:08.830602Z",
     "iopub.status.busy": "2021-09-13T06:00:08.828401Z",
     "iopub.status.idle": "2021-09-13T06:00:10.300135Z",
     "shell.execute_reply": "2021-09-13T06:00:10.301427Z"
    },
    "papermill": {
     "duration": 1.504623,
     "end_time": "2021-09-13T06:00:10.301840",
     "exception": false,
     "start_time": "2021-09-13T06:00:08.797217",
     "status": "completed"
    },
    "tags": []
   },
   "outputs": [
    {
     "data": {
      "text/plain": [
       "<AxesSubplot:ylabel='PRODUCT'>"
      ]
     },
     "execution_count": 7,
     "metadata": {},
     "output_type": "execute_result"
    },
    {
     "data": {
      "image/png": "[encoded data removed]",
      "text/plain": [
       "<Figure size 432x288 with 1 Axes>"
      ]
     },
     "metadata": {
      "needs_background": "light"
     },
     "output_type": "display_data"
    }
   ],
   "source": [
    "df_pivot_diff.sort_values(\"stamp_2\", ascending = False)[\"stamp_2\"].head(10).plot.barh()"
   ]
  },
  {
   "cell_type": "code",
   "execution_count": null,
   "id": "extra-executive",
   "metadata": {
    "papermill": {
     "duration": 0.022381,
     "end_time": "2021-09-13T06:00:10.348981",
     "exception": false,
     "start_time": "2021-09-13T06:00:10.326600",
     "status": "completed"
    },
    "tags": []
   },
   "outputs": [],
   "source": []
  }
 ],
 "metadata": {
  "kernelspec": {
   "display_name": "Python 3",
   "language": "python",
   "name": "python3"
  },
  "language_info": {
   "codemirror_mode": {
    "name": "ipython",
    "version": 3
   },
   "file_extension": ".py",
   "mimetype": "text/x-python",
   "name": "python",
   "nbconvert_exporter": "python",
   "pygments_lexer": "ipython3",
   "version": "3.9.5"
  },
  "papermill": {
   "default_parameters": {},
   "duration": 6.528332,
   "end_time": "2021-09-13T06:00:10.992232",
   "environment_variables": {},
   "exception": null,
   "input_path": "eBay_Overview.ipynb",
   "output_path": "eBay_Overview.ipynb",
   "parameters": {},
   "start_time": "2021-09-13T06:00:04.463900",
   "version": "2.3.3"
  }
 },
 "nbformat": 4,
 "nbformat_minor": 5
}