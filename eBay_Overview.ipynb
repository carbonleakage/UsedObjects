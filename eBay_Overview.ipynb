{
 "cells": [
  {
   "cell_type": "code",
   "execution_count": 1,
   "id": "reverse-picking",
   "metadata": {
    "execution": {
     "iopub.execute_input": "2021-10-03T10:30:07.633783Z",
     "iopub.status.busy": "2021-10-03T10:30:07.631815Z",
     "iopub.status.idle": "2021-10-03T10:30:08.439301Z",
     "shell.execute_reply": "2021-10-03T10:30:08.440592Z"
    },
    "papermill": {
     "duration": 0.858066,
     "end_time": "2021-10-03T10:30:08.441209",
     "exception": false,
     "start_time": "2021-10-03T10:30:07.583143",
     "status": "completed"
    },
    "tags": []
   },
   "outputs": [],
   "source": [
    "import pandas as pd\n",
    "import sqlite3"
   ]
  },
  {
   "cell_type": "code",
   "execution_count": 2,
   "id": "innovative-syndrome",
   "metadata": {
    "execution": {
     "iopub.execute_input": "2021-10-03T10:30:08.494746Z",
     "iopub.status.busy": "2021-10-03T10:30:08.492458Z",
     "iopub.status.idle": "2021-10-03T10:30:08.927202Z",
     "shell.execute_reply": "2021-10-03T10:30:08.928542Z"
    },
    "papermill": {
     "duration": 0.464686,
     "end_time": "2021-10-03T10:30:08.928947",
     "exception": false,
     "start_time": "2021-10-03T10:30:08.464261",
     "status": "completed"
    },
    "tags": []
   },
   "outputs": [],
   "source": [
    "timestamps = pd.read_sql(\"select distinct record_time from EBAY_TOP_BERLIN order by record_time desc limit 2\", sqlite3.connect(\"UsedObjects.db\"))"
   ]
  },
  {
   "cell_type": "code",
   "execution_count": 3,
   "id": "periodic-identification",
   "metadata": {
    "execution": {
     "iopub.execute_input": "2021-10-03T10:30:08.993282Z",
     "iopub.status.busy": "2021-10-03T10:30:08.991263Z",
     "iopub.status.idle": "2021-10-03T10:30:09.011297Z",
     "shell.execute_reply": "2021-10-03T10:30:09.012714Z"
    },
    "papermill": {
     "duration": 0.064111,
     "end_time": "2021-10-03T10:30:09.013152",
     "exception": false,
     "start_time": "2021-10-03T10:30:08.949041",
     "status": "completed"
    },
    "tags": []
   },
   "outputs": [
    {
     "data": {
      "text/html": [
       "<div>\n",
       "<style scoped>\n",
       "    .dataframe tbody tr th:only-of-type {\n",
       "        vertical-align: middle;\n",
       "    }\n",
       "\n",
       "    .dataframe tbody tr th {\n",
       "        vertical-align: top;\n",
       "    }\n",
       "\n",
       "    .dataframe thead th {\n",
       "        text-align: right;\n",
       "    }\n",
       "</style>\n",
       "<table border=\"1\" class=\"dataframe\">\n",
       "  <thead>\n",
       "    <tr style=\"text-align: right;\">\n",
       "      <th></th>\n",
       "      <th>RECORD_TIME</th>\n",
       "    </tr>\n",
       "  </thead>\n",
       "  <tbody>\n",
       "    <tr>\n",
       "      <th>0</th>\n",
       "      <td>2021-10-03 12:30</td>\n",
       "    </tr>\n",
       "    <tr>\n",
       "      <th>1</th>\n",
       "      <td>2021-10-03 12:00</td>\n",
       "    </tr>\n",
       "  </tbody>\n",
       "</table>\n",
       "</div>"
      ],
      "text/plain": [
       "        RECORD_TIME\n",
       "0  2021-10-03 12:30\n",
       "1  2021-10-03 12:00"
      ]
     },
     "execution_count": 3,
     "metadata": {},
     "output_type": "execute_result"
    }
   ],
   "source": [
    "timestamps"
   ]
  },
  {
   "cell_type": "code",
   "execution_count": 4,
   "id": "alternate-victory",
   "metadata": {
    "execution": {
     "iopub.execute_input": "2021-10-03T10:30:09.064730Z",
     "iopub.status.busy": "2021-10-03T10:30:09.062333Z",
     "iopub.status.idle": "2021-10-03T10:30:09.714609Z",
     "shell.execute_reply": "2021-10-03T10:30:09.713305Z"
    },
    "papermill": {
     "duration": 0.681249,
     "end_time": "2021-10-03T10:30:09.715013",
     "exception": false,
     "start_time": "2021-10-03T10:30:09.033764",
     "status": "completed"
    },
    "tags": []
   },
   "outputs": [],
   "source": [
    "df = pd.read_sql(\"select * from EBAY_TOP_BERLIN where record_time in (select distinct record_time from EBAY_TOP_BERLIN order by record_time desc limit 2)\", sqlite3.connect(\"UsedObjects.db\"))"
   ]
  },
  {
   "cell_type": "code",
   "execution_count": 5,
   "id": "popular-active",
   "metadata": {
    "execution": {
     "iopub.execute_input": "2021-10-03T10:30:09.795436Z",
     "iopub.status.busy": "2021-10-03T10:30:09.782721Z",
     "iopub.status.idle": "2021-10-03T10:30:09.811195Z",
     "shell.execute_reply": "2021-10-03T10:30:09.812507Z"
    },
    "papermill": {
     "duration": 0.072482,
     "end_time": "2021-10-03T10:30:09.812914",
     "exception": false,
     "start_time": "2021-10-03T10:30:09.740432",
     "status": "completed"
    },
    "tags": []
   },
   "outputs": [],
   "source": [
    "df_pivot = df.pivot_table(index=\"PRODUCT\", columns = \"RECORD_TIME\", values = \"LISTING_COUNT\")"
   ]
  },
  {
   "cell_type": "code",
   "execution_count": 6,
   "id": "union-huntington",
   "metadata": {
    "execution": {
     "iopub.execute_input": "2021-10-03T10:30:09.869582Z",
     "iopub.status.busy": "2021-10-03T10:30:09.867515Z",
     "iopub.status.idle": "2021-10-03T10:30:09.872560Z",
     "shell.execute_reply": "2021-10-03T10:30:09.873849Z"
    },
    "papermill": {
     "duration": 0.040176,
     "end_time": "2021-10-03T10:30:09.874263",
     "exception": false,
     "start_time": "2021-10-03T10:30:09.834087",
     "status": "completed"
    },
    "tags": []
   },
   "outputs": [],
   "source": [
    "df_pivot.columns = [\"stamp_1\", \"stamp_2\"]\n",
    "df_pivot_diff = df_pivot.diff(axis=1)"
   ]
  },
  {
   "cell_type": "code",
   "execution_count": 7,
   "id": "fifth-motion",
   "metadata": {
    "execution": {
     "iopub.execute_input": "2021-10-03T10:30:09.929013Z",
     "iopub.status.busy": "2021-10-03T10:30:09.926549Z",
     "iopub.status.idle": "2021-10-03T10:30:11.404381Z",
     "shell.execute_reply": "2021-10-03T10:30:11.405705Z"
    },
    "papermill": {
     "duration": 1.510448,
     "end_time": "2021-10-03T10:30:11.406124",
     "exception": false,
     "start_time": "2021-10-03T10:30:09.895676",
     "status": "completed"
    },
    "tags": []
   },
   "outputs": [
    {
     "data": {
      "text/plain": [
       "<AxesSubplot:ylabel='PRODUCT'>"
      ]
     },
     "execution_count": 7,
     "metadata": {},
     "output_type": "execute_result"
    },
    {
     "data": {
      "image/png": "[encoded data removed]",
      "text/plain": [
       "<Figure size 432x288 with 1 Axes>"
      ]
     },
     "metadata": {
      "needs_background": "light"
     },
     "output_type": "display_data"
    }
   ],
   "source": [
    "df_pivot_diff.sort_values(\"stamp_2\", ascending = False)[\"stamp_2\"].head(10).plot.barh()"
   ]
  },
  {
   "cell_type": "code",
   "execution_count": null,
   "id": "extra-executive",
   "metadata": {
    "papermill": {
     "duration": 0.022245,
     "end_time": "2021-10-03T10:30:11.453674",
     "exception": false,
     "start_time": "2021-10-03T10:30:11.431429",
     "status": "completed"
    },
    "tags": []
   },
   "outputs": [],
   "source": []
  }
 ],
 "metadata": {
  "kernelspec": {
   "display_name": "Python 3",
   "language": "python",
   "name": "python3"
  },
  "language_info": {
   "codemirror_mode": {
    "name": "ipython",
    "version": 3
   },
   "file_extension": ".py",
   "mimetype": "text/x-python",
   "name": "python",
   "nbconvert_exporter": "python",
   "pygments_lexer": "ipython3",
   "version": "3.9.5"
  },
  "papermill": {
   "default_parameters": {},
   "duration": 7.819807,
   "end_time": "2021-10-03T10:30:13.003939",
   "environment_variables": {},
   "exception": null,
   "input_path": "eBay_Overview.ipynb",
   "output_path": "eBay_Overview.ipynb",
   "parameters": {},
   "start_time": "2021-10-03T10:30:05.184132",
   "version": "2.3.3"
  }
 },
 "nbformat": 4,
 "nbformat_minor": 5
}