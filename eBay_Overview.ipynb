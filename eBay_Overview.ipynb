{
 "cells": [
  {
   "cell_type": "code",
   "execution_count": 1,
   "id": "reverse-picking",
   "metadata": {
    "execution": {
     "iopub.execute_input": "2021-11-09T12:30:07.531224Z",
     "iopub.status.busy": "2021-11-09T12:30:07.529294Z",
     "iopub.status.idle": "2021-11-09T12:30:08.488808Z",
     "shell.execute_reply": "2021-11-09T12:30:08.490421Z"
    },
    "papermill": {
     "duration": 1.010293,
     "end_time": "2021-11-09T12:30:08.491143",
     "exception": false,
     "start_time": "2021-11-09T12:30:07.480850",
     "status": "completed"
    },
    "tags": []
   },
   "outputs": [],
   "source": [
    "import pandas as pd\n",
    "import sqlite3"
   ]
  },
  {
   "cell_type": "code",
   "execution_count": 2,
   "id": "innovative-syndrome",
   "metadata": {
    "execution": {
     "iopub.execute_input": "2021-11-09T12:30:08.550471Z",
     "iopub.status.busy": "2021-11-09T12:30:08.548174Z",
     "iopub.status.idle": "2021-11-09T12:30:09.338816Z",
     "shell.execute_reply": "2021-11-09T12:30:09.340110Z"
    },
    "papermill": {
     "duration": 0.823847,
     "end_time": "2021-11-09T12:30:09.340572",
     "exception": false,
     "start_time": "2021-11-09T12:30:08.516725",
     "status": "completed"
    },
    "tags": []
   },
   "outputs": [],
   "source": [
    "timestamps = pd.read_sql(\"select distinct record_time from EBAY_TOP_BERLIN order by record_time desc limit 2\", sqlite3.connect(\"UsedObjects.db\"))"
   ]
  },
  {
   "cell_type": "code",
   "execution_count": 3,
   "id": "periodic-identification",
   "metadata": {
    "execution": {
     "iopub.execute_input": "2021-11-09T12:30:09.410617Z",
     "iopub.status.busy": "2021-11-09T12:30:09.407974Z",
     "iopub.status.idle": "2021-11-09T12:30:09.431397Z",
     "shell.execute_reply": "2021-11-09T12:30:09.432995Z"
    },
    "papermill": {
     "duration": 0.07337,
     "end_time": "2021-11-09T12:30:09.433469",
     "exception": false,
     "start_time": "2021-11-09T12:30:09.360099",
     "status": "completed"
    },
    "tags": []
   },
   "outputs": [
    {
     "data": {
      "text/html": [
       "<div>\n",
       "<style scoped>\n",
       "    .dataframe tbody tr th:only-of-type {\n",
       "        vertical-align: middle;\n",
       "    }\n",
       "\n",
       "    .dataframe tbody tr th {\n",
       "        vertical-align: top;\n",
       "    }\n",
       "\n",
       "    .dataframe thead th {\n",
       "        text-align: right;\n",
       "    }\n",
       "</style>\n",
       "<table border=\"1\" class=\"dataframe\">\n",
       "  <thead>\n",
       "    <tr style=\"text-align: right;\">\n",
       "      <th></th>\n",
       "      <th>RECORD_TIME</th>\n",
       "    </tr>\n",
       "  </thead>\n",
       "  <tbody>\n",
       "    <tr>\n",
       "      <th>0</th>\n",
       "      <td>2021-11-09 13:30</td>\n",
       "    </tr>\n",
       "    <tr>\n",
       "      <th>1</th>\n",
       "      <td>2021-11-09 13:00</td>\n",
       "    </tr>\n",
       "  </tbody>\n",
       "</table>\n",
       "</div>"
      ],
      "text/plain": [
       "        RECORD_TIME\n",
       "0  2021-11-09 13:30\n",
       "1  2021-11-09 13:00"
      ]
     },
     "execution_count": 3,
     "metadata": {},
     "output_type": "execute_result"
    }
   ],
   "source": [
    "timestamps"
   ]
  },
  {
   "cell_type": "code",
   "execution_count": 4,
   "id": "alternate-victory",
   "metadata": {
    "execution": {
     "iopub.execute_input": "2021-11-09T12:30:09.491713Z",
     "iopub.status.busy": "2021-11-09T12:30:09.489501Z",
     "iopub.status.idle": "2021-11-09T12:30:10.616531Z",
     "shell.execute_reply": "2021-11-09T12:30:10.618799Z"
    },
    "papermill": {
     "duration": 1.164452,
     "end_time": "2021-11-09T12:30:10.619300",
     "exception": false,
     "start_time": "2021-11-09T12:30:09.454848",
     "status": "completed"
    },
    "tags": []
   },
   "outputs": [],
   "source": [
    "df = pd.read_sql(\"select * from EBAY_TOP_BERLIN where record_time in (select distinct record_time from EBAY_TOP_BERLIN order by record_time desc limit 2)\", sqlite3.connect(\"UsedObjects.db\"))"
   ]
  },
  {
   "cell_type": "code",
   "execution_count": 5,
   "id": "popular-active",
   "metadata": {
    "execution": {
     "iopub.execute_input": "2021-11-09T12:30:10.699509Z",
     "iopub.status.busy": "2021-11-09T12:30:10.685196Z",
     "iopub.status.idle": "2021-11-09T12:30:10.717224Z",
     "shell.execute_reply": "2021-11-09T12:30:10.718561Z"
    },
    "papermill": {
     "duration": 0.077993,
     "end_time": "2021-11-09T12:30:10.719027",
     "exception": false,
     "start_time": "2021-11-09T12:30:10.641034",
     "status": "completed"
    },
    "tags": []
   },
   "outputs": [],
   "source": [
    "df_pivot = df.pivot_table(index=\"PRODUCT\", columns = \"RECORD_TIME\", values = \"LISTING_COUNT\")"
   ]
  },
  {
   "cell_type": "code",
   "execution_count": 6,
   "id": "union-huntington",
   "metadata": {
    "execution": {
     "iopub.execute_input": "2021-11-09T12:30:10.776747Z",
     "iopub.status.busy": "2021-11-09T12:30:10.774868Z",
     "iopub.status.idle": "2021-11-09T12:30:10.783888Z",
     "shell.execute_reply": "2021-11-09T12:30:10.785452Z"
    },
    "papermill": {
     "duration": 0.046921,
     "end_time": "2021-11-09T12:30:10.785923",
     "exception": false,
     "start_time": "2021-11-09T12:30:10.739002",
     "status": "completed"
    },
    "tags": []
   },
   "outputs": [],
   "source": [
    "df_pivot.columns = [\"stamp_1\", \"stamp_2\"]\n",
    "df_pivot_diff = df_pivot.diff(axis=1)"
   ]
  },
  {
   "cell_type": "code",
   "execution_count": 7,
   "id": "fifth-motion",
   "metadata": {
    "execution": {
     "iopub.execute_input": "2021-11-09T12:30:10.855615Z",
     "iopub.status.busy": "2021-11-09T12:30:10.851672Z",
     "iopub.status.idle": "2021-11-09T12:30:12.558485Z",
     "shell.execute_reply": "2021-11-09T12:30:12.561615Z"
    },
    "papermill": {
     "duration": 1.754723,
     "end_time": "2021-11-09T12:30:12.562423",
     "exception": false,
     "start_time": "2021-11-09T12:30:10.807700",
     "status": "completed"
    },
    "tags": []
   },
   "outputs": [
    {
     "data": {
      "text/plain": [
       "<AxesSubplot:ylabel='PRODUCT'>"
      ]
     },
     "execution_count": 7,
     "metadata": {},
     "output_type": "execute_result"
    },
    {
     "data": {
      "image/png": "[encoded data removed]",
      "text/plain": [
       "<Figure size 432x288 with 1 Axes>"
      ]
     },
     "metadata": {
      "needs_background": "light"
     },
     "output_type": "display_data"
    }
   ],
   "source": [
    "df_pivot_diff.sort_values(\"stamp_2\", ascending = False)[\"stamp_2\"].head(10).plot.barh()"
   ]
  },
  {
   "cell_type": "code",
   "execution_count": null,
   "id": "extra-executive",
   "metadata": {
    "papermill": {
     "duration": 0.034547,
     "end_time": "2021-11-09T12:30:12.633734",
     "exception": false,
     "start_time": "2021-11-09T12:30:12.599187",
     "status": "completed"
    },
    "tags": []
   },
   "outputs": [],
   "source": []
  }
 ],
 "metadata": {
  "kernelspec": {
   "display_name": "Python 3",
   "language": "python",
   "name": "python3"
  },
  "language_info": {
   "codemirror_mode": {
    "name": "ipython",
    "version": 3
   },
   "file_extension": ".py",
   "mimetype": "text/x-python",
   "name": "python",
   "nbconvert_exporter": "python",
   "pygments_lexer": "ipython3",
   "version": "3.9.5"
  },
  "papermill": {
   "default_parameters": {},
   "duration": 8.740628,
   "end_time": "2021-11-09T12:30:13.505462",
   "environment_variables": {},
   "exception": null,
   "input_path": "eBay_Overview.ipynb",
   "output_path": "eBay_Overview.ipynb",
   "parameters": {},
   "start_time": "2021-11-09T12:30:04.764834",
   "version": "2.3.3"
  }
 },
 "nbformat": 4,
 "nbformat_minor": 5
}