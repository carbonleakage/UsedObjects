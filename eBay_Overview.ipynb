{
 "cells": [
  {
   "cell_type": "code",
   "execution_count": 1,
   "id": "reverse-picking",
   "metadata": {
    "execution": {
     "iopub.execute_input": "2021-10-03T07:00:07.155220Z",
     "iopub.status.busy": "2021-10-03T07:00:07.153242Z",
     "iopub.status.idle": "2021-10-03T07:00:07.957797Z",
     "shell.execute_reply": "2021-10-03T07:00:07.959198Z"
    },
    "papermill": {
     "duration": 0.85744,
     "end_time": "2021-10-03T07:00:07.959861",
     "exception": false,
     "start_time": "2021-10-03T07:00:07.102421",
     "status": "completed"
    },
    "tags": []
   },
   "outputs": [],
   "source": [
    "import pandas as pd\n",
    "import sqlite3"
   ]
  },
  {
   "cell_type": "code",
   "execution_count": 2,
   "id": "innovative-syndrome",
   "metadata": {
    "execution": {
     "iopub.execute_input": "2021-10-03T07:00:08.010825Z",
     "iopub.status.busy": "2021-10-03T07:00:08.008730Z",
     "iopub.status.idle": "2021-10-03T07:00:08.440257Z",
     "shell.execute_reply": "2021-10-03T07:00:08.441470Z"
    },
    "papermill": {
     "duration": 0.461761,
     "end_time": "2021-10-03T07:00:08.441864",
     "exception": false,
     "start_time": "2021-10-03T07:00:07.980103",
     "status": "completed"
    },
    "tags": []
   },
   "outputs": [],
   "source": [
    "timestamps = pd.read_sql(\"select distinct record_time from EBAY_TOP_BERLIN order by record_time desc limit 2\", sqlite3.connect(\"UsedObjects.db\"))"
   ]
  },
  {
   "cell_type": "code",
   "execution_count": 3,
   "id": "periodic-identification",
   "metadata": {
    "execution": {
     "iopub.execute_input": "2021-10-03T07:00:08.511443Z",
     "iopub.status.busy": "2021-10-03T07:00:08.509340Z",
     "iopub.status.idle": "2021-10-03T07:00:08.529819Z",
     "shell.execute_reply": "2021-10-03T07:00:08.531401Z"
    },
    "papermill": {
     "duration": 0.067447,
     "end_time": "2021-10-03T07:00:08.531901",
     "exception": false,
     "start_time": "2021-10-03T07:00:08.464454",
     "status": "completed"
    },
    "tags": []
   },
   "outputs": [
    {
     "data": {
      "text/html": [
       "<div>\n",
       "<style scoped>\n",
       "    .dataframe tbody tr th:only-of-type {\n",
       "        vertical-align: middle;\n",
       "    }\n",
       "\n",
       "    .dataframe tbody tr th {\n",
       "        vertical-align: top;\n",
       "    }\n",
       "\n",
       "    .dataframe thead th {\n",
       "        text-align: right;\n",
       "    }\n",
       "</style>\n",
       "<table border=\"1\" class=\"dataframe\">\n",
       "  <thead>\n",
       "    <tr style=\"text-align: right;\">\n",
       "      <th></th>\n",
       "      <th>RECORD_TIME</th>\n",
       "    </tr>\n",
       "  </thead>\n",
       "  <tbody>\n",
       "    <tr>\n",
       "      <th>0</th>\n",
       "      <td>2021-10-03 09:00</td>\n",
       "    </tr>\n",
       "    <tr>\n",
       "      <th>1</th>\n",
       "      <td>2021-10-03 08:30</td>\n",
       "    </tr>\n",
       "  </tbody>\n",
       "</table>\n",
       "</div>"
      ],
      "text/plain": [
       "        RECORD_TIME\n",
       "0  2021-10-03 09:00\n",
       "1  2021-10-03 08:30"
      ]
     },
     "execution_count": 3,
     "metadata": {},
     "output_type": "execute_result"
    }
   ],
   "source": [
    "timestamps"
   ]
  },
  {
   "cell_type": "code",
   "execution_count": 4,
   "id": "alternate-victory",
   "metadata": {
    "execution": {
     "iopub.execute_input": "2021-10-03T07:00:08.584062Z",
     "iopub.status.busy": "2021-10-03T07:00:08.582132Z",
     "iopub.status.idle": "2021-10-03T07:00:09.219374Z",
     "shell.execute_reply": "2021-10-03T07:00:09.217788Z"
    },
    "papermill": {
     "duration": 0.665916,
     "end_time": "2021-10-03T07:00:09.219740",
     "exception": false,
     "start_time": "2021-10-03T07:00:08.553824",
     "status": "completed"
    },
    "tags": []
   },
   "outputs": [],
   "source": [
    "df = pd.read_sql(\"select * from EBAY_TOP_BERLIN where record_time in (select distinct record_time from EBAY_TOP_BERLIN order by record_time desc limit 2)\", sqlite3.connect(\"UsedObjects.db\"))"
   ]
  },
  {
   "cell_type": "code",
   "execution_count": 5,
   "id": "popular-active",
   "metadata": {
    "execution": {
     "iopub.execute_input": "2021-10-03T07:00:09.292037Z",
     "iopub.status.busy": "2021-10-03T07:00:09.280091Z",
     "iopub.status.idle": "2021-10-03T07:00:09.308487Z",
     "shell.execute_reply": "2021-10-03T07:00:09.309867Z"
    },
    "papermill": {
     "duration": 0.068643,
     "end_time": "2021-10-03T07:00:09.310306",
     "exception": false,
     "start_time": "2021-10-03T07:00:09.241663",
     "status": "completed"
    },
    "tags": []
   },
   "outputs": [],
   "source": [
    "df_pivot = df.pivot_table(index=\"PRODUCT\", columns = \"RECORD_TIME\", values = \"LISTING_COUNT\")"
   ]
  },
  {
   "cell_type": "code",
   "execution_count": 6,
   "id": "union-huntington",
   "metadata": {
    "execution": {
     "iopub.execute_input": "2021-10-03T07:00:09.369951Z",
     "iopub.status.busy": "2021-10-03T07:00:09.367509Z",
     "iopub.status.idle": "2021-10-03T07:00:09.373173Z",
     "shell.execute_reply": "2021-10-03T07:00:09.374453Z"
    },
    "papermill": {
     "duration": 0.042139,
     "end_time": "2021-10-03T07:00:09.374926",
     "exception": false,
     "start_time": "2021-10-03T07:00:09.332787",
     "status": "completed"
    },
    "tags": []
   },
   "outputs": [],
   "source": [
    "df_pivot.columns = [\"stamp_1\", \"stamp_2\"]\n",
    "df_pivot_diff = df_pivot.diff(axis=1)"
   ]
  },
  {
   "cell_type": "code",
   "execution_count": 7,
   "id": "fifth-motion",
   "metadata": {
    "execution": {
     "iopub.execute_input": "2021-10-03T07:00:09.428899Z",
     "iopub.status.busy": "2021-10-03T07:00:09.426554Z",
     "iopub.status.idle": "2021-10-03T07:00:10.910386Z",
     "shell.execute_reply": "2021-10-03T07:00:10.911900Z"
    },
    "papermill": {
     "duration": 1.517127,
     "end_time": "2021-10-03T07:00:10.912364",
     "exception": false,
     "start_time": "2021-10-03T07:00:09.395237",
     "status": "completed"
    },
    "tags": []
   },
   "outputs": [
    {
     "data": {
      "text/plain": [
       "<AxesSubplot:ylabel='PRODUCT'>"
      ]
     },
     "execution_count": 7,
     "metadata": {},
     "output_type": "execute_result"
    },
    {
     "data": {
      "image/png": "[encoded data removed]",
      "text/plain": [
       "<Figure size 432x288 with 1 Axes>"
      ]
     },
     "metadata": {
      "needs_background": "light"
     },
     "output_type": "display_data"
    }
   ],
   "source": [
    "df_pivot_diff.sort_values(\"stamp_2\", ascending = False)[\"stamp_2\"].head(10).plot.barh()"
   ]
  },
  {
   "cell_type": "code",
   "execution_count": null,
   "id": "extra-executive",
   "metadata": {
    "papermill": {
     "duration": 0.02223,
     "end_time": "2021-10-03T07:00:10.957882",
     "exception": false,
     "start_time": "2021-10-03T07:00:10.935652",
     "status": "completed"
    },
    "tags": []
   },
   "outputs": [],
   "source": []
  }
 ],
 "metadata": {
  "kernelspec": {
   "display_name": "Python 3",
   "language": "python",
   "name": "python3"
  },
  "language_info": {
   "codemirror_mode": {
    "name": "ipython",
    "version": 3
   },
   "file_extension": ".py",
   "mimetype": "text/x-python",
   "name": "python",
   "nbconvert_exporter": "python",
   "pygments_lexer": "ipython3",
   "version": "3.9.5"
  },
  "papermill": {
   "default_parameters": {},
   "duration": 7.82235,
   "end_time": "2021-10-03T07:00:12.522442",
   "environment_variables": {},
   "exception": null,
   "input_path": "eBay_Overview.ipynb",
   "output_path": "eBay_Overview.ipynb",
   "parameters": {},
   "start_time": "2021-10-03T07:00:04.700092",
   "version": "2.3.3"
  }
 },
 "nbformat": 4,
 "nbformat_minor": 5
}