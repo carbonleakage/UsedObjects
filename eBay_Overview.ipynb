{
 "cells": [
  {
   "cell_type": "code",
   "execution_count": 1,
   "id": "reverse-picking",
   "metadata": {
    "execution": {
     "iopub.execute_input": "2021-09-22T10:30:06.993971Z",
     "iopub.status.busy": "2021-09-22T10:30:06.992055Z",
     "iopub.status.idle": "2021-09-22T10:30:07.793304Z",
     "shell.execute_reply": "2021-09-22T10:30:07.794554Z"
    },
    "papermill": {
     "duration": 0.852798,
     "end_time": "2021-09-22T10:30:07.795359",
     "exception": false,
     "start_time": "2021-09-22T10:30:06.942561",
     "status": "completed"
    },
    "tags": []
   },
   "outputs": [],
   "source": [
    "import pandas as pd\n",
    "import sqlite3"
   ]
  },
  {
   "cell_type": "code",
   "execution_count": 2,
   "id": "innovative-syndrome",
   "metadata": {
    "execution": {
     "iopub.execute_input": "2021-09-22T10:30:07.848435Z",
     "iopub.status.busy": "2021-09-22T10:30:07.846045Z",
     "iopub.status.idle": "2021-09-22T10:30:08.191871Z",
     "shell.execute_reply": "2021-09-22T10:30:08.193280Z"
    },
    "papermill": {
     "duration": 0.376058,
     "end_time": "2021-09-22T10:30:08.193721",
     "exception": false,
     "start_time": "2021-09-22T10:30:07.817663",
     "status": "completed"
    },
    "tags": []
   },
   "outputs": [],
   "source": [
    "timestamps = pd.read_sql(\"select distinct record_time from EBAY_TOP_BERLIN order by record_time desc limit 2\", sqlite3.connect(\"UsedObjects.db\"))"
   ]
  },
  {
   "cell_type": "code",
   "execution_count": 3,
   "id": "periodic-identification",
   "metadata": {
    "execution": {
     "iopub.execute_input": "2021-09-22T10:30:08.260537Z",
     "iopub.status.busy": "2021-09-22T10:30:08.258451Z",
     "iopub.status.idle": "2021-09-22T10:30:08.280430Z",
     "shell.execute_reply": "2021-09-22T10:30:08.281546Z"
    },
    "papermill": {
     "duration": 0.068302,
     "end_time": "2021-09-22T10:30:08.281957",
     "exception": false,
     "start_time": "2021-09-22T10:30:08.213655",
     "status": "completed"
    },
    "tags": []
   },
   "outputs": [
    {
     "data": {
      "text/html": [
       "<div>\n",
       "<style scoped>\n",
       "    .dataframe tbody tr th:only-of-type {\n",
       "        vertical-align: middle;\n",
       "    }\n",
       "\n",
       "    .dataframe tbody tr th {\n",
       "        vertical-align: top;\n",
       "    }\n",
       "\n",
       "    .dataframe thead th {\n",
       "        text-align: right;\n",
       "    }\n",
       "</style>\n",
       "<table border=\"1\" class=\"dataframe\">\n",
       "  <thead>\n",
       "    <tr style=\"text-align: right;\">\n",
       "      <th></th>\n",
       "      <th>RECORD_TIME</th>\n",
       "    </tr>\n",
       "  </thead>\n",
       "  <tbody>\n",
       "    <tr>\n",
       "      <th>0</th>\n",
       "      <td>2021-09-22 12:30</td>\n",
       "    </tr>\n",
       "    <tr>\n",
       "      <th>1</th>\n",
       "      <td>2021-09-22 12:00</td>\n",
       "    </tr>\n",
       "  </tbody>\n",
       "</table>\n",
       "</div>"
      ],
      "text/plain": [
       "        RECORD_TIME\n",
       "0  2021-09-22 12:30\n",
       "1  2021-09-22 12:00"
      ]
     },
     "execution_count": 3,
     "metadata": {},
     "output_type": "execute_result"
    }
   ],
   "source": [
    "timestamps"
   ]
  },
  {
   "cell_type": "code",
   "execution_count": 4,
   "id": "alternate-victory",
   "metadata": {
    "execution": {
     "iopub.execute_input": "2021-09-22T10:30:08.335851Z",
     "iopub.status.busy": "2021-09-22T10:30:08.333490Z",
     "iopub.status.idle": "2021-09-22T10:30:08.845999Z",
     "shell.execute_reply": "2021-09-22T10:30:08.847439Z"
    },
    "papermill": {
     "duration": 0.543191,
     "end_time": "2021-09-22T10:30:08.847870",
     "exception": false,
     "start_time": "2021-09-22T10:30:08.304679",
     "status": "completed"
    },
    "tags": []
   },
   "outputs": [],
   "source": [
    "df = pd.read_sql(\"select * from EBAY_TOP_BERLIN where record_time in (select distinct record_time from EBAY_TOP_BERLIN order by record_time desc limit 2)\", sqlite3.connect(\"UsedObjects.db\"))"
   ]
  },
  {
   "cell_type": "code",
   "execution_count": 5,
   "id": "popular-active",
   "metadata": {
    "execution": {
     "iopub.execute_input": "2021-09-22T10:30:08.920594Z",
     "iopub.status.busy": "2021-09-22T10:30:08.908597Z",
     "iopub.status.idle": "2021-09-22T10:30:08.936109Z",
     "shell.execute_reply": "2021-09-22T10:30:08.937320Z"
    },
    "papermill": {
     "duration": 0.068169,
     "end_time": "2021-09-22T10:30:08.937717",
     "exception": false,
     "start_time": "2021-09-22T10:30:08.869548",
     "status": "completed"
    },
    "tags": []
   },
   "outputs": [],
   "source": [
    "df_pivot = df.pivot_table(index=\"PRODUCT\", columns = \"RECORD_TIME\", values = \"LISTING_COUNT\")"
   ]
  },
  {
   "cell_type": "code",
   "execution_count": 6,
   "id": "union-huntington",
   "metadata": {
    "execution": {
     "iopub.execute_input": "2021-09-22T10:30:08.997012Z",
     "iopub.status.busy": "2021-09-22T10:30:08.994499Z",
     "iopub.status.idle": "2021-09-22T10:30:09.000381Z",
     "shell.execute_reply": "2021-09-22T10:30:09.001646Z"
    },
    "papermill": {
     "duration": 0.042086,
     "end_time": "2021-09-22T10:30:09.002066",
     "exception": false,
     "start_time": "2021-09-22T10:30:08.959980",
     "status": "completed"
    },
    "tags": []
   },
   "outputs": [],
   "source": [
    "df_pivot.columns = [\"stamp_1\", \"stamp_2\"]\n",
    "df_pivot_diff = df_pivot.diff(axis=1)"
   ]
  },
  {
   "cell_type": "code",
   "execution_count": 7,
   "id": "fifth-motion",
   "metadata": {
    "execution": {
     "iopub.execute_input": "2021-09-22T10:30:09.056515Z",
     "iopub.status.busy": "2021-09-22T10:30:09.053957Z",
     "iopub.status.idle": "2021-09-22T10:30:10.539399Z",
     "shell.execute_reply": "2021-09-22T10:30:10.540787Z"
    },
    "papermill": {
     "duration": 1.519036,
     "end_time": "2021-09-22T10:30:10.541208",
     "exception": false,
     "start_time": "2021-09-22T10:30:09.022172",
     "status": "completed"
    },
    "tags": []
   },
   "outputs": [
    {
     "data": {
      "text/plain": [
       "<AxesSubplot:ylabel='PRODUCT'>"
      ]
     },
     "execution_count": 7,
     "metadata": {},
     "output_type": "execute_result"
    },
    {
     "data": {
      "image/png": "[encoded data removed]",
      "text/plain": [
       "<Figure size 432x288 with 1 Axes>"
      ]
     },
     "metadata": {
      "needs_background": "light"
     },
     "output_type": "display_data"
    }
   ],
   "source": [
    "df_pivot_diff.sort_values(\"stamp_2\", ascending = False)[\"stamp_2\"].head(10).plot.barh()"
   ]
  },
  {
   "cell_type": "code",
   "execution_count": null,
   "id": "extra-executive",
   "metadata": {
    "papermill": {
     "duration": 0.022384,
     "end_time": "2021-09-22T10:30:10.588563",
     "exception": false,
     "start_time": "2021-09-22T10:30:10.566179",
     "status": "completed"
    },
    "tags": []
   },
   "outputs": [],
   "source": []
  }
 ],
 "metadata": {
  "kernelspec": {
   "display_name": "Python 3",
   "language": "python",
   "name": "python3"
  },
  "language_info": {
   "codemirror_mode": {
    "name": "ipython",
    "version": 3
   },
   "file_extension": ".py",
   "mimetype": "text/x-python",
   "name": "python",
   "nbconvert_exporter": "python",
   "pygments_lexer": "ipython3",
   "version": "3.9.5"
  },
  "papermill": {
   "default_parameters": {},
   "duration": 6.688861,
   "end_time": "2021-09-22T10:30:11.232109",
   "environment_variables": {},
   "exception": null,
   "input_path": "eBay_Overview.ipynb",
   "output_path": "eBay_Overview.ipynb",
   "parameters": {},
   "start_time": "2021-09-22T10:30:04.543248",
   "version": "2.3.3"
  }
 },
 "nbformat": 4,
 "nbformat_minor": 5
}