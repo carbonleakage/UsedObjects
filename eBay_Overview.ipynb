{
 "cells": [
  {
   "cell_type": "code",
   "execution_count": 1,
   "id": "reverse-picking",
   "metadata": {
    "execution": {
     "iopub.execute_input": "2021-09-14T19:00:07.609370Z",
     "iopub.status.busy": "2021-09-14T19:00:07.607275Z",
     "iopub.status.idle": "2021-09-14T19:00:08.412062Z",
     "shell.execute_reply": "2021-09-14T19:00:08.413341Z"
    },
    "papermill": {
     "duration": 0.855893,
     "end_time": "2021-09-14T19:00:08.413968",
     "exception": false,
     "start_time": "2021-09-14T19:00:07.558075",
     "status": "completed"
    },
    "tags": []
   },
   "outputs": [],
   "source": [
    "import pandas as pd\n",
    "import sqlite3"
   ]
  },
  {
   "cell_type": "code",
   "execution_count": 2,
   "id": "innovative-syndrome",
   "metadata": {
    "execution": {
     "iopub.execute_input": "2021-09-14T19:00:08.467455Z",
     "iopub.status.busy": "2021-09-14T19:00:08.465023Z",
     "iopub.status.idle": "2021-09-14T19:00:08.754918Z",
     "shell.execute_reply": "2021-09-14T19:00:08.756252Z"
    },
    "papermill": {
     "duration": 0.319747,
     "end_time": "2021-09-14T19:00:08.756675",
     "exception": false,
     "start_time": "2021-09-14T19:00:08.436928",
     "status": "completed"
    },
    "tags": []
   },
   "outputs": [],
   "source": [
    "timestamps = pd.read_sql(\"select distinct record_time from EBAY_TOP_BERLIN order by record_time desc limit 2\", sqlite3.connect(\"UsedObjects.db\"))"
   ]
  },
  {
   "cell_type": "code",
   "execution_count": 3,
   "id": "periodic-identification",
   "metadata": {
    "execution": {
     "iopub.execute_input": "2021-09-14T19:00:08.822119Z",
     "iopub.status.busy": "2021-09-14T19:00:08.820068Z",
     "iopub.status.idle": "2021-09-14T19:00:08.840245Z",
     "shell.execute_reply": "2021-09-14T19:00:08.841585Z"
    },
    "papermill": {
     "duration": 0.064681,
     "end_time": "2021-09-14T19:00:08.842005",
     "exception": false,
     "start_time": "2021-09-14T19:00:08.777324",
     "status": "completed"
    },
    "tags": []
   },
   "outputs": [
    {
     "data": {
      "text/html": [
       "<div>\n",
       "<style scoped>\n",
       "    .dataframe tbody tr th:only-of-type {\n",
       "        vertical-align: middle;\n",
       "    }\n",
       "\n",
       "    .dataframe tbody tr th {\n",
       "        vertical-align: top;\n",
       "    }\n",
       "\n",
       "    .dataframe thead th {\n",
       "        text-align: right;\n",
       "    }\n",
       "</style>\n",
       "<table border=\"1\" class=\"dataframe\">\n",
       "  <thead>\n",
       "    <tr style=\"text-align: right;\">\n",
       "      <th></th>\n",
       "      <th>RECORD_TIME</th>\n",
       "    </tr>\n",
       "  </thead>\n",
       "  <tbody>\n",
       "    <tr>\n",
       "      <th>0</th>\n",
       "      <td>2021-09-14 21:00</td>\n",
       "    </tr>\n",
       "    <tr>\n",
       "      <th>1</th>\n",
       "      <td>2021-09-14 20:30</td>\n",
       "    </tr>\n",
       "  </tbody>\n",
       "</table>\n",
       "</div>"
      ],
      "text/plain": [
       "        RECORD_TIME\n",
       "0  2021-09-14 21:00\n",
       "1  2021-09-14 20:30"
      ]
     },
     "execution_count": 3,
     "metadata": {},
     "output_type": "execute_result"
    }
   ],
   "source": [
    "timestamps"
   ]
  },
  {
   "cell_type": "code",
   "execution_count": 4,
   "id": "alternate-victory",
   "metadata": {
    "execution": {
     "iopub.execute_input": "2021-09-14T19:00:08.893984Z",
     "iopub.status.busy": "2021-09-14T19:00:08.891677Z",
     "iopub.status.idle": "2021-09-14T19:00:09.316371Z",
     "shell.execute_reply": "2021-09-14T19:00:09.317598Z"
    },
    "papermill": {
     "duration": 0.454918,
     "end_time": "2021-09-14T19:00:09.317999",
     "exception": false,
     "start_time": "2021-09-14T19:00:08.863081",
     "status": "completed"
    },
    "tags": []
   },
   "outputs": [],
   "source": [
    "df = pd.read_sql(\"select * from EBAY_TOP_BERLIN where record_time in (select distinct record_time from EBAY_TOP_BERLIN order by record_time desc limit 2)\", sqlite3.connect(\"UsedObjects.db\"))"
   ]
  },
  {
   "cell_type": "code",
   "execution_count": 5,
   "id": "popular-active",
   "metadata": {
    "execution": {
     "iopub.execute_input": "2021-09-14T19:00:09.396537Z",
     "iopub.status.busy": "2021-09-14T19:00:09.385381Z",
     "iopub.status.idle": "2021-09-14T19:00:09.415642Z",
     "shell.execute_reply": "2021-09-14T19:00:09.416976Z"
    },
    "papermill": {
     "duration": 0.072882,
     "end_time": "2021-09-14T19:00:09.417437",
     "exception": false,
     "start_time": "2021-09-14T19:00:09.344555",
     "status": "completed"
    },
    "tags": []
   },
   "outputs": [],
   "source": [
    "df_pivot = df.pivot_table(index=\"PRODUCT\", columns = \"RECORD_TIME\", values = \"LISTING_COUNT\")"
   ]
  },
  {
   "cell_type": "code",
   "execution_count": 6,
   "id": "union-huntington",
   "metadata": {
    "execution": {
     "iopub.execute_input": "2021-09-14T19:00:09.473167Z",
     "iopub.status.busy": "2021-09-14T19:00:09.471081Z",
     "iopub.status.idle": "2021-09-14T19:00:09.476131Z",
     "shell.execute_reply": "2021-09-14T19:00:09.477422Z"
    },
    "papermill": {
     "duration": 0.040219,
     "end_time": "2021-09-14T19:00:09.477841",
     "exception": false,
     "start_time": "2021-09-14T19:00:09.437622",
     "status": "completed"
    },
    "tags": []
   },
   "outputs": [],
   "source": [
    "df_pivot.columns = [\"stamp_1\", \"stamp_2\"]\n",
    "df_pivot_diff = df_pivot.diff(axis=1)"
   ]
  },
  {
   "cell_type": "code",
   "execution_count": 7,
   "id": "fifth-motion",
   "metadata": {
    "execution": {
     "iopub.execute_input": "2021-09-14T19:00:09.532166Z",
     "iopub.status.busy": "2021-09-14T19:00:09.529556Z",
     "iopub.status.idle": "2021-09-14T19:00:11.030741Z",
     "shell.execute_reply": "2021-09-14T19:00:11.032129Z"
    },
    "papermill": {
     "duration": 1.534312,
     "end_time": "2021-09-14T19:00:11.032553",
     "exception": false,
     "start_time": "2021-09-14T19:00:09.498241",
     "status": "completed"
    },
    "tags": []
   },
   "outputs": [
    {
     "data": {
      "text/plain": [
       "<AxesSubplot:ylabel='PRODUCT'>"
      ]
     },
     "execution_count": 7,
     "metadata": {},
     "output_type": "execute_result"
    },
    {
     "data": {
      "image/png": "[encoded data removed]",
      "text/plain": [
       "<Figure size 432x288 with 1 Axes>"
      ]
     },
     "metadata": {
      "needs_background": "light"
     },
     "output_type": "display_data"
    }
   ],
   "source": [
    "df_pivot_diff.sort_values(\"stamp_2\", ascending = False)[\"stamp_2\"].head(10).plot.barh()"
   ]
  },
  {
   "cell_type": "code",
   "execution_count": null,
   "id": "extra-executive",
   "metadata": {
    "papermill": {
     "duration": 0.022126,
     "end_time": "2021-09-14T19:00:11.079502",
     "exception": false,
     "start_time": "2021-09-14T19:00:11.057376",
     "status": "completed"
    },
    "tags": []
   },
   "outputs": [],
   "source": []
  }
 ],
 "metadata": {
  "kernelspec": {
   "display_name": "Python 3",
   "language": "python",
   "name": "python3"
  },
  "language_info": {
   "codemirror_mode": {
    "name": "ipython",
    "version": 3
   },
   "file_extension": ".py",
   "mimetype": "text/x-python",
   "name": "python",
   "nbconvert_exporter": "python",
   "pygments_lexer": "ipython3",
   "version": "3.9.5"
  },
  "papermill": {
   "default_parameters": {},
   "duration": 6.572275,
   "end_time": "2021-09-14T19:00:11.723272",
   "environment_variables": {},
   "exception": null,
   "input_path": "eBay_Overview.ipynb",
   "output_path": "eBay_Overview.ipynb",
   "parameters": {},
   "start_time": "2021-09-14T19:00:05.150997",
   "version": "2.3.3"
  }
 },
 "nbformat": 4,
 "nbformat_minor": 5
}