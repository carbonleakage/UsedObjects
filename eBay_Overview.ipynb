{
 "cells": [
  {
   "cell_type": "code",
   "execution_count": 1,
   "id": "reverse-picking",
   "metadata": {
    "execution": {
     "iopub.execute_input": "2021-08-25T02:30:07.239286Z",
     "iopub.status.busy": "2021-08-25T02:30:07.237249Z",
     "iopub.status.idle": "2021-08-25T02:30:08.043913Z",
     "shell.execute_reply": "2021-08-25T02:30:08.045173Z"
    },
    "papermill": {
     "duration": 0.858009,
     "end_time": "2021-08-25T02:30:08.045806",
     "exception": false,
     "start_time": "2021-08-25T02:30:07.187797",
     "status": "completed"
    },
    "tags": []
   },
   "outputs": [],
   "source": [
    "import pandas as pd\n",
    "import sqlite3"
   ]
  },
  {
   "cell_type": "code",
   "execution_count": 2,
   "id": "innovative-syndrome",
   "metadata": {
    "execution": {
     "iopub.execute_input": "2021-08-25T02:30:08.095724Z",
     "iopub.status.busy": "2021-08-25T02:30:08.093794Z",
     "iopub.status.idle": "2021-08-25T02:30:08.217196Z",
     "shell.execute_reply": "2021-08-25T02:30:08.219172Z"
    },
    "papermill": {
     "duration": 0.153267,
     "end_time": "2021-08-25T02:30:08.219624",
     "exception": false,
     "start_time": "2021-08-25T02:30:08.066357",
     "status": "completed"
    },
    "tags": []
   },
   "outputs": [],
   "source": [
    "timestamps = pd.read_sql(\"select distinct record_time from EBAY_TOP_BERLIN order by record_time desc limit 2\", sqlite3.connect(\"UsedObjects.db\"))"
   ]
  },
  {
   "cell_type": "code",
   "execution_count": 3,
   "id": "periodic-identification",
   "metadata": {
    "execution": {
     "iopub.execute_input": "2021-08-25T02:30:08.284546Z",
     "iopub.status.busy": "2021-08-25T02:30:08.282560Z",
     "iopub.status.idle": "2021-08-25T02:30:08.302482Z",
     "shell.execute_reply": "2021-08-25T02:30:08.303863Z"
    },
    "papermill": {
     "duration": 0.065609,
     "end_time": "2021-08-25T02:30:08.304358",
     "exception": false,
     "start_time": "2021-08-25T02:30:08.238749",
     "status": "completed"
    },
    "tags": []
   },
   "outputs": [
    {
     "data": {
      "text/html": [
       "<div>\n",
       "<style scoped>\n",
       "    .dataframe tbody tr th:only-of-type {\n",
       "        vertical-align: middle;\n",
       "    }\n",
       "\n",
       "    .dataframe tbody tr th {\n",
       "        vertical-align: top;\n",
       "    }\n",
       "\n",
       "    .dataframe thead th {\n",
       "        text-align: right;\n",
       "    }\n",
       "</style>\n",
       "<table border=\"1\" class=\"dataframe\">\n",
       "  <thead>\n",
       "    <tr style=\"text-align: right;\">\n",
       "      <th></th>\n",
       "      <th>RECORD_TIME</th>\n",
       "    </tr>\n",
       "  </thead>\n",
       "  <tbody>\n",
       "    <tr>\n",
       "      <th>0</th>\n",
       "      <td>2021-08-25 04:30</td>\n",
       "    </tr>\n",
       "    <tr>\n",
       "      <th>1</th>\n",
       "      <td>2021-08-25 04:00</td>\n",
       "    </tr>\n",
       "  </tbody>\n",
       "</table>\n",
       "</div>"
      ],
      "text/plain": [
       "        RECORD_TIME\n",
       "0  2021-08-25 04:30\n",
       "1  2021-08-25 04:00"
      ]
     },
     "execution_count": 3,
     "metadata": {},
     "output_type": "execute_result"
    }
   ],
   "source": [
    "timestamps"
   ]
  },
  {
   "cell_type": "code",
   "execution_count": 4,
   "id": "alternate-victory",
   "metadata": {
    "execution": {
     "iopub.execute_input": "2021-08-25T02:30:08.356123Z",
     "iopub.status.busy": "2021-08-25T02:30:08.354073Z",
     "iopub.status.idle": "2021-08-25T02:30:08.536028Z",
     "shell.execute_reply": "2021-08-25T02:30:08.537221Z"
    },
    "papermill": {
     "duration": 0.212107,
     "end_time": "2021-08-25T02:30:08.537624",
     "exception": false,
     "start_time": "2021-08-25T02:30:08.325517",
     "status": "completed"
    },
    "tags": []
   },
   "outputs": [],
   "source": [
    "df = pd.read_sql(\"select * from EBAY_TOP_BERLIN where record_time in (select distinct record_time from EBAY_TOP_BERLIN order by record_time desc limit 2)\", sqlite3.connect(\"UsedObjects.db\"))"
   ]
  },
  {
   "cell_type": "code",
   "execution_count": 5,
   "id": "popular-active",
   "metadata": {
    "execution": {
     "iopub.execute_input": "2021-08-25T02:30:08.599252Z",
     "iopub.status.busy": "2021-08-25T02:30:08.596972Z",
     "iopub.status.idle": "2021-08-25T02:30:08.624021Z",
     "shell.execute_reply": "2021-08-25T02:30:08.625325Z"
    },
    "papermill": {
     "duration": 0.0664,
     "end_time": "2021-08-25T02:30:08.625756",
     "exception": false,
     "start_time": "2021-08-25T02:30:08.559356",
     "status": "completed"
    },
    "tags": []
   },
   "outputs": [],
   "source": [
    "df_pivot = df.pivot_table(index=\"PRODUCT\", columns = \"RECORD_TIME\", values = \"LISTING_COUNT\")"
   ]
  },
  {
   "cell_type": "code",
   "execution_count": 6,
   "id": "union-huntington",
   "metadata": {
    "execution": {
     "iopub.execute_input": "2021-08-25T02:30:08.680662Z",
     "iopub.status.busy": "2021-08-25T02:30:08.678671Z",
     "iopub.status.idle": "2021-08-25T02:30:08.683863Z",
     "shell.execute_reply": "2021-08-25T02:30:08.684986Z"
    },
    "papermill": {
     "duration": 0.039736,
     "end_time": "2021-08-25T02:30:08.685405",
     "exception": false,
     "start_time": "2021-08-25T02:30:08.645669",
     "status": "completed"
    },
    "tags": []
   },
   "outputs": [],
   "source": [
    "df_pivot.columns = [\"stamp_1\", \"stamp_2\"]\n",
    "df_pivot_diff = df_pivot.diff(axis=1)"
   ]
  },
  {
   "cell_type": "code",
   "execution_count": 7,
   "id": "fifth-motion",
   "metadata": {
    "execution": {
     "iopub.execute_input": "2021-08-25T02:30:08.741285Z",
     "iopub.status.busy": "2021-08-25T02:30:08.739094Z",
     "iopub.status.idle": "2021-08-25T02:30:10.211445Z",
     "shell.execute_reply": "2021-08-25T02:30:10.212623Z"
    },
    "papermill": {
     "duration": 1.504752,
     "end_time": "2021-08-25T02:30:10.213058",
     "exception": false,
     "start_time": "2021-08-25T02:30:08.708306",
     "status": "completed"
    },
    "tags": []
   },
   "outputs": [
    {
     "data": {
      "text/plain": [
       "<AxesSubplot:ylabel='PRODUCT'>"
      ]
     },
     "execution_count": 7,
     "metadata": {},
     "output_type": "execute_result"
    },
    {
     "data": {
      "image/png": "[encoded data removed]",
      "text/plain": [
       "<Figure size 432x288 with 1 Axes>"
      ]
     },
     "metadata": {
      "needs_background": "light"
     },
     "output_type": "display_data"
    }
   ],
   "source": [
    "df_pivot_diff.sort_values(\"stamp_2\", ascending = False)[\"stamp_2\"].head(10).plot.barh()"
   ]
  },
  {
   "cell_type": "code",
   "execution_count": null,
   "id": "extra-executive",
   "metadata": {
    "papermill": {
     "duration": 0.022026,
     "end_time": "2021-08-25T02:30:10.260970",
     "exception": false,
     "start_time": "2021-08-25T02:30:10.238944",
     "status": "completed"
    },
    "tags": []
   },
   "outputs": [],
   "source": []
  }
 ],
 "metadata": {
  "kernelspec": {
   "display_name": "Python 3",
   "language": "python",
   "name": "python3"
  },
  "language_info": {
   "codemirror_mode": {
    "name": "ipython",
    "version": 3
   },
   "file_extension": ".py",
   "mimetype": "text/x-python",
   "name": "python",
   "nbconvert_exporter": "python",
   "pygments_lexer": "ipython3",
   "version": "3.9.5"
  },
  "papermill": {
   "default_parameters": {},
   "duration": 6.826272,
   "end_time": "2021-08-25T02:30:11.604496",
   "environment_variables": {},
   "exception": null,
   "input_path": "eBay_Overview.ipynb",
   "output_path": "eBay_Overview.ipynb",
   "parameters": {},
   "start_time": "2021-08-25T02:30:04.778224",
   "version": "2.3.3"
  }
 },
 "nbformat": 4,
 "nbformat_minor": 5
}