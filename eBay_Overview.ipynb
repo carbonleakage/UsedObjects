{
 "cells": [
  {
   "cell_type": "code",
   "execution_count": 1,
   "id": "reverse-picking",
   "metadata": {
    "execution": {
     "iopub.execute_input": "2021-12-16T16:00:08.181774Z",
     "iopub.status.busy": "2021-12-16T16:00:08.179335Z",
     "iopub.status.idle": "2021-12-16T16:00:09.141386Z",
     "shell.execute_reply": "2021-12-16T16:00:09.143134Z"
    },
    "papermill": {
     "duration": 1.010702,
     "end_time": "2021-12-16T16:00:09.143933",
     "exception": false,
     "start_time": "2021-12-16T16:00:08.133231",
     "status": "completed"
    },
    "tags": []
   },
   "outputs": [],
   "source": [
    "import pandas as pd\n",
    "import sqlite3"
   ]
  },
  {
   "cell_type": "code",
   "execution_count": 2,
   "id": "innovative-syndrome",
   "metadata": {
    "execution": {
     "iopub.execute_input": "2021-12-16T16:00:09.199285Z",
     "iopub.status.busy": "2021-12-16T16:00:09.196788Z",
     "iopub.status.idle": "2021-12-16T16:00:10.324325Z",
     "shell.execute_reply": "2021-12-16T16:00:10.325815Z"
    },
    "papermill": {
     "duration": 1.161321,
     "end_time": "2021-12-16T16:00:10.326265",
     "exception": false,
     "start_time": "2021-12-16T16:00:09.164944",
     "status": "completed"
    },
    "tags": []
   },
   "outputs": [],
   "source": [
    "timestamps = pd.read_sql(\"select distinct record_time from EBAY_TOP_BERLIN order by record_time desc limit 2\", sqlite3.connect(\"UsedObjects.db\"))"
   ]
  },
  {
   "cell_type": "code",
   "execution_count": 3,
   "id": "periodic-identification",
   "metadata": {
    "execution": {
     "iopub.execute_input": "2021-12-16T16:00:10.394772Z",
     "iopub.status.busy": "2021-12-16T16:00:10.392459Z",
     "iopub.status.idle": "2021-12-16T16:00:10.417293Z",
     "shell.execute_reply": "2021-12-16T16:00:10.418712Z"
    },
    "papermill": {
     "duration": 0.072424,
     "end_time": "2021-12-16T16:00:10.419166",
     "exception": false,
     "start_time": "2021-12-16T16:00:10.346742",
     "status": "completed"
    },
    "tags": []
   },
   "outputs": [
    {
     "data": {
      "text/html": [
       "<div>\n",
       "<style scoped>\n",
       "    .dataframe tbody tr th:only-of-type {\n",
       "        vertical-align: middle;\n",
       "    }\n",
       "\n",
       "    .dataframe tbody tr th {\n",
       "        vertical-align: top;\n",
       "    }\n",
       "\n",
       "    .dataframe thead th {\n",
       "        text-align: right;\n",
       "    }\n",
       "</style>\n",
       "<table border=\"1\" class=\"dataframe\">\n",
       "  <thead>\n",
       "    <tr style=\"text-align: right;\">\n",
       "      <th></th>\n",
       "      <th>RECORD_TIME</th>\n",
       "    </tr>\n",
       "  </thead>\n",
       "  <tbody>\n",
       "    <tr>\n",
       "      <th>0</th>\n",
       "      <td>2021-12-16 17:00</td>\n",
       "    </tr>\n",
       "    <tr>\n",
       "      <th>1</th>\n",
       "      <td>2021-12-16 16:30</td>\n",
       "    </tr>\n",
       "  </tbody>\n",
       "</table>\n",
       "</div>"
      ],
      "text/plain": [
       "        RECORD_TIME\n",
       "0  2021-12-16 17:00\n",
       "1  2021-12-16 16:30"
      ]
     },
     "execution_count": 3,
     "metadata": {},
     "output_type": "execute_result"
    }
   ],
   "source": [
    "timestamps"
   ]
  },
  {
   "cell_type": "code",
   "execution_count": 4,
   "id": "alternate-victory",
   "metadata": {
    "execution": {
     "iopub.execute_input": "2021-12-16T16:00:10.484708Z",
     "iopub.status.busy": "2021-12-16T16:00:10.470498Z",
     "iopub.status.idle": "2021-12-16T16:00:12.087607Z",
     "shell.execute_reply": "2021-12-16T16:00:12.089313Z"
    },
    "papermill": {
     "duration": 1.649932,
     "end_time": "2021-12-16T16:00:12.089853",
     "exception": false,
     "start_time": "2021-12-16T16:00:10.439921",
     "status": "completed"
    },
    "tags": []
   },
   "outputs": [],
   "source": [
    "df = pd.read_sql(\"select * from EBAY_TOP_BERLIN where record_time in (select distinct record_time from EBAY_TOP_BERLIN order by record_time desc limit 2)\", sqlite3.connect(\"UsedObjects.db\"))"
   ]
  },
  {
   "cell_type": "code",
   "execution_count": 5,
   "id": "popular-active",
   "metadata": {
    "execution": {
     "iopub.execute_input": "2021-12-16T16:00:12.164274Z",
     "iopub.status.busy": "2021-12-16T16:00:12.151466Z",
     "iopub.status.idle": "2021-12-16T16:00:12.183750Z",
     "shell.execute_reply": "2021-12-16T16:00:12.185221Z"
    },
    "papermill": {
     "duration": 0.073961,
     "end_time": "2021-12-16T16:00:12.185706",
     "exception": false,
     "start_time": "2021-12-16T16:00:12.111745",
     "status": "completed"
    },
    "tags": []
   },
   "outputs": [],
   "source": [
    "df_pivot = df.pivot_table(index=\"PRODUCT\", columns = \"RECORD_TIME\", values = \"LISTING_COUNT\")"
   ]
  },
  {
   "cell_type": "code",
   "execution_count": 6,
   "id": "union-huntington",
   "metadata": {
    "execution": {
     "iopub.execute_input": "2021-12-16T16:00:12.244545Z",
     "iopub.status.busy": "2021-12-16T16:00:12.242238Z",
     "iopub.status.idle": "2021-12-16T16:00:12.248953Z",
     "shell.execute_reply": "2021-12-16T16:00:12.250748Z"
    },
    "papermill": {
     "duration": 0.045841,
     "end_time": "2021-12-16T16:00:12.251258",
     "exception": false,
     "start_time": "2021-12-16T16:00:12.205417",
     "status": "completed"
    },
    "tags": []
   },
   "outputs": [],
   "source": [
    "df_pivot.columns = [\"stamp_1\", \"stamp_2\"]\n",
    "df_pivot_diff = df_pivot.diff(axis=1)"
   ]
  },
  {
   "cell_type": "code",
   "execution_count": 7,
   "id": "fifth-motion",
   "metadata": {
    "execution": {
     "iopub.execute_input": "2021-12-16T16:00:12.310387Z",
     "iopub.status.busy": "2021-12-16T16:00:12.307820Z",
     "iopub.status.idle": "2021-12-16T16:00:14.287911Z",
     "shell.execute_reply": "2021-12-16T16:00:14.289614Z"
    },
    "papermill": {
     "duration": 2.016837,
     "end_time": "2021-12-16T16:00:14.290123",
     "exception": false,
     "start_time": "2021-12-16T16:00:12.273286",
     "status": "completed"
    },
    "tags": []
   },
   "outputs": [
    {
     "data": {
      "text/plain": [
       "<AxesSubplot:ylabel='PRODUCT'>"
      ]
     },
     "execution_count": 7,
     "metadata": {},
     "output_type": "execute_result"
    },
    {
     "data": {
      "image/png": "[encoded data removed]",
      "text/plain": [
       "<Figure size 432x288 with 1 Axes>"
      ]
     },
     "metadata": {
      "needs_background": "light"
     },
     "output_type": "display_data"
    }
   ],
   "source": [
    "df_pivot_diff.sort_values(\"stamp_2\", ascending = False)[\"stamp_2\"].head(10).plot.barh()"
   ]
  },
  {
   "cell_type": "code",
   "execution_count": null,
   "id": "extra-executive",
   "metadata": {
    "papermill": {
     "duration": 0.026226,
     "end_time": "2021-12-16T16:00:14.348027",
     "exception": false,
     "start_time": "2021-12-16T16:00:14.321801",
     "status": "completed"
    },
    "tags": []
   },
   "outputs": [],
   "source": []
  }
 ],
 "metadata": {
  "kernelspec": {
   "display_name": "Python 3",
   "language": "python",
   "name": "python3"
  },
  "language_info": {
   "codemirror_mode": {
    "name": "ipython",
    "version": 3
   },
   "file_extension": ".py",
   "mimetype": "text/x-python",
   "name": "python",
   "nbconvert_exporter": "python",
   "pygments_lexer": "ipython3",
   "version": "3.9.5"
  },
  "papermill": {
   "default_parameters": {},
   "duration": 9.600057,
   "end_time": "2021-12-16T16:00:15.004505",
   "environment_variables": {},
   "exception": null,
   "input_path": "eBay_Overview.ipynb",
   "output_path": "eBay_Overview.ipynb",
   "parameters": {},
   "start_time": "2021-12-16T16:00:05.404448",
   "version": "2.3.3"
  }
 },
 "nbformat": 4,
 "nbformat_minor": 5
}