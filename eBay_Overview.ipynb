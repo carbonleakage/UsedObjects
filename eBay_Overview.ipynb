{
 "cells": [
  {
   "cell_type": "code",
   "execution_count": 1,
   "id": "reverse-picking",
   "metadata": {
    "execution": {
     "iopub.execute_input": "2021-11-15T08:00:08.757147Z",
     "iopub.status.busy": "2021-11-15T08:00:08.754529Z",
     "iopub.status.idle": "2021-11-15T08:00:09.730627Z",
     "shell.execute_reply": "2021-11-15T08:00:09.728580Z"
    },
    "papermill": {
     "duration": 1.0248,
     "end_time": "2021-11-15T08:00:09.731267",
     "exception": false,
     "start_time": "2021-11-15T08:00:08.706467",
     "status": "completed"
    },
    "tags": []
   },
   "outputs": [],
   "source": [
    "import pandas as pd\n",
    "import sqlite3"
   ]
  },
  {
   "cell_type": "code",
   "execution_count": 2,
   "id": "innovative-syndrome",
   "metadata": {
    "execution": {
     "iopub.execute_input": "2021-11-15T08:00:09.793198Z",
     "iopub.status.busy": "2021-11-15T08:00:09.790671Z",
     "iopub.status.idle": "2021-11-15T08:00:10.596645Z",
     "shell.execute_reply": "2021-11-15T08:00:10.598186Z"
    },
    "papermill": {
     "duration": 0.845085,
     "end_time": "2021-11-15T08:00:10.598658",
     "exception": false,
     "start_time": "2021-11-15T08:00:09.753573",
     "status": "completed"
    },
    "tags": []
   },
   "outputs": [],
   "source": [
    "timestamps = pd.read_sql(\"select distinct record_time from EBAY_TOP_BERLIN order by record_time desc limit 2\", sqlite3.connect(\"UsedObjects.db\"))"
   ]
  },
  {
   "cell_type": "code",
   "execution_count": 3,
   "id": "periodic-identification",
   "metadata": {
    "execution": {
     "iopub.execute_input": "2021-11-15T08:00:10.673218Z",
     "iopub.status.busy": "2021-11-15T08:00:10.670599Z",
     "iopub.status.idle": "2021-11-15T08:00:10.693485Z",
     "shell.execute_reply": "2021-11-15T08:00:10.695158Z"
    },
    "papermill": {
     "duration": 0.075743,
     "end_time": "2021-11-15T08:00:10.695645",
     "exception": false,
     "start_time": "2021-11-15T08:00:10.619902",
     "status": "completed"
    },
    "tags": []
   },
   "outputs": [
    {
     "data": {
      "text/html": [
       "<div>\n",
       "<style scoped>\n",
       "    .dataframe tbody tr th:only-of-type {\n",
       "        vertical-align: middle;\n",
       "    }\n",
       "\n",
       "    .dataframe tbody tr th {\n",
       "        vertical-align: top;\n",
       "    }\n",
       "\n",
       "    .dataframe thead th {\n",
       "        text-align: right;\n",
       "    }\n",
       "</style>\n",
       "<table border=\"1\" class=\"dataframe\">\n",
       "  <thead>\n",
       "    <tr style=\"text-align: right;\">\n",
       "      <th></th>\n",
       "      <th>RECORD_TIME</th>\n",
       "    </tr>\n",
       "  </thead>\n",
       "  <tbody>\n",
       "    <tr>\n",
       "      <th>0</th>\n",
       "      <td>2021-11-15 09:00</td>\n",
       "    </tr>\n",
       "    <tr>\n",
       "      <th>1</th>\n",
       "      <td>2021-11-15 08:30</td>\n",
       "    </tr>\n",
       "  </tbody>\n",
       "</table>\n",
       "</div>"
      ],
      "text/plain": [
       "        RECORD_TIME\n",
       "0  2021-11-15 09:00\n",
       "1  2021-11-15 08:30"
      ]
     },
     "execution_count": 3,
     "metadata": {},
     "output_type": "execute_result"
    }
   ],
   "source": [
    "timestamps"
   ]
  },
  {
   "cell_type": "code",
   "execution_count": 4,
   "id": "alternate-victory",
   "metadata": {
    "execution": {
     "iopub.execute_input": "2021-11-15T08:00:10.753405Z",
     "iopub.status.busy": "2021-11-15T08:00:10.750925Z",
     "iopub.status.idle": "2021-11-15T08:00:11.934045Z",
     "shell.execute_reply": "2021-11-15T08:00:11.936113Z"
    },
    "papermill": {
     "duration": 1.217506,
     "end_time": "2021-11-15T08:00:11.936597",
     "exception": false,
     "start_time": "2021-11-15T08:00:10.719091",
     "status": "completed"
    },
    "tags": []
   },
   "outputs": [],
   "source": [
    "df = pd.read_sql(\"select * from EBAY_TOP_BERLIN where record_time in (select distinct record_time from EBAY_TOP_BERLIN order by record_time desc limit 2)\", sqlite3.connect(\"UsedObjects.db\"))"
   ]
  },
  {
   "cell_type": "code",
   "execution_count": 5,
   "id": "popular-active",
   "metadata": {
    "execution": {
     "iopub.execute_input": "2021-11-15T08:00:12.011487Z",
     "iopub.status.busy": "2021-11-15T08:00:11.997853Z",
     "iopub.status.idle": "2021-11-15T08:00:12.029766Z",
     "shell.execute_reply": "2021-11-15T08:00:12.031404Z"
    },
    "papermill": {
     "duration": 0.075465,
     "end_time": "2021-11-15T08:00:12.032776",
     "exception": false,
     "start_time": "2021-11-15T08:00:11.957311",
     "status": "completed"
    },
    "tags": []
   },
   "outputs": [],
   "source": [
    "df_pivot = df.pivot_table(index=\"PRODUCT\", columns = \"RECORD_TIME\", values = \"LISTING_COUNT\")"
   ]
  },
  {
   "cell_type": "code",
   "execution_count": 6,
   "id": "union-huntington",
   "metadata": {
    "execution": {
     "iopub.execute_input": "2021-11-15T08:00:12.095125Z",
     "iopub.status.busy": "2021-11-15T08:00:12.092919Z",
     "iopub.status.idle": "2021-11-15T08:00:12.099072Z",
     "shell.execute_reply": "2021-11-15T08:00:12.100497Z"
    },
    "papermill": {
     "duration": 0.047405,
     "end_time": "2021-11-15T08:00:12.101032",
     "exception": false,
     "start_time": "2021-11-15T08:00:12.053627",
     "status": "completed"
    },
    "tags": []
   },
   "outputs": [],
   "source": [
    "df_pivot.columns = [\"stamp_1\", \"stamp_2\"]\n",
    "df_pivot_diff = df_pivot.diff(axis=1)"
   ]
  },
  {
   "cell_type": "code",
   "execution_count": 7,
   "id": "fifth-motion",
   "metadata": {
    "execution": {
     "iopub.execute_input": "2021-11-15T08:00:12.157000Z",
     "iopub.status.busy": "2021-11-15T08:00:12.154410Z",
     "iopub.status.idle": "2021-11-15T08:00:14.114472Z",
     "shell.execute_reply": "2021-11-15T08:00:14.115777Z"
    },
    "papermill": {
     "duration": 1.994969,
     "end_time": "2021-11-15T08:00:14.116202",
     "exception": false,
     "start_time": "2021-11-15T08:00:12.121233",
     "status": "completed"
    },
    "tags": []
   },
   "outputs": [
    {
     "data": {
      "text/plain": [
       "<AxesSubplot:ylabel='PRODUCT'>"
      ]
     },
     "execution_count": 7,
     "metadata": {},
     "output_type": "execute_result"
    },
    {
     "data": {
      "image/png": "[encoded data removed]",
      "text/plain": [
       "<Figure size 432x288 with 1 Axes>"
      ]
     },
     "metadata": {
      "needs_background": "light"
     },
     "output_type": "display_data"
    }
   ],
   "source": [
    "df_pivot_diff.sort_values(\"stamp_2\", ascending = False)[\"stamp_2\"].head(10).plot.barh()"
   ]
  },
  {
   "cell_type": "code",
   "execution_count": null,
   "id": "extra-executive",
   "metadata": {
    "papermill": {
     "duration": 0.021792,
     "end_time": "2021-11-15T08:00:14.162520",
     "exception": false,
     "start_time": "2021-11-15T08:00:14.140728",
     "status": "completed"
    },
    "tags": []
   },
   "outputs": [],
   "source": []
  }
 ],
 "metadata": {
  "kernelspec": {
   "display_name": "Python 3",
   "language": "python",
   "name": "python3"
  },
  "language_info": {
   "codemirror_mode": {
    "name": "ipython",
    "version": 3
   },
   "file_extension": ".py",
   "mimetype": "text/x-python",
   "name": "python",
   "nbconvert_exporter": "python",
   "pygments_lexer": "ipython3",
   "version": "3.9.5"
  },
  "papermill": {
   "default_parameters": {},
   "duration": 8.85673,
   "end_time": "2021-11-15T08:00:14.813480",
   "environment_variables": {},
   "exception": null,
   "input_path": "eBay_Overview.ipynb",
   "output_path": "eBay_Overview.ipynb",
   "parameters": {},
   "start_time": "2021-11-15T08:00:05.956750",
   "version": "2.3.3"
  }
 },
 "nbformat": 4,
 "nbformat_minor": 5
}