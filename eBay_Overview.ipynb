{
 "cells": [
  {
   "cell_type": "code",
   "execution_count": 1,
   "id": "reverse-picking",
   "metadata": {
    "execution": {
     "iopub.execute_input": "2021-08-19T11:30:07.485503Z",
     "iopub.status.busy": "2021-08-19T11:30:07.483577Z",
     "iopub.status.idle": "2021-08-19T11:30:08.290198Z",
     "shell.execute_reply": "2021-08-19T11:30:08.291560Z"
    },
    "papermill": {
     "duration": 0.858928,
     "end_time": "2021-08-19T11:30:08.292213",
     "exception": false,
     "start_time": "2021-08-19T11:30:07.433285",
     "status": "completed"
    },
    "tags": []
   },
   "outputs": [],
   "source": [
    "import pandas as pd\n",
    "import sqlite3"
   ]
  },
  {
   "cell_type": "code",
   "execution_count": 2,
   "id": "innovative-syndrome",
   "metadata": {
    "execution": {
     "iopub.execute_input": "2021-08-19T11:30:08.343635Z",
     "iopub.status.busy": "2021-08-19T11:30:08.341648Z",
     "iopub.status.idle": "2021-08-19T11:30:08.424185Z",
     "shell.execute_reply": "2021-08-19T11:30:08.425395Z"
    },
    "papermill": {
     "duration": 0.111827,
     "end_time": "2021-08-19T11:30:08.425794",
     "exception": false,
     "start_time": "2021-08-19T11:30:08.313967",
     "status": "completed"
    },
    "tags": []
   },
   "outputs": [],
   "source": [
    "timestamps = pd.read_sql(\"select distinct record_time from EBAY_TOP_BERLIN order by record_time desc limit 2\", sqlite3.connect(\"UsedObjects.db\"))"
   ]
  },
  {
   "cell_type": "code",
   "execution_count": 3,
   "id": "periodic-identification",
   "metadata": {
    "execution": {
     "iopub.execute_input": "2021-08-19T11:30:08.490475Z",
     "iopub.status.busy": "2021-08-19T11:30:08.488367Z",
     "iopub.status.idle": "2021-08-19T11:30:08.508300Z",
     "shell.execute_reply": "2021-08-19T11:30:08.509582Z"
    },
    "papermill": {
     "duration": 0.063388,
     "end_time": "2021-08-19T11:30:08.510083",
     "exception": false,
     "start_time": "2021-08-19T11:30:08.446695",
     "status": "completed"
    },
    "tags": []
   },
   "outputs": [
    {
     "data": {
      "text/html": [
       "<div>\n",
       "<style scoped>\n",
       "    .dataframe tbody tr th:only-of-type {\n",
       "        vertical-align: middle;\n",
       "    }\n",
       "\n",
       "    .dataframe tbody tr th {\n",
       "        vertical-align: top;\n",
       "    }\n",
       "\n",
       "    .dataframe thead th {\n",
       "        text-align: right;\n",
       "    }\n",
       "</style>\n",
       "<table border=\"1\" class=\"dataframe\">\n",
       "  <thead>\n",
       "    <tr style=\"text-align: right;\">\n",
       "      <th></th>\n",
       "      <th>RECORD_TIME</th>\n",
       "    </tr>\n",
       "  </thead>\n",
       "  <tbody>\n",
       "    <tr>\n",
       "      <th>0</th>\n",
       "      <td>2021-08-19 13:30</td>\n",
       "    </tr>\n",
       "    <tr>\n",
       "      <th>1</th>\n",
       "      <td>2021-08-19 13:00</td>\n",
       "    </tr>\n",
       "  </tbody>\n",
       "</table>\n",
       "</div>"
      ],
      "text/plain": [
       "        RECORD_TIME\n",
       "0  2021-08-19 13:30\n",
       "1  2021-08-19 13:00"
      ]
     },
     "execution_count": 3,
     "metadata": {},
     "output_type": "execute_result"
    }
   ],
   "source": [
    "timestamps"
   ]
  },
  {
   "cell_type": "code",
   "execution_count": 4,
   "id": "alternate-victory",
   "metadata": {
    "execution": {
     "iopub.execute_input": "2021-08-19T11:30:08.561157Z",
     "iopub.status.busy": "2021-08-19T11:30:08.559347Z",
     "iopub.status.idle": "2021-08-19T11:30:08.681385Z",
     "shell.execute_reply": "2021-08-19T11:30:08.683415Z"
    },
    "papermill": {
     "duration": 0.152906,
     "end_time": "2021-08-19T11:30:08.683979",
     "exception": false,
     "start_time": "2021-08-19T11:30:08.531073",
     "status": "completed"
    },
    "tags": []
   },
   "outputs": [],
   "source": [
    "df = pd.read_sql(\"select * from EBAY_TOP_BERLIN where record_time in (select distinct record_time from EBAY_TOP_BERLIN order by record_time desc limit 2)\", sqlite3.connect(\"UsedObjects.db\"))"
   ]
  },
  {
   "cell_type": "code",
   "execution_count": 5,
   "id": "popular-active",
   "metadata": {
    "execution": {
     "iopub.execute_input": "2021-08-19T11:30:08.754764Z",
     "iopub.status.busy": "2021-08-19T11:30:08.742772Z",
     "iopub.status.idle": "2021-08-19T11:30:08.770314Z",
     "shell.execute_reply": "2021-08-19T11:30:08.771541Z"
    },
    "papermill": {
     "duration": 0.067884,
     "end_time": "2021-08-19T11:30:08.771938",
     "exception": false,
     "start_time": "2021-08-19T11:30:08.704054",
     "status": "completed"
    },
    "tags": []
   },
   "outputs": [],
   "source": [
    "df_pivot = df.pivot_table(index=\"PRODUCT\", columns = \"RECORD_TIME\", values = \"LISTING_COUNT\")"
   ]
  },
  {
   "cell_type": "code",
   "execution_count": 6,
   "id": "union-huntington",
   "metadata": {
    "execution": {
     "iopub.execute_input": "2021-08-19T11:30:08.829437Z",
     "iopub.status.busy": "2021-08-19T11:30:08.827176Z",
     "iopub.status.idle": "2021-08-19T11:30:08.832974Z",
     "shell.execute_reply": "2021-08-19T11:30:08.834607Z"
    },
    "papermill": {
     "duration": 0.041822,
     "end_time": "2021-08-19T11:30:08.835115",
     "exception": false,
     "start_time": "2021-08-19T11:30:08.793293",
     "status": "completed"
    },
    "tags": []
   },
   "outputs": [],
   "source": [
    "df_pivot.columns = [\"stamp_1\", \"stamp_2\"]\n",
    "df_pivot_diff = df_pivot.diff(axis=1)"
   ]
  },
  {
   "cell_type": "code",
   "execution_count": 7,
   "id": "fifth-motion",
   "metadata": {
    "execution": {
     "iopub.execute_input": "2021-08-19T11:30:08.889986Z",
     "iopub.status.busy": "2021-08-19T11:30:08.887668Z",
     "iopub.status.idle": "2021-08-19T11:30:10.394139Z",
     "shell.execute_reply": "2021-08-19T11:30:10.392684Z"
    },
    "papermill": {
     "duration": 1.537706,
     "end_time": "2021-08-19T11:30:10.394534",
     "exception": false,
     "start_time": "2021-08-19T11:30:08.856828",
     "status": "completed"
    },
    "tags": []
   },
   "outputs": [
    {
     "data": {
      "text/plain": [
       "<AxesSubplot:ylabel='PRODUCT'>"
      ]
     },
     "execution_count": 7,
     "metadata": {},
     "output_type": "execute_result"
    },
    {
     "data": {
      "image/png": "[encoded data removed]",
      "text/plain": [
       "<Figure size 432x288 with 1 Axes>"
      ]
     },
     "metadata": {
      "needs_background": "light"
     },
     "output_type": "display_data"
    }
   ],
   "source": [
    "df_pivot_diff.sort_values(\"stamp_2\", ascending = False)[\"stamp_2\"].head(10).plot.barh()"
   ]
  },
  {
   "cell_type": "code",
   "execution_count": null,
   "id": "extra-executive",
   "metadata": {
    "papermill": {
     "duration": 0.022191,
     "end_time": "2021-08-19T11:30:10.441467",
     "exception": false,
     "start_time": "2021-08-19T11:30:10.419276",
     "status": "completed"
    },
    "tags": []
   },
   "outputs": [],
   "source": []
  }
 ],
 "metadata": {
  "kernelspec": {
   "display_name": "Python 3",
   "language": "python",
   "name": "python3"
  },
  "language_info": {
   "codemirror_mode": {
    "name": "ipython",
    "version": 3
   },
   "file_extension": ".py",
   "mimetype": "text/x-python",
   "name": "python",
   "nbconvert_exporter": "python",
   "pygments_lexer": "ipython3",
   "version": "3.9.5"
  },
  "papermill": {
   "default_parameters": {},
   "duration": 6.832648,
   "end_time": "2021-08-19T11:30:11.855114",
   "environment_variables": {},
   "exception": null,
   "input_path": "eBay_Overview.ipynb",
   "output_path": "eBay_Overview.ipynb",
   "parameters": {},
   "start_time": "2021-08-19T11:30:05.022466",
   "version": "2.3.3"
  }
 },
 "nbformat": 4,
 "nbformat_minor": 5
}