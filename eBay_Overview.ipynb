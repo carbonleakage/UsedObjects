{
 "cells": [
  {
   "cell_type": "code",
   "execution_count": 1,
   "id": "reverse-picking",
   "metadata": {
    "execution": {
     "iopub.execute_input": "2021-10-25T03:30:07.018962Z",
     "iopub.status.busy": "2021-10-25T03:30:07.017016Z",
     "iopub.status.idle": "2021-10-25T03:30:07.831494Z",
     "shell.execute_reply": "2021-10-25T03:30:07.829921Z"
    },
    "papermill": {
     "duration": 0.864713,
     "end_time": "2021-10-25T03:30:07.831891",
     "exception": false,
     "start_time": "2021-10-25T03:30:06.967178",
     "status": "completed"
    },
    "tags": []
   },
   "outputs": [],
   "source": [
    "import pandas as pd\n",
    "import sqlite3"
   ]
  },
  {
   "cell_type": "code",
   "execution_count": 2,
   "id": "innovative-syndrome",
   "metadata": {
    "execution": {
     "iopub.execute_input": "2021-10-25T03:30:07.881898Z",
     "iopub.status.busy": "2021-10-25T03:30:07.879924Z",
     "iopub.status.idle": "2021-10-25T03:30:08.512271Z",
     "shell.execute_reply": "2021-10-25T03:30:08.513550Z"
    },
    "papermill": {
     "duration": 0.661499,
     "end_time": "2021-10-25T03:30:08.513952",
     "exception": false,
     "start_time": "2021-10-25T03:30:07.852453",
     "status": "completed"
    },
    "tags": []
   },
   "outputs": [],
   "source": [
    "timestamps = pd.read_sql(\"select distinct record_time from EBAY_TOP_BERLIN order by record_time desc limit 2\", sqlite3.connect(\"UsedObjects.db\"))"
   ]
  },
  {
   "cell_type": "code",
   "execution_count": 3,
   "id": "periodic-identification",
   "metadata": {
    "execution": {
     "iopub.execute_input": "2021-10-25T03:30:08.588562Z",
     "iopub.status.busy": "2021-10-25T03:30:08.586544Z",
     "iopub.status.idle": "2021-10-25T03:30:08.608339Z",
     "shell.execute_reply": "2021-10-25T03:30:08.609782Z"
    },
    "papermill": {
     "duration": 0.071515,
     "end_time": "2021-10-25T03:30:08.610217",
     "exception": false,
     "start_time": "2021-10-25T03:30:08.538702",
     "status": "completed"
    },
    "tags": []
   },
   "outputs": [
    {
     "data": {
      "text/html": [
       "<div>\n",
       "<style scoped>\n",
       "    .dataframe tbody tr th:only-of-type {\n",
       "        vertical-align: middle;\n",
       "    }\n",
       "\n",
       "    .dataframe tbody tr th {\n",
       "        vertical-align: top;\n",
       "    }\n",
       "\n",
       "    .dataframe thead th {\n",
       "        text-align: right;\n",
       "    }\n",
       "</style>\n",
       "<table border=\"1\" class=\"dataframe\">\n",
       "  <thead>\n",
       "    <tr style=\"text-align: right;\">\n",
       "      <th></th>\n",
       "      <th>RECORD_TIME</th>\n",
       "    </tr>\n",
       "  </thead>\n",
       "  <tbody>\n",
       "    <tr>\n",
       "      <th>0</th>\n",
       "      <td>2021-10-25 05:30</td>\n",
       "    </tr>\n",
       "    <tr>\n",
       "      <th>1</th>\n",
       "      <td>2021-10-25 05:00</td>\n",
       "    </tr>\n",
       "  </tbody>\n",
       "</table>\n",
       "</div>"
      ],
      "text/plain": [
       "        RECORD_TIME\n",
       "0  2021-10-25 05:30\n",
       "1  2021-10-25 05:00"
      ]
     },
     "execution_count": 3,
     "metadata": {},
     "output_type": "execute_result"
    }
   ],
   "source": [
    "timestamps"
   ]
  },
  {
   "cell_type": "code",
   "execution_count": 4,
   "id": "alternate-victory",
   "metadata": {
    "execution": {
     "iopub.execute_input": "2021-10-25T03:30:08.661680Z",
     "iopub.status.busy": "2021-10-25T03:30:08.659308Z",
     "iopub.status.idle": "2021-10-25T03:30:09.585885Z",
     "shell.execute_reply": "2021-10-25T03:30:09.587108Z"
    },
    "papermill": {
     "duration": 0.956769,
     "end_time": "2021-10-25T03:30:09.587507",
     "exception": false,
     "start_time": "2021-10-25T03:30:08.630738",
     "status": "completed"
    },
    "tags": []
   },
   "outputs": [],
   "source": [
    "df = pd.read_sql(\"select * from EBAY_TOP_BERLIN where record_time in (select distinct record_time from EBAY_TOP_BERLIN order by record_time desc limit 2)\", sqlite3.connect(\"UsedObjects.db\"))"
   ]
  },
  {
   "cell_type": "code",
   "execution_count": 5,
   "id": "popular-active",
   "metadata": {
    "execution": {
     "iopub.execute_input": "2021-10-25T03:30:09.656563Z",
     "iopub.status.busy": "2021-10-25T03:30:09.644195Z",
     "iopub.status.idle": "2021-10-25T03:30:09.674564Z",
     "shell.execute_reply": "2021-10-25T03:30:09.675929Z"
    },
    "papermill": {
     "duration": 0.068527,
     "end_time": "2021-10-25T03:30:09.676364",
     "exception": false,
     "start_time": "2021-10-25T03:30:09.607837",
     "status": "completed"
    },
    "tags": []
   },
   "outputs": [],
   "source": [
    "df_pivot = df.pivot_table(index=\"PRODUCT\", columns = \"RECORD_TIME\", values = \"LISTING_COUNT\")"
   ]
  },
  {
   "cell_type": "code",
   "execution_count": 6,
   "id": "union-huntington",
   "metadata": {
    "execution": {
     "iopub.execute_input": "2021-10-25T03:30:09.732348Z",
     "iopub.status.busy": "2021-10-25T03:30:09.730292Z",
     "iopub.status.idle": "2021-10-25T03:30:09.735810Z",
     "shell.execute_reply": "2021-10-25T03:30:09.737162Z"
    },
    "papermill": {
     "duration": 0.041143,
     "end_time": "2021-10-25T03:30:09.737586",
     "exception": false,
     "start_time": "2021-10-25T03:30:09.696443",
     "status": "completed"
    },
    "tags": []
   },
   "outputs": [],
   "source": [
    "df_pivot.columns = [\"stamp_1\", \"stamp_2\"]\n",
    "df_pivot_diff = df_pivot.diff(axis=1)"
   ]
  },
  {
   "cell_type": "code",
   "execution_count": 7,
   "id": "fifth-motion",
   "metadata": {
    "execution": {
     "iopub.execute_input": "2021-10-25T03:30:09.791555Z",
     "iopub.status.busy": "2021-10-25T03:30:09.789132Z",
     "iopub.status.idle": "2021-10-25T03:30:11.319882Z",
     "shell.execute_reply": "2021-10-25T03:30:11.321429Z"
    },
    "papermill": {
     "duration": 1.563974,
     "end_time": "2021-10-25T03:30:11.321908",
     "exception": false,
     "start_time": "2021-10-25T03:30:09.757934",
     "status": "completed"
    },
    "tags": []
   },
   "outputs": [
    {
     "data": {
      "text/plain": [
       "<AxesSubplot:ylabel='PRODUCT'>"
      ]
     },
     "execution_count": 7,
     "metadata": {},
     "output_type": "execute_result"
    },
    {
     "data": {
      "image/png": "[encoded data removed]",
      "text/plain": [
       "<Figure size 432x288 with 1 Axes>"
      ]
     },
     "metadata": {
      "needs_background": "light"
     },
     "output_type": "display_data"
    }
   ],
   "source": [
    "df_pivot_diff.sort_values(\"stamp_2\", ascending = False)[\"stamp_2\"].head(10).plot.barh()"
   ]
  },
  {
   "cell_type": "code",
   "execution_count": null,
   "id": "extra-executive",
   "metadata": {
    "papermill": {
     "duration": 0.021931,
     "end_time": "2021-10-25T03:30:11.368427",
     "exception": false,
     "start_time": "2021-10-25T03:30:11.346496",
     "status": "completed"
    },
    "tags": []
   },
   "outputs": [],
   "source": []
  }
 ],
 "metadata": {
  "kernelspec": {
   "display_name": "Python 3",
   "language": "python",
   "name": "python3"
  },
  "language_info": {
   "codemirror_mode": {
    "name": "ipython",
    "version": 3
   },
   "file_extension": ".py",
   "mimetype": "text/x-python",
   "name": "python",
   "nbconvert_exporter": "python",
   "pygments_lexer": "ipython3",
   "version": "3.9.5"
  },
  "papermill": {
   "default_parameters": {},
   "duration": 7.468198,
   "end_time": "2021-10-25T03:30:12.009839",
   "environment_variables": {},
   "exception": null,
   "input_path": "eBay_Overview.ipynb",
   "output_path": "eBay_Overview.ipynb",
   "parameters": {},
   "start_time": "2021-10-25T03:30:04.541641",
   "version": "2.3.3"
  }
 },
 "nbformat": 4,
 "nbformat_minor": 5
}