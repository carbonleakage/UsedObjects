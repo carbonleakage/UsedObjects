{
 "cells": [
  {
   "cell_type": "code",
   "execution_count": 1,
   "id": "reverse-picking",
   "metadata": {
    "execution": {
     "iopub.execute_input": "2021-08-20T06:30:06.460456Z",
     "iopub.status.busy": "2021-08-20T06:30:06.458522Z",
     "iopub.status.idle": "2021-08-20T06:30:07.266721Z",
     "shell.execute_reply": "2021-08-20T06:30:07.267980Z"
    },
    "papermill": {
     "duration": 0.86156,
     "end_time": "2021-08-20T06:30:07.268606",
     "exception": false,
     "start_time": "2021-08-20T06:30:06.407046",
     "status": "completed"
    },
    "tags": []
   },
   "outputs": [],
   "source": [
    "import pandas as pd\n",
    "import sqlite3"
   ]
  },
  {
   "cell_type": "code",
   "execution_count": 2,
   "id": "innovative-syndrome",
   "metadata": {
    "execution": {
     "iopub.execute_input": "2021-08-20T06:30:07.322276Z",
     "iopub.status.busy": "2021-08-20T06:30:07.319929Z",
     "iopub.status.idle": "2021-08-20T06:30:07.408951Z",
     "shell.execute_reply": "2021-08-20T06:30:07.410278Z"
    },
    "papermill": {
     "duration": 0.118997,
     "end_time": "2021-08-20T06:30:07.410724",
     "exception": false,
     "start_time": "2021-08-20T06:30:07.291727",
     "status": "completed"
    },
    "tags": []
   },
   "outputs": [],
   "source": [
    "timestamps = pd.read_sql(\"select distinct record_time from EBAY_TOP_BERLIN order by record_time desc limit 2\", sqlite3.connect(\"UsedObjects.db\"))"
   ]
  },
  {
   "cell_type": "code",
   "execution_count": 3,
   "id": "periodic-identification",
   "metadata": {
    "execution": {
     "iopub.execute_input": "2021-08-20T06:30:07.473567Z",
     "iopub.status.busy": "2021-08-20T06:30:07.471562Z",
     "iopub.status.idle": "2021-08-20T06:30:07.491721Z",
     "shell.execute_reply": "2021-08-20T06:30:07.492994Z"
    },
    "papermill": {
     "duration": 0.063508,
     "end_time": "2021-08-20T06:30:07.493408",
     "exception": false,
     "start_time": "2021-08-20T06:30:07.429900",
     "status": "completed"
    },
    "tags": []
   },
   "outputs": [
    {
     "data": {
      "text/html": [
       "<div>\n",
       "<style scoped>\n",
       "    .dataframe tbody tr th:only-of-type {\n",
       "        vertical-align: middle;\n",
       "    }\n",
       "\n",
       "    .dataframe tbody tr th {\n",
       "        vertical-align: top;\n",
       "    }\n",
       "\n",
       "    .dataframe thead th {\n",
       "        text-align: right;\n",
       "    }\n",
       "</style>\n",
       "<table border=\"1\" class=\"dataframe\">\n",
       "  <thead>\n",
       "    <tr style=\"text-align: right;\">\n",
       "      <th></th>\n",
       "      <th>RECORD_TIME</th>\n",
       "    </tr>\n",
       "  </thead>\n",
       "  <tbody>\n",
       "    <tr>\n",
       "      <th>0</th>\n",
       "      <td>2021-08-20 08:30</td>\n",
       "    </tr>\n",
       "    <tr>\n",
       "      <th>1</th>\n",
       "      <td>2021-08-20 08:00</td>\n",
       "    </tr>\n",
       "  </tbody>\n",
       "</table>\n",
       "</div>"
      ],
      "text/plain": [
       "        RECORD_TIME\n",
       "0  2021-08-20 08:30\n",
       "1  2021-08-20 08:00"
      ]
     },
     "execution_count": 3,
     "metadata": {},
     "output_type": "execute_result"
    }
   ],
   "source": [
    "timestamps"
   ]
  },
  {
   "cell_type": "code",
   "execution_count": 4,
   "id": "alternate-victory",
   "metadata": {
    "execution": {
     "iopub.execute_input": "2021-08-20T06:30:07.544710Z",
     "iopub.status.busy": "2021-08-20T06:30:07.542562Z",
     "iopub.status.idle": "2021-08-20T06:30:07.674652Z",
     "shell.execute_reply": "2021-08-20T06:30:07.675958Z"
    },
    "papermill": {
     "duration": 0.162237,
     "end_time": "2021-08-20T06:30:07.676420",
     "exception": false,
     "start_time": "2021-08-20T06:30:07.514183",
     "status": "completed"
    },
    "tags": []
   },
   "outputs": [],
   "source": [
    "df = pd.read_sql(\"select * from EBAY_TOP_BERLIN where record_time in (select distinct record_time from EBAY_TOP_BERLIN order by record_time desc limit 2)\", sqlite3.connect(\"UsedObjects.db\"))"
   ]
  },
  {
   "cell_type": "code",
   "execution_count": 5,
   "id": "popular-active",
   "metadata": {
    "execution": {
     "iopub.execute_input": "2021-08-20T06:30:07.748753Z",
     "iopub.status.busy": "2021-08-20T06:30:07.737051Z",
     "iopub.status.idle": "2021-08-20T06:30:07.765139Z",
     "shell.execute_reply": "2021-08-20T06:30:07.766605Z"
    },
    "papermill": {
     "duration": 0.070008,
     "end_time": "2021-08-20T06:30:07.767024",
     "exception": false,
     "start_time": "2021-08-20T06:30:07.697016",
     "status": "completed"
    },
    "tags": []
   },
   "outputs": [],
   "source": [
    "df_pivot = df.pivot_table(index=\"PRODUCT\", columns = \"RECORD_TIME\", values = \"LISTING_COUNT\")"
   ]
  },
  {
   "cell_type": "code",
   "execution_count": 6,
   "id": "union-huntington",
   "metadata": {
    "execution": {
     "iopub.execute_input": "2021-08-20T06:30:07.824761Z",
     "iopub.status.busy": "2021-08-20T06:30:07.822471Z",
     "iopub.status.idle": "2021-08-20T06:30:07.828300Z",
     "shell.execute_reply": "2021-08-20T06:30:07.829652Z"
    },
    "papermill": {
     "duration": 0.042027,
     "end_time": "2021-08-20T06:30:07.830138",
     "exception": false,
     "start_time": "2021-08-20T06:30:07.788111",
     "status": "completed"
    },
    "tags": []
   },
   "outputs": [],
   "source": [
    "df_pivot.columns = [\"stamp_1\", \"stamp_2\"]\n",
    "df_pivot_diff = df_pivot.diff(axis=1)"
   ]
  },
  {
   "cell_type": "code",
   "execution_count": 7,
   "id": "fifth-motion",
   "metadata": {
    "execution": {
     "iopub.execute_input": "2021-08-20T06:30:07.884610Z",
     "iopub.status.busy": "2021-08-20T06:30:07.882333Z",
     "iopub.status.idle": "2021-08-20T06:30:09.365165Z",
     "shell.execute_reply": "2021-08-20T06:30:09.366510Z"
    },
    "papermill": {
     "duration": 1.516,
     "end_time": "2021-08-20T06:30:09.366973",
     "exception": false,
     "start_time": "2021-08-20T06:30:07.850973",
     "status": "completed"
    },
    "tags": []
   },
   "outputs": [
    {
     "data": {
      "text/plain": [
       "<AxesSubplot:ylabel='PRODUCT'>"
      ]
     },
     "execution_count": 7,
     "metadata": {},
     "output_type": "execute_result"
    },
    {
     "data": {
      "image/png": "[encoded data removed]",
      "text/plain": [
       "<Figure size 432x288 with 1 Axes>"
      ]
     },
     "metadata": {
      "needs_background": "light"
     },
     "output_type": "display_data"
    }
   ],
   "source": [
    "df_pivot_diff.sort_values(\"stamp_2\", ascending = False)[\"stamp_2\"].head(10).plot.barh()"
   ]
  },
  {
   "cell_type": "code",
   "execution_count": null,
   "id": "extra-executive",
   "metadata": {
    "papermill": {
     "duration": 0.022076,
     "end_time": "2021-08-20T06:30:09.413786",
     "exception": false,
     "start_time": "2021-08-20T06:30:09.391710",
     "status": "completed"
    },
    "tags": []
   },
   "outputs": [],
   "source": []
  }
 ],
 "metadata": {
  "kernelspec": {
   "display_name": "Python 3",
   "language": "python",
   "name": "python3"
  },
  "language_info": {
   "codemirror_mode": {
    "name": "ipython",
    "version": 3
   },
   "file_extension": ".py",
   "mimetype": "text/x-python",
   "name": "python",
   "nbconvert_exporter": "python",
   "pygments_lexer": "ipython3",
   "version": "3.9.5"
  },
  "papermill": {
   "default_parameters": {},
   "duration": 6.823879,
   "end_time": "2021-08-20T06:30:10.815963",
   "environment_variables": {},
   "exception": null,
   "input_path": "eBay_Overview.ipynb",
   "output_path": "eBay_Overview.ipynb",
   "parameters": {},
   "start_time": "2021-08-20T06:30:03.992084",
   "version": "2.3.3"
  }
 },
 "nbformat": 4,
 "nbformat_minor": 5
}