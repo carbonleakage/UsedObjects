{
 "cells": [
  {
   "cell_type": "code",
   "execution_count": 1,
   "id": "reverse-picking",
   "metadata": {
    "execution": {
     "iopub.execute_input": "2021-08-14T02:00:07.111238Z",
     "iopub.status.busy": "2021-08-14T02:00:07.109208Z",
     "iopub.status.idle": "2021-08-14T02:00:07.921371Z",
     "shell.execute_reply": "2021-08-14T02:00:07.922773Z"
    },
    "papermill": {
     "duration": 0.861601,
     "end_time": "2021-08-14T02:00:07.923443",
     "exception": false,
     "start_time": "2021-08-14T02:00:07.061842",
     "status": "completed"
    },
    "tags": []
   },
   "outputs": [],
   "source": [
    "import pandas as pd\n",
    "import sqlite3"
   ]
  },
  {
   "cell_type": "code",
   "execution_count": 2,
   "id": "innovative-syndrome",
   "metadata": {
    "execution": {
     "iopub.execute_input": "2021-08-14T02:00:07.973830Z",
     "iopub.status.busy": "2021-08-14T02:00:07.971850Z",
     "iopub.status.idle": "2021-08-14T02:00:08.016191Z",
     "shell.execute_reply": "2021-08-14T02:00:08.018529Z"
    },
    "papermill": {
     "duration": 0.075257,
     "end_time": "2021-08-14T02:00:08.018979",
     "exception": false,
     "start_time": "2021-08-14T02:00:07.943722",
     "status": "completed"
    },
    "tags": []
   },
   "outputs": [],
   "source": [
    "timestamps = pd.read_sql(\"select distinct record_time from EBAY_TOP_BERLIN order by record_time desc limit 2\", sqlite3.connect(\"UsedObjects.db\"))"
   ]
  },
  {
   "cell_type": "code",
   "execution_count": 3,
   "id": "periodic-identification",
   "metadata": {
    "execution": {
     "iopub.execute_input": "2021-08-14T02:00:08.084357Z",
     "iopub.status.busy": "2021-08-14T02:00:08.082210Z",
     "iopub.status.idle": "2021-08-14T02:00:08.102945Z",
     "shell.execute_reply": "2021-08-14T02:00:08.104208Z"
    },
    "papermill": {
     "duration": 0.06568,
     "end_time": "2021-08-14T02:00:08.104609",
     "exception": false,
     "start_time": "2021-08-14T02:00:08.038929",
     "status": "completed"
    },
    "tags": []
   },
   "outputs": [
    {
     "data": {
      "text/html": [
       "<div>\n",
       "<style scoped>\n",
       "    .dataframe tbody tr th:only-of-type {\n",
       "        vertical-align: middle;\n",
       "    }\n",
       "\n",
       "    .dataframe tbody tr th {\n",
       "        vertical-align: top;\n",
       "    }\n",
       "\n",
       "    .dataframe thead th {\n",
       "        text-align: right;\n",
       "    }\n",
       "</style>\n",
       "<table border=\"1\" class=\"dataframe\">\n",
       "  <thead>\n",
       "    <tr style=\"text-align: right;\">\n",
       "      <th></th>\n",
       "      <th>RECORD_TIME</th>\n",
       "    </tr>\n",
       "  </thead>\n",
       "  <tbody>\n",
       "    <tr>\n",
       "      <th>0</th>\n",
       "      <td>2021-08-14 04:00</td>\n",
       "    </tr>\n",
       "    <tr>\n",
       "      <th>1</th>\n",
       "      <td>2021-08-14 03:30</td>\n",
       "    </tr>\n",
       "  </tbody>\n",
       "</table>\n",
       "</div>"
      ],
      "text/plain": [
       "        RECORD_TIME\n",
       "0  2021-08-14 04:00\n",
       "1  2021-08-14 03:30"
      ]
     },
     "execution_count": 3,
     "metadata": {},
     "output_type": "execute_result"
    }
   ],
   "source": [
    "timestamps"
   ]
  },
  {
   "cell_type": "code",
   "execution_count": 4,
   "id": "alternate-victory",
   "metadata": {
    "execution": {
     "iopub.execute_input": "2021-08-14T02:00:08.157686Z",
     "iopub.status.busy": "2021-08-14T02:00:08.155407Z",
     "iopub.status.idle": "2021-08-14T02:00:08.223589Z",
     "shell.execute_reply": "2021-08-14T02:00:08.224786Z"
    },
    "papermill": {
     "duration": 0.098388,
     "end_time": "2021-08-14T02:00:08.225183",
     "exception": false,
     "start_time": "2021-08-14T02:00:08.126795",
     "status": "completed"
    },
    "tags": []
   },
   "outputs": [],
   "source": [
    "df = pd.read_sql(\"select * from EBAY_TOP_BERLIN where record_time in (select distinct record_time from EBAY_TOP_BERLIN order by record_time desc limit 2)\", sqlite3.connect(\"UsedObjects.db\"))"
   ]
  },
  {
   "cell_type": "code",
   "execution_count": 5,
   "id": "popular-active",
   "metadata": {
    "execution": {
     "iopub.execute_input": "2021-08-14T02:00:08.298824Z",
     "iopub.status.busy": "2021-08-14T02:00:08.287672Z",
     "iopub.status.idle": "2021-08-14T02:00:08.315030Z",
     "shell.execute_reply": "2021-08-14T02:00:08.316307Z"
    },
    "papermill": {
     "duration": 0.069028,
     "end_time": "2021-08-14T02:00:08.316719",
     "exception": false,
     "start_time": "2021-08-14T02:00:08.247691",
     "status": "completed"
    },
    "tags": []
   },
   "outputs": [],
   "source": [
    "df_pivot = df.pivot_table(index=\"PRODUCT\", columns = \"RECORD_TIME\", values = \"LISTING_COUNT\")"
   ]
  },
  {
   "cell_type": "code",
   "execution_count": 6,
   "id": "union-huntington",
   "metadata": {
    "execution": {
     "iopub.execute_input": "2021-08-14T02:00:08.375914Z",
     "iopub.status.busy": "2021-08-14T02:00:08.373413Z",
     "iopub.status.idle": "2021-08-14T02:00:08.379638Z",
     "shell.execute_reply": "2021-08-14T02:00:08.381068Z"
    },
    "papermill": {
     "duration": 0.042602,
     "end_time": "2021-08-14T02:00:08.381529",
     "exception": false,
     "start_time": "2021-08-14T02:00:08.338927",
     "status": "completed"
    },
    "tags": []
   },
   "outputs": [],
   "source": [
    "df_pivot.columns = [\"stamp_1\", \"stamp_2\"]\n",
    "df_pivot_diff = df_pivot.diff(axis=1)"
   ]
  },
  {
   "cell_type": "code",
   "execution_count": 7,
   "id": "fifth-motion",
   "metadata": {
    "execution": {
     "iopub.execute_input": "2021-08-14T02:00:08.436428Z",
     "iopub.status.busy": "2021-08-14T02:00:08.434041Z",
     "iopub.status.idle": "2021-08-14T02:00:09.966286Z",
     "shell.execute_reply": "2021-08-14T02:00:09.967568Z"
    },
    "papermill": {
     "duration": 1.565068,
     "end_time": "2021-08-14T02:00:09.967989",
     "exception": false,
     "start_time": "2021-08-14T02:00:08.402921",
     "status": "completed"
    },
    "tags": []
   },
   "outputs": [
    {
     "data": {
      "text/plain": [
       "<AxesSubplot:ylabel='PRODUCT'>"
      ]
     },
     "execution_count": 7,
     "metadata": {},
     "output_type": "execute_result"
    },
    {
     "data": {
      "image/png": "[encoded data removed]",
      "text/plain": [
       "<Figure size 432x288 with 1 Axes>"
      ]
     },
     "metadata": {
      "needs_background": "light"
     },
     "output_type": "display_data"
    }
   ],
   "source": [
    "df_pivot_diff.sort_values(\"stamp_2\", ascending = False)[\"stamp_2\"].head(10).plot.barh()"
   ]
  },
  {
   "cell_type": "code",
   "execution_count": null,
   "id": "extra-executive",
   "metadata": {
    "papermill": {
     "duration": 0.022134,
     "end_time": "2021-08-14T02:00:10.014814",
     "exception": false,
     "start_time": "2021-08-14T02:00:09.992680",
     "status": "completed"
    },
    "tags": []
   },
   "outputs": [],
   "source": []
  }
 ],
 "metadata": {
  "kernelspec": {
   "display_name": "Python 3",
   "language": "python",
   "name": "python3"
  },
  "language_info": {
   "codemirror_mode": {
    "name": "ipython",
    "version": 3
   },
   "file_extension": ".py",
   "mimetype": "text/x-python",
   "name": "python",
   "nbconvert_exporter": "python",
   "pygments_lexer": "ipython3",
   "version": "3.9.5"
  },
  "papermill": {
   "default_parameters": {},
   "duration": 6.829256,
   "end_time": "2021-08-14T02:00:11.471860",
   "environment_variables": {},
   "exception": null,
   "input_path": "eBay_Overview.ipynb",
   "output_path": "eBay_Overview.ipynb",
   "parameters": {},
   "start_time": "2021-08-14T02:00:04.642604",
   "version": "2.3.3"
  }
 },
 "nbformat": 4,
 "nbformat_minor": 5
}