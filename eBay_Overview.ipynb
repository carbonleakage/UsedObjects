{
 "cells": [
  {
   "cell_type": "code",
   "execution_count": 1,
   "id": "reverse-picking",
   "metadata": {
    "execution": {
     "iopub.execute_input": "2021-08-11T14:30:03.653256Z",
     "iopub.status.busy": "2021-08-11T14:30:03.652473Z",
     "iopub.status.idle": "2021-08-11T14:30:04.254268Z",
     "shell.execute_reply": "2021-08-11T14:30:04.253557Z"
    },
    "papermill": {
     "duration": 0.620865,
     "end_time": "2021-08-11T14:30:04.254458",
     "exception": false,
     "start_time": "2021-08-11T14:30:03.633593",
     "status": "completed"
    },
    "tags": []
   },
   "outputs": [],
   "source": [
    "import pandas as pd\n",
    "import sqlite3"
   ]
  },
  {
   "cell_type": "code",
   "execution_count": 2,
   "id": "innovative-syndrome",
   "metadata": {
    "execution": {
     "iopub.execute_input": "2021-08-11T14:30:04.275613Z",
     "iopub.status.busy": "2021-08-11T14:30:04.274832Z",
     "iopub.status.idle": "2021-08-11T14:30:04.485459Z",
     "shell.execute_reply": "2021-08-11T14:30:04.486627Z"
    },
    "papermill": {
     "duration": 0.223994,
     "end_time": "2021-08-11T14:30:04.486950",
     "exception": false,
     "start_time": "2021-08-11T14:30:04.262956",
     "status": "completed"
    },
    "tags": []
   },
   "outputs": [],
   "source": [
    "timestamps = pd.read_sql(\"select distinct record_time from EBAY_TOP_BERLIN order by record_time desc limit 2\", sqlite3.connect(\"UsedObjects.db\"))"
   ]
  },
  {
   "cell_type": "code",
   "execution_count": 3,
   "id": "periodic-identification",
   "metadata": {
    "execution": {
     "iopub.execute_input": "2021-08-11T14:30:04.516895Z",
     "iopub.status.busy": "2021-08-11T14:30:04.516120Z",
     "iopub.status.idle": "2021-08-11T14:30:04.528422Z",
     "shell.execute_reply": "2021-08-11T14:30:04.527852Z"
    },
    "papermill": {
     "duration": 0.031132,
     "end_time": "2021-08-11T14:30:04.528572",
     "exception": false,
     "start_time": "2021-08-11T14:30:04.497440",
     "status": "completed"
    },
    "tags": []
   },
   "outputs": [
    {
     "data": {
      "text/html": [
       "<div>\n",
       "<style scoped>\n",
       "    .dataframe tbody tr th:only-of-type {\n",
       "        vertical-align: middle;\n",
       "    }\n",
       "\n",
       "    .dataframe tbody tr th {\n",
       "        vertical-align: top;\n",
       "    }\n",
       "\n",
       "    .dataframe thead th {\n",
       "        text-align: right;\n",
       "    }\n",
       "</style>\n",
       "<table border=\"1\" class=\"dataframe\">\n",
       "  <thead>\n",
       "    <tr style=\"text-align: right;\">\n",
       "      <th></th>\n",
       "      <th>RECORD_TIME</th>\n",
       "    </tr>\n",
       "  </thead>\n",
       "  <tbody>\n",
       "    <tr>\n",
       "      <th>0</th>\n",
       "      <td>2021-08-11 16:30</td>\n",
       "    </tr>\n",
       "    <tr>\n",
       "      <th>1</th>\n",
       "      <td>2021-08-11 16:00</td>\n",
       "    </tr>\n",
       "  </tbody>\n",
       "</table>\n",
       "</div>"
      ],
      "text/plain": [
       "        RECORD_TIME\n",
       "0  2021-08-11 16:30\n",
       "1  2021-08-11 16:00"
      ]
     },
     "execution_count": 3,
     "metadata": {},
     "output_type": "execute_result"
    }
   ],
   "source": [
    "timestamps"
   ]
  },
  {
   "cell_type": "code",
   "execution_count": 4,
   "id": "alternate-victory",
   "metadata": {
    "execution": {
     "iopub.execute_input": "2021-08-11T14:30:04.549859Z",
     "iopub.status.busy": "2021-08-11T14:30:04.549046Z",
     "iopub.status.idle": "2021-08-11T14:30:04.570778Z",
     "shell.execute_reply": "2021-08-11T14:30:04.569344Z"
    },
    "papermill": {
     "duration": 0.034192,
     "end_time": "2021-08-11T14:30:04.571058",
     "exception": false,
     "start_time": "2021-08-11T14:30:04.536866",
     "status": "completed"
    },
    "tags": []
   },
   "outputs": [],
   "source": [
    "df = pd.read_sql(\"select * from EBAY_TOP_BERLIN where record_time in (select distinct record_time from EBAY_TOP_BERLIN order by record_time desc limit 2)\", sqlite3.connect(\"UsedObjects.db\"))"
   ]
  },
  {
   "cell_type": "code",
   "execution_count": 5,
   "id": "popular-active",
   "metadata": {
    "execution": {
     "iopub.execute_input": "2021-08-11T14:30:04.599859Z",
     "iopub.status.busy": "2021-08-11T14:30:04.599087Z",
     "iopub.status.idle": "2021-08-11T14:30:04.622592Z",
     "shell.execute_reply": "2021-08-11T14:30:04.623400Z"
    },
    "papermill": {
     "duration": 0.04226,
     "end_time": "2021-08-11T14:30:04.623679",
     "exception": false,
     "start_time": "2021-08-11T14:30:04.581419",
     "status": "completed"
    },
    "tags": []
   },
   "outputs": [],
   "source": [
    "df_pivot = df.pivot_table(index=\"PRODUCT\", columns = \"RECORD_TIME\", values = \"LISTING_COUNT\")"
   ]
  },
  {
   "cell_type": "code",
   "execution_count": 6,
   "id": "union-huntington",
   "metadata": {
    "execution": {
     "iopub.execute_input": "2021-08-11T14:30:04.649152Z",
     "iopub.status.busy": "2021-08-11T14:30:04.648384Z",
     "iopub.status.idle": "2021-08-11T14:30:04.650794Z",
     "shell.execute_reply": "2021-08-11T14:30:04.651360Z"
    },
    "papermill": {
     "duration": 0.018913,
     "end_time": "2021-08-11T14:30:04.651551",
     "exception": false,
     "start_time": "2021-08-11T14:30:04.632638",
     "status": "completed"
    },
    "tags": []
   },
   "outputs": [],
   "source": [
    "df_pivot.columns = [\"stamp_1\", \"stamp_2\"]\n",
    "df_pivot_diff = df_pivot.diff(axis=1)"
   ]
  },
  {
   "cell_type": "code",
   "execution_count": 7,
   "id": "fifth-motion",
   "metadata": {
    "execution": {
     "iopub.execute_input": "2021-08-11T14:30:04.680250Z",
     "iopub.status.busy": "2021-08-11T14:30:04.678694Z",
     "iopub.status.idle": "2021-08-11T14:30:05.343230Z",
     "shell.execute_reply": "2021-08-11T14:30:05.343772Z"
    },
    "papermill": {
     "duration": 0.684011,
     "end_time": "2021-08-11T14:30:05.343950",
     "exception": false,
     "start_time": "2021-08-11T14:30:04.659939",
     "status": "completed"
    },
    "tags": []
   },
   "outputs": [
    {
     "data": {
      "text/plain": [
       "<AxesSubplot:ylabel='PRODUCT'>"
      ]
     },
     "execution_count": 7,
     "metadata": {},
     "output_type": "execute_result"
    },
    {
     "data": {
      "image/png": "[encoded data removed]",
      "text/plain": [
       "<Figure size 432x288 with 1 Axes>"
      ]
     },
     "metadata": {
      "needs_background": "light"
     },
     "output_type": "display_data"
    }
   ],
   "source": [
    "df_pivot_diff.sort_values(\"stamp_2\", ascending = False)[\"stamp_2\"].head(10).plot.barh()"
   ]
  },
  {
   "cell_type": "code",
   "execution_count": null,
   "id": "extra-executive",
   "metadata": {
    "papermill": {
     "duration": 0.010936,
     "end_time": "2021-08-11T14:30:05.368647",
     "exception": false,
     "start_time": "2021-08-11T14:30:05.357711",
     "status": "completed"
    },
    "tags": []
   },
   "outputs": [],
   "source": []
  }
 ],
 "metadata": {
  "kernelspec": {
   "display_name": "Python 3",
   "language": "python",
   "name": "python3"
  },
  "language_info": {
   "codemirror_mode": {
    "name": "ipython",
    "version": 3
   },
   "file_extension": ".py",
   "mimetype": "text/x-python",
   "name": "python",
   "nbconvert_exporter": "python",
   "pygments_lexer": "ipython3",
   "version": "3.8.8"
  },
  "papermill": {
   "default_parameters": {},
   "duration": 4.960935,
   "end_time": "2021-08-11T14:30:06.949854",
   "environment_variables": {},
   "exception": null,
   "input_path": "/Users/saravananshanmugam/Carbonleakage_Git/UsedObjects/eBay_Overview.ipynb",
   "output_path": "/Users/saravananshanmugam/Carbonleakage_Git/UsedObjects/eBay_Overview.ipynb",
   "parameters": {},
   "start_time": "2021-08-11T14:30:01.988919",
   "version": "2.3.3"
  }
 },
 "nbformat": 4,
 "nbformat_minor": 5
}