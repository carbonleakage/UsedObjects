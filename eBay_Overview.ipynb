{
 "cells": [
  {
   "cell_type": "code",
   "execution_count": 1,
   "id": "reverse-picking",
   "metadata": {
    "execution": {
     "iopub.execute_input": "2021-12-11T04:30:07.895351Z",
     "iopub.status.busy": "2021-12-11T04:30:07.884345Z",
     "iopub.status.idle": "2021-12-11T04:30:08.845466Z",
     "shell.execute_reply": "2021-12-11T04:30:08.847541Z"
    },
    "papermill": {
     "duration": 1.009504,
     "end_time": "2021-12-11T04:30:08.848828",
     "exception": false,
     "start_time": "2021-12-11T04:30:07.839324",
     "status": "completed"
    },
    "tags": []
   },
   "outputs": [],
   "source": [
    "import pandas as pd\n",
    "import sqlite3"
   ]
  },
  {
   "cell_type": "code",
   "execution_count": 2,
   "id": "innovative-syndrome",
   "metadata": {
    "execution": {
     "iopub.execute_input": "2021-12-11T04:30:08.915430Z",
     "iopub.status.busy": "2021-12-11T04:30:08.913140Z",
     "iopub.status.idle": "2021-12-11T04:30:09.976392Z",
     "shell.execute_reply": "2021-12-11T04:30:09.977946Z"
    },
    "papermill": {
     "duration": 1.098102,
     "end_time": "2021-12-11T04:30:09.978427",
     "exception": false,
     "start_time": "2021-12-11T04:30:08.880325",
     "status": "completed"
    },
    "tags": []
   },
   "outputs": [],
   "source": [
    "timestamps = pd.read_sql(\"select distinct record_time from EBAY_TOP_BERLIN order by record_time desc limit 2\", sqlite3.connect(\"UsedObjects.db\"))"
   ]
  },
  {
   "cell_type": "code",
   "execution_count": 3,
   "id": "periodic-identification",
   "metadata": {
    "execution": {
     "iopub.execute_input": "2021-12-11T04:30:10.052529Z",
     "iopub.status.busy": "2021-12-11T04:30:10.049544Z",
     "iopub.status.idle": "2021-12-11T04:30:10.072068Z",
     "shell.execute_reply": "2021-12-11T04:30:10.073600Z"
    },
    "papermill": {
     "duration": 0.074695,
     "end_time": "2021-12-11T04:30:10.074115",
     "exception": false,
     "start_time": "2021-12-11T04:30:09.999420",
     "status": "completed"
    },
    "tags": []
   },
   "outputs": [
    {
     "data": {
      "text/html": [
       "<div>\n",
       "<style scoped>\n",
       "    .dataframe tbody tr th:only-of-type {\n",
       "        vertical-align: middle;\n",
       "    }\n",
       "\n",
       "    .dataframe tbody tr th {\n",
       "        vertical-align: top;\n",
       "    }\n",
       "\n",
       "    .dataframe thead th {\n",
       "        text-align: right;\n",
       "    }\n",
       "</style>\n",
       "<table border=\"1\" class=\"dataframe\">\n",
       "  <thead>\n",
       "    <tr style=\"text-align: right;\">\n",
       "      <th></th>\n",
       "      <th>RECORD_TIME</th>\n",
       "    </tr>\n",
       "  </thead>\n",
       "  <tbody>\n",
       "    <tr>\n",
       "      <th>0</th>\n",
       "      <td>2021-12-11 05:30</td>\n",
       "    </tr>\n",
       "    <tr>\n",
       "      <th>1</th>\n",
       "      <td>2021-12-11 05:00</td>\n",
       "    </tr>\n",
       "  </tbody>\n",
       "</table>\n",
       "</div>"
      ],
      "text/plain": [
       "        RECORD_TIME\n",
       "0  2021-12-11 05:30\n",
       "1  2021-12-11 05:00"
      ]
     },
     "execution_count": 3,
     "metadata": {},
     "output_type": "execute_result"
    }
   ],
   "source": [
    "timestamps"
   ]
  },
  {
   "cell_type": "code",
   "execution_count": 4,
   "id": "alternate-victory",
   "metadata": {
    "execution": {
     "iopub.execute_input": "2021-12-11T04:30:10.131308Z",
     "iopub.status.busy": "2021-12-11T04:30:10.129034Z",
     "iopub.status.idle": "2021-12-11T04:30:11.686835Z",
     "shell.execute_reply": "2021-12-11T04:30:11.688604Z"
    },
    "papermill": {
     "duration": 1.592888,
     "end_time": "2021-12-11T04:30:11.689161",
     "exception": false,
     "start_time": "2021-12-11T04:30:10.096273",
     "status": "completed"
    },
    "tags": []
   },
   "outputs": [],
   "source": [
    "df = pd.read_sql(\"select * from EBAY_TOP_BERLIN where record_time in (select distinct record_time from EBAY_TOP_BERLIN order by record_time desc limit 2)\", sqlite3.connect(\"UsedObjects.db\"))"
   ]
  },
  {
   "cell_type": "code",
   "execution_count": 5,
   "id": "popular-active",
   "metadata": {
    "execution": {
     "iopub.execute_input": "2021-12-11T04:30:11.766668Z",
     "iopub.status.busy": "2021-12-11T04:30:11.754682Z",
     "iopub.status.idle": "2021-12-11T04:30:11.784803Z",
     "shell.execute_reply": "2021-12-11T04:30:11.786090Z"
    },
    "papermill": {
     "duration": 0.075124,
     "end_time": "2021-12-11T04:30:11.786536",
     "exception": false,
     "start_time": "2021-12-11T04:30:11.711412",
     "status": "completed"
    },
    "tags": []
   },
   "outputs": [],
   "source": [
    "df_pivot = df.pivot_table(index=\"PRODUCT\", columns = \"RECORD_TIME\", values = \"LISTING_COUNT\")"
   ]
  },
  {
   "cell_type": "code",
   "execution_count": 6,
   "id": "union-huntington",
   "metadata": {
    "execution": {
     "iopub.execute_input": "2021-12-11T04:30:11.846531Z",
     "iopub.status.busy": "2021-12-11T04:30:11.843700Z",
     "iopub.status.idle": "2021-12-11T04:30:11.850682Z",
     "shell.execute_reply": "2021-12-11T04:30:11.852314Z"
    },
    "papermill": {
     "duration": 0.045767,
     "end_time": "2021-12-11T04:30:11.852843",
     "exception": false,
     "start_time": "2021-12-11T04:30:11.807076",
     "status": "completed"
    },
    "tags": []
   },
   "outputs": [],
   "source": [
    "df_pivot.columns = [\"stamp_1\", \"stamp_2\"]\n",
    "df_pivot_diff = df_pivot.diff(axis=1)"
   ]
  },
  {
   "cell_type": "code",
   "execution_count": 7,
   "id": "fifth-motion",
   "metadata": {
    "execution": {
     "iopub.execute_input": "2021-12-11T04:30:11.915162Z",
     "iopub.status.busy": "2021-12-11T04:30:11.912416Z",
     "iopub.status.idle": "2021-12-11T04:30:13.825934Z",
     "shell.execute_reply": "2021-12-11T04:30:13.828505Z"
    },
    "papermill": {
     "duration": 1.952033,
     "end_time": "2021-12-11T04:30:13.829394",
     "exception": false,
     "start_time": "2021-12-11T04:30:11.877361",
     "status": "completed"
    },
    "tags": []
   },
   "outputs": [
    {
     "data": {
      "text/plain": [
       "<AxesSubplot:ylabel='PRODUCT'>"
      ]
     },
     "execution_count": 7,
     "metadata": {},
     "output_type": "execute_result"
    },
    {
     "data": {
      "image/png": "[encoded data removed]",
      "text/plain": [
       "<Figure size 432x288 with 1 Axes>"
      ]
     },
     "metadata": {
      "needs_background": "light"
     },
     "output_type": "display_data"
    }
   ],
   "source": [
    "df_pivot_diff.sort_values(\"stamp_2\", ascending = False)[\"stamp_2\"].head(10).plot.barh()"
   ]
  },
  {
   "cell_type": "code",
   "execution_count": null,
   "id": "extra-executive",
   "metadata": {
    "papermill": {
     "duration": 0.072643,
     "end_time": "2021-12-11T04:30:13.939563",
     "exception": false,
     "start_time": "2021-12-11T04:30:13.866920",
     "status": "completed"
    },
    "tags": []
   },
   "outputs": [],
   "source": []
  }
 ],
 "metadata": {
  "kernelspec": {
   "display_name": "Python 3",
   "language": "python",
   "name": "python3"
  },
  "language_info": {
   "codemirror_mode": {
    "name": "ipython",
    "version": 3
   },
   "file_extension": ".py",
   "mimetype": "text/x-python",
   "name": "python",
   "nbconvert_exporter": "python",
   "pygments_lexer": "ipython3",
   "version": "3.9.5"
  },
  "papermill": {
   "default_parameters": {},
   "duration": 9.614895,
   "end_time": "2021-12-11T04:30:14.703523",
   "environment_variables": {},
   "exception": null,
   "input_path": "eBay_Overview.ipynb",
   "output_path": "eBay_Overview.ipynb",
   "parameters": {},
   "start_time": "2021-12-11T04:30:05.088628",
   "version": "2.3.3"
  }
 },
 "nbformat": 4,
 "nbformat_minor": 5
}