{
 "cells": [
  {
   "cell_type": "code",
   "execution_count": 1,
   "id": "reverse-picking",
   "metadata": {
    "execution": {
     "iopub.execute_input": "2021-10-30T12:00:06.670891Z",
     "iopub.status.busy": "2021-10-30T12:00:06.668931Z",
     "iopub.status.idle": "2021-10-30T12:00:07.473618Z",
     "shell.execute_reply": "2021-10-30T12:00:07.474893Z"
    },
    "papermill": {
     "duration": 0.857154,
     "end_time": "2021-10-30T12:00:07.475511",
     "exception": false,
     "start_time": "2021-10-30T12:00:06.618357",
     "status": "completed"
    },
    "tags": []
   },
   "outputs": [],
   "source": [
    "import pandas as pd\n",
    "import sqlite3"
   ]
  },
  {
   "cell_type": "code",
   "execution_count": 2,
   "id": "innovative-syndrome",
   "metadata": {
    "execution": {
     "iopub.execute_input": "2021-10-30T12:00:07.528886Z",
     "iopub.status.busy": "2021-10-30T12:00:07.526552Z",
     "iopub.status.idle": "2021-10-30T12:00:08.223034Z",
     "shell.execute_reply": "2021-10-30T12:00:08.224283Z"
    },
    "papermill": {
     "duration": 0.726847,
     "end_time": "2021-10-30T12:00:08.224749",
     "exception": false,
     "start_time": "2021-10-30T12:00:07.497902",
     "status": "completed"
    },
    "tags": []
   },
   "outputs": [],
   "source": [
    "timestamps = pd.read_sql(\"select distinct record_time from EBAY_TOP_BERLIN order by record_time desc limit 2\", sqlite3.connect(\"UsedObjects.db\"))"
   ]
  },
  {
   "cell_type": "code",
   "execution_count": 3,
   "id": "periodic-identification",
   "metadata": {
    "execution": {
     "iopub.execute_input": "2021-10-30T12:00:08.300314Z",
     "iopub.status.busy": "2021-10-30T12:00:08.298306Z",
     "iopub.status.idle": "2021-10-30T12:00:08.318127Z",
     "shell.execute_reply": "2021-10-30T12:00:08.319404Z"
    },
    "papermill": {
     "duration": 0.070017,
     "end_time": "2021-10-30T12:00:08.319811",
     "exception": false,
     "start_time": "2021-10-30T12:00:08.249794",
     "status": "completed"
    },
    "tags": []
   },
   "outputs": [
    {
     "data": {
      "text/html": [
       "<div>\n",
       "<style scoped>\n",
       "    .dataframe tbody tr th:only-of-type {\n",
       "        vertical-align: middle;\n",
       "    }\n",
       "\n",
       "    .dataframe tbody tr th {\n",
       "        vertical-align: top;\n",
       "    }\n",
       "\n",
       "    .dataframe thead th {\n",
       "        text-align: right;\n",
       "    }\n",
       "</style>\n",
       "<table border=\"1\" class=\"dataframe\">\n",
       "  <thead>\n",
       "    <tr style=\"text-align: right;\">\n",
       "      <th></th>\n",
       "      <th>RECORD_TIME</th>\n",
       "    </tr>\n",
       "  </thead>\n",
       "  <tbody>\n",
       "    <tr>\n",
       "      <th>0</th>\n",
       "      <td>2021-10-30 14:00</td>\n",
       "    </tr>\n",
       "    <tr>\n",
       "      <th>1</th>\n",
       "      <td>2021-10-30 13:30</td>\n",
       "    </tr>\n",
       "  </tbody>\n",
       "</table>\n",
       "</div>"
      ],
      "text/plain": [
       "        RECORD_TIME\n",
       "0  2021-10-30 14:00\n",
       "1  2021-10-30 13:30"
      ]
     },
     "execution_count": 3,
     "metadata": {},
     "output_type": "execute_result"
    }
   ],
   "source": [
    "timestamps"
   ]
  },
  {
   "cell_type": "code",
   "execution_count": 4,
   "id": "alternate-victory",
   "metadata": {
    "execution": {
     "iopub.execute_input": "2021-10-30T12:00:08.370512Z",
     "iopub.status.busy": "2021-10-30T12:00:08.368549Z",
     "iopub.status.idle": "2021-10-30T12:00:09.376114Z",
     "shell.execute_reply": "2021-10-30T12:00:09.377392Z"
    },
    "papermill": {
     "duration": 1.037512,
     "end_time": "2021-10-30T12:00:09.377800",
     "exception": false,
     "start_time": "2021-10-30T12:00:08.340288",
     "status": "completed"
    },
    "tags": []
   },
   "outputs": [],
   "source": [
    "df = pd.read_sql(\"select * from EBAY_TOP_BERLIN where record_time in (select distinct record_time from EBAY_TOP_BERLIN order by record_time desc limit 2)\", sqlite3.connect(\"UsedObjects.db\"))"
   ]
  },
  {
   "cell_type": "code",
   "execution_count": 5,
   "id": "popular-active",
   "metadata": {
    "execution": {
     "iopub.execute_input": "2021-10-30T12:00:09.448827Z",
     "iopub.status.busy": "2021-10-30T12:00:09.437275Z",
     "iopub.status.idle": "2021-10-30T12:00:09.464852Z",
     "shell.execute_reply": "2021-10-30T12:00:09.466137Z"
    },
    "papermill": {
     "duration": 0.068009,
     "end_time": "2021-10-30T12:00:09.466547",
     "exception": false,
     "start_time": "2021-10-30T12:00:09.398538",
     "status": "completed"
    },
    "tags": []
   },
   "outputs": [],
   "source": [
    "df_pivot = df.pivot_table(index=\"PRODUCT\", columns = \"RECORD_TIME\", values = \"LISTING_COUNT\")"
   ]
  },
  {
   "cell_type": "code",
   "execution_count": 6,
   "id": "union-huntington",
   "metadata": {
    "execution": {
     "iopub.execute_input": "2021-10-30T12:00:09.522497Z",
     "iopub.status.busy": "2021-10-30T12:00:09.520398Z",
     "iopub.status.idle": "2021-10-30T12:00:09.525625Z",
     "shell.execute_reply": "2021-10-30T12:00:09.526916Z"
    },
    "papermill": {
     "duration": 0.040317,
     "end_time": "2021-10-30T12:00:09.527327",
     "exception": false,
     "start_time": "2021-10-30T12:00:09.487010",
     "status": "completed"
    },
    "tags": []
   },
   "outputs": [],
   "source": [
    "df_pivot.columns = [\"stamp_1\", \"stamp_2\"]\n",
    "df_pivot_diff = df_pivot.diff(axis=1)"
   ]
  },
  {
   "cell_type": "code",
   "execution_count": 7,
   "id": "fifth-motion",
   "metadata": {
    "execution": {
     "iopub.execute_input": "2021-10-30T12:00:09.583483Z",
     "iopub.status.busy": "2021-10-30T12:00:09.580838Z",
     "iopub.status.idle": "2021-10-30T12:00:11.086559Z",
     "shell.execute_reply": "2021-10-30T12:00:11.087810Z"
    },
    "papermill": {
     "duration": 1.539363,
     "end_time": "2021-10-30T12:00:11.088220",
     "exception": false,
     "start_time": "2021-10-30T12:00:09.548857",
     "status": "completed"
    },
    "tags": []
   },
   "outputs": [
    {
     "data": {
      "text/plain": [
       "<AxesSubplot:ylabel='PRODUCT'>"
      ]
     },
     "execution_count": 7,
     "metadata": {},
     "output_type": "execute_result"
    },
    {
     "data": {
      "image/png": "[encoded data removed]",
      "text/plain": [
       "<Figure size 432x288 with 1 Axes>"
      ]
     },
     "metadata": {
      "needs_background": "light"
     },
     "output_type": "display_data"
    }
   ],
   "source": [
    "df_pivot_diff.sort_values(\"stamp_2\", ascending = False)[\"stamp_2\"].head(10).plot.barh()"
   ]
  },
  {
   "cell_type": "code",
   "execution_count": null,
   "id": "extra-executive",
   "metadata": {
    "papermill": {
     "duration": 0.022525,
     "end_time": "2021-10-30T12:00:11.135064",
     "exception": false,
     "start_time": "2021-10-30T12:00:11.112539",
     "status": "completed"
    },
    "tags": []
   },
   "outputs": [],
   "source": []
  }
 ],
 "metadata": {
  "kernelspec": {
   "display_name": "Python 3",
   "language": "python",
   "name": "python3"
  },
  "language_info": {
   "codemirror_mode": {
    "name": "ipython",
    "version": 3
   },
   "file_extension": ".py",
   "mimetype": "text/x-python",
   "name": "python",
   "nbconvert_exporter": "python",
   "pygments_lexer": "ipython3",
   "version": "3.9.5"
  },
  "papermill": {
   "default_parameters": {},
   "duration": 7.571779,
   "end_time": "2021-10-30T12:00:11.778530",
   "environment_variables": {},
   "exception": null,
   "input_path": "eBay_Overview.ipynb",
   "output_path": "eBay_Overview.ipynb",
   "parameters": {},
   "start_time": "2021-10-30T12:00:04.206751",
   "version": "2.3.3"
  }
 },
 "nbformat": 4,
 "nbformat_minor": 5
}