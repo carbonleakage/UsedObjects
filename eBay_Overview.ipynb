{
 "cells": [
  {
   "cell_type": "code",
   "execution_count": 1,
   "id": "reverse-picking",
   "metadata": {
    "execution": {
     "iopub.execute_input": "2021-09-12T15:30:06.828047Z",
     "iopub.status.busy": "2021-09-12T15:30:06.825953Z",
     "iopub.status.idle": "2021-09-12T15:30:07.638237Z",
     "shell.execute_reply": "2021-09-12T15:30:07.636497Z"
    },
    "papermill": {
     "duration": 0.860406,
     "end_time": "2021-09-12T15:30:07.638675",
     "exception": false,
     "start_time": "2021-09-12T15:30:06.778269",
     "status": "completed"
    },
    "tags": []
   },
   "outputs": [],
   "source": [
    "import pandas as pd\n",
    "import sqlite3"
   ]
  },
  {
   "cell_type": "code",
   "execution_count": 2,
   "id": "innovative-syndrome",
   "metadata": {
    "execution": {
     "iopub.execute_input": "2021-09-12T15:30:07.690208Z",
     "iopub.status.busy": "2021-09-12T15:30:07.688175Z",
     "iopub.status.idle": "2021-09-12T15:30:07.966747Z",
     "shell.execute_reply": "2021-09-12T15:30:07.968018Z"
    },
    "papermill": {
     "duration": 0.308828,
     "end_time": "2021-09-12T15:30:07.968418",
     "exception": false,
     "start_time": "2021-09-12T15:30:07.659590",
     "status": "completed"
    },
    "tags": []
   },
   "outputs": [],
   "source": [
    "timestamps = pd.read_sql(\"select distinct record_time from EBAY_TOP_BERLIN order by record_time desc limit 2\", sqlite3.connect(\"UsedObjects.db\"))"
   ]
  },
  {
   "cell_type": "code",
   "execution_count": 3,
   "id": "periodic-identification",
   "metadata": {
    "execution": {
     "iopub.execute_input": "2021-09-12T15:30:08.033887Z",
     "iopub.status.busy": "2021-09-12T15:30:08.029035Z",
     "iopub.status.idle": "2021-09-12T15:30:08.050493Z",
     "shell.execute_reply": "2021-09-12T15:30:08.051893Z"
    },
    "papermill": {
     "duration": 0.064826,
     "end_time": "2021-09-12T15:30:08.052319",
     "exception": false,
     "start_time": "2021-09-12T15:30:07.987493",
     "status": "completed"
    },
    "tags": []
   },
   "outputs": [
    {
     "data": {
      "text/html": [
       "<div>\n",
       "<style scoped>\n",
       "    .dataframe tbody tr th:only-of-type {\n",
       "        vertical-align: middle;\n",
       "    }\n",
       "\n",
       "    .dataframe tbody tr th {\n",
       "        vertical-align: top;\n",
       "    }\n",
       "\n",
       "    .dataframe thead th {\n",
       "        text-align: right;\n",
       "    }\n",
       "</style>\n",
       "<table border=\"1\" class=\"dataframe\">\n",
       "  <thead>\n",
       "    <tr style=\"text-align: right;\">\n",
       "      <th></th>\n",
       "      <th>RECORD_TIME</th>\n",
       "    </tr>\n",
       "  </thead>\n",
       "  <tbody>\n",
       "    <tr>\n",
       "      <th>0</th>\n",
       "      <td>2021-09-12 17:30</td>\n",
       "    </tr>\n",
       "    <tr>\n",
       "      <th>1</th>\n",
       "      <td>2021-09-12 17:00</td>\n",
       "    </tr>\n",
       "  </tbody>\n",
       "</table>\n",
       "</div>"
      ],
      "text/plain": [
       "        RECORD_TIME\n",
       "0  2021-09-12 17:30\n",
       "1  2021-09-12 17:00"
      ]
     },
     "execution_count": 3,
     "metadata": {},
     "output_type": "execute_result"
    }
   ],
   "source": [
    "timestamps"
   ]
  },
  {
   "cell_type": "code",
   "execution_count": 4,
   "id": "alternate-victory",
   "metadata": {
    "execution": {
     "iopub.execute_input": "2021-09-12T15:30:08.103967Z",
     "iopub.status.busy": "2021-09-12T15:30:08.101882Z",
     "iopub.status.idle": "2021-09-12T15:30:08.506198Z",
     "shell.execute_reply": "2021-09-12T15:30:08.507481Z"
    },
    "papermill": {
     "duration": 0.434218,
     "end_time": "2021-09-12T15:30:08.507883",
     "exception": false,
     "start_time": "2021-09-12T15:30:08.073665",
     "status": "completed"
    },
    "tags": []
   },
   "outputs": [],
   "source": [
    "df = pd.read_sql(\"select * from EBAY_TOP_BERLIN where record_time in (select distinct record_time from EBAY_TOP_BERLIN order by record_time desc limit 2)\", sqlite3.connect(\"UsedObjects.db\"))"
   ]
  },
  {
   "cell_type": "code",
   "execution_count": 5,
   "id": "popular-active",
   "metadata": {
    "execution": {
     "iopub.execute_input": "2021-09-12T15:30:08.587960Z",
     "iopub.status.busy": "2021-09-12T15:30:08.581854Z",
     "iopub.status.idle": "2021-09-12T15:30:08.604792Z",
     "shell.execute_reply": "2021-09-12T15:30:08.606164Z"
    },
    "papermill": {
     "duration": 0.072785,
     "end_time": "2021-09-12T15:30:08.606604",
     "exception": false,
     "start_time": "2021-09-12T15:30:08.533819",
     "status": "completed"
    },
    "tags": []
   },
   "outputs": [],
   "source": [
    "df_pivot = df.pivot_table(index=\"PRODUCT\", columns = \"RECORD_TIME\", values = \"LISTING_COUNT\")"
   ]
  },
  {
   "cell_type": "code",
   "execution_count": 6,
   "id": "union-huntington",
   "metadata": {
    "execution": {
     "iopub.execute_input": "2021-09-12T15:30:08.662901Z",
     "iopub.status.busy": "2021-09-12T15:30:08.660808Z",
     "iopub.status.idle": "2021-09-12T15:30:08.666202Z",
     "shell.execute_reply": "2021-09-12T15:30:08.667466Z"
    },
    "papermill": {
     "duration": 0.041058,
     "end_time": "2021-09-12T15:30:08.667901",
     "exception": false,
     "start_time": "2021-09-12T15:30:08.626843",
     "status": "completed"
    },
    "tags": []
   },
   "outputs": [],
   "source": [
    "df_pivot.columns = [\"stamp_1\", \"stamp_2\"]\n",
    "df_pivot_diff = df_pivot.diff(axis=1)"
   ]
  },
  {
   "cell_type": "code",
   "execution_count": 7,
   "id": "fifth-motion",
   "metadata": {
    "execution": {
     "iopub.execute_input": "2021-09-12T15:30:08.721524Z",
     "iopub.status.busy": "2021-09-12T15:30:08.719120Z",
     "iopub.status.idle": "2021-09-12T15:30:10.234939Z",
     "shell.execute_reply": "2021-09-12T15:30:10.236334Z"
    },
    "papermill": {
     "duration": 1.548629,
     "end_time": "2021-09-12T15:30:10.236773",
     "exception": false,
     "start_time": "2021-09-12T15:30:08.688144",
     "status": "completed"
    },
    "tags": []
   },
   "outputs": [
    {
     "data": {
      "text/plain": [
       "<AxesSubplot:ylabel='PRODUCT'>"
      ]
     },
     "execution_count": 7,
     "metadata": {},
     "output_type": "execute_result"
    },
    {
     "data": {
      "image/png": "[encoded data removed]",
      "text/plain": [
       "<Figure size 432x288 with 1 Axes>"
      ]
     },
     "metadata": {
      "needs_background": "light"
     },
     "output_type": "display_data"
    }
   ],
   "source": [
    "df_pivot_diff.sort_values(\"stamp_2\", ascending = False)[\"stamp_2\"].head(10).plot.barh()"
   ]
  },
  {
   "cell_type": "code",
   "execution_count": null,
   "id": "extra-executive",
   "metadata": {
    "papermill": {
     "duration": 0.022009,
     "end_time": "2021-09-12T15:30:10.283232",
     "exception": false,
     "start_time": "2021-09-12T15:30:10.261223",
     "status": "completed"
    },
    "tags": []
   },
   "outputs": [],
   "source": []
  }
 ],
 "metadata": {
  "kernelspec": {
   "display_name": "Python 3",
   "language": "python",
   "name": "python3"
  },
  "language_info": {
   "codemirror_mode": {
    "name": "ipython",
    "version": 3
   },
   "file_extension": ".py",
   "mimetype": "text/x-python",
   "name": "python",
   "nbconvert_exporter": "python",
   "pygments_lexer": "ipython3",
   "version": "3.9.5"
  },
  "papermill": {
   "default_parameters": {},
   "duration": 6.564518,
   "end_time": "2021-09-12T15:30:10.922716",
   "environment_variables": {},
   "exception": null,
   "input_path": "eBay_Overview.ipynb",
   "output_path": "eBay_Overview.ipynb",
   "parameters": {},
   "start_time": "2021-09-12T15:30:04.358198",
   "version": "2.3.3"
  }
 },
 "nbformat": 4,
 "nbformat_minor": 5
}