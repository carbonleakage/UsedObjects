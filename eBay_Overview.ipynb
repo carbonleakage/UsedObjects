{
 "cells": [
  {
   "cell_type": "code",
   "execution_count": 1,
   "id": "reverse-picking",
   "metadata": {
    "execution": {
     "iopub.execute_input": "2021-09-27T16:30:07.380535Z",
     "iopub.status.busy": "2021-09-27T16:30:07.378534Z",
     "iopub.status.idle": "2021-09-27T16:30:08.181960Z",
     "shell.execute_reply": "2021-09-27T16:30:08.183373Z"
    },
    "papermill": {
     "duration": 0.857056,
     "end_time": "2021-09-27T16:30:08.184026",
     "exception": false,
     "start_time": "2021-09-27T16:30:07.326970",
     "status": "completed"
    },
    "tags": []
   },
   "outputs": [],
   "source": [
    "import pandas as pd\n",
    "import sqlite3"
   ]
  },
  {
   "cell_type": "code",
   "execution_count": 2,
   "id": "innovative-syndrome",
   "metadata": {
    "execution": {
     "iopub.execute_input": "2021-09-27T16:30:08.235618Z",
     "iopub.status.busy": "2021-09-27T16:30:08.233660Z",
     "iopub.status.idle": "2021-09-27T16:30:08.628035Z",
     "shell.execute_reply": "2021-09-27T16:30:08.629223Z"
    },
    "papermill": {
     "duration": 0.424016,
     "end_time": "2021-09-27T16:30:08.629625",
     "exception": false,
     "start_time": "2021-09-27T16:30:08.205609",
     "status": "completed"
    },
    "tags": []
   },
   "outputs": [],
   "source": [
    "timestamps = pd.read_sql(\"select distinct record_time from EBAY_TOP_BERLIN order by record_time desc limit 2\", sqlite3.connect(\"UsedObjects.db\"))"
   ]
  },
  {
   "cell_type": "code",
   "execution_count": 3,
   "id": "periodic-identification",
   "metadata": {
    "execution": {
     "iopub.execute_input": "2021-09-27T16:30:08.699548Z",
     "iopub.status.busy": "2021-09-27T16:30:08.697385Z",
     "iopub.status.idle": "2021-09-27T16:30:08.718015Z",
     "shell.execute_reply": "2021-09-27T16:30:08.719355Z"
    },
    "papermill": {
     "duration": 0.067495,
     "end_time": "2021-09-27T16:30:08.719787",
     "exception": false,
     "start_time": "2021-09-27T16:30:08.652292",
     "status": "completed"
    },
    "tags": []
   },
   "outputs": [
    {
     "data": {
      "text/html": [
       "<div>\n",
       "<style scoped>\n",
       "    .dataframe tbody tr th:only-of-type {\n",
       "        vertical-align: middle;\n",
       "    }\n",
       "\n",
       "    .dataframe tbody tr th {\n",
       "        vertical-align: top;\n",
       "    }\n",
       "\n",
       "    .dataframe thead th {\n",
       "        text-align: right;\n",
       "    }\n",
       "</style>\n",
       "<table border=\"1\" class=\"dataframe\">\n",
       "  <thead>\n",
       "    <tr style=\"text-align: right;\">\n",
       "      <th></th>\n",
       "      <th>RECORD_TIME</th>\n",
       "    </tr>\n",
       "  </thead>\n",
       "  <tbody>\n",
       "    <tr>\n",
       "      <th>0</th>\n",
       "      <td>2021-09-27 18:30</td>\n",
       "    </tr>\n",
       "    <tr>\n",
       "      <th>1</th>\n",
       "      <td>2021-09-27 18:00</td>\n",
       "    </tr>\n",
       "  </tbody>\n",
       "</table>\n",
       "</div>"
      ],
      "text/plain": [
       "        RECORD_TIME\n",
       "0  2021-09-27 18:30\n",
       "1  2021-09-27 18:00"
      ]
     },
     "execution_count": 3,
     "metadata": {},
     "output_type": "execute_result"
    }
   ],
   "source": [
    "timestamps"
   ]
  },
  {
   "cell_type": "code",
   "execution_count": 4,
   "id": "alternate-victory",
   "metadata": {
    "execution": {
     "iopub.execute_input": "2021-09-27T16:30:08.771934Z",
     "iopub.status.busy": "2021-09-27T16:30:08.770000Z",
     "iopub.status.idle": "2021-09-27T16:30:09.354868Z",
     "shell.execute_reply": "2021-09-27T16:30:09.356094Z"
    },
    "papermill": {
     "duration": 0.615046,
     "end_time": "2021-09-27T16:30:09.356495",
     "exception": false,
     "start_time": "2021-09-27T16:30:08.741449",
     "status": "completed"
    },
    "tags": []
   },
   "outputs": [],
   "source": [
    "df = pd.read_sql(\"select * from EBAY_TOP_BERLIN where record_time in (select distinct record_time from EBAY_TOP_BERLIN order by record_time desc limit 2)\", sqlite3.connect(\"UsedObjects.db\"))"
   ]
  },
  {
   "cell_type": "code",
   "execution_count": 5,
   "id": "popular-active",
   "metadata": {
    "execution": {
     "iopub.execute_input": "2021-09-27T16:30:09.438526Z",
     "iopub.status.busy": "2021-09-27T16:30:09.425235Z",
     "iopub.status.idle": "2021-09-27T16:30:09.456081Z",
     "shell.execute_reply": "2021-09-27T16:30:09.454621Z"
    },
    "papermill": {
     "duration": 0.073752,
     "end_time": "2021-09-27T16:30:09.456438",
     "exception": false,
     "start_time": "2021-09-27T16:30:09.382686",
     "status": "completed"
    },
    "tags": []
   },
   "outputs": [],
   "source": [
    "df_pivot = df.pivot_table(index=\"PRODUCT\", columns = \"RECORD_TIME\", values = \"LISTING_COUNT\")"
   ]
  },
  {
   "cell_type": "code",
   "execution_count": 6,
   "id": "union-huntington",
   "metadata": {
    "execution": {
     "iopub.execute_input": "2021-09-27T16:30:09.512697Z",
     "iopub.status.busy": "2021-09-27T16:30:09.510594Z",
     "iopub.status.idle": "2021-09-27T16:30:09.515835Z",
     "shell.execute_reply": "2021-09-27T16:30:09.517014Z"
    },
    "papermill": {
     "duration": 0.040522,
     "end_time": "2021-09-27T16:30:09.517442",
     "exception": false,
     "start_time": "2021-09-27T16:30:09.476920",
     "status": "completed"
    },
    "tags": []
   },
   "outputs": [],
   "source": [
    "df_pivot.columns = [\"stamp_1\", \"stamp_2\"]\n",
    "df_pivot_diff = df_pivot.diff(axis=1)"
   ]
  },
  {
   "cell_type": "code",
   "execution_count": 7,
   "id": "fifth-motion",
   "metadata": {
    "execution": {
     "iopub.execute_input": "2021-09-27T16:30:09.575502Z",
     "iopub.status.busy": "2021-09-27T16:30:09.572794Z",
     "iopub.status.idle": "2021-09-27T16:30:11.048673Z",
     "shell.execute_reply": "2021-09-27T16:30:11.050117Z"
    },
    "papermill": {
     "duration": 1.50996,
     "end_time": "2021-09-27T16:30:11.050587",
     "exception": false,
     "start_time": "2021-09-27T16:30:09.540627",
     "status": "completed"
    },
    "tags": []
   },
   "outputs": [
    {
     "data": {
      "text/plain": [
       "<AxesSubplot:ylabel='PRODUCT'>"
      ]
     },
     "execution_count": 7,
     "metadata": {},
     "output_type": "execute_result"
    },
    {
     "data": {
      "image/png": "[encoded data removed]",
      "text/plain": [
       "<Figure size 432x288 with 1 Axes>"
      ]
     },
     "metadata": {
      "needs_background": "light"
     },
     "output_type": "display_data"
    }
   ],
   "source": [
    "df_pivot_diff.sort_values(\"stamp_2\", ascending = False)[\"stamp_2\"].head(10).plot.barh()"
   ]
  },
  {
   "cell_type": "code",
   "execution_count": null,
   "id": "extra-executive",
   "metadata": {
    "papermill": {
     "duration": 0.02266,
     "end_time": "2021-09-27T16:30:11.098378",
     "exception": false,
     "start_time": "2021-09-27T16:30:11.075718",
     "status": "completed"
    },
    "tags": []
   },
   "outputs": [],
   "source": []
  }
 ],
 "metadata": {
  "kernelspec": {
   "display_name": "Python 3",
   "language": "python",
   "name": "python3"
  },
  "language_info": {
   "codemirror_mode": {
    "name": "ipython",
    "version": 3
   },
   "file_extension": ".py",
   "mimetype": "text/x-python",
   "name": "python",
   "nbconvert_exporter": "python",
   "pygments_lexer": "ipython3",
   "version": "3.9.5"
  },
  "papermill": {
   "default_parameters": {},
   "duration": 6.823187,
   "end_time": "2021-09-27T16:30:11.740951",
   "environment_variables": {},
   "exception": null,
   "input_path": "eBay_Overview.ipynb",
   "output_path": "eBay_Overview.ipynb",
   "parameters": {},
   "start_time": "2021-09-27T16:30:04.917764",
   "version": "2.3.3"
  }
 },
 "nbformat": 4,
 "nbformat_minor": 5
}