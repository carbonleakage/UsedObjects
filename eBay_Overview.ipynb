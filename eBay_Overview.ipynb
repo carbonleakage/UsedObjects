{
 "cells": [
  {
   "cell_type": "code",
   "execution_count": 1,
   "id": "reverse-picking",
   "metadata": {
    "execution": {
     "iopub.execute_input": "2021-11-29T15:00:07.351757Z",
     "iopub.status.busy": "2021-11-29T15:00:07.349464Z",
     "iopub.status.idle": "2021-11-29T15:00:08.306429Z",
     "shell.execute_reply": "2021-11-29T15:00:08.307975Z"
    },
    "papermill": {
     "duration": 1.009938,
     "end_time": "2021-11-29T15:00:08.308810",
     "exception": false,
     "start_time": "2021-11-29T15:00:07.298872",
     "status": "completed"
    },
    "tags": []
   },
   "outputs": [],
   "source": [
    "import pandas as pd\n",
    "import sqlite3"
   ]
  },
  {
   "cell_type": "code",
   "execution_count": 2,
   "id": "innovative-syndrome",
   "metadata": {
    "execution": {
     "iopub.execute_input": "2021-11-29T15:00:08.385704Z",
     "iopub.status.busy": "2021-11-29T15:00:08.383358Z",
     "iopub.status.idle": "2021-11-29T15:00:09.325290Z",
     "shell.execute_reply": "2021-11-29T15:00:09.326720Z"
    },
    "papermill": {
     "duration": 0.975198,
     "end_time": "2021-11-29T15:00:09.327222",
     "exception": false,
     "start_time": "2021-11-29T15:00:08.352024",
     "status": "completed"
    },
    "tags": []
   },
   "outputs": [],
   "source": [
    "timestamps = pd.read_sql(\"select distinct record_time from EBAY_TOP_BERLIN order by record_time desc limit 2\", sqlite3.connect(\"UsedObjects.db\"))"
   ]
  },
  {
   "cell_type": "code",
   "execution_count": 3,
   "id": "periodic-identification",
   "metadata": {
    "execution": {
     "iopub.execute_input": "2021-11-29T15:00:09.402678Z",
     "iopub.status.busy": "2021-11-29T15:00:09.395941Z",
     "iopub.status.idle": "2021-11-29T15:00:09.422287Z",
     "shell.execute_reply": "2021-11-29T15:00:09.420307Z"
    },
    "papermill": {
     "duration": 0.074601,
     "end_time": "2021-11-29T15:00:09.422749",
     "exception": false,
     "start_time": "2021-11-29T15:00:09.348148",
     "status": "completed"
    },
    "tags": []
   },
   "outputs": [
    {
     "data": {
      "text/html": [
       "<div>\n",
       "<style scoped>\n",
       "    .dataframe tbody tr th:only-of-type {\n",
       "        vertical-align: middle;\n",
       "    }\n",
       "\n",
       "    .dataframe tbody tr th {\n",
       "        vertical-align: top;\n",
       "    }\n",
       "\n",
       "    .dataframe thead th {\n",
       "        text-align: right;\n",
       "    }\n",
       "</style>\n",
       "<table border=\"1\" class=\"dataframe\">\n",
       "  <thead>\n",
       "    <tr style=\"text-align: right;\">\n",
       "      <th></th>\n",
       "      <th>RECORD_TIME</th>\n",
       "    </tr>\n",
       "  </thead>\n",
       "  <tbody>\n",
       "    <tr>\n",
       "      <th>0</th>\n",
       "      <td>2021-11-29 16:00</td>\n",
       "    </tr>\n",
       "    <tr>\n",
       "      <th>1</th>\n",
       "      <td>2021-11-29 15:30</td>\n",
       "    </tr>\n",
       "  </tbody>\n",
       "</table>\n",
       "</div>"
      ],
      "text/plain": [
       "        RECORD_TIME\n",
       "0  2021-11-29 16:00\n",
       "1  2021-11-29 15:30"
      ]
     },
     "execution_count": 3,
     "metadata": {},
     "output_type": "execute_result"
    }
   ],
   "source": [
    "timestamps"
   ]
  },
  {
   "cell_type": "code",
   "execution_count": 4,
   "id": "alternate-victory",
   "metadata": {
    "execution": {
     "iopub.execute_input": "2021-11-29T15:00:09.477674Z",
     "iopub.status.busy": "2021-11-29T15:00:09.475716Z",
     "iopub.status.idle": "2021-11-29T15:00:10.907318Z",
     "shell.execute_reply": "2021-11-29T15:00:10.909483Z"
    },
    "papermill": {
     "duration": 1.462889,
     "end_time": "2021-11-29T15:00:10.909969",
     "exception": false,
     "start_time": "2021-11-29T15:00:09.447080",
     "status": "completed"
    },
    "tags": []
   },
   "outputs": [],
   "source": [
    "df = pd.read_sql(\"select * from EBAY_TOP_BERLIN where record_time in (select distinct record_time from EBAY_TOP_BERLIN order by record_time desc limit 2)\", sqlite3.connect(\"UsedObjects.db\"))"
   ]
  },
  {
   "cell_type": "code",
   "execution_count": 5,
   "id": "popular-active",
   "metadata": {
    "execution": {
     "iopub.execute_input": "2021-11-29T15:00:10.984528Z",
     "iopub.status.busy": "2021-11-29T15:00:10.971040Z",
     "iopub.status.idle": "2021-11-29T15:00:11.005203Z",
     "shell.execute_reply": "2021-11-29T15:00:11.007979Z"
    },
    "papermill": {
     "duration": 0.077938,
     "end_time": "2021-11-29T15:00:11.008575",
     "exception": false,
     "start_time": "2021-11-29T15:00:10.930637",
     "status": "completed"
    },
    "tags": []
   },
   "outputs": [],
   "source": [
    "df_pivot = df.pivot_table(index=\"PRODUCT\", columns = \"RECORD_TIME\", values = \"LISTING_COUNT\")"
   ]
  },
  {
   "cell_type": "code",
   "execution_count": 6,
   "id": "union-huntington",
   "metadata": {
    "execution": {
     "iopub.execute_input": "2021-11-29T15:00:11.071215Z",
     "iopub.status.busy": "2021-11-29T15:00:11.068917Z",
     "iopub.status.idle": "2021-11-29T15:00:11.076230Z",
     "shell.execute_reply": "2021-11-29T15:00:11.078175Z"
    },
    "papermill": {
     "duration": 0.048901,
     "end_time": "2021-11-29T15:00:11.078879",
     "exception": false,
     "start_time": "2021-11-29T15:00:11.029978",
     "status": "completed"
    },
    "tags": []
   },
   "outputs": [],
   "source": [
    "df_pivot.columns = [\"stamp_1\", \"stamp_2\"]\n",
    "df_pivot_diff = df_pivot.diff(axis=1)"
   ]
  },
  {
   "cell_type": "code",
   "execution_count": 7,
   "id": "fifth-motion",
   "metadata": {
    "execution": {
     "iopub.execute_input": "2021-11-29T15:00:11.142823Z",
     "iopub.status.busy": "2021-11-29T15:00:11.140134Z",
     "iopub.status.idle": "2021-11-29T15:00:13.165924Z",
     "shell.execute_reply": "2021-11-29T15:00:13.168196Z"
    },
    "papermill": {
     "duration": 2.064851,
     "end_time": "2021-11-29T15:00:13.169142",
     "exception": false,
     "start_time": "2021-11-29T15:00:11.104291",
     "status": "completed"
    },
    "tags": []
   },
   "outputs": [
    {
     "data": {
      "text/plain": [
       "<AxesSubplot:ylabel='PRODUCT'>"
      ]
     },
     "execution_count": 7,
     "metadata": {},
     "output_type": "execute_result"
    },
    {
     "data": {
      "image/png": "[encoded data removed]",
      "text/plain": [
       "<Figure size 432x288 with 1 Axes>"
      ]
     },
     "metadata": {
      "needs_background": "light"
     },
     "output_type": "display_data"
    }
   ],
   "source": [
    "df_pivot_diff.sort_values(\"stamp_2\", ascending = False)[\"stamp_2\"].head(10).plot.barh()"
   ]
  },
  {
   "cell_type": "code",
   "execution_count": null,
   "id": "extra-executive",
   "metadata": {
    "papermill": {
     "duration": 0.029604,
     "end_time": "2021-11-29T15:00:13.235237",
     "exception": false,
     "start_time": "2021-11-29T15:00:13.205633",
     "status": "completed"
    },
    "tags": []
   },
   "outputs": [],
   "source": []
  }
 ],
 "metadata": {
  "kernelspec": {
   "display_name": "Python 3",
   "language": "python",
   "name": "python3"
  },
  "language_info": {
   "codemirror_mode": {
    "name": "ipython",
    "version": 3
   },
   "file_extension": ".py",
   "mimetype": "text/x-python",
   "name": "python",
   "nbconvert_exporter": "python",
   "pygments_lexer": "ipython3",
   "version": "3.9.5"
  },
  "papermill": {
   "default_parameters": {},
   "duration": 9.934073,
   "end_time": "2021-11-29T15:00:14.521461",
   "environment_variables": {},
   "exception": null,
   "input_path": "eBay_Overview.ipynb",
   "output_path": "eBay_Overview.ipynb",
   "parameters": {},
   "start_time": "2021-11-29T15:00:04.587388",
   "version": "2.3.3"
  }
 },
 "nbformat": 4,
 "nbformat_minor": 5
}