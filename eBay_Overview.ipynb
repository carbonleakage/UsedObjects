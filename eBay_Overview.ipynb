{
 "cells": [
  {
   "cell_type": "code",
   "execution_count": 1,
   "id": "reverse-picking",
   "metadata": {
    "execution": {
     "iopub.execute_input": "2021-08-26T02:30:06.747595Z",
     "iopub.status.busy": "2021-08-26T02:30:06.745684Z",
     "iopub.status.idle": "2021-08-26T02:30:07.551246Z",
     "shell.execute_reply": "2021-08-26T02:30:07.552647Z"
    },
    "papermill": {
     "duration": 0.858133,
     "end_time": "2021-08-26T02:30:07.553312",
     "exception": false,
     "start_time": "2021-08-26T02:30:06.695179",
     "status": "completed"
    },
    "tags": []
   },
   "outputs": [],
   "source": [
    "import pandas as pd\n",
    "import sqlite3"
   ]
  },
  {
   "cell_type": "code",
   "execution_count": 2,
   "id": "innovative-syndrome",
   "metadata": {
    "execution": {
     "iopub.execute_input": "2021-08-26T02:30:07.604327Z",
     "iopub.status.busy": "2021-08-26T02:30:07.602234Z",
     "iopub.status.idle": "2021-08-26T02:30:07.737343Z",
     "shell.execute_reply": "2021-08-26T02:30:07.738468Z"
    },
    "papermill": {
     "duration": 0.165395,
     "end_time": "2021-08-26T02:30:07.738873",
     "exception": false,
     "start_time": "2021-08-26T02:30:07.573478",
     "status": "completed"
    },
    "tags": []
   },
   "outputs": [],
   "source": [
    "timestamps = pd.read_sql(\"select distinct record_time from EBAY_TOP_BERLIN order by record_time desc limit 2\", sqlite3.connect(\"UsedObjects.db\"))"
   ]
  },
  {
   "cell_type": "code",
   "execution_count": 3,
   "id": "periodic-identification",
   "metadata": {
    "execution": {
     "iopub.execute_input": "2021-08-26T02:30:07.807230Z",
     "iopub.status.busy": "2021-08-26T02:30:07.805220Z",
     "iopub.status.idle": "2021-08-26T02:30:07.825207Z",
     "shell.execute_reply": "2021-08-26T02:30:07.826825Z"
    },
    "papermill": {
     "duration": 0.066165,
     "end_time": "2021-08-26T02:30:07.827370",
     "exception": false,
     "start_time": "2021-08-26T02:30:07.761205",
     "status": "completed"
    },
    "tags": []
   },
   "outputs": [
    {
     "data": {
      "text/html": [
       "<div>\n",
       "<style scoped>\n",
       "    .dataframe tbody tr th:only-of-type {\n",
       "        vertical-align: middle;\n",
       "    }\n",
       "\n",
       "    .dataframe tbody tr th {\n",
       "        vertical-align: top;\n",
       "    }\n",
       "\n",
       "    .dataframe thead th {\n",
       "        text-align: right;\n",
       "    }\n",
       "</style>\n",
       "<table border=\"1\" class=\"dataframe\">\n",
       "  <thead>\n",
       "    <tr style=\"text-align: right;\">\n",
       "      <th></th>\n",
       "      <th>RECORD_TIME</th>\n",
       "    </tr>\n",
       "  </thead>\n",
       "  <tbody>\n",
       "    <tr>\n",
       "      <th>0</th>\n",
       "      <td>2021-08-26 04:30</td>\n",
       "    </tr>\n",
       "    <tr>\n",
       "      <th>1</th>\n",
       "      <td>2021-08-26 04:00</td>\n",
       "    </tr>\n",
       "  </tbody>\n",
       "</table>\n",
       "</div>"
      ],
      "text/plain": [
       "        RECORD_TIME\n",
       "0  2021-08-26 04:30\n",
       "1  2021-08-26 04:00"
      ]
     },
     "execution_count": 3,
     "metadata": {},
     "output_type": "execute_result"
    }
   ],
   "source": [
    "timestamps"
   ]
  },
  {
   "cell_type": "code",
   "execution_count": 4,
   "id": "alternate-victory",
   "metadata": {
    "execution": {
     "iopub.execute_input": "2021-08-26T02:30:07.880504Z",
     "iopub.status.busy": "2021-08-26T02:30:07.878518Z",
     "iopub.status.idle": "2021-08-26T02:30:08.073540Z",
     "shell.execute_reply": "2021-08-26T02:30:08.074789Z"
    },
    "papermill": {
     "duration": 0.225297,
     "end_time": "2021-08-26T02:30:08.075183",
     "exception": false,
     "start_time": "2021-08-26T02:30:07.849886",
     "status": "completed"
    },
    "tags": []
   },
   "outputs": [],
   "source": [
    "df = pd.read_sql(\"select * from EBAY_TOP_BERLIN where record_time in (select distinct record_time from EBAY_TOP_BERLIN order by record_time desc limit 2)\", sqlite3.connect(\"UsedObjects.db\"))"
   ]
  },
  {
   "cell_type": "code",
   "execution_count": 5,
   "id": "popular-active",
   "metadata": {
    "execution": {
     "iopub.execute_input": "2021-08-26T02:30:08.147166Z",
     "iopub.status.busy": "2021-08-26T02:30:08.134726Z",
     "iopub.status.idle": "2021-08-26T02:30:08.162497Z",
     "shell.execute_reply": "2021-08-26T02:30:08.163702Z"
    },
    "papermill": {
     "duration": 0.068633,
     "end_time": "2021-08-26T02:30:08.164095",
     "exception": false,
     "start_time": "2021-08-26T02:30:08.095462",
     "status": "completed"
    },
    "tags": []
   },
   "outputs": [],
   "source": [
    "df_pivot = df.pivot_table(index=\"PRODUCT\", columns = \"RECORD_TIME\", values = \"LISTING_COUNT\")"
   ]
  },
  {
   "cell_type": "code",
   "execution_count": 6,
   "id": "union-huntington",
   "metadata": {
    "execution": {
     "iopub.execute_input": "2021-08-26T02:30:08.230874Z",
     "iopub.status.busy": "2021-08-26T02:30:08.228665Z",
     "iopub.status.idle": "2021-08-26T02:30:08.234362Z",
     "shell.execute_reply": "2021-08-26T02:30:08.235717Z"
    },
    "papermill": {
     "duration": 0.044211,
     "end_time": "2021-08-26T02:30:08.236154",
     "exception": false,
     "start_time": "2021-08-26T02:30:08.191943",
     "status": "completed"
    },
    "tags": []
   },
   "outputs": [],
   "source": [
    "df_pivot.columns = [\"stamp_1\", \"stamp_2\"]\n",
    "df_pivot_diff = df_pivot.diff(axis=1)"
   ]
  },
  {
   "cell_type": "code",
   "execution_count": 7,
   "id": "fifth-motion",
   "metadata": {
    "execution": {
     "iopub.execute_input": "2021-08-26T02:30:08.294083Z",
     "iopub.status.busy": "2021-08-26T02:30:08.291396Z",
     "iopub.status.idle": "2021-08-26T02:30:09.748804Z",
     "shell.execute_reply": "2021-08-26T02:30:09.750100Z"
    },
    "papermill": {
     "duration": 1.490718,
     "end_time": "2021-08-26T02:30:09.750513",
     "exception": false,
     "start_time": "2021-08-26T02:30:08.259795",
     "status": "completed"
    },
    "tags": []
   },
   "outputs": [
    {
     "data": {
      "text/plain": [
       "<AxesSubplot:ylabel='PRODUCT'>"
      ]
     },
     "execution_count": 7,
     "metadata": {},
     "output_type": "execute_result"
    },
    {
     "data": {
      "image/png": "[encoded data removed]",
      "text/plain": [
       "<Figure size 432x288 with 1 Axes>"
      ]
     },
     "metadata": {
      "needs_background": "light"
     },
     "output_type": "display_data"
    }
   ],
   "source": [
    "df_pivot_diff.sort_values(\"stamp_2\", ascending = False)[\"stamp_2\"].head(10).plot.barh()"
   ]
  },
  {
   "cell_type": "code",
   "execution_count": null,
   "id": "extra-executive",
   "metadata": {
    "papermill": {
     "duration": 0.022136,
     "end_time": "2021-08-26T02:30:09.797388",
     "exception": false,
     "start_time": "2021-08-26T02:30:09.775252",
     "status": "completed"
    },
    "tags": []
   },
   "outputs": [],
   "source": []
  }
 ],
 "metadata": {
  "kernelspec": {
   "display_name": "Python 3",
   "language": "python",
   "name": "python3"
  },
  "language_info": {
   "codemirror_mode": {
    "name": "ipython",
    "version": 3
   },
   "file_extension": ".py",
   "mimetype": "text/x-python",
   "name": "python",
   "nbconvert_exporter": "python",
   "pygments_lexer": "ipython3",
   "version": "3.9.5"
  },
  "papermill": {
   "default_parameters": {},
   "duration": 6.820643,
   "end_time": "2021-08-26T02:30:11.118062",
   "environment_variables": {},
   "exception": null,
   "input_path": "eBay_Overview.ipynb",
   "output_path": "eBay_Overview.ipynb",
   "parameters": {},
   "start_time": "2021-08-26T02:30:04.297419",
   "version": "2.3.3"
  }
 },
 "nbformat": 4,
 "nbformat_minor": 5
}