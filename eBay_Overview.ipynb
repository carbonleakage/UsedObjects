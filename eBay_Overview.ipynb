{
 "cells": [
  {
   "cell_type": "code",
   "execution_count": 1,
   "id": "reverse-picking",
   "metadata": {
    "execution": {
     "iopub.execute_input": "2021-10-01T18:30:06.956987Z",
     "iopub.status.busy": "2021-10-01T18:30:06.954969Z",
     "iopub.status.idle": "2021-10-01T18:30:07.761949Z",
     "shell.execute_reply": "2021-10-01T18:30:07.763314Z"
    },
    "papermill": {
     "duration": 0.858578,
     "end_time": "2021-10-01T18:30:07.763966",
     "exception": false,
     "start_time": "2021-10-01T18:30:06.905388",
     "status": "completed"
    },
    "tags": []
   },
   "outputs": [],
   "source": [
    "import pandas as pd\n",
    "import sqlite3"
   ]
  },
  {
   "cell_type": "code",
   "execution_count": 2,
   "id": "innovative-syndrome",
   "metadata": {
    "execution": {
     "iopub.execute_input": "2021-10-01T18:30:07.816596Z",
     "iopub.status.busy": "2021-10-01T18:30:07.814318Z",
     "iopub.status.idle": "2021-10-01T18:30:08.243627Z",
     "shell.execute_reply": "2021-10-01T18:30:08.244862Z"
    },
    "papermill": {
     "duration": 0.458819,
     "end_time": "2021-10-01T18:30:08.245262",
     "exception": false,
     "start_time": "2021-10-01T18:30:07.786443",
     "status": "completed"
    },
    "tags": []
   },
   "outputs": [],
   "source": [
    "timestamps = pd.read_sql(\"select distinct record_time from EBAY_TOP_BERLIN order by record_time desc limit 2\", sqlite3.connect(\"UsedObjects.db\"))"
   ]
  },
  {
   "cell_type": "code",
   "execution_count": 3,
   "id": "periodic-identification",
   "metadata": {
    "execution": {
     "iopub.execute_input": "2021-10-01T18:30:08.313476Z",
     "iopub.status.busy": "2021-10-01T18:30:08.311464Z",
     "iopub.status.idle": "2021-10-01T18:30:08.331681Z",
     "shell.execute_reply": "2021-10-01T18:30:08.333067Z"
    },
    "papermill": {
     "duration": 0.065836,
     "end_time": "2021-10-01T18:30:08.333495",
     "exception": false,
     "start_time": "2021-10-01T18:30:08.267659",
     "status": "completed"
    },
    "tags": []
   },
   "outputs": [
    {
     "data": {
      "text/html": [
       "<div>\n",
       "<style scoped>\n",
       "    .dataframe tbody tr th:only-of-type {\n",
       "        vertical-align: middle;\n",
       "    }\n",
       "\n",
       "    .dataframe tbody tr th {\n",
       "        vertical-align: top;\n",
       "    }\n",
       "\n",
       "    .dataframe thead th {\n",
       "        text-align: right;\n",
       "    }\n",
       "</style>\n",
       "<table border=\"1\" class=\"dataframe\">\n",
       "  <thead>\n",
       "    <tr style=\"text-align: right;\">\n",
       "      <th></th>\n",
       "      <th>RECORD_TIME</th>\n",
       "    </tr>\n",
       "  </thead>\n",
       "  <tbody>\n",
       "    <tr>\n",
       "      <th>0</th>\n",
       "      <td>2021-10-01 20:30</td>\n",
       "    </tr>\n",
       "    <tr>\n",
       "      <th>1</th>\n",
       "      <td>2021-10-01 20:00</td>\n",
       "    </tr>\n",
       "  </tbody>\n",
       "</table>\n",
       "</div>"
      ],
      "text/plain": [
       "        RECORD_TIME\n",
       "0  2021-10-01 20:30\n",
       "1  2021-10-01 20:00"
      ]
     },
     "execution_count": 3,
     "metadata": {},
     "output_type": "execute_result"
    }
   ],
   "source": [
    "timestamps"
   ]
  },
  {
   "cell_type": "code",
   "execution_count": 4,
   "id": "alternate-victory",
   "metadata": {
    "execution": {
     "iopub.execute_input": "2021-10-01T18:30:08.391871Z",
     "iopub.status.busy": "2021-10-01T18:30:08.389471Z",
     "iopub.status.idle": "2021-10-01T18:30:09.006702Z",
     "shell.execute_reply": "2021-10-01T18:30:09.008022Z"
    },
    "papermill": {
     "duration": 0.654416,
     "end_time": "2021-10-01T18:30:09.008421",
     "exception": false,
     "start_time": "2021-10-01T18:30:08.354005",
     "status": "completed"
    },
    "tags": []
   },
   "outputs": [],
   "source": [
    "df = pd.read_sql(\"select * from EBAY_TOP_BERLIN where record_time in (select distinct record_time from EBAY_TOP_BERLIN order by record_time desc limit 2)\", sqlite3.connect(\"UsedObjects.db\"))"
   ]
  },
  {
   "cell_type": "code",
   "execution_count": 5,
   "id": "popular-active",
   "metadata": {
    "execution": {
     "iopub.execute_input": "2021-10-01T18:30:09.079683Z",
     "iopub.status.busy": "2021-10-01T18:30:09.067752Z",
     "iopub.status.idle": "2021-10-01T18:30:09.096264Z",
     "shell.execute_reply": "2021-10-01T18:30:09.097571Z"
    },
    "papermill": {
     "duration": 0.068966,
     "end_time": "2021-10-01T18:30:09.097992",
     "exception": false,
     "start_time": "2021-10-01T18:30:09.029026",
     "status": "completed"
    },
    "tags": []
   },
   "outputs": [],
   "source": [
    "df_pivot = df.pivot_table(index=\"PRODUCT\", columns = \"RECORD_TIME\", values = \"LISTING_COUNT\")"
   ]
  },
  {
   "cell_type": "code",
   "execution_count": 6,
   "id": "union-huntington",
   "metadata": {
    "execution": {
     "iopub.execute_input": "2021-10-01T18:30:09.154736Z",
     "iopub.status.busy": "2021-10-01T18:30:09.152676Z",
     "iopub.status.idle": "2021-10-01T18:30:09.158009Z",
     "shell.execute_reply": "2021-10-01T18:30:09.159349Z"
    },
    "papermill": {
     "duration": 0.040554,
     "end_time": "2021-10-01T18:30:09.159796",
     "exception": false,
     "start_time": "2021-10-01T18:30:09.119242",
     "status": "completed"
    },
    "tags": []
   },
   "outputs": [],
   "source": [
    "df_pivot.columns = [\"stamp_1\", \"stamp_2\"]\n",
    "df_pivot_diff = df_pivot.diff(axis=1)"
   ]
  },
  {
   "cell_type": "code",
   "execution_count": 7,
   "id": "fifth-motion",
   "metadata": {
    "execution": {
     "iopub.execute_input": "2021-10-01T18:30:09.214873Z",
     "iopub.status.busy": "2021-10-01T18:30:09.212156Z",
     "iopub.status.idle": "2021-10-01T18:30:10.686013Z",
     "shell.execute_reply": "2021-10-01T18:30:10.687395Z"
    },
    "papermill": {
     "duration": 1.507723,
     "end_time": "2021-10-01T18:30:10.687830",
     "exception": false,
     "start_time": "2021-10-01T18:30:09.180107",
     "status": "completed"
    },
    "tags": []
   },
   "outputs": [
    {
     "data": {
      "text/plain": [
       "<AxesSubplot:ylabel='PRODUCT'>"
      ]
     },
     "execution_count": 7,
     "metadata": {},
     "output_type": "execute_result"
    },
    {
     "data": {
      "image/png": "[encoded data removed]",
      "text/plain": [
       "<Figure size 432x288 with 1 Axes>"
      ]
     },
     "metadata": {
      "needs_background": "light"
     },
     "output_type": "display_data"
    }
   ],
   "source": [
    "df_pivot_diff.sort_values(\"stamp_2\", ascending = False)[\"stamp_2\"].head(10).plot.barh()"
   ]
  },
  {
   "cell_type": "code",
   "execution_count": null,
   "id": "extra-executive",
   "metadata": {
    "papermill": {
     "duration": 0.022322,
     "end_time": "2021-10-01T18:30:10.734858",
     "exception": false,
     "start_time": "2021-10-01T18:30:10.712536",
     "status": "completed"
    },
    "tags": []
   },
   "outputs": [],
   "source": []
  }
 ],
 "metadata": {
  "kernelspec": {
   "display_name": "Python 3",
   "language": "python",
   "name": "python3"
  },
  "language_info": {
   "codemirror_mode": {
    "name": "ipython",
    "version": 3
   },
   "file_extension": ".py",
   "mimetype": "text/x-python",
   "name": "python",
   "nbconvert_exporter": "python",
   "pygments_lexer": "ipython3",
   "version": "3.9.5"
  },
  "papermill": {
   "default_parameters": {},
   "duration": 7.824206,
   "end_time": "2021-10-01T18:30:12.320209",
   "environment_variables": {},
   "exception": null,
   "input_path": "eBay_Overview.ipynb",
   "output_path": "eBay_Overview.ipynb",
   "parameters": {},
   "start_time": "2021-10-01T18:30:04.496003",
   "version": "2.3.3"
  }
 },
 "nbformat": 4,
 "nbformat_minor": 5
}