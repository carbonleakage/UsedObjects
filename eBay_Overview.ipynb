{
 "cells": [
  {
   "cell_type": "code",
   "execution_count": 1,
   "id": "reverse-picking",
   "metadata": {
    "execution": {
     "iopub.execute_input": "2021-09-25T09:00:06.674353Z",
     "iopub.status.busy": "2021-09-25T09:00:06.672434Z",
     "iopub.status.idle": "2021-09-25T09:00:07.476854Z",
     "shell.execute_reply": "2021-09-25T09:00:07.478268Z"
    },
    "papermill": {
     "duration": 0.856646,
     "end_time": "2021-09-25T09:00:07.479030",
     "exception": false,
     "start_time": "2021-09-25T09:00:06.622384",
     "status": "completed"
    },
    "tags": []
   },
   "outputs": [],
   "source": [
    "import pandas as pd\n",
    "import sqlite3"
   ]
  },
  {
   "cell_type": "code",
   "execution_count": 2,
   "id": "innovative-syndrome",
   "metadata": {
    "execution": {
     "iopub.execute_input": "2021-09-25T09:00:07.530357Z",
     "iopub.status.busy": "2021-09-25T09:00:07.528339Z",
     "iopub.status.idle": "2021-09-25T09:00:07.896560Z",
     "shell.execute_reply": "2021-09-25T09:00:07.897828Z"
    },
    "papermill": {
     "duration": 0.398307,
     "end_time": "2021-09-25T09:00:07.898253",
     "exception": false,
     "start_time": "2021-09-25T09:00:07.499946",
     "status": "completed"
    },
    "tags": []
   },
   "outputs": [],
   "source": [
    "timestamps = pd.read_sql(\"select distinct record_time from EBAY_TOP_BERLIN order by record_time desc limit 2\", sqlite3.connect(\"UsedObjects.db\"))"
   ]
  },
  {
   "cell_type": "code",
   "execution_count": 3,
   "id": "periodic-identification",
   "metadata": {
    "execution": {
     "iopub.execute_input": "2021-09-25T09:00:07.963391Z",
     "iopub.status.busy": "2021-09-25T09:00:07.961660Z",
     "iopub.status.idle": "2021-09-25T09:00:07.985416Z",
     "shell.execute_reply": "2021-09-25T09:00:07.986704Z"
    },
    "papermill": {
     "duration": 0.070055,
     "end_time": "2021-09-25T09:00:07.987214",
     "exception": false,
     "start_time": "2021-09-25T09:00:07.917159",
     "status": "completed"
    },
    "tags": []
   },
   "outputs": [
    {
     "data": {
      "text/html": [
       "<div>\n",
       "<style scoped>\n",
       "    .dataframe tbody tr th:only-of-type {\n",
       "        vertical-align: middle;\n",
       "    }\n",
       "\n",
       "    .dataframe tbody tr th {\n",
       "        vertical-align: top;\n",
       "    }\n",
       "\n",
       "    .dataframe thead th {\n",
       "        text-align: right;\n",
       "    }\n",
       "</style>\n",
       "<table border=\"1\" class=\"dataframe\">\n",
       "  <thead>\n",
       "    <tr style=\"text-align: right;\">\n",
       "      <th></th>\n",
       "      <th>RECORD_TIME</th>\n",
       "    </tr>\n",
       "  </thead>\n",
       "  <tbody>\n",
       "    <tr>\n",
       "      <th>0</th>\n",
       "      <td>2021-09-25 11:00</td>\n",
       "    </tr>\n",
       "    <tr>\n",
       "      <th>1</th>\n",
       "      <td>2021-09-25 10:30</td>\n",
       "    </tr>\n",
       "  </tbody>\n",
       "</table>\n",
       "</div>"
      ],
      "text/plain": [
       "        RECORD_TIME\n",
       "0  2021-09-25 11:00\n",
       "1  2021-09-25 10:30"
      ]
     },
     "execution_count": 3,
     "metadata": {},
     "output_type": "execute_result"
    }
   ],
   "source": [
    "timestamps"
   ]
  },
  {
   "cell_type": "code",
   "execution_count": 4,
   "id": "alternate-victory",
   "metadata": {
    "execution": {
     "iopub.execute_input": "2021-09-25T09:00:08.038359Z",
     "iopub.status.busy": "2021-09-25T09:00:08.036484Z",
     "iopub.status.idle": "2021-09-25T09:00:08.581413Z",
     "shell.execute_reply": "2021-09-25T09:00:08.579930Z"
    },
    "papermill": {
     "duration": 0.573331,
     "end_time": "2021-09-25T09:00:08.581795",
     "exception": false,
     "start_time": "2021-09-25T09:00:08.008464",
     "status": "completed"
    },
    "tags": []
   },
   "outputs": [],
   "source": [
    "df = pd.read_sql(\"select * from EBAY_TOP_BERLIN where record_time in (select distinct record_time from EBAY_TOP_BERLIN order by record_time desc limit 2)\", sqlite3.connect(\"UsedObjects.db\"))"
   ]
  },
  {
   "cell_type": "code",
   "execution_count": 5,
   "id": "popular-active",
   "metadata": {
    "execution": {
     "iopub.execute_input": "2021-09-25T09:00:08.662493Z",
     "iopub.status.busy": "2021-09-25T09:00:08.651020Z",
     "iopub.status.idle": "2021-09-25T09:00:08.681248Z",
     "shell.execute_reply": "2021-09-25T09:00:08.682715Z"
    },
    "papermill": {
     "duration": 0.075533,
     "end_time": "2021-09-25T09:00:08.683392",
     "exception": false,
     "start_time": "2021-09-25T09:00:08.607859",
     "status": "completed"
    },
    "tags": []
   },
   "outputs": [],
   "source": [
    "df_pivot = df.pivot_table(index=\"PRODUCT\", columns = \"RECORD_TIME\", values = \"LISTING_COUNT\")"
   ]
  },
  {
   "cell_type": "code",
   "execution_count": 6,
   "id": "union-huntington",
   "metadata": {
    "execution": {
     "iopub.execute_input": "2021-09-25T09:00:08.742533Z",
     "iopub.status.busy": "2021-09-25T09:00:08.740108Z",
     "iopub.status.idle": "2021-09-25T09:00:08.746061Z",
     "shell.execute_reply": "2021-09-25T09:00:08.747377Z"
    },
    "papermill": {
     "duration": 0.042271,
     "end_time": "2021-09-25T09:00:08.747846",
     "exception": false,
     "start_time": "2021-09-25T09:00:08.705575",
     "status": "completed"
    },
    "tags": []
   },
   "outputs": [],
   "source": [
    "df_pivot.columns = [\"stamp_1\", \"stamp_2\"]\n",
    "df_pivot_diff = df_pivot.diff(axis=1)"
   ]
  },
  {
   "cell_type": "code",
   "execution_count": 7,
   "id": "fifth-motion",
   "metadata": {
    "execution": {
     "iopub.execute_input": "2021-09-25T09:00:08.801849Z",
     "iopub.status.busy": "2021-09-25T09:00:08.799692Z",
     "iopub.status.idle": "2021-09-25T09:00:10.288534Z",
     "shell.execute_reply": "2021-09-25T09:00:10.289717Z"
    },
    "papermill": {
     "duration": 1.521132,
     "end_time": "2021-09-25T09:00:10.290154",
     "exception": false,
     "start_time": "2021-09-25T09:00:08.769022",
     "status": "completed"
    },
    "tags": []
   },
   "outputs": [
    {
     "data": {
      "text/plain": [
       "<AxesSubplot:ylabel='PRODUCT'>"
      ]
     },
     "execution_count": 7,
     "metadata": {},
     "output_type": "execute_result"
    },
    {
     "data": {
      "image/png": "[encoded data removed]",
      "text/plain": [
       "<Figure size 432x288 with 1 Axes>"
      ]
     },
     "metadata": {
      "needs_background": "light"
     },
     "output_type": "display_data"
    }
   ],
   "source": [
    "df_pivot_diff.sort_values(\"stamp_2\", ascending = False)[\"stamp_2\"].head(10).plot.barh()"
   ]
  },
  {
   "cell_type": "code",
   "execution_count": null,
   "id": "extra-executive",
   "metadata": {
    "papermill": {
     "duration": 0.022225,
     "end_time": "2021-09-25T09:00:10.336065",
     "exception": false,
     "start_time": "2021-09-25T09:00:10.313840",
     "status": "completed"
    },
    "tags": []
   },
   "outputs": [],
   "source": []
  }
 ],
 "metadata": {
  "kernelspec": {
   "display_name": "Python 3",
   "language": "python",
   "name": "python3"
  },
  "language_info": {
   "codemirror_mode": {
    "name": "ipython",
    "version": 3
   },
   "file_extension": ".py",
   "mimetype": "text/x-python",
   "name": "python",
   "nbconvert_exporter": "python",
   "pygments_lexer": "ipython3",
   "version": "3.9.5"
  },
  "papermill": {
   "default_parameters": {},
   "duration": 6.752338,
   "end_time": "2021-09-25T09:00:10.978856",
   "environment_variables": {},
   "exception": null,
   "input_path": "eBay_Overview.ipynb",
   "output_path": "eBay_Overview.ipynb",
   "parameters": {},
   "start_time": "2021-09-25T09:00:04.226518",
   "version": "2.3.3"
  }
 },
 "nbformat": 4,
 "nbformat_minor": 5
}