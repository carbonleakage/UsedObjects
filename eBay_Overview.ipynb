{
 "cells": [
  {
   "cell_type": "code",
   "execution_count": 1,
   "id": "reverse-picking",
   "metadata": {
    "execution": {
     "iopub.execute_input": "2021-10-13T09:30:06.782701Z",
     "iopub.status.busy": "2021-10-13T09:30:06.780623Z",
     "iopub.status.idle": "2021-10-13T09:30:07.582468Z",
     "shell.execute_reply": "2021-10-13T09:30:07.583801Z"
    },
    "papermill": {
     "duration": 0.853876,
     "end_time": "2021-10-13T09:30:07.584438",
     "exception": false,
     "start_time": "2021-10-13T09:30:06.730562",
     "status": "completed"
    },
    "tags": []
   },
   "outputs": [],
   "source": [
    "import pandas as pd\n",
    "import sqlite3"
   ]
  },
  {
   "cell_type": "code",
   "execution_count": 2,
   "id": "innovative-syndrome",
   "metadata": {
    "execution": {
     "iopub.execute_input": "2021-10-13T09:30:07.634668Z",
     "iopub.status.busy": "2021-10-13T09:30:07.632777Z",
     "iopub.status.idle": "2021-10-13T09:30:08.163631Z",
     "shell.execute_reply": "2021-10-13T09:30:08.165053Z"
    },
    "papermill": {
     "duration": 0.560675,
     "end_time": "2021-10-13T09:30:08.165484",
     "exception": false,
     "start_time": "2021-10-13T09:30:07.604809",
     "status": "completed"
    },
    "tags": []
   },
   "outputs": [],
   "source": [
    "timestamps = pd.read_sql(\"select distinct record_time from EBAY_TOP_BERLIN order by record_time desc limit 2\", sqlite3.connect(\"UsedObjects.db\"))"
   ]
  },
  {
   "cell_type": "code",
   "execution_count": 3,
   "id": "periodic-identification",
   "metadata": {
    "execution": {
     "iopub.execute_input": "2021-10-13T09:30:08.235059Z",
     "iopub.status.busy": "2021-10-13T09:30:08.233033Z",
     "iopub.status.idle": "2021-10-13T09:30:08.252808Z",
     "shell.execute_reply": "2021-10-13T09:30:08.254119Z"
    },
    "papermill": {
     "duration": 0.066474,
     "end_time": "2021-10-13T09:30:08.254531",
     "exception": false,
     "start_time": "2021-10-13T09:30:08.188057",
     "status": "completed"
    },
    "tags": []
   },
   "outputs": [
    {
     "data": {
      "text/html": [
       "<div>\n",
       "<style scoped>\n",
       "    .dataframe tbody tr th:only-of-type {\n",
       "        vertical-align: middle;\n",
       "    }\n",
       "\n",
       "    .dataframe tbody tr th {\n",
       "        vertical-align: top;\n",
       "    }\n",
       "\n",
       "    .dataframe thead th {\n",
       "        text-align: right;\n",
       "    }\n",
       "</style>\n",
       "<table border=\"1\" class=\"dataframe\">\n",
       "  <thead>\n",
       "    <tr style=\"text-align: right;\">\n",
       "      <th></th>\n",
       "      <th>RECORD_TIME</th>\n",
       "    </tr>\n",
       "  </thead>\n",
       "  <tbody>\n",
       "    <tr>\n",
       "      <th>0</th>\n",
       "      <td>2021-10-13 11:30</td>\n",
       "    </tr>\n",
       "    <tr>\n",
       "      <th>1</th>\n",
       "      <td>2021-10-13 11:00</td>\n",
       "    </tr>\n",
       "  </tbody>\n",
       "</table>\n",
       "</div>"
      ],
      "text/plain": [
       "        RECORD_TIME\n",
       "0  2021-10-13 11:30\n",
       "1  2021-10-13 11:00"
      ]
     },
     "execution_count": 3,
     "metadata": {},
     "output_type": "execute_result"
    }
   ],
   "source": [
    "timestamps"
   ]
  },
  {
   "cell_type": "code",
   "execution_count": 4,
   "id": "alternate-victory",
   "metadata": {
    "execution": {
     "iopub.execute_input": "2021-10-13T09:30:08.315169Z",
     "iopub.status.busy": "2021-10-13T09:30:08.313328Z",
     "iopub.status.idle": "2021-10-13T09:30:09.104291Z",
     "shell.execute_reply": "2021-10-13T09:30:09.105582Z"
    },
    "papermill": {
     "duration": 0.824654,
     "end_time": "2021-10-13T09:30:09.105992",
     "exception": false,
     "start_time": "2021-10-13T09:30:08.281338",
     "status": "completed"
    },
    "tags": []
   },
   "outputs": [],
   "source": [
    "df = pd.read_sql(\"select * from EBAY_TOP_BERLIN where record_time in (select distinct record_time from EBAY_TOP_BERLIN order by record_time desc limit 2)\", sqlite3.connect(\"UsedObjects.db\"))"
   ]
  },
  {
   "cell_type": "code",
   "execution_count": 5,
   "id": "popular-active",
   "metadata": {
    "execution": {
     "iopub.execute_input": "2021-10-13T09:30:09.179145Z",
     "iopub.status.busy": "2021-10-13T09:30:09.166586Z",
     "iopub.status.idle": "2021-10-13T09:30:09.194668Z",
     "shell.execute_reply": "2021-10-13T09:30:09.195897Z"
    },
    "papermill": {
     "duration": 0.068307,
     "end_time": "2021-10-13T09:30:09.196291",
     "exception": false,
     "start_time": "2021-10-13T09:30:09.127984",
     "status": "completed"
    },
    "tags": []
   },
   "outputs": [],
   "source": [
    "df_pivot = df.pivot_table(index=\"PRODUCT\", columns = \"RECORD_TIME\", values = \"LISTING_COUNT\")"
   ]
  },
  {
   "cell_type": "code",
   "execution_count": 6,
   "id": "union-huntington",
   "metadata": {
    "execution": {
     "iopub.execute_input": "2021-10-13T09:30:09.252794Z",
     "iopub.status.busy": "2021-10-13T09:30:09.250720Z",
     "iopub.status.idle": "2021-10-13T09:30:09.256209Z",
     "shell.execute_reply": "2021-10-13T09:30:09.257641Z"
    },
    "papermill": {
     "duration": 0.040815,
     "end_time": "2021-10-13T09:30:09.258092",
     "exception": false,
     "start_time": "2021-10-13T09:30:09.217277",
     "status": "completed"
    },
    "tags": []
   },
   "outputs": [],
   "source": [
    "df_pivot.columns = [\"stamp_1\", \"stamp_2\"]\n",
    "df_pivot_diff = df_pivot.diff(axis=1)"
   ]
  },
  {
   "cell_type": "code",
   "execution_count": 7,
   "id": "fifth-motion",
   "metadata": {
    "execution": {
     "iopub.execute_input": "2021-10-13T09:30:09.314746Z",
     "iopub.status.busy": "2021-10-13T09:30:09.312408Z",
     "iopub.status.idle": "2021-10-13T09:30:10.818960Z",
     "shell.execute_reply": "2021-10-13T09:30:10.820236Z"
    },
    "papermill": {
     "duration": 1.539846,
     "end_time": "2021-10-13T09:30:10.820735",
     "exception": false,
     "start_time": "2021-10-13T09:30:09.280889",
     "status": "completed"
    },
    "tags": []
   },
   "outputs": [
    {
     "data": {
      "text/plain": [
       "<AxesSubplot:ylabel='PRODUCT'>"
      ]
     },
     "execution_count": 7,
     "metadata": {},
     "output_type": "execute_result"
    },
    {
     "data": {
      "image/png": "[encoded data removed]",
      "text/plain": [
       "<Figure size 432x288 with 1 Axes>"
      ]
     },
     "metadata": {
      "needs_background": "light"
     },
     "output_type": "display_data"
    }
   ],
   "source": [
    "df_pivot_diff.sort_values(\"stamp_2\", ascending = False)[\"stamp_2\"].head(10).plot.barh()"
   ]
  },
  {
   "cell_type": "code",
   "execution_count": null,
   "id": "extra-executive",
   "metadata": {
    "papermill": {
     "duration": 0.022449,
     "end_time": "2021-10-13T09:30:10.867440",
     "exception": false,
     "start_time": "2021-10-13T09:30:10.844991",
     "status": "completed"
    },
    "tags": []
   },
   "outputs": [],
   "source": []
  }
 ],
 "metadata": {
  "kernelspec": {
   "display_name": "Python 3",
   "language": "python",
   "name": "python3"
  },
  "language_info": {
   "codemirror_mode": {
    "name": "ipython",
    "version": 3
   },
   "file_extension": ".py",
   "mimetype": "text/x-python",
   "name": "python",
   "nbconvert_exporter": "python",
   "pygments_lexer": "ipython3",
   "version": "3.9.5"
  },
  "papermill": {
   "default_parameters": {},
   "duration": 7.819852,
   "end_time": "2021-10-13T09:30:12.162009",
   "environment_variables": {},
   "exception": null,
   "input_path": "eBay_Overview.ipynb",
   "output_path": "eBay_Overview.ipynb",
   "parameters": {},
   "start_time": "2021-10-13T09:30:04.342157",
   "version": "2.3.3"
  }
 },
 "nbformat": 4,
 "nbformat_minor": 5
}