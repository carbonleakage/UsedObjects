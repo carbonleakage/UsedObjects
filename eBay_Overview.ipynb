{
 "cells": [
  {
   "cell_type": "code",
   "execution_count": 1,
   "id": "reverse-picking",
   "metadata": {
    "execution": {
     "iopub.execute_input": "2021-11-23T04:30:07.643367Z",
     "iopub.status.busy": "2021-11-23T04:30:07.641162Z",
     "iopub.status.idle": "2021-11-23T04:30:08.611294Z",
     "shell.execute_reply": "2021-11-23T04:30:08.612748Z"
    },
    "papermill": {
     "duration": 1.01658,
     "end_time": "2021-11-23T04:30:08.613468",
     "exception": false,
     "start_time": "2021-11-23T04:30:07.596888",
     "status": "completed"
    },
    "tags": []
   },
   "outputs": [],
   "source": [
    "import pandas as pd\n",
    "import sqlite3"
   ]
  },
  {
   "cell_type": "code",
   "execution_count": 2,
   "id": "innovative-syndrome",
   "metadata": {
    "execution": {
     "iopub.execute_input": "2021-11-23T04:30:08.678548Z",
     "iopub.status.busy": "2021-11-23T04:30:08.676076Z",
     "iopub.status.idle": "2021-11-23T04:30:09.558996Z",
     "shell.execute_reply": "2021-11-23T04:30:09.560423Z"
    },
    "papermill": {
     "duration": 0.917086,
     "end_time": "2021-11-23T04:30:09.561008",
     "exception": false,
     "start_time": "2021-11-23T04:30:08.643922",
     "status": "completed"
    },
    "tags": []
   },
   "outputs": [],
   "source": [
    "timestamps = pd.read_sql(\"select distinct record_time from EBAY_TOP_BERLIN order by record_time desc limit 2\", sqlite3.connect(\"UsedObjects.db\"))"
   ]
  },
  {
   "cell_type": "code",
   "execution_count": 3,
   "id": "periodic-identification",
   "metadata": {
    "execution": {
     "iopub.execute_input": "2021-11-23T04:30:09.633136Z",
     "iopub.status.busy": "2021-11-23T04:30:09.630675Z",
     "iopub.status.idle": "2021-11-23T04:30:09.656056Z",
     "shell.execute_reply": "2021-11-23T04:30:09.657666Z"
    },
    "papermill": {
     "duration": 0.076117,
     "end_time": "2021-11-23T04:30:09.658180",
     "exception": false,
     "start_time": "2021-11-23T04:30:09.582063",
     "status": "completed"
    },
    "tags": []
   },
   "outputs": [
    {
     "data": {
      "text/html": [
       "<div>\n",
       "<style scoped>\n",
       "    .dataframe tbody tr th:only-of-type {\n",
       "        vertical-align: middle;\n",
       "    }\n",
       "\n",
       "    .dataframe tbody tr th {\n",
       "        vertical-align: top;\n",
       "    }\n",
       "\n",
       "    .dataframe thead th {\n",
       "        text-align: right;\n",
       "    }\n",
       "</style>\n",
       "<table border=\"1\" class=\"dataframe\">\n",
       "  <thead>\n",
       "    <tr style=\"text-align: right;\">\n",
       "      <th></th>\n",
       "      <th>RECORD_TIME</th>\n",
       "    </tr>\n",
       "  </thead>\n",
       "  <tbody>\n",
       "    <tr>\n",
       "      <th>0</th>\n",
       "      <td>2021-11-23 05:30</td>\n",
       "    </tr>\n",
       "    <tr>\n",
       "      <th>1</th>\n",
       "      <td>2021-11-23 05:00</td>\n",
       "    </tr>\n",
       "  </tbody>\n",
       "</table>\n",
       "</div>"
      ],
      "text/plain": [
       "        RECORD_TIME\n",
       "0  2021-11-23 05:30\n",
       "1  2021-11-23 05:00"
      ]
     },
     "execution_count": 3,
     "metadata": {},
     "output_type": "execute_result"
    }
   ],
   "source": [
    "timestamps"
   ]
  },
  {
   "cell_type": "code",
   "execution_count": 4,
   "id": "alternate-victory",
   "metadata": {
    "execution": {
     "iopub.execute_input": "2021-11-23T04:30:09.715700Z",
     "iopub.status.busy": "2021-11-23T04:30:09.712745Z",
     "iopub.status.idle": "2021-11-23T04:30:11.072319Z",
     "shell.execute_reply": "2021-11-23T04:30:11.074820Z"
    },
    "papermill": {
     "duration": 1.395291,
     "end_time": "2021-11-23T04:30:11.075428",
     "exception": false,
     "start_time": "2021-11-23T04:30:09.680137",
     "status": "completed"
    },
    "tags": []
   },
   "outputs": [],
   "source": [
    "df = pd.read_sql(\"select * from EBAY_TOP_BERLIN where record_time in (select distinct record_time from EBAY_TOP_BERLIN order by record_time desc limit 2)\", sqlite3.connect(\"UsedObjects.db\"))"
   ]
  },
  {
   "cell_type": "code",
   "execution_count": 5,
   "id": "popular-active",
   "metadata": {
    "execution": {
     "iopub.execute_input": "2021-11-23T04:30:11.156789Z",
     "iopub.status.busy": "2021-11-23T04:30:11.142610Z",
     "iopub.status.idle": "2021-11-23T04:30:11.176877Z",
     "shell.execute_reply": "2021-11-23T04:30:11.178181Z"
    },
    "papermill": {
     "duration": 0.07931,
     "end_time": "2021-11-23T04:30:11.178629",
     "exception": false,
     "start_time": "2021-11-23T04:30:11.099319",
     "status": "completed"
    },
    "tags": []
   },
   "outputs": [],
   "source": [
    "df_pivot = df.pivot_table(index=\"PRODUCT\", columns = \"RECORD_TIME\", values = \"LISTING_COUNT\")"
   ]
  },
  {
   "cell_type": "code",
   "execution_count": 6,
   "id": "union-huntington",
   "metadata": {
    "execution": {
     "iopub.execute_input": "2021-11-23T04:30:11.238452Z",
     "iopub.status.busy": "2021-11-23T04:30:11.236285Z",
     "iopub.status.idle": "2021-11-23T04:30:11.241512Z",
     "shell.execute_reply": "2021-11-23T04:30:11.243064Z"
    },
    "papermill": {
     "duration": 0.043523,
     "end_time": "2021-11-23T04:30:11.243571",
     "exception": false,
     "start_time": "2021-11-23T04:30:11.200048",
     "status": "completed"
    },
    "tags": []
   },
   "outputs": [],
   "source": [
    "df_pivot.columns = [\"stamp_1\", \"stamp_2\"]\n",
    "df_pivot_diff = df_pivot.diff(axis=1)"
   ]
  },
  {
   "cell_type": "code",
   "execution_count": 7,
   "id": "fifth-motion",
   "metadata": {
    "execution": {
     "iopub.execute_input": "2021-11-23T04:30:11.304482Z",
     "iopub.status.busy": "2021-11-23T04:30:11.301972Z",
     "iopub.status.idle": "2021-11-23T04:30:13.058487Z",
     "shell.execute_reply": "2021-11-23T04:30:13.059791Z"
    },
    "papermill": {
     "duration": 1.795392,
     "end_time": "2021-11-23T04:30:13.060210",
     "exception": false,
     "start_time": "2021-11-23T04:30:11.264818",
     "status": "completed"
    },
    "tags": []
   },
   "outputs": [
    {
     "data": {
      "text/plain": [
       "<AxesSubplot:ylabel='PRODUCT'>"
      ]
     },
     "execution_count": 7,
     "metadata": {},
     "output_type": "execute_result"
    },
    {
     "data": {
      "image/png": "[encoded data removed]",
      "text/plain": [
       "<Figure size 432x288 with 1 Axes>"
      ]
     },
     "metadata": {
      "needs_background": "light"
     },
     "output_type": "display_data"
    }
   ],
   "source": [
    "df_pivot_diff.sort_values(\"stamp_2\", ascending = False)[\"stamp_2\"].head(10).plot.barh()"
   ]
  },
  {
   "cell_type": "code",
   "execution_count": null,
   "id": "extra-executive",
   "metadata": {
    "papermill": {
     "duration": 0.022519,
     "end_time": "2021-11-23T04:30:13.107064",
     "exception": false,
     "start_time": "2021-11-23T04:30:13.084545",
     "status": "completed"
    },
    "tags": []
   },
   "outputs": [],
   "source": []
  }
 ],
 "metadata": {
  "kernelspec": {
   "display_name": "Python 3",
   "language": "python",
   "name": "python3"
  },
  "language_info": {
   "codemirror_mode": {
    "name": "ipython",
    "version": 3
   },
   "file_extension": ".py",
   "mimetype": "text/x-python",
   "name": "python",
   "nbconvert_exporter": "python",
   "pygments_lexer": "ipython3",
   "version": "3.9.5"
  },
  "papermill": {
   "default_parameters": {},
   "duration": 9.943233,
   "end_time": "2021-11-23T04:30:14.746859",
   "environment_variables": {},
   "exception": null,
   "input_path": "eBay_Overview.ipynb",
   "output_path": "eBay_Overview.ipynb",
   "parameters": {},
   "start_time": "2021-11-23T04:30:04.803626",
   "version": "2.3.3"
  }
 },
 "nbformat": 4,
 "nbformat_minor": 5
}