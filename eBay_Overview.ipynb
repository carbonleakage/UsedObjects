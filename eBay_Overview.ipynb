{
 "cells": [
  {
   "cell_type": "code",
   "execution_count": 1,
   "id": "reverse-picking",
   "metadata": {
    "execution": {
     "iopub.execute_input": "2021-11-27T03:30:07.371624Z",
     "iopub.status.busy": "2021-11-27T03:30:07.369413Z",
     "iopub.status.idle": "2021-11-27T03:30:08.319802Z",
     "shell.execute_reply": "2021-11-27T03:30:08.321442Z"
    },
    "papermill": {
     "duration": 1.000408,
     "end_time": "2021-11-27T03:30:08.322154",
     "exception": false,
     "start_time": "2021-11-27T03:30:07.321746",
     "status": "completed"
    },
    "tags": []
   },
   "outputs": [],
   "source": [
    "import pandas as pd\n",
    "import sqlite3"
   ]
  },
  {
   "cell_type": "code",
   "execution_count": 2,
   "id": "innovative-syndrome",
   "metadata": {
    "execution": {
     "iopub.execute_input": "2021-11-27T03:30:08.385946Z",
     "iopub.status.busy": "2021-11-27T03:30:08.382902Z",
     "iopub.status.idle": "2021-11-27T03:30:09.328032Z",
     "shell.execute_reply": "2021-11-27T03:30:09.329633Z"
    },
    "papermill": {
     "duration": 0.97919,
     "end_time": "2021-11-27T03:30:09.330213",
     "exception": false,
     "start_time": "2021-11-27T03:30:08.351023",
     "status": "completed"
    },
    "tags": []
   },
   "outputs": [],
   "source": [
    "timestamps = pd.read_sql(\"select distinct record_time from EBAY_TOP_BERLIN order by record_time desc limit 2\", sqlite3.connect(\"UsedObjects.db\"))"
   ]
  },
  {
   "cell_type": "code",
   "execution_count": 3,
   "id": "periodic-identification",
   "metadata": {
    "execution": {
     "iopub.execute_input": "2021-11-27T03:30:09.396624Z",
     "iopub.status.busy": "2021-11-27T03:30:09.394603Z",
     "iopub.status.idle": "2021-11-27T03:30:09.414439Z",
     "shell.execute_reply": "2021-11-27T03:30:09.415725Z"
    },
    "papermill": {
     "duration": 0.064725,
     "end_time": "2021-11-27T03:30:09.416138",
     "exception": false,
     "start_time": "2021-11-27T03:30:09.351413",
     "status": "completed"
    },
    "tags": []
   },
   "outputs": [
    {
     "data": {
      "text/html": [
       "<div>\n",
       "<style scoped>\n",
       "    .dataframe tbody tr th:only-of-type {\n",
       "        vertical-align: middle;\n",
       "    }\n",
       "\n",
       "    .dataframe tbody tr th {\n",
       "        vertical-align: top;\n",
       "    }\n",
       "\n",
       "    .dataframe thead th {\n",
       "        text-align: right;\n",
       "    }\n",
       "</style>\n",
       "<table border=\"1\" class=\"dataframe\">\n",
       "  <thead>\n",
       "    <tr style=\"text-align: right;\">\n",
       "      <th></th>\n",
       "      <th>RECORD_TIME</th>\n",
       "    </tr>\n",
       "  </thead>\n",
       "  <tbody>\n",
       "    <tr>\n",
       "      <th>0</th>\n",
       "      <td>2021-11-27 04:30</td>\n",
       "    </tr>\n",
       "    <tr>\n",
       "      <th>1</th>\n",
       "      <td>2021-11-27 04:00</td>\n",
       "    </tr>\n",
       "  </tbody>\n",
       "</table>\n",
       "</div>"
      ],
      "text/plain": [
       "        RECORD_TIME\n",
       "0  2021-11-27 04:30\n",
       "1  2021-11-27 04:00"
      ]
     },
     "execution_count": 3,
     "metadata": {},
     "output_type": "execute_result"
    }
   ],
   "source": [
    "timestamps"
   ]
  },
  {
   "cell_type": "code",
   "execution_count": 4,
   "id": "alternate-victory",
   "metadata": {
    "execution": {
     "iopub.execute_input": "2021-11-27T03:30:09.468519Z",
     "iopub.status.busy": "2021-11-27T03:30:09.466254Z",
     "iopub.status.idle": "2021-11-27T03:30:10.834163Z",
     "shell.execute_reply": "2021-11-27T03:30:10.835608Z"
    },
    "papermill": {
     "duration": 1.398811,
     "end_time": "2021-11-27T03:30:10.836065",
     "exception": false,
     "start_time": "2021-11-27T03:30:09.437254",
     "status": "completed"
    },
    "tags": []
   },
   "outputs": [],
   "source": [
    "df = pd.read_sql(\"select * from EBAY_TOP_BERLIN where record_time in (select distinct record_time from EBAY_TOP_BERLIN order by record_time desc limit 2)\", sqlite3.connect(\"UsedObjects.db\"))"
   ]
  },
  {
   "cell_type": "code",
   "execution_count": 5,
   "id": "popular-active",
   "metadata": {
    "execution": {
     "iopub.execute_input": "2021-11-27T03:30:10.917666Z",
     "iopub.status.busy": "2021-11-27T03:30:10.902489Z",
     "iopub.status.idle": "2021-11-27T03:30:10.935782Z",
     "shell.execute_reply": "2021-11-27T03:30:10.937444Z"
    },
    "papermill": {
     "duration": 0.081066,
     "end_time": "2021-11-27T03:30:10.937969",
     "exception": false,
     "start_time": "2021-11-27T03:30:10.856903",
     "status": "completed"
    },
    "tags": []
   },
   "outputs": [],
   "source": [
    "df_pivot = df.pivot_table(index=\"PRODUCT\", columns = \"RECORD_TIME\", values = \"LISTING_COUNT\")"
   ]
  },
  {
   "cell_type": "code",
   "execution_count": 6,
   "id": "union-huntington",
   "metadata": {
    "execution": {
     "iopub.execute_input": "2021-11-27T03:30:11.002785Z",
     "iopub.status.busy": "2021-11-27T03:30:11.000132Z",
     "iopub.status.idle": "2021-11-27T03:30:11.006664Z",
     "shell.execute_reply": "2021-11-27T03:30:11.009077Z"
    },
    "papermill": {
     "duration": 0.04817,
     "end_time": "2021-11-27T03:30:11.009689",
     "exception": false,
     "start_time": "2021-11-27T03:30:10.961519",
     "status": "completed"
    },
    "tags": []
   },
   "outputs": [],
   "source": [
    "df_pivot.columns = [\"stamp_1\", \"stamp_2\"]\n",
    "df_pivot_diff = df_pivot.diff(axis=1)"
   ]
  },
  {
   "cell_type": "code",
   "execution_count": 7,
   "id": "fifth-motion",
   "metadata": {
    "execution": {
     "iopub.execute_input": "2021-11-27T03:30:11.067713Z",
     "iopub.status.busy": "2021-11-27T03:30:11.065240Z",
     "iopub.status.idle": "2021-11-27T03:30:13.062450Z",
     "shell.execute_reply": "2021-11-27T03:30:13.065657Z"
    },
    "papermill": {
     "duration": 2.03518,
     "end_time": "2021-11-27T03:30:13.066501",
     "exception": false,
     "start_time": "2021-11-27T03:30:11.031321",
     "status": "completed"
    },
    "tags": []
   },
   "outputs": [
    {
     "data": {
      "text/plain": [
       "<AxesSubplot:ylabel='PRODUCT'>"
      ]
     },
     "execution_count": 7,
     "metadata": {},
     "output_type": "execute_result"
    },
    {
     "data": {
      "image/png": "[encoded data removed]",
      "text/plain": [
       "<Figure size 432x288 with 1 Axes>"
      ]
     },
     "metadata": {
      "needs_background": "light"
     },
     "output_type": "display_data"
    }
   ],
   "source": [
    "df_pivot_diff.sort_values(\"stamp_2\", ascending = False)[\"stamp_2\"].head(10).plot.barh()"
   ]
  },
  {
   "cell_type": "code",
   "execution_count": null,
   "id": "extra-executive",
   "metadata": {
    "papermill": {
     "duration": 0.037331,
     "end_time": "2021-11-27T03:30:13.138248",
     "exception": false,
     "start_time": "2021-11-27T03:30:13.100917",
     "status": "completed"
    },
    "tags": []
   },
   "outputs": [],
   "source": []
  }
 ],
 "metadata": {
  "kernelspec": {
   "display_name": "Python 3",
   "language": "python",
   "name": "python3"
  },
  "language_info": {
   "codemirror_mode": {
    "name": "ipython",
    "version": 3
   },
   "file_extension": ".py",
   "mimetype": "text/x-python",
   "name": "python",
   "nbconvert_exporter": "python",
   "pygments_lexer": "ipython3",
   "version": "3.9.5"
  },
  "papermill": {
   "default_parameters": {},
   "duration": 9.934512,
   "end_time": "2021-11-27T03:30:14.533590",
   "environment_variables": {},
   "exception": null,
   "input_path": "eBay_Overview.ipynb",
   "output_path": "eBay_Overview.ipynb",
   "parameters": {},
   "start_time": "2021-11-27T03:30:04.599078",
   "version": "2.3.3"
  }
 },
 "nbformat": 4,
 "nbformat_minor": 5
}