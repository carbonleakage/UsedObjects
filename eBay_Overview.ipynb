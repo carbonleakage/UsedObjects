{
 "cells": [
  {
   "cell_type": "code",
   "execution_count": 1,
   "id": "reverse-picking",
   "metadata": {
    "execution": {
     "iopub.execute_input": "2021-10-22T00:30:07.046519Z",
     "iopub.status.busy": "2021-10-22T00:30:07.044518Z",
     "iopub.status.idle": "2021-10-22T00:30:07.854081Z",
     "shell.execute_reply": "2021-10-22T00:30:07.852395Z"
    },
    "papermill": {
     "duration": 0.860341,
     "end_time": "2021-10-22T00:30:07.854482",
     "exception": false,
     "start_time": "2021-10-22T00:30:06.994141",
     "status": "completed"
    },
    "tags": []
   },
   "outputs": [],
   "source": [
    "import pandas as pd\n",
    "import sqlite3"
   ]
  },
  {
   "cell_type": "code",
   "execution_count": 2,
   "id": "innovative-syndrome",
   "metadata": {
    "execution": {
     "iopub.execute_input": "2021-10-22T00:30:07.906075Z",
     "iopub.status.busy": "2021-10-22T00:30:07.903945Z",
     "iopub.status.idle": "2021-10-22T00:30:08.505472Z",
     "shell.execute_reply": "2021-10-22T00:30:08.506928Z"
    },
    "papermill": {
     "duration": 0.631405,
     "end_time": "2021-10-22T00:30:08.507378",
     "exception": false,
     "start_time": "2021-10-22T00:30:07.875973",
     "status": "completed"
    },
    "tags": []
   },
   "outputs": [],
   "source": [
    "timestamps = pd.read_sql(\"select distinct record_time from EBAY_TOP_BERLIN order by record_time desc limit 2\", sqlite3.connect(\"UsedObjects.db\"))"
   ]
  },
  {
   "cell_type": "code",
   "execution_count": 3,
   "id": "periodic-identification",
   "metadata": {
    "execution": {
     "iopub.execute_input": "2021-10-22T00:30:08.587401Z",
     "iopub.status.busy": "2021-10-22T00:30:08.585387Z",
     "iopub.status.idle": "2021-10-22T00:30:08.605272Z",
     "shell.execute_reply": "2021-10-22T00:30:08.606412Z"
    },
    "papermill": {
     "duration": 0.070168,
     "end_time": "2021-10-22T00:30:08.606832",
     "exception": false,
     "start_time": "2021-10-22T00:30:08.536664",
     "status": "completed"
    },
    "tags": []
   },
   "outputs": [
    {
     "data": {
      "text/html": [
       "<div>\n",
       "<style scoped>\n",
       "    .dataframe tbody tr th:only-of-type {\n",
       "        vertical-align: middle;\n",
       "    }\n",
       "\n",
       "    .dataframe tbody tr th {\n",
       "        vertical-align: top;\n",
       "    }\n",
       "\n",
       "    .dataframe thead th {\n",
       "        text-align: right;\n",
       "    }\n",
       "</style>\n",
       "<table border=\"1\" class=\"dataframe\">\n",
       "  <thead>\n",
       "    <tr style=\"text-align: right;\">\n",
       "      <th></th>\n",
       "      <th>RECORD_TIME</th>\n",
       "    </tr>\n",
       "  </thead>\n",
       "  <tbody>\n",
       "    <tr>\n",
       "      <th>0</th>\n",
       "      <td>2021-10-22 02:30</td>\n",
       "    </tr>\n",
       "    <tr>\n",
       "      <th>1</th>\n",
       "      <td>2021-10-22 02:00</td>\n",
       "    </tr>\n",
       "  </tbody>\n",
       "</table>\n",
       "</div>"
      ],
      "text/plain": [
       "        RECORD_TIME\n",
       "0  2021-10-22 02:30\n",
       "1  2021-10-22 02:00"
      ]
     },
     "execution_count": 3,
     "metadata": {},
     "output_type": "execute_result"
    }
   ],
   "source": [
    "timestamps"
   ]
  },
  {
   "cell_type": "code",
   "execution_count": 4,
   "id": "alternate-victory",
   "metadata": {
    "execution": {
     "iopub.execute_input": "2021-10-22T00:30:08.660931Z",
     "iopub.status.busy": "2021-10-22T00:30:08.658580Z",
     "iopub.status.idle": "2021-10-22T00:30:09.546655Z",
     "shell.execute_reply": "2021-10-22T00:30:09.547944Z"
    },
    "papermill": {
     "duration": 0.918663,
     "end_time": "2021-10-22T00:30:09.548365",
     "exception": false,
     "start_time": "2021-10-22T00:30:08.629702",
     "status": "completed"
    },
    "tags": []
   },
   "outputs": [],
   "source": [
    "df = pd.read_sql(\"select * from EBAY_TOP_BERLIN where record_time in (select distinct record_time from EBAY_TOP_BERLIN order by record_time desc limit 2)\", sqlite3.connect(\"UsedObjects.db\"))"
   ]
  },
  {
   "cell_type": "code",
   "execution_count": 5,
   "id": "popular-active",
   "metadata": {
    "execution": {
     "iopub.execute_input": "2021-10-22T00:30:09.613963Z",
     "iopub.status.busy": "2021-10-22T00:30:09.607463Z",
     "iopub.status.idle": "2021-10-22T00:30:09.636487Z",
     "shell.execute_reply": "2021-10-22T00:30:09.637971Z"
    },
    "papermill": {
     "duration": 0.069561,
     "end_time": "2021-10-22T00:30:09.638427",
     "exception": false,
     "start_time": "2021-10-22T00:30:09.568866",
     "status": "completed"
    },
    "tags": []
   },
   "outputs": [],
   "source": [
    "df_pivot = df.pivot_table(index=\"PRODUCT\", columns = \"RECORD_TIME\", values = \"LISTING_COUNT\")"
   ]
  },
  {
   "cell_type": "code",
   "execution_count": 6,
   "id": "union-huntington",
   "metadata": {
    "execution": {
     "iopub.execute_input": "2021-10-22T00:30:09.696432Z",
     "iopub.status.busy": "2021-10-22T00:30:09.694016Z",
     "iopub.status.idle": "2021-10-22T00:30:09.699931Z",
     "shell.execute_reply": "2021-10-22T00:30:09.701270Z"
    },
    "papermill": {
     "duration": 0.042603,
     "end_time": "2021-10-22T00:30:09.701734",
     "exception": false,
     "start_time": "2021-10-22T00:30:09.659131",
     "status": "completed"
    },
    "tags": []
   },
   "outputs": [],
   "source": [
    "df_pivot.columns = [\"stamp_1\", \"stamp_2\"]\n",
    "df_pivot_diff = df_pivot.diff(axis=1)"
   ]
  },
  {
   "cell_type": "code",
   "execution_count": 7,
   "id": "fifth-motion",
   "metadata": {
    "execution": {
     "iopub.execute_input": "2021-10-22T00:30:09.757053Z",
     "iopub.status.busy": "2021-10-22T00:30:09.754807Z",
     "iopub.status.idle": "2021-10-22T00:30:11.265720Z",
     "shell.execute_reply": "2021-10-22T00:30:11.267105Z"
    },
    "papermill": {
     "duration": 1.543647,
     "end_time": "2021-10-22T00:30:11.267549",
     "exception": false,
     "start_time": "2021-10-22T00:30:09.723902",
     "status": "completed"
    },
    "tags": []
   },
   "outputs": [
    {
     "data": {
      "text/plain": [
       "<AxesSubplot:ylabel='PRODUCT'>"
      ]
     },
     "execution_count": 7,
     "metadata": {},
     "output_type": "execute_result"
    },
    {
     "data": {
      "image/png": "[encoded data removed]",
      "text/plain": [
       "<Figure size 432x288 with 1 Axes>"
      ]
     },
     "metadata": {
      "needs_background": "light"
     },
     "output_type": "display_data"
    }
   ],
   "source": [
    "df_pivot_diff.sort_values(\"stamp_2\", ascending = False)[\"stamp_2\"].head(10).plot.barh()"
   ]
  },
  {
   "cell_type": "code",
   "execution_count": null,
   "id": "extra-executive",
   "metadata": {
    "papermill": {
     "duration": 0.022301,
     "end_time": "2021-10-22T00:30:11.314500",
     "exception": false,
     "start_time": "2021-10-22T00:30:11.292199",
     "status": "completed"
    },
    "tags": []
   },
   "outputs": [],
   "source": []
  }
 ],
 "metadata": {
  "kernelspec": {
   "display_name": "Python 3",
   "language": "python",
   "name": "python3"
  },
  "language_info": {
   "codemirror_mode": {
    "name": "ipython",
    "version": 3
   },
   "file_extension": ".py",
   "mimetype": "text/x-python",
   "name": "python",
   "nbconvert_exporter": "python",
   "pygments_lexer": "ipython3",
   "version": "3.9.5"
  },
  "papermill": {
   "default_parameters": {},
   "duration": 7.372061,
   "end_time": "2021-10-22T00:30:11.957776",
   "environment_variables": {},
   "exception": null,
   "input_path": "eBay_Overview.ipynb",
   "output_path": "eBay_Overview.ipynb",
   "parameters": {},
   "start_time": "2021-10-22T00:30:04.585715",
   "version": "2.3.3"
  }
 },
 "nbformat": 4,
 "nbformat_minor": 5
}