{
 "cells": [
  {
   "cell_type": "code",
   "execution_count": 1,
   "id": "reverse-picking",
   "metadata": {
    "execution": {
     "iopub.execute_input": "2021-11-02T02:30:08.072437Z",
     "iopub.status.busy": "2021-11-02T02:30:08.063110Z",
     "iopub.status.idle": "2021-11-02T02:30:09.018500Z",
     "shell.execute_reply": "2021-11-02T02:30:09.020089Z"
    },
    "papermill": {
     "duration": 1.004544,
     "end_time": "2021-11-02T02:30:09.020930",
     "exception": false,
     "start_time": "2021-11-02T02:30:08.016386",
     "status": "completed"
    },
    "tags": []
   },
   "outputs": [],
   "source": [
    "import pandas as pd\n",
    "import sqlite3"
   ]
  },
  {
   "cell_type": "code",
   "execution_count": 2,
   "id": "innovative-syndrome",
   "metadata": {
    "execution": {
     "iopub.execute_input": "2021-11-02T02:30:09.086214Z",
     "iopub.status.busy": "2021-11-02T02:30:09.083944Z",
     "iopub.status.idle": "2021-11-02T02:30:09.785086Z",
     "shell.execute_reply": "2021-11-02T02:30:09.786581Z"
    },
    "papermill": {
     "duration": 0.736099,
     "end_time": "2021-11-02T02:30:09.787036",
     "exception": false,
     "start_time": "2021-11-02T02:30:09.050937",
     "status": "completed"
    },
    "tags": []
   },
   "outputs": [],
   "source": [
    "timestamps = pd.read_sql(\"select distinct record_time from EBAY_TOP_BERLIN order by record_time desc limit 2\", sqlite3.connect(\"UsedObjects.db\"))"
   ]
  },
  {
   "cell_type": "code",
   "execution_count": 3,
   "id": "periodic-identification",
   "metadata": {
    "execution": {
     "iopub.execute_input": "2021-11-02T02:30:09.855848Z",
     "iopub.status.busy": "2021-11-02T02:30:09.853631Z",
     "iopub.status.idle": "2021-11-02T02:30:09.874866Z",
     "shell.execute_reply": "2021-11-02T02:30:09.876343Z"
    },
    "papermill": {
     "duration": 0.070458,
     "end_time": "2021-11-02T02:30:09.876936",
     "exception": false,
     "start_time": "2021-11-02T02:30:09.806478",
     "status": "completed"
    },
    "tags": []
   },
   "outputs": [
    {
     "data": {
      "text/html": [
       "<div>\n",
       "<style scoped>\n",
       "    .dataframe tbody tr th:only-of-type {\n",
       "        vertical-align: middle;\n",
       "    }\n",
       "\n",
       "    .dataframe tbody tr th {\n",
       "        vertical-align: top;\n",
       "    }\n",
       "\n",
       "    .dataframe thead th {\n",
       "        text-align: right;\n",
       "    }\n",
       "</style>\n",
       "<table border=\"1\" class=\"dataframe\">\n",
       "  <thead>\n",
       "    <tr style=\"text-align: right;\">\n",
       "      <th></th>\n",
       "      <th>RECORD_TIME</th>\n",
       "    </tr>\n",
       "  </thead>\n",
       "  <tbody>\n",
       "    <tr>\n",
       "      <th>0</th>\n",
       "      <td>2021-11-02 03:30</td>\n",
       "    </tr>\n",
       "    <tr>\n",
       "      <th>1</th>\n",
       "      <td>2021-11-02 03:00</td>\n",
       "    </tr>\n",
       "  </tbody>\n",
       "</table>\n",
       "</div>"
      ],
      "text/plain": [
       "        RECORD_TIME\n",
       "0  2021-11-02 03:30\n",
       "1  2021-11-02 03:00"
      ]
     },
     "execution_count": 3,
     "metadata": {},
     "output_type": "execute_result"
    }
   ],
   "source": [
    "timestamps"
   ]
  },
  {
   "cell_type": "code",
   "execution_count": 4,
   "id": "alternate-victory",
   "metadata": {
    "execution": {
     "iopub.execute_input": "2021-11-02T02:30:09.932188Z",
     "iopub.status.busy": "2021-11-02T02:30:09.929977Z",
     "iopub.status.idle": "2021-11-02T02:30:10.950341Z",
     "shell.execute_reply": "2021-11-02T02:30:10.951856Z"
    },
    "papermill": {
     "duration": 1.054272,
     "end_time": "2021-11-02T02:30:10.952370",
     "exception": false,
     "start_time": "2021-11-02T02:30:09.898098",
     "status": "completed"
    },
    "tags": []
   },
   "outputs": [],
   "source": [
    "df = pd.read_sql(\"select * from EBAY_TOP_BERLIN where record_time in (select distinct record_time from EBAY_TOP_BERLIN order by record_time desc limit 2)\", sqlite3.connect(\"UsedObjects.db\"))"
   ]
  },
  {
   "cell_type": "code",
   "execution_count": 5,
   "id": "popular-active",
   "metadata": {
    "execution": {
     "iopub.execute_input": "2021-11-02T02:30:11.033842Z",
     "iopub.status.busy": "2021-11-02T02:30:11.019367Z",
     "iopub.status.idle": "2021-11-02T02:30:11.052621Z",
     "shell.execute_reply": "2021-11-02T02:30:11.054124Z"
    },
    "papermill": {
     "duration": 0.080223,
     "end_time": "2021-11-02T02:30:11.054602",
     "exception": false,
     "start_time": "2021-11-02T02:30:10.974379",
     "status": "completed"
    },
    "tags": []
   },
   "outputs": [],
   "source": [
    "df_pivot = df.pivot_table(index=\"PRODUCT\", columns = \"RECORD_TIME\", values = \"LISTING_COUNT\")"
   ]
  },
  {
   "cell_type": "code",
   "execution_count": 6,
   "id": "union-huntington",
   "metadata": {
    "execution": {
     "iopub.execute_input": "2021-11-02T02:30:11.117399Z",
     "iopub.status.busy": "2021-11-02T02:30:11.115052Z",
     "iopub.status.idle": "2021-11-02T02:30:11.121148Z",
     "shell.execute_reply": "2021-11-02T02:30:11.122878Z"
    },
    "papermill": {
     "duration": 0.04567,
     "end_time": "2021-11-02T02:30:11.123383",
     "exception": false,
     "start_time": "2021-11-02T02:30:11.077713",
     "status": "completed"
    },
    "tags": []
   },
   "outputs": [],
   "source": [
    "df_pivot.columns = [\"stamp_1\", \"stamp_2\"]\n",
    "df_pivot_diff = df_pivot.diff(axis=1)"
   ]
  },
  {
   "cell_type": "code",
   "execution_count": 7,
   "id": "fifth-motion",
   "metadata": {
    "execution": {
     "iopub.execute_input": "2021-11-02T02:30:11.191183Z",
     "iopub.status.busy": "2021-11-02T02:30:11.181108Z",
     "iopub.status.idle": "2021-11-02T02:30:13.053645Z",
     "shell.execute_reply": "2021-11-02T02:30:13.055848Z"
    },
    "papermill": {
     "duration": 1.911568,
     "end_time": "2021-11-02T02:30:13.056512",
     "exception": false,
     "start_time": "2021-11-02T02:30:11.144944",
     "status": "completed"
    },
    "tags": []
   },
   "outputs": [
    {
     "data": {
      "text/plain": [
       "<AxesSubplot:ylabel='PRODUCT'>"
      ]
     },
     "execution_count": 7,
     "metadata": {},
     "output_type": "execute_result"
    },
    {
     "data": {
      "image/png": "[encoded data removed]",
      "text/plain": [
       "<Figure size 432x288 with 1 Axes>"
      ]
     },
     "metadata": {
      "needs_background": "light"
     },
     "output_type": "display_data"
    }
   ],
   "source": [
    "df_pivot_diff.sort_values(\"stamp_2\", ascending = False)[\"stamp_2\"].head(10).plot.barh()"
   ]
  },
  {
   "cell_type": "code",
   "execution_count": null,
   "id": "extra-executive",
   "metadata": {
    "papermill": {
     "duration": 0.032663,
     "end_time": "2021-11-02T02:30:13.124166",
     "exception": false,
     "start_time": "2021-11-02T02:30:13.091503",
     "status": "completed"
    },
    "tags": []
   },
   "outputs": [],
   "source": []
  }
 ],
 "metadata": {
  "kernelspec": {
   "display_name": "Python 3",
   "language": "python",
   "name": "python3"
  },
  "language_info": {
   "codemirror_mode": {
    "name": "ipython",
    "version": 3
   },
   "file_extension": ".py",
   "mimetype": "text/x-python",
   "name": "python",
   "nbconvert_exporter": "python",
   "pygments_lexer": "ipython3",
   "version": "3.9.5"
  },
  "papermill": {
   "default_parameters": {},
   "duration": 8.672565,
   "end_time": "2021-11-02T02:30:13.979360",
   "environment_variables": {},
   "exception": null,
   "input_path": "eBay_Overview.ipynb",
   "output_path": "eBay_Overview.ipynb",
   "parameters": {},
   "start_time": "2021-11-02T02:30:05.306795",
   "version": "2.3.3"
  }
 },
 "nbformat": 4,
 "nbformat_minor": 5
}