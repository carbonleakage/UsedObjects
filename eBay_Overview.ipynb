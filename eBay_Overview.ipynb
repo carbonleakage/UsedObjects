{
 "cells": [
  {
   "cell_type": "code",
   "execution_count": 1,
   "id": "reverse-picking",
   "metadata": {
    "execution": {
     "iopub.execute_input": "2021-10-23T00:30:06.630542Z",
     "iopub.status.busy": "2021-10-23T00:30:06.628508Z",
     "iopub.status.idle": "2021-10-23T00:30:07.435786Z",
     "shell.execute_reply": "2021-10-23T00:30:07.437123Z"
    },
    "papermill": {
     "duration": 0.860746,
     "end_time": "2021-10-23T00:30:07.437758",
     "exception": false,
     "start_time": "2021-10-23T00:30:06.577012",
     "status": "completed"
    },
    "tags": []
   },
   "outputs": [],
   "source": [
    "import pandas as pd\n",
    "import sqlite3"
   ]
  },
  {
   "cell_type": "code",
   "execution_count": 2,
   "id": "innovative-syndrome",
   "metadata": {
    "execution": {
     "iopub.execute_input": "2021-10-23T00:30:07.490716Z",
     "iopub.status.busy": "2021-10-23T00:30:07.488406Z",
     "iopub.status.idle": "2021-10-23T00:30:08.090121Z",
     "shell.execute_reply": "2021-10-23T00:30:08.091480Z"
    },
    "papermill": {
     "duration": 0.631558,
     "end_time": "2021-10-23T00:30:08.091916",
     "exception": false,
     "start_time": "2021-10-23T00:30:07.460358",
     "status": "completed"
    },
    "tags": []
   },
   "outputs": [],
   "source": [
    "timestamps = pd.read_sql(\"select distinct record_time from EBAY_TOP_BERLIN order by record_time desc limit 2\", sqlite3.connect(\"UsedObjects.db\"))"
   ]
  },
  {
   "cell_type": "code",
   "execution_count": 3,
   "id": "periodic-identification",
   "metadata": {
    "execution": {
     "iopub.execute_input": "2021-10-23T00:30:08.172610Z",
     "iopub.status.busy": "2021-10-23T00:30:08.170595Z",
     "iopub.status.idle": "2021-10-23T00:30:08.192023Z",
     "shell.execute_reply": "2021-10-23T00:30:08.190539Z"
    },
    "papermill": {
     "duration": 0.071112,
     "end_time": "2021-10-23T00:30:08.192396",
     "exception": false,
     "start_time": "2021-10-23T00:30:08.121284",
     "status": "completed"
    },
    "tags": []
   },
   "outputs": [
    {
     "data": {
      "text/html": [
       "<div>\n",
       "<style scoped>\n",
       "    .dataframe tbody tr th:only-of-type {\n",
       "        vertical-align: middle;\n",
       "    }\n",
       "\n",
       "    .dataframe tbody tr th {\n",
       "        vertical-align: top;\n",
       "    }\n",
       "\n",
       "    .dataframe thead th {\n",
       "        text-align: right;\n",
       "    }\n",
       "</style>\n",
       "<table border=\"1\" class=\"dataframe\">\n",
       "  <thead>\n",
       "    <tr style=\"text-align: right;\">\n",
       "      <th></th>\n",
       "      <th>RECORD_TIME</th>\n",
       "    </tr>\n",
       "  </thead>\n",
       "  <tbody>\n",
       "    <tr>\n",
       "      <th>0</th>\n",
       "      <td>2021-10-23 02:30</td>\n",
       "    </tr>\n",
       "    <tr>\n",
       "      <th>1</th>\n",
       "      <td>2021-10-23 02:00</td>\n",
       "    </tr>\n",
       "  </tbody>\n",
       "</table>\n",
       "</div>"
      ],
      "text/plain": [
       "        RECORD_TIME\n",
       "0  2021-10-23 02:30\n",
       "1  2021-10-23 02:00"
      ]
     },
     "execution_count": 3,
     "metadata": {},
     "output_type": "execute_result"
    }
   ],
   "source": [
    "timestamps"
   ]
  },
  {
   "cell_type": "code",
   "execution_count": 4,
   "id": "alternate-victory",
   "metadata": {
    "execution": {
     "iopub.execute_input": "2021-10-23T00:30:08.244279Z",
     "iopub.status.busy": "2021-10-23T00:30:08.242345Z",
     "iopub.status.idle": "2021-10-23T00:30:09.115601Z",
     "shell.execute_reply": "2021-10-23T00:30:09.116851Z"
    },
    "papermill": {
     "duration": 0.903762,
     "end_time": "2021-10-23T00:30:09.117295",
     "exception": false,
     "start_time": "2021-10-23T00:30:08.213533",
     "status": "completed"
    },
    "tags": []
   },
   "outputs": [],
   "source": [
    "df = pd.read_sql(\"select * from EBAY_TOP_BERLIN where record_time in (select distinct record_time from EBAY_TOP_BERLIN order by record_time desc limit 2)\", sqlite3.connect(\"UsedObjects.db\"))"
   ]
  },
  {
   "cell_type": "code",
   "execution_count": 5,
   "id": "popular-active",
   "metadata": {
    "execution": {
     "iopub.execute_input": "2021-10-23T00:30:09.182920Z",
     "iopub.status.busy": "2021-10-23T00:30:09.174415Z",
     "iopub.status.idle": "2021-10-23T00:30:09.204106Z",
     "shell.execute_reply": "2021-10-23T00:30:09.205565Z"
    },
    "papermill": {
     "duration": 0.067805,
     "end_time": "2021-10-23T00:30:09.205984",
     "exception": false,
     "start_time": "2021-10-23T00:30:09.138179",
     "status": "completed"
    },
    "tags": []
   },
   "outputs": [],
   "source": [
    "df_pivot = df.pivot_table(index=\"PRODUCT\", columns = \"RECORD_TIME\", values = \"LISTING_COUNT\")"
   ]
  },
  {
   "cell_type": "code",
   "execution_count": 6,
   "id": "union-huntington",
   "metadata": {
    "execution": {
     "iopub.execute_input": "2021-10-23T00:30:09.264286Z",
     "iopub.status.busy": "2021-10-23T00:30:09.261971Z",
     "iopub.status.idle": "2021-10-23T00:30:09.269005Z",
     "shell.execute_reply": "2021-10-23T00:30:09.267638Z"
    },
    "papermill": {
     "duration": 0.041762,
     "end_time": "2021-10-23T00:30:09.269375",
     "exception": false,
     "start_time": "2021-10-23T00:30:09.227613",
     "status": "completed"
    },
    "tags": []
   },
   "outputs": [],
   "source": [
    "df_pivot.columns = [\"stamp_1\", \"stamp_2\"]\n",
    "df_pivot_diff = df_pivot.diff(axis=1)"
   ]
  },
  {
   "cell_type": "code",
   "execution_count": 7,
   "id": "fifth-motion",
   "metadata": {
    "execution": {
     "iopub.execute_input": "2021-10-23T00:30:09.324196Z",
     "iopub.status.busy": "2021-10-23T00:30:09.321926Z",
     "iopub.status.idle": "2021-10-23T00:30:10.798423Z",
     "shell.execute_reply": "2021-10-23T00:30:10.799704Z"
    },
    "papermill": {
     "duration": 1.510082,
     "end_time": "2021-10-23T00:30:10.800120",
     "exception": false,
     "start_time": "2021-10-23T00:30:09.290038",
     "status": "completed"
    },
    "tags": []
   },
   "outputs": [
    {
     "data": {
      "text/plain": [
       "<AxesSubplot:ylabel='PRODUCT'>"
      ]
     },
     "execution_count": 7,
     "metadata": {},
     "output_type": "execute_result"
    },
    {
     "data": {
      "image/png": "[encoded data removed]",
      "text/plain": [
       "<Figure size 432x288 with 1 Axes>"
      ]
     },
     "metadata": {
      "needs_background": "light"
     },
     "output_type": "display_data"
    }
   ],
   "source": [
    "df_pivot_diff.sort_values(\"stamp_2\", ascending = False)[\"stamp_2\"].head(10).plot.barh()"
   ]
  },
  {
   "cell_type": "code",
   "execution_count": null,
   "id": "extra-executive",
   "metadata": {
    "papermill": {
     "duration": 0.022503,
     "end_time": "2021-10-23T00:30:10.849103",
     "exception": false,
     "start_time": "2021-10-23T00:30:10.826600",
     "status": "completed"
    },
    "tags": []
   },
   "outputs": [],
   "source": []
  }
 ],
 "metadata": {
  "kernelspec": {
   "display_name": "Python 3",
   "language": "python",
   "name": "python3"
  },
  "language_info": {
   "codemirror_mode": {
    "name": "ipython",
    "version": 3
   },
   "file_extension": ".py",
   "mimetype": "text/x-python",
   "name": "python",
   "nbconvert_exporter": "python",
   "pygments_lexer": "ipython3",
   "version": "3.9.5"
  },
  "papermill": {
   "default_parameters": {},
   "duration": 7.825952,
   "end_time": "2021-10-23T00:30:11.990178",
   "environment_variables": {},
   "exception": null,
   "input_path": "eBay_Overview.ipynb",
   "output_path": "eBay_Overview.ipynb",
   "parameters": {},
   "start_time": "2021-10-23T00:30:04.164226",
   "version": "2.3.3"
  }
 },
 "nbformat": 4,
 "nbformat_minor": 5
}