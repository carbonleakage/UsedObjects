{
 "cells": [
  {
   "cell_type": "code",
   "execution_count": 1,
   "id": "reverse-picking",
   "metadata": {
    "execution": {
     "iopub.execute_input": "2021-12-20T21:00:07.395664Z",
     "iopub.status.busy": "2021-12-20T21:00:07.392890Z",
     "iopub.status.idle": "2021-12-20T21:00:08.351956Z",
     "shell.execute_reply": "2021-12-20T21:00:08.349993Z"
    },
    "papermill": {
     "duration": 1.008126,
     "end_time": "2021-12-20T21:00:08.352486",
     "exception": false,
     "start_time": "2021-12-20T21:00:07.344360",
     "status": "completed"
    },
    "tags": []
   },
   "outputs": [],
   "source": [
    "import pandas as pd\n",
    "import sqlite3"
   ]
  },
  {
   "cell_type": "code",
   "execution_count": 2,
   "id": "innovative-syndrome",
   "metadata": {
    "execution": {
     "iopub.execute_input": "2021-12-20T21:00:08.424146Z",
     "iopub.status.busy": "2021-12-20T21:00:08.421864Z",
     "iopub.status.idle": "2021-12-20T21:00:09.555453Z",
     "shell.execute_reply": "2021-12-20T21:00:09.556832Z"
    },
    "papermill": {
     "duration": 1.181965,
     "end_time": "2021-12-20T21:00:09.557308",
     "exception": false,
     "start_time": "2021-12-20T21:00:08.375343",
     "status": "completed"
    },
    "tags": []
   },
   "outputs": [],
   "source": [
    "timestamps = pd.read_sql(\"select distinct record_time from EBAY_TOP_BERLIN order by record_time desc limit 2\", sqlite3.connect(\"UsedObjects.db\"))"
   ]
  },
  {
   "cell_type": "code",
   "execution_count": 3,
   "id": "periodic-identification",
   "metadata": {
    "execution": {
     "iopub.execute_input": "2021-12-20T21:00:09.627484Z",
     "iopub.status.busy": "2021-12-20T21:00:09.622264Z",
     "iopub.status.idle": "2021-12-20T21:00:09.643153Z",
     "shell.execute_reply": "2021-12-20T21:00:09.644421Z"
    },
    "papermill": {
     "duration": 0.068024,
     "end_time": "2021-12-20T21:00:09.644970",
     "exception": false,
     "start_time": "2021-12-20T21:00:09.576946",
     "status": "completed"
    },
    "tags": []
   },
   "outputs": [
    {
     "data": {
      "text/html": [
       "<div>\n",
       "<style scoped>\n",
       "    .dataframe tbody tr th:only-of-type {\n",
       "        vertical-align: middle;\n",
       "    }\n",
       "\n",
       "    .dataframe tbody tr th {\n",
       "        vertical-align: top;\n",
       "    }\n",
       "\n",
       "    .dataframe thead th {\n",
       "        text-align: right;\n",
       "    }\n",
       "</style>\n",
       "<table border=\"1\" class=\"dataframe\">\n",
       "  <thead>\n",
       "    <tr style=\"text-align: right;\">\n",
       "      <th></th>\n",
       "      <th>RECORD_TIME</th>\n",
       "    </tr>\n",
       "  </thead>\n",
       "  <tbody>\n",
       "    <tr>\n",
       "      <th>0</th>\n",
       "      <td>2021-12-20 22:00</td>\n",
       "    </tr>\n",
       "    <tr>\n",
       "      <th>1</th>\n",
       "      <td>2021-12-20 21:30</td>\n",
       "    </tr>\n",
       "  </tbody>\n",
       "</table>\n",
       "</div>"
      ],
      "text/plain": [
       "        RECORD_TIME\n",
       "0  2021-12-20 22:00\n",
       "1  2021-12-20 21:30"
      ]
     },
     "execution_count": 3,
     "metadata": {},
     "output_type": "execute_result"
    }
   ],
   "source": [
    "timestamps"
   ]
  },
  {
   "cell_type": "code",
   "execution_count": 4,
   "id": "alternate-victory",
   "metadata": {
    "execution": {
     "iopub.execute_input": "2021-12-20T21:00:09.699121Z",
     "iopub.status.busy": "2021-12-20T21:00:09.696997Z",
     "iopub.status.idle": "2021-12-20T21:00:11.384129Z",
     "shell.execute_reply": "2021-12-20T21:00:11.385681Z"
    },
    "papermill": {
     "duration": 1.71947,
     "end_time": "2021-12-20T21:00:11.386153",
     "exception": false,
     "start_time": "2021-12-20T21:00:09.666683",
     "status": "completed"
    },
    "tags": []
   },
   "outputs": [],
   "source": [
    "df = pd.read_sql(\"select * from EBAY_TOP_BERLIN where record_time in (select distinct record_time from EBAY_TOP_BERLIN order by record_time desc limit 2)\", sqlite3.connect(\"UsedObjects.db\"))"
   ]
  },
  {
   "cell_type": "code",
   "execution_count": 5,
   "id": "popular-active",
   "metadata": {
    "execution": {
     "iopub.execute_input": "2021-12-20T21:00:11.460843Z",
     "iopub.status.busy": "2021-12-20T21:00:11.458728Z",
     "iopub.status.idle": "2021-12-20T21:00:11.481592Z",
     "shell.execute_reply": "2021-12-20T21:00:11.483077Z"
    },
    "papermill": {
     "duration": 0.076571,
     "end_time": "2021-12-20T21:00:11.483541",
     "exception": false,
     "start_time": "2021-12-20T21:00:11.406970",
     "status": "completed"
    },
    "tags": []
   },
   "outputs": [],
   "source": [
    "df_pivot = df.pivot_table(index=\"PRODUCT\", columns = \"RECORD_TIME\", values = \"LISTING_COUNT\")"
   ]
  },
  {
   "cell_type": "code",
   "execution_count": 6,
   "id": "union-huntington",
   "metadata": {
    "execution": {
     "iopub.execute_input": "2021-12-20T21:00:11.541880Z",
     "iopub.status.busy": "2021-12-20T21:00:11.539542Z",
     "iopub.status.idle": "2021-12-20T21:00:11.546498Z",
     "shell.execute_reply": "2021-12-20T21:00:11.547982Z"
    },
    "papermill": {
     "duration": 0.045099,
     "end_time": "2021-12-20T21:00:11.548449",
     "exception": false,
     "start_time": "2021-12-20T21:00:11.503350",
     "status": "completed"
    },
    "tags": []
   },
   "outputs": [],
   "source": [
    "df_pivot.columns = [\"stamp_1\", \"stamp_2\"]\n",
    "df_pivot_diff = df_pivot.diff(axis=1)"
   ]
  },
  {
   "cell_type": "code",
   "execution_count": 7,
   "id": "fifth-motion",
   "metadata": {
    "execution": {
     "iopub.execute_input": "2021-12-20T21:00:11.607535Z",
     "iopub.status.busy": "2021-12-20T21:00:11.604607Z",
     "iopub.status.idle": "2021-12-20T21:00:13.601696Z",
     "shell.execute_reply": "2021-12-20T21:00:13.603055Z"
    },
    "papermill": {
     "duration": 2.034662,
     "end_time": "2021-12-20T21:00:13.603484",
     "exception": false,
     "start_time": "2021-12-20T21:00:11.568822",
     "status": "completed"
    },
    "tags": []
   },
   "outputs": [
    {
     "data": {
      "text/plain": [
       "<AxesSubplot:ylabel='PRODUCT'>"
      ]
     },
     "execution_count": 7,
     "metadata": {},
     "output_type": "execute_result"
    },
    {
     "data": {
      "image/png": "[encoded data removed]",
      "text/plain": [
       "<Figure size 432x288 with 1 Axes>"
      ]
     },
     "metadata": {
      "needs_background": "light"
     },
     "output_type": "display_data"
    }
   ],
   "source": [
    "df_pivot_diff.sort_values(\"stamp_2\", ascending = False)[\"stamp_2\"].head(10).plot.barh()"
   ]
  },
  {
   "cell_type": "code",
   "execution_count": null,
   "id": "extra-executive",
   "metadata": {
    "papermill": {
     "duration": 0.02842,
     "end_time": "2021-12-20T21:00:13.666369",
     "exception": false,
     "start_time": "2021-12-20T21:00:13.637949",
     "status": "completed"
    },
    "tags": []
   },
   "outputs": [],
   "source": []
  }
 ],
 "metadata": {
  "kernelspec": {
   "display_name": "Python 3",
   "language": "python",
   "name": "python3"
  },
  "language_info": {
   "codemirror_mode": {
    "name": "ipython",
    "version": 3
   },
   "file_extension": ".py",
   "mimetype": "text/x-python",
   "name": "python",
   "nbconvert_exporter": "python",
   "pygments_lexer": "ipython3",
   "version": "3.9.5"
  },
  "papermill": {
   "default_parameters": {},
   "duration": 9.725216,
   "end_time": "2021-12-20T21:00:14.323331",
   "environment_variables": {},
   "exception": null,
   "input_path": "eBay_Overview.ipynb",
   "output_path": "eBay_Overview.ipynb",
   "parameters": {},
   "start_time": "2021-12-20T21:00:04.598115",
   "version": "2.3.3"
  }
 },
 "nbformat": 4,
 "nbformat_minor": 5
}