{
 "cells": [
  {
   "cell_type": "code",
   "execution_count": 1,
   "id": "reverse-picking",
   "metadata": {
    "execution": {
     "iopub.execute_input": "2021-11-01T20:00:07.635120Z",
     "iopub.status.busy": "2021-11-01T20:00:07.632276Z",
     "iopub.status.idle": "2021-11-01T20:00:08.576635Z",
     "shell.execute_reply": "2021-11-01T20:00:08.578219Z"
    },
    "papermill": {
     "duration": 0.996402,
     "end_time": "2021-11-01T20:00:08.578931",
     "exception": false,
     "start_time": "2021-11-01T20:00:07.582529",
     "status": "completed"
    },
    "tags": []
   },
   "outputs": [],
   "source": [
    "import pandas as pd\n",
    "import sqlite3"
   ]
  },
  {
   "cell_type": "code",
   "execution_count": 2,
   "id": "innovative-syndrome",
   "metadata": {
    "execution": {
     "iopub.execute_input": "2021-11-01T20:00:08.640590Z",
     "iopub.status.busy": "2021-11-01T20:00:08.638417Z",
     "iopub.status.idle": "2021-11-01T20:00:09.349353Z",
     "shell.execute_reply": "2021-11-01T20:00:09.350916Z"
    },
    "papermill": {
     "duration": 0.744691,
     "end_time": "2021-11-01T20:00:09.351480",
     "exception": false,
     "start_time": "2021-11-01T20:00:08.606789",
     "status": "completed"
    },
    "tags": []
   },
   "outputs": [],
   "source": [
    "timestamps = pd.read_sql(\"select distinct record_time from EBAY_TOP_BERLIN order by record_time desc limit 2\", sqlite3.connect(\"UsedObjects.db\"))"
   ]
  },
  {
   "cell_type": "code",
   "execution_count": 3,
   "id": "periodic-identification",
   "metadata": {
    "execution": {
     "iopub.execute_input": "2021-11-01T20:00:09.425741Z",
     "iopub.status.busy": "2021-11-01T20:00:09.423312Z",
     "iopub.status.idle": "2021-11-01T20:00:09.446529Z",
     "shell.execute_reply": "2021-11-01T20:00:09.448062Z"
    },
    "papermill": {
     "duration": 0.074929,
     "end_time": "2021-11-01T20:00:09.448550",
     "exception": false,
     "start_time": "2021-11-01T20:00:09.373621",
     "status": "completed"
    },
    "tags": []
   },
   "outputs": [
    {
     "data": {
      "text/html": [
       "<div>\n",
       "<style scoped>\n",
       "    .dataframe tbody tr th:only-of-type {\n",
       "        vertical-align: middle;\n",
       "    }\n",
       "\n",
       "    .dataframe tbody tr th {\n",
       "        vertical-align: top;\n",
       "    }\n",
       "\n",
       "    .dataframe thead th {\n",
       "        text-align: right;\n",
       "    }\n",
       "</style>\n",
       "<table border=\"1\" class=\"dataframe\">\n",
       "  <thead>\n",
       "    <tr style=\"text-align: right;\">\n",
       "      <th></th>\n",
       "      <th>RECORD_TIME</th>\n",
       "    </tr>\n",
       "  </thead>\n",
       "  <tbody>\n",
       "    <tr>\n",
       "      <th>0</th>\n",
       "      <td>2021-11-01 21:00</td>\n",
       "    </tr>\n",
       "    <tr>\n",
       "      <th>1</th>\n",
       "      <td>2021-11-01 20:30</td>\n",
       "    </tr>\n",
       "  </tbody>\n",
       "</table>\n",
       "</div>"
      ],
      "text/plain": [
       "        RECORD_TIME\n",
       "0  2021-11-01 21:00\n",
       "1  2021-11-01 20:30"
      ]
     },
     "execution_count": 3,
     "metadata": {},
     "output_type": "execute_result"
    }
   ],
   "source": [
    "timestamps"
   ]
  },
  {
   "cell_type": "code",
   "execution_count": 4,
   "id": "alternate-victory",
   "metadata": {
    "execution": {
     "iopub.execute_input": "2021-11-01T20:00:09.505584Z",
     "iopub.status.busy": "2021-11-01T20:00:09.503217Z",
     "iopub.status.idle": "2021-11-01T20:00:10.527603Z",
     "shell.execute_reply": "2021-11-01T20:00:10.529364Z"
    },
    "papermill": {
     "duration": 1.06003,
     "end_time": "2021-11-01T20:00:10.529870",
     "exception": false,
     "start_time": "2021-11-01T20:00:09.469840",
     "status": "completed"
    },
    "tags": []
   },
   "outputs": [],
   "source": [
    "df = pd.read_sql(\"select * from EBAY_TOP_BERLIN where record_time in (select distinct record_time from EBAY_TOP_BERLIN order by record_time desc limit 2)\", sqlite3.connect(\"UsedObjects.db\"))"
   ]
  },
  {
   "cell_type": "code",
   "execution_count": 5,
   "id": "popular-active",
   "metadata": {
    "execution": {
     "iopub.execute_input": "2021-11-01T20:00:10.605678Z",
     "iopub.status.busy": "2021-11-01T20:00:10.592923Z",
     "iopub.status.idle": "2021-11-01T20:00:10.623977Z",
     "shell.execute_reply": "2021-11-01T20:00:10.625360Z"
    },
    "papermill": {
     "duration": 0.073102,
     "end_time": "2021-11-01T20:00:10.625844",
     "exception": false,
     "start_time": "2021-11-01T20:00:10.552742",
     "status": "completed"
    },
    "tags": []
   },
   "outputs": [],
   "source": [
    "df_pivot = df.pivot_table(index=\"PRODUCT\", columns = \"RECORD_TIME\", values = \"LISTING_COUNT\")"
   ]
  },
  {
   "cell_type": "code",
   "execution_count": 6,
   "id": "union-huntington",
   "metadata": {
    "execution": {
     "iopub.execute_input": "2021-11-01T20:00:10.686895Z",
     "iopub.status.busy": "2021-11-01T20:00:10.683773Z",
     "iopub.status.idle": "2021-11-01T20:00:10.690748Z",
     "shell.execute_reply": "2021-11-01T20:00:10.692054Z"
    },
    "papermill": {
     "duration": 0.046648,
     "end_time": "2021-11-01T20:00:10.692516",
     "exception": false,
     "start_time": "2021-11-01T20:00:10.645868",
     "status": "completed"
    },
    "tags": []
   },
   "outputs": [],
   "source": [
    "df_pivot.columns = [\"stamp_1\", \"stamp_2\"]\n",
    "df_pivot_diff = df_pivot.diff(axis=1)"
   ]
  },
  {
   "cell_type": "code",
   "execution_count": 7,
   "id": "fifth-motion",
   "metadata": {
    "execution": {
     "iopub.execute_input": "2021-11-01T20:00:10.775370Z",
     "iopub.status.busy": "2021-11-01T20:00:10.772103Z",
     "iopub.status.idle": "2021-11-01T20:00:12.667084Z",
     "shell.execute_reply": "2021-11-01T20:00:12.668421Z"
    },
    "papermill": {
     "duration": 1.949463,
     "end_time": "2021-11-01T20:00:12.668973",
     "exception": false,
     "start_time": "2021-11-01T20:00:10.719510",
     "status": "completed"
    },
    "tags": []
   },
   "outputs": [
    {
     "data": {
      "text/plain": [
       "<AxesSubplot:ylabel='PRODUCT'>"
      ]
     },
     "execution_count": 7,
     "metadata": {},
     "output_type": "execute_result"
    },
    {
     "data": {
      "image/png": "[encoded data removed]",
      "text/plain": [
       "<Figure size 432x288 with 1 Axes>"
      ]
     },
     "metadata": {
      "needs_background": "light"
     },
     "output_type": "display_data"
    }
   ],
   "source": [
    "df_pivot_diff.sort_values(\"stamp_2\", ascending = False)[\"stamp_2\"].head(10).plot.barh()"
   ]
  },
  {
   "cell_type": "code",
   "execution_count": null,
   "id": "extra-executive",
   "metadata": {
    "papermill": {
     "duration": 0.023249,
     "end_time": "2021-11-01T20:00:12.716916",
     "exception": false,
     "start_time": "2021-11-01T20:00:12.693667",
     "status": "completed"
    },
    "tags": []
   },
   "outputs": [],
   "source": []
  }
 ],
 "metadata": {
  "kernelspec": {
   "display_name": "Python 3",
   "language": "python",
   "name": "python3"
  },
  "language_info": {
   "codemirror_mode": {
    "name": "ipython",
    "version": 3
   },
   "file_extension": ".py",
   "mimetype": "text/x-python",
   "name": "python",
   "nbconvert_exporter": "python",
   "pygments_lexer": "ipython3",
   "version": "3.9.5"
  },
  "papermill": {
   "default_parameters": {},
   "duration": 8.676094,
   "end_time": "2021-11-01T20:00:13.567997",
   "environment_variables": {},
   "exception": null,
   "input_path": "eBay_Overview.ipynb",
   "output_path": "eBay_Overview.ipynb",
   "parameters": {},
   "start_time": "2021-11-01T20:00:04.891903",
   "version": "2.3.3"
  }
 },
 "nbformat": 4,
 "nbformat_minor": 5
}