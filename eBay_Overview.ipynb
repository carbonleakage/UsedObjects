{
 "cells": [
  {
   "cell_type": "code",
   "execution_count": 1,
   "id": "reverse-picking",
   "metadata": {
    "execution": {
     "iopub.execute_input": "2021-11-18T21:30:07.559822Z",
     "iopub.status.busy": "2021-11-18T21:30:07.554310Z",
     "iopub.status.idle": "2021-11-18T21:30:08.497961Z",
     "shell.execute_reply": "2021-11-18T21:30:08.499516Z"
    },
    "papermill": {
     "duration": 0.993573,
     "end_time": "2021-11-18T21:30:08.500251",
     "exception": false,
     "start_time": "2021-11-18T21:30:07.506678",
     "status": "completed"
    },
    "tags": []
   },
   "outputs": [],
   "source": [
    "import pandas as pd\n",
    "import sqlite3"
   ]
  },
  {
   "cell_type": "code",
   "execution_count": 2,
   "id": "innovative-syndrome",
   "metadata": {
    "execution": {
     "iopub.execute_input": "2021-11-18T21:30:08.562053Z",
     "iopub.status.busy": "2021-11-18T21:30:08.559562Z",
     "iopub.status.idle": "2021-11-18T21:30:09.420040Z",
     "shell.execute_reply": "2021-11-18T21:30:09.421630Z"
    },
    "papermill": {
     "duration": 0.900662,
     "end_time": "2021-11-18T21:30:09.422127",
     "exception": false,
     "start_time": "2021-11-18T21:30:08.521465",
     "status": "completed"
    },
    "tags": []
   },
   "outputs": [],
   "source": [
    "timestamps = pd.read_sql(\"select distinct record_time from EBAY_TOP_BERLIN order by record_time desc limit 2\", sqlite3.connect(\"UsedObjects.db\"))"
   ]
  },
  {
   "cell_type": "code",
   "execution_count": 3,
   "id": "periodic-identification",
   "metadata": {
    "execution": {
     "iopub.execute_input": "2021-11-18T21:30:09.497299Z",
     "iopub.status.busy": "2021-11-18T21:30:09.491469Z",
     "iopub.status.idle": "2021-11-18T21:30:09.514663Z",
     "shell.execute_reply": "2021-11-18T21:30:09.517196Z"
    },
    "papermill": {
     "duration": 0.075222,
     "end_time": "2021-11-18T21:30:09.517926",
     "exception": false,
     "start_time": "2021-11-18T21:30:09.442704",
     "status": "completed"
    },
    "tags": []
   },
   "outputs": [
    {
     "data": {
      "text/html": [
       "<div>\n",
       "<style scoped>\n",
       "    .dataframe tbody tr th:only-of-type {\n",
       "        vertical-align: middle;\n",
       "    }\n",
       "\n",
       "    .dataframe tbody tr th {\n",
       "        vertical-align: top;\n",
       "    }\n",
       "\n",
       "    .dataframe thead th {\n",
       "        text-align: right;\n",
       "    }\n",
       "</style>\n",
       "<table border=\"1\" class=\"dataframe\">\n",
       "  <thead>\n",
       "    <tr style=\"text-align: right;\">\n",
       "      <th></th>\n",
       "      <th>RECORD_TIME</th>\n",
       "    </tr>\n",
       "  </thead>\n",
       "  <tbody>\n",
       "    <tr>\n",
       "      <th>0</th>\n",
       "      <td>2021-11-18 22:30</td>\n",
       "    </tr>\n",
       "    <tr>\n",
       "      <th>1</th>\n",
       "      <td>2021-11-18 22:00</td>\n",
       "    </tr>\n",
       "  </tbody>\n",
       "</table>\n",
       "</div>"
      ],
      "text/plain": [
       "        RECORD_TIME\n",
       "0  2021-11-18 22:30\n",
       "1  2021-11-18 22:00"
      ]
     },
     "execution_count": 3,
     "metadata": {},
     "output_type": "execute_result"
    }
   ],
   "source": [
    "timestamps"
   ]
  },
  {
   "cell_type": "code",
   "execution_count": 4,
   "id": "alternate-victory",
   "metadata": {
    "execution": {
     "iopub.execute_input": "2021-11-18T21:30:09.587706Z",
     "iopub.status.busy": "2021-11-18T21:30:09.585546Z",
     "iopub.status.idle": "2021-11-18T21:30:10.822122Z",
     "shell.execute_reply": "2021-11-18T21:30:10.823598Z"
    },
    "papermill": {
     "duration": 1.277661,
     "end_time": "2021-11-18T21:30:10.824088",
     "exception": false,
     "start_time": "2021-11-18T21:30:09.546427",
     "status": "completed"
    },
    "tags": []
   },
   "outputs": [],
   "source": [
    "df = pd.read_sql(\"select * from EBAY_TOP_BERLIN where record_time in (select distinct record_time from EBAY_TOP_BERLIN order by record_time desc limit 2)\", sqlite3.connect(\"UsedObjects.db\"))"
   ]
  },
  {
   "cell_type": "code",
   "execution_count": 5,
   "id": "popular-active",
   "metadata": {
    "execution": {
     "iopub.execute_input": "2021-11-18T21:30:10.895188Z",
     "iopub.status.busy": "2021-11-18T21:30:10.887892Z",
     "iopub.status.idle": "2021-11-18T21:30:10.922723Z",
     "shell.execute_reply": "2021-11-18T21:30:10.921060Z"
    },
    "papermill": {
     "duration": 0.076688,
     "end_time": "2021-11-18T21:30:10.923149",
     "exception": false,
     "start_time": "2021-11-18T21:30:10.846461",
     "status": "completed"
    },
    "tags": []
   },
   "outputs": [],
   "source": [
    "df_pivot = df.pivot_table(index=\"PRODUCT\", columns = \"RECORD_TIME\", values = \"LISTING_COUNT\")"
   ]
  },
  {
   "cell_type": "code",
   "execution_count": 6,
   "id": "union-huntington",
   "metadata": {
    "execution": {
     "iopub.execute_input": "2021-11-18T21:30:10.984667Z",
     "iopub.status.busy": "2021-11-18T21:30:10.982374Z",
     "iopub.status.idle": "2021-11-18T21:30:10.988181Z",
     "shell.execute_reply": "2021-11-18T21:30:10.989888Z"
    },
    "papermill": {
     "duration": 0.046071,
     "end_time": "2021-11-18T21:30:10.990388",
     "exception": false,
     "start_time": "2021-11-18T21:30:10.944317",
     "status": "completed"
    },
    "tags": []
   },
   "outputs": [],
   "source": [
    "df_pivot.columns = [\"stamp_1\", \"stamp_2\"]\n",
    "df_pivot_diff = df_pivot.diff(axis=1)"
   ]
  },
  {
   "cell_type": "code",
   "execution_count": 7,
   "id": "fifth-motion",
   "metadata": {
    "execution": {
     "iopub.execute_input": "2021-11-18T21:30:11.060310Z",
     "iopub.status.busy": "2021-11-18T21:30:11.048213Z",
     "iopub.status.idle": "2021-11-18T21:30:12.787590Z",
     "shell.execute_reply": "2021-11-18T21:30:12.789031Z"
    },
    "papermill": {
     "duration": 1.776121,
     "end_time": "2021-11-18T21:30:12.789507",
     "exception": false,
     "start_time": "2021-11-18T21:30:11.013386",
     "status": "completed"
    },
    "tags": []
   },
   "outputs": [
    {
     "data": {
      "text/plain": [
       "<AxesSubplot:ylabel='PRODUCT'>"
      ]
     },
     "execution_count": 7,
     "metadata": {},
     "output_type": "execute_result"
    },
    {
     "data": {
      "image/png": "[encoded data removed]",
      "text/plain": [
       "<Figure size 432x288 with 1 Axes>"
      ]
     },
     "metadata": {
      "needs_background": "light"
     },
     "output_type": "display_data"
    }
   ],
   "source": [
    "df_pivot_diff.sort_values(\"stamp_2\", ascending = False)[\"stamp_2\"].head(10).plot.barh()"
   ]
  },
  {
   "cell_type": "code",
   "execution_count": null,
   "id": "extra-executive",
   "metadata": {
    "papermill": {
     "duration": 0.024787,
     "end_time": "2021-11-18T21:30:12.839888",
     "exception": false,
     "start_time": "2021-11-18T21:30:12.815101",
     "status": "completed"
    },
    "tags": []
   },
   "outputs": [],
   "source": []
  }
 ],
 "metadata": {
  "kernelspec": {
   "display_name": "Python 3",
   "language": "python",
   "name": "python3"
  },
  "language_info": {
   "codemirror_mode": {
    "name": "ipython",
    "version": 3
   },
   "file_extension": ".py",
   "mimetype": "text/x-python",
   "name": "python",
   "nbconvert_exporter": "python",
   "pygments_lexer": "ipython3",
   "version": "3.9.5"
  },
  "papermill": {
   "default_parameters": {},
   "duration": 8.983084,
   "end_time": "2021-11-18T21:30:13.697311",
   "environment_variables": {},
   "exception": null,
   "input_path": "eBay_Overview.ipynb",
   "output_path": "eBay_Overview.ipynb",
   "parameters": {},
   "start_time": "2021-11-18T21:30:04.714227",
   "version": "2.3.3"
  }
 },
 "nbformat": 4,
 "nbformat_minor": 5
}